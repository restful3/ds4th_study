{
  "cells": [
    {
      "cell_type": "markdown",
      "metadata": {
        "id": "view-in-github",
        "colab_type": "text"
      },
      "source": [
        "<a href=\"https://colab.research.google.com/github/restful3/ds4th_study/blob/main/ch04_%EC%8B%A0%EA%B2%BD%EB%A7%9D_%ED%95%99%EC%8A%B5.ipynb\" target=\"_parent\"><img src=\"https://colab.research.google.com/assets/colab-badge.svg\" alt=\"Open In Colab\"/></a>"
      ]
    },
    {
      "cell_type": "code",
      "execution_count": null,
      "id": "cGQ69EzpOEFf",
      "metadata": {
        "colab": {
          "base_uri": "https://localhost:8080/"
        },
        "id": "cGQ69EzpOEFf",
        "outputId": "44bb5848-f7fb-4447-a5c2-b6004b4ae76f"
      },
      "outputs": [
        {
          "name": "stdout",
          "output_type": "stream",
          "text": [
            "Mounted at /content/drive\n"
          ]
        }
      ],
      "source": [
        "from google.colab import drive\n",
        "drive.mount('/content/drive')"
      ]
    },
    {
      "cell_type": "code",
      "execution_count": null,
      "id": "S95yEPp2OJWm",
      "metadata": {
        "colab": {
          "base_uri": "https://localhost:8080/"
        },
        "id": "S95yEPp2OJWm",
        "outputId": "332b8b38-e87f-4fa0-afad-fa38b353d517"
      },
      "outputs": [
        {
          "name": "stdout",
          "output_type": "stream",
          "text": [
            "/content/drive/MyDrive/SelfStudy/ds4th_study/source/밑바닥부터_시작하는_딥러닝\n"
          ]
        }
      ],
      "source": [
        "cd /content/drive/MyDrive/SelfStudy/ds4th_study/source/밑바닥부터_시작하는_딥러닝"
      ]
    },
    {
      "cell_type": "markdown",
      "id": "f0952fe8-221d-4b22-875a-155530de4328",
      "metadata": {
        "id": "f0952fe8-221d-4b22-875a-155530de4328"
      },
      "source": [
        "# Chapter 4 신경망 학습\n",
        "- 학습 - 훈련데이터로부터 가중치 매개변수의 최적값을 자동으로 획득하는 것\n",
        "- 이번장에서는 신경망이 학습을 할 수 있도록 해주는 지표인 손실함수에 대해 자세히 알아보자\n",
        "    - 손실함수의 결과값을 가장 작게 만드는 가중치 매개변수를 찾는 것이 학습의 목표"
      ]
    },
    {
      "cell_type": "markdown",
      "id": "15e09006-9f80-4bed-b3be-7cf380f74ebf",
      "metadata": {
        "id": "15e09006-9f80-4bed-b3be-7cf380f74ebf"
      },
      "source": [
        "## 4.1 데이터에서 학습한다!\n",
        "### 4.1.1 데이터주도학습\n",
        "- 실제 신경망에서는 매개변수가 수만개~ 수억개가 있기에 수작업은 불가능\n",
        "    - 알고리즘을 '설계'하는 대신 주어진 데이터를 잘 활용해서 해결하는 것이 필요\n",
        "    - 예> 이미지에서 '특징'울 추출하고 그 특징의 패턴을 기계학습\n",
        "> 그림 4-2 규칙을 '사람'이 만드는 방식에서 '기계'가 데이터로부터 배우는 방식으로의 파라다임의 전환<br>\n",
        "회색블록은 사람이 개입하지 않음을 뜻함\n",
        "<img src='https://drive.google.com/uc?id=1xTXBf7wwIZBDYQfO6dC34Q2wtXBb008o'>"
      ]
    },
    {
      "cell_type": "markdown",
      "id": "c7afdc58-5a26-413d-8fac-f2175e2a1f9c",
      "metadata": {
        "id": "c7afdc58-5a26-413d-8fac-f2175e2a1f9c"
      },
      "source": [
        "### 4.1.2 훈련데이터, 실험데이터\n",
        "-기계학습은 오버피팅을 방지하기 위해 훈련데이터, 테스트데이터를 구분한다."
      ]
    },
    {
      "cell_type": "markdown",
      "id": "5a19009e-1505-4e2d-a0bd-328c6217ae59",
      "metadata": {
        "id": "5a19009e-1505-4e2d-a0bd-328c6217ae59"
      },
      "source": [
        "## 4.2 손실함수\n",
        "- 신경망 학습에서는 '현재의 상태를 하나의 지표'로 표현\n",
        "- 손실함수 : 신경망 성능의 '나쁨'을 나타내는 지표. 최소화가 목표\n",
        "    - 일반적으로 오차제곱합, 교차엔트로피 오차를 주로 사용"
      ]
    },
    {
      "cell_type": "markdown",
      "id": "34582790-4e81-4777-98e5-c2958a2652e3",
      "metadata": {
        "id": "34582790-4e81-4777-98e5-c2958a2652e3"
      },
      "source": [
        "### 4.2.1 평균 제곱 오차\n",
        "> - $E = \\frac{1}{2} * \\sum(y_k-t_k)^2$\n",
        "    - yk : 신경망의 출력\n",
        "    -  tk : 정답 레이블\n",
        "    - k : 데이터의 차원 수"
      ]
    },
    {
      "cell_type": "code",
      "execution_count": null,
      "id": "1ed624aa-c026-4334-96d1-91de840cb9f3",
      "metadata": {
        "id": "1ed624aa-c026-4334-96d1-91de840cb9f3",
        "outputId": "389c84e8-3967-4a25-ab86-90074b779c8f"
      },
      "outputs": [
        {
          "name": "stdout",
          "output_type": "stream",
          "text": [
            "C:\\Dev\\Miniconda\\python.exe\n"
          ]
        }
      ],
      "source": [
        "import sys\n",
        "print(sys.executable)"
      ]
    },
    {
      "cell_type": "code",
      "execution_count": null,
      "id": "b33a46c9-4131-492c-8914-033913346818",
      "metadata": {
        "id": "b33a46c9-4131-492c-8914-033913346818",
        "outputId": "ab6e098e-b5d2-431a-c66c-7fd355c6ee66"
      },
      "outputs": [
        {
          "name": "stdout",
          "output_type": "stream",
          "text": [
            "0.09750000000000003\n"
          ]
        }
      ],
      "source": [
        "# 평균제곱오차\n",
        "import numpy as np\n",
        "\n",
        "def mean_squared_error(y, t):\n",
        "    return 0.5 * np.sum((y-t)**2)\n",
        "\n",
        "# 정답레이블\n",
        "t = [0, 0, 1, 0, 0, 0, 0, 0, 0, 0]\n",
        "# ex1 '2'일 확률이 가장 높다고 추정함(0.6)\n",
        "y = [0.1, 0.05, 0.6, 0.0, 0.05, 0.1, 0.0, 0.1, 0.0, 0.0]\n",
        "mse = mean_squared_error(np.array(y), np.array(t))\n",
        "print(mse)"
      ]
    },
    {
      "cell_type": "code",
      "execution_count": null,
      "id": "f1e76797-73f6-406f-be3f-f59dde026e26",
      "metadata": {
        "id": "f1e76797-73f6-406f-be3f-f59dde026e26",
        "outputId": "92c3f5a9-b3d9-4a01-9520-57c588710f1a"
      },
      "outputs": [
        {
          "name": "stdout",
          "output_type": "stream",
          "text": [
            "0.5975\n"
          ]
        }
      ],
      "source": [
        "# ex2 '7'일 확률이 가장 높다고 추정함(0.6)\n",
        "y = [0.1, 0.05, 0.1, 0.0, 0.05, 0.1, 0.0, 0.6, 0.0, 0.0]\n",
        "mse = mean_squared_error(np.array(y), np.array(t))\n",
        "print(mse)"
      ]
    },
    {
      "cell_type": "markdown",
      "id": "d13b11f8-07d4-4eaa-887c-0c06a648dfe6",
      "metadata": {
        "id": "d13b11f8-07d4-4eaa-887c-0c06a648dfe6"
      },
      "source": [
        "첫번째 오차값이 더 잘 맞으므로 성능이 더 좋은 것으로 판단"
      ]
    },
    {
      "cell_type": "markdown",
      "id": "8581a56f-0841-4a29-bf9a-434d1c23437e",
      "metadata": {
        "id": "8581a56f-0841-4a29-bf9a-434d1c23437e",
        "tags": []
      },
      "source": [
        "### 4.2.2 교차 엔트로피 오차\n",
        "실질적으로 정답일때의 추정의 자연로그를 계산하는 식이 됨\n",
        "> - $ E = -\\sum (t_k * log(y_k))$\n",
        "    - log : 자연로그\n",
        "    - yk : 신경망의 출력\n",
        "    - tk : 정답 레이블(one-hot encoding)\n",
        "    - k : 데이터의 차원 수\n",
        "    \n",
        "> 그림 4-3 자연로그 y=log$x$의 그래프\n",
        "<img src='https://drive.google.com/uc?id=1xRUuWdcwqCjOliMlvTLquiaelb63PfXV'>\n",
        "    "
      ]
    },
    {
      "cell_type": "code",
      "execution_count": null,
      "id": "d04434ae-d2eb-47f9-8736-77889b385677",
      "metadata": {
        "id": "d04434ae-d2eb-47f9-8736-77889b385677",
        "outputId": "ad2fadf5-dd17-4a2f-80ba-faf573441671",
        "tags": []
      },
      "outputs": [
        {
          "name": "stdout",
          "output_type": "stream",
          "text": [
            "0.510825457099338\n"
          ]
        }
      ],
      "source": [
        "# 크로스엔트로피\n",
        "def cross_entropy_error(y, t):\n",
        "    delta = 1e-7  # 0일때 -무한대가 되지 않기 위해 작은 값을 더함\n",
        "    return -np.sum(t * np.log(y + delta))\n",
        "\n",
        "\n",
        "# 동일한 계산\n",
        "t = [0, 0, 1, 0, 0, 0, 0, 0, 0, 0]\n",
        "y = [0.1, 0.05, 0.6, 0.0, 0.05, 0.1, 0.0, 0.1, 0.0, 0.0]\n",
        "cee = cross_entropy_error(np.array(y), np.array(t))\n",
        "print(cee)  # 0.510825457099\n"
      ]
    },
    {
      "cell_type": "code",
      "execution_count": null,
      "id": "7414b522-9ff3-4bef-b6ff-13fe9553609a",
      "metadata": {
        "id": "7414b522-9ff3-4bef-b6ff-13fe9553609a",
        "outputId": "4832d17d-0d36-4c89-eddf-ec54fb27cfb6"
      },
      "outputs": [
        {
          "name": "stdout",
          "output_type": "stream",
          "text": [
            "2.302584092994546\n"
          ]
        }
      ],
      "source": [
        "y = [0.1, 0.05, 0.1, 0.0, 0.05, 0.1, 0.0, 0.6, 0.0, 0.0]\n",
        "cee = cross_entropy_error(np.array(y), np.array(t))\n",
        "print(cee)  # 2.30258409299"
      ]
    },
    {
      "cell_type": "markdown",
      "id": "1826df16-befa-43d3-9829-63b9afbbb832",
      "metadata": {
        "id": "1826df16-befa-43d3-9829-63b9afbbb832",
        "tags": []
      },
      "source": [
        "## 4.2.3 미니배치학습\n",
        "- 훈련 데이터 전체에 대한 오차함수\n",
        "\n",
        "> - E = -1/N * ∑ _n (∑ _k (tk * log(yk)))\n",
        "    - N : 데이터의 개수\n",
        "    - 훈련 데이터 전체에 대한 손실 함수를 계산하기에는 시간이 오래걸리기 때문에\n",
        "    - 일부를 추려 전체의 근사치로 이용할 수 있다."
      ]
    },
    {
      "cell_type": "code",
      "execution_count": null,
      "id": "d293a7b4-1489-4408-aa4e-50afdf04d997",
      "metadata": {
        "colab": {
          "base_uri": "https://localhost:8080/"
        },
        "id": "d293a7b4-1489-4408-aa4e-50afdf04d997",
        "outputId": "67b5778e-23a8-4332-8f71-29784ae7e11b"
      },
      "outputs": [
        {
          "name": "stderr",
          "output_type": "stream",
          "text": [
            "E:\\miniconda\\lib\\site-packages\\numpy\\_distributor_init.py:30: UserWarning: loaded more than 1 DLL from .libs:\n",
            "E:\\miniconda\\lib\\site-packages\\numpy\\.libs\\libopenblas.EL2C6PLE4ZYW3ECEVIV3OXXGRN2NRFM2.gfortran-win_amd64.dll\n",
            "E:\\miniconda\\lib\\site-packages\\numpy\\.libs\\libopenblas64__v0.3.21-gcc_10_3_0.dll\n",
            "  warnings.warn(\"loaded more than 1 DLL from .libs:\"\n"
          ]
        },
        {
          "name": "stdout",
          "output_type": "stream",
          "text": [
            "(60000, 784)\n",
            "(60000,)\n"
          ]
        }
      ],
      "source": [
        "# 4.2.3 미니배치 학습\n",
        "import numpy as np\n",
        "import sys\n",
        "import os\n",
        "sys.path.append(os.pardir)\n",
        "from dataset.mnist import load_mnist\n",
        "\n",
        "(x_train, t_train), (x_test, t_test) = \\\n",
        "    load_mnist(normalize=True, one_hot_label=False)\n",
        "\n",
        "print(x_train.shape)  # (60000, 784)\n",
        "print(t_train.shape)  # 원-핫 인코딩 된 정답 레이블 (60000, 10)"
      ]
    },
    {
      "cell_type": "code",
      "execution_count": null,
      "id": "b4e725b6-22f0-4e2e-8de5-5d9111ddf10f",
      "metadata": {
        "colab": {
          "base_uri": "https://localhost:8080/"
        },
        "id": "b4e725b6-22f0-4e2e-8de5-5d9111ddf10f",
        "outputId": "75b85cb3-f6ee-4156-85bd-c7842e838963"
      },
      "outputs": [
        {
          "name": "stdout",
          "output_type": "stream",
          "text": [
            "[37617 51034    19  7513 28299 15873 29425 52320 31494  3958]\n",
            "[[0. 0. 0. ... 0. 0. 0.]\n",
            " [0. 0. 0. ... 0. 0. 0.]\n",
            " [0. 0. 0. ... 0. 0. 0.]\n",
            " ...\n",
            " [0. 0. 0. ... 0. 0. 0.]\n",
            " [0. 0. 0. ... 0. 0. 0.]\n",
            " [0. 0. 0. ... 0. 0. 0.]]\n",
            "[8 7 9 7 3 5 2 0 1 8]\n"
          ]
        }
      ],
      "source": [
        "# 10사이즈 배치룰 임의 추출\n",
        "train_size = x_train.shape[0]\n",
        "batch_size = 10\n",
        "batch_mask = np.random.choice(train_size, batch_size)\n",
        "x_batch = x_train[batch_mask]\n",
        "t_batch = t_train[batch_mask]\n",
        "print(batch_mask)\n",
        "print(x_batch)\n",
        "print(t_batch)"
      ]
    },
    {
      "cell_type": "markdown",
      "id": "_8-d_ApTUKz1",
      "metadata": {
        "id": "_8-d_ApTUKz1"
      },
      "source": [
        "### 4.2.4 (배치용) 교차 엔트로피 오차 구현하기"
      ]
    },
    {
      "cell_type": "code",
      "execution_count": null,
      "id": "NbWKsE6CUIkA",
      "metadata": {
        "id": "NbWKsE6CUIkA"
      },
      "outputs": [],
      "source": [
        "def cross_entropy_error(y, t):\n",
        "    if y.ndim == 1:\n",
        "        t = t.reshape(1, t.size)\n",
        "        y = y.reshape(1, y.size)\n",
        "\n",
        "    batch_size = y.shape[0]\n",
        "    return -np.sum(t * np.log(y[np.arange(batch_size), t])) / batch_size\n"
      ]
    },
    {
      "cell_type": "markdown",
      "id": "CAn6N1NiRCbX",
      "metadata": {
        "id": "CAn6N1NiRCbX"
      },
      "source": [
        "### 4.2.5 왜 손실 함수를 설정하는가?\n",
        "- 신경망을 학습할 때 정확도를 지표로 삼아서는 안 된다.\n",
        "- 정확도를 지표로 하면 매개변수의 미분이 대부분의 장소에서 0이 되기 때문이다.\n",
        "- (매개변수의 미소한 변화에는 거의 반응을 보이지 않고 그 값이 분연속적으로 변화)\n"
      ]
    },
    {
      "cell_type": "markdown",
      "id": "8c257fbc-4e01-46ad-9a52-af52767bd697",
      "metadata": {
        "id": "8c257fbc-4e01-46ad-9a52-af52767bd697"
      },
      "source": [
        "## 4.3 수치미분"
      ]
    },
    {
      "cell_type": "markdown",
      "id": "78e9cdd1-eb5c-416a-8287-2b9a68101379",
      "metadata": {
        "id": "78e9cdd1-eb5c-416a-8287-2b9a68101379"
      },
      "source": [
        "### 4.3.1 미분\n",
        "- 미분은 한순간의 변화량을 나타냄<br>\n",
        "<img src='https://drive.google.com/uc?id=1Z_Id9tQIped8tq8tV5vQ8wKVcDzxQm05'>\n",
        "\n",
        "> - 좌변은 f(x)의 x에 대한 미분 (x에 대한 f(x)의 변화량\n",
        "> - 시간h 를 한없이 0에 가깝게"
      ]
    },
    {
      "cell_type": "code",
      "execution_count": null,
      "id": "ec3048d1-618a-4a29-b3c6-8d7c3c10cee7",
      "metadata": {
        "id": "ec3048d1-618a-4a29-b3c6-8d7c3c10cee7"
      },
      "outputs": [],
      "source": [
        "# 위의 수식을 굳이 구현하면 다음과 같다\n",
        "import numpy as np\n",
        "import matplotlib.pylab as plt\n",
        "\n",
        "# 나쁜 구현 예\n",
        "def numerical_diff_bad(f, x):\n",
        "    h = 10e-50\n",
        "    return (f(x + h) - f(x)) / h\n",
        "# h값이 너무 작아 반올림 오차를 일으킬 수 있음 10e-4정도가 적당하다고 알려짐\n",
        "# 전방 차분에서는 차분이 0이 될 수 없어 오차가 발생\n",
        "#  -> 오차를 줄이기 위해 중심 차분을 사용"
      ]
    },
    {
      "cell_type": "markdown",
      "id": "0a4c9f2e-c322-4bde-b46c-c01ef463c49d",
      "metadata": {
        "id": "0a4c9f2e-c322-4bde-b46c-c01ef463c49d"
      },
      "source": [
        "- h값이 너무 작아 반올림 오차를 일으킬 수 있음 (10e-4정도가 적당하다고 알려짐)\n",
        "    - 반올림오차 : 작은값(예> 소수점8자리 이하)가 생략되어 최종 계산결과에 오류 생기는것"
      ]
    },
    {
      "cell_type": "code",
      "execution_count": null,
      "id": "b699a883-ccb3-48cd-ba00-836cba2c3846",
      "metadata": {
        "id": "b699a883-ccb3-48cd-ba00-836cba2c3846",
        "outputId": "dfafdc9d-8145-4314-94af-df800821c3b0"
      },
      "outputs": [
        {
          "data": {
            "text/plain": [
              "0.0"
            ]
          },
          "execution_count": 8,
          "metadata": {},
          "output_type": "execute_result"
        }
      ],
      "source": [
        "# 반올림오차 사례 : 32비트 부동소수점에 50자리수를 넣으면 0으로 출력\n",
        "np.float32(1e-50)"
      ]
    },
    {
      "cell_type": "markdown",
      "id": "6f398b5c-027b-4d83-b64d-880b4ba71358",
      "metadata": {
        "id": "6f398b5c-027b-4d83-b64d-880b4ba71358"
      },
      "source": [
        "> 그림 4-5 진정한 미분(진정한 접선)과 수치미분(근사로 구한 접선)의 값은 다르다<br>\n",
        "<img src = 'https://drive.google.com/uc?id=1xFULCRKjXflQJH2Oe2iCYw1W3RlsT6iA'>\n",
        "<br> 위와 같이 수치미분에는 오차가 포함됨. 오차를 줄이기 위해 (x+h), (x-h) 일 때의 함수f의 차분을 계산하는 방법을 쓰기도 함. 이 차분은 x를 중심으로 그 전후의 차분을 계산한다는 의미에서 중심차분, 중앙차분이라 함"
      ]
    },
    {
      "cell_type": "code",
      "execution_count": null,
      "id": "328a6e33-127f-4ea1-8e11-03311cf7f9ab",
      "metadata": {
        "id": "328a6e33-127f-4ea1-8e11-03311cf7f9ab"
      },
      "outputs": [],
      "source": [
        "# 두 개선점을 적용하여 수치미분을 구현\n",
        "def numerical_diff(f, x):\n",
        "    h = 10e-4\n",
        "    return (f(x + h) - f(x - h)) / (2 * h)"
      ]
    },
    {
      "cell_type": "markdown",
      "id": "de3867f7-d8da-4120-8742-db914a59d1f5",
      "metadata": {
        "id": "de3867f7-d8da-4120-8742-db914a59d1f5"
      },
      "source": [
        "###  4.3.2 수치 미분의 예\n",
        "- 아주 작은 차분으로 미분하는 것을 수치미분이라 함. (근사치로 계산하는 것)\n",
        "    - 한편 수식을 전개하여 미분하는 것은 해석적 미분 으로 표현 (일반적 미분)\n",
        "![](https://drive.google.com/uc?id=1ZXJQUieK9-UpmKRSm28r9eIVc5AIkWqS)\n",
        "<br>다음의 2차함수를 파이썬으로 구현하면..."
      ]
    },
    {
      "cell_type": "code",
      "execution_count": null,
      "id": "4e74d99a-4c65-4e87-a189-711c06856804",
      "metadata": {
        "id": "4e74d99a-4c65-4e87-a189-711c06856804"
      },
      "outputs": [],
      "source": [
        "# y = 0.01x² + 0.1x\n",
        "def function_1(x):\n",
        "    return 0.01*x**2 + 0.1*x"
      ]
    },
    {
      "cell_type": "code",
      "execution_count": null,
      "id": "0baed7cc-a3b0-4680-8f41-ff22861751b0",
      "metadata": {
        "id": "0baed7cc-a3b0-4680-8f41-ff22861751b0",
        "outputId": "e81b81cb-fa05-4438-9505-e0a3de06d7d9"
      },
      "outputs": [
        {
          "data": {
            "text/plain": [
              "[<matplotlib.lines.Line2D at 0x1f0e88961d0>]"
            ]
          },
          "execution_count": 18,
          "metadata": {},
          "output_type": "execute_result"
        },
        {
          "data": {
            "image/png": "[encoded data removed]",
            "text/plain": [
              "<Figure size 640x480 with 1 Axes>"
            ]
          },
          "metadata": {},
          "output_type": "display_data"
        }
      ],
      "source": [
        "x = np.arange(0.0, 20.0, 0.1)  # 0에서 20까지 간격 0.1인 배열 x를 만든다.\n",
        "y = function_1(x)\n",
        "\n",
        "plt.xlabel(\"x\")\n",
        "plt.ylabel(\"f(x)\")\n",
        "plt.plot(x, y, c='g' )\n",
        "# plt.show()"
      ]
    },
    {
      "cell_type": "code",
      "execution_count": null,
      "id": "3c06d894-4756-4474-ac25-f2100750e0fb",
      "metadata": {
        "id": "3c06d894-4756-4474-ac25-f2100750e0fb",
        "outputId": "703eeaa5-c8a0-40da-de1c-a654218727d2"
      },
      "outputs": [
        {
          "name": "stdout",
          "output_type": "stream",
          "text": [
            "0.200000000000089\n"
          ]
        },
        {
          "data": {
            "image/png": "[encoded data removed]",
            "text/plain": [
              "<Figure size 640x480 with 1 Axes>"
            ]
          },
          "metadata": {},
          "output_type": "display_data"
        }
      ],
      "source": [
        "# x_ = 5일때 미분\n",
        "x = np.arange(0.0, 20.0, 0.1)  # 0에서 20까지 간격 0.1인 배열 x를 만든다.\n",
        "y = function_1(x)\n",
        "\n",
        "plt.xlabel(\"x\")\n",
        "plt.ylabel(\"f(x)\")\n",
        "plt.plot(x, y, c='g' )\n",
        "\n",
        "x_=5\n",
        "print(numerical_diff(function_1, x_))   # 0.200000000000089\n",
        "\n",
        "# 접선의 함수를 구하는 함수\n",
        "def tangent_line(f, x):\n",
        "    d = numerical_diff(f, x)\n",
        "    # print(d)\n",
        "    y = f(x) - d*x\n",
        "    return lambda t: d*t + y\n",
        "\n",
        "tf = tangent_line(function_1, x_)\n",
        "y2 = tf(x)\n",
        "plt.plot(x, y2, c='b')\n",
        "plt.show()"
      ]
    },
    {
      "cell_type": "code",
      "execution_count": null,
      "id": "d49faf08-8935-4fa9-82e9-ca8e01ec29e3",
      "metadata": {
        "id": "d49faf08-8935-4fa9-82e9-ca8e01ec29e3",
        "outputId": "dac49766-ab68-488e-d7d4-7ff03a4c2311"
      },
      "outputs": [
        {
          "name": "stdout",
          "output_type": "stream",
          "text": [
            "0.29999999999996696\n"
          ]
        },
        {
          "data": {
            "image/png": "[encoded data removed]",
            "text/plain": [
              "<Figure size 640x480 with 1 Axes>"
            ]
          },
          "metadata": {},
          "output_type": "display_data"
        }
      ],
      "source": [
        "# x_ = 10일때 미분\n",
        "x = np.arange(0.0, 20.0, 0.1)  # 0에서 20까지 간격 0.1인 배열 x를 만든다.\n",
        "y = function_1(x)\n",
        "\n",
        "plt.xlabel(\"x\")\n",
        "plt.ylabel(\"f(x)\")\n",
        "plt.plot(x, y, c='g' )\n",
        "\n",
        "x_= 10\n",
        "print(numerical_diff(function_1, x_))   # 0.200000000000089\n",
        "\n",
        "# 접선의 함수를 구하는 함수\n",
        "def tangent_line(f, x):\n",
        "    d = numerical_diff(f, x)\n",
        "    # print(d)\n",
        "    y = f(x) - d*x\n",
        "    return lambda t: d*t + y\n",
        "\n",
        "tf = tangent_line(function_1, x_)\n",
        "y2 = tf(x)\n",
        "plt.plot(x, y2, c='b')\n",
        "plt.show()"
      ]
    },
    {
      "cell_type": "markdown",
      "id": "cda8790c-cba2-4273-8e5a-d6561a0ab68e",
      "metadata": {
        "tags": [],
        "id": "cda8790c-cba2-4273-8e5a-d6561a0ab68e"
      },
      "source": [
        "###  4.3.3 편미분\n",
        "- 인수의 제곱합을 계산하는 단순한 식이나, 변수가 2개\n",
        "    - 어느 변수에 대한 미분을 하는지 구분 필요\n",
        "    \n",
        "![](https://drive.google.com/uc?id=1ZW1lG9LtTSq9h3_Wh5WfTNAlCv7Iqz3U)\n",
        "\n"
      ]
    },
    {
      "cell_type": "code",
      "execution_count": null,
      "id": "5d42ddb9-c754-45ea-a9ec-909d119b4c1d",
      "metadata": {
        "id": "5d42ddb9-c754-45ea-a9ec-909d119b4c1d"
      },
      "outputs": [],
      "source": [
        "# 파이썬으로 구현하면...\n",
        "def function_2(x):\n",
        "    return x[0]**2 + x[1]**2\n",
        "    # or return np.sum(x**2)"
      ]
    },
    {
      "cell_type": "markdown",
      "id": "61dd9044-1fdd-4c7f-92c9-e50f0562d971",
      "metadata": {
        "id": "61dd9044-1fdd-4c7f-92c9-e50f0562d971"
      },
      "source": [
        "> 그림 4-8 위 수식의 그래프 <br>\n",
        "![](https://drive.google.com/uc?id=1x5g9Lg3DgTMxci9H9mK_aNH__MlxNSS_)"
      ]
    },
    {
      "cell_type": "markdown",
      "id": "731f5787-1e00-4567-acd7-c436502440c3",
      "metadata": {
        "id": "731f5787-1e00-4567-acd7-c436502440c3"
      },
      "source": [
        "문제1 : $x_0$ = 3, $x_1$ = 4일 때, $x_0$에 대한 편미분을 구하라."
      ]
    },
    {
      "cell_type": "code",
      "execution_count": null,
      "id": "0df35092-6693-43ba-bdef-ae90d3db9646",
      "metadata": {
        "id": "0df35092-6693-43ba-bdef-ae90d3db9646",
        "outputId": "442f6fb4-594b-4a53-84bb-0ef7d35014d7"
      },
      "outputs": [
        {
          "data": {
            "text/plain": [
              "5.999999999998451"
            ]
          },
          "execution_count": 33,
          "metadata": {},
          "output_type": "execute_result"
        }
      ],
      "source": [
        "def function_tmp1(x0):\n",
        "    return x0**2 + 4.0**2.0\n",
        "\n",
        "numerical_diff(function_tmp1,3)"
      ]
    },
    {
      "cell_type": "markdown",
      "id": "4631eda1-1957-4e42-964f-6b3e6ea9e9f1",
      "metadata": {
        "id": "4631eda1-1957-4e42-964f-6b3e6ea9e9f1"
      },
      "source": [
        "문제2 : $x_0$ = 3, $x_1$ = 4일 때, $x_1$에 대한 편미분을 구하라."
      ]
    },
    {
      "cell_type": "code",
      "execution_count": null,
      "id": "f79f1012-763e-4a98-ba98-8d4dd4a2069c",
      "metadata": {
        "id": "f79f1012-763e-4a98-ba98-8d4dd4a2069c",
        "outputId": "dd6ecdc0-e942-4aaf-907f-0f133c8768ea"
      },
      "outputs": [
        {
          "data": {
            "text/plain": [
              "8.000000000000895"
            ]
          },
          "execution_count": 35,
          "metadata": {},
          "output_type": "execute_result"
        }
      ],
      "source": [
        "def function_tmp2(x1):\n",
        "    return 3.0**2.0 + x1 * x1\n",
        "\n",
        "numerical_diff(function_tmp2, 4.0)"
      ]
    },
    {
      "cell_type": "markdown",
      "id": "383f9ef4-ad73-49f0-9e3c-e9296920ab34",
      "metadata": {
        "id": "383f9ef4-ad73-49f0-9e3c-e9296920ab34"
      },
      "source": [
        "## 4.4 기울기\n",
        "- 편미분을 변수별 따로 계산 안하고 동시에 계산하려면?\n",
        "    - 모든 변수의 편미분을 벡터로 정리한 것이 기울기(gradient)"
      ]
    },
    {
      "cell_type": "code",
      "execution_count": null,
      "id": "3b67074b-a179-4e25-a914-49502528792f",
      "metadata": {
        "id": "3b67074b-a179-4e25-a914-49502528792f"
      },
      "outputs": [],
      "source": [
        "import numpy as np\n",
        "import matplotlib.pylab as plt\n",
        "\n",
        "def numerical_gradient(f, x):\n",
        "    h = 1e-4\n",
        "    grad = np.zeros_like(x)  # x와 형상이 같은 배열을 생성\n",
        "\n",
        "    for idx in range(x.size):\n",
        "        tmp_val = x[idx]\n",
        "        # f(x+h) 계산\n",
        "        x[idx] = tmp_val + h\n",
        "        fxh1 = f(x)\n",
        "\n",
        "        # f(x-h) 계산\n",
        "        x[idx] = tmp_val - h\n",
        "        fxh2 = f(x)\n",
        "\n",
        "        grad[idx] = (fxh1 - fxh2) / (2 * h)\n",
        "        x[idx] = tmp_val  # 값 복원\n",
        "\n",
        "    return grad\n"
      ]
    },
    {
      "cell_type": "code",
      "execution_count": null,
      "id": "c7d8f7b3-007e-43c8-9bda-71a028e4295b",
      "metadata": {
        "id": "c7d8f7b3-007e-43c8-9bda-71a028e4295b",
        "outputId": "0e2d9cf0-8a29-47db-ad9b-6c80231f0a74"
      },
      "outputs": [
        {
          "name": "stdout",
          "output_type": "stream",
          "text": [
            "[6. 8.]\n",
            "[0. 4.]\n",
            "[6. 0.]\n"
          ]
        }
      ],
      "source": [
        "# f(x0, x1) = x0² + x1²\n",
        "def function_2(x):\n",
        "    return x[0]**2 + x[1]**2\n",
        "    # or return np.sum(x**2)\n",
        "\n",
        "\n",
        "print(numerical_gradient(function_2, np.array([3.0, 4.0])))  # [ 6.  8.]\n",
        "print(numerical_gradient(function_2, np.array([0.0, 2.0])))  # [ 0.  4.]\n",
        "print(numerical_gradient(function_2, np.array([3.0, 0.0])))  # [ 6.  0.]\n"
      ]
    },
    {
      "cell_type": "markdown",
      "id": "58f69cc0-bf14-4398-8a06-ef20d3230eae",
      "metadata": {
        "id": "58f69cc0-bf14-4398-8a06-ef20d3230eae"
      },
      "source": [
        "### 4.4.1 경사법(경사 하강법)\n",
        "![](https://drive.google.com/uc?id=1ZQxp7qPi_5XEOKtzVvcoNjpkrodUh9cj)\n",
        "> -  η(eta) : 갱신하는 양, 학습률learning rate\n",
        "> - f:최적화하려는 함수\n",
        "> - init_x : 초깃값\n",
        "> - lr : 학습률\n",
        ">- step_num : 반복횟수"
      ]
    },
    {
      "cell_type": "code",
      "execution_count": null,
      "id": "a4d40e85-2f25-4524-af68-f5589599ceed",
      "metadata": {
        "id": "a4d40e85-2f25-4524-af68-f5589599ceed",
        "outputId": "80f5056f-058b-42c5-c478-fe0fc5a90f4c"
      },
      "outputs": [
        {
          "name": "stdout",
          "output_type": "stream",
          "text": [
            "[-6.11110793e-10  8.14814391e-10]\n"
          ]
        }
      ],
      "source": [
        "def gradient_descent(f, init_x, lr=0.01, step_num=100):\n",
        "    x = init_x\n",
        "    x_history = []\n",
        "\n",
        "    for i in range(step_num):\n",
        "        x_history.append(x.copy())\n",
        "        grad = numerical_gradient(f, x)\n",
        "        x -= lr * grad\n",
        "\n",
        "    return x, np.array(x_history)\n",
        "\n",
        "\n",
        "# 경사법으로 f(x0, x1) = x0² + x1²의 최솟값을 구해라\n",
        "init_x = np.array([-3.0, 4.0])\n",
        "x, x_history = gradient_descent(function_2, init_x, lr=0.1)\n",
        "print(x)  # [ -6.11110793e-10   8.14814391e-10]\n",
        "\n"
      ]
    },
    {
      "cell_type": "markdown",
      "id": "6f3c6479-a17c-4f28-a4f9-97e18944afb0",
      "metadata": {
        "id": "6f3c6479-a17c-4f28-a4f9-97e18944afb0"
      },
      "source": [
        "> 그림 4-10 경사법에 의한 갱신과정 : 점선은 함수의 등고선을 나타냄<br>\n",
        "![](https://drive.google.com/uc?id=1vkghGC1duUQGZeM2EHXoZleDq8t2oav2)"
      ]
    },
    {
      "cell_type": "code",
      "execution_count": null,
      "id": "775dd81e-b016-46fa-9d63-033337ca05e5",
      "metadata": {
        "id": "775dd81e-b016-46fa-9d63-033337ca05e5",
        "outputId": "2587f86f-bca5-4f29-95b7-0f3ab7344152"
      },
      "outputs": [
        {
          "name": "stdout",
          "output_type": "stream",
          "text": [
            "[-2.58983747e+13 -1.29524862e+12]\n"
          ]
        }
      ],
      "source": [
        "# 학습률이 너무 큼 lr=10.0\n",
        "init_x = np.array([-3.0, 4.0])\n",
        "x, x_history = gradient_descent(function_2, init_x, lr=10.0)\n",
        "print(x)  # [ -2.58983747e+13  -1.29524862e+12] 발산함\n"
      ]
    },
    {
      "cell_type": "code",
      "execution_count": null,
      "id": "2d78d074-8689-48eb-a772-4149cef3319b",
      "metadata": {
        "id": "2d78d074-8689-48eb-a772-4149cef3319b",
        "outputId": "72b5ee97-76a2-4e50-c7a5-8dbf65d63823"
      },
      "outputs": [
        {
          "name": "stdout",
          "output_type": "stream",
          "text": [
            "[-2.99999994  3.99999992]\n"
          ]
        }
      ],
      "source": [
        "# 학습률이 너무 작음  lr=1e-10\n",
        "init_x = np.array([-3.0, 4.0])\n",
        "x, x_history = gradient_descent(function_2, init_x, lr=1e-10)\n",
        "print(x)  # [-2.99999994  3.99999992] 거의 변화 없음"
      ]
    },
    {
      "cell_type": "code",
      "execution_count": null,
      "id": "a79158af-0142-489f-a1ff-973e51808ceb",
      "metadata": {
        "id": "a79158af-0142-489f-a1ff-973e51808ceb",
        "outputId": "e7134eaa-07fd-4ba6-99db-f08bc2f1576c"
      },
      "outputs": [
        {
          "data": {
            "image/png": "[encoded data removed]",
            "text/plain": [
              "<Figure size 640x480 with 1 Axes>"
            ]
          },
          "metadata": {},
          "output_type": "display_data"
        }
      ],
      "source": [
        "# 그래프\n",
        "init_x = np.array([-3.0, 4.0])\n",
        "x, x_history = gradient_descent(function_2, init_x, lr=0.1, step_num=20)\n",
        "\n",
        "plt.plot([-5, 5], [0, 0], '--b')\n",
        "plt.plot([0, 0], [-5, 5], '--b')\n",
        "plt.plot(x_history[:, 0], x_history[:, 1], 'o')\n",
        "\n",
        "plt.xlim(-3.5, 3.5)\n",
        "plt.ylim(-4.5, 4.5)\n",
        "plt.xlabel(\"X0\")\n",
        "plt.ylabel(\"X1\")\n",
        "plt.show()"
      ]
    },
    {
      "cell_type": "markdown",
      "id": "62e07616-0925-4483-9e2b-b812253b9b39",
      "metadata": {
        "id": "62e07616-0925-4483-9e2b-b812253b9b39"
      },
      "source": [
        "### 4.4.2 신경망에서의 기울기\n",
        "- 신경망에서의 기울기는 가중치 매개변수에 대한 손실함수의 기울기\n",
        "    - 가중치가 W, 손실함수가 L인 신경망이 있는 경우, 경사는 다음 수식과 같음<br>\n",
        "![](https://drive.google.com/uc?id=1ZPxNovSkSOF1oXOQecOH7C9LY2fU7Z4i)\n",
        "> 기울기의 각 원소는 각각의 원소에 관한 편미분"
      ]
    },
    {
      "cell_type": "markdown",
      "id": "dd433d92-7e7f-4d43-9e69-8a43b7794797",
      "metadata": {
        "id": "dd433d92-7e7f-4d43-9e69-8a43b7794797"
      },
      "source": [
        "1. 신경망 기울기 구하는 코드를 구현하면"
      ]
    },
    {
      "cell_type": "code",
      "execution_count": null,
      "id": "d249d4c1-5134-4b51-8395-516166bf8966",
      "metadata": {
        "id": "d249d4c1-5134-4b51-8395-516166bf8966"
      },
      "outputs": [],
      "source": [
        "#\n",
        "import sys\n",
        "import os\n",
        "import numpy as np\n",
        "sys.path.append(os.pardir)\n",
        "from common.functions import softmax, cross_entropy_error\n",
        "from common.gradient import numerical_gradient\n",
        "\n",
        "class simpleNet:\n",
        "    \"\"\"docstring for simpleNet\"\"\"\n",
        "    def __init__(self):\n",
        "        self.W = np.random.randn(2, 3)  # 정규분포로 초기화\n",
        "\n",
        "    def predict(self, x):\n",
        "        return np.dot(x, self.W)\n",
        "\n",
        "    def loss(self, x, t):\n",
        "        z = self.predict(x)\n",
        "        y = softmax(z)\n",
        "        loss = cross_entropy_error(y, t)\n",
        "\n",
        "        return loss"
      ]
    },
    {
      "cell_type": "markdown",
      "id": "329a0057-0414-46fc-83d4-409c74ff854f",
      "metadata": {
        "id": "329a0057-0414-46fc-83d4-409c74ff854f"
      },
      "source": [
        "2. 랜덤으로 가중치를 만들고"
      ]
    },
    {
      "cell_type": "code",
      "execution_count": null,
      "id": "ad8d23eb-499a-43b0-a22b-7602f7f1109a",
      "metadata": {
        "id": "ad8d23eb-499a-43b0-a22b-7602f7f1109a",
        "outputId": "2ecf95c9-6900-4810-aecf-f06a730be91d"
      },
      "outputs": [
        {
          "name": "stdout",
          "output_type": "stream",
          "text": [
            "[[ 2.32045802 -1.53489989  0.35434014]\n",
            " [ 1.03681522 -0.38662639 -1.14193427]]\n"
          ]
        }
      ],
      "source": [
        "net = simpleNet()\n",
        "print(net.W)  # 가중치 매개변수(랜덤)"
      ]
    },
    {
      "cell_type": "markdown",
      "id": "a4b54824-be2a-4c83-b2e8-ac5b3f51c0a4",
      "metadata": {
        "id": "a4b54824-be2a-4c83-b2e8-ac5b3f51c0a4"
      },
      "source": [
        "3. 데이터를 입력하여 예측하면"
      ]
    },
    {
      "cell_type": "code",
      "execution_count": null,
      "id": "b8ef3824-4250-4d9b-935f-5837dfa930d0",
      "metadata": {
        "id": "b8ef3824-4250-4d9b-935f-5837dfa930d0",
        "outputId": "023b0d40-bce7-447d-a2b5-f37a455db691"
      },
      "outputs": [
        {
          "name": "stdout",
          "output_type": "stream",
          "text": [
            "[ 2.3254085  -1.26890369 -0.81513676]\n",
            "0\n"
          ]
        }
      ],
      "source": [
        "x = np.array([0.6, 0.9])\n",
        "p = net.predict(x)\n",
        "print(p)\n",
        "print(np.argmax(p))  # 최댓값의 인덱스"
      ]
    },
    {
      "cell_type": "markdown",
      "id": "5bcaed68-b8a5-4c07-995c-1d9a29b984c2",
      "metadata": {
        "id": "5bcaed68-b8a5-4c07-995c-1d9a29b984c2"
      },
      "source": [
        "4. 예측값과 정답레이블의 로스값 산출"
      ]
    },
    {
      "cell_type": "code",
      "execution_count": null,
      "id": "9bf90ffa-8d77-41d1-9604-f3532f4c47c9",
      "metadata": {
        "id": "9bf90ffa-8d77-41d1-9604-f3532f4c47c9",
        "outputId": "b19df78f-575f-4d7f-89f4-ac31d316e984"
      },
      "outputs": [
        {
          "name": "stdout",
          "output_type": "stream",
          "text": [
            "4.201455226067195\n"
          ]
        }
      ],
      "source": [
        "t = np.array([0, 0, 1])  # 정답 레이블\n",
        "print(net.loss(x, t))"
      ]
    },
    {
      "cell_type": "markdown",
      "id": "af74d211-480c-4f82-b3a2-43d0f91cd8df",
      "metadata": {
        "id": "af74d211-480c-4f82-b3a2-43d0f91cd8df"
      },
      "source": [
        "5. 위의 과정을 (net.W를 인수로 받아 손실함수 계산) 하는 f(W) 정의하여 numerical_gradient로 넘김"
      ]
    },
    {
      "cell_type": "code",
      "execution_count": null,
      "id": "2a98b7cd-7b16-4d64-ad7f-70ad88d6e3af",
      "metadata": {
        "id": "2a98b7cd-7b16-4d64-ad7f-70ad88d6e3af",
        "outputId": "981c0c90-4156-4a5d-c72b-21e0b0b7cbb0"
      },
      "outputs": [
        {
          "name": "stdout",
          "output_type": "stream",
          "text": [
            "[[ 0.56036076  0.01539848 -0.57575924]\n",
            " [ 0.84054114  0.02309772 -0.86363886]]\n"
          ]
        }
      ],
      "source": [
        "# def f(W):\n",
        "#     return net.loss(x, t)\n",
        "f = lambda W : net.loss(x,t)\n",
        "dW = numerical_gradient(f, net.W)\n",
        "print(dW)"
      ]
    },
    {
      "cell_type": "markdown",
      "id": "71974eab-3f82-4da1-be5a-bbf0d2fa98aa",
      "metadata": {
        "id": "71974eab-3f82-4da1-be5a-bbf0d2fa98aa"
      },
      "source": [
        "## 4.5 학습 알고리즘 구현하기\n",
        "\n",
        "- 전제\n",
        "    - 신경망에는 적응 가능한 가중치와 편향이 있고, 이 가중치와 편향을 훈련 데이터에 적응하도록 조정하는 과정을 '학습'이라 한다.\n",
        "    - 신경망 학습은 다음과 같이 4단계로 수행한다.<br><br>\n",
        "\n",
        "- 1단계 - 미니배치\n",
        "    - 훈련 데이터 중 일부를 무작위로 가져온다. 이렇게 선별한 데이터를 미니배치라 하며,\n",
        "    - 그 미니배치의 손실함수 값을 줄이는 것이 목표이다.\n",
        "\n",
        "- 2단계 - 기울기 산출\n",
        "    - 미니배치의 손실 함수 값을 줄이기 위해 각 가중치 매개변수의 기울기를 구한다.\n",
        "    - 기울기는 손실 함수의 값을 가장 작게 하는 방향을 제시한다.\n",
        "\n",
        "- 3단계 - 매개변수 갱신\n",
        "    - 가중치 매개변수를 기울기 방향으로 아주 조금 갱신한다.\n",
        "\n",
        "- 4단계 - 반복\n",
        "    - 1~3단계를 반복한다.<br><br>\n",
        "\n",
        "- 데이터를 무작위로 선정하기 때문에 확률적 경사 하강법stochastic gradient descent,SGD라고 부른다.\n"
      ]
    },
    {
      "cell_type": "markdown",
      "id": "47716024-aa80-4638-b7e5-5fd37d65ba4a",
      "metadata": {
        "id": "47716024-aa80-4638-b7e5-5fd37d65ba4a"
      },
      "source": [
        "### 4.5.1 2층 신경망 클래스 구현하기\n",
        "\n",
        "![](https://drive.google.com/uc?id=1OHDFn6VQX24vnBp1RF40e1CviTXUZ_fv)\n",
        "![](https://drive.google.com/uc?id=1O-PlZalRkcsqz870WPZMD58-brsJ0oBq)"
      ]
    },
    {
      "cell_type": "code",
      "execution_count": null,
      "id": "c50af175-0f70-43d0-918a-64820d84de73",
      "metadata": {
        "id": "c50af175-0f70-43d0-918a-64820d84de73"
      },
      "outputs": [],
      "source": [
        "import sys\n",
        "import os\n",
        "import numpy as np\n",
        "sys.path.append(os.pardir)\n",
        "from common.functions import sigmoid, softmax, cross_entropy_error\n",
        "from common.gradient import numerical_gradient\n",
        "\n",
        "class TwoLayerNet:\n",
        "    \"\"\"\n",
        "    params : 신경망의 매개변수를 보관하는 딕셔너리 변수.\n",
        "    params['W1']은 1번째 층의 가중치, params['b1']은 1번째 층의 편향.\n",
        "    params['W2']은 2번째 층의 가중치, params['b2']은 2번째 층의 편향.\n",
        "\n",
        "    grad : 기울기를 보관하는 딕셔너리 변수(numerical_gradient()의 반환값)\n",
        "    grads['W1']은 1번째 층의 가중치의 기울기, grads['b1']은 1번째 층의 편향의 기울기.\n",
        "    grads['W2']은 2번째 층의 가중치의 기울기, grads['b2']은 2번째 층의 편향의 기울기.\n",
        "    \"\"\"\n",
        "    # 초기화를 수행한다.\n",
        "    def __init__(self, input_size, hidden_size, output_size,\n",
        "                 weight_init_std=0.01):\n",
        "        # 가중치 초기화\n",
        "        self.params = {}\n",
        "        self.params['W1'] = weight_init_std * \\\n",
        "            np.random.randn(input_size, hidden_size)\n",
        "        self.params['b1'] = np.zeros(hidden_size)\n",
        "        self.params['W2'] = weight_init_std * \\\n",
        "            np.random.randn(hidden_size, output_size)\n",
        "        self.params['b2'] = np.zeros(output_size)\n",
        "\n",
        "    # 예측(추론)을 수행한다.\n",
        "    def predict(self, x):\n",
        "        W1, W2 = self.params['W1'], self.params['W2']\n",
        "        b1, b2 = self.params['b1'], self.params['b2']\n",
        "        a1 = np.dot(x, W1) + b1\n",
        "        z1 = sigmoid(a1)\n",
        "        a2 = np.dot(z1, W2) + b2\n",
        "        y = softmax(a2)\n",
        "        return y\n",
        "\n",
        "    # 손실 함수의 값을 구한다.\n",
        "    # x : 입력데이터, t : 정답 레이블\n",
        "    def loss(self, x, t):\n",
        "        y = self.predict(x)\n",
        "\n",
        "        return cross_entropy_error(y, t)\n",
        "\n",
        "    # 정확도를 구한다.\n",
        "    def accuracy(self, x, t):\n",
        "        y = self.predict(x)\n",
        "        y = np.argmax(y, axis=1)\n",
        "        t = np.argmax(t, axis=1)\n",
        "\n",
        "        accuracy = np.sum(y == t) / float(x.shape[0])\n",
        "        return accuracy\n",
        "\n",
        "    # 가중치 매개변수의 기울기를 구한다.\n",
        "    def numerical_gradient(self, x, t):\n",
        "        loss_W = lambda W: self.loss(x, t)\n",
        "\n",
        "        grads = {}\n",
        "        grads['W1'] = numerical_gradient(loss_W, self.params['W1'])\n",
        "        grads['b1'] = numerical_gradient(loss_W, self.params['b1'])\n",
        "        grads['W2'] = numerical_gradient(loss_W, self.params['W2'])\n",
        "        grads['b2'] = numerical_gradient(loss_W, self.params['b2'])\n",
        "\n",
        "        return grads"
      ]
    },
    {
      "cell_type": "code",
      "execution_count": null,
      "id": "8782c23b-0ad0-4bd2-b412-6121633f1eb2",
      "metadata": {
        "id": "8782c23b-0ad0-4bd2-b412-6121633f1eb2",
        "outputId": "2aa0237c-7615-443b-f182-5967ba4e744d"
      },
      "outputs": [
        {
          "name": "stdout",
          "output_type": "stream",
          "text": [
            "(784, 100)\n",
            "(100,)\n",
            "(100, 10)\n",
            "(10,)\n"
          ]
        }
      ],
      "source": [
        "if __name__ == '__main__':\n",
        "    net = TwoLayerNet(input_size=784, hidden_size=100, output_size=10)\n",
        "    print(net.params['W1'].shape)  # (784, 100)\n",
        "    print(net.params['b1'].shape)  # (100,)\n",
        "    print(net.params['W2'].shape)  # (100, 10)\n",
        "    print(net.params['b2'].shape)  # (10,)"
      ]
    },
    {
      "cell_type": "code",
      "execution_count": null,
      "id": "0505aee4-841b-407a-b423-411f5a0ce024",
      "metadata": {
        "id": "0505aee4-841b-407a-b423-411f5a0ce024",
        "outputId": "75c5d609-5f6e-4102-c994-f11005555b44"
      },
      "outputs": [
        {
          "name": "stdout",
          "output_type": "stream",
          "text": [
            "(784, 100)\n",
            "(100,)\n",
            "(100, 10)\n",
            "(10,)\n"
          ]
        }
      ],
      "source": [
        "x = np.random.rand(100, 784)  # 더미 입력 데이터(100장 분량)\n",
        "t = np.random.rand(100, 10)   # 더미 정답 레이블(100장 분량)\n",
        "\n",
        "grads = net.numerical_gradient(x, t)  # 기울기 계산\n",
        "# 주의 : 실행하는데 아주 오래걸림\n",
        "print(grads['W1'].shape)  # (784, 100)\n",
        "print(grads['b1'].shape)  # (100,)\n",
        "print(grads['W2'].shape)  # (100, 10)\n",
        "print(grads['b2'].shape)  # (10,)"
      ]
    },
    {
      "cell_type": "markdown",
      "id": "d1a41f10-f00e-4466-951e-5af9e2d069bd",
      "metadata": {
        "tags": [],
        "id": "d1a41f10-f00e-4466-951e-5af9e2d069bd"
      },
      "source": [
        "### 4.5.2 미니배피 학습 구현하기\n",
        "- 데이터 중 일부를 무작위 추출, 추출된 미니배치를 경사법으로 매개변수 갱신"
      ]
    },
    {
      "cell_type": "code",
      "execution_count": null,
      "id": "bdfdd0c1-485a-458b-82eb-a24526221f66",
      "metadata": {
        "id": "bdfdd0c1-485a-458b-82eb-a24526221f66"
      },
      "outputs": [],
      "source": [
        "class TwoLayerNet:\n",
        "    \"\"\"\n",
        "    params : 신경망의 매개변수를 보관하는 딕셔너리 변수.\n",
        "    params['W1']은 1번째 층의 가중치, params['b1']은 1번째 층의 편향.\n",
        "    params['W2']은 2번째 층의 가중치, params['b2']은 2번째 층의 편향.\n",
        "\n",
        "    grad : 기울기를 보관하는 딕셔너리 변수(numerical_gradient()의 반환값)\n",
        "    grads['W1']은 1번째 층의 가중치의 기울기, grads['b1']은 1번째 층의 편향의 기울기.\n",
        "    grads['W2']은 2번째 층의 가중치의 기울기, grads['b2']은 2번째 층의 편향의 기울기.\n",
        "    \"\"\"\n",
        "    # 초기화를 수행한다.\n",
        "    def __init__(self, input_size, hidden_size, output_size,\n",
        "                 weight_init_std=0.01):\n",
        "        # 가중치 초기화\n",
        "        self.params = {}\n",
        "        self.params['W1'] = weight_init_std * \\\n",
        "            np.random.randn(input_size, hidden_size)\n",
        "        self.params['b1'] = np.zeros(hidden_size)\n",
        "        self.params['W2'] = weight_init_std * \\\n",
        "            np.random.randn(hidden_size, output_size)\n",
        "        self.params['b2'] = np.zeros(output_size)\n",
        "\n",
        "    # 예측(추론)을 수행한다.\n",
        "    def predict(self, x):\n",
        "        W1, W2 = self.params['W1'], self.params['W2']\n",
        "        b1, b2 = self.params['b1'], self.params['b2']\n",
        "        a1 = np.dot(x, W1) + b1\n",
        "        z1 = sigmoid(a1)\n",
        "        a2 = np.dot(z1, W2) + b2\n",
        "        y = softmax(a2)\n",
        "        return y\n",
        "\n",
        "    # 손실 함수의 값을 구한다.\n",
        "    # x : 입력데이터, t : 정답 레이블\n",
        "    def loss(self, x, t):\n",
        "        y = self.predict(x)\n",
        "\n",
        "        return cross_entropy_error(y, t)\n",
        "\n",
        "    # 정확도를 구한다.\n",
        "    def accuracy(self, x, t):\n",
        "        y = self.predict(x)\n",
        "        y = np.argmax(y, axis=1)\n",
        "        # t = np.argmax(t, axis=1)\n",
        "\n",
        "        accuracy = np.sum(y == t) / float(x.shape[0])\n",
        "        return accuracy\n",
        "\n",
        "    # 가중치 매개변수의 기울기를 구한다.\n",
        "    def numerical_gradient(self, x, t):\n",
        "        loss_W = lambda W: self.loss(x, t)\n",
        "\n",
        "        grads = {}\n",
        "        grads['W1'] = numerical_gradient(loss_W, self.params['W1'])\n",
        "        grads['b1'] = numerical_gradient(loss_W, self.params['b1'])\n",
        "        grads['W2'] = numerical_gradient(loss_W, self.params['W2'])\n",
        "        grads['b2'] = numerical_gradient(loss_W, self.params['b2'])\n",
        "\n",
        "        return grads"
      ]
    },
    {
      "cell_type": "code",
      "execution_count": null,
      "id": "c52613c7-50c2-4c4c-8c57-bd91fe1a7294",
      "metadata": {
        "id": "c52613c7-50c2-4c4c-8c57-bd91fe1a7294"
      },
      "outputs": [],
      "source": [
        "# * 주의 : 아주 오래 걸림 *\n",
        "\"\"\"\n",
        "60000개의 훈련 데이터에서 임의로 10000개의 데이터(이미지&정답 레이블)을 추려냄.\n",
        "10000개의 미니배치를 대상으로 확률적 경사 하강법을 수행해 매개변수를 갱신한다.\n",
        "경사법에 의한 갱신 횟수를 10번으로 설정하고 갱신할 때마다 손실 함수를 계산한다.\n",
        "\"\"\"\n",
        "(x_train, t_train), (x_test, t_test) = \\\n",
        "    load_mnist(normalize=True, one_hot_label=False)\n",
        "\n",
        "# 하이퍼 파라메터\n",
        "iters_num = 10  # 반복횟수\n",
        "train_size = x_train.shape[0]\n",
        "batch_size = 10000  # 미니배치 크기\n",
        "learning_rate = 0.1\n",
        "network = TwoLayerNet(input_size=784, hidden_size=50, output_size=10)\n",
        "\n",
        "train_loss_list = []\n",
        "train_acc_list = []\n",
        "test_acc_list = []\n",
        "\n",
        "# 1에폭당 반복 수\n",
        "iter_per_epoch = max(train_size / batch_size, 1)\n",
        "\n",
        "for i in range(iters_num):\n",
        "\n",
        "    # 미니배치 획득\n",
        "    batch_mask = np.random.choice(train_size, batch_size)\n",
        "    x_batch = x_train[batch_mask]\n",
        "    t_batch = t_train[batch_mask]\n",
        "\n",
        "    # 기울기 계산\n",
        "    grad = network.numerical_gradient(x_batch, t_batch)\n",
        "    # grad = network.gradienetworkatch, t_batch)  # 다음 장에서 구현할 더 빠른 방법!\n",
        "\n",
        "    # 매개변수 갱신\n",
        "    for key in ('W1', 'b1', 'W2', 'b2'):\n",
        "        network.params[key] -= learning_rate * grad[key]\n",
        "\n",
        "    # 학습 경과 기록\n",
        "    loss = network.loss(x_batch, t_batch)\n",
        "    train_loss_list.append(loss)\n",
        "\n",
        "    # 1에폭 당 정확도 계산\n",
        "    if i % iter_per_epoch == 0:\n",
        "        print(i)\n",
        "        train_acc = network.accuracy(x_train, t_train)\n",
        "        test_acc = network.accuracy(x_test, t_test)\n",
        "        train_acc_list.append(train_acc)\n",
        "        test_acc_list.append(test_acc)\n",
        "        print(\"train acc, test acc | \"\n",
        "              + str(train_acc) + \", \" + str(test_acc))\n",
        "\n",
        "print(train_loss_list)"
      ]
    },
    {
      "cell_type": "markdown",
      "id": "72120f29-5b22-429c-8a1e-6f55076b837d",
      "metadata": {
        "id": "72120f29-5b22-429c-8a1e-6f55076b837d"
      },
      "source": [
        "### 4.5.3 시험데이터로 평가하기\n",
        "- 학습을 반복하며 손실함수의 값이 내려감.\n",
        "    - 단 오버피팅 되지 않도록 정기적으로 훈현데이터와 시험데이터를 대상으로 정확도를 기록"
      ]
    },
    {
      "cell_type": "code",
      "execution_count": null,
      "id": "6effbe69-19b4-458e-b3b1-29f4f3fab75b",
      "metadata": {
        "id": "6effbe69-19b4-458e-b3b1-29f4f3fab75b",
        "outputId": "94a8edc2-2edb-4a67-d0a6-4bedd8a8a06b"
      },
      "outputs": [
        {
          "name": "stdout",
          "output_type": "stream",
          "text": [
            "train acc, test acc | 0.10218333333333333, 0.101\n",
            "train acc, test acc | 0.7986333333333333, 0.8015\n",
            "train acc, test acc | 0.8780333333333333, 0.8832\n",
            "train acc, test acc | 0.8994333333333333, 0.9013\n",
            "train acc, test acc | 0.90795, 0.9121\n",
            "train acc, test acc | 0.9145166666666666, 0.9185\n",
            "train acc, test acc | 0.9196, 0.9231\n",
            "train acc, test acc | 0.9246166666666666, 0.9258\n",
            "train acc, test acc | 0.9287, 0.9291\n",
            "train acc, test acc | 0.9313833333333333, 0.9328\n",
            "train acc, test acc | 0.9351666666666667, 0.9347\n",
            "train acc, test acc | 0.93765, 0.9363\n",
            "train acc, test acc | 0.9401166666666667, 0.9389\n",
            "train acc, test acc | 0.94215, 0.9398\n",
            "train acc, test acc | 0.9445166666666667, 0.9424\n",
            "train acc, test acc | 0.9464666666666667, 0.9439\n",
            "train acc, test acc | 0.9474333333333333, 0.945\n"
          ]
        }
      ],
      "source": [
        "import numpy as np\n",
        "from dataset.mnist import load_mnist\n",
        "from two_layer_net import TwoLayerNet\n",
        "\n",
        "(x_train, t_train), (x_test, t_test) = \\\n",
        "    load_mnist(normalize=True, one_hot_label=True)\n",
        "\n",
        "network = TwoLayerNet(input_size=784, hidden_size=50, output_size=10)\n",
        "\n",
        "# 하이퍼파라미터\n",
        "iters_num = 10000\n",
        "train_size = x_train.shape[0]\n",
        "batch_size = 100\n",
        "learning_rate = 0.1\n",
        "\n",
        "train_loss_list = []\n",
        "train_acc_list = []\n",
        "test_acc_list = []\n",
        "\n",
        "# 1에폭당 반복수\n",
        "iter_per_epoch = max(train_size / batch_size, 1)\n",
        "\n",
        "for i in range(iters_num):\n",
        "    # 미니배치 획득\n",
        "    batch_mask = np.random.choice(train_size, batch_size)\n",
        "    x_batch = x_train[batch_mask]\n",
        "    t_batch = t_train[batch_mask]\n",
        "\n",
        "    # 기울기 계산\n",
        "    # grad = network.numerical_gradient(x_batch, t_batch)\n",
        "    grad = network.gradient(x_batch, t_batch) # 성능 개선판\n",
        "\n",
        "    # 매개변수 갱신\n",
        "    for key in ('W1','b1','W2','b2'):\n",
        "        network.params[key] -= learning_rate * grad[key]\n",
        "\n",
        "    # 학습경과 기록\n",
        "    loss = network.loss(x_batch, t_batch)\n",
        "    train_loss_list.append(loss)\n",
        "\n",
        "    # 1에폭당 정확도 계산\n",
        "    if i % iter_per_epoch ==0:\n",
        "        train_acc = network.accuracy(x_train, t_train)\n",
        "        test_acc = network.accuracy(x_test, t_test)\n",
        "        train_acc_list.append(train_acc)\n",
        "        test_acc_list.append(test_acc)\n",
        "        print(\"train acc, test acc | \"+str(train_acc)+\", \"+str(test_acc))"
      ]
    },
    {
      "cell_type": "code",
      "execution_count": null,
      "id": "33330675-efce-4935-b0be-d49e53a6da5b",
      "metadata": {
        "id": "33330675-efce-4935-b0be-d49e53a6da5b",
        "outputId": "138233c8-9130-403a-f98f-9c2d1616ff3f"
      },
      "outputs": [
        {
          "data": {
            "image/png": "[encoded data removed]",
            "text/plain": [
              "<Figure size 640x480 with 1 Axes>"
            ]
          },
          "metadata": {},
          "output_type": "display_data"
        }
      ],
      "source": [
        "import matplotlib.pyplot as plt\n",
        "plt.plot(range(len(train_acc_list)),np.array(train_acc_list),c='b')\n",
        "plt.plot(range(len(train_acc_list)),np.array(test_acc_list),c='r')\n",
        "plt.show()"
      ]
    },
    {
      "cell_type": "markdown",
      "id": "b1b2e134-de78-438f-832a-77b8b6946bca",
      "metadata": {
        "id": "b1b2e134-de78-438f-832a-77b8b6946bca"
      },
      "source": [
        "## 4장 정리\n",
        "- 기계학습에서 사용하는 데이터셋은 훈련/시험 데이터로 나눠 사용한다,\n",
        "- 훈련 데이터로 학습한 모델의 범용 능력을 사험 데이터로 평가한다,\n",
        "- 신경망 학습은 손실함수를 지표로, 손실함수의 값이 작아지는 방향으로 가중치 매개변수를 갱신한다.\n",
        "- 가중치 매개변수를 갱신할 때는 가중치 매개변수의 기울기를 이용하고, 기울어진 방향으로 가중치의 값을 갱신하는 작업을 반복한다.\n",
        "- 아주 작은 값을 주었을 때의 차분으로 미분 하는 것을 수치미분이라고 한다.\n",
        "- 수치 미분을 이용해 가중치 매개변수의 기울기를 구할 수 있다.\n",
        "- 수치 미분을 이용한 계산에는 시간이 걸리지만 구현은 간단하다. 한편, 다음장에서 구현하는 오차역전파법은 기울기를 고속으로 구할 수 있다,"
      ]
    }
  ],
  "metadata": {
    "colab": {
      "provenance": [],
      "include_colab_link": true
    },
    "kernelspec": {
      "display_name": "Python 3 (ipykernel)",
      "language": "python",
      "name": "python3"
    },
    "language_info": {
      "codemirror_mode": {
        "name": "ipython",
        "version": 3
      },
      "file_extension": ".py",
      "mimetype": "text/x-python",
      "name": "python",
      "nbconvert_exporter": "python",
      "pygments_lexer": "ipython3",
      "version": "3.10.9"
    }
  },
  "nbformat": 4,
  "nbformat_minor": 5
}