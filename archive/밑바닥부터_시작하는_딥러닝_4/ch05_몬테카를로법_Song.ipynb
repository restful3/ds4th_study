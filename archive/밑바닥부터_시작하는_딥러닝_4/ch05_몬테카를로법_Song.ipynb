{
 "cells": [
  {
   "cell_type": "markdown",
   "id": "cc8aea47-ea1c-46b1-9a1b-54f66b220801",
   "metadata": {},
   "source": [
    "# 몬테카르를로법 기초"
   ]
  },
  {
   "cell_type": "markdown",
   "id": "1beca39c-e83b-4398-9c24-fdb25c957488",
   "metadata": {},
   "source": [
    "## 분포 모델과 샘플 모델"
   ]
  },
  {
   "cell_type": "code",
   "execution_count": 8,
   "id": "729b9693-3c7b-4fc2-881f-143534430e65",
   "metadata": {},
   "outputs": [],
   "source": [
    "import numpy as np\n",
    "\n",
    "def sample(dices=2):\n",
    "    x = 0\n",
    "    for _ in range(dices):\n",
    "        x += np.random.choice([1,2,3,4,5,6])\n",
    "    return x"
   ]
  },
  {
   "cell_type": "code",
   "execution_count": 12,
   "id": "9c8c8886-8d44-4a0e-bb55-4c2dc823bc15",
   "metadata": {},
   "outputs": [
    {
     "data": {
      "text/plain": [
       "2"
      ]
     },
     "execution_count": 12,
     "metadata": {},
     "output_type": "execute_result"
    }
   ],
   "source": [
    "sample()"
   ]
  },
  {
   "cell_type": "markdown",
   "id": "3646c7a5-de38-40db-ae73-2b211b0ece2e",
   "metadata": {},
   "source": [
    "## 몬테카를로법 구현"
   ]
  },
  {
   "cell_type": "code",
   "execution_count": 23,
   "id": "f5368862-5f68-488e-add6-b8bf5ddf40e7",
   "metadata": {},
   "outputs": [
    {
     "name": "stdout",
     "output_type": "stream",
     "text": [
      "6.915\n"
     ]
    }
   ],
   "source": [
    "trial = 1000\n",
    "\n",
    "samples = []\n",
    "\n",
    "for _ in range(trial):\n",
    "    s = sample()\n",
    "    samples.append(s)\n",
    "\n",
    "V = sum(samples) / len(samples)\n",
    "print(V)"
   ]
  },
  {
   "cell_type": "code",
   "execution_count": 28,
   "id": "dd4cb830-1da1-41db-bbf9-f1999f53622f",
   "metadata": {},
   "outputs": [
    {
     "name": "stdout",
     "output_type": "stream",
     "text": [
      "6.899\n",
      "6.9455\n",
      "6.95\n",
      "6.91925\n",
      "6.9558\n",
      "6.9785\n",
      "6.991\n",
      "6.99375\n",
      "7.003555555555556\n",
      "7.0114\n"
     ]
    }
   ],
   "source": [
    "trial = 10000\n",
    "\n",
    "samples = []\n",
    "\n",
    "for _ in range(trial):\n",
    "    s = sample()\n",
    "    samples.append(s)\n",
    "    V = sum(samples) / len(samples)\n",
    "    if len(samples) % 1000 == 0:\n",
    "        print(V)"
   ]
  },
  {
   "cell_type": "code",
   "execution_count": 31,
   "id": "7b205d49-f78b-4035-8661-42ff7f506351",
   "metadata": {},
   "outputs": [
    {
     "name": "stdout",
     "output_type": "stream",
     "text": [
      "7.0740000000000025\n",
      "7.041000000000004\n",
      "7.081666666666665\n",
      "7.041\n",
      "6.997400000000007\n",
      "6.987500000000003\n",
      "6.960142857142859\n",
      "6.957625\n",
      "6.970222222222215\n",
      "6.966799999999992\n"
     ]
    }
   ],
   "source": [
    "trial = 10000\n",
    "V, n = 0, 0\n",
    "\n",
    "for _ in range(trial):\n",
    "    s = sample()\n",
    "    n += 1\n",
    "    V += (s-V)/n\n",
    "    if n % 1000 == 0:\n",
    "        print(V)    "
   ]
  },
  {
   "cell_type": "markdown",
   "id": "e27f887d-864c-44db-b776-8467c62ae7c8",
   "metadata": {},
   "source": [
    "# 몬테카를로법 구현"
   ]
  },
  {
   "cell_type": "markdown",
   "id": "76d57b9a-5ce1-41c2-9f50-cc06bb7f340e",
   "metadata": {},
   "source": [
    "## step() 메서드"
   ]
  },
  {
   "cell_type": "code",
   "execution_count": 33,
   "id": "bbb06c5c-8e52-4be4-bb5b-99f7c85361ef",
   "metadata": {},
   "outputs": [
    {
     "name": "stdout",
     "output_type": "stream",
     "text": [
      "(1, 0)\n",
      "0\n",
      "False\n"
     ]
    }
   ],
   "source": [
    "from common.gridworld import GridWorld\n",
    "\n",
    "env = GridWorld()\n",
    "action = 0\n",
    "next_state, reward, done = env.step(action)\n",
    "\n",
    "print(next_state)\n",
    "print(reward)\n",
    "print(done)"
   ]
  },
  {
   "cell_type": "code",
   "execution_count": 39,
   "id": "ed85abac-9702-4344-bea3-df85360627f0",
   "metadata": {},
   "outputs": [
    {
     "data": {
      "text/plain": [
       "(2, 0)"
      ]
     },
     "execution_count": 39,
     "metadata": {},
     "output_type": "execute_result"
    }
   ],
   "source": [
    "env = GridWorld()\n",
    "state = env.reset()\n",
    "state"
   ]
  },
  {
   "cell_type": "markdown",
   "id": "c9b534ca-1d9b-4758-9474-9cf3e59a5290",
   "metadata": {},
   "source": [
    "## 에이전트 클래스 구현"
   ]
  },
  {
   "cell_type": "code",
   "execution_count": 47,
   "id": "e1ced237-4256-4e46-8874-7b37f30422ee",
   "metadata": {},
   "outputs": [],
   "source": [
    "from collections import defaultdict\n",
    "\n",
    "class RandomAgent():\n",
    "    def __init__(self):\n",
    "        self.gamma = 0.9\n",
    "        self.action_size = 4\n",
    "        random_actions = {0:0.25, 1:0.25, 2:0.25, 3:0.25}\n",
    "        self.pi = defaultdict(lambda:random_actions)\n",
    "        self.V = defaultdict(lambda:0)\n",
    "        self.cnts = defaultdict(lambda: 0)\n",
    "        self.memory = []\n",
    "\n",
    "    def get_action(self, state):\n",
    "        action_probs = self.pi[state]\n",
    "        actions = list(action_probs.keys())\n",
    "        probs = list(action_probs.values())\n",
    "        return np.random.choice(actions, p=probs)\n",
    "\n",
    "    def add(self, state, action, reward):\n",
    "        data = (state, action, reward)\n",
    "        self.memory.append(data)\n",
    "\n",
    "    def reset(self):\n",
    "        self.memory.clear()\n",
    "\n",
    "    def eval(self):\n",
    "        G = 0\n",
    "        for data in reversed(self.memory):\n",
    "            state, action, reward = data\n",
    "            G = self.gamma*G + reward\n",
    "            self.cnts[state] += 1\n",
    "            self.V[state] += (G - self.V[state]) / self.cnts[state]"
   ]
  },
  {
   "cell_type": "markdown",
   "id": "8174ce4d-99d7-4a8e-86ec-95a701ce492e",
   "metadata": {},
   "source": [
    "## 몬테카를로법 실행"
   ]
  },
  {
   "cell_type": "code",
   "execution_count": 50,
   "id": "fa8a82af-75de-46e6-be8f-8a22078d3502",
   "metadata": {},
   "outputs": [
    {
     "data": {
      "image/png": "[encoded data removed]",
      "text/plain": [
       "<Figure size 640x480 with 1 Axes>"
      ]
     },
     "metadata": {},
     "output_type": "display_data"
    }
   ],
   "source": [
    "env = GridWorld()\n",
    "agent = RandomAgent()\n",
    "\n",
    "episodes = 1000\n",
    "for episode in range(episodes):\n",
    "    state = env.reset()\n",
    "    agent.reset()\n",
    "\n",
    "    while True:\n",
    "        action = agent.get_action(state)\n",
    "        next_state, reward, done = env.step(action)\n",
    "        agent.add(state, action, reward)\n",
    "        if done:\n",
    "            agent.eval()\n",
    "            break\n",
    "        state = next_state\n",
    "        \n",
    "env.render_v(agent.V)"
   ]
  },
  {
   "cell_type": "markdown",
   "id": "0e000862-86dd-40f8-b3e4-a69bd9ad357e",
   "metadata": {},
   "source": [
    "# 몬테카를로법으로 정책 제어하기"
   ]
  },
  {
   "cell_type": "markdown",
   "id": "92704cef-88af-4d81-a267-34e9eb86b08b",
   "metadata": {},
   "source": [
    "## 몬테카를로법으로 정책 제어 구현"
   ]
  },
  {
   "cell_type": "code",
   "execution_count": 3,
   "id": "137042fb-1ae9-4eb8-9d1b-c311a5321f39",
   "metadata": {},
   "outputs": [],
   "source": [
    "def greedy_probs(Q, state, action_size=4):\n",
    "    qs = [Q[(state, action)] for action in range(action_size)]\n",
    "    max_action = np.argmax(qs)\n",
    "    action_probs = {action:0.0 for action in range(action_size)}\n",
    "    action_probs[max_action] = 1\n",
    "    return action_probs\n",
    "    \n",
    "class MyAgent:\n",
    "    def __init__(self):\n",
    "        self.gamma = 0.9\n",
    "        self.action_size = 4\n",
    "        random_actions = {0:0.25, 1:0.25, 2:0.25, 3:0.25}\n",
    "        self.pi = defaultdict(lambda : random_actions)\n",
    "        delf.Q = defaultdict(lambda:0)\n",
    "        self.cnts = defaultdict(lambda:0)\n",
    "        self.memory = []\n",
    "\n",
    "    def get_action(self, state):\n",
    "        action_probs = self.pi[state]\n",
    "        actions = list(action_probs.keys())\n",
    "        probs = list(action_probs.values())\n",
    "        return np.random.choice(actions, p=probs)\n",
    "\n",
    "    def add(self, state, action, reward):\n",
    "        data = (state, action, reward)\n",
    "        self.memory.append(data)\n",
    "\n",
    "    def reset(self):\n",
    "        self.memory.clear()\n",
    "\n",
    "    def update(self):\n",
    "        G = 0\n",
    "        for data in reversed(self.memory):\n",
    "            state, action, reward = data\n",
    "            G = self.gamma*G + reward\n",
    "            key = (state, action)\n",
    "            self.cnts[key] += 1\n",
    "            self.Q[key] += (G - self.Q[key]) / self.cnt[key]\n",
    "            self.pi[state] = greedy_probs(self.Q, state)"
   ]
  },
  {
   "cell_type": "markdown",
   "id": "ea8bc5b6-a1d9-4c60-b072-a206cab623f3",
   "metadata": {},
   "source": [
    "## $\\epsilon$-탐욕 정책으로 변경"
   ]
  },
  {
   "cell_type": "code",
   "execution_count": 4,
   "id": "23fbc845-13bc-41b3-b22c-16e65a95c6c3",
   "metadata": {},
   "outputs": [],
   "source": [
    "def greedy_probs(Q, state, epsilon=0, action_size=4):\n",
    "    qs = [Q[(state, action)] for action in range(action_size)]\n",
    "    max_action = np.argmax(qs)\n",
    "\n",
    "    base_prob = epsilon / action_size\n",
    "    action_probs = {action:base_prob for action in range(action_size)}\n",
    "    action_probs[max_action] += (1 - epsilon)\n",
    "    return action_probs"
   ]
  },
  {
   "cell_type": "markdown",
   "id": "541dada4-8f4a-4e2f-9da3-8e7b2ca56a29",
   "metadata": {},
   "source": [
    "## 고정값 $\\alpha$ 방식으로 수행"
   ]
  },
  {
   "cell_type": "code",
   "execution_count": null,
   "id": "3fe1dcfd-a0d5-4af9-88fd-b542ee608a32",
   "metadata": {},
   "outputs": [],
   "source": [
    "alpha = 0.1\n",
    "Q[key] += (g - Q[key])*alpha"
   ]
  },
  {
   "cell_type": "markdown",
   "id": "da90bf61-9ace-427c-87aa-6bc297b1e532",
   "metadata": {},
   "source": [
    "## 몬테카를로법으로 정책 반복법 구현(개선 버전)"
   ]
  },
  {
   "cell_type": "code",
   "execution_count": 12,
   "id": "f0261a1c-cb80-49ec-9107-9c9736379451",
   "metadata": {},
   "outputs": [],
   "source": [
    "from common.gridworld import GridWorld\n",
    "from collections import defaultdict\n",
    "import numpy as np\n",
    "\n",
    "def greedy_probs(Q, state, epsilon=0, action_size=4):\n",
    "    qs = [Q[(state, action)] for action in range(action_size)]\n",
    "    max_action = np.argmax(qs)\n",
    "\n",
    "    base_prob = epsilon / action_size\n",
    "    action_probs = {action:base_prob for action in range(action_size)}\n",
    "    action_probs[max_action] += (1 - epsilon)\n",
    "    return action_probs\n",
    "\n",
    "\n",
    "class MyAgent:\n",
    "    def __init__(self):\n",
    "        self.gamma = 0.9\n",
    "        self.epsilon = 0.1\n",
    "        self.alpha = 0.1\n",
    "        self.action_size = 4\n",
    "        \n",
    "        random_actions = {0:0.25, 1:0.25, 2:0.25, 3:0.25}\n",
    "        self.pi = defaultdict(lambda : random_actions)\n",
    "        self.Q = defaultdict(lambda:0)\n",
    "        # self.cnts = defaultdict(lambda:0)\n",
    "        self.memory = []\n",
    "\n",
    "    def get_action(self, state):\n",
    "        action_probs = self.pi[state]\n",
    "        actions = list(action_probs.keys())\n",
    "        probs = list(action_probs.values())\n",
    "        return np.random.choice(actions, p=probs)\n",
    "\n",
    "    def add(self, state, action, reward):\n",
    "        data = (state, action, reward)\n",
    "        self.memory.append(data)\n",
    "\n",
    "    def reset(self):\n",
    "        self.memory.clear()\n",
    "\n",
    "    def update(self):\n",
    "        G = 0\n",
    "        for data in reversed(self.memory):\n",
    "            state, action, reward = data\n",
    "            G = self.gamma*G + reward\n",
    "            key = (state, action)\n",
    "            # self.cnts[key] += 1\n",
    "            # self.Q[key] += (G - self.Q[key]) / self.cnt[key]\n",
    "            self.Q[key] += (G - self.Q[key]) * self.alpha\n",
    "            self.pi[state] = greedy_probs(self.Q, state, self.epsilon)\n"
   ]
  },
  {
   "cell_type": "code",
   "execution_count": 13,
   "id": "b4124e98-d333-4c28-8333-a11b5fc88f89",
   "metadata": {},
   "outputs": [
    {
     "name": "stderr",
     "output_type": "stream",
     "text": [
      "100%|███████████████████████████████████| 10000/10000 [00:01<00:00, 6292.09it/s]\n"
     ]
    },
    {
     "data": {
      "image/png": "[encoded data removed]",
      "text/plain": [
       "<Figure size 640x480 with 1 Axes>"
      ]
     },
     "metadata": {},
     "output_type": "display_data"
    },
    {
     "data": {
      "image/png": "[encoded data removed]",
      "text/plain": [
       "<Figure size 640x480 with 1 Axes>"
      ]
     },
     "metadata": {},
     "output_type": "display_data"
    }
   ],
   "source": [
    "from tqdm import tqdm\n",
    "\n",
    "env = GridWorld()\n",
    "agent = MyAgent()\n",
    "\n",
    "episodes = 10000\n",
    "for episode in tqdm(range(episodes)):\n",
    "    state = env.reset()\n",
    "    agent.reset()\n",
    "    while True:\n",
    "        action = agent.get_action(state)\n",
    "        next_state, reward, done = env.step(action)\n",
    "        agent.add(state, action,reward)\n",
    "        if done:\n",
    "            agent.update()\n",
    "            break\n",
    "        state = next_state\n",
    "\n",
    "env.render_q(agent.Q)"
   ]
  },
  {
   "cell_type": "markdown",
   "id": "e2d51be2-95cd-4820-aa1d-f484f1b533d4",
   "metadata": {},
   "source": [
    "# 오프-정책과 중요도 샘플링"
   ]
  },
  {
   "cell_type": "markdown",
   "id": "a83ee9e9-b4ab-424d-951a-48f2ef5e26cd",
   "metadata": {},
   "source": [
    "## 중요도 샘플링"
   ]
  },
  {
   "cell_type": "code",
   "execution_count": 15,
   "id": "84ee5102-0745-4f92-94a8-f49906c45788",
   "metadata": {},
   "outputs": [
    {
     "name": "stdout",
     "output_type": "stream",
     "text": [
      "참값 (E_pi[x]) :  2.7\n"
     ]
    }
   ],
   "source": [
    "import numpy as np\n",
    "\n",
    "x = np.array([1,2,3])\n",
    "pi = np.array([0.1, 0.1, 0.8])\n",
    "\n",
    "e = np.sum(x*pi)\n",
    "print(f'참값 (E_pi[x]) : ', e)"
   ]
  },
  {
   "cell_type": "code",
   "execution_count": 19,
   "id": "e358e9c1-df2e-4748-9b98-f6af6a759cf2",
   "metadata": {},
   "outputs": [
    {
     "name": "stdout",
     "output_type": "stream",
     "text": [
      "몬테카를로법: 2.73, 분산 : 0.38\n"
     ]
    }
   ],
   "source": [
    "n = 100\n",
    "samples = []\n",
    "for _ in range(n):\n",
    "    s = np.random.choice(x, p = pi)\n",
    "    samples.append(s)\n",
    "mean = np.mean(samples)    \n",
    "var = np.var(samples)\n",
    "print(f'몬테카를로법: {mean:.2f}, 분산 : {var:.2f}')"
   ]
  },
  {
   "cell_type": "code",
   "execution_count": 20,
   "id": "50f1323c-3111-48dd-bc08-aa50330ee2c7",
   "metadata": {},
   "outputs": [
    {
     "name": "stdout",
     "output_type": "stream",
     "text": [
      "중요도 샘플링: 2.54, 분산 : 9.77\n"
     ]
    }
   ],
   "source": [
    "b = np.array([1/3, 1/3, 1/3])\n",
    "n = 100\n",
    "samples = []\n",
    "\n",
    "for _ in range(n):\n",
    "    idx = np.arange(len(b))\n",
    "    i = np.random.choice(idx, p=b)\n",
    "    s = x[i]\n",
    "    rho = pi[i] / b[i]\n",
    "    samples.append(rho * s)\n",
    "\n",
    "mean = np.mean(samples)    \n",
    "var = np.var(samples)\n",
    "print(f'중요도 샘플링: {mean:.2f}, 분산 : {var:.2f}')"
   ]
  },
  {
   "cell_type": "code",
   "execution_count": null,
   "id": "43d2838c-de24-4faa-9b78-975ebf823a45",
   "metadata": {},
   "outputs": [],
   "source": []
  }
 ],
 "metadata": {
  "kernelspec": {
   "display_name": "Python 3 (ipykernel)",
   "language": "python",
   "name": "python3"
  },
  "language_info": {
   "codemirror_mode": {
    "name": "ipython",
    "version": 3
   },
   "file_extension": ".py",
   "mimetype": "text/x-python",
   "name": "python",
   "nbconvert_exporter": "python",
   "pygments_lexer": "ipython3",
   "version": "3.10.14"
  }
 },
 "nbformat": 4,
 "nbformat_minor": 5
}
