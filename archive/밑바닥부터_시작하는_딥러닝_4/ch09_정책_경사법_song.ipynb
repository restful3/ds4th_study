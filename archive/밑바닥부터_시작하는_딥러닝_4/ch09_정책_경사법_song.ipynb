{
 "cells": [
  {
   "cell_type": "markdown",
   "id": "7faf67cb-07d4-4660-8502-378e0644dd57",
   "metadata": {},
   "source": [
    "# 가장 간단한 정책 경사법"
   ]
  },
  {
   "cell_type": "code",
   "execution_count": null,
   "id": "2d16ac5e-6076-4aaf-96b3-f0acd7369f3b",
   "metadata": {},
   "outputs": [],
   "source": []
  }
 ],
 "metadata": {
  "kernelspec": {
   "display_name": "Python 3 (ipykernel)",
   "language": "python",
   "name": "python3"
  },
  "language_info": {
   "codemirror_mode": {
    "name": "ipython",
    "version": 3
   },
   "file_extension": ".py",
   "mimetype": "text/x-python",
   "name": "python",
   "nbconvert_exporter": "python",
   "pygments_lexer": "ipython3",
   "version": "3.10.14"
  }
 },
 "nbformat": 4,
 "nbformat_minor": 5
}
