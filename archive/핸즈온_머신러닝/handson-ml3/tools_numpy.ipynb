{
  "cells": [
    {
      "cell_type": "markdown",
      "metadata": {
        "id": "0ifVSs2VHFIb"
      },
      "source": [
        "**도구 - 넘파이(NumPy)**\n",
        "\n",
        "*넘파이(NumPy)는 파이썬의 과학 컴퓨팅을 위한 기본 라이브러리입니다. 넘파이의 핵심은 강력한 N-차원 배열 객체입니다. 또한 선형 대수, 푸리에(Fourier) 변환, 유사 난수 생성과 같은 유용한 함수들도 제공합니다.*"
      ]
    },
    {
      "cell_type": "markdown",
      "metadata": {
        "id": "ZznkFt_DHFIl"
      },
      "source": [
        "<table align=\"left\">\n",
        "  <td>\n",
        "    <a href=\"https://colab.research.google.com/github/rickiepark/handson-ml3/blob/main/tools_numpy.ipynb\" target=\"_parent\"><img src=\"https://colab.research.google.com/assets/colab-badge.svg\" alt=\"Open In Colab\"/></a>\n",
        "  </td>\n",
        "</table>"
      ]
    },
    {
      "cell_type": "markdown",
      "metadata": {
        "id": "KZOdZLnzHFIm"
      },
      "source": [
        "# 배열 생성"
      ]
    },
    {
      "cell_type": "markdown",
      "metadata": {
        "id": "nHRvWKqMHFIo"
      },
      "source": [
        "`numpy`를 임포트해 보죠. 대부분의 사람들이 `np`로 알리아싱하여 임포트합니다:"
      ]
    },
    {
      "cell_type": "code",
      "execution_count": 1,
      "metadata": {
        "id": "VNdVv_jVHFIp"
      },
      "outputs": [],
      "source": [
        "import numpy as np"
      ]
    },
    {
      "cell_type": "markdown",
      "metadata": {
        "id": "O03zmhtEHFIr"
      },
      "source": [
        "## `np.zeros`"
      ]
    },
    {
      "cell_type": "markdown",
      "metadata": {
        "id": "HsY7rFCtHFIs"
      },
      "source": [
        "`zeros` 함수는 0으로 채워진 배열을 만듭니다:"
      ]
    },
    {
      "cell_type": "code",
      "execution_count": 2,
      "metadata": {
        "id": "JfXJAD9QHFIs",
        "outputId": "3f863f3d-b0c7-479a-8545-9c474aaf5962",
        "colab": {
          "base_uri": "https://localhost:8080/"
        }
      },
      "outputs": [
        {
          "output_type": "execute_result",
          "data": {
            "text/plain": [
              "array([0., 0., 0., 0., 0.])"
            ]
          },
          "metadata": {},
          "execution_count": 2
        }
      ],
      "source": [
        "np.zeros(5)"
      ]
    },
    {
      "cell_type": "markdown",
      "metadata": {
        "id": "OXuyhVQPHFIy"
      },
      "source": [
        "2D 배열(즉, 행렬)을 만들려면 원하는 행과 열의 크기를 튜플로 전달합니다. 예를 들어 다음은 $3 \\times 4$ 크기의 행렬입니다:"
      ]
    },
    {
      "cell_type": "code",
      "execution_count": 3,
      "metadata": {
        "id": "10evilyCHFJB",
        "outputId": "f5c03c65-8d72-4060-8a81-9f751842abd2",
        "colab": {
          "base_uri": "https://localhost:8080/"
        }
      },
      "outputs": [
        {
          "output_type": "execute_result",
          "data": {
            "text/plain": [
              "array([[0., 0., 0., 0.],\n",
              "       [0., 0., 0., 0.],\n",
              "       [0., 0., 0., 0.]])"
            ]
          },
          "metadata": {},
          "execution_count": 3
        }
      ],
      "source": [
        "np.zeros((3,4))"
      ]
    },
    {
      "cell_type": "markdown",
      "metadata": {
        "id": "Ox3cUG5UHFJD"
      },
      "source": [
        "## 용어\n",
        "\n",
        "* 넘파이에서 각 차원을 **축**(axis) 이라고 합니다\n",
        "* 축의 개수를 **랭크**(rank) 라고 합니다.\n",
        "    * 예를 들어, 위의 $3 \\times 4$ 행렬은 랭크 2인 배열입니다(즉 2차원입니다).\n",
        "    * 첫 번째 축의 길이는 3이고 두 번째 축의 길이는 4입니다.\n",
        "* 배열의 축 길이를 배열의 **크기**(shape)라고 합니다.\n",
        "    * 예를 들어, 위 행렬의 크기는 `(3, 4)`입니다.\n",
        "    * 랭크는 크기의 길이와 같습니다.\n",
        "* 배열의 **사이즈**(size)는 전체 원소의 개수입니다. 축의 길이를 모두 곱해서 구할 수 있습니다(가령, $3 \\times 4=12$)."
      ]
    },
    {
      "cell_type": "code",
      "execution_count": 4,
      "metadata": {
        "id": "_v0e-kSlHFJE",
        "outputId": "cd034c68-b0dc-47ae-c6e1-faa74f9d4700",
        "colab": {
          "base_uri": "https://localhost:8080/"
        }
      },
      "outputs": [
        {
          "output_type": "execute_result",
          "data": {
            "text/plain": [
              "array([[0., 0., 0., 0.],\n",
              "       [0., 0., 0., 0.],\n",
              "       [0., 0., 0., 0.]])"
            ]
          },
          "metadata": {},
          "execution_count": 4
        }
      ],
      "source": [
        "a = np.zeros((3,4))\n",
        "a"
      ]
    },
    {
      "cell_type": "code",
      "execution_count": 5,
      "metadata": {
        "id": "FRzQNcNGHFJE",
        "outputId": "3fd81497-8f42-49df-8ba5-95aa54b3e950",
        "colab": {
          "base_uri": "https://localhost:8080/"
        }
      },
      "outputs": [
        {
          "output_type": "execute_result",
          "data": {
            "text/plain": [
              "(3, 4)"
            ]
          },
          "metadata": {},
          "execution_count": 5
        }
      ],
      "source": [
        "a.shape"
      ]
    },
    {
      "cell_type": "code",
      "execution_count": 6,
      "metadata": {
        "id": "xsUpRFMyHFJF",
        "outputId": "3452e379-ce05-4d4f-8eb0-4f8b618623ad",
        "colab": {
          "base_uri": "https://localhost:8080/"
        }
      },
      "outputs": [
        {
          "output_type": "execute_result",
          "data": {
            "text/plain": [
              "2"
            ]
          },
          "metadata": {},
          "execution_count": 6
        }
      ],
      "source": [
        "a.ndim  # len(a.shape)와 같습니다"
      ]
    },
    {
      "cell_type": "code",
      "execution_count": 7,
      "metadata": {
        "id": "xADqErT6HFJF",
        "outputId": "f12e3073-1bae-45ea-bf2d-33db67adf36e",
        "colab": {
          "base_uri": "https://localhost:8080/"
        }
      },
      "outputs": [
        {
          "output_type": "execute_result",
          "data": {
            "text/plain": [
              "12"
            ]
          },
          "metadata": {},
          "execution_count": 7
        }
      ],
      "source": [
        "a.size"
      ]
    },
    {
      "cell_type": "markdown",
      "metadata": {
        "id": "hnL3EqFfHFJG"
      },
      "source": [
        "## N-차원 배열\n",
        "임의의 랭크 수를 가진 N-차원 배열을 만들 수 있습니다. 예를 들어, 다음은 크기가 `(2,3,4)`인 3D 배열(랭크=3)입니다:"
      ]
    },
    {
      "cell_type": "code",
      "execution_count": 8,
      "metadata": {
        "id": "-Rt7In6sHFJH",
        "outputId": "1164f657-f540-4ffa-c88b-eabca3cba719",
        "colab": {
          "base_uri": "https://localhost:8080/"
        }
      },
      "outputs": [
        {
          "output_type": "execute_result",
          "data": {
            "text/plain": [
              "array([[[0., 0., 0., 0.],\n",
              "        [0., 0., 0., 0.],\n",
              "        [0., 0., 0., 0.]],\n",
              "\n",
              "       [[0., 0., 0., 0.],\n",
              "        [0., 0., 0., 0.],\n",
              "        [0., 0., 0., 0.]]])"
            ]
          },
          "metadata": {},
          "execution_count": 8
        }
      ],
      "source": [
        "np.zeros((2,3,4))"
      ]
    },
    {
      "cell_type": "markdown",
      "metadata": {
        "id": "wPou1vWqHFJI"
      },
      "source": [
        "## 배열 타입\n",
        "넘파이 배열의 타입은 `ndarray`입니다:"
      ]
    },
    {
      "cell_type": "code",
      "execution_count": 9,
      "metadata": {
        "id": "P0xEUls5HFJI",
        "outputId": "f4ba1a4a-9e63-4cfa-d188-41579dcbef95",
        "colab": {
          "base_uri": "https://localhost:8080/"
        }
      },
      "outputs": [
        {
          "output_type": "execute_result",
          "data": {
            "text/plain": [
              "numpy.ndarray"
            ]
          },
          "metadata": {},
          "execution_count": 9
        }
      ],
      "source": [
        "type(np.zeros((3,4)))"
      ]
    },
    {
      "cell_type": "markdown",
      "metadata": {
        "id": "lG_zrTvgHFJL"
      },
      "source": [
        "## `np.ones`\n",
        "`ndarray`를 만들 수 있는 넘파이 함수가 많습니다.\n",
        "\n",
        "다음은 1로 채워진 $3 \\times 4$ 크기의 행렬입니다:"
      ]
    },
    {
      "cell_type": "code",
      "execution_count": 10,
      "metadata": {
        "id": "BjpeFaIhHFJM",
        "outputId": "fe400570-8e16-4a7b-8f2a-5fb92cc9c512",
        "colab": {
          "base_uri": "https://localhost:8080/"
        }
      },
      "outputs": [
        {
          "output_type": "execute_result",
          "data": {
            "text/plain": [
              "array([[1., 1., 1., 1.],\n",
              "       [1., 1., 1., 1.],\n",
              "       [1., 1., 1., 1.]])"
            ]
          },
          "metadata": {},
          "execution_count": 10
        }
      ],
      "source": [
        "np.ones((3,4))"
      ]
    },
    {
      "cell_type": "markdown",
      "metadata": {
        "id": "OgE8lMYyHFJM"
      },
      "source": [
        "## `np.full`\n",
        "주어진 값으로 지정된 크기의 배열을 초기화합니다. 다음은 `π`로 채워진 $3 \\times 4$ 크기의 행렬입니다."
      ]
    },
    {
      "cell_type": "code",
      "execution_count": 11,
      "metadata": {
        "id": "c2dECyqfHFJN",
        "outputId": "e38ae80f-0f6a-4859-89fc-ef63292c07f1",
        "colab": {
          "base_uri": "https://localhost:8080/"
        }
      },
      "outputs": [
        {
          "output_type": "execute_result",
          "data": {
            "text/plain": [
              "array([[3.14159265, 3.14159265, 3.14159265, 3.14159265],\n",
              "       [3.14159265, 3.14159265, 3.14159265, 3.14159265],\n",
              "       [3.14159265, 3.14159265, 3.14159265, 3.14159265]])"
            ]
          },
          "metadata": {},
          "execution_count": 11
        }
      ],
      "source": [
        "np.full((3,4), np.pi)"
      ]
    },
    {
      "cell_type": "markdown",
      "metadata": {
        "id": "khjdURdPHFJO"
      },
      "source": [
        "## `np.empty`\n",
        "초기화되지 않은 $2 \\times 3$ 크기의 배열을 만듭니다(배열의 내용은 예측이 불가능하며 메모리 상황에 따라 달라집니다):"
      ]
    },
    {
      "cell_type": "code",
      "execution_count": 12,
      "metadata": {
        "scrolled": true,
        "id": "AN6jfkqyHFJO",
        "outputId": "33dbd857-0b0e-403b-c00c-d51a5e47a21c",
        "colab": {
          "base_uri": "https://localhost:8080/"
        }
      },
      "outputs": [
        {
          "output_type": "execute_result",
          "data": {
            "text/plain": [
              "array([[1.1015585e-316, 0.0000000e+000, 0.0000000e+000],\n",
              "       [0.0000000e+000, 0.0000000e+000, 0.0000000e+000]])"
            ]
          },
          "metadata": {},
          "execution_count": 12
        }
      ],
      "source": [
        "np.empty((2,3))"
      ]
    },
    {
      "cell_type": "markdown",
      "metadata": {
        "id": "doDM2JxzHFJP"
      },
      "source": [
        "## np.array\n",
        "`array` 함수는 파이썬 리스트를 사용하여 `ndarray`를 초기화합니다:"
      ]
    },
    {
      "cell_type": "code",
      "execution_count": 13,
      "metadata": {
        "id": "pLb-VV6DHFJP",
        "outputId": "2e8ce74e-5834-49c3-a1c2-75f5872c5c39",
        "colab": {
          "base_uri": "https://localhost:8080/"
        }
      },
      "outputs": [
        {
          "output_type": "execute_result",
          "data": {
            "text/plain": [
              "array([[ 1,  2,  3,  4],\n",
              "       [10, 20, 30, 40]])"
            ]
          },
          "metadata": {},
          "execution_count": 13
        }
      ],
      "source": [
        "np.array([[1,2,3,4], [10, 20, 30, 40]])"
      ]
    },
    {
      "cell_type": "markdown",
      "metadata": {
        "id": "NA4KoTnPHFJP"
      },
      "source": [
        "## `np.arange`\n",
        "파이썬의 기본 `range` 함수와 비슷한 넘파이 `arange` 함수를 사용하여 `ndarray`를 만들 수 있습니다:"
      ]
    },
    {
      "cell_type": "code",
      "execution_count": 14,
      "metadata": {
        "scrolled": true,
        "id": "84vWo7nGHFJQ",
        "outputId": "3ea0f14a-c0b8-4aa0-9e7e-576cafd785a8",
        "colab": {
          "base_uri": "https://localhost:8080/"
        }
      },
      "outputs": [
        {
          "output_type": "execute_result",
          "data": {
            "text/plain": [
              "array([1, 2, 3, 4])"
            ]
          },
          "metadata": {},
          "execution_count": 14
        }
      ],
      "source": [
        "np.arange(1, 5)"
      ]
    },
    {
      "cell_type": "markdown",
      "metadata": {
        "id": "AWWMYZqEHFJQ"
      },
      "source": [
        "부동 소수도 가능합니다:"
      ]
    },
    {
      "cell_type": "code",
      "execution_count": 15,
      "metadata": {
        "id": "feghH-lrHFJQ",
        "outputId": "ee09a0fa-08f3-4aeb-e493-00385911fff2",
        "colab": {
          "base_uri": "https://localhost:8080/"
        }
      },
      "outputs": [
        {
          "output_type": "execute_result",
          "data": {
            "text/plain": [
              "array([1., 2., 3., 4.])"
            ]
          },
          "metadata": {},
          "execution_count": 15
        }
      ],
      "source": [
        "np.arange(1.0, 5.0)"
      ]
    },
    {
      "cell_type": "markdown",
      "metadata": {
        "id": "u1plfcKaHFJQ"
      },
      "source": [
        "파이썬의 기본 `range` 함수처럼 건너 뛰는 정도를 지정할 수 있습니다:"
      ]
    },
    {
      "cell_type": "code",
      "execution_count": 16,
      "metadata": {
        "id": "0hiGah5KHFJR",
        "outputId": "a1cb4db2-afe5-427f-a65d-9c06ce7ad040",
        "colab": {
          "base_uri": "https://localhost:8080/"
        }
      },
      "outputs": [
        {
          "output_type": "execute_result",
          "data": {
            "text/plain": [
              "array([1. , 1.5, 2. , 2.5, 3. , 3.5, 4. , 4.5])"
            ]
          },
          "metadata": {},
          "execution_count": 16
        }
      ],
      "source": [
        "np.arange(1, 5, 0.5)"
      ]
    },
    {
      "cell_type": "markdown",
      "metadata": {
        "id": "OvYZHL68HFJR"
      },
      "source": [
        "부동 소수를 사용하면 원소의 개수가 일정하지 않을 수 있습니다. 예를 들면 다음과 같습니다:"
      ]
    },
    {
      "cell_type": "code",
      "execution_count": 17,
      "metadata": {
        "id": "jXpZeBTWHFJR",
        "outputId": "38b7c674-340b-4fb0-8cf7-b4aa5e1ccba6",
        "colab": {
          "base_uri": "https://localhost:8080/"
        }
      },
      "outputs": [
        {
          "output_type": "stream",
          "name": "stdout",
          "text": [
            "[0.         0.33333333 0.66666667 1.         1.33333333 1.66666667]\n",
            "[0.         0.33333333 0.66666667 1.         1.33333333 1.66666667]\n",
            "[0.         0.33333333 0.66666667 1.         1.33333334]\n"
          ]
        }
      ],
      "source": [
        "print(np.arange(0, 5/3, 1/3)) # 부동 소수 오차 때문에, 최댓값은 4/3 또는 5/3이 됩니다.\n",
        "print(np.arange(0, 5/3, 0.333333333))\n",
        "print(np.arange(0, 5/3, 0.333333334))"
      ]
    },
    {
      "cell_type": "markdown",
      "metadata": {
        "id": "juceLleeHFJS"
      },
      "source": [
        "## `np.linspace`\n",
        "이런 이유로 부동 소수를 사용할 땐 `arange` 대신에 `linspace` 함수를 사용하는 것이 좋습니다. `linspace` 함수는 지정된 개수만큼 두 값 사이를 나눈 배열을 반환합니다(`arange`와는 다르게 최댓값이 **포함**됩니다):"
      ]
    },
    {
      "cell_type": "code",
      "execution_count": 18,
      "metadata": {
        "id": "n-abC-daHFJS",
        "outputId": "4b260e8b-0ff7-40b3-b612-df51f307b76b",
        "colab": {
          "base_uri": "https://localhost:8080/"
        }
      },
      "outputs": [
        {
          "output_type": "stream",
          "name": "stdout",
          "text": [
            "[0.         0.33333333 0.66666667 1.         1.33333333 1.66666667]\n"
          ]
        }
      ],
      "source": [
        "print(np.linspace(0, 5/3, 6))"
      ]
    },
    {
      "cell_type": "markdown",
      "metadata": {
        "id": "ACGrV0FkHFJT"
      },
      "source": [
        "## `np.rand`와 `np.randn`\n",
        "넘파이의 `random` 모듈에는 `ndarray`를 랜덤한 값으로 초기화할 수 있는 함수들이 많이 있습니다.\n",
        "예를 들어, 다음은 (균등 분포인) 0과 1사이의 랜덤한 부동 소수로 $3 \\times 4$ 행렬을 초기화합니다:"
      ]
    },
    {
      "cell_type": "code",
      "execution_count": 19,
      "metadata": {
        "id": "-iF7EVbKHFJT",
        "outputId": "b5921faa-250a-4b1a-98fe-2b34e72bd1bf",
        "colab": {
          "base_uri": "https://localhost:8080/"
        }
      },
      "outputs": [
        {
          "output_type": "execute_result",
          "data": {
            "text/plain": [
              "array([[0.71038484, 0.92153783, 0.19109503, 0.07520749],\n",
              "       [0.9028731 , 0.58544785, 0.86638753, 0.0827282 ],\n",
              "       [0.61792444, 0.96515158, 0.16026465, 0.22570524]])"
            ]
          },
          "metadata": {},
          "execution_count": 19
        }
      ],
      "source": [
        "np.random.rand(3,4)"
      ]
    },
    {
      "cell_type": "markdown",
      "metadata": {
        "id": "TpmVNajuHFJl"
      },
      "source": [
        "다음은 평균이 0이고 분산이 1인 일변량 [정규 분포](https://ko.wikipedia.org/wiki/%EC%A0%95%EA%B7%9C_%EB%B6%84%ED%8F%AC)(가우시안 분포)에서 샘플링한 랜덤한 부동 소수를 담은 $3 \\times 4$ 행렬입니다:"
      ]
    },
    {
      "cell_type": "code",
      "execution_count": 20,
      "metadata": {
        "id": "cV1q8pljHFJl",
        "outputId": "e1eb40e5-94ad-4711-f6fc-15f255d030e0",
        "colab": {
          "base_uri": "https://localhost:8080/"
        }
      },
      "outputs": [
        {
          "output_type": "execute_result",
          "data": {
            "text/plain": [
              "array([[-1.30300851,  1.96650816, -1.01521421,  0.15080218],\n",
              "       [-2.06099386, -0.80533476,  0.1521401 ,  0.63978927],\n",
              "       [ 0.11702926, -0.99811889, -1.77450698, -0.15810404]])"
            ]
          },
          "metadata": {},
          "execution_count": 20
        }
      ],
      "source": [
        "np.random.randn(3,4)"
      ]
    },
    {
      "cell_type": "markdown",
      "metadata": {
        "id": "kx_MRjCcHFJm"
      },
      "source": [
        "이 분포의 모양을 알려면 맷플롯립을 사용해 그려보는 것이 좋습니다(더 자세한 것은 [맷플롯립 튜토리얼](tools_matplotlib.ipynb)을 참고하세요):"
      ]
    },
    {
      "cell_type": "code",
      "execution_count": 21,
      "metadata": {
        "id": "zICKD5H7HFJm",
        "outputId": "722566bb-85ca-430a-9af3-9a0468372566",
        "colab": {
          "base_uri": "https://localhost:8080/"
        }
      },
      "outputs": [
        {
          "output_type": "stream",
          "name": "stdout",
          "text": [
            "debconf: unable to initialize frontend: Dialog\n",
            "debconf: (No usable dialog-like program is installed, so the dialog based frontend cannot be used. at /usr/share/perl5/Debconf/FrontEnd/Dialog.pm line 76, <> line 1.)\n",
            "debconf: falling back to frontend: Readline\n",
            "debconf: unable to initialize frontend: Readline\n",
            "debconf: (This frontend requires a controlling tty.)\n",
            "debconf: falling back to frontend: Teletype\n",
            "dpkg-preconfigure: unable to re-open stdin: \n",
            "Selecting previously unselected package fonts-nanum.\n",
            "(Reading database ... 122518 files and directories currently installed.)\n",
            "Preparing to unpack .../fonts-nanum_20180306-3_all.deb ...\n",
            "Unpacking fonts-nanum (20180306-3) ...\n",
            "Setting up fonts-nanum (20180306-3) ...\n",
            "Processing triggers for fontconfig (2.13.1-2ubuntu3) ...\n"
          ]
        }
      ],
      "source": [
        "import matplotlib.pyplot as plt\n",
        "\n",
        "import sys\n",
        "# 코랩의 경우 나눔 폰트를 설치합니다.\n",
        "if 'google.colab' in sys.modules:\n",
        "    !sudo apt-get -qq -y install fonts-nanum\n",
        "    import matplotlib.font_manager as fm\n",
        "    font_files = fm.findSystemFonts(fontpaths=['/usr/share/fonts/truetype/nanum'])\n",
        "    for fpath in font_files:\n",
        "        fm.fontManager.addfont(fpath)\n",
        "\n",
        "# 나눔 폰트를 사용합니다.\n",
        "import matplotlib \n",
        "\n",
        "matplotlib.rc('font', family='NanumBarunGothic')\n",
        "matplotlib.rcParams['axes.unicode_minus'] = False"
      ]
    },
    {
      "cell_type": "code",
      "execution_count": 22,
      "metadata": {
        "id": "5GNt5Q6sHFJm",
        "outputId": "ea1a2595-520a-42a6-b3ef-531d71309798",
        "colab": {
          "base_uri": "https://localhost:8080/",
          "height": 471
        }
      },
      "outputs": [
        {
          "output_type": "display_data",
          "data": {
            "text/plain": [
              "<Figure size 640x480 with 1 Axes>"
            ],
            "image/png": "[encoded data removed]"
          },
          "metadata": {}
        }
      ],
      "source": [
        "plt.hist(np.random.rand(100000), density=True, bins=100, histtype=\"step\", color=\"blue\", label=\"rand\")\n",
        "plt.hist(np.random.randn(100000), density=True, bins=100, histtype=\"step\", color=\"red\", label=\"randn\")\n",
        "plt.axis([-2.5, 2.5, 0, 1.1])\n",
        "plt.legend(loc = \"upper left\")\n",
        "plt.title(\"랜덤 분포\")\n",
        "plt.xlabel(\"값\")\n",
        "plt.ylabel(\"밀도\")\n",
        "plt.show()"
      ]
    },
    {
      "cell_type": "markdown",
      "metadata": {
        "id": "5YpYqbGFHFJn"
      },
      "source": [
        "## np.fromfunction\n",
        "함수를 사용하여 `ndarray`를 초기화할 수도 있습니다:"
      ]
    },
    {
      "cell_type": "code",
      "execution_count": 23,
      "metadata": {
        "id": "QBwYsBHLHFJn",
        "outputId": "c6726f10-97d9-4d5c-d05b-70a851d4d0f0",
        "colab": {
          "base_uri": "https://localhost:8080/"
        }
      },
      "outputs": [
        {
          "output_type": "execute_result",
          "data": {
            "text/plain": [
              "array([[[  0.,   1.,   2.,   3.,   4.,   5.,   6.,   7.,   8.,   9.],\n",
              "        [ 10.,  11.,  12.,  13.,  14.,  15.,  16.,  17.,  18.,  19.]],\n",
              "\n",
              "       [[100., 101., 102., 103., 104., 105., 106., 107., 108., 109.],\n",
              "        [110., 111., 112., 113., 114., 115., 116., 117., 118., 119.]],\n",
              "\n",
              "       [[200., 201., 202., 203., 204., 205., 206., 207., 208., 209.],\n",
              "        [210., 211., 212., 213., 214., 215., 216., 217., 218., 219.]]])"
            ]
          },
          "metadata": {},
          "execution_count": 23
        }
      ],
      "source": [
        "def my_function(z, y, x):\n",
        "    return x + 10 * y + 100 * z\n",
        "\n",
        "np.fromfunction(my_function, (3, 2, 10))"
      ]
    },
    {
      "cell_type": "markdown",
      "metadata": {
        "id": "b511Y00KHFJo"
      },
      "source": [
        "넘파이는 먼저 크기가 `(3, 2, 10)`인 세 개의 `ndarray`(차원마다 하나씩)를 만듭니다. 각 배열은 축을 따라 좌표 값과 같은 값을 가집니다. 예를 들어, `z` 축에 있는 배열의 모든 원소는 z-축의 값과 같습니다:\n",
        "\n",
        "    [[[ 0.  0.  0.  0.  0.  0.  0.  0.  0.  0.]\n",
        "      [ 0.  0.  0.  0.  0.  0.  0.  0.  0.  0.]]\n",
        "    \n",
        "     [[ 1.  1.  1.  1.  1.  1.  1.  1.  1.  1.]\n",
        "      [ 1.  1.  1.  1.  1.  1.  1.  1.  1.  1.]]\n",
        "    \n",
        "     [[ 2.  2.  2.  2.  2.  2.  2.  2.  2.  2.]\n",
        "      [ 2.  2.  2.  2.  2.  2.  2.  2.  2.  2.]]]\n",
        "\n",
        "위의 식 `x + 10 * y + 100 * z`에서 `x`, `y`, `z`는 사실 `ndarray`입니다(배열의 산술 연산에 대해서는 아래에서 설명합니다). 중요한 점은 함수 `my_function`이 원소마다 호출되는 것이 아니고 딱 **한 번** 호출된다는 점입니다. 그래서 매우 효율적으로 초기화할 수 있습니다."
      ]
    },
    {
      "cell_type": "markdown",
      "metadata": {
        "id": "Lyu5vg0aHFJp"
      },
      "source": [
        "# 배열 데이터\n",
        "## `dtype`\n",
        "넘파이의 `ndarray`는 모든 원소가 동일한 타입(보통 숫자)을 가지기 때문에 효율적입니다. `dtype` 속성으로 쉽게 데이터 타입을 확인할 수 있습니다:"
      ]
    },
    {
      "cell_type": "code",
      "execution_count": 24,
      "metadata": {
        "scrolled": true,
        "id": "-zJBiWJOHFJp",
        "outputId": "bbd5cf60-b08e-4261-88f3-d10304d69f54",
        "colab": {
          "base_uri": "https://localhost:8080/"
        }
      },
      "outputs": [
        {
          "output_type": "stream",
          "name": "stdout",
          "text": [
            "int64 [1 2 3 4]\n"
          ]
        }
      ],
      "source": [
        "c = np.arange(1, 5)\n",
        "print(c.dtype, c)"
      ]
    },
    {
      "cell_type": "code",
      "execution_count": 25,
      "metadata": {
        "id": "46kw07w7HFJp",
        "outputId": "b2d57bd5-465c-4d37-d2b9-839c528a01d4",
        "colab": {
          "base_uri": "https://localhost:8080/"
        }
      },
      "outputs": [
        {
          "output_type": "stream",
          "name": "stdout",
          "text": [
            "float64 [1. 2. 3. 4.]\n"
          ]
        }
      ],
      "source": [
        "c = np.arange(1.0, 5.0)\n",
        "print(c.dtype, c)"
      ]
    },
    {
      "cell_type": "markdown",
      "metadata": {
        "id": "kkHAGmIWHFJq"
      },
      "source": [
        "넘파이가 데이터 타입을 결정하도록 내버려 두는 대신 `dtype` 매개변수를 사용해서 배열을 만들 때 명시적으로 지정할 수 있습니다:"
      ]
    },
    {
      "cell_type": "code",
      "execution_count": 26,
      "metadata": {
        "id": "Y2Z5BB3xHFJr",
        "outputId": "a6adefc0-bcc7-43f0-f90b-9acf78549239",
        "colab": {
          "base_uri": "https://localhost:8080/"
        }
      },
      "outputs": [
        {
          "output_type": "stream",
          "name": "stdout",
          "text": [
            "complex64 [1.+0.j 2.+0.j 3.+0.j 4.+0.j]\n"
          ]
        }
      ],
      "source": [
        "d = np.arange(1, 5, dtype=np.complex64)\n",
        "print(d.dtype, d)"
      ]
    },
    {
      "cell_type": "markdown",
      "metadata": {
        "id": "rUAcFzcsHFJs"
      },
      "source": [
        "가능한 데이터 타입은 `int8`, `int16`, `int32`, `int64`, `uint8`|`16`|`32`|`64`, `float16`|`32`|`64`, `complex64`|`128`가 있습니다. 전체 리스트는 [온라인 문서](http://docs.scipy.org/doc/numpy/user/basics.types.html)를 참고하세요.\n",
        "\n",
        "## `itemsize`\n",
        "`itemsize` 속성은 각 아이템의 크기(바이트)를 반환합니다:"
      ]
    },
    {
      "cell_type": "code",
      "execution_count": 27,
      "metadata": {
        "id": "3txrMH5IHFJt",
        "outputId": "1f6cd3dc-d126-474a-cc92-7f83745d1bdc",
        "colab": {
          "base_uri": "https://localhost:8080/"
        }
      },
      "outputs": [
        {
          "output_type": "execute_result",
          "data": {
            "text/plain": [
              "8"
            ]
          },
          "metadata": {},
          "execution_count": 27
        }
      ],
      "source": [
        "e = np.arange(1, 5, dtype=np.complex64)\n",
        "e.itemsize"
      ]
    },
    {
      "cell_type": "markdown",
      "metadata": {
        "id": "GBAPyE-KHFJt"
      },
      "source": [
        "## `data` 버퍼\n",
        "배열의 데이터는 1차원 바이트 버퍼로 메모리에 저장됩니다. `data` 속성을 사용해 참조할 수 있습니다(사용할 일은 거의 없겠지만요)."
      ]
    },
    {
      "cell_type": "code",
      "execution_count": 28,
      "metadata": {
        "id": "cAN4dUdQHFJu",
        "outputId": "753dd240-5acd-4d5e-b65e-9b8acec33555",
        "colab": {
          "base_uri": "https://localhost:8080/"
        }
      },
      "outputs": [
        {
          "output_type": "execute_result",
          "data": {
            "text/plain": [
              "<memory at 0x7f3185ea7850>"
            ]
          },
          "metadata": {},
          "execution_count": 28
        }
      ],
      "source": [
        "f = np.array([[1,2],[1000, 2000]], dtype=np.int32)\n",
        "f.data"
      ]
    },
    {
      "cell_type": "markdown",
      "metadata": {
        "id": "RfeZVv5vHFJu"
      },
      "source": [
        "파이썬 2에서는 `f.data`가 버퍼이고 파이썬 3에서는 memoryview입니다."
      ]
    },
    {
      "cell_type": "code",
      "execution_count": 29,
      "metadata": {
        "id": "wsdgj2wqHFJu",
        "outputId": "e086f29c-7e9f-4974-bef9-694f8dea6d80",
        "colab": {
          "base_uri": "https://localhost:8080/"
        }
      },
      "outputs": [
        {
          "output_type": "execute_result",
          "data": {
            "text/plain": [
              "b'\\x01\\x00\\x00\\x00\\x02\\x00\\x00\\x00\\xe8\\x03\\x00\\x00\\xd0\\x07\\x00\\x00'"
            ]
          },
          "metadata": {},
          "execution_count": 29
        }
      ],
      "source": [
        "if (hasattr(f.data, \"tobytes\")):\n",
        "    data_bytes = f.data.tobytes() # python 3\n",
        "else:\n",
        "    data_bytes = memoryview(f.data).tobytes() # python 2\n",
        "\n",
        "data_bytes"
      ]
    },
    {
      "cell_type": "markdown",
      "metadata": {
        "id": "LeKQApjfHFJv"
      },
      "source": [
        "여러 개의 `ndarray`가 데이터 버퍼를 공유할 수 있습니다. 하나를 수정하면 다른 것도 바뀝니다. 잠시 후에 예를 살펴 보겠습니다."
      ]
    },
    {
      "cell_type": "markdown",
      "metadata": {
        "id": "KeCW-KHjHFJv"
      },
      "source": [
        "# 배열 크기 변경\n",
        "\n",
        "## 자신을 변경\n",
        "\n",
        "`ndarray`의 `shape` 속성을 지정하면 간단히 크기를 바꿀 수 있습니다. 배열의 원소 개수는 동일하게 유지됩니다."
      ]
    },
    {
      "cell_type": "code",
      "execution_count": 30,
      "metadata": {
        "id": "rsYSW4iAHFJv",
        "outputId": "42f2a7a7-87df-4b39-fc7d-71a0984875af",
        "colab": {
          "base_uri": "https://localhost:8080/"
        }
      },
      "outputs": [
        {
          "output_type": "stream",
          "name": "stdout",
          "text": [
            "[ 0  1  2  3  4  5  6  7  8  9 10 11 12 13 14 15 16 17 18 19 20 21 22 23]\n",
            "랭크: 1\n"
          ]
        }
      ],
      "source": [
        "g = np.arange(24)\n",
        "print(g)\n",
        "print(\"랭크:\", g.ndim)"
      ]
    },
    {
      "cell_type": "code",
      "execution_count": 31,
      "metadata": {
        "id": "NK-4qo2aHFJw",
        "outputId": "d4b7454d-d5a7-474b-cb44-45ab8c56df83",
        "colab": {
          "base_uri": "https://localhost:8080/"
        }
      },
      "outputs": [
        {
          "output_type": "stream",
          "name": "stdout",
          "text": [
            "[[ 0  1  2  3]\n",
            " [ 4  5  6  7]\n",
            " [ 8  9 10 11]\n",
            " [12 13 14 15]\n",
            " [16 17 18 19]\n",
            " [20 21 22 23]]\n",
            "랭크: 2\n"
          ]
        }
      ],
      "source": [
        "g.shape = (6, 4)\n",
        "print(g)\n",
        "print(\"랭크:\", g.ndim)"
      ]
    },
    {
      "cell_type": "code",
      "execution_count": 32,
      "metadata": {
        "scrolled": true,
        "id": "FIaSv-XRHFJw",
        "outputId": "05e6f76d-6030-4404-f843-a35624b79df1",
        "colab": {
          "base_uri": "https://localhost:8080/"
        }
      },
      "outputs": [
        {
          "output_type": "stream",
          "name": "stdout",
          "text": [
            "[[[ 0  1  2  3]\n",
            "  [ 4  5  6  7]\n",
            "  [ 8  9 10 11]]\n",
            "\n",
            " [[12 13 14 15]\n",
            "  [16 17 18 19]\n",
            "  [20 21 22 23]]]\n",
            "랭크: 3\n"
          ]
        }
      ],
      "source": [
        "g.shape = (2, 3, 4)\n",
        "print(g)\n",
        "print(\"랭크:\", g.ndim)"
      ]
    },
    {
      "cell_type": "markdown",
      "metadata": {
        "id": "2sDGyBlRHFJx"
      },
      "source": [
        "## `reshape`\n",
        "\n",
        "`reshape` 함수는 동일한 데이터를 가리키는 새로운 `ndarray` 객체를 반환합니다. 한 배열을 수정하면 다른 것도 함께 바뀝니다."
      ]
    },
    {
      "cell_type": "code",
      "execution_count": 33,
      "metadata": {
        "scrolled": true,
        "id": "rPeajupLHFJx",
        "outputId": "69393ce2-08ec-4dc2-b530-265daea8c6f6",
        "colab": {
          "base_uri": "https://localhost:8080/"
        }
      },
      "outputs": [
        {
          "output_type": "stream",
          "name": "stdout",
          "text": [
            "[[ 0  1  2  3  4  5]\n",
            " [ 6  7  8  9 10 11]\n",
            " [12 13 14 15 16 17]\n",
            " [18 19 20 21 22 23]]\n",
            "랭크: 2\n"
          ]
        }
      ],
      "source": [
        "g2 = g.reshape(4,6)\n",
        "print(g2)\n",
        "print(\"랭크:\", g2.ndim)"
      ]
    },
    {
      "cell_type": "markdown",
      "metadata": {
        "id": "4jBrSjy1HFJx"
      },
      "source": [
        "행 1, 열 2의 원소를 999로 설정합니다(인덱싱 방식은 아래를 참고하세요)."
      ]
    },
    {
      "cell_type": "code",
      "execution_count": 34,
      "metadata": {
        "id": "MnLMZ5pdHFJy",
        "outputId": "3412de37-027a-4dd4-8145-b4f4c31e3dc3",
        "colab": {
          "base_uri": "https://localhost:8080/"
        }
      },
      "outputs": [
        {
          "output_type": "execute_result",
          "data": {
            "text/plain": [
              "array([[  0,   1,   2,   3,   4,   5],\n",
              "       [  6,   7, 999,   9,  10,  11],\n",
              "       [ 12,  13,  14,  15,  16,  17],\n",
              "       [ 18,  19,  20,  21,  22,  23]])"
            ]
          },
          "metadata": {},
          "execution_count": 34
        }
      ],
      "source": [
        "g2[1, 2] = 999\n",
        "g2"
      ]
    },
    {
      "cell_type": "markdown",
      "metadata": {
        "id": "pM3DpbqYHFJy"
      },
      "source": [
        "이에 상응하는 `g`의 원소도 수정됩니다."
      ]
    },
    {
      "cell_type": "code",
      "execution_count": 35,
      "metadata": {
        "id": "-6Vy_RegHFJy",
        "outputId": "aa7c5e66-bfbf-43e5-a411-ee5a82e10575",
        "colab": {
          "base_uri": "https://localhost:8080/"
        }
      },
      "outputs": [
        {
          "output_type": "execute_result",
          "data": {
            "text/plain": [
              "array([[[  0,   1,   2,   3],\n",
              "        [  4,   5,   6,   7],\n",
              "        [999,   9,  10,  11]],\n",
              "\n",
              "       [[ 12,  13,  14,  15],\n",
              "        [ 16,  17,  18,  19],\n",
              "        [ 20,  21,  22,  23]]])"
            ]
          },
          "metadata": {},
          "execution_count": 35
        }
      ],
      "source": [
        "g"
      ]
    },
    {
      "cell_type": "markdown",
      "metadata": {
        "id": "mwtm3fdFHFJ1"
      },
      "source": [
        "## `ravel`\n",
        "\n",
        "마지막으로 `ravel` 함수는 동일한 데이터를 가리키는 새로운 1차원 `ndarray`를 반환합니다:"
      ]
    },
    {
      "cell_type": "code",
      "execution_count": 36,
      "metadata": {
        "id": "CpIj1STGHFJ1",
        "outputId": "409fdf93-99be-40ac-b734-723dcccc4f63",
        "colab": {
          "base_uri": "https://localhost:8080/"
        }
      },
      "outputs": [
        {
          "output_type": "execute_result",
          "data": {
            "text/plain": [
              "array([  0,   1,   2,   3,   4,   5,   6,   7, 999,   9,  10,  11,  12,\n",
              "        13,  14,  15,  16,  17,  18,  19,  20,  21,  22,  23])"
            ]
          },
          "metadata": {},
          "execution_count": 36
        }
      ],
      "source": [
        "g.ravel()"
      ]
    },
    {
      "cell_type": "markdown",
      "metadata": {
        "id": "Lt6ggyg9HFJ3"
      },
      "source": [
        "# 산술 연산\n",
        "\n",
        "일반적인 산술 연산자(`+`, `-`, `*`, `/`, `//`, `**` 등)는 모두 `ndarray`와 사용할 수 있습니다. 이 연산자는 원소별로 적용됩니다:"
      ]
    },
    {
      "cell_type": "code",
      "execution_count": 37,
      "metadata": {
        "id": "fkZMvUQsHFJ4",
        "outputId": "226c1ff3-7258-4d5f-a492-4810008294fd",
        "colab": {
          "base_uri": "https://localhost:8080/"
        }
      },
      "outputs": [
        {
          "output_type": "stream",
          "name": "stdout",
          "text": [
            "a + b  = [19 27 35 43]\n",
            "a - b  = [ 9 19 29 39]\n",
            "a * b  = [70 92 96 82]\n",
            "a / b  = [ 2.8         5.75       10.66666667 20.5       ]\n",
            "a // b  = [ 2  5 10 20]\n",
            "a % b  = [4 3 2 1]\n",
            "a ** b = [537824 279841  32768   1681]\n"
          ]
        }
      ],
      "source": [
        "a = np.array([14, 23, 32, 41])\n",
        "b = np.array([5,  4,  3,  2])\n",
        "print(\"a + b  =\", a + b)\n",
        "print(\"a - b  =\", a - b)\n",
        "print(\"a * b  =\", a * b)\n",
        "print(\"a / b  =\", a / b)\n",
        "print(\"a // b  =\", a // b)\n",
        "print(\"a % b  =\", a % b)\n",
        "print(\"a ** b =\", a ** b)"
      ]
    },
    {
      "cell_type": "markdown",
      "metadata": {
        "id": "H6hqYX1KHFJ4"
      },
      "source": [
        "여기 곱셈은 행렬 곱셈이 아닙니다. 행렬 연산은 아래에서 설명합니다.\n",
        "\n",
        "배열의 크기는 같아야 합니다. 그렇지 않으면 넘파이가 브로드캐스팅 규칙을 적용합니다."
      ]
    },
    {
      "cell_type": "markdown",
      "metadata": {
        "id": "0huTgj51HFJ4"
      },
      "source": [
        "# 브로드캐스팅"
      ]
    },
    {
      "cell_type": "markdown",
      "metadata": {
        "id": "dSQmyX97HFJ5"
      },
      "source": [
        "일반적으로 넘파이는 동일한 크기의 배열을 기대합니다. 그렇지 않은 상황에는 브로드캐시틍 규칙을 적용합니다:\n",
        "\n",
        "## 규칙 1\n",
        "\n",
        "배열의 랭크가 동일하지 않으면 랭크가 맞을 때까지 랭크가 작은 배열 앞에 1을 추가합니다."
      ]
    },
    {
      "cell_type": "code",
      "execution_count": 38,
      "metadata": {
        "id": "l6us7nk7HFJ5",
        "outputId": "33dd5e53-ba68-426e-8032-ed7cc4baaa83",
        "colab": {
          "base_uri": "https://localhost:8080/"
        }
      },
      "outputs": [
        {
          "output_type": "execute_result",
          "data": {
            "text/plain": [
              "array([[[0, 1, 2, 3, 4]]])"
            ]
          },
          "metadata": {},
          "execution_count": 38
        }
      ],
      "source": [
        "h = np.arange(5).reshape(1, 1, 5)\n",
        "h"
      ]
    },
    {
      "cell_type": "markdown",
      "metadata": {
        "id": "7IP9zzyQHFJ6"
      },
      "source": [
        "여기에 `(1,1,5)` 크기의 3D 배열에 `(5,)` 크기의 1D 배열을 더해 보죠. 브로드캐스팅의 규칙 1이 적용됩니다!"
      ]
    },
    {
      "cell_type": "code",
      "execution_count": 39,
      "metadata": {
        "id": "B0IXU45bHFJ6",
        "outputId": "45392870-a446-47af-98d3-b3bb9597737e",
        "colab": {
          "base_uri": "https://localhost:8080/"
        }
      },
      "outputs": [
        {
          "output_type": "execute_result",
          "data": {
            "text/plain": [
              "array([[[10, 21, 32, 43, 54]]])"
            ]
          },
          "metadata": {},
          "execution_count": 39
        }
      ],
      "source": [
        "h + [10, 20, 30, 40, 50]  # 다음과 동일합니다: h + [[[10, 20, 30, 40, 50]]]"
      ]
    },
    {
      "cell_type": "markdown",
      "metadata": {
        "id": "G5BmwQKSHFJ7"
      },
      "source": [
        "## 규칙 2\n",
        "\n",
        "특정 차원이 1인 배열은 그 차원에서 크기가 가장 큰 배열의 크기에 맞춰 동작합니다. 배열의 원소가 차원을 따라 반복됩니다."
      ]
    },
    {
      "cell_type": "code",
      "execution_count": 40,
      "metadata": {
        "id": "zGDT6I1YHFJ7",
        "outputId": "3b2db727-ac35-455d-e8e4-78c75e480b66",
        "colab": {
          "base_uri": "https://localhost:8080/"
        }
      },
      "outputs": [
        {
          "output_type": "execute_result",
          "data": {
            "text/plain": [
              "array([[0, 1, 2],\n",
              "       [3, 4, 5]])"
            ]
          },
          "metadata": {},
          "execution_count": 40
        }
      ],
      "source": [
        "k = np.arange(6).reshape(2, 3)\n",
        "k"
      ]
    },
    {
      "cell_type": "markdown",
      "metadata": {
        "id": "FQ5bYQYvHFJ8"
      },
      "source": [
        "`(2,3)` 크기의 2D `ndarray`에 `(2,1)` 크기의 2D 배열을 더해 보죠. 넘파이는 브로드캐스팅 규칙 2를 적용합니다:"
      ]
    },
    {
      "cell_type": "code",
      "execution_count": 41,
      "metadata": {
        "id": "VZsWFQRPHFJ8",
        "outputId": "93e2660b-d01a-4587-b668-0126bbda5b6b",
        "colab": {
          "base_uri": "https://localhost:8080/"
        }
      },
      "outputs": [
        {
          "output_type": "execute_result",
          "data": {
            "text/plain": [
              "array([[100, 101, 102],\n",
              "       [203, 204, 205]])"
            ]
          },
          "metadata": {},
          "execution_count": 41
        }
      ],
      "source": [
        "k + [[100], [200]]  # 다음과 같습니다: k + [[100, 100, 100], [200, 200, 200]]"
      ]
    },
    {
      "cell_type": "markdown",
      "metadata": {
        "id": "8RN-S0U9HFJ8"
      },
      "source": [
        "규칙 1과 2를 합치면 다음과 같이 동작합니다:"
      ]
    },
    {
      "cell_type": "code",
      "execution_count": 42,
      "metadata": {
        "id": "jpI_nwfKHFJ9",
        "outputId": "89a1ecd3-e120-491f-8fd9-4ba5ba8a5156",
        "colab": {
          "base_uri": "https://localhost:8080/"
        }
      },
      "outputs": [
        {
          "output_type": "execute_result",
          "data": {
            "text/plain": [
              "array([[100, 201, 302],\n",
              "       [103, 204, 305]])"
            ]
          },
          "metadata": {},
          "execution_count": 42
        }
      ],
      "source": [
        "k + [100, 200, 300]  # 규칙 1 적용: [[100, 200, 300]], 규칙 2 적용: [[100, 200, 300], [100, 200, 300]]"
      ]
    },
    {
      "cell_type": "markdown",
      "metadata": {
        "id": "xbaWBhmJHFJ9"
      },
      "source": [
        "또 매우 간단히 다음 처럼 해도 됩니다:"
      ]
    },
    {
      "cell_type": "code",
      "execution_count": 43,
      "metadata": {
        "id": "ZJValRv4HFJ9",
        "outputId": "34308708-e637-4a25-8fb5-9a28e3a87d38",
        "colab": {
          "base_uri": "https://localhost:8080/"
        }
      },
      "outputs": [
        {
          "output_type": "execute_result",
          "data": {
            "text/plain": [
              "array([[1000, 1001, 1002],\n",
              "       [1003, 1004, 1005]])"
            ]
          },
          "metadata": {},
          "execution_count": 43
        }
      ],
      "source": [
        "k + 1000  # 다음과 같습니다: k + [[1000, 1000, 1000], [1000, 1000, 1000]]"
      ]
    },
    {
      "cell_type": "markdown",
      "metadata": {
        "id": "dGlv21BlHFJ9"
      },
      "source": [
        "## 규칙 3\n",
        "\n",
        "규칙 1 & 2을 적용했을 때 모든 배열의 크기가 맞아야 합니다."
      ]
    },
    {
      "cell_type": "code",
      "execution_count": 44,
      "metadata": {
        "id": "OAUkmCQIHFJ-",
        "outputId": "60bacf0a-c170-4f0e-c1a5-81564a07b8bb",
        "colab": {
          "base_uri": "https://localhost:8080/"
        }
      },
      "outputs": [
        {
          "output_type": "stream",
          "name": "stdout",
          "text": [
            "operands could not be broadcast together with shapes (2,3) (2,) \n"
          ]
        }
      ],
      "source": [
        "try:\n",
        "    k + [33, 44]\n",
        "except ValueError as e:\n",
        "    print(e)"
      ]
    },
    {
      "cell_type": "markdown",
      "metadata": {
        "id": "j7OcrwMBHFJ-"
      },
      "source": [
        "브로드캐스팅 규칙은 산술 연산 뿐만 아니라 넘파이 연산에서 많이 사용됩니다. 아래에서 더 보도록 하죠. 브로드캐스팅에 관한 더 자세한 정보는 [온라인 문서](https://docs.scipy.org/doc/numpy-dev/user/basics.broadcasting.html)를 참고하세요."
      ]
    },
    {
      "cell_type": "markdown",
      "metadata": {
        "id": "bYAsOpJdHFJ-"
      },
      "source": [
        "## 업캐스팅\n",
        "\n",
        "`dtype`이 다른 배열을 합칠 때 넘파이는 (실제 값에 상관없이) 모든 값을 다룰 수 있는 타입으로 업캐스팅합니다."
      ]
    },
    {
      "cell_type": "code",
      "execution_count": 45,
      "metadata": {
        "id": "vjTdzJS5HFJ_",
        "outputId": "2ade9ba2-a1c9-49b8-b7d2-d017b6a150ab",
        "colab": {
          "base_uri": "https://localhost:8080/"
        }
      },
      "outputs": [
        {
          "output_type": "stream",
          "name": "stdout",
          "text": [
            "uint8 [0 1 2 3 4]\n"
          ]
        }
      ],
      "source": [
        "k1 = np.arange(0, 5, dtype=np.uint8)\n",
        "print(k1.dtype, k1)"
      ]
    },
    {
      "cell_type": "code",
      "execution_count": 46,
      "metadata": {
        "id": "dn4RQL_SHFJ_",
        "outputId": "e9b328b6-0a05-425c-afec-b2ec821a377d",
        "colab": {
          "base_uri": "https://localhost:8080/"
        }
      },
      "outputs": [
        {
          "output_type": "stream",
          "name": "stdout",
          "text": [
            "int16 [ 5  7  9 11 13]\n"
          ]
        }
      ],
      "source": [
        "k2 = k1 + np.array([5, 6, 7, 8, 9], dtype=np.int8)\n",
        "print(k2.dtype, k2)"
      ]
    },
    {
      "cell_type": "markdown",
      "metadata": {
        "id": "qCVCQFC8HFJ_"
      },
      "source": [
        "모든 `int8`과 `uint8` 값(-128에서 255까지)을 표현하기 위해 `int16`이 필요합니다. 이 코드에서는 `uint8`이면 충분하지만 업캐스팅되었습니다."
      ]
    },
    {
      "cell_type": "code",
      "execution_count": 47,
      "metadata": {
        "id": "n_uEJ53THFKG",
        "outputId": "5fe21a27-f4b1-4015-e6ae-4dcbed41a358",
        "colab": {
          "base_uri": "https://localhost:8080/"
        }
      },
      "outputs": [
        {
          "output_type": "stream",
          "name": "stdout",
          "text": [
            "float64 [1.5 2.5 3.5 4.5 5.5]\n"
          ]
        }
      ],
      "source": [
        "k3 = k1 + 1.5\n",
        "print(k3.dtype, k3)"
      ]
    },
    {
      "cell_type": "markdown",
      "metadata": {
        "id": "vSUiTiwaHFKG"
      },
      "source": [
        "# 조건 연산자"
      ]
    },
    {
      "cell_type": "markdown",
      "metadata": {
        "id": "8mJBWj0AHFKH"
      },
      "source": [
        "조건 연산자도 원소별로 적용됩니다:"
      ]
    },
    {
      "cell_type": "code",
      "execution_count": 48,
      "metadata": {
        "id": "4fiGT7RWHFKH",
        "outputId": "a1848756-3511-4834-8aa2-d78d7ec5c05f",
        "colab": {
          "base_uri": "https://localhost:8080/"
        }
      },
      "outputs": [
        {
          "output_type": "execute_result",
          "data": {
            "text/plain": [
              "array([False,  True,  True, False])"
            ]
          },
          "metadata": {},
          "execution_count": 48
        }
      ],
      "source": [
        "m = np.array([20, -5, 30, 40])\n",
        "m < [15, 16, 35, 36]"
      ]
    },
    {
      "cell_type": "markdown",
      "metadata": {
        "id": "zNEplDXNHFKI"
      },
      "source": [
        "브로드캐스팅을 사용합니다:"
      ]
    },
    {
      "cell_type": "code",
      "execution_count": 49,
      "metadata": {
        "id": "cfZKV_oDHFKI",
        "outputId": "d6cb30fd-1c10-4571-b318-a30044bc6e59",
        "colab": {
          "base_uri": "https://localhost:8080/"
        }
      },
      "outputs": [
        {
          "output_type": "execute_result",
          "data": {
            "text/plain": [
              "array([ True,  True, False, False])"
            ]
          },
          "metadata": {},
          "execution_count": 49
        }
      ],
      "source": [
        "m < 25  # m < [25, 25, 25, 25] 와 동일"
      ]
    },
    {
      "cell_type": "markdown",
      "metadata": {
        "id": "l3wCdBreHFKJ"
      },
      "source": [
        "불리언 인덱싱과 함께 사용하면 아주 유용합니다(아래에서 설명하겠습니다)."
      ]
    },
    {
      "cell_type": "code",
      "execution_count": 50,
      "metadata": {
        "id": "7Q0ixx4yHFKJ",
        "outputId": "255a1f58-32f6-487f-de12-cf9312f8d387",
        "colab": {
          "base_uri": "https://localhost:8080/"
        }
      },
      "outputs": [
        {
          "output_type": "execute_result",
          "data": {
            "text/plain": [
              "array([20, -5])"
            ]
          },
          "metadata": {},
          "execution_count": 50
        }
      ],
      "source": [
        "m[m < 25]"
      ]
    },
    {
      "cell_type": "markdown",
      "metadata": {
        "id": "e1_sRKkFHFKJ"
      },
      "source": [
        "# 수학 함수와 통계 함수"
      ]
    },
    {
      "cell_type": "markdown",
      "metadata": {
        "id": "SGDojWDwHFKK"
      },
      "source": [
        "`ndarray`에서 사용할 수 있는 수학 함수와 통계 함수가 많습니다.\n",
        "\n",
        "## `ndarray` 메서드\n",
        "\n",
        "일부 함수는 `ndarray` 메서드로 제공됩니다. 예를 들면:"
      ]
    },
    {
      "cell_type": "code",
      "execution_count": 51,
      "metadata": {
        "id": "9g_48cl8HFKK",
        "outputId": "0f4acd60-441c-44c6-ee14-ea8dc42ef05b",
        "colab": {
          "base_uri": "https://localhost:8080/"
        }
      },
      "outputs": [
        {
          "output_type": "stream",
          "name": "stdout",
          "text": [
            "[[-2.5  3.1  7. ]\n",
            " [10.  11.  12. ]]\n",
            "평균 = 6.766666666666667\n"
          ]
        }
      ],
      "source": [
        "a = np.array([[-2.5, 3.1, 7], [10, 11, 12]])\n",
        "print(a)\n",
        "print(\"평균 =\", a.mean())"
      ]
    },
    {
      "cell_type": "markdown",
      "metadata": {
        "id": "pwN9HzIdHFKK"
      },
      "source": [
        "이 명령은 크기에 상관없이 `ndarray`에 있는 모든 원소의 평균을 계산합니다.\n",
        "\n",
        "다음은 유용한 `ndarray` 메서드입니다:"
      ]
    },
    {
      "cell_type": "code",
      "execution_count": 52,
      "metadata": {
        "id": "PgWpktJJHFKK",
        "outputId": "a541250d-af00-47f0-f258-7a61190add1e",
        "colab": {
          "base_uri": "https://localhost:8080/"
        }
      },
      "outputs": [
        {
          "output_type": "stream",
          "name": "stdout",
          "text": [
            "min = -2.5\n",
            "max = 12.0\n",
            "sum = 40.6\n",
            "prod = -71610.0\n",
            "std = 5.084835843520964\n",
            "var = 25.855555555555554\n"
          ]
        }
      ],
      "source": [
        "for func in (a.min, a.max, a.sum, a.prod, a.std, a.var):\n",
        "    print(func.__name__, \"=\", func())"
      ]
    },
    {
      "cell_type": "markdown",
      "metadata": {
        "id": "5gjCAEAiHFKL"
      },
      "source": [
        "이 함수들은 선택적으로 매개변수 `axis`를 사용합니다. 지정된 축을 따라 원소에 연산을 적용하는데 사용합니다. 예를 들면:"
      ]
    },
    {
      "cell_type": "code",
      "execution_count": 53,
      "metadata": {
        "id": "Jao7kiKNHFKL",
        "outputId": "bae8e1e4-da48-42ff-b422-fbb9de0e876a",
        "colab": {
          "base_uri": "https://localhost:8080/"
        }
      },
      "outputs": [
        {
          "output_type": "execute_result",
          "data": {
            "text/plain": [
              "array([[[ 0,  1,  2,  3],\n",
              "        [ 4,  5,  6,  7],\n",
              "        [ 8,  9, 10, 11]],\n",
              "\n",
              "       [[12, 13, 14, 15],\n",
              "        [16, 17, 18, 19],\n",
              "        [20, 21, 22, 23]]])"
            ]
          },
          "metadata": {},
          "execution_count": 53
        }
      ],
      "source": [
        "c=np.arange(24).reshape(2,3,4)\n",
        "c"
      ]
    },
    {
      "cell_type": "code",
      "execution_count": 54,
      "metadata": {
        "id": "6GoyzJibHFKL",
        "outputId": "1e2dee9f-2bc2-4c3a-9e43-e69b05e3701c",
        "colab": {
          "base_uri": "https://localhost:8080/"
        }
      },
      "outputs": [
        {
          "output_type": "execute_result",
          "data": {
            "text/plain": [
              "array([[12, 14, 16, 18],\n",
              "       [20, 22, 24, 26],\n",
              "       [28, 30, 32, 34]])"
            ]
          },
          "metadata": {},
          "execution_count": 54
        }
      ],
      "source": [
        "c.sum(axis=0)  # 첫 번째 축을 따라 더함, 결과는 3x4 배열"
      ]
    },
    {
      "cell_type": "code",
      "execution_count": 55,
      "metadata": {
        "id": "bwkWeGI3HFKM",
        "outputId": "5bee67e3-d9b3-4d8d-b00f-6ff85c94d13b",
        "colab": {
          "base_uri": "https://localhost:8080/"
        }
      },
      "outputs": [
        {
          "output_type": "execute_result",
          "data": {
            "text/plain": [
              "array([[12, 15, 18, 21],\n",
              "       [48, 51, 54, 57]])"
            ]
          },
          "metadata": {},
          "execution_count": 55
        }
      ],
      "source": [
        "c.sum(axis=1)  # 두 번째 축을 따라 더함, 결과는 2x4 배열"
      ]
    },
    {
      "cell_type": "markdown",
      "metadata": {
        "id": "PJ7Ar9PaHFKM"
      },
      "source": [
        "여러 축에 대해서 더할 수도 있습니다:"
      ]
    },
    {
      "cell_type": "code",
      "execution_count": 56,
      "metadata": {
        "id": "9O9yVvcVHFKM",
        "outputId": "88c6b5cc-cfa1-4f69-d528-5238f0ce1899",
        "colab": {
          "base_uri": "https://localhost:8080/"
        }
      },
      "outputs": [
        {
          "output_type": "execute_result",
          "data": {
            "text/plain": [
              "array([ 60,  92, 124])"
            ]
          },
          "metadata": {},
          "execution_count": 56
        }
      ],
      "source": [
        "c.sum(axis=(0,2))  # 첫 번째 축과 세 번째 축을 따라 더함, 결과는 (3,) 배열"
      ]
    },
    {
      "cell_type": "code",
      "execution_count": 57,
      "metadata": {
        "id": "f-jPc_uuHFKN",
        "outputId": "7b47aba4-39a1-4657-eb2c-44de34d7ca31",
        "colab": {
          "base_uri": "https://localhost:8080/"
        }
      },
      "outputs": [
        {
          "output_type": "execute_result",
          "data": {
            "text/plain": [
              "(60, 92, 124)"
            ]
          },
          "metadata": {},
          "execution_count": 57
        }
      ],
      "source": [
        "0+1+2+3 + 12+13+14+15, 4+5+6+7 + 16+17+18+19, 8+9+10+11 + 20+21+22+23"
      ]
    },
    {
      "cell_type": "markdown",
      "metadata": {
        "id": "a3Xyw5pKHFKN"
      },
      "source": [
        "## 일반 함수\n",
        "\n",
        "넘파이는 일반 함수(universal function) 또는 **ufunc**라고 부르는 원소별 함수를 제공합니다. 예를 들면 `square` 함수는 원본 `ndarray`를 복사하여 각 원소를 제곱한 새로운 `ndarray` 객체를 반환합니다:"
      ]
    },
    {
      "cell_type": "code",
      "execution_count": 58,
      "metadata": {
        "id": "jyE7Vt9SHFKO",
        "outputId": "e605cb3f-d098-483f-ffc7-a945e6d58f6f",
        "colab": {
          "base_uri": "https://localhost:8080/"
        }
      },
      "outputs": [
        {
          "output_type": "execute_result",
          "data": {
            "text/plain": [
              "array([[  6.25,   9.61,  49.  ],\n",
              "       [100.  , 121.  , 144.  ]])"
            ]
          },
          "metadata": {},
          "execution_count": 58
        }
      ],
      "source": [
        "a = np.array([[-2.5, 3.1, 7], [10, 11, 12]])\n",
        "np.square(a)"
      ]
    },
    {
      "cell_type": "markdown",
      "metadata": {
        "id": "UDWIcijZHFKO"
      },
      "source": [
        "다음은 유용한 단항 일반 함수들입니다:"
      ]
    },
    {
      "cell_type": "code",
      "execution_count": 59,
      "metadata": {
        "id": "zf51zdkAHFKP",
        "outputId": "1bfbc032-ba19-40a5-874d-7e8bdaee57cd",
        "colab": {
          "base_uri": "https://localhost:8080/"
        }
      },
      "outputs": [
        {
          "output_type": "stream",
          "name": "stdout",
          "text": [
            "원본 ndarray\n",
            "[[-2.5  3.1  7. ]\n",
            " [10.  11.  12. ]]\n",
            "\n",
            " absolute\n",
            "[[ 2.5  3.1  7. ]\n",
            " [10.  11.  12. ]]\n",
            "\n",
            " sqrt\n",
            "[[       nan 1.76068169 2.64575131]\n",
            " [3.16227766 3.31662479 3.46410162]]\n",
            "\n",
            " exp\n",
            "[[8.20849986e-02 2.21979513e+01 1.09663316e+03]\n",
            " [2.20264658e+04 5.98741417e+04 1.62754791e+05]]\n",
            "\n",
            " log\n",
            "[[       nan 1.13140211 1.94591015]\n",
            " [2.30258509 2.39789527 2.48490665]]\n",
            "\n",
            " sign\n",
            "[[-1.  1.  1.]\n",
            " [ 1.  1.  1.]]\n",
            "\n",
            " ceil\n",
            "[[-2.  4.  7.]\n",
            " [10. 11. 12.]]\n",
            "\n",
            " modf\n",
            "(array([[-0.5,  0.1,  0. ],\n",
            "       [ 0. ,  0. ,  0. ]]), array([[-2.,  3.,  7.],\n",
            "       [10., 11., 12.]]))\n",
            "\n",
            " isnan\n",
            "[[False False False]\n",
            " [False False False]]\n",
            "\n",
            " cos\n",
            "[[-0.80114362 -0.99913515  0.75390225]\n",
            " [-0.83907153  0.0044257   0.84385396]]\n"
          ]
        },
        {
          "output_type": "stream",
          "name": "stderr",
          "text": [
            "<ipython-input-59-d791c8e37e6f>:5: RuntimeWarning: invalid value encountered in sqrt\n",
            "  print(func(a))\n",
            "<ipython-input-59-d791c8e37e6f>:5: RuntimeWarning: invalid value encountered in log\n",
            "  print(func(a))\n"
          ]
        }
      ],
      "source": [
        "print(\"원본 ndarray\")\n",
        "print(a)\n",
        "for func in (np.abs, np.sqrt, np.exp, np.log, np.sign, np.ceil, np.modf, np.isnan, np.cos):\n",
        "    print(\"\\n\", func.__name__)\n",
        "    print(func(a))"
      ]
    },
    {
      "cell_type": "markdown",
      "metadata": {
        "id": "tRZG_ujbHFKP"
      },
      "source": [
        "두 개의 경고는 `sqrt()` 및 `log()`가 음수에 대해 정의되지 않았기 때문입니다. 그래서 이 두 함수의 출력의 첫 번째 값이 `np.nan`입니다."
      ]
    },
    {
      "cell_type": "markdown",
      "metadata": {
        "id": "jGPVM4bcHFKQ"
      },
      "source": [
        "## 이항 일반 함수\n",
        "\n",
        "두 개의 `ndarray`에 원소별로 적용되는 이항 함수도 많습니다. 두 배열이 동일한 크기가 아니면 브로드캐스팅 규칙이 적용됩니다:"
      ]
    },
    {
      "cell_type": "code",
      "execution_count": 60,
      "metadata": {
        "id": "38BBHKCnHFKQ",
        "outputId": "94f7b2b2-a5d2-40aa-b648-dd12a2d96a5c",
        "colab": {
          "base_uri": "https://localhost:8080/"
        }
      },
      "outputs": [
        {
          "output_type": "execute_result",
          "data": {
            "text/plain": [
              "array([ 3,  6,  2, 11])"
            ]
          },
          "metadata": {},
          "execution_count": 60
        }
      ],
      "source": [
        "a = np.array([1, -2, 3, 4])\n",
        "b = np.array([2, 8, -1, 7])\n",
        "np.add(a, b)  # a + b 와 동일"
      ]
    },
    {
      "cell_type": "code",
      "execution_count": 61,
      "metadata": {
        "id": "46NPNYCtHFKR",
        "outputId": "3dc80e6e-9fec-4f0e-8b8f-d80d0ad06e5c",
        "colab": {
          "base_uri": "https://localhost:8080/"
        }
      },
      "outputs": [
        {
          "output_type": "execute_result",
          "data": {
            "text/plain": [
              "array([False, False,  True, False])"
            ]
          },
          "metadata": {},
          "execution_count": 61
        }
      ],
      "source": [
        "np.greater(a, b)  # a > b 와 동일"
      ]
    },
    {
      "cell_type": "code",
      "execution_count": 62,
      "metadata": {
        "id": "U8gNv2kfHFKS",
        "outputId": "d557ee2e-7c96-40b9-bc8d-4f7ab01da255",
        "colab": {
          "base_uri": "https://localhost:8080/"
        }
      },
      "outputs": [
        {
          "output_type": "execute_result",
          "data": {
            "text/plain": [
              "array([2, 8, 3, 7])"
            ]
          },
          "metadata": {},
          "execution_count": 62
        }
      ],
      "source": [
        "np.maximum(a, b)"
      ]
    },
    {
      "cell_type": "code",
      "execution_count": 63,
      "metadata": {
        "id": "iZhk7C4GHFKS",
        "outputId": "b241d09e-71f1-4232-8ece-82461c7725ca",
        "colab": {
          "base_uri": "https://localhost:8080/"
        }
      },
      "outputs": [
        {
          "output_type": "execute_result",
          "data": {
            "text/plain": [
              "array([ 1.,  2., -3.,  4.])"
            ]
          },
          "metadata": {},
          "execution_count": 63
        }
      ],
      "source": [
        "np.copysign(a, b)"
      ]
    },
    {
      "cell_type": "markdown",
      "metadata": {
        "id": "RJIRIqKFHFKS"
      },
      "source": [
        "# 배열 인덱싱\n",
        "\n",
        "## 1차원 배열\n",
        "\n",
        "1차원 넘파이 배열은 보통의 파이썬 배열과 비슷하게 사용할 수 있습니다:"
      ]
    },
    {
      "cell_type": "code",
      "execution_count": 64,
      "metadata": {
        "id": "7IfNr3x5HFKT",
        "outputId": "efdea1e3-819f-47fd-8d1d-2c33b310e5e6",
        "colab": {
          "base_uri": "https://localhost:8080/"
        }
      },
      "outputs": [
        {
          "output_type": "execute_result",
          "data": {
            "text/plain": [
              "19"
            ]
          },
          "metadata": {},
          "execution_count": 64
        }
      ],
      "source": [
        "a = np.array([1, 5, 3, 19, 13, 7, 3])\n",
        "a[3]"
      ]
    },
    {
      "cell_type": "code",
      "execution_count": 65,
      "metadata": {
        "id": "-JJjbDu_HFKT",
        "outputId": "70a5f4e9-2a7d-4913-e2c2-3d6e21e6abf4",
        "colab": {
          "base_uri": "https://localhost:8080/"
        }
      },
      "outputs": [
        {
          "output_type": "execute_result",
          "data": {
            "text/plain": [
              "array([ 3, 19, 13])"
            ]
          },
          "metadata": {},
          "execution_count": 65
        }
      ],
      "source": [
        "a[2:5]"
      ]
    },
    {
      "cell_type": "code",
      "execution_count": 66,
      "metadata": {
        "id": "1IOQwraoHFKU",
        "outputId": "5ca0ac68-e694-4006-d045-0ed57d453509",
        "colab": {
          "base_uri": "https://localhost:8080/"
        }
      },
      "outputs": [
        {
          "output_type": "execute_result",
          "data": {
            "text/plain": [
              "array([ 3, 19, 13,  7])"
            ]
          },
          "metadata": {},
          "execution_count": 66
        }
      ],
      "source": [
        "a[2:-1]"
      ]
    },
    {
      "cell_type": "code",
      "execution_count": 67,
      "metadata": {
        "id": "ToAEpkHIHFKU",
        "outputId": "2cc506f3-627c-44f8-99fb-1953f77605a0",
        "colab": {
          "base_uri": "https://localhost:8080/"
        }
      },
      "outputs": [
        {
          "output_type": "execute_result",
          "data": {
            "text/plain": [
              "array([1, 5])"
            ]
          },
          "metadata": {},
          "execution_count": 67
        }
      ],
      "source": [
        "a[:2]"
      ]
    },
    {
      "cell_type": "code",
      "execution_count": 68,
      "metadata": {
        "id": "Vqt0OwZtHFKU",
        "outputId": "562b72d2-9baf-435b-feda-4e6bbbb9b653",
        "colab": {
          "base_uri": "https://localhost:8080/"
        }
      },
      "outputs": [
        {
          "output_type": "execute_result",
          "data": {
            "text/plain": [
              "array([ 3, 13,  3])"
            ]
          },
          "metadata": {},
          "execution_count": 68
        }
      ],
      "source": [
        "a[2::2]"
      ]
    },
    {
      "cell_type": "code",
      "execution_count": 69,
      "metadata": {
        "id": "e6J1iRGEHFKV",
        "outputId": "288ece60-d633-45db-9d53-ef621c3e1497",
        "colab": {
          "base_uri": "https://localhost:8080/"
        }
      },
      "outputs": [
        {
          "output_type": "execute_result",
          "data": {
            "text/plain": [
              "array([ 3,  7, 13, 19,  3,  5,  1])"
            ]
          },
          "metadata": {},
          "execution_count": 69
        }
      ],
      "source": [
        "a[::-1]"
      ]
    },
    {
      "cell_type": "markdown",
      "metadata": {
        "id": "HfOk8nn0HFKV"
      },
      "source": [
        "물론 원소를 수정할 수 있죠:"
      ]
    },
    {
      "cell_type": "code",
      "execution_count": 70,
      "metadata": {
        "id": "Rw7-GpcJHFKW",
        "outputId": "ea8ac067-0c10-4a94-a07e-9ca43fe05190",
        "colab": {
          "base_uri": "https://localhost:8080/"
        }
      },
      "outputs": [
        {
          "output_type": "execute_result",
          "data": {
            "text/plain": [
              "array([  1,   5,   3, 999,  13,   7,   3])"
            ]
          },
          "metadata": {},
          "execution_count": 70
        }
      ],
      "source": [
        "a[3]=999\n",
        "a"
      ]
    },
    {
      "cell_type": "markdown",
      "metadata": {
        "id": "zxvyyDDiHFKW"
      },
      "source": [
        "슬라이싱을 사용해 `ndarray`를 수정할 수 있습니다:"
      ]
    },
    {
      "cell_type": "code",
      "execution_count": 71,
      "metadata": {
        "id": "BVA4xLCTHFKX",
        "outputId": "937fc9f4-a19d-4743-bc67-66a652eb998f",
        "colab": {
          "base_uri": "https://localhost:8080/"
        }
      },
      "outputs": [
        {
          "output_type": "execute_result",
          "data": {
            "text/plain": [
              "array([  1,   5, 997, 998, 999,   7,   3])"
            ]
          },
          "metadata": {},
          "execution_count": 71
        }
      ],
      "source": [
        "a[2:5] = [997, 998, 999]\n",
        "a"
      ]
    },
    {
      "cell_type": "markdown",
      "metadata": {
        "id": "Wh9cWRQgHFKX"
      },
      "source": [
        "## 보통의 파이썬 배열과 차이점\n",
        "\n",
        "보통의 파이썬 배열과 대조적으로 `ndarray` 슬라이싱에 하나의 값을 할당하면 슬라이싱 전체에 복사됩니다. 위에서 언급한 브로드캐스팅 덕택입니다."
      ]
    },
    {
      "cell_type": "code",
      "execution_count": 72,
      "metadata": {
        "id": "4gYezkCVHFKX",
        "outputId": "ea287c44-cefb-4e74-8af0-7d90707126bf",
        "colab": {
          "base_uri": "https://localhost:8080/"
        }
      },
      "outputs": [
        {
          "output_type": "execute_result",
          "data": {
            "text/plain": [
              "array([ 1,  5, -1, -1, -1,  7,  3])"
            ]
          },
          "metadata": {},
          "execution_count": 72
        }
      ],
      "source": [
        "a[2:5] = -1\n",
        "a"
      ]
    },
    {
      "cell_type": "markdown",
      "metadata": {
        "id": "HtagKaVgHFKY"
      },
      "source": [
        "또한 이런 식으로 `ndarray` 크기를 늘리거나 줄일 수 없습니다:"
      ]
    },
    {
      "cell_type": "code",
      "execution_count": 73,
      "metadata": {
        "id": "GAORSibGHFKZ",
        "outputId": "6ab5bfc7-9d4a-4d17-c87d-ee5f87ebe77f",
        "colab": {
          "base_uri": "https://localhost:8080/"
        }
      },
      "outputs": [
        {
          "output_type": "stream",
          "name": "stdout",
          "text": [
            "could not broadcast input array from shape (6,) into shape (3,)\n"
          ]
        }
      ],
      "source": [
        "try:\n",
        "    a[2:5] = [1,2,3,4,5,6]  # 너무 길어요\n",
        "except ValueError as e:\n",
        "    print(e)"
      ]
    },
    {
      "cell_type": "markdown",
      "metadata": {
        "id": "IyVw5ETeHFKa"
      },
      "source": [
        "원소를 삭제할 수도 없습니다:"
      ]
    },
    {
      "cell_type": "code",
      "execution_count": 74,
      "metadata": {
        "id": "hxHnLRZLHFKb",
        "outputId": "16b3353b-0415-4b67-b1ca-e2e19dd0150b",
        "colab": {
          "base_uri": "https://localhost:8080/"
        }
      },
      "outputs": [
        {
          "output_type": "stream",
          "name": "stdout",
          "text": [
            "cannot delete array elements\n"
          ]
        }
      ],
      "source": [
        "try:\n",
        "    del a[2:5]\n",
        "except ValueError as e:\n",
        "    print(e)"
      ]
    },
    {
      "cell_type": "markdown",
      "metadata": {
        "id": "zlqXbC0XHFKb"
      },
      "source": [
        "중요한 점은 `ndarray`의 슬라이싱은 같은 데이터 버퍼를 바라보는 뷰(view)입니다. 슬라이싱된 객체를 수정하면 실제 원본 `ndarray`가 수정됩니다!"
      ]
    },
    {
      "cell_type": "code",
      "execution_count": 75,
      "metadata": {
        "id": "0Asz4JHyHFKc",
        "outputId": "46ff4d00-0c39-4042-e7c3-44fad3c002b8",
        "colab": {
          "base_uri": "https://localhost:8080/"
        }
      },
      "outputs": [
        {
          "output_type": "execute_result",
          "data": {
            "text/plain": [
              "array([   1,    5,   -1, 1000,   -1,    7,    3])"
            ]
          },
          "metadata": {},
          "execution_count": 75
        }
      ],
      "source": [
        "a_slice = a[2:6]\n",
        "a_slice[1] = 1000\n",
        "a  # 원본 배열이 수정됩니다!"
      ]
    },
    {
      "cell_type": "code",
      "execution_count": 76,
      "metadata": {
        "id": "ZkgnW2kYHFKc",
        "outputId": "bf7f3217-d5e4-4978-c42e-3e66eb825751",
        "colab": {
          "base_uri": "https://localhost:8080/"
        }
      },
      "outputs": [
        {
          "output_type": "execute_result",
          "data": {
            "text/plain": [
              "array([  -1, 2000,   -1,    7])"
            ]
          },
          "metadata": {},
          "execution_count": 76
        }
      ],
      "source": [
        "a[3] = 2000\n",
        "a_slice  # 비슷하게 원본 배열을 수정하면 슬라이싱 객체에도 반영됩니다!"
      ]
    },
    {
      "cell_type": "markdown",
      "metadata": {
        "id": "YFmeuvrnHFKe"
      },
      "source": [
        "데이터를 복사하려면 `copy` 메서드를 사용해야 합니다:"
      ]
    },
    {
      "cell_type": "code",
      "execution_count": 77,
      "metadata": {
        "id": "glr8eQ5bHFKf",
        "outputId": "7f6ae7be-8a28-4281-84c8-98bad9248e9f",
        "colab": {
          "base_uri": "https://localhost:8080/"
        }
      },
      "outputs": [
        {
          "output_type": "execute_result",
          "data": {
            "text/plain": [
              "array([   1,    5,   -1, 2000,   -1,    7,    3])"
            ]
          },
          "metadata": {},
          "execution_count": 77
        }
      ],
      "source": [
        "another_slice = a[2:6].copy()\n",
        "another_slice[1] = 3000\n",
        "a  # 원본 배열이 수정되지 않습니다"
      ]
    },
    {
      "cell_type": "code",
      "execution_count": 78,
      "metadata": {
        "id": "qiDNwgwNHFKg",
        "outputId": "73bdd63b-25d9-42ba-e6c8-9c052d02cb89",
        "colab": {
          "base_uri": "https://localhost:8080/"
        }
      },
      "outputs": [
        {
          "output_type": "execute_result",
          "data": {
            "text/plain": [
              "array([  -1, 3000,   -1,    7])"
            ]
          },
          "metadata": {},
          "execution_count": 78
        }
      ],
      "source": [
        "a[3] = 4000\n",
        "another_slice  # 마찬가지로 원본 배열을 수정해도 복사된 배열은 바뀌지 않습니다"
      ]
    },
    {
      "cell_type": "markdown",
      "metadata": {
        "id": "2pEunregHFKg"
      },
      "source": [
        "## 다차원 배열\n",
        "\n",
        "다차원 배열은 비슷한 방식으로 각 축을 따라 인덱싱 또는 슬라이싱해서 사용합니다. 콤마로 구분합니다:"
      ]
    },
    {
      "cell_type": "code",
      "execution_count": 79,
      "metadata": {
        "id": "0mc_Jpz3HFKh",
        "outputId": "ec3da2a1-aafd-4e20-883b-02bab03fba94",
        "colab": {
          "base_uri": "https://localhost:8080/"
        }
      },
      "outputs": [
        {
          "output_type": "execute_result",
          "data": {
            "text/plain": [
              "array([[ 0,  1,  2,  3,  4,  5,  6,  7,  8,  9, 10, 11],\n",
              "       [12, 13, 14, 15, 16, 17, 18, 19, 20, 21, 22, 23],\n",
              "       [24, 25, 26, 27, 28, 29, 30, 31, 32, 33, 34, 35],\n",
              "       [36, 37, 38, 39, 40, 41, 42, 43, 44, 45, 46, 47]])"
            ]
          },
          "metadata": {},
          "execution_count": 79
        }
      ],
      "source": [
        "b = np.arange(48).reshape(4, 12)\n",
        "b"
      ]
    },
    {
      "cell_type": "code",
      "execution_count": 80,
      "metadata": {
        "id": "CB-x_fOQHFKj",
        "outputId": "1bc5cb23-1c9c-4ea0-b750-e9c64494b9c9",
        "colab": {
          "base_uri": "https://localhost:8080/"
        }
      },
      "outputs": [
        {
          "output_type": "execute_result",
          "data": {
            "text/plain": [
              "14"
            ]
          },
          "metadata": {},
          "execution_count": 80
        }
      ],
      "source": [
        "b[1, 2]  # 행 1, 열 2"
      ]
    },
    {
      "cell_type": "code",
      "execution_count": 81,
      "metadata": {
        "id": "xznT-N6HHFKl",
        "outputId": "3b47fe24-2fbc-42b6-a83e-9da4e6ad937d",
        "colab": {
          "base_uri": "https://localhost:8080/"
        }
      },
      "outputs": [
        {
          "output_type": "execute_result",
          "data": {
            "text/plain": [
              "array([12, 13, 14, 15, 16, 17, 18, 19, 20, 21, 22, 23])"
            ]
          },
          "metadata": {},
          "execution_count": 81
        }
      ],
      "source": [
        "b[1, :]  # 행 1, 모든 열"
      ]
    },
    {
      "cell_type": "code",
      "execution_count": 82,
      "metadata": {
        "id": "xO6YiEaIHFKm",
        "outputId": "306f7d5b-de60-4c75-b271-5ab7e0e4e270",
        "colab": {
          "base_uri": "https://localhost:8080/"
        }
      },
      "outputs": [
        {
          "output_type": "execute_result",
          "data": {
            "text/plain": [
              "array([ 1, 13, 25, 37])"
            ]
          },
          "metadata": {},
          "execution_count": 82
        }
      ],
      "source": [
        "b[:, 1]  # 모든 행, 열 1"
      ]
    },
    {
      "cell_type": "markdown",
      "metadata": {
        "id": "KG5tzCW9HFKn"
      },
      "source": [
        "**주의**: 다음 두 표현에는 미묘한 차이가 있습니다: "
      ]
    },
    {
      "cell_type": "code",
      "execution_count": 83,
      "metadata": {
        "scrolled": true,
        "id": "eHlJD8dcHFKn",
        "outputId": "98bb245e-129d-498d-9f30-59ed9d6069d1",
        "colab": {
          "base_uri": "https://localhost:8080/"
        }
      },
      "outputs": [
        {
          "output_type": "execute_result",
          "data": {
            "text/plain": [
              "array([12, 13, 14, 15, 16, 17, 18, 19, 20, 21, 22, 23])"
            ]
          },
          "metadata": {},
          "execution_count": 83
        }
      ],
      "source": [
        "b[1, :]"
      ]
    },
    {
      "cell_type": "code",
      "execution_count": 84,
      "metadata": {
        "id": "oVkHkiQNHFKo",
        "outputId": "401d4c6e-a9e5-4657-9543-a8e365127c6a",
        "colab": {
          "base_uri": "https://localhost:8080/"
        }
      },
      "outputs": [
        {
          "output_type": "execute_result",
          "data": {
            "text/plain": [
              "array([[12, 13, 14, 15, 16, 17, 18, 19, 20, 21, 22, 23]])"
            ]
          },
          "metadata": {},
          "execution_count": 84
        }
      ],
      "source": [
        "b[1:2, :]"
      ]
    },
    {
      "cell_type": "markdown",
      "metadata": {
        "id": "6FNsmdFXHFKo"
      },
      "source": [
        "첫 번째 표현식은 `(12,)` 크기인 1D 배열로 행이 하나입니다. 두 번째는 `(1, 12)` 크기인 2D 배열로 같은 행을 반환합니다."
      ]
    },
    {
      "cell_type": "markdown",
      "metadata": {
        "id": "8anOg9ypHFKo"
      },
      "source": [
        "## 팬시 인덱싱(Fancy indexing)\n",
        "\n",
        "관심 대상의 인덱스 리스트를 지정할 수도 있습니다. 이를 팬시 인덱싱이라고 부릅니다."
      ]
    },
    {
      "cell_type": "code",
      "execution_count": 85,
      "metadata": {
        "scrolled": true,
        "id": "099N7xIAHFKo",
        "outputId": "d0c263ff-62cd-492d-eddf-9ec88fff0f03",
        "colab": {
          "base_uri": "https://localhost:8080/"
        }
      },
      "outputs": [
        {
          "output_type": "execute_result",
          "data": {
            "text/plain": [
              "array([[ 2,  3,  4],\n",
              "       [26, 27, 28]])"
            ]
          },
          "metadata": {},
          "execution_count": 85
        }
      ],
      "source": [
        "b[(0,2), 2:5]  # 행 0과 2, 열 2에서 4(5-1)까지"
      ]
    },
    {
      "cell_type": "code",
      "execution_count": 86,
      "metadata": {
        "id": "IXutw9wlHFKp",
        "outputId": "1159cafc-66d7-4319-d9be-6e9e720045eb",
        "colab": {
          "base_uri": "https://localhost:8080/"
        }
      },
      "outputs": [
        {
          "output_type": "execute_result",
          "data": {
            "text/plain": [
              "array([[11,  2, 11],\n",
              "       [23, 14, 23],\n",
              "       [35, 26, 35],\n",
              "       [47, 38, 47]])"
            ]
          },
          "metadata": {},
          "execution_count": 86
        }
      ],
      "source": [
        "b[:, (-1, 2, -1)]  # 모든 행, 열 -1 (마지막), 2와 -1 (다시 반대 방향으로)"
      ]
    },
    {
      "cell_type": "markdown",
      "metadata": {
        "id": "yU3Ly1omHFKp"
      },
      "source": [
        "여러 개의 인덱스 리스트를 지정하면 인덱스에 맞는 값이 포함된 1D `ndarray`를 반환됩니다."
      ]
    },
    {
      "cell_type": "code",
      "execution_count": 87,
      "metadata": {
        "id": "HvLJb13BHFKq",
        "outputId": "31910b62-ef8c-42f2-d94a-ed12094b2f3f",
        "colab": {
          "base_uri": "https://localhost:8080/"
        }
      },
      "outputs": [
        {
          "output_type": "execute_result",
          "data": {
            "text/plain": [
              "array([41, 33, 37, 33])"
            ]
          },
          "metadata": {},
          "execution_count": 87
        }
      ],
      "source": [
        "b[(-1, 2, -1, 2), (5, 9, 1, 9)]  # returns a 1D array with b[-1, 5], b[2, 9], b[-1, 1] and b[2, 9] (again)"
      ]
    },
    {
      "cell_type": "markdown",
      "metadata": {
        "id": "gz5y5ib6HFKq"
      },
      "source": [
        "## 고차원\n",
        "\n",
        "고차원에서도 동일한 방식이 적용됩니다. 몇 가지 예를 살펴 보겠습니다:"
      ]
    },
    {
      "cell_type": "code",
      "execution_count": 88,
      "metadata": {
        "id": "kfeY-UtJHFKr",
        "outputId": "fb9f09ba-df3a-49a2-b3ff-7f59c6704d8b",
        "colab": {
          "base_uri": "https://localhost:8080/"
        }
      },
      "outputs": [
        {
          "output_type": "execute_result",
          "data": {
            "text/plain": [
              "array([[[ 0,  1,  2,  3,  4,  5],\n",
              "        [ 6,  7,  8,  9, 10, 11]],\n",
              "\n",
              "       [[12, 13, 14, 15, 16, 17],\n",
              "        [18, 19, 20, 21, 22, 23]],\n",
              "\n",
              "       [[24, 25, 26, 27, 28, 29],\n",
              "        [30, 31, 32, 33, 34, 35]],\n",
              "\n",
              "       [[36, 37, 38, 39, 40, 41],\n",
              "        [42, 43, 44, 45, 46, 47]]])"
            ]
          },
          "metadata": {},
          "execution_count": 88
        }
      ],
      "source": [
        "c = b.reshape(4,2,6)\n",
        "c"
      ]
    },
    {
      "cell_type": "code",
      "execution_count": 89,
      "metadata": {
        "id": "FSwQormoHFKs",
        "outputId": "373fb552-5210-4760-a4dc-ad45c242a46f",
        "colab": {
          "base_uri": "https://localhost:8080/"
        }
      },
      "outputs": [
        {
          "output_type": "execute_result",
          "data": {
            "text/plain": [
              "34"
            ]
          },
          "metadata": {},
          "execution_count": 89
        }
      ],
      "source": [
        "c[2, 1, 4]  # 행렬 2, 행 1, 열 4"
      ]
    },
    {
      "cell_type": "code",
      "execution_count": 90,
      "metadata": {
        "id": "DidCl11dHFKt",
        "outputId": "93239e93-9ced-4cdf-eb31-fce0db65edea",
        "colab": {
          "base_uri": "https://localhost:8080/"
        }
      },
      "outputs": [
        {
          "output_type": "execute_result",
          "data": {
            "text/plain": [
              "array([27, 33])"
            ]
          },
          "metadata": {},
          "execution_count": 90
        }
      ],
      "source": [
        "c[2, :, 3]  # 행렬 2, 모든 행, 열 3"
      ]
    },
    {
      "cell_type": "markdown",
      "metadata": {
        "id": "CNZv-LXoHFKu"
      },
      "source": [
        "어떤 축에 대한 인덱스를 지정하지 않으면 이 축의 모든 원소가 반환됩니다:"
      ]
    },
    {
      "cell_type": "code",
      "execution_count": 91,
      "metadata": {
        "id": "8AiRSHNlHFKu",
        "outputId": "e20155fe-4d92-4faf-8469-2418b1f88d1f",
        "colab": {
          "base_uri": "https://localhost:8080/"
        }
      },
      "outputs": [
        {
          "output_type": "execute_result",
          "data": {
            "text/plain": [
              "array([30, 31, 32, 33, 34, 35])"
            ]
          },
          "metadata": {},
          "execution_count": 91
        }
      ],
      "source": [
        "c[2, 1]  # 행렬 2, 행 1, 모든 열이 반환됩니다. c[2, 1, :]와 동일합니다."
      ]
    },
    {
      "cell_type": "markdown",
      "metadata": {
        "id": "p6y3VPYYHFKu"
      },
      "source": [
        "## 생략 부호 (`...`)\n",
        "\n",
        "생략 부호(`...`)를 쓰면 모든 지정하지 않은 축의 원소를 포함합니다."
      ]
    },
    {
      "cell_type": "code",
      "execution_count": 92,
      "metadata": {
        "id": "BXpp5no2HFKu",
        "outputId": "0e6d6696-db42-41be-aa6f-e624f5daf0fa",
        "colab": {
          "base_uri": "https://localhost:8080/"
        }
      },
      "outputs": [
        {
          "output_type": "execute_result",
          "data": {
            "text/plain": [
              "array([[24, 25, 26, 27, 28, 29],\n",
              "       [30, 31, 32, 33, 34, 35]])"
            ]
          },
          "metadata": {},
          "execution_count": 92
        }
      ],
      "source": [
        "c[2, ...]  #  행렬 2, 모든 행, 모든 열. c[2, :, :]와 동일"
      ]
    },
    {
      "cell_type": "code",
      "execution_count": 93,
      "metadata": {
        "id": "c5mfA3YyHFKv",
        "outputId": "3031e69e-380a-4175-da4b-910294102c9a",
        "colab": {
          "base_uri": "https://localhost:8080/"
        }
      },
      "outputs": [
        {
          "output_type": "execute_result",
          "data": {
            "text/plain": [
              "array([30, 31, 32, 33, 34, 35])"
            ]
          },
          "metadata": {},
          "execution_count": 93
        }
      ],
      "source": [
        "c[2, 1, ...]  # 행렬 2, 행 1, 모든 열. c[2, 1, :]와 동일"
      ]
    },
    {
      "cell_type": "code",
      "execution_count": 94,
      "metadata": {
        "id": "c9aA7Zt1HFKv",
        "outputId": "85292ad2-a417-4ea0-a2b8-eac0d1cbf395",
        "colab": {
          "base_uri": "https://localhost:8080/"
        }
      },
      "outputs": [
        {
          "output_type": "execute_result",
          "data": {
            "text/plain": [
              "array([27, 33])"
            ]
          },
          "metadata": {},
          "execution_count": 94
        }
      ],
      "source": [
        "c[2, ..., 3]  # 행렬 2, 모든 행, 열 3. c[2, :, 3]와 동일"
      ]
    },
    {
      "cell_type": "code",
      "execution_count": 95,
      "metadata": {
        "id": "EGhh2GCoHFKv",
        "outputId": "130b079d-7bdd-4975-ece3-78b2f0e7637f",
        "colab": {
          "base_uri": "https://localhost:8080/"
        }
      },
      "outputs": [
        {
          "output_type": "execute_result",
          "data": {
            "text/plain": [
              "array([[ 3,  9],\n",
              "       [15, 21],\n",
              "       [27, 33],\n",
              "       [39, 45]])"
            ]
          },
          "metadata": {},
          "execution_count": 95
        }
      ],
      "source": [
        "c[..., 3]  # 모든 행렬, 모든 행, 열 3. c[:, :, 3]와 동일"
      ]
    },
    {
      "cell_type": "markdown",
      "metadata": {
        "id": "rdNzYtvlHFKw"
      },
      "source": [
        "## 불리언 인덱싱\n",
        "\n",
        "불리언 값을 가진 `ndarray`를 사용해 축의 인덱스를 지정할 수 있습니다."
      ]
    },
    {
      "cell_type": "code",
      "execution_count": 96,
      "metadata": {
        "id": "mQAZc5MmHFKw",
        "outputId": "fa5d7f69-a2a0-4e86-9428-54ccd35f73de",
        "colab": {
          "base_uri": "https://localhost:8080/"
        }
      },
      "outputs": [
        {
          "output_type": "execute_result",
          "data": {
            "text/plain": [
              "array([[ 0,  1,  2,  3,  4,  5,  6,  7,  8,  9, 10, 11],\n",
              "       [12, 13, 14, 15, 16, 17, 18, 19, 20, 21, 22, 23],\n",
              "       [24, 25, 26, 27, 28, 29, 30, 31, 32, 33, 34, 35],\n",
              "       [36, 37, 38, 39, 40, 41, 42, 43, 44, 45, 46, 47]])"
            ]
          },
          "metadata": {},
          "execution_count": 96
        }
      ],
      "source": [
        "b = np.arange(48).reshape(4, 12)\n",
        "b"
      ]
    },
    {
      "cell_type": "code",
      "execution_count": 97,
      "metadata": {
        "id": "hc6QDBt3HFKw",
        "outputId": "410ee235-6ef0-47cd-8032-04d5516109f1",
        "colab": {
          "base_uri": "https://localhost:8080/"
        }
      },
      "outputs": [
        {
          "output_type": "execute_result",
          "data": {
            "text/plain": [
              "array([[ 0,  1,  2,  3,  4,  5,  6,  7,  8,  9, 10, 11],\n",
              "       [24, 25, 26, 27, 28, 29, 30, 31, 32, 33, 34, 35]])"
            ]
          },
          "metadata": {},
          "execution_count": 97
        }
      ],
      "source": [
        "rows_on = np.array([True, False, True, False])\n",
        "b[rows_on, :]  # 행 0과 2, 모든 열. b[(0, 2), :]와 동일"
      ]
    },
    {
      "cell_type": "code",
      "execution_count": 98,
      "metadata": {
        "id": "YLUReWFBHFKw",
        "outputId": "a026dc52-0faa-4cca-c7fa-7ccb6902e03c",
        "colab": {
          "base_uri": "https://localhost:8080/"
        }
      },
      "outputs": [
        {
          "output_type": "execute_result",
          "data": {
            "text/plain": [
              "array([[ 1,  4,  7, 10],\n",
              "       [13, 16, 19, 22],\n",
              "       [25, 28, 31, 34],\n",
              "       [37, 40, 43, 46]])"
            ]
          },
          "metadata": {},
          "execution_count": 98
        }
      ],
      "source": [
        "cols_on = np.array([False, True, False] * 4)\n",
        "b[:, cols_on]  # 모든 행, 열 1, 4, 7, 10"
      ]
    },
    {
      "cell_type": "markdown",
      "metadata": {
        "id": "u9HmwyO3HFKx"
      },
      "source": [
        "## `np.ix_`\n",
        "\n",
        "여러 축에 걸쳐서는 불리언 인덱싱을 사용할 수 없고 `ix_` 함수를 사용합니다:"
      ]
    },
    {
      "cell_type": "code",
      "execution_count": 99,
      "metadata": {
        "id": "AO-LI_PdHFKx",
        "outputId": "b4f7e6e2-1dab-4f8a-88c5-eaae3deccf1e",
        "colab": {
          "base_uri": "https://localhost:8080/"
        }
      },
      "outputs": [
        {
          "output_type": "execute_result",
          "data": {
            "text/plain": [
              "array([[ 1,  4,  7, 10],\n",
              "       [25, 28, 31, 34]])"
            ]
          },
          "metadata": {},
          "execution_count": 99
        }
      ],
      "source": [
        "b[np.ix_(rows_on, cols_on)]"
      ]
    },
    {
      "cell_type": "code",
      "execution_count": 100,
      "metadata": {
        "id": "UXfYALZ0HFKx",
        "outputId": "b4810fe9-07a7-491d-c1d3-e47d72c175be",
        "colab": {
          "base_uri": "https://localhost:8080/"
        }
      },
      "outputs": [
        {
          "output_type": "execute_result",
          "data": {
            "text/plain": [
              "(array([[0],\n",
              "        [2]]),\n",
              " array([[ 1,  4,  7, 10]]))"
            ]
          },
          "metadata": {},
          "execution_count": 100
        }
      ],
      "source": [
        "np.ix_(rows_on, cols_on)"
      ]
    },
    {
      "cell_type": "markdown",
      "metadata": {
        "id": "BlXFfophHFKy"
      },
      "source": [
        "`ndarray`와 같은 크기의 불리언 배열을 사용하면 해당 위치가 `True`인 모든 원소를 담은 1D 배열이 반환됩니다. 일반적으로 조건 연산자와 함께 사용합니다:"
      ]
    },
    {
      "cell_type": "code",
      "execution_count": 101,
      "metadata": {
        "id": "N1l31jQiHFKy",
        "outputId": "a03437ec-7490-43e8-ecb7-e6bd0c7c5332",
        "colab": {
          "base_uri": "https://localhost:8080/"
        }
      },
      "outputs": [
        {
          "output_type": "execute_result",
          "data": {
            "text/plain": [
              "array([ 1,  4,  7, 10, 13, 16, 19, 22, 25, 28, 31, 34, 37, 40, 43, 46])"
            ]
          },
          "metadata": {},
          "execution_count": 101
        }
      ],
      "source": [
        "b[b % 3 == 1]"
      ]
    },
    {
      "cell_type": "markdown",
      "metadata": {
        "id": "ZCud8NuvHFK1"
      },
      "source": [
        "# 반복\n",
        "\n",
        "`ndarray`를 반복하는 것은 일반적인 파이썬 배열을 반복한는 것과 매우 유사합니다. 다차원 배열을 반복하면 첫 번째 축에 대해서 수행됩니다."
      ]
    },
    {
      "cell_type": "code",
      "execution_count": 102,
      "metadata": {
        "id": "YtxwLkP_HFK2",
        "outputId": "f9c590e1-8e47-447d-cd31-d715e8b11007",
        "colab": {
          "base_uri": "https://localhost:8080/"
        }
      },
      "outputs": [
        {
          "output_type": "execute_result",
          "data": {
            "text/plain": [
              "array([[[ 0,  1,  2,  3],\n",
              "        [ 4,  5,  6,  7],\n",
              "        [ 8,  9, 10, 11]],\n",
              "\n",
              "       [[12, 13, 14, 15],\n",
              "        [16, 17, 18, 19],\n",
              "        [20, 21, 22, 23]]])"
            ]
          },
          "metadata": {},
          "execution_count": 102
        }
      ],
      "source": [
        "c = np.arange(24).reshape(2, 3, 4)  # 3D 배열 (두 개의 3x4 행렬로 구성됨)\n",
        "c"
      ]
    },
    {
      "cell_type": "code",
      "execution_count": 103,
      "metadata": {
        "id": "0m0Tipf9HFK2",
        "outputId": "9509b6fb-5bee-4326-83e0-828c67a01717",
        "colab": {
          "base_uri": "https://localhost:8080/"
        }
      },
      "outputs": [
        {
          "output_type": "stream",
          "name": "stdout",
          "text": [
            "아이템:\n",
            "[[ 0  1  2  3]\n",
            " [ 4  5  6  7]\n",
            " [ 8  9 10 11]]\n",
            "아이템:\n",
            "[[12 13 14 15]\n",
            " [16 17 18 19]\n",
            " [20 21 22 23]]\n"
          ]
        }
      ],
      "source": [
        "for m in c:\n",
        "    print(\"아이템:\")\n",
        "    print(m)"
      ]
    },
    {
      "cell_type": "code",
      "execution_count": 104,
      "metadata": {
        "id": "CpYy5hSyHFK3",
        "outputId": "d8508b04-e16f-4439-e730-c94cb81f299c",
        "colab": {
          "base_uri": "https://localhost:8080/"
        }
      },
      "outputs": [
        {
          "output_type": "stream",
          "name": "stdout",
          "text": [
            "아이템:\n",
            "[[ 0  1  2  3]\n",
            " [ 4  5  6  7]\n",
            " [ 8  9 10 11]]\n",
            "아이템:\n",
            "[[12 13 14 15]\n",
            " [16 17 18 19]\n",
            " [20 21 22 23]]\n"
          ]
        }
      ],
      "source": [
        "for i in range(len(c)):  # len(c) == c.shape[0]\n",
        "    print(\"아이템:\")\n",
        "    print(c[i])"
      ]
    },
    {
      "cell_type": "markdown",
      "metadata": {
        "id": "XHS6NifzHFK4"
      },
      "source": [
        "`ndarray`에 있는 모든 원소를 반복하려면 `flat` 속성을 사용합니다:"
      ]
    },
    {
      "cell_type": "code",
      "execution_count": 105,
      "metadata": {
        "id": "Au1gJEW5HFK4",
        "outputId": "2d1f82d9-2697-4d2a-e02b-67ff60f2b6db",
        "colab": {
          "base_uri": "https://localhost:8080/"
        }
      },
      "outputs": [
        {
          "output_type": "stream",
          "name": "stdout",
          "text": [
            "아이템: 0\n",
            "아이템: 1\n",
            "아이템: 2\n",
            "아이템: 3\n",
            "아이템: 4\n",
            "아이템: 5\n",
            "아이템: 6\n",
            "아이템: 7\n",
            "아이템: 8\n",
            "아이템: 9\n",
            "아이템: 10\n",
            "아이템: 11\n",
            "아이템: 12\n",
            "아이템: 13\n",
            "아이템: 14\n",
            "아이템: 15\n",
            "아이템: 16\n",
            "아이템: 17\n",
            "아이템: 18\n",
            "아이템: 19\n",
            "아이템: 20\n",
            "아이템: 21\n",
            "아이템: 22\n",
            "아이템: 23\n"
          ]
        }
      ],
      "source": [
        "for i in c.flat:\n",
        "    print(\"아이템:\", i)"
      ]
    },
    {
      "cell_type": "markdown",
      "metadata": {
        "id": "PvSDGTrYHFK4"
      },
      "source": [
        "# 배열 쌓기\n",
        "\n",
        "종종 다른 배열을 쌓아야 할 때가 있습니다. 넘파이는 이를 위해 몇 개의 함수를 제공합니다. 먼저 배열 몇 개를 만들어 보죠."
      ]
    },
    {
      "cell_type": "code",
      "execution_count": 106,
      "metadata": {
        "id": "k7qivzjoHFK5",
        "outputId": "e3ab4e2d-7722-45e1-b35f-5e48cda3ca0d",
        "colab": {
          "base_uri": "https://localhost:8080/"
        }
      },
      "outputs": [
        {
          "output_type": "execute_result",
          "data": {
            "text/plain": [
              "array([[1., 1., 1., 1.],\n",
              "       [1., 1., 1., 1.],\n",
              "       [1., 1., 1., 1.]])"
            ]
          },
          "metadata": {},
          "execution_count": 106
        }
      ],
      "source": [
        "q1 = np.full((3,4), 1.0)\n",
        "q1"
      ]
    },
    {
      "cell_type": "code",
      "execution_count": 107,
      "metadata": {
        "id": "WAi-iacnHFK5",
        "outputId": "8354f535-ccd6-43b8-b8b4-25b7392ea9de",
        "colab": {
          "base_uri": "https://localhost:8080/"
        }
      },
      "outputs": [
        {
          "output_type": "execute_result",
          "data": {
            "text/plain": [
              "array([[2., 2., 2., 2.],\n",
              "       [2., 2., 2., 2.],\n",
              "       [2., 2., 2., 2.],\n",
              "       [2., 2., 2., 2.]])"
            ]
          },
          "metadata": {},
          "execution_count": 107
        }
      ],
      "source": [
        "q2 = np.full((4,4), 2.0)\n",
        "q2"
      ]
    },
    {
      "cell_type": "code",
      "execution_count": 108,
      "metadata": {
        "id": "CFUYP23rHFK8",
        "outputId": "bef6f226-0a44-4041-d896-7e14b5babddd",
        "colab": {
          "base_uri": "https://localhost:8080/"
        }
      },
      "outputs": [
        {
          "output_type": "execute_result",
          "data": {
            "text/plain": [
              "array([[3., 3., 3., 3.],\n",
              "       [3., 3., 3., 3.],\n",
              "       [3., 3., 3., 3.]])"
            ]
          },
          "metadata": {},
          "execution_count": 108
        }
      ],
      "source": [
        "q3 = np.full((3,4), 3.0)\n",
        "q3"
      ]
    },
    {
      "cell_type": "markdown",
      "metadata": {
        "id": "tSiP_MUyHFK8"
      },
      "source": [
        "## `vstack`\n",
        "\n",
        "`vstack` 함수를 사용하여 수직으로 쌓아보죠:"
      ]
    },
    {
      "cell_type": "code",
      "execution_count": 109,
      "metadata": {
        "id": "3eyXfd5BHFK9",
        "outputId": "f2bcaf81-fcd1-4f43-8b6a-70baa0ae2e9e",
        "colab": {
          "base_uri": "https://localhost:8080/"
        }
      },
      "outputs": [
        {
          "output_type": "execute_result",
          "data": {
            "text/plain": [
              "array([[1., 1., 1., 1.],\n",
              "       [1., 1., 1., 1.],\n",
              "       [1., 1., 1., 1.],\n",
              "       [2., 2., 2., 2.],\n",
              "       [2., 2., 2., 2.],\n",
              "       [2., 2., 2., 2.],\n",
              "       [2., 2., 2., 2.],\n",
              "       [3., 3., 3., 3.],\n",
              "       [3., 3., 3., 3.],\n",
              "       [3., 3., 3., 3.]])"
            ]
          },
          "metadata": {},
          "execution_count": 109
        }
      ],
      "source": [
        "q4 = np.vstack((q1, q2, q3))\n",
        "q4"
      ]
    },
    {
      "cell_type": "code",
      "execution_count": 110,
      "metadata": {
        "id": "KORLF0iqHFK9",
        "outputId": "8d886590-68de-496c-d5eb-1f126f046984",
        "colab": {
          "base_uri": "https://localhost:8080/"
        }
      },
      "outputs": [
        {
          "output_type": "execute_result",
          "data": {
            "text/plain": [
              "(10, 4)"
            ]
          },
          "metadata": {},
          "execution_count": 110
        }
      ],
      "source": [
        "q4.shape"
      ]
    },
    {
      "cell_type": "markdown",
      "metadata": {
        "id": "JEVh2GgVHFK-"
      },
      "source": [
        "q1, q2, q3가 모두 같은 크기이므로 가능합니다(수직으로 쌓기 때문에 수직 축은 크기가 달라도 됩니다).\n",
        "\n",
        "## `hstack`\n",
        "\n",
        "`hstack`을 사용해 수평으로도 쌓을 수 있습니다:"
      ]
    },
    {
      "cell_type": "code",
      "execution_count": 111,
      "metadata": {
        "id": "e83KsMfqHFK-",
        "outputId": "cc122f0f-d19b-4330-b0fc-e07c3dfd543d",
        "colab": {
          "base_uri": "https://localhost:8080/"
        }
      },
      "outputs": [
        {
          "output_type": "execute_result",
          "data": {
            "text/plain": [
              "array([[1., 1., 1., 1., 3., 3., 3., 3.],\n",
              "       [1., 1., 1., 1., 3., 3., 3., 3.],\n",
              "       [1., 1., 1., 1., 3., 3., 3., 3.]])"
            ]
          },
          "metadata": {},
          "execution_count": 111
        }
      ],
      "source": [
        "q5 = np.hstack((q1, q3))\n",
        "q5"
      ]
    },
    {
      "cell_type": "code",
      "execution_count": 112,
      "metadata": {
        "id": "FmACqE8fHFK_",
        "outputId": "8b7398a1-b675-460f-e88b-bc06be5faecb",
        "colab": {
          "base_uri": "https://localhost:8080/"
        }
      },
      "outputs": [
        {
          "output_type": "execute_result",
          "data": {
            "text/plain": [
              "(3, 8)"
            ]
          },
          "metadata": {},
          "execution_count": 112
        }
      ],
      "source": [
        "q5.shape"
      ]
    },
    {
      "cell_type": "markdown",
      "metadata": {
        "id": "14smthbMHFK_"
      },
      "source": [
        "q1과 q3가 모두 3개의 행을 가지고 있기 때문에 가능합니다. q2는 4개의 행을 가지고 있기 때문에 q1, q3와 수평으로 쌓을 수 없습니다:"
      ]
    },
    {
      "cell_type": "code",
      "execution_count": 113,
      "metadata": {
        "id": "DatcKu4bHFLA",
        "outputId": "2230e79d-5bcb-4182-a395-ce75a0b1f570",
        "colab": {
          "base_uri": "https://localhost:8080/"
        }
      },
      "outputs": [
        {
          "output_type": "stream",
          "name": "stdout",
          "text": [
            "all the input array dimensions for the concatenation axis must match exactly, but along dimension 0, the array at index 0 has size 3 and the array at index 1 has size 4\n"
          ]
        }
      ],
      "source": [
        "try:\n",
        "    q5 = np.hstack((q1, q2, q3))\n",
        "except ValueError as e:\n",
        "    print(e)"
      ]
    },
    {
      "cell_type": "markdown",
      "metadata": {
        "id": "JojM-lEZHFLA"
      },
      "source": [
        "## `concatenate`\n",
        "\n",
        "`concatenate` 함수는 지정한 축으로도 배열을 쌓습니다."
      ]
    },
    {
      "cell_type": "code",
      "execution_count": 114,
      "metadata": {
        "id": "LXw_Drb2HFLA",
        "outputId": "ac25f16e-a95c-4258-a87b-a8bb05e79e3f",
        "colab": {
          "base_uri": "https://localhost:8080/"
        }
      },
      "outputs": [
        {
          "output_type": "execute_result",
          "data": {
            "text/plain": [
              "array([[1., 1., 1., 1.],\n",
              "       [1., 1., 1., 1.],\n",
              "       [1., 1., 1., 1.],\n",
              "       [2., 2., 2., 2.],\n",
              "       [2., 2., 2., 2.],\n",
              "       [2., 2., 2., 2.],\n",
              "       [2., 2., 2., 2.],\n",
              "       [3., 3., 3., 3.],\n",
              "       [3., 3., 3., 3.],\n",
              "       [3., 3., 3., 3.]])"
            ]
          },
          "metadata": {},
          "execution_count": 114
        }
      ],
      "source": [
        "q7 = np.concatenate((q1, q2, q3), axis=0)  # vstack과 동일\n",
        "q7"
      ]
    },
    {
      "cell_type": "code",
      "execution_count": 115,
      "metadata": {
        "id": "R8-dXFJuHFLB",
        "outputId": "f87bf08a-6d41-42a0-e7c9-ac8f35c626a9",
        "colab": {
          "base_uri": "https://localhost:8080/"
        }
      },
      "outputs": [
        {
          "output_type": "execute_result",
          "data": {
            "text/plain": [
              "(10, 4)"
            ]
          },
          "metadata": {},
          "execution_count": 115
        }
      ],
      "source": [
        "q7.shape"
      ]
    },
    {
      "cell_type": "markdown",
      "metadata": {
        "id": "yxd2Hw3hHFLB"
      },
      "source": [
        "예상했겠지만 `hstack`은 `axis=1`으로 `concatenate`를 호출하는 것과 같습니다."
      ]
    },
    {
      "cell_type": "markdown",
      "metadata": {
        "id": "yS4ulp3AHFLC"
      },
      "source": [
        "## `stack`\n",
        "\n",
        "`stack` 함수는 새로운 축을 따라 배열을 쌓습니다. 모든 배열은 같은 크기를 가져야 합니다."
      ]
    },
    {
      "cell_type": "code",
      "execution_count": 116,
      "metadata": {
        "id": "jD-1xomZHFLC",
        "outputId": "58505a8f-a9c8-4482-9679-b36439bde153",
        "colab": {
          "base_uri": "https://localhost:8080/"
        }
      },
      "outputs": [
        {
          "output_type": "execute_result",
          "data": {
            "text/plain": [
              "array([[[1., 1., 1., 1.],\n",
              "        [1., 1., 1., 1.],\n",
              "        [1., 1., 1., 1.]],\n",
              "\n",
              "       [[3., 3., 3., 3.],\n",
              "        [3., 3., 3., 3.],\n",
              "        [3., 3., 3., 3.]]])"
            ]
          },
          "metadata": {},
          "execution_count": 116
        }
      ],
      "source": [
        "q8 = np.stack((q1, q3))\n",
        "q8"
      ]
    },
    {
      "cell_type": "code",
      "execution_count": 117,
      "metadata": {
        "id": "qpImr03PHFLD",
        "outputId": "b9d07d18-1abc-43e7-f2ca-361c36955c85",
        "colab": {
          "base_uri": "https://localhost:8080/"
        }
      },
      "outputs": [
        {
          "output_type": "execute_result",
          "data": {
            "text/plain": [
              "(2, 3, 4)"
            ]
          },
          "metadata": {},
          "execution_count": 117
        }
      ],
      "source": [
        "q8.shape"
      ]
    },
    {
      "cell_type": "markdown",
      "metadata": {
        "id": "8HdIo7G9HFLD"
      },
      "source": [
        "# 배열 분할\n",
        "\n",
        "분할은 쌓기의 반대입니다. 예를 들어 `vsplit` 함수는 행렬을 수직으로 분할합니다.\n",
        "\n",
        "먼저 6x4 행렬을 만들어 보죠:"
      ]
    },
    {
      "cell_type": "code",
      "execution_count": 118,
      "metadata": {
        "id": "8KJ9w5vbHFLF",
        "outputId": "25f0e85b-fdd3-4f3d-89cf-c52a333f741d",
        "colab": {
          "base_uri": "https://localhost:8080/"
        }
      },
      "outputs": [
        {
          "output_type": "execute_result",
          "data": {
            "text/plain": [
              "array([[ 0,  1,  2,  3],\n",
              "       [ 4,  5,  6,  7],\n",
              "       [ 8,  9, 10, 11],\n",
              "       [12, 13, 14, 15],\n",
              "       [16, 17, 18, 19],\n",
              "       [20, 21, 22, 23]])"
            ]
          },
          "metadata": {},
          "execution_count": 118
        }
      ],
      "source": [
        "r = np.arange(24).reshape(6,4)\n",
        "r"
      ]
    },
    {
      "cell_type": "markdown",
      "metadata": {
        "id": "z0xtW7paHFLH"
      },
      "source": [
        "수직으로 동일한 크기로 나누어 보겠습니다:"
      ]
    },
    {
      "cell_type": "code",
      "execution_count": 119,
      "metadata": {
        "id": "wRWRwh5xHFLI",
        "outputId": "586b4a84-9660-4732-8812-ebeb55a627e3",
        "colab": {
          "base_uri": "https://localhost:8080/"
        }
      },
      "outputs": [
        {
          "output_type": "execute_result",
          "data": {
            "text/plain": [
              "array([[0, 1, 2, 3],\n",
              "       [4, 5, 6, 7]])"
            ]
          },
          "metadata": {},
          "execution_count": 119
        }
      ],
      "source": [
        "r1, r2, r3 = np.vsplit(r, 3)\n",
        "r1"
      ]
    },
    {
      "cell_type": "code",
      "execution_count": 120,
      "metadata": {
        "id": "3K1l8KzHHFLJ",
        "outputId": "aca29553-bf6a-4521-f143-38198a44532e",
        "colab": {
          "base_uri": "https://localhost:8080/"
        }
      },
      "outputs": [
        {
          "output_type": "execute_result",
          "data": {
            "text/plain": [
              "array([[ 8,  9, 10, 11],\n",
              "       [12, 13, 14, 15]])"
            ]
          },
          "metadata": {},
          "execution_count": 120
        }
      ],
      "source": [
        "r2"
      ]
    },
    {
      "cell_type": "code",
      "execution_count": 121,
      "metadata": {
        "id": "blSEhqRXHFLK",
        "outputId": "dcbb4bb7-b69a-4b8f-d5e9-8fd69402a2f1",
        "colab": {
          "base_uri": "https://localhost:8080/"
        }
      },
      "outputs": [
        {
          "output_type": "execute_result",
          "data": {
            "text/plain": [
              "array([[16, 17, 18, 19],\n",
              "       [20, 21, 22, 23]])"
            ]
          },
          "metadata": {},
          "execution_count": 121
        }
      ],
      "source": [
        "r3"
      ]
    },
    {
      "cell_type": "markdown",
      "metadata": {
        "id": "3AR9S5ydHFLK"
      },
      "source": [
        "`split` 함수는 주어진 축을 따라 배열을 분할합니다. `vsplit`는 `axis=0`으로 `split`를 호출하는 것과 같습니다. `hsplit` 함수는 `axis=1`로 `split`를 호출하는 것과 같습니다:"
      ]
    },
    {
      "cell_type": "code",
      "execution_count": 122,
      "metadata": {
        "id": "TUHvlyG2HFLK",
        "outputId": "6919f3e7-1848-4779-f484-1813ced55cba",
        "colab": {
          "base_uri": "https://localhost:8080/"
        }
      },
      "outputs": [
        {
          "output_type": "execute_result",
          "data": {
            "text/plain": [
              "array([[ 0,  1],\n",
              "       [ 4,  5],\n",
              "       [ 8,  9],\n",
              "       [12, 13],\n",
              "       [16, 17],\n",
              "       [20, 21]])"
            ]
          },
          "metadata": {},
          "execution_count": 122
        }
      ],
      "source": [
        "r4, r5 = np.hsplit(r, 2)\n",
        "r4"
      ]
    },
    {
      "cell_type": "code",
      "execution_count": 123,
      "metadata": {
        "id": "WprDWVL3HFLL",
        "outputId": "d4f330a6-ff2b-456d-e16b-b1389183a37d",
        "colab": {
          "base_uri": "https://localhost:8080/"
        }
      },
      "outputs": [
        {
          "output_type": "execute_result",
          "data": {
            "text/plain": [
              "array([[ 2,  3],\n",
              "       [ 6,  7],\n",
              "       [10, 11],\n",
              "       [14, 15],\n",
              "       [18, 19],\n",
              "       [22, 23]])"
            ]
          },
          "metadata": {},
          "execution_count": 123
        }
      ],
      "source": [
        "r5"
      ]
    },
    {
      "cell_type": "markdown",
      "metadata": {
        "id": "usX-QcX1HFLL"
      },
      "source": [
        "# 배열 전치\n",
        "\n",
        "`transpose` 메서드는 주어진 순서대로 축을 뒤바꾸어 `ndarray` 데이터에 대한 새로운 뷰를 만듭니다.\n",
        "\n",
        "예를 위해 3D 배열을 만들어 보죠:"
      ]
    },
    {
      "cell_type": "code",
      "execution_count": 124,
      "metadata": {
        "id": "UrgKsfmPHFLL",
        "outputId": "61b61484-e7e5-4b35-df89-d3f0f53c1225",
        "colab": {
          "base_uri": "https://localhost:8080/"
        }
      },
      "outputs": [
        {
          "output_type": "execute_result",
          "data": {
            "text/plain": [
              "array([[[ 0,  1,  2],\n",
              "        [ 3,  4,  5]],\n",
              "\n",
              "       [[ 6,  7,  8],\n",
              "        [ 9, 10, 11]],\n",
              "\n",
              "       [[12, 13, 14],\n",
              "        [15, 16, 17]],\n",
              "\n",
              "       [[18, 19, 20],\n",
              "        [21, 22, 23]]])"
            ]
          },
          "metadata": {},
          "execution_count": 124
        }
      ],
      "source": [
        "t = np.arange(24).reshape(4,2,3)\n",
        "t"
      ]
    },
    {
      "cell_type": "markdown",
      "metadata": {
        "id": "hgI_umUPHFLM"
      },
      "source": [
        "`0, 1, 2`(깊이, 높이, 너비) 축을 `1, 2, 0` (깊이→너비, 높이→깊이, 너비→높이) 순서로 바꾼 `ndarray`를 만들어 보겠습니다:"
      ]
    },
    {
      "cell_type": "code",
      "execution_count": 125,
      "metadata": {
        "id": "a55xCm-lHFLN",
        "outputId": "cd298a62-1b0b-44b7-ceea-f4131dd3fa1c",
        "colab": {
          "base_uri": "https://localhost:8080/"
        }
      },
      "outputs": [
        {
          "output_type": "execute_result",
          "data": {
            "text/plain": [
              "array([[[ 0,  6, 12, 18],\n",
              "        [ 1,  7, 13, 19],\n",
              "        [ 2,  8, 14, 20]],\n",
              "\n",
              "       [[ 3,  9, 15, 21],\n",
              "        [ 4, 10, 16, 22],\n",
              "        [ 5, 11, 17, 23]]])"
            ]
          },
          "metadata": {},
          "execution_count": 125
        }
      ],
      "source": [
        "t1 = t.transpose((1,2,0))\n",
        "t1"
      ]
    },
    {
      "cell_type": "code",
      "execution_count": 126,
      "metadata": {
        "id": "px5bA0WyHFLN",
        "outputId": "2d9603ef-9287-4030-be86-18e5ddf81b2c",
        "colab": {
          "base_uri": "https://localhost:8080/"
        }
      },
      "outputs": [
        {
          "output_type": "execute_result",
          "data": {
            "text/plain": [
              "(2, 3, 4)"
            ]
          },
          "metadata": {},
          "execution_count": 126
        }
      ],
      "source": [
        "t1.shape"
      ]
    },
    {
      "cell_type": "markdown",
      "metadata": {
        "id": "YlqxT7-8HFLO"
      },
      "source": [
        "`transpose` 기본값은 차원의 순서를 역전시킵니다:"
      ]
    },
    {
      "cell_type": "code",
      "execution_count": 127,
      "metadata": {
        "id": "t0Q14f6lHFLP",
        "outputId": "2ab4a207-623a-4cdb-827a-89946879cac3",
        "colab": {
          "base_uri": "https://localhost:8080/"
        }
      },
      "outputs": [
        {
          "output_type": "execute_result",
          "data": {
            "text/plain": [
              "array([[[ 0,  6, 12, 18],\n",
              "        [ 3,  9, 15, 21]],\n",
              "\n",
              "       [[ 1,  7, 13, 19],\n",
              "        [ 4, 10, 16, 22]],\n",
              "\n",
              "       [[ 2,  8, 14, 20],\n",
              "        [ 5, 11, 17, 23]]])"
            ]
          },
          "metadata": {},
          "execution_count": 127
        }
      ],
      "source": [
        "t2 = t.transpose()  # t.transpose((2, 1, 0))와 동일\n",
        "t2"
      ]
    },
    {
      "cell_type": "code",
      "execution_count": 128,
      "metadata": {
        "id": "FcFXdIygHFLQ",
        "outputId": "7a89437c-ce2b-46bc-f803-f4f8973a7417",
        "colab": {
          "base_uri": "https://localhost:8080/"
        }
      },
      "outputs": [
        {
          "output_type": "execute_result",
          "data": {
            "text/plain": [
              "(3, 2, 4)"
            ]
          },
          "metadata": {},
          "execution_count": 128
        }
      ],
      "source": [
        "t2.shape"
      ]
    },
    {
      "cell_type": "markdown",
      "metadata": {
        "id": "bPgxowzXHFLS"
      },
      "source": [
        "넘파이는 두 축을 바꾸는 `swapaxes` 함수를 제공합니다. 예를 들어 깊이와 높이를 뒤바꾸어 `t`의 새로운 뷰를 만들어 보죠:"
      ]
    },
    {
      "cell_type": "code",
      "execution_count": 129,
      "metadata": {
        "id": "yS0C7lBPHFLT",
        "outputId": "d5165afe-c724-499b-8330-c362986092c2",
        "colab": {
          "base_uri": "https://localhost:8080/"
        }
      },
      "outputs": [
        {
          "output_type": "execute_result",
          "data": {
            "text/plain": [
              "array([[[ 0,  1,  2],\n",
              "        [ 6,  7,  8],\n",
              "        [12, 13, 14],\n",
              "        [18, 19, 20]],\n",
              "\n",
              "       [[ 3,  4,  5],\n",
              "        [ 9, 10, 11],\n",
              "        [15, 16, 17],\n",
              "        [21, 22, 23]]])"
            ]
          },
          "metadata": {},
          "execution_count": 129
        }
      ],
      "source": [
        "t3 = t.swapaxes(0,1)  # t.transpose((1, 0, 2))와 동일\n",
        "t3"
      ]
    },
    {
      "cell_type": "code",
      "execution_count": 130,
      "metadata": {
        "id": "T5I_0PanHFLT",
        "outputId": "98548721-612a-46ae-f6f4-7a0edf0bda25",
        "colab": {
          "base_uri": "https://localhost:8080/"
        }
      },
      "outputs": [
        {
          "output_type": "execute_result",
          "data": {
            "text/plain": [
              "(2, 4, 3)"
            ]
          },
          "metadata": {},
          "execution_count": 130
        }
      ],
      "source": [
        "t3.shape"
      ]
    },
    {
      "cell_type": "markdown",
      "metadata": {
        "id": "u1ta1P_XHFLZ"
      },
      "source": [
        "# 선형 대수학\n",
        "\n",
        "넘파이 2D 배열을 사용하면 파이썬에서 행렬을 효율적으로 표현할 수 있습니다. 주요 행렬 연산을 간단히 둘러 보겠습니다. 선형 대수학, 벡터와 행렬에 관한 자세한 내용은 [Linear Algebra tutorial](math_linear_algebra.ipynb)를 참고하세요.\n",
        "\n",
        "## 행렬 전치\n",
        "\n",
        "`T` 속성은 랭크가 2보다 크거나 같을 때 `transpose()`를 호출하는 것과 같습니다:"
      ]
    },
    {
      "cell_type": "code",
      "execution_count": 131,
      "metadata": {
        "id": "HRn8IFOEHFLZ",
        "outputId": "ae00386c-a1e2-4b82-938c-55dd33cce837",
        "colab": {
          "base_uri": "https://localhost:8080/"
        }
      },
      "outputs": [
        {
          "output_type": "execute_result",
          "data": {
            "text/plain": [
              "array([[0, 1, 2, 3, 4],\n",
              "       [5, 6, 7, 8, 9]])"
            ]
          },
          "metadata": {},
          "execution_count": 131
        }
      ],
      "source": [
        "m1 = np.arange(10).reshape(2,5)\n",
        "m1"
      ]
    },
    {
      "cell_type": "code",
      "execution_count": 132,
      "metadata": {
        "id": "Agq10HQDHFLa",
        "outputId": "1cc3c343-2cac-44aa-9ee0-8dc6db53f058",
        "colab": {
          "base_uri": "https://localhost:8080/"
        }
      },
      "outputs": [
        {
          "output_type": "execute_result",
          "data": {
            "text/plain": [
              "array([[0, 5],\n",
              "       [1, 6],\n",
              "       [2, 7],\n",
              "       [3, 8],\n",
              "       [4, 9]])"
            ]
          },
          "metadata": {},
          "execution_count": 132
        }
      ],
      "source": [
        "m1.T"
      ]
    },
    {
      "cell_type": "markdown",
      "metadata": {
        "id": "9rZ9vTLMHFLa"
      },
      "source": [
        "`T` 속성은 랭크가 0이거나 1인 배열에는 아무런 영향을 미치지 않습니다:"
      ]
    },
    {
      "cell_type": "code",
      "execution_count": 133,
      "metadata": {
        "scrolled": true,
        "id": "KofcYbi0HFLa",
        "outputId": "3d9296dd-2c00-4065-c329-7e0e75c9cb3d",
        "colab": {
          "base_uri": "https://localhost:8080/"
        }
      },
      "outputs": [
        {
          "output_type": "execute_result",
          "data": {
            "text/plain": [
              "array([0, 1, 2, 3, 4])"
            ]
          },
          "metadata": {},
          "execution_count": 133
        }
      ],
      "source": [
        "m2 = np.arange(5)\n",
        "m2"
      ]
    },
    {
      "cell_type": "code",
      "execution_count": 134,
      "metadata": {
        "scrolled": true,
        "id": "DuvqUupMHFLb",
        "outputId": "7d224b6a-24aa-45f0-ff84-1fe118c0828f",
        "colab": {
          "base_uri": "https://localhost:8080/"
        }
      },
      "outputs": [
        {
          "output_type": "execute_result",
          "data": {
            "text/plain": [
              "array([0, 1, 2, 3, 4])"
            ]
          },
          "metadata": {},
          "execution_count": 134
        }
      ],
      "source": [
        "m2.T"
      ]
    },
    {
      "cell_type": "markdown",
      "metadata": {
        "id": "BBhM5QmKHFLb"
      },
      "source": [
        "먼저 1D 배열을 하나의 행이 있는 행렬(2D)로 바꾼다음 전치를 수행할 수 있습니다:"
      ]
    },
    {
      "cell_type": "code",
      "execution_count": 135,
      "metadata": {
        "id": "rY3RM5D8HFLc",
        "outputId": "55a62c91-03b2-432b-8de3-2167b37563d7",
        "colab": {
          "base_uri": "https://localhost:8080/"
        }
      },
      "outputs": [
        {
          "output_type": "execute_result",
          "data": {
            "text/plain": [
              "array([[0, 1, 2, 3, 4]])"
            ]
          },
          "metadata": {},
          "execution_count": 135
        }
      ],
      "source": [
        "m2r = m2.reshape(1,5)\n",
        "m2r"
      ]
    },
    {
      "cell_type": "code",
      "execution_count": 136,
      "metadata": {
        "id": "cyjNuTu0HFLd",
        "outputId": "6ca889a9-f3da-48fb-8444-8650efc4e083",
        "colab": {
          "base_uri": "https://localhost:8080/"
        }
      },
      "outputs": [
        {
          "output_type": "execute_result",
          "data": {
            "text/plain": [
              "array([[0],\n",
              "       [1],\n",
              "       [2],\n",
              "       [3],\n",
              "       [4]])"
            ]
          },
          "metadata": {},
          "execution_count": 136
        }
      ],
      "source": [
        "m2r.T"
      ]
    },
    {
      "cell_type": "markdown",
      "metadata": {
        "id": "FbeP3ZwAHFLd"
      },
      "source": [
        "## 행렬 곱셈\n",
        "\n",
        "두 개의 행렬을 만들어 `dot` 메서드로 행렬 [곱셈](https://ko.wikipedia.org/wiki/%ED%96%89%EB%A0%AC_%EA%B3%B1%EC%85%88)을 실행해 보죠."
      ]
    },
    {
      "cell_type": "code",
      "execution_count": 137,
      "metadata": {
        "id": "TO79vt0vHFLe",
        "outputId": "8b0d722b-45d2-4c88-831a-648c8e031f3f",
        "colab": {
          "base_uri": "https://localhost:8080/"
        }
      },
      "outputs": [
        {
          "output_type": "execute_result",
          "data": {
            "text/plain": [
              "array([[0, 1, 2, 3, 4],\n",
              "       [5, 6, 7, 8, 9]])"
            ]
          },
          "metadata": {},
          "execution_count": 137
        }
      ],
      "source": [
        "n1 = np.arange(10).reshape(2, 5)\n",
        "n1"
      ]
    },
    {
      "cell_type": "code",
      "execution_count": 138,
      "metadata": {
        "id": "etpDHuR6HFLe",
        "outputId": "3478bdd6-e82b-4e74-e4da-541a234944da",
        "colab": {
          "base_uri": "https://localhost:8080/"
        }
      },
      "outputs": [
        {
          "output_type": "execute_result",
          "data": {
            "text/plain": [
              "array([[ 0,  1,  2],\n",
              "       [ 3,  4,  5],\n",
              "       [ 6,  7,  8],\n",
              "       [ 9, 10, 11],\n",
              "       [12, 13, 14]])"
            ]
          },
          "metadata": {},
          "execution_count": 138
        }
      ],
      "source": [
        "n2 = np.arange(15).reshape(5,3)\n",
        "n2"
      ]
    },
    {
      "cell_type": "code",
      "execution_count": 139,
      "metadata": {
        "id": "miA759yRHFLe",
        "outputId": "924d1a84-f143-4bab-ad91-cd2ed92f616a",
        "colab": {
          "base_uri": "https://localhost:8080/"
        }
      },
      "outputs": [
        {
          "output_type": "execute_result",
          "data": {
            "text/plain": [
              "array([[ 90, 100, 110],\n",
              "       [240, 275, 310]])"
            ]
          },
          "metadata": {},
          "execution_count": 139
        }
      ],
      "source": [
        "n1.dot(n2)"
      ]
    },
    {
      "cell_type": "markdown",
      "metadata": {
        "id": "MgtLlRWWHFLf"
      },
      "source": [
        "**주의**: 앞서 언급한 것처럼 `n1*n2`는 행렬 곱셈이 아니라 원소별 곱셈(또는 [아다마르 곱](https://ko.wikipedia.org/wiki/%EC%95%84%EB%8B%A4%EB%A7%88%EB%A5%B4_%EA%B3%B1)이라 부릅니다)입니다."
      ]
    },
    {
      "cell_type": "markdown",
      "metadata": {
        "id": "Txj0FN5BHFLg"
      },
      "source": [
        "## 역행렬과 유사 역행렬\n",
        "\n",
        "`numpy.linalg` 모듈 안에 많은 선형 대수 함수들이 있습니다. 특히 `inv` 함수는 정방 행렬의 역행렬을 계산합니다:"
      ]
    },
    {
      "cell_type": "code",
      "execution_count": 140,
      "metadata": {
        "id": "Ae--mqYhHFLg",
        "outputId": "226745bd-1c83-4757-f4ff-2252d2d1ea31",
        "colab": {
          "base_uri": "https://localhost:8080/"
        }
      },
      "outputs": [
        {
          "output_type": "execute_result",
          "data": {
            "text/plain": [
              "array([[ 1,  2,  3],\n",
              "       [ 5,  7, 11],\n",
              "       [21, 29, 31]])"
            ]
          },
          "metadata": {},
          "execution_count": 140
        }
      ],
      "source": [
        "import numpy.linalg as linalg\n",
        "\n",
        "m3 = np.array([[1,2,3],[5,7,11],[21,29,31]])\n",
        "m3"
      ]
    },
    {
      "cell_type": "code",
      "execution_count": 141,
      "metadata": {
        "id": "qR9xtDfCHFLh",
        "outputId": "f3b3a760-97a4-4ad8-9021-6622836a4656",
        "colab": {
          "base_uri": "https://localhost:8080/"
        }
      },
      "outputs": [
        {
          "output_type": "execute_result",
          "data": {
            "text/plain": [
              "array([[-2.31818182,  0.56818182,  0.02272727],\n",
              "       [ 1.72727273, -0.72727273,  0.09090909],\n",
              "       [-0.04545455,  0.29545455, -0.06818182]])"
            ]
          },
          "metadata": {},
          "execution_count": 141
        }
      ],
      "source": [
        "linalg.inv(m3)"
      ]
    },
    {
      "cell_type": "markdown",
      "metadata": {
        "id": "GSA7DfqiHFLh"
      },
      "source": [
        "`pinv` 함수를 사용하여 [유사 역행렬](https://en.wikipedia.org/wiki/Moore%E2%80%93Penrose_pseudoinverse)을 계산할 수도 있습니다:"
      ]
    },
    {
      "cell_type": "code",
      "execution_count": 142,
      "metadata": {
        "id": "Pd844CjoHFLi",
        "outputId": "ae4b3e6b-b3f6-496b-a4e9-b94b6920c52f",
        "colab": {
          "base_uri": "https://localhost:8080/"
        }
      },
      "outputs": [
        {
          "output_type": "execute_result",
          "data": {
            "text/plain": [
              "array([[-2.31818182,  0.56818182,  0.02272727],\n",
              "       [ 1.72727273, -0.72727273,  0.09090909],\n",
              "       [-0.04545455,  0.29545455, -0.06818182]])"
            ]
          },
          "metadata": {},
          "execution_count": 142
        }
      ],
      "source": [
        "linalg.pinv(m3)"
      ]
    },
    {
      "cell_type": "markdown",
      "metadata": {
        "id": "Z6C4nbcAHFLi"
      },
      "source": [
        "## 단위 행렬\n",
        "\n",
        "행렬과 그 행렬의 역행렬을 곱하면 단위 행렬이 됩니다(작은 소숫점 오차가 있습니다):"
      ]
    },
    {
      "cell_type": "code",
      "execution_count": 143,
      "metadata": {
        "id": "3Una32L1HFLj",
        "outputId": "52a34f2a-1b9e-46a1-cb16-f9e95f68c073",
        "colab": {
          "base_uri": "https://localhost:8080/"
        }
      },
      "outputs": [
        {
          "output_type": "execute_result",
          "data": {
            "text/plain": [
              "array([[ 1.00000000e+00, -1.66533454e-16,  0.00000000e+00],\n",
              "       [ 6.31439345e-16,  1.00000000e+00, -1.38777878e-16],\n",
              "       [ 5.21110932e-15, -2.38697950e-15,  1.00000000e+00]])"
            ]
          },
          "metadata": {},
          "execution_count": 143
        }
      ],
      "source": [
        "m3.dot(linalg.inv(m3))"
      ]
    },
    {
      "cell_type": "markdown",
      "metadata": {
        "id": "lPUjGo_BHFLj"
      },
      "source": [
        "`eye` 함수는 NxN 크기의 단위 행렬을 만듭니다:"
      ]
    },
    {
      "cell_type": "code",
      "execution_count": 144,
      "metadata": {
        "id": "TIovqOlWHFLj",
        "outputId": "ecf5863e-cb99-4fac-c7ad-e0b61751edd8",
        "colab": {
          "base_uri": "https://localhost:8080/"
        }
      },
      "outputs": [
        {
          "output_type": "execute_result",
          "data": {
            "text/plain": [
              "array([[1., 0., 0.],\n",
              "       [0., 1., 0.],\n",
              "       [0., 0., 1.]])"
            ]
          },
          "metadata": {},
          "execution_count": 144
        }
      ],
      "source": [
        "np.eye(3)"
      ]
    },
    {
      "cell_type": "markdown",
      "metadata": {
        "id": "UKQtkgirHFLk"
      },
      "source": [
        "## QR 분해\n",
        "\n",
        "`qr` 함수는 행렬을 [QR 분해](https://en.wikipedia.org/wiki/QR_decomposition)합니다:"
      ]
    },
    {
      "cell_type": "code",
      "execution_count": 145,
      "metadata": {
        "id": "0VYwACcqHFLk",
        "outputId": "1bcaba4a-bcb4-4107-aa17-5d4a605285be",
        "colab": {
          "base_uri": "https://localhost:8080/"
        }
      },
      "outputs": [
        {
          "output_type": "execute_result",
          "data": {
            "text/plain": [
              "array([[-0.04627448,  0.98786672,  0.14824986],\n",
              "       [-0.23137241,  0.13377362, -0.96362411],\n",
              "       [-0.97176411, -0.07889213,  0.22237479]])"
            ]
          },
          "metadata": {},
          "execution_count": 145
        }
      ],
      "source": [
        "q, r = linalg.qr(m3)\n",
        "q"
      ]
    },
    {
      "cell_type": "code",
      "execution_count": 146,
      "metadata": {
        "id": "4eDMf9Y6HFLk",
        "outputId": "4d7b358f-9d12-4c4b-956b-ee83fab4f799",
        "colab": {
          "base_uri": "https://localhost:8080/"
        }
      },
      "outputs": [
        {
          "output_type": "execute_result",
          "data": {
            "text/plain": [
              "array([[-21.61018278, -29.89331494, -32.80860727],\n",
              "       [  0.        ,   0.62427688,   1.9894538 ],\n",
              "       [  0.        ,   0.        ,  -3.26149699]])"
            ]
          },
          "metadata": {},
          "execution_count": 146
        }
      ],
      "source": [
        "r"
      ]
    },
    {
      "cell_type": "code",
      "execution_count": 147,
      "metadata": {
        "id": "PaDihlGWHFLl",
        "outputId": "80a4cc2e-4a42-4512-919f-d96d56ed2264",
        "colab": {
          "base_uri": "https://localhost:8080/"
        }
      },
      "outputs": [
        {
          "output_type": "execute_result",
          "data": {
            "text/plain": [
              "array([[ 1.,  2.,  3.],\n",
              "       [ 5.,  7., 11.],\n",
              "       [21., 29., 31.]])"
            ]
          },
          "metadata": {},
          "execution_count": 147
        }
      ],
      "source": [
        "q.dot(r)  # q.r는 m3와 같습니다"
      ]
    },
    {
      "cell_type": "markdown",
      "metadata": {
        "id": "sA2BAOP4HFLn"
      },
      "source": [
        "## 행렬식\n",
        "\n",
        "`det` 함수는 [행렬식](https://en.wikipedia.org/wiki/Determinant)을 계산합니다:"
      ]
    },
    {
      "cell_type": "code",
      "execution_count": 148,
      "metadata": {
        "id": "MYxhwht2HFLo",
        "outputId": "d5b26b86-c4bd-4a6b-864e-336a2b916838",
        "colab": {
          "base_uri": "https://localhost:8080/"
        }
      },
      "outputs": [
        {
          "output_type": "execute_result",
          "data": {
            "text/plain": [
              "43.99999999999997"
            ]
          },
          "metadata": {},
          "execution_count": 148
        }
      ],
      "source": [
        "linalg.det(m3)  # 행렬식 계산"
      ]
    },
    {
      "cell_type": "markdown",
      "metadata": {
        "id": "mPVCPn3PHFLo"
      },
      "source": [
        "## 고윳값과 고유벡터\n",
        "\n",
        "`eig` 함수는 정방 행렬의 [고윳값과 고유벡터](https://en.wikipedia.org/wiki/Eigenvalues_and_eigenvectors)를 계산합니다:"
      ]
    },
    {
      "cell_type": "code",
      "execution_count": 149,
      "metadata": {
        "id": "0V0xy8EjHFLp",
        "outputId": "f534d896-90f9-4c04-841f-69a727a309dc",
        "colab": {
          "base_uri": "https://localhost:8080/"
        }
      },
      "outputs": [
        {
          "output_type": "execute_result",
          "data": {
            "text/plain": [
              "array([42.26600592, -0.35798416, -2.90802176])"
            ]
          },
          "metadata": {},
          "execution_count": 149
        }
      ],
      "source": [
        "eigenvalues, eigenvectors = linalg.eig(m3)\n",
        "eigenvalues # λ"
      ]
    },
    {
      "cell_type": "code",
      "execution_count": 150,
      "metadata": {
        "id": "1SEhhnt5HFLq",
        "outputId": "ec983f03-ef6a-4210-bc09-62a783b5b80f",
        "colab": {
          "base_uri": "https://localhost:8080/"
        }
      },
      "outputs": [
        {
          "output_type": "execute_result",
          "data": {
            "text/plain": [
              "array([[-0.08381182, -0.76283526, -0.18913107],\n",
              "       [-0.3075286 ,  0.64133975, -0.6853186 ],\n",
              "       [-0.94784057, -0.08225377,  0.70325518]])"
            ]
          },
          "metadata": {},
          "execution_count": 150
        }
      ],
      "source": [
        "eigenvectors # v"
      ]
    },
    {
      "cell_type": "code",
      "execution_count": 151,
      "metadata": {
        "id": "1K9e3YCbHFLq",
        "outputId": "be68c6c9-9e0e-45a9-8748-29aeacdff037",
        "colab": {
          "base_uri": "https://localhost:8080/"
        }
      },
      "outputs": [
        {
          "output_type": "execute_result",
          "data": {
            "text/plain": [
              "array([[ 6.21724894e-15,  1.66533454e-15, -3.10862447e-15],\n",
              "       [ 3.55271368e-15,  5.30131494e-15, -5.32907052e-15],\n",
              "       [ 3.55271368e-14,  5.38458167e-15, -9.76996262e-15]])"
            ]
          },
          "metadata": {},
          "execution_count": 151
        }
      ],
      "source": [
        "m3.dot(eigenvectors) - eigenvalues * eigenvectors  # m3.v - λ*v = 0"
      ]
    },
    {
      "cell_type": "markdown",
      "metadata": {
        "id": "nK5ZE5qlHFLr"
      },
      "source": [
        "## 특잇값 분해\n",
        "\n",
        "`svd` 함수는 행렬을 입력으로 받아 그 행렬의 [특잇값 분해](https://en.wikipedia.org/wiki/Singular_value_decomposition)를 반환합니다:"
      ]
    },
    {
      "cell_type": "code",
      "execution_count": 152,
      "metadata": {
        "id": "bcmgSLphHFLr",
        "outputId": "dc4ed379-240c-420c-b248-14d6825a02cc",
        "colab": {
          "base_uri": "https://localhost:8080/"
        }
      },
      "outputs": [
        {
          "output_type": "execute_result",
          "data": {
            "text/plain": [
              "array([[1, 0, 0, 0, 2],\n",
              "       [0, 0, 3, 0, 0],\n",
              "       [0, 0, 0, 0, 0],\n",
              "       [0, 2, 0, 0, 0]])"
            ]
          },
          "metadata": {},
          "execution_count": 152
        }
      ],
      "source": [
        "m4 = np.array([[1,0,0,0,2], [0,0,3,0,0], [0,0,0,0,0], [0,2,0,0,0]])\n",
        "m4"
      ]
    },
    {
      "cell_type": "code",
      "execution_count": 153,
      "metadata": {
        "id": "Uk_HinyLHFLr",
        "outputId": "ecdb81a1-7630-468d-c714-720b85dc1561",
        "colab": {
          "base_uri": "https://localhost:8080/"
        }
      },
      "outputs": [
        {
          "output_type": "execute_result",
          "data": {
            "text/plain": [
              "array([[ 0.,  1.,  0.,  0.],\n",
              "       [ 1.,  0.,  0.,  0.],\n",
              "       [ 0.,  0.,  0., -1.],\n",
              "       [ 0.,  0.,  1.,  0.]])"
            ]
          },
          "metadata": {},
          "execution_count": 153
        }
      ],
      "source": [
        "U, S_diag, V = linalg.svd(m4)\n",
        "U"
      ]
    },
    {
      "cell_type": "code",
      "execution_count": 154,
      "metadata": {
        "id": "D4qBrY_nHFLs",
        "outputId": "abde7425-3d18-4f61-9c2d-519f2b645cf5",
        "colab": {
          "base_uri": "https://localhost:8080/"
        }
      },
      "outputs": [
        {
          "output_type": "execute_result",
          "data": {
            "text/plain": [
              "array([3.        , 2.23606798, 2.        , 0.        ])"
            ]
          },
          "metadata": {},
          "execution_count": 154
        }
      ],
      "source": [
        "S_diag"
      ]
    },
    {
      "cell_type": "markdown",
      "metadata": {
        "id": "yNOL101bHFLs"
      },
      "source": [
        "`svd` 함수는 Σ의 대각 원소 값만 반환합니다. 전체 Σ 행렬은 다음과 같이 만듭니다:"
      ]
    },
    {
      "cell_type": "code",
      "execution_count": 155,
      "metadata": {
        "id": "E_wR2N2cHFLs",
        "outputId": "56fcf249-6e07-4bde-99cc-ebe6742920aa",
        "colab": {
          "base_uri": "https://localhost:8080/"
        }
      },
      "outputs": [
        {
          "output_type": "execute_result",
          "data": {
            "text/plain": [
              "array([[3.        , 0.        , 0.        , 0.        , 0.        ],\n",
              "       [0.        , 2.23606798, 0.        , 0.        , 0.        ],\n",
              "       [0.        , 0.        , 2.        , 0.        , 0.        ],\n",
              "       [0.        , 0.        , 0.        , 0.        , 0.        ]])"
            ]
          },
          "metadata": {},
          "execution_count": 155
        }
      ],
      "source": [
        "S = np.zeros((4, 5))\n",
        "S[np.diag_indices(4)] = S_diag\n",
        "S  # Σ"
      ]
    },
    {
      "cell_type": "code",
      "execution_count": 156,
      "metadata": {
        "id": "UfcEGvy2HFLs",
        "outputId": "6b3d714a-a9ca-49c7-c41e-bf53ac814697",
        "colab": {
          "base_uri": "https://localhost:8080/"
        }
      },
      "outputs": [
        {
          "output_type": "execute_result",
          "data": {
            "text/plain": [
              "array([[-0.        ,  0.        ,  1.        , -0.        ,  0.        ],\n",
              "       [ 0.4472136 ,  0.        ,  0.        ,  0.        ,  0.89442719],\n",
              "       [-0.        ,  1.        ,  0.        , -0.        ,  0.        ],\n",
              "       [ 0.        ,  0.        ,  0.        ,  1.        ,  0.        ],\n",
              "       [-0.89442719,  0.        ,  0.        ,  0.        ,  0.4472136 ]])"
            ]
          },
          "metadata": {},
          "execution_count": 156
        }
      ],
      "source": [
        "V"
      ]
    },
    {
      "cell_type": "code",
      "execution_count": 157,
      "metadata": {
        "id": "SwPFywD4HFLt",
        "outputId": "8f0b062b-076d-40fd-885e-a39430ff1b80",
        "colab": {
          "base_uri": "https://localhost:8080/"
        }
      },
      "outputs": [
        {
          "output_type": "execute_result",
          "data": {
            "text/plain": [
              "array([[1., 0., 0., 0., 2.],\n",
              "       [0., 0., 3., 0., 0.],\n",
              "       [0., 0., 0., 0., 0.],\n",
              "       [0., 2., 0., 0., 0.]])"
            ]
          },
          "metadata": {},
          "execution_count": 157
        }
      ],
      "source": [
        "U.dot(S).dot(V) # U.Σ.V == m4"
      ]
    },
    {
      "cell_type": "markdown",
      "metadata": {
        "id": "ExgMl2-AHFLt"
      },
      "source": [
        "## 대각원소와 대각합"
      ]
    },
    {
      "cell_type": "code",
      "execution_count": 158,
      "metadata": {
        "id": "uA9vGMl8HFLt",
        "outputId": "37fce10f-690b-48a7-eb7f-17619e3ec3ef",
        "colab": {
          "base_uri": "https://localhost:8080/"
        }
      },
      "outputs": [
        {
          "output_type": "execute_result",
          "data": {
            "text/plain": [
              "array([ 1,  7, 31])"
            ]
          },
          "metadata": {},
          "execution_count": 158
        }
      ],
      "source": [
        "np.diag(m3)  # m3의 대각 원소입니다(왼쪽 위에서 오른쪽 아래)"
      ]
    },
    {
      "cell_type": "code",
      "execution_count": 159,
      "metadata": {
        "id": "8rMG9SOBHFLu",
        "outputId": "de66bc46-6f92-4710-cf77-6d17e895c4ea",
        "colab": {
          "base_uri": "https://localhost:8080/"
        }
      },
      "outputs": [
        {
          "output_type": "execute_result",
          "data": {
            "text/plain": [
              "39"
            ]
          },
          "metadata": {},
          "execution_count": 159
        }
      ],
      "source": [
        "np.trace(m3)  # np.diag(m3).sum()와 같습니다"
      ]
    },
    {
      "cell_type": "markdown",
      "metadata": {
        "id": "Ak1OkWT6HFLu"
      },
      "source": [
        "## 선형  방정식 풀기"
      ]
    },
    {
      "cell_type": "markdown",
      "metadata": {
        "id": "DZxUQ7MIHFLu"
      },
      "source": [
        "`solve` 함수는 다음과 같은 선형 방정식을 풉니다:\n",
        "\n",
        "* $2x + 6y = 6$\n",
        "* $5x + 3y = -9$"
      ]
    },
    {
      "cell_type": "code",
      "execution_count": 160,
      "metadata": {
        "id": "749UQWF-HFLu",
        "outputId": "72b75dc6-e4ec-4ae5-b312-800ecd3cef7c",
        "colab": {
          "base_uri": "https://localhost:8080/"
        }
      },
      "outputs": [
        {
          "output_type": "execute_result",
          "data": {
            "text/plain": [
              "array([-3.,  2.])"
            ]
          },
          "metadata": {},
          "execution_count": 160
        }
      ],
      "source": [
        "coeffs  = np.array([[2, 6], [5, 3]])\n",
        "depvars = np.array([6, -9])\n",
        "solution = linalg.solve(coeffs, depvars)\n",
        "solution"
      ]
    },
    {
      "cell_type": "markdown",
      "metadata": {
        "id": "yKv2KVqXHFLv"
      },
      "source": [
        "solution을 확인해 보죠:"
      ]
    },
    {
      "cell_type": "code",
      "execution_count": 161,
      "metadata": {
        "id": "ZF22MIamHFLv",
        "outputId": "118c9a8b-724b-4d24-f990-1d06999326d5",
        "colab": {
          "base_uri": "https://localhost:8080/"
        }
      },
      "outputs": [
        {
          "output_type": "execute_result",
          "data": {
            "text/plain": [
              "(array([ 6., -9.]), array([ 6, -9]))"
            ]
          },
          "metadata": {},
          "execution_count": 161
        }
      ],
      "source": [
        "coeffs.dot(solution), depvars  # 네 같네요"
      ]
    },
    {
      "cell_type": "markdown",
      "metadata": {
        "id": "-ICTcGg-HFLv"
      },
      "source": [
        "좋습니다! 다른 방식으로도 solution을 확인해 보죠:"
      ]
    },
    {
      "cell_type": "code",
      "execution_count": 162,
      "metadata": {
        "scrolled": true,
        "id": "4CeoNUHxHFLw",
        "outputId": "1b193364-ab14-4acd-83ae-764ed430f017",
        "colab": {
          "base_uri": "https://localhost:8080/"
        }
      },
      "outputs": [
        {
          "output_type": "execute_result",
          "data": {
            "text/plain": [
              "True"
            ]
          },
          "metadata": {},
          "execution_count": 162
        }
      ],
      "source": [
        "np.allclose(coeffs.dot(solution), depvars)"
      ]
    },
    {
      "cell_type": "markdown",
      "metadata": {
        "id": "zwK5wFdEHFLw"
      },
      "source": [
        "# 벡터화\n",
        "\n",
        "한 번에 하나씩 개별 배열 원소에 대해 연산을 실행하는 대신 배열 연산을 사용하면 훨씬 효율적인 코드를 만들 수 있습니다. 이를 벡터화라고 합니다. 이를 사용하여 넘파이의 최적화된 성능을 활용할 수 있습니다.\n",
        "\n",
        "예를 들어, $sin(xy/40.5)$ 식을 기반으로 768x1024 크기 배열을 생성하려고 합니다. 중첩 반복문 안에 파이썬의 math 함수를 사용하는 것은 **나쁜** 방법입니다:"
      ]
    },
    {
      "cell_type": "code",
      "execution_count": 163,
      "metadata": {
        "id": "1ElB90w2HFLw"
      },
      "outputs": [],
      "source": [
        "import math\n",
        "data = np.empty((768, 1024))\n",
        "for y in range(768):\n",
        "    for x in range(1024):\n",
        "        data[y, x] = math.sin(x*y/40.5)  # 매우 비효율적입니다!"
      ]
    },
    {
      "cell_type": "markdown",
      "metadata": {
        "id": "ov5Qb7_IHFLw"
      },
      "source": [
        "작동은 하지만 순수한 파이썬 코드로 반복문이 진행되기 때문에 아주 비효율적입니다. 이 알고리즘을 벡터화해 보죠. 먼저 넘파이 `meshgrid` 함수로 좌표 벡터를 사용해 행렬을 만듭니다."
      ]
    },
    {
      "cell_type": "code",
      "execution_count": 164,
      "metadata": {
        "id": "osqWDxRNHFLx",
        "outputId": "71e64ec9-43c8-43f7-f746-48d08ad33b12",
        "colab": {
          "base_uri": "https://localhost:8080/"
        }
      },
      "outputs": [
        {
          "output_type": "execute_result",
          "data": {
            "text/plain": [
              "array([[   0,    1,    2, ..., 1021, 1022, 1023],\n",
              "       [   0,    1,    2, ..., 1021, 1022, 1023],\n",
              "       [   0,    1,    2, ..., 1021, 1022, 1023],\n",
              "       ...,\n",
              "       [   0,    1,    2, ..., 1021, 1022, 1023],\n",
              "       [   0,    1,    2, ..., 1021, 1022, 1023],\n",
              "       [   0,    1,    2, ..., 1021, 1022, 1023]])"
            ]
          },
          "metadata": {},
          "execution_count": 164
        }
      ],
      "source": [
        "x_coords = np.arange(0, 1024)  # [0, 1, 2, ..., 1023]\n",
        "y_coords = np.arange(0, 768)   # [0, 1, 2, ..., 767]\n",
        "X, Y = np.meshgrid(x_coords, y_coords)\n",
        "X"
      ]
    },
    {
      "cell_type": "code",
      "execution_count": 165,
      "metadata": {
        "id": "Fdt1cs3EHFLx",
        "outputId": "93800939-93ea-4ede-b5fe-b68603dccb37",
        "colab": {
          "base_uri": "https://localhost:8080/"
        }
      },
      "outputs": [
        {
          "output_type": "execute_result",
          "data": {
            "text/plain": [
              "array([[  0,   0,   0, ...,   0,   0,   0],\n",
              "       [  1,   1,   1, ...,   1,   1,   1],\n",
              "       [  2,   2,   2, ...,   2,   2,   2],\n",
              "       ...,\n",
              "       [765, 765, 765, ..., 765, 765, 765],\n",
              "       [766, 766, 766, ..., 766, 766, 766],\n",
              "       [767, 767, 767, ..., 767, 767, 767]])"
            ]
          },
          "metadata": {},
          "execution_count": 165
        }
      ],
      "source": [
        "Y"
      ]
    },
    {
      "cell_type": "markdown",
      "metadata": {
        "id": "nxm1NLOoHFLx"
      },
      "source": [
        "여기서 볼 수 있듯이 `X`와 `Y` 모두 768x1024 배열입니다. `X`에 있는 모든 값은 수평 좌표에 해당합니다. `Y`에 있는 모든 값은 수직 좌표에 해당합니다.\n",
        "\n",
        "이제 간단히 배열 연산을 사용해 계산할 수 있습니다:"
      ]
    },
    {
      "cell_type": "code",
      "execution_count": 166,
      "metadata": {
        "id": "YR2oDbInHFLy"
      },
      "outputs": [],
      "source": [
        "data = np.sin(X*Y/40.5)"
      ]
    },
    {
      "cell_type": "markdown",
      "metadata": {
        "id": "gFFcW_JQHFLy"
      },
      "source": [
        "맷플롯립의 `imshow` 함수를 사용해 이 데이터를 그려보죠([matplotlib tutorial](tools_matplotlib.ipynb)을 참조하세요)."
      ]
    },
    {
      "cell_type": "code",
      "execution_count": 167,
      "metadata": {
        "id": "nzF7ImRjHFLz",
        "outputId": "e3eb37e8-8ff4-4783-8632-c7433d20122b",
        "colab": {
          "base_uri": "https://localhost:8080/",
          "height": 472
        }
      },
      "outputs": [
        {
          "output_type": "display_data",
          "data": {
            "text/plain": [
              "<Figure size 700x600 with 1 Axes>"
            ],
            "image/png": "[encoded data removed]"
          },
          "metadata": {}
        }
      ],
      "source": [
        "import matplotlib.pyplot as plt\n",
        "import matplotlib.cm as cm\n",
        "fig = plt.figure(1, figsize=(7, 6))\n",
        "plt.imshow(data, cmap=cm.hot)\n",
        "plt.show()"
      ]
    },
    {
      "cell_type": "markdown",
      "metadata": {
        "id": "7SWzgbz-HFLz"
      },
      "source": [
        "# 저장과 로딩\n",
        "\n",
        "넘파이는 `ndarray`를 바이너리 또는 텍스트 포맷으로 손쉽게 저장하고 로드할 수 있습니다.\n",
        "\n",
        "## 바이너리 `.npy` 포맷\n",
        "\n",
        "랜덤 배열을 만들고 저장해 보죠."
      ]
    },
    {
      "cell_type": "code",
      "execution_count": 168,
      "metadata": {
        "scrolled": true,
        "id": "6JdTfWCIHFLz",
        "outputId": "77fe7f67-9d13-45d2-90ad-9283280ffe2c",
        "colab": {
          "base_uri": "https://localhost:8080/"
        }
      },
      "outputs": [
        {
          "output_type": "execute_result",
          "data": {
            "text/plain": [
              "array([[0.47043816, 0.28887412, 0.4449489 ],\n",
              "       [0.64995475, 0.68440216, 0.32099875]])"
            ]
          },
          "metadata": {},
          "execution_count": 168
        }
      ],
      "source": [
        "a = np.random.rand(2,3)\n",
        "a"
      ]
    },
    {
      "cell_type": "code",
      "execution_count": 169,
      "metadata": {
        "id": "ohw5C1oJHFL0"
      },
      "outputs": [],
      "source": [
        "np.save(\"my_array\", a)"
      ]
    },
    {
      "cell_type": "markdown",
      "metadata": {
        "id": "RPG5NauCHFL0"
      },
      "source": [
        "끝입니다! 파일 이름의 확장자를 지정하지 않았기 때문에 넘파이는 자동으로 `.npy`를 붙입니다. 파일 내용을 확인해 보겠습니다:"
      ]
    },
    {
      "cell_type": "code",
      "execution_count": 170,
      "metadata": {
        "id": "qRAWDvPmHFL0",
        "outputId": "3d71374a-46bb-48ac-fccd-d24cd03664bf",
        "colab": {
          "base_uri": "https://localhost:8080/"
        }
      },
      "outputs": [
        {
          "output_type": "execute_result",
          "data": {
            "text/plain": [
              "b\"\\x93NUMPY\\x01\\x00v\\x00{'descr': '<f8', 'fortran_order': False, 'shape': (2, 3), }                                                          \\n\\xe6z\\xa4\\xa9\\xa8\\x1b\\xde?V\\xb6\\x0c\\xde\\xe9|\\xd2?j\\xd1 \\xf0\\nz\\xdc?\\xb7\\xbc\\x0b\\xeam\\xcc\\xe4?\\x0e*\\x9f[\\x9f\\xe6\\xe5?\\x9e\\xd4\\xf3U>\\x8b\\xd4?\""
            ]
          },
          "metadata": {},
          "execution_count": 170
        }
      ],
      "source": [
        "with open(\"my_array.npy\", \"rb\") as f:\n",
        "    content = f.read()\n",
        "\n",
        "content"
      ]
    },
    {
      "cell_type": "markdown",
      "metadata": {
        "id": "RLkoJdugHFL1"
      },
      "source": [
        "이 파일을 넘파이 배열로 로드하려면 `load` 함수를 사용합니다:"
      ]
    },
    {
      "cell_type": "code",
      "execution_count": 171,
      "metadata": {
        "id": "tr8FjJAfHFL1",
        "outputId": "e683f705-e09b-4c14-ac11-97b3e46b04d5",
        "colab": {
          "base_uri": "https://localhost:8080/"
        }
      },
      "outputs": [
        {
          "output_type": "execute_result",
          "data": {
            "text/plain": [
              "array([[0.47043816, 0.28887412, 0.4449489 ],\n",
              "       [0.64995475, 0.68440216, 0.32099875]])"
            ]
          },
          "metadata": {},
          "execution_count": 171
        }
      ],
      "source": [
        "a_loaded = np.load(\"my_array.npy\")\n",
        "a_loaded"
      ]
    },
    {
      "cell_type": "markdown",
      "metadata": {
        "id": "mA2h42L4HFL2"
      },
      "source": [
        "## 텍스트 포맷\n",
        "\n",
        "배열을 텍스트 포맷으로 저장해 보죠:"
      ]
    },
    {
      "cell_type": "code",
      "execution_count": 172,
      "metadata": {
        "id": "97acRJL3HFL2"
      },
      "outputs": [],
      "source": [
        "np.savetxt(\"my_array.csv\", a)"
      ]
    },
    {
      "cell_type": "markdown",
      "metadata": {
        "id": "_nTrcCVCHFL3"
      },
      "source": [
        "파일 내용을 확인해 보겠습니다:"
      ]
    },
    {
      "cell_type": "code",
      "execution_count": 173,
      "metadata": {
        "id": "zoOCnJOkHFL3",
        "outputId": "cd3ffd35-31e5-46bd-d8cb-ab480e079ec1",
        "colab": {
          "base_uri": "https://localhost:8080/"
        }
      },
      "outputs": [
        {
          "output_type": "stream",
          "name": "stdout",
          "text": [
            "4.704381615319291887e-01 2.888741177037891239e-01 4.449488968851001980e-01\n",
            "6.499547549446081929e-01 6.844021596419354037e-01 3.209987487201234613e-01\n",
            "\n"
          ]
        }
      ],
      "source": [
        "with open(\"my_array.csv\", \"rt\") as f:\n",
        "    print(f.read())"
      ]
    },
    {
      "cell_type": "markdown",
      "metadata": {
        "id": "R2WGoij2HFL4"
      },
      "source": [
        "이 파일은 탭으로 구분된 CSV 파일입니다. 다른 구분자를 지정할 수도 있습니다:"
      ]
    },
    {
      "cell_type": "code",
      "execution_count": 174,
      "metadata": {
        "id": "wwasGrUSHFMB"
      },
      "outputs": [],
      "source": [
        "np.savetxt(\"my_array.csv\", a, delimiter=\",\")"
      ]
    },
    {
      "cell_type": "markdown",
      "metadata": {
        "id": "xdZo2NhVHFMB"
      },
      "source": [
        "이 파일을 로드하려면 `loadtxt` 함수를 사용합니다:"
      ]
    },
    {
      "cell_type": "code",
      "execution_count": 175,
      "metadata": {
        "id": "XgsJiz5YHFMB",
        "outputId": "5e5a66c1-b6a4-4384-f0a7-f465c14c2e80",
        "colab": {
          "base_uri": "https://localhost:8080/"
        }
      },
      "outputs": [
        {
          "output_type": "execute_result",
          "data": {
            "text/plain": [
              "array([[0.47043816, 0.28887412, 0.4449489 ],\n",
              "       [0.64995475, 0.68440216, 0.32099875]])"
            ]
          },
          "metadata": {},
          "execution_count": 175
        }
      ],
      "source": [
        "a_loaded = np.loadtxt(\"my_array.csv\", delimiter=\",\")\n",
        "a_loaded"
      ]
    },
    {
      "cell_type": "markdown",
      "metadata": {
        "id": "7Itn9KVCHFMC"
      },
      "source": [
        "## 압축된 `.npz` 포맷\n",
        "\n",
        "여러 개의 배열을 압축된 한 파일로 저장하는 것도 가능합니다:"
      ]
    },
    {
      "cell_type": "code",
      "execution_count": 176,
      "metadata": {
        "id": "J784_G74HFMC",
        "outputId": "0bb7ad10-2b35-4303-8025-f3b4cbfbe316",
        "colab": {
          "base_uri": "https://localhost:8080/"
        }
      },
      "outputs": [
        {
          "output_type": "execute_result",
          "data": {
            "text/plain": [
              "array([[[ 0,  1,  2,  3],\n",
              "        [ 4,  5,  6,  7],\n",
              "        [ 8,  9, 10, 11]],\n",
              "\n",
              "       [[12, 13, 14, 15],\n",
              "        [16, 17, 18, 19],\n",
              "        [20, 21, 22, 23]]], dtype=uint8)"
            ]
          },
          "metadata": {},
          "execution_count": 176
        }
      ],
      "source": [
        "b = np.arange(24, dtype=np.uint8).reshape(2, 3, 4)\n",
        "b"
      ]
    },
    {
      "cell_type": "code",
      "execution_count": 177,
      "metadata": {
        "id": "KLsMlALzHFMC"
      },
      "outputs": [],
      "source": [
        "np.savez(\"my_arrays\", my_a=a, my_b=b)"
      ]
    },
    {
      "cell_type": "markdown",
      "metadata": {
        "id": "x1GP74OZHFMC"
      },
      "source": [
        "파일 내용을 확인해 보죠. `.npz` 파일 확장자가 자동으로 추가되었습니다."
      ]
    },
    {
      "cell_type": "code",
      "execution_count": 178,
      "metadata": {
        "id": "uUU8XRC9HFMH",
        "outputId": "f3659691-7274-4084-dbe2-e3944eccc162",
        "colab": {
          "base_uri": "https://localhost:8080/",
          "height": 53
        }
      },
      "outputs": [
        {
          "output_type": "execute_result",
          "data": {
            "text/plain": [
              "'b\"PK\\\\x03\\\\x04\\\\x14\\\\x00\\\\x00\\\\x00\\\\x00\\\\x00\\\\x00\\\\x00!\\\\x00\\\\xb53/\\\\xd9\\\\xb0\\\\x00\\\\x00\\\\x00\\\\xb0\\\\x00\\\\x00\\\\x00\\\\x08\\\\x00\\\\x14\\\\x00my_a.npy\\\\x01\\\\x00\\\\x10\\\\x00\\\\xb0\\\\x00\\\\x00\\\\x00\\\\x00\\\\x00\\\\x00\\\\x00\\\\xb0\\\\x00\\\\x00\\\\x00\\\\[...]'"
            ],
            "application/vnd.google.colaboratory.intrinsic+json": {
              "type": "string"
            }
          },
          "metadata": {},
          "execution_count": 178
        }
      ],
      "source": [
        "with open(\"my_arrays.npz\", \"rb\") as f:\n",
        "    content = f.read()\n",
        "\n",
        "repr(content)[:180] + \"[...]\""
      ]
    },
    {
      "cell_type": "markdown",
      "metadata": {
        "id": "XEa2bmu8HFMI"
      },
      "source": [
        "다음과 같이 이 파일을 로드할 수 있습니다:"
      ]
    },
    {
      "cell_type": "code",
      "execution_count": 179,
      "metadata": {
        "id": "Drq6ol93HFMJ",
        "outputId": "0d62f693-1473-4a9c-e0ca-cba7f32099f8",
        "colab": {
          "base_uri": "https://localhost:8080/"
        }
      },
      "outputs": [
        {
          "output_type": "execute_result",
          "data": {
            "text/plain": [
              "<numpy.lib.npyio.NpzFile at 0x7f3175710a30>"
            ]
          },
          "metadata": {},
          "execution_count": 179
        }
      ],
      "source": [
        "my_arrays = np.load(\"my_arrays.npz\")\n",
        "my_arrays"
      ]
    },
    {
      "cell_type": "markdown",
      "metadata": {
        "id": "iUqBa5-6HFMJ"
      },
      "source": [
        "게으른 로딩을 수행하는 딕셔너리와 유사한 객체입니다:"
      ]
    },
    {
      "cell_type": "code",
      "execution_count": 180,
      "metadata": {
        "id": "-H4wedIIHFMJ",
        "outputId": "85748756-1257-4a4d-bc30-27199479bc6a",
        "colab": {
          "base_uri": "https://localhost:8080/"
        }
      },
      "outputs": [
        {
          "output_type": "execute_result",
          "data": {
            "text/plain": [
              "KeysView(<numpy.lib.npyio.NpzFile object at 0x7f3175710a30>)"
            ]
          },
          "metadata": {},
          "execution_count": 180
        }
      ],
      "source": [
        "my_arrays.keys()"
      ]
    },
    {
      "cell_type": "code",
      "execution_count": 181,
      "metadata": {
        "id": "cntQqnRIHFMK",
        "outputId": "10b7837a-68a2-4e59-f158-3de36222f7ce",
        "colab": {
          "base_uri": "https://localhost:8080/"
        }
      },
      "outputs": [
        {
          "output_type": "execute_result",
          "data": {
            "text/plain": [
              "array([[0.47043816, 0.28887412, 0.4449489 ],\n",
              "       [0.64995475, 0.68440216, 0.32099875]])"
            ]
          },
          "metadata": {},
          "execution_count": 181
        }
      ],
      "source": [
        "my_arrays[\"my_a\"]"
      ]
    },
    {
      "cell_type": "markdown",
      "metadata": {
        "id": "V_1u6JRYHFMK"
      },
      "source": [
        "# 그 다음은?\n",
        "\n",
        "넘파이 기본 요소를 모두 배웠지만 훨씬 더 많은 기능이 있습니다. 이를 배우는 가장 좋은 방법은 넘파이를 직접 실습해 보고 훌륭한 [넘파이 문서](https://numpy.org/doc/stable/reference/index.html)에서 필요한 함수와 기능을 찾아 보세요."
      ]
    }
  ],
  "metadata": {
    "kernelspec": {
      "display_name": "Python 3 (ipykernel)",
      "language": "python",
      "name": "python3"
    },
    "language_info": {
      "codemirror_mode": {
        "name": "ipython",
        "version": 3
      },
      "file_extension": ".py",
      "mimetype": "text/x-python",
      "name": "python",
      "nbconvert_exporter": "python",
      "pygments_lexer": "ipython3",
      "version": "3.9.13"
    },
    "toc": {
      "toc_cell": false,
      "toc_number_sections": true,
      "toc_section_display": "block",
      "toc_threshold": 6,
      "toc_window_display": false
    },
    "toc_position": {
      "height": "677px",
      "left": "1195.02px",
      "right": "20px",
      "top": "78px",
      "width": "238px"
    },
    "colab": {
      "provenance": []
    }
  },
  "nbformat": 4,
  "nbformat_minor": 0
}