{
 "cells": [
  {
   "cell_type": "markdown",
   "metadata": {},
   "source": [
    "# 핸즈온 머신러닝 3판\n",
    "\n",
    "*핸즈온 머신러닝 3판의 주피터 노트북입니다!\n",
    "\n",
    "[필수 라이브러리](#Prerequisites) (아래 참조)\n",
    "\n",
    "<table align=\"left\">\n",
    "  <td>\n",
    "    <a href=\"https://colab.research.google.com/github/rickiepark/handson-ml3/blob/main/index.ipynb\" target=\"_parent\"><img src=\"https://colab.research.google.com/assets/colab-badge.svg\" alt=\"Open In Colab\"/></a>\n",
    "  </td>\n",
    "</table>"
   ]
  },
  {
   "cell_type": "markdown",
   "metadata": {},
   "source": [
    "## 노트북\n",
    "1. [한 눈에 보는 머신러닝](01_the_machine_learning_landscape.ipynb)\n",
    "2. [머신러닝 프로젝트 처음부터 끝까지](02_end_to_end_machine_learning_project.ipynb)\n",
    "3. [분류](03_classification.ipynb)\n",
    "4. [모델 훈련](04_training_linear_models.ipynb)\n",
    "5. [서포트 벡터 머신](05_support_vector_machines.ipynb)\n",
    "6. [결정 트리](06_decision_trees.ipynb)\n",
    "7. [앙상블 학습과 랜덤 포레스트](07_ensemble_learning_and_random_forests.ipynb)\n",
    "8. [차원 축소](08_dimensionality_reduction.ipynb)\n",
    "9. [비지도 학습](09_unsupervised_learning.ipynb)\n",
    "10. [케라스를 사용한 인공 신경망 소개](10_neural_nets_with_keras.ipynb)\n",
    "11. [심층 신경망 훈련하기](11_training_deep_neural_networks.ipynb)\n",
    "12. [텐서플로를 사용한 사용자 정의 모델과 훈련](12_custom_models_and_training_with_tensorflow.ipynb)\n",
    "13. [텐서플로에서 데이터 적재와 전처리하기](13_loading_and_preprocessing_data.ipynb)\n",
    "14. [합성곱 신경망을 사용한 컴퓨터 비전](14_deep_computer_vision_with_cnns.ipynb)\n",
    "15. [RNN과 CNN을 사용해 시퀀스 처리하기](15_processing_sequences_using_rnns_and_cnns.ipynb)\n",
    "16. [RNN과 어텐션을 사용한 자연어 처리](16_nlp_with_rnns_and_attention.ipynb)\n",
    "17. [오토인코더, GAN 그리고 디퓨전 모델](17_autoencoders_gans_and_diffusion_models.ipynb)\n",
    "18. [강화 학습](18_reinforcement_learning.ipynb)\n",
    "19. [대규모 텐서플로 모델 훈련과 배포](19_training_and_deploying_at_scale.ipynb)"
   ]
  },
  {
   "cell_type": "markdown",
   "metadata": {},
   "source": [
    "## 파이썬 과학 라이브러리 튜토리얼\n",
    "* [넘파이](tools_numpy.ipynb)\n",
    "* [맷플롯립](tools_matplotlib.ipynb)\n",
    "* [판다스](tools_pandas.ipynb)"
   ]
  },
  {
   "cell_type": "markdown",
   "metadata": {},
   "source": [
    "## 수학 튜토리얼\n",
    "* [선형 대수](math_linear_algebra.ipynb)\n",
    "* [미분](math_differential_calculus.ipynb)"
   ]
  },
  {
   "cell_type": "markdown",
   "metadata": {},
   "source": [
    "## 추가 자료\n",
    "* [자동 미분](extra_autodiff.ipynb)"
   ]
  },
  {
   "cell_type": "markdown",
   "metadata": {},
   "source": [
    "## 필수 라이브러리"
   ]
  },
  {
   "cell_type": "markdown",
   "metadata": {},
   "source": [
    "### 이해를 위해\n",
    "* **파이썬** - 전문 파이썬 프로그래머일 필요는 없지만 기본 사항은 알고 있어야 합니다. 아직 파이썬을 모른다면 공식 [파이썬 튜토리얼](https://docs.python.org/3/tutorial/)을 참조하세요.\n",
    "* **파이썬 과학 라이브러리** - 몇 가지 인기 있는 파이썬 라이브러리, 특히 넘파이, 맷플롯립, 판다스를 사용합니다. 이러한 라이브러리에 익숙하지 않다면 도구 섹션의 튜토리얼(특히 넘파이)을 살펴보세요.\n",
    "* **수학** - 선형대수학, 미적분학, 통계학 및 확률 이론의 일부 개념을 사용합니다. 난이도가 높지 않으므로 과거에 배운 적이 있다면 따라갈 수 있지만, 이러한 주제에 대해 잘 모르거나 복습이 필요한 경우 수학 섹션에 있는 노트북을 살펴보세요."
   ]
  },
  {
   "cell_type": "markdown",
   "metadata": {},
   "source": [
    "### 실행을 위해\n",
    "* **주피터** – 이 노트북들은 주피터를 기반으로 합니다. 코랩에서 클릭 한 번으로 이 노트북을 실행할 수 있고(설치 필요 없음), Jupyter.org의 뷰어를 사용해 보기만 해도 되며, 필요하면 컴퓨터에 모든 것을 설치할 수도 있습니다. 자세한 내용은 [홈페이지](https://github.com/rickiepark/handson-ml3/)를 참조하세요."
   ]
  }
 ],
 "metadata": {
  "kernelspec": {
   "display_name": "Python 3 (ipykernel)",
   "language": "python",
   "name": "python3"
  },
  "language_info": {
   "codemirror_mode": {
    "name": "ipython",
    "version": 3
   },
   "file_extension": ".py",
   "mimetype": "text/x-python",
   "name": "python",
   "nbconvert_exporter": "python",
   "pygments_lexer": "ipython3",
   "version": "3.9.13"
  },
  "nav_menu": {},
  "toc": {
   "navigate_menu": true,
   "number_sections": true,
   "sideBar": true,
   "threshold": 6,
   "toc_cell": false,
   "toc_section_display": "block",
   "toc_window_display": false
  }
 },
 "nbformat": 4,
 "nbformat_minor": 4
}
