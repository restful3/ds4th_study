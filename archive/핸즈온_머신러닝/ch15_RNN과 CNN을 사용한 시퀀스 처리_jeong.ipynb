{
 "cells": [
  {
   "cell_type": "markdown",
   "metadata": {
    "id": "DJkHzjAw9i4Q"
   },
   "source": [
    "# **15장 – RNN과 CNN을 사용해 시퀀스 처리하기**\n",
    "> 우리는 늘 미래를 예측하며 살고 있습니다. 이장에서는 미래를 예측할 수 있는 네트워크인 순환신경망(Recurrent Neural Network)를 알아봅니다.\n",
    "- RNN의 기본적인 개념을 살펴보고 역전파하여 네트워크를 훈련하는 방법을 살펴봅니다\n",
    "    \n",
    "- ARMA,모델을 살펴보고 RNN을 비교합니다.\n",
    "- 제한적인 단기기억은 LSTM과 GRU를 통해 확장하는 것도 배워봅니다.\n",
    "- RNN이 순차데이터를 다룰수 있는 유일한 신경망은 아님. 작은 시퀀스는 FCN이 처리가능하고, 오디오/텍스트처럼 매우긴 시퀀스는 CNN도 작동하므로, 이 두가능성을 살펴본 뒤 waveNet (수만개의 타임스텝을 가진 시퀀스 다룰수있는CNN)도 구현"
   ]
  },
  {
   "cell_type": "markdown",
   "metadata": {
    "id": "dFXIv9qNpKzt",
    "tags": []
   },
   "source": [
    "## 설정"
   ]
  },
  {
   "cell_type": "markdown",
   "metadata": {
    "id": "8IPbJEmZpKzu"
   },
   "source": [
    "이 프로젝트에는 Python 3.7 이상이 필요합니다:"
   ]
  },
  {
   "cell_type": "code",
   "execution_count": 1,
   "metadata": {
    "id": "TFSU3FCOpKzu"
   },
   "outputs": [],
   "source": [
    "import sys\n",
    "\n",
    "assert sys.version_info >= (3, 7)"
   ]
  },
  {
   "cell_type": "markdown",
   "metadata": {
    "id": "GJtVEqxfpKzw"
   },
   "source": [
    "그리고 TensorFlow ≥ 2.8:"
   ]
  },
  {
   "cell_type": "code",
   "execution_count": 2,
   "metadata": {
    "executionInfo": {
     "elapsed": 10002,
     "status": "ok",
     "timestamp": 1728691830306,
     "user": {
      "displayName": "WOOSEOK JEONG",
      "userId": "01703662546986869335"
     },
     "user_tz": -540
    },
    "id": "0Piq5se2pKzx"
   },
   "outputs": [
    {
     "name": "stderr",
     "output_type": "stream",
     "text": [
      "2024-10-27 00:43:40.044186: E external/local_xla/xla/stream_executor/cuda/cuda_fft.cc:477] Unable to register cuFFT factory: Attempting to register factory for plugin cuFFT when one has already been registered\n",
      "WARNING: All log messages before absl::InitializeLog() is called are written to STDERR\n",
      "E0000 00:00:1729989820.056944     284 cuda_dnn.cc:8310] Unable to register cuDNN factory: Attempting to register factory for plugin cuDNN when one has already been registered\n",
      "E0000 00:00:1729989820.060931     284 cuda_blas.cc:1418] Unable to register cuBLAS factory: Attempting to register factory for plugin cuBLAS when one has already been registered\n",
      "2024-10-27 00:43:40.074614: I tensorflow/core/platform/cpu_feature_guard.cc:210] This TensorFlow binary is optimized to use available CPU instructions in performance-critical operations.\n",
      "To enable the following instructions: AVX2 FMA, in other operations, rebuild TensorFlow with the appropriate compiler flags.\n"
     ]
    }
   ],
   "source": [
    "from packaging import version\n",
    "import tensorflow as tf\n",
    "\n",
    "assert version.parse(tf.__version__) >= version.parse(\"2.8.0\")"
   ]
  },
  {
   "cell_type": "markdown",
   "metadata": {
    "id": "DDaDoLQTpKzx"
   },
   "source": [
    "이전 챕터에서 했던 것처럼 기본 글꼴 크기를 정의하여 그림을 더 예쁘게 만들어 보겠습니다:"
   ]
  },
  {
   "cell_type": "code",
   "execution_count": 3,
   "metadata": {
    "colab": {
     "base_uri": "https://localhost:8080/"
    },
    "executionInfo": {
     "elapsed": 15293,
     "status": "ok",
     "timestamp": 1728691845596,
     "user": {
      "displayName": "WOOSEOK JEONG",
      "userId": "01703662546986869335"
     },
     "user_tz": -540
    },
    "id": "8d4TH3NbpKzx",
    "outputId": "f854cbbc-2f1b-4c6e-b47d-318cd026ac07"
   },
   "outputs": [],
   "source": [
    "import matplotlib.pyplot as plt\n",
    "import matplotlib.font_manager as fm\n",
    "\n",
    "plt.rc('font', size=14)\n",
    "plt.rc('axes', labelsize=14, titlesize=14)\n",
    "plt.rc('legend', fontsize=14)\n",
    "plt.rc('xtick', labelsize=10)\n",
    "plt.rc('ytick', labelsize=10)\n",
    "\n",
    "import sys\n",
    "# 코랩의 경우 나눔 폰트를 설치합니다.\n",
    "if 'google.colab' in sys.modules:\n",
    "    !sudo apt-get -qq -y install fonts-nanum\n",
    "    import matplotlib.font_manager as fm\n",
    "    font_files = fm.findSystemFonts(fontpaths=['/usr/share/fonts/truetype/nanum'])\n",
    "    for fpath in font_files:\n",
    "        fm.fontManager.addfont(fpath)\n",
    "\n",
    "plt.rcParams['font.family'] = 'NanumGothic'\n",
    "plt.rcParams['axes.unicode_minus'] = False"
   ]
  },
  {
   "cell_type": "markdown",
   "metadata": {
    "id": "RcoUIRsvpKzy"
   },
   "source": [
    "그리고 `images/rnn` 폴더를 만들고(아직 존재하지 않는 경우), 이 노트북을 통해 책에 사용할 그림을 고해상도로 저장하는 데 사용되는 `save_fig()` 함수를 정의해 보겠습니다:"
   ]
  },
  {
   "cell_type": "code",
   "execution_count": 4,
   "metadata": {
    "executionInfo": {
     "elapsed": 2,
     "status": "ok",
     "timestamp": 1728691845596,
     "user": {
      "displayName": "WOOSEOK JEONG",
      "userId": "01703662546986869335"
     },
     "user_tz": -540
    },
    "id": "PQFH5Y9PpKzy"
   },
   "outputs": [],
   "source": [
    "from pathlib import Path\n",
    "\n",
    "IMAGES_PATH = Path() / \"images\" / \"rnn\"\n",
    "IMAGES_PATH.mkdir(parents=True, exist_ok=True)\n",
    "\n",
    "def save_fig(fig_id, tight_layout=True, fig_extension=\"png\", resolution=300):\n",
    "    path = IMAGES_PATH / f\"{fig_id}.{fig_extension}\"\n",
    "    if tight_layout:\n",
    "        plt.tight_layout()\n",
    "    plt.savefig(path, format=fig_extension, dpi=resolution)"
   ]
  },
  {
   "cell_type": "markdown",
   "metadata": {
    "id": "YTsawKlapKzy"
   },
   "source": [
    "이 챕터는 GPU가 없으면 매우 느려질 수 있으므로 GPU가 있는지 확인하거나 그렇지 않으면 경고를 표시합니다:"
   ]
  },
  {
   "cell_type": "code",
   "execution_count": 5,
   "metadata": {
    "executionInfo": {
     "elapsed": 4,
     "status": "ok",
     "timestamp": 1728691846262,
     "user": {
      "displayName": "WOOSEOK JEONG",
      "userId": "01703662546986869335"
     },
     "user_tz": -540
    },
    "id": "Ekxzo6pOpKzy"
   },
   "outputs": [
    {
     "name": "stdout",
     "output_type": "stream",
     "text": [
      "GPU가 감지되지 않았습니다. 신경망은 GPU가 없으면 매우 느릴 수 있습니다.\n"
     ]
    },
    {
     "name": "stderr",
     "output_type": "stream",
     "text": [
      "W0000 00:00:1729989825.718161     284 gpu_device.cc:2344] Cannot dlopen some GPU libraries. Please make sure the missing libraries mentioned above are installed properly if you would like to use GPU. Follow the guide at https://www.tensorflow.org/install/gpu for how to download and setup the required libraries for your platform.\n",
      "Skipping registering GPU devices...\n"
     ]
    }
   ],
   "source": [
    "if not tf.config.list_physical_devices('GPU'):\n",
    "    print(\"GPU가 감지되지 않았습니다. 신경망은 GPU가 없으면 매우 느릴 수 있습니다.\")\n",
    "    if \"google.colab\" in sys.modules:\n",
    "        print(\"런타임 > 런타임 유형 변경으로 이동하여 GPU를 선택하세요.\")"
   ]
  },
  {
   "cell_type": "markdown",
   "metadata": {
    "id": "y7p0gDSP9i4r"
   },
   "source": [
    "## RNN 이론의 이해\n",
    "- 지금까지는 활성화신호가 입력층에서 출력층 방향으로 흐르는 피트포워드 신경망에 초점 맞췄다면,<br> RNN은 비슷하면서도 뒤쪽으로 순환하는 연결도 있음\n",
    "\n",
    "<img src=\"https://drive.google.com/uc?id=1CzpTXD8oHVJ4KeNG3ahQ4uGG9EuT_G7y\" width=\"600\" height=\"200\">\n",
    "\n",
    "> 순환뉴런(왼쪽) 과 타임스텝으로 펼친모습"
   ]
  },
  {
   "cell_type": "markdown",
   "metadata": {
    "id": "GYA_cLuUsVnA"
   },
   "source": [
    "- 순환뉴런으로 이뤄진 층은 쉽게 만들수 있음, 타임스텝t 마다 모든 뉴런은 입력벡터 $x_{(t)}$와 이전타임스텝의 출력벡터 $\\hat y_{(t-1)}$을 받음 : 입력과 출력 모두 벡터\n",
    "<br>\n",
    "<img src=\"https://drive.google.com/uc?id=16YpSLghsx4dnMFqtQuKlUuJfjXlKU5Kk\" width=\"600\" height=\"200\">"
   ]
  },
  {
   "cell_type": "markdown",
   "metadata": {
    "id": "A3goPt9xttZr"
   },
   "source": [
    "- 각 순환뉴런은 두벌의 가중치 행렬(w) 를 가짐\n",
    "  - 하나는 입력 $x_{(t)}$를 위한 것 : $w_{x}$\n",
    "  - 다른 하나는 이전 타임스텝의 출력 $\\hat y_{(t-1)}$를 위한 것 : $w_{\\hat y}$\n",
    "  - $\\phi$는 Relu와 같은 활성화함수임, b는 편향\n",
    "- 하나의 순환층의 출력벡터의 수식은 다음과 같음\n",
    "<br>\n",
    "<img src=\"https://drive.google.com/uc?id=1kL-aWz-Pl838evgjHUbBhQD0khSFzErv\" width=\"330\" height=\"80\">\n",
    "\n"
   ]
  },
  {
   "cell_type": "markdown",
   "metadata": {
    "id": "GhSQAkQIvxQm"
   },
   "source": [
    "- 피드포워드 신경망 처럼 타임스텝  t에서의 모든입력을 행렬X로 만들어서 미니배치 전체에 대해 순환 층의 출력을 한번에 계산할수 있음\n",
    "<br>\n",
    "<img src=\"https://drive.google.com/uc?id=1qV3v_7q7XKwe_oh61cTlZ2Q2d6mhUVlR\" width=\"400\" height=\"150\">\n"
   ]
  },
  {
   "cell_type": "markdown",
   "metadata": {
    "id": "2NREB7M_wv2N"
   },
   "source": [
    "- 타임스텝 t에서 순환뉴런의 출력은 이전타임스텝에서 모든 입력에 대한 함수이므로 일종의 메모리 셀 형태로 (간단히 셀), 셀의 상태는 $h_{(t)}$=$f(x_{(t)},h_{(t-1)})$<br>\n",
    "<img src=\"https://drive.google.com/uc?id=1qSV_B4ZF0SDyVN6lxHIDEHYxWu421lQC\" width=\"500\" height=\"200\">"
   ]
  },
  {
   "cell_type": "markdown",
   "metadata": {
    "id": "OmQqW9sVySsU"
   },
   "source": [
    "- RNN은 입력시퀀스를 받아 출력시퀀스를 만들수 있음 : **시퀀스 투 시퀀스 네트워크**\n",
    "- 또는 입력시퀀스를 네트워크에 주입하고 마지막을 제외한 모든 출력을 무시할 수 있음 : **시퀀스 투 벡터 네트워크**\n",
    "- 반대로 타임스텝에서 하나의 입력벡터를 반복해서 네트워크에 주입하고 하나의 시퀀스를 출력할 수 있음. **벡터 투 시퀀스 네트워크**\n",
    "- 마지막으로 인코더라 불리는 시퀀스 투 벡터 네트워크 뒤에 디코더라 불리는 벡터 투 시퀀스 네트워크를 연결할 수 있음\n",
    "<br>\n",
    "<img src=\"https://drive.google.com/uc?id=1nRfPY9fcReoPiPyfdaNNg0npFkrtkb0i\" width=\"500\" height=\"300\">"
   ]
  },
  {
   "cell_type": "markdown",
   "metadata": {
    "id": "KWKkVAIWz-KD"
   },
   "source": [
    "- RNN을 훈련하기 위한 기법은 타임스텝으로 네트워크를 펼치고 역전파 활용 : BPTT(backproPagationThroughTime)\n",
    "<img src=\"https://drive.google.com/uc?id=1QA8LKrDW4LngcuJ2pGo99rp6XtIU4DaY\" width=\"500\" height=\"300\">\n",
    "\n"
   ]
  },
  {
   "cell_type": "markdown",
   "metadata": {
    "id": "475e9jY07m9j"
   },
   "source": [
    "## 시계열의 이해"
   ]
  },
  {
   "cell_type": "markdown",
   "metadata": {
    "id": "zqSZA_lD9i4r"
   },
   "source": [
    "좋습니다. 우리는 시카고 교통국에 데이터 과학자로 방금 채용되었습니다. 첫번째 일은 내일 버스와 열차에 탑승할 승객수를 예측하는 모델을 만드는 것입니다.\n",
    "\n",
    "\n",
    "\n",
    "> `ageron/data` 저장소트에서 승객 데이터를 다운로드해 보겠습니다. 원래는 시카고 교통국에서 제공한 것으로, [시카고 데이터 포털](https://homl.info/ridership)에서 다운로드할 수 있습니다."
   ]
  },
  {
   "cell_type": "code",
   "execution_count": 6,
   "metadata": {
    "colab": {
     "base_uri": "https://localhost:8080/",
     "height": 70
    },
    "executionInfo": {
     "elapsed": 595,
     "status": "ok",
     "timestamp": 1728691846854,
     "user": {
      "displayName": "WOOSEOK JEONG",
      "userId": "01703662546986869335"
     },
     "user_tz": -540
    },
    "id": "sPAgnesQ9i40",
    "outputId": "856a32d2-d058-4ad1-b0d2-8617423392fc"
   },
   "outputs": [
    {
     "data": {
      "text/plain": [
       "'./datasets/ridership_extracted'"
      ]
     },
     "execution_count": 6,
     "metadata": {},
     "output_type": "execute_result"
    }
   ],
   "source": [
    "tf.keras.utils.get_file(\n",
    "    \"ridership.tgz\",\n",
    "    \"https://github.com/ageron/data/raw/main/ridership.tgz\",\n",
    "    cache_dir=\".\",\n",
    "    extract=True\n",
    ")"
   ]
  },
  {
   "cell_type": "code",
   "execution_count": 7,
   "metadata": {
    "executionInfo": {
     "elapsed": 516,
     "status": "ok",
     "timestamp": 1728695100368,
     "user": {
      "displayName": "WOOSEOK JEONG",
      "userId": "01703662546986869335"
     },
     "user_tz": -540
    },
    "id": "GOYIXxRZ9i47"
   },
   "outputs": [],
   "source": [
    "import pandas as pd\n",
    "from pathlib import Path\n",
    "\n",
    "path = Path(\"datasets/ridership/CTA_-_Ridership_-_Daily_Boarding_Totals.csv\")\n",
    "df = pd.read_csv(path, parse_dates=[\"service_date\"])\n",
    "df.columns = [\"date\", \"day_type\", \"bus\", \"rail\", \"total\"]  # 더 짧은 이름\n",
    "df = df.sort_values(\"date\").set_index(\"date\")\n",
    "df = df.drop(\"total\", axis=1)  # total은 단순히 bus + rail 이므로 삭제합니다.\n",
    "df = df.drop_duplicates()  # 중복된 월 제거 (2011-10와 2014-07)"
   ]
  },
  {
   "cell_type": "code",
   "execution_count": 8,
   "metadata": {
    "colab": {
     "base_uri": "https://localhost:8080/",
     "height": 238
    },
    "executionInfo": {
     "elapsed": 5,
     "status": "ok",
     "timestamp": 1728695101042,
     "user": {
      "displayName": "WOOSEOK JEONG",
      "userId": "01703662546986869335"
     },
     "user_tz": -540
    },
    "id": "99aKJDKo9i47",
    "outputId": "ac0f9896-b286-4454-f15a-5dcd755167d6"
   },
   "outputs": [
    {
     "data": {
      "text/html": [
       "<div>\n",
       "<style scoped>\n",
       "    .dataframe tbody tr th:only-of-type {\n",
       "        vertical-align: middle;\n",
       "    }\n",
       "\n",
       "    .dataframe tbody tr th {\n",
       "        vertical-align: top;\n",
       "    }\n",
       "\n",
       "    .dataframe thead th {\n",
       "        text-align: right;\n",
       "    }\n",
       "</style>\n",
       "<table border=\"1\" class=\"dataframe\">\n",
       "  <thead>\n",
       "    <tr style=\"text-align: right;\">\n",
       "      <th></th>\n",
       "      <th>day_type</th>\n",
       "      <th>bus</th>\n",
       "      <th>rail</th>\n",
       "    </tr>\n",
       "    <tr>\n",
       "      <th>date</th>\n",
       "      <th></th>\n",
       "      <th></th>\n",
       "      <th></th>\n",
       "    </tr>\n",
       "  </thead>\n",
       "  <tbody>\n",
       "    <tr>\n",
       "      <th>2001-01-01</th>\n",
       "      <td>U</td>\n",
       "      <td>297192</td>\n",
       "      <td>126455</td>\n",
       "    </tr>\n",
       "    <tr>\n",
       "      <th>2001-01-02</th>\n",
       "      <td>W</td>\n",
       "      <td>780827</td>\n",
       "      <td>501952</td>\n",
       "    </tr>\n",
       "    <tr>\n",
       "      <th>2001-01-03</th>\n",
       "      <td>W</td>\n",
       "      <td>824923</td>\n",
       "      <td>536432</td>\n",
       "    </tr>\n",
       "    <tr>\n",
       "      <th>2001-01-04</th>\n",
       "      <td>W</td>\n",
       "      <td>870021</td>\n",
       "      <td>550011</td>\n",
       "    </tr>\n",
       "    <tr>\n",
       "      <th>2001-01-05</th>\n",
       "      <td>W</td>\n",
       "      <td>890426</td>\n",
       "      <td>557917</td>\n",
       "    </tr>\n",
       "  </tbody>\n",
       "</table>\n",
       "</div>"
      ],
      "text/plain": [
       "           day_type     bus    rail\n",
       "date                               \n",
       "2001-01-01        U  297192  126455\n",
       "2001-01-02        W  780827  501952\n",
       "2001-01-03        W  824923  536432\n",
       "2001-01-04        W  870021  550011\n",
       "2001-01-05        W  890426  557917"
      ]
     },
     "execution_count": 8,
     "metadata": {},
     "output_type": "execute_result"
    }
   ],
   "source": [
    "df.head()"
   ]
  },
  {
   "cell_type": "markdown",
   "metadata": {
    "id": "qLsksQLG2SUS"
   },
   "source": [
    "> 2001년 1월 1일에 297,192명이 시카고 버스를 이용했고, 126,455명이 열차를 이용했음.\n",
    "> daytype은 평일 w, 토요일a, 일요일/공휴일u"
   ]
  },
  {
   "cell_type": "markdown",
   "metadata": {
    "id": "aA_XW6oS9i48"
   },
   "source": [
    "2019년의 첫 몇 달을 살펴봅시다(판다스에서는 범위의 경계를 포함합니다):"
   ]
  },
  {
   "cell_type": "code",
   "execution_count": 9,
   "metadata": {
    "colab": {
     "base_uri": "https://localhost:8080/",
     "height": 345
    },
    "executionInfo": {
     "elapsed": 2688,
     "status": "ok",
     "timestamp": 1728695106719,
     "user": {
      "displayName": "WOOSEOK JEONG",
      "userId": "01703662546986869335"
     },
     "user_tz": -540
    },
    "id": "yA0Lrd519i48",
    "outputId": "1bfbf2e2-a203-450c-cf79-915b5d1e9e32"
   },
   "outputs": [
    {
     "name": "stderr",
     "output_type": "stream",
     "text": [
      "findfont: Font family 'NanumGothic' not found.\n",
      "findfont: Font family 'NanumGothic' not found.\n",
      "findfont: Font family 'NanumGothic' not found.\n",
      "findfont: Font family 'NanumGothic' not found.\n",
      "findfont: Font family 'NanumGothic' not found.\n",
      "findfont: Font family 'NanumGothic' not found.\n",
      "findfont: Font family 'NanumGothic' not found.\n",
      "/tmp/ipykernel_284/2587958765.py:9: UserWarning: Glyph 45216 (\\N{HANGUL SYLLABLE NAL}) missing from font(s) DejaVu Sans.\n",
      "  plt.tight_layout()\n",
      "/tmp/ipykernel_284/2587958765.py:9: UserWarning: Glyph 51676 (\\N{HANGUL SYLLABLE JJA}) missing from font(s) DejaVu Sans.\n",
      "  plt.tight_layout()\n",
      "findfont: Font family 'NanumGothic' not found.\n",
      "findfont: Font family 'NanumGothic' not found.\n",
      "findfont: Font family 'NanumGothic' not found.\n",
      "findfont: Font family 'NanumGothic' not found.\n",
      "findfont: Font family 'NanumGothic' not found.\n",
      "findfont: Font family 'NanumGothic' not found.\n",
      "findfont: Font family 'NanumGothic' not found.\n",
      "findfont: Font family 'NanumGothic' not found.\n",
      "findfont: Font family 'NanumGothic' not found.\n",
      "/tmp/ipykernel_284/2587958765.py:9: UserWarning: Glyph 48260 (\\N{HANGUL SYLLABLE BEO}) missing from font(s) DejaVu Sans.\n",
      "  plt.tight_layout()\n",
      "/tmp/ipykernel_284/2587958765.py:9: UserWarning: Glyph 49828 (\\N{HANGUL SYLLABLE SEU}) missing from font(s) DejaVu Sans.\n",
      "  plt.tight_layout()\n",
      "findfont: Font family 'NanumGothic' not found.\n",
      "findfont: Font family 'NanumGothic' not found.\n",
      "/tmp/ipykernel_284/2587958765.py:9: UserWarning: Glyph 50676 (\\N{HANGUL SYLLABLE YEOL}) missing from font(s) DejaVu Sans.\n",
      "  plt.tight_layout()\n",
      "/tmp/ipykernel_284/2587958765.py:9: UserWarning: Glyph 52264 (\\N{HANGUL SYLLABLE CA}) missing from font(s) DejaVu Sans.\n",
      "  plt.tight_layout()\n",
      "findfont: Font family 'NanumGothic' not found.\n",
      "findfont: Font family 'NanumGothic' not found.\n",
      "findfont: Font family 'NanumGothic' not found.\n",
      "findfont: Font family 'NanumGothic' not found.\n",
      "findfont: Font family 'NanumGothic' not found.\n",
      "findfont: Font family 'NanumGothic' not found.\n",
      "findfont: Font family 'NanumGothic' not found.\n",
      "/tmp/ipykernel_284/2587958765.py:10: UserWarning: Glyph 45216 (\\N{HANGUL SYLLABLE NAL}) missing from font(s) DejaVu Sans.\n",
      "  plt.savefig(path, format=fig_extension, dpi=resolution)\n",
      "/tmp/ipykernel_284/2587958765.py:10: UserWarning: Glyph 51676 (\\N{HANGUL SYLLABLE JJA}) missing from font(s) DejaVu Sans.\n",
      "  plt.savefig(path, format=fig_extension, dpi=resolution)\n",
      "findfont: Font family 'NanumGothic' not found.\n",
      "findfont: Font family 'NanumGothic' not found.\n",
      "findfont: Font family 'NanumGothic' not found.\n",
      "findfont: Font family 'NanumGothic' not found.\n",
      "findfont: Font family 'NanumGothic' not found.\n",
      "findfont: Font family 'NanumGothic' not found.\n",
      "findfont: Font family 'NanumGothic' not found.\n",
      "findfont: Font family 'NanumGothic' not found.\n",
      "findfont: Font family 'NanumGothic' not found.\n",
      "/tmp/ipykernel_284/2587958765.py:10: UserWarning: Glyph 48260 (\\N{HANGUL SYLLABLE BEO}) missing from font(s) DejaVu Sans.\n",
      "  plt.savefig(path, format=fig_extension, dpi=resolution)\n",
      "/tmp/ipykernel_284/2587958765.py:10: UserWarning: Glyph 49828 (\\N{HANGUL SYLLABLE SEU}) missing from font(s) DejaVu Sans.\n",
      "  plt.savefig(path, format=fig_extension, dpi=resolution)\n",
      "findfont: Font family 'NanumGothic' not found.\n",
      "findfont: Font family 'NanumGothic' not found.\n",
      "/tmp/ipykernel_284/2587958765.py:10: UserWarning: Glyph 50676 (\\N{HANGUL SYLLABLE YEOL}) missing from font(s) DejaVu Sans.\n",
      "  plt.savefig(path, format=fig_extension, dpi=resolution)\n",
      "/tmp/ipykernel_284/2587958765.py:10: UserWarning: Glyph 52264 (\\N{HANGUL SYLLABLE CA}) missing from font(s) DejaVu Sans.\n",
      "  plt.savefig(path, format=fig_extension, dpi=resolution)\n",
      "findfont: Font family 'NanumGothic' not found.\n",
      "findfont: Font family 'NanumGothic' not found.\n",
      "findfont: Font family 'NanumGothic' not found.\n",
      "findfont: Font family 'NanumGothic' not found.\n",
      "findfont: Font family 'NanumGothic' not found.\n",
      "findfont: Font family 'NanumGothic' not found.\n",
      "findfont: Font family 'NanumGothic' not found.\n",
      "findfont: Font family 'NanumGothic' not found.\n",
      "findfont: Font family 'NanumGothic' not found.\n",
      "findfont: Font family 'NanumGothic' not found.\n",
      "findfont: Font family 'NanumGothic' not found.\n",
      "findfont: Font family 'NanumGothic' not found.\n",
      "findfont: Font family 'NanumGothic' not found.\n",
      "/tmp/ipykernel_284/2587958765.py:10: UserWarning: Glyph 45216 (\\N{HANGUL SYLLABLE NAL}) missing from font(s) DejaVu Sans.\n",
      "  plt.savefig(path, format=fig_extension, dpi=resolution)\n",
      "/tmp/ipykernel_284/2587958765.py:10: UserWarning: Glyph 51676 (\\N{HANGUL SYLLABLE JJA}) missing from font(s) DejaVu Sans.\n",
      "  plt.savefig(path, format=fig_extension, dpi=resolution)\n",
      "findfont: Font family 'NanumGothic' not found.\n",
      "findfont: Font family 'NanumGothic' not found.\n",
      "findfont: Font family 'NanumGothic' not found.\n",
      "findfont: Font family 'NanumGothic' not found.\n",
      "findfont: Font family 'NanumGothic' not found.\n",
      "findfont: Font family 'NanumGothic' not found.\n",
      "findfont: Font family 'NanumGothic' not found.\n",
      "findfont: Font family 'NanumGothic' not found.\n",
      "findfont: Font family 'NanumGothic' not found.\n",
      "findfont: Font family 'NanumGothic' not found.\n",
      "findfont: Font family 'NanumGothic' not found.\n",
      "findfont: Font family 'NanumGothic' not found.\n",
      "findfont: Font family 'NanumGothic' not found.\n",
      "findfont: Font family 'NanumGothic' not found.\n",
      "findfont: Font family 'NanumGothic' not found.\n",
      "findfont: Font family 'NanumGothic' not found.\n",
      "findfont: Font family 'NanumGothic' not found.\n",
      "/tmp/ipykernel_284/2587958765.py:10: UserWarning: Glyph 48260 (\\N{HANGUL SYLLABLE BEO}) missing from font(s) DejaVu Sans.\n",
      "  plt.savefig(path, format=fig_extension, dpi=resolution)\n",
      "/tmp/ipykernel_284/2587958765.py:10: UserWarning: Glyph 49828 (\\N{HANGUL SYLLABLE SEU}) missing from font(s) DejaVu Sans.\n",
      "  plt.savefig(path, format=fig_extension, dpi=resolution)\n",
      "findfont: Font family 'NanumGothic' not found.\n",
      "findfont: Font family 'NanumGothic' not found.\n",
      "/tmp/ipykernel_284/2587958765.py:10: UserWarning: Glyph 50676 (\\N{HANGUL SYLLABLE YEOL}) missing from font(s) DejaVu Sans.\n",
      "  plt.savefig(path, format=fig_extension, dpi=resolution)\n",
      "/tmp/ipykernel_284/2587958765.py:10: UserWarning: Glyph 52264 (\\N{HANGUL SYLLABLE CA}) missing from font(s) DejaVu Sans.\n",
      "  plt.savefig(path, format=fig_extension, dpi=resolution)\n",
      "findfont: Font family 'NanumGothic' not found.\n",
      "findfont: Font family 'NanumGothic' not found.\n",
      "findfont: Font family 'NanumGothic' not found.\n",
      "findfont: Font family 'NanumGothic' not found.\n",
      "findfont: Font family 'NanumGothic' not found.\n",
      "findfont: Font family 'NanumGothic' not found.\n",
      "findfont: Font family 'NanumGothic' not found.\n",
      "findfont: Font family 'NanumGothic' not found.\n",
      "findfont: Font family 'NanumGothic' not found.\n",
      "findfont: Font family 'NanumGothic' not found.\n",
      "findfont: Font family 'NanumGothic' not found.\n",
      "/tmp/ipykernel_284/2587958765.py:10: UserWarning: Glyph 45216 (\\N{HANGUL SYLLABLE NAL}) missing from font(s) DejaVu Sans.\n",
      "  plt.savefig(path, format=fig_extension, dpi=resolution)\n",
      "/tmp/ipykernel_284/2587958765.py:10: UserWarning: Glyph 51676 (\\N{HANGUL SYLLABLE JJA}) missing from font(s) DejaVu Sans.\n",
      "  plt.savefig(path, format=fig_extension, dpi=resolution)\n",
      "findfont: Font family 'NanumGothic' not found.\n",
      "findfont: Font family 'NanumGothic' not found.\n",
      "findfont: Font family 'NanumGothic' not found.\n",
      "findfont: Font family 'NanumGothic' not found.\n",
      "findfont: Font family 'NanumGothic' not found.\n",
      "findfont: Font family 'NanumGothic' not found.\n",
      "findfont: Font family 'NanumGothic' not found.\n",
      "findfont: Font family 'NanumGothic' not found.\n",
      "findfont: Font family 'NanumGothic' not found.\n",
      "findfont: Font family 'NanumGothic' not found.\n",
      "findfont: Font family 'NanumGothic' not found.\n",
      "findfont: Font family 'NanumGothic' not found.\n",
      "findfont: Font family 'NanumGothic' not found.\n",
      "findfont: Font family 'NanumGothic' not found.\n",
      "findfont: Font family 'NanumGothic' not found.\n",
      "findfont: Font family 'NanumGothic' not found.\n",
      "findfont: Font family 'NanumGothic' not found.\n",
      "/tmp/ipykernel_284/2587958765.py:10: UserWarning: Glyph 48260 (\\N{HANGUL SYLLABLE BEO}) missing from font(s) DejaVu Sans.\n",
      "  plt.savefig(path, format=fig_extension, dpi=resolution)\n",
      "/tmp/ipykernel_284/2587958765.py:10: UserWarning: Glyph 49828 (\\N{HANGUL SYLLABLE SEU}) missing from font(s) DejaVu Sans.\n",
      "  plt.savefig(path, format=fig_extension, dpi=resolution)\n",
      "findfont: Font family 'NanumGothic' not found.\n",
      "findfont: Font family 'NanumGothic' not found.\n",
      "/tmp/ipykernel_284/2587958765.py:10: UserWarning: Glyph 50676 (\\N{HANGUL SYLLABLE YEOL}) missing from font(s) DejaVu Sans.\n",
      "  plt.savefig(path, format=fig_extension, dpi=resolution)\n",
      "/tmp/ipykernel_284/2587958765.py:10: UserWarning: Glyph 52264 (\\N{HANGUL SYLLABLE CA}) missing from font(s) DejaVu Sans.\n",
      "  plt.savefig(path, format=fig_extension, dpi=resolution)\n",
      "findfont: Font family 'NanumGothic' not found.\n",
      "findfont: Font family 'NanumGothic' not found.\n",
      "findfont: Font family 'NanumGothic' not found.\n",
      "findfont: Font family 'NanumGothic' not found.\n",
      "findfont: Font family 'NanumGothic' not found.\n",
      "findfont: Font family 'NanumGothic' not found.\n",
      "findfont: Font family 'NanumGothic' not found.\n",
      "findfont: Font family 'NanumGothic' not found.\n",
      "findfont: Font family 'NanumGothic' not found.\n",
      "findfont: Font family 'NanumGothic' not found.\n",
      "findfont: Font family 'NanumGothic' not found.\n",
      "findfont: Font family 'NanumGothic' not found.\n",
      "findfont: Font family 'NanumGothic' not found.\n",
      "findfont: Font family 'NanumGothic' not found.\n",
      "findfont: Font family 'NanumGothic' not found.\n",
      "findfont: Font family 'NanumGothic' not found.\n",
      "findfont: Font family 'NanumGothic' not found.\n",
      "findfont: Font family 'NanumGothic' not found.\n",
      "findfont: Font family 'NanumGothic' not found.\n",
      "findfont: Font family 'NanumGothic' not found.\n",
      "findfont: Font family 'NanumGothic' not found.\n",
      "findfont: Font family 'NanumGothic' not found.\n",
      "findfont: Font family 'NanumGothic' not found.\n",
      "findfont: Font family 'NanumGothic' not found.\n",
      "findfont: Font family 'NanumGothic' not found.\n",
      "findfont: Font family 'NanumGothic' not found.\n",
      "findfont: Font family 'NanumGothic' not found.\n",
      "findfont: Font family 'NanumGothic' not found.\n",
      "findfont: Font family 'NanumGothic' not found.\n",
      "findfont: Font family 'NanumGothic' not found.\n",
      "findfont: Font family 'NanumGothic' not found.\n",
      "findfont: Font family 'NanumGothic' not found.\n",
      "findfont: Font family 'NanumGothic' not found.\n",
      "/opt/venv/py310/lib/python3.10/site-packages/IPython/core/pylabtools.py:170: UserWarning: Glyph 45216 (\\N{HANGUL SYLLABLE NAL}) missing from font(s) DejaVu Sans.\n",
      "  fig.canvas.print_figure(bytes_io, **kw)\n",
      "/opt/venv/py310/lib/python3.10/site-packages/IPython/core/pylabtools.py:170: UserWarning: Glyph 51676 (\\N{HANGUL SYLLABLE JJA}) missing from font(s) DejaVu Sans.\n",
      "  fig.canvas.print_figure(bytes_io, **kw)\n",
      "findfont: Font family 'NanumGothic' not found.\n",
      "findfont: Font family 'NanumGothic' not found.\n",
      "findfont: Font family 'NanumGothic' not found.\n",
      "findfont: Font family 'NanumGothic' not found.\n",
      "findfont: Font family 'NanumGothic' not found.\n",
      "findfont: Font family 'NanumGothic' not found.\n",
      "findfont: Font family 'NanumGothic' not found.\n",
      "findfont: Font family 'NanumGothic' not found.\n",
      "findfont: Font family 'NanumGothic' not found.\n",
      "findfont: Font family 'NanumGothic' not found.\n",
      "findfont: Font family 'NanumGothic' not found.\n",
      "findfont: Font family 'NanumGothic' not found.\n",
      "findfont: Font family 'NanumGothic' not found.\n",
      "findfont: Font family 'NanumGothic' not found.\n",
      "findfont: Font family 'NanumGothic' not found.\n",
      "findfont: Font family 'NanumGothic' not found.\n",
      "findfont: Font family 'NanumGothic' not found.\n",
      "/opt/venv/py310/lib/python3.10/site-packages/IPython/core/pylabtools.py:170: UserWarning: Glyph 48260 (\\N{HANGUL SYLLABLE BEO}) missing from font(s) DejaVu Sans.\n",
      "  fig.canvas.print_figure(bytes_io, **kw)\n",
      "/opt/venv/py310/lib/python3.10/site-packages/IPython/core/pylabtools.py:170: UserWarning: Glyph 49828 (\\N{HANGUL SYLLABLE SEU}) missing from font(s) DejaVu Sans.\n",
      "  fig.canvas.print_figure(bytes_io, **kw)\n",
      "findfont: Font family 'NanumGothic' not found.\n",
      "findfont: Font family 'NanumGothic' not found.\n",
      "/opt/venv/py310/lib/python3.10/site-packages/IPython/core/pylabtools.py:170: UserWarning: Glyph 50676 (\\N{HANGUL SYLLABLE YEOL}) missing from font(s) DejaVu Sans.\n",
      "  fig.canvas.print_figure(bytes_io, **kw)\n",
      "/opt/venv/py310/lib/python3.10/site-packages/IPython/core/pylabtools.py:170: UserWarning: Glyph 52264 (\\N{HANGUL SYLLABLE CA}) missing from font(s) DejaVu Sans.\n",
      "  fig.canvas.print_figure(bytes_io, **kw)\n",
      "findfont: Font family 'NanumGothic' not found.\n",
      "findfont: Font family 'NanumGothic' not found.\n",
      "findfont: Font family 'NanumGothic' not found.\n",
      "findfont: Font family 'NanumGothic' not found.\n",
      "findfont: Font family 'NanumGothic' not found.\n",
      "findfont: Font family 'NanumGothic' not found.\n",
      "findfont: Font family 'NanumGothic' not found.\n",
      "findfont: Font family 'NanumGothic' not found.\n",
      "findfont: Font family 'NanumGothic' not found.\n",
      "findfont: Font family 'NanumGothic' not found.\n"
     ]
    },
    {
     "data": {
      "image/png": "[encoded data removed]",
      "text/plain": [
       "<Figure size 800x350 with 1 Axes>"
      ]
     },
     "metadata": {},
     "output_type": "display_data"
    }
   ],
   "source": [
    "import matplotlib.pyplot as plt\n",
    "\n",
    "df[\"2019-03\":\"2019-05\"].plot(grid=True, marker=\".\", figsize=(8, 3.5))\n",
    "plt.legend([\"버스\", \"열차\"]);\n",
    "plt.xlabel(\"날짜\")\n",
    "save_fig(\"daily_ridership_plot\")  # 추가 코드 - 책의 그림을 저장합니다.\n",
    "plt.show()"
   ]
  },
  {
   "cell_type": "markdown",
   "metadata": {
    "id": "BZxrvDQ92spu"
   },
   "source": [
    "- 타임스텝마다 여러개의 값이 있으므로 다변량 시계열 vs 버스 하나만 본다면 단변량시계열.\n",
    "- 시계열의 가장 일반적 작업은 미래의 값을 예측하는 것.\n",
    "- 다른작업은 imputation(결측치채우기), 분류, 이상치 탐지 등이 있음.\n",
    "- 비슷한 패턴이 반복되는 것을 계절성이라고 함. 패턴이 강력하면 예측성 좋음~ naive forecasting가능\n",
    "- 단순 예측을 시각화 하기 위해 주기만큼의 지연된 시계열을 빼주는 것을 차분이라고 함.\n",
    "> 그럼 주기성에 맞게 전의 선도 그리고, 차분을 그려보자"
   ]
  },
  {
   "cell_type": "code",
   "execution_count": 10,
   "metadata": {
    "colab": {
     "base_uri": "https://localhost:8080/",
     "height": 494
    },
    "executionInfo": {
     "elapsed": 3582,
     "status": "ok",
     "timestamp": 1728695143307,
     "user": {
      "displayName": "WOOSEOK JEONG",
      "userId": "01703662546986869335"
     },
     "user_tz": -540
    },
    "id": "h6TOSbhl9i48",
    "outputId": "04111aed-fdb3-404e-9120-d48a0c46610a"
   },
   "outputs": [
    {
     "name": "stderr",
     "output_type": "stream",
     "text": [
      "findfont: Font family 'NanumGothic' not found.\n",
      "findfont: Font family 'NanumGothic' not found.\n",
      "findfont: Font family 'NanumGothic' not found.\n",
      "findfont: Font family 'NanumGothic' not found.\n",
      "findfont: Font family 'NanumGothic' not found.\n",
      "findfont: Font family 'NanumGothic' not found.\n",
      "findfont: Font family 'NanumGothic' not found.\n",
      "findfont: Font family 'NanumGothic' not found.\n",
      "findfont: Font family 'NanumGothic' not found.\n",
      "findfont: Font family 'NanumGothic' not found.\n",
      "findfont: Font family 'NanumGothic' not found.\n",
      "/tmp/ipykernel_284/2587958765.py:9: UserWarning: Glyph 45216 (\\N{HANGUL SYLLABLE NAL}) missing from font(s) DejaVu Sans.\n",
      "  plt.tight_layout()\n",
      "/tmp/ipykernel_284/2587958765.py:9: UserWarning: Glyph 51676 (\\N{HANGUL SYLLABLE JJA}) missing from font(s) DejaVu Sans.\n",
      "  plt.tight_layout()\n",
      "findfont: Font family 'NanumGothic' not found.\n",
      "findfont: Font family 'NanumGothic' not found.\n",
      "findfont: Font family 'NanumGothic' not found.\n",
      "findfont: Font family 'NanumGothic' not found.\n",
      "findfont: Font family 'NanumGothic' not found.\n",
      "/tmp/ipykernel_284/2587958765.py:9: UserWarning: Glyph 48260 (\\N{HANGUL SYLLABLE BEO}) missing from font(s) DejaVu Sans.\n",
      "  plt.tight_layout()\n",
      "/tmp/ipykernel_284/2587958765.py:9: UserWarning: Glyph 49828 (\\N{HANGUL SYLLABLE SEU}) missing from font(s) DejaVu Sans.\n",
      "  plt.tight_layout()\n",
      "findfont: Font family 'NanumGothic' not found.\n",
      "findfont: Font family 'NanumGothic' not found.\n",
      "/tmp/ipykernel_284/2587958765.py:9: UserWarning: Glyph 50676 (\\N{HANGUL SYLLABLE YEOL}) missing from font(s) DejaVu Sans.\n",
      "  plt.tight_layout()\n",
      "/tmp/ipykernel_284/2587958765.py:9: UserWarning: Glyph 52264 (\\N{HANGUL SYLLABLE CA}) missing from font(s) DejaVu Sans.\n",
      "  plt.tight_layout()\n",
      "findfont: Font family 'NanumGothic' not found.\n",
      "findfont: Font family 'NanumGothic' not found.\n",
      "findfont: Font family 'NanumGothic' not found.\n",
      "findfont: Font family 'NanumGothic' not found.\n",
      "findfont: Font family 'NanumGothic' not found.\n",
      "findfont: Font family 'NanumGothic' not found.\n",
      "findfont: Font family 'NanumGothic' not found.\n",
      "findfont: Font family 'NanumGothic' not found.\n",
      "findfont: Font family 'NanumGothic' not found.\n",
      "findfont: Font family 'NanumGothic' not found.\n",
      "findfont: Font family 'NanumGothic' not found.\n",
      "/tmp/ipykernel_284/2587958765.py:10: UserWarning: Glyph 45216 (\\N{HANGUL SYLLABLE NAL}) missing from font(s) DejaVu Sans.\n",
      "  plt.savefig(path, format=fig_extension, dpi=resolution)\n",
      "/tmp/ipykernel_284/2587958765.py:10: UserWarning: Glyph 51676 (\\N{HANGUL SYLLABLE JJA}) missing from font(s) DejaVu Sans.\n",
      "  plt.savefig(path, format=fig_extension, dpi=resolution)\n",
      "findfont: Font family 'NanumGothic' not found.\n",
      "findfont: Font family 'NanumGothic' not found.\n",
      "findfont: Font family 'NanumGothic' not found.\n",
      "findfont: Font family 'NanumGothic' not found.\n",
      "findfont: Font family 'NanumGothic' not found.\n",
      "/tmp/ipykernel_284/2587958765.py:10: UserWarning: Glyph 48260 (\\N{HANGUL SYLLABLE BEO}) missing from font(s) DejaVu Sans.\n",
      "  plt.savefig(path, format=fig_extension, dpi=resolution)\n",
      "/tmp/ipykernel_284/2587958765.py:10: UserWarning: Glyph 49828 (\\N{HANGUL SYLLABLE SEU}) missing from font(s) DejaVu Sans.\n",
      "  plt.savefig(path, format=fig_extension, dpi=resolution)\n",
      "findfont: Font family 'NanumGothic' not found.\n",
      "findfont: Font family 'NanumGothic' not found.\n",
      "/tmp/ipykernel_284/2587958765.py:10: UserWarning: Glyph 50676 (\\N{HANGUL SYLLABLE YEOL}) missing from font(s) DejaVu Sans.\n",
      "  plt.savefig(path, format=fig_extension, dpi=resolution)\n",
      "/tmp/ipykernel_284/2587958765.py:10: UserWarning: Glyph 52264 (\\N{HANGUL SYLLABLE CA}) missing from font(s) DejaVu Sans.\n",
      "  plt.savefig(path, format=fig_extension, dpi=resolution)\n",
      "findfont: Font family 'NanumGothic' not found.\n",
      "findfont: Font family 'NanumGothic' not found.\n",
      "findfont: Font family 'NanumGothic' not found.\n",
      "findfont: Font family 'NanumGothic' not found.\n",
      "findfont: Font family 'NanumGothic' not found.\n",
      "findfont: Font family 'NanumGothic' not found.\n",
      "findfont: Font family 'NanumGothic' not found.\n",
      "findfont: Font family 'NanumGothic' not found.\n",
      "findfont: Font family 'NanumGothic' not found.\n",
      "findfont: Font family 'NanumGothic' not found.\n",
      "findfont: Font family 'NanumGothic' not found.\n",
      "findfont: Font family 'NanumGothic' not found.\n",
      "findfont: Font family 'NanumGothic' not found.\n",
      "findfont: Font family 'NanumGothic' not found.\n",
      "findfont: Font family 'NanumGothic' not found.\n",
      "findfont: Font family 'NanumGothic' not found.\n",
      "findfont: Font family 'NanumGothic' not found.\n",
      "/tmp/ipykernel_284/2587958765.py:10: UserWarning: Glyph 45216 (\\N{HANGUL SYLLABLE NAL}) missing from font(s) DejaVu Sans.\n",
      "  plt.savefig(path, format=fig_extension, dpi=resolution)\n",
      "/tmp/ipykernel_284/2587958765.py:10: UserWarning: Glyph 51676 (\\N{HANGUL SYLLABLE JJA}) missing from font(s) DejaVu Sans.\n",
      "  plt.savefig(path, format=fig_extension, dpi=resolution)\n",
      "findfont: Font family 'NanumGothic' not found.\n",
      "findfont: Font family 'NanumGothic' not found.\n",
      "findfont: Font family 'NanumGothic' not found.\n",
      "findfont: Font family 'NanumGothic' not found.\n",
      "findfont: Font family 'NanumGothic' not found.\n",
      "findfont: Font family 'NanumGothic' not found.\n",
      "findfont: Font family 'NanumGothic' not found.\n",
      "findfont: Font family 'NanumGothic' not found.\n",
      "findfont: Font family 'NanumGothic' not found.\n",
      "findfont: Font family 'NanumGothic' not found.\n",
      "findfont: Font family 'NanumGothic' not found.\n",
      "findfont: Font family 'NanumGothic' not found.\n",
      "findfont: Font family 'NanumGothic' not found.\n",
      "findfont: Font family 'NanumGothic' not found.\n",
      "/tmp/ipykernel_284/2587958765.py:10: UserWarning: Glyph 48260 (\\N{HANGUL SYLLABLE BEO}) missing from font(s) DejaVu Sans.\n",
      "  plt.savefig(path, format=fig_extension, dpi=resolution)\n",
      "/tmp/ipykernel_284/2587958765.py:10: UserWarning: Glyph 49828 (\\N{HANGUL SYLLABLE SEU}) missing from font(s) DejaVu Sans.\n",
      "  plt.savefig(path, format=fig_extension, dpi=resolution)\n",
      "findfont: Font family 'NanumGothic' not found.\n",
      "findfont: Font family 'NanumGothic' not found.\n",
      "/tmp/ipykernel_284/2587958765.py:10: UserWarning: Glyph 50676 (\\N{HANGUL SYLLABLE YEOL}) missing from font(s) DejaVu Sans.\n",
      "  plt.savefig(path, format=fig_extension, dpi=resolution)\n",
      "/tmp/ipykernel_284/2587958765.py:10: UserWarning: Glyph 52264 (\\N{HANGUL SYLLABLE CA}) missing from font(s) DejaVu Sans.\n",
      "  plt.savefig(path, format=fig_extension, dpi=resolution)\n",
      "findfont: Font family 'NanumGothic' not found.\n",
      "findfont: Font family 'NanumGothic' not found.\n",
      "findfont: Font family 'NanumGothic' not found.\n",
      "findfont: Font family 'NanumGothic' not found.\n",
      "findfont: Font family 'NanumGothic' not found.\n",
      "findfont: Font family 'NanumGothic' not found.\n",
      "findfont: Font family 'NanumGothic' not found.\n",
      "findfont: Font family 'NanumGothic' not found.\n",
      "findfont: Font family 'NanumGothic' not found.\n",
      "findfont: Font family 'NanumGothic' not found.\n",
      "findfont: Font family 'NanumGothic' not found.\n",
      "findfont: Font family 'NanumGothic' not found.\n",
      "findfont: Font family 'NanumGothic' not found.\n",
      "findfont: Font family 'NanumGothic' not found.\n",
      "findfont: Font family 'NanumGothic' not found.\n",
      "findfont: Font family 'NanumGothic' not found.\n",
      "findfont: Font family 'NanumGothic' not found.\n",
      "findfont: Font family 'NanumGothic' not found.\n",
      "findfont: Font family 'NanumGothic' not found.\n",
      "/tmp/ipykernel_284/2587958765.py:10: UserWarning: Glyph 45216 (\\N{HANGUL SYLLABLE NAL}) missing from font(s) DejaVu Sans.\n",
      "  plt.savefig(path, format=fig_extension, dpi=resolution)\n",
      "/tmp/ipykernel_284/2587958765.py:10: UserWarning: Glyph 51676 (\\N{HANGUL SYLLABLE JJA}) missing from font(s) DejaVu Sans.\n",
      "  plt.savefig(path, format=fig_extension, dpi=resolution)\n",
      "findfont: Font family 'NanumGothic' not found.\n",
      "findfont: Font family 'NanumGothic' not found.\n",
      "findfont: Font family 'NanumGothic' not found.\n",
      "findfont: Font family 'NanumGothic' not found.\n",
      "findfont: Font family 'NanumGothic' not found.\n",
      "findfont: Font family 'NanumGothic' not found.\n",
      "findfont: Font family 'NanumGothic' not found.\n",
      "findfont: Font family 'NanumGothic' not found.\n",
      "findfont: Font family 'NanumGothic' not found.\n",
      "findfont: Font family 'NanumGothic' not found.\n",
      "/tmp/ipykernel_284/2587958765.py:10: UserWarning: Glyph 48260 (\\N{HANGUL SYLLABLE BEO}) missing from font(s) DejaVu Sans.\n",
      "  plt.savefig(path, format=fig_extension, dpi=resolution)\n",
      "/tmp/ipykernel_284/2587958765.py:10: UserWarning: Glyph 49828 (\\N{HANGUL SYLLABLE SEU}) missing from font(s) DejaVu Sans.\n",
      "  plt.savefig(path, format=fig_extension, dpi=resolution)\n",
      "findfont: Font family 'NanumGothic' not found.\n",
      "findfont: Font family 'NanumGothic' not found.\n",
      "/tmp/ipykernel_284/2587958765.py:10: UserWarning: Glyph 50676 (\\N{HANGUL SYLLABLE YEOL}) missing from font(s) DejaVu Sans.\n",
      "  plt.savefig(path, format=fig_extension, dpi=resolution)\n",
      "/tmp/ipykernel_284/2587958765.py:10: UserWarning: Glyph 52264 (\\N{HANGUL SYLLABLE CA}) missing from font(s) DejaVu Sans.\n",
      "  plt.savefig(path, format=fig_extension, dpi=resolution)\n",
      "findfont: Font family 'NanumGothic' not found.\n",
      "findfont: Font family 'NanumGothic' not found.\n",
      "findfont: Font family 'NanumGothic' not found.\n",
      "findfont: Font family 'NanumGothic' not found.\n",
      "findfont: Font family 'NanumGothic' not found.\n",
      "findfont: Font family 'NanumGothic' not found.\n",
      "findfont: Font family 'NanumGothic' not found.\n",
      "findfont: Font family 'NanumGothic' not found.\n",
      "findfont: Font family 'NanumGothic' not found.\n",
      "findfont: Font family 'NanumGothic' not found.\n",
      "findfont: Font family 'NanumGothic' not found.\n",
      "findfont: Font family 'NanumGothic' not found.\n",
      "findfont: Font family 'NanumGothic' not found.\n",
      "findfont: Font family 'NanumGothic' not found.\n",
      "findfont: Font family 'NanumGothic' not found.\n",
      "findfont: Font family 'NanumGothic' not found.\n",
      "findfont: Font family 'NanumGothic' not found.\n",
      "findfont: Font family 'NanumGothic' not found.\n",
      "findfont: Font family 'NanumGothic' not found.\n",
      "findfont: Font family 'NanumGothic' not found.\n",
      "findfont: Font family 'NanumGothic' not found.\n",
      "findfont: Font family 'NanumGothic' not found.\n",
      "findfont: Font family 'NanumGothic' not found.\n",
      "findfont: Font family 'NanumGothic' not found.\n",
      "findfont: Font family 'NanumGothic' not found.\n",
      "findfont: Font family 'NanumGothic' not found.\n",
      "findfont: Font family 'NanumGothic' not found.\n",
      "findfont: Font family 'NanumGothic' not found.\n",
      "findfont: Font family 'NanumGothic' not found.\n",
      "findfont: Font family 'NanumGothic' not found.\n",
      "findfont: Font family 'NanumGothic' not found.\n",
      "findfont: Font family 'NanumGothic' not found.\n",
      "findfont: Font family 'NanumGothic' not found.\n",
      "findfont: Font family 'NanumGothic' not found.\n",
      "findfont: Font family 'NanumGothic' not found.\n",
      "findfont: Font family 'NanumGothic' not found.\n",
      "findfont: Font family 'NanumGothic' not found.\n",
      "findfont: Font family 'NanumGothic' not found.\n",
      "findfont: Font family 'NanumGothic' not found.\n",
      "findfont: Font family 'NanumGothic' not found.\n",
      "findfont: Font family 'NanumGothic' not found.\n",
      "/opt/venv/py310/lib/python3.10/site-packages/IPython/core/pylabtools.py:170: UserWarning: Glyph 45216 (\\N{HANGUL SYLLABLE NAL}) missing from font(s) DejaVu Sans.\n",
      "  fig.canvas.print_figure(bytes_io, **kw)\n",
      "/opt/venv/py310/lib/python3.10/site-packages/IPython/core/pylabtools.py:170: UserWarning: Glyph 51676 (\\N{HANGUL SYLLABLE JJA}) missing from font(s) DejaVu Sans.\n",
      "  fig.canvas.print_figure(bytes_io, **kw)\n",
      "findfont: Font family 'NanumGothic' not found.\n",
      "findfont: Font family 'NanumGothic' not found.\n",
      "findfont: Font family 'NanumGothic' not found.\n",
      "findfont: Font family 'NanumGothic' not found.\n",
      "findfont: Font family 'NanumGothic' not found.\n",
      "findfont: Font family 'NanumGothic' not found.\n",
      "findfont: Font family 'NanumGothic' not found.\n",
      "findfont: Font family 'NanumGothic' not found.\n",
      "findfont: Font family 'NanumGothic' not found.\n",
      "findfont: Font family 'NanumGothic' not found.\n",
      "/opt/venv/py310/lib/python3.10/site-packages/IPython/core/pylabtools.py:170: UserWarning: Glyph 48260 (\\N{HANGUL SYLLABLE BEO}) missing from font(s) DejaVu Sans.\n",
      "  fig.canvas.print_figure(bytes_io, **kw)\n",
      "/opt/venv/py310/lib/python3.10/site-packages/IPython/core/pylabtools.py:170: UserWarning: Glyph 49828 (\\N{HANGUL SYLLABLE SEU}) missing from font(s) DejaVu Sans.\n",
      "  fig.canvas.print_figure(bytes_io, **kw)\n",
      "findfont: Font family 'NanumGothic' not found.\n",
      "findfont: Font family 'NanumGothic' not found.\n",
      "/opt/venv/py310/lib/python3.10/site-packages/IPython/core/pylabtools.py:170: UserWarning: Glyph 50676 (\\N{HANGUL SYLLABLE YEOL}) missing from font(s) DejaVu Sans.\n",
      "  fig.canvas.print_figure(bytes_io, **kw)\n",
      "/opt/venv/py310/lib/python3.10/site-packages/IPython/core/pylabtools.py:170: UserWarning: Glyph 52264 (\\N{HANGUL SYLLABLE CA}) missing from font(s) DejaVu Sans.\n",
      "  fig.canvas.print_figure(bytes_io, **kw)\n",
      "findfont: Font family 'NanumGothic' not found.\n",
      "findfont: Font family 'NanumGothic' not found.\n",
      "findfont: Font family 'NanumGothic' not found.\n",
      "findfont: Font family 'NanumGothic' not found.\n",
      "findfont: Font family 'NanumGothic' not found.\n",
      "findfont: Font family 'NanumGothic' not found.\n",
      "findfont: Font family 'NanumGothic' not found.\n",
      "findfont: Font family 'NanumGothic' not found.\n",
      "findfont: Font family 'NanumGothic' not found.\n",
      "findfont: Font family 'NanumGothic' not found.\n"
     ]
    },
    {
     "data": {
      "image/png": "[encoded data removed]",
      "text/plain": [
       "<Figure size 800x500 with 2 Axes>"
      ]
     },
     "metadata": {},
     "output_type": "display_data"
    }
   ],
   "source": [
    "diff_7 = df[[\"bus\", \"rail\"]].diff(7)[\"2019-03\":\"2019-05\"]\n",
    "\n",
    "fig, axs = plt.subplots(2, 1, sharex=True, figsize=(8, 5))\n",
    "df.plot(ax=axs[0], legend=False, marker=\".\")  # 원본 시계열\n",
    "df.shift(7).plot(ax=axs[0], grid=True, legend=False, linestyle=\":\")  # 지연시계열을 점선으로 그리기\n",
    "diff_7.plot(ax=axs[1], grid=True, marker=\".\")  # 7일 차분 시계열\n",
    "axs[1].legend([\"버스\", \"열차\"])\n",
    "axs[1].set_xlabel(\"날짜\")\n",
    "axs[0].set_ylim([170_000, 900_000])  # 추가 코드 - 그래프를 아름답게 꾸미기\n",
    "save_fig(\"differencing_plot\")  # 추가 코드 - 책의 그림을 저장합니다.\n",
    "plt.show()"
   ]
  },
  {
   "cell_type": "markdown",
   "metadata": {
    "id": "dczr5-tP3mOC"
   },
   "source": [
    "- 와~ 지연된 시계열이 실제 시계열을 잘 따라가고 있음. 시계열이 지연된 자기자신과 상관관계를 가질 때 자기상관(autocorrelation) 시계열이라고 함. 5월말을 제외하면 차이가 작음. 5월말엔 무슨일이 있었을까?"
   ]
  },
  {
   "cell_type": "code",
   "execution_count": 11,
   "metadata": {
    "colab": {
     "base_uri": "https://localhost:8080/"
    },
    "executionInfo": {
     "elapsed": 757,
     "status": "ok",
     "timestamp": 1728695124222,
     "user": {
      "displayName": "WOOSEOK JEONG",
      "userId": "01703662546986869335"
     },
     "user_tz": -540
    },
    "id": "emEdmLkS9i49",
    "outputId": "ef627d96-28fe-40be-8c62-580468b0c4d2",
    "tags": []
   },
   "outputs": [
    {
     "data": {
      "text/plain": [
       "['A', 'U', 'U']"
      ]
     },
     "execution_count": 11,
     "metadata": {},
     "output_type": "execute_result"
    }
   ],
   "source": [
    "list(df.loc[\"2019-05-25\":\"2019-05-27\"][\"day_type\"])"
   ]
  },
  {
   "cell_type": "markdown",
   "metadata": {
    "id": "8WBGEeJ_4FfO"
   },
   "source": [
    "- 메모리얼데이 휴일이어서 주말이 길었음. 이 열을 사용해 예측을 개선할수 있지만 MAE를 구하여 아이디어를 얻어보자"
   ]
  },
  {
   "cell_type": "markdown",
   "metadata": {
    "id": "HeIK90K_9i49"
   },
   "source": [
    "평균 절대 오차(MAE)는 평균 절대 편차(MAD)라고도 합니다:"
   ]
  },
  {
   "cell_type": "code",
   "execution_count": 12,
   "metadata": {
    "colab": {
     "base_uri": "https://localhost:8080/",
     "height": 147
    },
    "executionInfo": {
     "elapsed": 3,
     "status": "ok",
     "timestamp": 1728695143895,
     "user": {
      "displayName": "WOOSEOK JEONG",
      "userId": "01703662546986869335"
     },
     "user_tz": -540
    },
    "id": "5INjvZkW9i49",
    "outputId": "42b80a77-52e7-4172-cc18-0f11790eb089"
   },
   "outputs": [
    {
     "data": {
      "text/plain": [
       "bus     43915.608696\n",
       "rail    42143.271739\n",
       "dtype: float64"
      ]
     },
     "execution_count": 12,
     "metadata": {},
     "output_type": "execute_result"
    }
   ],
   "source": [
    "diff_7.abs().mean()"
   ]
  },
  {
   "cell_type": "markdown",
   "metadata": {
    "id": "u5qp0jlS404b"
   },
   "source": [
    "3~5월의 평균절대값오차는 버스 43915명, 기차 41143명 수준임. 이게 많이나는 건지 알수 있나? 상대비교를 해야지..."
   ]
  },
  {
   "cell_type": "markdown",
   "metadata": {
    "id": "jwQuXFfi9i4-"
   },
   "source": [
    "평균 절대 비율 오류(MAPE):"
   ]
  },
  {
   "cell_type": "code",
   "execution_count": 13,
   "metadata": {
    "colab": {
     "base_uri": "https://localhost:8080/",
     "height": 147
    },
    "executionInfo": {
     "elapsed": 1501,
     "status": "ok",
     "timestamp": 1728695149819,
     "user": {
      "displayName": "WOOSEOK JEONG",
      "userId": "01703662546986869335"
     },
     "user_tz": -540
    },
    "id": "X8FJEWJK9i4-",
    "outputId": "6a03fe81-a829-40b0-cf10-b268622eab22"
   },
   "outputs": [
    {
     "data": {
      "text/plain": [
       "bus     0.082938\n",
       "rail    0.089948\n",
       "dtype: float64"
      ]
     },
     "execution_count": 13,
     "metadata": {},
     "output_type": "execute_result"
    }
   ],
   "source": [
    "targets = df[[\"bus\", \"rail\"]][\"2019-03\":\"2019-05\"]\n",
    "(diff_7 / targets).abs().mean()"
   ]
  },
  {
   "cell_type": "markdown",
   "metadata": {
    "id": "bdCdRoOx5R9A"
   },
   "source": [
    "그래서 모수로 나눴더니 기차의 비율오류가 더 큰것을 알수 있음"
   ]
  },
  {
   "cell_type": "markdown",
   "metadata": {
    "id": "LuXlris19i4-"
   },
   "source": [
    "이제 연도별 계절성과 장기 트렌드를 살펴보겠습니다:\n",
    "- 장기간 트랜드를 확인하기 위해 각 시계열의 12개월 이동 평균도 함께 구함"
   ]
  },
  {
   "cell_type": "code",
   "execution_count": 14,
   "metadata": {
    "colab": {
     "base_uri": "https://localhost:8080/",
     "height": 430
    },
    "executionInfo": {
     "elapsed": 2876,
     "status": "ok",
     "timestamp": 1728642680657,
     "user": {
      "displayName": "WOOSEOK JEONG",
      "userId": "01703662546986869335"
     },
     "user_tz": -540
    },
    "id": "YJWxsYJ99i4-",
    "outputId": "5b2cc730-3037-46a1-ff43-3a8490bbdfc0"
   },
   "outputs": [
    {
     "name": "stderr",
     "output_type": "stream",
     "text": [
      "/tmp/ipykernel_284/2125188364.py:2: FutureWarning: 'M' is deprecated and will be removed in a future version, please use 'ME' instead.\n",
      "  df_monthly = df.resample('M').mean(numeric_only=True)  # 월별 평균을 계산합니다.\n",
      "findfont: Font family 'NanumGothic' not found.\n",
      "findfont: Font family 'NanumGothic' not found.\n",
      "findfont: Font family 'NanumGothic' not found.\n",
      "findfont: Font family 'NanumGothic' not found.\n",
      "findfont: Font family 'NanumGothic' not found.\n",
      "findfont: Font family 'NanumGothic' not found.\n",
      "findfont: Font family 'NanumGothic' not found.\n",
      "findfont: Font family 'NanumGothic' not found.\n",
      "findfont: Font family 'NanumGothic' not found.\n",
      "findfont: Font family 'NanumGothic' not found.\n",
      "findfont: Font family 'NanumGothic' not found.\n",
      "findfont: Font family 'NanumGothic' not found.\n",
      "findfont: Font family 'NanumGothic' not found.\n",
      "/tmp/ipykernel_284/2587958765.py:9: UserWarning: Glyph 45216 (\\N{HANGUL SYLLABLE NAL}) missing from font(s) DejaVu Sans.\n",
      "  plt.tight_layout()\n",
      "/tmp/ipykernel_284/2587958765.py:9: UserWarning: Glyph 51676 (\\N{HANGUL SYLLABLE JJA}) missing from font(s) DejaVu Sans.\n",
      "  plt.tight_layout()\n",
      "findfont: Font family 'NanumGothic' not found.\n",
      "findfont: Font family 'NanumGothic' not found.\n",
      "findfont: Font family 'NanumGothic' not found.\n",
      "findfont: Font family 'NanumGothic' not found.\n",
      "findfont: Font family 'NanumGothic' not found.\n",
      "findfont: Font family 'NanumGothic' not found.\n",
      "findfont: Font family 'NanumGothic' not found.\n",
      "findfont: Font family 'NanumGothic' not found.\n",
      "findfont: Font family 'NanumGothic' not found.\n",
      "/tmp/ipykernel_284/2587958765.py:9: UserWarning: Glyph 48260 (\\N{HANGUL SYLLABLE BEO}) missing from font(s) DejaVu Sans.\n",
      "  plt.tight_layout()\n",
      "/tmp/ipykernel_284/2587958765.py:9: UserWarning: Glyph 49828 (\\N{HANGUL SYLLABLE SEU}) missing from font(s) DejaVu Sans.\n",
      "  plt.tight_layout()\n",
      "findfont: Font family 'NanumGothic' not found.\n",
      "findfont: Font family 'NanumGothic' not found.\n",
      "/tmp/ipykernel_284/2587958765.py:9: UserWarning: Glyph 50676 (\\N{HANGUL SYLLABLE YEOL}) missing from font(s) DejaVu Sans.\n",
      "  plt.tight_layout()\n",
      "/tmp/ipykernel_284/2587958765.py:9: UserWarning: Glyph 52264 (\\N{HANGUL SYLLABLE CA}) missing from font(s) DejaVu Sans.\n",
      "  plt.tight_layout()\n",
      "findfont: Font family 'NanumGothic' not found.\n",
      "findfont: Font family 'NanumGothic' not found.\n",
      "findfont: Font family 'NanumGothic' not found.\n",
      "findfont: Font family 'NanumGothic' not found.\n",
      "findfont: Font family 'NanumGothic' not found.\n",
      "findfont: Font family 'NanumGothic' not found.\n",
      "findfont: Font family 'NanumGothic' not found.\n",
      "findfont: Font family 'NanumGothic' not found.\n",
      "findfont: Font family 'NanumGothic' not found.\n",
      "findfont: Font family 'NanumGothic' not found.\n",
      "findfont: Font family 'NanumGothic' not found.\n",
      "findfont: Font family 'NanumGothic' not found.\n",
      "findfont: Font family 'NanumGothic' not found.\n",
      "/tmp/ipykernel_284/2587958765.py:10: UserWarning: Glyph 45216 (\\N{HANGUL SYLLABLE NAL}) missing from font(s) DejaVu Sans.\n",
      "  plt.savefig(path, format=fig_extension, dpi=resolution)\n",
      "/tmp/ipykernel_284/2587958765.py:10: UserWarning: Glyph 51676 (\\N{HANGUL SYLLABLE JJA}) missing from font(s) DejaVu Sans.\n",
      "  plt.savefig(path, format=fig_extension, dpi=resolution)\n",
      "findfont: Font family 'NanumGothic' not found.\n",
      "findfont: Font family 'NanumGothic' not found.\n",
      "findfont: Font family 'NanumGothic' not found.\n",
      "findfont: Font family 'NanumGothic' not found.\n",
      "findfont: Font family 'NanumGothic' not found.\n",
      "findfont: Font family 'NanumGothic' not found.\n",
      "findfont: Font family 'NanumGothic' not found.\n",
      "findfont: Font family 'NanumGothic' not found.\n",
      "findfont: Font family 'NanumGothic' not found.\n",
      "/tmp/ipykernel_284/2587958765.py:10: UserWarning: Glyph 48260 (\\N{HANGUL SYLLABLE BEO}) missing from font(s) DejaVu Sans.\n",
      "  plt.savefig(path, format=fig_extension, dpi=resolution)\n",
      "/tmp/ipykernel_284/2587958765.py:10: UserWarning: Glyph 49828 (\\N{HANGUL SYLLABLE SEU}) missing from font(s) DejaVu Sans.\n",
      "  plt.savefig(path, format=fig_extension, dpi=resolution)\n",
      "findfont: Font family 'NanumGothic' not found.\n",
      "findfont: Font family 'NanumGothic' not found.\n",
      "/tmp/ipykernel_284/2587958765.py:10: UserWarning: Glyph 50676 (\\N{HANGUL SYLLABLE YEOL}) missing from font(s) DejaVu Sans.\n",
      "  plt.savefig(path, format=fig_extension, dpi=resolution)\n",
      "/tmp/ipykernel_284/2587958765.py:10: UserWarning: Glyph 52264 (\\N{HANGUL SYLLABLE CA}) missing from font(s) DejaVu Sans.\n",
      "  plt.savefig(path, format=fig_extension, dpi=resolution)\n",
      "findfont: Font family 'NanumGothic' not found.\n",
      "findfont: Font family 'NanumGothic' not found.\n",
      "findfont: Font family 'NanumGothic' not found.\n",
      "findfont: Font family 'NanumGothic' not found.\n",
      "findfont: Font family 'NanumGothic' not found.\n",
      "findfont: Font family 'NanumGothic' not found.\n",
      "findfont: Font family 'NanumGothic' not found.\n",
      "findfont: Font family 'NanumGothic' not found.\n",
      "findfont: Font family 'NanumGothic' not found.\n",
      "findfont: Font family 'NanumGothic' not found.\n",
      "findfont: Font family 'NanumGothic' not found.\n",
      "findfont: Font family 'NanumGothic' not found.\n",
      "findfont: Font family 'NanumGothic' not found.\n",
      "findfont: Font family 'NanumGothic' not found.\n",
      "findfont: Font family 'NanumGothic' not found.\n",
      "findfont: Font family 'NanumGothic' not found.\n",
      "findfont: Font family 'NanumGothic' not found.\n",
      "findfont: Font family 'NanumGothic' not found.\n",
      "findfont: Font family 'NanumGothic' not found.\n",
      "/tmp/ipykernel_284/2587958765.py:10: UserWarning: Glyph 45216 (\\N{HANGUL SYLLABLE NAL}) missing from font(s) DejaVu Sans.\n",
      "  plt.savefig(path, format=fig_extension, dpi=resolution)\n",
      "/tmp/ipykernel_284/2587958765.py:10: UserWarning: Glyph 51676 (\\N{HANGUL SYLLABLE JJA}) missing from font(s) DejaVu Sans.\n",
      "  plt.savefig(path, format=fig_extension, dpi=resolution)\n",
      "findfont: Font family 'NanumGothic' not found.\n",
      "findfont: Font family 'NanumGothic' not found.\n",
      "findfont: Font family 'NanumGothic' not found.\n",
      "findfont: Font family 'NanumGothic' not found.\n",
      "findfont: Font family 'NanumGothic' not found.\n",
      "findfont: Font family 'NanumGothic' not found.\n",
      "findfont: Font family 'NanumGothic' not found.\n",
      "findfont: Font family 'NanumGothic' not found.\n",
      "findfont: Font family 'NanumGothic' not found.\n",
      "findfont: Font family 'NanumGothic' not found.\n",
      "findfont: Font family 'NanumGothic' not found.\n",
      "findfont: Font family 'NanumGothic' not found.\n",
      "findfont: Font family 'NanumGothic' not found.\n",
      "findfont: Font family 'NanumGothic' not found.\n",
      "findfont: Font family 'NanumGothic' not found.\n",
      "findfont: Font family 'NanumGothic' not found.\n",
      "findfont: Font family 'NanumGothic' not found.\n",
      "/tmp/ipykernel_284/2587958765.py:10: UserWarning: Glyph 48260 (\\N{HANGUL SYLLABLE BEO}) missing from font(s) DejaVu Sans.\n",
      "  plt.savefig(path, format=fig_extension, dpi=resolution)\n",
      "/tmp/ipykernel_284/2587958765.py:10: UserWarning: Glyph 49828 (\\N{HANGUL SYLLABLE SEU}) missing from font(s) DejaVu Sans.\n",
      "  plt.savefig(path, format=fig_extension, dpi=resolution)\n",
      "findfont: Font family 'NanumGothic' not found.\n",
      "findfont: Font family 'NanumGothic' not found.\n",
      "/tmp/ipykernel_284/2587958765.py:10: UserWarning: Glyph 50676 (\\N{HANGUL SYLLABLE YEOL}) missing from font(s) DejaVu Sans.\n",
      "  plt.savefig(path, format=fig_extension, dpi=resolution)\n",
      "/tmp/ipykernel_284/2587958765.py:10: UserWarning: Glyph 52264 (\\N{HANGUL SYLLABLE CA}) missing from font(s) DejaVu Sans.\n",
      "  plt.savefig(path, format=fig_extension, dpi=resolution)\n",
      "findfont: Font family 'NanumGothic' not found.\n",
      "findfont: Font family 'NanumGothic' not found.\n",
      "findfont: Font family 'NanumGothic' not found.\n",
      "findfont: Font family 'NanumGothic' not found.\n",
      "findfont: Font family 'NanumGothic' not found.\n",
      "findfont: Font family 'NanumGothic' not found.\n",
      "findfont: Font family 'NanumGothic' not found.\n",
      "findfont: Font family 'NanumGothic' not found.\n",
      "findfont: Font family 'NanumGothic' not found.\n",
      "findfont: Font family 'NanumGothic' not found.\n",
      "findfont: Font family 'NanumGothic' not found.\n",
      "findfont: Font family 'NanumGothic' not found.\n",
      "findfont: Font family 'NanumGothic' not found.\n",
      "findfont: Font family 'NanumGothic' not found.\n",
      "findfont: Font family 'NanumGothic' not found.\n",
      "findfont: Font family 'NanumGothic' not found.\n",
      "findfont: Font family 'NanumGothic' not found.\n",
      "findfont: Font family 'NanumGothic' not found.\n",
      "findfont: Font family 'NanumGothic' not found.\n",
      "findfont: Font family 'NanumGothic' not found.\n",
      "findfont: Font family 'NanumGothic' not found.\n",
      "findfont: Font family 'NanumGothic' not found.\n",
      "findfont: Font family 'NanumGothic' not found.\n",
      "/tmp/ipykernel_284/2587958765.py:10: UserWarning: Glyph 45216 (\\N{HANGUL SYLLABLE NAL}) missing from font(s) DejaVu Sans.\n",
      "  plt.savefig(path, format=fig_extension, dpi=resolution)\n",
      "/tmp/ipykernel_284/2587958765.py:10: UserWarning: Glyph 51676 (\\N{HANGUL SYLLABLE JJA}) missing from font(s) DejaVu Sans.\n",
      "  plt.savefig(path, format=fig_extension, dpi=resolution)\n",
      "findfont: Font family 'NanumGothic' not found.\n",
      "findfont: Font family 'NanumGothic' not found.\n",
      "findfont: Font family 'NanumGothic' not found.\n",
      "findfont: Font family 'NanumGothic' not found.\n",
      "findfont: Font family 'NanumGothic' not found.\n",
      "findfont: Font family 'NanumGothic' not found.\n",
      "findfont: Font family 'NanumGothic' not found.\n",
      "findfont: Font family 'NanumGothic' not found.\n",
      "findfont: Font family 'NanumGothic' not found.\n",
      "findfont: Font family 'NanumGothic' not found.\n",
      "findfont: Font family 'NanumGothic' not found.\n",
      "findfont: Font family 'NanumGothic' not found.\n",
      "findfont: Font family 'NanumGothic' not found.\n",
      "findfont: Font family 'NanumGothic' not found.\n",
      "findfont: Font family 'NanumGothic' not found.\n",
      "findfont: Font family 'NanumGothic' not found.\n",
      "findfont: Font family 'NanumGothic' not found.\n",
      "/tmp/ipykernel_284/2587958765.py:10: UserWarning: Glyph 48260 (\\N{HANGUL SYLLABLE BEO}) missing from font(s) DejaVu Sans.\n",
      "  plt.savefig(path, format=fig_extension, dpi=resolution)\n",
      "/tmp/ipykernel_284/2587958765.py:10: UserWarning: Glyph 49828 (\\N{HANGUL SYLLABLE SEU}) missing from font(s) DejaVu Sans.\n",
      "  plt.savefig(path, format=fig_extension, dpi=resolution)\n",
      "findfont: Font family 'NanumGothic' not found.\n",
      "findfont: Font family 'NanumGothic' not found.\n",
      "/tmp/ipykernel_284/2587958765.py:10: UserWarning: Glyph 50676 (\\N{HANGUL SYLLABLE YEOL}) missing from font(s) DejaVu Sans.\n",
      "  plt.savefig(path, format=fig_extension, dpi=resolution)\n",
      "/tmp/ipykernel_284/2587958765.py:10: UserWarning: Glyph 52264 (\\N{HANGUL SYLLABLE CA}) missing from font(s) DejaVu Sans.\n",
      "  plt.savefig(path, format=fig_extension, dpi=resolution)\n",
      "findfont: Font family 'NanumGothic' not found.\n",
      "findfont: Font family 'NanumGothic' not found.\n",
      "findfont: Font family 'NanumGothic' not found.\n",
      "findfont: Font family 'NanumGothic' not found.\n",
      "findfont: Font family 'NanumGothic' not found.\n",
      "findfont: Font family 'NanumGothic' not found.\n",
      "findfont: Font family 'NanumGothic' not found.\n",
      "findfont: Font family 'NanumGothic' not found.\n",
      "findfont: Font family 'NanumGothic' not found.\n",
      "findfont: Font family 'NanumGothic' not found.\n",
      "findfont: Font family 'NanumGothic' not found.\n",
      "findfont: Font family 'NanumGothic' not found.\n",
      "findfont: Font family 'NanumGothic' not found.\n",
      "findfont: Font family 'NanumGothic' not found.\n",
      "findfont: Font family 'NanumGothic' not found.\n",
      "findfont: Font family 'NanumGothic' not found.\n",
      "findfont: Font family 'NanumGothic' not found.\n",
      "findfont: Font family 'NanumGothic' not found.\n",
      "findfont: Font family 'NanumGothic' not found.\n",
      "findfont: Font family 'NanumGothic' not found.\n",
      "findfont: Font family 'NanumGothic' not found.\n",
      "findfont: Font family 'NanumGothic' not found.\n",
      "findfont: Font family 'NanumGothic' not found.\n",
      "findfont: Font family 'NanumGothic' not found.\n",
      "findfont: Font family 'NanumGothic' not found.\n",
      "findfont: Font family 'NanumGothic' not found.\n",
      "findfont: Font family 'NanumGothic' not found.\n",
      "findfont: Font family 'NanumGothic' not found.\n",
      "findfont: Font family 'NanumGothic' not found.\n",
      "findfont: Font family 'NanumGothic' not found.\n",
      "findfont: Font family 'NanumGothic' not found.\n",
      "findfont: Font family 'NanumGothic' not found.\n",
      "findfont: Font family 'NanumGothic' not found.\n",
      "findfont: Font family 'NanumGothic' not found.\n",
      "findfont: Font family 'NanumGothic' not found.\n",
      "findfont: Font family 'NanumGothic' not found.\n",
      "findfont: Font family 'NanumGothic' not found.\n",
      "findfont: Font family 'NanumGothic' not found.\n",
      "findfont: Font family 'NanumGothic' not found.\n",
      "findfont: Font family 'NanumGothic' not found.\n",
      "findfont: Font family 'NanumGothic' not found.\n",
      "findfont: Font family 'NanumGothic' not found.\n",
      "findfont: Font family 'NanumGothic' not found.\n",
      "findfont: Font family 'NanumGothic' not found.\n",
      "findfont: Font family 'NanumGothic' not found.\n",
      "/opt/venv/py310/lib/python3.10/site-packages/IPython/core/pylabtools.py:170: UserWarning: Glyph 45216 (\\N{HANGUL SYLLABLE NAL}) missing from font(s) DejaVu Sans.\n",
      "  fig.canvas.print_figure(bytes_io, **kw)\n",
      "/opt/venv/py310/lib/python3.10/site-packages/IPython/core/pylabtools.py:170: UserWarning: Glyph 51676 (\\N{HANGUL SYLLABLE JJA}) missing from font(s) DejaVu Sans.\n",
      "  fig.canvas.print_figure(bytes_io, **kw)\n",
      "findfont: Font family 'NanumGothic' not found.\n",
      "findfont: Font family 'NanumGothic' not found.\n",
      "findfont: Font family 'NanumGothic' not found.\n",
      "findfont: Font family 'NanumGothic' not found.\n",
      "findfont: Font family 'NanumGothic' not found.\n",
      "findfont: Font family 'NanumGothic' not found.\n",
      "findfont: Font family 'NanumGothic' not found.\n",
      "findfont: Font family 'NanumGothic' not found.\n",
      "findfont: Font family 'NanumGothic' not found.\n",
      "findfont: Font family 'NanumGothic' not found.\n",
      "findfont: Font family 'NanumGothic' not found.\n",
      "findfont: Font family 'NanumGothic' not found.\n",
      "findfont: Font family 'NanumGothic' not found.\n",
      "findfont: Font family 'NanumGothic' not found.\n",
      "findfont: Font family 'NanumGothic' not found.\n",
      "findfont: Font family 'NanumGothic' not found.\n",
      "findfont: Font family 'NanumGothic' not found.\n",
      "/opt/venv/py310/lib/python3.10/site-packages/IPython/core/pylabtools.py:170: UserWarning: Glyph 48260 (\\N{HANGUL SYLLABLE BEO}) missing from font(s) DejaVu Sans.\n",
      "  fig.canvas.print_figure(bytes_io, **kw)\n",
      "/opt/venv/py310/lib/python3.10/site-packages/IPython/core/pylabtools.py:170: UserWarning: Glyph 49828 (\\N{HANGUL SYLLABLE SEU}) missing from font(s) DejaVu Sans.\n",
      "  fig.canvas.print_figure(bytes_io, **kw)\n",
      "findfont: Font family 'NanumGothic' not found.\n",
      "findfont: Font family 'NanumGothic' not found.\n",
      "/opt/venv/py310/lib/python3.10/site-packages/IPython/core/pylabtools.py:170: UserWarning: Glyph 50676 (\\N{HANGUL SYLLABLE YEOL}) missing from font(s) DejaVu Sans.\n",
      "  fig.canvas.print_figure(bytes_io, **kw)\n",
      "/opt/venv/py310/lib/python3.10/site-packages/IPython/core/pylabtools.py:170: UserWarning: Glyph 52264 (\\N{HANGUL SYLLABLE CA}) missing from font(s) DejaVu Sans.\n",
      "  fig.canvas.print_figure(bytes_io, **kw)\n",
      "findfont: Font family 'NanumGothic' not found.\n",
      "findfont: Font family 'NanumGothic' not found.\n",
      "findfont: Font family 'NanumGothic' not found.\n",
      "findfont: Font family 'NanumGothic' not found.\n",
      "findfont: Font family 'NanumGothic' not found.\n",
      "findfont: Font family 'NanumGothic' not found.\n",
      "findfont: Font family 'NanumGothic' not found.\n",
      "findfont: Font family 'NanumGothic' not found.\n",
      "findfont: Font family 'NanumGothic' not found.\n",
      "findfont: Font family 'NanumGothic' not found.\n"
     ]
    },
    {
     "data": {
      "image/png": "[encoded data removed]",
      "text/plain": [
       "<Figure size 800x400 with 1 Axes>"
      ]
     },
     "metadata": {},
     "output_type": "display_data"
    }
   ],
   "source": [
    "period = slice(\"2001\", \"2019\")\n",
    "df_monthly = df.resample('M').mean(numeric_only=True)  # 월별 평균을 계산합니다.\n",
    "rolling_average_12_months = df_monthly[period].rolling(window=12).mean()\n",
    "\n",
    "fig, ax = plt.subplots(figsize=(8, 4))\n",
    "df_monthly[period].plot(ax=ax, marker=\".\")\n",
    "rolling_average_12_months.plot(ax=ax, grid=True, legend=False)\n",
    "ax.legend([\"버스\", \"열차\"]);\n",
    "ax.set_xlabel('날짜')\n",
    "save_fig(\"long_term_ridership_plot\")  # 추가 코드 - 책의 그림을 저장합니다.\n",
    "plt.show()"
   ]
  },
  {
   "cell_type": "markdown",
   "metadata": {
    "id": "fL2jb5F16ll5"
   },
   "source": [
    "- 12개월의 차분도 그려서 자기상관성을 확인한다.\n",
    "  - 열차가 버스보다 자기 상관성이 큰것을 볼수 있음"
   ]
  },
  {
   "cell_type": "code",
   "execution_count": 15,
   "metadata": {
    "colab": {
     "base_uri": "https://localhost:8080/",
     "height": 295
    },
    "executionInfo": {
     "elapsed": 1888,
     "status": "ok",
     "timestamp": 1728642682541,
     "user": {
      "displayName": "WOOSEOK JEONG",
      "userId": "01703662546986869335"
     },
     "user_tz": -540
    },
    "id": "xyDaWVz49i4_",
    "outputId": "95afd121-0bff-4be6-cf86-3a9eef30f24e"
   },
   "outputs": [
    {
     "name": "stderr",
     "output_type": "stream",
     "text": [
      "findfont: Font family 'NanumGothic' not found.\n",
      "findfont: Font family 'NanumGothic' not found.\n",
      "findfont: Font family 'NanumGothic' not found.\n",
      "findfont: Font family 'NanumGothic' not found.\n",
      "findfont: Font family 'NanumGothic' not found.\n",
      "findfont: Font family 'NanumGothic' not found.\n",
      "findfont: Font family 'NanumGothic' not found.\n",
      "findfont: Font family 'NanumGothic' not found.\n",
      "findfont: Font family 'NanumGothic' not found.\n",
      "findfont: Font family 'NanumGothic' not found.\n",
      "findfont: Font family 'NanumGothic' not found.\n",
      "findfont: Font family 'NanumGothic' not found.\n",
      "findfont: Font family 'NanumGothic' not found.\n",
      "/tmp/ipykernel_284/2587958765.py:9: UserWarning: Glyph 45216 (\\N{HANGUL SYLLABLE NAL}) missing from font(s) DejaVu Sans.\n",
      "  plt.tight_layout()\n",
      "/tmp/ipykernel_284/2587958765.py:9: UserWarning: Glyph 51676 (\\N{HANGUL SYLLABLE JJA}) missing from font(s) DejaVu Sans.\n",
      "  plt.tight_layout()\n",
      "findfont: Font family 'NanumGothic' not found.\n",
      "findfont: Font family 'NanumGothic' not found.\n",
      "findfont: Font family 'NanumGothic' not found.\n",
      "findfont: Font family 'NanumGothic' not found.\n",
      "findfont: Font family 'NanumGothic' not found.\n",
      "findfont: Font family 'NanumGothic' not found.\n",
      "findfont: Font family 'NanumGothic' not found.\n",
      "/tmp/ipykernel_284/2587958765.py:9: UserWarning: Glyph 48260 (\\N{HANGUL SYLLABLE BEO}) missing from font(s) DejaVu Sans.\n",
      "  plt.tight_layout()\n",
      "/tmp/ipykernel_284/2587958765.py:9: UserWarning: Glyph 49828 (\\N{HANGUL SYLLABLE SEU}) missing from font(s) DejaVu Sans.\n",
      "  plt.tight_layout()\n",
      "findfont: Font family 'NanumGothic' not found.\n",
      "findfont: Font family 'NanumGothic' not found.\n",
      "/tmp/ipykernel_284/2587958765.py:9: UserWarning: Glyph 50676 (\\N{HANGUL SYLLABLE YEOL}) missing from font(s) DejaVu Sans.\n",
      "  plt.tight_layout()\n",
      "/tmp/ipykernel_284/2587958765.py:9: UserWarning: Glyph 52264 (\\N{HANGUL SYLLABLE CA}) missing from font(s) DejaVu Sans.\n",
      "  plt.tight_layout()\n",
      "findfont: Font family 'NanumGothic' not found.\n",
      "findfont: Font family 'NanumGothic' not found.\n",
      "findfont: Font family 'NanumGothic' not found.\n",
      "findfont: Font family 'NanumGothic' not found.\n",
      "findfont: Font family 'NanumGothic' not found.\n",
      "findfont: Font family 'NanumGothic' not found.\n",
      "findfont: Font family 'NanumGothic' not found.\n",
      "findfont: Font family 'NanumGothic' not found.\n",
      "findfont: Font family 'NanumGothic' not found.\n",
      "findfont: Font family 'NanumGothic' not found.\n",
      "findfont: Font family 'NanumGothic' not found.\n",
      "findfont: Font family 'NanumGothic' not found.\n",
      "findfont: Font family 'NanumGothic' not found.\n",
      "/tmp/ipykernel_284/2587958765.py:10: UserWarning: Glyph 45216 (\\N{HANGUL SYLLABLE NAL}) missing from font(s) DejaVu Sans.\n",
      "  plt.savefig(path, format=fig_extension, dpi=resolution)\n",
      "/tmp/ipykernel_284/2587958765.py:10: UserWarning: Glyph 51676 (\\N{HANGUL SYLLABLE JJA}) missing from font(s) DejaVu Sans.\n",
      "  plt.savefig(path, format=fig_extension, dpi=resolution)\n",
      "findfont: Font family 'NanumGothic' not found.\n",
      "findfont: Font family 'NanumGothic' not found.\n",
      "findfont: Font family 'NanumGothic' not found.\n",
      "findfont: Font family 'NanumGothic' not found.\n",
      "findfont: Font family 'NanumGothic' not found.\n",
      "findfont: Font family 'NanumGothic' not found.\n",
      "findfont: Font family 'NanumGothic' not found.\n",
      "/tmp/ipykernel_284/2587958765.py:10: UserWarning: Glyph 48260 (\\N{HANGUL SYLLABLE BEO}) missing from font(s) DejaVu Sans.\n",
      "  plt.savefig(path, format=fig_extension, dpi=resolution)\n",
      "/tmp/ipykernel_284/2587958765.py:10: UserWarning: Glyph 49828 (\\N{HANGUL SYLLABLE SEU}) missing from font(s) DejaVu Sans.\n",
      "  plt.savefig(path, format=fig_extension, dpi=resolution)\n",
      "findfont: Font family 'NanumGothic' not found.\n",
      "findfont: Font family 'NanumGothic' not found.\n",
      "/tmp/ipykernel_284/2587958765.py:10: UserWarning: Glyph 50676 (\\N{HANGUL SYLLABLE YEOL}) missing from font(s) DejaVu Sans.\n",
      "  plt.savefig(path, format=fig_extension, dpi=resolution)\n",
      "/tmp/ipykernel_284/2587958765.py:10: UserWarning: Glyph 52264 (\\N{HANGUL SYLLABLE CA}) missing from font(s) DejaVu Sans.\n",
      "  plt.savefig(path, format=fig_extension, dpi=resolution)\n",
      "findfont: Font family 'NanumGothic' not found.\n",
      "findfont: Font family 'NanumGothic' not found.\n",
      "findfont: Font family 'NanumGothic' not found.\n",
      "findfont: Font family 'NanumGothic' not found.\n",
      "findfont: Font family 'NanumGothic' not found.\n",
      "findfont: Font family 'NanumGothic' not found.\n",
      "findfont: Font family 'NanumGothic' not found.\n",
      "findfont: Font family 'NanumGothic' not found.\n",
      "findfont: Font family 'NanumGothic' not found.\n",
      "findfont: Font family 'NanumGothic' not found.\n",
      "findfont: Font family 'NanumGothic' not found.\n",
      "findfont: Font family 'NanumGothic' not found.\n",
      "findfont: Font family 'NanumGothic' not found.\n",
      "findfont: Font family 'NanumGothic' not found.\n",
      "findfont: Font family 'NanumGothic' not found.\n",
      "findfont: Font family 'NanumGothic' not found.\n",
      "findfont: Font family 'NanumGothic' not found.\n",
      "findfont: Font family 'NanumGothic' not found.\n",
      "findfont: Font family 'NanumGothic' not found.\n",
      "/tmp/ipykernel_284/2587958765.py:10: UserWarning: Glyph 45216 (\\N{HANGUL SYLLABLE NAL}) missing from font(s) DejaVu Sans.\n",
      "  plt.savefig(path, format=fig_extension, dpi=resolution)\n",
      "/tmp/ipykernel_284/2587958765.py:10: UserWarning: Glyph 51676 (\\N{HANGUL SYLLABLE JJA}) missing from font(s) DejaVu Sans.\n",
      "  plt.savefig(path, format=fig_extension, dpi=resolution)\n",
      "findfont: Font family 'NanumGothic' not found.\n",
      "findfont: Font family 'NanumGothic' not found.\n",
      "findfont: Font family 'NanumGothic' not found.\n",
      "findfont: Font family 'NanumGothic' not found.\n",
      "findfont: Font family 'NanumGothic' not found.\n",
      "findfont: Font family 'NanumGothic' not found.\n",
      "findfont: Font family 'NanumGothic' not found.\n",
      "findfont: Font family 'NanumGothic' not found.\n",
      "findfont: Font family 'NanumGothic' not found.\n",
      "findfont: Font family 'NanumGothic' not found.\n",
      "findfont: Font family 'NanumGothic' not found.\n",
      "findfont: Font family 'NanumGothic' not found.\n",
      "findfont: Font family 'NanumGothic' not found.\n",
      "findfont: Font family 'NanumGothic' not found.\n",
      "findfont: Font family 'NanumGothic' not found.\n",
      "/tmp/ipykernel_284/2587958765.py:10: UserWarning: Glyph 48260 (\\N{HANGUL SYLLABLE BEO}) missing from font(s) DejaVu Sans.\n",
      "  plt.savefig(path, format=fig_extension, dpi=resolution)\n",
      "/tmp/ipykernel_284/2587958765.py:10: UserWarning: Glyph 49828 (\\N{HANGUL SYLLABLE SEU}) missing from font(s) DejaVu Sans.\n",
      "  plt.savefig(path, format=fig_extension, dpi=resolution)\n",
      "findfont: Font family 'NanumGothic' not found.\n",
      "findfont: Font family 'NanumGothic' not found.\n",
      "/tmp/ipykernel_284/2587958765.py:10: UserWarning: Glyph 50676 (\\N{HANGUL SYLLABLE YEOL}) missing from font(s) DejaVu Sans.\n",
      "  plt.savefig(path, format=fig_extension, dpi=resolution)\n",
      "/tmp/ipykernel_284/2587958765.py:10: UserWarning: Glyph 52264 (\\N{HANGUL SYLLABLE CA}) missing from font(s) DejaVu Sans.\n",
      "  plt.savefig(path, format=fig_extension, dpi=resolution)\n",
      "findfont: Font family 'NanumGothic' not found.\n",
      "findfont: Font family 'NanumGothic' not found.\n",
      "findfont: Font family 'NanumGothic' not found.\n",
      "findfont: Font family 'NanumGothic' not found.\n",
      "findfont: Font family 'NanumGothic' not found.\n",
      "findfont: Font family 'NanumGothic' not found.\n",
      "findfont: Font family 'NanumGothic' not found.\n",
      "findfont: Font family 'NanumGothic' not found.\n",
      "findfont: Font family 'NanumGothic' not found.\n",
      "findfont: Font family 'NanumGothic' not found.\n",
      "findfont: Font family 'NanumGothic' not found.\n",
      "findfont: Font family 'NanumGothic' not found.\n",
      "findfont: Font family 'NanumGothic' not found.\n",
      "findfont: Font family 'NanumGothic' not found.\n",
      "findfont: Font family 'NanumGothic' not found.\n",
      "findfont: Font family 'NanumGothic' not found.\n",
      "findfont: Font family 'NanumGothic' not found.\n",
      "findfont: Font family 'NanumGothic' not found.\n",
      "findfont: Font family 'NanumGothic' not found.\n",
      "findfont: Font family 'NanumGothic' not found.\n",
      "findfont: Font family 'NanumGothic' not found.\n",
      "findfont: Font family 'NanumGothic' not found.\n",
      "findfont: Font family 'NanumGothic' not found.\n",
      "/tmp/ipykernel_284/2587958765.py:10: UserWarning: Glyph 45216 (\\N{HANGUL SYLLABLE NAL}) missing from font(s) DejaVu Sans.\n",
      "  plt.savefig(path, format=fig_extension, dpi=resolution)\n",
      "/tmp/ipykernel_284/2587958765.py:10: UserWarning: Glyph 51676 (\\N{HANGUL SYLLABLE JJA}) missing from font(s) DejaVu Sans.\n",
      "  plt.savefig(path, format=fig_extension, dpi=resolution)\n",
      "findfont: Font family 'NanumGothic' not found.\n",
      "findfont: Font family 'NanumGothic' not found.\n",
      "findfont: Font family 'NanumGothic' not found.\n",
      "findfont: Font family 'NanumGothic' not found.\n",
      "findfont: Font family 'NanumGothic' not found.\n",
      "findfont: Font family 'NanumGothic' not found.\n",
      "findfont: Font family 'NanumGothic' not found.\n",
      "findfont: Font family 'NanumGothic' not found.\n",
      "findfont: Font family 'NanumGothic' not found.\n",
      "findfont: Font family 'NanumGothic' not found.\n",
      "findfont: Font family 'NanumGothic' not found.\n",
      "findfont: Font family 'NanumGothic' not found.\n",
      "findfont: Font family 'NanumGothic' not found.\n",
      "/tmp/ipykernel_284/2587958765.py:10: UserWarning: Glyph 48260 (\\N{HANGUL SYLLABLE BEO}) missing from font(s) DejaVu Sans.\n",
      "  plt.savefig(path, format=fig_extension, dpi=resolution)\n",
      "/tmp/ipykernel_284/2587958765.py:10: UserWarning: Glyph 49828 (\\N{HANGUL SYLLABLE SEU}) missing from font(s) DejaVu Sans.\n",
      "  plt.savefig(path, format=fig_extension, dpi=resolution)\n",
      "findfont: Font family 'NanumGothic' not found.\n",
      "findfont: Font family 'NanumGothic' not found.\n",
      "/tmp/ipykernel_284/2587958765.py:10: UserWarning: Glyph 50676 (\\N{HANGUL SYLLABLE YEOL}) missing from font(s) DejaVu Sans.\n",
      "  plt.savefig(path, format=fig_extension, dpi=resolution)\n",
      "/tmp/ipykernel_284/2587958765.py:10: UserWarning: Glyph 52264 (\\N{HANGUL SYLLABLE CA}) missing from font(s) DejaVu Sans.\n",
      "  plt.savefig(path, format=fig_extension, dpi=resolution)\n",
      "findfont: Font family 'NanumGothic' not found.\n",
      "findfont: Font family 'NanumGothic' not found.\n",
      "findfont: Font family 'NanumGothic' not found.\n",
      "findfont: Font family 'NanumGothic' not found.\n",
      "findfont: Font family 'NanumGothic' not found.\n",
      "findfont: Font family 'NanumGothic' not found.\n",
      "findfont: Font family 'NanumGothic' not found.\n",
      "findfont: Font family 'NanumGothic' not found.\n",
      "findfont: Font family 'NanumGothic' not found.\n",
      "findfont: Font family 'NanumGothic' not found.\n",
      "findfont: Font family 'NanumGothic' not found.\n",
      "findfont: Font family 'NanumGothic' not found.\n",
      "findfont: Font family 'NanumGothic' not found.\n",
      "findfont: Font family 'NanumGothic' not found.\n",
      "findfont: Font family 'NanumGothic' not found.\n",
      "findfont: Font family 'NanumGothic' not found.\n",
      "findfont: Font family 'NanumGothic' not found.\n",
      "findfont: Font family 'NanumGothic' not found.\n",
      "findfont: Font family 'NanumGothic' not found.\n",
      "findfont: Font family 'NanumGothic' not found.\n",
      "findfont: Font family 'NanumGothic' not found.\n",
      "findfont: Font family 'NanumGothic' not found.\n",
      "findfont: Font family 'NanumGothic' not found.\n",
      "findfont: Font family 'NanumGothic' not found.\n",
      "findfont: Font family 'NanumGothic' not found.\n",
      "findfont: Font family 'NanumGothic' not found.\n",
      "findfont: Font family 'NanumGothic' not found.\n",
      "findfont: Font family 'NanumGothic' not found.\n",
      "findfont: Font family 'NanumGothic' not found.\n",
      "findfont: Font family 'NanumGothic' not found.\n",
      "findfont: Font family 'NanumGothic' not found.\n",
      "findfont: Font family 'NanumGothic' not found.\n",
      "findfont: Font family 'NanumGothic' not found.\n",
      "findfont: Font family 'NanumGothic' not found.\n",
      "findfont: Font family 'NanumGothic' not found.\n",
      "findfont: Font family 'NanumGothic' not found.\n",
      "findfont: Font family 'NanumGothic' not found.\n",
      "findfont: Font family 'NanumGothic' not found.\n",
      "findfont: Font family 'NanumGothic' not found.\n",
      "findfont: Font family 'NanumGothic' not found.\n",
      "findfont: Font family 'NanumGothic' not found.\n",
      "findfont: Font family 'NanumGothic' not found.\n",
      "findfont: Font family 'NanumGothic' not found.\n",
      "findfont: Font family 'NanumGothic' not found.\n",
      "findfont: Font family 'NanumGothic' not found.\n",
      "/opt/venv/py310/lib/python3.10/site-packages/IPython/core/pylabtools.py:170: UserWarning: Glyph 45216 (\\N{HANGUL SYLLABLE NAL}) missing from font(s) DejaVu Sans.\n",
      "  fig.canvas.print_figure(bytes_io, **kw)\n",
      "/opt/venv/py310/lib/python3.10/site-packages/IPython/core/pylabtools.py:170: UserWarning: Glyph 51676 (\\N{HANGUL SYLLABLE JJA}) missing from font(s) DejaVu Sans.\n",
      "  fig.canvas.print_figure(bytes_io, **kw)\n",
      "findfont: Font family 'NanumGothic' not found.\n",
      "findfont: Font family 'NanumGothic' not found.\n",
      "findfont: Font family 'NanumGothic' not found.\n",
      "findfont: Font family 'NanumGothic' not found.\n",
      "findfont: Font family 'NanumGothic' not found.\n",
      "findfont: Font family 'NanumGothic' not found.\n",
      "findfont: Font family 'NanumGothic' not found.\n",
      "findfont: Font family 'NanumGothic' not found.\n",
      "findfont: Font family 'NanumGothic' not found.\n",
      "findfont: Font family 'NanumGothic' not found.\n",
      "findfont: Font family 'NanumGothic' not found.\n",
      "findfont: Font family 'NanumGothic' not found.\n",
      "findfont: Font family 'NanumGothic' not found.\n",
      "/opt/venv/py310/lib/python3.10/site-packages/IPython/core/pylabtools.py:170: UserWarning: Glyph 48260 (\\N{HANGUL SYLLABLE BEO}) missing from font(s) DejaVu Sans.\n",
      "  fig.canvas.print_figure(bytes_io, **kw)\n",
      "/opt/venv/py310/lib/python3.10/site-packages/IPython/core/pylabtools.py:170: UserWarning: Glyph 49828 (\\N{HANGUL SYLLABLE SEU}) missing from font(s) DejaVu Sans.\n",
      "  fig.canvas.print_figure(bytes_io, **kw)\n",
      "findfont: Font family 'NanumGothic' not found.\n",
      "findfont: Font family 'NanumGothic' not found.\n",
      "/opt/venv/py310/lib/python3.10/site-packages/IPython/core/pylabtools.py:170: UserWarning: Glyph 50676 (\\N{HANGUL SYLLABLE YEOL}) missing from font(s) DejaVu Sans.\n",
      "  fig.canvas.print_figure(bytes_io, **kw)\n",
      "/opt/venv/py310/lib/python3.10/site-packages/IPython/core/pylabtools.py:170: UserWarning: Glyph 52264 (\\N{HANGUL SYLLABLE CA}) missing from font(s) DejaVu Sans.\n",
      "  fig.canvas.print_figure(bytes_io, **kw)\n",
      "findfont: Font family 'NanumGothic' not found.\n",
      "findfont: Font family 'NanumGothic' not found.\n",
      "findfont: Font family 'NanumGothic' not found.\n",
      "findfont: Font family 'NanumGothic' not found.\n",
      "findfont: Font family 'NanumGothic' not found.\n",
      "findfont: Font family 'NanumGothic' not found.\n",
      "findfont: Font family 'NanumGothic' not found.\n",
      "findfont: Font family 'NanumGothic' not found.\n",
      "findfont: Font family 'NanumGothic' not found.\n",
      "findfont: Font family 'NanumGothic' not found.\n"
     ]
    },
    {
     "data": {
      "image/png": "[encoded data removed]",
      "text/plain": [
       "<Figure size 800x300 with 1 Axes>"
      ]
     },
     "metadata": {},
     "output_type": "display_data"
    }
   ],
   "source": [
    "df_monthly.diff(12)[period].plot(grid=True, marker=\".\", figsize=(8, 3))\n",
    "plt.legend([\"버스\", \"열차\"])\n",
    "plt.xlabel(\"날짜\")\n",
    "save_fig(\"yearly_diff_plot\")  # 추가 코드 - 책의 그림을 저장합니다.\n",
    "plt.show()"
   ]
  },
  {
   "cell_type": "markdown",
   "metadata": {
    "id": "bC1SoNy_60vw"
   },
   "source": [
    "- 차분은 연간 계절성을 제거할 뿐만아니라 장기간 트랜드도 없앰.\n",
    "  - 계절성이나 트랜드를 없애는 대표적인 기법임 -> 통계적 속성이 일정한 정상 시계열을 분석하는 것이 더 쉬워짐\n",
    "> 계절성, 트랜드, 차분, 이동평균의 개념"
   ]
  },
  {
   "cell_type": "markdown",
   "metadata": {
    "id": "M3B3SCpSIpMq"
   },
   "source": [
    "## ARMA분석\n",
    "- 자기회귀이동평균(AutoRegressionMovingAverage) : 지연된 값의 간단한 가중치 합을 사용하여 예측을 구하고 이동 평균을 더해서 예측을 수정함\n",
    "<img src=\"https://drive.google.com/uc?id=13hSk2zEefQvSrMkSm1ZVA52zFhEk1gs3\" width=\"300\" height=\"100\">"
   ]
  },
  {
   "cell_type": "markdown",
   "metadata": {
    "id": "FSHNLFwL7x4t"
   },
   "source": [
    "\n",
    "\n",
    "## ARIMA 분석\n",
    "- 자기회귀누적이동평균 (AutoRegressionIntergratedMovingAverage)로 d번의 차분을 수행해 시계열을 정상으로 만들고 일반적 ARMA모델을 적용하여 예측한다음 차분으로 뺐던 값을 다시 더함\n",
    "\n",
    "\n",
    "- Seasonal을 더한 SARIMA모델로 발전, 계절항을 추가로 모델링하여 7개의 하이퍼파라미터를 가짐\n",
    "> 열차시계열에 SARIMA모델을 적용해서 내일의 승객수를 예측해보자."
   ]
  },
  {
   "cell_type": "markdown",
   "metadata": {
    "id": "euGEf9Ih9i4_"
   },
   "source": [
    "Colab에서 실행하는 경우 `statsmodels` 라이브러리를 설치합니다:"
   ]
  },
  {
   "cell_type": "code",
   "execution_count": 16,
   "metadata": {
    "id": "34MnZNRj9i4_"
   },
   "outputs": [],
   "source": [
    "if \"google.colab\" in sys.modules:\n",
    "    %pip install -q -U statsmodels"
   ]
  },
  {
   "cell_type": "code",
   "execution_count": 17,
   "metadata": {
    "id": "LPmzraWY9i4_"
   },
   "outputs": [],
   "source": [
    "'''\n",
    "sarima로 예측해보자\n",
    "'''\n",
    "from statsmodels.tsa.arima.model import ARIMA\n",
    "\n",
    "origin, today = \"2019-01-01\", \"2019-05-31\"\n",
    "rail_series = df.loc[origin:today][\"rail\"].asfreq(\"D\") # 2019년 5월 말까지의 승객데이터 빈도를 일자별로설정\n",
    "model = ARIMA(rail_series,\n",
    "              order=(1, 0, 0),\n",
    "              seasonal_order=(0, 1, 1, 7))\n",
    "model = model.fit()\n",
    "y_pred = model.forecast()  # 427,758.6 반환"
   ]
  },
  {
   "cell_type": "code",
   "execution_count": 18,
   "metadata": {
    "colab": {
     "base_uri": "https://localhost:8080/"
    },
    "executionInfo": {
     "elapsed": 3,
     "status": "ok",
     "timestamp": 1728644667720,
     "user": {
      "displayName": "WOOSEOK JEONG",
      "userId": "01703662546986869335"
     },
     "user_tz": -540
    },
    "id": "H3ZOpuil9i5A",
    "outputId": "1c98383e-2c97-4488-a9ae-daebad49ab89"
   },
   "outputs": [
    {
     "name": "stderr",
     "output_type": "stream",
     "text": [
      "/tmp/ipykernel_284/3717318111.py:1: FutureWarning: Series.__getitem__ treating keys as positions is deprecated. In a future version, integer keys will always be treated as labels (consistent with DataFrame behavior). To access a value by position, use `ser.iloc[pos]`\n",
      "  y_pred[0]  # ARIMA 예측\n"
     ]
    },
    {
     "data": {
      "text/plain": [
       "np.float64(427758.62641035335)"
      ]
     },
     "execution_count": 18,
     "metadata": {},
     "output_type": "execute_result"
    }
   ],
   "source": [
    "y_pred[0]  # ARIMA 예측"
   ]
  },
  {
   "cell_type": "code",
   "execution_count": 19,
   "metadata": {
    "colab": {
     "base_uri": "https://localhost:8080/"
    },
    "executionInfo": {
     "elapsed": 364,
     "status": "ok",
     "timestamp": 1728644672173,
     "user": {
      "displayName": "WOOSEOK JEONG",
      "userId": "01703662546986869335"
     },
     "user_tz": -540
    },
    "id": "Gpn622cY9i5B",
    "outputId": "a229d13d-a40c-47a0-dd7d-a27656aa36cd"
   },
   "outputs": [
    {
     "data": {
      "text/plain": [
       "np.int64(379044)"
      ]
     },
     "execution_count": 19,
     "metadata": {},
     "output_type": "execute_result"
    }
   ],
   "source": [
    "df[\"rail\"].loc[\"2019-06-01\"]  # 타깃 값"
   ]
  },
  {
   "cell_type": "code",
   "execution_count": 20,
   "metadata": {
    "colab": {
     "base_uri": "https://localhost:8080/"
    },
    "executionInfo": {
     "elapsed": 386,
     "status": "ok",
     "timestamp": 1728644673934,
     "user": {
      "displayName": "WOOSEOK JEONG",
      "userId": "01703662546986869335"
     },
     "user_tz": -540
    },
    "id": "Z77JLBDk9i5B",
    "outputId": "85ec8ed8-0b89-4782-acb0-e91f62b227bb"
   },
   "outputs": [
    {
     "data": {
      "text/plain": [
       "np.int64(426932)"
      ]
     },
     "execution_count": 20,
     "metadata": {},
     "output_type": "execute_result"
    }
   ],
   "source": [
    "df[\"rail\"].loc[\"2019-05-25\"]  # 단순 예측(1주일 전의 값)"
   ]
  },
  {
   "cell_type": "code",
   "execution_count": 21,
   "metadata": {
    "id": "bMSLkVg39i5C"
   },
   "outputs": [],
   "source": [
    "import warnings\n",
    "warnings.filterwarnings('ignore')\n",
    "\n",
    "origin, start_date, end_date = \"2019-01-01\", \"2019-03-01\", \"2019-05-31\"\n",
    "time_period = pd.date_range(start_date, end_date)\n",
    "rail_series = df.loc[origin:end_date][\"rail\"].asfreq(\"D\")\n",
    "y_preds = []\n",
    "for today in time_period.shift(-1): # 하루를 차분해줌\n",
    "    model = ARIMA(rail_series[origin:today],  # \"오늘\"까지의 데이터로 훈련\n",
    "                  order=(1, 0, 0),\n",
    "                  seasonal_order=(0, 1, 1, 7))\n",
    "    model = model.fit()  # 매일 모델을 재훈련한다는 점에 유의하세요!\n",
    "    y_pred = model.forecast()[0]\n",
    "    y_preds.append(y_pred)\n",
    "\n",
    "y_preds = pd.Series(y_preds, index=time_period)\n",
    "mae = (y_preds - rail_series[time_period]).abs().mean()  # 32,040.7 반환"
   ]
  },
  {
   "cell_type": "code",
   "execution_count": 22,
   "metadata": {
    "colab": {
     "base_uri": "https://localhost:8080/"
    },
    "executionInfo": {
     "elapsed": 439,
     "status": "ok",
     "timestamp": 1728644598737,
     "user": {
      "displayName": "WOOSEOK JEONG",
      "userId": "01703662546986869335"
     },
     "user_tz": -540
    },
    "id": "n4nDhrBH9i5C",
    "outputId": "76623e17-9010-423d-fdc6-99efd6288392"
   },
   "outputs": [
    {
     "data": {
      "text/plain": [
       "np.float64(32040.720089453378)"
      ]
     },
     "execution_count": 22,
     "metadata": {},
     "output_type": "execute_result"
    }
   ],
   "source": [
    "mae"
   ]
  },
  {
   "cell_type": "markdown",
   "metadata": {
    "id": "dXqyiQ8COl_O"
   },
   "source": [
    "> MAE가 단순예측보다 크게 낮음."
   ]
  },
  {
   "cell_type": "code",
   "execution_count": 23,
   "metadata": {
    "colab": {
     "base_uri": "https://localhost:8080/",
     "height": 330
    },
    "executionInfo": {
     "elapsed": 913,
     "status": "ok",
     "timestamp": 1728644250180,
     "user": {
      "displayName": "WOOSEOK JEONG",
      "userId": "01703662546986869335"
     },
     "user_tz": -540
    },
    "id": "uyPUYHxs9i5C",
    "outputId": "a7590cd5-a7c5-40a4-f55e-788619553bf9"
   },
   "outputs": [
    {
     "name": "stderr",
     "output_type": "stream",
     "text": [
      "findfont: Font family 'NanumGothic' not found.\n",
      "findfont: Font family 'NanumGothic' not found.\n",
      "findfont: Font family 'NanumGothic' not found.\n",
      "findfont: Font family 'NanumGothic' not found.\n",
      "findfont: Font family 'NanumGothic' not found.\n",
      "findfont: Font family 'NanumGothic' not found.\n",
      "findfont: Font family 'NanumGothic' not found.\n",
      "findfont: Font family 'NanumGothic' not found.\n",
      "findfont: Font family 'NanumGothic' not found.\n",
      "findfont: Font family 'NanumGothic' not found.\n",
      "findfont: Font family 'NanumGothic' not found.\n",
      "findfont: Font family 'NanumGothic' not found.\n",
      "findfont: Font family 'NanumGothic' not found.\n",
      "findfont: Font family 'NanumGothic' not found.\n",
      "findfont: Font family 'NanumGothic' not found.\n",
      "findfont: Font family 'NanumGothic' not found.\n",
      "findfont: Font family 'NanumGothic' not found.\n",
      "findfont: Font family 'NanumGothic' not found.\n",
      "findfont: Font family 'NanumGothic' not found.\n",
      "findfont: Font family 'NanumGothic' not found.\n",
      "findfont: Font family 'NanumGothic' not found.\n",
      "findfont: Font family 'NanumGothic' not found.\n",
      "findfont: Font family 'NanumGothic' not found.\n",
      "findfont: Font family 'NanumGothic' not found.\n",
      "findfont: Font family 'NanumGothic' not found.\n",
      "findfont: Font family 'NanumGothic' not found.\n",
      "findfont: Font family 'NanumGothic' not found.\n",
      "findfont: Font family 'NanumGothic' not found.\n",
      "findfont: Font family 'NanumGothic' not found.\n",
      "findfont: Font family 'NanumGothic' not found.\n",
      "findfont: Font family 'NanumGothic' not found.\n",
      "findfont: Font family 'NanumGothic' not found.\n",
      "findfont: Font family 'NanumGothic' not found.\n",
      "findfont: Font family 'NanumGothic' not found.\n",
      "findfont: Font family 'NanumGothic' not found.\n",
      "findfont: Font family 'NanumGothic' not found.\n",
      "findfont: Font family 'NanumGothic' not found.\n",
      "findfont: Font family 'NanumGothic' not found.\n",
      "findfont: Font family 'NanumGothic' not found.\n",
      "findfont: Font family 'NanumGothic' not found.\n",
      "findfont: Font family 'NanumGothic' not found.\n",
      "findfont: Font family 'NanumGothic' not found.\n",
      "findfont: Font family 'NanumGothic' not found.\n",
      "findfont: Font family 'NanumGothic' not found.\n",
      "findfont: Font family 'NanumGothic' not found.\n",
      "findfont: Font family 'NanumGothic' not found.\n",
      "findfont: Font family 'NanumGothic' not found.\n",
      "findfont: Font family 'NanumGothic' not found.\n",
      "findfont: Font family 'NanumGothic' not found.\n",
      "findfont: Font family 'NanumGothic' not found.\n",
      "findfont: Font family 'NanumGothic' not found.\n",
      "findfont: Font family 'NanumGothic' not found.\n",
      "findfont: Font family 'NanumGothic' not found.\n",
      "findfont: Font family 'NanumGothic' not found.\n",
      "findfont: Font family 'NanumGothic' not found.\n",
      "findfont: Font family 'NanumGothic' not found.\n",
      "findfont: Font family 'NanumGothic' not found.\n",
      "findfont: Font family 'NanumGothic' not found.\n",
      "findfont: Font family 'NanumGothic' not found.\n",
      "findfont: Font family 'NanumGothic' not found.\n",
      "findfont: Font family 'NanumGothic' not found.\n",
      "findfont: Font family 'NanumGothic' not found.\n",
      "findfont: Font family 'NanumGothic' not found.\n",
      "findfont: Font family 'NanumGothic' not found.\n",
      "findfont: Font family 'NanumGothic' not found.\n"
     ]
    },
    {
     "data": {
      "image/png": "[encoded data removed]",
      "text/plain": [
       "<Figure size 800x300 with 1 Axes>"
      ]
     },
     "metadata": {},
     "output_type": "display_data"
    }
   ],
   "source": [
    "# 추가 코드 - SARIMA 예측을 표시합니다.\n",
    "fig, ax = plt.subplots(figsize=(8, 3))\n",
    "rail_series.loc[time_period].plot(label=\"실제\", ax=ax, marker=\".\", grid=True)\n",
    "ax.plot(y_preds, color=\"r\", marker=\".\", label=\"SARIMA 예측\")\n",
    "ax.set_xlabel(\"날짜\")\n",
    "plt.legend()\n",
    "plt.show()"
   ]
  },
  {
   "cell_type": "markdown",
   "metadata": {
    "id": "j_Ceca0teaHo"
   },
   "source": [
    "추가 코드 - 자기 상관관계 함수(ACF) 및 부분 자기 상관관계 함수(PACF)를 그리는 방법을 보여줍니다.\n",
    "[참고자료](https://homl.info/arimatuning)"
   ]
  },
  {
   "cell_type": "code",
   "execution_count": 25,
   "metadata": {
    "colab": {
     "base_uri": "https://localhost:8080/",
     "height": 643
    },
    "executionInfo": {
     "elapsed": 1473,
     "status": "error",
     "timestamp": 1728697109395,
     "user": {
      "displayName": "WOOSEOK JEONG",
      "userId": "01703662546986869335"
     },
     "user_tz": -540
    },
    "id": "lNXbBuR29i5D",
    "outputId": "97470bb9-6706-4843-e13a-e4a62f1766fc"
   },
   "outputs": [
    {
     "name": "stderr",
     "output_type": "stream",
     "text": [
      "findfont: Font family 'NanumGothic' not found.\n",
      "findfont: Font family 'NanumGothic' not found.\n",
      "findfont: Font family 'NanumGothic' not found.\n",
      "findfont: Font family 'NanumGothic' not found.\n",
      "findfont: Font family 'NanumGothic' not found.\n",
      "findfont: Font family 'NanumGothic' not found.\n",
      "findfont: Font family 'NanumGothic' not found.\n",
      "findfont: Font family 'NanumGothic' not found.\n",
      "findfont: Font family 'NanumGothic' not found.\n",
      "findfont: Font family 'NanumGothic' not found.\n",
      "findfont: Font family 'NanumGothic' not found.\n",
      "findfont: Font family 'NanumGothic' not found.\n",
      "findfont: Font family 'NanumGothic' not found.\n",
      "findfont: Font family 'NanumGothic' not found.\n",
      "findfont: Font family 'NanumGothic' not found.\n",
      "findfont: Font family 'NanumGothic' not found.\n",
      "findfont: Font family 'NanumGothic' not found.\n",
      "findfont: Font family 'NanumGothic' not found.\n",
      "findfont: Font family 'NanumGothic' not found.\n",
      "findfont: Font family 'NanumGothic' not found.\n",
      "findfont: Font family 'NanumGothic' not found.\n",
      "findfont: Font family 'NanumGothic' not found.\n",
      "findfont: Font family 'NanumGothic' not found.\n",
      "findfont: Font family 'NanumGothic' not found.\n",
      "findfont: Font family 'NanumGothic' not found.\n",
      "findfont: Font family 'NanumGothic' not found.\n",
      "findfont: Font family 'NanumGothic' not found.\n",
      "findfont: Font family 'NanumGothic' not found.\n",
      "findfont: Font family 'NanumGothic' not found.\n",
      "findfont: Font family 'NanumGothic' not found.\n",
      "findfont: Font family 'NanumGothic' not found.\n",
      "findfont: Font family 'NanumGothic' not found.\n",
      "findfont: Font family 'NanumGothic' not found.\n",
      "findfont: Font family 'NanumGothic' not found.\n",
      "findfont: Font family 'NanumGothic' not found.\n",
      "findfont: Font family 'NanumGothic' not found.\n",
      "findfont: Font family 'NanumGothic' not found.\n",
      "findfont: Font family 'NanumGothic' not found.\n",
      "findfont: Font family 'NanumGothic' not found.\n",
      "findfont: Font family 'NanumGothic' not found.\n",
      "findfont: Font family 'NanumGothic' not found.\n",
      "findfont: Font family 'NanumGothic' not found.\n",
      "findfont: Font family 'NanumGothic' not found.\n",
      "findfont: Font family 'NanumGothic' not found.\n",
      "findfont: Font family 'NanumGothic' not found.\n",
      "findfont: Font family 'NanumGothic' not found.\n",
      "findfont: Font family 'NanumGothic' not found.\n",
      "findfont: Font family 'NanumGothic' not found.\n",
      "findfont: Font family 'NanumGothic' not found.\n",
      "findfont: Font family 'NanumGothic' not found.\n",
      "findfont: Font family 'NanumGothic' not found.\n",
      "findfont: Font family 'NanumGothic' not found.\n",
      "findfont: Font family 'NanumGothic' not found.\n",
      "findfont: Font family 'NanumGothic' not found.\n",
      "findfont: Font family 'NanumGothic' not found.\n",
      "findfont: Font family 'NanumGothic' not found.\n",
      "findfont: Font family 'NanumGothic' not found.\n",
      "findfont: Font family 'NanumGothic' not found.\n",
      "findfont: Font family 'NanumGothic' not found.\n",
      "findfont: Font family 'NanumGothic' not found.\n",
      "findfont: Font family 'NanumGothic' not found.\n",
      "findfont: Font family 'NanumGothic' not found.\n",
      "findfont: Font family 'NanumGothic' not found.\n",
      "findfont: Font family 'NanumGothic' not found.\n",
      "findfont: Font family 'NanumGothic' not found.\n",
      "findfont: Font family 'NanumGothic' not found.\n",
      "findfont: Font family 'NanumGothic' not found.\n",
      "findfont: Font family 'NanumGothic' not found.\n",
      "findfont: Font family 'NanumGothic' not found.\n",
      "findfont: Font family 'NanumGothic' not found.\n",
      "findfont: Font family 'NanumGothic' not found.\n",
      "findfont: Font family 'NanumGothic' not found.\n",
      "findfont: Font family 'NanumGothic' not found.\n",
      "findfont: Font family 'NanumGothic' not found.\n",
      "findfont: Font family 'NanumGothic' not found.\n",
      "findfont: Font family 'NanumGothic' not found.\n",
      "findfont: Font family 'NanumGothic' not found.\n",
      "findfont: Font family 'NanumGothic' not found.\n"
     ]
    },
    {
     "data": {
      "image/png": "[encoded data removed]",
      "text/plain": [
       "<Figure size 1500x500 with 2 Axes>"
      ]
     },
     "metadata": {},
     "output_type": "display_data"
    }
   ],
   "source": [
    "from statsmodels.graphics.tsaplots import plot_acf, plot_pacf\n",
    "\n",
    "fig, axs = plt.subplots(nrows=1, ncols=2, figsize=(15, 5))\n",
    "plot_acf(df[period][\"rail\"], ax=axs[0], lags=35, title=\"자기상관\")\n",
    "axs[0].grid()\n",
    "plot_pacf(df[period][\"rail\"], ax=axs[1], lags=35, method=\"ywm\",\n",
    "          title=\"부분 자기상관\")\n",
    "axs[1].grid()\n",
    "plt.show()"
   ]
  },
  {
   "cell_type": "markdown",
   "metadata": {
    "id": "F8BIBhE_9vvi"
   },
   "source": [
    "## 기본 선형모델을 통한 예측\n",
    "- 과거 8주(56일)의 데이터를 기반으로 내일의 승객수 예측\n",
    "  - 입력 : 각 시퀀스는 56개의 값을 윈도우로 하고, 타겟값은 그 다음값"
   ]
  },
  {
   "cell_type": "markdown",
   "metadata": {
    "id": "ofgwNbcqh7JJ"
   },
   "source": [
    "### 텐서프로로 데이터셋 구성하기"
   ]
  },
  {
   "cell_type": "code",
   "execution_count": 26,
   "metadata": {
    "executionInfo": {
     "elapsed": 580,
     "status": "ok",
     "timestamp": 1728697147658,
     "user": {
      "displayName": "WOOSEOK JEONG",
      "userId": "01703662546986869335"
     },
     "user_tz": -540
    },
    "id": "lEqIt0EM9i5D"
   },
   "outputs": [],
   "source": [
    "'''\n",
    "연습 : 0~5를 담은 시계열을 받아서 길이가 3인 window, 배치크기 2인 데이터셋을 만드는 방법\n",
    "'''\n",
    "import tensorflow as tf\n",
    "my_series = [0, 1, 2, 3, 4, 5]\n",
    "my_dataset = tf.keras.utils.timeseries_dataset_from_array(\n",
    "    my_series,\n",
    "    targets=my_series[3:],  # 네번째 원소부터 타겟\n",
    "    sequence_length=3,\n",
    "    batch_size=2\n",
    ")"
   ]
  },
  {
   "cell_type": "code",
   "execution_count": 27,
   "metadata": {
    "colab": {
     "base_uri": "https://localhost:8080/"
    },
    "executionInfo": {
     "elapsed": 2,
     "status": "ok",
     "timestamp": 1728697148193,
     "user": {
      "displayName": "WOOSEOK JEONG",
      "userId": "01703662546986869335"
     },
     "user_tz": -540
    },
    "id": "_kRbNGRSgalx",
    "outputId": "165bda44-3809-470e-c4d9-a46abfaa6a50"
   },
   "outputs": [
    {
     "name": "stderr",
     "output_type": "stream",
     "text": [
      "2024-10-27 00:44:13.862930: I tensorflow/core/framework/local_rendezvous.cc:405] Local rendezvous is aborting with status: OUT_OF_RANGE: End of sequence\n"
     ]
    },
    {
     "data": {
      "text/plain": [
       "[(<tf.Tensor: shape=(2, 3), dtype=int32, numpy=\n",
       "  array([[0, 1, 2],\n",
       "         [1, 2, 3]], dtype=int32)>,\n",
       "  <tf.Tensor: shape=(2,), dtype=int32, numpy=array([3, 4], dtype=int32)>),\n",
       " (<tf.Tensor: shape=(1, 3), dtype=int32, numpy=array([[2, 3, 4]], dtype=int32)>,\n",
       "  <tf.Tensor: shape=(1,), dtype=int32, numpy=array([5], dtype=int32)>)]"
      ]
     },
     "execution_count": 27,
     "metadata": {},
     "output_type": "execute_result"
    }
   ],
   "source": [
    "list(my_dataset)"
   ]
  },
  {
   "cell_type": "markdown",
   "metadata": {
    "id": "OHw1Ra0_gEKK"
   },
   "source": [
    "윈도우사이즈 3인 샘플3개"
   ]
  },
  {
   "cell_type": "code",
   "execution_count": 28,
   "metadata": {
    "executionInfo": {
     "elapsed": 3,
     "status": "ok",
     "timestamp": 1728695216516,
     "user": {
      "displayName": "WOOSEOK JEONG",
      "userId": "01703662546986869335"
     },
     "user_tz": -540
    },
    "id": "lSg5ppzLgDpL"
   },
   "outputs": [],
   "source": [
    "import tensorflow as tf\n",
    "my_series = [0, 1, 2, 3, 4, 5]\n",
    "my_dataset = tf.keras.utils.timeseries_dataset_from_array(\n",
    "    my_series,\n",
    "    targets=my_series[4:],  # 네번째 원소부터 타겟\n",
    "    sequence_length=4,\n",
    "    # batch_size=2\n",
    ")"
   ]
  },
  {
   "cell_type": "code",
   "execution_count": 29,
   "metadata": {
    "colab": {
     "base_uri": "https://localhost:8080/"
    },
    "executionInfo": {
     "elapsed": 2,
     "status": "ok",
     "timestamp": 1728695216516,
     "user": {
      "displayName": "WOOSEOK JEONG",
      "userId": "01703662546986869335"
     },
     "user_tz": -540
    },
    "id": "55c8P2pH9i5D",
    "outputId": "944038eb-e89b-4e99-fdc1-1b8b7a24633d"
   },
   "outputs": [
    {
     "name": "stdout",
     "output_type": "stream",
     "text": [
      "0 1 2 3 \n",
      "1 2 3 4 \n",
      "2 3 4 5 \n",
      "3 4 5 \n",
      "4 5 \n",
      "5 \n"
     ]
    },
    {
     "name": "stderr",
     "output_type": "stream",
     "text": [
      "2024-10-27 00:44:14.428664: W tensorflow/core/framework/dataset.cc:993] Input of Window will not be optimized because the dataset does not implement the AsGraphDefInternal() method needed to apply optimizations.\n",
      "2024-10-27 00:44:14.432122: I tensorflow/core/framework/local_rendezvous.cc:405] Local rendezvous is aborting with status: OUT_OF_RANGE: End of sequence\n",
      "2024-10-27 00:44:14.439170: I tensorflow/core/framework/local_rendezvous.cc:405] Local rendezvous is aborting with status: OUT_OF_RANGE: End of sequence\n",
      "2024-10-27 00:44:14.448944: I tensorflow/core/framework/local_rendezvous.cc:405] Local rendezvous is aborting with status: OUT_OF_RANGE: End of sequence\n"
     ]
    }
   ],
   "source": [
    "'''\n",
    "Dataset.window() 매서드 사용하여 같은 결과를 얻을수 있음 (리스트의 중첩된 데이터셋을 반환)하기에\n",
    "셔플링하거나 배치로 묶을 때 유용함\n",
    "'''\n",
    "for window_dataset in tf.data.Dataset.range(6).window(4, shift=1):\n",
    "    for element in window_dataset:\n",
    "        print(f\"{element}\", end=\" \")\n",
    "    print()"
   ]
  },
  {
   "cell_type": "markdown",
   "metadata": {
    "id": "PhQJM05oicMH"
   },
   "source": [
    "> 데이터셋은 6개의 샘플을 담고 있으며, 이전 윈도보다 한스텝씩 앞으로 이동함."
   ]
  },
  {
   "cell_type": "code",
   "execution_count": 30,
   "metadata": {
    "colab": {
     "base_uri": "https://localhost:8080/"
    },
    "executionInfo": {
     "elapsed": 3,
     "status": "ok",
     "timestamp": 1728695218420,
     "user": {
      "displayName": "WOOSEOK JEONG",
      "userId": "01703662546986869335"
     },
     "user_tz": -540
    },
    "id": "L9AOQWbD9i5E",
    "outputId": "17792e57-4ab6-484b-fabd-49f48ec8ead0"
   },
   "outputs": [
    {
     "name": "stdout",
     "output_type": "stream",
     "text": [
      "[0 1 2 3]\n",
      "[1 2 3 4]\n",
      "[2 3 4 5]\n"
     ]
    }
   ],
   "source": [
    "'''\n",
    "drop_remainder=True를ㄹ 설정하면 작은 윈도우는 삭제할 수 있음.\n",
    "모델에서는 데이터셋이 아니라, 텐서를 반환하기 때문에 dataset.flat_map()으로\n",
    "배치를 담아서 구성해줘야함\n",
    "'''\n",
    "dataset = tf.data.Dataset.range(6).window(4, shift=1, drop_remainder=True)\n",
    "dataset = dataset.flat_map(lambda window_dataset: window_dataset.batch(4))\n",
    "for window_tensor in dataset:\n",
    "    print(f\"{window_tensor}\")"
   ]
  },
  {
   "cell_type": "code",
   "execution_count": 31,
   "metadata": {
    "executionInfo": {
     "elapsed": 2,
     "status": "ok",
     "timestamp": 1728695218420,
     "user": {
      "displayName": "WOOSEOK JEONG",
      "userId": "01703662546986869335"
     },
     "user_tz": -540
    },
    "id": "WFwpIDhR9i5E"
   },
   "outputs": [],
   "source": [
    "def to_windows(dataset, length):\n",
    "    dataset = dataset.window(length, shift=1, drop_remainder=True)\n",
    "    return dataset.flat_map(lambda window_ds: window_ds.batch(length))"
   ]
  },
  {
   "cell_type": "code",
   "execution_count": 32,
   "metadata": {
    "colab": {
     "base_uri": "https://localhost:8080/"
    },
    "executionInfo": {
     "elapsed": 3,
     "status": "ok",
     "timestamp": 1728695219036,
     "user": {
      "displayName": "WOOSEOK JEONG",
      "userId": "01703662546986869335"
     },
     "user_tz": -540
    },
    "id": "d3CercaN9i5E",
    "outputId": "11460383-2803-45d3-cef7-b439498b9ded"
   },
   "outputs": [
    {
     "data": {
      "text/plain": [
       "[(<tf.Tensor: shape=(2, 3), dtype=int64, numpy=\n",
       "  array([[0, 1, 2],\n",
       "         [1, 2, 3]])>,\n",
       "  <tf.Tensor: shape=(2,), dtype=int64, numpy=array([3, 4])>),\n",
       " (<tf.Tensor: shape=(1, 3), dtype=int64, numpy=array([[2, 3, 4]])>,\n",
       "  <tf.Tensor: shape=(1,), dtype=int64, numpy=array([5])>)]"
      ]
     },
     "execution_count": 32,
     "metadata": {},
     "output_type": "execute_result"
    }
   ],
   "source": [
    "'''\n",
    "마지막으로 map()메서드 사용하여 윈도를 입력과 타겟으로 나눔,\n",
    "또한 만들어진 윈도를 크기가 2인 배치로 만들수 있음\n",
    "'''\n",
    "dataset = to_windows(tf.data.Dataset.range(6), 4) # 4인 배치 만들고\n",
    "dataset = dataset.map(lambda window: (window[:-1], window[-1])) #입력3개 + 타깃1개로 나눔\n",
    "list(dataset.batch(2))  # 배치사이즈 2로 묶음"
   ]
  },
  {
   "cell_type": "markdown",
   "metadata": {
    "id": "Wae4FNZv9i5F"
   },
   "source": [
    "### 훈련/검증/테스트 데이터셋 나누기\n",
    "데이터를 계속 살펴보기 전에 훈련, 검증 및 테스트를 위해 시계열을 세 가지 기간으로 나누어 보겠습니다."
   ]
  },
  {
   "cell_type": "code",
   "execution_count": 33,
   "metadata": {
    "executionInfo": {
     "elapsed": 553,
     "status": "ok",
     "timestamp": 1728697259778,
     "user": {
      "displayName": "WOOSEOK JEONG",
      "userId": "01703662546986869335"
     },
     "user_tz": -540
    },
    "id": "17qcHzqF9i5F"
   },
   "outputs": [],
   "source": [
    "'''\n",
    "스케일링 조정으로 (0~1사이의 값) 가중치 초기화와 학습률 효율화\n",
    "'''\n",
    "rail_train = df[\"rail\"][\"2016-01\":\"2018-12\"] / 1e6\n",
    "rail_valid = df[\"rail\"][\"2019-01\":\"2019-05\"] / 1e6\n",
    "rail_test = df[\"rail\"][\"2019-06\":] / 1e6"
   ]
  },
  {
   "cell_type": "code",
   "execution_count": 34,
   "metadata": {
    "executionInfo": {
     "elapsed": 531,
     "status": "ok",
     "timestamp": 1728697272083,
     "user": {
      "displayName": "WOOSEOK JEONG",
      "userId": "01703662546986869335"
     },
     "user_tz": -540
    },
    "id": "hkulHlvq9i5F"
   },
   "outputs": [],
   "source": [
    "'''\n",
    "회귀모델 만들기 위한 데이터셋을 준비해보자\n",
    "'''\n",
    "seq_length = 56\n",
    "tf.random.set_seed(42)  # 추가 코드 - 재현성 보장\n",
    "train_ds = tf.keras.utils.timeseries_dataset_from_array(\n",
    "    rail_train.to_numpy(),\n",
    "    targets=rail_train[seq_length:],\n",
    "    sequence_length=seq_length,\n",
    "    batch_size=32,\n",
    "    shuffle=True,\n",
    "    seed=42\n",
    ")\n",
    "valid_ds = tf.keras.utils.timeseries_dataset_from_array(\n",
    "    rail_valid.to_numpy(),\n",
    "    targets=rail_valid[seq_length:],\n",
    "    sequence_length=seq_length,\n",
    "    batch_size=32\n",
    ")"
   ]
  },
  {
   "cell_type": "code",
   "execution_count": 35,
   "metadata": {
    "colab": {
     "base_uri": "https://localhost:8080/"
    },
    "executionInfo": {
     "elapsed": 72151,
     "status": "ok",
     "timestamp": 1728697357379,
     "user": {
      "displayName": "WOOSEOK JEONG",
      "userId": "01703662546986869335"
     },
     "user_tz": -540
    },
    "id": "vM7YHzxv9i5I",
    "outputId": "059e92d9-e26a-491f-8ffb-5106b452c87e"
   },
   "outputs": [
    {
     "name": "stdout",
     "output_type": "stream",
     "text": [
      "Epoch 1/500\n",
      "\u001b[1m33/33\u001b[0m \u001b[32m━━━━━━━━━━━━━━━━━━━━\u001b[0m\u001b[37m\u001b[0m \u001b[1m0s\u001b[0m 4ms/step - loss: 0.0614 - mae: 0.2850 - val_loss: 0.0061 - val_mae: 0.0806\n",
      "Epoch 2/500\n",
      "\u001b[1m33/33\u001b[0m \u001b[32m━━━━━━━━━━━━━━━━━━━━\u001b[0m\u001b[37m\u001b[0m \u001b[1m0s\u001b[0m 2ms/step - loss: 0.0106 - mae: 0.1047 - val_loss: 0.0061 - val_mae: 0.0779\n",
      "Epoch 3/500\n",
      "\u001b[1m33/33\u001b[0m \u001b[32m━━━━━━━━━━━━━━━━━━━━\u001b[0m\u001b[37m\u001b[0m \u001b[1m0s\u001b[0m 2ms/step - loss: 0.0076 - mae: 0.0871 - val_loss: 0.0052 - val_mae: 0.0692\n",
      "Epoch 4/500\n",
      "\u001b[1m33/33\u001b[0m \u001b[32m━━━━━━━━━━━━━━━━━━━━\u001b[0m\u001b[37m\u001b[0m \u001b[1m0s\u001b[0m 2ms/step - loss: 0.0070 - mae: 0.0806 - val_loss: 0.0047 - val_mae: 0.0641\n",
      "Epoch 5/500\n",
      "\u001b[1m33/33\u001b[0m \u001b[32m━━━━━━━━━━━━━━━━━━━━\u001b[0m\u001b[37m\u001b[0m \u001b[1m0s\u001b[0m 2ms/step - loss: 0.0070 - mae: 0.0823 - val_loss: 0.0051 - val_mae: 0.0709\n",
      "Epoch 6/500\n",
      "\u001b[1m33/33\u001b[0m \u001b[32m━━━━━━━━━━━━━━━━━━━━\u001b[0m\u001b[37m\u001b[0m \u001b[1m0s\u001b[0m 2ms/step - loss: 0.0068 - mae: 0.0831 - val_loss: 0.0058 - val_mae: 0.0810\n",
      "Epoch 7/500\n",
      "\u001b[1m33/33\u001b[0m \u001b[32m━━━━━━━━━━━━━━━━━━━━\u001b[0m\u001b[37m\u001b[0m \u001b[1m0s\u001b[0m 2ms/step - loss: 0.0060 - mae: 0.0768 - val_loss: 0.0042 - val_mae: 0.0596\n",
      "Epoch 8/500\n",
      "\u001b[1m33/33\u001b[0m \u001b[32m━━━━━━━━━━━━━━━━━━━━\u001b[0m\u001b[37m\u001b[0m \u001b[1m0s\u001b[0m 2ms/step - loss: 0.0058 - mae: 0.0736 - val_loss: 0.0040 - val_mae: 0.0581\n",
      "Epoch 9/500\n",
      "\u001b[1m33/33\u001b[0m \u001b[32m━━━━━━━━━━━━━━━━━━━━\u001b[0m\u001b[37m\u001b[0m \u001b[1m0s\u001b[0m 2ms/step - loss: 0.0058 - mae: 0.0749 - val_loss: 0.0039 - val_mae: 0.0569\n",
      "Epoch 10/500\n",
      "\u001b[1m33/33\u001b[0m \u001b[32m━━━━━━━━━━━━━━━━━━━━\u001b[0m\u001b[37m\u001b[0m \u001b[1m0s\u001b[0m 2ms/step - loss: 0.0049 - mae: 0.0666 - val_loss: 0.0038 - val_mae: 0.0568\n",
      "Epoch 11/500\n",
      "\u001b[1m33/33\u001b[0m \u001b[32m━━━━━━━━━━━━━━━━━━━━\u001b[0m\u001b[37m\u001b[0m \u001b[1m0s\u001b[0m 2ms/step - loss: 0.0049 - mae: 0.0678 - val_loss: 0.0047 - val_mae: 0.0713\n",
      "Epoch 12/500\n",
      "\u001b[1m33/33\u001b[0m \u001b[32m━━━━━━━━━━━━━━━━━━━━\u001b[0m\u001b[37m\u001b[0m \u001b[1m0s\u001b[0m 2ms/step - loss: 0.0051 - mae: 0.0710 - val_loss: 0.0035 - val_mae: 0.0528\n",
      "Epoch 13/500\n",
      "\u001b[1m33/33\u001b[0m \u001b[32m━━━━━━━━━━━━━━━━━━━━\u001b[0m\u001b[37m\u001b[0m \u001b[1m0s\u001b[0m 2ms/step - loss: 0.0048 - mae: 0.0642 - val_loss: 0.0043 - val_mae: 0.0680\n",
      "Epoch 14/500\n",
      "\u001b[1m33/33\u001b[0m \u001b[32m━━━━━━━━━━━━━━━━━━━━\u001b[0m\u001b[37m\u001b[0m \u001b[1m0s\u001b[0m 2ms/step - loss: 0.0046 - mae: 0.0667 - val_loss: 0.0042 - val_mae: 0.0670\n",
      "Epoch 15/500\n",
      "\u001b[1m33/33\u001b[0m \u001b[32m━━━━━━━━━━━━━━━━━━━━\u001b[0m\u001b[37m\u001b[0m \u001b[1m0s\u001b[0m 2ms/step - loss: 0.0045 - mae: 0.0673 - val_loss: 0.0039 - val_mae: 0.0585\n",
      "Epoch 16/500\n",
      "\u001b[1m33/33\u001b[0m \u001b[32m━━━━━━━━━━━━━━━━━━━━\u001b[0m\u001b[37m\u001b[0m \u001b[1m0s\u001b[0m 2ms/step - loss: 0.0053 - mae: 0.0706 - val_loss: 0.0042 - val_mae: 0.0630\n",
      "Epoch 17/500\n",
      "\u001b[1m33/33\u001b[0m \u001b[32m━━━━━━━━━━━━━━━━━━━━\u001b[0m\u001b[37m\u001b[0m \u001b[1m0s\u001b[0m 2ms/step - loss: 0.0047 - mae: 0.0659 - val_loss: 0.0033 - val_mae: 0.0500\n",
      "Epoch 18/500\n",
      "\u001b[1m33/33\u001b[0m \u001b[32m━━━━━━━━━━━━━━━━━━━━\u001b[0m\u001b[37m\u001b[0m \u001b[1m0s\u001b[0m 2ms/step - loss: 0.0047 - mae: 0.0668 - val_loss: 0.0031 - val_mae: 0.0509\n",
      "Epoch 19/500\n",
      "\u001b[1m33/33\u001b[0m \u001b[32m━━━━━━━━━━━━━━━━━━━━\u001b[0m\u001b[37m\u001b[0m \u001b[1m0s\u001b[0m 2ms/step - loss: 0.0041 - mae: 0.0589 - val_loss: 0.0034 - val_mae: 0.0532\n",
      "Epoch 20/500\n",
      "\u001b[1m33/33\u001b[0m \u001b[32m━━━━━━━━━━━━━━━━━━━━\u001b[0m\u001b[37m\u001b[0m \u001b[1m0s\u001b[0m 2ms/step - loss: 0.0037 - mae: 0.0592 - val_loss: 0.0032 - val_mae: 0.0500\n",
      "Epoch 21/500\n",
      "\u001b[1m33/33\u001b[0m \u001b[32m━━━━━━━━━━━━━━━━━━━━\u001b[0m\u001b[37m\u001b[0m \u001b[1m0s\u001b[0m 2ms/step - loss: 0.0044 - mae: 0.0595 - val_loss: 0.0031 - val_mae: 0.0493\n",
      "Epoch 22/500\n",
      "\u001b[1m33/33\u001b[0m \u001b[32m━━━━━━━━━━━━━━━━━━━━\u001b[0m\u001b[37m\u001b[0m \u001b[1m0s\u001b[0m 2ms/step - loss: 0.0038 - mae: 0.0585 - val_loss: 0.0028 - val_mae: 0.0473\n",
      "Epoch 23/500\n",
      "\u001b[1m33/33\u001b[0m \u001b[32m━━━━━━━━━━━━━━━━━━━━\u001b[0m\u001b[37m\u001b[0m \u001b[1m0s\u001b[0m 2ms/step - loss: 0.0034 - mae: 0.0547 - val_loss: 0.0028 - val_mae: 0.0463\n",
      "Epoch 24/500\n",
      "\u001b[1m33/33\u001b[0m \u001b[32m━━━━━━━━━━━━━━━━━━━━\u001b[0m\u001b[37m\u001b[0m \u001b[1m0s\u001b[0m 2ms/step - loss: 0.0034 - mae: 0.0528 - val_loss: 0.0029 - val_mae: 0.0476\n",
      "Epoch 25/500\n",
      "\u001b[1m33/33\u001b[0m \u001b[32m━━━━━━━━━━━━━━━━━━━━\u001b[0m\u001b[37m\u001b[0m \u001b[1m0s\u001b[0m 2ms/step - loss: 0.0036 - mae: 0.0535 - val_loss: 0.0028 - val_mae: 0.0452\n",
      "Epoch 26/500\n",
      "\u001b[1m33/33\u001b[0m \u001b[32m━━━━━━━━━━━━━━━━━━━━\u001b[0m\u001b[37m\u001b[0m \u001b[1m0s\u001b[0m 2ms/step - loss: 0.0035 - mae: 0.0538 - val_loss: 0.0027 - val_mae: 0.0448\n",
      "Epoch 27/500\n",
      "\u001b[1m33/33\u001b[0m \u001b[32m━━━━━━━━━━━━━━━━━━━━\u001b[0m\u001b[37m\u001b[0m \u001b[1m0s\u001b[0m 2ms/step - loss: 0.0034 - mae: 0.0539 - val_loss: 0.0031 - val_mae: 0.0501\n",
      "Epoch 28/500\n",
      "\u001b[1m33/33\u001b[0m \u001b[32m━━━━━━━━━━━━━━━━━━━━\u001b[0m\u001b[37m\u001b[0m \u001b[1m0s\u001b[0m 2ms/step - loss: 0.0042 - mae: 0.0587 - val_loss: 0.0026 - val_mae: 0.0451\n",
      "Epoch 29/500\n",
      "\u001b[1m33/33\u001b[0m \u001b[32m━━━━━━━━━━━━━━━━━━━━\u001b[0m\u001b[37m\u001b[0m \u001b[1m0s\u001b[0m 2ms/step - loss: 0.0037 - mae: 0.0552 - val_loss: 0.0031 - val_mae: 0.0557\n",
      "Epoch 30/500\n",
      "\u001b[1m33/33\u001b[0m \u001b[32m━━━━━━━━━━━━━━━━━━━━\u001b[0m\u001b[37m\u001b[0m \u001b[1m0s\u001b[0m 2ms/step - loss: 0.0037 - mae: 0.0574 - val_loss: 0.0033 - val_mae: 0.0533\n",
      "Epoch 31/500\n",
      "\u001b[1m33/33\u001b[0m \u001b[32m━━━━━━━━━━━━━━━━━━━━\u001b[0m\u001b[37m\u001b[0m \u001b[1m0s\u001b[0m 2ms/step - loss: 0.0038 - mae: 0.0586 - val_loss: 0.0031 - val_mae: 0.0518\n",
      "Epoch 32/500\n",
      "\u001b[1m33/33\u001b[0m \u001b[32m━━━━━━━━━━━━━━━━━━━━\u001b[0m\u001b[37m\u001b[0m \u001b[1m0s\u001b[0m 2ms/step - loss: 0.0044 - mae: 0.0616 - val_loss: 0.0026 - val_mae: 0.0436\n",
      "Epoch 33/500\n",
      "\u001b[1m33/33\u001b[0m \u001b[32m━━━━━━━━━━━━━━━━━━━━\u001b[0m\u001b[37m\u001b[0m \u001b[1m0s\u001b[0m 2ms/step - loss: 0.0035 - mae: 0.0523 - val_loss: 0.0026 - val_mae: 0.0436\n",
      "Epoch 34/500\n",
      "\u001b[1m33/33\u001b[0m \u001b[32m━━━━━━━━━━━━━━━━━━━━\u001b[0m\u001b[37m\u001b[0m \u001b[1m0s\u001b[0m 2ms/step - loss: 0.0039 - mae: 0.0539 - val_loss: 0.0029 - val_mae: 0.0526\n",
      "Epoch 35/500\n",
      "\u001b[1m33/33\u001b[0m \u001b[32m━━━━━━━━━━━━━━━━━━━━\u001b[0m\u001b[37m\u001b[0m \u001b[1m0s\u001b[0m 2ms/step - loss: 0.0036 - mae: 0.0556 - val_loss: 0.0026 - val_mae: 0.0474\n",
      "Epoch 36/500\n",
      "\u001b[1m33/33\u001b[0m \u001b[32m━━━━━━━━━━━━━━━━━━━━\u001b[0m\u001b[37m\u001b[0m \u001b[1m0s\u001b[0m 3ms/step - loss: 0.0033 - mae: 0.0497 - val_loss: 0.0025 - val_mae: 0.0456\n",
      "Epoch 37/500\n",
      "\u001b[1m33/33\u001b[0m \u001b[32m━━━━━━━━━━━━━━━━━━━━\u001b[0m\u001b[37m\u001b[0m \u001b[1m0s\u001b[0m 2ms/step - loss: 0.0036 - mae: 0.0547 - val_loss: 0.0027 - val_mae: 0.0460\n",
      "Epoch 38/500\n",
      "\u001b[1m33/33\u001b[0m \u001b[32m━━━━━━━━━━━━━━━━━━━━\u001b[0m\u001b[37m\u001b[0m \u001b[1m0s\u001b[0m 2ms/step - loss: 0.0037 - mae: 0.0555 - val_loss: 0.0025 - val_mae: 0.0431\n",
      "Epoch 39/500\n",
      "\u001b[1m33/33\u001b[0m \u001b[32m━━━━━━━━━━━━━━━━━━━━\u001b[0m\u001b[37m\u001b[0m \u001b[1m0s\u001b[0m 2ms/step - loss: 0.0035 - mae: 0.0521 - val_loss: 0.0025 - val_mae: 0.0440\n",
      "Epoch 40/500\n",
      "\u001b[1m33/33\u001b[0m \u001b[32m━━━━━━━━━━━━━━━━━━━━\u001b[0m\u001b[37m\u001b[0m \u001b[1m0s\u001b[0m 2ms/step - loss: 0.0032 - mae: 0.0488 - val_loss: 0.0024 - val_mae: 0.0407\n",
      "Epoch 41/500\n",
      "\u001b[1m33/33\u001b[0m \u001b[32m━━━━━━━━━━━━━━━━━━━━\u001b[0m\u001b[37m\u001b[0m \u001b[1m0s\u001b[0m 2ms/step - loss: 0.0032 - mae: 0.0492 - val_loss: 0.0024 - val_mae: 0.0406\n",
      "Epoch 42/500\n",
      "\u001b[1m33/33\u001b[0m \u001b[32m━━━━━━━━━━━━━━━━━━━━\u001b[0m\u001b[37m\u001b[0m \u001b[1m0s\u001b[0m 2ms/step - loss: 0.0032 - mae: 0.0506 - val_loss: 0.0025 - val_mae: 0.0426\n",
      "Epoch 43/500\n",
      "\u001b[1m33/33\u001b[0m \u001b[32m━━━━━━━━━━━━━━━━━━━━\u001b[0m\u001b[37m\u001b[0m \u001b[1m0s\u001b[0m 2ms/step - loss: 0.0034 - mae: 0.0512 - val_loss: 0.0025 - val_mae: 0.0415\n",
      "Epoch 44/500\n",
      "\u001b[1m33/33\u001b[0m \u001b[32m━━━━━━━━━━━━━━━━━━━━\u001b[0m\u001b[37m\u001b[0m \u001b[1m0s\u001b[0m 2ms/step - loss: 0.0035 - mae: 0.0528 - val_loss: 0.0050 - val_mae: 0.0784\n",
      "Epoch 45/500\n",
      "\u001b[1m33/33\u001b[0m \u001b[32m━━━━━━━━━━━━━━━━━━━━\u001b[0m\u001b[37m\u001b[0m \u001b[1m0s\u001b[0m 2ms/step - loss: 0.0038 - mae: 0.0604 - val_loss: 0.0023 - val_mae: 0.0412\n",
      "Epoch 46/500\n",
      "\u001b[1m33/33\u001b[0m \u001b[32m━━━━━━━━━━━━━━━━━━━━\u001b[0m\u001b[37m\u001b[0m \u001b[1m0s\u001b[0m 2ms/step - loss: 0.0027 - mae: 0.0461 - val_loss: 0.0027 - val_mae: 0.0454\n",
      "Epoch 47/500\n",
      "\u001b[1m33/33\u001b[0m \u001b[32m━━━━━━━━━━━━━━━━━━━━\u001b[0m\u001b[37m\u001b[0m \u001b[1m0s\u001b[0m 2ms/step - loss: 0.0032 - mae: 0.0519 - val_loss: 0.0023 - val_mae: 0.0408\n",
      "Epoch 48/500\n",
      "\u001b[1m33/33\u001b[0m \u001b[32m━━━━━━━━━━━━━━━━━━━━\u001b[0m\u001b[37m\u001b[0m \u001b[1m0s\u001b[0m 2ms/step - loss: 0.0032 - mae: 0.0481 - val_loss: 0.0023 - val_mae: 0.0396\n",
      "Epoch 49/500\n",
      "\u001b[1m33/33\u001b[0m \u001b[32m━━━━━━━━━━━━━━━━━━━━\u001b[0m\u001b[37m\u001b[0m \u001b[1m0s\u001b[0m 2ms/step - loss: 0.0033 - mae: 0.0500 - val_loss: 0.0024 - val_mae: 0.0400\n",
      "Epoch 50/500\n",
      "\u001b[1m33/33\u001b[0m \u001b[32m━━━━━━━━━━━━━━━━━━━━\u001b[0m\u001b[37m\u001b[0m \u001b[1m0s\u001b[0m 2ms/step - loss: 0.0032 - mae: 0.0488 - val_loss: 0.0024 - val_mae: 0.0402\n",
      "Epoch 51/500\n",
      "\u001b[1m33/33\u001b[0m \u001b[32m━━━━━━━━━━━━━━━━━━━━\u001b[0m\u001b[37m\u001b[0m \u001b[1m0s\u001b[0m 2ms/step - loss: 0.0036 - mae: 0.0527 - val_loss: 0.0027 - val_mae: 0.0448\n",
      "Epoch 52/500\n",
      "\u001b[1m33/33\u001b[0m \u001b[32m━━━━━━━━━━━━━━━━━━━━\u001b[0m\u001b[37m\u001b[0m \u001b[1m0s\u001b[0m 2ms/step - loss: 0.0026 - mae: 0.0470 - val_loss: 0.0023 - val_mae: 0.0389\n",
      "Epoch 53/500\n",
      "\u001b[1m33/33\u001b[0m \u001b[32m━━━━━━━━━━━━━━━━━━━━\u001b[0m\u001b[37m\u001b[0m \u001b[1m0s\u001b[0m 2ms/step - loss: 0.0032 - mae: 0.0476 - val_loss: 0.0023 - val_mae: 0.0396\n",
      "Epoch 54/500\n",
      "\u001b[1m33/33\u001b[0m \u001b[32m━━━━━━━━━━━━━━━━━━━━\u001b[0m\u001b[37m\u001b[0m \u001b[1m0s\u001b[0m 2ms/step - loss: 0.0032 - mae: 0.0482 - val_loss: 0.0022 - val_mae: 0.0392\n",
      "Epoch 55/500\n",
      "\u001b[1m33/33\u001b[0m \u001b[32m━━━━━━━━━━━━━━━━━━━━\u001b[0m\u001b[37m\u001b[0m \u001b[1m0s\u001b[0m 2ms/step - loss: 0.0038 - mae: 0.0515 - val_loss: 0.0023 - val_mae: 0.0409\n",
      "Epoch 56/500\n",
      "\u001b[1m33/33\u001b[0m \u001b[32m━━━━━━━━━━━━━━━━━━━━\u001b[0m\u001b[37m\u001b[0m \u001b[1m0s\u001b[0m 2ms/step - loss: 0.0027 - mae: 0.0461 - val_loss: 0.0026 - val_mae: 0.0442\n",
      "Epoch 57/500\n",
      "\u001b[1m33/33\u001b[0m \u001b[32m━━━━━━━━━━━━━━━━━━━━\u001b[0m\u001b[37m\u001b[0m \u001b[1m0s\u001b[0m 2ms/step - loss: 0.0035 - mae: 0.0525 - val_loss: 0.0023 - val_mae: 0.0406\n",
      "Epoch 58/500\n",
      "\u001b[1m33/33\u001b[0m \u001b[32m━━━━━━━━━━━━━━━━━━━━\u001b[0m\u001b[37m\u001b[0m \u001b[1m0s\u001b[0m 2ms/step - loss: 0.0027 - mae: 0.0455 - val_loss: 0.0024 - val_mae: 0.0439\n",
      "Epoch 59/500\n",
      "\u001b[1m33/33\u001b[0m \u001b[32m━━━━━━━━━━━━━━━━━━━━\u001b[0m\u001b[37m\u001b[0m \u001b[1m0s\u001b[0m 2ms/step - loss: 0.0033 - mae: 0.0515 - val_loss: 0.0022 - val_mae: 0.0386\n",
      "Epoch 60/500\n",
      "\u001b[1m33/33\u001b[0m \u001b[32m━━━━━━━━━━━━━━━━━━━━\u001b[0m\u001b[37m\u001b[0m \u001b[1m0s\u001b[0m 2ms/step - loss: 0.0031 - mae: 0.0473 - val_loss: 0.0025 - val_mae: 0.0423\n",
      "Epoch 61/500\n",
      "\u001b[1m33/33\u001b[0m \u001b[32m━━━━━━━━━━━━━━━━━━━━\u001b[0m\u001b[37m\u001b[0m \u001b[1m0s\u001b[0m 2ms/step - loss: 0.0029 - mae: 0.0469 - val_loss: 0.0028 - val_mae: 0.0481\n",
      "Epoch 62/500\n",
      "\u001b[1m33/33\u001b[0m \u001b[32m━━━━━━━━━━━━━━━━━━━━\u001b[0m\u001b[37m\u001b[0m \u001b[1m0s\u001b[0m 2ms/step - loss: 0.0036 - mae: 0.0527 - val_loss: 0.0022 - val_mae: 0.0391\n",
      "Epoch 63/500\n",
      "\u001b[1m33/33\u001b[0m \u001b[32m━━━━━━━━━━━━━━━━━━━━\u001b[0m\u001b[37m\u001b[0m \u001b[1m0s\u001b[0m 2ms/step - loss: 0.0031 - mae: 0.0472 - val_loss: 0.0022 - val_mae: 0.0384\n",
      "Epoch 64/500\n",
      "\u001b[1m33/33\u001b[0m \u001b[32m━━━━━━━━━━━━━━━━━━━━\u001b[0m\u001b[37m\u001b[0m \u001b[1m0s\u001b[0m 2ms/step - loss: 0.0029 - mae: 0.0462 - val_loss: 0.0023 - val_mae: 0.0388\n",
      "Epoch 65/500\n",
      "\u001b[1m33/33\u001b[0m \u001b[32m━━━━━━━━━━━━━━━━━━━━\u001b[0m\u001b[37m\u001b[0m \u001b[1m0s\u001b[0m 2ms/step - loss: 0.0029 - mae: 0.0461 - val_loss: 0.0023 - val_mae: 0.0391\n",
      "Epoch 66/500\n",
      "\u001b[1m33/33\u001b[0m \u001b[32m━━━━━━━━━━━━━━━━━━━━\u001b[0m\u001b[37m\u001b[0m \u001b[1m0s\u001b[0m 2ms/step - loss: 0.0034 - mae: 0.0523 - val_loss: 0.0023 - val_mae: 0.0400\n",
      "Epoch 67/500\n",
      "\u001b[1m33/33\u001b[0m \u001b[32m━━━━━━━━━━━━━━━━━━━━\u001b[0m\u001b[37m\u001b[0m \u001b[1m0s\u001b[0m 2ms/step - loss: 0.0032 - mae: 0.0473 - val_loss: 0.0022 - val_mae: 0.0400\n",
      "Epoch 68/500\n",
      "\u001b[1m33/33\u001b[0m \u001b[32m━━━━━━━━━━━━━━━━━━━━\u001b[0m\u001b[37m\u001b[0m \u001b[1m0s\u001b[0m 2ms/step - loss: 0.0034 - mae: 0.0505 - val_loss: 0.0022 - val_mae: 0.0390\n",
      "Epoch 69/500\n",
      "\u001b[1m33/33\u001b[0m \u001b[32m━━━━━━━━━━━━━━━━━━━━\u001b[0m\u001b[37m\u001b[0m \u001b[1m0s\u001b[0m 2ms/step - loss: 0.0031 - mae: 0.0476 - val_loss: 0.0024 - val_mae: 0.0406\n",
      "Epoch 70/500\n",
      "\u001b[1m33/33\u001b[0m \u001b[32m━━━━━━━━━━━━━━━━━━━━\u001b[0m\u001b[37m\u001b[0m \u001b[1m0s\u001b[0m 2ms/step - loss: 0.0025 - mae: 0.0437 - val_loss: 0.0033 - val_mae: 0.0565\n",
      "Epoch 71/500\n",
      "\u001b[1m33/33\u001b[0m \u001b[32m━━━━━━━━━━━━━━━━━━━━\u001b[0m\u001b[37m\u001b[0m \u001b[1m0s\u001b[0m 2ms/step - loss: 0.0033 - mae: 0.0540 - val_loss: 0.0023 - val_mae: 0.0421\n",
      "Epoch 72/500\n",
      "\u001b[1m33/33\u001b[0m \u001b[32m━━━━━━━━━━━━━━━━━━━━\u001b[0m\u001b[37m\u001b[0m \u001b[1m0s\u001b[0m 2ms/step - loss: 0.0029 - mae: 0.0458 - val_loss: 0.0031 - val_mae: 0.0523\n",
      "Epoch 73/500\n",
      "\u001b[1m33/33\u001b[0m \u001b[32m━━━━━━━━━━━━━━━━━━━━\u001b[0m\u001b[37m\u001b[0m \u001b[1m0s\u001b[0m 2ms/step - loss: 0.0035 - mae: 0.0548 - val_loss: 0.0024 - val_mae: 0.0394\n",
      "Epoch 74/500\n",
      "\u001b[1m33/33\u001b[0m \u001b[32m━━━━━━━━━━━━━━━━━━━━\u001b[0m\u001b[37m\u001b[0m \u001b[1m0s\u001b[0m 2ms/step - loss: 0.0034 - mae: 0.0526 - val_loss: 0.0022 - val_mae: 0.0380\n",
      "Epoch 75/500\n",
      "\u001b[1m33/33\u001b[0m \u001b[32m━━━━━━━━━━━━━━━━━━━━\u001b[0m\u001b[37m\u001b[0m \u001b[1m0s\u001b[0m 2ms/step - loss: 0.0031 - mae: 0.0460 - val_loss: 0.0022 - val_mae: 0.0407\n",
      "Epoch 76/500\n",
      "\u001b[1m33/33\u001b[0m \u001b[32m━━━━━━━━━━━━━━━━━━━━\u001b[0m\u001b[37m\u001b[0m \u001b[1m0s\u001b[0m 2ms/step - loss: 0.0034 - mae: 0.0487 - val_loss: 0.0023 - val_mae: 0.0382\n",
      "Epoch 77/500\n",
      "\u001b[1m33/33\u001b[0m \u001b[32m━━━━━━━━━━━━━━━━━━━━\u001b[0m\u001b[37m\u001b[0m \u001b[1m0s\u001b[0m 2ms/step - loss: 0.0030 - mae: 0.0491 - val_loss: 0.0022 - val_mae: 0.0375\n",
      "Epoch 78/500\n",
      "\u001b[1m33/33\u001b[0m \u001b[32m━━━━━━━━━━━━━━━━━━━━\u001b[0m\u001b[37m\u001b[0m \u001b[1m0s\u001b[0m 2ms/step - loss: 0.0027 - mae: 0.0445 - val_loss: 0.0029 - val_mae: 0.0496\n",
      "Epoch 79/500\n",
      "\u001b[1m33/33\u001b[0m \u001b[32m━━━━━━━━━━━━━━━━━━━━\u001b[0m\u001b[37m\u001b[0m \u001b[1m0s\u001b[0m 2ms/step - loss: 0.0033 - mae: 0.0504 - val_loss: 0.0022 - val_mae: 0.0379\n",
      "Epoch 80/500\n",
      "\u001b[1m33/33\u001b[0m \u001b[32m━━━━━━━━━━━━━━━━━━━━\u001b[0m\u001b[37m\u001b[0m \u001b[1m0s\u001b[0m 2ms/step - loss: 0.0031 - mae: 0.0474 - val_loss: 0.0023 - val_mae: 0.0411\n",
      "Epoch 81/500\n",
      "\u001b[1m33/33\u001b[0m \u001b[32m━━━━━━━━━━━━━━━━━━━━\u001b[0m\u001b[37m\u001b[0m \u001b[1m0s\u001b[0m 2ms/step - loss: 0.0027 - mae: 0.0456 - val_loss: 0.0024 - val_mae: 0.0454\n",
      "Epoch 82/500\n",
      "\u001b[1m33/33\u001b[0m \u001b[32m━━━━━━━━━━━━━━━━━━━━\u001b[0m\u001b[37m\u001b[0m \u001b[1m0s\u001b[0m 2ms/step - loss: 0.0027 - mae: 0.0471 - val_loss: 0.0022 - val_mae: 0.0378\n",
      "Epoch 83/500\n",
      "\u001b[1m33/33\u001b[0m \u001b[32m━━━━━━━━━━━━━━━━━━━━\u001b[0m\u001b[37m\u001b[0m \u001b[1m0s\u001b[0m 2ms/step - loss: 0.0034 - mae: 0.0481 - val_loss: 0.0023 - val_mae: 0.0431\n",
      "Epoch 84/500\n",
      "\u001b[1m33/33\u001b[0m \u001b[32m━━━━━━━━━━━━━━━━━━━━\u001b[0m\u001b[37m\u001b[0m \u001b[1m0s\u001b[0m 2ms/step - loss: 0.0029 - mae: 0.0456 - val_loss: 0.0022 - val_mae: 0.0377\n",
      "Epoch 85/500\n",
      "\u001b[1m33/33\u001b[0m \u001b[32m━━━━━━━━━━━━━━━━━━━━\u001b[0m\u001b[37m\u001b[0m \u001b[1m0s\u001b[0m 2ms/step - loss: 0.0030 - mae: 0.0460 - val_loss: 0.0022 - val_mae: 0.0376\n",
      "Epoch 86/500\n",
      "\u001b[1m33/33\u001b[0m \u001b[32m━━━━━━━━━━━━━━━━━━━━\u001b[0m\u001b[37m\u001b[0m \u001b[1m0s\u001b[0m 2ms/step - loss: 0.0032 - mae: 0.0481 - val_loss: 0.0023 - val_mae: 0.0382\n",
      "Epoch 87/500\n",
      "\u001b[1m33/33\u001b[0m \u001b[32m━━━━━━━━━━━━━━━━━━━━\u001b[0m\u001b[37m\u001b[0m \u001b[1m0s\u001b[0m 2ms/step - loss: 0.0029 - mae: 0.0452 - val_loss: 0.0022 - val_mae: 0.0377\n",
      "Epoch 88/500\n",
      "\u001b[1m33/33\u001b[0m \u001b[32m━━━━━━━━━━━━━━━━━━━━\u001b[0m\u001b[37m\u001b[0m \u001b[1m0s\u001b[0m 2ms/step - loss: 0.0030 - mae: 0.0496 - val_loss: 0.0031 - val_mae: 0.0540\n",
      "Epoch 89/500\n",
      "\u001b[1m33/33\u001b[0m \u001b[32m━━━━━━━━━━━━━━━━━━━━\u001b[0m\u001b[37m\u001b[0m \u001b[1m0s\u001b[0m 2ms/step - loss: 0.0031 - mae: 0.0537 - val_loss: 0.0023 - val_mae: 0.0409\n",
      "Epoch 90/500\n",
      "\u001b[1m33/33\u001b[0m \u001b[32m━━━━━━━━━━━━━━━━━━━━\u001b[0m\u001b[37m\u001b[0m \u001b[1m0s\u001b[0m 2ms/step - loss: 0.0029 - mae: 0.0448 - val_loss: 0.0022 - val_mae: 0.0388\n",
      "Epoch 91/500\n",
      "\u001b[1m33/33\u001b[0m \u001b[32m━━━━━━━━━━━━━━━━━━━━\u001b[0m\u001b[37m\u001b[0m \u001b[1m0s\u001b[0m 2ms/step - loss: 0.0029 - mae: 0.0468 - val_loss: 0.0031 - val_mae: 0.0523\n",
      "Epoch 92/500\n",
      "\u001b[1m33/33\u001b[0m \u001b[32m━━━━━━━━━━━━━━━━━━━━\u001b[0m\u001b[37m\u001b[0m \u001b[1m0s\u001b[0m 2ms/step - loss: 0.0034 - mae: 0.0545 - val_loss: 0.0022 - val_mae: 0.0388\n",
      "Epoch 93/500\n",
      "\u001b[1m33/33\u001b[0m \u001b[32m━━━━━━━━━━━━━━━━━━━━\u001b[0m\u001b[37m\u001b[0m \u001b[1m0s\u001b[0m 2ms/step - loss: 0.0024 - mae: 0.0423 - val_loss: 0.0022 - val_mae: 0.0385\n",
      "Epoch 94/500\n",
      "\u001b[1m33/33\u001b[0m \u001b[32m━━━━━━━━━━━━━━━━━━━━\u001b[0m\u001b[37m\u001b[0m \u001b[1m0s\u001b[0m 2ms/step - loss: 0.0032 - mae: 0.0492 - val_loss: 0.0026 - val_mae: 0.0449\n",
      "Epoch 95/500\n",
      "\u001b[1m33/33\u001b[0m \u001b[32m━━━━━━━━━━━━━━━━━━━━\u001b[0m\u001b[37m\u001b[0m \u001b[1m0s\u001b[0m 2ms/step - loss: 0.0034 - mae: 0.0550 - val_loss: 0.0027 - val_mae: 0.0443\n",
      "Epoch 96/500\n",
      "\u001b[1m33/33\u001b[0m \u001b[32m━━━━━━━━━━━━━━━━━━━━\u001b[0m\u001b[37m\u001b[0m \u001b[1m0s\u001b[0m 2ms/step - loss: 0.0034 - mae: 0.0488 - val_loss: 0.0026 - val_mae: 0.0494\n",
      "Epoch 97/500\n",
      "\u001b[1m33/33\u001b[0m \u001b[32m━━━━━━━━━━━━━━━━━━━━\u001b[0m\u001b[37m\u001b[0m \u001b[1m0s\u001b[0m 2ms/step - loss: 0.0035 - mae: 0.0505 - val_loss: 0.0022 - val_mae: 0.0393\n",
      "Epoch 98/500\n",
      "\u001b[1m33/33\u001b[0m \u001b[32m━━━━━━━━━━━━━━━━━━━━\u001b[0m\u001b[37m\u001b[0m \u001b[1m0s\u001b[0m 2ms/step - loss: 0.0031 - mae: 0.0477 - val_loss: 0.0023 - val_mae: 0.0385\n",
      "Epoch 99/500\n",
      "\u001b[1m33/33\u001b[0m \u001b[32m━━━━━━━━━━━━━━━━━━━━\u001b[0m\u001b[37m\u001b[0m \u001b[1m0s\u001b[0m 2ms/step - loss: 0.0029 - mae: 0.0445 - val_loss: 0.0022 - val_mae: 0.0397\n",
      "Epoch 100/500\n",
      "\u001b[1m33/33\u001b[0m \u001b[32m━━━━━━━━━━━━━━━━━━━━\u001b[0m\u001b[37m\u001b[0m \u001b[1m0s\u001b[0m 2ms/step - loss: 0.0026 - mae: 0.0444 - val_loss: 0.0022 - val_mae: 0.0388\n",
      "Epoch 101/500\n",
      "\u001b[1m33/33\u001b[0m \u001b[32m━━━━━━━━━━━━━━━━━━━━\u001b[0m\u001b[37m\u001b[0m \u001b[1m0s\u001b[0m 2ms/step - loss: 0.0027 - mae: 0.0437 - val_loss: 0.0022 - val_mae: 0.0376\n",
      "Epoch 102/500\n",
      "\u001b[1m33/33\u001b[0m \u001b[32m━━━━━━━━━━━━━━━━━━━━\u001b[0m\u001b[37m\u001b[0m \u001b[1m0s\u001b[0m 2ms/step - loss: 0.0028 - mae: 0.0443 - val_loss: 0.0024 - val_mae: 0.0394\n",
      "Epoch 103/500\n",
      "\u001b[1m33/33\u001b[0m \u001b[32m━━━━━━━━━━━━━━━━━━━━\u001b[0m\u001b[37m\u001b[0m \u001b[1m0s\u001b[0m 2ms/step - loss: 0.0033 - mae: 0.0501 - val_loss: 0.0024 - val_mae: 0.0391\n",
      "Epoch 104/500\n",
      "\u001b[1m33/33\u001b[0m \u001b[32m━━━━━━━━━━━━━━━━━━━━\u001b[0m\u001b[37m\u001b[0m \u001b[1m0s\u001b[0m 2ms/step - loss: 0.0031 - mae: 0.0465 - val_loss: 0.0024 - val_mae: 0.0389\n",
      "Epoch 105/500\n",
      "\u001b[1m33/33\u001b[0m \u001b[32m━━━━━━━━━━━━━━━━━━━━\u001b[0m\u001b[37m\u001b[0m \u001b[1m0s\u001b[0m 2ms/step - loss: 0.0030 - mae: 0.0476 - val_loss: 0.0024 - val_mae: 0.0390\n",
      "Epoch 106/500\n",
      "\u001b[1m33/33\u001b[0m \u001b[32m━━━━━━━━━━━━━━━━━━━━\u001b[0m\u001b[37m\u001b[0m \u001b[1m0s\u001b[0m 2ms/step - loss: 0.0030 - mae: 0.0505 - val_loss: 0.0023 - val_mae: 0.0388\n",
      "Epoch 107/500\n",
      "\u001b[1m33/33\u001b[0m \u001b[32m━━━━━━━━━━━━━━━━━━━━\u001b[0m\u001b[37m\u001b[0m \u001b[1m0s\u001b[0m 2ms/step - loss: 0.0033 - mae: 0.0466 - val_loss: 0.0023 - val_mae: 0.0381\n",
      "Epoch 108/500\n",
      "\u001b[1m33/33\u001b[0m \u001b[32m━━━━━━━━━━━━━━━━━━━━\u001b[0m\u001b[37m\u001b[0m \u001b[1m0s\u001b[0m 2ms/step - loss: 0.0030 - mae: 0.0490 - val_loss: 0.0024 - val_mae: 0.0394\n",
      "Epoch 109/500\n",
      "\u001b[1m33/33\u001b[0m \u001b[32m━━━━━━━━━━━━━━━━━━━━\u001b[0m\u001b[37m\u001b[0m \u001b[1m0s\u001b[0m 2ms/step - loss: 0.0028 - mae: 0.0441 - val_loss: 0.0022 - val_mae: 0.0393\n",
      "Epoch 110/500\n",
      "\u001b[1m33/33\u001b[0m \u001b[32m━━━━━━━━━━━━━━━━━━━━\u001b[0m\u001b[37m\u001b[0m \u001b[1m0s\u001b[0m 2ms/step - loss: 0.0030 - mae: 0.0468 - val_loss: 0.0023 - val_mae: 0.0379\n",
      "Epoch 111/500\n",
      "\u001b[1m33/33\u001b[0m \u001b[32m━━━━━━━━━━━━━━━━━━━━\u001b[0m\u001b[37m\u001b[0m \u001b[1m0s\u001b[0m 2ms/step - loss: 0.0025 - mae: 0.0430 - val_loss: 0.0022 - val_mae: 0.0379\n",
      "Epoch 112/500\n",
      "\u001b[1m33/33\u001b[0m \u001b[32m━━━━━━━━━━━━━━━━━━━━\u001b[0m\u001b[37m\u001b[0m \u001b[1m0s\u001b[0m 2ms/step - loss: 0.0030 - mae: 0.0452 - val_loss: 0.0024 - val_mae: 0.0389\n",
      "Epoch 113/500\n",
      "\u001b[1m33/33\u001b[0m \u001b[32m━━━━━━━━━━━━━━━━━━━━\u001b[0m\u001b[37m\u001b[0m \u001b[1m0s\u001b[0m 2ms/step - loss: 0.0030 - mae: 0.0466 - val_loss: 0.0024 - val_mae: 0.0401\n",
      "Epoch 114/500\n",
      "\u001b[1m33/33\u001b[0m \u001b[32m━━━━━━━━━━━━━━━━━━━━\u001b[0m\u001b[37m\u001b[0m \u001b[1m0s\u001b[0m 2ms/step - loss: 0.0029 - mae: 0.0471 - val_loss: 0.0023 - val_mae: 0.0427\n",
      "Epoch 115/500\n",
      "\u001b[1m33/33\u001b[0m \u001b[32m━━━━━━━━━━━━━━━━━━━━\u001b[0m\u001b[37m\u001b[0m \u001b[1m0s\u001b[0m 2ms/step - loss: 0.0031 - mae: 0.0468 - val_loss: 0.0023 - val_mae: 0.0377\n",
      "Epoch 116/500\n",
      "\u001b[1m33/33\u001b[0m \u001b[32m━━━━━━━━━━━━━━━━━━━━\u001b[0m\u001b[37m\u001b[0m \u001b[1m0s\u001b[0m 2ms/step - loss: 0.0032 - mae: 0.0510 - val_loss: 0.0022 - val_mae: 0.0382\n",
      "Epoch 117/500\n",
      "\u001b[1m33/33\u001b[0m \u001b[32m━━━━━━━━━━━━━━━━━━━━\u001b[0m\u001b[37m\u001b[0m \u001b[1m0s\u001b[0m 2ms/step - loss: 0.0026 - mae: 0.0436 - val_loss: 0.0022 - val_mae: 0.0379\n",
      "Epoch 118/500\n",
      "\u001b[1m33/33\u001b[0m \u001b[32m━━━━━━━━━━━━━━━━━━━━\u001b[0m\u001b[37m\u001b[0m \u001b[1m0s\u001b[0m 2ms/step - loss: 0.0029 - mae: 0.0441 - val_loss: 0.0024 - val_mae: 0.0453\n",
      "Epoch 119/500\n",
      "\u001b[1m33/33\u001b[0m \u001b[32m━━━━━━━━━━━━━━━━━━━━\u001b[0m\u001b[37m\u001b[0m \u001b[1m0s\u001b[0m 2ms/step - loss: 0.0028 - mae: 0.0471 - val_loss: 0.0027 - val_mae: 0.0441\n",
      "Epoch 120/500\n",
      "\u001b[1m33/33\u001b[0m \u001b[32m━━━━━━━━━━━━━━━━━━━━\u001b[0m\u001b[37m\u001b[0m \u001b[1m0s\u001b[0m 2ms/step - loss: 0.0032 - mae: 0.0514 - val_loss: 0.0024 - val_mae: 0.0442\n",
      "Epoch 121/500\n",
      "\u001b[1m33/33\u001b[0m \u001b[32m━━━━━━━━━━━━━━━━━━━━\u001b[0m\u001b[37m\u001b[0m \u001b[1m0s\u001b[0m 2ms/step - loss: 0.0030 - mae: 0.0484 - val_loss: 0.0023 - val_mae: 0.0377\n",
      "Epoch 122/500\n",
      "\u001b[1m33/33\u001b[0m \u001b[32m━━━━━━━━━━━━━━━━━━━━\u001b[0m\u001b[37m\u001b[0m \u001b[1m0s\u001b[0m 2ms/step - loss: 0.0032 - mae: 0.0483 - val_loss: 0.0024 - val_mae: 0.0439\n",
      "Epoch 123/500\n",
      "\u001b[1m33/33\u001b[0m \u001b[32m━━━━━━━━━━━━━━━━━━━━\u001b[0m\u001b[37m\u001b[0m \u001b[1m0s\u001b[0m 2ms/step - loss: 0.0032 - mae: 0.0468 - val_loss: 0.0028 - val_mae: 0.0471\n",
      "Epoch 124/500\n",
      "\u001b[1m33/33\u001b[0m \u001b[32m━━━━━━━━━━━━━━━━━━━━\u001b[0m\u001b[37m\u001b[0m \u001b[1m0s\u001b[0m 2ms/step - loss: 0.0033 - mae: 0.0507 - val_loss: 0.0022 - val_mae: 0.0382\n",
      "Epoch 125/500\n",
      "\u001b[1m33/33\u001b[0m \u001b[32m━━━━━━━━━━━━━━━━━━━━\u001b[0m\u001b[37m\u001b[0m \u001b[1m0s\u001b[0m 2ms/step - loss: 0.0028 - mae: 0.0444 - val_loss: 0.0029 - val_mae: 0.0488\n",
      "Epoch 126/500\n",
      "\u001b[1m33/33\u001b[0m \u001b[32m━━━━━━━━━━━━━━━━━━━━\u001b[0m\u001b[37m\u001b[0m \u001b[1m0s\u001b[0m 2ms/step - loss: 0.0030 - mae: 0.0499 - val_loss: 0.0023 - val_mae: 0.0431\n",
      "Epoch 127/500\n",
      "\u001b[1m33/33\u001b[0m \u001b[32m━━━━━━━━━━━━━━━━━━━━\u001b[0m\u001b[37m\u001b[0m \u001b[1m0s\u001b[0m 2ms/step - loss: 0.0029 - mae: 0.0520 - val_loss: 0.0031 - val_mae: 0.0514\n"
     ]
    }
   ],
   "source": [
    "'''\n",
    "경사하강법을 활용한 단순 신경망을 1개층 활용하여(단순회기) 훈련 / 예측 해보자\n",
    "'''\n",
    "\n",
    "tf.random.set_seed(42)\n",
    "model = tf.keras.Sequential([\n",
    "    tf.keras.layers.Dense(1, input_shape=[seq_length])\n",
    "])\n",
    "early_stopping_cb = tf.keras.callbacks.EarlyStopping(\n",
    "    monitor=\"val_mae\", patience=50, restore_best_weights=True)\n",
    "opt = tf.keras.optimizers.SGD(learning_rate=0.02, momentum=0.9)\n",
    "model.compile(loss=tf.keras.losses.Huber(), optimizer=opt, metrics=[\"mae\"])\n",
    "history = model.fit(train_ds, validation_data=valid_ds, epochs=500,\n",
    "                    callbacks=[early_stopping_cb])"
   ]
  },
  {
   "cell_type": "code",
   "execution_count": 26,
   "metadata": {
    "colab": {
     "base_uri": "https://localhost:8080/"
    },
    "executionInfo": {
     "elapsed": 606,
     "status": "ok",
     "timestamp": 1728695269056,
     "user": {
      "displayName": "WOOSEOK JEONG",
      "userId": "01703662546986869335"
     },
     "user_tz": -540
    },
    "id": "y2swfjfh9i5I",
    "outputId": "e93761b8-832e-4134-c39c-4eb10fd47861"
   },
   "outputs": [
    {
     "name": "stdout",
     "output_type": "stream",
     "text": [
      "\u001b[1m3/3\u001b[0m \u001b[32m━━━━━━━━━━━━━━━━━━━━\u001b[0m\u001b[37m\u001b[0m \u001b[1m0s\u001b[0m 6ms/step - loss: 0.0018 - mae: 0.0369 \n"
     ]
    },
    {
     "data": {
      "text/plain": [
       "36435.3284239769"
      ]
     },
     "execution_count": 26,
     "metadata": {},
     "output_type": "execute_result"
    }
   ],
   "source": [
    "# 추가 코드 - 모델을 평가합니다.\n",
    "valid_loss, valid_mae = model.evaluate(valid_ds)\n",
    "valid_mae * 1e6"
   ]
  },
  {
   "cell_type": "markdown",
   "metadata": {
    "id": "wJxNnSpQr-Xl"
   },
   "source": [
    "SARIMA모델보다는 안좋은 결과를 보임"
   ]
  },
  {
   "cell_type": "markdown",
   "metadata": {
    "id": "DwIX-i0R9i5I"
   },
   "source": [
    "## 간단한 RNN 사용"
   ]
  },
  {
   "cell_type": "code",
   "execution_count": 36,
   "metadata": {
    "colab": {
     "base_uri": "https://localhost:8080/"
    },
    "executionInfo": {
     "elapsed": 6,
     "status": "ok",
     "timestamp": 1728695269056,
     "user": {
      "displayName": "WOOSEOK JEONG",
      "userId": "01703662546986869335"
     },
     "user_tz": -540
    },
    "id": "LxMxuoqx9i5M",
    "outputId": "2e83b634-e715-4653-d03d-bd8dd25335a6"
   },
   "outputs": [],
   "source": [
    "'''\n",
    "keras.layers.SimpleRNN()을 가져와서 예측\n",
    "'''\n",
    "tf.random.set_seed(42)  # 추가 코드 - 재현성 보장\n",
    "model = tf.keras.Sequential([\n",
    "    tf.keras.layers.SimpleRNN(1, input_shape=[None, 1])\n",
    "])"
   ]
  },
  {
   "cell_type": "code",
   "execution_count": 37,
   "metadata": {
    "executionInfo": {
     "elapsed": 4,
     "status": "ok",
     "timestamp": 1728695269056,
     "user": {
      "displayName": "WOOSEOK JEONG",
      "userId": "01703662546986869335"
     },
     "user_tz": -540
    },
    "id": "J9kwvI6o9i5M"
   },
   "outputs": [],
   "source": [
    "# 추가 코드 - 여러 번 재사용할 유틸리티 함수를 정의합니다.\n",
    "\n",
    "def fit_and_evaluate(model, train_set, valid_set, learning_rate, epochs=500):\n",
    "    early_stopping_cb = tf.keras.callbacks.EarlyStopping(\n",
    "        monitor=\"val_mae\", patience=50, restore_best_weights=True)\n",
    "    opt = tf.keras.optimizers.SGD(learning_rate=learning_rate, momentum=0.9)\n",
    "    model.compile(loss=tf.keras.losses.Huber(), optimizer=opt, metrics=[\"mae\"])\n",
    "    history = model.fit(train_set, validation_data=valid_set, epochs=epochs,\n",
    "                        callbacks=[early_stopping_cb])\n",
    "    valid_loss, valid_mae = model.evaluate(valid_set)\n",
    "    return valid_mae * 1e6"
   ]
  },
  {
   "cell_type": "code",
   "execution_count": 38,
   "metadata": {
    "colab": {
     "base_uri": "https://localhost:8080/"
    },
    "executionInfo": {
     "elapsed": 43881,
     "status": "ok",
     "timestamp": 1728695312933,
     "user": {
      "displayName": "WOOSEOK JEONG",
      "userId": "01703662546986869335"
     },
     "user_tz": -540
    },
    "id": "vfK4onlh9i5N",
    "outputId": "caa2fe3f-9523-491a-a069-b8024760ae7d"
   },
   "outputs": [
    {
     "name": "stdout",
     "output_type": "stream",
     "text": [
      "Epoch 1/500\n",
      "\u001b[1m33/33\u001b[0m \u001b[32m━━━━━━━━━━━━━━━━━━━━\u001b[0m\u001b[37m\u001b[0m \u001b[1m1s\u001b[0m 10ms/step - loss: 0.0380 - mae: 0.2174 - val_loss: 0.0198 - val_mae: 0.1560\n",
      "Epoch 2/500\n",
      "\u001b[1m33/33\u001b[0m \u001b[32m━━━━━━━━━━━━━━━━━━━━\u001b[0m\u001b[37m\u001b[0m \u001b[1m0s\u001b[0m 5ms/step - loss: 0.0189 - mae: 0.1545 - val_loss: 0.0191 - val_mae: 0.1558\n",
      "Epoch 3/500\n",
      "\u001b[1m33/33\u001b[0m \u001b[32m━━━━━━━━━━━━━━━━━━━━\u001b[0m\u001b[37m\u001b[0m \u001b[1m0s\u001b[0m 4ms/step - loss: 0.0176 - mae: 0.1555 - val_loss: 0.0185 - val_mae: 0.1538\n",
      "Epoch 4/500\n",
      "\u001b[1m33/33\u001b[0m \u001b[32m━━━━━━━━━━━━━━━━━━━━\u001b[0m\u001b[37m\u001b[0m \u001b[1m0s\u001b[0m 4ms/step - loss: 0.0170 - mae: 0.1543 - val_loss: 0.0181 - val_mae: 0.1545\n",
      "Epoch 5/500\n",
      "\u001b[1m33/33\u001b[0m \u001b[32m━━━━━━━━━━━━━━━━━━━━\u001b[0m\u001b[37m\u001b[0m \u001b[1m0s\u001b[0m 4ms/step - loss: 0.0169 - mae: 0.1575 - val_loss: 0.0178 - val_mae: 0.1499\n",
      "Epoch 6/500\n",
      "\u001b[1m33/33\u001b[0m \u001b[32m━━━━━━━━━━━━━━━━━━━━\u001b[0m\u001b[37m\u001b[0m \u001b[1m0s\u001b[0m 4ms/step - loss: 0.0175 - mae: 0.1619 - val_loss: 0.0176 - val_mae: 0.1459\n",
      "Epoch 7/500\n",
      "\u001b[1m33/33\u001b[0m \u001b[32m━━━━━━━━━━━━━━━━━━━━\u001b[0m\u001b[37m\u001b[0m \u001b[1m0s\u001b[0m 4ms/step - loss: 0.0172 - mae: 0.1602 - val_loss: 0.0173 - val_mae: 0.1461\n",
      "Epoch 8/500\n",
      "\u001b[1m33/33\u001b[0m \u001b[32m━━━━━━━━━━━━━━━━━━━━\u001b[0m\u001b[37m\u001b[0m \u001b[1m0s\u001b[0m 4ms/step - loss: 0.0166 - mae: 0.1576 - val_loss: 0.0170 - val_mae: 0.1471\n",
      "Epoch 9/500\n",
      "\u001b[1m33/33\u001b[0m \u001b[32m━━━━━━━━━━━━━━━━━━━━\u001b[0m\u001b[37m\u001b[0m \u001b[1m0s\u001b[0m 4ms/step - loss: 0.0167 - mae: 0.1579 - val_loss: 0.0172 - val_mae: 0.1405\n",
      "Epoch 10/500\n",
      "\u001b[1m33/33\u001b[0m \u001b[32m━━━━━━━━━━━━━━━━━━━━\u001b[0m\u001b[37m\u001b[0m \u001b[1m0s\u001b[0m 4ms/step - loss: 0.0170 - mae: 0.1584 - val_loss: 0.0168 - val_mae: 0.1439\n",
      "Epoch 11/500\n",
      "\u001b[1m33/33\u001b[0m \u001b[32m━━━━━━━━━━━━━━━━━━━━\u001b[0m\u001b[37m\u001b[0m \u001b[1m0s\u001b[0m 4ms/step - loss: 0.0161 - mae: 0.1550 - val_loss: 0.0166 - val_mae: 0.1446\n",
      "Epoch 12/500\n",
      "\u001b[1m33/33\u001b[0m \u001b[32m━━━━━━━━━━━━━━━━━━━━\u001b[0m\u001b[37m\u001b[0m \u001b[1m0s\u001b[0m 4ms/step - loss: 0.0160 - mae: 0.1569 - val_loss: 0.0166 - val_mae: 0.1421\n",
      "Epoch 13/500\n",
      "\u001b[1m33/33\u001b[0m \u001b[32m━━━━━━━━━━━━━━━━━━━━\u001b[0m\u001b[37m\u001b[0m \u001b[1m0s\u001b[0m 4ms/step - loss: 0.0166 - mae: 0.1587 - val_loss: 0.0167 - val_mae: 0.1389\n",
      "Epoch 14/500\n",
      "\u001b[1m33/33\u001b[0m \u001b[32m━━━━━━━━━━━━━━━━━━━━\u001b[0m\u001b[37m\u001b[0m \u001b[1m0s\u001b[0m 4ms/step - loss: 0.0161 - mae: 0.1547 - val_loss: 0.0162 - val_mae: 0.1441\n",
      "Epoch 15/500\n",
      "\u001b[1m33/33\u001b[0m \u001b[32m━━━━━━━━━━━━━━━━━━━━\u001b[0m\u001b[37m\u001b[0m \u001b[1m0s\u001b[0m 4ms/step - loss: 0.0155 - mae: 0.1519 - val_loss: 0.0161 - val_mae: 0.1452\n",
      "Epoch 16/500\n",
      "\u001b[1m33/33\u001b[0m \u001b[32m━━━━━━━━━━━━━━━━━━━━\u001b[0m\u001b[37m\u001b[0m \u001b[1m0s\u001b[0m 4ms/step - loss: 0.0157 - mae: 0.1552 - val_loss: 0.0161 - val_mae: 0.1428\n",
      "Epoch 17/500\n",
      "\u001b[1m33/33\u001b[0m \u001b[32m━━━━━━━━━━━━━━━━━━━━\u001b[0m\u001b[37m\u001b[0m \u001b[1m0s\u001b[0m 4ms/step - loss: 0.0165 - mae: 0.1591 - val_loss: 0.0162 - val_mae: 0.1389\n",
      "Epoch 18/500\n",
      "\u001b[1m33/33\u001b[0m \u001b[32m━━━━━━━━━━━━━━━━━━━━\u001b[0m\u001b[37m\u001b[0m \u001b[1m0s\u001b[0m 4ms/step - loss: 0.0160 - mae: 0.1532 - val_loss: 0.0159 - val_mae: 0.1422\n",
      "Epoch 19/500\n",
      "\u001b[1m33/33\u001b[0m \u001b[32m━━━━━━━━━━━━━━━━━━━━\u001b[0m\u001b[37m\u001b[0m \u001b[1m0s\u001b[0m 4ms/step - loss: 0.0152 - mae: 0.1505 - val_loss: 0.0161 - val_mae: 0.1384\n",
      "Epoch 20/500\n",
      "\u001b[1m33/33\u001b[0m \u001b[32m━━━━━━━━━━━━━━━━━━━━\u001b[0m\u001b[37m\u001b[0m \u001b[1m0s\u001b[0m 4ms/step - loss: 0.0158 - mae: 0.1531 - val_loss: 0.0157 - val_mae: 0.1431\n",
      "Epoch 21/500\n",
      "\u001b[1m33/33\u001b[0m \u001b[32m━━━━━━━━━━━━━━━━━━━━\u001b[0m\u001b[37m\u001b[0m \u001b[1m0s\u001b[0m 4ms/step - loss: 0.0152 - mae: 0.1517 - val_loss: 0.0157 - val_mae: 0.1416\n",
      "Epoch 22/500\n",
      "\u001b[1m33/33\u001b[0m \u001b[32m━━━━━━━━━━━━━━━━━━━━\u001b[0m\u001b[37m\u001b[0m \u001b[1m0s\u001b[0m 4ms/step - loss: 0.0157 - mae: 0.1552 - val_loss: 0.0159 - val_mae: 0.1377\n",
      "Epoch 23/500\n",
      "\u001b[1m33/33\u001b[0m \u001b[32m━━━━━━━━━━━━━━━━━━━━\u001b[0m\u001b[37m\u001b[0m \u001b[1m0s\u001b[0m 4ms/step - loss: 0.0152 - mae: 0.1509 - val_loss: 0.0158 - val_mae: 0.1382\n",
      "Epoch 24/500\n",
      "\u001b[1m33/33\u001b[0m \u001b[32m━━━━━━━━━━━━━━━━━━━━\u001b[0m\u001b[37m\u001b[0m \u001b[1m0s\u001b[0m 4ms/step - loss: 0.0152 - mae: 0.1511 - val_loss: 0.0154 - val_mae: 0.1427\n",
      "Epoch 25/500\n",
      "\u001b[1m33/33\u001b[0m \u001b[32m━━━━━━━━━━━━━━━━━━━━\u001b[0m\u001b[37m\u001b[0m \u001b[1m0s\u001b[0m 4ms/step - loss: 0.0153 - mae: 0.1538 - val_loss: 0.0156 - val_mae: 0.1395\n",
      "Epoch 26/500\n",
      "\u001b[1m33/33\u001b[0m \u001b[32m━━━━━━━━━━━━━━━━━━━━\u001b[0m\u001b[37m\u001b[0m \u001b[1m0s\u001b[0m 4ms/step - loss: 0.0150 - mae: 0.1514 - val_loss: 0.0154 - val_mae: 0.1403\n",
      "Epoch 27/500\n",
      "\u001b[1m33/33\u001b[0m \u001b[32m━━━━━━━━━━━━━━━━━━━━\u001b[0m\u001b[37m\u001b[0m \u001b[1m0s\u001b[0m 4ms/step - loss: 0.0148 - mae: 0.1517 - val_loss: 0.0155 - val_mae: 0.1381\n",
      "Epoch 28/500\n",
      "\u001b[1m33/33\u001b[0m \u001b[32m━━━━━━━━━━━━━━━━━━━━\u001b[0m\u001b[37m\u001b[0m \u001b[1m0s\u001b[0m 4ms/step - loss: 0.0159 - mae: 0.1561 - val_loss: 0.0154 - val_mae: 0.1388\n",
      "Epoch 29/500\n",
      "\u001b[1m33/33\u001b[0m \u001b[32m━━━━━━━━━━━━━━━━━━━━\u001b[0m\u001b[37m\u001b[0m \u001b[1m0s\u001b[0m 4ms/step - loss: 0.0150 - mae: 0.1500 - val_loss: 0.0152 - val_mae: 0.1415\n",
      "Epoch 30/500\n",
      "\u001b[1m33/33\u001b[0m \u001b[32m━━━━━━━━━━━━━━━━━━━━\u001b[0m\u001b[37m\u001b[0m \u001b[1m0s\u001b[0m 4ms/step - loss: 0.0152 - mae: 0.1544 - val_loss: 0.0151 - val_mae: 0.1413\n",
      "Epoch 31/500\n",
      "\u001b[1m33/33\u001b[0m \u001b[32m━━━━━━━━━━━━━━━━━━━━\u001b[0m\u001b[37m\u001b[0m \u001b[1m0s\u001b[0m 4ms/step - loss: 0.0150 - mae: 0.1552 - val_loss: 0.0152 - val_mae: 0.1385\n",
      "Epoch 32/500\n",
      "\u001b[1m33/33\u001b[0m \u001b[32m━━━━━━━━━━━━━━━━━━━━\u001b[0m\u001b[37m\u001b[0m \u001b[1m0s\u001b[0m 4ms/step - loss: 0.0151 - mae: 0.1520 - val_loss: 0.0153 - val_mae: 0.1368\n",
      "Epoch 33/500\n",
      "\u001b[1m33/33\u001b[0m \u001b[32m━━━━━━━━━━━━━━━━━━━━\u001b[0m\u001b[37m\u001b[0m \u001b[1m0s\u001b[0m 4ms/step - loss: 0.0150 - mae: 0.1513 - val_loss: 0.0152 - val_mae: 0.1376\n",
      "Epoch 34/500\n",
      "\u001b[1m33/33\u001b[0m \u001b[32m━━━━━━━━━━━━━━━━━━━━\u001b[0m\u001b[37m\u001b[0m \u001b[1m0s\u001b[0m 4ms/step - loss: 0.0147 - mae: 0.1480 - val_loss: 0.0149 - val_mae: 0.1414\n",
      "Epoch 35/500\n",
      "\u001b[1m33/33\u001b[0m \u001b[32m━━━━━━━━━━━━━━━━━━━━\u001b[0m\u001b[37m\u001b[0m \u001b[1m0s\u001b[0m 4ms/step - loss: 0.0149 - mae: 0.1532 - val_loss: 0.0151 - val_mae: 0.1368\n",
      "Epoch 36/500\n",
      "\u001b[1m33/33\u001b[0m \u001b[32m━━━━━━━━━━━━━━━━━━━━\u001b[0m\u001b[37m\u001b[0m \u001b[1m0s\u001b[0m 4ms/step - loss: 0.0150 - mae: 0.1526 - val_loss: 0.0149 - val_mae: 0.1380\n",
      "Epoch 37/500\n",
      "\u001b[1m33/33\u001b[0m \u001b[32m━━━━━━━━━━━━━━━━━━━━\u001b[0m\u001b[37m\u001b[0m \u001b[1m0s\u001b[0m 4ms/step - loss: 0.0147 - mae: 0.1505 - val_loss: 0.0149 - val_mae: 0.1375\n",
      "Epoch 38/500\n",
      "\u001b[1m33/33\u001b[0m \u001b[32m━━━━━━━━━━━━━━━━━━━━\u001b[0m\u001b[37m\u001b[0m \u001b[1m0s\u001b[0m 4ms/step - loss: 0.0150 - mae: 0.1513 - val_loss: 0.0149 - val_mae: 0.1370\n",
      "Epoch 39/500\n",
      "\u001b[1m33/33\u001b[0m \u001b[32m━━━━━━━━━━━━━━━━━━━━\u001b[0m\u001b[37m\u001b[0m \u001b[1m0s\u001b[0m 4ms/step - loss: 0.0149 - mae: 0.1522 - val_loss: 0.0149 - val_mae: 0.1353\n",
      "Epoch 40/500\n",
      "\u001b[1m33/33\u001b[0m \u001b[32m━━━━━━━━━━━━━━━━━━━━\u001b[0m\u001b[37m\u001b[0m \u001b[1m0s\u001b[0m 4ms/step - loss: 0.0147 - mae: 0.1481 - val_loss: 0.0147 - val_mae: 0.1372\n",
      "Epoch 41/500\n",
      "\u001b[1m33/33\u001b[0m \u001b[32m━━━━━━━━━━━━━━━━━━━━\u001b[0m\u001b[37m\u001b[0m \u001b[1m0s\u001b[0m 4ms/step - loss: 0.0147 - mae: 0.1504 - val_loss: 0.0147 - val_mae: 0.1373\n",
      "Epoch 42/500\n",
      "\u001b[1m33/33\u001b[0m \u001b[32m━━━━━━━━━━━━━━━━━━━━\u001b[0m\u001b[37m\u001b[0m \u001b[1m0s\u001b[0m 4ms/step - loss: 0.0146 - mae: 0.1483 - val_loss: 0.0148 - val_mae: 0.1346\n",
      "Epoch 43/500\n",
      "\u001b[1m33/33\u001b[0m \u001b[32m━━━━━━━━━━━━━━━━━━━━\u001b[0m\u001b[37m\u001b[0m \u001b[1m0s\u001b[0m 4ms/step - loss: 0.0148 - mae: 0.1513 - val_loss: 0.0145 - val_mae: 0.1378\n",
      "Epoch 44/500\n",
      "\u001b[1m33/33\u001b[0m \u001b[32m━━━━━━━━━━━━━━━━━━━━\u001b[0m\u001b[37m\u001b[0m \u001b[1m0s\u001b[0m 4ms/step - loss: 0.0143 - mae: 0.1481 - val_loss: 0.0145 - val_mae: 0.1366\n",
      "Epoch 45/500\n",
      "\u001b[1m33/33\u001b[0m \u001b[32m━━━━━━━━━━━━━━━━━━━━\u001b[0m\u001b[37m\u001b[0m \u001b[1m0s\u001b[0m 4ms/step - loss: 0.0145 - mae: 0.1503 - val_loss: 0.0147 - val_mae: 0.1332\n",
      "Epoch 46/500\n",
      "\u001b[1m33/33\u001b[0m \u001b[32m━━━━━━━━━━━━━━━━━━━━\u001b[0m\u001b[37m\u001b[0m \u001b[1m0s\u001b[0m 4ms/step - loss: 0.0149 - mae: 0.1503 - val_loss: 0.0144 - val_mae: 0.1364\n",
      "Epoch 47/500\n",
      "\u001b[1m33/33\u001b[0m \u001b[32m━━━━━━━━━━━━━━━━━━━━\u001b[0m\u001b[37m\u001b[0m \u001b[1m0s\u001b[0m 4ms/step - loss: 0.0143 - mae: 0.1483 - val_loss: 0.0143 - val_mae: 0.1367\n",
      "Epoch 48/500\n",
      "\u001b[1m33/33\u001b[0m \u001b[32m━━━━━━━━━━━━━━━━━━━━\u001b[0m\u001b[37m\u001b[0m \u001b[1m0s\u001b[0m 4ms/step - loss: 0.0142 - mae: 0.1493 - val_loss: 0.0145 - val_mae: 0.1331\n",
      "Epoch 49/500\n",
      "\u001b[1m33/33\u001b[0m \u001b[32m━━━━━━━━━━━━━━━━━━━━\u001b[0m\u001b[37m\u001b[0m \u001b[1m0s\u001b[0m 4ms/step - loss: 0.0138 - mae: 0.1432 - val_loss: 0.0143 - val_mae: 0.1357\n",
      "Epoch 50/500\n",
      "\u001b[1m33/33\u001b[0m \u001b[32m━━━━━━━━━━━━━━━━━━━━\u001b[0m\u001b[37m\u001b[0m \u001b[1m0s\u001b[0m 4ms/step - loss: 0.0141 - mae: 0.1474 - val_loss: 0.0142 - val_mae: 0.1353\n",
      "Epoch 51/500\n",
      "\u001b[1m33/33\u001b[0m \u001b[32m━━━━━━━━━━━━━━━━━━━━\u001b[0m\u001b[37m\u001b[0m \u001b[1m0s\u001b[0m 4ms/step - loss: 0.0144 - mae: 0.1475 - val_loss: 0.0143 - val_mae: 0.1333\n",
      "Epoch 52/500\n",
      "\u001b[1m33/33\u001b[0m \u001b[32m━━━━━━━━━━━━━━━━━━━━\u001b[0m\u001b[37m\u001b[0m \u001b[1m0s\u001b[0m 4ms/step - loss: 0.0144 - mae: 0.1493 - val_loss: 0.0142 - val_mae: 0.1329\n",
      "Epoch 53/500\n",
      "\u001b[1m33/33\u001b[0m \u001b[32m━━━━━━━━━━━━━━━━━━━━\u001b[0m\u001b[37m\u001b[0m \u001b[1m0s\u001b[0m 4ms/step - loss: 0.0137 - mae: 0.1433 - val_loss: 0.0140 - val_mae: 0.1357\n",
      "Epoch 54/500\n",
      "\u001b[1m33/33\u001b[0m \u001b[32m━━━━━━━━━━━━━━━━━━━━\u001b[0m\u001b[37m\u001b[0m \u001b[1m0s\u001b[0m 5ms/step - loss: 0.0138 - mae: 0.1456 - val_loss: 0.0142 - val_mae: 0.1316\n",
      "Epoch 55/500\n",
      "\u001b[1m33/33\u001b[0m \u001b[32m━━━━━━━━━━━━━━━━━━━━\u001b[0m\u001b[37m\u001b[0m \u001b[1m0s\u001b[0m 6ms/step - loss: 0.0142 - mae: 0.1468 - val_loss: 0.0140 - val_mae: 0.1337\n",
      "Epoch 56/500\n",
      "\u001b[1m33/33\u001b[0m \u001b[32m━━━━━━━━━━━━━━━━━━━━\u001b[0m\u001b[37m\u001b[0m \u001b[1m0s\u001b[0m 5ms/step - loss: 0.0139 - mae: 0.1456 - val_loss: 0.0141 - val_mae: 0.1315\n",
      "Epoch 57/500\n",
      "\u001b[1m33/33\u001b[0m \u001b[32m━━━━━━━━━━━━━━━━━━━━\u001b[0m\u001b[37m\u001b[0m \u001b[1m0s\u001b[0m 5ms/step - loss: 0.0137 - mae: 0.1432 - val_loss: 0.0139 - val_mae: 0.1334\n",
      "Epoch 58/500\n",
      "\u001b[1m33/33\u001b[0m \u001b[32m━━━━━━━━━━━━━━━━━━━━\u001b[0m\u001b[37m\u001b[0m \u001b[1m0s\u001b[0m 4ms/step - loss: 0.0137 - mae: 0.1442 - val_loss: 0.0138 - val_mae: 0.1340\n",
      "Epoch 59/500\n",
      "\u001b[1m33/33\u001b[0m \u001b[32m━━━━━━━━━━━━━━━━━━━━\u001b[0m\u001b[37m\u001b[0m \u001b[1m0s\u001b[0m 4ms/step - loss: 0.0137 - mae: 0.1431 - val_loss: 0.0138 - val_mae: 0.1325\n",
      "Epoch 60/500\n",
      "\u001b[1m33/33\u001b[0m \u001b[32m━━━━━━━━━━━━━━━━━━━━\u001b[0m\u001b[37m\u001b[0m \u001b[1m0s\u001b[0m 4ms/step - loss: 0.0141 - mae: 0.1475 - val_loss: 0.0137 - val_mae: 0.1329\n",
      "Epoch 61/500\n",
      "\u001b[1m33/33\u001b[0m \u001b[32m━━━━━━━━━━━━━━━━━━━━\u001b[0m\u001b[37m\u001b[0m \u001b[1m0s\u001b[0m 4ms/step - loss: 0.0135 - mae: 0.1423 - val_loss: 0.0138 - val_mae: 0.1314\n",
      "Epoch 62/500\n",
      "\u001b[1m33/33\u001b[0m \u001b[32m━━━━━━━━━━━━━━━━━━━━\u001b[0m\u001b[37m\u001b[0m \u001b[1m0s\u001b[0m 4ms/step - loss: 0.0138 - mae: 0.1436 - val_loss: 0.0137 - val_mae: 0.1319\n",
      "Epoch 63/500\n",
      "\u001b[1m33/33\u001b[0m \u001b[32m━━━━━━━━━━━━━━━━━━━━\u001b[0m\u001b[37m\u001b[0m \u001b[1m0s\u001b[0m 4ms/step - loss: 0.0142 - mae: 0.1457 - val_loss: 0.0137 - val_mae: 0.1308\n",
      "Epoch 64/500\n",
      "\u001b[1m33/33\u001b[0m \u001b[32m━━━━━━━━━━━━━━━━━━━━\u001b[0m\u001b[37m\u001b[0m \u001b[1m0s\u001b[0m 4ms/step - loss: 0.0140 - mae: 0.1461 - val_loss: 0.0136 - val_mae: 0.1306\n",
      "Epoch 65/500\n",
      "\u001b[1m33/33\u001b[0m \u001b[32m━━━━━━━━━━━━━━━━━━━━\u001b[0m\u001b[37m\u001b[0m \u001b[1m0s\u001b[0m 4ms/step - loss: 0.0134 - mae: 0.1398 - val_loss: 0.0135 - val_mae: 0.1308\n",
      "Epoch 66/500\n",
      "\u001b[1m33/33\u001b[0m \u001b[32m━━━━━━━━━━━━━━━━━━━━\u001b[0m\u001b[37m\u001b[0m \u001b[1m0s\u001b[0m 4ms/step - loss: 0.0131 - mae: 0.1404 - val_loss: 0.0135 - val_mae: 0.1305\n",
      "Epoch 67/500\n",
      "\u001b[1m33/33\u001b[0m \u001b[32m━━━━━━━━━━━━━━━━━━━━\u001b[0m\u001b[37m\u001b[0m \u001b[1m0s\u001b[0m 4ms/step - loss: 0.0137 - mae: 0.1445 - val_loss: 0.0135 - val_mae: 0.1296\n",
      "Epoch 68/500\n",
      "\u001b[1m33/33\u001b[0m \u001b[32m━━━━━━━━━━━━━━━━━━━━\u001b[0m\u001b[37m\u001b[0m \u001b[1m0s\u001b[0m 4ms/step - loss: 0.0133 - mae: 0.1414 - val_loss: 0.0136 - val_mae: 0.1272\n",
      "Epoch 69/500\n",
      "\u001b[1m33/33\u001b[0m \u001b[32m━━━━━━━━━━━━━━━━━━━━\u001b[0m\u001b[37m\u001b[0m \u001b[1m0s\u001b[0m 4ms/step - loss: 0.0137 - mae: 0.1431 - val_loss: 0.0134 - val_mae: 0.1285\n",
      "Epoch 70/500\n",
      "\u001b[1m33/33\u001b[0m \u001b[32m━━━━━━━━━━━━━━━━━━━━\u001b[0m\u001b[37m\u001b[0m \u001b[1m0s\u001b[0m 4ms/step - loss: 0.0134 - mae: 0.1415 - val_loss: 0.0133 - val_mae: 0.1287\n",
      "Epoch 71/500\n",
      "\u001b[1m33/33\u001b[0m \u001b[32m━━━━━━━━━━━━━━━━━━━━\u001b[0m\u001b[37m\u001b[0m \u001b[1m0s\u001b[0m 4ms/step - loss: 0.0132 - mae: 0.1402 - val_loss: 0.0133 - val_mae: 0.1290\n",
      "Epoch 72/500\n",
      "\u001b[1m33/33\u001b[0m \u001b[32m━━━━━━━━━━━━━━━━━━━━\u001b[0m\u001b[37m\u001b[0m \u001b[1m0s\u001b[0m 4ms/step - loss: 0.0132 - mae: 0.1410 - val_loss: 0.0132 - val_mae: 0.1282\n",
      "Epoch 73/500\n",
      "\u001b[1m33/33\u001b[0m \u001b[32m━━━━━━━━━━━━━━━━━━━━\u001b[0m\u001b[37m\u001b[0m \u001b[1m0s\u001b[0m 4ms/step - loss: 0.0134 - mae: 0.1409 - val_loss: 0.0133 - val_mae: 0.1266\n",
      "Epoch 74/500\n",
      "\u001b[1m33/33\u001b[0m \u001b[32m━━━━━━━━━━━━━━━━━━━━\u001b[0m\u001b[37m\u001b[0m \u001b[1m0s\u001b[0m 4ms/step - loss: 0.0129 - mae: 0.1382 - val_loss: 0.0131 - val_mae: 0.1278\n",
      "Epoch 75/500\n",
      "\u001b[1m33/33\u001b[0m \u001b[32m━━━━━━━━━━━━━━━━━━━━\u001b[0m\u001b[37m\u001b[0m \u001b[1m0s\u001b[0m 4ms/step - loss: 0.0133 - mae: 0.1414 - val_loss: 0.0131 - val_mae: 0.1273\n",
      "Epoch 76/500\n",
      "\u001b[1m33/33\u001b[0m \u001b[32m━━━━━━━━━━━━━━━━━━━━\u001b[0m\u001b[37m\u001b[0m \u001b[1m0s\u001b[0m 4ms/step - loss: 0.0129 - mae: 0.1381 - val_loss: 0.0130 - val_mae: 0.1274\n",
      "Epoch 77/500\n",
      "\u001b[1m33/33\u001b[0m \u001b[32m━━━━━━━━━━━━━━━━━━━━\u001b[0m\u001b[37m\u001b[0m \u001b[1m0s\u001b[0m 4ms/step - loss: 0.0127 - mae: 0.1364 - val_loss: 0.0130 - val_mae: 0.1265\n",
      "Epoch 78/500\n",
      "\u001b[1m33/33\u001b[0m \u001b[32m━━━━━━━━━━━━━━━━━━━━\u001b[0m\u001b[37m\u001b[0m \u001b[1m0s\u001b[0m 4ms/step - loss: 0.0128 - mae: 0.1374 - val_loss: 0.0130 - val_mae: 0.1261\n",
      "Epoch 79/500\n",
      "\u001b[1m33/33\u001b[0m \u001b[32m━━━━━━━━━━━━━━━━━━━━\u001b[0m\u001b[37m\u001b[0m \u001b[1m0s\u001b[0m 4ms/step - loss: 0.0132 - mae: 0.1404 - val_loss: 0.0129 - val_mae: 0.1257\n",
      "Epoch 80/500\n",
      "\u001b[1m33/33\u001b[0m \u001b[32m━━━━━━━━━━━━━━━━━━━━\u001b[0m\u001b[37m\u001b[0m \u001b[1m0s\u001b[0m 4ms/step - loss: 0.0125 - mae: 0.1365 - val_loss: 0.0128 - val_mae: 0.1263\n",
      "Epoch 81/500\n",
      "\u001b[1m33/33\u001b[0m \u001b[32m━━━━━━━━━━━━━━━━━━━━\u001b[0m\u001b[37m\u001b[0m \u001b[1m0s\u001b[0m 4ms/step - loss: 0.0128 - mae: 0.1361 - val_loss: 0.0129 - val_mae: 0.1241\n",
      "Epoch 82/500\n",
      "\u001b[1m33/33\u001b[0m \u001b[32m━━━━━━━━━━━━━━━━━━━━\u001b[0m\u001b[37m\u001b[0m \u001b[1m0s\u001b[0m 4ms/step - loss: 0.0124 - mae: 0.1343 - val_loss: 0.0127 - val_mae: 0.1259\n",
      "Epoch 83/500\n",
      "\u001b[1m33/33\u001b[0m \u001b[32m━━━━━━━━━━━━━━━━━━━━\u001b[0m\u001b[37m\u001b[0m \u001b[1m0s\u001b[0m 4ms/step - loss: 0.0128 - mae: 0.1383 - val_loss: 0.0127 - val_mae: 0.1251\n",
      "Epoch 84/500\n",
      "\u001b[1m33/33\u001b[0m \u001b[32m━━━━━━━━━━━━━━━━━━━━\u001b[0m\u001b[37m\u001b[0m \u001b[1m0s\u001b[0m 4ms/step - loss: 0.0126 - mae: 0.1370 - val_loss: 0.0127 - val_mae: 0.1236\n",
      "Epoch 85/500\n",
      "\u001b[1m33/33\u001b[0m \u001b[32m━━━━━━━━━━━━━━━━━━━━\u001b[0m\u001b[37m\u001b[0m \u001b[1m0s\u001b[0m 4ms/step - loss: 0.0122 - mae: 0.1327 - val_loss: 0.0126 - val_mae: 0.1252\n",
      "Epoch 86/500\n",
      "\u001b[1m33/33\u001b[0m \u001b[32m━━━━━━━━━━━━━━━━━━━━\u001b[0m\u001b[37m\u001b[0m \u001b[1m0s\u001b[0m 4ms/step - loss: 0.0127 - mae: 0.1372 - val_loss: 0.0127 - val_mae: 0.1221\n",
      "Epoch 87/500\n",
      "\u001b[1m33/33\u001b[0m \u001b[32m━━━━━━━━━━━━━━━━━━━━\u001b[0m\u001b[37m\u001b[0m \u001b[1m0s\u001b[0m 4ms/step - loss: 0.0123 - mae: 0.1334 - val_loss: 0.0125 - val_mae: 0.1241\n",
      "Epoch 88/500\n",
      "\u001b[1m33/33\u001b[0m \u001b[32m━━━━━━━━━━━━━━━━━━━━\u001b[0m\u001b[37m\u001b[0m \u001b[1m0s\u001b[0m 4ms/step - loss: 0.0126 - mae: 0.1343 - val_loss: 0.0124 - val_mae: 0.1236\n",
      "Epoch 89/500\n",
      "\u001b[1m33/33\u001b[0m \u001b[32m━━━━━━━━━━━━━━━━━━━━\u001b[0m\u001b[37m\u001b[0m \u001b[1m0s\u001b[0m 4ms/step - loss: 0.0123 - mae: 0.1343 - val_loss: 0.0125 - val_mae: 0.1220\n",
      "Epoch 90/500\n",
      "\u001b[1m33/33\u001b[0m \u001b[32m━━━━━━━━━━━━━━━━━━━━\u001b[0m\u001b[37m\u001b[0m \u001b[1m0s\u001b[0m 4ms/step - loss: 0.0122 - mae: 0.1327 - val_loss: 0.0124 - val_mae: 0.1221\n",
      "Epoch 91/500\n",
      "\u001b[1m33/33\u001b[0m \u001b[32m━━━━━━━━━━━━━━━━━━━━\u001b[0m\u001b[37m\u001b[0m \u001b[1m0s\u001b[0m 4ms/step - loss: 0.0127 - mae: 0.1371 - val_loss: 0.0123 - val_mae: 0.1223\n",
      "Epoch 92/500\n",
      "\u001b[1m33/33\u001b[0m \u001b[32m━━━━━━━━━━━━━━━━━━━━\u001b[0m\u001b[37m\u001b[0m \u001b[1m0s\u001b[0m 4ms/step - loss: 0.0124 - mae: 0.1347 - val_loss: 0.0124 - val_mae: 0.1207\n",
      "Epoch 93/500\n",
      "\u001b[1m33/33\u001b[0m \u001b[32m━━━━━━━━━━━━━━━━━━━━\u001b[0m\u001b[37m\u001b[0m \u001b[1m0s\u001b[0m 4ms/step - loss: 0.0122 - mae: 0.1326 - val_loss: 0.0122 - val_mae: 0.1225\n",
      "Epoch 94/500\n",
      "\u001b[1m33/33\u001b[0m \u001b[32m━━━━━━━━━━━━━━━━━━━━\u001b[0m\u001b[37m\u001b[0m \u001b[1m0s\u001b[0m 4ms/step - loss: 0.0118 - mae: 0.1306 - val_loss: 0.0122 - val_mae: 0.1212\n",
      "Epoch 95/500\n",
      "\u001b[1m33/33\u001b[0m \u001b[32m━━━━━━━━━━━━━━━━━━━━\u001b[0m\u001b[37m\u001b[0m \u001b[1m0s\u001b[0m 4ms/step - loss: 0.0126 - mae: 0.1358 - val_loss: 0.0122 - val_mae: 0.1201\n",
      "Epoch 96/500\n",
      "\u001b[1m33/33\u001b[0m \u001b[32m━━━━━━━━━━━━━━━━━━━━\u001b[0m\u001b[37m\u001b[0m \u001b[1m0s\u001b[0m 4ms/step - loss: 0.0118 - mae: 0.1297 - val_loss: 0.0121 - val_mae: 0.1205\n",
      "Epoch 97/500\n",
      "\u001b[1m33/33\u001b[0m \u001b[32m━━━━━━━━━━━━━━━━━━━━\u001b[0m\u001b[37m\u001b[0m \u001b[1m0s\u001b[0m 5ms/step - loss: 0.0124 - mae: 0.1349 - val_loss: 0.0120 - val_mae: 0.1205\n",
      "Epoch 98/500\n",
      "\u001b[1m33/33\u001b[0m \u001b[32m━━━━━━━━━━━━━━━━━━━━\u001b[0m\u001b[37m\u001b[0m \u001b[1m0s\u001b[0m 4ms/step - loss: 0.0119 - mae: 0.1300 - val_loss: 0.0120 - val_mae: 0.1199\n",
      "Epoch 99/500\n",
      "\u001b[1m33/33\u001b[0m \u001b[32m━━━━━━━━━━━━━━━━━━━━\u001b[0m\u001b[37m\u001b[0m \u001b[1m0s\u001b[0m 4ms/step - loss: 0.0117 - mae: 0.1291 - val_loss: 0.0120 - val_mae: 0.1199\n",
      "Epoch 100/500\n",
      "\u001b[1m33/33\u001b[0m \u001b[32m━━━━━━━━━━━━━━━━━━━━\u001b[0m\u001b[37m\u001b[0m \u001b[1m0s\u001b[0m 4ms/step - loss: 0.0121 - mae: 0.1321 - val_loss: 0.0119 - val_mae: 0.1197\n",
      "Epoch 101/500\n",
      "\u001b[1m33/33\u001b[0m \u001b[32m━━━━━━━━━━━━━━━━━━━━\u001b[0m\u001b[37m\u001b[0m \u001b[1m0s\u001b[0m 4ms/step - loss: 0.0124 - mae: 0.1340 - val_loss: 0.0119 - val_mae: 0.1193\n",
      "Epoch 102/500\n",
      "\u001b[1m33/33\u001b[0m \u001b[32m━━━━━━━━━━━━━━━━━━━━\u001b[0m\u001b[37m\u001b[0m \u001b[1m0s\u001b[0m 4ms/step - loss: 0.0121 - mae: 0.1320 - val_loss: 0.0118 - val_mae: 0.1195\n",
      "Epoch 103/500\n",
      "\u001b[1m33/33\u001b[0m \u001b[32m━━━━━━━━━━━━━━━━━━━━\u001b[0m\u001b[37m\u001b[0m \u001b[1m0s\u001b[0m 4ms/step - loss: 0.0122 - mae: 0.1319 - val_loss: 0.0118 - val_mae: 0.1187\n",
      "Epoch 104/500\n",
      "\u001b[1m33/33\u001b[0m \u001b[32m━━━━━━━━━━━━━━━━━━━━\u001b[0m\u001b[37m\u001b[0m \u001b[1m0s\u001b[0m 4ms/step - loss: 0.0118 - mae: 0.1300 - val_loss: 0.0117 - val_mae: 0.1192\n",
      "Epoch 105/500\n",
      "\u001b[1m33/33\u001b[0m \u001b[32m━━━━━━━━━━━━━━━━━━━━\u001b[0m\u001b[37m\u001b[0m \u001b[1m0s\u001b[0m 4ms/step - loss: 0.0116 - mae: 0.1300 - val_loss: 0.0117 - val_mae: 0.1183\n",
      "Epoch 106/500\n",
      "\u001b[1m33/33\u001b[0m \u001b[32m━━━━━━━━━━━━━━━━━━━━\u001b[0m\u001b[37m\u001b[0m \u001b[1m0s\u001b[0m 4ms/step - loss: 0.0116 - mae: 0.1289 - val_loss: 0.0116 - val_mae: 0.1183\n",
      "Epoch 107/500\n",
      "\u001b[1m33/33\u001b[0m \u001b[32m━━━━━━━━━━━━━━━━━━━━\u001b[0m\u001b[37m\u001b[0m \u001b[1m0s\u001b[0m 4ms/step - loss: 0.0116 - mae: 0.1285 - val_loss: 0.0116 - val_mae: 0.1185\n",
      "Epoch 108/500\n",
      "\u001b[1m33/33\u001b[0m \u001b[32m━━━━━━━━━━━━━━━━━━━━\u001b[0m\u001b[37m\u001b[0m \u001b[1m0s\u001b[0m 4ms/step - loss: 0.0115 - mae: 0.1287 - val_loss: 0.0115 - val_mae: 0.1183\n",
      "Epoch 109/500\n",
      "\u001b[1m33/33\u001b[0m \u001b[32m━━━━━━━━━━━━━━━━━━━━\u001b[0m\u001b[37m\u001b[0m \u001b[1m0s\u001b[0m 4ms/step - loss: 0.0116 - mae: 0.1285 - val_loss: 0.0115 - val_mae: 0.1180\n",
      "Epoch 110/500\n",
      "\u001b[1m33/33\u001b[0m \u001b[32m━━━━━━━━━━━━━━━━━━━━\u001b[0m\u001b[37m\u001b[0m \u001b[1m0s\u001b[0m 4ms/step - loss: 0.0119 - mae: 0.1313 - val_loss: 0.0115 - val_mae: 0.1174\n",
      "Epoch 111/500\n",
      "\u001b[1m33/33\u001b[0m \u001b[32m━━━━━━━━━━━━━━━━━━━━\u001b[0m\u001b[37m\u001b[0m \u001b[1m0s\u001b[0m 4ms/step - loss: 0.0117 - mae: 0.1291 - val_loss: 0.0114 - val_mae: 0.1171\n",
      "Epoch 112/500\n",
      "\u001b[1m33/33\u001b[0m \u001b[32m━━━━━━━━━━━━━━━━━━━━\u001b[0m\u001b[37m\u001b[0m \u001b[1m0s\u001b[0m 4ms/step - loss: 0.0116 - mae: 0.1275 - val_loss: 0.0114 - val_mae: 0.1170\n",
      "Epoch 113/500\n",
      "\u001b[1m33/33\u001b[0m \u001b[32m━━━━━━━━━━━━━━━━━━━━\u001b[0m\u001b[37m\u001b[0m \u001b[1m0s\u001b[0m 4ms/step - loss: 0.0113 - mae: 0.1262 - val_loss: 0.0113 - val_mae: 0.1174\n",
      "Epoch 114/500\n",
      "\u001b[1m33/33\u001b[0m \u001b[32m━━━━━━━━━━━━━━━━━━━━\u001b[0m\u001b[37m\u001b[0m \u001b[1m0s\u001b[0m 4ms/step - loss: 0.0116 - mae: 0.1284 - val_loss: 0.0113 - val_mae: 0.1165\n",
      "Epoch 115/500\n",
      "\u001b[1m33/33\u001b[0m \u001b[32m━━━━━━━━━━━━━━━━━━━━\u001b[0m\u001b[37m\u001b[0m \u001b[1m0s\u001b[0m 4ms/step - loss: 0.0111 - mae: 0.1240 - val_loss: 0.0113 - val_mae: 0.1165\n",
      "Epoch 116/500\n",
      "\u001b[1m33/33\u001b[0m \u001b[32m━━━━━━━━━━━━━━━━━━━━\u001b[0m\u001b[37m\u001b[0m \u001b[1m0s\u001b[0m 4ms/step - loss: 0.0112 - mae: 0.1265 - val_loss: 0.0112 - val_mae: 0.1164\n",
      "Epoch 117/500\n",
      "\u001b[1m33/33\u001b[0m \u001b[32m━━━━━━━━━━━━━━━━━━━━\u001b[0m\u001b[37m\u001b[0m \u001b[1m0s\u001b[0m 4ms/step - loss: 0.0115 - mae: 0.1272 - val_loss: 0.0112 - val_mae: 0.1161\n",
      "Epoch 118/500\n",
      "\u001b[1m33/33\u001b[0m \u001b[32m━━━━━━━━━━━━━━━━━━━━\u001b[0m\u001b[37m\u001b[0m \u001b[1m0s\u001b[0m 5ms/step - loss: 0.0109 - mae: 0.1233 - val_loss: 0.0111 - val_mae: 0.1157\n",
      "Epoch 119/500\n",
      "\u001b[1m33/33\u001b[0m \u001b[32m━━━━━━━━━━━━━━━━━━━━\u001b[0m\u001b[37m\u001b[0m \u001b[1m0s\u001b[0m 5ms/step - loss: 0.0111 - mae: 0.1249 - val_loss: 0.0111 - val_mae: 0.1158\n",
      "Epoch 120/500\n",
      "\u001b[1m33/33\u001b[0m \u001b[32m━━━━━━━━━━━━━━━━━━━━\u001b[0m\u001b[37m\u001b[0m \u001b[1m0s\u001b[0m 5ms/step - loss: 0.0108 - mae: 0.1229 - val_loss: 0.0111 - val_mae: 0.1152\n",
      "Epoch 121/500\n",
      "\u001b[1m33/33\u001b[0m \u001b[32m━━━━━━━━━━━━━━━━━━━━\u001b[0m\u001b[37m\u001b[0m \u001b[1m0s\u001b[0m 4ms/step - loss: 0.0108 - mae: 0.1222 - val_loss: 0.0110 - val_mae: 0.1151\n",
      "Epoch 122/500\n",
      "\u001b[1m33/33\u001b[0m \u001b[32m━━━━━━━━━━━━━━━━━━━━\u001b[0m\u001b[37m\u001b[0m \u001b[1m0s\u001b[0m 5ms/step - loss: 0.0113 - mae: 0.1256 - val_loss: 0.0109 - val_mae: 0.1150\n",
      "Epoch 123/500\n",
      "\u001b[1m33/33\u001b[0m \u001b[32m━━━━━━━━━━━━━━━━━━━━\u001b[0m\u001b[37m\u001b[0m \u001b[1m0s\u001b[0m 5ms/step - loss: 0.0112 - mae: 0.1259 - val_loss: 0.0109 - val_mae: 0.1144\n",
      "Epoch 124/500\n",
      "\u001b[1m33/33\u001b[0m \u001b[32m━━━━━━━━━━━━━━━━━━━━\u001b[0m\u001b[37m\u001b[0m \u001b[1m0s\u001b[0m 4ms/step - loss: 0.0113 - mae: 0.1253 - val_loss: 0.0109 - val_mae: 0.1140\n",
      "Epoch 125/500\n",
      "\u001b[1m33/33\u001b[0m \u001b[32m━━━━━━━━━━━━━━━━━━━━\u001b[0m\u001b[37m\u001b[0m \u001b[1m0s\u001b[0m 4ms/step - loss: 0.0109 - mae: 0.1211 - val_loss: 0.0108 - val_mae: 0.1141\n",
      "Epoch 126/500\n",
      "\u001b[1m33/33\u001b[0m \u001b[32m━━━━━━━━━━━━━━━━━━━━\u001b[0m\u001b[37m\u001b[0m \u001b[1m0s\u001b[0m 4ms/step - loss: 0.0112 - mae: 0.1245 - val_loss: 0.0108 - val_mae: 0.1136\n",
      "Epoch 127/500\n",
      "\u001b[1m33/33\u001b[0m \u001b[32m━━━━━━━━━━━━━━━━━━━━\u001b[0m\u001b[37m\u001b[0m \u001b[1m0s\u001b[0m 4ms/step - loss: 0.0111 - mae: 0.1235 - val_loss: 0.0108 - val_mae: 0.1131\n",
      "Epoch 128/500\n",
      "\u001b[1m33/33\u001b[0m \u001b[32m━━━━━━━━━━━━━━━━━━━━\u001b[0m\u001b[37m\u001b[0m \u001b[1m0s\u001b[0m 4ms/step - loss: 0.0111 - mae: 0.1234 - val_loss: 0.0108 - val_mae: 0.1130\n",
      "Epoch 129/500\n",
      "\u001b[1m33/33\u001b[0m \u001b[32m━━━━━━━━━━━━━━━━━━━━\u001b[0m\u001b[37m\u001b[0m \u001b[1m0s\u001b[0m 4ms/step - loss: 0.0109 - mae: 0.1221 - val_loss: 0.0107 - val_mae: 0.1126\n",
      "Epoch 130/500\n",
      "\u001b[1m33/33\u001b[0m \u001b[32m━━━━━━━━━━━━━━━━━━━━\u001b[0m\u001b[37m\u001b[0m \u001b[1m0s\u001b[0m 4ms/step - loss: 0.0106 - mae: 0.1197 - val_loss: 0.0107 - val_mae: 0.1124\n",
      "Epoch 131/500\n",
      "\u001b[1m33/33\u001b[0m \u001b[32m━━━━━━━━━━━━━━━━━━━━\u001b[0m\u001b[37m\u001b[0m \u001b[1m0s\u001b[0m 4ms/step - loss: 0.0109 - mae: 0.1219 - val_loss: 0.0107 - val_mae: 0.1119\n",
      "Epoch 132/500\n",
      "\u001b[1m33/33\u001b[0m \u001b[32m━━━━━━━━━━━━━━━━━━━━\u001b[0m\u001b[37m\u001b[0m \u001b[1m0s\u001b[0m 4ms/step - loss: 0.0111 - mae: 0.1234 - val_loss: 0.0106 - val_mae: 0.1117\n",
      "Epoch 133/500\n",
      "\u001b[1m33/33\u001b[0m \u001b[32m━━━━━━━━━━━━━━━━━━━━\u001b[0m\u001b[37m\u001b[0m \u001b[1m0s\u001b[0m 4ms/step - loss: 0.0111 - mae: 0.1231 - val_loss: 0.0106 - val_mae: 0.1115\n",
      "Epoch 134/500\n",
      "\u001b[1m33/33\u001b[0m \u001b[32m━━━━━━━━━━━━━━━━━━━━\u001b[0m\u001b[37m\u001b[0m \u001b[1m0s\u001b[0m 4ms/step - loss: 0.0105 - mae: 0.1200 - val_loss: 0.0106 - val_mae: 0.1110\n",
      "Epoch 135/500\n",
      "\u001b[1m33/33\u001b[0m \u001b[32m━━━━━━━━━━━━━━━━━━━━\u001b[0m\u001b[37m\u001b[0m \u001b[1m0s\u001b[0m 4ms/step - loss: 0.0110 - mae: 0.1219 - val_loss: 0.0106 - val_mae: 0.1106\n",
      "Epoch 136/500\n",
      "\u001b[1m33/33\u001b[0m \u001b[32m━━━━━━━━━━━━━━━━━━━━\u001b[0m\u001b[37m\u001b[0m \u001b[1m0s\u001b[0m 4ms/step - loss: 0.0105 - mae: 0.1186 - val_loss: 0.0105 - val_mae: 0.1105\n",
      "Epoch 137/500\n",
      "\u001b[1m33/33\u001b[0m \u001b[32m━━━━━━━━━━━━━━━━━━━━\u001b[0m\u001b[37m\u001b[0m \u001b[1m0s\u001b[0m 4ms/step - loss: 0.0105 - mae: 0.1184 - val_loss: 0.0105 - val_mae: 0.1100\n",
      "Epoch 138/500\n",
      "\u001b[1m33/33\u001b[0m \u001b[32m━━━━━━━━━━━━━━━━━━━━\u001b[0m\u001b[37m\u001b[0m \u001b[1m0s\u001b[0m 4ms/step - loss: 0.0106 - mae: 0.1183 - val_loss: 0.0105 - val_mae: 0.1096\n",
      "Epoch 139/500\n",
      "\u001b[1m33/33\u001b[0m \u001b[32m━━━━━━━━━━━━━━━━━━━━\u001b[0m\u001b[37m\u001b[0m \u001b[1m0s\u001b[0m 4ms/step - loss: 0.0105 - mae: 0.1180 - val_loss: 0.0105 - val_mae: 0.1095\n",
      "Epoch 140/500\n",
      "\u001b[1m33/33\u001b[0m \u001b[32m━━━━━━━━━━━━━━━━━━━━\u001b[0m\u001b[37m\u001b[0m \u001b[1m0s\u001b[0m 4ms/step - loss: 0.0100 - mae: 0.1155 - val_loss: 0.0105 - val_mae: 0.1092\n",
      "Epoch 141/500\n",
      "\u001b[1m33/33\u001b[0m \u001b[32m━━━━━━━━━━━━━━━━━━━━\u001b[0m\u001b[37m\u001b[0m \u001b[1m0s\u001b[0m 4ms/step - loss: 0.0108 - mae: 0.1200 - val_loss: 0.0105 - val_mae: 0.1088\n",
      "Epoch 142/500\n",
      "\u001b[1m33/33\u001b[0m \u001b[32m━━━━━━━━━━━━━━━━━━━━\u001b[0m\u001b[37m\u001b[0m \u001b[1m0s\u001b[0m 4ms/step - loss: 0.0107 - mae: 0.1185 - val_loss: 0.0104 - val_mae: 0.1085\n",
      "Epoch 143/500\n",
      "\u001b[1m33/33\u001b[0m \u001b[32m━━━━━━━━━━━━━━━━━━━━\u001b[0m\u001b[37m\u001b[0m \u001b[1m0s\u001b[0m 4ms/step - loss: 0.0104 - mae: 0.1174 - val_loss: 0.0104 - val_mae: 0.1085\n",
      "Epoch 144/500\n",
      "\u001b[1m33/33\u001b[0m \u001b[32m━━━━━━━━━━━━━━━━━━━━\u001b[0m\u001b[37m\u001b[0m \u001b[1m0s\u001b[0m 4ms/step - loss: 0.0111 - mae: 0.1212 - val_loss: 0.0104 - val_mae: 0.1080\n",
      "Epoch 145/500\n",
      "\u001b[1m33/33\u001b[0m \u001b[32m━━━━━━━━━━━━━━━━━━━━\u001b[0m\u001b[37m\u001b[0m \u001b[1m0s\u001b[0m 4ms/step - loss: 0.0106 - mae: 0.1182 - val_loss: 0.0104 - val_mae: 0.1077\n",
      "Epoch 146/500\n",
      "\u001b[1m33/33\u001b[0m \u001b[32m━━━━━━━━━━━━━━━━━━━━\u001b[0m\u001b[37m\u001b[0m \u001b[1m0s\u001b[0m 4ms/step - loss: 0.0104 - mae: 0.1164 - val_loss: 0.0104 - val_mae: 0.1077\n",
      "Epoch 147/500\n",
      "\u001b[1m33/33\u001b[0m \u001b[32m━━━━━━━━━━━━━━━━━━━━\u001b[0m\u001b[37m\u001b[0m \u001b[1m0s\u001b[0m 4ms/step - loss: 0.0110 - mae: 0.1201 - val_loss: 0.0104 - val_mae: 0.1074\n",
      "Epoch 148/500\n",
      "\u001b[1m33/33\u001b[0m \u001b[32m━━━━━━━━━━━━━━━━━━━━\u001b[0m\u001b[37m\u001b[0m \u001b[1m0s\u001b[0m 4ms/step - loss: 0.0103 - mae: 0.1169 - val_loss: 0.0104 - val_mae: 0.1072\n",
      "Epoch 149/500\n",
      "\u001b[1m33/33\u001b[0m \u001b[32m━━━━━━━━━━━━━━━━━━━━\u001b[0m\u001b[37m\u001b[0m \u001b[1m0s\u001b[0m 4ms/step - loss: 0.0101 - mae: 0.1142 - val_loss: 0.0104 - val_mae: 0.1069\n",
      "Epoch 150/500\n",
      "\u001b[1m33/33\u001b[0m \u001b[32m━━━━━━━━━━━━━━━━━━━━\u001b[0m\u001b[37m\u001b[0m \u001b[1m0s\u001b[0m 4ms/step - loss: 0.0105 - mae: 0.1173 - val_loss: 0.0103 - val_mae: 0.1069\n",
      "Epoch 151/500\n",
      "\u001b[1m33/33\u001b[0m \u001b[32m━━━━━━━━━━━━━━━━━━━━\u001b[0m\u001b[37m\u001b[0m \u001b[1m0s\u001b[0m 4ms/step - loss: 0.0105 - mae: 0.1161 - val_loss: 0.0103 - val_mae: 0.1066\n",
      "Epoch 152/500\n",
      "\u001b[1m33/33\u001b[0m \u001b[32m━━━━━━━━━━━━━━━━━━━━\u001b[0m\u001b[37m\u001b[0m \u001b[1m0s\u001b[0m 4ms/step - loss: 0.0105 - mae: 0.1159 - val_loss: 0.0103 - val_mae: 0.1063\n",
      "Epoch 153/500\n",
      "\u001b[1m33/33\u001b[0m \u001b[32m━━━━━━━━━━━━━━━━━━━━\u001b[0m\u001b[37m\u001b[0m \u001b[1m0s\u001b[0m 4ms/step - loss: 0.0101 - mae: 0.1143 - val_loss: 0.0103 - val_mae: 0.1064\n",
      "Epoch 154/500\n",
      "\u001b[1m33/33\u001b[0m \u001b[32m━━━━━━━━━━━━━━━━━━━━\u001b[0m\u001b[37m\u001b[0m \u001b[1m0s\u001b[0m 4ms/step - loss: 0.0105 - mae: 0.1156 - val_loss: 0.0103 - val_mae: 0.1060\n",
      "Epoch 155/500\n",
      "\u001b[1m33/33\u001b[0m \u001b[32m━━━━━━━━━━━━━━━━━━━━\u001b[0m\u001b[37m\u001b[0m \u001b[1m0s\u001b[0m 4ms/step - loss: 0.0109 - mae: 0.1180 - val_loss: 0.0103 - val_mae: 0.1060\n",
      "Epoch 156/500\n",
      "\u001b[1m33/33\u001b[0m \u001b[32m━━━━━━━━━━━━━━━━━━━━\u001b[0m\u001b[37m\u001b[0m \u001b[1m0s\u001b[0m 4ms/step - loss: 0.0105 - mae: 0.1153 - val_loss: 0.0103 - val_mae: 0.1057\n",
      "Epoch 157/500\n",
      "\u001b[1m33/33\u001b[0m \u001b[32m━━━━━━━━━━━━━━━━━━━━\u001b[0m\u001b[37m\u001b[0m \u001b[1m0s\u001b[0m 4ms/step - loss: 0.0110 - mae: 0.1178 - val_loss: 0.0103 - val_mae: 0.1055\n",
      "Epoch 158/500\n",
      "\u001b[1m33/33\u001b[0m \u001b[32m━━━━━━━━━━━━━━━━━━━━\u001b[0m\u001b[37m\u001b[0m \u001b[1m0s\u001b[0m 4ms/step - loss: 0.0106 - mae: 0.1160 - val_loss: 0.0103 - val_mae: 0.1054\n",
      "Epoch 159/500\n",
      "\u001b[1m33/33\u001b[0m \u001b[32m━━━━━━━━━━━━━━━━━━━━\u001b[0m\u001b[37m\u001b[0m \u001b[1m0s\u001b[0m 4ms/step - loss: 0.0100 - mae: 0.1126 - val_loss: 0.0103 - val_mae: 0.1054\n",
      "Epoch 160/500\n",
      "\u001b[1m33/33\u001b[0m \u001b[32m━━━━━━━━━━━━━━━━━━━━\u001b[0m\u001b[37m\u001b[0m \u001b[1m0s\u001b[0m 4ms/step - loss: 0.0099 - mae: 0.1120 - val_loss: 0.0103 - val_mae: 0.1052\n",
      "Epoch 161/500\n",
      "\u001b[1m33/33\u001b[0m \u001b[32m━━━━━━━━━━━━━━━━━━━━\u001b[0m\u001b[37m\u001b[0m \u001b[1m0s\u001b[0m 4ms/step - loss: 0.0105 - mae: 0.1164 - val_loss: 0.0103 - val_mae: 0.1051\n",
      "Epoch 162/500\n",
      "\u001b[1m33/33\u001b[0m \u001b[32m━━━━━━━━━━━━━━━━━━━━\u001b[0m\u001b[37m\u001b[0m \u001b[1m0s\u001b[0m 4ms/step - loss: 0.0105 - mae: 0.1161 - val_loss: 0.0103 - val_mae: 0.1050\n",
      "Epoch 163/500\n",
      "\u001b[1m33/33\u001b[0m \u001b[32m━━━━━━━━━━━━━━━━━━━━\u001b[0m\u001b[37m\u001b[0m \u001b[1m0s\u001b[0m 4ms/step - loss: 0.0103 - mae: 0.1132 - val_loss: 0.0103 - val_mae: 0.1048\n",
      "Epoch 164/500\n",
      "\u001b[1m33/33\u001b[0m \u001b[32m━━━━━━━━━━━━━━━━━━━━\u001b[0m\u001b[37m\u001b[0m \u001b[1m0s\u001b[0m 4ms/step - loss: 0.0104 - mae: 0.1151 - val_loss: 0.0103 - val_mae: 0.1047\n",
      "Epoch 165/500\n",
      "\u001b[1m33/33\u001b[0m \u001b[32m━━━━━━━━━━━━━━━━━━━━\u001b[0m\u001b[37m\u001b[0m \u001b[1m0s\u001b[0m 4ms/step - loss: 0.0102 - mae: 0.1140 - val_loss: 0.0103 - val_mae: 0.1047\n",
      "Epoch 166/500\n",
      "\u001b[1m33/33\u001b[0m \u001b[32m━━━━━━━━━━━━━━━━━━━━\u001b[0m\u001b[37m\u001b[0m \u001b[1m0s\u001b[0m 4ms/step - loss: 0.0101 - mae: 0.1130 - val_loss: 0.0103 - val_mae: 0.1045\n",
      "Epoch 167/500\n",
      "\u001b[1m33/33\u001b[0m \u001b[32m━━━━━━━━━━━━━━━━━━━━\u001b[0m\u001b[37m\u001b[0m \u001b[1m0s\u001b[0m 4ms/step - loss: 0.0100 - mae: 0.1122 - val_loss: 0.0103 - val_mae: 0.1045\n",
      "Epoch 168/500\n",
      "\u001b[1m33/33\u001b[0m \u001b[32m━━━━━━━━━━━━━━━━━━━━\u001b[0m\u001b[37m\u001b[0m \u001b[1m0s\u001b[0m 4ms/step - loss: 0.0108 - mae: 0.1171 - val_loss: 0.0103 - val_mae: 0.1044\n",
      "Epoch 169/500\n",
      "\u001b[1m33/33\u001b[0m \u001b[32m━━━━━━━━━━━━━━━━━━━━\u001b[0m\u001b[37m\u001b[0m \u001b[1m0s\u001b[0m 4ms/step - loss: 0.0100 - mae: 0.1120 - val_loss: 0.0103 - val_mae: 0.1043\n",
      "Epoch 170/500\n",
      "\u001b[1m33/33\u001b[0m \u001b[32m━━━━━━━━━━━━━━━━━━━━\u001b[0m\u001b[37m\u001b[0m \u001b[1m0s\u001b[0m 4ms/step - loss: 0.0104 - mae: 0.1142 - val_loss: 0.0103 - val_mae: 0.1042\n",
      "Epoch 171/500\n",
      "\u001b[1m33/33\u001b[0m \u001b[32m━━━━━━━━━━━━━━━━━━━━\u001b[0m\u001b[37m\u001b[0m \u001b[1m0s\u001b[0m 5ms/step - loss: 0.0106 - mae: 0.1154 - val_loss: 0.0102 - val_mae: 0.1042\n",
      "Epoch 172/500\n",
      "\u001b[1m33/33\u001b[0m \u001b[32m━━━━━━━━━━━━━━━━━━━━\u001b[0m\u001b[37m\u001b[0m \u001b[1m0s\u001b[0m 4ms/step - loss: 0.0106 - mae: 0.1151 - val_loss: 0.0103 - val_mae: 0.1041\n",
      "Epoch 173/500\n",
      "\u001b[1m33/33\u001b[0m \u001b[32m━━━━━━━━━━━━━━━━━━━━\u001b[0m\u001b[37m\u001b[0m \u001b[1m0s\u001b[0m 4ms/step - loss: 0.0100 - mae: 0.1109 - val_loss: 0.0102 - val_mae: 0.1041\n",
      "Epoch 174/500\n",
      "\u001b[1m33/33\u001b[0m \u001b[32m━━━━━━━━━━━━━━━━━━━━\u001b[0m\u001b[37m\u001b[0m \u001b[1m0s\u001b[0m 4ms/step - loss: 0.0103 - mae: 0.1134 - val_loss: 0.0103 - val_mae: 0.1040\n",
      "Epoch 175/500\n",
      "\u001b[1m33/33\u001b[0m \u001b[32m━━━━━━━━━━━━━━━━━━━━\u001b[0m\u001b[37m\u001b[0m \u001b[1m0s\u001b[0m 4ms/step - loss: 0.0106 - mae: 0.1154 - val_loss: 0.0102 - val_mae: 0.1040\n",
      "Epoch 176/500\n",
      "\u001b[1m33/33\u001b[0m \u001b[32m━━━━━━━━━━━━━━━━━━━━\u001b[0m\u001b[37m\u001b[0m \u001b[1m0s\u001b[0m 4ms/step - loss: 0.0104 - mae: 0.1149 - val_loss: 0.0103 - val_mae: 0.1038\n",
      "Epoch 177/500\n",
      "\u001b[1m33/33\u001b[0m \u001b[32m━━━━━━━━━━━━━━━━━━━━\u001b[0m\u001b[37m\u001b[0m \u001b[1m0s\u001b[0m 4ms/step - loss: 0.0106 - mae: 0.1148 - val_loss: 0.0103 - val_mae: 0.1038\n",
      "Epoch 178/500\n",
      "\u001b[1m33/33\u001b[0m \u001b[32m━━━━━━━━━━━━━━━━━━━━\u001b[0m\u001b[37m\u001b[0m \u001b[1m0s\u001b[0m 4ms/step - loss: 0.0107 - mae: 0.1149 - val_loss: 0.0102 - val_mae: 0.1037\n",
      "Epoch 179/500\n",
      "\u001b[1m33/33\u001b[0m \u001b[32m━━━━━━━━━━━━━━━━━━━━\u001b[0m\u001b[37m\u001b[0m \u001b[1m0s\u001b[0m 4ms/step - loss: 0.0104 - mae: 0.1136 - val_loss: 0.0103 - val_mae: 0.1037\n",
      "Epoch 180/500\n",
      "\u001b[1m33/33\u001b[0m \u001b[32m━━━━━━━━━━━━━━━━━━━━\u001b[0m\u001b[37m\u001b[0m \u001b[1m0s\u001b[0m 4ms/step - loss: 0.0099 - mae: 0.1116 - val_loss: 0.0103 - val_mae: 0.1036\n",
      "Epoch 181/500\n",
      "\u001b[1m33/33\u001b[0m \u001b[32m━━━━━━━━━━━━━━━━━━━━\u001b[0m\u001b[37m\u001b[0m \u001b[1m0s\u001b[0m 4ms/step - loss: 0.0101 - mae: 0.1128 - val_loss: 0.0102 - val_mae: 0.1036\n",
      "Epoch 182/500\n",
      "\u001b[1m33/33\u001b[0m \u001b[32m━━━━━━━━━━━━━━━━━━━━\u001b[0m\u001b[37m\u001b[0m \u001b[1m0s\u001b[0m 4ms/step - loss: 0.0106 - mae: 0.1143 - val_loss: 0.0103 - val_mae: 0.1036\n",
      "Epoch 183/500\n",
      "\u001b[1m33/33\u001b[0m \u001b[32m━━━━━━━━━━━━━━━━━━━━\u001b[0m\u001b[37m\u001b[0m \u001b[1m0s\u001b[0m 5ms/step - loss: 0.0107 - mae: 0.1144 - val_loss: 0.0103 - val_mae: 0.1035\n",
      "Epoch 184/500\n",
      "\u001b[1m33/33\u001b[0m \u001b[32m━━━━━━━━━━━━━━━━━━━━\u001b[0m\u001b[37m\u001b[0m \u001b[1m0s\u001b[0m 5ms/step - loss: 0.0105 - mae: 0.1143 - val_loss: 0.0103 - val_mae: 0.1035\n",
      "Epoch 185/500\n",
      "\u001b[1m33/33\u001b[0m \u001b[32m━━━━━━━━━━━━━━━━━━━━\u001b[0m\u001b[37m\u001b[0m \u001b[1m0s\u001b[0m 4ms/step - loss: 0.0100 - mae: 0.1112 - val_loss: 0.0103 - val_mae: 0.1034\n",
      "Epoch 186/500\n",
      "\u001b[1m33/33\u001b[0m \u001b[32m━━━━━━━━━━━━━━━━━━━━\u001b[0m\u001b[37m\u001b[0m \u001b[1m0s\u001b[0m 4ms/step - loss: 0.0107 - mae: 0.1150 - val_loss: 0.0102 - val_mae: 0.1036\n",
      "Epoch 187/500\n",
      "\u001b[1m33/33\u001b[0m \u001b[32m━━━━━━━━━━━━━━━━━━━━\u001b[0m\u001b[37m\u001b[0m \u001b[1m0s\u001b[0m 4ms/step - loss: 0.0108 - mae: 0.1160 - val_loss: 0.0102 - val_mae: 0.1034\n",
      "Epoch 188/500\n",
      "\u001b[1m33/33\u001b[0m \u001b[32m━━━━━━━━━━━━━━━━━━━━\u001b[0m\u001b[37m\u001b[0m \u001b[1m0s\u001b[0m 4ms/step - loss: 0.0105 - mae: 0.1152 - val_loss: 0.0103 - val_mae: 0.1034\n",
      "Epoch 189/500\n",
      "\u001b[1m33/33\u001b[0m \u001b[32m━━━━━━━━━━━━━━━━━━━━\u001b[0m\u001b[37m\u001b[0m \u001b[1m0s\u001b[0m 4ms/step - loss: 0.0102 - mae: 0.1120 - val_loss: 0.0103 - val_mae: 0.1033\n",
      "Epoch 190/500\n",
      "\u001b[1m33/33\u001b[0m \u001b[32m━━━━━━━━━━━━━━━━━━━━\u001b[0m\u001b[37m\u001b[0m \u001b[1m0s\u001b[0m 4ms/step - loss: 0.0103 - mae: 0.1129 - val_loss: 0.0103 - val_mae: 0.1033\n",
      "Epoch 191/500\n",
      "\u001b[1m33/33\u001b[0m \u001b[32m━━━━━━━━━━━━━━━━━━━━\u001b[0m\u001b[37m\u001b[0m \u001b[1m0s\u001b[0m 4ms/step - loss: 0.0101 - mae: 0.1121 - val_loss: 0.0102 - val_mae: 0.1034\n",
      "Epoch 192/500\n",
      "\u001b[1m33/33\u001b[0m \u001b[32m━━━━━━━━━━━━━━━━━━━━\u001b[0m\u001b[37m\u001b[0m \u001b[1m0s\u001b[0m 4ms/step - loss: 0.0103 - mae: 0.1137 - val_loss: 0.0103 - val_mae: 0.1033\n",
      "Epoch 193/500\n",
      "\u001b[1m33/33\u001b[0m \u001b[32m━━━━━━━━━━━━━━━━━━━━\u001b[0m\u001b[37m\u001b[0m \u001b[1m0s\u001b[0m 4ms/step - loss: 0.0108 - mae: 0.1163 - val_loss: 0.0102 - val_mae: 0.1033\n",
      "Epoch 194/500\n",
      "\u001b[1m33/33\u001b[0m \u001b[32m━━━━━━━━━━━━━━━━━━━━\u001b[0m\u001b[37m\u001b[0m \u001b[1m0s\u001b[0m 4ms/step - loss: 0.0104 - mae: 0.1139 - val_loss: 0.0102 - val_mae: 0.1033\n",
      "Epoch 195/500\n",
      "\u001b[1m33/33\u001b[0m \u001b[32m━━━━━━━━━━━━━━━━━━━━\u001b[0m\u001b[37m\u001b[0m \u001b[1m0s\u001b[0m 4ms/step - loss: 0.0111 - mae: 0.1183 - val_loss: 0.0103 - val_mae: 0.1032\n",
      "Epoch 196/500\n",
      "\u001b[1m33/33\u001b[0m \u001b[32m━━━━━━━━━━━━━━━━━━━━\u001b[0m\u001b[37m\u001b[0m \u001b[1m0s\u001b[0m 4ms/step - loss: 0.0101 - mae: 0.1117 - val_loss: 0.0103 - val_mae: 0.1032\n",
      "Epoch 197/500\n",
      "\u001b[1m33/33\u001b[0m \u001b[32m━━━━━━━━━━━━━━━━━━━━\u001b[0m\u001b[37m\u001b[0m \u001b[1m0s\u001b[0m 6ms/step - loss: 0.0107 - mae: 0.1154 - val_loss: 0.0103 - val_mae: 0.1032\n",
      "Epoch 198/500\n",
      "\u001b[1m33/33\u001b[0m \u001b[32m━━━━━━━━━━━━━━━━━━━━\u001b[0m\u001b[37m\u001b[0m \u001b[1m0s\u001b[0m 5ms/step - loss: 0.0103 - mae: 0.1128 - val_loss: 0.0103 - val_mae: 0.1031\n",
      "Epoch 199/500\n",
      "\u001b[1m33/33\u001b[0m \u001b[32m━━━━━━━━━━━━━━━━━━━━\u001b[0m\u001b[37m\u001b[0m \u001b[1m0s\u001b[0m 7ms/step - loss: 0.0105 - mae: 0.1140 - val_loss: 0.0102 - val_mae: 0.1032\n",
      "Epoch 200/500\n",
      "\u001b[1m33/33\u001b[0m \u001b[32m━━━━━━━━━━━━━━━━━━━━\u001b[0m\u001b[37m\u001b[0m \u001b[1m0s\u001b[0m 4ms/step - loss: 0.0106 - mae: 0.1143 - val_loss: 0.0103 - val_mae: 0.1032\n",
      "Epoch 201/500\n",
      "\u001b[1m33/33\u001b[0m \u001b[32m━━━━━━━━━━━━━━━━━━━━\u001b[0m\u001b[37m\u001b[0m \u001b[1m0s\u001b[0m 4ms/step - loss: 0.0104 - mae: 0.1144 - val_loss: 0.0102 - val_mae: 0.1032\n",
      "Epoch 202/500\n",
      "\u001b[1m33/33\u001b[0m \u001b[32m━━━━━━━━━━━━━━━━━━━━\u001b[0m\u001b[37m\u001b[0m \u001b[1m0s\u001b[0m 4ms/step - loss: 0.0101 - mae: 0.1126 - val_loss: 0.0103 - val_mae: 0.1031\n",
      "Epoch 203/500\n",
      "\u001b[1m33/33\u001b[0m \u001b[32m━━━━━━━━━━━━━━━━━━━━\u001b[0m\u001b[37m\u001b[0m \u001b[1m0s\u001b[0m 4ms/step - loss: 0.0101 - mae: 0.1112 - val_loss: 0.0102 - val_mae: 0.1034\n",
      "Epoch 204/500\n",
      "\u001b[1m33/33\u001b[0m \u001b[32m━━━━━━━━━━━━━━━━━━━━\u001b[0m\u001b[37m\u001b[0m \u001b[1m0s\u001b[0m 4ms/step - loss: 0.0100 - mae: 0.1106 - val_loss: 0.0103 - val_mae: 0.1031\n",
      "Epoch 205/500\n",
      "\u001b[1m33/33\u001b[0m \u001b[32m━━━━━━━━━━━━━━━━━━━━\u001b[0m\u001b[37m\u001b[0m \u001b[1m0s\u001b[0m 4ms/step - loss: 0.0109 - mae: 0.1174 - val_loss: 0.0103 - val_mae: 0.1031\n",
      "Epoch 206/500\n",
      "\u001b[1m33/33\u001b[0m \u001b[32m━━━━━━━━━━━━━━━━━━━━\u001b[0m\u001b[37m\u001b[0m \u001b[1m0s\u001b[0m 4ms/step - loss: 0.0102 - mae: 0.1125 - val_loss: 0.0103 - val_mae: 0.1031\n",
      "Epoch 207/500\n",
      "\u001b[1m33/33\u001b[0m \u001b[32m━━━━━━━━━━━━━━━━━━━━\u001b[0m\u001b[37m\u001b[0m \u001b[1m0s\u001b[0m 4ms/step - loss: 0.0101 - mae: 0.1117 - val_loss: 0.0103 - val_mae: 0.1030\n",
      "Epoch 208/500\n",
      "\u001b[1m33/33\u001b[0m \u001b[32m━━━━━━━━━━━━━━━━━━━━\u001b[0m\u001b[37m\u001b[0m \u001b[1m0s\u001b[0m 4ms/step - loss: 0.0103 - mae: 0.1130 - val_loss: 0.0102 - val_mae: 0.1031\n",
      "Epoch 209/500\n",
      "\u001b[1m33/33\u001b[0m \u001b[32m━━━━━━━━━━━━━━━━━━━━\u001b[0m\u001b[37m\u001b[0m \u001b[1m0s\u001b[0m 4ms/step - loss: 0.0104 - mae: 0.1127 - val_loss: 0.0103 - val_mae: 0.1030\n",
      "Epoch 210/500\n",
      "\u001b[1m33/33\u001b[0m \u001b[32m━━━━━━━━━━━━━━━━━━━━\u001b[0m\u001b[37m\u001b[0m \u001b[1m0s\u001b[0m 4ms/step - loss: 0.0104 - mae: 0.1131 - val_loss: 0.0103 - val_mae: 0.1030\n",
      "Epoch 211/500\n",
      "\u001b[1m33/33\u001b[0m \u001b[32m━━━━━━━━━━━━━━━━━━━━\u001b[0m\u001b[37m\u001b[0m \u001b[1m0s\u001b[0m 4ms/step - loss: 0.0109 - mae: 0.1170 - val_loss: 0.0103 - val_mae: 0.1030\n",
      "Epoch 212/500\n",
      "\u001b[1m33/33\u001b[0m \u001b[32m━━━━━━━━━━━━━━━━━━━━\u001b[0m\u001b[37m\u001b[0m \u001b[1m0s\u001b[0m 4ms/step - loss: 0.0102 - mae: 0.1116 - val_loss: 0.0103 - val_mae: 0.1029\n",
      "Epoch 213/500\n",
      "\u001b[1m33/33\u001b[0m \u001b[32m━━━━━━━━━━━━━━━━━━━━\u001b[0m\u001b[37m\u001b[0m \u001b[1m0s\u001b[0m 5ms/step - loss: 0.0101 - mae: 0.1120 - val_loss: 0.0103 - val_mae: 0.1030\n",
      "Epoch 214/500\n",
      "\u001b[1m33/33\u001b[0m \u001b[32m━━━━━━━━━━━━━━━━━━━━\u001b[0m\u001b[37m\u001b[0m \u001b[1m0s\u001b[0m 4ms/step - loss: 0.0107 - mae: 0.1149 - val_loss: 0.0103 - val_mae: 0.1030\n",
      "Epoch 215/500\n",
      "\u001b[1m33/33\u001b[0m \u001b[32m━━━━━━━━━━━━━━━━━━━━\u001b[0m\u001b[37m\u001b[0m \u001b[1m0s\u001b[0m 4ms/step - loss: 0.0106 - mae: 0.1154 - val_loss: 0.0102 - val_mae: 0.1031\n",
      "Epoch 216/500\n",
      "\u001b[1m33/33\u001b[0m \u001b[32m━━━━━━━━━━━━━━━━━━━━\u001b[0m\u001b[37m\u001b[0m \u001b[1m0s\u001b[0m 5ms/step - loss: 0.0103 - mae: 0.1125 - val_loss: 0.0102 - val_mae: 0.1030\n",
      "Epoch 217/500\n",
      "\u001b[1m33/33\u001b[0m \u001b[32m━━━━━━━━━━━━━━━━━━━━\u001b[0m\u001b[37m\u001b[0m \u001b[1m0s\u001b[0m 4ms/step - loss: 0.0103 - mae: 0.1120 - val_loss: 0.0103 - val_mae: 0.1030\n",
      "Epoch 218/500\n",
      "\u001b[1m33/33\u001b[0m \u001b[32m━━━━━━━━━━━━━━━━━━━━\u001b[0m\u001b[37m\u001b[0m \u001b[1m0s\u001b[0m 8ms/step - loss: 0.0096 - mae: 0.1088 - val_loss: 0.0103 - val_mae: 0.1030\n",
      "Epoch 219/500\n",
      "\u001b[1m33/33\u001b[0m \u001b[32m━━━━━━━━━━━━━━━━━━━━\u001b[0m\u001b[37m\u001b[0m \u001b[1m0s\u001b[0m 6ms/step - loss: 0.0105 - mae: 0.1150 - val_loss: 0.0102 - val_mae: 0.1031\n",
      "Epoch 220/500\n",
      "\u001b[1m33/33\u001b[0m \u001b[32m━━━━━━━━━━━━━━━━━━━━\u001b[0m\u001b[37m\u001b[0m \u001b[1m0s\u001b[0m 6ms/step - loss: 0.0101 - mae: 0.1114 - val_loss: 0.0103 - val_mae: 0.1029\n",
      "Epoch 221/500\n",
      "\u001b[1m33/33\u001b[0m \u001b[32m━━━━━━━━━━━━━━━━━━━━\u001b[0m\u001b[37m\u001b[0m \u001b[1m0s\u001b[0m 5ms/step - loss: 0.0105 - mae: 0.1139 - val_loss: 0.0103 - val_mae: 0.1030\n",
      "Epoch 222/500\n",
      "\u001b[1m33/33\u001b[0m \u001b[32m━━━━━━━━━━━━━━━━━━━━\u001b[0m\u001b[37m\u001b[0m \u001b[1m0s\u001b[0m 4ms/step - loss: 0.0104 - mae: 0.1124 - val_loss: 0.0103 - val_mae: 0.1030\n",
      "Epoch 223/500\n",
      "\u001b[1m33/33\u001b[0m \u001b[32m━━━━━━━━━━━━━━━━━━━━\u001b[0m\u001b[37m\u001b[0m \u001b[1m0s\u001b[0m 8ms/step - loss: 0.0109 - mae: 0.1160 - val_loss: 0.0103 - val_mae: 0.1030\n",
      "Epoch 224/500\n",
      "\u001b[1m33/33\u001b[0m \u001b[32m━━━━━━━━━━━━━━━━━━━━\u001b[0m\u001b[37m\u001b[0m \u001b[1m0s\u001b[0m 7ms/step - loss: 0.0109 - mae: 0.1159 - val_loss: 0.0102 - val_mae: 0.1030\n",
      "Epoch 225/500\n",
      "\u001b[1m33/33\u001b[0m \u001b[32m━━━━━━━━━━━━━━━━━━━━\u001b[0m\u001b[37m\u001b[0m \u001b[1m0s\u001b[0m 5ms/step - loss: 0.0105 - mae: 0.1148 - val_loss: 0.0102 - val_mae: 0.1032\n",
      "Epoch 226/500\n",
      "\u001b[1m33/33\u001b[0m \u001b[32m━━━━━━━━━━━━━━━━━━━━\u001b[0m\u001b[37m\u001b[0m \u001b[1m0s\u001b[0m 5ms/step - loss: 0.0107 - mae: 0.1152 - val_loss: 0.0103 - val_mae: 0.1029\n",
      "Epoch 227/500\n",
      "\u001b[1m33/33\u001b[0m \u001b[32m━━━━━━━━━━━━━━━━━━━━\u001b[0m\u001b[37m\u001b[0m \u001b[1m0s\u001b[0m 6ms/step - loss: 0.0101 - mae: 0.1112 - val_loss: 0.0103 - val_mae: 0.1030\n",
      "Epoch 228/500\n",
      "\u001b[1m33/33\u001b[0m \u001b[32m━━━━━━━━━━━━━━━━━━━━\u001b[0m\u001b[37m\u001b[0m \u001b[1m0s\u001b[0m 5ms/step - loss: 0.0105 - mae: 0.1138 - val_loss: 0.0103 - val_mae: 0.1030\n",
      "Epoch 229/500\n",
      "\u001b[1m33/33\u001b[0m \u001b[32m━━━━━━━━━━━━━━━━━━━━\u001b[0m\u001b[37m\u001b[0m \u001b[1m0s\u001b[0m 4ms/step - loss: 0.0099 - mae: 0.1104 - val_loss: 0.0102 - val_mae: 0.1031\n",
      "Epoch 230/500\n",
      "\u001b[1m33/33\u001b[0m \u001b[32m━━━━━━━━━━━━━━━━━━━━\u001b[0m\u001b[37m\u001b[0m \u001b[1m0s\u001b[0m 4ms/step - loss: 0.0110 - mae: 0.1166 - val_loss: 0.0103 - val_mae: 0.1029\n",
      "Epoch 231/500\n",
      "\u001b[1m33/33\u001b[0m \u001b[32m━━━━━━━━━━━━━━━━━━━━\u001b[0m\u001b[37m\u001b[0m \u001b[1m0s\u001b[0m 6ms/step - loss: 0.0105 - mae: 0.1138 - val_loss: 0.0103 - val_mae: 0.1030\n",
      "Epoch 232/500\n",
      "\u001b[1m33/33\u001b[0m \u001b[32m━━━━━━━━━━━━━━━━━━━━\u001b[0m\u001b[37m\u001b[0m \u001b[1m0s\u001b[0m 4ms/step - loss: 0.0105 - mae: 0.1137 - val_loss: 0.0103 - val_mae: 0.1029\n",
      "Epoch 233/500\n",
      "\u001b[1m33/33\u001b[0m \u001b[32m━━━━━━━━━━━━━━━━━━━━\u001b[0m\u001b[37m\u001b[0m \u001b[1m0s\u001b[0m 5ms/step - loss: 0.0102 - mae: 0.1129 - val_loss: 0.0102 - val_mae: 0.1030\n",
      "Epoch 234/500\n",
      "\u001b[1m33/33\u001b[0m \u001b[32m━━━━━━━━━━━━━━━━━━━━\u001b[0m\u001b[37m\u001b[0m \u001b[1m0s\u001b[0m 4ms/step - loss: 0.0101 - mae: 0.1115 - val_loss: 0.0103 - val_mae: 0.1029\n",
      "Epoch 235/500\n",
      "\u001b[1m33/33\u001b[0m \u001b[32m━━━━━━━━━━━━━━━━━━━━\u001b[0m\u001b[37m\u001b[0m \u001b[1m0s\u001b[0m 4ms/step - loss: 0.0108 - mae: 0.1155 - val_loss: 0.0103 - val_mae: 0.1029\n",
      "Epoch 236/500\n",
      "\u001b[1m33/33\u001b[0m \u001b[32m━━━━━━━━━━━━━━━━━━━━\u001b[0m\u001b[37m\u001b[0m \u001b[1m0s\u001b[0m 5ms/step - loss: 0.0106 - mae: 0.1143 - val_loss: 0.0103 - val_mae: 0.1029\n",
      "Epoch 237/500\n",
      "\u001b[1m33/33\u001b[0m \u001b[32m━━━━━━━━━━━━━━━━━━━━\u001b[0m\u001b[37m\u001b[0m \u001b[1m0s\u001b[0m 5ms/step - loss: 0.0105 - mae: 0.1144 - val_loss: 0.0102 - val_mae: 0.1030\n",
      "Epoch 238/500\n",
      "\u001b[1m33/33\u001b[0m \u001b[32m━━━━━━━━━━━━━━━━━━━━\u001b[0m\u001b[37m\u001b[0m \u001b[1m0s\u001b[0m 4ms/step - loss: 0.0101 - mae: 0.1113 - val_loss: 0.0103 - val_mae: 0.1029\n",
      "Epoch 239/500\n",
      "\u001b[1m33/33\u001b[0m \u001b[32m━━━━━━━━━━━━━━━━━━━━\u001b[0m\u001b[37m\u001b[0m \u001b[1m0s\u001b[0m 6ms/step - loss: 0.0101 - mae: 0.1106 - val_loss: 0.0103 - val_mae: 0.1029\n",
      "Epoch 240/500\n",
      "\u001b[1m33/33\u001b[0m \u001b[32m━━━━━━━━━━━━━━━━━━━━\u001b[0m\u001b[37m\u001b[0m \u001b[1m0s\u001b[0m 5ms/step - loss: 0.0105 - mae: 0.1143 - val_loss: 0.0103 - val_mae: 0.1029\n",
      "Epoch 241/500\n",
      "\u001b[1m33/33\u001b[0m \u001b[32m━━━━━━━━━━━━━━━━━━━━\u001b[0m\u001b[37m\u001b[0m \u001b[1m0s\u001b[0m 5ms/step - loss: 0.0105 - mae: 0.1145 - val_loss: 0.0102 - val_mae: 0.1030\n",
      "Epoch 242/500\n",
      "\u001b[1m33/33\u001b[0m \u001b[32m━━━━━━━━━━━━━━━━━━━━\u001b[0m\u001b[37m\u001b[0m \u001b[1m0s\u001b[0m 4ms/step - loss: 0.0104 - mae: 0.1122 - val_loss: 0.0103 - val_mae: 0.1030\n",
      "Epoch 243/500\n",
      "\u001b[1m33/33\u001b[0m \u001b[32m━━━━━━━━━━━━━━━━━━━━\u001b[0m\u001b[37m\u001b[0m \u001b[1m0s\u001b[0m 4ms/step - loss: 0.0109 - mae: 0.1154 - val_loss: 0.0103 - val_mae: 0.1029\n",
      "Epoch 244/500\n",
      "\u001b[1m33/33\u001b[0m \u001b[32m━━━━━━━━━━━━━━━━━━━━\u001b[0m\u001b[37m\u001b[0m \u001b[1m0s\u001b[0m 5ms/step - loss: 0.0106 - mae: 0.1148 - val_loss: 0.0103 - val_mae: 0.1029\n",
      "Epoch 245/500\n",
      "\u001b[1m33/33\u001b[0m \u001b[32m━━━━━━━━━━━━━━━━━━━━\u001b[0m\u001b[37m\u001b[0m \u001b[1m0s\u001b[0m 4ms/step - loss: 0.0102 - mae: 0.1108 - val_loss: 0.0103 - val_mae: 0.1029\n",
      "Epoch 246/500\n",
      "\u001b[1m33/33\u001b[0m \u001b[32m━━━━━━━━━━━━━━━━━━━━\u001b[0m\u001b[37m\u001b[0m \u001b[1m0s\u001b[0m 4ms/step - loss: 0.0102 - mae: 0.1112 - val_loss: 0.0103 - val_mae: 0.1029\n",
      "Epoch 247/500\n",
      "\u001b[1m33/33\u001b[0m \u001b[32m━━━━━━━━━━━━━━━━━━━━\u001b[0m\u001b[37m\u001b[0m \u001b[1m0s\u001b[0m 5ms/step - loss: 0.0107 - mae: 0.1146 - val_loss: 0.0103 - val_mae: 0.1029\n",
      "Epoch 248/500\n",
      "\u001b[1m33/33\u001b[0m \u001b[32m━━━━━━━━━━━━━━━━━━━━\u001b[0m\u001b[37m\u001b[0m \u001b[1m0s\u001b[0m 5ms/step - loss: 0.0102 - mae: 0.1127 - val_loss: 0.0103 - val_mae: 0.1029\n",
      "Epoch 249/500\n",
      "\u001b[1m33/33\u001b[0m \u001b[32m━━━━━━━━━━━━━━━━━━━━\u001b[0m\u001b[37m\u001b[0m \u001b[1m0s\u001b[0m 5ms/step - loss: 0.0104 - mae: 0.1133 - val_loss: 0.0103 - val_mae: 0.1029\n",
      "Epoch 250/500\n",
      "\u001b[1m33/33\u001b[0m \u001b[32m━━━━━━━━━━━━━━━━━━━━\u001b[0m\u001b[37m\u001b[0m \u001b[1m0s\u001b[0m 5ms/step - loss: 0.0106 - mae: 0.1142 - val_loss: 0.0102 - val_mae: 0.1030\n",
      "Epoch 251/500\n",
      "\u001b[1m33/33\u001b[0m \u001b[32m━━━━━━━━━━━━━━━━━━━━\u001b[0m\u001b[37m\u001b[0m \u001b[1m0s\u001b[0m 6ms/step - loss: 0.0106 - mae: 0.1151 - val_loss: 0.0103 - val_mae: 0.1029\n",
      "Epoch 252/500\n",
      "\u001b[1m33/33\u001b[0m \u001b[32m━━━━━━━━━━━━━━━━━━━━\u001b[0m\u001b[37m\u001b[0m \u001b[1m0s\u001b[0m 4ms/step - loss: 0.0103 - mae: 0.1134 - val_loss: 0.0103 - val_mae: 0.1029\n",
      "Epoch 253/500\n",
      "\u001b[1m33/33\u001b[0m \u001b[32m━━━━━━━━━━━━━━━━━━━━\u001b[0m\u001b[37m\u001b[0m \u001b[1m0s\u001b[0m 4ms/step - loss: 0.0103 - mae: 0.1117 - val_loss: 0.0103 - val_mae: 0.1029\n",
      "Epoch 254/500\n",
      "\u001b[1m33/33\u001b[0m \u001b[32m━━━━━━━━━━━━━━━━━━━━\u001b[0m\u001b[37m\u001b[0m \u001b[1m0s\u001b[0m 4ms/step - loss: 0.0107 - mae: 0.1145 - val_loss: 0.0103 - val_mae: 0.1029\n",
      "Epoch 255/500\n",
      "\u001b[1m33/33\u001b[0m \u001b[32m━━━━━━━━━━━━━━━━━━━━\u001b[0m\u001b[37m\u001b[0m \u001b[1m0s\u001b[0m 5ms/step - loss: 0.0111 - mae: 0.1166 - val_loss: 0.0103 - val_mae: 0.1029\n",
      "Epoch 256/500\n",
      "\u001b[1m33/33\u001b[0m \u001b[32m━━━━━━━━━━━━━━━━━━━━\u001b[0m\u001b[37m\u001b[0m \u001b[1m0s\u001b[0m 4ms/step - loss: 0.0103 - mae: 0.1128 - val_loss: 0.0102 - val_mae: 0.1029\n",
      "Epoch 257/500\n",
      "\u001b[1m33/33\u001b[0m \u001b[32m━━━━━━━━━━━━━━━━━━━━\u001b[0m\u001b[37m\u001b[0m \u001b[1m0s\u001b[0m 5ms/step - loss: 0.0106 - mae: 0.1139 - val_loss: 0.0102 - val_mae: 0.1029\n",
      "Epoch 258/500\n",
      "\u001b[1m33/33\u001b[0m \u001b[32m━━━━━━━━━━━━━━━━━━━━\u001b[0m\u001b[37m\u001b[0m \u001b[1m0s\u001b[0m 4ms/step - loss: 0.0104 - mae: 0.1127 - val_loss: 0.0102 - val_mae: 0.1029\n",
      "Epoch 259/500\n",
      "\u001b[1m33/33\u001b[0m \u001b[32m━━━━━━━━━━━━━━━━━━━━\u001b[0m\u001b[37m\u001b[0m \u001b[1m0s\u001b[0m 4ms/step - loss: 0.0105 - mae: 0.1137 - val_loss: 0.0102 - val_mae: 0.1029\n",
      "Epoch 260/500\n",
      "\u001b[1m33/33\u001b[0m \u001b[32m━━━━━━━━━━━━━━━━━━━━\u001b[0m\u001b[37m\u001b[0m \u001b[1m0s\u001b[0m 5ms/step - loss: 0.0107 - mae: 0.1149 - val_loss: 0.0103 - val_mae: 0.1028\n",
      "Epoch 261/500\n",
      "\u001b[1m33/33\u001b[0m \u001b[32m━━━━━━━━━━━━━━━━━━━━\u001b[0m\u001b[37m\u001b[0m \u001b[1m0s\u001b[0m 6ms/step - loss: 0.0103 - mae: 0.1140 - val_loss: 0.0103 - val_mae: 0.1028\n",
      "Epoch 262/500\n",
      "\u001b[1m33/33\u001b[0m \u001b[32m━━━━━━━━━━━━━━━━━━━━\u001b[0m\u001b[37m\u001b[0m \u001b[1m0s\u001b[0m 4ms/step - loss: 0.0104 - mae: 0.1130 - val_loss: 0.0102 - val_mae: 0.1030\n",
      "Epoch 263/500\n",
      "\u001b[1m33/33\u001b[0m \u001b[32m━━━━━━━━━━━━━━━━━━━━\u001b[0m\u001b[37m\u001b[0m \u001b[1m0s\u001b[0m 4ms/step - loss: 0.0107 - mae: 0.1147 - val_loss: 0.0103 - val_mae: 0.1028\n",
      "Epoch 264/500\n",
      "\u001b[1m33/33\u001b[0m \u001b[32m━━━━━━━━━━━━━━━━━━━━\u001b[0m\u001b[37m\u001b[0m \u001b[1m0s\u001b[0m 4ms/step - loss: 0.0099 - mae: 0.1098 - val_loss: 0.0103 - val_mae: 0.1028\n",
      "Epoch 265/500\n",
      "\u001b[1m33/33\u001b[0m \u001b[32m━━━━━━━━━━━━━━━━━━━━\u001b[0m\u001b[37m\u001b[0m \u001b[1m0s\u001b[0m 5ms/step - loss: 0.0099 - mae: 0.1100 - val_loss: 0.0103 - val_mae: 0.1028\n",
      "Epoch 266/500\n",
      "\u001b[1m33/33\u001b[0m \u001b[32m━━━━━━━━━━━━━━━━━━━━\u001b[0m\u001b[37m\u001b[0m \u001b[1m0s\u001b[0m 5ms/step - loss: 0.0107 - mae: 0.1149 - val_loss: 0.0103 - val_mae: 0.1029\n",
      "Epoch 267/500\n",
      "\u001b[1m33/33\u001b[0m \u001b[32m━━━━━━━━━━━━━━━━━━━━\u001b[0m\u001b[37m\u001b[0m \u001b[1m0s\u001b[0m 4ms/step - loss: 0.0098 - mae: 0.1103 - val_loss: 0.0103 - val_mae: 0.1029\n",
      "Epoch 268/500\n",
      "\u001b[1m33/33\u001b[0m \u001b[32m━━━━━━━━━━━━━━━━━━━━\u001b[0m\u001b[37m\u001b[0m \u001b[1m0s\u001b[0m 4ms/step - loss: 0.0103 - mae: 0.1120 - val_loss: 0.0102 - val_mae: 0.1029\n",
      "Epoch 269/500\n",
      "\u001b[1m33/33\u001b[0m \u001b[32m━━━━━━━━━━━━━━━━━━━━\u001b[0m\u001b[37m\u001b[0m \u001b[1m0s\u001b[0m 4ms/step - loss: 0.0099 - mae: 0.1105 - val_loss: 0.0102 - val_mae: 0.1029\n",
      "Epoch 270/500\n",
      "\u001b[1m33/33\u001b[0m \u001b[32m━━━━━━━━━━━━━━━━━━━━\u001b[0m\u001b[37m\u001b[0m \u001b[1m0s\u001b[0m 4ms/step - loss: 0.0108 - mae: 0.1154 - val_loss: 0.0103 - val_mae: 0.1029\n",
      "Epoch 271/500\n",
      "\u001b[1m33/33\u001b[0m \u001b[32m━━━━━━━━━━━━━━━━━━━━\u001b[0m\u001b[37m\u001b[0m \u001b[1m0s\u001b[0m 6ms/step - loss: 0.0104 - mae: 0.1128 - val_loss: 0.0102 - val_mae: 0.1029\n",
      "Epoch 272/500\n",
      "\u001b[1m33/33\u001b[0m \u001b[32m━━━━━━━━━━━━━━━━━━━━\u001b[0m\u001b[37m\u001b[0m \u001b[1m0s\u001b[0m 5ms/step - loss: 0.0106 - mae: 0.1137 - val_loss: 0.0103 - val_mae: 0.1028\n",
      "Epoch 273/500\n",
      "\u001b[1m33/33\u001b[0m \u001b[32m━━━━━━━━━━━━━━━━━━━━\u001b[0m\u001b[37m\u001b[0m \u001b[1m0s\u001b[0m 5ms/step - loss: 0.0105 - mae: 0.1130 - val_loss: 0.0102 - val_mae: 0.1029\n",
      "Epoch 274/500\n",
      "\u001b[1m33/33\u001b[0m \u001b[32m━━━━━━━━━━━━━━━━━━━━\u001b[0m\u001b[37m\u001b[0m \u001b[1m0s\u001b[0m 6ms/step - loss: 0.0104 - mae: 0.1130 - val_loss: 0.0103 - val_mae: 0.1029\n",
      "Epoch 275/500\n",
      "\u001b[1m33/33\u001b[0m \u001b[32m━━━━━━━━━━━━━━━━━━━━\u001b[0m\u001b[37m\u001b[0m \u001b[1m0s\u001b[0m 6ms/step - loss: 0.0101 - mae: 0.1115 - val_loss: 0.0103 - val_mae: 0.1028\n",
      "Epoch 276/500\n",
      "\u001b[1m33/33\u001b[0m \u001b[32m━━━━━━━━━━━━━━━━━━━━\u001b[0m\u001b[37m\u001b[0m \u001b[1m0s\u001b[0m 5ms/step - loss: 0.0106 - mae: 0.1140 - val_loss: 0.0103 - val_mae: 0.1029\n",
      "Epoch 277/500\n",
      "\u001b[1m33/33\u001b[0m \u001b[32m━━━━━━━━━━━━━━━━━━━━\u001b[0m\u001b[37m\u001b[0m \u001b[1m0s\u001b[0m 5ms/step - loss: 0.0103 - mae: 0.1123 - val_loss: 0.0102 - val_mae: 0.1029\n",
      "Epoch 278/500\n",
      "\u001b[1m33/33\u001b[0m \u001b[32m━━━━━━━━━━━━━━━━━━━━\u001b[0m\u001b[37m\u001b[0m \u001b[1m0s\u001b[0m 8ms/step - loss: 0.0106 - mae: 0.1152 - val_loss: 0.0103 - val_mae: 0.1028\n",
      "Epoch 279/500\n",
      "\u001b[1m33/33\u001b[0m \u001b[32m━━━━━━━━━━━━━━━━━━━━\u001b[0m\u001b[37m\u001b[0m \u001b[1m0s\u001b[0m 12ms/step - loss: 0.0103 - mae: 0.1124 - val_loss: 0.0102 - val_mae: 0.1031\n",
      "Epoch 280/500\n",
      "\u001b[1m33/33\u001b[0m \u001b[32m━━━━━━━━━━━━━━━━━━━━\u001b[0m\u001b[37m\u001b[0m \u001b[1m0s\u001b[0m 6ms/step - loss: 0.0101 - mae: 0.1122 - val_loss: 0.0103 - val_mae: 0.1029\n",
      "Epoch 281/500\n",
      "\u001b[1m33/33\u001b[0m \u001b[32m━━━━━━━━━━━━━━━━━━━━\u001b[0m\u001b[37m\u001b[0m \u001b[1m0s\u001b[0m 6ms/step - loss: 0.0100 - mae: 0.1110 - val_loss: 0.0103 - val_mae: 0.1028\n",
      "Epoch 282/500\n",
      "\u001b[1m33/33\u001b[0m \u001b[32m━━━━━━━━━━━━━━━━━━━━\u001b[0m\u001b[37m\u001b[0m \u001b[1m0s\u001b[0m 5ms/step - loss: 0.0101 - mae: 0.1115 - val_loss: 0.0102 - val_mae: 0.1030\n",
      "Epoch 283/500\n",
      "\u001b[1m33/33\u001b[0m \u001b[32m━━━━━━━━━━━━━━━━━━━━\u001b[0m\u001b[37m\u001b[0m \u001b[1m0s\u001b[0m 5ms/step - loss: 0.0104 - mae: 0.1135 - val_loss: 0.0103 - val_mae: 0.1029\n",
      "Epoch 284/500\n",
      "\u001b[1m33/33\u001b[0m \u001b[32m━━━━━━━━━━━━━━━━━━━━\u001b[0m\u001b[37m\u001b[0m \u001b[1m0s\u001b[0m 5ms/step - loss: 0.0107 - mae: 0.1146 - val_loss: 0.0103 - val_mae: 0.1029\n",
      "Epoch 285/500\n",
      "\u001b[1m33/33\u001b[0m \u001b[32m━━━━━━━━━━━━━━━━━━━━\u001b[0m\u001b[37m\u001b[0m \u001b[1m0s\u001b[0m 6ms/step - loss: 0.0110 - mae: 0.1173 - val_loss: 0.0103 - val_mae: 0.1029\n",
      "Epoch 286/500\n",
      "\u001b[1m33/33\u001b[0m \u001b[32m━━━━━━━━━━━━━━━━━━━━\u001b[0m\u001b[37m\u001b[0m \u001b[1m0s\u001b[0m 4ms/step - loss: 0.0105 - mae: 0.1136 - val_loss: 0.0103 - val_mae: 0.1029\n",
      "Epoch 287/500\n",
      "\u001b[1m33/33\u001b[0m \u001b[32m━━━━━━━━━━━━━━━━━━━━\u001b[0m\u001b[37m\u001b[0m \u001b[1m0s\u001b[0m 5ms/step - loss: 0.0106 - mae: 0.1144 - val_loss: 0.0103 - val_mae: 0.1029\n",
      "Epoch 288/500\n",
      "\u001b[1m33/33\u001b[0m \u001b[32m━━━━━━━━━━━━━━━━━━━━\u001b[0m\u001b[37m\u001b[0m \u001b[1m0s\u001b[0m 5ms/step - loss: 0.0104 - mae: 0.1141 - val_loss: 0.0103 - val_mae: 0.1029\n",
      "Epoch 289/500\n",
      "\u001b[1m33/33\u001b[0m \u001b[32m━━━━━━━━━━━━━━━━━━━━\u001b[0m\u001b[37m\u001b[0m \u001b[1m0s\u001b[0m 4ms/step - loss: 0.0106 - mae: 0.1145 - val_loss: 0.0103 - val_mae: 0.1029\n",
      "Epoch 290/500\n",
      "\u001b[1m33/33\u001b[0m \u001b[32m━━━━━━━━━━━━━━━━━━━━\u001b[0m\u001b[37m\u001b[0m \u001b[1m0s\u001b[0m 4ms/step - loss: 0.0103 - mae: 0.1124 - val_loss: 0.0103 - val_mae: 0.1029\n",
      "Epoch 291/500\n",
      "\u001b[1m33/33\u001b[0m \u001b[32m━━━━━━━━━━━━━━━━━━━━\u001b[0m\u001b[37m\u001b[0m \u001b[1m0s\u001b[0m 4ms/step - loss: 0.0107 - mae: 0.1154 - val_loss: 0.0103 - val_mae: 0.1029\n",
      "Epoch 292/500\n",
      "\u001b[1m33/33\u001b[0m \u001b[32m━━━━━━━━━━━━━━━━━━━━\u001b[0m\u001b[37m\u001b[0m \u001b[1m0s\u001b[0m 5ms/step - loss: 0.0106 - mae: 0.1146 - val_loss: 0.0103 - val_mae: 0.1028\n",
      "Epoch 293/500\n",
      "\u001b[1m33/33\u001b[0m \u001b[32m━━━━━━━━━━━━━━━━━━━━\u001b[0m\u001b[37m\u001b[0m \u001b[1m0s\u001b[0m 4ms/step - loss: 0.0103 - mae: 0.1130 - val_loss: 0.0103 - val_mae: 0.1029\n",
      "Epoch 294/500\n",
      "\u001b[1m33/33\u001b[0m \u001b[32m━━━━━━━━━━━━━━━━━━━━\u001b[0m\u001b[37m\u001b[0m \u001b[1m0s\u001b[0m 4ms/step - loss: 0.0102 - mae: 0.1117 - val_loss: 0.0103 - val_mae: 0.1029\n",
      "Epoch 295/500\n",
      "\u001b[1m33/33\u001b[0m \u001b[32m━━━━━━━━━━━━━━━━━━━━\u001b[0m\u001b[37m\u001b[0m \u001b[1m0s\u001b[0m 4ms/step - loss: 0.0103 - mae: 0.1128 - val_loss: 0.0103 - val_mae: 0.1028\n",
      "Epoch 296/500\n",
      "\u001b[1m33/33\u001b[0m \u001b[32m━━━━━━━━━━━━━━━━━━━━\u001b[0m\u001b[37m\u001b[0m \u001b[1m0s\u001b[0m 4ms/step - loss: 0.0106 - mae: 0.1150 - val_loss: 0.0102 - val_mae: 0.1031\n",
      "Epoch 297/500\n",
      "\u001b[1m33/33\u001b[0m \u001b[32m━━━━━━━━━━━━━━━━━━━━\u001b[0m\u001b[37m\u001b[0m \u001b[1m0s\u001b[0m 5ms/step - loss: 0.0105 - mae: 0.1133 - val_loss: 0.0103 - val_mae: 0.1029\n",
      "Epoch 298/500\n",
      "\u001b[1m33/33\u001b[0m \u001b[32m━━━━━━━━━━━━━━━━━━━━\u001b[0m\u001b[37m\u001b[0m \u001b[1m0s\u001b[0m 4ms/step - loss: 0.0100 - mae: 0.1106 - val_loss: 0.0103 - val_mae: 0.1029\n",
      "Epoch 299/500\n",
      "\u001b[1m33/33\u001b[0m \u001b[32m━━━━━━━━━━━━━━━━━━━━\u001b[0m\u001b[37m\u001b[0m \u001b[1m0s\u001b[0m 4ms/step - loss: 0.0105 - mae: 0.1146 - val_loss: 0.0102 - val_mae: 0.1030\n",
      "Epoch 300/500\n",
      "\u001b[1m33/33\u001b[0m \u001b[32m━━━━━━━━━━━━━━━━━━━━\u001b[0m\u001b[37m\u001b[0m \u001b[1m0s\u001b[0m 5ms/step - loss: 0.0109 - mae: 0.1166 - val_loss: 0.0102 - val_mae: 0.1029\n",
      "Epoch 301/500\n",
      "\u001b[1m33/33\u001b[0m \u001b[32m━━━━━━━━━━━━━━━━━━━━\u001b[0m\u001b[37m\u001b[0m \u001b[1m0s\u001b[0m 4ms/step - loss: 0.0108 - mae: 0.1161 - val_loss: 0.0103 - val_mae: 0.1028\n",
      "Epoch 302/500\n",
      "\u001b[1m33/33\u001b[0m \u001b[32m━━━━━━━━━━━━━━━━━━━━\u001b[0m\u001b[37m\u001b[0m \u001b[1m0s\u001b[0m 4ms/step - loss: 0.0104 - mae: 0.1127 - val_loss: 0.0103 - val_mae: 0.1029\n",
      "Epoch 303/500\n",
      "\u001b[1m33/33\u001b[0m \u001b[32m━━━━━━━━━━━━━━━━━━━━\u001b[0m\u001b[37m\u001b[0m \u001b[1m0s\u001b[0m 4ms/step - loss: 0.0103 - mae: 0.1122 - val_loss: 0.0103 - val_mae: 0.1029\n",
      "Epoch 304/500\n",
      "\u001b[1m33/33\u001b[0m \u001b[32m━━━━━━━━━━━━━━━━━━━━\u001b[0m\u001b[37m\u001b[0m \u001b[1m0s\u001b[0m 4ms/step - loss: 0.0102 - mae: 0.1124 - val_loss: 0.0102 - val_mae: 0.1030\n",
      "Epoch 305/500\n",
      "\u001b[1m33/33\u001b[0m \u001b[32m━━━━━━━━━━━━━━━━━━━━\u001b[0m\u001b[37m\u001b[0m \u001b[1m0s\u001b[0m 5ms/step - loss: 0.0105 - mae: 0.1138 - val_loss: 0.0103 - val_mae: 0.1028\n",
      "Epoch 306/500\n",
      "\u001b[1m33/33\u001b[0m \u001b[32m━━━━━━━━━━━━━━━━━━━━\u001b[0m\u001b[37m\u001b[0m \u001b[1m0s\u001b[0m 4ms/step - loss: 0.0098 - mae: 0.1090 - val_loss: 0.0103 - val_mae: 0.1029\n",
      "Epoch 307/500\n",
      "\u001b[1m33/33\u001b[0m \u001b[32m━━━━━━━━━━━━━━━━━━━━\u001b[0m\u001b[37m\u001b[0m \u001b[1m0s\u001b[0m 4ms/step - loss: 0.0101 - mae: 0.1113 - val_loss: 0.0103 - val_mae: 0.1029\n",
      "Epoch 308/500\n",
      "\u001b[1m33/33\u001b[0m \u001b[32m━━━━━━━━━━━━━━━━━━━━\u001b[0m\u001b[37m\u001b[0m \u001b[1m0s\u001b[0m 5ms/step - loss: 0.0103 - mae: 0.1123 - val_loss: 0.0103 - val_mae: 0.1029\n",
      "Epoch 309/500\n",
      "\u001b[1m33/33\u001b[0m \u001b[32m━━━━━━━━━━━━━━━━━━━━\u001b[0m\u001b[37m\u001b[0m \u001b[1m0s\u001b[0m 4ms/step - loss: 0.0101 - mae: 0.1112 - val_loss: 0.0102 - val_mae: 0.1029\n",
      "Epoch 310/500\n",
      "\u001b[1m33/33\u001b[0m \u001b[32m━━━━━━━━━━━━━━━━━━━━\u001b[0m\u001b[37m\u001b[0m \u001b[1m0s\u001b[0m 4ms/step - loss: 0.0107 - mae: 0.1147 - val_loss: 0.0103 - val_mae: 0.1029\n",
      "Epoch 311/500\n",
      "\u001b[1m33/33\u001b[0m \u001b[32m━━━━━━━━━━━━━━━━━━━━\u001b[0m\u001b[37m\u001b[0m \u001b[1m0s\u001b[0m 4ms/step - loss: 0.0104 - mae: 0.1128 - val_loss: 0.0102 - val_mae: 0.1030\n",
      "Epoch 312/500\n",
      "\u001b[1m33/33\u001b[0m \u001b[32m━━━━━━━━━━━━━━━━━━━━\u001b[0m\u001b[37m\u001b[0m \u001b[1m0s\u001b[0m 4ms/step - loss: 0.0103 - mae: 0.1128 - val_loss: 0.0103 - val_mae: 0.1028\n",
      "Epoch 313/500\n",
      "\u001b[1m33/33\u001b[0m \u001b[32m━━━━━━━━━━━━━━━━━━━━\u001b[0m\u001b[37m\u001b[0m \u001b[1m0s\u001b[0m 5ms/step - loss: 0.0112 - mae: 0.1170 - val_loss: 0.0103 - val_mae: 0.1029\n",
      "Epoch 314/500\n",
      "\u001b[1m33/33\u001b[0m \u001b[32m━━━━━━━━━━━━━━━━━━━━\u001b[0m\u001b[37m\u001b[0m \u001b[1m0s\u001b[0m 5ms/step - loss: 0.0103 - mae: 0.1122 - val_loss: 0.0103 - val_mae: 0.1029\n",
      "\u001b[1m3/3\u001b[0m \u001b[32m━━━━━━━━━━━━━━━━━━━━\u001b[0m\u001b[37m\u001b[0m \u001b[1m0s\u001b[0m 3ms/step - loss: 0.0099 - mae: 0.0987\n"
     ]
    },
    {
     "data": {
      "text/plain": [
       "102782.2270989418"
      ]
     },
     "execution_count": 38,
     "metadata": {},
     "output_type": "execute_result"
    }
   ],
   "source": [
    "fit_and_evaluate(model, train_ds, valid_ds, learning_rate=0.02)"
   ]
  },
  {
   "cell_type": "markdown",
   "metadata": {
    "id": "LuDiawEytL0n"
   },
   "source": [
    "결과가 10만 이상으로 좋지 않음. 이전 모델은 56개의 이전값을 바라봤기에 57개의 파라미터가 있는 반면, RNN 1개의 순환뉴런은 3개의 파라미터만 존재 -> 순환뉴런을 늘려서 파라미터 개수 증가 필요"
   ]
  },
  {
   "cell_type": "markdown",
   "metadata": {
    "id": "-rI9v9Qls3g0"
   },
   "source": [
    "> 32개의 순환뉴련을 가진 순환층으로 그위에 출력뉴런이 하나이고 활성화 함수가 없는 밀집층을 추가한 모델을 만들어보자.\n",
    "- 한 타임스텝에서 다음 타임스텝으로 더 많은 정보를 실어나를수 있음"
   ]
  },
  {
   "cell_type": "code",
   "execution_count": 39,
   "metadata": {
    "executionInfo": {
     "elapsed": 19,
     "status": "ok",
     "timestamp": 1728695312933,
     "user": {
      "displayName": "WOOSEOK JEONG",
      "userId": "01703662546986869335"
     },
     "user_tz": -540
    },
    "id": "_7Byyqcu9i5N"
   },
   "outputs": [],
   "source": [
    "tf.random.set_seed(42)  # 추가 코드 - 재현성 보장\n",
    "univar_model = tf.keras.Sequential([\n",
    "    tf.keras.layers.SimpleRNN(32, input_shape=[None, 1]),\n",
    "    tf.keras.layers.Dense(1)  # 기본적으로 활성화 함수 없음\n",
    "])"
   ]
  },
  {
   "cell_type": "code",
   "execution_count": 40,
   "metadata": {
    "colab": {
     "base_uri": "https://localhost:8080/"
    },
    "executionInfo": {
     "elapsed": 37034,
     "status": "ok",
     "timestamp": 1728695349948,
     "user": {
      "displayName": "WOOSEOK JEONG",
      "userId": "01703662546986869335"
     },
     "user_tz": -540
    },
    "id": "JZ9HP7pH9i5N",
    "outputId": "ac9c3a16-6848-43d8-f7c5-22ecb52bb478"
   },
   "outputs": [
    {
     "name": "stdout",
     "output_type": "stream",
     "text": [
      "Epoch 1/500\n",
      "\u001b[1m33/33\u001b[0m \u001b[32m━━━━━━━━━━━━━━━━━━━━\u001b[0m\u001b[37m\u001b[0m \u001b[1m1s\u001b[0m 10ms/step - loss: 0.0426 - mae: 0.2269 - val_loss: 0.0042 - val_mae: 0.0717\n",
      "Epoch 2/500\n",
      "\u001b[1m33/33\u001b[0m \u001b[32m━━━━━━━━━━━━━━━━━━━━\u001b[0m\u001b[37m\u001b[0m \u001b[1m0s\u001b[0m 6ms/step - loss: 0.0053 - mae: 0.0768 - val_loss: 0.0032 - val_mae: 0.0589\n",
      "Epoch 3/500\n",
      "\u001b[1m33/33\u001b[0m \u001b[32m━━━━━━━━━━━━━━━━━━━━\u001b[0m\u001b[37m\u001b[0m \u001b[1m0s\u001b[0m 6ms/step - loss: 0.0037 - mae: 0.0612 - val_loss: 0.0022 - val_mae: 0.0401\n",
      "Epoch 4/500\n",
      "\u001b[1m33/33\u001b[0m \u001b[32m━━━━━━━━━━━━━━━━━━━━\u001b[0m\u001b[37m\u001b[0m \u001b[1m0s\u001b[0m 6ms/step - loss: 0.0033 - mae: 0.0535 - val_loss: 0.0025 - val_mae: 0.0512\n",
      "Epoch 5/500\n",
      "\u001b[1m33/33\u001b[0m \u001b[32m━━━━━━━━━━━━━━━━━━━━\u001b[0m\u001b[37m\u001b[0m \u001b[1m0s\u001b[0m 6ms/step - loss: 0.0032 - mae: 0.0503 - val_loss: 0.0023 - val_mae: 0.0434\n",
      "Epoch 6/500\n",
      "\u001b[1m33/33\u001b[0m \u001b[32m━━━━━━━━━━━━━━━━━━━━\u001b[0m\u001b[37m\u001b[0m \u001b[1m0s\u001b[0m 7ms/step - loss: 0.0049 - mae: 0.0682 - val_loss: 0.0023 - val_mae: 0.0444\n",
      "Epoch 7/500\n",
      "\u001b[1m33/33\u001b[0m \u001b[32m━━━━━━━━━━━━━━━━━━━━\u001b[0m\u001b[37m\u001b[0m \u001b[1m0s\u001b[0m 6ms/step - loss: 0.0035 - mae: 0.0555 - val_loss: 0.0026 - val_mae: 0.0486\n",
      "Epoch 8/500\n",
      "\u001b[1m33/33\u001b[0m \u001b[32m━━━━━━━━━━━━━━━━━━━━\u001b[0m\u001b[37m\u001b[0m \u001b[1m0s\u001b[0m 6ms/step - loss: 0.0037 - mae: 0.0556 - val_loss: 0.0021 - val_mae: 0.0351\n",
      "Epoch 9/500\n",
      "\u001b[1m33/33\u001b[0m \u001b[32m━━━━━━━━━━━━━━━━━━━━\u001b[0m\u001b[37m\u001b[0m \u001b[1m0s\u001b[0m 6ms/step - loss: 0.0033 - mae: 0.0501 - val_loss: 0.0029 - val_mae: 0.0469\n",
      "Epoch 10/500\n",
      "\u001b[1m33/33\u001b[0m \u001b[32m━━━━━━━━━━━━━━━━━━━━\u001b[0m\u001b[37m\u001b[0m \u001b[1m0s\u001b[0m 6ms/step - loss: 0.0042 - mae: 0.0565 - val_loss: 0.0023 - val_mae: 0.0405\n",
      "Epoch 11/500\n",
      "\u001b[1m33/33\u001b[0m \u001b[32m━━━━━━━━━━━━━━━━━━━━\u001b[0m\u001b[37m\u001b[0m \u001b[1m0s\u001b[0m 6ms/step - loss: 0.0030 - mae: 0.0465 - val_loss: 0.0022 - val_mae: 0.0372\n",
      "Epoch 12/500\n",
      "\u001b[1m33/33\u001b[0m \u001b[32m━━━━━━━━━━━━━━━━━━━━\u001b[0m\u001b[37m\u001b[0m \u001b[1m0s\u001b[0m 6ms/step - loss: 0.0030 - mae: 0.0462 - val_loss: 0.0021 - val_mae: 0.0366\n",
      "Epoch 13/500\n",
      "\u001b[1m33/33\u001b[0m \u001b[32m━━━━━━━━━━━━━━━━━━━━\u001b[0m\u001b[37m\u001b[0m \u001b[1m0s\u001b[0m 6ms/step - loss: 0.0038 - mae: 0.0563 - val_loss: 0.0020 - val_mae: 0.0326\n",
      "Epoch 14/500\n",
      "\u001b[1m33/33\u001b[0m \u001b[32m━━━━━━━━━━━━━━━━━━━━\u001b[0m\u001b[37m\u001b[0m \u001b[1m0s\u001b[0m 6ms/step - loss: 0.0030 - mae: 0.0449 - val_loss: 0.0025 - val_mae: 0.0432\n",
      "Epoch 15/500\n",
      "\u001b[1m33/33\u001b[0m \u001b[32m━━━━━━━━━━━━━━━━━━━━\u001b[0m\u001b[37m\u001b[0m \u001b[1m0s\u001b[0m 6ms/step - loss: 0.0033 - mae: 0.0478 - val_loss: 0.0027 - val_mae: 0.0523\n",
      "Epoch 16/500\n",
      "\u001b[1m33/33\u001b[0m \u001b[32m━━━━━━━━━━━━━━━━━━━━\u001b[0m\u001b[37m\u001b[0m \u001b[1m0s\u001b[0m 6ms/step - loss: 0.0031 - mae: 0.0500 - val_loss: 0.0027 - val_mae: 0.0479\n",
      "Epoch 17/500\n",
      "\u001b[1m33/33\u001b[0m \u001b[32m━━━━━━━━━━━━━━━━━━━━\u001b[0m\u001b[37m\u001b[0m \u001b[1m0s\u001b[0m 6ms/step - loss: 0.0037 - mae: 0.0552 - val_loss: 0.0025 - val_mae: 0.0399\n",
      "Epoch 18/500\n",
      "\u001b[1m33/33\u001b[0m \u001b[32m━━━━━━━━━━━━━━━━━━━━\u001b[0m\u001b[37m\u001b[0m \u001b[1m0s\u001b[0m 6ms/step - loss: 0.0031 - mae: 0.0472 - val_loss: 0.0022 - val_mae: 0.0347\n",
      "Epoch 19/500\n",
      "\u001b[1m33/33\u001b[0m \u001b[32m━━━━━━━━━━━━━━━━━━━━\u001b[0m\u001b[37m\u001b[0m \u001b[1m0s\u001b[0m 6ms/step - loss: 0.0027 - mae: 0.0447 - val_loss: 0.0024 - val_mae: 0.0403\n",
      "Epoch 20/500\n",
      "\u001b[1m33/33\u001b[0m \u001b[32m━━━━━━━━━━━━━━━━━━━━\u001b[0m\u001b[37m\u001b[0m \u001b[1m0s\u001b[0m 6ms/step - loss: 0.0030 - mae: 0.0450 - val_loss: 0.0020 - val_mae: 0.0339\n",
      "Epoch 21/500\n",
      "\u001b[1m33/33\u001b[0m \u001b[32m━━━━━━━━━━━━━━━━━━━━\u001b[0m\u001b[37m\u001b[0m \u001b[1m0s\u001b[0m 6ms/step - loss: 0.0030 - mae: 0.0443 - val_loss: 0.0020 - val_mae: 0.0325\n",
      "Epoch 22/500\n",
      "\u001b[1m33/33\u001b[0m \u001b[32m━━━━━━━━━━━━━━━━━━━━\u001b[0m\u001b[37m\u001b[0m \u001b[1m0s\u001b[0m 7ms/step - loss: 0.0028 - mae: 0.0425 - val_loss: 0.0023 - val_mae: 0.0373\n",
      "Epoch 23/500\n",
      "\u001b[1m33/33\u001b[0m \u001b[32m━━━━━━━━━━━━━━━━━━━━\u001b[0m\u001b[37m\u001b[0m \u001b[1m0s\u001b[0m 6ms/step - loss: 0.0028 - mae: 0.0450 - val_loss: 0.0019 - val_mae: 0.0335\n",
      "Epoch 24/500\n",
      "\u001b[1m33/33\u001b[0m \u001b[32m━━━━━━━━━━━━━━━━━━━━\u001b[0m\u001b[37m\u001b[0m \u001b[1m0s\u001b[0m 6ms/step - loss: 0.0030 - mae: 0.0455 - val_loss: 0.0021 - val_mae: 0.0357\n",
      "Epoch 25/500\n",
      "\u001b[1m33/33\u001b[0m \u001b[32m━━━━━━━━━━━━━━━━━━━━\u001b[0m\u001b[37m\u001b[0m \u001b[1m0s\u001b[0m 6ms/step - loss: 0.0028 - mae: 0.0433 - val_loss: 0.0023 - val_mae: 0.0408\n",
      "Epoch 26/500\n",
      "\u001b[1m33/33\u001b[0m \u001b[32m━━━━━━━━━━━━━━━━━━━━\u001b[0m\u001b[37m\u001b[0m \u001b[1m0s\u001b[0m 6ms/step - loss: 0.0026 - mae: 0.0438 - val_loss: 0.0022 - val_mae: 0.0393\n",
      "Epoch 27/500\n",
      "\u001b[1m33/33\u001b[0m \u001b[32m━━━━━━━━━━━━━━━━━━━━\u001b[0m\u001b[37m\u001b[0m \u001b[1m0s\u001b[0m 6ms/step - loss: 0.0028 - mae: 0.0449 - val_loss: 0.0019 - val_mae: 0.0344\n",
      "Epoch 28/500\n",
      "\u001b[1m33/33\u001b[0m \u001b[32m━━━━━━━━━━━━━━━━━━━━\u001b[0m\u001b[37m\u001b[0m \u001b[1m0s\u001b[0m 6ms/step - loss: 0.0028 - mae: 0.0429 - val_loss: 0.0022 - val_mae: 0.0409\n",
      "Epoch 29/500\n",
      "\u001b[1m33/33\u001b[0m \u001b[32m━━━━━━━━━━━━━━━━━━━━\u001b[0m\u001b[37m\u001b[0m \u001b[1m0s\u001b[0m 6ms/step - loss: 0.0030 - mae: 0.0439 - val_loss: 0.0022 - val_mae: 0.0385\n",
      "Epoch 30/500\n",
      "\u001b[1m33/33\u001b[0m \u001b[32m━━━━━━━━━━━━━━━━━━━━\u001b[0m\u001b[37m\u001b[0m \u001b[1m0s\u001b[0m 6ms/step - loss: 0.0028 - mae: 0.0425 - val_loss: 0.0021 - val_mae: 0.0359\n",
      "Epoch 31/500\n",
      "\u001b[1m33/33\u001b[0m \u001b[32m━━━━━━━━━━━━━━━━━━━━\u001b[0m\u001b[37m\u001b[0m \u001b[1m0s\u001b[0m 6ms/step - loss: 0.0029 - mae: 0.0432 - val_loss: 0.0023 - val_mae: 0.0431\n",
      "Epoch 32/500\n",
      "\u001b[1m33/33\u001b[0m \u001b[32m━━━━━━━━━━━━━━━━━━━━\u001b[0m\u001b[37m\u001b[0m \u001b[1m0s\u001b[0m 6ms/step - loss: 0.0034 - mae: 0.0498 - val_loss: 0.0019 - val_mae: 0.0349\n",
      "Epoch 33/500\n",
      "\u001b[1m33/33\u001b[0m \u001b[32m━━━━━━━━━━━━━━━━━━━━\u001b[0m\u001b[37m\u001b[0m \u001b[1m0s\u001b[0m 6ms/step - loss: 0.0034 - mae: 0.0487 - val_loss: 0.0022 - val_mae: 0.0391\n",
      "Epoch 34/500\n",
      "\u001b[1m33/33\u001b[0m \u001b[32m━━━━━━━━━━━━━━━━━━━━\u001b[0m\u001b[37m\u001b[0m \u001b[1m0s\u001b[0m 5ms/step - loss: 0.0028 - mae: 0.0431 - val_loss: 0.0022 - val_mae: 0.0396\n",
      "Epoch 35/500\n",
      "\u001b[1m33/33\u001b[0m \u001b[32m━━━━━━━━━━━━━━━━━━━━\u001b[0m\u001b[37m\u001b[0m \u001b[1m0s\u001b[0m 6ms/step - loss: 0.0024 - mae: 0.0400 - val_loss: 0.0022 - val_mae: 0.0402\n",
      "Epoch 36/500\n",
      "\u001b[1m33/33\u001b[0m \u001b[32m━━━━━━━━━━━━━━━━━━━━\u001b[0m\u001b[37m\u001b[0m \u001b[1m0s\u001b[0m 6ms/step - loss: 0.0031 - mae: 0.0472 - val_loss: 0.0019 - val_mae: 0.0357\n",
      "Epoch 37/500\n",
      "\u001b[1m33/33\u001b[0m \u001b[32m━━━━━━━━━━━━━━━━━━━━\u001b[0m\u001b[37m\u001b[0m \u001b[1m0s\u001b[0m 6ms/step - loss: 0.0029 - mae: 0.0469 - val_loss: 0.0027 - val_mae: 0.0490\n",
      "Epoch 38/500\n",
      "\u001b[1m33/33\u001b[0m \u001b[32m━━━━━━━━━━━━━━━━━━━━\u001b[0m\u001b[37m\u001b[0m \u001b[1m0s\u001b[0m 6ms/step - loss: 0.0031 - mae: 0.0497 - val_loss: 0.0023 - val_mae: 0.0424\n",
      "Epoch 39/500\n",
      "\u001b[1m33/33\u001b[0m \u001b[32m━━━━━━━━━━━━━━━━━━━━\u001b[0m\u001b[37m\u001b[0m \u001b[1m0s\u001b[0m 6ms/step - loss: 0.0030 - mae: 0.0476 - val_loss: 0.0019 - val_mae: 0.0333\n",
      "Epoch 40/500\n",
      "\u001b[1m33/33\u001b[0m \u001b[32m━━━━━━━━━━━━━━━━━━━━\u001b[0m\u001b[37m\u001b[0m \u001b[1m0s\u001b[0m 6ms/step - loss: 0.0025 - mae: 0.0406 - val_loss: 0.0021 - val_mae: 0.0325\n",
      "Epoch 41/500\n",
      "\u001b[1m33/33\u001b[0m \u001b[32m━━━━━━━━━━━━━━━━━━━━\u001b[0m\u001b[37m\u001b[0m \u001b[1m0s\u001b[0m 6ms/step - loss: 0.0028 - mae: 0.0425 - val_loss: 0.0020 - val_mae: 0.0311\n",
      "Epoch 42/500\n",
      "\u001b[1m33/33\u001b[0m \u001b[32m━━━━━━━━━━━━━━━━━━━━\u001b[0m\u001b[37m\u001b[0m \u001b[1m0s\u001b[0m 6ms/step - loss: 0.0027 - mae: 0.0412 - val_loss: 0.0023 - val_mae: 0.0471\n",
      "Epoch 43/500\n",
      "\u001b[1m33/33\u001b[0m \u001b[32m━━━━━━━━━━━━━━━━━━━━\u001b[0m\u001b[37m\u001b[0m \u001b[1m0s\u001b[0m 6ms/step - loss: 0.0028 - mae: 0.0476 - val_loss: 0.0019 - val_mae: 0.0331\n",
      "Epoch 44/500\n",
      "\u001b[1m33/33\u001b[0m \u001b[32m━━━━━━━━━━━━━━━━━━━━\u001b[0m\u001b[37m\u001b[0m \u001b[1m0s\u001b[0m 6ms/step - loss: 0.0032 - mae: 0.0501 - val_loss: 0.0019 - val_mae: 0.0297\n",
      "Epoch 45/500\n",
      "\u001b[1m33/33\u001b[0m \u001b[32m━━━━━━━━━━━━━━━━━━━━\u001b[0m\u001b[37m\u001b[0m \u001b[1m0s\u001b[0m 7ms/step - loss: 0.0028 - mae: 0.0421 - val_loss: 0.0020 - val_mae: 0.0346\n",
      "Epoch 46/500\n",
      "\u001b[1m33/33\u001b[0m \u001b[32m━━━━━━━━━━━━━━━━━━━━\u001b[0m\u001b[37m\u001b[0m \u001b[1m0s\u001b[0m 7ms/step - loss: 0.0026 - mae: 0.0429 - val_loss: 0.0021 - val_mae: 0.0387\n",
      "Epoch 47/500\n",
      "\u001b[1m33/33\u001b[0m \u001b[32m━━━━━━━━━━━━━━━━━━━━\u001b[0m\u001b[37m\u001b[0m \u001b[1m0s\u001b[0m 7ms/step - loss: 0.0029 - mae: 0.0462 - val_loss: 0.0026 - val_mae: 0.0453\n",
      "Epoch 48/500\n",
      "\u001b[1m33/33\u001b[0m \u001b[32m━━━━━━━━━━━━━━━━━━━━\u001b[0m\u001b[37m\u001b[0m \u001b[1m0s\u001b[0m 7ms/step - loss: 0.0027 - mae: 0.0436 - val_loss: 0.0021 - val_mae: 0.0408\n",
      "Epoch 49/500\n",
      "\u001b[1m33/33\u001b[0m \u001b[32m━━━━━━━━━━━━━━━━━━━━\u001b[0m\u001b[37m\u001b[0m \u001b[1m0s\u001b[0m 6ms/step - loss: 0.0029 - mae: 0.0472 - val_loss: 0.0020 - val_mae: 0.0335\n",
      "Epoch 50/500\n",
      "\u001b[1m33/33\u001b[0m \u001b[32m━━━━━━━━━━━━━━━━━━━━\u001b[0m\u001b[37m\u001b[0m \u001b[1m0s\u001b[0m 6ms/step - loss: 0.0031 - mae: 0.0455 - val_loss: 0.0025 - val_mae: 0.0460\n",
      "Epoch 51/500\n",
      "\u001b[1m33/33\u001b[0m \u001b[32m━━━━━━━━━━━━━━━━━━━━\u001b[0m\u001b[37m\u001b[0m \u001b[1m0s\u001b[0m 7ms/step - loss: 0.0028 - mae: 0.0442 - val_loss: 0.0019 - val_mae: 0.0339\n",
      "Epoch 52/500\n",
      "\u001b[1m33/33\u001b[0m \u001b[32m━━━━━━━━━━━━━━━━━━━━\u001b[0m\u001b[37m\u001b[0m \u001b[1m0s\u001b[0m 7ms/step - loss: 0.0032 - mae: 0.0452 - val_loss: 0.0023 - val_mae: 0.0402\n",
      "Epoch 53/500\n",
      "\u001b[1m33/33\u001b[0m \u001b[32m━━━━━━━━━━━━━━━━━━━━\u001b[0m\u001b[37m\u001b[0m \u001b[1m0s\u001b[0m 6ms/step - loss: 0.0024 - mae: 0.0409 - val_loss: 0.0020 - val_mae: 0.0376\n",
      "Epoch 54/500\n",
      "\u001b[1m33/33\u001b[0m \u001b[32m━━━━━━━━━━━━━━━━━━━━\u001b[0m\u001b[37m\u001b[0m \u001b[1m0s\u001b[0m 6ms/step - loss: 0.0025 - mae: 0.0435 - val_loss: 0.0020 - val_mae: 0.0365\n",
      "Epoch 55/500\n",
      "\u001b[1m33/33\u001b[0m \u001b[32m━━━━━━━━━━━━━━━━━━━━\u001b[0m\u001b[37m\u001b[0m \u001b[1m0s\u001b[0m 6ms/step - loss: 0.0027 - mae: 0.0418 - val_loss: 0.0020 - val_mae: 0.0355\n",
      "Epoch 56/500\n",
      "\u001b[1m33/33\u001b[0m \u001b[32m━━━━━━━━━━━━━━━━━━━━\u001b[0m\u001b[37m\u001b[0m \u001b[1m0s\u001b[0m 6ms/step - loss: 0.0026 - mae: 0.0426 - val_loss: 0.0021 - val_mae: 0.0338\n",
      "Epoch 57/500\n",
      "\u001b[1m33/33\u001b[0m \u001b[32m━━━━━━━━━━━━━━━━━━━━\u001b[0m\u001b[37m\u001b[0m \u001b[1m0s\u001b[0m 6ms/step - loss: 0.0026 - mae: 0.0410 - val_loss: 0.0023 - val_mae: 0.0466\n",
      "Epoch 58/500\n",
      "\u001b[1m33/33\u001b[0m \u001b[32m━━━━━━━━━━━━━━━━━━━━\u001b[0m\u001b[37m\u001b[0m \u001b[1m0s\u001b[0m 6ms/step - loss: 0.0023 - mae: 0.0413 - val_loss: 0.0021 - val_mae: 0.0386\n",
      "Epoch 59/500\n",
      "\u001b[1m33/33\u001b[0m \u001b[32m━━━━━━━━━━━━━━━━━━━━\u001b[0m\u001b[37m\u001b[0m \u001b[1m0s\u001b[0m 6ms/step - loss: 0.0023 - mae: 0.0390 - val_loss: 0.0020 - val_mae: 0.0353\n",
      "Epoch 60/500\n",
      "\u001b[1m33/33\u001b[0m \u001b[32m━━━━━━━━━━━━━━━━━━━━\u001b[0m\u001b[37m\u001b[0m \u001b[1m0s\u001b[0m 6ms/step - loss: 0.0023 - mae: 0.0394 - val_loss: 0.0019 - val_mae: 0.0297\n",
      "Epoch 61/500\n",
      "\u001b[1m33/33\u001b[0m \u001b[32m━━━━━━━━━━━━━━━━━━━━\u001b[0m\u001b[37m\u001b[0m \u001b[1m0s\u001b[0m 6ms/step - loss: 0.0022 - mae: 0.0381 - val_loss: 0.0022 - val_mae: 0.0403\n",
      "Epoch 62/500\n",
      "\u001b[1m33/33\u001b[0m \u001b[32m━━━━━━━━━━━━━━━━━━━━\u001b[0m\u001b[37m\u001b[0m \u001b[1m0s\u001b[0m 8ms/step - loss: 0.0030 - mae: 0.0469 - val_loss: 0.0019 - val_mae: 0.0350\n",
      "Epoch 63/500\n",
      "\u001b[1m33/33\u001b[0m \u001b[32m━━━━━━━━━━━━━━━━━━━━\u001b[0m\u001b[37m\u001b[0m \u001b[1m0s\u001b[0m 6ms/step - loss: 0.0027 - mae: 0.0413 - val_loss: 0.0019 - val_mae: 0.0336\n",
      "Epoch 64/500\n",
      "\u001b[1m33/33\u001b[0m \u001b[32m━━━━━━━━━━━━━━━━━━━━\u001b[0m\u001b[37m\u001b[0m \u001b[1m0s\u001b[0m 6ms/step - loss: 0.0025 - mae: 0.0425 - val_loss: 0.0019 - val_mae: 0.0322\n",
      "Epoch 65/500\n",
      "\u001b[1m33/33\u001b[0m \u001b[32m━━━━━━━━━━━━━━━━━━━━\u001b[0m\u001b[37m\u001b[0m \u001b[1m0s\u001b[0m 5ms/step - loss: 0.0027 - mae: 0.0425 - val_loss: 0.0019 - val_mae: 0.0325\n",
      "Epoch 66/500\n",
      "\u001b[1m33/33\u001b[0m \u001b[32m━━━━━━━━━━━━━━━━━━━━\u001b[0m\u001b[37m\u001b[0m \u001b[1m0s\u001b[0m 6ms/step - loss: 0.0025 - mae: 0.0418 - val_loss: 0.0020 - val_mae: 0.0327\n",
      "Epoch 67/500\n",
      "\u001b[1m33/33\u001b[0m \u001b[32m━━━━━━━━━━━━━━━━━━━━\u001b[0m\u001b[37m\u001b[0m \u001b[1m0s\u001b[0m 5ms/step - loss: 0.0028 - mae: 0.0435 - val_loss: 0.0019 - val_mae: 0.0294\n",
      "Epoch 68/500\n",
      "\u001b[1m33/33\u001b[0m \u001b[32m━━━━━━━━━━━━━━━━━━━━\u001b[0m\u001b[37m\u001b[0m \u001b[1m0s\u001b[0m 5ms/step - loss: 0.0023 - mae: 0.0378 - val_loss: 0.0020 - val_mae: 0.0372\n",
      "Epoch 69/500\n",
      "\u001b[1m33/33\u001b[0m \u001b[32m━━━━━━━━━━━━━━━━━━━━\u001b[0m\u001b[37m\u001b[0m \u001b[1m0s\u001b[0m 6ms/step - loss: 0.0024 - mae: 0.0401 - val_loss: 0.0020 - val_mae: 0.0357\n",
      "Epoch 70/500\n",
      "\u001b[1m33/33\u001b[0m \u001b[32m━━━━━━━━━━━━━━━━━━━━\u001b[0m\u001b[37m\u001b[0m \u001b[1m0s\u001b[0m 7ms/step - loss: 0.0032 - mae: 0.0440 - val_loss: 0.0024 - val_mae: 0.0408\n",
      "Epoch 71/500\n",
      "\u001b[1m33/33\u001b[0m \u001b[32m━━━━━━━━━━━━━━━━━━━━\u001b[0m\u001b[37m\u001b[0m \u001b[1m0s\u001b[0m 7ms/step - loss: 0.0028 - mae: 0.0444 - val_loss: 0.0019 - val_mae: 0.0335\n",
      "Epoch 72/500\n",
      "\u001b[1m33/33\u001b[0m \u001b[32m━━━━━━━━━━━━━━━━━━━━\u001b[0m\u001b[37m\u001b[0m \u001b[1m0s\u001b[0m 7ms/step - loss: 0.0026 - mae: 0.0423 - val_loss: 0.0021 - val_mae: 0.0362\n",
      "Epoch 73/500\n",
      "\u001b[1m33/33\u001b[0m \u001b[32m━━━━━━━━━━━━━━━━━━━━\u001b[0m\u001b[37m\u001b[0m \u001b[1m0s\u001b[0m 7ms/step - loss: 0.0024 - mae: 0.0384 - val_loss: 0.0020 - val_mae: 0.0346\n",
      "Epoch 74/500\n",
      "\u001b[1m33/33\u001b[0m \u001b[32m━━━━━━━━━━━━━━━━━━━━\u001b[0m\u001b[37m\u001b[0m \u001b[1m0s\u001b[0m 7ms/step - loss: 0.0026 - mae: 0.0422 - val_loss: 0.0022 - val_mae: 0.0393\n",
      "Epoch 75/500\n",
      "\u001b[1m33/33\u001b[0m \u001b[32m━━━━━━━━━━━━━━━━━━━━\u001b[0m\u001b[37m\u001b[0m \u001b[1m0s\u001b[0m 6ms/step - loss: 0.0024 - mae: 0.0411 - val_loss: 0.0020 - val_mae: 0.0326\n",
      "Epoch 76/500\n",
      "\u001b[1m33/33\u001b[0m \u001b[32m━━━━━━━━━━━━━━━━━━━━\u001b[0m\u001b[37m\u001b[0m \u001b[1m0s\u001b[0m 8ms/step - loss: 0.0020 - mae: 0.0371 - val_loss: 0.0021 - val_mae: 0.0332\n",
      "Epoch 77/500\n",
      "\u001b[1m33/33\u001b[0m \u001b[32m━━━━━━━━━━━━━━━━━━━━\u001b[0m\u001b[37m\u001b[0m \u001b[1m0s\u001b[0m 7ms/step - loss: 0.0029 - mae: 0.0420 - val_loss: 0.0021 - val_mae: 0.0360\n",
      "Epoch 78/500\n",
      "\u001b[1m33/33\u001b[0m \u001b[32m━━━━━━━━━━━━━━━━━━━━\u001b[0m\u001b[37m\u001b[0m \u001b[1m0s\u001b[0m 6ms/step - loss: 0.0027 - mae: 0.0417 - val_loss: 0.0020 - val_mae: 0.0345\n",
      "Epoch 79/500\n",
      "\u001b[1m33/33\u001b[0m \u001b[32m━━━━━━━━━━━━━━━━━━━━\u001b[0m\u001b[37m\u001b[0m \u001b[1m0s\u001b[0m 6ms/step - loss: 0.0023 - mae: 0.0401 - val_loss: 0.0022 - val_mae: 0.0375\n",
      "Epoch 80/500\n",
      "\u001b[1m33/33\u001b[0m \u001b[32m━━━━━━━━━━━━━━━━━━━━\u001b[0m\u001b[37m\u001b[0m \u001b[1m0s\u001b[0m 6ms/step - loss: 0.0026 - mae: 0.0413 - val_loss: 0.0019 - val_mae: 0.0323\n",
      "Epoch 81/500\n",
      "\u001b[1m33/33\u001b[0m \u001b[32m━━━━━━━━━━━━━━━━━━━━\u001b[0m\u001b[37m\u001b[0m \u001b[1m0s\u001b[0m 6ms/step - loss: 0.0028 - mae: 0.0406 - val_loss: 0.0019 - val_mae: 0.0317\n",
      "Epoch 82/500\n",
      "\u001b[1m33/33\u001b[0m \u001b[32m━━━━━━━━━━━━━━━━━━━━\u001b[0m\u001b[37m\u001b[0m \u001b[1m0s\u001b[0m 6ms/step - loss: 0.0025 - mae: 0.0395 - val_loss: 0.0020 - val_mae: 0.0315\n",
      "Epoch 83/500\n",
      "\u001b[1m33/33\u001b[0m \u001b[32m━━━━━━━━━━━━━━━━━━━━\u001b[0m\u001b[37m\u001b[0m \u001b[1m0s\u001b[0m 6ms/step - loss: 0.0026 - mae: 0.0404 - val_loss: 0.0019 - val_mae: 0.0327\n",
      "Epoch 84/500\n",
      "\u001b[1m33/33\u001b[0m \u001b[32m━━━━━━━━━━━━━━━━━━━━\u001b[0m\u001b[37m\u001b[0m \u001b[1m0s\u001b[0m 6ms/step - loss: 0.0023 - mae: 0.0370 - val_loss: 0.0019 - val_mae: 0.0347\n",
      "Epoch 85/500\n",
      "\u001b[1m33/33\u001b[0m \u001b[32m━━━━━━━━━━━━━━━━━━━━\u001b[0m\u001b[37m\u001b[0m \u001b[1m0s\u001b[0m 7ms/step - loss: 0.0029 - mae: 0.0430 - val_loss: 0.0026 - val_mae: 0.0424\n",
      "Epoch 86/500\n",
      "\u001b[1m33/33\u001b[0m \u001b[32m━━━━━━━━━━━━━━━━━━━━\u001b[0m\u001b[37m\u001b[0m \u001b[1m0s\u001b[0m 6ms/step - loss: 0.0035 - mae: 0.0485 - val_loss: 0.0020 - val_mae: 0.0330\n",
      "Epoch 87/500\n",
      "\u001b[1m33/33\u001b[0m \u001b[32m━━━━━━━━━━━━━━━━━━━━\u001b[0m\u001b[37m\u001b[0m \u001b[1m0s\u001b[0m 7ms/step - loss: 0.0031 - mae: 0.0459 - val_loss: 0.0019 - val_mae: 0.0309\n",
      "Epoch 88/500\n",
      "\u001b[1m33/33\u001b[0m \u001b[32m━━━━━━━━━━━━━━━━━━━━\u001b[0m\u001b[37m\u001b[0m \u001b[1m0s\u001b[0m 6ms/step - loss: 0.0030 - mae: 0.0446 - val_loss: 0.0019 - val_mae: 0.0361\n",
      "Epoch 89/500\n",
      "\u001b[1m33/33\u001b[0m \u001b[32m━━━━━━━━━━━━━━━━━━━━\u001b[0m\u001b[37m\u001b[0m \u001b[1m0s\u001b[0m 6ms/step - loss: 0.0031 - mae: 0.0425 - val_loss: 0.0024 - val_mae: 0.0466\n",
      "Epoch 90/500\n",
      "\u001b[1m33/33\u001b[0m \u001b[32m━━━━━━━━━━━━━━━━━━━━\u001b[0m\u001b[37m\u001b[0m \u001b[1m0s\u001b[0m 6ms/step - loss: 0.0035 - mae: 0.0451 - val_loss: 0.0021 - val_mae: 0.0385\n",
      "Epoch 91/500\n",
      "\u001b[1m33/33\u001b[0m \u001b[32m━━━━━━━━━━━━━━━━━━━━\u001b[0m\u001b[37m\u001b[0m \u001b[1m0s\u001b[0m 6ms/step - loss: 0.0023 - mae: 0.0393 - val_loss: 0.0019 - val_mae: 0.0351\n",
      "Epoch 92/500\n",
      "\u001b[1m33/33\u001b[0m \u001b[32m━━━━━━━━━━━━━━━━━━━━\u001b[0m\u001b[37m\u001b[0m \u001b[1m0s\u001b[0m 6ms/step - loss: 0.0028 - mae: 0.0428 - val_loss: 0.0020 - val_mae: 0.0370\n",
      "Epoch 93/500\n",
      "\u001b[1m33/33\u001b[0m \u001b[32m━━━━━━━━━━━━━━━━━━━━\u001b[0m\u001b[37m\u001b[0m \u001b[1m0s\u001b[0m 5ms/step - loss: 0.0024 - mae: 0.0406 - val_loss: 0.0019 - val_mae: 0.0326\n",
      "Epoch 94/500\n",
      "\u001b[1m33/33\u001b[0m \u001b[32m━━━━━━━━━━━━━━━━━━━━\u001b[0m\u001b[37m\u001b[0m \u001b[1m0s\u001b[0m 6ms/step - loss: 0.0026 - mae: 0.0417 - val_loss: 0.0021 - val_mae: 0.0386\n",
      "Epoch 95/500\n",
      "\u001b[1m33/33\u001b[0m \u001b[32m━━━━━━━━━━━━━━━━━━━━\u001b[0m\u001b[37m\u001b[0m \u001b[1m0s\u001b[0m 6ms/step - loss: 0.0025 - mae: 0.0420 - val_loss: 0.0019 - val_mae: 0.0319\n",
      "Epoch 96/500\n",
      "\u001b[1m33/33\u001b[0m \u001b[32m━━━━━━━━━━━━━━━━━━━━\u001b[0m\u001b[37m\u001b[0m \u001b[1m0s\u001b[0m 6ms/step - loss: 0.0028 - mae: 0.0412 - val_loss: 0.0023 - val_mae: 0.0392\n",
      "Epoch 97/500\n",
      "\u001b[1m33/33\u001b[0m \u001b[32m━━━━━━━━━━━━━━━━━━━━\u001b[0m\u001b[37m\u001b[0m \u001b[1m0s\u001b[0m 6ms/step - loss: 0.0033 - mae: 0.0455 - val_loss: 0.0025 - val_mae: 0.0420\n",
      "Epoch 98/500\n",
      "\u001b[1m33/33\u001b[0m \u001b[32m━━━━━━━━━━━━━━━━━━━━\u001b[0m\u001b[37m\u001b[0m \u001b[1m0s\u001b[0m 8ms/step - loss: 0.0030 - mae: 0.0454 - val_loss: 0.0019 - val_mae: 0.0330\n",
      "Epoch 99/500\n",
      "\u001b[1m33/33\u001b[0m \u001b[32m━━━━━━━━━━━━━━━━━━━━\u001b[0m\u001b[37m\u001b[0m \u001b[1m0s\u001b[0m 7ms/step - loss: 0.0023 - mae: 0.0394 - val_loss: 0.0021 - val_mae: 0.0387\n",
      "Epoch 100/500\n",
      "\u001b[1m33/33\u001b[0m \u001b[32m━━━━━━━━━━━━━━━━━━━━\u001b[0m\u001b[37m\u001b[0m \u001b[1m0s\u001b[0m 6ms/step - loss: 0.0026 - mae: 0.0417 - val_loss: 0.0021 - val_mae: 0.0372\n",
      "Epoch 101/500\n",
      "\u001b[1m33/33\u001b[0m \u001b[32m━━━━━━━━━━━━━━━━━━━━\u001b[0m\u001b[37m\u001b[0m \u001b[1m0s\u001b[0m 6ms/step - loss: 0.0026 - mae: 0.0417 - val_loss: 0.0019 - val_mae: 0.0337\n",
      "Epoch 102/500\n",
      "\u001b[1m33/33\u001b[0m \u001b[32m━━━━━━━━━━━━━━━━━━━━\u001b[0m\u001b[37m\u001b[0m \u001b[1m0s\u001b[0m 6ms/step - loss: 0.0025 - mae: 0.0384 - val_loss: 0.0021 - val_mae: 0.0352\n",
      "Epoch 103/500\n",
      "\u001b[1m33/33\u001b[0m \u001b[32m━━━━━━━━━━━━━━━━━━━━\u001b[0m\u001b[37m\u001b[0m \u001b[1m0s\u001b[0m 6ms/step - loss: 0.0030 - mae: 0.0433 - val_loss: 0.0021 - val_mae: 0.0314\n",
      "Epoch 104/500\n",
      "\u001b[1m33/33\u001b[0m \u001b[32m━━━━━━━━━━━━━━━━━━━━\u001b[0m\u001b[37m\u001b[0m \u001b[1m0s\u001b[0m 6ms/step - loss: 0.0028 - mae: 0.0429 - val_loss: 0.0023 - val_mae: 0.0418\n",
      "Epoch 105/500\n",
      "\u001b[1m33/33\u001b[0m \u001b[32m━━━━━━━━━━━━━━━━━━━━\u001b[0m\u001b[37m\u001b[0m \u001b[1m0s\u001b[0m 6ms/step - loss: 0.0028 - mae: 0.0442 - val_loss: 0.0021 - val_mae: 0.0384\n",
      "Epoch 106/500\n",
      "\u001b[1m33/33\u001b[0m \u001b[32m━━━━━━━━━━━━━━━━━━━━\u001b[0m\u001b[37m\u001b[0m \u001b[1m0s\u001b[0m 6ms/step - loss: 0.0022 - mae: 0.0390 - val_loss: 0.0021 - val_mae: 0.0370\n",
      "Epoch 107/500\n",
      "\u001b[1m33/33\u001b[0m \u001b[32m━━━━━━━━━━━━━━━━━━━━\u001b[0m\u001b[37m\u001b[0m \u001b[1m0s\u001b[0m 6ms/step - loss: 0.0026 - mae: 0.0421 - val_loss: 0.0020 - val_mae: 0.0354\n",
      "Epoch 108/500\n",
      "\u001b[1m33/33\u001b[0m \u001b[32m━━━━━━━━━━━━━━━━━━━━\u001b[0m\u001b[37m\u001b[0m \u001b[1m0s\u001b[0m 7ms/step - loss: 0.0027 - mae: 0.0419 - val_loss: 0.0019 - val_mae: 0.0319\n",
      "Epoch 109/500\n",
      "\u001b[1m33/33\u001b[0m \u001b[32m━━━━━━━━━━━━━━━━━━━━\u001b[0m\u001b[37m\u001b[0m \u001b[1m0s\u001b[0m 6ms/step - loss: 0.0026 - mae: 0.0401 - val_loss: 0.0021 - val_mae: 0.0356\n",
      "Epoch 110/500\n",
      "\u001b[1m33/33\u001b[0m \u001b[32m━━━━━━━━━━━━━━━━━━━━\u001b[0m\u001b[37m\u001b[0m \u001b[1m0s\u001b[0m 6ms/step - loss: 0.0029 - mae: 0.0435 - val_loss: 0.0018 - val_mae: 0.0335\n",
      "Epoch 111/500\n",
      "\u001b[1m33/33\u001b[0m \u001b[32m━━━━━━━━━━━━━━━━━━━━\u001b[0m\u001b[37m\u001b[0m \u001b[1m0s\u001b[0m 6ms/step - loss: 0.0028 - mae: 0.0423 - val_loss: 0.0019 - val_mae: 0.0348\n",
      "Epoch 112/500\n",
      "\u001b[1m33/33\u001b[0m \u001b[32m━━━━━━━━━━━━━━━━━━━━\u001b[0m\u001b[37m\u001b[0m \u001b[1m0s\u001b[0m 6ms/step - loss: 0.0024 - mae: 0.0395 - val_loss: 0.0022 - val_mae: 0.0368\n",
      "Epoch 113/500\n",
      "\u001b[1m33/33\u001b[0m \u001b[32m━━━━━━━━━━━━━━━━━━━━\u001b[0m\u001b[37m\u001b[0m \u001b[1m0s\u001b[0m 6ms/step - loss: 0.0026 - mae: 0.0414 - val_loss: 0.0019 - val_mae: 0.0357\n",
      "Epoch 114/500\n",
      "\u001b[1m33/33\u001b[0m \u001b[32m━━━━━━━━━━━━━━━━━━━━\u001b[0m\u001b[37m\u001b[0m \u001b[1m0s\u001b[0m 6ms/step - loss: 0.0022 - mae: 0.0374 - val_loss: 0.0021 - val_mae: 0.0310\n",
      "Epoch 115/500\n",
      "\u001b[1m33/33\u001b[0m \u001b[32m━━━━━━━━━━━━━━━━━━━━\u001b[0m\u001b[37m\u001b[0m \u001b[1m0s\u001b[0m 6ms/step - loss: 0.0027 - mae: 0.0412 - val_loss: 0.0019 - val_mae: 0.0343\n",
      "Epoch 116/500\n",
      "\u001b[1m33/33\u001b[0m \u001b[32m━━━━━━━━━━━━━━━━━━━━\u001b[0m\u001b[37m\u001b[0m \u001b[1m0s\u001b[0m 6ms/step - loss: 0.0022 - mae: 0.0387 - val_loss: 0.0022 - val_mae: 0.0407\n",
      "Epoch 117/500\n",
      "\u001b[1m33/33\u001b[0m \u001b[32m━━━━━━━━━━━━━━━━━━━━\u001b[0m\u001b[37m\u001b[0m \u001b[1m0s\u001b[0m 7ms/step - loss: 0.0029 - mae: 0.0429 - val_loss: 0.0021 - val_mae: 0.0346\n",
      "\u001b[1m3/3\u001b[0m \u001b[32m━━━━━━━━━━━━━━━━━━━━\u001b[0m\u001b[37m\u001b[0m \u001b[1m0s\u001b[0m 3ms/step - loss: 0.0013 - mae: 0.0267     \n"
     ]
    },
    {
     "data": {
      "text/plain": [
       "29399.871826171875"
      ]
     },
     "execution_count": 40,
     "metadata": {},
     "output_type": "execute_result"
    }
   ],
   "source": [
    "# 추가 코드 - 이전과 같이 모델을 컴파일, 훈련 및 평가합니다.\n",
    "fit_and_evaluate(univar_model, train_ds, valid_ds, learning_rate=0.05)"
   ]
  },
  {
   "cell_type": "markdown",
   "metadata": {
    "id": "YDKjzBCotnmI"
   },
   "source": [
    "> 파라미터수를 늘리기 위해 32개의 순환뉴런을 만든 결과 MAE가 29665로 SARIMA보다 좋은 결과 보임. 전처리 없이 이런 결과는 의미 있음"
   ]
  },
  {
   "cell_type": "markdown",
   "metadata": {
    "id": "WkKTNSf79i5O"
   },
   "source": [
    "## 심층 RNN\n",
    "- 시계열에 따라 심층으로 회귀전달하며 진행해보는 것 테스트\n",
    "\n",
    "<img src=\"https://drive.google.com/uc?id=1QdGYobVLc6_F-HQ9_ofwpHt82uBFkDQz\" width=\"400\" height=\"200\">\n"
   ]
  },
  {
   "cell_type": "code",
   "execution_count": 41,
   "metadata": {
    "executionInfo": {
     "elapsed": 15,
     "status": "ok",
     "timestamp": 1728695349948,
     "user": {
      "displayName": "WOOSEOK JEONG",
      "userId": "01703662546986869335"
     },
     "user_tz": -540
    },
    "id": "5MnrN76G9i5O"
   },
   "outputs": [],
   "source": [
    "tf.random.set_seed(42)  # 추가 코드 - 재현성 보장\n",
    "deep_model = tf.keras.Sequential([\n",
    "    tf.keras.layers.SimpleRNN(32, return_sequences=True, input_shape=[None, 1]),\n",
    "    tf.keras.layers.SimpleRNN(32, return_sequences=True),\n",
    "    tf.keras.layers.SimpleRNN(32),\n",
    "    tf.keras.layers.Dense(1)\n",
    "])"
   ]
  },
  {
   "cell_type": "code",
   "execution_count": 42,
   "metadata": {
    "colab": {
     "base_uri": "https://localhost:8080/"
    },
    "executionInfo": {
     "elapsed": 119917,
     "status": "ok",
     "timestamp": 1728695469851,
     "user": {
      "displayName": "WOOSEOK JEONG",
      "userId": "01703662546986869335"
     },
     "user_tz": -540
    },
    "id": "MaQtAbgv9i5O",
    "outputId": "aa4f5c56-1d38-4015-8a3c-df8a4aea736f"
   },
   "outputs": [
    {
     "name": "stdout",
     "output_type": "stream",
     "text": [
      "Epoch 1/500\n",
      "\u001b[1m33/33\u001b[0m \u001b[32m━━━━━━━━━━━━━━━━━━━━\u001b[0m\u001b[37m\u001b[0m \u001b[1m2s\u001b[0m 24ms/step - loss: 0.0202 - mae: 0.1553 - val_loss: 0.0043 - val_mae: 0.0718\n",
      "Epoch 2/500\n",
      "\u001b[1m33/33\u001b[0m \u001b[32m━━━━━━━━━━━━━━━━━━━━\u001b[0m\u001b[37m\u001b[0m \u001b[1m1s\u001b[0m 16ms/step - loss: 0.0065 - mae: 0.0827 - val_loss: 0.0032 - val_mae: 0.0595\n",
      "Epoch 3/500\n",
      "\u001b[1m33/33\u001b[0m \u001b[32m━━━━━━━━━━━━━━━━━━━━\u001b[0m\u001b[37m\u001b[0m \u001b[1m1s\u001b[0m 16ms/step - loss: 0.0061 - mae: 0.0797 - val_loss: 0.0027 - val_mae: 0.0557\n",
      "Epoch 4/500\n",
      "\u001b[1m33/33\u001b[0m \u001b[32m━━━━━━━━━━━━━━━━━━━━\u001b[0m\u001b[37m\u001b[0m \u001b[1m1s\u001b[0m 16ms/step - loss: 0.0046 - mae: 0.0675 - val_loss: 0.0028 - val_mae: 0.0551\n",
      "Epoch 5/500\n",
      "\u001b[1m33/33\u001b[0m \u001b[32m━━━━━━━━━━━━━━━━━━━━\u001b[0m\u001b[37m\u001b[0m \u001b[1m1s\u001b[0m 15ms/step - loss: 0.0047 - mae: 0.0653 - val_loss: 0.0021 - val_mae: 0.0430\n",
      "Epoch 6/500\n",
      "\u001b[1m33/33\u001b[0m \u001b[32m━━━━━━━━━━━━━━━━━━━━\u001b[0m\u001b[37m\u001b[0m \u001b[1m1s\u001b[0m 15ms/step - loss: 0.0043 - mae: 0.0607 - val_loss: 0.0035 - val_mae: 0.0654\n",
      "Epoch 7/500\n",
      "\u001b[1m33/33\u001b[0m \u001b[32m━━━━━━━━━━━━━━━━━━━━\u001b[0m\u001b[37m\u001b[0m \u001b[1m1s\u001b[0m 16ms/step - loss: 0.0040 - mae: 0.0605 - val_loss: 0.0020 - val_mae: 0.0410\n",
      "Epoch 8/500\n",
      "\u001b[1m33/33\u001b[0m \u001b[32m━━━━━━━━━━━━━━━━━━━━\u001b[0m\u001b[37m\u001b[0m \u001b[1m1s\u001b[0m 15ms/step - loss: 0.0043 - mae: 0.0630 - val_loss: 0.0031 - val_mae: 0.0605\n",
      "Epoch 9/500\n",
      "\u001b[1m33/33\u001b[0m \u001b[32m━━━━━━━━━━━━━━━━━━━━\u001b[0m\u001b[37m\u001b[0m \u001b[1m1s\u001b[0m 16ms/step - loss: 0.0038 - mae: 0.0584 - val_loss: 0.0026 - val_mae: 0.0497\n",
      "Epoch 10/500\n",
      "\u001b[1m33/33\u001b[0m \u001b[32m━━━━━━━━━━━━━━━━━━━━\u001b[0m\u001b[37m\u001b[0m \u001b[1m1s\u001b[0m 16ms/step - loss: 0.0039 - mae: 0.0573 - val_loss: 0.0018 - val_mae: 0.0331\n",
      "Epoch 11/500\n",
      "\u001b[1m33/33\u001b[0m \u001b[32m━━━━━━━━━━━━━━━━━━━━\u001b[0m\u001b[37m\u001b[0m \u001b[1m1s\u001b[0m 16ms/step - loss: 0.0034 - mae: 0.0482 - val_loss: 0.0018 - val_mae: 0.0318\n",
      "Epoch 12/500\n",
      "\u001b[1m33/33\u001b[0m \u001b[32m━━━━━━━━━━━━━━━━━━━━\u001b[0m\u001b[37m\u001b[0m \u001b[1m1s\u001b[0m 17ms/step - loss: 0.0032 - mae: 0.0476 - val_loss: 0.0019 - val_mae: 0.0386\n",
      "Epoch 13/500\n",
      "\u001b[1m33/33\u001b[0m \u001b[32m━━━━━━━━━━━━━━━━━━━━\u001b[0m\u001b[37m\u001b[0m \u001b[1m1s\u001b[0m 15ms/step - loss: 0.0036 - mae: 0.0542 - val_loss: 0.0018 - val_mae: 0.0328\n",
      "Epoch 14/500\n",
      "\u001b[1m33/33\u001b[0m \u001b[32m━━━━━━━━━━━━━━━━━━━━\u001b[0m\u001b[37m\u001b[0m \u001b[1m1s\u001b[0m 18ms/step - loss: 0.0036 - mae: 0.0494 - val_loss: 0.0018 - val_mae: 0.0327\n",
      "Epoch 15/500\n",
      "\u001b[1m33/33\u001b[0m \u001b[32m━━━━━━━━━━━━━━━━━━━━\u001b[0m\u001b[37m\u001b[0m \u001b[1m1s\u001b[0m 16ms/step - loss: 0.0031 - mae: 0.0481 - val_loss: 0.0023 - val_mae: 0.0434\n",
      "Epoch 16/500\n",
      "\u001b[1m33/33\u001b[0m \u001b[32m━━━━━━━━━━━━━━━━━━━━\u001b[0m\u001b[37m\u001b[0m \u001b[1m1s\u001b[0m 16ms/step - loss: 0.0029 - mae: 0.0458 - val_loss: 0.0018 - val_mae: 0.0337\n",
      "Epoch 17/500\n",
      "\u001b[1m33/33\u001b[0m \u001b[32m━━━━━━━━━━━━━━━━━━━━\u001b[0m\u001b[37m\u001b[0m \u001b[1m1s\u001b[0m 16ms/step - loss: 0.0033 - mae: 0.0489 - val_loss: 0.0019 - val_mae: 0.0332\n",
      "Epoch 18/500\n",
      "\u001b[1m33/33\u001b[0m \u001b[32m━━━━━━━━━━━━━━━━━━━━\u001b[0m\u001b[37m\u001b[0m \u001b[1m1s\u001b[0m 16ms/step - loss: 0.0035 - mae: 0.0516 - val_loss: 0.0020 - val_mae: 0.0370\n",
      "Epoch 19/500\n",
      "\u001b[1m33/33\u001b[0m \u001b[32m━━━━━━━━━━━━━━━━━━━━\u001b[0m\u001b[37m\u001b[0m \u001b[1m1s\u001b[0m 16ms/step - loss: 0.0028 - mae: 0.0444 - val_loss: 0.0019 - val_mae: 0.0360\n",
      "Epoch 20/500\n",
      "\u001b[1m33/33\u001b[0m \u001b[32m━━━━━━━━━━━━━━━━━━━━\u001b[0m\u001b[37m\u001b[0m \u001b[1m1s\u001b[0m 16ms/step - loss: 0.0028 - mae: 0.0455 - val_loss: 0.0018 - val_mae: 0.0328\n",
      "Epoch 21/500\n",
      "\u001b[1m33/33\u001b[0m \u001b[32m━━━━━━━━━━━━━━━━━━━━\u001b[0m\u001b[37m\u001b[0m \u001b[1m1s\u001b[0m 16ms/step - loss: 0.0031 - mae: 0.0459 - val_loss: 0.0020 - val_mae: 0.0371\n",
      "Epoch 22/500\n",
      "\u001b[1m33/33\u001b[0m \u001b[32m━━━━━━━━━━━━━━━━━━━━\u001b[0m\u001b[37m\u001b[0m \u001b[1m1s\u001b[0m 16ms/step - loss: 0.0033 - mae: 0.0487 - val_loss: 0.0020 - val_mae: 0.0365\n",
      "Epoch 23/500\n",
      "\u001b[1m33/33\u001b[0m \u001b[32m━━━━━━━━━━━━━━━━━━━━\u001b[0m\u001b[37m\u001b[0m \u001b[1m1s\u001b[0m 16ms/step - loss: 0.0027 - mae: 0.0437 - val_loss: 0.0022 - val_mae: 0.0426\n",
      "Epoch 24/500\n",
      "\u001b[1m33/33\u001b[0m \u001b[32m━━━━━━━━━━━━━━━━━━━━\u001b[0m\u001b[37m\u001b[0m \u001b[1m1s\u001b[0m 15ms/step - loss: 0.0032 - mae: 0.0479 - val_loss: 0.0024 - val_mae: 0.0453\n",
      "Epoch 25/500\n",
      "\u001b[1m33/33\u001b[0m \u001b[32m━━━━━━━━━━━━━━━━━━━━\u001b[0m\u001b[37m\u001b[0m \u001b[1m1s\u001b[0m 15ms/step - loss: 0.0031 - mae: 0.0479 - val_loss: 0.0019 - val_mae: 0.0360\n",
      "Epoch 26/500\n",
      "\u001b[1m33/33\u001b[0m \u001b[32m━━━━━━━━━━━━━━━━━━━━\u001b[0m\u001b[37m\u001b[0m \u001b[1m1s\u001b[0m 16ms/step - loss: 0.0029 - mae: 0.0452 - val_loss: 0.0019 - val_mae: 0.0345\n",
      "Epoch 27/500\n",
      "\u001b[1m33/33\u001b[0m \u001b[32m━━━━━━━━━━━━━━━━━━━━\u001b[0m\u001b[37m\u001b[0m \u001b[1m1s\u001b[0m 15ms/step - loss: 0.0027 - mae: 0.0416 - val_loss: 0.0018 - val_mae: 0.0365\n",
      "Epoch 28/500\n",
      "\u001b[1m33/33\u001b[0m \u001b[32m━━━━━━━━━━━━━━━━━━━━\u001b[0m\u001b[37m\u001b[0m \u001b[1m1s\u001b[0m 15ms/step - loss: 0.0029 - mae: 0.0482 - val_loss: 0.0020 - val_mae: 0.0385\n",
      "Epoch 29/500\n",
      "\u001b[1m33/33\u001b[0m \u001b[32m━━━━━━━━━━━━━━━━━━━━\u001b[0m\u001b[37m\u001b[0m \u001b[1m1s\u001b[0m 15ms/step - loss: 0.0026 - mae: 0.0436 - val_loss: 0.0019 - val_mae: 0.0353\n",
      "Epoch 30/500\n",
      "\u001b[1m33/33\u001b[0m \u001b[32m━━━━━━━━━━━━━━━━━━━━\u001b[0m\u001b[37m\u001b[0m \u001b[1m1s\u001b[0m 15ms/step - loss: 0.0026 - mae: 0.0414 - val_loss: 0.0017 - val_mae: 0.0329\n",
      "Epoch 31/500\n",
      "\u001b[1m33/33\u001b[0m \u001b[32m━━━━━━━━━━━━━━━━━━━━\u001b[0m\u001b[37m\u001b[0m \u001b[1m1s\u001b[0m 16ms/step - loss: 0.0026 - mae: 0.0426 - val_loss: 0.0017 - val_mae: 0.0324\n",
      "Epoch 32/500\n",
      "\u001b[1m33/33\u001b[0m \u001b[32m━━━━━━━━━━━━━━━━━━━━\u001b[0m\u001b[37m\u001b[0m \u001b[1m1s\u001b[0m 16ms/step - loss: 0.0030 - mae: 0.0475 - val_loss: 0.0017 - val_mae: 0.0319\n",
      "Epoch 33/500\n",
      "\u001b[1m33/33\u001b[0m \u001b[32m━━━━━━━━━━━━━━━━━━━━\u001b[0m\u001b[37m\u001b[0m \u001b[1m1s\u001b[0m 16ms/step - loss: 0.0028 - mae: 0.0439 - val_loss: 0.0019 - val_mae: 0.0357\n",
      "Epoch 34/500\n",
      "\u001b[1m33/33\u001b[0m \u001b[32m━━━━━━━━━━━━━━━━━━━━\u001b[0m\u001b[37m\u001b[0m \u001b[1m1s\u001b[0m 16ms/step - loss: 0.0027 - mae: 0.0414 - val_loss: 0.0018 - val_mae: 0.0342\n",
      "Epoch 35/500\n",
      "\u001b[1m33/33\u001b[0m \u001b[32m━━━━━━━━━━━━━━━━━━━━\u001b[0m\u001b[37m\u001b[0m \u001b[1m1s\u001b[0m 17ms/step - loss: 0.0030 - mae: 0.0443 - val_loss: 0.0017 - val_mae: 0.0313\n",
      "Epoch 36/500\n",
      "\u001b[1m33/33\u001b[0m \u001b[32m━━━━━━━━━━━━━━━━━━━━\u001b[0m\u001b[37m\u001b[0m \u001b[1m1s\u001b[0m 15ms/step - loss: 0.0028 - mae: 0.0415 - val_loss: 0.0022 - val_mae: 0.0390\n",
      "Epoch 37/500\n",
      "\u001b[1m33/33\u001b[0m \u001b[32m━━━━━━━━━━━━━━━━━━━━\u001b[0m\u001b[37m\u001b[0m \u001b[1m1s\u001b[0m 16ms/step - loss: 0.0026 - mae: 0.0427 - val_loss: 0.0020 - val_mae: 0.0372\n",
      "Epoch 38/500\n",
      "\u001b[1m33/33\u001b[0m \u001b[32m━━━━━━━━━━━━━━━━━━━━\u001b[0m\u001b[37m\u001b[0m \u001b[1m1s\u001b[0m 16ms/step - loss: 0.0022 - mae: 0.0399 - val_loss: 0.0018 - val_mae: 0.0355\n",
      "Epoch 39/500\n",
      "\u001b[1m33/33\u001b[0m \u001b[32m━━━━━━━━━━━━━━━━━━━━\u001b[0m\u001b[37m\u001b[0m \u001b[1m1s\u001b[0m 16ms/step - loss: 0.0029 - mae: 0.0435 - val_loss: 0.0019 - val_mae: 0.0351\n",
      "Epoch 40/500\n",
      "\u001b[1m33/33\u001b[0m \u001b[32m━━━━━━━━━━━━━━━━━━━━\u001b[0m\u001b[37m\u001b[0m \u001b[1m1s\u001b[0m 15ms/step - loss: 0.0028 - mae: 0.0458 - val_loss: 0.0028 - val_mae: 0.0506\n",
      "Epoch 41/500\n",
      "\u001b[1m33/33\u001b[0m \u001b[32m━━━━━━━━━━━━━━━━━━━━\u001b[0m\u001b[37m\u001b[0m \u001b[1m1s\u001b[0m 16ms/step - loss: 0.0032 - mae: 0.0508 - val_loss: 0.0017 - val_mae: 0.0321\n",
      "Epoch 42/500\n",
      "\u001b[1m33/33\u001b[0m \u001b[32m━━━━━━━━━━━━━━━━━━━━\u001b[0m\u001b[37m\u001b[0m \u001b[1m1s\u001b[0m 16ms/step - loss: 0.0026 - mae: 0.0426 - val_loss: 0.0021 - val_mae: 0.0405\n",
      "Epoch 43/500\n",
      "\u001b[1m33/33\u001b[0m \u001b[32m━━━━━━━━━━━━━━━━━━━━\u001b[0m\u001b[37m\u001b[0m \u001b[1m1s\u001b[0m 15ms/step - loss: 0.0028 - mae: 0.0434 - val_loss: 0.0021 - val_mae: 0.0388\n",
      "Epoch 44/500\n",
      "\u001b[1m33/33\u001b[0m \u001b[32m━━━━━━━━━━━━━━━━━━━━\u001b[0m\u001b[37m\u001b[0m \u001b[1m1s\u001b[0m 16ms/step - loss: 0.0023 - mae: 0.0400 - val_loss: 0.0018 - val_mae: 0.0347\n",
      "Epoch 45/500\n",
      "\u001b[1m33/33\u001b[0m \u001b[32m━━━━━━━━━━━━━━━━━━━━\u001b[0m\u001b[37m\u001b[0m \u001b[1m1s\u001b[0m 16ms/step - loss: 0.0029 - mae: 0.0444 - val_loss: 0.0018 - val_mae: 0.0358\n",
      "Epoch 46/500\n",
      "\u001b[1m33/33\u001b[0m \u001b[32m━━━━━━━━━━━━━━━━━━━━\u001b[0m\u001b[37m\u001b[0m \u001b[1m1s\u001b[0m 15ms/step - loss: 0.0030 - mae: 0.0487 - val_loss: 0.0034 - val_mae: 0.0620\n",
      "Epoch 47/500\n",
      "\u001b[1m33/33\u001b[0m \u001b[32m━━━━━━━━━━━━━━━━━━━━\u001b[0m\u001b[37m\u001b[0m \u001b[1m1s\u001b[0m 16ms/step - loss: 0.0030 - mae: 0.0499 - val_loss: 0.0017 - val_mae: 0.0313\n",
      "Epoch 48/500\n",
      "\u001b[1m33/33\u001b[0m \u001b[32m━━━━━━━━━━━━━━━━━━━━\u001b[0m\u001b[37m\u001b[0m \u001b[1m1s\u001b[0m 18ms/step - loss: 0.0023 - mae: 0.0402 - val_loss: 0.0019 - val_mae: 0.0359\n",
      "Epoch 49/500\n",
      "\u001b[1m33/33\u001b[0m \u001b[32m━━━━━━━━━━━━━━━━━━━━\u001b[0m\u001b[37m\u001b[0m \u001b[1m1s\u001b[0m 16ms/step - loss: 0.0025 - mae: 0.0406 - val_loss: 0.0017 - val_mae: 0.0322\n",
      "Epoch 50/500\n",
      "\u001b[1m33/33\u001b[0m \u001b[32m━━━━━━━━━━━━━━━━━━━━\u001b[0m\u001b[37m\u001b[0m \u001b[1m1s\u001b[0m 16ms/step - loss: 0.0029 - mae: 0.0423 - val_loss: 0.0018 - val_mae: 0.0357\n",
      "Epoch 51/500\n",
      "\u001b[1m33/33\u001b[0m \u001b[32m━━━━━━━━━━━━━━━━━━━━\u001b[0m\u001b[37m\u001b[0m \u001b[1m1s\u001b[0m 16ms/step - loss: 0.0027 - mae: 0.0443 - val_loss: 0.0027 - val_mae: 0.0528\n",
      "Epoch 52/500\n",
      "\u001b[1m33/33\u001b[0m \u001b[32m━━━━━━━━━━━━━━━━━━━━\u001b[0m\u001b[37m\u001b[0m \u001b[1m1s\u001b[0m 16ms/step - loss: 0.0036 - mae: 0.0537 - val_loss: 0.0023 - val_mae: 0.0469\n",
      "Epoch 53/500\n",
      "\u001b[1m33/33\u001b[0m \u001b[32m━━━━━━━━━━━━━━━━━━━━\u001b[0m\u001b[37m\u001b[0m \u001b[1m1s\u001b[0m 16ms/step - loss: 0.0028 - mae: 0.0437 - val_loss: 0.0018 - val_mae: 0.0342\n",
      "Epoch 54/500\n",
      "\u001b[1m33/33\u001b[0m \u001b[32m━━━━━━━━━━━━━━━━━━━━\u001b[0m\u001b[37m\u001b[0m \u001b[1m1s\u001b[0m 16ms/step - loss: 0.0028 - mae: 0.0430 - val_loss: 0.0017 - val_mae: 0.0322\n",
      "Epoch 55/500\n",
      "\u001b[1m33/33\u001b[0m \u001b[32m━━━━━━━━━━━━━━━━━━━━\u001b[0m\u001b[37m\u001b[0m \u001b[1m1s\u001b[0m 16ms/step - loss: 0.0029 - mae: 0.0421 - val_loss: 0.0018 - val_mae: 0.0356\n",
      "Epoch 56/500\n",
      "\u001b[1m33/33\u001b[0m \u001b[32m━━━━━━━━━━━━━━━━━━━━\u001b[0m\u001b[37m\u001b[0m \u001b[1m1s\u001b[0m 16ms/step - loss: 0.0023 - mae: 0.0406 - val_loss: 0.0018 - val_mae: 0.0337\n",
      "Epoch 57/500\n",
      "\u001b[1m33/33\u001b[0m \u001b[32m━━━━━━━━━━━━━━━━━━━━\u001b[0m\u001b[37m\u001b[0m \u001b[1m1s\u001b[0m 16ms/step - loss: 0.0024 - mae: 0.0402 - val_loss: 0.0017 - val_mae: 0.0333\n",
      "Epoch 58/500\n",
      "\u001b[1m33/33\u001b[0m \u001b[32m━━━━━━━━━━━━━━━━━━━━\u001b[0m\u001b[37m\u001b[0m \u001b[1m1s\u001b[0m 16ms/step - loss: 0.0026 - mae: 0.0396 - val_loss: 0.0018 - val_mae: 0.0348\n",
      "Epoch 59/500\n",
      "\u001b[1m33/33\u001b[0m \u001b[32m━━━━━━━━━━━━━━━━━━━━\u001b[0m\u001b[37m\u001b[0m \u001b[1m1s\u001b[0m 15ms/step - loss: 0.0028 - mae: 0.0421 - val_loss: 0.0027 - val_mae: 0.0518\n",
      "Epoch 60/500\n",
      "\u001b[1m33/33\u001b[0m \u001b[32m━━━━━━━━━━━━━━━━━━━━\u001b[0m\u001b[37m\u001b[0m \u001b[1m1s\u001b[0m 16ms/step - loss: 0.0027 - mae: 0.0462 - val_loss: 0.0019 - val_mae: 0.0379\n",
      "Epoch 61/500\n",
      "\u001b[1m33/33\u001b[0m \u001b[32m━━━━━━━━━━━━━━━━━━━━\u001b[0m\u001b[37m\u001b[0m \u001b[1m1s\u001b[0m 15ms/step - loss: 0.0026 - mae: 0.0434 - val_loss: 0.0017 - val_mae: 0.0331\n",
      "Epoch 62/500\n",
      "\u001b[1m33/33\u001b[0m \u001b[32m━━━━━━━━━━━━━━━━━━━━\u001b[0m\u001b[37m\u001b[0m \u001b[1m1s\u001b[0m 15ms/step - loss: 0.0021 - mae: 0.0400 - val_loss: 0.0018 - val_mae: 0.0326\n",
      "Epoch 63/500\n",
      "\u001b[1m33/33\u001b[0m \u001b[32m━━━━━━━━━━━━━━━━━━━━\u001b[0m\u001b[37m\u001b[0m \u001b[1m1s\u001b[0m 16ms/step - loss: 0.0026 - mae: 0.0417 - val_loss: 0.0019 - val_mae: 0.0377\n",
      "Epoch 64/500\n",
      "\u001b[1m33/33\u001b[0m \u001b[32m━━━━━━━━━━━━━━━━━━━━\u001b[0m\u001b[37m\u001b[0m \u001b[1m1s\u001b[0m 15ms/step - loss: 0.0021 - mae: 0.0399 - val_loss: 0.0017 - val_mae: 0.0338\n",
      "Epoch 65/500\n",
      "\u001b[1m33/33\u001b[0m \u001b[32m━━━━━━━━━━━━━━━━━━━━\u001b[0m\u001b[37m\u001b[0m \u001b[1m1s\u001b[0m 15ms/step - loss: 0.0027 - mae: 0.0441 - val_loss: 0.0021 - val_mae: 0.0381\n",
      "Epoch 66/500\n",
      "\u001b[1m33/33\u001b[0m \u001b[32m━━━━━━━━━━━━━━━━━━━━\u001b[0m\u001b[37m\u001b[0m \u001b[1m1s\u001b[0m 18ms/step - loss: 0.0021 - mae: 0.0380 - val_loss: 0.0018 - val_mae: 0.0363\n",
      "Epoch 67/500\n",
      "\u001b[1m33/33\u001b[0m \u001b[32m━━━━━━━━━━━━━━━━━━━━\u001b[0m\u001b[37m\u001b[0m \u001b[1m1s\u001b[0m 17ms/step - loss: 0.0024 - mae: 0.0399 - val_loss: 0.0020 - val_mae: 0.0388\n",
      "Epoch 68/500\n",
      "\u001b[1m33/33\u001b[0m \u001b[32m━━━━━━━━━━━━━━━━━━━━\u001b[0m\u001b[37m\u001b[0m \u001b[1m1s\u001b[0m 25ms/step - loss: 0.0024 - mae: 0.0393 - val_loss: 0.0021 - val_mae: 0.0414\n",
      "Epoch 69/500\n",
      "\u001b[1m33/33\u001b[0m \u001b[32m━━━━━━━━━━━━━━━━━━━━\u001b[0m\u001b[37m\u001b[0m \u001b[1m1s\u001b[0m 20ms/step - loss: 0.0022 - mae: 0.0406 - val_loss: 0.0017 - val_mae: 0.0322\n",
      "Epoch 70/500\n",
      "\u001b[1m33/33\u001b[0m \u001b[32m━━━━━━━━━━━━━━━━━━━━\u001b[0m\u001b[37m\u001b[0m \u001b[1m1s\u001b[0m 19ms/step - loss: 0.0020 - mae: 0.0367 - val_loss: 0.0021 - val_mae: 0.0394\n",
      "Epoch 71/500\n",
      "\u001b[1m33/33\u001b[0m \u001b[32m━━━━━━━━━━━━━━━━━━━━\u001b[0m\u001b[37m\u001b[0m \u001b[1m1s\u001b[0m 16ms/step - loss: 0.0030 - mae: 0.0446 - val_loss: 0.0019 - val_mae: 0.0331\n",
      "Epoch 72/500\n",
      "\u001b[1m33/33\u001b[0m \u001b[32m━━━━━━━━━━━━━━━━━━━━\u001b[0m\u001b[37m\u001b[0m \u001b[1m1s\u001b[0m 17ms/step - loss: 0.0023 - mae: 0.0399 - val_loss: 0.0018 - val_mae: 0.0344\n",
      "Epoch 73/500\n",
      "\u001b[1m33/33\u001b[0m \u001b[32m━━━━━━━━━━━━━━━━━━━━\u001b[0m\u001b[37m\u001b[0m \u001b[1m1s\u001b[0m 17ms/step - loss: 0.0029 - mae: 0.0424 - val_loss: 0.0017 - val_mae: 0.0316\n",
      "Epoch 74/500\n",
      "\u001b[1m33/33\u001b[0m \u001b[32m━━━━━━━━━━━━━━━━━━━━\u001b[0m\u001b[37m\u001b[0m \u001b[1m1s\u001b[0m 18ms/step - loss: 0.0026 - mae: 0.0384 - val_loss: 0.0018 - val_mae: 0.0335\n",
      "Epoch 75/500\n",
      "\u001b[1m33/33\u001b[0m \u001b[32m━━━━━━━━━━━━━━━━━━━━\u001b[0m\u001b[37m\u001b[0m \u001b[1m1s\u001b[0m 17ms/step - loss: 0.0025 - mae: 0.0399 - val_loss: 0.0018 - val_mae: 0.0330\n",
      "Epoch 76/500\n",
      "\u001b[1m33/33\u001b[0m \u001b[32m━━━━━━━━━━━━━━━━━━━━\u001b[0m\u001b[37m\u001b[0m \u001b[1m1s\u001b[0m 16ms/step - loss: 0.0029 - mae: 0.0427 - val_loss: 0.0017 - val_mae: 0.0309\n",
      "Epoch 77/500\n",
      "\u001b[1m33/33\u001b[0m \u001b[32m━━━━━━━━━━━━━━━━━━━━\u001b[0m\u001b[37m\u001b[0m \u001b[1m1s\u001b[0m 16ms/step - loss: 0.0028 - mae: 0.0429 - val_loss: 0.0019 - val_mae: 0.0348\n",
      "Epoch 78/500\n",
      "\u001b[1m33/33\u001b[0m \u001b[32m━━━━━━━━━━━━━━━━━━━━\u001b[0m\u001b[37m\u001b[0m \u001b[1m1s\u001b[0m 17ms/step - loss: 0.0024 - mae: 0.0411 - val_loss: 0.0017 - val_mae: 0.0318\n",
      "Epoch 79/500\n",
      "\u001b[1m33/33\u001b[0m \u001b[32m━━━━━━━━━━━━━━━━━━━━\u001b[0m\u001b[37m\u001b[0m \u001b[1m1s\u001b[0m 16ms/step - loss: 0.0023 - mae: 0.0390 - val_loss: 0.0018 - val_mae: 0.0331\n",
      "Epoch 80/500\n",
      "\u001b[1m33/33\u001b[0m \u001b[32m━━━━━━━━━━━━━━━━━━━━\u001b[0m\u001b[37m\u001b[0m \u001b[1m1s\u001b[0m 16ms/step - loss: 0.0029 - mae: 0.0414 - val_loss: 0.0018 - val_mae: 0.0336\n",
      "Epoch 81/500\n",
      "\u001b[1m33/33\u001b[0m \u001b[32m━━━━━━━━━━━━━━━━━━━━\u001b[0m\u001b[37m\u001b[0m \u001b[1m1s\u001b[0m 17ms/step - loss: 0.0024 - mae: 0.0379 - val_loss: 0.0019 - val_mae: 0.0389\n",
      "Epoch 82/500\n",
      "\u001b[1m33/33\u001b[0m \u001b[32m━━━━━━━━━━━━━━━━━━━━\u001b[0m\u001b[37m\u001b[0m \u001b[1m1s\u001b[0m 16ms/step - loss: 0.0025 - mae: 0.0412 - val_loss: 0.0019 - val_mae: 0.0348\n",
      "Epoch 83/500\n",
      "\u001b[1m33/33\u001b[0m \u001b[32m━━━━━━━━━━━━━━━━━━━━\u001b[0m\u001b[37m\u001b[0m \u001b[1m1s\u001b[0m 16ms/step - loss: 0.0023 - mae: 0.0389 - val_loss: 0.0019 - val_mae: 0.0359\n",
      "Epoch 84/500\n",
      "\u001b[1m33/33\u001b[0m \u001b[32m━━━━━━━━━━━━━━━━━━━━\u001b[0m\u001b[37m\u001b[0m \u001b[1m1s\u001b[0m 17ms/step - loss: 0.0024 - mae: 0.0421 - val_loss: 0.0028 - val_mae: 0.0560\n",
      "Epoch 85/500\n",
      "\u001b[1m33/33\u001b[0m \u001b[32m━━━━━━━━━━━━━━━━━━━━\u001b[0m\u001b[37m\u001b[0m \u001b[1m1s\u001b[0m 16ms/step - loss: 0.0029 - mae: 0.0490 - val_loss: 0.0018 - val_mae: 0.0356\n",
      "Epoch 86/500\n",
      "\u001b[1m33/33\u001b[0m \u001b[32m━━━━━━━━━━━━━━━━━━━━\u001b[0m\u001b[37m\u001b[0m \u001b[1m1s\u001b[0m 16ms/step - loss: 0.0021 - mae: 0.0376 - val_loss: 0.0017 - val_mae: 0.0318\n",
      "Epoch 87/500\n",
      "\u001b[1m33/33\u001b[0m \u001b[32m━━━━━━━━━━━━━━━━━━━━\u001b[0m\u001b[37m\u001b[0m \u001b[1m1s\u001b[0m 17ms/step - loss: 0.0026 - mae: 0.0424 - val_loss: 0.0020 - val_mae: 0.0386\n",
      "Epoch 88/500\n",
      "\u001b[1m33/33\u001b[0m \u001b[32m━━━━━━━━━━━━━━━━━━━━\u001b[0m\u001b[37m\u001b[0m \u001b[1m1s\u001b[0m 16ms/step - loss: 0.0028 - mae: 0.0428 - val_loss: 0.0018 - val_mae: 0.0329\n",
      "Epoch 89/500\n",
      "\u001b[1m33/33\u001b[0m \u001b[32m━━━━━━━━━━━━━━━━━━━━\u001b[0m\u001b[37m\u001b[0m \u001b[1m1s\u001b[0m 17ms/step - loss: 0.0026 - mae: 0.0408 - val_loss: 0.0018 - val_mae: 0.0335\n",
      "Epoch 90/500\n",
      "\u001b[1m33/33\u001b[0m \u001b[32m━━━━━━━━━━━━━━━━━━━━\u001b[0m\u001b[37m\u001b[0m \u001b[1m1s\u001b[0m 16ms/step - loss: 0.0027 - mae: 0.0427 - val_loss: 0.0018 - val_mae: 0.0325\n",
      "Epoch 91/500\n",
      "\u001b[1m33/33\u001b[0m \u001b[32m━━━━━━━━━━━━━━━━━━━━\u001b[0m\u001b[37m\u001b[0m \u001b[1m1s\u001b[0m 17ms/step - loss: 0.0022 - mae: 0.0392 - val_loss: 0.0019 - val_mae: 0.0388\n",
      "Epoch 92/500\n",
      "\u001b[1m33/33\u001b[0m \u001b[32m━━━━━━━━━━━━━━━━━━━━\u001b[0m\u001b[37m\u001b[0m \u001b[1m1s\u001b[0m 21ms/step - loss: 0.0023 - mae: 0.0394 - val_loss: 0.0018 - val_mae: 0.0356\n",
      "Epoch 93/500\n",
      "\u001b[1m33/33\u001b[0m \u001b[32m━━━━━━━━━━━━━━━━━━━━\u001b[0m\u001b[37m\u001b[0m \u001b[1m1s\u001b[0m 18ms/step - loss: 0.0025 - mae: 0.0402 - val_loss: 0.0019 - val_mae: 0.0355\n",
      "Epoch 94/500\n",
      "\u001b[1m33/33\u001b[0m \u001b[32m━━━━━━━━━━━━━━━━━━━━\u001b[0m\u001b[37m\u001b[0m \u001b[1m1s\u001b[0m 19ms/step - loss: 0.0026 - mae: 0.0442 - val_loss: 0.0019 - val_mae: 0.0383\n",
      "Epoch 95/500\n",
      "\u001b[1m33/33\u001b[0m \u001b[32m━━━━━━━━━━━━━━━━━━━━\u001b[0m\u001b[37m\u001b[0m \u001b[1m1s\u001b[0m 20ms/step - loss: 0.0027 - mae: 0.0460 - val_loss: 0.0032 - val_mae: 0.0594\n",
      "Epoch 96/500\n",
      "\u001b[1m33/33\u001b[0m \u001b[32m━━━━━━━━━━━━━━━━━━━━\u001b[0m\u001b[37m\u001b[0m \u001b[1m1s\u001b[0m 20ms/step - loss: 0.0028 - mae: 0.0456 - val_loss: 0.0019 - val_mae: 0.0365\n",
      "Epoch 97/500\n",
      "\u001b[1m33/33\u001b[0m \u001b[32m━━━━━━━━━━━━━━━━━━━━\u001b[0m\u001b[37m\u001b[0m \u001b[1m1s\u001b[0m 20ms/step - loss: 0.0028 - mae: 0.0430 - val_loss: 0.0018 - val_mae: 0.0335\n",
      "Epoch 98/500\n",
      "\u001b[1m33/33\u001b[0m \u001b[32m━━━━━━━━━━━━━━━━━━━━\u001b[0m\u001b[37m\u001b[0m \u001b[1m1s\u001b[0m 19ms/step - loss: 0.0025 - mae: 0.0407 - val_loss: 0.0021 - val_mae: 0.0396\n",
      "Epoch 99/500\n",
      "\u001b[1m33/33\u001b[0m \u001b[32m━━━━━━━━━━━━━━━━━━━━\u001b[0m\u001b[37m\u001b[0m \u001b[1m1s\u001b[0m 20ms/step - loss: 0.0027 - mae: 0.0447 - val_loss: 0.0017 - val_mae: 0.0326\n",
      "Epoch 100/500\n",
      "\u001b[1m33/33\u001b[0m \u001b[32m━━━━━━━━━━━━━━━━━━━━\u001b[0m\u001b[37m\u001b[0m \u001b[1m1s\u001b[0m 20ms/step - loss: 0.0027 - mae: 0.0413 - val_loss: 0.0017 - val_mae: 0.0317\n",
      "Epoch 101/500\n",
      "\u001b[1m33/33\u001b[0m \u001b[32m━━━━━━━━━━━━━━━━━━━━\u001b[0m\u001b[37m\u001b[0m \u001b[1m1s\u001b[0m 20ms/step - loss: 0.0027 - mae: 0.0409 - val_loss: 0.0020 - val_mae: 0.0370\n",
      "Epoch 102/500\n",
      "\u001b[1m33/33\u001b[0m \u001b[32m━━━━━━━━━━━━━━━━━━━━\u001b[0m\u001b[37m\u001b[0m \u001b[1m1s\u001b[0m 17ms/step - loss: 0.0025 - mae: 0.0402 - val_loss: 0.0018 - val_mae: 0.0338\n",
      "Epoch 103/500\n",
      "\u001b[1m33/33\u001b[0m \u001b[32m━━━━━━━━━━━━━━━━━━━━\u001b[0m\u001b[37m\u001b[0m \u001b[1m1s\u001b[0m 16ms/step - loss: 0.0025 - mae: 0.0399 - val_loss: 0.0017 - val_mae: 0.0334\n",
      "Epoch 104/500\n",
      "\u001b[1m33/33\u001b[0m \u001b[32m━━━━━━━━━━━━━━━━━━━━\u001b[0m\u001b[37m\u001b[0m \u001b[1m1s\u001b[0m 16ms/step - loss: 0.0023 - mae: 0.0382 - val_loss: 0.0023 - val_mae: 0.0466\n",
      "Epoch 105/500\n",
      "\u001b[1m33/33\u001b[0m \u001b[32m━━━━━━━━━━━━━━━━━━━━\u001b[0m\u001b[37m\u001b[0m \u001b[1m1s\u001b[0m 18ms/step - loss: 0.0027 - mae: 0.0442 - val_loss: 0.0024 - val_mae: 0.0468\n",
      "Epoch 106/500\n",
      "\u001b[1m33/33\u001b[0m \u001b[32m━━━━━━━━━━━━━━━━━━━━\u001b[0m\u001b[37m\u001b[0m \u001b[1m1s\u001b[0m 17ms/step - loss: 0.0025 - mae: 0.0443 - val_loss: 0.0018 - val_mae: 0.0336\n",
      "Epoch 107/500\n",
      "\u001b[1m33/33\u001b[0m \u001b[32m━━━━━━━━━━━━━━━━━━━━\u001b[0m\u001b[37m\u001b[0m \u001b[1m1s\u001b[0m 15ms/step - loss: 0.0023 - mae: 0.0406 - val_loss: 0.0018 - val_mae: 0.0334\n",
      "Epoch 108/500\n",
      "\u001b[1m33/33\u001b[0m \u001b[32m━━━━━━━━━━━━━━━━━━━━\u001b[0m\u001b[37m\u001b[0m \u001b[1m1s\u001b[0m 19ms/step - loss: 0.0025 - mae: 0.0411 - val_loss: 0.0017 - val_mae: 0.0295\n",
      "Epoch 109/500\n",
      "\u001b[1m33/33\u001b[0m \u001b[32m━━━━━━━━━━━━━━━━━━━━\u001b[0m\u001b[37m\u001b[0m \u001b[1m1s\u001b[0m 17ms/step - loss: 0.0027 - mae: 0.0419 - val_loss: 0.0017 - val_mae: 0.0323\n",
      "Epoch 110/500\n",
      "\u001b[1m33/33\u001b[0m \u001b[32m━━━━━━━━━━━━━━━━━━━━\u001b[0m\u001b[37m\u001b[0m \u001b[1m1s\u001b[0m 18ms/step - loss: 0.0024 - mae: 0.0406 - val_loss: 0.0023 - val_mae: 0.0445\n",
      "Epoch 111/500\n",
      "\u001b[1m33/33\u001b[0m \u001b[32m━━━━━━━━━━━━━━━━━━━━\u001b[0m\u001b[37m\u001b[0m \u001b[1m1s\u001b[0m 16ms/step - loss: 0.0026 - mae: 0.0423 - val_loss: 0.0019 - val_mae: 0.0372\n",
      "Epoch 112/500\n",
      "\u001b[1m33/33\u001b[0m \u001b[32m━━━━━━━━━━━━━━━━━━━━\u001b[0m\u001b[37m\u001b[0m \u001b[1m1s\u001b[0m 16ms/step - loss: 0.0027 - mae: 0.0428 - val_loss: 0.0030 - val_mae: 0.0579\n",
      "Epoch 113/500\n",
      "\u001b[1m33/33\u001b[0m \u001b[32m━━━━━━━━━━━━━━━━━━━━\u001b[0m\u001b[37m\u001b[0m \u001b[1m1s\u001b[0m 16ms/step - loss: 0.0027 - mae: 0.0460 - val_loss: 0.0018 - val_mae: 0.0364\n",
      "Epoch 114/500\n",
      "\u001b[1m33/33\u001b[0m \u001b[32m━━━━━━━━━━━━━━━━━━━━\u001b[0m\u001b[37m\u001b[0m \u001b[1m1s\u001b[0m 16ms/step - loss: 0.0027 - mae: 0.0417 - val_loss: 0.0023 - val_mae: 0.0449\n",
      "Epoch 115/500\n",
      "\u001b[1m33/33\u001b[0m \u001b[32m━━━━━━━━━━━━━━━━━━━━\u001b[0m\u001b[37m\u001b[0m \u001b[1m1s\u001b[0m 18ms/step - loss: 0.0024 - mae: 0.0424 - val_loss: 0.0022 - val_mae: 0.0413\n",
      "Epoch 116/500\n",
      "\u001b[1m33/33\u001b[0m \u001b[32m━━━━━━━━━━━━━━━━━━━━\u001b[0m\u001b[37m\u001b[0m \u001b[1m1s\u001b[0m 20ms/step - loss: 0.0028 - mae: 0.0464 - val_loss: 0.0019 - val_mae: 0.0355\n",
      "Epoch 117/500\n",
      "\u001b[1m33/33\u001b[0m \u001b[32m━━━━━━━━━━━━━━━━━━━━\u001b[0m\u001b[37m\u001b[0m \u001b[1m1s\u001b[0m 16ms/step - loss: 0.0024 - mae: 0.0405 - val_loss: 0.0017 - val_mae: 0.0332\n",
      "Epoch 118/500\n",
      "\u001b[1m33/33\u001b[0m \u001b[32m━━━━━━━━━━━━━━━━━━━━\u001b[0m\u001b[37m\u001b[0m \u001b[1m1s\u001b[0m 16ms/step - loss: 0.0021 - mae: 0.0371 - val_loss: 0.0017 - val_mae: 0.0335\n",
      "Epoch 119/500\n",
      "\u001b[1m33/33\u001b[0m \u001b[32m━━━━━━━━━━━━━━━━━━━━\u001b[0m\u001b[37m\u001b[0m \u001b[1m1s\u001b[0m 16ms/step - loss: 0.0024 - mae: 0.0381 - val_loss: 0.0018 - val_mae: 0.0336\n",
      "Epoch 120/500\n",
      "\u001b[1m33/33\u001b[0m \u001b[32m━━━━━━━━━━━━━━━━━━━━\u001b[0m\u001b[37m\u001b[0m \u001b[1m1s\u001b[0m 17ms/step - loss: 0.0024 - mae: 0.0389 - val_loss: 0.0019 - val_mae: 0.0368\n",
      "Epoch 121/500\n",
      "\u001b[1m33/33\u001b[0m \u001b[32m━━━━━━━━━━━━━━━━━━━━\u001b[0m\u001b[37m\u001b[0m \u001b[1m1s\u001b[0m 16ms/step - loss: 0.0027 - mae: 0.0462 - val_loss: 0.0017 - val_mae: 0.0321\n",
      "Epoch 122/500\n",
      "\u001b[1m33/33\u001b[0m \u001b[32m━━━━━━━━━━━━━━━━━━━━\u001b[0m\u001b[37m\u001b[0m \u001b[1m1s\u001b[0m 17ms/step - loss: 0.0024 - mae: 0.0391 - val_loss: 0.0018 - val_mae: 0.0341\n",
      "Epoch 123/500\n",
      "\u001b[1m33/33\u001b[0m \u001b[32m━━━━━━━━━━━━━━━━━━━━\u001b[0m\u001b[37m\u001b[0m \u001b[1m1s\u001b[0m 16ms/step - loss: 0.0022 - mae: 0.0384 - val_loss: 0.0021 - val_mae: 0.0404\n",
      "Epoch 124/500\n",
      "\u001b[1m33/33\u001b[0m \u001b[32m━━━━━━━━━━━━━━━━━━━━\u001b[0m\u001b[37m\u001b[0m \u001b[1m1s\u001b[0m 16ms/step - loss: 0.0022 - mae: 0.0403 - val_loss: 0.0019 - val_mae: 0.0356\n",
      "Epoch 125/500\n",
      "\u001b[1m33/33\u001b[0m \u001b[32m━━━━━━━━━━━━━━━━━━━━\u001b[0m\u001b[37m\u001b[0m \u001b[1m1s\u001b[0m 16ms/step - loss: 0.0029 - mae: 0.0455 - val_loss: 0.0021 - val_mae: 0.0408\n",
      "Epoch 126/500\n",
      "\u001b[1m33/33\u001b[0m \u001b[32m━━━━━━━━━━━━━━━━━━━━\u001b[0m\u001b[37m\u001b[0m \u001b[1m1s\u001b[0m 19ms/step - loss: 0.0027 - mae: 0.0428 - val_loss: 0.0018 - val_mae: 0.0325\n",
      "Epoch 127/500\n",
      "\u001b[1m33/33\u001b[0m \u001b[32m━━━━━━━━━━━━━━━━━━━━\u001b[0m\u001b[37m\u001b[0m \u001b[1m1s\u001b[0m 16ms/step - loss: 0.0021 - mae: 0.0381 - val_loss: 0.0017 - val_mae: 0.0321\n",
      "Epoch 128/500\n",
      "\u001b[1m33/33\u001b[0m \u001b[32m━━━━━━━━━━━━━━━━━━━━\u001b[0m\u001b[37m\u001b[0m \u001b[1m1s\u001b[0m 16ms/step - loss: 0.0024 - mae: 0.0376 - val_loss: 0.0018 - val_mae: 0.0342\n",
      "Epoch 129/500\n",
      "\u001b[1m33/33\u001b[0m \u001b[32m━━━━━━━━━━━━━━━━━━━━\u001b[0m\u001b[37m\u001b[0m \u001b[1m1s\u001b[0m 16ms/step - loss: 0.0022 - mae: 0.0383 - val_loss: 0.0018 - val_mae: 0.0364\n",
      "Epoch 130/500\n",
      "\u001b[1m33/33\u001b[0m \u001b[32m━━━━━━━━━━━━━━━━━━━━\u001b[0m\u001b[37m\u001b[0m \u001b[1m1s\u001b[0m 17ms/step - loss: 0.0031 - mae: 0.0438 - val_loss: 0.0018 - val_mae: 0.0330\n",
      "Epoch 131/500\n",
      "\u001b[1m33/33\u001b[0m \u001b[32m━━━━━━━━━━━━━━━━━━━━\u001b[0m\u001b[37m\u001b[0m \u001b[1m1s\u001b[0m 19ms/step - loss: 0.0025 - mae: 0.0417 - val_loss: 0.0018 - val_mae: 0.0342\n",
      "Epoch 132/500\n",
      "\u001b[1m33/33\u001b[0m \u001b[32m━━━━━━━━━━━━━━━━━━━━\u001b[0m\u001b[37m\u001b[0m \u001b[1m1s\u001b[0m 19ms/step - loss: 0.0027 - mae: 0.0416 - val_loss: 0.0018 - val_mae: 0.0325\n",
      "Epoch 133/500\n",
      "\u001b[1m33/33\u001b[0m \u001b[32m━━━━━━━━━━━━━━━━━━━━\u001b[0m\u001b[37m\u001b[0m \u001b[1m1s\u001b[0m 18ms/step - loss: 0.0023 - mae: 0.0389 - val_loss: 0.0020 - val_mae: 0.0398\n",
      "Epoch 134/500\n",
      "\u001b[1m33/33\u001b[0m \u001b[32m━━━━━━━━━━━━━━━━━━━━\u001b[0m\u001b[37m\u001b[0m \u001b[1m1s\u001b[0m 18ms/step - loss: 0.0026 - mae: 0.0437 - val_loss: 0.0018 - val_mae: 0.0367\n",
      "Epoch 135/500\n",
      "\u001b[1m33/33\u001b[0m \u001b[32m━━━━━━━━━━━━━━━━━━━━\u001b[0m\u001b[37m\u001b[0m \u001b[1m1s\u001b[0m 19ms/step - loss: 0.0019 - mae: 0.0367 - val_loss: 0.0019 - val_mae: 0.0371\n",
      "Epoch 136/500\n",
      "\u001b[1m33/33\u001b[0m \u001b[32m━━━━━━━━━━━━━━━━━━━━\u001b[0m\u001b[37m\u001b[0m \u001b[1m1s\u001b[0m 20ms/step - loss: 0.0025 - mae: 0.0400 - val_loss: 0.0020 - val_mae: 0.0385\n",
      "Epoch 137/500\n",
      "\u001b[1m33/33\u001b[0m \u001b[32m━━━━━━━━━━━━━━━━━━━━\u001b[0m\u001b[37m\u001b[0m \u001b[1m1s\u001b[0m 18ms/step - loss: 0.0021 - mae: 0.0385 - val_loss: 0.0018 - val_mae: 0.0348\n",
      "Epoch 138/500\n",
      "\u001b[1m33/33\u001b[0m \u001b[32m━━━━━━━━━━━━━━━━━━━━\u001b[0m\u001b[37m\u001b[0m \u001b[1m1s\u001b[0m 20ms/step - loss: 0.0022 - mae: 0.0374 - val_loss: 0.0017 - val_mae: 0.0319\n",
      "Epoch 139/500\n",
      "\u001b[1m33/33\u001b[0m \u001b[32m━━━━━━━━━━━━━━━━━━━━\u001b[0m\u001b[37m\u001b[0m \u001b[1m1s\u001b[0m 18ms/step - loss: 0.0024 - mae: 0.0383 - val_loss: 0.0017 - val_mae: 0.0300\n",
      "Epoch 140/500\n",
      "\u001b[1m33/33\u001b[0m \u001b[32m━━━━━━━━━━━━━━━━━━━━\u001b[0m\u001b[37m\u001b[0m \u001b[1m1s\u001b[0m 18ms/step - loss: 0.0022 - mae: 0.0378 - val_loss: 0.0023 - val_mae: 0.0433\n",
      "Epoch 141/500\n",
      "\u001b[1m33/33\u001b[0m \u001b[32m━━━━━━━━━━━━━━━━━━━━\u001b[0m\u001b[37m\u001b[0m \u001b[1m1s\u001b[0m 18ms/step - loss: 0.0026 - mae: 0.0436 - val_loss: 0.0019 - val_mae: 0.0370\n",
      "Epoch 142/500\n",
      "\u001b[1m33/33\u001b[0m \u001b[32m━━━━━━━━━━━━━━━━━━━━\u001b[0m\u001b[37m\u001b[0m \u001b[1m1s\u001b[0m 21ms/step - loss: 0.0024 - mae: 0.0407 - val_loss: 0.0018 - val_mae: 0.0333\n",
      "Epoch 143/500\n",
      "\u001b[1m33/33\u001b[0m \u001b[32m━━━━━━━━━━━━━━━━━━━━\u001b[0m\u001b[37m\u001b[0m \u001b[1m1s\u001b[0m 18ms/step - loss: 0.0024 - mae: 0.0389 - val_loss: 0.0019 - val_mae: 0.0353\n",
      "Epoch 144/500\n",
      "\u001b[1m33/33\u001b[0m \u001b[32m━━━━━━━━━━━━━━━━━━━━\u001b[0m\u001b[37m\u001b[0m \u001b[1m1s\u001b[0m 18ms/step - loss: 0.0026 - mae: 0.0419 - val_loss: 0.0018 - val_mae: 0.0339\n",
      "Epoch 145/500\n",
      "\u001b[1m33/33\u001b[0m \u001b[32m━━━━━━━━━━━━━━━━━━━━\u001b[0m\u001b[37m\u001b[0m \u001b[1m1s\u001b[0m 18ms/step - loss: 0.0021 - mae: 0.0377 - val_loss: 0.0018 - val_mae: 0.0345\n",
      "Epoch 146/500\n",
      "\u001b[1m33/33\u001b[0m \u001b[32m━━━━━━━━━━━━━━━━━━━━\u001b[0m\u001b[37m\u001b[0m \u001b[1m1s\u001b[0m 19ms/step - loss: 0.0024 - mae: 0.0394 - val_loss: 0.0018 - val_mae: 0.0356\n",
      "Epoch 147/500\n",
      "\u001b[1m33/33\u001b[0m \u001b[32m━━━━━━━━━━━━━━━━━━━━\u001b[0m\u001b[37m\u001b[0m \u001b[1m1s\u001b[0m 18ms/step - loss: 0.0026 - mae: 0.0420 - val_loss: 0.0017 - val_mae: 0.0333\n",
      "Epoch 148/500\n",
      "\u001b[1m33/33\u001b[0m \u001b[32m━━━━━━━━━━━━━━━━━━━━\u001b[0m\u001b[37m\u001b[0m \u001b[1m1s\u001b[0m 19ms/step - loss: 0.0026 - mae: 0.0433 - val_loss: 0.0018 - val_mae: 0.0333\n",
      "Epoch 149/500\n",
      "\u001b[1m33/33\u001b[0m \u001b[32m━━━━━━━━━━━━━━━━━━━━\u001b[0m\u001b[37m\u001b[0m \u001b[1m1s\u001b[0m 20ms/step - loss: 0.0022 - mae: 0.0377 - val_loss: 0.0018 - val_mae: 0.0337\n",
      "Epoch 150/500\n",
      "\u001b[1m33/33\u001b[0m \u001b[32m━━━━━━━━━━━━━━━━━━━━\u001b[0m\u001b[37m\u001b[0m \u001b[1m1s\u001b[0m 20ms/step - loss: 0.0029 - mae: 0.0442 - val_loss: 0.0018 - val_mae: 0.0338\n",
      "Epoch 151/500\n",
      "\u001b[1m33/33\u001b[0m \u001b[32m━━━━━━━━━━━━━━━━━━━━\u001b[0m\u001b[37m\u001b[0m \u001b[1m1s\u001b[0m 20ms/step - loss: 0.0025 - mae: 0.0407 - val_loss: 0.0019 - val_mae: 0.0373\n",
      "Epoch 152/500\n",
      "\u001b[1m33/33\u001b[0m \u001b[32m━━━━━━━━━━━━━━━━━━━━\u001b[0m\u001b[37m\u001b[0m \u001b[1m1s\u001b[0m 21ms/step - loss: 0.0025 - mae: 0.0396 - val_loss: 0.0019 - val_mae: 0.0360\n",
      "Epoch 153/500\n",
      "\u001b[1m33/33\u001b[0m \u001b[32m━━━━━━━━━━━━━━━━━━━━\u001b[0m\u001b[37m\u001b[0m \u001b[1m1s\u001b[0m 18ms/step - loss: 0.0025 - mae: 0.0405 - val_loss: 0.0018 - val_mae: 0.0329\n",
      "Epoch 154/500\n",
      "\u001b[1m33/33\u001b[0m \u001b[32m━━━━━━━━━━━━━━━━━━━━\u001b[0m\u001b[37m\u001b[0m \u001b[1m1s\u001b[0m 18ms/step - loss: 0.0028 - mae: 0.0449 - val_loss: 0.0018 - val_mae: 0.0326\n",
      "Epoch 155/500\n",
      "\u001b[1m33/33\u001b[0m \u001b[32m━━━━━━━━━━━━━━━━━━━━\u001b[0m\u001b[37m\u001b[0m \u001b[1m1s\u001b[0m 20ms/step - loss: 0.0023 - mae: 0.0374 - val_loss: 0.0018 - val_mae: 0.0323\n",
      "Epoch 156/500\n",
      "\u001b[1m33/33\u001b[0m \u001b[32m━━━━━━━━━━━━━━━━━━━━\u001b[0m\u001b[37m\u001b[0m \u001b[1m1s\u001b[0m 19ms/step - loss: 0.0023 - mae: 0.0383 - val_loss: 0.0021 - val_mae: 0.0406\n",
      "Epoch 157/500\n",
      "\u001b[1m33/33\u001b[0m \u001b[32m━━━━━━━━━━━━━━━━━━━━\u001b[0m\u001b[37m\u001b[0m \u001b[1m1s\u001b[0m 17ms/step - loss: 0.0025 - mae: 0.0428 - val_loss: 0.0018 - val_mae: 0.0334\n",
      "Epoch 158/500\n",
      "\u001b[1m33/33\u001b[0m \u001b[32m━━━━━━━━━━━━━━━━━━━━\u001b[0m\u001b[37m\u001b[0m \u001b[1m1s\u001b[0m 17ms/step - loss: 0.0024 - mae: 0.0384 - val_loss: 0.0018 - val_mae: 0.0356\n",
      "\u001b[1m3/3\u001b[0m \u001b[32m━━━━━━━━━━━━━━━━━━━━\u001b[0m\u001b[37m\u001b[0m \u001b[1m0s\u001b[0m 6ms/step - loss: 0.0013 - mae: 0.0277     \n"
     ]
    },
    {
     "data": {
      "text/plain": [
       "29505.720362067223"
      ]
     },
     "execution_count": 42,
     "metadata": {},
     "output_type": "execute_result"
    }
   ],
   "source": [
    "# 추가 코드 - 이전과 같이 모델을 컴파일, 훈련 및 평가합니다.\n",
    "fit_and_evaluate(deep_model, train_ds, valid_ds, learning_rate=0.01)"
   ]
  },
  {
   "cell_type": "markdown",
   "metadata": {
    "id": "W_5RKeKrv28X"
   },
   "source": [
    "> 위의 모델과 MAE 큰 차이 없어서 비효율적임. 오히려 다른 변수가 영향을 주는 것을 찾아서 적용하면 좀더 개선할 수 있지 않을까? 그래서 다변량 시계열로 적용해본다"
   ]
  },
  {
   "cell_type": "markdown",
   "metadata": {
    "id": "X2na3s3M9i5O"
   },
   "source": [
    "## 다변량 시계열\n",
    "- 신경망의 큰 장점은 유연성임. 구조를 거의 바꾸지 않고도 다른 변수를 넣어서 시계열을 다룰수 있음.\n",
    "- 예를 들어서 주말변수, 요일유형을 추가해서 피처로 추가 가능|"
   ]
  },
  {
   "cell_type": "code",
   "execution_count": 43,
   "metadata": {
    "executionInfo": {
     "elapsed": 20,
     "status": "ok",
     "timestamp": 1728695469851,
     "user": {
      "displayName": "WOOSEOK JEONG",
      "userId": "01703662546986869335"
     },
     "user_tz": -540
    },
    "id": "O44xIqKA9i5P"
   },
   "outputs": [],
   "source": [
    "df_mulvar = df[[\"bus\", \"rail\"]] / 1e6  # 버스 및 열차 시계열을 모두 입력으로 사용\n",
    "df_mulvar[\"next_day_type\"] = df[\"day_type\"].shift(-1)  # 내일의 유형을 알고 있습니다.\n",
    "df_mulvar = pd.get_dummies(df_mulvar,drop_first=True)  # 요일 유형을 원-핫 인코딩합니다."
   ]
  },
  {
   "cell_type": "code",
   "execution_count": 44,
   "metadata": {
    "colab": {
     "base_uri": "https://localhost:8080/",
     "height": 238
    },
    "executionInfo": {
     "elapsed": 20,
     "status": "ok",
     "timestamp": 1728695469851,
     "user": {
      "displayName": "WOOSEOK JEONG",
      "userId": "01703662546986869335"
     },
     "user_tz": -540
    },
    "id": "lqBG2RdawSKE",
    "outputId": "eaec3a29-c1e9-47c2-e083-b7dc086bc3e8"
   },
   "outputs": [
    {
     "data": {
      "text/html": [
       "<div>\n",
       "<style scoped>\n",
       "    .dataframe tbody tr th:only-of-type {\n",
       "        vertical-align: middle;\n",
       "    }\n",
       "\n",
       "    .dataframe tbody tr th {\n",
       "        vertical-align: top;\n",
       "    }\n",
       "\n",
       "    .dataframe thead th {\n",
       "        text-align: right;\n",
       "    }\n",
       "</style>\n",
       "<table border=\"1\" class=\"dataframe\">\n",
       "  <thead>\n",
       "    <tr style=\"text-align: right;\">\n",
       "      <th></th>\n",
       "      <th>bus</th>\n",
       "      <th>rail</th>\n",
       "      <th>next_day_type_U</th>\n",
       "      <th>next_day_type_W</th>\n",
       "    </tr>\n",
       "    <tr>\n",
       "      <th>date</th>\n",
       "      <th></th>\n",
       "      <th></th>\n",
       "      <th></th>\n",
       "      <th></th>\n",
       "    </tr>\n",
       "  </thead>\n",
       "  <tbody>\n",
       "    <tr>\n",
       "      <th>2001-01-01</th>\n",
       "      <td>0.297192</td>\n",
       "      <td>0.126455</td>\n",
       "      <td>False</td>\n",
       "      <td>True</td>\n",
       "    </tr>\n",
       "    <tr>\n",
       "      <th>2001-01-02</th>\n",
       "      <td>0.780827</td>\n",
       "      <td>0.501952</td>\n",
       "      <td>False</td>\n",
       "      <td>True</td>\n",
       "    </tr>\n",
       "    <tr>\n",
       "      <th>2001-01-03</th>\n",
       "      <td>0.824923</td>\n",
       "      <td>0.536432</td>\n",
       "      <td>False</td>\n",
       "      <td>True</td>\n",
       "    </tr>\n",
       "    <tr>\n",
       "      <th>2001-01-04</th>\n",
       "      <td>0.870021</td>\n",
       "      <td>0.550011</td>\n",
       "      <td>False</td>\n",
       "      <td>True</td>\n",
       "    </tr>\n",
       "    <tr>\n",
       "      <th>2001-01-05</th>\n",
       "      <td>0.890426</td>\n",
       "      <td>0.557917</td>\n",
       "      <td>False</td>\n",
       "      <td>False</td>\n",
       "    </tr>\n",
       "  </tbody>\n",
       "</table>\n",
       "</div>"
      ],
      "text/plain": [
       "                 bus      rail  next_day_type_U  next_day_type_W\n",
       "date                                                            \n",
       "2001-01-01  0.297192  0.126455            False             True\n",
       "2001-01-02  0.780827  0.501952            False             True\n",
       "2001-01-03  0.824923  0.536432            False             True\n",
       "2001-01-04  0.870021  0.550011            False             True\n",
       "2001-01-05  0.890426  0.557917            False            False"
      ]
     },
     "execution_count": 44,
     "metadata": {},
     "output_type": "execute_result"
    }
   ],
   "source": [
    "df_mulvar.head()"
   ]
  },
  {
   "cell_type": "code",
   "execution_count": 45,
   "metadata": {
    "executionInfo": {
     "elapsed": 11,
     "status": "ok",
     "timestamp": 1728695469851,
     "user": {
      "displayName": "WOOSEOK JEONG",
      "userId": "01703662546986869335"
     },
     "user_tz": -540
    },
    "id": "Cb7Pm-Zw9i5P"
   },
   "outputs": [],
   "source": [
    "mulvar_train = df_mulvar[\"2016-01\":\"2018-12\"]\n",
    "mulvar_valid = df_mulvar[\"2019-01\":\"2019-05\"]\n",
    "mulvar_test = df_mulvar[\"2019-06\":]"
   ]
  },
  {
   "cell_type": "code",
   "execution_count": 46,
   "metadata": {
    "executionInfo": {
     "elapsed": 610,
     "status": "ok",
     "timestamp": 1728697720743,
     "user": {
      "displayName": "WOOSEOK JEONG",
      "userId": "01703662546986869335"
     },
     "user_tz": -540
    },
    "id": "I3XiUVI39i5P"
   },
   "outputs": [],
   "source": [
    "import numpy as np\n",
    "\n",
    "tf.random.set_seed(42)  # 추가 코드 - 재현성 보장\n",
    "\n",
    "train_mulvar_ds = tf.keras.utils.timeseries_dataset_from_array(\n",
    "    mulvar_train.to_numpy(np.float32),  # 4개의 열을 모두 입력으로 사용\n",
    "    targets=mulvar_train[\"rail\"][seq_length:],  # 열차 시계열만 예측\n",
    "    sequence_length=seq_length,\n",
    "    batch_size=32,\n",
    "    shuffle=True,\n",
    "    seed=42\n",
    ")\n",
    "valid_mulvar_ds = tf.keras.utils.timeseries_dataset_from_array(\n",
    "    mulvar_valid.to_numpy(np.float32),\n",
    "    targets=mulvar_valid[\"rail\"][seq_length:],\n",
    "    sequence_length=seq_length,\n",
    "    batch_size=32\n",
    ")"
   ]
  },
  {
   "cell_type": "code",
   "execution_count": 47,
   "metadata": {
    "colab": {
     "base_uri": "https://localhost:8080/"
    },
    "executionInfo": {
     "elapsed": 534,
     "status": "ok",
     "timestamp": 1728697723648,
     "user": {
      "displayName": "WOOSEOK JEONG",
      "userId": "01703662546986869335"
     },
     "user_tz": -540
    },
    "id": "LaY12mmL9i5P",
    "outputId": "6e60251c-d611-44f4-b383-d8832401eb8b"
   },
   "outputs": [],
   "source": [
    "tf.random.set_seed(42)  # 추가 코드 - 재현성 보장\n",
    "mulvar_model = tf.keras.Sequential([\n",
    "    tf.keras.layers.SimpleRNN(32, input_shape=[None, 4]),\n",
    "    tf.keras.layers.Dense(1)\n",
    "])"
   ]
  },
  {
   "cell_type": "code",
   "execution_count": null,
   "metadata": {
    "colab": {
     "base_uri": "https://localhost:8080/"
    },
    "executionInfo": {
     "elapsed": 103291,
     "status": "ok",
     "timestamp": 1728697830186,
     "user": {
      "displayName": "WOOSEOK JEONG",
      "userId": "01703662546986869335"
     },
     "user_tz": -540
    },
    "id": "m4F_cHju9i5P",
    "outputId": "af93dff3-5535-4b46-a139-b10a8f2c139b"
   },
   "outputs": [
    {
     "name": "stdout",
     "output_type": "stream",
     "text": [
      "Epoch 1/500\n",
      "\u001b[1m33/33\u001b[0m \u001b[32m━━━━━━━━━━━━━━━━━━━━\u001b[0m\u001b[37m\u001b[0m \u001b[1m1s\u001b[0m 10ms/step - loss: 0.0867 - mae: 0.3086 - val_loss: 0.0110 - val_mae: 0.1423\n",
      "Epoch 2/500\n",
      "\u001b[1m33/33\u001b[0m \u001b[32m━━━━━━━━━━━━━━━━━━━━\u001b[0m\u001b[37m\u001b[0m \u001b[1m0s\u001b[0m 6ms/step - loss: 0.0047 - mae: 0.0744 - val_loss: 0.0013 - val_mae: 0.0402\n",
      "Epoch 3/500\n",
      "\u001b[1m33/33\u001b[0m \u001b[32m━━━━━━━━━━━━━━━━━━━━\u001b[0m\u001b[37m\u001b[0m \u001b[1m0s\u001b[0m 6ms/step - loss: 0.0016 - mae: 0.0399 - val_loss: 0.0012 - val_mae: 0.0388\n",
      "Epoch 4/500\n",
      "\u001b[1m33/33\u001b[0m \u001b[32m━━━━━━━━━━━━━━━━━━━━\u001b[0m\u001b[37m\u001b[0m \u001b[1m0s\u001b[0m 6ms/step - loss: 0.0015 - mae: 0.0388 - val_loss: 0.0012 - val_mae: 0.0379\n",
      "Epoch 5/500\n",
      "\u001b[1m33/33\u001b[0m \u001b[32m━━━━━━━━━━━━━━━━━━━━\u001b[0m\u001b[37m\u001b[0m \u001b[1m0s\u001b[0m 6ms/step - loss: 0.0015 - mae: 0.0378 - val_loss: 9.2185e-04 - val_mae: 0.0322\n",
      "Epoch 6/500\n",
      "\u001b[1m33/33\u001b[0m \u001b[32m━━━━━━━━━━━━━━━━━━━━\u001b[0m\u001b[37m\u001b[0m \u001b[1m0s\u001b[0m 6ms/step - loss: 0.0012 - mae: 0.0344 - val_loss: 0.0018 - val_mae: 0.0514\n",
      "Epoch 7/500\n",
      "\u001b[1m33/33\u001b[0m \u001b[32m━━━━━━━━━━━━━━━━━━━━\u001b[0m\u001b[37m\u001b[0m \u001b[1m0s\u001b[0m 6ms/step - loss: 0.0013 - mae: 0.0364 - val_loss: 8.0468e-04 - val_mae: 0.0285\n",
      "Epoch 8/500\n",
      "\u001b[1m33/33\u001b[0m \u001b[32m━━━━━━━━━━━━━━━━━━━━\u001b[0m\u001b[37m\u001b[0m \u001b[1m0s\u001b[0m 6ms/step - loss: 0.0013 - mae: 0.0350 - val_loss: 8.7320e-04 - val_mae: 0.0294\n",
      "Epoch 9/500\n",
      "\u001b[1m33/33\u001b[0m \u001b[32m━━━━━━━━━━━━━━━━━━━━\u001b[0m\u001b[37m\u001b[0m \u001b[1m0s\u001b[0m 6ms/step - loss: 0.0013 - mae: 0.0355 - val_loss: 7.3402e-04 - val_mae: 0.0273\n",
      "Epoch 10/500\n",
      "\u001b[1m33/33\u001b[0m \u001b[32m━━━━━━━━━━━━━━━━━━━━\u001b[0m\u001b[37m\u001b[0m \u001b[1m0s\u001b[0m 6ms/step - loss: 0.0011 - mae: 0.0330 - val_loss: 8.6663e-04 - val_mae: 0.0306\n",
      "Epoch 11/500\n",
      "\u001b[1m33/33\u001b[0m \u001b[32m━━━━━━━━━━━━━━━━━━━━\u001b[0m\u001b[37m\u001b[0m \u001b[1m0s\u001b[0m 6ms/step - loss: 0.0013 - mae: 0.0363 - val_loss: 7.0726e-04 - val_mae: 0.0263\n",
      "Epoch 12/500\n",
      "\u001b[1m33/33\u001b[0m \u001b[32m━━━━━━━━━━━━━━━━━━━━\u001b[0m\u001b[37m\u001b[0m \u001b[1m0s\u001b[0m 6ms/step - loss: 0.0011 - mae: 0.0326 - val_loss: 0.0011 - val_mae: 0.0389\n",
      "Epoch 13/500\n",
      "\u001b[1m33/33\u001b[0m \u001b[32m━━━━━━━━━━━━━━━━━━━━\u001b[0m\u001b[37m\u001b[0m \u001b[1m0s\u001b[0m 6ms/step - loss: 0.0011 - mae: 0.0334 - val_loss: 7.4317e-04 - val_mae: 0.0276\n",
      "Epoch 14/500\n",
      "\u001b[1m33/33\u001b[0m \u001b[32m━━━━━━━━━━━━━━━━━━━━\u001b[0m\u001b[37m\u001b[0m \u001b[1m0s\u001b[0m 6ms/step - loss: 0.0013 - mae: 0.0357 - val_loss: 6.4062e-04 - val_mae: 0.0262\n",
      "Epoch 15/500\n",
      "\u001b[1m33/33\u001b[0m \u001b[32m━━━━━━━━━━━━━━━━━━━━\u001b[0m\u001b[37m\u001b[0m \u001b[1m0s\u001b[0m 6ms/step - loss: 0.0014 - mae: 0.0396 - val_loss: 7.4879e-04 - val_mae: 0.0288\n",
      "Epoch 16/500\n",
      "\u001b[1m33/33\u001b[0m \u001b[32m━━━━━━━━━━━━━━━━━━━━\u001b[0m\u001b[37m\u001b[0m \u001b[1m0s\u001b[0m 6ms/step - loss: 0.0014 - mae: 0.0396 - val_loss: 6.9963e-04 - val_mae: 0.0266\n",
      "Epoch 17/500\n",
      "\u001b[1m33/33\u001b[0m \u001b[32m━━━━━━━━━━━━━━━━━━━━\u001b[0m\u001b[37m\u001b[0m \u001b[1m0s\u001b[0m 6ms/step - loss: 0.0012 - mae: 0.0369 - val_loss: 8.0145e-04 - val_mae: 0.0272\n",
      "Epoch 18/500\n",
      "\u001b[1m33/33\u001b[0m \u001b[32m━━━━━━━━━━━━━━━━━━━━\u001b[0m\u001b[37m\u001b[0m \u001b[1m0s\u001b[0m 6ms/step - loss: 0.0012 - mae: 0.0356 - val_loss: 6.7027e-04 - val_mae: 0.0262\n",
      "Epoch 19/500\n",
      "\u001b[1m33/33\u001b[0m \u001b[32m━━━━━━━━━━━━━━━━━━━━\u001b[0m\u001b[37m\u001b[0m \u001b[1m0s\u001b[0m 6ms/step - loss: 0.0011 - mae: 0.0325 - val_loss: 0.0013 - val_mae: 0.0428\n",
      "Epoch 20/500\n",
      "\u001b[1m33/33\u001b[0m \u001b[32m━━━━━━━━━━━━━━━━━━━━\u001b[0m\u001b[37m\u001b[0m \u001b[1m0s\u001b[0m 6ms/step - loss: 0.0012 - mae: 0.0337 - val_loss: 7.3231e-04 - val_mae: 0.0274\n",
      "Epoch 21/500\n",
      "\u001b[1m33/33\u001b[0m \u001b[32m━━━━━━━━━━━━━━━━━━━━\u001b[0m\u001b[37m\u001b[0m \u001b[1m0s\u001b[0m 6ms/step - loss: 0.0011 - mae: 0.0320 - val_loss: 0.0010 - val_mae: 0.0360\n",
      "Epoch 22/500\n",
      "\u001b[1m33/33\u001b[0m \u001b[32m━━━━━━━━━━━━━━━━━━━━\u001b[0m\u001b[37m\u001b[0m \u001b[1m0s\u001b[0m 6ms/step - loss: 0.0011 - mae: 0.0343 - val_loss: 7.3928e-04 - val_mae: 0.0281\n",
      "Epoch 23/500\n",
      "\u001b[1m33/33\u001b[0m \u001b[32m━━━━━━━━━━━━━━━━━━━━\u001b[0m\u001b[37m\u001b[0m \u001b[1m0s\u001b[0m 6ms/step - loss: 9.8835e-04 - mae: 0.0313 - val_loss: 7.4567e-04 - val_mae: 0.0286\n",
      "Epoch 24/500\n",
      "\u001b[1m33/33\u001b[0m \u001b[32m━━━━━━━━━━━━━━━━━━━━\u001b[0m\u001b[37m\u001b[0m \u001b[1m0s\u001b[0m 6ms/step - loss: 9.7180e-04 - mae: 0.0301 - val_loss: 7.0265e-04 - val_mae: 0.0270\n",
      "Epoch 25/500\n",
      "\u001b[1m33/33\u001b[0m \u001b[32m━━━━━━━━━━━━━━━━━━━━\u001b[0m\u001b[37m\u001b[0m \u001b[1m0s\u001b[0m 6ms/step - loss: 0.0010 - mae: 0.0315 - val_loss: 8.0221e-04 - val_mae: 0.0276\n",
      "Epoch 26/500\n",
      "\u001b[1m33/33\u001b[0m \u001b[32m━━━━━━━━━━━━━━━━━━━━\u001b[0m\u001b[37m\u001b[0m \u001b[1m0s\u001b[0m 7ms/step - loss: 0.0011 - mae: 0.0322 - val_loss: 6.7943e-04 - val_mae: 0.0264\n",
      "Epoch 27/500\n",
      "\u001b[1m33/33\u001b[0m \u001b[32m━━━━━━━━━━━━━━━━━━━━\u001b[0m\u001b[37m\u001b[0m \u001b[1m0s\u001b[0m 7ms/step - loss: 0.0010 - mae: 0.0317 - val_loss: 7.3314e-04 - val_mae: 0.0259\n",
      "Epoch 28/500\n",
      "\u001b[1m33/33\u001b[0m \u001b[32m━━━━━━━━━━━━━━━━━━━━\u001b[0m\u001b[37m\u001b[0m \u001b[1m0s\u001b[0m 6ms/step - loss: 9.5598e-04 - mae: 0.0301 - val_loss: 0.0011 - val_mae: 0.0388\n",
      "Epoch 29/500\n",
      "\u001b[1m33/33\u001b[0m \u001b[32m━━━━━━━━━━━━━━━━━━━━\u001b[0m\u001b[37m\u001b[0m \u001b[1m0s\u001b[0m 6ms/step - loss: 0.0012 - mae: 0.0339 - val_loss: 7.3414e-04 - val_mae: 0.0261\n",
      "Epoch 30/500\n",
      "\u001b[1m33/33\u001b[0m \u001b[32m━━━━━━━━━━━━━━━━━━━━\u001b[0m\u001b[37m\u001b[0m \u001b[1m0s\u001b[0m 8ms/step - loss: 0.0011 - mae: 0.0313 - val_loss: 6.7794e-04 - val_mae: 0.0265\n",
      "Epoch 31/500\n",
      "\u001b[1m10/33\u001b[0m \u001b[32m━━━━━━\u001b[0m\u001b[37m━━━━━━━━━━━━━━\u001b[0m \u001b[1m0s\u001b[0m 6ms/step - loss: 0.0015 - mae: 0.0373 "
     ]
    }
   ],
   "source": [
    "# 추가 코드 - 이전과 같이 모델을 컴파일, 훈련 및 평가합니다.\n",
    "fit_and_evaluate(mulvar_model, train_mulvar_ds, valid_mulvar_ds,\n",
    "                 learning_rate=0.05)"
   ]
  },
  {
   "cell_type": "markdown",
   "metadata": {
    "id": "MX_O6mzSw7tm"
   },
   "source": [
    "> 심층RNN보다도 훨씬 개선된 것을 볼수 있음. 이번에는 버스와 열차를 모두 예측하는 RNN모델을 구현해보자. 이번에는 타깃이 2개가 구성이 된다. 주의할 것은 출력층이 1이 아니라 2가 되어야 된다는 것"
   ]
  },
  {
   "cell_type": "code",
   "execution_count": null,
   "metadata": {
    "executionInfo": {
     "elapsed": 25,
     "status": "aborted",
     "timestamp": 1728695470439,
     "user": {
      "displayName": "WOOSEOK JEONG",
      "userId": "01703662546986869335"
     },
     "user_tz": -540
    },
    "id": "P-2hs7y99i5Q"
   },
   "outputs": [],
   "source": [
    "# 추가 코드 - 버스와 열차를 모두 예측하는 멀티태스크 RNN 구축 및 훈련\n",
    "\n",
    "tf.random.set_seed(42)\n",
    "\n",
    "seq_length = 56\n",
    "train_multask_ds = tf.keras.utils.timeseries_dataset_from_array(\n",
    "    mulvar_train.to_numpy(np.float32),\n",
    "    targets=mulvar_train[[\"bus\", \"rail\"]][seq_length:],  # 타깃 2개\n",
    "    sequence_length=seq_length,\n",
    "    batch_size=32,\n",
    "    shuffle=True,\n",
    "    seed=42\n",
    ")\n",
    "valid_multask_ds = tf.keras.utils.timeseries_dataset_from_array(\n",
    "    mulvar_valid.to_numpy(np.float32),\n",
    "    targets=mulvar_valid[[\"bus\", \"rail\"]][seq_length:],\n",
    "    sequence_length=seq_length,\n",
    "    batch_size=32\n",
    ")\n",
    "\n",
    "tf.random.set_seed(42)\n",
    "multask_model = tf.keras.Sequential([\n",
    "    tf.keras.layers.SimpleRNN(32, input_shape=[None, 5]),\n",
    "    tf.keras.layers.Dense(2)\n",
    "])\n",
    "\n",
    "fit_and_evaluate(multask_model, train_multask_ds, valid_multask_ds,\n",
    "                 learning_rate=0.02)"
   ]
  },
  {
   "cell_type": "code",
   "execution_count": null,
   "metadata": {
    "executionInfo": {
     "elapsed": 24,
     "status": "aborted",
     "timestamp": 1728695470439,
     "user": {
      "displayName": "WOOSEOK JEONG",
      "userId": "01703662546986869335"
     },
     "user_tz": -540
    },
    "id": "XHno6SRT9i5Q"
   },
   "outputs": [],
   "source": [
    "# 추가 코드 - 버스에 대한 순진한 예측을 평가합니다.\n",
    "bus_naive = mulvar_valid[\"bus\"].shift(7)[seq_length:]\n",
    "bus_target = mulvar_valid[\"bus\"][seq_length:]\n",
    "(bus_target - bus_naive).abs().mean() * 1e6"
   ]
  },
  {
   "cell_type": "code",
   "execution_count": null,
   "metadata": {
    "executionInfo": {
     "elapsed": 24,
     "status": "aborted",
     "timestamp": 1728695470439,
     "user": {
      "displayName": "WOOSEOK JEONG",
      "userId": "01703662546986869335"
     },
     "user_tz": -540
    },
    "id": "EHLgRQfE9i5Q"
   },
   "outputs": [],
   "source": [
    "# 추가 코드 - 버스와 열차 모두에 대한 멀티태스크 RNN의 예측을 평가합니다.\n",
    "Y_preds_valid = multask_model.predict(valid_multask_ds)\n",
    "for idx, name in enumerate([\"bus\", \"rail\"]):\n",
    "    # mae = 1e6 * tf.keras.metrics.mean_absolute_error(\n",
    "    #     mulvar_valid[name][seq_length:], Y_preds_valid[:, idx])\n",
    "    mae = (mulvar_valid[name][seq_length:] - Y_preds_valid[:, idx]).abs().mean() * 1e6\n",
    "\n",
    "    print(name, int(mae))"
   ]
  },
  {
   "cell_type": "markdown",
   "metadata": {
    "id": "vqknH78k9i5Q"
   },
   "source": [
    "## 여러 스텝 앞을 예측하기\n",
    "- 지금까지 하나의 타임스텝의 값만 예측했지만, 다수의 값도 예측 가능."
   ]
  },
  {
   "cell_type": "code",
   "execution_count": null,
   "metadata": {
    "executionInfo": {
     "elapsed": 24,
     "status": "aborted",
     "timestamp": 1728695470439,
     "user": {
      "displayName": "WOOSEOK JEONG",
      "userId": "01703662546986869335"
     },
     "user_tz": -540
    },
    "id": "KjU7ODjq9i5Q",
    "tags": []
   },
   "outputs": [],
   "source": [
    "import numpy as np\n",
    "\n",
    "X = rail_valid.to_numpy()[np.newaxis, :seq_length, np.newaxis]\n",
    "for step_ahead in range(14):\n",
    "    y_pred_one = univar_model.predict(X)\n",
    "    X = np.concatenate([X, y_pred_one.reshape(1, 1, 1)], axis=1)"
   ]
  },
  {
   "cell_type": "code",
   "execution_count": null,
   "metadata": {
    "executionInfo": {
     "elapsed": 24,
     "status": "aborted",
     "timestamp": 1728695470439,
     "user": {
      "displayName": "WOOSEOK JEONG",
      "userId": "01703662546986869335"
     },
     "user_tz": -540
    },
    "id": "mC02tAVx9i5R"
   },
   "outputs": [],
   "source": [
    "# 추가 코드 - 그림 15-11 생성 및 저장\n",
    "\n",
    "# 예측은 2019년 57일째인 2019-02-26에 시작하여 2019-03-11에 종료됩니다. 총 14일입니다.\n",
    "Y_pred = pd.Series(X[0, -14:, 0],\n",
    "                   index=pd.date_range(\"2019-02-26\", \"2019-03-11\"))\n",
    "\n",
    "fig, ax = plt.subplots(figsize=(8, 3.5))\n",
    "(rail_valid * 1e6)[\"2019-02-01\":\"2019-03-11\"].plot(\n",
    "    label=\"진짜\", marker=\".\", ax=ax)\n",
    "(Y_pred * 1e6).plot(\n",
    "    label=\"예측\", grid=True, marker=\"x\", color=\"r\", ax=ax)\n",
    "ax.vlines(\"2019-02-25\", 0, 1e6, color=\"k\", linestyle=\"--\", label=\"오늘\")\n",
    "ax.set_ylim([200_000, 800_000])\n",
    "ax.set_xlabel(\"날짜\")\n",
    "plt.legend(loc=\"center left\")\n",
    "save_fig(\"forecast_ahead_plot\")\n",
    "plt.show()"
   ]
  },
  {
   "cell_type": "markdown",
   "metadata": {
    "id": "xpHWSzic9i5R"
   },
   "source": [
    "이제 14개의 다음 값을 한 번에 모두 예측하는 RNN을 만들어 보겠습니다:"
   ]
  },
  {
   "cell_type": "code",
   "execution_count": null,
   "metadata": {
    "executionInfo": {
     "elapsed": 24,
     "status": "aborted",
     "timestamp": 1728695470439,
     "user": {
      "displayName": "WOOSEOK JEONG",
      "userId": "01703662546986869335"
     },
     "user_tz": -540
    },
    "id": "sFyNwxz89i5R"
   },
   "outputs": [],
   "source": [
    "tf.random.set_seed(42)  # 추가 코드 - 재현성 보장\n",
    "\n",
    "def split_inputs_and_targets(mulvar_series, ahead=14, target_col=1):\n",
    "    return mulvar_series[:, :-ahead], mulvar_series[:, -ahead:, target_col]\n",
    "\n",
    "ahead_train_ds = tf.keras.utils.timeseries_dataset_from_array(\n",
    "    mulvar_train.to_numpy(np.float32),\n",
    "    targets=None,\n",
    "    sequence_length=seq_length + 14,\n",
    "    batch_size=32,\n",
    "    shuffle=True,\n",
    "    seed=42\n",
    ").map(split_inputs_and_targets)\n",
    "ahead_valid_ds = tf.keras.utils.timeseries_dataset_from_array(\n",
    "    mulvar_valid.to_numpy(np.float32),\n",
    "    targets=None,\n",
    "    sequence_length=seq_length + 14,\n",
    "    batch_size=32\n",
    ").map(split_inputs_and_targets)"
   ]
  },
  {
   "cell_type": "code",
   "execution_count": null,
   "metadata": {
    "executionInfo": {
     "elapsed": 24,
     "status": "aborted",
     "timestamp": 1728695470439,
     "user": {
      "displayName": "WOOSEOK JEONG",
      "userId": "01703662546986869335"
     },
     "user_tz": -540
    },
    "id": "f3-ifzkF9i5R"
   },
   "outputs": [],
   "source": [
    "tf.random.set_seed(42)\n",
    "\n",
    "ahead_model = tf.keras.Sequential([\n",
    "    tf.keras.layers.SimpleRNN(32, input_shape=[None, 5]),\n",
    "    tf.keras.layers.Dense(14) # 14일을 예측하므로 14개의 출력층 생성\n",
    "])"
   ]
  },
  {
   "cell_type": "code",
   "execution_count": null,
   "metadata": {
    "executionInfo": {
     "elapsed": 24,
     "status": "aborted",
     "timestamp": 1728695470439,
     "user": {
      "displayName": "WOOSEOK JEONG",
      "userId": "01703662546986869335"
     },
     "user_tz": -540
    },
    "id": "XgSudVKo9i5S"
   },
   "outputs": [],
   "source": [
    "# 추가 코드 - 이전과 같이 모델을 컴파일, 훈련 및 평가합니다.\n",
    "fit_and_evaluate(ahead_model, ahead_train_ds, ahead_valid_ds,\n",
    "                 learning_rate=0.02)"
   ]
  },
  {
   "cell_type": "code",
   "execution_count": null,
   "metadata": {
    "executionInfo": {
     "elapsed": 23,
     "status": "aborted",
     "timestamp": 1728695470439,
     "user": {
      "displayName": "WOOSEOK JEONG",
      "userId": "01703662546986869335"
     },
     "user_tz": -540
    },
    "id": "tO8rDQTF9i5S"
   },
   "outputs": [],
   "source": [
    "X = mulvar_valid.to_numpy(np.float32)[np.newaxis, :seq_length]  # 크기 [1, 56, 5]\n",
    "Y_pred = ahead_model.predict(X)  # 크기 [1, 14]"
   ]
  },
  {
   "cell_type": "markdown",
   "metadata": {
    "id": "2JQ5QiEW9i5S"
   },
   "source": [
    "이제 각 타임 스텝에서 다음 14스텝을 예측하는 RNN을 만들어 보겠습니다. 즉, 타임 스텝 0\\~55를 기준으로 타임 스텝 56\\~69를 예측하는 대신 타임 스텝 0에서 타임 스텝 1\\~14를 예측하고, 타임 스텝 1에서 타임 스텝 2\\~15를 예측하는 식으로 예측하고, 마지막 타임 스텝에서 타임 스텝 56\\~69를 예측합니다. 이 모델은 코잘(causal) 모델이므로 어떤 타임 스텝에서든 예측을 할 때는 과거의 타임 스텝만 볼 수 있습니다."
   ]
  },
  {
   "cell_type": "markdown",
   "metadata": {
    "id": "1yynMbfu9i5S"
   },
   "source": [
    "데이터셋을 준비하기 위해 `to_windows()`를 두 번 사용하여 다음과 같이 연속된 윈도의 시퀀스를 가져올 수 있습니다:"
   ]
  },
  {
   "cell_type": "code",
   "execution_count": null,
   "metadata": {
    "executionInfo": {
     "elapsed": 23,
     "status": "aborted",
     "timestamp": 1728695470439,
     "user": {
      "displayName": "WOOSEOK JEONG",
      "userId": "01703662546986869335"
     },
     "user_tz": -540
    },
    "id": "N8QKPGAq9i5S"
   },
   "outputs": [],
   "source": [
    "my_series = tf.data.Dataset.range(7)\n",
    "dataset = to_windows(to_windows(my_series, 3), 4)\n",
    "list(dataset)"
   ]
  },
  {
   "cell_type": "markdown",
   "metadata": {
    "id": "yJ9R3MEt9i5T"
   },
   "source": [
    "그런 다음 원소를 원하는 입력과 타깃으로 분할할 수 있습니다:"
   ]
  },
  {
   "cell_type": "code",
   "execution_count": null,
   "metadata": {
    "executionInfo": {
     "elapsed": 23,
     "status": "aborted",
     "timestamp": 1728695470439,
     "user": {
      "displayName": "WOOSEOK JEONG",
      "userId": "01703662546986869335"
     },
     "user_tz": -540
    },
    "id": "e58kNsTU9i5T"
   },
   "outputs": [],
   "source": [
    "dataset = dataset.map(lambda S: (S[:, 0], S[:, 1:]))\n",
    "list(dataset)"
   ]
  },
  {
   "cell_type": "markdown",
   "metadata": {
    "id": "O64sr4xl9i5T"
   },
   "source": [
    "이 아이디어를 유틸리티 함수로 만들어 봅시다. 이 함수는 셔플(선택 사항)과 배치 처리도 담당합니다:"
   ]
  },
  {
   "cell_type": "code",
   "execution_count": null,
   "metadata": {
    "executionInfo": {
     "elapsed": 23,
     "status": "aborted",
     "timestamp": 1728695470439,
     "user": {
      "displayName": "WOOSEOK JEONG",
      "userId": "01703662546986869335"
     },
     "user_tz": -540
    },
    "id": "g2i9e7169i5T"
   },
   "outputs": [],
   "source": [
    "def to_seq2seq_dataset(series, seq_length=56, ahead=14, target_col=1,\n",
    "                       batch_size=32, shuffle=False, seed=None):\n",
    "    ds = to_windows(tf.data.Dataset.from_tensor_slices(\n",
    "        series.to_numpy(np.float32)), ahead + 1)\n",
    "    ds = to_windows(ds, seq_length).map(lambda S: (S[:, 0], S[:, 1:, 1]))\n",
    "    if shuffle:\n",
    "        ds = ds.shuffle(8 * batch_size, seed=seed)\n",
    "    return ds.batch(batch_size)"
   ]
  },
  {
   "cell_type": "code",
   "execution_count": null,
   "metadata": {
    "executionInfo": {
     "elapsed": 23,
     "status": "aborted",
     "timestamp": 1728695470439,
     "user": {
      "displayName": "WOOSEOK JEONG",
      "userId": "01703662546986869335"
     },
     "user_tz": -540
    },
    "id": "t7UZYySX9i5T"
   },
   "outputs": [],
   "source": [
    "seq2seq_train = to_seq2seq_dataset(mulvar_train, shuffle=True, seed=42)\n",
    "seq2seq_valid = to_seq2seq_dataset(mulvar_valid)"
   ]
  },
  {
   "cell_type": "markdown",
   "metadata": {
    "id": "godxA-L46QAL"
   },
   "source": [
    "이전과 거의 동일하나 return_sqquences=True를 설정하여, 벡터의 시퀀스를 출력함. 매 타임스텝에 적용됨. 사실 동일한 결과를 얻는 다른 방법은 커널크기가 1인 Conv1D층을 사용하는 것"
   ]
  },
  {
   "cell_type": "code",
   "execution_count": null,
   "metadata": {
    "executionInfo": {
     "elapsed": 23,
     "status": "aborted",
     "timestamp": 1728695470439,
     "user": {
      "displayName": "WOOSEOK JEONG",
      "userId": "01703662546986869335"
     },
     "user_tz": -540
    },
    "id": "HDgasbLn9i5U"
   },
   "outputs": [],
   "source": [
    "tf.random.set_seed(42)  # 추가 코드 - 재현성 보장\n",
    "seq2seq_model = tf.keras.Sequential([\n",
    "    tf.keras.layers.SimpleRNN(32, return_sequences=True, input_shape=[None, 5]),\n",
    "    tf.keras.layers.Dense(14)\n",
    "    # tf.keras.layers.TimeDistributed(tf.keras.layers.Dense(14))나\n",
    "    # tf.keras.layers.Conv1D(14, kernel_size=1) 와 동일합니다\n",
    "])"
   ]
  },
  {
   "cell_type": "code",
   "execution_count": null,
   "metadata": {
    "executionInfo": {
     "elapsed": 22,
     "status": "aborted",
     "timestamp": 1728695470439,
     "user": {
      "displayName": "WOOSEOK JEONG",
      "userId": "01703662546986869335"
     },
     "user_tz": -540
    },
    "id": "84URicBY9i5U"
   },
   "outputs": [],
   "source": [
    "fit_and_evaluate(seq2seq_model, seq2seq_train, seq2seq_valid,\n",
    "                 learning_rate=0.1)"
   ]
  },
  {
   "cell_type": "code",
   "execution_count": null,
   "metadata": {
    "executionInfo": {
     "elapsed": 23,
     "status": "aborted",
     "timestamp": 1728695470440,
     "user": {
      "displayName": "WOOSEOK JEONG",
      "userId": "01703662546986869335"
     },
     "user_tz": -540
    },
    "id": "ExtQNKrU9i5U"
   },
   "outputs": [],
   "source": [
    "X = mulvar_valid.to_numpy(np.float32)[np.newaxis, :seq_length]\n",
    "y_pred_14 = seq2seq_model.predict(X)[0, -1]  # 마지막 타임 스텝의 출력만"
   ]
  },
  {
   "cell_type": "code",
   "execution_count": null,
   "metadata": {
    "executionInfo": {
     "elapsed": 23,
     "status": "aborted",
     "timestamp": 1728695470440,
     "user": {
      "displayName": "WOOSEOK JEONG",
      "userId": "01703662546986869335"
     },
     "user_tz": -540
    },
    "id": "NhIojJ2I9i5U"
   },
   "outputs": [],
   "source": [
    "Y_pred_valid = seq2seq_model.predict(seq2seq_valid)\n",
    "for ahead in range(14):\n",
    "    preds = pd.Series(Y_pred_valid[:-1, -1, ahead],\n",
    "                      index=mulvar_valid.index[56 + ahead : -14 + ahead])\n",
    "    mae = (preds - mulvar_valid[\"rail\"]).abs().mean() * 1e6\n",
    "    print(f\"MAE for +{ahead + 1}: {mae:,.0f}\")"
   ]
  },
  {
   "cell_type": "markdown",
   "metadata": {
    "id": "Y76PaVYt68hu"
   },
   "source": [
    "단순한 RNN은 시계열을 예측하거나 다른 종류의 시퀀스를 처리하는데 매우 뛰어남. 하지만 긴 시계열이나 시퀀스에서는 성능이 좋지 않음"
   ]
  },
  {
   "cell_type": "markdown",
   "metadata": {
    "id": "201p6fy59i5U"
   },
   "source": [
    "# 층 정규화를 사용한 심층 RNN"
   ]
  },
  {
   "cell_type": "code",
   "execution_count": null,
   "metadata": {
    "executionInfo": {
     "elapsed": 23,
     "status": "aborted",
     "timestamp": 1728695470440,
     "user": {
      "displayName": "WOOSEOK JEONG",
      "userId": "01703662546986869335"
     },
     "user_tz": -540
    },
    "id": "Epx-G5Fs9i5V"
   },
   "outputs": [],
   "source": [
    "class LNSimpleRNNCell(tf.keras.layers.Layer):\n",
    "    def __init__(self, units, activation=\"tanh\", **kwargs):\n",
    "        super().__init__(**kwargs)\n",
    "        self.state_size = units\n",
    "        self.output_size = units\n",
    "        self.simple_rnn_cell = tf.keras.layers.SimpleRNNCell(units,\n",
    "                                                             activation=None)\n",
    "        self.layer_norm = tf.keras.layers.LayerNormalization() # 층 정규화를 넣어줌\n",
    "        self.activation = tf.keras.activations.get(activation)\n",
    "\n",
    "    def call(self, inputs, states):\n",
    "        outputs, new_states = self.simple_rnn_cell(inputs, states)\n",
    "        norm_outputs = self.activation(self.layer_norm(outputs))\n",
    "        return norm_outputs, [norm_outputs]"
   ]
  },
  {
   "cell_type": "code",
   "execution_count": null,
   "metadata": {
    "executionInfo": {
     "elapsed": 23,
     "status": "aborted",
     "timestamp": 1728695470440,
     "user": {
      "displayName": "WOOSEOK JEONG",
      "userId": "01703662546986869335"
     },
     "user_tz": -540
    },
    "id": "56bYpEfz9i5V"
   },
   "outputs": [],
   "source": [
    "tf.random.set_seed(42)  # 추가 코드 - 재현성 보장\n",
    "custom_ln_model = tf.keras.Sequential([\n",
    "    tf.keras.layers.RNN(LNSimpleRNNCell(32), return_sequences=True,\n",
    "                        input_shape=[None, 5]),\n",
    "    tf.keras.layers.Dense(14)\n",
    "])"
   ]
  },
  {
   "cell_type": "markdown",
   "metadata": {
    "id": "xbJu88qL9i5V"
   },
   "source": [
    "5에포크 동안만 훈련하면 효과가 있다는 것을 알 수 있습니다(원하는 경우 더 늘릴 수 있습니다):"
   ]
  },
  {
   "cell_type": "code",
   "execution_count": null,
   "metadata": {
    "executionInfo": {
     "elapsed": 23,
     "status": "aborted",
     "timestamp": 1728695470440,
     "user": {
      "displayName": "WOOSEOK JEONG",
      "userId": "01703662546986869335"
     },
     "user_tz": -540
    },
    "id": "L98VdSmn9i5V"
   },
   "outputs": [],
   "source": [
    "fit_and_evaluate(custom_ln_model, seq2seq_train, seq2seq_valid,\n",
    "                 learning_rate=0.1, epochs=5)"
   ]
  },
  {
   "cell_type": "markdown",
   "metadata": {
    "id": "0P9Bfym99i5W"
   },
   "source": [
    "# 추가 자료 - 사용자 정의 RNN 클래스 만들기"
   ]
  },
  {
   "cell_type": "markdown",
   "metadata": {
    "id": "dtzcsbrF9i5W"
   },
   "source": [
    "RNN 클래스는 마법이 아닙니다. 사실, 자신만의 RNN 클래스를 구현하는 것은 그리 어렵지 않습니다:"
   ]
  },
  {
   "cell_type": "code",
   "execution_count": null,
   "metadata": {
    "executionInfo": {
     "elapsed": 22,
     "status": "aborted",
     "timestamp": 1728695470440,
     "user": {
      "displayName": "WOOSEOK JEONG",
      "userId": "01703662546986869335"
     },
     "user_tz": -540
    },
    "id": "ZgZ20BwA9i5W"
   },
   "outputs": [],
   "source": [
    "class MyRNN(tf.keras.layers.Layer):\n",
    "    def __init__(self, cell, return_sequences=False, **kwargs):\n",
    "        super().__init__(**kwargs)\n",
    "        self.cell = cell\n",
    "        self.return_sequences = return_sequences\n",
    "\n",
    "    def get_initial_state(self, inputs):\n",
    "        try:\n",
    "            return self.cell.get_initial_state(inputs)\n",
    "        except AttributeError:\n",
    "            # self.cell에 get_initial_state() 메서드가 없는 경우 0으로 돌아갑니다.\n",
    "            batch_size = tf.shape(inputs)[0]\n",
    "            return [tf.zeros([batch_size, self.cell.state_size],\n",
    "                             dtype=inputs.dtype)]\n",
    "\n",
    "    @tf.function\n",
    "    def call(self, inputs):\n",
    "        states = self.get_initial_state(inputs)\n",
    "        shape = tf.shape(inputs)\n",
    "        batch_size = shape[0]\n",
    "        n_steps = shape[1]\n",
    "        sequences = tf.TensorArray(\n",
    "            inputs.dtype, size=(n_steps if self.return_sequences else 0))\n",
    "        outputs = tf.zeros(shape=[batch_size, self.cell.output_size],\n",
    "                           dtype=inputs.dtype)\n",
    "        for step in tf.range(n_steps):\n",
    "            outputs, states = self.cell(inputs[:, step], states)\n",
    "            if self.return_sequences:\n",
    "                sequences = sequences.write(step, outputs)\n",
    "\n",
    "        if self.return_sequences:\n",
    "            # 출력을 [time steps, batch size, dims] 크기의 배열로 쌓습니다.\n",
    "            # 그다음 전치하여 [batch size, time steps, dims] 크기로 만듭니다.\n",
    "            return tf.transpose(sequences.stack(), [1, 0, 2])\n",
    "        else:\n",
    "            return outputs"
   ]
  },
  {
   "cell_type": "markdown",
   "metadata": {
    "id": "0n93GnG69i5Y"
   },
   "source": [
    "`@tf.function`은 `for` 루프 전에 `output` 변수를 생성해야 하므로, 해당 값을 전혀 사용하지 않더라도 그 값을 0 텐서로 초기화합니다. 함수가 그래프로 변환되면 이 사용되지 않은 값은 그래프에서 잘려나가므로 성능에 영향을 미치지 않습니다. 마찬가지로 `@tf.function`은 `self.return_sequences`가 `False`인 경우에도 `sequences` 변수가 사용되는 `if` 문 앞에 생성되어야 하므로, 이 경우에는 0 크기의 `TensorArray`를 생성합니다."
   ]
  },
  {
   "cell_type": "code",
   "execution_count": null,
   "metadata": {
    "executionInfo": {
     "elapsed": 22,
     "status": "aborted",
     "timestamp": 1728695470440,
     "user": {
      "displayName": "WOOSEOK JEONG",
      "userId": "01703662546986869335"
     },
     "user_tz": -540
    },
    "id": "PqZPWbNK9i5Z"
   },
   "outputs": [],
   "source": [
    "tf.random.set_seed(42)\n",
    "\n",
    "custom_model = tf.keras.Sequential([\n",
    "    MyRNN(LNSimpleRNNCell(32), return_sequences=True, input_shape=[None, 5]),\n",
    "    tf.keras.layers.Dense(14)\n",
    "])"
   ]
  },
  {
   "cell_type": "markdown",
   "metadata": {
    "id": "V6-M7w_Q9i5Z"
   },
   "source": [
    "5에포크 동안만 훈련하면 효과가 있다는 것을 알 수 있습니다(원하는 경우 더 늘릴 수 있습니다)"
   ]
  },
  {
   "cell_type": "code",
   "execution_count": null,
   "metadata": {
    "executionInfo": {
     "elapsed": 22,
     "status": "aborted",
     "timestamp": 1728695470440,
     "user": {
      "displayName": "WOOSEOK JEONG",
      "userId": "01703662546986869335"
     },
     "user_tz": -540
    },
    "id": "errz27w39i5Z"
   },
   "outputs": [],
   "source": [
    "fit_and_evaluate(custom_model, seq2seq_train, seq2seq_valid,\n",
    "                 learning_rate=0.1, epochs=500)"
   ]
  },
  {
   "cell_type": "markdown",
   "metadata": {
    "id": "iEWE3qH69i5Z"
   },
   "source": [
    "# LSTM\n",
    "- RNN을 거치며 데이터가 변환되므로 길어지게 되면 데이터가 소실되는 문제가 발생함. 이런 문제를 해결하기 위해 LSTM 등장\n",
    "- 장기기억을 위한 c를 받고 삭제게이트는 삭제한 내용 제어 c는 기억을 일부 잃고, 입력게이트로 다시 기억을 추가함 (탄젠트함수에 전달되어 y에 영향)\n",
    "  - 입력게이트는 기억을 추가함에 있어서 어느부분이 더해져야하는지 제어\n",
    "- (단기상태h가 추가로 만들어지고) 출력게이트는 y와 h 중 출력해야하는 것을 제어\n",
    "\n",
    "<img src=\"https://drive.google.com/uc?id=1JYnJ9O_ZBbp_pEWfrUdQxKUXNrVEl91O\" width=\"400\" height=\"200\">\n"
   ]
  },
  {
   "cell_type": "code",
   "execution_count": null,
   "metadata": {
    "executionInfo": {
     "elapsed": 22,
     "status": "aborted",
     "timestamp": 1728695470440,
     "user": {
      "displayName": "WOOSEOK JEONG",
      "userId": "01703662546986869335"
     },
     "user_tz": -540
    },
    "id": "DOZJDQpN9i5c",
    "scrolled": true
   },
   "outputs": [],
   "source": [
    "tf.random.set_seed(42)  # 추가 코드 - 재현성 보장\n",
    "lstm_model = tf.keras.models.Sequential([\n",
    "    tf.keras.layers.LSTM(32, return_sequences=True, input_shape=[None, 5]),\n",
    "    tf.keras.layers.Dense(14)\n",
    "])"
   ]
  },
  {
   "cell_type": "markdown",
   "metadata": {
    "id": "kvqGJ-719i5c"
   },
   "source": [
    "5에포크 동안만 훈련하면 효과가 있다는 것을 알 수 있습니다(원하는 경우 더 늘릴 수 있습니다):"
   ]
  },
  {
   "cell_type": "code",
   "execution_count": null,
   "metadata": {
    "executionInfo": {
     "elapsed": 22,
     "status": "aborted",
     "timestamp": 1728695470440,
     "user": {
      "displayName": "WOOSEOK JEONG",
      "userId": "01703662546986869335"
     },
     "user_tz": -540
    },
    "id": "CcsRQM8s9i5c"
   },
   "outputs": [],
   "source": [
    "fit_and_evaluate(lstm_model, seq2seq_train, seq2seq_valid,\n",
    "                 learning_rate=0.1, epochs=5)"
   ]
  },
  {
   "cell_type": "markdown",
   "metadata": {
    "id": "__8j-sp-9i5c"
   },
   "source": [
    "# GRU\n",
    "- 보다 단순하게 인코더- 디코더 네트워크로 효율화\n",
    "  - 하나의 게이트제어기 z가 삭제/입력을 모두 제어,\n",
    "  - 출력게이트는 없이, 모든 상태벡터가 매타임스텝마다 출력\n",
    "  - 이전상태의 어느부분의 주 층(g)에 노출될지 제어하는 새로운 게이트제어기 r 존재\n",
    "\n",
    "<img src=\"https://drive.google.com/uc?id=1ApngnaaE373qIg2K-S8-QotJHeo5gm1d\" width=\"400\" height=\"200\">\n"
   ]
  },
  {
   "cell_type": "code",
   "execution_count": null,
   "metadata": {
    "executionInfo": {
     "elapsed": 22,
     "status": "aborted",
     "timestamp": 1728695470440,
     "user": {
      "displayName": "WOOSEOK JEONG",
      "userId": "01703662546986869335"
     },
     "user_tz": -540
    },
    "id": "JnKZ-acx9i5d",
    "scrolled": true
   },
   "outputs": [],
   "source": [
    "tf.random.set_seed(42)  # 추가 코드 - 재현성 보장\n",
    "gru_model = tf.keras.Sequential([\n",
    "    tf.keras.layers.GRU(32, return_sequences=True, input_shape=[None, 5]),\n",
    "    tf.keras.layers.Dense(14)\n",
    "])"
   ]
  },
  {
   "cell_type": "markdown",
   "metadata": {
    "id": "zysqjKfW9i5d"
   },
   "source": [
    "5에포크 동안만 훈련하면 효과가 있다는 것을 알 수 있습니다(원하는 경우 더 늘릴 수 있습니다):"
   ]
  },
  {
   "cell_type": "code",
   "execution_count": null,
   "metadata": {
    "executionInfo": {
     "elapsed": 22,
     "status": "aborted",
     "timestamp": 1728695470440,
     "user": {
      "displayName": "WOOSEOK JEONG",
      "userId": "01703662546986869335"
     },
     "user_tz": -540
    },
    "id": "_Q3I8ib89i5d"
   },
   "outputs": [],
   "source": [
    "fit_and_evaluate(gru_model, seq2seq_train, seq2seq_valid,\n",
    "                 learning_rate=0.1, epochs=5)"
   ]
  },
  {
   "cell_type": "markdown",
   "metadata": {
    "id": "usV26kdX9i5d"
   },
   "source": [
    "## 1D 합성곱 층으로 시퀀스 다루기\n",
    "- 14장에서 2D합성곱이 이미지에서 슬라이딩 하여 특성맵 생성하는 것 보았음.\n",
    "- 합성곱 층으로 시퀀스 길이를 줄이면 GRU 층이 더 긴 패턴을 감지하는데 도움이 됨"
   ]
  },
  {
   "cell_type": "markdown",
   "metadata": {
    "id": "lR1pA0BP9i5d"
   },
   "source": [
    "```\n",
    "  |-----0-----|      |-----3----|      |--... |-------52------|\n",
    "         |-----1----|      |-----4----|   ... |       |-------53------|\n",
    "               |-----2----|     |------5--...-51------|       |-------54------|\n",
    "X:  0  1  2  3  4  5  6  7  8  9 10 11 12 ...  104 105 106 107 108 109 110 111\n",
    "Y:      from 4     6     8    10    12    ...      106     108     110     112\n",
    "         to 17    19    21    23    25    ...      119     121     123     125\n",
    "```"
   ]
  },
  {
   "cell_type": "code",
   "execution_count": null,
   "metadata": {
    "executionInfo": {
     "elapsed": 21,
     "status": "aborted",
     "timestamp": 1728695470440,
     "user": {
      "displayName": "WOOSEOK JEONG",
      "userId": "01703662546986869335"
     },
     "user_tz": -540
    },
    "id": "oNVcZ37z9i5e"
   },
   "outputs": [],
   "source": [
    "tf.random.set_seed(42)  # 추가 코드 - 재현성 보장\n",
    "conv_rnn_model = tf.keras.Sequential([\n",
    "    tf.keras.layers.Conv1D(filters=32, kernel_size=4, strides=2,\n",
    "                           activation=\"relu\", input_shape=[None, 5]),\n",
    "    tf.keras.layers.GRU(32, return_sequences=True),\n",
    "    tf.keras.layers.Dense(14)\n",
    "])\n",
    "\n",
    "longer_train = to_seq2seq_dataset(mulvar_train, seq_length=112,\n",
    "                                       shuffle=True, seed=42)\n",
    "longer_valid = to_seq2seq_dataset(mulvar_valid, seq_length=112)\n",
    "downsampled_train = longer_train.map(lambda X, Y: (X, Y[:, 3::2]))\n",
    "downsampled_valid = longer_valid.map(lambda X, Y: (X, Y[:, 3::2]))"
   ]
  },
  {
   "cell_type": "markdown",
   "metadata": {
    "id": "lMrdj-LV9i5e"
   },
   "source": [
    "5에포크 동안만 훈련하면 효과가 있다는 것을 알 수 있습니다(원하는 경우 더 늘릴 수 있습니다):"
   ]
  },
  {
   "cell_type": "code",
   "execution_count": null,
   "metadata": {
    "executionInfo": {
     "elapsed": 21,
     "status": "aborted",
     "timestamp": 1728695470440,
     "user": {
      "displayName": "WOOSEOK JEONG",
      "userId": "01703662546986869335"
     },
     "user_tz": -540
    },
    "id": "r9IMTzrn9i5e"
   },
   "outputs": [],
   "source": [
    "fit_and_evaluate(conv_rnn_model, downsampled_train, downsampled_valid,\n",
    "                 learning_rate=0.1, epochs=500)"
   ]
  },
  {
   "cell_type": "markdown",
   "metadata": {
    "id": "qaEYQYnK9i5e"
   },
   "source": [
    "## WaveNet"
   ]
  },
  {
   "cell_type": "markdown",
   "metadata": {
    "id": "njxwZk4G9i5f"
   },
   "source": [
    "```\n",
    " ⋮\n",
    "C2  /\\ /\\ /\\ /\\ /\\ /\\ /\\ /\\ /\\ /\\ /\\ /\\ /\\...\n",
    "   \\  /  \\  /  \\  /  \\  /  \\  /  \\  /  \\     \n",
    "     /    \\      /    \\      /    \\          \n",
    "C1  /\\ /\\ /\\ /\\ /\\ /\\ /\\ /\\ /\\ /\\ /\\  /\\ /...\\\n",
    "X: 0  1  2  3  4  5  6  7  8  9  10 11 12 ... 111\n",
    "Y: 1  2  3  4  5  6  7  8  9  10 11 12 13 ... 112\n",
    " /14 15 16 17 18 19 20 21 22  23 24 25 26 ... 125\n",
    "```"
   ]
  },
  {
   "cell_type": "code",
   "execution_count": null,
   "metadata": {
    "executionInfo": {
     "elapsed": 21,
     "status": "aborted",
     "timestamp": 1728695470440,
     "user": {
      "displayName": "WOOSEOK JEONG",
      "userId": "01703662546986869335"
     },
     "user_tz": -540
    },
    "id": "Z8XluLz-9i5f"
   },
   "outputs": [],
   "source": [
    "tf.random.set_seed(42)  # 추가 코드 - 재현성 보장\n",
    "wavenet_model = tf.keras.Sequential()\n",
    "wavenet_model.add(tf.keras.layers.InputLayer(input_shape=[None, 5]))\n",
    "for rate in (1, 2, 4, 8) * 2:\n",
    "    wavenet_model.add(tf.keras.layers.Conv1D(\n",
    "        filters=32, kernel_size=2, padding=\"causal\", activation=\"relu\",\n",
    "        dilation_rate=rate))\n",
    "wavenet_model.add(tf.keras.layers.Conv1D(filters=14, kernel_size=1))"
   ]
  },
  {
   "cell_type": "markdown",
   "metadata": {
    "id": "TVXr9vnR9i5f"
   },
   "source": [
    "5에포크 동안만 훈련하면 효과가 있다는 것을 알 수 있습니다(원하는 경우 더 늘릴 수 있습니다):"
   ]
  },
  {
   "cell_type": "code",
   "execution_count": null,
   "metadata": {
    "executionInfo": {
     "elapsed": 22,
     "status": "aborted",
     "timestamp": 1728695470441,
     "user": {
      "displayName": "WOOSEOK JEONG",
      "userId": "01703662546986869335"
     },
     "user_tz": -540
    },
    "id": "wwYlVMHE9i5f"
   },
   "outputs": [],
   "source": [
    "fit_and_evaluate(wavenet_model, longer_train, longer_valid,\n",
    "                 learning_rate=0.1, epochs=5)"
   ]
  },
  {
   "cell_type": "markdown",
   "metadata": {
    "id": "9ZEjGrRa9i5f"
   },
   "source": [
    "# 추가 자료 – Wavenet 구현"
   ]
  },
  {
   "cell_type": "markdown",
   "metadata": {
    "id": "conbBcCe9i5f"
   },
   "source": [
    "- 2016년 딥마인드 연구자들이 소개한 구조\n",
    "- 층마다 팽창비율을 두배로 늘리는 합성곱 층을 쌓고, 각 합성곱 층이 한번에 2개의 타임스텝만 바라보고, 다음층은 4개의 타임스텝을 보는 방식으로, 확장.\n",
    "- 팽창 비율을 두배로 늘린 덕분에 네트워크는 아주 긴 시퀀스를 효율적으로 처리할 수 있음\n",
    "<br>\n",
    "<img src=\"https://drive.google.com/uc?id=1Z1JgBSXUDnNcf33Ojo2peGFAZTZPMv1o\" >\n",
    "\n",
    "\n",
    "다음은 논문에 정의된 WaveNet 구현입니다. ReLU와 파라미터를 가진 스킵 연결 대신 게이트 활성화 유닛(Gated Activation Unit)을 사용하며, 시퀀스가 점점 짧아지는 것을 방지하기 위해 왼쪽에 0으로 패딩합니다:"
   ]
  },
  {
   "cell_type": "code",
   "execution_count": null,
   "metadata": {
    "executionInfo": {
     "elapsed": 22,
     "status": "aborted",
     "timestamp": 1728695470441,
     "user": {
      "displayName": "WOOSEOK JEONG",
      "userId": "01703662546986869335"
     },
     "user_tz": -540
    },
    "id": "nyuDXZNi9i5g"
   },
   "outputs": [],
   "source": [
    "class GatedActivationUnit(tf.keras.layers.Layer):\n",
    "    def __init__(self, activation=\"tanh\", **kwargs):\n",
    "        super().__init__(**kwargs)\n",
    "        self.activation = tf.keras.activations.get(activation)\n",
    "\n",
    "    def call(self, inputs):\n",
    "        n_filters = inputs.shape[-1] // 2\n",
    "        linear_output = self.activation(inputs[..., :n_filters])\n",
    "        gate = tf.keras.activations.sigmoid(inputs[..., n_filters:])\n",
    "        return self.activation(linear_output) * gate"
   ]
  },
  {
   "cell_type": "code",
   "execution_count": null,
   "metadata": {
    "executionInfo": {
     "elapsed": 22,
     "status": "aborted",
     "timestamp": 1728695470441,
     "user": {
      "displayName": "WOOSEOK JEONG",
      "userId": "01703662546986869335"
     },
     "user_tz": -540
    },
    "id": "CLO-fC_N9i5g"
   },
   "outputs": [],
   "source": [
    "def wavenet_residual_block(inputs, n_filters, dilation_rate):\n",
    "    z = tf.keras.layers.Conv1D(2 * n_filters, kernel_size=2, padding=\"causal\",\n",
    "                            dilation_rate=dilation_rate)(inputs)\n",
    "    z = GatedActivationUnit()(z)\n",
    "    z = tf.keras.layers.Conv1D(n_filters, kernel_size=1)(z)\n",
    "    return tf.keras.layers.Add()([z, inputs]), z"
   ]
  },
  {
   "cell_type": "code",
   "execution_count": null,
   "metadata": {
    "executionInfo": {
     "elapsed": 22,
     "status": "aborted",
     "timestamp": 1728695470441,
     "user": {
      "displayName": "WOOSEOK JEONG",
      "userId": "01703662546986869335"
     },
     "user_tz": -540
    },
    "id": "0MzwlLu19i5g"
   },
   "outputs": [],
   "source": [
    "tf.random.set_seed(42)\n",
    "\n",
    "n_layers_per_block = 3  # 논문에서는 10\n",
    "n_bloS"
   ]
  },
  {
   "cell_type": "markdown",
   "metadata": {
    "id": "scJkNRZ_9i5g"
   },
   "source": [
    "5에포크 동안만 훈련하면 효과가 있다는 것을 알 수 있습니다(원하는 경우 더 늘릴 수 있습니다):"
   ]
  },
  {
   "cell_type": "code",
   "execution_count": null,
   "metadata": {
    "executionInfo": {
     "elapsed": 22,
     "status": "aborted",
     "timestamp": 1728695470441,
     "user": {
      "displayName": "WOOSEOK JEONG",
      "userId": "01703662546986869335"
     },
     "user_tz": -540
    },
    "id": "EEYcEAQ39i5g"
   },
   "outputs": [],
   "source": [
    "fit_and_evaluate(full_wavenet_model, longer_train, longer_valid,\n",
    "                 learning_rate=0.1, epochs=5)"
   ]
  },
  {
   "cell_type": "markdown",
   "metadata": {
    "id": "DNCJjPlg9i5g"
   },
   "source": [
    "이 장에서는 RNN의 기초를 살펴보고 이를 사용하여 시퀀스(즉, 시계열)를 처리하는 방법을 살펴보았습니다. 이 과정에서 CNN을 포함한 시퀀스를 처리하는 다른 방법도 살펴봤습니다. 다음 장에서는 자연어 처리를 위해 RNN을 사용하고, RNN에 대해 자세히 알아볼 것입니다(양방향 RNN, 상태가 있는 RNN과 상태가 없는 RNN, 인코더-디코더, 어텐션 기반 인코더-디코더). 또한 어텐션 전용 아키텍처인 트랜스포머에 대해서도 살펴볼 것입니다."
   ]
  },
  {
   "cell_type": "markdown",
   "metadata": {
    "id": "ZhrX9H2X9i5h"
   },
   "source": [
    "# 연습문제"
   ]
  },
  {
   "cell_type": "markdown",
   "metadata": {
    "id": "fXrJjUrc9i5h"
   },
   "source": [
    "## 1. to 8."
   ]
  },
  {
   "cell_type": "markdown",
   "metadata": {
    "id": "AWy-rYVt9i5h"
   },
   "source": [
    "부록 A 참조."
   ]
  },
  {
   "cell_type": "markdown",
   "metadata": {
    "id": "qcelEXat9i5h"
   },
   "source": [
    "## 9. SketchRNN 데이터셋 다루기"
   ]
  },
  {
   "cell_type": "markdown",
   "metadata": {
    "id": "sch1fD4S9i5h"
   },
   "source": [
    "_연습문제: 텐서플로 데이터셋에서 제공하는 SketchRNN 데이터셋으로 분류 모델을 훈련해보세요._"
   ]
  },
  {
   "cell_type": "markdown",
   "metadata": {
    "id": "KuQeeNbO9i5j"
   },
   "source": [
    "이 데이터셋은 아직 TFDS에서 제공하지 않습니다. 아직 [풀 리퀘스트](https://github.com/tensorflow/datasets/pull/361)가 진행 중입니다. 다행히 이 데이터는 TFRecord로 제공되므로 다운로드해보죠(3,450,000 훈련 스케치와 345,000 테스트 스케치가 포함된 이 데이터셋은 1GB 정도되기 때문에 다운로드 시간이 조금 걸립니다):"
   ]
  },
  {
   "cell_type": "code",
   "execution_count": null,
   "metadata": {
    "executionInfo": {
     "elapsed": 22,
     "status": "aborted",
     "timestamp": 1728695470441,
     "user": {
      "displayName": "WOOSEOK JEONG",
      "userId": "01703662546986869335"
     },
     "user_tz": -540
    },
    "id": "k64P6YUW9i5k"
   },
   "outputs": [],
   "source": [
    "tf_download_root = \"http://download.tensorflow.org/data/\"\n",
    "filename = \"quickdraw_tutorial_dataset_v1.tar.gz\"\n",
    "filepath = tf.keras.utils.get_file(filename,\n",
    "                                   tf_download_root + filename,\n",
    "                                   cache_dir=\".\",\n",
    "                                   extract=True)"
   ]
  },
  {
   "cell_type": "code",
   "execution_count": null,
   "metadata": {
    "executionInfo": {
     "elapsed": 21,
     "status": "aborted",
     "timestamp": 1728695470441,
     "user": {
      "displayName": "WOOSEOK JEONG",
      "userId": "01703662546986869335"
     },
     "user_tz": -540
    },
    "id": "0gPOyTLl9i5k"
   },
   "outputs": [],
   "source": [
    "quickdraw_dir = Path(filepath).parent\n",
    "train_files = sorted(\n",
    "    [str(path) for path in quickdraw_dir.glob(\"training.tfrecord-*\")]\n",
    ")\n",
    "eval_files = sorted(\n",
    "    [str(path) for path in quickdraw_dir.glob(\"eval.tfrecord-*\")]\n",
    ")"
   ]
  },
  {
   "cell_type": "code",
   "execution_count": null,
   "metadata": {
    "executionInfo": {
     "elapsed": 21,
     "status": "aborted",
     "timestamp": 1728695470441,
     "user": {
      "displayName": "WOOSEOK JEONG",
      "userId": "01703662546986869335"
     },
     "user_tz": -540
    },
    "id": "xe6HDrC59i5k"
   },
   "outputs": [],
   "source": [
    "train_files"
   ]
  },
  {
   "cell_type": "code",
   "execution_count": null,
   "metadata": {
    "executionInfo": {
     "elapsed": 21,
     "status": "aborted",
     "timestamp": 1728695470441,
     "user": {
      "displayName": "WOOSEOK JEONG",
      "userId": "01703662546986869335"
     },
     "user_tz": -540
    },
    "id": "xNJurGkq9i5k"
   },
   "outputs": [],
   "source": [
    "eval_files"
   ]
  },
  {
   "cell_type": "code",
   "execution_count": null,
   "metadata": {
    "executionInfo": {
     "elapsed": 21,
     "status": "aborted",
     "timestamp": 1728695470441,
     "user": {
      "displayName": "WOOSEOK JEONG",
      "userId": "01703662546986869335"
     },
     "user_tz": -540
    },
    "id": "X45qSSG39i5l"
   },
   "outputs": [],
   "source": [
    "with open(quickdraw_dir / \"eval.tfrecord.classes\") as test_classes_file:\n",
    "    test_classes = test_classes_file.readlines()\n",
    "\n",
    "with open(quickdraw_dir / \"training.tfrecord.classes\") as train_classes_file:\n",
    "    train_classes = train_classes_file.readlines()"
   ]
  },
  {
   "cell_type": "code",
   "execution_count": null,
   "metadata": {
    "executionInfo": {
     "elapsed": 21,
     "status": "aborted",
     "timestamp": 1728695470441,
     "user": {
      "displayName": "WOOSEOK JEONG",
      "userId": "01703662546986869335"
     },
     "user_tz": -540
    },
    "id": "zV3hDSEh9i5l"
   },
   "outputs": [],
   "source": [
    "assert train_classes == test_classes\n",
    "class_names = [name.strip().lower() for name in train_classes]"
   ]
  },
  {
   "cell_type": "code",
   "execution_count": null,
   "metadata": {
    "executionInfo": {
     "elapsed": 21,
     "status": "aborted",
     "timestamp": 1728695470441,
     "user": {
      "displayName": "WOOSEOK JEONG",
      "userId": "01703662546986869335"
     },
     "user_tz": -540
    },
    "id": "QXI-Ydo99i5l"
   },
   "outputs": [],
   "source": [
    "sorted(class_names)"
   ]
  },
  {
   "cell_type": "code",
   "execution_count": null,
   "metadata": {
    "executionInfo": {
     "elapsed": 21,
     "status": "aborted",
     "timestamp": 1728695470441,
     "user": {
      "displayName": "WOOSEOK JEONG",
      "userId": "01703662546986869335"
     },
     "user_tz": -540
    },
    "id": "RNHGe-PL9i5l"
   },
   "outputs": [],
   "source": [
    "def parse(data_batch):\n",
    "    feature_descriptions = {\n",
    "        \"ink\": tf.io.VarLenFeature(dtype=tf.float32),\n",
    "        \"shape\": tf.io.FixedLenFeature([2], dtype=tf.int64),\n",
    "        \"class_index\": tf.io.FixedLenFeature([1], dtype=tf.int64)\n",
    "    }\n",
    "    examples = tf.io.parse_example(data_batch, feature_descriptions)\n",
    "    flat_sketches = tf.sparse.to_dense(examples[\"ink\"])\n",
    "    sketches = tf.reshape(flat_sketches, shape=[tf.size(data_batch), -1, 3])\n",
    "    lengths = examples[\"shape\"][:, 0]\n",
    "    labels = examples[\"class_index\"][:, 0]\n",
    "    return sketches, lengths, labels"
   ]
  },
  {
   "cell_type": "code",
   "execution_count": null,
   "metadata": {
    "executionInfo": {
     "elapsed": 21,
     "status": "aborted",
     "timestamp": 1728695470441,
     "user": {
      "displayName": "WOOSEOK JEONG",
      "userId": "01703662546986869335"
     },
     "user_tz": -540
    },
    "id": "pImOdY959i5l"
   },
   "outputs": [],
   "source": [
    "def quickdraw_dataset(filepaths, batch_size=32, shuffle_buffer_size=None,\n",
    "                      n_parse_threads=5, n_read_threads=5, cache=False):\n",
    "    dataset = tf.data.TFRecordDataset(filepaths,\n",
    "                                      num_parallel_reads=n_read_threads)\n",
    "    if cache:\n",
    "        dataset = dataset.cache()\n",
    "    if shuffle_buffer_size:\n",
    "        dataset = dataset.shuffle(shuffle_buffer_size)\n",
    "    dataset = dataset.batch(batch_size)\n",
    "    dataset = dataset.map(parse, num_parallel_calls=n_parse_threads)\n",
    "    return dataset.prefetch(1)"
   ]
  },
  {
   "cell_type": "code",
   "execution_count": null,
   "metadata": {
    "executionInfo": {
     "elapsed": 20,
     "status": "aborted",
     "timestamp": 1728695470441,
     "user": {
      "displayName": "WOOSEOK JEONG",
      "userId": "01703662546986869335"
     },
     "user_tz": -540
    },
    "id": "MD9miC7d9i5l"
   },
   "outputs": [],
   "source": [
    "train_set = quickdraw_dataset(train_files, shuffle_buffer_size=10000)\n",
    "valid_set = quickdraw_dataset(eval_files[:5])\n",
    "test_set = quickdraw_dataset(eval_files[5:])"
   ]
  },
  {
   "cell_type": "code",
   "execution_count": null,
   "metadata": {
    "executionInfo": {
     "elapsed": 20,
     "status": "aborted",
     "timestamp": 1728695470441,
     "user": {
      "displayName": "WOOSEOK JEONG",
      "userId": "01703662546986869335"
     },
     "user_tz": -540
    },
    "id": "s8E73Pkc9i5m"
   },
   "outputs": [],
   "source": [
    "for sketches, lengths, labels in train_set.take(1):\n",
    "    print(\"sketches =\", sketches)\n",
    "    print(\"lengths =\", lengths)\n",
    "    print(\"labels =\", labels)"
   ]
  },
  {
   "cell_type": "code",
   "execution_count": null,
   "metadata": {
    "executionInfo": {
     "elapsed": 20,
     "status": "aborted",
     "timestamp": 1728695470441,
     "user": {
      "displayName": "WOOSEOK JEONG",
      "userId": "01703662546986869335"
     },
     "user_tz": -540
    },
    "id": "9LSfQM4v9i5m"
   },
   "outputs": [],
   "source": [
    "def draw_sketch(sketch, label=None):\n",
    "    origin = np.array([[0., 0., 0.]])\n",
    "    sketch = np.r_[origin, sketch]\n",
    "    stroke_end_indices = np.argwhere(sketch[:, -1]==1.)[:, 0]\n",
    "    coordinates = sketch[:, :2].cumsum(axis=0)\n",
    "    strokes = np.split(coordinates, stroke_end_indices + 1)\n",
    "    title = class_names[label.numpy()] if label is not None else \"Try to guess\"\n",
    "    plt.title(title)\n",
    "    plt.plot(coordinates[:, 0], -coordinates[:, 1], \"y:\")\n",
    "    for stroke in strokes:\n",
    "        plt.plot(stroke[:, 0], -stroke[:, 1], \".-\")\n",
    "    plt.axis(\"off\")\n",
    "\n",
    "def draw_sketches(sketches, lengths, labels):\n",
    "    n_sketches = len(sketches)\n",
    "    n_cols = 4\n",
    "    n_rows = (n_sketches - 1) // n_cols + 1\n",
    "    plt.figure(figsize=(n_cols * 3, n_rows * 3.5))\n",
    "    for index, sketch, length, label in zip(range(n_sketches), sketches, lengths, labels):\n",
    "        plt.subplot(n_rows, n_cols, index + 1)\n",
    "        draw_sketch(sketch[:length], label)\n",
    "    plt.show()\n",
    "\n",
    "for sketches, lengths, labels in train_set.take(1):\n",
    "    draw_sketches(sketches, lengths, labels)"
   ]
  },
  {
   "cell_type": "markdown",
   "metadata": {
    "id": "zD29Lqxc9i5m"
   },
   "source": [
    "대부분의 스케치는 100개 포인트 이하로 구성되어 있습니다:"
   ]
  },
  {
   "cell_type": "code",
   "execution_count": null,
   "metadata": {
    "executionInfo": {
     "elapsed": 21,
     "status": "aborted",
     "timestamp": 1728695470442,
     "user": {
      "displayName": "WOOSEOK JEONG",
      "userId": "01703662546986869335"
     },
     "user_tz": -540
    },
    "id": "jraKdgZ59i5w"
   },
   "outputs": [],
   "source": [
    "lengths = np.concatenate([lengths for _, lengths, _ in train_set.take(1000)])\n",
    "plt.hist(lengths, bins=150, density=True)\n",
    "plt.axis([0, 200, 0, 0.03])\n",
    "plt.xlabel(\"길이\")\n",
    "plt.ylabel(\"밀도\")\n",
    "plt.show()"
   ]
  },
  {
   "cell_type": "code",
   "execution_count": null,
   "metadata": {
    "executionInfo": {
     "elapsed": 21,
     "status": "aborted",
     "timestamp": 1728695470442,
     "user": {
      "displayName": "WOOSEOK JEONG",
      "userId": "01703662546986869335"
     },
     "user_tz": -540
    },
    "id": "noOaYgmW9i5w"
   },
   "outputs": [],
   "source": [
    "def crop_long_sketches(dataset, max_length=100):\n",
    "    return dataset.map(lambda inks, lengths, labels: (inks[:, :max_length], labels))\n",
    "\n",
    "cropped_train_set = crop_long_sketches(train_set)\n",
    "cropped_valid_set = crop_long_sketches(valid_set)\n",
    "cropped_test_set = crop_long_sketches(test_set)"
   ]
  },
  {
   "cell_type": "code",
   "execution_count": null,
   "metadata": {
    "executionInfo": {
     "elapsed": 21,
     "status": "aborted",
     "timestamp": 1728695470442,
     "user": {
      "displayName": "WOOSEOK JEONG",
      "userId": "01703662546986869335"
     },
     "user_tz": -540
    },
    "id": "8tn7GmcQ9i5x"
   },
   "outputs": [],
   "source": [
    "model = tf.keras.Sequential([\n",
    "    tf.keras.layers.Conv1D(32, kernel_size=5, strides=2, activation=\"relu\"),\n",
    "    tf.keras.layers.BatchNormalization(),\n",
    "    tf.keras.layers.Conv1D(64, kernel_size=5, strides=2, activation=\"relu\"),\n",
    "    tf.keras.layers.BatchNormalization(),\n",
    "    tf.keras.layers.Conv1D(128, kernel_size=3, strides=2, activation=\"relu\"),\n",
    "    tf.keras.layers.BatchNormalization(),\n",
    "    tf.keras.layers.LSTM(128, return_sequences=True),\n",
    "    tf.keras.layers.LSTM(128),\n",
    "    tf.keras.layers.Dense(len(class_names), activation=\"softmax\")\n",
    "])\n",
    "optimizer = tf.keras.optimizers.SGD(learning_rate=1e-2, clipnorm=1.)\n",
    "model.compile(loss=\"sparse_categorical_crossentropy\",\n",
    "              optimizer=optimizer,\n",
    "              metrics=[\"accuracy\", \"sparse_top_k_categorical_accuracy\"])\n",
    "history = model.fit(cropped_train_set, epochs=2,\n",
    "                    validation_data=cropped_valid_set)"
   ]
  },
  {
   "cell_type": "code",
   "execution_count": null,
   "metadata": {
    "executionInfo": {
     "elapsed": 21,
     "status": "aborted",
     "timestamp": 1728695470442,
     "user": {
      "displayName": "WOOSEOK JEONG",
      "userId": "01703662546986869335"
     },
     "user_tz": -540
    },
    "id": "NdqxsYv89i5x"
   },
   "outputs": [],
   "source": [
    "y_test = np.concatenate([labels for _, _, labels in test_set])\n",
    "y_probas = model.predict(test_set)"
   ]
  },
  {
   "cell_type": "code",
   "execution_count": null,
   "metadata": {
    "executionInfo": {
     "elapsed": 21,
     "status": "aborted",
     "timestamp": 1728695470442,
     "user": {
      "displayName": "WOOSEOK JEONG",
      "userId": "01703662546986869335"
     },
     "user_tz": -540
    },
    "id": "WkpmgIzx9i5x"
   },
   "outputs": [],
   "source": [
    "np.mean(tf.keras.metrics.sparse_top_k_categorical_accuracy(y_test, y_probas))"
   ]
  },
  {
   "cell_type": "code",
   "execution_count": null,
   "metadata": {
    "executionInfo": {
     "elapsed": 21,
     "status": "aborted",
     "timestamp": 1728695470442,
     "user": {
      "displayName": "WOOSEOK JEONG",
      "userId": "01703662546986869335"
     },
     "user_tz": -540
    },
    "id": "LwUkKkCX9i5x"
   },
   "outputs": [],
   "source": [
    "n_new = 10\n",
    "Y_probas = model.predict(sketches)\n",
    "top_k = tf.nn.top_k(Y_probas, k=5)\n",
    "for index in range(n_new):\n",
    "    plt.figure(figsize=(3, 3.5))\n",
    "    draw_sketch(sketches[index])\n",
    "    plt.show()\n",
    "    print(\"Top-5 predictions:\".format(index + 1))\n",
    "    for k in range(5):\n",
    "        class_name = class_names[top_k.indices[index, k]]\n",
    "        proba = 100 * top_k.values[index, k]\n",
    "        print(\"  {}. {} {:.3f}%\".format(k + 1, class_name, proba))\n",
    "    print(\"Answer: {}\".format(class_names[labels[index].numpy()]))"
   ]
  },
  {
   "cell_type": "code",
   "execution_count": null,
   "metadata": {
    "executionInfo": {
     "elapsed": 21,
     "status": "aborted",
     "timestamp": 1728695470442,
     "user": {
      "displayName": "WOOSEOK JEONG",
      "userId": "01703662546986869335"
     },
     "user_tz": -540
    },
    "id": "RuG1-Fe09i5y"
   },
   "outputs": [],
   "source": [
    "model.save(\"my_sketchrnn\", save_format=\"tf\")"
   ]
  },
  {
   "cell_type": "markdown",
   "metadata": {
    "id": "G6arU0oL9i5y"
   },
   "source": [
    "## 10. 바흐 합창곡\n",
    "\n",
    "_연습문제: [바흐 합창곡](https://homl.info/bach) 데이터셋을 다운로드하여 압축을 풉니다. 이 데이터셋은 요한 제바스티안 바흐가 작곡한 382개의 합창곡으로 구성되어 있습니다. 각 곡은 100에서 640까지 타임 스텝 길이입니다. 각 타임 스텝은 4개의 정수를 담고 있습니다. 각 정수는 피아노 음표의 인덱스에 해당합니다(연주되는 음표가 없다는 것을 의미하는 0은 제외). 코랄의 타임 스텝 시퀀스가 주어지면 다음 타임 스텝(4개의 음표)을 예측할 수 있는 순환 모델, 합성곱 모델 또는 두 가지를 합친 모델을 훈련하세요. 그 다음 이 모델을 사용해 한 번에 하나의 음표씩 바흐와 같은 음악을 생성하세요. 코랄의 시작 부분을 모델에 주입하고 다음 타임 스텝을 예측합니다. 이 타임 스텝을 입력 시퀀스에 추가하여 모델이 다음 음표를 예측하게 만드는 식입니다. 또 바흐를 위한 [구글 두들](https://www.google.com/doodles/celebrating-johann-sebastian-bach)에 사용한 구글의 [Coconet 모델](https://homl.info/coconet)을 확인해보세요._"
   ]
  },
  {
   "cell_type": "code",
   "execution_count": null,
   "metadata": {
    "executionInfo": {
     "elapsed": 21,
     "status": "aborted",
     "timestamp": 1728695470442,
     "user": {
      "displayName": "WOOSEOK JEONG",
      "userId": "01703662546986869335"
     },
     "user_tz": -540
    },
    "id": "qkor4S2m9i5y"
   },
   "outputs": [],
   "source": [
    "tf.keras.utils.get_file(\n",
    "    \"jsb_chorales.tgz\",\n",
    "    \"https://github.com/ageron/data/raw/main/jsb_chorales.tgz\",\n",
    "    cache_dir=\".\",\n",
    "    extract=True)"
   ]
  },
  {
   "cell_type": "code",
   "execution_count": null,
   "metadata": {
    "executionInfo": {
     "elapsed": 21,
     "status": "aborted",
     "timestamp": 1728695470442,
     "user": {
      "displayName": "WOOSEOK JEONG",
      "userId": "01703662546986869335"
     },
     "user_tz": -540
    },
    "id": "C_uRoydq9i5y"
   },
   "outputs": [],
   "source": [
    "jsb_chorales_dir = Path(\"datasets/jsb_chorales\")\n",
    "train_files = sorted(jsb_chorales_dir.glob(\"train/chorale_*.csv\"))\n",
    "valid_files = sorted(jsb_chorales_dir.glob(\"valid/chorale_*.csv\"))\n",
    "test_files = sorted(jsb_chorales_dir.glob(\"test/chorale_*.csv\"))"
   ]
  },
  {
   "cell_type": "code",
   "execution_count": null,
   "metadata": {
    "executionInfo": {
     "elapsed": 21,
     "status": "aborted",
     "timestamp": 1728695470442,
     "user": {
      "displayName": "WOOSEOK JEONG",
      "userId": "01703662546986869335"
     },
     "user_tz": -540
    },
    "id": "7e3Xjuye9i5y"
   },
   "outputs": [],
   "source": [
    "import pandas as pd\n",
    "\n",
    "def load_chorales(filepaths):\n",
    "    return [pd.read_csv(filepath).values.tolist() for filepath in filepaths]\n",
    "\n",
    "train_chorales = load_chorales(train_files)\n",
    "valid_chorales = load_chorales(valid_files)\n",
    "test_chorales = load_chorales(test_files)"
   ]
  },
  {
   "cell_type": "code",
   "execution_count": null,
   "metadata": {
    "executionInfo": {
     "elapsed": 21,
     "status": "aborted",
     "timestamp": 1728695470442,
     "user": {
      "displayName": "WOOSEOK JEONG",
      "userId": "01703662546986869335"
     },
     "user_tz": -540
    },
    "id": "iFc-vV7C9i5z"
   },
   "outputs": [],
   "source": [
    "train_chorales[0]"
   ]
  },
  {
   "cell_type": "markdown",
   "metadata": {
    "id": "obNXmgJ39i5z"
   },
   "source": [
    "음표의 범위는 36(C1 = 옥타브 1의 C)에서 81(A5 = 옥타브 5의 A)까지이고 무음을 위해 0을 추가합니다:"
   ]
  },
  {
   "cell_type": "code",
   "execution_count": null,
   "metadata": {
    "executionInfo": {
     "elapsed": 20,
     "status": "aborted",
     "timestamp": 1728695470442,
     "user": {
      "displayName": "WOOSEOK JEONG",
      "userId": "01703662546986869335"
     },
     "user_tz": -540
    },
    "id": "EpYPwl-r9i5z"
   },
   "outputs": [],
   "source": [
    "notes = set()\n",
    "for chorales in (train_chorales, valid_chorales, test_chorales):\n",
    "    for chorale in chorales:\n",
    "        for chord in chorale:\n",
    "            notes |= set(chord)\n",
    "\n",
    "n_notes = len(notes)\n",
    "min_note = min(notes - {0})\n",
    "max_note = max(notes)\n",
    "\n",
    "assert min_note == 36\n",
    "assert max_note == 81"
   ]
  },
  {
   "cell_type": "markdown",
   "metadata": {
    "id": "mL9Pbzff9i5z"
   },
   "source": [
    "이 코랄을 듣기 위한 몇 개의 함수를 만들어 보죠(자세한 내용을 이해할 필요는 없습니다. 사실 MIDI 플레이어처럼 더 간단한 방법이 있지만 그냥 하나의 합성기(synthesizer)를 만들어 보고 싶었습니다):"
   ]
  },
  {
   "cell_type": "code",
   "execution_count": null,
   "metadata": {
    "executionInfo": {
     "elapsed": 20,
     "status": "aborted",
     "timestamp": 1728695470442,
     "user": {
      "displayName": "WOOSEOK JEONG",
      "userId": "01703662546986869335"
     },
     "user_tz": -540
    },
    "id": "1KURemiW9i5z"
   },
   "outputs": [],
   "source": [
    "from IPython.display import Audio\n",
    "\n",
    "def notes_to_frequencies(notes):\n",
    "    # 한 옥타브 올라갈 때 주파수는 두배가 됩니다; 옥타브마다 12개의 반음이 있습니다;\n",
    "    # 옥타브 4의 A는 440Hz이고 음표 번호는 69입니다.\n",
    "    return 2 ** ((np.array(notes) - 69) / 12) * 440\n",
    "\n",
    "def frequencies_to_samples(frequencies, tempo, sample_rate):\n",
    "    note_duration = 60 / tempo # tempo는 분당 박자 수로 측정합니다\n",
    "    # 매 박자마다 딸깍거리는 소리를 줄이기 위해 주파수를 반올림하여 각 음의 끝에서 샘플을 0에 가깝게 만듭니다.\n",
    "    frequencies = (note_duration * frequencies).round() / note_duration\n",
    "    n_samples = int(note_duration * sample_rate)\n",
    "    time = np.linspace(0, note_duration, n_samples)\n",
    "    sine_waves = np.sin(2 * np.pi * frequencies.reshape(-1, 1) * time)\n",
    "    # (음표 0 = 무음을 포함해) 9Hz 이하인 주파수는 모두 삭제합니다\n",
    "    sine_waves *= (frequencies > 9.).reshape(-1, 1)\n",
    "    return sine_waves.reshape(-1)\n",
    "\n",
    "def chords_to_samples(chords, tempo, sample_rate):\n",
    "    freqs = notes_to_frequencies(chords)\n",
    "    freqs = np.r_[freqs, freqs[-1:]] # 마지막 음표를 조금 더 길게합니다\n",
    "    merged = np.mean([frequencies_to_samples(melody, tempo, sample_rate)\n",
    "                     for melody in freqs.T], axis=0)\n",
    "    n_fade_out_samples = sample_rate * 60 // tempo # 마지막 음을 희미하게 합니다\n",
    "    fade_out = np.linspace(1., 0., n_fade_out_samples)**2\n",
    "    merged[-n_fade_out_samples:] *= fade_out\n",
    "    return merged\n",
    "\n",
    "def play_chords(chords, tempo=160, amplitude=0.1, sample_rate=44100, filepath=None):\n",
    "    samples = amplitude * chords_to_samples(chords, tempo, sample_rate)\n",
    "    if filepath:\n",
    "        from scipy.io import wavfile\n",
    "        samples = (2**15 * samples).astype(np.int16)\n",
    "        wavfile.write(filepath, sample_rate, samples)\n",
    "        return display(Audio(filepath))\n",
    "    else:\n",
    "        return display(Audio(samples, rate=sample_rate))"
   ]
  },
  {
   "cell_type": "markdown",
   "metadata": {
    "id": "iH4JWxt69i5z"
   },
   "source": [
    "이제 몇 개의 코랄을 들어 보죠:"
   ]
  },
  {
   "cell_type": "code",
   "execution_count": null,
   "metadata": {
    "executionInfo": {
     "elapsed": 20,
     "status": "aborted",
     "timestamp": 1728695470442,
     "user": {
      "displayName": "WOOSEOK JEONG",
      "userId": "01703662546986869335"
     },
     "user_tz": -540
    },
    "id": "cJGpElrW9i50"
   },
   "outputs": [],
   "source": [
    "for index in range(3):\n",
    "    play_chords(train_chorales[index])"
   ]
  },
  {
   "cell_type": "markdown",
   "metadata": {
    "id": "Rx4te05H9i50"
   },
   "source": [
    "멋지네요! :)"
   ]
  },
  {
   "cell_type": "markdown",
   "metadata": {
    "id": "CXDgTcrS9i50"
   },
   "source": [
    "새로운 코랄을 생성하기 위해서는 이전의 화음이 주어졌을 때 다음 화음을 예측할 수 있는 모델을 훈련해야 합니다. 한 번에 4개의 음표를 예측하는 식으로 다음 화음을 예측한다면 잘 어울리지 않는 음표를 얻게 됩니다(믿으세요. 제가 해 보았습니다). 한 번에 하나의 음표를 예측하는 것이 간단하고 더 낫습니다. 따라서 모든 코랄을 전처리하여 각 화음을 아르페지오로 바꾸어야 합니다(즉, 동시에 연주되는 음표가 아니라 음표의 시퀀스). 그다음 이전의 모든 음표가 주어졌을 때 다음 음표를 예측하는 모델을 훈련할 수 있습니다. 시퀀스-투-시퀀스 방식을 사용하겠습니다. 신경망에 한 윈도를 주입하고 한 타임 스텝 미래로 이동한 윈도를 예측합니다.\n",
    "\n",
    "또한 0에서 46까지 범위를 갖도록 값을 이동시키겠습니다. 여기에서 0은 무음을 나타내고 1에서 46까지는 36(C1)에서 81(A5)까지를 나타냅니다.\n",
    "\n",
    "128 음표(즉, 32개 화음)의 윈도에서 모델을 훈련하겠습니다.\n",
    "\n",
    "이 데이터셋은 메모리에 올라갈 수 있기 때문에 파이썬 코드를 사용해 RAM에서 코랄을 전처리할 수 있지만 여기에서는 tf.data를 사용해 전처리하는 방법을 시연하겠습니다(다음 장에서 tf.data를 사용해 윈도를 만드는 과정을 자세히 설명하겠습니다)."
   ]
  },
  {
   "cell_type": "code",
   "execution_count": null,
   "metadata": {
    "executionInfo": {
     "elapsed": 20,
     "status": "aborted",
     "timestamp": 1728695470442,
     "user": {
      "displayName": "WOOSEOK JEONG",
      "userId": "01703662546986869335"
     },
     "user_tz": -540
    },
    "id": "vE0RH04-9i50"
   },
   "outputs": [],
   "source": [
    "def create_target(batch):\n",
    "    X = batch[:, :-1]\n",
    "    Y = batch[:, 1:] # 각 스텝에서 아르페지오에 있는 다음 음표를 예측합니다\n",
    "    return X, Y\n",
    "\n",
    "def preprocess(window):\n",
    "    window = tf.where(window == 0, window, window - min_note + 1) # 값 이동\n",
    "    return tf.reshape(window, [-1]) # 아르페지오로 변환\n",
    "\n",
    "def bach_dataset(chorales, batch_size=32, shuffle_buffer_size=None,\n",
    "                 window_size=32, window_shift=16, cache=True):\n",
    "    def batch_window(window):\n",
    "        return window.batch(window_size + 1)\n",
    "\n",
    "    def to_windows(chorale):\n",
    "        dataset = tf.data.Dataset.from_tensor_slices(chorale)\n",
    "        dataset = dataset.window(window_size + 1, window_shift, drop_remainder=True)\n",
    "        return dataset.flat_map(batch_window)\n",
    "\n",
    "    chorales = tf.ragged.constant(chorales, ragged_rank=1)\n",
    "    dataset = tf.data.Dataset.from_tensor_slices(chorales)\n",
    "    dataset = dataset.flat_map(to_windows).map(preprocess)\n",
    "    if cache:\n",
    "        dataset = dataset.cache()\n",
    "    if shuffle_buffer_size:\n",
    "        dataset = dataset.shuffle(shuffle_buffer_size)\n",
    "    dataset = dataset.batch(batch_size)\n",
    "    dataset = dataset.map(create_target)\n",
    "    return dataset.prefetch(1)"
   ]
  },
  {
   "cell_type": "markdown",
   "metadata": {
    "id": "g9cjpoUh9i50"
   },
   "source": [
    "훈련 세트, 검증 세트, 테스트 세트를 만듭니다:"
   ]
  },
  {
   "cell_type": "code",
   "execution_count": null,
   "metadata": {
    "executionInfo": {
     "elapsed": 20,
     "status": "aborted",
     "timestamp": 1728695470442,
     "user": {
      "displayName": "WOOSEOK JEONG",
      "userId": "01703662546986869335"
     },
     "user_tz": -540
    },
    "id": "PAAvflCd9i52"
   },
   "outputs": [],
   "source": [
    "train_set = bach_dataset(train_chorales, shuffle_buffer_size=1000)\n",
    "valid_set = bach_dataset(valid_chorales)\n",
    "test_set = bach_dataset(test_chorales)"
   ]
  },
  {
   "cell_type": "markdown",
   "metadata": {
    "id": "LNRg6SZc9i53"
   },
   "source": [
    "이제 모델을 만듭니다:\n",
    "\n",
    "* 음표를 실수 값으로 모델에 직접 주입할 수 있지만 좋은 결과를 얻지 못할 것입니다. 음표 간의 관계는 단순하지 않습니다. 예를 들어 C3을 C4로 바꾼다면 두 음표 사이에 반음이 12개(즉 한 옥타브) 떨어져 있음에도 멜로디는 여전히 괜찮게 들립니다. 반대로 C3을 C\\#3으로 바꾼다면 바로 다음 음표임에도 화음이 매우 좋지 않습니다. 따라서 `Embedding` 층을 사용해 음표를 작은 벡터 표현으로 바꾸겠습니다(임베딩에 대해서는 16장을 참고하세요). 5-차원 임베딩을 사용하므로 첫 번째 층의 출력은 `[batch_size, window_size, 5]` 크기가 됩니다.\n",
    "* 그 다음 이 데이터를 4개의 `Conv1D` 층을 쌓고 dilation 비율을 두 배씩 늘린 작은 WeveNet 신경망에 주입합니다. 빠른 수렴을 위해 이 층 다음에 `BatchNormalization` 층을 배치합니다.\n",
    "* 그다음 하나의 `LSTM` 층이 장기 패턴을 감지합니다.\n",
    "* 마지막으로 `Dense` 층이 최종 음표 확률을 생성합니다. 타임 스텝과 (무음을 포함해) 가능한 음표 마다 배치에 있는 각 코랄에 대해 하나의 확률을 예측합니다. 따라서 출력 크기는 `[batch_size, window_size, 47]`가 됩니다."
   ]
  },
  {
   "cell_type": "code",
   "execution_count": null,
   "metadata": {
    "executionInfo": {
     "elapsed": 20,
     "status": "aborted",
     "timestamp": 1728695470442,
     "user": {
      "displayName": "WOOSEOK JEONG",
      "userId": "01703662546986869335"
     },
     "user_tz": -540
    },
    "id": "wk4GI9rJ9i53"
   },
   "outputs": [],
   "source": [
    "n_embedding_dims = 5\n",
    "\n",
    "model = tf.keras.Sequential([\n",
    "    tf.keras.layers.Embedding(input_dim=n_notes, output_dim=n_embedding_dims,\n",
    "                           input_shape=[None]),\n",
    "    tf.keras.layers.Conv1D(32, kernel_size=2, padding=\"causal\", activation=\"relu\"),\n",
    "    tf.keras.layers.BatchNormalization(),\n",
    "    tf.keras.layers.Conv1D(48, kernel_size=2, padding=\"causal\", activation=\"relu\", dilation_rate=2),\n",
    "    tf.keras.layers.BatchNormalization(),\n",
    "    tf.keras.layers.Conv1D(64, kernel_size=2, padding=\"causal\", activation=\"relu\", dilation_rate=4),\n",
    "    tf.keras.layers.BatchNormalization(),\n",
    "    tf.keras.layers.Conv1D(96, kernel_size=2, padding=\"causal\", activation=\"relu\", dilation_rate=8),\n",
    "    tf.keras.layers.BatchNormalization(),\n",
    "    tf.keras.layers.LSTM(256, return_sequences=True),\n",
    "    tf.keras.layers.Dense(n_notes, activation=\"softmax\")\n",
    "])\n",
    "\n",
    "model.summary()"
   ]
  },
  {
   "cell_type": "markdown",
   "metadata": {
    "id": "1wjHad8l9i53"
   },
   "source": [
    "이제 모델을 컴파일하고 훈련할 준비가 되었습니다!"
   ]
  },
  {
   "cell_type": "code",
   "execution_count": null,
   "metadata": {
    "executionInfo": {
     "elapsed": 20,
     "status": "aborted",
     "timestamp": 1728695470442,
     "user": {
      "displayName": "WOOSEOK JEONG",
      "userId": "01703662546986869335"
     },
     "user_tz": -540
    },
    "id": "HWM6_7xp9i53"
   },
   "outputs": [],
   "source": [
    "optimizer = tf.keras.optimizers.Nadam(learning_rate=1e-3)\n",
    "model.compile(loss=\"sparse_categorical_crossentropy\", optimizer=optimizer,\n",
    "              metrics=[\"accuracy\"])\n",
    "model.fit(train_set, epochs=20, validation_data=valid_set)"
   ]
  },
  {
   "cell_type": "markdown",
   "metadata": {
    "id": "BYNU7mPZ9i54"
   },
   "source": [
    "여기서는 하이퍼파라미터 탐색을 많이 수행하지 않았습니다. 자유롭게 이 모델을 사용해 하이퍼파라미터를 탐색하고 최적화해 보세요. 예를 들어 `LSTM` 층을 제거하고 `Conv1D` 층으로 바꿀 수 있습니다. 층의 개수, 학습률, 옵티마이저 등을 실험해 볼 수 있습니다."
   ]
  },
  {
   "cell_type": "markdown",
   "metadata": {
    "id": "YK8Fux7f9i54"
   },
   "source": [
    "검증 세트에 대한 모델의 성능이 만족스럽다면 모델을 저장하고 테스트 세트에서 마지막으로 평가합니다:"
   ]
  },
  {
   "cell_type": "code",
   "execution_count": null,
   "metadata": {
    "executionInfo": {
     "elapsed": 21,
     "status": "aborted",
     "timestamp": 1728695470443,
     "user": {
      "displayName": "WOOSEOK JEONG",
      "userId": "01703662546986869335"
     },
     "user_tz": -540
    },
    "id": "1r1qW9yx9i54"
   },
   "outputs": [],
   "source": [
    "model.save(\"my_bach_model\", save_format=\"tf\")\n",
    "model.evaluate(test_set)"
   ]
  },
  {
   "cell_type": "markdown",
   "metadata": {
    "id": "I10BcUUx9i55"
   },
   "source": [
    "**노트:** 이 예제에서는 테스트 세트가 진짜로 필요하지 않습니다. 모델이 생성한 음악을 듣는 것이 최종 평가가 되기 때문입니다. 따라서 필요하다면 테스트 세트를 훈련 세트에 넣고 모델을 다시 훈련하여 조금 더 나은 모델을 얻을 수 있습니다."
   ]
  },
  {
   "cell_type": "markdown",
   "metadata": {
    "id": "CvRloRch9i57"
   },
   "source": [
    "이제 새로운 코랄을 생성하는 함수를 만들어 보죠. 몇 개의 시드 화음을 주고 이를 (모델이 기대하는 포맷인) 아르페지오로 변환합니다. 그다음 모델을 사용해 다음 음표을 예측합니다. 마지막에 4개씩 음표를 모아서 다시 화음을 만들고 최종 코랄을 반환합니다."
   ]
  },
  {
   "cell_type": "code",
   "execution_count": null,
   "metadata": {
    "executionInfo": {
     "elapsed": 21,
     "status": "aborted",
     "timestamp": 1728695470443,
     "user": {
      "displayName": "WOOSEOK JEONG",
      "userId": "01703662546986869335"
     },
     "user_tz": -540
    },
    "id": "tnnviWeS9i57"
   },
   "outputs": [],
   "source": [
    "def generate_chorale(model, seed_chords, length):\n",
    "    arpegio = preprocess(tf.constant(seed_chords, dtype=tf.int64))\n",
    "    arpegio = tf.reshape(arpegio, [1, -1])\n",
    "    for chord in range(length):\n",
    "        for note in range(4):\n",
    "            next_note = model.predict(arpegio, verbose=0).argmax(axis=-1)[:1, -1:]\n",
    "            arpegio = tf.concat([arpegio, next_note], axis=1)\n",
    "    arpegio = tf.where(arpegio == 0, arpegio, arpegio + min_note - 1)\n",
    "    return tf.reshape(arpegio, shape=[-1, 4])"
   ]
  },
  {
   "cell_type": "markdown",
   "metadata": {
    "id": "Iu7-3RjC9i57"
   },
   "source": [
    "이 함수를 테스트하려면 시드 화음이 필요합니다. 테스트 코랄 중 하나에 있는 처음 8개의 화음을 사용해 보죠(실제로 이는 4번 반복되는 2개의 화음입니다):"
   ]
  },
  {
   "cell_type": "code",
   "execution_count": null,
   "metadata": {
    "executionInfo": {
     "elapsed": 21,
     "status": "aborted",
     "timestamp": 1728695470443,
     "user": {
      "displayName": "WOOSEOK JEONG",
      "userId": "01703662546986869335"
     },
     "user_tz": -540
    },
    "id": "fK8Ubnk99i58"
   },
   "outputs": [],
   "source": [
    "seed_chords = test_chorales[2][:8]\n",
    "play_chords(seed_chords, amplitude=0.2)"
   ]
  },
  {
   "cell_type": "markdown",
   "metadata": {
    "id": "Yy_gsjwA9i58"
   },
   "source": [
    "첫 번째 코랄을 생성할 준비를 마쳤습니다! 56개의 화음을 생성하여 총 64개의 화음, 즉 4 소절(소절마다 4개의 화음인 4/4박으로 가정합니다)을 만들어 보겠습니다:"
   ]
  },
  {
   "cell_type": "code",
   "execution_count": null,
   "metadata": {
    "executionInfo": {
     "elapsed": 21,
     "status": "aborted",
     "timestamp": 1728695470443,
     "user": {
      "displayName": "WOOSEOK JEONG",
      "userId": "01703662546986869335"
     },
     "user_tz": -540
    },
    "id": "tGpQLWmI9i58"
   },
   "outputs": [],
   "source": [
    "new_chorale = generate_chorale(model, seed_chords, 56)\n",
    "play_chords(new_chorale)"
   ]
  },
  {
   "cell_type": "markdown",
   "metadata": {
    "id": "jAT5YTAx9i58"
   },
   "source": [
    "이 방식에는 한가지 단점이 있습니다: 너무 보수적인 경우가 많습니다. 실제로 이 모델은 모험을 하지 않아 항상 가장 높은 확률의 음표를 선택합니다. 이전 음표를 반복하면 충분히 듣기 좋고 가장 덜 위험하기 때문에 이 알고리즘은 마지막 음표를 오래 지속시키는 경향이 있습니다. 상당히 지루합니다. 또한 이 모델을 여러 번 실행하면 항상 같은 멜로디를 생성할 것입니다.\n",
    "\n",
    "조금 더 신나게 만들어 보죠! 항상 가장 높은 점수의 음표를 선택하는 대신, 예측된 확률을 기반으로 랜덤하게 다음 음표를 선택하겠습니다. 예를 들어, 모델이 75% 확률로 C3를 예측하고 25% 확률로 G3를 예측했다면 이 확률대로 랜덤하게 두 음표 중 하나를 선택하겠습니다. 또한 `temperature` 매개변수를 추가하여 시스템의 온도(즉 대담성)를 제어하겠습니다. 높은 온도는 예측 확률을 비슷하게 만들어 가능성이 높은 음표의 확률을 줄이고 가능성이 낮은 음표의 확률을 높입니다."
   ]
  },
  {
   "cell_type": "code",
   "execution_count": null,
   "metadata": {
    "executionInfo": {
     "elapsed": 21,
     "status": "aborted",
     "timestamp": 1728695470443,
     "user": {
      "displayName": "WOOSEOK JEONG",
      "userId": "01703662546986869335"
     },
     "user_tz": -540
    },
    "id": "FTBYAC-b9i58"
   },
   "outputs": [],
   "source": [
    "def generate_chorale_v2(model, seed_chords, length, temperature=1):\n",
    "    arpegio = preprocess(tf.constant(seed_chords, dtype=tf.int64))\n",
    "    arpegio = tf.reshape(arpegio, [1, -1])\n",
    "    for chord in range(length):\n",
    "        for note in range(4):\n",
    "            next_note_probas = model.predict(arpegio)[0, -1:]\n",
    "            rescaled_logits = tf.math.log(next_note_probas) / temperature\n",
    "            next_note = tf.random.categorical(rescaled_logits, num_samples=1)\n",
    "            arpegio = tf.concat([arpegio, next_note], axis=1)\n",
    "    arpegio = tf.where(arpegio == 0, arpegio, arpegio + min_note - 1)\n",
    "    return tf.reshape(arpegio, shape=[-1, 4])"
   ]
  },
  {
   "cell_type": "markdown",
   "metadata": {
    "id": "J94Qvfbd9i58"
   },
   "source": [
    "이 함수로 3개의 코랄을 생성해 보겠습니다. 하나는 차갑게, 하나는 중간으로, 하나는 뜨겁게 만듭니다(시드, 길이, 온도를 사용해 자유롭게 실험해 보세요). 다음 코드는 각 코랄을 별개의 파일에 저장합니다. 마음에 드는 음악을 만날 때까지 이 셀을 반복해서 실행할 수 있습니다!\n",
    "\n",
    "**가장 아름다운 코랄을 트위터 @aureliengeron로 공유해 주시면 정말 감사하겠습니다! :))**"
   ]
  },
  {
   "cell_type": "code",
   "execution_count": null,
   "metadata": {
    "executionInfo": {
     "elapsed": 21,
     "status": "aborted",
     "timestamp": 1728695470443,
     "user": {
      "displayName": "WOOSEOK JEONG",
      "userId": "01703662546986869335"
     },
     "user_tz": -540
    },
    "id": "cKpx_tU89i58",
    "scrolled": true
   },
   "outputs": [],
   "source": [
    "new_chorale_v2_cold = generate_chorale_v2(model, seed_chords, 56, temperature=0.8)\n",
    "play_chords(new_chorale_v2_cold, filepath=\"bach_cold.wav\")"
   ]
  },
  {
   "cell_type": "code",
   "execution_count": null,
   "metadata": {
    "executionInfo": {
     "elapsed": 21,
     "status": "aborted",
     "timestamp": 1728695470443,
     "user": {
      "displayName": "WOOSEOK JEONG",
      "userId": "01703662546986869335"
     },
     "user_tz": -540
    },
    "id": "uTodHp-q9i59"
   },
   "outputs": [],
   "source": [
    "new_chorale_v2_medium = generate_chorale_v2(model, seed_chords, 56, temperature=1.0)\n",
    "play_chords(new_chorale_v2_medium, filepath=\"bach_medium.wav\")"
   ]
  },
  {
   "cell_type": "code",
   "execution_count": null,
   "metadata": {
    "executionInfo": {
     "elapsed": 20,
     "status": "aborted",
     "timestamp": 1728695470443,
     "user": {
      "displayName": "WOOSEOK JEONG",
      "userId": "01703662546986869335"
     },
     "user_tz": -540
    },
    "id": "4ZX42e1i9i59"
   },
   "outputs": [],
   "source": [
    "new_chorale_v2_hot = generate_chorale_v2(model, seed_chords, 56, temperature=1.5)\n",
    "play_chords(new_chorale_v2_hot, filepath=\"bach_hot.wav\")"
   ]
  },
  {
   "cell_type": "markdown",
   "metadata": {
    "id": "QeX35etZ9i59"
   },
   "source": [
    "마지막으로 재미있는 실험을 해 볼 수 있습니다: 친구에게 마음에 드는 코랄 몇 개와 진짜 코랄을 보내고 어떤 것이 진짜인지 물어 보세요!"
   ]
  },
  {
   "cell_type": "code",
   "execution_count": null,
   "metadata": {
    "executionInfo": {
     "elapsed": 20,
     "status": "aborted",
     "timestamp": 1728695470443,
     "user": {
      "displayName": "WOOSEOK JEONG",
      "userId": "01703662546986869335"
     },
     "user_tz": -540
    },
    "id": "vqOYgu-69i59"
   },
   "outputs": [],
   "source": [
    "play_chords(test_chorales[2][:64], filepath=\"bach_test_4.wav\")"
   ]
  }
 ],
 "metadata": {
  "accelerator": "GPU",
  "colab": {
   "provenance": [],
   "toc_visible": true
  },
  "kernelspec": {
   "display_name": "Python 3 (ipykernel)",
   "language": "python",
   "name": "python3"
  },
  "language_info": {
   "codemirror_mode": {
    "name": "ipython",
    "version": 3
   },
   "file_extension": ".py",
   "mimetype": "text/x-python",
   "name": "python",
   "nbconvert_exporter": "python",
   "pygments_lexer": "ipython3",
   "version": "3.10.12"
  },
  "nav_menu": {},
  "toc": {
   "navigate_menu": true,
   "number_sections": true,
   "sideBar": true,
   "threshold": 6,
   "toc_cell": false,
   "toc_section_display": "block",
   "toc_window_display": false
  }
 },
 "nbformat": 4,
 "nbformat_minor": 4
}
