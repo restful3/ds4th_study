{
 "cells": [
  {
   "cell_type": "markdown",
   "id": "246e376d",
   "metadata": {},
   "source": [
    "# 수학과 파이썬 복습"
   ]
  },
  {
   "cell_type": "markdown",
   "id": "94429fef",
   "metadata": {},
   "source": [
    "## 벡터와 행렬"
   ]
  },
  {
   "cell_type": "code",
   "execution_count": 13,
   "id": "4644783a",
   "metadata": {},
   "outputs": [
    {
     "data": {
      "text/plain": [
       "(array([1, 2, 3]), (3,), 1)"
      ]
     },
     "execution_count": 13,
     "metadata": {},
     "output_type": "execute_result"
    }
   ],
   "source": [
    "import numpy as np\n",
    "\n",
    "x = np.array([1, 2, 3])\n",
    "x, x.shape, x.ndim"
   ]
  },
  {
   "cell_type": "code",
   "execution_count": 19,
   "id": "9cbd964a",
   "metadata": {},
   "outputs": [
    {
     "data": {
      "text/plain": [
       "numpy.ndarray"
      ]
     },
     "execution_count": 19,
     "metadata": {},
     "output_type": "execute_result"
    }
   ],
   "source": [
    "x.__class__"
   ]
  },
  {
   "cell_type": "code",
   "execution_count": 14,
   "id": "606c3099",
   "metadata": {},
   "outputs": [
    {
     "data": {
      "text/plain": [
       "(array([[1],\n",
       "        [2],\n",
       "        [3]]),)"
      ]
     },
     "execution_count": 14,
     "metadata": {},
     "output_type": "execute_result"
    }
   ],
   "source": [
    "x2 = x.reshape(-1, 1)\n",
    "x2,"
   ]
  },
  {
   "cell_type": "code",
   "execution_count": 15,
   "id": "944dc2ff",
   "metadata": {},
   "outputs": [
    {
     "data": {
      "text/plain": [
       "(3, 1)"
      ]
     },
     "execution_count": 15,
     "metadata": {},
     "output_type": "execute_result"
    }
   ],
   "source": [
    "x2.shape"
   ]
  },
  {
   "cell_type": "code",
   "execution_count": 16,
   "id": "910d3253",
   "metadata": {},
   "outputs": [
    {
     "data": {
      "text/plain": [
       "2"
      ]
     },
     "execution_count": 16,
     "metadata": {},
     "output_type": "execute_result"
    }
   ],
   "source": [
    "x2.ndim"
   ]
  },
  {
   "cell_type": "code",
   "execution_count": 17,
   "id": "d98c74c0",
   "metadata": {},
   "outputs": [
    {
     "data": {
      "text/plain": [
       "(2, 3)"
      ]
     },
     "execution_count": 17,
     "metadata": {},
     "output_type": "execute_result"
    }
   ],
   "source": [
    "W = np.array([[1, 2, 3], [4, 5, 6]])\n",
    "W.shape"
   ]
  },
  {
   "cell_type": "code",
   "execution_count": 18,
   "id": "60203f59",
   "metadata": {},
   "outputs": [
    {
     "data": {
      "text/plain": [
       "2"
      ]
     },
     "execution_count": 18,
     "metadata": {},
     "output_type": "execute_result"
    }
   ],
   "source": [
    "W.ndim"
   ]
  },
  {
   "cell_type": "code",
   "execution_count": 20,
   "id": "b9a1ab71",
   "metadata": {},
   "outputs": [
    {
     "data": {
      "text/plain": [
       "numpy.ndarray"
      ]
     },
     "execution_count": 20,
     "metadata": {},
     "output_type": "execute_result"
    }
   ],
   "source": [
    "W.__class__"
   ]
  },
  {
   "cell_type": "markdown",
   "id": "33cd0559",
   "metadata": {},
   "source": [
    "## 행렬의 원소별 연산"
   ]
  },
  {
   "cell_type": "code",
   "execution_count": 21,
   "id": "216fa474",
   "metadata": {},
   "outputs": [
    {
     "data": {
      "text/plain": [
       "array([[ 1,  3,  5],\n",
       "       [ 7,  9, 11]])"
      ]
     },
     "execution_count": 21,
     "metadata": {},
     "output_type": "execute_result"
    }
   ],
   "source": [
    "W = np.array([[1, 2, 3], [4, 5, 6]])\n",
    "X = np.array([[0, 1, 2], [3, 4, 5]])\n",
    "W + X"
   ]
  },
  {
   "cell_type": "code",
   "execution_count": 22,
   "id": "df5ca0c2",
   "metadata": {},
   "outputs": [
    {
     "data": {
      "text/plain": [
       "array([[ 0,  2,  6],\n",
       "       [12, 20, 30]])"
      ]
     },
     "execution_count": 22,
     "metadata": {},
     "output_type": "execute_result"
    }
   ],
   "source": [
    "W*X"
   ]
  },
  {
   "cell_type": "code",
   "execution_count": 24,
   "id": "bcf9554f",
   "metadata": {},
   "outputs": [
    {
     "data": {
      "text/plain": [
       "array([[ 8, 26],\n",
       "       [17, 62]])"
      ]
     },
     "execution_count": 24,
     "metadata": {},
     "output_type": "execute_result"
    }
   ],
   "source": [
    "W@X.T"
   ]
  },
  {
   "cell_type": "markdown",
   "id": "4143d5da",
   "metadata": {},
   "source": [
    "## 브로드캐스트"
   ]
  },
  {
   "cell_type": "code",
   "execution_count": 25,
   "id": "52e51e7f",
   "metadata": {},
   "outputs": [
    {
     "data": {
      "text/plain": [
       "array([[10, 20],\n",
       "       [30, 40]])"
      ]
     },
     "execution_count": 25,
     "metadata": {},
     "output_type": "execute_result"
    }
   ],
   "source": [
    "A = np.array([[1, 2], [3, 4]])\n",
    "A * 10"
   ]
  },
  {
   "cell_type": "code",
   "execution_count": 26,
   "id": "bb0a8996",
   "metadata": {},
   "outputs": [
    {
     "data": {
      "text/plain": [
       "array([[ 10, 200],\n",
       "       [ 30, 400]])"
      ]
     },
     "execution_count": 26,
     "metadata": {},
     "output_type": "execute_result"
    }
   ],
   "source": [
    "A = np.array([[1, 2], [3, 4]])\n",
    "b = np.array([10, 100])\n",
    "A * b"
   ]
  },
  {
   "cell_type": "markdown",
   "id": "4680cf61",
   "metadata": {},
   "source": [
    "## 벡터의 내적과 행렬의 곱"
   ]
  },
  {
   "cell_type": "code",
   "execution_count": 27,
   "id": "4ab2e723",
   "metadata": {},
   "outputs": [
    {
     "data": {
      "text/plain": [
       "32"
      ]
     },
     "execution_count": 27,
     "metadata": {},
     "output_type": "execute_result"
    }
   ],
   "source": [
    "a = np.array([1, 2, 3])\n",
    "b = np.array([4, 5, 6])\n",
    "np.dot(a,b)"
   ]
  },
  {
   "cell_type": "code",
   "execution_count": 28,
   "id": "2be7d769",
   "metadata": {},
   "outputs": [
    {
     "data": {
      "text/plain": [
       "array([[19, 22],\n",
       "       [43, 50]])"
      ]
     },
     "execution_count": 28,
     "metadata": {},
     "output_type": "execute_result"
    }
   ],
   "source": [
    "A = np.array([[1, 2], [3, 4]])\n",
    "B = np.array([[5, 6], [7, 8]])\n",
    "np.matmul(A, B)"
   ]
  },
  {
   "cell_type": "code",
   "execution_count": 29,
   "id": "d26b8e84",
   "metadata": {},
   "outputs": [
    {
     "data": {
      "text/plain": [
       "array([[19, 22],\n",
       "       [43, 50]])"
      ]
     },
     "execution_count": 29,
     "metadata": {},
     "output_type": "execute_result"
    }
   ],
   "source": [
    "A@B"
   ]
  },
  {
   "cell_type": "code",
   "execution_count": 30,
   "id": "119e57ab",
   "metadata": {},
   "outputs": [
    {
     "data": {
      "text/plain": [
       "array([[19, 22],\n",
       "       [43, 50]])"
      ]
     },
     "execution_count": 30,
     "metadata": {},
     "output_type": "execute_result"
    }
   ],
   "source": [
    "np.dot(A, B)"
   ]
  },
  {
   "cell_type": "markdown",
   "id": "ed0b7601",
   "metadata": {},
   "source": [
    "# 신경망의 추론"
   ]
  },
  {
   "cell_type": "markdown",
   "id": "638a1c5f",
   "metadata": {},
   "source": [
    "## 신경망 추론 전체 그림"
   ]
  },
  {
   "cell_type": "code",
   "execution_count": 31,
   "id": "ffdbecf0",
   "metadata": {},
   "outputs": [],
   "source": [
    "import numpy as np"
   ]
  },
  {
   "cell_type": "code",
   "execution_count": 33,
   "id": "6a530b3d",
   "metadata": {},
   "outputs": [
    {
     "data": {
      "text/plain": [
       "(10, 4)"
      ]
     },
     "execution_count": 33,
     "metadata": {},
     "output_type": "execute_result"
    }
   ],
   "source": [
    "W1 = np.random.randn(2, 4)\n",
    "b1 = np.random.randn(4)\n",
    "x = np.random.randn(10, 2)\n",
    "h = np.matmul(x, W1) + b1\n",
    "h.shape"
   ]
  },
  {
   "cell_type": "code",
   "execution_count": 34,
   "id": "5c3ac253",
   "metadata": {},
   "outputs": [],
   "source": [
    "def sigmoid(x):\n",
    "    return 1/(1+np.exp(-x))"
   ]
  },
  {
   "cell_type": "code",
   "execution_count": 36,
   "id": "fd0920f2",
   "metadata": {},
   "outputs": [],
   "source": [
    "a = sigmoid(h)"
   ]
  },
  {
   "cell_type": "code",
   "execution_count": 37,
   "id": "416fe6ff",
   "metadata": {},
   "outputs": [],
   "source": [
    "W2 = np.random.randn(4, 3)\n",
    "b2 = np.random.randn(3)"
   ]
  },
  {
   "cell_type": "code",
   "execution_count": 38,
   "id": "97f506d9",
   "metadata": {},
   "outputs": [
    {
     "data": {
      "text/plain": [
       "(10, 3)"
      ]
     },
     "execution_count": 38,
     "metadata": {},
     "output_type": "execute_result"
    }
   ],
   "source": [
    "s = np.matmul(a, W2) + b2\n",
    "s.shape"
   ]
  },
  {
   "cell_type": "markdown",
   "id": "4de41444",
   "metadata": {},
   "source": [
    "## 계층으로 클래스화 및 순전파 구현"
   ]
  },
  {
   "cell_type": "code",
   "execution_count": 39,
   "id": "1a57e2cf",
   "metadata": {},
   "outputs": [],
   "source": [
    "import numpy as np\n",
    "\n",
    "class Sigmoid:\n",
    "    def __init__(self):\n",
    "        self.params = []\n",
    "        \n",
    "    def forward(self, x):\n",
    "        return 1/(1+np.exp(-x))"
   ]
  },
  {
   "cell_type": "code",
   "execution_count": 40,
   "id": "586a0a67",
   "metadata": {},
   "outputs": [],
   "source": [
    "class Affine:\n",
    "    def __init__(self, W, b):\n",
    "        self.params = [W, b]\n",
    "        \n",
    "    def forward(self, x):\n",
    "        W, b = self.params\n",
    "        out = np.matmul(x, W) + b\n",
    "        return out"
   ]
  },
  {
   "cell_type": "code",
   "execution_count": 41,
   "id": "c604d438",
   "metadata": {},
   "outputs": [],
   "source": [
    "class TwoLayerNet:\n",
    "    def __init__(self, input_size, hidden_size, output_size):\n",
    "        I, H, O = input_size, hidden_size, output_size\n",
    "        \n",
    "        W1 = np.random.randn(I, H)\n",
    "        b1 = np.random.randn(H)\n",
    "        W2 = np.random.randn(H, O)\n",
    "        b2 = np.random.randn(O)\n",
    "        \n",
    "        self.layers = [\n",
    "            Affine(W1, b1),\n",
    "            Sigmoid(),\n",
    "            Affine(W2, b2)\n",
    "        ]\n",
    "        \n",
    "        self.params = []\n",
    "        for layer in self.layers:\n",
    "            self.params += layer.params\n",
    "            \n",
    "    def predict(self, x):\n",
    "        for layer in self.layers:\n",
    "            x = layer.forward(x)\n",
    "        return x"
   ]
  },
  {
   "cell_type": "code",
   "execution_count": 42,
   "id": "08f5880c",
   "metadata": {},
   "outputs": [
    {
     "data": {
      "text/plain": [
       "['A', 'B', 'C', 'D']"
      ]
     },
     "execution_count": 42,
     "metadata": {},
     "output_type": "execute_result"
    }
   ],
   "source": [
    "a = ['A', 'B']\n",
    "a += ['C', 'D']\n",
    "a"
   ]
  },
  {
   "cell_type": "code",
   "execution_count": 43,
   "id": "18898612",
   "metadata": {},
   "outputs": [],
   "source": [
    "x = np.random.randn(10, 2)\n",
    "model = TwoLayerNet(2, 4, 3)\n",
    "s = model.predict(x)"
   ]
  },
  {
   "cell_type": "code",
   "execution_count": 44,
   "id": "208d18d4",
   "metadata": {},
   "outputs": [
    {
     "data": {
      "text/plain": [
       "(10, 3)"
      ]
     },
     "execution_count": 44,
     "metadata": {},
     "output_type": "execute_result"
    }
   ],
   "source": [
    "s.shape"
   ]
  },
  {
   "cell_type": "markdown",
   "id": "fb5a574b",
   "metadata": {},
   "source": [
    "# 신경망의 학습"
   ]
  },
  {
   "cell_type": "markdown",
   "id": "ca51ec9d",
   "metadata": {},
   "source": [
    "## 손실 함수"
   ]
  },
  {
   "cell_type": "code",
   "execution_count": 46,
   "id": "8ea38e54",
   "metadata": {},
   "outputs": [],
   "source": [
    "def cross_entropy_error(y, t):\n",
    "    if y.ndim == 1:\n",
    "        t = t.reshape(1, t.size)\n",
    "        y = y.reshape(1, y.size)\n",
    "\n",
    "    # 정답 데이터가 원핫 벡터일 경우 정답 레이블 인덱스로 변환\n",
    "    if t.size == y.size:\n",
    "        t = t.argmax(axis=1)\n",
    "    \n",
    "    batch_size = y.shape[0]\n",
    "\n",
    "    cross_entropy = np.log(y[np.arange(batch_size), t] + 1e-7)\n",
    "    loss = -np.sum(cross_entropy) / batch_size\n",
    "    \n",
    "    return loss"
   ]
  },
  {
   "cell_type": "code",
   "execution_count": 47,
   "id": "5805e271",
   "metadata": {},
   "outputs": [],
   "source": [
    "class SigmoidWithLoss:\n",
    "    def __init__(self):\n",
    "        self.params, self.grads = [], []\n",
    "        self.loss = None\n",
    "        self.y = None  # sigmoid의 출력\n",
    "        self.t = None  # 정답 데이터\n",
    "\n",
    "    def forward(self, x, t):\n",
    "        self.t = t\n",
    "        self.y = 1 / (1 + np.exp(-x))\n",
    "\n",
    "        self.loss = cross_entropy_error(np.c_[1 - self.y, self.y], self.t) # No에 대한 확률, Yes에 대한 확률\n",
    "\n",
    "        return self.loss\n",
    "\n",
    "    def backward(self, dout=1):\n",
    "        batch_size = self.t.shape[0]\n",
    "\n",
    "        dx = (self.y - self.t) * dout / batch_size\n",
    "        return dx"
   ]
  },
  {
   "cell_type": "markdown",
   "id": "9430e735",
   "metadata": {},
   "source": [
    "## 계산 그래프"
   ]
  },
  {
   "cell_type": "markdown",
   "id": "89d584d0",
   "metadata": {},
   "source": [
    "*Repeat 노드*"
   ]
  },
  {
   "cell_type": "code",
   "execution_count": 48,
   "id": "9b7946c9",
   "metadata": {},
   "outputs": [
    {
     "data": {
      "text/plain": [
       "(1, 8)"
      ]
     },
     "execution_count": 48,
     "metadata": {},
     "output_type": "execute_result"
    }
   ],
   "source": [
    "import numpy as np\n",
    "\n",
    "D, N = 8, 7\n",
    "x = np.random.randn(1, D)\n",
    "x.shape"
   ]
  },
  {
   "cell_type": "code",
   "execution_count": 49,
   "id": "e1ca5435",
   "metadata": {},
   "outputs": [
    {
     "data": {
      "text/plain": [
       "(7, 8)"
      ]
     },
     "execution_count": 49,
     "metadata": {},
     "output_type": "execute_result"
    }
   ],
   "source": [
    "y = np.repeat(x, N, axis=0)\n",
    "y.shape"
   ]
  },
  {
   "cell_type": "code",
   "execution_count": 51,
   "id": "395c794a",
   "metadata": {},
   "outputs": [
    {
     "data": {
      "text/plain": [
       "(7, 8)"
      ]
     },
     "execution_count": 51,
     "metadata": {},
     "output_type": "execute_result"
    }
   ],
   "source": [
    "dy = np.random.randn(N, D)\n",
    "dy.shape"
   ]
  },
  {
   "cell_type": "code",
   "execution_count": 53,
   "id": "e13e70ca",
   "metadata": {},
   "outputs": [
    {
     "data": {
      "text/plain": [
       "(1, 8)"
      ]
     },
     "execution_count": 53,
     "metadata": {},
     "output_type": "execute_result"
    }
   ],
   "source": [
    "dx = np.sum(dy, axis=0, keepdims=True)\n",
    "dx.shape"
   ]
  },
  {
   "cell_type": "code",
   "execution_count": 54,
   "id": "260575ee",
   "metadata": {},
   "outputs": [
    {
     "data": {
      "text/plain": [
       "(8,)"
      ]
     },
     "execution_count": 54,
     "metadata": {},
     "output_type": "execute_result"
    }
   ],
   "source": [
    "dx = np.sum(dy, axis=0, keepdims=False)\n",
    "dx.shape"
   ]
  },
  {
   "cell_type": "markdown",
   "id": "bcd81aa2",
   "metadata": {},
   "source": [
    "*Sum 노드*"
   ]
  },
  {
   "cell_type": "code",
   "execution_count": 56,
   "id": "4479eea9",
   "metadata": {},
   "outputs": [
    {
     "data": {
      "text/plain": [
       "(7, 8)"
      ]
     },
     "execution_count": 56,
     "metadata": {},
     "output_type": "execute_result"
    }
   ],
   "source": [
    "import numpy as np\n",
    "D, N = 8, 7\n",
    "x = np.random.randn(N, D)\n",
    "x.shape"
   ]
  },
  {
   "cell_type": "code",
   "execution_count": 57,
   "id": "3286b5bb",
   "metadata": {},
   "outputs": [
    {
     "data": {
      "text/plain": [
       "(1, 8)"
      ]
     },
     "execution_count": 57,
     "metadata": {},
     "output_type": "execute_result"
    }
   ],
   "source": [
    "y = np.sum(x, axis=0, keepdims=True)\n",
    "y.shape"
   ]
  },
  {
   "cell_type": "code",
   "execution_count": 58,
   "id": "d019f0fb",
   "metadata": {},
   "outputs": [
    {
     "data": {
      "text/plain": [
       "(1, 8)"
      ]
     },
     "execution_count": 58,
     "metadata": {},
     "output_type": "execute_result"
    }
   ],
   "source": [
    "dy = np.random.randn(1, D)\n",
    "dy.shape"
   ]
  },
  {
   "cell_type": "code",
   "execution_count": 59,
   "id": "03bc8581",
   "metadata": {},
   "outputs": [
    {
     "data": {
      "text/plain": [
       "(7, 8)"
      ]
     },
     "execution_count": 59,
     "metadata": {},
     "output_type": "execute_result"
    }
   ],
   "source": [
    "dx = np.repeat(dy, N, axis=0)\n",
    "dx.shape"
   ]
  },
  {
   "cell_type": "markdown",
   "id": "139b10ca",
   "metadata": {},
   "source": [
    "*MatMul 노드*"
   ]
  },
  {
   "cell_type": "code",
   "execution_count": 60,
   "id": "a017a23c",
   "metadata": {},
   "outputs": [],
   "source": [
    "class MatMul:\n",
    "    def __init__(self, W):\n",
    "        self.params = [W]\n",
    "        self.grads = [np.zeros_like(W)]\n",
    "        self.x = None\n",
    "        \n",
    "    def forward(self, x):\n",
    "        W, = self.prams \n",
    "        out = np.matmul(x, W)\n",
    "        self.x = x\n",
    "        return out\n",
    "    \n",
    "    def backward(self, dout):\n",
    "        W, = self.params\n",
    "        dx = np.matmul(dout, W.T)\n",
    "        dW = np.amtmulself.x.T, dout\n",
    "        self.grads[0][...] = dW\n",
    "        return dx"
   ]
  },
  {
   "cell_type": "code",
   "execution_count": 66,
   "id": "5f9a2484",
   "metadata": {},
   "outputs": [
    {
     "data": {
      "text/plain": [
       "True"
      ]
     },
     "execution_count": 66,
     "metadata": {},
     "output_type": "execute_result"
    }
   ],
   "source": [
    "a = np.array([1, 2, 3])\n",
    "b = np.array([4, 5, 6])\n",
    "a = b\n",
    "a is b"
   ]
  },
  {
   "cell_type": "code",
   "execution_count": 67,
   "id": "e551ad5c",
   "metadata": {},
   "outputs": [
    {
     "data": {
      "text/plain": [
       "False"
      ]
     },
     "execution_count": 67,
     "metadata": {},
     "output_type": "execute_result"
    }
   ],
   "source": [
    "a = np.array([1, 2, 3])\n",
    "b = np.array([4, 5, 6])\n",
    "a[...] = b\n",
    "a is b"
   ]
  },
  {
   "cell_type": "markdown",
   "id": "b41c6c96",
   "metadata": {},
   "source": [
    "## 기울기 도출과 역전파 구현"
   ]
  },
  {
   "cell_type": "markdown",
   "id": "c314d646",
   "metadata": {},
   "source": [
    "*Sigmoid 계층*"
   ]
  },
  {
   "cell_type": "code",
   "execution_count": 69,
   "id": "c5243718",
   "metadata": {},
   "outputs": [],
   "source": [
    "class Sigmoid:\n",
    "    def __init__(self):\n",
    "        self.params, self.grads = [], []\n",
    "        self.out = None\n",
    "        \n",
    "    def forward(self, x):\n",
    "        out = 1 / (1 + np.exp(-x))\n",
    "        self.out = out\n",
    "        return out\n",
    "    \n",
    "    def backward(self, dout):\n",
    "        dx = dout * (1.0 - self.out)*self.out\n",
    "        return dx"
   ]
  },
  {
   "cell_type": "markdown",
   "id": "b31ceff1",
   "metadata": {},
   "source": [
    "*Affine 계층*"
   ]
  },
  {
   "cell_type": "code",
   "execution_count": 70,
   "id": "344a2d74",
   "metadata": {},
   "outputs": [],
   "source": [
    "class Affine:\n",
    "    def __init__(self, W, b):\n",
    "        self.params = [W, b]\n",
    "        self.grads = [np.zeros_like(W), np.zeros_like(b)]\n",
    "        self.x = None\n",
    "        \n",
    "    def forward(self, x):\n",
    "        W, b = self.params\n",
    "        out = np.matmul(x, W) + b\n",
    "        self.x = x\n",
    "        return out\n",
    "    \n",
    "    def backward(self, dout):\n",
    "        W, b = self.params\n",
    "        dx = np.matmul(dout, W.T)\n",
    "        dW = np.matmul(self.x.T, dout)\n",
    "        db = np.sum(dout, axis=0)\n",
    "        \n",
    "        self.grads[0][...] = dW\n",
    "        self.grads[1][...] = db\n",
    "        return dx"
   ]
  },
  {
   "cell_type": "markdown",
   "id": "7ecd7447",
   "metadata": {},
   "source": [
    "*Softmax with Loss 계층*"
   ]
  },
  {
   "cell_type": "code",
   "execution_count": 72,
   "id": "e9068273",
   "metadata": {},
   "outputs": [],
   "source": [
    "def softmax(x):\n",
    "    if x.ndim == 2:\n",
    "        # overflow를 막기 위해 입력값 중 \n",
    "        # 최대값을 빼준다. >> 밑러닝-1, 3.5.2 참고\n",
    "        x = x - x.max(axis=1, keepdims=True)\n",
    "        x = np.exp(x)\n",
    "        x /= x.sum(axis=1, keepdims=True)\n",
    "    elif x.ndim == 1:\n",
    "        x = x - np.max(x)\n",
    "        x = np.exp(x) / np.sum(np.exp(x))\n",
    "\n",
    "    return x"
   ]
  },
  {
   "cell_type": "code",
   "execution_count": 71,
   "id": "ede6ba20",
   "metadata": {},
   "outputs": [],
   "source": [
    "class SoftmaxWithLoss:\n",
    "    def __init__(self):\n",
    "        self.params, self.grads = [], []\n",
    "        self.y = None  # softmax의 출력\n",
    "        self.t = None  # 정답 레이블\n",
    "\n",
    "    def forward(self, x, t):\n",
    "        self.t = t\n",
    "        self.y = softmax(x)\n",
    "\n",
    "        # 정답 레이블이 원핫 벡터일 경우 정답의 인덱스로 변환\n",
    "        # cross_entropy_error()에 이미 있어서 굳이 필요 없을 듯\n",
    "        if self.t.size == self.y.size:\n",
    "            self.t = self.t. argmax(axis=1)\n",
    "\n",
    "        loss = cross_entropy_error(self.y, self.t)\n",
    "        return loss\n",
    "\n",
    "    def backward(self, dout=1):\n",
    "        batch_size = self.t.shape[0]\n",
    "\n",
    "        dx = self.y.copy()\n",
    "        dx[np.arange(batch_size), self.t] -= 1\n",
    "        dx *= dout\n",
    "        dx /= batch_size\n",
    "\n",
    "        return dx"
   ]
  },
  {
   "cell_type": "markdown",
   "id": "05f6fdb8",
   "metadata": {},
   "source": [
    "## 가중치 갱신"
   ]
  },
  {
   "cell_type": "code",
   "execution_count": 73,
   "id": "86f552c4",
   "metadata": {},
   "outputs": [],
   "source": [
    "class SGD:\n",
    "    def __init__(self, lr=0.01):\n",
    "        self.lr= lr\n",
    "        \n",
    "    def update(self, params, grads):\n",
    "        for i in range(len(params)):\n",
    "            params[i] -= self.lr * grads[i]"
   ]
  },
  {
   "cell_type": "markdown",
   "id": "851ef33b",
   "metadata": {},
   "source": [
    "# 신경망으로 문제를 풀다"
   ]
  },
  {
   "cell_type": "markdown",
   "id": "4234579c",
   "metadata": {},
   "source": [
    "## 스파이럴 데이터셋"
   ]
  },
  {
   "cell_type": "code",
   "execution_count": 1,
   "id": "a3b118f6",
   "metadata": {},
   "outputs": [
    {
     "data": {
      "text/plain": [
       "((300, 2), (300, 3))"
      ]
     },
     "execution_count": 1,
     "metadata": {},
     "output_type": "execute_result"
    }
   ],
   "source": [
    "from dataset import spiral\n",
    "import matplotlib.pyplot as plt\n",
    "\n",
    "x, t = spiral.load_data()\n",
    "x.shape, t.shape"
   ]
  },
  {
   "cell_type": "markdown",
   "id": "7a0bffc9",
   "metadata": {},
   "source": [
    "## 학습용 코드"
   ]
  },
  {
   "cell_type": "code",
   "execution_count": 11,
   "id": "6a0d95c6",
   "metadata": {},
   "outputs": [],
   "source": [
    "from common.optimizer import SGD\n",
    "from dataset import spiral\n",
    "import matplotlib.pyplot as plt"
   ]
  },
  {
   "cell_type": "code",
   "execution_count": 12,
   "id": "23e63485",
   "metadata": {},
   "outputs": [],
   "source": [
    "import numpy as np\n",
    "from common.layers import Affine, Sigmoid, SoftmaxWithLoss\n",
    "\n",
    "class TwoLayerNet:\n",
    "    def __init__(self, input_size, hidden_size, output_size):\n",
    "        I, H, O = input_size, hidden_size, output_size\n",
    "        \n",
    "        # 가중치와 편향 초기화\n",
    "        W1 = 0.01 * np.random.randn(I, H)\n",
    "        b1 = np.zeros(H)\n",
    "        W2 = 0.01 * np.random.randn(H, O)\n",
    "        b2 = np.zeros(O)\n",
    "        \n",
    "        # 레이어 생성\n",
    "        self.layers = [\n",
    "            Affine(W1, b1),\n",
    "            Sigmoid(),\n",
    "            Affine(W2, b2)\n",
    "        ]\n",
    "        self.loss_layer = SoftmaxWithLoss()\n",
    "        \n",
    "        # 모든 가중치와 기울기를 리스트에 모은다.\n",
    "        self.params, self.grads = [], []\n",
    "        for layer in self.layers:\n",
    "            self.params += layer.params\n",
    "            self.grads += layer.grads\n",
    "            \n",
    "    def predict(self, x):\n",
    "        for layer in self.layers:\n",
    "            x = layer.forward(x)\n",
    "        return x\n",
    "    \n",
    "    def forward(self, x, t):\n",
    "        score = self.predict(x)\n",
    "        loss = self.loss_layer.forward(score, t)\n",
    "        return loss\n",
    "    \n",
    "    def backward(self, dout=1):\n",
    "        dout = self.loss_layer.backward(dout)\n",
    "        for layer in reversed(self.layers):\n",
    "            dout = layer.backward(dout)\n",
    "        return dout"
   ]
  },
  {
   "cell_type": "code",
   "execution_count": 17,
   "id": "2154d677",
   "metadata": {},
   "outputs": [],
   "source": [
    "max_epoch = 300\n",
    "batch_size = 30\n",
    "hidden_size = 10\n",
    "learning_rate = 1.0"
   ]
  },
  {
   "cell_type": "code",
   "execution_count": 18,
   "id": "9f4ed894",
   "metadata": {},
   "outputs": [],
   "source": [
    "x, t = spiral.load_data()\n",
    "model = TwoLayerNet(input_size=2, hidden_size=hidden_size, output_size=3)\n",
    "optimizer = SGD(lr=learning_rate)"
   ]
  },
  {
   "cell_type": "code",
   "execution_count": 19,
   "id": "693450ba",
   "metadata": {},
   "outputs": [],
   "source": [
    "data_size = len(x)\n",
    "max_iters = data_size // batch_size\n",
    "total_loss = 0\n",
    "loss_count = 0\n",
    "loss_list = []"
   ]
  },
  {
   "cell_type": "code",
   "execution_count": 20,
   "id": "3dc97768",
   "metadata": {},
   "outputs": [],
   "source": [
    "from tqdm import tqdm"
   ]
  },
  {
   "cell_type": "code",
   "execution_count": 23,
   "id": "e8b89d04",
   "metadata": {},
   "outputs": [
    {
     "name": "stdout",
     "output_type": "stream",
     "text": [
      "epoch : 1, iters : 10/10, loss : 1.1256062166823237\n",
      "epoch : 2, iters : 10/10, loss : 1.1255202354489933\n",
      "epoch : 3, iters : 10/10, loss : 1.1162613752115285\n",
      "epoch : 4, iters : 10/10, loss : 1.1162867078413503\n",
      "epoch : 5, iters : 10/10, loss : 1.1123000112951948\n",
      "epoch : 6, iters : 10/10, loss : 1.1384639824108038\n",
      "epoch : 7, iters : 10/10, loss : 1.1590961883070312\n",
      "epoch : 8, iters : 10/10, loss : 1.1086316143023154\n",
      "epoch : 9, iters : 10/10, loss : 1.1173305676924539\n",
      "epoch : 10, iters : 10/10, loss : 1.1287957712269248\n",
      "epoch : 11, iters : 10/10, loss : 1.1168438089353867\n",
      "epoch : 12, iters : 10/10, loss : 1.108338779101816\n",
      "epoch : 13, iters : 10/10, loss : 1.087614920049946\n",
      "epoch : 14, iters : 10/10, loss : 1.0766813865819347\n",
      "epoch : 15, iters : 10/10, loss : 1.0442376735950387\n",
      "epoch : 16, iters : 10/10, loss : 1.034578262633777\n",
      "epoch : 17, iters : 10/10, loss : 0.9572932039643971\n",
      "epoch : 18, iters : 10/10, loss : 0.9183853210879447\n",
      "epoch : 19, iters : 10/10, loss : 0.9241491096212101\n",
      "epoch : 20, iters : 10/10, loss : 0.8685139076509195\n",
      "epoch : 21, iters : 10/10, loss : 0.8493807047841541\n",
      "epoch : 22, iters : 10/10, loss : 0.8171629191788113\n",
      "epoch : 23, iters : 10/10, loss : 0.7924414711357767\n",
      "epoch : 24, iters : 10/10, loss : 0.7826646392986113\n",
      "epoch : 25, iters : 10/10, loss : 0.8235432039035638\n",
      "epoch : 26, iters : 10/10, loss : 0.7754573601774307\n",
      "epoch : 27, iters : 10/10, loss : 0.7557857636797779\n",
      "epoch : 28, iters : 10/10, loss : 0.7644773546985875\n",
      "epoch : 29, iters : 10/10, loss : 0.783489908441849\n",
      "epoch : 30, iters : 10/10, loss : 0.7507895610696302\n",
      "epoch : 31, iters : 10/10, loss : 0.7773067036165258\n",
      "epoch : 32, iters : 10/10, loss : 0.7650839562418821\n",
      "epoch : 33, iters : 10/10, loss : 0.7727897179944695\n",
      "epoch : 34, iters : 10/10, loss : 0.7819402998382252\n",
      "epoch : 35, iters : 10/10, loss : 0.7479802970891093\n",
      "epoch : 36, iters : 10/10, loss : 0.7449918634368045\n",
      "epoch : 37, iters : 10/10, loss : 0.7560347486336814\n",
      "epoch : 38, iters : 10/10, loss : 0.7621365677235411\n",
      "epoch : 39, iters : 10/10, loss : 0.7308895411004578\n",
      "epoch : 40, iters : 10/10, loss : 0.7530268898576873\n",
      "epoch : 41, iters : 10/10, loss : 0.7598416342022494\n",
      "epoch : 42, iters : 10/10, loss : 0.7594443798911803\n",
      "epoch : 43, iters : 10/10, loss : 0.7609245612331736\n",
      "epoch : 44, iters : 10/10, loss : 0.7385235003122192\n",
      "epoch : 45, iters : 10/10, loss : 0.7483287079215573\n",
      "epoch : 46, iters : 10/10, loss : 0.7322123222567571\n",
      "epoch : 47, iters : 10/10, loss : 0.7226947264484566\n",
      "epoch : 48, iters : 10/10, loss : 0.7329453633807873\n",
      "epoch : 49, iters : 10/10, loss : 0.7228591003722222\n",
      "epoch : 50, iters : 10/10, loss : 0.7225109819294906\n",
      "epoch : 51, iters : 10/10, loss : 0.7151355271138069\n",
      "epoch : 52, iters : 10/10, loss : 0.7195462325887141\n",
      "epoch : 53, iters : 10/10, loss : 0.7375188235491986\n",
      "epoch : 54, iters : 10/10, loss : 0.7361580823220939\n",
      "epoch : 55, iters : 10/10, loss : 0.7224648808897995\n",
      "epoch : 56, iters : 10/10, loss : 0.7182891638960813\n",
      "epoch : 57, iters : 10/10, loss : 0.7074840271194414\n",
      "epoch : 58, iters : 10/10, loss : 0.7004036126944775\n",
      "epoch : 59, iters : 10/10, loss : 0.7172821745385198\n",
      "epoch : 60, iters : 10/10, loss : 0.7014167269154442\n",
      "epoch : 61, iters : 10/10, loss : 0.7139798052248812\n",
      "epoch : 62, iters : 10/10, loss : 0.7158390973991745\n",
      "epoch : 63, iters : 10/10, loss : 0.7024145847917299\n",
      "epoch : 64, iters : 10/10, loss : 0.7147655630827304\n",
      "epoch : 65, iters : 10/10, loss : 0.7258385981107363\n",
      "epoch : 66, iters : 10/10, loss : 0.6991952628756113\n",
      "epoch : 67, iters : 10/10, loss : 0.7149037812469095\n",
      "epoch : 68, iters : 10/10, loss : 0.6923793329208153\n",
      "epoch : 69, iters : 10/10, loss : 0.6950715496129249\n",
      "epoch : 70, iters : 10/10, loss : 0.7051743201139317\n",
      "epoch : 71, iters : 10/10, loss : 0.681889220127928\n",
      "epoch : 72, iters : 10/10, loss : 0.6931081236194649\n",
      "epoch : 73, iters : 10/10, loss : 0.667884352913696\n",
      "epoch : 74, iters : 10/10, loss : 0.6795690012596\n",
      "epoch : 75, iters : 10/10, loss : 0.6696918781908964\n",
      "epoch : 76, iters : 10/10, loss : 0.6601032915888687\n",
      "epoch : 77, iters : 10/10, loss : 0.6948944014779306\n",
      "epoch : 78, iters : 10/10, loss : 0.6448714009948227\n",
      "epoch : 79, iters : 10/10, loss : 0.6797970357896567\n",
      "epoch : 80, iters : 10/10, loss : 0.6389928717097754\n",
      "epoch : 81, iters : 10/10, loss : 0.6352100394457482\n",
      "epoch : 82, iters : 10/10, loss : 0.6642182679001876\n",
      "epoch : 83, iters : 10/10, loss : 0.6194764020308782\n",
      "epoch : 84, iters : 10/10, loss : 0.6229674573767083\n",
      "epoch : 85, iters : 10/10, loss : 0.6125107706517633\n",
      "epoch : 86, iters : 10/10, loss : 0.5971911133520728\n",
      "epoch : 87, iters : 10/10, loss : 0.5988198466130643\n",
      "epoch : 88, iters : 10/10, loss : 0.6083885307835829\n",
      "epoch : 89, iters : 10/10, loss : 0.5881132092407987\n",
      "epoch : 90, iters : 10/10, loss : 0.5773251645421092\n",
      "epoch : 91, iters : 10/10, loss : 0.5573829192639743\n",
      "epoch : 92, iters : 10/10, loss : 0.5604590214223\n",
      "epoch : 93, iters : 10/10, loss : 0.5448990532547215\n",
      "epoch : 94, iters : 10/10, loss : 0.5286015850570897\n",
      "epoch : 95, iters : 10/10, loss : 0.5299314123468277\n",
      "epoch : 96, iters : 10/10, loss : 0.516306586263668\n",
      "epoch : 97, iters : 10/10, loss : 0.5124308579159359\n",
      "epoch : 98, iters : 10/10, loss : 0.5016440362124143\n",
      "epoch : 99, iters : 10/10, loss : 0.4844736823098786\n",
      "epoch : 100, iters : 10/10, loss : 0.48000592169629375\n",
      "epoch : 101, iters : 10/10, loss : 0.4609934880592183\n",
      "epoch : 102, iters : 10/10, loss : 0.45402197600669847\n",
      "epoch : 103, iters : 10/10, loss : 0.45357141775905935\n",
      "epoch : 104, iters : 10/10, loss : 0.4429929465269393\n",
      "epoch : 105, iters : 10/10, loss : 0.43615541714274964\n",
      "epoch : 106, iters : 10/10, loss : 0.410493480118897\n",
      "epoch : 107, iters : 10/10, loss : 0.40316418902201956\n",
      "epoch : 108, iters : 10/10, loss : 0.4076112682225583\n",
      "epoch : 109, iters : 10/10, loss : 0.4036238903780628\n",
      "epoch : 110, iters : 10/10, loss : 0.3995146952313427\n",
      "epoch : 111, iters : 10/10, loss : 0.379216740778223\n",
      "epoch : 112, iters : 10/10, loss : 0.37504713978066423\n",
      "epoch : 113, iters : 10/10, loss : 0.3622949849404953\n",
      "epoch : 114, iters : 10/10, loss : 0.367571043980824\n",
      "epoch : 115, iters : 10/10, loss : 0.3461651052610786\n",
      "epoch : 116, iters : 10/10, loss : 0.3448980002901158\n",
      "epoch : 117, iters : 10/10, loss : 0.33528933507001\n",
      "epoch : 118, iters : 10/10, loss : 0.3380741881503325\n",
      "epoch : 119, iters : 10/10, loss : 0.3283438143916969\n",
      "epoch : 120, iters : 10/10, loss : 0.3351965821052376\n",
      "epoch : 121, iters : 10/10, loss : 0.3158394400578506\n",
      "epoch : 122, iters : 10/10, loss : 0.31740678359577446\n",
      "epoch : 123, iters : 10/10, loss : 0.3055809449925829\n",
      "epoch : 124, iters : 10/10, loss : 0.3130674322037681\n",
      "epoch : 125, iters : 10/10, loss : 0.30018221283884194\n",
      "epoch : 126, iters : 10/10, loss : 0.2987418925474239\n",
      "epoch : 127, iters : 10/10, loss : 0.2838029470706274\n",
      "epoch : 128, iters : 10/10, loss : 0.2811840756517868\n",
      "epoch : 129, iters : 10/10, loss : 0.28183411256599317\n",
      "epoch : 130, iters : 10/10, loss : 0.2777145993871099\n",
      "epoch : 131, iters : 10/10, loss : 0.27238825698634833\n",
      "epoch : 132, iters : 10/10, loss : 0.2670771231606996\n",
      "epoch : 133, iters : 10/10, loss : 0.27094530362207125\n",
      "epoch : 134, iters : 10/10, loss : 0.2705724538659976\n",
      "epoch : 135, iters : 10/10, loss : 0.2703088597272764\n",
      "epoch : 136, iters : 10/10, loss : 0.2643726010723015\n",
      "epoch : 137, iters : 10/10, loss : 0.26378305542245906\n",
      "epoch : 138, iters : 10/10, loss : 0.2560501993977536\n",
      "epoch : 139, iters : 10/10, loss : 0.2521541449844562\n",
      "epoch : 140, iters : 10/10, loss : 0.242911129344562\n",
      "epoch : 141, iters : 10/10, loss : 0.23945524042724536\n",
      "epoch : 142, iters : 10/10, loss : 0.24542262746858548\n",
      "epoch : 143, iters : 10/10, loss : 0.23667537176990047\n",
      "epoch : 144, iters : 10/10, loss : 0.2403193106192815\n",
      "epoch : 145, iters : 10/10, loss : 0.2336128881049623\n",
      "epoch : 146, iters : 10/10, loss : 0.23650963179911186\n",
      "epoch : 147, iters : 10/10, loss : 0.2302540765678645\n",
      "epoch : 148, iters : 10/10, loss : 0.2293287190183019\n",
      "epoch : 149, iters : 10/10, loss : 0.22401693146587243\n",
      "epoch : 150, iters : 10/10, loss : 0.2239467653557873\n",
      "epoch : 151, iters : 10/10, loss : 0.2231075781471302\n",
      "epoch : 152, iters : 10/10, loss : 0.22264097958236567\n",
      "epoch : 153, iters : 10/10, loss : 0.2169768347158068\n",
      "epoch : 154, iters : 10/10, loss : 0.21755951288880976\n",
      "epoch : 155, iters : 10/10, loss : 0.21507058662677125\n",
      "epoch : 156, iters : 10/10, loss : 0.2083575532150994\n",
      "epoch : 157, iters : 10/10, loss : 0.20913544783239263\n",
      "epoch : 158, iters : 10/10, loss : 0.20480456033012623\n",
      "epoch : 159, iters : 10/10, loss : 0.20860699412184808\n",
      "epoch : 160, iters : 10/10, loss : 0.19815557489605234\n",
      "epoch : 161, iters : 10/10, loss : 0.2043557188923446\n",
      "epoch : 162, iters : 10/10, loss : 0.1972402074622855\n",
      "epoch : 163, iters : 10/10, loss : 0.21198898405557226\n",
      "epoch : 164, iters : 10/10, loss : 0.19990055286420452\n",
      "epoch : 165, iters : 10/10, loss : 0.19670798433787978\n",
      "epoch : 166, iters : 10/10, loss : 0.19493732434411754\n",
      "epoch : 167, iters : 10/10, loss : 0.1886127560251313\n",
      "epoch : 168, iters : 10/10, loss : 0.18713582913287857\n",
      "epoch : 169, iters : 10/10, loss : 0.18592571707387792\n",
      "epoch : 170, iters : 10/10, loss : 0.18837376894472477\n",
      "epoch : 171, iters : 10/10, loss : 0.18999546718467392\n",
      "epoch : 172, iters : 10/10, loss : 0.18273072019428133\n",
      "epoch : 173, iters : 10/10, loss : 0.18441370204922117\n",
      "epoch : 174, iters : 10/10, loss : 0.1833058740625833\n",
      "epoch : 175, iters : 10/10, loss : 0.18023455480919764\n",
      "epoch : 176, iters : 10/10, loss : 0.1751106485246444\n",
      "epoch : 177, iters : 10/10, loss : 0.17767416217643647\n",
      "epoch : 178, iters : 10/10, loss : 0.17668728636135764\n",
      "epoch : 179, iters : 10/10, loss : 0.17293847154024694\n",
      "epoch : 180, iters : 10/10, loss : 0.1732855132985499\n",
      "epoch : 181, iters : 10/10, loss : 0.17653792738499402\n",
      "epoch : 182, iters : 10/10, loss : 0.17282612618111387\n",
      "epoch : 183, iters : 10/10, loss : 0.17626893090372192\n",
      "epoch : 184, iters : 10/10, loss : 0.17434628901735733\n",
      "epoch : 185, iters : 10/10, loss : 0.16949071085989273\n",
      "epoch : 186, iters : 10/10, loss : 0.17755351335715983\n",
      "epoch : 187, iters : 10/10, loss : 0.17285695698153428\n",
      "epoch : 188, iters : 10/10, loss : 0.1664851439754794\n",
      "epoch : 189, iters : 10/10, loss : 0.16594153132977582\n",
      "epoch : 190, iters : 10/10, loss : 0.16931139951263346\n",
      "epoch : 191, iters : 10/10, loss : 0.16301106121602313\n",
      "epoch : 192, iters : 10/10, loss : 0.16958890572080465\n",
      "epoch : 193, iters : 10/10, loss : 0.16190682431185183\n",
      "epoch : 194, iters : 10/10, loss : 0.15939537909039841\n",
      "epoch : 195, iters : 10/10, loss : 0.16286032857961963\n",
      "epoch : 196, iters : 10/10, loss : 0.1612419736005514\n",
      "epoch : 197, iters : 10/10, loss : 0.16364914579280584\n",
      "epoch : 198, iters : 10/10, loss : 0.1527678767991843\n",
      "epoch : 199, iters : 10/10, loss : 0.15970328019708854\n",
      "epoch : 200, iters : 10/10, loss : 0.15747782851517927\n",
      "epoch : 201, iters : 10/10, loss : 0.1546769422097931\n",
      "epoch : 202, iters : 10/10, loss : 0.15693770655217196\n",
      "epoch : 203, iters : 10/10, loss : 0.15547652786727317\n",
      "epoch : 204, iters : 10/10, loss : 0.15394834058798224\n",
      "epoch : 205, iters : 10/10, loss : 0.15758367150781263\n",
      "epoch : 206, iters : 10/10, loss : 0.15348488267419583\n",
      "epoch : 207, iters : 10/10, loss : 0.15446293102249106\n",
      "epoch : 208, iters : 10/10, loss : 0.14767977186639944\n",
      "epoch : 209, iters : 10/10, loss : 0.15141489293752292\n",
      "epoch : 210, iters : 10/10, loss : 0.14935646270420935\n"
     ]
    },
    {
     "name": "stdout",
     "output_type": "stream",
     "text": [
      "epoch : 211, iters : 10/10, loss : 0.1517051939074466\n",
      "epoch : 212, iters : 10/10, loss : 0.14755917786826167\n",
      "epoch : 213, iters : 10/10, loss : 0.14785145742055816\n",
      "epoch : 214, iters : 10/10, loss : 0.14515980626797967\n",
      "epoch : 215, iters : 10/10, loss : 0.14678399383604496\n",
      "epoch : 216, iters : 10/10, loss : 0.14388363320088363\n",
      "epoch : 217, iters : 10/10, loss : 0.14259768661059324\n",
      "epoch : 218, iters : 10/10, loss : 0.14555184796511328\n",
      "epoch : 219, iters : 10/10, loss : 0.13922422236572768\n",
      "epoch : 220, iters : 10/10, loss : 0.13730944343188065\n",
      "epoch : 221, iters : 10/10, loss : 0.14410598841352623\n",
      "epoch : 222, iters : 10/10, loss : 0.14050778228166325\n",
      "epoch : 223, iters : 10/10, loss : 0.14224984249809608\n",
      "epoch : 224, iters : 10/10, loss : 0.1425464066689685\n",
      "epoch : 225, iters : 10/10, loss : 0.13667202381979068\n",
      "epoch : 226, iters : 10/10, loss : 0.13659011900484852\n",
      "epoch : 227, iters : 10/10, loss : 0.1425166520507039\n",
      "epoch : 228, iters : 10/10, loss : 0.13608657183237466\n",
      "epoch : 229, iters : 10/10, loss : 0.12909966921321342\n",
      "epoch : 230, iters : 10/10, loss : 0.13883107120690036\n",
      "epoch : 231, iters : 10/10, loss : 0.1314233707388209\n",
      "epoch : 232, iters : 10/10, loss : 0.13594951747222697\n",
      "epoch : 233, iters : 10/10, loss : 0.13429273376232004\n",
      "epoch : 234, iters : 10/10, loss : 0.13144069789855412\n",
      "epoch : 235, iters : 10/10, loss : 0.1314826917787814\n",
      "epoch : 236, iters : 10/10, loss : 0.1286067373841916\n",
      "epoch : 237, iters : 10/10, loss : 0.13539204860157283\n",
      "epoch : 238, iters : 10/10, loss : 0.1322310177459311\n",
      "epoch : 239, iters : 10/10, loss : 0.1313462882353802\n",
      "epoch : 240, iters : 10/10, loss : 0.13781596053410872\n",
      "epoch : 241, iters : 10/10, loss : 0.1336728687160506\n",
      "epoch : 242, iters : 10/10, loss : 0.12860547570667213\n",
      "epoch : 243, iters : 10/10, loss : 0.12775015207856277\n",
      "epoch : 244, iters : 10/10, loss : 0.13002243546645448\n",
      "epoch : 245, iters : 10/10, loss : 0.13145974901706828\n",
      "epoch : 246, iters : 10/10, loss : 0.12796605893873636\n",
      "epoch : 247, iters : 10/10, loss : 0.12643439113307095\n",
      "epoch : 248, iters : 10/10, loss : 0.1320104190640848\n",
      "epoch : 249, iters : 10/10, loss : 0.12779009853793583\n",
      "epoch : 250, iters : 10/10, loss : 0.13040328847998245\n",
      "epoch : 251, iters : 10/10, loss : 0.13348456295442598\n",
      "epoch : 252, iters : 10/10, loss : 0.12453963049125032\n",
      "epoch : 253, iters : 10/10, loss : 0.1213267569111151\n",
      "epoch : 254, iters : 10/10, loss : 0.12286008452064731\n",
      "epoch : 255, iters : 10/10, loss : 0.12267013423577508\n",
      "epoch : 256, iters : 10/10, loss : 0.12312488940516719\n",
      "epoch : 257, iters : 10/10, loss : 0.12127839505918622\n",
      "epoch : 258, iters : 10/10, loss : 0.12467328584597168\n",
      "epoch : 259, iters : 10/10, loss : 0.13195709803216443\n",
      "epoch : 260, iters : 10/10, loss : 0.120266572365163\n",
      "epoch : 261, iters : 10/10, loss : 0.12500316552637755\n",
      "epoch : 262, iters : 10/10, loss : 0.12062063523861197\n",
      "epoch : 263, iters : 10/10, loss : 0.1181079868686632\n",
      "epoch : 264, iters : 10/10, loss : 0.12681552271035704\n",
      "epoch : 265, iters : 10/10, loss : 0.11807400896605262\n",
      "epoch : 266, iters : 10/10, loss : 0.12014005000495143\n",
      "epoch : 267, iters : 10/10, loss : 0.11993006486808408\n",
      "epoch : 268, iters : 10/10, loss : 0.11732517384704752\n",
      "epoch : 269, iters : 10/10, loss : 0.11360477597904675\n",
      "epoch : 270, iters : 10/10, loss : 0.1188825011780881\n",
      "epoch : 271, iters : 10/10, loss : 0.11633511040515605\n",
      "epoch : 272, iters : 10/10, loss : 0.11825391183559257\n",
      "epoch : 273, iters : 10/10, loss : 0.11623703569727487\n",
      "epoch : 274, iters : 10/10, loss : 0.12322514116418914\n",
      "epoch : 275, iters : 10/10, loss : 0.1132633426127632\n",
      "epoch : 276, iters : 10/10, loss : 0.11580125295481192\n",
      "epoch : 277, iters : 10/10, loss : 0.12418527047451149\n",
      "epoch : 278, iters : 10/10, loss : 0.11289494501453376\n",
      "epoch : 279, iters : 10/10, loss : 0.11077561346473122\n",
      "epoch : 280, iters : 10/10, loss : 0.11431217925067247\n",
      "epoch : 281, iters : 10/10, loss : 0.11427378474471332\n",
      "epoch : 282, iters : 10/10, loss : 0.11731530918730071\n",
      "epoch : 283, iters : 10/10, loss : 0.11173984745596406\n",
      "epoch : 284, iters : 10/10, loss : 0.11382437328275699\n",
      "epoch : 285, iters : 10/10, loss : 0.11354569974260223\n",
      "epoch : 286, iters : 10/10, loss : 0.11082773737319432\n",
      "epoch : 287, iters : 10/10, loss : 0.1123564539147002\n",
      "epoch : 288, iters : 10/10, loss : 0.11698939249450449\n",
      "epoch : 289, iters : 10/10, loss : 0.11394781289859848\n",
      "epoch : 290, iters : 10/10, loss : 0.11472703869653116\n",
      "epoch : 291, iters : 10/10, loss : 0.11195179439782435\n",
      "epoch : 292, iters : 10/10, loss : 0.1125271442536377\n",
      "epoch : 293, iters : 10/10, loss : 0.11019011632052718\n",
      "epoch : 294, iters : 10/10, loss : 0.11147947028025715\n",
      "epoch : 295, iters : 10/10, loss : 0.11578316334144993\n",
      "epoch : 296, iters : 10/10, loss : 0.11022282695739694\n",
      "epoch : 297, iters : 10/10, loss : 0.11966849814776911\n",
      "epoch : 298, iters : 10/10, loss : 0.11160268411696472\n",
      "epoch : 299, iters : 10/10, loss : 0.10668719692739766\n",
      "epoch : 300, iters : 10/10, loss : 0.10854954795724311\n"
     ]
    }
   ],
   "source": [
    "for epoch in range(max_epoch):\n",
    "    idx = np.random.permutation(data_size)\n",
    "    x = x[idx]\n",
    "    t = t[idx]\n",
    "    \n",
    "    for iters in range(max_iters):\n",
    "        batch_x = x[iters*batch_size : (iters+1)*batch_size]\n",
    "        batch_t = t[iters*batch_size : (iters+1)*batch_size]\n",
    "        \n",
    "        loss = model.forward(batch_x, batch_t)\n",
    "        model.backward()\n",
    "        optimizer.update(model.params, model.grads)\n",
    "        \n",
    "        total_loss += loss\n",
    "        loss_count += 1\n",
    "        \n",
    "        if (iters+1)%10 == 0:\n",
    "            avg_loss = total_loss / loss_count\n",
    "            print(f'epoch : {epoch +1}, iters : {iters+1}/{max_iters}, loss : {avg_loss}')\n",
    "            loss_list.append(avg_loss)\n",
    "            total_loss, loss_count = 0, 0"
   ]
  },
  {
   "cell_type": "code",
   "execution_count": 25,
   "id": "c73887ca",
   "metadata": {},
   "outputs": [
    {
     "name": "stderr",
     "output_type": "stream",
     "text": [
      "/tmp/ipykernel_2412482/1826209167.py:17: MatplotlibDeprecationWarning: The seaborn styles shipped by Matplotlib are deprecated since 3.6, as they no longer correspond to the styles shipped by seaborn. However, they will remain available as 'seaborn-v0_8-<style>'. Alternatively, directly use the seaborn API instead.\n",
      "  plt.style.use('seaborn')\n"
     ]
    }
   ],
   "source": [
    "import matplotlib.pyplot as plt\n",
    "\n",
    "\n",
    "def get_font_family():\n",
    "    import platform\n",
    "    system_name = platform.system()\n",
    "    if system_name == \"Darwin\" :\n",
    "        font_family = \"AppleGothic\"\n",
    "    elif system_name == \"Windows\":\n",
    "        font_family = \"Malgun Gothic\"\n",
    "    elif system_name == \"Linux\":\n",
    "        font_family = \"NanumGothic\"\n",
    "    return font_family\n",
    "\n",
    "\n",
    "font_family = get_font_family()\n",
    "plt.style.use('seaborn')\n",
    "plt.rc(\"font\", family=font_family)\n",
    "plt.rc('axes', unicode_minus=False)\n",
    "%config InlineBackend.figure_format='retina'"
   ]
  },
  {
   "cell_type": "code",
   "execution_count": 26,
   "id": "ec529594",
   "metadata": {},
   "outputs": [
    {
     "data": {
      "image/png": "[encoded data removed]",
      "text/plain": [
       "<Figure size 800x550 with 1 Axes>"
      ]
     },
     "metadata": {
      "image/png": {
       "height": 486,
       "width": 689
      }
     },
     "output_type": "display_data"
    }
   ],
   "source": [
    "# 학습 결과 플롯\n",
    "plt.plot(np.arange(len(loss_list)), loss_list, label='train')\n",
    "plt.xlabel('반복 (x10)')\n",
    "plt.ylabel('손실')\n",
    "plt.show()"
   ]
  },
  {
   "cell_type": "code",
   "execution_count": 29,
   "id": "30dd2dc3",
   "metadata": {},
   "outputs": [
    {
     "data": {
      "image/png": "[encoded data removed]",
      "text/plain": [
       "<Figure size 800x550 with 1 Axes>"
      ]
     },
     "metadata": {
      "image/png": {
       "height": 443,
       "width": 640
      }
     },
     "output_type": "display_data"
    }
   ],
   "source": [
    "# 경계 영역 플롯\n",
    "h = 0.001\n",
    "x_min, x_max = x[:, 0].min() - .1, x[:, 0].max() + .1\n",
    "y_min, y_max = x[:, 1].min() - .1, x[:, 1].max() + .1\n",
    "xx, yy = np.meshgrid(np.arange(x_min, x_max, h), np.arange(y_min, y_max, h))\n",
    "X = np.c_[xx.ravel(), yy.ravel()]\n",
    "score = model.predict(X)\n",
    "predict_cls = np.argmax(score, axis=1)\n",
    "Z = predict_cls.reshape(xx.shape)\n",
    "plt.contourf(xx, yy, Z)\n",
    "plt.axis('off')\n",
    "\n",
    "# 데이터점 플롯\n",
    "x, t = spiral.load_data()\n",
    "N = 100\n",
    "CLS_NUM = 3\n",
    "markers = ['o', 'x', '^']\n",
    "for i in range(CLS_NUM):\n",
    "    plt.scatter(x[i*N:(i+1)*N, 0], x[i*N:(i+1)*N, 1], s=40, marker=markers[i])\n",
    "plt.show()"
   ]
  },
  {
   "cell_type": "markdown",
   "id": "2fd4f51a",
   "metadata": {},
   "source": [
    "## Trainer 클래스"
   ]
  },
  {
   "cell_type": "code",
   "execution_count": 35,
   "id": "b1655dd7",
   "metadata": {},
   "outputs": [],
   "source": [
    "from common.trainer import Trainer\n",
    "from common.optimizer import SGD\n",
    "from dataset import spiral\n",
    "\n",
    "import numpy as np\n",
    "from common.layers import Affine, Sigmoid, SoftmaxWithLoss\n",
    "\n",
    "class TwoLayerNet:\n",
    "    def __init__(self, input_size, hidden_size, output_size):\n",
    "        I, H, O = input_size, hidden_size, output_size\n",
    "        \n",
    "        # 가중치와 편향 초기화\n",
    "        W1 = 0.01 * np.random.randn(I, H)\n",
    "        b1 = np.zeros(H)\n",
    "        W2 = 0.01 * np.random.randn(H, O)\n",
    "        b2 = np.zeros(O)\n",
    "        \n",
    "        # 레이어 생성\n",
    "        self.layers = [\n",
    "            Affine(W1, b1),\n",
    "            Sigmoid(),\n",
    "            Affine(W2, b2)\n",
    "        ]\n",
    "        self.loss_layer = SoftmaxWithLoss()\n",
    "        \n",
    "        # 모든 가중치와 기울기를 리스트에 모은다.\n",
    "        self.params, self.grads = [], []\n",
    "        for layer in self.layers:\n",
    "            self.params += layer.params\n",
    "            self.grads += layer.grads\n",
    "            \n",
    "    def predict(self, x):\n",
    "        for layer in self.layers:\n",
    "            x = layer.forward(x)\n",
    "        return x\n",
    "    \n",
    "    def forward(self, x, t):\n",
    "        score = self.predict(x)\n",
    "        loss = self.loss_layer.forward(score, t)\n",
    "        return loss\n",
    "    \n",
    "    def backward(self, dout=1):\n",
    "        dout = self.loss_layer.backward(dout)\n",
    "        for layer in reversed(self.layers):\n",
    "            dout = layer.backward(dout)\n",
    "        return dout"
   ]
  },
  {
   "cell_type": "code",
   "execution_count": 36,
   "id": "125dcb6d",
   "metadata": {},
   "outputs": [],
   "source": [
    "max_epoch = 300\n",
    "batch_size = 30\n",
    "hidden_size = 10\n",
    "learning_rate = 1.0"
   ]
  },
  {
   "cell_type": "code",
   "execution_count": 37,
   "id": "0ff67e4c",
   "metadata": {},
   "outputs": [],
   "source": [
    "x, t = spiral.load_data()\n",
    "model = TwoLayerNet(input_size=2, hidden_size=hidden_size, output_size=3)\n",
    "optimizer = SGD(lr=learning_rate)"
   ]
  },
  {
   "cell_type": "code",
   "execution_count": 38,
   "id": "9c5f2da9",
   "metadata": {},
   "outputs": [
    {
     "name": "stdout",
     "output_type": "stream",
     "text": [
      "| 에폭 1 |  반복 1 / 10 | 시간 0[s] | 손실 1.10\n",
      "| 에폭 2 |  반복 1 / 10 | 시간 0[s] | 손실 1.12\n",
      "| 에폭 3 |  반복 1 / 10 | 시간 0[s] | 손실 1.13\n",
      "| 에폭 4 |  반복 1 / 10 | 시간 0[s] | 손실 1.12\n",
      "| 에폭 5 |  반복 1 / 10 | 시간 0[s] | 손실 1.12\n",
      "| 에폭 6 |  반복 1 / 10 | 시간 0[s] | 손실 1.10\n",
      "| 에폭 7 |  반복 1 / 10 | 시간 0[s] | 손실 1.14\n",
      "| 에폭 8 |  반복 1 / 10 | 시간 0[s] | 손실 1.16\n",
      "| 에폭 9 |  반복 1 / 10 | 시간 0[s] | 손실 1.11\n",
      "| 에폭 10 |  반복 1 / 10 | 시간 0[s] | 손실 1.12\n",
      "| 에폭 11 |  반복 1 / 10 | 시간 0[s] | 손실 1.12\n",
      "| 에폭 12 |  반복 1 / 10 | 시간 0[s] | 손실 1.12\n",
      "| 에폭 13 |  반복 1 / 10 | 시간 0[s] | 손실 1.10\n",
      "| 에폭 14 |  반복 1 / 10 | 시간 0[s] | 손실 1.09\n",
      "| 에폭 15 |  반복 1 / 10 | 시간 0[s] | 손실 1.08\n",
      "| 에폭 16 |  반복 1 / 10 | 시간 0[s] | 손실 1.04\n",
      "| 에폭 17 |  반복 1 / 10 | 시간 0[s] | 손실 1.03\n",
      "| 에폭 18 |  반복 1 / 10 | 시간 0[s] | 손실 0.94\n",
      "| 에폭 19 |  반복 1 / 10 | 시간 0[s] | 손실 0.92\n",
      "| 에폭 20 |  반복 1 / 10 | 시간 0[s] | 손실 0.92\n",
      "| 에폭 21 |  반복 1 / 10 | 시간 0[s] | 손실 0.87\n",
      "| 에폭 22 |  반복 1 / 10 | 시간 0[s] | 손실 0.85\n",
      "| 에폭 23 |  반복 1 / 10 | 시간 0[s] | 손실 0.80\n",
      "| 에폭 24 |  반복 1 / 10 | 시간 0[s] | 손실 0.79\n",
      "| 에폭 25 |  반복 1 / 10 | 시간 0[s] | 손실 0.78\n",
      "| 에폭 26 |  반복 1 / 10 | 시간 0[s] | 손실 0.83\n",
      "| 에폭 27 |  반복 1 / 10 | 시간 0[s] | 손실 0.77\n",
      "| 에폭 28 |  반복 1 / 10 | 시간 0[s] | 손실 0.76\n",
      "| 에폭 29 |  반복 1 / 10 | 시간 0[s] | 손실 0.77\n",
      "| 에폭 30 |  반복 1 / 10 | 시간 0[s] | 손실 0.76\n",
      "| 에폭 31 |  반복 1 / 10 | 시간 0[s] | 손실 0.77\n",
      "| 에폭 32 |  반복 1 / 10 | 시간 0[s] | 손실 0.75\n",
      "| 에폭 33 |  반복 1 / 10 | 시간 0[s] | 손실 0.78\n",
      "| 에폭 34 |  반복 1 / 10 | 시간 0[s] | 손실 0.77\n",
      "| 에폭 35 |  반복 1 / 10 | 시간 0[s] | 손실 0.78\n",
      "| 에폭 36 |  반복 1 / 10 | 시간 0[s] | 손실 0.74\n",
      "| 에폭 37 |  반복 1 / 10 | 시간 0[s] | 손실 0.75\n",
      "| 에폭 38 |  반복 1 / 10 | 시간 0[s] | 손실 0.77\n",
      "| 에폭 39 |  반복 1 / 10 | 시간 0[s] | 손실 0.75\n",
      "| 에폭 40 |  반복 1 / 10 | 시간 0[s] | 손실 0.73\n",
      "| 에폭 41 |  반복 1 / 10 | 시간 0[s] | 손실 0.75\n",
      "| 에폭 42 |  반복 1 / 10 | 시간 0[s] | 손실 0.76\n",
      "| 에폭 43 |  반복 1 / 10 | 시간 0[s] | 손실 0.79\n",
      "| 에폭 44 |  반복 1 / 10 | 시간 0[s] | 손실 0.74\n",
      "| 에폭 45 |  반복 1 / 10 | 시간 0[s] | 손실 0.75\n",
      "| 에폭 46 |  반복 1 / 10 | 시간 0[s] | 손실 0.73\n",
      "| 에폭 47 |  반복 1 / 10 | 시간 0[s] | 손실 0.73\n",
      "| 에폭 48 |  반복 1 / 10 | 시간 0[s] | 손실 0.73\n",
      "| 에폭 49 |  반복 1 / 10 | 시간 0[s] | 손실 0.73\n",
      "| 에폭 50 |  반복 1 / 10 | 시간 0[s] | 손실 0.72\n",
      "| 에폭 51 |  반복 1 / 10 | 시간 0[s] | 손실 0.72\n",
      "| 에폭 52 |  반복 1 / 10 | 시간 0[s] | 손실 0.72\n",
      "| 에폭 53 |  반복 1 / 10 | 시간 0[s] | 손실 0.72\n",
      "| 에폭 54 |  반복 1 / 10 | 시간 0[s] | 손실 0.74\n",
      "| 에폭 55 |  반복 1 / 10 | 시간 0[s] | 손실 0.74\n",
      "| 에폭 56 |  반복 1 / 10 | 시간 0[s] | 손실 0.73\n",
      "| 에폭 57 |  반복 1 / 10 | 시간 0[s] | 손실 0.72\n",
      "| 에폭 58 |  반복 1 / 10 | 시간 0[s] | 손실 0.69\n",
      "| 에폭 59 |  반복 1 / 10 | 시간 0[s] | 손실 0.72\n",
      "| 에폭 60 |  반복 1 / 10 | 시간 0[s] | 손실 0.70\n",
      "| 에폭 61 |  반복 1 / 10 | 시간 0[s] | 손실 0.69\n",
      "| 에폭 62 |  반복 1 / 10 | 시간 0[s] | 손실 0.71\n",
      "| 에폭 63 |  반복 1 / 10 | 시간 0[s] | 손실 0.70\n",
      "| 에폭 64 |  반복 1 / 10 | 시간 0[s] | 손실 0.71\n",
      "| 에폭 65 |  반복 1 / 10 | 시간 0[s] | 손실 0.72\n",
      "| 에폭 66 |  반복 1 / 10 | 시간 0[s] | 손실 0.71\n",
      "| 에폭 67 |  반복 1 / 10 | 시간 0[s] | 손실 0.71\n",
      "| 에폭 68 |  반복 1 / 10 | 시간 0[s] | 손실 0.71\n",
      "| 에폭 69 |  반복 1 / 10 | 시간 0[s] | 손실 0.70\n",
      "| 에폭 70 |  반복 1 / 10 | 시간 0[s] | 손실 0.68\n",
      "| 에폭 71 |  반복 1 / 10 | 시간 0[s] | 손실 0.73\n",
      "| 에폭 72 |  반복 1 / 10 | 시간 0[s] | 손실 0.66\n",
      "| 에폭 73 |  반복 1 / 10 | 시간 0[s] | 손실 0.69\n",
      "| 에폭 74 |  반복 1 / 10 | 시간 0[s] | 손실 0.66\n",
      "| 에폭 75 |  반복 1 / 10 | 시간 0[s] | 손실 0.70\n",
      "| 에폭 76 |  반복 1 / 10 | 시간 0[s] | 손실 0.65\n",
      "| 에폭 77 |  반복 1 / 10 | 시간 0[s] | 손실 0.67\n",
      "| 에폭 78 |  반복 1 / 10 | 시간 0[s] | 손실 0.70\n",
      "| 에폭 79 |  반복 1 / 10 | 시간 0[s] | 손실 0.63\n",
      "| 에폭 80 |  반복 1 / 10 | 시간 0[s] | 손실 0.66\n",
      "| 에폭 81 |  반복 1 / 10 | 시간 0[s] | 손실 0.65\n",
      "| 에폭 82 |  반복 1 / 10 | 시간 0[s] | 손실 0.66\n",
      "| 에폭 83 |  반복 1 / 10 | 시간 0[s] | 손실 0.64\n",
      "| 에폭 84 |  반복 1 / 10 | 시간 0[s] | 손실 0.62\n",
      "| 에폭 85 |  반복 1 / 10 | 시간 0[s] | 손실 0.62\n",
      "| 에폭 86 |  반복 1 / 10 | 시간 0[s] | 손실 0.63\n",
      "| 에폭 87 |  반복 1 / 10 | 시간 0[s] | 손실 0.59\n",
      "| 에폭 88 |  반복 1 / 10 | 시간 0[s] | 손실 0.58\n",
      "| 에폭 89 |  반복 1 / 10 | 시간 0[s] | 손실 0.61\n",
      "| 에폭 90 |  반복 1 / 10 | 시간 0[s] | 손실 0.59\n",
      "| 에폭 91 |  반복 1 / 10 | 시간 0[s] | 손실 0.58\n",
      "| 에폭 92 |  반복 1 / 10 | 시간 0[s] | 손실 0.57\n",
      "| 에폭 93 |  반복 1 / 10 | 시간 0[s] | 손실 0.55\n",
      "| 에폭 94 |  반복 1 / 10 | 시간 0[s] | 손실 0.54\n",
      "| 에폭 95 |  반복 1 / 10 | 시간 0[s] | 손실 0.53\n",
      "| 에폭 96 |  반복 1 / 10 | 시간 0[s] | 손실 0.54\n",
      "| 에폭 97 |  반복 1 / 10 | 시간 0[s] | 손실 0.51\n",
      "| 에폭 98 |  반복 1 / 10 | 시간 0[s] | 손실 0.51\n",
      "| 에폭 99 |  반복 1 / 10 | 시간 0[s] | 손실 0.50\n",
      "| 에폭 100 |  반복 1 / 10 | 시간 0[s] | 손실 0.47\n",
      "| 에폭 101 |  반복 1 / 10 | 시간 0[s] | 손실 0.49\n",
      "| 에폭 102 |  반복 1 / 10 | 시간 0[s] | 손실 0.46\n",
      "| 에폭 103 |  반복 1 / 10 | 시간 0[s] | 손실 0.44\n",
      "| 에폭 104 |  반복 1 / 10 | 시간 0[s] | 손실 0.47\n",
      "| 에폭 105 |  반복 1 / 10 | 시간 0[s] | 손실 0.44\n",
      "| 에폭 106 |  반복 1 / 10 | 시간 0[s] | 손실 0.43\n",
      "| 에폭 107 |  반복 1 / 10 | 시간 0[s] | 손실 0.43\n",
      "| 에폭 108 |  반복 1 / 10 | 시간 0[s] | 손실 0.39\n",
      "| 에폭 109 |  반복 1 / 10 | 시간 0[s] | 손실 0.40\n",
      "| 에폭 110 |  반복 1 / 10 | 시간 0[s] | 손실 0.41\n",
      "| 에폭 111 |  반복 1 / 10 | 시간 0[s] | 손실 0.38\n",
      "| 에폭 112 |  반복 1 / 10 | 시간 0[s] | 손실 0.38\n",
      "| 에폭 113 |  반복 1 / 10 | 시간 0[s] | 손실 0.38\n",
      "| 에폭 114 |  반복 1 / 10 | 시간 0[s] | 손실 0.37\n",
      "| 에폭 115 |  반복 1 / 10 | 시간 0[s] | 손실 0.36\n",
      "| 에폭 116 |  반복 1 / 10 | 시간 0[s] | 손실 0.34\n",
      "| 에폭 117 |  반복 1 / 10 | 시간 0[s] | 손실 0.35\n",
      "| 에폭 118 |  반복 1 / 10 | 시간 0[s] | 손실 0.33\n",
      "| 에폭 119 |  반복 1 / 10 | 시간 0[s] | 손실 0.35\n",
      "| 에폭 120 |  반복 1 / 10 | 시간 0[s] | 손실 0.33\n",
      "| 에폭 121 |  반복 1 / 10 | 시간 0[s] | 손실 0.33\n",
      "| 에폭 122 |  반복 1 / 10 | 시간 0[s] | 손실 0.32\n",
      "| 에폭 123 |  반복 1 / 10 | 시간 0[s] | 손실 0.31\n",
      "| 에폭 124 |  반복 1 / 10 | 시간 0[s] | 손실 0.31\n",
      "| 에폭 125 |  반복 1 / 10 | 시간 0[s] | 손실 0.31\n",
      "| 에폭 126 |  반복 1 / 10 | 시간 0[s] | 손실 0.30\n",
      "| 에폭 127 |  반복 1 / 10 | 시간 0[s] | 손실 0.30\n",
      "| 에폭 128 |  반복 1 / 10 | 시간 0[s] | 손실 0.27\n",
      "| 에폭 129 |  반복 1 / 10 | 시간 0[s] | 손실 0.30\n",
      "| 에폭 130 |  반복 1 / 10 | 시간 0[s] | 손실 0.28\n",
      "| 에폭 131 |  반복 1 / 10 | 시간 0[s] | 손실 0.26\n",
      "| 에폭 132 |  반복 1 / 10 | 시간 0[s] | 손실 0.27\n",
      "| 에폭 133 |  반복 1 / 10 | 시간 0[s] | 손실 0.27\n",
      "| 에폭 134 |  반복 1 / 10 | 시간 0[s] | 손실 0.28\n",
      "| 에폭 135 |  반복 1 / 10 | 시간 0[s] | 손실 0.26\n",
      "| 에폭 136 |  반복 1 / 10 | 시간 0[s] | 손실 0.28\n",
      "| 에폭 137 |  반복 1 / 10 | 시간 0[s] | 손실 0.25\n",
      "| 에폭 138 |  반복 1 / 10 | 시간 0[s] | 손실 0.26\n",
      "| 에폭 139 |  반복 1 / 10 | 시간 0[s] | 손실 0.26\n",
      "| 에폭 140 |  반복 1 / 10 | 시간 0[s] | 손실 0.26\n",
      "| 에폭 141 |  반복 1 / 10 | 시간 0[s] | 손실 0.23\n",
      "| 에폭 142 |  반복 1 / 10 | 시간 0[s] | 손실 0.23\n",
      "| 에폭 143 |  반복 1 / 10 | 시간 0[s] | 손실 0.26\n",
      "| 에폭 144 |  반복 1 / 10 | 시간 0[s] | 손실 0.23\n",
      "| 에폭 145 |  반복 1 / 10 | 시간 0[s] | 손실 0.24\n",
      "| 에폭 146 |  반복 1 / 10 | 시간 0[s] | 손실 0.24\n",
      "| 에폭 147 |  반복 1 / 10 | 시간 0[s] | 손실 0.25\n",
      "| 에폭 148 |  반복 1 / 10 | 시간 0[s] | 손실 0.21\n",
      "| 에폭 149 |  반복 1 / 10 | 시간 0[s] | 손실 0.23\n",
      "| 에폭 150 |  반복 1 / 10 | 시간 0[s] | 손실 0.22\n",
      "| 에폭 151 |  반복 1 / 10 | 시간 0[s] | 손실 0.22\n",
      "| 에폭 152 |  반복 1 / 10 | 시간 0[s] | 손실 0.23\n",
      "| 에폭 153 |  반복 1 / 10 | 시간 0[s] | 손실 0.23\n",
      "| 에폭 154 |  반복 1 / 10 | 시간 0[s] | 손실 0.20\n",
      "| 에폭 155 |  반복 1 / 10 | 시간 0[s] | 손실 0.22\n",
      "| 에폭 156 |  반복 1 / 10 | 시간 0[s] | 손실 0.21\n",
      "| 에폭 157 |  반복 1 / 10 | 시간 0[s] | 손실 0.21\n",
      "| 에폭 158 |  반복 1 / 10 | 시간 0[s] | 손실 0.20\n",
      "| 에폭 159 |  반복 1 / 10 | 시간 0[s] | 손실 0.21\n",
      "| 에폭 160 |  반복 1 / 10 | 시간 0[s] | 손실 0.20\n",
      "| 에폭 161 |  반복 1 / 10 | 시간 0[s] | 손실 0.19\n",
      "| 에폭 162 |  반복 1 / 10 | 시간 0[s] | 손실 0.22\n",
      "| 에폭 163 |  반복 1 / 10 | 시간 0[s] | 손실 0.19\n",
      "| 에폭 164 |  반복 1 / 10 | 시간 0[s] | 손실 0.21\n",
      "| 에폭 165 |  반복 1 / 10 | 시간 0[s] | 손실 0.20\n",
      "| 에폭 166 |  반복 1 / 10 | 시간 0[s] | 손실 0.20\n",
      "| 에폭 167 |  반복 1 / 10 | 시간 0[s] | 손실 0.20\n",
      "| 에폭 168 |  반복 1 / 10 | 시간 0[s] | 손실 0.19\n",
      "| 에폭 169 |  반복 1 / 10 | 시간 0[s] | 손실 0.18\n",
      "| 에폭 170 |  반복 1 / 10 | 시간 0[s] | 손실 0.19\n",
      "| 에폭 171 |  반복 1 / 10 | 시간 0[s] | 손실 0.19\n",
      "| 에폭 172 |  반복 1 / 10 | 시간 0[s] | 손실 0.20\n",
      "| 에폭 173 |  반복 1 / 10 | 시간 0[s] | 손실 0.16\n",
      "| 에폭 174 |  반복 1 / 10 | 시간 0[s] | 손실 0.20\n",
      "| 에폭 175 |  반복 1 / 10 | 시간 0[s] | 손실 0.18\n",
      "| 에폭 176 |  반복 1 / 10 | 시간 0[s] | 손실 0.17\n",
      "| 에폭 177 |  반복 1 / 10 | 시간 0[s] | 손실 0.17\n",
      "| 에폭 178 |  반복 1 / 10 | 시간 0[s] | 손실 0.17\n",
      "| 에폭 179 |  반복 1 / 10 | 시간 0[s] | 손실 0.18\n",
      "| 에폭 180 |  반복 1 / 10 | 시간 0[s] | 손실 0.19\n",
      "| 에폭 181 |  반복 1 / 10 | 시간 0[s] | 손실 0.17\n",
      "| 에폭 182 |  반복 1 / 10 | 시간 0[s] | 손실 0.18\n",
      "| 에폭 183 |  반복 1 / 10 | 시간 0[s] | 손실 0.16\n",
      "| 에폭 184 |  반복 1 / 10 | 시간 0[s] | 손실 0.18\n",
      "| 에폭 185 |  반복 1 / 10 | 시간 0[s] | 손실 0.18\n",
      "| 에폭 186 |  반복 1 / 10 | 시간 0[s] | 손실 0.17\n",
      "| 에폭 187 |  반복 1 / 10 | 시간 0[s] | 손실 0.17\n",
      "| 에폭 188 |  반복 1 / 10 | 시간 0[s] | 손실 0.18\n",
      "| 에폭 189 |  반복 1 / 10 | 시간 0[s] | 손실 0.16\n",
      "| 에폭 190 |  반복 1 / 10 | 시간 0[s] | 손실 0.16\n",
      "| 에폭 191 |  반복 1 / 10 | 시간 0[s] | 손실 0.17\n",
      "| 에폭 192 |  반복 1 / 10 | 시간 0[s] | 손실 0.17\n",
      "| 에폭 193 |  반복 1 / 10 | 시간 0[s] | 손실 0.16\n",
      "| 에폭 194 |  반복 1 / 10 | 시간 0[s] | 손실 0.16\n",
      "| 에폭 195 |  반복 1 / 10 | 시간 0[s] | 손실 0.16\n",
      "| 에폭 196 |  반복 1 / 10 | 시간 0[s] | 손실 0.17\n",
      "| 에폭 197 |  반복 1 / 10 | 시간 0[s] | 손실 0.16\n",
      "| 에폭 198 |  반복 1 / 10 | 시간 0[s] | 손실 0.17\n",
      "| 에폭 199 |  반복 1 / 10 | 시간 0[s] | 손실 0.16\n",
      "| 에폭 200 |  반복 1 / 10 | 시간 0[s] | 손실 0.14\n",
      "| 에폭 201 |  반복 1 / 10 | 시간 0[s] | 손실 0.16\n"
     ]
    },
    {
     "name": "stdout",
     "output_type": "stream",
     "text": [
      "| 에폭 202 |  반복 1 / 10 | 시간 0[s] | 손실 0.16\n",
      "| 에폭 203 |  반복 1 / 10 | 시간 0[s] | 손실 0.15\n",
      "| 에폭 204 |  반복 1 / 10 | 시간 0[s] | 손실 0.16\n",
      "| 에폭 205 |  반복 1 / 10 | 시간 0[s] | 손실 0.14\n",
      "| 에폭 206 |  반복 1 / 10 | 시간 0[s] | 손실 0.16\n",
      "| 에폭 207 |  반복 1 / 10 | 시간 0[s] | 손실 0.16\n",
      "| 에폭 208 |  반복 1 / 10 | 시간 0[s] | 손실 0.14\n",
      "| 에폭 209 |  반복 1 / 10 | 시간 0[s] | 손실 0.15\n",
      "| 에폭 210 |  반복 1 / 10 | 시간 0[s] | 손실 0.16\n",
      "| 에폭 211 |  반복 1 / 10 | 시간 0[s] | 손실 0.14\n",
      "| 에폭 212 |  반복 1 / 10 | 시간 0[s] | 손실 0.15\n",
      "| 에폭 213 |  반복 1 / 10 | 시간 0[s] | 손실 0.15\n",
      "| 에폭 214 |  반복 1 / 10 | 시간 0[s] | 손실 0.15\n",
      "| 에폭 215 |  반복 1 / 10 | 시간 0[s] | 손실 0.14\n",
      "| 에폭 216 |  반복 1 / 10 | 시간 0[s] | 손실 0.14\n",
      "| 에폭 217 |  반복 1 / 10 | 시간 0[s] | 손실 0.15\n",
      "| 에폭 218 |  반복 1 / 10 | 시간 0[s] | 손실 0.14\n",
      "| 에폭 219 |  반복 1 / 10 | 시간 0[s] | 손실 0.15\n",
      "| 에폭 220 |  반복 1 / 10 | 시간 0[s] | 손실 0.15\n",
      "| 에폭 221 |  반복 1 / 10 | 시간 0[s] | 손실 0.14\n",
      "| 에폭 222 |  반복 1 / 10 | 시간 0[s] | 손실 0.13\n",
      "| 에폭 223 |  반복 1 / 10 | 시간 0[s] | 손실 0.15\n",
      "| 에폭 224 |  반복 1 / 10 | 시간 0[s] | 손실 0.14\n",
      "| 에폭 225 |  반복 1 / 10 | 시간 0[s] | 손실 0.16\n",
      "| 에폭 226 |  반복 1 / 10 | 시간 0[s] | 손실 0.12\n",
      "| 에폭 227 |  반복 1 / 10 | 시간 0[s] | 손실 0.13\n",
      "| 에폭 228 |  반복 1 / 10 | 시간 0[s] | 손실 0.15\n",
      "| 에폭 229 |  반복 1 / 10 | 시간 0[s] | 손실 0.14\n",
      "| 에폭 230 |  반복 1 / 10 | 시간 0[s] | 손실 0.13\n",
      "| 에폭 231 |  반복 1 / 10 | 시간 0[s] | 손실 0.14\n",
      "| 에폭 232 |  반복 1 / 10 | 시간 0[s] | 손실 0.13\n",
      "| 에폭 233 |  반복 1 / 10 | 시간 0[s] | 손실 0.13\n",
      "| 에폭 234 |  반복 1 / 10 | 시간 0[s] | 손실 0.14\n",
      "| 에폭 235 |  반복 1 / 10 | 시간 0[s] | 손실 0.13\n",
      "| 에폭 236 |  반복 1 / 10 | 시간 0[s] | 손실 0.12\n",
      "| 에폭 237 |  반복 1 / 10 | 시간 0[s] | 손실 0.13\n",
      "| 에폭 238 |  반복 1 / 10 | 시간 0[s] | 손실 0.14\n",
      "| 에폭 239 |  반복 1 / 10 | 시간 0[s] | 손실 0.14\n",
      "| 에폭 240 |  반복 1 / 10 | 시간 0[s] | 손실 0.13\n",
      "| 에폭 241 |  반복 1 / 10 | 시간 0[s] | 손실 0.14\n",
      "| 에폭 242 |  반복 1 / 10 | 시간 0[s] | 손실 0.13\n",
      "| 에폭 243 |  반복 1 / 10 | 시간 0[s] | 손실 0.13\n",
      "| 에폭 244 |  반복 1 / 10 | 시간 0[s] | 손실 0.14\n",
      "| 에폭 245 |  반복 1 / 10 | 시간 0[s] | 손실 0.12\n",
      "| 에폭 246 |  반복 1 / 10 | 시간 0[s] | 손실 0.13\n",
      "| 에폭 247 |  반복 1 / 10 | 시간 0[s] | 손실 0.13\n",
      "| 에폭 248 |  반복 1 / 10 | 시간 0[s] | 손실 0.12\n",
      "| 에폭 249 |  반복 1 / 10 | 시간 0[s] | 손실 0.14\n",
      "| 에폭 250 |  반복 1 / 10 | 시간 0[s] | 손실 0.12\n",
      "| 에폭 251 |  반복 1 / 10 | 시간 0[s] | 손실 0.13\n",
      "| 에폭 252 |  반복 1 / 10 | 시간 0[s] | 손실 0.13\n",
      "| 에폭 253 |  반복 1 / 10 | 시간 0[s] | 손실 0.12\n",
      "| 에폭 254 |  반복 1 / 10 | 시간 0[s] | 손실 0.12\n",
      "| 에폭 255 |  반복 1 / 10 | 시간 0[s] | 손실 0.13\n",
      "| 에폭 256 |  반복 1 / 10 | 시간 0[s] | 손실 0.12\n",
      "| 에폭 257 |  반복 1 / 10 | 시간 0[s] | 손실 0.12\n",
      "| 에폭 258 |  반복 1 / 10 | 시간 0[s] | 손실 0.12\n",
      "| 에폭 259 |  반복 1 / 10 | 시간 0[s] | 손실 0.13\n",
      "| 에폭 260 |  반복 1 / 10 | 시간 0[s] | 손실 0.13\n",
      "| 에폭 261 |  반복 1 / 10 | 시간 0[s] | 손실 0.11\n",
      "| 에폭 262 |  반복 1 / 10 | 시간 0[s] | 손실 0.13\n",
      "| 에폭 263 |  반복 1 / 10 | 시간 0[s] | 손실 0.12\n",
      "| 에폭 264 |  반복 1 / 10 | 시간 0[s] | 손실 0.11\n",
      "| 에폭 265 |  반복 1 / 10 | 시간 0[s] | 손실 0.14\n",
      "| 에폭 266 |  반복 1 / 10 | 시간 0[s] | 손실 0.11\n",
      "| 에폭 267 |  반복 1 / 10 | 시간 0[s] | 손실 0.13\n",
      "| 에폭 268 |  반복 1 / 10 | 시간 0[s] | 손실 0.11\n",
      "| 에폭 269 |  반복 1 / 10 | 시간 0[s] | 손실 0.13\n",
      "| 에폭 270 |  반복 1 / 10 | 시간 0[s] | 손실 0.11\n",
      "| 에폭 271 |  반복 1 / 10 | 시간 0[s] | 손실 0.12\n",
      "| 에폭 272 |  반복 1 / 10 | 시간 0[s] | 손실 0.12\n",
      "| 에폭 273 |  반복 1 / 10 | 시간 0[s] | 손실 0.12\n",
      "| 에폭 274 |  반복 1 / 10 | 시간 0[s] | 손실 0.12\n",
      "| 에폭 275 |  반복 1 / 10 | 시간 0[s] | 손실 0.12\n",
      "| 에폭 276 |  반복 1 / 10 | 시간 0[s] | 손실 0.12\n",
      "| 에폭 277 |  반복 1 / 10 | 시간 0[s] | 손실 0.11\n",
      "| 에폭 278 |  반복 1 / 10 | 시간 0[s] | 손실 0.13\n",
      "| 에폭 279 |  반복 1 / 10 | 시간 0[s] | 손실 0.11\n",
      "| 에폭 280 |  반복 1 / 10 | 시간 0[s] | 손실 0.10\n",
      "| 에폭 281 |  반복 1 / 10 | 시간 0[s] | 손실 0.12\n",
      "| 에폭 282 |  반복 1 / 10 | 시간 0[s] | 손실 0.11\n",
      "| 에폭 283 |  반복 1 / 10 | 시간 0[s] | 손실 0.12\n",
      "| 에폭 284 |  반복 1 / 10 | 시간 0[s] | 손실 0.11\n",
      "| 에폭 285 |  반복 1 / 10 | 시간 0[s] | 손실 0.11\n",
      "| 에폭 286 |  반복 1 / 10 | 시간 0[s] | 손실 0.12\n",
      "| 에폭 287 |  반복 1 / 10 | 시간 0[s] | 손실 0.11\n",
      "| 에폭 288 |  반복 1 / 10 | 시간 0[s] | 손실 0.11\n",
      "| 에폭 289 |  반복 1 / 10 | 시간 0[s] | 손실 0.12\n",
      "| 에폭 290 |  반복 1 / 10 | 시간 0[s] | 손실 0.11\n",
      "| 에폭 291 |  반복 1 / 10 | 시간 0[s] | 손실 0.11\n",
      "| 에폭 292 |  반복 1 / 10 | 시간 0[s] | 손실 0.11\n",
      "| 에폭 293 |  반복 1 / 10 | 시간 0[s] | 손실 0.11\n",
      "| 에폭 294 |  반복 1 / 10 | 시간 0[s] | 손실 0.11\n",
      "| 에폭 295 |  반복 1 / 10 | 시간 0[s] | 손실 0.11\n",
      "| 에폭 296 |  반복 1 / 10 | 시간 0[s] | 손실 0.12\n",
      "| 에폭 297 |  반복 1 / 10 | 시간 0[s] | 손실 0.11\n",
      "| 에폭 298 |  반복 1 / 10 | 시간 0[s] | 손실 0.11\n",
      "| 에폭 299 |  반복 1 / 10 | 시간 0[s] | 손실 0.11\n",
      "| 에폭 300 |  반복 1 / 10 | 시간 0[s] | 손실 0.11\n"
     ]
    }
   ],
   "source": [
    "trainer = Trainer(model, optimizer)\n",
    "trainer.fit(x, t, max_epoch, batch_size, eval_interval=10)"
   ]
  },
  {
   "cell_type": "code",
   "execution_count": 39,
   "id": "a917c470",
   "metadata": {},
   "outputs": [
    {
     "data": {
      "image/png": "[encoded data removed]",
      "text/plain": [
       "<Figure size 800x550 with 1 Axes>"
      ]
     },
     "metadata": {
      "image/png": {
       "height": 486,
       "width": 689
      }
     },
     "output_type": "display_data"
    }
   ],
   "source": [
    "trainer.plot()"
   ]
  },
  {
   "cell_type": "markdown",
   "id": "75ebcf2d",
   "metadata": {},
   "source": [
    "# 계산 고속화"
   ]
  },
  {
   "cell_type": "markdown",
   "id": "c1a4ded2",
   "metadata": {},
   "source": [
    "## 비트 정밀도"
   ]
  },
  {
   "cell_type": "code",
   "execution_count": 40,
   "id": "61d660be",
   "metadata": {},
   "outputs": [
    {
     "data": {
      "text/plain": [
       "dtype('float64')"
      ]
     },
     "execution_count": 40,
     "metadata": {},
     "output_type": "execute_result"
    }
   ],
   "source": [
    "import numpy as np\n",
    "a = np.random.randn(3)\n",
    "a.dtype"
   ]
  },
  {
   "cell_type": "code",
   "execution_count": 42,
   "id": "9992dea4",
   "metadata": {},
   "outputs": [
    {
     "data": {
      "text/plain": [
       "dtype('float32')"
      ]
     },
     "execution_count": 42,
     "metadata": {},
     "output_type": "execute_result"
    }
   ],
   "source": [
    "b = np.random.randn(3).astype(np.float32)\n",
    "b.dtype"
   ]
  },
  {
   "cell_type": "code",
   "execution_count": 43,
   "id": "c7783105",
   "metadata": {},
   "outputs": [
    {
     "data": {
      "text/plain": [
       "dtype('float32')"
      ]
     },
     "execution_count": 43,
     "metadata": {},
     "output_type": "execute_result"
    }
   ],
   "source": [
    "c = np.random.randn(3).astype('f')\n",
    "c.dtype"
   ]
  },
  {
   "cell_type": "markdown",
   "id": "fda4bb83",
   "metadata": {},
   "source": [
    "## GPU(쿠파이)"
   ]
  },
  {
   "cell_type": "code",
   "execution_count": 48,
   "id": "942823b8",
   "metadata": {},
   "outputs": [],
   "source": [
    "# !pip install cupy-cuda11x"
   ]
  },
  {
   "cell_type": "code",
   "execution_count": 47,
   "id": "165d6259",
   "metadata": {},
   "outputs": [],
   "source": [
    "import cupy as cp"
   ]
  },
  {
   "cell_type": "code",
   "execution_count": 50,
   "id": "0a3c5d97",
   "metadata": {},
   "outputs": [],
   "source": [
    "# x = cp.arange(6).reshape(2, 3).astype('f')\n",
    "# x"
   ]
  }
 ],
 "metadata": {
  "kernelspec": {
   "display_name": "Python 3 (ipykernel)",
   "language": "python",
   "name": "python3"
  },
  "language_info": {
   "codemirror_mode": {
    "name": "ipython",
    "version": 3
   },
   "file_extension": ".py",
   "mimetype": "text/x-python",
   "name": "python",
   "nbconvert_exporter": "python",
   "pygments_lexer": "ipython3",
   "version": "3.10.9"
  },
  "toc": {
   "base_numbering": 1,
   "nav_menu": {},
   "number_sections": true,
   "sideBar": true,
   "skip_h1_title": false,
   "title_cell": "Table of Contents",
   "title_sidebar": "Contents",
   "toc_cell": false,
   "toc_position": {
    "height": "calc(100% - 180px)",
    "left": "10px",
    "top": "150px",
    "width": "409.594px"
   },
   "toc_section_display": true,
   "toc_window_display": false
  }
 },
 "nbformat": 4,
 "nbformat_minor": 5
}
