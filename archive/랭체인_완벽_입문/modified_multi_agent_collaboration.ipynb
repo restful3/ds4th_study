{
 "cells": [
  {
   "cell_type": "markdown",
   "id": "35332696",
   "metadata": {
    "id": "35332696"
   },
   "source": [
    "# 기본 다중 에이전트 협업\n",
    "\n",
    "단일 에이전트는 일반적으로 단일 도메인 내에서 소수의 도구를 사용하여 효과적으로 작동할 수 있지만, `gpt-4`와 같은 강력한 모델을 사용하더라도 많은 도구를 사용하는 데에는 덜 효과적일 수 있습니다.\n",
    "\n",
    "복잡한 작업에 접근하는 한 가지 방법은 '나누고 정복하기(divide-and-conquer)' 접근법입니다: 각 작업이나 도메인에 대해 전문화된 에이전트를 만들고 작업을 올바른 '전문가'에게 라우팅합니다.\n",
    "\n",
    "이 노트북은 Wu 등이 작성한 논문 [AutoGen: 다중 에이전트 대화를 통한 차세대 LLM 애플리케이션 가능하게 하기](https://arxiv.org/abs/2308.08155)에서 영감을 받아 LangGraph를 사용하여 이를 수행하는 한 가지 방법을 보여줍니다.\n",
    "\n",
    "결과적으로 생성된 그래프는 다음 다이어그램과 같은 모습일 것입니다:\n",
    "\n",
    "![다중 에이전트 다이어그램](https://raw.githubusercontent.com/langchain-ai/langgraph/9e59039232d8a9ba2c1d11fc6ef51400b5fc11d0/examples/multi_agent/img/simple_multi_agent_diagram.png)\n"
   ]
  },
  {
   "cell_type": "code",
   "execution_count": 8,
   "id": "3d25c038",
   "metadata": {},
   "outputs": [],
   "source": [
    "from langchain_community import agent_toolkits"
   ]
  },
  {
   "cell_type": "code",
   "execution_count": 9,
   "id": "2c3a9cb6",
   "metadata": {},
   "outputs": [
    {
     "data": {
      "text/plain": [
       "['Any',\n",
       " 'TYPE_CHECKING',\n",
       " '__all__',\n",
       " '__builtins__',\n",
       " '__cached__',\n",
       " '__doc__',\n",
       " '__file__',\n",
       " '__getattr__',\n",
       " '__loader__',\n",
       " '__name__',\n",
       " '__package__',\n",
       " '__path__',\n",
       " '__spec__',\n",
       " '_module_lookup',\n",
       " 'github',\n",
       " 'importlib']"
      ]
     },
     "execution_count": 9,
     "metadata": {},
     "output_type": "execute_result"
    }
   ],
   "source": [
    "dir(agent_toolkits)"
   ]
  },
  {
   "cell_type": "code",
   "execution_count": 4,
   "id": "d24909ec",
   "metadata": {},
   "outputs": [
    {
     "ename": "AttributeError",
     "evalue": "module 'langchain_community.agent_toolkits.github.toolkit' has no attribute 'get_tools'",
     "output_type": "error",
     "traceback": [
      "\u001b[0;31m---------------------------------------------------------------------------\u001b[0m",
      "\u001b[0;31mAttributeError\u001b[0m                            Traceback (most recent call last)",
      "Cell \u001b[0;32mIn[4], line 1\u001b[0m\n\u001b[0;32m----> 1\u001b[0m \u001b[43mtoolkit\u001b[49m\u001b[38;5;241;43m.\u001b[39;49m\u001b[43mget_tools\u001b[49m()\n",
      "\u001b[0;31mAttributeError\u001b[0m: module 'langchain_community.agent_toolkits.github.toolkit' has no attribute 'get_tools'"
     ]
    }
   ],
   "source": [
    "toolkit.get_tools()\n"
   ]
  },
  {
   "cell_type": "code",
   "execution_count": 2,
   "id": "ae7bdca6",
   "metadata": {},
   "outputs": [
    {
     "name": "stdout",
     "output_type": "stream",
     "text": [
      "Python version\n",
      "3.9.18 (main, Sep 11 2023, 13:41:44) \n",
      "[GCC 11.2.0]\n",
      "Version info.\n",
      "sys.version_info(major=3, minor=9, micro=18, releaselevel='final', serial=0)\n"
     ]
    }
   ],
   "source": [
    "import sys\n",
    "print(\"Python version\")\n",
    "print(sys.version)\n",
    "print(\"Version info.\")\n",
    "print(sys.version_info)\n"
   ]
  },
  {
   "cell_type": "markdown",
   "id": "516e563a",
   "metadata": {
    "id": "516e563a"
   },
   "source": [
    "필요한 패키지를 설치합니다.\n"
   ]
  },
  {
   "cell_type": "code",
   "execution_count": 12,
   "id": "f940f646",
   "metadata": {
    "id": "f940f646"
   },
   "outputs": [],
   "source": [
    "# langchain, langchain_openai, langsmith, pandas, langchain_experimental, matplotlib 패키지를 설치합니다.\n",
    "# 이 코드는 패키지 설치를 위한 pip 명령어를 포함하고 있습니다."
   ]
  },
  {
   "cell_type": "markdown",
   "id": "e670a8e2",
   "metadata": {
    "id": "e670a8e2"
   },
   "source": [
    "`python-dotenv` 라이브러리를 사용하여 환경 변수에서 토큰 정보를 로드합니다. 이 라이브러리는 `.env` 파일에 저장된 환경 변수를 읽어와서 Python 프로그램에서 사용할 수 있게 해줍니다. `load_dotenv` 함수를 호출하여 `.env` 파일의 내용을 로드합니다.\n"
   ]
  },
  {
   "cell_type": "code",
   "execution_count": 13,
   "id": "7430432d",
   "metadata": {
    "id": "7430432d",
    "outputId": "a391dbb7-d086-42dd-eea8-2e4764930fd9"
   },
   "outputs": [],
   "source": [
    "# # 토큰 정보를 로드하기 위한 라이브러리\n",
    "# # 설치 명령어: pip install python-dotenv\n",
    "# from dotenv import load_dotenv\n",
    "\n",
    "# # 토큰 정보 로드\n",
    "# load_dotenv()"
   ]
  },
  {
   "cell_type": "markdown",
   "id": "01e315df",
   "metadata": {
    "id": "01e315df"
   },
   "source": [
    "이 함수 `_set_if_undefined`는 환경 변수가 설정되어 있지 않을 경우 사용자로부터 해당 환경 변수의 값을 입력받아 설정하는 역할을 합니다. 이 함수는 `OPENAI_API_KEY`, `LANGCHAIN_API_KEY`, `TAVILY_API_KEY` 세 개의 API 키에 대해 환경 변수가 설정되어 있는지 확인하고, 없을 경우 사용자에게 입력을 요청합니다. 또한, LangSmith 추적 기능을 활성화하고 프로젝트 이름을 'Multi-agent Collaboration'으로 설정합니다.\n"
   ]
  },
  {
   "cell_type": "code",
   "execution_count": 1,
   "id": "7502c0b3",
   "metadata": {
    "id": "7502c0b3",
    "scrolled": false
   },
   "outputs": [],
   "source": [
    "import getpass\n",
    "import os\n",
    "\n",
    "\n",
    "def _set_if_undefined(var: str):\n",
    "    # 주어진 환경 변수가 설정되어 있지 않다면 사용자에게 입력을 요청하여 설정합니다.\n",
    "    if not os.environ.get(var):\n",
    "        os.environ[var] = getpass.getpass(f\"Please provide your {var}\")\n",
    "\n",
    "\n",
    "# OPENAI_API_KEY 환경 변수가 설정되어 있지 않으면 사용자에게 입력을 요청합니다.\n",
    "_set_if_undefined(\"OPENAI_API_KEY\")\n",
    "# LANGCHAIN_API_KEY 환경 변수가 설정되어 있지 않으면 사용자에게 입력을 요청합니다.\n",
    "_set_if_undefined(\"LANGCHAIN_API_KEY\")\n",
    "# TAVILY_API_KEY 환경 변수가 설정되어 있지 않으면 사용자에게 입력을 요청합니다.\n",
    "_set_if_undefined(\"TAVILY_API_KEY\")\n",
    "\n",
    "# LangSmith 추적 기능을 활성화합니다. (선택적)\n",
    "os.environ[\"LANGCHAIN_TRACING_V2\"] = \"true\"\n",
    "os.environ[\"LANGCHAIN_PROJECT\"] = \"Multi-agent Collaboration\""
   ]
  },
  {
   "cell_type": "markdown",
   "id": "13f9d89e",
   "metadata": {
    "id": "13f9d89e"
   },
   "source": [
    "## 에이전트 생성\n",
    "\n",
    "다음의 헬퍼 함수들은 에이전트를 생성하는 데 도움을 줄 것입니다. 이 에이전트들은 그래프에서 노드가 될 것입니다.\n",
    "\n",
    "그래프가 어떻게 생겼는지 바로 보고 싶다면 앞부분을 건너뛰어도 됩니다.\n"
   ]
  },
  {
   "cell_type": "markdown",
   "id": "4d325dbb",
   "metadata": {
    "id": "4d325dbb"
   },
   "source": [
    "함수 `create_agent`는 AI 에이전트를 생성하는 데 사용됩니다. 이 에이전트는 다른 AI 보조자들과 협력하여 제공된 도구들을 사용해 질문에 대한 답변을 진행합니다. 에이전트는 최종 답변을 할 수 있는 경우 응답 앞에 'FINAL ANSWER'라고 표시하여 팀이 작업을 멈출 수 있도록 합니다. `create_agent` 함수는 `llm`, `tools`, `system_message` 세 개의 매개변수를 받으며, 각 도구의 이름을 포함한 프롬프트를 생성하여 에이전트에게 전달합니다. `format_tool_to_openai_function` 함수는 도구를 OpenAI 함수 형식으로 변환하는 데 사용되며, `ChatPromptTemplate.from_messages`는 에이전트에게 전달될 메시지 템플릿을 생성합니다. 마지막으로, 생성된 프롬프트는 `llm.bind_functions`을 통해 에이전트의 기능과 결합됩니다.\n"
   ]
  },
  {
   "cell_type": "code",
   "execution_count": 4,
   "id": "e3db924e",
   "metadata": {
    "id": "e3db924e"
   },
   "outputs": [],
   "source": [
    "import json\n",
    "\n",
    "from langchain_core.messages import (\n",
    "    BaseMessage,\n",
    "    FunctionMessage,\n",
    "    HumanMessage,\n",
    ")\n",
    "\n",
    "from langchain.tools.render import format_tool_to_openai_function\n",
    "from langchain.prompts import ChatPromptTemplate, MessagesPlaceholder\n",
    "from langgraph.graph import END, StateGraph\n",
    "from langgraph.prebuilt.tool_executor import ToolExecutor, ToolInvocation\n",
    "\n",
    "\n",
    "def create_agent(llm, tools, system_message: str):\n",
    "    # 에이전트를 생성합니다.\n",
    "    functions = [format_tool_to_openai_function(t) for t in tools]\n",
    "\n",
    "    prompt = ChatPromptTemplate.from_messages(\n",
    "        [\n",
    "            (\n",
    "                \"system\",\n",
    "                \"You are a helpful AI assistant, collaborating with other assistants.\"\n",
    "                \" Use the provided tools to progress towards answering the question.\"\n",
    "                \" If you are unable to fully answer, that's OK, another assistant with different tools \"\n",
    "                \" will help where you left off. Execute what you can to make progress.\"\n",
    "                \" If you or any of the other assistants have the final answer or deliverable,\"\n",
    "                \" prefix your response with FINAL ANSWER so the team knows to stop.\"\n",
    "                \" You have access to the following tools: {tool_names}.\\n{system_message}\",\n",
    "            ),\n",
    "            MessagesPlaceholder(variable_name=\"messages\"),\n",
    "        ]\n",
    "    )\n",
    "    prompt = prompt.partial(system_message=system_message)\n",
    "    prompt = prompt.partial(tool_names=\", \".join(\n",
    "        [tool.name for tool in tools]))\n",
    "    return prompt | llm.bind_functions(functions)"
   ]
  },
  {
   "cell_type": "markdown",
   "id": "ea8c419a",
   "metadata": {
    "id": "ea8c419a"
   },
   "source": [
    "## Tool(도구) 정의\n",
    "\n",
    "우리의 에이전트들이 미래에 사용할 몇 가지 도구들을 정의할 것입니다\n"
   ]
  },
  {
   "cell_type": "markdown",
   "id": "5213f960",
   "metadata": {
    "id": "5213f960"
   },
   "source": [
    "함수 `python_repl`은 주어진 파이썬 코드를 실행하고 그 결과를 반환합니다. 이 함수는 `tool` 데코레이터로 장식되어 있으며, 사용자가 제공한 코드를 `PythonREPL` 인스턴스를 통해 실행합니다. 실행 결과는 표준 출력으로 반환되며, 실행 중 발생한 예외는 오류 메시지와 함께 반환됩니다. 사용자는 `print(...)` 함수를 사용하여 값을 출력할 수 있습니다. 이 함수는 차트 생성과 같은 작업에 사용될 수 있습니다.\n"
   ]
  },
  {
   "cell_type": "code",
   "execution_count": 5,
   "id": "434714aa",
   "metadata": {
    "id": "434714aa"
   },
   "outputs": [],
   "source": [
    "from langchain_core.tools import tool\n",
    "from typing import Annotated\n",
    "from langchain_experimental.utilities import PythonREPL\n",
    "from langchain_community.tools.tavily_search import TavilySearchResults\n",
    "\n",
    "tavily_tool = TavilySearchResults(max_results=5)\n",
    "\n",
    "repl = PythonREPL()\n",
    "\n",
    "@tool\n",
    "def python_repl(\n",
    "    code: Annotated[str, \"The python code to execute to generate your chart.\"]\n",
    "):\n",
    "    \"\"\"Use this to execute python code. If you want to see the output of a value,\n",
    "    you should print it out with `print(...)`. This is visible to the user.\"\"\"\n",
    "    try:\n",
    "        result = repl.run(code)\n",
    "    except BaseException as e:\n",
    "        return f\"Failed to execute. Error: {repr(e)}\"\n",
    "    return f\"Succesfully executed:\\n```python\\n{code}\\n```\\nStdout: {result}\""
   ]
  },
  {
   "cell_type": "markdown",
   "id": "d4b8aaeb",
   "metadata": {
    "id": "d4b8aaeb"
   },
   "source": [
    "## 그래프 생성\n",
    "\n",
    "이제 우리는 도구를 정의하고 몇 가지 헬퍼 함수를 만들었으므로, 아래에서 개별 에이전트를 생성하고 LangGraph를 사용하여 서로 통신하는 방법을 알려줄 것입니다.\n"
   ]
  },
  {
   "cell_type": "markdown",
   "id": "d2fe6b15",
   "metadata": {
    "id": "d2fe6b15"
   },
   "source": [
    "### 상태 정의\n",
    "\n",
    "우리는 먼저 그래프의 상태를 정의합니다. 이것은 가장 최근의 발신자를 추적하는 키와 함께 메시지의 리스트일 것입니다.\n"
   ]
  },
  {
   "cell_type": "markdown",
   "id": "c795ef7a",
   "metadata": {
    "id": "c795ef7a"
   },
   "source": [
    "이 코드는 `langchain` 라이브러리를 사용하여 AI 에이전트와 상호작용하는 그래프 기반의 시스템을 구축하기 위한 준비 작업을 포함하고 있습니다. `AgentState` 클래스는 에이전트의 상태를 나타내며, `messages`는 `BaseMessage` 객체의 시퀀스로 구성되며, `sender`는 메시지를 보낸 사람의 식별자를 나타냅니다. `Annotated`와 `operator.add`를 사용하여 `messages` 필드에 메시지를 추가할 수 있는 기능을 제공합니다.\n"
   ]
  },
  {
   "cell_type": "code",
   "execution_count": 6,
   "id": "c4041afb",
   "metadata": {
    "id": "c4041afb"
   },
   "outputs": [],
   "source": [
    "import operator\n",
    "from typing import Annotated, Sequence, Tuple, TypedDict, Union\n",
    "from langchain_openai import ChatOpenAI\n",
    "from typing_extensions import TypedDict\n",
    "\n",
    "\n",
    "# 각 에이전트와 도구에 대한 다른 노드를 생성할 것입니다. 이 클래스는 그래프의 각 노드 사이에서 전달되는 객체를 정의합니다.\n",
    "class AgentState(TypedDict):\n",
    "    messages: Annotated[Sequence[BaseMessage], operator.add]\n",
    "    sender: str"
   ]
  },
  {
   "cell_type": "markdown",
   "id": "8b9ac093",
   "metadata": {
    "id": "8b9ac093"
   },
   "source": [
    "### 에이전트 노드 정의하기\n",
    "\n",
    "이제 노드를 정의할 필요가 있습니다. 먼저, 에이전트들을 위한 노드를 정의합시다.\n"
   ]
  },
  {
   "cell_type": "markdown",
   "id": "6a387e79",
   "metadata": {
    "id": "6a387e79"
   },
   "source": [
    "함수 `agent_node`는 주어진 에이전트의 상태를 처리하고, 결과 메시지와 발신자 정보를 포함하는 딕셔너리를 반환합니다. `FunctionMessage` 인스턴스인 경우에는 특별한 처리를 하지 않고, 그렇지 않은 경우에는 `HumanMessage` 인스턴스로 변환합니다. `ChatOpenAI` 클래스의 인스턴스 `llm`은 모델 `gpt-4-1106-preview`를 사용하여 생성됩니다. `research_agent`와 `chart_agent`는 각각 연구자와 차트 생성기를 위한 에이전트를 생성하며, 이들은 `llm`을 사용하고 특정 도구(`tavily_tool`, `python_repl`)와 시스템 메시지를 설정합니다. `research_node`와 `chart_node`는 `functools.partial`을 사용하여 `agent_node` 함수에 필요한 인자를 미리 설정한 콜백 함수를 생성합니다.\n"
   ]
  },
  {
   "cell_type": "code",
   "execution_count": 8,
   "id": "bf7cc2d8",
   "metadata": {
    "id": "bf7cc2d8"
   },
   "outputs": [],
   "source": [
    "import functools\n",
    "\n",
    "\n",
    "def agent_node(state, agent, name):\n",
    "    result = agent.invoke(state)\n",
    "    if isinstance(result, FunctionMessage):\n",
    "        pass\n",
    "    else:\n",
    "        result = HumanMessage(**result.dict(exclude={\"type\", \"name\"}), name=name)\n",
    "    return {\n",
    "        \"messages\": [result],\n",
    "        \"sender\": name,\n",
    "    }\n",
    "\n",
    "\n",
    "llm = ChatOpenAI(model=\"gpt-4-1106-preview\")\n",
    "\n",
    "# Research agent and node\n",
    "research_agent = create_agent(\n",
    "    llm,\n",
    "    [tavily_tool],\n",
    "    system_message=\"You should provide accurate data for the chart generator to use.\",\n",
    ")\n",
    "research_node = functools.partial(agent_node, agent=research_agent, name=\"Researcher\")\n",
    "\n",
    "# Chart Generator\n",
    "chart_agent = create_agent(\n",
    "    llm,\n",
    "    [python_repl],\n",
    "    system_message=\"Any charts you display will be visible by the user.\",\n",
    ")\n",
    "chart_node = functools.partial(agent_node, agent=chart_agent, name=\"Chart Generator\")"
   ]
  },
  {
   "cell_type": "markdown",
   "id": "220d26d3",
   "metadata": {
    "id": "220d26d3"
   },
   "source": [
    "### Tool Node (도구 노드) 정의\n",
    "\n",
    "우리는 이제 도구를 실행하는 노드를 정의합니다\n"
   ]
  },
  {
   "cell_type": "markdown",
   "id": "13342451",
   "metadata": {
    "id": "13342451"
   },
   "source": [
    "함수 `tool_node`는 상태 객체를 받아 마지막 메시지에서 도구 호출을 추출하고, 해당 도구를 실행한 후 결과를 `FunctionMessage` 형태로 반환합니다. 이 함수는 `ToolExecutor` 인스턴스를 사용하여 도구를 실행하며, 실행 결과는 새로운 메시지 리스트에 추가되어 반환됩니다. 단일 인자 입력은 값으로 직접 전달되며, 복수 인자의 경우 `ToolInvocation` 객체를 통해 전달됩니다.\n"
   ]
  },
  {
   "cell_type": "code",
   "execution_count": 19,
   "id": "bb363114",
   "metadata": {
    "id": "bb363114"
   },
   "outputs": [],
   "source": [
    "tools = [tavily_tool, python_repl]\n",
    "tool_executor = ToolExecutor(tools)\n",
    "\n",
    "\n",
    "def tool_node(state):\n",
    "    # 그래프에서 도구를 실행하는 함수입니다.\n",
    "    # 에이전트 액션을 입력받아 해당 도구를 호출하고 결과를 반환합니다.\n",
    "    messages = state[\"messages\"]\n",
    "    # 계속 조건에 따라 마지막 메시지가 함수 호출을 포함하고 있음을 알 수 있습니다.\n",
    "    last_message = messages[-1]\n",
    "    # ToolInvocation을 함수 호출로부터 구성합니다.\n",
    "    tool_input = json.loads(\n",
    "        last_message.additional_kwargs[\"function_call\"][\"arguments\"]\n",
    "    )\n",
    "    # 단일 인자 입력은 값으로 직접 전달할 수 있습니다.\n",
    "    if len(tool_input) == 1 and \"__arg1\" in tool_input:\n",
    "        tool_input = next(iter(tool_input.values()))\n",
    "    tool_name = last_message.additional_kwargs[\"function_call\"][\"name\"]\n",
    "    action = ToolInvocation(\n",
    "        tool=tool_name,\n",
    "        tool_input=tool_input,\n",
    "    )\n",
    "    # 도구 실행자를 호출하고 응답을 받습니다.\n",
    "    response = tool_executor.invoke(action)\n",
    "    # 응답을 사용하여 FunctionMessage를 생성합니다.\n",
    "    function_message = FunctionMessage(\n",
    "        content=f\"{tool_name} response: {str(response)}\", name=action.tool\n",
    "    )\n",
    "    # 기존 리스트에 추가될 리스트를 반환합니다.\n",
    "    return {\"messages\": [function_message]}"
   ]
  },
  {
   "cell_type": "markdown",
   "id": "dba1e595",
   "metadata": {
    "id": "dba1e595"
   },
   "source": [
    "### 에지 로직 정의\n",
    "\n",
    "에이전트의 결과에 따라 무엇을 할지 결정하는 데 필요한 일부 에지 로직을 정의할 수 있습니다.\n"
   ]
  },
  {
   "cell_type": "markdown",
   "id": "8cc2f55b",
   "metadata": {
    "id": "8cc2f55b"
   },
   "source": [
    "함수 `router`는 상태 정보를 받아서 다음 단계를 결정합니다. 상태 정보에서 마지막 메시지를 확인하고, 이 메시지에 특정 키워드가 포함되어 있는지에 따라 다음 단계를 반환합니다. 만약 마지막 메시지의 `additional_kwargs`에 `function_call`이 포함되어 있다면, 이전 에이전트가 도구를 호출한 것으로 간주하고 `\"call_tool\"`을 반환합니다. 만약 마지막 메시지의 내용에 `\"FINAL ANSWER\"`가 포함되어 있다면, 작업이 완료되었다고 판단하고 `\"end\"`를 반환합니다. 그렇지 않으면 작업을 계속 진행해야 하므로 `\"continue\"`를 반환합니다.\n"
   ]
  },
  {
   "cell_type": "code",
   "execution_count": 20,
   "id": "f57dff42",
   "metadata": {
    "id": "f57dff42"
   },
   "outputs": [],
   "source": [
    "def router(state):\n",
    "    # 상태 정보를 기반으로 다음 단계를 결정하는 라우터 함수\n",
    "    messages = state[\"messages\"]\n",
    "    last_message = messages[-1]\n",
    "    if \"function_call\" in last_message.additional_kwargs:\n",
    "        # 이전 에이전트가 도구를 호출함\n",
    "        return \"call_tool\"\n",
    "    if \"FINAL ANSWER\" in last_message.content:\n",
    "        # 어느 에이전트든 작업이 끝났다고 결정함\n",
    "        return \"end\"\n",
    "    return \"continue\""
   ]
  },
  {
   "cell_type": "markdown",
   "id": "3a433a89",
   "metadata": {
    "id": "3a433a89"
   },
   "source": [
    "### 그래프 정의하기\n",
    "\n",
    "이제 모든 것을 종합하여 그래프를 정의할 수 있습니다!\n"
   ]
  },
  {
   "cell_type": "markdown",
   "id": "39564807",
   "metadata": {
    "id": "39564807"
   },
   "source": [
    "이 코드는 `StateGraph` 클래스를 사용하여 상태 기반 워크플로우를 구성합니다. `AgentState`를 기반으로 `StateGraph` 객체를 생성하고, `add_node` 메서드를 사용하여 여러 노드(`Researcher`, `Chart Generator`, `call_tool`)를 추가합니다. `add_conditional_edges` 메서드를 통해 조건부 엣지를 추가하여, 각 노드가 특정 조건에 따라 다른 노드로 이동할 수 있도록 합니다. 예를 들어, `Researcher` 노드는 `router` 함수의 결과에 따라 `Chart Generator` 또는 `call_tool`로 이동하거나 워크플로우를 종료할 수 있습니다. `call_tool` 노드는 `sender` 필드를 기반으로 원래 호출한 노드로 돌아갑니다. 마지막으로 `set_entry_point` 메서드로 시작점을 `Researcher`로 설정하고, `compile` 메서드로 워크플로우 그래프를 컴파일합니다.\n"
   ]
  },
  {
   "cell_type": "code",
   "execution_count": 21,
   "id": "a3b27cfe",
   "metadata": {
    "id": "a3b27cfe"
   },
   "outputs": [],
   "source": [
    "workflow = StateGraph(AgentState)\n",
    "\n",
    "workflow.add_node(\"Researcher\", research_node)\n",
    "workflow.add_node(\"Chart Generator\", chart_node)\n",
    "workflow.add_node(\"call_tool\", tool_node)\n",
    "\n",
    "workflow.add_conditional_edges(\n",
    "    \"Researcher\",\n",
    "    router,\n",
    "    {\"continue\": \"Chart Generator\", \"call_tool\": \"call_tool\", \"end\": END},\n",
    ")\n",
    "workflow.add_conditional_edges(\n",
    "    \"Chart Generator\",\n",
    "    router,\n",
    "    {\"continue\": \"Researcher\", \"call_tool\": \"call_tool\", \"end\": END},\n",
    ")\n",
    "\n",
    "workflow.add_conditional_edges(\n",
    "    \"call_tool\",\n",
    "    lambda x: x[\"sender\"],\n",
    "    {\n",
    "        \"Researcher\": \"Researcher\",\n",
    "        \"Chart Generator\": \"Chart Generator\",\n",
    "    },\n",
    ")\n",
    "workflow.set_entry_point(\"Researcher\")\n",
    "graph = workflow.compile()"
   ]
  },
  {
   "cell_type": "markdown",
   "id": "f1fca651",
   "metadata": {
    "id": "f1fca651"
   },
   "source": [
    "## 호출\n",
    "\n",
    "그래프가 생성되었으니 이제 호출할 수 있습니다! 몇 가지 통계를 차트로 나타내도록 해봅시다.\n"
   ]
  },
  {
   "cell_type": "markdown",
   "id": "f7be9ead",
   "metadata": {
    "id": "f7be9ead"
   },
   "source": [
    "이 코드는 `graph` 객체의 `stream` 메소드를 사용하여 데이터를 스트리밍합니다. `HumanMessage` 객체를 사용하여 대한민국의 2018년부터 2022년까지의 출산율 데이터를 요청하고, 해당 데이터에 대한 그래프를 그리도록 요청합니다. 또한, 코드 실행이 완료되면 종료하도록 메시지에 포함되어 있습니다.\n",
    "\n",
    "스트림은 최대 200번의 재귀 호출로 제한됩니다.\n"
   ]
  },
  {
   "cell_type": "code",
   "execution_count": 25,
   "id": "ff4a9351",
   "metadata": {
    "id": "ff4a9351",
    "outputId": "c50d8444-bd24-4fb3-df4f-dc3d6882ef9b"
   },
   "outputs": [
    {
     "name": "stdout",
     "output_type": "stream",
     "text": [
      "{'Researcher': {'messages': [HumanMessage(content='', additional_kwargs={'function_call': {'arguments': '{\"query\":\"South Korea total fertility rate 2018 to 2022\"}', 'name': 'tavily_search_results_json'}}, response_metadata={'token_usage': {'completion_tokens': 29, 'prompt_tokens': 301, 'total_tokens': 330}, 'model_name': 'gpt-4-1106-preview', 'system_fingerprint': None, 'finish_reason': 'function_call', 'logprobs': None}, name='Researcher', id='run-acceed63-413c-495d-b166-9058f8429a08-0', tool_calls=[], invalid_tool_calls=[])], 'sender': 'Researcher'}}\n",
      "----\n",
      "{'call_tool': {'messages': [FunctionMessage(content='tavily_search_results_json response: [{\\'url\\': \\'https://www.rand.org/pubs/commentary/2022/07/south-koreas-extraordinary-fertility-decline.html\\', \\'content\\': \"Related Resources\\\\nCommentary\\\\nWhat the Media Might Have Missed About South Korea\\'s Elections\\\\nMar 10, 2022\\\\nErik Mobrand\\\\nCommentary\\\\nAn Early Look at the Impact of the COVID-19 Pandemic on Demographic Trends\\\\nApr 12, 2021\\\\nEsther M. Friedman, Andrew M. Parker\\\\nJournal Article\\\\nFertility Behaviors in South Korea and Their Association with Ultrasound Prenatal Sex Screening\\\\nMar 14, 2018\\\\nJinkook Lee, James P. Smith\\\\nAbout\\\\nRAND is a research organization that develops solutions to public policy challenges to help make communities throughout the world safer and more secure, healthier and more prosperous. Featured Video: Campus Tour\\\\nPh.D. Student, Pardee RAND Graduate School, and Assistant Policy Researcher, RAND\\\\nAssistant Policy Researcher, RAND, and Ph.D. Student, Pardee RAND Graduate School\\\\nAbout\\\\nSouth Korea\\'s Extraordinary Fertility Decline\\\\ncommentary\\\\n(The RAND Blog)\\\\n Connect\\\\nContact Us\\\\nI am interested in\\\\nFollow\\\\nStay Informed\\\\nSubscribe to the Policy Currents newsletter for RAND insights on the issues that matter most.\\\\n Site-wide navigation\\\\nResearch\\\\nLatest Insights\\\\nPolicy Experts\\\\nCapabilities\\\\nDrawing upon decades of experience, RAND provides research services, systematic analysis, and innovative thinking to a global clientele that includes government agencies, foundations, and private-sector firms.\\\\n Authors\\\\nDaniel Hicks\\\\nJennifer Bouey\\\\n@BoueyHuang\\\\nJessie Wang\\\\nTopics\\\\nStay Informed\\\\nGet updates from RAND delivered straight to your inbox.\\\\n\"}, {\\'url\\': \\'https://www.cnn.com/2023/02/22/asia/south-korea-lowest-fertility-rate-record-2022-intl-hnk/index.html\\', \\'content\\': \"CNN values your feedback\\\\nSouth Korea breaks its own record for world’s lowest fertility rate\\\\nSouth Korea’s fertility rate, already the world’s lowest, has dropped yet again in the latest setback to the country’s efforts to boost its declining population.\\\\n South Korea spent $200 billion, but it can\\'t pay people enough to have a baby\\\\nExperts say the reasons for these demographic shifts across the region include demanding work cultures, stagnating wages, rising costs of living, changing attitudes toward marriage and gender equality, and rising disillusionment among younger generations.\\\\n The national statistics body reported Wednesday that the fertility rate, or the average number of children expected per woman, fell to 0.78 in 2022 – down from 0.81 the previous year.\\\\n South Korea’s birth rate has been falling since 2015 and the country recorded more deaths than births for the first time in 2020, a trend that has continued since.\\\\n The South Korean government has introduced various initiatives such as extending paid paternity leave, offering monetary “baby vouchers” to new parents, and social campaigns encouraging men to contribute to childcare and housework.\\\\n\"}, {\\'url\\': \\'https://www.nytimes.com/2022/08/24/world/asia/south-korea-fertility-rate.html\\', \\'content\\': \\'After declining steadily from 4.53 in 1970, the first year the government started compiling such data, the total fertility rate began to sink more quickly in the 2000s during the financial crises, dropping below 1.0 in 2018 as housing, child care and education costs rose, jobs became scarcer and young people grew more anxious about their future.\\\\n The fertility rate — the average number of children born to a woman during her reproductive years — declined for the sixth straight year to 0.81 in 2021, according to Statistics Korea, the national statistics agency. But without a sweeping intervention, South Korea might see a serious labor shortage by the mid-2030s, and within three or four generations, the population could decline drastically, according to Lee Sang-lim, a demographer with the Korea Institute for Health and Social Affairs.\\\\n By John Yoon\\\\nSouth Korea broke its own record for the world’s lowest total fertility rate last year, census data showed on Wednesday, and experts project it will drop even further this year, adding to concerns about the country’s shrinking and aging population.\\\\n Schools have faced shortages of students, the military has expanded eligibility requirements for conscripts, and the dwindling number of working-age people imperils the pensions of retirees.\\\\n\\'}, {\\'url\\': \\'https://www.macrotrends.net/global-metrics/countries/KOR/south-korea/fertility-rate\\', \\'content\\': \\'Chart and table of the South Korea fertility rate from 1950 to 2024. United Nations projections are also included through the year 2100. The current fertility rate for South Korea in 2024 is 1.079 births per woman, a 0.37% increase from 2023.; The fertility rate for South Korea in 2023 was 1.075 births per woman, a 0.65% decline from 2022.; The fertility rate for South Korea in 2022 was 1.082 ...\\'}, {\\'url\\': \\'https://data.worldbank.org/indicator/SP.DYN.TFRT.IN?locations=KR\\', \\'content\\': \\'Fertility rate, total (births per woman) - Korea, Rep. ( 1 ) United Nations Population Division. World Population Prospects: 2022 Revision. ( 2 ) Census reports and other statistical publications from national statistical offices, ( 3 ) Eurostat: Demographic Statistics, ( 4 ) United Nations Statistical Division.\\'}]', name='tavily_search_results_json')]}}\n",
      "----\n",
      "{'Researcher': {'messages': [HumanMessage(content=\"Based on the information from the search results, we can gather the Total Fertility Rate (TFR) for South Korea for the years 2018 through 2022 and the projections for 2023, 2024, and 2025. However, note that the exact numbers for 2023, 2024, and 2025 might be projections and could vary depending on the source and the method used for forecasting.\\n\\nHere are the TFR values from the search results:\\n\\n- **2018**: The fertility rate dropped below 1.0 in 2018.\\n- **2021**: The fertility rate was 0.81 according to Statistics Korea.\\n- **2022**: It further fell to 0.78 according to national statistics reported by CNN.\\n- **2023**: The projected fertility rate is 1.075 births per woman.\\n- **2024**: The projected fertility rate is 1.079 births per woman.\\n\\nUnfortunately, the search did not yield specific TFR values for the years 2019 and 2020, nor did it provide projections for 2025. To provide an accurate graph, we need to find the missing values for 2019, 2020, and the projection for 2025. Let's continue the search to find these TFR values.\", additional_kwargs={'function_call': {'arguments': '{\"query\":\"South Korea Total Fertility Rate 2019 2020 2025\"}', 'name': 'tavily_search_results_json'}}, response_metadata={'token_usage': {'completion_tokens': 300, 'prompt_tokens': 1501, 'total_tokens': 1801}, 'model_name': 'gpt-4-1106-preview', 'system_fingerprint': None, 'finish_reason': 'function_call', 'logprobs': None}, name='Researcher', id='run-0640cff6-d736-4f53-ab5f-e44d6a5b4c69-0', tool_calls=[], invalid_tool_calls=[])], 'sender': 'Researcher'}}\n",
      "----\n",
      "{'call_tool': {'messages': [FunctionMessage(content='tavily_search_results_json response: [{\\'url\\': \\'https://www.rand.org/pubs/commentary/2022/07/south-koreas-extraordinary-fertility-decline.html\\', \\'content\\': \"Related Resources\\\\nCommentary\\\\nWhat the Media Might Have Missed About South Korea\\'s Elections\\\\nMar 10, 2022\\\\nErik Mobrand\\\\nCommentary\\\\nAn Early Look at the Impact of the COVID-19 Pandemic on Demographic Trends\\\\nApr 12, 2021\\\\nEsther M. Friedman, Andrew M. Parker\\\\nJournal Article\\\\nFertility Behaviors in South Korea and Their Association with Ultrasound Prenatal Sex Screening\\\\nMar 14, 2018\\\\nJinkook Lee, James P. Smith\\\\nAbout\\\\nRAND is a research organization that develops solutions to public policy challenges to help make communities throughout the world safer and more secure, healthier and more prosperous. Featured Video: Campus Tour\\\\nPh.D. Student, Pardee RAND Graduate School, and Assistant Policy Researcher, RAND\\\\nAssistant Policy Researcher, RAND, and Ph.D. Student, Pardee RAND Graduate School\\\\nAbout\\\\nSouth Korea\\'s Extraordinary Fertility Decline\\\\ncommentary\\\\n(The RAND Blog)\\\\n Connect\\\\nContact Us\\\\nI am interested in\\\\nFollow\\\\nStay Informed\\\\nSubscribe to the Policy Currents newsletter for RAND insights on the issues that matter most.\\\\n Site-wide navigation\\\\nResearch\\\\nLatest Insights\\\\nPolicy Experts\\\\nCapabilities\\\\nDrawing upon decades of experience, RAND provides research services, systematic analysis, and innovative thinking to a global clientele that includes government agencies, foundations, and private-sector firms.\\\\n Authors\\\\nDaniel Hicks\\\\nJennifer Bouey\\\\n@BoueyHuang\\\\nJessie Wang\\\\nTopics\\\\nStay Informed\\\\nGet updates from RAND delivered straight to your inbox.\\\\n\"}, {\\'url\\': \\'https://fred.stlouisfed.org/series/SPDYNTFRTINKOR\\', \\'content\\': \\'RELEASE TABLES\\\\nRELATED DATA AND CONTENT\\\\nData Suggestions Based On Your Search\\\\nContent Suggestions\\\\nRelated Categories\\\\nReleases\\\\nTags\\\\nSERVICES\\\\nRESEARCH\\\\nTOOLS\\\\nABOUT\\\\nOUR SITES\\\\nNeed Help?\\\\nSubscribe to the FRED newsletter\\\\nFollow us NOTES\\\\nSource:\\\\nWorld Bank\\\\nRelease:\\\\nWorld Development Indicators\\\\nUnits:\\\\nBirths per Woman,\\\\xa0Not Seasonally Adjusted\\\\nFrequency:\\\\nAnnual\\\\nTotal fertility rate represents the number of children that would be born to a woman if she were to live to the end of her childbearing years and bear children in accordance with current age-specific fertility rates. [SPDYNTFRTINKOR],\\\\nretrieved from FRED,\\\\nFederal Reserve Bank of St. Louis;\\\\nhttps://fred.stlouisfed.org/series/SPDYNTFRTINKOR,\\\\nJanuary 27, 2024.\\\\n Fertility Rate, Total for the Republic of Korea (SPDYNTFRTINKOR)\\\\nObservation:\\\\nUnits:\\\\nFrequency:\\\\nData in this graph are copyrighted. Federal Reserve Economic Data: Your trusted data source since 1991\\\\nExplore resources provided by the Research Division at the Federal Reserve Bank of St. Louis.\\\\n\\'}, {\\'url\\': \\'https://data.worldbank.org/indicator/SP.DYN.TFRT.IN?locations=KR\\', \\'content\\': \\'Fertility rate, total (births per woman) - Korea, Rep. ( 1 ) United Nations Population Division. World Population Prospects: 2022 Revision. ( 2 ) Census reports and other statistical publications from national statistical offices, ( 3 ) Eurostat: Demographic Statistics, ( 4 ) United Nations Statistical Division.\\'}, {\\'url\\': \\'https://www.ncbi.nlm.nih.gov/pmc/articles/PMC9623034/\\', \\'content\\': \\'To put the policies into practice, the plan attempts to create a society where: people work together and take care of each other (work-life balance enjoyed by all: realization of a work environment that allows work-parenting, establishment of a work environment that harmonizes with an individual’s life/work-life balance through work style, and facilitation of cultural innovation); there is gender-equal working society (creating a gender-equal workplace, strengthening the relief and prevention of sexual harassment and gender discrimination in employment/improving the quality of jobs in the field of intensive care work for women); there is reinforcement of social responsibility for child care (establishing a dense and high-quality care system, creating an equitable primary care environment for children/improving efficiency through the integrated operation of child care, and improving the efficiency through the integrated operation of child care); there is universal guarantee of children’s basic rights (guaranteeing children’s household income and strengthening livelihood support, ensuring the balanced development and growth of children/strengthening the protection and safety net of children and young people); and there is guarantee of lifetime sexual and reproductive rights (comprehensive protection of sexual and reproductive rights, life-long reproductive health management, and disease prevention or healthy and safe pregnancy and childbirth). The direction of the 4th Plan for Aging Society and Population (2021–2025), which is the most recent one, implies the following: 1) change in the basic perspective (focus on improving the quality of life of ‘individuals,’ balanced approach and practice of investment in family support and social structural innovation); 2) guarantee of enjoyment of individual rights in response to aging in the low fertility society (transition to a society where we work together and care for each other, guarantee basic rights to children, ensure there are comprehensive sexual and reproductive rights, and strengthen the medical support for pregnancy and childbirth along the life cycle); and 3) improvement in the nation and society’s ability to respond to demographic changes (reinforcement of education-training and life-based foundations where everyone’s capabilities can be exercised, innovation towards an integrated society in response to the new normal of demographic change, etc.).\\\\n Table 1\\\\nData collection\\\\nData regarding the total population was collected from the “Statistics Korea Census” of the national statistical portal.2,9,10 This study obtained data regarding the total number of births, CBR, and TFR for 1925–1980 from the census report, Statistics Korea’s “2020 Population Trend Survey for 1981–2020, provisional results of birth and death statistics,” census of the national statistics portal, and results of the number of population dynamics and the rate of dynamics.1,2,11,12 For the TFR of the OECD, the 2019 OECD Family Database was utilized.3\\\\nDefinition of terms\\\\nEthics statement\\\\nThis study was approved by the Institutional Review Board of Kyung Hee University Hospital at Gangdong and the requirement for informed consent was waived (IRB 2021-11-032).\\\\n According to the 4th plan for the aging society and population (2021), the causes of a low fertility society were: increased labor market disparities and precarious employment, intensifying competition for employment, intensifying competition for education, single-to-late marriage factors, rise in housing prices, increase in housing costs, decrease in consumer spending capacity, gender discrimination in the labor market, difficulties in work-family balance, increase in dual-income, care gap in the care infrastructure system due to an increase in the demand for care (a situation in which working parents have no place to leave their children after childbirth), decrease in the marriage rate, change in the conception of marriage and family, and changes in the composition of family, which is rapidly progressing. In this discussion: 1) using the statistics mentioned above, we examine the changes in the history and events of the relevant past that affected the changes in the birth rate, 2) we review the causes and countermeasures of the low fertility society problem, which is currently emerging as a serious demographic, social, and economic problem in Korea, and 3) we determine the meaning of the statistically predicted estimates up to the year 2065.\\'}, {\\'url\\': \\'https://www.macrotrends.net/global-metrics/countries/KOR/south-korea/fertility-rate\\', \\'content\\': \\'Chart and table of the South Korea fertility rate from 1950 to 2024. United Nations projections are also included through the year 2100. The current fertility rate for South Korea in 2024 is 1.079 births per woman, a 0.37% increase from 2023.; The fertility rate for South Korea in 2023 was 1.075 births per woman, a 0.65% decline from 2022.; The fertility rate for South Korea in 2022 was 1.082 ...\\'}]', name='tavily_search_results_json')]}}\n",
      "----\n",
      "{'Researcher': {'messages': [HumanMessage(content=\"The search results provided some of the missing data but not all. Here's the updated information we have:\\n\\n- **2018**: The fertility rate dropped below 1.0 in 2018. (specific value not provided)\\n- **2019**: No specific fertility rate value provided.\\n- **2020**: No specific fertility rate value provided.\\n- **2021**: The fertility rate was 0.81 according to Statistics Korea.\\n- **2022**: The fertility rate fell to 0.78 according to national statistics reported by CNN.\\n- **2023**: The projected fertility rate is 1.075 births per woman.\\n- **2024**: The projected fertility rate is 1.079 births per woman.\\n- **2025**: No projection provided.\\n\\nUnfortunately, we still need the specific fertility rates for 2019 and 2020 to complete the dataset. Additionally, we require a projection for 2025. Given that we do not have these values, we cannot provide a complete and accurate chart.\\n\\nTo proceed, we would need to either find the missing values or make an informed estimation based on the available data trend. If estimations are acceptable, we could interpolate the values for 2019 and 2020 based on the trend from 2018 to 2021 and extrapolate a projection for 2025 based on the trend from 2022 to 2024.\\n\\nWould you like to proceed with estimations, or should we attempt to find the exact values for the missing data points?\", response_metadata={'token_usage': {'completion_tokens': 308, 'prompt_tokens': 3560, 'total_tokens': 3868}, 'model_name': 'gpt-4-1106-preview', 'system_fingerprint': None, 'finish_reason': 'stop', 'logprobs': None}, name='Researcher', id='run-520f3e05-19a2-4e0d-9d5c-11c834485cdd-0', tool_calls=[], invalid_tool_calls=[])], 'sender': 'Researcher'}}\n",
      "----\n",
      "{'Chart Generator': {'messages': [HumanMessage(content=\"Let's proceed with estimations based on the available data trend to interpolate the values for 2019 and 2020, and extrapolate a projection for 2025. We can use a simple linear approach for interpolation and extrapolation. To do this, I will use the data points for 2018, 2021, 2022, 2023, and 2024 to estimate the missing values for 2019, 2020, and 2025. Let's start by plotting the known data points and then fit a line to estimate the missing years.\", additional_kwargs={'function_call': {'arguments': '{\"code\":\"import numpy as np\\\\nimport matplotlib.pyplot as plt\\\\nfrom scipy import interpolate\\\\n\\\\n# Known data points\\\\nyears_known = np.array([2018, 2021, 2022, 2023, 2024])\\\\n# Assuming the fertility rate dropped just below 1.0 in 2018\\\\nfertility_rates_known = np.array([0.99, 0.81, 0.78, 1.075, 1.079])\\\\n\\\\n# Interpolating for 2019 and 2020\\\\nf = interpolate.interp1d(years_known, fertility_rates_known, kind=\\'linear\\')\\\\nyears_interpolated = np.array([2019, 2020])\\\\nfertility_rates_interpolated = f(years_interpolated)\\\\n\\\\n# Extrapolating for 2025 using a linear fit\\\\nfit = np.polyfit(years_known, fertility_rates_known, 1)\\\\nfit_fn = np.poly1d(fit)\\\\nfertility_rate_2025 = fit_fn(2025)\\\\n\\\\n# Combine all data\\\\nyears_all = np.concatenate((years_known, years_interpolated, [2025]))\\\\nfertility_rates_all = np.concatenate((fertility_rates_known, fertility_rates_interpolated, [fertility_rate_2025]))\\\\n\\\\n# Sort the combined data\\\\nsorted_indices = np.argsort(years_all)\\\\nyears_all_sorted = years_all[sorted_indices]\\\\nfertility_rates_all_sorted = fertility_rates_all[sorted_indices]\\\\n\\\\n# Plot\\\\nplt.figure(figsize=(10, 6))\\\\nplt.plot(years_all_sorted, fertility_rates_all_sorted, \\'o-\\', label=\\'Estimated Fertility Rate\\')\\\\nplt.title(\\'Estimated Total Fertility Rate in South Korea (2018 - 2025)\\')\\\\nplt.xlabel(\\'Year\\')\\\\nplt.ylabel(\\'Total Fertility Rate (births per woman)\\')\\\\nplt.grid(True)\\\\nplt.legend()\\\\nplt.show()\\\\n\\\\n# Print the estimated values for 2019, 2020, and 2025\\\\nprint(\\'Estimated fertility rate for 2019:\\', fertility_rates_interpolated[0])\\\\nprint(\\'Estimated fertility rate for 2020:\\', fertility_rates_interpolated[1])\\\\nprint(\\'Estimated fertility rate for 2025:\\', fertility_rate_2025)\"}', 'name': 'python_repl'}}, response_metadata={'token_usage': {'completion_tokens': 622, 'prompt_tokens': 3865, 'total_tokens': 4487}, 'model_name': 'gpt-4-1106-preview', 'system_fingerprint': None, 'finish_reason': 'function_call', 'logprobs': None}, name='Chart Generator', id='run-330834dd-0e96-4b67-a06d-931b7526de37-0', tool_calls=[], invalid_tool_calls=[])], 'sender': 'Chart Generator'}}\n",
      "----\n"
     ]
    },
    {
     "data": {
      "image/png": "[encoded data removed]",
      "text/plain": [
       "<Figure size 1000x600 with 1 Axes>"
      ]
     },
     "metadata": {},
     "output_type": "display_data"
    },
    {
     "name": "stdout",
     "output_type": "stream",
     "text": [
      "{'call_tool': {'messages': [FunctionMessage(content=\"python_repl response: Succesfully executed:\\n```python\\nimport numpy as np\\nimport matplotlib.pyplot as plt\\nfrom scipy import interpolate\\n\\n# Known data points\\nyears_known = np.array([2018, 2021, 2022, 2023, 2024])\\n# Assuming the fertility rate dropped just below 1.0 in 2018\\nfertility_rates_known = np.array([0.99, 0.81, 0.78, 1.075, 1.079])\\n\\n# Interpolating for 2019 and 2020\\nf = interpolate.interp1d(years_known, fertility_rates_known, kind='linear')\\nyears_interpolated = np.array([2019, 2020])\\nfertility_rates_interpolated = f(years_interpolated)\\n\\n# Extrapolating for 2025 using a linear fit\\nfit = np.polyfit(years_known, fertility_rates_known, 1)\\nfit_fn = np.poly1d(fit)\\nfertility_rate_2025 = fit_fn(2025)\\n\\n# Combine all data\\nyears_all = np.concatenate((years_known, years_interpolated, [2025]))\\nfertility_rates_all = np.concatenate((fertility_rates_known, fertility_rates_interpolated, [fertility_rate_2025]))\\n\\n# Sort the combined data\\nsorted_indices = np.argsort(years_all)\\nyears_all_sorted = years_all[sorted_indices]\\nfertility_rates_all_sorted = fertility_rates_all[sorted_indices]\\n\\n# Plot\\nplt.figure(figsize=(10, 6))\\nplt.plot(years_all_sorted, fertility_rates_all_sorted, 'o-', label='Estimated Fertility Rate')\\nplt.title('Estimated Total Fertility Rate in South Korea (2018 - 2025)')\\nplt.xlabel('Year')\\nplt.ylabel('Total Fertility Rate (births per woman)')\\nplt.grid(True)\\nplt.legend()\\nplt.show()\\n\\n# Print the estimated values for 2019, 2020, and 2025\\nprint('Estimated fertility rate for 2019:', fertility_rates_interpolated[0])\\nprint('Estimated fertility rate for 2020:', fertility_rates_interpolated[1])\\nprint('Estimated fertility rate for 2025:', fertility_rate_2025)\\n```\\nStdout: Estimated fertility rate for 2019: 0.93\\nEstimated fertility rate for 2020: 0.87\\nEstimated fertility rate for 2025: 1.00399056603775\\n\", name='python_repl')]}}\n",
      "----\n"
     ]
    },
    {
     "ename": "BadRequestError",
     "evalue": "Error code: 400 - {'error': {'message': \"Invalid 'messages[7].name': string does not match pattern. Expected a string that matches the pattern '^[a-zA-Z0-9_-]+$'.\", 'type': 'invalid_request_error', 'param': 'messages[7].name', 'code': 'invalid_value'}}",
     "output_type": "error",
     "traceback": [
      "\u001b[0;31m---------------------------------------------------------------------------\u001b[0m",
      "\u001b[0;31mBadRequestError\u001b[0m                           Traceback (most recent call last)",
      "Cell \u001b[0;32mIn[25], line 1\u001b[0m\n\u001b[0;32m----> 1\u001b[0m \u001b[38;5;28;01mfor\u001b[39;00m s \u001b[38;5;129;01min\u001b[39;00m graph\u001b[38;5;241m.\u001b[39mstream(\n\u001b[1;32m      2\u001b[0m     {\n\u001b[1;32m      3\u001b[0m         \u001b[38;5;124m\"\u001b[39m\u001b[38;5;124mmessages\u001b[39m\u001b[38;5;124m\"\u001b[39m: [\n\u001b[1;32m      4\u001b[0m             HumanMessage(\n\u001b[1;32m      5\u001b[0m                 content\u001b[38;5;241m=\u001b[39m\u001b[38;5;124m\"\u001b[39m\u001b[38;5;124m대한민국의 2018년 ~ 2022년의 합계출산율에 대한 데이터를 찾아줘, \u001b[39m\u001b[38;5;124m\"\u001b[39m\n\u001b[1;32m      6\u001b[0m                 \u001b[38;5;124m\"\u001b[39m\u001b[38;5;124m그리고 2023, 2024, 2025년에 대한 전망도 찾아줘, \u001b[39m\u001b[38;5;124m\"\u001b[39m\n\u001b[1;32m      7\u001b[0m                 \u001b[38;5;124m\"\u001b[39m\u001b[38;5;124m마지막으로 수집한 데이터에 대한 그래프를 그려줘. \u001b[39m\u001b[38;5;124m\"\u001b[39m\n\u001b[1;32m      8\u001b[0m                 \u001b[38;5;124m\"\u001b[39m\u001b[38;5;124m코드 작성을 완료했다면 종료해줘.\u001b[39m\u001b[38;5;124m\"\u001b[39m\n\u001b[1;32m      9\u001b[0m             )\n\u001b[1;32m     10\u001b[0m         ],\n\u001b[1;32m     11\u001b[0m     },\n\u001b[1;32m     12\u001b[0m     \u001b[38;5;66;03m# 그래프에서 수행할 최대 단계 수\u001b[39;00m\n\u001b[1;32m     13\u001b[0m     {\u001b[38;5;124m\"\u001b[39m\u001b[38;5;124mrecursion_limit\u001b[39m\u001b[38;5;124m\"\u001b[39m: \u001b[38;5;241m200\u001b[39m},\n\u001b[1;32m     14\u001b[0m ):\n\u001b[1;32m     15\u001b[0m     \u001b[38;5;28mprint\u001b[39m(s)\n\u001b[1;32m     16\u001b[0m     \u001b[38;5;28mprint\u001b[39m(\u001b[38;5;124m\"\u001b[39m\u001b[38;5;124m----\u001b[39m\u001b[38;5;124m\"\u001b[39m)\n",
      "File \u001b[0;32m~/anaconda3/envs/trading/lib/python3.10/site-packages/langgraph/pregel/__init__.py:949\u001b[0m, in \u001b[0;36mPregel.stream\u001b[0;34m(self, input, config, stream_mode, output_keys, input_keys, interrupt_before, interrupt_after, debug)\u001b[0m\n\u001b[1;32m    946\u001b[0m         \u001b[38;5;28;01mdel\u001b[39;00m fut, task\n\u001b[1;32m    948\u001b[0m \u001b[38;5;66;03m# panic on failure or timeout\u001b[39;00m\n\u001b[0;32m--> 949\u001b[0m \u001b[43m_panic_or_proceed\u001b[49m\u001b[43m(\u001b[49m\u001b[43mdone\u001b[49m\u001b[43m,\u001b[49m\u001b[43m \u001b[49m\u001b[43minflight\u001b[49m\u001b[43m,\u001b[49m\u001b[43m \u001b[49m\u001b[43mstep\u001b[49m\u001b[43m)\u001b[49m\n\u001b[1;32m    950\u001b[0m \u001b[38;5;66;03m# don't keep futures around in memory longer than needed\u001b[39;00m\n\u001b[1;32m    951\u001b[0m \u001b[38;5;28;01mdel\u001b[39;00m done, inflight, futures\n",
      "File \u001b[0;32m~/anaconda3/envs/trading/lib/python3.10/site-packages/langgraph/pregel/__init__.py:1473\u001b[0m, in \u001b[0;36m_panic_or_proceed\u001b[0;34m(done, inflight, step)\u001b[0m\n\u001b[1;32m   1471\u001b[0m             inflight\u001b[38;5;241m.\u001b[39mpop()\u001b[38;5;241m.\u001b[39mcancel()\n\u001b[1;32m   1472\u001b[0m         \u001b[38;5;66;03m# raise the exception\u001b[39;00m\n\u001b[0;32m-> 1473\u001b[0m         \u001b[38;5;28;01mraise\u001b[39;00m exc\n\u001b[1;32m   1475\u001b[0m \u001b[38;5;28;01mif\u001b[39;00m inflight:\n\u001b[1;32m   1476\u001b[0m     \u001b[38;5;66;03m# if we got here means we timed out\u001b[39;00m\n\u001b[1;32m   1477\u001b[0m     \u001b[38;5;28;01mwhile\u001b[39;00m inflight:\n\u001b[1;32m   1478\u001b[0m         \u001b[38;5;66;03m# cancel all pending tasks\u001b[39;00m\n",
      "File \u001b[0;32m~/anaconda3/envs/trading/lib/python3.10/concurrent/futures/thread.py:58\u001b[0m, in \u001b[0;36m_WorkItem.run\u001b[0;34m(self)\u001b[0m\n\u001b[1;32m     55\u001b[0m     \u001b[38;5;28;01mreturn\u001b[39;00m\n\u001b[1;32m     57\u001b[0m \u001b[38;5;28;01mtry\u001b[39;00m:\n\u001b[0;32m---> 58\u001b[0m     result \u001b[38;5;241m=\u001b[39m \u001b[38;5;28;43mself\u001b[39;49m\u001b[38;5;241;43m.\u001b[39;49m\u001b[43mfn\u001b[49m\u001b[43m(\u001b[49m\u001b[38;5;241;43m*\u001b[39;49m\u001b[38;5;28;43mself\u001b[39;49m\u001b[38;5;241;43m.\u001b[39;49m\u001b[43margs\u001b[49m\u001b[43m,\u001b[49m\u001b[43m \u001b[49m\u001b[38;5;241;43m*\u001b[39;49m\u001b[38;5;241;43m*\u001b[39;49m\u001b[38;5;28;43mself\u001b[39;49m\u001b[38;5;241;43m.\u001b[39;49m\u001b[43mkwargs\u001b[49m\u001b[43m)\u001b[49m\n\u001b[1;32m     59\u001b[0m \u001b[38;5;28;01mexcept\u001b[39;00m \u001b[38;5;167;01mBaseException\u001b[39;00m \u001b[38;5;28;01mas\u001b[39;00m exc:\n\u001b[1;32m     60\u001b[0m     \u001b[38;5;28mself\u001b[39m\u001b[38;5;241m.\u001b[39mfuture\u001b[38;5;241m.\u001b[39mset_exception(exc)\n",
      "File \u001b[0;32m~/anaconda3/envs/trading/lib/python3.10/site-packages/langgraph/pregel/retry.py:66\u001b[0m, in \u001b[0;36mrun_with_retry\u001b[0;34m(task, retry_policy)\u001b[0m\n\u001b[1;32m     64\u001b[0m task\u001b[38;5;241m.\u001b[39mwrites\u001b[38;5;241m.\u001b[39mclear()\n\u001b[1;32m     65\u001b[0m \u001b[38;5;66;03m# run the task\u001b[39;00m\n\u001b[0;32m---> 66\u001b[0m \u001b[43mtask\u001b[49m\u001b[38;5;241;43m.\u001b[39;49m\u001b[43mproc\u001b[49m\u001b[38;5;241;43m.\u001b[39;49m\u001b[43minvoke\u001b[49m\u001b[43m(\u001b[49m\u001b[43mtask\u001b[49m\u001b[38;5;241;43m.\u001b[39;49m\u001b[43minput\u001b[49m\u001b[43m,\u001b[49m\u001b[43m \u001b[49m\u001b[43mtask\u001b[49m\u001b[38;5;241;43m.\u001b[39;49m\u001b[43mconfig\u001b[49m\u001b[43m)\u001b[49m\n\u001b[1;32m     67\u001b[0m \u001b[38;5;66;03m# if successful, end\u001b[39;00m\n\u001b[1;32m     68\u001b[0m \u001b[38;5;28;01mbreak\u001b[39;00m\n",
      "File \u001b[0;32m~/anaconda3/envs/trading/lib/python3.10/site-packages/langchain_core/runnables/base.py:2368\u001b[0m, in \u001b[0;36mRunnableSequence.invoke\u001b[0;34m(self, input, config)\u001b[0m\n\u001b[1;32m   2366\u001b[0m \u001b[38;5;28;01mtry\u001b[39;00m:\n\u001b[1;32m   2367\u001b[0m     \u001b[38;5;28;01mfor\u001b[39;00m i, step \u001b[38;5;129;01min\u001b[39;00m \u001b[38;5;28menumerate\u001b[39m(\u001b[38;5;28mself\u001b[39m\u001b[38;5;241m.\u001b[39msteps):\n\u001b[0;32m-> 2368\u001b[0m         \u001b[38;5;28minput\u001b[39m \u001b[38;5;241m=\u001b[39m \u001b[43mstep\u001b[49m\u001b[38;5;241;43m.\u001b[39;49m\u001b[43minvoke\u001b[49m\u001b[43m(\u001b[49m\n\u001b[1;32m   2369\u001b[0m \u001b[43m            \u001b[49m\u001b[38;5;28;43minput\u001b[39;49m\u001b[43m,\u001b[49m\n\u001b[1;32m   2370\u001b[0m \u001b[43m            \u001b[49m\u001b[38;5;66;43;03m# mark each step as a child run\u001b[39;49;00m\n\u001b[1;32m   2371\u001b[0m \u001b[43m            \u001b[49m\u001b[43mpatch_config\u001b[49m\u001b[43m(\u001b[49m\n\u001b[1;32m   2372\u001b[0m \u001b[43m                \u001b[49m\u001b[43mconfig\u001b[49m\u001b[43m,\u001b[49m\u001b[43m \u001b[49m\u001b[43mcallbacks\u001b[49m\u001b[38;5;241;43m=\u001b[39;49m\u001b[43mrun_manager\u001b[49m\u001b[38;5;241;43m.\u001b[39;49m\u001b[43mget_child\u001b[49m\u001b[43m(\u001b[49m\u001b[38;5;124;43mf\u001b[39;49m\u001b[38;5;124;43m\"\u001b[39;49m\u001b[38;5;124;43mseq:step:\u001b[39;49m\u001b[38;5;132;43;01m{\u001b[39;49;00m\u001b[43mi\u001b[49m\u001b[38;5;241;43m+\u001b[39;49m\u001b[38;5;241;43m1\u001b[39;49m\u001b[38;5;132;43;01m}\u001b[39;49;00m\u001b[38;5;124;43m\"\u001b[39;49m\u001b[43m)\u001b[49m\n\u001b[1;32m   2373\u001b[0m \u001b[43m            \u001b[49m\u001b[43m)\u001b[49m\u001b[43m,\u001b[49m\n\u001b[1;32m   2374\u001b[0m \u001b[43m        \u001b[49m\u001b[43m)\u001b[49m\n\u001b[1;32m   2375\u001b[0m \u001b[38;5;66;03m# finish the root run\u001b[39;00m\n\u001b[1;32m   2376\u001b[0m \u001b[38;5;28;01mexcept\u001b[39;00m \u001b[38;5;167;01mBaseException\u001b[39;00m \u001b[38;5;28;01mas\u001b[39;00m e:\n",
      "File \u001b[0;32m~/anaconda3/envs/trading/lib/python3.10/site-packages/langgraph/utils.py:95\u001b[0m, in \u001b[0;36mRunnableCallable.invoke\u001b[0;34m(self, input, config, **kwargs)\u001b[0m\n\u001b[1;32m     93\u001b[0m     \u001b[38;5;28;01mif\u001b[39;00m accepts_config(\u001b[38;5;28mself\u001b[39m\u001b[38;5;241m.\u001b[39mfunc):\n\u001b[1;32m     94\u001b[0m         kwargs[\u001b[38;5;124m\"\u001b[39m\u001b[38;5;124mconfig\u001b[39m\u001b[38;5;124m\"\u001b[39m] \u001b[38;5;241m=\u001b[39m config\n\u001b[0;32m---> 95\u001b[0m     ret \u001b[38;5;241m=\u001b[39m \u001b[43mcontext\u001b[49m\u001b[38;5;241;43m.\u001b[39;49m\u001b[43mrun\u001b[49m\u001b[43m(\u001b[49m\u001b[38;5;28;43mself\u001b[39;49m\u001b[38;5;241;43m.\u001b[39;49m\u001b[43mfunc\u001b[49m\u001b[43m,\u001b[49m\u001b[43m \u001b[49m\u001b[38;5;28;43minput\u001b[39;49m\u001b[43m,\u001b[49m\u001b[43m \u001b[49m\u001b[38;5;241;43m*\u001b[39;49m\u001b[38;5;241;43m*\u001b[39;49m\u001b[43mkwargs\u001b[49m\u001b[43m)\u001b[49m\n\u001b[1;32m     96\u001b[0m \u001b[38;5;28;01mif\u001b[39;00m \u001b[38;5;28misinstance\u001b[39m(ret, Runnable) \u001b[38;5;129;01mand\u001b[39;00m \u001b[38;5;28mself\u001b[39m\u001b[38;5;241m.\u001b[39mrecurse:\n\u001b[1;32m     97\u001b[0m     \u001b[38;5;28;01mreturn\u001b[39;00m ret\u001b[38;5;241m.\u001b[39minvoke(\u001b[38;5;28minput\u001b[39m, config)\n",
      "Cell \u001b[0;32mIn[18], line 5\u001b[0m, in \u001b[0;36magent_node\u001b[0;34m(state, agent, name)\u001b[0m\n\u001b[1;32m      4\u001b[0m \u001b[38;5;28;01mdef\u001b[39;00m \u001b[38;5;21magent_node\u001b[39m(state, agent, name):\n\u001b[0;32m----> 5\u001b[0m     result \u001b[38;5;241m=\u001b[39m \u001b[43magent\u001b[49m\u001b[38;5;241;43m.\u001b[39;49m\u001b[43minvoke\u001b[49m\u001b[43m(\u001b[49m\u001b[43mstate\u001b[49m\u001b[43m)\u001b[49m\n\u001b[1;32m      6\u001b[0m     \u001b[38;5;28;01mif\u001b[39;00m \u001b[38;5;28misinstance\u001b[39m(result, FunctionMessage):\n\u001b[1;32m      7\u001b[0m         \u001b[38;5;28;01mpass\u001b[39;00m\n",
      "File \u001b[0;32m~/anaconda3/envs/trading/lib/python3.10/site-packages/langchain_core/runnables/base.py:2368\u001b[0m, in \u001b[0;36mRunnableSequence.invoke\u001b[0;34m(self, input, config)\u001b[0m\n\u001b[1;32m   2366\u001b[0m \u001b[38;5;28;01mtry\u001b[39;00m:\n\u001b[1;32m   2367\u001b[0m     \u001b[38;5;28;01mfor\u001b[39;00m i, step \u001b[38;5;129;01min\u001b[39;00m \u001b[38;5;28menumerate\u001b[39m(\u001b[38;5;28mself\u001b[39m\u001b[38;5;241m.\u001b[39msteps):\n\u001b[0;32m-> 2368\u001b[0m         \u001b[38;5;28minput\u001b[39m \u001b[38;5;241m=\u001b[39m \u001b[43mstep\u001b[49m\u001b[38;5;241;43m.\u001b[39;49m\u001b[43minvoke\u001b[49m\u001b[43m(\u001b[49m\n\u001b[1;32m   2369\u001b[0m \u001b[43m            \u001b[49m\u001b[38;5;28;43minput\u001b[39;49m\u001b[43m,\u001b[49m\n\u001b[1;32m   2370\u001b[0m \u001b[43m            \u001b[49m\u001b[38;5;66;43;03m# mark each step as a child run\u001b[39;49;00m\n\u001b[1;32m   2371\u001b[0m \u001b[43m            \u001b[49m\u001b[43mpatch_config\u001b[49m\u001b[43m(\u001b[49m\n\u001b[1;32m   2372\u001b[0m \u001b[43m                \u001b[49m\u001b[43mconfig\u001b[49m\u001b[43m,\u001b[49m\u001b[43m \u001b[49m\u001b[43mcallbacks\u001b[49m\u001b[38;5;241;43m=\u001b[39;49m\u001b[43mrun_manager\u001b[49m\u001b[38;5;241;43m.\u001b[39;49m\u001b[43mget_child\u001b[49m\u001b[43m(\u001b[49m\u001b[38;5;124;43mf\u001b[39;49m\u001b[38;5;124;43m\"\u001b[39;49m\u001b[38;5;124;43mseq:step:\u001b[39;49m\u001b[38;5;132;43;01m{\u001b[39;49;00m\u001b[43mi\u001b[49m\u001b[38;5;241;43m+\u001b[39;49m\u001b[38;5;241;43m1\u001b[39;49m\u001b[38;5;132;43;01m}\u001b[39;49;00m\u001b[38;5;124;43m\"\u001b[39;49m\u001b[43m)\u001b[49m\n\u001b[1;32m   2373\u001b[0m \u001b[43m            \u001b[49m\u001b[43m)\u001b[49m\u001b[43m,\u001b[49m\n\u001b[1;32m   2374\u001b[0m \u001b[43m        \u001b[49m\u001b[43m)\u001b[49m\n\u001b[1;32m   2375\u001b[0m \u001b[38;5;66;03m# finish the root run\u001b[39;00m\n\u001b[1;32m   2376\u001b[0m \u001b[38;5;28;01mexcept\u001b[39;00m \u001b[38;5;167;01mBaseException\u001b[39;00m \u001b[38;5;28;01mas\u001b[39;00m e:\n",
      "File \u001b[0;32m~/anaconda3/envs/trading/lib/python3.10/site-packages/langchain_core/runnables/base.py:4396\u001b[0m, in \u001b[0;36mRunnableBindingBase.invoke\u001b[0;34m(self, input, config, **kwargs)\u001b[0m\n\u001b[1;32m   4390\u001b[0m \u001b[38;5;28;01mdef\u001b[39;00m \u001b[38;5;21minvoke\u001b[39m(\n\u001b[1;32m   4391\u001b[0m     \u001b[38;5;28mself\u001b[39m,\n\u001b[1;32m   4392\u001b[0m     \u001b[38;5;28minput\u001b[39m: Input,\n\u001b[1;32m   4393\u001b[0m     config: Optional[RunnableConfig] \u001b[38;5;241m=\u001b[39m \u001b[38;5;28;01mNone\u001b[39;00m,\n\u001b[1;32m   4394\u001b[0m     \u001b[38;5;241m*\u001b[39m\u001b[38;5;241m*\u001b[39mkwargs: Optional[Any],\n\u001b[1;32m   4395\u001b[0m ) \u001b[38;5;241m-\u001b[39m\u001b[38;5;241m>\u001b[39m Output:\n\u001b[0;32m-> 4396\u001b[0m     \u001b[38;5;28;01mreturn\u001b[39;00m \u001b[38;5;28;43mself\u001b[39;49m\u001b[38;5;241;43m.\u001b[39;49m\u001b[43mbound\u001b[49m\u001b[38;5;241;43m.\u001b[39;49m\u001b[43minvoke\u001b[49m\u001b[43m(\u001b[49m\n\u001b[1;32m   4397\u001b[0m \u001b[43m        \u001b[49m\u001b[38;5;28;43minput\u001b[39;49m\u001b[43m,\u001b[49m\n\u001b[1;32m   4398\u001b[0m \u001b[43m        \u001b[49m\u001b[38;5;28;43mself\u001b[39;49m\u001b[38;5;241;43m.\u001b[39;49m\u001b[43m_merge_configs\u001b[49m\u001b[43m(\u001b[49m\u001b[43mconfig\u001b[49m\u001b[43m)\u001b[49m\u001b[43m,\u001b[49m\n\u001b[1;32m   4399\u001b[0m \u001b[43m        \u001b[49m\u001b[38;5;241;43m*\u001b[39;49m\u001b[38;5;241;43m*\u001b[39;49m\u001b[43m{\u001b[49m\u001b[38;5;241;43m*\u001b[39;49m\u001b[38;5;241;43m*\u001b[39;49m\u001b[38;5;28;43mself\u001b[39;49m\u001b[38;5;241;43m.\u001b[39;49m\u001b[43mkwargs\u001b[49m\u001b[43m,\u001b[49m\u001b[43m \u001b[49m\u001b[38;5;241;43m*\u001b[39;49m\u001b[38;5;241;43m*\u001b[39;49m\u001b[43mkwargs\u001b[49m\u001b[43m}\u001b[49m\u001b[43m,\u001b[49m\n\u001b[1;32m   4400\u001b[0m \u001b[43m    \u001b[49m\u001b[43m)\u001b[49m\n",
      "File \u001b[0;32m~/anaconda3/envs/trading/lib/python3.10/site-packages/langchain_core/language_models/chat_models.py:170\u001b[0m, in \u001b[0;36mBaseChatModel.invoke\u001b[0;34m(self, input, config, stop, **kwargs)\u001b[0m\n\u001b[1;32m    159\u001b[0m \u001b[38;5;28;01mdef\u001b[39;00m \u001b[38;5;21minvoke\u001b[39m(\n\u001b[1;32m    160\u001b[0m     \u001b[38;5;28mself\u001b[39m,\n\u001b[1;32m    161\u001b[0m     \u001b[38;5;28minput\u001b[39m: LanguageModelInput,\n\u001b[0;32m   (...)\u001b[0m\n\u001b[1;32m    165\u001b[0m     \u001b[38;5;241m*\u001b[39m\u001b[38;5;241m*\u001b[39mkwargs: Any,\n\u001b[1;32m    166\u001b[0m ) \u001b[38;5;241m-\u001b[39m\u001b[38;5;241m>\u001b[39m BaseMessage:\n\u001b[1;32m    167\u001b[0m     config \u001b[38;5;241m=\u001b[39m ensure_config(config)\n\u001b[1;32m    168\u001b[0m     \u001b[38;5;28;01mreturn\u001b[39;00m cast(\n\u001b[1;32m    169\u001b[0m         ChatGeneration,\n\u001b[0;32m--> 170\u001b[0m         \u001b[38;5;28;43mself\u001b[39;49m\u001b[38;5;241;43m.\u001b[39;49m\u001b[43mgenerate_prompt\u001b[49m\u001b[43m(\u001b[49m\n\u001b[1;32m    171\u001b[0m \u001b[43m            \u001b[49m\u001b[43m[\u001b[49m\u001b[38;5;28;43mself\u001b[39;49m\u001b[38;5;241;43m.\u001b[39;49m\u001b[43m_convert_input\u001b[49m\u001b[43m(\u001b[49m\u001b[38;5;28;43minput\u001b[39;49m\u001b[43m)\u001b[49m\u001b[43m]\u001b[49m\u001b[43m,\u001b[49m\n\u001b[1;32m    172\u001b[0m \u001b[43m            \u001b[49m\u001b[43mstop\u001b[49m\u001b[38;5;241;43m=\u001b[39;49m\u001b[43mstop\u001b[49m\u001b[43m,\u001b[49m\n\u001b[1;32m    173\u001b[0m \u001b[43m            \u001b[49m\u001b[43mcallbacks\u001b[49m\u001b[38;5;241;43m=\u001b[39;49m\u001b[43mconfig\u001b[49m\u001b[38;5;241;43m.\u001b[39;49m\u001b[43mget\u001b[49m\u001b[43m(\u001b[49m\u001b[38;5;124;43m\"\u001b[39;49m\u001b[38;5;124;43mcallbacks\u001b[39;49m\u001b[38;5;124;43m\"\u001b[39;49m\u001b[43m)\u001b[49m\u001b[43m,\u001b[49m\n\u001b[1;32m    174\u001b[0m \u001b[43m            \u001b[49m\u001b[43mtags\u001b[49m\u001b[38;5;241;43m=\u001b[39;49m\u001b[43mconfig\u001b[49m\u001b[38;5;241;43m.\u001b[39;49m\u001b[43mget\u001b[49m\u001b[43m(\u001b[49m\u001b[38;5;124;43m\"\u001b[39;49m\u001b[38;5;124;43mtags\u001b[39;49m\u001b[38;5;124;43m\"\u001b[39;49m\u001b[43m)\u001b[49m\u001b[43m,\u001b[49m\n\u001b[1;32m    175\u001b[0m \u001b[43m            \u001b[49m\u001b[43mmetadata\u001b[49m\u001b[38;5;241;43m=\u001b[39;49m\u001b[43mconfig\u001b[49m\u001b[38;5;241;43m.\u001b[39;49m\u001b[43mget\u001b[49m\u001b[43m(\u001b[49m\u001b[38;5;124;43m\"\u001b[39;49m\u001b[38;5;124;43mmetadata\u001b[39;49m\u001b[38;5;124;43m\"\u001b[39;49m\u001b[43m)\u001b[49m\u001b[43m,\u001b[49m\n\u001b[1;32m    176\u001b[0m \u001b[43m            \u001b[49m\u001b[43mrun_name\u001b[49m\u001b[38;5;241;43m=\u001b[39;49m\u001b[43mconfig\u001b[49m\u001b[38;5;241;43m.\u001b[39;49m\u001b[43mget\u001b[49m\u001b[43m(\u001b[49m\u001b[38;5;124;43m\"\u001b[39;49m\u001b[38;5;124;43mrun_name\u001b[39;49m\u001b[38;5;124;43m\"\u001b[39;49m\u001b[43m)\u001b[49m\u001b[43m,\u001b[49m\n\u001b[1;32m    177\u001b[0m \u001b[43m            \u001b[49m\u001b[43mrun_id\u001b[49m\u001b[38;5;241;43m=\u001b[39;49m\u001b[43mconfig\u001b[49m\u001b[38;5;241;43m.\u001b[39;49m\u001b[43mpop\u001b[49m\u001b[43m(\u001b[49m\u001b[38;5;124;43m\"\u001b[39;49m\u001b[38;5;124;43mrun_id\u001b[39;49m\u001b[38;5;124;43m\"\u001b[39;49m\u001b[43m,\u001b[49m\u001b[43m \u001b[49m\u001b[38;5;28;43;01mNone\u001b[39;49;00m\u001b[43m)\u001b[49m\u001b[43m,\u001b[49m\n\u001b[1;32m    178\u001b[0m \u001b[43m            \u001b[49m\u001b[38;5;241;43m*\u001b[39;49m\u001b[38;5;241;43m*\u001b[39;49m\u001b[43mkwargs\u001b[49m\u001b[43m,\u001b[49m\n\u001b[1;32m    179\u001b[0m \u001b[43m        \u001b[49m\u001b[43m)\u001b[49m\u001b[38;5;241m.\u001b[39mgenerations[\u001b[38;5;241m0\u001b[39m][\u001b[38;5;241m0\u001b[39m],\n\u001b[1;32m    180\u001b[0m     )\u001b[38;5;241m.\u001b[39mmessage\n",
      "File \u001b[0;32m~/anaconda3/envs/trading/lib/python3.10/site-packages/langchain_core/language_models/chat_models.py:599\u001b[0m, in \u001b[0;36mBaseChatModel.generate_prompt\u001b[0;34m(self, prompts, stop, callbacks, **kwargs)\u001b[0m\n\u001b[1;32m    591\u001b[0m \u001b[38;5;28;01mdef\u001b[39;00m \u001b[38;5;21mgenerate_prompt\u001b[39m(\n\u001b[1;32m    592\u001b[0m     \u001b[38;5;28mself\u001b[39m,\n\u001b[1;32m    593\u001b[0m     prompts: List[PromptValue],\n\u001b[0;32m   (...)\u001b[0m\n\u001b[1;32m    596\u001b[0m     \u001b[38;5;241m*\u001b[39m\u001b[38;5;241m*\u001b[39mkwargs: Any,\n\u001b[1;32m    597\u001b[0m ) \u001b[38;5;241m-\u001b[39m\u001b[38;5;241m>\u001b[39m LLMResult:\n\u001b[1;32m    598\u001b[0m     prompt_messages \u001b[38;5;241m=\u001b[39m [p\u001b[38;5;241m.\u001b[39mto_messages() \u001b[38;5;28;01mfor\u001b[39;00m p \u001b[38;5;129;01min\u001b[39;00m prompts]\n\u001b[0;32m--> 599\u001b[0m     \u001b[38;5;28;01mreturn\u001b[39;00m \u001b[38;5;28;43mself\u001b[39;49m\u001b[38;5;241;43m.\u001b[39;49m\u001b[43mgenerate\u001b[49m\u001b[43m(\u001b[49m\u001b[43mprompt_messages\u001b[49m\u001b[43m,\u001b[49m\u001b[43m \u001b[49m\u001b[43mstop\u001b[49m\u001b[38;5;241;43m=\u001b[39;49m\u001b[43mstop\u001b[49m\u001b[43m,\u001b[49m\u001b[43m \u001b[49m\u001b[43mcallbacks\u001b[49m\u001b[38;5;241;43m=\u001b[39;49m\u001b[43mcallbacks\u001b[49m\u001b[43m,\u001b[49m\u001b[43m \u001b[49m\u001b[38;5;241;43m*\u001b[39;49m\u001b[38;5;241;43m*\u001b[39;49m\u001b[43mkwargs\u001b[49m\u001b[43m)\u001b[49m\n",
      "File \u001b[0;32m~/anaconda3/envs/trading/lib/python3.10/site-packages/langchain_core/language_models/chat_models.py:456\u001b[0m, in \u001b[0;36mBaseChatModel.generate\u001b[0;34m(self, messages, stop, callbacks, tags, metadata, run_name, run_id, **kwargs)\u001b[0m\n\u001b[1;32m    454\u001b[0m         \u001b[38;5;28;01mif\u001b[39;00m run_managers:\n\u001b[1;32m    455\u001b[0m             run_managers[i]\u001b[38;5;241m.\u001b[39mon_llm_error(e, response\u001b[38;5;241m=\u001b[39mLLMResult(generations\u001b[38;5;241m=\u001b[39m[]))\n\u001b[0;32m--> 456\u001b[0m         \u001b[38;5;28;01mraise\u001b[39;00m e\n\u001b[1;32m    457\u001b[0m flattened_outputs \u001b[38;5;241m=\u001b[39m [\n\u001b[1;32m    458\u001b[0m     LLMResult(generations\u001b[38;5;241m=\u001b[39m[res\u001b[38;5;241m.\u001b[39mgenerations], llm_output\u001b[38;5;241m=\u001b[39mres\u001b[38;5;241m.\u001b[39mllm_output)  \u001b[38;5;66;03m# type: ignore[list-item]\u001b[39;00m\n\u001b[1;32m    459\u001b[0m     \u001b[38;5;28;01mfor\u001b[39;00m res \u001b[38;5;129;01min\u001b[39;00m results\n\u001b[1;32m    460\u001b[0m ]\n\u001b[1;32m    461\u001b[0m llm_output \u001b[38;5;241m=\u001b[39m \u001b[38;5;28mself\u001b[39m\u001b[38;5;241m.\u001b[39m_combine_llm_outputs([res\u001b[38;5;241m.\u001b[39mllm_output \u001b[38;5;28;01mfor\u001b[39;00m res \u001b[38;5;129;01min\u001b[39;00m results])\n",
      "File \u001b[0;32m~/anaconda3/envs/trading/lib/python3.10/site-packages/langchain_core/language_models/chat_models.py:446\u001b[0m, in \u001b[0;36mBaseChatModel.generate\u001b[0;34m(self, messages, stop, callbacks, tags, metadata, run_name, run_id, **kwargs)\u001b[0m\n\u001b[1;32m    443\u001b[0m \u001b[38;5;28;01mfor\u001b[39;00m i, m \u001b[38;5;129;01min\u001b[39;00m \u001b[38;5;28menumerate\u001b[39m(messages):\n\u001b[1;32m    444\u001b[0m     \u001b[38;5;28;01mtry\u001b[39;00m:\n\u001b[1;32m    445\u001b[0m         results\u001b[38;5;241m.\u001b[39mappend(\n\u001b[0;32m--> 446\u001b[0m             \u001b[38;5;28;43mself\u001b[39;49m\u001b[38;5;241;43m.\u001b[39;49m\u001b[43m_generate_with_cache\u001b[49m\u001b[43m(\u001b[49m\n\u001b[1;32m    447\u001b[0m \u001b[43m                \u001b[49m\u001b[43mm\u001b[49m\u001b[43m,\u001b[49m\n\u001b[1;32m    448\u001b[0m \u001b[43m                \u001b[49m\u001b[43mstop\u001b[49m\u001b[38;5;241;43m=\u001b[39;49m\u001b[43mstop\u001b[49m\u001b[43m,\u001b[49m\n\u001b[1;32m    449\u001b[0m \u001b[43m                \u001b[49m\u001b[43mrun_manager\u001b[49m\u001b[38;5;241;43m=\u001b[39;49m\u001b[43mrun_managers\u001b[49m\u001b[43m[\u001b[49m\u001b[43mi\u001b[49m\u001b[43m]\u001b[49m\u001b[43m \u001b[49m\u001b[38;5;28;43;01mif\u001b[39;49;00m\u001b[43m \u001b[49m\u001b[43mrun_managers\u001b[49m\u001b[43m \u001b[49m\u001b[38;5;28;43;01melse\u001b[39;49;00m\u001b[43m \u001b[49m\u001b[38;5;28;43;01mNone\u001b[39;49;00m\u001b[43m,\u001b[49m\n\u001b[1;32m    450\u001b[0m \u001b[43m                \u001b[49m\u001b[38;5;241;43m*\u001b[39;49m\u001b[38;5;241;43m*\u001b[39;49m\u001b[43mkwargs\u001b[49m\u001b[43m,\u001b[49m\n\u001b[1;32m    451\u001b[0m \u001b[43m            \u001b[49m\u001b[43m)\u001b[49m\n\u001b[1;32m    452\u001b[0m         )\n\u001b[1;32m    453\u001b[0m     \u001b[38;5;28;01mexcept\u001b[39;00m \u001b[38;5;167;01mBaseException\u001b[39;00m \u001b[38;5;28;01mas\u001b[39;00m e:\n\u001b[1;32m    454\u001b[0m         \u001b[38;5;28;01mif\u001b[39;00m run_managers:\n",
      "File \u001b[0;32m~/anaconda3/envs/trading/lib/python3.10/site-packages/langchain_core/language_models/chat_models.py:671\u001b[0m, in \u001b[0;36mBaseChatModel._generate_with_cache\u001b[0;34m(self, messages, stop, run_manager, **kwargs)\u001b[0m\n\u001b[1;32m    669\u001b[0m \u001b[38;5;28;01melse\u001b[39;00m:\n\u001b[1;32m    670\u001b[0m     \u001b[38;5;28;01mif\u001b[39;00m inspect\u001b[38;5;241m.\u001b[39msignature(\u001b[38;5;28mself\u001b[39m\u001b[38;5;241m.\u001b[39m_generate)\u001b[38;5;241m.\u001b[39mparameters\u001b[38;5;241m.\u001b[39mget(\u001b[38;5;124m\"\u001b[39m\u001b[38;5;124mrun_manager\u001b[39m\u001b[38;5;124m\"\u001b[39m):\n\u001b[0;32m--> 671\u001b[0m         result \u001b[38;5;241m=\u001b[39m \u001b[38;5;28;43mself\u001b[39;49m\u001b[38;5;241;43m.\u001b[39;49m\u001b[43m_generate\u001b[49m\u001b[43m(\u001b[49m\n\u001b[1;32m    672\u001b[0m \u001b[43m            \u001b[49m\u001b[43mmessages\u001b[49m\u001b[43m,\u001b[49m\u001b[43m \u001b[49m\u001b[43mstop\u001b[49m\u001b[38;5;241;43m=\u001b[39;49m\u001b[43mstop\u001b[49m\u001b[43m,\u001b[49m\u001b[43m \u001b[49m\u001b[43mrun_manager\u001b[49m\u001b[38;5;241;43m=\u001b[39;49m\u001b[43mrun_manager\u001b[49m\u001b[43m,\u001b[49m\u001b[43m \u001b[49m\u001b[38;5;241;43m*\u001b[39;49m\u001b[38;5;241;43m*\u001b[39;49m\u001b[43mkwargs\u001b[49m\n\u001b[1;32m    673\u001b[0m \u001b[43m        \u001b[49m\u001b[43m)\u001b[49m\n\u001b[1;32m    674\u001b[0m     \u001b[38;5;28;01melse\u001b[39;00m:\n\u001b[1;32m    675\u001b[0m         result \u001b[38;5;241m=\u001b[39m \u001b[38;5;28mself\u001b[39m\u001b[38;5;241m.\u001b[39m_generate(messages, stop\u001b[38;5;241m=\u001b[39mstop, \u001b[38;5;241m*\u001b[39m\u001b[38;5;241m*\u001b[39mkwargs)\n",
      "File \u001b[0;32m~/anaconda3/envs/trading/lib/python3.10/site-packages/langchain_openai/chat_models/base.py:522\u001b[0m, in \u001b[0;36mBaseChatOpenAI._generate\u001b[0;34m(self, messages, stop, run_manager, **kwargs)\u001b[0m\n\u001b[1;32m    520\u001b[0m message_dicts, params \u001b[38;5;241m=\u001b[39m \u001b[38;5;28mself\u001b[39m\u001b[38;5;241m.\u001b[39m_create_message_dicts(messages, stop)\n\u001b[1;32m    521\u001b[0m params \u001b[38;5;241m=\u001b[39m {\u001b[38;5;241m*\u001b[39m\u001b[38;5;241m*\u001b[39mparams, \u001b[38;5;241m*\u001b[39m\u001b[38;5;241m*\u001b[39mkwargs}\n\u001b[0;32m--> 522\u001b[0m response \u001b[38;5;241m=\u001b[39m \u001b[38;5;28;43mself\u001b[39;49m\u001b[38;5;241;43m.\u001b[39;49m\u001b[43mclient\u001b[49m\u001b[38;5;241;43m.\u001b[39;49m\u001b[43mcreate\u001b[49m\u001b[43m(\u001b[49m\u001b[43mmessages\u001b[49m\u001b[38;5;241;43m=\u001b[39;49m\u001b[43mmessage_dicts\u001b[49m\u001b[43m,\u001b[49m\u001b[43m \u001b[49m\u001b[38;5;241;43m*\u001b[39;49m\u001b[38;5;241;43m*\u001b[39;49m\u001b[43mparams\u001b[49m\u001b[43m)\u001b[49m\n\u001b[1;32m    523\u001b[0m \u001b[38;5;28;01mreturn\u001b[39;00m \u001b[38;5;28mself\u001b[39m\u001b[38;5;241m.\u001b[39m_create_chat_result(response)\n",
      "File \u001b[0;32m~/anaconda3/envs/trading/lib/python3.10/site-packages/openai/_utils/_utils.py:277\u001b[0m, in \u001b[0;36mrequired_args.<locals>.inner.<locals>.wrapper\u001b[0;34m(*args, **kwargs)\u001b[0m\n\u001b[1;32m    275\u001b[0m             msg \u001b[38;5;241m=\u001b[39m \u001b[38;5;124mf\u001b[39m\u001b[38;5;124m\"\u001b[39m\u001b[38;5;124mMissing required argument: \u001b[39m\u001b[38;5;132;01m{\u001b[39;00mquote(missing[\u001b[38;5;241m0\u001b[39m])\u001b[38;5;132;01m}\u001b[39;00m\u001b[38;5;124m\"\u001b[39m\n\u001b[1;32m    276\u001b[0m     \u001b[38;5;28;01mraise\u001b[39;00m \u001b[38;5;167;01mTypeError\u001b[39;00m(msg)\n\u001b[0;32m--> 277\u001b[0m \u001b[38;5;28;01mreturn\u001b[39;00m \u001b[43mfunc\u001b[49m\u001b[43m(\u001b[49m\u001b[38;5;241;43m*\u001b[39;49m\u001b[43margs\u001b[49m\u001b[43m,\u001b[49m\u001b[43m \u001b[49m\u001b[38;5;241;43m*\u001b[39;49m\u001b[38;5;241;43m*\u001b[39;49m\u001b[43mkwargs\u001b[49m\u001b[43m)\u001b[49m\n",
      "File \u001b[0;32m~/anaconda3/envs/trading/lib/python3.10/site-packages/openai/resources/chat/completions.py:590\u001b[0m, in \u001b[0;36mCompletions.create\u001b[0;34m(self, messages, model, frequency_penalty, function_call, functions, logit_bias, logprobs, max_tokens, n, presence_penalty, response_format, seed, stop, stream, stream_options, temperature, tool_choice, tools, top_logprobs, top_p, user, extra_headers, extra_query, extra_body, timeout)\u001b[0m\n\u001b[1;32m    558\u001b[0m \u001b[38;5;129m@required_args\u001b[39m([\u001b[38;5;124m\"\u001b[39m\u001b[38;5;124mmessages\u001b[39m\u001b[38;5;124m\"\u001b[39m, \u001b[38;5;124m\"\u001b[39m\u001b[38;5;124mmodel\u001b[39m\u001b[38;5;124m\"\u001b[39m], [\u001b[38;5;124m\"\u001b[39m\u001b[38;5;124mmessages\u001b[39m\u001b[38;5;124m\"\u001b[39m, \u001b[38;5;124m\"\u001b[39m\u001b[38;5;124mmodel\u001b[39m\u001b[38;5;124m\"\u001b[39m, \u001b[38;5;124m\"\u001b[39m\u001b[38;5;124mstream\u001b[39m\u001b[38;5;124m\"\u001b[39m])\n\u001b[1;32m    559\u001b[0m \u001b[38;5;28;01mdef\u001b[39;00m \u001b[38;5;21mcreate\u001b[39m(\n\u001b[1;32m    560\u001b[0m     \u001b[38;5;28mself\u001b[39m,\n\u001b[0;32m   (...)\u001b[0m\n\u001b[1;32m    588\u001b[0m     timeout: \u001b[38;5;28mfloat\u001b[39m \u001b[38;5;241m|\u001b[39m httpx\u001b[38;5;241m.\u001b[39mTimeout \u001b[38;5;241m|\u001b[39m \u001b[38;5;28;01mNone\u001b[39;00m \u001b[38;5;241m|\u001b[39m NotGiven \u001b[38;5;241m=\u001b[39m NOT_GIVEN,\n\u001b[1;32m    589\u001b[0m ) \u001b[38;5;241m-\u001b[39m\u001b[38;5;241m>\u001b[39m ChatCompletion \u001b[38;5;241m|\u001b[39m Stream[ChatCompletionChunk]:\n\u001b[0;32m--> 590\u001b[0m     \u001b[38;5;28;01mreturn\u001b[39;00m \u001b[38;5;28;43mself\u001b[39;49m\u001b[38;5;241;43m.\u001b[39;49m\u001b[43m_post\u001b[49m\u001b[43m(\u001b[49m\n\u001b[1;32m    591\u001b[0m \u001b[43m        \u001b[49m\u001b[38;5;124;43m\"\u001b[39;49m\u001b[38;5;124;43m/chat/completions\u001b[39;49m\u001b[38;5;124;43m\"\u001b[39;49m\u001b[43m,\u001b[49m\n\u001b[1;32m    592\u001b[0m \u001b[43m        \u001b[49m\u001b[43mbody\u001b[49m\u001b[38;5;241;43m=\u001b[39;49m\u001b[43mmaybe_transform\u001b[49m\u001b[43m(\u001b[49m\n\u001b[1;32m    593\u001b[0m \u001b[43m            \u001b[49m\u001b[43m{\u001b[49m\n\u001b[1;32m    594\u001b[0m \u001b[43m                \u001b[49m\u001b[38;5;124;43m\"\u001b[39;49m\u001b[38;5;124;43mmessages\u001b[39;49m\u001b[38;5;124;43m\"\u001b[39;49m\u001b[43m:\u001b[49m\u001b[43m \u001b[49m\u001b[43mmessages\u001b[49m\u001b[43m,\u001b[49m\n\u001b[1;32m    595\u001b[0m \u001b[43m                \u001b[49m\u001b[38;5;124;43m\"\u001b[39;49m\u001b[38;5;124;43mmodel\u001b[39;49m\u001b[38;5;124;43m\"\u001b[39;49m\u001b[43m:\u001b[49m\u001b[43m \u001b[49m\u001b[43mmodel\u001b[49m\u001b[43m,\u001b[49m\n\u001b[1;32m    596\u001b[0m \u001b[43m                \u001b[49m\u001b[38;5;124;43m\"\u001b[39;49m\u001b[38;5;124;43mfrequency_penalty\u001b[39;49m\u001b[38;5;124;43m\"\u001b[39;49m\u001b[43m:\u001b[49m\u001b[43m \u001b[49m\u001b[43mfrequency_penalty\u001b[49m\u001b[43m,\u001b[49m\n\u001b[1;32m    597\u001b[0m \u001b[43m                \u001b[49m\u001b[38;5;124;43m\"\u001b[39;49m\u001b[38;5;124;43mfunction_call\u001b[39;49m\u001b[38;5;124;43m\"\u001b[39;49m\u001b[43m:\u001b[49m\u001b[43m \u001b[49m\u001b[43mfunction_call\u001b[49m\u001b[43m,\u001b[49m\n\u001b[1;32m    598\u001b[0m \u001b[43m                \u001b[49m\u001b[38;5;124;43m\"\u001b[39;49m\u001b[38;5;124;43mfunctions\u001b[39;49m\u001b[38;5;124;43m\"\u001b[39;49m\u001b[43m:\u001b[49m\u001b[43m \u001b[49m\u001b[43mfunctions\u001b[49m\u001b[43m,\u001b[49m\n\u001b[1;32m    599\u001b[0m \u001b[43m                \u001b[49m\u001b[38;5;124;43m\"\u001b[39;49m\u001b[38;5;124;43mlogit_bias\u001b[39;49m\u001b[38;5;124;43m\"\u001b[39;49m\u001b[43m:\u001b[49m\u001b[43m \u001b[49m\u001b[43mlogit_bias\u001b[49m\u001b[43m,\u001b[49m\n\u001b[1;32m    600\u001b[0m \u001b[43m                \u001b[49m\u001b[38;5;124;43m\"\u001b[39;49m\u001b[38;5;124;43mlogprobs\u001b[39;49m\u001b[38;5;124;43m\"\u001b[39;49m\u001b[43m:\u001b[49m\u001b[43m \u001b[49m\u001b[43mlogprobs\u001b[49m\u001b[43m,\u001b[49m\n\u001b[1;32m    601\u001b[0m \u001b[43m                \u001b[49m\u001b[38;5;124;43m\"\u001b[39;49m\u001b[38;5;124;43mmax_tokens\u001b[39;49m\u001b[38;5;124;43m\"\u001b[39;49m\u001b[43m:\u001b[49m\u001b[43m \u001b[49m\u001b[43mmax_tokens\u001b[49m\u001b[43m,\u001b[49m\n\u001b[1;32m    602\u001b[0m \u001b[43m                \u001b[49m\u001b[38;5;124;43m\"\u001b[39;49m\u001b[38;5;124;43mn\u001b[39;49m\u001b[38;5;124;43m\"\u001b[39;49m\u001b[43m:\u001b[49m\u001b[43m \u001b[49m\u001b[43mn\u001b[49m\u001b[43m,\u001b[49m\n\u001b[1;32m    603\u001b[0m \u001b[43m                \u001b[49m\u001b[38;5;124;43m\"\u001b[39;49m\u001b[38;5;124;43mpresence_penalty\u001b[39;49m\u001b[38;5;124;43m\"\u001b[39;49m\u001b[43m:\u001b[49m\u001b[43m \u001b[49m\u001b[43mpresence_penalty\u001b[49m\u001b[43m,\u001b[49m\n\u001b[1;32m    604\u001b[0m \u001b[43m                \u001b[49m\u001b[38;5;124;43m\"\u001b[39;49m\u001b[38;5;124;43mresponse_format\u001b[39;49m\u001b[38;5;124;43m\"\u001b[39;49m\u001b[43m:\u001b[49m\u001b[43m \u001b[49m\u001b[43mresponse_format\u001b[49m\u001b[43m,\u001b[49m\n\u001b[1;32m    605\u001b[0m \u001b[43m                \u001b[49m\u001b[38;5;124;43m\"\u001b[39;49m\u001b[38;5;124;43mseed\u001b[39;49m\u001b[38;5;124;43m\"\u001b[39;49m\u001b[43m:\u001b[49m\u001b[43m \u001b[49m\u001b[43mseed\u001b[49m\u001b[43m,\u001b[49m\n\u001b[1;32m    606\u001b[0m \u001b[43m                \u001b[49m\u001b[38;5;124;43m\"\u001b[39;49m\u001b[38;5;124;43mstop\u001b[39;49m\u001b[38;5;124;43m\"\u001b[39;49m\u001b[43m:\u001b[49m\u001b[43m \u001b[49m\u001b[43mstop\u001b[49m\u001b[43m,\u001b[49m\n\u001b[1;32m    607\u001b[0m \u001b[43m                \u001b[49m\u001b[38;5;124;43m\"\u001b[39;49m\u001b[38;5;124;43mstream\u001b[39;49m\u001b[38;5;124;43m\"\u001b[39;49m\u001b[43m:\u001b[49m\u001b[43m \u001b[49m\u001b[43mstream\u001b[49m\u001b[43m,\u001b[49m\n\u001b[1;32m    608\u001b[0m \u001b[43m                \u001b[49m\u001b[38;5;124;43m\"\u001b[39;49m\u001b[38;5;124;43mstream_options\u001b[39;49m\u001b[38;5;124;43m\"\u001b[39;49m\u001b[43m:\u001b[49m\u001b[43m \u001b[49m\u001b[43mstream_options\u001b[49m\u001b[43m,\u001b[49m\n\u001b[1;32m    609\u001b[0m \u001b[43m                \u001b[49m\u001b[38;5;124;43m\"\u001b[39;49m\u001b[38;5;124;43mtemperature\u001b[39;49m\u001b[38;5;124;43m\"\u001b[39;49m\u001b[43m:\u001b[49m\u001b[43m \u001b[49m\u001b[43mtemperature\u001b[49m\u001b[43m,\u001b[49m\n\u001b[1;32m    610\u001b[0m \u001b[43m                \u001b[49m\u001b[38;5;124;43m\"\u001b[39;49m\u001b[38;5;124;43mtool_choice\u001b[39;49m\u001b[38;5;124;43m\"\u001b[39;49m\u001b[43m:\u001b[49m\u001b[43m \u001b[49m\u001b[43mtool_choice\u001b[49m\u001b[43m,\u001b[49m\n\u001b[1;32m    611\u001b[0m \u001b[43m                \u001b[49m\u001b[38;5;124;43m\"\u001b[39;49m\u001b[38;5;124;43mtools\u001b[39;49m\u001b[38;5;124;43m\"\u001b[39;49m\u001b[43m:\u001b[49m\u001b[43m \u001b[49m\u001b[43mtools\u001b[49m\u001b[43m,\u001b[49m\n\u001b[1;32m    612\u001b[0m \u001b[43m                \u001b[49m\u001b[38;5;124;43m\"\u001b[39;49m\u001b[38;5;124;43mtop_logprobs\u001b[39;49m\u001b[38;5;124;43m\"\u001b[39;49m\u001b[43m:\u001b[49m\u001b[43m \u001b[49m\u001b[43mtop_logprobs\u001b[49m\u001b[43m,\u001b[49m\n\u001b[1;32m    613\u001b[0m \u001b[43m                \u001b[49m\u001b[38;5;124;43m\"\u001b[39;49m\u001b[38;5;124;43mtop_p\u001b[39;49m\u001b[38;5;124;43m\"\u001b[39;49m\u001b[43m:\u001b[49m\u001b[43m \u001b[49m\u001b[43mtop_p\u001b[49m\u001b[43m,\u001b[49m\n\u001b[1;32m    614\u001b[0m \u001b[43m                \u001b[49m\u001b[38;5;124;43m\"\u001b[39;49m\u001b[38;5;124;43muser\u001b[39;49m\u001b[38;5;124;43m\"\u001b[39;49m\u001b[43m:\u001b[49m\u001b[43m \u001b[49m\u001b[43muser\u001b[49m\u001b[43m,\u001b[49m\n\u001b[1;32m    615\u001b[0m \u001b[43m            \u001b[49m\u001b[43m}\u001b[49m\u001b[43m,\u001b[49m\n\u001b[1;32m    616\u001b[0m \u001b[43m            \u001b[49m\u001b[43mcompletion_create_params\u001b[49m\u001b[38;5;241;43m.\u001b[39;49m\u001b[43mCompletionCreateParams\u001b[49m\u001b[43m,\u001b[49m\n\u001b[1;32m    617\u001b[0m \u001b[43m        \u001b[49m\u001b[43m)\u001b[49m\u001b[43m,\u001b[49m\n\u001b[1;32m    618\u001b[0m \u001b[43m        \u001b[49m\u001b[43moptions\u001b[49m\u001b[38;5;241;43m=\u001b[39;49m\u001b[43mmake_request_options\u001b[49m\u001b[43m(\u001b[49m\n\u001b[1;32m    619\u001b[0m \u001b[43m            \u001b[49m\u001b[43mextra_headers\u001b[49m\u001b[38;5;241;43m=\u001b[39;49m\u001b[43mextra_headers\u001b[49m\u001b[43m,\u001b[49m\u001b[43m \u001b[49m\u001b[43mextra_query\u001b[49m\u001b[38;5;241;43m=\u001b[39;49m\u001b[43mextra_query\u001b[49m\u001b[43m,\u001b[49m\u001b[43m \u001b[49m\u001b[43mextra_body\u001b[49m\u001b[38;5;241;43m=\u001b[39;49m\u001b[43mextra_body\u001b[49m\u001b[43m,\u001b[49m\u001b[43m \u001b[49m\u001b[43mtimeout\u001b[49m\u001b[38;5;241;43m=\u001b[39;49m\u001b[43mtimeout\u001b[49m\n\u001b[1;32m    620\u001b[0m \u001b[43m        \u001b[49m\u001b[43m)\u001b[49m\u001b[43m,\u001b[49m\n\u001b[1;32m    621\u001b[0m \u001b[43m        \u001b[49m\u001b[43mcast_to\u001b[49m\u001b[38;5;241;43m=\u001b[39;49m\u001b[43mChatCompletion\u001b[49m\u001b[43m,\u001b[49m\n\u001b[1;32m    622\u001b[0m \u001b[43m        \u001b[49m\u001b[43mstream\u001b[49m\u001b[38;5;241;43m=\u001b[39;49m\u001b[43mstream\u001b[49m\u001b[43m \u001b[49m\u001b[38;5;129;43;01mor\u001b[39;49;00m\u001b[43m \u001b[49m\u001b[38;5;28;43;01mFalse\u001b[39;49;00m\u001b[43m,\u001b[49m\n\u001b[1;32m    623\u001b[0m \u001b[43m        \u001b[49m\u001b[43mstream_cls\u001b[49m\u001b[38;5;241;43m=\u001b[39;49m\u001b[43mStream\u001b[49m\u001b[43m[\u001b[49m\u001b[43mChatCompletionChunk\u001b[49m\u001b[43m]\u001b[49m\u001b[43m,\u001b[49m\n\u001b[1;32m    624\u001b[0m \u001b[43m    \u001b[49m\u001b[43m)\u001b[49m\n",
      "File \u001b[0;32m~/anaconda3/envs/trading/lib/python3.10/site-packages/openai/_base_client.py:1240\u001b[0m, in \u001b[0;36mSyncAPIClient.post\u001b[0;34m(self, path, cast_to, body, options, files, stream, stream_cls)\u001b[0m\n\u001b[1;32m   1226\u001b[0m \u001b[38;5;28;01mdef\u001b[39;00m \u001b[38;5;21mpost\u001b[39m(\n\u001b[1;32m   1227\u001b[0m     \u001b[38;5;28mself\u001b[39m,\n\u001b[1;32m   1228\u001b[0m     path: \u001b[38;5;28mstr\u001b[39m,\n\u001b[0;32m   (...)\u001b[0m\n\u001b[1;32m   1235\u001b[0m     stream_cls: \u001b[38;5;28mtype\u001b[39m[_StreamT] \u001b[38;5;241m|\u001b[39m \u001b[38;5;28;01mNone\u001b[39;00m \u001b[38;5;241m=\u001b[39m \u001b[38;5;28;01mNone\u001b[39;00m,\n\u001b[1;32m   1236\u001b[0m ) \u001b[38;5;241m-\u001b[39m\u001b[38;5;241m>\u001b[39m ResponseT \u001b[38;5;241m|\u001b[39m _StreamT:\n\u001b[1;32m   1237\u001b[0m     opts \u001b[38;5;241m=\u001b[39m FinalRequestOptions\u001b[38;5;241m.\u001b[39mconstruct(\n\u001b[1;32m   1238\u001b[0m         method\u001b[38;5;241m=\u001b[39m\u001b[38;5;124m\"\u001b[39m\u001b[38;5;124mpost\u001b[39m\u001b[38;5;124m\"\u001b[39m, url\u001b[38;5;241m=\u001b[39mpath, json_data\u001b[38;5;241m=\u001b[39mbody, files\u001b[38;5;241m=\u001b[39mto_httpx_files(files), \u001b[38;5;241m*\u001b[39m\u001b[38;5;241m*\u001b[39moptions\n\u001b[1;32m   1239\u001b[0m     )\n\u001b[0;32m-> 1240\u001b[0m     \u001b[38;5;28;01mreturn\u001b[39;00m cast(ResponseT, \u001b[38;5;28;43mself\u001b[39;49m\u001b[38;5;241;43m.\u001b[39;49m\u001b[43mrequest\u001b[49m\u001b[43m(\u001b[49m\u001b[43mcast_to\u001b[49m\u001b[43m,\u001b[49m\u001b[43m \u001b[49m\u001b[43mopts\u001b[49m\u001b[43m,\u001b[49m\u001b[43m \u001b[49m\u001b[43mstream\u001b[49m\u001b[38;5;241;43m=\u001b[39;49m\u001b[43mstream\u001b[49m\u001b[43m,\u001b[49m\u001b[43m \u001b[49m\u001b[43mstream_cls\u001b[49m\u001b[38;5;241;43m=\u001b[39;49m\u001b[43mstream_cls\u001b[49m\u001b[43m)\u001b[49m)\n",
      "File \u001b[0;32m~/anaconda3/envs/trading/lib/python3.10/site-packages/openai/_base_client.py:921\u001b[0m, in \u001b[0;36mSyncAPIClient.request\u001b[0;34m(self, cast_to, options, remaining_retries, stream, stream_cls)\u001b[0m\n\u001b[1;32m    912\u001b[0m \u001b[38;5;28;01mdef\u001b[39;00m \u001b[38;5;21mrequest\u001b[39m(\n\u001b[1;32m    913\u001b[0m     \u001b[38;5;28mself\u001b[39m,\n\u001b[1;32m    914\u001b[0m     cast_to: Type[ResponseT],\n\u001b[0;32m   (...)\u001b[0m\n\u001b[1;32m    919\u001b[0m     stream_cls: \u001b[38;5;28mtype\u001b[39m[_StreamT] \u001b[38;5;241m|\u001b[39m \u001b[38;5;28;01mNone\u001b[39;00m \u001b[38;5;241m=\u001b[39m \u001b[38;5;28;01mNone\u001b[39;00m,\n\u001b[1;32m    920\u001b[0m ) \u001b[38;5;241m-\u001b[39m\u001b[38;5;241m>\u001b[39m ResponseT \u001b[38;5;241m|\u001b[39m _StreamT:\n\u001b[0;32m--> 921\u001b[0m     \u001b[38;5;28;01mreturn\u001b[39;00m \u001b[38;5;28;43mself\u001b[39;49m\u001b[38;5;241;43m.\u001b[39;49m\u001b[43m_request\u001b[49m\u001b[43m(\u001b[49m\n\u001b[1;32m    922\u001b[0m \u001b[43m        \u001b[49m\u001b[43mcast_to\u001b[49m\u001b[38;5;241;43m=\u001b[39;49m\u001b[43mcast_to\u001b[49m\u001b[43m,\u001b[49m\n\u001b[1;32m    923\u001b[0m \u001b[43m        \u001b[49m\u001b[43moptions\u001b[49m\u001b[38;5;241;43m=\u001b[39;49m\u001b[43moptions\u001b[49m\u001b[43m,\u001b[49m\n\u001b[1;32m    924\u001b[0m \u001b[43m        \u001b[49m\u001b[43mstream\u001b[49m\u001b[38;5;241;43m=\u001b[39;49m\u001b[43mstream\u001b[49m\u001b[43m,\u001b[49m\n\u001b[1;32m    925\u001b[0m \u001b[43m        \u001b[49m\u001b[43mstream_cls\u001b[49m\u001b[38;5;241;43m=\u001b[39;49m\u001b[43mstream_cls\u001b[49m\u001b[43m,\u001b[49m\n\u001b[1;32m    926\u001b[0m \u001b[43m        \u001b[49m\u001b[43mremaining_retries\u001b[49m\u001b[38;5;241;43m=\u001b[39;49m\u001b[43mremaining_retries\u001b[49m\u001b[43m,\u001b[49m\n\u001b[1;32m    927\u001b[0m \u001b[43m    \u001b[49m\u001b[43m)\u001b[49m\n",
      "File \u001b[0;32m~/anaconda3/envs/trading/lib/python3.10/site-packages/openai/_base_client.py:1020\u001b[0m, in \u001b[0;36mSyncAPIClient._request\u001b[0;34m(self, cast_to, options, remaining_retries, stream, stream_cls)\u001b[0m\n\u001b[1;32m   1017\u001b[0m         err\u001b[38;5;241m.\u001b[39mresponse\u001b[38;5;241m.\u001b[39mread()\n\u001b[1;32m   1019\u001b[0m     log\u001b[38;5;241m.\u001b[39mdebug(\u001b[38;5;124m\"\u001b[39m\u001b[38;5;124mRe-raising status error\u001b[39m\u001b[38;5;124m\"\u001b[39m)\n\u001b[0;32m-> 1020\u001b[0m     \u001b[38;5;28;01mraise\u001b[39;00m \u001b[38;5;28mself\u001b[39m\u001b[38;5;241m.\u001b[39m_make_status_error_from_response(err\u001b[38;5;241m.\u001b[39mresponse) \u001b[38;5;28;01mfrom\u001b[39;00m \u001b[38;5;28;01mNone\u001b[39;00m\n\u001b[1;32m   1022\u001b[0m \u001b[38;5;28;01mreturn\u001b[39;00m \u001b[38;5;28mself\u001b[39m\u001b[38;5;241m.\u001b[39m_process_response(\n\u001b[1;32m   1023\u001b[0m     cast_to\u001b[38;5;241m=\u001b[39mcast_to,\n\u001b[1;32m   1024\u001b[0m     options\u001b[38;5;241m=\u001b[39moptions,\n\u001b[0;32m   (...)\u001b[0m\n\u001b[1;32m   1027\u001b[0m     stream_cls\u001b[38;5;241m=\u001b[39mstream_cls,\n\u001b[1;32m   1028\u001b[0m )\n",
      "\u001b[0;31mBadRequestError\u001b[0m: Error code: 400 - {'error': {'message': \"Invalid 'messages[7].name': string does not match pattern. Expected a string that matches the pattern '^[a-zA-Z0-9_-]+$'.\", 'type': 'invalid_request_error', 'param': 'messages[7].name', 'code': 'invalid_value'}}"
     ]
    }
   ],
   "source": [
    "for s in graph.stream(\n",
    "    {\n",
    "        \"messages\": [\n",
    "            HumanMessage(\n",
    "                content=\"대한민국의 2018년 ~ 2022년의 합계출산율에 대한 데이터를 찾아줘, \"\n",
    "                \"그리고 2023, 2024, 2025년에 대한 전망도 찾아줘, \"\n",
    "                \"마지막으로 수집한 데이터에 대한 그래프를 그려줘. \"\n",
    "                \"코드 작성을 완료했다면 종료해줘.\"\n",
    "            )\n",
    "        ],\n",
    "    },\n",
    "    # 그래프에서 수행할 최대 단계 수\n",
    "    {\"recursion_limit\": 200},\n",
    "):\n",
    "    print(s)\n",
    "    print(\"----\")"
   ]
  },
  {
   "cell_type": "code",
   "execution_count": null,
   "id": "90655ad5-46e7-476b-8a67-38ee53f3edb7",
   "metadata": {},
   "outputs": [],
   "source": []
  },
  {
   "cell_type": "code",
   "execution_count": null,
   "id": "3dc1dd92",
   "metadata": {},
   "outputs": [],
   "source": [
    "\n",
    "import sqlite3\n",
    "import pandas as pd\n",
    "import matplotlib.pyplot as plt\n",
    "from langchain.agents import create_sql_agent\n",
    "from langchain.sql_database import SQLDatabase\n",
    "from langchain.llms import OpenAI\n"
   ]
  },
  {
   "cell_type": "code",
   "execution_count": null,
   "id": "d53245f7",
   "metadata": {},
   "outputs": [],
   "source": [
    "\n",
    "# Connect to the SQLite database (or create it if it doesn't exist)\n",
    "conn = sqlite3.connect('example.db')\n",
    "cursor = conn.cursor()\n",
    "\n",
    "# Create a sample table and insert some data\n",
    "cursor.execute('''\n",
    "CREATE TABLE IF NOT EXISTS sales (\n",
    "    id INTEGER PRIMARY KEY,\n",
    "    date TEXT,\n",
    "    sales_amount REAL\n",
    ")\n",
    "''')\n",
    "cursor.executemany('''\n",
    "INSERT INTO sales (date, sales_amount) VALUES (?, ?)\n",
    "''', [\n",
    "    ('2023-01-01', 100.0),\n",
    "    ('2023-01-02', 150.0),\n",
    "    ('2023-01-03', 200.0),\n",
    "    ('2023-01-04', 250.0),\n",
    "    ('2023-01-05', 300.0)\n",
    "])\n",
    "conn.commit()\n",
    "\n",
    "# Set up the SQL agent\n",
    "db = SQLDatabase(conn)\n",
    "llm = OpenAI(api_key='your_openai_api_key')\n",
    "sql_agent = create_sql_agent(llm, db)\n"
   ]
  },
  {
   "cell_type": "code",
   "execution_count": null,
   "id": "095fc0f2",
   "metadata": {},
   "outputs": [],
   "source": [
    "\n",
    "# Use the SQL agent to query the database\n",
    "query = \"SELECT * FROM sales\"\n",
    "result = sql_agent.run(query)\n",
    "print(result)\n"
   ]
  },
  {
   "cell_type": "code",
   "execution_count": null,
   "id": "c70a8ae2",
   "metadata": {},
   "outputs": [],
   "source": [
    "\n",
    "# Load data into a pandas DataFrame\n",
    "data = pd.read_sql_query('SELECT * FROM sales', conn)\n",
    "\n",
    "# Close the database connection\n",
    "conn.close()\n",
    "\n",
    "# Visualize the data\n",
    "plt.figure(figsize=(10, 5))\n",
    "plt.plot(data['date'], data['sales_amount'], marker='o')\n",
    "plt.title('Sales Amount Over Time')\n",
    "plt.xlabel('Date')\n",
    "plt.ylabel('Sales Amount')\n",
    "plt.grid(True)\n",
    "plt.show()\n"
   ]
  }
 ],
 "metadata": {
  "colab": {
   "provenance": []
  },
  "kernelspec": {
   "display_name": "Python 3 (ipykernel)",
   "language": "python",
   "name": "python3"
  },
  "language_info": {
   "codemirror_mode": {
    "name": "ipython",
    "version": 3
   },
   "file_extension": ".py",
   "mimetype": "text/x-python",
   "name": "python",
   "nbconvert_exporter": "python",
   "pygments_lexer": "ipython3",
   "version": "3.9.18"
  },
  "toc": {
   "base_numbering": 1,
   "nav_menu": {},
   "number_sections": true,
   "sideBar": true,
   "skip_h1_title": false,
   "title_cell": "Table of Contents",
   "title_sidebar": "Contents",
   "toc_cell": false,
   "toc_position": {},
   "toc_section_display": true,
   "toc_window_display": false
  }
 },
 "nbformat": 4,
 "nbformat_minor": 5
}
