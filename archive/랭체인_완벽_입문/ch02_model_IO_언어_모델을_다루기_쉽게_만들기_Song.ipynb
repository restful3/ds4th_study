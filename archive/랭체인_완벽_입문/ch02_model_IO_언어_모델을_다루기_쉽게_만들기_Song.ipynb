{
 "cells": [
  {
   "cell_type": "markdown",
   "id": "1aeb2521-3265-482c-b6b6-7cfb6a220f19",
   "metadata": {},
   "source": [
    "# 언어 모델을 이용한 응용 프로그램 작동 방식"
   ]
  },
  {
   "cell_type": "markdown",
   "id": "0f011cda-f8ee-4cd7-9705-112914ff1700",
   "metadata": {},
   "source": [
    "## 언어 모델 호출이란"
   ]
  },
  {
   "cell_type": "code",
   "execution_count": 1,
   "id": "4a103f67-a517-48b7-9c8f-49b44b5f2c12",
   "metadata": {},
   "outputs": [],
   "source": [
    "import os\n",
    "from openai import OpenAI"
   ]
  },
  {
   "cell_type": "code",
   "execution_count": 2,
   "id": "3a970855-141f-4573-ab58-a463aecabe2f",
   "metadata": {},
   "outputs": [
    {
     "name": "stdout",
     "output_type": "stream",
     "text": [
      "죄송하지만 iphone8은 이미 출시된 제품이 아니기 때문에 정확한 출시일을 알려드릴 수는 없습니다. 현재 애플사의 최신 제품은 iPhone 13 시리즈입니다.\n"
     ]
    }
   ],
   "source": [
    "client = OpenAI(\n",
    "    # api_key=os.environ.get(\"OPENAI_API_KEY\"),\n",
    ")\n",
    "\n",
    "response = client.chat.completions.create(\n",
    "    messages=[\n",
    "        {\n",
    "            \"role\": \"user\",\n",
    "            \"content\": \"iphone8의 출시일을 yyyy/mm/dd 형식으로 알려줘.\",\n",
    "        }\n",
    "    ],\n",
    "    model=\"gpt-3.5-turbo\",\n",
    ")\n",
    "\n",
    "print(response.choices[0].message.content)"
   ]
  },
  {
   "cell_type": "markdown",
   "id": "2a174544-2aae-43a5-8dbd-5ad35561902f",
   "metadata": {},
   "source": [
    "## Language models을 사용해 gpt-3.5-turbo 호출하기"
   ]
  },
  {
   "cell_type": "code",
   "execution_count": 3,
   "id": "35b5b4a3-5d80-49f7-bd06-3e5bb2c89dbb",
   "metadata": {},
   "outputs": [],
   "source": [
    "import os\n",
    "from langchain_core.messages import HumanMessage, SystemMessage, AIMessage\n",
    "from langchain_core.prompts import ChatPromptTemplate\n",
    "from langchain_openai import ChatOpenAI"
   ]
  },
  {
   "cell_type": "code",
   "execution_count": 4,
   "id": "dc8441ef-affa-4b07-9e9a-67aa17d16bed",
   "metadata": {},
   "outputs": [],
   "source": [
    "chat = ChatOpenAI(model=\"gpt-3.5-turbo-0125\", \n",
    "                  temperature=0)"
   ]
  },
  {
   "cell_type": "code",
   "execution_count": 7,
   "id": "c503ee1e-d998-40a2-b261-ec6cc9f25226",
   "metadata": {},
   "outputs": [
    {
     "name": "stdout",
     "output_type": "stream",
     "text": [
      "안녕하세요! 무엇을 도와드릴까요?\n"
     ]
    }
   ],
   "source": [
    "result = chat.invoke([\n",
    "    HumanMessage(content='안녕하세요')\n",
    "])\n",
    "print(result.content)"
   ]
  },
  {
   "cell_type": "markdown",
   "id": "6ac241eb-d0ff-4d9f-ba0d-94bdf3e48dbd",
   "metadata": {},
   "source": [
    "- AIMessage 를 사용해 언어 모델 응답 표현"
   ]
  },
  {
   "cell_type": "code",
   "execution_count": 12,
   "id": "0336f416-8a02-4ca0-9f27-165702b53059",
   "metadata": {},
   "outputs": [
    {
     "name": "stdout",
     "output_type": "stream",
     "text": [
      "How to make steamed eggs\n"
     ]
    }
   ],
   "source": [
    "result = chat.invoke([\n",
    "    HumanMessage(content='계란찜 만드는 법 알려줘'),    \n",
    "    AIMessage(content=\"{ChatModel의 답변인 계란찜 만드는 법}\"),\n",
    "    HumanMessage(content='영어로 번역해줘')\n",
    "])\n",
    "print(result.content)"
   ]
  },
  {
   "cell_type": "markdown",
   "id": "f0964a71-37e8-4551-98c2-709a2f216be8",
   "metadata": {},
   "source": [
    "- SystemMessage을 사용해 언어 모델의 성격과 설정 정의"
   ]
  },
  {
   "cell_type": "code",
   "execution_count": 13,
   "id": "982d188c-5c6a-4f30-af13-c7a05fa9288b",
   "metadata": {},
   "outputs": [
    {
     "name": "stdout",
     "output_type": "stream",
     "text": [
      "응, 안녕! 너도 잘 지냈어? 무슨 일 있었어?\n"
     ]
    }
   ],
   "source": [
    "result = chat.invoke([\n",
    "    SystemMessage(content='당신은 친한 친구 입니다. 존댓말을 쓰지 말고 솔직하게 답해줘.'),    \n",
    "    HumanMessage(content='안녕? 잘 지냈어?')\n",
    "])\n",
    "print(result.content)"
   ]
  },
  {
   "cell_type": "markdown",
   "id": "a6adcdb2-d057-4454-a02c-9c184a219e5a",
   "metadata": {},
   "source": [
    "- 언어 모델 교체"
   ]
  },
  {
   "cell_type": "code",
   "execution_count": 8,
   "id": "68ae57e6-84ad-4c0e-8912-b67e5e243f2c",
   "metadata": {},
   "outputs": [
    {
     "name": "stdout",
     "output_type": "stream",
     "text": [
      "[TextBlock(text='Here are three popular ways to cook apples:\\n\\n1. Baked Apples: Core the apples and fill the center with a mixture of butter, brown sugar, cinnamon, and nutmeg. Place the apples in a baking dish and bake in a preheated oven at 375°F (190°C) for about 30-45 minutes, or until the apples are tender and the filling is bubbly.\\n\\n2. Apple Sauce: Peel, core, and chop the apples. Place them in a saucepan with a small amount of water, sugar, and cinnamon. Cook over medium heat, stirring occasionally, until the apples are soft and can be easily mashed with a fork. Mash the apples to your desired consistency and serve warm or chilled.\\n\\n3. Sautéed Apples: Peel, core, and slice the apples. Melt butter in a skillet over medium heat. Add the apple slices, sugar, and cinnamon. Cook, stirring occasionally, until the apples are tender and caramelized, about 10-15 minutes. Serve as a topping for pancakes, waffles, or ice cream, or enjoy them on their own.', type='text')]\n"
     ]
    }
   ],
   "source": [
    "import anthropic\n",
    "\n",
    "client = anthropic.Anthropic(\n",
    "    # defaults to os.environ.get(\"ANTHROPIC_API_KEY\")\n",
    "    # api_key=os.environ.get(\"ANTHROPIC_API_KEY\"),\n",
    ")\n",
    "message = client.messages.create(\n",
    "    model=\"claude-3-opus-20240229\",\n",
    "    max_tokens=1000,\n",
    "    temperature=0,\n",
    "    system=\"Today is March 4, 2024.\",\n",
    "    messages=[\n",
    "        {\n",
    "            \"role\": \"user\",\n",
    "            \"content\": [\n",
    "                {\n",
    "                    \"type\": \"text\",\n",
    "                    \"text\": \"What are 3 ways to cook apples?\"\n",
    "                }\n",
    "            ]\n",
    "        }\n",
    "    ]\n",
    ")\n",
    "print(message.content)"
   ]
  },
  {
   "cell_type": "code",
   "execution_count": 10,
   "id": "24d6f2c6-a55d-4354-8ae4-da9615d475ab",
   "metadata": {},
   "outputs": [],
   "source": [
    "from langchain_anthropic import ChatAnthropic\n",
    "from langchain_core.prompts import ChatPromptTemplate"
   ]
  },
  {
   "cell_type": "code",
   "execution_count": 12,
   "id": "804c03ce-bd68-448a-9d8e-51a4ef816482",
   "metadata": {},
   "outputs": [],
   "source": [
    "chat = ChatAnthropic(model_name=\"claude-3-opus-20240229\", \n",
    "                  temperature=0)\n",
    "                  # anthropic_api_key=os.environ.get(\"ANTHROPIC_API_KEY\"))"
   ]
  },
  {
   "cell_type": "code",
   "execution_count": 14,
   "id": "cb6b9c1b-c158-47bd-834c-05be08397c9d",
   "metadata": {},
   "outputs": [
    {
     "data": {
      "text/plain": [
       "AIMessage(content='저는 파이썬을 사랑합니다.\\n\\nTranslation:\\nI love Python.', response_metadata={'id': 'msg_017tdgDdqKLcQArTmjgSQGe7', 'model': 'claude-3-opus-20240229', 'stop_reason': 'end_turn', 'stop_sequence': None, 'usage': {'input_tokens': 22, 'output_tokens': 28}}, id='run-9ff132ac-23cf-4186-be11-44690e1505c3-0')"
      ]
     },
     "execution_count": 14,
     "metadata": {},
     "output_type": "execute_result"
    }
   ],
   "source": [
    "system = (\n",
    "    \"You are a helpful assistant that translates {input_language} to {output_language}.\"\n",
    ")\n",
    "human = \"{text}\"\n",
    "prompt = ChatPromptTemplate.from_messages([(\"system\", system), (\"human\", human)])\n",
    "\n",
    "chain = prompt | chat\n",
    "\n",
    "chain.invoke(\n",
    "    {\n",
    "        \"input_language\": \"English\",\n",
    "        \"output_language\": \"Korean\",\n",
    "        \"text\": \"I love Python\",\n",
    "    }\n",
    ")"
   ]
  },
  {
   "cell_type": "markdown",
   "id": "01b81adb-edb3-4f69-8d03-e1affe5565ef",
   "metadata": {},
   "source": [
    "## PromptTemplate 변수를 프롬프트에 전개 하기"
   ]
  },
  {
   "cell_type": "code",
   "execution_count": 19,
   "id": "ebbc0a2a-6b58-4ad0-9389-a00e7a48c626",
   "metadata": {},
   "outputs": [],
   "source": [
    "from langchain import PromptTemplate"
   ]
  },
  {
   "cell_type": "code",
   "execution_count": 22,
   "id": "5620f542-85fd-4223-abbd-19df840d498f",
   "metadata": {},
   "outputs": [],
   "source": [
    "prompt = PromptTemplate(\n",
    "    template = \"{product}는 어느 회사에서 개발한 제품인가?\",\n",
    "    input_variables=[\n",
    "        \"product\"\n",
    "    ]\n",
    ")"
   ]
  },
  {
   "cell_type": "code",
   "execution_count": 23,
   "id": "d8e9ed1a-2e4d-4c9d-9f3f-31d038190202",
   "metadata": {},
   "outputs": [
    {
     "name": "stdout",
     "output_type": "stream",
     "text": [
      "아이폰는 어느 회사에서 개발한 제품인가?\n"
     ]
    }
   ],
   "source": [
    "print(prompt.format(product=\"아이폰\"))"
   ]
  },
  {
   "cell_type": "markdown",
   "id": "e3d90f05-21d2-46ef-af74-f57dd5f1e40e",
   "metadata": {},
   "source": [
    "## PromptTemplate에서 제공하는 다른 기능들"
   ]
  },
  {
   "cell_type": "markdown",
   "id": "6f09325d-00d3-4488-a5e6-94af71ab4055",
   "metadata": {},
   "source": [
    "## Language models와 PromptTemplate의 결합"
   ]
  },
  {
   "cell_type": "code",
   "execution_count": 30,
   "id": "4f561f65-3c27-4600-986a-8415d4ecd902",
   "metadata": {},
   "outputs": [],
   "source": [
    "from langchain import PromptTemplate\n",
    "from langchain.chat_models import ChatOpenAI\n",
    "from langchain.schema import HumanMessage"
   ]
  },
  {
   "cell_type": "code",
   "execution_count": 32,
   "id": "30b8ab5e-82a0-470b-a366-f56f289620a1",
   "metadata": {},
   "outputs": [],
   "source": [
    "chat = ChatOpenAI(\n",
    "    model=\"gpt-3.5-turbo-0125\", \n",
    "    temperature=0, \n",
    "    api_key=os.environ.get(\"OPENAI_API_KEY\")\n",
    ")"
   ]
  },
  {
   "cell_type": "code",
   "execution_count": 33,
   "id": "694a48b9-7461-45dd-8ba9-802b0d5e9642",
   "metadata": {},
   "outputs": [],
   "source": [
    "prompt = PromptTemplate(\n",
    "    template = \"{product}는 어느 회사에서 개발한 제품인가요?\",\n",
    "    input_variables=[\n",
    "        \"product\"\n",
    "    ]\n",
    ")"
   ]
  },
  {
   "cell_type": "code",
   "execution_count": 35,
   "id": "127a0c93-6d3f-4e23-9441-5753d2467d54",
   "metadata": {},
   "outputs": [],
   "source": [
    "result = chat.invoke(\n",
    "    [\n",
    "        HumanMessage(content=prompt.format(product=\"아이폰\"))\n",
    "    ]\n",
    ")"
   ]
  },
  {
   "cell_type": "code",
   "execution_count": 37,
   "id": "7ba7ff37-654f-4f74-8fa7-7c5fdd4bdc59",
   "metadata": {},
   "outputs": [
    {
     "name": "stdout",
     "output_type": "stream",
     "text": [
      "아이폰은 미국의 애플(Apple) 회사에서 개발한 제품입니다.\n"
     ]
    }
   ],
   "source": [
    "print(result.content)"
   ]
  },
  {
   "cell_type": "markdown",
   "id": "aa7a05b3-ac02-4467-b0bf-5489ecbb3c9c",
   "metadata": {},
   "source": [
    "- PromptTemplate 초기화 방법의 종류"
   ]
  },
  {
   "cell_type": "code",
   "execution_count": 38,
   "id": "4d4d5357-ce01-47e2-aa58-7ce560f3635e",
   "metadata": {},
   "outputs": [],
   "source": [
    "prompt = PromptTemplate.from_template(\"{product}는 어느 회사에서 개발한 제품인가요?\")"
   ]
  },
  {
   "cell_type": "markdown",
   "id": "96826ff0-85bf-4b83-9c86-995c367a963d",
   "metadata": {},
   "source": [
    "## 목록 형식으로 결과 받기"
   ]
  },
  {
   "cell_type": "code",
   "execution_count": 39,
   "id": "145be26c-9de8-4bd2-b2d2-3fdfc470018e",
   "metadata": {},
   "outputs": [],
   "source": [
    "from langchain.chat_models import ChatOpenAI\n",
    "from langchain.output_parsers import CommaSeparatedListOutputParser, \n",
    "from langchain.schema import HumanMessage"
   ]
  },
  {
   "cell_type": "code",
   "execution_count": 40,
   "id": "ea611581-6b61-4ccc-963f-0cf4e87fbb6a",
   "metadata": {},
   "outputs": [],
   "source": [
    "output_parser = CommaSeparatedListOutputParser()\n",
    "chat = ChatOpenAI(\n",
    "    model=\"gpt-3.5-turbo-0125\", \n",
    "    temperature=0, \n",
    "    api_key=os.environ.get(\"OPENAI_API_KEY\")\n",
    ")"
   ]
  },
  {
   "cell_type": "code",
   "execution_count": 41,
   "id": "9fc8472e-8ddf-4f89-b4ea-43e3b5341feb",
   "metadata": {},
   "outputs": [],
   "source": [
    "result = chat.invoke(\n",
    "    [\n",
    "        HumanMessage(content=\"애플이 개발한 대표적인 제품 3개를 알려줘\"),\n",
    "        HumanMessage(content=output_parser.get_format_instructions())\n",
    "    ]\n",
    ")"
   ]
  },
  {
   "cell_type": "code",
   "execution_count": 46,
   "id": "801eda82-6418-4181-9ae6-f0556543ebc0",
   "metadata": {},
   "outputs": [
    {
     "data": {
      "text/plain": [
       "'아이폰, 아이패드, 맥북'"
      ]
     },
     "execution_count": 46,
     "metadata": {},
     "output_type": "execute_result"
    }
   ],
   "source": [
    "result.content"
   ]
  },
  {
   "cell_type": "code",
   "execution_count": 47,
   "id": "2631ad05-deed-461d-bc59-10584898607b",
   "metadata": {},
   "outputs": [],
   "source": [
    "output = output_parser.parse(result.content)"
   ]
  },
  {
   "cell_type": "code",
   "execution_count": 48,
   "id": "9b983457-d265-45a8-951e-93f5118d12fa",
   "metadata": {},
   "outputs": [
    {
     "data": {
      "text/plain": [
       "['아이폰', '아이패드', '맥북']"
      ]
     },
     "execution_count": 48,
     "metadata": {},
     "output_type": "execute_result"
    }
   ],
   "source": [
    "output"
   ]
  },
  {
   "cell_type": "code",
   "execution_count": 49,
   "id": "2d655a77-6f88-4244-87f4-eacb3751cd24",
   "metadata": {},
   "outputs": [
    {
     "data": {
      "text/plain": [
       "'Your response should be a list of comma separated values, eg: `foo, bar, baz` or `foo,bar,baz`'"
      ]
     },
     "execution_count": 49,
     "metadata": {},
     "output_type": "execute_result"
    }
   ],
   "source": [
    "output_parser.get_format_instructions()"
   ]
  },
  {
   "cell_type": "markdown",
   "id": "fa172968-a33b-43ac-87a5-a552d70a702b",
   "metadata": {},
   "source": [
    "# Language models - 사용하기 쉬운 모델"
   ]
  },
  {
   "cell_type": "code",
   "execution_count": 52,
   "id": "f33017e7-848e-41f6-ac3c-dcd8fb9f39a2",
   "metadata": {},
   "outputs": [],
   "source": [
    "from langchain.llms import OpenAI\n",
    "\n",
    "llm = OpenAI(\n",
    "    model=\"gpt-3.5-turbo-instruct\",\n",
    "    api_key=os.environ.get(\"OPENAI_API_KEY\")\n",
    ")"
   ]
  },
  {
   "cell_type": "code",
   "execution_count": 53,
   "id": "f5bcc9e9-4bb5-4130-b0e8-51eced54f280",
   "metadata": {},
   "outputs": [],
   "source": [
    "result = llm.invoke(\n",
    "    \"맛있는 라면을\",\n",
    "    stop=\".\"\n",
    ")"
   ]
  },
  {
   "cell_type": "code",
   "execution_count": 54,
   "id": "03ba5b1b-40ff-4dc9-a68e-bfc671d80f35",
   "metadata": {},
   "outputs": [
    {
     "name": "stdout",
     "output_type": "stream",
     "text": [
      " 먹음\");\n",
      "+    }\n",
      "+\n",
      "+    @Override\n",
      "+    protected void goHome() {\n",
      "+        System\n"
     ]
    }
   ],
   "source": [
    "print(result)"
   ]
  },
  {
   "cell_type": "markdown",
   "id": "de95b082-6386-4a42-9c6f-358979df7d46",
   "metadata": {},
   "source": [
    "## Language models의 편리한 기능"
   ]
  },
  {
   "cell_type": "markdown",
   "id": "0cc4e8e8-9e12-4229-b613-25f82995a613",
   "metadata": {},
   "source": [
    "### 캐싱"
   ]
  },
  {
   "cell_type": "code",
   "execution_count": 59,
   "id": "6857d0df-7081-4397-84ce-1311a3f8f300",
   "metadata": {},
   "outputs": [],
   "source": [
    "import time\n",
    "import langchain\n",
    "from langchain.cache import InMemoryCache\n",
    "from langchain.chat_models import ChatOpenAI\n",
    "from langchain.schema import HumanMessage\n",
    "\n",
    "langchain.llm_cache = InMemoryCache()\n",
    "\n",
    "chat = ChatOpenAI(\n",
    "    model=\"gpt-3.5-turbo-0125\", \n",
    "    temperature=0, \n",
    "    api_key=os.environ.get(\"OPENAI_API_KEY\")\n",
    ")"
   ]
  },
  {
   "cell_type": "code",
   "execution_count": 60,
   "id": "a91d385f-dc7a-4098-9e6c-a1a1d4fd81d1",
   "metadata": {},
   "outputs": [
    {
     "name": "stdout",
     "output_type": "stream",
     "text": [
      "안녕하세요! 도와드릴 수 있는 것이 있나요?\n",
      "실행 시간 : 0.9174909591674805초\n"
     ]
    }
   ],
   "source": [
    "start = time.time()\n",
    "\n",
    "result = chat.invoke(\n",
    "    [\n",
    "        HumanMessage(content=\"안녕하세요!\")\n",
    "    ]\n",
    ")\n",
    "\n",
    "end = time.time()\n",
    "print(result.content)\n",
    "print(f'실행 시간 : {end - start}초')"
   ]
  },
  {
   "cell_type": "code",
   "execution_count": 61,
   "id": "a273294b-b1cb-43df-9cba-99c5d4fab61d",
   "metadata": {},
   "outputs": [
    {
     "name": "stdout",
     "output_type": "stream",
     "text": [
      "안녕하세요! 도와드릴 수 있는 것이 있나요?\n",
      "실행 시간 : 0.0008065700531005859초\n"
     ]
    }
   ],
   "source": [
    "start = time.time()\n",
    "\n",
    "result = chat.invoke(\n",
    "    [\n",
    "        HumanMessage(content=\"안녕하세요!\")\n",
    "    ]\n",
    ")\n",
    "\n",
    "end = time.time()\n",
    "print(result.content)\n",
    "print(f'실행 시간 : {end - start}초')"
   ]
  },
  {
   "cell_type": "markdown",
   "id": "0bb236c0-229f-4107-8767-2acc5345ed48",
   "metadata": {},
   "source": [
    "### 결과를 순차적으로 표시"
   ]
  },
  {
   "cell_type": "code",
   "execution_count": 62,
   "id": "6ff3b054-7f89-4004-91c5-4a5149682e22",
   "metadata": {},
   "outputs": [],
   "source": [
    "from langchain.callbacks.streaming_stdout import StreamingStdOutCallbackHandler\n",
    "from langchain.chat_models import ChatOpenAI\n",
    "from langchain.schema import HumanMessage"
   ]
  },
  {
   "cell_type": "code",
   "execution_count": 63,
   "id": "4dc0fd1f-58a1-4c8d-b67d-60ad744a1b4e",
   "metadata": {},
   "outputs": [],
   "source": [
    "chat = ChatOpenAI(\n",
    "    streaming=True, \n",
    "    model=\"gpt-3.5-turbo-0125\", \n",
    "    temperature=0, \n",
    "    api_key=os.environ.get(\"OPENAI_API_KEY\"),\n",
    "    callbacks=[\n",
    "        StreamingStdOutCallbackHandler()\n",
    "    ]\n",
    ")"
   ]
  },
  {
   "cell_type": "code",
   "execution_count": 64,
   "id": "f7f01bb4-5cf5-40ff-8667-d73d3ec41bce",
   "metadata": {},
   "outputs": [
    {
     "name": "stdout",
     "output_type": "stream",
     "text": [
      "맛있는 스테이크를 굽는 법은 다음과 같습니다:\n",
      "\n",
      "1. 스테이크를 냉장고에서 꺼내어 실온에 30분 정도 방치해주세요. 이렇게 하면 스테이크가 고르게 익히기 쉽습니다.\n",
      "\n",
      "2. 팬이나 그릴을 중불로 예열해주세요. 팬에 식용유를 두르고 뜨거워질 때까지 기다립니다.\n",
      "\n",
      "3. 스테이크에 소금과 후추를 골고루 뿌려주세요. 다른 양념이나 허브를 사용해도 좋습니다.\n",
      "\n",
      "4. 팬에 스테이크를 넣고 한쪽 면을 2~3분 정도 구워주세요. 그 후, 다른 면도 같은 시간만큼 구워주세요.\n",
      "\n",
      "5. 스테이크의 두 측면이 골고루 구워졌다면, 팬을 낮추고 스테이크를 계속 구워주세요. 스테이크의 두께에 따라 구워야 하는 시간이 달라질 수 있습니다. 중간에 뒤집어가며 익히세요.\n",
      "\n",
      "6. 스테이크를 꺼내어 5분 정도 쉬게 해주세요. 이렇게 하면 주스가 골고루 퍼지고 맛이 더욱 풍부해집니다.\n",
      "\n",
      "7. 스테이크를 잘라서 접시에 담고, 곁들일 소스나 채소와 함께 내놓으면 완성입니다.\n",
      "\n",
      "이렇게 하면 집에서도 맛있는 스테이크를 즐길 수 있습니다. 맛있게 드세요!"
     ]
    }
   ],
   "source": [
    "resp = chat.invoke([\n",
    "    HumanMessage(content=\"맛있는 스테이크 굽는 법을 알려주세요.\")\n",
    "])"
   ]
  },
  {
   "cell_type": "code",
   "execution_count": 65,
   "id": "c6090d52-acd2-4fc6-a126-57bddd2ad880",
   "metadata": {},
   "outputs": [
    {
     "data": {
      "text/plain": [
       "'맛있는 스테이크를 굽는 법은 다음과 같습니다:\\n\\n1. 스테이크를 냉장고에서 꺼내어 실온에 30분 정도 방치해주세요. 이렇게 하면 스테이크가 고르게 익히기 쉽습니다.\\n\\n2. 팬이나 그릴을 중불로 예열해주세요. 팬에 식용유를 두르고 뜨거워질 때까지 기다립니다.\\n\\n3. 스테이크에 소금과 후추를 골고루 뿌려주세요. 다른 양념이나 허브를 사용해도 좋습니다.\\n\\n4. 팬에 스테이크를 넣고 한쪽 면을 2~3분 정도 구워주세요. 그 후, 다른 면도 같은 시간만큼 구워주세요.\\n\\n5. 스테이크의 두 측면이 골고루 구워졌다면, 팬을 낮추고 스테이크를 계속 구워주세요. 스테이크의 두께에 따라 구워야 하는 시간이 달라질 수 있습니다. 중간에 뒤집어가며 익히세요.\\n\\n6. 스테이크를 꺼내어 5분 정도 쉬게 해주세요. 이렇게 하면 주스가 골고루 퍼지고 맛이 더욱 풍부해집니다.\\n\\n7. 스테이크를 잘라서 접시에 담고, 곁들일 소스나 채소와 함께 내놓으면 완성입니다.\\n\\n이렇게 하면 집에서도 맛있는 스테이크를 즐길 수 있습니다. 맛있게 드세요!'"
      ]
     },
     "execution_count": 65,
     "metadata": {},
     "output_type": "execute_result"
    }
   ],
   "source": [
    "resp.content"
   ]
  },
  {
   "cell_type": "markdown",
   "id": "c317ff67-bc3b-46ab-949b-c28864adf9a9",
   "metadata": {},
   "source": [
    "# Templates - 프롬프트 구축의 효율성 향상"
   ]
  },
  {
   "cell_type": "markdown",
   "id": "9192f70e-53a1-4923-95ea-91d682cdb731",
   "metadata": {},
   "source": [
    "## 프롬프트 엔지니어링을 통한 결과 최적화"
   ]
  },
  {
   "cell_type": "markdown",
   "id": "ab08e846-7118-4c4e-bd56-7ce36a753e7d",
   "metadata": {},
   "source": [
    "### 출력 예가 포함된 프롬프트 만들기"
   ]
  },
  {
   "cell_type": "code",
   "execution_count": 73,
   "id": "a63d3a57-afe9-4381-8cee-4e19ef714945",
   "metadata": {},
   "outputs": [],
   "source": [
    "from langchain.llms import OpenAI\n",
    "from langchain.prompts import FewShotPromptTemplate, PromptTemplate"
   ]
  },
  {
   "cell_type": "code",
   "execution_count": 68,
   "id": "27fdbc35-c795-4087-90f4-fcc4fec69e3e",
   "metadata": {},
   "outputs": [],
   "source": [
    "examples = [\n",
    "    {\n",
    "        \"input\":\"충청도의 계룡산 전라도의 내장산 강원도의 설악산은 모두 국립 공원이다\",\n",
    "        \"output\":\"충청도의 계룡산, 전라도의 내장산, 강원도의 설악산은 모두 국립 공원이다.\"\n",
    "    }\n",
    "]"
   ]
  },
  {
   "cell_type": "code",
   "execution_count": 70,
   "id": "1cf0395f-d8b7-4fd3-983f-8b21e0470838",
   "metadata": {},
   "outputs": [],
   "source": [
    "prompt = PromptTemplate(\n",
    "    input_variables=[\"input\", \"output\"],\n",
    "    template=\"입력 : {input}\\n출력 : {output}\",\n",
    ")"
   ]
  },
  {
   "cell_type": "code",
   "execution_count": 74,
   "id": "7a78983f-cc64-4d42-b8c6-fc5931baa51f",
   "metadata": {},
   "outputs": [],
   "source": [
    "few_shot_prompt = FewShotPromptTemplate(\n",
    "    examples=examples,\n",
    "    example_prompt=prompt,\n",
    "    prefix=\"아래 문장부호가 빠진 입력에 문장부호를 추가하세요. 추가할수 있는 문장 부호는 ',', '.' 입니다. 다른 문장부호는 추가하지 마세요.\", \n",
    "    suffix=\"입력 : {input_string}\\n출력\",\n",
    "    input_variables=[\"inpuit_string\"],\n",
    ")"
   ]
  },
  {
   "cell_type": "code",
   "execution_count": 75,
   "id": "b22ff6e0-abf1-47ee-a7fa-f961a9c560a5",
   "metadata": {},
   "outputs": [],
   "source": [
    "llm = OpenAI(\n",
    "    model=\"gpt-3.5-turbo-instruct\",\n",
    "    api_key=os.environ.get(\"OPENAI_API_KEY\")\n",
    ")"
   ]
  },
  {
   "cell_type": "code",
   "execution_count": 76,
   "id": "7e31866e-4280-4461-8b60-49d314c0cf1b",
   "metadata": {},
   "outputs": [],
   "source": [
    "formatted_prompt = few_shot_prompt.format(\n",
    "    input_string=\"집을 보러 가면 그 집이 내가 원하는 조건에 맞는지 살기 편한지 망가진 곳은 없는지 확인 해야 한다.\"\n",
    ")"
   ]
  },
  {
   "cell_type": "code",
   "execution_count": 78,
   "id": "1fd4db57-1afa-4df5-a3af-224e4e4bd821",
   "metadata": {},
   "outputs": [],
   "source": [
    "result = llm.invoke(formatted_prompt)"
   ]
  },
  {
   "cell_type": "code",
   "execution_count": 81,
   "id": "799a86d4-630f-41a2-8675-9b86009f3092",
   "metadata": {},
   "outputs": [
    {
     "name": "stdout",
     "output_type": "stream",
     "text": [
      "아래 문장부호가 빠진 입력에 문장부호를 추가하세요. 추가할수 있는 문장 부호는 ',', '.' 입니다. 다른 문장부호는 추가하지 마세요.\n",
      "\n",
      "입력 : 충청도의 계룡산 전라도의 내장산 강원도의 설악산은 모두 국립 공원이다\n",
      "출력 : 충청도의 계룡산, 전라도의 내장산, 강원도의 설악산은 모두 국립 공원이다.\n",
      "\n",
      "입력 : 집을 보러 가면 그 집이 내가 원하는 조건에 맞는지 살기 편한지 망가진 곳은 없는지 확인 해야 한다.\n",
      "출력\n"
     ]
    }
   ],
   "source": [
    "print(formatted_prompt)"
   ]
  },
  {
   "cell_type": "code",
   "execution_count": 82,
   "id": "b8b499ec-881e-47e3-acba-c16c7972a347",
   "metadata": {},
   "outputs": [
    {
     "name": "stdout",
     "output_type": "stream",
     "text": [
      " : 집을 보러 가면, 그 집이 내가 원하는 조건에 맞는지, 살기 편한지, 망가진 곳은 없는지 확인 해야 한다.\n"
     ]
    }
   ],
   "source": [
    "print(result)"
   ]
  },
  {
   "cell_type": "markdown",
   "id": "17a0b4bb-54fc-4aec-9efa-3e62b6c72642",
   "metadata": {},
   "source": [
    "# Output parsers - 출력 구조화"
   ]
  },
  {
   "cell_type": "markdown",
   "id": "32a07a8d-eb2f-42a2-aa62-b5305f0668f7",
   "metadata": {},
   "source": [
    "## 결과를 날씨와 시간 형식으로 받아보기"
   ]
  },
  {
   "cell_type": "code",
   "execution_count": 87,
   "id": "2bd08fa6-f267-49a9-9a60-c94cdf5dd8c8",
   "metadata": {},
   "outputs": [],
   "source": [
    "from langchain import PromptTemplate\n",
    "from langchain.chat_models import ChatOpenAI\n",
    "from langchain.output_parsers import DatetimeOutputParser\n",
    "from langchain.schema import HumanMessage\n",
    "\n",
    "output_parser = DatetimeOutputParser()\n",
    "\n",
    "chat = ChatOpenAI(\n",
    "    model=\"gpt-3.5-turbo-0125\", \n",
    "    temperature=0, \n",
    "    api_key=os.environ.get(\"OPENAI_API_KEY\")\n",
    ")\n",
    "\n",
    "prompt = PromptTemplate.from_template(\n",
    "    \"{product}의 출시일을 알려주세요.\"\n",
    ")\n",
    "\n",
    "result = chat.invoke(\n",
    "    [\n",
    "        HumanMessage(content=prompt.format(product='iPhone8')),\n",
    "        HumanMessage(content=output_parser.get_format_instructions())\n",
    "    ]\n",
    ")"
   ]
  },
  {
   "cell_type": "code",
   "execution_count": 88,
   "id": "da6c9a99-4414-4d3b-995d-bb4434b52252",
   "metadata": {},
   "outputs": [
    {
     "name": "stdout",
     "output_type": "stream",
     "text": [
      "2022-09-22 00:00:00\n"
     ]
    }
   ],
   "source": [
    "output = output_parser.parse(result.content)\n",
    "print(output)"
   ]
  },
  {
   "cell_type": "code",
   "execution_count": 89,
   "id": "78ee1e98-a73c-46d5-b459-bf28fc12f17a",
   "metadata": {},
   "outputs": [
    {
     "data": {
      "text/plain": [
       "\"Write a datetime string that matches the following pattern: '%Y-%m-%dT%H:%M:%S.%fZ'.\\n\\nExamples: 11-12-04T05:14:15.751033Z, 1347-08-30T10:43:52.547134Z, 1139-08-04T05:43:31.533813Z\\n\\nReturn ONLY this string, no other words!\""
      ]
     },
     "execution_count": 89,
     "metadata": {},
     "output_type": "execute_result"
    }
   ],
   "source": [
    "output_parser.get_format_instructions()"
   ]
  },
  {
   "cell_type": "markdown",
   "id": "345b7ed5-3d72-462d-80a4-1793639c76d6",
   "metadata": {},
   "source": [
    "## 출력 형식을 직접 정의하기"
   ]
  },
  {
   "cell_type": "code",
   "execution_count": 100,
   "id": "cc303211-d08c-4d20-8f87-a7dacf863daa",
   "metadata": {},
   "outputs": [],
   "source": [
    "from typing import List\n",
    "\n",
    "from langchain.output_parsers import PydanticOutputParser\n",
    "from langchain_core.prompts import PromptTemplate\n",
    "from langchain_core.pydantic_v1 import BaseModel, Field, validator\n",
    "from langchain_openai import ChatOpenAI"
   ]
  },
  {
   "cell_type": "code",
   "execution_count": 101,
   "id": "d91a97a2-2201-45c4-a1c9-70cc30083760",
   "metadata": {},
   "outputs": [],
   "source": [
    "model = ChatOpenAI(\n",
    "    model=\"gpt-3.5-turbo-0125\", \n",
    "    temperature=0, \n",
    "    api_key=os.environ.get(\"OPENAI_API_KEY\")\n",
    ")"
   ]
  },
  {
   "cell_type": "code",
   "execution_count": 107,
   "id": "15ff24e8-1899-4e9b-bb7b-d9eb5192836a",
   "metadata": {},
   "outputs": [
    {
     "data": {
      "text/plain": [
       "Smartphone(release_date='2021-10-15', screen_inches=6.5, os_installed='Android 11', model_name='Samsung Galaxy S21')"
      ]
     },
     "execution_count": 107,
     "metadata": {},
     "output_type": "execute_result"
    }
   ],
   "source": [
    "class Smartphone(BaseModel):\n",
    "    release_date: str = Field(description=\"스마트폰 출시일\")\n",
    "    screen_inches: float = Field(description=\"스마트폰의 화면 크기(인치)\")\n",
    "    os_installed: str = Field(description=\"스마트폰에 설치된 OS\")\n",
    "    model_name: str = Field(description=\"스마트폰 모델명\")\n",
    "\n",
    "    @validator('screen_inches')\n",
    "    def validate_screen_inches(cls, field):\n",
    "        if field <=0:\n",
    "            raise ValueError(\"Screen inches must be a positive number\")\n",
    "        return field\n",
    "\n",
    "# And a query intented to prompt a language model to populate the data structure.\n",
    "my_query = \"안드로이드 스마트폰 1개를 꼽아주세요.\"\n",
    "\n",
    "# Set up a parser + inject instructions into the prompt template.\n",
    "parser = PydanticOutputParser(pydantic_object=Smartphone)\n",
    "\n",
    "prompt = PromptTemplate(\n",
    "    template=\"Answer the user query.\\n{format_instructions}\\n{query}\\n\",\n",
    "    input_variables=[\"query\"],\n",
    "    partial_variables={\"format_instructions\": parser.get_format_instructions()},\n",
    ")\n",
    "\n",
    "chain = prompt | model | parser\n",
    "\n",
    "result = chain.invoke({\"query\": my_query})\n",
    "result"
   ]
  },
  {
   "cell_type": "code",
   "execution_count": 114,
   "id": "2b757807-0966-41e0-8847-b663444361f9",
   "metadata": {},
   "outputs": [
    {
     "name": "stdout",
     "output_type": "stream",
     "text": [
      "모델명 : Samsung Galaxy S21\n",
      "화면크기 : 6.5\n",
      "OS : Android 11\n",
      "스마트폰 출시일 : 2021-10-15\n"
     ]
    }
   ],
   "source": [
    "print(f'모델명 : {result.model_name}')\n",
    "print(f'화면크기 : {result.screen_inches}')\n",
    "print(f'OS : {result.os_installed}')\n",
    "print(f'스마트폰 출시일 : {result.release_date}')"
   ]
  },
  {
   "cell_type": "markdown",
   "id": "982f4346-8056-4a7e-aa0f-e09259b5c0cc",
   "metadata": {},
   "source": [
    "## 잘못된 결과가 반환될 때 수정을 지시할 수 있게 된다"
   ]
  },
  {
   "cell_type": "code",
   "execution_count": 15,
   "id": "0d666492-9a2c-4f88-82e2-aa062942207b",
   "metadata": {},
   "outputs": [],
   "source": [
    "from langchain.output_parsers import OutputFixingParser\n",
    "from langchain.output_parsers import PydanticOutputParser\n",
    "from langchain_core.prompts import PromptTemplate\n",
    "from langchain_core.pydantic_v1 import BaseModel, Field, validator\n",
    "from langchain_openai import ChatOpenAI\n",
    "from langchain.schema import HumanMessage"
   ]
  },
  {
   "cell_type": "code",
   "execution_count": 16,
   "id": "1b068695-6888-4fcf-9ed3-796e6e5e984a",
   "metadata": {},
   "outputs": [],
   "source": [
    "model = ChatOpenAI(\n",
    "    model=\"gpt-3.5-turbo-0125\", \n",
    "    temperature=0, \n",
    "    api_key=os.environ.get(\"OPENAI_API_KEY\")\n",
    ")"
   ]
  },
  {
   "cell_type": "code",
   "execution_count": 17,
   "id": "2db67b02-25f7-411c-9f46-618aed491186",
   "metadata": {},
   "outputs": [],
   "source": [
    "class Smartphone(BaseModel):\n",
    "    release_date: str = Field(description=\"스마트폰 출시일\")\n",
    "    screen_inches: float = Field(description=\"스마트폰의 화면 크기(인치)\")\n",
    "    os_installed: str = Field(description=\"스마트폰에 설치된 OS\")\n",
    "    model_name: str = Field(description=\"스마트폰 모델명\")\n",
    "\n",
    "    @validator('screen_inches')\n",
    "    def validate_screen_inches(cls, field):\n",
    "        if field <=0:\n",
    "            raise ValueError(\"Screen inches must be a positive number\")\n",
    "        return field"
   ]
  },
  {
   "cell_type": "code",
   "execution_count": 18,
   "id": "3b214a43-6f74-4f88-80fa-848a81645e44",
   "metadata": {},
   "outputs": [],
   "source": [
    "parser = OutputFixingParser.from_llm(\n",
    "    parser=PydanticOutputParser(pydantic_object=Smartphone),\n",
    "    llm=model\n",
    ")"
   ]
  },
  {
   "cell_type": "code",
   "execution_count": 19,
   "id": "ea4f65cb-e954-4b59-90dd-18179f36434a",
   "metadata": {},
   "outputs": [],
   "source": [
    "prompt = PromptTemplate(\n",
    "    template=\"Answer the user query.\\n{format_instructions}\\n{query}\\n\",\n",
    "    input_variables=[\"query\"],\n",
    "    partial_variables={\"format_instructions\": parser.get_format_instructions()},\n",
    ")\n"
   ]
  },
  {
   "cell_type": "code",
   "execution_count": 20,
   "id": "29f88862-de54-401a-9308-aabbea8e3c93",
   "metadata": {},
   "outputs": [
    {
     "name": "stdout",
     "output_type": "stream",
     "text": [
      "The output should be formatted as a JSON instance that conforms to the JSON schema below.\n",
      "\n",
      "As an example, for the schema {\"properties\": {\"foo\": {\"title\": \"Foo\", \"description\": \"a list of strings\", \"type\": \"array\", \"items\": {\"type\": \"string\"}}}, \"required\": [\"foo\"]}\n",
      "the object {\"foo\": [\"bar\", \"baz\"]} is a well-formatted instance of the schema. The object {\"properties\": {\"foo\": [\"bar\", \"baz\"]}} is not well-formatted.\n",
      "\n",
      "Here is the output schema:\n",
      "```\n",
      "{\"properties\": {\"release_date\": {\"title\": \"Release Date\", \"description\": \"\\uc2a4\\ub9c8\\ud2b8\\ud3f0 \\ucd9c\\uc2dc\\uc77c\", \"type\": \"string\"}, \"screen_inches\": {\"title\": \"Screen Inches\", \"description\": \"\\uc2a4\\ub9c8\\ud2b8\\ud3f0\\uc758 \\ud654\\uba74 \\ud06c\\uae30(\\uc778\\uce58)\", \"type\": \"number\"}, \"os_installed\": {\"title\": \"Os Installed\", \"description\": \"\\uc2a4\\ub9c8\\ud2b8\\ud3f0\\uc5d0 \\uc124\\uce58\\ub41c OS\", \"type\": \"string\"}, \"model_name\": {\"title\": \"Model Name\", \"description\": \"\\uc2a4\\ub9c8\\ud2b8\\ud3f0 \\ubaa8\\ub378\\uba85\", \"type\": \"string\"}}, \"required\": [\"release_date\", \"screen_inches\", \"os_installed\", \"model_name\"]}\n",
      "```\n"
     ]
    }
   ],
   "source": [
    "print(parser.get_format_instructions())"
   ]
  },
  {
   "cell_type": "code",
   "execution_count": 21,
   "id": "369ac699-08ee-4399-94b7-46487c1eade0",
   "metadata": {},
   "outputs": [
    {
     "data": {
      "text/plain": [
       "Smartphone(release_date='2021-10-15', screen_inches=6.5, os_installed='Android 11', model_name='Samsung Galaxy S21')"
      ]
     },
     "execution_count": 21,
     "metadata": {},
     "output_type": "execute_result"
    }
   ],
   "source": [
    "chain = prompt | model | parser\n",
    "\n",
    "my_query = \"안드로이드 스마트폰 1개를 꼽아주세요\"\n",
    "\n",
    "result = chain.invoke({\"query\": my_query})\n",
    "result"
   ]
  },
  {
   "cell_type": "code",
   "execution_count": 22,
   "id": "f5238ac5-d6f2-495f-a8bf-af95f3bd1b89",
   "metadata": {},
   "outputs": [
    {
     "name": "stdout",
     "output_type": "stream",
     "text": [
      "모델명 : Samsung Galaxy S21\n",
      "화면크기 : 6.5\n",
      "OS : Android 11\n",
      "스마트폰 출시일 : 2021-10-15\n"
     ]
    }
   ],
   "source": [
    "print(f'모델명 : {result.model_name}')\n",
    "print(f'화면크기 : {result.screen_inches}')\n",
    "print(f'OS : {result.os_installed}')\n",
    "print(f'스마트폰 출시일 : {result.release_date}')"
   ]
  }
 ],
 "metadata": {
  "kernelspec": {
   "display_name": "Python 3 (ipykernel)",
   "language": "python",
   "name": "python3"
  },
  "language_info": {
   "codemirror_mode": {
    "name": "ipython",
    "version": 3
   },
   "file_extension": ".py",
   "mimetype": "text/x-python",
   "name": "python",
   "nbconvert_exporter": "python",
   "pygments_lexer": "ipython3",
   "version": "3.10.14"
  }
 },
 "nbformat": 4,
 "nbformat_minor": 5
}
