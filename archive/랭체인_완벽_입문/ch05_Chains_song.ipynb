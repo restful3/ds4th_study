{
 "cells": [
  {
   "cell_type": "markdown",
   "id": "cb796b76-7cf4-4e18-8b1b-4e95a9af6e32",
   "metadata": {},
   "source": [
    "# 여러 모듈을 쉽게 조합할 수 있는 Chains"
   ]
  },
  {
   "cell_type": "markdown",
   "id": "0d9e8952-0093-4f3b-94eb-8c0dd40e682e",
   "metadata": {},
   "source": [
    "## LLMChain을 사용해 여러 모듈을 통합하는 방법"
   ]
  },
  {
   "cell_type": "code",
   "execution_count": 34,
   "id": "5079f71b-f0cc-4b30-a143-a4860d2efe46",
   "metadata": {},
   "outputs": [],
   "source": [
    "from langchain import LLMChain, PromptTemplate\n",
    "# from langchain.chat_models import ChatOpenAI\n",
    "from langchain_openai import ChatOpenAI\n",
    "\n",
    "chat = ChatOpenAI(\n",
    "    model = 'gpt-3.5-turbo'\n",
    ")\n",
    "\n",
    "prompt = PromptTemplate(\n",
    "    template=\"{product}는 어느 회사에서 개발한 제품인가요?\",\n",
    "    input_variables=[\n",
    "        \"product\"\n",
    "    ]\n",
    ")\n",
    "\n",
    "chain = LLMChain(\n",
    "    llm=chat,\n",
    "    prompt=prompt,\n",
    "    verbose=True\n",
    ")"
   ]
  },
  {
   "cell_type": "code",
   "execution_count": 35,
   "id": "6e32ca6b-761d-4d49-b67e-929a1db4f411",
   "metadata": {},
   "outputs": [
    {
     "name": "stdout",
     "output_type": "stream",
     "text": [
      "\n",
      "\n",
      "\u001b[1m> Entering new LLMChain chain...\u001b[0m\n",
      "Prompt after formatting:\n",
      "\u001b[32;1m\u001b[1;3miPhont는 어느 회사에서 개발한 제품인가요?\u001b[0m\n",
      "\n",
      "\u001b[1m> Finished chain.\u001b[0m\n"
     ]
    }
   ],
   "source": [
    "result = chain.predict(product='iPhont')"
   ]
  },
  {
   "cell_type": "code",
   "execution_count": 36,
   "id": "05310704-4176-42bc-b774-bb32044ea456",
   "metadata": {},
   "outputs": [
    {
     "name": "stdout",
     "output_type": "stream",
     "text": [
      "iPhont는 Apple이 개발한 제품입니다.\n"
     ]
    }
   ],
   "source": [
    "print(result)"
   ]
  },
  {
   "cell_type": "markdown",
   "id": "de22aaf7-3a7d-4bae-8fff-09cfa048af8b",
   "metadata": {},
   "source": [
    "## ConversationChain으로 기억을 가진 애플리케이션 개발이 쉬워진다."
   ]
  },
  {
   "cell_type": "code",
   "execution_count": 33,
   "id": "9e272f57-7c05-40c1-b48b-8d0598f19205",
   "metadata": {},
   "outputs": [],
   "source": [
    "from langchain.chains import ConversationChain\n",
    "from langchain_openai import ChatOpenAI\n",
    "from langchain.memory import ConversationBufferMemory\n",
    "\n",
    "chat = ChatOpenAI()\n",
    "\n",
    "memory = ConversationBufferMemory(return_messages=True)\n",
    "\n",
    "chain = ConversationBufferMemory(\n",
    "    memory=memory,\n",
    "    llm=chat\n",
    ")"
   ]
  },
  {
   "cell_type": "markdown",
   "id": "c481e661-33c6-4ef5-9f5d-9c580e2747e2",
   "metadata": {},
   "source": [
    "# 특정 기능에 특화된 Chain"
   ]
  },
  {
   "cell_type": "markdown",
   "id": "dd7a2123-8147-4cc9-a3a7-df2768c8b96d",
   "metadata": {},
   "source": [
    "## 특정 URL에 접속해 정보를 얻게 하는 방법"
   ]
  },
  {
   "cell_type": "code",
   "execution_count": 81,
   "id": "73e129cd-0ff0-456e-892e-a2363ca66dfa",
   "metadata": {},
   "outputs": [],
   "source": [
    "url = 'https://www.jma.go.jp/bosai/forecast/data/overview_forecast/130000.json'"
   ]
  },
  {
   "cell_type": "code",
   "execution_count": 82,
   "id": "0a0af80c-0676-41a3-a3ac-f67529d3e139",
   "metadata": {},
   "outputs": [
    {
     "data": {
      "text/plain": [
       "'https://www.jma.go.jp/bosai/forecast/data/overview_forecast/130000.json'"
      ]
     },
     "execution_count": 82,
     "metadata": {},
     "output_type": "execute_result"
    }
   ],
   "source": [
    "url"
   ]
  },
  {
   "cell_type": "code",
   "execution_count": 88,
   "id": "34a01bc1-20e3-4a21-81a9-8f27372baa71",
   "metadata": {},
   "outputs": [],
   "source": [
    "from langchain.chains import LLMChain, LLMRequestsChain\n",
    "from langchain_openai import ChatOpenAI\n",
    "from langchain.prompts import PromptTemplate\n",
    "\n",
    "chat = ChatOpenAI()\n",
    "\n",
    "prompt = PromptTemplate(\n",
    "    input_variables=['query', 'requests_result'],\n",
    "    template=\"\"\" 아래의 문장을 바탕으로 질문에 답해 주세요.\n",
    "    문장 : {requests_result}\n",
    "    질문 : {query} \n",
    "    \"\"\"\n",
    ")\n",
    "\n",
    "llm_chain = LLMChain(\n",
    "    llm=chat,\n",
    "    prompt=prompt,\n",
    "    verbose=True\n",
    ")\n",
    "\n",
    "chain = LLMRequestsChain(\n",
    "    llm_chain=llm_chain,\n",
    ")"
   ]
  },
  {
   "cell_type": "code",
   "execution_count": 91,
   "id": "ce8abdde-39f9-4ff7-8b25-5f821b85ca4a",
   "metadata": {},
   "outputs": [
    {
     "name": "stdout",
     "output_type": "stream",
     "text": [
      "\n",
      "\n",
      "\u001b[1m> Entering new LLMChain chain...\u001b[0m\n",
      "Prompt after formatting:\n",
      "\u001b[32;1m\u001b[1;3m 아래의 문장을 바탕으로 질문에 답해 주세요.\n",
      "    문장 : {\"publishingOffice\":\"気象庁\",\"reportDatetime\":\"2024-05-26T04:38:00+09:00\",\"targetArea\":\"東京都\",\"headlineText\":\"\",\"text\":\"　本州付近は高気圧に覆われていますが、関東甲信地方は湿った空気の影響を受けています。\\n\\n　東京地方は、曇りとなっています。\\n\\n　２６日は、高気圧に覆われますが、湿った空気の影響を受ける見込みです。このため、曇りで昼過ぎから晴れるでしょう。\\n\\n　２７日は、日本海を前線が東進し、湿った空気の影響を受ける見込みです。このため、曇りで、昼過ぎから夕方は雨の降る所があるでしょう。\\n\\n【関東甲信地方】\\n　関東甲信地方は、曇りで、弱い雨の降っている所があります。\\n\\n　２６日は、高気圧に覆われますが、湿った空気の影響を受ける見込みです。このため、曇りや晴れで、明け方まで雨の降る所があるでしょう。\\n\\n　２７日は、日本海を前線が東進し、湿った空気の影響を受ける見込みです。このため、曇りや晴れで、昼前から雨の降る所があるでしょう。\\n\\n　関東地方と伊豆諸島の海上では、２６日は波がやや高く、２７日は波が高いでしょう。船舶は高波に注意してください。\"}\n",
      "    질문 : 도쿄의 날씨를 알려주세요 \n",
      "    \u001b[0m\n",
      "\n",
      "\u001b[1m> Finished chain.\u001b[0m\n"
     ]
    },
    {
     "data": {
      "text/plain": [
       "{'query': '도쿄의 날씨를 알려주세요',\n",
       " 'url': 'https://www.jma.go.jp/bosai/forecast/data/overview_forecast/130000.json',\n",
       " 'output': '답변 : 도쿄 지역은 26일은 曇り(흐림)이며, 낮에 햇빛이 나타날 것으로 예상됩니다. 27일은 曇り(흐림)이며, 낮에 비가 오는 곳이 있을 것으로 예상됩니다.'}"
      ]
     },
     "execution_count": 91,
     "metadata": {},
     "output_type": "execute_result"
    }
   ],
   "source": [
    "chain({\n",
    "    \"query\":\"도쿄의 날씨를 알려주세요\",\n",
    "    \"url\":'https://www.jma.go.jp/bosai/forecast/data/overview_forecast/130000.json'\n",
    "})"
   ]
  },
  {
   "cell_type": "markdown",
   "id": "9af7d761-79e3-44f6-9586-425fec1f7f81",
   "metadata": {},
   "source": [
    "# Chains 자체 정리하기"
   ]
  },
  {
   "cell_type": "markdown",
   "id": "2bf900e4-37cb-4864-adfe-1efe78832927",
   "metadata": {},
   "source": [
    "## Chains 자체를 순서대로 실행하는 SimpleSequentialChain"
   ]
  },
  {
   "cell_type": "code",
   "execution_count": 95,
   "id": "29acdc16-9a3b-4b37-9003-3125e13be313",
   "metadata": {},
   "outputs": [],
   "source": [
    "from langchain.chains import LLMChain, SimpleSequentialChain\n",
    "from langchain.chat_models import ChatOpenAI\n",
    "from langchain.prompts import PromptTemplate\n",
    "\n",
    "chat = ChatOpenAI(model='gpt-3.5-turbo')\n",
    "\n",
    "write_article_chain = LLMChain(\n",
    "    llm=chat,\n",
    "    prompt=PromptTemplate(\n",
    "        template=\"{input}에 대한 기사를 써주세요.\",\n",
    "        input_variables=['input']\n",
    "    )\n",
    ")\n",
    "\n",
    "translate_chain =  LLMChain(\n",
    "    llm=chat,\n",
    "    prompt=PromptTemplate(\n",
    "        template=\"다음 문장을 영어로 번역해 주세요.\\n{input}\",\n",
    "        input_variables=['input']\n",
    "    )\n",
    ")\n",
    "\n",
    "sequential_chain = SimpleSequentialChain(\n",
    "    chains=[\n",
    "        write_article_chain,\n",
    "        translate_chain,\n",
    "    ]\n",
    ")"
   ]
  },
  {
   "cell_type": "code",
   "execution_count": 96,
   "id": "3c6cd615-409d-4453-a0fc-b6b3d38a626e",
   "metadata": {},
   "outputs": [
    {
     "name": "stdout",
     "output_type": "stream",
     "text": [
      "{'input': '일렉트릭 기타 선택 방법', 'output': 'Choosing an electric guitar is a very important decision. With various brands, models, and styles available, it is crucial to select the right guitar. In this article, we will guide you on how to choose an electric guitar.\\n\\nThe first factor to consider is your budget. It is important to choose a guitar that fits within your budget. Setting a budget and looking for a guitar within that range is advisable.\\n\\nSecondly, you should consider the sound and style you desire. Think about the genre of music you want to play and the sound you are looking for. Each guitar has its own unique sound and various styles.\\n\\nThirdly, you should consider the materials of the guitar. The materials such as wood, pickups, and bridge impact the sound and playability of the guitar. Choosing the right material for you is important.\\n\\nFourthly, consider the size and weight of the guitar. It is important to choose a guitar that fits well in your hands and is comfortable to play. Also, consider the weight of the guitar as it can affect playability.\\n\\nLastly, it is important to actually play and compare guitars. Visiting a store to play and compare different guitars is the best way to find the right one for you. Trying out various options is crucial to finding the right guitar for you.\\n\\nBy taking into account these various factors when choosing an electric guitar, you will be able to find the guitar that best suits you. Choosing the right guitar for yourself is important for an enjoyable playing experience.'}\n"
     ]
    }
   ],
   "source": [
    "result = sequential_chain(\"일렉트릭 기타 선택 방법\")\n",
    "print(result)"
   ]
  },
  {
   "cell_type": "code",
   "execution_count": null,
   "id": "47b88d19-8a36-41aa-8680-7d2cfdd85e23",
   "metadata": {},
   "outputs": [],
   "source": []
  }
 ],
 "metadata": {
  "kernelspec": {
   "display_name": "Python 3 (ipykernel)",
   "language": "python",
   "name": "python3"
  },
  "language_info": {
   "codemirror_mode": {
    "name": "ipython",
    "version": 3
   },
   "file_extension": ".py",
   "mimetype": "text/x-python",
   "name": "python",
   "nbconvert_exporter": "python",
   "pygments_lexer": "ipython3",
   "version": "3.10.14"
  }
 },
 "nbformat": 4,
 "nbformat_minor": 5
}
