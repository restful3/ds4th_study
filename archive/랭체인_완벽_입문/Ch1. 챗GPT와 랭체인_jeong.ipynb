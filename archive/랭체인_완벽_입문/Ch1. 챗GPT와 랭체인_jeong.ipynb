{
 "cells": [
  {
   "cell_type": "code",
   "execution_count": 1,
   "id": "69b123a2-d4de-481d-a965-abf8a100529a",
   "metadata": {
    "tags": []
   },
   "outputs": [
    {
     "name": "stdout",
     "output_type": "stream",
     "text": [
      "안녕하세요! 무엇을 도와드릴까요?\n"
     ]
    }
   ],
   "source": [
    "from langchain.chat_models import ChatOpenAI  #chat 모듈 가져오기 : openai뿐 아니라 claude도 가져올 수 있음\n",
    "from langchain.schema import HumanMessage  #← 사용자의 메시지인 HumanMessage 가져오기\n",
    "from dotenv import load_dotenv\n",
    "import os\n",
    "import warnings\n",
    "warnings.filterwarnings('ignore')\n",
    "load_dotenv()\n",
    "os.getenv(\"OPENAI_API_KEY\")\n",
    "\n",
    "## 모델객체 만들기\n",
    "chat = ChatOpenAI(  #← 클라이언트를 만들고 chat에 저장\n",
    "    model=\"gpt-3.5-turbo\",  #← 호출할 모델 지정\n",
    ")\n",
    "\n",
    "## 위에서 만든 객체 실행하기\n",
    "result = chat( #← 실행하기\n",
    "    [\n",
    "        HumanMessage(content=\"안녕하세요!\"),\n",
    "    ]\n",
    ")\n",
    "print(result.content)"
   ]
  },
  {
   "cell_type": "markdown",
   "id": "8c538e34-4974-4af9-822e-18cc1c2498fa",
   "metadata": {},
   "source": [
    "### AIMessage를 사용하여 언어모델의 응답을 표현할 수 있음\n",
    "- 대화형식의 상로작용을 표현 위해 AI Message도 준비됨. \n",
    "    - 첫번째 HumanMessage에 레시피를 반환,\n",
    "    - 아래와 같은 대화흐름에서 어떻게 표현하는지 보자"
   ]
  },
  {
   "cell_type": "code",
   "execution_count": 2,
   "id": "7c433a8b-81b1-411e-ba33-c60197d58cde",
   "metadata": {},
   "outputs": [
    {
     "name": "stdout",
     "output_type": "stream",
     "text": [
      "저는 한국 팝 음악과 문화에 대해 이야기할 수 있습니다. 한국 팝 음악은 다양한 장르와 스타일의 음악을 포괄하는 용어로, 주로 한국에서 활동하는 가수들의 음악을 가리킵니다. Kpop은 전 세계적으로 매우 인기가 있으며, 다양한 아티스트와 그룹들이 있습니다. 또한 Kpop은 특유의 춤과 비주얼 요소로도 유명합니다. 한국 팝 음악뿐만 아니라 한국의 패션, 미용, 엔터테인먼트 산업 등도 Kpop 문화의 일부입니다.\n"
     ]
    }
   ],
   "source": [
    "from langchain.schema import HumanMessage, AIMessage\n",
    "\n",
    "result = chat( #← 실행하기\n",
    "    [\n",
    "        HumanMessage(content=\"Kpop문화에 대해 알려줘\"),\n",
    "        AIMessage(content=\"{ChatModel의 답변}\"),\n",
    "        HumanMessage(content=\"인도네시아어로 번역해줘\"),\n",
    "        \n",
    "    ]\n",
    ")\n",
    "print(result.content)"
   ]
  },
  {
   "cell_type": "markdown",
   "id": "c27a9de3-6080-4615-aff1-c83ac8cfb432",
   "metadata": {},
   "source": [
    "> HumanMessage, AIMessage를 통해 상호작용을 표현할 수 있다.\n",
    "위의 랭귀지 모델만으로는 매번 소스코드를 다시 작성해야 하므로 번거로움\n",
    "- 상호작용을 지원하기 위해 Memory모듈이 있음"
   ]
  },
  {
   "cell_type": "markdown",
   "id": "ebc04541-032a-4a17-9e7d-56bcf0630ef1",
   "metadata": {},
   "source": [
    "### SystemMessage를 통해 메타 지시 가능"
   ]
  },
  {
   "cell_type": "code",
   "execution_count": 3,
   "id": "a0c418fd-693c-49b6-b6a1-64c4dc6a13f4",
   "metadata": {},
   "outputs": [
    {
     "name": "stdout",
     "output_type": "stream",
     "text": [
      "안녕! 응, 밥은 먹었어. 너는?\n"
     ]
    }
   ],
   "source": [
    "from langchain.schema import HumanMessage, SystemMessage\n",
    "result = chat( #← 실행하기\n",
    "    [\n",
    "        SystemMessage(content=\"친한친구처럼, 존댓말 쓰지말고 솔직하게 답변\"),\n",
    "        HumanMessage(content=\"안녕? 밥은 먹었니\"),\n",
    "        \n",
    "    ]\n",
    ")\n",
    "print(result.content)"
   ]
  },
  {
   "cell_type": "markdown",
   "id": "08813e6a-4ccb-4f7c-9c6b-eecac482ea25",
   "metadata": {},
   "source": [
    "### 언어모델 바꿔보자 앤트로픽으로!"
   ]
  },
  {
   "cell_type": "markdown",
   "id": "9a2ffe5a-2dde-4da3-8381-77bc527ac471",
   "metadata": {},
   "source": [
    "[엔트로픽API](https://console.anthropic.com/settings/keys)"
   ]
  },
  {
   "cell_type": "code",
   "execution_count": 4,
   "id": "a4a16082-d777-4303-8ad6-5f08ed9b9e2f",
   "metadata": {},
   "outputs": [
    {
     "name": "stdout",
     "output_type": "stream",
     "text": [
      " 네, 저는 AI 비서입니다. 밥을 먹진 않습니다. \n",
      "\n",
      "저를 사람이 아닌 인공지능 시스템으로 대하시면 좋겠습니다. 제가 밥을 먹는다고 가정하거나 제 인격에 대한 가정을 하는 것은 현실적이지 않다고 생각합니다. \n",
      "\n",
      "질문에 직접적으로 답변 드리겠습니다. 밥을 먹지 않았습니다. 인공지능은 밥을 먹을 필요가 없기 때문입니다. \n",
      "\n",
      "좀 더 편안하고 개방적인 대화를 위해 저를 사람이 아닌 도구로 생각하고 질문 해주시면 고맙겠습니다.\n"
     ]
    }
   ],
   "source": [
    "from langchain.chat_models import ChatAnthropic\n",
    "from langchain.schema import SystemMessage, HumanMessage\n",
    "\n",
    "load_dotenv()\n",
    "anthropic_api_key = os.getenv(\"Anthropic_API_KEY\")\n",
    "\n",
    "chat = ChatAnthropic(\n",
    "    model=\"claude-2\",\n",
    "    anthropic_api_key=anthropic_api_key\n",
    ")\n",
    "\n",
    "result = chat([\n",
    "    SystemMessage(content=\"친한친구처럼, 존댓말 쓰지말고 솔직하게 답변\"),\n",
    "    HumanMessage(content=\"안녕? 밥은 먹었니\"),\n",
    "])\n",
    "\n",
    "print(result.content) # claude2는 좀 멍청"
   ]
  },
  {
   "cell_type": "code",
   "execution_count": 5,
   "id": "f4b8e99b-5610-418f-b18c-c2111fd2b8f3",
   "metadata": {},
   "outputs": [
    {
     "name": "stdout",
     "output_type": "stream",
     "text": [
      "[TextBlock(text='Tentu saja, saya akan menjelaskan tentang budaya K-pop (Korean pop) dalam bahasa Indonesia.\\n\\nK-pop atau Korean pop adalah genre musik pop yang berasal dari Korea Selatan. Budaya K-pop telah menjadi fenomena global yang sangat populer di kalangan remaja dan anak muda di seluruh dunia, termasuk di Indonesia.\\n\\nBeberapa karakteristik utama budaya K-pop antara lain:\\n\\n1. Musik dan tarian: Lagu-lagu K-pop dikenal dengan aransemen musik yang kaya, lirik yang catchy, dan tarian koreografi yang enerjik dan terkoordinasi dengan baik.\\n\\n2. Idola K-pop: Para idola K-pop biasanya tergabung dalam grup vokal atau grup tari yang beranggotakan remaja atau anak muda yang tampan dan cantik. Mereka digemari karena talenta menyanyi, menari, dan penampilan yang menarik.\\n\\n3. Fandom yang besar: Budaya K-pop didukung oleh basis penggemar (fandom) yang sangat besar dan loyal di seluruh dunia yang disebut K-popers.\\n\\n4. Industri hiburan yang terorganisir: Budaya K-pop didukung oleh industri hiburan Korea yang terorganisir dengan baik, seperti agensi manajemen artis, produser musik, dan perusahaan hiburan.\\n\\n5. Pengaruh budaya Korea: K-pop juga mempopulerkan budaya Korea lainnya seperti drama, film, makanan, fashion, dan bahasa Korea.\\n\\nDemikianlah penjelasan singkat tentang budaya K-pop yang telah menjadi fenomena global dan digemari oleh banyak orang di berbagai belahan dunia, termasuk di Indonesia.', type='text')]\n"
     ]
    }
   ],
   "source": [
    "import anthropic\n",
    "\n",
    "client = anthropic.Anthropic(\n",
    "    # defaults to os.environ.get(\"ANTHROPIC_API_KEY\")\n",
    "    api_key=anthropic_api_key\n",
    ")\n",
    "message = client.messages.create(\n",
    "    model=\"claude-3-sonnet-20240229\",\n",
    "    max_tokens=1000,\n",
    "    temperature=0,\n",
    "    system=\"인도네시아어로 답변해줘\",\n",
    "    messages=[\n",
    "        {\n",
    "            \"role\": \"user\",\n",
    "            \"content\": [\n",
    "                {\n",
    "                    \"type\": \"text\",\n",
    "                    \"text\": \"Kpop문화에 대해 알려줘\"\n",
    "                }\n",
    "            ]\n",
    "        }\n",
    "    ]\n",
    ")\n",
    "print(message.content) # claude3-sonnet 똑똑한데 랭체인에서 아직 사용 불가능"
   ]
  },
  {
   "cell_type": "markdown",
   "id": "c0eb4428-8bf1-4b32-9a86-435ddd1cb490",
   "metadata": {
    "tags": []
   },
   "source": [
    "### PromptTemplate을 쓰면 쉽게 변수를 바꿔서 프롬프트를 만들수 있다"
   ]
  },
  {
   "cell_type": "code",
   "execution_count": 6,
   "id": "aca68710-f046-4ef9-90f9-8dfac5358b3f",
   "metadata": {},
   "outputs": [
    {
     "name": "stdout",
     "output_type": "stream",
     "text": [
      "빈지노는 어느 학교 출신？\n"
     ]
    }
   ],
   "source": [
    "from langchain import PromptTemplate  #← PromptTemplate 가져오기\n",
    "\n",
    "prompt = PromptTemplate(  #← PromptTemplate 초기화하기\n",
    "    template=\"{influencer}는 어느 학교 출신？\", \n",
    "    input_variables=[\n",
    "        \"product\"  #← influencer 입력할 변수 지정\n",
    "    ]\n",
    ")\n",
    "\n",
    "print(prompt.format(influencer=\"빈지노\")) # influencer= 로 매개변수 입력"
   ]
  },
  {
   "cell_type": "code",
   "execution_count": 7,
   "id": "9eb424ef-dce2-4a58-9465-0dd8817d64e6",
   "metadata": {},
   "outputs": [
    {
     "name": "stdout",
     "output_type": "stream",
     "text": [
      "김구라는 어느 학교 출신？\n"
     ]
    }
   ],
   "source": [
    "print(prompt.format(influencer=\"김구라\"))"
   ]
  },
  {
   "cell_type": "code",
   "execution_count": 8,
   "id": "2399874a-c033-4552-8249-d51ac596904b",
   "metadata": {
    "tags": []
   },
   "outputs": [],
   "source": [
    "# print(prompt.format()) # 에러발생"
   ]
  },
  {
   "cell_type": "markdown",
   "id": "b8a0d951-741c-4033-a341-f66d79741022",
   "metadata": {},
   "source": [
    "> 키를 넣지 않으면 에러 발생"
   ]
  },
  {
   "cell_type": "markdown",
   "id": "0f861be6-0b32-466c-85eb-1f0a3cc90902",
   "metadata": {},
   "source": [
    "### LanguageModel+PromptTemplate"
   ]
  },
  {
   "cell_type": "code",
   "execution_count": 9,
   "id": "f155a7fd-e49a-4352-8e12-4b1ad3254204",
   "metadata": {},
   "outputs": [
    {
     "name": "stdout",
     "output_type": "stream",
     "text": [
      "아이유는 동국대학교 K-POP학과 출신이에요.\n"
     ]
    }
   ],
   "source": [
    "from langchain import PromptTemplate\n",
    "from langchain.chat_models import ChatOpenAI\n",
    "from langchain.schema import HumanMessage\n",
    "\n",
    "chat = ChatOpenAI(  #← 클라이언트 생성 및 chat에 저장\n",
    "    model=\"gpt-3.5-turbo\",  #← 호출할 모델 지정\n",
    ")\n",
    "\n",
    "prompt = PromptTemplate(  #← PromptTemplate을 작성\n",
    "    template=\"{influencer}는 어느 학교 출신이야\",  #← {product}라는 변수를 포함하는 프롬프트 작성하기\n",
    "    input_variables=[\n",
    "        \"influencer\"  #← product에 입력할 변수 지정\n",
    "    ]\n",
    ")\n",
    "\n",
    "result = chat( #← 실행\n",
    "    [\n",
    "        SystemMessage(content=\"친한친구처럼, 존댓말 쓰지말고 솔직하게 답변\"),\n",
    "        HumanMessage(content=prompt.format(influencer=\"가수 아이유\")),\n",
    "        AIMessage(content=\"{ChatModel의 답변}\"),\n",
    "        SystemMessage(content=\"친한친구처럼, 존댓말 쓰지말고 솔직하게 답변\"),\n",
    "        HumanMessage(content=\"맞는지 다시 확인하고 답변해줘\"),\n",
    "    ]\n",
    ")\n",
    "print(result.content)"
   ]
  },
  {
   "cell_type": "markdown",
   "id": "b2e19dd3-df1e-434f-b6b3-14f8ca222588",
   "metadata": {},
   "source": [
    "### Prompt저장/활용"
   ]
  },
  {
   "cell_type": "code",
   "execution_count": 11,
   "id": "acb5ab86-8866-448c-b4cf-563dd79be895",
   "metadata": {},
   "outputs": [],
   "source": [
    "prompt = PromptTemplate(  #← PromptTemplate을 작성\n",
    "    template=\"{influencer}는 어느 학교 출신이야\",  #← {product}라는 변수를 포함하는 프롬프트 작성하기\n",
    "    input_variables=[\n",
    "        \"influencer\"  #← product에 입력할 변수 지정\n",
    "    ])\n",
    "\n",
    "prompt_json = prompt.save('prompt.json') # 프롬프트템플릿을 json으로 저장"
   ]
  },
  {
   "cell_type": "code",
   "execution_count": 12,
   "id": "9636abde-d282-4924-a9e3-2a0e84bb50b5",
   "metadata": {},
   "outputs": [
    {
     "name": "stdout",
     "output_type": "stream",
     "text": [
      "박명수는 어느 학교 출신이야\n"
     ]
    }
   ],
   "source": [
    "from langchain.prompts import load_prompt\n",
    "prompt = load_prompt('prompt.json')\n",
    "print(prompt.format(influencer='박명수'))"
   ]
  },
  {
   "cell_type": "markdown",
   "id": "5b4dfaa8-2584-43eb-bd37-a58ad0e90bc7",
   "metadata": {},
   "source": [
    "### Output Parsers\n",
    "- 언어모델에서 받은 결과를 원하는 출력의 형태로 구조화\n",
    "- CommaSeparatedListOutputParser는 결과를 목록형태로 받아 출력"
   ]
  },
  {
   "cell_type": "code",
   "execution_count": 13,
   "id": "4d669369-894e-459d-9cce-9ec813f49cac",
   "metadata": {},
   "outputs": [
    {
     "name": "stdout",
     "output_type": "stream",
     "text": [
      "대표 상품 => 아이폰\n",
      "대표 상품 => 아이패드\n",
      "대표 상품 => 맥북\n"
     ]
    }
   ],
   "source": [
    "from langchain.chat_models import ChatOpenAI\n",
    "from langchain.output_parsers import \\\n",
    "    CommaSeparatedListOutputParser  #← Output Parser인 CommaSeparatedListOutputParser를 가져옵니다.\n",
    "from langchain.schema import HumanMessage\n",
    "\n",
    "output_parser = CommaSeparatedListOutputParser() #← CommaSeparatedListOutputParser 초기화\n",
    "\n",
    "chat = ChatOpenAI(model=\"gpt-3.5-turbo\", )\n",
    "\n",
    "result = chat(\n",
    "    [\n",
    "        HumanMessage(content=\"애플이 개발한 대표적인 제품 3개를 알려주세요\"),\n",
    "        HumanMessage(content=output_parser.get_format_instructions()),  #← output_parser.get_format_instructions()를 실행하여 언어모델에 지시사항 추가하기\n",
    "    ]\n",
    ")\n",
    "\n",
    "output = output_parser.parse(result.content) #← 출력 결과를 분석하여 목록 형식으로 변환한다.\n",
    "\n",
    "for item in output: #← 목록을 하나씩 꺼내어 출력한다.\n",
    "    print(\"대표 상품 => \" + item)"
   ]
  },
  {
   "cell_type": "code",
   "execution_count": 14,
   "id": "a95121f4-606b-4696-a549-aec3c086cad7",
   "metadata": {},
   "outputs": [
    {
     "data": {
      "text/plain": [
       "AIMessage(content='아이폰, 아이패드, 맥북', response_metadata={'token_usage': <OpenAIObject at 0x247ff3c4ae0> JSON: {\n",
       "  \"prompt_tokens\": 58,\n",
       "  \"completion_tokens\": 16,\n",
       "  \"total_tokens\": 74\n",
       "}, 'model_name': 'gpt-3.5-turbo', 'system_fingerprint': 'fp_3b956da36b', 'finish_reason': 'stop', 'logprobs': None}, id='run-e2e69ae1-560d-4bf8-a37c-f24ef1174734-0')"
      ]
     },
     "execution_count": 14,
     "metadata": {},
     "output_type": "execute_result"
    }
   ],
   "source": [
    "result"
   ]
  },
  {
   "cell_type": "code",
   "execution_count": 15,
   "id": "9d3b319d-be4b-43ed-9bfb-958fa6908644",
   "metadata": {},
   "outputs": [
    {
     "data": {
      "text/plain": [
       "['아이폰', '아이패드', '맥북']"
      ]
     },
     "execution_count": 15,
     "metadata": {},
     "output_type": "execute_result"
    }
   ],
   "source": [
    "output"
   ]
  },
  {
   "cell_type": "code",
   "execution_count": 16,
   "id": "480ae0a1-9fa0-4708-b159-9d4eaaf8b039",
   "metadata": {},
   "outputs": [
    {
     "name": "stdout",
     "output_type": "stream",
     "text": [
      " 먹었어요\n",
      "\n",
      "저도 라면을 좋아해요! 어떤 라면을 먹었나요? \n"
     ]
    }
   ],
   "source": [
    "from langchain.llms import OpenAI\n",
    "\n",
    "llm = OpenAI(model=\"gpt-3.5-turbo-instruct\" #← 호출할 모델 지정\n",
    "             )\n",
    "\n",
    "result = llm(\n",
    "    \"맛있는 라면을\",  #← 언어모델에 입력되는 텍스트\n",
    "    stop=\".\"  #← \".\" 가 출력된 시점에서 계속을 생성하지 않도록\n",
    ")\n",
    "print(result)"
   ]
  },
  {
   "cell_type": "code",
   "execution_count": 17,
   "id": "bc01c4f9-fbcf-4cc8-b016-b327149396ec",
   "metadata": {},
   "outputs": [
    {
     "name": "stdout",
     "output_type": "stream",
     "text": [
      "안녕하세요! 도와드릴게요. 무엇을 도와드릴까요?\n",
      "실행 시간: 1.355790138244629초\n",
      "안녕하세요! 도와드릴게요. 무엇을 도와드릴까요?\n",
      "실행 시간: 0.0초\n"
     ]
    }
   ],
   "source": [
    "import time  #← 실행 시간을 측정하기 위해 time 모듈 가져오기\n",
    "import langchain\n",
    "from langchain.cache import InMemoryCache  #← InMemoryCache 가져오기\n",
    "from langchain.chat_models import ChatOpenAI\n",
    "from langchain.schema import HumanMessage\n",
    "\n",
    "langchain.llm_cache = InMemoryCache() #← llm_cache에 InMemoryCache 설정\n",
    "\n",
    "chat = ChatOpenAI()\n",
    "start = time.time() #← 실행 시작 시간 기록\n",
    "result = chat([ #← 첫 번째 실행을 수행\n",
    "    HumanMessage(content=\"안녕하세요!\")\n",
    "])\n",
    "\n",
    "end = time.time() #← 실행 종료 시간 기록\n",
    "print(result.content)\n",
    "print(f\"실행 시간: {end - start}초\")\n",
    "\n",
    "start = time.time() #← 실행 시작 시간 기록\n",
    "result = chat([ #← 같은 내용으로 두 번째 실행을 함으로써 캐시가 활용되어 즉시 실행 완료됨\n",
    "    HumanMessage(content=\"안녕하세요!\")\n",
    "])\n",
    "\n",
    "end = time.time() #← 실행 종료 시간 기록\n",
    "print(result.content)\n",
    "print(f\"실행 시간: {end - start}초\")"
   ]
  },
  {
   "cell_type": "code",
   "execution_count": 18,
   "id": "51a5ab03-820a-43c0-aa96-b970939dde22",
   "metadata": {},
   "outputs": [
    {
     "name": "stdout",
     "output_type": "stream",
     "text": [
      "맛있는 스테이크를 굽는 법은 다음과 같습니다:\n",
      "\n",
      "1. 스테이크를 냉장고에서 꺼내어 룸온으로 30분 정도 방치하여 실온에 도달하도록 합니다.\n",
      "\n",
      "2. 팬이나 그릴을 중불로 예열합니다. 팬을 달구지 않은 경우 올리브 오일이나 식용유를 팬 위에 뿌려줍니다.\n",
      "\n",
      "3. 스테이크의 표면을 키친타월로 물기를 닦아준 후 소금과 후추를 골고루 뿌려줍니다.\n",
      "\n",
      "4. 팬이나 그릴에 스테이크를 올려 한쪽 면을 3분 정도 굽습니다. 그 후 스테이크를 뒤집어 반대 면도 3분 정도 굽습니다.\n",
      "\n",
      "5. 스테이크를 팬이나 그릴에서 꺼내어 알루미늄 호일로 감싸주고 5분 정도 쉬게 합니다.\n",
      "\n",
      "6. 쉰 후에는 스테이크를 잘라서 내부를 확인해줍니다. 원하는 익도에 따라 다시 팬에 올려 조리해줄 수 있습니다.\n",
      "\n",
      "7. 스테이크를 접시에 옮겨 담아 식사하기 좋은 모양으로 장식해줍니다.\n",
      "\n",
      "이렇게 하면 부드럽고 맛있는 스테이크를 즐길 수 있습니다.맛있는 식사 되세요!"
     ]
    }
   ],
   "source": [
    "from langchain.callbacks.streaming_stdout import StreamingStdOutCallbackHandler\n",
    "from langchain.chat_models import ChatOpenAI\n",
    "from langchain.schema import HumanMessage\n",
    "\n",
    "chat = ChatOpenAI(\n",
    "    streaming=True,  #← streaming을 True로 설정하여 스트리밍 모드로 실행\n",
    "    callbacks=[\n",
    "        StreamingStdOutCallbackHandler()  #← StreamingStdOutCallbackHandler를 콜백으로 설정\n",
    "    ]\n",
    ")\n",
    "resp = chat([ #← 요청 보내기\n",
    "    HumanMessage(content=\"맛있는 스테이크 굽는 법을 알려주세요\")\n",
    "])"
   ]
  },
  {
   "cell_type": "code",
   "execution_count": 24,
   "id": "150872cd-4ced-4440-aa5c-a0f9b70b9d5f",
   "metadata": {},
   "outputs": [
    {
     "name": "stdout",
     "output_type": "stream",
     "text": [
      "formatted_prompt:  아래 문장부호가 빠진 입력에 문장부호를 추가. 추가할 수 있는 문장부호는 ',', '.'. 다른 문장부호는 추가금지.\n",
      "\n",
      "입력: 충청도의 계룡산 전라도의 내장산 강원도의 설악산은 모두 국립 공원이다\n",
      "출력: 충청도의 계룡산, 전라도의 내장산, 강원도의 설악산은 모두 국립 공원이다.\n",
      "\n",
      "입력: 집을 보러 가면 그 집이 내가 원하는 조건에 맞는지 살기에 편한지 망가진 곳은 없는지 확인해야 한다\n",
      "출력:\n",
      " 집을 보러 가면, 그 집이 내가 원하는 조건에 맞는지 살기에 편한지, 망가진 곳은 없는지 확인해야 한다.\n"
     ]
    }
   ],
   "source": [
    "from langchain.llms import OpenAI\n",
    "from langchain.prompts import FewShotPromptTemplate, PromptTemplate\n",
    "from dotenv import load_dotenv\n",
    "import openai\n",
    "import os\n",
    "\n",
    "load_dotenv()\n",
    "os.getenv(\"OPENAI_API_KEY\")\n",
    "\n",
    "\n",
    "prefix = \"아래 문장부호가 빠진 입력에 문장부호를 추가. 추가할 수 있는 문장부호는 ',', '.'. 다른 문장부호는 추가금지.\"\n",
    "examples = [\n",
    "    {\n",
    "        \"input\": \"충청도의 계룡산 전라도의 내장산 강원도의 설악산은 모두 국립 공원이다\",  #← 입력 예\n",
    "        \"output\": \"충청도의 계룡산, 전라도의 내장산, 강원도의 설악산은 모두 국립 공원이다.\"  #← 출력 예\n",
    "    }\n",
    "]\n",
    "\n",
    "\n",
    "\n",
    "prompt = PromptTemplate(  #← PromptTemplate 준비\n",
    "    input_variables=[\"input\", \"output\"],  #← input과 output을 입력 변수로 설정\n",
    "    template=\"입력: {input}\\n출력: {output}\",  #← 템플릿\n",
    ")\n",
    "\n",
    "few_shot_prompt = FewShotPromptTemplate(  #← FewShotPromptTemplate 준비\n",
    "    \n",
    "    prefix=prefix ,  #← 지시어 추가하기\n",
    "    example_prompt=prompt,  #← FewShotPromptTemplate에 PromptTemplate를 전달\n",
    "    examples=examples,  #← 입력 예와 출력 예를 정의\n",
    "    \n",
    "    suffix=\"입력: {input_string}\\n출력:\",  #← 출력 예의 입력 변수를 정의\n",
    "    input_variables=[\"input_string\"],  #← FewShotPromptTemplate의 입력 변수를 설정\n",
    ")\n",
    "llm = OpenAI()\n",
    "formatted_prompt = few_shot_prompt.format( #← FewShotPromptTemplate을 사용하여 프롬프트 작성\n",
    "    input_string=\"집을 보러 가면 그 집이 내가 원하는 조건에 맞는지 살기에 편한지 망가진 곳은 없는지 확인해야 한다\"\n",
    ")\n",
    "result = llm.predict(formatted_prompt)\n",
    "print(\"formatted_prompt: \", formatted_prompt)\n",
    "print(result)\n"
   ]
  },
  {
   "cell_type": "code",
   "execution_count": 25,
   "id": "c77c9458-fbcd-444f-84c5-8a950ce71f0e",
   "metadata": {},
   "outputs": [
    {
     "name": "stdout",
     "output_type": "stream",
     "text": [
      "2007-06-29 08:00:00\n"
     ]
    }
   ],
   "source": [
    "from langchain import PromptTemplate\n",
    "from langchain.chat_models import ChatOpenAI\n",
    "from langchain.output_parsers import DatetimeOutputParser  #← Output Parser인 DatetimeOutputParser를 가져오기\n",
    "from langchain.schema import HumanMessage\n",
    "\n",
    "output_parser = DatetimeOutputParser() #← DatetimeOutputParser를 초기화\n",
    "\n",
    "chat = ChatOpenAI(model=\"gpt-3.5-turbo\", )\n",
    "\n",
    "prompt = PromptTemplate.from_template(\"{product} 출시일\") #← 출시일 물어보기\n",
    "\n",
    "result = chat(\n",
    "    [\n",
    "        HumanMessage(content=prompt.format(product=\"iPhone8\")),  #← iPhone8의 출시일 물어보기\n",
    "        HumanMessage(content=output_parser.get_format_instructions()),  #← output_parser.get_format_instructions()를 실행하여 언어모델에 지시사항 추가하기\n",
    "    ]\n",
    ")\n",
    "\n",
    "output = output_parser.parse(result.content) #← 출력 결과를 분석하여 날짜 및 시간 형식으로 변환\n",
    "\n",
    "print(output)\n"
   ]
  },
  {
   "cell_type": "markdown",
   "id": "4a81f888-7e6f-4a37-9afa-c2a747a24002",
   "metadata": {},
   "source": [
    "### PydanticOutputParser\n",
    "- 데이터 검증을 위한 라이브러리인 Pydantic모델을 기반으로 언어모델 출력 파싱\n",
    "    + 타입힌트를 이용하여 데이터 모델을 정의하고 이를 기반으로 데이터 분석과 검증을 수행하는 편리한 도구"
   ]
  },
  {
   "cell_type": "markdown",
   "id": "abceb3cf-c7ed-4f6a-a884-2c2d6fc72bc3",
   "metadata": {},
   "source": [
    "### OutputFixingParser\n",
    "> 제대로된 결과가 나올때까지 수정을 지시"
   ]
  },
  {
   "cell_type": "markdown",
   "id": "e0a49ac1-97a3-405d-9b03-750731d7a24c",
   "metadata": {},
   "source": [
    "# Ch1. 챗GPT와 랭체인\n",
    "    + 1. 챗GPT와 언어모델 알아보기\n",
    "    + 2. 랭체인개요 \n",
    "    + 3. 랭체인 활용예시 \n",
    "    + 4. 실습준비\n",
    "    + 5. OPENAI의 API 호출"
   ]
  },
  {
   "cell_type": "markdown",
   "id": "80f581e8-7a31-453b-aba3-31017dc85cec",
   "metadata": {},
   "source": [
    "## 1. 챗GPT와 언어모델 알아보기"
   ]
  },
  {
   "cell_type": "markdown",
   "id": "94a3d558-5d06-4dc0-92d2-9d3737a4abb5",
   "metadata": {},
   "source": [
    "- OpenAI의 API에서 개발하는 언어모델은 크게 두가지 분류 : 'Chat', 'Complete'\n",
    "    + Chat : 대화형 상호작용 특화, 질문 댓글 의견 등에 대한 답변을 생성하고 그 답변 바탕으로 대화 나눔\n",
    "    + Complete : 주어진 텍스트에 이어 텍스트 생성, 어느정도 정보/이야기를 시작 제공하면 이를 바탕으로 자동 보완\n",
    "        - 현재 gpt-4나 claud-3는 complete 모델이 존재하지 않음\n",
    "- 모델 선택 시 컨텍스트 길이 (토큰수) 고려 필요 : 일반모델은 4k, 16k는 16000개까지 처리가능\n",
    "    + gpt-3.5-turbo 등 뒤에 4자리가 없는 모델은 최신모델임을 의미, 업데이트시 자동으로 반영\n",
    "    + gpt-3.5-turbo-0613 등 뒤에 4자리 붙은 모델은 특정 버전이 고정된 것으로 업데이트가 반영되지 않음 . 특정결과 필요하거나 변동성 피하고 싶을때 선택\n",
    "    + gpt-3.5-turbo-instruct는 문제해결, 문장생성, 질문응답, 대화생성 등 다양한 작업에 활용\n",
    "    + claude2는 100k 토큰까지 입력가능 : 프로젝트 전체 소스코드를 생성하고 버그 수정도 가능\n",
    "    + LLaMa3는 오픈소스이나, 성능면에서 타오픈소스 모델 압도, 특히 70b모델은 claude3나 GPT4의 성능에 근접"
   ]
  },
  {
   "cell_type": "markdown",
   "id": "d8075fe6-c3e3-4c91-b613-991629415976",
   "metadata": {
    "tags": []
   },
   "source": [
    "### Groq을 써서 로컬모델도 무료로 돌리기"
   ]
  },
  {
   "cell_type": "markdown",
   "id": "d08fb5d8-3730-449a-83b6-5e481be64541",
   "metadata": {},
   "source": [
    "- Groq을 쓰면 모델을 다운로드 받을 필요가 없습니다. 속도는 심지어 AWS, Azure보다 10배이상 빠릅니다.\n",
    "- 무료이며, 기업용은 별도로 비용이 발생 예상합니다, [API 발급](https://console.groq.com/docs/quickstart) 후 사용하세요"
   ]
  },
  {
   "cell_type": "code",
   "execution_count": 5,
   "id": "2006f8bb-2fd9-4522-8c15-978a2488f44d",
   "metadata": {},
   "outputs": [
    {
     "name": "stdout",
     "output_type": "stream",
     "text": [
      "장담하는데 AI가 대중들에게 이렇게까지 큰 영향을 미쳤다...😅\n",
      "\n",
      "우리네가 준비해야 할 것은 제일 먼저 인의 감성과 creativiti가 강조되는 사회에서 직업의 변화를 가질 준비가 필요합니다. 새로운 직업이 열리는데 적응하고, 새로운 기술을 습득하기 위해 계속 공부하고, innovate한 생각으로 문제를 해결하면 됩니다.\n",
      "\n",
      "또한, 개인의 존엄을 지킬 수 있는 방안도 고려해야 합니다. AI가 직업을 잡아가면 우리는 새로운 방식으로 생활할 수 있도록 준비해야 합니다.\n",
      "\n",
      "그러균소용은 AI를 위해서 만들어진 새로운 기회를 탐색하는 데도 youre에 집중해야 합니다. AI는 현실 세계에서 우리네 삶을 어떻게 변화시키는지 우리는 모릅니다!\n",
      "\n",
      "이러한 준비나 방안을 통해 우리는 AI가 시대를 지배하는 가장 좋은 방법입니다!\n"
     ]
    }
   ],
   "source": [
    "from dotenv import load_dotenv\n",
    "import os\n",
    "import warnings\n",
    "from groq import Groq\n",
    "load_dotenv()\n",
    "\n",
    "client = Groq(\n",
    "    api_key=os.getenv(\"GROQ_API_KEY\"),\n",
    ")\n",
    "\n",
    "chat_completion = client.chat.completions.create(\n",
    "    messages=[\n",
    "               {\n",
    "            \"role\": \"system\",\n",
    "            \"content\": \"존댓말 쓰지말고, 친한친구처럼 한국어로 답변\"\n",
    "        },\n",
    "        {\n",
    "            \"role\": \"user\",\n",
    "            \"content\": \"AI시대에 우린 무엇을 준비해야 할까?\",\n",
    "        }\n",
    "    ],\n",
    "    model=\"llama3-8b-8192\",\n",
    ")\n",
    "\n",
    "print(chat_completion.choices[0].message.content) # 정적으로 받은 결과 출력 "
   ]
  },
  {
   "cell_type": "code",
   "execution_count": 11,
   "id": "9746b827-e712-4f16-8078-97f6820b260e",
   "metadata": {},
   "outputs": [
    {
     "name": "stdout",
     "output_type": "stream",
     "text": [
      "솔직히, 결혼하고 애 키우는 건 선택의 문제야. 누군가에게는 최고의 선택이 될 수 있고, 누군가에게는 전혀 아닌 선택이 될 수도 있어.\n",
      "\n",
      "하지만, 일반적으로는 결혼하고 애 키우는 것이 인간의 기본적인 본능 중 하나야. 왜냐하면, 인간은 사회적 동물이고, 가족이라는 공동체 안에서 살아가며, 서로를 지원하고 사랑하는 것이 인간의 기본적인需求 중 하나이기 때문이야.\n",
      "\n",
      "또한, 결혼하고 애 키우는 것은 인간의 생명 주기 중 하나야. 인간은 태어나고, 성장하고, 결혼하고, 아이를 키우며, 노후를 보내는 것이 일반적인 생명 주기야. 이러한 생명 주기는 인간의 생명을 구성하는 기본적인 구조야.\n",
      "\n",
      "물론, 이러한 생명 주기는 현대 사회에서는 다양한 형태로 변화하고 있어. 예를 들어, 결혼하지 않고도 아이를 키울 수 있고, 아이를 키우지 않고도 행복한 삶을 살 수 있어. 하지만, 기본적으로는 인간의 생명 주기 중 하나로 결혼하고 애 키우는 것이 여전히 중요하게 여겨지고 있어.\n",
      "\n",
      "왜냐하면, 결혼하고 애 키우는 것은 인간의 사랑과 책임감, 그리고 가족의 유대감을 강조하는 것이기 때문이야. 이러한 가치는 인간의 기본적인需求 중 하나야.None"
     ]
    }
   ],
   "source": [
    "from groq import Groq\n",
    "from dotenv import load_dotenv\n",
    "import os\n",
    "import warnings\n",
    "\n",
    "load_dotenv()\n",
    "\n",
    "client = Groq(\n",
    " api_key=os.getenv(\"GROQ_API_KEY\"),\n",
    ")\n",
    "\n",
    "stream = client.chat.completions.create(\n",
    "    # 메시지 셋팅\n",
    "    messages=[\n",
    "        # 시스템메시지 설정은 옵션. 모델에 주는 세부 지시사항\n",
    "        {\n",
    "            \"role\": \"system\",\n",
    "            \"content\": \"친한친구처럼, 존댓말 쓰지말고 답변\"\n",
    "        },\n",
    "        # 유저메시지 설정 필수.\n",
    "        {\n",
    "            \"role\": \"user\",\n",
    "            \"content\": \"왜 결혼을 하고, 애를 키우며 살아야 할까?\",\n",
    "        }\n",
    "    ],\n",
    "    # 사용하고 싶은 모델 선택\n",
    "    model=\"llama3-70b-8192\",\n",
    "\n",
    "    # 파라미터 셋팅\n",
    "    # 적을수록 정확한 답변, 커질수록 창의적 답변(0~2)\n",
    "    temperature=0.5,\n",
    "\n",
    "    # 최대 출력길이 설정, 최대 32,768까지 설정가능\n",
    "    max_tokens=1024,\n",
    "\n",
    "    # 결과샘플 선택의 다양성 선택 (0.5는 50%까지는 사용하겠음)\n",
    "    # likelihood-weighted options are considered.\n",
    "    top_p=0.7,\n",
    "\n",
    "    # 유저가 지정한 단어에서 출력을 멈추게 됨\n",
    "    # 예를 들면 \"끝\"이라고 지정한 경우, 끝까지만 출력\n",
    "    stop=None,\n",
    "\n",
    "    # True, False로 셋팅, True이면 부분적인 메시지 델타 집합을 받음\n",
    "    stream=True,\n",
    ")\n",
    "\n",
    "# stream=True 로 설정시, chunk로 루프돌려서 choices[0].delta로 가져옴\n",
    "for chunk in stream:\n",
    "    print(chunk.choices[0].delta.content, end=\"\")"
   ]
  },
  {
   "cell_type": "markdown",
   "id": "aa94d7ad-832d-468b-a8b9-5f5825194c66",
   "metadata": {},
   "source": [
    "## 2. 랭체인개요"
   ]
  },
  {
   "cell_type": "markdown",
   "id": "7a3b03a4-c33b-4df1-872e-9735d26bd6c8",
   "metadata": {},
   "source": [
    "- 고성능 언어모델의 등장으로 기존 절차적 프로그래밍에서 어려웠던 기능을 쉽게 처리 (자연어 처리 및 표현 수정 등)\n",
    "    - 한계 :  논리적 복잡한 문제나 학습지식의 범위 벗어나는 정보 대잡 어려움\n",
    "- 이런 한계를 극복하기 위해 언어모델이 알지못하는 정보도 대답할 수 있게 하는 RAG (Retrieval-Augmented Generation), 추론과 행동을 언어모델 스스로 판단하여 인터넷검색이나 파일 저장 등을 자율적으로 수행하게 하는 React(Reasoming And Acting, 추론 및 행동)\n",
    "- Langchain의 6개 모듈 : [랭체인 다큐먼트 참고](https://python.langchain.com/docs/get_started/introduction.html)\n",
    "    - Model I/O : 언어모델 호출/프롬프트 준비/결과수신\n",
    "    - Retrieval : PDF, CSV, VectorDB 등에서 연관된 정보를 입출력저장\n",
    "    - Memory : 대화를 장/단기적 저장\n",
    "    - Chains : 여러 프로세스 통합/복잡한 기능개발을 쉽게 진행\n",
    "    - Agents : 모델외부와 상호작용하여 기능 확장 (예> 관련된 논문 결과를 크롤링, Rag로 저장, 이미지 인식)\n",
    "    - Callbacks : 이벤트 발생시 처리 수행 (로그 출력이나 외부라이브러리연동사용)"
   ]
  },
  {
   "cell_type": "markdown",
   "id": "da850eeb-8424-4bc1-9801-3e215f28b762",
   "metadata": {},
   "source": [
    "## 3. 랭체인 활용예시\n",
    "> 랭체인으로 어떤 서비스를 만들수 있을까\n",
    "- 언어모델이 모르는 정보가 있는 PDF를 불러와서 질문하거나 요약할 수 있는 챗봇 애플리케이션 생성\n",
    "- 명령을 통해 행동하는 비서역할의 서비스 \n",
    "    + 예 > 부산에 갈만한 곳을 검색하고 2박3일 일정표를 짜서 iternery.csv파일에 한국어로 저장해줘\n",
    "- 챗지피티는 일반인이 플러그인을 설치해서 단순 사용한다면, 랭체인은 개발자가 보다 확장성 있게 언어모델이 할수 없는 일을 가능하게 만들수 있다\n",
    "    + 예 > 구글캘린더, 지메일에서 정보를 가져와서 매일 아침 slack에서 오늘 일정과 할일 목록을 제안\n",
    "    \n",
    "> 나만의 어플리케이션을 만들어 보자\n"
   ]
  },
  {
   "cell_type": "code",
   "execution_count": 12,
   "id": "3ad8efcd-3fd9-4db2-919b-5d48883ff13f",
   "metadata": {},
   "outputs": [
    {
     "name": "stdout",
     "output_type": "stream",
     "text": [
      "I'd be happy to help you with that. 😊\n",
      "\n",
      "**Search for attractions in Busan**\n",
      "\n",
      "Here are some popular attractions in Busan:\n",
      "\n",
      "1. **Haeundae Beach** (해운대 해수욕장) - one of the most popular beaches in Korea\n",
      "2. **Busan Tower** (부산 타워) - a iconic tower with great city views\n",
      "3. **Jagalchi Market** (자갈치 시장) - a bustling marketplace with fresh seafood\n",
      "4. **Gamcheon Cultural Village** (감천 문화마을) - a colorful and artistic village\n",
      "5. **Haedong Yonggungsa Temple** (해동 용궁사) - a scenic temple by the sea\n",
      "6. **Busan Museum of Art** (부산 시립 미술관) - a modern art museum with rotating exhibits\n",
      "7. **Dongnae-gu** (동래구) - a historic district with traditional architecture\n",
      "8. **Gukje Market** (국제 시장) - a traditional market with souvenirs and snacks\n",
      "9. **Busan International Market** (부산 국제 시장) - a large market with international goods\n",
      "10. **Yongdusan Park** (용두산 공원) - a scenic park with great city views\n",
      "\n",
      "**2-Day, 3-Night Itinerary**\n",
      "\n",
      "Here's a suggested itinerary for your trip to Busan:\n",
      "\n",
      "**Day 1**\n",
      "\n",
      "* Morning: Arrive in Busan and check-in to your hotel\n",
      "* 10:00 AM: Visit Haeundae Beach and enjoy the beach activities\n",
      "* 1:00 PM: Lunch at a seafood restaurant near the beach\n",
      "* 2:30 PM: Visit Busan Tower and enjoy the city views\n",
      "* 5:00 PM: Explore the nearby Yongdusan Park\n",
      "* 7:00 PM: Dinner at a local restaurant in the Haeundae area\n",
      "\n",
      "**Day 2**\n",
      "\n",
      "* 9:00 AM: Visit Jagalchi Market and try some fresh seafood\n",
      "* 11:00 AM: Explore the Gamcheon Cultural Village\n",
      "* 1:00 PM: Lunch at a local restaurant in the Gamcheon area\n",
      "* 2:30 PM: Visit the Busan Museum of Art\n",
      "* 5:00 PM: Explore the Dongnae-gu historic district\n",
      "* 7:00 PM: Dinner at a local restaurant in the Dongnae-gu area\n",
      "\n",
      "**Day 3**\n",
      "\n",
      "* 9:00 AM: Visit Haedong Yonggungsa Temple\n",
      "* 11:00 AM: Explore the Gukje Market\n",
      "* 1:00 PM: Lunch at a local restaurant near the market\n",
      "* 2:30 PM: Visit the Busan International Market\n",
      "* 5:00 PM: Return to your hotel and pack up\n",
      "* 7:00 PM: Departure from Busan\n",
      "\n",
      "**Itinerary CSV File**\n",
      "\n",
      "Here is the itinerary in a CSV file format:\n",
      "\n",
      "\"Day\",\"Time\",\"Activity\",\"Location\"\n",
      "\"Day 1\",\"10:00 AM\",\"Haeundae Beach\",\"Haeundae\"\n",
      "\"Day 1\",\"1:00 PM\",\"Lunch\",\"Haeundae\"\n",
      "\"Day 1\",\"2:30 PM\",\"Busan Tower\",\"Yongdusan\"\n",
      "\"Day 1\",\"5:00 PM\",\"Yongdusan Park\",\"Yongdusan\"\n",
      "\"Day 1\",\"7:00 PM\",\"Dinner\",\"Haeundae\"\n",
      "\"Day 2\",\"9:00 AM\",\"Jagalchi Market\",\"Jagalchi\"\n",
      "\"Day 2\",\"11:00 AM\",\"Gamcheon Cultural Village\",\"Gamcheon\"\n",
      "\"Day 2\",\"1:00 PM\",\"Lunch\",\"Gamcheon\"\n",
      "\"Day 2\",\"2:30 PM\",\"Busan Museum of Art\",\"Haeundae\"\n",
      "\"Day 2\",\"5:00 PM\",\"Dongnae-gu\",\"Dongnae-gu\"\n",
      "\"Day 2\",\"7:00 PM\",\"Dinner\",\"Dongnae-gu\"\n",
      "\"Day 3\",\"9:00 AM\",\"Haedong Yonggungsa Temple\",\"Haedong\"\n",
      "\"Day 3\",\"11:00 AM\",\"Gukje Market\",\"Gukje\"\n",
      "\"Day 3\",\"1:00 PM\",\"Lunch\",\"Gukje\"\n",
      "\"Day 3\",\"2:30 PM\",\"Busan International Market\",\"Busan\"\n",
      "\"Day 3\",\"5:00 PM\",\"Return to hotel\",\"Busan\"\n",
      "\"Day 3\",\"7:00 PM\",\"Departure\",\"Busan\"\n",
      "\n",
      "Please note that this is just a suggested itinerary and you can adjust it to fit your preferences and schedule. 😊None"
     ]
    }
   ],
   "source": [
    "from groq import Groq\n",
    "from dotenv import load_dotenv\n",
    "import os\n",
    "import warnings\n",
    "load_dotenv()\n",
    "client = Groq(\n",
    " api_key=os.getenv(\"GROQ_API_KEY\"),\n",
    ")\n",
    "\n",
    "stream = client.chat.completions.create(\n",
    "    messages=[\n",
    "        {\n",
    "            \"role\": \"system\",\n",
    "            \"content\": \"한국어로 말해,명령을 통해 행동하는 비서 역할의 서비스\"\n",
    "        },\n",
    "        {\n",
    "            \"role\": \"user\",\n",
    "            \"content\": \"부산에 갈만한 곳을 검색하고 2박3일 일정표를 짜서 일정표.csv파일에 한국어로 저장해줘\",\n",
    "        }\n",
    "    ],\n",
    "    model=\"llama3-70b-8192\",\n",
    "    temperature=0.5,\n",
    "    max_tokens=1024,\n",
    "    top_p=0.7,\n",
    "    stop=None,\n",
    "    stream=True,\n",
    ")\n",
    "\n",
    "for chunk in stream:\n",
    "    print(chunk.choices[0].delta.content, end=\"\")"
   ]
  },
  {
   "cell_type": "markdown",
   "id": "84d5a435-b2b7-4411-8ed4-488df332f1b6",
   "metadata": {},
   "source": [
    "> Agent를 통해 tool을 저장하면, 외부와 연계가 가능해짐"
   ]
  },
  {
   "cell_type": "markdown",
   "id": "6b8f3dba-3650-49ec-bd3b-dfb867cd7cbf",
   "metadata": {},
   "source": [
    "## 4. 실습준비"
   ]
  },
  {
   "cell_type": "markdown",
   "id": "2d3ecc0b-b697-4db1-ba9c-d1b144b67be2",
   "metadata": {},
   "source": [
    "- [1. 비주얼 스튜디오 설치](https://azure.microsoft.com/ko-kr/products/visual-studio-code) 및 [파이썬다운로드](https://www.python.org/downloads/)\n",
    "- [2.주피터랩 설치](https://youtu.be/kuhtXwYlvjc?si=UWjIARPutkrWffa8)\n",
    "- [3.가상환경설치 및 주피터랩에띄우기](https://github.com/restful3/ds4th_study/blob/main/source/%EB%9E%AD%EC%B2%B4%EC%9D%B8_%EC%99%84%EB%B2%BD_%EC%9E%85%EB%AC%B8/langchain/langchain%20%ED%99%98%EA%B2%BD%20%EC%84%A4%EC%A0%95.md)\n",
    "- [4. OPENAI API다운받기](https://openai.com/blog/openai-api)\n",
    "- [5. dotenv 설정하기](https://hyunhp.tistory.com/718)"
   ]
  },
  {
   "cell_type": "markdown",
   "id": "4d36feff-7180-4385-afa1-e83f5fd63835",
   "metadata": {},
   "source": [
    "## 5. OPENAI의 API를 호출해보자"
   ]
  },
  {
   "cell_type": "markdown",
   "id": "d373856b-16a0-460d-a6ec-16443b26944e",
   "metadata": {},
   "source": [
    "[dotenv](https://hyunhp.tistory.com/718) 설명을 참조하여 API Password를 저장할 수 있도록 합니다"
   ]
  },
  {
   "cell_type": "code",
   "execution_count": 67,
   "id": "d9d3dd92-d3ec-48c2-aad4-8eb681b9bec3",
   "metadata": {},
   "outputs": [
    {
     "name": "stdout",
     "output_type": "stream",
     "text": [
      "LLM이 갑자기 뜬 이유는 다양할 수 있겠지만, 그 중 일반적으로는 다음과 같은 이유가 있을 수 있습니다.\n",
      "\n",
      "1. 마케팅 활동: LLM이 갑자기 뜬 이유 중 하나는 마케팅 활동이 성공적으로 이뤄졌기 때문일 수 있습니다. 새로운 광고 캠페인, 소셜 미디어 홍보, 혹은 새로운 제품 런칭 등이 있을 수 있습니다.\n",
      "\n",
      "2. 이벤트나 행사 참여: LLM이 갑자기 뜨게 된 이유 중 하나로는 어떤 이벤트나 행사에 참여하거나 주목을 받았기 때문일 수 있습니다. 이를 통해 인지도가 증대되었을 가능성이 있습니다.\n",
      "\n",
      "3. 커뮤니티나 온라인 컨텐츠에서 주목을 받음: LLM이 커뮤니티나 온라인 컨텐츠에서 화제가 되었기 때문에 갑자기 뜬 것일 수 있습니다. 만약 어떤 이슈에 대한 논란이 있었다면, 해당 이슈에 관련된 LLM이 관련성을 얻었을 가능성이 있습니다.\n",
      "\n",
      "이러한 이유들이 LLM이 갑자기 뜬 이유 중 일부가 될 수 있습니다. 추가적인 상황이나 배경 정보에 따라 다른 이유가 있을 수도 있습니다.\n"
     ]
    }
   ],
   "source": [
    "'''\n",
    "기본 챗팅모델을 호출하여 답변을 불러와 봅시다.\n",
    "'''\n",
    "import os\n",
    "from dotenv import load_dotenv\n",
    "import openai\n",
    "# from openai import OpenAI\n",
    "\n",
    "# 모델별 API pw를 저장합니다 .env 파일에 저장하고 불러옵니다.\n",
    "load_dotenv()\n",
    "os.getenv(\"OPENAI_API_KEY\")\n",
    "\n",
    "# \n",
    "completion = openai.chat.completions.create(\n",
    "    model=\"gpt-3.5-turbo\",\n",
    "    messages=[\n",
    "        {\n",
    "            \"role\": \"user\",\n",
    "            \"content\": \"LLM이 갑자기 뜬 이유를 알려주세요\",\n",
    "        },\n",
    "    ],\n",
    ")\n",
    "print(completion.choices[0].message.content)"
   ]
  }
 ],
 "metadata": {
  "kernelspec": {
   "display_name": "lang310",
   "language": "python",
   "name": "lang310"
  },
  "language_info": {
   "codemirror_mode": {
    "name": "ipython",
    "version": 3
   },
   "file_extension": ".py",
   "mimetype": "text/x-python",
   "name": "python",
   "nbconvert_exporter": "python",
   "pygments_lexer": "ipython3",
   "version": "3.10.14"
  }
 },
 "nbformat": 4,
 "nbformat_minor": 5
}
