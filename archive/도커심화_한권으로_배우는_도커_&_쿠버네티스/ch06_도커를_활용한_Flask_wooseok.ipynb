{
 "cells": [
  {
   "cell_type": "markdown",
   "id": "59dd0094-e4cb-4e1e-ab01-2c4a980545a9",
   "metadata": {},
   "source": [
    "# ch.6 도커를 활용한 Flask 실행\n",
    "> 전 시간에 django를 홯용하여 웹서비스를 실행했습니다. 6장에서는 Flask를 황용해 웹서비스를 실행해봅시다. \n",
    "> Flask라이브러리를 설치하고 실행을 위해 필요한 네트워크를 설정합니다.\n"
   ]
  },
  {
   "cell_type": "markdown",
   "id": "e87080bf-aac9-45a1-90c6-2f579d884aa0",
   "metadata": {},
   "source": [
    "## 1. Flask 연결"
   ]
  },
  {
   "cell_type": "markdown",
   "id": "039ae941-2092-4286-adbc-96976a3c65e9",
   "metadata": {},
   "source": [
    "### 1. 가상환경 설치\n",
    "```\n",
    "conda create -n docker_env python=3.11.6\n",
    "conda activate docker_env\n",
    "pip install flask \n",
    "```"
   ]
  },
  {
   "cell_type": "markdown",
   "id": "0cebc966-d8a1-4750-97cd-94c92ce754d6",
   "metadata": {},
   "source": [
    "### 2. 네트워크 설정\n",
    "브라우저에서 192.168.0.1을 입력하여 공유기의 포트포워딩을 진행합니다. 8001,81번을 등록하세요.<br>\n",
    "내가 접속한 네트워크를 체크하거나 현재 컴퓨터의 LAN주소를 입력하세요<br>\n",
    "![](image/포트포워딩.png)"
   ]
  },
  {
   "cell_type": "markdown",
   "id": "e8ef0d15-68bb-4290-ba24-50cad7dafeab",
   "metadata": {},
   "source": [
    "기존에 사용중인 외부포트가 있다면 변경해서 겹치지 않도록 진행하세요<br>\n",
    "![image.png](image/포트포워딩2.png)"
   ]
  },
  {
   "cell_type": "markdown",
   "id": "63639a4e-caf1-454a-95ef-b9054849a851",
   "metadata": {},
   "source": [
    "### 3. 파일 작성\n",
    "> flask를 실행하는 python 코드를 만들어봅시다\n",
    "\n",
    "```\n",
    "cd ex01\n",
    "mkdir wsapp # 만들 폴더이름을 정하세요\n",
    "cd wsapp \n",
    "notepad main.py\n",
    "```\n",
    "메모장이 열리면 다음을 복/붙하세요\n",
    "```\n",
    "from flask import Flask\n",
    "\n",
    "app = Flask(__name__)\n",
    "\n",
    "@app.route('/')\n",
    "def hello_world():\n",
    "    return \"Hello, World!\"\n",
    "\n",
    "if __name__ == \"__main__\":\n",
    "    app.run(host=\"0.0.0.0\", port=8081)\n",
    "```\n",
    "보안이 작동하지만 내부망이기에 잘 접속되는 걸 볼수 있습니다."
   ]
  },
  {
   "cell_type": "markdown",
   "id": "f5c95b4c-a528-4c52-81ad-897ba0cfc584",
   "metadata": {},
   "source": [
    "![image.png](image/스크린.png)\n",
    "\n",
    "![image.png](image/성공.png)\n",
    "<br>\n",
    "> 단 외부망에서 우리집의 서버에 접속하려면 윈도우의 보안 설정에서 인바운드설정-특정포트 를 오픈해 주어야 접속이 가능합니다.<br>\n",
    "![image.png](image/보안.png)"
   ]
  },
  {
   "cell_type": "markdown",
   "id": "b7994b92-1241-4aeb-a488-78e52af4022d",
   "metadata": {},
   "source": [
    "## 2. Nginx,Flsek 연동후 실행\n",
    "> Nginx(웹서버)와 Flask(WAS)를 컨테이너 형태로 연동한 후 실행하겠습니다. 이를 위해 실습디렉토리를 정리하고 Flask와 Nginx 이미지를 각각 빌듷란 후 컨테이너로 실행합니다.\n",
    "\n",
    "2. 플라스크 디렉초\n"
   ]
  },
  {
   "cell_type": "markdown",
   "id": "a7eb1c75-6c1a-4e9b-bd5b-fae9caf8041e",
   "metadata": {},
   "source": [
    "### 1. 플라스크디렉토리 복사\n",
    "```\n",
    "cd ..\n",
    "mkdir ex02\n",
    "cp -r ex01 ex02\n",
    "cd ex02\n",
    "mv ex01 myFlask_ws # 이동할 경로이름을 정하세요\n",
    "```"
   ]
  },
  {
   "cell_type": "markdown",
   "id": "9ab26977-f15e-4b4c-863b-fce84f863c54",
   "metadata": {},
   "source": [
    "### 2. 도커파일을 이용한 이미지 빌드\n",
    "> 도커파일을 이용하면 쉘에 하나하나 입력해야 했던 명령어를 한번에 실행합니다. 하나의 폴더에 반드시 Dockerfile만 존재해야 합니다.(확장자 없음)\n",
    "```\n",
    "cd .\\myFlask_ws\\    # 위에서 설정한 경로로 이동합니다.\n",
    "notepad requirements.txt\n",
    "```\n",
    "설치할라이브러리를 복사하여 붙여넣습니다.\n",
    "```\n",
    "flask==3.0.0\n",
    "gunicorn==20.1.0\n",
    "```\n",
    "이어서 도커파일도 생성합니다.\n",
    "```\n",
    "notepad Dockerfile\n",
    "```\n",
    "실행할 명령어를 붙여넣고 저장합니다.\n",
    "```\n",
    "FROM python:3.11.6\n",
    "\n",
    "WORKDIR /usr/src/app\n",
    "\n",
    "COPY . .\n",
    "\n",
    "RUN python -m pip install --upgrade pip\n",
    "RUN pip install -r requirements.txt\n",
    "\n",
    "WORKDIR ./myapp\n",
    "\n",
    "CMD gnicorn --bind 0.0.0.0:8001 main:app\n",
    "\n",
    "EXPOSE 8001\n",
    "\n",
    "```\n",
    "노트패드는 확장자가 생기므로 변경 후 도커빌드를 실행하면 해당이미지가 생성됩니다.\n",
    "```\n",
    "Rename-Item -Path \"Dockerfile.txt\" -NewName \"Dockerfile\"\n",
    "docker image build . -t  myflask_ws\n",
    "docker image ls\n",
    "```\n",
    "네트워크를 생성하고 컨테이너를 실행합니다.\n",
    "```\n",
    "docker network create mynetwork_wsf\n",
    "docker container run -d --name flasktest --network mynetwork_wsf myflask_ws\n",
    "docker ps\n",
    "```\n",
    "\n",
    "제대로 실행되지 않을때는 로그를 확인하세요\n",
    "```\n",
    "docker logs flasktest\n",
    "```\n",
    "로그를 확인하여 문제가 있는 부분의 오타 등을 수정한 후 다시 생성할 경우에는\n",
    "컨테이너 및 이미지를 모두 삭제합니다.\n",
    "```\n",
    "docker container rm flasktest\n",
    "docker image rm myflask_ws\n",
    "```"
   ]
  },
  {
   "cell_type": "markdown",
   "id": "eabeda70-2877-4b8e-8d25-d5905b8bfad3",
   "metadata": {},
   "source": [
    "### Nginx이미지 빌드\n",
    "> Nginx도 똑같이 빌드해봅시다\n",
    "```\n",
    "cd ..\n",
    "mkdir myNginx_wsf\n",
    "cd myNginx_wsf\n",
    "notepad default.conf\n",
    "```\n",
    "config파일에 서버 설정할 내용을 입력합니다. 8081(Flask)로 들어오는 트래픽를 도커내부에서 81 (Nginx)로 넘겨주는 설정입니다.\n",
    "```\n",
    "upstream myweb{\n",
    "    server flasktest:8081;  # 'django'로 수정\n",
    "}\n",
    "\n",
    "server {\n",
    "    listen 81;\n",
    "    server_name localhost;\n",
    "\n",
    "    location / {\n",
    "        proxy_pass http://myweb;\n",
    "    }\n",
    "}\n",
    "```\n",
    "이번엔 NginX의 도커파일을 만듭니다.\n",
    "```\n",
    "notepad Dockerfile\n",
    "```\n",
    "다음을 입력하고 저장\n",
    "```\n",
    "FROM nginx:1.25.3\n",
    "RUN rm /etc/nginx/conf.d/default.conf\n",
    "COPY default.conf /etc/nginx/conf.d/\n",
    "CMD [\"nginx\", \"-g\", \"daemon off;\"]\n",
    "```\n",
    "도커파일 확장자 변경 및 도커 빌드합니다. \n",
    "```\n",
    "Rename-Item -Path \"Dockerfile.txt\" -NewName \"Dockerfile\"\n",
    "docker image build . -t  mynginx_wsf \n",
    "docker image ls\n",
    "docker container rm flasktest\n",
    "docker image rm myflask_ws\n",
    "docker container run -d --name nginxtest --network mynetwork_wsf -p81:81 mynginx_wsf\n",
    "```"
   ]
  },
  {
   "cell_type": "markdown",
   "id": "b16874b3-e39f-4dd9-b149-80690f451837",
   "metadata": {},
   "source": [
    "## 3. 도커컴포즈를 통한 컨테이너 실행\n",
    "> 위의 복잡한 과정이 아닌 docker-compose.yml 하나로 두개의 서비스를 만들고 연결하겠습니다.\n",
    "\n",
    "```\n",
    "cd 'D:\\drive\\SelfStudy\\ds4th_study\\source\\도커심화_한권으로_배우는_도커_&_쿠버네티스\\ch06'\n",
    "cp -r ex02\\myNginx_wsf ex03ws\\myNginx_wsf # 경로 이름 알맞게 변경하세요\n",
    "cp -r ex02\\myFlask_ws ex03ws\\myFlask_ws # 경로 이름 알맞게 변경하세요\n",
    "cd ex03ws\n",
    "notepad docker-compose.yml\n",
    "```\n",
    "저장한 후에는 도커를 실행합니다.\n",
    "```\n",
    "docker compose up -d --build\n",
    "docker ps #실행중인 도커컨테이너를 확인합니다.\n",
    "docker container logs 521f9d747f8d # 컨테이너ID를  입력하여 log 확인\n",
    "docker compose down\n",
    "```\n",
    "> 도커컴포즈 파일은 각 폴더의 도커파일을 build 실행하고 network를 연결합니다. 이때, depend_on으로 실행순서를 결정할 수 있습니다\n",
    "![](./image/docker-compose.png)\n"
   ]
  }
 ],
 "metadata": {
  "kernelspec": {
   "display_name": "tw39",
   "language": "python",
   "name": "tw39"
  },
  "language_info": {
   "codemirror_mode": {
    "name": "ipython",
    "version": 3
   },
   "file_extension": ".py",
   "mimetype": "text/x-python",
   "name": "python",
   "nbconvert_exporter": "python",
   "pygments_lexer": "ipython3",
   "version": "3.9.16"
  }
 },
 "nbformat": 4,
 "nbformat_minor": 5
}
