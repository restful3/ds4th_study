{
  "cells": [
    {
      "cell_type": "markdown",
      "metadata": {
        "id": "view-in-github",
        "colab_type": "text"
      },
      "source": [
        "<a href=\"https://colab.research.google.com/github/restful3/ds4th_study/blob/main/source/%EB%B0%91%EB%B0%94%EB%8B%A5%EB%B6%80%ED%84%B0_%EC%8B%9C%EC%9E%91%ED%95%98%EB%8A%94_%EB%94%A5%EB%9F%AC%EB%8B%9D/ch03_%EC%8B%A0%EA%B2%BD%EB%A7%9D.ipynb\" target=\"_parent\"><img src=\"https://colab.research.google.com/assets/colab-badge.svg\" alt=\"Open In Colab\"/></a>"
      ]
    },
    {
      "cell_type": "code",
      "execution_count": 1,
      "id": "U0qPxc69kLEZ",
      "metadata": {
        "id": "U0qPxc69kLEZ",
        "colab": {
          "base_uri": "https://localhost:8080/"
        },
        "outputId": "5b8d8a35-3f47-4ba8-b988-45cb07ba0302"
      },
      "outputs": [
        {
          "output_type": "stream",
          "name": "stdout",
          "text": [
            "Mounted at /content/drive\n"
          ]
        }
      ],
      "source": [
        "from google.colab import drive\n",
        "drive.mount('/content/drive')"
      ]
    },
    {
      "cell_type": "code",
      "execution_count": 2,
      "id": "der6xEO2kVdZ",
      "metadata": {
        "id": "der6xEO2kVdZ",
        "colab": {
          "base_uri": "https://localhost:8080/"
        },
        "outputId": "94a2da1d-a830-4f5e-d932-82748c9c5bd3"
      },
      "outputs": [
        {
          "output_type": "stream",
          "name": "stdout",
          "text": [
            "/content/drive/MyDrive/SelfStudy/ds4th_study/source/밑바닥부터_시작하는_딥러닝\n"
          ]
        }
      ],
      "source": [
        "cd '/content/drive/MyDrive/SelfStudy/ds4th_study/source/밑바닥부터_시작하는_딥러닝'"
      ]
    },
    {
      "cell_type": "markdown",
      "id": "dad96645-0a8c-45f7-a3ef-c8a167d4b94e",
      "metadata": {
        "id": "dad96645-0a8c-45f7-a3ef-c8a167d4b94e"
      },
      "source": [
        "# 3.신경망"
      ]
    },
    {
      "cell_type": "markdown",
      "id": "b2cfc1ae-314b-4ce2-8e25-6752f163e191",
      "metadata": {
        "id": "b2cfc1ae-314b-4ce2-8e25-6752f163e191"
      },
      "source": [
        "- 기존에 배운 단층 퍼셉트론은\n",
        "    + 복잡한 함수도 처리할 수 있으나\n",
        "    + 여전히 가중치를 사람이 설정하는 과정 거침"
      ]
    },
    {
      "cell_type": "markdown",
      "id": "59ab21f8-0752-4b3c-8858-cf09e2441b24",
      "metadata": {
        "id": "59ab21f8-0752-4b3c-8858-cf09e2441b24"
      },
      "source": [
        "## 1. 퍼셉트론에서 신경망으로"
      ]
    },
    {
      "cell_type": "markdown",
      "id": "e09fde48-e23a-4b7b-8e33-0b74f5e3b79f",
      "metadata": {
        "id": "e09fde48-e23a-4b7b-8e33-0b74f5e3b79f"
      },
      "source": [
        "### 1.1 신경망의 예\n",
        "다음의 그림처럼 신경망은 입력층 은닉층 출력층, 즉 3개 층으로 기본 구성.<br>\n",
        "가중치를 갖는 층은 2개 뿐이기에 2층 신경망이라 불릴때도 있음 <br>\n",
        "<3-1 신경망의 예><br>\n",
        "<img src=\"https://drive.google.com/uc?id=1b2WIqYI2eTRHupDKvRT1E0NeOjDQJYFH\" width=500 height=500>\n",
        "\n",
        "\n",
        "\n"
      ]
    },
    {
      "cell_type": "markdown",
      "id": "557d33fd-0034-4598-9181-1e08ad5d0c80",
      "metadata": {
        "id": "557d33fd-0034-4598-9181-1e08ad5d0c80"
      },
      "source": [
        "### 1.2 퍼셉트론복습\n",
        "<br><3-2 퍼셉트론 복습>\n",
        "<br>\n",
        "<img src=\"https://drive.google.com/uc?id=1cFPMDvEGkuowGG-JMBDaZ6VDkMhlna-3\" width=410 ><br>\n",
        "x1, x2 두신호를 받아 y를 출력하는 퍼셉트론, 수식으로는 다음과 같음\n",
        "\n",
        "> $ y = 0 (b+w_1x_1+w_2x_2 <=0)$ <br>\n",
        "> $ y = 1 (b+w_1x_1+w_2x_2 >0)$ <br>\n",
        "\n",
        "- b는 편향 : 뉴런이 얼마나 쉽게 활성화 되는가 제어\n",
        "- $w_1, w_2$는 각신호의 가중치로 각 신호의 영향력 제어\n",
        "\n",
        "그런데 3-2 그림에서는 편향이 보이지 않으므로 편향을 명시하여 그림 그려보면 다음과 같음<br>\n",
        "<img src=\"https://drive.google.com/uc?id=1NGTFaWUFaeI1Y_P8YFjLPFeFP3a2GiVs\" width=500 height=500><br>"
      ]
    },
    {
      "cell_type": "markdown",
      "id": "01d5114b-80ac-410d-86a8-37799fcbed95",
      "metadata": {
        "id": "01d5114b-80ac-410d-86a8-37799fcbed95"
      },
      "source": [
        "### 1.3 활성화 함수의 등장\n",
        "\n",
        "\n",
        "이 퍼셉트론은 $x_1,x_2,1$ 이라는 3개의 신호가 뉴런에 전달되어 각 신호의 가중치를 곱한 후 다음 뉴런에 전달.\n",
        "- 다음 뉴런에서 이신호의 값을 더하여 그합이 0을 넘으면 1, 아니면 0 출력\n",
        "\n",
        "<br><h4>이처럼 입력신호의 총합을 출력신호로 변환하는 함수를 <b><h3>활성화함수</h3></b>라고 한다</h4>\n",
        "\n",
        "<img src=\"https://drive.google.com/uc?id=1bN50GRH5NnXFsP532jnV5sHady15Lj3Z\" width=500 height=500><br>\n",
        "\n",
        "뉴런의 계산과정을 자세히 나타냄<br><br>\n",
        "<그림 3-5>\n",
        "\n",
        "<img src=\"https://drive.google.com/uc?id=1bFULnASdVDWvJq2aFU-YXBAFKnMJptVo\" width=1000 height=200>\n",
        "<br> 왼쪽은 일반적인 뉴런, 오른쪽은 활성화 처리 과정을 명시한 뉴런, a 는 입력신호의 총합, h()는 활성화함수"
      ]
    },
    {
      "cell_type": "markdown",
      "id": "465d1313-fec0-4d03-b3d8-49d9f5206a49",
      "metadata": {
        "id": "465d1313-fec0-4d03-b3d8-49d9f5206a49"
      },
      "source": [
        "## 2. 활성화함수\n",
        "위처럼 임계값을 경계로 출력이 바뀌는것을 계단함수 (step function)이라 한다. 신경망에서 자주 이용되는 활성화함수인 sigmoid와 비교하여 살펴보자\n"
      ]
    },
    {
      "cell_type": "markdown",
      "id": "417b83d5-7f68-4e40-856d-10c12028779d",
      "metadata": {
        "id": "417b83d5-7f68-4e40-856d-10c12028779d"
      },
      "source": [
        "### 2.1 계단함수 구현\n",
        "- 임계값을 기준으로 0 또는 1이라...극단적 : 두가지 선택을 보여줌"
      ]
    },
    {
      "cell_type": "code",
      "execution_count": null,
      "id": "2f73702f-ac19-4c7b-98c3-3701ac432c59",
      "metadata": {
        "colab": {
          "base_uri": "https://localhost:8080/",
          "height": 430
        },
        "id": "2f73702f-ac19-4c7b-98c3-3701ac432c59",
        "outputId": "c0d0fe82-dee0-43ac-a4ce-26ef413a8f1b"
      },
      "outputs": [
        {
          "data": {
            "image/png": "[encoded data removed]",
            "text/plain": [
              "<Figure size 640x480 with 1 Axes>"
            ]
          },
          "metadata": {},
          "output_type": "display_data"
        }
      ],
      "source": [
        "import numpy as np\n",
        "import matplotlib.pyplot as plt\n",
        "import warnings\n",
        "warnings.filterwarnings('ignore')\n",
        "\n",
        "# numpy 배열을 위한 구현\n",
        "def step_function(x):\n",
        "    # y = x > 0\n",
        "    # return y.astype(np.int)\n",
        "    return np.array(x > 0, dtype=np.int)\n",
        "\n",
        "\n",
        "# 3.2.3 계단 함수의 그래프\n",
        "x = np.arange(-5.0, 5.0, 0.1) # -5~5까지 0.1 간격으로 구현\n",
        "y = step_function(x)\n",
        "\n",
        "plt.plot(x, y)\n",
        "plt.ylim(-0.1, 1.1)  # y축의 범위 지정\n",
        "plt.show()\n"
      ]
    },
    {
      "cell_type": "markdown",
      "id": "bf6f6160-e461-49c9-993c-d72b9015915c",
      "metadata": {
        "id": "bf6f6160-e461-49c9-993c-d72b9015915c"
      },
      "source": [
        "### 2.2 시그모이드 구현\n",
        "\n",
        "- $  h(x) = \\frac{1}{1+exp(-x)}$\n",
        "\n",
        "exp(-x)는 $e^{-x}$로 e는 자연상수 (2.71812...), 시그모이드는 확률 0~1사이의 값을 연속형으로 연결\n",
        "- x에 비례하여 y의 확률값을 보여줌\n",
        "- 오즈비 (odds) 기반으로 만듬 : 실패확률 대비 성공확률\n",
        "  - 예> 3할인 타자가 안타칠 오즈비 = 0.3/0.7 = 0.4285...\n",
        "> odds = $\\frac{p}{1-p}$"
      ]
    },
    {
      "cell_type": "markdown",
      "source": [
        "[왜 시그모이드를 사용할까](https://icim.nims.re.kr/post/easyMath/64)<br>\n",
        "<img src=\"https://drive.google.com/uc?id=1Nl517gzapp1-WMk0pTvEE6jRc-8-erCO\" width=500>\n",
        "- 특성이 작거나, 큰경우 직선보다 잘 구분함\n"
      ],
      "metadata": {
        "id": "j6sQyRVs3BPG"
      },
      "id": "j6sQyRVs3BPG"
    },
    {
      "cell_type": "code",
      "execution_count": null,
      "id": "90332178-e1a0-4c27-893a-2b9c3e466b07",
      "metadata": {
        "colab": {
          "base_uri": "https://localhost:8080/",
          "height": 430
        },
        "id": "90332178-e1a0-4c27-893a-2b9c3e466b07",
        "outputId": "198690ab-2f3b-4867-ed9d-42fe21e82d5c"
      },
      "outputs": [
        {
          "data": {
            "image/png": "[encoded data removed]",
            "text/plain": [
              "<Figure size 640x480 with 1 Axes>"
            ]
          },
          "metadata": {},
          "output_type": "display_data"
        }
      ],
      "source": [
        "def sigmoid(x):\n",
        "    return 1 / (1 + np.exp(-x))\n",
        "\n",
        "\n",
        "x = np.arange(-5.0, 5.0, 0.1)\n",
        "y = sigmoid(x)\n",
        "\n",
        "plt.plot(x, y)\n",
        "plt.ylim(-0.1, 1.1)  # y축의 범위 지정\n",
        "plt.show()\n"
      ]
    },
    {
      "cell_type": "markdown",
      "id": "bb1f03ed-a127-41ba-9416-a92816d1fbc5",
      "metadata": {
        "id": "bb1f03ed-a127-41ba-9416-a92816d1fbc5"
      },
      "source": [
        "### 2.3 활성화함수의 공통점은?\n",
        "\n",
        "비선형함수라는 점임 : 신경망에서는 선형함수를 활성화함수로 사용해서는 안됨\n",
        "- 그러면 선형으로만 계산되어 신경망의 층을 깊게 하는 의미가 없어짐\n",
        "    - 예> h(x) = cx 를 활성화함수로 사용시, 3층네트워크 y(x) = h(h(h(x))) = $c^x$ 으로만 계산되면 끝"
      ]
    },
    {
      "cell_type": "markdown",
      "id": "a901f95b-46d6-49a1-a0f8-d4e0e09d91cd",
      "metadata": {
        "id": "a901f95b-46d6-49a1-a0f8-d4e0e09d91cd",
        "tags": []
      },
      "source": [
        "### 2.4 Relu 구현\n",
        "최근에 가장 많이 쓰이는 활성화함수로 <br>\n",
        "입력이 0을 넘으면 그대로 출력, 0 이하면 0을 출력"
      ]
    },
    {
      "cell_type": "code",
      "execution_count": null,
      "id": "a2848c89-5c5b-47da-9feb-e987aa13b47b",
      "metadata": {
        "colab": {
          "base_uri": "https://localhost:8080/",
          "height": 430
        },
        "id": "a2848c89-5c5b-47da-9feb-e987aa13b47b",
        "outputId": "4116ccb9-0e18-486f-db59-ad73ad664628"
      },
      "outputs": [
        {
          "data": {
            "image/png": "[encoded data removed]",
            "text/plain": [
              "<Figure size 640x480 with 1 Axes>"
            ]
          },
          "metadata": {},
          "output_type": "display_data"
        }
      ],
      "source": [
        "def relu(x):\n",
        "    return np.maximum(0, x)\n",
        "\n",
        "x = np.arange(-5.0, 5.0, 0.1)\n",
        "y = relu(x)\n",
        "\n",
        "plt.plot(x, y)\n",
        "plt.ylim(-0.1, 1.1)  # y축의 범위 지정\n",
        "plt.show()"
      ]
    },
    {
      "cell_type": "markdown",
      "id": "157ceefa-b9e0-4cf6-8204-9985246c7083",
      "metadata": {
        "id": "157ceefa-b9e0-4cf6-8204-9985246c7083"
      },
      "source": [
        "## 3. 다차원 배열의 계산"
      ]
    },
    {
      "cell_type": "markdown",
      "id": "c4eaa395-35c6-4c29-8a23-60cabad57544",
      "metadata": {
        "id": "c4eaa395-35c6-4c29-8a23-60cabad57544"
      },
      "source": [
        "### 3.1 다차원 배열\n",
        "- 다차원 배열도 그 기본은 숫자의 집합.\n",
        "    - 숫자가 일렬로 늘어선것이나 직사각형으로 늘어놓은 것, 3차원으로 늘어놓은것...모두 통틀어 다차원배열이라 함"
      ]
    },
    {
      "cell_type": "code",
      "execution_count": 8,
      "id": "a46d0d47-ff70-4ab2-94b2-a71b3135b764",
      "metadata": {
        "colab": {
          "base_uri": "https://localhost:8080/"
        },
        "id": "a46d0d47-ff70-4ab2-94b2-a71b3135b764",
        "outputId": "7e40d145-b47c-4cb4-af10-96b85428c6d8"
      },
      "outputs": [
        {
          "output_type": "stream",
          "name": "stdout",
          "text": [
            "[1 2 3 4]\n",
            "1\n",
            "(4,)\n"
          ]
        }
      ],
      "source": [
        "import numpy as np\n",
        "A = np.array([1, 2, 3, 4])\n",
        "print(A)  # [1 2 3 4]\n",
        "print(np.ndim(A))  # 1\n",
        "print(A.shape)  # (4,)"
      ]
    },
    {
      "cell_type": "code",
      "execution_count": 9,
      "id": "c7ee41e1-b5e4-459c-b0dc-22dc6fc24b95",
      "metadata": {
        "colab": {
          "base_uri": "https://localhost:8080/"
        },
        "id": "c7ee41e1-b5e4-459c-b0dc-22dc6fc24b95",
        "outputId": "47313992-64cd-446b-acd3-202eef46e35c"
      },
      "outputs": [
        {
          "output_type": "stream",
          "name": "stdout",
          "text": [
            "[[1 2]\n",
            " [3 4]\n",
            " [5 6]]\n",
            "2\n",
            "(3, 2)\n"
          ]
        }
      ],
      "source": [
        "B = np.array([[1, 2], [3, 4], [5, 6]])\n",
        "print(B)\n",
        "print(np.ndim(B))  # 2\n",
        "print(B.shape)  # (3, 2)\n"
      ]
    },
    {
      "cell_type": "code",
      "execution_count": 10,
      "id": "171585e7-8aa8-4948-bab3-7e54bcdf0c70",
      "metadata": {
        "colab": {
          "base_uri": "https://localhost:8080/"
        },
        "id": "171585e7-8aa8-4948-bab3-7e54bcdf0c70",
        "outputId": "6ccd45b3-3d35-4413-c1a9-b6b9758aea7f"
      },
      "outputs": [
        {
          "output_type": "stream",
          "name": "stdout",
          "text": [
            "[[19 22]\n",
            " [43 50]]\n"
          ]
        }
      ],
      "source": [
        "# 3.3.2 행렬의 내적(행렬 곱/스칼라 곱)\n",
        "A = np.array([[1, 2], [3, 4]])\n",
        "B = np.array([[5, 6], [7, 8]])\n",
        "1print(np.dot(A, B))"
      ]
    },
    {
      "cell_type": "markdown",
      "source": [
        "<img src='https://drive.google.com/uc?id=1av7t9rtNT_wJm6nd-QHbqOIAQR12R229' width=500>\n",
        "\n",
        "3-12 행렬의 곱에서는 대응하는 차원의 원소수를 일치  \n"
      ],
      "metadata": {
        "id": "QqZRVoPN9Exl"
      },
      "id": "QqZRVoPN9Exl"
    },
    {
      "cell_type": "code",
      "execution_count": 11,
      "id": "cbe84e13-ca15-4b82-98bb-bf685cc6f325",
      "metadata": {
        "colab": {
          "base_uri": "https://localhost:8080/"
        },
        "id": "cbe84e13-ca15-4b82-98bb-bf685cc6f325",
        "outputId": "97b7a5b9-af8d-4167-c254-410ae1d9966c"
      },
      "outputs": [
        {
          "output_type": "stream",
          "name": "stdout",
          "text": [
            "[[22 28]\n",
            " [49 64]]\n"
          ]
        }
      ],
      "source": [
        "A = np.array([[1, 2, 3], [4, 5, 6]])  # (2, 3)\n",
        "B = np.array([[1, 2], [3, 4], [5, 6]])  # (3, 2)\n",
        "print(np.dot(A, B))  # (2, 2)"
      ]
    },
    {
      "cell_type": "code",
      "execution_count": 12,
      "id": "a9106b49-aa53-408d-8f6d-c56f4f1131f7",
      "metadata": {
        "colab": {
          "base_uri": "https://localhost:8080/"
        },
        "id": "a9106b49-aa53-408d-8f6d-c56f4f1131f7",
        "outputId": "df4dc73a-a0a2-4eef-9b04-647d1cf469e0"
      },
      "outputs": [
        {
          "output_type": "stream",
          "name": "stdout",
          "text": [
            "[1 2]\n",
            "(2,)\n",
            "\n",
            "[[1 3 5]\n",
            " [2 4 6]]\n",
            "(2, 3)\n",
            "\n",
            "[ 5 11 17]\n",
            "(3,)\n"
          ]
        }
      ],
      "source": [
        "X = np.array([1, 2])  # (2,)\n",
        "print(X)\n",
        "print(X.shape)\n",
        "print()\n",
        "\n",
        "W = np.array([[1, 3, 5], [2, 4, 6]])  # (2, 3)\n",
        "print(W)\n",
        "print(W.shape)\n",
        "print()\n",
        "\n",
        "Y = np.dot(X, W)\n",
        "print(Y)  # [5 11 17]\n",
        "print(Y.shape)  # [5 11 17]"
      ]
    },
    {
      "cell_type": "code",
      "source": [
        "X@W"
      ],
      "metadata": {
        "colab": {
          "base_uri": "https://localhost:8080/"
        },
        "id": "ZKOLe6sV8DJW",
        "outputId": "47030e76-0ab8-41f6-ca71-bb23965d855c"
      },
      "id": "ZKOLe6sV8DJW",
      "execution_count": 14,
      "outputs": [
        {
          "output_type": "execute_result",
          "data": {
            "text/plain": [
              "array([ 5, 11, 17])"
            ]
          },
          "metadata": {},
          "execution_count": 14
        }
      ]
    },
    {
      "cell_type": "markdown",
      "source": [
        "<img src='https://drive.google.com/uc?id=1adGkOop4TWjNdoKaNp6ssJN3xQr0yBUx' width=500>"
      ],
      "metadata": {
        "id": "6Mgqe20O91GO"
      },
      "id": "6Mgqe20O91GO"
    },
    {
      "cell_type": "markdown",
      "id": "dc587d10-4e3d-4db2-8038-2562d2dc0909",
      "metadata": {
        "id": "dc587d10-4e3d-4db2-8038-2562d2dc0909"
      },
      "source": [
        "## 4. 3층 신경망 구현하기\n",
        "- 신경망에서의 계산을 행렬계산으로 정리 가능.\n",
        "> 신경망의 각 층의 계산은 행렬의 곱으로 처리할 수 있음\n",
        "\n"
      ]
    },
    {
      "cell_type": "markdown",
      "source": [
        "<img src='https://drive.google.com/uc?id=1abJ7I6hGWkCQ6WcqSyoAWyeu5twGHQsA' width=700><br>\n",
        "- 3층 신경망 : 입력층(0층)은 2개,첫번째 은닉층(1층)은 3개, 은닉층(2층)은 2개, 출력층(3층)은 2개의 뉴런 구성"
      ],
      "metadata": {
        "id": "981lcwRx-jjf"
      },
      "id": "981lcwRx-jjf"
    },
    {
      "cell_type": "markdown",
      "id": "ac7fe0ee-8bdf-4715-a038-c638e8602d01",
      "metadata": {
        "id": "ac7fe0ee-8bdf-4715-a038-c638e8602d01"
      },
      "source": [
        "- 입력층(0층) 2개, 첫 번째 은닉층(1층) 3개, 두 번째 은닉층(2층) 2개, 출력층(3층) 2개의 뉴런으로 구성.\n",
        "    - 1, 2층의 활성화 함수 : 시그모이드\n",
        "    - 3층의 활성화 함수 : 항등함수\n",
        "\n",
        "- 출력층의 활성화 함수는 풀고자 하는 문제의 성질에 맞게 정한다.\n",
        "    - 예를 들어 회귀에는 항등함수, 2클래스 분류에는 시그모이드 함수,\n",
        "    - 다중 클래스 분류에는 소프트맥스 함수를 사용하는 것이 일반적\n",
        "<br>\n",
        "\n"
      ]
    },
    {
      "cell_type": "markdown",
      "id": "30489fc5-57e2-40f5-b5ba-34cce9e7c2d3",
      "metadata": {
        "id": "30489fc5-57e2-40f5-b5ba-34cce9e7c2d3"
      },
      "source": [
        "### 4.1 표기법\n",
        "<그림 3-16> 중요한 표기 표기\n",
        "<br><img src=\"https://drive.google.com/uc?id=1aUthNKRR9TrOe6wKFGFpm9dS23Abu_Q2\" width=500 ><br>\n",
        "\n",
        "가중치(w), 은닉층(a)의 오른쪽위에는 $^{(1)}$이 붙어있으며 이는 1층의 가중치, 은닉층을 뜻함<br>\n",
        "가중치의 아래에 붙은 두숫자는 각 앞의 뉴런번호, 뒤의 뉴런번호를 뜻함\n"
      ]
    },
    {
      "cell_type": "markdown",
      "id": "297cc1d9-c176-4057-87cb-e0148edc3eeb",
      "metadata": {
        "id": "297cc1d9-c176-4057-87cb-e0148edc3eeb"
      },
      "source": [
        "### 4.2 각 층의 신호 전달 구현하기\n",
        "입력층에서 1층 첫번째 뉴런으로 가는 신호를 살펴보면 그림과 같음\n",
        "<br>\n",
        "<그림 3-17>\n",
        "<br><img src=\"https://drive.google.com/uc?id=1aOqLA0p_bgBukGUkxt0rPPmbFTa9NWZ7\" width=500 ><br>\n",
        "\n",
        "<br>\n",
        "편향을 뜻하는 뉴런인 ①이 추가됨. 수식으로 나타내면\n",
        "\n",
        "> $a_1^{(1)} = w_11^{(1)}+w_12^{(1)}+b_1^{(1)}$<br>\n",
        "\n",
        "간소화 하면 $A^{(1)}=XW^{(1)}+B^{(1)}$\n",
        "\n",
        "이 때 행렬 $A^{(1)}, X, B^{(1)}, W^{(1)}$ 는 각각 다음과 같음<br>\n",
        "<img src = 'https://drive.google.com/uc?id=1NsnXh5s09NPcQNo27eQHkMcUH_0iDv7O' width=500>\n"
      ]
    },
    {
      "cell_type": "markdown",
      "id": "a4f0ad5c-3408-44a3-ac05-7fa6bfc65ba0",
      "metadata": {
        "id": "a4f0ad5c-3408-44a3-ac05-7fa6bfc65ba0"
      },
      "source": [
        "### 4.3 구현 정리"
      ]
    },
    {
      "cell_type": "code",
      "execution_count": 15,
      "id": "3f800abe-74ab-4b2e-b5ef-ee9f84bcb3b4",
      "metadata": {
        "colab": {
          "base_uri": "https://localhost:8080/"
        },
        "id": "3f800abe-74ab-4b2e-b5ef-ee9f84bcb3b4",
        "outputId": "f03539be-582f-40d5-ee53-6f7092746052"
      },
      "outputs": [
        {
          "output_type": "stream",
          "name": "stdout",
          "text": [
            "[0.31682708 0.69627909]\n"
          ]
        }
      ],
      "source": [
        "import numpy as np\n",
        "# 시그모이드함수\n",
        "def sigmoid(x):\n",
        "    return 1 / (1 + np.exp(-x))\n",
        "\n",
        "# 항등함수\n",
        "def identity_function(x):\n",
        "    return x\n",
        "\n",
        "\n",
        "# 신경망 구성\n",
        "def init_network():\n",
        "    network = {}\n",
        "    network['W1'] = np.array([[0.1, 0.3, 0.5], [0.2, 0.4, 0.6]])\n",
        "    network['b1'] = np.array([0.1, 0.2, 0.3])\n",
        "    network['W2'] = np.array([[0.1, 0.4], [0.2, 0.5], [0.3, 0.6]])\n",
        "    network['b2'] = np.array([0.1, 0.2])\n",
        "    network['W3'] = np.array([[0.1, 0.3], [0.2, 0.4]])\n",
        "    network['b3'] = np.array([0.1, 0.2])\n",
        "\n",
        "    return network\n",
        "\n",
        "# 포워드 정의\n",
        "def forward(network, x):\n",
        "    W1, W2, W3 = network['W1'], network['W2'], network['W3']\n",
        "    b1, b2, b3 = network['b1'], network['b2'], network['b3']\n",
        "\n",
        "    a1 = np.dot(x, W1) + b1\n",
        "    z1 = sigmoid(a1)\n",
        "\n",
        "    a2 = np.dot(z1, W2) + b2\n",
        "    z2 = sigmoid(a2)\n",
        "\n",
        "    a3 = np.dot(z2, W3) + b3\n",
        "    y = identity_function(a3)\n",
        "\n",
        "    return y\n",
        "\n",
        "network = init_network()\n",
        "x = np.array([1.0, 0.5])\n",
        "y = forward(network, x)  # [ 0.31682708  0.69627909]\n",
        "\n",
        "print(y)"
      ]
    },
    {
      "cell_type": "markdown",
      "source": [
        "<img src='https://drive.google.com/uc?id=1cUZheWVi6MSKezXGJd3Ea7WoX4y7BaCA' width =500>\n",
        "\n",
        "> 입력층에서 1층으로의 신호전달\n",
        "\n",
        "\n"
      ],
      "metadata": {
        "id": "E66pJGj_A9xq"
      },
      "id": "E66pJGj_A9xq"
    },
    {
      "cell_type": "markdown",
      "source": [
        "<img src='https://drive.google.com/uc?id=1cKun1d6lCB8JDG2JzNBQpu51-lpx3VpT' width=500>\n",
        "\n",
        "\n",
        "> 1층에서 2층으로의 신호 전달\n",
        "\n"
      ],
      "metadata": {
        "id": "H165z_ttByYA"
      },
      "id": "H165z_ttByYA"
    },
    {
      "cell_type": "markdown",
      "source": [
        "<img src= 'https://drive.google.com/uc?id=1c3Bxx7r89V2K8lkY9LzJFdfZ1Ojt0nPm' width =500>\n",
        "\n",
        "\n",
        "> 2층에서 출력층으로의 신호전달\n",
        "\n"
      ],
      "metadata": {
        "id": "SSSIuu5OB86u"
      },
      "id": "SSSIuu5OB86u"
    },
    {
      "cell_type": "markdown",
      "source": [
        "항등함수는 입력을 그대로 출력하는 함수로 굳이 정의할 필요 없지만 흐름상 넣어봤음~ 출력층의 활성화 함수를 σ()로 표시하여 은닉층 활성화함수 h()와는 다름을 명시했음"
      ],
      "metadata": {
        "id": "muEKl_wBC2B0"
      },
      "id": "muEKl_wBC2B0"
    },
    {
      "cell_type": "markdown",
      "id": "28330f6e-9625-42ac-8d0e-c5fd20842beb",
      "metadata": {
        "id": "28330f6e-9625-42ac-8d0e-c5fd20842beb",
        "tags": []
      },
      "source": [
        "## 5. 출력층 설계하기\n",
        "- 신경망은 분류와 회귀 모두에 이용할 수 있음 다만 둘중 어떤 문제냐에 따라 출력층에서 사용하는 활성화함수 차이\n",
        "    - 회귀분류에는 항등함수, 분류에는 소프트맥스 함수 사용\n",
        "\n",
        "~ 회귀(regression) 명칭의 근원 ~ 19세기 우생학자 프랭시스골턴 경이 사람, 완두콩을 대상으로 키를 측정 한 결과, 키 큰 부모의 자식은 부모보다 작고, 작은 부모의 자식은 부모보다 큰, 즉 평균으로 회귀(regression) 하는 경향이 있음 확인. 그 사이에는 선형의 관계가 있어서 부모의 키로부터 자식의 키를 예측할 수 있는 연속값의 수치였음.\n",
        "    \n"
      ]
    },
    {
      "cell_type": "markdown",
      "id": "8e074349-c420-4110-a9bc-f10426d06250",
      "metadata": {
        "id": "8e074349-c420-4110-a9bc-f10426d06250"
      },
      "source": [
        "### 5.1 항등함수와 소프트맥스 함수 구현하기\n",
        "> 항등 함수 (identity function) : 입력을 그대로 출력 <br><br>\n"
      ]
    },
    {
      "cell_type": "markdown",
      "source": [
        "<img src = 'https://drive.google.com/uc?id=1br2RLQ9LAFRjTK2dPH6lAYrBoaUViuJI' width=200>\n",
        "\n",
        "\n",
        "> 항등함수\n",
        "\n"
      ],
      "metadata": {
        "id": "8jivyb9cFllA"
      },
      "id": "8jivyb9cFllA"
    },
    {
      "cell_type": "markdown",
      "source": [
        "> 소프트맥스 함수 (softmax function) : 출력은 모든 입력을 받아서 계산\n",
        "<br>\n",
        "$y_k = \\frac{exp(a_k)}{\\sum\\limits_{i=1}^{n}exp(a_i)}$\n",
        "\n",
        " - exp(x) : $e^x$ 지수함수\n",
        " - n: 출력층의 뉴런수, $y_k$: k번째 출력, $a_k$ : k번째 입력"
      ],
      "metadata": {
        "id": "jxk0n3ScEL9J"
      },
      "id": "jxk0n3ScEL9J"
    },
    {
      "cell_type": "markdown",
      "source": [
        "<img src = 'https://drive.google.com/uc?id=1bppzIC6D9mc0VgwMiPjN7oJZxZj01El4' width=200>\n",
        "\n",
        "\n",
        "> 소프트맥스 함수\n",
        "\n"
      ],
      "metadata": {
        "id": "Lb0WGzwuGBo-"
      },
      "id": "Lb0WGzwuGBo-"
    },
    {
      "cell_type": "markdown",
      "id": "3b7f3f2e-5f4e-44ed-9aee-a1ad6af5ce2f",
      "metadata": {
        "id": "3b7f3f2e-5f4e-44ed-9aee-a1ad6af5ce2f"
      },
      "source": [
        "softmax 구하는 과정"
      ]
    },
    {
      "cell_type": "code",
      "execution_count": 16,
      "id": "40969fee-86c1-44a9-8dcd-76bf58cb016c",
      "metadata": {
        "colab": {
          "base_uri": "https://localhost:8080/"
        },
        "id": "40969fee-86c1-44a9-8dcd-76bf58cb016c",
        "outputId": "6173e9b9-3e41-4004-e80b-bd395b75bd0a"
      },
      "outputs": [
        {
          "output_type": "stream",
          "name": "stdout",
          "text": [
            "[ 1.34985881 18.17414537 54.59815003]\n"
          ]
        }
      ],
      "source": [
        "a= np.array([0.3,2.9,4.0])\n",
        "exp_a= np.exp(a) # 지수함수\n",
        "print(exp_a)"
      ]
    },
    {
      "cell_type": "code",
      "execution_count": 17,
      "id": "b4848e14-5910-423a-a03d-0397f04a7738",
      "metadata": {
        "colab": {
          "base_uri": "https://localhost:8080/"
        },
        "id": "b4848e14-5910-423a-a03d-0397f04a7738",
        "outputId": "78c59ceb-1402-4732-db03-6b3d9cc5a3fc"
      },
      "outputs": [
        {
          "output_type": "stream",
          "name": "stdout",
          "text": [
            "지수함수의 합 : 74.1221542101633\n",
            "지수함수의 비율(softmax) : [0.01821127 0.24519181 0.73659691]\n"
          ]
        }
      ],
      "source": [
        "sum_exp_a = np.sum(exp_a)\n",
        "print(f\"지수함수의 합 : {sum_exp_a}\")\n",
        "print(f\"지수함수의 비율(softmax) : {exp_a/sum_exp_a}\")"
      ]
    },
    {
      "cell_type": "markdown",
      "id": "a3c0ae2c-45c9-482c-8236-ff61baf5eddf",
      "metadata": {
        "id": "a3c0ae2c-45c9-482c-8236-ff61baf5eddf"
      },
      "source": [
        "자주 사용할 수 있도록 ~ 함수로 정리하면"
      ]
    },
    {
      "cell_type": "code",
      "execution_count": 18,
      "id": "d753eda3-bf5b-42f5-81bd-541200c3b769",
      "metadata": {
        "id": "d753eda3-bf5b-42f5-81bd-541200c3b769"
      },
      "outputs": [],
      "source": [
        "def softmax(a):\n",
        "    exp_a= np.exp(a) # 지수함수\n",
        "    sum_exp_a = np.sum(exp_a) # 입력값의 합\n",
        "    y = exp_a / sum_exp_a # 출력값\n",
        "\n",
        "    return y"
      ]
    },
    {
      "cell_type": "markdown",
      "id": "c7b5de48-83e0-4924-a7df-ba0861153637",
      "metadata": {
        "id": "c7b5de48-83e0-4924-a7df-ba0861153637"
      },
      "source": [
        "### 5.2 소프트맥스 구현 시 주의점\n",
        "소프트맥스 함수는 지수함수를 사용하기 때문에 아주 큰 값을 사용하게 되고,<br>\n",
        "오버플로로 인해 결과 수치가 불안정해질 수 있다.<br>\n",
        "- 예> $e^10$ = 20000 이상,$e^100$ = 40자리 이상, 1000 이상은 inf로 뻗음\n",
        "\n",
        "- 해결 : 분자분모에 특정 수치(일반적으로 최대값)을 곱해줘서 결과를 보정한다."
      ]
    },
    {
      "cell_type": "code",
      "execution_count": 20,
      "id": "26f214a8-54ee-416e-a24e-b8f6869950a3",
      "metadata": {
        "id": "26f214a8-54ee-416e-a24e-b8f6869950a3",
        "outputId": "c5d0c27b-4307-4ac7-86f1-1e9b14bfa98f",
        "colab": {
          "base_uri": "https://localhost:8080/"
        }
      },
      "outputs": [
        {
          "output_type": "stream",
          "name": "stdout",
          "text": [
            "[nan nan nan]\n"
          ]
        },
        {
          "output_type": "stream",
          "name": "stderr",
          "text": [
            "<ipython-input-18-fea7aeda56db>:2: RuntimeWarning: overflow encountered in exp\n",
            "  exp_a= np.exp(a) # 지수함수\n",
            "<ipython-input-18-fea7aeda56db>:4: RuntimeWarning: invalid value encountered in divide\n",
            "  y = exp_a / sum_exp_a\n"
          ]
        }
      ],
      "source": [
        "print(softmax(np.array([1010, 1000, 990])))"
      ]
    },
    {
      "cell_type": "markdown",
      "id": "350c4f9e-5d6b-4f52-ad2c-e06fa068f129",
      "metadata": {
        "id": "350c4f9e-5d6b-4f52-ad2c-e06fa068f129"
      },
      "source": [
        "오버플로 인하여 제대로 계산 안됨"
      ]
    },
    {
      "cell_type": "code",
      "execution_count": 21,
      "id": "c975464c-b340-4d94-8b33-bd04b87a5be6",
      "metadata": {
        "id": "c975464c-b340-4d94-8b33-bd04b87a5be6"
      },
      "outputs": [],
      "source": [
        "def softmax_fix(a):\n",
        "    c = np.max(a)\n",
        "    exp_a = np.exp(a - c)  # 오버플로 대책\n",
        "    sum_exp_a = np.sum(exp_a)\n",
        "    y = exp_a / sum_exp_a\n",
        "\n",
        "    return y"
      ]
    },
    {
      "cell_type": "code",
      "execution_count": 22,
      "id": "96ea07fb-ab1f-469e-8926-5144803e326c",
      "metadata": {
        "id": "96ea07fb-ab1f-469e-8926-5144803e326c",
        "outputId": "24e9eda9-8b24-4f47-fcd0-cc2969184492",
        "colab": {
          "base_uri": "https://localhost:8080/"
        }
      },
      "outputs": [
        {
          "output_type": "stream",
          "name": "stdout",
          "text": [
            "[9.99954600e-01 4.53978686e-05 2.06106005e-09]\n"
          ]
        }
      ],
      "source": [
        "print(softmax_fix(np.array([1010, 1000, 990])))"
      ]
    },
    {
      "cell_type": "markdown",
      "id": "4b281fda-3643-4698-8fdd-08be27a64153",
      "metadata": {
        "id": "4b281fda-3643-4698-8fdd-08be27a64153"
      },
      "source": [
        "### 5.3 소프트맥스 함수의 특징\n",
        "\n",
        "- 출력은 0에서 1사이의 실수이며 출력의 총합은 1이다.\n",
        "    - <u> 따라서 출력을 확률로 해석할 수 있다.</u>\n",
        "    - 단, 원소의 대소 관계는 변하지 않기 때문에 자원 낭비를 줄이기 위해 생략하기도 한다.\n",
        "\n",
        "\n",
        "- 추론 단계에서는 출력층의 소프트맥스 함수를 생략이 일반적\n",
        "  - 분류 추론 시, 가장 큰 출력을 내는 뉴런을 해당 클래스로 인식하기에 소프트맥스 적용해도 가장 큰 위치는 달라지지 않음.\n",
        "  (4장에서 자세히 ^______^)"
      ]
    },
    {
      "cell_type": "code",
      "execution_count": 23,
      "id": "c883612a-0b14-45a0-a6bd-1c8ede8e2957",
      "metadata": {
        "id": "c883612a-0b14-45a0-a6bd-1c8ede8e2957",
        "outputId": "c89cef57-7d16-4f5f-e552-792f32ce8fb4",
        "colab": {
          "base_uri": "https://localhost:8080/"
        }
      },
      "outputs": [
        {
          "output_type": "stream",
          "name": "stdout",
          "text": [
            "[0.01821127 0.24519181 0.73659691]\n",
            "1.0\n"
          ]
        }
      ],
      "source": [
        "a = np.array([0.3, 2.9, 4.0])\n",
        "y = softmax(a)\n",
        "print(y)  #\n",
        "print(np.sum(y))  # 1.0"
      ]
    },
    {
      "cell_type": "markdown",
      "id": "0c288948-39ee-4df0-8e29-d0b4ae00903c",
      "metadata": {
        "id": "0c288948-39ee-4df0-8e29-d0b4ae00903c",
        "tags": []
      },
      "source": [
        "### 5.4 출력층의 뉴런 수 정하기\n",
        "- 출력층의 뉴런 수는 풀려는 문제에 맞게 적절히 정해야 한다.\n",
        "    - 분류에서는 분류하고 싶은 클래스 수로 설정"
      ]
    },
    {
      "cell_type": "markdown",
      "source": [
        "<img src='https://drive.google.com/uc?id=1vs63l4bRfo2wo8BvZK9woEntc4RMys8d' width=500><br>\n",
        "- 출력층의 뉴런은 위에서부터 차례로 숫자 0,1,...9에 대응하며 뉴런의 회색농도가 해당 뉴런의 출력값, 색이 가장 높은 $y_2$가 가장큰 값을 출력하므로, 2로 판단"
      ],
      "metadata": {
        "id": "q28eGj1KMThV"
      },
      "id": "q28eGj1KMThV"
    },
    {
      "cell_type": "markdown",
      "id": "fac0f4f6-bc78-4d97-b267-b77e3d5c185c",
      "metadata": {
        "id": "fac0f4f6-bc78-4d97-b267-b77e3d5c185c"
      },
      "source": [
        "## 6. 손글씨 숫자 인식\n",
        "구조를 모두 배웠으니 실전예제를 봅시다. 이미 학습된 매개변수를 사용하여 학습과정은 생략하고 추론 과정만 구현합니다."
      ]
    },
    {
      "cell_type": "markdown",
      "id": "5VATXYk74Xof",
      "metadata": {
        "id": "5VATXYk74Xof"
      },
      "source": [
        "### 6.1 Mnist데이터셋 불러오기"
      ]
    },
    {
      "cell_type": "code",
      "execution_count": 24,
      "id": "a8f437ac-84c2-4ba8-b10c-73b2ebd68e11",
      "metadata": {
        "colab": {
          "base_uri": "https://localhost:8080/",
          "height": 464
        },
        "id": "a8f437ac-84c2-4ba8-b10c-73b2ebd68e11",
        "outputId": "6c710090-ed7f-4591-f88e-352b0195412f"
      },
      "outputs": [
        {
          "output_type": "stream",
          "name": "stdout",
          "text": [
            "(60000, 784)\n",
            "(60000,)\n",
            "(10000, 784)\n",
            "(10000,)\n"
          ]
        },
        {
          "output_type": "display_data",
          "data": {
            "text/plain": [
              "<Figure size 640x480 with 40 Axes>"
            ],
            "image/png": "[encoded data removed]"
          },
          "metadata": {}
        }
      ],
      "source": [
        "import sys\n",
        "import os\n",
        "import pickle\n",
        "import numpy as np\n",
        "sys.path.append(os.pardir)  # 부모 디렉터리의 파일을 가져올 수 있도록 설정\n",
        "from dataset.mnist import load_mnist\n",
        "from common.functions import sigmoid, softmax\n",
        "import numpy as np\n",
        "from matplotlib import pyplot as plt\n",
        "\n",
        "# 3.6.1 MNIST 데이터셋\n",
        "'''\n",
        "0~9 숫자 이미지로 구성.\n",
        "훈련 이미지 60000장, 시험 이미지 10000장\n",
        "28*28 크기의 회색조 이미지이며 각 픽셀은 0~255의 값을 가짐\n",
        "레이블은 정답에 해당하는 숫자\n",
        "'''\n",
        "# 처음 한 번은 몇 분 정도 걸림\n",
        "# 이미지를 numpy 배열로 저장\n",
        "# flatten : 입력 이미지를 평탄화(1차원 배열로)\n",
        "# normalize : 입력 이미지를 정규화(0.0~1.0 사이의 값으로)\n",
        "# one_hot_label : 레이블을 원-핫 인코딩 형태로 저장\n",
        "# (x_train, t_train), (x_test, t_test) = load_mnist(flatten=True, normalize=False)\n",
        "(x_train, t_train), (x_test, t_test) = load_mnist()\n",
        "\n",
        "\n",
        "# 각 데이터의 형상 출력\n",
        "print(x_train.shape)  # (60000, 784)\n",
        "print(t_train.shape)  # (60000,)\n",
        "print(x_test.shape)  # (10000, 784)\n",
        "print(t_test.shape)  # (10000,)\n",
        "\n",
        "for i in range(40):\n",
        "  img = x_train[i].reshape(28,28)\n",
        "  label = t_train[i]\n",
        "\n",
        "  plt.subplot(4,10,i+1)\n",
        "  plt.imshow(img)\n",
        "  plt.title(label)\n",
        "  plt.axis('off')\n",
        "plt.show()\n"
      ]
    },
    {
      "cell_type": "markdown",
      "id": "BwLrB5UG5FjC",
      "metadata": {
        "id": "BwLrB5UG5FjC"
      },
      "source": [
        "### 6.2 신경망의 추론 처리\n",
        "- MNIST데이터셋으로 추론 수행하는 신경망 구현"
      ]
    },
    {
      "cell_type": "code",
      "execution_count": 25,
      "id": "MFJlTC_drTq2",
      "metadata": {
        "id": "MFJlTC_drTq2"
      },
      "outputs": [],
      "source": [
        "def get_data():\n",
        "    (x_train, t_train), (x_test, t_test) = \\\n",
        "        load_mnist(flatten=True, normalize=True, one_hot_label=False)\n",
        "    return x_test, t_test\n",
        "\n",
        "\n",
        "def init_network():\n",
        "    with open(\"./deeplearning_from_scratch-master/ch3.신경망/sample_weight.pkl\", 'rb') as f:\n",
        "        # 학습된 가중치 매개변수가 담긴 파일\n",
        "        # 학습 없이 바로 추론을 수행\n",
        "        network = pickle.load(f)\n",
        "    return network\n",
        "\n",
        "\n",
        "def predict(network, x):\n",
        "    W1, W2, W3 = network['W1'], network['W2'], network['W3'] # 신경망 노드를 각 객체화\n",
        "    b1, b2, b3 = network['b1'], network['b2'], network['b3']\n",
        "    a1 = np.dot(x, W1) + b1 # 1층 노드 통과\n",
        "    z1 = sigmoid(a1)        # 활성화 적용\n",
        "    a2 = np.dot(z1, W2) + b2 # 2층 노드 통과\n",
        "    z2 = sigmoid(a2)        # 활성화 적용\n",
        "    a3 = np.dot(z2, W3) + b3  #3 층 노드 통과\n",
        "    y = softmax(a3)         # 활성화 적용\n",
        "\n",
        "    return y               # 예측 결과 반환\n",
        "\n",
        "def entropy(p): return -np.sum(p * np.log(p))\n",
        "\n",
        "x, t = get_data()\n",
        "network = init_network()\n",
        "accuracy_cnt = 0"
      ]
    },
    {
      "cell_type": "code",
      "execution_count": 26,
      "id": "vS4MnU-x6mDd",
      "metadata": {
        "colab": {
          "base_uri": "https://localhost:8080/"
        },
        "id": "vS4MnU-x6mDd",
        "outputId": "caf374fa-edb3-4437-9259-00f262d14329"
      },
      "outputs": [
        {
          "output_type": "stream",
          "name": "stdout",
          "text": [
            "W1 shape : (784, 50)\n",
            "b1 shape : (50,)\n",
            "W2 shape : (50, 100)\n",
            "b2 shape : (100,)\n",
            "W3 shape : (100, 10)\n",
            "b3 shape : (10,)\n"
          ]
        }
      ],
      "source": [
        "# print(network.keys())\n",
        "lis = ['W1', 'b1', 'W2','b2', 'W3', 'b3']\n",
        "for key in lis :\n",
        "  print(f\"{key} shape : {network[key].shape}\")"
      ]
    },
    {
      "cell_type": "markdown",
      "id": "qYSTV47p8cWY",
      "metadata": {
        "id": "qYSTV47p8cWY"
      },
      "source": [
        "784개의 원소를 입력(원래는 28x28인 2차원 배열)받아서 <br>마지막에 원소가 10개 출력되는 흐름\n",
        "\n",
        "<img src=\"https://drive.google.com/uc?id=1VoyzxRLdGx5O0ekpw-8D3Icc3tOZ3hNN\" width=500 height=120><br>\n"
      ]
    },
    {
      "cell_type": "markdown",
      "id": "o8HoZDuZ9pfd",
      "metadata": {
        "id": "o8HoZDuZ9pfd"
      },
      "source": [
        "이미지를 여러장 한번에 입력하는, 예를들어 100개를 묶어서 한번에 predict로 넘기면 100장의 결과가 한번에 출력되어 훨씬 효율적, 이런 과정을 배치라 함 <br>\n",
        "<img src=\"https://drive.google.com/uc?id=1H42d4w7iiq0RkpWbzsJU9EXm39wiuiia\" width=500 height=120><br>"
      ]
    },
    {
      "cell_type": "code",
      "execution_count": 27,
      "id": "DgAzYbNtsKjn",
      "metadata": {
        "colab": {
          "base_uri": "https://localhost:8080/"
        },
        "id": "DgAzYbNtsKjn",
        "outputId": "a11ec9b1-48d8-44ae-93e1-8e5a9f278609"
      },
      "outputs": [
        {
          "output_type": "stream",
          "name": "stdout",
          "text": [
            "일반 시간 : 0.8311 \n",
            "Accuracy:0.9352\n",
            "\n",
            "배치적용후 시간 : 0.0622 \n",
            "Accuracy:0.9352\n"
          ]
        }
      ],
      "source": [
        "# 배치 적용 안한 수식\n",
        "import time\n",
        "accuracy_cnt =  0\n",
        "s =  time.time()\n",
        "for i in range(len(x)):\n",
        "    y = predict(network, x[i]) # 모델, 데이터를 넣어 예측\n",
        "    p = np.argmax(y)  # 확률이 가장 높은 원소의 인덱스를 얻는다.\n",
        "    if p == t[i]: # 예측값이 타겟값과 같으면 accuracy_cnt에 1을 더함 (맞춘 개수를 카운트)\n",
        "        accuracy_cnt += 1\n",
        "e = time.time()\n",
        "print(f\"일반 시간 : {e-s:.4f} \")\n",
        "print(\"Accuracy:\" + str(float(accuracy_cnt) / len(x))) # 전체데이터 레이블 중 맞춘수 rss/\n",
        "print()\n",
        "\n",
        "## 배치 적용 한 수식\n",
        "accuracy_cnt =  0\n",
        "batch_size = 100\n",
        "s =  time.time()\n",
        "for i in range(0, len(x), batch_size): # 배치사이즈 만큼 건너뛰기하는 range\n",
        "    x_batch = x[i:i+batch_size] # 배치사이즈 만큼 하나의 객체 만듬\n",
        "    y_batch = predict(network, x_batch)\n",
        "    p = np.argmax(y_batch, axis=1)\n",
        "    accuracy_cnt += np.sum(p == t[i:i+batch_size])\n",
        "e = time.time()\n",
        "print(f\"배치적용후 시간 : {e-s:.4f} \")\n",
        "print(\"Accuracy:\" + str(float(accuracy_cnt) / len(x)))"
      ]
    },
    {
      "cell_type": "code",
      "execution_count": null,
      "id": "abzr8se4CF06",
      "metadata": {
        "colab": {
          "base_uri": "https://localhost:8080/"
        },
        "id": "abzr8se4CF06",
        "outputId": "1075832e-c76d-4819-ffb7-dd0d931a7872"
      },
      "outputs": [
        {
          "name": "stdout",
          "output_type": "stream",
          "text": [
            "[(1, 4), (4, 7), (7, 10), (10, 13), (13, 16), (16, 19), (19, 22)]\n"
          ]
        }
      ],
      "source": [
        "x = range(20)\n",
        "b = 3\n",
        "print([(i,i+b) for i in range(1,len(x),b)])"
      ]
    },
    {
      "cell_type": "markdown",
      "id": "YgFa6Zhb-Yqa",
      "metadata": {
        "id": "YgFa6Zhb-Yqa"
      },
      "source": [
        "정확도는 동일하게 나오나 시간이 처리 시간이 훨씬 빠름 <br>\n",
        "거대한 신경망에서는 데이터 전송이 병목으로 작용하는 경우가 자주 있는데, <br>\n",
        "배치처리를 함으로서 버스에 주는 부하를 줄일 수 있다. <br>\n",
        "즉, 컴퓨터는 큰 배열을 한꺼번에 계산하는 것이 분할된 작은 배열을 여러번 계산하는것보다 빠름"
      ]
    },
    {
      "cell_type": "markdown",
      "id": "e4b420df-f97c-4dc1-859c-c5384a584cea",
      "metadata": {
        "id": "e4b420df-f97c-4dc1-859c-c5384a584cea"
      },
      "source": [
        "## 7.정리"
      ]
    },
    {
      "cell_type": "markdown",
      "id": "0dd0a847-cce3-478c-a0c6-ec73e9ea4242",
      "metadata": {
        "id": "0dd0a847-cce3-478c-a0c6-ec73e9ea4242"
      },
      "source": [
        "지금까지 신경망의 순전파 (순방향의 전파)를 살펴보았습니다.\n",
        "- 각 층의 뉴런이 다음 층의 뉴런으로 신호를 전달 하는 면에서 퍼셉트론과 동일\n",
        "- 다음 뉴런으로 갈 때 신호를 발생시키는 활성화 함수 차이\n",
        "    - 퍼셉트론 : 계단함수를 활성화 함수로 사용\n",
        "    - 신경망 : 시그모이드, relu 등 사용"
      ]
    }
  ],
  "metadata": {
    "colab": {
      "provenance": [],
      "include_colab_link": true
    },
    "kernelspec": {
      "display_name": "Python 3 (ipykernel)",
      "language": "python",
      "name": "python3"
    },
    "language_info": {
      "codemirror_mode": {
        "name": "ipython",
        "version": 3
      },
      "file_extension": ".py",
      "mimetype": "text/x-python",
      "name": "python",
      "nbconvert_exporter": "python",
      "pygments_lexer": "ipython3",
      "version": "3.10.9"
    }
  },
  "nbformat": 4,
  "nbformat_minor": 5
}