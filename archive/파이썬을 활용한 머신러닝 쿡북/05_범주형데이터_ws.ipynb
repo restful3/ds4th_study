{
  "cells": [
    {
      "cell_type": "markdown",
      "metadata": {
        "id": "view-in-github",
        "colab_type": "text"
      },
      "source": [
        "<a href=\"https://colab.research.google.com/github/restful3/ds4th_study/blob/main/source/%ED%8C%8C%EC%9D%B4%EC%8D%AC%EC%9D%84%20%ED%99%9C%EC%9A%A9%ED%95%9C%20%EB%A8%B8%EC%8B%A0%EB%9F%AC%EB%8B%9D%20%EC%BF%A1%EB%B6%81/5_%EB%B2%94%EC%A3%BC%ED%98%95%EB%8D%B0%EC%9D%B4%ED%84%B0_ws.ipynb\" target=\"_parent\"><img src=\"https://colab.research.google.com/assets/colab-badge.svg\" alt=\"Open In Colab\"/></a>"
      ]
    },
    {
      "cell_type": "markdown",
      "id": "3ac6b3c8-d500-4486-b5fa-ad92467764e9",
      "metadata": {
        "id": "3ac6b3c8-d500-4486-b5fa-ad92467764e9"
      },
      "source": [
        "# 5 범주형 데이터 다루기\n",
        "- 관측대상을 양이 아닌 질로 측정할 때가 유용할 때가 있음\n",
        "- 일부범주는 자연적 순서를 지님 (순서형 범주)\n",
        "    - 낮음/중간/높음, 청년/노인, 동의/중립/반대 등\n",
        "- 종종 벡터나 문자열로 표현"
      ]
    },
    {
      "cell_type": "markdown",
      "id": "74d474dd-e36d-4320-91a0-8236e666fb3e",
      "metadata": {
        "id": "74d474dd-e36d-4320-91a0-8236e666fb3e"
      },
      "source": [
        "## 5.1 순서가 없는 범주형 데이터 인코딩하기\n",
        "- 순서를 가지지 않는 클래스는 레이블인코딩이나 원핫인코딩 처리\n",
        "- LabelBinarizer는 문자열 타깃데이터를 원핫인코딩으로 변환시 사용\n",
        "    - 정수 레이블로 변환할 때는 LableEncoder\n",
        "\n",
        "[참고: 더미변수의 함정](http://bit.ly/2FvVJkC)<br>\n",
        "[참고: 원핫인코딩사용할때의 열삭제](https://stats.stackexchange.com/questions/231285/dropping-one-of-the-columns-when-using-one-hot-encoding)"
      ]
    },
    {
      "cell_type": "code",
      "execution_count": null,
      "id": "3fbb7a4d-bf14-46cd-9da9-c91a3962c7c2",
      "metadata": {
        "id": "3fbb7a4d-bf14-46cd-9da9-c91a3962c7c2",
        "outputId": "1b0ff42d-011a-4ecf-f2e3-bb4f827bef33"
      },
      "outputs": [
        {
          "data": {
            "text/plain": [
              "array([[0, 0, 1],\n",
              "       [1, 0, 0],\n",
              "       [0, 0, 1],\n",
              "       [0, 1, 0],\n",
              "       [0, 0, 1]])"
            ]
          },
          "execution_count": 15,
          "metadata": {},
          "output_type": "execute_result"
        }
      ],
      "source": [
        "import numpy as np\n",
        "from sklearn.preprocessing import LabelBinarizer\n",
        "import warnings\n",
        "warnings.filterwarnings('ignore')\n",
        "\n",
        "feature = np.array([['Texas'],\n",
        "                    ['California'],\n",
        "                    ['Texas'],\n",
        "                    ['Delaware'],\n",
        "                    ['Texas']])\n",
        "\n",
        "onehot = LabelBinarizer()\n",
        "onehot.fit_transform(feature)"
      ]
    },
    {
      "cell_type": "code",
      "execution_count": null,
      "id": "b97660a7-df57-4f3d-a0df-150654609b91",
      "metadata": {
        "id": "b97660a7-df57-4f3d-a0df-150654609b91",
        "outputId": "fd65ba9a-b55c-4fcd-a1dd-ff2cd86566cc"
      },
      "outputs": [
        {
          "data": {
            "text/plain": [
              "array(['California', 'Delaware', 'Texas'], dtype='<U10')"
            ]
          },
          "execution_count": 5,
          "metadata": {},
          "output_type": "execute_result"
        }
      ],
      "source": [
        "onehot.classes_"
      ]
    },
    {
      "cell_type": "code",
      "execution_count": null,
      "id": "97407084-0145-446e-882b-07b4981dacac",
      "metadata": {
        "id": "97407084-0145-446e-882b-07b4981dacac",
        "outputId": "d80f2863-0a21-401c-c340-8c5d9006059f"
      },
      "outputs": [
        {
          "data": {
            "text/plain": [
              "array(['Texas', 'California', 'Texas', 'Delaware', 'Texas'], dtype='<U10')"
            ]
          },
          "execution_count": 7,
          "metadata": {},
          "output_type": "execute_result"
        }
      ],
      "source": [
        "onehot.inverse_transform(onehot.transform(feature))"
      ]
    },
    {
      "cell_type": "markdown",
      "id": "2ebcb778-a2f8-4ff6-bfb1-3243c23f00a2",
      "metadata": {
        "id": "2ebcb778-a2f8-4ff6-bfb1-3243c23f00a2"
      },
      "source": [
        "- pandas 활용한 원핫인코딩"
      ]
    },
    {
      "cell_type": "code",
      "execution_count": null,
      "id": "3286ae8c-7db3-4bb6-ae5a-836684fe2c4a",
      "metadata": {
        "id": "3286ae8c-7db3-4bb6-ae5a-836684fe2c4a",
        "outputId": "522a6ae6-8646-498e-b5a8-29494b519734"
      },
      "outputs": [
        {
          "data": {
            "text/html": [
              "<div>\n",
              "<style scoped>\n",
              "    .dataframe tbody tr th:only-of-type {\n",
              "        vertical-align: middle;\n",
              "    }\n",
              "\n",
              "    .dataframe tbody tr th {\n",
              "        vertical-align: top;\n",
              "    }\n",
              "\n",
              "    .dataframe thead th {\n",
              "        text-align: right;\n",
              "    }\n",
              "</style>\n",
              "<table border=\"1\" class=\"dataframe\">\n",
              "  <thead>\n",
              "    <tr style=\"text-align: right;\">\n",
              "      <th></th>\n",
              "      <th>Delaware</th>\n",
              "      <th>Texas</th>\n",
              "    </tr>\n",
              "  </thead>\n",
              "  <tbody>\n",
              "    <tr>\n",
              "      <th>0</th>\n",
              "      <td>0</td>\n",
              "      <td>1</td>\n",
              "    </tr>\n",
              "    <tr>\n",
              "      <th>1</th>\n",
              "      <td>0</td>\n",
              "      <td>0</td>\n",
              "    </tr>\n",
              "    <tr>\n",
              "      <th>2</th>\n",
              "      <td>0</td>\n",
              "      <td>1</td>\n",
              "    </tr>\n",
              "    <tr>\n",
              "      <th>3</th>\n",
              "      <td>1</td>\n",
              "      <td>0</td>\n",
              "    </tr>\n",
              "    <tr>\n",
              "      <th>4</th>\n",
              "      <td>0</td>\n",
              "      <td>1</td>\n",
              "    </tr>\n",
              "  </tbody>\n",
              "</table>\n",
              "</div>"
            ],
            "text/plain": [
              "   Delaware  Texas\n",
              "0         0      1\n",
              "1         0      0\n",
              "2         0      1\n",
              "3         1      0\n",
              "4         0      1"
            ]
          },
          "execution_count": 38,
          "metadata": {},
          "output_type": "execute_result"
        }
      ],
      "source": [
        "import pandas as pd\n",
        "pd.get_dummies(feature[:,0], dtype=int, drop_first=True)"
      ]
    },
    {
      "cell_type": "markdown",
      "id": "fd8c3dcc-f8b8-4f49-878b-ad3f05564303",
      "metadata": {
        "id": "fd8c3dcc-f8b8-4f49-878b-ad3f05564303"
      },
      "source": [
        "- 사이킷런의 유용한 기능은 샘플이 여러개의 클래스 가지고 있는 경우를 다룰수 있다는 것"
      ]
    },
    {
      "cell_type": "code",
      "execution_count": null,
      "id": "c2ab4c64-bc4d-4e3e-a091-3ea1416c7d1e",
      "metadata": {
        "id": "c2ab4c64-bc4d-4e3e-a091-3ea1416c7d1e",
        "outputId": "3d4f07c5-2723-43fe-d49e-3331b137ff88"
      },
      "outputs": [
        {
          "data": {
            "text/plain": [
              "array([[0, 0, 0, 1, 1],\n",
              "       [1, 1, 0, 0, 0],\n",
              "       [0, 0, 0, 1, 1],\n",
              "       [0, 0, 1, 1, 0],\n",
              "       [1, 0, 0, 0, 1]])"
            ]
          },
          "execution_count": 11,
          "metadata": {},
          "output_type": "execute_result"
        }
      ],
      "source": [
        "from sklearn.preprocessing import MultiLabelBinarizer\n",
        "multi_feature= [('Texas','Florida'),\n",
        "               ('California','Alabama'),\n",
        "               ('Texas','Florida'),\n",
        "               ('Delaware','Florida'),\n",
        "               ('Texas','Alabama')]\n",
        "onehot_multiclass = MultiLabelBinarizer()\n",
        "onehot_multiclass.fit_transform(multi_feature)"
      ]
    },
    {
      "cell_type": "code",
      "execution_count": null,
      "id": "c73e0ab8-6446-4a58-9910-78945eeb1c6c",
      "metadata": {
        "id": "c73e0ab8-6446-4a58-9910-78945eeb1c6c",
        "outputId": "a10708ad-af4d-470a-9ff4-10910e277bc0"
      },
      "outputs": [
        {
          "data": {
            "text/plain": [
              "array(['Alabama', 'California', 'Delaware', 'Florida', 'Texas'],\n",
              "      dtype=object)"
            ]
          },
          "execution_count": 12,
          "metadata": {},
          "output_type": "execute_result"
        }
      ],
      "source": [
        "onehot_multiclass.classes_"
      ]
    },
    {
      "cell_type": "markdown",
      "id": "460fa758-2549-44fa-b514-e8311909a3ee",
      "metadata": {
        "id": "460fa758-2549-44fa-b514-e8311909a3ee"
      },
      "source": [
        "- OneHotEncoder, 여러개의 열이 있는 특성배열 생성을 인코딩할 때 사용\n",
        "    - sparse = False로 지정하면 밀집 배열을 얻을 수 있음"
      ]
    },
    {
      "cell_type": "code",
      "execution_count": null,
      "id": "227ba1f1-59d5-4ef2-837a-fda146dd5147",
      "metadata": {
        "id": "227ba1f1-59d5-4ef2-837a-fda146dd5147",
        "outputId": "c5e8256f-c24c-4127-9457-48bb7a91f813"
      },
      "outputs": [
        {
          "data": {
            "text/plain": [
              "array([[0., 0., 1., 1., 0.],\n",
              "       [1., 0., 0., 1., 0.],\n",
              "       [0., 0., 1., 0., 1.],\n",
              "       [0., 1., 0., 1., 0.],\n",
              "       [0., 0., 1., 1., 0.]])"
            ]
          },
          "execution_count": 42,
          "metadata": {},
          "output_type": "execute_result"
        }
      ],
      "source": [
        "from sklearn.preprocessing import OneHotEncoder\n",
        "warnings.filterwarnings('ignore')\n",
        "\n",
        "feature = np.array([['Texas',1],\n",
        "                    ['California',1],\n",
        "                    ['Texas',3],\n",
        "                    ['Delaware',1],\n",
        "                    ['Texas',1]])\n",
        "onehot_encoder = OneHotEncoder(sparse=False) # 밀집베열\n",
        "onehot_encoder.fit_transform(feature)"
      ]
    },
    {
      "cell_type": "code",
      "execution_count": null,
      "id": "f1c4a9f0-2925-4e35-bb7c-78e15e1b8d1d",
      "metadata": {
        "id": "f1c4a9f0-2925-4e35-bb7c-78e15e1b8d1d",
        "outputId": "38dd9f34-3f3a-4be5-e4f4-6c0503ec3a0b"
      },
      "outputs": [
        {
          "data": {
            "text/plain": [
              "[array(['California', 'Delaware', 'Texas'], dtype='<U11'),\n",
              " array(['1', '3'], dtype='<U11')]"
            ]
          },
          "execution_count": 46,
          "metadata": {},
          "output_type": "execute_result"
        }
      ],
      "source": [
        "onehot_encoder.categories_"
      ]
    },
    {
      "cell_type": "markdown",
      "id": "e85bccb3-d153-43b6-b08c-6170a85683df",
      "metadata": {
        "id": "e85bccb3-d153-43b6-b08c-6170a85683df"
      },
      "source": [
        "- 판다스로 데이터프레임도 원핫인코딩 가능"
      ]
    },
    {
      "cell_type": "code",
      "execution_count": null,
      "id": "e874194c-fb4d-47e6-9405-6839a8db736a",
      "metadata": {
        "id": "e874194c-fb4d-47e6-9405-6839a8db736a",
        "outputId": "6bf7cf79-bdd1-411d-88ca-da80e5024056"
      },
      "outputs": [
        {
          "data": {
            "text/html": [
              "<div>\n",
              "<style scoped>\n",
              "    .dataframe tbody tr th:only-of-type {\n",
              "        vertical-align: middle;\n",
              "    }\n",
              "\n",
              "    .dataframe tbody tr th {\n",
              "        vertical-align: top;\n",
              "    }\n",
              "\n",
              "    .dataframe thead th {\n",
              "        text-align: right;\n",
              "    }\n",
              "</style>\n",
              "<table border=\"1\" class=\"dataframe\">\n",
              "  <thead>\n",
              "    <tr style=\"text-align: right;\">\n",
              "      <th></th>\n",
              "      <th>0_Delaware</th>\n",
              "      <th>0_Texas</th>\n",
              "      <th>1_3</th>\n",
              "    </tr>\n",
              "  </thead>\n",
              "  <tbody>\n",
              "    <tr>\n",
              "      <th>0</th>\n",
              "      <td>0</td>\n",
              "      <td>1</td>\n",
              "      <td>0</td>\n",
              "    </tr>\n",
              "    <tr>\n",
              "      <th>1</th>\n",
              "      <td>0</td>\n",
              "      <td>0</td>\n",
              "      <td>0</td>\n",
              "    </tr>\n",
              "    <tr>\n",
              "      <th>2</th>\n",
              "      <td>0</td>\n",
              "      <td>1</td>\n",
              "      <td>1</td>\n",
              "    </tr>\n",
              "    <tr>\n",
              "      <th>3</th>\n",
              "      <td>1</td>\n",
              "      <td>0</td>\n",
              "      <td>0</td>\n",
              "    </tr>\n",
              "    <tr>\n",
              "      <th>4</th>\n",
              "      <td>0</td>\n",
              "      <td>1</td>\n",
              "      <td>0</td>\n",
              "    </tr>\n",
              "  </tbody>\n",
              "</table>\n",
              "</div>"
            ],
            "text/plain": [
              "   0_Delaware  0_Texas  1_3\n",
              "0           0        1    0\n",
              "1           0        0    0\n",
              "2           0        1    1\n",
              "3           1        0    0\n",
              "4           0        1    0"
            ]
          },
          "execution_count": 53,
          "metadata": {},
          "output_type": "execute_result"
        }
      ],
      "source": [
        "pd.get_dummies(pd.DataFrame(feature), dtype=int, drop_first=True)"
      ]
    },
    {
      "cell_type": "markdown",
      "id": "5a04a697-0d98-49e2-9954-0ba5e0611baf",
      "metadata": {
        "id": "5a04a697-0d98-49e2-9954-0ba5e0611baf"
      },
      "source": [
        "## 5.2 순서가 있는 범주형 데이터 인코딩하기"
      ]
    },
    {
      "cell_type": "code",
      "execution_count": null,
      "id": "b6b3af9a-1d08-4a01-a55f-10e7f79ecfbc",
      "metadata": {
        "id": "b6b3af9a-1d08-4a01-a55f-10e7f79ecfbc",
        "outputId": "4a9af956-f063-4dd5-8cca-3c2bc579cbff"
      },
      "outputs": [
        {
          "data": {
            "text/plain": [
              "0    1\n",
              "1    1\n",
              "2    2\n",
              "3    2\n",
              "4    3\n",
              "Name: Score, dtype: int64"
            ]
          },
          "execution_count": 17,
          "metadata": {},
          "output_type": "execute_result"
        }
      ],
      "source": [
        "import pandas as pd\n",
        "df = pd.DataFrame({'Score':['Low','Low','Medium','Medium','High']})\n",
        "\n",
        "scale_mapper = {'Low':1,\n",
        "                'Medium':2,\n",
        "                'High':3}\n",
        "\n",
        "# 딕셔너리로 맵핑하기\n",
        "df['Score'].replace(scale_mapper)"
      ]
    },
    {
      "cell_type": "code",
      "execution_count": null,
      "id": "d5ba757b-727f-4753-9c81-11de9a87d029",
      "metadata": {
        "id": "d5ba757b-727f-4753-9c81-11de9a87d029",
        "outputId": "70b211b5-7797-4182-9195-277b72e920c3"
      },
      "outputs": [
        {
          "data": {
            "text/plain": [
              "0    1.0\n",
              "1    1.0\n",
              "2    2.0\n",
              "3    2.0\n",
              "4    3.0\n",
              "5    2.1\n",
              "Name: Score, dtype: float64"
            ]
          },
          "execution_count": 54,
          "metadata": {},
          "output_type": "execute_result"
        }
      ],
      "source": [
        "# 스케일 크기 지정에 주의 필요\n",
        "df = pd.DataFrame({'Score':['Low','Low','Medium','Medium','High',\n",
        "                            'Barely More Than Medium']})\n",
        "\n",
        "scale_mapper = {'Low':1,\n",
        "                'Medium':2,\n",
        "                'Barely More Than Medium':2.1,\n",
        "                'High':3}\n",
        "\n",
        "# 딕셔너리로 맵핑하기\n",
        "df['Score'].replace(scale_mapper)"
      ]
    },
    {
      "cell_type": "code",
      "execution_count": null,
      "id": "ab45e116-2d54-40c1-bbbb-71c0d998d7e4",
      "metadata": {
        "id": "ab45e116-2d54-40c1-bbbb-71c0d998d7e4",
        "outputId": "06166c01-b0ab-404e-d452-53cfaa454ac4"
      },
      "outputs": [
        {
          "data": {
            "text/plain": [
              "0    1.0\n",
              "1    1.0\n",
              "2    2.0\n",
              "3    2.0\n",
              "4    3.0\n",
              "5    2.1\n",
              "Name: Score, dtype: float64"
            ]
          },
          "execution_count": 55,
          "metadata": {},
          "output_type": "execute_result"
        }
      ],
      "source": [
        "df['Score'].map(scale_mapper)"
      ]
    },
    {
      "cell_type": "markdown",
      "id": "c0feb74c-32ea-4e96-9d22-216c877b7c7a",
      "metadata": {
        "id": "c0feb74c-32ea-4e96-9d22-216c877b7c7a"
      },
      "source": [
        "- 클래스 범주를 순서대로 변환 : OrdinalEncoder\n",
        "    - 책에는 나오지만 쓰지않는 것이 나아보임"
      ]
    },
    {
      "cell_type": "code",
      "execution_count": null,
      "id": "f5910ffa-852e-49dc-8e43-af848fd85735",
      "metadata": {
        "id": "f5910ffa-852e-49dc-8e43-af848fd85735",
        "outputId": "74a31520-9a32-495f-e9ef-bf043e48346c"
      },
      "outputs": [
        {
          "data": {
            "text/plain": [
              "array([[1, 1],\n",
              "       [0, 0],\n",
              "       [2, 2]])"
            ]
          },
          "execution_count": 67,
          "metadata": {},
          "output_type": "execute_result"
        }
      ],
      "source": [
        "from sklearn.preprocessing import OrdinalEncoder\n",
        "feature=np.array([['Low',3],\n",
        "                  ['High',2],\n",
        "                  ['Medium',5]])\n",
        "ordinar_encoder = OrdinalEncoder(dtype=int)\n",
        "ordinar_encoder.fit_transform(feature)\n"
      ]
    },
    {
      "cell_type": "code",
      "execution_count": null,
      "id": "5b8930dc-06b0-47c9-a340-18d0c6993b12",
      "metadata": {
        "id": "5b8930dc-06b0-47c9-a340-18d0c6993b12",
        "outputId": "c6a70f34-d0c6-40c7-ae32-db45cd4d76a1"
      },
      "outputs": [
        {
          "data": {
            "text/plain": [
              "[array(['High', 'Low', 'Medium'], dtype='<U11'),\n",
              " array(['2', '3', '5'], dtype='<U11')]"
            ]
          },
          "execution_count": 68,
          "metadata": {},
          "output_type": "execute_result"
        }
      ],
      "source": [
        "ordinar_encoder.categories_"
      ]
    },
    {
      "cell_type": "markdown",
      "id": "6fc900a6-23ae-467e-a9e3-56c3e7ead6d1",
      "metadata": {
        "id": "6fc900a6-23ae-467e-a9e3-56c3e7ead6d1"
      },
      "source": [
        "## 5.3 특성 딕셔너리를 인코딩하기\n",
        "- 딕셔너리를 특성행렬로 변환하기\n",
        "- 특성딕셔너리를 인코딩하는 것은 자연어처리 분야에서 주로 쓰임.\n",
        "    - 예> 문서데이터 가지고 있을 때 각 문서에 등장한 모든 단어의 횟수 담은 딕셔너리 데이터 생성"
      ]
    },
    {
      "cell_type": "code",
      "execution_count": null,
      "id": "8c6d443b-d2a8-46ab-8bd6-0f9559112eac",
      "metadata": {
        "id": "8c6d443b-d2a8-46ab-8bd6-0f9559112eac",
        "outputId": "ba8ad23b-aea9-4ffe-a645-0423f056a652"
      },
      "outputs": [
        {
          "data": {
            "text/plain": [
              "array([[4., 2., 0.],\n",
              "       [3., 4., 0.],\n",
              "       [0., 1., 2.],\n",
              "       [0., 2., 2.]])"
            ]
          },
          "execution_count": 74,
          "metadata": {},
          "output_type": "execute_result"
        }
      ],
      "source": [
        "from sklearn.feature_extraction import DictVectorizer\n",
        "data_dict = [{'Red':2,'Blue':4},\n",
        "             {'Red':4,'Blue':3},\n",
        "             {'Red':1,'Yellow':2},\n",
        "             {'Red':2,'Yellow':2}]\n",
        "dictvectorizer = DictVectorizer(sparse=False)\n",
        "feature = dictvectorizer.fit_transform(data_dict)\n",
        "feature\n"
      ]
    },
    {
      "cell_type": "code",
      "execution_count": null,
      "id": "1bc63e3c-6dc9-4783-8859-3e81ca2de5a3",
      "metadata": {
        "id": "1bc63e3c-6dc9-4783-8859-3e81ca2de5a3",
        "outputId": "15fd97c8-ec7d-447b-c979-2b6a2e93e65a"
      },
      "outputs": [
        {
          "data": {
            "text/html": [
              "<div>\n",
              "<style scoped>\n",
              "    .dataframe tbody tr th:only-of-type {\n",
              "        vertical-align: middle;\n",
              "    }\n",
              "\n",
              "    .dataframe tbody tr th {\n",
              "        vertical-align: top;\n",
              "    }\n",
              "\n",
              "    .dataframe thead th {\n",
              "        text-align: right;\n",
              "    }\n",
              "</style>\n",
              "<table border=\"1\" class=\"dataframe\">\n",
              "  <thead>\n",
              "    <tr style=\"text-align: right;\">\n",
              "      <th></th>\n",
              "      <th>Blue</th>\n",
              "      <th>Red</th>\n",
              "      <th>Yellow</th>\n",
              "    </tr>\n",
              "  </thead>\n",
              "  <tbody>\n",
              "    <tr>\n",
              "      <th>0</th>\n",
              "      <td>4.0</td>\n",
              "      <td>2.0</td>\n",
              "      <td>0.0</td>\n",
              "    </tr>\n",
              "    <tr>\n",
              "      <th>1</th>\n",
              "      <td>3.0</td>\n",
              "      <td>4.0</td>\n",
              "      <td>0.0</td>\n",
              "    </tr>\n",
              "    <tr>\n",
              "      <th>2</th>\n",
              "      <td>0.0</td>\n",
              "      <td>1.0</td>\n",
              "      <td>2.0</td>\n",
              "    </tr>\n",
              "    <tr>\n",
              "      <th>3</th>\n",
              "      <td>0.0</td>\n",
              "      <td>2.0</td>\n",
              "      <td>2.0</td>\n",
              "    </tr>\n",
              "  </tbody>\n",
              "</table>\n",
              "</div>"
            ],
            "text/plain": [
              "   Blue  Red  Yellow\n",
              "0   4.0  2.0     0.0\n",
              "1   3.0  4.0     0.0\n",
              "2   0.0  1.0     2.0\n",
              "3   0.0  2.0     2.0"
            ]
          },
          "execution_count": 72,
          "metadata": {},
          "output_type": "execute_result"
        }
      ],
      "source": [
        "pd.DataFrame(feature,columns=dictvectorizer.feature_names_)"
      ]
    },
    {
      "cell_type": "markdown",
      "id": "602240d2-7b1d-4e44-a0e1-334295b16a87",
      "metadata": {
        "id": "602240d2-7b1d-4e44-a0e1-334295b16a87"
      },
      "source": [
        "## 5.4 결측치 대체하기\n",
        "- 범주형 데이터의 결측치도 KNN으로 대체 가능"
      ]
    },
    {
      "cell_type": "markdown",
      "id": "9093f7ad-a10c-4bfb-8978-1d03b04a813c",
      "metadata": {
        "id": "9093f7ad-a10c-4bfb-8978-1d03b04a813c"
      },
      "source": [
        "X로 훈련시킨 k이웃모델로 결측치를 예측해본다"
      ]
    },
    {
      "cell_type": "code",
      "execution_count": null,
      "id": "876a5a73-18f5-43bc-92aa-d0db482060f2",
      "metadata": {
        "id": "876a5a73-18f5-43bc-92aa-d0db482060f2",
        "outputId": "cb66a6a0-16de-451a-fc44-7d612d298979"
      },
      "outputs": [
        {
          "data": {
            "text/plain": [
              "array([[ 0.  ,  0.87,  1.31],\n",
              "       [ 1.  , -0.67,  0.22],\n",
              "       [ 0.  ,  2.1 ,  1.45],\n",
              "       [ 1.  ,  1.18,  1.33],\n",
              "       [ 0.  ,  1.22,  1.27],\n",
              "       [ 1.  , -0.21, -1.19]])"
            ]
          },
          "execution_count": 76,
          "metadata": {},
          "output_type": "execute_result"
        }
      ],
      "source": [
        "import numpy as np\n",
        "from sklearn.neighbors import KNeighborsClassifier\n",
        "\n",
        "# 훈련용 데이터\n",
        "X= np.array([[0,2.1,1.45],\n",
        "             [1,1.18,1.33],\n",
        "             [0,1.22,1.27],\n",
        "             [1,-0.21,-1.19]])\n",
        "\n",
        "# 예측용 데이터\n",
        "X_with_nan = np.array([[np.nan,0.87,1.31],\n",
        "                       [np.nan,-0.67,0.22]])\n",
        "\n",
        "# 모델 생성\n",
        "clf=KNeighborsClassifier(3, weights='distance')\n",
        "\n",
        "# 훈련 : 1~2열의 데이터로 0열의 특성을 예측하는 훈련\n",
        "trained_model = clf.fit(X[:,1:], X[:,0])\n",
        "\n",
        "# 예측 : 0열의 예측값 담아줌\n",
        "imputed_values = trained_model.predict(X_with_nan[:,1:])\n",
        "\n",
        "# 예측, 원본특성 결합\n",
        "X_with_imputed = np.hstack((imputed_values.reshape(-1,1), X_with_nan[:,1:]))\n",
        "\n",
        "# 예측용데이터 + 훈련용데이터 연결\n",
        "np.vstack((X_with_imputed,X))"
      ]
    },
    {
      "cell_type": "markdown",
      "id": "07248012-8ff8-41a4-9760-6920124b40f0",
      "metadata": {
        "id": "07248012-8ff8-41a4-9760-6920124b40f0"
      },
      "source": [
        "- 최빈값으로 채우기"
      ]
    },
    {
      "cell_type": "code",
      "execution_count": null,
      "id": "d2a70481-0939-414b-9787-a72d03956454",
      "metadata": {
        "id": "d2a70481-0939-414b-9787-a72d03956454",
        "outputId": "373cd25a-559b-43e5-b5d1-3eadcf78017a"
      },
      "outputs": [
        {
          "data": {
            "text/plain": [
              "array([[ 0.  ,  0.87,  1.31],\n",
              "       [ 0.  , -0.67,  0.22],\n",
              "       [ 0.  ,  2.1 ,  1.45],\n",
              "       [ 1.  ,  1.18,  1.33],\n",
              "       [ 0.  ,  1.22,  1.27],\n",
              "       [ 1.  , -0.21, -1.19]])"
            ]
          },
          "execution_count": 33,
          "metadata": {},
          "output_type": "execute_result"
        }
      ],
      "source": [
        "from sklearn.impute import SimpleImputer\n",
        "\n",
        "X_complete = np.vstack((X_with_nan,X))\n",
        "\n",
        "imputer = SimpleImputer(strategy='most_frequent')\n",
        "\n",
        "imputer.fit_transform(X_complete)"
      ]
    },
    {
      "cell_type": "markdown",
      "id": "bb4df03e-c585-4b3d-a894-066609a81216",
      "metadata": {
        "id": "bb4df03e-c585-4b3d-a894-066609a81216"
      },
      "source": [
        "- !! 중요\n",
        "    - 책에는 설명이 생략되었으나, 데이터의 성격에 따라 결측치 자체가 하나의 범주로 바꿔서 처리되기도 함 (결측치가 발생한 원인이 있을 수도 있으니...)\n",
        "    - 결측치가 많지 않을 경우, 생략되기도 함"
      ]
    },
    {
      "cell_type": "markdown",
      "id": "1974c087-3b32-472d-9518-0f24dc58e5d6",
      "metadata": {
        "tags": [],
        "id": "1974c087-3b32-472d-9518-0f24dc58e5d6"
      },
      "source": [
        "## 5.5 불균형한 클래스 다루기\n",
        "- 실전에는 불균형한 데이터가 매우 많기에 불균형한 클래스를 다루는 일은 자주 발생함\n",
        "    - 소수클래스 샘플을 아주 많이 모으거나\n",
        "    - 불균형한 클래스에 잘맞는 모델평가지표를 사용 (재현율고려, f1스코어, roc곡선)\n",
        "    - 클래스가중치매개변수 사용(class_weight 등)\n",
        "    - 다운샘플링/업샘플링 기법 사용"
      ]
    },
    {
      "cell_type": "code",
      "execution_count": null,
      "id": "98ca860e-28bc-4559-a273-8cc81c11de11",
      "metadata": {
        "id": "98ca860e-28bc-4559-a273-8cc81c11de11",
        "outputId": "c308a22d-1b01-4e61-82a0-c2095752b730"
      },
      "outputs": [
        {
          "data": {
            "text/plain": [
              "array([0, 0, 0, 0, 0, 0, 0, 0, 0, 0, 1, 1, 1, 1, 1, 1, 1, 1, 1, 1, 1, 1,\n",
              "       1, 1, 1, 1, 1, 1, 1, 1, 1, 1, 1, 1, 1, 1, 1, 1, 1, 1, 1, 1, 1, 1,\n",
              "       1, 1, 1, 1, 1, 1, 1, 1, 1, 1, 1, 1, 1, 1, 1, 1, 1, 1, 1, 1, 1, 1,\n",
              "       1, 1, 1, 1, 1, 1, 1, 1, 1, 1, 1, 1, 1, 1, 1, 1, 1, 1, 1, 1, 1, 1,\n",
              "       1, 1, 1, 1, 1, 1, 1, 1, 1, 1, 1, 1, 1, 1, 1, 1, 1, 1, 1, 1, 1, 1])"
            ]
          },
          "execution_count": 35,
          "metadata": {},
          "output_type": "execute_result"
        }
      ],
      "source": [
        "import numpy as np\n",
        "from sklearn.ensemble import RandomForestClassifier\n",
        "from sklearn.datasets import load_iris\n",
        "\n",
        "iris = load_iris()\n",
        "feature = iris.data\n",
        "target = iris.target\n",
        "\n",
        "# 처음 40개 샘플 삭제조치\n",
        "feature = feature[40:,:]\n",
        "target = target[40:]\n",
        "\n",
        "# 클래스0을 음성클래스로 하는 불균형한 이진타겟벡터생성\n",
        "target = np.where((target==0),0,1)\n",
        "target"
      ]
    },
    {
      "cell_type": "markdown",
      "id": "3b260ca8-ed9a-48ac-bec2-7020ce299096",
      "metadata": {
        "id": "3b260ca8-ed9a-48ac-bec2-7020ce299096"
      },
      "source": [
        "- 사이킷런의 많은 알고리즘은 훈련시 불균형 영향을 줄일 수 있도록 클래스에 가중치를 부여할 수 있는 매개변수를 제공\n",
        "    - randomforest는 class_weight로 조정"
      ]
    },
    {
      "cell_type": "code",
      "execution_count": null,
      "id": "f9415081-bf7d-4471-b982-ed7765591229",
      "metadata": {
        "id": "f9415081-bf7d-4471-b982-ed7765591229",
        "outputId": "43fad553-e080-4eff-a085-5d2e136186fb"
      },
      "outputs": [
        {
          "data": {
            "text/html": [
              "<style>#sk-container-id-1 {color: black;background-color: white;}#sk-container-id-1 pre{padding: 0;}#sk-container-id-1 div.sk-toggleable {background-color: white;}#sk-container-id-1 label.sk-toggleable__label {cursor: pointer;display: block;width: 100%;margin-bottom: 0;padding: 0.3em;box-sizing: border-box;text-align: center;}#sk-container-id-1 label.sk-toggleable__label-arrow:before {content: \"▸\";float: left;margin-right: 0.25em;color: #696969;}#sk-container-id-1 label.sk-toggleable__label-arrow:hover:before {color: black;}#sk-container-id-1 div.sk-estimator:hover label.sk-toggleable__label-arrow:before {color: black;}#sk-container-id-1 div.sk-toggleable__content {max-height: 0;max-width: 0;overflow: hidden;text-align: left;background-color: #f0f8ff;}#sk-container-id-1 div.sk-toggleable__content pre {margin: 0.2em;color: black;border-radius: 0.25em;background-color: #f0f8ff;}#sk-container-id-1 input.sk-toggleable__control:checked~div.sk-toggleable__content {max-height: 200px;max-width: 100%;overflow: auto;}#sk-container-id-1 input.sk-toggleable__control:checked~label.sk-toggleable__label-arrow:before {content: \"▾\";}#sk-container-id-1 div.sk-estimator input.sk-toggleable__control:checked~label.sk-toggleable__label {background-color: #d4ebff;}#sk-container-id-1 div.sk-label input.sk-toggleable__control:checked~label.sk-toggleable__label {background-color: #d4ebff;}#sk-container-id-1 input.sk-hidden--visually {border: 0;clip: rect(1px 1px 1px 1px);clip: rect(1px, 1px, 1px, 1px);height: 1px;margin: -1px;overflow: hidden;padding: 0;position: absolute;width: 1px;}#sk-container-id-1 div.sk-estimator {font-family: monospace;background-color: #f0f8ff;border: 1px dotted black;border-radius: 0.25em;box-sizing: border-box;margin-bottom: 0.5em;}#sk-container-id-1 div.sk-estimator:hover {background-color: #d4ebff;}#sk-container-id-1 div.sk-parallel-item::after {content: \"\";width: 100%;border-bottom: 1px solid gray;flex-grow: 1;}#sk-container-id-1 div.sk-label:hover label.sk-toggleable__label {background-color: #d4ebff;}#sk-container-id-1 div.sk-serial::before {content: \"\";position: absolute;border-left: 1px solid gray;box-sizing: border-box;top: 0;bottom: 0;left: 50%;z-index: 0;}#sk-container-id-1 div.sk-serial {display: flex;flex-direction: column;align-items: center;background-color: white;padding-right: 0.2em;padding-left: 0.2em;position: relative;}#sk-container-id-1 div.sk-item {position: relative;z-index: 1;}#sk-container-id-1 div.sk-parallel {display: flex;align-items: stretch;justify-content: center;background-color: white;position: relative;}#sk-container-id-1 div.sk-item::before, #sk-container-id-1 div.sk-parallel-item::before {content: \"\";position: absolute;border-left: 1px solid gray;box-sizing: border-box;top: 0;bottom: 0;left: 50%;z-index: -1;}#sk-container-id-1 div.sk-parallel-item {display: flex;flex-direction: column;z-index: 1;position: relative;background-color: white;}#sk-container-id-1 div.sk-parallel-item:first-child::after {align-self: flex-end;width: 50%;}#sk-container-id-1 div.sk-parallel-item:last-child::after {align-self: flex-start;width: 50%;}#sk-container-id-1 div.sk-parallel-item:only-child::after {width: 0;}#sk-container-id-1 div.sk-dashed-wrapped {border: 1px dashed gray;margin: 0 0.4em 0.5em 0.4em;box-sizing: border-box;padding-bottom: 0.4em;background-color: white;}#sk-container-id-1 div.sk-label label {font-family: monospace;font-weight: bold;display: inline-block;line-height: 1.2em;}#sk-container-id-1 div.sk-label-container {text-align: center;}#sk-container-id-1 div.sk-container {/* jupyter's `normalize.less` sets `[hidden] { display: none; }` but bootstrap.min.css set `[hidden] { display: none !important; }` so we also need the `!important` here to be able to override the default hidden behavior on the sphinx rendered scikit-learn.org. See: https://github.com/scikit-learn/scikit-learn/issues/21755 */display: inline-block !important;position: relative;}#sk-container-id-1 div.sk-text-repr-fallback {display: none;}</style><div id=\"sk-container-id-1\" class=\"sk-top-container\"><div class=\"sk-text-repr-fallback\"><pre>RandomForestClassifier(class_weight={0: 0.9, 1: 0.1})</pre><b>In a Jupyter environment, please rerun this cell to show the HTML representation or trust the notebook. <br />On GitHub, the HTML representation is unable to render, please try loading this page with nbviewer.org.</b></div><div class=\"sk-container\" hidden><div class=\"sk-item\"><div class=\"sk-estimator sk-toggleable\"><input class=\"sk-toggleable__control sk-hidden--visually\" id=\"sk-estimator-id-1\" type=\"checkbox\" checked><label for=\"sk-estimator-id-1\" class=\"sk-toggleable__label sk-toggleable__label-arrow\">RandomForestClassifier</label><div class=\"sk-toggleable__content\"><pre>RandomForestClassifier(class_weight={0: 0.9, 1: 0.1})</pre></div></div></div></div></div>"
            ],
            "text/plain": [
              "RandomForestClassifier(class_weight={0: 0.9, 1: 0.1})"
            ]
          },
          "execution_count": 36,
          "metadata": {},
          "output_type": "execute_result"
        }
      ],
      "source": [
        "#가중치 만들고\n",
        "weight ={0:.9,1:.1}\n",
        "# 가중치 부여한 분류기 생성\n",
        "rfc = RandomForestClassifier(class_weight=weight)\n",
        "# RandomForestClassifier(class_weight='balanced') # 균형잡힌 가중치로 모델 훈련\n",
        "rfc.fit(feature,target)"
      ]
    },
    {
      "cell_type": "markdown",
      "id": "9d9ef360-3b47-4eaa-a0ae-aef7c2a13f35",
      "metadata": {
        "id": "9d9ef360-3b47-4eaa-a0ae-aef7c2a13f35"
      },
      "source": [
        "- 다수클래스의 샘플수 줄이거나(다운샘플링)\n"
      ]
    },
    {
      "cell_type": "code",
      "execution_count": null,
      "id": "2fbf667e-9868-4e6f-98ea-32c694daa78c",
      "metadata": {
        "id": "2fbf667e-9868-4e6f-98ea-32c694daa78c",
        "outputId": "a778e0a4-5f34-4b24-89b4-0e4dd894f7ac"
      },
      "outputs": [
        {
          "data": {
            "text/plain": [
              "array([0, 0, 0, 0, 0, 0, 0, 0, 0, 0, 1, 1, 1, 1, 1, 1, 1, 1, 1, 1])"
            ]
          },
          "execution_count": 37,
          "metadata": {},
          "output_type": "execute_result"
        }
      ],
      "source": [
        "# 각 클래스의 샘플인덱스 추출\n",
        "i_class0 = np.where(target==0)[0]\n",
        "i_class1 = np.where(target==1)[0]\n",
        "\n",
        "# 각 클래스의 샘플수\n",
        "n_class0 = len(i_class0)\n",
        "n_class1 = len(i_class1)\n",
        "\n",
        "# 클래스 0의 샘플만큼 클래스 1에서 중복을 허용하지 않고 랜덤하게 샘플추출\n",
        "i_class1_downsampled = np.random.choice(i_class1, size=n_class0,\n",
        "                                        replace= False)\n",
        "\n",
        "# 클래스 0의 타깃벡터와 다운샘플링된 클래스1의 타깃백터를 합침\n",
        "np.hstack((target[i_class0], target[i_class1_downsampled]))"
      ]
    },
    {
      "cell_type": "code",
      "execution_count": null,
      "id": "ff06370c-2130-41fe-bff1-92596f3fe343",
      "metadata": {
        "id": "ff06370c-2130-41fe-bff1-92596f3fe343",
        "outputId": "794e1fce-ba77-4fa2-c7a0-ef189a29af57"
      },
      "outputs": [
        {
          "data": {
            "text/plain": [
              "array([[5. , 3.5, 1.3, 0.3],\n",
              "       [4.5, 2.3, 1.3, 0.3],\n",
              "       [4.4, 3.2, 1.3, 0.2],\n",
              "       [5. , 3.5, 1.6, 0.6],\n",
              "       [5.1, 3.8, 1.9, 0.4],\n",
              "       [4.8, 3. , 1.4, 0.3],\n",
              "       [5.1, 3.8, 1.6, 0.2],\n",
              "       [4.6, 3.2, 1.4, 0.2],\n",
              "       [5.3, 3.7, 1.5, 0.2],\n",
              "       [5. , 3.3, 1.4, 0.2],\n",
              "       [6.9, 3.1, 5.4, 2.1],\n",
              "       [6.8, 3. , 5.5, 2.1],\n",
              "       [4.9, 2.5, 4.5, 1.7],\n",
              "       [6.8, 2.8, 4.8, 1.4],\n",
              "       [6.5, 2.8, 4.6, 1.5],\n",
              "       [5.8, 2.7, 5.1, 1.9],\n",
              "       [7.7, 2.8, 6.7, 2. ],\n",
              "       [5.5, 2.6, 4.4, 1.2],\n",
              "       [6.7, 3.1, 4.7, 1.5],\n",
              "       [5.5, 2.3, 4. , 1.3]])"
            ]
          },
          "execution_count": 38,
          "metadata": {},
          "output_type": "execute_result"
        }
      ],
      "source": [
        "# 클래스 0의 특성행렬와 다운샘플링된 클래스1의 특성행렬 합침\n",
        "np.vstack((feature[i_class0,:], feature[i_class1_downsampled,:]))"
      ]
    },
    {
      "cell_type": "markdown",
      "id": "81b36ca4-d7b4-4312-9042-38d6c2cb1dc8",
      "metadata": {
        "id": "81b36ca4-d7b4-4312-9042-38d6c2cb1dc8"
      },
      "source": [
        "- 소수클래스의 샘플수 늘릴수도 (업샘플링)"
      ]
    },
    {
      "cell_type": "code",
      "execution_count": null,
      "id": "2496e759-647f-4ecf-9b8c-cbf1ad4dd984",
      "metadata": {
        "id": "2496e759-647f-4ecf-9b8c-cbf1ad4dd984",
        "outputId": "220946c2-b82b-4f6b-9604-3cc4373ba82b"
      },
      "outputs": [
        {
          "data": {
            "text/plain": [
              "array([0, 0, 0, 0, 0, 0, 0, 0, 0, 0, 0, 0, 0, 0, 0, 0, 0, 0, 0, 0, 0, 0,\n",
              "       0, 0, 0, 0, 0, 0, 0, 0, 0, 0, 0, 0, 0, 0, 0, 0, 0, 0, 0, 0, 0, 0,\n",
              "       0, 0, 0, 0, 0, 0, 0, 0, 0, 0, 0, 0, 0, 0, 0, 0, 0, 0, 0, 0, 0, 0,\n",
              "       0, 0, 0, 0, 0, 0, 0, 0, 0, 0, 0, 0, 0, 0, 0, 0, 0, 0, 0, 0, 0, 0,\n",
              "       0, 0, 0, 0, 0, 0, 0, 0, 0, 0, 0, 0, 1, 1, 1, 1, 1, 1, 1, 1, 1, 1,\n",
              "       1, 1, 1, 1, 1, 1, 1, 1, 1, 1, 1, 1, 1, 1, 1, 1, 1, 1, 1, 1, 1, 1,\n",
              "       1, 1, 1, 1, 1, 1, 1, 1, 1, 1, 1, 1, 1, 1, 1, 1, 1, 1, 1, 1, 1, 1,\n",
              "       1, 1, 1, 1, 1, 1, 1, 1, 1, 1, 1, 1, 1, 1, 1, 1, 1, 1, 1, 1, 1, 1,\n",
              "       1, 1, 1, 1, 1, 1, 1, 1, 1, 1, 1, 1, 1, 1, 1, 1, 1, 1, 1, 1, 1, 1,\n",
              "       1, 1])"
            ]
          },
          "execution_count": 39,
          "metadata": {},
          "output_type": "execute_result"
        }
      ],
      "source": [
        "i_class0_upsampled = np.random.choice(i_class0, size=n_class1,replace= True)\n",
        "np.hstack((target[i_class0_upsampled], target[i_class1]))"
      ]
    },
    {
      "cell_type": "code",
      "execution_count": null,
      "id": "4125e015-d645-4c34-84d5-6fcb94e6381a",
      "metadata": {
        "id": "4125e015-d645-4c34-84d5-6fcb94e6381a",
        "outputId": "e2c19664-baee-4d63-dfb6-af92c351c57a"
      },
      "outputs": [
        {
          "data": {
            "text/plain": [
              "array([[5. , 3.5, 1.3, 0.3],\n",
              "       [4.4, 3.2, 1.3, 0.2],\n",
              "       [5. , 3.5, 1.3, 0.3],\n",
              "       [5. , 3.5, 1.6, 0.6],\n",
              "       [4.8, 3. , 1.4, 0.3]])"
            ]
          },
          "execution_count": 41,
          "metadata": {},
          "output_type": "execute_result"
        }
      ],
      "source": [
        "np.vstack((feature[i_class0_upsampled,:], feature[i_class1,:]))[:5]"
      ]
    }
  ],
  "metadata": {
    "kernelspec": {
      "display_name": "Python 3 (ipykernel)",
      "language": "python",
      "name": "python3"
    },
    "language_info": {
      "codemirror_mode": {
        "name": "ipython",
        "version": 3
      },
      "file_extension": ".py",
      "mimetype": "text/x-python",
      "name": "python",
      "nbconvert_exporter": "python",
      "pygments_lexer": "ipython3",
      "version": "3.10.9"
    },
    "colab": {
      "provenance": [],
      "include_colab_link": true
    }
  },
  "nbformat": 4,
  "nbformat_minor": 5
}