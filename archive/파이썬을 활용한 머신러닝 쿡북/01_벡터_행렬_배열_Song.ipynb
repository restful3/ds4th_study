{
 "cells": [
  {
   "cell_type": "markdown",
   "id": "236a654d",
   "metadata": {},
   "source": [
    "# 소개"
   ]
  },
  {
   "cell_type": "markdown",
   "id": "782be792",
   "metadata": {},
   "source": [
    "- 넘파이 연산의 기초를 배운다"
   ]
  },
  {
   "cell_type": "markdown",
   "id": "fa2d1b1f",
   "metadata": {},
   "source": [
    "# 벡터 만들기"
   ]
  },
  {
   "cell_type": "code",
   "execution_count": 2,
   "id": "fe6cd29c",
   "metadata": {},
   "outputs": [
    {
     "name": "stdout",
     "output_type": "stream",
     "text": [
      "[1 2 3]\n",
      "(3,)\n"
     ]
    },
    {
     "data": {
      "text/plain": [
       "(None, None)"
      ]
     },
     "execution_count": 2,
     "metadata": {},
     "output_type": "execute_result"
    }
   ],
   "source": [
    "import numpy as np\n",
    "\n",
    "# 1차원\n",
    "v = np.array([1,2,3])\n",
    "print(v), print(v.shape)"
   ]
  },
  {
   "cell_type": "code",
   "execution_count": 3,
   "id": "aa73d072",
   "metadata": {},
   "outputs": [
    {
     "data": {
      "text/plain": [
       "numpy.ndarray"
      ]
     },
     "execution_count": 3,
     "metadata": {},
     "output_type": "execute_result"
    }
   ],
   "source": [
    "type(v)"
   ]
  },
  {
   "cell_type": "code",
   "execution_count": 4,
   "id": "4f061d99",
   "metadata": {},
   "outputs": [
    {
     "name": "stdout",
     "output_type": "stream",
     "text": [
      "[[1]\n",
      " [2]\n",
      " [3]]\n",
      "(3, 1)\n"
     ]
    },
    {
     "data": {
      "text/plain": [
       "(None, None)"
      ]
     },
     "execution_count": 4,
     "metadata": {},
     "output_type": "execute_result"
    }
   ],
   "source": [
    "v2 = np.array([[1], [2], [3]])\n",
    "print(v2), print(v2.shape)"
   ]
  },
  {
   "cell_type": "code",
   "execution_count": 8,
   "id": "4f33dd73",
   "metadata": {},
   "outputs": [
    {
     "data": {
      "text/plain": [
       "True"
      ]
     },
     "execution_count": 8,
     "metadata": {},
     "output_type": "execute_result"
    }
   ],
   "source": [
    "# asarray는 새로운 배열을 만들지 않는다\n",
    "new_row = np.asarray(v)\n",
    "new_row is v"
   ]
  },
  {
   "cell_type": "code",
   "execution_count": 14,
   "id": "ca9d0a1e",
   "metadata": {},
   "outputs": [
    {
     "data": {
      "text/plain": [
       "False"
      ]
     },
     "execution_count": 14,
     "metadata": {},
     "output_type": "execute_result"
    }
   ],
   "source": [
    "# array는 새로운 배열을 만든다\n",
    "new_row = np.array(v)\n",
    "new_row is v"
   ]
  },
  {
   "cell_type": "code",
   "execution_count": 15,
   "id": "9600e98c",
   "metadata": {},
   "outputs": [
    {
     "data": {
      "text/plain": [
       "False"
      ]
     },
     "execution_count": 15,
     "metadata": {},
     "output_type": "execute_result"
    }
   ],
   "source": [
    "# copy 함수로 명확하게 새로운 복사본을 만들자\n",
    "new_row = v.copy()\n",
    "new_row is v"
   ]
  },
  {
   "cell_type": "markdown",
   "id": "a68bd620",
   "metadata": {},
   "source": [
    "# 행렬 만들기"
   ]
  },
  {
   "cell_type": "code",
   "execution_count": 17,
   "id": "8a98be1e",
   "metadata": {},
   "outputs": [
    {
     "data": {
      "text/plain": [
       "array([[1, 2],\n",
       "       [1, 2],\n",
       "       [1, 2]])"
      ]
     },
     "execution_count": 17,
     "metadata": {},
     "output_type": "execute_result"
    }
   ],
   "source": [
    "# 2차원 행렬\n",
    "mt = np.array([[1, 2],\n",
    "              [1, 2],\n",
    "              [1, 2]])\n",
    "mt"
   ]
  },
  {
   "cell_type": "code",
   "execution_count": 20,
   "id": "2102dc11",
   "metadata": {},
   "outputs": [
    {
     "data": {
      "text/plain": [
       "numpy.ndarray"
      ]
     },
     "execution_count": 20,
     "metadata": {},
     "output_type": "execute_result"
    }
   ],
   "source": [
    "type(mt)"
   ]
  },
  {
   "cell_type": "code",
   "execution_count": 18,
   "id": "5fe4c68f",
   "metadata": {},
   "outputs": [
    {
     "data": {
      "text/plain": [
       "matrix([[1, 2],\n",
       "        [1, 2],\n",
       "        [1, 2]])"
      ]
     },
     "execution_count": 18,
     "metadata": {},
     "output_type": "execute_result"
    }
   ],
   "source": [
    "# 아래는 권장하지 않음\n",
    "# 넘파이 표준이 아니라, 다른 함수와의 호완성 문제\n",
    "mo = np.mat([[1, 2],\n",
    "              [1, 2],\n",
    "              [1, 2]])\n",
    "mo"
   ]
  },
  {
   "cell_type": "code",
   "execution_count": 19,
   "id": "90d08cca",
   "metadata": {},
   "outputs": [
    {
     "data": {
      "text/plain": [
       "numpy.matrix"
      ]
     },
     "execution_count": 19,
     "metadata": {},
     "output_type": "execute_result"
    }
   ],
   "source": [
    "type(mo)"
   ]
  },
  {
   "cell_type": "code",
   "execution_count": 21,
   "id": "d006f44c",
   "metadata": {},
   "outputs": [
    {
     "data": {
      "text/plain": [
       "array([[1.7151975e-316, 0.0000000e+000],\n",
       "       [0.0000000e+000, 0.0000000e+000],\n",
       "       [0.0000000e+000, 0.0000000e+000]])"
      ]
     },
     "execution_count": 21,
     "metadata": {},
     "output_type": "execute_result"
    }
   ],
   "source": [
    "# 크기만 지정하면 임의로 채워진 배열\n",
    "np.empty((3, 2))"
   ]
  },
  {
   "cell_type": "code",
   "execution_count": 22,
   "id": "3a903f87",
   "metadata": {},
   "outputs": [
    {
     "data": {
      "text/plain": [
       "array([[0., 0.],\n",
       "       [0., 0.],\n",
       "       [0., 0.]])"
      ]
     },
     "execution_count": 22,
     "metadata": {},
     "output_type": "execute_result"
    }
   ],
   "source": [
    "# 0으로 채운 배열\n",
    "np.zeros((3,2))"
   ]
  },
  {
   "cell_type": "code",
   "execution_count": 23,
   "id": "06081e1b",
   "metadata": {},
   "outputs": [
    {
     "data": {
      "text/plain": [
       "array([[1., 1.],\n",
       "       [1., 1.],\n",
       "       [1., 1.]])"
      ]
     },
     "execution_count": 23,
     "metadata": {},
     "output_type": "execute_result"
    }
   ],
   "source": [
    "# 1로 채운 배열\n",
    "np.ones((3,2))"
   ]
  },
  {
   "cell_type": "markdown",
   "id": "d9791a4d",
   "metadata": {},
   "source": [
    "- 특정 값으로 채운 배열"
   ]
  },
  {
   "cell_type": "code",
   "execution_count": 30,
   "id": "39eeecf8",
   "metadata": {},
   "outputs": [
    {
     "data": {
      "text/plain": [
       "array([[7., 7.],\n",
       "       [7., 7.],\n",
       "       [7., 7.]])"
      ]
     },
     "execution_count": 30,
     "metadata": {},
     "output_type": "execute_result"
    }
   ],
   "source": [
    "np.zeros((3,2))+7"
   ]
  },
  {
   "cell_type": "code",
   "execution_count": 27,
   "id": "f79d336d",
   "metadata": {},
   "outputs": [
    {
     "data": {
      "text/plain": [
       "array([[7, 7],\n",
       "       [7, 7],\n",
       "       [7, 7]])"
      ]
     },
     "execution_count": 27,
     "metadata": {},
     "output_type": "execute_result"
    }
   ],
   "source": [
    "# 특정 값으로 채워진 배열\n",
    "np.full((3, 2), 7)"
   ]
  },
  {
   "cell_type": "markdown",
   "id": "0becfa72",
   "metadata": {},
   "source": [
    "# 희소행렬 만들기\n",
    "- 대부분이 0인 행렬"
   ]
  },
  {
   "cell_type": "code",
   "execution_count": 31,
   "id": "d38f677c",
   "metadata": {},
   "outputs": [],
   "source": [
    "import numpy as np\n",
    "from scipy import sparse"
   ]
  },
  {
   "cell_type": "code",
   "execution_count": 33,
   "id": "771c4495",
   "metadata": {},
   "outputs": [],
   "source": [
    "mat = np.array([[0, 0], \n",
    "               [0, 1], \n",
    "               [3, 0]])"
   ]
  },
  {
   "cell_type": "code",
   "execution_count": 36,
   "id": "e5eb263c",
   "metadata": {},
   "outputs": [],
   "source": [
    "mat_sparse = sparse.csr_matrix(mat)"
   ]
  },
  {
   "cell_type": "markdown",
   "id": "423472ec",
   "metadata": {},
   "source": [
    "- CSR (Compressed sparse row)\n",
    "- 0이 아닌 원소의 index와 그 원소의 값으로 구성"
   ]
  },
  {
   "cell_type": "code",
   "execution_count": 37,
   "id": "f1da8ac7",
   "metadata": {},
   "outputs": [
    {
     "name": "stdout",
     "output_type": "stream",
     "text": [
      "  (1, 1)\t1\n",
      "  (2, 0)\t3\n"
     ]
    }
   ],
   "source": [
    "# 0이 아닌 원소만 저장 됨\n",
    "print(mat_sparse)"
   ]
  },
  {
   "cell_type": "code",
   "execution_count": 38,
   "id": "f2ad4786",
   "metadata": {},
   "outputs": [],
   "source": [
    "# 더 큰 행렬\n",
    "mat_large = np.array([[0, 0, 0, 0, 0, 0, 0, 0, 0, 0], \n",
    "                     [0, 1, 0, 0, 0, 0, 0, 0, 0, 0],\n",
    "                     [3, 0, 0, 0, 0, 0, 0, 0, 0, 0]])"
   ]
  },
  {
   "cell_type": "code",
   "execution_count": 39,
   "id": "504c6f8a",
   "metadata": {},
   "outputs": [],
   "source": [
    "mat_large_sparse = sparse.csr_matrix(mat_large)"
   ]
  },
  {
   "cell_type": "code",
   "execution_count": 40,
   "id": "0beed02c",
   "metadata": {},
   "outputs": [
    {
     "name": "stdout",
     "output_type": "stream",
     "text": [
      "  (1, 1)\t1\n",
      "  (2, 0)\t3\n"
     ]
    }
   ],
   "source": [
    "# 행렬을 커졌지만 희소행렬을 그대로\n",
    "print(mat_large_sparse)"
   ]
  },
  {
   "cell_type": "markdown",
   "id": "c633f80b",
   "metadata": {},
   "source": [
    "- 직접 희소행렬 만들기"
   ]
  },
  {
   "cell_type": "code",
   "execution_count": 42,
   "id": "373b6f37",
   "metadata": {},
   "outputs": [
    {
     "name": "stdout",
     "output_type": "stream",
     "text": [
      "  (1, 1)\t1\n",
      "  (2, 0)\t3\n"
     ]
    }
   ],
   "source": [
    "# 이렇게는 잘 하지 않는다\n",
    "mat_sparse_2 = sparse.csr_matrix(([1, 3], ([1, 2], [1, 0])), shape=(3, 10))\n",
    "print(mat_sparse_2)"
   ]
  },
  {
   "cell_type": "code",
   "execution_count": 43,
   "id": "8bf6c40d",
   "metadata": {},
   "outputs": [
    {
     "name": "stdout",
     "output_type": "stream",
     "text": [
      "[[0 0 0 0 0 0 0 0 0 0]\n",
      " [0 1 0 0 0 0 0 0 0 0]\n",
      " [3 0 0 0 0 0 0 0 0 0]]\n"
     ]
    }
   ],
   "source": [
    "# array로 원복하기\n",
    "print(mat_sparse_2.toarray())"
   ]
  },
  {
   "cell_type": "code",
   "execution_count": 44,
   "id": "8bf8f229",
   "metadata": {},
   "outputs": [
    {
     "data": {
      "text/plain": [
       "matrix([[0, 0, 0, 0, 0, 0, 0, 0, 0, 0],\n",
       "        [0, 1, 0, 0, 0, 0, 0, 0, 0, 0],\n",
       "        [3, 0, 0, 0, 0, 0, 0, 0, 0, 0]])"
      ]
     },
     "execution_count": 44,
     "metadata": {},
     "output_type": "execute_result"
    }
   ],
   "source": [
    "# np.matrix 객체로 반환\n",
    "mat_sparse_2.todense()"
   ]
  },
  {
   "cell_type": "markdown",
   "id": "404c8f2a",
   "metadata": {},
   "source": [
    "# 원소 선택하기"
   ]
  },
  {
   "cell_type": "code",
   "execution_count": 45,
   "id": "1d39ee0e",
   "metadata": {},
   "outputs": [],
   "source": [
    "# 행백터와 행렬을 만든다\n",
    "v = np.array([1, 2, 3, 4, 5, 6])\n",
    "mat = np.array([[1, 2, 3], \n",
    "               [4, 5, 6], \n",
    "               [7,8 ,9]])"
   ]
  },
  {
   "cell_type": "code",
   "execution_count": 48,
   "id": "8a235b7d",
   "metadata": {},
   "outputs": [
    {
     "data": {
      "text/plain": [
       "3"
      ]
     },
     "execution_count": 48,
     "metadata": {},
     "output_type": "execute_result"
    }
   ],
   "source": [
    "# 세번째 원소 선택\n",
    "v[2]"
   ]
  },
  {
   "cell_type": "code",
   "execution_count": 49,
   "id": "0b45a680",
   "metadata": {},
   "outputs": [
    {
     "data": {
      "text/plain": [
       "5"
      ]
     },
     "execution_count": 49,
     "metadata": {},
     "output_type": "execute_result"
    }
   ],
   "source": [
    "# 두번째 행, 두번째 열 원소 선택\n",
    "mat[1,1]"
   ]
  },
  {
   "cell_type": "markdown",
   "id": "1dabd5b3",
   "metadata": {},
   "source": [
    "- 슬라이싱"
   ]
  },
  {
   "cell_type": "code",
   "execution_count": 50,
   "id": "144ea737",
   "metadata": {},
   "outputs": [
    {
     "data": {
      "text/plain": [
       "array([1, 2, 3, 4, 5, 6])"
      ]
     },
     "execution_count": 50,
     "metadata": {},
     "output_type": "execute_result"
    }
   ],
   "source": [
    "# 모든 원소 선택\n",
    "v[:]"
   ]
  },
  {
   "cell_type": "code",
   "execution_count": 51,
   "id": "b1be1327",
   "metadata": {},
   "outputs": [
    {
     "data": {
      "text/plain": [
       "array([1, 2, 3])"
      ]
     },
     "execution_count": 51,
     "metadata": {},
     "output_type": "execute_result"
    }
   ],
   "source": [
    "# 처음 부터 세번째 까지\n",
    "v[:3]"
   ]
  },
  {
   "cell_type": "code",
   "execution_count": 52,
   "id": "0dff67b8",
   "metadata": {},
   "outputs": [
    {
     "data": {
      "text/plain": [
       "array([4, 5, 6])"
      ]
     },
     "execution_count": 52,
     "metadata": {},
     "output_type": "execute_result"
    }
   ],
   "source": [
    "# 세번 째 이후 모든 원소\n",
    "v[3:]"
   ]
  },
  {
   "cell_type": "code",
   "execution_count": 53,
   "id": "a8cbcc55",
   "metadata": {},
   "outputs": [
    {
     "data": {
      "text/plain": [
       "6"
      ]
     },
     "execution_count": 53,
     "metadata": {},
     "output_type": "execute_result"
    }
   ],
   "source": [
    "# 맨 마지막\n",
    "v[-1]"
   ]
  },
  {
   "cell_type": "code",
   "execution_count": 54,
   "id": "13d3caf0",
   "metadata": {},
   "outputs": [
    {
     "data": {
      "text/plain": [
       "array([[1, 2, 3],\n",
       "       [4, 5, 6]])"
      ]
     },
     "execution_count": 54,
     "metadata": {},
     "output_type": "execute_result"
    }
   ],
   "source": [
    "# 첫 번째 두번째 행과 모든 열\n",
    "mat[:2, :]"
   ]
  },
  {
   "cell_type": "code",
   "execution_count": 55,
   "id": "46ee896e",
   "metadata": {},
   "outputs": [
    {
     "data": {
      "text/plain": [
       "array([[2],\n",
       "       [5],\n",
       "       [8]])"
      ]
     },
     "execution_count": 55,
     "metadata": {},
     "output_type": "execute_result"
    }
   ],
   "source": [
    "#모든 행과 두번째 열\n",
    "mat[:, 1:2]"
   ]
  },
  {
   "cell_type": "markdown",
   "id": "9a215f62",
   "metadata": {},
   "source": [
    "- 팬시 인덱싱 : 행과 열의 인덱스 리스트를 전달하여 배열의 원소를 선택"
   ]
  },
  {
   "cell_type": "code",
   "execution_count": 57,
   "id": "648e871a",
   "metadata": {},
   "outputs": [
    {
     "data": {
      "text/plain": [
       "array([[1, 2, 3],\n",
       "       [4, 5, 6],\n",
       "       [7, 8, 9]])"
      ]
     },
     "execution_count": 57,
     "metadata": {},
     "output_type": "execute_result"
    }
   ],
   "source": [
    "mat"
   ]
  },
  {
   "cell_type": "code",
   "execution_count": 56,
   "id": "789100af",
   "metadata": {},
   "outputs": [
    {
     "data": {
      "text/plain": [
       "array([[1, 2, 3],\n",
       "       [7, 8, 9]])"
      ]
     },
     "execution_count": 56,
     "metadata": {},
     "output_type": "execute_result"
    }
   ],
   "source": [
    "# 첫 번째 행과 세번 째 행\n",
    "mat[[0, 2]]"
   ]
  },
  {
   "cell_type": "code",
   "execution_count": 58,
   "id": "68bb8e9c",
   "metadata": {},
   "outputs": [
    {
     "data": {
      "text/plain": [
       "array([2, 7])"
      ]
     },
     "execution_count": 58,
     "metadata": {},
     "output_type": "execute_result"
    }
   ],
   "source": [
    "# (0, 1), (2, 0) 위치의 원소 선택\n",
    "mat[[0, 2], [1, 0]]"
   ]
  },
  {
   "cell_type": "code",
   "execution_count": 59,
   "id": "fc323bb8",
   "metadata": {},
   "outputs": [],
   "source": [
    "# 불리언 마스크 배열\n",
    "mask = mat > 5"
   ]
  },
  {
   "cell_type": "code",
   "execution_count": 60,
   "id": "dbd8e89d",
   "metadata": {},
   "outputs": [
    {
     "data": {
      "text/plain": [
       "array([[False, False, False],\n",
       "       [False, False,  True],\n",
       "       [ True,  True,  True]])"
      ]
     },
     "execution_count": 60,
     "metadata": {},
     "output_type": "execute_result"
    }
   ],
   "source": [
    "mask"
   ]
  },
  {
   "cell_type": "code",
   "execution_count": 61,
   "id": "da1bb4da",
   "metadata": {},
   "outputs": [
    {
     "data": {
      "text/plain": [
       "array([6, 7, 8, 9])"
      ]
     },
     "execution_count": 61,
     "metadata": {},
     "output_type": "execute_result"
    }
   ],
   "source": [
    "mat[mask]"
   ]
  },
  {
   "cell_type": "markdown",
   "id": "b83bf183",
   "metadata": {},
   "source": [
    "# 행렬 정보 확인하기"
   ]
  },
  {
   "cell_type": "code",
   "execution_count": 62,
   "id": "22d87883",
   "metadata": {},
   "outputs": [],
   "source": [
    "mat = np.array([[1, 2, 3, 4], \n",
    "               [5, 6, 7, 8], \n",
    "               [9, 10, 11, 12]])"
   ]
  },
  {
   "cell_type": "code",
   "execution_count": 63,
   "id": "c3aabaca",
   "metadata": {},
   "outputs": [
    {
     "data": {
      "text/plain": [
       "(3, 4)"
      ]
     },
     "execution_count": 63,
     "metadata": {},
     "output_type": "execute_result"
    }
   ],
   "source": [
    "# 행렬 크기\n",
    "mat.shape"
   ]
  },
  {
   "cell_type": "code",
   "execution_count": 66,
   "id": "65d5cdcc",
   "metadata": {},
   "outputs": [
    {
     "data": {
      "text/plain": [
       "4"
      ]
     },
     "execution_count": 66,
     "metadata": {},
     "output_type": "execute_result"
    }
   ],
   "source": [
    "mat.shape[-1]"
   ]
  },
  {
   "cell_type": "code",
   "execution_count": 67,
   "id": "9ea5941c",
   "metadata": {},
   "outputs": [
    {
     "data": {
      "text/plain": [
       "12"
      ]
     },
     "execution_count": 67,
     "metadata": {},
     "output_type": "execute_result"
    }
   ],
   "source": [
    "# 행렬의 원소의 수\n",
    "mat.size"
   ]
  },
  {
   "cell_type": "code",
   "execution_count": 69,
   "id": "5796d7bc",
   "metadata": {},
   "outputs": [
    {
     "data": {
      "text/plain": [
       "2"
      ]
     },
     "execution_count": 69,
     "metadata": {},
     "output_type": "execute_result"
    }
   ],
   "source": [
    "# 차원의 수\n",
    "mat.ndim"
   ]
  },
  {
   "cell_type": "code",
   "execution_count": 70,
   "id": "ed291cc7",
   "metadata": {},
   "outputs": [
    {
     "data": {
      "text/plain": [
       "dtype('int64')"
      ]
     },
     "execution_count": 70,
     "metadata": {},
     "output_type": "execute_result"
    }
   ],
   "source": [
    "# 원소의 타입\n",
    "mat.dtype"
   ]
  },
  {
   "cell_type": "code",
   "execution_count": 71,
   "id": "81d2c9fd",
   "metadata": {},
   "outputs": [
    {
     "data": {
      "text/plain": [
       "8"
      ]
     },
     "execution_count": 71,
     "metadata": {},
     "output_type": "execute_result"
    }
   ],
   "source": [
    "# 원소 하나가 차지하는 바이트 크기\n",
    "mat.itemsize"
   ]
  },
  {
   "cell_type": "code",
   "execution_count": 72,
   "id": "bab5daa9",
   "metadata": {},
   "outputs": [
    {
     "data": {
      "text/plain": [
       "96"
      ]
     },
     "execution_count": 72,
     "metadata": {},
     "output_type": "execute_result"
    }
   ],
   "source": [
    "# 배열 전체가 차지하는 바이트 크기\n",
    "mat.nbytes"
   ]
  },
  {
   "cell_type": "markdown",
   "id": "acda296e",
   "metadata": {},
   "source": [
    "# 벡터화 연산 적용하기"
   ]
  },
  {
   "cell_type": "code",
   "execution_count": 81,
   "id": "f7dba264",
   "metadata": {},
   "outputs": [],
   "source": [
    "mat = np.array([[1, 2, 3], \n",
    "               [4, 5, 6], \n",
    "               [7, 8, 9]])"
   ]
  },
  {
   "cell_type": "code",
   "execution_count": 82,
   "id": "7f8fa068",
   "metadata": {},
   "outputs": [],
   "source": [
    "add_100 = lambda i : i+100"
   ]
  },
  {
   "cell_type": "code",
   "execution_count": 83,
   "id": "9b1faeef",
   "metadata": {},
   "outputs": [],
   "source": [
    "# 백터화된 함수 만들기 : 배열의 일부나 전체에 적용하도록 for 루프 구현한 것, 성능 향상 없다.\n",
    "vectorized_add_100 = np.vectorize(add_100)"
   ]
  },
  {
   "cell_type": "code",
   "execution_count": 84,
   "id": "819f6ad3",
   "metadata": {},
   "outputs": [
    {
     "data": {
      "text/plain": [
       "array([[101, 102, 103],\n",
       "       [104, 105, 106],\n",
       "       [107, 108, 109]])"
      ]
     },
     "execution_count": 84,
     "metadata": {},
     "output_type": "execute_result"
    }
   ],
   "source": [
    "vectorized_add_100(mat)"
   ]
  },
  {
   "cell_type": "markdown",
   "id": "583d8f40",
   "metadata": {},
   "source": [
    "- 브로드케스팅"
   ]
  },
  {
   "cell_type": "code",
   "execution_count": 85,
   "id": "430c2d94",
   "metadata": {
    "scrolled": true
   },
   "outputs": [
    {
     "data": {
      "text/plain": [
       "array([[101, 102, 103],\n",
       "       [104, 105, 106],\n",
       "       [107, 108, 109]])"
      ]
     },
     "execution_count": 85,
     "metadata": {},
     "output_type": "execute_result"
    }
   ],
   "source": [
    "mat + 100"
   ]
  },
  {
   "cell_type": "code",
   "execution_count": 86,
   "id": "44efed6c",
   "metadata": {},
   "outputs": [
    {
     "data": {
      "text/plain": [
       "array([[101, 102, 103],\n",
       "       [104, 105, 106],\n",
       "       [107, 108, 109]])"
      ]
     },
     "execution_count": 86,
     "metadata": {},
     "output_type": "execute_result"
    }
   ],
   "source": [
    "# 배열에 차원을 추가 하거나 반복해서 배열 크기 맞춤\n",
    "# (3, 3) 크기 행렬에 (3,) 크기의 백터를 더하면\n",
    "# (1, 3) 크기가 된 다음 각 행을 따라 반복\n",
    "mat + [100, 100, 100]"
   ]
  },
  {
   "cell_type": "code",
   "execution_count": 87,
   "id": "0872ea04",
   "metadata": {},
   "outputs": [
    {
     "data": {
      "text/plain": [
       "array([[101, 102, 103],\n",
       "       [204, 205, 206],\n",
       "       [307, 308, 309]])"
      ]
     },
     "execution_count": 87,
     "metadata": {},
     "output_type": "execute_result"
    }
   ],
   "source": [
    "# (3, 3) 크기 행렬에 (3, 1) 크기의 벡터를 더하면, 열을 따라 반복\n",
    "mat + [[100], [200], [300]]"
   ]
  },
  {
   "cell_type": "markdown",
   "id": "a48d6640",
   "metadata": {},
   "source": [
    "# 최댓값, 최솟값 찾기"
   ]
  },
  {
   "cell_type": "code",
   "execution_count": 88,
   "id": "969014a7",
   "metadata": {},
   "outputs": [
    {
     "data": {
      "text/plain": [
       "array([[1, 2, 3],\n",
       "       [4, 5, 6],\n",
       "       [7, 8, 9]])"
      ]
     },
     "execution_count": 88,
     "metadata": {},
     "output_type": "execute_result"
    }
   ],
   "source": [
    "mat"
   ]
  },
  {
   "cell_type": "code",
   "execution_count": 89,
   "id": "8f1a824e",
   "metadata": {},
   "outputs": [
    {
     "data": {
      "text/plain": [
       "9"
      ]
     },
     "execution_count": 89,
     "metadata": {},
     "output_type": "execute_result"
    }
   ],
   "source": [
    "# 가장 큰 원소\n",
    "np.max(mat)"
   ]
  },
  {
   "cell_type": "code",
   "execution_count": 90,
   "id": "8e2af59c",
   "metadata": {},
   "outputs": [
    {
     "data": {
      "text/plain": [
       "1"
      ]
     },
     "execution_count": 90,
     "metadata": {},
     "output_type": "execute_result"
    }
   ],
   "source": [
    "# 가장 작은 원소\n",
    "np.min(mat)"
   ]
  },
  {
   "cell_type": "markdown",
   "id": "0e37740e",
   "metadata": {},
   "source": [
    "- reduction : axis 옵션으로 없어 지는 차원 설정"
   ]
  },
  {
   "cell_type": "code",
   "execution_count": 96,
   "id": "400efa55",
   "metadata": {},
   "outputs": [
    {
     "data": {
      "text/plain": [
       "array([[1, 2, 3],\n",
       "       [4, 5, 6],\n",
       "       [7, 8, 9]])"
      ]
     },
     "execution_count": 96,
     "metadata": {},
     "output_type": "execute_result"
    }
   ],
   "source": [
    "mat"
   ]
  },
  {
   "cell_type": "code",
   "execution_count": 97,
   "id": "c00d80be",
   "metadata": {},
   "outputs": [
    {
     "data": {
      "text/plain": [
       "array([7, 8, 9])"
      ]
     },
     "execution_count": 97,
     "metadata": {},
     "output_type": "execute_result"
    }
   ],
   "source": [
    "# 열을 따라 최댓값\n",
    "np.max(mat, axis=0)"
   ]
  },
  {
   "cell_type": "markdown",
   "id": "3622772b",
   "metadata": {},
   "source": [
    "- 문제 : 각 행의 최댓값을 구해, 각 행에서 뺀 행렬을 구해보자"
   ]
  },
  {
   "cell_type": "code",
   "execution_count": 98,
   "id": "1545cd45",
   "metadata": {},
   "outputs": [
    {
     "data": {
      "text/plain": [
       "array([3, 6, 9])"
      ]
     },
     "execution_count": 98,
     "metadata": {},
     "output_type": "execute_result"
    }
   ],
   "source": [
    "np.max(mat, axis=1)"
   ]
  },
  {
   "cell_type": "code",
   "execution_count": 99,
   "id": "4f1a5b81",
   "metadata": {},
   "outputs": [
    {
     "data": {
      "text/plain": [
       "array([[-2, -4, -6],\n",
       "       [ 1, -1, -3],\n",
       "       [ 4,  2,  0]])"
      ]
     },
     "execution_count": 99,
     "metadata": {},
     "output_type": "execute_result"
    }
   ],
   "source": [
    "mat - np.max(mat, axis=1)"
   ]
  },
  {
   "cell_type": "code",
   "execution_count": 75,
   "id": "4321ab73",
   "metadata": {},
   "outputs": [
    {
     "data": {
      "text/plain": [
       "array([[-2, -4, -6],\n",
       "       [ 1, -1, -3],\n",
       "       [ 4,  2,  0]])"
      ]
     },
     "execution_count": 75,
     "metadata": {},
     "output_type": "execute_result"
    }
   ],
   "source": [
    "mat - np.max(mat, axis=1)"
   ]
  },
  {
   "cell_type": "markdown",
   "id": "e9cda336",
   "metadata": {},
   "source": [
    "- keepdims : 원본 배열의 차원과 동일한 결과 얻음, 원본 배열과 안전하게 브로드케스팅에 사용"
   ]
  },
  {
   "cell_type": "code",
   "execution_count": 103,
   "id": "7b1fb6cd",
   "metadata": {},
   "outputs": [
    {
     "data": {
      "text/plain": [
       "2"
      ]
     },
     "execution_count": 103,
     "metadata": {},
     "output_type": "execute_result"
    }
   ],
   "source": [
    "mat.ndim"
   ]
  },
  {
   "cell_type": "code",
   "execution_count": 100,
   "id": "cdb338ef",
   "metadata": {},
   "outputs": [
    {
     "data": {
      "text/plain": [
       "array([[3],\n",
       "       [6],\n",
       "       [9]])"
      ]
     },
     "execution_count": 100,
     "metadata": {},
     "output_type": "execute_result"
    }
   ],
   "source": [
    "# (3, ) 이 아니라 (3, 1) 크기의 벡터 생성\n",
    "v = np.max(mat, axis=1, keepdims=True)\n",
    "v"
   ]
  },
  {
   "cell_type": "code",
   "execution_count": 104,
   "id": "7a043a60",
   "metadata": {},
   "outputs": [
    {
     "data": {
      "text/plain": [
       "2"
      ]
     },
     "execution_count": 104,
     "metadata": {},
     "output_type": "execute_result"
    }
   ],
   "source": [
    "v.ndim"
   ]
  },
  {
   "cell_type": "code",
   "execution_count": 105,
   "id": "1b5baf5b",
   "metadata": {},
   "outputs": [
    {
     "data": {
      "text/plain": [
       "(3, 1)"
      ]
     },
     "execution_count": 105,
     "metadata": {},
     "output_type": "execute_result"
    }
   ],
   "source": [
    "v.shape"
   ]
  },
  {
   "cell_type": "code",
   "execution_count": 106,
   "id": "f593f3dd",
   "metadata": {},
   "outputs": [
    {
     "data": {
      "text/plain": [
       "array([[-2, -1,  0],\n",
       "       [-2, -1,  0],\n",
       "       [-2, -1,  0]])"
      ]
     },
     "execution_count": 106,
     "metadata": {},
     "output_type": "execute_result"
    }
   ],
   "source": [
    "# 열 벡터 임으로 브로드케스팅을 이용, 각 행의 최댓값을 뺼 수 있다\n",
    "mat - v "
   ]
  },
  {
   "cell_type": "markdown",
   "id": "c18b38df",
   "metadata": {},
   "source": [
    "# 평균, 분산, 표준편차 계산하기"
   ]
  },
  {
   "cell_type": "code",
   "execution_count": 107,
   "id": "b9057078",
   "metadata": {},
   "outputs": [
    {
     "data": {
      "text/plain": [
       "array([[1, 2, 3],\n",
       "       [4, 5, 6],\n",
       "       [7, 8, 9]])"
      ]
     },
     "execution_count": 107,
     "metadata": {},
     "output_type": "execute_result"
    }
   ],
   "source": [
    "mat"
   ]
  },
  {
   "cell_type": "code",
   "execution_count": 108,
   "id": "7a83c704",
   "metadata": {},
   "outputs": [
    {
     "data": {
      "text/plain": [
       "5.0"
      ]
     },
     "execution_count": 108,
     "metadata": {},
     "output_type": "execute_result"
    }
   ],
   "source": [
    "# 전체 병균\n",
    "np.mean(mat)"
   ]
  },
  {
   "cell_type": "code",
   "execution_count": 109,
   "id": "bdd03763",
   "metadata": {},
   "outputs": [
    {
     "data": {
      "text/plain": [
       "6.666666666666667"
      ]
     },
     "execution_count": 109,
     "metadata": {},
     "output_type": "execute_result"
    }
   ],
   "source": [
    "# 전체 분산\n",
    "np.var(mat)"
   ]
  },
  {
   "cell_type": "code",
   "execution_count": 110,
   "id": "4e39eae3",
   "metadata": {},
   "outputs": [
    {
     "data": {
      "text/plain": [
       "2.581988897471611"
      ]
     },
     "execution_count": 110,
     "metadata": {},
     "output_type": "execute_result"
    }
   ],
   "source": [
    "np.std(mat)"
   ]
  },
  {
   "cell_type": "markdown",
   "id": "401bec82",
   "metadata": {},
   "source": [
    "- reduction"
   ]
  },
  {
   "cell_type": "code",
   "execution_count": 112,
   "id": "d8c231e7",
   "metadata": {},
   "outputs": [
    {
     "data": {
      "text/plain": [
       "array([[1, 2, 3],\n",
       "       [4, 5, 6],\n",
       "       [7, 8, 9]])"
      ]
     },
     "execution_count": 112,
     "metadata": {},
     "output_type": "execute_result"
    }
   ],
   "source": [
    "mat"
   ]
  },
  {
   "cell_type": "code",
   "execution_count": 111,
   "id": "527ca420",
   "metadata": {},
   "outputs": [
    {
     "data": {
      "text/plain": [
       "array([4., 5., 6.])"
      ]
     },
     "execution_count": 111,
     "metadata": {},
     "output_type": "execute_result"
    }
   ],
   "source": [
    "np.mean(mat, axis=0)"
   ]
  },
  {
   "cell_type": "markdown",
   "id": "d7f7e556",
   "metadata": {},
   "source": [
    "- unbiased"
   ]
  },
  {
   "cell_type": "code",
   "execution_count": 114,
   "id": "a4a386b4",
   "metadata": {},
   "outputs": [
    {
     "data": {
      "text/plain": [
       "2.581988897471611"
      ]
     },
     "execution_count": 114,
     "metadata": {},
     "output_type": "execute_result"
    }
   ],
   "source": [
    "np.std(mat)"
   ]
  },
  {
   "cell_type": "code",
   "execution_count": 115,
   "id": "c786cc2a",
   "metadata": {},
   "outputs": [
    {
     "data": {
      "text/plain": [
       "2.7386127875258306"
      ]
     },
     "execution_count": 115,
     "metadata": {},
     "output_type": "execute_result"
    }
   ],
   "source": [
    "np.std(mat, ddof=1)"
   ]
  },
  {
   "cell_type": "markdown",
   "id": "f89df8be",
   "metadata": {},
   "source": [
    "- pandas의 std 함수의 ddof는 기본 1"
   ]
  },
  {
   "cell_type": "code",
   "execution_count": 116,
   "id": "8eff9d21",
   "metadata": {},
   "outputs": [],
   "source": [
    "import pandas as pd\n",
    "\n",
    "df = pd.DataFrame(mat.flatten())"
   ]
  },
  {
   "cell_type": "code",
   "execution_count": 118,
   "id": "88506e36",
   "metadata": {},
   "outputs": [
    {
     "data": {
      "text/plain": [
       "0    2.738613\n",
       "dtype: float64"
      ]
     },
     "execution_count": 118,
     "metadata": {},
     "output_type": "execute_result"
    }
   ],
   "source": [
    "df.std()"
   ]
  },
  {
   "cell_type": "code",
   "execution_count": 120,
   "id": "ba633791",
   "metadata": {},
   "outputs": [
    {
     "data": {
      "text/plain": [
       "array([[1, 2, 3],\n",
       "       [4, 5, 6],\n",
       "       [7, 8, 9]])"
      ]
     },
     "execution_count": 120,
     "metadata": {},
     "output_type": "execute_result"
    }
   ],
   "source": [
    "mat"
   ]
  },
  {
   "cell_type": "code",
   "execution_count": 119,
   "id": "1d286ab1",
   "metadata": {},
   "outputs": [
    {
     "data": {
      "text/plain": [
       "array([0.81649658, 0.81649658, 0.81649658])"
      ]
     },
     "execution_count": 119,
     "metadata": {},
     "output_type": "execute_result"
    }
   ],
   "source": [
    "np.std(mat, axis=1)"
   ]
  },
  {
   "cell_type": "code",
   "execution_count": 121,
   "id": "6a506bd8",
   "metadata": {},
   "outputs": [
    {
     "data": {
      "text/plain": [
       "array([[0.81649658],\n",
       "       [0.81649658],\n",
       "       [0.81649658]])"
      ]
     },
     "execution_count": 121,
     "metadata": {},
     "output_type": "execute_result"
    }
   ],
   "source": [
    "np.std(mat, axis=1, keepdims=True)"
   ]
  },
  {
   "cell_type": "markdown",
   "id": "08d8e3b9",
   "metadata": {},
   "source": [
    "# 배열 크기 바꾸기"
   ]
  },
  {
   "cell_type": "code",
   "execution_count": 122,
   "id": "dc779bac",
   "metadata": {},
   "outputs": [],
   "source": [
    "mat = np.array([[1, 2, 3], \n",
    "               [4, 5, 6], \n",
    "               [7, 8, 9],\n",
    "               [10, 11, 12]])"
   ]
  },
  {
   "cell_type": "code",
   "execution_count": 123,
   "id": "7cf6df4d",
   "metadata": {},
   "outputs": [
    {
     "data": {
      "text/plain": [
       "array([[ 1,  2,  3,  4,  5,  6],\n",
       "       [ 7,  8,  9, 10, 11, 12]])"
      ]
     },
     "execution_count": 123,
     "metadata": {},
     "output_type": "execute_result"
    }
   ],
   "source": [
    "# 2x6 행렬로\n",
    "mat.reshape(2, 6)"
   ]
  },
  {
   "cell_type": "code",
   "execution_count": 124,
   "id": "5990f8ab",
   "metadata": {},
   "outputs": [
    {
     "data": {
      "text/plain": [
       "12"
      ]
     },
     "execution_count": 124,
     "metadata": {},
     "output_type": "execute_result"
    }
   ],
   "source": [
    "# 전체 원소의 수\n",
    "mat.size"
   ]
  },
  {
   "cell_type": "markdown",
   "id": "5e3ea4a2",
   "metadata": {},
   "source": [
    "- -1은 가능한 많이 란 뜻"
   ]
  },
  {
   "cell_type": "code",
   "execution_count": 126,
   "id": "d5cb14e1",
   "metadata": {},
   "outputs": [
    {
     "data": {
      "text/plain": [
       "array([[ 1,  2,  3,  4,  5,  6,  7,  8,  9, 10, 11, 12]])"
      ]
     },
     "execution_count": 126,
     "metadata": {},
     "output_type": "execute_result"
    }
   ],
   "source": [
    "mat.reshape(1, -1)"
   ]
  },
  {
   "cell_type": "markdown",
   "id": "29818d6a",
   "metadata": {},
   "source": [
    "- 정수 하나는 1차원 배열 (뒤에 나옴)"
   ]
  },
  {
   "cell_type": "code",
   "execution_count": 128,
   "id": "ef2fed9e",
   "metadata": {},
   "outputs": [
    {
     "data": {
      "text/plain": [
       "array([ 1,  2,  3,  4,  5,  6,  7,  8,  9, 10, 11, 12])"
      ]
     },
     "execution_count": 128,
     "metadata": {},
     "output_type": "execute_result"
    }
   ],
   "source": [
    "mat.reshape(12)"
   ]
  },
  {
   "cell_type": "code",
   "execution_count": 129,
   "id": "c849b0a2",
   "metadata": {},
   "outputs": [
    {
     "data": {
      "text/plain": [
       "array([ 1,  2,  3,  4,  5,  6,  7,  8,  9, 10, 11, 12])"
      ]
     },
     "execution_count": 129,
     "metadata": {},
     "output_type": "execute_result"
    }
   ],
   "source": [
    "mat.reshape(-1)"
   ]
  },
  {
   "cell_type": "code",
   "execution_count": 130,
   "id": "1e4968fe",
   "metadata": {},
   "outputs": [
    {
     "data": {
      "text/plain": [
       "array([ 1,  2,  3,  4,  5,  6,  7,  8,  9, 10, 11, 12])"
      ]
     },
     "execution_count": 130,
     "metadata": {},
     "output_type": "execute_result"
    }
   ],
   "source": [
    "mat.ravel()"
   ]
  },
  {
   "cell_type": "code",
   "execution_count": 131,
   "id": "bf6fb1c9",
   "metadata": {},
   "outputs": [
    {
     "data": {
      "text/plain": [
       "array([ 1,  2,  3,  4,  5,  6,  7,  8,  9, 10, 11, 12])"
      ]
     },
     "execution_count": 131,
     "metadata": {},
     "output_type": "execute_result"
    }
   ],
   "source": [
    "mat.flatten()"
   ]
  },
  {
   "cell_type": "markdown",
   "id": "f018ecf0",
   "metadata": {},
   "source": [
    "# 벡터나 행렬 전치하기\n",
    "- 전치 : 행과 열의 인덱스를 바꾼다"
   ]
  },
  {
   "cell_type": "code",
   "execution_count": 132,
   "id": "f61bd746",
   "metadata": {},
   "outputs": [],
   "source": [
    "mat = np.array([[1, 2, 3], \n",
    "               [4, 5, 6], \n",
    "               [7, 8, 9]])"
   ]
  },
  {
   "cell_type": "code",
   "execution_count": 133,
   "id": "d8d3e57e",
   "metadata": {},
   "outputs": [
    {
     "data": {
      "text/plain": [
       "array([[1, 4, 7],\n",
       "       [2, 5, 8],\n",
       "       [3, 6, 9]])"
      ]
     },
     "execution_count": 133,
     "metadata": {},
     "output_type": "execute_result"
    }
   ],
   "source": [
    "mat.T"
   ]
  },
  {
   "cell_type": "markdown",
   "id": "37cb65f3",
   "metadata": {},
   "source": [
    "- vector는 전치 불가"
   ]
  },
  {
   "cell_type": "code",
   "execution_count": 134,
   "id": "1729aa8d",
   "metadata": {},
   "outputs": [
    {
     "data": {
      "text/plain": [
       "array([1, 2, 3, 4, 5])"
      ]
     },
     "execution_count": 134,
     "metadata": {},
     "output_type": "execute_result"
    }
   ],
   "source": [
    "np.array([1, 2, 3,4, 5]).T"
   ]
  },
  {
   "cell_type": "markdown",
   "id": "7016990a",
   "metadata": {},
   "source": [
    "- matrix로 만들어야 전치 가능"
   ]
  },
  {
   "cell_type": "code",
   "execution_count": 137,
   "id": "5d0fba4d",
   "metadata": {},
   "outputs": [
    {
     "data": {
      "text/plain": [
       "array([[1, 2, 3, 4, 5]])"
      ]
     },
     "execution_count": 137,
     "metadata": {},
     "output_type": "execute_result"
    }
   ],
   "source": [
    "np.array([[1, 2, 3,4, 5]])"
   ]
  },
  {
   "cell_type": "code",
   "execution_count": 138,
   "id": "ac2b3764",
   "metadata": {},
   "outputs": [
    {
     "data": {
      "text/plain": [
       "array([[1],\n",
       "       [2],\n",
       "       [3],\n",
       "       [4],\n",
       "       [5]])"
      ]
     },
     "execution_count": 138,
     "metadata": {},
     "output_type": "execute_result"
    }
   ],
   "source": [
    "np.array([[1, 2, 3,4, 5]]).T"
   ]
  },
  {
   "cell_type": "code",
   "execution_count": 140,
   "id": "837a50c8",
   "metadata": {},
   "outputs": [
    {
     "data": {
      "text/plain": [
       "array([[1, 4, 7],\n",
       "       [2, 5, 8],\n",
       "       [3, 6, 9]])"
      ]
     },
     "execution_count": 140,
     "metadata": {},
     "output_type": "execute_result"
    }
   ],
   "source": [
    "mat.T"
   ]
  },
  {
   "cell_type": "code",
   "execution_count": 141,
   "id": "3d105c71",
   "metadata": {},
   "outputs": [
    {
     "data": {
      "text/plain": [
       "array([[1, 4, 7],\n",
       "       [2, 5, 8],\n",
       "       [3, 6, 9]])"
      ]
     },
     "execution_count": 141,
     "metadata": {},
     "output_type": "execute_result"
    }
   ],
   "source": [
    "# T 대신 사용\n",
    "mat.transpose()"
   ]
  },
  {
   "cell_type": "markdown",
   "id": "6e5481f9",
   "metadata": {},
   "source": [
    "- 튜플로 바꿀 차원 직접 지정"
   ]
  },
  {
   "cell_type": "code",
   "execution_count": 142,
   "id": "480e747e",
   "metadata": {},
   "outputs": [],
   "source": [
    "mat = np.array([[[1, 2], \n",
    "               [3, 4],\n",
    "               [5, 6]], \n",
    "                \n",
    "               [[7, 8], \n",
    "               [9, 10],\n",
    "               [11, 12]]])"
   ]
  },
  {
   "cell_type": "code",
   "execution_count": 143,
   "id": "3ebd866b",
   "metadata": {},
   "outputs": [
    {
     "data": {
      "text/plain": [
       "array([[[ 1,  2],\n",
       "        [ 3,  4],\n",
       "        [ 5,  6]],\n",
       "\n",
       "       [[ 7,  8],\n",
       "        [ 9, 10],\n",
       "        [11, 12]]])"
      ]
     },
     "execution_count": 143,
     "metadata": {},
     "output_type": "execute_result"
    }
   ],
   "source": [
    "mat"
   ]
  },
  {
   "cell_type": "code",
   "execution_count": 144,
   "id": "c12ce531",
   "metadata": {},
   "outputs": [
    {
     "data": {
      "text/plain": [
       "(2, 3, 2)"
      ]
     },
     "execution_count": 144,
     "metadata": {},
     "output_type": "execute_result"
    }
   ],
   "source": [
    "mat.shape"
   ]
  },
  {
   "cell_type": "code",
   "execution_count": 102,
   "id": "7a457bd2",
   "metadata": {},
   "outputs": [
    {
     "data": {
      "text/plain": [
       "array([[[ 1,  3,  5],\n",
       "        [ 2,  4,  6]],\n",
       "\n",
       "       [[ 7,  9, 11],\n",
       "        [ 8, 10, 12]]])"
      ]
     },
     "execution_count": 102,
     "metadata": {},
     "output_type": "execute_result"
    }
   ],
   "source": [
    "mat2 = mat.transpose((0, 2, 1))\n",
    "mat2"
   ]
  },
  {
   "cell_type": "code",
   "execution_count": 103,
   "id": "fc12fe53",
   "metadata": {},
   "outputs": [
    {
     "data": {
      "text/plain": [
       "(2, 2, 3)"
      ]
     },
     "execution_count": 103,
     "metadata": {},
     "output_type": "execute_result"
    }
   ],
   "source": [
    "mat2.shape"
   ]
  },
  {
   "cell_type": "markdown",
   "id": "46462eef",
   "metadata": {},
   "source": [
    "# 행렬 펼치기"
   ]
  },
  {
   "cell_type": "code",
   "execution_count": 145,
   "id": "c66038ea",
   "metadata": {},
   "outputs": [],
   "source": [
    "mat = np.array([[1, 2, 3], \n",
    "               [4, 5, 6], \n",
    "               [7, 8, 9]])"
   ]
  },
  {
   "cell_type": "code",
   "execution_count": 146,
   "id": "f550d31c",
   "metadata": {},
   "outputs": [
    {
     "data": {
      "text/plain": [
       "array([1, 2, 3, 4, 5, 6, 7, 8, 9])"
      ]
     },
     "execution_count": 146,
     "metadata": {},
     "output_type": "execute_result"
    }
   ],
   "source": [
    "# 1차원 배열로 변환\n",
    "mat.flatten()"
   ]
  },
  {
   "cell_type": "code",
   "execution_count": 147,
   "id": "f8a7b7b0",
   "metadata": {},
   "outputs": [
    {
     "data": {
      "text/plain": [
       "array([[1, 2, 3, 4, 5, 6, 7, 8, 9]])"
      ]
     },
     "execution_count": 147,
     "metadata": {},
     "output_type": "execute_result"
    }
   ],
   "source": [
    "# view 반환\n",
    "mat.reshape(1, -1)"
   ]
  },
  {
   "cell_type": "code",
   "execution_count": 148,
   "id": "860fbb00",
   "metadata": {},
   "outputs": [
    {
     "data": {
      "text/plain": [
       "array([1, 2, 3, 4, 5, 6, 7, 8, 9])"
      ]
     },
     "execution_count": 148,
     "metadata": {},
     "output_type": "execute_result"
    }
   ],
   "source": [
    "mat.reshape(-1)"
   ]
  },
  {
   "cell_type": "code",
   "execution_count": 149,
   "id": "faf1749b",
   "metadata": {},
   "outputs": [
    {
     "data": {
      "text/plain": [
       "array([1, 2, 3, 4, 5, 6, 7, 8, 9])"
      ]
     },
     "execution_count": 149,
     "metadata": {},
     "output_type": "execute_result"
    }
   ],
   "source": [
    "mat.ravel()"
   ]
  },
  {
   "cell_type": "markdown",
   "id": "049b118f",
   "metadata": {},
   "source": [
    "- reshape은 뷰를 반환, flatten은 새로운 배열 생성"
   ]
  },
  {
   "cell_type": "code",
   "execution_count": 150,
   "id": "4d65f5c7",
   "metadata": {},
   "outputs": [],
   "source": [
    "v_reshape = mat.reshape(-1)\n",
    "v_flatten = mat.flatten()"
   ]
  },
  {
   "cell_type": "code",
   "execution_count": 151,
   "id": "8ac74637",
   "metadata": {},
   "outputs": [],
   "source": [
    "mat[0][0]= -1"
   ]
  },
  {
   "cell_type": "code",
   "execution_count": 152,
   "id": "ba017ae9",
   "metadata": {},
   "outputs": [
    {
     "data": {
      "text/plain": [
       "array([-1,  2,  3,  4,  5,  6,  7,  8,  9])"
      ]
     },
     "execution_count": 152,
     "metadata": {},
     "output_type": "execute_result"
    }
   ],
   "source": [
    "# view는 변경이 반영됨\n",
    "v_reshape"
   ]
  },
  {
   "cell_type": "code",
   "execution_count": 153,
   "id": "ef53b59e",
   "metadata": {},
   "outputs": [
    {
     "data": {
      "text/plain": [
       "array([1, 2, 3, 4, 5, 6, 7, 8, 9])"
      ]
     },
     "execution_count": 153,
     "metadata": {},
     "output_type": "execute_result"
    }
   ],
   "source": [
    "# 복사된 배열은 영향 없음\n",
    "v_flatten"
   ]
  },
  {
   "cell_type": "markdown",
   "id": "7bb1755d",
   "metadata": {},
   "source": [
    "# 행렬의 랭크 구하기\n",
    "- 랭크 : 행이나 열로 만든 벡터 공간의 차원, 선형 독립적인 행 또는 열의 개수"
   ]
  },
  {
   "cell_type": "code",
   "execution_count": 155,
   "id": "c8ed3f2c",
   "metadata": {},
   "outputs": [],
   "source": [
    "mat = np.array([[1, 1, 1], \n",
    "               [1, 1, 10], \n",
    "               [1, 1, 15]])"
   ]
  },
  {
   "cell_type": "code",
   "execution_count": 156,
   "id": "4f722509",
   "metadata": {},
   "outputs": [
    {
     "data": {
      "text/plain": [
       "2"
      ]
     },
     "execution_count": 156,
     "metadata": {},
     "output_type": "execute_result"
    }
   ],
   "source": [
    "np.linalg.matrix_rank(mat)"
   ]
  },
  {
   "cell_type": "code",
   "execution_count": 157,
   "id": "118048aa",
   "metadata": {},
   "outputs": [
    {
     "data": {
      "text/plain": [
       "2"
      ]
     },
     "execution_count": 157,
     "metadata": {},
     "output_type": "execute_result"
    }
   ],
   "source": [
    "# matrix_rank 함수는 특이값분해(svd, singluar value decomposition) 방식으로 랭크 계산\n",
    "s = np.linalg.svd(mat, compute_uv=False)\n",
    "# 오차를 고려 0에 매우 가까운 작은 값을 지정\n",
    "np.sum(s > 1e-10)"
   ]
  },
  {
   "cell_type": "markdown",
   "id": "e01021d0",
   "metadata": {},
   "source": [
    "# 행렬식 계산하기"
   ]
  },
  {
   "cell_type": "markdown",
   "id": "8ec1ad8b",
   "metadata": {},
   "source": [
    "- 행렬식 : 정방행렬에 의한 선형 변환의 특징을 나타내는 스칼라값"
   ]
  },
  {
   "cell_type": "code",
   "execution_count": 161,
   "id": "56c39d96",
   "metadata": {},
   "outputs": [],
   "source": [
    "mat = np.array([[1, 2, 3], \n",
    "               [2, 4, 6], \n",
    "               [3, 8, 9]])"
   ]
  },
  {
   "cell_type": "code",
   "execution_count": 162,
   "id": "acac915a",
   "metadata": {},
   "outputs": [
    {
     "data": {
      "text/plain": [
       "0.0"
      ]
     },
     "execution_count": 162,
     "metadata": {},
     "output_type": "execute_result"
    }
   ],
   "source": [
    "np.linalg.det(mat)"
   ]
  },
  {
   "cell_type": "markdown",
   "id": "9717c1a5",
   "metadata": {},
   "source": [
    "# 행렬의 대각원소 추출하기"
   ]
  },
  {
   "cell_type": "code",
   "execution_count": 165,
   "id": "ccd51497",
   "metadata": {},
   "outputs": [],
   "source": [
    "mat = np.array([[1, 2, 3], \n",
    "               [2, 4, 6], \n",
    "               [3, 8, 9]])"
   ]
  },
  {
   "cell_type": "code",
   "execution_count": 166,
   "id": "9dd62f57",
   "metadata": {},
   "outputs": [
    {
     "data": {
      "text/plain": [
       "array([1, 4, 9])"
      ]
     },
     "execution_count": 166,
     "metadata": {},
     "output_type": "execute_result"
    }
   ],
   "source": [
    "mat.diagonal()"
   ]
  },
  {
   "cell_type": "markdown",
   "id": "20d93c75",
   "metadata": {},
   "source": [
    "- offset : 주 대각선에서 벗어난 대각원소 찾기"
   ]
  },
  {
   "cell_type": "code",
   "execution_count": 167,
   "id": "11a7cbcf",
   "metadata": {},
   "outputs": [
    {
     "data": {
      "text/plain": [
       "array([2, 6])"
      ]
     },
     "execution_count": 167,
     "metadata": {},
     "output_type": "execute_result"
    }
   ],
   "source": [
    "# 주 대각선 하나 위\n",
    "mat.diagonal(offset=1)"
   ]
  },
  {
   "cell_type": "code",
   "execution_count": 168,
   "id": "b7d5ed23",
   "metadata": {},
   "outputs": [
    {
     "data": {
      "text/plain": [
       "array([2, 8])"
      ]
     },
     "execution_count": 168,
     "metadata": {},
     "output_type": "execute_result"
    }
   ],
   "source": [
    "# 주 대각선 하나 아래\n",
    "mat.diagonal(offset=-1)"
   ]
  },
  {
   "cell_type": "markdown",
   "id": "7960777d",
   "metadata": {},
   "source": [
    "- diagonal 함수는 view 반환"
   ]
  },
  {
   "cell_type": "code",
   "execution_count": 169,
   "id": "a11dd837",
   "metadata": {
    "scrolled": true
   },
   "outputs": [
    {
     "data": {
      "text/plain": [
       "array([[1, 2, 3],\n",
       "       [2, 4, 6],\n",
       "       [3, 8, 9]])"
      ]
     },
     "execution_count": 169,
     "metadata": {},
     "output_type": "execute_result"
    }
   ],
   "source": [
    "mat"
   ]
  },
  {
   "cell_type": "code",
   "execution_count": 170,
   "id": "d7531035",
   "metadata": {},
   "outputs": [
    {
     "data": {
      "text/plain": [
       "array([1, 4, 9])"
      ]
     },
     "execution_count": 170,
     "metadata": {},
     "output_type": "execute_result"
    }
   ],
   "source": [
    "a = np.diag(mat)\n",
    "a"
   ]
  },
  {
   "cell_type": "code",
   "execution_count": 171,
   "id": "d0452192",
   "metadata": {},
   "outputs": [
    {
     "data": {
      "text/plain": [
       "array([1, 4, 9])"
      ]
     },
     "execution_count": 171,
     "metadata": {},
     "output_type": "execute_result"
    }
   ],
   "source": [
    "b = mat.diagonal().copy()\n",
    "b"
   ]
  },
  {
   "cell_type": "code",
   "execution_count": 172,
   "id": "12b84c53",
   "metadata": {},
   "outputs": [],
   "source": [
    "mat[[0], [0]] = 2"
   ]
  },
  {
   "cell_type": "code",
   "execution_count": 173,
   "id": "fb4c0fbc",
   "metadata": {},
   "outputs": [
    {
     "data": {
      "text/plain": [
       "array([2, 4, 9])"
      ]
     },
     "execution_count": 173,
     "metadata": {},
     "output_type": "execute_result"
    }
   ],
   "source": [
    "a"
   ]
  },
  {
   "cell_type": "code",
   "execution_count": 174,
   "id": "1c636711",
   "metadata": {},
   "outputs": [
    {
     "data": {
      "text/plain": [
       "array([1, 4, 9])"
      ]
     },
     "execution_count": 174,
     "metadata": {},
     "output_type": "execute_result"
    }
   ],
   "source": [
    "b"
   ]
  },
  {
   "cell_type": "markdown",
   "id": "90fcc5c1",
   "metadata": {},
   "source": [
    "- 1차원 배열이 주어지면 2차원 대각 행렬 생성"
   ]
  },
  {
   "cell_type": "code",
   "execution_count": 175,
   "id": "0b1545da",
   "metadata": {},
   "outputs": [
    {
     "data": {
      "text/plain": [
       "array([[2, 0, 0],\n",
       "       [0, 4, 0],\n",
       "       [0, 0, 9]])"
      ]
     },
     "execution_count": 175,
     "metadata": {},
     "output_type": "execute_result"
    }
   ],
   "source": [
    "np.diag(a)"
   ]
  },
  {
   "cell_type": "markdown",
   "id": "e456bd72",
   "metadata": {},
   "source": [
    "# 행렬의 대각합 계산하기"
   ]
  },
  {
   "cell_type": "code",
   "execution_count": 176,
   "id": "17bf034d",
   "metadata": {},
   "outputs": [],
   "source": [
    "mat = np.array([[1, 2, 3], \n",
    "               [2, 4, 6], \n",
    "               [3, 8, 9]])"
   ]
  },
  {
   "cell_type": "code",
   "execution_count": 177,
   "id": "c3f156e0",
   "metadata": {},
   "outputs": [
    {
     "data": {
      "text/plain": [
       "14"
      ]
     },
     "execution_count": 177,
     "metadata": {},
     "output_type": "execute_result"
    }
   ],
   "source": [
    "mat.trace()"
   ]
  },
  {
   "cell_type": "code",
   "execution_count": 178,
   "id": "9674c19c",
   "metadata": {},
   "outputs": [
    {
     "data": {
      "text/plain": [
       "14"
      ]
     },
     "execution_count": 178,
     "metadata": {},
     "output_type": "execute_result"
    }
   ],
   "source": [
    "sum(np.diagonal(mat))"
   ]
  },
  {
   "cell_type": "code",
   "execution_count": 179,
   "id": "2cd0da42",
   "metadata": {},
   "outputs": [
    {
     "data": {
      "text/plain": [
       "8"
      ]
     },
     "execution_count": 179,
     "metadata": {},
     "output_type": "execute_result"
    }
   ],
   "source": [
    "# 대각선 하나 위\n",
    "mat.trace(offset=1)"
   ]
  },
  {
   "cell_type": "code",
   "execution_count": 180,
   "id": "ab8f980b",
   "metadata": {},
   "outputs": [
    {
     "data": {
      "text/plain": [
       "8"
      ]
     },
     "execution_count": 180,
     "metadata": {},
     "output_type": "execute_result"
    }
   ],
   "source": [
    "sum(np.diagonal(mat, offset=1))"
   ]
  },
  {
   "cell_type": "code",
   "execution_count": 181,
   "id": "5c3eafea",
   "metadata": {},
   "outputs": [
    {
     "data": {
      "text/plain": [
       "10"
      ]
     },
     "execution_count": 181,
     "metadata": {},
     "output_type": "execute_result"
    }
   ],
   "source": [
    "# 대각선 하나 아래\n",
    "np.trace(mat, offset=-1)"
   ]
  },
  {
   "cell_type": "code",
   "execution_count": 182,
   "id": "35853dfd",
   "metadata": {},
   "outputs": [
    {
     "data": {
      "text/plain": [
       "10"
      ]
     },
     "execution_count": 182,
     "metadata": {},
     "output_type": "execute_result"
    }
   ],
   "source": [
    "sum(np.diagonal(mat, offset=-1))"
   ]
  },
  {
   "cell_type": "markdown",
   "id": "77f51e19",
   "metadata": {},
   "source": [
    "# 고윳값과 고유벡터 찾기\n",
    "- 행렬 A로 표현되는 선형 변환을 적용 할 때 고유벡터는 스케일만 바뀌는 벡터\n",
    "- $Av = \\lambda v$\n",
    "- $A$ : 정방행렬, $\\lambda$ : 고윳값, $v$ : 고유벡터\n",
    "- [참고자료](https://medium.com/@aj.tambe.02/eigenvalues-and-eigenvectors-the-math-of-reduction-in-machine-learning-f35082648552)"
   ]
  },
  {
   "cell_type": "code",
   "execution_count": 184,
   "id": "24b23822",
   "metadata": {},
   "outputs": [],
   "source": [
    "mat = np.array([[1, -1, 3], \n",
    "               [1, 1, 6], \n",
    "               [3, 8, 9]])"
   ]
  },
  {
   "cell_type": "code",
   "execution_count": 185,
   "id": "681dee54",
   "metadata": {},
   "outputs": [],
   "source": [
    "eigenvalues, eigenvectors = np.linalg.eig(mat)"
   ]
  },
  {
   "cell_type": "code",
   "execution_count": 186,
   "id": "534cb7fb",
   "metadata": {},
   "outputs": [
    {
     "data": {
      "text/plain": [
       "array([13.55075847,  0.74003145, -3.29078992])"
      ]
     },
     "execution_count": 186,
     "metadata": {},
     "output_type": "execute_result"
    }
   ],
   "source": [
    "eigenvalues"
   ]
  },
  {
   "cell_type": "code",
   "execution_count": 187,
   "id": "b2c2bb10",
   "metadata": {},
   "outputs": [
    {
     "data": {
      "text/plain": [
       "array([[-0.17622017, -0.96677403, -0.53373322],\n",
       "       [-0.435951  ,  0.2053623 , -0.64324848],\n",
       "       [-0.88254925,  0.15223105,  0.54896288]])"
      ]
     },
     "execution_count": 187,
     "metadata": {},
     "output_type": "execute_result"
    }
   ],
   "source": [
    "eigenvectors"
   ]
  },
  {
   "cell_type": "markdown",
   "id": "ee301387",
   "metadata": {},
   "source": [
    "- 대칭행렬 일 경우 linalg.eigh 로 더 빠르게 계산"
   ]
  },
  {
   "cell_type": "code",
   "execution_count": 188,
   "id": "ae8d0ed2",
   "metadata": {},
   "outputs": [],
   "source": [
    "eigenvalues, eigenvectors = np.linalg.eigh(mat)"
   ]
  },
  {
   "cell_type": "markdown",
   "id": "000a46b2",
   "metadata": {},
   "source": [
    "# 점곱 계산하기"
   ]
  },
  {
   "cell_type": "code",
   "execution_count": 190,
   "id": "7de75349",
   "metadata": {},
   "outputs": [],
   "source": [
    "v_1 = np.array([1, 2, 3])\n",
    "v_2 = np.array([4, 5, 6])"
   ]
  },
  {
   "cell_type": "code",
   "execution_count": 191,
   "id": "2ac597b6",
   "metadata": {},
   "outputs": [
    {
     "data": {
      "text/plain": [
       "32"
      ]
     },
     "execution_count": 191,
     "metadata": {},
     "output_type": "execute_result"
    }
   ],
   "source": [
    "np.dot(v_1, v_2)"
   ]
  },
  {
   "cell_type": "markdown",
   "id": "c97bc174",
   "metadata": {},
   "source": [
    "- @ 연산자 : np.matmul, 스칼라는 사용 불가"
   ]
  },
  {
   "cell_type": "code",
   "execution_count": 192,
   "id": "ec695186",
   "metadata": {},
   "outputs": [
    {
     "data": {
      "text/plain": [
       "32"
      ]
     },
     "execution_count": 192,
     "metadata": {},
     "output_type": "execute_result"
    }
   ],
   "source": [
    "v_1 @ v_2"
   ]
  },
  {
   "cell_type": "code",
   "execution_count": 193,
   "id": "278e15f8",
   "metadata": {},
   "outputs": [
    {
     "data": {
      "text/plain": [
       "2"
      ]
     },
     "execution_count": 193,
     "metadata": {},
     "output_type": "execute_result"
    }
   ],
   "source": [
    "s_a = np.array(1)\n",
    "s_b = np.array(2)\n",
    "np.dot(s_a, s_b)"
   ]
  },
  {
   "cell_type": "code",
   "execution_count": 195,
   "id": "4ebe14d9",
   "metadata": {},
   "outputs": [],
   "source": [
    "# s_a @ s_b # 에러 발생"
   ]
  },
  {
   "cell_type": "markdown",
   "id": "38109d96",
   "metadata": {},
   "source": [
    "# 행렬 덧셈과 뺄셈"
   ]
  },
  {
   "cell_type": "code",
   "execution_count": 196,
   "id": "97b66470",
   "metadata": {},
   "outputs": [],
   "source": [
    "mat_a = np.array([[1, 1, 1], \n",
    "                 [1, 1, 1], \n",
    "                 [1, 1, 2]])"
   ]
  },
  {
   "cell_type": "code",
   "execution_count": 197,
   "id": "5a3ed838",
   "metadata": {},
   "outputs": [],
   "source": [
    "mat_b = np.array([[1, 3, 1], \n",
    "                 [1, 3, 1], \n",
    "                 [1, 3, 8]])"
   ]
  },
  {
   "cell_type": "code",
   "execution_count": 198,
   "id": "5f4f343e",
   "metadata": {},
   "outputs": [
    {
     "data": {
      "text/plain": [
       "array([[ 2,  4,  2],\n",
       "       [ 2,  4,  2],\n",
       "       [ 2,  4, 10]])"
      ]
     },
     "execution_count": 198,
     "metadata": {},
     "output_type": "execute_result"
    }
   ],
   "source": [
    "np.add(mat_a, mat_b)"
   ]
  },
  {
   "cell_type": "code",
   "execution_count": 199,
   "id": "633f7917",
   "metadata": {},
   "outputs": [
    {
     "data": {
      "text/plain": [
       "array([[ 0, -2,  0],\n",
       "       [ 0, -2,  0],\n",
       "       [ 0, -2, -6]])"
      ]
     },
     "execution_count": 199,
     "metadata": {},
     "output_type": "execute_result"
    }
   ],
   "source": [
    "np.subtract(mat_a, mat_b)"
   ]
  },
  {
   "cell_type": "code",
   "execution_count": 200,
   "id": "b18c85f9",
   "metadata": {},
   "outputs": [
    {
     "data": {
      "text/plain": [
       "array([[ 2,  4,  2],\n",
       "       [ 2,  4,  2],\n",
       "       [ 2,  4, 10]])"
      ]
     },
     "execution_count": 200,
     "metadata": {},
     "output_type": "execute_result"
    }
   ],
   "source": [
    "mat_a + mat_b"
   ]
  },
  {
   "cell_type": "markdown",
   "id": "a7dc8de3",
   "metadata": {},
   "source": [
    "# 행렬 곱셈"
   ]
  },
  {
   "cell_type": "code",
   "execution_count": 205,
   "id": "4df5ac7d",
   "metadata": {},
   "outputs": [],
   "source": [
    "mat_a = np.array([[1, 1], \n",
    "                 [1, 2]])\n",
    "mat_b = np.array([[1, 3], \n",
    "                 [1, 2]])"
   ]
  },
  {
   "cell_type": "markdown",
   "id": "607f3526",
   "metadata": {},
   "source": [
    "- 행렬곱"
   ]
  },
  {
   "cell_type": "code",
   "execution_count": 206,
   "id": "42b42f8b",
   "metadata": {},
   "outputs": [
    {
     "data": {
      "text/plain": [
       "array([[2, 5],\n",
       "       [3, 7]])"
      ]
     },
     "execution_count": 206,
     "metadata": {},
     "output_type": "execute_result"
    }
   ],
   "source": [
    "np.dot(mat_a, mat_b)"
   ]
  },
  {
   "cell_type": "code",
   "execution_count": 207,
   "id": "dd8dc9e0",
   "metadata": {},
   "outputs": [
    {
     "data": {
      "text/plain": [
       "array([[1, 3],\n",
       "       [1, 4]])"
      ]
     },
     "execution_count": 207,
     "metadata": {},
     "output_type": "execute_result"
    }
   ],
   "source": [
    "mat_a * mat_b"
   ]
  },
  {
   "cell_type": "code",
   "execution_count": 208,
   "id": "dd0a3e01",
   "metadata": {},
   "outputs": [
    {
     "data": {
      "text/plain": [
       "array([[2, 5],\n",
       "       [3, 7]])"
      ]
     },
     "execution_count": 208,
     "metadata": {},
     "output_type": "execute_result"
    }
   ],
   "source": [
    "mat_a @ mat_b"
   ]
  },
  {
   "cell_type": "markdown",
   "id": "2f5b4678",
   "metadata": {},
   "source": [
    "- 원소별"
   ]
  },
  {
   "cell_type": "code",
   "execution_count": 209,
   "id": "ce1375ca",
   "metadata": {},
   "outputs": [
    {
     "data": {
      "text/plain": [
       "array([[1, 3],\n",
       "       [1, 4]])"
      ]
     },
     "execution_count": 209,
     "metadata": {},
     "output_type": "execute_result"
    }
   ],
   "source": [
    "mat_a * mat_b"
   ]
  },
  {
   "cell_type": "markdown",
   "id": "5bce392c",
   "metadata": {},
   "source": [
    "- np.dot을 다차원 배열에 적용시, 첫 번째 배열의 마지막 차원과, 두번째 배열의 끝에서 두번째 차원이 동일 해야\n",
    "- (a, b, c, D) 크기 배열과 (e, f, D, h) 크기의 배열 점곱 결과 : (a, b, c, e, f, h)"
   ]
  },
  {
   "cell_type": "code",
   "execution_count": 184,
   "id": "4fcf7c28",
   "metadata": {},
   "outputs": [],
   "source": [
    "a = np.random.rand(2, 1, 4, 5)\n",
    "b = np.random.rand(1, 3, 5, 6)"
   ]
  },
  {
   "cell_type": "code",
   "execution_count": 185,
   "id": "9995f015",
   "metadata": {
    "scrolled": true
   },
   "outputs": [
    {
     "data": {
      "text/plain": [
       "(2, 1, 4, 1, 3, 6)"
      ]
     },
     "execution_count": 185,
     "metadata": {},
     "output_type": "execute_result"
    }
   ],
   "source": [
    "np.dot(a, b).shape"
   ]
  },
  {
   "cell_type": "markdown",
   "id": "58a4e9fb",
   "metadata": {},
   "source": [
    "- @ 연산자와 np.matmul은 다차원 배열을 마지막 두 차원이 단순히 쌓인 것으로 취급\n",
    "- (a, b, c, D) 크기 배열과 (e, f, D, h) 크기의 배열을 np.matmul이나 @ 연산 하려면\n",
    "- a와 e가 같거나, 둘중 하나는1, b와 f가 같거다 둘중 하나는 1"
   ]
  },
  {
   "cell_type": "code",
   "execution_count": 186,
   "id": "61810116",
   "metadata": {},
   "outputs": [
    {
     "data": {
      "text/plain": [
       "(2, 3, 4, 6)"
      ]
     },
     "execution_count": 186,
     "metadata": {},
     "output_type": "execute_result"
    }
   ],
   "source": [
    "np.matmul(a, b).shape"
   ]
  },
  {
   "cell_type": "markdown",
   "id": "874b92c2",
   "metadata": {},
   "source": [
    "# 역행렬\n",
    "- $AA^{-1} = I$\n",
    "- $I$는 단위 행렬, $A^{-1}$는 $A$의 역행렬\n",
    "- np.linalg.inv 함수 사용"
   ]
  },
  {
   "cell_type": "code",
   "execution_count": 210,
   "id": "b59ace6e",
   "metadata": {},
   "outputs": [],
   "source": [
    "mat = np.array([[1, 4], \n",
    "               [2, 5]])"
   ]
  },
  {
   "cell_type": "code",
   "execution_count": 211,
   "id": "d98207a1",
   "metadata": {},
   "outputs": [
    {
     "data": {
      "text/plain": [
       "array([[-1.66666667,  1.33333333],\n",
       "       [ 0.66666667, -0.33333333]])"
      ]
     },
     "execution_count": 211,
     "metadata": {},
     "output_type": "execute_result"
    }
   ],
   "source": [
    "np.linalg.inv(mat)"
   ]
  },
  {
   "cell_type": "markdown",
   "id": "ce497385",
   "metadata": {},
   "source": [
    "- pinv : 정방행렬이 아닌 행렬의 역행렬 구하기"
   ]
  },
  {
   "cell_type": "code",
   "execution_count": 212,
   "id": "dfd91bb0",
   "metadata": {},
   "outputs": [],
   "source": [
    "mat = np.array([[1, 4, 7], \n",
    "               [2, 5, 6]])"
   ]
  },
  {
   "cell_type": "code",
   "execution_count": 213,
   "id": "0dcb3ee7",
   "metadata": {},
   "outputs": [
    {
     "data": {
      "text/plain": [
       "array([[-0.32474227,  0.35051546],\n",
       "       [-0.30927835,  0.3814433 ],\n",
       "       [ 0.36597938, -0.26804124]])"
      ]
     },
     "execution_count": 213,
     "metadata": {},
     "output_type": "execute_result"
    }
   ],
   "source": [
    "np.linalg.pinv(mat)"
   ]
  },
  {
   "cell_type": "markdown",
   "id": "b385da63",
   "metadata": {},
   "source": [
    "# 난수 생성하기"
   ]
  },
  {
   "cell_type": "code",
   "execution_count": 214,
   "id": "4a89432f",
   "metadata": {},
   "outputs": [],
   "source": [
    "np.random.seed(0)"
   ]
  },
  {
   "cell_type": "code",
   "execution_count": 215,
   "id": "7ac2af06",
   "metadata": {},
   "outputs": [
    {
     "data": {
      "text/plain": [
       "array([0.5488135 , 0.71518937, 0.60276338])"
      ]
     },
     "execution_count": 215,
     "metadata": {},
     "output_type": "execute_result"
    }
   ],
   "source": [
    "np.random.random(3)"
   ]
  },
  {
   "cell_type": "code",
   "execution_count": 216,
   "id": "4cf41f25",
   "metadata": {},
   "outputs": [
    {
     "data": {
      "text/plain": [
       "array([3, 7, 9])"
      ]
     },
     "execution_count": 216,
     "metadata": {},
     "output_type": "execute_result"
    }
   ],
   "source": [
    "# 1과 10 사이의 3개의 정수 난수\n",
    "np.random.randint(0, 11, 3)"
   ]
  },
  {
   "cell_type": "code",
   "execution_count": 217,
   "id": "f7925476",
   "metadata": {},
   "outputs": [
    {
     "data": {
      "text/plain": [
       "array([-1.42232584,  1.52006949, -0.29139398])"
      ]
     },
     "execution_count": 217,
     "metadata": {},
     "output_type": "execute_result"
    }
   ],
   "source": [
    "# 평균이 0이고 표준편차가 1인 정규분포에서 3개의 난수\n",
    "np.random.normal(0.0, 1.0, 3)"
   ]
  },
  {
   "cell_type": "code",
   "execution_count": 218,
   "id": "0a0f4ed9",
   "metadata": {},
   "outputs": [
    {
     "data": {
      "text/plain": [
       "array([-0.98118713, -0.08939902,  1.46416405])"
      ]
     },
     "execution_count": 218,
     "metadata": {},
     "output_type": "execute_result"
    }
   ],
   "source": [
    "# 평균이 0이고 스케일이 1인 로지스틱 분포에서 3개의 난수\n",
    "# 로지스틱 분포(logistic distribution)는 누적 분포 함수가 로지스틱 함수(시그모이드)가 되는 확률분포\n",
    "np.random.logistic(0.0, 1.0, 3)"
   ]
  },
  {
   "cell_type": "code",
   "execution_count": 219,
   "id": "3837c68d",
   "metadata": {},
   "outputs": [
    {
     "data": {
      "text/plain": [
       "array([1.47997717, 1.3927848 , 1.83607876])"
      ]
     },
     "execution_count": 219,
     "metadata": {},
     "output_type": "execute_result"
    }
   ],
   "source": [
    "# 1.0보다 크거나 같고 2.0보다 작은 유니폼 분포에서 3개의 수\n",
    "np.random.uniform(1.0, 2.0, 3)"
   ]
  },
  {
   "cell_type": "markdown",
   "id": "914c3e3b",
   "metadata": {},
   "source": [
    "- 실수 난수"
   ]
  },
  {
   "cell_type": "code",
   "execution_count": 220,
   "id": "2c2a19b3",
   "metadata": {},
   "outputs": [
    {
     "data": {
      "text/plain": [
       "array([[0.33739616, 0.64817187, 0.36824154],\n",
       "       [0.95715516, 0.14035078, 0.87008726]])"
      ]
     },
     "execution_count": 220,
     "metadata": {},
     "output_type": "execute_result"
    }
   ],
   "source": [
    "np.random.random_sample((2, 3))"
   ]
  },
  {
   "cell_type": "code",
   "execution_count": 221,
   "id": "69b182eb",
   "metadata": {},
   "outputs": [
    {
     "data": {
      "text/plain": [
       "array([[0.47360805, 0.80091075, 0.52047748],\n",
       "       [0.67887953, 0.72063265, 0.58201979]])"
      ]
     },
     "execution_count": 221,
     "metadata": {},
     "output_type": "execute_result"
    }
   ],
   "source": [
    "np.random.rand(2, 3)"
   ]
  },
  {
   "cell_type": "markdown",
   "id": "c5e041f0",
   "metadata": {},
   "source": [
    "- randint : 정수 난수"
   ]
  },
  {
   "cell_type": "code",
   "execution_count": 223,
   "id": "a527a566",
   "metadata": {},
   "outputs": [
    {
     "data": {
      "text/plain": [
       "array([4, 5, 5, 6, 8, 4, 1, 4, 9, 8])"
      ]
     },
     "execution_count": 223,
     "metadata": {},
     "output_type": "execute_result"
    }
   ],
   "source": [
    "# 최대값 포함 하지 않음\n",
    "np.random.randint(0, 10, 10)"
   ]
  },
  {
   "cell_type": "markdown",
   "id": "847ae31d",
   "metadata": {},
   "source": [
    "- 정규분포를 따르는 난수"
   ]
  },
  {
   "cell_type": "code",
   "execution_count": 224,
   "id": "54cca8a0",
   "metadata": {},
   "outputs": [
    {
     "data": {
      "text/plain": [
       "array([[-0.13309028,  0.06731083,  0.20649884],\n",
       "       [-0.45688133, -1.05997576,  0.61495732]])"
      ]
     },
     "execution_count": 224,
     "metadata": {},
     "output_type": "execute_result"
    }
   ],
   "source": [
    "np.random.normal(0, 1, (2, 3))"
   ]
  },
  {
   "cell_type": "code",
   "execution_count": 225,
   "id": "9010479d",
   "metadata": {},
   "outputs": [
    {
     "data": {
      "text/plain": [
       "array([[ 1.42966077, -0.21195226, -0.08033726],\n",
       "       [ 0.40539778,  0.11860659,  1.25441407]])"
      ]
     },
     "execution_count": 225,
     "metadata": {},
     "output_type": "execute_result"
    }
   ],
   "source": [
    "np.random.standard_normal((2, 3))"
   ]
  },
  {
   "cell_type": "code",
   "execution_count": 226,
   "id": "afe66fa6",
   "metadata": {},
   "outputs": [
    {
     "data": {
      "text/plain": [
       "array([[ 1.41910204, -0.74385608, -2.5174371 ],\n",
       "       [-1.50709602,  1.14907613, -1.19357825]])"
      ]
     },
     "execution_count": 226,
     "metadata": {},
     "output_type": "execute_result"
    }
   ],
   "source": [
    "# 동일하지만 입력이 튜플이 아니다\n",
    "np.random.randn(2, 3)"
   ]
  },
  {
   "cell_type": "markdown",
   "id": "df6628cf",
   "metadata": {},
   "source": [
    "- choice : 배열의 원소중 랜덤하게 지정된 횟수 만큼 샘플링"
   ]
  },
  {
   "cell_type": "code",
   "execution_count": 227,
   "id": "2884a295",
   "metadata": {},
   "outputs": [
    {
     "data": {
      "text/plain": [
       "array([1, 1, 0, 1, 2])"
      ]
     },
     "execution_count": 227,
     "metadata": {},
     "output_type": "execute_result"
    }
   ],
   "source": [
    "np.random.choice([0, 1, 2], 5)"
   ]
  },
  {
   "cell_type": "markdown",
   "id": "6cc946d3",
   "metadata": {},
   "source": [
    "- shuffle : 입력된 배열을 섞는다"
   ]
  },
  {
   "cell_type": "code",
   "execution_count": 228,
   "id": "9cc45b10",
   "metadata": {},
   "outputs": [
    {
     "data": {
      "text/plain": [
       "array([3, 4, 2, 1, 0])"
      ]
     },
     "execution_count": 228,
     "metadata": {},
     "output_type": "execute_result"
    }
   ],
   "source": [
    "a = np.array([0, 1, 2, 3, 4])\n",
    "np.random.shuffle(a)\n",
    "a"
   ]
  },
  {
   "cell_type": "markdown",
   "id": "7e9ef878",
   "metadata": {},
   "source": [
    "- permutation : 입력된 배열의 복사본을 섞은 후 반환"
   ]
  },
  {
   "cell_type": "code",
   "execution_count": 229,
   "id": "58890fcc",
   "metadata": {},
   "outputs": [
    {
     "data": {
      "text/plain": [
       "array([1, 0, 4, 3, 2])"
      ]
     },
     "execution_count": 229,
     "metadata": {},
     "output_type": "execute_result"
    }
   ],
   "source": [
    "# a는 변경 되지 않음\n",
    "np.random.permutation(a)"
   ]
  },
  {
   "cell_type": "code",
   "execution_count": 230,
   "id": "6d1279b0",
   "metadata": {},
   "outputs": [
    {
     "data": {
      "text/plain": [
       "array([3, 4, 2, 1, 0])"
      ]
     },
     "execution_count": 230,
     "metadata": {},
     "output_type": "execute_result"
    }
   ],
   "source": [
    "a"
   ]
  },
  {
   "cell_type": "code",
   "execution_count": 232,
   "id": "4db7f413",
   "metadata": {},
   "outputs": [
    {
     "data": {
      "text/plain": [
       "array([4, 2, 0, 3, 1, 5])"
      ]
     },
     "execution_count": 232,
     "metadata": {},
     "output_type": "execute_result"
    }
   ],
   "source": [
    "# 정수를 입력하면, 0부터 정수-1 까지의 숫자를 섞은 후 반환\n",
    "np.random.permutation(6)"
   ]
  }
 ],
 "metadata": {
  "kernelspec": {
   "display_name": "Python 3 (ipykernel)",
   "language": "python",
   "name": "python3"
  },
  "language_info": {
   "codemirror_mode": {
    "name": "ipython",
    "version": 3
   },
   "file_extension": ".py",
   "mimetype": "text/x-python",
   "name": "python",
   "nbconvert_exporter": "python",
   "pygments_lexer": "ipython3",
   "version": "3.10.9"
  },
  "toc": {
   "base_numbering": 1,
   "nav_menu": {},
   "number_sections": true,
   "sideBar": true,
   "skip_h1_title": false,
   "title_cell": "Table of Contents",
   "title_sidebar": "Contents",
   "toc_cell": false,
   "toc_position": {
    "height": "calc(100% - 180px)",
    "left": "10px",
    "top": "150px",
    "width": "292.568px"
   },
   "toc_section_display": true,
   "toc_window_display": false
  }
 },
 "nbformat": 4,
 "nbformat_minor": 5
}
