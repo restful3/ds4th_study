{
 "cells": [
  {
   "cell_type": "markdown",
   "id": "adba44ce",
   "metadata": {},
   "source": [
    "# 소개"
   ]
  },
  {
   "cell_type": "markdown",
   "id": "e0670add",
   "metadata": {},
   "source": [
    "## 신경망 (Neural Networks)\n",
    "- 1957년 Rosenblatt이 고안한 Perceptron(퍼셉트론) 알고리즘이 발전해 지금까지 이르게 되었다.\n",
    "- Artificial Neural Networks(ANN, 인공신경망)이라고 불리는 학습 모델이며, 뇌의 실제 신경계의 특징을 모사하여 만들어진 계산 모델(computational model)이다.\n",
    "- 뇌 신경망의 작은 구조인 뉴런(Neuron)을 모사한 인공 뉴런인 퍼셉트론은 다수의 입력 신호를 받아 하나의 신호를 출력한다.\n",
    "- 최근에는 '뉴럴넷'이라는 이름으로 가장 많이 사용된다.\n",
    "\n",
    "## 신경세포(Neuron)\n",
    "\n",
    "- 뉴런, 수상돌기(Dendrites)에서 입력신호(다른 뉴런과의 시냅스)를 받아들임\n",
    "- 신경세포(Cell body)에서 정보를 통합함.\n",
    "- Axon Hillock(축삭둔덕)의 임계값을 통과하면 축삭돌기(Axon)로 최종 출력 신호(또 다른 뉴런으로 전파)를 전송함\n",
    "\n",
    "<img src='./figs/20_01.png'>    \n",
    "\n",
    "- 퍼셉트론\n",
    "    - 아래 그림에서 '원'들로 표현된 네트워크에서 한 개의 원을 뉴런(neuron) or 노드(node)라고 함\n",
    "    - 두번째 그림에서 한개의 뉴런으로 여러 입력신호(x0, x1, ...)가 입력되면 각각 고유한 가중치(weights, w0, w1, ...)가 곱해지고 더해짐\n",
    "    - 각각의 가중치는 뉴런끼리의 시냅스(synapses)의 연결강도(시냅스의 두께, 개수)와 같은 역할을 함.\n",
    "    - 가중치가 곱해진 값들은 모두 더해져 정해진 임계값(threshold)을 넘을 경우에만 다음 노드들이 있는 층(layer)으로 신호가 전해짐\n",
    "    \n",
    "<img src='./figs/20_02.png'>    "
   ]
  },
  {
   "cell_type": "markdown",
   "id": "fac5d855",
   "metadata": {},
   "source": [
    "## 신경망 층 (Layer)\n",
    "- 신경망은 여러 층(layers)으로 구성이 되는데, 기본적으로 입력층(input layers), 은닉층(hidden layers), 출력층(output layers) 으로 나뉜다.\n",
    "- 피드포워드 신경망(Feedforward Neural Network, FFNN)은 가장 기본적인 형태의 인공 신경망 중 하나입니다. 이 신경망은 정보의 흐름이 단방향으로만 진행되는데, 입력층에서 출력층으로 데이터가 전달됩니다. 이러한 신경망은 때로는 다른 이름으로도 불리며, 다층 퍼셉트론(Multi-Layer Perceptron, MLP)이라고도 합니다.\n",
    "\n",
    "<img src='./figs/20_03.png' width=500>    \n",
    "\n",
    "- 입력층 (Input Layers)\n",
    "    - 입력층은 데이터셋으로부터 입력을 받는다.\n",
    "    - 입력 변수의 수와 입력 노드의 수는 같다.\n",
    "    - 보통 입력층은 어떤 계산도 수행하지 않고 그냥 값들을 전달하기만 하는 특징을 가지고 있다.\n",
    "    - 신경망의 층수(깊이, depth)를 셀 때 입력층은 포함하지 않는다.\n",
    "    - 위의 그림의 신경망은 2층이라고 할 수 있다.\n",
    "- 은닉층 (Hidden Layers)\n",
    "    - 계산이 일어나는 층이 둘 이상인 신경망을 다층(multilayer) 신경망 이라고 부른다.\n",
    "    - perceptron에서 이름을 빌려와서, multilayer perceptron (MLP)라고 부르기도 한다.\n",
    "    - 계산이 없는 입력층과 마지막 출력층 사이에 있는 층들을 은닉층(Hidden Layers) 이라고 부른다.\n",
    "    - 은닉층에 있는 계산의 결과를 사용자가 볼 수 없기(hidden) 때문에 이런 이름이 붙었다.\n",
    "    - 딥러닝(deep learning)은 사실 두 개 이상의 (이때 부터 깊다(deep)라고 합니다) 은닉층들을 가진 신경망, 입력층을 제외하고 세보면, 3개 이상의 Layer를 갖는 신경망을 의미한다.\n",
    "- 출력층 (Output Layers)\n",
    "    - 신경망 가장 오른쪽, 마지막 층이다.\n",
    "    - 출력층에는 대부분 활성함수(activation function)가 존재하는데 활성화함수는 풀고자 하는 문제에 따라 다른 종류를 사용한다.\n",
    "    - 회귀 문제에서 예측할 목표 변수가 실수값인 경우, 활성화함수가 필요하지 않으며 출력노드의 수는 출력변수의 갯수와 같다.\n",
    "    - 이진 분류(binary classification) 문제의 경우, 시그모이드(sigmoid) 함수를 사용해서 출력을 확률 값으로 변환하여 클래스(Class or label)를 결정하도록 한다.\n",
    "    - 다중클래스(multi-class)를 분류하는 경우, 출력층 노드가 부류 수 만큼 존재하며 소프트맥스(softmax) 함수를 활성화 함수로 사용한다.\n",
    "    - 복잡한 딥러닝 방법론들에서는 은닉층에서도 활성함수를 사용하기 시작한다.\n",
    "\n",
    "- 신경망의 Nonlinearities(비선형성)\n",
    "    - 신경망 학습은 데이터에서 필요한 특성들을 신경망이 알아서 조합하여 찾아낸다.\n",
    "    - 즉, 최소한의 데이터에 대한 전처리는 해야 하지만 심화된 특성 공학(Feature Engineering)을 사용해 특성들을 찾아낼 필요는 없다는 것이다.\n",
    "\n",
    "- 깊은 신경망, 즉 딥러닝과 머신러닝의 차이는 표현학습(representation learning)에 있다.\n",
    "- 딥러닝은 데이터 특성(feature)을 우리가 풀고자 하는 문제를 풀기 쉽도록 표현(representation)하도록 학습하는 능력이 있다. 신경망의 구조와 깊이를 변화시키며 데이터를 더욱 유용하게 표현할 수 있다."
   ]
  },
  {
   "cell_type": "markdown",
   "id": "7e4f6c7d",
   "metadata": {},
   "source": [
    "- [참고자료](https://velog.io/@joo4438/%EB%94%A5%EB%9F%AC%EB%8B%9D-%EC%8B%A0%EA%B2%BD%EB%A7%9D%EC%9D%98-%EA%B8%B0%EB%B3%B8-%EA%B5%AC%EC%A1%B0)"
   ]
  },
  {
   "cell_type": "markdown",
   "id": "bde1d290",
   "metadata": {},
   "source": [
    "# 신경망을 위한 데이터 전처리하기\n",
    "- 신경망의 모델 파라미터는 작은 크기의 난수로 초기화\n",
    "- 특성값이 모델 파라미터보다 크면 종종 신경망의 성능이 나빠짐\n",
    "- 샘플의 특성값이 개별 유닛을 통과하면서 합쳐지기 때문에 모든 특성이 같은 스케일을 가지는 것이 중요\n",
    "- 평균이 0, 표준편차가 1이 되도록 특성을 표준화 하는 것이 중요"
   ]
  },
  {
   "cell_type": "code",
   "execution_count": 1,
   "id": "2e22f96f",
   "metadata": {},
   "outputs": [],
   "source": [
    "from sklearn.preprocessing import StandardScaler\n",
    "import numpy as np"
   ]
  },
  {
   "cell_type": "code",
   "execution_count": 2,
   "id": "805b9d7f",
   "metadata": {},
   "outputs": [],
   "source": [
    "# 특성을 만듭니다.\n",
    "X = np.array([[-100.1, 3240.1],\n",
    "                     [-200.2, -234.1],\n",
    "                     [5000.5, 150.1],\n",
    "                     [6000.6, -125.1],\n",
    "                     [9000.9, -673.1]])\n",
    "\n",
    "# 스케일링 객체를 만듭니다.\n",
    "scaler = StandardScaler()\n",
    "\n",
    "# 특성을 변환합니다.\n",
    "X_scaled = scaler.fit_transform(X)"
   ]
  },
  {
   "cell_type": "code",
   "execution_count": 3,
   "id": "205c1c53",
   "metadata": {},
   "outputs": [
    {
     "data": {
      "text/plain": [
       "(2205.96, 3232.030332530931)"
      ]
     },
     "execution_count": 3,
     "metadata": {},
     "output_type": "execute_result"
    }
   ],
   "source": [
    "# 특성을 확인합니다.\n",
    "X.mean(), X.std()"
   ]
  },
  {
   "cell_type": "code",
   "execution_count": 4,
   "id": "ea91261b",
   "metadata": {},
   "outputs": [
    {
     "data": {
      "text/plain": [
       "(1.1102230246251565e-16, 0.9999999999999999)"
      ]
     },
     "execution_count": 4,
     "metadata": {},
     "output_type": "execute_result"
    }
   ],
   "source": [
    "# 평균과 표준 편차를 출력합니다.\n",
    "X_scaled.mean(), X_scaled.std()"
   ]
  },
  {
   "cell_type": "markdown",
   "id": "20837799",
   "metadata": {},
   "source": [
    "# 신경망 구성하기\n",
    "- 케라스에서 피드포워드 신경망을 구성하기 위해 다양한 결정을 해야 한다.\n",
    "- 은닉층 유닛에 관하여 정해야 할 것\n",
    "    - 여러개의 입력을 받는데, 각 입력을 모델 파라미터와 곱한다 (편차는 더한다)\n",
    "        - 모든 입력에 가중치를 곱하고 편차(절편)을 더한다\n",
    "    - 활성화 함수를 적용 하여, 다음 층에 있는 유닛으로 입력한다.\n",
    "        - 은닉층 활성화 함수로 ReLU를 많이 사용한다\n",
    "        - $f(z) = max(0, z)$ , $z$는 가중치가 적용된 입력과 절편의 합\n",
    "- 출력층에 대해 정해야 할 것\n",
    "    - 출력층의 활성화 함수를 정해야 한다\n",
    "        - 이진 분류 : 시그모이드\n",
    "        - 다중 분류 : 소프트맥스\n",
    "        - 회귀 : 활성화 함수 사용하지 않음\n",
    "    - 손실 함수(예측값과 타깃값이 얼마나 잘 맞는지 정량화)를 정의\n",
    "        - 이진 분류 : 크로스엔트로피\n",
    "        - 다중 분류 : 범주형 크로스엔트로피\n",
    "        - 회귀 : 평균의 제곱 오차\n",
    "- 옵티마이저 정의\n",
    "    - 가장 작은 손실함수 오차를 만드는 모델 파라미터를 찾는 전략\n",
    "    - 확률경사 하강법, 모멘텀을 사용한 확률적 경사 하강법, RMSProp, Adam\n",
    "- 정확도와 같은 성능평가를 위한 성능지표 결정\n",
    "- 신경망을 구성하는 방법 결정\n",
    "    - Keras에서 신경망을 구성하는 방법으로는 Sequential 모델과 함수형 API가 있습니다.\n",
    "\n",
    "    - **Sequential 모델:**\n",
    "        - Sequential 모델은 가장 간단하고 일반적인 신경망 구조를 구축하는 데 사용됩니다.\n",
    "        - 층(layer)을 선형으로 쌓아 나가는 방식으로, 데이터가 한 방향으로 전달됩니다 (feedforward).\n",
    "        - 주로 입력에서 출력까지의 단순한 연속 흐름을 가진 신경망을 구현할 때 사용됩니다.\n",
    "        - 간단한 모델을 빠르게 구축하고 훈련하기 위한 목적으로 적합합니다.\n",
    "\n",
    "    - **함수형 API:**\n",
    "        - 함수형 API는 보다 복잡한 신경망 구조를 생성하는 데 사용됩니다.\n",
    "        - 다중 입력 또는 다중 출력 신경망, 공유 가중치를 가진 신경망, 재귀 신경망 (RNN) 등과 같이 복잡한 토폴로지를 가진 모델을 만들 수 있습니다.\n",
    "        - 각 층은 하나 이상의 입력과 출력을 가질 수 있으며, 이것들을 명시적으로 연결해야 합니다.\n",
    "        - 다른 층 간의 재사용이나 분기 구조를 쉽게 생성할 수 있습니다.\n",
    "\n",
    "- 네트워크의 훈련 방법 전달\n",
    "    - compile 메서드에서 최적화 알고리즘, 손실함수,성능지표 등을 설정\n",
    "\n",
    "이러한 코드 예제를 참고하여 Sequential 모델과 함수형 API를 사용하여 간단한 또는 복잡한 신경망 구조를 만들 수 있습니다."
   ]
  },
  {
   "cell_type": "code",
   "execution_count": 5,
   "id": "39597763",
   "metadata": {
    "scrolled": true
   },
   "outputs": [
    {
     "name": "stderr",
     "output_type": "stream",
     "text": [
      "2023-09-17 11:04:43.254714: I tensorflow/core/platform/cpu_feature_guard.cc:193] This TensorFlow binary is optimized with oneAPI Deep Neural Network Library (oneDNN) to use the following CPU instructions in performance-critical operations:  AVX2 FMA\n",
      "To enable them in other operations, rebuild TensorFlow with the appropriate compiler flags.\n",
      "2023-09-17 11:04:43.351687: E tensorflow/stream_executor/cuda/cuda_blas.cc:2981] Unable to register cuBLAS factory: Attempting to register factory for plugin cuBLAS when one has already been registered\n",
      "2023-09-17 11:04:43.678836: W tensorflow/stream_executor/platform/default/dso_loader.cc:64] Could not load dynamic library 'libnvinfer.so.7'; dlerror: libnvinfer.so.7: cannot open shared object file: No such file or directory; LD_LIBRARY_PATH: /usr/local/cuda-12/lib64::/usr/local/cuda-12.0/lib64/:/usr/local/cuda-11.7/lib64:/home/restful3/anaconda3/lib:/home/restful3/anaconda3/envs/trading/lib:/home/restful3/anaconda3/envs/trading/lib/python3.10/site-packages/tensorrt\n",
      "2023-09-17 11:04:43.678884: W tensorflow/stream_executor/platform/default/dso_loader.cc:64] Could not load dynamic library 'libnvinfer_plugin.so.7'; dlerror: libnvinfer_plugin.so.7: cannot open shared object file: No such file or directory; LD_LIBRARY_PATH: /usr/local/cuda-12/lib64::/usr/local/cuda-12.0/lib64/:/usr/local/cuda-11.7/lib64:/home/restful3/anaconda3/lib:/home/restful3/anaconda3/envs/trading/lib:/home/restful3/anaconda3/envs/trading/lib/python3.10/site-packages/tensorrt\n",
      "2023-09-17 11:04:43.678888: W tensorflow/compiler/tf2tensorrt/utils/py_utils.cc:38] TF-TRT Warning: Cannot dlopen some TensorRT libraries. If you would like to use Nvidia GPU with TensorRT, please make sure the missing libraries mentioned above are installed properly.\n"
     ]
    },
    {
     "name": "stdout",
     "output_type": "stream",
     "text": [
      "Model: \"sequential\"\n",
      "_________________________________________________________________\n",
      " Layer (type)                Output Shape              Param #   \n",
      "=================================================================\n",
      " dense (Dense)               (None, 16)                176       \n",
      "                                                                 \n",
      " dense_1 (Dense)             (None, 16)                272       \n",
      "                                                                 \n",
      " dense_2 (Dense)             (None, 1)                 17        \n",
      "                                                                 \n",
      "=================================================================\n",
      "Total params: 465\n",
      "Trainable params: 465\n",
      "Non-trainable params: 0\n",
      "_________________________________________________________________\n"
     ]
    },
    {
     "name": "stderr",
     "output_type": "stream",
     "text": [
      "2023-09-17 11:04:44.258647: I tensorflow/stream_executor/cuda/cuda_gpu_executor.cc:980] successful NUMA node read from SysFS had negative value (-1), but there must be at least one NUMA node, so returning NUMA node zero\n",
      "2023-09-17 11:04:44.275823: I tensorflow/stream_executor/cuda/cuda_gpu_executor.cc:980] successful NUMA node read from SysFS had negative value (-1), but there must be at least one NUMA node, so returning NUMA node zero\n",
      "2023-09-17 11:04:44.275946: I tensorflow/stream_executor/cuda/cuda_gpu_executor.cc:980] successful NUMA node read from SysFS had negative value (-1), but there must be at least one NUMA node, so returning NUMA node zero\n",
      "2023-09-17 11:04:44.276453: I tensorflow/core/platform/cpu_feature_guard.cc:193] This TensorFlow binary is optimized with oneAPI Deep Neural Network Library (oneDNN) to use the following CPU instructions in performance-critical operations:  AVX2 FMA\n",
      "To enable them in other operations, rebuild TensorFlow with the appropriate compiler flags.\n",
      "2023-09-17 11:04:44.277376: I tensorflow/stream_executor/cuda/cuda_gpu_executor.cc:980] successful NUMA node read from SysFS had negative value (-1), but there must be at least one NUMA node, so returning NUMA node zero\n",
      "2023-09-17 11:04:44.277497: I tensorflow/stream_executor/cuda/cuda_gpu_executor.cc:980] successful NUMA node read from SysFS had negative value (-1), but there must be at least one NUMA node, so returning NUMA node zero\n",
      "2023-09-17 11:04:44.277599: I tensorflow/stream_executor/cuda/cuda_gpu_executor.cc:980] successful NUMA node read from SysFS had negative value (-1), but there must be at least one NUMA node, so returning NUMA node zero\n",
      "2023-09-17 11:04:44.550780: I tensorflow/stream_executor/cuda/cuda_gpu_executor.cc:980] successful NUMA node read from SysFS had negative value (-1), but there must be at least one NUMA node, so returning NUMA node zero\n",
      "2023-09-17 11:04:44.550920: I tensorflow/stream_executor/cuda/cuda_gpu_executor.cc:980] successful NUMA node read from SysFS had negative value (-1), but there must be at least one NUMA node, so returning NUMA node zero\n",
      "2023-09-17 11:04:44.551018: I tensorflow/stream_executor/cuda/cuda_gpu_executor.cc:980] successful NUMA node read from SysFS had negative value (-1), but there must be at least one NUMA node, so returning NUMA node zero\n",
      "2023-09-17 11:04:44.551099: I tensorflow/core/common_runtime/gpu/gpu_device.cc:1616] Created device /job:localhost/replica:0/task:0/device:GPU:0 with 22157 MB memory:  -> device: 0, name: NVIDIA GeForce RTX 3090, pci bus id: 0000:0b:00.0, compute capability: 8.6\n"
     ]
    }
   ],
   "source": [
    "from tensorflow.keras import models, layers\n",
    "\n",
    "# 신경망 모델을 만듭니다.\n",
    "model = models.Sequential()\n",
    "\n",
    "# 렐루 활성화 함수를 사용한 완전 연결 층을 추가합니다.\n",
    "model.add(layers.Dense(units=16, activation='relu', input_shape=(10, )))\n",
    "model.add(layers.Dense(units=16, activation='relu'))\n",
    "model.add(layers.Dense(units=1, activation='sigmoid'))\n",
    "\n",
    "# 신경망의 모델 설정을 완료합니다.\n",
    "model.compile(loss='binary_crossentropy', \n",
    "             optimizer='rmsprop',\n",
    "             metrics=['accuracy'])\n",
    "model.summary()"
   ]
  },
  {
   "cell_type": "code",
   "execution_count": 6,
   "id": "19fc598e",
   "metadata": {},
   "outputs": [
    {
     "name": "stdout",
     "output_type": "stream",
     "text": [
      "Model: \"model\"\n",
      "_________________________________________________________________\n",
      " Layer (type)                Output Shape              Param #   \n",
      "=================================================================\n",
      " input_1 (InputLayer)        [(None, 10)]              0         \n",
      "                                                                 \n",
      " dense_3 (Dense)             (None, 16)                176       \n",
      "                                                                 \n",
      " dense_4 (Dense)             (None, 16)                272       \n",
      "                                                                 \n",
      " dense_5 (Dense)             (None, 1)                 17        \n",
      "                                                                 \n",
      "=================================================================\n",
      "Total params: 465\n",
      "Trainable params: 465\n",
      "Non-trainable params: 0\n",
      "_________________________________________________________________\n"
     ]
    }
   ],
   "source": [
    "# 입력에서부터 출력까지 세 개의 완전 연결 층을 연결합니다.\n",
    "x = layers.Input(shape=(10, ))\n",
    "h1 = layers.Dense(units=16, activation='relu')(x)\n",
    "h2 = layers.Dense(units=16, activation='relu')(h1)\n",
    "y = layers.Dense(units=1, activation='sigmoid')(h2)\n",
    "\n",
    "# 신경망 모델을 만듭니다.\n",
    "net = models.Model(x, y)\n",
    "\n",
    "# 신경망의 모델 설정을 완료합니다.\n",
    "net.compile(loss='binary_crossentropy',\n",
    "           optimizer='rmsprop',\n",
    "           metrics=['accuracy'])\n",
    "net.summary()"
   ]
  },
  {
   "cell_type": "markdown",
   "id": "6367cf48",
   "metadata": {},
   "source": [
    "# 이진 분류기 훈련하기\n",
    "- imdb 데이터셋 : 긍정과 부정으로 나뉘어 있는 50,000개의 영화 리뷰 (25,000개는 훈련 데이터)\n",
    "- 자주 사용하는 단어 1,000개를 사용, 리뷰 텍스트를 단어 등장 여부에 따라 1,000개의 이진 특성으로 변환"
   ]
  },
  {
   "cell_type": "code",
   "execution_count": 7,
   "id": "ee448ff4",
   "metadata": {},
   "outputs": [],
   "source": [
    "import numpy as np\n",
    "from tensorflow.keras.datasets import imdb\n",
    "from tensorflow.keras.preprocessing.text import Tokenizer\n",
    "from tensorflow.keras import models, layers\n",
    "\n",
    "# 랜덤 시드를 설정합니다.\n",
    "np.random.seed(0)\n",
    "\n",
    "# 필요한 특성 개수를 지정합니다.\n",
    "number_of_features = 1000\n",
    "\n",
    "# 영화 리뷰 데이터에서 훈련 데이터와 타깃 벡터를 로드합니다.\n",
    "(X_train, y_train), (X_test, y_test) = imdb.load_data(num_words = number_of_features)\n",
    "\n",
    "# 영화 리뷰 데이터를 원-핫 인코딩된 특성 행렬로 변환합니다.\n",
    "# 토큰은 텍스트 문장 또는 문서를 작은 단위로 분할하는 과정에서 발생하는 요소\n",
    "tokenizer = Tokenizer(num_words=number_of_features)\n",
    "X_train_tkn = tokenizer.sequences_to_matrix(X_train, mode='binary')\n",
    "X_test_tkn = tokenizer.sequences_to_matrix(X_test, mode='binary')"
   ]
  },
  {
   "cell_type": "code",
   "execution_count": 8,
   "id": "00eb541a",
   "metadata": {},
   "outputs": [
    {
     "data": {
      "text/plain": [
       "(25000,)"
      ]
     },
     "execution_count": 8,
     "metadata": {},
     "output_type": "execute_result"
    }
   ],
   "source": [
    "X_train.shape"
   ]
  },
  {
   "cell_type": "code",
   "execution_count": 9,
   "id": "b43048eb",
   "metadata": {},
   "outputs": [
    {
     "name": "stdout",
     "output_type": "stream",
     "text": [
      "[1, 14, 22, 16, 43, 530, 973, 2, 2, 65, 458, 2, 66, 2, 4, 173, 36, 256, 5, 25, 100, 43, 838, 112, 50, 670, 2, 9, 35, 480, 284, 5, 150, 4, 172, 112, 167, 2, 336, 385, 39, 4, 172, 2, 2, 17, 546, 38, 13, 447, 4, 192, 50, 16, 6, 147, 2, 19, 14, 22, 4, 2, 2, 469, 4, 22, 71, 87, 12, 16, 43, 530, 38, 76, 15, 13, 2, 4, 22, 17, 515, 17, 12, 16, 626, 18, 2, 5, 62, 386, 12, 8, 316, 8, 106, 5, 4, 2, 2, 16, 480, 66, 2, 33, 4, 130, 12, 16, 38, 619, 5, 25, 124, 51, 36, 135, 48, 25, 2, 33, 6, 22, 12, 215, 28, 77, 52, 5, 14, 407, 16, 82, 2, 8, 4, 107, 117, 2, 15, 256, 4, 2, 7, 2, 5, 723, 36, 71, 43, 530, 476, 26, 400, 317, 46, 7, 4, 2, 2, 13, 104, 88, 4, 381, 15, 297, 98, 32, 2, 56, 26, 141, 6, 194, 2, 18, 4, 226, 22, 21, 134, 476, 26, 480, 5, 144, 30, 2, 18, 51, 36, 28, 224, 92, 25, 104, 4, 226, 65, 16, 38, 2, 88, 12, 16, 283, 5, 16, 2, 113, 103, 32, 15, 16, 2, 19, 178, 32]\n"
     ]
    }
   ],
   "source": [
    "print(X_train[0])"
   ]
  },
  {
   "cell_type": "code",
   "execution_count": 10,
   "id": "ac48a2a8",
   "metadata": {},
   "outputs": [
    {
     "data": {
      "text/plain": [
       "(25000, 1000)"
      ]
     },
     "execution_count": 10,
     "metadata": {},
     "output_type": "execute_result"
    }
   ],
   "source": [
    "X_train_tkn.shape"
   ]
  },
  {
   "cell_type": "code",
   "execution_count": 11,
   "id": "0efbd553",
   "metadata": {},
   "outputs": [
    {
     "name": "stdout",
     "output_type": "stream",
     "text": [
      "[0. 1. 1. 0. 1. 1. 1. 1. 1. 1. 0. 0. 1. 1. 1. 1. 1. 1. 1. 1. 0. 1. 1. 0.\n",
      " 0. 1. 1. 0. 1. 0. 1. 0. 1. 1. 0. 1. 1. 0. 1. 1. 0. 0. 0. 1. 0. 0. 1. 0.\n",
      " 1. 0. 1. 1. 1. 0. 0. 0. 1. 0. 0. 0. 0. 0. 1. 0. 0. 1. 1. 0. 0. 0. 0. 1.\n",
      " 0. 0. 0. 0. 1. 1. 0. 0. 0. 0. 1. 0. 0. 0. 0. 1. 1. 0. 0. 0. 1. 0. 0. 0.\n",
      " 0. 0. 1. 0. 1. 0. 0. 1. 1. 0. 1. 1. 0. 0. 0. 0. 1. 1. 0. 0. 0. 1. 0. 0.\n",
      " 0. 0. 0. 0. 1. 0. 0. 0. 0. 0. 1. 0. 0. 0. 1. 1. 0. 0. 0. 0. 0. 1. 0. 0.\n",
      " 1. 0. 0. 1. 0. 0. 1. 0. 0. 0. 0. 0. 0. 0. 0. 0. 0. 0. 0. 0. 0. 0. 0. 1.\n",
      " 0. 0. 0. 0. 1. 1. 0. 0. 0. 0. 1. 0. 0. 0. 0. 0. 0. 0. 0. 0. 0. 0. 0. 0.\n",
      " 1. 0. 1. 0. 0. 0. 0. 0. 0. 0. 0. 0. 0. 0. 0. 0. 0. 0. 0. 0. 0. 0. 0. 1.\n",
      " 0. 0. 0. 0. 0. 0. 0. 0. 1. 0. 1. 0. 0. 0. 0. 0. 0. 0. 0. 0. 0. 0. 0. 0.\n",
      " 0. 0. 0. 0. 0. 0. 0. 0. 0. 0. 0. 0. 0. 0. 0. 0. 1. 0. 0. 0. 0. 0. 0. 0.\n",
      " 0. 0. 0. 0. 0. 0. 0. 0. 0. 0. 0. 0. 0. 0. 0. 0. 0. 0. 0. 1. 1. 0. 0. 0.\n",
      " 0. 0. 0. 0. 0. 0. 0. 0. 0. 1. 0. 0. 0. 0. 0. 0. 0. 0. 0. 0. 0. 0. 0. 0.\n",
      " 0. 0. 0. 0. 1. 1. 0. 0. 0. 0. 0. 0. 0. 0. 0. 0. 0. 0. 0. 0. 0. 0. 0. 0.\n",
      " 1. 0. 0. 0. 0. 0. 0. 0. 0. 0. 0. 0. 0. 0. 0. 0. 0. 0. 0. 0. 0. 0. 0. 0.\n",
      " 0. 0. 0. 0. 0. 0. 0. 0. 0. 0. 0. 0. 0. 0. 0. 0. 0. 0. 0. 0. 0. 1. 0. 0.\n",
      " 0. 1. 1. 0. 0. 0. 0. 0. 0. 0. 0. 0. 0. 0. 0. 0. 1. 0. 0. 0. 0. 0. 0. 1.\n",
      " 0. 0. 0. 0. 0. 0. 0. 0. 0. 0. 0. 0. 0. 0. 0. 0. 0. 0. 0. 0. 0. 0. 0. 0.\n",
      " 0. 0. 0. 0. 0. 0. 0. 0. 0. 0. 0. 0. 0. 0. 0. 1. 0. 0. 0. 0. 0. 0. 0. 0.\n",
      " 0. 0. 1. 0. 0. 0. 0. 0. 0. 0. 0. 0. 0. 1. 0. 0. 0. 0. 0. 0. 1. 0. 0. 0.\n",
      " 1. 0. 0. 0. 0. 0. 0. 0. 0. 0. 0. 0. 0. 0. 0. 0. 0. 0. 0. 0. 0. 0. 0. 0.\n",
      " 0. 0. 0. 0. 0. 0. 0. 0. 0. 0. 0. 1. 0. 0. 0. 0. 0. 0. 0. 0. 0. 0. 0. 0.\n",
      " 0. 0. 1. 0. 0. 0. 0. 0. 0. 0. 0. 0. 0. 0. 0. 0. 0. 0. 1. 0. 0. 0. 0. 0.\n",
      " 0. 0. 0. 0. 0. 0. 0. 0. 0. 0. 0. 0. 0. 0. 0. 0. 0. 0. 0. 0. 0. 0. 0. 0.\n",
      " 0. 0. 0. 0. 0. 0. 0. 0. 0. 0. 0. 0. 0. 0. 0. 0. 0. 0. 0. 0. 0. 0. 0. 0.\n",
      " 0. 0. 0. 0. 0. 0. 0. 0. 0. 0. 0. 0. 0. 0. 0. 0. 0. 0. 0. 1. 0. 0. 0. 0.\n",
      " 0. 0. 1. 0. 0. 0. 0. 0. 0. 0. 0. 0. 0. 0. 0. 0. 0. 0. 0. 0. 0. 0. 0. 0.\n",
      " 0. 0. 0. 0. 0. 0. 0. 0. 0. 0. 0. 0. 0. 0. 0. 0. 0. 0. 0. 0. 0. 0. 1. 0.\n",
      " 0. 0. 0. 0. 0. 0. 0. 0. 0. 0. 0. 0. 0. 0. 0. 0. 0. 0. 0. 0. 0. 0. 0. 0.\n",
      " 0. 0. 0. 0. 0. 0. 0. 0. 0. 0. 0. 0. 0. 0. 0. 0. 0. 0. 0. 0. 0. 0. 0. 0.\n",
      " 0. 0. 0. 1. 0. 0. 0. 0. 0. 0. 0. 0. 0. 0. 0. 0. 0. 0. 0. 0. 0. 0. 0. 0.\n",
      " 0. 0. 0. 0. 0. 0. 0. 0. 0. 0. 0. 0. 0. 0. 0. 0. 0. 0. 0. 0. 0. 0. 0. 0.\n",
      " 0. 0. 0. 0. 0. 0. 0. 0. 0. 0. 0. 0. 0. 0. 0. 0. 0. 0. 0. 0. 0. 0. 0. 0.\n",
      " 0. 0. 0. 0. 0. 0. 0. 0. 0. 0. 0. 0. 0. 0. 0. 0. 0. 0. 0. 0. 0. 0. 0. 0.\n",
      " 0. 0. 0. 0. 0. 0. 0. 0. 0. 0. 0. 0. 0. 0. 0. 0. 0. 0. 0. 0. 0. 0. 1. 0.\n",
      " 0. 0. 0. 0. 0. 0. 0. 0. 0. 0. 0. 0. 0. 0. 0. 0. 0. 0. 0. 0. 0. 0. 0. 0.\n",
      " 0. 0. 0. 0. 0. 0. 0. 0. 0. 0. 0. 0. 0. 0. 0. 0. 0. 0. 0. 0. 0. 0. 0. 0.\n",
      " 0. 0. 0. 0. 0. 0. 0. 0. 0. 0. 0. 0. 0. 0. 0. 0. 0. 0. 0. 0. 0. 0. 0. 0.\n",
      " 0. 0. 0. 0. 0. 0. 0. 0. 0. 0. 0. 0. 0. 0. 0. 0. 0. 0. 0. 0. 0. 0. 0. 0.\n",
      " 0. 0. 0. 0. 0. 0. 0. 0. 0. 0. 0. 0. 0. 0. 0. 0. 0. 0. 0. 0. 0. 0. 0. 0.\n",
      " 0. 0. 0. 0. 0. 0. 0. 0. 0. 0. 0. 0. 0. 1. 0. 0. 0. 0. 0. 0. 0. 0. 0. 0.\n",
      " 0. 0. 0. 0. 0. 0. 0. 0. 0. 0. 0. 0. 0. 0. 0. 0.]\n"
     ]
    }
   ],
   "source": [
    "print(X_train_tkn[0])"
   ]
  },
  {
   "cell_type": "markdown",
   "id": "93531167",
   "metadata": {},
   "source": [
    "- epoch : 전체 데이터를 몇번 반복하여 학습 시킬 것인가 \n",
    "- verbose : 훈련 과정에 대한 정보를 표시 할 것인가\n",
    "- batch_size : 모델 파라미터를 업데이트 하기 위해 네트워크를 통과 시키는 샘플의 수\n",
    "- validation_date : 검증용 데이터 (validation_split 을 사용하면 훈련 데이터에서 검증용으로 사용할 데이터 비율 결정 가능)\n"
   ]
  },
  {
   "cell_type": "code",
   "execution_count": 12,
   "id": "beec84a5",
   "metadata": {},
   "outputs": [
    {
     "name": "stdout",
     "output_type": "stream",
     "text": [
      "Epoch 1/3\n",
      "106/250 [===========>..................] - ETA: 0s - loss: 0.5286 - accuracy: 0.7557"
     ]
    },
    {
     "name": "stderr",
     "output_type": "stream",
     "text": [
      "2023-09-17 11:04:49.172310: I tensorflow/stream_executor/cuda/cuda_blas.cc:1614] TensorFloat-32 will be used for the matrix multiplication. This will only be logged once.\n"
     ]
    },
    {
     "name": "stdout",
     "output_type": "stream",
     "text": [
      "250/250 [==============================] - 1s 3ms/step - loss: 0.4310 - accuracy: 0.8098 - val_loss: 0.3330 - val_accuracy: 0.8601\n",
      "Epoch 2/3\n",
      "250/250 [==============================] - 0s 2ms/step - loss: 0.3240 - accuracy: 0.8646 - val_loss: 0.3283 - val_accuracy: 0.8609\n",
      "Epoch 3/3\n",
      "250/250 [==============================] - 0s 2ms/step - loss: 0.3140 - accuracy: 0.8681 - val_loss: 0.3286 - val_accuracy: 0.8603\n"
     ]
    }
   ],
   "source": [
    "# 신경망 모델을 만듭니다.\n",
    "model = models.Sequential()\n",
    "\n",
    "# 렐루 활성화 함수를 사용한 완전 연결 층을 추가합니다.\n",
    "model.add(layers.Dense(units=16, \n",
    "                      activation='relu',\n",
    "                      input_shape=(number_of_features,)))\n",
    "model.add(layers.Dense(units=16, activation='relu'))\n",
    "\n",
    "# 시그모이드 활성화 함수를 사용한 완전 연결 층을 추가합니다.\n",
    "model.add(layers.Dense(units=1, activation='sigmoid'))\n",
    "\n",
    "# 신경망의 모델 설정을 완료합니다.\n",
    "model.compile(loss='binary_crossentropy', \n",
    "             optimizer='rmsprop',\n",
    "             metrics=['accuracy'])\n",
    "\n",
    "# 신경망을 훈련합니다.\n",
    "history = model.fit(X_train_tkn, y_train, epochs=3,\n",
    "                   verbose=1, batch_size=100, \n",
    "                   validation_data=(X_test_tkn, y_test))"
   ]
  },
  {
   "cell_type": "markdown",
   "id": "018d1101",
   "metadata": {},
   "source": [
    "- evaluate 를 통해, 검증용 데이터셋에 대해 모델의 손실과 정확도를 구할 수 있다."
   ]
  },
  {
   "cell_type": "code",
   "execution_count": 13,
   "id": "2b23f627",
   "metadata": {
    "scrolled": true
   },
   "outputs": [
    {
     "name": "stdout",
     "output_type": "stream",
     "text": [
      "782/782 [==============================] - 1s 698us/step - loss: 0.3286 - accuracy: 0.8603\n"
     ]
    },
    {
     "data": {
      "text/plain": [
       "[0.3286482095718384, 0.860319972038269]"
      ]
     },
     "execution_count": 13,
     "metadata": {},
     "output_type": "execute_result"
    }
   ],
   "source": [
    "model.evaluate(X_test_tkn, y_test)"
   ]
  },
  {
   "cell_type": "markdown",
   "id": "7ca26c79",
   "metadata": {},
   "source": [
    "# 다중 분류기 훈련하기\n",
    "- 로이터 뉴스 데이터\n",
    "    - 11,228개의 뉴스, 46개의 토픽\n",
    "    - 5000개의 이진 특성으로 변환\n",
    "    - 46 중 어느 토픽에 속하는가 (출력 클래스는 46개)"
   ]
  },
  {
   "cell_type": "code",
   "execution_count": 14,
   "id": "c8e45579",
   "metadata": {},
   "outputs": [
    {
     "name": "stdout",
     "output_type": "stream",
     "text": [
      "Epoch 1/3\n",
      "90/90 [==============================] - 0s 3ms/step - loss: 1.5342 - accuracy: 0.6735 - val_loss: 1.1141 - val_accuracy: 0.7498\n",
      "Epoch 2/3\n",
      "90/90 [==============================] - 0s 2ms/step - loss: 0.7877 - accuracy: 0.8241 - val_loss: 0.9529 - val_accuracy: 0.7752\n",
      "Epoch 3/3\n",
      "90/90 [==============================] - 0s 2ms/step - loss: 0.5060 - accuracy: 0.8898 - val_loss: 0.8864 - val_accuracy: 0.7947\n"
     ]
    }
   ],
   "source": [
    "import numpy as np\n",
    "from tensorflow.keras.datasets import reuters\n",
    "from tensorflow.keras.utils import to_categorical\n",
    "from tensorflow.keras import models, layers\n",
    "from tensorflow.keras.preprocessing.text import Tokenizer\n",
    "\n",
    "# 랜덤 시드를 설정합니다.\n",
    "np.random.seed(0)\n",
    "\n",
    "# 필요한 특성 개수를 지정합니다.\n",
    "number_of_features = 5000\n",
    "\n",
    "\n",
    "# 특성과 타깃 데이터를 로드합니다.\n",
    "(X_train, y_train), (X_test, y_test) = reuters.load_data(num_words=number_of_features)\n",
    "\n",
    "# 특성 데이터를 원-핫 인코딩된 특성 행렬로 변환합니다.\n",
    "tokenizer = Tokenizer(num_words=number_of_features)\n",
    "X_train = tokenizer.sequences_to_matrix(X_train, mode='binary')\n",
    "X_test = tokenizer.sequences_to_matrix(X_test, mode='binary')\n",
    "\n",
    "# 타깃 벡터를 원-핫 인코딩하여 타깃 행렬을 만듭니다.\n",
    "y_train = to_categorical(y_train)\n",
    "y_test = to_categorical(y_test)\n",
    "\n",
    "\n",
    "# 신경망 모델을 만듭니다.\n",
    "net = models.Sequential()\n",
    "\n",
    "\n",
    "# 렐루 활성화 함수를 사용한 완전 연결 층을 추가합니다.\n",
    "net.add(layers.Dense(units=100, \n",
    "                    activation='relu',\n",
    "                    input_shape = (number_of_features, )))\n",
    "net.add(layers.Dense(units=100, activation='relu'))\n",
    "\n",
    "# 소프트맥스 활성화 함수를 사용하는 완전 연결 층을 추가합니다.\n",
    "net.add(layers.Dense(units=46, activation='softmax'))\n",
    "\n",
    "# 신경망의 모델 설정을 완료합니다.\n",
    "# 다중 분류에 맞는 크로스엔트로피 손실 함수 사용\n",
    "net.compile(loss='categorical_crossentropy',\n",
    "           optimizer='rmsprop',\n",
    "           metrics=['accuracy'])\n",
    "\n",
    "\n",
    "# 신경망을 훈련합니다.\n",
    "histroy = net.fit(X_train, y_train, epochs=3,\n",
    "                 verbose=1, batch_size=100,\n",
    "                 validation_data=(X_test, y_test))"
   ]
  },
  {
   "cell_type": "code",
   "execution_count": 15,
   "id": "2cba2615",
   "metadata": {},
   "outputs": [
    {
     "data": {
      "text/plain": [
       "array([[0., 0., 0., ..., 0., 0., 0.],\n",
       "       [0., 0., 0., ..., 0., 0., 0.],\n",
       "       [0., 0., 0., ..., 0., 0., 0.],\n",
       "       ...,\n",
       "       [0., 0., 0., ..., 0., 0., 0.],\n",
       "       [0., 0., 0., ..., 0., 0., 0.],\n",
       "       [0., 0., 0., ..., 0., 0., 0.]], dtype=float32)"
      ]
     },
     "execution_count": 15,
     "metadata": {},
     "output_type": "execute_result"
    }
   ],
   "source": [
    "# 타깃 행렬을 확인합니다.\n",
    "y_train"
   ]
  },
  {
   "cell_type": "code",
   "execution_count": 16,
   "id": "ac3b63da",
   "metadata": {},
   "outputs": [
    {
     "data": {
      "text/plain": [
       "(8982, 46)"
      ]
     },
     "execution_count": 16,
     "metadata": {},
     "output_type": "execute_result"
    }
   ],
   "source": [
    "y_train.shape"
   ]
  },
  {
   "cell_type": "markdown",
   "id": "11b54130",
   "metadata": {},
   "source": [
    "# 회귀 모델 훈련하기\n",
    "- 출력층의 활성화 함수를 제거 하면 회귀를 위한 연속적인 값 출력 가능\n",
    "- 회귀 모델을 위한 평가를 위해 손실함수와 평가 지표가 있어야\n",
    "- 평균 제곱 오차\n",
    "    - $MSE = \\frac{1}{n}\\sum_{i=1}^{n}(\\hat{y}_i - y_i)^2$\n",
    "    - $n$ : 샘플 개수, $y_i$ : 예측 하려는 진짜 타깃값인 샘플 i에 대한 y값, $\\hat{y}_i$ : $y_i$ 에 대한 모델 예측값\n",
    "- 주의 : make_regression을 사용하여 데이터를 표준화가 필요 없으나 실제로는 해줘야 하는 경우가 있음."
   ]
  },
  {
   "cell_type": "code",
   "execution_count": 17,
   "id": "91289a5d",
   "metadata": {},
   "outputs": [
    {
     "name": "stdout",
     "output_type": "stream",
     "text": [
      "Epoch 1/10\n",
      "67/67 [==============================] - 0s 2ms/step - loss: 17354.6719 - mse: 17354.6719 - val_loss: 17746.0645 - val_mse: 17746.0645\n",
      "Epoch 2/10\n",
      "67/67 [==============================] - 0s 1ms/step - loss: 16537.7832 - mse: 16537.7832 - val_loss: 16519.7754 - val_mse: 16519.7754\n",
      "Epoch 3/10\n",
      "67/67 [==============================] - 0s 1ms/step - loss: 14931.2979 - mse: 14931.2979 - val_loss: 14389.7432 - val_mse: 14389.7402\n",
      "Epoch 4/10\n",
      "67/67 [==============================] - 0s 1ms/step - loss: 12475.1797 - mse: 12475.1797 - val_loss: 11467.7051 - val_mse: 11467.7051\n",
      "Epoch 5/10\n",
      "67/67 [==============================] - 0s 1ms/step - loss: 9396.4707 - mse: 9396.4707 - val_loss: 8109.6636 - val_mse: 8109.6636\n",
      "Epoch 6/10\n",
      "67/67 [==============================] - 0s 1ms/step - loss: 6249.8140 - mse: 6249.8140 - val_loss: 5000.0435 - val_mse: 5000.0435\n",
      "Epoch 7/10\n",
      "67/67 [==============================] - 0s 1ms/step - loss: 3674.6204 - mse: 3674.6204 - val_loss: 2880.4578 - val_mse: 2880.4578\n",
      "Epoch 8/10\n",
      "67/67 [==============================] - 0s 1ms/step - loss: 2020.1406 - mse: 2020.1406 - val_loss: 1432.6000 - val_mse: 1432.6000\n",
      "Epoch 9/10\n",
      "67/67 [==============================] - 0s 1ms/step - loss: 916.1900 - mse: 916.1900 - val_loss: 594.3549 - val_mse: 594.3549\n",
      "Epoch 10/10\n",
      "67/67 [==============================] - 0s 1ms/step - loss: 437.9173 - mse: 437.9173 - val_loss: 329.7040 - val_mse: 329.7040\n"
     ]
    }
   ],
   "source": [
    "import numpy as np\n",
    "from tensorflow.keras.preprocessing.text import Tokenizer\n",
    "from tensorflow.keras import models, layers\n",
    "from sklearn.datasets import make_regression\n",
    "from sklearn.model_selection import train_test_split\n",
    "from sklearn import preprocessing\n",
    "\n",
    "np.random.seed(0)\n",
    "\n",
    "\n",
    "# 특성 행렬과 타깃 벡터를 만듭니다.\n",
    "X, y = make_regression(n_samples=10000, \n",
    "                      n_features=3,\n",
    "                      n_informative=3, #모델이 생성하는 출력에 영향을 주는 실제 유용한 특성의 수\n",
    "                      n_targets=1, \n",
    "                      noise=0.0,\n",
    "                      random_state=0)\n",
    "\n",
    "# 데이터를 훈련 세트와 테스트 세트로 나눕니다.\n",
    "X_train, X_test, y_train, y_test = train_test_split(X, y, random_state=0, test_size=0.33)\n",
    "\n",
    "# 신경망 모델을 만듭니다.\n",
    "net = models.Sequential()\n",
    "\n",
    "\n",
    "# 렐루 활성화 함수를 사용한 완전 연결 층을 추가합니다.\n",
    "net.add(layers.Dense(units=32, \n",
    "                    activation='relu',\n",
    "                    input_shape=(X_train.shape[1], )))\n",
    "\n",
    "net.add(layers.Dense(units=32, activation='relu'))\n",
    "\n",
    "\n",
    "# 활성화 함수가 없는 완전 연결층을 추가합니다.\n",
    "net.add(layers.Dense(units=1))\n",
    "\n",
    "# 신경망의 모델 설정을 완료합니다.\n",
    "net.compile(loss='mse', # 평균 제곱 오차\n",
    "           optimizer='RMSprop',# 옵티마이저\n",
    "           metrics=['mse']) # 성능 지표\n",
    "\n",
    "\n",
    "# 신경망을 훈련합니다.\n",
    "history = net.fit(X_train, y_train, epochs=10, \n",
    "                 verbose=1, batch_size=100, \n",
    "                 validation_data=(X_test, y_test))"
   ]
  },
  {
   "cell_type": "markdown",
   "id": "3372f0dd",
   "metadata": {},
   "source": [
    "# 예측하기\n",
    "- 모델의 predict 메서드로 각 샘플의 예측값 반환\n",
    "- 테스트 세트의 특성 행렬에서, 클래스 1이 될 확률"
   ]
  },
  {
   "cell_type": "code",
   "execution_count": 18,
   "id": "906d34e5",
   "metadata": {},
   "outputs": [
    {
     "name": "stdout",
     "output_type": "stream",
     "text": [
      "782/782 [==============================] - 1s 692us/step\n"
     ]
    }
   ],
   "source": [
    "import numpy as np\n",
    "from tensorflow.keras.datasets import imdb\n",
    "from tensorflow.keras.preprocessing.text import Tokenizer\n",
    "from tensorflow.keras import models, layers\n",
    "\n",
    "np.random.seed(0)\n",
    "\n",
    "# 필요한 특성 개수를 지정합니다.\n",
    "number_of_features = 10000\n",
    "\n",
    "\n",
    "# IMDB 영화 데이터에서 훈련 데이터와 타깃 벡터를 로드합니다.\n",
    "(X_train, y_train), (X_test, y_test) = imdb.load_data(num_words = number_of_features)\n",
    "\n",
    "# IMDB 데이터를 원-핫 인코딩된 특성 행렬로 변환합니다.\n",
    "tokenizer = Tokenizer(num_words=number_of_features)\n",
    "X_train = tokenizer.sequences_to_matrix(X_train, mode='binary')\n",
    "X_test = tokenizer.sequences_to_matrix(X_test, mode='binary')\n",
    "\n",
    "\n",
    "# 신경망 모델을 만듭니다.\n",
    "net = models.Sequential()\n",
    "\n",
    "# 렐루 활성화 함수를 사용한 완전 연결 층을 추가합니다.\n",
    "net.add(layers.Dense(units=16, \n",
    "                    activation='relu',\n",
    "                    input_shape=(number_of_features, )))\n",
    "net.add(layers.Dense(units=16, activation='relu'))\n",
    "\n",
    "\n",
    "# 시그모이드 활성화 함수를 사용한 완전 연결 층을 추가합니다.\n",
    "net.add(layers.Dense(units=1, activation='sigmoid'))\n",
    "\n",
    "# 신경망의 모델 설정을 완료합니다.\n",
    "net.compile(loss='binary_crossentropy', \n",
    "           optimizer='rmsprop',\n",
    "           metrics=['accuracy'])\n",
    "\n",
    "# 신경망을 훈련합니다.\n",
    "history = net.fit(X_train, y_train, epochs=10, \n",
    "                 verbose=0, batch_size=100, \n",
    "                 validation_data=(X_test, y_test))\n",
    "\n",
    "# 테스트 세트의 클래스를 예측합니다.\n",
    "predicted_target = net.predict(X_test)"
   ]
  },
  {
   "cell_type": "code",
   "execution_count": 19,
   "id": "dbdb22d4",
   "metadata": {},
   "outputs": [
    {
     "data": {
      "text/plain": [
       "array([0.0491729], dtype=float32)"
      ]
     },
     "execution_count": 19,
     "metadata": {},
     "output_type": "execute_result"
    }
   ],
   "source": [
    "# 첫번째 예측 결과, 1이 될 확률\n",
    "predicted_target[0]"
   ]
  },
  {
   "cell_type": "code",
   "execution_count": 20,
   "id": "ce73565f",
   "metadata": {},
   "outputs": [],
   "source": [
    "# 1이 될 확률이 0.5 보다 크면 1 아니면 0으로 \n",
    "y_pred = np.where((predicted_target > 0.5), 1, 0)"
   ]
  },
  {
   "cell_type": "code",
   "execution_count": 21,
   "id": "2a45b7e8",
   "metadata": {},
   "outputs": [
    {
     "data": {
      "text/plain": [
       "0.8457703174339372"
      ]
     },
     "execution_count": 21,
     "metadata": {},
     "output_type": "execute_result"
    }
   ],
   "source": [
    "from sklearn.metrics import f1_score\n",
    "\n",
    "# f1 스코어 계산\n",
    "f1_score(y_test, y_pred)"
   ]
  },
  {
   "cell_type": "markdown",
   "id": "beef0af6",
   "metadata": {},
   "source": [
    "# 훈련 기록 시각화하기"
   ]
  },
  {
   "cell_type": "code",
   "execution_count": 6,
   "id": "f1c131dd",
   "metadata": {},
   "outputs": [],
   "source": [
    "import numpy as np\n",
    "from tensorflow.keras.datasets import imdb\n",
    "from tensorflow.keras.preprocessing.text import Tokenizer\n",
    "from tensorflow.keras import models, layers\n",
    "import matplotlib.pyplot as plt\n",
    "\n",
    "np.random.seed(0)\n",
    "\n",
    "# 필요한 특성 개수를 지정합니다.\n",
    "number_of_features = 10000\n",
    "\n",
    "\n",
    "# IMDB 영화 데이터에서 훈련 데이터와 타깃 벡터를 로드합니다.\n",
    "(X_train, y_train), (X_test, y_test) = imdb.load_data(num_words = number_of_features)\n",
    "\n",
    "# IMDB 데이터를 원-핫 인코딩된 특성 행렬로 변환합니다.\n",
    "tokenizer = Tokenizer(num_words=number_of_features)\n",
    "X_train = tokenizer.sequences_to_matrix(X_train, mode='binary')\n",
    "X_test = tokenizer.sequences_to_matrix(X_test, mode='binary')\n",
    "\n",
    "\n",
    "# 신경망 모델을 만듭니다.\n",
    "net = models.Sequential()\n",
    "\n",
    "# 렐루 활성화 함수를 사용한 완전 연결 층을 추가합니다.\n",
    "net.add(layers.Dense(units=16, \n",
    "                    activation='relu',\n",
    "                    input_shape=(number_of_features, )))\n",
    "net.add(layers.Dense(units=16, activation='relu'))\n",
    "\n",
    "\n",
    "# 시그모이드 활성화 함수를 사용한 완전 연결 층을 추가합니다.\n",
    "net.add(layers.Dense(units=1, activation='sigmoid'))\n",
    "\n",
    "# 신경망의 모델 설정을 완료합니다.\n",
    "net.compile(loss='binary_crossentropy', \n",
    "           optimizer='rmsprop',\n",
    "           metrics=['accuracy'])\n",
    "\n",
    "# 신경망을 훈련합니다.\n",
    "history = net.fit(X_train, y_train, epochs=30, \n",
    "                 verbose=0, batch_size=1000, \n",
    "                 validation_data=(X_test, y_test))"
   ]
  },
  {
   "cell_type": "code",
   "execution_count": 7,
   "id": "e2785d23",
   "metadata": {},
   "outputs": [
    {
     "data": {
      "image/png": "[encoded data removed]",
      "text/plain": [
       "<Figure size 640x480 with 1 Axes>"
      ]
     },
     "metadata": {},
     "output_type": "display_data"
    }
   ],
   "source": [
    "# 훈련 손실과 테스트 손실의 기록을 저장합니다.\n",
    "training_loss = history.history[\"loss\"]\n",
    "test_loss = history.history[\"val_loss\"]\n",
    "\n",
    "# 에포크 횟수를 사용해 카운트 객체를 만듭니다.\n",
    "epoch_count = range(1, len(training_loss) + 1)\n",
    "\n",
    "# 손실 값의 기록을 시각화합니다.\n",
    "plt.plot(epoch_count, training_loss, \"r--\")\n",
    "plt.plot(epoch_count, test_loss, \"b-\")\n",
    "plt.legend([\"Training Loss\", \"Test Loss\"])\n",
    "plt.xlabel(\"Epoch\")\n",
    "plt.ylabel(\"Loss\")\n",
    "plt.show()"
   ]
  },
  {
   "cell_type": "markdown",
   "id": "77efecd6",
   "metadata": {},
   "source": [
    "- 과적합 발생"
   ]
  },
  {
   "cell_type": "code",
   "execution_count": 8,
   "id": "64f5fb92",
   "metadata": {},
   "outputs": [
    {
     "data": {
      "image/png": "[encoded data removed]",
      "text/plain": [
       "<Figure size 640x480 with 1 Axes>"
      ]
     },
     "metadata": {},
     "output_type": "display_data"
    }
   ],
   "source": [
    "# 훈련 정확도와 테스트 정확도 기록을 저장합니다.\n",
    "training_accuracy = history.history[\"accuracy\"]\n",
    "test_accuracy = history.history[\"val_accuracy\"]\n",
    "plt.plot(epoch_count, training_accuracy, \"r--\")\n",
    "plt.plot(epoch_count, test_accuracy, \"b-\")\n",
    "\n",
    "# 정확도 그래프를 그립니다.\n",
    "plt.legend([\"Training Accuracy\", \"Test Accuracy\"])\n",
    "plt.xlabel(\"Epoch\")\n",
    "plt.ylabel(\"Accuracy Score\")\n",
    "plt.show();"
   ]
  },
  {
   "cell_type": "markdown",
   "id": "01b3d871",
   "metadata": {},
   "source": [
    "# 가중치 규제로 과대적합 줄이기\n",
    "- 신경망의 모델 파라미터(즉 가중치)가 작은 값을 갖도록 제한\n",
    "- 가중치 규제 혹은 가중치 감소(weight decay)\n",
    "- L1, L2, 엘라스틱넷 등 "
   ]
  },
  {
   "cell_type": "code",
   "execution_count": 7,
   "id": "1c81e549",
   "metadata": {},
   "outputs": [],
   "source": [
    "import numpy as np\n",
    "from tensorflow.keras import models, layers\n",
    "from tensorflow.keras.datasets import imdb\n",
    "from tensorflow.keras.preprocessing.text import Tokenizer\n",
    "from tensorflow.keras.regularizers import l1_l2\n",
    "\n",
    "np.random.seed(0)\n",
    "\n",
    "# 필요한 특성 개수를 지정합니다.\n",
    "number_of_features = 10000\n",
    "\n",
    "\n",
    "# IMDB 영화 데이터에서 훈련 데이터와 타깃 벡터를 로드합니다.\n",
    "(X_train, y_train), (X_test, y_test) = imdb.load_data(num_words = number_of_features)\n",
    "\n",
    "# IMDB 데이터를 원-핫 인코딩된 특성 행렬로 변환합니다.\n",
    "tokenizer = Tokenizer(num_words=number_of_features)\n",
    "X_train = tokenizer.sequences_to_matrix(X_train, mode='binary')\n",
    "X_test = tokenizer.sequences_to_matrix(X_test, mode='binary')\n",
    "\n",
    "\n",
    "# 신경망 모델을 만듭니다.\n",
    "net = models.Sequential()\n",
    "\n",
    "# 렐루 활성화 함수를 사용한 완전 연결 층을 추가합니다.\n",
    "net.add(layers.Dense(units=16, \n",
    "                    activation='relu',\n",
    "                    kernel_regularizer=l1_l2(l1=0.01, l2=0.01), # 엘라스틱 넷 페널티, 기본 값은 모두 0.01\n",
    "                    input_shape=(number_of_features, )))\n",
    "net.add(layers.Dense(units=16, activation='relu'))\n",
    "\n",
    "\n",
    "# 시그모이드 활성화 함수를 사용한 완전 연결 층을 추가합니다.\n",
    "net.add(layers.Dense(units=1, activation='sigmoid'))\n",
    "\n",
    "# 신경망의 모델 설정을 완료합니다.\n",
    "net.compile(loss='binary_crossentropy', \n",
    "           optimizer='rmsprop',\n",
    "           metrics=['accuracy'])\n",
    "\n",
    "# 신경망을 훈련합니다.\n",
    "history = net.fit(X_train, y_train, epochs=30, \n",
    "                 verbose=0, batch_size=1000, \n",
    "                 validation_data=(X_test, y_test))"
   ]
  },
  {
   "cell_type": "code",
   "execution_count": 9,
   "id": "5ae9ebda",
   "metadata": {},
   "outputs": [
    {
     "data": {
      "image/png": "[encoded data removed]",
      "text/plain": [
       "<Figure size 640x480 with 1 Axes>"
      ]
     },
     "metadata": {},
     "output_type": "display_data"
    }
   ],
   "source": [
    "import matplotlib.pyplot as plt\n",
    "\n",
    "# 훈련 손실과 테스트 손실의 기록을 저장합니다.\n",
    "training_loss = history.history[\"loss\"]\n",
    "test_loss = history.history[\"val_loss\"]\n",
    "\n",
    "# 에포크 횟수를 사용해 카운트 객체를 만듭니다.\n",
    "epoch_count = range(1, len(training_loss) + 1)\n",
    "\n",
    "# 손실 값의 기록을 시각화합니다.\n",
    "plt.plot(epoch_count, training_loss, \"r--\")\n",
    "plt.plot(epoch_count, test_loss, \"b-\")\n",
    "plt.legend([\"Training Loss\", \"Test Loss\"])\n",
    "plt.xlabel(\"Epoch\")\n",
    "plt.ylabel(\"Loss\")\n",
    "plt.show()"
   ]
  },
  {
   "cell_type": "code",
   "execution_count": 10,
   "id": "b4823ab7",
   "metadata": {},
   "outputs": [
    {
     "data": {
      "image/png": "[encoded data removed]",
      "text/plain": [
       "<Figure size 640x480 with 1 Axes>"
      ]
     },
     "metadata": {},
     "output_type": "display_data"
    }
   ],
   "source": [
    "# 훈련 정확도와 테스트 정확도 기록을 저장합니다.\n",
    "training_accuracy = history.history[\"accuracy\"]\n",
    "test_accuracy = history.history[\"val_accuracy\"]\n",
    "plt.plot(epoch_count, training_accuracy, \"r--\")\n",
    "plt.plot(epoch_count, test_accuracy, \"b-\")\n",
    "\n",
    "# 정확도 그래프를 그립니다.\n",
    "plt.legend([\"Training Accuracy\", \"Test Accuracy\"])\n",
    "plt.xlabel(\"Epoch\")\n",
    "plt.ylabel(\"Accuracy Score\")\n",
    "plt.show();"
   ]
  },
  {
   "cell_type": "markdown",
   "id": "00a0409c",
   "metadata": {},
   "source": [
    "# 조기종료로 과대적합 줄이기\n",
    "- 과대적합\n",
    "    - 훈련 초기에는 훈련 오차와 테스트 오차가 감소\n",
    "    - 어떤 지점 이후로는 네트워크가 훈련 데이터를 다 학습해 버림\n",
    "    - 따라서 훈련 오차는 감소하지만, 테스트 오차는 증가 시작\n",
    "- 조기 종료 전략\n",
    "    - 훈련 과정을 감시하여, 테스트 오차가 증가하면 훈련을 점추는 것\n",
    "- EarlyStopping로 조기 종료 구현\n",
    "    - monitor : 어떤 값을 볼 것인가\n",
    "    - patience : 몇번의 에폭 동한 모니터링 하는 값이 향상 되지 않으면 멈출 것인가\n",
    "- ModelCheckpoint\n",
    "    - 에폭마다 파일에 저장\n",
    "    - save_best_only : 가장 우수한 모델만 저장"
   ]
  },
  {
   "cell_type": "code",
   "execution_count": 1,
   "id": "41eccc03",
   "metadata": {},
   "outputs": [
    {
     "name": "stderr",
     "output_type": "stream",
     "text": [
      "2023-10-07 16:59:17.541431: I tensorflow/core/platform/cpu_feature_guard.cc:193] This TensorFlow binary is optimized with oneAPI Deep Neural Network Library (oneDNN) to use the following CPU instructions in performance-critical operations:  AVX2 FMA\n",
      "To enable them in other operations, rebuild TensorFlow with the appropriate compiler flags.\n"
     ]
    },
    {
     "ename": "TypeError",
     "evalue": "Descriptors cannot not be created directly.\nIf this call came from a _pb2.py file, your generated code is out of date and must be regenerated with protoc >= 3.19.0.\nIf you cannot immediately regenerate your protos, some other possible workarounds are:\n 1. Downgrade the protobuf package to 3.20.x or lower.\n 2. Set PROTOCOL_BUFFERS_PYTHON_IMPLEMENTATION=python (but this will use pure-Python parsing and will be much slower).\n\nMore information: https://developers.google.com/protocol-buffers/docs/news/2022-05-06#python-updates",
     "output_type": "error",
     "traceback": [
      "\u001b[0;31m---------------------------------------------------------------------------\u001b[0m",
      "\u001b[0;31mTypeError\u001b[0m                                 Traceback (most recent call last)",
      "Cell \u001b[0;32mIn[1], line 2\u001b[0m\n\u001b[1;32m      1\u001b[0m \u001b[38;5;28;01mimport\u001b[39;00m \u001b[38;5;21;01mnumpy\u001b[39;00m \u001b[38;5;28;01mas\u001b[39;00m \u001b[38;5;21;01mnp\u001b[39;00m\n\u001b[0;32m----> 2\u001b[0m \u001b[38;5;28;01mfrom\u001b[39;00m \u001b[38;5;21;01mtensorflow\u001b[39;00m\u001b[38;5;21;01m.\u001b[39;00m\u001b[38;5;21;01mkeras\u001b[39;00m \u001b[38;5;28;01mimport\u001b[39;00m models, layers\n\u001b[1;32m      3\u001b[0m \u001b[38;5;28;01mfrom\u001b[39;00m \u001b[38;5;21;01mtensorflow\u001b[39;00m\u001b[38;5;21;01m.\u001b[39;00m\u001b[38;5;21;01mkeras\u001b[39;00m\u001b[38;5;21;01m.\u001b[39;00m\u001b[38;5;21;01mdatasets\u001b[39;00m \u001b[38;5;28;01mimport\u001b[39;00m imdb\n\u001b[1;32m      4\u001b[0m \u001b[38;5;28;01mfrom\u001b[39;00m \u001b[38;5;21;01mtensorflow\u001b[39;00m\u001b[38;5;21;01m.\u001b[39;00m\u001b[38;5;21;01mkeras\u001b[39;00m\u001b[38;5;21;01m.\u001b[39;00m\u001b[38;5;21;01mpreprocessing\u001b[39;00m\u001b[38;5;21;01m.\u001b[39;00m\u001b[38;5;21;01mtext\u001b[39;00m \u001b[38;5;28;01mimport\u001b[39;00m Tokenizer\n",
      "File \u001b[0;32m~/.local/lib/python3.10/site-packages/tensorflow/__init__.py:37\u001b[0m\n\u001b[1;32m     34\u001b[0m \u001b[38;5;28;01mimport\u001b[39;00m \u001b[38;5;21;01msys\u001b[39;00m \u001b[38;5;28;01mas\u001b[39;00m \u001b[38;5;21;01m_sys\u001b[39;00m\n\u001b[1;32m     35\u001b[0m \u001b[38;5;28;01mimport\u001b[39;00m \u001b[38;5;21;01mtyping\u001b[39;00m \u001b[38;5;28;01mas\u001b[39;00m \u001b[38;5;21;01m_typing\u001b[39;00m\n\u001b[0;32m---> 37\u001b[0m \u001b[38;5;28;01mfrom\u001b[39;00m \u001b[38;5;21;01mtensorflow\u001b[39;00m\u001b[38;5;21;01m.\u001b[39;00m\u001b[38;5;21;01mpython\u001b[39;00m\u001b[38;5;21;01m.\u001b[39;00m\u001b[38;5;21;01mtools\u001b[39;00m \u001b[38;5;28;01mimport\u001b[39;00m module_util \u001b[38;5;28;01mas\u001b[39;00m _module_util\n\u001b[1;32m     38\u001b[0m \u001b[38;5;28;01mfrom\u001b[39;00m \u001b[38;5;21;01mtensorflow\u001b[39;00m\u001b[38;5;21;01m.\u001b[39;00m\u001b[38;5;21;01mpython\u001b[39;00m\u001b[38;5;21;01m.\u001b[39;00m\u001b[38;5;21;01mutil\u001b[39;00m\u001b[38;5;21;01m.\u001b[39;00m\u001b[38;5;21;01mlazy_loader\u001b[39;00m \u001b[38;5;28;01mimport\u001b[39;00m LazyLoader \u001b[38;5;28;01mas\u001b[39;00m _LazyLoader\n\u001b[1;32m     40\u001b[0m \u001b[38;5;66;03m# Make sure code inside the TensorFlow codebase can use tf2.enabled() at import.\u001b[39;00m\n",
      "File \u001b[0;32m~/.local/lib/python3.10/site-packages/tensorflow/python/__init__.py:37\u001b[0m\n\u001b[1;32m     29\u001b[0m \u001b[38;5;66;03m# We aim to keep this file minimal and ideally remove completely.\u001b[39;00m\n\u001b[1;32m     30\u001b[0m \u001b[38;5;66;03m# If you are adding a new file with @tf_export decorators,\u001b[39;00m\n\u001b[1;32m     31\u001b[0m \u001b[38;5;66;03m# import it in modules_with_exports.py instead.\u001b[39;00m\n\u001b[1;32m     32\u001b[0m \n\u001b[1;32m     33\u001b[0m \u001b[38;5;66;03m# go/tf-wildcard-import\u001b[39;00m\n\u001b[1;32m     34\u001b[0m \u001b[38;5;66;03m# pylint: disable=wildcard-import,g-bad-import-order,g-import-not-at-top\u001b[39;00m\n\u001b[1;32m     36\u001b[0m \u001b[38;5;28;01mfrom\u001b[39;00m \u001b[38;5;21;01mtensorflow\u001b[39;00m\u001b[38;5;21;01m.\u001b[39;00m\u001b[38;5;21;01mpython\u001b[39;00m \u001b[38;5;28;01mimport\u001b[39;00m pywrap_tensorflow \u001b[38;5;28;01mas\u001b[39;00m _pywrap_tensorflow\n\u001b[0;32m---> 37\u001b[0m \u001b[38;5;28;01mfrom\u001b[39;00m \u001b[38;5;21;01mtensorflow\u001b[39;00m\u001b[38;5;21;01m.\u001b[39;00m\u001b[38;5;21;01mpython\u001b[39;00m\u001b[38;5;21;01m.\u001b[39;00m\u001b[38;5;21;01meager\u001b[39;00m \u001b[38;5;28;01mimport\u001b[39;00m context\n\u001b[1;32m     39\u001b[0m \u001b[38;5;66;03m# pylint: enable=wildcard-import\u001b[39;00m\n\u001b[1;32m     40\u001b[0m \n\u001b[1;32m     41\u001b[0m \u001b[38;5;66;03m# Bring in subpackages.\u001b[39;00m\n\u001b[1;32m     42\u001b[0m \u001b[38;5;28;01mfrom\u001b[39;00m \u001b[38;5;21;01mtensorflow\u001b[39;00m\u001b[38;5;21;01m.\u001b[39;00m\u001b[38;5;21;01mpython\u001b[39;00m \u001b[38;5;28;01mimport\u001b[39;00m data\n",
      "File \u001b[0;32m~/.local/lib/python3.10/site-packages/tensorflow/python/eager/context.py:28\u001b[0m\n\u001b[1;32m     25\u001b[0m \u001b[38;5;28;01mfrom\u001b[39;00m \u001b[38;5;21;01mabsl\u001b[39;00m \u001b[38;5;28;01mimport\u001b[39;00m logging\n\u001b[1;32m     26\u001b[0m \u001b[38;5;28;01mimport\u001b[39;00m \u001b[38;5;21;01mnumpy\u001b[39;00m \u001b[38;5;28;01mas\u001b[39;00m \u001b[38;5;21;01mnp\u001b[39;00m\n\u001b[0;32m---> 28\u001b[0m \u001b[38;5;28;01mfrom\u001b[39;00m \u001b[38;5;21;01mtensorflow\u001b[39;00m\u001b[38;5;21;01m.\u001b[39;00m\u001b[38;5;21;01mcore\u001b[39;00m\u001b[38;5;21;01m.\u001b[39;00m\u001b[38;5;21;01mframework\u001b[39;00m \u001b[38;5;28;01mimport\u001b[39;00m function_pb2\n\u001b[1;32m     29\u001b[0m \u001b[38;5;28;01mfrom\u001b[39;00m \u001b[38;5;21;01mtensorflow\u001b[39;00m\u001b[38;5;21;01m.\u001b[39;00m\u001b[38;5;21;01mcore\u001b[39;00m\u001b[38;5;21;01m.\u001b[39;00m\u001b[38;5;21;01mprotobuf\u001b[39;00m \u001b[38;5;28;01mimport\u001b[39;00m config_pb2\n\u001b[1;32m     30\u001b[0m \u001b[38;5;28;01mfrom\u001b[39;00m \u001b[38;5;21;01mtensorflow\u001b[39;00m\u001b[38;5;21;01m.\u001b[39;00m\u001b[38;5;21;01mcore\u001b[39;00m\u001b[38;5;21;01m.\u001b[39;00m\u001b[38;5;21;01mprotobuf\u001b[39;00m \u001b[38;5;28;01mimport\u001b[39;00m coordination_config_pb2\n",
      "File \u001b[0;32m~/.local/lib/python3.10/site-packages/tensorflow/core/framework/function_pb2.py:16\u001b[0m\n\u001b[1;32m     11\u001b[0m \u001b[38;5;66;03m# @@protoc_insertion_point(imports)\u001b[39;00m\n\u001b[1;32m     13\u001b[0m _sym_db \u001b[38;5;241m=\u001b[39m _symbol_database\u001b[38;5;241m.\u001b[39mDefault()\n\u001b[0;32m---> 16\u001b[0m \u001b[38;5;28;01mfrom\u001b[39;00m \u001b[38;5;21;01mtensorflow\u001b[39;00m\u001b[38;5;21;01m.\u001b[39;00m\u001b[38;5;21;01mcore\u001b[39;00m\u001b[38;5;21;01m.\u001b[39;00m\u001b[38;5;21;01mframework\u001b[39;00m \u001b[38;5;28;01mimport\u001b[39;00m attr_value_pb2 \u001b[38;5;28;01mas\u001b[39;00m tensorflow_dot_core_dot_framework_dot_attr__value__pb2\n\u001b[1;32m     17\u001b[0m \u001b[38;5;28;01mfrom\u001b[39;00m \u001b[38;5;21;01mtensorflow\u001b[39;00m\u001b[38;5;21;01m.\u001b[39;00m\u001b[38;5;21;01mcore\u001b[39;00m\u001b[38;5;21;01m.\u001b[39;00m\u001b[38;5;21;01mframework\u001b[39;00m \u001b[38;5;28;01mimport\u001b[39;00m node_def_pb2 \u001b[38;5;28;01mas\u001b[39;00m tensorflow_dot_core_dot_framework_dot_node__def__pb2\n\u001b[1;32m     18\u001b[0m \u001b[38;5;28;01mfrom\u001b[39;00m \u001b[38;5;21;01mtensorflow\u001b[39;00m\u001b[38;5;21;01m.\u001b[39;00m\u001b[38;5;21;01mcore\u001b[39;00m\u001b[38;5;21;01m.\u001b[39;00m\u001b[38;5;21;01mframework\u001b[39;00m \u001b[38;5;28;01mimport\u001b[39;00m op_def_pb2 \u001b[38;5;28;01mas\u001b[39;00m tensorflow_dot_core_dot_framework_dot_op__def__pb2\n",
      "File \u001b[0;32m~/.local/lib/python3.10/site-packages/tensorflow/core/framework/attr_value_pb2.py:16\u001b[0m\n\u001b[1;32m     11\u001b[0m \u001b[38;5;66;03m# @@protoc_insertion_point(imports)\u001b[39;00m\n\u001b[1;32m     13\u001b[0m _sym_db \u001b[38;5;241m=\u001b[39m _symbol_database\u001b[38;5;241m.\u001b[39mDefault()\n\u001b[0;32m---> 16\u001b[0m \u001b[38;5;28;01mfrom\u001b[39;00m \u001b[38;5;21;01mtensorflow\u001b[39;00m\u001b[38;5;21;01m.\u001b[39;00m\u001b[38;5;21;01mcore\u001b[39;00m\u001b[38;5;21;01m.\u001b[39;00m\u001b[38;5;21;01mframework\u001b[39;00m \u001b[38;5;28;01mimport\u001b[39;00m tensor_pb2 \u001b[38;5;28;01mas\u001b[39;00m tensorflow_dot_core_dot_framework_dot_tensor__pb2\n\u001b[1;32m     17\u001b[0m \u001b[38;5;28;01mfrom\u001b[39;00m \u001b[38;5;21;01mtensorflow\u001b[39;00m\u001b[38;5;21;01m.\u001b[39;00m\u001b[38;5;21;01mcore\u001b[39;00m\u001b[38;5;21;01m.\u001b[39;00m\u001b[38;5;21;01mframework\u001b[39;00m \u001b[38;5;28;01mimport\u001b[39;00m tensor_shape_pb2 \u001b[38;5;28;01mas\u001b[39;00m tensorflow_dot_core_dot_framework_dot_tensor__shape__pb2\n\u001b[1;32m     18\u001b[0m \u001b[38;5;28;01mfrom\u001b[39;00m \u001b[38;5;21;01mtensorflow\u001b[39;00m\u001b[38;5;21;01m.\u001b[39;00m\u001b[38;5;21;01mcore\u001b[39;00m\u001b[38;5;21;01m.\u001b[39;00m\u001b[38;5;21;01mframework\u001b[39;00m \u001b[38;5;28;01mimport\u001b[39;00m types_pb2 \u001b[38;5;28;01mas\u001b[39;00m tensorflow_dot_core_dot_framework_dot_types__pb2\n",
      "File \u001b[0;32m~/.local/lib/python3.10/site-packages/tensorflow/core/framework/tensor_pb2.py:16\u001b[0m\n\u001b[1;32m     11\u001b[0m \u001b[38;5;66;03m# @@protoc_insertion_point(imports)\u001b[39;00m\n\u001b[1;32m     13\u001b[0m _sym_db \u001b[38;5;241m=\u001b[39m _symbol_database\u001b[38;5;241m.\u001b[39mDefault()\n\u001b[0;32m---> 16\u001b[0m \u001b[38;5;28;01mfrom\u001b[39;00m \u001b[38;5;21;01mtensorflow\u001b[39;00m\u001b[38;5;21;01m.\u001b[39;00m\u001b[38;5;21;01mcore\u001b[39;00m\u001b[38;5;21;01m.\u001b[39;00m\u001b[38;5;21;01mframework\u001b[39;00m \u001b[38;5;28;01mimport\u001b[39;00m resource_handle_pb2 \u001b[38;5;28;01mas\u001b[39;00m tensorflow_dot_core_dot_framework_dot_resource__handle__pb2\n\u001b[1;32m     17\u001b[0m \u001b[38;5;28;01mfrom\u001b[39;00m \u001b[38;5;21;01mtensorflow\u001b[39;00m\u001b[38;5;21;01m.\u001b[39;00m\u001b[38;5;21;01mcore\u001b[39;00m\u001b[38;5;21;01m.\u001b[39;00m\u001b[38;5;21;01mframework\u001b[39;00m \u001b[38;5;28;01mimport\u001b[39;00m tensor_shape_pb2 \u001b[38;5;28;01mas\u001b[39;00m tensorflow_dot_core_dot_framework_dot_tensor__shape__pb2\n\u001b[1;32m     18\u001b[0m \u001b[38;5;28;01mfrom\u001b[39;00m \u001b[38;5;21;01mtensorflow\u001b[39;00m\u001b[38;5;21;01m.\u001b[39;00m\u001b[38;5;21;01mcore\u001b[39;00m\u001b[38;5;21;01m.\u001b[39;00m\u001b[38;5;21;01mframework\u001b[39;00m \u001b[38;5;28;01mimport\u001b[39;00m types_pb2 \u001b[38;5;28;01mas\u001b[39;00m tensorflow_dot_core_dot_framework_dot_types__pb2\n",
      "File \u001b[0;32m~/.local/lib/python3.10/site-packages/tensorflow/core/framework/resource_handle_pb2.py:16\u001b[0m\n\u001b[1;32m     11\u001b[0m \u001b[38;5;66;03m# @@protoc_insertion_point(imports)\u001b[39;00m\n\u001b[1;32m     13\u001b[0m _sym_db \u001b[38;5;241m=\u001b[39m _symbol_database\u001b[38;5;241m.\u001b[39mDefault()\n\u001b[0;32m---> 16\u001b[0m \u001b[38;5;28;01mfrom\u001b[39;00m \u001b[38;5;21;01mtensorflow\u001b[39;00m\u001b[38;5;21;01m.\u001b[39;00m\u001b[38;5;21;01mcore\u001b[39;00m\u001b[38;5;21;01m.\u001b[39;00m\u001b[38;5;21;01mframework\u001b[39;00m \u001b[38;5;28;01mimport\u001b[39;00m tensor_shape_pb2 \u001b[38;5;28;01mas\u001b[39;00m tensorflow_dot_core_dot_framework_dot_tensor__shape__pb2\n\u001b[1;32m     17\u001b[0m \u001b[38;5;28;01mfrom\u001b[39;00m \u001b[38;5;21;01mtensorflow\u001b[39;00m\u001b[38;5;21;01m.\u001b[39;00m\u001b[38;5;21;01mcore\u001b[39;00m\u001b[38;5;21;01m.\u001b[39;00m\u001b[38;5;21;01mframework\u001b[39;00m \u001b[38;5;28;01mimport\u001b[39;00m types_pb2 \u001b[38;5;28;01mas\u001b[39;00m tensorflow_dot_core_dot_framework_dot_types__pb2\n\u001b[1;32m     20\u001b[0m DESCRIPTOR \u001b[38;5;241m=\u001b[39m _descriptor\u001b[38;5;241m.\u001b[39mFileDescriptor(\n\u001b[1;32m     21\u001b[0m   name\u001b[38;5;241m=\u001b[39m\u001b[38;5;124m'\u001b[39m\u001b[38;5;124mtensorflow/core/framework/resource_handle.proto\u001b[39m\u001b[38;5;124m'\u001b[39m,\n\u001b[1;32m     22\u001b[0m   package\u001b[38;5;241m=\u001b[39m\u001b[38;5;124m'\u001b[39m\u001b[38;5;124mtensorflow\u001b[39m\u001b[38;5;124m'\u001b[39m,\n\u001b[0;32m   (...)\u001b[0m\n\u001b[1;32m     26\u001b[0m   ,\n\u001b[1;32m     27\u001b[0m   dependencies\u001b[38;5;241m=\u001b[39m[tensorflow_dot_core_dot_framework_dot_tensor__shape__pb2\u001b[38;5;241m.\u001b[39mDESCRIPTOR,tensorflow_dot_core_dot_framework_dot_types__pb2\u001b[38;5;241m.\u001b[39mDESCRIPTOR,])\n",
      "File \u001b[0;32m~/.local/lib/python3.10/site-packages/tensorflow/core/framework/tensor_shape_pb2.py:36\u001b[0m\n\u001b[1;32m     13\u001b[0m _sym_db \u001b[38;5;241m=\u001b[39m _symbol_database\u001b[38;5;241m.\u001b[39mDefault()\n\u001b[1;32m     18\u001b[0m DESCRIPTOR \u001b[38;5;241m=\u001b[39m _descriptor\u001b[38;5;241m.\u001b[39mFileDescriptor(\n\u001b[1;32m     19\u001b[0m   name\u001b[38;5;241m=\u001b[39m\u001b[38;5;124m'\u001b[39m\u001b[38;5;124mtensorflow/core/framework/tensor_shape.proto\u001b[39m\u001b[38;5;124m'\u001b[39m,\n\u001b[1;32m     20\u001b[0m   package\u001b[38;5;241m=\u001b[39m\u001b[38;5;124m'\u001b[39m\u001b[38;5;124mtensorflow\u001b[39m\u001b[38;5;124m'\u001b[39m,\n\u001b[0;32m   (...)\u001b[0m\n\u001b[1;32m     23\u001b[0m   serialized_pb\u001b[38;5;241m=\u001b[39m_b(\u001b[38;5;124m'\u001b[39m\u001b[38;5;130;01m\\n\u001b[39;00m\u001b[38;5;124m,tensorflow/core/framework/tensor_shape.proto\u001b[39m\u001b[38;5;130;01m\\x12\u001b[39;00m\u001b[38;5;130;01m\\n\u001b[39;00m\u001b[38;5;124mtensorflow\u001b[39m\u001b[38;5;130;01m\\\"\u001b[39;00m\u001b[38;5;124mz\u001b[39m\u001b[38;5;130;01m\\n\u001b[39;00m\u001b[38;5;130;01m\\x10\u001b[39;00m\u001b[38;5;124mTensorShapeProto\u001b[39m\u001b[38;5;130;01m\\x12\u001b[39;00m\u001b[38;5;124m-\u001b[39m\u001b[38;5;130;01m\\n\u001b[39;00m\u001b[38;5;130;01m\\x03\u001b[39;00m\u001b[38;5;130;01m\\x64\u001b[39;00m\u001b[38;5;124mim\u001b[39m\u001b[38;5;130;01m\\x18\u001b[39;00m\u001b[38;5;130;01m\\x02\u001b[39;00m\u001b[38;5;124m \u001b[39m\u001b[38;5;130;01m\\x03\u001b[39;00m\u001b[38;5;124m(\u001b[39m\u001b[38;5;130;01m\\x0b\u001b[39;00m\u001b[38;5;130;01m\\x32\u001b[39;00m\u001b[38;5;124m .tensorflow.TensorShapeProto.Dim\u001b[39m\u001b[38;5;130;01m\\x12\u001b[39;00m\u001b[38;5;130;01m\\x14\u001b[39;00m\u001b[38;5;130;01m\\n\u001b[39;00m\u001b[38;5;130;01m\\x0c\u001b[39;00m\u001b[38;5;124munknown_rank\u001b[39m\u001b[38;5;130;01m\\x18\u001b[39;00m\u001b[38;5;130;01m\\x03\u001b[39;00m\u001b[38;5;124m \u001b[39m\u001b[38;5;130;01m\\x01\u001b[39;00m\u001b[38;5;124m(\u001b[39m\u001b[38;5;130;01m\\x08\u001b[39;00m\u001b[38;5;130;01m\\x1a\u001b[39;00m\u001b[38;5;124m!\u001b[39m\u001b[38;5;130;01m\\n\u001b[39;00m\u001b[38;5;130;01m\\x03\u001b[39;00m\u001b[38;5;130;01m\\x44\u001b[39;00m\u001b[38;5;124mim\u001b[39m\u001b[38;5;130;01m\\x12\u001b[39;00m\u001b[38;5;130;01m\\x0c\u001b[39;00m\u001b[38;5;130;01m\\n\u001b[39;00m\u001b[38;5;130;01m\\x04\u001b[39;00m\u001b[38;5;124msize\u001b[39m\u001b[38;5;130;01m\\x18\u001b[39;00m\u001b[38;5;130;01m\\x01\u001b[39;00m\u001b[38;5;124m \u001b[39m\u001b[38;5;130;01m\\x01\u001b[39;00m\u001b[38;5;124m(\u001b[39m\u001b[38;5;130;01m\\x03\u001b[39;00m\u001b[38;5;130;01m\\x12\u001b[39;00m\u001b[38;5;130;01m\\x0c\u001b[39;00m\u001b[38;5;130;01m\\n\u001b[39;00m\u001b[38;5;130;01m\\x04\u001b[39;00m\u001b[38;5;124mname\u001b[39m\u001b[38;5;130;01m\\x18\u001b[39;00m\u001b[38;5;130;01m\\x02\u001b[39;00m\u001b[38;5;124m \u001b[39m\u001b[38;5;130;01m\\x01\u001b[39;00m\u001b[38;5;124m(\u001b[39m\u001b[38;5;130;01m\\t\u001b[39;00m\u001b[38;5;124mB\u001b[39m\u001b[38;5;130;01m\\x87\u001b[39;00m\u001b[38;5;130;01m\\x01\u001b[39;00m\u001b[38;5;130;01m\\n\u001b[39;00m\u001b[38;5;130;01m\\x18\u001b[39;00m\u001b[38;5;124morg.tensorflow.frameworkB\u001b[39m\u001b[38;5;130;01m\\x11\u001b[39;00m\u001b[38;5;124mTensorShapeProtosP\u001b[39m\u001b[38;5;130;01m\\x01\u001b[39;00m\u001b[38;5;124mZSgithub.com/tensorflow/tensorflow/tensorflow/go/core/framework/tensor_shape_go_proto\u001b[39m\u001b[38;5;130;01m\\xf8\u001b[39;00m\u001b[38;5;130;01m\\x01\u001b[39;00m\u001b[38;5;130;01m\\x01\u001b[39;00m\u001b[38;5;130;01m\\x62\u001b[39;00m\u001b[38;5;130;01m\\x06\u001b[39;00m\u001b[38;5;124mproto3\u001b[39m\u001b[38;5;124m'\u001b[39m)\n\u001b[1;32m     24\u001b[0m )\n\u001b[1;32m     29\u001b[0m _TENSORSHAPEPROTO_DIM \u001b[38;5;241m=\u001b[39m _descriptor\u001b[38;5;241m.\u001b[39mDescriptor(\n\u001b[1;32m     30\u001b[0m   name\u001b[38;5;241m=\u001b[39m\u001b[38;5;124m'\u001b[39m\u001b[38;5;124mDim\u001b[39m\u001b[38;5;124m'\u001b[39m,\n\u001b[1;32m     31\u001b[0m   full_name\u001b[38;5;241m=\u001b[39m\u001b[38;5;124m'\u001b[39m\u001b[38;5;124mtensorflow.TensorShapeProto.Dim\u001b[39m\u001b[38;5;124m'\u001b[39m,\n\u001b[1;32m     32\u001b[0m   filename\u001b[38;5;241m=\u001b[39m\u001b[38;5;28;01mNone\u001b[39;00m,\n\u001b[1;32m     33\u001b[0m   file\u001b[38;5;241m=\u001b[39mDESCRIPTOR,\n\u001b[1;32m     34\u001b[0m   containing_type\u001b[38;5;241m=\u001b[39m\u001b[38;5;28;01mNone\u001b[39;00m,\n\u001b[1;32m     35\u001b[0m   fields\u001b[38;5;241m=\u001b[39m[\n\u001b[0;32m---> 36\u001b[0m     \u001b[43m_descriptor\u001b[49m\u001b[38;5;241;43m.\u001b[39;49m\u001b[43mFieldDescriptor\u001b[49m\u001b[43m(\u001b[49m\n\u001b[1;32m     37\u001b[0m \u001b[43m      \u001b[49m\u001b[43mname\u001b[49m\u001b[38;5;241;43m=\u001b[39;49m\u001b[38;5;124;43m'\u001b[39;49m\u001b[38;5;124;43msize\u001b[39;49m\u001b[38;5;124;43m'\u001b[39;49m\u001b[43m,\u001b[49m\u001b[43m \u001b[49m\u001b[43mfull_name\u001b[49m\u001b[38;5;241;43m=\u001b[39;49m\u001b[38;5;124;43m'\u001b[39;49m\u001b[38;5;124;43mtensorflow.TensorShapeProto.Dim.size\u001b[39;49m\u001b[38;5;124;43m'\u001b[39;49m\u001b[43m,\u001b[49m\u001b[43m \u001b[49m\u001b[43mindex\u001b[49m\u001b[38;5;241;43m=\u001b[39;49m\u001b[38;5;241;43m0\u001b[39;49m\u001b[43m,\u001b[49m\n\u001b[1;32m     38\u001b[0m \u001b[43m      \u001b[49m\u001b[43mnumber\u001b[49m\u001b[38;5;241;43m=\u001b[39;49m\u001b[38;5;241;43m1\u001b[39;49m\u001b[43m,\u001b[49m\u001b[43m \u001b[49m\u001b[38;5;28;43mtype\u001b[39;49m\u001b[38;5;241;43m=\u001b[39;49m\u001b[38;5;241;43m3\u001b[39;49m\u001b[43m,\u001b[49m\u001b[43m \u001b[49m\u001b[43mcpp_type\u001b[49m\u001b[38;5;241;43m=\u001b[39;49m\u001b[38;5;241;43m2\u001b[39;49m\u001b[43m,\u001b[49m\u001b[43m \u001b[49m\u001b[43mlabel\u001b[49m\u001b[38;5;241;43m=\u001b[39;49m\u001b[38;5;241;43m1\u001b[39;49m\u001b[43m,\u001b[49m\n\u001b[1;32m     39\u001b[0m \u001b[43m      \u001b[49m\u001b[43mhas_default_value\u001b[49m\u001b[38;5;241;43m=\u001b[39;49m\u001b[38;5;28;43;01mFalse\u001b[39;49;00m\u001b[43m,\u001b[49m\u001b[43m \u001b[49m\u001b[43mdefault_value\u001b[49m\u001b[38;5;241;43m=\u001b[39;49m\u001b[38;5;241;43m0\u001b[39;49m\u001b[43m,\u001b[49m\n\u001b[1;32m     40\u001b[0m \u001b[43m      \u001b[49m\u001b[43mmessage_type\u001b[49m\u001b[38;5;241;43m=\u001b[39;49m\u001b[38;5;28;43;01mNone\u001b[39;49;00m\u001b[43m,\u001b[49m\u001b[43m \u001b[49m\u001b[43menum_type\u001b[49m\u001b[38;5;241;43m=\u001b[39;49m\u001b[38;5;28;43;01mNone\u001b[39;49;00m\u001b[43m,\u001b[49m\u001b[43m \u001b[49m\u001b[43mcontaining_type\u001b[49m\u001b[38;5;241;43m=\u001b[39;49m\u001b[38;5;28;43;01mNone\u001b[39;49;00m\u001b[43m,\u001b[49m\n\u001b[1;32m     41\u001b[0m \u001b[43m      \u001b[49m\u001b[43mis_extension\u001b[49m\u001b[38;5;241;43m=\u001b[39;49m\u001b[38;5;28;43;01mFalse\u001b[39;49;00m\u001b[43m,\u001b[49m\u001b[43m \u001b[49m\u001b[43mextension_scope\u001b[49m\u001b[38;5;241;43m=\u001b[39;49m\u001b[38;5;28;43;01mNone\u001b[39;49;00m\u001b[43m,\u001b[49m\n\u001b[1;32m     42\u001b[0m \u001b[43m      \u001b[49m\u001b[43mserialized_options\u001b[49m\u001b[38;5;241;43m=\u001b[39;49m\u001b[38;5;28;43;01mNone\u001b[39;49;00m\u001b[43m,\u001b[49m\u001b[43m \u001b[49m\u001b[43mfile\u001b[49m\u001b[38;5;241;43m=\u001b[39;49m\u001b[43mDESCRIPTOR\u001b[49m\u001b[43m)\u001b[49m,\n\u001b[1;32m     43\u001b[0m     _descriptor\u001b[38;5;241m.\u001b[39mFieldDescriptor(\n\u001b[1;32m     44\u001b[0m       name\u001b[38;5;241m=\u001b[39m\u001b[38;5;124m'\u001b[39m\u001b[38;5;124mname\u001b[39m\u001b[38;5;124m'\u001b[39m, full_name\u001b[38;5;241m=\u001b[39m\u001b[38;5;124m'\u001b[39m\u001b[38;5;124mtensorflow.TensorShapeProto.Dim.name\u001b[39m\u001b[38;5;124m'\u001b[39m, index\u001b[38;5;241m=\u001b[39m\u001b[38;5;241m1\u001b[39m,\n\u001b[1;32m     45\u001b[0m       number\u001b[38;5;241m=\u001b[39m\u001b[38;5;241m2\u001b[39m, \u001b[38;5;28mtype\u001b[39m\u001b[38;5;241m=\u001b[39m\u001b[38;5;241m9\u001b[39m, cpp_type\u001b[38;5;241m=\u001b[39m\u001b[38;5;241m9\u001b[39m, label\u001b[38;5;241m=\u001b[39m\u001b[38;5;241m1\u001b[39m,\n\u001b[1;32m     46\u001b[0m       has_default_value\u001b[38;5;241m=\u001b[39m\u001b[38;5;28;01mFalse\u001b[39;00m, default_value\u001b[38;5;241m=\u001b[39m_b(\u001b[38;5;124m\"\u001b[39m\u001b[38;5;124m\"\u001b[39m)\u001b[38;5;241m.\u001b[39mdecode(\u001b[38;5;124m'\u001b[39m\u001b[38;5;124mutf-8\u001b[39m\u001b[38;5;124m'\u001b[39m),\n\u001b[1;32m     47\u001b[0m       message_type\u001b[38;5;241m=\u001b[39m\u001b[38;5;28;01mNone\u001b[39;00m, enum_type\u001b[38;5;241m=\u001b[39m\u001b[38;5;28;01mNone\u001b[39;00m, containing_type\u001b[38;5;241m=\u001b[39m\u001b[38;5;28;01mNone\u001b[39;00m,\n\u001b[1;32m     48\u001b[0m       is_extension\u001b[38;5;241m=\u001b[39m\u001b[38;5;28;01mFalse\u001b[39;00m, extension_scope\u001b[38;5;241m=\u001b[39m\u001b[38;5;28;01mNone\u001b[39;00m,\n\u001b[1;32m     49\u001b[0m       serialized_options\u001b[38;5;241m=\u001b[39m\u001b[38;5;28;01mNone\u001b[39;00m, file\u001b[38;5;241m=\u001b[39mDESCRIPTOR),\n\u001b[1;32m     50\u001b[0m   ],\n\u001b[1;32m     51\u001b[0m   extensions\u001b[38;5;241m=\u001b[39m[\n\u001b[1;32m     52\u001b[0m   ],\n\u001b[1;32m     53\u001b[0m   nested_types\u001b[38;5;241m=\u001b[39m[],\n\u001b[1;32m     54\u001b[0m   enum_types\u001b[38;5;241m=\u001b[39m[\n\u001b[1;32m     55\u001b[0m   ],\n\u001b[1;32m     56\u001b[0m   serialized_options\u001b[38;5;241m=\u001b[39m\u001b[38;5;28;01mNone\u001b[39;00m,\n\u001b[1;32m     57\u001b[0m   is_extendable\u001b[38;5;241m=\u001b[39m\u001b[38;5;28;01mFalse\u001b[39;00m,\n\u001b[1;32m     58\u001b[0m   syntax\u001b[38;5;241m=\u001b[39m\u001b[38;5;124m'\u001b[39m\u001b[38;5;124mproto3\u001b[39m\u001b[38;5;124m'\u001b[39m,\n\u001b[1;32m     59\u001b[0m   extension_ranges\u001b[38;5;241m=\u001b[39m[],\n\u001b[1;32m     60\u001b[0m   oneofs\u001b[38;5;241m=\u001b[39m[\n\u001b[1;32m     61\u001b[0m   ],\n\u001b[1;32m     62\u001b[0m   serialized_start\u001b[38;5;241m=\u001b[39m\u001b[38;5;241m149\u001b[39m,\n\u001b[1;32m     63\u001b[0m   serialized_end\u001b[38;5;241m=\u001b[39m\u001b[38;5;241m182\u001b[39m,\n\u001b[1;32m     64\u001b[0m )\n\u001b[1;32m     66\u001b[0m _TENSORSHAPEPROTO \u001b[38;5;241m=\u001b[39m _descriptor\u001b[38;5;241m.\u001b[39mDescriptor(\n\u001b[1;32m     67\u001b[0m   name\u001b[38;5;241m=\u001b[39m\u001b[38;5;124m'\u001b[39m\u001b[38;5;124mTensorShapeProto\u001b[39m\u001b[38;5;124m'\u001b[39m,\n\u001b[1;32m     68\u001b[0m   full_name\u001b[38;5;241m=\u001b[39m\u001b[38;5;124m'\u001b[39m\u001b[38;5;124mtensorflow.TensorShapeProto\u001b[39m\u001b[38;5;124m'\u001b[39m,\n\u001b[0;32m   (...)\u001b[0m\n\u001b[1;32m    100\u001b[0m   serialized_end\u001b[38;5;241m=\u001b[39m\u001b[38;5;241m182\u001b[39m,\n\u001b[1;32m    101\u001b[0m )\n\u001b[1;32m    103\u001b[0m _TENSORSHAPEPROTO_DIM\u001b[38;5;241m.\u001b[39mcontaining_type \u001b[38;5;241m=\u001b[39m _TENSORSHAPEPROTO\n",
      "File \u001b[0;32m~/anaconda3/envs/trading/lib/python3.10/site-packages/google/protobuf/descriptor.py:561\u001b[0m, in \u001b[0;36mFieldDescriptor.__new__\u001b[0;34m(cls, name, full_name, index, number, type, cpp_type, label, default_value, message_type, enum_type, containing_type, is_extension, extension_scope, options, serialized_options, has_default_value, containing_oneof, json_name, file, create_key)\u001b[0m\n\u001b[1;32m    555\u001b[0m \u001b[38;5;28;01mdef\u001b[39;00m \u001b[38;5;21m__new__\u001b[39m(\u001b[38;5;28mcls\u001b[39m, name, full_name, index, number, \u001b[38;5;28mtype\u001b[39m, cpp_type, label,\n\u001b[1;32m    556\u001b[0m             default_value, message_type, enum_type, containing_type,\n\u001b[1;32m    557\u001b[0m             is_extension, extension_scope, options\u001b[38;5;241m=\u001b[39m\u001b[38;5;28;01mNone\u001b[39;00m,\n\u001b[1;32m    558\u001b[0m             serialized_options\u001b[38;5;241m=\u001b[39m\u001b[38;5;28;01mNone\u001b[39;00m,\n\u001b[1;32m    559\u001b[0m             has_default_value\u001b[38;5;241m=\u001b[39m\u001b[38;5;28;01mTrue\u001b[39;00m, containing_oneof\u001b[38;5;241m=\u001b[39m\u001b[38;5;28;01mNone\u001b[39;00m, json_name\u001b[38;5;241m=\u001b[39m\u001b[38;5;28;01mNone\u001b[39;00m,\n\u001b[1;32m    560\u001b[0m             file\u001b[38;5;241m=\u001b[39m\u001b[38;5;28;01mNone\u001b[39;00m, create_key\u001b[38;5;241m=\u001b[39m\u001b[38;5;28;01mNone\u001b[39;00m):  \u001b[38;5;66;03m# pylint: disable=redefined-builtin\u001b[39;00m\n\u001b[0;32m--> 561\u001b[0m   \u001b[43m_message\u001b[49m\u001b[38;5;241;43m.\u001b[39;49m\u001b[43mMessage\u001b[49m\u001b[38;5;241;43m.\u001b[39;49m\u001b[43m_CheckCalledFromGeneratedFile\u001b[49m\u001b[43m(\u001b[49m\u001b[43m)\u001b[49m\n\u001b[1;32m    562\u001b[0m   \u001b[38;5;28;01mif\u001b[39;00m is_extension:\n\u001b[1;32m    563\u001b[0m     \u001b[38;5;28;01mreturn\u001b[39;00m _message\u001b[38;5;241m.\u001b[39mdefault_pool\u001b[38;5;241m.\u001b[39mFindExtensionByName(full_name)\n",
      "\u001b[0;31mTypeError\u001b[0m: Descriptors cannot not be created directly.\nIf this call came from a _pb2.py file, your generated code is out of date and must be regenerated with protoc >= 3.19.0.\nIf you cannot immediately regenerate your protos, some other possible workarounds are:\n 1. Downgrade the protobuf package to 3.20.x or lower.\n 2. Set PROTOCOL_BUFFERS_PYTHON_IMPLEMENTATION=python (but this will use pure-Python parsing and will be much slower).\n\nMore information: https://developers.google.com/protocol-buffers/docs/news/2022-05-06#python-updates"
     ]
    }
   ],
   "source": [
    "import numpy as np\n",
    "from tensorflow.keras import models, layers\n",
    "from tensorflow.keras.datasets import imdb\n",
    "from tensorflow.keras.preprocessing.text import Tokenizer\n",
    "from tensorflow.keras.callbacks import EarlyStopping, ModelCheckpoint\n",
    "from tensorflow.keras.regularizers import l1_l2\n",
    "\n",
    "np.random.seed(0)\n",
    "\n",
    "# 필요한 특성 개수를 지정합니다.\n",
    "number_of_features = 10000\n",
    "\n",
    "\n",
    "# IMDB 영화 데이터에서 훈련 데이터와 타깃 벡터를 로드합니다.\n",
    "(X_train, y_train), (X_test, y_test) = imdb.load_data(num_words = number_of_features)\n",
    "\n",
    "# IMDB 데이터를 원-핫 인코딩된 특성 행렬로 변환합니다.\n",
    "tokenizer = Tokenizer(num_words=number_of_features)\n",
    "X_train = tokenizer.sequences_to_matrix(X_train, mode='binary')\n",
    "X_test = tokenizer.sequences_to_matrix(X_test, mode='binary')\n",
    "\n",
    "\n",
    "# 신경망 모델을 만듭니다.\n",
    "net = models.Sequential()\n",
    "\n",
    "# 렐루 활성화 함수를 사용한 완전 연결 층을 추가합니다.\n",
    "net.add(layers.Dense(units=16, \n",
    "                    activation='relu',\n",
    "#                     kernel_regularizer=l1_l2(l1=0.01, l2=0.01), # 엘라스틱 넷 페널티, 기본 값은 모두 0.01\n",
    "                    input_shape=(number_of_features, )))\n",
    "net.add(layers.Dense(units=16, activation='relu'))\n",
    "\n",
    "\n",
    "# 시그모이드 활성화 함수를 사용한 완전 연결 층을 추가합니다.\n",
    "net.add(layers.Dense(units=1, activation='sigmoid'))\n",
    "\n",
    "# 신경망의 모델 설정을 완료합니다.\n",
    "net.compile(loss='binary_crossentropy', \n",
    "           optimizer='rmsprop',\n",
    "           metrics=['accuracy'])\n",
    "\n",
    "# 훈련을 조기 종료하고 최선의 모델을 저장하기 위한 콜백 함수 설정\n",
    "callbacks = [EarlyStopping(monitor='val_loss', patience=2),\n",
    "            ModelCheckpoint(filepath='./models/best_model.h5',\n",
    "                           monitor='val_loss', \n",
    "                           save_best_only='True')]\n",
    "\n",
    "# 신경망을 훈련합니다.\n",
    "history = net.fit(X_train, y_train, epochs=30, \n",
    "                 verbose=0, batch_size=1000, \n",
    "                 callbacks=callbacks, # 조기 종료 및 저장\n",
    "                 validation_data=(X_test, y_test))"
   ]
  },
  {
   "cell_type": "code",
   "execution_count": 12,
   "id": "2753d726",
   "metadata": {},
   "outputs": [
    {
     "data": {
      "image/png": "[encoded data removed]",
      "text/plain": [
       "<Figure size 640x480 with 1 Axes>"
      ]
     },
     "metadata": {},
     "output_type": "display_data"
    }
   ],
   "source": [
    "import matplotlib.pyplot as plt\n",
    "\n",
    "# 훈련 손실과 테스트 손실의 기록을 저장합니다.\n",
    "training_loss = history.history[\"loss\"]\n",
    "test_loss = history.history[\"val_loss\"]\n",
    "\n",
    "# 에포크 횟수를 사용해 카운트 객체를 만듭니다.\n",
    "epoch_count = range(1, len(training_loss) + 1)\n",
    "\n",
    "# 손실 값의 기록을 시각화합니다.\n",
    "plt.plot(epoch_count, training_loss, \"r--\")\n",
    "plt.plot(epoch_count, test_loss, \"b-\")\n",
    "plt.legend([\"Training Loss\", \"Test Loss\"])\n",
    "plt.xlabel(\"Epoch\")\n",
    "plt.ylabel(\"Loss\")\n",
    "plt.show()"
   ]
  },
  {
   "cell_type": "code",
   "execution_count": 13,
   "id": "edc99118",
   "metadata": {},
   "outputs": [
    {
     "data": {
      "image/png": "[encoded data removed]",
      "text/plain": [
       "<Figure size 640x480 with 1 Axes>"
      ]
     },
     "metadata": {},
     "output_type": "display_data"
    }
   ],
   "source": [
    "# 훈련 정확도와 테스트 정확도 기록을 저장합니다.\n",
    "training_accuracy = history.history[\"accuracy\"]\n",
    "test_accuracy = history.history[\"val_accuracy\"]\n",
    "plt.plot(epoch_count, training_accuracy, \"r--\")\n",
    "plt.plot(epoch_count, test_accuracy, \"b-\")\n",
    "\n",
    "# 정확도 그래프를 그립니다.\n",
    "plt.legend([\"Training Accuracy\", \"Test Accuracy\"])\n",
    "plt.xlabel(\"Epoch\")\n",
    "plt.ylabel(\"Accuracy Score\")\n",
    "plt.show();"
   ]
  },
  {
   "cell_type": "markdown",
   "id": "716df874",
   "metadata": {},
   "source": [
    "# 드롭아웃으로 과대적합 줄이기\n",
    "- 샘플의 배치가 훈련을 위해 만들어질 때마다 한개 이상의 층에서 유닛의 일부에 0을 곱한다 (버려진다)\n",
    "- 모든 배치가 같은 네트워크에서 훈련되지만 조금씩 다른 버전의 네트워크 구조를 가지게 됨\n",
    "- 모델이 훈련 데이터를 다 암기 해 버리는 것을 방해 하는 효과\n",
    "- 입력층과 은닉층 모두 드롭 아웃 추가 가능\n",
    "- 입력층이 드롭아웃 되면, 해당 배치의 그 특성 값이 네트워크에 전달 되지 않음\n",
    "- 비율은, 입력층은 0.2, 은닉층엔 0.5 가 일반적\n",
    "\n",
    "<img src=\"./figs/20_04.png\">"
   ]
  },
  {
   "cell_type": "code",
   "execution_count": 14,
   "id": "559598cb",
   "metadata": {},
   "outputs": [],
   "source": [
    "import numpy as np\n",
    "from tensorflow.keras import models, layers\n",
    "from tensorflow.keras.datasets import imdb\n",
    "from tensorflow.keras.preprocessing.text import Tokenizer\n",
    "from tensorflow.keras.callbacks import EarlyStopping, ModelCheckpoint\n",
    "from tensorflow.keras.regularizers import l1_l2\n",
    "\n",
    "np.random.seed(0)\n",
    "\n",
    "# 필요한 특성 개수를 지정합니다.\n",
    "number_of_features = 10000\n",
    "\n",
    "\n",
    "# IMDB 영화 데이터에서 훈련 데이터와 타깃 벡터를 로드합니다.\n",
    "(X_train, y_train), (X_test, y_test) = imdb.load_data(num_words = number_of_features)\n",
    "\n",
    "# IMDB 데이터를 원-핫 인코딩된 특성 행렬로 변환합니다.\n",
    "tokenizer = Tokenizer(num_words=number_of_features)\n",
    "X_train = tokenizer.sequences_to_matrix(X_train, mode='binary')\n",
    "X_test = tokenizer.sequences_to_matrix(X_test, mode='binary')\n",
    "\n",
    "\n",
    "# 신경망 모델을 만듭니다.\n",
    "net = models.Sequential()\n",
    "\n",
    "# 입력층으로 드롭아웃 층을 추가합니다.\n",
    "net.add(layers.Dropout(0.2, input_shape=(number_of_features, )))\n",
    "\n",
    "# 렐루 활성화 함수를 사용한 완전 연결 층을 추가합니다.\n",
    "net.add(layers.Dense(units=16, activation='relu'))\n",
    "\n",
    "# 은닉층에 드롭아웃 층을 추가합니다.\n",
    "net.add(layers.Dropout(0.5))\n",
    "\n",
    "# 렐루 활성화 함수를 사용한 완전 연결 층을 추가합니다.\n",
    "net.add(layers.Dense(units=16, activation='relu'))\n",
    "\n",
    "# 은닉층에 드롭아웃 층을 추가합니다.\n",
    "net.add(layers.Dropout(0.5))\n",
    "\n",
    "# 시그모이드 활성화 함수를 사용한 완전 연결 층을 추가합니다.\n",
    "net.add(layers.Dense(units=1, activation='sigmoid'))\n",
    "\n",
    "# 신경망의 모델 설정을 완료합니다.\n",
    "net.compile(loss='binary_crossentropy', \n",
    "           optimizer='rmsprop',\n",
    "           metrics=['accuracy'])\n",
    "\n",
    "# 신경망을 훈련합니다.\n",
    "history = net.fit(X_train, y_train, epochs=30, \n",
    "                 verbose=0, batch_size=1000, \n",
    "                 validation_data=(X_test, y_test))"
   ]
  },
  {
   "cell_type": "code",
   "execution_count": 15,
   "id": "120b586e",
   "metadata": {},
   "outputs": [
    {
     "data": {
      "image/png": "[encoded data removed]",
      "text/plain": [
       "<Figure size 640x480 with 1 Axes>"
      ]
     },
     "metadata": {},
     "output_type": "display_data"
    }
   ],
   "source": [
    "import matplotlib.pyplot as plt\n",
    "\n",
    "# 훈련 손실과 테스트 손실의 기록을 저장합니다.\n",
    "training_loss = history.history[\"loss\"]\n",
    "test_loss = history.history[\"val_loss\"]\n",
    "\n",
    "# 에포크 횟수를 사용해 카운트 객체를 만듭니다.\n",
    "epoch_count = range(1, len(training_loss) + 1)\n",
    "\n",
    "# 손실 값의 기록을 시각화합니다.\n",
    "plt.plot(epoch_count, training_loss, \"r--\")\n",
    "plt.plot(epoch_count, test_loss, \"b-\")\n",
    "plt.legend([\"Training Loss\", \"Test Loss\"])\n",
    "plt.xlabel(\"Epoch\")\n",
    "plt.ylabel(\"Loss\")\n",
    "plt.show()"
   ]
  },
  {
   "cell_type": "code",
   "execution_count": 16,
   "id": "6bea60bf",
   "metadata": {},
   "outputs": [
    {
     "data": {
      "image/png": "[encoded data removed]",
      "text/plain": [
       "<Figure size 640x480 with 1 Axes>"
      ]
     },
     "metadata": {},
     "output_type": "display_data"
    }
   ],
   "source": [
    "# 훈련 정확도와 테스트 정확도 기록을 저장합니다.\n",
    "training_accuracy = history.history[\"accuracy\"]\n",
    "test_accuracy = history.history[\"val_accuracy\"]\n",
    "plt.plot(epoch_count, training_accuracy, \"r--\")\n",
    "plt.plot(epoch_count, test_accuracy, \"b-\")\n",
    "\n",
    "# 정확도 그래프를 그립니다.\n",
    "plt.legend([\"Training Accuracy\", \"Test Accuracy\"])\n",
    "plt.xlabel(\"Epoch\")\n",
    "plt.ylabel(\"Accuracy Score\")\n",
    "plt.show();"
   ]
  },
  {
   "cell_type": "markdown",
   "id": "941ddd90",
   "metadata": {},
   "source": [
    "# 모델 훈련 진행 과정을 저장하기\n",
    "- 실전에선 학습에 오랜 시간이 걸림\n",
    "- 문제가 발생 했을 때, 장시간 훈련한 결과 까지 사라 지는 것에 대비를 해야\n",
    "- ModelCheckpoint\n",
    "    - 에폭이 끝날 때마다 모델 저장\n",
    "    - save_best_only 과 monitor 옵션으로 가장 좋은 모델만 저장하게 할 수도 \n",
    "    - 파일 이름에, 에폭 횟수와 테스트 손실 함수를 포함시키는 식으로 모델 저장 가능\n",
    "    \n",
    "- [소스](https://keras.io/api/callbacks/model_checkpoint/)"
   ]
  },
  {
   "cell_type": "code",
   "execution_count": null,
   "id": "9b2872a0",
   "metadata": {},
   "outputs": [],
   "source": [
    "import numpy as np\n",
    "from tensorflow.keras import models, layers\n",
    "from tensorflow.keras.datasets import imdb\n",
    "from tensorflow.keras.preprocessing.text import Tokenizer\n",
    "from tensorflow.keras.callbacks import ModelCheckpoint\n",
    "from tensorflow.keras.regularizers import l1_l2\n",
    "\n",
    "np.random.seed(0)\n",
    "\n",
    "# 필요한 특성 개수를 지정합니다.\n",
    "number_of_features = 10000\n",
    "\n",
    "\n",
    "# IMDB 영화 데이터에서 훈련 데이터와 타깃 벡터를 로드합니다.\n",
    "(X_train, y_train), (X_test, y_test) = imdb.load_data(num_words = number_of_features)\n",
    "\n",
    "# IMDB 데이터를 원-핫 인코딩된 특성 행렬로 변환합니다.\n",
    "tokenizer = Tokenizer(num_words=number_of_features)\n",
    "X_train = tokenizer.sequences_to_matrix(X_train, mode='binary')\n",
    "X_test = tokenizer.sequences_to_matrix(X_test, mode='binary')\n",
    "\n",
    "\n",
    "# 신경망 모델을 만듭니다.\n",
    "net = models.Sequential()\n",
    "\n",
    "# 렐루 활성화 함수를 사용한 완전 연결 층을 추가합니다.\n",
    "net.add(layers.Dense(units=16, \n",
    "                    activation='relu',\n",
    "                    kernel_regularizer=l1_l2(l1=0.01, l2=0.01), # 엘라스틱 넷 페널티, 기본 값은 모두 0.01\n",
    "                    input_shape=(number_of_features, )))\n",
    "net.add(layers.Dense(units=16, activation='relu'))\n",
    "\n",
    "\n",
    "# 시그모이드 활성화 함수를 사용한 완전 연결 층을 추가합니다.\n",
    "net.add(layers.Dense(units=1, activation='sigmoid'))\n",
    "\n",
    "# 신경망의 모델 설정을 완료합니다.\n",
    "net.compile(loss='binary_crossentropy', \n",
    "           optimizer='rmsprop',\n",
    "           metrics=['accuracy'])\n",
    "\n",
    "# 훈련을 조기 종료하고 최선의 모델을 저장하기 위한 콜백 함수 설정\n",
    "callbacks = [ModelCheckpoint(filepath='./models/best_model.h5')\n",
    "\n",
    "# 신경망을 훈련합니다.\n",
    "history = net.fit(X_train, y_train, epochs=30, \n",
    "                 verbose=0, batch_size=1000, \n",
    "                 callbacks=callbacks, # 조기 종료 및 저장\n",
    "                 validation_data=(X_test, y_test))"
   ]
  },
  {
   "cell_type": "markdown",
   "id": "63787279",
   "metadata": {},
   "source": [
    "# 신경망을 k-폴드 교차검증하기\n",
    "- 신경망 학습에 k-폴드 교차 검증은 많은 리소스가 들어가 권장 되지 않음\n",
    "    - 학습에 하루가 걸리는 모델을 10-폴드 교차 검증을 하게 되면 10일이 걸림\n",
    "- 데이터가 많다면 홀드아웃을 통해 평가 하는 것이 적절\n",
    "- 하지만 데이터가 적다면 k-폴드로 편차를 줄이는 것도 고려해볼 만 함\n",
    "- keras의 모델을 scikit-learn에서 사용할 수 있도록 인터페이스를 wrapping 해줄 필요가 있음\n",
    "    - KerasClassifier, KerasRegressor 사용"
   ]
  },
  {
   "cell_type": "code",
   "execution_count": 2,
   "id": "2ec9f700",
   "metadata": {},
   "outputs": [
    {
     "name": "stderr",
     "output_type": "stream",
     "text": [
      "/tmp/ipykernel_12433/2954151835.py:32: DeprecationWarning: KerasClassifier is deprecated, use Sci-Keras (https://github.com/adriangb/scikeras) instead. See https://www.adriangb.com/scikeras/stable/migration.html for help migrating.\n",
      "  net = KerasClassifier(build_fn = create_network,\n",
      "2023-09-17 12:39:44.753190: I tensorflow/stream_executor/cuda/cuda_gpu_executor.cc:980] successful NUMA node read from SysFS had negative value (-1), but there must be at least one NUMA node, so returning NUMA node zero\n",
      "2023-09-17 12:39:44.773113: I tensorflow/stream_executor/cuda/cuda_gpu_executor.cc:980] successful NUMA node read from SysFS had negative value (-1), but there must be at least one NUMA node, so returning NUMA node zero\n",
      "2023-09-17 12:39:44.773239: I tensorflow/stream_executor/cuda/cuda_gpu_executor.cc:980] successful NUMA node read from SysFS had negative value (-1), but there must be at least one NUMA node, so returning NUMA node zero\n",
      "2023-09-17 12:39:44.773710: I tensorflow/core/platform/cpu_feature_guard.cc:193] This TensorFlow binary is optimized with oneAPI Deep Neural Network Library (oneDNN) to use the following CPU instructions in performance-critical operations:  AVX2 FMA\n",
      "To enable them in other operations, rebuild TensorFlow with the appropriate compiler flags.\n",
      "2023-09-17 12:39:44.774601: I tensorflow/stream_executor/cuda/cuda_gpu_executor.cc:980] successful NUMA node read from SysFS had negative value (-1), but there must be at least one NUMA node, so returning NUMA node zero\n",
      "2023-09-17 12:39:44.774720: I tensorflow/stream_executor/cuda/cuda_gpu_executor.cc:980] successful NUMA node read from SysFS had negative value (-1), but there must be at least one NUMA node, so returning NUMA node zero\n",
      "2023-09-17 12:39:44.774827: I tensorflow/stream_executor/cuda/cuda_gpu_executor.cc:980] successful NUMA node read from SysFS had negative value (-1), but there must be at least one NUMA node, so returning NUMA node zero\n",
      "2023-09-17 12:39:45.069420: I tensorflow/stream_executor/cuda/cuda_gpu_executor.cc:980] successful NUMA node read from SysFS had negative value (-1), but there must be at least one NUMA node, so returning NUMA node zero\n",
      "2023-09-17 12:39:45.069568: I tensorflow/stream_executor/cuda/cuda_gpu_executor.cc:980] successful NUMA node read from SysFS had negative value (-1), but there must be at least one NUMA node, so returning NUMA node zero\n",
      "2023-09-17 12:39:45.069674: I tensorflow/stream_executor/cuda/cuda_gpu_executor.cc:980] successful NUMA node read from SysFS had negative value (-1), but there must be at least one NUMA node, so returning NUMA node zero\n",
      "2023-09-17 12:39:45.069757: I tensorflow/core/common_runtime/gpu/gpu_device.cc:1616] Created device /job:localhost/replica:0/task:0/device:GPU:0 with 22157 MB memory:  -> device: 0, name: NVIDIA GeForce RTX 3090, pci bus id: 0000:0b:00.0, compute capability: 8.6\n",
      "2023-09-17 12:39:45.943168: I tensorflow/stream_executor/cuda/cuda_blas.cc:1614] TensorFloat-32 will be used for the matrix multiplication. This will only be logged once.\n"
     ]
    },
    {
     "data": {
      "text/plain": [
       "array([0.89950001, 0.90649998, 0.91649997, 0.90700001, 0.9145    ])"
      ]
     },
     "execution_count": 2,
     "metadata": {},
     "output_type": "execute_result"
    }
   ],
   "source": [
    "import numpy as np\n",
    "from tensorflow.keras import models, layers\n",
    "from tensorflow.keras.wrappers.scikit_learn import KerasClassifier\n",
    "from sklearn.model_selection import cross_val_score\n",
    "from sklearn.datasets import make_classification\n",
    "\n",
    "np.random.seed(0)\n",
    "\n",
    "# 특성 개수\n",
    "number_of_features = 100\n",
    "\n",
    "\n",
    "# 특성 행렬과 타깃 벡터를 만듭니다.\n",
    "X, y = make_classification(n_samples=10000, \n",
    "                          n_features=number_of_features, \n",
    "                          n_informative=3, \n",
    "                          n_redundant=0,\n",
    "                          n_classes=2, \n",
    "                          weights=[.5, .5], \n",
    "                          random_state=0)\n",
    "\n",
    "# 설정 완료된 신경망을 반환하는 함수를 만듭니다.\n",
    "def create_network():\n",
    "    \n",
    "    # 신경망 모델을 만듭니다.    \n",
    "    net = models.Sequential()\n",
    "    \n",
    "    # 렐루 활성화 함수를 사용한 완전 연결 층을 추가합니다.    \n",
    "    net.add(layers.Dense(units=16, activation='relu',\n",
    "                        input_shape=(number_of_features, )))\n",
    "    net.add(layers.Dense(units=16, activation='relu'))\n",
    "\n",
    "    # 시그모이드 활성화 함수를 사용한 완전 연결 층을 추가합니다.\n",
    "    net.add(layers.Dense(units=1, activation='sigmoid'))\n",
    "    \n",
    "    # 신경망의 모델 설정을 완료합니다.    \n",
    "    net.compile(loss='binary_crossentropy', \n",
    "               optimizer='rmsprop',\n",
    "               metrics=['accuracy'])\n",
    "\n",
    "    # 설정 완료된 모델을 반환합니다.    \n",
    "    return net\n",
    "\n",
    "\n",
    "# 케라스 모델을 래핑하여 사이킷런에서 사용할 수 있도록 만듭니다.\n",
    "net = KerasClassifier(build_fn = create_network, \n",
    "                     epochs=10, \n",
    "                     batch_size=100, \n",
    "                     verbose=0)\n",
    "\n",
    "# 3-폴드 교차검증을 사용하여 신경망을 평가합니다.\n",
    "cross_val_score(net, X, y, cv=5)"
   ]
  },
  {
   "cell_type": "markdown",
   "id": "13119e51",
   "metadata": {},
   "source": [
    "# 신경망 튜닝하기\n",
    "- 그리드 서치로 딥러닝의 최상의 하이퍼파라미터를 찾는 것은 생각보다 많은 시간이 걸릴 수 있다는 것에 주의 해야"
   ]
  },
  {
   "cell_type": "code",
   "execution_count": 1,
   "id": "760be2c8",
   "metadata": {
    "scrolled": true
   },
   "outputs": [
    {
     "name": "stderr",
     "output_type": "stream",
     "text": [
      "2023-09-17 12:54:09.794780: I tensorflow/core/platform/cpu_feature_guard.cc:193] This TensorFlow binary is optimized with oneAPI Deep Neural Network Library (oneDNN) to use the following CPU instructions in performance-critical operations:  AVX2 FMA\n",
      "To enable them in other operations, rebuild TensorFlow with the appropriate compiler flags.\n",
      "2023-09-17 12:54:09.891039: E tensorflow/stream_executor/cuda/cuda_blas.cc:2981] Unable to register cuBLAS factory: Attempting to register factory for plugin cuBLAS when one has already been registered\n",
      "2023-09-17 12:54:10.186198: W tensorflow/stream_executor/platform/default/dso_loader.cc:64] Could not load dynamic library 'libnvinfer.so.7'; dlerror: libnvinfer.so.7: cannot open shared object file: No such file or directory; LD_LIBRARY_PATH: /usr/local/cuda-12/lib64::/usr/local/cuda-12.0/lib64/:/usr/local/cuda-11.7/lib64:/home/restful3/anaconda3/lib:/home/restful3/anaconda3/envs/trading/lib:/home/restful3/anaconda3/envs/trading/lib/python3.10/site-packages/tensorrt\n",
      "2023-09-17 12:54:10.186244: W tensorflow/stream_executor/platform/default/dso_loader.cc:64] Could not load dynamic library 'libnvinfer_plugin.so.7'; dlerror: libnvinfer_plugin.so.7: cannot open shared object file: No such file or directory; LD_LIBRARY_PATH: /usr/local/cuda-12/lib64::/usr/local/cuda-12.0/lib64/:/usr/local/cuda-11.7/lib64:/home/restful3/anaconda3/lib:/home/restful3/anaconda3/envs/trading/lib:/home/restful3/anaconda3/envs/trading/lib/python3.10/site-packages/tensorrt\n",
      "2023-09-17 12:54:10.186248: W tensorflow/compiler/tf2tensorrt/utils/py_utils.cc:38] TF-TRT Warning: Cannot dlopen some TensorRT libraries. If you would like to use Nvidia GPU with TensorRT, please make sure the missing libraries mentioned above are installed properly.\n",
      "/tmp/ipykernel_13602/3491558398.py:38: DeprecationWarning: KerasClassifier is deprecated, use Sci-Keras (https://github.com/adriangb/scikeras) instead. See https://www.adriangb.com/scikeras/stable/migration.html for help migrating.\n",
      "  net = KerasClassifier(build_fn = create_network,\n",
      "2023-09-17 12:54:11.066598: I tensorflow/stream_executor/cuda/cuda_gpu_executor.cc:980] successful NUMA node read from SysFS had negative value (-1), but there must be at least one NUMA node, so returning NUMA node zero\n"
     ]
    },
    {
     "name": "stdout",
     "output_type": "stream",
     "text": [
      "Fitting 5 folds for each of 16 candidates, totalling 80 fits\n"
     ]
    },
    {
     "name": "stderr",
     "output_type": "stream",
     "text": [
      "2023-09-17 12:54:11.085260: I tensorflow/stream_executor/cuda/cuda_gpu_executor.cc:980] successful NUMA node read from SysFS had negative value (-1), but there must be at least one NUMA node, so returning NUMA node zero\n",
      "2023-09-17 12:54:11.085392: I tensorflow/stream_executor/cuda/cuda_gpu_executor.cc:980] successful NUMA node read from SysFS had negative value (-1), but there must be at least one NUMA node, so returning NUMA node zero\n",
      "2023-09-17 12:54:11.085860: I tensorflow/core/platform/cpu_feature_guard.cc:193] This TensorFlow binary is optimized with oneAPI Deep Neural Network Library (oneDNN) to use the following CPU instructions in performance-critical operations:  AVX2 FMA\n",
      "To enable them in other operations, rebuild TensorFlow with the appropriate compiler flags.\n",
      "2023-09-17 12:54:11.086749: I tensorflow/stream_executor/cuda/cuda_gpu_executor.cc:980] successful NUMA node read from SysFS had negative value (-1), but there must be at least one NUMA node, so returning NUMA node zero\n",
      "2023-09-17 12:54:11.086877: I tensorflow/stream_executor/cuda/cuda_gpu_executor.cc:980] successful NUMA node read from SysFS had negative value (-1), but there must be at least one NUMA node, so returning NUMA node zero\n",
      "2023-09-17 12:54:11.086989: I tensorflow/stream_executor/cuda/cuda_gpu_executor.cc:980] successful NUMA node read from SysFS had negative value (-1), but there must be at least one NUMA node, so returning NUMA node zero\n",
      "2023-09-17 12:54:11.359834: I tensorflow/stream_executor/cuda/cuda_gpu_executor.cc:980] successful NUMA node read from SysFS had negative value (-1), but there must be at least one NUMA node, so returning NUMA node zero\n",
      "2023-09-17 12:54:11.359980: I tensorflow/stream_executor/cuda/cuda_gpu_executor.cc:980] successful NUMA node read from SysFS had negative value (-1), but there must be at least one NUMA node, so returning NUMA node zero\n",
      "2023-09-17 12:54:11.360088: I tensorflow/stream_executor/cuda/cuda_gpu_executor.cc:980] successful NUMA node read from SysFS had negative value (-1), but there must be at least one NUMA node, so returning NUMA node zero\n",
      "2023-09-17 12:54:11.360172: I tensorflow/core/common_runtime/gpu/gpu_device.cc:1616] Created device /job:localhost/replica:0/task:0/device:GPU:0 with 22157 MB memory:  -> device: 0, name: NVIDIA GeForce RTX 3090, pci bus id: 0000:0b:00.0, compute capability: 8.6\n",
      "2023-09-17 12:54:12.205576: I tensorflow/stream_executor/cuda/cuda_blas.cc:1614] TensorFloat-32 will be used for the matrix multiplication. This will only be logged once.\n"
     ]
    },
    {
     "name": "stdout",
     "output_type": "stream",
     "text": [
      "WARNING:tensorflow:5 out of the last 27 calls to <function Model.make_test_function.<locals>.test_function at 0x7f72bc171e10> triggered tf.function retracing. Tracing is expensive and the excessive number of tracings could be due to (1) creating @tf.function repeatedly in a loop, (2) passing tensors with different shapes, (3) passing Python objects instead of tensors. For (1), please define your @tf.function outside of the loop. For (2), @tf.function has reduce_retracing=True option that can avoid unnecessary retracing. For (3), please refer to https://www.tensorflow.org/guide/function#controlling_retracing and https://www.tensorflow.org/api_docs/python/tf/function for  more details.\n",
      "WARNING:tensorflow:6 out of the last 29 calls to <function Model.make_test_function.<locals>.test_function at 0x7f72e0183130> triggered tf.function retracing. Tracing is expensive and the excessive number of tracings could be due to (1) creating @tf.function repeatedly in a loop, (2) passing tensors with different shapes, (3) passing Python objects instead of tensors. For (1), please define your @tf.function outside of the loop. For (2), @tf.function has reduce_retracing=True option that can avoid unnecessary retracing. For (3), please refer to https://www.tensorflow.org/guide/function#controlling_retracing and https://www.tensorflow.org/api_docs/python/tf/function for  more details.\n"
     ]
    }
   ],
   "source": [
    "import numpy as np\n",
    "from tensorflow.keras import models, layers\n",
    "from tensorflow.keras.wrappers.scikit_learn import KerasClassifier\n",
    "from sklearn.model_selection import GridSearchCV\n",
    "from sklearn.datasets import make_classification\n",
    "\n",
    "np.random.seed(0)\n",
    "\n",
    "\n",
    "# 특성 개수\n",
    "number_of_features = 100\n",
    "\n",
    "\n",
    "# 특성 행렬과 타깃 벡터를 만듭니다.\n",
    "X, y = make_classification(n_samples=10000, \n",
    "                          n_features=number_of_features, \n",
    "                          n_informative=3, \n",
    "                          n_redundant=0,\n",
    "                          n_classes=2, \n",
    "                          weights=[.5, .5], \n",
    "                          random_state=0)\n",
    "\n",
    "\n",
    "# 설정 완료된 신경망을 반환하는 함수를 만듭니다.\n",
    "def create_network(optimizer='rmsprop'):\n",
    "    net = models.Sequential()\n",
    "    net.add(layers.Dense(units=16, activation='relu',\n",
    "                        input_shape=(number_of_features, )))\n",
    "    net.add(layers.Dense(units=16, activation='relu'))\n",
    "    net.add(layers.Dense(units=1, activation='sigmoid'))\n",
    "    \n",
    "    net.compile(loss='binary_crossentropy', # 크로스 엔트로피\n",
    "               optimizer=optimizer, # 옵티마이저\n",
    "               metrics=['accuracy']) # 성능 지표\n",
    "    \n",
    "    return net\n",
    "\n",
    "# 사이킷런에서 사용할 수 있도록 케라스 모델을 감쌉니다.\n",
    "net = KerasClassifier(build_fn = create_network, \n",
    "                     epochs=10, \n",
    "                     batch_size=100, \n",
    "                     verbose=0)\n",
    "\n",
    "# 하이퍼파라미터 탐색 영역을 정의합니다.\n",
    "epochs = [5, 10]\n",
    "batchs = [10, 50, 100, 1000]\n",
    "optimizers = ['rmsprop', 'adam']\n",
    "\n",
    "# 하이퍼파라미터 그리드를 만듭니다.\n",
    "params = dict(optimizer=optimizers, epochs=epochs, batch_size=batchs)\n",
    "\n",
    "# 그리드 서치를 만듭니다.\n",
    "grid = GridSearchCV(estimator=net, param_grid=params, verbose=1)\n",
    "\n",
    "\n",
    "# 그리드 서치를 수행합니다.\n",
    "grid_result = grid.fit(X, y)"
   ]
  },
  {
   "cell_type": "code",
   "execution_count": 3,
   "id": "81f67edb",
   "metadata": {},
   "outputs": [
    {
     "data": {
      "text/plain": [
       "{'batch_size': 10, 'epochs': 5, 'optimizer': 'adam'}"
      ]
     },
     "execution_count": 3,
     "metadata": {},
     "output_type": "execute_result"
    }
   ],
   "source": [
    "grid_result.best_params_"
   ]
  },
  {
   "cell_type": "code",
   "execution_count": 4,
   "id": "dd4a409f",
   "metadata": {},
   "outputs": [
    {
     "data": {
      "text/plain": [
       "0.9312999963760376"
      ]
     },
     "execution_count": 4,
     "metadata": {},
     "output_type": "execute_result"
    }
   ],
   "source": [
    "# 최상의 신경망 하이퍼파라미터를 확인합니다.\n",
    "grid_result.best_score_"
   ]
  },
  {
   "cell_type": "markdown",
   "id": "4c504b6c",
   "metadata": {},
   "source": [
    "# 신경망 시각화하기\n",
    "- sudo apt-get install graphviz\n",
    "- model_to_dot\n",
    "    - 케라스의 네트워크를 빠르게 시각화 할 수 있는 유틸리티 함수\n",
    "    - show_shapes : 입력과 출력의 크기 보여주기 설정"
   ]
  },
  {
   "cell_type": "code",
   "execution_count": 10,
   "id": "d5a4c97a",
   "metadata": {},
   "outputs": [
    {
     "data": {
      "image/svg+xml": [
       "<svg xmlns=\"http://www.w3.org/2000/svg\" xmlns:xlink=\"http://www.w3.org/1999/xlink\" width=\"420pt\" height=\"405pt\" viewBox=\"0.00 0.00 315.00 304.00\">\n",
       "<g id=\"graph0\" class=\"graph\" transform=\"scale(0.75 0.75) rotate(0) translate(4 300)\">\n",
       "<title>G</title>\n",
       "<polygon fill=\"white\" stroke=\"transparent\" points=\"-4,4 -4,-300 311,-300 311,4 -4,4\"/>\n",
       "<!-- 140131416754448 -->\n",
       "<g id=\"node1\" class=\"node\">\n",
       "<title>140131416754448</title>\n",
       "<polygon fill=\"none\" stroke=\"black\" points=\"0,-249.5 0,-295.5 307,-295.5 307,-249.5 0,-249.5\"/>\n",
       "<text text-anchor=\"middle\" x=\"68.5\" y=\"-280.3\" font-family=\"Times,serif\" font-size=\"14.00\">dense_255_input</text>\n",
       "<polyline fill=\"none\" stroke=\"black\" points=\"0,-272.5 137,-272.5 \"/>\n",
       "<text text-anchor=\"middle\" x=\"68.5\" y=\"-257.3\" font-family=\"Times,serif\" font-size=\"14.00\">InputLayer</text>\n",
       "<polyline fill=\"none\" stroke=\"black\" points=\"137,-249.5 137,-295.5 \"/>\n",
       "<text text-anchor=\"middle\" x=\"171\" y=\"-280.3\" font-family=\"Times,serif\" font-size=\"14.00\">input:</text>\n",
       "<polyline fill=\"none\" stroke=\"black\" points=\"137,-272.5 205,-272.5 \"/>\n",
       "<text text-anchor=\"middle\" x=\"171\" y=\"-257.3\" font-family=\"Times,serif\" font-size=\"14.00\">output:</text>\n",
       "<polyline fill=\"none\" stroke=\"black\" points=\"205,-249.5 205,-295.5 \"/>\n",
       "<text text-anchor=\"middle\" x=\"256\" y=\"-280.3\" font-family=\"Times,serif\" font-size=\"14.00\">[(None, 10)]</text>\n",
       "<polyline fill=\"none\" stroke=\"black\" points=\"205,-272.5 307,-272.5 \"/>\n",
       "<text text-anchor=\"middle\" x=\"256\" y=\"-257.3\" font-family=\"Times,serif\" font-size=\"14.00\">[(None, 10)]</text>\n",
       "</g>\n",
       "<!-- 140131415492784 -->\n",
       "<g id=\"node2\" class=\"node\">\n",
       "<title>140131415492784</title>\n",
       "<polygon fill=\"none\" stroke=\"black\" points=\"27.5,-166.5 27.5,-212.5 279.5,-212.5 279.5,-166.5 27.5,-166.5\"/>\n",
       "<text text-anchor=\"middle\" x=\"73.5\" y=\"-197.3\" font-family=\"Times,serif\" font-size=\"14.00\">dense_255</text>\n",
       "<polyline fill=\"none\" stroke=\"black\" points=\"27.5,-189.5 119.5,-189.5 \"/>\n",
       "<text text-anchor=\"middle\" x=\"73.5\" y=\"-174.3\" font-family=\"Times,serif\" font-size=\"14.00\">Dense</text>\n",
       "<polyline fill=\"none\" stroke=\"black\" points=\"119.5,-166.5 119.5,-212.5 \"/>\n",
       "<text text-anchor=\"middle\" x=\"153.5\" y=\"-197.3\" font-family=\"Times,serif\" font-size=\"14.00\">input:</text>\n",
       "<polyline fill=\"none\" stroke=\"black\" points=\"119.5,-189.5 187.5,-189.5 \"/>\n",
       "<text text-anchor=\"middle\" x=\"153.5\" y=\"-174.3\" font-family=\"Times,serif\" font-size=\"14.00\">output:</text>\n",
       "<polyline fill=\"none\" stroke=\"black\" points=\"187.5,-166.5 187.5,-212.5 \"/>\n",
       "<text text-anchor=\"middle\" x=\"233.5\" y=\"-197.3\" font-family=\"Times,serif\" font-size=\"14.00\">(None, 10)</text>\n",
       "<polyline fill=\"none\" stroke=\"black\" points=\"187.5,-189.5 279.5,-189.5 \"/>\n",
       "<text text-anchor=\"middle\" x=\"233.5\" y=\"-174.3\" font-family=\"Times,serif\" font-size=\"14.00\">(None, 16)</text>\n",
       "</g>\n",
       "<!-- 140131416754448&#45;&gt;140131415492784 -->\n",
       "<g id=\"edge1\" class=\"edge\">\n",
       "<title>140131416754448-&gt;140131415492784</title>\n",
       "<path fill=\"none\" stroke=\"black\" d=\"M153.5,-249.37C153.5,-241.15 153.5,-231.66 153.5,-222.73\"/>\n",
       "<polygon fill=\"black\" stroke=\"black\" points=\"157,-222.61 153.5,-212.61 150,-222.61 157,-222.61\"/>\n",
       "</g>\n",
       "<!-- 140126869347856 -->\n",
       "<g id=\"node3\" class=\"node\">\n",
       "<title>140126869347856</title>\n",
       "<polygon fill=\"none\" stroke=\"black\" points=\"27.5,-83.5 27.5,-129.5 279.5,-129.5 279.5,-83.5 27.5,-83.5\"/>\n",
       "<text text-anchor=\"middle\" x=\"73.5\" y=\"-114.3\" font-family=\"Times,serif\" font-size=\"14.00\">dense_256</text>\n",
       "<polyline fill=\"none\" stroke=\"black\" points=\"27.5,-106.5 119.5,-106.5 \"/>\n",
       "<text text-anchor=\"middle\" x=\"73.5\" y=\"-91.3\" font-family=\"Times,serif\" font-size=\"14.00\">Dense</text>\n",
       "<polyline fill=\"none\" stroke=\"black\" points=\"119.5,-83.5 119.5,-129.5 \"/>\n",
       "<text text-anchor=\"middle\" x=\"153.5\" y=\"-114.3\" font-family=\"Times,serif\" font-size=\"14.00\">input:</text>\n",
       "<polyline fill=\"none\" stroke=\"black\" points=\"119.5,-106.5 187.5,-106.5 \"/>\n",
       "<text text-anchor=\"middle\" x=\"153.5\" y=\"-91.3\" font-family=\"Times,serif\" font-size=\"14.00\">output:</text>\n",
       "<polyline fill=\"none\" stroke=\"black\" points=\"187.5,-83.5 187.5,-129.5 \"/>\n",
       "<text text-anchor=\"middle\" x=\"233.5\" y=\"-114.3\" font-family=\"Times,serif\" font-size=\"14.00\">(None, 16)</text>\n",
       "<polyline fill=\"none\" stroke=\"black\" points=\"187.5,-106.5 279.5,-106.5 \"/>\n",
       "<text text-anchor=\"middle\" x=\"233.5\" y=\"-91.3\" font-family=\"Times,serif\" font-size=\"14.00\">(None, 16)</text>\n",
       "</g>\n",
       "<!-- 140131415492784&#45;&gt;140126869347856 -->\n",
       "<g id=\"edge2\" class=\"edge\">\n",
       "<title>140131415492784-&gt;140126869347856</title>\n",
       "<path fill=\"none\" stroke=\"black\" d=\"M153.5,-166.37C153.5,-158.15 153.5,-148.66 153.5,-139.73\"/>\n",
       "<polygon fill=\"black\" stroke=\"black\" points=\"157,-139.61 153.5,-129.61 150,-139.61 157,-139.61\"/>\n",
       "</g>\n",
       "<!-- 140130494663600 -->\n",
       "<g id=\"node4\" class=\"node\">\n",
       "<title>140130494663600</title>\n",
       "<polygon fill=\"none\" stroke=\"black\" points=\"27.5,-0.5 27.5,-46.5 279.5,-46.5 279.5,-0.5 27.5,-0.5\"/>\n",
       "<text text-anchor=\"middle\" x=\"73.5\" y=\"-31.3\" font-family=\"Times,serif\" font-size=\"14.00\">dense_257</text>\n",
       "<polyline fill=\"none\" stroke=\"black\" points=\"27.5,-23.5 119.5,-23.5 \"/>\n",
       "<text text-anchor=\"middle\" x=\"73.5\" y=\"-8.3\" font-family=\"Times,serif\" font-size=\"14.00\">Dense</text>\n",
       "<polyline fill=\"none\" stroke=\"black\" points=\"119.5,-0.5 119.5,-46.5 \"/>\n",
       "<text text-anchor=\"middle\" x=\"153.5\" y=\"-31.3\" font-family=\"Times,serif\" font-size=\"14.00\">input:</text>\n",
       "<polyline fill=\"none\" stroke=\"black\" points=\"119.5,-23.5 187.5,-23.5 \"/>\n",
       "<text text-anchor=\"middle\" x=\"153.5\" y=\"-8.3\" font-family=\"Times,serif\" font-size=\"14.00\">output:</text>\n",
       "<polyline fill=\"none\" stroke=\"black\" points=\"187.5,-0.5 187.5,-46.5 \"/>\n",
       "<text text-anchor=\"middle\" x=\"233.5\" y=\"-31.3\" font-family=\"Times,serif\" font-size=\"14.00\">(None, 16)</text>\n",
       "<polyline fill=\"none\" stroke=\"black\" points=\"187.5,-23.5 279.5,-23.5 \"/>\n",
       "<text text-anchor=\"middle\" x=\"233.5\" y=\"-8.3\" font-family=\"Times,serif\" font-size=\"14.00\">(None, 1)</text>\n",
       "</g>\n",
       "<!-- 140126869347856&#45;&gt;140130494663600 -->\n",
       "<g id=\"edge3\" class=\"edge\">\n",
       "<title>140126869347856-&gt;140130494663600</title>\n",
       "<path fill=\"none\" stroke=\"black\" d=\"M153.5,-83.37C153.5,-75.15 153.5,-65.66 153.5,-56.73\"/>\n",
       "<polygon fill=\"black\" stroke=\"black\" points=\"157,-56.61 153.5,-46.61 150,-56.61 157,-56.61\"/>\n",
       "</g>\n",
       "</g>\n",
       "</svg>"
      ],
      "text/plain": [
       "<IPython.core.display.SVG object>"
      ]
     },
     "execution_count": 10,
     "metadata": {},
     "output_type": "execute_result"
    }
   ],
   "source": [
    "# 라이브러리를 임포트합니다.\n",
    "from tensorflow.keras import models\n",
    "from tensorflow.keras import layers\n",
    "from IPython.display import SVG\n",
    "# 멀티백엔드 케라스를 사용하는 경우 다음 코드를 사용하세요\n",
    "# from keras.utils.vis_utils import model_to_dot\n",
    "from tensorflow.keras.utils import model_to_dot\n",
    "from tensorflow.keras.utils import plot_model\n",
    "\n",
    "# 신경망 모델을 만듭니다.\n",
    "net = models.Sequential()\n",
    "\n",
    "# 렐루 활성화 함수를 사용한 완전 연결 층을 추가합니다.\n",
    "net.add(layers.Dense(units=16, activation=\"relu\", input_shape=(10,)))\n",
    "\n",
    "# 렐루 활성화 함수를 사용한 완전 연결 층을 추가합니다.\n",
    "net.add(layers.Dense(units=16, activation=\"relu\"))\n",
    "\n",
    "# 시그모이드 활성화 함수를 사용한 완전 연결 층을 추가합니다.\n",
    "net.add(layers.Dense(units=1, activation=\"sigmoid\"))\n",
    "\n",
    "# 신경망 구조를 그립니다.\n",
    "SVG(model_to_dot(net, show_shapes=True).create(prog=\"dot\", format=\"svg\"))"
   ]
  },
  {
   "cell_type": "code",
   "execution_count": 8,
   "id": "141fffde",
   "metadata": {},
   "outputs": [
    {
     "name": "stdout",
     "output_type": "stream",
     "text": [
      "Model: \"sequential_83\"\n",
      "_________________________________________________________________\n",
      " Layer (type)                Output Shape              Param #   \n",
      "=================================================================\n",
      " dense_249 (Dense)           (None, 16)                176       \n",
      "                                                                 \n",
      " dense_250 (Dense)           (None, 16)                272       \n",
      "                                                                 \n",
      " dense_251 (Dense)           (None, 1)                 17        \n",
      "                                                                 \n",
      "=================================================================\n",
      "Total params: 465\n",
      "Trainable params: 465\n",
      "Non-trainable params: 0\n",
      "_________________________________________________________________\n"
     ]
    }
   ],
   "source": [
    "net.summary()"
   ]
  },
  {
   "cell_type": "markdown",
   "id": "60e0f769",
   "metadata": {},
   "source": [
    "# 이미지 분류하기\n",
    "- 피드포워드 신경망 (fc) 의 문제점\n",
    "    - 픽셀의 공간 구조를 다루지 못한다. \n",
    "    - 지역 패턴 대신 전체적인 특성의 관계를 학습\n",
    "        - 물체가 이미지에 나타나는 위치에 관심 없음, 눈코입의 위치는 학습 못함\n",
    "- 합성곱 신경망\n",
    "    - 위 문제점을 해결\n",
    "- 폴링층\n",
    "    - 데이터를 요약\n",
    "    - 최대, 평균, 글로벌"
   ]
  },
  {
   "cell_type": "code",
   "execution_count": 27,
   "id": "35733f20",
   "metadata": {},
   "outputs": [
    {
     "data": {
      "text/plain": [
       "<keras.callbacks.History at 0x7f72ac3bfca0>"
      ]
     },
     "execution_count": 27,
     "metadata": {},
     "output_type": "execute_result"
    }
   ],
   "source": [
    "import numpy as np\n",
    "from tensorflow.keras.datasets import mnist\n",
    "from tensorflow.keras.models import Sequential\n",
    "from tensorflow.keras.layers import Dense, Dropout, Flatten\n",
    "# 멀티백엔드 케라스를 사용하는 경우 다음 코드를 사용하세요\n",
    "# from keras.layers.convolutional import Conv2D, MaxPooling2D\n",
    "from tensorflow.keras.layers import Conv2D, MaxPooling2D\n",
    "# 멀티백엔드 케라스를 사용하는 경우 다음 코드를 사용하세요\n",
    "# from keras.utils.np_utils import to_categorical\n",
    "from tensorflow.keras.utils import to_categorical\n",
    "from tensorflow.keras import backend as K\n",
    "\n",
    "# 컬러 채널이 처음에 오도록 설정합니다.\n",
    "K.set_image_data_format(\"channels_first\")\n",
    "\n",
    "# 랜덤 시드를 지정합니다.\n",
    "np.random.seed(0)\n",
    "\n",
    "# 이미지 정보를 설정합니다.\n",
    "channels = 1\n",
    "height = 28\n",
    "width = 28\n",
    "\n",
    "# MNIST 데이터에서 훈련 데이터와 타깃 데이터를 로드합니다.\n",
    "(data_train, target_train), (data_test, target_test) = mnist.load_data()\n",
    "\n",
    "# 훈련 이미지 데이터를 특성의 크기로 바꿉니다.\n",
    "data_train = data_train.reshape(data_train.shape[0], channels, height, width)\n",
    "\n",
    "# 테스트 이미지 데이터를 특성의 크기로 바꿉니다.\n",
    "data_test = data_test.reshape(data_test.shape[0], channels, height, width)\n",
    "\n",
    "# 0과 1사이로 픽셀 강도의 스케일을 조정합니다.\n",
    "features_train = data_train / 255\n",
    "features_test = data_test / 255\n",
    "\n",
    "# 타깃 데이터를 원-핫 인코딩합니다.\n",
    "target_train = to_categorical(target_train)\n",
    "target_test = to_categorical(target_test)\n",
    "number_of_classes = target_test.shape[1]\n",
    "\n",
    "# 신경망 모델을 만듭니다.\n",
    "network = Sequential()\n",
    "\n",
    "# 64 필터, 5x5 윈도, 렐루 활성화 함수를 사용하는 합성곱 층을 추가합니다.\n",
    "network.add(Conv2D(filters=64,\n",
    "                   kernel_size=(5, 5),\n",
    "                   input_shape=(channels, width, height),\n",
    "                   activation='relu'))\n",
    "\n",
    "# 2x2 윈도를 사용하는 최대 풀링 층을 추가합니다.\n",
    "network.add(MaxPooling2D(pool_size=(2, 2)))\n",
    "\n",
    "# 드롭아웃 층을 추가합니다.\n",
    "network.add(Dropout(0.5))\n",
    "\n",
    "# 입력을 일렬로 펼치기 위한 층을 추가합니다.\n",
    "network.add(Flatten())\n",
    "\n",
    "# 렐루 활성화 함수를 사용한 128개 유닛의 완전 연결 층을 추가합니다.\n",
    "network.add(Dense(128, activation=\"relu\"))\n",
    "\n",
    "# 드롭아웃 층을 추가합니다.\n",
    "network.add(Dropout(0.5))\n",
    "\n",
    "# 소프트맥스 활성화 함수를 사용하는 완전 연결 층을 추가합니다.\n",
    "network.add(Dense(number_of_classes, activation=\"softmax\"))\n",
    "\n",
    "# 신경망의 모델 설정을 완료합니다.\n",
    "network.compile(loss=\"categorical_crossentropy\", # 크로스 엔트로피\n",
    "                optimizer=\"rmsprop\", # 옵티마이저\n",
    "                metrics=[\"accuracy\"]) # 성능 지표\n",
    "\n",
    "# 신경망을 훈련합니다.\n",
    "network.fit(features_train, # 특성\n",
    "            target_train, # 타깃\n",
    "            epochs=2, # 에포크 횟수\n",
    "            verbose=0, # 출력 없음\n",
    "            batch_size=1000, # 배치의 샘플 개수ㅁ\n",
    "            validation_data=(features_test, target_test)) # 검증 데이터"
   ]
  },
  {
   "cell_type": "code",
   "execution_count": 28,
   "id": "5c6624cd",
   "metadata": {},
   "outputs": [
    {
     "name": "stdout",
     "output_type": "stream",
     "text": [
      "Model: \"sequential_93\"\n",
      "_________________________________________________________________\n",
      " Layer (type)                Output Shape              Param #   \n",
      "=================================================================\n",
      " conv2d_1 (Conv2D)           (None, 64, 24, 24)        1664      \n",
      "                                                                 \n",
      " max_pooling2d_1 (MaxPooling  (None, 64, 12, 12)       0         \n",
      " 2D)                                                             \n",
      "                                                                 \n",
      " dropout_2 (Dropout)         (None, 64, 12, 12)        0         \n",
      "                                                                 \n",
      " flatten_1 (Flatten)         (None, 9216)              0         \n",
      "                                                                 \n",
      " dense_262 (Dense)           (None, 128)               1179776   \n",
      "                                                                 \n",
      " dropout_3 (Dropout)         (None, 128)               0         \n",
      "                                                                 \n",
      " dense_263 (Dense)           (None, 10)                1290      \n",
      "                                                                 \n",
      "=================================================================\n",
      "Total params: 1,182,730\n",
      "Trainable params: 1,182,730\n",
      "Non-trainable params: 0\n",
      "_________________________________________________________________\n"
     ]
    }
   ],
   "source": [
    "network.summary()"
   ]
  },
  {
   "cell_type": "markdown",
   "id": "b78f40af",
   "metadata": {},
   "source": [
    "# 이미지 증식으로 성능 향상하기\n",
    "- 다음 코드로 이미지 다운로드\n",
    "    - wget -O raw_images.tar.gz http://bit.ly/2XPbBsE\n",
    "    - tar -xvzf raw_images.tar.gz\n",
    "- ImageDataGenerator : 이미지를 전처리 하여 모델의 일반화 성능 향상\n",
    "    - featurewise_center : 픽셀값 표준화\n",
    "    - zoom_range : 랜덤하게 확대\n",
    "    - width_shift_range : 이미지를 랜덤하게 이동\n",
    "    - horizontal_flip : 이미지를 랜덤하게 뒤집습니다\n",
    "    - rotation_range : 랜덤하게 회전"
   ]
  },
  {
   "cell_type": "code",
   "execution_count": 15,
   "id": "a5c2c4fd",
   "metadata": {},
   "outputs": [
    {
     "name": "stdout",
     "output_type": "stream",
     "text": [
      "Found 12665 images belonging to 2 classes.\n"
     ]
    }
   ],
   "source": [
    "# 라이브러리를 임포트합니다.\n",
    "from tensorflow.keras.preprocessing.image import ImageDataGenerator\n",
    "\n",
    "# 이미지 증식을 위해 객체를 만듭니다.\n",
    "augmentation = ImageDataGenerator(featurewise_center=True, # ZCA 화이트닝(whitening)을 적용합니다.\n",
    "                                  zoom_range=0.3, # 이미지를 랜덤하게 확대합니다.\n",
    "                                  width_shift_range=0.2, # 이미지를 랜덤하게 이동합니다.\n",
    "                                  horizontal_flip=True, # 이미지를 랜덤하게 뒤집습니다.\n",
    "                                  rotation_range=90) # 랜덤하게 회전합니다.\n",
    "\n",
    "# 'raw/images' 디렉토리에 있는 모든 이미지에 적용합니다.\n",
    "augment_images = augmentation.flow_from_directory(\"../../data/raw/images\", # Image folder\n",
    "                                                  batch_size=32, # 배치 크기\n",
    "                                                  class_mode=\"binary\", # 클래스\n",
    "                                                  save_to_dir=\"processed/images\")"
   ]
  },
  {
   "cell_type": "markdown",
   "id": "10bcfb95",
   "metadata": {},
   "source": [
    "# 텍스트 분류하기\n",
    "- LSTM 순환 신경망\n",
    "    - 정보가 순환되어 네트워크로 다시 들어가는 구조\n",
    "    - 일종의 기억을 제공하기 때문에 순차적 데이터 학습에 유리\n",
    "    - LSTM은 장기 기억을 사용, 성능 우수 \n",
    "- 자연어 처리를 위한 전처리\n",
    "    - pad_sequences : 일정한 길이로 만들어 줌 (리뷰는 길이가 다 다름)\n",
    "    - Embedding : 단어를 벡터로 변환\n",
    "    \n",
    "<img src=\"./figs/20_05.png\">\n",
    "\n",
    "[소스](http://dprogrammer.org/rnn-lstm-gru)"
   ]
  },
  {
   "cell_type": "code",
   "execution_count": 30,
   "id": "b819d222",
   "metadata": {},
   "outputs": [],
   "source": [
    "# 라이브러리를 임포트합니다.\n",
    "import numpy as np\n",
    "from tensorflow.keras.datasets import imdb\n",
    "from tensorflow.keras.preprocessing import sequence\n",
    "from tensorflow.keras import models\n",
    "from tensorflow.keras import layers\n",
    "\n",
    "# 랜덤 시드를 설정합니다.\n",
    "np.random.seed(0)\n",
    "\n",
    "# 필요한 특성 개수를 지정합니다.\n",
    "number_of_features = 1000\n",
    "\n",
    "# 영화 리뷰 데이터에서 훈련 데이터와 타깃 벡터를 로드합니다.\n",
    "(data_train, target_train), (data_test, target_test) = imdb.load_data(\n",
    "    num_words=number_of_features)\n",
    "\n",
    "# 각 샘플이 400개의 특성을 가지도록 패딩하거나 잘라냅니다.\n",
    "features_train = sequence.pad_sequences(data_train, maxlen=400)\n",
    "features_test = sequence.pad_sequences(data_test, maxlen=400)\n",
    "\n",
    "# 신경망 모델을 만듭니다.\n",
    "network = models.Sequential()\n",
    "\n",
    "# 임베딩(embedding) 층을 추가합니다.\n",
    "network.add(layers.Embedding(input_dim=number_of_features, output_dim=128))\n",
    "\n",
    "# 128개의 유닛을 가진 LSTM 층을 추가합니다.\n",
    "network.add(layers.LSTM(units=128))\n",
    "\n",
    "# 시그모이드 활성화 함수를 사용한 완전 연결 층을 추가합니다.\n",
    "network.add(layers.Dense(units=1, activation=\"sigmoid\"))\n",
    "\n",
    "# 신경망의 모델 설정을 완료합니다.\n",
    "network.compile(loss=\"binary_crossentropy\", # 크로스 엔트로피\n",
    "                optimizer=\"Adam\", # 옵티마이저\n",
    "                metrics=[\"accuracy\"]) # 성능 지표\n",
    "\n",
    "# 신경망을 훈련합니다.\n",
    "history = network.fit(features_train, # 특성\n",
    "                      target_train, # 타깃\n",
    "                      epochs=3, # 에포크 횟수\n",
    "                      verbose=0, # 출력 없음\n",
    "                      batch_size=1000, # 배치의 샘플 개수\n",
    "                      validation_data=(features_test, target_test)) # 테스트 데이터"
   ]
  },
  {
   "cell_type": "markdown",
   "id": "87476086",
   "metadata": {},
   "source": [
    "- GRU"
   ]
  },
  {
   "cell_type": "code",
   "execution_count": 33,
   "id": "54de3912",
   "metadata": {},
   "outputs": [],
   "source": [
    "# 신경망 모델을 만듭니다.\n",
    "network = models.Sequential()\n",
    "\n",
    "# 임베딩(embedding) 층을 추가합니다.\n",
    "network.add(layers.Embedding(input_dim=number_of_features, output_dim=128))\n",
    "\n",
    "# 128개의 유닛을 가진 GRU 층을 추가합니다.\n",
    "network.add(layers.GRU(units=128))\n",
    "\n",
    "# 시그모이드 활성화 함수를 사용한 완전 연결 층을 추가합니다.\n",
    "network.add(layers.Dense(units=1, activation=\"sigmoid\"))\n",
    "\n",
    "# 신경망의 모델 설정을 완료합니다.\n",
    "network.compile(loss=\"binary_crossentropy\", # 크로스 엔트로피\n",
    "                optimizer=\"Adam\", # 옵티마이저\n",
    "                metrics=[\"accuracy\"]) # 성능 지표\n",
    "\n",
    "# 신경망을 훈련합니다.\n",
    "history = network.fit(features_train, # 특성\n",
    "                      target_train, # 타깃\n",
    "                      epochs=3, # 에포크 횟수\n",
    "                      verbose=0, # 출력 없음\n",
    "                      batch_size=1000, # 배치의 샘플 개수\n",
    "                      validation_data=(features_test, target_test)) # 테스트 데이터"
   ]
  }
 ],
 "metadata": {
  "kernelspec": {
   "display_name": "Python 3 (ipykernel)",
   "language": "python",
   "name": "python3"
  },
  "language_info": {
   "codemirror_mode": {
    "name": "ipython",
    "version": 3
   },
   "file_extension": ".py",
   "mimetype": "text/x-python",
   "name": "python",
   "nbconvert_exporter": "python",
   "pygments_lexer": "ipython3",
   "version": "3.10.9"
  },
  "toc": {
   "base_numbering": 1,
   "nav_menu": {},
   "number_sections": true,
   "sideBar": true,
   "skip_h1_title": false,
   "title_cell": "Table of Contents",
   "title_sidebar": "Contents",
   "toc_cell": false,
   "toc_position": {
    "height": "calc(100% - 180px)",
    "left": "10px",
    "top": "150px",
    "width": "241.919px"
   },
   "toc_section_display": true,
   "toc_window_display": false
  }
 },
 "nbformat": 4,
 "nbformat_minor": 5
}
