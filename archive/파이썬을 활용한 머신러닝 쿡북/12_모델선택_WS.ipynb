{
  "cells": [
    {
      "cell_type": "markdown",
      "metadata": {
        "id": "view-in-github",
        "colab_type": "text"
      },
      "source": [
        "<a href=\"https://colab.research.google.com/github/restful3/ds4th_study/blob/main/source/%ED%8C%8C%EC%9D%B4%EC%8D%AC%EC%9D%84%20%ED%99%9C%EC%9A%A9%ED%95%9C%20%EB%A8%B8%EC%8B%A0%EB%9F%AC%EB%8B%9D%20%EC%BF%A1%EB%B6%81/12_%EB%AA%A8%EB%8D%B8%EC%84%A0%ED%83%9D_WS.ipynb\" target=\"_parent\"><img src=\"https://colab.research.google.com/assets/colab-badge.svg\" alt=\"Open In Colab\"/></a>"
      ]
    },
    {
      "cell_type": "markdown",
      "id": "9873a4a8-ae56-4572-89f8-8fb3f43a8e25",
      "metadata": {
        "id": "9873a4a8-ae56-4572-89f8-8fb3f43a8e25"
      },
      "source": [
        "# 12 모델선택\n",
        "- 머신러닝은 알고리즘을 훈련하여 손실함수를 최소화 시킴으로써 모델의 파라미터를 학습\n",
        "  - 이 과정에서 학습과정에서 정의되어야 하는 하이퍼파라미터도 존재\n",
        "- 모델선택이란?\n",
        "  1. 최선의 하이퍼파라미터를 선택하는 것  \n",
        "  2. 최선의 학습알고리즘을 선택하는 것"
      ]
    },
    {
      "cell_type": "markdown",
      "source": [
        "# 1. 최선의 하이퍼파라미터를 선택하기"
      ],
      "metadata": {
        "id": "NgZyf0Dm01XF"
      },
      "id": "NgZyf0Dm01XF"
    },
    {
      "cell_type": "markdown",
      "id": "c34bf635-9b7a-4757-8f3a-d10f7b1a097f",
      "metadata": {
        "id": "c34bf635-9b7a-4757-8f3a-d10f7b1a097f"
      },
      "source": [
        "## 12.1 GridSearchCV\n",
        "- 범위를 직접 지정하여 (모든 조합을 완전 탐색하여), 최적의 하이퍼파라미터 선택\n",
        "  - Hint : 모델에 따라 각 주요 하이퍼파라미터의 의미를 아는 것이 중요!"
      ]
    },
    {
      "cell_type": "code",
      "execution_count": null,
      "id": "42868b4f-830c-4382-a965-540a1f70daa1",
      "metadata": {
        "colab": {
          "base_uri": "https://localhost:8080/"
        },
        "id": "42868b4f-830c-4382-a965-540a1f70daa1",
        "outputId": "cd032dc3-793a-4874-c060-38541618de54"
      },
      "outputs": [
        {
          "output_type": "stream",
          "name": "stdout",
          "text": [
            "{'C': 7.742636826811269, 'penalty': 'l2'}\n",
            "1.6605sec\n"
          ]
        }
      ],
      "source": [
        "import numpy as np\n",
        "import time\n",
        "from sklearn import datasets,linear_model\n",
        "from sklearn.model_selection import GridSearchCV\n",
        "import warnings\n",
        "warnings.filterwarnings('ignore')\n",
        "\n",
        "# 데이터 로드\n",
        "iris = datasets.load_iris()\n",
        "feature, target = iris.data, iris.target\n",
        "\n",
        "# 모델 생성\n",
        "lr = linear_model.LogisticRegression()\n",
        "\n",
        "# 모델에 맞는 하이퍼파라미터의 후보범위 생성\n",
        "penalty,C = ['l1','l2'], np.logspace(0,4,10)\n",
        "hp = dict(C=C,penalty=penalty) # 그리드 딕셔너리 생성\n",
        "\n",
        "# 그리드서치 객체생성 및 학습\n",
        "start = time.time()\n",
        "grid_cv = GridSearchCV(lr,hp,cv=5,verbose=0,n_jobs=-1)\n",
        "# 모델 넣고 cv객체생성\n",
        "# verbose는 탐색과정에서 출력되는 메시지의 양을 결정 : 0은 아무것도 출력하지 않고 1에서 3까지 갈수록 자세한 메시지 출력\n",
        "best_model = grid_cv.fit(feature,target) # 학습\n",
        "end = time.time()\n",
        "\n",
        "# 최적의 하이퍼파라미터 셋팅/확인\n",
        "best_model.best_estimator_ # 최적예측을 찾아서 셋팅함\n",
        "print(best_model.best_params_)# 최적예측의 하이퍼파라미터 확인\n",
        "print(f'{end - start:.4f}sec')"
      ]
    },
    {
      "cell_type": "code",
      "execution_count": null,
      "id": "abfdb4f7-2161-445e-9795-f3dacafc5ac6",
      "metadata": {
        "colab": {
          "base_uri": "https://localhost:8080/"
        },
        "id": "abfdb4f7-2161-445e-9795-f3dacafc5ac6",
        "outputId": "85fbdc48-04f9-4ff5-f152-9fd0790a5a73"
      },
      "outputs": [
        {
          "output_type": "stream",
          "name": "stdout",
          "text": [
            "              precision    recall  f1-score   support\n",
            "\n",
            "           0       1.00      1.00      1.00        50\n",
            "           1       0.96      1.00      0.98        48\n",
            "           2       1.00      0.96      0.98        52\n",
            "\n",
            "    accuracy                           0.99       150\n",
            "   macro avg       0.99      0.99      0.99       150\n",
            "weighted avg       0.99      0.99      0.99       150\n",
            "\n"
          ]
        }
      ],
      "source": [
        "from sklearn.metrics import classification_report\n",
        "print(classification_report(best_model.predict(feature),target))"
      ]
    },
    {
      "cell_type": "markdown",
      "id": "b2372cf1-a017-4e09-94c6-6dc0b0bcb1ed",
      "metadata": {
        "id": "b2372cf1-a017-4e09-94c6-6dc0b0bcb1ed"
      },
      "source": [
        "## 12.2 RandomSearchCV\n",
        "- gridcv보다 계산소요 적음"
      ]
    },
    {
      "cell_type": "code",
      "execution_count": null,
      "id": "33327e5a-53f8-4777-9dee-19468715f2e0",
      "metadata": {
        "colab": {
          "base_uri": "https://localhost:8080/"
        },
        "id": "33327e5a-53f8-4777-9dee-19468715f2e0",
        "outputId": "9c8fc4fd-0222-40ca-91dc-d0dee2ea223e"
      },
      "outputs": [
        {
          "output_type": "stream",
          "name": "stdout",
          "text": [
            "{'C': 3.730229437354635, 'penalty': 'l2'}\n",
            "0.4184sec\n"
          ]
        }
      ],
      "source": [
        "from scipy.stats import uniform\n",
        "from sklearn import datasets,linear_model\n",
        "from sklearn.model_selection import RandomizedSearchCV\n",
        "import warnings\n",
        "warnings.filterwarnings('ignore')\n",
        "\n",
        "# 데이터 로드\n",
        "iris = datasets.load_iris()\n",
        "feature, target = iris.data, iris.target\n",
        "\n",
        "# 모델 생성\n",
        "lr = linear_model.LogisticRegression()\n",
        "\n",
        "# 모델에 맞는 하이퍼파라미터의 후보범위 생성\n",
        "penalty,C = ['l1','l2'], uniform(loc=0, scale=4) # 0~4 사이의 균등분포로 정의\n",
        "hp = dict(C=C, penalty=penalty) # 그리드 딕셔너리 생성\n",
        "\n",
        "# 그리드서치 객체생성 및 학습\n",
        "start = time.time()\n",
        "random_cv = RandomizedSearchCV(lr, hp, cv=5, verbose=0, n_jobs=-1,\n",
        "                               random_state=1, n_iter=10)\n",
        "# 랜덤서치객체생성\n",
        "# 그리드서치와 차이 : 랜덤하게 돌리므로 시드고정가능, n_iter횟수 지정 가능\n",
        "best_model = random_cv.fit(feature,target) # 학습\n",
        "end = time.time()\n",
        "\n",
        "# 최적의 하이퍼파라미터 셋팅/확인\n",
        "best_model.best_estimator_ # 최적예측으로 지정\n",
        "print(best_model.best_params_) # 최적예측의 파라미터 확인\n",
        "print(f'{end - start:.4f}sec')"
      ]
    },
    {
      "cell_type": "code",
      "source": [
        "from sklearn.metrics import classification_report\n",
        "print(classification_report(best_model.predict(feature),target))"
      ],
      "metadata": {
        "colab": {
          "base_uri": "https://localhost:8080/"
        },
        "id": "303siAeU3BHp",
        "outputId": "2e25a20c-b858-4477-8124-631efa766ff5"
      },
      "id": "303siAeU3BHp",
      "execution_count": null,
      "outputs": [
        {
          "output_type": "stream",
          "name": "stdout",
          "text": [
            "              precision    recall  f1-score   support\n",
            "\n",
            "           0       1.00      1.00      1.00        50\n",
            "           1       0.96      1.00      0.98        48\n",
            "           2       1.00      0.96      0.98        52\n",
            "\n",
            "    accuracy                           0.99       150\n",
            "   macro avg       0.99      0.99      0.99       150\n",
            "weighted avg       0.99      0.99      0.99       150\n",
            "\n"
          ]
        }
      ]
    },
    {
      "cell_type": "markdown",
      "source": [
        "# 최선의 모델 알고리즘 선택하기"
      ],
      "metadata": {
        "id": "NWQeucdK4YVj"
      },
      "id": "NWQeucdK4YVj"
    },
    {
      "cell_type": "markdown",
      "id": "c9c0e4c0-0b5d-400c-91d5-7e04951036a9",
      "metadata": {
        "id": "c9c0e4c0-0b5d-400c-91d5-7e04951036a9"
      },
      "source": [
        "## 12.3 Pipeline으로 다수모델 비교선택\n",
        "- 후보 알고리즘과 이에 해당하는 하이퍼파라미터의 딕셔너리를 만들어서 최선의 모델 선택"
      ]
    },
    {
      "cell_type": "code",
      "source": [
        "## 두개 이상의 알고리즘에서 각각의 하이퍼파라미터를 탐색하여 최적의 모델을 선택해보자\n",
        "import numpy as np\n",
        "from sklearn import datasets\n",
        "from sklearn.linear_model import LogisticRegression\n",
        "from sklearn.ensemble import RandomForestClassifier\n",
        "from sklearn.model_selection import GridSearchCV, train_test_split\n",
        "from sklearn.pipeline import Pipeline\n",
        "import warnings\n",
        "warnings.filterwarnings('ignore')\n",
        "\n",
        "# 데이터 로드\n",
        "iris = datasets.load_iris()\n",
        "feature, target = iris.data, iris.target\n",
        "\n",
        "# 모델생성\n",
        "pipe = Pipeline([('clf',RandomForestClassifier())])\n",
        "\n",
        "# 모델에 맞는 하이퍼파라미터의 후보범위 생성\n",
        "param = [{'clf':[LogisticRegression()],\n",
        "          'clf__penalty':['l1','l2'],\n",
        "          'clf__C': np.logspace(0,4,10)},\n",
        "         {'clf':[RandomForestClassifier()],\n",
        "          'clf__n_estimators':[10,100,1000],\n",
        "          'clf__max_features':[1,2,3]}]\n",
        "\n",
        "# 그리드서치 객체생성 및 학습\n",
        "start = time.time()\n",
        "gcv = GridSearchCV(pipe, param, cv=5, verbose=0)\n",
        "# 그리드서치와 차이 : 랜덤하게 돌리므로 시드고정가능, n_iter횟수 지정 가능\n",
        "best_model = gcv.fit(feature,target) # 학습\n",
        "end = time.time()\n",
        "\n",
        "# 최적의 하이퍼파라미터 셋팅/확인\n",
        "best_model.best_estimator_ # 최적예측으로 지정\n",
        "print(best_model.best_params_) # 최적예측의 파라미터 확인\n",
        "print(f'{end - start:.4f}sec')"
      ],
      "metadata": {
        "colab": {
          "base_uri": "https://localhost:8080/"
        },
        "id": "vu_mgWKP18-V",
        "outputId": "2605dd0a-18db-426f-b805-90030965106b"
      },
      "id": "vu_mgWKP18-V",
      "execution_count": null,
      "outputs": [
        {
          "output_type": "stream",
          "name": "stdout",
          "text": [
            "{'clf': LogisticRegression(C=7.742636826811269), 'clf__C': 7.742636826811269, 'clf__penalty': 'l2'}\n",
            "31.9949sec\n"
          ]
        }
      ]
    },
    {
      "cell_type": "code",
      "source": [
        "# 여러개의 모델을 한번에 돌려서 결과를 비교해봅니다\n",
        "\n",
        "from sklearn import datasets\n",
        "from sklearn.model_selection import GridSearchCV, train_test_split\n",
        "from sklearn.linear_model import LogisticRegression\n",
        "from sklearn.ensemble import RandomForestClassifier\n",
        "from sklearn.pipeline import Pipeline, FeatureUnion\n",
        "from sklearn.preprocessing import StandardScaler\n",
        "from sklearn.metrics import classification_report, confusion_matrix\n",
        "import warnings\n",
        "warnings.filterwarnings('ignore')\n",
        "\n",
        "# 데이터 로드\n",
        "iris = datasets.load_iris()\n",
        "feature, target = iris.data, iris.target\n",
        "X_train, X_test, y_train, y_test = train_test_split(feature, target, test_size=0.1)\n",
        "\n",
        "# 전처리와 함께 모델 생성\n",
        "pipe_lr = Pipeline([('scl',StandardScaler()),\n",
        "                   ('clf',LogisticRegression(random_state=42))])\n",
        "pipe_rf = Pipeline([('scl',StandardScaler()),\n",
        "                    ('clf',RandomForestClassifier(random_state=42))])\n",
        "\n",
        "# 모델에 맞는 하이퍼파라미터의 후보범위 생성\n",
        "penalty , C = ['l1','l2'], np.logspace(0, 4,10)\n",
        "n_estimators, max_features = [10, 100, 1000], [1, 2, 3]\n",
        "# 하이퍼파라미터딕셔너리 생성\n",
        "param_lr = [{'clf__penalty':penalty,\n",
        "            'clf__C':C}]\n",
        "param_rf = [{'clf__n_estimators':n_estimators,\n",
        "             'clf__max_features':max_features}]\n",
        "\n",
        "# For Loop를 위해 리스트에 담아줌\n",
        "models = ['LogisticRegression','RandomForestClassifier']\n",
        "pipes = [pipe_lr,pipe_rf]\n",
        "params = [param_lr,param_rf]\n",
        "\n",
        "model_prob = {}\n",
        "model_best_params = {}\n",
        "model_confusion = {}\n",
        "\n",
        "for idx , (param , model) in enumerate(zip(params , pipes)) :\n",
        "    search = GridSearchCV(model, param, cv=5 , n_jobs=-1 , verbose=0)\n",
        "    search.fit(X_train, y_train)\n",
        "    y_pred = search.predict(X_test)\n",
        "    try :\n",
        "        y_prob = search.predict_proba(X_test)\n",
        "    except Exception as e :\n",
        "        pass\n",
        "    model_prob[models[idx]] = classification_report(y_test, y_pred)\n",
        "    model_best_params[models[idx]] = search.best_params_\n",
        "    model_confusion[models[idx]] = confusion_matrix(y_test, y_pred)\n",
        "\n",
        "for model in models:\n",
        "  print(model)\n",
        "  print()\n",
        "  print(model_confusion[model])\n",
        "  print()\n",
        "  print(model_prob[model])\n",
        "  print()\n",
        "  print(model_best_params[model])\n",
        "  print('---------------------------------')"
      ],
      "metadata": {
        "colab": {
          "base_uri": "https://localhost:8080/"
        },
        "id": "-oVP2rW46ugI",
        "outputId": "ee7d4730-95a3-43f0-be02-e17b0dd22e03"
      },
      "id": "-oVP2rW46ugI",
      "execution_count": null,
      "outputs": [
        {
          "output_type": "stream",
          "name": "stdout",
          "text": [
            "LogisticRegression\n",
            "\n",
            "[[5 0 0]\n",
            " [0 4 0]\n",
            " [0 0 6]]\n",
            "\n",
            "              precision    recall  f1-score   support\n",
            "\n",
            "           0       1.00      1.00      1.00         5\n",
            "           1       1.00      1.00      1.00         4\n",
            "           2       1.00      1.00      1.00         6\n",
            "\n",
            "    accuracy                           1.00        15\n",
            "   macro avg       1.00      1.00      1.00        15\n",
            "weighted avg       1.00      1.00      1.00        15\n",
            "\n",
            "\n",
            "{'clf__C': 464.15888336127773, 'clf__penalty': 'l2'}\n",
            "---------------------------------\n",
            "RandomForestClassifier\n",
            "\n",
            "[[5 0 0]\n",
            " [0 4 0]\n",
            " [0 0 6]]\n",
            "\n",
            "              precision    recall  f1-score   support\n",
            "\n",
            "           0       1.00      1.00      1.00         5\n",
            "           1       1.00      1.00      1.00         4\n",
            "           2       1.00      1.00      1.00         6\n",
            "\n",
            "    accuracy                           1.00        15\n",
            "   macro avg       1.00      1.00      1.00        15\n",
            "weighted avg       1.00      1.00      1.00        15\n",
            "\n",
            "\n",
            "{'clf__max_features': 2, 'clf__n_estimators': 1000}\n",
            "---------------------------------\n"
          ]
        }
      ]
    },
    {
      "cell_type": "markdown",
      "id": "0f0c2f46-ce7d-4b58-b1a1-371df7dd0af1",
      "metadata": {
        "tags": [],
        "id": "0f0c2f46-ce7d-4b58-b1a1-371df7dd0af1"
      },
      "source": [
        "## 12.4 Pipeline으로 전처리+모델선택"
      ]
    },
    {
      "cell_type": "code",
      "execution_count": null,
      "id": "645c6e4e-33c2-4b3f-a59d-cfd652e57b0f",
      "metadata": {
        "colab": {
          "base_uri": "https://localhost:8080/",
          "height": 74
        },
        "id": "645c6e4e-33c2-4b3f-a59d-cfd652e57b0f",
        "outputId": "7456782d-64b1-458b-8ce4-622ea709422f"
      },
      "outputs": [
        {
          "output_type": "execute_result",
          "data": {
            "text/plain": [
              "LogisticRegression(C=7.742636826811269)"
            ],
            "text/html": [
              "<style>#sk-container-id-1 {color: black;background-color: white;}#sk-container-id-1 pre{padding: 0;}#sk-container-id-1 div.sk-toggleable {background-color: white;}#sk-container-id-1 label.sk-toggleable__label {cursor: pointer;display: block;width: 100%;margin-bottom: 0;padding: 0.3em;box-sizing: border-box;text-align: center;}#sk-container-id-1 label.sk-toggleable__label-arrow:before {content: \"▸\";float: left;margin-right: 0.25em;color: #696969;}#sk-container-id-1 label.sk-toggleable__label-arrow:hover:before {color: black;}#sk-container-id-1 div.sk-estimator:hover label.sk-toggleable__label-arrow:before {color: black;}#sk-container-id-1 div.sk-toggleable__content {max-height: 0;max-width: 0;overflow: hidden;text-align: left;background-color: #f0f8ff;}#sk-container-id-1 div.sk-toggleable__content pre {margin: 0.2em;color: black;border-radius: 0.25em;background-color: #f0f8ff;}#sk-container-id-1 input.sk-toggleable__control:checked~div.sk-toggleable__content {max-height: 200px;max-width: 100%;overflow: auto;}#sk-container-id-1 input.sk-toggleable__control:checked~label.sk-toggleable__label-arrow:before {content: \"▾\";}#sk-container-id-1 div.sk-estimator input.sk-toggleable__control:checked~label.sk-toggleable__label {background-color: #d4ebff;}#sk-container-id-1 div.sk-label input.sk-toggleable__control:checked~label.sk-toggleable__label {background-color: #d4ebff;}#sk-container-id-1 input.sk-hidden--visually {border: 0;clip: rect(1px 1px 1px 1px);clip: rect(1px, 1px, 1px, 1px);height: 1px;margin: -1px;overflow: hidden;padding: 0;position: absolute;width: 1px;}#sk-container-id-1 div.sk-estimator {font-family: monospace;background-color: #f0f8ff;border: 1px dotted black;border-radius: 0.25em;box-sizing: border-box;margin-bottom: 0.5em;}#sk-container-id-1 div.sk-estimator:hover {background-color: #d4ebff;}#sk-container-id-1 div.sk-parallel-item::after {content: \"\";width: 100%;border-bottom: 1px solid gray;flex-grow: 1;}#sk-container-id-1 div.sk-label:hover label.sk-toggleable__label {background-color: #d4ebff;}#sk-container-id-1 div.sk-serial::before {content: \"\";position: absolute;border-left: 1px solid gray;box-sizing: border-box;top: 0;bottom: 0;left: 50%;z-index: 0;}#sk-container-id-1 div.sk-serial {display: flex;flex-direction: column;align-items: center;background-color: white;padding-right: 0.2em;padding-left: 0.2em;position: relative;}#sk-container-id-1 div.sk-item {position: relative;z-index: 1;}#sk-container-id-1 div.sk-parallel {display: flex;align-items: stretch;justify-content: center;background-color: white;position: relative;}#sk-container-id-1 div.sk-item::before, #sk-container-id-1 div.sk-parallel-item::before {content: \"\";position: absolute;border-left: 1px solid gray;box-sizing: border-box;top: 0;bottom: 0;left: 50%;z-index: -1;}#sk-container-id-1 div.sk-parallel-item {display: flex;flex-direction: column;z-index: 1;position: relative;background-color: white;}#sk-container-id-1 div.sk-parallel-item:first-child::after {align-self: flex-end;width: 50%;}#sk-container-id-1 div.sk-parallel-item:last-child::after {align-self: flex-start;width: 50%;}#sk-container-id-1 div.sk-parallel-item:only-child::after {width: 0;}#sk-container-id-1 div.sk-dashed-wrapped {border: 1px dashed gray;margin: 0 0.4em 0.5em 0.4em;box-sizing: border-box;padding-bottom: 0.4em;background-color: white;}#sk-container-id-1 div.sk-label label {font-family: monospace;font-weight: bold;display: inline-block;line-height: 1.2em;}#sk-container-id-1 div.sk-label-container {text-align: center;}#sk-container-id-1 div.sk-container {/* jupyter's `normalize.less` sets `[hidden] { display: none; }` but bootstrap.min.css set `[hidden] { display: none !important; }` so we also need the `!important` here to be able to override the default hidden behavior on the sphinx rendered scikit-learn.org. See: https://github.com/scikit-learn/scikit-learn/issues/21755 */display: inline-block !important;position: relative;}#sk-container-id-1 div.sk-text-repr-fallback {display: none;}</style><div id=\"sk-container-id-1\" class=\"sk-top-container\"><div class=\"sk-text-repr-fallback\"><pre>LogisticRegression(C=7.742636826811269)</pre><b>In a Jupyter environment, please rerun this cell to show the HTML representation or trust the notebook. <br />On GitHub, the HTML representation is unable to render, please try loading this page with nbviewer.org.</b></div><div class=\"sk-container\" hidden><div class=\"sk-item\"><div class=\"sk-estimator sk-toggleable\"><input class=\"sk-toggleable__control sk-hidden--visually\" id=\"sk-estimator-id-1\" type=\"checkbox\" checked><label for=\"sk-estimator-id-1\" class=\"sk-toggleable__label sk-toggleable__label-arrow\">LogisticRegression</label><div class=\"sk-toggleable__content\"><pre>LogisticRegression(C=7.742636826811269)</pre></div></div></div></div></div>"
            ]
          },
          "metadata": {},
          "execution_count": 24
        }
      ],
      "source": [
        "# FeatureUnion를 이용하면 복잡한 전처리프로세스 일체를 객체화하여 구현할 수 있습니다.\n",
        "import numpy as np\n",
        "from sklearn import datasets\n",
        "from sklearn.linear_model import LogisticRegression\n",
        "from sklearn.model_selection import GridSearchCV\n",
        "from sklearn.pipeline import Pipeline, FeatureUnion\n",
        "from sklearn.decomposition import PCA\n",
        "from sklearn.preprocessing import StandardScaler\n",
        "import warnings\n",
        "warnings.filterwarnings('ignore')\n",
        "\n",
        "# 데이터 로드\n",
        "iris = datasets.load_iris()\n",
        "feature, target = iris.data, iris.target\n",
        "\n",
        "# 전처리 객체 생성\n",
        "preprocess = FeatureUnion([('std', StandardScaler()), ('pca',PCA())])\n",
        "\n",
        "# 전처리+모델 객체 생성\n",
        "log = Pipeline([('preprocess',preprocess),\n",
        "                ('classifier',LogisticRegression())])\n",
        "\n",
        "# 모델에 맞는 하이퍼파라미터의 후보범위 생성\n",
        "penalty,C = ['l1','l2'], np.logspace(0,4,10)\n",
        "param = [{'preprocess__pca__n_components':[1,2,3]},\n",
        "         {'classifier__penalty':penalty},\n",
        "         {'classifier__C':C}]\n",
        "\n",
        "clf = GridSearchCV(log, param, cv=5, verbose=0, n_jobs=-1)\n",
        "best_model = clf.fit(feature,target)\n",
        "best_model.best_estimator_.get_params()['classifier']"
      ]
    },
    {
      "cell_type": "code",
      "execution_count": null,
      "id": "5d905740-1d4e-4ef1-b0c7-af756b19aa1e",
      "metadata": {
        "tags": [],
        "id": "5d905740-1d4e-4ef1-b0c7-af756b19aa1e",
        "outputId": "05d3d44c-291e-4bb2-e000-e3913fbec10d",
        "colab": {
          "base_uri": "https://localhost:8080/",
          "height": 653
        }
      },
      "outputs": [
        {
          "output_type": "stream",
          "name": "stdout",
          "text": [
            "finish\n"
          ]
        },
        {
          "output_type": "display_data",
          "data": {
            "text/plain": [
              "<Figure size 2000x1000 with 1 Axes>"
            ],
            "image/png": "[encoded data removed]"
          },
          "metadata": {}
        }
      ],
      "source": [
        "# 본격적으로 여러개의 모델을 한번에 돌려서 성능을 비교해봅시다\n",
        "from sklearn.linear_model import LinearRegression, Ridge, Lasso, ElasticNet, LassoCV , ElasticNetCV , RidgeCV\n",
        "from sklearn.preprocessing import PolynomialFeatures, StandardScaler\n",
        "from sklearn.model_selection import GridSearchCV\n",
        "from sklearn.decomposition import PCA\n",
        "from sklearn.metrics import mean_squared_error as mse\n",
        "from sklearn.metrics import r2_score as r2\n",
        "from sklearn.model_selection import cross_val_score\n",
        "from sklearn.ensemble import GradientBoostingRegressor as GBR\n",
        "from sklearn.ensemble import RandomForestRegressor as RFR\n",
        "from sklearn.cross_decomposition import PLSRegression as  PLS\n",
        "from sklearn.svm import SVR\n",
        "from sklearn.kernel_ridge import KernelRidge\n",
        "from sklearn.model_selection import train_test_split, ShuffleSplit\n",
        "import matplotlib.pyplot as plt\n",
        "import seaborn as sns\n",
        "from sklearn import datasets\n",
        "from sklearn.pipeline import Pipeline\n",
        "import numpy as np\n",
        "import pandas as pd\n",
        "import warnings\n",
        "warnings.filterwarnings('ignore')\n",
        "\n",
        "url = \"http://lib.stat.cmu.edu/datasets/boston\"\n",
        "df = pd.read_csv(url, sep=\"\\s+\", skiprows=22, header=None)\n",
        "data = np.hstack([df.values[::2, :], df.values[1::2, :2]])\n",
        "target = df.values[1::2, 2]\n",
        "\n",
        "X_train, X_test, y_train, y_test = train_test_split(data, target, test_size=0.4, random_state=0)\n",
        "\n",
        "cv = ShuffleSplit(n_splits=5 , test_size=0.3, random_state=42)\n",
        "\n",
        "pipe_linear = Pipeline([\n",
        "                ('scl', StandardScaler()),\n",
        "                ('poly', PolynomialFeatures()),\n",
        "                 ('fit', LinearRegression())])\n",
        "pipe_lasso = Pipeline([\n",
        "                ('scl', StandardScaler()),\n",
        "                ('poly', PolynomialFeatures()),\n",
        "                 ('fit', Lasso(random_state = 42))])\n",
        "pipe_ridge = Pipeline([\n",
        "                ('scl', StandardScaler()),\n",
        "                ('poly', PolynomialFeatures()),\n",
        "                 ('fit', Ridge(random_state = 42))])\n",
        "pipe_pca = Pipeline([\n",
        "                ('scl', StandardScaler()),\n",
        "                ('pca', PCA()),\n",
        "                 ('fit', Ridge(random_state = 42))])\n",
        "pipe_pls = Pipeline([\n",
        "                ('scl', StandardScaler()),\n",
        "                 ('fit', PLS())])\n",
        "pipe_gbr = Pipeline([\n",
        "                ('scl', StandardScaler()),\n",
        "                 ('fit', GBR())])\n",
        "pipe_rfr = Pipeline([\n",
        "                ('scl', StandardScaler()),\n",
        "                 ('fit', RFR())])\n",
        "pipe_svr = Pipeline([\n",
        "                ('scl', StandardScaler()),\n",
        "                 ('fit', SVR())])\n",
        "\n",
        "pipe_KR = Pipeline([\n",
        "                ('scl', StandardScaler()),\n",
        "                 ('fit', KernelRidge())])\n",
        "\n",
        "grid_params_linear = [{\n",
        "    \"poly__degree\" : np.arange(1,3),\n",
        "    \"fit__fit_intercept\" : [True, False],\n",
        "}]\n",
        "grid_params_lasso = [{\n",
        "    \"poly__degree\" : np.arange(1,3),\n",
        "    \"fit__tol\" : np.logspace(-5,0,10) ,\n",
        "    \"fit__alpha\" : np.logspace(-5,1,10) ,\n",
        "                     }]\n",
        "grid_params_pca = [{\n",
        "    \"pca__n_components\" : np.arange(2,8)\n",
        "}]\n",
        "grid_params_ridge = [{\n",
        "    \"poly__degree\" : np.arange(1,3),\n",
        "    \"fit__alpha\" : np.linspace(2,5,10) ,\n",
        "    \"fit__solver\" : [ \"cholesky\",\"lsqr\",\"sparse_cg\"] ,\n",
        "    \"fit__tol\" : np.logspace(-5,0,10) ,\n",
        "                     }]\n",
        "grid_params_pls = [{\n",
        "    \"fit__n_components\" : np.arange(2,8)\n",
        "}]\n",
        "min_samples_split_range = [0.5, 0.7 , 0.9]\n",
        "\n",
        "grid_params_gbr =[{\n",
        "    \"fit__max_features\" : [\"sqrt\",\"log2\"] ,\n",
        "    \"fit__loss\" : [\"ls\",\"lad\",\"huber\",\"quantile\"] ,\n",
        "    \"fit__max_depth\" : [5,6,7,8] ,\n",
        "    \"fit__min_samples_split\" : min_samples_split_range ,\n",
        "}]\n",
        "grid_params_rfr =[{\n",
        "    \"fit__max_features\" : [\"sqrt\",\"log2\"] ,\n",
        "    \"fit__max_depth\" : [5,6,7,8] ,\n",
        "    \"fit__min_samples_split\" : min_samples_split_range ,\n",
        "}]\n",
        "grid_params_svr =[{\n",
        "    \"fit__kernel\" : [\"rbf\", \"linear\"] ,\n",
        "    \"fit__degree\" : [2, 3, 5] ,\n",
        "    \"fit__gamma\" : np.logspace(-5,1,10) ,\n",
        "}]\n",
        "grid_params_KR =[{\n",
        "    \"fit__kernel\" : [\"rbf\",\"linear\"] ,\n",
        "    \"fit__gamma\" : np.logspace(-5,1,10) ,\n",
        "}]\n",
        "pipe = [\n",
        "    pipe_linear , pipe_lasso ,  pipe_pca ,\n",
        "    pipe_ridge , pipe_pls , pipe_gbr ,\n",
        "    pipe_rfr , pipe_svr , pipe_KR\n",
        "]\n",
        "\n",
        "params = [\n",
        "    grid_params_linear , grid_params_lasso , grid_params_pca,\n",
        "    grid_params_ridge , grid_params_pls , grid_params_gbr ,\n",
        "    grid_params_rfr , grid_params_svr , grid_params_KR\n",
        "]\n",
        "\n",
        "jobs = 20\n",
        "\n",
        "grid_dict = {\n",
        "    0: 'Linear',\n",
        "    1: 'Lasso',\n",
        "    2: 'pca regression' ,\n",
        "    3: 'Ridge' ,\n",
        "    4: 'PLSRegression',\n",
        "    5: \"GradientDescentRegressor\" ,\n",
        "    6: \"RandomForestRegressor\" ,\n",
        "    7: \"SupportVectorRegressor\" ,\n",
        "    8: \"Kernel RidgeRegression\"\n",
        "            }\n",
        "\n",
        "model_mse = {}\n",
        "model_r2 = {}\n",
        "model_best_params = {}\n",
        "\n",
        "for idx , (param , model) in enumerate(zip(params , pipe)) :\n",
        "    search = GridSearchCV(model, param,scoring  = \"neg_mean_squared_error\" ,\n",
        "                          cv=cv , n_jobs=jobs , verbose=-1 )\n",
        "    search.fit(X_train , y_train)\n",
        "    y_pred = search.predict(X_test)\n",
        "    model_mse[grid_dict.get(idx)] = mse(y_test, y_pred)\n",
        "    model_r2[grid_dict.get(idx)] = r2(y_test, y_pred)\n",
        "    model_best_params[grid_dict.get(idx)] = search.best_params_\n",
        "print(\"finish\")\n",
        "\n",
        "\n",
        "fig ,ax = plt.subplots(figsize=(20, 10))\n",
        "sns.set(font_scale = 2)\n",
        "output = pd.DataFrame([model_r2.keys() , model_r2.values()], index = [\"algo\",\"r2\"]).T\n",
        "output.sort_values([\"r2\"], ascending= False ,inplace=True)\n",
        "ax = sns.barplot(y=\"algo\", x=\"r2\", data=output)\n",
        "plt.show()"
      ]
    },
    {
      "cell_type": "markdown",
      "id": "ae6b35f3-c302-4b5a-bf10-47c67bdaff4b",
      "metadata": {
        "id": "ae6b35f3-c302-4b5a-bf10-47c67bdaff4b"
      },
      "source": [
        "## 12.5 병렬화로 학습속도향상"
      ]
    },
    {
      "cell_type": "code",
      "execution_count": null,
      "id": "acaa8a8b-3730-4e85-9177-9e8e3dec2745",
      "metadata": {
        "id": "acaa8a8b-3730-4e85-9177-9e8e3dec2745",
        "outputId": "3d1896cc-4151-4022-ec99-24a960adb68f"
      },
      "outputs": [
        {
          "name": "stdout",
          "output_type": "stream",
          "text": [
            "Fitting 5 folds for each of 2000 candidates, totalling 10000 fits\n"
          ]
        }
      ],
      "source": [
        "import numpy as np\n",
        "from sklearn import linear_model, datasets\n",
        "from sklearn.model_selection import GridSearchCV\n",
        "iris =datasets.load_iris()\n",
        "feature, target = iris.data, iris.target\n",
        "lr = linear_model.LogisticRegression()\n",
        "penalty =['l1','l2']\n",
        "C= np.logspace(0,4,1000)\n",
        "hp = dict(C=C,penalty=penalty)\n",
        "grid_cv = GridSearchCV(lr,hp,cv=5,n_jobs=-1,verbose=1)\n",
        "best_model = grid_cv.fit(feature, target)"
      ]
    },
    {
      "cell_type": "markdown",
      "id": "7dd465bc-67be-45d7-a7dd-8655ec6db076",
      "metadata": {
        "id": "7dd465bc-67be-45d7-a7dd-8655ec6db076"
      },
      "source": [
        "## 12.6 LogisticRegressionCV로 모델선택속도 향상\n",
        "- LogisticRegressionCV : 규제 C 의 최적값을 효율적으로 찾음 (C에대해서만 찾음)"
      ]
    },
    {
      "cell_type": "code",
      "execution_count": null,
      "id": "713fb8a3-9e29-4613-b371-2b7dd1e376ba",
      "metadata": {
        "id": "713fb8a3-9e29-4613-b371-2b7dd1e376ba",
        "outputId": "11fd32e6-0244-446e-e4ec-991041c96b77"
      },
      "outputs": [
        {
          "data": {
            "text/plain": [
              "LogisticRegressionCV(Cs=100)"
            ]
          },
          "execution_count": 12,
          "metadata": {},
          "output_type": "execute_result"
        }
      ],
      "source": [
        "import numpy as np\n",
        "from sklearn import linear_model, datasets\n",
        "from sklearn.model_selection import GridSearchCV\n",
        "iris =datasets.load_iris()\n",
        "feature, target = iris.data, iris.target\n",
        "lr = linear_model.LogisticRegressionCV(Cs=100)\n",
        "lr.fit(feature, target)"
      ]
    },
    {
      "cell_type": "markdown",
      "id": "264eb69b-5a6a-457f-a8c6-6dba84469b70",
      "metadata": {
        "id": "264eb69b-5a6a-457f-a8c6-6dba84469b70"
      },
      "source": [
        "## 12.7 모델선택 후 성능평가\n",
        "- 중첩 교차검증으로 편향 회피"
      ]
    },
    {
      "cell_type": "code",
      "execution_count": null,
      "id": "ad732431-604e-4133-bd20-9bf2d9b9fe33",
      "metadata": {
        "id": "ad732431-604e-4133-bd20-9bf2d9b9fe33",
        "outputId": "bf15a5bf-7265-4a31-d20f-7d20a0ee1753"
      },
      "outputs": [
        {
          "data": {
            "text/plain": [
              "0.9733333333333333"
            ]
          },
          "execution_count": 15,
          "metadata": {},
          "output_type": "execute_result"
        }
      ],
      "source": [
        "import numpy as np\n",
        "from sklearn import linear_model, datasets\n",
        "from sklearn.model_selection import GridSearchCV\n",
        "iris =datasets.load_iris()\n",
        "feature, target = iris.data, iris.target\n",
        "lr=linear_model.LogisticRegression(solver='liblinear',multi_class='auto')\n",
        "C =np.logspace(0,4,20)\n",
        "hp = dict(C=C)\n",
        "grid_cv = GridSearchCV(lr,hp,cv=5,n_jobs=-1,verbose=0)\n",
        "cross_val_score(grid_cv,feature,target,cv=3).mean()"
      ]
    },
    {
      "cell_type": "code",
      "execution_count": null,
      "id": "5f9a1b75-1bb1-43ba-a049-3c1d3e23d881",
      "metadata": {
        "id": "5f9a1b75-1bb1-43ba-a049-3c1d3e23d881"
      },
      "outputs": [],
      "source": []
    }
  ],
  "metadata": {
    "kernelspec": {
      "display_name": "Python 3 (ipykernel)",
      "language": "python",
      "name": "python3"
    },
    "language_info": {
      "codemirror_mode": {
        "name": "ipython",
        "version": 3
      },
      "file_extension": ".py",
      "mimetype": "text/x-python",
      "name": "python",
      "nbconvert_exporter": "python",
      "pygments_lexer": "ipython3",
      "version": "3.10.9"
    },
    "colab": {
      "provenance": [],
      "toc_visible": true,
      "include_colab_link": true
    }
  },
  "nbformat": 4,
  "nbformat_minor": 5
}