{
 "cells": [
  {
   "cell_type": "markdown",
   "id": "8b9796f5",
   "metadata": {},
   "source": [
    "# 소개\n",
    "- 특성 추출 : feature extraction, 기존의 데이터를 더 낮은 차원으로 축소\n",
    "- 특징 선택 : feature selection, 기존 데이터에서 고품질의 정보가 많은 특성을 선택 하는 것\n",
    "- 특징 선택 방법\n",
    "    - 필터 : filter, 통계적인 속성을 조사, 가장 뛰어난 특성 선택\n",
    "    - 래퍼 : wrappper, 시행착오를 통해 가장 높은 품질의 예측을 만드는 특성의 부분 조합 찾는 것\n",
    "    - 임베디드 : embeded, 학습 알고리즘의 훈련 단계를 확장하거나 일부로 구성하기 가장 좋은 특성의 부분 조합 선택 (본서 에서는 포함 하지 않음)"
   ]
  },
  {
   "cell_type": "markdown",
   "id": "f6514bfd",
   "metadata": {},
   "source": [
    "# 분산을 기준으로 수치 특성 선택하기"
   ]
  },
  {
   "cell_type": "code",
   "execution_count": 74,
   "id": "4cc64e9e",
   "metadata": {},
   "outputs": [
    {
     "name": "stdout",
     "output_type": "stream",
     "text": [
      "Origianl shape :  (150, 4)\n",
      "Original variance :  [0.68112222 0.18871289 3.09550267 0.57713289]\n",
      "Filtered shape :  (150, 3)\n",
      "Filtered variance :  [0.68112222 3.09550267 0.57713289]\n"
     ]
    }
   ],
   "source": [
    "# 라이브러리를 임포트합니다.\n",
    "from sklearn import datasets\n",
    "from sklearn.feature_selection import VarianceThreshold\n",
    "\n",
    "# 예제 데이터를 로드합니다.\n",
    "iris = datasets.load_iris()\n",
    "\n",
    "# 특성과 타깃을 만듭니다.\n",
    "features = iris.data\n",
    "target = iris.target\n",
    "print('Origianl shape : ', features.shape)\n",
    "print('Original variance : ', features.var(0))\n",
    "\n",
    "# 기준값을 만듭니다.\n",
    "thresholder = VarianceThreshold(threshold=.5)\n",
    "\n",
    "# 기준값보다 높은 특성을 선택합니다.\n",
    "features_high_variance = thresholder.fit_transform(features)\n",
    "print('Filtered shape : ', features_high_variance.shape)\n",
    "print('Filtered variance : ', features_high_variance.var(0))\n",
    "\n",
    "# 선택한 특성을 확인합니다.\n",
    "# features_high_variance[0:3]"
   ]
  },
  {
   "cell_type": "code",
   "execution_count": 76,
   "id": "7a7ebeef",
   "metadata": {},
   "outputs": [
    {
     "data": {
      "text/plain": [
       "array([0.68112222, 0.18871289, 3.09550267, 0.57713289])"
      ]
     },
     "execution_count": 76,
     "metadata": {},
     "output_type": "execute_result"
    }
   ],
   "source": [
    "features.var(0)"
   ]
  },
  {
   "cell_type": "markdown",
   "id": "c71899e8",
   "metadata": {},
   "source": [
    "- 분산 기준 설정(VT : variance thresholding)은 분산이 높은 특성이 효과적이다.\n",
    "\n",
    "    - $Var(x) = \\frac{1}{n}\\sum_{i=1}^{n}(x_i - \\mu)^2$\n",
    "\n",
    "    - $x$ : 특성 벡터\n",
    "        - $x_i$ 는 개별 특성 값\n",
    "    - $\\mu$ : 특성의 평균\n",
    "\n",
    "- threshold 이하의 특성은 버린다.\n",
    "\n",
    "- 주의점\n",
    "    - 특성간 단위가 다르면 VT는 작동 하지 않음\n",
    "    - 분산의 기준값을 수동으로 선택, 어떤 값이 좋은지 판단 가능 해야."
   ]
  },
  {
   "cell_type": "code",
   "execution_count": 5,
   "id": "5fdb5d5d",
   "metadata": {},
   "outputs": [
    {
     "data": {
      "text/plain": [
       "array([0.68112222, 0.18871289, 3.09550267, 0.57713289])"
      ]
     },
     "execution_count": 5,
     "metadata": {},
     "output_type": "execute_result"
    }
   ],
   "source": [
    "# 분산을 확인합니다.\n",
    "thresholder.variances_"
   ]
  },
  {
   "cell_type": "code",
   "execution_count": 20,
   "id": "f52797e9",
   "metadata": {},
   "outputs": [
    {
     "data": {
      "text/plain": [
       "array([0.68112222, 3.09550267, 0.57713289])"
      ]
     },
     "execution_count": 20,
     "metadata": {},
     "output_type": "execute_result"
    }
   ],
   "source": [
    "# VT 후의 피처의 분산\n",
    "features_high_variance.var(0)"
   ]
  },
  {
   "cell_type": "markdown",
   "id": "2209f219",
   "metadata": {},
   "source": [
    "- 표준 정규화(평균이 0, 표준편차가 1)를 해 버리면, 의미가 없어짐"
   ]
  },
  {
   "cell_type": "code",
   "execution_count": 21,
   "id": "dc497182",
   "metadata": {},
   "outputs": [
    {
     "data": {
      "text/plain": [
       "array([1., 1., 1., 1.])"
      ]
     },
     "execution_count": 21,
     "metadata": {},
     "output_type": "execute_result"
    }
   ],
   "source": [
    "# 라이브러리를 임포트합니다.\n",
    "from sklearn.preprocessing import StandardScaler\n",
    "\n",
    "# 특성 행렬을 표준화합니다.\n",
    "scaler = StandardScaler()\n",
    "features_std = scaler.fit_transform(features)\n",
    "\n",
    "# 각 특성의 분산을 계산합니다.\n",
    "selector = VarianceThreshold()\n",
    "selector.fit(features_std).variances_"
   ]
  },
  {
   "cell_type": "markdown",
   "id": "fc820c5f",
   "metadata": {},
   "source": [
    "# 분산을 기준으로 이진 특성 선택하기"
   ]
  },
  {
   "cell_type": "code",
   "execution_count": 71,
   "id": "3d18e29e",
   "metadata": {},
   "outputs": [],
   "source": [
    "# 라이브러리를 임포트합니다.\n",
    "from sklearn.feature_selection import VarianceThreshold\n",
    "\n",
    "# 예제 특성 행렬을 만듭니다.\n",
    "# 특성 0: 80%가 클래스 0\n",
    "# 특성 1: 80%가 클래스 1\n",
    "# 특성 2: 60%가 클래스 0, 40%는 클래스 1\n",
    "features = [[0, 1, 0],\n",
    "            [0, 1, 1],\n",
    "            [0, 1, 0],\n",
    "            [0, 1, 1],\n",
    "            [1, 0, 0]]\n",
    "\n",
    "# 분산을 기준으로 선택합니다.\n",
    "thresholder = VarianceThreshold(threshold=(.75 * (1 - .75))) # 분산 = p*(1-p) = .75 * (1 - .75) = 0.1875\n",
    "filtered_features = thresholder.fit_transform(features)"
   ]
  },
  {
   "cell_type": "markdown",
   "id": "c64a6d40",
   "metadata": {},
   "source": [
    "- 정보가 많은 범주형 특성을 선택 하기 위해, 분산을 조사\n",
    "- 이진 특성 (베르누이 확률 변수)의 분산\n",
    "    - $Var(x) = p(1-p)$\n",
    "    - $p$는 클래스 1의 샘플 비율"
   ]
  },
  {
   "cell_type": "code",
   "execution_count": 70,
   "id": "9022e7f6",
   "metadata": {},
   "outputs": [
    {
     "data": {
      "text/plain": [
       "0.1875"
      ]
     },
     "execution_count": 70,
     "metadata": {},
     "output_type": "execute_result"
    }
   ],
   "source": [
    "(.75 * (1 - .75))"
   ]
  },
  {
   "cell_type": "code",
   "execution_count": 23,
   "id": "a92095f6",
   "metadata": {},
   "outputs": [
    {
     "data": {
      "text/plain": [
       "array([0.16, 0.16, 0.24])"
      ]
     },
     "execution_count": 23,
     "metadata": {},
     "output_type": "execute_result"
    }
   ],
   "source": [
    "thresholder.variances_"
   ]
  },
  {
   "cell_type": "code",
   "execution_count": 73,
   "id": "b74bba2e",
   "metadata": {},
   "outputs": [
    {
     "data": {
      "text/plain": [
       "array([0.24])"
      ]
     },
     "execution_count": 73,
     "metadata": {},
     "output_type": "execute_result"
    }
   ],
   "source": [
    "filtered_features.var(0)"
   ]
  },
  {
   "cell_type": "markdown",
   "id": "a32d9faa",
   "metadata": {},
   "source": [
    "# 상관관계가 큰 특성 다루기"
   ]
  },
  {
   "cell_type": "code",
   "execution_count": 80,
   "id": "0a798ee7",
   "metadata": {},
   "outputs": [
    {
     "data": {
      "text/html": [
       "<div>\n",
       "<style scoped>\n",
       "    .dataframe tbody tr th:only-of-type {\n",
       "        vertical-align: middle;\n",
       "    }\n",
       "\n",
       "    .dataframe tbody tr th {\n",
       "        vertical-align: top;\n",
       "    }\n",
       "\n",
       "    .dataframe thead th {\n",
       "        text-align: right;\n",
       "    }\n",
       "</style>\n",
       "<table border=\"1\" class=\"dataframe\">\n",
       "  <thead>\n",
       "    <tr style=\"text-align: right;\">\n",
       "      <th></th>\n",
       "      <th>0</th>\n",
       "      <th>1</th>\n",
       "      <th>2</th>\n",
       "    </tr>\n",
       "  </thead>\n",
       "  <tbody>\n",
       "    <tr>\n",
       "      <th>0</th>\n",
       "      <td>1</td>\n",
       "      <td>1</td>\n",
       "      <td>1</td>\n",
       "    </tr>\n",
       "    <tr>\n",
       "      <th>1</th>\n",
       "      <td>2</td>\n",
       "      <td>2</td>\n",
       "      <td>0</td>\n",
       "    </tr>\n",
       "    <tr>\n",
       "      <th>2</th>\n",
       "      <td>3</td>\n",
       "      <td>3</td>\n",
       "      <td>1</td>\n",
       "    </tr>\n",
       "    <tr>\n",
       "      <th>3</th>\n",
       "      <td>4</td>\n",
       "      <td>4</td>\n",
       "      <td>0</td>\n",
       "    </tr>\n",
       "    <tr>\n",
       "      <th>4</th>\n",
       "      <td>5</td>\n",
       "      <td>5</td>\n",
       "      <td>1</td>\n",
       "    </tr>\n",
       "    <tr>\n",
       "      <th>5</th>\n",
       "      <td>6</td>\n",
       "      <td>6</td>\n",
       "      <td>0</td>\n",
       "    </tr>\n",
       "    <tr>\n",
       "      <th>6</th>\n",
       "      <td>7</td>\n",
       "      <td>7</td>\n",
       "      <td>1</td>\n",
       "    </tr>\n",
       "    <tr>\n",
       "      <th>7</th>\n",
       "      <td>8</td>\n",
       "      <td>7</td>\n",
       "      <td>0</td>\n",
       "    </tr>\n",
       "    <tr>\n",
       "      <th>8</th>\n",
       "      <td>9</td>\n",
       "      <td>7</td>\n",
       "      <td>1</td>\n",
       "    </tr>\n",
       "  </tbody>\n",
       "</table>\n",
       "</div>"
      ],
      "text/plain": [
       "   0  1  2\n",
       "0  1  1  1\n",
       "1  2  2  0\n",
       "2  3  3  1\n",
       "3  4  4  0\n",
       "4  5  5  1\n",
       "5  6  6  0\n",
       "6  7  7  1\n",
       "7  8  7  0\n",
       "8  9  7  1"
      ]
     },
     "execution_count": 80,
     "metadata": {},
     "output_type": "execute_result"
    }
   ],
   "source": [
    "# 라이브러리를 임포트합니다.\n",
    "import pandas as pd\n",
    "import numpy as np\n",
    "\n",
    "# 상관관계가 큰 두 개의 특성을 가진 특성 행렬을 만듭니다.\n",
    "features = np.array([[1, 1, 1],\n",
    "                     [2, 2, 0],\n",
    "                     [3, 3, 1],\n",
    "                     [4, 4, 0],\n",
    "                     [5, 5, 1],\n",
    "                     [6, 6, 0],\n",
    "                     [7, 7, 1],\n",
    "                     [8, 7, 0],\n",
    "                     [9, 7, 1]])\n",
    "\n",
    "# 특성 행렬을 DataFrame으로 변환합니다.\n",
    "dataframe = pd.DataFrame(features)\n",
    "dataframe"
   ]
  },
  {
   "cell_type": "code",
   "execution_count": 81,
   "id": "ac1b12bb",
   "metadata": {},
   "outputs": [
    {
     "data": {
      "text/html": [
       "<div>\n",
       "<style scoped>\n",
       "    .dataframe tbody tr th:only-of-type {\n",
       "        vertical-align: middle;\n",
       "    }\n",
       "\n",
       "    .dataframe tbody tr th {\n",
       "        vertical-align: top;\n",
       "    }\n",
       "\n",
       "    .dataframe thead th {\n",
       "        text-align: right;\n",
       "    }\n",
       "</style>\n",
       "<table border=\"1\" class=\"dataframe\">\n",
       "  <thead>\n",
       "    <tr style=\"text-align: right;\">\n",
       "      <th></th>\n",
       "      <th>0</th>\n",
       "      <th>1</th>\n",
       "      <th>2</th>\n",
       "    </tr>\n",
       "  </thead>\n",
       "  <tbody>\n",
       "    <tr>\n",
       "      <th>0</th>\n",
       "      <td>1.000000</td>\n",
       "      <td>0.976103</td>\n",
       "      <td>0.000000</td>\n",
       "    </tr>\n",
       "    <tr>\n",
       "      <th>1</th>\n",
       "      <td>0.976103</td>\n",
       "      <td>1.000000</td>\n",
       "      <td>0.034503</td>\n",
       "    </tr>\n",
       "    <tr>\n",
       "      <th>2</th>\n",
       "      <td>0.000000</td>\n",
       "      <td>0.034503</td>\n",
       "      <td>1.000000</td>\n",
       "    </tr>\n",
       "  </tbody>\n",
       "</table>\n",
       "</div>"
      ],
      "text/plain": [
       "          0         1         2\n",
       "0  1.000000  0.976103  0.000000\n",
       "1  0.976103  1.000000  0.034503\n",
       "2  0.000000  0.034503  1.000000"
      ]
     },
     "execution_count": 81,
     "metadata": {},
     "output_type": "execute_result"
    }
   ],
   "source": [
    "# 상관관계 행렬을 만듭니다.\n",
    "corr_matrix = dataframe.corr().abs()\n",
    "corr_matrix"
   ]
  },
  {
   "cell_type": "code",
   "execution_count": 82,
   "id": "9374b93a",
   "metadata": {},
   "outputs": [
    {
     "data": {
      "text/plain": [
       "<Axes: >"
      ]
     },
     "execution_count": 82,
     "metadata": {},
     "output_type": "execute_result"
    },
    {
     "data": {
      "image/png": "[encoded data removed]",
      "text/plain": [
       "<Figure size 640x480 with 2 Axes>"
      ]
     },
     "metadata": {},
     "output_type": "display_data"
    }
   ],
   "source": [
    "import seaborn as sns\n",
    "\n",
    "sns.heatmap(corr_matrix, annot=True)"
   ]
  },
  {
   "cell_type": "code",
   "execution_count": 39,
   "id": "101343b6",
   "metadata": {},
   "outputs": [
    {
     "data": {
      "text/html": [
       "<div>\n",
       "<style scoped>\n",
       "    .dataframe tbody tr th:only-of-type {\n",
       "        vertical-align: middle;\n",
       "    }\n",
       "\n",
       "    .dataframe tbody tr th {\n",
       "        vertical-align: top;\n",
       "    }\n",
       "\n",
       "    .dataframe thead th {\n",
       "        text-align: right;\n",
       "    }\n",
       "</style>\n",
       "<table border=\"1\" class=\"dataframe\">\n",
       "  <thead>\n",
       "    <tr style=\"text-align: right;\">\n",
       "      <th></th>\n",
       "      <th>0</th>\n",
       "      <th>1</th>\n",
       "      <th>2</th>\n",
       "    </tr>\n",
       "  </thead>\n",
       "  <tbody>\n",
       "    <tr>\n",
       "      <th>0</th>\n",
       "      <td>NaN</td>\n",
       "      <td>0.976103</td>\n",
       "      <td>0.000000</td>\n",
       "    </tr>\n",
       "    <tr>\n",
       "      <th>1</th>\n",
       "      <td>NaN</td>\n",
       "      <td>NaN</td>\n",
       "      <td>0.034503</td>\n",
       "    </tr>\n",
       "    <tr>\n",
       "      <th>2</th>\n",
       "      <td>NaN</td>\n",
       "      <td>NaN</td>\n",
       "      <td>NaN</td>\n",
       "    </tr>\n",
       "  </tbody>\n",
       "</table>\n",
       "</div>"
      ],
      "text/plain": [
       "    0         1         2\n",
       "0 NaN  0.976103  0.000000\n",
       "1 NaN       NaN  0.034503\n",
       "2 NaN       NaN       NaN"
      ]
     },
     "execution_count": 39,
     "metadata": {},
     "output_type": "execute_result"
    }
   ],
   "source": [
    "# 상관관계 행렬의 상삼각(upper triangle) 행렬을 선택합니다.\n",
    "upper = corr_matrix.where(np.triu(np.ones(corr_matrix.shape), k=1).astype(bool))\n",
    "upper"
   ]
  },
  {
   "cell_type": "code",
   "execution_count": 40,
   "id": "950f22ba",
   "metadata": {},
   "outputs": [
    {
     "data": {
      "text/plain": [
       "[1]"
      ]
     },
     "execution_count": 40,
     "metadata": {},
     "output_type": "execute_result"
    }
   ],
   "source": [
    "# 상관 계수가 0.95보다 큰 특성 열의 인덱스를 찾습니다.\n",
    "to_drop = [column for column in upper.columns if any(upper[column] > 0.95)]\n",
    "to_drop"
   ]
  },
  {
   "cell_type": "code",
   "execution_count": 41,
   "id": "525328bb",
   "metadata": {},
   "outputs": [
    {
     "data": {
      "text/html": [
       "<div>\n",
       "<style scoped>\n",
       "    .dataframe tbody tr th:only-of-type {\n",
       "        vertical-align: middle;\n",
       "    }\n",
       "\n",
       "    .dataframe tbody tr th {\n",
       "        vertical-align: top;\n",
       "    }\n",
       "\n",
       "    .dataframe thead th {\n",
       "        text-align: right;\n",
       "    }\n",
       "</style>\n",
       "<table border=\"1\" class=\"dataframe\">\n",
       "  <thead>\n",
       "    <tr style=\"text-align: right;\">\n",
       "      <th></th>\n",
       "      <th>0</th>\n",
       "      <th>2</th>\n",
       "    </tr>\n",
       "  </thead>\n",
       "  <tbody>\n",
       "    <tr>\n",
       "      <th>0</th>\n",
       "      <td>1</td>\n",
       "      <td>1</td>\n",
       "    </tr>\n",
       "    <tr>\n",
       "      <th>1</th>\n",
       "      <td>2</td>\n",
       "      <td>0</td>\n",
       "    </tr>\n",
       "    <tr>\n",
       "      <th>2</th>\n",
       "      <td>3</td>\n",
       "      <td>1</td>\n",
       "    </tr>\n",
       "    <tr>\n",
       "      <th>3</th>\n",
       "      <td>4</td>\n",
       "      <td>0</td>\n",
       "    </tr>\n",
       "    <tr>\n",
       "      <th>4</th>\n",
       "      <td>5</td>\n",
       "      <td>1</td>\n",
       "    </tr>\n",
       "    <tr>\n",
       "      <th>5</th>\n",
       "      <td>6</td>\n",
       "      <td>0</td>\n",
       "    </tr>\n",
       "    <tr>\n",
       "      <th>6</th>\n",
       "      <td>7</td>\n",
       "      <td>1</td>\n",
       "    </tr>\n",
       "    <tr>\n",
       "      <th>7</th>\n",
       "      <td>8</td>\n",
       "      <td>0</td>\n",
       "    </tr>\n",
       "    <tr>\n",
       "      <th>8</th>\n",
       "      <td>9</td>\n",
       "      <td>1</td>\n",
       "    </tr>\n",
       "  </tbody>\n",
       "</table>\n",
       "</div>"
      ],
      "text/plain": [
       "   0  2\n",
       "0  1  1\n",
       "1  2  0\n",
       "2  3  1\n",
       "3  4  0\n",
       "4  5  1\n",
       "5  6  0\n",
       "6  7  1\n",
       "7  8  0\n",
       "8  9  1"
      ]
     },
     "execution_count": 41,
     "metadata": {},
     "output_type": "execute_result"
    }
   ],
   "source": [
    "# 특성을 삭제합니다.\n",
    "dataframe.drop(dataframe.columns[to_drop], axis=1)"
   ]
  },
  {
   "cell_type": "markdown",
   "id": "4596392b",
   "metadata": {},
   "source": [
    "# 분류 작업에 관련 없는 특성 삭제하기"
   ]
  },
  {
   "cell_type": "code",
   "execution_count": 55,
   "id": "6b94e414",
   "metadata": {},
   "outputs": [
    {
     "name": "stdout",
     "output_type": "stream",
     "text": [
      "[[5 3 1 0]\n",
      " [4 3 1 0]\n",
      " [4 3 1 0]]\n",
      "(150, 4)\n",
      "원본 특성 개수: 4\n",
      "줄어든 특성 개수: 2\n"
     ]
    }
   ],
   "source": [
    "# 라이브러리를 임포트합니다.\n",
    "from sklearn.datasets import load_iris\n",
    "from sklearn.feature_selection import SelectKBest\n",
    "from sklearn.feature_selection import chi2, f_classif\n",
    "\n",
    "# 데이터를 로드합니다.\n",
    "iris = load_iris()\n",
    "features = iris.data\n",
    "target = iris.target\n",
    "\n",
    "# 범주형 데이터를 정수형으로 변환합니다.\n",
    "features = features.astype(int)\n",
    "print(features[:3, :])\n",
    "print(features.shape)\n",
    "# 카이제곱 통계값이 가장 큰 특성 두 개를 선택합니다.\n",
    "chi2_selector = SelectKBest(chi2, k=2)\n",
    "features_kbest = chi2_selector.fit_transform(features, target)\n",
    "\n",
    "# 결과를 확인합니다.\n",
    "print(\"원본 특성 개수:\", features.shape[1])\n",
    "print(\"줄어든 특성 개수:\", features_kbest.shape[1])"
   ]
  },
  {
   "cell_type": "markdown",
   "id": "ceee7ea8",
   "metadata": {},
   "source": [
    "- 카이제곱 통계는 두 범주형 벡터의 독립성 평가\n",
    "    - 카이제곱 독립성검정의 귀무가설과 대립가설은 아래와 같습니다. \n",
    "    - 귀무가설 : 변수 X와 Y는 서로 독립이다. \n",
    "    - 대립가설 : 변수 X와 Y는 서로 독립이 아니다.\n",
    "- 카이제곱 특성은, 관찰 빈도와 기대 빈도 사이의 차이가 얼마나 큰지 알려 줌\n",
    "    - 카이제곱 통계 검정 값이 크면 (예: p-value가 낮은 경우), 특성 간에 독립성이 낮다고 판단합니다. \n",
    "    - 다시 말하면, 특성 간에 어떤 관계가 있다고 간주합니다.\n",
    "- 특성과 타겟 벡터 사이의 카이제곱 통계를 계산하면, 둘 사이의 독립성 측정 가능\n",
    "- 특성 변수가 타겟에 독립적이면 분류 문제에 사용 할 정보가 없기 때문에 목적에 맞지 않는다.\n",
    "- 특성 선택에 카이제곱을 사용 하려면, 각 특성과 타겟 벡터 사이의 카이제곱 통계를 계산 해야\n",
    "    -  카이제곱 통계 검정 값이 크면, 해당 특성이 타겟과 강하게 연관되어 있고, 그 결과로 좋은 특성으로 간주\n",
    "- 사이킷런에서는 sklearn.feature_selection.SelectKBest 함수 사용\n",
    "- 카이제곱 방식을 위해선 모든 변수가 음수가 아니어야\n",
    "- iris 데이터의 특성은 수치형 이지만, 위 예제는 범주형 처럼 다룬 것임."
   ]
  },
  {
   "cell_type": "code",
   "execution_count": 51,
   "id": "71f107b6",
   "metadata": {},
   "outputs": [
    {
     "name": "stdout",
     "output_type": "stream",
     "text": [
      "원본 특성 개수: 4\n",
      "줄어든 특성 개수: 2\n"
     ]
    }
   ],
   "source": [
    "# F-값이 가장 높은 특성 두 개를 선택합니다.\n",
    "fvalue_selector = SelectKBest(f_classif, k=2)\n",
    "features_kbest = fvalue_selector.fit_transform(features, target)\n",
    "\n",
    "# 결과를 확인합니다.\n",
    "print(\"원본 특성 개수:\", features.shape[1])\n",
    "print(\"줄어든 특성 개수:\", features_kbest.shape[1])"
   ]
  },
  {
   "cell_type": "markdown",
   "id": "fa0e9e96",
   "metadata": {},
   "source": [
    "- 특성이 수치형이라면, f_classif 를 사용, 각 특성과 타겟 벡터 사이의 분산분석(ANOVA)의 F-값 통계 계산\n",
    "- F-값 점수는 타겟 벡터로 수치형 특성을 구룹핑 하여 각 그룹의 평균이 크게 차이나는 지를 평가\n",
    "- 예) 이진 타겟 벡터인 성별과, 수치형 특성인 시험 점수, F-값 점수는 남성의 평균 테스트 점수가 여성의 평균 테스트 점수보다 다른지 설명"
   ]
  },
  {
   "cell_type": "code",
   "execution_count": 52,
   "id": "d940ca73",
   "metadata": {},
   "outputs": [
    {
     "name": "stdout",
     "output_type": "stream",
     "text": [
      "원본 특성 개수: 4\n",
      "줄어든 특성 개수: 3\n"
     ]
    }
   ],
   "source": [
    "# 라이브러리를 임포트합니다.\n",
    "from sklearn.feature_selection import SelectPercentile\n",
    "\n",
    "# 가장 큰 F-값의 상위 75% 특성을 선택합니다.\n",
    "fvalue_selector = SelectPercentile(f_classif, percentile=75)\n",
    "features_kbest = fvalue_selector.fit_transform(features, target)\n",
    "\n",
    "# 결과를 선택합니다.\n",
    "print(\"원본 특성 개수:\", features.shape[1])\n",
    "print(\"줄어든 특성 개수:\", features_kbest.shape[1])"
   ]
  },
  {
   "cell_type": "markdown",
   "id": "2748fc84",
   "metadata": {},
   "source": [
    "# 재귀적 특성 제거하기"
   ]
  },
  {
   "cell_type": "markdown",
   "id": "8d8c1462",
   "metadata": {},
   "source": [
    "- RFE: Recursive Feature Elimination\n",
    "- 주어진 모델(선형 회귀, SVM 등)을 사용하여 반복적으로 훈련하고 가장 중요하지 않은 특성을 순차적으로 제거하는 방법\n",
    "- RFE는 모델을 통해 특성의 중요도를 평가하고, 그 중에서 중요도가 낮은 특성을 제거하여 모델의 성능을 개선하려는 목적으로 사용\n",
    "- 맨 처음 모델을 훈련시에는 모든 특성을 포함\n",
    "- 교차 검증으로 RFE 모델 평가, 특성 제거\n",
    "- 가장 작은 파라미터를 가진 특성 찾아 제거\n",
    "- 교차 검증으로 RFE 모델을 평가 하는 구현 : RFECV"
   ]
  },
  {
   "cell_type": "code",
   "execution_count": 84,
   "id": "2342c8e1",
   "metadata": {},
   "outputs": [],
   "source": [
    "# 라이브러리를 임포트합니다.\n",
    "from sklearn.datasets import make_regression\n",
    "from sklearn.feature_selection import RFECV\n",
    "from sklearn import datasets, linear_model\n",
    "\n",
    "# 특성 행렬과 타깃 벡터를 생성합니다.\n",
    "features, target = make_regression(n_samples = 10000,\n",
    "                                   n_features = 100,\n",
    "                                   n_informative = 2,\n",
    "                                   random_state = 1)\n",
    "\n",
    "# 선형 회귀 모델을 만듭니다.\n",
    "ols = linear_model.LinearRegression()\n",
    "\n",
    "# 재귀적으로 특성을 제거합니다.\n",
    "rfecv = RFECV(estimator=ols, step=1, scoring=\"neg_mean_squared_error\") # 매 반복시 삭제할 특성의 수\n",
    "rfecv.fit(features, target)\n",
    "features_2 = rfecv.transform(features)"
   ]
  },
  {
   "cell_type": "code",
   "execution_count": 87,
   "id": "0e055fbe",
   "metadata": {},
   "outputs": [
    {
     "data": {
      "text/plain": [
       "(10000, 100)"
      ]
     },
     "execution_count": 87,
     "metadata": {},
     "output_type": "execute_result"
    }
   ],
   "source": [
    "features.shape"
   ]
  },
  {
   "cell_type": "code",
   "execution_count": 86,
   "id": "c7d7681f",
   "metadata": {},
   "outputs": [
    {
     "data": {
      "text/plain": [
       "(10000, 4)"
      ]
     },
     "execution_count": 86,
     "metadata": {},
     "output_type": "execute_result"
    }
   ],
   "source": [
    "features_2.shape"
   ]
  },
  {
   "cell_type": "code",
   "execution_count": 88,
   "id": "54aa225f",
   "metadata": {},
   "outputs": [
    {
     "data": {
      "text/plain": [
       "4"
      ]
     },
     "execution_count": 88,
     "metadata": {},
     "output_type": "execute_result"
    }
   ],
   "source": [
    "# 최선의 특성 개수\n",
    "rfecv.n_features_"
   ]
  },
  {
   "cell_type": "code",
   "execution_count": 89,
   "id": "6424f0b1",
   "metadata": {},
   "outputs": [
    {
     "data": {
      "text/plain": [
       "array([False, False, False, False, False,  True, False, False, False,\n",
       "       False, False, False, False, False, False, False, False, False,\n",
       "        True, False, False, False, False, False, False, False, False,\n",
       "       False, False, False, False, False, False, False, False, False,\n",
       "       False, False, False,  True, False, False, False, False, False,\n",
       "       False, False, False, False, False, False, False, False, False,\n",
       "       False, False, False, False, False, False, False, False, False,\n",
       "       False, False, False, False, False, False, False, False, False,\n",
       "       False, False, False, False, False, False, False, False, False,\n",
       "        True, False, False, False, False, False, False, False, False,\n",
       "       False, False, False, False, False, False, False, False, False,\n",
       "       False])"
      ]
     },
     "execution_count": 89,
     "metadata": {},
     "output_type": "execute_result"
    }
   ],
   "source": [
    "# 선택된 특성이 표시된 불리언 마스크\n",
    "rfecv.support_"
   ]
  }
 ],
 "metadata": {
  "kernelspec": {
   "display_name": "Python 3 (ipykernel)",
   "language": "python",
   "name": "python3"
  },
  "language_info": {
   "codemirror_mode": {
    "name": "ipython",
    "version": 3
   },
   "file_extension": ".py",
   "mimetype": "text/x-python",
   "name": "python",
   "nbconvert_exporter": "python",
   "pygments_lexer": "ipython3",
   "version": "3.10.9"
  },
  "toc": {
   "base_numbering": 1,
   "nav_menu": {},
   "number_sections": true,
   "sideBar": true,
   "skip_h1_title": false,
   "title_cell": "Table of Contents",
   "title_sidebar": "Contents",
   "toc_cell": false,
   "toc_position": {
    "height": "calc(100% - 180px)",
    "left": "10px",
    "top": "150px",
    "width": "292.567px"
   },
   "toc_section_display": true,
   "toc_window_display": false
  }
 },
 "nbformat": 4,
 "nbformat_minor": 5
}
