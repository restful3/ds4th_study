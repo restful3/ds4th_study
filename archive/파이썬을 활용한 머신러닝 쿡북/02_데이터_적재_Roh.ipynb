{
  "cells": [
    {
      "cell_type": "markdown",
      "metadata": {
        "id": "Ier6cA5rmeSZ"
      },
      "source": [
        "# 2장 데이터 적재\n",
        "- 머신러닝의 첫번째 단계 : 시스템으로 원본 데이터를 불러오기\n",
        "- 데이터 소스는 매우 다양해서 추출부터 해야할수도 있다."
      ]
    },
    {
      "cell_type": "markdown",
      "metadata": {
        "id": "5pvmHTGnmeSb"
      },
      "source": [
        "## 2.1 샘플 데이터셋 적재\n",
        "- 과제 : *이미 준비되어 있는 데이터셋*을 사용하기\n",
        "- 토이(toy) 데이터셋 : 라이브러리에 내장되어있으면서 실전에서 만나는 것보다 아주 작고 정제되어 있는 데이터셋\n",
        "- 파이썬 대표 라이브러리와 내장 샘플 데이터셋\n",
        "\n",
        "|라이브러리 | 내장 샘플 데이터 | 코드 예시|\n",
        "|-|-|-|\n",
        "|sklearn| 내장 데이터 목록(https://scikit-learn.org/stable/datasets.html ) | from skrean import datasets |\n",
        "|tf.keras| boston housing, cifar100, fashion_mnist, imbd, mnist 등 (https://www.tensorflow.org/api_docs/python/tf/keras/datasets)| tf.keras.datasets.mnist.load_data()|\n",
        "|Pytorch| CIFAR, FashionMNIST, Food101 등 (https://pytorch.org/vision/main/datasets.html) | torchvision.datasets.MNIST()  |\n",
        "|matplotlib|내장 데이터 목록(https://github.com/matplotlib/matplotlib/tree/v3.7.2/lib/matplotlib/mpl-data/sample_data) | matplotlib.cbook.get_sample_data 검색|\n",
        "|seaborn |내장 데이터 목록(https://github.com/mwaskom/seaborn-data) |seaborn.load_dataset(파일이름) https://seaborn.pydata.org/generated/seaborn.load_dataset.html?highlight=dataset#seaborn.load_dataset |"
      ]
    },
    {
      "cell_type": "code",
      "execution_count": 1,
      "metadata": {
        "id": "UrLIm28BmeSb",
        "outputId": "4cf90088-660d-4d01-fc5d-872a3697b809"
      },
      "outputs": [
        {
          "data": {
            "text/plain": [
              "array([ 0.,  0.,  5., 13.,  9.,  1.,  0.,  0.,  0.,  0., 13., 15., 10.,\n",
              "       15.,  5.,  0.,  0.,  3., 15.,  2.,  0., 11.,  8.,  0.,  0.,  4.,\n",
              "       12.,  0.,  0.,  8.,  8.,  0.,  0.,  5.,  8.,  0.,  0.,  9.,  8.,\n",
              "        0.,  0.,  4., 11.,  0.,  1., 12.,  7.,  0.,  0.,  2., 14.,  5.,\n",
              "       10., 12.,  0.,  0.,  0.,  0.,  6., 13., 10.,  0.,  0.,  0.])"
            ]
          },
          "execution_count": 1,
          "metadata": {},
          "output_type": "execute_result"
        }
      ],
      "source": [
        "# 사이킷런의 데이터셋을 적재합니다.\n",
        "from sklearn import datasets\n",
        "\n",
        "# 숫자 데이터셋을 적재합니다.\n",
        "digits = datasets.load_digits()\n",
        "\n",
        "# 특성 행렬을 만듭니다.\n",
        "features = digits.data\n",
        "\n",
        "# 타깃 벡터를 만듭니다.\n",
        "target = digits.target\n",
        "\n",
        "# 첫 번째 샘플을 확인합니다.\n",
        "features[0]"
      ]
    },
    {
      "cell_type": "markdown",
      "metadata": {
        "id": "EfSSkuigmeSc"
      },
      "source": [
        "### 붙임"
      ]
    },
    {
      "cell_type": "code",
      "execution_count": 2,
      "metadata": {
        "id": "tEPFqd58meSc",
        "outputId": "5d779764-3d15-4f56-f205-d9d8a888feac"
      },
      "outputs": [
        {
          "data": {
            "text/plain": [
              "dict_keys(['data', 'target', 'frame', 'feature_names', 'target_names', 'images', 'DESCR'])"
            ]
          },
          "execution_count": 2,
          "metadata": {},
          "output_type": "execute_result"
        }
      ],
      "source": [
        "#딕셔너리 형태로 저장되어 있습니다.\n",
        "digits.keys()"
      ]
    },
    {
      "cell_type": "code",
      "execution_count": 23,
      "metadata": {
        "id": "-GwTybN-meSd",
        "outputId": "3f3604a7-9508-4f93-a706-42cd7bf7d0da"
      },
      "outputs": [
        {
          "data": {
            "text/plain": [
              "\".. _digits_dataset:\\n\\nOptical recognition of handwritten digits dataset\\n--------------------------------------------------\\n\\n**Data Set Characteristics:**\\n\\n    :Number of Instances: 1797\\n    :Number of Attributes: 64\\n    :Attribute Information: 8x8 image of integer pixels in the range 0..16.\\n    :Missing Attribute Values: None\\n    :Creator: E. Alpaydin (alpaydin '@' boun.edu.tr)\\n    :Date: July; 1998\\n\\nThis is a copy of the test set of the UCI ML hand-written digits datasets\\nhttps://archive.ics.uci.edu/ml/datasets/Optical+Recognition+of+Handwritten+Digits\\n\\nThe data set contains images of hand-written digits: 10 classes where\\neach class refers to a digit.\\n\\nPreprocessing programs made available by NIST were used to extract\\nnormalized bitmaps of handwritten digits from a preprinted form. From a\\ntotal of 43 people, 30 contributed to the training set and different 13\\nto the test set. 32x32 bitmaps are divided into nonoverlapping blocks of\\n4x4 and the number of on pixels are counted in each block. This generates\\nan input matrix of 8x8 where each element is an integer in the range\\n0..16. This reduces dimensionality and gives invariance to small\\ndistortions.\\n\\nFor info on NIST preprocessing routines, see M. D. Garris, J. L. Blue, G.\\nT. Candela, D. L. Dimmick, J. Geist, P. J. Grother, S. A. Janet, and C.\\nL. Wilson, NIST Form-Based Handprint Recognition System, NISTIR 5469,\\n1994.\\n\\n.. topic:: References\\n\\n  - C. Kaynak (1995) Methods of Combining Multiple Classifiers and Their\\n    Applications to Handwritten Digit Recognition, MSc Thesis, Institute of\\n    Graduate Studies in Science and Engineering, Bogazici University.\\n  - E. Alpaydin, C. Kaynak (1998) Cascading Classifiers, Kybernetika.\\n  - Ken Tang and Ponnuthurai N. Suganthan and Xi Yao and A. Kai Qin.\\n    Linear dimensionalityreduction using relevance weighted LDA. School of\\n    Electrical and Electronic Engineering Nanyang Technological University.\\n    2005.\\n  - Claudio Gentile. A New Approximate Maximal Margin Classification\\n    Algorithm. NIPS. 2000.\\n\""
            ]
          },
          "execution_count": 23,
          "metadata": {},
          "output_type": "execute_result"
        }
      ],
      "source": [
        "# DESCR 키는 데이터셋에 대한 설명을 담고 있습니다.\n",
        "digits['DESCR']\n",
        "#digits['DESCR'][:70]"
      ]
    },
    {
      "cell_type": "code",
      "execution_count": 4,
      "metadata": {
        "id": "OT8dZ8MkmeSd",
        "outputId": "9015d79b-f53a-4aef-9064-9f7fb31e686c"
      },
      "outputs": [
        {
          "data": {
            "text/plain": [
              "array([0, 1, 2, 3, 4])"
            ]
          },
          "execution_count": 4,
          "metadata": {},
          "output_type": "execute_result"
        }
      ],
      "source": [
        "import numpy as np\n",
        "\n",
        "# 0에서부터 4까지 다섯 개의 숫자만 적재합니다.\n",
        "X, y = datasets.load_digits(n_class=5, return_X_y=True) \n",
        "# return_X_y=True : 위 예시처럼 딕셔너리 형태로 불러오는 것이 아닌 X, y의 값만 반환\n",
        "\n",
        "# 배열에 있는 고유한 값을 반환합니다.\n",
        "np.unique(y)"
      ]
    },
    {
      "cell_type": "markdown",
      "metadata": {},
      "source": [
        "* load_digits 데이터 전체 확인해보기"
      ]
    },
    {
      "cell_type": "code",
      "execution_count": 34,
      "metadata": {},
      "outputs": [
        {
          "name": "stdout",
          "output_type": "stream",
          "text": [
            "(901, 64) [[ 0.  0.  5. 13.  9.  1.  0.  0.  0.  0. 13. 15. 10. 15.  5.  0.  0.  3.\n",
            "  15.  2.  0. 11.  8.  0.  0.  4. 12.  0.  0.  8.  8.  0.  0.  5.  8.  0.\n",
            "   0.  9.  8.  0.  0.  4. 11.  0.  1. 12.  7.  0.  0.  2. 14.  5. 10. 12.\n",
            "   0.  0.  0.  0.  6. 13. 10.  0.  0.  0.]\n",
            " [ 0.  0.  0. 12. 13.  5.  0.  0.  0.  0.  0. 11. 16.  9.  0.  0.  0.  0.\n",
            "   3. 15. 16.  6.  0.  0.  0.  7. 15. 16. 16.  2.  0.  0.  0.  0.  1. 16.\n",
            "  16.  3.  0.  0.  0.  0.  1. 16. 16.  6.  0.  0.  0.  0.  1. 16. 16.  6.\n",
            "   0.  0.  0.  0.  0. 11. 16. 10.  0.  0.]]\n",
            "(901,) [0 1 2 3 4]\n"
          ]
        }
      ],
      "source": [
        "print(X.shape, X[:2])\n",
        "print(y.shape, y[:5])"
      ]
    },
    {
      "cell_type": "code",
      "execution_count": 32,
      "metadata": {},
      "outputs": [
        {
          "data": {
            "image/png": "[encoded data removed]",
            "text/plain": [
              "<Figure size 640x480 with 1 Axes>"
            ]
          },
          "metadata": {},
          "output_type": "display_data"
        },
        {
          "data": {
            "image/png": "[encoded data removed]",
            "text/plain": [
              "<Figure size 640x480 with 1 Axes>"
            ]
          },
          "metadata": {},
          "output_type": "display_data"
        },
        {
          "data": {
            "image/png": "[encoded data removed]",
            "text/plain": [
              "<Figure size 640x480 with 1 Axes>"
            ]
          },
          "metadata": {},
          "output_type": "display_data"
        },
        {
          "data": {
            "image/png": "[encoded data removed]",
            "text/plain": [
              "<Figure size 640x480 with 1 Axes>"
            ]
          },
          "metadata": {},
          "output_type": "display_data"
        },
        {
          "data": {
            "image/png": "[encoded data removed]",
            "text/plain": [
              "<Figure size 640x480 with 1 Axes>"
            ]
          },
          "metadata": {},
          "output_type": "display_data"
        },
        {
          "data": {
            "image/png": "[encoded data removed]",
            "text/plain": [
              "<Figure size 640x480 with 1 Axes>"
            ]
          },
          "metadata": {},
          "output_type": "display_data"
        }
      ],
      "source": [
        "#load_digits 데이터 전체 확인해보기\n",
        "import matplotlib.pyplot as plt\n",
        "\n",
        "for i in range(6):\n",
        "  plt.imshow(X[i, :].reshape(8, 8))\n",
        "  plt.title(y[i])\n",
        "  plt.show();"
      ]
    },
    {
      "cell_type": "markdown",
      "metadata": {
        "id": "NSdQ-33WmeSd"
      },
      "source": [
        "## 2.2 모의 데이터셋 만들기\n",
        "- sklearn에서 모델에 맞는 모의 데이터셋 만들 수 있다.\n",
        "    - make_regression : (비)선형 모델에 맞는 데이터 생성\n",
        "    - make_classification  : 분류 모델에 맞는 데이터 생성\n",
        "    - make_blobs : 클러스터가 있는 원형 데이터 생성\n",
        "    - make_circles : 동심원 데이터 생성 , ◎ 모양\n",
        "    - make_moons : 달모양 데이터 생성,  ) ( 모양\n",
        "    - make_s_curve : S 모형 모델 생성"
      ]
    },
    {
      "cell_type": "markdown",
      "metadata": {},
      "source": [
        "##### 회귀 데이터"
      ]
    },
    {
      "cell_type": "code",
      "execution_count": 38,
      "metadata": {
        "id": "H_AdDGxjmeSd",
        "outputId": "5cb81f88-c38d-4af9-ca3d-412502bf9f25"
      },
      "outputs": [
        {
          "name": "stdout",
          "output_type": "stream",
          "text": [
            "특성 행렬\n",
            " [[ 1.29322588 -0.61736206 -0.11044703]\n",
            " [-2.793085    0.36633201  1.93752881]\n",
            " [ 0.80186103 -0.18656977  0.0465673 ]]\n",
            "타깃 벡터\n",
            " [-10.37865986  25.5124503   19.67705609]\n"
          ]
        }
      ],
      "source": [
        "# 라이브러리를 임포트합니다.\n",
        "from sklearn.datasets import make_regression\n",
        "\n",
        "# 특성 행렬, 타깃 벡터, 정답 계수를 생성합니다.\n",
        "features, target, coefficients = make_regression(n_samples = 100, #생성할 데이터 개수\n",
        "                                                 n_features = 3, #변수 개수\n",
        "                                                 n_informative = 3, # 타깃 생성에 사용할 핵심 변수 개수\n",
        "                                                 n_targets = 1, # y 개수\n",
        "                                                 noise = 0.0, #노이즈 크기\n",
        "                                                 coef = True, #계수 반환 여부\n",
        "                                                 random_state = 1)\n",
        "\n",
        "# 특성 행렬과 타깃 벡터를 확인합니다.\n",
        "print('특성 행렬\\n', features[:3])\n",
        "print('타깃 벡터\\n', target[:3])"
      ]
    },
    {
      "cell_type": "code",
      "execution_count": 49,
      "metadata": {},
      "outputs": [
        {
          "data": {
            "image/png": "[encoded data removed]",
            "text/plain": [
              "<Figure size 640x480 with 1 Axes>"
            ]
          },
          "metadata": {},
          "output_type": "display_data"
        }
      ],
      "source": [
        "import matplotlib.pyplot as plt\n",
        "\n",
        "plt.plot(features@coefficients, target)\n",
        "plt.show()"
      ]
    },
    {
      "cell_type": "markdown",
      "metadata": {},
      "source": [
        "##### 분류 데이터"
      ]
    },
    {
      "cell_type": "code",
      "execution_count": 50,
      "metadata": {
        "id": "-SpOuK7qmeSe",
        "outputId": "795004da-eaed-4e18-d3dc-893531dc9d26"
      },
      "outputs": [
        {
          "name": "stdout",
          "output_type": "stream",
          "text": [
            "특성 행렬\n",
            " [[ 1.06354768 -1.42632219  1.02163151]\n",
            " [ 0.23156977  1.49535261  0.33251578]\n",
            " [ 0.15972951  0.83533515 -0.40869554]]\n",
            "타깃 벡터\n",
            " [1 0 0]\n"
          ]
        }
      ],
      "source": [
        "# 라이브러리를 임포트합니다.\n",
        "from sklearn.datasets import make_classification\n",
        "\n",
        "# 특성 행렬과 타깃 벡터를 생성합니다.\n",
        "features, target = make_classification(n_samples = 100, #생성할 데이터 개수\n",
        "                                       n_features = 3, #변수 개수\n",
        "                                       n_informative = 3, # 타깃 생성에 사용할 핵심 변수 개수\n",
        "                                       n_redundant = 0, # 공변량 성격 가지는 변수의 개수?\n",
        "                                       n_classes = 2, #y 개수\n",
        "                                       weights = [.25, .75], #클래스 별 가중치 개수\n",
        "                                       random_state = 1)\n",
        "\n",
        "# 특성 행렬과 타깃 벡터를 확인합니다.\n",
        "print('특성 행렬\\n', features[:3])\n",
        "print('타깃 벡터\\n', target[:3])"
      ]
    },
    {
      "cell_type": "code",
      "execution_count": 53,
      "metadata": {},
      "outputs": [
        {
          "data": {
            "image/png": "[encoded data removed]",
            "text/plain": [
              "<Figure size 640x480 with 1 Axes>"
            ]
          },
          "metadata": {},
          "output_type": "display_data"
        }
      ],
      "source": [
        "import matplotlib.pyplot as plt\n",
        "plt.scatter(features[:,0], features[:,1], c=target, cmap=\"coolwarm\")\n",
        "plt.show()"
      ]
    },
    {
      "cell_type": "markdown",
      "metadata": {},
      "source": [
        "##### 클러스터 데이터"
      ]
    },
    {
      "cell_type": "code",
      "execution_count": 54,
      "metadata": {
        "id": "xXAjYav_meSe",
        "outputId": "36e6c894-4538-40db-fedb-ac46f3a17ec8"
      },
      "outputs": [
        {
          "name": "stdout",
          "output_type": "stream",
          "text": [
            "특성 행렬\n",
            " [[ -1.22685609   3.25572052]\n",
            " [ -9.57463218  -4.38310652]\n",
            " [-10.71976941  -4.20558148]]\n",
            "타깃 벡터\n",
            " [0 1 1]\n"
          ]
        }
      ],
      "source": [
        "# 라이브러리를 임포트합니다.\n",
        "from sklearn.datasets import make_blobs\n",
        "\n",
        "# 특성 행렬과 타깃 벡터를 생성합니다.\n",
        "features, target = make_blobs(n_samples = 100, #생성할 데이터 개수\n",
        "                              n_features = 2, #변수 개수\n",
        "                              centers = 3, #클러스터 개수\n",
        "                              cluster_std = 0.5, #클러스터 표준편차\n",
        "                              shuffle = True,\n",
        "                              random_state = 1)\n",
        "\n",
        "# 특성 행렬과 타깃 벡터를 확인합니다.\n",
        "print('특성 행렬\\n', features[:3])\n",
        "print('타깃 벡터\\n', target[:3])"
      ]
    },
    {
      "cell_type": "code",
      "execution_count": 55,
      "metadata": {
        "id": "OBdW-E1GmeSe",
        "outputId": "9859ba67-e93c-46ca-e328-a596e003018e"
      },
      "outputs": [
        {
          "data": {
            "image/png": "[encoded data removed]",
            "text/plain": [
              "<Figure size 640x480 with 1 Axes>"
            ]
          },
          "metadata": {},
          "output_type": "display_data"
        }
      ],
      "source": [
        "import matplotlib.pyplot as plt\n",
        "# 산점도를 출력합니다.\n",
        "plt.scatter(features[:,0], features[:,1], c=target)\n",
        "plt.show()"
      ]
    },
    {
      "cell_type": "markdown",
      "metadata": {
        "id": "e1D01bFPmeSe"
      },
      "source": [
        "## 2.3 CSV 파일 적재\n",
        "- 팁\n",
        "    1. 적재하기 전에 파일의 내용 잠깐 확인하기 : 데이터셋 구성, 매개변수 설정 이해에 도움이 됨\n",
        "    2. read_csv는 매개변수가 30개 이상\n",
        "        - sep = \"\\t\" : tsv 불러올 수 있다\n",
        "        - header : 제목 행이 몇번쨰 줄인지 지정할 수 있다 (없으면 header=None)\n",
        "        - skiprows : 건너 뛸 행의 개수나 범위를 지정할 수 있다.\n",
        "        - nrows : 읽을 행의 개수를 지정할 수 있다.\n",
        "    "
      ]
    },
    {
      "cell_type": "code",
      "execution_count": 41,
      "metadata": {
        "id": "3NZKrMilmeSe",
        "outputId": "100663cb-bd68-4130-f9c8-05bfef72c561"
      },
      "outputs": [
        {
          "data": {
            "text/html": [
              "<div>\n",
              "<style scoped>\n",
              "    .dataframe tbody tr th:only-of-type {\n",
              "        vertical-align: middle;\n",
              "    }\n",
              "\n",
              "    .dataframe tbody tr th {\n",
              "        vertical-align: top;\n",
              "    }\n",
              "\n",
              "    .dataframe thead th {\n",
              "        text-align: right;\n",
              "    }\n",
              "</style>\n",
              "<table border=\"1\" class=\"dataframe\">\n",
              "  <thead>\n",
              "    <tr style=\"text-align: right;\">\n",
              "      <th></th>\n",
              "      <th>integer</th>\n",
              "      <th>datetime</th>\n",
              "      <th>category</th>\n",
              "    </tr>\n",
              "  </thead>\n",
              "  <tbody>\n",
              "    <tr>\n",
              "      <th>0</th>\n",
              "      <td>5</td>\n",
              "      <td>2015-01-01 00:00:00</td>\n",
              "      <td>0</td>\n",
              "    </tr>\n",
              "    <tr>\n",
              "      <th>1</th>\n",
              "      <td>5</td>\n",
              "      <td>2015-01-01 00:00:01</td>\n",
              "      <td>0</td>\n",
              "    </tr>\n",
              "    <tr>\n",
              "      <th>2</th>\n",
              "      <td>9</td>\n",
              "      <td>2015-01-01 00:00:02</td>\n",
              "      <td>0</td>\n",
              "    </tr>\n",
              "    <tr>\n",
              "      <th>3</th>\n",
              "      <td>6</td>\n",
              "      <td>2015-01-01 00:00:03</td>\n",
              "      <td>0</td>\n",
              "    </tr>\n",
              "    <tr>\n",
              "      <th>4</th>\n",
              "      <td>6</td>\n",
              "      <td>2015-01-01 00:00:04</td>\n",
              "      <td>0</td>\n",
              "    </tr>\n",
              "  </tbody>\n",
              "</table>\n",
              "</div>"
            ],
            "text/plain": [
              "   integer             datetime  category\n",
              "0        5  2015-01-01 00:00:00         0\n",
              "1        5  2015-01-01 00:00:01         0\n",
              "2        9  2015-01-01 00:00:02         0\n",
              "3        6  2015-01-01 00:00:03         0\n",
              "4        6  2015-01-01 00:00:04         0"
            ]
          },
          "execution_count": 41,
          "metadata": {},
          "output_type": "execute_result"
        }
      ],
      "source": [
        "# 라이브러리를 임포트합니다.\n",
        "import pandas as pd\n",
        "\n",
        "# 데이터 URL\n",
        "url = 'https://tinyurl.com/simulated-data'\n",
        "\n",
        "# 데이터 적재\n",
        "dataframe = pd.read_csv(url)\n",
        "\n",
        "# 처음 다섯 행을 확인합니다.\n",
        "dataframe.head()\n",
        "#dataframe.head(2)  # 행 두개만 확인 "
      ]
    },
    {
      "cell_type": "markdown",
      "metadata": {
        "id": "nFT5g88bmeSf"
      },
      "source": [
        "### 붙임"
      ]
    },
    {
      "cell_type": "code",
      "execution_count": 11,
      "metadata": {
        "id": "dj7N5iNWmeSf",
        "outputId": "5490c486-9117-44a6-b0a4-ead114f7bb11"
      },
      "outputs": [
        {
          "data": {
            "text/html": [
              "<div>\n",
              "<style scoped>\n",
              "    .dataframe tbody tr th:only-of-type {\n",
              "        vertical-align: middle;\n",
              "    }\n",
              "\n",
              "    .dataframe tbody tr th {\n",
              "        vertical-align: top;\n",
              "    }\n",
              "\n",
              "    .dataframe thead th {\n",
              "        text-align: right;\n",
              "    }\n",
              "</style>\n",
              "<table border=\"1\" class=\"dataframe\">\n",
              "  <thead>\n",
              "    <tr style=\"text-align: right;\">\n",
              "      <th></th>\n",
              "      <th>integer</th>\n",
              "      <th>datetime</th>\n",
              "      <th>category</th>\n",
              "    </tr>\n",
              "  </thead>\n",
              "  <tbody>\n",
              "    <tr>\n",
              "      <th>0</th>\n",
              "      <td>5</td>\n",
              "      <td>2015-01-01 00:00:10</td>\n",
              "      <td>0</td>\n",
              "    </tr>\n",
              "  </tbody>\n",
              "</table>\n",
              "</div>"
            ],
            "text/plain": [
              "   integer             datetime  category\n",
              "0        5  2015-01-01 00:00:10         0"
            ]
          },
          "execution_count": 11,
          "metadata": {},
          "output_type": "execute_result"
        }
      ],
      "source": [
        "# 1~10번째 행을 건너 뛰고 한 행을 읽습니다.\n",
        "dataframe = pd.read_csv(url, skiprows=range(1, 11), nrows=1)\n",
        "dataframe"
      ]
    },
    {
      "cell_type": "markdown",
      "metadata": {
        "id": "zNmRJIDVmeSf"
      },
      "source": [
        "## 2.4 엑셀 파일 적재\n",
        "- 현재는 read_excel()함수가 내장되어 바로 사용이 가능하지만 원래는 xlrd 패키지를 설치해야 했다.\n",
        "- 매개변수를 잘 활용하는 것이 필요하다\n"
      ]
    },
    {
      "cell_type": "code",
      "execution_count": 12,
      "metadata": {
        "id": "Lyh2LwhTmeSf",
        "outputId": "44e7523f-190c-41b9-85e5-bd43c5eab2f1"
      },
      "outputs": [
        {
          "data": {
            "text/html": [
              "<div>\n",
              "<style scoped>\n",
              "    .dataframe tbody tr th:only-of-type {\n",
              "        vertical-align: middle;\n",
              "    }\n",
              "\n",
              "    .dataframe tbody tr th {\n",
              "        vertical-align: top;\n",
              "    }\n",
              "\n",
              "    .dataframe thead th {\n",
              "        text-align: right;\n",
              "    }\n",
              "</style>\n",
              "<table border=\"1\" class=\"dataframe\">\n",
              "  <thead>\n",
              "    <tr style=\"text-align: right;\">\n",
              "      <th></th>\n",
              "      <th>5</th>\n",
              "      <th>2015-01-01 00:00:00</th>\n",
              "      <th>0</th>\n",
              "    </tr>\n",
              "  </thead>\n",
              "  <tbody>\n",
              "    <tr>\n",
              "      <th>0</th>\n",
              "      <td>5</td>\n",
              "      <td>2015-01-01 00:00:01</td>\n",
              "      <td>0</td>\n",
              "    </tr>\n",
              "    <tr>\n",
              "      <th>1</th>\n",
              "      <td>9</td>\n",
              "      <td>2015-01-01 00:00:02</td>\n",
              "      <td>0</td>\n",
              "    </tr>\n",
              "  </tbody>\n",
              "</table>\n",
              "</div>"
            ],
            "text/plain": [
              "   5 2015-01-01 00:00:00  0\n",
              "0  5 2015-01-01 00:00:01  0\n",
              "1  9 2015-01-01 00:00:02  0"
            ]
          },
          "execution_count": 12,
          "metadata": {},
          "output_type": "execute_result"
        }
      ],
      "source": [
        "# 라이브러리를 임포트합니다.\n",
        "import pandas as pd\n",
        "\n",
        "# 데이터 URL\n",
        "url = 'https://tinyurl.com/simulated-excel'\n",
        "\n",
        "# 데이터 적재\n",
        "dataframe = pd.read_excel(url, sheet_name=0, header=1)\n",
        "\n",
        "# 처음 두 행을 확인합니다.\n",
        "dataframe.head(2)"
      ]
    },
    {
      "cell_type": "markdown",
      "metadata": {
        "id": "ettZrhQmmeSf"
      },
      "source": [
        "## 2.5 JSON 파일 적재하기\n",
        "- JSON (JavaScript Object Notation) \n",
        "    - 데이터를 저장, 교환하기 위한 텍스트 기반의 표준 포맷\n",
        "    \n",
        "- 핵심 매개변수 : orient\n",
        "    - JSON 파일이 어떻게 구성되었는지 지정할 수 있다.\n",
        "    \n",
        "    | 키워드 | 구조 예시 |\n",
        "    |-|-|\n",
        "    |'split'|{\"index\":[인덱스, ...], \"columns\":[열,...], \"data\":[값,...]}|\n",
        "    |'records'| [{key1 : value1}...]|\n",
        "    |'index'|{인댁스:{key: value, ...}, ...}|\n",
        "    |'values'|[values, ...]|\n",
        "    "
      ]
    },
    {
      "cell_type": "code",
      "execution_count": 44,
      "metadata": {
        "id": "cffzVrDFmeSf",
        "outputId": "a8372278-b7d8-4ed4-ff09-b9ca318370f1"
      },
      "outputs": [
        {
          "data": {
            "text/html": [
              "<div>\n",
              "<style scoped>\n",
              "    .dataframe tbody tr th:only-of-type {\n",
              "        vertical-align: middle;\n",
              "    }\n",
              "\n",
              "    .dataframe tbody tr th {\n",
              "        vertical-align: top;\n",
              "    }\n",
              "\n",
              "    .dataframe thead th {\n",
              "        text-align: right;\n",
              "    }\n",
              "</style>\n",
              "<table border=\"1\" class=\"dataframe\">\n",
              "  <thead>\n",
              "    <tr style=\"text-align: right;\">\n",
              "      <th></th>\n",
              "      <th>integer</th>\n",
              "      <th>datetime</th>\n",
              "      <th>category</th>\n",
              "    </tr>\n",
              "  </thead>\n",
              "  <tbody>\n",
              "    <tr>\n",
              "      <th>0</th>\n",
              "      <td>5</td>\n",
              "      <td>2015-01-01 00:00:00</td>\n",
              "      <td>0</td>\n",
              "    </tr>\n",
              "    <tr>\n",
              "      <th>1</th>\n",
              "      <td>5</td>\n",
              "      <td>2015-01-01 00:00:01</td>\n",
              "      <td>0</td>\n",
              "    </tr>\n",
              "  </tbody>\n",
              "</table>\n",
              "</div>"
            ],
            "text/plain": [
              "   integer            datetime  category\n",
              "0        5 2015-01-01 00:00:00         0\n",
              "1        5 2015-01-01 00:00:01         0"
            ]
          },
          "execution_count": 44,
          "metadata": {},
          "output_type": "execute_result"
        }
      ],
      "source": [
        "# 라이브러리를 임포트합니다.\n",
        "import pandas as pd\n",
        "\n",
        "# 데이터 URL\n",
        "url = 'https://tinyurl.com/simulated-json'\n",
        "\n",
        "# 데이터 적재\n",
        "dataframe = pd.read_json(url, orient='columns')\n",
        "\n",
        "# 처음 두 행을 확인합니다.\n",
        "dataframe.head(2)"
      ]
    },
    {
      "cell_type": "markdown",
      "metadata": {
        "id": "A1UnxJUYmeSf"
      },
      "source": [
        "## 2.6 SQL 데이터베이스로부터 적재\n",
        "- SQL(Structured Query Language) : DB에서 데이터를 끌어오는 표준 언어\n",
        "- sqlite3, sqlalchemy"
      ]
    },
    {
      "cell_type": "code",
      "execution_count": 56,
      "metadata": {
        "id": "XF_zWZYLmeSf"
      },
      "outputs": [],
      "source": [
        "# 코랩에서 실행하는 경우 다음 주석을 제거하고 실행하세요.\n",
        "#!wget https://github.com/rickiepark/machine-learning-with-python-cookbook/raw/master/sample.db -O sample.db"
      ]
    },
    {
      "cell_type": "code",
      "execution_count": 68,
      "metadata": {
        "id": "PjZzcfAxmeSf",
        "outputId": "1c18a888-6d11-4ae0-f1c8-90d65e795873"
      },
      "outputs": [],
      "source": [
        "# 감사합니다 스터디장님 ^^...\n",
        "# https://pythonhosted.org/underverse/\n",
        "from sqlalchemy import create_engine, Column, Integer, String\n",
        "from sqlalchemy.ext.declarative import declarative_base\n",
        "from sqlalchemy.orm import sessionmaker\n",
        "\n",
        "Base = declarative_base()\n",
        "\n",
        "class Data(Base):\n",
        "    __tablename__ = 'data'\n",
        "    id = Column(Integer, primary_key=True)\n",
        "    name = Column(String)\n",
        "    age = Column(Integer)\n",
        "\n",
        "engine = create_engine('sqlite:///sample.db')\n",
        "Base.metadata.create_all(engine)\n",
        "\n",
        "Session = sessionmaker(bind=engine)\n",
        "session = Session()\n",
        "\n",
        "# 샘플 데이터 삽입\n",
        "sample_data = [\n",
        "    Data(name='Alice', age=25),\n",
        "    Data(name='Bob', age=30),\n",
        "    Data(name='Charlie', age=28),\n",
        "]\n",
        "\n",
        "session.add_all(sample_data)\n",
        "session.commit()"
      ]
    },
    {
      "cell_type": "code",
      "execution_count": 69,
      "metadata": {},
      "outputs": [
        {
          "data": {
            "text/html": [
              "<div>\n",
              "<style scoped>\n",
              "    .dataframe tbody tr th:only-of-type {\n",
              "        vertical-align: middle;\n",
              "    }\n",
              "\n",
              "    .dataframe tbody tr th {\n",
              "        vertical-align: top;\n",
              "    }\n",
              "\n",
              "    .dataframe thead th {\n",
              "        text-align: right;\n",
              "    }\n",
              "</style>\n",
              "<table border=\"1\" class=\"dataframe\">\n",
              "  <thead>\n",
              "    <tr style=\"text-align: right;\">\n",
              "      <th></th>\n",
              "      <th>id</th>\n",
              "      <th>name</th>\n",
              "      <th>age</th>\n",
              "    </tr>\n",
              "  </thead>\n",
              "  <tbody>\n",
              "    <tr>\n",
              "      <th>0</th>\n",
              "      <td>1</td>\n",
              "      <td>Alice</td>\n",
              "      <td>25</td>\n",
              "    </tr>\n",
              "    <tr>\n",
              "      <th>1</th>\n",
              "      <td>2</td>\n",
              "      <td>Bob</td>\n",
              "      <td>30</td>\n",
              "    </tr>\n",
              "    <tr>\n",
              "      <th>2</th>\n",
              "      <td>3</td>\n",
              "      <td>Charlie</td>\n",
              "      <td>28</td>\n",
              "    </tr>\n",
              "  </tbody>\n",
              "</table>\n",
              "</div>"
            ],
            "text/plain": [
              "   id     name  age\n",
              "0   1    Alice   25\n",
              "1   2      Bob   30\n",
              "2   3  Charlie   28"
            ]
          },
          "execution_count": 69,
          "metadata": {},
          "output_type": "execute_result"
        }
      ],
      "source": [
        "dc = create_engine('sqlite:///sample.db')\n",
        "df = pd.read_sql_query('SELECT * FROM data', dc)\n",
        "df"
      ]
    },
    {
      "cell_type": "markdown",
      "metadata": {},
      "source": [
        "## 2.+ 다른 확장자 파일\n",
        "\n",
        "* 참고 : 공공데이터포털( https://www.data.go.kr/index.do )\n",
        "* 검색 제공 확장자 목록\n",
        "\n",
        "| 모달리티 | 확장자 목록| 주요 관련 라이브러리|\n",
        "|-|-|-|\n",
        "|정형데이터|CSV, XLS, XLSX| pandas | \n",
        "|웹| XML, HTML, JSON, TTL , RDF, ROD| pandas , xml, rdflib |\n",
        "|이미지| JPG, JPEG, GIF , PNG, TIF,  TIFF | pillow, OpenCV |\n",
        "|오디오|MP3, WAV| 파이토치, 케라스, Pydub, LibROSA|\n",
        "|비디오| MP4, STL| OpenCV, 파이토치, 텐서플로우, scikit-image, ffmpeg |\n",
        "|자연어|TXT, HWP, HWPX, DOC, DOCX  ||\n",
        "|지도| SHP , GPS, GEOJSON| Shapely , GeoPandas , Fiona  등|\n",
        "|프로그래밍언어파일| SGML, DTD| xml.etree.ElementTree|\n",
        "|기타| FASTA, PDF, ODT, PPT, PPTX| | PyMuPDF 등|\n",
        "\n",
        "* 판다스 적재 함수 : https://pandas.pydata.org/docs/reference/io.html\n"
      ]
    },
    {
      "cell_type": "code",
      "execution_count": null,
      "metadata": {},
      "outputs": [],
      "source": []
    }
  ],
  "metadata": {
    "colab": {
      "provenance": [],
      "toc_visible": true
    },
    "kernelspec": {
      "display_name": "Python 3 (ipykernel)",
      "language": "python",
      "name": "python3"
    },
    "language_info": {
      "codemirror_mode": {
        "name": "ipython",
        "version": 3
      },
      "file_extension": ".py",
      "mimetype": "text/x-python",
      "name": "python",
      "nbconvert_exporter": "python",
      "pygments_lexer": "ipython3",
      "version": "3.10.9"
    }
  },
  "nbformat": 4,
  "nbformat_minor": 0
}
