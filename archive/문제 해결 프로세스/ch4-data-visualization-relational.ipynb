{
 "cells": [
  {
   "cell_type": "markdown",
   "id": "60d0134d",
   "metadata": {
    "papermill": {
     "duration": 0.017186,
     "end_time": "2022-03-03T16:13:30.904201",
     "exception": false,
     "start_time": "2022-03-03T16:13:30.887015",
     "status": "completed"
    },
    "tags": []
   },
   "source": [
    "## 4.5 데이터 관계 시각화"
   ]
  },
  {
   "cell_type": "code",
   "execution_count": 1,
   "id": "1bd5fc98",
   "metadata": {
    "execution": {
     "iopub.execute_input": "2022-03-03T16:13:30.934404Z",
     "iopub.status.busy": "2022-03-03T16:13:30.933249Z",
     "iopub.status.idle": "2022-03-03T16:13:32.566138Z",
     "shell.execute_reply": "2022-03-03T16:13:32.567259Z",
     "shell.execute_reply.started": "2022-03-03T16:13:11.676214Z"
    },
    "papermill": {
     "duration": 1.649048,
     "end_time": "2022-03-03T16:13:32.567626",
     "exception": false,
     "start_time": "2022-03-03T16:13:30.918578",
     "status": "completed"
    },
    "tags": []
   },
   "outputs": [],
   "source": [
    "import seaborn as sns\n",
    "\n",
    "flights = sns.load_dataset('flights') # 비행기 탐승자 수 데이터 불러오기"
   ]
  },
  {
   "cell_type": "code",
   "execution_count": 2,
   "id": "fc916348",
   "metadata": {
    "execution": {
     "iopub.execute_input": "2022-03-03T16:13:32.597685Z",
     "iopub.status.busy": "2022-03-03T16:13:32.597039Z",
     "iopub.status.idle": "2022-03-03T16:13:32.611632Z",
     "shell.execute_reply": "2022-03-03T16:13:32.611106Z",
     "shell.execute_reply.started": "2022-03-03T16:13:13.155344Z"
    },
    "papermill": {
     "duration": 0.033052,
     "end_time": "2022-03-03T16:13:32.611778",
     "exception": false,
     "start_time": "2022-03-03T16:13:32.578726",
     "status": "completed"
    },
    "tags": []
   },
   "outputs": [
    {
     "data": {
      "text/html": [
       "<div>\n",
       "<style scoped>\n",
       "    .dataframe tbody tr th:only-of-type {\n",
       "        vertical-align: middle;\n",
       "    }\n",
       "\n",
       "    .dataframe tbody tr th {\n",
       "        vertical-align: top;\n",
       "    }\n",
       "\n",
       "    .dataframe thead th {\n",
       "        text-align: right;\n",
       "    }\n",
       "</style>\n",
       "<table border=\"1\" class=\"dataframe\">\n",
       "  <thead>\n",
       "    <tr style=\"text-align: right;\">\n",
       "      <th></th>\n",
       "      <th>year</th>\n",
       "      <th>month</th>\n",
       "      <th>passengers</th>\n",
       "    </tr>\n",
       "  </thead>\n",
       "  <tbody>\n",
       "    <tr>\n",
       "      <th>0</th>\n",
       "      <td>1949</td>\n",
       "      <td>Jan</td>\n",
       "      <td>112</td>\n",
       "    </tr>\n",
       "    <tr>\n",
       "      <th>1</th>\n",
       "      <td>1949</td>\n",
       "      <td>Feb</td>\n",
       "      <td>118</td>\n",
       "    </tr>\n",
       "    <tr>\n",
       "      <th>2</th>\n",
       "      <td>1949</td>\n",
       "      <td>Mar</td>\n",
       "      <td>132</td>\n",
       "    </tr>\n",
       "    <tr>\n",
       "      <th>3</th>\n",
       "      <td>1949</td>\n",
       "      <td>Apr</td>\n",
       "      <td>129</td>\n",
       "    </tr>\n",
       "    <tr>\n",
       "      <th>4</th>\n",
       "      <td>1949</td>\n",
       "      <td>May</td>\n",
       "      <td>121</td>\n",
       "    </tr>\n",
       "  </tbody>\n",
       "</table>\n",
       "</div>"
      ],
      "text/plain": [
       "   year month  passengers\n",
       "0  1949   Jan         112\n",
       "1  1949   Feb         118\n",
       "2  1949   Mar         132\n",
       "3  1949   Apr         129\n",
       "4  1949   May         121"
      ]
     },
     "execution_count": 2,
     "metadata": {},
     "output_type": "execute_result"
    }
   ],
   "source": [
    "flights.head()"
   ]
  },
  {
   "cell_type": "markdown",
   "id": "be7cfa39",
   "metadata": {
    "papermill": {
     "duration": 0.01117,
     "end_time": "2022-03-03T16:13:32.637215",
     "exception": false,
     "start_time": "2022-03-03T16:13:32.626045",
     "status": "completed"
    },
    "tags": []
   },
   "source": [
    "### 4.5.1 히트맵(heatmap)"
   ]
  },
  {
   "cell_type": "code",
   "execution_count": 3,
   "id": "f9748e05",
   "metadata": {
    "execution": {
     "iopub.execute_input": "2022-03-03T16:13:32.666423Z",
     "iopub.status.busy": "2022-03-03T16:13:32.665727Z",
     "iopub.status.idle": "2022-03-03T16:13:32.683963Z",
     "shell.execute_reply": "2022-03-03T16:13:32.684587Z"
    },
    "papermill": {
     "duration": 0.036192,
     "end_time": "2022-03-03T16:13:32.684814",
     "exception": false,
     "start_time": "2022-03-03T16:13:32.648622",
     "status": "completed"
    },
    "tags": []
   },
   "outputs": [
    {
     "data": {
      "text/html": [
       "<div>\n",
       "<style scoped>\n",
       "    .dataframe tbody tr th:only-of-type {\n",
       "        vertical-align: middle;\n",
       "    }\n",
       "\n",
       "    .dataframe tbody tr th {\n",
       "        vertical-align: top;\n",
       "    }\n",
       "\n",
       "    .dataframe thead th {\n",
       "        text-align: right;\n",
       "    }\n",
       "</style>\n",
       "<table border=\"1\" class=\"dataframe\">\n",
       "  <thead>\n",
       "    <tr style=\"text-align: right;\">\n",
       "      <th>year</th>\n",
       "      <th>1949</th>\n",
       "      <th>1950</th>\n",
       "      <th>1951</th>\n",
       "      <th>1952</th>\n",
       "      <th>1953</th>\n",
       "      <th>1954</th>\n",
       "      <th>1955</th>\n",
       "      <th>1956</th>\n",
       "      <th>1957</th>\n",
       "      <th>1958</th>\n",
       "      <th>1959</th>\n",
       "      <th>1960</th>\n",
       "    </tr>\n",
       "    <tr>\n",
       "      <th>month</th>\n",
       "      <th></th>\n",
       "      <th></th>\n",
       "      <th></th>\n",
       "      <th></th>\n",
       "      <th></th>\n",
       "      <th></th>\n",
       "      <th></th>\n",
       "      <th></th>\n",
       "      <th></th>\n",
       "      <th></th>\n",
       "      <th></th>\n",
       "      <th></th>\n",
       "    </tr>\n",
       "  </thead>\n",
       "  <tbody>\n",
       "    <tr>\n",
       "      <th>Jan</th>\n",
       "      <td>112</td>\n",
       "      <td>115</td>\n",
       "      <td>145</td>\n",
       "      <td>171</td>\n",
       "      <td>196</td>\n",
       "      <td>204</td>\n",
       "      <td>242</td>\n",
       "      <td>284</td>\n",
       "      <td>315</td>\n",
       "      <td>340</td>\n",
       "      <td>360</td>\n",
       "      <td>417</td>\n",
       "    </tr>\n",
       "    <tr>\n",
       "      <th>Feb</th>\n",
       "      <td>118</td>\n",
       "      <td>126</td>\n",
       "      <td>150</td>\n",
       "      <td>180</td>\n",
       "      <td>196</td>\n",
       "      <td>188</td>\n",
       "      <td>233</td>\n",
       "      <td>277</td>\n",
       "      <td>301</td>\n",
       "      <td>318</td>\n",
       "      <td>342</td>\n",
       "      <td>391</td>\n",
       "    </tr>\n",
       "    <tr>\n",
       "      <th>Mar</th>\n",
       "      <td>132</td>\n",
       "      <td>141</td>\n",
       "      <td>178</td>\n",
       "      <td>193</td>\n",
       "      <td>236</td>\n",
       "      <td>235</td>\n",
       "      <td>267</td>\n",
       "      <td>317</td>\n",
       "      <td>356</td>\n",
       "      <td>362</td>\n",
       "      <td>406</td>\n",
       "      <td>419</td>\n",
       "    </tr>\n",
       "    <tr>\n",
       "      <th>Apr</th>\n",
       "      <td>129</td>\n",
       "      <td>135</td>\n",
       "      <td>163</td>\n",
       "      <td>181</td>\n",
       "      <td>235</td>\n",
       "      <td>227</td>\n",
       "      <td>269</td>\n",
       "      <td>313</td>\n",
       "      <td>348</td>\n",
       "      <td>348</td>\n",
       "      <td>396</td>\n",
       "      <td>461</td>\n",
       "    </tr>\n",
       "    <tr>\n",
       "      <th>May</th>\n",
       "      <td>121</td>\n",
       "      <td>125</td>\n",
       "      <td>172</td>\n",
       "      <td>183</td>\n",
       "      <td>229</td>\n",
       "      <td>234</td>\n",
       "      <td>270</td>\n",
       "      <td>318</td>\n",
       "      <td>355</td>\n",
       "      <td>363</td>\n",
       "      <td>420</td>\n",
       "      <td>472</td>\n",
       "    </tr>\n",
       "    <tr>\n",
       "      <th>Jun</th>\n",
       "      <td>135</td>\n",
       "      <td>149</td>\n",
       "      <td>178</td>\n",
       "      <td>218</td>\n",
       "      <td>243</td>\n",
       "      <td>264</td>\n",
       "      <td>315</td>\n",
       "      <td>374</td>\n",
       "      <td>422</td>\n",
       "      <td>435</td>\n",
       "      <td>472</td>\n",
       "      <td>535</td>\n",
       "    </tr>\n",
       "    <tr>\n",
       "      <th>Jul</th>\n",
       "      <td>148</td>\n",
       "      <td>170</td>\n",
       "      <td>199</td>\n",
       "      <td>230</td>\n",
       "      <td>264</td>\n",
       "      <td>302</td>\n",
       "      <td>364</td>\n",
       "      <td>413</td>\n",
       "      <td>465</td>\n",
       "      <td>491</td>\n",
       "      <td>548</td>\n",
       "      <td>622</td>\n",
       "    </tr>\n",
       "    <tr>\n",
       "      <th>Aug</th>\n",
       "      <td>148</td>\n",
       "      <td>170</td>\n",
       "      <td>199</td>\n",
       "      <td>242</td>\n",
       "      <td>272</td>\n",
       "      <td>293</td>\n",
       "      <td>347</td>\n",
       "      <td>405</td>\n",
       "      <td>467</td>\n",
       "      <td>505</td>\n",
       "      <td>559</td>\n",
       "      <td>606</td>\n",
       "    </tr>\n",
       "    <tr>\n",
       "      <th>Sep</th>\n",
       "      <td>136</td>\n",
       "      <td>158</td>\n",
       "      <td>184</td>\n",
       "      <td>209</td>\n",
       "      <td>237</td>\n",
       "      <td>259</td>\n",
       "      <td>312</td>\n",
       "      <td>355</td>\n",
       "      <td>404</td>\n",
       "      <td>404</td>\n",
       "      <td>463</td>\n",
       "      <td>508</td>\n",
       "    </tr>\n",
       "    <tr>\n",
       "      <th>Oct</th>\n",
       "      <td>119</td>\n",
       "      <td>133</td>\n",
       "      <td>162</td>\n",
       "      <td>191</td>\n",
       "      <td>211</td>\n",
       "      <td>229</td>\n",
       "      <td>274</td>\n",
       "      <td>306</td>\n",
       "      <td>347</td>\n",
       "      <td>359</td>\n",
       "      <td>407</td>\n",
       "      <td>461</td>\n",
       "    </tr>\n",
       "    <tr>\n",
       "      <th>Nov</th>\n",
       "      <td>104</td>\n",
       "      <td>114</td>\n",
       "      <td>146</td>\n",
       "      <td>172</td>\n",
       "      <td>180</td>\n",
       "      <td>203</td>\n",
       "      <td>237</td>\n",
       "      <td>271</td>\n",
       "      <td>305</td>\n",
       "      <td>310</td>\n",
       "      <td>362</td>\n",
       "      <td>390</td>\n",
       "    </tr>\n",
       "    <tr>\n",
       "      <th>Dec</th>\n",
       "      <td>118</td>\n",
       "      <td>140</td>\n",
       "      <td>166</td>\n",
       "      <td>194</td>\n",
       "      <td>201</td>\n",
       "      <td>229</td>\n",
       "      <td>278</td>\n",
       "      <td>306</td>\n",
       "      <td>336</td>\n",
       "      <td>337</td>\n",
       "      <td>405</td>\n",
       "      <td>432</td>\n",
       "    </tr>\n",
       "  </tbody>\n",
       "</table>\n",
       "</div>"
      ],
      "text/plain": [
       "year   1949  1950  1951  1952  1953  1954  1955  1956  1957  1958  1959  1960\n",
       "month                                                                        \n",
       "Jan     112   115   145   171   196   204   242   284   315   340   360   417\n",
       "Feb     118   126   150   180   196   188   233   277   301   318   342   391\n",
       "Mar     132   141   178   193   236   235   267   317   356   362   406   419\n",
       "Apr     129   135   163   181   235   227   269   313   348   348   396   461\n",
       "May     121   125   172   183   229   234   270   318   355   363   420   472\n",
       "Jun     135   149   178   218   243   264   315   374   422   435   472   535\n",
       "Jul     148   170   199   230   264   302   364   413   465   491   548   622\n",
       "Aug     148   170   199   242   272   293   347   405   467   505   559   606\n",
       "Sep     136   158   184   209   237   259   312   355   404   404   463   508\n",
       "Oct     119   133   162   191   211   229   274   306   347   359   407   461\n",
       "Nov     104   114   146   172   180   203   237   271   305   310   362   390\n",
       "Dec     118   140   166   194   201   229   278   306   336   337   405   432"
      ]
     },
     "execution_count": 3,
     "metadata": {},
     "output_type": "execute_result"
    }
   ],
   "source": [
    "flights_pivot = flights.pivot(index='month', \n",
    "                              columns='year', \n",
    "                              values='passengers')\n",
    "\n",
    "flights_pivot"
   ]
  },
  {
   "cell_type": "code",
   "execution_count": 4,
   "id": "c7d196b7",
   "metadata": {
    "execution": {
     "iopub.execute_input": "2022-03-03T16:13:32.725176Z",
     "iopub.status.busy": "2022-03-03T16:13:32.723228Z",
     "iopub.status.idle": "2022-03-03T16:13:33.272870Z",
     "shell.execute_reply": "2022-03-03T16:13:33.273482Z"
    },
    "papermill": {
     "duration": 0.576934,
     "end_time": "2022-03-03T16:13:33.273732",
     "exception": false,
     "start_time": "2022-03-03T16:13:32.696798",
     "status": "completed"
    },
    "tags": []
   },
   "outputs": [
    {
     "data": {
      "image/png": "[encoded data removed]",
      "text/plain": [
       "<Figure size 432x288 with 2 Axes>"
      ]
     },
     "metadata": {
      "needs_background": "light"
     },
     "output_type": "display_data"
    }
   ],
   "source": [
    "sns.heatmap(data=flights_pivot);"
   ]
  },
  {
   "cell_type": "markdown",
   "id": "e15f3f01",
   "metadata": {
    "papermill": {
     "duration": 0.012879,
     "end_time": "2022-03-03T16:13:33.301186",
     "exception": false,
     "start_time": "2022-03-03T16:13:33.288307",
     "status": "completed"
    },
    "tags": []
   },
   "source": [
    "### 4.5.2 라인플롯(lineplot)"
   ]
  },
  {
   "cell_type": "code",
   "execution_count": 5,
   "id": "304c3d71",
   "metadata": {
    "execution": {
     "iopub.execute_input": "2022-03-03T16:13:33.332219Z",
     "iopub.status.busy": "2022-03-03T16:13:33.331167Z",
     "iopub.status.idle": "2022-03-03T16:13:33.922054Z",
     "shell.execute_reply": "2022-03-03T16:13:33.922557Z"
    },
    "papermill": {
     "duration": 0.608243,
     "end_time": "2022-03-03T16:13:33.922749",
     "exception": false,
     "start_time": "2022-03-03T16:13:33.314506",
     "status": "completed"
    },
    "tags": []
   },
   "outputs": [
    {
     "data": {
      "image/png": "[encoded data removed]",
      "text/plain": [
       "<Figure size 432x288 with 1 Axes>"
      ]
     },
     "metadata": {
      "needs_background": "light"
     },
     "output_type": "display_data"
    }
   ],
   "source": [
    "sns.lineplot(x='year', y='passengers', data=flights);"
   ]
  },
  {
   "cell_type": "markdown",
   "id": "5fb39e85",
   "metadata": {
    "papermill": {
     "duration": 0.014769,
     "end_time": "2022-03-03T16:13:33.952015",
     "exception": false,
     "start_time": "2022-03-03T16:13:33.937246",
     "status": "completed"
    },
    "tags": []
   },
   "source": [
    "### 4.5.3 산점도(scatterplot)"
   ]
  },
  {
   "cell_type": "code",
   "execution_count": 6,
   "id": "6fca09c8",
   "metadata": {
    "execution": {
     "iopub.execute_input": "2022-03-03T16:13:33.986620Z",
     "iopub.status.busy": "2022-03-03T16:13:33.985995Z",
     "iopub.status.idle": "2022-03-03T16:13:34.697608Z",
     "shell.execute_reply": "2022-03-03T16:13:34.696334Z"
    },
    "papermill": {
     "duration": 0.731385,
     "end_time": "2022-03-03T16:13:34.697780",
     "exception": false,
     "start_time": "2022-03-03T16:13:33.966395",
     "status": "completed"
    },
    "tags": []
   },
   "outputs": [],
   "source": [
    "tips = sns.load_dataset('tips') # 팁 데이터 불러오기"
   ]
  },
  {
   "cell_type": "code",
   "execution_count": 7,
   "id": "3fe539a3",
   "metadata": {
    "execution": {
     "iopub.execute_input": "2022-03-03T16:13:34.742685Z",
     "iopub.status.busy": "2022-03-03T16:13:34.742047Z",
     "iopub.status.idle": "2022-03-03T16:13:34.746832Z",
     "shell.execute_reply": "2022-03-03T16:13:34.746260Z"
    },
    "papermill": {
     "duration": 0.034624,
     "end_time": "2022-03-03T16:13:34.747050",
     "exception": false,
     "start_time": "2022-03-03T16:13:34.712426",
     "status": "completed"
    },
    "tags": []
   },
   "outputs": [
    {
     "data": {
      "text/html": [
       "<div>\n",
       "<style scoped>\n",
       "    .dataframe tbody tr th:only-of-type {\n",
       "        vertical-align: middle;\n",
       "    }\n",
       "\n",
       "    .dataframe tbody tr th {\n",
       "        vertical-align: top;\n",
       "    }\n",
       "\n",
       "    .dataframe thead th {\n",
       "        text-align: right;\n",
       "    }\n",
       "</style>\n",
       "<table border=\"1\" class=\"dataframe\">\n",
       "  <thead>\n",
       "    <tr style=\"text-align: right;\">\n",
       "      <th></th>\n",
       "      <th>total_bill</th>\n",
       "      <th>tip</th>\n",
       "      <th>sex</th>\n",
       "      <th>smoker</th>\n",
       "      <th>day</th>\n",
       "      <th>time</th>\n",
       "      <th>size</th>\n",
       "    </tr>\n",
       "  </thead>\n",
       "  <tbody>\n",
       "    <tr>\n",
       "      <th>0</th>\n",
       "      <td>16.99</td>\n",
       "      <td>1.01</td>\n",
       "      <td>Female</td>\n",
       "      <td>No</td>\n",
       "      <td>Sun</td>\n",
       "      <td>Dinner</td>\n",
       "      <td>2</td>\n",
       "    </tr>\n",
       "    <tr>\n",
       "      <th>1</th>\n",
       "      <td>10.34</td>\n",
       "      <td>1.66</td>\n",
       "      <td>Male</td>\n",
       "      <td>No</td>\n",
       "      <td>Sun</td>\n",
       "      <td>Dinner</td>\n",
       "      <td>3</td>\n",
       "    </tr>\n",
       "    <tr>\n",
       "      <th>2</th>\n",
       "      <td>21.01</td>\n",
       "      <td>3.50</td>\n",
       "      <td>Male</td>\n",
       "      <td>No</td>\n",
       "      <td>Sun</td>\n",
       "      <td>Dinner</td>\n",
       "      <td>3</td>\n",
       "    </tr>\n",
       "    <tr>\n",
       "      <th>3</th>\n",
       "      <td>23.68</td>\n",
       "      <td>3.31</td>\n",
       "      <td>Male</td>\n",
       "      <td>No</td>\n",
       "      <td>Sun</td>\n",
       "      <td>Dinner</td>\n",
       "      <td>2</td>\n",
       "    </tr>\n",
       "    <tr>\n",
       "      <th>4</th>\n",
       "      <td>24.59</td>\n",
       "      <td>3.61</td>\n",
       "      <td>Female</td>\n",
       "      <td>No</td>\n",
       "      <td>Sun</td>\n",
       "      <td>Dinner</td>\n",
       "      <td>4</td>\n",
       "    </tr>\n",
       "  </tbody>\n",
       "</table>\n",
       "</div>"
      ],
      "text/plain": [
       "   total_bill   tip     sex smoker  day    time  size\n",
       "0       16.99  1.01  Female     No  Sun  Dinner     2\n",
       "1       10.34  1.66    Male     No  Sun  Dinner     3\n",
       "2       21.01  3.50    Male     No  Sun  Dinner     3\n",
       "3       23.68  3.31    Male     No  Sun  Dinner     2\n",
       "4       24.59  3.61  Female     No  Sun  Dinner     4"
      ]
     },
     "execution_count": 7,
     "metadata": {},
     "output_type": "execute_result"
    }
   ],
   "source": [
    "tips.head()"
   ]
  },
  {
   "cell_type": "code",
   "execution_count": 8,
   "id": "440daf3b",
   "metadata": {
    "execution": {
     "iopub.execute_input": "2022-03-03T16:13:34.781343Z",
     "iopub.status.busy": "2022-03-03T16:13:34.780719Z",
     "iopub.status.idle": "2022-03-03T16:13:35.005798Z",
     "shell.execute_reply": "2022-03-03T16:13:35.006337Z"
    },
    "papermill": {
     "duration": 0.243972,
     "end_time": "2022-03-03T16:13:35.006526",
     "exception": false,
     "start_time": "2022-03-03T16:13:34.762554",
     "status": "completed"
    },
    "tags": []
   },
   "outputs": [
    {
     "data": {
      "image/png": "[encoded data removed]",
      "text/plain": [
       "<Figure size 432x288 with 1 Axes>"
      ]
     },
     "metadata": {
      "needs_background": "light"
     },
     "output_type": "display_data"
    }
   ],
   "source": [
    "sns.scatterplot(x='total_bill', y='tip', data=tips);"
   ]
  },
  {
   "cell_type": "code",
   "execution_count": 9,
   "id": "0dee8c55",
   "metadata": {
    "execution": {
     "iopub.execute_input": "2022-03-03T16:13:35.043574Z",
     "iopub.status.busy": "2022-03-03T16:13:35.042875Z",
     "iopub.status.idle": "2022-03-03T16:13:35.365374Z",
     "shell.execute_reply": "2022-03-03T16:13:35.364612Z"
    },
    "papermill": {
     "duration": 0.342601,
     "end_time": "2022-03-03T16:13:35.365577",
     "exception": false,
     "start_time": "2022-03-03T16:13:35.022976",
     "status": "completed"
    },
    "tags": []
   },
   "outputs": [
    {
     "data": {
      "image/png": "[encoded data removed]",
      "text/plain": [
       "<Figure size 432x288 with 1 Axes>"
      ]
     },
     "metadata": {
      "needs_background": "light"
     },
     "output_type": "display_data"
    }
   ],
   "source": [
    "sns.scatterplot(x='total_bill', y='tip', hue='time', data=tips);"
   ]
  },
  {
   "cell_type": "markdown",
   "id": "0ce06dc7",
   "metadata": {
    "papermill": {
     "duration": 0.01683,
     "end_time": "2022-03-03T16:13:35.401991",
     "exception": false,
     "start_time": "2022-03-03T16:13:35.385161",
     "status": "completed"
    },
    "tags": []
   },
   "source": [
    "### 4.5.4 회귀선을 포함한 산점도 그래프(regplot)"
   ]
  },
  {
   "cell_type": "code",
   "execution_count": 10,
   "id": "9eb2a0f3",
   "metadata": {
    "execution": {
     "iopub.execute_input": "2022-03-03T16:13:35.465567Z",
     "iopub.status.busy": "2022-03-03T16:13:35.445116Z",
     "iopub.status.idle": "2022-03-03T16:13:35.829046Z",
     "shell.execute_reply": "2022-03-03T16:13:35.829568Z"
    },
    "papermill": {
     "duration": 0.410399,
     "end_time": "2022-03-03T16:13:35.829759",
     "exception": false,
     "start_time": "2022-03-03T16:13:35.419360",
     "status": "completed"
    },
    "tags": []
   },
   "outputs": [
    {
     "data": {
      "image/png": "[encoded data removed]",
      "text/plain": [
       "<Figure size 432x288 with 1 Axes>"
      ]
     },
     "metadata": {
      "needs_background": "light"
     },
     "output_type": "display_data"
    }
   ],
   "source": [
    "sns.regplot(x='total_bill', y='tip', data=tips);"
   ]
  },
  {
   "cell_type": "code",
   "execution_count": 11,
   "id": "0668316c",
   "metadata": {
    "execution": {
     "iopub.execute_input": "2022-03-03T16:13:35.872052Z",
     "iopub.status.busy": "2022-03-03T16:13:35.871079Z",
     "iopub.status.idle": "2022-03-03T16:13:36.208046Z",
     "shell.execute_reply": "2022-03-03T16:13:36.208550Z"
    },
    "papermill": {
     "duration": 0.359916,
     "end_time": "2022-03-03T16:13:36.208730",
     "exception": false,
     "start_time": "2022-03-03T16:13:35.848814",
     "status": "completed"
    },
    "tags": []
   },
   "outputs": [
    {
     "data": {
      "image/png": "[encoded data removed]",
      "text/plain": [
       "<Figure size 432x288 with 1 Axes>"
      ]
     },
     "metadata": {
      "needs_background": "light"
     },
     "output_type": "display_data"
    }
   ],
   "source": [
    "sns.regplot(x='total_bill', y='tip', ci=99, data=tips);"
   ]
  }
 ],
 "metadata": {
  "kernelspec": {
   "display_name": "Python 3",
   "language": "python",
   "name": "python3"
  },
  "language_info": {
   "codemirror_mode": {
    "name": "ipython",
    "version": 3
   },
   "file_extension": ".py",
   "mimetype": "text/x-python",
   "name": "python",
   "nbconvert_exporter": "python",
   "pygments_lexer": "ipython3",
   "version": "3.7.10"
  },
  "papermill": {
   "default_parameters": {},
   "duration": 15.401871,
   "end_time": "2022-03-03T16:13:37.041397",
   "environment_variables": {},
   "exception": null,
   "input_path": "__notebook__.ipynb",
   "output_path": "__notebook__.ipynb",
   "parameters": {},
   "start_time": "2022-03-03T16:13:21.639526",
   "version": "2.3.3"
  }
 },
 "nbformat": 4,
 "nbformat_minor": 5
}
