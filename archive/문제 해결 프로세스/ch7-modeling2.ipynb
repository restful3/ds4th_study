{
 "cells": [
  {
   "cell_type": "markdown",
   "id": "767f68c4",
   "metadata": {
    "papermill": {
     "duration": 0.014829,
     "end_time": "2022-03-04T14:34:57.196318",
     "exception": false,
     "start_time": "2022-03-04T14:34:57.181489",
     "status": "completed"
    },
    "tags": []
   },
   "source": [
    "# 7.5 범주형 데이터 이진분류 경진대회 모델 성능 개선 II"
   ]
  },
  {
   "cell_type": "markdown",
   "id": "5f7cb550",
   "metadata": {
    "papermill": {
     "duration": 0.012741,
     "end_time": "2022-03-04T14:34:57.223361",
     "exception": false,
     "start_time": "2022-03-04T14:34:57.210620",
     "status": "completed"
    },
    "tags": []
   },
   "source": [
    "- [범주형 데이터 이진분류 경진대회 링크](https://www.kaggle.com/c/cat-in-the-dat/)\n",
    "- [모델링 코드 참고 링크](https://www.kaggle.com/dkomyagin/cat-in-the-dat-0-80285-private-lb-solution)"
   ]
  },
  {
   "cell_type": "code",
   "execution_count": 1,
   "id": "8ca9394d",
   "metadata": {
    "execution": {
     "iopub.execute_input": "2022-03-04T14:34:57.258440Z",
     "iopub.status.busy": "2022-03-04T14:34:57.257857Z",
     "iopub.status.idle": "2022-03-04T14:34:59.634841Z",
     "shell.execute_reply": "2022-03-04T14:34:59.634151Z"
    },
    "papermill": {
     "duration": 2.398552,
     "end_time": "2022-03-04T14:34:59.634999",
     "exception": false,
     "start_time": "2022-03-04T14:34:57.236447",
     "status": "completed"
    },
    "tags": []
   },
   "outputs": [],
   "source": [
    "import pandas as pd\n",
    "# 데이터 경로\n",
    "data_path = '/kaggle/input/cat-in-the-dat/'\n",
    "\n",
    "train = pd.read_csv(data_path + 'train.csv', index_col='id')\n",
    "test = pd.read_csv(data_path + 'test.csv', index_col='id')\n",
    "submission = pd.read_csv(data_path + 'sample_submission.csv', index_col='id')"
   ]
  },
  {
   "cell_type": "markdown",
   "id": "b0cd779b",
   "metadata": {
    "papermill": {
     "duration": 0.013198,
     "end_time": "2022-03-04T14:34:59.662100",
     "exception": false,
     "start_time": "2022-03-04T14:34:59.648902",
     "status": "completed"
    },
    "tags": []
   },
   "source": [
    "## 피처 엔지니어링 I : 피처 맞춤 인코딩"
   ]
  },
  {
   "cell_type": "markdown",
   "id": "4d1a3169",
   "metadata": {
    "papermill": {
     "duration": 0.012877,
     "end_time": "2022-03-04T14:34:59.688398",
     "exception": false,
     "start_time": "2022-03-04T14:34:59.675521",
     "status": "completed"
    },
    "tags": []
   },
   "source": [
    "### 데이터 합치기"
   ]
  },
  {
   "cell_type": "code",
   "execution_count": 2,
   "id": "64ad02d2",
   "metadata": {
    "execution": {
     "iopub.execute_input": "2022-03-04T14:34:59.720653Z",
     "iopub.status.busy": "2022-03-04T14:34:59.719993Z",
     "iopub.status.idle": "2022-03-04T14:35:00.308904Z",
     "shell.execute_reply": "2022-03-04T14:35:00.308398Z"
    },
    "papermill": {
     "duration": 0.607543,
     "end_time": "2022-03-04T14:35:00.309050",
     "exception": false,
     "start_time": "2022-03-04T14:34:59.701507",
     "status": "completed"
    },
    "tags": []
   },
   "outputs": [],
   "source": [
    "# 훈련 데이터와 테스트 데이터 합치기\n",
    "all_data = pd.concat([train, test])\n",
    "all_data = all_data.drop('target', axis=1) # 타깃 값 제거"
   ]
  },
  {
   "cell_type": "markdown",
   "id": "6533e712",
   "metadata": {
    "papermill": {
     "duration": 0.012817,
     "end_time": "2022-03-04T14:35:00.335211",
     "exception": false,
     "start_time": "2022-03-04T14:35:00.322394",
     "status": "completed"
    },
    "tags": []
   },
   "source": [
    "### 이진 피처 인코딩"
   ]
  },
  {
   "cell_type": "code",
   "execution_count": 3,
   "id": "d87f3f2c",
   "metadata": {
    "execution": {
     "iopub.execute_input": "2022-03-04T14:35:00.389552Z",
     "iopub.status.busy": "2022-03-04T14:35:00.388876Z",
     "iopub.status.idle": "2022-03-04T14:35:00.648975Z",
     "shell.execute_reply": "2022-03-04T14:35:00.648413Z"
    },
    "papermill": {
     "duration": 0.29948,
     "end_time": "2022-03-04T14:35:00.649116",
     "exception": false,
     "start_time": "2022-03-04T14:35:00.349636",
     "status": "completed"
    },
    "tags": []
   },
   "outputs": [],
   "source": [
    "all_data['bin_3'] = all_data['bin_3'].map({'F':0, 'T':1})\n",
    "all_data['bin_4'] = all_data['bin_4'].map({'N':0, 'Y':1})"
   ]
  },
  {
   "cell_type": "markdown",
   "id": "7671b326",
   "metadata": {
    "papermill": {
     "duration": 0.01313,
     "end_time": "2022-03-04T14:35:00.675811",
     "exception": false,
     "start_time": "2022-03-04T14:35:00.662681",
     "status": "completed"
    },
    "tags": []
   },
   "source": [
    "### 순서형 피처 인코딩"
   ]
  },
  {
   "cell_type": "code",
   "execution_count": 4,
   "id": "4aa16f11",
   "metadata": {
    "execution": {
     "iopub.execute_input": "2022-03-04T14:35:00.745219Z",
     "iopub.status.busy": "2022-03-04T14:35:00.708421Z",
     "iopub.status.idle": "2022-03-04T14:35:00.981301Z",
     "shell.execute_reply": "2022-03-04T14:35:00.980781Z"
    },
    "papermill": {
     "duration": 0.292112,
     "end_time": "2022-03-04T14:35:00.981449",
     "exception": false,
     "start_time": "2022-03-04T14:35:00.689337",
     "status": "completed"
    },
    "tags": []
   },
   "outputs": [],
   "source": [
    "ord1dict = {'Novice':0, 'Contributor':1, \n",
    "            'Expert':2, 'Master':3, 'Grandmaster':4}\n",
    "ord2dict = {'Freezing':0, 'Cold':1, 'Warm':2, \n",
    "            'Hot':3, 'Boiling Hot':4, 'Lava Hot':5}\n",
    "\n",
    "all_data['ord_1'] = all_data['ord_1'].map(ord1dict)\n",
    "all_data['ord_2'] = all_data['ord_2'].map(ord2dict)"
   ]
  },
  {
   "cell_type": "code",
   "execution_count": 5,
   "id": "9cd758b2",
   "metadata": {
    "execution": {
     "iopub.execute_input": "2022-03-04T14:35:01.015650Z",
     "iopub.status.busy": "2022-03-04T14:35:01.014864Z",
     "iopub.status.idle": "2022-03-04T14:35:02.481103Z",
     "shell.execute_reply": "2022-03-04T14:35:02.480390Z"
    },
    "papermill": {
     "duration": 1.485865,
     "end_time": "2022-03-04T14:35:02.481285",
     "exception": false,
     "start_time": "2022-03-04T14:35:00.995420",
     "status": "completed"
    },
    "tags": []
   },
   "outputs": [
    {
     "name": "stdout",
     "output_type": "stream",
     "text": [
      "ord_3\n",
      "['a' 'b' 'c' 'd' 'e' 'f' 'g' 'h' 'i' 'j' 'k' 'l' 'm' 'n' 'o']\n",
      "ord_4\n",
      "['A' 'B' 'C' 'D' 'E' 'F' 'G' 'H' 'I' 'J' 'K' 'L' 'M' 'N' 'O' 'P' 'Q' 'R'\n",
      " 'S' 'T' 'U' 'V' 'W' 'X' 'Y' 'Z']\n",
      "ord_5\n",
      "['AP' 'Ai' 'Aj' 'BA' 'BE' 'Bb' 'Bd' 'Bn' 'CL' 'CM' 'CU' 'CZ' 'Cl' 'DH'\n",
      " 'DN' 'Dc' 'Dx' 'Ed' 'Eg' 'Er' 'FI' 'Fd' 'Fo' 'GD' 'GJ' 'Gb' 'Gx' 'Hj'\n",
      " 'IK' 'Id' 'JX' 'Jc' 'Jf' 'Jt' 'KR' 'KZ' 'Kf' 'Kq' 'LE' 'MC' 'MO' 'MV'\n",
      " 'Mf' 'Ml' 'Mx' 'NV' 'Nf' 'Nk' 'OR' 'Ob' 'Os' 'PA' 'PQ' 'PZ' 'Ps' 'QM'\n",
      " 'Qb' 'Qh' 'Qo' 'RG' 'RL' 'RP' 'Rm' 'Ry' 'SB' 'Sc' 'TR' 'TZ' 'To' 'UO'\n",
      " 'Uk' 'Uu' 'Vf' 'Vx' 'WE' 'Wc' 'Wv' 'XI' 'Xh' 'Xi' 'YC' 'Yb' 'Ye' 'ZR'\n",
      " 'ZS' 'Zc' 'Zq' 'aF' 'aM' 'aO' 'aP' 'ac' 'av' 'bF' 'bJ' 'be' 'cA' 'cG'\n",
      " 'cW' 'ck' 'cp' 'dB' 'dE' 'dN' 'dO' 'dP' 'dQ' 'dZ' 'dh' 'eG' 'eQ' 'eb'\n",
      " 'eg' 'ek' 'ex' 'fO' 'fh' 'gJ' 'gM' 'hL' 'hT' 'hh' 'hp' 'iT' 'ih' 'jS'\n",
      " 'jV' 'je' 'jp' 'kC' 'kE' 'kK' 'kL' 'kU' 'kW' 'ke' 'kr' 'kw' 'lF' 'lL'\n",
      " 'll' 'lx' 'mb' 'mc' 'mm' 'nX' 'nh' 'oC' 'oG' 'oH' 'oK' 'od' 'on' 'pa'\n",
      " 'ps' 'qA' 'qJ' 'qK' 'qP' 'qX' 'qo' 'qv' 'qw' 'rZ' 'ri' 'rp' 'sD' 'sV'\n",
      " 'sY' 'sn' 'su' 'tM' 'tP' 'tv' 'uJ' 'uS' 'ud' 'us' 'ut' 'ux' 'uy' 'vK'\n",
      " 'vq' 'vy' 'wu' 'wy' 'xP' 'xy' 'yN' 'yY' 'yc' 'zU']\n"
     ]
    }
   ],
   "source": [
    "from sklearn.preprocessing import OrdinalEncoder\n",
    "\n",
    "ord_345 = ['ord_3', 'ord_4', 'ord_5']\n",
    "\n",
    "ord_encoder = OrdinalEncoder() # OrdinalEncoder 객체 생성\n",
    "# ordinal 인코딩 적용\n",
    "all_data[ord_345] = ord_encoder.fit_transform(all_data[ord_345])\n",
    "\n",
    "# 피처별 인코딩 순서 출력\n",
    "for feature, categories in zip(ord_345, ord_encoder.categories_):\n",
    "    print(feature)\n",
    "    print(categories)"
   ]
  },
  {
   "cell_type": "markdown",
   "id": "bfdd89b6",
   "metadata": {
    "papermill": {
     "duration": 0.014492,
     "end_time": "2022-03-04T14:35:02.510941",
     "exception": false,
     "start_time": "2022-03-04T14:35:02.496449",
     "status": "completed"
    },
    "tags": []
   },
   "source": [
    "### 명목형 피처 인코딩"
   ]
  },
  {
   "cell_type": "code",
   "execution_count": 6,
   "id": "75dec311",
   "metadata": {
    "execution": {
     "iopub.execute_input": "2022-03-04T14:35:02.544625Z",
     "iopub.status.busy": "2022-03-04T14:35:02.544023Z",
     "iopub.status.idle": "2022-03-04T14:35:02.546615Z",
     "shell.execute_reply": "2022-03-04T14:35:02.546045Z"
    },
    "papermill": {
     "duration": 0.021648,
     "end_time": "2022-03-04T14:35:02.546761",
     "exception": false,
     "start_time": "2022-03-04T14:35:02.525113",
     "status": "completed"
    },
    "tags": []
   },
   "outputs": [],
   "source": [
    "nom_features = ['nom_' + str(i) for i in range(10)] # 명목형 피처"
   ]
  },
  {
   "cell_type": "code",
   "execution_count": 7,
   "id": "52905d11",
   "metadata": {
    "execution": {
     "iopub.execute_input": "2022-03-04T14:35:02.582546Z",
     "iopub.status.busy": "2022-03-04T14:35:02.581893Z",
     "iopub.status.idle": "2022-03-04T14:35:04.126140Z",
     "shell.execute_reply": "2022-03-04T14:35:04.125541Z"
    },
    "papermill": {
     "duration": 1.565579,
     "end_time": "2022-03-04T14:35:04.126298",
     "exception": false,
     "start_time": "2022-03-04T14:35:02.560719",
     "status": "completed"
    },
    "tags": []
   },
   "outputs": [
    {
     "data": {
      "text/plain": [
       "<500000x16276 sparse matrix of type '<class 'numpy.float64'>'\n",
       "\twith 5000000 stored elements in Compressed Sparse Row format>"
      ]
     },
     "execution_count": 7,
     "metadata": {},
     "output_type": "execute_result"
    }
   ],
   "source": [
    "from sklearn.preprocessing import OneHotEncoder\n",
    "\n",
    "onehot_encoder = OneHotEncoder() # OneHotEncoder 객체 생성\n",
    "# 원-핫 인코딩 적용\n",
    "encoded_nom_matrix = onehot_encoder.fit_transform(all_data[nom_features])\n",
    "\n",
    "encoded_nom_matrix"
   ]
  },
  {
   "cell_type": "code",
   "execution_count": 8,
   "id": "b7204932",
   "metadata": {
    "execution": {
     "iopub.execute_input": "2022-03-04T14:35:04.188868Z",
     "iopub.status.busy": "2022-03-04T14:35:04.188226Z",
     "iopub.status.idle": "2022-03-04T14:35:04.191483Z",
     "shell.execute_reply": "2022-03-04T14:35:04.190963Z"
    },
    "papermill": {
     "duration": 0.050474,
     "end_time": "2022-03-04T14:35:04.191636",
     "exception": false,
     "start_time": "2022-03-04T14:35:04.141162",
     "status": "completed"
    },
    "tags": []
   },
   "outputs": [],
   "source": [
    "all_data = all_data.drop(nom_features, axis=1) # 기존 명목형 피처 삭제"
   ]
  },
  {
   "cell_type": "markdown",
   "id": "fab804bf",
   "metadata": {
    "papermill": {
     "duration": 0.014786,
     "end_time": "2022-03-04T14:35:04.221134",
     "exception": false,
     "start_time": "2022-03-04T14:35:04.206348",
     "status": "completed"
    },
    "tags": []
   },
   "source": [
    "### 날짜 피처 인코딩"
   ]
  },
  {
   "cell_type": "code",
   "execution_count": 9,
   "id": "34ca99bc",
   "metadata": {
    "execution": {
     "iopub.execute_input": "2022-03-04T14:35:04.259940Z",
     "iopub.status.busy": "2022-03-04T14:35:04.259267Z",
     "iopub.status.idle": "2022-03-04T14:35:04.397966Z",
     "shell.execute_reply": "2022-03-04T14:35:04.397446Z"
    },
    "papermill": {
     "duration": 0.162139,
     "end_time": "2022-03-04T14:35:04.398117",
     "exception": false,
     "start_time": "2022-03-04T14:35:04.235978",
     "status": "completed"
    },
    "tags": []
   },
   "outputs": [
    {
     "data": {
      "text/plain": [
       "<500000x19 sparse matrix of type '<class 'numpy.float64'>'\n",
       "\twith 1000000 stored elements in Compressed Sparse Row format>"
      ]
     },
     "execution_count": 9,
     "metadata": {},
     "output_type": "execute_result"
    }
   ],
   "source": [
    "date_features  = ['day', 'month'] # 날짜 피처\n",
    "\n",
    "# 원-핫 인코딩 적용\n",
    "encoded_date_matrix = onehot_encoder.fit_transform(all_data[date_features])\n",
    "\n",
    "all_data = all_data.drop(date_features, axis=1) # 기존 날짜 피처 삭제\n",
    "\n",
    "encoded_date_matrix"
   ]
  },
  {
   "cell_type": "markdown",
   "id": "0903b146",
   "metadata": {
    "papermill": {
     "duration": 0.014632,
     "end_time": "2022-03-04T14:35:04.428118",
     "exception": false,
     "start_time": "2022-03-04T14:35:04.413486",
     "status": "completed"
    },
    "tags": []
   },
   "source": [
    "## 피처 엔지니어링 II : 피처 스케일링"
   ]
  },
  {
   "cell_type": "markdown",
   "id": "8bcd3b42",
   "metadata": {
    "papermill": {
     "duration": 0.014679,
     "end_time": "2022-03-04T14:35:04.457558",
     "exception": false,
     "start_time": "2022-03-04T14:35:04.442879",
     "status": "completed"
    },
    "tags": []
   },
   "source": [
    "### 순서형 피처 스케일링"
   ]
  },
  {
   "cell_type": "code",
   "execution_count": 10,
   "id": "ce7e6c3d",
   "metadata": {
    "execution": {
     "iopub.execute_input": "2022-03-04T14:35:04.504832Z",
     "iopub.status.busy": "2022-03-04T14:35:04.504078Z",
     "iopub.status.idle": "2022-03-04T14:35:04.579262Z",
     "shell.execute_reply": "2022-03-04T14:35:04.578696Z"
    },
    "papermill": {
     "duration": 0.106816,
     "end_time": "2022-03-04T14:35:04.579412",
     "exception": false,
     "start_time": "2022-03-04T14:35:04.472596",
     "status": "completed"
    },
    "tags": []
   },
   "outputs": [],
   "source": [
    "from sklearn.preprocessing import MinMaxScaler\n",
    "\n",
    "ord_features = ['ord_' + str(i) for i in range(6)] # 순서형 피처\n",
    "# min-max 정규화\n",
    "all_data[ord_features] = MinMaxScaler().fit_transform(all_data[ord_features])"
   ]
  },
  {
   "cell_type": "markdown",
   "id": "406a0d8b",
   "metadata": {
    "papermill": {
     "duration": 0.014665,
     "end_time": "2022-03-04T14:35:04.608891",
     "exception": false,
     "start_time": "2022-03-04T14:35:04.594226",
     "status": "completed"
    },
    "tags": []
   },
   "source": [
    "### 인코딩 및 스케일링된 피처 합치기"
   ]
  },
  {
   "cell_type": "code",
   "execution_count": 11,
   "id": "6c5e791a",
   "metadata": {
    "execution": {
     "iopub.execute_input": "2022-03-04T14:35:04.644905Z",
     "iopub.status.busy": "2022-03-04T14:35:04.644217Z",
     "iopub.status.idle": "2022-03-04T14:35:05.172231Z",
     "shell.execute_reply": "2022-03-04T14:35:05.171694Z"
    },
    "papermill": {
     "duration": 0.548535,
     "end_time": "2022-03-04T14:35:05.172396",
     "exception": false,
     "start_time": "2022-03-04T14:35:04.623861",
     "status": "completed"
    },
    "tags": []
   },
   "outputs": [],
   "source": [
    "from scipy import sparse\n",
    "\n",
    "# 인코딩 및 스케일링된 피처 합치기\n",
    "all_data_sprs = sparse.hstack([sparse.csr_matrix(all_data),\n",
    "                               encoded_nom_matrix,\n",
    "                               encoded_date_matrix],\n",
    "                              format='csr')"
   ]
  },
  {
   "cell_type": "code",
   "execution_count": 12,
   "id": "0e2c2e2e",
   "metadata": {
    "execution": {
     "iopub.execute_input": "2022-03-04T14:35:05.207718Z",
     "iopub.status.busy": "2022-03-04T14:35:05.207081Z",
     "iopub.status.idle": "2022-03-04T14:35:05.212749Z",
     "shell.execute_reply": "2022-03-04T14:35:05.212143Z"
    },
    "papermill": {
     "duration": 0.025525,
     "end_time": "2022-03-04T14:35:05.212908",
     "exception": false,
     "start_time": "2022-03-04T14:35:05.187383",
     "status": "completed"
    },
    "tags": []
   },
   "outputs": [
    {
     "data": {
      "text/plain": [
       "<500000x16306 sparse matrix of type '<class 'numpy.float64'>'\n",
       "\twith 9163718 stored elements in Compressed Sparse Row format>"
      ]
     },
     "execution_count": 12,
     "metadata": {},
     "output_type": "execute_result"
    }
   ],
   "source": [
    "all_data_sprs"
   ]
  },
  {
   "cell_type": "markdown",
   "id": "53230fe5",
   "metadata": {
    "papermill": {
     "duration": 0.014697,
     "end_time": "2022-03-04T14:35:05.242909",
     "exception": false,
     "start_time": "2022-03-04T14:35:05.228212",
     "status": "completed"
    },
    "tags": []
   },
   "source": [
    "### 데이터 나누기"
   ]
  },
  {
   "cell_type": "code",
   "execution_count": 13,
   "id": "05184bac",
   "metadata": {
    "execution": {
     "iopub.execute_input": "2022-03-04T14:35:05.278280Z",
     "iopub.status.busy": "2022-03-04T14:35:05.277661Z",
     "iopub.status.idle": "2022-03-04T14:35:05.358751Z",
     "shell.execute_reply": "2022-03-04T14:35:05.359213Z"
    },
    "papermill": {
     "duration": 0.101356,
     "end_time": "2022-03-04T14:35:05.359394",
     "exception": false,
     "start_time": "2022-03-04T14:35:05.258038",
     "status": "completed"
    },
    "tags": []
   },
   "outputs": [],
   "source": [
    "num_train = len(train) # 훈련 데이터 개수\n",
    "\n",
    "# 훈련 데이터와 테스트 데이터 나누기\n",
    "X_train = all_data_sprs[:num_train] # 0 ~ num_train - 1행\n",
    "X_test = all_data_sprs[num_train:] # num_train ~ 마지막 행\n",
    "\n",
    "y = train['target']"
   ]
  },
  {
   "cell_type": "markdown",
   "id": "edbe4edb",
   "metadata": {
    "papermill": {
     "duration": 0.015083,
     "end_time": "2022-03-04T14:35:05.389799",
     "exception": false,
     "start_time": "2022-03-04T14:35:05.374716",
     "status": "completed"
    },
    "tags": []
   },
   "source": [
    "## 하이퍼 파라미터 최적화"
   ]
  },
  {
   "cell_type": "code",
   "execution_count": 14,
   "id": "ed3cc9ae",
   "metadata": {
    "execution": {
     "iopub.execute_input": "2022-03-04T14:35:05.424342Z",
     "iopub.status.busy": "2022-03-04T14:35:05.423719Z",
     "iopub.status.idle": "2022-03-04T14:42:55.645669Z",
     "shell.execute_reply": "2022-03-04T14:42:55.646140Z"
    },
    "papermill": {
     "duration": 470.240957,
     "end_time": "2022-03-04T14:42:55.646361",
     "exception": false,
     "start_time": "2022-03-04T14:35:05.405404",
     "status": "completed"
    },
    "tags": []
   },
   "outputs": [
    {
     "name": "stdout",
     "output_type": "stream",
     "text": [
      "최적 하이퍼파라미터: {'C': 0.125, 'max_iter': 800, 'random_state': 42, 'solver': 'liblinear'}\n",
      "CPU times: user 15min 57s, sys: 14min 23s, total: 30min 20s\n",
      "Wall time: 7min 50s\n"
     ]
    }
   ],
   "source": [
    "%%time\n",
    "\n",
    "from sklearn.model_selection import GridSearchCV\n",
    "from sklearn.linear_model import LogisticRegression\n",
    "\n",
    "# 로지스틱 회귀 모델 생성\n",
    "logistic_model = LogisticRegression()\n",
    "\n",
    "# 하이퍼파라미터 값 목록\n",
    "lr_params = {'C':[0.1, 0.125, 0.2], 'max_iter':[800, 900, 1000], \n",
    "             'solver':['liblinear'], 'random_state':[42]}\n",
    "\n",
    "# 그리드서치 객체 생성\n",
    "gridsearch_logistic_model = GridSearchCV(estimator=logistic_model,\n",
    "                                         param_grid=lr_params,\n",
    "                                         scoring='roc_auc', # 평가지표\n",
    "                                         cv=5)\n",
    "# 그리드서치 수행\n",
    "gridsearch_logistic_model.fit(X_train, y)\n",
    "\n",
    "print('최적 하이퍼파라미터:', gridsearch_logistic_model.best_params_)"
   ]
  },
  {
   "cell_type": "markdown",
   "id": "03fdef55",
   "metadata": {
    "papermill": {
     "duration": 0.015383,
     "end_time": "2022-03-04T14:42:55.677437",
     "exception": false,
     "start_time": "2022-03-04T14:42:55.662054",
     "status": "completed"
    },
    "tags": []
   },
   "source": [
    "## 예측 및 결과 제출"
   ]
  },
  {
   "cell_type": "code",
   "execution_count": 15,
   "id": "152a4af8",
   "metadata": {
    "execution": {
     "iopub.execute_input": "2022-03-04T14:42:55.713754Z",
     "iopub.status.busy": "2022-03-04T14:42:55.712781Z",
     "iopub.status.idle": "2022-03-04T14:42:56.243082Z",
     "shell.execute_reply": "2022-03-04T14:42:56.242550Z"
    },
    "papermill": {
     "duration": 0.549729,
     "end_time": "2022-03-04T14:42:56.243216",
     "exception": false,
     "start_time": "2022-03-04T14:42:55.693487",
     "status": "completed"
    },
    "tags": []
   },
   "outputs": [],
   "source": [
    "# 타깃값 1일 확률 예측\n",
    "y_preds = gridsearch_logistic_model.best_estimator_.predict_proba(X_test)[:,1]\n",
    "\n",
    "# 제출 파일 생성\n",
    "submission['target'] = y_preds\n",
    "submission.to_csv('submission.csv')"
   ]
  }
 ],
 "metadata": {
  "kernelspec": {
   "display_name": "Python 3",
   "language": "python",
   "name": "python3"
  },
  "language_info": {
   "codemirror_mode": {
    "name": "ipython",
    "version": 3
   },
   "file_extension": ".py",
   "mimetype": "text/x-python",
   "name": "python",
   "nbconvert_exporter": "python",
   "pygments_lexer": "ipython3",
   "version": "3.7.10"
  },
  "papermill": {
   "default_parameters": {},
   "duration": 487.91631,
   "end_time": "2022-03-04T14:42:57.694861",
   "environment_variables": {},
   "exception": null,
   "input_path": "__notebook__.ipynb",
   "output_path": "__notebook__.ipynb",
   "parameters": {},
   "start_time": "2022-03-04T14:34:49.778551",
   "version": "2.3.3"
  }
 },
 "nbformat": 4,
 "nbformat_minor": 5
}
