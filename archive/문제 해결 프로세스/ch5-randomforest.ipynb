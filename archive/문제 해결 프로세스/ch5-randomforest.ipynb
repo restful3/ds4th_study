{
 "cells": [
  {
   "cell_type": "markdown",
   "id": "65af3726",
   "metadata": {
    "papermill": {
     "duration": 0.00495,
     "end_time": "2022-01-06T14:12:09.514972",
     "exception": false,
     "start_time": "2022-01-06T14:12:09.510022",
     "status": "completed"
    },
    "tags": []
   },
   "source": [
    "## 5.6.5 랜덤 포레스트"
   ]
  },
  {
   "cell_type": "code",
   "execution_count": 1,
   "id": "85d05012",
   "metadata": {
    "execution": {
     "iopub.execute_input": "2022-01-06T14:12:09.527638Z",
     "iopub.status.busy": "2022-01-06T14:12:09.525793Z",
     "iopub.status.idle": "2022-01-06T14:12:11.073651Z",
     "shell.execute_reply": "2022-01-06T14:12:11.074199Z"
    },
    "papermill": {
     "duration": 1.556221,
     "end_time": "2022-01-06T14:12:11.074499",
     "exception": false,
     "start_time": "2022-01-06T14:12:09.518278",
     "status": "completed"
    },
    "tags": []
   },
   "outputs": [
    {
     "name": "stdout",
     "output_type": "stream",
     "text": [
      "랜덤 포레스트 정확도: 0.939\n"
     ]
    }
   ],
   "source": [
    "from sklearn.ensemble import RandomForestClassifier\n",
    "from sklearn.model_selection import train_test_split\n",
    "from sklearn.datasets import load_breast_cancer\n",
    "\n",
    "# 유방암 데이터 세트 불러오기\n",
    "cancer_data = load_breast_cancer()\n",
    "# 훈련, 테스트 데이터로 분리\n",
    "X_train, X_test, y_train, y_test = train_test_split(cancer_data['data'], \n",
    "                                                cancer_data['target'], \n",
    "                                                stratify=cancer_data['target'], \n",
    "                                                test_size=0.4, \n",
    "                                                random_state=42)\n",
    "\n",
    "randomforest = RandomForestClassifier(random_state=42) # 랜덤 포레스트 정의\n",
    "randomforest.fit(X_train, y_train) # 모델 훈련\n",
    "\n",
    "accuracy = randomforest.score(X_test, y_test) # 정확도 측정\n",
    "\n",
    "# 테스트 데이터를 활용하여 랜덤 포레스트 모델 정확도 출력\n",
    "print(f'랜덤 포레스트 정확도: {accuracy:.3f}')"
   ]
  }
 ],
 "metadata": {
  "kernelspec": {
   "display_name": "Python 3",
   "language": "python",
   "name": "python3"
  },
  "language_info": {
   "codemirror_mode": {
    "name": "ipython",
    "version": 3
   },
   "file_extension": ".py",
   "mimetype": "text/x-python",
   "name": "python",
   "nbconvert_exporter": "python",
   "pygments_lexer": "ipython3",
   "version": "3.7.10"
  },
  "papermill": {
   "default_parameters": {},
   "duration": 10.965504,
   "end_time": "2022-01-06T14:12:11.787714",
   "environment_variables": {},
   "exception": null,
   "input_path": "__notebook__.ipynb",
   "output_path": "__notebook__.ipynb",
   "parameters": {},
   "start_time": "2022-01-06T14:12:00.822210",
   "version": "2.3.3"
  }
 },
 "nbformat": 4,
 "nbformat_minor": 5
}
