{
 "cells": [
  {
   "cell_type": "markdown",
   "id": "af28bddb-3e5a-4719-b714-2e976d433758",
   "metadata": {},
   "source": [
    "# 라이블러리 불러오기"
   ]
  },
  {
   "cell_type": "code",
   "execution_count": 1,
   "id": "c95373b0-ab33-4f59-8304-c12991a33a40",
   "metadata": {},
   "outputs": [],
   "source": [
    "import openai\n",
    "import os\n",
    "\n",
    "from dotenv import load_dotenv, find_dotenv\n",
    "_ = load_dotenv(find_dotenv()) # read local .env file\n",
    "\n",
    "openai.api_key  = os.getenv('OPENAI_API_KEY')"
   ]
  },
  {
   "cell_type": "markdown",
   "id": "475138a8-9179-42d9-a7bc-0bc23090a599",
   "metadata": {},
   "source": [
    "# Retriever\n",
    "- 비정형 쿼리가 주어지면 문서를 반환하는 인터페이스\n",
    "- 벡터 저장소보다 더 일반적\n",
    "- 문서를 저장할 필요 없이 단지 반환(또는 검색)만 가능\n",
    "- 검색을 쉽게 할 수록 구성된 모듈로, 손쉽게 문서 검색"
   ]
  },
  {
   "cell_type": "code",
   "execution_count": 20,
   "id": "8e22ee01-3ca9-4e1d-ac53-0a2473e9148e",
   "metadata": {},
   "outputs": [],
   "source": [
    "import tiktoken\n",
    "\n",
    "tokenizer = tiktoken.get_encoding('cl100k_base')\n",
    "\n",
    "def tiktoken_len(text):\n",
    "    tokens = tokenizer.encode(text)\n",
    "    return len(tokens)"
   ]
  },
  {
   "cell_type": "code",
   "execution_count": 21,
   "id": "2c3e7b00-94f8-43d3-961e-0708ecb74453",
   "metadata": {},
   "outputs": [],
   "source": [
    "from langchain.chains import RetrievalQA\n",
    "from langchain.chat_models import ChatOpenAI\n",
    "from langchain.text_splitter import RecursiveCharacterTextSplitter\n",
    "from langchain.vectorstores import Chroma\n",
    "from langchain.document_loaders import PyPDFLoader"
   ]
  },
  {
   "cell_type": "code",
   "execution_count": 22,
   "id": "97e193f6-96fd-4a17-8b7e-0cf63f489459",
   "metadata": {},
   "outputs": [],
   "source": [
    "loader = PyPDFLoader('./data/[이슈리포트 2022-2호] 혁신성장 정책금융 동향.pdf')\n",
    "pages = loader.load_and_split()\n",
    "\n",
    "text_splitter = RecursiveCharacterTextSplitter(\n",
    "    chunk_size=500,\n",
    "    chunk_overlap=50,\n",
    "    length_function=tiktoken_len\n",
    ")\n",
    "texts = text_splitter.split_documents(pages)"
   ]
  },
  {
   "cell_type": "code",
   "execution_count": 23,
   "id": "3ab3894c-2e53-4f96-9f5d-7cc5bb0aac51",
   "metadata": {},
   "outputs": [],
   "source": [
    "from langchain.embeddings import HuggingFaceEmbeddings\n",
    "\n",
    "model_name = \"jhgan/ko-sbert-nli\"\n",
    "model_kwargs = {\"device\":\"cuda:0\"}\n",
    "encode_kwargs = {\"normalize_embeddings\":True}\n",
    "hf = HuggingFaceEmbeddings(\n",
    "    model_name=model_name,\n",
    "    model_kwargs=model_kwargs,\n",
    "    encode_kwargs=encode_kwargs\n",
    ")\n",
    "\n",
    "docsearch = Chroma.from_documents(texts, hf)"
   ]
  },
  {
   "cell_type": "code",
   "execution_count": 25,
   "id": "13531468-e405-4c7c-919e-17cc2820a7c2",
   "metadata": {},
   "outputs": [
    {
     "name": "stdout",
     "output_type": "stream",
     "text": [
      "혁신성장 정책금융은 기업의 성장을 지원하기 위해 정부나 정책금융기관이 제공하는 금융 지원 제도입니다. 이 제도는 건강한 혁신산업 생태계를 조성하고, 기업의 성장에 필요한 자금을 지원하기 위해 시행되고 있습니다.\n",
      "\n",
      "혁신성장 정책금융기관은 혁신성장에 대한 정의를 구체화한 정책금융 가이드라인에 따라 혁신성장 산업육성을 위한 정책금융 업무를 추진하고 있습니다. 이 가이드라인은 혁신성장 기업발굴 및 금융지원을 위해 활용하는 기준으로, '9대 테마-46개 분야-296개 품목'으로 구성되어 있습니다.\n",
      "\n",
      "혁신성장 정책금융 제도는 공급 규모가 매년 증가하며, 미래 혁신성장 분야의 글로벌 경쟁력 확보를 위한 금융지원이 계속해서 추진되고 있습니다. 정책금융기관의 혁신성장 분야 정책금융 공급규모는 2017년 240,787억 원에서 연평균 37.2% 증가하여 2021년 854,338억 원에 이르는 등 그 외연을 확장하고 있습니다.\n",
      "\n",
      "또한, 미래 성장성은 유망하지만 단기 수익 창출이 어려운 산업의 지원을 강화하기 위해 정책금융뿐만 아니라 민관주도의 역동적인 금융으로 혁신성장 금융지원 영역을 확대할 필요가 있습니다."
     ]
    }
   ],
   "source": [
    "from langchain.callbacks.streaming_stdout import StreamingStdOutCallbackHandler\n",
    "\n",
    "openai = ChatOpenAI(\n",
    "    model_name=\"gpt-3.5-turbo\",\n",
    "    streaming=True,\n",
    "    callbacks=[StreamingStdOutCallbackHandler()],\n",
    "    temperature=0\n",
    ")\n",
    "\n",
    "qa = RetrievalQA.from_chain_type(\n",
    "    llm = openai,\n",
    "    chain_type=\"stuff\",\n",
    "    retriever=docsearch.as_retriever(\n",
    "        search_type=\"mmr\",\n",
    "        search_kwargs={'k':3, 'fetch_k':10}\n",
    "    ),\n",
    "    return_source_documents=True\n",
    ")\n",
    "query = \"혁신성장 정책금융에 대해서 설명해줘\"\n",
    "result = qa(query)"
   ]
  },
  {
   "cell_type": "code",
   "execution_count": 26,
   "id": "3c26910c-65fc-4bce-920a-d05d026c0a02",
   "metadata": {},
   "outputs": [
    {
     "data": {
      "text/plain": [
       "{'query': '혁신성장 정책금융에 대해서 설명해줘',\n",
       " 'result': \"혁신성장 정책금융은 기업의 성장을 지원하기 위해 정부나 정책금융기관이 제공하는 금융 지원 제도입니다. 이 제도는 건강한 혁신산업 생태계를 조성하고, 기업의 성장에 필요한 자금을 지원하기 위해 시행되고 있습니다.\\n\\n혁신성장 정책금융기관은 혁신성장에 대한 정의를 구체화한 정책금융 가이드라인에 따라 혁신성장 산업육성을 위한 정책금융 업무를 추진하고 있습니다. 이 가이드라인은 혁신성장 기업발굴 및 금융지원을 위해 활용하는 기준으로, '9대 테마-46개 분야-296개 품목'으로 구성되어 있습니다.\\n\\n혁신성장 정책금융 제도는 공급 규모가 매년 증가하며, 미래 혁신성장 분야의 글로벌 경쟁력 확보를 위한 금융지원이 계속해서 추진되고 있습니다. 정책금융기관의 혁신성장 분야 정책금융 공급규모는 2017년 240,787억 원에서 연평균 37.2% 증가하여 2021년 854,338억 원에 이르는 등 그 외연을 확장하고 있습니다.\\n\\n또한, 미래 성장성은 유망하지만 단기 수익 창출이 어려운 산업의 지원을 강화하기 위해 정책금융뿐만 아니라 민관주도의 역동적인 금융으로 혁신성장 금융지원 영역을 확대할 필요가 있습니다.\",\n",
       " 'source_documents': [Document(page_content='혁신성장 정책금융 동향 : ICT 산업을 중심으로\\n  CIS이슈리포트 2022-2 호 | 3 |1. 들어가며\\n▶혁신성장 정책금융기관은 건강한 혁신산업 생태계를 조성하기 위해 기업 성장에 필요한 자금을 \\n지원하는 혁신성장 정책금융 제도를 시행하고 있음\\n￮혁신성장 정책금융기관은 혁신성장에 대한 정의를 구체화한 정책금융 가이드라인*에 따라 혁신성장  \\n산업육성을 위한 정책금융 업무를 추진 중임\\n       * 혁신성장 기업발굴 및 금융지원을 위해 활용하는 기준으로 , ‘9대 테마-46개 분야-296개 품목’으로 구성\\n▶혁신성장 정책금융 제도 시행 이후 공급 규모가 매년 증가하는 등, 미래 혁신성장 분야의 글로벌 \\n경쟁력 확보를 위한 금융지원이 지속 추진 중임\\n￮정책금융기관의 혁신성장 분야 정책금융 공급규모는 2017년 240,787 억 원에서  연평균  37.2% 증가\\n하여 2021 년 854,338 억 원에 이르는 등 그 외연을 확장해나가고 있음', metadata={'page': 2, 'source': './data/[이슈리포트 2022-2호] 혁신성장 정책금융 동향.pdf'}),\n",
       "  Document(page_content='￮또한, 미래 성장성은 유망하나 단기 수익 창출이 어려운 산업의 지원 강화를 위해 정책금융 뿐만 아니라  \\n민관주도의 역동적 금융으로 혁신성장 금융지원 영역을 확대할 필요가 있음', metadata={'page': 1, 'source': './data/[이슈리포트 2022-2호] 혁신성장 정책금융 동향.pdf'}),\n",
       "  Document(page_content='| 2 | CIS이슈리포트 2022-2 호 ▶혁신성장 ICT 산업의 정책금융 공급규모 및 공급속도를 종합적으로 분석한 결과, 차세대무선통신미디어 , \\n능동형컴퓨팅 (이상 정보통신 테마), 차세대반도체 (전기전자 테마) 및 객체탐지 (센서측정 테마) 기술분야로 \\n혁신성장 정책금융이 집중되고 있음\\n[ICT 산업 내 주요 기술분야 혁신성장 정책금융 공급 현황]\\n                                                            (단위: 억 원, %)\\n테마\\n(대분류 )주요 기술분야\\n(중분류 )정책금융 공급규모 연평균 공급액 \\n증가율 (%)테마 내 공급 \\n점유율 (%) 2017 년 말 2021 년 말\\n정보통신차세대무선통신미디어 7,820 27,865 37.4 45.1\\n능동형컴퓨팅 352 16,032 159.8 10.1\\n전기전자 차세대반도체 12,019 53,779 45.4 58.5\\n센서측정 객체탐지 1,278 6,711 51.4 48.5', metadata={'page': 1, 'source': './data/[이슈리포트 2022-2호] 혁신성장 정책금융 동향.pdf'})]}"
      ]
     },
     "execution_count": 26,
     "metadata": {},
     "output_type": "execute_result"
    }
   ],
   "source": [
    "result"
   ]
  },
  {
   "cell_type": "code",
   "execution_count": null,
   "id": "30abb81c-e65e-4f2b-8afc-1cb09eae56fc",
   "metadata": {},
   "outputs": [],
   "source": []
  }
 ],
 "metadata": {
  "kernelspec": {
   "display_name": "Python 3 (ipykernel)",
   "language": "python",
   "name": "python3"
  },
  "language_info": {
   "codemirror_mode": {
    "name": "ipython",
    "version": 3
   },
   "file_extension": ".py",
   "mimetype": "text/x-python",
   "name": "python",
   "nbconvert_exporter": "python",
   "pygments_lexer": "ipython3",
   "version": "3.10.9"
  },
  "toc": {
   "base_numbering": 1,
   "nav_menu": {},
   "number_sections": true,
   "sideBar": true,
   "skip_h1_title": false,
   "title_cell": "Table of Contents",
   "title_sidebar": "Contents",
   "toc_cell": false,
   "toc_position": {},
   "toc_section_display": true,
   "toc_window_display": false
  },
  "widgets": {
   "application/vnd.jupyter.widget-state+json": {
    "state": {},
    "version_major": 2,
    "version_minor": 0
   }
  }
 },
 "nbformat": 4,
 "nbformat_minor": 5
}
