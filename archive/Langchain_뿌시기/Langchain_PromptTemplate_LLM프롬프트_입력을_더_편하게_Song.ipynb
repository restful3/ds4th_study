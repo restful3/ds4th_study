{
 "cells": [
  {
   "cell_type": "markdown",
   "id": "4fd9fa6e",
   "metadata": {},
   "source": [
    "# 라이블러리 불러오기"
   ]
  },
  {
   "cell_type": "code",
   "execution_count": 2,
   "id": "163f1520",
   "metadata": {},
   "outputs": [],
   "source": [
    "import openai\n",
    "import os\n",
    "from dotenv import load_dotenv, find_dotenv\n",
    "from langchain.llms import OpenAI\n",
    "from langchain.chat_models import ChatOpenAI\n",
    "\n",
    "_ = load_dotenv(find_dotenv()) # read local .env file\n",
    "\n",
    "openai.api_key  = os.getenv('OPENAI_API_KEY')"
   ]
  },
  {
   "cell_type": "markdown",
   "id": "ff0a02b6",
   "metadata": {},
   "source": [
    "# 모델 불러오기"
   ]
  },
  {
   "cell_type": "code",
   "execution_count": 3,
   "id": "93c667b0",
   "metadata": {},
   "outputs": [],
   "source": [
    "llm = ChatOpenAI(model_name=\"gpt-3.5-turbo\")"
   ]
  },
  {
   "cell_type": "markdown",
   "id": "fbcdf0a8",
   "metadata": {},
   "source": [
    "# 프롬프트 템플릿 맛보기"
   ]
  },
  {
   "cell_type": "markdown",
   "id": "950e5ec2",
   "metadata": {},
   "source": [
    "- 프롬프트 템플릿은 크게 2가지 존재\n",
    "    1. PromptTemplate : 일반적인 프롬프트 템플릿 생성\n",
    "    2. ChatPromptTemplate : 채팅 LLM에 프롬프트를 전달하는 데 특화된 템플릿"
   ]
  },
  {
   "cell_type": "code",
   "execution_count": 5,
   "id": "78432b09",
   "metadata": {},
   "outputs": [],
   "source": [
    "from langchain.prompts import PromptTemplate, ChatPromptTemplate"
   ]
  },
  {
   "cell_type": "code",
   "execution_count": 12,
   "id": "2712d63f",
   "metadata": {},
   "outputs": [
    {
     "data": {
      "text/plain": [
       "ChatPromptValue(messages=[HumanMessage(content='tell me a joke about soccer')])"
      ]
     },
     "execution_count": 12,
     "metadata": {},
     "output_type": "execute_result"
    }
   ],
   "source": [
    "chat_prompt = ChatPromptTemplate.from_template(\"tell me a joke about {subject}\")\n",
    "chat_prompt_value = chat_prompt.format_prompt(subject='soccer')\n",
    "chat_prompt_value"
   ]
  },
  {
   "cell_type": "code",
   "execution_count": 14,
   "id": "bf153f80",
   "metadata": {},
   "outputs": [
    {
     "name": "stdout",
     "output_type": "stream",
     "text": [
      "Human: tell me a joke about soccer\n"
     ]
    }
   ],
   "source": [
    "print(chat_prompt_value.to_string())"
   ]
  },
  {
   "cell_type": "markdown",
   "id": "6b0c13d7",
   "metadata": {},
   "source": [
    "# 프롬프트 템플릿 활용\n",
    "- 반복적인 프롬프트 삽입 시, Prompt Template 를 통해 간편히 LLM 활용 가능\n",
    "- GPT-3와 프롬프트 템플릿 활용해 보기"
   ]
  },
  {
   "cell_type": "code",
   "execution_count": 15,
   "id": "a3de0814",
   "metadata": {},
   "outputs": [],
   "source": [
    "from langchain.prompts.prompt import PromptTemplate\n",
    "\n",
    "template = \"\"\"\n",
    "너는 요리사야. 내가 가진 재료들을 가지고 만들수 있는 요리를 추천해 주고, 그 요리의 레시피를 제시해줘.\n",
    "내가 가진 재료는 아래와 같아\n",
    "\n",
    "<재료>\n",
    "{재료}\n",
    "\"\"\"\n",
    "\n",
    "prompt_template = PromptTemplate(\n",
    "    input_variables = [\"재료\"],\n",
    "    template=template\n",
    ")"
   ]
  },
  {
   "cell_type": "code",
   "execution_count": 16,
   "id": "7016bd01",
   "metadata": {
    "scrolled": true
   },
   "outputs": [
    {
     "name": "stdout",
     "output_type": "stream",
     "text": [
      "\n",
      "너는 요리사야. 내가 가진 재료들을 가지고 만들수 있는 요리를 추천해 주고, 그 요리의 레시피를 제시해줘.\n",
      "내가 가진 재료는 아래와 같아\n",
      "\n",
      "<재료>\n",
      "양파,계란,사과, 빵\n",
      "\n"
     ]
    }
   ],
   "source": [
    "print(prompt_template.format(재료='양파,계란,사과, 빵'))"
   ]
  },
  {
   "cell_type": "code",
   "execution_count": 10,
   "id": "4ab2efac",
   "metadata": {},
   "outputs": [
    {
     "data": {
      "text/plain": [
       "'네가 가진 재료로 만들 수 있는 요리 중 하나는 \"양파 계란말이\"야. 요리의 레시피를 제시해 줄게.\\n\\n[양파 계란말이 레시피]\\n1. 양파를 적당한 크기로 다지고, 계란을 잘 풀어서 볼에 넣는다.\\n2. 팬에 식용유를 두르고 양파를 볶다가 약간의 소금과 후춧가루로 간을 한다.\\n3. 양파가 투명해질 때까지 볶은 후에 풀어둔 계란을 넣고 섞는다.\\n4. 계란이 익을 때까지 볶으면서 젓가락이나 주걱으로 뒤집어준다.\\n5. 양파와 계란이 골고루 섞이고 익으면, 접시에 옮겨 담아서 완성한다.\\n6. 빵과 함께 내놓으면 맛있는 양파 계란말이가 완성되었어.\\n\\n재료들을 활용하여 맛있는 요리를 만들어보길 바래!'"
      ]
     },
     "execution_count": 10,
     "metadata": {},
     "output_type": "execute_result"
    }
   ],
   "source": [
    "llm.predict(prompt_template.format(재료='양파, 계란, 사과, 빵'))"
   ]
  },
  {
   "cell_type": "markdown",
   "id": "80ecc0cb",
   "metadata": {},
   "source": [
    "# ChatGPT와 프롬프트 템플릿 활용"
   ]
  },
  {
   "cell_type": "code",
   "execution_count": 12,
   "id": "cb61f134",
   "metadata": {},
   "outputs": [],
   "source": [
    "from langchain.prompts import ChatPromptTemplate, PromptTemplate, SystemMessagePromptTemplate, AIMessagePromptTemplate, HumanMessagePromptTemplate\n",
    "from langchain.schema import AIMessage, HumanMessage, SystemMessage"
   ]
  },
  {
   "cell_type": "code",
   "execution_count": 14,
   "id": "ea37d91a",
   "metadata": {},
   "outputs": [
    {
     "data": {
      "text/plain": [
       "'가지고 있는 재료로 만들 수 있는 요리 중 하나는 \"양파 계란말이\"입니다. 이 요리는 양파와 계란을 함께 볶아서 만드는 간단하고 맛있는 요리입니다. 아래는 양파 계란말이의 레시피입니다.\\n\\n[양파 계란말이 레시피]\\n1. 양파를 깍두기 형태로 썰어줍니다.\\n2. 팬에 식용유를 두르고 양파를 넣어 중간 불에서 볶아줍니다.\\n3. 양파가 투명해질 때까지 볶은 후 계란을 풀어 넣어줍니다.\\n4. 계란이 익을 때까지 저어가며 볶아줍니다.\\n5. 양파 계란말이가 완성되면 빵과 함께 즐기세요.\\n\\n이렇게 간단하게 양파 계란말이를 만들 수 있습니다. 재료들을 활용하여 맛있는 요리를 즐기세요!'"
      ]
     },
     "execution_count": 14,
     "metadata": {},
     "output_type": "execute_result"
    }
   ],
   "source": [
    "llm = ChatOpenAI(temperature=0)\n",
    "\n",
    "template = \"\"\"\n",
    "너는 요리사야. 내가 가진 재료들을 가지고 만들수 있는 요리를 추천해 주고, 그 요리의 레시피를 제시해줘.\n",
    "내가 가진 재료는 아래와 같아\n",
    "\n",
    "<재료>\n",
    "{재료}\n",
    "\"\"\"\n",
    "\n",
    "system_message_prompt = SystemMessagePromptTemplate.from_template(template)\n",
    "human_template = '{재료}'\n",
    "human_message_prompt = HumanMessagePromptTemplate.from_template(human_template)\n",
    "\n",
    "chat_prompt = ChatPromptTemplate.from_messages([system_message_prompt, human_message_prompt])\n",
    "\n",
    "answer = llm(chat_prompt.format_prompt(재료='양파, 계란, 사과, 빵').to_messages())\n",
    "answer.content"
   ]
  },
  {
   "cell_type": "markdown",
   "id": "cb2aea4e",
   "metadata": {},
   "source": [
    "# Few-shot 예제를 통한 프롬프트 템플릿\n",
    "- Few-shot 이란, 딥러닝 모델이 결과물을 출력할 떄 예시 결과물을 제시함으로써 원하는 결과물로 유도하는 방법론\n",
    "- LLM역시, Few-shot 예제를 제공하면 예제와 유사한 형태의 결과물 출력\n",
    "- 내가 원하는 출력의 형태가 특수하거나, 구조화된 답변을 원할 경우, 결과물의 예시를 수 개 제시하며 결과물 품질 향상"
   ]
  },
  {
   "cell_type": "code",
   "execution_count": 7,
   "id": "a16f37f0",
   "metadata": {},
   "outputs": [],
   "source": [
    "from langchain.prompts.few_shot import FewShotPromptTemplate\n",
    "from langchain.prompts.prompt import PromptTemplate"
   ]
  },
  {
   "cell_type": "code",
   "execution_count": 8,
   "id": "923a54fb",
   "metadata": {},
   "outputs": [],
   "source": [
    "examples = [\n",
    "    {\n",
    "        \"question\":\"아이유로 삼행시 만들어줘\",\n",
    "        \"answer\":\"\"\"\n",
    "        아 : 아이유는\n",
    "        이 : 이런 강의를 들을 이\n",
    "        유 : 유가 없다\n",
    "        \"\"\"\n",
    "    },\n",
    "    {\n",
    "        \"question\":\"김민수로 삼행시 만들어줘\",\n",
    "        \"answer\":\"\"\"\n",
    "        김 : 김치는 맛있다\n",
    "        민 : 민달팽이도 좋아하는 김치!\n",
    "        수 : 수억을 줘도 김치는 내꺼!\n",
    "        \"\"\"\n",
    "    }\n",
    "]"
   ]
  },
  {
   "cell_type": "code",
   "execution_count": 9,
   "id": "21fab56b",
   "metadata": {},
   "outputs": [
    {
     "data": {
      "text/plain": [
       "{'question': '아이유로 삼행시 만들어줘',\n",
       " 'answer': '\\n        아 : 아이유는\\n        이 : 이런 강의를 들을 이\\n        유 : 유가 없다\\n        '}"
      ]
     },
     "execution_count": 9,
     "metadata": {},
     "output_type": "execute_result"
    }
   ],
   "source": [
    "examples[0]"
   ]
  },
  {
   "cell_type": "code",
   "execution_count": 10,
   "id": "50d942b6",
   "metadata": {},
   "outputs": [
    {
     "data": {
      "text/plain": [
       "'Question : 아이유로 삼행시 만들어줘\\n\\n        아 : 아이유는\\n        이 : 이런 강의를 들을 이\\n        유 : 유가 없다\\n        '"
      ]
     },
     "execution_count": 10,
     "metadata": {},
     "output_type": "execute_result"
    }
   ],
   "source": [
    "example_prompt = PromptTemplate(input_variables=[\"question\", \"answer\"], template=\"Question : {question}\\n{answer}\")\n",
    "example_prompt.format(**examples[0])"
   ]
  },
  {
   "cell_type": "code",
   "execution_count": 11,
   "id": "d262cae8",
   "metadata": {},
   "outputs": [],
   "source": [
    "prompt = FewShotPromptTemplate(\n",
    "    examples=examples,\n",
    "    example_prompt=example_prompt,\n",
    "    suffix=\"Question: {input}\",\n",
    "    input_variables=[\"input\"]\n",
    ")"
   ]
  },
  {
   "cell_type": "code",
   "execution_count": 28,
   "id": "4afaea23",
   "metadata": {},
   "outputs": [
    {
     "data": {
      "text/plain": [
       "'Question : 아이유로 삼행시 만들어줘\\n\\n        아 : 아이유는\\n        이 : 이런 강의를 들을 이\\n        유 : 유가 없다\\n        \\n\\nQuestion : 김민수로 삼행시 만들어줘\\n\\n        김 : 김치는 맛있다\\n        민 : 민달팽이도 좋아하는 김치!\\n        수 : 수억을 줘도 김치는 내꺼!\\n        \\n\\nQuestion: 호날두로 삼행시 만들어줘'"
      ]
     },
     "execution_count": 28,
     "metadata": {},
     "output_type": "execute_result"
    }
   ],
   "source": [
    "prompt.format(input=\"호날두로 삼행시 만들어줘\")"
   ]
  },
  {
   "cell_type": "code",
   "execution_count": 30,
   "id": "fc1c898c",
   "metadata": {},
   "outputs": [
    {
     "data": {
      "text/plain": [
       "'호날두는 축구의 신\\n공을 다루면 빛나는 스타\\n승리를 위해 노력하는 모습이 인상깊어'"
      ]
     },
     "execution_count": 30,
     "metadata": {},
     "output_type": "execute_result"
    }
   ],
   "source": [
    "llm.predict(\"호날두로 삼행시 만들어줘\")"
   ]
  },
  {
   "cell_type": "code",
   "execution_count": 33,
   "id": "41dbdb76",
   "metadata": {},
   "outputs": [
    {
     "data": {
      "text/plain": [
       "'호 : 호날두는 축구의 신\\n날 : 날개 달린 듯이 뛰어난 실력\\n두 : 두 번째로 세계를 놀라게 하는 선수'"
      ]
     },
     "execution_count": 33,
     "metadata": {},
     "output_type": "execute_result"
    }
   ],
   "source": [
    "llm.predict(prompt.format(input=\"호날두로 삼행시 만들어줘\"))"
   ]
  },
  {
   "cell_type": "markdown",
   "id": "338abfc0",
   "metadata": {},
   "source": [
    "# Example Selector를 이용한 동적 Few-shot 러닝\n",
    "- Few_shot 예제를 동적으로 입력시 사용"
   ]
  },
  {
   "cell_type": "code",
   "execution_count": 22,
   "id": "5a35a355",
   "metadata": {},
   "outputs": [],
   "source": [
    "from langchain.prompts.example_selector import SemanticSimilarityExampleSelector\n",
    "from langchain.vectorstores import Chroma\n",
    "from langchain.embeddings import OpenAIEmbeddings\n",
    "from langchain.prompts import FewShotPromptTemplate, PromptTemplate\n",
    "\n",
    "example_prompt = PromptTemplate(\n",
    "    input_variables=[\"input\", \"output\"],\n",
    "    template=\"Input: {input}\\nOutput: {output}\",\n",
    ")\n",
    "\n",
    "# These are a lot of examples of a pretend task of creating antonyms.\n",
    "examples = [\n",
    "    {\"input\": \"행복\", \"output\": \"슬픔\"},\n",
    "    {\"input\": \"흥미\", \"output\": \"지루\"},\n",
    "    {\"input\": \"불안\", \"output\": \"안정\"},\n",
    "    {\"input\": \"긴 기차\", \"output\": \"짧은 기차\"},\n",
    "    {\"input\": \"큰 공\", \"output\": \"작은 공\"},\n",
    "]"
   ]
  },
  {
   "cell_type": "code",
   "execution_count": 45,
   "id": "17d8bc14",
   "metadata": {},
   "outputs": [],
   "source": [
    "example_selector = SemanticSimilarityExampleSelector.from_examples(\n",
    "    examples, OpenAIEmbeddings(), Chroma, k=1\n",
    ")"
   ]
  },
  {
   "cell_type": "code",
   "execution_count": 46,
   "id": "53e53154",
   "metadata": {},
   "outputs": [],
   "source": [
    "similar_prompt = FewShotPromptTemplate(\n",
    "    example_selector=example_selector,\n",
    "    example_prompt=example_prompt,\n",
    "    prefix=\"주어진 입력에 대해 반대의 의미를 가진 단어를 출력해줘\",\n",
    "    suffix=\"Input: {단어}\\nOutput:\",\n",
    "    input_variables=[\"단어\"],\n",
    ")"
   ]
  },
  {
   "cell_type": "code",
   "execution_count": 47,
   "id": "79f385b0",
   "metadata": {},
   "outputs": [
    {
     "data": {
      "text/plain": [
       "'주어진 입력에 대해 반대의 의미를 가진 단어를 출력해줘\\n\\nInput: 불안\\nOutput: 안정\\n\\nInput: 무서운\\nOutput:'"
      ]
     },
     "execution_count": 47,
     "metadata": {},
     "output_type": "execute_result"
    }
   ],
   "source": [
    "similar_prompt.format(단어=\"무서운\")"
   ]
  },
  {
   "cell_type": "code",
   "execution_count": 48,
   "id": "d9a2da3b",
   "metadata": {},
   "outputs": [
    {
     "data": {
      "text/plain": [
       "'주어진 입력에 대해 반대의 의미를 가진 단어를 출력해줘\\n\\nInput: 긴 기차\\nOutput: 짧은 기차\\n\\nInput: 큰 비행기\\nOutput:'"
      ]
     },
     "execution_count": 48,
     "metadata": {},
     "output_type": "execute_result"
    }
   ],
   "source": [
    "similar_prompt.format(단어='큰 비행기')"
   ]
  },
  {
   "cell_type": "code",
   "execution_count": 49,
   "id": "e6514fe9",
   "metadata": {},
   "outputs": [
    {
     "data": {
      "text/plain": [
       "'작은 비행기'"
      ]
     },
     "execution_count": 49,
     "metadata": {},
     "output_type": "execute_result"
    }
   ],
   "source": [
    "query = \"큰 비행기\"\n",
    "\n",
    "llm.predict(similar_prompt.format(단어=query))"
   ]
  },
  {
   "cell_type": "markdown",
   "id": "b113299a",
   "metadata": {},
   "source": [
    "# Output Parser를 활용한 출력값 조정\n",
    "- LLM의 답변을 내가 원하는 형태로 고정하고 싶을때 OutputParser 사용\n",
    "- list, json 등의 형태"
   ]
  },
  {
   "cell_type": "code",
   "execution_count": 50,
   "id": "134dcceb",
   "metadata": {},
   "outputs": [],
   "source": [
    "from langchain.output_parsers import CommaSeparatedListOutputParser\n",
    "from langchain.prompts import PromptTemplate, ChatPromptTemplate, HumanMessagePromptTemplate\n",
    "from langchain.llms import OpenAI\n",
    "from langchain.chat_models import ChatOpenAI"
   ]
  },
  {
   "cell_type": "code",
   "execution_count": 51,
   "id": "b89ac304",
   "metadata": {},
   "outputs": [],
   "source": [
    "output_parser = CommaSeparatedListOutputParser()"
   ]
  },
  {
   "cell_type": "code",
   "execution_count": 52,
   "id": "19279c2d",
   "metadata": {},
   "outputs": [
    {
     "data": {
      "text/plain": [
       "'Your response should be a list of comma separated values, eg: `foo, bar, baz`'"
      ]
     },
     "execution_count": 52,
     "metadata": {},
     "output_type": "execute_result"
    }
   ],
   "source": [
    "format_instructions = output_parser.get_format_instructions()\n",
    "format_instructions"
   ]
  },
  {
   "cell_type": "code",
   "execution_count": 53,
   "id": "fb907011",
   "metadata": {},
   "outputs": [],
   "source": [
    "prompt = PromptTemplate(\n",
    "    template=\"{주제}5개를 추천해줘. \\n{format_instructions}\",\n",
    "    input_variables=['주제'],\n",
    "    partial_variables={\"format_instructions\":format_instructions}\n",
    ")"
   ]
  },
  {
   "cell_type": "code",
   "execution_count": 55,
   "id": "383f0bb1",
   "metadata": {},
   "outputs": [
    {
     "data": {
      "text/plain": [
       "'영화5개를 추천해줘. \\nYour response should be a list of comma separated values, eg: `foo, bar, baz`'"
      ]
     },
     "execution_count": 55,
     "metadata": {},
     "output_type": "execute_result"
    }
   ],
   "source": [
    "_input = prompt.format(주제=\"영화\")\n",
    "_input"
   ]
  },
  {
   "cell_type": "code",
   "execution_count": 58,
   "id": "479d0566",
   "metadata": {},
   "outputs": [
    {
     "data": {
      "text/plain": [
       "'어벤져스: 엔드게임, 인셉션, 레옹, 쇼생크 탈출, 어메이징 스파이더맨'"
      ]
     },
     "execution_count": 58,
     "metadata": {},
     "output_type": "execute_result"
    }
   ],
   "source": [
    "output = llm.predict(_input)\n",
    "output"
   ]
  },
  {
   "cell_type": "code",
   "execution_count": 59,
   "id": "743693ac",
   "metadata": {},
   "outputs": [
    {
     "data": {
      "text/plain": [
       "['어벤져스: 엔드게임', '인셉션', '레옹', '쇼생크 탈출', '어메이징 스파이더맨']"
      ]
     },
     "execution_count": 59,
     "metadata": {},
     "output_type": "execute_result"
    }
   ],
   "source": [
    "output_parser.parse(output)"
   ]
  }
 ],
 "metadata": {
  "kernelspec": {
   "display_name": "Python 3 (ipykernel)",
   "language": "python",
   "name": "python3"
  },
  "language_info": {
   "codemirror_mode": {
    "name": "ipython",
    "version": 3
   },
   "file_extension": ".py",
   "mimetype": "text/x-python",
   "name": "python",
   "nbconvert_exporter": "python",
   "pygments_lexer": "ipython3",
   "version": "3.10.9"
  },
  "toc": {
   "base_numbering": 1,
   "nav_menu": {},
   "number_sections": true,
   "sideBar": true,
   "skip_h1_title": false,
   "title_cell": "Table of Contents",
   "title_sidebar": "Contents",
   "toc_cell": false,
   "toc_position": {},
   "toc_section_display": true,
   "toc_window_display": false
  }
 },
 "nbformat": 4,
 "nbformat_minor": 5
}
