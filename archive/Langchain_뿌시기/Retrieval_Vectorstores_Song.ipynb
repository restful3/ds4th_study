{
 "cells": [
  {
   "cell_type": "markdown",
   "id": "952a7509-c7af-45f6-b25f-42778f10e6b7",
   "metadata": {},
   "source": [
    "# 라이브러리 불러오기"
   ]
  },
  {
   "cell_type": "code",
   "execution_count": 1,
   "id": "2e0e7151-6c8d-4dd9-b6da-40d91b9fb57b",
   "metadata": {},
   "outputs": [],
   "source": [
    "import openai\n",
    "import os\n",
    "\n",
    "from dotenv import load_dotenv, find_dotenv\n",
    "_ = load_dotenv(find_dotenv()) # read local .env file\n",
    "\n",
    "openai.api_key  = os.getenv('OPENAI_API_KEY')"
   ]
  },
  {
   "cell_type": "markdown",
   "id": "8bd09840-9f96-41b9-ae57-2a89e3644318",
   "metadata": {},
   "source": [
    "# VectorStore\n",
    "- VectorStore는 자연어 -> 숫자 처리 한 후 이들을 저장하는 벡터 저장소\n",
    "- 벡터 저장소는 임베딩된 데이터를 인덱싱하여, input으로 받아들이는 query와 유사도를 빠르게 출력\n",
    "- 대표적으로 FAISS, Chroma 가 존재"
   ]
  },
  {
   "cell_type": "markdown",
   "id": "0dc7f3f4-b27f-4698-b1b4-adc2c19bb77a",
   "metadata": {},
   "source": [
    "# Chroma\n",
    "- Chroma는 대표적인 오픈소스 벡터 저장소\n",
    "- 기본적으로 VectorStore는 벡터를 일시적으로 저장\n",
    "- 텍스트와 임베딩 함수를 지정 하여 from_documents() 함수에 전달\n",
    "- 지정된 임베딩 함수를 통해 텍스트를 벡터로 변환 하고 임시 db 생성\n",
    "- similarity_search() 함수를 쿼리로 지정해 두면, 이를 바탕 가장 벡터 유사도가 높은 벡터를 찾고, 이를 자연어 형태로 출력"
   ]
  },
  {
   "cell_type": "code",
   "execution_count": 10,
   "id": "87b7a29b-cf01-4614-9607-9a8085d03725",
   "metadata": {},
   "outputs": [],
   "source": [
    "# !pip install chromadb transformers sentence_transformers tiktoken\n",
    "# !pip install pypdf"
   ]
  },
  {
   "cell_type": "code",
   "execution_count": 2,
   "id": "1359a786-ef87-42a1-bd36-c8b5657eca73",
   "metadata": {},
   "outputs": [],
   "source": [
    "import tiktoken\n",
    "from langchain.text_splitter import RecursiveCharacterTextSplitter\n",
    "\n",
    "tokenizer = tiktoken.get_encoding(\"cl100k_base\")\n",
    "\n",
    "def tiktoken_len(text):\n",
    "    tokens = tokenizer.encode(text)\n",
    "    return len(tokens)"
   ]
  },
  {
   "cell_type": "code",
   "execution_count": 3,
   "id": "ff717dbf-2916-4244-91a7-7a7a4477d811",
   "metadata": {},
   "outputs": [],
   "source": [
    "from langchain.embeddings.sentence_transformer import SentenceTransformerEmbeddings\n",
    "from langchain.text_splitter import RecursiveCharacterTextSplitter\n",
    "from langchain.vectorstores import Chroma\n",
    "from langchain.document_loaders import TextLoader, PyPDFLoader"
   ]
  },
  {
   "cell_type": "code",
   "execution_count": 4,
   "id": "f6247c84-489a-4e2d-a2e2-3d6ad0283ada",
   "metadata": {},
   "outputs": [
    {
     "data": {
      "text/plain": [
       "18"
      ]
     },
     "execution_count": 4,
     "metadata": {},
     "output_type": "execute_result"
    }
   ],
   "source": [
    "loader = PyPDFLoader(\"./data/[이슈리포트 2022-2호] 혁신성장 정책금융 동향.pdf\")\n",
    "pages = loader.load_and_split()\n",
    "len(pages)"
   ]
  },
  {
   "cell_type": "code",
   "execution_count": 5,
   "id": "dada8db0-43fa-4e74-803b-12973e6bdd58",
   "metadata": {},
   "outputs": [],
   "source": [
    "text_splitteer = RecursiveCharacterTextSplitter(\n",
    "    chunk_size=1000,\n",
    "    chunk_overlap=100,\n",
    "    length_function=tiktoken_len\n",
    ")\n",
    "docs = text_splitteer.split_documents(pages)"
   ]
  },
  {
   "cell_type": "code",
   "execution_count": 13,
   "id": "2f936ab3-ce28-48a4-9494-f8ae538162c5",
   "metadata": {},
   "outputs": [
    {
     "name": "stderr",
     "output_type": "stream",
     "text": [
      "No sentence-transformers model found with name /home/restful3/.cache/torch/sentence_transformers/JaeyeonKang_CCK-v1.0.0-DPO. Creating a new one with MEAN pooling.\n"
     ]
    },
    {
     "data": {
      "text/html": [
       "<pre style=\"white-space:pre;overflow-x:auto;line-height:normal;font-family:Menlo,'DejaVu Sans Mono',consolas,'Courier New',monospace\"><span style=\"color: #800000; text-decoration-color: #800000\">╭─────────────────────────────── </span><span style=\"color: #800000; text-decoration-color: #800000; font-weight: bold\">Traceback </span><span style=\"color: #bf7f7f; text-decoration-color: #bf7f7f; font-weight: bold\">(most recent call last)</span><span style=\"color: #800000; text-decoration-color: #800000\"> ────────────────────────────────╮</span>\n",
       "<span style=\"color: #800000; text-decoration-color: #800000\">│</span> <span style=\"color: #bfbf7f; text-decoration-color: #bfbf7f\">/tmp/ipykernel_7591/</span><span style=\"color: #808000; text-decoration-color: #808000; font-weight: bold\">1635014637.py</span>:<span style=\"color: #0000ff; text-decoration-color: #0000ff\">8</span> in <span style=\"color: #00ff00; text-decoration-color: #00ff00\">&lt;module&gt;</span>                                                  <span style=\"color: #800000; text-decoration-color: #800000\">│</span>\n",
       "<span style=\"color: #800000; text-decoration-color: #800000\">│</span>                                                                                                  <span style=\"color: #800000; text-decoration-color: #800000\">│</span>\n",
       "<span style=\"color: #800000; text-decoration-color: #800000\">│</span> <span style=\"color: #800000; text-decoration-color: #800000; font-style: italic\">[Errno 2] No such file or directory: '/tmp/ipykernel_7591/1635014637.py'</span>                         <span style=\"color: #800000; text-decoration-color: #800000\">│</span>\n",
       "<span style=\"color: #800000; text-decoration-color: #800000\">│</span>                                                                                                  <span style=\"color: #800000; text-decoration-color: #800000\">│</span>\n",
       "<span style=\"color: #800000; text-decoration-color: #800000\">│</span> <span style=\"color: #bfbf7f; text-decoration-color: #bfbf7f\">/home/restful3/anaconda3/envs/trading/lib/python3.10/site-packages/langchain_community/embedding</span> <span style=\"color: #800000; text-decoration-color: #800000\">│</span>\n",
       "<span style=\"color: #800000; text-decoration-color: #800000\">│</span> <span style=\"color: #bfbf7f; text-decoration-color: #bfbf7f\">s/</span><span style=\"color: #808000; text-decoration-color: #808000; font-weight: bold\">huggingface.py</span>:<span style=\"color: #0000ff; text-decoration-color: #0000ff\">232</span> in <span style=\"color: #00ff00; text-decoration-color: #00ff00\">__init__</span>                                                                 <span style=\"color: #800000; text-decoration-color: #800000\">│</span>\n",
       "<span style=\"color: #800000; text-decoration-color: #800000\">│</span>                                                                                                  <span style=\"color: #800000; text-decoration-color: #800000\">│</span>\n",
       "<span style=\"color: #800000; text-decoration-color: #800000\">│</span>   <span style=\"color: #7f7f7f; text-decoration-color: #7f7f7f\">229 │   │   │   │   </span><span style=\"color: #808000; text-decoration-color: #808000\">\"Please install it with `pip install sentence_transformers`.\"</span>              <span style=\"color: #800000; text-decoration-color: #800000\">│</span>\n",
       "<span style=\"color: #800000; text-decoration-color: #800000\">│</span>   <span style=\"color: #7f7f7f; text-decoration-color: #7f7f7f\">230 │   │   │   </span>) <span style=\"color: #0000ff; text-decoration-color: #0000ff\">from</span> <span style=\"color: #00ffff; text-decoration-color: #00ffff; text-decoration: underline\">exc</span>                                                                     <span style=\"color: #800000; text-decoration-color: #800000\">│</span>\n",
       "<span style=\"color: #800000; text-decoration-color: #800000\">│</span>   <span style=\"color: #7f7f7f; text-decoration-color: #7f7f7f\">231 │   │   </span>                                                                                   <span style=\"color: #800000; text-decoration-color: #800000\">│</span>\n",
       "<span style=\"color: #800000; text-decoration-color: #800000\">│</span> <span style=\"color: #800000; text-decoration-color: #800000\">❱ </span>232 <span style=\"color: #7f7f7f; text-decoration-color: #7f7f7f\">│   │   </span><span style=\"color: #00ffff; text-decoration-color: #00ffff\">self</span>.client = sentence_transformers.SentenceTransformer(                           <span style=\"color: #800000; text-decoration-color: #800000\">│</span>\n",
       "<span style=\"color: #800000; text-decoration-color: #800000\">│</span>   <span style=\"color: #7f7f7f; text-decoration-color: #7f7f7f\">233 │   │   │   </span><span style=\"color: #00ffff; text-decoration-color: #00ffff\">self</span>.model_name, cache_folder=<span style=\"color: #00ffff; text-decoration-color: #00ffff\">self</span>.cache_folder, **<span style=\"color: #00ffff; text-decoration-color: #00ffff\">self</span>.model_kwargs           <span style=\"color: #800000; text-decoration-color: #800000\">│</span>\n",
       "<span style=\"color: #800000; text-decoration-color: #800000\">│</span>   <span style=\"color: #7f7f7f; text-decoration-color: #7f7f7f\">234 │   │   </span>)                                                                                  <span style=\"color: #800000; text-decoration-color: #800000\">│</span>\n",
       "<span style=\"color: #800000; text-decoration-color: #800000\">│</span>   <span style=\"color: #7f7f7f; text-decoration-color: #7f7f7f\">235 │   │   </span><span style=\"color: #0000ff; text-decoration-color: #0000ff\">if</span> <span style=\"color: #808000; text-decoration-color: #808000\">\"-zh\"</span> <span style=\"color: #ff00ff; text-decoration-color: #ff00ff\">in</span> <span style=\"color: #00ffff; text-decoration-color: #00ffff\">self</span>.model_name:                                                       <span style=\"color: #800000; text-decoration-color: #800000\">│</span>\n",
       "<span style=\"color: #800000; text-decoration-color: #800000\">│</span>                                                                                                  <span style=\"color: #800000; text-decoration-color: #800000\">│</span>\n",
       "<span style=\"color: #800000; text-decoration-color: #800000\">│</span> <span style=\"color: #bfbf7f; text-decoration-color: #bfbf7f\">/home/restful3/anaconda3/envs/trading/lib/python3.10/site-packages/sentence_transformers/</span><span style=\"color: #808000; text-decoration-color: #808000; font-weight: bold\">Sentenc</span> <span style=\"color: #800000; text-decoration-color: #800000\">│</span>\n",
       "<span style=\"color: #800000; text-decoration-color: #800000\">│</span> <span style=\"color: #808000; text-decoration-color: #808000; font-weight: bold\">eTransformer.py</span>:<span style=\"color: #0000ff; text-decoration-color: #0000ff\">97</span> in <span style=\"color: #00ff00; text-decoration-color: #00ff00\">__init__</span>                                                                   <span style=\"color: #800000; text-decoration-color: #800000\">│</span>\n",
       "<span style=\"color: #800000; text-decoration-color: #800000\">│</span>                                                                                                  <span style=\"color: #800000; text-decoration-color: #800000\">│</span>\n",
       "<span style=\"color: #800000; text-decoration-color: #800000\">│</span>   <span style=\"color: #7f7f7f; text-decoration-color: #7f7f7f\"> 94 │   │   │   </span><span style=\"color: #0000ff; text-decoration-color: #0000ff\">if</span> os.path.exists(os.path.join(model_path, <span style=\"color: #808000; text-decoration-color: #808000\">'modules.json'</span>)):    <span style=\"color: #7f7f7f; text-decoration-color: #7f7f7f\">#Load as Sen</span>   <span style=\"color: #800000; text-decoration-color: #800000\">│</span>\n",
       "<span style=\"color: #800000; text-decoration-color: #800000\">│</span>   <span style=\"color: #7f7f7f; text-decoration-color: #7f7f7f\"> 95 │   │   │   │   </span>modules = <span style=\"color: #00ffff; text-decoration-color: #00ffff\">self</span>._load_sbert_model(model_path)                               <span style=\"color: #800000; text-decoration-color: #800000\">│</span>\n",
       "<span style=\"color: #800000; text-decoration-color: #800000\">│</span>   <span style=\"color: #7f7f7f; text-decoration-color: #7f7f7f\"> 96 │   │   │   </span><span style=\"color: #0000ff; text-decoration-color: #0000ff\">else</span>:   <span style=\"color: #7f7f7f; text-decoration-color: #7f7f7f\">#Load with AutoModel</span>                                                   <span style=\"color: #800000; text-decoration-color: #800000\">│</span>\n",
       "<span style=\"color: #800000; text-decoration-color: #800000\">│</span> <span style=\"color: #800000; text-decoration-color: #800000\">❱ </span> 97 <span style=\"color: #7f7f7f; text-decoration-color: #7f7f7f\">│   │   │   │   </span>modules = <span style=\"color: #00ffff; text-decoration-color: #00ffff\">self</span>._load_auto_model(model_path)                                <span style=\"color: #800000; text-decoration-color: #800000\">│</span>\n",
       "<span style=\"color: #800000; text-decoration-color: #800000\">│</span>   <span style=\"color: #7f7f7f; text-decoration-color: #7f7f7f\"> 98 │   │   </span>                                                                                   <span style=\"color: #800000; text-decoration-color: #800000\">│</span>\n",
       "<span style=\"color: #800000; text-decoration-color: #800000\">│</span>   <span style=\"color: #7f7f7f; text-decoration-color: #7f7f7f\"> 99 │   │   </span><span style=\"color: #0000ff; text-decoration-color: #0000ff\">if</span> modules <span style=\"color: #ff00ff; text-decoration-color: #ff00ff\">is</span> <span style=\"color: #ff00ff; text-decoration-color: #ff00ff\">not</span> <span style=\"color: #0000ff; text-decoration-color: #0000ff\">None</span> <span style=\"color: #ff00ff; text-decoration-color: #ff00ff\">and</span> <span style=\"color: #ff00ff; text-decoration-color: #ff00ff\">not</span> <span style=\"color: #00ffff; text-decoration-color: #00ffff\">isinstance</span>(modules, OrderedDict):                   <span style=\"color: #800000; text-decoration-color: #800000\">│</span>\n",
       "<span style=\"color: #800000; text-decoration-color: #800000\">│</span>   <span style=\"color: #7f7f7f; text-decoration-color: #7f7f7f\">100 │   │   │   </span>modules = OrderedDict([(<span style=\"color: #00ffff; text-decoration-color: #00ffff\">str</span>(idx), module) <span style=\"color: #0000ff; text-decoration-color: #0000ff\">for</span> idx, module <span style=\"color: #ff00ff; text-decoration-color: #ff00ff\">in</span> <span style=\"color: #00ffff; text-decoration-color: #00ffff\">enumerate</span>(modul   <span style=\"color: #800000; text-decoration-color: #800000\">│</span>\n",
       "<span style=\"color: #800000; text-decoration-color: #800000\">│</span>                                                                                                  <span style=\"color: #800000; text-decoration-color: #800000\">│</span>\n",
       "<span style=\"color: #800000; text-decoration-color: #800000\">│</span> <span style=\"color: #bfbf7f; text-decoration-color: #bfbf7f\">/home/restful3/anaconda3/envs/trading/lib/python3.10/site-packages/sentence_transformers/</span><span style=\"color: #808000; text-decoration-color: #808000; font-weight: bold\">Sentenc</span> <span style=\"color: #800000; text-decoration-color: #800000\">│</span>\n",
       "<span style=\"color: #800000; text-decoration-color: #800000\">│</span> <span style=\"color: #808000; text-decoration-color: #808000; font-weight: bold\">eTransformer.py</span>:<span style=\"color: #0000ff; text-decoration-color: #0000ff\">806</span> in <span style=\"color: #00ff00; text-decoration-color: #00ff00\">_load_auto_model</span>                                                          <span style=\"color: #800000; text-decoration-color: #800000\">│</span>\n",
       "<span style=\"color: #800000; text-decoration-color: #800000\">│</span>                                                                                                  <span style=\"color: #800000; text-decoration-color: #800000\">│</span>\n",
       "<span style=\"color: #800000; text-decoration-color: #800000\">│</span>   <span style=\"color: #7f7f7f; text-decoration-color: #7f7f7f\">803 </span><span style=\"color: #bfbf7f; text-decoration-color: #bfbf7f\">│   │   </span><span style=\"color: #808000; text-decoration-color: #808000\">Creates a simple Transformer + Mean Pooling model and returns the modules</span>          <span style=\"color: #800000; text-decoration-color: #800000\">│</span>\n",
       "<span style=\"color: #800000; text-decoration-color: #800000\">│</span>   <span style=\"color: #7f7f7f; text-decoration-color: #7f7f7f\">804 </span><span style=\"color: #bfbf7f; text-decoration-color: #bfbf7f\">│   │   </span><span style=\"color: #808000; text-decoration-color: #808000\">\"\"\"</span>                                                                                <span style=\"color: #800000; text-decoration-color: #800000\">│</span>\n",
       "<span style=\"color: #800000; text-decoration-color: #800000\">│</span>   <span style=\"color: #7f7f7f; text-decoration-color: #7f7f7f\">805 │   │   </span>logger.warning(<span style=\"color: #808000; text-decoration-color: #808000\">\"No sentence-transformers model found with name {}. Creating a ne</span>   <span style=\"color: #800000; text-decoration-color: #800000\">│</span>\n",
       "<span style=\"color: #800000; text-decoration-color: #800000\">│</span> <span style=\"color: #800000; text-decoration-color: #800000\">❱ </span>806 <span style=\"color: #7f7f7f; text-decoration-color: #7f7f7f\">│   │   </span>transformer_model = Transformer(model_name_or_path)                                <span style=\"color: #800000; text-decoration-color: #800000\">│</span>\n",
       "<span style=\"color: #800000; text-decoration-color: #800000\">│</span>   <span style=\"color: #7f7f7f; text-decoration-color: #7f7f7f\">807 │   │   </span>pooling_model = Pooling(transformer_model.get_word_embedding_dimension(), <span style=\"color: #808000; text-decoration-color: #808000\">'mean'</span>   <span style=\"color: #800000; text-decoration-color: #800000\">│</span>\n",
       "<span style=\"color: #800000; text-decoration-color: #800000\">│</span>   <span style=\"color: #7f7f7f; text-decoration-color: #7f7f7f\">808 │   │   </span><span style=\"color: #0000ff; text-decoration-color: #0000ff\">return</span> [transformer_model, pooling_model]                                          <span style=\"color: #800000; text-decoration-color: #800000\">│</span>\n",
       "<span style=\"color: #800000; text-decoration-color: #800000\">│</span>   <span style=\"color: #7f7f7f; text-decoration-color: #7f7f7f\">809 </span>                                                                                           <span style=\"color: #800000; text-decoration-color: #800000\">│</span>\n",
       "<span style=\"color: #800000; text-decoration-color: #800000\">│</span>                                                                                                  <span style=\"color: #800000; text-decoration-color: #800000\">│</span>\n",
       "<span style=\"color: #800000; text-decoration-color: #800000\">│</span> <span style=\"color: #bfbf7f; text-decoration-color: #bfbf7f\">/home/restful3/anaconda3/envs/trading/lib/python3.10/site-packages/sentence_transformers/models/</span> <span style=\"color: #800000; text-decoration-color: #800000\">│</span>\n",
       "<span style=\"color: #800000; text-decoration-color: #800000\">│</span> <span style=\"color: #808000; text-decoration-color: #808000; font-weight: bold\">Transformer.py</span>:<span style=\"color: #0000ff; text-decoration-color: #0000ff\">28</span> in <span style=\"color: #00ff00; text-decoration-color: #00ff00\">__init__</span>                                                                    <span style=\"color: #800000; text-decoration-color: #800000\">│</span>\n",
       "<span style=\"color: #800000; text-decoration-color: #800000\">│</span>                                                                                                  <span style=\"color: #800000; text-decoration-color: #800000\">│</span>\n",
       "<span style=\"color: #800000; text-decoration-color: #800000\">│</span>   <span style=\"color: #7f7f7f; text-decoration-color: #7f7f7f\"> 25 │   │   </span><span style=\"color: #00ffff; text-decoration-color: #00ffff\">self</span>.config_keys = [<span style=\"color: #808000; text-decoration-color: #808000\">'max_seq_length'</span>, <span style=\"color: #808000; text-decoration-color: #808000\">'do_lower_case'</span>]                             <span style=\"color: #800000; text-decoration-color: #800000\">│</span>\n",
       "<span style=\"color: #800000; text-decoration-color: #800000\">│</span>   <span style=\"color: #7f7f7f; text-decoration-color: #7f7f7f\"> 26 │   │   </span><span style=\"color: #00ffff; text-decoration-color: #00ffff\">self</span>.do_lower_case = do_lower_case                                                 <span style=\"color: #800000; text-decoration-color: #800000\">│</span>\n",
       "<span style=\"color: #800000; text-decoration-color: #800000\">│</span>   <span style=\"color: #7f7f7f; text-decoration-color: #7f7f7f\"> 27 │   │   </span>                                                                                   <span style=\"color: #800000; text-decoration-color: #800000\">│</span>\n",
       "<span style=\"color: #800000; text-decoration-color: #800000\">│</span> <span style=\"color: #800000; text-decoration-color: #800000\">❱ </span> 28 <span style=\"color: #7f7f7f; text-decoration-color: #7f7f7f\">│   │   </span>config = AutoConfig.from_pretrained(model_name_or_path, **model_args, cache_dir=   <span style=\"color: #800000; text-decoration-color: #800000\">│</span>\n",
       "<span style=\"color: #800000; text-decoration-color: #800000\">│</span>   <span style=\"color: #7f7f7f; text-decoration-color: #7f7f7f\"> 29 │   │   </span><span style=\"color: #00ffff; text-decoration-color: #00ffff\">self</span>._load_model(model_name_or_path, config, cache_dir)                            <span style=\"color: #800000; text-decoration-color: #800000\">│</span>\n",
       "<span style=\"color: #800000; text-decoration-color: #800000\">│</span>   <span style=\"color: #7f7f7f; text-decoration-color: #7f7f7f\"> 30 │   │   </span>                                                                                   <span style=\"color: #800000; text-decoration-color: #800000\">│</span>\n",
       "<span style=\"color: #800000; text-decoration-color: #800000\">│</span>   <span style=\"color: #7f7f7f; text-decoration-color: #7f7f7f\"> 31 │   │   </span><span style=\"color: #00ffff; text-decoration-color: #00ffff\">self</span>.tokenizer = AutoTokenizer.from_pretrained(tokenizer_name_or_path <span style=\"color: #0000ff; text-decoration-color: #0000ff\">if</span> tokeniz   <span style=\"color: #800000; text-decoration-color: #800000\">│</span>\n",
       "<span style=\"color: #800000; text-decoration-color: #800000\">│</span>                                                                                                  <span style=\"color: #800000; text-decoration-color: #800000\">│</span>\n",
       "<span style=\"color: #800000; text-decoration-color: #800000\">│</span> <span style=\"color: #bfbf7f; text-decoration-color: #bfbf7f\">/home/restful3/anaconda3/envs/trading/lib/python3.10/site-packages/transformers/models/auto/</span><span style=\"color: #808000; text-decoration-color: #808000; font-weight: bold\">conf</span> <span style=\"color: #800000; text-decoration-color: #800000\">│</span>\n",
       "<span style=\"color: #800000; text-decoration-color: #800000\">│</span> <span style=\"color: #808000; text-decoration-color: #808000; font-weight: bold\">iguration_auto.py</span>:<span style=\"color: #0000ff; text-decoration-color: #0000ff\">829</span> in <span style=\"color: #00ff00; text-decoration-color: #00ff00\">from_pretrained</span>                                                         <span style=\"color: #800000; text-decoration-color: #800000\">│</span>\n",
       "<span style=\"color: #800000; text-decoration-color: #800000\">│</span>                                                                                                  <span style=\"color: #800000; text-decoration-color: #800000\">│</span>\n",
       "<span style=\"color: #800000; text-decoration-color: #800000\">│</span>   <span style=\"color: #7f7f7f; text-decoration-color: #7f7f7f\">826 │   │   │   </span>)                                                                              <span style=\"color: #800000; text-decoration-color: #800000\">│</span>\n",
       "<span style=\"color: #800000; text-decoration-color: #800000\">│</span>   <span style=\"color: #7f7f7f; text-decoration-color: #7f7f7f\">827 │   │   │   </span><span style=\"color: #0000ff; text-decoration-color: #0000ff\">return</span> config_class.from_pretrained(pretrained_model_name_or_path, **kwargs)   <span style=\"color: #800000; text-decoration-color: #800000\">│</span>\n",
       "<span style=\"color: #800000; text-decoration-color: #800000\">│</span>   <span style=\"color: #7f7f7f; text-decoration-color: #7f7f7f\">828 │   │   </span><span style=\"color: #0000ff; text-decoration-color: #0000ff\">elif</span> <span style=\"color: #808000; text-decoration-color: #808000\">\"model_type\"</span> <span style=\"color: #ff00ff; text-decoration-color: #ff00ff\">in</span> config_dict:                                                  <span style=\"color: #800000; text-decoration-color: #800000\">│</span>\n",
       "<span style=\"color: #800000; text-decoration-color: #800000\">│</span> <span style=\"color: #800000; text-decoration-color: #800000\">❱ </span>829 <span style=\"color: #7f7f7f; text-decoration-color: #7f7f7f\">│   │   │   </span>config_class = CONFIG_MAPPING[config_dict[<span style=\"color: #808000; text-decoration-color: #808000\">\"model_type\"</span>]]                       <span style=\"color: #800000; text-decoration-color: #800000\">│</span>\n",
       "<span style=\"color: #800000; text-decoration-color: #800000\">│</span>   <span style=\"color: #7f7f7f; text-decoration-color: #7f7f7f\">830 │   │   │   </span><span style=\"color: #0000ff; text-decoration-color: #0000ff\">return</span> config_class.from_dict(config_dict, **unused_kwargs)                    <span style=\"color: #800000; text-decoration-color: #800000\">│</span>\n",
       "<span style=\"color: #800000; text-decoration-color: #800000\">│</span>   <span style=\"color: #7f7f7f; text-decoration-color: #7f7f7f\">831 │   │   </span><span style=\"color: #0000ff; text-decoration-color: #0000ff\">else</span>:                                                                              <span style=\"color: #800000; text-decoration-color: #800000\">│</span>\n",
       "<span style=\"color: #800000; text-decoration-color: #800000\">│</span>   <span style=\"color: #7f7f7f; text-decoration-color: #7f7f7f\">832 │   │   │   # Fallback: use pattern matching on the string.</span>                                <span style=\"color: #800000; text-decoration-color: #800000\">│</span>\n",
       "<span style=\"color: #800000; text-decoration-color: #800000\">│</span>                                                                                                  <span style=\"color: #800000; text-decoration-color: #800000\">│</span>\n",
       "<span style=\"color: #800000; text-decoration-color: #800000\">│</span> <span style=\"color: #bfbf7f; text-decoration-color: #bfbf7f\">/home/restful3/anaconda3/envs/trading/lib/python3.10/site-packages/transformers/models/auto/</span><span style=\"color: #808000; text-decoration-color: #808000; font-weight: bold\">conf</span> <span style=\"color: #800000; text-decoration-color: #800000\">│</span>\n",
       "<span style=\"color: #800000; text-decoration-color: #800000\">│</span> <span style=\"color: #808000; text-decoration-color: #808000; font-weight: bold\">iguration_auto.py</span>:<span style=\"color: #0000ff; text-decoration-color: #0000ff\">536</span> in <span style=\"color: #00ff00; text-decoration-color: #00ff00\">__getitem__</span>                                                             <span style=\"color: #800000; text-decoration-color: #800000\">│</span>\n",
       "<span style=\"color: #800000; text-decoration-color: #800000\">│</span>                                                                                                  <span style=\"color: #800000; text-decoration-color: #800000\">│</span>\n",
       "<span style=\"color: #800000; text-decoration-color: #800000\">│</span>   <span style=\"color: #7f7f7f; text-decoration-color: #7f7f7f\">533 │   │   </span><span style=\"color: #0000ff; text-decoration-color: #0000ff\">if</span> key <span style=\"color: #ff00ff; text-decoration-color: #ff00ff\">in</span> <span style=\"color: #00ffff; text-decoration-color: #00ffff\">self</span>._extra_content:                                                     <span style=\"color: #800000; text-decoration-color: #800000\">│</span>\n",
       "<span style=\"color: #800000; text-decoration-color: #800000\">│</span>   <span style=\"color: #7f7f7f; text-decoration-color: #7f7f7f\">534 │   │   │   </span><span style=\"color: #0000ff; text-decoration-color: #0000ff\">return</span> <span style=\"color: #00ffff; text-decoration-color: #00ffff\">self</span>._extra_content[key]                                                <span style=\"color: #800000; text-decoration-color: #800000\">│</span>\n",
       "<span style=\"color: #800000; text-decoration-color: #800000\">│</span>   <span style=\"color: #7f7f7f; text-decoration-color: #7f7f7f\">535 │   │   </span><span style=\"color: #0000ff; text-decoration-color: #0000ff\">if</span> key <span style=\"color: #ff00ff; text-decoration-color: #ff00ff\">not</span> <span style=\"color: #ff00ff; text-decoration-color: #ff00ff\">in</span> <span style=\"color: #00ffff; text-decoration-color: #00ffff\">self</span>._mapping:                                                       <span style=\"color: #800000; text-decoration-color: #800000\">│</span>\n",
       "<span style=\"color: #800000; text-decoration-color: #800000\">│</span> <span style=\"color: #800000; text-decoration-color: #800000\">❱ </span>536 <span style=\"color: #7f7f7f; text-decoration-color: #7f7f7f\">│   │   │   </span><span style=\"color: #0000ff; text-decoration-color: #0000ff\">raise</span> <span style=\"color: #00ffff; text-decoration-color: #00ffff\">KeyError</span>(key)                                                            <span style=\"color: #800000; text-decoration-color: #800000\">│</span>\n",
       "<span style=\"color: #800000; text-decoration-color: #800000\">│</span>   <span style=\"color: #7f7f7f; text-decoration-color: #7f7f7f\">537 │   │   </span>value = <span style=\"color: #00ffff; text-decoration-color: #00ffff\">self</span>._mapping[key]                                                         <span style=\"color: #800000; text-decoration-color: #800000\">│</span>\n",
       "<span style=\"color: #800000; text-decoration-color: #800000\">│</span>   <span style=\"color: #7f7f7f; text-decoration-color: #7f7f7f\">538 │   │   </span>module_name = model_type_to_module_name(key)                                       <span style=\"color: #800000; text-decoration-color: #800000\">│</span>\n",
       "<span style=\"color: #800000; text-decoration-color: #800000\">│</span>   <span style=\"color: #7f7f7f; text-decoration-color: #7f7f7f\">539 │   │   </span><span style=\"color: #0000ff; text-decoration-color: #0000ff\">if</span> module_name <span style=\"color: #ff00ff; text-decoration-color: #ff00ff\">not</span> <span style=\"color: #ff00ff; text-decoration-color: #ff00ff\">in</span> <span style=\"color: #00ffff; text-decoration-color: #00ffff\">self</span>._modules:                                               <span style=\"color: #800000; text-decoration-color: #800000\">│</span>\n",
       "<span style=\"color: #800000; text-decoration-color: #800000\">╰──────────────────────────────────────────────────────────────────────────────────────────────────╯</span>\n",
       "<span style=\"color: #ff0000; text-decoration-color: #ff0000; font-weight: bold\">KeyError: </span><span style=\"color: #008000; text-decoration-color: #008000\">'llama'</span>\n",
       "</pre>\n"
      ],
      "text/plain": [
       "\u001b[31m╭─\u001b[0m\u001b[31m──────────────────────────────\u001b[0m\u001b[31m \u001b[0m\u001b[1;31mTraceback \u001b[0m\u001b[1;2;31m(most recent call last)\u001b[0m\u001b[31m \u001b[0m\u001b[31m───────────────────────────────\u001b[0m\u001b[31m─╮\u001b[0m\n",
       "\u001b[31m│\u001b[0m \u001b[2;33m/tmp/ipykernel_7591/\u001b[0m\u001b[1;33m1635014637.py\u001b[0m:\u001b[94m8\u001b[0m in \u001b[92m<module>\u001b[0m                                                  \u001b[31m│\u001b[0m\n",
       "\u001b[31m│\u001b[0m                                                                                                  \u001b[31m│\u001b[0m\n",
       "\u001b[31m│\u001b[0m \u001b[3;31m[Errno 2] No such file or directory: '/tmp/ipykernel_7591/1635014637.py'\u001b[0m                         \u001b[31m│\u001b[0m\n",
       "\u001b[31m│\u001b[0m                                                                                                  \u001b[31m│\u001b[0m\n",
       "\u001b[31m│\u001b[0m \u001b[2;33m/home/restful3/anaconda3/envs/trading/lib/python3.10/site-packages/langchain_community/embedding\u001b[0m \u001b[31m│\u001b[0m\n",
       "\u001b[31m│\u001b[0m \u001b[2;33ms/\u001b[0m\u001b[1;33mhuggingface.py\u001b[0m:\u001b[94m232\u001b[0m in \u001b[92m__init__\u001b[0m                                                                 \u001b[31m│\u001b[0m\n",
       "\u001b[31m│\u001b[0m                                                                                                  \u001b[31m│\u001b[0m\n",
       "\u001b[31m│\u001b[0m   \u001b[2m229 \u001b[0m\u001b[2m│   │   │   │   \u001b[0m\u001b[33m\"\u001b[0m\u001b[33mPlease install it with `pip install sentence_transformers`.\u001b[0m\u001b[33m\"\u001b[0m              \u001b[31m│\u001b[0m\n",
       "\u001b[31m│\u001b[0m   \u001b[2m230 \u001b[0m\u001b[2m│   │   │   \u001b[0m) \u001b[94mfrom\u001b[0m \u001b[4;96mexc\u001b[0m                                                                     \u001b[31m│\u001b[0m\n",
       "\u001b[31m│\u001b[0m   \u001b[2m231 \u001b[0m\u001b[2m│   │   \u001b[0m                                                                                   \u001b[31m│\u001b[0m\n",
       "\u001b[31m│\u001b[0m \u001b[31m❱ \u001b[0m232 \u001b[2m│   │   \u001b[0m\u001b[96mself\u001b[0m.client = sentence_transformers.SentenceTransformer(                           \u001b[31m│\u001b[0m\n",
       "\u001b[31m│\u001b[0m   \u001b[2m233 \u001b[0m\u001b[2m│   │   │   \u001b[0m\u001b[96mself\u001b[0m.model_name, cache_folder=\u001b[96mself\u001b[0m.cache_folder, **\u001b[96mself\u001b[0m.model_kwargs           \u001b[31m│\u001b[0m\n",
       "\u001b[31m│\u001b[0m   \u001b[2m234 \u001b[0m\u001b[2m│   │   \u001b[0m)                                                                                  \u001b[31m│\u001b[0m\n",
       "\u001b[31m│\u001b[0m   \u001b[2m235 \u001b[0m\u001b[2m│   │   \u001b[0m\u001b[94mif\u001b[0m \u001b[33m\"\u001b[0m\u001b[33m-zh\u001b[0m\u001b[33m\"\u001b[0m \u001b[95min\u001b[0m \u001b[96mself\u001b[0m.model_name:                                                       \u001b[31m│\u001b[0m\n",
       "\u001b[31m│\u001b[0m                                                                                                  \u001b[31m│\u001b[0m\n",
       "\u001b[31m│\u001b[0m \u001b[2;33m/home/restful3/anaconda3/envs/trading/lib/python3.10/site-packages/sentence_transformers/\u001b[0m\u001b[1;33mSentenc\u001b[0m \u001b[31m│\u001b[0m\n",
       "\u001b[31m│\u001b[0m \u001b[1;33meTransformer.py\u001b[0m:\u001b[94m97\u001b[0m in \u001b[92m__init__\u001b[0m                                                                   \u001b[31m│\u001b[0m\n",
       "\u001b[31m│\u001b[0m                                                                                                  \u001b[31m│\u001b[0m\n",
       "\u001b[31m│\u001b[0m   \u001b[2m 94 \u001b[0m\u001b[2m│   │   │   \u001b[0m\u001b[94mif\u001b[0m os.path.exists(os.path.join(model_path, \u001b[33m'\u001b[0m\u001b[33mmodules.json\u001b[0m\u001b[33m'\u001b[0m)):    \u001b[2m#Load as Sen\u001b[0m   \u001b[31m│\u001b[0m\n",
       "\u001b[31m│\u001b[0m   \u001b[2m 95 \u001b[0m\u001b[2m│   │   │   │   \u001b[0mmodules = \u001b[96mself\u001b[0m._load_sbert_model(model_path)                               \u001b[31m│\u001b[0m\n",
       "\u001b[31m│\u001b[0m   \u001b[2m 96 \u001b[0m\u001b[2m│   │   │   \u001b[0m\u001b[94melse\u001b[0m:   \u001b[2m#Load with AutoModel\u001b[0m                                                   \u001b[31m│\u001b[0m\n",
       "\u001b[31m│\u001b[0m \u001b[31m❱ \u001b[0m 97 \u001b[2m│   │   │   │   \u001b[0mmodules = \u001b[96mself\u001b[0m._load_auto_model(model_path)                                \u001b[31m│\u001b[0m\n",
       "\u001b[31m│\u001b[0m   \u001b[2m 98 \u001b[0m\u001b[2m│   │   \u001b[0m                                                                                   \u001b[31m│\u001b[0m\n",
       "\u001b[31m│\u001b[0m   \u001b[2m 99 \u001b[0m\u001b[2m│   │   \u001b[0m\u001b[94mif\u001b[0m modules \u001b[95mis\u001b[0m \u001b[95mnot\u001b[0m \u001b[94mNone\u001b[0m \u001b[95mand\u001b[0m \u001b[95mnot\u001b[0m \u001b[96misinstance\u001b[0m(modules, OrderedDict):                   \u001b[31m│\u001b[0m\n",
       "\u001b[31m│\u001b[0m   \u001b[2m100 \u001b[0m\u001b[2m│   │   │   \u001b[0mmodules = OrderedDict([(\u001b[96mstr\u001b[0m(idx), module) \u001b[94mfor\u001b[0m idx, module \u001b[95min\u001b[0m \u001b[96menumerate\u001b[0m(modul   \u001b[31m│\u001b[0m\n",
       "\u001b[31m│\u001b[0m                                                                                                  \u001b[31m│\u001b[0m\n",
       "\u001b[31m│\u001b[0m \u001b[2;33m/home/restful3/anaconda3/envs/trading/lib/python3.10/site-packages/sentence_transformers/\u001b[0m\u001b[1;33mSentenc\u001b[0m \u001b[31m│\u001b[0m\n",
       "\u001b[31m│\u001b[0m \u001b[1;33meTransformer.py\u001b[0m:\u001b[94m806\u001b[0m in \u001b[92m_load_auto_model\u001b[0m                                                          \u001b[31m│\u001b[0m\n",
       "\u001b[31m│\u001b[0m                                                                                                  \u001b[31m│\u001b[0m\n",
       "\u001b[31m│\u001b[0m   \u001b[2m803 \u001b[0m\u001b[2;33m│   │   \u001b[0m\u001b[33mCreates a simple Transformer + Mean Pooling model and returns the modules\u001b[0m          \u001b[31m│\u001b[0m\n",
       "\u001b[31m│\u001b[0m   \u001b[2m804 \u001b[0m\u001b[2;33m│   │   \u001b[0m\u001b[33m\"\"\"\u001b[0m                                                                                \u001b[31m│\u001b[0m\n",
       "\u001b[31m│\u001b[0m   \u001b[2m805 \u001b[0m\u001b[2m│   │   \u001b[0mlogger.warning(\u001b[33m\"\u001b[0m\u001b[33mNo sentence-transformers model found with name \u001b[0m\u001b[33m{}\u001b[0m\u001b[33m. Creating a ne\u001b[0m   \u001b[31m│\u001b[0m\n",
       "\u001b[31m│\u001b[0m \u001b[31m❱ \u001b[0m806 \u001b[2m│   │   \u001b[0mtransformer_model = Transformer(model_name_or_path)                                \u001b[31m│\u001b[0m\n",
       "\u001b[31m│\u001b[0m   \u001b[2m807 \u001b[0m\u001b[2m│   │   \u001b[0mpooling_model = Pooling(transformer_model.get_word_embedding_dimension(), \u001b[33m'\u001b[0m\u001b[33mmean\u001b[0m\u001b[33m'\u001b[0m   \u001b[31m│\u001b[0m\n",
       "\u001b[31m│\u001b[0m   \u001b[2m808 \u001b[0m\u001b[2m│   │   \u001b[0m\u001b[94mreturn\u001b[0m [transformer_model, pooling_model]                                          \u001b[31m│\u001b[0m\n",
       "\u001b[31m│\u001b[0m   \u001b[2m809 \u001b[0m                                                                                           \u001b[31m│\u001b[0m\n",
       "\u001b[31m│\u001b[0m                                                                                                  \u001b[31m│\u001b[0m\n",
       "\u001b[31m│\u001b[0m \u001b[2;33m/home/restful3/anaconda3/envs/trading/lib/python3.10/site-packages/sentence_transformers/models/\u001b[0m \u001b[31m│\u001b[0m\n",
       "\u001b[31m│\u001b[0m \u001b[1;33mTransformer.py\u001b[0m:\u001b[94m28\u001b[0m in \u001b[92m__init__\u001b[0m                                                                    \u001b[31m│\u001b[0m\n",
       "\u001b[31m│\u001b[0m                                                                                                  \u001b[31m│\u001b[0m\n",
       "\u001b[31m│\u001b[0m   \u001b[2m 25 \u001b[0m\u001b[2m│   │   \u001b[0m\u001b[96mself\u001b[0m.config_keys = [\u001b[33m'\u001b[0m\u001b[33mmax_seq_length\u001b[0m\u001b[33m'\u001b[0m, \u001b[33m'\u001b[0m\u001b[33mdo_lower_case\u001b[0m\u001b[33m'\u001b[0m]                             \u001b[31m│\u001b[0m\n",
       "\u001b[31m│\u001b[0m   \u001b[2m 26 \u001b[0m\u001b[2m│   │   \u001b[0m\u001b[96mself\u001b[0m.do_lower_case = do_lower_case                                                 \u001b[31m│\u001b[0m\n",
       "\u001b[31m│\u001b[0m   \u001b[2m 27 \u001b[0m\u001b[2m│   │   \u001b[0m                                                                                   \u001b[31m│\u001b[0m\n",
       "\u001b[31m│\u001b[0m \u001b[31m❱ \u001b[0m 28 \u001b[2m│   │   \u001b[0mconfig = AutoConfig.from_pretrained(model_name_or_path, **model_args, cache_dir=   \u001b[31m│\u001b[0m\n",
       "\u001b[31m│\u001b[0m   \u001b[2m 29 \u001b[0m\u001b[2m│   │   \u001b[0m\u001b[96mself\u001b[0m._load_model(model_name_or_path, config, cache_dir)                            \u001b[31m│\u001b[0m\n",
       "\u001b[31m│\u001b[0m   \u001b[2m 30 \u001b[0m\u001b[2m│   │   \u001b[0m                                                                                   \u001b[31m│\u001b[0m\n",
       "\u001b[31m│\u001b[0m   \u001b[2m 31 \u001b[0m\u001b[2m│   │   \u001b[0m\u001b[96mself\u001b[0m.tokenizer = AutoTokenizer.from_pretrained(tokenizer_name_or_path \u001b[94mif\u001b[0m tokeniz   \u001b[31m│\u001b[0m\n",
       "\u001b[31m│\u001b[0m                                                                                                  \u001b[31m│\u001b[0m\n",
       "\u001b[31m│\u001b[0m \u001b[2;33m/home/restful3/anaconda3/envs/trading/lib/python3.10/site-packages/transformers/models/auto/\u001b[0m\u001b[1;33mconf\u001b[0m \u001b[31m│\u001b[0m\n",
       "\u001b[31m│\u001b[0m \u001b[1;33miguration_auto.py\u001b[0m:\u001b[94m829\u001b[0m in \u001b[92mfrom_pretrained\u001b[0m                                                         \u001b[31m│\u001b[0m\n",
       "\u001b[31m│\u001b[0m                                                                                                  \u001b[31m│\u001b[0m\n",
       "\u001b[31m│\u001b[0m   \u001b[2m826 \u001b[0m\u001b[2m│   │   │   \u001b[0m)                                                                              \u001b[31m│\u001b[0m\n",
       "\u001b[31m│\u001b[0m   \u001b[2m827 \u001b[0m\u001b[2m│   │   │   \u001b[0m\u001b[94mreturn\u001b[0m config_class.from_pretrained(pretrained_model_name_or_path, **kwargs)   \u001b[31m│\u001b[0m\n",
       "\u001b[31m│\u001b[0m   \u001b[2m828 \u001b[0m\u001b[2m│   │   \u001b[0m\u001b[94melif\u001b[0m \u001b[33m\"\u001b[0m\u001b[33mmodel_type\u001b[0m\u001b[33m\"\u001b[0m \u001b[95min\u001b[0m config_dict:                                                  \u001b[31m│\u001b[0m\n",
       "\u001b[31m│\u001b[0m \u001b[31m❱ \u001b[0m829 \u001b[2m│   │   │   \u001b[0mconfig_class = CONFIG_MAPPING[config_dict[\u001b[33m\"\u001b[0m\u001b[33mmodel_type\u001b[0m\u001b[33m\"\u001b[0m]]                       \u001b[31m│\u001b[0m\n",
       "\u001b[31m│\u001b[0m   \u001b[2m830 \u001b[0m\u001b[2m│   │   │   \u001b[0m\u001b[94mreturn\u001b[0m config_class.from_dict(config_dict, **unused_kwargs)                    \u001b[31m│\u001b[0m\n",
       "\u001b[31m│\u001b[0m   \u001b[2m831 \u001b[0m\u001b[2m│   │   \u001b[0m\u001b[94melse\u001b[0m:                                                                              \u001b[31m│\u001b[0m\n",
       "\u001b[31m│\u001b[0m   \u001b[2m832 \u001b[0m\u001b[2m│   │   │   \u001b[0m\u001b[2m# Fallback: use pattern matching on the string.\u001b[0m                                \u001b[31m│\u001b[0m\n",
       "\u001b[31m│\u001b[0m                                                                                                  \u001b[31m│\u001b[0m\n",
       "\u001b[31m│\u001b[0m \u001b[2;33m/home/restful3/anaconda3/envs/trading/lib/python3.10/site-packages/transformers/models/auto/\u001b[0m\u001b[1;33mconf\u001b[0m \u001b[31m│\u001b[0m\n",
       "\u001b[31m│\u001b[0m \u001b[1;33miguration_auto.py\u001b[0m:\u001b[94m536\u001b[0m in \u001b[92m__getitem__\u001b[0m                                                             \u001b[31m│\u001b[0m\n",
       "\u001b[31m│\u001b[0m                                                                                                  \u001b[31m│\u001b[0m\n",
       "\u001b[31m│\u001b[0m   \u001b[2m533 \u001b[0m\u001b[2m│   │   \u001b[0m\u001b[94mif\u001b[0m key \u001b[95min\u001b[0m \u001b[96mself\u001b[0m._extra_content:                                                     \u001b[31m│\u001b[0m\n",
       "\u001b[31m│\u001b[0m   \u001b[2m534 \u001b[0m\u001b[2m│   │   │   \u001b[0m\u001b[94mreturn\u001b[0m \u001b[96mself\u001b[0m._extra_content[key]                                                \u001b[31m│\u001b[0m\n",
       "\u001b[31m│\u001b[0m   \u001b[2m535 \u001b[0m\u001b[2m│   │   \u001b[0m\u001b[94mif\u001b[0m key \u001b[95mnot\u001b[0m \u001b[95min\u001b[0m \u001b[96mself\u001b[0m._mapping:                                                       \u001b[31m│\u001b[0m\n",
       "\u001b[31m│\u001b[0m \u001b[31m❱ \u001b[0m536 \u001b[2m│   │   │   \u001b[0m\u001b[94mraise\u001b[0m \u001b[96mKeyError\u001b[0m(key)                                                            \u001b[31m│\u001b[0m\n",
       "\u001b[31m│\u001b[0m   \u001b[2m537 \u001b[0m\u001b[2m│   │   \u001b[0mvalue = \u001b[96mself\u001b[0m._mapping[key]                                                         \u001b[31m│\u001b[0m\n",
       "\u001b[31m│\u001b[0m   \u001b[2m538 \u001b[0m\u001b[2m│   │   \u001b[0mmodule_name = model_type_to_module_name(key)                                       \u001b[31m│\u001b[0m\n",
       "\u001b[31m│\u001b[0m   \u001b[2m539 \u001b[0m\u001b[2m│   │   \u001b[0m\u001b[94mif\u001b[0m module_name \u001b[95mnot\u001b[0m \u001b[95min\u001b[0m \u001b[96mself\u001b[0m._modules:                                               \u001b[31m│\u001b[0m\n",
       "\u001b[31m╰──────────────────────────────────────────────────────────────────────────────────────────────────╯\u001b[0m\n",
       "\u001b[1;91mKeyError: \u001b[0m\u001b[32m'llama'\u001b[0m\n"
      ]
     },
     "metadata": {},
     "output_type": "display_data"
    }
   ],
   "source": [
    "from langchain.embeddings import HuggingFaceBgeEmbeddings\n",
    "\n",
    "# model_name = \"jhgan/ko-sbert-nli\"\n",
    "\n",
    "model_name = \"JaeyeonKang/CCK-v1.0.0-DPO\"\n",
    "model_kwargs = {\"device\":\"cuda:0\"}\n",
    "encode_kwargs = {\"normalize_embeddings\":True}\n",
    "hf = HuggingFaceBgeEmbeddings(\n",
    "    model_name=model_name,\n",
    "    model_kwargs=model_kwargs,\n",
    "    encode_kwargs=encode_kwargs\n",
    ")"
   ]
  },
  {
   "cell_type": "code",
   "execution_count": 7,
   "id": "5fa12dcf-1ef0-4541-b1a9-c7d3c8fc2cb4",
   "metadata": {},
   "outputs": [],
   "source": [
    "db = Chroma.from_documents(docs, hf)"
   ]
  },
  {
   "cell_type": "code",
   "execution_count": 8,
   "id": "2b0e9c9e-3b1b-499a-8c45-51c8ae2d5359",
   "metadata": {},
   "outputs": [],
   "source": [
    "query = \"6대 먹거리 산업은 무엇인가?\"\n",
    "docs = db.similarity_search(query)"
   ]
  },
  {
   "cell_type": "code",
   "execution_count": 9,
   "id": "94e6200b-2329-4e87-bb76-36e93c4716a7",
   "metadata": {
    "scrolled": true
   },
   "outputs": [
    {
     "name": "stdout",
     "output_type": "stream",
     "text": [
      "혁신성장 정책금융 동향 : ICT 산업을 중심으로\n",
      "  CIS이슈리포트 2022-2 호 | 7 |▶5G 이동통신 시스템 산업의 value chain 은 ‘칩셋 및 장비 → 5G 이동통신 단말 및 기지국 → \n",
      "5G 이동통신 네트워크 → 이동통신 서비스 ’로 구성되며 , 동 산업은 ①전방산업에 대한 파급효과가  \n",
      "큰 산업, ②진입장벽이 높은 산업, ③지속적인 R&D가 요구되는 산업 등의 특징을 가짐\n",
      "￮방송통신 서비스 , 사물인터넷 , 모바일 뱅킹, 전자상거래 , 건설, 에너지 , 의료, 국방, 조선, 물류, \n",
      "자동차 등의 다양한 산업을 대상으로 하는 등 전방산업에 파급효과가 큰 특징이 있음\n",
      "￮초기시장 선점을 통한 높은 진입장벽이 형성되어 독과점 현상이 뚜렷한 산업분야로 , 기존 4G LTE \n",
      "와의 호환성 때문에 5G 이동통신 시스템 시장에서도 기존 사업자와 계약을 진행하는 경향이 있음\n",
      "￮전체 네트워크 설계역량이 경쟁력의 핵심요소이며 , 지속적인 제품 개발능력과 고객을 만족시키기 \n",
      "위한 마케팅 활동 등에서 차별적 경쟁우위를 확보하는 것이 중요한 경쟁요소임\n",
      "▶시장조사전문기관 Technavio 에 따르면 세계 5G 이동통신 시스템 시장규모는 2020년 494.4 억 \n",
      "달러에서 연평균 32.0% 성장하여 2025년에는 1,982 억 달러의 시장을 시현할 것으로 전망됨\n",
      "￮5G 상용화 서비스가 본격화됨에 따라 국내 5G 통신서비스 가입자 수는 매년 증가하고 있는 추세임\n",
      "      * (‘19년 말)4,668,154 명 → (’20년 말)11,851,373 명  → (’21년 말)20,915,176 명 (출처: 과학기술정보통신부 )\n",
      "[세계 5G 이동통신 시스템 시장규모 ]\n",
      "                                                            (단위: 억 달러, 괄호는 YoY %)\n",
      "구분 2020 2021 2022 2023 2024 2025CAGR\n",
      "(2020-2025)\n",
      "5G이동통신 \n",
      "시스템494.4 645.1 815.5 1,063.5 1,429.1 1,982.0 32.0%\n",
      "　 (30.5) (26.4) (30.4) (34.4) (38.7)   \n",
      "장비20.5 27.6 42.4 73.9 136.7 263.1 66.6%\n"
     ]
    }
   ],
   "source": [
    "print(docs[0].page_content)"
   ]
  },
  {
   "cell_type": "markdown",
   "id": "51299077-b430-4adc-9807-73d750529329",
   "metadata": {},
   "source": [
    "- 대부분의 경우에 활용하고자 하는 문서를 나만의 디스크에 저장하고 필요 할 때 마다 호출\n",
    "- persist() 함수로 벡터 저장소를 로컬에 저장, Chroma 객체를 선언 시 로컬 저장소 경로를 지정하여 다시 불러 올 수 있음"
   ]
  },
  {
   "cell_type": "markdown",
   "id": "8c2d5f9f-2393-4364-b902-aeca6e790483",
   "metadata": {},
   "source": [
    "- save to disk"
   ]
  },
  {
   "cell_type": "code",
   "execution_count": 51,
   "id": "683a712b-80ac-4de5-b949-4b4bbf5b1ac6",
   "metadata": {},
   "outputs": [],
   "source": [
    "db2 = Chroma.from_documents(docs, hf, persist_directory=\"./chroma_db\")\n",
    "docs = db2.similarity_search(query)"
   ]
  },
  {
   "cell_type": "markdown",
   "id": "c6076ff6-24e2-42ad-b119-5b1f5b14e30a",
   "metadata": {},
   "source": [
    "- load from disk"
   ]
  },
  {
   "cell_type": "code",
   "execution_count": 52,
   "id": "bd8d8b6f-46fd-4387-9a38-972d77335274",
   "metadata": {},
   "outputs": [
    {
     "name": "stdout",
     "output_type": "stream",
     "text": [
      "혁신성장 정책금융 동향 : ICT 산업을 중심으로\n",
      "  CIS이슈리포트 2022-2 호 | 7 |▶5G 이동통신 시스템 산업의 value chain 은 ‘칩셋 및 장비 → 5G 이동통신 단말 및 기지국 → \n",
      "5G 이동통신 네트워크 → 이동통신 서비스 ’로 구성되며 , 동 산업은 ①전방산업에 대한 파급효과가  \n",
      "큰 산업, ②진입장벽이 높은 산업, ③지속적인 R&D가 요구되는 산업 등의 특징을 가짐\n",
      "￮방송통신 서비스 , 사물인터넷 , 모바일 뱅킹, 전자상거래 , 건설, 에너지 , 의료, 국방, 조선, 물류, \n",
      "자동차 등의 다양한 산업을 대상으로 하는 등 전방산업에 파급효과가 큰 특징이 있음\n",
      "￮초기시장 선점을 통한 높은 진입장벽이 형성되어 독과점 현상이 뚜렷한 산업분야로 , 기존 4G LTE \n",
      "와의 호환성 때문에 5G 이동통신 시스템 시장에서도 기존 사업자와 계약을 진행하는 경향이 있음\n"
     ]
    }
   ],
   "source": [
    "db3 = Chroma(persist_directory=\"./chroma_db\", embedding_function=hf)\n",
    "docs = db3.similarity_search(query)\n",
    "print(docs[0].page_content)"
   ]
  },
  {
   "cell_type": "markdown",
   "id": "83e7540b-55fe-4aef-ba78-ef8f457f4f1f",
   "metadata": {},
   "source": [
    "- 쿼리와 유사한 문서(청크)를 불러올 때, 유사도를 함께 제공하는 함수 similarity_search_with_score() 제공\n",
    "- 내가 얻은 유사한 문장들의 유사도를 비교 가능\n",
    "- 특정 유사도 이상의 문서만 출력 가능"
   ]
  },
  {
   "cell_type": "code",
   "execution_count": 55,
   "id": "d5ce0744-0d98-43a1-9ce4-b7810c55b4ca",
   "metadata": {},
   "outputs": [
    {
     "name": "stdout",
     "output_type": "stream",
     "text": [
      "가장 유사한 문서 : 혁신성장 정책금융 동향 : ICT 산업을 중심으로\n",
      "  CIS이슈리포트 2022-2 호 | 7 |▶5G 이동통신 시스템 산업의 value chain 은 ‘칩셋 및 장비 → 5G 이동통신 단말 및 기지국 → \n",
      "5G 이동통신 네트워크 → 이동통신 서비스 ’로 구성되며 , 동 산업은 ①전방산업에 대한 파급효과가  \n",
      "큰 산업, ②진입장벽이 높은 산업, ③지속적인 R&D가 요구되는 산업 등의 특징을 가짐\n",
      "￮방송통신 서비스 , 사물인터넷 , 모바일 뱅킹, 전자상거래 , 건설, 에너지 , 의료, 국방, 조선, 물류, \n",
      "자동차 등의 다양한 산업을 대상으로 하는 등 전방산업에 파급효과가 큰 특징이 있음\n",
      "￮초기시장 선점을 통한 높은 진입장벽이 형성되어 독과점 현상이 뚜렷한 산업분야로 , 기존 4G LTE \n",
      "와의 호환성 때문에 5G 이동통신 시스템 시장에서도 기존 사업자와 계약을 진행하는 경향이 있음\n",
      "문서 유사도 : 0.2869551504637776\n"
     ]
    }
   ],
   "source": [
    "docs = db3.similarity_search_with_relevance_scores(query, k=3)\n",
    "\n",
    "print(f\"가장 유사한 문서 : {docs[0][0].page_content}\")\n",
    "print(f\"문서 유사도 : {docs[0][1]}\")"
   ]
  },
  {
   "cell_type": "markdown",
   "id": "6fdc8e9f-d8e6-4932-845c-33adbfa0cebb",
   "metadata": {},
   "source": [
    "#  FAISS\n",
    "- Facebook AI의 유사성 검색(FAISS)는 고밀도 벡터의 효율적인 유사성 검색 및 클러스터링을 위한 라이브러리\n",
    "- 모든 키기의 벡터 집합에서 검색하는 알고리즘이 포함되어 있으며\n",
    "- RAM에 맞지 않을 수 있는 벡터 까지 검색 가능\n",
    "- 평가 및 매게변수 조정을 위한 지원 코드 포함"
   ]
  },
  {
   "cell_type": "code",
   "execution_count": 56,
   "id": "72a1e54b-2c3d-43a7-a0c4-114a4ae5695e",
   "metadata": {},
   "outputs": [],
   "source": [
    "# !pip install faiss-gpu"
   ]
  },
  {
   "cell_type": "code",
   "execution_count": 57,
   "id": "5fd2bdd0-8c4d-4d66-ae76-a66dea6c2287",
   "metadata": {},
   "outputs": [],
   "source": [
    "from langchain.vectorstores import FAISS"
   ]
  },
  {
   "cell_type": "code",
   "execution_count": 67,
   "id": "a67b7929-1b39-47f3-b0ab-d20459a9a34b",
   "metadata": {},
   "outputs": [],
   "source": [
    "loader = PyPDFLoader(\"./data/[이슈리포트 2022-2호] 혁신성장 정책금융 동향.pdf\")\n",
    "pages = loader.load_and_split()\n",
    "\n",
    "text_splitteer = RecursiveCharacterTextSplitter(\n",
    "    chunk_size=500,\n",
    "    chunk_overlap=0,\n",
    "    length_function=tiktoken_len\n",
    ")\n",
    "docs = text_splitteer.split_documents(pages)\n",
    "\n",
    "from langchain.embeddings import HuggingFaceBgeEmbeddings\n",
    "\n",
    "model_name = \"jhgan/ko-sbert-nli\"\n",
    "model_kwargs = {\"device\":\"cuda:0\"}\n",
    "# model_kwargs = {\"device\":\"cpu\"}\n",
    "encode_kwargs = {\"normalize_embeddings\":True}\n",
    "ko = HuggingFaceBgeEmbeddings(\n",
    "    model_name=model_name,\n",
    "    model_kwargs=model_kwargs,\n",
    "    encode_kwargs=encode_kwargs\n",
    ")"
   ]
  },
  {
   "cell_type": "code",
   "execution_count": 68,
   "id": "0dd8a0f1-9084-4cf8-bac7-2cbe3130ef69",
   "metadata": {},
   "outputs": [],
   "source": [
    "db = FAISS.from_documents(docs, ko)"
   ]
  },
  {
   "cell_type": "code",
   "execution_count": 69,
   "id": "792ec565-e916-472a-8730-42ca30ab1b63",
   "metadata": {},
   "outputs": [
    {
     "name": "stdout",
     "output_type": "stream",
     "text": [
      "혁신성장 정책금융 동향 : ICT 산업을 중심으로\n",
      "  CIS이슈리포트 2022-2 호 | 9 |▶다양한 데이터나 복잡한 자료 속에서 핵심적인 특징을 요약하는 ①데이터 추상화 기술, 방대한 지식\n",
      "체계를 이용하는 ②빅데이터 기술, 빅데이터를 처리하기 위한 ③고성능 컴퓨팅 기술이 인공지능 \n",
      "구현의 핵심임\n",
      "￮데이터를 추상화하는 방법은 크게 인공신경망 (ANN), 심층신경망 (DNN), 합성곱신경망 (CNN) 및 \n",
      "순환신경망 (RNN) 등으로 구분됨\n",
      "[인공지능 데이터 추상화 기술]\n",
      "구분 특징 장점 단점\n",
      "인공신경망 (ANN)\n",
      "Artificial Neural \n",
      "Network사람의 신경망 원리와 구조를 모방하여 만든 \n",
      "기계학습 알고리즘으로 , 입력층 , 출력층 , 은닉층\n",
      "으로 구성모든 비선형 함수 \n",
      "학습이 가능알고리즘을 최적화\n",
      "하기 어려운 학습 \n",
      "환경 발생\n",
      "심층신경망 (DNN)\n",
      "Deep Neural \n",
      "Network입력층과 출력층 사이에 2개 이상의 은닉층\n",
      "들로 이뤄진 인공신경망ANN의 문제점 개선학습환경에 따라 \n",
      "높은 시간 복잡도  \n",
      "문제 발생\n",
      "합성곱신경망 (CNN)\n"
     ]
    }
   ],
   "source": [
    "query = \"인공지능 산업구조는 어떻게 구성되어 있어?\"\n",
    "docs = db.similarity_search(query)\n",
    "print(docs[0].page_content)"
   ]
  },
  {
   "cell_type": "code",
   "execution_count": 71,
   "id": "4eaf3d43-8fa7-4070-9f93-faf2e29c2d2d",
   "metadata": {},
   "outputs": [
    {
     "data": {
      "text/plain": [
       "[(Document(page_content='혁신성장 정책금융 동향 : ICT 산업을 중심으로\\n  CIS이슈리포트 2022-2 호 | 9 |▶다양한 데이터나 복잡한 자료 속에서 핵심적인 특징을 요약하는 ①데이터 추상화 기술, 방대한 지식\\n체계를 이용하는 ②빅데이터 기술, 빅데이터를 처리하기 위한 ③고성능 컴퓨팅 기술이 인공지능 \\n구현의 핵심임\\n￮데이터를 추상화하는 방법은 크게 인공신경망 (ANN), 심층신경망 (DNN), 합성곱신경망 (CNN) 및 \\n순환신경망 (RNN) 등으로 구분됨\\n[인공지능 데이터 추상화 기술]\\n구분 특징 장점 단점\\n인공신경망 (ANN)\\nArtificial Neural \\nNetwork사람의 신경망 원리와 구조를 모방하여 만든 \\n기계학습 알고리즘으로 , 입력층 , 출력층 , 은닉층\\n으로 구성모든 비선형 함수 \\n학습이 가능알고리즘을 최적화\\n하기 어려운 학습 \\n환경 발생\\n심층신경망 (DNN)\\nDeep Neural \\nNetwork입력층과 출력층 사이에 2개 이상의 은닉층\\n들로 이뤄진 인공신경망ANN의 문제점 개선학습환경에 따라 \\n높은 시간 복잡도  \\n문제 발생\\n합성곱신경망 (CNN)', metadata={'source': './data/[이슈리포트 2022-2호] 혁신성장 정책금융 동향.pdf', 'page': 8}),\n",
       "  0.70871204),\n",
       " (Document(page_content='| 10 | CIS이슈리포트 2022-2 호 ▶인공지능 산업의 value chain 은 ‘AI 플랫폼 공급업체 → AI 어플리케이션 개발 → AI 응용솔루션  \\n개발 → 이용자 ’로 구성되며 , 동 산업은 ①성장기 산업, ②대체재로부터의 위협이 낮은 산업, ③기\\n술집약적 산업 등의 특징을 가짐\\n￮알고리즘 , 하드웨어 기술개발과 응용솔루션 서비스 상용화가 활발히 진행 중인 성장기 산업이며 , \\n수요 기업의 요구사항에 따라 운영플랫폼을 선택할 수 있는 구매자의 교섭력이 높은 산업임\\n￮직접적인 대체 기술이 없어 대체재로부터 위협이 낮은 편이며 , 알고리즘의 동작원리를 이해하고 맞\\n춤형 서비스를 지원하기 위한 솔루션 개발 능력이 뒷받침 되어야 하는 기술집약적 산업임\\n▶시장조사전문기관 BCC research 에 따르면 세계 인공지능 시장규모는 2020년 398.4 억 달러에서', metadata={'source': './data/[이슈리포트 2022-2호] 혁신성장 정책금융 동향.pdf', 'page': 9}),\n",
       "  0.73254794),\n",
       " (Document(page_content='구분 구조\\n뉴런Ÿ세포체의 자극이 임계치를 넘으면 신경전달물질 발화\\n인공지능\\n(퍼셉트론 )Ÿ활성함수의 계산 결과를 출력\\n자료: 디지에코', metadata={'source': './data/[이슈리포트 2022-2호] 혁신성장 정책금융 동향.pdf', 'page': 7}),\n",
       "  0.82805383),\n",
       " (Document(page_content='| 8 | CIS이슈리포트 2022-2 호 ▶(주요품목 ② : 인공지능 ) 정보통신 테마 내 기술분야 중 정책금융 공급규모 증가율이 가장 높은 \\n능동형컴퓨팅 분야의 경우, 인공지능 품목의 정책금융 공급 비중이 가장 높으며 , 이는 빅데이터 \\n분석기술의 발전으로 인해 인공지능의 활용처가 넓어짐에 따른 것으로 분석됨\\n[능동형컴퓨팅 분야 내 기술품목별 혁신성장 정책금융 공급액 추이]\\n(단위: 억 원)\\n주: 스마트물류시스템 품목은 2021 년부터 신규 품목으로 편임\\n▶인공지능은 인간의 학습능력과 추론·지각능력 , 자연언어 이해능력 등을 프로그램으로 구현한 기술로 , \\n컴퓨터가 인간의 지능적인 행동을 모방하는 방향으로 발전하고 있음\\n￮인공지능은 사람의 두뇌가 복잡한 연산을 수행하는 점을 모방해 뉴런(Neuron) 을 수학적으로 모방한  \\n알고리즘인 퍼셉트론 (Perceptron) 을 이용하여 컴퓨터의 연산 로직을 처리하는 원리로 동작함\\n[인공지능 동작 개념]', metadata={'source': './data/[이슈리포트 2022-2호] 혁신성장 정책금융 동향.pdf', 'page': 7}),\n",
       "  0.830811)]"
      ]
     },
     "execution_count": 71,
     "metadata": {},
     "output_type": "execute_result"
    }
   ],
   "source": [
    "docs_and_scores = db.similarity_search_with_score(query) #점수가 낮을 수록 거리가 가까움\n",
    "docs_and_scores"
   ]
  },
  {
   "cell_type": "code",
   "execution_count": 72,
   "id": "de342aac-943e-4c0c-a02d-739ab41e39c6",
   "metadata": {},
   "outputs": [],
   "source": [
    "db.save_local(\"faiss_index\")"
   ]
  },
  {
   "cell_type": "code",
   "execution_count": 74,
   "id": "cb742b33-8a8f-4ddc-b608-cf154dea23af",
   "metadata": {},
   "outputs": [],
   "source": [
    "new_db = FAISS.load_local(\"faiss_index\", ko)"
   ]
  },
  {
   "cell_type": "code",
   "execution_count": 82,
   "id": "958bb534-dfd2-4e44-90d0-eb1542b5496c",
   "metadata": {},
   "outputs": [
    {
     "name": "stdout",
     "output_type": "stream",
     "text": [
      "질문 : 인공지능 산업구조는 어떻게 구성되어 있어?\n",
      "1번째 유사 문서 유사도 \n",
      "0.4988649096330402\n",
      "====================================================================================================\n",
      "혁신성장 정책금융 동향 : ICT 산업을 중심으로\n",
      "  CIS이슈리포트 2022-2 호 | 9 |▶다양한 데이터나 복잡한 자료 속에서 핵심적인 특징을 요약하는 ①데이터 추상화 기술, 방대한 지식\n",
      "체계를 이용하는 ②빅데이터 기술, 빅데이터를 처리하기 위한 ③고성능 컴퓨팅 기술이 인공지능 \n",
      "구현의 핵심임\n",
      "￮데이터를 추상화하는 방법은 크게 인공신경망 (ANN), 심층신경망 (DNN), 합성곱신경망 (CNN) 및 \n",
      "순환신경망 (RNN) 등으로 구분됨\n",
      "[인공지능 데이터 추상화 기술]\n",
      "구분 특징 장점 단점\n",
      "인공신경망 (ANN)\n",
      "Artificial Neural \n",
      "Network사람의 신경망 원리와 구조를 모방하여 만든 \n",
      "기계학습 알고리즘으로 , 입력층 , 출력층 , 은닉층\n",
      "으로 구성모든 비선형 함수 \n",
      "학습이 가능알고리즘을 최적화\n",
      "하기 어려운 학습 \n",
      "환경 발생\n",
      "심층신경망 (DNN)\n",
      "Deep Neural \n",
      "Network입력층과 출력층 사이에 2개 이상의 은닉층\n",
      "들로 이뤄진 인공신경망ANN의 문제점 개선학습환경에 따라 \n",
      "높은 시간 복잡도  \n",
      "문제 발생\n",
      "합성곱신경망 (CNN)\n",
      "====================================================================================================\n",
      "{'source': './data/[이슈리포트 2022-2호] 혁신성장 정책금융 동향.pdf', 'page': 8}\n",
      "====================================================================================================\n",
      "2번째 유사 문서 유사도 \n",
      "0.48201038491353365\n",
      "====================================================================================================\n",
      "| 10 | CIS이슈리포트 2022-2 호 ▶인공지능 산업의 value chain 은 ‘AI 플랫폼 공급업체 → AI 어플리케이션 개발 → AI 응용솔루션  \n",
      "개발 → 이용자 ’로 구성되며 , 동 산업은 ①성장기 산업, ②대체재로부터의 위협이 낮은 산업, ③기\n",
      "술집약적 산업 등의 특징을 가짐\n",
      "￮알고리즘 , 하드웨어 기술개발과 응용솔루션 서비스 상용화가 활발히 진행 중인 성장기 산업이며 , \n",
      "수요 기업의 요구사항에 따라 운영플랫폼을 선택할 수 있는 구매자의 교섭력이 높은 산업임\n",
      "￮직접적인 대체 기술이 없어 대체재로부터 위협이 낮은 편이며 , 알고리즘의 동작원리를 이해하고 맞\n",
      "춤형 서비스를 지원하기 위한 솔루션 개발 능력이 뒷받침 되어야 하는 기술집약적 산업임\n",
      "▶시장조사전문기관 BCC research 에 따르면 세계 인공지능 시장규모는 2020년 398.4 억 달러에서\n",
      "====================================================================================================\n",
      "{'source': './data/[이슈리포트 2022-2호] 혁신성장 정책금융 동향.pdf', 'page': 9}\n",
      "====================================================================================================\n",
      "3번째 유사 문서 유사도 \n",
      "0.41447752016701234\n",
      "====================================================================================================\n",
      "구분 구조\n",
      "뉴런Ÿ세포체의 자극이 임계치를 넘으면 신경전달물질 발화\n",
      "인공지능\n",
      "(퍼셉트론 )Ÿ활성함수의 계산 결과를 출력\n",
      "자료: 디지에코\n",
      "====================================================================================================\n",
      "{'source': './data/[이슈리포트 2022-2호] 혁신성장 정책금융 동향.pdf', 'page': 7}\n",
      "====================================================================================================\n"
     ]
    }
   ],
   "source": [
    "query = \"인공지능 산업구조는 어떻게 구성되어 있어?\"\n",
    "docs = new_db.similarity_search_with_relevance_scores(query, k=3) # 유사도 기반 \n",
    "print(f\"질문 : {query}\")\n",
    "for i in range(len(docs)):\n",
    "    print(f\"{i+1}번째 유사 문서 유사도 \\n{docs[i][1]}\")\n",
    "    print(\"==\"*50)\n",
    "    print(docs[i][0].page_content)\n",
    "    print(\"==\"*50)\n",
    "    print(docs[i][0].metadata)\n",
    "    print(\"==\"*50)"
   ]
  },
  {
   "cell_type": "code",
   "execution_count": 86,
   "id": "32c105ee-a09c-4308-8873-aa503c4817e7",
   "metadata": {},
   "outputs": [
    {
     "name": "stdout",
     "output_type": "stream",
     "text": [
      "질문 : 인공지능 산업구조는 어떻게 구성되어 있어?\n",
      "1번째 유사 문서 유사도 \n",
      "혁신성장 정책금융 동향 : ICT 산업을 중심으로\n",
      "  CIS이슈리포트 2022-2 호 | 9 |▶다양한 데이터나 복잡한 자료 속에서 핵심적인 특징을 요약하는 ①데이터 추상화 기술, 방대한 지식\n",
      "체계를 이용하는 ②빅데이터 기술, 빅데이터를 처리하기 위한 ③고성능 컴퓨팅 기술이 인공지능 \n",
      "구현의 핵심임\n",
      "￮데이터를 추상화하는 방법은 크게 인공신경망 (ANN), 심층신경망 (DNN), 합성곱신경망 (CNN) 및 \n",
      "순환신경망 (RNN) 등으로 구분됨\n",
      "[인공지능 데이터 추상화 기술]\n",
      "구분 특징 장점 단점\n",
      "인공신경망 (ANN)\n",
      "Artificial Neural \n",
      "Network사람의 신경망 원리와 구조를 모방하여 만든 \n",
      "기계학습 알고리즘으로 , 입력층 , 출력층 , 은닉층\n",
      "으로 구성모든 비선형 함수 \n",
      "학습이 가능알고리즘을 최적화\n",
      "하기 어려운 학습 \n",
      "환경 발생\n",
      "심층신경망 (DNN)\n",
      "Deep Neural \n",
      "Network입력층과 출력층 사이에 2개 이상의 은닉층\n",
      "들로 이뤄진 인공신경망ANN의 문제점 개선학습환경에 따라 \n",
      "높은 시간 복잡도  \n",
      "문제 발생\n",
      "합성곱신경망 (CNN)\n",
      "====================================================================================================\n",
      "{'source': './data/[이슈리포트 2022-2호] 혁신성장 정책금융 동향.pdf', 'page': 8}\n",
      "====================================================================================================\n",
      "2번째 유사 문서 유사도 \n",
      "구분 구조\n",
      "뉴런Ÿ세포체의 자극이 임계치를 넘으면 신경전달물질 발화\n",
      "인공지능\n",
      "(퍼셉트론 )Ÿ활성함수의 계산 결과를 출력\n",
      "자료: 디지에코\n",
      "====================================================================================================\n",
      "{'source': './data/[이슈리포트 2022-2호] 혁신성장 정책금융 동향.pdf', 'page': 7}\n",
      "====================================================================================================\n",
      "3번째 유사 문서 유사도 \n",
      "￮인공지능 기술을 도입하는 산업이 늘어나고 있는 점, 인공지능 분야에 진출하는 스타트업의 증가에 \n",
      "따라 산업의 기술경쟁력이 높아지는 점 등은 시장성장에  촉진요인으로 작용할 전망임\n",
      "￮국내 인공지능 기술에 대한 완성도가 높지 않아 국내기술의 도입처가 제한적인 점, 인공지능이 \n",
      "인간의 고용 영역을 침범할 수 있고 기술의 불안정성으로 인한 사고 발생의 우려가 존재하는 점 등은 \n",
      "시장성장에 저해요인 으로 작용할 전망임\n",
      "====================================================================================================\n",
      "{'source': './data/[이슈리포트 2022-2호] 혁신성장 정책금융 동향.pdf', 'page': 9}\n",
      "====================================================================================================\n"
     ]
    }
   ],
   "source": [
    "query = \"인공지능 산업구조는 어떻게 구성되어 있어?\"\n",
    "docs = new_db.max_marginal_relevance_search(query, k=3) # 유사도 뿐만 아니라 다양성도 추구 \n",
    "\n",
    "print(f\"질문 : {query}\")\n",
    "for i in range(len(docs)):\n",
    "    print(f\"{i+1}번째 유사 문서 유사도 \\n{docs[i].page_content}\")\n",
    "    print(\"==\"*50)\n",
    "    print(docs[i].metadata)\n",
    "    print(\"==\"*50)"
   ]
  },
  {
   "cell_type": "code",
   "execution_count": 88,
   "id": "8c71a744-d5f3-4f81-9c23-ea3c60cc69a9",
   "metadata": {},
   "outputs": [
    {
     "name": "stdout",
     "output_type": "stream",
     "text": [
      "질문 : 5G 이동통신 시스템은?\n",
      "====================================================================================================\n",
      "1번째 유사 문서 유사도 \n",
      "확장, ②스몰셀 (Small cell)을 도입한 기지국 , ③다중안테나 송수신 (Massive MIMO), ④네트워크 \n",
      "슬라이싱 (Network Slicing) 등의 기술을 도입함\n",
      "[5G 주요 요소기술 특징]\n",
      "자료: 삼정 KPMG\n",
      "====================================================================================================\n",
      "{'source': './data/[이슈리포트 2022-2호] 혁신성장 정책금융 동향.pdf', 'page': 5}\n",
      "====================================================================================================\n",
      "2번째 유사 문서 유사도 \n",
      "| 4 | CIS이슈리포트 2022-2 호 [혁신성장 ICT 산업 정책금융 공급 현황]\n",
      "                                                            (단위: 억 원, 괄호는 점유율 %)\n",
      "구분 2017 년 말 2018 년 말 2019 년 말 2020 년 말 2021 년 말\n",
      "혁신성장 ICT 산업45,075 72,799 81,805 139,687 169,089 \n",
      "(18.7) (20.7) (18.5) (20.3) (19.8)\n",
      "정보통신15,658 27,417 39,033 65,324 77,750 \n",
      "(6.5) (7.8) (8.8) (9.5) (9.1)\n",
      "전기전자26,637 38,521 35,922 62,856 77,485 \n",
      "(11.1) (10.9) (8.1) (9.1) (9.1)\n",
      "센서측정2,780 6,861 6,851 11,506 13,854 \n",
      "(1.2) (1.9) (1.5) (1.7) (1.6)\n",
      "혁신성장 정책금융 \n",
      "총 공급액240,787 351,987 443,180 688,409 854,338 \n",
      "3. 정보통신 테마 혁신성장 정책금융 현황 및 관련 산업 동향\n",
      "▶(지원 현황) 정보통신 테마를 구성하는 기술분야별 정책금융 지원 현황 분석결과 , 공급점유율 관점\n",
      "====================================================================================================\n",
      "{'source': './data/[이슈리포트 2022-2호] 혁신성장 정책금융 동향.pdf', 'page': 3}\n",
      "====================================================================================================\n",
      "3번째 유사 문서 유사도 \n",
      "￮전체 네트워크 설계역량이 경쟁력의 핵심요소이며 , 지속적인 제품 개발능력과 고객을 만족시키기 \n",
      "위한 마케팅 활동 등에서 차별적 경쟁우위를 확보하는 것이 중요한 경쟁요소임\n",
      "▶시장조사전문기관 Technavio 에 따르면 세계 5G 이동통신 시스템 시장규모는 2020년 494.4 억 \n",
      "달러에서 연평균 32.0% 성장하여 2025년에는 1,982 억 달러의 시장을 시현할 것으로 전망됨\n",
      "￮5G 상용화 서비스가 본격화됨에 따라 국내 5G 통신서비스 가입자 수는 매년 증가하고 있는 추세임\n",
      "      * (‘19년 말)4,668,154 명 → (’20년 말)11,851,373 명  → (’21년 말)20,915,176 명 (출처: 과학기술정보통신부 )\n",
      "[세계 5G 이동통신 시스템 시장규모 ]\n",
      "                                                            (단위: 억 달러, 괄호는 YoY %)\n",
      "구분 2020 2021 2022 2023 2024 2025CAGR\n",
      "(2020-2025)\n",
      "5G이동통신 \n",
      "시스템494.4 645.1 815.5 1,063.5 1,429.1 1,982.0 32.0%\n",
      "　 (30.5) (26.4) (30.4) (34.4) (38.7)\n",
      "====================================================================================================\n",
      "{'source': './data/[이슈리포트 2022-2호] 혁신성장 정책금융 동향.pdf', 'page': 6}\n"
     ]
    }
   ],
   "source": [
    "query = \"5G 이동통신 시스템은?\"\n",
    "docs = new_db.max_marginal_relevance_search(query, k=3, fetch_k = 10, lambda_mult=0.3) # 유사도 뿐만 아니라 다양성도 추구 \n",
    "\n",
    "print(f\"질문 : {query}\")\n",
    "for i in range(len(docs)):\n",
    "    print(\"==\"*50)\n",
    "    print(f\"{i+1}번째 유사 문서 유사도 \\n{docs[i].page_content}\")\n",
    "    print(\"==\"*50)\n",
    "    print(docs[i].metadata)"
   ]
  }
 ],
 "metadata": {
  "kernelspec": {
   "display_name": "Python 3 (ipykernel)",
   "language": "python",
   "name": "python3"
  },
  "language_info": {
   "codemirror_mode": {
    "name": "ipython",
    "version": 3
   },
   "file_extension": ".py",
   "mimetype": "text/x-python",
   "name": "python",
   "nbconvert_exporter": "python",
   "pygments_lexer": "ipython3",
   "version": "3.10.9"
  },
  "toc": {
   "base_numbering": 1,
   "nav_menu": {},
   "number_sections": true,
   "sideBar": true,
   "skip_h1_title": false,
   "title_cell": "Table of Contents",
   "title_sidebar": "Contents",
   "toc_cell": false,
   "toc_position": {},
   "toc_section_display": true,
   "toc_window_display": false
  },
  "widgets": {
   "application/vnd.jupyter.widget-state+json": {
    "state": {},
    "version_major": 2,
    "version_minor": 0
   }
  }
 },
 "nbformat": 4,
 "nbformat_minor": 5
}
