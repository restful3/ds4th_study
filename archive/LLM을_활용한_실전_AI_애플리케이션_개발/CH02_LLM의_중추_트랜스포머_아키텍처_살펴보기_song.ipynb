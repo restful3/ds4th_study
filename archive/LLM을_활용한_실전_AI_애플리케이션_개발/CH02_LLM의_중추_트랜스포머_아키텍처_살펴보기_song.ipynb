{
 "cells": [
  {
   "cell_type": "markdown",
   "metadata": {},
   "source": [
    "## 예제2.1 토큰화 코드 "
   ]
  },
  {
   "cell_type": "code",
   "execution_count": 1,
   "metadata": {},
   "outputs": [
    {
     "name": "stdout",
     "output_type": "stream",
     "text": [
      "input_text_list:  ['나는', '최근', '파리', '여행을', '다녀왔다']\n",
      "str2idx:  {'나는': 0, '최근': 1, '파리': 2, '여행을': 3, '다녀왔다': 4}\n",
      "idx2str:  {0: '나는', 1: '최근', 2: '파리', 3: '여행을', 4: '다녀왔다'}\n",
      "input_ids:  [0, 1, 2, 3, 4]\n"
     ]
    }
   ],
   "source": [
    "# 띄어쓰기 단위로 분리\n",
    "input_text = \"나는 최근 파리 여행을 다녀왔다\"\n",
    "input_text_list = input_text.split()\n",
    "print(\"input_text_list: \", input_text_list)\n",
    "\n",
    "# 토큰 -> 아이디 딕셔너리와 아이디 -> 토큰 딕셔너리 만들기\n",
    "str2idx = {word:idx for idx, word in enumerate(input_text_list)}\n",
    "idx2str = {idx:word for idx, word in enumerate(input_text_list)}\n",
    "print(\"str2idx: \", str2idx)\n",
    "print(\"idx2str: \", idx2str)\n",
    "\n",
    "# 토큰을 토큰 아이디로 변환\n",
    "input_ids = [str2idx[word] for word in input_text_list]\n",
    "print(\"input_ids: \", input_ids)"
   ]
  },
  {
   "cell_type": "markdown",
   "metadata": {},
   "source": [
    "## 예제 2.2 토큰 아이디에서 벡터로 변환"
   ]
  },
  {
   "cell_type": "code",
   "execution_count": 2,
   "metadata": {},
   "outputs": [
    {
     "data": {
      "text/plain": [
       "torch.Size([1, 5, 16])"
      ]
     },
     "execution_count": 2,
     "metadata": {},
     "output_type": "execute_result"
    }
   ],
   "source": [
    "import torch\n",
    "import torch.nn as nn\n",
    "\n",
    "embedding_dim = 16\n",
    "embed_layer = nn.Embedding(len(str2idx), embedding_dim)\n",
    "\n",
    "input_embeddings = embed_layer(torch.tensor(input_ids)) # (5, 16)\n",
    "input_embeddings = input_embeddings.unsqueeze(0) # (1, 5, 16)\n",
    "input_embeddings.shape"
   ]
  },
  {
   "cell_type": "code",
   "execution_count": 3,
   "metadata": {},
   "outputs": [
    {
     "data": {
      "text/plain": [
       "tensor([[[ 5.0336e-02,  2.9919e-01,  4.8854e-01, -1.2208e+00, -1.5991e-01,\n",
       "           9.5425e-01,  1.5653e+00, -1.7314e+00,  6.7242e-01,  2.2700e-03,\n",
       "          -1.2909e+00,  1.5111e+00,  7.8708e-01, -5.3714e-01,  8.9638e-01,\n",
       "          -2.8776e-01],\n",
       "         [ 1.8069e-01, -1.3104e+00, -2.5331e+00,  1.0643e+00, -7.6283e-01,\n",
       "           3.9897e-01,  3.4030e-01, -2.4216e-01, -6.9131e-01, -2.5506e-01,\n",
       "           6.1183e-01, -9.9394e-01, -2.4111e-01,  2.8682e-01, -2.2687e-02,\n",
       "           1.0095e+00],\n",
       "         [ 1.0018e+00,  9.4114e-01,  2.7150e-01, -1.5196e-01, -1.6213e-01,\n",
       "           1.8214e-01,  8.1594e-01, -7.0765e-02,  9.5699e-01, -1.5790e+00,\n",
       "           1.1889e+00, -4.1294e-01,  9.2490e-01,  2.8000e-01,  1.1623e+00,\n",
       "          -6.7500e-01],\n",
       "         [-1.0234e+00, -1.6055e+00, -1.6431e-01,  2.6785e-02,  5.7909e-01,\n",
       "           6.7505e-01,  2.1682e+00,  7.2853e-01,  4.1666e-01, -6.8641e-01,\n",
       "          -2.1802e-01, -5.8620e-02,  2.6941e-01,  4.0510e-01, -4.6775e-01,\n",
       "          -1.0920e+00],\n",
       "         [ 2.6368e-02, -2.5210e-01,  1.6294e+00,  2.3520e+00,  4.6126e-02,\n",
       "          -3.4601e-02, -1.4900e+00, -1.1182e+00,  1.7368e+00,  1.0186e-02,\n",
       "          -7.2546e-01,  1.0418e+00,  2.0530e+00, -1.6929e+00, -1.1731e+00,\n",
       "           3.8449e-01]]], grad_fn=<UnsqueezeBackward0>)"
      ]
     },
     "execution_count": 3,
     "metadata": {},
     "output_type": "execute_result"
    }
   ],
   "source": [
    "input_embeddings"
   ]
  },
  {
   "cell_type": "markdown",
   "metadata": {},
   "source": [
    "## 예제 2.3 절대적 위치 인코딩"
   ]
  },
  {
   "cell_type": "code",
   "execution_count": 4,
   "metadata": {},
   "outputs": [
    {
     "data": {
      "text/plain": [
       "torch.Size([1, 5, 16])"
      ]
     },
     "execution_count": 4,
     "metadata": {},
     "output_type": "execute_result"
    }
   ],
   "source": [
    "embedding_dim = 16\n",
    "max_position = 12\n",
    "# 토큰 임베딩 층 생성\n",
    "embed_layer = nn.Embedding(len(str2idx), embedding_dim)\n",
    "# 위치 인코딩 층 생성\n",
    "position_embed_layer = nn.Embedding(max_position, embedding_dim)\n",
    "\n",
    "position_ids = torch.arange(len(input_ids), dtype=torch.long).unsqueeze(0)\n",
    "position_encodings = position_embed_layer(position_ids)\n",
    "token_embeddings = embed_layer(torch.tensor(input_ids)) # (5, 16)\n",
    "token_embeddings = token_embeddings.unsqueeze(0) # (1, 5, 16)\n",
    "# 토큰 임베딩과 위치 인코딩을 더해 최종 입력 임베딩 생성\n",
    "input_embeddings = token_embeddings + position_encodings\n",
    "input_embeddings.shape"
   ]
  },
  {
   "cell_type": "code",
   "execution_count": 5,
   "metadata": {},
   "outputs": [
    {
     "data": {
      "text/plain": [
       "tensor([[ 1.5433,  1.2280, -1.0297,  1.5270, -1.5361, -0.5542,  0.7781, -0.4501,\n",
       "          0.7248, -1.0035,  1.4972, -0.0194,  0.5586,  0.2413, -0.7455, -0.4547],\n",
       "        [ 0.7163, -0.5858,  0.3381, -0.6159, -0.9343,  1.5423, -0.5425, -0.8263,\n",
       "          1.5400, -2.6927, -1.6165, -1.4989,  1.0501,  1.2490,  0.1997,  1.2883],\n",
       "        [-1.8502,  2.7743, -1.3057,  1.0715,  1.0108,  1.5909,  1.0176,  1.0362,\n",
       "         -3.5778, -0.7900,  1.5996, -0.9310,  0.3907, -1.2328, -0.5081, -0.5500],\n",
       "        [-0.5528, -1.4244, -0.5564, -0.7580, -0.1572,  0.2040, -2.0029,  2.1319,\n",
       "          1.3805,  1.6805, -1.2635,  0.1477, -0.3059,  1.3573,  1.4138,  0.6202],\n",
       "        [ 1.4873,  2.7248, -0.5334,  1.8302, -0.0715,  0.2174, -0.9959, -0.5355,\n",
       "          0.1605,  1.5293,  1.6743,  1.4735,  0.4054,  0.7705, -0.0241, -1.9884]],\n",
       "       grad_fn=<SelectBackward0>)"
      ]
     },
     "execution_count": 5,
     "metadata": {},
     "output_type": "execute_result"
    }
   ],
   "source": [
    "input_embeddings[0]"
   ]
  },
  {
   "cell_type": "markdown",
   "metadata": {},
   "source": [
    "## 예제 2.4 쿼리, 키, 값 벡터를 만드는 nn.Linear 층"
   ]
  },
  {
   "cell_type": "code",
   "execution_count": 6,
   "metadata": {},
   "outputs": [],
   "source": [
    "head_dim = 16\n",
    "\n",
    "# 쿼리, 키, 값을 계산하기 위한 변환\n",
    "weight_q = nn.Linear(embedding_dim, head_dim)\n",
    "weight_k = nn.Linear(embedding_dim, head_dim)\n",
    "weight_v = nn.Linear(embedding_dim, head_dim)\n",
    "# 변환 수행\n",
    "querys = weight_q(input_embeddings) # (1, 5, 16)\n",
    "keys = weight_k(input_embeddings) # (1, 5, 16)\n",
    "values = weight_v(input_embeddings) # (1, 5, 16)"
   ]
  },
  {
   "cell_type": "code",
   "execution_count": 7,
   "metadata": {},
   "outputs": [
    {
     "data": {
      "text/plain": [
       "Linear(in_features=16, out_features=16, bias=True)"
      ]
     },
     "execution_count": 7,
     "metadata": {},
     "output_type": "execute_result"
    }
   ],
   "source": [
    "weight_q"
   ]
  },
  {
   "cell_type": "code",
   "execution_count": 8,
   "metadata": {},
   "outputs": [
    {
     "data": {
      "text/plain": [
       "torch.Size([1, 5, 16])"
      ]
     },
     "execution_count": 8,
     "metadata": {},
     "output_type": "execute_result"
    }
   ],
   "source": [
    "input_embeddings.shape"
   ]
  },
  {
   "cell_type": "code",
   "execution_count": 9,
   "metadata": {},
   "outputs": [
    {
     "data": {
      "text/plain": [
       "torch.Size([1, 5, 16])"
      ]
     },
     "execution_count": 9,
     "metadata": {},
     "output_type": "execute_result"
    }
   ],
   "source": [
    "querys.shape"
   ]
  },
  {
   "cell_type": "markdown",
   "metadata": {},
   "source": [
    "## 예제 2.5. 스케일 점곱 방식의 어텐션"
   ]
  },
  {
   "cell_type": "code",
   "execution_count": 10,
   "metadata": {},
   "outputs": [],
   "source": [
    "from math import sqrt\n",
    "import torch.nn.functional as F\n",
    "\n",
    "def compute_attention(querys, keys, values, is_causal=False):\n",
    "\t# 쿼리의 마지막 차원 크기를 가져옴 (head_dim)\n",
    "\tdim_k = querys.size(-1) # 16\n",
    "\t# 쿼리와 키의 내적을 계산하고 스케일링 수행\n",
    "\tscores = querys @ keys.transpose(-2, -1) / sqrt(dim_k)\n",
    "\t# 소프트맥스를 통해 어텐션 가중치 계산\n",
    "\tweights = F.softmax(scores, dim=-1)\n",
    "\t# 가중치와 값을 곱해 최종 어텐션 결과 반환\n",
    "\treturn weights @ values"
   ]
  },
  {
   "cell_type": "markdown",
   "metadata": {},
   "source": [
    "## 예제 2.6. 어텐션 연산의 입력과 출력"
   ]
  },
  {
   "cell_type": "code",
   "execution_count": 11,
   "metadata": {},
   "outputs": [
    {
     "name": "stdout",
     "output_type": "stream",
     "text": [
      "원본 입력 형태:  torch.Size([1, 5, 16])\n",
      "어텐션 적용 후 형태:  torch.Size([1, 5, 16])\n"
     ]
    }
   ],
   "source": [
    "print(\"원본 입력 형태: \", input_embeddings.shape)\n",
    "\n",
    "after_attention_embeddings = compute_attention(querys, keys, values)\n",
    "\n",
    "print(\"어텐션 적용 후 형태: \", after_attention_embeddings.shape)\n",
    "# 원본 입력 형태:  torch.Size([1, 5, 16])\n",
    "# 어텐션 적용 후 형태:  torch.Size([1, 5, 16])"
   ]
  },
  {
   "cell_type": "markdown",
   "metadata": {},
   "source": [
    "## 예제 2.7. 어텐션 연산을 수행하는 AttentionHead 클래스"
   ]
  },
  {
   "cell_type": "code",
   "execution_count": 12,
   "metadata": {},
   "outputs": [],
   "source": [
    "class AttentionHead(nn.Module):\n",
    "  def __init__(self, token_embed_dim, head_dim, is_causal=False):\n",
    "    super().__init__()\n",
    "    self.is_causal = is_causal\n",
    "    self.weight_q = nn.Linear(token_embed_dim, head_dim) # 쿼리 벡터 생성을 위한 선형 층\n",
    "    self.weight_k = nn.Linear(token_embed_dim, head_dim) # 키 벡터 생성을 위한 선형 층\n",
    "    self.weight_v = nn.Linear(token_embed_dim, head_dim) # 값 벡터 생성을 위한 선형 층\n",
    "\n",
    "  def forward(self, querys, keys, values):\n",
    "    outputs = compute_attention(\n",
    "        self.weight_q(querys),  # 쿼리 벡터\n",
    "        self.weight_k(keys),    # 키 벡터\n",
    "        self.weight_v(values),  # 값 벡터\n",
    "        is_causal=self.is_causal\n",
    "    )\n",
    "    return outputs\n",
    "\n",
    "attention_head = AttentionHead(embedding_dim, embedding_dim)\n",
    "after_attention_embeddings = attention_head(input_embeddings, input_embeddings, input_embeddings)"
   ]
  },
  {
   "cell_type": "markdown",
   "metadata": {},
   "source": [
    "## 예제 2.8. 멀티 헤드 어텐션 구현"
   ]
  },
  {
   "cell_type": "code",
   "execution_count": 13,
   "metadata": {},
   "outputs": [
    {
     "data": {
      "text/plain": [
       "torch.Size([1, 5, 16])"
      ]
     },
     "execution_count": 13,
     "metadata": {},
     "output_type": "execute_result"
    }
   ],
   "source": [
    "class MultiheadAttention(nn.Module):\n",
    "  def __init__(self, token_embed_dim, d_model, n_head, is_causal=False):\n",
    "    super().__init__()\n",
    "    # 헤드의 개수와 인과성 마스킹 여부를 저장\n",
    "    self.n_head = n_head\n",
    "    self.is_causal = is_causal\n",
    "    # 쿼리, 키, 값 벡터를 생성하기 위한 선형 층\n",
    "    self.weight_q = nn.Linear(token_embed_dim, d_model)\n",
    "    self.weight_k = nn.Linear(token_embed_dim, d_model)\n",
    "    self.weight_v = nn.Linear(token_embed_dim, d_model)\n",
    "    # 멀티 헤드의 출력을 합치고 변환하기 위한 선형 층\n",
    "    self.concat_linear = nn.Linear(d_model, d_model)\n",
    "\n",
    "  def forward(self, querys, keys, values):\n",
    "    # 입력 텐서의 크기를 가져옴 (배치 크기, 시퀀스 길이, 임베딩 차원)\n",
    "    B, T, C = querys.size()\n",
    "    # 쿼리, 키, 값 벡터를 각각의 헤드로 분할하고 차원을 재배열\n",
    "    querys = self.weight_q(querys).view(B, T, self.n_head, C // self.n_head).transpose(1, 2)\n",
    "    keys = self.weight_k(keys).view(B, T, self.n_head, C // self.n_head).transpose(1, 2)\n",
    "    values = self.weight_v(values).view(B, T, self.n_head, C // self.n_head).transpose(1, 2)\n",
    "    # 어텐션 연산 수행\n",
    "    attention = compute_attention(querys, keys, values, self.is_causal)\n",
    "    # 어텐션 결과를 원래 차원으로 되돌리고 연결\n",
    "    output = attention.transpose(1, 2).contiguous().view(B, T, C)\n",
    "    # 최종 선형 변환 적용\n",
    "    output = self.concat_linear(output)\n",
    "    return output\n",
    "\n",
    "# 4개의 어텐션 헤드 사용\n",
    "n_head = 4\n",
    "# 멀티헤드 어텐션 객체 생성\n",
    "mh_attention = MultiheadAttention(embedding_dim, embedding_dim, n_head)\n",
    "# 입력에 대해 멀티헤드 어텐션 연산 수행\n",
    "after_attention_embeddings = mh_attention(input_embeddings, input_embeddings, input_embeddings)\n",
    "after_attention_embeddings.shape"
   ]
  },
  {
   "cell_type": "markdown",
   "metadata": {},
   "source": [
    "## 예제 2.9. 층 정규화 코드"
   ]
  },
  {
   "cell_type": "code",
   "execution_count": 14,
   "metadata": {},
   "outputs": [
    {
     "data": {
      "text/plain": [
       "torch.Size([1, 5, 16])"
      ]
     },
     "execution_count": 14,
     "metadata": {},
     "output_type": "execute_result"
    }
   ],
   "source": [
    "norm = nn.LayerNorm(embedding_dim)\n",
    "norm_x = norm(input_embeddings)\n",
    "norm_x.shape # torch.Size([1, 5, 16])"
   ]
  },
  {
   "cell_type": "code",
   "execution_count": 15,
   "metadata": {},
   "outputs": [
    {
     "data": {
      "text/plain": [
       "(tensor([[-7.4506e-09,  7.4506e-09,  1.1176e-08,  1.4901e-08,  0.0000e+00]]),\n",
       " tensor([[1.0328, 1.0328, 1.0328, 1.0328, 1.0328]]))"
      ]
     },
     "execution_count": 15,
     "metadata": {},
     "output_type": "execute_result"
    }
   ],
   "source": [
    "norm_x.mean(dim=-1).data, norm_x.std(dim=-1).data\n",
    "\n",
    "# (tensor([[ 2.2352e-08, -1.1176e-08, -7.4506e-09, -3.9116e-08, -1.8626e-08]]),\n",
    "#  tensor([[1.0328, 1.0328, 1.0328, 1.0328, 1.0328]]))"
   ]
  },
  {
   "cell_type": "markdown",
   "metadata": {},
   "source": [
    "## 예제 2.10. 피드 포워드 층 코드"
   ]
  },
  {
   "cell_type": "code",
   "execution_count": 16,
   "metadata": {},
   "outputs": [],
   "source": [
    "class PreLayerNormFeedForward(nn.Module):\n",
    "  def __init__(self, d_model, dim_feedforward, dropout):\n",
    "    super().__init__()\n",
    "    self.linear1 = nn.Linear(d_model, dim_feedforward) # 선형 층 1\n",
    "    self.linear2 = nn.Linear(dim_feedforward, d_model) # 선형 층 2\n",
    "    self.dropout1 = nn.Dropout(dropout) # 드랍아웃 층 1\n",
    "    self.dropout2 = nn.Dropout(dropout) # 드랍아웃 층 2\n",
    "    self.activation = nn.GELU() # 활성 함수\n",
    "    self.norm = nn.LayerNorm(d_model) # 층 정규화\n",
    "\n",
    "  def forward(self, src):\n",
    "    x = self.norm(src)\n",
    "    x = x + self.linear2(self.dropout1(self.activation(self.linear1(x))))\n",
    "    x = self.dropout2(x)\n",
    "    return x"
   ]
  },
  {
   "cell_type": "markdown",
   "metadata": {},
   "source": [
    "## 예제 2.11. 인코더 층"
   ]
  },
  {
   "cell_type": "code",
   "execution_count": 17,
   "metadata": {},
   "outputs": [],
   "source": [
    "class TransformerEncoderLayer(nn.Module):\n",
    "  def __init__(self, d_model, nhead, dim_feedforward, dropout):\n",
    "    super().__init__()\n",
    "    self.attn = MultiheadAttention(d_model, d_model, nhead) # 트랜스포머 인코더의 멀티헤드 어텐션 계층\n",
    "    self.norm1 = nn.LayerNorm(d_model) # 입력값을 정규화하는 층 정규화 계층\n",
    "    self.dropout1 = nn.Dropout(dropout) # 과적합 방지를 위한 드롭아웃 계층\n",
    "    self.feed_forward = PreLayerNormFeedForward(d_model, dim_feedforward, dropout) # 피드포워드 신경망 계층\n",
    "\n",
    "  def forward(self, src):\n",
    "    norm_x = self.norm1(src) # 입력값 정규화\n",
    "    attn_output = self.attn(norm_x, norm_x, norm_x) # 셀프 어텐션 수행\n",
    "    x = src + self.dropout1(attn_output) # 잔차 연결로 어텐션 결과를 원본 입력과 더함\n",
    "\n",
    "    # 피드포워드 신경망을 통과\n",
    "    x = self.feed_forward(x) # 피드포워드 계층에서 특징 추출\n",
    "    return x"
   ]
  },
  {
   "cell_type": "markdown",
   "metadata": {},
   "source": [
    "## 예제 2.12. 인코더 구현"
   ]
  },
  {
   "cell_type": "code",
   "execution_count": 18,
   "metadata": {},
   "outputs": [],
   "source": [
    "import copy\n",
    "\n",
    "# 모듈의 복사본을 N개 생성하는 함수\n",
    "def get_clones(module, N):\n",
    "  return nn.ModuleList([copy.deepcopy(module) for i in range(N)])\n",
    "\n",
    "# 트랜스포머 인코더 클래스 정의\n",
    "class TransformerEncoder(nn.Module):\n",
    "  def __init__(self, encoder_layer, num_layers):\n",
    "    super().__init__()\n",
    "    # 인코더 층을 num_layers만큼 복제\n",
    "    self.layers = get_clones(encoder_layer, num_layers)\n",
    "    self.num_layers = num_layers # 인코더 층의 개수\n",
    "    self.norm = norm # 층 정규화\n",
    "\n",
    "  def forward(self, src):\n",
    "    output = src\n",
    "    # 각 인코더 층을 순차적으로 통과\n",
    "    for mod in self.layers:\n",
    "        output = mod(output)\n",
    "    return output"
   ]
  },
  {
   "cell_type": "markdown",
   "metadata": {},
   "source": [
    "## 예제 2.13. 디코더에서 어텐션 연산(마스크 어텐션)"
   ]
  },
  {
   "cell_type": "code",
   "execution_count": 19,
   "metadata": {},
   "outputs": [],
   "source": [
    "def compute_attention(querys, keys, values, is_causal=False):\n",
    "    # 어텐션 스코어를 계산하기 위한 차원 크기 추출\n",
    "    dim_k = querys.size(-1) # 16\n",
    "    \n",
    "    # 어텐션 스코어 계산: Q * K^T / sqrt(d_k)\n",
    "    scores = querys @ keys.transpose(-2, -1) / sqrt(dim_k) # (1, 5, 5)\n",
    "    \n",
    "    # 인과적 마스킹(Causal Masking) 적용\n",
    "    if is_causal:\n",
    "        # 쿼리와 키의 시퀀스 길이 추출\n",
    "        query_length = querys.size(2)\n",
    "        key_length = keys.size(2)\n",
    "        \n",
    "        # 하삼각 행렬 마스크 생성\n",
    "        temp_mask = torch.ones(query_length, key_length, dtype=torch.bool).tril(diagonal=0)\n",
    "        \n",
    "        # 마스크를 적용하여 미래 토큰에 대한 어텐션을 차단\n",
    "        scores = scores.masked_fill(temp_mask == False, float(\"-inf\"))\n",
    "    \n",
    "    # 소프트맥스를 통한 어텐션 가중치 계산\n",
    "    weights = F.softmax(scores, dim=-1) # (1, 5, 5)\n",
    "    \n",
    "    # 가중치와 값을 곱하여 최종 어텐션 결과 반환\n",
    "    return weights @ values # (1, 5, 16)"
   ]
  },
  {
   "cell_type": "markdown",
   "metadata": {},
   "source": [
    "## 예제 2.14. 크로스 어텐션이 포함된 디코더 층"
   ]
  },
  {
   "cell_type": "code",
   "execution_count": 21,
   "metadata": {},
   "outputs": [],
   "source": [
    "class TransformerDecoderLayer(nn.Module):\n",
    "  \"\"\"트랜스포머 디코더 층 클래스\n",
    "  \n",
    "  Args:\n",
    "      d_model: 모델의 차원 크기\n",
    "      nhead: 멀티헤드 어텐션의 헤드 수\n",
    "      dim_feedforward: 피드포워드 신경망의 은닉층 차원\n",
    "      dropout: 드롭아웃 비율\n",
    "  \"\"\"\n",
    "  def __init__(self, d_model, nhead, dim_feedforward=2048, dropout=0.1):\n",
    "    super().__init__()\n",
    "    # 셀프 어텐션 층\n",
    "    self.self_attn = MultiheadAttention(d_model, d_model, nhead)\n",
    "    # 크로스 어텐션 층 \n",
    "    self.multihead_attn = MultiheadAttention(d_model, d_model, nhead)\n",
    "    # 피드포워드 신경망\n",
    "    self.feed_forward = PreLayerNormFeedForward(d_model, dim_feedforward, dropout)\n",
    "\n",
    "    # 층 정규화\n",
    "    self.norm1 = nn.LayerNorm(d_model)\n",
    "    self.norm2 = nn.LayerNorm(d_model)\n",
    "    # 드롭아웃\n",
    "    self.dropout1 = nn.Dropout(dropout)\n",
    "    self.dropout2 = nn.Dropout(dropout)\n",
    "\n",
    "  def forward(self, tgt, encoder_output, is_causal=True):\n",
    "    \"\"\"\n",
    "    Args:\n",
    "        tgt: 디코더 입력 텐서\n",
    "        encoder_output: 인코더의 출력 텐서\n",
    "        is_causal: 인과적 마스킹 사용 여부\n",
    "    \"\"\"\n",
    "    # 셀프 어텐션 연산\n",
    "    x = self.norm1(tgt)\n",
    "    x = x + self.dropout1(self.self_attn(x, x, x, is_causal=is_causal))\n",
    "    # 크로스 어텐션 연산\n",
    "    x = self.norm2(x)\n",
    "    x = x + self.dropout2(self.multihead_attn(x, encoder_output, encoder_output))\n",
    "    # 피드 포워드 연산\n",
    "    x = self.feed_forward(x)\n",
    "    return x"
   ]
  },
  {
   "cell_type": "markdown",
   "metadata": {},
   "source": [
    "## 예제 2.15. 디코더 구현"
   ]
  },
  {
   "cell_type": "code",
   "execution_count": 22,
   "metadata": {},
   "outputs": [],
   "source": [
    "import copy\n",
    "def get_clones(module, N):\n",
    "  return nn.ModuleList([copy.deepcopy(module) for i in range(N)])\n",
    "\n",
    "class TransformerDecoder(nn.Module):\n",
    "  def __init__(self, decoder_layer, num_layers):\n",
    "    super().__init__()\n",
    "    self.layers = get_clones(decoder_layer, num_layers)\n",
    "    self.num_layers = num_layers\n",
    "\n",
    "  def forward(self, tgt, src):\n",
    "    output = tgt\n",
    "    for mod in self.layers:\n",
    "        output = mod(tgt, src)\n",
    "    return output"
   ]
  }
 ],
 "metadata": {
  "kernelspec": {
   "display_name": "nlp",
   "language": "python",
   "name": "python3"
  },
  "language_info": {
   "codemirror_mode": {
    "name": "ipython",
    "version": 3
   },
   "file_extension": ".py",
   "mimetype": "text/x-python",
   "name": "python",
   "nbconvert_exporter": "python",
   "pygments_lexer": "ipython3",
   "version": "3.10.15"
  }
 },
 "nbformat": 4,
 "nbformat_minor": 2
}
