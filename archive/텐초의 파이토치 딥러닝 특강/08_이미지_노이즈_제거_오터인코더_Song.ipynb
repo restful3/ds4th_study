{
 "cells": [
  {
   "cell_type": "markdown",
   "id": "716d95bb",
   "metadata": {},
   "source": [
    "# 데이터 살펴보기"
   ]
  },
  {
   "cell_type": "code",
   "execution_count": 37,
   "id": "74a41251",
   "metadata": {},
   "outputs": [],
   "source": [
    "import matplotlib.pyplot as plt\n",
    "import numpy as np\n",
    "import torch\n",
    "\n",
    "from torchvision.datasets.mnist import MNIST\n",
    "from torchvision.transforms import ToTensor\n",
    "\n",
    "def gaussian_noise(x, scale=0.8):\n",
    "    gaussian_data_x = x + np.random.normal(\n",
    "        loc=0,\n",
    "        scale=scale,\n",
    "        size=x.shape\n",
    "    )\n",
    "    gaussian_data_x = np.clip(\n",
    "        gaussian_data_x, 0, 1\n",
    "    )\n",
    "    gaussian_data_x = torch.tensor(gaussian_data_x)\n",
    "    gaussian_data_x = gaussian_data_x.type(torch.FloatTensor)\n",
    "    return gaussian_data_x"
   ]
  },
  {
   "cell_type": "code",
   "execution_count": 38,
   "id": "b24895a3",
   "metadata": {},
   "outputs": [
    {
     "data": {
      "text/plain": [
       "array([0.85492483, 1.        , 1.        , 1.        ])"
      ]
     },
     "execution_count": 38,
     "metadata": {},
     "output_type": "execute_result"
    }
   ],
   "source": [
    "a = np.array([1, 2, 3, 4])\n",
    "a = a + np.random.normal(\n",
    "        loc=0,\n",
    "        scale=0.5,\n",
    "        size=a.shape\n",
    "    )\n",
    "np.clip(a, 0, 1)"
   ]
  },
  {
   "cell_type": "code",
   "execution_count": 39,
   "id": "a486a13d",
   "metadata": {
    "scrolled": true
   },
   "outputs": [
    {
     "name": "stderr",
     "output_type": "stream",
     "text": [
      "/tmp/ipykernel_37258/375459002.py:17: UserWarning: To copy construct from a tensor, it is recommended to use sourceTensor.clone().detach() or sourceTensor.clone().detach().requires_grad_(True), rather than torch.tensor(sourceTensor).\n",
      "  gaussian_data_x = torch.tensor(gaussian_data_x)\n"
     ]
    }
   ],
   "source": [
    "train_data = MNIST(\n",
    "    root='/home/restful3/datasets/torch',\n",
    "    train=True,\n",
    "    download=True,\n",
    "    transform=ToTensor()\n",
    ")\n",
    "\n",
    "test_data = MNIST(\n",
    "    root='/home/restful3/datasets/torch',\n",
    "    train=False,\n",
    "    download=True,\n",
    "    transform=ToTensor()\n",
    ")\n",
    "\n",
    "img = train_data.data[0]\n",
    "gaussian = gaussian_noise(img)"
   ]
  },
  {
   "cell_type": "code",
   "execution_count": 40,
   "id": "260f21af",
   "metadata": {},
   "outputs": [
    {
     "data": {
      "image/png": "[encoded data removed]",
      "text/plain": [
       "<Figure size 640x480 with 2 Axes>"
      ]
     },
     "metadata": {},
     "output_type": "display_data"
    }
   ],
   "source": [
    "plt.subplot(1, 2, 1)\n",
    "plt.title('original')\n",
    "plt.imshow(img)\n",
    "plt.subplot(1, 2, 2)\n",
    "plt.title('noisy')\n",
    "plt.imshow(gaussian)\n",
    "plt.show()"
   ]
  },
  {
   "cell_type": "markdown",
   "id": "a53fac9c",
   "metadata": {},
   "source": [
    "# 학습용 데이터 만들기"
   ]
  },
  {
   "cell_type": "code",
   "execution_count": 41,
   "id": "be8c9a6e",
   "metadata": {},
   "outputs": [],
   "source": [
    "from torch.utils.data.dataset import Dataset\n",
    "\n",
    "class Denoising(Dataset):\n",
    "    def __init__(self):\n",
    "        self.mnist =  MNIST(\n",
    "            root='/home/restful3/datasets/torch',\n",
    "            train=True,\n",
    "            download=True,\n",
    "            transform=ToTensor()\n",
    "        )\n",
    "        self.data = []\n",
    "        \n",
    "        for i in range(len(self.mnist)):\n",
    "            noisy_input = gaussian_noise(self.mnist.data[i]/255) # 이 부분을 책과 다르게 함 0 ~ 1 사이로 만듦\n",
    "            input_tensor = torch.tensor(noisy_input)\n",
    "            self.data.append(torch.unsqueeze(input_tensor, dim=0))\n",
    "            \n",
    "    def __len__(self):\n",
    "        return len(self.data)\n",
    "    \n",
    "    def __getitem__(self, i):\n",
    "        data = self.data[i]\n",
    "        label = self.mnist.data[i]/255\n",
    "        return data, label"
   ]
  },
  {
   "cell_type": "markdown",
   "id": "44953a84",
   "metadata": {},
   "source": [
    "# 인코더 모델 정의하기"
   ]
  },
  {
   "cell_type": "code",
   "execution_count": 42,
   "id": "727653ce",
   "metadata": {},
   "outputs": [],
   "source": [
    "import torch.nn as nn\n",
    "\n",
    "class BasicBlock(nn.Module):\n",
    "    def __init__(self, in_channels, out_channels, hidden_dim):\n",
    "        super(BasicBlock, self).__init__()\n",
    "        \n",
    "        self.conv1 = nn.Conv2d(\n",
    "            in_channels,\n",
    "            hidden_dim,\n",
    "            kernel_size=3,\n",
    "            padding=1\n",
    "        )\n",
    "        self.conv2 = nn.Conv2d(\n",
    "            hidden_dim,\n",
    "            out_channels,\n",
    "            kernel_size=3,\n",
    "            padding=1\n",
    "        )     \n",
    "        self.relu = nn.ReLU()\n",
    "        \n",
    "    def forward(self, x):\n",
    "        x = self.conv1(x)\n",
    "        x = self.relu(x)\n",
    "        x = self.conv2(x)\n",
    "        x = self.relu(x)\n",
    "        \n",
    "        return x\n",
    "    "
   ]
  },
  {
   "cell_type": "code",
   "execution_count": 43,
   "id": "0b854dbb",
   "metadata": {},
   "outputs": [],
   "source": [
    "class Encoder(nn.Module):\n",
    "    def __init__(self):\n",
    "        super(Encoder, self).__init__()\n",
    "        \n",
    "        self.conv1 = BasicBlock(in_channels=1, out_channels=16, hidden_dim=16)\n",
    "        self.conv2 = BasicBlock(in_channels=16, out_channels=8, hidden_dim=8)        \n",
    "        self.pool = nn.AvgPool2d(kernel_size=2, stride=2)\n",
    "        \n",
    "    def forward(self, x):\n",
    "        x = self.conv1(x)\n",
    "        x = self.pool(x)\n",
    "        x = self.conv2(x)\n",
    "        x = self.pool(x)\n",
    "        \n",
    "        return x"
   ]
  },
  {
   "cell_type": "markdown",
   "id": "3cf8e9d2",
   "metadata": {},
   "source": [
    "# 디코더 모델 정의하기"
   ]
  },
  {
   "cell_type": "code",
   "execution_count": 44,
   "id": "59973a02",
   "metadata": {},
   "outputs": [],
   "source": [
    "class Decoder(nn.Module):\n",
    "    def __init__(self):\n",
    "        super(Decoder, self).__init__()\n",
    "        \n",
    "        self.conv1 = BasicBlock(in_channels=8, out_channels=8, hidden_dim=8)\n",
    "        self.conv2 = BasicBlock(in_channels=8, out_channels=16, hidden_dim=16)    \n",
    "        self.conv3 = nn.Conv2d(in_channels=16, out_channels=1, kernel_size=3, padding=1)\n",
    "        self.pool = nn.AvgPool2d(kernel_size=2, stride=2)\n",
    "        \n",
    "        self.upsample1 = nn.ConvTranspose2d(8, 8, kernel_size=2, stride=2)\n",
    "        self.upsample2 = nn.ConvTranspose2d(16, 16, kernel_size=2, stride=2)        \n",
    "        \n",
    "    def forward(self, x):\n",
    "        x = self.conv1(x)\n",
    "        x = self.upsample1(x)\n",
    "        x = self.conv2(x)\n",
    "        x = self.upsample2(x)\n",
    "        x = self.conv3(x)\n",
    "        \n",
    "        return x"
   ]
  },
  {
   "cell_type": "markdown",
   "id": "bf26b17d",
   "metadata": {},
   "source": [
    "# CAE 모델 정의하기"
   ]
  },
  {
   "cell_type": "code",
   "execution_count": 45,
   "id": "5dbf581e",
   "metadata": {},
   "outputs": [],
   "source": [
    "class CAE(nn.Module):\n",
    "    def __init__(self):\n",
    "        super(CAE, self).__init__()\n",
    "        \n",
    "        self.enc = Encoder()\n",
    "        self.dec = Decoder()\n",
    "        \n",
    "    def forward(self, x):\n",
    "        x = self.enc(x)\n",
    "        x = self.dec(x)\n",
    "        x = torch.squeeze(x)\n",
    "        \n",
    "        return x"
   ]
  },
  {
   "cell_type": "markdown",
   "id": "5174c97d",
   "metadata": {},
   "source": [
    "# 모델 학습하기"
   ]
  },
  {
   "cell_type": "code",
   "execution_count": 47,
   "id": "8f9a1864",
   "metadata": {},
   "outputs": [
    {
     "name": "stdout",
     "output_type": "stream",
     "text": [
      "cuda\n"
     ]
    },
    {
     "name": "stderr",
     "output_type": "stream",
     "text": [
      "/tmp/ipykernel_37258/375459002.py:17: UserWarning: To copy construct from a tensor, it is recommended to use sourceTensor.clone().detach() or sourceTensor.clone().detach().requires_grad_(True), rather than torch.tensor(sourceTensor).\n",
      "  gaussian_data_x = torch.tensor(gaussian_data_x)\n",
      "/tmp/ipykernel_37258/3039678083.py:15: UserWarning: To copy construct from a tensor, it is recommended to use sourceTensor.clone().detach() or sourceTensor.clone().detach().requires_grad_(True), rather than torch.tensor(sourceTensor).\n",
      "  input_tensor = torch.tensor(noisy_input)\n",
      "epoch : 1, loss : 0.0294429250061512: 100%|█| 1875/1875 [00:07<00:00, 240.83it/s\n",
      "epoch : 2, loss : 0.028019165620207787: 100%|█| 1875/1875 [00:07<00:00, 236.68it\n",
      "epoch : 3, loss : 0.027669940143823624: 100%|█| 1875/1875 [00:07<00:00, 250.11it\n",
      "epoch : 4, loss : 0.027297617867588997: 100%|█| 1875/1875 [00:07<00:00, 251.60it\n",
      "epoch : 5, loss : 0.026770321652293205: 100%|█| 1875/1875 [00:07<00:00, 249.58it\n",
      "epoch : 6, loss : 0.026751060038805008: 100%|█| 1875/1875 [00:07<00:00, 249.39it\n",
      "epoch : 7, loss : 0.026621324941515923: 100%|█| 1875/1875 [00:07<00:00, 249.91it\n",
      "epoch : 8, loss : 0.026366593316197395: 100%|█| 1875/1875 [00:07<00:00, 249.49it\n",
      "epoch : 9, loss : 0.026225775480270386: 100%|█| 1875/1875 [00:07<00:00, 249.05it\n",
      "epoch : 10, loss : 0.02601379156112671: 100%|█| 1875/1875 [00:07<00:00, 249.28it\n",
      "epoch : 11, loss : 0.02583332359790802: 100%|█| 1875/1875 [00:07<00:00, 249.06it\n",
      "epoch : 12, loss : 0.025830436497926712: 100%|█| 1875/1875 [00:07<00:00, 249.32i\n",
      "epoch : 13, loss : 0.0257301963865757: 100%|█| 1875/1875 [00:07<00:00, 249.61it/\n",
      "epoch : 14, loss : 0.025805974379181862: 100%|█| 1875/1875 [00:07<00:00, 249.43i\n",
      "epoch : 15, loss : 0.025646118447184563: 100%|█| 1875/1875 [00:07<00:00, 249.65i\n",
      "epoch : 16, loss : 0.025635432451963425: 100%|█| 1875/1875 [00:07<00:00, 252.45i\n",
      "epoch : 17, loss : 0.025533564388751984: 100%|█| 1875/1875 [00:07<00:00, 249.87i\n",
      "epoch : 18, loss : 0.0254288949072361: 100%|█| 1875/1875 [00:07<00:00, 249.56it/\n",
      "epoch : 19, loss : 0.025245442986488342: 100%|█| 1875/1875 [00:07<00:00, 250.38i\n",
      "epoch : 20, loss : 0.025156371295452118: 100%|█| 1875/1875 [00:07<00:00, 249.55i\n"
     ]
    }
   ],
   "source": [
    "import tqdm\n",
    "\n",
    "from torch.utils.data.dataloader import DataLoader\n",
    "from torch.optim.adam import Adam\n",
    "\n",
    "device = \"cuda\" if torch.cuda.is_available() else \"cpu\"\n",
    "print(device)\n",
    "\n",
    "trainset = Denoising()\n",
    "train_loader = DataLoader(trainset, batch_size=32)\n",
    "\n",
    "model = CAE().to(device)\n",
    "\n",
    "lr = 0.001\n",
    "optim = Adam(params=model.parameters(), lr=lr)\n",
    "loss_fn = nn.MSELoss()\n",
    "best_loss = float('inf')\n",
    "\n",
    "for epoch in range(20):\n",
    "    iterator = tqdm.tqdm(train_loader)\n",
    "    \n",
    "    for data, label in iterator:\n",
    "        data, label = data.to(device), label.to(device)\n",
    "        optim.zero_grad()\n",
    "        pred = model(data)\n",
    "        \n",
    "        loss = loss_fn(torch.squeeze(pred), label)\n",
    "        loss.backward()\n",
    "        optim.step()\n",
    "        iterator.set_description(f\"epoch : {epoch +1}, loss : {loss.item()}\")\n",
    "        # 현재 loss 값과 최소 loss 값을 비교하여 모델 저장\n",
    "        if loss.item() < best_loss:\n",
    "            best_loss = loss.item()\n",
    "            torch.save(model.state_dict(), './models/CAE.pth')       "
   ]
  },
  {
   "cell_type": "markdown",
   "id": "21f7b637",
   "metadata": {},
   "source": [
    "# 모델 성능 평가하기"
   ]
  },
  {
   "cell_type": "code",
   "execution_count": 52,
   "id": "bb1bc509",
   "metadata": {},
   "outputs": [
    {
     "name": "stderr",
     "output_type": "stream",
     "text": [
      "/tmp/ipykernel_37258/375459002.py:17: UserWarning: To copy construct from a tensor, it is recommended to use sourceTensor.clone().detach() or sourceTensor.clone().detach().requires_grad_(True), rather than torch.tensor(sourceTensor).\n",
      "  gaussian_data_x = torch.tensor(gaussian_data_x)\n"
     ]
    },
    {
     "data": {
      "image/png": "[encoded data removed]",
      "text/plain": [
       "<Figure size 640x480 with 3 Axes>"
      ]
     },
     "metadata": {},
     "output_type": "display_data"
    }
   ],
   "source": [
    "model.cpu() # matplotlib은 GPU 호환이 안되어, 출력을 cpu로 옮겨 줘야.\n",
    "\n",
    "with torch.no_grad():\n",
    "    model.load_state_dict(torch.load(\"./models/CAE.pth\", map_location=device))\n",
    "    \n",
    "    img = test_data.data[0]\n",
    "    gaussian = gaussian_noise(img)\n",
    "    \n",
    "    input_data = torch.unsqueeze(gaussian, dim=0)\n",
    "    input_data.type(torch.FloatTensor)\n",
    "    input_data.to(device)\n",
    "    input_data = torch.unsqueeze(input_data, dim=0)\n",
    "    \n",
    "    plt.subplot(1, 3, 1)\n",
    "    plt.imshow(torch.squeeze(gaussian))\n",
    "    plt.title('gaussian')\n",
    "    plt.subplot(1, 3, 2)\n",
    "    plt.imshow(torch.squeeze(model(input_data)))\n",
    "    plt.title('denosizing')    \n",
    "    plt.subplot(1, 3, 3)\n",
    "    plt.imshow(torch.squeeze(img))    \n",
    "    plt.title('original')        \n",
    "    plt.show()"
   ]
  }
 ],
 "metadata": {
  "kernelspec": {
   "display_name": "Python 3 (ipykernel)",
   "language": "python",
   "name": "python3"
  },
  "language_info": {
   "codemirror_mode": {
    "name": "ipython",
    "version": 3
   },
   "file_extension": ".py",
   "mimetype": "text/x-python",
   "name": "python",
   "nbconvert_exporter": "python",
   "pygments_lexer": "ipython3",
   "version": "3.10.9"
  },
  "toc": {
   "base_numbering": 1,
   "nav_menu": {},
   "number_sections": true,
   "sideBar": true,
   "skip_h1_title": false,
   "title_cell": "Table of Contents",
   "title_sidebar": "Contents",
   "toc_cell": false,
   "toc_position": {},
   "toc_section_display": true,
   "toc_window_display": false
  }
 },
 "nbformat": 4,
 "nbformat_minor": 5
}
