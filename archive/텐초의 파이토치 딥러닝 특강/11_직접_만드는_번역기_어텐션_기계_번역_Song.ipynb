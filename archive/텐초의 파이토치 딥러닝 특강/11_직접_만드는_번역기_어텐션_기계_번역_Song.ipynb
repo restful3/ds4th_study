{
 "cells": [
  {
   "cell_type": "markdown",
   "id": "36e6e9b3",
   "metadata": {},
   "source": [
    "# 데이터 살펴보기"
   ]
  },
  {
   "cell_type": "code",
   "execution_count": 1,
   "id": "4b21c4ed",
   "metadata": {},
   "outputs": [
    {
     "name": "stdout",
     "output_type": "stream",
     "text": [
      "['go\\t가', 'hi\\t안녕', 'run\\t뛰어', 'run\\t뛰어', 'who\\t누구']\n"
     ]
    }
   ],
   "source": [
    "import string\n",
    "\n",
    "l = []\n",
    "\n",
    "with open('./datasets/CH11.txt', encoding='utf-8') as f:\n",
    "    lines = f.read().split('\\n')\n",
    "    for line in lines:\n",
    "        txt = ''.join(v for v in line if v not in string.punctuation).lower()\n",
    "        l.append(txt)\n",
    "        \n",
    "print(l[:5])        "
   ]
  },
  {
   "cell_type": "markdown",
   "id": "acc09f04",
   "metadata": {},
   "source": [
    "# 학습용 데이터 만들기"
   ]
  },
  {
   "cell_type": "code",
   "execution_count": 2,
   "id": "7b4e0494",
   "metadata": {},
   "outputs": [
    {
     "data": {
      "text/plain": [
       "3723"
      ]
     },
     "execution_count": 2,
     "metadata": {},
     "output_type": "execute_result"
    }
   ],
   "source": [
    "len(l)"
   ]
  },
  {
   "cell_type": "code",
   "execution_count": 3,
   "id": "1dd8c4ed",
   "metadata": {},
   "outputs": [],
   "source": [
    "import numpy as np\n",
    "import torch\n",
    "\n",
    "from torch.utils.data.dataset import Dataset"
   ]
  },
  {
   "cell_type": "code",
   "execution_count": 4,
   "id": "ad17f096",
   "metadata": {},
   "outputs": [],
   "source": [
    "def get_BOW(corpus):\n",
    "    BOW = {\"<SOS>\":0, \"<EOS>\":1}\n",
    "    \n",
    "    for line in corpus:\n",
    "        for word in line.split():\n",
    "            if word not in BOW.keys():\n",
    "                BOW[word] = len(BOW.keys())\n",
    "                \n",
    "    return BOW"
   ]
  },
  {
   "cell_type": "code",
   "execution_count": 5,
   "id": "f317682f",
   "metadata": {},
   "outputs": [],
   "source": [
    "class Eng2Kor(Dataset):\n",
    "    def __init__(self, pth2txt=\"./datasets/CH11.txt\"):\n",
    "        self.eng_corpus = []\n",
    "        self.kor_corpus = []\n",
    "        \n",
    "        with open(pth2txt, 'r', encoding='utf-8') as f:\n",
    "            lines = f.read().split('\\n')\n",
    "            for line in lines:\n",
    "                txt = \"\".join(v for v in line if v not in string.punctuation).lower()\n",
    "                engtxt = txt.split(\"\\t\")[0]\n",
    "                kortxt = txt.split(\"\\t\")[1]                \n",
    "                \n",
    "                if len(engtxt.split()) <= 10 and len(kortxt.split()) <= 10:\n",
    "                    self.eng_corpus.append(engtxt)\n",
    "                    self.kor_corpus.append(kortxt)                \n",
    "        self.engBOW = get_BOW(self.eng_corpus)\n",
    "        self.korBOW = get_BOW(self.kor_corpus)        \n",
    "        \n",
    "    def gen_seq(self, line):\n",
    "        seq = line.split()\n",
    "        seq.append(\"<EOS>\")\n",
    "        \n",
    "        return seq\n",
    "    \n",
    "    def __len__(self):\n",
    "        return len(self.eng_corpus)\n",
    "    \n",
    "    def __getitem__(self, i):\n",
    "        data = np.array([self.engBOW[txt] for txt in self.gen_seq(self.eng_corpus[i])])\n",
    "        label = np.array([self.korBOW[txt] for txt in self.gen_seq(self.kor_corpus[i])])\n",
    "        return data, label"
   ]
  },
  {
   "cell_type": "code",
   "execution_count": 6,
   "id": "3ca10698",
   "metadata": {},
   "outputs": [],
   "source": [
    "def loader(dataset):\n",
    "    for i in range(len(dataset)):\n",
    "        data, label = dataset[i]\n",
    "         \n",
    "        yield torch.tensor(data), torch.tensor(label)"
   ]
  },
  {
   "cell_type": "markdown",
   "id": "261a949a",
   "metadata": {},
   "source": [
    "# 인코더 정의하기"
   ]
  },
  {
   "cell_type": "code",
   "execution_count": 7,
   "id": "2349a7e8",
   "metadata": {},
   "outputs": [],
   "source": [
    "import torch.nn as nn\n",
    "\n",
    "class Encoder(nn.Module):\n",
    "    def __init__(self, input_size, hidden_size):\n",
    "        super(Encoder, self).__init__()\n",
    "        \n",
    "        self.embedding = nn.Embedding(input_size, hidden_size)\n",
    "        self.gru = nn.GRU(hidden_size, hidden_size)\n",
    "        \n",
    "    def forward(self, x, h):\n",
    "        x = self.embedding(x).view(1, 1, -1)\n",
    "        output, hidden = self.gru(x, h)\n",
    "        return output, hidden"
   ]
  },
  {
   "cell_type": "markdown",
   "id": "cbec04df",
   "metadata": {},
   "source": [
    "# 디코더 정의하기"
   ]
  },
  {
   "cell_type": "code",
   "execution_count": 8,
   "id": "cbc08c79",
   "metadata": {},
   "outputs": [],
   "source": [
    "class Decoder(nn.Module):\n",
    "    def __init__(self, hidden_size, output_size, dropout_p = 0.1, max_length=11):\n",
    "        super(Decoder, self).__init__()\n",
    "        \n",
    "        self.embedding = nn.Embedding(output_size, hidden_size)\n",
    "        self.attention = nn.Linear(hidden_size*2, max_length)\n",
    "        self.context = nn.Linear(hidden_size*2, hidden_size)\n",
    "        self.dropout = nn.Dropout(dropout_p)\n",
    "        self.gru = nn.GRU(hidden_size, hidden_size)\n",
    "        self.out = nn.Linear(hidden_size, output_size)\n",
    "        self.relu = nn.ReLU()\n",
    "        self.softmax = nn.LogSoftmax(dim=1)\n",
    "        \n",
    "    def forward(self, x, h, encoder_outputs):\n",
    "        x = self.embedding(x).view(1, 1, -1)\n",
    "        x = self.dropout(x)\n",
    "        \n",
    "        attn_weights = self.softmax(self.attention(torch.cat((x[0], h[0]),-1)))\n",
    "        \n",
    "        attn_applied = torch.bmm(attn_weights.unsqueeze(0), encoder_outputs.unsqueeze(0))\n",
    "        \n",
    "        output = torch.cat((x[0], attn_applied[0]), 1)\n",
    "        output = self.context(output).unsqueeze(0)\n",
    "        output = self.relu(output)\n",
    "        \n",
    "        output, hidden = self.gru(output, h)\n",
    "        \n",
    "        output = self.out(output[0])\n",
    "        \n",
    "        return output"
   ]
  },
  {
   "cell_type": "markdown",
   "id": "1d351374",
   "metadata": {},
   "source": [
    "# 어텐션 기계 번역 학습하기"
   ]
  },
  {
   "cell_type": "code",
   "execution_count": 9,
   "id": "7340a064",
   "metadata": {},
   "outputs": [
    {
     "name": "stdout",
     "output_type": "stream",
     "text": [
      "cuda\n"
     ]
    }
   ],
   "source": [
    "import random\n",
    "import tqdm\n",
    "from torch.optim.adam import Adam\n",
    "\n",
    "device = 'cuda' if torch.cuda.is_available() else 'cpu'\n",
    "print(device)"
   ]
  },
  {
   "cell_type": "code",
   "execution_count": 10,
   "id": "7cdd2b90",
   "metadata": {},
   "outputs": [],
   "source": [
    "dataset = Eng2Kor()\n",
    "encoder = Encoder(input_size=len(dataset.engBOW), hidden_size=64).to(device)\n",
    "decoder = Decoder(64, len(dataset.korBOW), dropout_p=0.1).to(device)"
   ]
  },
  {
   "cell_type": "code",
   "execution_count": 11,
   "id": "7bd0c536",
   "metadata": {},
   "outputs": [],
   "source": [
    "encoder_optimizer = Adam(encoder.parameters(), lr=0.0001)\n",
    "decoder_optimizer = Adam(decoder.parameters(), lr=0.0001)\n",
    "loss_fn = nn.CrossEntropyLoss()"
   ]
  },
  {
   "cell_type": "code",
   "execution_count": null,
   "id": "5f8e2af0",
   "metadata": {
    "scrolled": false
   },
   "outputs": [],
   "source": [
    "for epoch in range(200):\n",
    "    iterator = tqdm.tqdm(loader(dataset), total=len(dataset))\n",
    "    total_loss = 0\n",
    "    \n",
    "    for data, label in iterator:\n",
    "        data = torch.tensor(data, dtype=torch.long).to(device)\n",
    "        label = torch.tensor(label, dtype=torch.long).to(device)\n",
    "        \n",
    "        encoder_hidden = torch.zeros(1, 1, 64).to(device)\n",
    "        encoder_outputs = torch.zeros(11, 64).to(device)\n",
    "        \n",
    "        encoder_optimizer.zero_grad()\n",
    "        decoder_optimizer.zero_grad()        \n",
    "        \n",
    "        loss = 0\n",
    "        \n",
    "        for ei in range(len(data)):\n",
    "            encoder_output, encoder_hidden = encoder(data[ei], encoder_hidden)\n",
    "            encoder_outputs[ei] = encoder_output[0, 0]\n",
    "            \n",
    "        decoder_input = torch.tensor([[0]]).to(device)\n",
    "        \n",
    "        decoder_hidden = encoder_hidden\n",
    "        \n",
    "        use_teacher_forcing = True if random.random() < 0.5 else False\n",
    "        \n",
    "        if use_teacher_forcing:\n",
    "            for di in range(len(label)):\n",
    "                decoder_output = decoder(decoder_input, decoder_hidden, encoder_outputs)\n",
    "                target = torch.tensor(label[di], dtype=torch.long).to(device)\n",
    "                target = torch.unsqueeze(target, dim=0).to(device)\n",
    "                loss += loss_fn(decoder_output, target)\n",
    "                decoder_input = target\n",
    "        else:\n",
    "            for di in range(len(label)):\n",
    "                decoder_output = decoder(decoder_input, decoder_hidden, encoder_outputs)\n",
    "                topv, topi = decoder_output.topk(1)\n",
    "                decoder_input = topi.squeeze().detach()\n",
    "                \n",
    "                target = torch.tensor(label[di], dtype=torch.long).to(device)\n",
    "                target = torch.unsqueeze(target, dim=0).to(device)      \n",
    "                loss += loss_fn(decoder_output, target)\n",
    "                \n",
    "                if decoder_input.item() == 1:\n",
    "                    break\n",
    "                    \n",
    "        total_loss +=loss.item()/len(dataset)\n",
    "        loss.backward()\n",
    "        encoder_optimizer.step()\n",
    "        decoder_optimizer.step()        \n",
    "\n",
    "    iterator.set_description(f'epoch : {epoch}, loss : {total_loss}')\n",
    "        \n",
    "torch.save(encoder.state_dict(), './models/attn_enc.pth')\n",
    "torch.save(decoder.state_dict(), './models/attn_dec.pth')    "
   ]
  },
  {
   "cell_type": "code",
   "execution_count": 20,
   "id": "c6933b0c",
   "metadata": {},
   "outputs": [],
   "source": [
    "encoder.load_state_dict(torch.load('./models/attn_enc.pth', map_location=device))\n",
    "decoder.load_state_dict(torch.load('./models/attn_dec.pth', map_location=device))\n",
    "\n"
   ]
  },
  {
   "cell_type": "code",
   "execution_count": 36,
   "id": "24e9e9d0",
   "metadata": {},
   "outputs": [
    {
     "name": "stdout",
     "output_type": "stream",
     "text": [
      "does tom like you\n",
      "톰은 너 톰은 너 톰은 너 톰은 너 톰은 너 톰은 \n"
     ]
    }
   ],
   "source": [
    "idx = random.randint(0, len(dataset))\n",
    "\n",
    "input_sentence = dataset.eng_corpus[idx]\n",
    "\n",
    "pred_sentence = \"\"\n",
    "\n",
    "data, label = dataset[idx]\n",
    "data = torch.tensor(data, dtype=torch.long).to(device)\n",
    "label = torch.tensor(label, dtype=torch.long).to(device)\n",
    "\n",
    "encoder_hidden = torch.zeros(1, 1, 64).to(device)\n",
    "encoder_outputs = torch.zeros(11, 64).to(device)\n",
    "\n",
    "for ei in range(len(data)):\n",
    "    encoder_output, encoder_hidden = encoder(data[ei], encoder_hidden)\n",
    "    encoder_outputs[ei] = encoder_output[0, 0]\n",
    "    \n",
    "decoder_input = torch.tensor([[0]]).to(device)\n",
    "\n",
    "decoder_item = encoder_hidden\n",
    "\n",
    "for di in range(11):\n",
    "    decoder_output = decoder(decoder_input, decoder_hidden, encoder_outputs)\n",
    "    topv, topi = decoder_output.topk(1)\n",
    "    decoder_input = topi.squeeze().detach()\n",
    "    \n",
    "    if decoder_input.item() == 1:\n",
    "        break\n",
    "        \n",
    "    pred_sentence += list(dataset.korBOW.keys())[decoder_input] + \" \"\n",
    "    \n",
    "print(input_sentence)\n",
    "print(pred_sentence)    "
   ]
  }
 ],
 "metadata": {
  "kernelspec": {
   "display_name": "Python 3 (ipykernel)",
   "language": "python",
   "name": "python3"
  },
  "language_info": {
   "codemirror_mode": {
    "name": "ipython",
    "version": 3
   },
   "file_extension": ".py",
   "mimetype": "text/x-python",
   "name": "python",
   "nbconvert_exporter": "python",
   "pygments_lexer": "ipython3",
   "version": "3.10.9"
  },
  "toc": {
   "base_numbering": 1,
   "nav_menu": {},
   "number_sections": true,
   "sideBar": true,
   "skip_h1_title": false,
   "title_cell": "Table of Contents",
   "title_sidebar": "Contents",
   "toc_cell": false,
   "toc_position": {},
   "toc_section_display": true,
   "toc_window_display": false
  }
 },
 "nbformat": 4,
 "nbformat_minor": 5
}
