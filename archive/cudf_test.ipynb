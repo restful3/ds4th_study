{
 "cells": [
  {
   "cell_type": "code",
   "execution_count": 4,
   "id": "b28a2a1f",
   "metadata": {},
   "outputs": [
    {
     "name": "stdout",
     "output_type": "stream",
     "text": [
      "Pandas 연산 시간: 0.9531779289245605 초\n"
     ]
    }
   ],
   "source": [
    "import pandas as pd\n",
    "import numpy as np\n",
    "import time\n",
    "\n",
    "# 데이터 생성\n",
    "num_rows = 10**8\n",
    "df = pd.DataFrame({\n",
    "    'col1': np.random.rand(num_rows),\n",
    "    'col2': np.random.rand(num_rows),\n",
    "    'col3': np.random.rand(num_rows),\n",
    "    'col4': np.random.randint(1, 100, num_rows)\n",
    "})\n",
    "\n",
    "# 연산 시간 측정\n",
    "start_time = time.time()\n",
    "\n",
    "# 여러가지 계산 수행\n",
    "result = df.groupby('col4').agg({\n",
    "    'col1': 'sum',\n",
    "    'col2': 'mean',\n",
    "    'col3': 'max'\n",
    "}).reset_index()\n",
    "\n",
    "end_time = time.time()\n",
    "print(f\"Pandas 연산 시간: {end_time - start_time} 초\")\n"
   ]
  },
  {
   "cell_type": "code",
   "execution_count": 5,
   "id": "65cff068",
   "metadata": {},
   "outputs": [
    {
     "data": {
      "text/plain": [
       "{'status': 'ok', 'restart': True}"
      ]
     },
     "execution_count": 5,
     "metadata": {},
     "output_type": "execute_result"
    }
   ],
   "source": [
    "# IPython 라이브러리에서 get_ipython() 호출\n",
    "from IPython import get_ipython\n",
    "\n",
    "# 커널을 재시작하는 코드\n",
    "get_ipython().kernel.do_shutdown(restart=True)\n"
   ]
  },
  {
   "cell_type": "code",
   "execution_count": 1,
   "id": "d666c6fe",
   "metadata": {},
   "outputs": [
    {
     "name": "stdout",
     "output_type": "stream",
     "text": [
      "cuDF 연산 시간: 0.09666609764099121 초\n"
     ]
    }
   ],
   "source": [
    "import cudf\n",
    "import numpy as np\n",
    "import time\n",
    "\n",
    "# 데이터 생성\n",
    "num_rows = 10**8\n",
    "gdf = cudf.DataFrame({\n",
    "    'col1': np.random.rand(num_rows),\n",
    "    'col2': np.random.rand(num_rows),\n",
    "    'col3': np.random.rand(num_rows),\n",
    "    'col4': np.random.randint(1, 100, num_rows)\n",
    "})\n",
    "\n",
    "# 연산 시간 측정\n",
    "start_time = time.time()\n",
    "\n",
    "# 여러가지 계산 수행\n",
    "result = gdf.groupby('col4').agg({\n",
    "    'col1': 'sum',\n",
    "    'col2': 'mean',\n",
    "    'col3': 'max'\n",
    "}).reset_index()\n",
    "\n",
    "end_time = time.time()\n",
    "print(f\"cuDF 연산 시간: {end_time - start_time} 초\")\n"
   ]
  },
  {
   "cell_type": "code",
   "execution_count": 2,
   "id": "7052e54f",
   "metadata": {},
   "outputs": [
    {
     "data": {
      "text/plain": [
       "9.891038779421232"
      ]
     },
     "execution_count": 2,
     "metadata": {},
     "output_type": "execute_result"
    }
   ],
   "source": [
    "0.9561281204223633/0.09666609764099121"
   ]
  }
 ],
 "metadata": {
  "kernelspec": {
   "display_name": "Python 3 (ipykernel)",
   "language": "python",
   "name": "python3"
  },
  "language_info": {
   "codemirror_mode": {
    "name": "ipython",
    "version": 3
   },
   "file_extension": ".py",
   "mimetype": "text/x-python",
   "name": "python",
   "nbconvert_exporter": "python",
   "pygments_lexer": "ipython3",
   "version": "3.9.18"
  },
  "toc": {
   "base_numbering": 1,
   "nav_menu": {},
   "number_sections": true,
   "sideBar": true,
   "skip_h1_title": false,
   "title_cell": "Table of Contents",
   "title_sidebar": "Contents",
   "toc_cell": false,
   "toc_position": {},
   "toc_section_display": true,
   "toc_window_display": false
  }
 },
 "nbformat": 4,
 "nbformat_minor": 5
}
