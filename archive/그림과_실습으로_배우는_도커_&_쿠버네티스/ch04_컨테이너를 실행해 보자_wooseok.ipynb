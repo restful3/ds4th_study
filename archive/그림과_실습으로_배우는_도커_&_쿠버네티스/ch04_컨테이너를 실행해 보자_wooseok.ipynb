{
 "cells": [
  {
   "cell_type": "markdown",
   "metadata": {},
   "source": [
    "# Docker 기본 실습\n",
    "\n",
    "이 노트북은 Docker의 기본 개념과 사용법을 실습을 통해 학습하는 것을 목표로 합니다. 각 섹션에서는 Docker의 주요 기능을 다루며, 실제 명령어를 실행하고 그 결과를 확인할 수 있습니다."
   ]
  },
  {
   "cell_type": "markdown",
   "metadata": {},
   "source": [
    "## 1. Docker 시작 / 종료\n",
    "\n",
    "먼저 Docker가 올바르게 설치되어 있는지 확인해봅시다. 아래 명령어를 실행하면 설치된 Docker의 버전을 확인할 수 있습니다."
   ]
  },
  {
   "cell_type": "markdown",
   "metadata": {},
   "source": [
    "- 도커엔진 시작 \n",
    "> - 원도우즈 : 화면아래에 위치한 시작버튼 클릭> 시작메뉴 열고 > 도커데스크톱 클릭, \n",
    "> - 리눅스 : sudo systemctl start docker (stop : 종료, enable 자동실행)"
   ]
  },
  {
   "cell_type": "code",
   "execution_count": 1,
   "metadata": {},
   "outputs": [
    {
     "name": "stdout",
     "output_type": "stream",
     "text": [
      "Docker version 26.1.4, build 5650f9b\n"
     ]
    }
   ],
   "source": [
    "!docker --version"
   ]
  },
  {
   "cell_type": "markdown",
   "metadata": {},
   "source": [
    "## 2. Docker 주요명령어\n",
    "\n",
    "docker는 container, image, volume, network 등의 대상에 하위커맨드를 적용하거나 직접 명령을 입력하기도 한다"
   ]
  },
  {
   "cell_type": "markdown",
   "metadata": {},
   "source": [
    "![image.png](./image/d4_4.png)"
   ]
  },
  {
   "cell_type": "markdown",
   "metadata": {},
   "source": [
    "### > docker container의 하위커맨드"
   ]
  },
  {
   "cell_type": "markdown",
   "metadata": {},
   "source": [
    "![image.png](./image/d4_1.png)"
   ]
  },
  {
   "cell_type": "markdown",
   "metadata": {},
   "source": [
    "### > docker image의 하위커맨드\n",
    "\n",
    "![image.png](./image/d4_2.png)"
   ]
  },
  {
   "cell_type": "markdown",
   "metadata": {},
   "source": [
    "### > docker volume의 하위커맨드\n",
    "- 불륨생성, 목록확인, 삭제 등 볼륨 관련된 기능을 하는 커맨드"
   ]
  },
  {
   "cell_type": "markdown",
   "metadata": {},
   "source": [
    "![](./image/d4_3.png)"
   ]
  },
  {
   "cell_type": "markdown",
   "metadata": {},
   "source": [
    "### > docker network의 하위커맨드"
   ]
  },
  {
   "cell_type": "markdown",
   "metadata": {},
   "source": [
    "![image.png](./image/d4_5.png)"
   ]
  },
  {
   "cell_type": "markdown",
   "metadata": {},
   "source": [
    "기타\n",
    "![image.png](./image/d4_6.png)"
   ]
  },
  {
   "cell_type": "markdown",
   "metadata": {},
   "source": [
    "![image.png](./image/d4_7.png)"
   ]
  },
  {
   "cell_type": "markdown",
   "metadata": {},
   "source": [
    "![image.png](./image/d4_8.png)"
   ]
  },
  {
   "cell_type": "markdown",
   "metadata": {},
   "source": [
    "## 3. Docker 컨테이너 생성, 실행, 정지\n",
    "\n",
    "아파치서버를 다운로드, 컨테이너 생성, 실행해봅시다. \n",
    "![image.png](./image/d4_13.png)\n",
    "\n",
    "`-d` 옵션은 백그라운드에서 실행, `-p 8080:80`은 호스트의 8080 포트를 컨테이너의 80 포트에 매핑, `--name`은 컨테이너의 이름을 지정합니다."
   ]
  },
  {
   "cell_type": "code",
   "execution_count": 4,
   "metadata": {},
   "outputs": [
    {
     "name": "stderr",
     "output_type": "stream",
     "text": [
      "docker: error during connect: Head \"http://%2F%2F.%2Fpipe%2FdockerDesktopLinuxEngine/_ping\": open //./pipe/dockerDesktopLinuxEngine: The system cannot find the file specified.\n",
      "See 'docker run --help'.\n"
     ]
    }
   ],
   "source": [
    "!docker run -d -p 8080:80 --name apa000ex1 httpd"
   ]
  },
  {
   "cell_type": "markdown",
   "metadata": {},
   "source": [
    "> docker run은 pull image + container create + container start 를 동시에 실행"
   ]
  },
  {
   "cell_type": "markdown",
   "metadata": {},
   "source": [
    "![d4_14.png](./image/d4_14.png)"
   ]
  },
  {
   "cell_type": "code",
   "execution_count": 5,
   "metadata": {},
   "outputs": [
    {
     "name": "stderr",
     "output_type": "stream",
     "text": [
      "error during connect: Get \"http://%2F%2F.%2Fpipe%2FdockerDesktopLinuxEngine/v1.45/containers/json\": open //./pipe/dockerDesktopLinuxEngine: The system cannot find the file specified.\n"
     ]
    }
   ],
   "source": [
    "!docker ps\n",
    "!docker ps -a # 종료된 것도 보임 (rm 전까지)"
   ]
  },
  {
   "cell_type": "markdown",
   "metadata": {},
   "source": [
    "## 4. 컨테이너 네트워크 \n",
    "아파치가 동작중인 서버에 파일을 두면 웹사이트에서 확인 가능\n",
    "![image.png](./image/d4_10.png)\n",
    "![image.png](./image/d4_11.png)\n",
    "![image.png](./image/d4_12.png)\n",
    "실행 중인 컨테이너의 로그를 확인해봅시다. 이를 통해 컨테이너 내부에서 어떤 일이 일어나고 있는지 알 수 있습니다."
   ]
  },
  {
   "cell_type": "markdown",
   "metadata": {},
   "source": [
    "> 윈도우즈 브라우저로는 포트에 방화벽을 해제 해줘야 접근 가능 \n",
    "https://m.blog.naver.com/sgs11022/221727650629"
   ]
  },
  {
   "cell_type": "code",
   "execution_count": 6,
   "metadata": {},
   "outputs": [
    {
     "name": "stderr",
     "output_type": "stream",
     "text": [
      "error during connect: Get \"http://%2F%2F.%2Fpipe%2FdockerDesktopLinuxEngine/v1.45/containers/my-nginx/json\": open //./pipe/dockerDesktopLinuxEngine: The system cannot find the file specified.\n"
     ]
    }
   ],
   "source": [
    "!docker logs apa000ex1"
   ]
  },
  {
   "cell_type": "code",
   "execution_count": null,
   "metadata": {},
   "outputs": [],
   "source": [
    "!docker run -d -p 8081:80 --name apa000ex2 httpd\n",
    "!docker run -d -p 8082:80 --name apa000ex3 httpd"
   ]
  },
  {
   "cell_type": "markdown",
   "metadata": {},
   "source": [
    "> 아파치 아닌 웹서버를 실행해보자."
   ]
  },
  {
   "cell_type": "code",
   "execution_count": null,
   "metadata": {},
   "outputs": [],
   "source": [
    "!docker run -d -p 8084:80 --name nginx000ex4 nginx"
   ]
  },
  {
   "cell_type": "code",
   "execution_count": 8,
   "metadata": {},
   "outputs": [
    {
     "name": "stderr",
     "output_type": "stream",
     "text": [
      "error during connect: Delete \"http://%2F%2F.%2Fpipe%2FdockerDesktopLinuxEngine/v1.45/containers/my-nginx\": open //./pipe/dockerDesktopLinuxEngine: The system cannot find the file specified.\n"
     ]
    }
   ],
   "source": [
    "!docker rm ngin_ex001 ngin_ex002 ngin_ex003"
   ]
  },
  {
   "cell_type": "code",
   "execution_count": null,
   "metadata": {},
   "outputs": [],
   "source": [
    "# db를 띄워보자\n",
    "docker run --name mysql000ex5m -dit -e MYSQL_ROOT_PASSWORD=myrootpass mysql"
   ]
  },
  {
   "cell_type": "code",
   "execution_count": 14,
   "metadata": {
    "collapsed": true,
    "jupyter": {
     "outputs_hidden": true
    },
    "tags": []
   },
   "outputs": [
    {
     "name": "stderr",
     "output_type": "stream",
     "text": [
      "  % Total    % Received % Xferd  Average Speed   Time    Time     Time  Current\n",
      "                                 Dload  Upload   Total   Spent    Left  Speed\n",
      "\n",
      "  0     0    0     0    0     0      0      0 --:--:-- --:--:-- --:--:--     0\n",
      "  0     0    0     0    0     0      0      0 --:--:-- --:--:-- --:--:--     0\n",
      "  0     0    0     0    0     0      0      0 --:--:--  0:00:01 --:--:--     0\n",
      "  0     0    0     0    0     0      0      0 --:--:--  0:00:02 --:--:--     0\n",
      "  0     0    0     0    0     0      0      0 --:--:--  0:00:03 --:--:--     0\n",
      "  0     0    0     0    0     0      0      0 --:--:--  0:00:04 --:--:--     0\n",
      "  0     0    0     0    0     0      0      0 --:--:--  0:00:05 --:--:--     0\n",
      "  0     0    0     0    0     0      0      0 --:--:--  0:00:06 --:--:--     0\n",
      "  0     0    0     0    0     0      0      0 --:--:--  0:00:07 --:--:--     0\n",
      "  0     0    0     0    0     0      0      0 --:--:--  0:00:08 --:--:--     0\n",
      "  0     0    0     0    0     0      0      0 --:--:--  0:00:09 --:--:--     0\n",
      "  0     0    0     0    0     0      0      0 --:--:--  0:00:10 --:--:--     0\n",
      "  0     0    0     0    0     0      0      0 --:--:--  0:00:11 --:--:--     0\n",
      "  0     0    0     0    0     0      0      0 --:--:--  0:00:12 --:--:--     0\n",
      "  0     0    0     0    0     0      0      0 --:--:--  0:00:13 --:--:--     0\n",
      "  0     0    0     0    0     0      0      0 --:--:--  0:00:14 --:--:--     0\n",
      "  0     0    0     0    0     0      0      0 --:--:--  0:00:15 --:--:--     0\n",
      "  0     0    0     0    0     0      0      0 --:--:--  0:00:16 --:--:--     0\n",
      "  0     0    0     0    0     0      0      0 --:--:--  0:00:17 --:--:--     0\n",
      "  0     0    0     0    0     0      0      0 --:--:--  0:00:18 --:--:--     0\n",
      "  0     0    0     0    0     0      0      0 --:--:--  0:00:19 --:--:--     0\n",
      "  0     0    0     0    0     0      0      0 --:--:--  0:00:20 --:--:--     0\n",
      "  0     0    0     0    0     0      0      0 --:--:--  0:00:21 --:--:--     0\n",
      "curl: (56) Recv failure: Connection was reset\n"
     ]
    }
   ],
   "source": [
    "!curl http://localhost:8084"
   ]
  },
  {
   "cell_type": "markdown",
   "metadata": {},
   "source": [
    "이상으로 Docker 기본 실습을 마치겠습니다. 각 단계에서 실행 결과를 확인하고, 필요한 경우 추가 설명을 덧붙이면 좋습니다."
   ]
  },
  {
   "cell_type": "markdown",
   "metadata": {},
   "source": [
    "## 5. 정지, 삭제"
   ]
  },
  {
   "cell_type": "code",
   "execution_count": 7,
   "metadata": {},
   "outputs": [
    {
     "name": "stderr",
     "output_type": "stream",
     "text": [
      "error during connect: Post \"http://%2F%2F.%2Fpipe%2FdockerDesktopLinuxEngine/v1.45/containers/my-nginx/stop\": open //./pipe/dockerDesktopLinuxEngine: The system cannot find the file specified.\n"
     ]
    }
   ],
   "source": [
    "!docker stop apa000ex1 apa000ex2 apa000ex3 nginx000ex4 mysql000ex5m"
   ]
  },
  {
   "cell_type": "code",
   "execution_count": null,
   "metadata": {},
   "outputs": [],
   "source": [
    "!docker ps\n",
    "!docker ps -a # 종료된 것도 보임 (rm 전까지)"
   ]
  },
  {
   "cell_type": "code",
   "execution_count": null,
   "metadata": {},
   "outputs": [],
   "source": [
    "!docker rm apa000ex1 apa000ex2 apa000ex3 nginx000ex4 mysql000ex5m"
   ]
  }
 ],
 "metadata": {
  "kernelspec": {
   "display_name": "Python 3 (ipykernel)",
   "language": "python",
   "name": "python3"
  },
  "language_info": {
   "codemirror_mode": {
    "name": "ipython",
    "version": 3
   },
   "file_extension": ".py",
   "mimetype": "text/x-python",
   "name": "python",
   "nbconvert_exporter": "python",
   "pygments_lexer": "ipython3",
   "version": "3.9.12"
  }
 },
 "nbformat": 4,
 "nbformat_minor": 4
}
