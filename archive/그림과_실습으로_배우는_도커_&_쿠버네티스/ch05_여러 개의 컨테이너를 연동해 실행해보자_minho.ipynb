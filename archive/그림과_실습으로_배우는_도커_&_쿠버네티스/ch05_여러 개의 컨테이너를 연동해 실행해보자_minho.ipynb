{
 "cells": [
  {
   "cell_type": "markdown",
   "metadata": {},
   "source": [
    "5장에서는 여러 개의 컨테이너를 동시에 실행해 컨테이너끼리 통신하는 방법을 배운다. 컨테이너 간의 통신을 위한 네트워크를 만드는 방법을 새롭게 배우지만, 그 외의 내용은 4장에서 배운 내용을 응용한 것이다."
   ]
  },
  {
   "cell_type": "markdown",
   "metadata": {},
   "source": [
    "# 01. 워드프레스 구축"
   ]
  },
  {
   "cell_type": "markdown",
   "metadata": {},
   "source": [
    "컨테이너에 워드프레스 사이트를 구축해보자. 워드프레스를 컨테이너에서 동작하게 하려면 여러 개의 컨테이너를 실행하고 가상 네트워크를 통해 컨테이너끼리 통신할 수 있어야 한다. 이번 절에서는 워드프레스 사이트를 구축하는 과정 및 이 과정에 쓰이는 명령어에 대해 배운다."
   ]
  },
  {
   "cell_type": "markdown",
   "metadata": {},
   "source": [
    "## 워드프레스 사이트 구성 및 구축"
   ]
  },
  {
   "cell_type": "markdown",
   "metadata": {},
   "source": [
    "워드프레스는 웹사이트를 만들기 위한 소프트웨어로, 서버에 설치해 사용한다."
   ]
  },
  {
   "cell_type": "markdown",
   "metadata": {},
   "source": [
    "<img src=\"./image/d05-01.png\" width=\"60%\"></img>"
   ]
  },
  {
   "cell_type": "markdown",
   "metadata": {},
   "source": [
    "## 도커 네트워크 생성/삭제"
   ]
  },
  {
   "cell_type": "markdown",
   "metadata": {},
   "source": [
    "**워드프레스는 워드프레스 컨테이너와 MySQL 컨테이너로 구성된다.**"
   ]
  },
  {
   "cell_type": "markdown",
   "metadata": {},
   "source": [
    "워드 프레스는 간단히 말해 블로그 생성 도구와 같은 것으로, 웹 사이트 작성자가 작성한 내용을 데이터 베이스에 저장하고, 웹사이트 열람자의 요청에 따라 웹페이지를 보여준다. 즉, 프로그램이 MySQL에 저장된 데이터를 읽고 쓸 수 있어야 하기 때문에 두 컨테이너가 연결돼 있어야 한다."
   ]
  },
  {
   "cell_type": "markdown",
   "metadata": {},
   "source": [
    "### 도커 네트워크를 생성하는 커맨드"
   ]
  },
  {
   "cell_type": "code",
   "execution_count": null,
   "metadata": {
    "vscode": {
     "languageId": "shellscript"
    }
   },
   "outputs": [],
   "source": [
    "docker network create 네트워크_이름"
   ]
  },
  {
   "cell_type": "markdown",
   "metadata": {},
   "source": [
    "### 도커 네트워크를 삭제하는 커맨드"
   ]
  },
  {
   "cell_type": "code",
   "execution_count": null,
   "metadata": {
    "vscode": {
     "languageId": "shellscript"
    }
   },
   "outputs": [],
   "source": [
    "docker network rm 네트워크_이름"
   ]
  },
  {
   "cell_type": "code",
   "execution_count": null,
   "metadata": {
    "vscode": {
     "languageId": "shellscript"
    }
   },
   "outputs": [],
   "source": [
    "docker network ls"
   ]
  },
  {
   "cell_type": "markdown",
   "metadata": {},
   "source": [
    "### 그 외 도커 네트워크 관련 커맨드"
   ]
  },
  {
   "cell_type": "markdown",
   "metadata": {},
   "source": [
    "<img src=\"./image/d05-02.png\" width=\"60%\"></img>"
   ]
  },
  {
   "cell_type": "markdown",
   "metadata": {},
   "source": [
    "## MySQL 컨테이너 실행 시에 필요한 옵션과 인자"
   ]
  },
  {
   "cell_type": "markdown",
   "metadata": {},
   "source": [
    "자주 사용하는 커맨드 예"
   ]
  },
  {
   "cell_type": "code",
   "execution_count": null,
   "metadata": {
    "vscode": {
     "languageId": "shellscript"
    }
   },
   "outputs": [],
   "source": [
    "docker run --name 컨테이너_이름 -dit --net=네트워크_이름 \\\n",
    "  -e MYSQL_ROOT_PASSWORD=MySQL_루트_패스워드 \\\n",
    "  -e MYSQL_DATABASE=데이터베이스_이름 \\\n",
    "  -e MYSQL_USER=MySQL_사용자이름 \\\n",
    "  -e MYSQL_PASSWORD=MySQL_패스워드 \\\n",
    "  mysql:8.0 \\\n",
    "  --character-set-server=문자_인코딩 \\\n",
    "  --collation-server=정렬_순서 \\\n",
    "  --default-authentication-plugin=인증_방식"
   ]
  },
  {
   "cell_type": "markdown",
   "metadata": {},
   "source": [
    "### 사용된 옵션"
   ]
  },
  {
   "cell_type": "markdown",
   "metadata": {},
   "source": [
    "<img src=\"./image/d05-03.png\" width=\"60%\"></img>"
   ]
  },
  {
   "cell_type": "markdown",
   "metadata": {},
   "source": [
    "패스워드는 **루트 패스워드**와 일반 **사용자 패스워드** 두 가지를 설정한다.  \n",
    "루트는 모든 권한을 가진 사용자로, 매번 루트 사용자로 접속할 경우 보안 측면에서 문제가 생기기 때문에 제한된 권한을 가진 일반 사용자로 전환하는 것이 일반적이다."
   ]
  },
  {
   "cell_type": "markdown",
   "metadata": {},
   "source": [
    "### 사용된 인자"
   ]
  },
  {
   "cell_type": "markdown",
   "metadata": {},
   "source": [
    "<img src=\"./image/d05-04.png\" width=\"60%\"></img>"
   ]
  },
  {
   "cell_type": "markdown",
   "metadata": {},
   "source": [
    "세 번째에 나온 인증 방식은 MySQL이 MySQL5(최신 버전 5.7)에서 MySQL8(8.0)로 넘어오면서 **외부 소프트웨어가 MySQL에 접속하는 인증 방식을 바꾸었기** 때문이다. 이 새로운 인증 방식은 아직 지원하지 않는 소프트웨어가 많다.\n",
    "\n",
    "따라서 여기서는 접속에 문제가 없도록 인증 방식을 예전 방식으로 되돌려 놓는다."
   ]
  },
  {
   "cell_type": "markdown",
   "metadata": {},
   "source": [
    "### 워드프레스 컨테이너 실행 시 필요한 옵션과 인자"
   ]
  },
  {
   "cell_type": "code",
   "execution_count": null,
   "metadata": {
    "vscode": {
     "languageId": "shellscript"
    }
   },
   "outputs": [],
   "source": [
    "docker run --name 컨테이너_이름 -dit --net=네트워크_이름 -p 포트_설정 \\\n",
    "  -e WORDPRESS_DB_HOST=데이터베이스_컨테이너_이름 \\\n",
    "  -e WORDPRESS_DB_NAME=데이터베이스_이름 \\\n",
    "  -e WORDPRESS_DB_USER=데이터베이스_사용자_이름 \\\n",
    "  -e WORDPRESS_DB_PASSWORD=데이터베이스_패스워드 \\\n",
    "  wordpress"
   ]
  },
  {
   "cell_type": "markdown",
   "metadata": {},
   "source": [
    "<img src=\"./image/d05-05.png\" width=\"60%\"></img>\n",
    "<img src=\"./image/d05-06.png\" width=\"60%\"></img>"
   ]
  },
  {
   "cell_type": "markdown",
   "metadata": {},
   "source": [
    "다시 말해 워드프레스는 데이터베이스를 사용하는 소프트웨어이므로 연동될 데이터베이스에 대한 정보를 설정한 것이다.\n",
    "\n",
    "지금까지 설정한 정보는 물론 MySQL 컨테이너의 설정값과 동일한 값이어야 한다. 값이 다르면 연동이 잘 되지 않으며 워드프레스도 사용할 수 없다."
   ]
  },
  {
   "cell_type": "markdown",
   "metadata": {},
   "source": [
    "# 02. 워드프레스 및 MySQL 컨테이너 생성과 연동"
   ]
  },
  {
   "cell_type": "markdown",
   "metadata": {},
   "source": [
    "## 이번 절의 실습 내용과 사용할 커맨드"
   ]
  },
  {
   "cell_type": "markdown",
   "metadata": {},
   "source": [
    "워드프레스 컨테이너와 MySQL 컨테이너를 생성하고 실행한다. MySQL 컨테이너를 먼저 생성하는 것과 네트워크를 생성하는 것을 잊지 않도록 한다."
   ]
  },
  {
   "cell_type": "markdown",
   "metadata": {},
   "source": [
    "<img src=\"./image/d05-07-1.png\" width=\"30%\"></img>"
   ]
  },
  {
   "cell_type": "markdown",
   "metadata": {},
   "source": [
    "<img src=\"./image/d05-07.png\" width=\"60%\"></img>\n",
    "<img src=\"./image/d05-08.png\" width=\"45%\"></img>"
   ]
  },
  {
   "cell_type": "markdown",
   "metadata": {},
   "source": [
    "### 커맨드에서 사용할 옵션, 대상, 인자"
   ]
  },
  {
   "cell_type": "markdown",
   "metadata": {},
   "source": [
    "네트워크 생성"
   ]
  },
  {
   "cell_type": "code",
   "execution_count": null,
   "metadata": {
    "vscode": {
     "languageId": "shellscript"
    }
   },
   "outputs": [],
   "source": [
    "docker network create 네트워크_이름"
   ]
  },
  {
   "cell_type": "markdown",
   "metadata": {},
   "source": [
    "MySQL 컨테이너 생성 및 실행"
   ]
  },
  {
   "cell_type": "code",
   "execution_count": null,
   "metadata": {
    "vscode": {
     "languageId": "shellscript"
    }
   },
   "outputs": [],
   "source": [
    "docker run --name 컨테이너_이름 -dit --net=네트워크_이름 \\\n",
    "  -e MYSQL_ROOT_PASSWORD=MySQL_루트_패스워드 \\\n",
    "  -e MYSQL_DATABASE=데이터베이스_이름 \\\n",
    "  -e MYSQL_USER=MySQL_사용자이름 \\\n",
    "  -e MYSQL_PASSWORD=MySQL_패스워드 \\\n",
    "  mysql:8.0 \\\n",
    "  --character-set-server=문자_인코딩 \\\n",
    "  --collation-server=정렬_순서 \\\n",
    "  --default-authentication-plugin=인증_방식"
   ]
  },
  {
   "cell_type": "markdown",
   "metadata": {},
   "source": [
    "워드프레스 컨테이너 생성 및 실행"
   ]
  },
  {
   "cell_type": "code",
   "execution_count": null,
   "metadata": {
    "vscode": {
     "languageId": "shellscript"
    }
   },
   "outputs": [],
   "source": [
    "docker run --name 컨테이너_이름 -dit --net=네트워크_이름 -p 포트_설정 \\\n",
    "  -e WORDPRESS_DB_HOST=데이터베이스_컨테이너_이름 \\\n",
    "  -e WORDPRESS_DB_NAME=데이터베이스_이름 \\\n",
    "  -e WORDPRESS_DB_USER=데이터베이스_사용자_이름 \\\n",
    "  -e WORDPRESS_DB_PASSWORD=데이터베이스_패스워드 \\\n",
    "  wordpress"
   ]
  },
  {
   "cell_type": "markdown",
   "metadata": {},
   "source": [
    "## 워드프레스와 MySQL 컨테이너 생성 및 실행"
   ]
  },
  {
   "cell_type": "markdown",
   "metadata": {},
   "source": [
    "#### 단계 1-- network create 커맨드를 사용해 네트워크 생성"
   ]
  },
  {
   "cell_type": "code",
   "execution_count": 1,
   "metadata": {
    "vscode": {
     "languageId": "shellscript"
    }
   },
   "outputs": [
    {
     "name": "stdout",
     "output_type": "stream",
     "text": [
      "838feaa399f09f53e647338f1c9976fd8b1ebb816ca55b063c8eae51948f1cc1\n"
     ]
    }
   ],
   "source": [
    "!docker network create wordpress000net1"
   ]
  },
  {
   "cell_type": "code",
   "execution_count": 2,
   "metadata": {
    "vscode": {
     "languageId": "shellscript"
    }
   },
   "outputs": [
    {
     "name": "stdout",
     "output_type": "stream",
     "text": [
      "NETWORK ID     NAME               DRIVER    SCOPE\n",
      "c5e98858cb65   bridge             bridge    local\n",
      "db7534889888   host               host      local\n",
      "3f3d252b73eb   none               null      local\n",
      "838feaa399f0   wordpress000net1   bridge    local\n"
     ]
    }
   ],
   "source": [
    "!docker network ls"
   ]
  },
  {
   "cell_type": "markdown",
   "metadata": {},
   "source": [
    "#### 단계 2 run 커맨드로 MySQL 컨테이너 생성 및 실행"
   ]
  },
  {
   "cell_type": "code",
   "execution_count": 3,
   "metadata": {
    "vscode": {
     "languageId": "shellscript"
    }
   },
   "outputs": [
    {
     "name": "stdout",
     "output_type": "stream",
     "text": [
      "b07a434f6623d9b2d93feed57bbf40604361574fde924e46c0cbaaa0e721cb39\n"
     ]
    },
    {
     "name": "stderr",
     "output_type": "stream",
     "text": [
      "Unable to find image 'mysql:8.0' locally\n",
      "8.0: Pulling from library/mysql\n",
      "d9a40b27c30f: Pulling fs layer\n",
      "7d8ccc83ce1d: Pulling fs layer\n",
      "f98ae2ef29c4: Pulling fs layer\n",
      "2e1aa9898aa1: Pulling fs layer\n",
      "d0229fb4f83e: Pulling fs layer\n",
      "bdfea4c359d4: Pulling fs layer\n",
      "d6fe59aa1e5c: Pulling fs layer\n",
      "7336dce1c47f: Pulling fs layer\n",
      "1c71c9d185d1: Pulling fs layer\n",
      "e63d4802c63b: Pulling fs layer\n",
      "383f329967ab: Pulling fs layer\n",
      "2e1aa9898aa1: Waiting\n",
      "d0229fb4f83e: Waiting\n",
      "bdfea4c359d4: Waiting\n",
      "d6fe59aa1e5c: Waiting\n",
      "7336dce1c47f: Waiting\n",
      "e63d4802c63b: Waiting\n",
      "1c71c9d185d1: Waiting\n",
      "383f329967ab: Waiting\n",
      "7d8ccc83ce1d: Verifying Checksum\n",
      "7d8ccc83ce1d: Download complete\n",
      "f98ae2ef29c4: Verifying Checksum\n",
      "f98ae2ef29c4: Download complete\n",
      "d0229fb4f83e: Verifying Checksum\n",
      "d0229fb4f83e: Download complete\n",
      "2e1aa9898aa1: Verifying Checksum\n",
      "2e1aa9898aa1: Download complete\n",
      "bdfea4c359d4: Verifying Checksum\n",
      "bdfea4c359d4: Download complete\n",
      "7336dce1c47f: Verifying Checksum\n",
      "7336dce1c47f: Download complete\n",
      "1c71c9d185d1: Verifying Checksum\n",
      "1c71c9d185d1: Download complete\n",
      "e63d4802c63b: Download complete\n",
      "383f329967ab: Download complete\n",
      "d6fe59aa1e5c: Verifying Checksum\n",
      "d6fe59aa1e5c: Download complete\n",
      "d9a40b27c30f: Download complete\n",
      "d9a40b27c30f: Pull complete\n",
      "7d8ccc83ce1d: Pull complete\n",
      "f98ae2ef29c4: Pull complete\n",
      "2e1aa9898aa1: Pull complete\n",
      "d0229fb4f83e: Pull complete\n",
      "bdfea4c359d4: Pull complete\n",
      "d6fe59aa1e5c: Pull complete\n",
      "7336dce1c47f: Pull complete\n",
      "1c71c9d185d1: Pull complete\n",
      "e63d4802c63b: Pull complete\n",
      "383f329967ab: Pull complete\n",
      "Digest: sha256:25d44c5eeef80daf6a6d8c9c2bc2e77e72307e8b7fddf96a8a7d4bda777f0a17\n",
      "Status: Downloaded newer image for mysql:8.0\n"
     ]
    }
   ],
   "source": [
    "!docker run --name mysql000ex11 -dit --net=wordpress000net1 \\\n",
    "  -e MYSQL_ROOT_PASSWORD=myrootpass \\\n",
    "  -e MYSQL_DATABASE=wordpress000db \\\n",
    "  -e MYSQL_USER=wordpress000kun \\\n",
    "  -e MYSQL_PASSWORD=wkunpass \\\n",
    "  mysql:8.0 \\\n",
    "  --character-set-server=utf8mb4 \\\n",
    "  --collation-server=utf8mb4_unicode_ci \\\n",
    "  --default-authentication-plugin=mysql_native_password"
   ]
  },
  {
   "cell_type": "markdown",
   "metadata": {},
   "source": [
    "#### 단계 3 'run' 커맨드로 WordPress 컨테이너를 생성 및 실행하기"
   ]
  },
  {
   "cell_type": "code",
   "execution_count": 4,
   "metadata": {
    "vscode": {
     "languageId": "shellscript"
    }
   },
   "outputs": [
    {
     "name": "stdout",
     "output_type": "stream",
     "text": [
      "7ceea97e276bdd0ad0b7c5659ad69bd205526a6491b312292cabdbdedc07f47d\n"
     ]
    },
    {
     "name": "stderr",
     "output_type": "stream",
     "text": [
      "Unable to find image 'wordpress:latest' locally\n",
      "latest: Pulling from library/wordpress\n",
      "e4fff0779e6d: Pulling fs layer\n",
      "ebe65c9579cf: Pulling fs layer\n",
      "73fb9bdf2456: Pulling fs layer\n",
      "029db5f1c17f: Pulling fs layer\n",
      "364fd66af37d: Pulling fs layer\n",
      "de55dbd5d220: Pulling fs layer\n",
      "18b6e8540b90: Pulling fs layer\n",
      "8e94b687cf8e: Pulling fs layer\n",
      "67c4fe835099: Pulling fs layer\n",
      "69122bd6c4de: Pulling fs layer\n",
      "399b24a49abd: Pulling fs layer\n",
      "126a489d1344: Pulling fs layer\n",
      "a1fef752f3f6: Pulling fs layer\n",
      "37d8441a5a6f: Pulling fs layer\n",
      "56bbd85fd130: Pulling fs layer\n",
      "2e44139c2607: Pulling fs layer\n",
      "98d6faf3f1a7: Pulling fs layer\n",
      "affb05935c5d: Pulling fs layer\n",
      "1b7cfe87833c: Pulling fs layer\n",
      "b9a329a4a02d: Pulling fs layer\n",
      "85da70461387: Pulling fs layer\n",
      "8e94b687cf8e: Waiting\n",
      "029db5f1c17f: Waiting\n",
      "67c4fe835099: Waiting\n",
      "364fd66af37d: Waiting\n",
      "69122bd6c4de: Waiting\n",
      "de55dbd5d220: Waiting\n",
      "399b24a49abd: Waiting\n",
      "18b6e8540b90: Waiting\n",
      "126a489d1344: Waiting\n",
      "a1fef752f3f6: Waiting\n",
      "37d8441a5a6f: Waiting\n",
      "56bbd85fd130: Waiting\n",
      "2e44139c2607: Waiting\n",
      "98d6faf3f1a7: Waiting\n",
      "affb05935c5d: Waiting\n",
      "1b7cfe87833c: Waiting\n",
      "b9a329a4a02d: Waiting\n",
      "85da70461387: Waiting\n",
      "ebe65c9579cf: Verifying Checksum\n",
      "ebe65c9579cf: Download complete\n",
      "029db5f1c17f: Verifying Checksum\n",
      "029db5f1c17f: Download complete\n",
      "364fd66af37d: Verifying Checksum\n",
      "364fd66af37d: Download complete\n",
      "de55dbd5d220: Download complete\n",
      "18b6e8540b90: Verifying Checksum\n",
      "18b6e8540b90: Download complete\n",
      "e4fff0779e6d: Download complete\n",
      "67c4fe835099: Verifying Checksum\n",
      "67c4fe835099: Download complete\n",
      "8e94b687cf8e: Verifying Checksum\n",
      "8e94b687cf8e: Download complete\n",
      "e4fff0779e6d: Pull complete\n",
      "ebe65c9579cf: Pull complete\n",
      "399b24a49abd: Download complete\n",
      "69122bd6c4de: Verifying Checksum\n",
      "69122bd6c4de: Download complete\n",
      "126a489d1344: Verifying Checksum\n",
      "126a489d1344: Download complete\n",
      "a1fef752f3f6: Verifying Checksum\n",
      "a1fef752f3f6: Download complete\n",
      "56bbd85fd130: Verifying Checksum\n",
      "56bbd85fd130: Download complete\n",
      "2e44139c2607: Verifying Checksum\n",
      "2e44139c2607: Download complete\n",
      "98d6faf3f1a7: Verifying Checksum\n",
      "98d6faf3f1a7: Download complete\n",
      "37d8441a5a6f: Verifying Checksum\n",
      "37d8441a5a6f: Download complete\n",
      "affb05935c5d: Verifying Checksum\n",
      "affb05935c5d: Download complete\n",
      "b9a329a4a02d: Verifying Checksum\n",
      "b9a329a4a02d: Download complete\n",
      "85da70461387: Verifying Checksum\n",
      "85da70461387: Download complete\n",
      "1b7cfe87833c: Verifying Checksum\n",
      "1b7cfe87833c: Download complete\n",
      "73fb9bdf2456: Verifying Checksum\n",
      "73fb9bdf2456: Download complete\n",
      "73fb9bdf2456: Pull complete\n",
      "029db5f1c17f: Pull complete\n",
      "364fd66af37d: Pull complete\n",
      "de55dbd5d220: Pull complete\n",
      "18b6e8540b90: Pull complete\n",
      "8e94b687cf8e: Pull complete\n",
      "67c4fe835099: Pull complete\n",
      "69122bd6c4de: Pull complete\n",
      "399b24a49abd: Pull complete\n",
      "126a489d1344: Pull complete\n",
      "a1fef752f3f6: Pull complete\n",
      "37d8441a5a6f: Pull complete\n",
      "56bbd85fd130: Pull complete\n",
      "2e44139c2607: Pull complete\n",
      "98d6faf3f1a7: Pull complete\n",
      "affb05935c5d: Pull complete\n",
      "1b7cfe87833c: Pull complete\n",
      "b9a329a4a02d: Pull complete\n",
      "85da70461387: Pull complete\n",
      "Digest: sha256:c029a137bec0b344fc1ced1980d12a82b93aae9105240afd4e3b1bf83d79a618\n",
      "Status: Downloaded newer image for wordpress:latest\n"
     ]
    }
   ],
   "source": [
    "!docker run --name wordpress000ex12 -dit --net=wordpress000net1 -p 8085:80 \\\n",
    "  -e WORDPRESS_DB_HOST=mysql000ex11 \\\n",
    "  -e WORDPRESS_DB_NAME=wordpress000db \\\n",
    "  -e WORDPRESS_DB_USER=wordpress000kun \\\n",
    "  -e WORDPRESS_DB_PASSWORD=wkunpass \\\n",
    "  wordpress"
   ]
  },
  {
   "cell_type": "markdown",
   "metadata": {},
   "source": [
    "#### 단계 4 'ps' 커맨드로 컨테이너가 실행 중인지 확인하기"
   ]
  },
  {
   "cell_type": "code",
   "execution_count": 6,
   "metadata": {
    "vscode": {
     "languageId": "shellscript"
    }
   },
   "outputs": [
    {
     "name": "stdout",
     "output_type": "stream",
     "text": [
      "CONTAINER ID   IMAGE       COMMAND                   CREATED          STATUS         PORTS                  NAMES\n",
      "7ceea97e276b   wordpress   \"docker-entrypoint.s…\"   9 minutes ago    Up 9 minutes   0.0.0.0:8085->80/tcp   wordpress000ex12\n",
      "b07a434f6623   mysql:8.0   \"docker-entrypoint.s…\"   10 minutes ago   Up 9 minutes   3306/tcp, 33060/tcp    mysql000ex11\n"
     ]
    }
   ],
   "source": [
    "!docker ps"
   ]
  },
  {
   "cell_type": "markdown",
   "metadata": {},
   "source": [
    "#### 단계 5 웹 브라우저를 통해 워드프레스에 접근해 확인"
   ]
  },
  {
   "cell_type": "code",
   "execution_count": null,
   "metadata": {
    "vscode": {
     "languageId": "shellscript"
    }
   },
   "outputs": [],
   "source": [
    "# !http://localhost:8085"
   ]
  },
  {
   "cell_type": "markdown",
   "metadata": {},
   "source": [
    "<img src=\"./image/d05-09.png\" width=\"60%\"></img>"
   ]
  },
  {
   "cell_type": "markdown",
   "metadata": {},
   "source": [
    "#### 단계 6 뒷정리하기"
   ]
  },
  {
   "cell_type": "markdown",
   "metadata": {},
   "source": [
    "컨테이너 종료"
   ]
  },
  {
   "cell_type": "code",
   "execution_count": 7,
   "metadata": {
    "vscode": {
     "languageId": "shellscript"
    }
   },
   "outputs": [
    {
     "name": "stdout",
     "output_type": "stream",
     "text": [
      "wordpress000ex12\n",
      "mysql000ex11\n"
     ]
    }
   ],
   "source": [
    "!docker stop wordpress000ex12\n",
    "!docker stop mysql000ex11"
   ]
  },
  {
   "cell_type": "markdown",
   "metadata": {},
   "source": [
    "컨테이너 삭제"
   ]
  },
  {
   "cell_type": "code",
   "execution_count": 8,
   "metadata": {
    "vscode": {
     "languageId": "shellscript"
    }
   },
   "outputs": [
    {
     "name": "stdout",
     "output_type": "stream",
     "text": [
      "wordpress000ex12\n",
      "mysql000ex11\n"
     ]
    }
   ],
   "source": [
    "!docker rm wordpress000ex12\n",
    "!docker rm mysql000ex11"
   ]
  },
  {
   "cell_type": "markdown",
   "metadata": {},
   "source": [
    "이미지 삭제"
   ]
  },
  {
   "cell_type": "code",
   "execution_count": 9,
   "metadata": {
    "vscode": {
     "languageId": "shellscript"
    }
   },
   "outputs": [
    {
     "name": "stdout",
     "output_type": "stream",
     "text": [
      "Untagged: wordpress:latest\n",
      "Untagged: wordpress@sha256:c029a137bec0b344fc1ced1980d12a82b93aae9105240afd4e3b1bf83d79a618\n",
      "Deleted: sha256:e826d932809cc344b40bea6d0cefe9eb9c71c148d2991be8ecbe8eee31196b14\n",
      "Deleted: sha256:604c559eb3dbd799cd6f734bc4ca84ccb729623df7a846527d3f9f2e17577816\n",
      "Deleted: sha256:60c6580bd07585c3670e8b6619c5e0ab16c052578b670951c4eeebc9f6ab155e\n",
      "Deleted: sha256:abb569aa0b609d104bb35368d78b44e531a7216bb1578bfdb509281ff4fd30ee\n",
      "Deleted: sha256:474d56773d22f771210ea6b1ce60585eddaded9ece60ba82cc0089029d5e8f52\n",
      "Deleted: sha256:5cca8027d2580898e68362b644ef3cd521ebf9622cde106bbe6065f70e61a96b\n",
      "Deleted: sha256:53a798400e29b5322b4a15dd44e2c8ee090e58fcbc0207dbee6a5202c2b39d77\n",
      "Deleted: sha256:c7a9ebaa1c23bb551ea89bb4505221df5b4fe1ca394629aca952e3a7a6a12aa7\n",
      "Deleted: sha256:30e152dbc08add3c1651d114575cf30d9269cb1acf24875696b14b0b61498cc1\n",
      "Deleted: sha256:484c23b88e399c88e5326717502441cb5914da031fa17881269c5d1329dbf699\n",
      "Deleted: sha256:eeb4feacd2042d826502a7ae138ab80da69af01b9049cbf784455e547641c63e\n",
      "Deleted: sha256:8705c1902afc74235430c8faccb31e90b81ca6e3c6691203927fbeddaceda927\n",
      "Deleted: sha256:fd8a2d07ea2cc02d912677c7742e8733f84832cf3ed313071e447aae0737aea7\n",
      "Deleted: sha256:97243b8507af6499075f54eee4276cdf712f8f37fb474f5b031f991a5f5f234a\n",
      "Deleted: sha256:36f904f6794a6a0c8686e3d4a3fb139a13386dbebb12f33ac0ce42fe56449eaf\n",
      "Deleted: sha256:7db0ed26ac65ac0043a00533884a07a639252003dce564b5e9c2aa726693d0c9\n",
      "Deleted: sha256:362c4e2325d1bdc795507e63ef92e9643a81aed6e0b46b1cd84a4a742aacc904\n",
      "Deleted: sha256:4f6d0c130949a7e1de24f4af57ed50ee37b3a071f0e2c5a782a805ec5cb5a278\n",
      "Deleted: sha256:e7bd46cdb40bdec7300d8ce57e06e12def2984b3f9896db0a9cee8d3206a9a42\n",
      "Deleted: sha256:bb532d42b850d6388075ff30feb81856c16c9719d56b03f7f56ea9f6f3c313a4\n",
      "Deleted: sha256:3f1eafcc1e20bded720afe29efdc7169b37b2e7178057f0986714dcd0a6a9920\n",
      "Deleted: sha256:9853575bc4f955c5892dd64187538a6cd02dba6968eba9201854876a7a257034\n",
      "Untagged: mysql:8.0\n",
      "Untagged: mysql@sha256:25d44c5eeef80daf6a6d8c9c2bc2e77e72307e8b7fddf96a8a7d4bda777f0a17\n",
      "Deleted: sha256:23b013c7c67d3b04af02965f22eea2f35279b4a5c39a2eec6698a840c511b042\n",
      "Deleted: sha256:fc2f6d071394c93ad591d44e490f484976ebd4437760dfaebe5170f2f101366d\n",
      "Deleted: sha256:ba24e76088d529fa32f267074e27e140b3029b5878c3b38b355af95e3ed32510\n",
      "Deleted: sha256:a2aab5cfdc927efdbcd456da463732dd777ff41234a8b31ae045a393560e3a73\n",
      "Deleted: sha256:da767fb510ca87a3219732cfe529e0dc09d4ad5b7ce37b6b9067ffbcd2c6909f\n",
      "Deleted: sha256:bc3d283fcf450752ddb098f4beb290186489e0e504e578ce98482f682137d6a5\n",
      "Deleted: sha256:c16b23fbfba348939fc40fc067552f7b5c939c88e01cf01d564d19d8543da8fd\n",
      "Deleted: sha256:1509e18285d663d39d3e1218a9098b6216c40f79937f1f99deb3c6eee52d9437\n",
      "Deleted: sha256:758472af8215b4e7377fa4643acfa0acbcae48ae3b78e0c7f71c0d65156d828a\n",
      "Deleted: sha256:b842d129ccb0b8355f88863b5a35c09257f495add00def23a0bf248979f37a85\n",
      "Deleted: sha256:b4836e69ea4a19e27acd1f47c7485f8997e777b6adcfb3511c533fb9ad3944f4\n",
      "Deleted: sha256:2606c15a4838dfb909dab29f47c601a797f657f51a35005bd06d01da891d813c\n"
     ]
    }
   ],
   "source": [
    "!docker image rm wordpress\n",
    "!docker image rm mysql:8.0"
   ]
  },
  {
   "cell_type": "code",
   "execution_count": 10,
   "metadata": {
    "vscode": {
     "languageId": "shellscript"
    }
   },
   "outputs": [
    {
     "name": "stdout",
     "output_type": "stream",
     "text": [
      "wordpress000net1\n"
     ]
    }
   ],
   "source": [
    "!docker network rm wordpress000net1"
   ]
  },
  {
   "cell_type": "markdown",
   "metadata": {},
   "source": [
    "# 03.명령어를 직접 작성하자"
   ]
  },
  {
   "cell_type": "markdown",
   "metadata": {},
   "source": [
    "## 소프트웨어와 데이터베이스의 관계"
   ]
  },
  {
   "cell_type": "markdown",
   "metadata": {},
   "source": [
    "워드프레스를 사용하려면 워드프레스 프로그램 외에도 아파치와 PHP 런타임, MySQL이 필요했다.  \n",
    "워드프레스 외에도 **이러한 형식으로 구성되는 웹 시스템**이 많다."
   ]
  },
  {
   "cell_type": "markdown",
   "metadata": {},
   "source": [
    "**리눅스 + 웹 서버 + 프로그래밍 언어 런타임 + 데이터베이스**\n",
    "\n",
    "'프로그램 본체 + 프로그램 런타임 + 웹서버' 컨테이너 + '데이터베이스' 컨테이너"
   ]
  },
  {
   "cell_type": "markdown",
   "metadata": {},
   "source": [
    "**LAMP 스택**\n",
    "\n",
    "<img src=\"./image/d05-10.png\" width=\"60%\"></img>"
   ]
  },
  {
   "cell_type": "markdown",
   "metadata": {},
   "source": [
    "### 문제 1: MySQL 컨테이너의 옵션 값 채워넣기"
   ]
  },
  {
   "cell_type": "markdown",
   "metadata": {},
   "source": [
    "MySQL run 명령어"
   ]
  },
  {
   "cell_type": "markdown",
   "metadata": {},
   "source": [
    "<img src=\"./image/d05-11.png\" width=\"60%\"></img>"
   ]
  },
  {
   "cell_type": "code",
   "execution_count": null,
   "metadata": {
    "vscode": {
     "languageId": "shellscript"
    }
   },
   "outputs": [],
   "source": [
    "docker run --name mysql000ex11 -dit \\\n",
    "  --net=wordpress000net1 \\\n",
    "  -e MYSQL_ROOT_PASSWORD=myrootpass \\\n",
    "  -e MYSQL_DATABASE=wordpress000db \\\n",
    "  -e MYSQL_USER=wordpress000kun \\\n",
    "  -e MYSQL_PASSWORD=wkunpass \\\n",
    "  mysql:8.0 \\\n",
    "  --character-set-server=utf8mb4 \\\n",
    "  --collation-server=utf8mb4_unicode_ci \\\n",
    "  --default-authentication-plugin=mysql_native_password"
   ]
  },
  {
   "cell_type": "markdown",
   "metadata": {},
   "source": [
    "### 문제 2: 워드프레스 컨테이너의 옵션 값 채워넣기"
   ]
  },
  {
   "cell_type": "markdown",
   "metadata": {},
   "source": [
    "워드프레스 run 명령어"
   ]
  },
  {
   "cell_type": "markdown",
   "metadata": {},
   "source": [
    "<img src=\"./image/d05-12.png\" width=\"60%\"></img>\n",
    "<img src=\"./image/d05-13.png\" width=\"60%\"></img>"
   ]
  },
  {
   "cell_type": "code",
   "execution_count": null,
   "metadata": {
    "vscode": {
     "languageId": "shellscript"
    }
   },
   "outputs": [],
   "source": [
    "docker run --name wordpress000ex12 -dit \\\n",
    "  --net=wordpress000net1 -p 8085:80 \\\n",
    "  -e WORDPRESS_DB_HOST=mysql000ex11 \\\n",
    "  -e WORDPRESS_DB_NAME=wordpress000db \\\n",
    "  -e WORDPRESS_DB_USER=wordpress000kun \\\n",
    "  -e WORDPRESS_DB_PASSWORD=wkunpass \\\n",
    "  wordpress"
   ]
  },
  {
   "cell_type": "markdown",
   "metadata": {},
   "source": [
    "# 04. 레드마인 및 MariaDB 컨테이너를 대상으로 연습하자"
   ]
  },
  {
   "cell_type": "markdown",
   "metadata": {},
   "source": [
    "## 레드마인 및 MySQL 컨테이너 생성"
   ]
  },
  {
   "cell_type": "markdown",
   "metadata": {},
   "source": [
    "<img src=\"./image/d05-14.png\" width=\"30%\"></img>"
   ]
  },
  {
   "cell_type": "markdown",
   "metadata": {},
   "source": [
    "### 생성할 네트워크 및 컨테이너의 정보"
   ]
  },
  {
   "cell_type": "markdown",
   "metadata": {},
   "source": [
    "<img src=\"./image/d05-15.png\" width=\"30%\"></img>"
   ]
  },
  {
   "cell_type": "markdown",
   "metadata": {},
   "source": [
    "### 커맨드에서 사용할 옵션, 대상, 인자"
   ]
  },
  {
   "cell_type": "markdown",
   "metadata": {},
   "source": [
    "네트워크 생성"
   ]
  },
  {
   "cell_type": "code",
   "execution_count": 11,
   "metadata": {
    "vscode": {
     "languageId": "shellscript"
    }
   },
   "outputs": [
    {
     "name": "stdout",
     "output_type": "stream",
     "text": [
      "a3620b565b35821183d5115979b9a95f6432d11e5cfa03ca93975e2cb0ba79b4\n"
     ]
    }
   ],
   "source": [
    "!docker network create redmine000net2"
   ]
  },
  {
   "cell_type": "markdown",
   "metadata": {},
   "source": [
    "MySQL 컨테이너 생성 및 실행"
   ]
  },
  {
   "cell_type": "code",
   "execution_count": 13,
   "metadata": {
    "vscode": {
     "languageId": "shellscript"
    }
   },
   "outputs": [
    {
     "name": "stdout",
     "output_type": "stream",
     "text": [
      "f5622a91d5a36d8729fac07c24c9d2e875ff2378ca21f8868a0afa3bac741720\n"
     ]
    },
    {
     "name": "stderr",
     "output_type": "stream",
     "text": [
      "Unable to find image 'mysql:8.0' locally\n",
      "8.0: Pulling from library/mysql\n",
      "d9a40b27c30f: Pulling fs layer\n",
      "7d8ccc83ce1d: Pulling fs layer\n",
      "f98ae2ef29c4: Pulling fs layer\n",
      "2e1aa9898aa1: Pulling fs layer\n",
      "d0229fb4f83e: Pulling fs layer\n",
      "bdfea4c359d4: Pulling fs layer\n",
      "d6fe59aa1e5c: Pulling fs layer\n",
      "7336dce1c47f: Pulling fs layer\n",
      "1c71c9d185d1: Pulling fs layer\n",
      "e63d4802c63b: Pulling fs layer\n",
      "383f329967ab: Pulling fs layer\n",
      "2e1aa9898aa1: Waiting\n",
      "e63d4802c63b: Waiting\n",
      "d0229fb4f83e: Waiting\n",
      "d6fe59aa1e5c: Waiting\n",
      "7336dce1c47f: Waiting\n",
      "1c71c9d185d1: Waiting\n",
      "383f329967ab: Waiting\n",
      "bdfea4c359d4: Waiting\n",
      "7d8ccc83ce1d: Verifying Checksum\n",
      "7d8ccc83ce1d: Download complete\n",
      "f98ae2ef29c4: Verifying Checksum\n",
      "f98ae2ef29c4: Download complete\n",
      "d0229fb4f83e: Verifying Checksum\n",
      "d0229fb4f83e: Download complete\n",
      "2e1aa9898aa1: Verifying Checksum\n",
      "2e1aa9898aa1: Download complete\n",
      "bdfea4c359d4: Verifying Checksum\n",
      "bdfea4c359d4: Download complete\n",
      "7336dce1c47f: Download complete\n",
      "1c71c9d185d1: Verifying Checksum\n",
      "1c71c9d185d1: Download complete\n",
      "e63d4802c63b: Download complete\n",
      "383f329967ab: Verifying Checksum\n",
      "383f329967ab: Download complete\n",
      "d9a40b27c30f: Verifying Checksum\n",
      "d9a40b27c30f: Download complete\n",
      "d6fe59aa1e5c: Download complete\n",
      "d9a40b27c30f: Pull complete\n",
      "7d8ccc83ce1d: Pull complete\n",
      "f98ae2ef29c4: Pull complete\n",
      "2e1aa9898aa1: Pull complete\n",
      "d0229fb4f83e: Pull complete\n",
      "bdfea4c359d4: Pull complete\n",
      "d6fe59aa1e5c: Pull complete\n",
      "7336dce1c47f: Pull complete\n",
      "1c71c9d185d1: Pull complete\n",
      "e63d4802c63b: Pull complete\n",
      "383f329967ab: Pull complete\n",
      "Digest: sha256:25d44c5eeef80daf6a6d8c9c2bc2e77e72307e8b7fddf96a8a7d4bda777f0a17\n",
      "Status: Downloaded newer image for mysql:8.0\n"
     ]
    }
   ],
   "source": [
    "!docker run --name mysql000ex13 -dit \\\n",
    "  --net=redmine000net2 \\\n",
    "  -e MYSQL_ROOT_PASSWORD=myrootpass \\\n",
    "  -e MYSQL_DATABASE=redmine000db \\\n",
    "  -e MYSQL_USER=redmine000kun \\\n",
    "  -e MYSQL_PASSWORD=rkunpass \\\n",
    "  mysql:8.0 \\\n",
    "  --character-set-server=utf8mb4 \\\n",
    "  --collation-server=utf8mb4_unicode_ci \\\n",
    "  --default-authentication-plugin=mysql_native_password"
   ]
  },
  {
   "cell_type": "markdown",
   "metadata": {},
   "source": [
    "<img src=\"./image/d05-16.png\" width=\"50%\"></img>"
   ]
  },
  {
   "cell_type": "markdown",
   "metadata": {},
   "source": [
    "레드마인 컨테이너의 생성 및 실행"
   ]
  },
  {
   "cell_type": "code",
   "execution_count": 14,
   "metadata": {
    "vscode": {
     "languageId": "shellscript"
    }
   },
   "outputs": [
    {
     "name": "stdout",
     "output_type": "stream",
     "text": [
      "1d97bdb0bf96bad6d79bdd5a426b379e43fe26ad51035422356654d7f711b505\n"
     ]
    },
    {
     "name": "stderr",
     "output_type": "stream",
     "text": [
      "Unable to find image 'redmine:latest' locally\n",
      "latest: Pulling from library/redmine\n",
      "e4fff0779e6d: Pulling fs layer\n",
      "861a67897794: Pulling fs layer\n",
      "5e2ffead0346: Pulling fs layer\n",
      "a8fa68e86ee9: Pulling fs layer\n",
      "948e7b65e902: Pulling fs layer\n",
      "4c52d81084b4: Pulling fs layer\n",
      "bd87a8eecda1: Pulling fs layer\n",
      "05379b07842c: Pulling fs layer\n",
      "9591fac65863: Pulling fs layer\n",
      "51e2c997aafe: Pulling fs layer\n",
      "9ef0e51d9af2: Pulling fs layer\n",
      "27a06a3e5d3a: Pulling fs layer\n",
      "2adc65a96402: Pulling fs layer\n",
      "05379b07842c: Waiting\n",
      "9591fac65863: Waiting\n",
      "51e2c997aafe: Waiting\n",
      "9ef0e51d9af2: Waiting\n",
      "27a06a3e5d3a: Waiting\n",
      "2adc65a96402: Waiting\n",
      "948e7b65e902: Waiting\n",
      "bd87a8eecda1: Waiting\n",
      "a8fa68e86ee9: Waiting\n",
      "4c52d81084b4: Waiting\n",
      "5e2ffead0346: Verifying Checksum\n",
      "5e2ffead0346: Download complete\n",
      "a8fa68e86ee9: Verifying Checksum\n",
      "a8fa68e86ee9: Download complete\n",
      "861a67897794: Verifying Checksum\n",
      "861a67897794: Download complete\n",
      "948e7b65e902: Download complete\n",
      "4c52d81084b4: Verifying Checksum\n",
      "4c52d81084b4: Download complete\n",
      "e4fff0779e6d: Verifying Checksum\n",
      "e4fff0779e6d: Download complete\n",
      "9591fac65863: Verifying Checksum\n",
      "9591fac65863: Download complete\n",
      "05379b07842c: Verifying Checksum\n",
      "05379b07842c: Download complete\n",
      "51e2c997aafe: Verifying Checksum\n",
      "51e2c997aafe: Download complete\n",
      "e4fff0779e6d: Pull complete\n",
      "9ef0e51d9af2: Verifying Checksum\n",
      "9ef0e51d9af2: Download complete\n",
      "861a67897794: Pull complete\n",
      "5e2ffead0346: Pull complete\n",
      "2adc65a96402: Verifying Checksum\n",
      "2adc65a96402: Download complete\n",
      "a8fa68e86ee9: Pull complete\n",
      "948e7b65e902: Pull complete\n",
      "4c52d81084b4: Pull complete\n",
      "27a06a3e5d3a: Verifying Checksum\n",
      "27a06a3e5d3a: Download complete\n",
      "bd87a8eecda1: Download complete\n",
      "bd87a8eecda1: Pull complete\n",
      "05379b07842c: Pull complete\n",
      "9591fac65863: Pull complete\n",
      "51e2c997aafe: Pull complete\n",
      "9ef0e51d9af2: Pull complete\n",
      "27a06a3e5d3a: Pull complete\n",
      "2adc65a96402: Pull complete\n",
      "Digest: sha256:684d199d615cf538351f9c055386892a8fdbe9dd59b0c176ea9eed07dd59dccb\n",
      "Status: Downloaded newer image for redmine:latest\n"
     ]
    }
   ],
   "source": [
    "!docker run -dit --name redmine000ex14 \\\n",
    "  --network redmine000net2 -p 8086:3000 \\\n",
    "  -e REDMINE_DB_MYSQL=mysql000ex13 \\\n",
    "  -e REDMINE_DB_DATABASE=redmine000db \\\n",
    "  -e REDMINE_DB_USERNAME=redmine000kun \\\n",
    "  -e REDMINE_DB_PASSWORD=rkunpass \\\n",
    "  redmine"
   ]
  },
  {
   "cell_type": "code",
   "execution_count": 15,
   "metadata": {
    "vscode": {
     "languageId": "shellscript"
    }
   },
   "outputs": [],
   "source": [
    "# http://localhost:8086"
   ]
  },
  {
   "cell_type": "markdown",
   "metadata": {},
   "source": [
    "<img src=\"./image/d05-17.png\" width=\"60%\"></img>"
   ]
  },
  {
   "cell_type": "markdown",
   "metadata": {},
   "source": [
    "## 레드마인 및 MariaDB 컨테이너 생성"
   ]
  },
  {
   "cell_type": "markdown",
   "metadata": {},
   "source": [
    "MariaDB는 MySQL 개발자가 만든 만큼 MySQL과 비슷한 점이 아주 많다. "
   ]
  },
  {
   "cell_type": "markdown",
   "metadata": {},
   "source": [
    "<img src=\"./image/d05-18.png\" width=\"30%\"></img>"
   ]
  },
  {
   "cell_type": "markdown",
   "metadata": {},
   "source": [
    "<img src=\"./image/d05-19.png\" width=\"30%\"></img>"
   ]
  },
  {
   "cell_type": "markdown",
   "metadata": {},
   "source": [
    "네트워크 생성"
   ]
  },
  {
   "cell_type": "code",
   "execution_count": 16,
   "metadata": {
    "vscode": {
     "languageId": "shellscript"
    }
   },
   "outputs": [
    {
     "name": "stdout",
     "output_type": "stream",
     "text": [
      "b9426700b29c7d8dcc3427ce6a2ed165c3a5ba82d1751f7f7b0e3397e3a4adf8\n"
     ]
    }
   ],
   "source": [
    "!docker network create redmine000net3"
   ]
  },
  {
   "cell_type": "markdown",
   "metadata": {},
   "source": [
    "MariaDB 컨테이너 생성 및 실행"
   ]
  },
  {
   "cell_type": "code",
   "execution_count": 17,
   "metadata": {
    "vscode": {
     "languageId": "shellscript"
    }
   },
   "outputs": [
    {
     "name": "stdout",
     "output_type": "stream",
     "text": [
      "1b523f03226ca96b8519de357f9e0362e45e2ea3ba52bbcd81caaea5f7068505\n"
     ]
    },
    {
     "name": "stderr",
     "output_type": "stream",
     "text": [
      "Unable to find image 'mariadb:latest' locally\n",
      "latest: Pulling from library/mariadb\n",
      "31e907dcc94a: Pulling fs layer\n",
      "8687fa065e6d: Pulling fs layer\n",
      "bc75b4546118: Pulling fs layer\n",
      "90824338d93e: Pulling fs layer\n",
      "c13aedba8d5d: Pulling fs layer\n",
      "ad9066662cff: Pulling fs layer\n",
      "537f82e52967: Pulling fs layer\n",
      "a5e6bca88fae: Pulling fs layer\n",
      "c13aedba8d5d: Waiting\n",
      "ad9066662cff: Waiting\n",
      "537f82e52967: Waiting\n",
      "a5e6bca88fae: Waiting\n",
      "90824338d93e: Waiting\n",
      "8687fa065e6d: Verifying Checksum\n",
      "8687fa065e6d: Download complete\n",
      "bc75b4546118: Verifying Checksum\n",
      "bc75b4546118: Download complete\n",
      "90824338d93e: Verifying Checksum\n",
      "90824338d93e: Download complete\n",
      "c13aedba8d5d: Verifying Checksum\n",
      "c13aedba8d5d: Download complete\n",
      "537f82e52967: Verifying Checksum\n",
      "537f82e52967: Download complete\n",
      "a5e6bca88fae: Download complete\n",
      "ad9066662cff: Verifying Checksum\n",
      "ad9066662cff: Download complete\n",
      "31e907dcc94a: Verifying Checksum\n",
      "31e907dcc94a: Download complete\n",
      "31e907dcc94a: Pull complete\n",
      "8687fa065e6d: Pull complete\n",
      "bc75b4546118: Pull complete\n",
      "90824338d93e: Pull complete\n",
      "c13aedba8d5d: Pull complete\n",
      "ad9066662cff: Pull complete\n",
      "537f82e52967: Pull complete\n",
      "a5e6bca88fae: Pull complete\n",
      "Digest: sha256:4b812bbd9a025569fbe5a7a70e4a3cd3af53aa36621fecb1c2e108af2113450a\n",
      "Status: Downloaded newer image for mariadb:latest\n"
     ]
    }
   ],
   "source": [
    "!docker run --name mariadb000ex15 -dit \\\n",
    "  --net=redmine000net3 \\\n",
    "  -e MYSQL_ROOT_PASSWORD=mariarootpass \\\n",
    "  -e MYSQL_DATABASE=redmine000db   \\\n",
    "  -e MYSQL_USER=redmine000kun \\\n",
    "  -e MYSQL_PASSWORD=rkunpass \\\n",
    "  mariadb \\\n",
    "  --character-set-server=utf8mb4 \\\n",
    "  --collation-server=utf8mb4_unicode_ci \\\n",
    "  --default-authentication-plugin=mysql_native_password"
   ]
  },
  {
   "cell_type": "markdown",
   "metadata": {},
   "source": [
    "<img src=\"./image/d05-20.png\" width=\"50%\"></img>\n",
    "<img src=\"./image/d05-21.png\" width=\"50%\"></img>"
   ]
  },
  {
   "cell_type": "markdown",
   "metadata": {},
   "source": [
    "레드마인 컨테이너의 생성 및 실행"
   ]
  },
  {
   "cell_type": "code",
   "execution_count": 19,
   "metadata": {
    "vscode": {
     "languageId": "shellscript"
    }
   },
   "outputs": [
    {
     "name": "stdout",
     "output_type": "stream",
     "text": [
      "367511e09b5e199d5f2dd0dced8d724f739b8b298cdd1b0fb120a5db7e304e86\n"
     ]
    }
   ],
   "source": [
    "!docker run -dit --name redmine000ex16 \\\n",
    "  --network redmine000net3 -p 8087:3000 \\\n",
    "  -e REDMINE_DB_MYSQL=mariadb000ex15 \\\n",
    "  -e REDMINE_DB_DATABASE=redmine000db \\\n",
    "  -e REDMINE_DB_USERNAME=redmine000kun \\\n",
    "  -e REDMINE_DB_PASSWORD=rkunpass \\\n",
    "  redmine"
   ]
  },
  {
   "cell_type": "markdown",
   "metadata": {},
   "source": [
    "<img src=\"./image/d05-22.png\" width=\"50%\"></img>"
   ]
  },
  {
   "cell_type": "code",
   "execution_count": null,
   "metadata": {
    "vscode": {
     "languageId": "shellscript"
    }
   },
   "outputs": [],
   "source": [
    "# http://localhost:8087"
   ]
  },
  {
   "cell_type": "markdown",
   "metadata": {},
   "source": [
    "#### 뒷정리"
   ]
  },
  {
   "cell_type": "markdown",
   "metadata": {},
   "source": [
    "##### 컨테이너 뒷정리"
   ]
  },
  {
   "cell_type": "code",
   "execution_count": 5,
   "metadata": {
    "vscode": {
     "languageId": "shellscript"
    }
   },
   "outputs": [
    {
     "name": "stdout",
     "output_type": "stream",
     "text": [
      "CONTAINER ID   IMAGE     COMMAND   CREATED   STATUS    PORTS     NAMES\n"
     ]
    }
   ],
   "source": [
    "# 컨테이너 목록 확인\n",
    "!docker ps -a"
   ]
  },
  {
   "cell_type": "code",
   "execution_count": 6,
   "metadata": {
    "vscode": {
     "languageId": "shellscript"
    }
   },
   "outputs": [
    {
     "name": "stderr",
     "output_type": "stream",
     "text": [
      "Error response from daemon: No such container: edmine000ex16\n"
     ]
    }
   ],
   "source": [
    "# 컨테이너 종료\n",
    "!docker stop edmine000ex16"
   ]
  },
  {
   "cell_type": "code",
   "execution_count": 1,
   "metadata": {
    "vscode": {
     "languageId": "shellscript"
    }
   },
   "outputs": [
    {
     "name": "stderr",
     "output_type": "stream",
     "text": [
      "Error response from daemon: No such container: edmine000ex16\n"
     ]
    }
   ],
   "source": [
    "# 컨테이너 삭제\n",
    "!docker rm edmine000ex16"
   ]
  },
  {
   "cell_type": "markdown",
   "metadata": {},
   "source": [
    "##### 이미지 뒷정리"
   ]
  },
  {
   "cell_type": "code",
   "execution_count": 2,
   "metadata": {
    "vscode": {
     "languageId": "shellscript"
    }
   },
   "outputs": [
    {
     "name": "stdout",
     "output_type": "stream",
     "text": [
      "REPOSITORY   TAG       IMAGE ID   CREATED   SIZE\n"
     ]
    }
   ],
   "source": [
    "# 이미지 목록 확인\n",
    "!docker image ls"
   ]
  },
  {
   "cell_type": "code",
   "execution_count": 27,
   "metadata": {
    "vscode": {
     "languageId": "shellscript"
    }
   },
   "outputs": [
    {
     "name": "stderr",
     "output_type": "stream",
     "text": [
      "Error response from daemon: conflict: unable to remove repository reference \"docker/labs-vscode-installer:0.0.3\" (must force) - container cb078f6442ba is using its referenced image b5e14f161d00\n"
     ]
    }
   ],
   "source": [
    "# 이미지 삭제\n",
    "!docker image rm docker/labs-vscode-installer:0.0.3"
   ]
  },
  {
   "cell_type": "markdown",
   "metadata": {},
   "source": [
    "##### 네트워크 뒷정리"
   ]
  },
  {
   "cell_type": "code",
   "execution_count": 1,
   "metadata": {
    "vscode": {
     "languageId": "shellscript"
    }
   },
   "outputs": [
    {
     "name": "stdout",
     "output_type": "stream",
     "text": [
      "NETWORK ID     NAME      DRIVER    SCOPE\n",
      "9048b1acbcd7   bridge    bridge    local\n",
      "db7534889888   host      host      local\n",
      "3f3d252b73eb   none      null      local\n"
     ]
    }
   ],
   "source": [
    "# 네트워크 목록 확인\n",
    "!docker network ls"
   ]
  },
  {
   "cell_type": "code",
   "execution_count": 14,
   "metadata": {
    "vscode": {
     "languageId": "shellscript"
    }
   },
   "outputs": [
    {
     "name": "stderr",
     "output_type": "stream",
     "text": [
      "Error response from daemon: network redmine000net2 not found\n",
      "Error response from daemon: network redmine000net3 not found\n"
     ]
    }
   ],
   "source": [
    "# 네트워크 삭제\n",
    "!docker network rm redmine000net2 redmine000net3"
   ]
  },
  {
   "cell_type": "markdown",
   "metadata": {},
   "source": [
    "##### 볼륨 뒷정리"
   ]
  },
  {
   "cell_type": "code",
   "execution_count": 19,
   "metadata": {
    "vscode": {
     "languageId": "shellscript"
    }
   },
   "outputs": [
    {
     "name": "stdout",
     "output_type": "stream",
     "text": [
      "DRIVER    VOLUME NAME\n"
     ]
    }
   ],
   "source": [
    "# 볼륨 목록 확인\n",
    "!docker volume ls"
   ]
  },
  {
   "cell_type": "code",
   "execution_count": 2,
   "metadata": {
    "vscode": {
     "languageId": "shellscript"
    }
   },
   "outputs": [
    {
     "name": "stderr",
     "output_type": "stream",
     "text": [
      "Error response from daemon: get 2b6243c4bad7966c4306c9f8a84584af31eb2009f0f033ec8efed1f29debadfd: no such volume\n"
     ]
    }
   ],
   "source": [
    "# 볼륨 삭제\n",
    "!docker volume rm 2b6243c4bad7966c4306c9f8a84584af31eb2009f0f033ec8efed1f29debadfd"
   ]
  }
 ],
 "metadata": {
  "kernelspec": {
   "display_name": "Python 3",
   "language": "python",
   "name": "python3"
  },
  "language_info": {
   "codemirror_mode": {
    "name": "ipython",
    "version": 3
   },
   "file_extension": ".py",
   "mimetype": "text/x-python",
   "name": "python",
   "nbconvert_exporter": "python",
   "pygments_lexer": "ipython3",
   "version": "3.12.4"
  }
 },
 "nbformat": 4,
 "nbformat_minor": 2
}
