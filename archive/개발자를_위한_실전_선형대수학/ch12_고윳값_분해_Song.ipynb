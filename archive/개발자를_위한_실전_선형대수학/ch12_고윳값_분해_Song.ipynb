{
 "cells": [
  {
   "cell_type": "markdown",
   "id": "8e31fcf2-3d8a-48c6-8928-d0f271e15716",
   "metadata": {},
   "source": [
    "# 고윳값과 고유벡터의 해석"
   ]
  },
  {
   "cell_type": "markdown",
   "id": "afdeebb4-84cc-4c7e-9586-bde54e8fedc6",
   "metadata": {},
   "source": [
    "# 고윳값 구하기"
   ]
  },
  {
   "cell_type": "code",
   "execution_count": 17,
   "id": "d10c174f-696f-4ecd-a8bf-c6f8aa75d10c",
   "metadata": {},
   "outputs": [],
   "source": [
    "import numpy as np\n",
    "\n",
    "# 주어진 행렬 A\n",
    "A = np.array([[1, 2], [3, 4]])\n",
    "\n",
    "# A의 고유값과 고유벡터 계산\n",
    "evals, evectors = np.linalg.eig(A)"
   ]
  },
  {
   "cell_type": "code",
   "execution_count": 18,
   "id": "170bdbea-cedb-4f4e-a8b5-fe39d853f365",
   "metadata": {},
   "outputs": [
    {
     "name": "stdout",
     "output_type": "stream",
     "text": [
      "고유값 -0.3722813232690143에 대해:\n",
      "Av: [ 0.30697009 -0.21062466]\n",
      "lambda*v: [ 0.30697009 -0.21062466]\n",
      "검증: True \n",
      "\n",
      "고유값 5.372281323269014에 대해:\n",
      "Av: [-2.23472698 -4.88542751]\n",
      "lambda*v: [-2.23472698 -4.88542751]\n",
      "검증: True \n",
      "\n"
     ]
    }
   ],
   "source": [
    "# 고유값 방정식 검증\n",
    "for i in range(len(evals)):\n",
    "    lambda_i = evals[i]  # i번째 고유값\n",
    "    v_i = evectors[:, i]  # i번째 고유벡터\n",
    "\n",
    "    # Av 계산\n",
    "    Av = A.dot(v_i)\n",
    "\n",
    "    # lambda*v 계산\n",
    "    lambda_v = lambda_i * v_i\n",
    "\n",
    "    # 결과 출력\n",
    "    print(f\"고유값 {lambda_i}에 대해:\")\n",
    "    print(\"Av:\", Av)\n",
    "    print(\"lambda*v:\", lambda_v)\n",
    "    print(\"검증:\", np.allclose(Av, lambda_v), \"\\n\")  # Av와 lambda*v가 거의 같은지 검증"
   ]
  },
  {
   "cell_type": "markdown",
   "id": "bce77109-9f06-4bcc-8192-d63bb1a502ea",
   "metadata": {},
   "source": [
    "## 연습 문제 12-1"
   ]
  },
  {
   "cell_type": "code",
   "execution_count": 33,
   "id": "abc60073-0437-450e-80bd-17f3de780377",
   "metadata": {},
   "outputs": [
    {
     "name": "stdout",
     "output_type": "stream",
     "text": [
      "Eigenvalues of A:\n",
      "[ 0.0195554   0.07203818  1.53838673  5.59819507 10.57397378]\n",
      " \n",
      "Eigenvalues of inv(A):\n",
      "[ 0.09457183  0.178629    0.65003161 13.88152848 51.13676036]\n",
      " \n",
      "Reciprocal of evals of inv(A):\n",
      "[ 0.0195554   0.07203818  1.53838673  5.59819507 10.57397378]\n"
     ]
    }
   ],
   "source": [
    "# create the matrix\n",
    "A = np.random.randn(5,5)\n",
    "A = A.T@A\n",
    "\n",
    "# compute its inverse\n",
    "Ai = np.linalg.inv(A)\n",
    "\n",
    "# eigenvalues of A and Ai\n",
    "eigvals_A  = np.linalg.eig(A)[0]\n",
    "eigvals_Ai = np.linalg.eig(Ai)[0]\n",
    "\n",
    "# compare them (hint: sorting helps!)\n",
    "print('Eigenvalues of A:')\n",
    "print(np.sort(eigvals_A))\n",
    "\n",
    "print(' ')\n",
    "print('Eigenvalues of inv(A):')\n",
    "print(np.sort(eigvals_Ai))\n",
    "\n",
    "print(' ')\n",
    "print('Reciprocal of evals of inv(A):')\n",
    "print(np.sort(1/eigvals_Ai))"
   ]
  },
  {
   "cell_type": "markdown",
   "id": "0a2e4330-0224-4319-9005-d91ad87f3105",
   "metadata": {},
   "source": [
    "# 고유벡터 찾기"
   ]
  },
  {
   "cell_type": "code",
   "execution_count": 46,
   "id": "93d0cfaa-ddb2-4b14-8bc0-af1e7473ba6a",
   "metadata": {},
   "outputs": [
    {
     "name": "stdout",
     "output_type": "stream",
     "text": [
      "[ 0.31310565 -1.42482408 -0.43748258]\n"
     ]
    }
   ],
   "source": [
    "A = np.random.randn(3,3)\n",
    "evals, evecs = np.linalg.eig(A)\n",
    "print(evals)"
   ]
  },
  {
   "cell_type": "code",
   "execution_count": 48,
   "id": "f739f71f-3e55-45ad-b843-e9b3758b2053",
   "metadata": {},
   "outputs": [
    {
     "name": "stdout",
     "output_type": "stream",
     "text": [
      "[[ 0.12321898  0.32996806  0.20755388]\n",
      " [-0.85242069  0.83244645 -0.97754579]\n",
      " [ 0.50812995  0.44514491  0.0364089 ]]\n"
     ]
    }
   ],
   "source": [
    "print(evecs)"
   ]
  },
  {
   "cell_type": "markdown",
   "id": "3da65481-c35a-4fe8-831c-45f461f32849",
   "metadata": {},
   "source": [
    "## 연습 문제 12-2"
   ]
  },
  {
   "cell_type": "code",
   "execution_count": 35,
   "id": "abcf64f4-7ccf-4d56-a888-dd448a80b0b3",
   "metadata": {},
   "outputs": [
    {
     "data": {
      "image/png": "[encoded data removed]",
      "text/plain": [
       "<Figure size 1000x600 with 2 Axes>"
      ]
     },
     "metadata": {},
     "output_type": "display_data"
    }
   ],
   "source": [
    "import matplotlib.pyplot as plt \n",
    "\n",
    "# the matrix\n",
    "M = np.array([ [-1,1],\n",
    "               [-1,2] ])\n",
    "\n",
    "# its eigenvalues and eigenvectors\n",
    "eigenvalues,eigenvectors = np.linalg.eig(M)\n",
    "\n",
    "# some random vectors\n",
    "notEigenvectors = np.random.randn(2,2)\n",
    "\n",
    "# multipy to create new vectors\n",
    "Mv = M @ eigenvectors\n",
    "Mw = M @ notEigenvectors\n",
    "\n",
    "\n",
    "\n",
    "## and now plot\n",
    "_,axs = plt.subplots(1,2,figsize=(10,6))\n",
    "\n",
    "# the two eigenvectors\n",
    "axs[0].plot([0,eigenvectors[0,0]],[0,eigenvectors[0,1]],'k',linewidth=2,label='$v_1$')\n",
    "axs[0].plot([0,Mv[0,0]],[0,Mv[0,1]],'k--',linewidth=2,label='$Mv_1$')\n",
    "\n",
    "axs[0].plot([0,eigenvectors[1,0]],[0,eigenvectors[1,1]],'r',linewidth=2,label='$v_2$')\n",
    "axs[0].plot([0,Mv[1,0]],[0,Mv[1,1]],'r--',linewidth=2,label='$Mv_2$')\n",
    "\n",
    "# the two non-eigenvectors\n",
    "axs[1].plot([0,notEigenvectors[0,0]],[0,notEigenvectors[0,1]],'k',linewidth=2,label='$w_1$')\n",
    "axs[1].plot([0,Mw[0,0]],[0,Mw[0,1]],'k--',linewidth=2,label='$Mw_1$')\n",
    "\n",
    "axs[1].plot([0,notEigenvectors[1,0]],[0,notEigenvectors[1,1]],'r',linewidth=2,label='$w_2$')\n",
    "axs[1].plot([0,Mw[1,0]],[0,Mw[1,1]],'r--',linewidth=2,label='$Mw_2$')\n",
    "\n",
    "\n",
    "# adjust the graphs a bit\n",
    "for i in range(2):\n",
    "  axs[i].axis('square')\n",
    "  axs[i].set_xlim([-1.5,1.5])\n",
    "  axs[i].set_ylim([-1.5,1.5])\n",
    "  axs[i].grid()\n",
    "  axs[i].legend()\n",
    "\n",
    "plt.show()"
   ]
  },
  {
   "cell_type": "markdown",
   "id": "5d70fe7e-279f-4621-8bc0-82e147e9dd7a",
   "metadata": {},
   "source": [
    "# 정방 행렬의 대각화"
   ]
  },
  {
   "cell_type": "code",
   "execution_count": 52,
   "id": "70d68c84-6bb6-4a86-979b-46950e8d3d06",
   "metadata": {},
   "outputs": [],
   "source": [
    "evals, evecs = np.linalg.eig(matrix)\n",
    "D = np.diag(evals)"
   ]
  },
  {
   "cell_type": "code",
   "execution_count": 54,
   "id": "b22467c8-1c1d-4c95-9f01-ea8e421b0293",
   "metadata": {},
   "outputs": [
    {
     "name": "stdout",
     "output_type": "stream",
     "text": [
      "[-0.37228132  5.37228132]\n"
     ]
    }
   ],
   "source": [
    "print(evals)"
   ]
  },
  {
   "cell_type": "code",
   "execution_count": 55,
   "id": "aa4005ee-7cab-4c6c-a716-54cc09d122ba",
   "metadata": {},
   "outputs": [
    {
     "data": {
      "text/plain": [
       "array([[-0.37228132,  0.        ],\n",
       "       [ 0.        ,  5.37228132]])"
      ]
     },
     "execution_count": 55,
     "metadata": {},
     "output_type": "execute_result"
    }
   ],
   "source": [
    "D"
   ]
  },
  {
   "cell_type": "markdown",
   "id": "187caf18-c9a9-4aa3-8247-aee02bf931cd",
   "metadata": {},
   "source": [
    "## 연습 문제 12-3"
   ]
  },
  {
   "cell_type": "code",
   "execution_count": 36,
   "id": "d904864c-d872-4b5f-9ce1-d6a5bd0e7e0b",
   "metadata": {},
   "outputs": [
    {
     "name": "stdout",
     "output_type": "stream",
     "text": [
      "[[ 0.  0.  0.  0.  0.]\n",
      " [ 0.  0. -0. -0. -0.]\n",
      " [ 0. -0.  0.  0. -0.]\n",
      " [ 0. -0.  0.  0. -0.]\n",
      " [ 0. -0. -0. -0.  0.]]\n",
      "\n",
      "Frobenius distance: 9.585041539977445e-15\n"
     ]
    }
   ],
   "source": [
    "# instructions don't specify matrix size; I'll use n=5\n",
    "N = 5\n",
    "\n",
    "# to store the reconstruction accuracies\n",
    "reconAcc = np.zeros(4)\n",
    "\n",
    "\n",
    "# Create a symmetric random-integers matrix\n",
    "A = np.random.randn(N,N)\n",
    "A = np.round( A.T+A )\n",
    "\n",
    "# diagonalize the matrix\n",
    "d,V  = np.linalg.eig(A)\n",
    "D    = np.diag(d)\n",
    "\n",
    "# demonstrate reconstruction accuracy\n",
    "# remember that inv(V)=V.T!\n",
    "Arecon = V @ D @ V.T\n",
    "print(np.round( A-Arecon ,4))\n",
    "\n",
    "reconAcc[0] = np.sqrt(np.sum( (A-Arecon)**2 ))\n",
    "print(f'\\nFrobenius distance: {reconAcc[0]}')"
   ]
  },
  {
   "cell_type": "code",
   "execution_count": 37,
   "id": "fc573d6b-ca26-4e14-bfbe-ff35e168b7dd",
   "metadata": {},
   "outputs": [
    {
     "name": "stdout",
     "output_type": "stream",
     "text": [
      "[[ 2.9366 -0.8439 -3.642   0.4942 -1.4252]\n",
      " [-0.8439 -0.819   2.7043  0.7125  1.1681]\n",
      " [-3.642   2.7043 -1.0878  1.2047  1.806 ]\n",
      " [ 0.4942  0.7125  1.2047 -3.4947 -1.0632]\n",
      " [-1.4252  1.1681  1.806  -1.0632  2.4649]]\n",
      "\n",
      "Frobenius distance: 9.556602280084373\n"
     ]
    }
   ],
   "source": [
    "# create D-tilde\n",
    "Dtild = np.diag( d[np.random.permutation(N)] )\n",
    "\n",
    "# test reconstruction accuracy\n",
    "Arecon = V @ Dtild @ V.T\n",
    "print(np.round( A-Arecon ,4))\n",
    "\n",
    "reconAcc[1] = np.sqrt(np.sum( (A-Arecon)**2 ))\n",
    "print(f'\\nFrobenius distance: {reconAcc[1]}')"
   ]
  },
  {
   "cell_type": "code",
   "execution_count": 38,
   "id": "03775570-c7c7-4eb7-bd68-cac194b5029a",
   "metadata": {},
   "outputs": [
    {
     "name": "stdout",
     "output_type": "stream",
     "text": [
      "[[ 0.2346  1.1359  0.8295 -0.3656  0.8167]\n",
      " [ 1.1359 -0.313   0.8034  2.1553 -0.0485]\n",
      " [ 0.8295  0.8034  0.061  -1.3318 -1.0331]\n",
      " [-0.3656  2.1553 -1.3318 -0.7232 -0.5143]\n",
      " [ 0.8167 -0.0485 -1.0331 -0.5143  0.7406]]\n",
      "\n",
      "Frobenius distance: 4.856218975357484\n"
     ]
    }
   ],
   "source": [
    "### swap only the two largest eigenvalues\n",
    "evals_sort_idx = np.argsort(d) # note: default is to sort \n",
    "i = evals_sort_idx[np.r_[np.arange(N-2),N-1,N-2]][::-1]\n",
    "\n",
    "# create D-tilde\n",
    "Dtild = np.diag( d[i] )\n",
    "\n",
    "# test reconstruction accuracy\n",
    "Arecon = V @ Dtild @ V.T\n",
    "print(np.round( A-Arecon ,4))\n",
    "\n",
    "reconAcc[2] = np.sqrt(np.sum( (A-Arecon)**2 ))\n",
    "print(f'\\nFrobenius distance: {reconAcc[2]}')"
   ]
  },
  {
   "cell_type": "code",
   "execution_count": 39,
   "id": "4f8545e0-39c5-498b-9291-6d7f2e0a6458",
   "metadata": {},
   "outputs": [
    {
     "name": "stdout",
     "output_type": "stream",
     "text": [
      "[[ 0.2525  0.0242  0.5356 -0.9412 -0.23  ]\n",
      " [ 0.0242 -1.0548  0.2786  1.9155  0.433 ]\n",
      " [ 0.5356  0.2786  1.0869 -2.4273 -0.5856]\n",
      " [-0.9412  1.9155 -2.4273 -0.2983 -0.0063]\n",
      " [-0.23    0.433  -0.5856 -0.0063  0.0136]]\n",
      "\n",
      "Frobenius distance: 5.023662979880737\n"
     ]
    }
   ],
   "source": [
    "### swap only the two smallest eigenvalues\n",
    "evals_sort_idx = np.argsort(d) # note: default is to sort \n",
    "i = evals_sort_idx[np.r_[1,0,np.arange(2,N)]][::-1]\n",
    "\n",
    "# create D-tilde\n",
    "Dtild = np.diag( d[i] )\n",
    "\n",
    "# test reconstruction accuracy\n",
    "Arecon = V @ Dtild @ V.T\n",
    "print(np.round( A-Arecon ,4))\n",
    "\n",
    "reconAcc[3] = np.sqrt(np.sum( (A-Arecon)**2 ))\n",
    "print(f'\\nFrobenius distance: {reconAcc[3]}')"
   ]
  },
  {
   "cell_type": "code",
   "execution_count": 40,
   "id": "0f17f431-07f8-48ea-a5bf-c55e62350ad7",
   "metadata": {},
   "outputs": [
    {
     "data": {
      "image/png": "[encoded data removed]",
      "text/plain": [
       "<Figure size 800x600 with 1 Axes>"
      ]
     },
     "metadata": {},
     "output_type": "display_data"
    }
   ],
   "source": [
    "# now for the plot\n",
    "\n",
    "plt.figure(figsize=(8,6))\n",
    "\n",
    "plt.bar(range(4),reconAcc)\n",
    "plt.xticks(range(4),labels=['None','All','Largest two','Smallest two'])\n",
    "plt.ylabel('Frobenius distance to original matrix')\n",
    "plt.xlabel('Type of eigenvalue swapping')\n",
    "plt.title('Reconstruction accuracy')\n",
    "\n",
    "plt.show()"
   ]
  },
  {
   "cell_type": "markdown",
   "id": "f18adc19-dcee-423c-b75c-781b6ea0b4cd",
   "metadata": {},
   "source": [
    "# 대칭 행렬의 특별함"
   ]
  },
  {
   "cell_type": "markdown",
   "id": "5e7f1e09-c0f6-4cc9-9c5b-4c8829de9ca8",
   "metadata": {},
   "source": [
    "## 직교 고유벡터"
   ]
  },
  {
   "cell_type": "code",
   "execution_count": 56,
   "id": "d3edff98-2897-46e1-bcd2-c9a16be57927",
   "metadata": {},
   "outputs": [
    {
     "data": {
      "text/plain": [
       "array([[-3, -2, -2],\n",
       "       [-3,  2, -2],\n",
       "       [-2, -2,  1]])"
      ]
     },
     "execution_count": 56,
     "metadata": {},
     "output_type": "execute_result"
    }
   ],
   "source": [
    "A = np.random.randint(-3, 4, (3, 3))\n",
    "A"
   ]
  },
  {
   "cell_type": "code",
   "execution_count": 57,
   "id": "97fb975e-76c8-44fd-882f-6d3ab13a213a",
   "metadata": {},
   "outputs": [
    {
     "data": {
      "text/plain": [
       "array([[22,  4, 10],\n",
       "       [ 4, 12, -2],\n",
       "       [10, -2,  9]])"
      ]
     },
     "execution_count": 57,
     "metadata": {},
     "output_type": "execute_result"
    }
   ],
   "source": [
    "A = A.T@A\n",
    "A"
   ]
  },
  {
   "cell_type": "code",
   "execution_count": 58,
   "id": "8af21c53-b9d4-44bd-b782-8cf6bd988c6b",
   "metadata": {},
   "outputs": [],
   "source": [
    "L, V = np.linalg.eig(A)"
   ]
  },
  {
   "cell_type": "code",
   "execution_count": 59,
   "id": "e2a3adc2-4c54-4086-8cf4-488e4b33955f",
   "metadata": {},
   "outputs": [
    {
     "name": "stdout",
     "output_type": "stream",
     "text": [
      "-1.1102230246251565e-16\n",
      "2.220446049250313e-16\n",
      "5.551115123125783e-17\n"
     ]
    }
   ],
   "source": [
    "# all pairwise dot products\n",
    "print( np.dot(V[:,0],V[:,1]) )\n",
    "print( np.dot(V[:,0],V[:,2]) )\n",
    "print( np.dot(V[:,1],V[:,2]) )"
   ]
  },
  {
   "cell_type": "markdown",
   "id": "9285a568-1ed2-43f0-9aad-0dc19d5c6bf0",
   "metadata": {},
   "source": [
    "## 실수 고윳값"
   ]
  },
  {
   "cell_type": "code",
   "execution_count": 61,
   "id": "75561f28-0370-46e0-857e-8542da26e862",
   "metadata": {},
   "outputs": [],
   "source": [
    "A = np.array([[-3, -3, 0],\n",
    "              [ 3, -2, 3],\n",
    "              [ 0,  1, 2]])"
   ]
  },
  {
   "cell_type": "code",
   "execution_count": 64,
   "id": "bf6216ed-120e-4778-bc23-ea583eb33a9a",
   "metadata": {},
   "outputs": [
    {
     "data": {
      "text/plain": [
       "array([-2.744739  +2.85172624j, -2.744739  -2.85172624j,\n",
       "        2.48947801+0.j        ])"
      ]
     },
     "execution_count": 64,
     "metadata": {},
     "output_type": "execute_result"
    }
   ],
   "source": [
    "L, V = np.linalg.eig(A)\n",
    "L"
   ]
  },
  {
   "cell_type": "code",
   "execution_count": 65,
   "id": "3e1a31af-6394-4d1a-983e-9d99f6ed8919",
   "metadata": {},
   "outputs": [
    {
     "data": {
      "text/plain": [
       "array([[-2.744739  +2.85172624j],\n",
       "       [-2.744739  -2.85172624j],\n",
       "       [ 2.48947801+0.j        ]])"
      ]
     },
     "execution_count": 65,
     "metadata": {},
     "output_type": "execute_result"
    }
   ],
   "source": [
    "L.reshape(-1, 1)"
   ]
  },
  {
   "cell_type": "code",
   "execution_count": 66,
   "id": "a767fdd4-0a02-4890-b830-34a0d3169280",
   "metadata": {},
   "outputs": [
    {
     "data": {
      "text/plain": [
       "array([[-5.59707146],\n",
       "       [ 0.22606174],\n",
       "       [ 2.37100972]])"
      ]
     },
     "execution_count": 66,
     "metadata": {},
     "output_type": "execute_result"
    }
   ],
   "source": [
    "A = np.array([[-3, -3, 0],\n",
    "              [-3, -2, 1],\n",
    "              [ 0,  1, 2]])\n",
    "\n",
    "L, V = np.linalg.eig(A)\n",
    "L.reshape(-1, 1)"
   ]
  },
  {
   "cell_type": "code",
   "execution_count": null,
   "id": "95f24efb-f81f-47c0-97ea-5cf3b4cc6faf",
   "metadata": {},
   "outputs": [],
   "source": []
  },
  {
   "cell_type": "code",
   "execution_count": null,
   "id": "121a6ad4-7c72-48d1-9f36-5b7d423d30ca",
   "metadata": {},
   "outputs": [],
   "source": []
  }
 ],
 "metadata": {
  "kernelspec": {
   "display_name": "Python 3 (ipykernel)",
   "language": "python",
   "name": "python3"
  },
  "language_info": {
   "codemirror_mode": {
    "name": "ipython",
    "version": 3
   },
   "file_extension": ".py",
   "mimetype": "text/x-python",
   "name": "python",
   "nbconvert_exporter": "python",
   "pygments_lexer": "ipython3",
   "version": "3.10.14"
  }
 },
 "nbformat": 4,
 "nbformat_minor": 5
}
