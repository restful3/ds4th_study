{
 "cells": [
  {
   "cell_type": "markdown",
   "metadata": {
    "id": "SbGFWGzkd44U"
   },
   "source": [
    "# Practical Linear Algebra for Data Science\n",
    "## Mike X Cohen (sincxpress.com)\n",
    "### https://www.oreilly.com/library/view/practical-linear-algebra/9781098120603/\n",
    "\n",
    "#### Code for chapter 12"
   ]
  },
  {
   "cell_type": "code",
   "execution_count": null,
   "metadata": {
    "id": "D9pnXvaOVrxh"
   },
   "outputs": [],
   "source": [
    "import numpy as np\n",
    "import matplotlib.pyplot as plt\n",
    "\n",
    "# NOTE: these lines define global figure properties used for publication.\n",
    "import matplotlib_inline.backend_inline\n",
    "matplotlib_inline.backend_inline.set_matplotlib_formats('svg') # display figures in vector format\n",
    "plt.rcParams.update({'font.size':14}) # set global font size"
   ]
  },
  {
   "cell_type": "code",
   "execution_count": null,
   "metadata": {
    "id": "ECeT7dTbxV2D"
   },
   "outputs": [],
   "source": []
  },
  {
   "cell_type": "markdown",
   "metadata": {
    "id": "LJ7QkMH5xVu1"
   },
   "source": [
    "# Geometry of eigenvectors"
   ]
  },
  {
   "cell_type": "code",
   "execution_count": null,
   "metadata": {
    "id": "mtyEVYsTxY3O"
   },
   "outputs": [],
   "source": [
    "# in 2D of course, for visualization\n",
    "\n",
    "# the matrix\n",
    "M = np.array([ [-1,1],\n",
    "               [-1,2] ])\n",
    "\n",
    "# its eigenvalues and eigenvectors\n",
    "eigenvalues,eigenvectors = np.linalg.eig(M)\n",
    "print(eigenvalues)\n",
    "\n",
    "# some random vectors\n",
    "notEigenvectors = np.random.randn(2,2)\n",
    "\n",
    "# multipy to create new vectors\n",
    "Mv = M @ eigenvectors\n",
    "Mw = M @ notEigenvectors\n",
    "\n",
    "\n",
    "\n",
    "## and now plot\n",
    "_,axs = plt.subplots(1,2,figsize=(10,6))\n",
    "\n",
    "# the two eigenvectors\n",
    "axs[0].plot([0,eigenvectors[0,0]],[0,eigenvectors[1,0]],'k',linewidth=2,label='$v_1$')\n",
    "axs[0].plot([0,Mv[0,0]],[0,Mv[1,0]],'k--',linewidth=2,label='$Mv_1$')\n",
    "\n",
    "axs[0].plot([0,eigenvectors[0,1]],[0,eigenvectors[1,1]],'r',linewidth=2,label='$v_2$')\n",
    "axs[0].plot([0,Mv[0,1]],[0,Mv[1,1]],'r--',linewidth=2,label='$Mv_2$')\n",
    "\n",
    "# the two non-eigenvectors\n",
    "axs[1].plot([0,notEigenvectors[0,0]],[0,notEigenvectors[1,0]],'k',linewidth=2,label='$w_1$')\n",
    "axs[1].plot([0,Mw[0,0]],[0,Mw[1,0]],'k--',linewidth=2,label='$Mw_1$')\n",
    "\n",
    "axs[1].plot([0,notEigenvectors[0,1]],[0,notEigenvectors[1,1]],'r',linewidth=2,label='$w_2$')\n",
    "axs[1].plot([0,Mw[0,1]],[0,Mw[1,1]],'r--',linewidth=2,label='$Mw_2$')\n",
    "\n",
    "\n",
    "# adjust the graphs a bit\n",
    "for i in range(2):\n",
    "  axs[i].axis('square')\n",
    "  axs[i].set_xlim([-1.5,1.5])\n",
    "  axs[i].set_ylim([-1.5,1.5])\n",
    "  axs[i].grid()\n",
    "  axs[i].legend()\n",
    "\n",
    "plt.savefig('Figure_12_01.png',dpi=300)\n",
    "plt.show()"
   ]
  },
  {
   "cell_type": "code",
   "execution_count": null,
   "metadata": {
    "id": "qPBU7z76TVsN"
   },
   "outputs": [],
   "source": []
  },
  {
   "cell_type": "markdown",
   "metadata": {
    "id": "-rmMzuh3cQAh"
   },
   "source": [
    "# Finding eigenvalues"
   ]
  },
  {
   "cell_type": "code",
   "execution_count": null,
   "metadata": {
    "id": "wlA3lzFaYVS5"
   },
   "outputs": [],
   "source": [
    "matrix = np.array([\n",
    "             [1,2],\n",
    "             [3,4]\n",
    "             ])\n",
    "\n",
    "# get the eigenvalues\n",
    "evals = np.linalg.eig(matrix)[0]\n",
    "evals"
   ]
  },
  {
   "cell_type": "code",
   "execution_count": null,
   "metadata": {
    "id": "7VxNv7eEZx-y"
   },
   "outputs": [],
   "source": [
    "# Finding eigenvectors\n",
    "\n",
    "evals,evecs = np.linalg.eig(matrix)\n",
    "print(evals), print(' ')\n",
    "print(evecs)"
   ]
  },
  {
   "cell_type": "code",
   "execution_count": null,
   "metadata": {
    "id": "eWzvQjVSxNmd"
   },
   "outputs": [],
   "source": []
  },
  {
   "cell_type": "markdown",
   "metadata": {
    "id": "4ql4otn-H7cU"
   },
   "source": [
    "# Finding eigenvectors"
   ]
  },
  {
   "cell_type": "code",
   "execution_count": null,
   "metadata": {
    "id": "3zygvzknH9og"
   },
   "outputs": [],
   "source": [
    "# same matrix as above\n",
    "evals,evecs = np.linalg.eig(matrix)\n",
    "\n",
    "print('List of eigenvalues:')\n",
    "print(evals)\n",
    "\n",
    "print(f'\\nMatrix of eigenvectors (in the columns!):')\n",
    "print(evecs)"
   ]
  },
  {
   "cell_type": "code",
   "execution_count": null,
   "metadata": {
    "id": "KRJSm0YnxOHQ"
   },
   "outputs": [],
   "source": []
  },
  {
   "cell_type": "markdown",
   "metadata": {
    "id": "qXHhZO4Ip4nw"
   },
   "source": [
    "# Diagonalizing a matrix"
   ]
  },
  {
   "cell_type": "code",
   "execution_count": null,
   "metadata": {
    "id": "4P3qgVdBp52j"
   },
   "outputs": [],
   "source": [
    "# using variables created above\n",
    "D = np.diag(evals)\n",
    "D"
   ]
  },
  {
   "cell_type": "code",
   "execution_count": null,
   "metadata": {
    "id": "qYMtFhCKp55c"
   },
   "outputs": [],
   "source": [
    "# confirm the matrix eigenvalue equation:\n",
    "LHS = matrix @ evecs\n",
    "RHS = evecs @ D\n",
    "\n",
    "\n",
    "# print out the two sides of the equation\n",
    "print('Left-hand side:')\n",
    "print(LHS)\n",
    "\n",
    "print(f'\\nRight-hand side:')\n",
    "print(RHS)"
   ]
  },
  {
   "cell_type": "code",
   "execution_count": null,
   "metadata": {
    "id": "SPnIOStPp58n"
   },
   "outputs": [],
   "source": []
  },
  {
   "cell_type": "markdown",
   "metadata": {
    "id": "0LFLh86Sp5_e"
   },
   "source": [
    "# Special properties of symmetric matrices"
   ]
  },
  {
   "cell_type": "code",
   "execution_count": null,
   "metadata": {
    "id": "i69Glp4VGnGh"
   },
   "outputs": [],
   "source": [
    "# just some random matrix\n",
    "A = np.random.randint(-3,4,(3,3))\n",
    "\n",
    "# and make it symmetric\n",
    "A = A.T@A\n",
    "\n",
    "# its eigendecomposition\n",
    "L,V = np.linalg.eig(A)\n",
    "\n",
    "# all pairwise dot products\n",
    "print( np.dot(V[:,0],V[:,1]) )\n",
    "print( np.dot(V[:,0],V[:,2]) )\n",
    "print( np.dot(V[:,1],V[:,2]) )"
   ]
  },
  {
   "cell_type": "code",
   "execution_count": null,
   "metadata": {
    "id": "8Uc7WZqhHEig"
   },
   "outputs": [],
   "source": [
    "# show that V'V=I\n",
    "np.round( V.T@V ,10) # rounded for visibility (precision errors...)"
   ]
  },
  {
   "cell_type": "code",
   "execution_count": null,
   "metadata": {
    "id": "x38WoIfRp6Cl"
   },
   "outputs": [],
   "source": [
    "# real-valued matrix with complex-valued eigenvalues\n",
    "\n",
    "# a matrix\n",
    "A = np.array([[-3, -3, 0],\n",
    "              [ 3, -2, 3],\n",
    "              [ 0,  1, 2]])\n",
    "\n",
    "\n",
    "# btw, random matrices often have complex eigenvalues (though this is not guaranteed):\n",
    "#A = np.random.randint(-3,4,(3,3))\n",
    "\n",
    "# its eigendecomposition\n",
    "L,V = np.linalg.eig(A)\n",
    "L.reshape(-1,1) # print as column vector"
   ]
  },
  {
   "cell_type": "code",
   "execution_count": null,
   "metadata": {
    "id": "eu5mTjE_6FT7"
   },
   "outputs": [],
   "source": [
    "# repeat for symmetric matrices\n",
    "\n",
    "# a matrix\n",
    "A = np.array([[-3, -3, 0],\n",
    "              [-3, -2, 1],\n",
    "              [ 0,  1, 2]])\n",
    "\n",
    "\n",
    "# you can also demonstrate this with random symmetric matrices\n",
    "#A = np.random.randint(-3,4,(3,3))\n",
    "#A = A.T@A\n",
    "\n",
    "# its eigendecomposition\n",
    "L,V = np.linalg.eig(A)\n",
    "L.reshape(-1,1) # print as column vector"
   ]
  },
  {
   "cell_type": "code",
   "execution_count": null,
   "metadata": {
    "id": "vh_5iTTuoiP3"
   },
   "outputs": [],
   "source": []
  },
  {
   "cell_type": "markdown",
   "metadata": {
    "id": "q34eID_-p6IU"
   },
   "source": [
    "# Eigendecomposition of singular matrices"
   ]
  },
  {
   "cell_type": "code",
   "execution_count": null,
   "metadata": {
    "id": "1Lgb_vxnLxgU"
   },
   "outputs": [],
   "source": [
    "# a singular matrix\n",
    "A = np.array([[1,4,7],\n",
    "              [2,5,8],\n",
    "              [3,6,9]])\n",
    "\n",
    "# its eigendecomposition\n",
    "L,V = np.linalg.eig(A)\n",
    "\n",
    "\n",
    "# print its rank...\n",
    "print( f'Rank = {np.linalg.matrix_rank(A)}\\n' )\n",
    "\n",
    "# ... and its eigendecomposition\n",
    "print('Eigenvalues: ')\n",
    "print(L.round(2)), print(' ')\n",
    "\n",
    "print('Eigenvectors:')\n",
    "print(V.round(2))"
   ]
  },
  {
   "cell_type": "code",
   "execution_count": null,
   "metadata": {
    "id": "HMCtlmP4p6LU"
   },
   "outputs": [],
   "source": [
    "# FYI, random singular matrix\n",
    "M = np.random.randn(5,3) @ np.random.randn(3,5)\n",
    "M = M.T@M # make it symmetric for real-valued eigenvalues\n",
    "\n",
    "# print its eigenvalues (rounded and columnized for clarity)\n",
    "np.linalg.eig(M)[0].reshape(-1,1).round(3)"
   ]
  },
  {
   "cell_type": "code",
   "execution_count": null,
   "metadata": {
    "id": "dbtzVjDup6Fd"
   },
   "outputs": [],
   "source": []
  },
  {
   "cell_type": "markdown",
   "metadata": {
    "id": "hCc5qgUyoiDd"
   },
   "source": [
    "# Quadratic form"
   ]
  },
  {
   "cell_type": "code",
   "execution_count": null,
   "metadata": {
    "id": "v_kZW4_Hokdj"
   },
   "outputs": [],
   "source": [
    "# a matrix with only positive quad.form values\n",
    "A = np.array([ [2,4],[0,3] ])\n",
    "print('Eigenvalues: ')\n",
    "print(np.linalg.eig(A)[0])\n",
    "\n",
    "# print the quadratic form for some random vectors\n",
    "x,y = np.random.randn(2)\n",
    "print(f'\\nSome random quadratic form result:')\n",
    "A[0,0]*x**2 + (A[1,0]+A[0,1])*x*y + A[1,1]*y**2"
   ]
  },
  {
   "cell_type": "code",
   "execution_count": null,
   "metadata": {
    "id": "v4UGlyP2oiGa"
   },
   "outputs": [],
   "source": [
    "# a matrix with both positive and negative quad.form values\n",
    "A = np.array([ [-9,4],[3,9] ])\n",
    "print('Eigenvalues: ')\n",
    "print(np.linalg.eig(A)[0])\n",
    "\n",
    "# print the quadratic form for some random vectors\n",
    "x,y = np.random.randn(2)\n",
    "print(f'\\nSome random quadratic form result:')\n",
    "A[0,0]*x**2 + (A[1,0]+A[0,1])*x*y + A[1,1]*y**2"
   ]
  },
  {
   "cell_type": "code",
   "execution_count": null,
   "metadata": {
    "id": "TBz7VbpmoiJn"
   },
   "outputs": [],
   "source": []
  },
  {
   "cell_type": "markdown",
   "metadata": {
    "id": "MPj51LQbp6Qe"
   },
   "source": [
    "# Generalized eigendecomposition"
   ]
  },
  {
   "cell_type": "code",
   "execution_count": null,
   "metadata": {
    "id": "omA9EZhWTHoK"
   },
   "outputs": [],
   "source": [
    "n = 4\n",
    "\n",
    "# create symmetric matrices\n",
    "A = np.random.randn(n,n)\n",
    "A = A.T@A\n",
    "\n",
    "# impose a correlation between the two matrices (this improves numerical stability of the simultaneousl diagonalization)\n",
    "B = np.random.randn(n,n)\n",
    "B = B.T@B + A/10\n",
    "\n",
    "\n",
    "# using scipy\n",
    "from scipy.linalg import eigh\n",
    "evals,evecs = eigh(A,B)\n",
    "evals"
   ]
  },
  {
   "cell_type": "code",
   "execution_count": null,
   "metadata": {
    "id": "4oxx8v10TH5c"
   },
   "outputs": [],
   "source": []
  },
  {
   "cell_type": "markdown",
   "metadata": {
    "id": "dGnfrHRDTH70"
   },
   "source": [
    "# Exercise 1"
   ]
  },
  {
   "cell_type": "code",
   "execution_count": null,
   "metadata": {
    "id": "ai_jjY8cHVxT"
   },
   "outputs": [],
   "source": [
    "# create the matrix\n",
    "A = np.random.randn(5,5)\n",
    "A = A.T@A\n",
    "\n",
    "# compute its inverse\n",
    "Ai = np.linalg.inv(A)\n",
    "\n",
    "# eigenvalues of A and Ai\n",
    "eigvals_A  = np.linalg.eig(A)[0]\n",
    "eigvals_Ai = np.linalg.eig(Ai)[0]\n",
    "\n",
    "# compare them (hint: sorting helps!)\n",
    "print('Eigenvalues of A:')\n",
    "print(np.sort(eigvals_A))\n",
    "\n",
    "print(' ')\n",
    "print('Eigenvalues of inv(A):')\n",
    "print(np.sort(eigvals_Ai))\n",
    "\n",
    "print(' ')\n",
    "print('Reciprocal of evals of inv(A):')\n",
    "print(np.sort(1/eigvals_Ai))"
   ]
  },
  {
   "cell_type": "code",
   "execution_count": null,
   "metadata": {
    "id": "BOFlJNKUHV3s"
   },
   "outputs": [],
   "source": []
  },
  {
   "cell_type": "markdown",
   "metadata": {
    "id": "dsHNYTEzHV73"
   },
   "source": [
    "# Exercise 2"
   ]
  },
  {
   "cell_type": "code",
   "execution_count": null,
   "metadata": {
    "id": "xdLZT8KJIXEg"
   },
   "outputs": [],
   "source": [
    "# the matrix\n",
    "M = np.array([ [-1,1],\n",
    "               [-1,2] ])\n",
    "\n",
    "# its eigenvalues and eigenvectors\n",
    "eigenvalues,eigenvectors = np.linalg.eig(M)\n",
    "\n",
    "# some random vectors\n",
    "notEigenvectors = np.random.randn(2,2)\n",
    "\n",
    "# multipy to create new vectors\n",
    "Mv = M @ eigenvectors\n",
    "Mw = M @ notEigenvectors\n",
    "\n",
    "\n",
    "\n",
    "## and now plot\n",
    "_,axs = plt.subplots(1,2,figsize=(10,6))\n",
    "\n",
    "# the two eigenvectors\n",
    "axs[0].plot([0,eigenvectors[0,0]],[0,eigenvectors[0,1]],'k',linewidth=2,label='$v_1$')\n",
    "axs[0].plot([0,Mv[0,0]],[0,Mv[0,1]],'k--',linewidth=2,label='$Mv_1$')\n",
    "\n",
    "axs[0].plot([0,eigenvectors[1,0]],[0,eigenvectors[1,1]],'r',linewidth=2,label='$v_2$')\n",
    "axs[0].plot([0,Mv[1,0]],[0,Mv[1,1]],'r--',linewidth=2,label='$Mv_2$')\n",
    "\n",
    "# the two non-eigenvectors\n",
    "axs[1].plot([0,notEigenvectors[0,0]],[0,notEigenvectors[0,1]],'k',linewidth=2,label='$w_1$')\n",
    "axs[1].plot([0,Mw[0,0]],[0,Mw[0,1]],'k--',linewidth=2,label='$Mw_1$')\n",
    "\n",
    "axs[1].plot([0,notEigenvectors[1,0]],[0,notEigenvectors[1,1]],'r',linewidth=2,label='$w_2$')\n",
    "axs[1].plot([0,Mw[1,0]],[0,Mw[1,1]],'r--',linewidth=2,label='$Mw_2$')\n",
    "\n",
    "\n",
    "# adjust the graphs a bit\n",
    "for i in range(2):\n",
    "  axs[i].axis('square')\n",
    "  axs[i].set_xlim([-1.5,1.5])\n",
    "  axs[i].set_ylim([-1.5,1.5])\n",
    "  axs[i].grid()\n",
    "  axs[i].legend()\n",
    "\n",
    "plt.show()"
   ]
  },
  {
   "cell_type": "code",
   "execution_count": null,
   "metadata": {
    "id": "pB_minX89kTK"
   },
   "outputs": [],
   "source": []
  },
  {
   "cell_type": "markdown",
   "metadata": {
    "id": "g39ycc-kIXKK"
   },
   "source": [
    "# Exercise 3"
   ]
  },
  {
   "cell_type": "code",
   "execution_count": null,
   "metadata": {
    "id": "ZG5ftkYkIZGK"
   },
   "outputs": [],
   "source": [
    "# instructions don't specify matrix size; I'll use n=5\n",
    "N = 5\n",
    "\n",
    "# to store the reconstruction accuracies\n",
    "reconAcc = np.zeros(4)\n",
    "\n",
    "\n",
    "# Create a symmetric random-integers matrix\n",
    "A = np.random.randn(N,N)\n",
    "A = np.round( A.T+A )\n",
    "\n",
    "# diagonalize the matrix\n",
    "d,V  = np.linalg.eig(A)\n",
    "D    = np.diag(d)\n",
    "\n",
    "# demonstrate reconstruction accuracy\n",
    "# remember that inv(V)=V.T!\n",
    "Arecon = V @ D @ V.T\n",
    "print(np.round( A-Arecon ,4))\n",
    "\n",
    "reconAcc[0] = np.sqrt(np.sum( (A-Arecon)**2 ))\n",
    "print(f'\\nFrobenius distance: {reconAcc[0]}')"
   ]
  },
  {
   "cell_type": "code",
   "execution_count": null,
   "metadata": {
    "id": "FjJ2vtY5IXM2"
   },
   "outputs": [],
   "source": [
    "# create D-tilde\n",
    "Dtild = np.diag( d[np.random.permutation(N)] )\n",
    "\n",
    "# test reconstruction accuracy\n",
    "Arecon = V @ Dtild @ V.T\n",
    "print(np.round( A-Arecon ,4))\n",
    "\n",
    "reconAcc[1] = np.sqrt(np.sum( (A-Arecon)**2 ))\n",
    "print(f'\\nFrobenius distance: {reconAcc[1]}')"
   ]
  },
  {
   "cell_type": "code",
   "execution_count": null,
   "metadata": {
    "id": "KgUEYyUgHUyX"
   },
   "outputs": [],
   "source": [
    "### swap only the two largest eigenvalues\n",
    "evals_sort_idx = np.argsort(d) # note: default is to sort \n",
    "i = evals_sort_idx[np.r_[np.arange(N-2),N-1,N-2]][::-1]\n",
    "\n",
    "# create D-tilde\n",
    "Dtild = np.diag( d[i] )\n",
    "\n",
    "# test reconstruction accuracy\n",
    "Arecon = V @ Dtild @ V.T\n",
    "print(np.round( A-Arecon ,4))\n",
    "\n",
    "reconAcc[2] = np.sqrt(np.sum( (A-Arecon)**2 ))\n",
    "print(f'\\nFrobenius distance: {reconAcc[2]}')"
   ]
  },
  {
   "cell_type": "code",
   "execution_count": null,
   "metadata": {
    "id": "xtpJH7O7HU2Y"
   },
   "outputs": [],
   "source": [
    "### swap only the two smallest eigenvalues\n",
    "evals_sort_idx = np.argsort(d) # note: default is to sort \n",
    "i = evals_sort_idx[np.r_[1,0,np.arange(2,N)]][::-1]\n",
    "\n",
    "# create D-tilde\n",
    "Dtild = np.diag( d[i] )\n",
    "\n",
    "# test reconstruction accuracy\n",
    "Arecon = V @ Dtild @ V.T\n",
    "print(np.round( A-Arecon ,4))\n",
    "\n",
    "reconAcc[3] = np.sqrt(np.sum( (A-Arecon)**2 ))\n",
    "print(f'\\nFrobenius distance: {reconAcc[3]}')"
   ]
  },
  {
   "cell_type": "code",
   "execution_count": null,
   "metadata": {
    "id": "EvQzptn8HU5a"
   },
   "outputs": [],
   "source": [
    "# now for the plot\n",
    "\n",
    "plt.figure(figsize=(8,6))\n",
    "\n",
    "plt.bar(range(4),reconAcc)\n",
    "plt.xticks(range(4),labels=['None','All','Largest two','Smallest two'])\n",
    "plt.ylabel('Frobenius distance to original matrix')\n",
    "plt.xlabel('Type of eigenvalue swapping')\n",
    "plt.title('Reconstruction accuracy')\n",
    "\n",
    "plt.savefig('Figure_12_03.png',dpi=300)\n",
    "plt.show()"
   ]
  },
  {
   "cell_type": "code",
   "execution_count": null,
   "metadata": {
    "id": "arnF5i6MHU8B"
   },
   "outputs": [],
   "source": []
  },
  {
   "cell_type": "markdown",
   "metadata": {
    "id": "_Mv0Bml7HU-h"
   },
   "source": [
    "# Exercise 4"
   ]
  },
  {
   "cell_type": "code",
   "execution_count": null,
   "metadata": {
    "id": "KusdvR3mWS5M"
   },
   "outputs": [],
   "source": [
    "nIter = 123\n",
    "matsize = 42\n",
    "evals = np.zeros((nIter,matsize),dtype=complex)\n",
    "\n",
    "# create the matrices and get their scaled eigenvalues\n",
    "for i in range(nIter):\n",
    "  A = np.random.randn(matsize,matsize)\n",
    "  evals[i,:] = np.linalg.eig(A)[0] / np.sqrt(matsize)\n",
    "\n",
    "\n",
    "\n",
    "# and show in a plot\n",
    "plt.figure(figsize=(6,6))\n",
    "\n",
    "plt.plot(np.real(evals),np.imag(evals),'ko',markerfacecolor='white')\n",
    "plt.xlim([-1.5,1.5])\n",
    "plt.ylim([-1.5,1.5])\n",
    "plt.xlabel('Real')\n",
    "plt.ylabel('Imag')\n",
    "plt.savefig('Figure_12_04.png',dpi=300)\n",
    "plt.show()"
   ]
  },
  {
   "cell_type": "code",
   "execution_count": null,
   "metadata": {
    "id": "MhPPCaM_WS8W"
   },
   "outputs": [],
   "source": []
  },
  {
   "cell_type": "markdown",
   "metadata": {
    "id": "yOPG26-rWS_T"
   },
   "source": [
    "# Exercise 5"
   ]
  },
  {
   "cell_type": "code",
   "execution_count": null,
   "metadata": {
    "id": "sr1SZfl8Y23O"
   },
   "outputs": [],
   "source": [
    "# get the null_space function from scipy\n",
    "from scipy.linalg import null_space\n",
    "\n",
    "\n",
    "# Create a symmetric matrix\n",
    "N = 3\n",
    "A = np.random.randn(N,N)\n",
    "A = A@A.T\n",
    "\n",
    "# eigendecompose\n",
    "evals,evecs = np.linalg.eig(A)\n",
    "\n",
    "# compare the eigenvectors with N(A-lI)\n",
    "for i in range(N):\n",
    "\n",
    "  # get the null space vector of the shifted matrix\n",
    "  nullV = null_space( A-evals[i]*np.eye(N) )\n",
    "\n",
    "  # check for a match with the eigenvector via correlation (normalizes for magnitudes)\n",
    "  r = np.corrcoef(nullV.T,evecs[[i],:])[0,1]\n",
    "\n",
    "  # and print (abs(r))\n",
    "  print(f'Correlation between N(A-lI) and evec {i}: {np.abs(r):.2f}')"
   ]
  },
  {
   "cell_type": "code",
   "execution_count": null,
   "metadata": {
    "id": "e9YG3YKVY26G"
   },
   "outputs": [],
   "source": []
  },
  {
   "cell_type": "markdown",
   "metadata": {
    "id": "IGtulTl8Y28u"
   },
   "source": [
    "# Exercise 6"
   ]
  },
  {
   "cell_type": "code",
   "execution_count": null,
   "metadata": {
    "id": "RQa0NuvMgmGt"
   },
   "outputs": [],
   "source": [
    "# Create the Lambda matrix with positive values\n",
    "Lambda = np.diag( np.random.rand(4)*5 )\n",
    "\n",
    "# create Q\n",
    "Q,_ = np.linalg.qr( np.random.randn(4,4) )\n",
    "\n",
    "# reconstruct to a matrix\n",
    "A = Q @ Lambda @ Q.T\n",
    "\n",
    "# the matrix minus its transpose should be zeros (within precision error)\n",
    "np.round( A-A.T ,5)"
   ]
  },
  {
   "cell_type": "code",
   "execution_count": null,
   "metadata": {
    "id": "584KCUoKgmJq"
   },
   "outputs": [],
   "source": [
    "# check eigenvalues against Lambda (sorting is helpful!)\n",
    "print(np.sort(np.diag(Lambda)))\n",
    "print(np.sort(np.linalg.eig(A)[0]))"
   ]
  },
  {
   "cell_type": "code",
   "execution_count": null,
   "metadata": {
    "id": "FHrMopF7gmMf"
   },
   "outputs": [],
   "source": []
  },
  {
   "cell_type": "markdown",
   "metadata": {
    "id": "X9kkEUjxgmPW"
   },
   "source": [
    "# Exercise 7"
   ]
  },
  {
   "cell_type": "code",
   "execution_count": null,
   "metadata": {
    "id": "haBkmQRbh_3K"
   },
   "outputs": [],
   "source": [
    "# Refer back to the code for Chapter 11, exercise 4."
   ]
  },
  {
   "cell_type": "code",
   "execution_count": null,
   "metadata": {
    "id": "RYYonQqHh_6D"
   },
   "outputs": [],
   "source": []
  },
  {
   "cell_type": "markdown",
   "metadata": {
    "id": "IRZQEjaCgmSC"
   },
   "source": [
    "# Exercise 8"
   ]
  },
  {
   "cell_type": "code",
   "execution_count": null,
   "metadata": {
    "id": "Jwu_qHBNiBUK"
   },
   "outputs": [],
   "source": [
    "# correlation matrix\n",
    "R = np.array([[ 1,.2,.9],\n",
    "              [.2, 1,.3],\n",
    "              [.9,.3, 1] ])\n",
    "\n",
    "# eigendecomposition\n",
    "d,V = np.linalg.eig(R)\n",
    "D = np.diag(d)\n",
    "\n",
    "# create new data with imposed correlation\n",
    "X = V @ np.sqrt(D) @ np.random.randn(3,10000)\n",
    "\n",
    "np.corrcoef(X)"
   ]
  },
  {
   "cell_type": "code",
   "execution_count": null,
   "metadata": {
    "id": "cO_9R_c0rHIW"
   },
   "outputs": [],
   "source": []
  },
  {
   "cell_type": "markdown",
   "metadata": {
    "id": "9rvnt6dWrG71"
   },
   "source": [
    "# Exercise 9"
   ]
  },
  {
   "cell_type": "code",
   "execution_count": null,
   "metadata": {
    "id": "CmjHJE1giBWf"
   },
   "outputs": [],
   "source": [
    "# now whiten\n",
    "Y = X.T @ V @ np.linalg.inv(np.sqrt(D))\n",
    "\n",
    "# and check the correlations\n",
    "np.round( np.corrcoef(Y.T) ,3)"
   ]
  },
  {
   "cell_type": "code",
   "execution_count": null,
   "metadata": {
    "id": "zqa9Xu7xY2_R"
   },
   "outputs": [],
   "source": []
  },
  {
   "cell_type": "markdown",
   "metadata": {
    "id": "AeztM214Y3Bv"
   },
   "source": [
    "# Exercise 10"
   ]
  },
  {
   "cell_type": "code",
   "execution_count": null,
   "metadata": {
    "id": "w_6xkc0DtS1o"
   },
   "outputs": [],
   "source": [
    "# two symmetric matrices and GED\n",
    "n = 5\n",
    "A = np.random.randn(n,n)\n",
    "A = A.T@A\n",
    "B = np.random.randn(n,n)\n",
    "B = B.T@B\n",
    "\n",
    "evals,evecs = eigh( A,B )\n",
    "\n",
    "# eigenvectors times their transposes\n",
    "VV  = evecs.T @ evecs\n",
    "VBV = evecs.T @ B @ evecs\n",
    "\n",
    "\n",
    "# show in an image\n",
    "_,axs = plt.subplots(1,2,figsize=(10,6))\n",
    "\n",
    "axs[0].imshow(VV,cmap='gray')\n",
    "axs[0].set_title('$\\mathbf{V}^T\\mathbf{V}$')\n",
    "\n",
    "axs[1].imshow(VBV,cmap='gray')\n",
    "axs[1].set_title('$\\mathbf{V}^T\\mathbf{B}\\mathbf{V}$')\n",
    "\n",
    "plt.savefig('Figure_12_05.png',dpi=300)\n",
    "plt.show()"
   ]
  },
  {
   "cell_type": "code",
   "execution_count": null,
   "metadata": {
    "id": "YIpE7M0ItS7j"
   },
   "outputs": [],
   "source": []
  },
  {
   "cell_type": "markdown",
   "metadata": {
    "id": "ckTJ1gcytS-q"
   },
   "source": [
    "# Exercise 11"
   ]
  },
  {
   "cell_type": "code",
   "execution_count": null,
   "metadata": {
    "id": "5ydkl4Vo99Ix"
   },
   "outputs": [],
   "source": [
    "# create the matrix\n",
    "A = np.random.randint(-14,15,(4,4))\n",
    "\n",
    "\n",
    "# diagonalize\n",
    "d,V = np.linalg.eig(A)\n",
    "V   = V*np.pi\n",
    "D   = np.diag(d)\n",
    "Vi  = np.linalg.inv(V)\n",
    "\n",
    "\n",
    "# test for accurate reconstruction\n",
    "print('Reconstructed minus original:')\n",
    "print( np.round(V@D@Vi - A,3) )\n",
    "print(' ')\n",
    "\n",
    "# norms of the eigenvectors\n",
    "for i in range(A.shape[0]):\n",
    "  norm = np.sqrt(np.sum(V[:,i]*np.conj(V[:,i])))\n",
    "  print(f'Eigenvector {i} has norm {norm}')\n",
    "\n",
    "\n",
    "# Discussion: Scaling V doesn't matter because that scalar is normalized out in the matrix inverse."
   ]
  },
  {
   "cell_type": "code",
   "execution_count": null,
   "metadata": {
    "id": "lF7868llDGeq"
   },
   "outputs": [],
   "source": [
    "## repeat for a symmetric matrix using V' instead of inv(V)\n",
    "# create the matrix\n",
    "A = np.random.randint(-14,15,(4,4))\n",
    "A = A.T@A\n",
    "\n",
    "\n",
    "# diagonalize\n",
    "d,V = np.linalg.eig(A)\n",
    "V = V*np.pi\n",
    "D = np.diag(d)\n",
    "Vi = V.T\n",
    "\n",
    "\n",
    "# test for accurate reconstruction\n",
    "print('Reconstructed minus original:')\n",
    "print( np.round(V@D@Vi - A,3) )\n",
    "print(' ')\n",
    "\n",
    "# norms of the eigenvectors\n",
    "for i in range(A.shape[0]):\n",
    "  norm = np.sqrt(np.sum(V[:,i]*np.conj(V[:,i])))\n",
    "  print(f'Eigenvector {i} has norm {norm}')\n",
    "\n",
    "\n",
    "# Discussion: Scaling V *does* matter because V is not explicitly inverted!"
   ]
  },
  {
   "cell_type": "code",
   "execution_count": null,
   "metadata": {
    "id": "wJmjk6fQtTBu"
   },
   "outputs": [],
   "source": [
    "# "
   ]
  }
 ],
 "metadata": {
  "colab": {
   "authorship_tag": "ABX9TyMI+fm1cZnhp9T4aQtJBwtP",
   "collapsed_sections": [],
   "name": "LA4DS_ch12.ipynb",
   "provenance": []
  },
  "kernelspec": {
   "display_name": "Python 3 (ipykernel)",
   "language": "python",
   "name": "python3"
  },
  "language_info": {
   "codemirror_mode": {
    "name": "ipython",
    "version": 3
   },
   "file_extension": ".py",
   "mimetype": "text/x-python",
   "name": "python",
   "nbconvert_exporter": "python",
   "pygments_lexer": "ipython3",
   "version": "3.10.14"
  }
 },
 "nbformat": 4,
 "nbformat_minor": 4
}
