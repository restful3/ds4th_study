{
 "cells": [
  {
   "cell_type": "markdown",
   "id": "76fb536f",
   "metadata": {},
   "source": [
    "# 베이스라인 모델"
   ]
  },
  {
   "cell_type": "code",
<<<<<<< HEAD
   "execution_count": 3,
=======
   "execution_count": 1,
>>>>>>> f0207d6158218d29b967f220e9c58addbafef23f
   "id": "6c7af310",
   "metadata": {},
   "outputs": [],
   "source": [
    "import pandas as pd\n",
    "import numpy as np\n",
    "import matplotlib.pyplot as plt\n",
    "import seaborn as sns\n",
    "import os"
   ]
  },
  {
   "cell_type": "code",
<<<<<<< HEAD
   "execution_count": 4,
=======
   "execution_count": 2,
>>>>>>> f0207d6158218d29b967f220e9c58addbafef23f
   "id": "01e55dfa-6d39-44c4-8fbd-7440113ecc4f",
   "metadata": {},
   "outputs": [
    {
     "data": {
      "text/plain": [
       "'/media/restful3/data/workspaces/study/ds4th_study/tyoung/ch06 - Bike Sharing Demand'"
      ]
     },
<<<<<<< HEAD
     "execution_count": 4,
=======
     "execution_count": 2,
>>>>>>> f0207d6158218d29b967f220e9c58addbafef23f
     "metadata": {},
     "output_type": "execute_result"
    }
   ],
   "source": [
    "pwd"
   ]
  },
  {
   "cell_type": "code",
<<<<<<< HEAD
   "execution_count": 5,
=======
   "execution_count": 3,
>>>>>>> f0207d6158218d29b967f220e9c58addbafef23f
   "id": "08636be6",
   "metadata": {
    "tags": []
   },
   "outputs": [],
   "source": [
    "data_path = '../../source/dataset/bikesharing/'\n",
    "\n",
    "train = pd.read_csv(os.path.join(data_path, 'train.csv'))\n",
    "test = pd.read_csv(os.path.join(data_path, 'test.csv'))\n",
    "submission = pd.read_csv(os.path.join(data_path, 'sampleSubmission.csv'))"
   ]
  },
  {
   "cell_type": "markdown",
   "id": "5775bbdb",
   "metadata": {},
   "source": [
    "## 피처 엔지니어링"
   ]
  },
  {
   "cell_type": "markdown",
   "id": "b11d7e96",
   "metadata": {},
   "source": [
    "### 이상치 제거"
   ]
  },
  {
   "cell_type": "code",
<<<<<<< HEAD
   "execution_count": 6,
=======
   "execution_count": 4,
>>>>>>> f0207d6158218d29b967f220e9c58addbafef23f
   "id": "9b408ca0",
   "metadata": {},
   "outputs": [],
   "source": [
    "train = train[train['weather'] != 4]"
   ]
  },
  {
   "cell_type": "markdown",
   "id": "e3787894",
   "metadata": {},
   "source": [
    "### 데이터 합치기"
   ]
  },
  {
   "cell_type": "code",
<<<<<<< HEAD
   "execution_count": 7,
=======
   "execution_count": 5,
>>>>>>> f0207d6158218d29b967f220e9c58addbafef23f
   "id": "9c631037",
   "metadata": {},
   "outputs": [
    {
     "data": {
      "text/plain": [
       "((10885, 12), (6493, 9))"
      ]
     },
<<<<<<< HEAD
     "execution_count": 7,
=======
     "execution_count": 5,
>>>>>>> f0207d6158218d29b967f220e9c58addbafef23f
     "metadata": {},
     "output_type": "execute_result"
    }
   ],
   "source": [
    "train.shape, test.shape"
   ]
  },
  {
   "cell_type": "code",
<<<<<<< HEAD
   "execution_count": 8,
=======
   "execution_count": 6,
>>>>>>> f0207d6158218d29b967f220e9c58addbafef23f
   "id": "8fb6f69d",
   "metadata": {},
   "outputs": [
    {
     "data": {
      "text/html": [
       "<div>\n",
       "<style scoped>\n",
       "    .dataframe tbody tr th:only-of-type {\n",
       "        vertical-align: middle;\n",
       "    }\n",
       "\n",
       "    .dataframe tbody tr th {\n",
       "        vertical-align: top;\n",
       "    }\n",
       "\n",
       "    .dataframe thead th {\n",
       "        text-align: right;\n",
       "    }\n",
       "</style>\n",
       "<table border=\"1\" class=\"dataframe\">\n",
       "  <thead>\n",
       "    <tr style=\"text-align: right;\">\n",
       "      <th></th>\n",
       "      <th>datetime</th>\n",
       "      <th>season</th>\n",
       "      <th>holiday</th>\n",
       "      <th>workingday</th>\n",
       "      <th>weather</th>\n",
       "      <th>temp</th>\n",
       "      <th>atemp</th>\n",
       "      <th>humidity</th>\n",
       "      <th>windspeed</th>\n",
       "      <th>casual</th>\n",
       "      <th>registered</th>\n",
       "      <th>count</th>\n",
       "    </tr>\n",
       "  </thead>\n",
       "  <tbody>\n",
       "    <tr>\n",
       "      <th>0</th>\n",
       "      <td>2011-01-01 00:00:00</td>\n",
       "      <td>1</td>\n",
       "      <td>0</td>\n",
       "      <td>0</td>\n",
       "      <td>1</td>\n",
       "      <td>9.84</td>\n",
       "      <td>14.395</td>\n",
       "      <td>81</td>\n",
       "      <td>0.0000</td>\n",
       "      <td>3.0</td>\n",
       "      <td>13.0</td>\n",
       "      <td>16.0</td>\n",
       "    </tr>\n",
       "    <tr>\n",
       "      <th>1</th>\n",
       "      <td>2011-01-01 01:00:00</td>\n",
       "      <td>1</td>\n",
       "      <td>0</td>\n",
       "      <td>0</td>\n",
       "      <td>1</td>\n",
       "      <td>9.02</td>\n",
       "      <td>13.635</td>\n",
       "      <td>80</td>\n",
       "      <td>0.0000</td>\n",
       "      <td>8.0</td>\n",
       "      <td>32.0</td>\n",
       "      <td>40.0</td>\n",
       "    </tr>\n",
       "    <tr>\n",
       "      <th>2</th>\n",
       "      <td>2011-01-01 02:00:00</td>\n",
       "      <td>1</td>\n",
       "      <td>0</td>\n",
       "      <td>0</td>\n",
       "      <td>1</td>\n",
       "      <td>9.02</td>\n",
       "      <td>13.635</td>\n",
       "      <td>80</td>\n",
       "      <td>0.0000</td>\n",
       "      <td>5.0</td>\n",
       "      <td>27.0</td>\n",
       "      <td>32.0</td>\n",
       "    </tr>\n",
       "    <tr>\n",
       "      <th>3</th>\n",
       "      <td>2011-01-01 03:00:00</td>\n",
       "      <td>1</td>\n",
       "      <td>0</td>\n",
       "      <td>0</td>\n",
       "      <td>1</td>\n",
       "      <td>9.84</td>\n",
       "      <td>14.395</td>\n",
       "      <td>75</td>\n",
       "      <td>0.0000</td>\n",
       "      <td>3.0</td>\n",
       "      <td>10.0</td>\n",
       "      <td>13.0</td>\n",
       "    </tr>\n",
       "    <tr>\n",
       "      <th>4</th>\n",
       "      <td>2011-01-01 04:00:00</td>\n",
       "      <td>1</td>\n",
       "      <td>0</td>\n",
       "      <td>0</td>\n",
       "      <td>1</td>\n",
       "      <td>9.84</td>\n",
       "      <td>14.395</td>\n",
       "      <td>75</td>\n",
       "      <td>0.0000</td>\n",
       "      <td>0.0</td>\n",
       "      <td>1.0</td>\n",
       "      <td>1.0</td>\n",
       "    </tr>\n",
       "    <tr>\n",
       "      <th>...</th>\n",
       "      <td>...</td>\n",
       "      <td>...</td>\n",
       "      <td>...</td>\n",
       "      <td>...</td>\n",
       "      <td>...</td>\n",
       "      <td>...</td>\n",
       "      <td>...</td>\n",
       "      <td>...</td>\n",
       "      <td>...</td>\n",
       "      <td>...</td>\n",
       "      <td>...</td>\n",
       "      <td>...</td>\n",
       "    </tr>\n",
       "    <tr>\n",
       "      <th>17373</th>\n",
       "      <td>2012-12-31 19:00:00</td>\n",
       "      <td>1</td>\n",
       "      <td>0</td>\n",
       "      <td>1</td>\n",
       "      <td>2</td>\n",
       "      <td>10.66</td>\n",
       "      <td>12.880</td>\n",
       "      <td>60</td>\n",
       "      <td>11.0014</td>\n",
       "      <td>NaN</td>\n",
       "      <td>NaN</td>\n",
       "      <td>NaN</td>\n",
       "    </tr>\n",
       "    <tr>\n",
       "      <th>17374</th>\n",
       "      <td>2012-12-31 20:00:00</td>\n",
       "      <td>1</td>\n",
       "      <td>0</td>\n",
       "      <td>1</td>\n",
       "      <td>2</td>\n",
       "      <td>10.66</td>\n",
       "      <td>12.880</td>\n",
       "      <td>60</td>\n",
       "      <td>11.0014</td>\n",
       "      <td>NaN</td>\n",
       "      <td>NaN</td>\n",
       "      <td>NaN</td>\n",
       "    </tr>\n",
       "    <tr>\n",
       "      <th>17375</th>\n",
       "      <td>2012-12-31 21:00:00</td>\n",
       "      <td>1</td>\n",
       "      <td>0</td>\n",
       "      <td>1</td>\n",
       "      <td>1</td>\n",
       "      <td>10.66</td>\n",
       "      <td>12.880</td>\n",
       "      <td>60</td>\n",
       "      <td>11.0014</td>\n",
       "      <td>NaN</td>\n",
       "      <td>NaN</td>\n",
       "      <td>NaN</td>\n",
       "    </tr>\n",
       "    <tr>\n",
       "      <th>17376</th>\n",
       "      <td>2012-12-31 22:00:00</td>\n",
       "      <td>1</td>\n",
       "      <td>0</td>\n",
       "      <td>1</td>\n",
       "      <td>1</td>\n",
       "      <td>10.66</td>\n",
       "      <td>13.635</td>\n",
       "      <td>56</td>\n",
       "      <td>8.9981</td>\n",
       "      <td>NaN</td>\n",
       "      <td>NaN</td>\n",
       "      <td>NaN</td>\n",
       "    </tr>\n",
       "    <tr>\n",
       "      <th>17377</th>\n",
       "      <td>2012-12-31 23:00:00</td>\n",
       "      <td>1</td>\n",
       "      <td>0</td>\n",
       "      <td>1</td>\n",
       "      <td>1</td>\n",
       "      <td>10.66</td>\n",
       "      <td>13.635</td>\n",
       "      <td>65</td>\n",
       "      <td>8.9981</td>\n",
       "      <td>NaN</td>\n",
       "      <td>NaN</td>\n",
       "      <td>NaN</td>\n",
       "    </tr>\n",
       "  </tbody>\n",
       "</table>\n",
       "<p>17378 rows × 12 columns</p>\n",
       "</div>"
      ],
      "text/plain": [
       "                  datetime  season  holiday  workingday  weather   temp  \\\n",
       "0      2011-01-01 00:00:00       1        0           0        1   9.84   \n",
       "1      2011-01-01 01:00:00       1        0           0        1   9.02   \n",
       "2      2011-01-01 02:00:00       1        0           0        1   9.02   \n",
       "3      2011-01-01 03:00:00       1        0           0        1   9.84   \n",
       "4      2011-01-01 04:00:00       1        0           0        1   9.84   \n",
       "...                    ...     ...      ...         ...      ...    ...   \n",
       "17373  2012-12-31 19:00:00       1        0           1        2  10.66   \n",
       "17374  2012-12-31 20:00:00       1        0           1        2  10.66   \n",
       "17375  2012-12-31 21:00:00       1        0           1        1  10.66   \n",
       "17376  2012-12-31 22:00:00       1        0           1        1  10.66   \n",
       "17377  2012-12-31 23:00:00       1        0           1        1  10.66   \n",
       "\n",
       "        atemp  humidity  windspeed  casual  registered  count  \n",
       "0      14.395        81     0.0000     3.0        13.0   16.0  \n",
       "1      13.635        80     0.0000     8.0        32.0   40.0  \n",
       "2      13.635        80     0.0000     5.0        27.0   32.0  \n",
       "3      14.395        75     0.0000     3.0        10.0   13.0  \n",
       "4      14.395        75     0.0000     0.0         1.0    1.0  \n",
       "...       ...       ...        ...     ...         ...    ...  \n",
       "17373  12.880        60    11.0014     NaN         NaN    NaN  \n",
       "17374  12.880        60    11.0014     NaN         NaN    NaN  \n",
       "17375  12.880        60    11.0014     NaN         NaN    NaN  \n",
       "17376  13.635        56     8.9981     NaN         NaN    NaN  \n",
       "17377  13.635        65     8.9981     NaN         NaN    NaN  \n",
       "\n",
       "[17378 rows x 12 columns]"
      ]
     },
<<<<<<< HEAD
     "execution_count": 8,
=======
     "execution_count": 6,
>>>>>>> f0207d6158218d29b967f220e9c58addbafef23f
     "metadata": {},
     "output_type": "execute_result"
    }
   ],
   "source": [
    "all_data = pd.concat([train, test], ignore_index=True)\n",
    "all_data"
   ]
  },
  {
   "cell_type": "markdown",
   "id": "3ad07787",
   "metadata": {},
   "source": [
    "### 파생 피처(변수) 추가"
   ]
  },
  {
   "cell_type": "code",
<<<<<<< HEAD
   "execution_count": 9,
=======
   "execution_count": 7,
>>>>>>> f0207d6158218d29b967f220e9c58addbafef23f
   "id": "61d84f19",
   "metadata": {},
   "outputs": [],
   "source": [
    "all_data['datetime'] = pd.to_datetime(all_data['datetime'])\n",
    "# all_data['date'] = all_data['datetime'].dt.date\n",
    "all_data['year'] = all_data['datetime'].dt.year\n",
    "# all_data['month'] = all_data['datetime'].dt.month\n",
    "all_data['hour'] = all_data['datetime'].dt.hour\n",
    "all_data['weekday'] = all_data['datetime'].dt.weekday"
   ]
  },
  {
   "cell_type": "markdown",
   "id": "4d579b01",
   "metadata": {},
   "source": [
    "### 필요 없는 피처 제거"
   ]
  },
  {
   "cell_type": "code",
<<<<<<< HEAD
   "execution_count": 10,
=======
   "execution_count": 8,
>>>>>>> f0207d6158218d29b967f220e9c58addbafef23f
   "id": "c539aa5e",
   "metadata": {},
   "outputs": [
    {
     "data": {
      "text/html": [
       "<div>\n",
       "<style scoped>\n",
       "    .dataframe tbody tr th:only-of-type {\n",
       "        vertical-align: middle;\n",
       "    }\n",
       "\n",
       "    .dataframe tbody tr th {\n",
       "        vertical-align: top;\n",
       "    }\n",
       "\n",
       "    .dataframe thead th {\n",
       "        text-align: right;\n",
       "    }\n",
       "</style>\n",
       "<table border=\"1\" class=\"dataframe\">\n",
       "  <thead>\n",
       "    <tr style=\"text-align: right;\">\n",
       "      <th></th>\n",
       "      <th>season</th>\n",
       "      <th>holiday</th>\n",
       "      <th>workingday</th>\n",
       "      <th>weather</th>\n",
       "      <th>temp</th>\n",
       "      <th>atemp</th>\n",
       "      <th>humidity</th>\n",
       "      <th>count</th>\n",
       "      <th>year</th>\n",
       "      <th>hour</th>\n",
       "      <th>weekday</th>\n",
       "    </tr>\n",
       "  </thead>\n",
       "  <tbody>\n",
       "    <tr>\n",
       "      <th>0</th>\n",
       "      <td>1</td>\n",
       "      <td>0</td>\n",
       "      <td>0</td>\n",
       "      <td>1</td>\n",
       "      <td>9.84</td>\n",
       "      <td>14.395</td>\n",
       "      <td>81</td>\n",
       "      <td>16.0</td>\n",
       "      <td>2011</td>\n",
       "      <td>0</td>\n",
       "      <td>5</td>\n",
       "    </tr>\n",
       "    <tr>\n",
       "      <th>1</th>\n",
       "      <td>1</td>\n",
       "      <td>0</td>\n",
       "      <td>0</td>\n",
       "      <td>1</td>\n",
       "      <td>9.02</td>\n",
       "      <td>13.635</td>\n",
       "      <td>80</td>\n",
       "      <td>40.0</td>\n",
       "      <td>2011</td>\n",
       "      <td>1</td>\n",
       "      <td>5</td>\n",
       "    </tr>\n",
       "    <tr>\n",
       "      <th>2</th>\n",
       "      <td>1</td>\n",
       "      <td>0</td>\n",
       "      <td>0</td>\n",
       "      <td>1</td>\n",
       "      <td>9.02</td>\n",
       "      <td>13.635</td>\n",
       "      <td>80</td>\n",
       "      <td>32.0</td>\n",
       "      <td>2011</td>\n",
       "      <td>2</td>\n",
       "      <td>5</td>\n",
       "    </tr>\n",
       "    <tr>\n",
       "      <th>3</th>\n",
       "      <td>1</td>\n",
       "      <td>0</td>\n",
       "      <td>0</td>\n",
       "      <td>1</td>\n",
       "      <td>9.84</td>\n",
       "      <td>14.395</td>\n",
       "      <td>75</td>\n",
       "      <td>13.0</td>\n",
       "      <td>2011</td>\n",
       "      <td>3</td>\n",
       "      <td>5</td>\n",
       "    </tr>\n",
       "    <tr>\n",
       "      <th>4</th>\n",
       "      <td>1</td>\n",
       "      <td>0</td>\n",
       "      <td>0</td>\n",
       "      <td>1</td>\n",
       "      <td>9.84</td>\n",
       "      <td>14.395</td>\n",
       "      <td>75</td>\n",
       "      <td>1.0</td>\n",
       "      <td>2011</td>\n",
       "      <td>4</td>\n",
       "      <td>5</td>\n",
       "    </tr>\n",
       "  </tbody>\n",
       "</table>\n",
       "</div>"
      ],
      "text/plain": [
       "   season  holiday  workingday  weather  temp   atemp  humidity  count  year  \\\n",
       "0       1        0           0        1  9.84  14.395        81   16.0  2011   \n",
       "1       1        0           0        1  9.02  13.635        80   40.0  2011   \n",
       "2       1        0           0        1  9.02  13.635        80   32.0  2011   \n",
       "3       1        0           0        1  9.84  14.395        75   13.0  2011   \n",
       "4       1        0           0        1  9.84  14.395        75    1.0  2011   \n",
       "\n",
       "   hour  weekday  \n",
       "0     0        5  \n",
       "1     1        5  \n",
       "2     2        5  \n",
       "3     3        5  \n",
       "4     4        5  "
      ]
     },
<<<<<<< HEAD
     "execution_count": 10,
=======
     "execution_count": 8,
>>>>>>> f0207d6158218d29b967f220e9c58addbafef23f
     "metadata": {},
     "output_type": "execute_result"
    }
   ],
   "source": [
    "drop_features = ['casual', 'registered', 'datetime',  'windspeed']\n",
    "all_data = all_data.drop(drop_features, axis=1)\n",
    "all_data.head()"
   ]
  },
  {
   "cell_type": "markdown",
   "id": "767e6b1d",
   "metadata": {},
   "source": [
    "### 데이터 나누기"
   ]
  },
  {
   "cell_type": "code",
<<<<<<< HEAD
   "execution_count": 11,
=======
   "execution_count": 9,
>>>>>>> f0207d6158218d29b967f220e9c58addbafef23f
   "id": "c1f179a7",
   "metadata": {},
   "outputs": [],
   "source": [
    "X_train = all_data[~all_data['count'].isna()]\n",
    "X_test = all_data[all_data['count'].isna()]"
   ]
  },
  {
   "cell_type": "code",
<<<<<<< HEAD
   "execution_count": 12,
=======
   "execution_count": 10,
>>>>>>> f0207d6158218d29b967f220e9c58addbafef23f
   "id": "f791a702",
   "metadata": {},
   "outputs": [],
   "source": [
    "y = train['count']\n",
    "X_train = X_train.drop('count', axis=1)\n",
    "X_test = X_test.drop('count', axis=1)"
   ]
  },
  {
   "cell_type": "code",
<<<<<<< HEAD
   "execution_count": 13,
=======
   "execution_count": 11,
>>>>>>> f0207d6158218d29b967f220e9c58addbafef23f
   "id": "8b965539",
   "metadata": {},
   "outputs": [
    {
     "data": {
      "text/html": [
       "<div>\n",
       "<style scoped>\n",
       "    .dataframe tbody tr th:only-of-type {\n",
       "        vertical-align: middle;\n",
       "    }\n",
       "\n",
       "    .dataframe tbody tr th {\n",
       "        vertical-align: top;\n",
       "    }\n",
       "\n",
       "    .dataframe thead th {\n",
       "        text-align: right;\n",
       "    }\n",
       "</style>\n",
       "<table border=\"1\" class=\"dataframe\">\n",
       "  <thead>\n",
       "    <tr style=\"text-align: right;\">\n",
       "      <th></th>\n",
       "      <th>season</th>\n",
       "      <th>holiday</th>\n",
       "      <th>workingday</th>\n",
       "      <th>weather</th>\n",
       "      <th>temp</th>\n",
       "      <th>atemp</th>\n",
       "      <th>humidity</th>\n",
       "      <th>year</th>\n",
       "      <th>hour</th>\n",
       "      <th>weekday</th>\n",
       "    </tr>\n",
       "  </thead>\n",
       "  <tbody>\n",
       "    <tr>\n",
       "      <th>0</th>\n",
       "      <td>1</td>\n",
       "      <td>0</td>\n",
       "      <td>0</td>\n",
       "      <td>1</td>\n",
       "      <td>9.84</td>\n",
       "      <td>14.395</td>\n",
       "      <td>81</td>\n",
       "      <td>2011</td>\n",
       "      <td>0</td>\n",
       "      <td>5</td>\n",
       "    </tr>\n",
       "    <tr>\n",
       "      <th>1</th>\n",
       "      <td>1</td>\n",
       "      <td>0</td>\n",
       "      <td>0</td>\n",
       "      <td>1</td>\n",
       "      <td>9.02</td>\n",
       "      <td>13.635</td>\n",
       "      <td>80</td>\n",
       "      <td>2011</td>\n",
       "      <td>1</td>\n",
       "      <td>5</td>\n",
       "    </tr>\n",
       "    <tr>\n",
       "      <th>2</th>\n",
       "      <td>1</td>\n",
       "      <td>0</td>\n",
       "      <td>0</td>\n",
       "      <td>1</td>\n",
       "      <td>9.02</td>\n",
       "      <td>13.635</td>\n",
       "      <td>80</td>\n",
       "      <td>2011</td>\n",
       "      <td>2</td>\n",
       "      <td>5</td>\n",
       "    </tr>\n",
       "    <tr>\n",
       "      <th>3</th>\n",
       "      <td>1</td>\n",
       "      <td>0</td>\n",
       "      <td>0</td>\n",
       "      <td>1</td>\n",
       "      <td>9.84</td>\n",
       "      <td>14.395</td>\n",
       "      <td>75</td>\n",
       "      <td>2011</td>\n",
       "      <td>3</td>\n",
       "      <td>5</td>\n",
       "    </tr>\n",
       "    <tr>\n",
       "      <th>4</th>\n",
       "      <td>1</td>\n",
       "      <td>0</td>\n",
       "      <td>0</td>\n",
       "      <td>1</td>\n",
       "      <td>9.84</td>\n",
       "      <td>14.395</td>\n",
       "      <td>75</td>\n",
       "      <td>2011</td>\n",
       "      <td>4</td>\n",
       "      <td>5</td>\n",
       "    </tr>\n",
       "  </tbody>\n",
       "</table>\n",
       "</div>"
      ],
      "text/plain": [
       "   season  holiday  workingday  weather  temp   atemp  humidity  year  hour  \\\n",
       "0       1        0           0        1  9.84  14.395        81  2011     0   \n",
       "1       1        0           0        1  9.02  13.635        80  2011     1   \n",
       "2       1        0           0        1  9.02  13.635        80  2011     2   \n",
       "3       1        0           0        1  9.84  14.395        75  2011     3   \n",
       "4       1        0           0        1  9.84  14.395        75  2011     4   \n",
       "\n",
       "   weekday  \n",
       "0        5  \n",
       "1        5  \n",
       "2        5  \n",
       "3        5  \n",
       "4        5  "
      ]
     },
<<<<<<< HEAD
     "execution_count": 13,
=======
     "execution_count": 11,
>>>>>>> f0207d6158218d29b967f220e9c58addbafef23f
     "metadata": {},
     "output_type": "execute_result"
    }
   ],
   "source": [
    "X_train.head()"
   ]
  },
  {
   "cell_type": "markdown",
   "id": "885b21e5",
   "metadata": {},
   "source": [
    "## 평가지표 계산 함수 작성"
   ]
  },
  {
   "cell_type": "code",
<<<<<<< HEAD
   "execution_count": 14,
=======
   "execution_count": 12,
>>>>>>> f0207d6158218d29b967f220e9c58addbafef23f
   "id": "9ce40813",
   "metadata": {},
   "outputs": [],
   "source": [
    "def rmsle(y_true, y_pred, convertExp=True):\n",
    "    if convertExp:\n",
    "        y_true = np.exp(y_true)\n",
    "        y_pred = np.exp(y_pred)\n",
    "        \n",
    "    log_true = np.nan_to_num(np.log(y_true+1))\n",
    "    log_pred = np.nan_to_num(np.log(y_pred+1))\n",
    "    \n",
    "    output = np.sqrt(np.mean((log_true  - log_pred)**2))\n",
    "    return output"
   ]
  },
  {
   "cell_type": "code",
<<<<<<< HEAD
   "execution_count": 15,
=======
   "execution_count": 13,
>>>>>>> f0207d6158218d29b967f220e9c58addbafef23f
   "id": "34457eb1",
   "metadata": {},
   "outputs": [
    {
     "data": {
      "text/plain": [
       "(0.0, 1e-100, 0.0)"
      ]
     },
<<<<<<< HEAD
     "execution_count": 15,
=======
     "execution_count": 13,
>>>>>>> f0207d6158218d29b967f220e9c58addbafef23f
     "metadata": {},
     "output_type": "execute_result"
    }
   ],
   "source": [
    "np.log(1e-100+1), np.log1p(1e-100), np.log1p(0)"
   ]
  },
  {
   "cell_type": "markdown",
   "id": "9a3f7784",
   "metadata": {},
   "source": [
    "## 모델 훈련"
   ]
  },
  {
   "cell_type": "code",
<<<<<<< HEAD
   "execution_count": 16,
=======
   "execution_count": 14,
>>>>>>> f0207d6158218d29b967f220e9c58addbafef23f
   "id": "027cd387",
   "metadata": {},
   "outputs": [
    {
     "data": {
      "text/html": [
       "<style>#sk-container-id-1 {color: black;background-color: white;}#sk-container-id-1 pre{padding: 0;}#sk-container-id-1 div.sk-toggleable {background-color: white;}#sk-container-id-1 label.sk-toggleable__label {cursor: pointer;display: block;width: 100%;margin-bottom: 0;padding: 0.3em;box-sizing: border-box;text-align: center;}#sk-container-id-1 label.sk-toggleable__label-arrow:before {content: \"▸\";float: left;margin-right: 0.25em;color: #696969;}#sk-container-id-1 label.sk-toggleable__label-arrow:hover:before {color: black;}#sk-container-id-1 div.sk-estimator:hover label.sk-toggleable__label-arrow:before {color: black;}#sk-container-id-1 div.sk-toggleable__content {max-height: 0;max-width: 0;overflow: hidden;text-align: left;background-color: #f0f8ff;}#sk-container-id-1 div.sk-toggleable__content pre {margin: 0.2em;color: black;border-radius: 0.25em;background-color: #f0f8ff;}#sk-container-id-1 input.sk-toggleable__control:checked~div.sk-toggleable__content {max-height: 200px;max-width: 100%;overflow: auto;}#sk-container-id-1 input.sk-toggleable__control:checked~label.sk-toggleable__label-arrow:before {content: \"▾\";}#sk-container-id-1 div.sk-estimator input.sk-toggleable__control:checked~label.sk-toggleable__label {background-color: #d4ebff;}#sk-container-id-1 div.sk-label input.sk-toggleable__control:checked~label.sk-toggleable__label {background-color: #d4ebff;}#sk-container-id-1 input.sk-hidden--visually {border: 0;clip: rect(1px 1px 1px 1px);clip: rect(1px, 1px, 1px, 1px);height: 1px;margin: -1px;overflow: hidden;padding: 0;position: absolute;width: 1px;}#sk-container-id-1 div.sk-estimator {font-family: monospace;background-color: #f0f8ff;border: 1px dotted black;border-radius: 0.25em;box-sizing: border-box;margin-bottom: 0.5em;}#sk-container-id-1 div.sk-estimator:hover {background-color: #d4ebff;}#sk-container-id-1 div.sk-parallel-item::after {content: \"\";width: 100%;border-bottom: 1px solid gray;flex-grow: 1;}#sk-container-id-1 div.sk-label:hover label.sk-toggleable__label {background-color: #d4ebff;}#sk-container-id-1 div.sk-serial::before {content: \"\";position: absolute;border-left: 1px solid gray;box-sizing: border-box;top: 0;bottom: 0;left: 50%;z-index: 0;}#sk-container-id-1 div.sk-serial {display: flex;flex-direction: column;align-items: center;background-color: white;padding-right: 0.2em;padding-left: 0.2em;position: relative;}#sk-container-id-1 div.sk-item {position: relative;z-index: 1;}#sk-container-id-1 div.sk-parallel {display: flex;align-items: stretch;justify-content: center;background-color: white;position: relative;}#sk-container-id-1 div.sk-item::before, #sk-container-id-1 div.sk-parallel-item::before {content: \"\";position: absolute;border-left: 1px solid gray;box-sizing: border-box;top: 0;bottom: 0;left: 50%;z-index: -1;}#sk-container-id-1 div.sk-parallel-item {display: flex;flex-direction: column;z-index: 1;position: relative;background-color: white;}#sk-container-id-1 div.sk-parallel-item:first-child::after {align-self: flex-end;width: 50%;}#sk-container-id-1 div.sk-parallel-item:last-child::after {align-self: flex-start;width: 50%;}#sk-container-id-1 div.sk-parallel-item:only-child::after {width: 0;}#sk-container-id-1 div.sk-dashed-wrapped {border: 1px dashed gray;margin: 0 0.4em 0.5em 0.4em;box-sizing: border-box;padding-bottom: 0.4em;background-color: white;}#sk-container-id-1 div.sk-label label {font-family: monospace;font-weight: bold;display: inline-block;line-height: 1.2em;}#sk-container-id-1 div.sk-label-container {text-align: center;}#sk-container-id-1 div.sk-container {/* jupyter's `normalize.less` sets `[hidden] { display: none; }` but bootstrap.min.css set `[hidden] { display: none !important; }` so we also need the `!important` here to be able to override the default hidden behavior on the sphinx rendered scikit-learn.org. See: https://github.com/scikit-learn/scikit-learn/issues/21755 */display: inline-block !important;position: relative;}#sk-container-id-1 div.sk-text-repr-fallback {display: none;}</style><div id=\"sk-container-id-1\" class=\"sk-top-container\"><div class=\"sk-text-repr-fallback\"><pre>LinearRegression()</pre><b>In a Jupyter environment, please rerun this cell to show the HTML representation or trust the notebook. <br />On GitHub, the HTML representation is unable to render, please try loading this page with nbviewer.org.</b></div><div class=\"sk-container\" hidden><div class=\"sk-item\"><div class=\"sk-estimator sk-toggleable\"><input class=\"sk-toggleable__control sk-hidden--visually\" id=\"sk-estimator-id-1\" type=\"checkbox\" checked><label for=\"sk-estimator-id-1\" class=\"sk-toggleable__label sk-toggleable__label-arrow\">LinearRegression</label><div class=\"sk-toggleable__content\"><pre>LinearRegression()</pre></div></div></div></div></div>"
      ],
      "text/plain": [
       "LinearRegression()"
      ]
     },
<<<<<<< HEAD
     "execution_count": 16,
=======
     "execution_count": 14,
>>>>>>> f0207d6158218d29b967f220e9c58addbafef23f
     "metadata": {},
     "output_type": "execute_result"
    }
   ],
   "source": [
    "from sklearn.linear_model import LinearRegression\n",
    "\n",
    "linear_reg = LinearRegression()\n",
    "log_y = np.log(y)\n",
    "\n",
    "linear_reg.fit(X_train, log_y)"
   ]
  },
  {
   "cell_type": "markdown",
   "id": "6d791b0c",
   "metadata": {},
   "source": [
    "## 모델 성능 검증"
   ]
  },
  {
   "cell_type": "code",
<<<<<<< HEAD
   "execution_count": 17,
=======
   "execution_count": 15,
>>>>>>> f0207d6158218d29b967f220e9c58addbafef23f
   "id": "ffa12c7c",
   "metadata": {},
   "outputs": [
    {
     "name": "stdout",
     "output_type": "stream",
     "text": [
      "선형 회귀의 RMSLE 값 : 1.0205\n"
     ]
    }
   ],
   "source": [
    "preds = linear_reg.predict(X_train)\n",
    "print(f'선형 회귀의 RMSLE 값 : {rmsle(log_y, preds, True):.4f}')"
   ]
  },
  {
   "cell_type": "markdown",
   "id": "a08bff76",
   "metadata": {},
   "source": [
    "## 예측 및 결과 제출"
   ]
  },
  {
   "cell_type": "code",
<<<<<<< HEAD
   "execution_count": 18,
=======
   "execution_count": 16,
>>>>>>> f0207d6158218d29b967f220e9c58addbafef23f
   "id": "3826c11c",
   "metadata": {},
   "outputs": [],
   "source": [
    "preds = linear_reg.predict(X_test)\n",
    "submission['count'] = np.exp(preds)\n",
    "submission.to_csv('submission.csv', index=False)"
   ]
  },
  {
   "cell_type": "markdown",
   "id": "c14faf2a",
   "metadata": {},
   "source": [
    "# 성능 개선 1 : 릿지 회귀 모델"
   ]
  },
  {
   "cell_type": "markdown",
   "id": "ffebde17",
   "metadata": {},
   "source": [
    "### 하이퍼파라미터 최적화\n",
    "#### 모델 생성"
   ]
  },
  {
   "cell_type": "code",
<<<<<<< HEAD
   "execution_count": 19,
=======
   "execution_count": 17,
>>>>>>> f0207d6158218d29b967f220e9c58addbafef23f
   "id": "8f4a03cb",
   "metadata": {},
   "outputs": [],
   "source": [
    "from sklearn.linear_model import Ridge\n",
    "from sklearn.model_selection import GridSearchCV\n",
    "from sklearn import metrics\n",
    "\n",
    "ridge = Ridge()"
   ]
  },
  {
   "cell_type": "markdown",
   "id": "075da183",
   "metadata": {},
   "source": [
    "#### 그리드서치 객체 생성"
   ]
  },
  {
   "cell_type": "code",
<<<<<<< HEAD
   "execution_count": 20,
=======
   "execution_count": 18,
>>>>>>> f0207d6158218d29b967f220e9c58addbafef23f
   "id": "6f6d168c",
   "metadata": {},
   "outputs": [],
   "source": [
    "param_grid = {'max_iter': [3000], 'alpha' : [0.1, 1, 2, 3, 4, 10, 30, 100, 200, 300, 400, 800, 900, 1000]}\n",
    "\n",
    "rmsle_scorer = metrics.make_scorer(rmsle, greater_is_better=False)\n",
    "\n",
    "grid_ridge = GridSearchCV(estimator=ridge, \n",
    "                             param_grid=param_grid,\n",
    "                             scoring=rmsle_scorer,\n",
    "                             cv=5)"
   ]
  },
  {
   "cell_type": "markdown",
   "id": "f17f982d",
   "metadata": {},
   "source": [
    "#### 그리드서치 수행"
   ]
  },
  {
   "cell_type": "code",
<<<<<<< HEAD
   "execution_count": 21,
=======
   "execution_count": 19,
>>>>>>> f0207d6158218d29b967f220e9c58addbafef23f
   "id": "633998f2",
   "metadata": {},
   "outputs": [
    {
     "data": {
      "text/html": [
       "<style>#sk-container-id-2 {color: black;background-color: white;}#sk-container-id-2 pre{padding: 0;}#sk-container-id-2 div.sk-toggleable {background-color: white;}#sk-container-id-2 label.sk-toggleable__label {cursor: pointer;display: block;width: 100%;margin-bottom: 0;padding: 0.3em;box-sizing: border-box;text-align: center;}#sk-container-id-2 label.sk-toggleable__label-arrow:before {content: \"▸\";float: left;margin-right: 0.25em;color: #696969;}#sk-container-id-2 label.sk-toggleable__label-arrow:hover:before {color: black;}#sk-container-id-2 div.sk-estimator:hover label.sk-toggleable__label-arrow:before {color: black;}#sk-container-id-2 div.sk-toggleable__content {max-height: 0;max-width: 0;overflow: hidden;text-align: left;background-color: #f0f8ff;}#sk-container-id-2 div.sk-toggleable__content pre {margin: 0.2em;color: black;border-radius: 0.25em;background-color: #f0f8ff;}#sk-container-id-2 input.sk-toggleable__control:checked~div.sk-toggleable__content {max-height: 200px;max-width: 100%;overflow: auto;}#sk-container-id-2 input.sk-toggleable__control:checked~label.sk-toggleable__label-arrow:before {content: \"▾\";}#sk-container-id-2 div.sk-estimator input.sk-toggleable__control:checked~label.sk-toggleable__label {background-color: #d4ebff;}#sk-container-id-2 div.sk-label input.sk-toggleable__control:checked~label.sk-toggleable__label {background-color: #d4ebff;}#sk-container-id-2 input.sk-hidden--visually {border: 0;clip: rect(1px 1px 1px 1px);clip: rect(1px, 1px, 1px, 1px);height: 1px;margin: -1px;overflow: hidden;padding: 0;position: absolute;width: 1px;}#sk-container-id-2 div.sk-estimator {font-family: monospace;background-color: #f0f8ff;border: 1px dotted black;border-radius: 0.25em;box-sizing: border-box;margin-bottom: 0.5em;}#sk-container-id-2 div.sk-estimator:hover {background-color: #d4ebff;}#sk-container-id-2 div.sk-parallel-item::after {content: \"\";width: 100%;border-bottom: 1px solid gray;flex-grow: 1;}#sk-container-id-2 div.sk-label:hover label.sk-toggleable__label {background-color: #d4ebff;}#sk-container-id-2 div.sk-serial::before {content: \"\";position: absolute;border-left: 1px solid gray;box-sizing: border-box;top: 0;bottom: 0;left: 50%;z-index: 0;}#sk-container-id-2 div.sk-serial {display: flex;flex-direction: column;align-items: center;background-color: white;padding-right: 0.2em;padding-left: 0.2em;position: relative;}#sk-container-id-2 div.sk-item {position: relative;z-index: 1;}#sk-container-id-2 div.sk-parallel {display: flex;align-items: stretch;justify-content: center;background-color: white;position: relative;}#sk-container-id-2 div.sk-item::before, #sk-container-id-2 div.sk-parallel-item::before {content: \"\";position: absolute;border-left: 1px solid gray;box-sizing: border-box;top: 0;bottom: 0;left: 50%;z-index: -1;}#sk-container-id-2 div.sk-parallel-item {display: flex;flex-direction: column;z-index: 1;position: relative;background-color: white;}#sk-container-id-2 div.sk-parallel-item:first-child::after {align-self: flex-end;width: 50%;}#sk-container-id-2 div.sk-parallel-item:last-child::after {align-self: flex-start;width: 50%;}#sk-container-id-2 div.sk-parallel-item:only-child::after {width: 0;}#sk-container-id-2 div.sk-dashed-wrapped {border: 1px dashed gray;margin: 0 0.4em 0.5em 0.4em;box-sizing: border-box;padding-bottom: 0.4em;background-color: white;}#sk-container-id-2 div.sk-label label {font-family: monospace;font-weight: bold;display: inline-block;line-height: 1.2em;}#sk-container-id-2 div.sk-label-container {text-align: center;}#sk-container-id-2 div.sk-container {/* jupyter's `normalize.less` sets `[hidden] { display: none; }` but bootstrap.min.css set `[hidden] { display: none !important; }` so we also need the `!important` here to be able to override the default hidden behavior on the sphinx rendered scikit-learn.org. See: https://github.com/scikit-learn/scikit-learn/issues/21755 */display: inline-block !important;position: relative;}#sk-container-id-2 div.sk-text-repr-fallback {display: none;}</style><div id=\"sk-container-id-2\" class=\"sk-top-container\"><div class=\"sk-text-repr-fallback\"><pre>GridSearchCV(cv=5, estimator=Ridge(),\n",
       "             param_grid={&#x27;alpha&#x27;: [0.1, 1, 2, 3, 4, 10, 30, 100, 200, 300, 400,\n",
       "                                   800, 900, 1000],\n",
       "                         &#x27;max_iter&#x27;: [3000]},\n",
       "             scoring=make_scorer(rmsle, greater_is_better=False))</pre><b>In a Jupyter environment, please rerun this cell to show the HTML representation or trust the notebook. <br />On GitHub, the HTML representation is unable to render, please try loading this page with nbviewer.org.</b></div><div class=\"sk-container\" hidden><div class=\"sk-item sk-dashed-wrapped\"><div class=\"sk-label-container\"><div class=\"sk-label sk-toggleable\"><input class=\"sk-toggleable__control sk-hidden--visually\" id=\"sk-estimator-id-2\" type=\"checkbox\" ><label for=\"sk-estimator-id-2\" class=\"sk-toggleable__label sk-toggleable__label-arrow\">GridSearchCV</label><div class=\"sk-toggleable__content\"><pre>GridSearchCV(cv=5, estimator=Ridge(),\n",
       "             param_grid={&#x27;alpha&#x27;: [0.1, 1, 2, 3, 4, 10, 30, 100, 200, 300, 400,\n",
       "                                   800, 900, 1000],\n",
       "                         &#x27;max_iter&#x27;: [3000]},\n",
       "             scoring=make_scorer(rmsle, greater_is_better=False))</pre></div></div></div><div class=\"sk-parallel\"><div class=\"sk-parallel-item\"><div class=\"sk-item\"><div class=\"sk-label-container\"><div class=\"sk-label sk-toggleable\"><input class=\"sk-toggleable__control sk-hidden--visually\" id=\"sk-estimator-id-3\" type=\"checkbox\" ><label for=\"sk-estimator-id-3\" class=\"sk-toggleable__label sk-toggleable__label-arrow\">estimator: Ridge</label><div class=\"sk-toggleable__content\"><pre>Ridge()</pre></div></div></div><div class=\"sk-serial\"><div class=\"sk-item\"><div class=\"sk-estimator sk-toggleable\"><input class=\"sk-toggleable__control sk-hidden--visually\" id=\"sk-estimator-id-4\" type=\"checkbox\" ><label for=\"sk-estimator-id-4\" class=\"sk-toggleable__label sk-toggleable__label-arrow\">Ridge</label><div class=\"sk-toggleable__content\"><pre>Ridge()</pre></div></div></div></div></div></div></div></div></div></div>"
      ],
      "text/plain": [
       "GridSearchCV(cv=5, estimator=Ridge(),\n",
       "             param_grid={'alpha': [0.1, 1, 2, 3, 4, 10, 30, 100, 200, 300, 400,\n",
       "                                   800, 900, 1000],\n",
       "                         'max_iter': [3000]},\n",
       "             scoring=make_scorer(rmsle, greater_is_better=False))"
      ]
     },
<<<<<<< HEAD
     "execution_count": 21,
=======
     "execution_count": 19,
>>>>>>> f0207d6158218d29b967f220e9c58addbafef23f
     "metadata": {},
     "output_type": "execute_result"
    }
   ],
   "source": [
    "log_y = np.log(y)\n",
    "grid_ridge.fit(X_train, log_y)"
   ]
  },
  {
   "cell_type": "code",
<<<<<<< HEAD
   "execution_count": 22,
=======
   "execution_count": 20,
>>>>>>> f0207d6158218d29b967f220e9c58addbafef23f
   "id": "80273c5c",
   "metadata": {},
   "outputs": [
    {
     "data": {
      "text/plain": [
       "{'alpha': 0.1, 'max_iter': 3000}"
      ]
     },
<<<<<<< HEAD
     "execution_count": 22,
=======
     "execution_count": 20,
>>>>>>> f0207d6158218d29b967f220e9c58addbafef23f
     "metadata": {},
     "output_type": "execute_result"
    }
   ],
   "source": [
    "grid_ridge.best_params_"
   ]
  },
  {
   "cell_type": "markdown",
   "id": "f7eb1c1f",
   "metadata": {},
   "source": [
    "### 성능 검증"
   ]
  },
  {
   "cell_type": "code",
<<<<<<< HEAD
   "execution_count": 23,
=======
   "execution_count": 21,
>>>>>>> f0207d6158218d29b967f220e9c58addbafef23f
   "id": "722631ae",
   "metadata": {},
   "outputs": [
    {
     "name": "stdout",
     "output_type": "stream",
     "text": [
      "릿지 회귀의 RMSLE 값 : 1.0205\n"
     ]
    }
   ],
   "source": [
    "preds = grid_ridge.best_estimator_.predict(X_train)\n",
    "print(f'릿지 회귀의 RMSLE 값 : {rmsle(log_y, preds, True):.4f}')"
   ]
  },
  {
   "cell_type": "markdown",
   "id": "8fca05d3",
   "metadata": {},
   "source": [
    "# 성능 개선 2 : 라쏘 회귀 모델"
   ]
  },
  {
   "cell_type": "markdown",
   "id": "513c618c",
   "metadata": {},
   "source": [
    "## 하이퍼파라미터 최적화 및 모델 훈련"
   ]
  },
  {
   "cell_type": "code",
<<<<<<< HEAD
   "execution_count": 24,
=======
   "execution_count": 22,
>>>>>>> f0207d6158218d29b967f220e9c58addbafef23f
   "id": "5cf731ab",
   "metadata": {},
   "outputs": [
    {
     "data": {
      "text/plain": [
       "{'alpha': 0.00125, 'max_iter': 3000}"
      ]
     },
<<<<<<< HEAD
     "execution_count": 24,
=======
     "execution_count": 22,
>>>>>>> f0207d6158218d29b967f220e9c58addbafef23f
     "metadata": {},
     "output_type": "execute_result"
    }
   ],
   "source": [
    "from sklearn.linear_model import Lasso\n",
    "\n",
    "lasso = Lasso()\n",
    "lasso_alpha = 1/np.array([0.1, 1, 2, 3, 4, 10, 30, 100, 200, 300, 400, 800, 900, 1000])\n",
    "param_grid = {'max_iter':[3000],'alpha':lasso_alpha}\n",
    "\n",
    "grid_lasso = GridSearchCV(estimator=lasso, \n",
    "                         param_grid=param_grid,\n",
    "                         scoring=rmsle_scorer,\n",
    "                         cv=5)\n",
    "log_y = np.log(y)\n",
    "grid_lasso.fit(X_train, log_y)\n",
    "\n",
    "grid_lasso.best_params_"
   ]
  },
  {
   "cell_type": "markdown",
   "id": "b1602e3d",
   "metadata": {},
   "source": [
    "## 성능 검증"
   ]
  },
  {
   "cell_type": "code",
<<<<<<< HEAD
   "execution_count": 25,
=======
   "execution_count": 23,
>>>>>>> f0207d6158218d29b967f220e9c58addbafef23f
   "id": "2d4aeda3",
   "metadata": {},
   "outputs": [
    {
     "name": "stdout",
     "output_type": "stream",
     "text": [
      "라소 회귀의 RMSLE 값 : 1.0205\n"
     ]
    }
   ],
   "source": [
    "preds = grid_lasso.best_estimator_.predict(X_train)\n",
    "print(f'라소 회귀의 RMSLE 값 : {rmsle(log_y, preds, True):.4f}')"
   ]
  },
  {
   "cell_type": "markdown",
   "id": "df248fef",
   "metadata": {},
   "source": [
    "## 성능 개선 3 : 랜덤 포레스트 회귀 모델"
   ]
  },
  {
   "cell_type": "markdown",
   "id": "cc4176ee",
   "metadata": {},
   "source": [
    "### 하이퍼라라미터 최적화 및 모델 훈련"
   ]
  },
  {
   "cell_type": "code",
<<<<<<< HEAD
   "execution_count": 26,
=======
   "execution_count": 24,
>>>>>>> f0207d6158218d29b967f220e9c58addbafef23f
   "id": "03fbf53c",
   "metadata": {},
   "outputs": [
    {
     "data": {
      "text/plain": [
       "{'n_estimators': 140, 'random_state': 42}"
      ]
     },
<<<<<<< HEAD
     "execution_count": 26,
=======
     "execution_count": 24,
>>>>>>> f0207d6158218d29b967f220e9c58addbafef23f
     "metadata": {},
     "output_type": "execute_result"
    }
   ],
   "source": [
    "from sklearn.ensemble import RandomForestRegressor\n",
    "\n",
    "rf = RandomForestRegressor()\n",
    "param_grid = {'random_state':[42], 'n_estimators':[100, 120, 140]}\n",
    "grid_rf = GridSearchCV(estimator=rf,\n",
    "                      param_grid=param_grid,\n",
    "                      scoring=rmsle_scorer,\n",
    "                      cv=5)\n",
    "\n",
    "log_y = np.log(y)\n",
    "grid_rf.fit(X_train, log_y)\n",
    "grid_rf.best_params_"
   ]
  },
  {
   "cell_type": "markdown",
   "id": "ad455ebe",
   "metadata": {},
   "source": [
    "### 모델 성능 검증"
   ]
  },
  {
   "cell_type": "code",
<<<<<<< HEAD
   "execution_count": 27,
=======
   "execution_count": 25,
>>>>>>> f0207d6158218d29b967f220e9c58addbafef23f
   "id": "88a53552",
   "metadata": {},
   "outputs": [
    {
     "name": "stdout",
     "output_type": "stream",
     "text": [
      "랜덤 포레스트 회귀의 RMSLE 값 : 0.1127\n"
     ]
    }
   ],
   "source": [
    "preds = grid_rf.best_estimator_.predict(X_train)\n",
    "\n",
    "print(f'랜덤 포레스트 회귀의 RMSLE 값 : {rmsle(log_y, preds, True):.4f}')"
   ]
  },
  {
   "cell_type": "markdown",
   "id": "a9108273",
   "metadata": {},
   "source": [
    "### 예측 및 결과 제출"
   ]
  },
  {
   "cell_type": "code",
<<<<<<< HEAD
   "execution_count": 28,
=======
   "execution_count": 26,
>>>>>>> f0207d6158218d29b967f220e9c58addbafef23f
   "id": "e337f637",
   "metadata": {},
   "outputs": [
    {
     "data": {
      "image/png": "iVBORw0KGgoAAAANSUhEUgAAA1sAAAGJCAYAAAB8VSkIAAAAOXRFWHRTb2Z0d2FyZQBNYXRwbG90bGliIHZlcnNpb24zLjcuMCwgaHR0cHM6Ly9tYXRwbG90bGliLm9yZy88F64QAAAACXBIWXMAAA9hAAAPYQGoP6dpAABXVklEQVR4nO3deVxV1f7/8fdB5IADoCgcMESyrvOUUzjlQOKQ1dVumaZUpl5DTb0/M0rN4SqmZeZ865t6u2mWfW245jURNU1xLDIcSMvSUsCvCqglMuzfHz7Y1yODgucwvp6Px37EXnudvdfayPn0OXutdSyGYRgCAAAAADiUS0k3AAAAAADKI5ItAAAAAHACki0AAAAAcAKSLQAAAABwApItAAAAAHACki0AAAAAcAKSLQAAAABwApItAAAAAHACki0AAAAAcAKSLZRLTz/9tOrVq1fSzShzpk2bJovFUizX6tq1q7p27Wrub9++XRaLRR9//HGxXD/HqlWrZLFY9PPPPxfrdQGUrHr16unpp58293Peg7Zv315ibbrZzW0sLywWi6ZNm1bSzbgjxEvcLpItFCuLxXJbW2kKdtJ/39hyNqvVKj8/P3Xt2lWzZ8/WuXPninzuI0eOaNq0aQ5/88p5U8zZ3N3dFRAQoLCwMC1cuFCXLl1yyHXOnDmjadOmKS4uziHnA1D+5fX+9Kc//UmjR49WUlJSSTevUDZu3FhiicPTTz99WzHVUQnbmjVrtGDBAoecqyiIlyiLXEu6AahY/vWvf9ntv/fee4qOjs5V3qhRozu6zjvvvKPs7Ow7Okdexo4dq7Zt2yorK0vnzp3T7t279eqrr2r+/Pn66KOP1L1790Kf88iRI5o+fbq6du3qlKdxM2bMUHBwsDIyMpSYmKjt27dr3Lhxmj9/vj7//HM1b97crDt58mS99NJLhTr/mTNnNH36dNWrV08tW7a87ddt3ry5UNdxliFDhmjgwIGyWq0l3RSgwsl5f7p69aq+/vprLVu2TBs3blR8fLyqVKlSrG3p0qWL/vjjD7m5uRXqdRs3btSSJUtKJOEaOXKkQkNDzf2TJ09q6tSpGjFihDp37myW169f3yHXW7NmjeLj4zVu3DiHnK+wiJcli3hZNCRbKFZPPfWU3f6ePXsUHR2dq/xmv//+e6ECb+XKlYvUvlvp3LmzHnvsMbuy7777Tj179tSAAQN05MgR+fv7O+XaRdW7d2+1adPG3I+MjNTWrVv10EMP6eGHH9bRo0fl4eEhSXJ1dZWrq3PfFnJ+l4X9HxpnqVSpkipVqlTSzQAqpBvfn5577jn5+Pho/vz5+uyzz/Tkk0/m+ZorV66oatWqDm+Li4uL3N3dHX5eZwoJCVFISIi5f+DAAU2dOlUhISG3jKvIjXhZMOJl0TCMEKVO165d1bRpUx08eFBdunRRlSpV9PLLL0uSPvvsM/Xt21cBAQGyWq2qX7++Zs6cqaysLLtz3Dxn6+eff5bFYtHrr7+ut99+W/Xr15fValXbtm21f//+O2pvixYttGDBAqWkpGjx4sVm+S+//KLnn39eDRo0kIeHh3x8fPSXv/zFbvjDqlWr9Je//EWS1K1bt1zDKG+3v4XVvXt3TZkyRb/88ovef/99szyvMejR0dHq1KmTvL29Va1aNTVo0MD8fWzfvl1t27aVJD3zzDNm+1etWiWp4N/lzWPQc2RlZenll1+WzWZT1apV9fDDD+v06dN2dfKbx5DXORctWqQmTZqoSpUqqlGjhtq0aaM1a9aYx/Mbg7506VI1adJEVqtVAQEBioiIUEpKSq7rNW3aVEeOHFG3bt1UpUoV1alTR3Pnzs3VNgC3ljM64OTJk5Kuv5dXq1ZNP/74o/r06aPq1atr8ODBkqTs7GwtWLBATZo0kbu7u/z8/DRy5EhdvHjR7pyGYejvf/+77rrrLlWpUkXdunXT4cOHc107vzlbe/fuVZ8+fVSjRg1VrVpVzZs311tvvWW2b8mSJZLsh8nncHQbi2rv3r3q1auXvLy8VKVKFT3wwAPatWuXXZ1Lly5p3LhxqlevnqxWq3x9ffXggw/qm2++kXT9/e6LL77QL7/8YvbzVk+X0tPTNX78eNWuXVvVq1fXww8/rF9//TVXPeIl8bI848kWSqXz58+rd+/eGjhwoJ566in5+flJuv6HXq1aNU2YMEHVqlXT1q1bNXXqVKWlpWnevHm3PO+aNWt06dIljRw5UhaLRXPnzlX//v31008/3dHTsMcee0zDhg3T5s2bNWvWLEnS/v37tXv3bg0cOFB33XWXfv75Zy1btkxdu3bVkSNHVKVKFXXp0kVjx47VwoUL9fLLL5vDJ3P+e6f9LciQIUP08ssva/PmzRo+fHiedQ4fPqyHHnpIzZs314wZM2S1WnXixAkzSDdq1EgzZszINWylQ4cO5jny+13mZ9asWbJYLJo0aZKSk5O1YMEChYaGKi4uzvxE8Xa98847Gjt2rB577DG98MILunr1qg4dOqS9e/dq0KBB+b5u2rRpmj59ukJDQzVq1CglJCRo2bJl2r9/v3bt2mX3b+XixYvq1auX+vfvr8cff1wff/yxJk2apGbNmql3796Fai9Q0f3444+SJB8fH7MsMzNTYWFh6tSpk15//XVzlMPIkSO1atUqPfPMMxo7dqxOnjypxYsX69tvv7X7O506dar+/ve/q0+fPurTp4+++eYb9ezZU9euXbtle6Kjo/XQQw/J399fL7zwgmw2m44ePaoNGzbohRde0MiRI3XmzJk8h8MXVxtvZevWrerdu7dat26tV199VS4uLlq5cqW6d++unTt3ql27dpKkv/71r/r44481evRoNW7cWOfPn9fXX3+to0eP6r777tMrr7yi1NRU/frrr3rzzTclSdWqVSvw2s8995zef/99DRo0SB06dNDWrVvVt2/fXPWIl9cRL8spAyhBERERxs3/DB944AFDkrF8+fJc9X///fdcZSNHjjSqVKliXL161SwLDw83goKCzP2TJ08akgwfHx/jwoULZvlnn31mSDL+/e9/F9jObdu2GZKMdevW5VunRYsWRo0aNQpsa2xsrCHJeO+998yydevWGZKMbdu25ap/u/3Ny8qVKw1Jxv79+/Ot4+XlZbRq1crcf/XVV+1+H2+++aYhyTh37ly+59i/f78hyVi5cmWuYwX9Lh944AHjgQceMPdz7nGdOnWMtLQ0s/yjjz4yJBlvvfWWWRYUFGSEh4ff8pyPPPKI0aRJk3zbbhj/vU8nT540DMMwkpOTDTc3N6Nnz55GVlaWWW/x4sWGJGPFihW5+nfj7zM9Pd2w2WzGgAEDCrwuUJHl/N1t2bLFOHfunHH69Glj7dq1ho+Pj+Hh4WH8+uuvhmFcfy+XZLz00kt2r9+5c6chyVi9erVd+aZNm+zKc/6e+/bta2RnZ5v1Xn75ZUOS3ftIzntQzntxZmamERwcbAQFBRkXL160u86N58orjjmrjbdy8/txdna2ce+99xphYWF25/7999+N4OBg48EHHzTLvLy8jIiIiALP37dvX7vYWpC4uDhDkvH888/blQ8aNMiQZLz66qt27bkZ8dL+GPGy7GIYIUolq9WqZ555Jlf5jZ/UXLp0Sf/3f/+nzp076/fff9exY8dued4nnnhCNWrUMPdzPln66aef7rjN1apVs1ux6Ma2ZmRk6Pz587rnnnvk7e1tDsu4lTvtb2HbfDNvb29J14dnFHXBkfx+l/kZOnSoqlevbu4/9thj8vf318aNGwt9bW9vb/3666+FGiq6ZcsWXbt2TePGjZOLy3/fIocPHy5PT0998cUXdvWrVatmNzfCzc1N7dq1c8i/KaC8Cw0NVe3atRUYGKiBAweqWrVq+uSTT1SnTh27eqNGjbLbX7dunby8vPTggw/q//7v/8ytdevWqlatmrZt2ybpv3/PY8aMsRvydTsLPHz77bc6efKkxo0bZ74X5ridJb+Lo423EhcXp+PHj2vQoEE6f/682YYrV66oR48e2rFjh/ne7u3trb179+rMmTN3fF1J5nv22LFj7crz6hfx8jriZflEsoVSqU6dOnlOCD18+LD+/Oc/y8vLS56enqpdu7b5h5uamnrL89atW9duPyfxunn8fFFcvnzZ7k3vjz/+0NSpUxUYGCir1apatWqpdu3aSklJua22Snfe38K2+WZPPPGEOnbsqOeee05+fn4aOHCgPvroo0IFkvx+l/m599577fYtFovuueeeIi31O2nSJFWrVk3t2rXTvffeq4iIiFzzFG72yy+/SJIaNGhgV+7m5qa7777bPJ7jrrvuyvU/XjVq1HDIvymgvFuyZImio6O1bds2HTlyRD/99JPCwsLs6ri6uuquu+6yKzt+/LhSU1Pl6+ur2rVr222XL19WcnKypP/+Pd/8vlK7dm27D97ykjOksWnTpkXqW3G08XbaIEnh4eG52vA///M/Sk9PN2PJ3LlzFR8fr8DAQLVr107Tpk27o/8J/uWXX+Ti4pJrJcSb31sl4mUO4mX5xJwtlEp5jTVOSUnRAw88IE9PT82YMUP169eXu7u7vvnmG02aNOm23tDyW0XHMIw7am9GRoZ++OEHu6A8ZswYrVy5UuPGjVNISIi8vLxksVg0cODA22qrI/pbkF9//VWpqam655578q3j4eGhHTt2aNu2bfriiy+0adMmffjhh+revbs2b958W6sSFXbc+O3I71PlrKwsuzY1atRICQkJ2rBhgzZt2qT//d//1dKlSzV16lRNnz7dIW1x1r8poCJo166d3epvebFarXafmkvXF57w9fXV6tWr83xN7dq1HdbGoioNbcyJE/Pmzct3qfGceVePP/64OnfurE8++USbN2/WvHnz9Nprr2n9+vVOn09DvPzvORyNeFnySLZQZmzfvl3nz5/X+vXr1aVLF7M8Z9WqkvTxxx/rjz/+sPtE9uOPP1Z4eLjeeOMNs+zq1au5VujJ743Q2f3Nmcx986fIN3NxcVGPHj3Uo0cPzZ8/X7Nnz9Yrr7yibdu2KTQ09LaG0xRGziexOQzD0IkTJ+y+36RGjRq57qN0/VO2u+++266satWqeuKJJ/TEE0/o2rVr6t+/v2bNmqXIyMg8l3kOCgqSJCUkJNid69q1azp58qTdd9oAKBn169fXli1b1LFjxwL/BzXn7/n48eN2f8/nzp275afpOU9k4uPjC/y7z+89sDjaeCs5ffD09Lyt9y5/f389//zzev7555WcnKz77rtPs2bNMpOtwrzfBwUFKTs7Wz/++KPdk4+EhIRcdYmXRUO8LBsYRogyI+cTkRs/Abl27ZqWLl1aUk2SdP17tsaNG6caNWooIiLCLK9UqVKuT2sWLVqUaxnanO+LufnN0Jn93bp1q2bOnKng4GBzGeW8XLhwIVdZzqej6enpkvJvf1G99957duPiP/74Y509e9buk9X69etrz549dit1bdiwIdeSt+fPn7fbd3NzU+PGjWUYhjIyMvK8fmhoqNzc3LRw4UK7e//uu+8qNTU1z5W0ABSvxx9/XFlZWZo5c2auY5mZmeb7UWhoqCpXrqxFixbZ/T0vWLDglte47777FBwcbH61x41uPFd+74HF0cZbad26terXr6/XX39dly9fznX83Llzkq4/5bh5qJ2vr68CAgLM93rpel9vd0heznv2woUL7crz6hfxsmiIl2UDT7ZQZnTo0EE1atRQeHi4xo4dK4vFon/961/F+vh5586dunr1qrKysnT+/Hnt2rVLn3/+uby8vPTJJ5/IZrOZdR966CH961//kpeXlxo3bqzY2Fht2bLFbklj6fqbcaVKlfTaa68pNTVVVqtV3bt3d1h///Of/+jYsWPKzMxUUlKStm7dqujoaAUFBenzzz8v8Es8Z8yYoR07dqhv374KCgpScnKyli5dqrvuukudOnWSdP2N3NvbW8uXL1f16tVVtWpVtW/fXsHBwYVqZ46aNWuqU6dOeuaZZ5SUlKQFCxbonnvusVtu97nnntPHH3+sXr166fHHH9ePP/6o999/P9fcgJ49e8pms6ljx47y8/PT0aNHtXjxYvXt2zffsfe1a9dWZGSkpk+frl69eunhhx9WQkKCli5dqrZt2/JFoUAp8MADD2jkyJGKiopSXFycevbsqcqVK+v48eNat26d3nrrLT322GOqXbu2/t//+3+KiorSQw89pD59+ujbb7/Vf/7zH9WqVavAa7i4uGjZsmXq16+fWrZsqWeeeUb+/v46duyYDh8+rC+//FLS9YRGur4QRFhYmCpVqqSBAwcWSxtvxcXFRf/zP/+j3r17q0mTJnrmmWdUp04d/fbbb9q2bZs8PT3173//W5cuXdJdd92lxx57TC1atFC1atW0ZcsW7d+/3+5pU+vWrfXhhx9qwoQJatu2rapVq6Z+/frlee2WLVvqySef1NKlS5WamqoOHTooJiZGJ06cyFWXeEm8LNeKd/FDwF5+S7/nt/zorl27jPvvv9/w8PAwAgICjBdffNH48ssvcy0Fm9/S7/Pmzct1Tt20BG1ecpZZzdkqV65s1K5d2+jSpYsxa9YsIzk5OddrLl68aDzzzDNGrVq1jGrVqhlhYWHGsWPH8lyG9Z133jHuvvtuo1KlSnZ9ud3+5iVnidaczc3NzbDZbMaDDz5ovPXWW3bLxea4eSnbmJgY45FHHjECAgIMNzc3IyAgwHjyySeNH374we51n332mdG4cWPD1dXVblnbgn6X+S1l+8EHHxiRkZGGr6+v4eHhYfTt29f45Zdfcr3+jTfeMOrUqWNYrVajY8eOxoEDB3Kd8x//+IfRpUsXw8fHx7BarUb9+vWNiRMnGqmpqbnuU85StjkWL15sNGzY0KhcubLh5+dnjBo1Ktfyz/n17+Z/fwDs3c5S24Zx/W+patWq+R5/++23jdatWxseHh5G9erVjWbNmhkvvviicebMGbNOVlaWMX36dMPf39/w8PAwunbtasTHx+d6L7556fccX3/9tfHggw8a1atXN6pWrWo0b97cWLRokXk8MzPTGDNmjFG7dm3DYrHkimmObOOt5Le0+Lfffmv079/ffC8MCgoyHn/8cSMmJsYwjOtLcE+cONFo0aKF2c8WLVoYS5cutTvP5cuXjUGDBhne3t6GpFu+z/3xxx/G2LFjDR8fH6Nq1apGv379jNOnT+eKu8RL4mV5ZjGMcj4rDQAAAABKAHO2AAAAAMAJSLYAAAAAwAlItgAAAADACUi2AAAAAMAJSLYAAAAAwAlItgAAAADACfhS49uQnZ2tM2fOqHr16rJYLCXdHACoUAzD0KVLlxQQECAXFz4jzEFsAoCSUZi4RLJ1G86cOaPAwMCSbgYAVGinT5/WXXfdVdLNKDWITQBQsm4nLpFs3Ybq1atLun5DPT09S7g1AFCxpKWlKTAw0HwvxnXEJgAoGYWJSyRbtyFneIanpycBDQBKCEPl7BGbAKBk3U5cYvA7AAAAADgByRYAAAAAOAHJFgAAAAA4AckWAAAAADgByRYAAAAAOAHJFgAAAAA4AckWAAAAADgByRYAAAAAOAHJFgAAAAA4AckWAAAAADgByRYAAAAAOIFrSTegonhi6DCdOXcxz2MBtWvow/feLeYWAQAqOmITADgXyVYxOXPuour8eWKex377ZF4xtwYAAGITADgbwwgBAAAAwAlItgAAAADACUi2AAAAAMAJSLYAAAAAwAlItgAAAADACUi2AAAAAMAJSLYAAAAAwAlItgAAAADACUi2AAAAAMAJSLYAAAAAwAlItgAAAADACUi2AAAAAMAJSjTZ2rFjh/r166eAgABZLBZ9+umndsctFkue27x588w69erVy3V8zpw5duc5dOiQOnfuLHd3dwUGBmru3LnF0T0AAAAAFViJJltXrlxRixYttGTJkjyPnz171m5bsWKFLBaLBgwYYFdvxowZdvXGjBljHktLS1PPnj0VFBSkgwcPat68eZo2bZrefvttp/YNAAAAQMXmWpIX7927t3r37p3vcZvNZrf/2WefqVu3brr77rvtyqtXr56rbo7Vq1fr2rVrWrFihdzc3NSkSRPFxcVp/vz5GjFixJ13AgAAAADyUGbmbCUlJemLL77QsGHDch2bM2eOfHx81KpVK82bN0+ZmZnmsdjYWHXp0kVubm5mWVhYmBISEnTx4sU8r5Wenq60tDS7DQAAAAAKo8wkW//85z9VvXp19e/f36587NixWrt2rbZt26aRI0dq9uzZevHFF83jiYmJ8vPzs3tNzn5iYmKe14qKipKXl5e5BQYGOrg3AIDS6lbziQ3D0NSpU+Xv7y8PDw+Fhobq+PHjdnUuXLigwYMHy9PTU97e3ho2bJguX75sV4f5xABQ/pWZZGvFihUaPHiw3N3d7conTJigrl27qnnz5vrrX/+qN954Q4sWLVJ6enqRrxUZGanU1FRzO3369J02HwBQRtxqPvHcuXO1cOFCLV++XHv37lXVqlUVFhamq1evmnUGDx6sw4cPKzo6Whs2bNCOHTvshq4znxgAKoYSnbN1u3bu3KmEhAR9+OGHt6zbvn17ZWZm6ueff1aDBg1ks9mUlJRkVydnP795XlarVVar9c4bDgAocwqaT2wYhhYsWKDJkyfrkUcekSS999578vPz06effqqBAwfq6NGj2rRpk/bv3682bdpIkhYtWqQ+ffro9ddfV0BAAPOJAaCCKBNPtt599121bt1aLVq0uGXduLg4ubi4yNfXV5IUEhKiHTt2KCMjw6wTHR2tBg0aqEaNGk5rMwCg/Dl58qQSExMVGhpqlnl5eal9+/aKjY2VdH2usLe3t5loSVJoaKhcXFy0d+9esw7ziQGg/CvRZOvy5cuKi4tTXFycpOtBLC4uTqdOnTLrpKWlad26dXruuedyvT42NlYLFizQd999p59++kmrV6/W+PHj9dRTT5mJ1KBBg+Tm5qZhw4bp8OHD+vDDD/XWW29pwoQJxdJHAED5kTPXN6+5wDnHEhMTzQ/8cri6uqpmzZp2dZhPDADlX4kOIzxw4IC6detm7uckQOHh4Vq1apUkae3atTIMQ08++WSu11utVq1du1bTpk1Tenq6goODNX78eLtEysvLS5s3b1ZERIRat26tWrVqaerUqQzTAACUKZGRkXbxLS0tjYQLAEq5Ek22unbtKsMwCqwzYsSIfBOj++67T3v27LnldZo3b66dO3cWqY0AAOTImeublJQkf39/szwpKUktW7Y06yQnJ9u9LjMzUxcuXDBfz3xiAKgYysScLQAASoPg4GDZbDbFxMSYZWlpadq7d69CQkIkXZ8rnJKSooMHD5p1tm7dquzsbLVv396sw3xiACj/SLYAALhBQfOJLRaLxo0bp7///e/6/PPP9f3332vo0KEKCAjQo48+Kklq1KiRevXqpeHDh2vfvn3atWuXRo8erYEDByogIEAS84kBoKIoE0u/AwBQXG41n/jFF1/UlStXNGLECKWkpKhTp07atGmT3fdArl69WqNHj1aPHj3k4uKiAQMGaOHCheZx5hMDQMVAsgUAwA1uNZ/YYrFoxowZmjFjRr51atasqTVr1hR4HeYTA0D5xzBCAAAAAHACki0AAAAAcAKSLQAAAABwApItAAAAAHACki0AAAAAcAKSLQAAAABwApItAAAAAHACki0AAAAAcAKSLQAAAABwApItAAAAAHACki0AAAAAcAKSLQAAAABwApItAAAAAHACki0AAAAAcAKSLQAAAABwApItAAAAAHACki0AAAAAcAKSLQAAAABwApItAAAAAHACki0AAAAAcAKSLQAAAABwApItAAAAAHACki0AAAAAcAKSLQAAAABwghJNtnbs2KF+/fopICBAFotFn376qd3xp59+WhaLxW7r1auXXZ0LFy5o8ODB8vT0lLe3t4YNG6bLly/b1Tl06JA6d+4sd3d3BQYGau7cuc7uGgAAAIAKrkSTrStXrqhFixZasmRJvnV69eqls2fPmtsHH3xgd3zw4ME6fPiwoqOjtWHDBu3YsUMjRowwj6elpalnz54KCgrSwYMHNW/ePE2bNk1vv/220/oFAAAAAK4lefHevXurd+/eBdaxWq2y2Wx5Hjt69Kg2bdqk/fv3q02bNpKkRYsWqU+fPnr99dcVEBCg1atX69q1a1qxYoXc3NzUpEkTxcXFaf78+XZJGQAAAAA4Uqmfs7V9+3b5+vqqQYMGGjVqlM6fP28ei42Nlbe3t5loSVJoaKhcXFy0d+9es06XLl3k5uZm1gkLC1NCQoIuXryY5zXT09OVlpZmtwEAAABAYZTqZKtXr1567733FBMTo9dee01fffWVevfuraysLElSYmKifH197V7j6uqqmjVrKjEx0azj5+dnVydnP6fOzaKiouTl5WVugYGBju4aAAAAgHKuRIcR3srAgQPNn5s1a6bmzZurfv362r59u3r06OG060ZGRmrChAnmflpaGgkXAAAAgEIp1U+2bnb33XerVq1aOnHihCTJZrMpOTnZrk5mZqYuXLhgzvOy2WxKSkqyq5Ozn99cMKvVKk9PT7sNAAAAAAqjTCVbv/76q86fPy9/f39JUkhIiFJSUnTw4EGzztatW5Wdna327dubdXbs2KGMjAyzTnR0tBo0aKAaNWoUbwcAAAAAVBglmmxdvnxZcXFxiouLkySdPHlScXFxOnXqlC5fvqyJEydqz549+vnnnxUTE6NHHnlE99xzj8LCwiRJjRo1Uq9evTR8+HDt27dPu3bt0ujRozVw4EAFBARIkgYNGiQ3NzcNGzZMhw8f1ocffqi33nrLbpggAAAAADhaiSZbBw4cUKtWrdSqVStJ0oQJE9SqVStNnTpVlSpV0qFDh/Twww/rT3/6k4YNG6bWrVtr586dslqt5jlWr16thg0bqkePHurTp486depk9x1aXl5e2rx5s06ePKnWrVvrb3/7m6ZOncqy7wAAAACcqkQXyOjatasMw8j3+JdffnnLc9SsWVNr1qwpsE7z5s21c+fOQrcPAAAAAIqqTM3ZAgAAAICygmQLAAAAAJyAZAsAAAAAnIBkCwAAAACcgGQLAAAAAJyAZAsAAAAAnIBkCwAAAACcgGQLAAAAAJyAZAsAgELIysrSlClTFBwcLA8PD9WvX18zZ86UYRhmHcMwNHXqVPn7+8vDw0OhoaE6fvy43XkuXLigwYMHy9PTU97e3ho2bJguX75c3N0BADgRyRYAAIXw2muvadmyZVq8eLGOHj2q1157TXPnztWiRYvMOnPnztXChQu1fPly7d27V1WrVlVYWJiuXr1q1hk8eLAOHz6s6OhobdiwQTt27NCIESNKoksAACdxLekGAABQluzevVuPPPKI+vbtK0mqV6+ePvjgA+3bt0/S9adaCxYs0OTJk/XII49Ikt577z35+fnp008/1cCBA3X06FFt2rRJ+/fvV5s2bSRJixYtUp8+ffT6668rICCgZDoHAHAonmwBAFAIHTp0UExMjH744QdJ0nfffaevv/5avXv3liSdPHlSiYmJCg0NNV/j5eWl9u3bKzY2VpIUGxsrb29vM9GSpNDQULm4uGjv3r15Xjc9PV1paWl2GwCgdOPJFgAAhfDSSy8pLS1NDRs2VKVKlZSVlaVZs2Zp8ODBkqTExERJkp+fn93r/Pz8zGOJiYny9fW1O+7q6qqaNWuadW4WFRWl6dOnO7o7AAAn4skWAACF8NFHH2n16tVas2aNvvnmG/3zn//U66+/rn/+859OvW5kZKRSU1PN7fTp0069HgDgzvFkCwCAQpg4caJeeuklDRw4UJLUrFkz/fLLL4qKilJ4eLhsNpskKSkpSf7+/ubrkpKS1LJlS0mSzWZTcnKy3XkzMzN14cIF8/U3s1qtslqtTugRAMBZeLIFAEAh/P7773JxsQ+flSpVUnZ2tiQpODhYNptNMTEx5vG0tDTt3btXISEhkqSQkBClpKTo4MGDZp2tW7cqOztb7du3L4ZeAACKA0+2AAAohH79+mnWrFmqW7eumjRpom+//Vbz58/Xs88+K0myWCwaN26c/v73v+vee+9VcHCwpkyZooCAAD366KOSpEaNGqlXr14aPny4li9froyMDI0ePVoDBw5kJUIAKEdItgAAKIRFixZpypQpev7555WcnKyAgACNHDlSU6dONeu8+OKLunLlikaMGKGUlBR16tRJmzZtkru7u1ln9erVGj16tHr06CEXFxcNGDBACxcuLIkuAQCchGQLAIBCqF69uhYsWKAFCxbkW8disWjGjBmaMWNGvnVq1qypNWvWOKGFAIDSgjlbAAAAAOAEJFsAAAAA4AQkWwAAAADgBCRbAAAAAOAEJFsAAAAA4AQkWwAAAADgBCRbAAAAAOAEJFsAAAAA4AQkWwAAAADgBCRbAAAAAOAEJZps7dixQ/369VNAQIAsFos+/fRT81hGRoYmTZqkZs2aqWrVqgoICNDQoUN15swZu3PUq1dPFovFbpszZ45dnUOHDqlz585yd3dXYGCg5s6dWxzdAwAAAFCBlWiydeXKFbVo0UJLlizJdez333/XN998oylTpuibb77R+vXrlZCQoIcffjhX3RkzZujs2bPmNmbMGPNYWlqaevbsqaCgIB08eFDz5s3TtGnT9Pbbbzu1bwAAAAAqNteSvHjv3r3Vu3fvPI95eXkpOjrarmzx4sVq166dTp06pbp165rl1atXl81my/M8q1ev1rVr17RixQq5ubmpSZMmiouL0/z58zVixAjHdQYAAAAAblCm5mylpqbKYrHI29vbrnzOnDny8fFRq1atNG/ePGVmZprHYmNj1aVLF7m5uZllYWFhSkhI0MWLF/O8Tnp6utLS0uw2AAAAACiMEn2yVRhXr17VpEmT9OSTT8rT09MsHzt2rO677z7VrFlTu3fvVmRkpM6ePav58+dLkhITExUcHGx3Lj8/P/NYjRo1cl0rKipK06dPd2JvAAAAAJR3ZSLZysjI0OOPPy7DMLRs2TK7YxMmTDB/bt68udzc3DRy5EhFRUXJarUW6XqRkZF2501LS1NgYGDRGg8AAACgQir1yVZOovXLL79o69atdk+18tK+fXtlZmbq559/VoMGDWSz2ZSUlGRXJ2c/v3leVqu1yIkaAAAAAEilfM5WTqJ1/PhxbdmyRT4+Prd8TVxcnFxcXOTr6ytJCgkJ0Y4dO5SRkWHWiY6OVoMGDfIcQggAAAAAjlCiT7YuX76sEydOmPsnT55UXFycatasKX9/fz322GP65ptvtGHDBmVlZSkxMVGSVLNmTbm5uSk2NlZ79+5Vt27dVL16dcXGxmr8+PF66qmnzERq0KBBmj59uoYNG6ZJkyYpPj5eb731lt58880S6TMAAACAiqFEk60DBw6oW7du5n7OPKnw8HBNmzZNn3/+uSSpZcuWdq/btm2bunbtKqvVqrVr12ratGlKT09XcHCwxo8fbzffysvLS5s3b1ZERIRat26tWrVqaerUqSz7DgAAAMCpSjTZ6tq1qwzDyPd4Qcck6b777tOePXtueZ3mzZtr586dhW4fAAAAABRVqZ6zBQAAAABlFckWAAAAADgByRYAAAAAOAHJFgAAAAA4AckWAAAAADgByRYAAAAAOAHJFgAAAAA4AckWAAAAADgByRYAAAAAOAHJFgAAAAA4AckWAAAAADgByRYAAAAAOAHJFgAAAAA4AckWAAAAADgByRYAAAAAOAHJFgAAAAA4AckWAAAAADgByRYAAAAAOEGRkq27775b58+fz1WekpKiu++++44bBQBAYRCXAAClUZGSrZ9//llZWVm5ytPT0/Xbb7/dcaMAACgM4hIAoDRyLUzlzz//3Pz5yy+/lJeXl7mflZWlmJgY1atXz2GNAwCgIMQlAEBpVqhk69FHH5UkWSwWhYeH2x2rXLmy6tWrpzfeeMNhjQMAoCDEJQBAaVaoZCs7O1uSFBwcrP3796tWrVpOaRQAALeDuAQAKM2KNGfr5MmTBDQAQKlR3HHpt99+01NPPSUfHx95eHioWbNmOnDggHncMAxNnTpV/v7+8vDwUGhoqI4fP253jgsXLmjw4MHy9PSUt7e3hg0bpsuXLxdbHwAAzleoJ1s3iomJUUxMjJKTk81PFnOsWLHijhsGAEBhFFdcunjxojp27Khu3brpP//5j2rXrq3jx4+rRo0aZp25c+dq4cKF+uc//6ng4GBNmTJFYWFhOnLkiNzd3SVJgwcP1tmzZxUdHa2MjAw988wzGjFihNasWeOwtgIASlaRkq3p06drxowZatOmjfz9/WWxWBzdLgAAbltxxqXXXntNgYGBWrlypVkWHBxs/mwYhhYsWKDJkyfrkUcekSS999578vPz06effqqBAwfq6NGj2rRpk/bv3682bdpIkhYtWqQ+ffro9ddfV0BAQK7rpqenKz093dxPS0tzVhcBAA5SpGRr+fLlWrVqlYYMGeLo9gAAUGjFGZc+//xzhYWF6S9/+Yu++uor1alTR88//7yGDx8u6fqQxsTERIWGhpqv8fLyUvv27RUbG6uBAwcqNjZW3t7eZqIlSaGhoXJxcdHevXv15z//Odd1o6KiNH36dKf3DwDgOEWas3Xt2jV16NDB0W0BAKBIijMu/fTTT1q2bJnuvfdeffnllxo1apTGjh2rf/7zn5KkxMRESZKfn5/d6/z8/MxjiYmJ8vX1tTvu6uqqmjVrmnVuFhkZqdTUVHM7ffq0o7sGAHCwIiVbzz33nEPGlO/YsUP9+vVTQECALBaLPv30U7vjjppgfOjQIXXu3Fnu7u4KDAzU3Llz77jtAIDSw1Fx6XZkZ2frvvvu0+zZs9WqVSuNGDFCw4cP1/Lly516XavVKk9PT7sNAFC6FWkY4dWrV/X2229ry5Ytat68uSpXrmx3fP78+bd1nitXrqhFixZ69tln1b9//1zHHTHBOC0tTT179lRoaKiWL1+u77//Xs8++6y8vb01YsSIonQfAFDKOCou3Q5/f381btzYrqxRo0b63//9X0mSzWaTJCUlJcnf39+sk5SUpJYtW5p1kpOT7c6RmZmpCxcumK8HAJR9RUq2Dh06ZAaM+Ph4u2OFmZTcu3dv9e7dO89jjppgvHr1al27dk0rVqyQm5ubmjRpori4OM2fP59kCwDKCUfFpdvRsWNHJSQk2JX98MMPCgoKknR9sQybzaaYmBizTWlpadq7d69GjRolSQoJCVFKSooOHjyo1q1bS5K2bt2q7OxstW/f3qHtBQCUnCIlW9u2bXN0O3Jx1ATj2NhYdenSRW5ubmadsLAwvfbaa7p48aLdUr05WPEJAMqW4ohLOcaPH68OHTpo9uzZevzxx7Vv3z69/fbbevvttyVdT+7GjRunv//977r33nvNkRkBAQF69NFHJV1/EtarVy9z+GFGRoZGjx6tgQMH5rkSIQCgbCrSnK3i4KgJxomJiXme48Zr3CwqKkpeXl7mFhgYeOcdAgCUC23bttUnn3yiDz74QE2bNtXMmTO1YMECDR482Kzz4osvasyYMRoxYoTatm2ry5cva9OmTeYQeElavXq1GjZsqB49eqhPnz7q1KmTmbABAMqHIj3Z6tatW4HDMrZu3VrkBpUGkZGRmjBhgrmflpZGwgUApVhxx6WHHnpIDz30UL7HLRaLZsyYoRkzZuRbp2bNmnyBMQCUc0VKtnLGoOfIyMhQXFyc4uPjFR4e7oh2OWyCsc1mU1JSkl2dnP38JiFbrVZZrVaH9AMA4HzFEZcAACisIiVbb775Zp7l06ZNy7XselE5aoJxSEiIXnnlFWVkZJirU0VHR6tBgwZ5ztcCAJQ9xRGXAAAoLIfO2Xrqqae0YsWK265/+fJlxcXFKS4uTtL1RTHi4uJ06tQpuwnGn3/+ub7//nsNHTo03wnG+/bt065du3JNMB40aJDc3Nw0bNgwHT58WB9++KHeeustu2GCAIDyqbBxCQAARyrSk638xMbG2k3+vZUDBw6oW7du5n5OAhQeHq5Vq1bpxRdf1JUrVzRixAilpKSoU6dOeU4wHj16tHr06CEXFxcNGDBACxcuNI97eXlp8+bNioiIUOvWrVWrVi1NnTqVZd8BoAIobFwCAMCRipRs3fwFxIZh6OzZszpw4ICmTJly2+fp2rWrDMPI97ijJhg3b95cO3fuvO12AQDKFkfFJQAAHKlIyZaXl5fdvouLixo0aKAZM2aoZ8+eDmkYAAC3i7gEACiNipRsrVy50tHtAACgyIhLAIDS6I7mbB08eFBHjx6VJDVp0kStWrVySKMAACgK4hIAoDQpUrKVnJysgQMHavv27fL29pYkpaSkqFu3blq7dq1q167tyDYCAFAg4hIAoDQq0tLvY8aM0aVLl3T48GFduHBBFy5cUHx8vNLS0jR27FhHtxEAgAIRlwAApVGRnmxt2rRJW7ZsUaNGjcyyxo0ba8mSJUxEBgAUO+ISAKA0KtKTrezsbFWuXDlXeeXKlZWdnX3HjQIAoDCISwCA0qhIyVb37t31wgsv6MyZM2bZb7/9pvHjx6tHjx4OaxwAALeDuAQAKI2KlGwtXrxYaWlpqlevnurXr6/69esrODhYaWlpWrRokaPbCABAgYhLAIDSqEhztgIDA/XNN99oy5YtOnbsmCSpUaNGCg0NdWjjAAC4HcQlAEBpVKgnW1u3blXjxo2VlpYmi8WiBx98UGPGjNGYMWPUtm1bNWnSRDt37nRWWwEAsENcAgCUZoVKthYsWKDhw4fL09Mz1zEvLy+NHDlS8+fPd1jjAAAoCHEJAFCaFSrZ+u6779SrV698j/fs2VMHDx6840YBAHA7iEsAgNKsUMlWUlJSnkvr5nB1ddW5c+fuuFEAANwO4hIAoDQrVLJVp04dxcfH53v80KFD8vf3v+NGAQBwO4hLAIDSrFDJVp8+fTRlyhRdvXo117E//vhDr776qh566CGHNQ4AgIIQlwAApVmhln6fPHmy1q9frz/96U8aPXq0GjRoIEk6duyYlixZoqysLL3yyitOaSgAADcjLgEASrNCJVt+fn7avXu3Ro0apcjISBmGIUmyWCwKCwvTkiVL5Ofn55SGAgBwM+ISAKA0K/SXGgcFBWnjxo26ePGiTpw4IcMwdO+996pGjRrOaB8AAAUiLgEASqtCJ1s5atSoobZt2zqyLQAAFBlxCQBQ2hRqgQwAAAAAwO0h2QIAAAAAJyDZAgAAAAAnKPKcLTjOD8eOqnPv/rnKA2rX0IfvvVsCLQIAVHTEJgC4cyRbpUCG4aI6f56Yq/y3T+aVQGsAACA2AYAjMIwQAAAAAJyAZAsAAAAAnIBkCwAAAACcgGQLAAAAAJyg1Cdb9erVk8ViybVFRERIkrp27Zrr2F//+le7c5w6dUp9+/ZVlSpV5Ovrq4kTJyozM7MkugMAAACggij1qxHu379fWVlZ5n58fLwefPBB/eUvfzHLhg8frhkzZpj7VapUMX/OyspS3759ZbPZtHv3bp09e1ZDhw5V5cqVNXv27OLpBAAAAIAKp9QnW7Vr17bbnzNnjurXr68HHnjALKtSpYpsNluer9+8ebOOHDmiLVu2yM/PTy1bttTMmTM1adIkTZs2TW5ubrlek56ervT0dHM/LS3NQb0BAAAAUFGU+mGEN7p27Zref/99Pfvss7JYLGb56tWrVatWLTVt2lSRkZH6/fffzWOxsbFq1qyZ/Pz8zLKwsDClpaXp8OHDeV4nKipKXl5e5hYYGOi8TgEAAAAol0r9k60bffrpp0pJSdHTTz9tlg0aNEhBQUEKCAjQoUOHNGnSJCUkJGj9+vWSpMTERLtES5K5n5iYmOd1IiMjNWHCBHM/LS2NhAsAAABAoZSpZOvdd99V7969FRAQYJaNGDHC/LlZs2by9/dXjx499OOPP6p+/fpFuo7VapXVar3j9gIAAACouMrMMMJffvlFW7Zs0XPPPVdgvfbt20uSTpw4IUmy2WxKSkqyq5Ozn988LwAAAAC4U2Um2Vq5cqV8fX3Vt2/fAuvFxcVJkvz9/SVJISEh+v7775WcnGzWiY6Olqenpxo3buy09gIAAACo2MrEMMLs7GytXLlS4eHhcnX9b5N//PFHrVmzRn369JGPj48OHTqk8ePHq0uXLmrevLkkqWfPnmrcuLGGDBmiuXPnKjExUZMnT1ZERARDBQEAAAA4TZl4srVlyxadOnVKzz77rF25m5ubtmzZop49e6phw4b629/+pgEDBujf//63WadSpUrasGGDKlWqpJCQED311FMaOnSo3fdyAQBQVHPmzJHFYtG4cePMsqtXryoiIkI+Pj6qVq2aBgwYkGtI+6lTp9S3b19VqVJFvr6+mjhxojIzM4u59QAAZyoTT7Z69uwpwzBylQcGBuqrr7665euDgoK0ceNGZzQNAFCB7d+/X//4xz/M0RQ5xo8fry+++ELr1q2Tl5eXRo8erf79+2vXrl2SpKysLPXt21c2m027d+/W2bNnNXToUFWuXFmzZ88uia4AAJygTDzZAgCgtLl8+bIGDx6sd955RzVq1DDLU1NT9e6772r+/Pnq3r27WrdurZUrV2r37t3as2ePJGnz5s06cuSI3n//fbVs2VK9e/fWzJkztWTJEl27dq2kugQAcDCSLQAAiiAiIkJ9+/ZVaGioXfnBgweVkZFhV96wYUPVrVtXsbGxkqTY2Fg1a9bM7nsgw8LClJaWpsOHD+d5vfT0dKWlpdltAIDSrUwMIwQAoDRZu3atvvnmG+3fvz/XscTERLm5ucnb29uu3M/PT4mJiWadGxOtnOM5x/ISFRWl6dOnO6D1AIDiwpMtAAAK4fTp03rhhRe0evVqubu7F9t1IyMjlZqaam6nT58utmsDAIqGZAsAgEI4ePCgkpOTdd9998nV1VWurq766quvtHDhQrm6usrPz0/Xrl1TSkqK3euSkpJks9kkSTabLdfqhDn7OXVuZrVa5enpabcBAEo3ki0AAAqhR48e+v777xUXF2dubdq00eDBg82fK1eurJiYGPM1CQkJOnXqlEJCQiRJISEh+v7775WcnGzWiY6Olqenpxo3blzsfQIAOAdztgAAKITq1auradOmdmVVq1aVj4+PWT5s2DBNmDBBNWvWlKenp8aMGaOQkBDdf//9kq5/pUnjxo01ZMgQzZ07V4mJiZo8ebIiIiJktVqLvU8AAOcg2QIAwMHefPNNubi4aMCAAUpPT1dYWJiWLl1qHq9UqZI2bNigUaNGKSQkRFWrVlV4eLhmzJhRgq0GADgayRYAAHdo+/btdvvu7u5asmSJlixZku9rgoKCtHHjRie3DABQkpizBQAAAABOQLIFAAAAAE5AsgUAAAAATkCyBQAAAABOQLIFAAAAAE5AsgUAAAAATkCyBQAAAABOQLIFAAAAAE7AlxoDAIA79sTQYTpz7mKexwJq19CH771bzC0CgJJHsgUAAO7YmXMXVefPE/M89tsn84q5NQBQOpBsAQCA2/bDsaPq3Lt/rvLjJ06oTgm0BwBKM5ItAABw2zIMlzyfYB2e/VwJtAYASjeSrTIqv7HxjIsHAAAASgeSrVIsv6Ea0vXhGl0n/iNXOePiAQAAgNKBZKsUy2+ohsRwDQBA2ZHfh4eMxgBQ3pFsAQAAp8rvw0NGYwAo70i2AABAiShouDxPvQCUByRbAACgRBQ0XJ6nXgDKA5ItAABQZrAaL4CyxKWkG1CQadOmyWKx2G0NGzY0j1+9elURERHy8fFRtWrVNGDAACUlJdmd49SpU+rbt6+qVKkiX19fTZw4UZmZmcXdFQAA4ABnzl1UnT9PzLXllYABQEkr9U+2mjRpoi1btpj7rq7/bfL48eP1xRdfaN26dfLy8tLo0aPVv39/7dq1S5KUlZWlvn37ymazaffu3Tp79qyGDh2qypUra/bs2cXeFwAAAAAVR6lPtlxdXWWz2XKVp6am6t1339WaNWvUvXt3SdLKlSvVqFEj7dmzR/fff782b96sI0eOaMuWLfLz81PLli01c+ZMTZo0SdOmTZObm1txdwcAANyG/BbPOH7ihOoUor7EEEMAJafUJ1vHjx9XQECA3N3dFRISoqioKNWtW1cHDx5URkaGQkNDzboNGzZU3bp1FRsbq/vvv1+xsbFq1qyZ/Pz8zDphYWEaNWqUDh8+rFatWuV5zfT0dKWnp5v7aWlpzusgAADIJb/FM/L7nkkW2wBQGpXqZKt9+/ZatWqVGjRooLNnz2r69Onq3Lmz4uPjlZiYKDc3N3l7e9u9xs/PT4mJiZKkxMREu0Qr53jOsfxERUVp+vTpju1MCctvQrHEJ34AAACAM5TqZKt3797mz82bN1f79u0VFBSkjz76SB4eHk67bmRkpCZMmGDup6WlKTAw0GnXKw45E4rzwid+AAAAgOOV6mTrZt7e3vrTn/6kEydO6MEHH9S1a9eUkpJi93QrKSnJnONls9m0b98+u3PkrFaY1zywHFarVVar1fEdKAaFHeNe0Gt44gUAAAAUXZlKti5fvqwff/xRQ4YMUevWrVW5cmXFxMRowIABkqSEhASdOnVKISEhkqSQkBDNmjVLycnJ8vX1lSRFR0fL09NTjRs3LrF+OFNhx7gX9JptUc8y2RgAAAAoolKdbP2///f/1K9fPwUFBenMmTN69dVXValSJT355JPy8vLSsGHDNGHCBNWsWVOenp4aM2aMQkJCdP/990uSevbsqcaNG2vIkCGaO3euEhMTNXnyZEVERJTZJ1fFicnGAAAAQNGV6mTr119/1ZNPPqnz58+rdu3a6tSpk/bs2aPatWtLkt588025uLhowIABSk9PV1hYmJYuXWq+vlKlStqwYYNGjRqlkJAQVa1aVeHh4ZoxY0ZJdQkAAABABVGqk621a9cWeNzd3V1LlizRkiVL8q0TFBSkjRs3OrppAAAAAFAgl5JuAAAAAACURyRbAAAAAOAEpXoYIcqe/L48mdULAQAAUNGQbMGh8vvyZFYvBAAAQEVDsoUiKcqXJwMAAAAVCckWiqQoX54MAAAAVCQskAEAAAAATsCTLQAAUCHlt6iTxMJOAByDZAsAAFRI+S3qJLGwEwDHINlCiWO5eAAAAJRHJFsoFvmtXihdX8Gw68R/5CrnU0UAAACUZSRbKBb5rV4osYIhAAAAyidWIwQAAAAAJ+DJFgAAhRAVFaX169fr2LFj8vDwUIcOHfTaa6+pQYMGZp2rV6/qb3/7m9auXav09HSFhYVp6dKl8vPzM+ucOnVKo0aN0rZt21StWjWFh4crKipKrq6EZkfLbyj78RMnVKeQr2E+MYDC4B0dAIBC+OqrrxQREaG2bdsqMzNTL7/8snr27KkjR46oatWqkqTx48friy++0Lp16+Tl5aXRo0erf//+2rVrlyQpKytLffv2lc1m0+7du3X27FkNHTpUlStX1uzZs0uye+VSfkPZCxrGnt9rmE8MoDBItgAAKIRNmzbZ7a9atUq+vr46ePCgunTpotTUVL377rtas2aNunfvLklauXKlGjVqpD179uj+++/X5s2bdeTIEW3ZskV+fn5q2bKlZs6cqUmTJmnatGlyc3Mria4BAByMOVsAANyB1NRUSVLNmjUlSQcPHlRGRoZCQ0PNOg0bNlTdunUVGxsrSYqNjVWzZs3shhWGhYUpLS1Nhw8fzvM66enpSktLs9sAAKUbyRYAAEWUnZ2tcePGqWPHjmratKkkKTExUW5ubvL29rar6+fnp8TERLPOjYlWzvGcY3mJioqSl5eXuQUGBjq4NwAARyPZAgCgiCIiIhQfH6+1a9c6/VqRkZFKTU01t9OnTzv9mgCAO8OcLQAAimD06NHasGGDduzYobvuussst9lsunbtmlJSUuyebiUlJclms5l19u3bZ3e+pKQk81herFarrFarg3sBAHAmki2USU8MHaYz5y7mKmdJXgDOZhiGxowZo08++UTbt29XcHCw3fHWrVurcuXKiomJ0YABAyRJCQkJOnXqlEJCQiRJISEhmjVrlpKTk+Xr6ytJio6Olqenpxo3bly8HQIAOA3JFsqkM+cusiQvgBIRERGhNWvW6LPPPlP16tXNOVZeXl7y8PCQl5eXhg0bpgkTJqhmzZry9PTUmDFjFBISovvvv1+S1LNnTzVu3FhDhgzR3LlzlZiYqMmTJysiIoKnVwBQjpBsAQBQCMuWLZMkde3a1a585cqVevrppyVJb775plxcXDRgwAC7LzXOUalSJW3YsEGjRo1SSEiIqlatqvDwcM2YMaO4uoFixGgMoOIi2QIAoBAMw7hlHXd3dy1ZskRLlizJt05QUJA2btzoyKahlGI0BlBxkWwBAADcofyeXknS8RMnVKeY2wOgdCDZAgAAuEP5Pb2SpMOznyvm1gAoLUi2UK78cOyoOvfun6uccfEAAAAobiRbKLXyS5yk/IdkZBgujIsHADhNfrGpKEMFC4pzfEgIlA+lOtmKiorS+vXrdezYMXl4eKhDhw567bXX1KBBA7NO165d9dVXX9m9buTIkVq+fLm5f+rUKY0aNUrbtm1TtWrVFB4erqioKLm6luruV3j5JU4SQzIAACUjv9hUlLhUUJzjQ0KgfCjV2cZXX32liIgItW3bVpmZmXr55ZfVs2dPHTlyRFWrVjXrDR8+3G653CpVqpg/Z2VlqW/fvrLZbNq9e7fOnj2roUOHqnLlypo9e3ax9gcAAABAxVGqk61NmzbZ7a9atUq+vr46ePCgunTpYpZXqVJFNpstz3Ns3rxZR44c0ZYtW+Tn56eWLVtq5syZmjRpkqZNmyY3Nzen9gEAAABAxeRS0g0ojNTUVElSzZo17cpXr16tWrVqqWnTpoqMjNTvv/9uHouNjVWzZs3k5+dnloWFhSktLU2HDx/O8zrp6elKS0uz2wAAAACgMEr1k60bZWdna9y4cerYsaOaNm1qlg8aNEhBQUEKCAjQoUOHNGnSJCUkJGj9+vWSpMTERLtES5K5n5iYmOe1oqKiNH36dCf1BCWBScgAAAAobmUm2YqIiFB8fLy+/vpru/IRI0aYPzdr1kz+/v7q0aOHfvzxR9WvX79I14qMjNSECRPM/bS0NAUGBhat4SgVmIQMAACA4lYmkq3Ro0drw4YN2rFjh+66664C67Zv316SdOLECdWvX182m0379u2zq5OUlCRJ+c7zslqtslqtDmg5AABA4fG9kUD5UKqTLcMwNGbMGH3yySfavn27goODb/mauLg4SZK/v78kKSQkRLNmzVJycrJ8fX0lSdHR0fL09FTjxo2d1nYAAICi4nsjgfKhVCdbERERWrNmjT777DNVr17dnGPl5eUlDw8P/fjjj1qzZo369OkjHx8fHTp0SOPHj1eXLl3UvHlzSVLPnj3VuHFjDRkyRHPnzlViYqImT56siIgInl5BEp8eAgDKDmIWULaU6mRr2bJlkq5/cfGNVq5cqaefflpubm7asmWLFixYoCtXrigwMFADBgzQ5MmTzbqVKlXShg0bNGrUKIWEhKhq1aoKDw+3+14uVGx8eggAKCuIWUDZUqqTLcMwCjweGBior7766pbnCQoK0saNGx3VLAAAAAC4pTL1PVsAAAAAUFaU6idbQGn1xNBhOnPuYq5yxswDAEoC3ycJlE4kW0A+Cgpcx0+cUNeJ/8hVvi3qWYIdAKDY8X2SQOlEsgXko6DAdXj2c4V+DcEOAACgYiHZAgAAKMdYLh4oOSRbAAAA5RjLxQMlh2QLAACgAmJRDcD5SLYAAAAqIOYZA87H92wBAAAAgBPwZAsoJkxQBgAAqFhItoBikt9wjfy+m4skDAAAoGwj2QJKGKtEAQAAlE8kW0AZ9MTQYTpz7mKucp6GAQAcgaHvgGOQbAFl0JlzF3kaBgBwGkZdAI5BsgVUEDwNAwDcKZ54AYVDsgWUUgV92eTxEydUp5Dn42kYAOBO8cQLKBySLaCUKujLJg/Pfq6YWwMAQP4K+oDw1MkfVTe4fq7ygp6GMRoD5QXJFlCOOPppGAAAt+NWHxAW5qtPpOsxq+vEf+Qq5wkayhqSLaAc4WkYAKCsIGahIiDZAio4JjsDAAA4B8kWUMEVZbIzY+kBAKVJfnFJKtqcMcBRSLYAFBorGwIASpP84pKU/5wxYhaKA8kWgDwVZbGNgl7DJ4gAAKCiIdkCkKeiTFwu6DV8gggAuFP5fajHirsorUi2ABQLFuIAANyp/D7Uc/TqhcxNhqOQbAEoFoVdiKOgyc75BbuivAYAgJsxNxmOQrIFoEQVNCQkry+0lPIPdgVNkCZAAgBuVJS5yUBhkWwBKFFFGRLCmH0AwJ1y9Jcq5ze6Ir+l5/MrlxiNUZ6QbAEocxyZoPH9KwCA23Wrp2F5jcjIb+n5/MolRmOUJxUq2VqyZInmzZunxMREtWjRQosWLVK7du1KulkAikFBCVpe5duins03oJKgwZGITUDZ4einYfkp7AeEBR0r6XnOFX2xkQqTbH344YeaMGGCli9frvbt22vBggUKCwtTQkKCfH19S7p5AEqZWwVURyVoRRleQrJXfhCbAOSlsB8QFnQsv9hUlLnRRZHffOqCYmZ5imcVJtmaP3++hg8frmeeeUaStHz5cn3xxRdasWKFXnrppRJuHYDyoCgJWlGGl/A0rvwgNgFwtuIYel/QsfzmUxcUM/OLZ2UxZlWIZOvatWs6ePCgIiMjzTIXFxeFhoYqNjY2V/309HSlp6eb+6mpqZKktLS0IrchMzNDGX9cyfOYkZ2V57H8yovyGkeei+tXjDZz/bJ3/WtZhnx7PZ/na+LfGJ3nsa3zn1fIg/1ylfv7eGvV20vyPNfTIyJ09nxKrvJffz6pu+oF5/mags53KznvvYZhFOn1pVV5i01l8W+G63P9itzmgs6VXzzJL5YUdCz+jdEOu35+MUvKPwblV15sccmoAH777TdDkrF792678okTJxrt2rXLVf/VV181JLGxsbGxlaLt9OnTxRU2igWxiY2Nja1sb7cTlyrEk63CioyM1IQJE8z97OxsXbhwQT4+PrJYLIU+X1pamgIDA3X69Gl5eno6sqllCveBe5CD+3Ad9+H27oFhGLp06ZICAgKKuXWlC7HJubgf9rgfuXFP7FXk+1GYuFQhkq1atWqpUqVKSkpKsitPSkqSzWbLVd9qtcpqtdqVeXt733E7PD09K9w/xrxwH7gHObgP13Efbn0PvLy8irE1xYPYVDpxP+xxP3LjntirqPfjduOSi5PbUSq4ubmpdevWiomJMcuys7MVExOjkJCQEmwZAKCiIjYBQPlXIZ5sSdKECRMUHh6uNm3aqF27dlqwYIGuXLlirgAFAEBxIzYBQPlWYZKtJ554QufOndPUqVOVmJioli1batOmTfLz83P6ta1Wq1599dVcwz8qGu4D9yAH9+E67gP3gNhUenA/7HE/cuOe2ON+3B6LYZSztXQBAAAAoBSoEHO2AAAAAKC4kWwBAAAAgBOQbAEAAACAE5BsAQAAAIATkGwVgyVLlqhevXpyd3dX+/bttW/fvpJuksNERUWpbdu2ql69unx9ffXoo48qISHBrs7Vq1cVEREhHx8fVatWTQMGDMj1JZ6nTp1S3759VaVKFfn6+mrixInKzMwszq44zJw5c2SxWDRu3DizrKLcg99++01PPfWUfHx85OHhoWbNmunAgQPmccMwNHXqVPn7+8vDw0OhoaE6fvy43TkuXLigwYMHy9PTU97e3ho2bJguX75c3F0pkqysLE2ZMkXBwcHy8PBQ/fr1NXPmTN24DlF5vAc7duxQv379FBAQIIvFok8//dTuuKP6fOjQIXXu3Fnu7u4KDAzU3Llznd21cqs8x6UbEaMKVpHjVY6KHrduVlHjmFMZcKq1a9cabm5uxooVK4zDhw8bw4cPN7y9vY2kpKSSbppDhIWFGStXrjTi4+ONuLg4o0+fPkbdunWNy5cvm3X++te/GoGBgUZMTIxx4MAB4/777zc6dOhgHs/MzDSaNm1qhIaGGt9++62xceNGo1atWkZkZGRJdOmO7Nu3z6hXr57RvHlz44UXXjDLK8I9uHDhghEUFGQ8/fTTxt69e42ffvrJ+PLLL40TJ06YdebMmWN4eXkZn376qfHdd98ZDz/8sBEcHGz88ccfZp1evXoZLVq0MPbs2WPs3LnTuOeee4wnn3yyJLpUaLNmzTJ8fHyMDRs2GCdPnjTWrVtnVKtWzXjrrbfMOuXxHmzcuNF45ZVXjPXr1xuSjE8++cTuuCP6nJqaavj5+RmDBw824uPjjQ8++MDw8PAw/vGPfxRXN8uN8h6XbkSMyl9Fjlc5iFu5VdQ45kwkW07Wrl07IyIiwtzPysoyAgICjKioqBJslfMkJycbkoyvvvrKMAzDSElJMSpXrmysW7fOrHP06FFDkhEbG2sYxvX/UXNxcTESExPNOsuWLTM8PT2N9PT04u3AHbh06ZJx7733GtHR0cYDDzxgBq+Kcg8mTZpkdOrUKd/j2dnZhs1mM+bNm2eWpaSkGFar1fjggw8MwzCMI0eOGJKM/fv3m3X+85//GBaLxfjtt9+c13gH6du3r/Hss8/alfXv398YPHiwYRgV4x7cnGw5qs9Lly41atSoYff3MGnSJKNBgwZO7lH5U9Hi0o0qcoy6UUWPVzmIW7kRxxyPYYROdO3aNR08eFChoaFmmYuLi0JDQxUbG1uCLXOe1NRUSVLNmjUlSQcPHlRGRobdPWjYsKHq1q1r3oPY2Fg1a9bM7ks8w8LClJaWpsOHDxdj6+9MRESE+vbta9dXqeLcg88//1xt2rTRX/7yF/n6+qpVq1Z65513zOMnT55UYmKi3X3w8vJS+/bt7e6Dt7e32rRpY9YJDQ2Vi4uL9u7dW3ydKaIOHTooJiZGP/zwgyTpu+++09dff63evXtLqhj34GaO6nNsbKy6dOkiNzc3s05YWJgSEhJ08eLFYupN2VcR49KNKnKMulFFj1c5iFu5Ecccz7WkG1Ce/d///Z+ysrLs3pAkyc/PT8eOHSuhVjlPdna2xo0bp44dO6pp06aSpMTERLm5ucnb29uurp+fnxITE806ed2jnGNlwdq1a/XNN99o//79uY5VlHvw008/admyZZowYYJefvll7d+/X2PHjpWbm5vCw8PNfuTVzxvvg6+vr91xV1dX1axZs0zch5deeklpaWlq2LChKlWqpKysLM2aNUuDBw+WpApxD27mqD4nJiYqODg41zlyjtWoUcMp7S9vKlpculFFjlE3Il79F3ErN+KY45FswWEiIiIUHx+vr7/+uqSbUqxOnz6tF154QdHR0XJ3dy/p5pSY7OxstWnTRrNnz5YktWrVSvHx8Vq+fLnCw8NLuHXF46OPPtLq1au1Zs0aNWnSRHFxcRo3bpwCAgIqzD0ASquKGqNuRLyyR9zKjTjmeAwjdKJatWqpUqVKuVbxSUpKks1mK6FWOcfo0aO1YcMGbdu2TXfddZdZbrPZdO3aNaWkpNjVv/Ee2Gy2PO9RzrHS7uDBg0pOTtZ9990nV1dXubq66quvvtLChQvl6uoqPz+/cn8PJMnf31+NGze2K2vUqJFOnTol6b/9KOjvwWazKTk52e54ZmamLly4UCbuw8SJE/XSSy9p4MCBatasmYYMGaLx48crKipKUsW4BzdzVJ/Lw99IaVCR4tKNKnKMuhHxyh5xKzfimOORbDmRm5ubWrdurZiYGLMsOztbMTExCgkJKcGWOY5hGBo9erQ++eQTbd26Ndcwn9atW6ty5cp29yAhIUGnTp0y70FISIi+//57uz/M6OhoeXp65noTLI169Oih77//XnFxcebWpk0bDR482Py5vN8DSerYsWOuJZV/+OEHBQUFSZKCg4Nls9ns7kNaWpr27t1rdx9SUlJ08OBBs87WrVuVnZ2t9u3bF0Mv7szvv/8uFxf7t9VKlSopOztbUsW4BzdzVJ9DQkK0Y8cOZWRkmHWio6PVoEEDhhAWQkWISzciRtkjXtkjbuVGHHOCkl6ho7xbu3atYbVajVWrVhlHjhwxRowYYXh7e9ut4lOWjRo1yvDy8jK2b99unD171tx+//13s85f//pXo27dusbWrVuNAwcOGCEhIUZISIh5PGcZ2Z49expxcXHGpk2bjNq1a5fJZWRz3Li6k2FUjHuwb98+w9XV1Zg1a5Zx/PhxY/Xq1UaVKlWM999/36wzZ84cw9vb2/jss8+MQ4cOGY888kiey8W2atXK2Lt3r/H1118b9957b5lZLjY8PNyoU6eOuWTu+vXrjVq1ahkvvviiWac83oNLly4Z3377rfHtt98akoz58+cb3377rfHLL78YhuGYPqekpBh+fn7GkCFDjPj4eGPt2rVGlSpVWPq9CMp7XLoRMerWKmK8ykHcyq2ixjFnItkqBosWLTLq1q1ruLm5Ge3atTP27NlT0k1yGEl5bitXrjTr/PHHH8bzzz9v1KhRw6hSpYrx5z//2Th79qzdeX7++Wejd+/ehoeHh1GrVi3jb3/7m5GRkVHMvXGcm4NXRbkH//73v42mTZsaVqvVaNiwofH222/bHc/OzjamTJli+Pn5GVar1ejRo4eRkJBgV+f8+fPGk08+aVSrVs3w9PQ0nnnmGePSpUvF2Y0iS0tLM1544QWjbt26hru7u3H33Xcbr7zyit1yyOXxHmzbti3P94Hw8HDDMBzX5++++87o1KmTYbVajTp16hhz5swpri6WO+U5Lt2IGHVrFTVe5ajocetmFTWOOZPFMG74SmgAAAAAgEMwZwsAAAAAnIBkCwAAAACcgGQLAAAAAJyAZAsAAAAAnIBkCwAAAACcgGQLAAAAAJyAZAsAAAAAnIBkCwAAAACcgGQLAAAAAJyAZAtAgX7++WdZLBbFxcWVdFMAAADKFJItAAAAAHACki2glMvOztbcuXN1zz33yGq1qm7dupo1a5Yk6fvvv1f37t3l4eEhHx8fjRgxQpcvXzZf27VrV40bN87ufI8++qiefvppc79evXqaPXu2nn32WVWvXl1169bV22+/bR4PDg6WJLVq1UoWi0Vdu3Z1Wl8BAADKE5ItoJSLjIzUnDlzNGXKFB05ckRr1qyRn5+frly5orCwMNWoUUP79+/XunXrtGXLFo0ePbrQ13jjjTfUpk0bffvtt3r++ec1atQoJSQkSJL27dsnSdqyZYvOnj2r9evXO7R/AAAA5ZVrSTcAQP4uXbqkt956S4sXL1Z4eLgkqX79+urUqZPeeecdXb16Ve+9956qVq0qSVq8eLH69eun1157TX5+frd9nT59+uj555+XJE2aNElvvvmmtm3bpgYNGqh27dqSJB8fH9lsNgf3EAAAoPziyRZQih09elTp6enq0aNHnsdatGhhJlqS1LFjR2VnZ5tPpW5X8+bNzZ8tFotsNpuSk5OL3nAAAACQbAGlmYeHxx293sXFRYZh2JVlZGTkqle5cmW7fYvFouzs7Du6NgAAQEVHsgWUYvfee688PDwUExOT61ijRo303Xff6cqVK2bZrl275OLiogYNGkiSateurbNnz5rHs7KyFB8fX6g2uLm5ma8FAADA7SPZAkoxd3d3TZo0SS+++KLee+89/fjjj9qzZ4/effddDR48WO7u7goPD1d8fLy2bdumMWPGaMiQIeZ8re7du+uLL77QF198oWPHjmnUqFFKSUkpVBt8fX3l4eGhTZs2KSkpSampqU7oKQAAQPlDsgWUclOmTNHf/vY3TZ06VY0aNdITTzyh5ORkValSRV9++aUuXLigtm3b6rHHHlOPHj20ePFi87XPPvuswsPDNXToUD3wwAO6++671a1bt0Jd39XVVQsXLtQ//vEPBQQE6JFHHnF0FwEAAMoli3HzhA4AAAAAwB3jyRYAAAAAOAHJFgAAAAA4AckWAAAAADgByRYAAAAAOAHJFgAAAAA4AckWAAAAADgByRYAAAAAOAHJFgAAAAA4AckWAAAAADgByRYAAAAAOAHJFgAAAAA4wf8HbLHgCkkvFkEAAAAASUVORK5CYII=\n",
      "text/plain": [
       "<Figure size 1000x400 with 2 Axes>"
      ]
     },
     "metadata": {},
     "output_type": "display_data"
    }
   ],
   "source": [
    "preds = grid_rf.best_estimator_.predict(X_test)\n",
    "\n",
    "fig, axs = plt.subplots(ncols=2, figsize=(10,4))\n",
    "\n",
    "sns.histplot(y, bins=50, ax=axs[0])\n",
    "axs[0].set_title('Train Data Distribusion')\n",
    "sns.histplot(np.exp(preds), bins=50, ax=axs[1])\n",
    "axs[1].set_title('Predicted Test data Distribusion');"
   ]
  },
  {
   "cell_type": "code",
<<<<<<< HEAD
   "execution_count": 29,
=======
   "execution_count": 27,
>>>>>>> f0207d6158218d29b967f220e9c58addbafef23f
   "id": "f4c1c841",
   "metadata": {},
   "outputs": [],
   "source": [
    "submission['count'] = np.exp(preds)\n",
    "submission.to_csv('submission.csv', index=False)"
   ]
  },
  {
   "cell_type": "markdown",
   "id": "86df4ce6",
   "metadata": {},
   "source": [
    "# 성능 개선 4: 랜덤포레스트 최적화\n",
    "- [소스 :  BIKE SHARING DEMAND [ RMSLE:: 0.3194]](https://www.kaggle.com/code/rajmehra03/bike-sharing-demand-rmsle-0-3194)\n",
    "- 스코어 : 0.39446"
   ]
  },
  {
   "cell_type": "code",
<<<<<<< HEAD
   "execution_count": 30,
=======
   "execution_count": 28,
>>>>>>> f0207d6158218d29b967f220e9c58addbafef23f
   "id": "ced517af",
   "metadata": {},
   "outputs": [
    {
     "name": "stderr",
     "output_type": "stream",
     "text": [
      "/home/restful3/anaconda3/envs/trading/lib/python3.10/site-packages/sklearn/ensemble/_forest.py:413: FutureWarning: `max_features='auto'` has been deprecated in 1.1 and will be removed in 1.3. To keep the past behaviour, explicitly set `max_features=1.0` or remove this parameter as it is also the default value for RandomForestRegressors and ExtraTreesRegressors.\n",
      "  warn(\n",
      "/home/restful3/anaconda3/envs/trading/lib/python3.10/site-packages/sklearn/ensemble/_forest.py:413: FutureWarning: `max_features='auto'` has been deprecated in 1.1 and will be removed in 1.3. To keep the past behaviour, explicitly set `max_features=1.0` or remove this parameter as it is also the default value for RandomForestRegressors and ExtraTreesRegressors.\n",
      "  warn(\n",
      "/home/restful3/anaconda3/envs/trading/lib/python3.10/site-packages/sklearn/ensemble/_forest.py:413: FutureWarning: `max_features='auto'` has been deprecated in 1.1 and will be removed in 1.3. To keep the past behaviour, explicitly set `max_features=1.0` or remove this parameter as it is also the default value for RandomForestRegressors and ExtraTreesRegressors.\n",
      "  warn(\n",
      "/home/restful3/anaconda3/envs/trading/lib/python3.10/site-packages/sklearn/ensemble/_forest.py:413: FutureWarning: `max_features='auto'` has been deprecated in 1.1 and will be removed in 1.3. To keep the past behaviour, explicitly set `max_features=1.0` or remove this parameter as it is also the default value for RandomForestRegressors and ExtraTreesRegressors.\n",
      "  warn(\n",
      "/home/restful3/anaconda3/envs/trading/lib/python3.10/site-packages/sklearn/ensemble/_forest.py:413: FutureWarning: `max_features='auto'` has been deprecated in 1.1 and will be removed in 1.3. To keep the past behaviour, explicitly set `max_features=1.0` or remove this parameter as it is also the default value for RandomForestRegressors and ExtraTreesRegressors.\n",
      "  warn(\n",
      "/home/restful3/anaconda3/envs/trading/lib/python3.10/site-packages/sklearn/ensemble/_forest.py:413: FutureWarning: `max_features='auto'` has been deprecated in 1.1 and will be removed in 1.3. To keep the past behaviour, explicitly set `max_features=1.0` or remove this parameter as it is also the default value for RandomForestRegressors and ExtraTreesRegressors.\n",
      "  warn(\n"
     ]
    },
    {
     "data": {
      "text/html": [
       "<style>#sk-container-id-3 {color: black;background-color: white;}#sk-container-id-3 pre{padding: 0;}#sk-container-id-3 div.sk-toggleable {background-color: white;}#sk-container-id-3 label.sk-toggleable__label {cursor: pointer;display: block;width: 100%;margin-bottom: 0;padding: 0.3em;box-sizing: border-box;text-align: center;}#sk-container-id-3 label.sk-toggleable__label-arrow:before {content: \"▸\";float: left;margin-right: 0.25em;color: #696969;}#sk-container-id-3 label.sk-toggleable__label-arrow:hover:before {color: black;}#sk-container-id-3 div.sk-estimator:hover label.sk-toggleable__label-arrow:before {color: black;}#sk-container-id-3 div.sk-toggleable__content {max-height: 0;max-width: 0;overflow: hidden;text-align: left;background-color: #f0f8ff;}#sk-container-id-3 div.sk-toggleable__content pre {margin: 0.2em;color: black;border-radius: 0.25em;background-color: #f0f8ff;}#sk-container-id-3 input.sk-toggleable__control:checked~div.sk-toggleable__content {max-height: 200px;max-width: 100%;overflow: auto;}#sk-container-id-3 input.sk-toggleable__control:checked~label.sk-toggleable__label-arrow:before {content: \"▾\";}#sk-container-id-3 div.sk-estimator input.sk-toggleable__control:checked~label.sk-toggleable__label {background-color: #d4ebff;}#sk-container-id-3 div.sk-label input.sk-toggleable__control:checked~label.sk-toggleable__label {background-color: #d4ebff;}#sk-container-id-3 input.sk-hidden--visually {border: 0;clip: rect(1px 1px 1px 1px);clip: rect(1px, 1px, 1px, 1px);height: 1px;margin: -1px;overflow: hidden;padding: 0;position: absolute;width: 1px;}#sk-container-id-3 div.sk-estimator {font-family: monospace;background-color: #f0f8ff;border: 1px dotted black;border-radius: 0.25em;box-sizing: border-box;margin-bottom: 0.5em;}#sk-container-id-3 div.sk-estimator:hover {background-color: #d4ebff;}#sk-container-id-3 div.sk-parallel-item::after {content: \"\";width: 100%;border-bottom: 1px solid gray;flex-grow: 1;}#sk-container-id-3 div.sk-label:hover label.sk-toggleable__label {background-color: #d4ebff;}#sk-container-id-3 div.sk-serial::before {content: \"\";position: absolute;border-left: 1px solid gray;box-sizing: border-box;top: 0;bottom: 0;left: 50%;z-index: 0;}#sk-container-id-3 div.sk-serial {display: flex;flex-direction: column;align-items: center;background-color: white;padding-right: 0.2em;padding-left: 0.2em;position: relative;}#sk-container-id-3 div.sk-item {position: relative;z-index: 1;}#sk-container-id-3 div.sk-parallel {display: flex;align-items: stretch;justify-content: center;background-color: white;position: relative;}#sk-container-id-3 div.sk-item::before, #sk-container-id-3 div.sk-parallel-item::before {content: \"\";position: absolute;border-left: 1px solid gray;box-sizing: border-box;top: 0;bottom: 0;left: 50%;z-index: -1;}#sk-container-id-3 div.sk-parallel-item {display: flex;flex-direction: column;z-index: 1;position: relative;background-color: white;}#sk-container-id-3 div.sk-parallel-item:first-child::after {align-self: flex-end;width: 50%;}#sk-container-id-3 div.sk-parallel-item:last-child::after {align-self: flex-start;width: 50%;}#sk-container-id-3 div.sk-parallel-item:only-child::after {width: 0;}#sk-container-id-3 div.sk-dashed-wrapped {border: 1px dashed gray;margin: 0 0.4em 0.5em 0.4em;box-sizing: border-box;padding-bottom: 0.4em;background-color: white;}#sk-container-id-3 div.sk-label label {font-family: monospace;font-weight: bold;display: inline-block;line-height: 1.2em;}#sk-container-id-3 div.sk-label-container {text-align: center;}#sk-container-id-3 div.sk-container {/* jupyter's `normalize.less` sets `[hidden] { display: none; }` but bootstrap.min.css set `[hidden] { display: none !important; }` so we also need the `!important` here to be able to override the default hidden behavior on the sphinx rendered scikit-learn.org. See: https://github.com/scikit-learn/scikit-learn/issues/21755 */display: inline-block !important;position: relative;}#sk-container-id-3 div.sk-text-repr-fallback {display: none;}</style><div id=\"sk-container-id-3\" class=\"sk-top-container\"><div class=\"sk-text-repr-fallback\"><pre>GridSearchCV(cv=5, estimator=RandomForestRegressor(),\n",
       "             param_grid={&#x27;max_features&#x27;: [&#x27;auto&#x27;, &#x27;sqrt&#x27;, &#x27;log2&#x27;],\n",
       "                         &#x27;n_estimators&#x27;: [500], &#x27;n_jobs&#x27;: [-1]},\n",
       "             scoring=&#x27;neg_mean_squared_log_error&#x27;)</pre><b>In a Jupyter environment, please rerun this cell to show the HTML representation or trust the notebook. <br />On GitHub, the HTML representation is unable to render, please try loading this page with nbviewer.org.</b></div><div class=\"sk-container\" hidden><div class=\"sk-item sk-dashed-wrapped\"><div class=\"sk-label-container\"><div class=\"sk-label sk-toggleable\"><input class=\"sk-toggleable__control sk-hidden--visually\" id=\"sk-estimator-id-5\" type=\"checkbox\" ><label for=\"sk-estimator-id-5\" class=\"sk-toggleable__label sk-toggleable__label-arrow\">GridSearchCV</label><div class=\"sk-toggleable__content\"><pre>GridSearchCV(cv=5, estimator=RandomForestRegressor(),\n",
       "             param_grid={&#x27;max_features&#x27;: [&#x27;auto&#x27;, &#x27;sqrt&#x27;, &#x27;log2&#x27;],\n",
       "                         &#x27;n_estimators&#x27;: [500], &#x27;n_jobs&#x27;: [-1]},\n",
       "             scoring=&#x27;neg_mean_squared_log_error&#x27;)</pre></div></div></div><div class=\"sk-parallel\"><div class=\"sk-parallel-item\"><div class=\"sk-item\"><div class=\"sk-label-container\"><div class=\"sk-label sk-toggleable\"><input class=\"sk-toggleable__control sk-hidden--visually\" id=\"sk-estimator-id-6\" type=\"checkbox\" ><label for=\"sk-estimator-id-6\" class=\"sk-toggleable__label sk-toggleable__label-arrow\">estimator: RandomForestRegressor</label><div class=\"sk-toggleable__content\"><pre>RandomForestRegressor()</pre></div></div></div><div class=\"sk-serial\"><div class=\"sk-item\"><div class=\"sk-estimator sk-toggleable\"><input class=\"sk-toggleable__control sk-hidden--visually\" id=\"sk-estimator-id-7\" type=\"checkbox\" ><label for=\"sk-estimator-id-7\" class=\"sk-toggleable__label sk-toggleable__label-arrow\">RandomForestRegressor</label><div class=\"sk-toggleable__content\"><pre>RandomForestRegressor()</pre></div></div></div></div></div></div></div></div></div></div>"
      ],
      "text/plain": [
       "GridSearchCV(cv=5, estimator=RandomForestRegressor(),\n",
       "             param_grid={'max_features': ['auto', 'sqrt', 'log2'],\n",
       "                         'n_estimators': [500], 'n_jobs': [-1]},\n",
       "             scoring='neg_mean_squared_log_error')"
      ]
     },
<<<<<<< HEAD
     "execution_count": 30,
=======
     "execution_count": 28,
>>>>>>> f0207d6158218d29b967f220e9c58addbafef23f
     "metadata": {},
     "output_type": "execute_result"
    }
   ],
   "source": [
    "no_of_test = [500]\n",
    "param_grid = {'n_estimators':no_of_test, 'n_jobs':[-1], 'max_features':['auto', 'sqrt', 'log2']}\n",
    "rf = GridSearchCV(estimator=RandomForestRegressor(), \n",
    "                 param_grid=param_grid,\n",
    "                 scoring='neg_mean_squared_log_error',\n",
    "                 cv=5)\n",
    "rf.fit(X_train, log_y)"
   ]
  },
  {
   "cell_type": "code",
<<<<<<< HEAD
   "execution_count": 31,
=======
   "execution_count": 29,
>>>>>>> f0207d6158218d29b967f220e9c58addbafef23f
   "id": "11ed11bb",
   "metadata": {},
   "outputs": [
    {
     "name": "stdout",
     "output_type": "stream",
     "text": [
<<<<<<< HEAD
      "0.04805869143251298\n"
=======
      "0.04784734618095741\n"
>>>>>>> f0207d6158218d29b967f220e9c58addbafef23f
     ]
    }
   ],
   "source": [
    "from sklearn.metrics import mean_squared_log_error\n",
    "preds = rf.best_estimator_.predict(X_train)\n",
    "print((np.sqrt(mean_squared_log_error(log_y, preds))))"
   ]
  },
  {
   "cell_type": "code",
<<<<<<< HEAD
   "execution_count": 32,
=======
   "execution_count": 30,
>>>>>>> f0207d6158218d29b967f220e9c58addbafef23f
   "id": "4f6ba327",
   "metadata": {},
   "outputs": [
    {
     "data": {
      "text/plain": [
       "{'max_features': 'auto', 'n_estimators': 500, 'n_jobs': -1}"
      ]
     },
<<<<<<< HEAD
     "execution_count": 32,
=======
     "execution_count": 30,
>>>>>>> f0207d6158218d29b967f220e9c58addbafef23f
     "metadata": {},
     "output_type": "execute_result"
    }
   ],
   "source": [
    "rf.best_params_"
   ]
  },
  {
   "cell_type": "code",
<<<<<<< HEAD
   "execution_count": 33,
=======
   "execution_count": 31,
>>>>>>> f0207d6158218d29b967f220e9c58addbafef23f
   "id": "c7286463",
   "metadata": {},
   "outputs": [],
   "source": [
    "preds_rf = rf.best_estimator_.predict(X_test)\n",
    "submission['count'] = np.exp(preds_rf)\n",
    "submission.to_csv('submission.csv', index=False)"
   ]
  },
  {
   "cell_type": "markdown",
   "id": "adfa16b1",
   "metadata": {},
   "source": [
    "# 성능 개선 5 : XGBoost\n",
    "- 스코어 : 0.38305"
   ]
  },
  {
   "cell_type": "code",
<<<<<<< HEAD
   "execution_count": 34,
=======
   "execution_count": 32,
>>>>>>> f0207d6158218d29b967f220e9c58addbafef23f
   "id": "fc47f006",
   "metadata": {},
   "outputs": [
    {
     "data": {
      "text/html": [
       "<style>#sk-container-id-4 {color: black;background-color: white;}#sk-container-id-4 pre{padding: 0;}#sk-container-id-4 div.sk-toggleable {background-color: white;}#sk-container-id-4 label.sk-toggleable__label {cursor: pointer;display: block;width: 100%;margin-bottom: 0;padding: 0.3em;box-sizing: border-box;text-align: center;}#sk-container-id-4 label.sk-toggleable__label-arrow:before {content: \"▸\";float: left;margin-right: 0.25em;color: #696969;}#sk-container-id-4 label.sk-toggleable__label-arrow:hover:before {color: black;}#sk-container-id-4 div.sk-estimator:hover label.sk-toggleable__label-arrow:before {color: black;}#sk-container-id-4 div.sk-toggleable__content {max-height: 0;max-width: 0;overflow: hidden;text-align: left;background-color: #f0f8ff;}#sk-container-id-4 div.sk-toggleable__content pre {margin: 0.2em;color: black;border-radius: 0.25em;background-color: #f0f8ff;}#sk-container-id-4 input.sk-toggleable__control:checked~div.sk-toggleable__content {max-height: 200px;max-width: 100%;overflow: auto;}#sk-container-id-4 input.sk-toggleable__control:checked~label.sk-toggleable__label-arrow:before {content: \"▾\";}#sk-container-id-4 div.sk-estimator input.sk-toggleable__control:checked~label.sk-toggleable__label {background-color: #d4ebff;}#sk-container-id-4 div.sk-label input.sk-toggleable__control:checked~label.sk-toggleable__label {background-color: #d4ebff;}#sk-container-id-4 input.sk-hidden--visually {border: 0;clip: rect(1px 1px 1px 1px);clip: rect(1px, 1px, 1px, 1px);height: 1px;margin: -1px;overflow: hidden;padding: 0;position: absolute;width: 1px;}#sk-container-id-4 div.sk-estimator {font-family: monospace;background-color: #f0f8ff;border: 1px dotted black;border-radius: 0.25em;box-sizing: border-box;margin-bottom: 0.5em;}#sk-container-id-4 div.sk-estimator:hover {background-color: #d4ebff;}#sk-container-id-4 div.sk-parallel-item::after {content: \"\";width: 100%;border-bottom: 1px solid gray;flex-grow: 1;}#sk-container-id-4 div.sk-label:hover label.sk-toggleable__label {background-color: #d4ebff;}#sk-container-id-4 div.sk-serial::before {content: \"\";position: absolute;border-left: 1px solid gray;box-sizing: border-box;top: 0;bottom: 0;left: 50%;z-index: 0;}#sk-container-id-4 div.sk-serial {display: flex;flex-direction: column;align-items: center;background-color: white;padding-right: 0.2em;padding-left: 0.2em;position: relative;}#sk-container-id-4 div.sk-item {position: relative;z-index: 1;}#sk-container-id-4 div.sk-parallel {display: flex;align-items: stretch;justify-content: center;background-color: white;position: relative;}#sk-container-id-4 div.sk-item::before, #sk-container-id-4 div.sk-parallel-item::before {content: \"\";position: absolute;border-left: 1px solid gray;box-sizing: border-box;top: 0;bottom: 0;left: 50%;z-index: -1;}#sk-container-id-4 div.sk-parallel-item {display: flex;flex-direction: column;z-index: 1;position: relative;background-color: white;}#sk-container-id-4 div.sk-parallel-item:first-child::after {align-self: flex-end;width: 50%;}#sk-container-id-4 div.sk-parallel-item:last-child::after {align-self: flex-start;width: 50%;}#sk-container-id-4 div.sk-parallel-item:only-child::after {width: 0;}#sk-container-id-4 div.sk-dashed-wrapped {border: 1px dashed gray;margin: 0 0.4em 0.5em 0.4em;box-sizing: border-box;padding-bottom: 0.4em;background-color: white;}#sk-container-id-4 div.sk-label label {font-family: monospace;font-weight: bold;display: inline-block;line-height: 1.2em;}#sk-container-id-4 div.sk-label-container {text-align: center;}#sk-container-id-4 div.sk-container {/* jupyter's `normalize.less` sets `[hidden] { display: none; }` but bootstrap.min.css set `[hidden] { display: none !important; }` so we also need the `!important` here to be able to override the default hidden behavior on the sphinx rendered scikit-learn.org. See: https://github.com/scikit-learn/scikit-learn/issues/21755 */display: inline-block !important;position: relative;}#sk-container-id-4 div.sk-text-repr-fallback {display: none;}</style><div id=\"sk-container-id-4\" class=\"sk-top-container\"><div class=\"sk-text-repr-fallback\"><pre>GridSearchCV(estimator=XGBRegressor(base_score=None, booster=None,\n",
       "                                    callbacks=None, colsample_bylevel=None,\n",
       "                                    colsample_bynode=None,\n",
       "                                    colsample_bytree=None,\n",
       "                                    early_stopping_rounds=None,\n",
       "                                    enable_categorical=False, eval_metric=None,\n",
       "                                    feature_types=None, gamma=None, gpu_id=None,\n",
       "                                    grow_policy=None, importance_type=None,\n",
       "                                    interaction_constraints=None,\n",
       "                                    learning_rate=None, max_bin=None,\n",
       "                                    max_cat_threshold=None,\n",
       "                                    max_cat_to_onehot=None, max_delta_step=None,\n",
       "                                    max_depth=None, max_leaves=None,\n",
       "                                    min_child_weight=None, missing=nan,\n",
       "                                    monotone_constraints=None, n_estimators=100,\n",
       "                                    n_jobs=None, num_parallel_tree=None,\n",
       "                                    predictor=None, random_state=None, ...),\n",
       "             param_grid={&#x27;colsample_bytree&#x27;: [0.5, 0.75], &#x27;max_depth&#x27;: [5, 7],\n",
       "                         &#x27;min_child_weight&#x27;: [1, 3]})</pre><b>In a Jupyter environment, please rerun this cell to show the HTML representation or trust the notebook. <br />On GitHub, the HTML representation is unable to render, please try loading this page with nbviewer.org.</b></div><div class=\"sk-container\" hidden><div class=\"sk-item sk-dashed-wrapped\"><div class=\"sk-label-container\"><div class=\"sk-label sk-toggleable\"><input class=\"sk-toggleable__control sk-hidden--visually\" id=\"sk-estimator-id-8\" type=\"checkbox\" ><label for=\"sk-estimator-id-8\" class=\"sk-toggleable__label sk-toggleable__label-arrow\">GridSearchCV</label><div class=\"sk-toggleable__content\"><pre>GridSearchCV(estimator=XGBRegressor(base_score=None, booster=None,\n",
       "                                    callbacks=None, colsample_bylevel=None,\n",
       "                                    colsample_bynode=None,\n",
       "                                    colsample_bytree=None,\n",
       "                                    early_stopping_rounds=None,\n",
       "                                    enable_categorical=False, eval_metric=None,\n",
       "                                    feature_types=None, gamma=None, gpu_id=None,\n",
       "                                    grow_policy=None, importance_type=None,\n",
       "                                    interaction_constraints=None,\n",
       "                                    learning_rate=None, max_bin=None,\n",
       "                                    max_cat_threshold=None,\n",
       "                                    max_cat_to_onehot=None, max_delta_step=None,\n",
       "                                    max_depth=None, max_leaves=None,\n",
       "                                    min_child_weight=None, missing=nan,\n",
       "                                    monotone_constraints=None, n_estimators=100,\n",
       "                                    n_jobs=None, num_parallel_tree=None,\n",
       "                                    predictor=None, random_state=None, ...),\n",
       "             param_grid={&#x27;colsample_bytree&#x27;: [0.5, 0.75], &#x27;max_depth&#x27;: [5, 7],\n",
       "                         &#x27;min_child_weight&#x27;: [1, 3]})</pre></div></div></div><div class=\"sk-parallel\"><div class=\"sk-parallel-item\"><div class=\"sk-item\"><div class=\"sk-label-container\"><div class=\"sk-label sk-toggleable\"><input class=\"sk-toggleable__control sk-hidden--visually\" id=\"sk-estimator-id-9\" type=\"checkbox\" ><label for=\"sk-estimator-id-9\" class=\"sk-toggleable__label sk-toggleable__label-arrow\">estimator: XGBRegressor</label><div class=\"sk-toggleable__content\"><pre>XGBRegressor(base_score=None, booster=None, callbacks=None,\n",
       "             colsample_bylevel=None, colsample_bynode=None,\n",
       "             colsample_bytree=None, early_stopping_rounds=None,\n",
       "             enable_categorical=False, eval_metric=None, feature_types=None,\n",
       "             gamma=None, gpu_id=None, grow_policy=None, importance_type=None,\n",
       "             interaction_constraints=None, learning_rate=None, max_bin=None,\n",
       "             max_cat_threshold=None, max_cat_to_onehot=None,\n",
       "             max_delta_step=None, max_depth=None, max_leaves=None,\n",
       "             min_child_weight=None, missing=nan, monotone_constraints=None,\n",
       "             n_estimators=100, n_jobs=None, num_parallel_tree=None,\n",
       "             predictor=None, random_state=None, ...)</pre></div></div></div><div class=\"sk-serial\"><div class=\"sk-item\"><div class=\"sk-estimator sk-toggleable\"><input class=\"sk-toggleable__control sk-hidden--visually\" id=\"sk-estimator-id-10\" type=\"checkbox\" ><label for=\"sk-estimator-id-10\" class=\"sk-toggleable__label sk-toggleable__label-arrow\">XGBRegressor</label><div class=\"sk-toggleable__content\"><pre>XGBRegressor(base_score=None, booster=None, callbacks=None,\n",
       "             colsample_bylevel=None, colsample_bynode=None,\n",
       "             colsample_bytree=None, early_stopping_rounds=None,\n",
       "             enable_categorical=False, eval_metric=None, feature_types=None,\n",
       "             gamma=None, gpu_id=None, grow_policy=None, importance_type=None,\n",
       "             interaction_constraints=None, learning_rate=None, max_bin=None,\n",
       "             max_cat_threshold=None, max_cat_to_onehot=None,\n",
       "             max_delta_step=None, max_depth=None, max_leaves=None,\n",
       "             min_child_weight=None, missing=nan, monotone_constraints=None,\n",
       "             n_estimators=100, n_jobs=None, num_parallel_tree=None,\n",
       "             predictor=None, random_state=None, ...)</pre></div></div></div></div></div></div></div></div></div></div>"
      ],
      "text/plain": [
       "GridSearchCV(estimator=XGBRegressor(base_score=None, booster=None,\n",
       "                                    callbacks=None, colsample_bylevel=None,\n",
       "                                    colsample_bynode=None,\n",
       "                                    colsample_bytree=None,\n",
       "                                    early_stopping_rounds=None,\n",
       "                                    enable_categorical=False, eval_metric=None,\n",
       "                                    feature_types=None, gamma=None, gpu_id=None,\n",
       "                                    grow_policy=None, importance_type=None,\n",
       "                                    interaction_constraints=None,\n",
       "                                    learning_rate=None, max_bin=None,\n",
       "                                    max_cat_threshold=None,\n",
       "                                    max_cat_to_onehot=None, max_delta_step=None,\n",
       "                                    max_depth=None, max_leaves=None,\n",
       "                                    min_child_weight=None, missing=nan,\n",
       "                                    monotone_constraints=None, n_estimators=100,\n",
       "                                    n_jobs=None, num_parallel_tree=None,\n",
       "                                    predictor=None, random_state=None, ...),\n",
       "             param_grid={'colsample_bytree': [0.5, 0.75], 'max_depth': [5, 7],\n",
       "                         'min_child_weight': [1, 3]})"
      ]
     },
<<<<<<< HEAD
     "execution_count": 34,
=======
     "execution_count": 32,
>>>>>>> f0207d6158218d29b967f220e9c58addbafef23f
     "metadata": {},
     "output_type": "execute_result"
    }
   ],
   "source": [
    "from xgboost import XGBRegressor\n",
    "\n",
    "xgb = XGBRegressor()\n",
    "\n",
    "param_grid = {'max_depth':[5, 7], 'min_child_weight':[1, 3], 'colsample_bytree':[0.5, 0.75]}\n",
    "grid_xgb = GridSearchCV(estimator=xgb, param_grid=param_grid)\n",
    "grid_xgb.fit(X_train, log_y)"
   ]
  },
  {
   "cell_type": "code",
<<<<<<< HEAD
   "execution_count": 35,
=======
   "execution_count": 33,
>>>>>>> f0207d6158218d29b967f220e9c58addbafef23f
   "id": "2978dd60",
   "metadata": {},
   "outputs": [
    {
     "data": {
      "text/plain": [
       "{'colsample_bytree': 0.75, 'max_depth': 5, 'min_child_weight': 1}"
      ]
     },
<<<<<<< HEAD
     "execution_count": 35,
=======
     "execution_count": 33,
>>>>>>> f0207d6158218d29b967f220e9c58addbafef23f
     "metadata": {},
     "output_type": "execute_result"
    }
   ],
   "source": [
    "grid_xgb.best_params_"
   ]
  },
  {
   "cell_type": "code",
<<<<<<< HEAD
   "execution_count": 36,
=======
   "execution_count": 34,
>>>>>>> f0207d6158218d29b967f220e9c58addbafef23f
   "id": "f028dcbf",
   "metadata": {},
   "outputs": [
    {
     "name": "stdout",
     "output_type": "stream",
     "text": [
      "xgb 회귀의 RMSLE 값 : 0.2381\n"
     ]
    }
   ],
   "source": [
    "preds = grid_xgb.best_estimator_.predict(X_train)\n",
    "print(f'xgb 회귀의 RMSLE 값 : {rmsle(log_y, preds, True):.4f}')"
   ]
  },
  {
   "cell_type": "code",
<<<<<<< HEAD
   "execution_count": 37,
=======
   "execution_count": 35,
>>>>>>> f0207d6158218d29b967f220e9c58addbafef23f
   "id": "3e35e9f4",
   "metadata": {},
   "outputs": [],
   "source": [
    "preds_xgb = grid_xgb.best_estimator_.predict(X_test)\n",
    "submission['count'] = np.exp(preds_xgb)\n",
    "submission.to_csv('submission.csv', index=False)"
   ]
  },
  {
   "cell_type": "markdown",
   "id": "70a6044a",
   "metadata": {},
   "source": [
    "# 성능 개선 6 : 랜덤포레스트+XGBoost\n",
    "- 스코어 : 0.37793"
   ]
  },
  {
   "cell_type": "code",
<<<<<<< HEAD
   "execution_count": 38,
=======
   "execution_count": 36,
>>>>>>> f0207d6158218d29b967f220e9c58addbafef23f
   "id": "692d379b",
   "metadata": {},
   "outputs": [],
   "source": [
    "preds_ensemble = (preds_rf + preds_xgb)/2"
   ]
  },
  {
   "cell_type": "code",
<<<<<<< HEAD
   "execution_count": 39,
=======
   "execution_count": 37,
>>>>>>> f0207d6158218d29b967f220e9c58addbafef23f
   "id": "ccbad64d",
   "metadata": {},
   "outputs": [],
   "source": [
    "submission['count'] = np.exp(preds_ensemble)\n",
    "submission.to_csv('submission.csv', index=False)"
   ]
  },
  {
   "cell_type": "markdown",
   "id": "c4de2576",
   "metadata": {},
   "source": [
    "# 성능 개선 7 : Tensorflow\n",
    "- [소스:2 Creative Deep Learning Models//Bike Prediction](https://www.kaggle.com/code/homayoonkhadivi/2-creative-deep-learning-models-bike-prediction)\n",
    "- Score: 0.4683"
   ]
  },
  {
   "cell_type": "code",
<<<<<<< HEAD
   "execution_count": 42,
   "id": "bfdcd52e",
   "metadata": {},
   "outputs": [],
=======
   "execution_count": 38,
   "id": "bfdcd52e",
   "metadata": {},
   "outputs": [
    {
     "name": "stderr",
     "output_type": "stream",
     "text": [
      "2023-03-08 11:48:05.471206: I tensorflow/core/platform/cpu_feature_guard.cc:193] This TensorFlow binary is optimized with oneAPI Deep Neural Network Library (oneDNN) to use the following CPU instructions in performance-critical operations:  AVX2 FMA\n",
      "To enable them in other operations, rebuild TensorFlow with the appropriate compiler flags.\n",
      "2023-03-08 11:48:07.836477: W tensorflow/compiler/xla/stream_executor/platform/default/dso_loader.cc:64] Could not load dynamic library 'libnvinfer.so.7'; dlerror: libnvinfer.so.7: cannot open shared object file: No such file or directory; LD_LIBRARY_PATH: :/usr/local/cuda-11.7/lib64/\n",
      "2023-03-08 11:48:07.836707: W tensorflow/compiler/xla/stream_executor/platform/default/dso_loader.cc:64] Could not load dynamic library 'libnvinfer_plugin.so.7'; dlerror: libnvinfer_plugin.so.7: cannot open shared object file: No such file or directory; LD_LIBRARY_PATH: :/usr/local/cuda-11.7/lib64/\n",
      "2023-03-08 11:48:07.836718: W tensorflow/compiler/tf2tensorrt/utils/py_utils.cc:38] TF-TRT Warning: Cannot dlopen some TensorRT libraries. If you would like to use Nvidia GPU with TensorRT, please make sure the missing libraries mentioned above are installed properly.\n"
     ]
    }
   ],
>>>>>>> f0207d6158218d29b967f220e9c58addbafef23f
   "source": [
    "from tensorflow.keras.models import Sequential\n",
    "from tensorflow.keras.layers import Dense, Activation, Dropout\n",
    "from tensorflow.keras.callbacks import EarlyStopping"
   ]
  },
  {
   "cell_type": "code",
<<<<<<< HEAD
   "execution_count": 43,
   "id": "2766959d",
   "metadata": {},
   "outputs": [],
=======
   "execution_count": 39,
   "id": "2766959d",
   "metadata": {},
   "outputs": [
    {
     "name": "stderr",
     "output_type": "stream",
     "text": [
      "2023-03-08 11:48:08.943100: I tensorflow/compiler/xla/stream_executor/cuda/cuda_gpu_executor.cc:981] successful NUMA node read from SysFS had negative value (-1), but there must be at least one NUMA node, so returning NUMA node zero\n",
      "2023-03-08 11:48:09.005258: I tensorflow/compiler/xla/stream_executor/cuda/cuda_gpu_executor.cc:981] successful NUMA node read from SysFS had negative value (-1), but there must be at least one NUMA node, so returning NUMA node zero\n",
      "2023-03-08 11:48:09.005494: I tensorflow/compiler/xla/stream_executor/cuda/cuda_gpu_executor.cc:981] successful NUMA node read from SysFS had negative value (-1), but there must be at least one NUMA node, so returning NUMA node zero\n",
      "2023-03-08 11:48:09.006318: I tensorflow/core/platform/cpu_feature_guard.cc:193] This TensorFlow binary is optimized with oneAPI Deep Neural Network Library (oneDNN) to use the following CPU instructions in performance-critical operations:  AVX2 FMA\n",
      "To enable them in other operations, rebuild TensorFlow with the appropriate compiler flags.\n",
      "2023-03-08 11:48:09.007423: I tensorflow/compiler/xla/stream_executor/cuda/cuda_gpu_executor.cc:981] successful NUMA node read from SysFS had negative value (-1), but there must be at least one NUMA node, so returning NUMA node zero\n",
      "2023-03-08 11:48:09.007807: I tensorflow/compiler/xla/stream_executor/cuda/cuda_gpu_executor.cc:981] successful NUMA node read from SysFS had negative value (-1), but there must be at least one NUMA node, so returning NUMA node zero\n",
      "2023-03-08 11:48:09.008040: I tensorflow/compiler/xla/stream_executor/cuda/cuda_gpu_executor.cc:981] successful NUMA node read from SysFS had negative value (-1), but there must be at least one NUMA node, so returning NUMA node zero\n",
      "2023-03-08 11:48:09.797977: I tensorflow/compiler/xla/stream_executor/cuda/cuda_gpu_executor.cc:981] successful NUMA node read from SysFS had negative value (-1), but there must be at least one NUMA node, so returning NUMA node zero\n",
      "2023-03-08 11:48:09.798686: I tensorflow/compiler/xla/stream_executor/cuda/cuda_gpu_executor.cc:981] successful NUMA node read from SysFS had negative value (-1), but there must be at least one NUMA node, so returning NUMA node zero\n",
      "2023-03-08 11:48:09.799021: I tensorflow/compiler/xla/stream_executor/cuda/cuda_gpu_executor.cc:981] successful NUMA node read from SysFS had negative value (-1), but there must be at least one NUMA node, so returning NUMA node zero\n",
      "2023-03-08 11:48:09.799349: I tensorflow/core/common_runtime/gpu/gpu_device.cc:1613] Created device /job:localhost/replica:0/task:0/device:GPU:0 with 7380 MB memory:  -> device: 0, name: NVIDIA GeForce GTX 1070 with Max-Q Design, pci bus id: 0000:01:00.0, compute capability: 6.1\n"
     ]
    }
   ],
>>>>>>> f0207d6158218d29b967f220e9c58addbafef23f
   "source": [
    "model = Sequential()\n",
    "model.add(Dense(100, input_dim = X_train.shape[1], activation='relu'))\n",
    "model.add(Dropout(0.5))\n",
    "model.add(Dense(100, activation='relu'))\n",
    "model.add(Dropout(0.5))\n",
    "model.add(Dense(1, activation=None))\n",
    "model.compile(optimizer='adam', loss='mse')\n",
    "early_stopping = EarlyStopping(monitor='val_loss', mode='min', verbose=1, patience=10)"
   ]
  },
  {
   "cell_type": "code",
<<<<<<< HEAD
   "execution_count": 44,
=======
   "execution_count": 40,
>>>>>>> f0207d6158218d29b967f220e9c58addbafef23f
   "id": "3c72ba86",
   "metadata": {},
   "outputs": [
    {
     "data": {
      "text/html": [
       "<div>\n",
       "<style scoped>\n",
       "    .dataframe tbody tr th:only-of-type {\n",
       "        vertical-align: middle;\n",
       "    }\n",
       "\n",
       "    .dataframe tbody tr th {\n",
       "        vertical-align: top;\n",
       "    }\n",
       "\n",
       "    .dataframe thead th {\n",
       "        text-align: right;\n",
       "    }\n",
       "</style>\n",
       "<table border=\"1\" class=\"dataframe\">\n",
       "  <thead>\n",
       "    <tr style=\"text-align: right;\">\n",
       "      <th></th>\n",
       "      <th>season</th>\n",
       "      <th>holiday</th>\n",
       "      <th>workingday</th>\n",
       "      <th>weather</th>\n",
       "      <th>temp</th>\n",
       "      <th>atemp</th>\n",
       "      <th>humidity</th>\n",
       "      <th>year</th>\n",
       "      <th>hour</th>\n",
       "      <th>weekday</th>\n",
       "    </tr>\n",
       "  </thead>\n",
       "  <tbody>\n",
       "    <tr>\n",
       "      <th>0</th>\n",
       "      <td>1</td>\n",
       "      <td>0</td>\n",
       "      <td>0</td>\n",
       "      <td>1</td>\n",
       "      <td>9.84</td>\n",
       "      <td>14.395</td>\n",
       "      <td>81</td>\n",
       "      <td>2011</td>\n",
       "      <td>0</td>\n",
       "      <td>5</td>\n",
       "    </tr>\n",
       "    <tr>\n",
       "      <th>1</th>\n",
       "      <td>1</td>\n",
       "      <td>0</td>\n",
       "      <td>0</td>\n",
       "      <td>1</td>\n",
       "      <td>9.02</td>\n",
       "      <td>13.635</td>\n",
       "      <td>80</td>\n",
       "      <td>2011</td>\n",
       "      <td>1</td>\n",
       "      <td>5</td>\n",
       "    </tr>\n",
       "    <tr>\n",
       "      <th>2</th>\n",
       "      <td>1</td>\n",
       "      <td>0</td>\n",
       "      <td>0</td>\n",
       "      <td>1</td>\n",
       "      <td>9.02</td>\n",
       "      <td>13.635</td>\n",
       "      <td>80</td>\n",
       "      <td>2011</td>\n",
       "      <td>2</td>\n",
       "      <td>5</td>\n",
       "    </tr>\n",
       "    <tr>\n",
       "      <th>3</th>\n",
       "      <td>1</td>\n",
       "      <td>0</td>\n",
       "      <td>0</td>\n",
       "      <td>1</td>\n",
       "      <td>9.84</td>\n",
       "      <td>14.395</td>\n",
       "      <td>75</td>\n",
       "      <td>2011</td>\n",
       "      <td>3</td>\n",
       "      <td>5</td>\n",
       "    </tr>\n",
       "    <tr>\n",
       "      <th>4</th>\n",
       "      <td>1</td>\n",
       "      <td>0</td>\n",
       "      <td>0</td>\n",
       "      <td>1</td>\n",
       "      <td>9.84</td>\n",
       "      <td>14.395</td>\n",
       "      <td>75</td>\n",
       "      <td>2011</td>\n",
       "      <td>4</td>\n",
       "      <td>5</td>\n",
       "    </tr>\n",
       "  </tbody>\n",
       "</table>\n",
       "</div>"
      ],
      "text/plain": [
       "   season  holiday  workingday  weather  temp   atemp  humidity  year  hour  \\\n",
       "0       1        0           0        1  9.84  14.395        81  2011     0   \n",
       "1       1        0           0        1  9.02  13.635        80  2011     1   \n",
       "2       1        0           0        1  9.02  13.635        80  2011     2   \n",
       "3       1        0           0        1  9.84  14.395        75  2011     3   \n",
       "4       1        0           0        1  9.84  14.395        75  2011     4   \n",
       "\n",
       "   weekday  \n",
       "0        5  \n",
       "1        5  \n",
       "2        5  \n",
       "3        5  \n",
       "4        5  "
      ]
     },
<<<<<<< HEAD
     "execution_count": 44,
=======
     "execution_count": 40,
>>>>>>> f0207d6158218d29b967f220e9c58addbafef23f
     "metadata": {},
     "output_type": "execute_result"
    }
   ],
   "source": [
    "X_train.head()"
   ]
  },
  {
   "cell_type": "code",
<<<<<<< HEAD
   "execution_count": 45,
=======
   "execution_count": 41,
>>>>>>> f0207d6158218d29b967f220e9c58addbafef23f
   "id": "0eabfd06",
   "metadata": {
    "scrolled": true
   },
   "outputs": [
    {
     "name": "stdout",
     "output_type": "stream",
     "text": [
      "Epoch 1/100\n"
     ]
    },
    {
     "name": "stderr",
     "output_type": "stream",
     "text": [
<<<<<<< HEAD
      "/home/tw/.local/lib/python3.8/site-packages/keras/engine/data_adapter.py:1696: FutureWarning: The behavior of `series[i:j]` with an integer-dtype index is deprecated. In a future version, this will be treated as *label-based* indexing, consistent with e.g. `series[i]` lookups. To retain the old behavior, use `series.iloc[i:j]`. To get the future behavior, use `series.loc[i:j]`.\n",
      "  return t[start:end]\n"
=======
      "2023-03-08 11:48:12.485646: I tensorflow/compiler/xla/service/service.cc:173] XLA service 0x7f8937b340a0 initialized for platform CUDA (this does not guarantee that XLA will be used). Devices:\n",
      "2023-03-08 11:48:12.485672: I tensorflow/compiler/xla/service/service.cc:181]   StreamExecutor device (0): NVIDIA GeForce GTX 1070 with Max-Q Design, Compute Capability 6.1\n",
      "2023-03-08 11:48:12.501049: I tensorflow/compiler/mlir/tensorflow/utils/dump_mlir_util.cc:268] disabling MLIR crash reproducer, set env var `MLIR_CRASH_REPRODUCER_DIRECTORY` to enable.\n",
      "2023-03-08 11:48:12.648403: I tensorflow/tsl/platform/default/subprocess.cc:304] Start cannot spawn child process: No such file or directory\n",
      "2023-03-08 11:48:12.708246: I tensorflow/compiler/jit/xla_compilation_cache.cc:477] Compiled cluster using XLA!  This line is logged at most once for the lifetime of the process.\n"
>>>>>>> f0207d6158218d29b967f220e9c58addbafef23f
     ]
    },
    {
     "name": "stdout",
     "output_type": "stream",
     "text": [
<<<<<<< HEAD
      "545/545 [==============================] - 1s 1ms/step - loss: 8279.7168 - val_loss: 37.7363\n",
      "Epoch 2/100\n",
      "545/545 [==============================] - 1s 1ms/step - loss: 232.3391 - val_loss: 16.2135\n",
      "Epoch 3/100\n",
      "545/545 [==============================] - 1s 1ms/step - loss: 75.3663 - val_loss: 15.8009\n",
      "Epoch 4/100\n",
      "545/545 [==============================] - 1s 1ms/step - loss: 33.2696 - val_loss: 10.0033\n",
      "Epoch 5/100\n",
      "545/545 [==============================] - 1s 1ms/step - loss: 21.4725 - val_loss: 8.1098\n",
      "Epoch 6/100\n",
      "545/545 [==============================] - 1s 1ms/step - loss: 15.2225 - val_loss: 6.1093\n",
      "Epoch 7/100\n",
      "545/545 [==============================] - 1s 1ms/step - loss: 10.7245 - val_loss: 6.3651\n",
      "Epoch 8/100\n",
      "545/545 [==============================] - 1s 1ms/step - loss: 8.9633 - val_loss: 7.4335\n",
      "Epoch 9/100\n",
      "545/545 [==============================] - 1s 1ms/step - loss: 7.2179 - val_loss: 8.3517\n",
      "Epoch 10/100\n",
      "545/545 [==============================] - 1s 1ms/step - loss: 6.5512 - val_loss: 5.6032\n",
      "Epoch 11/100\n",
      "545/545 [==============================] - 1s 1ms/step - loss: 5.8124 - val_loss: 5.7634\n",
      "Epoch 12/100\n",
      "545/545 [==============================] - 1s 1ms/step - loss: 5.0564 - val_loss: 4.7818\n",
      "Epoch 13/100\n",
      "545/545 [==============================] - 1s 1ms/step - loss: 4.9461 - val_loss: 4.4211\n",
      "Epoch 14/100\n",
      "545/545 [==============================] - 1s 1ms/step - loss: 4.3160 - val_loss: 5.2602\n",
      "Epoch 15/100\n",
      "545/545 [==============================] - 1s 1ms/step - loss: 3.8484 - val_loss: 4.6943\n",
      "Epoch 16/100\n",
      "545/545 [==============================] - 1s 1ms/step - loss: 3.6773 - val_loss: 4.5708\n",
      "Epoch 17/100\n",
      "545/545 [==============================] - 1s 1ms/step - loss: 3.4928 - val_loss: 4.7291\n",
      "Epoch 18/100\n",
      "545/545 [==============================] - 1s 1ms/step - loss: 3.1721 - val_loss: 3.9774\n",
      "Epoch 19/100\n",
      "545/545 [==============================] - 1s 1ms/step - loss: 3.0626 - val_loss: 3.8772\n",
      "Epoch 20/100\n",
      "545/545 [==============================] - 1s 1ms/step - loss: 2.9842 - val_loss: 2.9599\n",
      "Epoch 21/100\n",
      "545/545 [==============================] - 1s 1ms/step - loss: 2.6236 - val_loss: 3.7060\n",
      "Epoch 22/100\n",
      "545/545 [==============================] - 1s 1ms/step - loss: 2.4325 - val_loss: 2.8452\n",
      "Epoch 23/100\n",
      "545/545 [==============================] - 1s 1ms/step - loss: 2.2760 - val_loss: 3.6205\n",
      "Epoch 24/100\n",
      "545/545 [==============================] - 1s 1ms/step - loss: 2.2198 - val_loss: 2.4467\n",
      "Epoch 25/100\n",
      "545/545 [==============================] - 1s 1ms/step - loss: 2.0328 - val_loss: 1.9311\n",
      "Epoch 26/100\n",
      "545/545 [==============================] - 1s 1ms/step - loss: 1.9094 - val_loss: 1.6470\n",
      "Epoch 27/100\n",
      "545/545 [==============================] - 1s 1ms/step - loss: 1.8136 - val_loss: 1.6893\n",
      "Epoch 28/100\n",
      "545/545 [==============================] - 1s 1ms/step - loss: 1.7836 - val_loss: 1.3326\n",
      "Epoch 29/100\n",
      "545/545 [==============================] - 1s 1ms/step - loss: 1.7437 - val_loss: 1.6493\n",
      "Epoch 30/100\n",
      "545/545 [==============================] - 1s 1ms/step - loss: 1.6932 - val_loss: 1.6756\n",
      "Epoch 31/100\n",
      "545/545 [==============================] - 1s 1ms/step - loss: 1.6529 - val_loss: 1.7405\n",
      "Epoch 32/100\n",
      "545/545 [==============================] - 1s 1ms/step - loss: 1.6225 - val_loss: 1.5530\n",
      "Epoch 33/100\n",
      "545/545 [==============================] - 1s 1ms/step - loss: 1.6390 - val_loss: 1.5376\n",
      "Epoch 34/100\n",
      "545/545 [==============================] - 1s 1ms/step - loss: 1.6177 - val_loss: 2.1163\n",
      "Epoch 35/100\n",
      "545/545 [==============================] - 1s 1ms/step - loss: 1.5893 - val_loss: 1.7796\n",
      "Epoch 36/100\n",
      "545/545 [==============================] - 1s 1ms/step - loss: 1.4894 - val_loss: 1.5025\n",
      "Epoch 37/100\n",
      "545/545 [==============================] - 1s 1ms/step - loss: 1.4577 - val_loss: 1.7909\n",
      "Epoch 38/100\n",
      "545/545 [==============================] - 1s 1ms/step - loss: 1.3729 - val_loss: 1.7286\n",
      "Epoch 38: early stopping\n"
=======
      "545/545 [==============================] - 5s 3ms/step - loss: 8089.8403 - val_loss: 8.9515\n",
      "Epoch 2/100\n",
      "545/545 [==============================] - 1s 3ms/step - loss: 256.5992 - val_loss: 9.9161\n",
      "Epoch 3/100\n",
      "545/545 [==============================] - 1s 3ms/step - loss: 82.4328 - val_loss: 7.9744\n",
      "Epoch 4/100\n",
      "545/545 [==============================] - 1s 3ms/step - loss: 43.6784 - val_loss: 8.7573\n",
      "Epoch 5/100\n",
      "545/545 [==============================] - 2s 3ms/step - loss: 26.9992 - val_loss: 8.7010\n",
      "Epoch 6/100\n",
      "545/545 [==============================] - 2s 3ms/step - loss: 17.0262 - val_loss: 8.4798\n",
      "Epoch 7/100\n",
      "545/545 [==============================] - 2s 3ms/step - loss: 11.5673 - val_loss: 7.0730\n",
      "Epoch 8/100\n",
      "545/545 [==============================] - 2s 3ms/step - loss: 10.4436 - val_loss: 5.4466\n",
      "Epoch 9/100\n",
      "545/545 [==============================] - 1s 3ms/step - loss: 7.2844 - val_loss: 5.9916\n",
      "Epoch 10/100\n",
      "545/545 [==============================] - 2s 3ms/step - loss: 6.8098 - val_loss: 5.1633\n",
      "Epoch 11/100\n",
      "545/545 [==============================] - 2s 3ms/step - loss: 5.6385 - val_loss: 7.3819\n",
      "Epoch 12/100\n",
      "545/545 [==============================] - 2s 3ms/step - loss: 4.7637 - val_loss: 4.2359\n",
      "Epoch 13/100\n",
      "545/545 [==============================] - 2s 3ms/step - loss: 4.7070 - val_loss: 5.6384\n",
      "Epoch 14/100\n",
      "545/545 [==============================] - 1s 3ms/step - loss: 4.2853 - val_loss: 4.2627\n",
      "Epoch 15/100\n",
      "545/545 [==============================] - 1s 3ms/step - loss: 4.1362 - val_loss: 4.9743\n",
      "Epoch 16/100\n",
      "545/545 [==============================] - 2s 3ms/step - loss: 3.7439 - val_loss: 4.7107\n",
      "Epoch 17/100\n",
      "545/545 [==============================] - 2s 3ms/step - loss: 3.4195 - val_loss: 4.2160\n",
      "Epoch 18/100\n",
      "545/545 [==============================] - 1s 3ms/step - loss: 3.2292 - val_loss: 3.9615\n",
      "Epoch 19/100\n",
      "545/545 [==============================] - 1s 3ms/step - loss: 3.1059 - val_loss: 3.7065\n",
      "Epoch 20/100\n",
      "545/545 [==============================] - 1s 3ms/step - loss: 2.9455 - val_loss: 4.0988\n",
      "Epoch 21/100\n",
      "545/545 [==============================] - 2s 3ms/step - loss: 2.8096 - val_loss: 3.3075\n",
      "Epoch 22/100\n",
      "545/545 [==============================] - 2s 3ms/step - loss: 2.6948 - val_loss: 3.7801\n",
      "Epoch 23/100\n",
      "545/545 [==============================] - 2s 3ms/step - loss: 2.5214 - val_loss: 2.8132\n",
      "Epoch 24/100\n",
      "545/545 [==============================] - 2s 3ms/step - loss: 2.4574 - val_loss: 2.6101\n",
      "Epoch 25/100\n",
      "545/545 [==============================] - 2s 3ms/step - loss: 2.4057 - val_loss: 2.6600\n",
      "Epoch 26/100\n",
      "545/545 [==============================] - 2s 3ms/step - loss: 2.2584 - val_loss: 2.3433\n",
      "Epoch 27/100\n",
      "545/545 [==============================] - 2s 3ms/step - loss: 2.0951 - val_loss: 2.4736\n",
      "Epoch 28/100\n",
      "545/545 [==============================] - 1s 3ms/step - loss: 1.9597 - val_loss: 2.1794\n",
      "Epoch 29/100\n",
      "545/545 [==============================] - 2s 3ms/step - loss: 1.8540 - val_loss: 1.5329\n",
      "Epoch 30/100\n",
      "545/545 [==============================] - 1s 3ms/step - loss: 1.7857 - val_loss: 1.7254\n",
      "Epoch 31/100\n",
      "545/545 [==============================] - 2s 3ms/step - loss: 1.7217 - val_loss: 1.5774\n",
      "Epoch 32/100\n",
      "545/545 [==============================] - 2s 3ms/step - loss: 1.6829 - val_loss: 1.7286\n",
      "Epoch 33/100\n",
      "545/545 [==============================] - 2s 3ms/step - loss: 1.7353 - val_loss: 1.7070\n",
      "Epoch 34/100\n",
      "545/545 [==============================] - 2s 3ms/step - loss: 1.5755 - val_loss: 1.6878\n",
      "Epoch 35/100\n",
      "545/545 [==============================] - 2s 3ms/step - loss: 1.4876 - val_loss: 1.7807\n",
      "Epoch 36/100\n",
      "545/545 [==============================] - 2s 3ms/step - loss: 1.4266 - val_loss: 1.5715\n",
      "Epoch 37/100\n",
      "545/545 [==============================] - 2s 3ms/step - loss: 1.3726 - val_loss: 1.5734\n",
      "Epoch 38/100\n",
      "545/545 [==============================] - 2s 3ms/step - loss: 1.3439 - val_loss: 1.5411\n",
      "Epoch 39/100\n",
      "545/545 [==============================] - 2s 3ms/step - loss: 1.3252 - val_loss: 1.3862\n",
      "Epoch 40/100\n",
      "545/545 [==============================] - 2s 3ms/step - loss: 1.2911 - val_loss: 1.4355\n",
      "Epoch 41/100\n",
      "545/545 [==============================] - 2s 3ms/step - loss: 1.2982 - val_loss: 1.2704\n",
      "Epoch 42/100\n",
      "545/545 [==============================] - 2s 3ms/step - loss: 1.2701 - val_loss: 1.4581\n",
      "Epoch 43/100\n",
      "545/545 [==============================] - 2s 3ms/step - loss: 1.2568 - val_loss: 1.4022\n",
      "Epoch 44/100\n",
      "545/545 [==============================] - 2s 3ms/step - loss: 1.2584 - val_loss: 1.4636\n",
      "Epoch 45/100\n",
      "545/545 [==============================] - 2s 3ms/step - loss: 1.2554 - val_loss: 1.3754\n",
      "Epoch 46/100\n",
      "545/545 [==============================] - 2s 3ms/step - loss: 1.2575 - val_loss: 1.2908\n",
      "Epoch 47/100\n",
      "545/545 [==============================] - 2s 3ms/step - loss: 1.2075 - val_loss: 1.3100\n",
      "Epoch 48/100\n",
      "545/545 [==============================] - 2s 3ms/step - loss: 1.2227 - val_loss: 1.3399\n",
      "Epoch 49/100\n",
      "545/545 [==============================] - 2s 3ms/step - loss: 1.2183 - val_loss: 1.2493\n",
      "Epoch 50/100\n",
      "545/545 [==============================] - 2s 3ms/step - loss: 1.2175 - val_loss: 1.3011\n",
      "Epoch 51/100\n",
      "545/545 [==============================] - 2s 3ms/step - loss: 1.1967 - val_loss: 1.1152\n",
      "Epoch 52/100\n",
      "545/545 [==============================] - 2s 3ms/step - loss: 1.1993 - val_loss: 1.1361\n",
      "Epoch 53/100\n",
      "545/545 [==============================] - 2s 3ms/step - loss: 1.2010 - val_loss: 1.2387\n",
      "Epoch 54/100\n",
      "545/545 [==============================] - 2s 3ms/step - loss: 1.2038 - val_loss: 1.3166\n",
      "Epoch 55/100\n",
      "545/545 [==============================] - 2s 3ms/step - loss: 1.2100 - val_loss: 1.1863\n",
      "Epoch 56/100\n",
      "545/545 [==============================] - 2s 3ms/step - loss: 1.2025 - val_loss: 1.1038\n",
      "Epoch 57/100\n",
      "545/545 [==============================] - 2s 3ms/step - loss: 1.2468 - val_loss: 1.2618\n",
      "Epoch 58/100\n",
      "545/545 [==============================] - 2s 3ms/step - loss: 1.2359 - val_loss: 1.2766\n",
      "Epoch 59/100\n",
      "545/545 [==============================] - 2s 3ms/step - loss: 1.2452 - val_loss: 1.3196\n",
      "Epoch 60/100\n",
      "545/545 [==============================] - 2s 3ms/step - loss: 1.2335 - val_loss: 1.2639\n",
      "Epoch 61/100\n",
      "545/545 [==============================] - 2s 3ms/step - loss: 1.2314 - val_loss: 1.2183\n",
      "Epoch 62/100\n",
      "545/545 [==============================] - 2s 3ms/step - loss: 1.1928 - val_loss: 1.2425\n",
      "Epoch 63/100\n",
      "545/545 [==============================] - 2s 3ms/step - loss: 1.1896 - val_loss: 1.2239\n",
      "Epoch 64/100\n",
      "545/545 [==============================] - 2s 3ms/step - loss: 1.1904 - val_loss: 1.5258\n",
      "Epoch 65/100\n",
      "545/545 [==============================] - 2s 3ms/step - loss: 1.1756 - val_loss: 1.1162\n",
      "Epoch 66/100\n",
      "545/545 [==============================] - 2s 3ms/step - loss: 1.1884 - val_loss: 1.0083\n",
      "Epoch 67/100\n",
      "545/545 [==============================] - 2s 3ms/step - loss: 1.1982 - val_loss: 1.0850\n",
      "Epoch 68/100\n",
      "545/545 [==============================] - 2s 3ms/step - loss: 1.1643 - val_loss: 1.1252\n",
      "Epoch 69/100\n",
      "545/545 [==============================] - 2s 3ms/step - loss: 1.1609 - val_loss: 1.1246\n",
      "Epoch 70/100\n",
      "545/545 [==============================] - 2s 3ms/step - loss: 1.1948 - val_loss: 1.0690\n",
      "Epoch 71/100\n",
      "545/545 [==============================] - 1s 3ms/step - loss: 1.1799 - val_loss: 1.0949\n",
      "Epoch 72/100\n",
      "545/545 [==============================] - 2s 3ms/step - loss: 1.1673 - val_loss: 0.8965\n",
      "Epoch 73/100\n",
      "545/545 [==============================] - 2s 3ms/step - loss: 1.1521 - val_loss: 0.9008\n",
      "Epoch 74/100\n",
      "545/545 [==============================] - 2s 3ms/step - loss: 1.1660 - val_loss: 1.1898\n",
      "Epoch 75/100\n",
      "545/545 [==============================] - 2s 3ms/step - loss: 1.1859 - val_loss: 1.1332\n",
      "Epoch 76/100\n",
      "545/545 [==============================] - 2s 3ms/step - loss: 1.1580 - val_loss: 1.0531\n",
      "Epoch 77/100\n",
      "545/545 [==============================] - 2s 3ms/step - loss: 1.1409 - val_loss: 0.9265\n",
      "Epoch 78/100\n",
      "545/545 [==============================] - 2s 3ms/step - loss: 1.3031 - val_loss: 1.0103\n",
      "Epoch 79/100\n",
      "545/545 [==============================] - 2s 3ms/step - loss: 1.2626 - val_loss: 1.2724\n",
      "Epoch 80/100\n",
      "545/545 [==============================] - 2s 3ms/step - loss: 1.3099 - val_loss: 1.4518\n",
      "Epoch 81/100\n"
     ]
    },
    {
     "name": "stdout",
     "output_type": "stream",
     "text": [
      "545/545 [==============================] - 2s 3ms/step - loss: 1.4550 - val_loss: 1.4811\n",
      "Epoch 82/100\n",
      "545/545 [==============================] - 2s 3ms/step - loss: 1.4508 - val_loss: 1.0705\n",
      "Epoch 82: early stopping\n"
>>>>>>> f0207d6158218d29b967f220e9c58addbafef23f
     ]
    }
   ],
   "source": [
    "history = model.fit(X_train, log_y, epochs=100, batch_size=16,\n",
    "                    validation_split=0.2, callbacks=[early_stopping])"
   ]
  },
  {
   "cell_type": "code",
<<<<<<< HEAD
   "execution_count": 46,
=======
   "execution_count": 42,
>>>>>>> f0207d6158218d29b967f220e9c58addbafef23f
   "id": "b9a593ed",
   "metadata": {},
   "outputs": [
    {
     "data": {
<<<<<<< HEAD
      "image/png": "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\n",
      "text/plain": [
       "<Figure size 432x288 with 1 Axes>"
      ]
     },
     "metadata": {
      "needs_background": "light"
     },
=======
      "image/png": "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\n",
      "text/plain": [
       "<Figure size 640x480 with 1 Axes>"
      ]
     },
     "metadata": {},
>>>>>>> f0207d6158218d29b967f220e9c58addbafef23f
     "output_type": "display_data"
    }
   ],
   "source": [
    "plt.scatter(x=history.epoch[5:],y=history.history['loss'][5:],label='Training Error')\n",
    "plt.scatter(x=history.epoch[5:],y=history.history['val_loss'][5:],label='Validation Error')\n",
    "plt.grid(True)\n",
    "plt.xlabel('Iteration')\n",
    "plt.ylabel('Loss')\n",
    "plt.title('Training Vs Validation Error')\n",
    "plt.legend()\n",
    "plt.show()"
   ]
  },
  {
   "cell_type": "code",
<<<<<<< HEAD
   "execution_count": 47,
=======
   "execution_count": 43,
>>>>>>> f0207d6158218d29b967f220e9c58addbafef23f
   "id": "3855737d",
   "metadata": {},
   "outputs": [
    {
     "name": "stdout",
     "output_type": "stream",
     "text": [
<<<<<<< HEAD
      "341/341 [==============================] - 0s 603us/step\n",
      "tensorflow RMSLE 값 : 1.5732\n"
=======
      "341/341 [==============================] - 0s 1ms/step\n",
      "tensorflow RMSLE 값 : 1.6675\n"
>>>>>>> f0207d6158218d29b967f220e9c58addbafef23f
     ]
    }
   ],
   "source": [
    "preds = model.predict(X_train)\n",
    "print(f'tensorflow RMSLE 값 : {rmsle(log_y, preds, True):.4f}')"
   ]
  },
  {
   "cell_type": "code",
<<<<<<< HEAD
   "execution_count": 48,
=======
   "execution_count": 44,
>>>>>>> f0207d6158218d29b967f220e9c58addbafef23f
   "id": "ba0ec498",
   "metadata": {},
   "outputs": [
    {
     "name": "stdout",
     "output_type": "stream",
     "text": [
<<<<<<< HEAD
      "203/203 [==============================] - 0s 718us/step\n"
=======
      "203/203 [==============================] - 0s 1ms/step\n"
>>>>>>> f0207d6158218d29b967f220e9c58addbafef23f
     ]
    }
   ],
   "source": [
    "preds_dl = model.predict(X_test).reshape(6493)\n",
    "preds_ensemble = (preds_rf + preds_xgb+preds_dl)/3"
   ]
  },
  {
   "cell_type": "code",
<<<<<<< HEAD
   "execution_count": 49,
=======
   "execution_count": 45,
>>>>>>> f0207d6158218d29b967f220e9c58addbafef23f
   "id": "7a674c11",
   "metadata": {},
   "outputs": [
    {
     "data": {
      "text/plain": [
       "(6493,)"
      ]
     },
<<<<<<< HEAD
     "execution_count": 49,
=======
     "execution_count": 45,
>>>>>>> f0207d6158218d29b967f220e9c58addbafef23f
     "metadata": {},
     "output_type": "execute_result"
    }
   ],
   "source": [
    "preds_ensemble.shape"
   ]
  },
  {
   "cell_type": "code",
<<<<<<< HEAD
   "execution_count": 50,
=======
   "execution_count": 46,
>>>>>>> f0207d6158218d29b967f220e9c58addbafef23f
   "id": "c0409297",
   "metadata": {},
   "outputs": [],
   "source": [
    "submission['count'] = np.exp(preds_ensemble)\n",
    "submission.to_csv('submission.csv', index=False)"
   ]
  }
 ],
 "metadata": {
  "kernelspec": {
   "display_name": "Python 3 (ipykernel)",
   "language": "python",
   "name": "python3"
  },
  "language_info": {
   "codemirror_mode": {
    "name": "ipython",
    "version": 3
   },
   "file_extension": ".py",
   "mimetype": "text/x-python",
   "name": "python",
   "nbconvert_exporter": "python",
   "pygments_lexer": "ipython3",
   "version": "3.10.9"
  },
  "toc": {
   "base_numbering": 1,
   "nav_menu": {},
   "number_sections": true,
   "sideBar": true,
   "skip_h1_title": false,
   "title_cell": "Table of Contents",
   "title_sidebar": "Contents",
   "toc_cell": false,
   "toc_position": {
    "height": "calc(100% - 180px)",
    "left": "10px",
    "top": "150px",
    "width": "341.333px"
   },
   "toc_section_display": true,
   "toc_window_display": false
  }
 },
 "nbformat": 4,
 "nbformat_minor": 5
}
