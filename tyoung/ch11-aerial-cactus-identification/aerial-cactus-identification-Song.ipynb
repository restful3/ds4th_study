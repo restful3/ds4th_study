{
 "cells": [
  {
   "cell_type": "markdown",
   "id": "06119fff",
   "metadata": {},
   "source": [
    "# 경진대회 이해"
   ]
  },
  {
   "cell_type": "markdown",
   "id": "26751aa9",
   "metadata": {},
   "source": [
    "## 개요\n",
    "- 경진대회명 : 항공 사진 내 선인장 식별 경진대회 [링크](https://www.kaggle.com/c/aerial-cactus-identification)\n",
    "- 배경 : \n",
    "    - 기후 변화 때문에 자연이 지속적으로 파괴되는 상황에서, 자연을 보고하고자 멕시코에서 VIGIA라는 프로젝트 진행\n",
    "    - VIGIA는, '자연보호 구역 자율 감시'를 위한 자동 시스템 개발 프로젝트\n",
    "    - 자율 감시를 위해 첫 단계가 보호 구역 내에 초목이 잘 자라는지 확인 하는 작업.\n",
    "    - 드론과 이미지 인식 기술 활용, 항공 사진을 찍고, 그 안에 초목 상태 확인\n",
    "- 문제 유형 : 이진 분류\n",
    "- 평가 지표 : ROC AUC\n",
    "- 제출 시 사용 모델 : CNN\n",
    "- 데이터\n",
    "    - train.zip : 훈련 이미지 데이터 \n",
    "    - test.zip : 테스트 이미지 데이터\n",
    "    - train.csv : 훈련 이미지 데이터 파일 명 및 타깃값(0 or 1, 1은 선인장이 있다.)\n",
    "    - sample_submission.csv : 샘플 제출 파일\n",
    "- 미션 : 항공 사진 내 선인장이 있을 확률 예측"
   ]
  },
  {
   "cell_type": "markdown",
   "id": "1c3e439b",
   "metadata": {},
   "source": [
    "# 탐색적 데이터 분석"
   ]
  },
  {
   "cell_type": "markdown",
   "id": "c1b7868f",
   "metadata": {},
   "source": [
    "## 데이터 둘러보기"
   ]
  },
  {
   "cell_type": "code",
   "execution_count": 2,
   "id": "60c24344",
   "metadata": {},
   "outputs": [],
   "source": [
    "import pandas as pd\n",
    "\n",
    "data_path = '/home/restful3/datasets_local/aerial-cactus-identification/'\n",
    "\n",
    "labels = pd.read_csv(data_path+'train.csv')\n",
    "submission = pd.read_csv(data_path+'sample_submission.csv')"
   ]
  },
  {
   "cell_type": "code",
   "execution_count": 3,
   "id": "2606352e",
   "metadata": {},
   "outputs": [
    {
     "data": {
      "text/html": [
       "<div>\n",
       "<style scoped>\n",
       "    .dataframe tbody tr th:only-of-type {\n",
       "        vertical-align: middle;\n",
       "    }\n",
       "\n",
       "    .dataframe tbody tr th {\n",
       "        vertical-align: top;\n",
       "    }\n",
       "\n",
       "    .dataframe thead th {\n",
       "        text-align: right;\n",
       "    }\n",
       "</style>\n",
       "<table border=\"1\" class=\"dataframe\">\n",
       "  <thead>\n",
       "    <tr style=\"text-align: right;\">\n",
       "      <th></th>\n",
       "      <th>id</th>\n",
       "      <th>has_cactus</th>\n",
       "    </tr>\n",
       "  </thead>\n",
       "  <tbody>\n",
       "    <tr>\n",
       "      <th>0</th>\n",
       "      <td>0004be2cfeaba1c0361d39e2b000257b.jpg</td>\n",
       "      <td>1</td>\n",
       "    </tr>\n",
       "    <tr>\n",
       "      <th>1</th>\n",
       "      <td>000c8a36845c0208e833c79c1bffedd1.jpg</td>\n",
       "      <td>1</td>\n",
       "    </tr>\n",
       "    <tr>\n",
       "      <th>2</th>\n",
       "      <td>000d1e9a533f62e55c289303b072733d.jpg</td>\n",
       "      <td>1</td>\n",
       "    </tr>\n",
       "    <tr>\n",
       "      <th>3</th>\n",
       "      <td>0011485b40695e9138e92d0b3fb55128.jpg</td>\n",
       "      <td>1</td>\n",
       "    </tr>\n",
       "    <tr>\n",
       "      <th>4</th>\n",
       "      <td>0014d7a11e90b62848904c1418fc8cf2.jpg</td>\n",
       "      <td>1</td>\n",
       "    </tr>\n",
       "  </tbody>\n",
       "</table>\n",
       "</div>"
      ],
      "text/plain": [
       "                                     id  has_cactus\n",
       "0  0004be2cfeaba1c0361d39e2b000257b.jpg           1\n",
       "1  000c8a36845c0208e833c79c1bffedd1.jpg           1\n",
       "2  000d1e9a533f62e55c289303b072733d.jpg           1\n",
       "3  0011485b40695e9138e92d0b3fb55128.jpg           1\n",
       "4  0014d7a11e90b62848904c1418fc8cf2.jpg           1"
      ]
     },
     "execution_count": 3,
     "metadata": {},
     "output_type": "execute_result"
    }
   ],
   "source": [
    "# id - 파일 이름\n",
    "# has_cactus : 선인장 유무 (1이 있음)\n",
    "labels.head()"
   ]
  },
  {
   "cell_type": "code",
   "execution_count": 4,
   "id": "cee10d42",
   "metadata": {},
   "outputs": [
    {
     "data": {
      "text/html": [
       "<div>\n",
       "<style scoped>\n",
       "    .dataframe tbody tr th:only-of-type {\n",
       "        vertical-align: middle;\n",
       "    }\n",
       "\n",
       "    .dataframe tbody tr th {\n",
       "        vertical-align: top;\n",
       "    }\n",
       "\n",
       "    .dataframe thead th {\n",
       "        text-align: right;\n",
       "    }\n",
       "</style>\n",
       "<table border=\"1\" class=\"dataframe\">\n",
       "  <thead>\n",
       "    <tr style=\"text-align: right;\">\n",
       "      <th></th>\n",
       "      <th>id</th>\n",
       "      <th>has_cactus</th>\n",
       "    </tr>\n",
       "  </thead>\n",
       "  <tbody>\n",
       "    <tr>\n",
       "      <th>0</th>\n",
       "      <td>000940378805c44108d287872b2f04ce.jpg</td>\n",
       "      <td>0.5</td>\n",
       "    </tr>\n",
       "    <tr>\n",
       "      <th>1</th>\n",
       "      <td>0017242f54ececa4512b4d7937d1e21e.jpg</td>\n",
       "      <td>0.5</td>\n",
       "    </tr>\n",
       "    <tr>\n",
       "      <th>2</th>\n",
       "      <td>001ee6d8564003107853118ab87df407.jpg</td>\n",
       "      <td>0.5</td>\n",
       "    </tr>\n",
       "    <tr>\n",
       "      <th>3</th>\n",
       "      <td>002e175c3c1e060769475f52182583d0.jpg</td>\n",
       "      <td>0.5</td>\n",
       "    </tr>\n",
       "    <tr>\n",
       "      <th>4</th>\n",
       "      <td>0036e44a7e8f7218e9bc7bf8137e4943.jpg</td>\n",
       "      <td>0.5</td>\n",
       "    </tr>\n",
       "  </tbody>\n",
       "</table>\n",
       "</div>"
      ],
      "text/plain": [
       "                                     id  has_cactus\n",
       "0  000940378805c44108d287872b2f04ce.jpg         0.5\n",
       "1  0017242f54ececa4512b4d7937d1e21e.jpg         0.5\n",
       "2  001ee6d8564003107853118ab87df407.jpg         0.5\n",
       "3  002e175c3c1e060769475f52182583d0.jpg         0.5\n",
       "4  0036e44a7e8f7218e9bc7bf8137e4943.jpg         0.5"
      ]
     },
     "execution_count": 4,
     "metadata": {},
     "output_type": "execute_result"
    }
   ],
   "source": [
    "submission.head()"
   ]
  },
  {
   "cell_type": "markdown",
   "id": "1982cb4d",
   "metadata": {},
   "source": [
    "## 데이터 시각화"
   ]
  },
  {
   "cell_type": "markdown",
   "id": "79ef34e3",
   "metadata": {},
   "source": [
    "### 타깃값 분포"
   ]
  },
  {
   "cell_type": "code",
   "execution_count": 6,
   "id": "d7d239ca",
   "metadata": {},
   "outputs": [
    {
     "data": {
      "image/png": "[encoded data removed]",
      "text/plain": [
       "<Figure size 700x700 with 1 Axes>"
      ]
     },
     "metadata": {},
     "output_type": "display_data"
    }
   ],
   "source": [
    "import matplotlib as mpl\n",
    "import matplotlib.pyplot as plt\n",
    "\n",
    "mpl.rc('font', size=15)\n",
    "plt.figure(figsize=(7, 7))\n",
    "\n",
    "label = ['Has cactus', 'Hasn\\'t cactus'] # target label\n",
    "\n",
    "# 3:1 정도로, 선인장이 있는 경우가 더 많다.\n",
    "plt.pie(labels['has_cactus'].value_counts(), labels = label, autopct='%.1f%%');"
   ]
  },
  {
   "cell_type": "markdown",
   "id": "70656654",
   "metadata": {},
   "source": [
    "### 이미지 출력"
   ]
  },
  {
   "cell_type": "code",
   "execution_count": 8,
   "id": "5a567d7c",
   "metadata": {},
   "outputs": [
    {
     "name": "stdout",
     "output_type": "stream",
     "text": [
      "훈련 데이터 개수 : 17500\n",
      "테스트 데이터 개수 : 4000\n"
     ]
    }
   ],
   "source": [
    "import os\n",
    "\n",
    "num_train = len(os.listdir(data_path+'train/'))\n",
    "num_test = len(os.listdir(data_path+'test/'))\n",
    "\n",
    "print(f'훈련 데이터 개수 : {num_train}')\n",
    "print(f'테스트 데이터 개수 : {num_test}')"
   ]
  },
  {
   "cell_type": "code",
   "execution_count": 14,
   "id": "c74bbd88",
   "metadata": {},
   "outputs": [
    {
     "data": {
      "image/png": "[encoded data removed]",
      "text/plain": [
       "<Figure size 1500x600 with 12 Axes>"
      ]
     },
     "metadata": {},
     "output_type": "display_data"
    }
   ],
   "source": [
    "import matplotlib.gridspec as gridspec\n",
    "import cv2\n",
    "\n",
    "mpl.rc('font', size=7)\n",
    "plt.figure(figsize=(15, 6)) # 전체 figure 크기\n",
    "grid = gridspec.GridSpec(2, 6) # 서브플롯 배치 2행 6열\n",
    "\n",
    "# 선인장 포함 이미지 파일명(마지막 12개)\n",
    "last_has_cactus_img_name = labels[labels['has_cactus']==1]['id'][-12:]\n",
    "\n",
    "for idx, img_name in enumerate(last_has_cactus_img_name):\n",
    "    img_path = data_path + 'train/' + img_name # 이미지 파일 경로\n",
    "    image = cv2.imread(img_path) # 파일 읽기\n",
    "    image = cv2.cvtColor(image, cv2.COLOR_BGR2RGB) # cv2는 기본이 BGR 이를 RGB로 변경\n",
    "    ax = plt.subplot(grid[idx])\n",
    "    ax.imshow(image)"
   ]
  },
  {
   "cell_type": "code",
   "execution_count": 15,
   "id": "e592d45b",
   "metadata": {},
   "outputs": [
    {
     "data": {
      "image/png": "[encoded data removed]",
      "text/plain": [
       "<Figure size 1500x600 with 12 Axes>"
      ]
     },
     "metadata": {},
     "output_type": "display_data"
    }
   ],
   "source": [
    "import matplotlib.gridspec as gridspec\n",
    "import cv2\n",
    "\n",
    "mpl.rc('font', size=7)\n",
    "plt.figure(figsize=(15, 6))\n",
    "grid = gridspec.GridSpec(2, 6)\n",
    "\n",
    "last_hasnt_cactus_img_name = labels[labels['has_cactus']==0]['id'][-12:] # 선인장을 포함하지 않는 파일들 마지막 12개\n",
    "\n",
    "for idx, img_name in enumerate(last_hasnt_cactus_img_name):\n",
    "    img_path = data_path + 'train/' + img_name\n",
    "    image = cv2.imread(img_path)\n",
    "    image = cv2.cvtColor(image, cv2.COLOR_BGR2RGB)\n",
    "    ax = plt.subplot(grid[idx])\n",
    "    ax.imshow(image)"
   ]
  },
  {
   "cell_type": "code",
   "execution_count": 16,
   "id": "b9ecfcf6",
   "metadata": {},
   "outputs": [
    {
     "data": {
      "text/plain": [
       "(32, 32, 3)"
      ]
     },
     "execution_count": 16,
     "metadata": {},
     "output_type": "execute_result"
    }
   ],
   "source": [
    "# 32x32 크기의 낮은 해상도\n",
    "image.shape"
   ]
  },
  {
   "cell_type": "markdown",
   "id": "b3e262da",
   "metadata": {},
   "source": [
    "# 분석 정리 및 모델링 전략"
   ]
  },
  {
   "cell_type": "markdown",
   "id": "7a57d3cf",
   "metadata": {},
   "source": [
    "## 분석 정리\n",
    "- csv 파일의 id 피처는 이미지 파일명,\n",
    "- 제공된 이미지 파일들은 낮은 해상도(32x32x3) 컬러 이미지"
   ]
  },
  {
   "cell_type": "markdown",
   "id": "c461f55c",
   "metadata": {},
   "source": [
    "## 모델링 전략\n",
    "- 베이스라인 모델 : 얕은 CNN\n",
    "    - 신경망 구조 : 합성곱 x2, 폴링, 평탄화, 전결합\n",
    "    - 옵티마이저 : SGD\n",
    "- 성능 개선 : 살짝 깊은 CNN\n",
    "    - 데이터 증강 : 다양한 변환기 사용\n",
    "    - 신경망 구조 : 합성곱x5, 배치 정규화, 폴링, 평탄화, 전결합 x2\n",
    "    - 옵티마이저 : Adam\n",
    "    - 기타 : 훈련 에폭수 증가"
   ]
  },
  {
   "cell_type": "markdown",
   "id": "c2622c44",
   "metadata": {},
   "source": [
    "# 베이스라인 모델"
   ]
  },
  {
   "cell_type": "markdown",
   "id": "1932cae4",
   "metadata": {},
   "source": [
    "## 시드값 고정 및 GPU 장비 설정"
   ]
  },
  {
   "cell_type": "markdown",
   "id": "5120aa46",
   "metadata": {},
   "source": [
    "### 시드값 고정"
   ]
  },
  {
   "cell_type": "code",
   "execution_count": 18,
   "id": "648017fb",
   "metadata": {},
   "outputs": [],
   "source": [
    "import torch\n",
    "import random\n",
    "import numpy as np\n",
    "import os\n",
    "\n",
    "# 여러가지 시드값 고정\n",
    "seed = 50\n",
    "os.environ['PYTHONHASHSEED'] = str(seed)\n",
    "random.seed(seed) # 파이썬 난수 생성기 시드 고정\n",
    "np.random.seed(seed) # 넘파이 난수 생성기 시드 고정\n",
    "torch.manual_seed(seed) # 파이토치 난수 생성기 시드 고정 (CPU사용시)\n",
    "torch.cuda.manual_seed(seed) # 파이토치 난수 생성기 시드 고정 (GPU사용시)\n",
    "torch.cuda.manual_seed_all(seed) # 파이토치 난수 생성기 시드 고정 (멀티 GPU사용시)\n",
    "torch.backends.cudnn.deterministic=True # 확정적 연산 사용\n",
    "torch.backends.cudnn.benchmark = False # 벤치마크 기능 해제\n",
    "torch.backends.cudnn.enabled=False # cudnn 사용 해제"
   ]
  },
  {
   "cell_type": "markdown",
   "id": "8c9e7e06",
   "metadata": {},
   "source": [
    "### GPU 장비 설정"
   ]
  },
  {
   "cell_type": "code",
   "execution_count": 19,
   "id": "239dbc55",
   "metadata": {},
   "outputs": [
    {
     "data": {
      "text/plain": [
       "device(type='cuda')"
      ]
     },
     "execution_count": 19,
     "metadata": {},
     "output_type": "execute_result"
    }
   ],
   "source": [
    "if torch.cuda.is_available():\n",
    "    device = torch.device('cuda')\n",
    "else:\n",
    "    device = torch.device('cpu')\n",
    "device    "
   ]
  },
  {
   "cell_type": "markdown",
   "id": "4497c0dc",
   "metadata": {},
   "source": [
    "## 데이터 준비\n",
    "\n",
    "<img src='../img/ch11_fig1.png'>"
   ]
  },
  {
   "cell_type": "code",
   "execution_count": 20,
   "id": "701b17b4",
   "metadata": {},
   "outputs": [],
   "source": [
    "import pandas as pd\n",
    "\n",
    "data_path = '/home/restful3/datasets_local/aerial-cactus-identification/'\n",
    "\n",
    "labels = pd.read_csv(data_path+'train.csv')\n",
    "submission = pd.read_csv(data_path+'sample_submission.csv')"
   ]
  },
  {
   "cell_type": "markdown",
   "id": "81e1fa81",
   "metadata": {},
   "source": [
    "### 훈련 데이터, 검증 데이터 분리"
   ]
  },
  {
   "cell_type": "code",
   "execution_count": 23,
   "id": "b541dcab",
   "metadata": {},
   "outputs": [],
   "source": [
    "from sklearn.model_selection import train_test_split\n",
    "\n",
    "train, valid = train_test_split(labels, test_size=0.1, stratify=labels['has_cactus'], random_state=50)"
   ]
  },
  {
   "cell_type": "code",
   "execution_count": 24,
   "id": "2883e1c8",
   "metadata": {},
   "outputs": [
    {
     "name": "stdout",
     "output_type": "stream",
     "text": [
      "훈련 데이터 개수 : 15750\n",
      "검증 데이터 개수 : 1750\n"
     ]
    }
   ],
   "source": [
    "print(f'훈련 데이터 개수 : {len(train)}')\n",
    "print(f'검증 데이터 개수 : {len(valid)}')"
   ]
  },
  {
   "cell_type": "markdown",
   "id": "8d34a47c",
   "metadata": {},
   "source": [
    "### 데이터셋 클래스 정의"
   ]
  },
  {
   "cell_type": "code",
   "execution_count": 40,
   "id": "a99a5a56",
   "metadata": {},
   "outputs": [],
   "source": [
    "import cv2\n",
    "from torch.utils.data import Dataset\n",
    "\n",
    "class ImageDataset(Dataset):\n",
    "    # 생성자\n",
    "    def __init__(self, df, img_dir='./', transform=None):\n",
    "        super().__init__() # 상속 받은 Dataset 클래스의 생성자 호출\n",
    "        self.df = df\n",
    "        self.img_dir = img_dir\n",
    "        self.transform = transform\n",
    "        \n",
    "    # 데이터셋 크기 변환 메서드\n",
    "    def __len__(self):\n",
    "        return len(self.df)\n",
    "    \n",
    "    # 인덱스에 해당하는 데이터 변환 메서드\n",
    "    def __getitem__(self, idx):\n",
    "        img_id = self.df.iloc[idx, 0] # 이미지 id\n",
    "        img_path = self.img_dir + img_id # 이미지 파일 경로\n",
    "        image = cv2.cvtColor(cv2.imread(img_path), cv2.COLOR_BGR2RGB) # 파일 열어서 색상 보정\n",
    "        label = self.df.iloc[idx, 1] # 이미지 레이블\n",
    "        \n",
    "        if self.transform is not None:\n",
    "            image = self.transform(image) # 변환기가 있다면 변환\n",
    "        return image, label"
   ]
  },
  {
   "cell_type": "markdown",
   "id": "bda4594d",
   "metadata": {},
   "source": [
    "### 데이터셋 생성"
   ]
  },
  {
   "cell_type": "code",
   "execution_count": 41,
   "id": "7f90f6a0",
   "metadata": {},
   "outputs": [],
   "source": [
    "from torchvision import transforms # 이미지 변환을 위한 모듈\n",
    "\n",
    "transform = transforms.ToTensor() # 이미지를 텐서로 변환 32x32x3 --> 3x32x32"
   ]
  },
  {
   "cell_type": "code",
   "execution_count": 42,
   "id": "2f42bc2f",
   "metadata": {},
   "outputs": [],
   "source": [
    "# train, valid 별 따로 변환기 만들어 줌 (뒤에 test 용도 만듦)\n",
    "dataset_train = ImageDataset(df=train, img_dir=data_path+'train/', transform=transform)\n",
    "dataset_valid = ImageDataset(df=valid, img_dir=data_path+'train/', transform=transform)"
   ]
  },
  {
   "cell_type": "markdown",
   "id": "fb8b6684",
   "metadata": {},
   "source": [
    "### 데이터 로더 생성"
   ]
  },
  {
   "cell_type": "code",
   "execution_count": 43,
   "id": "f53924be",
   "metadata": {},
   "outputs": [],
   "source": [
    "from torch.utils.data import DataLoader # 데이터 로더 클래스\n",
    "\n",
    "# dataset : 앞서 만든 이미지 데이터셋\n",
    "# batch_size : 배치 크기\n",
    "# shuffle : valid, test는 False 임에 주의\n",
    "# num_workers : 주어신 cpu의 코어수에 맞춰 설정, 클 수록 빨리 불러옴\n",
    "loader_train = DataLoader(dataset=dataset_train, batch_size=32, shuffle=True, num_workers=8)\n",
    "loader_valid = DataLoader(dataset=dataset_valid, batch_size=32, shuffle=False, num_workers=8)"
   ]
  },
  {
   "cell_type": "markdown",
   "id": "4f083148",
   "metadata": {},
   "source": [
    "## 모델 생성\n",
    "\n",
    "<img src='../img/ch11_fig2.png'>"
   ]
  },
  {
   "cell_type": "code",
   "execution_count": 2,
   "id": "97d748f3",
   "metadata": {},
   "outputs": [],
   "source": [
    "import torch.nn as nn # 신경망 모듈\n",
    "import torch.nn.functional as F # 신경망 모듈에서 자주 사용되는 함수 모음"
   ]
  },
  {
   "cell_type": "markdown",
   "id": "5f235859",
   "metadata": {},
   "source": [
    "<img src='../img/ch11_fig3.png'>\n",
    "<img src='../img/ch11_fig4.png'>"
   ]
  },
  {
   "cell_type": "code",
   "execution_count": 45,
   "id": "e9a00a9d",
   "metadata": {},
   "outputs": [],
   "source": [
    "class Model(nn.Module):\n",
    "    # 신경망 계층 정의\n",
    "    def __init__(self):\n",
    "        super().__init__() # 상속받은 nn.Module의 생성자 호출\n",
    "        self.conv1 = nn.Conv2d(in_channels=3, out_channels=32, kernel_size=3, padding=2)\n",
    "        self.conv2 = nn.Conv2d(in_channels=32, out_channels=64, kernel_size=3, padding=2)\n",
    "        self.max_pool = nn.MaxPool2d(kernel_size=2)\n",
    "        self.avg_pool = nn.AvgPool2d(kernel_size=2)\n",
    "        self.fc = nn.Linear(in_features=64*4*4, out_features =2)\n",
    "        \n",
    "    def forward(self, x):\n",
    "        x = self.max_pool(F.relu(self.conv1(x)))\n",
    "        x = self.max_pool(F.relu(self.conv2(x)))        \n",
    "        x = self.avg_pool(x)\n",
    "        x = x.view(-1, 64*4*4) # 평탄화, 32를 3번 반으로 나눔 (2^3 = 8, 4*8 = 32)\n",
    "        x = self.fc(x)\n",
    "        return x"
   ]
  },
  {
   "cell_type": "code",
   "execution_count": 46,
   "id": "1199a60d",
   "metadata": {},
   "outputs": [],
   "source": [
    "model = Model().to(device)"
   ]
  },
  {
   "cell_type": "markdown",
   "id": "42d3a9f3",
   "metadata": {},
   "source": [
    "### Model 클래스를 정의하는 또 다른 방법"
   ]
  },
  {
   "cell_type": "code",
   "execution_count": null,
   "id": "3e91958e",
   "metadata": {},
   "outputs": [],
   "source": [
    "class Model(nn.Module):\n",
    "    def __init__(self):\n",
    "        super().__init__()\n",
    "        self.layer1 = nn.Sequential(nn.Conv2d(in_channels=3, out_channels=32, kernel_size=3, padding=2),\n",
    "                                   nn.ReLU(), nn.MaxPool2d(kernel_size=2))\n",
    "        self.layer2 = nn.Sequential(nn.Conv2d(in_channels=32, out_channels=64, kernel_size=3, padding=2),\n",
    "                                   nn.ReLU(), nn.MaxPool2d(kernel_size=2))  \n",
    "        self.avg_pool = nn.AvgPool2d(kernel_size=2)\n",
    "        self.fc = nn.Linear(in_features=64*4*4, out_features =2)     \n",
    "        \n",
    "    def forward(self, x):\n",
    "        x = self.layer1(x)\n",
    "        x = self.layer2(x)\n",
    "        x = self.avg_pool(x)\n",
    "        x = x.view(-1, 64*4*4)\n",
    "        x = self.fc(x)\n",
    "        return x        "
   ]
  },
  {
   "cell_type": "markdown",
   "id": "aa007321",
   "metadata": {},
   "source": [
    "## 모델 훈련"
   ]
  },
  {
   "cell_type": "markdown",
   "id": "01ca716b",
   "metadata": {},
   "source": [
    "### 손실 함수 설정\n",
    "- 신경망 모델 훈련은 가중치를 갱신하는 작업\n",
    "- 가중치 갱신은, 예측값과 실젯값의 손실이 작아지는 방향으로 이루어짐\n",
    "- 손실값을 구하는 함수가 손실 함수 임\n",
    "- [교차 엔트로피(Cross Entropy)](https://yeong-jin-data-blog.tistory.com/entry/%EA%B5%90%EC%B0%A8-%EC%97%94%ED%8A%B8%EB%A1%9C%ED%94%BCCross-Entropy#:~:text=%E2%9C%85%20%EA%B5%90%EC%B0%A8%20%EC%97%94%ED%8A%B8%EB%A1%9C%ED%94%BC&text=%EC%A0%95%EC%9D%98%20%3A%20%EC%97%94%ED%8A%B8%EB%A1%9C%ED%94%BC%EB%8A%94%20%ED%95%98%EB%82%98%EC%9D%98,%EB%93%A4%EC%9D%98%20%EC%B0%A8%EC%9D%B4%EB%A5%BC%20%EC%9D%98%EB%AF%B8%ED%95%A8.)\n",
    "- [Binary Cross Entropy 와 Cross Entropy 의 차이](https://wooono.tistory.com/387)"
   ]
  },
  {
   "cell_type": "code",
   "execution_count": 47,
   "id": "d17a2797",
   "metadata": {},
   "outputs": [],
   "source": [
    "criterion = nn.CrossEntropyLoss()"
   ]
  },
  {
   "cell_type": "markdown",
   "id": "b38ef8d6",
   "metadata": {},
   "source": [
    "### 옵티마이저 설정\n",
    "- 옵티마이저는 최적 가중치를 찾아주는 알고리즘\n",
    "- SGD는, 경사 하강법을 이용한 기본 옵티마이저"
   ]
  },
  {
   "cell_type": "code",
   "execution_count": 48,
   "id": "24d06968",
   "metadata": {},
   "outputs": [],
   "source": [
    "optimizer = torch.optim.SGD(model.parameters(), lr=0.01)"
   ]
  },
  {
   "cell_type": "markdown",
   "id": "b6e2fb17",
   "metadata": {},
   "source": [
    "### 모델 훈련"
   ]
  },
  {
   "cell_type": "code",
   "execution_count": 49,
   "id": "9f68d4d7",
   "metadata": {},
   "outputs": [
    {
     "name": "stdout",
     "output_type": "stream",
     "text": [
      "에폭 [1/10] -  손실값 : 0.5271\n",
      "에폭 [2/10] -  손실값 : 0.3634\n",
      "에폭 [3/10] -  손실값 : 0.2510\n",
      "에폭 [4/10] -  손실값 : 0.1949\n",
      "에폭 [5/10] -  손실값 : 0.1747\n",
      "에폭 [6/10] -  손실값 : 0.1584\n",
      "에폭 [7/10] -  손실값 : 0.1463\n",
      "에폭 [8/10] -  손실값 : 0.1422\n",
      "에폭 [9/10] -  손실값 : 0.1306\n",
      "에폭 [10/10] -  손실값 : 0.1269\n"
     ]
    }
   ],
   "source": [
    "epochs = 10 # 총 에폭\n",
    "\n",
    "# 총 에폭만큼 반복\n",
    "for epoch in range(epochs):\n",
    "    epoch_loss = 0 # 에폭 별 손실값 초기화\n",
    "    \n",
    "    # 반복 횟수 만큼 반복\n",
    "    for images, labels in loader_train:\n",
    "        # 이미지, 레이블를 device에 적용 (CPU OR GPU)\n",
    "        images = images.to(device)\n",
    "        labels = labels.to(device)\n",
    "        \n",
    "        # 옵티마이저 내 기울기 초기화\n",
    "        optimizer.zero_grad()\n",
    "        # 순전파 : 이미지 데이터를 신경망 모델의 입력값으로 사용해 출력값 계산\n",
    "        outputs = model(images)\n",
    "        # 손실 함수를 활용, outputs와 labels의 손실값 계산\n",
    "        loss = criterion(outputs, labels)\n",
    "        # 현재 배치에서의 손실 추가\n",
    "        epoch_loss += loss.item()\n",
    "        # 역전파 수행\n",
    "        loss.backward()\n",
    "\n",
    "        # 가중치 갱신 : 기존 가중치 - (학습률x기울기)\n",
    "        optimizer.step()\n",
    "    # 훈련 데이터 손실값 출력\n",
    "    print(f'에폭 [{epoch+1}/{epochs}] -  손실값 : {epoch_loss/len(loader_train):.4f}')"
   ]
  },
  {
   "cell_type": "markdown",
   "id": "3998c8aa",
   "metadata": {},
   "source": [
    "### 에폭 vs. 배치 크기 vs. 반복 횟수\n",
    "\n",
    "<img src=\"../img/ch11_fig5.png\">\n",
    "\n",
    "- 에폭 : 훈련 데이터 전체를 한번 훑었음\n",
    "- 배치 크기 : 매 훈련 이터레이션에서 한 번에 훈련할 데이터 개수\n",
    "- 반복 횟수 : 1 에폭의 훈련을 완료하기 위해 필요한 훈련 이터레이션, 훈련 데이터 개수 / 배치 크기"
   ]
  },
  {
   "cell_type": "markdown",
   "id": "14c0bf76",
   "metadata": {},
   "source": [
    "## 성능 검증"
   ]
  },
  {
   "cell_type": "code",
   "execution_count": 57,
   "id": "2156525e",
   "metadata": {},
   "outputs": [],
   "source": [
    "from sklearn.metrics import roc_auc_score\n",
    "\n",
    "true_list = []\n",
    "preds_list = []"
   ]
  },
  {
   "cell_type": "code",
   "execution_count": 58,
   "id": "ed6f2e42",
   "metadata": {},
   "outputs": [
    {
     "name": "stdout",
     "output_type": "stream",
     "text": [
      "검증 데이터 roc auc : 0.9896\n"
     ]
    }
   ],
   "source": [
    "# 모델을 평가 상태로 설정\n",
    "model.eval()\n",
    "\n",
    "with torch.no_grad(): # 기울기 계산 비활성화\n",
    "    for images, labels in loader_valid:\n",
    "        images = images.to(device)\n",
    "        labels = labels.to(device)\n",
    "        # 순전파 : 이미지 데이터를 신경망 모델의 입력값으로 사용해 출력값 계산\n",
    "        outputs = model(images)\n",
    "        preds = torch.softmax(outputs.cpu(), dim=1)[:, 1] # 예측 확률\n",
    "        true = labels.cpu() # 계산을 하기 위해 CPU로 설정\n",
    "        preds_list += preds # 예측값\n",
    "        true_list += true # 실젯값\n",
    "\n",
    "# 검증 데이터 ROC AUC 점수 계산\n",
    "print(f'검증 데이터 roc auc : {roc_auc_score(true_list, preds_list):.4f}')"
   ]
  },
  {
   "cell_type": "markdown",
   "id": "7b753562",
   "metadata": {},
   "source": [
    "## 예측 및 결과 제출"
   ]
  },
  {
   "cell_type": "code",
   "execution_count": 59,
   "id": "9b1f21a7",
   "metadata": {},
   "outputs": [],
   "source": [
    "dataset_test = ImageDataset(df=submission, img_dir=data_path+'test/', transform=transform)\n",
    "loader_test = DataLoader(dataset=dataset_test, batch_size=32, shuffle=False)"
   ]
  },
  {
   "cell_type": "markdown",
   "id": "b1ce8b6b",
   "metadata": {},
   "source": [
    "### 예측"
   ]
  },
  {
   "cell_type": "code",
   "execution_count": 66,
   "id": "2db0b3c5",
   "metadata": {},
   "outputs": [],
   "source": [
    "# 모델을 평가 상태로 설정\n",
    "model.eval()\n",
    "\n",
    "preds = []\n",
    "\n",
    "with torch.no_grad(): # 기울기 계산 비활성화\n",
    "    for images, _ in loader_test:\n",
    "        images = images.to(device)\n",
    "        # 순전파 : 이미지 데이터를 신경망 모델의 입력값으로 사용해 출력값 계산\n",
    "        outputs = model(images)\n",
    "        preds_part = torch.softmax(outputs.cpu(), dim=1)[:, 1].tolist() # 예측 확률, tolist : 텐서를 리스트 타입으로\n",
    "        preds += preds_part"
   ]
  },
  {
   "cell_type": "code",
   "execution_count": 68,
   "id": "5046a20b",
   "metadata": {},
   "outputs": [],
   "source": [
    "submission['has_cactus'] = preds\n",
    "submission.to_csv('submission_1.csv', index=False)"
   ]
  },
  {
   "cell_type": "markdown",
   "id": "8c47b56e",
   "metadata": {},
   "source": [
    "### 결과 제출"
   ]
  },
  {
   "cell_type": "markdown",
   "id": "e9c07d30",
   "metadata": {},
   "source": [
    "# 성능 개선\n",
    "- 다양한 이미지 변환 수행 \n",
    "- 더 깊은 CNN 모델 \n",
    "- 더 뛰어난 옵티마이저 사용\n",
    "- 훈련 시 에폭 수 늘림\n",
    "\n",
    "<img src='../img/ch11_fig6.png'>"
   ]
  },
  {
   "cell_type": "markdown",
   "id": "223ce95d",
   "metadata": {},
   "source": [
    "## 데이터 준비"
   ]
  },
  {
   "cell_type": "code",
   "execution_count": 26,
   "id": "0b654e1b",
   "metadata": {},
   "outputs": [],
   "source": [
    "import torch\n",
    "import random\n",
    "import numpy as np\n",
    "import os\n",
    "\n",
    "seed = 50\n",
    "os.environ['PYTHONHASHSEED'] = str(seed)\n",
    "random.seed(seed)\n",
    "np.random.seed(seed)\n",
    "torch.manual_seed(seed)\n",
    "torch.cuda.manual_seed(seed)\n",
    "torch.cuda.manual_seed_all(seed)\n",
    "torch.backends.cudnn.deterministic=True\n",
    "torch.backends.cudnn.enabled=False"
   ]
  },
  {
   "cell_type": "code",
   "execution_count": 27,
   "id": "ac943ade",
   "metadata": {},
   "outputs": [
    {
     "data": {
      "text/plain": [
       "device(type='cuda')"
      ]
     },
     "execution_count": 27,
     "metadata": {},
     "output_type": "execute_result"
    }
   ],
   "source": [
    "if torch.cuda.is_available():\n",
    "    device = torch.device('cuda')\n",
    "else:\n",
    "    device = torch.device('cpu')\n",
    "device    "
   ]
  },
  {
   "cell_type": "code",
   "execution_count": 54,
   "id": "69eb3bba",
   "metadata": {},
   "outputs": [],
   "source": [
    "import pandas as pd\n",
    "\n",
    "data_path = '/home/restful3/datasets_local/aerial-cactus-identification/'\n",
    "\n",
    "labels = pd.read_csv(data_path+'train.csv')\n",
    "submission = pd.read_csv(data_path+'sample_submission.csv')"
   ]
  },
  {
   "cell_type": "code",
   "execution_count": 55,
   "id": "efb0013f",
   "metadata": {},
   "outputs": [],
   "source": [
    "from sklearn.model_selection import train_test_split\n",
    "\n",
    "train, valid = train_test_split(labels, test_size=0.1, stratify=labels['has_cactus'], random_state=50)"
   ]
  },
  {
   "cell_type": "markdown",
   "id": "6483a52a",
   "metadata": {},
   "source": [
    "### 이미지 변환과 데이터 증강"
   ]
  },
  {
   "cell_type": "markdown",
   "id": "628f475f",
   "metadata": {},
   "source": [
    "- Compose() : 여러 변환기를 묶음\n",
    "- ToTensor() : PIL 이미지나 ndarray를 텐서로 변환\n",
    "- Pad() : 이미지 주변에 패딩 추가\n",
    "- RandomHorizontalFlip() : 이미지를 무작위로 좌우 대칭 변환\n",
    "- RandomVerticalFlip() : 상하 대칭 변환\n",
    "- RandomRotation() : 이미지를 무작위로 회전\n",
    "- Normalize() : 텐서 형태의 이미지 데이터를 정규화"
   ]
  },
  {
   "cell_type": "markdown",
   "id": "3a463c92",
   "metadata": {},
   "source": [
    "### 이미지 변환기 정의\n",
    "\n",
    "<img src='../img/ch11_fig7.png'>"
   ]
  },
  {
   "cell_type": "code",
   "execution_count": 30,
   "id": "03338ed3",
   "metadata": {},
   "outputs": [],
   "source": [
    "from torchvision import transforms # 이미지 변환을 위한 모듈\n",
    "\n",
    "transform_train = transforms.Compose(\n",
    "    [transforms.ToTensor(), # 이미지를 텐서 객체로\n",
    "    transforms.Pad(32, padding_mode='symmetric'), # 이미지 주변에 패팅, 32x32 --> 96x96\n",
    "    transforms.RandomHorizontalFlip(),\n",
    "    transforms.RandomVerticalFlip(),\n",
    "    transforms.RandomRotation(10),\n",
    "    transforms.Normalize((0.485, 0.456, 0.486), \n",
    "                         (0.229, 0.224, 0.225))] #imagenet의 데이터들을 기반으로 정규화를 위한 기준 값 추출\n",
    ")\n",
    "\n",
    "transform_test = transforms.Compose(\n",
    "    [transforms.ToTensor(),\n",
    "    transforms.Pad(32, padding_mode='symmetric'),\n",
    "    transforms.Normalize((0.485, 0.456, 0.486), \n",
    "                         (0.229, 0.224, 0.225))]\n",
    ")"
   ]
  },
  {
   "cell_type": "markdown",
   "id": "f328d560",
   "metadata": {},
   "source": [
    "### 데이터셋 및 데이터 로더 생성"
   ]
  },
  {
   "cell_type": "code",
   "execution_count": 65,
   "id": "977d30ff",
   "metadata": {},
   "outputs": [],
   "source": [
    "import cv2\n",
    "from torch.utils.data import Dataset\n",
    "\n",
    "class ImageDataset(Dataset):\n",
    "    def __init__(self, df, img_dir='./', transform=None):\n",
    "        super().__init__()\n",
    "        self.df = df\n",
    "        self.img_dir = img_dir\n",
    "        self.transform = transform\n",
    "        \n",
    "    def __len__(self):\n",
    "        return len(self.df)\n",
    "    \n",
    "    def __getitem__(self, idx):\n",
    "        img_id = self.df.iloc[idx, 0]\n",
    "        img_path = self.img_dir + img_id\n",
    "        image = cv2.imread(img_path)\n",
    "#         print(img_path, image.shape)\n",
    "        image = cv2.cvtColor(image, cv2.COLOR_BGR2RGB)\n",
    "        label = self.df.iloc[idx, 1]\n",
    "        \n",
    "        if self.transform is not None:\n",
    "            image = self.transform(image)\n",
    "        return image, label\n",
    "        "
   ]
  },
  {
   "cell_type": "code",
   "execution_count": 66,
   "id": "4620fda8",
   "metadata": {},
   "outputs": [],
   "source": [
    "dataset_train = ImageDataset(df=train, img_dir=data_path+'train/',\n",
    "                            transform=transform_train)\n",
    "dataset_valid = ImageDataset(df=valid, img_dir=data_path+'train/',\n",
    "                            transform=transform_test)"
   ]
  },
  {
   "cell_type": "code",
   "execution_count": 67,
   "id": "1d149199",
   "metadata": {},
   "outputs": [],
   "source": [
    "from torch.utils.data import DataLoader\n",
    "\n",
    "loader_train = DataLoader(dataset=dataset_train, batch_size=32, shuffle=True)\n",
    "loader_valid = DataLoader(dataset=dataset_valid, batch_size=32, shuffle=False)"
   ]
  },
  {
   "cell_type": "markdown",
   "id": "9a54a646",
   "metadata": {},
   "source": [
    "## 모델 생성\n",
    "\n",
    "<img src='../img/ch11_fig8.png'>"
   ]
  },
  {
   "cell_type": "code",
   "execution_count": 68,
   "id": "19e8d17c",
   "metadata": {},
   "outputs": [],
   "source": [
    "import torch.nn as nn #신경망 모듈\n",
    "import torch.nn.functional as F #유용한 함수 모음\n",
    "\n",
    "class Model(nn.Module):\n",
    "    # 신경망 계층 정의\n",
    "    def __init__(self):\n",
    "        super().__init__() # nn.Module의 생성자\n",
    "        # 1~5번째 레이어 (합성곱, 배치 정규화, 최대 풀링)\n",
    "        self.layer1 = nn.Sequential(nn.Conv2d(in_channels=3, out_channels=32, \n",
    "                                              kernel_size=3, padding=2),\n",
    "                                    nn.BatchNorm2d(32),\n",
    "                                    nn.LeakyReLU(),\n",
    "                                    nn.MaxPool2d(kernel_size=2))\n",
    "        \n",
    "        self.layer2 = nn.Sequential(nn.Conv2d(in_channels=32, out_channels=64, \n",
    "                                              kernel_size=3, padding=2),\n",
    "                                    nn.BatchNorm2d(64),\n",
    "                                    nn.LeakyReLU(),\n",
    "                                    nn.MaxPool2d(kernel_size=2))\n",
    "\n",
    "        self.layer3 = nn.Sequential(nn.Conv2d(in_channels=64, out_channels=128, \n",
    "                                              kernel_size=3, padding=2),\n",
    "                                    nn.BatchNorm2d(128),\n",
    "                                    nn.LeakyReLU(),\n",
    "                                    nn.MaxPool2d(kernel_size=2))\n",
    " \n",
    "\n",
    "        self.layer4 = nn.Sequential(nn.Conv2d(in_channels=128, out_channels=256, \n",
    "                                              kernel_size=3, padding=2),\n",
    "                                    nn.BatchNorm2d(256),\n",
    "                                    nn.LeakyReLU(),\n",
    "                                    nn.MaxPool2d(kernel_size=2))\n",
    "\n",
    "        self.layer5 = nn.Sequential(nn.Conv2d(in_channels=256, out_channels=512, \n",
    "                                              kernel_size=3, padding=2),\n",
    "                                    nn.BatchNorm2d(512),\n",
    "                                    nn.LeakyReLU(),\n",
    "                                    nn.MaxPool2d(kernel_size=2))\n",
    "        \n",
    "        \n",
    "        self.avg_pool = nn.AvgPool2d(kernel_size=4)\n",
    "        \n",
    "        self.fc1 = nn.Linear(in_features=512*1*1, out_features = 64)     \n",
    "        self.fc2 = nn.Linear(in_features=64, out_features = 2)             \n",
    "    \n",
    "    # 순전파 출력 정의\n",
    "    def forward(self, x):\n",
    "        x = self.layer1(x)\n",
    "        x = self.layer2(x)\n",
    "        x = self.layer3(x)\n",
    "        x = self.layer4(x)\n",
    "        x = self.layer5(x)\n",
    "        x = self.avg_pool(x)\n",
    "        x = x.view(-1, 512*1*1) # 평탄화 96 -> 49 -> 25 -> 13 -> 7 -> 4 -> 1\n",
    "        x = self.fc1(x)\n",
    "        x = self.fc2(x)        \n",
    "        return x        "
   ]
  },
  {
   "cell_type": "code",
   "execution_count": 69,
   "id": "8e3a3a16",
   "metadata": {},
   "outputs": [],
   "source": [
    "model = Model().to(device)"
   ]
  },
  {
   "cell_type": "markdown",
   "id": "b90bc18e",
   "metadata": {},
   "source": [
    "## 모델 훈련"
   ]
  },
  {
   "cell_type": "markdown",
   "id": "8279269a",
   "metadata": {},
   "source": [
    "### 손실 함수와 옵티마어저 설정"
   ]
  },
  {
   "cell_type": "code",
   "execution_count": 70,
   "id": "16c07204",
   "metadata": {},
   "outputs": [],
   "source": [
    "criterion = nn.CrossEntropyLoss()"
   ]
  },
  {
   "cell_type": "code",
   "execution_count": 71,
   "id": "05927b02",
   "metadata": {},
   "outputs": [],
   "source": [
    "# Adam의 개량형\n",
    "optimizer = torch.optim.Adamax(model.parameters(), lr=0.00006)"
   ]
  },
  {
   "cell_type": "markdown",
   "id": "7e95ca65",
   "metadata": {},
   "source": [
    "### 모델 훈련"
   ]
  },
  {
   "cell_type": "code",
   "execution_count": 73,
   "id": "cea36363",
   "metadata": {
    "scrolled": false
   },
   "outputs": [
    {
     "name": "stdout",
     "output_type": "stream",
     "text": [
      "에폭 [1/70] -  손실값 : 0.0235\n",
      "에폭 [2/70] -  손실값 : 0.0225\n",
      "에폭 [3/70] -  손실값 : 0.0216\n",
      "에폭 [4/70] -  손실값 : 0.0182\n",
      "에폭 [5/70] -  손실값 : 0.0181\n",
      "에폭 [6/70] -  손실값 : 0.0169\n",
      "에폭 [7/70] -  손실값 : 0.0181\n",
      "에폭 [8/70] -  손실값 : 0.0159\n",
      "에폭 [9/70] -  손실값 : 0.0148\n",
      "에폭 [10/70] -  손실값 : 0.0136\n",
      "에폭 [11/70] -  손실값 : 0.0155\n",
      "에폭 [12/70] -  손실값 : 0.0131\n",
      "에폭 [13/70] -  손실값 : 0.0145\n",
      "에폭 [14/70] -  손실값 : 0.0112\n",
      "에폭 [15/70] -  손실값 : 0.0126\n",
      "에폭 [16/70] -  손실값 : 0.0119\n",
      "에폭 [17/70] -  손실값 : 0.0116\n",
      "에폭 [18/70] -  손실값 : 0.0115\n",
      "에폭 [19/70] -  손실값 : 0.0098\n",
      "에폭 [20/70] -  손실값 : 0.0105\n",
      "에폭 [21/70] -  손실값 : 0.0095\n",
      "에폭 [22/70] -  손실값 : 0.0098\n",
      "에폭 [23/70] -  손실값 : 0.0084\n",
      "에폭 [24/70] -  손실값 : 0.0094\n",
      "에폭 [25/70] -  손실값 : 0.0081\n",
      "에폭 [26/70] -  손실값 : 0.0092\n",
      "에폭 [27/70] -  손실값 : 0.0085\n",
      "에폭 [28/70] -  손실값 : 0.0087\n",
      "에폭 [29/70] -  손실값 : 0.0089\n",
      "에폭 [30/70] -  손실값 : 0.0077\n",
      "에폭 [31/70] -  손실값 : 0.0081\n",
      "에폭 [32/70] -  손실값 : 0.0077\n",
      "에폭 [33/70] -  손실값 : 0.0061\n",
      "에폭 [34/70] -  손실값 : 0.0079\n",
      "에폭 [35/70] -  손실값 : 0.0069\n",
      "에폭 [36/70] -  손실값 : 0.0076\n",
      "에폭 [37/70] -  손실값 : 0.0068\n",
      "에폭 [38/70] -  손실값 : 0.0064\n",
      "에폭 [39/70] -  손실값 : 0.0063\n",
      "에폭 [40/70] -  손실값 : 0.0066\n",
      "에폭 [41/70] -  손실값 : 0.0053\n",
      "에폭 [42/70] -  손실값 : 0.0059\n",
      "에폭 [43/70] -  손실값 : 0.0073\n",
      "에폭 [44/70] -  손실값 : 0.0054\n",
      "에폭 [45/70] -  손실값 : 0.0041\n",
      "에폭 [46/70] -  손실값 : 0.0046\n",
      "에폭 [47/70] -  손실값 : 0.0062\n",
      "에폭 [48/70] -  손실값 : 0.0051\n",
      "에폭 [49/70] -  손실값 : 0.0050\n",
      "에폭 [50/70] -  손실값 : 0.0033\n",
      "에폭 [51/70] -  손실값 : 0.0057\n",
      "에폭 [52/70] -  손실값 : 0.0058\n",
      "에폭 [53/70] -  손실값 : 0.0046\n",
      "에폭 [54/70] -  손실값 : 0.0041\n",
      "에폭 [55/70] -  손실값 : 0.0042\n",
      "에폭 [56/70] -  손실값 : 0.0045\n",
      "에폭 [57/70] -  손실값 : 0.0046\n",
      "에폭 [58/70] -  손실값 : 0.0039\n",
      "에폭 [59/70] -  손실값 : 0.0044\n",
      "에폭 [60/70] -  손실값 : 0.0035\n",
      "에폭 [61/70] -  손실값 : 0.0041\n",
      "에폭 [62/70] -  손실값 : 0.0050\n",
      "에폭 [63/70] -  손실값 : 0.0034\n",
      "에폭 [64/70] -  손실값 : 0.0044\n",
      "에폭 [65/70] -  손실값 : 0.0027\n",
      "에폭 [66/70] -  손실값 : 0.0044\n",
      "에폭 [67/70] -  손실값 : 0.0032\n",
      "에폭 [68/70] -  손실값 : 0.0032\n",
      "에폭 [69/70] -  손실값 : 0.0028\n",
      "에폭 [70/70] -  손실값 : 0.0042\n"
     ]
    }
   ],
   "source": [
    "epochs = 70\n",
    "\n",
    "for epoch in range(epochs):\n",
    "    epoch_loss = 0\n",
    "    \n",
    "    for images, labels in loader_train:\n",
    "        images = images.to(device)\n",
    "        labels = labels.to(device)\n",
    "        \n",
    "        optimizer.zero_grad()\n",
    "        outputs = model(images)\n",
    "        loss = criterion(outputs, labels)\n",
    "        epoch_loss += loss.item()\n",
    "        loss.backward()\n",
    "        optimizer.step()\n",
    "    print(f'에폭 [{epoch+1}/{epochs}] -  손실값 : {epoch_loss/len(loader_train):.4f}')     "
   ]
  },
  {
   "cell_type": "markdown",
   "id": "794667f0",
   "metadata": {},
   "source": [
    "## 성능 검증"
   ]
  },
  {
   "cell_type": "code",
   "execution_count": 74,
   "id": "0d086808",
   "metadata": {},
   "outputs": [
    {
     "name": "stdout",
     "output_type": "stream",
     "text": [
      "검증 데이터 roc auc : 0.9999\n"
     ]
    }
   ],
   "source": [
    "from sklearn.metrics import roc_auc_score\n",
    "\n",
    "true_list = []\n",
    "preds_list = []\n",
    "\n",
    "model.eval()\n",
    "\n",
    "with torch.no_grad():\n",
    "    for images, labels in loader_valid:\n",
    "        images = images.to(device)\n",
    "        labels = labels.to(device)\n",
    "        \n",
    "        outputs = model(images)\n",
    "        preds = torch.softmax(outputs.cpu(), dim=1)[:, 1]\n",
    "        true = labels.cpu()\n",
    "        preds_list.extend(preds)\n",
    "        true_list.extend(true)\n",
    "        \n",
    "print(f'검증 데이터 roc auc : {roc_auc_score(true_list, preds_list):.4f}')        "
   ]
  },
  {
   "cell_type": "markdown",
   "id": "f460939e",
   "metadata": {},
   "source": [
    "## 예측 및 결과 제출"
   ]
  },
  {
   "cell_type": "code",
   "execution_count": 77,
   "id": "85c37c03",
   "metadata": {},
   "outputs": [],
   "source": [
    "dataset_test = ImageDataset(df=submission, img_dir=data_path+'test/', transform=transform_test)\n",
    "loader_test = DataLoader(dataset=dataset_test, batch_size=32, shuffle=False)"
   ]
  },
  {
   "cell_type": "code",
   "execution_count": 78,
   "id": "4034672a",
   "metadata": {},
   "outputs": [],
   "source": [
    "model.eval()\n",
    "\n",
    "preds = []\n",
    "\n",
    "with torch.no_grad():\n",
    "    for images, _ in loader_test:\n",
    "        images = images.to(device)\n",
    "        \n",
    "        outputs = model(images)\n",
    "        preds_part = torch.softmax(outputs.cpu(), dim=1)[:, 1].tolist()\n",
    "        preds += preds_part"
   ]
  },
  {
   "cell_type": "code",
   "execution_count": 79,
   "id": "64dd933e",
   "metadata": {},
   "outputs": [],
   "source": [
    "submission['has_cactus'] = preds\n",
    "submission.to_csv('submission_2.csv', index=False)"
   ]
  },
  {
   "cell_type": "markdown",
   "id": "26edda4a",
   "metadata": {},
   "source": [
    "### 한 걸음 더"
   ]
  },
  {
   "cell_type": "markdown",
   "id": "853518dc",
   "metadata": {},
   "source": [
    "- 훈련 데이터를, 검증용으로 분할 하지 말고 전체를 다 사용하여 학습 하게 되면 성능이 개선 된다."
   ]
  },
  {
   "cell_type": "markdown",
   "id": "3451e870",
   "metadata": {},
   "source": [
    "### 요약\n",
    "- 딥러닝 모델은 매번 같은 값을 가지려면 시드값을 여러곳 고정을 해야 한다.\n",
    "- GPU를 활용은 필수\n",
    "- 파이토치는 데이터 셋과 데이터 로더가 필요하다.\n",
    "- transforms 모듈로 원본 이미지를 특정한 형태로 변화 시킨다. (데이터 증강)\n",
    "- 손실 함수는 예측값과 실젯값의 차이를 구하는 함수\n",
    "- CNN은 이미지 인식에 주로 사용\n",
    "- 활성화 함수는 입력값을 어떤 값으로 변환해 출력할지 결정, ReLU 를 많이 사용\n",
    "- 옵티마이저는 최적 가중치를 찾아주는 함수, SGD, Adam, RMSProp 등을 많이 사용\n",
    "- 에폭은 '훈련 데이터 전체'를 한번 훑었음을, 배치 크기는 매 훈련 이터레이션에서 한 번에 훈련할 데이터의 개수, 반복 횟수는 1 에폭의 훈련을 완료하는데 필요한 훈련 이터레이션의 수\n",
    "- 배치 정규화는 계층 간 데이터 분포의 편차를 줄이는 작업, 신경망 레이어마다 입력 데이터 분포가 다르면, 훈련 속도가 느려지고 과대적합 가능"
   ]
  },
  {
   "cell_type": "code",
   "execution_count": null,
   "id": "c7bfe5e0",
   "metadata": {},
   "outputs": [],
   "source": []
  }
 ],
 "metadata": {
  "kernelspec": {
   "display_name": "Python 3 (ipykernel)",
   "language": "python",
   "name": "python3"
  },
  "language_info": {
   "codemirror_mode": {
    "name": "ipython",
    "version": 3
   },
   "file_extension": ".py",
   "mimetype": "text/x-python",
   "name": "python",
   "nbconvert_exporter": "python",
   "pygments_lexer": "ipython3",
   "version": "3.10.9"
  },
  "toc": {
   "base_numbering": 1,
   "nav_menu": {},
   "number_sections": true,
   "sideBar": true,
   "skip_h1_title": false,
   "title_cell": "Table of Contents",
   "title_sidebar": "Contents",
   "toc_cell": false,
   "toc_position": {
    "height": "calc(100% - 180px)",
    "left": "10px",
    "top": "150px",
    "width": "753.188px"
   },
   "toc_section_display": true,
   "toc_window_display": true
  }
 },
 "nbformat": 4,
 "nbformat_minor": 5
}
