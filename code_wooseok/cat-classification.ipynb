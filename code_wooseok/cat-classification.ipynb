{
 "cells": [
  {
   "cell_type": "markdown",
   "metadata": {},
   "source": [
    "## Competition description\n",
    "\n",
    "Is there a cat in your dat?\n",
    "\n",
    "A common task in machine learning pipelines is encoding categorical variables for a given algorithm in a format that allows as much useful signal as possible to be captured.\n",
    "\n",
    "Because this is such a common task and important skill to master, we've put together a dataset that contains only categorical features, and includes:\n",
    "\n",
    "- binary feautures\n",
    "\n",
    "- low and high - cardinality nominal features\n",
    "\n",
    "- low and high - cardinality ordinal features\n",
    "\n",
    "- (potentially) cyclical features\n",
    "\n",
    "This playground competition will give you the opportunity to try different encoding schemes for different algorithms to compare how they perform. We encourage you to share what you find with the community.\n",
    "\n",
    "If you're not sure how to get started, you can check out the Categorical Variables section of Kaggle's Intermediate Machine Learning course."
   ]
  },
  {
   "cell_type": "markdown",
   "metadata": {},
   "source": [
    "## Objective\n",
    "\n",
    "I want to do complete exploration to understand the data and after it I will build a Machine Learning Model."
   ]
  },
  {
   "cell_type": "markdown",
   "metadata": {},
   "source": [
    "## Questions\n",
    "\n",
    "Before I start handlinng the data, I am thinking about what I want to find here, like:\n",
    "\n",
    "- What't the target distribution and what data type it is?\n",
    "\n",
    "- What is the type of features we have and the name? These names can tell us anything?\n",
    "\n",
    "- What's the most common values in all category's we have?\n",
    "\n",
    "- How mamy binary features we have?\n",
    "\n",
    "- How many missing values?\n",
    "\n",
    "- Which type of transformations we need to apply?"
   ]
  },
  {
   "cell_type": "markdown",
   "metadata": {},
   "source": [
    "## Importing Libray's"
   ]
  },
  {
   "cell_type": "code",
   "execution_count": 2,
   "metadata": {},
   "outputs": [
    {
     "name": "stdout",
     "output_type": "stream",
     "text": [
      "Defaulting to user installation because normal site-packages is not writeable\n",
      "Collecting hyperopt\n",
      "  Downloading hyperopt-0.2.7-py2.py3-none-any.whl (1.6 MB)\n",
      "\u001b[2K     \u001b[90m━━━━━━━━━━━━━━━━━━━━━━━━━━━━━━━━━━━━━━━━\u001b[0m \u001b[32m1.6/1.6 MB\u001b[0m \u001b[31m10.7 MB/s\u001b[0m eta \u001b[36m0:00:00\u001b[0m00:01\u001b[0m00:01\u001b[0m\n",
      "\u001b[?25hRequirement already satisfied: six in /usr/lib/python3/dist-packages (from hyperopt) (1.14.0)\n",
      "Requirement already satisfied: numpy in /home/tw/.local/lib/python3.8/site-packages (from hyperopt) (1.24.2)\n",
      "Collecting cloudpickle\n",
      "  Downloading cloudpickle-2.2.1-py3-none-any.whl (25 kB)\n",
      "Requirement already satisfied: tqdm in /home/tw/.local/lib/python3.8/site-packages (from hyperopt) (4.64.1)\n",
      "Collecting py4j\n",
      "  Downloading py4j-0.10.9.7-py2.py3-none-any.whl (200 kB)\n",
      "\u001b[2K     \u001b[90m━━━━━━━━━━━━━━━━━━━━━━━━━━━━━━━━━━━━━━\u001b[0m \u001b[32m200.5/200.5 kB\u001b[0m \u001b[31m17.2 MB/s\u001b[0m eta \u001b[36m0:00:00\u001b[0m\n",
      "\u001b[?25hRequirement already satisfied: scipy in /home/tw/.local/lib/python3.8/site-packages (from hyperopt) (1.9.3)\n",
      "Collecting future\n",
      "  Using cached future-0.18.3.tar.gz (840 kB)\n",
      "  Preparing metadata (setup.py) ... \u001b[?25ldone\n",
      "\u001b[?25hCollecting networkx>=2.2\n",
      "  Using cached networkx-3.0-py3-none-any.whl (2.0 MB)\n",
      "Building wheels for collected packages: future\n",
      "  Building wheel for future (setup.py) ... \u001b[?25ldone\n",
      "\u001b[?25h  Created wheel for future: filename=future-0.18.3-py3-none-any.whl size=492026 sha256=0a680082538b9ea5c5d54da1a5b19c2ebbcea4a18c844ac4be4bec2e6a8bba1d\n",
      "  Stored in directory: /home/tw/.cache/pip/wheels/a0/0b/ee/e6994fadb42c1354dcccb139b0bf2795271bddfe6253ccdf11\n",
      "Successfully built future\n",
      "Installing collected packages: py4j, networkx, future, cloudpickle, hyperopt\n",
      "Successfully installed cloudpickle-2.2.1 future-0.18.3 hyperopt-0.2.7 networkx-3.0 py4j-0.10.9.7\n"
     ]
    }
   ],
   "source": [
    "# !pip install hyperopt "
   ]
  },
  {
   "cell_type": "code",
   "execution_count": 3,
   "metadata": {},
   "outputs": [],
   "source": [
    "import numpy as np # linear algebra\n",
    "import pandas as pd # data processing, CSV file I/O (e.g. pd.read_csv)\n",
    "import scipy as np\n",
    "from scipy import stats\n",
    "import matplotlib.pyplot as plt\n",
    "import seaborn as sns\n",
    "\n",
    "# Preprocessing, modeling and evaluating\n",
    "from sklearn import preprocessing\n",
    "from sklearn.metrics import confusion_matrix, roc_auc_score\n",
    "from sklearn.model_selection import StratifiedKFold, cross_val_score, KFold\n",
    "from xgboost import XGBClassifier\n",
    "import xgboost as xgb\n",
    "\n",
    "# Hyperopt modules\n",
    "from hyperopt import fmin, hp, tpe, Trials, space_eval, STATUS_OK, STATUS_RUNNING\n",
    "from functools import partial\n",
    "\n",
    "import os\n",
    "for dirname, _, filenames in os.walk('/kaggle/input'):\n",
    "    for filename in filenames:\n",
    "        print(os.path.join(dirname, filename))\n",
    "# Any results you write to the current directory are saved as output.\n",
    "\n",
    "import gc\n",
    "import warnings\n",
    "warnings.filterwarnings(\"ignore\")"
   ]
  },
  {
   "cell_type": "markdown",
   "metadata": {},
   "source": [
    "## Some utilities functions"
   ]
  },
  {
   "cell_type": "code",
   "execution_count": 4,
   "metadata": {},
   "outputs": [],
   "source": [
    "def resumetable(df):\n",
    "    print(f\"Dataset Shape: {df.shape}\")\n",
    "    summary = pd.DataFrame(df.dtypes,columns=['dtypes'])\n",
    "    summary = summary.reset_index()\n",
    "    summary['Name'] = summary['index']\n",
    "    summary = summary[['Name','dtypes']]\n",
    "    summary['Missing'] = df.isnull().sum().values    \n",
    "    summary['Uniques'] = df.nunique().values\n",
    "    summary['First Value'] = df.loc[0].values\n",
    "    summary['Second Value'] = df.loc[1].values\n",
    "    summary['Third Value'] = df.loc[2].values\n",
    "\n",
    "    for name in summary['Name'].value_counts().index:\n",
    "        summary.loc[summary['Name'] == name, 'Entropy'] = round(stats.entropy(df[name].value_counts(normalize=True), base=2),2) \n",
    "\n",
    "    return summary\n",
    "\n",
    "# Function to reduce the DF size\n",
    "def reduce_mem_usage(df, verbose=True):\n",
    "    numerics = ['int16', 'int32', 'int64', 'float16', 'float32', 'float64']\n",
    "    start_mem = df.memory_usage().sum() / 1024**2    \n",
    "    for col in df.columns:\n",
    "        col_type = df[col].dtypes\n",
    "        if col_type in numerics:\n",
    "            c_min = df[col].min()\n",
    "            c_max = df[col].max()\n",
    "            if str(col_type)[:3] == 'int':\n",
    "                if c_min > np.iinfo(np.int8).min and c_max < np.iinfo(np.int8).max:\n",
    "                    df[col] = df[col].astype(np.int8)\n",
    "                elif c_min > np.iinfo(np.int16).min and c_max < np.iinfo(np.int16).max:\n",
    "                    df[col] = df[col].astype(np.int16)\n",
    "                elif c_min > np.iinfo(np.int32).min and c_max < np.iinfo(np.int32).max:\n",
    "                    df[col] = df[col].astype(np.int32)\n",
    "                elif c_min > np.iinfo(np.int64).min and c_max < np.iinfo(np.int64).max:\n",
    "                    df[col] = df[col].astype(np.int64)  \n",
    "            else:\n",
    "                if c_min > np.finfo(np.float16).min and c_max < np.finfo(np.float16).max:\n",
    "                    df[col] = df[col].astype(np.float16)\n",
    "                elif c_min > np.finfo(np.float32).min and c_max < np.finfo(np.float32).max:\n",
    "                    df[col] = df[col].astype(np.float32)\n",
    "                else:\n",
    "                    df[col] = df[col].astype(np.float64)    \n",
    "    end_mem = df.memory_usage().sum() / 1024**2\n",
    "    if verbose: print('Mem. usage decreased to {:5.2f} Mb ({:.1f}% reduction)'.format(end_mem, 100 * (start_mem - end_mem) / start_mem))\n",
    "    return df"
   ]
  },
  {
   "cell_type": "code",
   "execution_count": 7,
   "metadata": {},
   "outputs": [],
   "source": [
    "p = '../source/dataset/cat-in-the-dat'\n",
    "df_train = pd.read_csv(f'{p}/train.csv')\n",
    "df_test = pd.read_csv(f'{p}/test.csv')\n",
    "submission = pd.read_csv(f'{p}/sample_submission.csv', index_col = 'id')"
   ]
  },
  {
   "cell_type": "markdown",
   "metadata": {},
   "source": [
    "#### Knowing our data"
   ]
  },
  {
   "cell_type": "code",
   "execution_count": 8,
   "metadata": {},
   "outputs": [
    {
     "name": "stdout",
     "output_type": "stream",
     "text": [
      "Dataset Shape: (300000, 25)\n"
     ]
    },
    {
     "data": {
      "text/html": [
       "<div>\n",
       "<style scoped>\n",
       "    .dataframe tbody tr th:only-of-type {\n",
       "        vertical-align: middle;\n",
       "    }\n",
       "\n",
       "    .dataframe tbody tr th {\n",
       "        vertical-align: top;\n",
       "    }\n",
       "\n",
       "    .dataframe thead th {\n",
       "        text-align: right;\n",
       "    }\n",
       "</style>\n",
       "<table border=\"1\" class=\"dataframe\">\n",
       "  <thead>\n",
       "    <tr style=\"text-align: right;\">\n",
       "      <th></th>\n",
       "      <th>Name</th>\n",
       "      <th>dtypes</th>\n",
       "      <th>Missing</th>\n",
       "      <th>Uniques</th>\n",
       "      <th>First Value</th>\n",
       "      <th>Second Value</th>\n",
       "      <th>Third Value</th>\n",
       "      <th>Entropy</th>\n",
       "    </tr>\n",
       "  </thead>\n",
       "  <tbody>\n",
       "    <tr>\n",
       "      <th>0</th>\n",
       "      <td>id</td>\n",
       "      <td>int64</td>\n",
       "      <td>0</td>\n",
       "      <td>300000</td>\n",
       "      <td>0</td>\n",
       "      <td>1</td>\n",
       "      <td>2</td>\n",
       "      <td>18.19</td>\n",
       "    </tr>\n",
       "    <tr>\n",
       "      <th>1</th>\n",
       "      <td>bin_0</td>\n",
       "      <td>int64</td>\n",
       "      <td>0</td>\n",
       "      <td>2</td>\n",
       "      <td>0</td>\n",
       "      <td>0</td>\n",
       "      <td>0</td>\n",
       "      <td>0.55</td>\n",
       "    </tr>\n",
       "    <tr>\n",
       "      <th>2</th>\n",
       "      <td>bin_1</td>\n",
       "      <td>int64</td>\n",
       "      <td>0</td>\n",
       "      <td>2</td>\n",
       "      <td>0</td>\n",
       "      <td>1</td>\n",
       "      <td>0</td>\n",
       "      <td>0.82</td>\n",
       "    </tr>\n",
       "    <tr>\n",
       "      <th>3</th>\n",
       "      <td>bin_2</td>\n",
       "      <td>int64</td>\n",
       "      <td>0</td>\n",
       "      <td>2</td>\n",
       "      <td>0</td>\n",
       "      <td>0</td>\n",
       "      <td>0</td>\n",
       "      <td>0.96</td>\n",
       "    </tr>\n",
       "    <tr>\n",
       "      <th>4</th>\n",
       "      <td>bin_3</td>\n",
       "      <td>object</td>\n",
       "      <td>0</td>\n",
       "      <td>2</td>\n",
       "      <td>T</td>\n",
       "      <td>T</td>\n",
       "      <td>F</td>\n",
       "      <td>1.00</td>\n",
       "    </tr>\n",
       "    <tr>\n",
       "      <th>5</th>\n",
       "      <td>bin_4</td>\n",
       "      <td>object</td>\n",
       "      <td>0</td>\n",
       "      <td>2</td>\n",
       "      <td>Y</td>\n",
       "      <td>Y</td>\n",
       "      <td>Y</td>\n",
       "      <td>0.94</td>\n",
       "    </tr>\n",
       "    <tr>\n",
       "      <th>6</th>\n",
       "      <td>nom_0</td>\n",
       "      <td>object</td>\n",
       "      <td>0</td>\n",
       "      <td>3</td>\n",
       "      <td>Green</td>\n",
       "      <td>Green</td>\n",
       "      <td>Blue</td>\n",
       "      <td>1.55</td>\n",
       "    </tr>\n",
       "    <tr>\n",
       "      <th>7</th>\n",
       "      <td>nom_1</td>\n",
       "      <td>object</td>\n",
       "      <td>0</td>\n",
       "      <td>6</td>\n",
       "      <td>Triangle</td>\n",
       "      <td>Trapezoid</td>\n",
       "      <td>Trapezoid</td>\n",
       "      <td>2.45</td>\n",
       "    </tr>\n",
       "    <tr>\n",
       "      <th>8</th>\n",
       "      <td>nom_2</td>\n",
       "      <td>object</td>\n",
       "      <td>0</td>\n",
       "      <td>6</td>\n",
       "      <td>Snake</td>\n",
       "      <td>Hamster</td>\n",
       "      <td>Lion</td>\n",
       "      <td>2.44</td>\n",
       "    </tr>\n",
       "    <tr>\n",
       "      <th>9</th>\n",
       "      <td>nom_3</td>\n",
       "      <td>object</td>\n",
       "      <td>0</td>\n",
       "      <td>6</td>\n",
       "      <td>Finland</td>\n",
       "      <td>Russia</td>\n",
       "      <td>Russia</td>\n",
       "      <td>2.45</td>\n",
       "    </tr>\n",
       "    <tr>\n",
       "      <th>10</th>\n",
       "      <td>nom_4</td>\n",
       "      <td>object</td>\n",
       "      <td>0</td>\n",
       "      <td>4</td>\n",
       "      <td>Bassoon</td>\n",
       "      <td>Piano</td>\n",
       "      <td>Theremin</td>\n",
       "      <td>1.97</td>\n",
       "    </tr>\n",
       "    <tr>\n",
       "      <th>11</th>\n",
       "      <td>nom_5</td>\n",
       "      <td>object</td>\n",
       "      <td>0</td>\n",
       "      <td>222</td>\n",
       "      <td>50f116bcf</td>\n",
       "      <td>b3b4d25d0</td>\n",
       "      <td>3263bdce5</td>\n",
       "      <td>7.49</td>\n",
       "    </tr>\n",
       "    <tr>\n",
       "      <th>12</th>\n",
       "      <td>nom_6</td>\n",
       "      <td>object</td>\n",
       "      <td>0</td>\n",
       "      <td>522</td>\n",
       "      <td>3ac1b8814</td>\n",
       "      <td>fbcb50fc1</td>\n",
       "      <td>0922e3cb8</td>\n",
       "      <td>8.74</td>\n",
       "    </tr>\n",
       "    <tr>\n",
       "      <th>13</th>\n",
       "      <td>nom_7</td>\n",
       "      <td>object</td>\n",
       "      <td>0</td>\n",
       "      <td>1220</td>\n",
       "      <td>68f6ad3e9</td>\n",
       "      <td>3b6dd5612</td>\n",
       "      <td>a6a36f527</td>\n",
       "      <td>9.97</td>\n",
       "    </tr>\n",
       "    <tr>\n",
       "      <th>14</th>\n",
       "      <td>nom_8</td>\n",
       "      <td>object</td>\n",
       "      <td>0</td>\n",
       "      <td>2215</td>\n",
       "      <td>c389000ab</td>\n",
       "      <td>4cd920251</td>\n",
       "      <td>de9c9f684</td>\n",
       "      <td>10.84</td>\n",
       "    </tr>\n",
       "    <tr>\n",
       "      <th>15</th>\n",
       "      <td>nom_9</td>\n",
       "      <td>object</td>\n",
       "      <td>0</td>\n",
       "      <td>11981</td>\n",
       "      <td>2f4cb3d51</td>\n",
       "      <td>f83c56c21</td>\n",
       "      <td>ae6800dd0</td>\n",
       "      <td>13.27</td>\n",
       "    </tr>\n",
       "    <tr>\n",
       "      <th>16</th>\n",
       "      <td>ord_0</td>\n",
       "      <td>int64</td>\n",
       "      <td>0</td>\n",
       "      <td>3</td>\n",
       "      <td>2</td>\n",
       "      <td>1</td>\n",
       "      <td>1</td>\n",
       "      <td>1.27</td>\n",
       "    </tr>\n",
       "    <tr>\n",
       "      <th>17</th>\n",
       "      <td>ord_1</td>\n",
       "      <td>object</td>\n",
       "      <td>0</td>\n",
       "      <td>5</td>\n",
       "      <td>Grandmaster</td>\n",
       "      <td>Grandmaster</td>\n",
       "      <td>Expert</td>\n",
       "      <td>2.05</td>\n",
       "    </tr>\n",
       "    <tr>\n",
       "      <th>18</th>\n",
       "      <td>ord_2</td>\n",
       "      <td>object</td>\n",
       "      <td>0</td>\n",
       "      <td>6</td>\n",
       "      <td>Cold</td>\n",
       "      <td>Hot</td>\n",
       "      <td>Lava Hot</td>\n",
       "      <td>2.36</td>\n",
       "    </tr>\n",
       "    <tr>\n",
       "      <th>19</th>\n",
       "      <td>ord_3</td>\n",
       "      <td>object</td>\n",
       "      <td>0</td>\n",
       "      <td>15</td>\n",
       "      <td>h</td>\n",
       "      <td>a</td>\n",
       "      <td>h</td>\n",
       "      <td>3.61</td>\n",
       "    </tr>\n",
       "    <tr>\n",
       "      <th>20</th>\n",
       "      <td>ord_4</td>\n",
       "      <td>object</td>\n",
       "      <td>0</td>\n",
       "      <td>26</td>\n",
       "      <td>D</td>\n",
       "      <td>A</td>\n",
       "      <td>R</td>\n",
       "      <td>4.51</td>\n",
       "    </tr>\n",
       "    <tr>\n",
       "      <th>21</th>\n",
       "      <td>ord_5</td>\n",
       "      <td>object</td>\n",
       "      <td>0</td>\n",
       "      <td>192</td>\n",
       "      <td>kr</td>\n",
       "      <td>bF</td>\n",
       "      <td>Jc</td>\n",
       "      <td>7.31</td>\n",
       "    </tr>\n",
       "    <tr>\n",
       "      <th>22</th>\n",
       "      <td>day</td>\n",
       "      <td>int64</td>\n",
       "      <td>0</td>\n",
       "      <td>7</td>\n",
       "      <td>2</td>\n",
       "      <td>7</td>\n",
       "      <td>7</td>\n",
       "      <td>2.47</td>\n",
       "    </tr>\n",
       "    <tr>\n",
       "      <th>23</th>\n",
       "      <td>month</td>\n",
       "      <td>int64</td>\n",
       "      <td>0</td>\n",
       "      <td>12</td>\n",
       "      <td>2</td>\n",
       "      <td>8</td>\n",
       "      <td>2</td>\n",
       "      <td>3.37</td>\n",
       "    </tr>\n",
       "    <tr>\n",
       "      <th>24</th>\n",
       "      <td>target</td>\n",
       "      <td>int64</td>\n",
       "      <td>0</td>\n",
       "      <td>2</td>\n",
       "      <td>0</td>\n",
       "      <td>0</td>\n",
       "      <td>0</td>\n",
       "      <td>0.89</td>\n",
       "    </tr>\n",
       "  </tbody>\n",
       "</table>\n",
       "</div>"
      ],
      "text/plain": [
       "      Name  dtypes  Missing  Uniques  First Value Second Value Third Value  \\\n",
       "0       id   int64        0   300000            0            1           2   \n",
       "1    bin_0   int64        0        2            0            0           0   \n",
       "2    bin_1   int64        0        2            0            1           0   \n",
       "3    bin_2   int64        0        2            0            0           0   \n",
       "4    bin_3  object        0        2            T            T           F   \n",
       "5    bin_4  object        0        2            Y            Y           Y   \n",
       "6    nom_0  object        0        3        Green        Green        Blue   \n",
       "7    nom_1  object        0        6     Triangle    Trapezoid   Trapezoid   \n",
       "8    nom_2  object        0        6        Snake      Hamster        Lion   \n",
       "9    nom_3  object        0        6      Finland       Russia      Russia   \n",
       "10   nom_4  object        0        4      Bassoon        Piano    Theremin   \n",
       "11   nom_5  object        0      222    50f116bcf    b3b4d25d0   3263bdce5   \n",
       "12   nom_6  object        0      522    3ac1b8814    fbcb50fc1   0922e3cb8   \n",
       "13   nom_7  object        0     1220    68f6ad3e9    3b6dd5612   a6a36f527   \n",
       "14   nom_8  object        0     2215    c389000ab    4cd920251   de9c9f684   \n",
       "15   nom_9  object        0    11981    2f4cb3d51    f83c56c21   ae6800dd0   \n",
       "16   ord_0   int64        0        3            2            1           1   \n",
       "17   ord_1  object        0        5  Grandmaster  Grandmaster      Expert   \n",
       "18   ord_2  object        0        6         Cold          Hot    Lava Hot   \n",
       "19   ord_3  object        0       15            h            a           h   \n",
       "20   ord_4  object        0       26            D            A           R   \n",
       "21   ord_5  object        0      192           kr           bF          Jc   \n",
       "22     day   int64        0        7            2            7           7   \n",
       "23   month   int64        0       12            2            8           2   \n",
       "24  target   int64        0        2            0            0           0   \n",
       "\n",
       "    Entropy  \n",
       "0     18.19  \n",
       "1      0.55  \n",
       "2      0.82  \n",
       "3      0.96  \n",
       "4      1.00  \n",
       "5      0.94  \n",
       "6      1.55  \n",
       "7      2.45  \n",
       "8      2.44  \n",
       "9      2.45  \n",
       "10     1.97  \n",
       "11     7.49  \n",
       "12     8.74  \n",
       "13     9.97  \n",
       "14    10.84  \n",
       "15    13.27  \n",
       "16     1.27  \n",
       "17     2.05  \n",
       "18     2.36  \n",
       "19     3.61  \n",
       "20     4.51  \n",
       "21     7.31  \n",
       "22     2.47  \n",
       "23     3.37  \n",
       "24     0.89  "
      ]
     },
     "execution_count": 8,
     "metadata": {},
     "output_type": "execute_result"
    }
   ],
   "source": [
    "summary = resumetable(df_train)\n",
    "summary"
   ]
  },
  {
   "cell_type": "markdown",
   "metadata": {},
   "source": [
    "Cool!! As we can note we don't have missing values and it's nice to us.<br>\n",
    "I will start exploring the Target and trying to find some patterns that could explain it."
   ]
  },
  {
   "cell_type": "markdown",
   "metadata": {},
   "source": [
    "## Target Feature\n",
    "\n",
    "Let's see the distribution and if we can identify what is the nature of this feature."
   ]
  },
  {
   "cell_type": "code",
   "execution_count": 9,
   "metadata": {},
   "outputs": [
    {
     "data": {
      "image/png": "[encoded data removed]",
      "text/plain": [
       "<Figure size 864x432 with 1 Axes>"
      ]
     },
     "metadata": {
      "needs_background": "light"
     },
     "output_type": "display_data"
    }
   ],
   "source": [
    "total = len(df_train)\n",
    "plt.figure(figsize = (12, 6))\n",
    "\n",
    "g = sns.countplot(x = 'target', data = df_train, color = 'grey') # plot을 객체로 받고\n",
    "g.set_title(\"Target Distribution\", fontsize = 20) #set_title\n",
    "g.set_xlabel(\"Target Values\", fontsize = 15) # set_xlabel\n",
    "sizes = [] # Get highest values in y\n",
    "for p in g.patches: #객체.patches\n",
    "    height = p.get_height() # 높이뽑고\n",
    "    sizes.append(height)\n",
    "    g.text(p.get_x() + p.get_width()/2., # x위치\n",
    "           height , '{:1.2f}%'.format(height/total * 100),# y위치\n",
    "           ha = 'center', fontsize = 14)\n",
    "g.set_ylim(0, max(sizes) * 1.15) # set y limit based on highest heights\n",
    "\n",
    "plt.show()"
   ]
  },
  {
   "cell_type": "markdown",
   "metadata": {},
   "source": [
    "Cool! We can see that our target is a binary feature and as it is 0 or 1 we can't know what is about.<br>\n",
    "Another interesting thing to note is that isn't so imbalanced:\n",
    "\n",
    "- Category 0 with 79.4%\n",
    "\n",
    "- Category 1 with 30.6%\n",
    "\n",
    "Now, as we have much of them, let's explore the patterns of other binary features."
   ]
  },
  {
   "cell_type": "markdown",
   "metadata": {},
   "source": [
    "## Binary Features"
   ]
  },
  {
   "cell_type": "code",
   "execution_count": 10,
   "metadata": {},
   "outputs": [],
   "source": [
    "bin_cols = ['bin_0', 'bin_1', 'bin_2', 'bin_3', 'bin_4']"
   ]
  },
  {
   "cell_type": "code",
   "execution_count": 11,
   "metadata": {},
   "outputs": [
    {
     "data": {
      "image/png": "[encoded data removed]",
      "text/plain": [
       "<Figure size 1728x1152 with 5 Axes>"
      ]
     },
     "metadata": {
      "needs_background": "light"
     },
     "output_type": "display_data"
    }
   ],
   "source": [
    "# Looking the V's features\n",
    "import matplotlib.gridspec as gridspec # to do the grid of plots\n",
    "grid = gridspec.GridSpec(2, 3) # The grid of chart\n",
    "plt.figure(figsize = (24, 16)) # size of figure\n",
    "\n",
    "# loop to get column and the count of plots\n",
    "for n, col in enumerate(df_train[bin_cols]):\n",
    "    ax = plt.subplot(grid[n]) # feeding the figure of grid\n",
    "    sns.countplot(x = col, data = df_train ,hue = 'target', palette = 'hls')\n",
    "    ax.set_ylabel('Count', fontsize = 15) # y axis label\n",
    "    ax.set_title(f'{col} Distribution by Target', fontsize = 18) # title label\n",
    "    ax.set_xlabel(f'{col} values', fontsize = 15) # x axis label\n",
    "    sizes = []\n",
    "    for p in ax.patches: # loop to all objects\n",
    "        height = p.get_height()\n",
    "        sizes.append(height)\n",
    "        ax.text(p.get_x() + p.get_width()/2.,\n",
    "            height + 3,\n",
    "            '{:1.2f}%'.format(height/total * 100),\n",
    "            ha = 'center', fontsize = 14)\n",
    "    ax.set_ylim(0, max(sizes) * 1.15) # set y limit based on highest heights\n",
    "\n",
    "plt.show()"
   ]
  },
  {
   "cell_type": "markdown",
   "metadata": {},
   "source": [
    "We can't see any clear pattern to positive values in target.\n",
    "\n",
    "- It's interesting to see that in bin_3 the ratio of target true have the same size in both values.(~15%)\n",
    "\n",
    "- In the other binary features the pattern is very similar."
   ]
  },
  {
   "cell_type": "markdown",
   "metadata": {},
   "source": [
    "## Working on binary Features\n",
    "\n",
    "- To work in machine learning models, we need numerical features.\n",
    "\n",
    "- As we can note, 3 of binary feaures are already integer features (0 or 1)\n",
    "\n",
    "- We will need to work on the features that isn't in numerical representation.\n",
    "\n",
    "I'm assuming that:\n",
    "\n",
    "- T is True and F is False\n",
    "\n",
    "- Y is Yes and N is No"
   ]
  },
  {
   "cell_type": "code",
   "execution_count": 12,
   "metadata": {},
   "outputs": [],
   "source": [
    "# dictionary to map the feature\n",
    "bin_dict = {'T' : 1, 'F' : 0, 'Y' : 1, 'N' : 0}\n",
    "\n",
    "# Mapping the category values in our dict\n",
    "df_train['bin_3'] = df_train['bin_3'].map(bin_dict)\n",
    "df_train['bin_4'] = df_train['bin_4'].map(bin_dict)\n",
    "df_test['bin_3'] = df_test['bin_3'].map(bin_dict)\n",
    "df_test['bin_4'] = df_test['bin_4'].map(bin_dict)"
   ]
  },
  {
   "cell_type": "markdown",
   "metadata": {},
   "source": [
    "### Checking the results"
   ]
  },
  {
   "cell_type": "code",
   "execution_count": 13,
   "metadata": {},
   "outputs": [
    {
     "data": {
      "text/html": [
       "<div>\n",
       "<style scoped>\n",
       "    .dataframe tbody tr th:only-of-type {\n",
       "        vertical-align: middle;\n",
       "    }\n",
       "\n",
       "    .dataframe tbody tr th {\n",
       "        vertical-align: top;\n",
       "    }\n",
       "\n",
       "    .dataframe thead th {\n",
       "        text-align: right;\n",
       "    }\n",
       "</style>\n",
       "<table border=\"1\" class=\"dataframe\">\n",
       "  <thead>\n",
       "    <tr style=\"text-align: right;\">\n",
       "      <th></th>\n",
       "      <th>bin_3</th>\n",
       "      <th>bin_4</th>\n",
       "    </tr>\n",
       "  </thead>\n",
       "  <tbody>\n",
       "    <tr>\n",
       "      <th>0</th>\n",
       "      <td>1</td>\n",
       "      <td>1</td>\n",
       "    </tr>\n",
       "    <tr>\n",
       "      <th>1</th>\n",
       "      <td>1</td>\n",
       "      <td>1</td>\n",
       "    </tr>\n",
       "    <tr>\n",
       "      <th>2</th>\n",
       "      <td>0</td>\n",
       "      <td>1</td>\n",
       "    </tr>\n",
       "    <tr>\n",
       "      <th>3</th>\n",
       "      <td>0</td>\n",
       "      <td>1</td>\n",
       "    </tr>\n",
       "    <tr>\n",
       "      <th>4</th>\n",
       "      <td>0</td>\n",
       "      <td>0</td>\n",
       "    </tr>\n",
       "  </tbody>\n",
       "</table>\n",
       "</div>"
      ],
      "text/plain": [
       "   bin_3  bin_4\n",
       "0      1      1\n",
       "1      1      1\n",
       "2      0      1\n",
       "3      0      1\n",
       "4      0      0"
      ]
     },
     "execution_count": 13,
     "metadata": {},
     "output_type": "execute_result"
    }
   ],
   "source": [
    "df_train[['bin_3', 'bin_4']].head()"
   ]
  },
  {
   "cell_type": "markdown",
   "metadata": {},
   "source": [
    "Cool! Now, it's ok to model this feature into a machine learning algorithm.<br>\n",
    "Let's work in the other features."
   ]
  },
  {
   "cell_type": "markdown",
   "metadata": {},
   "source": [
    "## Nominal Features (with more than 2 and less than 15 values)\n",
    "\n",
    "Let's see the distribution of the feature and target Ratio for each value in nominal features"
   ]
  },
  {
   "cell_type": "code",
   "execution_count": 14,
   "metadata": {},
   "outputs": [],
   "source": [
    "nom_cols = ['nom_0', 'nom_1', 'nom_2', 'nom_3', 'nom_4']"
   ]
  },
  {
   "cell_type": "code",
   "execution_count": 15,
   "metadata": {},
   "outputs": [],
   "source": [
    "def ploting_cat_fet(df, cols, vis_row=5, vis_col=2):\n",
    "    \n",
    "    grid = gridspec.GridSpec(vis_row,vis_col) # The grid of chart\n",
    "    plt.figure(figsize=(17, 35)) # size of figure\n",
    "\n",
    "    # loop to get column and the count of plots\n",
    "    for n, col in enumerate(df_train[cols]): \n",
    "        tmp = pd.crosstab(df_train[col], df_train['target'], normalize='index') * 100\n",
    "        tmp = tmp.reset_index()\n",
    "        tmp.rename(columns={0:'No',1:'Yes'}, inplace=True)\n",
    "\n",
    "        ax = plt.subplot(grid[n]) # feeding the figure of grid\n",
    "        sns.countplot(x=col, data=df_train, order=list(tmp[col].values) , color='green') \n",
    "        ax.set_ylabel('Count', fontsize=15) # y axis label\n",
    "        ax.set_title(f'{col} Distribution by Target', fontsize=18) # title label\n",
    "        ax.set_xlabel(f'{col} values', fontsize=15) # x axis label\n",
    "\n",
    "        # twinX - to build a second yaxis\n",
    "        gt = ax.twinx()\n",
    "        gt = sns.pointplot(x=col, y='Yes', data=tmp,\n",
    "                           order=list(tmp[col].values),\n",
    "                           color='black', legend=False)\n",
    "        gt.set_ylim(tmp['Yes'].min()-5,tmp['Yes'].max()*1.1)\n",
    "        gt.set_ylabel(\"Target %True(1)\", fontsize=16)\n",
    "        sizes=[] # Get highest values in y\n",
    "        for p in ax.patches: # loop to all objects\n",
    "            height = p.get_height()\n",
    "            sizes.append(height)\n",
    "            ax.text(p.get_x()+p.get_width()/2.,\n",
    "                    height + 3,\n",
    "                    '{:1.2f}%'.format(height/total*100),\n",
    "                    ha=\"center\", fontsize=14) \n",
    "        ax.set_ylim(0, max(sizes) * 1.15) # set y limit based on highest heights\n",
    "\n",
    "\n",
    "    plt.subplots_adjust(hspace = 0.5, wspace=.3)\n",
    "    plt.show()\n",
    "      "
   ]
  },
  {
   "cell_type": "code",
   "execution_count": 16,
   "metadata": {},
   "outputs": [
    {
     "ename": "TypeError",
     "evalue": "pointplot() got an unexpected keyword argument 'legend'",
     "output_type": "error",
     "traceback": [
      "\u001b[0;31m---------------------------------------------------------------------------\u001b[0m",
      "\u001b[0;31mTypeError\u001b[0m                                 Traceback (most recent call last)",
      "\u001b[0;32m<ipython-input-16-d15de20cd3e8>\u001b[0m in \u001b[0;36m<module>\u001b[0;34m\u001b[0m\n\u001b[0;32m----> 1\u001b[0;31m \u001b[0mploting_cat_fet\u001b[0m\u001b[0;34m(\u001b[0m\u001b[0mdf_train\u001b[0m\u001b[0;34m,\u001b[0m \u001b[0mnom_cols\u001b[0m\u001b[0;34m,\u001b[0m \u001b[0mvis_row\u001b[0m \u001b[0;34m=\u001b[0m \u001b[0;36m5\u001b[0m\u001b[0;34m,\u001b[0m \u001b[0mvis_col\u001b[0m \u001b[0;34m=\u001b[0m \u001b[0;36m2\u001b[0m\u001b[0;34m)\u001b[0m\u001b[0;34m\u001b[0m\u001b[0;34m\u001b[0m\u001b[0m\n\u001b[0m",
      "\u001b[0;32m<ipython-input-15-787f92989fcf>\u001b[0m in \u001b[0;36mploting_cat_fet\u001b[0;34m(df, cols, vis_row, vis_col)\u001b[0m\n\u001b[1;32m     18\u001b[0m         \u001b[0;31m# twinX - to build a second yaxis\u001b[0m\u001b[0;34m\u001b[0m\u001b[0;34m\u001b[0m\u001b[0;34m\u001b[0m\u001b[0m\n\u001b[1;32m     19\u001b[0m         \u001b[0mgt\u001b[0m \u001b[0;34m=\u001b[0m \u001b[0max\u001b[0m\u001b[0;34m.\u001b[0m\u001b[0mtwinx\u001b[0m\u001b[0;34m(\u001b[0m\u001b[0;34m)\u001b[0m\u001b[0;34m\u001b[0m\u001b[0;34m\u001b[0m\u001b[0m\n\u001b[0;32m---> 20\u001b[0;31m         gt = sns.pointplot(x=col, y='Yes', data=tmp,\n\u001b[0m\u001b[1;32m     21\u001b[0m                            \u001b[0morder\u001b[0m\u001b[0;34m=\u001b[0m\u001b[0mlist\u001b[0m\u001b[0;34m(\u001b[0m\u001b[0mtmp\u001b[0m\u001b[0;34m[\u001b[0m\u001b[0mcol\u001b[0m\u001b[0;34m]\u001b[0m\u001b[0;34m.\u001b[0m\u001b[0mvalues\u001b[0m\u001b[0;34m)\u001b[0m\u001b[0;34m,\u001b[0m\u001b[0;34m\u001b[0m\u001b[0;34m\u001b[0m\u001b[0m\n\u001b[1;32m     22\u001b[0m                            color='black', legend=False)\n",
      "\u001b[0;31mTypeError\u001b[0m: pointplot() got an unexpected keyword argument 'legend'"
     ]
    },
    {
     "data": {
      "image/png": "[encoded data removed]",
      "text/plain": [
       "<Figure size 1224x2520 with 2 Axes>"
      ]
     },
     "metadata": {
      "needs_background": "light"
     },
     "output_type": "display_data"
    }
   ],
   "source": [
    "ploting_cat_fet(df_train, nom_cols, vis_row = 5, vis_col = 2)"
   ]
  },
  {
   "cell_type": "markdown",
   "metadata": {},
   "source": [
    "Nice! We can see clear different patterns between the nominal category values.\n",
    "\n",
    "Some summary of these features:<br>\n",
    "\n",
    "- NOM_0 - Red (~35%) value have the highest % of positive values in the target.\n",
    "\n",
    "- NOM_1 - Triangle (~36%) value have the highest % of positive values in the target.\n",
    "\n",
    "- NOM_2 - Hamster(~36%) value have the highest % of positive values in the target.\n",
    "\n",
    "- NOM_3 - India(~36%) value have the highest % of positive values in the target.\n",
    "\n",
    "- NOM_4 - Theremin(~36%) value have the highest % of positive values in the target.\n",
    "\n",
    "Do you noted something?<br>\n",
    "All the values with highest % of True values on target, are the category's with lowest frequency on the nominal category's. We need to handle with all these features.<br>\n",
    "As it is nominal and don't have so many values by category's we can transform it in dummy features."
   ]
  },
  {
   "cell_type": "markdown",
   "metadata": {},
   "source": [
    "## Nominal Features Transformation"
   ]
  },
  {
   "cell_type": "code",
   "execution_count": 17,
   "metadata": {},
   "outputs": [],
   "source": [
    "df_test['target'] = 'test'\n",
    "df = pd.concat([df_train, df_test], axis = 0, sort = False)"
   ]
  },
  {
   "cell_type": "code",
   "execution_count": 18,
   "metadata": {},
   "outputs": [
    {
     "name": "stdout",
     "output_type": "stream",
     "text": [
      "Shape before dummy transformation: (500000, 25)\n",
      "Shape after dummy transformation: (500000, 40)\n"
     ]
    }
   ],
   "source": [
    "print(f'Shape before dummy transformation: {df.shape}')\n",
    "df = pd.get_dummies(df, columns = ['nom_0', 'nom_1', 'nom_2', 'nom_3', 'nom_4'],\n",
    "                   prefix = ['nom_0', 'nom_1', 'nom_2', 'nom_3', 'nom_4'], drop_first = True)\n",
    "print(f'Shape after dummy transformation: {df.shape}')"
   ]
  },
  {
   "cell_type": "code",
   "execution_count": 19,
   "metadata": {},
   "outputs": [],
   "source": [
    "df_train, df_test = df[df['target'] != 'test'], df[df['target'] == 'test'].drop('target', axis=1)\n",
    "del df"
   ]
  },
  {
   "cell_type": "code",
   "execution_count": 20,
   "metadata": {},
   "outputs": [
    {
     "data": {
      "text/html": [
       "<div>\n",
       "<style scoped>\n",
       "    .dataframe tbody tr th:only-of-type {\n",
       "        vertical-align: middle;\n",
       "    }\n",
       "\n",
       "    .dataframe tbody tr th {\n",
       "        vertical-align: top;\n",
       "    }\n",
       "\n",
       "    .dataframe thead th {\n",
       "        text-align: right;\n",
       "    }\n",
       "</style>\n",
       "<table border=\"1\" class=\"dataframe\">\n",
       "  <thead>\n",
       "    <tr style=\"text-align: right;\">\n",
       "      <th></th>\n",
       "      <th>id</th>\n",
       "      <th>bin_0</th>\n",
       "      <th>bin_1</th>\n",
       "      <th>bin_2</th>\n",
       "      <th>bin_3</th>\n",
       "      <th>bin_4</th>\n",
       "      <th>nom_5</th>\n",
       "      <th>nom_6</th>\n",
       "      <th>nom_7</th>\n",
       "      <th>nom_8</th>\n",
       "      <th>...</th>\n",
       "      <th>nom_2_Lion</th>\n",
       "      <th>nom_2_Snake</th>\n",
       "      <th>nom_3_China</th>\n",
       "      <th>nom_3_Costa Rica</th>\n",
       "      <th>nom_3_Finland</th>\n",
       "      <th>nom_3_India</th>\n",
       "      <th>nom_3_Russia</th>\n",
       "      <th>nom_4_Oboe</th>\n",
       "      <th>nom_4_Piano</th>\n",
       "      <th>nom_4_Theremin</th>\n",
       "    </tr>\n",
       "  </thead>\n",
       "  <tbody>\n",
       "    <tr>\n",
       "      <th>0</th>\n",
       "      <td>0</td>\n",
       "      <td>0</td>\n",
       "      <td>0</td>\n",
       "      <td>0</td>\n",
       "      <td>1</td>\n",
       "      <td>1</td>\n",
       "      <td>50f116bcf</td>\n",
       "      <td>3ac1b8814</td>\n",
       "      <td>68f6ad3e9</td>\n",
       "      <td>c389000ab</td>\n",
       "      <td>...</td>\n",
       "      <td>0</td>\n",
       "      <td>1</td>\n",
       "      <td>0</td>\n",
       "      <td>0</td>\n",
       "      <td>1</td>\n",
       "      <td>0</td>\n",
       "      <td>0</td>\n",
       "      <td>0</td>\n",
       "      <td>0</td>\n",
       "      <td>0</td>\n",
       "    </tr>\n",
       "    <tr>\n",
       "      <th>1</th>\n",
       "      <td>1</td>\n",
       "      <td>0</td>\n",
       "      <td>1</td>\n",
       "      <td>0</td>\n",
       "      <td>1</td>\n",
       "      <td>1</td>\n",
       "      <td>b3b4d25d0</td>\n",
       "      <td>fbcb50fc1</td>\n",
       "      <td>3b6dd5612</td>\n",
       "      <td>4cd920251</td>\n",
       "      <td>...</td>\n",
       "      <td>0</td>\n",
       "      <td>0</td>\n",
       "      <td>0</td>\n",
       "      <td>0</td>\n",
       "      <td>0</td>\n",
       "      <td>0</td>\n",
       "      <td>1</td>\n",
       "      <td>0</td>\n",
       "      <td>1</td>\n",
       "      <td>0</td>\n",
       "    </tr>\n",
       "    <tr>\n",
       "      <th>2</th>\n",
       "      <td>2</td>\n",
       "      <td>0</td>\n",
       "      <td>0</td>\n",
       "      <td>0</td>\n",
       "      <td>0</td>\n",
       "      <td>1</td>\n",
       "      <td>3263bdce5</td>\n",
       "      <td>0922e3cb8</td>\n",
       "      <td>a6a36f527</td>\n",
       "      <td>de9c9f684</td>\n",
       "      <td>...</td>\n",
       "      <td>1</td>\n",
       "      <td>0</td>\n",
       "      <td>0</td>\n",
       "      <td>0</td>\n",
       "      <td>0</td>\n",
       "      <td>0</td>\n",
       "      <td>1</td>\n",
       "      <td>0</td>\n",
       "      <td>0</td>\n",
       "      <td>1</td>\n",
       "    </tr>\n",
       "    <tr>\n",
       "      <th>3</th>\n",
       "      <td>3</td>\n",
       "      <td>0</td>\n",
       "      <td>1</td>\n",
       "      <td>0</td>\n",
       "      <td>0</td>\n",
       "      <td>1</td>\n",
       "      <td>f12246592</td>\n",
       "      <td>50d7ad46a</td>\n",
       "      <td>ec69236eb</td>\n",
       "      <td>4ade6ab69</td>\n",
       "      <td>...</td>\n",
       "      <td>0</td>\n",
       "      <td>1</td>\n",
       "      <td>0</td>\n",
       "      <td>0</td>\n",
       "      <td>0</td>\n",
       "      <td>0</td>\n",
       "      <td>0</td>\n",
       "      <td>1</td>\n",
       "      <td>0</td>\n",
       "      <td>0</td>\n",
       "    </tr>\n",
       "    <tr>\n",
       "      <th>4</th>\n",
       "      <td>4</td>\n",
       "      <td>0</td>\n",
       "      <td>0</td>\n",
       "      <td>0</td>\n",
       "      <td>0</td>\n",
       "      <td>0</td>\n",
       "      <td>5b0f5acd5</td>\n",
       "      <td>1fe17a1fd</td>\n",
       "      <td>04ddac2be</td>\n",
       "      <td>cb43ab175</td>\n",
       "      <td>...</td>\n",
       "      <td>1</td>\n",
       "      <td>0</td>\n",
       "      <td>0</td>\n",
       "      <td>0</td>\n",
       "      <td>0</td>\n",
       "      <td>0</td>\n",
       "      <td>0</td>\n",
       "      <td>1</td>\n",
       "      <td>0</td>\n",
       "      <td>0</td>\n",
       "    </tr>\n",
       "  </tbody>\n",
       "</table>\n",
       "<p>5 rows × 40 columns</p>\n",
       "</div>"
      ],
      "text/plain": [
       "   id  bin_0  bin_1  bin_2  bin_3  bin_4      nom_5      nom_6      nom_7  \\\n",
       "0   0      0      0      0      1      1  50f116bcf  3ac1b8814  68f6ad3e9   \n",
       "1   1      0      1      0      1      1  b3b4d25d0  fbcb50fc1  3b6dd5612   \n",
       "2   2      0      0      0      0      1  3263bdce5  0922e3cb8  a6a36f527   \n",
       "3   3      0      1      0      0      1  f12246592  50d7ad46a  ec69236eb   \n",
       "4   4      0      0      0      0      0  5b0f5acd5  1fe17a1fd  04ddac2be   \n",
       "\n",
       "       nom_8  ... nom_2_Lion  nom_2_Snake nom_3_China nom_3_Costa Rica  \\\n",
       "0  c389000ab  ...          0            1           0                0   \n",
       "1  4cd920251  ...          0            0           0                0   \n",
       "2  de9c9f684  ...          1            0           0                0   \n",
       "3  4ade6ab69  ...          0            1           0                0   \n",
       "4  cb43ab175  ...          1            0           0                0   \n",
       "\n",
       "  nom_3_Finland nom_3_India nom_3_Russia  nom_4_Oboe  nom_4_Piano  \\\n",
       "0             1           0            0           0            0   \n",
       "1             0           0            1           0            1   \n",
       "2             0           0            1           0            0   \n",
       "3             0           0            0           1            0   \n",
       "4             0           0            0           1            0   \n",
       "\n",
       "  nom_4_Theremin  \n",
       "0              0  \n",
       "1              0  \n",
       "2              1  \n",
       "3              0  \n",
       "4              0  \n",
       "\n",
       "[5 rows x 40 columns]"
      ]
     },
     "execution_count": 20,
     "metadata": {},
     "output_type": "execute_result"
    }
   ],
   "source": [
    "df_train.head()"
   ]
  },
  {
   "cell_type": "markdown",
   "metadata": {},
   "source": [
    "Nice, we can see that it worked.<br>\n",
    "Now, let's see the remaining columns with few category values."
   ]
  },
  {
   "cell_type": "markdown",
   "metadata": {},
   "source": [
    "## Ordinal Features (with more than 2 and less than 15 values)"
   ]
  },
  {
   "cell_type": "code",
   "execution_count": 21,
   "metadata": {},
   "outputs": [],
   "source": [
    "ord_cols = ['ord_0', 'ord_1', 'ord_2', 'ord_3']"
   ]
  },
  {
   "cell_type": "markdown",
   "metadata": {},
   "source": [
    "#### Ploting ordinal features"
   ]
  },
  {
   "cell_type": "code",
   "execution_count": 22,
   "metadata": {},
   "outputs": [
    {
     "ename": "TypeError",
     "evalue": "pointplot() got an unexpected keyword argument 'legend'",
     "output_type": "error",
     "traceback": [
      "\u001b[0;31m---------------------------------------------------------------------------\u001b[0m",
      "\u001b[0;31mTypeError\u001b[0m                                 Traceback (most recent call last)",
      "\u001b[0;32m<ipython-input-22-a20981e4c198>\u001b[0m in \u001b[0;36m<module>\u001b[0;34m\u001b[0m\n\u001b[0;32m----> 1\u001b[0;31m \u001b[0mploting_cat_fet\u001b[0m\u001b[0;34m(\u001b[0m\u001b[0mdf_train\u001b[0m\u001b[0;34m,\u001b[0m \u001b[0mord_cols\u001b[0m\u001b[0;34m,\u001b[0m \u001b[0mvis_row\u001b[0m \u001b[0;34m=\u001b[0m \u001b[0;36m5\u001b[0m\u001b[0;34m,\u001b[0m \u001b[0mvis_col\u001b[0m \u001b[0;34m=\u001b[0m \u001b[0;36m2\u001b[0m\u001b[0;34m)\u001b[0m\u001b[0;34m\u001b[0m\u001b[0;34m\u001b[0m\u001b[0m\n\u001b[0m",
      "\u001b[0;32m<ipython-input-15-787f92989fcf>\u001b[0m in \u001b[0;36mploting_cat_fet\u001b[0;34m(df, cols, vis_row, vis_col)\u001b[0m\n\u001b[1;32m     18\u001b[0m         \u001b[0;31m# twinX - to build a second yaxis\u001b[0m\u001b[0;34m\u001b[0m\u001b[0;34m\u001b[0m\u001b[0;34m\u001b[0m\u001b[0m\n\u001b[1;32m     19\u001b[0m         \u001b[0mgt\u001b[0m \u001b[0;34m=\u001b[0m \u001b[0max\u001b[0m\u001b[0;34m.\u001b[0m\u001b[0mtwinx\u001b[0m\u001b[0;34m(\u001b[0m\u001b[0;34m)\u001b[0m\u001b[0;34m\u001b[0m\u001b[0;34m\u001b[0m\u001b[0m\n\u001b[0;32m---> 20\u001b[0;31m         gt = sns.pointplot(x=col, y='Yes', data=tmp,\n\u001b[0m\u001b[1;32m     21\u001b[0m                            \u001b[0morder\u001b[0m\u001b[0;34m=\u001b[0m\u001b[0mlist\u001b[0m\u001b[0;34m(\u001b[0m\u001b[0mtmp\u001b[0m\u001b[0;34m[\u001b[0m\u001b[0mcol\u001b[0m\u001b[0;34m]\u001b[0m\u001b[0;34m.\u001b[0m\u001b[0mvalues\u001b[0m\u001b[0;34m)\u001b[0m\u001b[0;34m,\u001b[0m\u001b[0;34m\u001b[0m\u001b[0;34m\u001b[0m\u001b[0m\n\u001b[1;32m     22\u001b[0m                            color='black', legend=False)\n",
      "\u001b[0;31mTypeError\u001b[0m: pointplot() got an unexpected keyword argument 'legend'"
     ]
    },
    {
     "data": {
      "image/png": "[encoded data removed]",
      "text/plain": [
       "<Figure size 1224x2520 with 2 Axes>"
      ]
     },
     "metadata": {
      "needs_background": "light"
     },
     "output_type": "display_data"
    }
   ],
   "source": [
    "ploting_cat_fet(df_train, ord_cols, vis_row = 5, vis_col = 2)"
   ]
  },
  {
   "cell_type": "markdown",
   "metadata": {},
   "source": [
    "Cool! In Ordinal features, the rule of nominal isn't real.<br>\n",
    "We can see that only on ord_0 the highest ratio in target in the less common category.\n",
    "\n",
    "As the \"ord_4\" and \"ord_5\" have highest cardinality I will plot it separated."
   ]
  },
  {
   "cell_type": "markdown",
   "metadata": {},
   "source": [
    "### Ord_4 and ord_5"
   ]
  },
  {
   "cell_type": "code",
   "execution_count": 23,
   "metadata": {},
   "outputs": [],
   "source": [
    "df_train['ord_5_ot'] = 'Others'\n",
    "df_train.loc[df_train['ord_5'].isin(df_train['ord_5'].value_counts()[:25].sort_index().index), 'ord_5_ot'] = df_train['ord_5'] # 상위 25개만 저장"
   ]
  },
  {
   "cell_type": "code",
   "execution_count": 24,
   "metadata": {},
   "outputs": [
    {
     "ename": "TypeError",
     "evalue": "pointplot() got an unexpected keyword argument 'legend'",
     "output_type": "error",
     "traceback": [
      "\u001b[0;31m---------------------------------------------------------------------------\u001b[0m",
      "\u001b[0;31mTypeError\u001b[0m                                 Traceback (most recent call last)",
      "\u001b[0;32m<ipython-input-24-e95888f91558>\u001b[0m in \u001b[0;36m<module>\u001b[0;34m\u001b[0m\n\u001b[1;32m     11\u001b[0m \u001b[0;31m# twinX - to build a second yaxis\u001b[0m\u001b[0;34m\u001b[0m\u001b[0;34m\u001b[0m\u001b[0;34m\u001b[0m\u001b[0m\n\u001b[1;32m     12\u001b[0m \u001b[0mgt\u001b[0m \u001b[0;34m=\u001b[0m \u001b[0max\u001b[0m\u001b[0;34m.\u001b[0m\u001b[0mtwinx\u001b[0m\u001b[0;34m(\u001b[0m\u001b[0;34m)\u001b[0m\u001b[0;34m\u001b[0m\u001b[0;34m\u001b[0m\u001b[0m\n\u001b[0;32m---> 13\u001b[0;31m gt = sns.pointplot(x = 'ord_4', y = 'Yes', data = tmp,\n\u001b[0m\u001b[1;32m     14\u001b[0m                   \u001b[0morder\u001b[0m \u001b[0;34m=\u001b[0m \u001b[0mlist\u001b[0m\u001b[0;34m(\u001b[0m\u001b[0mtmp\u001b[0m\u001b[0;34m[\u001b[0m\u001b[0;34m'ord_4'\u001b[0m\u001b[0;34m]\u001b[0m\u001b[0;34m.\u001b[0m\u001b[0mvalues\u001b[0m\u001b[0;34m)\u001b[0m\u001b[0;34m,\u001b[0m\u001b[0;34m\u001b[0m\u001b[0;34m\u001b[0m\u001b[0m\n\u001b[1;32m     15\u001b[0m                   color = 'black', legend = False)\n",
      "\u001b[0;31mTypeError\u001b[0m: pointplot() got an unexpected keyword argument 'legend'"
     ]
    },
    {
     "data": {
      "image/png": "[encoded data removed]",
      "text/plain": [
       "<Figure size 1080x864 with 2 Axes>"
      ]
     },
     "metadata": {
      "needs_background": "light"
     },
     "output_type": "display_data"
    }
   ],
   "source": [
    "tmp = pd.crosstab(df_train['ord_4'], df_train['target'], normalize = 'index') * 100\n",
    "tmp = tmp.reset_index()\n",
    "tmp.rename(columns = {0 : 'No', 1 : 'Yes'}, inplace = True)\n",
    "plt.figure(figsize = (15,12))\n",
    "\n",
    "plt.subplot(211)\n",
    "ax = sns.countplot(x = 'ord_4', data = df_train, order = list(tmp['ord_4'].values), color = 'green')\n",
    "ax.set_ylabel('Count', fontsize = 17) # y axis label\n",
    "ax.set_title('ord_4. Distribution with Target % ratio', fontsize = 20) # title label\n",
    "ax.set_xlabel('ord_4 values', fontsize = 17) # x axis label\n",
    "# twinX - to build a second yaxis\n",
    "gt = ax.twinx()\n",
    "gt = sns.pointplot(x = 'ord_4', y = 'Yes', data = tmp,\n",
    "                  order = list(tmp['ord_4'].values),\n",
    "                  color = 'black', legend = False)\n",
    "gt.set_ylim(tmp['Yes'].min() - 5, tmp['Yes'].max() * 1.1)\n",
    "gt.set_ylabel(\"Target %True(1)\", fontsize = 16)\n",
    "\n",
    "tmp = pd.crosstab(df_train['ord_5_ot'], df_train['target'], normalize = 'index') * 100\n",
    "tmp = tmp.reset_index()\n",
    "tmp.rename(columns = {0 : 'No', 1 : 'Yes'}, inplace = True)\n",
    "\n",
    "plt.subplot(212)\n",
    "ax1 = sns.countplot(x = 'ord_5_ot', data = df_train,\n",
    "                  order = list(df_train['ord_5_ot'].value_counts().sort_index().index),\n",
    "                  color = 'green')\n",
    "ax1.set_ylabel('Count', fontsize = 17) # y axis label\n",
    "ax1.set_title('TOP 25 ord_5 and \"others\" Distribution with Target %ratio', fontsize = 20) # title label\n",
    "ax1.set_xlabel('ord_5 values', fontsize = 17) # x axis label\n",
    "# twinX - to build a second yaxis\n",
    "gt = ax1.twinx()\n",
    "gt = sns.pointplot(x = 'ord_5_ot', y = 'Yes', data = tmp,\n",
    "                  order = list(df_train['ord_5_ot'].value_counts().sort_index().index),\n",
    "                  color = 'black', legend = False)\n",
    "gt.set_ylim(tmp['Yes'].min() - 5, tmp['Yes'].max() * 1.1)\n",
    "gt.set_ylabel(\"Target %True(1)\", fontsize = 16)\n",
    "\n",
    "plt.subplots_adjust(hspace = 0.4, wspace = .3)\n",
    "\n",
    "plt.show()"
   ]
  },
  {
   "cell_type": "markdown",
   "metadata": {},
   "source": [
    "Cool!\n",
    "\n",
    "- In ord_4, as it is a ordinal feature, we can see a clearly linear relationship. As it is the alphabet order, it will be easy to encde.\n",
    "\n",
    "- In ord_5 we have many category's, the top category is : <br>\n",
    "    1- \"od\" with 5019 entries,<br>\n",
    "    2 - \"f0\" with 3435 entries,<br>\n",
    "    3 - \"Zq\" with 2926<br>\n",
    " \n",
    " \n",
    "I will explore further the ord_5 Feature. I will explore the distribution of the values and how it is."
   ]
  },
  {
   "cell_type": "code",
   "execution_count": 25,
   "metadata": {},
   "outputs": [],
   "source": [
    "ord_5_count = df_train['ord_5'].value_counts().reset_index()['ord_5'].values"
   ]
  },
  {
   "cell_type": "markdown",
   "metadata": {},
   "source": [
    "### Distribution of ord_5 features"
   ]
  },
  {
   "cell_type": "code",
   "execution_count": 26,
   "metadata": {},
   "outputs": [
    {
     "data": {
      "image/png": "[encoded data removed]",
      "text/plain": [
       "<Figure size 864x432 with 1 Axes>"
      ]
     },
     "metadata": {
      "needs_background": "light"
     },
     "output_type": "display_data"
    }
   ],
   "source": [
    "plt.figure(figsize = (12, 6))\n",
    "\n",
    "g = sns.distplot(ord_5_count, bins = 50)\n",
    "g.set_title(\"Frequency of ord_5 category values\", fontsize = 22)\n",
    "g.set_xlabel(\"Total of entries in ord_5 category's\", fontsize = 18)\n",
    "g.set_ylabel(\"Density\", fontsize = 18)\n",
    "\n",
    "plt.show()"
   ]
  },
  {
   "cell_type": "markdown",
   "metadata": {},
   "source": [
    "Cool!<br>\n",
    "We can see that many values in ord_5 have ~2100 entries.<br>\n",
    "Also, the data has many category's with ~100 entries."
   ]
  },
  {
   "cell_type": "markdown",
   "metadata": {},
   "source": [
    "### Ordinal Features Transformation\n",
    "\n",
    "- Only ord_0 is numerical values.\n",
    "\n",
    "- We need to transform ord_1, ord_2 and ord_3 to set it in the correctly order to feed the machine learning model."
   ]
  },
  {
   "cell_type": "code",
   "execution_count": 27,
   "metadata": {},
   "outputs": [],
   "source": [
    "# Importing categorical options of pandas\n",
    "from pandas.api.types import CategoricalDtype\n",
    "\n",
    "# seting the orders of our ordinal features\n",
    "ord_1 = CategoricalDtype(categories = ['Novice', 'Contributor', 'Expert',\n",
    "                                      'Master', 'Grandmaster'], ordered = True)\n",
    "ord_2 = CategoricalDtype(categories = ['Freezing', 'Cold', 'Warm', 'Hot',\n",
    "                                        'Boiling Hot', 'Lava Hot'], ordered = True)\n",
    "ord_3 = CategoricalDtype(categories = ['a', 'b', 'c', 'd', 'e', 'f','g',\n",
    "                                    'h', 'i','j', 'k', 'l', 'm', 'n', 'o'], ordered = True)\n",
    "ord_4 = CategoricalDtype(categories = ['A', 'B', 'C', 'D', 'E', 'F', 'G',\n",
    "                                      'H', 'I', 'J', 'K', 'L', 'M', 'N',\n",
    "                                      'O', 'P', 'Q', 'R', 'S', 'T', 'U', \n",
    "                                      'V', 'W', 'X', 'Y', 'Z'], ordered = True)"
   ]
  },
  {
   "cell_type": "code",
   "execution_count": 28,
   "metadata": {},
   "outputs": [],
   "source": [
    "# Transforming ordinal Features\n",
    "df_train.ord_1 = df_train.ord_1.astype(ord_1)\n",
    "df_train.ord_2 = df_train.ord_2.astype(ord_2)\n",
    "df_train.ord_3 = df_train.ord_3.astype(ord_3)\n",
    "df_train.ord_4 = df_train.ord_4.astype(ord_4)\n",
    "\n",
    "# test dataset\n",
    "df_test.ord_1 = df_test.ord_1.astype(ord_1)\n",
    "df_test.ord_2 = df_test.ord_2.astype(ord_2)\n",
    "df_test.ord_3 = df_test.ord_3.astype(ord_3)\n",
    "df_test.ord_4 = df_test.ord_4.astype(ord_4)"
   ]
  },
  {
   "cell_type": "code",
   "execution_count": 29,
   "metadata": {},
   "outputs": [
    {
     "data": {
      "text/plain": [
       "0    h\n",
       "1    a\n",
       "2    h\n",
       "3    i\n",
       "4    a\n",
       "Name: ord_3, dtype: category\n",
       "Categories (15, object): ['a' < 'b' < 'c' < 'd' ... 'l' < 'm' < 'n' < 'o']"
      ]
     },
     "execution_count": 29,
     "metadata": {},
     "output_type": "execute_result"
    }
   ],
   "source": [
    "df_train.ord_3.head()"
   ]
  },
  {
   "cell_type": "markdown",
   "metadata": {},
   "source": [
    "Ok, now it's ordered and we can get the codes that corresponds to each value in the nominal feature."
   ]
  },
  {
   "cell_type": "markdown",
   "metadata": {},
   "source": [
    "#### Getting codes of nominal feature"
   ]
  },
  {
   "cell_type": "code",
   "execution_count": 30,
   "metadata": {},
   "outputs": [],
   "source": [
    "# Getting the codes of ordinal category's - train\n",
    "df_train.ord_1 = df_train.ord_1.cat.codes\n",
    "df_train.ord_2 = df_train.ord_2.cat.codes\n",
    "df_train.ord_3 = df_train.ord_3.cat.codes\n",
    "df_train.ord_4 = df_train.ord_4.cat.codes\n",
    "\n",
    "# Getting the codes of ordinal category's - test\n",
    "df_test.ord_1 = df_test.ord_1.cat.codes\n",
    "df_test.ord_2 = df_test.ord_2.cat.codes\n",
    "df_test.ord_3 = df_test.ord_3.cat.codes\n",
    "df_test.ord_4 = df_test.ord_4.cat.codes"
   ]
  },
  {
   "cell_type": "code",
   "execution_count": 31,
   "metadata": {},
   "outputs": [
    {
     "data": {
      "text/html": [
       "<div>\n",
       "<style scoped>\n",
       "    .dataframe tbody tr th:only-of-type {\n",
       "        vertical-align: middle;\n",
       "    }\n",
       "\n",
       "    .dataframe tbody tr th {\n",
       "        vertical-align: top;\n",
       "    }\n",
       "\n",
       "    .dataframe thead th {\n",
       "        text-align: right;\n",
       "    }\n",
       "</style>\n",
       "<table border=\"1\" class=\"dataframe\">\n",
       "  <thead>\n",
       "    <tr style=\"text-align: right;\">\n",
       "      <th></th>\n",
       "      <th>ord_0</th>\n",
       "      <th>ord_1</th>\n",
       "      <th>ord_2</th>\n",
       "      <th>ord_3</th>\n",
       "    </tr>\n",
       "  </thead>\n",
       "  <tbody>\n",
       "    <tr>\n",
       "      <th>0</th>\n",
       "      <td>2</td>\n",
       "      <td>4</td>\n",
       "      <td>1</td>\n",
       "      <td>7</td>\n",
       "    </tr>\n",
       "    <tr>\n",
       "      <th>1</th>\n",
       "      <td>1</td>\n",
       "      <td>4</td>\n",
       "      <td>3</td>\n",
       "      <td>0</td>\n",
       "    </tr>\n",
       "    <tr>\n",
       "      <th>2</th>\n",
       "      <td>1</td>\n",
       "      <td>2</td>\n",
       "      <td>5</td>\n",
       "      <td>7</td>\n",
       "    </tr>\n",
       "    <tr>\n",
       "      <th>3</th>\n",
       "      <td>1</td>\n",
       "      <td>4</td>\n",
       "      <td>4</td>\n",
       "      <td>8</td>\n",
       "    </tr>\n",
       "    <tr>\n",
       "      <th>4</th>\n",
       "      <td>1</td>\n",
       "      <td>4</td>\n",
       "      <td>0</td>\n",
       "      <td>0</td>\n",
       "    </tr>\n",
       "  </tbody>\n",
       "</table>\n",
       "</div>"
      ],
      "text/plain": [
       "   ord_0  ord_1  ord_2  ord_3\n",
       "0      2      4      1      7\n",
       "1      1      4      3      0\n",
       "2      1      2      5      7\n",
       "3      1      4      4      8\n",
       "4      1      4      0      0"
      ]
     },
     "execution_count": 31,
     "metadata": {},
     "output_type": "execute_result"
    }
   ],
   "source": [
    "df_train[['ord_0', 'ord_1', 'ord_2', 'ord_3']].head()"
   ]
  },
  {
   "cell_type": "markdown",
   "metadata": {},
   "source": [
    "## Data Features\n",
    "\n",
    "- Let's see the data distributions\n",
    "\n",
    "- What's the target ratio of each value\n",
    "\n",
    "- Do we need do any transformation?"
   ]
  },
  {
   "cell_type": "code",
   "execution_count": 32,
   "metadata": {},
   "outputs": [
    {
     "ename": "TypeError",
     "evalue": "pointplot() got an unexpected keyword argument 'legend'",
     "output_type": "error",
     "traceback": [
      "\u001b[0;31m---------------------------------------------------------------------------\u001b[0m",
      "\u001b[0;31mTypeError\u001b[0m                                 Traceback (most recent call last)",
      "\u001b[0;32m<ipython-input-32-c3759400d6f0>\u001b[0m in \u001b[0;36m<module>\u001b[0;34m\u001b[0m\n\u001b[1;32m      2\u001b[0m \u001b[0;34m\u001b[0m\u001b[0m\n\u001b[1;32m      3\u001b[0m \u001b[0;31m# Calling the plot function with data columns\u001b[0m\u001b[0;34m\u001b[0m\u001b[0;34m\u001b[0m\u001b[0;34m\u001b[0m\u001b[0m\n\u001b[0;32m----> 4\u001b[0;31m \u001b[0mploting_cat_fet\u001b[0m\u001b[0;34m(\u001b[0m\u001b[0mdf_train\u001b[0m\u001b[0;34m,\u001b[0m \u001b[0mdata_cols\u001b[0m\u001b[0;34m,\u001b[0m \u001b[0mvis_row\u001b[0m \u001b[0;34m=\u001b[0m \u001b[0;36m5\u001b[0m\u001b[0;34m,\u001b[0m \u001b[0mvis_col\u001b[0m \u001b[0;34m=\u001b[0m \u001b[0;36m2\u001b[0m\u001b[0;34m)\u001b[0m\u001b[0;34m\u001b[0m\u001b[0;34m\u001b[0m\u001b[0m\n\u001b[0m",
      "\u001b[0;32m<ipython-input-15-787f92989fcf>\u001b[0m in \u001b[0;36mploting_cat_fet\u001b[0;34m(df, cols, vis_row, vis_col)\u001b[0m\n\u001b[1;32m     18\u001b[0m         \u001b[0;31m# twinX - to build a second yaxis\u001b[0m\u001b[0;34m\u001b[0m\u001b[0;34m\u001b[0m\u001b[0;34m\u001b[0m\u001b[0m\n\u001b[1;32m     19\u001b[0m         \u001b[0mgt\u001b[0m \u001b[0;34m=\u001b[0m \u001b[0max\u001b[0m\u001b[0;34m.\u001b[0m\u001b[0mtwinx\u001b[0m\u001b[0;34m(\u001b[0m\u001b[0;34m)\u001b[0m\u001b[0;34m\u001b[0m\u001b[0;34m\u001b[0m\u001b[0m\n\u001b[0;32m---> 20\u001b[0;31m         gt = sns.pointplot(x=col, y='Yes', data=tmp,\n\u001b[0m\u001b[1;32m     21\u001b[0m                            \u001b[0morder\u001b[0m\u001b[0;34m=\u001b[0m\u001b[0mlist\u001b[0m\u001b[0;34m(\u001b[0m\u001b[0mtmp\u001b[0m\u001b[0;34m[\u001b[0m\u001b[0mcol\u001b[0m\u001b[0;34m]\u001b[0m\u001b[0;34m.\u001b[0m\u001b[0mvalues\u001b[0m\u001b[0;34m)\u001b[0m\u001b[0;34m,\u001b[0m\u001b[0;34m\u001b[0m\u001b[0;34m\u001b[0m\u001b[0m\n\u001b[1;32m     22\u001b[0m                            color='black', legend=False)\n",
      "\u001b[0;31mTypeError\u001b[0m: pointplot() got an unexpected keyword argument 'legend'"
     ]
    },
    {
     "data": {
      "image/png": "[encoded data removed]",
      "text/plain": [
       "<Figure size 1224x2520 with 2 Axes>"
      ]
     },
     "metadata": {
      "needs_background": "light"
     },
     "output_type": "display_data"
    }
   ],
   "source": [
    "data_cols = ['day', 'month']\n",
    "\n",
    "# Calling the plot function with data columns\n",
    "ploting_cat_fet(df_train, data_cols, vis_row = 5, vis_col = 2)"
   ]
  },
  {
   "cell_type": "markdown",
   "metadata": {},
   "source": [
    "Curiously, the data have two values that have few entries.\n",
    "\n",
    "- In the day column, the value 6 (maybe saturday?) have less entries.\n",
    "\n",
    "- In the month column, the value 6 (maybe the holidays?) have less entries.\n",
    "\n",
    "At this moment, I will not transform it in dummy features, but could be a good solution to test."
   ]
  },
  {
   "cell_type": "markdown",
   "metadata": {},
   "source": [
    "## Encoding Data Features"
   ]
  },
  {
   "cell_type": "code",
   "execution_count": 33,
   "metadata": {},
   "outputs": [],
   "source": [
    "# Transfer the cyclical features into two dimensional sin-cos features\n",
    "# https://www.kaggle.com/avanwyk/encoding-cyclical-features-for-deep-learning\n",
    "\n",
    "def date_cyc_enc(df, col, max_vals):\n",
    "    df[col + '_sin'] = np.sin(2 * np.pi * df[col]/max_vals)\n",
    "    df[col + '_cos'] = np.cos(2 * np.pi * df[col]/max_vals)\n",
    "    return df\n",
    "\n",
    "df_train = date_cyc_enc(df_train, 'day', 7)\n",
    "df_test = date_cyc_enc(df_test, 'day', 7)\n",
    "\n",
    "df_train = date_cyc_enc(df_train, 'month', 12)\n",
    "df_test = date_cyc_enc(df_test, 'month', 12)\n",
    "\n",
    "# NOTE, I discovered it on: kaggle.com/gogo827jz/catboost-baseline-with-feature-importance"
   ]
  },
  {
   "cell_type": "markdown",
   "metadata": {},
   "source": [
    "## Ordinal Feature - High Cardinality Features\n",
    "\n",
    "- I will start by the ord_5 feature\n",
    "\n",
    "- It's an sparse ordinal feature"
   ]
  },
  {
   "cell_type": "code",
   "execution_count": 34,
   "metadata": {},
   "outputs": [],
   "source": [
    "#Credit of this features to: \n",
    "# https://www.kaggle.com/gogo827jz/catboost-baseline-with-feature-importance\n",
    "\n",
    "import string\n",
    "\n",
    "# Then encode 'ord_5' using ACSII values\n",
    "\n",
    "# Option 1 : Add up the indices of two letters in string.ascii_letters\n",
    "df_train['ord_5_oe_add'] = df_train['ord_5'].apply(lambda x : sum([(string.ascii_letters.find(letter) + 1) for letter in x]))\n",
    "df_test['ord_5_oe_add'] = df_test['ord_5'].apply(lambda x : sum([(string.ascii_letters.find(letter) + 1) for letter in x]))\n",
    "\n",
    "# Option 2 : Join the indices of two letters in string.ascii_letters\n",
    "df_train['ord_5_oe_join'] = df_train['ord_5'].apply(lambda x : float(''.join(str(string.ascii_letters.find(letter) + 1) for letter in x)))\n",
    "df_test['ord_5_oe_join'] = df_test['ord_5'].apply(lambda x : float(''.join(str(string.ascii_letters.find(letter) + 1) for letter in x)))\n",
    "\n",
    "# Option 3 : Split 'ord_5' into two new columns using the indices of two letters in string.ascii_letters, separately\n",
    "df_train['ord_5_oe1'] = df_train['ord_5'].apply(lambda x : (string.ascii_letters.find(x[0]) + 1))\n",
    "df_test['ord_5_oe1'] = df_test['ord_5'].apply(lambda x : (string.ascii_letters.find(x[0]) + 1))\n",
    "\n",
    "df_train['ord_5_oe2'] = df_train['ord_5'].apply(lambda x : (string.ascii_letters.find(x[1]) + 1))\n",
    "df_test['ord_5_oe2'] = df_test['ord_5'].apply(lambda x : (string.ascii_letters.find(x[1]) + 1))\n",
    "\n",
    "for col in ['ord_5_oe1', 'ord_5_oe2', 'ord_5_oe_add', 'ord_5_oe_join']:\n",
    "    df_train[col] = df_train[col].astype('float64')\n",
    "    df_test[col] = df_test[col].astype('float64')"
   ]
  },
  {
   "cell_type": "code",
   "execution_count": 35,
   "metadata": {},
   "outputs": [
    {
     "data": {
      "text/html": [
       "<div>\n",
       "<style scoped>\n",
       "    .dataframe tbody tr th:only-of-type {\n",
       "        vertical-align: middle;\n",
       "    }\n",
       "\n",
       "    .dataframe tbody tr th {\n",
       "        vertical-align: top;\n",
       "    }\n",
       "\n",
       "    .dataframe thead th {\n",
       "        text-align: right;\n",
       "    }\n",
       "</style>\n",
       "<table border=\"1\" class=\"dataframe\">\n",
       "  <thead>\n",
       "    <tr style=\"text-align: right;\">\n",
       "      <th></th>\n",
       "      <th>ord_5</th>\n",
       "      <th>ord_5_oe_add</th>\n",
       "      <th>ord_5_oe_join</th>\n",
       "      <th>ord_5_oe1</th>\n",
       "      <th>ord_5_oe2</th>\n",
       "    </tr>\n",
       "  </thead>\n",
       "  <tbody>\n",
       "    <tr>\n",
       "      <th>0</th>\n",
       "      <td>kr</td>\n",
       "      <td>29.0</td>\n",
       "      <td>1118.0</td>\n",
       "      <td>11.0</td>\n",
       "      <td>18.0</td>\n",
       "    </tr>\n",
       "    <tr>\n",
       "      <th>1</th>\n",
       "      <td>bF</td>\n",
       "      <td>34.0</td>\n",
       "      <td>232.0</td>\n",
       "      <td>2.0</td>\n",
       "      <td>32.0</td>\n",
       "    </tr>\n",
       "    <tr>\n",
       "      <th>2</th>\n",
       "      <td>Jc</td>\n",
       "      <td>39.0</td>\n",
       "      <td>363.0</td>\n",
       "      <td>36.0</td>\n",
       "      <td>3.0</td>\n",
       "    </tr>\n",
       "    <tr>\n",
       "      <th>3</th>\n",
       "      <td>kW</td>\n",
       "      <td>60.0</td>\n",
       "      <td>1149.0</td>\n",
       "      <td>11.0</td>\n",
       "      <td>49.0</td>\n",
       "    </tr>\n",
       "    <tr>\n",
       "      <th>4</th>\n",
       "      <td>qP</td>\n",
       "      <td>59.0</td>\n",
       "      <td>1742.0</td>\n",
       "      <td>17.0</td>\n",
       "      <td>42.0</td>\n",
       "    </tr>\n",
       "  </tbody>\n",
       "</table>\n",
       "</div>"
      ],
      "text/plain": [
       "  ord_5  ord_5_oe_add  ord_5_oe_join  ord_5_oe1  ord_5_oe2\n",
       "0    kr          29.0         1118.0       11.0       18.0\n",
       "1    bF          34.0          232.0        2.0       32.0\n",
       "2    Jc          39.0          363.0       36.0        3.0\n",
       "3    kW          60.0         1149.0       11.0       49.0\n",
       "4    qP          59.0         1742.0       17.0       42.0"
      ]
     },
     "execution_count": 35,
     "metadata": {},
     "output_type": "execute_result"
    }
   ],
   "source": [
    "df_train[['ord_5', 'ord_5_oe_add', 'ord_5_oe_join', 'ord_5_oe1', 'ord_5_oe2']].head()"
   ]
  },
  {
   "cell_type": "markdown",
   "metadata": {},
   "source": [
    "Cool, now, let's work on nominal features"
   ]
  },
  {
   "cell_type": "markdown",
   "metadata": {},
   "source": [
    "## Nominal Features - High Cardinality Features"
   ]
  },
  {
   "cell_type": "markdown",
   "metadata": {},
   "source": [
    "### Feature Hasher"
   ]
  },
  {
   "cell_type": "code",
   "execution_count": 36,
   "metadata": {},
   "outputs": [],
   "source": [
    "high_card_feats = ['nom_5', 'nom_6', 'nom_7', 'nom_8', 'nom_9']"
   ]
  },
  {
   "cell_type": "markdown",
   "metadata": {},
   "source": [
    "#### Nominal Features before hash transformation"
   ]
  },
  {
   "cell_type": "code",
   "execution_count": 37,
   "metadata": {},
   "outputs": [
    {
     "name": "stdout",
     "output_type": "stream",
     "text": [
      "Dataset Shape: (300000, 5)\n"
     ]
    },
    {
     "data": {
      "text/html": [
       "<div>\n",
       "<style scoped>\n",
       "    .dataframe tbody tr th:only-of-type {\n",
       "        vertical-align: middle;\n",
       "    }\n",
       "\n",
       "    .dataframe tbody tr th {\n",
       "        vertical-align: top;\n",
       "    }\n",
       "\n",
       "    .dataframe thead th {\n",
       "        text-align: right;\n",
       "    }\n",
       "</style>\n",
       "<table border=\"1\" class=\"dataframe\">\n",
       "  <thead>\n",
       "    <tr style=\"text-align: right;\">\n",
       "      <th></th>\n",
       "      <th>Name</th>\n",
       "      <th>dtypes</th>\n",
       "      <th>Missing</th>\n",
       "      <th>Uniques</th>\n",
       "      <th>First Value</th>\n",
       "      <th>Second Value</th>\n",
       "      <th>Third Value</th>\n",
       "      <th>Entropy</th>\n",
       "    </tr>\n",
       "  </thead>\n",
       "  <tbody>\n",
       "    <tr>\n",
       "      <th>0</th>\n",
       "      <td>nom_5</td>\n",
       "      <td>object</td>\n",
       "      <td>0</td>\n",
       "      <td>222</td>\n",
       "      <td>50f116bcf</td>\n",
       "      <td>b3b4d25d0</td>\n",
       "      <td>3263bdce5</td>\n",
       "      <td>7.49</td>\n",
       "    </tr>\n",
       "    <tr>\n",
       "      <th>1</th>\n",
       "      <td>nom_6</td>\n",
       "      <td>object</td>\n",
       "      <td>0</td>\n",
       "      <td>522</td>\n",
       "      <td>3ac1b8814</td>\n",
       "      <td>fbcb50fc1</td>\n",
       "      <td>0922e3cb8</td>\n",
       "      <td>8.74</td>\n",
       "    </tr>\n",
       "    <tr>\n",
       "      <th>2</th>\n",
       "      <td>nom_7</td>\n",
       "      <td>object</td>\n",
       "      <td>0</td>\n",
       "      <td>1220</td>\n",
       "      <td>68f6ad3e9</td>\n",
       "      <td>3b6dd5612</td>\n",
       "      <td>a6a36f527</td>\n",
       "      <td>9.97</td>\n",
       "    </tr>\n",
       "    <tr>\n",
       "      <th>3</th>\n",
       "      <td>nom_8</td>\n",
       "      <td>object</td>\n",
       "      <td>0</td>\n",
       "      <td>2215</td>\n",
       "      <td>c389000ab</td>\n",
       "      <td>4cd920251</td>\n",
       "      <td>de9c9f684</td>\n",
       "      <td>10.84</td>\n",
       "    </tr>\n",
       "    <tr>\n",
       "      <th>4</th>\n",
       "      <td>nom_9</td>\n",
       "      <td>object</td>\n",
       "      <td>0</td>\n",
       "      <td>11981</td>\n",
       "      <td>2f4cb3d51</td>\n",
       "      <td>f83c56c21</td>\n",
       "      <td>ae6800dd0</td>\n",
       "      <td>13.27</td>\n",
       "    </tr>\n",
       "  </tbody>\n",
       "</table>\n",
       "</div>"
      ],
      "text/plain": [
       "    Name  dtypes  Missing  Uniques First Value Second Value Third Value  \\\n",
       "0  nom_5  object        0      222   50f116bcf    b3b4d25d0   3263bdce5   \n",
       "1  nom_6  object        0      522   3ac1b8814    fbcb50fc1   0922e3cb8   \n",
       "2  nom_7  object        0     1220   68f6ad3e9    3b6dd5612   a6a36f527   \n",
       "3  nom_8  object        0     2215   c389000ab    4cd920251   de9c9f684   \n",
       "4  nom_9  object        0    11981   2f4cb3d51    f83c56c21   ae6800dd0   \n",
       "\n",
       "   Entropy  \n",
       "0     7.49  \n",
       "1     8.74  \n",
       "2     9.97  \n",
       "3    10.84  \n",
       "4    13.27  "
      ]
     },
     "execution_count": 37,
     "metadata": {},
     "output_type": "execute_result"
    }
   ],
   "source": [
    "resumetable(df_train[high_card_feats])"
   ]
  },
  {
   "cell_type": "markdown",
   "metadata": {},
   "source": [
    "We can see high-cardinality in all this columns. The fewer cardinality is 222 values and the highest is 11981 unique values.\n",
    "\n",
    "To work with these features, I will try the Hash Trick Solution. Let's see if it give us good results."
   ]
  },
  {
   "cell_type": "markdown",
   "metadata": {},
   "source": [
    "### Hash Trick (Feature Hash)\n",
    "\n",
    "- I got this solution from @Giba"
   ]
  },
  {
   "cell_type": "code",
   "execution_count": 38,
   "metadata": {},
   "outputs": [],
   "source": [
    "for col in high_card_feats:\n",
    "    df_train[f'hash_{col}'] = df_train[col].apply(lambda x : hash(str(x)) % 5000)\n",
    "    df_test[f'hash_{col}'] = df_test[col].apply(lambda x : hash(str(x)) % 5000)"
   ]
  },
  {
   "cell_type": "markdown",
   "metadata": {},
   "source": [
    "### Encoding with the Frequency"
   ]
  },
  {
   "cell_type": "code",
   "execution_count": 39,
   "metadata": {},
   "outputs": [],
   "source": [
    "for col in high_card_feats:\n",
    "    enc_nom_1 = (df_train.groupby(col).size()) / len(df_train)\n",
    "    df_train[f'freq_{col}'] = df_train[col].apply(lambda x : enc_nom_1[x])\n",
    "    \n",
    "    #df_test[f'enc_{col}'] = df_test[col].apply(lambda x : enc_nom_1[x])"
   ]
  },
  {
   "cell_type": "markdown",
   "metadata": {},
   "source": [
    "### Label Encoder"
   ]
  },
  {
   "cell_type": "code",
   "execution_count": 40,
   "metadata": {},
   "outputs": [],
   "source": [
    "from sklearn.preprocessing import LabelEncoder\n",
    "\n",
    "# Label Encoding\n",
    "for f in ['nom_5', 'nom_6', 'nom_7', 'nom_8', 'nom_9']:\n",
    "    if df_train[f].dtype == 'object' or df_test[f].dtype == 'object':\n",
    "        lbl = preprocessing.LabelEncoder()\n",
    "        lbl.fit(list(df_train[f].values) + list(df_test[f].values))\n",
    "        df_train[f'le_{f}'] = lbl.transform(list(df_train[f].values))\n",
    "        df_test[f'le_{f}'] = lbl.transform(list(df_test[f].values))"
   ]
  },
  {
   "cell_type": "markdown",
   "metadata": {},
   "source": [
    "Cool!<br>\n",
    "After all transformations done, we can see the summary of the features and what type differences we got."
   ]
  },
  {
   "cell_type": "code",
   "execution_count": 41,
   "metadata": {},
   "outputs": [
    {
     "name": "stdout",
     "output_type": "stream",
     "text": [
      "Dataset Shape: (300000, 20)\n"
     ]
    },
    {
     "data": {
      "text/html": [
       "<div>\n",
       "<style scoped>\n",
       "    .dataframe tbody tr th:only-of-type {\n",
       "        vertical-align: middle;\n",
       "    }\n",
       "\n",
       "    .dataframe tbody tr th {\n",
       "        vertical-align: top;\n",
       "    }\n",
       "\n",
       "    .dataframe thead th {\n",
       "        text-align: right;\n",
       "    }\n",
       "</style>\n",
       "<table border=\"1\" class=\"dataframe\">\n",
       "  <thead>\n",
       "    <tr style=\"text-align: right;\">\n",
       "      <th></th>\n",
       "      <th>Name</th>\n",
       "      <th>dtypes</th>\n",
       "      <th>Missing</th>\n",
       "      <th>Uniques</th>\n",
       "      <th>First Value</th>\n",
       "      <th>Second Value</th>\n",
       "      <th>Third Value</th>\n",
       "      <th>Entropy</th>\n",
       "    </tr>\n",
       "  </thead>\n",
       "  <tbody>\n",
       "    <tr>\n",
       "      <th>0</th>\n",
       "      <td>nom_5</td>\n",
       "      <td>object</td>\n",
       "      <td>0</td>\n",
       "      <td>222</td>\n",
       "      <td>50f116bcf</td>\n",
       "      <td>b3b4d25d0</td>\n",
       "      <td>3263bdce5</td>\n",
       "      <td>7.49</td>\n",
       "    </tr>\n",
       "    <tr>\n",
       "      <th>1</th>\n",
       "      <td>nom_6</td>\n",
       "      <td>object</td>\n",
       "      <td>0</td>\n",
       "      <td>522</td>\n",
       "      <td>3ac1b8814</td>\n",
       "      <td>fbcb50fc1</td>\n",
       "      <td>0922e3cb8</td>\n",
       "      <td>8.74</td>\n",
       "    </tr>\n",
       "    <tr>\n",
       "      <th>2</th>\n",
       "      <td>nom_7</td>\n",
       "      <td>object</td>\n",
       "      <td>0</td>\n",
       "      <td>1220</td>\n",
       "      <td>68f6ad3e9</td>\n",
       "      <td>3b6dd5612</td>\n",
       "      <td>a6a36f527</td>\n",
       "      <td>9.97</td>\n",
       "    </tr>\n",
       "    <tr>\n",
       "      <th>3</th>\n",
       "      <td>nom_8</td>\n",
       "      <td>object</td>\n",
       "      <td>0</td>\n",
       "      <td>2215</td>\n",
       "      <td>c389000ab</td>\n",
       "      <td>4cd920251</td>\n",
       "      <td>de9c9f684</td>\n",
       "      <td>10.84</td>\n",
       "    </tr>\n",
       "    <tr>\n",
       "      <th>4</th>\n",
       "      <td>nom_9</td>\n",
       "      <td>object</td>\n",
       "      <td>0</td>\n",
       "      <td>11981</td>\n",
       "      <td>2f4cb3d51</td>\n",
       "      <td>f83c56c21</td>\n",
       "      <td>ae6800dd0</td>\n",
       "      <td>13.27</td>\n",
       "    </tr>\n",
       "    <tr>\n",
       "      <th>5</th>\n",
       "      <td>hash_nom_5</td>\n",
       "      <td>int64</td>\n",
       "      <td>0</td>\n",
       "      <td>210</td>\n",
       "      <td>3887</td>\n",
       "      <td>1016</td>\n",
       "      <td>1080</td>\n",
       "      <td>7.42</td>\n",
       "    </tr>\n",
       "    <tr>\n",
       "      <th>6</th>\n",
       "      <td>hash_nom_6</td>\n",
       "      <td>int64</td>\n",
       "      <td>0</td>\n",
       "      <td>501</td>\n",
       "      <td>3119</td>\n",
       "      <td>1939</td>\n",
       "      <td>3066</td>\n",
       "      <td>8.67</td>\n",
       "    </tr>\n",
       "    <tr>\n",
       "      <th>7</th>\n",
       "      <td>hash_nom_7</td>\n",
       "      <td>int64</td>\n",
       "      <td>0</td>\n",
       "      <td>1075</td>\n",
       "      <td>2301</td>\n",
       "      <td>2047</td>\n",
       "      <td>4837</td>\n",
       "      <td>9.77</td>\n",
       "    </tr>\n",
       "    <tr>\n",
       "      <th>8</th>\n",
       "      <td>hash_nom_8</td>\n",
       "      <td>int64</td>\n",
       "      <td>0</td>\n",
       "      <td>1812</td>\n",
       "      <td>3714</td>\n",
       "      <td>3339</td>\n",
       "      <td>153</td>\n",
       "      <td>10.51</td>\n",
       "    </tr>\n",
       "    <tr>\n",
       "      <th>9</th>\n",
       "      <td>hash_nom_9</td>\n",
       "      <td>int64</td>\n",
       "      <td>0</td>\n",
       "      <td>4554</td>\n",
       "      <td>2965</td>\n",
       "      <td>2860</td>\n",
       "      <td>87</td>\n",
       "      <td>11.86</td>\n",
       "    </tr>\n",
       "    <tr>\n",
       "      <th>10</th>\n",
       "      <td>freq_nom_5</td>\n",
       "      <td>float64</td>\n",
       "      <td>0</td>\n",
       "      <td>216</td>\n",
       "      <td>0.008647</td>\n",
       "      <td>0.00264</td>\n",
       "      <td>0.008413</td>\n",
       "      <td>7.45</td>\n",
       "    </tr>\n",
       "    <tr>\n",
       "      <th>11</th>\n",
       "      <td>freq_nom_6</td>\n",
       "      <td>float64</td>\n",
       "      <td>0</td>\n",
       "      <td>422</td>\n",
       "      <td>0.003827</td>\n",
       "      <td>0.002807</td>\n",
       "      <td>0.003897</td>\n",
       "      <td>8.35</td>\n",
       "    </tr>\n",
       "    <tr>\n",
       "      <th>12</th>\n",
       "      <td>freq_nom_7</td>\n",
       "      <td>float64</td>\n",
       "      <td>0</td>\n",
       "      <td>468</td>\n",
       "      <td>0.000803</td>\n",
       "      <td>0.000957</td>\n",
       "      <td>0.001583</td>\n",
       "      <td>8.41</td>\n",
       "    </tr>\n",
       "    <tr>\n",
       "      <th>13</th>\n",
       "      <td>freq_nom_8</td>\n",
       "      <td>float64</td>\n",
       "      <td>0</td>\n",
       "      <td>290</td>\n",
       "      <td>0.000903</td>\n",
       "      <td>0.00037</td>\n",
       "      <td>0.000927</td>\n",
       "      <td>7.85</td>\n",
       "    </tr>\n",
       "    <tr>\n",
       "      <th>14</th>\n",
       "      <td>freq_nom_9</td>\n",
       "      <td>float64</td>\n",
       "      <td>0</td>\n",
       "      <td>69</td>\n",
       "      <td>0.000063</td>\n",
       "      <td>0.000043</td>\n",
       "      <td>0.000097</td>\n",
       "      <td>5.70</td>\n",
       "    </tr>\n",
       "    <tr>\n",
       "      <th>15</th>\n",
       "      <td>le_nom_5</td>\n",
       "      <td>int64</td>\n",
       "      <td>0</td>\n",
       "      <td>222</td>\n",
       "      <td>78</td>\n",
       "      <td>159</td>\n",
       "      <td>44</td>\n",
       "      <td>7.49</td>\n",
       "    </tr>\n",
       "    <tr>\n",
       "      <th>16</th>\n",
       "      <td>le_nom_6</td>\n",
       "      <td>int64</td>\n",
       "      <td>0</td>\n",
       "      <td>522</td>\n",
       "      <td>120</td>\n",
       "      <td>510</td>\n",
       "      <td>14</td>\n",
       "      <td>8.74</td>\n",
       "    </tr>\n",
       "    <tr>\n",
       "      <th>17</th>\n",
       "      <td>le_nom_7</td>\n",
       "      <td>int64</td>\n",
       "      <td>0</td>\n",
       "      <td>1220</td>\n",
       "      <td>491</td>\n",
       "      <td>260</td>\n",
       "      <td>766</td>\n",
       "      <td>9.97</td>\n",
       "    </tr>\n",
       "    <tr>\n",
       "      <th>18</th>\n",
       "      <td>le_nom_8</td>\n",
       "      <td>int64</td>\n",
       "      <td>0</td>\n",
       "      <td>2215</td>\n",
       "      <td>1689</td>\n",
       "      <td>652</td>\n",
       "      <td>1935</td>\n",
       "      <td>10.84</td>\n",
       "    </tr>\n",
       "    <tr>\n",
       "      <th>19</th>\n",
       "      <td>le_nom_9</td>\n",
       "      <td>int64</td>\n",
       "      <td>0</td>\n",
       "      <td>11981</td>\n",
       "      <td>2192</td>\n",
       "      <td>11719</td>\n",
       "      <td>8140</td>\n",
       "      <td>13.27</td>\n",
       "    </tr>\n",
       "  </tbody>\n",
       "</table>\n",
       "</div>"
      ],
      "text/plain": [
       "          Name   dtypes  Missing  Uniques First Value Second Value  \\\n",
       "0        nom_5   object        0      222   50f116bcf    b3b4d25d0   \n",
       "1        nom_6   object        0      522   3ac1b8814    fbcb50fc1   \n",
       "2        nom_7   object        0     1220   68f6ad3e9    3b6dd5612   \n",
       "3        nom_8   object        0     2215   c389000ab    4cd920251   \n",
       "4        nom_9   object        0    11981   2f4cb3d51    f83c56c21   \n",
       "5   hash_nom_5    int64        0      210        3887         1016   \n",
       "6   hash_nom_6    int64        0      501        3119         1939   \n",
       "7   hash_nom_7    int64        0     1075        2301         2047   \n",
       "8   hash_nom_8    int64        0     1812        3714         3339   \n",
       "9   hash_nom_9    int64        0     4554        2965         2860   \n",
       "10  freq_nom_5  float64        0      216    0.008647      0.00264   \n",
       "11  freq_nom_6  float64        0      422    0.003827     0.002807   \n",
       "12  freq_nom_7  float64        0      468    0.000803     0.000957   \n",
       "13  freq_nom_8  float64        0      290    0.000903      0.00037   \n",
       "14  freq_nom_9  float64        0       69    0.000063     0.000043   \n",
       "15    le_nom_5    int64        0      222          78          159   \n",
       "16    le_nom_6    int64        0      522         120          510   \n",
       "17    le_nom_7    int64        0     1220         491          260   \n",
       "18    le_nom_8    int64        0     2215        1689          652   \n",
       "19    le_nom_9    int64        0    11981        2192        11719   \n",
       "\n",
       "   Third Value  Entropy  \n",
       "0    3263bdce5     7.49  \n",
       "1    0922e3cb8     8.74  \n",
       "2    a6a36f527     9.97  \n",
       "3    de9c9f684    10.84  \n",
       "4    ae6800dd0    13.27  \n",
       "5         1080     7.42  \n",
       "6         3066     8.67  \n",
       "7         4837     9.77  \n",
       "8          153    10.51  \n",
       "9           87    11.86  \n",
       "10    0.008413     7.45  \n",
       "11    0.003897     8.35  \n",
       "12    0.001583     8.41  \n",
       "13    0.000927     7.85  \n",
       "14    0.000097     5.70  \n",
       "15          44     7.49  \n",
       "16          14     8.74  \n",
       "17         766     9.97  \n",
       "18        1935    10.84  \n",
       "19        8140    13.27  "
      ]
     },
     "execution_count": 41,
     "metadata": {},
     "output_type": "execute_result"
    }
   ],
   "source": [
    "new_feat = ['hash_nom_5', 'hash_nom_6', 'hash_nom_7', 'hash_nom_8',\n",
    "           'hash_nom_9', 'freq_nom_5', 'freq_nom_6', 'freq_nom_7',\n",
    "           'freq_nom_8', 'freq_nom_9', 'le_nom_5', 'le_nom_6',\n",
    "           'le_nom_7', 'le_nom_8', 'le_nom_9']\n",
    "\n",
    "resumetable(df_train[high_card_feats + new_feat])"
   ]
  },
  {
   "cell_type": "markdown",
   "metadata": {},
   "source": [
    "#### Looking nominal features after hash trick transformation"
   ]
  },
  {
   "cell_type": "code",
   "execution_count": 42,
   "metadata": {},
   "outputs": [
    {
     "data": {
      "text/html": [
       "<div>\n",
       "<style scoped>\n",
       "    .dataframe tbody tr th:only-of-type {\n",
       "        vertical-align: middle;\n",
       "    }\n",
       "\n",
       "    .dataframe tbody tr th {\n",
       "        vertical-align: top;\n",
       "    }\n",
       "\n",
       "    .dataframe thead th {\n",
       "        text-align: right;\n",
       "    }\n",
       "</style>\n",
       "<table border=\"1\" class=\"dataframe\">\n",
       "  <thead>\n",
       "    <tr style=\"text-align: right;\">\n",
       "      <th></th>\n",
       "      <th>nom_5</th>\n",
       "      <th>hash_nom_5</th>\n",
       "      <th>freq_nom_5</th>\n",
       "      <th>le_nom_5</th>\n",
       "    </tr>\n",
       "  </thead>\n",
       "  <tbody>\n",
       "    <tr>\n",
       "      <th>0</th>\n",
       "      <td>50f116bcf</td>\n",
       "      <td>3887</td>\n",
       "      <td>0.008647</td>\n",
       "      <td>78</td>\n",
       "    </tr>\n",
       "    <tr>\n",
       "      <th>1</th>\n",
       "      <td>b3b4d25d0</td>\n",
       "      <td>1016</td>\n",
       "      <td>0.002640</td>\n",
       "      <td>159</td>\n",
       "    </tr>\n",
       "    <tr>\n",
       "      <th>2</th>\n",
       "      <td>3263bdce5</td>\n",
       "      <td>1080</td>\n",
       "      <td>0.008413</td>\n",
       "      <td>44</td>\n",
       "    </tr>\n",
       "    <tr>\n",
       "      <th>3</th>\n",
       "      <td>f12246592</td>\n",
       "      <td>2554</td>\n",
       "      <td>0.003250</td>\n",
       "      <td>209</td>\n",
       "    </tr>\n",
       "    <tr>\n",
       "      <th>4</th>\n",
       "      <td>5b0f5acd5</td>\n",
       "      <td>1248</td>\n",
       "      <td>0.006700</td>\n",
       "      <td>90</td>\n",
       "    </tr>\n",
       "  </tbody>\n",
       "</table>\n",
       "</div>"
      ],
      "text/plain": [
       "       nom_5  hash_nom_5  freq_nom_5  le_nom_5\n",
       "0  50f116bcf        3887    0.008647        78\n",
       "1  b3b4d25d0        1016    0.002640       159\n",
       "2  3263bdce5        1080    0.008413        44\n",
       "3  f12246592        2554    0.003250       209\n",
       "4  5b0f5acd5        1248    0.006700        90"
      ]
     },
     "execution_count": 42,
     "metadata": {},
     "output_type": "execute_result"
    }
   ],
   "source": [
    "df_train[['nom_5', 'hash_nom_5', 'freq_nom_5', 'le_nom_5']].head()"
   ]
  },
  {
   "cell_type": "markdown",
   "metadata": {},
   "source": [
    "Cool! Now, we can run our model. Let's do it."
   ]
  },
  {
   "cell_type": "markdown",
   "metadata": {},
   "source": [
    "## Pre Processing\n",
    "\n",
    "- I will keep only the frequency encoding to evaluate the results.\n",
    "\n",
    "Feel free to change if you would."
   ]
  },
  {
   "cell_type": "code",
   "execution_count": 43,
   "metadata": {},
   "outputs": [],
   "source": [
    "df_train.drop(['ord_5_ot', 'ord_5', 'hash_nom_6', 'hash_nom_7', 'hash_nom_8', 'hash_nom_9',\n",
    "              'freq_nom_5', 'freq_nom_6', 'freq_nom_7', 'freq_nom_8', 'freq_nom_9',\n",
    "              'nom_5', 'nom_6', 'nom_7', 'nom_8', 'nom_9'], axis = 1, inplace = True)\n",
    "df_test.drop(['ord_5', 'hash_nom_6', 'hash_nom_7', 'hash_nom_8', 'hash_nom_9',\n",
    "             'nom_5', 'nom_6', 'nom_7', 'nom_8', 'nom_9'], axis = 1, inplace = True)"
   ]
  },
  {
   "cell_type": "markdown",
   "metadata": {},
   "source": [
    "#### Setting X and Y"
   ]
  },
  {
   "cell_type": "code",
   "execution_count": 44,
   "metadata": {},
   "outputs": [
    {
     "name": "stdout",
     "output_type": "stream",
     "text": [
      "Mem. usage decreased to 30.95 Mb (57.1% reduction)\n",
      "Mem. usage decreased to 13.73 Mb (66.7% reduction)\n"
     ]
    }
   ],
   "source": [
    "df_train = reduce_mem_usage(df_train)\n",
    "df_test = reduce_mem_usage(df_test)"
   ]
  },
  {
   "cell_type": "code",
   "execution_count": 45,
   "metadata": {},
   "outputs": [
    {
     "data": {
      "text/plain": [
       "(300000, 46)"
      ]
     },
     "execution_count": 45,
     "metadata": {},
     "output_type": "execute_result"
    }
   ],
   "source": [
    "X_train = df_train.drop([\"id\", \"target\"], axis = 1)\n",
    "y_train = df_train[\"target\"]\n",
    "y_train = y_train.astype(bool)\n",
    "X_test = df_test.drop([\"id\"], axis = 1)\n",
    "\n",
    "X_train.shape"
   ]
  },
  {
   "cell_type": "markdown",
   "metadata": {},
   "source": [
    "### Libraries to Machine Learning Modeling"
   ]
  },
  {
   "cell_type": "code",
   "execution_count": 46,
   "metadata": {},
   "outputs": [],
   "source": [
    "# Importing the auxiliar and preprocessing librarys\n",
    "from sklearn.metrics import accuracy_score, confusion_matrix, classification_report\n",
    "from sklearn.model_selection import cross_val_score\n",
    "from sklearn.preprocessing import LabelEncoder, StandardScaler\n",
    "from sklearn.pipeline import Pipeline\n",
    "\n",
    "from sklearn.model_selection import train_test_split, KFold, cross_validate\n",
    "from sklearn.metrics import accuracy_score\n",
    "\n",
    "# Models\n",
    "from sklearn.cluster import KMeans\n",
    "from sklearn.decomposition import PCA\n",
    "from sklearn.svm import SVC\n",
    "from sklearn.linear_model import RidgeClassifier, SGDClassifier, LogisticRegression\n",
    "from sklearn.svm import SVC, LinearSVC\n",
    "from sklearn.neighbors import KNeighborsClassifier\n",
    "from sklearn.tree import DecisionTreeClassifier\n",
    "from xgboost import XGBClassifier\n",
    "from sklearn.naive_bayes import MultinomialNB\n",
    "from sklearn.feature_selection import SelectFromModel\n",
    "from sklearn.ensemble import RandomForestClassifier, GradientBoostingClassifier, ExtraTreesClassifier, BaggingClassifier, VotingClassifier, RandomTreesEmbedding"
   ]
  },
  {
   "cell_type": "markdown",
   "metadata": {},
   "source": [
    "## Creating pipeline to evaluate different models"
   ]
  },
  {
   "cell_type": "code",
   "execution_count": 47,
   "metadata": {},
   "outputs": [
    {
     "name": "stdout",
     "output_type": "stream",
     "text": [
      "LogReg: 0.749999 (+/- 0.002277)\n",
      "XGBClassifier: 0.771168 (+/- 0.002244)\n",
      "DecisionTreeClassifier: 0.571017 (+/- 0.002854)\n",
      "RandomForestClassifier: 0.737393 (+/- 0.003149)\n",
      "GradientBoostingClassifier: 0.759458 (+/- 0.002174)\n",
      "RidgeClassifier: 0.749930 (+/- 0.002275)\n",
      "BaggingClassifier: 0.681886 (+/- 0.002838)\n",
      "ExtraTreesClassifier: 0.737946 (+/- 0.002229)\n"
     ]
    }
   ],
   "source": [
    "clfs = []\n",
    "seed = 42\n",
    "\n",
    "clfs.append((\"LogReg\", \n",
    "             Pipeline([(\"Scaler\", StandardScaler()),\n",
    "                       (\"LogReg\", LogisticRegression())])))\n",
    "\n",
    "clfs.append((\"XGBClassifier\", XGBClassifier()))\n",
    "\n",
    "clfs.append((\"DecisionTreeClassifier\", DecisionTreeClassifier()))\n",
    "\n",
    "clfs.append((\"RandomForestClassifier\", RandomForestClassifier(n_estimators=100)))\n",
    "\n",
    "clfs.append((\"GradientBoostingClassifier\", GradientBoostingClassifier(n_estimators=100)))\n",
    "\n",
    "clfs.append((\"RidgeClassifier\", \n",
    "             Pipeline([(\"Scaler\", StandardScaler()),\n",
    "                       (\"RidgeClassifier\", RidgeClassifier())])))\n",
    "\n",
    "clfs.append((\"BaggingClassifier\",\n",
    "             Pipeline([(\"Scaler\", StandardScaler()),\n",
    "                       (\"BaggingClassifier\", BaggingClassifier())])))\n",
    "\n",
    "clfs.append((\"ExtraTreesClassifier\",ExtraTreesClassifier()))\n",
    "\n",
    "#'neg_mean_absolute_error', 'neg_mean_squared_error','r2'\n",
    "scoring = 'roc_auc'\n",
    "n_folds = 7\n",
    "\n",
    "results, names  = [], [] \n",
    "\n",
    "for name, model  in clfs:\n",
    "    kfold = KFold(n_splits=n_folds, shuffle=True, random_state=seed)\n",
    "    \n",
    "    cv_results = cross_val_score(model, \n",
    "                                 X_train.values, y_train, \n",
    "                                 cv= kfold, scoring=scoring,\n",
    "                                 n_jobs=-1)    \n",
    "    names.append(name)\n",
    "    results.append(cv_results)    \n",
    "    msg = \"%s: %f (+/- %f)\" % (name, cv_results.mean(),  \n",
    "                               cv_results.std())\n",
    "    print(msg)"
   ]
  },
  {
   "cell_type": "code",
   "execution_count": 48,
   "metadata": {},
   "outputs": [
    {
     "data": {
      "image/png": "[encoded data removed]",
      "text/plain": [
       "<Figure size 1080x432 with 1 Axes>"
      ]
     },
     "metadata": {
      "needs_background": "light"
     },
     "output_type": "display_data"
    }
   ],
   "source": [
    "# boxplot algorithm comparison\n",
    "fig = plt.figure(figsize=(15,6))\n",
    "fig.suptitle('Classifier Algorithm Comparison', fontsize=22)\n",
    "ax = fig.add_subplot(111)\n",
    "ax = sns.boxplot(data = results)\n",
    "ax.set_xticklabels(names)\n",
    "ax.set_xlabel(\"Algorithmn\", fontsize=20) \n",
    "ax.set_ylabel(\"Accuracy of Models\", fontsize=18)\n",
    "ax.set_xticklabels(ax.get_xticklabels(),rotation=45)\n",
    "\n",
    "plt.show()"
   ]
  },
  {
   "cell_type": "markdown",
   "metadata": {},
   "source": [
    "We can see that Xgb is the best model. Let's use it with hyperopt."
   ]
  },
  {
   "cell_type": "markdown",
   "metadata": {},
   "source": [
    "## XGB - HyperOpt Optimization"
   ]
  },
  {
   "cell_type": "code",
   "execution_count": 49,
   "metadata": {},
   "outputs": [],
   "source": [
    "from sklearn.model_selection import KFold\n",
    "from sklearn.metrics import roc_auc_score\n",
    "from xgboost import plot_importance\n",
    "from sklearn.metrics import make_scorer\n",
    "\n",
    "import time\n",
    "\n",
    "def objective(params):\n",
    "    time1 = time.time()\n",
    "    params = {\n",
    "        'max_depth': int(params['max_depth']),\n",
    "        'gamma': \"{:.3f}\".format(params['gamma']),\n",
    "        'subsample': \"{:.2f}\".format(params['subsample']),\n",
    "        'reg_alpha': \"{:.3f}\".format(params['reg_alpha']),\n",
    "        'reg_lambda': \"{:.3f}\".format(params['reg_lambda']),\n",
    "        'learning_rate': \"{:.3f}\".format(params['learning_rate']),\n",
    "        'num_leaves': '{:.3f}'.format(params['num_leaves']),\n",
    "        'colsample_bytree': '{:.3f}'.format(params['colsample_bytree']),\n",
    "        'min_child_samples': '{:.3f}'.format(params['min_child_samples']),\n",
    "        'feature_fraction': '{:.3f}'.format(params['feature_fraction']),\n",
    "        'bagging_fraction': '{:.3f}'.format(params['bagging_fraction'])\n",
    "    }\n",
    "\n",
    "    print(\"\\n############## New Run ################\")\n",
    "    print(f\"params = {params}\")\n",
    "    FOLDS = 12\n",
    "    count=1\n",
    "    kf = KFold(n_splits=FOLDS, shuffle=True, random_state=42)\n",
    "\n",
    "    # tss = TimeSeriesSplit(n_splits=FOLDS)\n",
    "    y_preds = np.zeros(submission.shape[0])\n",
    "    # y_oof = np.zeros(X_train.shape[0])\n",
    "    score_mean = 0\n",
    "    for tr_idx, val_idx in kf.split(X_train, y_train):\n",
    "        clf = xgb.XGBClassifier(\n",
    "            n_estimators=500, random_state=4, \n",
    "            verbose=True, \n",
    "            tree_method='gpu_hist', \n",
    "            **params\n",
    "        )\n",
    "\n",
    "        X_tr, X_vl = X_train.iloc[tr_idx, :], X_train.iloc[val_idx, :]\n",
    "        y_tr, y_vl = y_train.iloc[tr_idx], y_train.iloc[val_idx]\n",
    "        \n",
    "        clf.fit(X_tr, y_tr)\n",
    "        #y_pred_train = clf.predict_proba(X_vl)[:,1]\n",
    "        #print(y_pred_train)\n",
    "        score = make_scorer(roc_auc_score, needs_proba=True)(clf, X_vl, y_vl)\n",
    "        # plt.show()\n",
    "        score_mean += score\n",
    "        print(f'{count} CV - score: {round(score, 4)}')\n",
    "        count += 1\n",
    "    time2 = time.time() - time1\n",
    "    print(f\"Total Time Run: {round(time2 / 60,2)}\")\n",
    "    gc.collect()\n",
    "    print(f'Mean ROC_AUC: {score_mean / FOLDS}')\n",
    "    del X_tr, X_vl, y_tr, y_vl, clf, score\n",
    "    \n",
    "    return -(score_mean / FOLDS)\n",
    "\n",
    "space = {\n",
    "    # The maximum depth of a tree, same as GBM.\n",
    "    # Used to control over-fitting as higher depth will allow model \n",
    "    # to learn relations very specific to a particular sample.\n",
    "    # Should be tuned using CV.\n",
    "    # Typical values: 3-10\n",
    "    'max_depth': hp.quniform('max_depth', 2, 8, 1),\n",
    "    \n",
    "    # reg_alpha: L1 regularization term. L1 regularization encourages sparsity \n",
    "    # (meaning pulling weights to 0). It can be more useful when the objective\n",
    "    # is logistic regression since you might need help with feature selection.\n",
    "    'reg_alpha':  hp.uniform('reg_alpha', 0.01, 0.4),\n",
    "    \n",
    "    # reg_lambda: L2 regularization term. L2 encourages smaller weights, this\n",
    "    # approach can be more useful in tree-models where zeroing \n",
    "    # features might not make much sense.\n",
    "    'reg_lambda': hp.uniform('reg_lambda', 0.01, .4),\n",
    "    \n",
    "    # eta: Analogous to learning rate in GBM\n",
    "    # Makes the model more robust by shrinking the weights on each step\n",
    "    # Typical final values to be used: 0.01-0.2\n",
    "    'learning_rate': hp.uniform('learning_rate', 0.01, 0.15),\n",
    "    \n",
    "    # colsample_bytree: Similar to max_features in GBM. Denotes the \n",
    "    # fraction of columns to be randomly samples for each tree.\n",
    "    # Typical values: 0.5-1\n",
    "    'colsample_bytree': hp.uniform('colsample_bytree', 0.3, 1),\n",
    "    \n",
    "    # A node is split only when the resulting split gives a positive\n",
    "    # reduction in the loss function. Gamma specifies the \n",
    "    # minimum loss reduction required to make a split.\n",
    "    # Makes the algorithm conservative. The values can vary depending on the loss function and should be tuned.\n",
    "    'gamma': hp.uniform('gamma', 0.01, .7),\n",
    "    \n",
    "    # more increases accuracy, but may lead to overfitting.\n",
    "    # num_leaves: the number of leaf nodes to use. Having a large number \n",
    "    # of leaves will improve accuracy, but will also lead to overfitting.\n",
    "    'num_leaves': hp.choice('num_leaves', list(range(20, 200, 5))),\n",
    "    \n",
    "    # specifies the minimum samples per leaf node.\n",
    "    # the minimum number of samples (data) to group into a leaf. \n",
    "    # The parameter can greatly assist with overfitting: larger sample\n",
    "    # sizes per leaf will reduce overfitting (but may lead to under-fitting).\n",
    "    'min_child_samples': hp.choice('min_child_samples', list(range(100, 250, 10))),\n",
    "    \n",
    "    # subsample: represents a fraction of the rows (observations) to be \n",
    "    # considered when building each subtree. Tianqi Chen and Carlos Guestrin\n",
    "    # in their paper A Scalable Tree Boosting System recommend \n",
    "    'subsample': hp.choice('subsample', [.5, 0.6, 0.7, .8]),\n",
    "    \n",
    "    # randomly select a fraction of the features.\n",
    "    # feature_fraction: controls the subsampling of features used\n",
    "    # for training (as opposed to subsampling the actual training data in \n",
    "    # the case of bagging). Smaller fractions reduce overfitting.\n",
    "    'feature_fraction': hp.uniform('feature_fraction', 0.4, .8),\n",
    "    \n",
    "    # randomly bag or subsample training data.\n",
    "    'bagging_fraction': hp.uniform('bagging_fraction', 0.4, .9)\n",
    "    \n",
    "    # bagging_fraction and bagging_freq: enables bagging (subsampling) \n",
    "    # of the training data. Both values need to be set for bagging to be used.\n",
    "    # The frequency controls how often (iteration) bagging is used. Smaller\n",
    "    # fractions and frequencies reduce overfitting.\n",
    "}"
   ]
  },
  {
   "cell_type": "markdown",
   "metadata": {},
   "source": [
    "### HyperOpt Run"
   ]
  },
  {
   "cell_type": "code",
   "execution_count": 50,
   "metadata": {},
   "outputs": [
    {
     "name": "stdout",
     "output_type": "stream",
     "text": [
      "Help on function fmin in module hyperopt.fmin:\n",
      "\n",
      "fmin(fn, space, algo=None, max_evals=None, timeout=None, loss_threshold=None, trials=None, rstate=None, allow_trials_fmin=True, pass_expr_memo_ctrl=None, catch_eval_exceptions=False, verbose=True, return_argmin=True, points_to_evaluate=None, max_queue_len=1, show_progressbar=True, early_stop_fn=None, trials_save_file='')\n",
      "    Minimize a function over a hyperparameter space.\n",
      "    \n",
      "    More realistically: *explore* a function over a hyperparameter space\n",
      "    according to a given algorithm, allowing up to a certain number of\n",
      "    function evaluations.  As points are explored, they are accumulated in\n",
      "    `trials`\n",
      "    \n",
      "    \n",
      "    Parameters\n",
      "    ----------\n",
      "    \n",
      "    fn : callable (trial point -> loss)\n",
      "        This function will be called with a value generated from `space`\n",
      "        as the first and possibly only argument.  It can return either\n",
      "        a scalar-valued loss, or a dictionary.  A returned dictionary must\n",
      "        contain a 'status' key with a value from `STATUS_STRINGS`, must\n",
      "        contain a 'loss' key if the status is `STATUS_OK`. Particular\n",
      "        optimization algorithms may look for other keys as well.  An\n",
      "        optional sub-dictionary associated with an 'attachments' key will\n",
      "        be removed by fmin its contents will be available via\n",
      "        `trials.trial_attachments`. The rest (usually all) of the returned\n",
      "        dictionary will be stored and available later as some 'result'\n",
      "        sub-dictionary within `trials.trials`.\n",
      "    \n",
      "    space : hyperopt.pyll.Apply node or \"annotated\"\n",
      "        The set of possible arguments to `fn` is the set of objects\n",
      "        that could be created with non-zero probability by drawing randomly\n",
      "        from this stochastic program involving involving hp_<xxx> nodes\n",
      "        (see `hyperopt.hp` and `hyperopt.pyll_utils`).\n",
      "        If set to \"annotated\", will read space using type hint in fn. Ex:\n",
      "        (`def fn(x: hp.uniform(\"x\", -1, 1)): return x`)\n",
      "    \n",
      "    algo : search algorithm\n",
      "        This object, such as `hyperopt.rand.suggest` and\n",
      "        `hyperopt.tpe.suggest` provides logic for sequential search of the\n",
      "        hyperparameter space.\n",
      "    \n",
      "    max_evals : int\n",
      "        Allow up to this many function evaluations before returning.\n",
      "    \n",
      "    timeout : None or int, default None\n",
      "        Limits search time by parametrized number of seconds.\n",
      "        If None, then the search process has no time constraint.\n",
      "    \n",
      "    loss_threshold : None or double, default None\n",
      "        Limits search time when minimal loss reduced to certain amount.\n",
      "        If None, then the search process has no constraint on the loss,\n",
      "        and will stop based on other parameters, e.g. `max_evals`, `timeout`\n",
      "    \n",
      "    trials : None or base.Trials (or subclass)\n",
      "        Storage for completed, ongoing, and scheduled evaluation points.  If\n",
      "        None, then a temporary `base.Trials` instance will be created.  If\n",
      "        a trials object, then that trials object will be affected by\n",
      "        side-effect of this call.\n",
      "    \n",
      "    rstate : numpy.random.Generator, default numpy.random or `$HYPEROPT_FMIN_SEED`\n",
      "        Each call to `algo` requires a seed value, which should be different\n",
      "        on each call. This object is used to draw these seeds via `randint`.\n",
      "        The default rstate is\n",
      "        `numpy.random.default_rng(int(env['HYPEROPT_FMIN_SEED']))`\n",
      "        if the `HYPEROPT_FMIN_SEED` environment variable is set to a non-empty\n",
      "        string, otherwise np.random is used in whatever state it is in.\n",
      "    \n",
      "    verbose : bool\n",
      "        Print out some information to stdout during search. If False, disable\n",
      "            progress bar irrespectively of show_progressbar argument\n",
      "    \n",
      "    allow_trials_fmin : bool, default True\n",
      "        If the `trials` argument\n",
      "    \n",
      "    pass_expr_memo_ctrl : bool, default False\n",
      "        If set to True, `fn` will be called in a different more low-level\n",
      "        way: it will receive raw hyperparameters, a partially-populated\n",
      "        `memo`, and a Ctrl object for communication with this Trials\n",
      "        object.\n",
      "    \n",
      "    return_argmin : bool, default True\n",
      "        If set to False, this function returns nothing, which can be useful\n",
      "        for example if it is expected that `len(trials)` may be zero after\n",
      "        fmin, and therefore `trials.argmin` would be undefined.\n",
      "    \n",
      "    points_to_evaluate : list, default None\n",
      "        Only works if trials=None. If points_to_evaluate equals None then the\n",
      "        trials are evaluated normally. If list of dicts is passed then\n",
      "        given points are evaluated before optimisation starts, so the overall\n",
      "        number of optimisation steps is len(points_to_evaluate) + max_evals.\n",
      "        Elements of this list must be in a form of a dictionary with variable\n",
      "        names as keys and variable values as dict values. Example\n",
      "        points_to_evaluate value is [{'x': 0.0, 'y': 0.0}, {'x': 1.0, 'y': 2.0}]\n",
      "    \n",
      "    max_queue_len : integer, default 1\n",
      "        Sets the queue length generated in the dictionary or trials. Increasing this\n",
      "        value helps to slightly speed up parallel simulatulations which sometimes lag\n",
      "        on suggesting a new trial.\n",
      "    \n",
      "    show_progressbar : bool or context manager, default True (or False is verbose is False).\n",
      "        Show a progressbar. See `hyperopt.progress` for customizing progress reporting.\n",
      "    \n",
      "    early_stop_fn: callable ((result, *args) -> (Boolean, *args)).\n",
      "        Called after every run with the result of the run and the values returned by the function previously.\n",
      "        Stop the search if the function return true.\n",
      "        Default None.\n",
      "    \n",
      "    trials_save_file: str, default \"\"\n",
      "        Optional file name to save the trials object to every iteration.\n",
      "        If specified and the file already exists, will load from this file when\n",
      "        trials=None instead of creating a new base.Trials object\n",
      "    \n",
      "    Returns\n",
      "    -------\n",
      "    \n",
      "    argmin : dictionary\n",
      "        If return_argmin is True returns `trials.argmin` which is a dictionary.  Otherwise\n",
      "        this function  returns the result of `hyperopt.space_eval(space, trails.argmin)` if there\n",
      "        were successfull trails. This object shares the same structure as the space passed.\n",
      "        If there were no successfull trails, it returns None.\n",
      "\n"
     ]
    }
   ],
   "source": [
    "help(fmin)"
   ]
  },
  {
   "cell_type": "code",
   "execution_count": 58,
   "metadata": {
    "collapsed": true,
    "jupyter": {
     "outputs_hidden": true
    },
    "tags": []
   },
   "outputs": [
    {
     "name": "stdout",
     "output_type": "stream",
     "text": [
      "                                                      \n",
      "############## New Run ################\n",
      "params = {'max_depth': 6, 'gamma': '0.568', 'subsample': '0.60', 'reg_alpha': '0.056', 'reg_lambda': '0.134', 'learning_rate': '0.038', 'num_leaves': '80.000', 'colsample_bytree': '0.722', 'min_child_samples': '160.000', 'feature_fraction': '0.677', 'bagging_fraction': '0.663'}\n",
      "[21:28:32] WARNING: ../src/learner.cc:767:            \n",
      "Parameters: { \"bagging_fraction\", \"feature_fraction\", \"min_child_samples\", \"num_leaves\", \"verbose\" } are not used.\n",
      "\n",
      "1 CV - score: 0.7742                                  \n",
      "[21:28:36] WARNING: ../src/learner.cc:767:            \n",
      "Parameters: { \"bagging_fraction\", \"feature_fraction\", \"min_child_samples\", \"num_leaves\", \"verbose\" } are not used.\n",
      "\n",
      "2 CV - score: 0.7731                                  \n",
      "[21:28:40] WARNING: ../src/learner.cc:767:            \n",
      "Parameters: { \"bagging_fraction\", \"feature_fraction\", \"min_child_samples\", \"num_leaves\", \"verbose\" } are not used.\n",
      "\n",
      "3 CV - score: 0.7783                                  \n",
      "[21:28:43] WARNING: ../src/learner.cc:767:            \n",
      "Parameters: { \"bagging_fraction\", \"feature_fraction\", \"min_child_samples\", \"num_leaves\", \"verbose\" } are not used.\n",
      "\n",
      "4 CV - score: 0.7717                                  \n",
      "[21:28:47] WARNING: ../src/learner.cc:767:            \n",
      "Parameters: { \"bagging_fraction\", \"feature_fraction\", \"min_child_samples\", \"num_leaves\", \"verbose\" } are not used.\n",
      "\n",
      "5 CV - score: 0.7746                                  \n",
      "[21:28:51] WARNING: ../src/learner.cc:767:            \n",
      "Parameters: { \"bagging_fraction\", \"feature_fraction\", \"min_child_samples\", \"num_leaves\", \"verbose\" } are not used.\n",
      "\n",
      "6 CV - score: 0.7709                                  \n",
      "[21:28:55] WARNING: ../src/learner.cc:767:            \n",
      "Parameters: { \"bagging_fraction\", \"feature_fraction\", \"min_child_samples\", \"num_leaves\", \"verbose\" } are not used.\n",
      "\n",
      "7 CV - score: 0.7668                                  \n",
      "[21:28:58] WARNING: ../src/learner.cc:767:            \n",
      "Parameters: { \"bagging_fraction\", \"feature_fraction\", \"min_child_samples\", \"num_leaves\", \"verbose\" } are not used.\n",
      "\n",
      "8 CV - score: 0.7723                                  \n",
      "[21:29:02] WARNING: ../src/learner.cc:767:            \n",
      "Parameters: { \"bagging_fraction\", \"feature_fraction\", \"min_child_samples\", \"num_leaves\", \"verbose\" } are not used.\n",
      "\n",
      "9 CV - score: 0.7801                                  \n",
      "[21:29:06] WARNING: ../src/learner.cc:767:            \n",
      "Parameters: { \"bagging_fraction\", \"feature_fraction\", \"min_child_samples\", \"num_leaves\", \"verbose\" } are not used.\n",
      "\n",
      "10 CV - score: 0.7676                                 \n",
      "[21:29:10] WARNING: ../src/learner.cc:767:            \n",
      "Parameters: { \"bagging_fraction\", \"feature_fraction\", \"min_child_samples\", \"num_leaves\", \"verbose\" } are not used.\n",
      "\n",
      "11 CV - score: 0.7795                                 \n",
      "[21:29:13] WARNING: ../src/learner.cc:767:            \n",
      "Parameters: { \"bagging_fraction\", \"feature_fraction\", \"min_child_samples\", \"num_leaves\", \"verbose\" } are not used.\n",
      "\n",
      "  0%|          | 0/30 [00:41<?, ?trial/s, best loss=?]\n"
     ]
    },
    {
     "ename": "KeyboardInterrupt",
     "evalue": "",
     "output_type": "error",
     "traceback": [
      "\u001b[0;31m---------------------------------------------------------------------------\u001b[0m",
      "\u001b[0;31mKeyboardInterrupt\u001b[0m                         Traceback (most recent call last)",
      "\u001b[0;32m<ipython-input-58-3036fe902270>\u001b[0m in \u001b[0;36m<module>\u001b[0;34m\u001b[0m\n\u001b[0;32m----> 1\u001b[0;31m best = fmin(fn = objective,\n\u001b[0m\u001b[1;32m      2\u001b[0m             \u001b[0mspace\u001b[0m \u001b[0;34m=\u001b[0m \u001b[0mspace\u001b[0m\u001b[0;34m,\u001b[0m\u001b[0;34m\u001b[0m\u001b[0;34m\u001b[0m\u001b[0m\n\u001b[1;32m      3\u001b[0m             \u001b[0malgo\u001b[0m \u001b[0;34m=\u001b[0m \u001b[0mtpe\u001b[0m\u001b[0;34m.\u001b[0m\u001b[0msuggest\u001b[0m\u001b[0;34m,\u001b[0m\u001b[0;34m\u001b[0m\u001b[0;34m\u001b[0m\u001b[0m\n\u001b[1;32m      4\u001b[0m             \u001b[0mmax_evals\u001b[0m \u001b[0;34m=\u001b[0m \u001b[0;36m30\u001b[0m\u001b[0;34m\u001b[0m\u001b[0;34m\u001b[0m\u001b[0m\n\u001b[1;32m      5\u001b[0m            )\n",
      "\u001b[0;32m~/.local/lib/python3.8/site-packages/hyperopt/fmin.py\u001b[0m in \u001b[0;36mfmin\u001b[0;34m(fn, space, algo, max_evals, timeout, loss_threshold, trials, rstate, allow_trials_fmin, pass_expr_memo_ctrl, catch_eval_exceptions, verbose, return_argmin, points_to_evaluate, max_queue_len, show_progressbar, early_stop_fn, trials_save_file)\u001b[0m\n\u001b[1;32m    584\u001b[0m \u001b[0;34m\u001b[0m\u001b[0m\n\u001b[1;32m    585\u001b[0m     \u001b[0;31m# next line is where the fmin is actually executed\u001b[0m\u001b[0;34m\u001b[0m\u001b[0;34m\u001b[0m\u001b[0;34m\u001b[0m\u001b[0m\n\u001b[0;32m--> 586\u001b[0;31m     \u001b[0mrval\u001b[0m\u001b[0;34m.\u001b[0m\u001b[0mexhaust\u001b[0m\u001b[0;34m(\u001b[0m\u001b[0;34m)\u001b[0m\u001b[0;34m\u001b[0m\u001b[0;34m\u001b[0m\u001b[0m\n\u001b[0m\u001b[1;32m    587\u001b[0m \u001b[0;34m\u001b[0m\u001b[0m\n\u001b[1;32m    588\u001b[0m     \u001b[0;32mif\u001b[0m \u001b[0mreturn_argmin\u001b[0m\u001b[0;34m:\u001b[0m\u001b[0;34m\u001b[0m\u001b[0;34m\u001b[0m\u001b[0m\n",
      "\u001b[0;32m~/.local/lib/python3.8/site-packages/hyperopt/fmin.py\u001b[0m in \u001b[0;36mexhaust\u001b[0;34m(self)\u001b[0m\n\u001b[1;32m    362\u001b[0m     \u001b[0;32mdef\u001b[0m \u001b[0mexhaust\u001b[0m\u001b[0;34m(\u001b[0m\u001b[0mself\u001b[0m\u001b[0;34m)\u001b[0m\u001b[0;34m:\u001b[0m\u001b[0;34m\u001b[0m\u001b[0;34m\u001b[0m\u001b[0m\n\u001b[1;32m    363\u001b[0m         \u001b[0mn_done\u001b[0m \u001b[0;34m=\u001b[0m \u001b[0mlen\u001b[0m\u001b[0;34m(\u001b[0m\u001b[0mself\u001b[0m\u001b[0;34m.\u001b[0m\u001b[0mtrials\u001b[0m\u001b[0;34m)\u001b[0m\u001b[0;34m\u001b[0m\u001b[0;34m\u001b[0m\u001b[0m\n\u001b[0;32m--> 364\u001b[0;31m         \u001b[0mself\u001b[0m\u001b[0;34m.\u001b[0m\u001b[0mrun\u001b[0m\u001b[0;34m(\u001b[0m\u001b[0mself\u001b[0m\u001b[0;34m.\u001b[0m\u001b[0mmax_evals\u001b[0m \u001b[0;34m-\u001b[0m \u001b[0mn_done\u001b[0m\u001b[0;34m,\u001b[0m \u001b[0mblock_until_done\u001b[0m\u001b[0;34m=\u001b[0m\u001b[0mself\u001b[0m\u001b[0;34m.\u001b[0m\u001b[0masynchronous\u001b[0m\u001b[0;34m)\u001b[0m\u001b[0;34m\u001b[0m\u001b[0;34m\u001b[0m\u001b[0m\n\u001b[0m\u001b[1;32m    365\u001b[0m         \u001b[0mself\u001b[0m\u001b[0;34m.\u001b[0m\u001b[0mtrials\u001b[0m\u001b[0;34m.\u001b[0m\u001b[0mrefresh\u001b[0m\u001b[0;34m(\u001b[0m\u001b[0;34m)\u001b[0m\u001b[0;34m\u001b[0m\u001b[0;34m\u001b[0m\u001b[0m\n\u001b[1;32m    366\u001b[0m         \u001b[0;32mreturn\u001b[0m \u001b[0mself\u001b[0m\u001b[0;34m\u001b[0m\u001b[0;34m\u001b[0m\u001b[0m\n",
      "\u001b[0;32m~/.local/lib/python3.8/site-packages/hyperopt/fmin.py\u001b[0m in \u001b[0;36mrun\u001b[0;34m(self, N, block_until_done)\u001b[0m\n\u001b[1;32m    298\u001b[0m                 \u001b[0;32melse\u001b[0m\u001b[0;34m:\u001b[0m\u001b[0;34m\u001b[0m\u001b[0;34m\u001b[0m\u001b[0m\n\u001b[1;32m    299\u001b[0m                     \u001b[0;31m# -- loop over trials and do the jobs directly\u001b[0m\u001b[0;34m\u001b[0m\u001b[0;34m\u001b[0m\u001b[0;34m\u001b[0m\u001b[0m\n\u001b[0;32m--> 300\u001b[0;31m                     \u001b[0mself\u001b[0m\u001b[0;34m.\u001b[0m\u001b[0mserial_evaluate\u001b[0m\u001b[0;34m(\u001b[0m\u001b[0;34m)\u001b[0m\u001b[0;34m\u001b[0m\u001b[0;34m\u001b[0m\u001b[0m\n\u001b[0m\u001b[1;32m    301\u001b[0m \u001b[0;34m\u001b[0m\u001b[0m\n\u001b[1;32m    302\u001b[0m                 \u001b[0mself\u001b[0m\u001b[0;34m.\u001b[0m\u001b[0mtrials\u001b[0m\u001b[0;34m.\u001b[0m\u001b[0mrefresh\u001b[0m\u001b[0;34m(\u001b[0m\u001b[0;34m)\u001b[0m\u001b[0;34m\u001b[0m\u001b[0;34m\u001b[0m\u001b[0m\n",
      "\u001b[0;32m~/.local/lib/python3.8/site-packages/hyperopt/fmin.py\u001b[0m in \u001b[0;36mserial_evaluate\u001b[0;34m(self, N)\u001b[0m\n\u001b[1;32m    176\u001b[0m                 \u001b[0mctrl\u001b[0m \u001b[0;34m=\u001b[0m \u001b[0mbase\u001b[0m\u001b[0;34m.\u001b[0m\u001b[0mCtrl\u001b[0m\u001b[0;34m(\u001b[0m\u001b[0mself\u001b[0m\u001b[0;34m.\u001b[0m\u001b[0mtrials\u001b[0m\u001b[0;34m,\u001b[0m \u001b[0mcurrent_trial\u001b[0m\u001b[0;34m=\u001b[0m\u001b[0mtrial\u001b[0m\u001b[0;34m)\u001b[0m\u001b[0;34m\u001b[0m\u001b[0;34m\u001b[0m\u001b[0m\n\u001b[1;32m    177\u001b[0m                 \u001b[0;32mtry\u001b[0m\u001b[0;34m:\u001b[0m\u001b[0;34m\u001b[0m\u001b[0;34m\u001b[0m\u001b[0m\n\u001b[0;32m--> 178\u001b[0;31m                     \u001b[0mresult\u001b[0m \u001b[0;34m=\u001b[0m \u001b[0mself\u001b[0m\u001b[0;34m.\u001b[0m\u001b[0mdomain\u001b[0m\u001b[0;34m.\u001b[0m\u001b[0mevaluate\u001b[0m\u001b[0;34m(\u001b[0m\u001b[0mspec\u001b[0m\u001b[0;34m,\u001b[0m \u001b[0mctrl\u001b[0m\u001b[0;34m)\u001b[0m\u001b[0;34m\u001b[0m\u001b[0;34m\u001b[0m\u001b[0m\n\u001b[0m\u001b[1;32m    179\u001b[0m                 \u001b[0;32mexcept\u001b[0m \u001b[0mException\u001b[0m \u001b[0;32mas\u001b[0m \u001b[0me\u001b[0m\u001b[0;34m:\u001b[0m\u001b[0;34m\u001b[0m\u001b[0;34m\u001b[0m\u001b[0m\n\u001b[1;32m    180\u001b[0m                     \u001b[0mlogger\u001b[0m\u001b[0;34m.\u001b[0m\u001b[0merror\u001b[0m\u001b[0;34m(\u001b[0m\u001b[0;34m\"job exception: %s\"\u001b[0m \u001b[0;34m%\u001b[0m \u001b[0mstr\u001b[0m\u001b[0;34m(\u001b[0m\u001b[0me\u001b[0m\u001b[0;34m)\u001b[0m\u001b[0;34m)\u001b[0m\u001b[0;34m\u001b[0m\u001b[0;34m\u001b[0m\u001b[0m\n",
      "\u001b[0;32m~/.local/lib/python3.8/site-packages/hyperopt/base.py\u001b[0m in \u001b[0;36mevaluate\u001b[0;34m(self, config, ctrl, attach_attachments)\u001b[0m\n\u001b[1;32m    890\u001b[0m                 \u001b[0mprint_node_on_error\u001b[0m\u001b[0;34m=\u001b[0m\u001b[0mself\u001b[0m\u001b[0;34m.\u001b[0m\u001b[0mrec_eval_print_node_on_error\u001b[0m\u001b[0;34m,\u001b[0m\u001b[0;34m\u001b[0m\u001b[0;34m\u001b[0m\u001b[0m\n\u001b[1;32m    891\u001b[0m             )\n\u001b[0;32m--> 892\u001b[0;31m             \u001b[0mrval\u001b[0m \u001b[0;34m=\u001b[0m \u001b[0mself\u001b[0m\u001b[0;34m.\u001b[0m\u001b[0mfn\u001b[0m\u001b[0;34m(\u001b[0m\u001b[0mpyll_rval\u001b[0m\u001b[0;34m)\u001b[0m\u001b[0;34m\u001b[0m\u001b[0;34m\u001b[0m\u001b[0m\n\u001b[0m\u001b[1;32m    893\u001b[0m \u001b[0;34m\u001b[0m\u001b[0m\n\u001b[1;32m    894\u001b[0m         \u001b[0;32mif\u001b[0m \u001b[0misinstance\u001b[0m\u001b[0;34m(\u001b[0m\u001b[0mrval\u001b[0m\u001b[0;34m,\u001b[0m \u001b[0;34m(\u001b[0m\u001b[0mfloat\u001b[0m\u001b[0;34m,\u001b[0m \u001b[0mint\u001b[0m\u001b[0;34m,\u001b[0m \u001b[0mnp\u001b[0m\u001b[0;34m.\u001b[0m\u001b[0mnumber\u001b[0m\u001b[0;34m)\u001b[0m\u001b[0;34m)\u001b[0m\u001b[0;34m:\u001b[0m\u001b[0;34m\u001b[0m\u001b[0;34m\u001b[0m\u001b[0m\n",
      "\u001b[0;32m<ipython-input-49-43d5a0a54a79>\u001b[0m in \u001b[0;36mobjective\u001b[0;34m(params)\u001b[0m\n\u001b[1;32m     43\u001b[0m         \u001b[0my_tr\u001b[0m\u001b[0;34m,\u001b[0m \u001b[0my_vl\u001b[0m \u001b[0;34m=\u001b[0m \u001b[0my_train\u001b[0m\u001b[0;34m.\u001b[0m\u001b[0miloc\u001b[0m\u001b[0;34m[\u001b[0m\u001b[0mtr_idx\u001b[0m\u001b[0;34m]\u001b[0m\u001b[0;34m,\u001b[0m \u001b[0my_train\u001b[0m\u001b[0;34m.\u001b[0m\u001b[0miloc\u001b[0m\u001b[0;34m[\u001b[0m\u001b[0mval_idx\u001b[0m\u001b[0;34m]\u001b[0m\u001b[0;34m\u001b[0m\u001b[0;34m\u001b[0m\u001b[0m\n\u001b[1;32m     44\u001b[0m \u001b[0;34m\u001b[0m\u001b[0m\n\u001b[0;32m---> 45\u001b[0;31m         \u001b[0mclf\u001b[0m\u001b[0;34m.\u001b[0m\u001b[0mfit\u001b[0m\u001b[0;34m(\u001b[0m\u001b[0mX_tr\u001b[0m\u001b[0;34m,\u001b[0m \u001b[0my_tr\u001b[0m\u001b[0;34m)\u001b[0m\u001b[0;34m\u001b[0m\u001b[0;34m\u001b[0m\u001b[0m\n\u001b[0m\u001b[1;32m     46\u001b[0m         \u001b[0;31m#y_pred_train = clf.predict_proba(X_vl)[:,1]\u001b[0m\u001b[0;34m\u001b[0m\u001b[0;34m\u001b[0m\u001b[0;34m\u001b[0m\u001b[0m\n\u001b[1;32m     47\u001b[0m         \u001b[0;31m#print(y_pred_train)\u001b[0m\u001b[0;34m\u001b[0m\u001b[0;34m\u001b[0m\u001b[0;34m\u001b[0m\u001b[0m\n",
      "\u001b[0;32m~/.local/lib/python3.8/site-packages/xgboost/core.py\u001b[0m in \u001b[0;36minner_f\u001b[0;34m(*args, **kwargs)\u001b[0m\n\u001b[1;32m    618\u001b[0m             \u001b[0;32mfor\u001b[0m \u001b[0mk\u001b[0m\u001b[0;34m,\u001b[0m \u001b[0marg\u001b[0m \u001b[0;32min\u001b[0m \u001b[0mzip\u001b[0m\u001b[0;34m(\u001b[0m\u001b[0msig\u001b[0m\u001b[0;34m.\u001b[0m\u001b[0mparameters\u001b[0m\u001b[0;34m,\u001b[0m \u001b[0margs\u001b[0m\u001b[0;34m)\u001b[0m\u001b[0;34m:\u001b[0m\u001b[0;34m\u001b[0m\u001b[0;34m\u001b[0m\u001b[0m\n\u001b[1;32m    619\u001b[0m                 \u001b[0mkwargs\u001b[0m\u001b[0;34m[\u001b[0m\u001b[0mk\u001b[0m\u001b[0;34m]\u001b[0m \u001b[0;34m=\u001b[0m \u001b[0marg\u001b[0m\u001b[0;34m\u001b[0m\u001b[0;34m\u001b[0m\u001b[0m\n\u001b[0;32m--> 620\u001b[0;31m             \u001b[0;32mreturn\u001b[0m \u001b[0mfunc\u001b[0m\u001b[0;34m(\u001b[0m\u001b[0;34m**\u001b[0m\u001b[0mkwargs\u001b[0m\u001b[0;34m)\u001b[0m\u001b[0;34m\u001b[0m\u001b[0;34m\u001b[0m\u001b[0m\n\u001b[0m\u001b[1;32m    621\u001b[0m \u001b[0;34m\u001b[0m\u001b[0m\n\u001b[1;32m    622\u001b[0m         \u001b[0;32mreturn\u001b[0m \u001b[0minner_f\u001b[0m\u001b[0;34m\u001b[0m\u001b[0;34m\u001b[0m\u001b[0m\n",
      "\u001b[0;32m~/.local/lib/python3.8/site-packages/xgboost/sklearn.py\u001b[0m in \u001b[0;36mfit\u001b[0;34m(self, X, y, sample_weight, base_margin, eval_set, eval_metric, early_stopping_rounds, verbose, xgb_model, sample_weight_eval_set, base_margin_eval_set, feature_weights, callbacks)\u001b[0m\n\u001b[1;32m   1514\u001b[0m             )\n\u001b[1;32m   1515\u001b[0m \u001b[0;34m\u001b[0m\u001b[0m\n\u001b[0;32m-> 1516\u001b[0;31m             self._Booster = train(\n\u001b[0m\u001b[1;32m   1517\u001b[0m                 \u001b[0mparams\u001b[0m\u001b[0;34m,\u001b[0m\u001b[0;34m\u001b[0m\u001b[0;34m\u001b[0m\u001b[0m\n\u001b[1;32m   1518\u001b[0m                 \u001b[0mtrain_dmatrix\u001b[0m\u001b[0;34m,\u001b[0m\u001b[0;34m\u001b[0m\u001b[0;34m\u001b[0m\u001b[0m\n",
      "\u001b[0;32m~/.local/lib/python3.8/site-packages/xgboost/core.py\u001b[0m in \u001b[0;36minner_f\u001b[0;34m(*args, **kwargs)\u001b[0m\n\u001b[1;32m    618\u001b[0m             \u001b[0;32mfor\u001b[0m \u001b[0mk\u001b[0m\u001b[0;34m,\u001b[0m \u001b[0marg\u001b[0m \u001b[0;32min\u001b[0m \u001b[0mzip\u001b[0m\u001b[0;34m(\u001b[0m\u001b[0msig\u001b[0m\u001b[0;34m.\u001b[0m\u001b[0mparameters\u001b[0m\u001b[0;34m,\u001b[0m \u001b[0margs\u001b[0m\u001b[0;34m)\u001b[0m\u001b[0;34m:\u001b[0m\u001b[0;34m\u001b[0m\u001b[0;34m\u001b[0m\u001b[0m\n\u001b[1;32m    619\u001b[0m                 \u001b[0mkwargs\u001b[0m\u001b[0;34m[\u001b[0m\u001b[0mk\u001b[0m\u001b[0;34m]\u001b[0m \u001b[0;34m=\u001b[0m \u001b[0marg\u001b[0m\u001b[0;34m\u001b[0m\u001b[0;34m\u001b[0m\u001b[0m\n\u001b[0;32m--> 620\u001b[0;31m             \u001b[0;32mreturn\u001b[0m \u001b[0mfunc\u001b[0m\u001b[0;34m(\u001b[0m\u001b[0;34m**\u001b[0m\u001b[0mkwargs\u001b[0m\u001b[0;34m)\u001b[0m\u001b[0;34m\u001b[0m\u001b[0;34m\u001b[0m\u001b[0m\n\u001b[0m\u001b[1;32m    621\u001b[0m \u001b[0;34m\u001b[0m\u001b[0m\n\u001b[1;32m    622\u001b[0m         \u001b[0;32mreturn\u001b[0m \u001b[0minner_f\u001b[0m\u001b[0;34m\u001b[0m\u001b[0;34m\u001b[0m\u001b[0m\n",
      "\u001b[0;32m~/.local/lib/python3.8/site-packages/xgboost/training.py\u001b[0m in \u001b[0;36mtrain\u001b[0;34m(params, dtrain, num_boost_round, evals, obj, feval, maximize, early_stopping_rounds, evals_result, verbose_eval, xgb_model, callbacks, custom_metric)\u001b[0m\n\u001b[1;32m    183\u001b[0m         \u001b[0;32mif\u001b[0m \u001b[0mcb_container\u001b[0m\u001b[0;34m.\u001b[0m\u001b[0mbefore_iteration\u001b[0m\u001b[0;34m(\u001b[0m\u001b[0mbst\u001b[0m\u001b[0;34m,\u001b[0m \u001b[0mi\u001b[0m\u001b[0;34m,\u001b[0m \u001b[0mdtrain\u001b[0m\u001b[0;34m,\u001b[0m \u001b[0mevals\u001b[0m\u001b[0;34m)\u001b[0m\u001b[0;34m:\u001b[0m\u001b[0;34m\u001b[0m\u001b[0;34m\u001b[0m\u001b[0m\n\u001b[1;32m    184\u001b[0m             \u001b[0;32mbreak\u001b[0m\u001b[0;34m\u001b[0m\u001b[0;34m\u001b[0m\u001b[0m\n\u001b[0;32m--> 185\u001b[0;31m         \u001b[0mbst\u001b[0m\u001b[0;34m.\u001b[0m\u001b[0mupdate\u001b[0m\u001b[0;34m(\u001b[0m\u001b[0mdtrain\u001b[0m\u001b[0;34m,\u001b[0m \u001b[0mi\u001b[0m\u001b[0;34m,\u001b[0m \u001b[0mobj\u001b[0m\u001b[0;34m)\u001b[0m\u001b[0;34m\u001b[0m\u001b[0;34m\u001b[0m\u001b[0m\n\u001b[0m\u001b[1;32m    186\u001b[0m         \u001b[0;32mif\u001b[0m \u001b[0mcb_container\u001b[0m\u001b[0;34m.\u001b[0m\u001b[0mafter_iteration\u001b[0m\u001b[0;34m(\u001b[0m\u001b[0mbst\u001b[0m\u001b[0;34m,\u001b[0m \u001b[0mi\u001b[0m\u001b[0;34m,\u001b[0m \u001b[0mdtrain\u001b[0m\u001b[0;34m,\u001b[0m \u001b[0mevals\u001b[0m\u001b[0;34m)\u001b[0m\u001b[0;34m:\u001b[0m\u001b[0;34m\u001b[0m\u001b[0;34m\u001b[0m\u001b[0m\n\u001b[1;32m    187\u001b[0m             \u001b[0;32mbreak\u001b[0m\u001b[0;34m\u001b[0m\u001b[0;34m\u001b[0m\u001b[0m\n",
      "\u001b[0;32m~/.local/lib/python3.8/site-packages/xgboost/core.py\u001b[0m in \u001b[0;36mupdate\u001b[0;34m(self, dtrain, iteration, fobj)\u001b[0m\n\u001b[1;32m   1916\u001b[0m \u001b[0;34m\u001b[0m\u001b[0m\n\u001b[1;32m   1917\u001b[0m         \u001b[0;32mif\u001b[0m \u001b[0mfobj\u001b[0m \u001b[0;32mis\u001b[0m \u001b[0;32mNone\u001b[0m\u001b[0;34m:\u001b[0m\u001b[0;34m\u001b[0m\u001b[0;34m\u001b[0m\u001b[0m\n\u001b[0;32m-> 1918\u001b[0;31m             _check_call(_LIB.XGBoosterUpdateOneIter(self.handle,\n\u001b[0m\u001b[1;32m   1919\u001b[0m                                                     \u001b[0mctypes\u001b[0m\u001b[0;34m.\u001b[0m\u001b[0mc_int\u001b[0m\u001b[0;34m(\u001b[0m\u001b[0miteration\u001b[0m\u001b[0;34m)\u001b[0m\u001b[0;34m,\u001b[0m\u001b[0;34m\u001b[0m\u001b[0;34m\u001b[0m\u001b[0m\n\u001b[1;32m   1920\u001b[0m                                                     dtrain.handle))\n",
      "\u001b[0;31mKeyboardInterrupt\u001b[0m: "
     ]
    }
   ],
   "source": [
    "best = fmin(fn = objective,\n",
    "            space = space,\n",
    "            algo = tpe.suggest,\n",
    "            max_evals = 30\n",
    "           )"
   ]
  },
  {
   "cell_type": "markdown",
   "metadata": {},
   "source": [
    "### Best params"
   ]
  },
  {
   "cell_type": "code",
   "execution_count": 57,
   "metadata": {},
   "outputs": [
    {
     "data": {
      "text/plain": [
       "{'bagging_fraction': 0.4667779687880642,\n",
       " 'colsample_bytree': 0.4487657423034243,\n",
       " 'feature_fraction': 0.5039912775128653,\n",
       " 'gamma': 0.09944800122077488,\n",
       " 'learning_rate': 0.13851094825876353,\n",
       " 'max_depth': 4,\n",
       " 'min_child_samples': 140,\n",
       " 'num_leaves': 45,\n",
       " 'reg_alpha': 0.03317868170471262,\n",
       " 'reg_lambda': 0.35933398943324685,\n",
       " 'subsample': 0.8}"
      ]
     },
     "execution_count": 57,
     "metadata": {},
     "output_type": "execute_result"
    }
   ],
   "source": [
    "best_params = space_eval(space, best)\n",
    "best_params['max_depth'] = int(best_params['max_depth'])\n",
    "best_params"
   ]
  },
  {
   "cell_type": "markdown",
   "metadata": {},
   "source": [
    "### Predicting with best params Xgb"
   ]
  },
  {
   "cell_type": "code",
   "execution_count": 56,
   "metadata": {},
   "outputs": [
    {
     "name": "stdout",
     "output_type": "stream",
     "text": [
      "[21:27:59] WARNING: ../src/learner.cc:767: \n",
      "Parameters: { \"bagging_fraction\", \"feature_fraction\", \"min_child_samples\", \"num_leaves\" } are not used.\n",
      "\n"
     ]
    }
   ],
   "source": [
    "clf = xgb.XGBClassifier(\n",
    "    n_estimators = 500,\n",
    "    **best_params,\n",
    "    tree_method = 'gpu_hist'\n",
    ")\n",
    "\n",
    "clf.fit(X_train, y_train)\n",
    "\n",
    "y_preds = clf.predict_proba(X_test)[:, 1]"
   ]
  },
  {
   "cell_type": "markdown",
   "metadata": {},
   "source": [
    "Cool! Now, let's see what's the features that have more importance to the classification."
   ]
  },
  {
   "cell_type": "markdown",
   "metadata": {},
   "source": [
    "## Weights"
   ]
  },
  {
   "cell_type": "code",
   "execution_count": 54,
   "metadata": {},
   "outputs": [
    {
     "data": {
      "text/html": [
       "<div>\n",
       "<style scoped>\n",
       "    .dataframe tbody tr th:only-of-type {\n",
       "        vertical-align: middle;\n",
       "    }\n",
       "\n",
       "    .dataframe tbody tr th {\n",
       "        vertical-align: top;\n",
       "    }\n",
       "\n",
       "    .dataframe thead th {\n",
       "        text-align: right;\n",
       "    }\n",
       "</style>\n",
       "<table border=\"1\" class=\"dataframe\">\n",
       "  <thead>\n",
       "    <tr style=\"text-align: right;\">\n",
       "      <th></th>\n",
       "      <th>score</th>\n",
       "    </tr>\n",
       "  </thead>\n",
       "  <tbody>\n",
       "    <tr>\n",
       "      <th>le_nom_6</th>\n",
       "      <td>750.0</td>\n",
       "    </tr>\n",
       "    <tr>\n",
       "      <th>hash_nom_5</th>\n",
       "      <td>678.0</td>\n",
       "    </tr>\n",
       "    <tr>\n",
       "      <th>le_nom_5</th>\n",
       "      <td>674.0</td>\n",
       "    </tr>\n",
       "    <tr>\n",
       "      <th>le_nom_7</th>\n",
       "      <td>506.0</td>\n",
       "    </tr>\n",
       "    <tr>\n",
       "      <th>le_nom_8</th>\n",
       "      <td>434.0</td>\n",
       "    </tr>\n",
       "    <tr>\n",
       "      <th>le_nom_9</th>\n",
       "      <td>406.0</td>\n",
       "    </tr>\n",
       "    <tr>\n",
       "      <th>ord_5_oe1</th>\n",
       "      <td>310.0</td>\n",
       "    </tr>\n",
       "    <tr>\n",
       "      <th>ord_5_oe_join</th>\n",
       "      <td>275.0</td>\n",
       "    </tr>\n",
       "    <tr>\n",
       "      <th>ord_3</th>\n",
       "      <td>260.0</td>\n",
       "    </tr>\n",
       "    <tr>\n",
       "      <th>ord_4</th>\n",
       "      <td>258.0</td>\n",
       "    </tr>\n",
       "    <tr>\n",
       "      <th>month</th>\n",
       "      <td>200.0</td>\n",
       "    </tr>\n",
       "    <tr>\n",
       "      <th>ord_5_oe_add</th>\n",
       "      <td>194.0</td>\n",
       "    </tr>\n",
       "    <tr>\n",
       "      <th>ord_5_oe2</th>\n",
       "      <td>186.0</td>\n",
       "    </tr>\n",
       "    <tr>\n",
       "      <th>ord_1</th>\n",
       "      <td>161.0</td>\n",
       "    </tr>\n",
       "    <tr>\n",
       "      <th>ord_0</th>\n",
       "      <td>158.0</td>\n",
       "    </tr>\n",
       "    <tr>\n",
       "      <th>ord_2</th>\n",
       "      <td>149.0</td>\n",
       "    </tr>\n",
       "    <tr>\n",
       "      <th>month_sin</th>\n",
       "      <td>113.0</td>\n",
       "    </tr>\n",
       "    <tr>\n",
       "      <th>day_cos</th>\n",
       "      <td>109.0</td>\n",
       "    </tr>\n",
       "    <tr>\n",
       "      <th>day</th>\n",
       "      <td>93.0</td>\n",
       "    </tr>\n",
       "    <tr>\n",
       "      <th>nom_0_Red</th>\n",
       "      <td>93.0</td>\n",
       "    </tr>\n",
       "  </tbody>\n",
       "</table>\n",
       "</div>"
      ],
      "text/plain": [
       "               score\n",
       "le_nom_6       750.0\n",
       "hash_nom_5     678.0\n",
       "le_nom_5       674.0\n",
       "le_nom_7       506.0\n",
       "le_nom_8       434.0\n",
       "le_nom_9       406.0\n",
       "ord_5_oe1      310.0\n",
       "ord_5_oe_join  275.0\n",
       "ord_3          260.0\n",
       "ord_4          258.0\n",
       "month          200.0\n",
       "ord_5_oe_add   194.0\n",
       "ord_5_oe2      186.0\n",
       "ord_1          161.0\n",
       "ord_0          158.0\n",
       "ord_2          149.0\n",
       "month_sin      113.0\n",
       "day_cos        109.0\n",
       "day             93.0\n",
       "nom_0_Red       93.0"
      ]
     },
     "execution_count": 54,
     "metadata": {},
     "output_type": "execute_result"
    }
   ],
   "source": [
    "feature_important = clf.get_booster().get_score(importance_type = \"weight\")\n",
    "keys = list(feature_important.keys())\n",
    "values = list(feature_important.values())\n",
    "\n",
    "data = pd.DataFrame(data = values, index = keys, columns = [\"score\"]).sort_values(by = \"score\", ascending = False)\n",
    "\n",
    "# Top 10 features\n",
    "data.head(20)"
   ]
  },
  {
   "cell_type": "markdown",
   "metadata": {},
   "source": [
    "## Setting submission CSV"
   ]
  },
  {
   "cell_type": "code",
   "execution_count": 55,
   "metadata": {
    "tags": []
   },
   "outputs": [],
   "source": [
    "submission['target'] = y_preds\n",
    "submission.to_csv('XGB_hypopt_model.csv')"
   ]
  }
 ],
 "metadata": {
  "kernelspec": {
   "display_name": "Python 3",
   "language": "python",
   "name": "python3"
  },
  "language_info": {
   "codemirror_mode": {
    "name": "ipython",
    "version": 3
   },
   "file_extension": ".py",
   "mimetype": "text/x-python",
   "name": "python",
   "nbconvert_exporter": "python",
   "pygments_lexer": "ipython3",
   "version": "3.8.10"
  },
  "widgets": {
   "application/vnd.jupyter.widget-state+json": {
    "state": {},
    "version_major": 2,
    "version_minor": 0
   }
  }
 },
 "nbformat": 4,
 "nbformat_minor": 4
}
