{
  "nbformat": 4,
  "nbformat_minor": 0,
  "metadata": {
    "colab": {
      "provenance": [],
      "toc_visible": true,
      "authorship_tag": "ABX9TyOcDifoWMnOOqJaeSSvFjM3",
      "include_colab_link": true
    },
    "kernelspec": {
      "name": "python3",
      "display_name": "Python 3"
    },
    "language_info": {
      "name": "python"
    }
  },
  "cells": [
    {
      "cell_type": "markdown",
      "metadata": {
        "id": "view-in-github",
        "colab_type": "text"
      },
      "source": [
        "<a href=\"https://colab.research.google.com/github/restful3/ds4th_study/blob/main/%EC%9E%84%EC%8B%9C%ED%8F%B4%EB%8D%94/1%EC%A3%BC_1%EA%B0%95_%ED%99%95%EB%A5%A0%EB%B6%84%ED%8F%AC.ipynb\" target=\"_parent\"><img src=\"https://colab.research.google.com/assets/colab-badge.svg\" alt=\"Open In Colab\"/></a>"
      ]
    },
    {
      "cell_type": "markdown",
      "source": [
        "# 1주. 확률분포, 추정과 가설검정, 비모수 검정\n"
      ],
      "metadata": {
        "id": "-ZLnDvkaYxYD"
      }
    },
    {
      "cell_type": "markdown",
      "source": [
        "## 1강 확률분포"
      ],
      "metadata": {
        "id": "ytZJTMjYYxbU"
      }
    },
    {
      "cell_type": "markdown",
      "source": [
        "### 1.1 이산형 분포 확률"
      ],
      "metadata": {
        "id": "UMD-uyVYYxdv"
      }
    },
    {
      "cell_type": "code",
      "source": [],
      "metadata": {
        "id": "hFaof4b6v3PM"
      },
      "execution_count": null,
      "outputs": []
    },
    {
      "cell_type": "markdown",
      "source": [
        "#### 1.1.1 베르누이분포"
      ],
      "metadata": {
        "id": "1J_tsUrYaPqi"
      }
    },
    {
      "cell_type": "code",
      "source": [],
      "metadata": {
        "id": "u7uFEX7Mv40q"
      },
      "execution_count": null,
      "outputs": []
    },
    {
      "cell_type": "markdown",
      "source": [
        "####  1.1.2 이항분포"
      ],
      "metadata": {
        "id": "ZZdtB28AaPma"
      }
    },
    {
      "cell_type": "code",
      "source": [],
      "metadata": {
        "id": "56WadBS9v5TH"
      },
      "execution_count": null,
      "outputs": []
    },
    {
      "cell_type": "markdown",
      "source": [
        "#### 1.1.3 음이항분포"
      ],
      "metadata": {
        "id": "rc1ZWW3BaPkk"
      }
    },
    {
      "cell_type": "code",
      "source": [],
      "metadata": {
        "id": "CE--SfScv5xi"
      },
      "execution_count": null,
      "outputs": []
    },
    {
      "cell_type": "markdown",
      "source": [
        "#### 1.1.4 기하분포"
      ],
      "metadata": {
        "id": "qfzyoKSIaPhK"
      }
    },
    {
      "cell_type": "markdown",
      "source": [
        "#### 1.1.5 포아송분포"
      ],
      "metadata": {
        "id": "9yCooBygaPfL"
      }
    },
    {
      "cell_type": "markdown",
      "source": [
        "### 1.2 연속형 확률분포"
      ],
      "metadata": {
        "id": "-w1a_lKiaPb7"
      }
    },
    {
      "cell_type": "markdown",
      "source": [
        "#### 1.2.1 균일분포"
      ],
      "metadata": {
        "id": "Sx0BJXXaaPZl"
      }
    },
    {
      "cell_type": "markdown",
      "source": [
        "#### 1.2.2 정규분포, 표준 정규분포"
      ],
      "metadata": {
        "id": "hIPY39kqaPVz"
      }
    },
    {
      "cell_type": "markdown",
      "source": [
        "#### 1.2.3 지수분포"
      ],
      "metadata": {
        "id": "3wCRPq_FaPTp"
      }
    },
    {
      "cell_type": "markdown",
      "source": [
        "#### 1.2.4 감마분포"
      ],
      "metadata": {
        "id": "cFs8nmBWYxgr"
      }
    },
    {
      "cell_type": "markdown",
      "source": [
        "#### 1.2.5 카이제곱분포"
      ],
      "metadata": {
        "id": "8KQHvxmdYxjx"
      }
    },
    {
      "cell_type": "markdown",
      "source": [
        "#### 1.2.6 t분포"
      ],
      "metadata": {
        "id": "XnMTsKbjc8rc"
      }
    },
    {
      "cell_type": "markdown",
      "source": [
        "#### 1.2.7 F분포"
      ],
      "metadata": {
        "id": "3RzqP3bIc8pY"
      }
    },
    {
      "cell_type": "markdown",
      "source": [],
      "metadata": {
        "id": "g3dJ4mJZc8au"
      }
    },
    {
      "cell_type": "markdown",
      "source": [],
      "metadata": {
        "id": "Jp-FgtZ3c8Wx"
      }
    },
    {
      "cell_type": "markdown",
      "source": [],
      "metadata": {
        "id": "hVxdigIwc8Ud"
      }
    },
    {
      "cell_type": "markdown",
      "source": [],
      "metadata": {
        "id": "ENfod6jzc8QA"
      }
    },
    {
      "cell_type": "markdown",
      "source": [],
      "metadata": {
        "id": "O6oJkOTHc8N7"
      }
    },
    {
      "cell_type": "markdown",
      "source": [],
      "metadata": {
        "id": "FK29Srttc8JU"
      }
    },
    {
      "cell_type": "markdown",
      "source": [],
      "metadata": {
        "id": "HLAeqUXXc8HR"
      }
    },
    {
      "cell_type": "markdown",
      "source": [],
      "metadata": {
        "id": "-Pfo8D7Qc8FK"
      }
    },
    {
      "cell_type": "markdown",
      "source": [],
      "metadata": {
        "id": "Qr5UXV4zc8B-"
      }
    },
    {
      "cell_type": "markdown",
      "source": [],
      "metadata": {
        "id": "dnXxR2qxc7-d"
      }
    },
    {
      "cell_type": "markdown",
      "source": [],
      "metadata": {
        "id": "pSFpajK2c770"
      }
    },
    {
      "cell_type": "markdown",
      "source": [],
      "metadata": {
        "id": "P7-sY6VBc735"
      }
    },
    {
      "cell_type": "markdown",
      "source": [],
      "metadata": {
        "id": "Zd8DAockc72C"
      }
    },
    {
      "cell_type": "markdown",
      "source": [],
      "metadata": {
        "id": "Za4ujowYc7zZ"
      }
    },
    {
      "cell_type": "markdown",
      "source": [],
      "metadata": {
        "id": "V35C2A5lc7wz"
      }
    },
    {
      "cell_type": "markdown",
      "source": [],
      "metadata": {
        "id": "ZA5Uo-B4c7sj"
      }
    },
    {
      "cell_type": "markdown",
      "source": [],
      "metadata": {
        "id": "4liBhWchc7qv"
      }
    },
    {
      "cell_type": "markdown",
      "source": [],
      "metadata": {
        "id": "NVcGC36dc7mJ"
      }
    },
    {
      "cell_type": "markdown",
      "source": [],
      "metadata": {
        "id": "c7bcGujbc7SJ"
      }
    }
  ]
}