{
 "cells": [
  {
   "cell_type": "markdown",
   "metadata": {},
   "source": [
    "# 01. 내게 필요한 지식이 무엇인지 정리하기"
   ]
  },
  {
   "cell_type": "markdown",
   "metadata": {},
   "source": [
    "지금까지 배운 내용은 도커 사용법 중에서도 기본편에 해당한다.  \n",
    "다시 말하면 지금까지 배운 내용만 알고 있다면 도커 사용법의 기반은 이미 잡힌 것이나 마찬가지다."
   ]
  },
  {
   "cell_type": "markdown",
   "metadata": {},
   "source": [
    "만약 자신이 서버 엔지니어나 보안 엔지니어라면 도커를 깊이 공부해야 한다."
   ]
  },
  {
   "cell_type": "markdown",
   "metadata": {},
   "source": [
    "## 앞으로 설명할 도커기술"
   ]
  },
  {
   "cell_type": "markdown",
   "metadata": {},
   "source": [
    "- 6-2절 컨테이너와 호스트사이에 파일 복사\n",
    "- 6-3절 볼륨 마운트\n",
    "- 6-4절 컨테이너로 이미지로 만들기\n",
    "- 6-5절 컨테이너 개조\n",
    "- 6-6절 도커 허브 로그인\n",
    "- 7장 도커 컴포즈\n",
    "    - 데이터베이스와 애플리케이션 컨테이너를 함께 시작하고 싶다거나, 환경을 대량으로 생성해야 할 때 유용하다.\n",
    "- 8장 쿠버네티스\n",
    "    - 쿠버네티스는 여러 대의 서버에서 컨테이너를 실행할 때 사용하는 컨테이너 오케스트레이션 도구다.\n",
    "    - 액세스 수가 많은 상황에서는 서버 엔지니어나 유지보수 담당자가 필수적으로 익혀야 한다.\n",
    "    - 이런 성격 탓에 클라우드 서비스와 조합해 사용하는 경우도 많다."
   ]
  },
  {
   "cell_type": "markdown",
   "metadata": {},
   "source": [
    "# 02. 컨테이너와 호스트 간에 파일 복사하기"
   ]
  },
  {
   "cell_type": "markdown",
   "metadata": {},
   "source": [
    "## 파일 복사"
   ]
  },
  {
   "cell_type": "markdown",
   "metadata": {},
   "source": [
    "프로그램 외에도 프로그래밍 언어의 런타임이나 웹 서버, 데이터베이스 등이 함께 시스템을 구성한다.\n",
    "\n",
    "이들 구성 요소는 시스템이 동작하는 데 필요하지만 그 외에도 화면을 구성하는 이미지, 입력받은 데이 터 본체 등이 있을 수 있다. \n",
    "\n",
    "워드프레스를 예로 들면 웹 페이지를 구성하는 HTML 파일, CSS 파일, 각 아티클에 포함된 텍스트나 이미지 등이 있을 것이다.  \n",
    "이러한 파일은 워드프레스 상의 조작을 통해 서버에 저장되지만 때로는 소프트웨어의 개입 없이 서버 와 로컬 컴퓨터 간에 파일을 주고받아야 할 때가 있다.   \n",
    "이럴 때를 위해 파일 복사하는 방법을 익혀두자.  \n",
    "\n",
    "파일 복사는 컨테이너 → 호스트, 호스트 → 컨테이너로 양방향 모두 가능하다. \n",
    "호스트 쪽 파일은 어디 에 위치한 파일이라도 복사가 가능하고, 컨테이너 쪽에서도 파일을 복사할 경로를 지정할 수 있다."
   ]
  },
  {
   "cell_type": "markdown",
   "metadata": {},
   "source": [
    "<img src=\"./image/d06-01.png\" width=\"80%\"></img>"
   ]
  },
  {
   "cell_type": "markdown",
   "metadata": {},
   "source": [
    "### 파일 복사 커맨드 docker cp (docker container cp)"
   ]
  },
  {
   "cell_type": "markdown",
   "metadata": {},
   "source": [
    "```bash\n",
    "# 컨테이너로 파일을 복사하는 커맨드 사용 예(호스트 → 컨테이너)\n",
    "docker cp 호스트_경로 컨테이너_이름:컨테이너_경로\n",
    "\n",
    "# 호스트로 파일을 복사하는 커맨드 사용 예(컨테이너 → 호스트)\n",
    "docker cp 컨테이너_이름:컨테이너_경로 호스트_경로\n",
    "\n",
    "# 파일 복사 명령어\n",
    "docker cp 원본_경로 복사할_경로\n",
    "```"
   ]
  },
  {
   "cell_type": "markdown",
   "metadata": {},
   "source": [
    "### 호스트 경로의 예"
   ]
  },
  {
   "cell_type": "markdown",
   "metadata": {},
   "source": [
    "<img src=\"./image/d06-02.png\" width=\"80%\"></img>"
   ]
  },
  {
   "cell_type": "markdown",
   "metadata": {},
   "source": [
    "### index.html 파일 만들기"
   ]
  },
  {
   "cell_type": "markdown",
   "metadata": {},
   "source": [
    "아파치 컨테이너를 예를 들어 설명하겠다.\n",
    "\n",
    "아파치에 접근하면 초기 화면이 표시되는데, index.html 파일을 만들면 이 파일의 내용이 초기 화면보다 우선해 표시된다."
   ]
  },
  {
   "cell_type": "markdown",
   "metadata": {},
   "source": [
    "### [사전준비] index.html 파일 생성"
   ]
  },
  {
   "cell_type": "markdown",
   "metadata": {},
   "source": [
    "```html\n",
    "<html>\n",
    "<meta charset=\"utf-8\"/>\n",
    "<body>\n",
    "<div>안녕하세요!</div>\n",
    "</body>\n",
    "</html>\n",
    "```"
   ]
  },
  {
   "cell_type": "markdown",
   "metadata": {},
   "source": [
    "## [실습] 호스트의 파일을 컨테이너 속으로 복사"
   ]
  },
  {
   "cell_type": "markdown",
   "metadata": {},
   "source": [
    "파일을 복사한 후 아파치에 접근해보면 우리가 항상 보던 초기 화면 대신 index.html 파일의 내용이 출력될 것이다."
   ]
  },
  {
   "cell_type": "markdown",
   "metadata": {},
   "source": [
    "파일 복사 명령어\n",
    "```bash\n",
    "doker cp 원본_경로 복사대상_컨테이너_이름:컨테이너_경로\n",
    "```"
   ]
  },
  {
   "cell_type": "markdown",
   "metadata": {},
   "source": [
    "<img src=\"./image/d06-03.png\" width=\"80%\"></img>"
   ]
  },
  {
   "cell_type": "markdown",
   "metadata": {},
   "source": [
    "#### 단계 0 아파치 컨테이너 생성"
   ]
  },
  {
   "cell_type": "code",
   "execution_count": null,
   "metadata": {
    "vscode": {
     "languageId": "shellscript"
    }
   },
   "outputs": [],
   "source": [
    "!docker run --name apa000ex19 -d -p 8089:80 httpd"
   ]
  },
  {
   "cell_type": "markdown",
   "metadata": {},
   "source": [
    "#### 단계 1 웹브라우저를 통해 아파치에 접근해 초기 화면 확인"
   ]
  },
  {
   "cell_type": "code",
   "execution_count": null,
   "metadata": {
    "vscode": {
     "languageId": "shellscript"
    }
   },
   "outputs": [],
   "source": [
    "# http://localhost:8089"
   ]
  },
  {
   "cell_type": "markdown",
   "metadata": {},
   "source": [
    "#### 단계 2 'cp' 커맨드로 호스트에서 컨테이너로 파일을 복사하기"
   ]
  },
  {
   "cell_type": "markdown",
   "metadata": {},
   "source": [
    "```bash\n",
    "# Windows\n",
    "docker cp C:\\Users\\사용자명\\Documents\\index.html apa000ex19:/usr/local/apache2/htdocs/\n",
    "\n",
    "# Mac  \n",
    "docker cp /Users/사용자명/Documents/index.html apa000ex19:/usr/local/apache2/htdocs/\n",
    "\n",
    "# Linux  \n",
    "docker cp /home/사용자명/index.html apa000ex19:/usr/local/apache2/htdocs/\n",
    "```"
   ]
  },
  {
   "cell_type": "code",
   "execution_count": null,
   "metadata": {
    "vscode": {
     "languageId": "shellscript"
    }
   },
   "outputs": [],
   "source": [
    "!docker cp C:\\Users\\user\\Documents\\index.html apa000ex19:/usr/local/apache2/htdocs/"
   ]
  },
  {
   "cell_type": "code",
   "execution_count": null,
   "metadata": {
    "vscode": {
     "languageId": "shellscript"
    }
   },
   "outputs": [],
   "source": [
    "!docker restart apa000ex19"
   ]
  },
  {
   "cell_type": "markdown",
   "metadata": {},
   "source": [
    "#### 단계 3 아파치의 초기 화면이 index.html 파일의 내용으로 바뀐 것을 확인"
   ]
  },
  {
   "cell_type": "code",
   "execution_count": null,
   "metadata": {
    "vscode": {
     "languageId": "shellscript"
    }
   },
   "outputs": [],
   "source": [
    "# http://localhost:8089"
   ]
  },
  {
   "cell_type": "markdown",
   "metadata": {},
   "source": [
    "<img src=\"./image/d06-04.png\" width=\"80%\"></img>"
   ]
  },
  {
   "cell_type": "markdown",
   "metadata": {},
   "source": [
    "## [실습] 컨테이너의 파일을 호스트로 복사"
   ]
  },
  {
   "cell_type": "markdown",
   "metadata": {},
   "source": [
    "#### 파일 복사 명령어"
   ]
  },
  {
   "cell_type": "markdown",
   "metadata": {},
   "source": [
    "```bash\n",
    "# Windows  \n",
    "docker cp apa000ex19:/usr/local/apache2/htdocs/index.html C:\\Users\\사용자명\\Documents\\\n",
    "\n",
    "# Mac  \n",
    "docker cp apa000ex19:/usr/local/apache2/htdocs/index.html /Users/사용자명/Documents/\n",
    "\n",
    "# Linux  \n",
    "docker cp apa000ex19:/usr/local/apache2/htdocs/index.html /home/사용자명/\n",
    "```"
   ]
  },
  {
   "cell_type": "markdown",
   "metadata": {},
   "source": [
    "#### 단계 1 'cp' 커맨드로 컨테이너에서 호스트로 파일을 복사하기"
   ]
  },
  {
   "cell_type": "code",
   "execution_count": null,
   "metadata": {
    "vscode": {
     "languageId": "shellscript"
    }
   },
   "outputs": [],
   "source": [
    "!docker cp apa000ex19:/usr/local/apache2/htdocs/index.html C:\\Users\\user\\Documents\\"
   ]
  },
  {
   "cell_type": "markdown",
   "metadata": {},
   "source": [
    "#### 단계 2 호스트에 index.html 파일 잘 복사됐는지 확인"
   ]
  },
  {
   "cell_type": "code",
   "execution_count": null,
   "metadata": {
    "vscode": {
     "languageId": "shellscript"
    }
   },
   "outputs": [],
   "source": [
    "!C:\\Users\\user\\Documents\\index.html"
   ]
  },
  {
   "cell_type": "markdown",
   "metadata": {},
   "source": [
    "# 03. 볼륨 마운트"
   ]
  },
  {
   "cell_type": "markdown",
   "metadata": {},
   "source": [
    "볼륨을 마운트하면 컨테이너의 일부를 호스트 컴퓨터의 일부와 같이 다룰 수 있어 편리하다."
   ]
  },
  {
   "cell_type": "markdown",
   "metadata": {},
   "source": [
    "## 볼륨과 마운트"
   ]
  },
  {
   "cell_type": "markdown",
   "metadata": {},
   "source": [
    "볼륨 : 스토리지의 한 영역을 분할한 것을 말한다. \n",
    "\n",
    "마운트 : '연결하다'하는 의미 그대로 대상을 연결해 운영체제 또는 소프트웨어의 관리하에 두는 일을 말한다."
   ]
  },
  {
   "cell_type": "markdown",
   "metadata": {},
   "source": [
    "<img src=\"./image/d06-05.png\" width=\"80%\"></img>\n",
    "<img src=\"./image/d06-06.png\" width=\"80%\"></img>"
   ]
  },
  {
   "cell_type": "markdown",
   "metadata": {},
   "source": [
    " 지금까지 여러번 컨테이너를 생성하고 삭제해왔는데, 실제로 컨테이너를 사용하려면 스토리지 영역을 마운트해야 한다.  \n",
    " 왜냐하면 데이터가 스토리지에 있기 때문이다."
   ]
  },
  {
   "cell_type": "markdown",
   "metadata": {},
   "source": [
    "컨테이너를 종료해도 바로 삭제되지는 않지만 성격상 '쓰고 버려야' 하기 때문에 소프트웨어 업그레이드 등의 이유로 `언젠가는 삭제`된다.  \n",
    "\n",
    "컨테이너는 생성 및 폐기가 매우 빈번하기 때문에 매번 데이터를 옮기는 대신 처음부터 컨테이너 외부에 둔 데이터에 접근해 사용하는 것이 일반적이다.  \n",
    "이를 `데이터 퍼시스턴시 data persistency`라고 한다. 이때 데이터를 두는 장소가 `마운트된 스토리지 영역`이다."
   ]
  },
  {
   "cell_type": "markdown",
   "metadata": {},
   "source": [
    "### 볼륨 마운트\n",
    "\n",
    "볼륨 마운트는 도커 엔진이 관리하는 영역 내에 만들어진 볼륨을 컨테이너에 디스크 형태로 마운트한다.\n",
    "\n",
    "이름만으로 관리가 가능하므로 다루기 쉽지만 바이드에 비해 직접 조작하기 어려우므로 '임시 목적의 사용'이나 '자주 쓰지는 않지만 안 되는 파일'을 두는 목적으로 많이 사용된다."
   ]
  },
  {
   "cell_type": "markdown",
   "metadata": {},
   "source": [
    "<img src=\"./image/d06-07.png\" width=\"80%\"></img>"
   ]
  },
  {
   "cell_type": "markdown",
   "metadata": {},
   "source": [
    "### 바인드 마운트\n",
    "\n",
    "바인드 마운트는 도커가 설치된 컴퓨터의 문서 폴더 또는 바탕화면 폴더 등 도커 엔진이 관리하지 않는 영역의 기존 디렉터리를 컨테이너에 마운트하는 방식이다. 디렉터리가 아닌 파일 단위로도 마운트가 가능하다.\n",
    "\n",
    "폴더(디렉터리) 속에 파일을 직접 두거나 열어볼 수 있기 때문에 **자주 사용하는 파일을 두는 데 사용**한다."
   ]
  },
  {
   "cell_type": "markdown",
   "metadata": {},
   "source": [
    "<img src=\"./image/d06-08.png\" width=\"80%\"></img>"
   ]
  },
  {
   "cell_type": "markdown",
   "metadata": {},
   "source": [
    "### 두 가지 마운트 방식의 차이점"
   ]
  },
  {
   "cell_type": "markdown",
   "metadata": {},
   "source": [
    "**파일을 직접 편집해야 할 일이 많다면 바인드 마운트를 사용하고, 그렇지 않다면 볼륨 마운트를 사용**하면 된다."
   ]
  },
  {
   "cell_type": "markdown",
   "metadata": {},
   "source": [
    "<img src=\"./image/d06-09.png\" width=\"80%\"></img>"
   ]
  },
  {
   "cell_type": "markdown",
   "metadata": {},
   "source": [
    "## 스토리지 영역을 마운트하는 커맨드"
   ]
  },
  {
   "cell_type": "markdown",
   "metadata": {},
   "source": [
    "어느 마운트 방식을 사용하든 스토리지 마운트는 run 커맨드의 옵션 형태로 지정한다.  \n",
    "마운트하려는 스토리지의 경로가 컨테이너 속 특정 경로와 연결되도록 설정하는 형태다.  \n",
    "\n",
    "마운트되는 스토리지는 본래 별도의 장소에 있지만 마치 컨테이너 안에 있는 것처럼 설정하는 것이다.  \n",
    "바탕화면에 비유하면 컨테이너에 스토리지를 가리키는 단축 아이콘을 만드는 것과 같다.  "
   ]
  },
  {
   "cell_type": "markdown",
   "metadata": {},
   "source": [
    "<img src=\"./image/d06-10.png\" width=\"80%\"></img>"
   ]
  },
  {
   "cell_type": "markdown",
   "metadata": {},
   "source": [
    "마운트 원본이 되는 스토리지 영역의 위치(그림 6-3-5의 B)와 마운트 대상이 되는 위치(그림 6-3-5 의 A)는 경로 형태로 지정한다.  \n",
    "예를 들어, 윈도우의 바탕화면 폴더에 있는 mezashi라는 디렉터리가 마운트 원본이라면 `C:\\Users\\사용자명\\Desktop\\mezashi`를 지정한다.\n",
    "\n",
    "마운트 대상이 되는 컨테이너 속 위치는 컨테이너의 소프트웨어가 콘텐츠를 저장하는 경로가 되는 경우가 많다.  \n",
    "예를 들어, 아파치라면 `/usr/local/apache2/htdocs`이며, MySQL은 `/var/lib/mysql`이다.  \n",
    "데이터가 위치하는 경로는 도커 이미지의 참조 문서 등을 보면 알 수 있다."
   ]
  },
  {
   "cell_type": "markdown",
   "metadata": {},
   "source": [
    "### 스토리지를 마운트하는 절차"
   ]
  },
  {
   "cell_type": "markdown",
   "metadata": {},
   "source": [
    "스토리지를 마운트하려면 먼저 마운트될 스토리지를 생성해야 한다.\n",
    "\n",
    "볼륨 마운트의 경우는 마운트와 동시에 볼륨(스토리지 영역)을 만들 수도 있지만 이 방법은 권장하지 않는다.  \n",
    "마운트 전에 별도로 볼륨을 먼저 생성하는 것이 좋다."
   ]
  },
  {
   "cell_type": "markdown",
   "metadata": {},
   "source": [
    "<img src=\"./image/d06-11.png\" width=\"80%\"></img>"
   ]
  },
  {
   "cell_type": "markdown",
   "metadata": {},
   "source": [
    "### 스토리지 영역을 만드는 방법"
   ]
  },
  {
   "cell_type": "markdown",
   "metadata": {},
   "source": [
    "바인드 마운트는 원본이 될 폴더(디렉터리)나 파일을 만든다."
   ]
  },
  {
   "cell_type": "markdown",
   "metadata": {},
   "source": [
    "볼륨 마운트는 볼륨 상위 커맨드를 사용해 먼저 볼륨을 생성한다.\n",
    "\n",
    "```bash\n",
    "# 볼륨 생성(볼륨 마운트)\n",
    "docker volume create 볼륨_이름\n",
    "\n",
    "# 볼륨 삭제(볼륨 마운트)\n",
    "docker volume rm 볼륨_이름\n",
    "```"
   ]
  },
  {
   "cell_type": "markdown",
   "metadata": {},
   "source": [
    "<img src=\"./image/d06-12.png\" width=\"80%\"></img>"
   ]
  },
  {
   "cell_type": "markdown",
   "metadata": {},
   "source": [
    "### 스토리지를 마운트하는 커맨드"
   ]
  },
  {
   "cell_type": "markdown",
   "metadata": {},
   "source": [
    "-v 옵션 뒤에 '스토리지 실제 경로' 또는 '볼륨 이름', '컨테이너 마운트 경로' 순서대로 기재한다.\n",
    "\n",
    "\n",
    "```bash\n",
    "# 바인드 마운트 커맨드 예\n",
    "docker run (생략) -v 스토리지_실제_경로:컨테이너_마운트_경로 (생략)\n",
    "\n",
    "# 바인드 마운트 커맨드 예\n",
    "docker run (생략) -v 스토리지_실제_경로:컨테이너_마운트_경로 (생략)\n",
    "```"
   ]
  },
  {
   "cell_type": "markdown",
   "metadata": {},
   "source": [
    "## [실습] 바인드 마운트해보기"
   ]
  },
  {
   "cell_type": "markdown",
   "metadata": {},
   "source": [
    "### 실습 내용\n",
    "\n",
    "<img src=\"./image/d06-13.png\" width=\"80%\"></img>"
   ]
  },
  {
   "cell_type": "markdown",
   "metadata": {},
   "source": [
    "### 생성할 컨테이너 정보\n",
    "\n",
    "<img src=\"./image/d06-14.png\" width=\"80%\"></img>"
   ]
  },
  {
   "cell_type": "markdown",
   "metadata": {},
   "source": [
    "### -v 옵션의 설정값\n",
    "\n",
    "<img src=\"./image/d06-15.png\" width=\"80%\"></img>"
   ]
  },
  {
   "cell_type": "markdown",
   "metadata": {},
   "source": [
    "#### 단계 1 마운트 원본이 될 폴더/디렉터리 만들기\n",
    "\n",
    "apa_folder라는 이름으로 마운트 원본이 될 폴더/디렉터리를 생성한다.\n",
    "\n",
    "윈도우와 macOS에서는 문서 폴더, 리눅스에서는 홈 디렉터리 아래에서 'mkdir 폴더명' 명령을 사용한다."
   ]
  },
  {
   "cell_type": "markdown",
   "metadata": {},
   "source": [
    "#### 단계 2 run 커맨드로 아파치 컨테이너 실행\n",
    "\n",
    "```bash\n",
    "# Windows  \n",
    "docker run --name apa000ex20 -d -p 8090:80 -v C:\\Users\\사용자명\\Documents\\apa_folder:/usr/local/apache2/htdocs httpd\n",
    "\n",
    "# Mac  \n",
    "docker run --name apa000ex20 -d -p 8090:80 -v /Users/ 사용자명/Documents/apa_folder:/usr/local/apache2/htdocs httpd\n",
    "\n",
    "# Linux  \n",
    "docker run --name apa000ex20 -d -p 8090:80 -v /home/사용자명/apa_folder:/usr/local/apache2/htdocs httpd\n",
    "```"
   ]
  },
  {
   "cell_type": "code",
   "execution_count": null,
   "metadata": {
    "vscode": {
     "languageId": "shellscript"
    }
   },
   "outputs": [],
   "source": [
    "!docker run --name apa000ex20 -d -p 8090:80 -v C:\\Users\\user\\Documents\\apa_folder:/usr/local/apache2/htdocs httpd"
   ]
  },
  {
   "cell_type": "markdown",
   "metadata": {},
   "source": [
    "#### 단계 3 웹 브라우저를 통해 아파치에 접근해 초기 화면 확인"
   ]
  },
  {
   "cell_type": "code",
   "execution_count": null,
   "metadata": {
    "vscode": {
     "languageId": "shellscript"
    }
   },
   "outputs": [],
   "source": [
    "# http://localhost:8090"
   ]
  },
  {
   "cell_type": "markdown",
   "metadata": {},
   "source": [
    "<img src=\"./image/d06-16.png\" width=\"80%\"></img>"
   ]
  },
  {
   "cell_type": "markdown",
   "metadata": {},
   "source": [
    "#### 단계 4 마운트된 폴더/디렉터리에 index.html 파일을 배치\n",
    "\n",
    "apa_folder 디렉터리 속에 index.html 파일을 넣는다."
   ]
  },
  {
   "cell_type": "markdown",
   "metadata": {},
   "source": [
    "#### 단계 5 index.html 파일이 변경됐는지 확인"
   ]
  },
  {
   "cell_type": "code",
   "execution_count": null,
   "metadata": {
    "vscode": {
     "languageId": "shellscript"
    }
   },
   "outputs": [],
   "source": [
    "# http://localhost:8090"
   ]
  },
  {
   "cell_type": "markdown",
   "metadata": {},
   "source": [
    "<img src=\"./image/d06-17.png\" width=\"80%\"></img>"
   ]
  },
  {
   "cell_type": "markdown",
   "metadata": {},
   "source": [
    "#### 단계 6 뒷정리"
   ]
  },
  {
   "cell_type": "markdown",
   "metadata": {},
   "source": [
    "##### 컨테이너 뒷정리"
   ]
  },
  {
   "cell_type": "code",
   "execution_count": null,
   "metadata": {
    "vscode": {
     "languageId": "shellscript"
    }
   },
   "outputs": [],
   "source": [
    "# 컨테이너 목록 확인\n",
    "!docker ps -a"
   ]
  },
  {
   "cell_type": "code",
   "execution_count": null,
   "metadata": {
    "vscode": {
     "languageId": "shellscript"
    }
   },
   "outputs": [],
   "source": [
    "# 컨테이너 종료\n",
    "!docker stop apa000ex20 apa000ex19"
   ]
  },
  {
   "cell_type": "code",
   "execution_count": null,
   "metadata": {
    "vscode": {
     "languageId": "shellscript"
    }
   },
   "outputs": [],
   "source": [
    "# 컨테이너 삭제\n",
    "!docker rm apa000ex20 apa000ex19"
   ]
  },
  {
   "cell_type": "markdown",
   "metadata": {},
   "source": [
    "##### 이미지 뒷정리"
   ]
  },
  {
   "cell_type": "code",
   "execution_count": null,
   "metadata": {
    "vscode": {
     "languageId": "shellscript"
    }
   },
   "outputs": [],
   "source": [
    "# 이미지 목록 확인\n",
    "!docker image ls"
   ]
  },
  {
   "cell_type": "code",
   "execution_count": null,
   "metadata": {
    "vscode": {
     "languageId": "shellscript"
    }
   },
   "outputs": [],
   "source": [
    "# 이미지 삭제\n",
    "!docker image rm httpd"
   ]
  },
  {
   "cell_type": "markdown",
   "metadata": {},
   "source": [
    "##### 네트워크 뒷정리"
   ]
  },
  {
   "cell_type": "code",
   "execution_count": null,
   "metadata": {
    "vscode": {
     "languageId": "shellscript"
    }
   },
   "outputs": [],
   "source": [
    "# 네트워크 목록 확인\n",
    "!docker network ls"
   ]
  },
  {
   "cell_type": "code",
   "execution_count": null,
   "metadata": {
    "vscode": {
     "languageId": "shellscript"
    }
   },
   "outputs": [],
   "source": [
    "# 네트워크 삭제\n",
    "# !docker network rm "
   ]
  },
  {
   "cell_type": "markdown",
   "metadata": {},
   "source": [
    "##### 볼륨 뒷정리"
   ]
  },
  {
   "cell_type": "code",
   "execution_count": null,
   "metadata": {
    "vscode": {
     "languageId": "shellscript"
    }
   },
   "outputs": [],
   "source": [
    "# 볼륨 목록 확인\n",
    "!docker volume ls"
   ]
  },
  {
   "cell_type": "code",
   "execution_count": null,
   "metadata": {
    "vscode": {
     "languageId": "shellscript"
    }
   },
   "outputs": [],
   "source": [
    "# 볼륨 삭제\n",
    "# !docker volume rm "
   ]
  },
  {
   "cell_type": "markdown",
   "metadata": {},
   "source": [
    "## [실습] 응용편 - 볼륨 마운트해보기"
   ]
  },
  {
   "cell_type": "markdown",
   "metadata": {},
   "source": [
    "### 실습 내용\n",
    "\n",
    "<img src=\"./image/d06-18.png\" width=\"80%\"></img>"
   ]
  },
  {
   "cell_type": "markdown",
   "metadata": {},
   "source": [
    "### 생성할 컨테이너 정보\n",
    "\n",
    "<img src=\"./image/d06-19.png\" width=\"80%\"></img>"
   ]
  },
  {
   "cell_type": "markdown",
   "metadata": {},
   "source": [
    "### 커맨드에서 사용할 옵션, 대상, 인자"
   ]
  },
  {
   "cell_type": "code",
   "execution_count": null,
   "metadata": {
    "vscode": {
     "languageId": "shellscript"
    }
   },
   "outputs": [],
   "source": [
    "# 볼륨 생성\n",
    "!docker volume create apa000vol1 "
   ]
  },
  {
   "cell_type": "code",
   "execution_count": null,
   "metadata": {
    "vscode": {
     "languageId": "shellscript"
    }
   },
   "outputs": [],
   "source": [
    "# 볼륨 상세 정보 확인\n",
    "!docker volume inspect apa000vol1 "
   ]
  },
  {
   "cell_type": "code",
   "execution_count": null,
   "metadata": {
    "vscode": {
     "languageId": "shellscript"
    }
   },
   "outputs": [],
   "source": [
    "# 볼륨 삭제\n",
    "!docker volume rm apa000vol1 "
   ]
  },
  {
   "cell_type": "markdown",
   "metadata": {},
   "source": [
    "-v 옵션    \n",
    "-v apa000vol1:/usr/local/apache2/htdocs\n",
    "\n",
    "<img src=\"./image/d06-20.png\" width=\"80%\"></img>"
   ]
  },
  {
   "cell_type": "markdown",
   "metadata": {},
   "source": [
    "#### 단계 1 마운트할 볼륨생성"
   ]
  },
  {
   "cell_type": "markdown",
   "metadata": {},
   "source": [
    "apa000vol1이라는 이름으로 마운트할 볼륨을 생성한다.  \n",
    "볼륨이 생성될 위치는 도커 엔진에서 관리하기 때문에 신경쓰지 않아도 된다."
   ]
  },
  {
   "cell_type": "code",
   "execution_count": null,
   "metadata": {
    "vscode": {
     "languageId": "shellscript"
    }
   },
   "outputs": [],
   "source": [
    "!docker volume create apa000vol1"
   ]
  },
  {
   "cell_type": "markdown",
   "metadata": {},
   "source": [
    "#### 단계 2 run 커맨드로 아파치 컨테이너 실행"
   ]
  },
  {
   "cell_type": "markdown",
   "metadata": {},
   "source": [
    "아파치 이미지(httpd)를 사용해 apa000ex21이라는 이름으로 컨테이너를 생성 및 실행하는 명령어를 입력한다.  \n",
    "-v 옵션에 조금 전 생성한 볼륨과 컨테이너 속 마운트 위치를 지정한다."
   ]
  },
  {
   "cell_type": "code",
   "execution_count": null,
   "metadata": {
    "vscode": {
     "languageId": "shellscript"
    }
   },
   "outputs": [],
   "source": [
    "!docker run --name apa000ex21 -d -p 8091:80 -v apa000vol1:/usr/local/apache2/htdocs httpd"
   ]
  },
  {
   "cell_type": "markdown",
   "metadata": {},
   "source": [
    "#### 단계 3 volume inspect 커맨드로 볼륨의 상세 정보 확인\n",
    "\n",
    "volume inspect 커맨드를 사용해 볼륨의 상세 정보를 확인한다.  \n",
    "container inspect 커맨드로 볼륨이 컨테이너에 마운트됐는지도 확인한다."
   ]
  },
  {
   "cell_type": "code",
   "execution_count": null,
   "metadata": {
    "vscode": {
     "languageId": "shellscript"
    }
   },
   "outputs": [],
   "source": [
    "!docker volume inspect apa000vol1"
   ]
  },
  {
   "cell_type": "code",
   "execution_count": null,
   "metadata": {
    "vscode": {
     "languageId": "shellscript"
    }
   },
   "outputs": [],
   "source": [
    "!docker container inspect apa000ex21"
   ]
  },
  {
   "cell_type": "markdown",
   "metadata": {},
   "source": []
  },
  {
   "cell_type": "markdown",
   "metadata": {},
   "source": [
    "#### 단계 4 뒷정리"
   ]
  },
  {
   "cell_type": "markdown",
   "metadata": {},
   "source": [
    "##### 컨테이너 뒷정리"
   ]
  },
  {
   "cell_type": "code",
   "execution_count": null,
   "metadata": {
    "vscode": {
     "languageId": "shellscript"
    }
   },
   "outputs": [],
   "source": [
    "# 컨테이너 목록 확인\n",
    "!docker ps -a"
   ]
  },
  {
   "cell_type": "code",
   "execution_count": null,
   "metadata": {
    "vscode": {
     "languageId": "shellscript"
    }
   },
   "outputs": [],
   "source": [
    "# 컨테이너 종료\n",
    "!docker stop apa000ex21"
   ]
  },
  {
   "cell_type": "code",
   "execution_count": null,
   "metadata": {
    "vscode": {
     "languageId": "shellscript"
    }
   },
   "outputs": [],
   "source": [
    "# 컨테이너 삭제\n",
    "!docker rm apa000ex21"
   ]
  },
  {
   "cell_type": "markdown",
   "metadata": {},
   "source": [
    "##### 이미지 뒷정리"
   ]
  },
  {
   "cell_type": "code",
   "execution_count": null,
   "metadata": {
    "vscode": {
     "languageId": "shellscript"
    }
   },
   "outputs": [],
   "source": [
    "# 이미지 목록 확인\n",
    "!docker image ls"
   ]
  },
  {
   "cell_type": "code",
   "execution_count": null,
   "metadata": {
    "vscode": {
     "languageId": "shellscript"
    }
   },
   "outputs": [],
   "source": [
    "# 이미지 삭제\n",
    "!docker image rm httpd"
   ]
  },
  {
   "cell_type": "markdown",
   "metadata": {},
   "source": [
    "##### 네트워크 뒷정리"
   ]
  },
  {
   "cell_type": "code",
   "execution_count": null,
   "metadata": {
    "vscode": {
     "languageId": "shellscript"
    }
   },
   "outputs": [],
   "source": [
    "# 네트워크 목록 확인\n",
    "!docker network ls"
   ]
  },
  {
   "cell_type": "code",
   "execution_count": null,
   "metadata": {
    "vscode": {
     "languageId": "shellscript"
    }
   },
   "outputs": [],
   "source": [
    "# 네트워크 삭제\n",
    "# !docker network rm "
   ]
  },
  {
   "cell_type": "markdown",
   "metadata": {},
   "source": [
    "##### 볼륨 뒷정리"
   ]
  },
  {
   "cell_type": "code",
   "execution_count": null,
   "metadata": {
    "vscode": {
     "languageId": "shellscript"
    }
   },
   "outputs": [],
   "source": [
    "# 볼륨 목록 확인\n",
    "!docker volume ls"
   ]
  },
  {
   "cell_type": "code",
   "execution_count": null,
   "metadata": {
    "vscode": {
     "languageId": "shellscript"
    }
   },
   "outputs": [],
   "source": [
    "# 볼륨 삭제\n",
    "!docker volume rm apa000vol1 "
   ]
  },
  {
   "cell_type": "markdown",
   "metadata": {},
   "source": [
    "# 04. 컨테이너로 이미지 만들기"
   ]
  },
  {
   "cell_type": "markdown",
   "metadata": {},
   "source": [
    "이 방법은 컨테이너를 다른 환경에 복제하기 위해 사용되며, 서버 엔지니어에게는 필수적인 지식이다."
   ]
  },
  {
   "cell_type": "markdown",
   "metadata": {},
   "source": [
    "## 컨테이너로 이미지를 만드는 방법"
   ]
  },
  {
   "cell_type": "markdown",
   "metadata": {},
   "source": [
    "이미 존재하는 컨테이너를 이용하면 누구나 쉽게 이미지를 만들 수 있다."
   ]
  },
  {
   "cell_type": "markdown",
   "metadata": {},
   "source": [
    "<img src=\"./image/d06-21.png\" width=\"80%\"></img>\n",
    "<img src=\"./image/d06-22.png\" width=\"80%\"></img>"
   ]
  },
  {
   "cell_type": "markdown",
   "metadata": {},
   "source": [
    "이미지를 만드는 방법에는 두 가지가 있다.\n",
    "\n",
    "첫 번째는 commit 커맨드로 기존 컨테이너를 이미지로 변환하는 방법이고,  \n",
    "두 번째는 Dokerfile 스크립트로 이미지를 만드는 방법이다."
   ]
  },
  {
   "cell_type": "markdown",
   "metadata": {},
   "source": [
    "### commit 커맨트로 컨테이너를 이미지로 변환"
   ]
  },
  {
   "cell_type": "markdown",
   "metadata": {},
   "source": [
    "컨테이너를 준비하고 컨테이너를 이미지로 변환한다. 기존 컨테이너를 복제하거나 이동해야 할 때 편리하다.\n",
    "\n",
    "<img src=\"./image/d06-23.png\" width=\"80%\"></img>"
   ]
  },
  {
   "cell_type": "markdown",
   "metadata": {},
   "source": [
    "```bash\n",
    "# 자주 사용되는 커맨드 예\n",
    "docker commit 컨테이너_이름 새로운_이미지_이름\n",
    "```"
   ]
  },
  {
   "cell_type": "markdown",
   "metadata": {},
   "source": [
    "### Dockerfile 스크립트로 이미지 만들기"
   ]
  },
  {
   "cell_type": "markdown",
   "metadata": {},
   "source": [
    "Dockerfile 스크립트를 작성하고 이 스크립트를 빌드해 이미지를 만드는 방법이다.\n",
    "\n",
    "Dockerfile 스크립트에는 토대가 될 이미지나 실행할 명령어 등을 기재한다.  \n",
    "편집은 메모장 같은 텍스트 에디터를 사용한다.\n",
    "\n",
    "이 파일을 호스트 컴퓨터의 이미지 재료가 들어있는 폴더에 넣는다.  \n",
    "재료 폴더에는 그 외 컨테이너에 넣을 파일을 함께 둔다. 실제 컨테이너를 만들 필요는 없다.\n",
    "\n",
    "<img src=\"./image/d06-24.png\" width=\"80%\"></img>"
   ]
  },
  {
   "cell_type": "markdown",
   "metadata": {},
   "source": [
    "<img src=\"./image/d06-25.png\" width=\"80%\"></img>"
   ]
  },
  {
   "cell_type": "markdown",
   "metadata": {},
   "source": [
    "Dockerfile은 첫머리에 오는 FROM 뒤에 이미지 이름을 기재하고, 그 뒤로는 파일 복사 또는 명령어 실행 등 컨테이너를 대상으로 할 일을 기술한다.\n",
    "\n",
    "Dockerfile 스크립트에 사용되는 주요 인스트럭션을 정리했다.  \n",
    "초보자 수준에서는 이 가운데 FROM, COPY, RUN 정도만 알아두면 된다."
   ]
  },
  {
   "cell_type": "markdown",
   "metadata": {},
   "source": [
    "<img src=\"./image/d06-26.png\" width=\"80%\"></img>"
   ]
  },
  {
   "cell_type": "markdown",
   "metadata": {},
   "source": [
    "## [실습] commit 커맨드로 컨테이너를 이미지로 변환"
   ]
  },
  {
   "cell_type": "markdown",
   "metadata": {},
   "source": [
    "<img src=\"./image/d06-27.png\" width=\"80%\"></img>"
   ]
  },
  {
   "cell_type": "markdown",
   "metadata": {},
   "source": [
    "#### 단계 0 아파치 컨테이너를 준비하기"
   ]
  },
  {
   "cell_type": "code",
   "execution_count": null,
   "metadata": {
    "vscode": {
     "languageId": "shellscript"
    }
   },
   "outputs": [],
   "source": [
    "!docker run --name apa000ex22 -d -p 8092:80 httpd"
   ]
  },
  {
   "cell_type": "markdown",
   "metadata": {},
   "source": [
    "#### 단계 1 컨테이너를 변환한 새로운 이미지를 생성하기"
   ]
  },
  {
   "cell_type": "code",
   "execution_count": null,
   "metadata": {
    "vscode": {
     "languageId": "shellscript"
    }
   },
   "outputs": [],
   "source": [
    "!docker commit apa000ex22 ex22_original1"
   ]
  },
  {
   "cell_type": "markdown",
   "metadata": {},
   "source": [
    "#### 단계 2 이미지가 생성되었는지 확인하기"
   ]
  },
  {
   "cell_type": "code",
   "execution_count": null,
   "metadata": {
    "vscode": {
     "languageId": "shellscript"
    }
   },
   "outputs": [],
   "source": [
    "!docker image ls"
   ]
  },
  {
   "cell_type": "markdown",
   "metadata": {},
   "source": [
    "## [실습] Dockerfile 스크립트로 이미지 만들기"
   ]
  },
  {
   "cell_type": "markdown",
   "metadata": {},
   "source": [
    "이번 실습에도 httpd 이미지를 사용한다. 이번에는 파일 복사를 사용해 httpd 이미지에 새로운 파일을 추가할 것이다.  \n",
    "재료 폴더가 있어야 하는데, 재료 폴더는 6-3절에서 바인드 마운트에 사용했던 apa_folder를 그대로 사용하겠다."
   ]
  },
  {
   "cell_type": "markdown",
   "metadata": {},
   "source": [
    "<img src=\"./image/d06-28.png\" width=\"80%\"></img>\n",
    "<img src=\"./image/d06-29.png\" width=\"80%\"></img>"
   ]
  },
  {
   "cell_type": "markdown",
   "metadata": {},
   "source": [
    "#### 단계 1 재료 폴더에 재료 준비"
   ]
  },
  {
   "cell_type": "code",
   "execution_count": null,
   "metadata": {
    "vscode": {
     "languageId": "shellscript"
    }
   },
   "outputs": [],
   "source": [
    "!C:\\Users\\user\\Documents\\apa_folder"
   ]
  },
  {
   "cell_type": "markdown",
   "metadata": {},
   "source": [
    "#### 단계 2 Dokerfile 스크립트 작성"
   ]
  },
  {
   "cell_type": "markdown",
   "metadata": {},
   "source": [
    "파일 이름은 확장자 없이 Dockerfile 이라고 붙이고 apa_folder 폴더에 저장한다.  \n",
    "윈도우에서는 먼저 .txt 확장자가 붙은 파일을 만든 다음 탐색기에서 확장자를 삭제한다.\n",
    "\n",
    "```bash\n",
    "FROM httpd\n",
    "COPY index.html /usr/local/apache2/htdocs/ \n",
    "```"
   ]
  },
  {
   "cell_type": "markdown",
   "metadata": {},
   "source": [
    "#### 단계 3 'build' 커맨드로 이미지 빌드하기"
   ]
  },
  {
   "cell_type": "markdown",
   "metadata": {},
   "source": [
    "```bash\n",
    "# Windows  \n",
    "docker build -t ex22_original2 C:\\Users\\사용자명\\Documents\\apa_folder\\\n",
    "\n",
    "# Mac  \n",
    "docker build -t ex22_original2 /Users/사용자명/Documents/apa_folder/\n",
    "\n",
    "# Linux  \n",
    "docker build -t ex22_original2 /home/사용자명/apa_folder/\n",
    "```"
   ]
  },
  {
   "cell_type": "code",
   "execution_count": 57,
   "metadata": {
    "vscode": {
     "languageId": "shellscript"
    }
   },
   "outputs": [
    {
     "name": "stderr",
     "output_type": "stream",
     "text": [
      "#0 building with \"desktop-linux\" instance using docker driver\n",
      "\n",
      "#1 [internal] load build definition from Dockerfile\n",
      "#1 transferring dockerfile: 91B 0.0s done\n",
      "#1 DONE 0.0s\n",
      "\n",
      "#2 [internal] load metadata for docker.io/library/httpd:latest\n",
      "#2 DONE 0.0s\n",
      "\n",
      "#3 [internal] load .dockerignore\n",
      "#3 transferring context: 2B done\n",
      "#3 DONE 0.0s\n",
      "\n",
      "#4 [internal] load build context\n",
      "#4 transferring context: 123B done\n",
      "#4 DONE 0.0s\n",
      "\n",
      "#5 [1/2] FROM docker.io/library/httpd:latest\n",
      "#5 DONE 0.1s\n",
      "\n",
      "#6 [2/2] COPY index.html /usr/local/apache2/htdocs/\n",
      "#6 DONE 0.0s\n",
      "\n",
      "#7 exporting to image\n",
      "#7 exporting layers 0.0s done\n",
      "#7 writing image sha256:62b8cc89cf6f36ba9ee75527d0ab9fef7f33c538e9714580b1f4c505c5c42392 done\n",
      "#7 naming to docker.io/library/ex22_original2 done\n",
      "#7 DONE 0.0s\n",
      "\n",
      "View build details: docker-desktop://dashboard/build/desktop-linux/desktop-linux/lbjsra12iafng49slwjvcnll5\n"
     ]
    }
   ],
   "source": [
    "!docker build -t ex22_original2 C:\\Users\\user\\Documents\\apa_folder\\"
   ]
  },
  {
   "cell_type": "markdown",
   "metadata": {},
   "source": [
    "#### 단계 4 이미지가 생성되었는지 확인하기"
   ]
  },
  {
   "cell_type": "code",
   "execution_count": 58,
   "metadata": {
    "vscode": {
     "languageId": "shellscript"
    }
   },
   "outputs": [
    {
     "name": "stdout",
     "output_type": "stream",
     "text": [
      "REPOSITORY       TAG       IMAGE ID       CREATED          SIZE\n",
      "ex22_original2   latest    62b8cc89cf6f   39 seconds ago   148MB\n",
      "ex22_original1   latest    70c76c399555   19 minutes ago   148MB\n",
      "httpd            latest    a49fd2c04c02   4 weeks ago      148MB\n"
     ]
    }
   ],
   "source": [
    "!docker image ls"
   ]
  },
  {
   "cell_type": "code",
   "execution_count": 59,
   "metadata": {
    "vscode": {
     "languageId": "shellscript"
    }
   },
   "outputs": [
    {
     "name": "stdout",
     "output_type": "stream",
     "text": [
      "CONTAINER ID   IMAGE     COMMAND              CREATED          STATUS          PORTS                  NAMES\n",
      "2d4bbcc0b447   httpd     \"httpd-foreground\"   20 minutes ago   Up 20 minutes   0.0.0.0:8092->80/tcp   apa000ex22\n"
     ]
    }
   ],
   "source": [
    "!docker ps"
   ]
  },
  {
   "cell_type": "code",
   "execution_count": 60,
   "metadata": {
    "vscode": {
     "languageId": "shellscript"
    }
   },
   "outputs": [
    {
     "name": "stdout",
     "output_type": "stream",
     "text": [
      "apa000ex22\n"
     ]
    }
   ],
   "source": [
    "!docker stop apa000ex22"
   ]
  },
  {
   "cell_type": "code",
   "execution_count": 61,
   "metadata": {
    "vscode": {
     "languageId": "shellscript"
    }
   },
   "outputs": [
    {
     "name": "stdout",
     "output_type": "stream",
     "text": [
      "apa000ex22\n"
     ]
    }
   ],
   "source": [
    "!docker rm apa000ex22"
   ]
  },
  {
   "cell_type": "code",
   "execution_count": 62,
   "metadata": {
    "vscode": {
     "languageId": "shellscript"
    }
   },
   "outputs": [
    {
     "name": "stdout",
     "output_type": "stream",
     "text": [
      "Untagged: ex22_original2:latest\n",
      "Deleted: sha256:62b8cc89cf6f36ba9ee75527d0ab9fef7f33c538e9714580b1f4c505c5c42392\n",
      "Untagged: ex22_original1:latest\n",
      "Deleted: sha256:70c76c3995551566e1060a022d6bc55138d1a71c1875ef145595b971e475be32\n",
      "Deleted: sha256:61511587ecaeee526c0fb3014738368b69da2c10c3e234ed17a1e92f49627293\n"
     ]
    }
   ],
   "source": [
    "!docker image rm ex22_original2 ex22_original1"
   ]
  },
  {
   "cell_type": "code",
   "execution_count": 63,
   "metadata": {
    "vscode": {
     "languageId": "shellscript"
    }
   },
   "outputs": [
    {
     "name": "stdout",
     "output_type": "stream",
     "text": [
      "REPOSITORY   TAG       IMAGE ID       CREATED       SIZE\n",
      "httpd        latest    a49fd2c04c02   4 weeks ago   148MB\n"
     ]
    }
   ],
   "source": [
    "!docker image ls"
   ]
  },
  {
   "cell_type": "markdown",
   "metadata": {},
   "source": [
    "<img src=\"./image/d06-30.png\" width=\"80%\"></img>"
   ]
  },
  {
   "cell_type": "markdown",
   "metadata": {},
   "source": [
    "# 05. 컨테이너 개조"
   ]
  },
  {
   "cell_type": "markdown",
   "metadata": {},
   "source": [
    "## 컨테이너 개조란?"
   ]
  },
  {
   "cell_type": "markdown",
   "metadata": {},
   "source": [
    "### 컨테이너를 개조하는 방법"
   ]
  },
  {
   "cell_type": "markdown",
   "metadata": {},
   "source": [
    "- 파일 복사와 마운트를 이용\n",
    "- 컨테이너에서 리눅스 명령어를 실행"
   ]
  },
  {
   "cell_type": "markdown",
   "metadata": {},
   "source": [
    "<img src=\"./image/d06-31.png\" width=\"80%\"></img>"
   ]
  },
  {
   "cell_type": "markdown",
   "metadata": {},
   "source": [
    "### 컨테이너에서 명령어를 실행하려면 셸이 필요하다\n",
    "\n",
    "컨테이너에서 리눅스 명령어를 실행하려면 리눅스에 명령을 전달해주는 프로그램 shell(셸)이 있어야 한다.  \n",
    "컨테이너를 아무 설정없이 실행하면 bash가 동작하지 않는 상태로 실행된다. 따라서 bash를 실행해 우리의 명령을 입력받을 수 있는 상태로 만들어야 한다."
   ]
  },
  {
   "cell_type": "markdown",
   "metadata": {},
   "source": [
    "<img src=\"./image/d06-32.png\" width=\"80%\"></img>"
   ]
  },
  {
   "cell_type": "markdown",
   "metadata": {},
   "source": [
    "```bash\n",
    "# bash를 실행하려면 다음 인자를 전달하면 된다.\n",
    "/bin/bash\n",
    "```\n",
    "\n",
    "이 인자는 docker run 또는 docker exec 커맨드와 함께 사용한다.\n",
    "\n",
    "`docker exec`는 컨테이너 속에서 명령어를 실행하는 커맨드다.  \n",
    "실행 중인 컨테이너에 run 커맨드를 사용할 수는 없으므로 이 방법을 사용한다.  \n",
    "이 방법으로 bash 없이도 어느 정도 명령을 직접 전달할 수는 있다.  \n",
    "하지만 초기 설정이 없어 동작하지 않는 경우도 있어 기본적으로는 셸을 통해 명령을 실행한다."
   ]
  },
  {
   "cell_type": "markdown",
   "metadata": {},
   "source": [
    "bash를 사용한 컨테이너 조작이 끝나고 나면 다시 docker start 커맨드로 컨테이너를 재시작해야 한다.  \n",
    "이런 상황에는 docker run 커맨드는 잘 사용하지 않으므로 docker exec 커맨드만 기억해두면 된다.  \n",
    "\n",
    "```bash\n",
    "# exec 커맨드에 인자를 추가한 예  \n",
    "docker exec(옵션) 컨테이너_이름 /bin/bash\n",
    "```\n",
    "\n",
    "```bash\n",
    "# run 커맨드에 인자를 추가한 예  \n",
    "docker run (옵션) 이미지_이름 /bin/bash\n",
    "```\n",
    "\n",
    "예를 들어, 아파치 컨테이너의 이름이 apa000ex23이고 이 컨테이너에 bash 인자를 추가하려면 다음과 같이 하면 된다.\n",
    "\n",
    "```bash\n",
    "# exec 커맨드에 인자를 추가한 예\n",
    "docker exec -it apa000ex23 /bin/bash\n",
    "```\n",
    "\n",
    "```bash\n",
    "# run 커맨드에 인자를 추가한 예(아파치가 실행되지 않음)\n",
    "docker run --name apa000ex23 -it-p 8089:80 httpd /bin/bash\n",
    "```\n",
    "\n",
    "bash가 실행되면 셸에 입력된 명령은 도커 엔진이 아니라 해당 컨테이너로 전달된다."
   ]
  },
  {
   "cell_type": "markdown",
   "metadata": {},
   "source": [
    "명령을 입력받는 대상이 바뀌는 것이다. 따라서 프롬프트도 바뀐다. 도커 엔진과 컨테이너는 말하자면 부모-자식과 같은 관계를 갖는다.\n",
    "\n",
    "자식이 부모의 피를 이었더라도 부모와는 별개의 인간이듯이 도커 컨테이너 역시 도커 엔진과는 별개 의 존재다. 따라서 `bash를 통해 컨테이너 내부를 조작하는 동안에는 도커 명령을 사용할 수 없다`.  현재 조작 중인 컨테이너라도 이 점은 마찬가지다.\n",
    "\n",
    "<img src=\"./image/d06-33.png\" width=\"80%\"></img>\n",
    "\n",
    "요약하자면 컨테이너를 만들고 삭제하거나 컨테이너 자체에 대한 명령은 도커 엔진을 통하는 것이고, 컨테이너 내부를 다루는 명령은 bash를 통한다.\n",
    "\n",
    "그러므로 `컨테이너 안에서 할 일을 마쳤다면 다시 컨테이너에서 나와야` 한다. 컨테이너에서 돌아가려면 exit 명령어를 사용한다. 리눅스 사용자라면 익숙한 명령일 것이다. exit 명령어로 컨테이너에서 나오면 다시 도커 엔진에 명령을 내릴 수 있다.\n",
    "`\n",
    "```bash\n",
    "# 도커 엔진에 명령을 내릴 수 있도록 컨테이너에서 나오는 명령어\n",
    "exit\n",
    "```\n",
    "그리고 bash를 통해 사용하는 명령어는 리눅스 명령어다.\n",
    "리눅스 명령어는 여기서 자세히 다루지 않는다. 다만 리눅스에 익숙한 독자라면 우분투 만 설치된 컨\n",
    "테이너를 만들고 이 안에서 아파치나 MySQL을 설치해도 된다."
   ]
  },
  {
   "cell_type": "markdown",
   "metadata": {},
   "source": [
    "```bash\n",
    "# 우분투 컨테이너의 명령어 예(\"Hello World\" 메시지를 출력)  \n",
    "echo \"Hello World\"\n",
    "\n",
    "# 아파치 설치  \n",
    "apt install apache2\n",
    "\n",
    "# MySQL 설치  \n",
    "apt install mysql-server\n",
    "```"
   ]
  },
  {
   "cell_type": "markdown",
   "metadata": {},
   "source": [
    "## 도커의 구조, 도커 엔진을 통해야하는 명령과 컨테이너 안에서 실행해야하는 명령  \n",
    "\n",
    "'컨테이너 안에서 실행해야 하는 명령'과 도커 엔진을 통해야 하는 명령에는 어떤 차이가 있는지 간단히 정리하겠다.\n",
    "\n",
    "### 도커 엔진을 통한 명령과 컨테이너 내부에서 실행하는 명령\n",
    "\n",
    "부모에 해당하는 도커 엔진을 통해야 하는 명령은 도커 엔진 자체의 시작 또는 종료, 네트워크, 디스크 설정, 실행 중인 컨테이너 목록 확인 등 `컨테이너 전체에 대한 관리` 작업이다.  \n",
    "\n",
    "또한 지금까지의 실습처럼 컨테이너 생성과 실행, 종료, 이미지 내려받기 등도 여기에 포함된다. 이때 사용하는 명령어는 docker 명령어였다.\n",
    "\n",
    "반면 컨테이너 내부에서 실행하는 명령은 컨테이너 속에 새로운 소프트웨어를 추가하거나, 컨테이너 속 소프트웨어의 실행 및 종료, 설정 변경, 컨테이너 안과 밖의 파일 복사 및 이동, 삭제 작업이다.\n"
   ]
  },
  {
   "cell_type": "markdown",
   "metadata": {},
   "source": [
    "<img src=\"./image/d06-34.png\" width=\"80%\"></img>"
   ]
  },
  {
   "cell_type": "markdown",
   "metadata": {},
   "source": [
    "### 도커와 컨테이너는 별개의 언어를 사용한다\n",
    "\n",
    "앞에서 설명했듯이 도커와 컨테이너는 부모자식과도 같은 관계를 띠지만 별개의 존재이므로 상황에 따라 사용하는 언어(스타일)가 달라지기도 한다.\n",
    "\n",
    "<img src=\"./image/d06-35.png\" width=\"80%\"></img>\n",
    "\n",
    "지금까지 사용해온 도커 데스크톱\"에서는 부모에 해당하는 도커에 대한 명령어는 윈도우나 macOs 스타일을 따랐다. 윈도우와 macOS에서 명령어는 모두 똑같았는데? 라고 생각하는 독자도 있겠으나, 이는 사실 도커 커맨드가 똑같았기 때문이다."
   ]
  },
  {
   "cell_type": "markdown",
   "metadata": {},
   "source": [
    "도커 데스크톱을 설치할 때는 설치 관리자가 모든 작업을 맡아 하므로 내부에서 어떤 명령이 실행되는 지 알 수 없다. 잘 알기 어렵지만 사실 도커를 설치하는 명령은 윈도우와 리눅스에서 그 문법이 서로 다르다.\n",
    "\n",
    "거기다 리눅스에는 배포판 간의 차이도 존재한다. 특히 설치 명령어에는 레드햇 계열과 데비안 계열에서 큰 차이가 있다.\n",
    "\n",
    "<img src=\"./image/d06-36.png\" width=\"80%\"></img>\n",
    "\n",
    "이것이 컨테이너와 어떤 관계가 있냐면 컨테이너에 들어있는 `운영체제 비슷한 것`의 종류가 무엇이냐 에 따라 컨테이너 내부에서 사용하는 명령어가 약간씩 달라지게 된다.\n",
    "\n",
    "다시 말해 컨테이너 A가 데비안 계열, 컨테이너 B가 레드햇 계열을 사용한다면 똑같이 도커에서 실행 중인 컨테이너라도 컨테이너 내부에서 사용하는 명령의 스타일이 달라지는 것이다.\n",
    "\n",
    "<img src=\"./image/d06-37.png\" width=\"80%\"></img>"
   ]
  },
  {
   "cell_type": "markdown",
   "metadata": {},
   "source": [
    "만약 도커 리눅스 버전을 사용할 때 도커 엔진이 설치된 호스트 컴퓨터는 CentOs(레드햇 계열), 컨테이너 A는 우분투(데비안 계열), 컨테이너 B는 알파인 리눅스를 사용한다면 부모 자식이 모두 스타일이 달라지는 골치아픈 사태가 벌어진다.\n",
    "\n",
    "<img src=\"./image/d06-38.png\" width=\"80%\"></img>\n",
    "\n",
    "스타일이 다르다고는 하지만 그렇다고 엄청난 차이가 있는 것은 아니다. 몇 가지 명령을 빼면 대부분은 공통이다. 때때로 명령이 달라진다고 생각하면 된다.\n",
    "\n",
    "```bash\n",
    "# 데비안 계열에서 아파치를 설치하는 명령  \n",
    "apt install apache2\n",
    "```\n",
    "\n",
    "```bash\n",
    "# 레드햇 계열에서 아파치를 설치하는 명령  \n",
    "yum install httpd\n",
    "```\n",
    "\n",
    "자신이 어느 것을 사용하는지 알고 있다면 아무 문제가 없으며 도커에서 공식적으로 `특별한 이유가 없다면 데비안 계열을 기반으로 하는 것이 좋다`고 명확히 방침을 밝히고 있으므로 대부분의 컨테이너는 데비안 계열이다. 특히 컨테이너 내부를 통해 개조 작업을 하는 컨테이너는 대부분 데비안 계열이므로 이 점도 알아두기 바란다."
   ]
  },
  {
   "cell_type": "markdown",
   "metadata": {},
   "source": [
    "# 06. 도커 허브 등록 및 로그인"
   ]
  },
  {
   "cell_type": "markdown",
   "metadata": {},
   "source": [
    "이번 절에서는 다른 사람에게 이미지를 공유하는 방법을 알아보겠다.\n",
    "2장에서 잠시 소개했던 도커 허브와 도커 레지스트리도 더 자세히 소개한다.\n",
    "\n",
    "## 이미지는 어디서 내려받는 걸까?\n",
    "\n",
    "지금까지 컨테이너를 만들려면 이미지를 내려받고 내려받은 이미지로부터 컨테이너를 만들었다. docker run 커맨드를 사용할 때 자동으로 이미지를 내려받으므로 크게 신경 쓰지 않았지만 이때 내려받 는 이미지는 `도커 허브`에 저장된 것이다.\n",
    "\n",
    "하지만 우리가 직접 만든 이미지는 어떨까? 직접 만든 이미지로부터 docker run 커맨드로 컨테이너를 만들려면 이미지를 가져올 수 있는 장소가 필요할 것이다.\n",
    "\n",
    "`직접 만든 이미지도 도커 허브에 올릴 수 있으며, 비공개로 사용하는 도커 허브 같은 장소도 만들 수 있다.`\n",
    "\n",
    "<img src=\"./image/d06-39.png\" width=\"80%\"></img>"
   ]
  },
  {
   "cell_type": "markdown",
   "metadata": {},
   "source": [
    "## 도커 허브와 도커 레지스트리\n",
    "\n",
    "도커 허브와 도커 레지스트리는 어떤 관계에 있는지 알아보자.\n",
    "\n",
    "이미지를 배포하는 장소를 '도커 레지스트리'라고 한다. 일반에 공개되어 있든 비공개이든 상관없이 이미지가 배포되는 곳은 모두 도커 레지스트리다.\n",
    "\n",
    "도커 허브는 도커 제작사에서 운영하는 공식 도커 레지스트리를 말한다. 아파치나 MySQL, 우분투의 공식 이미지 모두 도커 허브에 참여해 도커 허브에서 이미지를 배포한다. 우리가 run 커맨드를 사용할 때 내려받는 이미지는 이렇게 제공된다.\n",
    "\n",
    "도커 레지스트리는 도커 제작사 외의 다른 기업이나 개인도 운영할 수 있으므로 전 세계적으로 많은 수가 있다. 다만 외부에 공개되지 않은 도커 레지스트리는 우리가 접속할 수 없으므로 사용할 일이 없을 뿐이다. 도커 레지스트리는 매우 편리한 이미지 배포 시스템이다.\n",
    "\n",
    "<img src=\"./image/d06-40.png\" width=\"80%\"></img>\n",
    "\n",
    "### 레지스트리와 리포지토리\n",
    "\n",
    "레지스트리(등록장부)와 리포지토리(창고)는 언뜻 비슷한 것으로 착각하기 쉽지만 다른 개념이다. 레지스트리는 이미지를 배포하는 장소다. 반면 리포지토리는 레지스트리를 구성하는 단위다.\n",
    "\n",
    "예를 들어, zoozoo라는 회사에서 '냥파치'와 '멍SQL'이라는 소프트웨어를 만든다고 하자. 레지스트리는 회사나 부서 단위로 만들지만 리포지토리는 소프트웨어를 단위로 한다.\n",
    "\n",
    "<img src=\"./image/d06-41.png\" width=\"80%\"></img>\n",
    "\n",
    "도커 허브에서는 리포지토리가 각각 ID를 갖게 돼 있다.  \n",
    "따라서 도커 허브는 각각의 회사나 개인이 가진 레지스트리가 여럿 모인 형태가 된다.\n",
    "\n",
    "<img src=\"./image/d06-42.png\" width=\"80%\"></img>"
   ]
  },
  {
   "cell_type": "markdown",
   "metadata": {},
   "source": [
    "## 태그와 이미지 업로드\n",
    "\n",
    "도커 허브에 공개로 업로드하든, 비공개 리포지토리에 업로드하든 이미지를 업로드하려면 이미지에 태그를 부여해야 한다.\n",
    "\n",
    "### 이미지 이름과 태그\n",
    "\n",
    "태그라고 하면 블로그나 SNS 등에서 볼 수 있는 '#Docker #초보자용 #서적' 같은 해시태그를 먼저 떠올릴 독자들도 있을 것이다. 하지만 도커에서 말하는 태그는 해시태그와는 다른 것이다. 도커의 태그는 레지스트리에 업로드를 상정한 이미지 이름에 가깝다.\n",
    "\n",
    "사람으로 말하면 아명(어릴적 이름 '응칠'이 '안중근 43세'로 바뀌는 것)과 비슷하다. 로컬 컴퓨터에서는 nyapa000ex22처럼 대충 붙였던 이름을 'zoozoo.coomm/nyapacchi :13'처럼 레지스트리의 주소와 버전 표기\"를 추가해 정식 명칭으로 만든다.\n",
    "\n",
    "<img src=\"./image/d06-43.png\" width=\"80%\"></img>\n",
    "\n",
    "태그는 '레지스트리_주소(도커 허브는 ID)/리포지토리_이름: 버전'의 형식을 띤다. 버전은 생략할 수 있지만 나중이 되면 다루기 복잡해질 수 있기 때문에 버전을 따로 관리하고 싶다면 붙이는 것이 좋다.\n",
    "\n",
    "<img src=\"./image/d06-44.png\" width=\"80%\"></img>\n",
    "<img src=\"./image/d06-45.png\" width=\"80%\"></img>"
   ]
  },
  {
   "cell_type": "markdown",
   "metadata": {},
   "source": [
    "### 이미지에 태그를 부여해 복제하는 커맨드 docker tag (docker image tag)\n",
    "\n",
    "이미지에 태그를 부여하는 명령어는 다음과 같이 작성한다.\n",
    "언뜻 보면 어려워 보이지만 원래 있던 이미지 이름을 태그로 바꾸고 이미지를 복제하라는 의미다.\n",
    "\n",
    "그러므로 명령어를 실행한 후 image 1s 커맨드로 이미지 목록을 확인해 보면 원래 이름의 이미지와 태 그가 부여된 이미지가 둘 다 존재한다. 이들의 이미지 ID는 동일하지만 별개의 이미지로 취급되므로 이미지를 삭제할 때는 두 가지 모두 삭제해야 한다.\n",
    "\n",
    "```bash\n",
    "# 이미지에 태그를 부여해 복제하는 명령어의 예\n",
    "docker tag 원래_이미지_이름 레지스트리_주소/리포지토리_이름:버전\n",
    "```\n",
    "\n",
    "```bash\n",
    "# 원래 이미지 이름이 apa000ex22인 이미지에 레지스트리 주소는 zoozoo.coomm, 리포지토리 이름은 nyapacchi, 버전은 13으로 태그를 부여\n",
    "docker tag apa000ex22 zoozoo.coomm/nyapacchi:13\n",
    "```\n",
    "\n",
    "```bash\n",
    "### 이미지를 업로드하는 커맨드 docker push (docker image push)\n",
    "docker push 커맨드는 이미지를 업로드하는 커맨드다.\n",
    "```\n",
    "\n",
    "태그는 '레지스트리 주소/리포지토리 이름:버전'과 같이 길어서 알아보기 힘들지만 그 자체로 하나의 이름이다.  \n",
    "또 어느 레지스트리에 업로드할지도 태그로 판단한다. 다시 말해 도커 엔진은 태그에 포함된 레지스트 리 주소의 도메인에 있는 레지스트리로 업로드를 시도한다.  \n",
    "리포지토리는 처음 업로드할 때는 존재하지 않는다. push 커맨드를 실행하며 만들어진다.  \n",
    "여기서는 생략됐지만 업로드 대상 레지스트리에 따라 로그인을 요구하는 경우도 있다.  \n",
    "\n",
    "```bash\n",
    "# 레지스트리에 업로드하는 명령어의 예\n",
    "docker push 레지스트리_주소/리포지토리_이름:버전\n",
    "zoozoo.coomm/nyapacchi:13을 업로드하는 명령어\n",
    "docker push zoozoo.coomm/nyapacchi:13\n",
    "```\n",
    "\n",
    "## 레지스트리를 만드는 방법\n",
    "\n",
    "개발 회사는 대개 사내용 도커 레지스트리를 만들고 여기에 개발환경 이미지를 올려 배포하는 체계를 갖추고 있을 것이다. 외부 공개를 목적으로 한다면 도커 허브가 가장 이상적이다.\n",
    "\n",
    "### 비공개 레지스트리를 만드는 방법\n",
    "\n",
    "도커 레지스트리는 간단하게 만들 수 있다.\n",
    "\n",
    "레지스트리용 컨테이너(registry)가 따로 있으므로 이를 사용하면 된다. 다시 말해, 레지스트리도 도커 를 통해 운영할 수 있다.\n",
    "컨테이너를 만들면 사용자는 레지스트리에 로그인한 다음 이미지를 내려받을 곳으로 이 레지스트리를 지정한다. 레지스트리는 포트 5000번을 사용한다.\n",
    "\n",
    "레지스트리를 만드는 명령어의 예\n",
    "```bash\n",
    "docker run -d -p 5000:5000 registry\n",
    "```\n",
    "\n",
    "### 도커 허브 사용\n",
    "\n",
    "이메일 주소만 있으면 누구든지 도커 허브에 가입할 수 있다. ID 등 필요한 정보를 기입하고, 요금 플 랜을 선택하면 된다. 요금 플랜에는 유료 플랜과 무료 플랜(Community)이 있는데, 먼저 사용해보고 싶다면 무료 플랜을 선택하면 된다.\n",
    "\n",
    "- 도커 허브: https://hub.docker.com"
   ]
  },
  {
   "cell_type": "markdown",
   "metadata": {},
   "source": []
  },
  {
   "cell_type": "markdown",
   "metadata": {},
   "source": [
    "<img src=\"./image/d06-46.png\" width=\"80%\"></img>\n",
    "\n",
    "도커 허브에 이미지를 업로드하면 전 세계 사람들에게 이미지를 배포할 수 있으며, 비공개 설정을 하면 이미지를 공개하지 않을 수도 있다. 이런 경우에는 미리 리포지토리를 만들어 두도록 한다.\n",
    "\n",
    "push 커맨드로 리포지토리를 만들면 자동적으로 공개 상태(public)가 된다.\n",
    "[Create Repository] 버튼을 클릭하면 리포지토리를 만들 수 있다. 지면 관계상 이 이상의 설명은 생략하겠다.\n",
    "\n",
    "<img src=\"./image/d06-47.png\" width=\"80%\"></img>\n",
    "\n",
    "다만 서버를 운영하려면 비용이 발생하기 때문에 무료 플랜이라 하더라도 여러 리포지토리를 만들고 방치하는 것은 바람직하지 않다. 정도를 지키도록 하자."
   ]
  },
  {
   "cell_type": "markdown",
   "metadata": {},
   "source": []
  }
 ],
 "metadata": {
  "kernelspec": {
   "display_name": "Python 3",
   "language": "python",
   "name": "python3"
  },
  "language_info": {
   "codemirror_mode": {
    "name": "ipython",
    "version": 3
   },
   "file_extension": ".py",
   "mimetype": "text/x-python",
   "name": "python",
   "nbconvert_exporter": "python",
   "pygments_lexer": "ipython3",
   "version": "3.12.4"
  }
 },
 "nbformat": 4,
 "nbformat_minor": 2
}
