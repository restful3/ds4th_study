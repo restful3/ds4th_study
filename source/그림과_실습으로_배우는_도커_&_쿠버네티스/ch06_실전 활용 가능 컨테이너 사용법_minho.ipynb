{
 "cells": [
  {
   "cell_type": "markdown",
   "metadata": {},
   "source": [
    "# 01. 내게 필요한 지식이 무엇인지 정리하기"
   ]
  },
  {
   "cell_type": "markdown",
   "metadata": {},
   "source": [
    "지금까지 배운 내용은 도커 사용법 중에서도 기본편에 해당한다.  \n",
    "다시 말하면 지금까지 배운 내용만 알고 있다면 도커 사용법의 기반은 이미 잡힌 것이나 마찬가지다."
   ]
  },
  {
   "cell_type": "markdown",
   "metadata": {},
   "source": [
    "만약 자신이 서버 엔지니어나 보안 엔지니어라면 도커를 깊이 공부해야 한다."
   ]
  },
  {
   "cell_type": "markdown",
   "metadata": {},
   "source": [
    "## 앞으로 설명할 도커기술"
   ]
  },
  {
   "cell_type": "markdown",
   "metadata": {},
   "source": [
    "- 6-2절 컨테이너와 호스트사이에 파일 복사\n",
    "- 6-3절 볼륨 마운트\n",
    "- 6-4절 컨테이너로 이미지로 만들기\n",
    "- 6-5절 컨테이너 개조\n",
    "- 6-6절 도커 허브 로그인\n",
    "- 7장 도커 컴포즈\n",
    "    - 데이터베이스와 애플리케이션 컨테이너를 함께 시작하고 싶다거나, 환경을 대량으로 생성해야 할 때 유용하다.\n",
    "- 8장 쿠버네티스\n",
    "    - 쿠버네티스는 여러 대의 서버에서 컨테이너를 실행할 때 사용하는 컨테이너 오케스트레이션 도구다.\n",
    "    - 액세스 수가 많은 상황에서는 서버 엔지니어나 유지보수 담당자가 필수적으로 익혀야 한다.\n",
    "    - 이런 성격 탓에 클라우드 서비스와 조합해 사용하는 경우도 많다."
   ]
  },
  {
   "cell_type": "markdown",
   "metadata": {},
   "source": [
    "# 02. 컨테이너와 호스트 간에 파일 복사하기"
   ]
  },
  {
   "cell_type": "markdown",
   "metadata": {},
   "source": [
    "## 파일 복사"
   ]
  },
  {
   "cell_type": "markdown",
   "metadata": {},
   "source": [
    "프로그램 외에도 프로그래밍 언어의 런타임이나 웹 서버, 데이터베이스 등이 함께 시스템을 구성한다.\n",
    "\n",
    "이들 구성 요소는 시스템이 동작하는 데 필요하지만 그 외에도 화면을 구성하는 이미지, 입력받은 데이 터 본체 등이 있을 수 있다. \n",
    "\n",
    "워드프레스를 예로 들면 웹 페이지를 구성하는 HTML 파일, CSS 파일, 각 아티클에 포함된 텍스트나 이미지 등이 있을 것이다.  \n",
    "이러한 파일은 워드프레스 상의 조작을 통해 서버에 저장되지만 때로는 소프트웨어의 개입 없이 서버 와 로컬 컴퓨터 간에 파일을 주고받아야 할 때가 있다.   \n",
    "이럴 때를 위해 파일 복사하는 방법을 익혀두자.  \n",
    "\n",
    "파일 복사는 컨테이너 → 호스트, 호스트 → 컨테이너로 양방향 모두 가능하다. \n",
    "호스트 쪽 파일은 어디 에 위치한 파일이라도 복사가 가능하고, 컨테이너 쪽에서도 파일을 복사할 경로를 지정할 수 있다."
   ]
  },
  {
   "cell_type": "markdown",
   "metadata": {},
   "source": [
    "<img src=\"./image/d06-01.png\" width=\"60%\"></img>"
   ]
  },
  {
   "cell_type": "markdown",
   "metadata": {},
   "source": [
    "### 파일 복사 커맨드 docker cp (docker container cp)"
   ]
  },
  {
   "cell_type": "markdown",
   "metadata": {},
   "source": [
    "컨테이너로 파일을 복사하는 커맨드 사용 예(호스트 → 컨테이너)"
   ]
  },
  {
   "cell_type": "code",
   "execution_count": null,
   "metadata": {
    "vscode": {
     "languageId": "shellscript"
    }
   },
   "outputs": [],
   "source": [
    "docker cp 호스트_경로 컨테이너_이름:컨테이너_경로"
   ]
  },
  {
   "cell_type": "markdown",
   "metadata": {},
   "source": [
    "호스트로 파일을 복사하는 커맨드 사용 예(컨테이너 → 호스트)"
   ]
  },
  {
   "cell_type": "code",
   "execution_count": null,
   "metadata": {
    "vscode": {
     "languageId": "shellscript"
    }
   },
   "outputs": [],
   "source": [
    "docker cp 컨테이너_이름:컨테이너_경로 호스트_경로"
   ]
  },
  {
   "cell_type": "markdown",
   "metadata": {},
   "source": [
    "파일 복사 명령어"
   ]
  },
  {
   "cell_type": "code",
   "execution_count": null,
   "metadata": {
    "vscode": {
     "languageId": "shellscript"
    }
   },
   "outputs": [],
   "source": [
    "docker cp 원본_경로 복사할_경로"
   ]
  },
  {
   "cell_type": "markdown",
   "metadata": {},
   "source": [
    "### 호스트 경로의 예"
   ]
  },
  {
   "cell_type": "markdown",
   "metadata": {},
   "source": [
    "<img src=\"./image/d06-02.png\" width=\"40%\"></img>"
   ]
  },
  {
   "cell_type": "markdown",
   "metadata": {},
   "source": [
    "### index.html 파일 만들기"
   ]
  },
  {
   "cell_type": "markdown",
   "metadata": {},
   "source": [
    "아파치 컨테이너를 예를 들어 설명하겠다.\n",
    "\n",
    "아파치에 접근하면 초기 화면이 표시되는데, index.html 파일을 만들면 이 파일의 내용이 초기 화면보다 우선해 표시된다."
   ]
  },
  {
   "cell_type": "markdown",
   "metadata": {},
   "source": [
    "### [사전준비] index.html 파일 생성"
   ]
  },
  {
   "cell_type": "code",
   "execution_count": null,
   "metadata": {
    "vscode": {
     "languageId": "html"
    }
   },
   "outputs": [],
   "source": [
    "<html>\n",
    "<meta charset=\"utf-8\"/>\n",
    "<body>\n",
    "<div>안녕하세요!</div>\n",
    "</body>\n",
    "</html>"
   ]
  },
  {
   "cell_type": "markdown",
   "metadata": {},
   "source": [
    "## [실습] 호스트의 파일을 컨테이너 속으로 복사"
   ]
  },
  {
   "cell_type": "markdown",
   "metadata": {},
   "source": [
    "파일을 복사한 후 아파치에 접근해보면 우리가 항상 보던 초기 화면 대신 index.html 파일의 내용이 출력될 것이다."
   ]
  },
  {
   "cell_type": "markdown",
   "metadata": {},
   "source": [
    "파일 복사 명령어"
   ]
  },
  {
   "cell_type": "code",
   "execution_count": null,
   "metadata": {
    "vscode": {
     "languageId": "shellscript"
    }
   },
   "outputs": [],
   "source": [
    "doker cp 원본_경로 복사대상_컨테이너_이름:컨테이너_경로"
   ]
  },
  {
   "cell_type": "markdown",
   "metadata": {},
   "source": [
    "<img src=\"./image/d06-03.png\" width=\"40%\"></img>"
   ]
  },
  {
   "cell_type": "markdown",
   "metadata": {},
   "source": [
    "#### 단계 0 아파치 컨테이너 생성"
   ]
  },
  {
   "cell_type": "code",
   "execution_count": null,
   "metadata": {
    "vscode": {
     "languageId": "shellscript"
    }
   },
   "outputs": [],
   "source": [
    "!docker run --name apa000ex19 -d -p 8089:80 httpd"
   ]
  },
  {
   "cell_type": "markdown",
   "metadata": {},
   "source": [
    "#### 단계 1 웹브라우저를 통해 아파치에 접근해 초기 화면 확인"
   ]
  },
  {
   "cell_type": "code",
   "execution_count": null,
   "metadata": {
    "vscode": {
     "languageId": "shellscript"
    }
   },
   "outputs": [],
   "source": [
    "# http://localhost:8089"
   ]
  },
  {
   "cell_type": "markdown",
   "metadata": {},
   "source": [
    "#### 단계 2 'cp' 커맨드로 호스트에서 컨테이너로 파일을 복사하기"
   ]
  },
  {
   "cell_type": "markdown",
   "metadata": {},
   "source": [
    "- Windows  \n",
    "docker cp C:\\Users\\사용자명\\Documents\\index.html apa000ex19:/usr/local/apache2/htdocs/\n",
    "\n",
    "- Mac  \n",
    "docker cp /Users/사용자명/Documents/index.html apa000ex19:/usr/local/apache2/htdocs/\n",
    "\n",
    "- Linux  \n",
    "docker cp /home/사용자명/index.html apa000ex19:/usr/local/apache2/htdocs/"
   ]
  },
  {
   "cell_type": "code",
   "execution_count": null,
   "metadata": {
    "vscode": {
     "languageId": "shellscript"
    }
   },
   "outputs": [],
   "source": [
    "!docker cp C:\\Users\\user\\Documents\\index.html apa000ex19:/usr/local/apache2/htdocs/"
   ]
  },
  {
   "cell_type": "code",
   "execution_count": null,
   "metadata": {
    "vscode": {
     "languageId": "shellscript"
    }
   },
   "outputs": [],
   "source": [
    "!docker restart apa000ex19"
   ]
  },
  {
   "cell_type": "markdown",
   "metadata": {},
   "source": [
    "#### 단계 3 아파치의 초기 화면이 index.html 파일의 내용으로 바뀐 것을 확인"
   ]
  },
  {
   "cell_type": "code",
   "execution_count": null,
   "metadata": {
    "vscode": {
     "languageId": "shellscript"
    }
   },
   "outputs": [],
   "source": [
    "# http://localhost:8089"
   ]
  },
  {
   "cell_type": "markdown",
   "metadata": {},
   "source": [
    "<img src=\"./image/d06-04.png\" width=\"60%\"></img>"
   ]
  },
  {
   "cell_type": "markdown",
   "metadata": {},
   "source": [
    "## [실습] 컨테이너의 파일을 호스트로 복사"
   ]
  },
  {
   "cell_type": "markdown",
   "metadata": {},
   "source": [
    "#### 파일 복사 명령어"
   ]
  },
  {
   "cell_type": "markdown",
   "metadata": {},
   "source": [
    "- Windows  \n",
    "docker cp apa000ex19:/usr/local/apache2/htdocs/index.html C:\\Users\\사용자명\\Documents\\\n",
    "\n",
    "- Mac  \n",
    "docker cp apa000ex19:/usr/local/apache2/htdocs/index.html /Users/사용자명/Documents/\n",
    "\n",
    "- Linux  \n",
    "docker cp apa000ex19:/usr/local/apache2/htdocs/index.html /home/사용자명/"
   ]
  },
  {
   "cell_type": "markdown",
   "metadata": {},
   "source": [
    "#### 단계 1 'cp' 커맨드로 컨테이너에서 호스트로 파일을 복사하기"
   ]
  },
  {
   "cell_type": "code",
   "execution_count": null,
   "metadata": {
    "vscode": {
     "languageId": "shellscript"
    }
   },
   "outputs": [],
   "source": [
    "!docker cp apa000ex19:/usr/local/apache2/htdocs/index.html C:\\Users\\user\\Documents\\"
   ]
  },
  {
   "cell_type": "markdown",
   "metadata": {},
   "source": [
    "#### 단계 2 호스트에 index.html 파일 잘 복사됐는지 확인"
   ]
  },
  {
   "cell_type": "code",
   "execution_count": null,
   "metadata": {
    "vscode": {
     "languageId": "shellscript"
    }
   },
   "outputs": [],
   "source": [
    "!C:\\Users\\user\\Documents\\index.html"
   ]
  },
  {
   "cell_type": "markdown",
   "metadata": {},
   "source": [
    "# 03. 볼륨 마운트"
   ]
  },
  {
   "cell_type": "markdown",
   "metadata": {},
   "source": [
    "볼륨을 마운트하면 컨테이너의 일부를 호스트 컴퓨터의 일부와 같이 다룰 수 있어 편리하다."
   ]
  },
  {
   "cell_type": "markdown",
   "metadata": {},
   "source": [
    "## 볼륨과 마운트"
   ]
  },
  {
   "cell_type": "markdown",
   "metadata": {},
   "source": [
    "볼륨 : 스토리지의 한 영역을 분할한 것을 말한다. \n",
    "\n",
    "마운트 : '연결하다'하는 의미 그대로 대상을 연결해 운영체제 또는 소프트웨어의 관리하에 두는 일을 말한다."
   ]
  },
  {
   "cell_type": "markdown",
   "metadata": {},
   "source": [
    "<img src=\"./image/d06-05.png\" width=\"60%\"></img>\n",
    "<img src=\"./image/d06-06.png\" width=\"60%\"></img>"
   ]
  },
  {
   "cell_type": "markdown",
   "metadata": {},
   "source": [
    " 지금까지 여러번 컨테이너를 생성하고 삭제해왔는데, 실제로 컨테이너를 사용하려면 스토리지 영역을 마운트해야 한다.  \n",
    " 왜냐하면 데이터가 스토리지에 있기 때문이다."
   ]
  },
  {
   "cell_type": "markdown",
   "metadata": {},
   "source": [
    "컨테이너를 종료해도 바로 삭제되지는 않지만 성격상 '쓰고 버려야' 하기 때문에 소프트웨어 업그레이드 등의 이유로 **언젠가는 삭제**된다.  \n",
    "\n",
    "컨테이너는 생성 및 폐기가 매우 빈번하기 때문에 매번 데이터를 옮기는 대신 처음부터 컨테이너 외부에 둔 데이터에 접근해 사용하는 것이 일반적이다.  \n",
    "이를 **데이터 퍼시스턴시 data persistency**라고 한다. 이때 데이터를 두는 장소가 **마운트된 스토리지 영역**이다."
   ]
  },
  {
   "cell_type": "markdown",
   "metadata": {},
   "source": [
    "### 볼륨 마운트\n",
    "\n",
    "볼륨 마운트는 도커 엔진이 관리하는 영역 내에 만들어진 볼륨을 컨테이너에 디스크 형태로 마운트한다.\n",
    "\n",
    "이름만으로 관리가 가능하므로 다루기 쉽지만 바이드에 비해 직접 조작하기 어려우므로 '임시 목적의 사용'이나 '자주 쓰지는 않지만 안 되는 파일'을 두는 목적으로 많이 사용된다."
   ]
  },
  {
   "cell_type": "markdown",
   "metadata": {},
   "source": [
    "<img src=\"./image/d06-07.png\" width=\"50%\"></img>"
   ]
  },
  {
   "cell_type": "markdown",
   "metadata": {},
   "source": [
    "### 바인드 마운트\n",
    "\n",
    "바인드 마운트는 도커가 설치된 컴퓨터의 문서 폴더 또는 바탕화면 폴더 등 도커 엔진이 관리하지 않는 영역의 기존 디렉터리를 컨테이너에 마운트하는 방식이다. 디렉터리가 아닌 파일 단위로도 마운트가 가능하다.\n",
    "\n",
    "폴더(디렉터리) 속에 파일을 직접 두거나 열어볼 수 있기 때문에 **자주 사용하는 파일을 두는 데 사용**한다."
   ]
  },
  {
   "cell_type": "markdown",
   "metadata": {},
   "source": [
    "<img src=\"./image/d06-08.png\" width=\"50%\"></img>"
   ]
  },
  {
   "cell_type": "markdown",
   "metadata": {},
   "source": [
    "### 두 가지 마운트 방식의 차이점"
   ]
  },
  {
   "cell_type": "markdown",
   "metadata": {},
   "source": [
    "**파일을 직접 편집해야 할 일이 많다면 바인드 마운트를 사용하고, 그렇지 않다면 볼륨 마운트를 사용**하면 된다."
   ]
  },
  {
   "cell_type": "markdown",
   "metadata": {},
   "source": [
    "<img src=\"./image/d06-09.png\" width=\"50%\"></img>"
   ]
  },
  {
   "cell_type": "markdown",
   "metadata": {},
   "source": [
    "## 스토리지 영역을 마운트하는 커맨드"
   ]
  },
  {
   "cell_type": "markdown",
   "metadata": {},
   "source": [
    "어느 마운트 방식을 사용하든 스토리지 마운트는 run 커맨드의 옵션 형태로 지정한다.  \n",
    "마운트하려는 스토리지의 경로가 컨테이너 속 특정 경로와 연결되도록 설정하는 형태다.  \n",
    "\n",
    "마운트되는 스토리지는 본래 별도의 장소에 있지만 마치 컨테이너 안에 있는 것처럼 설정하는 것이다.  \n",
    "바탕화면에 비유하면 컨테이너에 스토리지를 가리키는 단축 아이콘을 만드는 것과 같다.  "
   ]
  },
  {
   "cell_type": "markdown",
   "metadata": {},
   "source": [
    "<img src=\"./image/d06-10.png\" width=\"50%\"></img>"
   ]
  },
  {
   "cell_type": "markdown",
   "metadata": {},
   "source": [
    "마운트 원본이 되는 스토리지 영역의 위치(그림 6-3-5의 B)와 마운트 대상이 되는 위치(그림 6-3-5 의 A)는 경로 형태로 지정한다.  \n",
    "예를 들어, 윈도우의 바탕화면 폴더에 있는 mezashi라는 디렉터리가 마운트 원본이라면 'C:\\Users\\사용자명\\Desktop\\mezashi'를 지정한다.\n",
    "\n",
    "마운트 대상이 되는 컨테이너 속 위치는 컨테이너의 소프트웨어가 콘텐츠를 저장하는 경로가 되는 경우가 많다.  \n",
    "예를 들어, 아파치라면 '/usr/local/apache2/htdocs'이며, MySQL은 '/var/lib/mysql'이다.  \n",
    "데이터가 위치하는 경로는 도커 이미지의 참조 문서 등을 보면 알 수 있다."
   ]
  },
  {
   "cell_type": "markdown",
   "metadata": {},
   "source": [
    "### 스토리지를 마운트하는 절차"
   ]
  },
  {
   "cell_type": "markdown",
   "metadata": {},
   "source": [
    "스토리지를 마운트하려면 먼저 마운트될 스토리지를 생성해야 한다.\n",
    "\n",
    "볼륨 마운트의 경우는 마운트와 동시에 볼륨(스토리지 영역)을 만들 수도 있지만 이 방법은 권장하지 않는다.  \n",
    "마운트 전에 별도로 볼륨을 먼저 생성하는 것이 좋다."
   ]
  },
  {
   "cell_type": "markdown",
   "metadata": {},
   "source": [
    "<img src=\"./image/d06-11.png\" width=\"40%\"></img>"
   ]
  },
  {
   "cell_type": "markdown",
   "metadata": {},
   "source": [
    "### 스토리지 영역을 만드는 방법"
   ]
  },
  {
   "cell_type": "markdown",
   "metadata": {},
   "source": [
    "바인드 마운트는 원본이 될 폴더(디렉터리)나 파일을 만든다."
   ]
  },
  {
   "cell_type": "markdown",
   "metadata": {},
   "source": [
    "볼륨 마운트는 볼륨 상위 커맨드를 사용해 먼저 볼륨을 생성한다."
   ]
  },
  {
   "cell_type": "code",
   "execution_count": null,
   "metadata": {
    "vscode": {
     "languageId": "shellscript"
    }
   },
   "outputs": [],
   "source": [
    "# 볼륨 생성(볼륨 마운트)\n",
    "docker volume create 볼륨_이름"
   ]
  },
  {
   "cell_type": "code",
   "execution_count": null,
   "metadata": {
    "vscode": {
     "languageId": "shellscript"
    }
   },
   "outputs": [],
   "source": [
    "# 볼륨 삭제(볼륨 마운트)\n",
    "docker volume rm 볼륨_이름"
   ]
  },
  {
   "cell_type": "markdown",
   "metadata": {},
   "source": [
    "<img src=\"./image/d06-12.png\" width=\"50%\"></img>"
   ]
  },
  {
   "cell_type": "markdown",
   "metadata": {},
   "source": [
    "### 스토리지를 마운트하는 커맨드"
   ]
  },
  {
   "cell_type": "markdown",
   "metadata": {},
   "source": [
    "-v 옵션 뒤에 '스토리지 실제 경로' 또는 '볼륨 이름', '컨테이너 마운트 경로' 순서대로 기재한다."
   ]
  },
  {
   "cell_type": "code",
   "execution_count": null,
   "metadata": {
    "vscode": {
     "languageId": "shellscript"
    }
   },
   "outputs": [],
   "source": [
    "# 바인드 마운트 커맨드 예\n",
    "docker run (생략) -v 스토리지_실제_경로:컨테이너_마운트_경로 (생략)"
   ]
  },
  {
   "cell_type": "code",
   "execution_count": null,
   "metadata": {
    "vscode": {
     "languageId": "shellscript"
    }
   },
   "outputs": [],
   "source": [
    "# 바인드 마운트 커맨드 예\n",
    "docker run (생략) -v 스토리지_실제_경로:컨테이너_마운트_경로 (생략)"
   ]
  },
  {
   "cell_type": "markdown",
   "metadata": {},
   "source": [
    "## [실습] 바인드 마운트해보기"
   ]
  },
  {
   "cell_type": "markdown",
   "metadata": {},
   "source": [
    "### 실습 내용\n",
    "\n",
    "<img src=\"./image/d06-13.png\" width=\"50%\"></img>"
   ]
  },
  {
   "cell_type": "markdown",
   "metadata": {},
   "source": [
    "### 생성할 컨테이너 정보\n",
    "\n",
    "<img src=\"./image/d06-14.png\" width=\"50%\"></img>"
   ]
  },
  {
   "cell_type": "markdown",
   "metadata": {},
   "source": [
    "### -v 옵션의 설정값\n",
    "\n",
    "<img src=\"./image/d06-15.png\" width=\"50%\"></img>"
   ]
  },
  {
   "cell_type": "markdown",
   "metadata": {},
   "source": [
    "#### 단계 1 마운트 원본이 될 폴더/디렉터리 만들기\n",
    "\n",
    "apa_folder라는 이름으로 마운트 원본이 될 폴더/디렉터리를 생성한다.\n",
    "\n",
    "윈도우와 macOS에서는 문서 폴더, 리눅스에서는 홈 디렉터리 아래에서 'mkdir 폴더명' 명령을 사용한다."
   ]
  },
  {
   "cell_type": "markdown",
   "metadata": {},
   "source": [
    "#### 단계 2 run 커맨드로 아파치 컨테이너 실행\n",
    "\n",
    "- Windows  \n",
    "docker run --name apa000ex20 -d -p 8090:80 -v C:\\Users\\사용자명\\Documents\\apa_folder:/usr/local/apache2/htdocs httpd\n",
    "\n",
    "- Mac  \n",
    "docker run --name apa000ex20 -d -p 8090:80 -v /Users/ 사용자명/Documents/apa_folder:/usr/local/apache2/htdocs httpd\n",
    "\n",
    "- Linux  \n",
    "docker run --name apa000ex20 -d -p 8090:80 -v /home/사용자명/apa_folder:/usr/local/apache2/htdocs httpd"
   ]
  },
  {
   "cell_type": "code",
   "execution_count": 17,
   "metadata": {
    "vscode": {
     "languageId": "shellscript"
    }
   },
   "outputs": [
    {
     "name": "stdout",
     "output_type": "stream",
     "text": [
      "4308127813f4fc72b509368ad81758eadcf5a912e091d935d9146249d0feab2e\n"
     ]
    }
   ],
   "source": [
    "!docker run --name apa000ex20 -d -p 8090:80 -v C:\\Users\\user\\Documents\\apa_folder:/usr/local/apache2/htdocs httpd"
   ]
  },
  {
   "cell_type": "markdown",
   "metadata": {},
   "source": [
    "#### 단계 3 웹 브라우저를 통해 아파치에 접근해 초기 화면 확인"
   ]
  },
  {
   "cell_type": "code",
   "execution_count": null,
   "metadata": {
    "vscode": {
     "languageId": "shellscript"
    }
   },
   "outputs": [],
   "source": [
    "# http://localhost:8090"
   ]
  },
  {
   "cell_type": "markdown",
   "metadata": {},
   "source": [
    "<img src=\"./image/d06-16.png\" width=\"50%\"></img>"
   ]
  },
  {
   "cell_type": "markdown",
   "metadata": {},
   "source": [
    "#### 단계 4 마운트된 폴더/디렉터리에 index.html 파일을 배치\n",
    "\n",
    "apa_folder 디렉터리 속에 index.html 파일을 넣는다."
   ]
  },
  {
   "cell_type": "markdown",
   "metadata": {},
   "source": [
    "#### 단계 5 index.html 파일이 변경됐는지 확인"
   ]
  },
  {
   "cell_type": "code",
   "execution_count": null,
   "metadata": {
    "vscode": {
     "languageId": "shellscript"
    }
   },
   "outputs": [],
   "source": [
    "# http://localhost:8090"
   ]
  },
  {
   "cell_type": "markdown",
   "metadata": {},
   "source": [
    "<img src=\"./image/d06-17.png\" width=\"50%\"></img>"
   ]
  },
  {
   "cell_type": "markdown",
   "metadata": {},
   "source": [
    "#### 단계 6 뒷정리"
   ]
  },
  {
   "cell_type": "markdown",
   "metadata": {},
   "source": [
    "##### 컨테이너 뒷정리"
   ]
  },
  {
   "cell_type": "code",
   "execution_count": 18,
   "metadata": {
    "vscode": {
     "languageId": "shellscript"
    }
   },
   "outputs": [
    {
     "name": "stdout",
     "output_type": "stream",
     "text": [
      "CONTAINER ID   IMAGE     COMMAND              CREATED          STATUS          PORTS                  NAMES\n",
      "4308127813f4   httpd     \"httpd-foreground\"   11 minutes ago   Up 11 minutes   0.0.0.0:8090->80/tcp   apa000ex20\n",
      "1831716ac441   httpd     \"httpd-foreground\"   2 hours ago      Up 2 hours      0.0.0.0:8089->80/tcp   apa000ex19\n"
     ]
    }
   ],
   "source": [
    "# 컨테이너 목록 확인\n",
    "!docker ps -a"
   ]
  },
  {
   "cell_type": "code",
   "execution_count": 19,
   "metadata": {
    "vscode": {
     "languageId": "shellscript"
    }
   },
   "outputs": [
    {
     "name": "stdout",
     "output_type": "stream",
     "text": [
      "apa000ex20\n",
      "apa000ex19\n"
     ]
    }
   ],
   "source": [
    "# 컨테이너 종료\n",
    "!docker stop apa000ex20 apa000ex19"
   ]
  },
  {
   "cell_type": "code",
   "execution_count": 20,
   "metadata": {
    "vscode": {
     "languageId": "shellscript"
    }
   },
   "outputs": [
    {
     "name": "stdout",
     "output_type": "stream",
     "text": [
      "apa000ex20\n",
      "apa000ex19\n"
     ]
    }
   ],
   "source": [
    "# 컨테이너 삭제\n",
    "!docker rm apa000ex20 apa000ex19"
   ]
  },
  {
   "cell_type": "markdown",
   "metadata": {},
   "source": [
    "##### 이미지 뒷정리"
   ]
  },
  {
   "cell_type": "code",
   "execution_count": 23,
   "metadata": {
    "vscode": {
     "languageId": "shellscript"
    }
   },
   "outputs": [
    {
     "name": "stdout",
     "output_type": "stream",
     "text": [
      "REPOSITORY   TAG       IMAGE ID       CREATED       SIZE\n",
      "httpd        latest    a49fd2c04c02   4 weeks ago   148MB\n"
     ]
    }
   ],
   "source": [
    "# 이미지 목록 확인\n",
    "!docker image ls"
   ]
  },
  {
   "cell_type": "code",
   "execution_count": 24,
   "metadata": {
    "vscode": {
     "languageId": "shellscript"
    }
   },
   "outputs": [
    {
     "name": "stdout",
     "output_type": "stream",
     "text": [
      "Untagged: httpd:latest\n",
      "Untagged: httpd@sha256:3f71777bcfac3df3aff5888a2d78c4104501516300b2e7ecb91ce8de2e3debc7\n",
      "Deleted: sha256:a49fd2c04c0236f25b2724476ff48d73af6811f28e0db3765df6bb7f0f88bf7a\n",
      "Deleted: sha256:8db6e94bfd63fdf1cc90b35af89801a428617415d9956a5e0f85fbf6da3d27ca\n",
      "Deleted: sha256:175bc26504c9bd287bb48acd239f4b856b9d64173963c1383d51e970e557e8fd\n",
      "Deleted: sha256:93a61203860e55ccc6837f0ac6792c9c3b0848747423ea8f42f7a9ebb4550878\n",
      "Deleted: sha256:ce3dba784db9baf9da94a68571c3a72359a7ae25eb31860045b4d6f8770267c0\n",
      "Deleted: sha256:18cf0b059713928acd9c82acf2b8473f5019db0b96e6418c4b942f15841328aa\n",
      "Deleted: sha256:9853575bc4f955c5892dd64187538a6cd02dba6968eba9201854876a7a257034\n"
     ]
    }
   ],
   "source": [
    "# 이미지 삭제\n",
    "!docker image rm httpd"
   ]
  },
  {
   "cell_type": "markdown",
   "metadata": {},
   "source": [
    "##### 네트워크 뒷정리"
   ]
  },
  {
   "cell_type": "code",
   "execution_count": 25,
   "metadata": {
    "vscode": {
     "languageId": "shellscript"
    }
   },
   "outputs": [
    {
     "name": "stdout",
     "output_type": "stream",
     "text": [
      "NETWORK ID     NAME      DRIVER    SCOPE\n",
      "11a461c6b0cd   bridge    bridge    local\n",
      "db7534889888   host      host      local\n",
      "3f3d252b73eb   none      null      local\n"
     ]
    }
   ],
   "source": [
    "# 네트워크 목록 확인\n",
    "!docker network ls"
   ]
  },
  {
   "cell_type": "code",
   "execution_count": null,
   "metadata": {
    "vscode": {
     "languageId": "shellscript"
    }
   },
   "outputs": [
    {
     "name": "stderr",
     "output_type": "stream",
     "text": [
      "Error response from daemon: network redmine000net2 not found\n",
      "Error response from daemon: network redmine000net3 not found\n"
     ]
    }
   ],
   "source": [
    "# 네트워크 삭제\n",
    "# !docker network rm "
   ]
  },
  {
   "cell_type": "markdown",
   "metadata": {},
   "source": [
    "##### 볼륨 뒷정리"
   ]
  },
  {
   "cell_type": "code",
   "execution_count": 26,
   "metadata": {
    "vscode": {
     "languageId": "shellscript"
    }
   },
   "outputs": [
    {
     "name": "stdout",
     "output_type": "stream",
     "text": [
      "DRIVER    VOLUME NAME\n"
     ]
    }
   ],
   "source": [
    "# 볼륨 목록 확인\n",
    "!docker volume ls"
   ]
  },
  {
   "cell_type": "code",
   "execution_count": 27,
   "metadata": {
    "vscode": {
     "languageId": "shellscript"
    }
   },
   "outputs": [],
   "source": [
    "# 볼륨 삭제\n",
    "# !docker volume rm "
   ]
  },
  {
   "cell_type": "markdown",
   "metadata": {},
   "source": [
    "## [실습] 응용편 - 볼륨 마운트해보기"
   ]
  },
  {
   "cell_type": "markdown",
   "metadata": {},
   "source": [
    "### 실습 내용\n",
    "\n",
    "<img src=\"./image/d06-18.png\" width=\"50%\"></img>"
   ]
  },
  {
   "cell_type": "markdown",
   "metadata": {},
   "source": [
    "### 생성할 컨테이너 정보\n",
    "\n",
    "<img src=\"./image/d06-19.png\" width=\"50%\"></img>"
   ]
  },
  {
   "cell_type": "markdown",
   "metadata": {},
   "source": [
    "### 커맨드에서 사용할 옵션, 대상, 인자"
   ]
  },
  {
   "cell_type": "code",
   "execution_count": 28,
   "metadata": {
    "vscode": {
     "languageId": "shellscript"
    }
   },
   "outputs": [
    {
     "name": "stdout",
     "output_type": "stream",
     "text": [
      "apa000vol1\n"
     ]
    }
   ],
   "source": [
    "# 볼륨 생성\n",
    "!docker volume create apa000vol1 "
   ]
  },
  {
   "cell_type": "code",
   "execution_count": 29,
   "metadata": {
    "vscode": {
     "languageId": "shellscript"
    }
   },
   "outputs": [
    {
     "name": "stdout",
     "output_type": "stream",
     "text": [
      "[\n",
      "    {\n",
      "        \"CreatedAt\": \"2024-08-18T15:11:34Z\",\n",
      "        \"Driver\": \"local\",\n",
      "        \"Labels\": null,\n",
      "        \"Mountpoint\": \"/var/lib/docker/volumes/apa000vol1/_data\",\n",
      "        \"Name\": \"apa000vol1\",\n",
      "        \"Options\": null,\n",
      "        \"Scope\": \"local\"\n",
      "    }\n",
      "]\n"
     ]
    }
   ],
   "source": [
    "# 볼륨 상세 정보 확인\n",
    "!docker volume inspect apa000vol1 "
   ]
  },
  {
   "cell_type": "code",
   "execution_count": 30,
   "metadata": {
    "vscode": {
     "languageId": "shellscript"
    }
   },
   "outputs": [
    {
     "name": "stdout",
     "output_type": "stream",
     "text": [
      "apa000vol1\n"
     ]
    }
   ],
   "source": [
    "# 볼륨 삭제\n",
    "!docker volume rm apa000vol1 "
   ]
  },
  {
   "cell_type": "markdown",
   "metadata": {},
   "source": [
    "-v 옵션    \n",
    "-v apa000vol1:/usr/local/apache2/htdocs\n",
    "\n",
    "<img src=\"./image/d06-20.png\" width=\"50%\"></img>"
   ]
  },
  {
   "cell_type": "markdown",
   "metadata": {},
   "source": [
    "#### 단계 1 마운트할 볼륨생성"
   ]
  },
  {
   "cell_type": "markdown",
   "metadata": {},
   "source": [
    "apa000vol1이라는 이름으로 마운트할 볼륨을 생성한다.  \n",
    "볼륨이 생성될 위치는 도커 엔진에서 관리하기 때문에 신경쓰지 않아도 된다."
   ]
  },
  {
   "cell_type": "code",
   "execution_count": 31,
   "metadata": {
    "vscode": {
     "languageId": "shellscript"
    }
   },
   "outputs": [
    {
     "name": "stdout",
     "output_type": "stream",
     "text": [
      "apa000vol1\n"
     ]
    }
   ],
   "source": [
    "!docker volume create apa000vol1"
   ]
  },
  {
   "cell_type": "markdown",
   "metadata": {},
   "source": [
    "#### 단계 2 run 커맨드로 아파치 컨테이너 실행"
   ]
  },
  {
   "cell_type": "markdown",
   "metadata": {},
   "source": [
    "아파치 이미지(httpd)를 사용해 apa000ex21이라는 이름으로 컨테이너를 생성 및 실행하는 명령어를 입력한다.  \n",
    "-v 옵션에 조금 전 생성한 볼륨과 컨테이너 속 마운트 위치를 지정한다."
   ]
  },
  {
   "cell_type": "code",
   "execution_count": 32,
   "metadata": {
    "vscode": {
     "languageId": "shellscript"
    }
   },
   "outputs": [
    {
     "name": "stdout",
     "output_type": "stream",
     "text": [
      "0a9dfc23c51c87499b1908116871d577e868de115a3a3ec943bbcaa5064caac9\n"
     ]
    },
    {
     "name": "stderr",
     "output_type": "stream",
     "text": [
      "Unable to find image 'httpd:latest' locally\n",
      "latest: Pulling from library/httpd\n",
      "e4fff0779e6d: Pulling fs layer\n",
      "1d0292c3dcd2: Pulling fs layer\n",
      "4f4fb700ef54: Pulling fs layer\n",
      "1316399d8fbf: Pulling fs layer\n",
      "b4cc6570db82: Pulling fs layer\n",
      "fd1a778092db: Pulling fs layer\n",
      "b4cc6570db82: Waiting\n",
      "1316399d8fbf: Waiting\n",
      "fd1a778092db: Waiting\n",
      "4f4fb700ef54: Verifying Checksum\n",
      "4f4fb700ef54: Download complete\n",
      "1d0292c3dcd2: Verifying Checksum\n",
      "1d0292c3dcd2: Download complete\n",
      "1316399d8fbf: Verifying Checksum\n",
      "1316399d8fbf: Download complete\n",
      "fd1a778092db: Verifying Checksum\n",
      "fd1a778092db: Download complete\n",
      "e4fff0779e6d: Verifying Checksum\n",
      "e4fff0779e6d: Download complete\n",
      "b4cc6570db82: Verifying Checksum\n",
      "b4cc6570db82: Download complete\n",
      "e4fff0779e6d: Pull complete\n",
      "1d0292c3dcd2: Pull complete\n",
      "4f4fb700ef54: Pull complete\n",
      "1316399d8fbf: Pull complete\n",
      "b4cc6570db82: Pull complete\n",
      "fd1a778092db: Pull complete\n",
      "Digest: sha256:3f71777bcfac3df3aff5888a2d78c4104501516300b2e7ecb91ce8de2e3debc7\n",
      "Status: Downloaded newer image for httpd:latest\n"
     ]
    }
   ],
   "source": [
    "!docker run --name apa000ex21 -d -p 8091:80 -v apa000vol1:/usr/local/apache2/htdocs httpd"
   ]
  },
  {
   "cell_type": "markdown",
   "metadata": {},
   "source": [
    "#### 단계 3 volume inspect 커맨드로 볼륨의 상세 정보 확인\n",
    "\n",
    "volume inspect 커맨드를 사용해 볼륨의 상세 정보를 확인한다.  \n",
    "container inspect 커맨드로 볼륨이 컨테이너에 마운트됐는지도 확인한다."
   ]
  },
  {
   "cell_type": "code",
   "execution_count": 34,
   "metadata": {
    "vscode": {
     "languageId": "shellscript"
    }
   },
   "outputs": [
    {
     "name": "stdout",
     "output_type": "stream",
     "text": [
      "[\n",
      "    {\n",
      "        \"CreatedAt\": \"2024-08-18T15:19:00Z\",\n",
      "        \"Driver\": \"local\",\n",
      "        \"Labels\": null,\n",
      "        \"Mountpoint\": \"/var/lib/docker/volumes/apa000vol1/_data\",\n",
      "        \"Name\": \"apa000vol1\",\n",
      "        \"Options\": null,\n",
      "        \"Scope\": \"local\"\n",
      "    }\n",
      "]\n"
     ]
    }
   ],
   "source": [
    "!docker volume inspect apa000vol1"
   ]
  },
  {
   "cell_type": "code",
   "execution_count": 35,
   "metadata": {
    "vscode": {
     "languageId": "shellscript"
    }
   },
   "outputs": [
    {
     "name": "stdout",
     "output_type": "stream",
     "text": [
      "[\n",
      "    {\n",
      "        \"Id\": \"0a9dfc23c51c87499b1908116871d577e868de115a3a3ec943bbcaa5064caac9\",\n",
      "        \"Created\": \"2024-08-18T15:21:48.971171338Z\",\n",
      "        \"Path\": \"httpd-foreground\",\n",
      "        \"Args\": [],\n",
      "        \"State\": {\n",
      "            \"Status\": \"running\",\n",
      "            \"Running\": true,\n",
      "            \"Paused\": false,\n",
      "            \"Restarting\": false,\n",
      "            \"OOMKilled\": false,\n",
      "            \"Dead\": false,\n",
      "            \"Pid\": 1299,\n",
      "            \"ExitCode\": 0,\n",
      "            \"Error\": \"\",\n",
      "            \"StartedAt\": \"2024-08-18T15:21:49.513206788Z\",\n",
      "            \"FinishedAt\": \"0001-01-01T00:00:00Z\"\n",
      "        },\n",
      "        \"Image\": \"sha256:a49fd2c04c0236f25b2724476ff48d73af6811f28e0db3765df6bb7f0f88bf7a\",\n",
      "        \"ResolvConfPath\": \"/var/lib/docker/containers/0a9dfc23c51c87499b1908116871d577e868de115a3a3ec943bbcaa5064caac9/resolv.conf\",\n",
      "        \"HostnamePath\": \"/var/lib/docker/containers/0a9dfc23c51c87499b1908116871d577e868de115a3a3ec943bbcaa5064caac9/hostname\",\n",
      "        \"HostsPath\": \"/var/lib/docker/containers/0a9dfc23c51c87499b1908116871d577e868de115a3a3ec943bbcaa5064caac9/hosts\",\n",
      "        \"LogPath\": \"/var/lib/docker/containers/0a9dfc23c51c87499b1908116871d577e868de115a3a3ec943bbcaa5064caac9/0a9dfc23c51c87499b1908116871d577e868de115a3a3ec943bbcaa5064caac9-json.log\",\n",
      "        \"Name\": \"/apa000ex21\",\n",
      "        \"RestartCount\": 0,\n",
      "        \"Driver\": \"overlay2\",\n",
      "        \"Platform\": \"linux\",\n",
      "        \"MountLabel\": \"\",\n",
      "        \"ProcessLabel\": \"\",\n",
      "        \"AppArmorProfile\": \"\",\n",
      "        \"ExecIDs\": null,\n",
      "        \"HostConfig\": {\n",
      "            \"Binds\": [\n",
      "                \"apa000vol1:/usr/local/apache2/htdocs\"\n",
      "            ],\n",
      "            \"ContainerIDFile\": \"\",\n",
      "            \"LogConfig\": {\n",
      "                \"Type\": \"json-file\",\n",
      "                \"Config\": {}\n",
      "            },\n",
      "            \"NetworkMode\": \"bridge\",\n",
      "            \"PortBindings\": {\n",
      "                \"80/tcp\": [\n",
      "                    {\n",
      "                        \"HostIp\": \"\",\n",
      "                        \"HostPort\": \"8091\"\n",
      "                    }\n",
      "                ]\n",
      "            },\n",
      "            \"RestartPolicy\": {\n",
      "                \"Name\": \"no\",\n",
      "                \"MaximumRetryCount\": 0\n",
      "            },\n",
      "            \"AutoRemove\": false,\n",
      "            \"VolumeDriver\": \"\",\n",
      "            \"VolumesFrom\": null,\n",
      "            \"ConsoleSize\": [\n",
      "                0,\n",
      "                0\n",
      "            ],\n",
      "            \"CapAdd\": null,\n",
      "            \"CapDrop\": null,\n",
      "            \"CgroupnsMode\": \"host\",\n",
      "            \"Dns\": [],\n",
      "            \"DnsOptions\": [],\n",
      "            \"DnsSearch\": [],\n",
      "            \"ExtraHosts\": null,\n",
      "            \"GroupAdd\": null,\n",
      "            \"IpcMode\": \"private\",\n",
      "            \"Cgroup\": \"\",\n",
      "            \"Links\": null,\n",
      "            \"OomScoreAdj\": 0,\n",
      "            \"PidMode\": \"\",\n",
      "            \"Privileged\": false,\n",
      "            \"PublishAllPorts\": false,\n",
      "            \"ReadonlyRootfs\": false,\n",
      "            \"SecurityOpt\": null,\n",
      "            \"UTSMode\": \"\",\n",
      "            \"UsernsMode\": \"\",\n",
      "            \"ShmSize\": 67108864,\n",
      "            \"Runtime\": \"runc\",\n",
      "            \"Isolation\": \"\",\n",
      "            \"CpuShares\": 0,\n",
      "            \"Memory\": 0,\n",
      "            \"NanoCpus\": 0,\n",
      "            \"CgroupParent\": \"\",\n",
      "            \"BlkioWeight\": 0,\n",
      "            \"BlkioWeightDevice\": [],\n",
      "            \"BlkioDeviceReadBps\": [],\n",
      "            \"BlkioDeviceWriteBps\": [],\n",
      "            \"BlkioDeviceReadIOps\": [],\n",
      "            \"BlkioDeviceWriteIOps\": [],\n",
      "            \"CpuPeriod\": 0,\n",
      "            \"CpuQuota\": 0,\n",
      "            \"CpuRealtimePeriod\": 0,\n",
      "            \"CpuRealtimeRuntime\": 0,\n",
      "            \"CpusetCpus\": \"\",\n",
      "            \"CpusetMems\": \"\",\n",
      "            \"Devices\": [],\n",
      "            \"DeviceCgroupRules\": null,\n",
      "            \"DeviceRequests\": null,\n",
      "            \"MemoryReservation\": 0,\n",
      "            \"MemorySwap\": 0,\n",
      "            \"MemorySwappiness\": null,\n",
      "            \"OomKillDisable\": false,\n",
      "            \"PidsLimit\": null,\n",
      "            \"Ulimits\": [],\n",
      "            \"CpuCount\": 0,\n",
      "            \"CpuPercent\": 0,\n",
      "            \"IOMaximumIOps\": 0,\n",
      "            \"IOMaximumBandwidth\": 0,\n",
      "            \"MaskedPaths\": [\n",
      "                \"/proc/asound\",\n",
      "                \"/proc/acpi\",\n",
      "                \"/proc/kcore\",\n",
      "                \"/proc/keys\",\n",
      "                \"/proc/latency_stats\",\n",
      "                \"/proc/timer_list\",\n",
      "                \"/proc/timer_stats\",\n",
      "                \"/proc/sched_debug\",\n",
      "                \"/proc/scsi\",\n",
      "                \"/sys/firmware\",\n",
      "                \"/sys/devices/virtual/powercap\"\n",
      "            ],\n",
      "            \"ReadonlyPaths\": [\n",
      "                \"/proc/bus\",\n",
      "                \"/proc/fs\",\n",
      "                \"/proc/irq\",\n",
      "                \"/proc/sys\",\n",
      "                \"/proc/sysrq-trigger\"\n",
      "            ]\n",
      "        },\n",
      "        \"GraphDriver\": {\n",
      "            \"Data\": {\n",
      "                \"LowerDir\": \"/var/lib/docker/overlay2/1ed1651aa06feae2b19fc26ca751f45563a7ac17b87fab3fcaf25a782d4c7553-init/diff:/var/lib/docker/overlay2/e4e9a344bd2d866688870f19750424d22bfcadafc07fcf88a9007bf01f45ca00/diff:/var/lib/docker/overlay2/81adf8b03353e6da5178fd6fed4aaa689e8ec833e9105b70621e00d73bf98646/diff:/var/lib/docker/overlay2/47862943a00cc053465583218f8a66ff317f33120e7423eb54195e7ff543d699/diff:/var/lib/docker/overlay2/72e606df6c94e0e22039afa29bbc715ee98857d38acee8002a6fb25ebdac9abb/diff:/var/lib/docker/overlay2/f53b7cf81bc4b7708b576b00761c75a61115d436d20dc2c0ab5a125fc5ae37a2/diff:/var/lib/docker/overlay2/3b1132dbad7f3740e2a462f94f84e2f86225453d598f3b8c34d4df0cadeff482/diff\",\n",
      "                \"MergedDir\": \"/var/lib/docker/overlay2/1ed1651aa06feae2b19fc26ca751f45563a7ac17b87fab3fcaf25a782d4c7553/merged\",\n",
      "                \"UpperDir\": \"/var/lib/docker/overlay2/1ed1651aa06feae2b19fc26ca751f45563a7ac17b87fab3fcaf25a782d4c7553/diff\",\n",
      "                \"WorkDir\": \"/var/lib/docker/overlay2/1ed1651aa06feae2b19fc26ca751f45563a7ac17b87fab3fcaf25a782d4c7553/work\"\n",
      "            },\n",
      "            \"Name\": \"overlay2\"\n",
      "        },\n",
      "        \"Mounts\": [\n",
      "            {\n",
      "                \"Type\": \"volume\",\n",
      "                \"Name\": \"apa000vol1\",\n",
      "                \"Source\": \"/var/lib/docker/volumes/apa000vol1/_data\",\n",
      "                \"Destination\": \"/usr/local/apache2/htdocs\",\n",
      "                \"Driver\": \"local\",\n",
      "                \"Mode\": \"z\",\n",
      "                \"RW\": true,\n",
      "                \"Propagation\": \"\"\n",
      "            }\n",
      "        ],\n",
      "        \"Config\": {\n",
      "            \"Hostname\": \"0a9dfc23c51c\",\n",
      "            \"Domainname\": \"\",\n",
      "            \"User\": \"\",\n",
      "            \"AttachStdin\": false,\n",
      "            \"AttachStdout\": false,\n",
      "            \"AttachStderr\": false,\n",
      "            \"ExposedPorts\": {\n",
      "                \"80/tcp\": {}\n",
      "            },\n",
      "            \"Tty\": false,\n",
      "            \"OpenStdin\": false,\n",
      "            \"StdinOnce\": false,\n",
      "            \"Env\": [\n",
      "                \"PATH=/usr/local/apache2/bin:/usr/local/sbin:/usr/local/bin:/usr/sbin:/usr/bin:/sbin:/bin\",\n",
      "                \"HTTPD_PREFIX=/usr/local/apache2\",\n",
      "                \"HTTPD_VERSION=2.4.62\",\n",
      "                \"HTTPD_SHA256=674188e7bf44ced82da8db522da946849e22080d73d16c93f7f4df89e25729ec\",\n",
      "                \"HTTPD_PATCHES=\"\n",
      "            ],\n",
      "            \"Cmd\": [\n",
      "                \"httpd-foreground\"\n",
      "            ],\n",
      "            \"Image\": \"httpd\",\n",
      "            \"Volumes\": null,\n",
      "            \"WorkingDir\": \"/usr/local/apache2\",\n",
      "            \"Entrypoint\": null,\n",
      "            \"OnBuild\": null,\n",
      "            \"Labels\": {},\n",
      "            \"StopSignal\": \"SIGWINCH\"\n",
      "        },\n",
      "        \"NetworkSettings\": {\n",
      "            \"Bridge\": \"\",\n",
      "            \"SandboxID\": \"76b04c8ec88b6b3fa5e88b790ea341d5cfbb63a01bf755609c7f3d1dc9dee8d3\",\n",
      "            \"SandboxKey\": \"/var/run/docker/netns/76b04c8ec88b\",\n",
      "            \"Ports\": {\n",
      "                \"80/tcp\": [\n",
      "                    {\n",
      "                        \"HostIp\": \"0.0.0.0\",\n",
      "                        \"HostPort\": \"8091\"\n",
      "                    }\n",
      "                ]\n",
      "            },\n",
      "            \"HairpinMode\": false,\n",
      "            \"LinkLocalIPv6Address\": \"\",\n",
      "            \"LinkLocalIPv6PrefixLen\": 0,\n",
      "            \"SecondaryIPAddresses\": null,\n",
      "            \"SecondaryIPv6Addresses\": null,\n",
      "            \"EndpointID\": \"d9107ca18a5323c8b26cba1f68b65af30f642c760af8f9c584ff654864b57553\",\n",
      "            \"Gateway\": \"172.17.0.1\",\n",
      "            \"GlobalIPv6Address\": \"\",\n",
      "            \"GlobalIPv6PrefixLen\": 0,\n",
      "            \"IPAddress\": \"172.17.0.2\",\n",
      "            \"IPPrefixLen\": 16,\n",
      "            \"IPv6Gateway\": \"\",\n",
      "            \"MacAddress\": \"02:42:ac:11:00:02\",\n",
      "            \"Networks\": {\n",
      "                \"bridge\": {\n",
      "                    \"IPAMConfig\": null,\n",
      "                    \"Links\": null,\n",
      "                    \"Aliases\": null,\n",
      "                    \"MacAddress\": \"02:42:ac:11:00:02\",\n",
      "                    \"DriverOpts\": null,\n",
      "                    \"NetworkID\": \"11a461c6b0cd545eb3cbfb06ee48a51a762b9e942a1f2f169ea21caaf8ad68ff\",\n",
      "                    \"EndpointID\": \"d9107ca18a5323c8b26cba1f68b65af30f642c760af8f9c584ff654864b57553\",\n",
      "                    \"Gateway\": \"172.17.0.1\",\n",
      "                    \"IPAddress\": \"172.17.0.2\",\n",
      "                    \"IPPrefixLen\": 16,\n",
      "                    \"IPv6Gateway\": \"\",\n",
      "                    \"GlobalIPv6Address\": \"\",\n",
      "                    \"GlobalIPv6PrefixLen\": 0,\n",
      "                    \"DNSNames\": null\n",
      "                }\n",
      "            }\n",
      "        }\n",
      "    }\n",
      "]\n"
     ]
    }
   ],
   "source": [
    "!docker container inspect apa000ex21"
   ]
  },
  {
   "cell_type": "markdown",
   "metadata": {},
   "source": []
  },
  {
   "cell_type": "markdown",
   "metadata": {},
   "source": [
    "#### 단계 4 뒷정리"
   ]
  },
  {
   "cell_type": "markdown",
   "metadata": {},
   "source": [
    "##### 컨테이너 뒷정리"
   ]
  },
  {
   "cell_type": "code",
   "execution_count": 36,
   "metadata": {
    "vscode": {
     "languageId": "shellscript"
    }
   },
   "outputs": [
    {
     "name": "stdout",
     "output_type": "stream",
     "text": [
      "CONTAINER ID   IMAGE     COMMAND              CREATED         STATUS         PORTS                  NAMES\n",
      "0a9dfc23c51c   httpd     \"httpd-foreground\"   4 minutes ago   Up 4 minutes   0.0.0.0:8091->80/tcp   apa000ex21\n"
     ]
    }
   ],
   "source": [
    "# 컨테이너 목록 확인\n",
    "!docker ps -a"
   ]
  },
  {
   "cell_type": "code",
   "execution_count": 37,
   "metadata": {
    "vscode": {
     "languageId": "shellscript"
    }
   },
   "outputs": [
    {
     "name": "stdout",
     "output_type": "stream",
     "text": [
      "apa000ex21\n"
     ]
    }
   ],
   "source": [
    "# 컨테이너 종료\n",
    "!docker stop apa000ex21"
   ]
  },
  {
   "cell_type": "code",
   "execution_count": 38,
   "metadata": {
    "vscode": {
     "languageId": "shellscript"
    }
   },
   "outputs": [
    {
     "name": "stdout",
     "output_type": "stream",
     "text": [
      "apa000ex21\n"
     ]
    }
   ],
   "source": [
    "# 컨테이너 삭제\n",
    "!docker rm apa000ex21"
   ]
  },
  {
   "cell_type": "markdown",
   "metadata": {},
   "source": [
    "##### 이미지 뒷정리"
   ]
  },
  {
   "cell_type": "code",
   "execution_count": 39,
   "metadata": {
    "vscode": {
     "languageId": "shellscript"
    }
   },
   "outputs": [
    {
     "name": "stdout",
     "output_type": "stream",
     "text": [
      "REPOSITORY   TAG       IMAGE ID       CREATED       SIZE\n",
      "httpd        latest    a49fd2c04c02   4 weeks ago   148MB\n"
     ]
    }
   ],
   "source": [
    "# 이미지 목록 확인\n",
    "!docker image ls"
   ]
  },
  {
   "cell_type": "code",
   "execution_count": 40,
   "metadata": {
    "vscode": {
     "languageId": "shellscript"
    }
   },
   "outputs": [
    {
     "name": "stdout",
     "output_type": "stream",
     "text": [
      "Untagged: httpd:latest\n",
      "Untagged: httpd@sha256:3f71777bcfac3df3aff5888a2d78c4104501516300b2e7ecb91ce8de2e3debc7\n",
      "Deleted: sha256:a49fd2c04c0236f25b2724476ff48d73af6811f28e0db3765df6bb7f0f88bf7a\n",
      "Deleted: sha256:8db6e94bfd63fdf1cc90b35af89801a428617415d9956a5e0f85fbf6da3d27ca\n",
      "Deleted: sha256:175bc26504c9bd287bb48acd239f4b856b9d64173963c1383d51e970e557e8fd\n",
      "Deleted: sha256:93a61203860e55ccc6837f0ac6792c9c3b0848747423ea8f42f7a9ebb4550878\n",
      "Deleted: sha256:ce3dba784db9baf9da94a68571c3a72359a7ae25eb31860045b4d6f8770267c0\n",
      "Deleted: sha256:18cf0b059713928acd9c82acf2b8473f5019db0b96e6418c4b942f15841328aa\n",
      "Deleted: sha256:9853575bc4f955c5892dd64187538a6cd02dba6968eba9201854876a7a257034\n"
     ]
    }
   ],
   "source": [
    "# 이미지 삭제\n",
    "!docker image rm httpd"
   ]
  },
  {
   "cell_type": "markdown",
   "metadata": {},
   "source": [
    "##### 네트워크 뒷정리"
   ]
  },
  {
   "cell_type": "code",
   "execution_count": 41,
   "metadata": {
    "vscode": {
     "languageId": "shellscript"
    }
   },
   "outputs": [
    {
     "name": "stdout",
     "output_type": "stream",
     "text": [
      "NETWORK ID     NAME      DRIVER    SCOPE\n",
      "11a461c6b0cd   bridge    bridge    local\n",
      "db7534889888   host      host      local\n",
      "3f3d252b73eb   none      null      local\n"
     ]
    }
   ],
   "source": [
    "# 네트워크 목록 확인\n",
    "!docker network ls"
   ]
  },
  {
   "cell_type": "code",
   "execution_count": 42,
   "metadata": {
    "vscode": {
     "languageId": "shellscript"
    }
   },
   "outputs": [],
   "source": [
    "# 네트워크 삭제\n",
    "# !docker network rm "
   ]
  },
  {
   "cell_type": "markdown",
   "metadata": {},
   "source": [
    "##### 볼륨 뒷정리"
   ]
  },
  {
   "cell_type": "code",
   "execution_count": 48,
   "metadata": {
    "vscode": {
     "languageId": "shellscript"
    }
   },
   "outputs": [
    {
     "name": "stdout",
     "output_type": "stream",
     "text": [
      "DRIVER    VOLUME NAME\n"
     ]
    }
   ],
   "source": [
    "# 볼륨 목록 확인\n",
    "!docker volume ls"
   ]
  },
  {
   "cell_type": "code",
   "execution_count": 47,
   "metadata": {
    "vscode": {
     "languageId": "shellscript"
    }
   },
   "outputs": [
    {
     "name": "stdout",
     "output_type": "stream",
     "text": [
      "apa000vol1\n"
     ]
    }
   ],
   "source": [
    "# 볼륨 삭제\n",
    "!docker volume rm apa000vol1 "
   ]
  },
  {
   "cell_type": "markdown",
   "metadata": {},
   "source": []
  },
  {
   "cell_type": "markdown",
   "metadata": {},
   "source": []
  },
  {
   "cell_type": "code",
   "execution_count": null,
   "metadata": {
    "vscode": {
     "languageId": "shellscript"
    }
   },
   "outputs": [],
   "source": []
  },
  {
   "cell_type": "code",
   "execution_count": null,
   "metadata": {
    "vscode": {
     "languageId": "shellscript"
    }
   },
   "outputs": [],
   "source": []
  },
  {
   "cell_type": "code",
   "execution_count": null,
   "metadata": {
    "vscode": {
     "languageId": "shellscript"
    }
   },
   "outputs": [],
   "source": []
  },
  {
   "cell_type": "code",
   "execution_count": null,
   "metadata": {
    "vscode": {
     "languageId": "shellscript"
    }
   },
   "outputs": [],
   "source": []
  },
  {
   "cell_type": "code",
   "execution_count": null,
   "metadata": {
    "vscode": {
     "languageId": "shellscript"
    }
   },
   "outputs": [],
   "source": []
  },
  {
   "cell_type": "code",
   "execution_count": null,
   "metadata": {
    "vscode": {
     "languageId": "shellscript"
    }
   },
   "outputs": [],
   "source": []
  },
  {
   "cell_type": "markdown",
   "metadata": {},
   "source": []
  },
  {
   "cell_type": "markdown",
   "metadata": {},
   "source": []
  },
  {
   "cell_type": "code",
   "execution_count": null,
   "metadata": {
    "vscode": {
     "languageId": "shellscript"
    }
   },
   "outputs": [],
   "source": []
  },
  {
   "cell_type": "code",
   "execution_count": null,
   "metadata": {
    "vscode": {
     "languageId": "shellscript"
    }
   },
   "outputs": [],
   "source": []
  },
  {
   "cell_type": "code",
   "execution_count": null,
   "metadata": {
    "vscode": {
     "languageId": "shellscript"
    }
   },
   "outputs": [],
   "source": []
  },
  {
   "cell_type": "code",
   "execution_count": null,
   "metadata": {
    "vscode": {
     "languageId": "shellscript"
    }
   },
   "outputs": [],
   "source": []
  },
  {
   "cell_type": "code",
   "execution_count": null,
   "metadata": {
    "vscode": {
     "languageId": "shellscript"
    }
   },
   "outputs": [],
   "source": []
  },
  {
   "cell_type": "code",
   "execution_count": null,
   "metadata": {
    "vscode": {
     "languageId": "shellscript"
    }
   },
   "outputs": [],
   "source": []
  }
 ],
 "metadata": {
  "kernelspec": {
   "display_name": "Python 3",
   "language": "python",
   "name": "python3"
  },
  "language_info": {
   "codemirror_mode": {
    "name": "ipython",
    "version": 3
   },
   "file_extension": ".py",
   "mimetype": "text/x-python",
   "name": "python",
   "nbconvert_exporter": "python",
   "pygments_lexer": "ipython3",
   "version": "3.12.4"
  }
 },
 "nbformat": 4,
 "nbformat_minor": 2
}
