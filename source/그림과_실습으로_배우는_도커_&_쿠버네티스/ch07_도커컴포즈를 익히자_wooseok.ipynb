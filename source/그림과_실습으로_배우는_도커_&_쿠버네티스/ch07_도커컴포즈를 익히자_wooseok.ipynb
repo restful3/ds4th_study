{
 "cells": [
  {
   "cell_type": "markdown",
   "id": "faf77690-8dec-4870-a358-884d513b1946",
   "metadata": {},
   "source": [
    "# 7. 도커 컴포즈를 익히자"
   ]
  },
  {
   "cell_type": "markdown",
   "id": "058ec4d8-c12b-4842-937e-bc6ac44fed81",
   "metadata": {
    "tags": []
   },
   "source": [
    "- 도커 설정을 기재한 설정 파일을 이용하여 한번에 여러개의 컨테이너를 생성, 실행, 폐기하는 기능을 제공한다\n",
    "- 여러 개의 컨테이너를 다룰 일이 많아졌다면 도커 컴포즈를 배울 때가 온것이다"
   ]
  },
  {
   "cell_type": "markdown",
   "id": "930941c2-17a9-495f-a8af-a00bd67245df",
   "metadata": {
    "tags": []
   },
   "source": [
    "## 7.1 도커 컴포즈란?\n",
    "- 워드프레스 여러개의 컨테이너로 구성된 시스템 실행하기에는 귀찮음 \n",
    "    - 인자, 옵션 많고 불륨, 네트워크까지 설정 필요\n",
    "    - 시스템 뒷정리 할 때도 ps커맨드로 일일히 확인해가며 관리\n",
    "> 시스템 구축과 관련된 명령어를 하나의 텍스트파일에 기재하여 명형어 한번에 시스템 전체를 실행하고 종료와 폐기까지 한번에 하도록 돕는 도구<br>\n",
    "![](./image/d07-01.png)"
   ]
  },
  {
   "cell_type": "markdown",
   "id": "5ae6087d-5248-4df2-bf01-bb1a16d907c6",
   "metadata": {},
   "source": [
    "### 도커 컴포즈의 구조\n",
    "- 시스템 구축에 필요한 설정에 필요한 설정을 YAML포멧으로 기재한 정의 파일을 이용하여 전체 시스템을 일괄 실행(run) 또는 종료/삭제(down) 할수 있는 도구\n",
    "    [파일확인](./dkkb/chapter07/chapter07-03/docker-compose.yml)\n",
    "<br>![](./image/d07-02.png)\n",
    "- up : docker run과 비슷. 정의대로 이미지 내려받고 컨테이너 실행. 정의파일은 볼륨과 정의도 기재할 수 있어서 주변환경을 한번에 생성 가능\n",
    "```\n",
    "docker-compose -f docker-compose.yml up -d\n",
    "```\n",
    "- down : 컨테이너와 네크워크 정지/삭제, 볼륨과 이미지는 삭제하지 않음. 컨테이너/네트워크 삭제 원치않으면 stop을 사용\n",
    "```\n",
    "docker-compose -f docker-compose.yml down -d\n",
    "```"
   ]
  },
  {
   "cell_type": "markdown",
   "id": "4c7ba991-fd81-4076-80a0-d05651f4f7cd",
   "metadata": {},
   "source": [
    "### 도커 컴포즈와 Dokerfile스크립트의 차이점\n",
    "- 도커 컴포즈는 텍스트 파일에 기재된 정의를 따라 실행 (6장에서 배운 Dockerfile스크립트와 유사)\n",
    "    - 도커 컴포즈는 docker run명령어를 여러개 모아놓은 것. 컨테이너와 주변환경을 생성. 네크워크/볼률까지 만들수 있음\n",
    "    - Dockerfile스크립트는 이미지를 만들기 위한 것으로 네트워크나 볼륨은 만들지 못함\n",
    "<br>![](./image/d07-03.png)\n",
    "<br>![](./image/d07-04.png)"
   ]
  },
  {
   "cell_type": "markdown",
   "id": "35eb7784-3010-4f83-93dc-9e6e54138d61",
   "metadata": {},
   "source": [
    "## 7.2 도커 컴포즈 설치와 사용법\n",
    "- 도커컴포즈는 설치 필요(도커엔진과 별도)하나 윈도우/맥의 도커데스크톱은 이미 설치되어 있음 \n",
    "> 우분투에서의 설치\n",
    "```\n",
    "sudo apt install -y python3 python3-pip\n",
    "sudo pip3 install docker-compose\n",
    "```\n"
   ]
  },
  {
   "cell_type": "markdown",
   "id": "6daf422d-f9d9-4b37-80cc-0ffee8dee24d",
   "metadata": {},
   "source": [
    "### 도커컴포즈의 사용법\n",
    "- 정의파일(docker-compose.yml)을 만들고 명령어를 입력. \n",
    "<br>![](./image/d07-05.png)\n",
    "- 정의파일은 한폴더에 하나만 만들수 있음, 여러개의 정의파일 만들려면 그 개수만큼 폴더 생성\n",
    "<br>![](./image/d07-06.png)\n",
    "> 도커 컴포즈에서 컨테이너가 모인 것을 서비스라고 한다. 이 책에서는 컨테이너로 용어를 통일하겠음"
   ]
  },
  {
   "cell_type": "markdown",
   "id": "1154035e-6e25-4ad3-8db1-015c02539acb",
   "metadata": {},
   "source": [
    "## 7.3 도커 컴포즈 파일을 작성하는 법\n",
    "### 작성예시\n",
    "- 아파치 컨테이너(apa000ex2)를 간단히 만든것\n",
    "```\n",
    "docker run --name apa000ex2 -d -p 8080:80 httpd\n",
    "```\n",
    "<br>![](./image/d07-07.png)\n",
    "- 아래의 실행명령어와 설정파일을 비교해보자\n",
    "```\n",
    "docker run --name wordpress000ex12 -dit --net=wordpress000net1 -p 8085:80 -e WORDPRESS_DB_HOST=mysql000ex11 -e WORDPRESS_DB_NAME=wordpress000db -e WORDPRESS_DB_USER=wordpress000kun -e WORDPRESS_DB_PASSWORD=wkunpass wordpress\n",
    "```\n",
    "<br>![](./image/d07-08.png)"
   ]
  },
  {
   "cell_type": "markdown",
   "id": "a92fc894-ae20-434e-bcfd-3dbd88729d14",
   "metadata": {},
   "source": [
    "### 작성순서 : 주 항목→이름 추가→설정 순서 작성\n",
    "- 주 항목 (services, networks, volumns): 각 주항목 뒤에는 콜론을 붇인다 \n",
    "<br>![](./image/d07-09.png)\n",
    "- 이름 추가 : 주 항목 아래에는 각 이름을 기재한다. \n",
    "    - 이름은 주 항목보다 한 단 들여쓰기 \n",
    "<br>![](./image/d07-10.png)\n",
    "    - tab사용불가이며 '공백 한개', 또는 '두개'로 정하여 사용\n",
    "        \n",
    "\n",
    "- 설정 추가 : 들여쓰기 주의하여 설정 추가\n",
    "<br>![](./image/d07-11.png)"
   ]
  },
  {
   "cell_type": "markdown",
   "id": "cbb8921b-16d1-418a-9bdf-0385d1ed44e4",
   "metadata": {},
   "source": [
    "### 기타 작성요령\n",
    "- 기타 작성요령은 다음과 같다\n",
    "\n",
    "<br>![](./image/d07-12.png)"
   ]
  },
  {
   "cell_type": "markdown",
   "id": "56071eed-1289-4690-a0dd-cb0788469212",
   "metadata": {},
   "source": [
    "![](./image/d07-13.png)\n",
    "<br>![](./image/d07-14.png)\n",
    "<br>![](./image/d07-15.png)\n",
    "\n",
    "- 5장에서 만들었던 워드프레스, SQL컨테이너와 동일한 컨테이너를 만드는 도커컴포즈 파일을 작성해보자\n",
    "    - 워드프레스 컨테이너는 depend_on항목을 추가하여 의존관계를 설정해야 한다.\n",
    "\n",
    "<br>![](./image/d07-16.png)    \n",
    "<br>![](./image/d07-17.png)    \n",
    "<br>![](./image/d07-18.png)    "
   ]
  },
  {
   "cell_type": "markdown",
   "id": "fbfa25c8-9306-42cd-b12a-b3a3065392e3",
   "metadata": {},
   "source": [
    "## 7.4 도커 컴포즈 실행\n",
    "- 작성한 도커컴포즈 파일을 실행해보자.\n",
    "```\n",
    "docker-compose -f 경로/docker-compose.yml up -d\n",
    "```\n",
    "<br>![](./image/d07-19.png) \n",
    "- 컨테이너와 네트워크를 종료, 삭제\n",
    "```\n",
    "docker-compose -f 경로/docker-compose.yml down -d\n",
    "```\n",
    "<br>![](./image/d07-20.png) \n",
    "- 주요 커멘드 : 도커 커멘드와 비슷, up, down, start, stop 외엔 잘 쓸일 없음\n",
    "<br>![](./image/d07-21.png) \n",
    "<br>![](./image/d07-22.png) \n",
    "<br>![](./image/d07-23.png) \n",
    "<br>![](./image/d07-24.png) \n",
    "> 웹브라우저에서 http://localhost:8085/ 에 접속하야 워드프레스의 초기화면이 나타나는지 확인한다."
   ]
  },
  {
   "cell_type": "markdown",
   "id": "bfe1d271-2529-4dc2-a96e-09d65559f920",
   "metadata": {},
   "source": [
    "<br>![](./image/d07-25.png) \n",
    "<br>![](./image/d07-26.png) "
   ]
  }
 ],
 "metadata": {
  "kernelspec": {
   "display_name": ".venv",
   "language": "python",
   "name": "python3"
  },
  "language_info": {
   "codemirror_mode": {
    "name": "ipython",
    "version": 3
   },
   "file_extension": ".py",
   "mimetype": "text/x-python",
   "name": "python",
   "nbconvert_exporter": "python",
   "pygments_lexer": "ipython3",
   "version": "3.12.4"
  }
 },
 "nbformat": 4,
 "nbformat_minor": 5
}
