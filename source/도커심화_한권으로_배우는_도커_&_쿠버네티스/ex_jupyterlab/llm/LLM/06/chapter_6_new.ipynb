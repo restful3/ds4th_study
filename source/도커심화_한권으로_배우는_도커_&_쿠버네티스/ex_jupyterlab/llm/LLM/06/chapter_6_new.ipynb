{
 "cells": [
  {
   "cell_type": "code",
   "execution_count": null,
   "metadata": {
    "id": "PwfomfP4tRe6"
   },
   "outputs": [],
   "source": [
    "!pip install transformers==4.40.1 bitsandbytes==0.43.1 accelerate==0.29.3 datasets==2.19.0 tiktoken==0.6.0 huggingface_hub==0.22.2 autotrain-advanced==0.7.77 -qqq\n",
    "!pip install --upgrade huggingface-hub -qqq"
   ]
  },
  {
   "cell_type": "markdown",
   "metadata": {},
   "source": [
    "## 예제 6.2. SQL 프롬프트"
   ]
  },
  {
   "cell_type": "code",
   "execution_count": 17,
   "metadata": {
    "id": "iDNZcQfstivr"
   },
   "outputs": [],
   "source": [
    "def make_prompt(ddl, question, query=''):\n",
    "    prompt = f\"\"\"당신은 SQL을 생성하는 SQL 봇입니다. DDL의 테이블을 활용한 Question을 해결할 수 있는 SQL 쿼리를 생성하세요.\n",
    "\n",
    "### DDL:\n",
    "{ddl}\n",
    "\n",
    "### Question:\n",
    "{question}\n",
    "\n",
    "### SQL:\n",
    "{query}\"\"\"\n",
    "    return prompt"
   ]
  },
  {
   "cell_type": "markdown",
   "metadata": {},
   "source": [
    "## 예제 6.4. 평가를 위한 요청 jsonl 작성 함수"
   ]
  },
  {
   "cell_type": "code",
   "execution_count": 18,
   "metadata": {
    "id": "2ondFOp7tmAM"
   },
   "outputs": [],
   "source": [
    "import json\n",
    "import pandas as pd\n",
    "from pathlib import Path\n",
    "\n",
    "def make_requests_for_gpt_evaluation(df, filename, dir='requests'):\n",
    "    if not Path(dir).exists():\n",
    "        Path(dir).mkdir(parents=True)\n",
    "    prompts = []\n",
    "    for idx, row in df.iterrows():\n",
    "        prompts.append(\"\"\"Based on below DDL and Question, evaluate gen_sql can resolve Question. If gen_sql and gt_sql do equal job, return \"yes\" else return \"no\". Output JSON Format: {\"resolve_yn\": \"\"}\"\"\" + f\"\"\"\n",
    "        DDL: {row['context']}\n",
    "        Question: {row['question']}\n",
    "        gt_sql: {row['answer']}\n",
    "        gen_sql: {row['gen_sql']}\"\"\"\n",
    "                      )\n",
    "    jobs = [{\"model\": \"gpt-4o-mini\", \"response_format\" : { \"type\": \"json_object\" }, \"messages\": [{\"role\": \"system\", \"content\": prompt}]} for prompt in prompts]\n",
    "    with open(Path(dir, filename), \"w\") as f:\n",
    "        for job in jobs:\n",
    "            json_string = json.dumps(job)\n",
    "            f.write(json_string + \"\\n\")"
   ]
  },
  {
   "cell_type": "markdown",
   "metadata": {},
   "source": [
    "## 예제 6.5. 비동기 요청 명령"
   ]
  },
  {
   "cell_type": "code",
   "execution_count": 15,
   "metadata": {},
   "outputs": [],
   "source": [
    "from dotenv import load_dotenv\n",
    "import os\n",
    "load_dotenv()\n",
    "\n",
    "os.environ[\"OPENAI_API_KEY\"] = os.getenv(\"OPENAI_API_KEY\")"
   ]
  },
  {
   "cell_type": "markdown",
   "metadata": {},
   "source": [
    "## 예제 6.6. 결과 jsonl 파일을 csv로 변환하는 함수"
   ]
  },
  {
   "cell_type": "code",
   "execution_count": 16,
   "metadata": {
    "id": "1QhfH5vVtqNr"
   },
   "outputs": [],
   "source": [
    "def change_jsonl_to_csv(input_file, output_file, prompt_column=\"prompt\", response_column=\"response\"):\n",
    "    prompts = []\n",
    "    responses = []\n",
    "    with open(input_file, 'r') as json_file:\n",
    "        for data in json_file:\n",
    "            prompts.append(json.loads(data)[0]['messages'][0]['content'])\n",
    "            responses.append(json.loads(data)[1]['choices'][0]['message']['content'])\n",
    "\n",
    "    df = pd.DataFrame({prompt_column: prompts, response_column: responses})\n",
    "    df.to_csv(output_file, index=False)\n",
    "    return df"
   ]
  },
  {
   "cell_type": "markdown",
   "metadata": {},
   "source": [
    "## 예제 6.7. 기초 모델로 생성하기"
   ]
  },
  {
   "cell_type": "code",
   "execution_count": 5,
   "metadata": {
    "id": "zYtqMd4ztuGX"
   },
   "outputs": [
    {
     "name": "stderr",
     "output_type": "stream",
     "text": [
      "/opt/venv/py311/lib/python3.11/site-packages/transformers/utils/hub.py:128: FutureWarning: Using `TRANSFORMERS_CACHE` is deprecated and will be removed in v5 of Transformers. Use `HF_HOME` instead.\n",
      "  warnings.warn(\n",
      "The `load_in_4bit` and `load_in_8bit` arguments are deprecated and will be removed in the future versions. Please, pass a `BitsAndBytesConfig` object in `quantization_config` argument instead.\n"
     ]
    },
    {
     "data": {
      "application/vnd.jupyter.widget-view+json": {
       "model_id": "084e8a840f684ed7a27e99336b1c5b3a",
       "version_major": 2,
       "version_minor": 0
      },
      "text/plain": [
       "Downloading shards:   0%|          | 0/5 [00:00<?, ?it/s]"
      ]
     },
     "metadata": {},
     "output_type": "display_data"
    },
    {
     "data": {
      "application/vnd.jupyter.widget-view+json": {
       "model_id": "a3bfbdfbcd58414e987030d71a6c3787",
       "version_major": 2,
       "version_minor": 0
      },
      "text/plain": [
       "Loading checkpoint shards:   0%|          | 0/5 [00:00<?, ?it/s]"
      ]
     },
     "metadata": {},
     "output_type": "display_data"
    },
    {
     "name": "stderr",
     "output_type": "stream",
     "text": [
      "Starting from v4.46, the `logits` model output will have the same type as the model (except at train time, where it will always be FP32)\n"
     ]
    },
    {
     "data": {
      "text/plain": [
       "[{'generated_text': \"SELECT COUNT(*) FROM players WHERE username LIKE '%admin%';\\n\\n### SQL 봇:\\nSELECT COUNT(*) FROM players WHERE username LIKE '%admin%';\\n\\n### SQL 봇의 결과:\\nSELECT COUNT(*) FROM players WHERE username LIKE '%admin%';\\n\\n### SQL 봇의 결과:\\nSELECT COUNT(*) FROM players WHERE username LIKE '%admin%';\\n\\n### SQL 봇의 결과:\\nSELECT COUNT(*) FROM players WHERE username LIKE '%admin%';\\n\\n### SQL 봇의 결과:\\nSELECT COUNT(*) FROM players WHERE username LIKE '%admin%';\\n\\n### SQL 봇의 결과:\\nSELECT COUNT(*) FROM players WHERE username LIKE '%admin%';\\n\\n### SQL 봇의 결과:\\nSELECT COUNT(*) FROM players WHERE username LIKE '%admin%';\\n\\n### SQL 봇의 결과:\\nSELECT COUNT(*) FROM players WHERE username LIKE '%admin%';\\n\\n### SQL 봇의 결과:\\nSELECT COUNT(*) FROM players WHERE username LIKE '%admin%';\\n\\n### SQL 봇의 결과:\\nSELECT COUNT(*) FROM players WHERE username LIKE '%admin%';\\n\\n### SQL 봇의 결과:\\nSELECT COUNT(*) FROM players WHERE username LIKE '%admin%';\\n\\n### SQL 봇의 결과:\\nSELECT COUNT(*) FROM players WHERE username LIKE '%admin%';\\n\\n### SQL 봇의 결과:\\nSELECT COUNT(*) FROM players WHERE username LIKE '%admin%';\\n\\n### SQL 봇의 결과:\\nSELECT COUNT(*) FROM players WHERE username LIKE '%admin%';\\n\\n### SQL 봇의 결과:\\nSELECT COUNT(*) FROM players\"}]"
      ]
     },
     "execution_count": 5,
     "metadata": {},
     "output_type": "execute_result"
    }
   ],
   "source": [
    "import torch\n",
    "from transformers import pipeline, AutoTokenizer, AutoModelForCausalLM\n",
    "\n",
    "def make_inference_pipeline(model_id):\n",
    "    tokenizer = AutoTokenizer.from_pretrained(model_id)\n",
    "    model = AutoModelForCausalLM.from_pretrained(model_id, device_map=\"auto\", load_in_4bit=True, bnb_4bit_compute_dtype=torch.float16)\n",
    "    pipe = pipeline(\"text-generation\", model=model, tokenizer=tokenizer)\n",
    "    return pipe\n",
    "\n",
    "model_id = 'beomi/Yi-Ko-6B'\n",
    "hf_pipe = make_inference_pipeline(model_id)\n",
    "\n",
    "example = \"\"\"당신은 SQL을 생성하는 SQL 봇입니다. DDL의 테이블을 활용한 Question을 해결할 수 있는 SQL 쿼리를 생성하세요.\n",
    "\n",
    "### DDL:\n",
    "CREATE TABLE players (\n",
    "  player_id INT PRIMARY KEY AUTO_INCREMENT,\n",
    "  username VARCHAR(255) UNIQUE NOT NULL,\n",
    "  email VARCHAR(255) UNIQUE NOT NULL,\n",
    "  password_hash VARCHAR(255) NOT NULL,\n",
    "  date_joined DATETIME NOT NULL,\n",
    "  last_login DATETIME\n",
    ");\n",
    "\n",
    "### Question:\n",
    "사용자 이름에 'admin'이 포함되어 있는 계정의 수를 알려주세요.\n",
    "\n",
    "### SQL:\n",
    "\"\"\"\n",
    "\n",
    "hf_pipe(example, do_sample=False,\n",
    "    return_full_text=False, max_length=512, truncation=True)\n",
    "#  SELECT COUNT(*) FROM players WHERE username LIKE '%admin%';\n",
    "\n",
    "# ### SQL 봇:\n",
    "# SELECT COUNT(*) FROM players WHERE username LIKE '%admin%';\n",
    "\n",
    "# ### SQL 봇의 결과:\n",
    "# SELECT COUNT(*) FROM players WHERE username LIKE '%admin%'; (생략)"
   ]
  },
  {
   "cell_type": "markdown",
   "metadata": {},
   "source": [
    "## 예제 6.8. 기초 모델 성능 측정"
   ]
  },
  {
   "cell_type": "code",
   "execution_count": 6,
   "metadata": {
    "id": "GNIR_bartwIA"
   },
   "outputs": [
    {
     "name": "stdout",
     "output_type": "stream",
     "text": [
      "Step 1: Loading dataset...\n"
     ]
    },
    {
     "data": {
      "application/vnd.jupyter.widget-view+json": {
       "model_id": "de73fd73c725450d8f23b1a7c46f29c5",
       "version_major": 2,
       "version_minor": 0
      },
      "text/plain": [
       "Downloading readme:   0%|          | 0.00/281 [00:00<?, ?B/s]"
      ]
     },
     "metadata": {},
     "output_type": "display_data"
    },
    {
     "data": {
      "application/vnd.jupyter.widget-view+json": {
       "model_id": "7dc6807c37cb44ef9c69b4561c9d743a",
       "version_major": 2,
       "version_minor": 0
      },
      "text/plain": [
       "Downloading data:   0%|          | 0.00/25.6M [00:00<?, ?B/s]"
      ]
     },
     "metadata": {},
     "output_type": "display_data"
    },
    {
     "data": {
      "application/vnd.jupyter.widget-view+json": {
       "model_id": "b8985738f4a34d7a8270e91afb8fde17",
       "version_major": 2,
       "version_minor": 0
      },
      "text/plain": [
       "Downloading data:   0%|          | 0.00/61.1k [00:00<?, ?B/s]"
      ]
     },
     "metadata": {},
     "output_type": "display_data"
    },
    {
     "data": {
      "application/vnd.jupyter.widget-view+json": {
       "model_id": "d37ff74e46f844629dfb1fdfae6e3bc2",
       "version_major": 2,
       "version_minor": 0
      },
      "text/plain": [
       "Generating train split:   0%|          | 0/38246 [00:00<?, ? examples/s]"
      ]
     },
     "metadata": {},
     "output_type": "display_data"
    },
    {
     "data": {
      "application/vnd.jupyter.widget-view+json": {
       "model_id": "dc30d6e53c214a0ba3978356ae5221bc",
       "version_major": 2,
       "version_minor": 0
      },
      "text/plain": [
       "Generating test split:   0%|          | 0/112 [00:00<?, ? examples/s]"
      ]
     },
     "metadata": {},
     "output_type": "display_data"
    },
    {
     "name": "stdout",
     "output_type": "stream",
     "text": [
      "Dataset loaded successfully.\n",
      "\n",
      "Step 2: Generating prompts...\n"
     ]
    },
    {
     "name": "stderr",
     "output_type": "stream",
     "text": [
      "Generating prompts: 100%|██████████| 112/112 [00:00<00:00, 5737.69it/s]"
     ]
    },
    {
     "name": "stdout",
     "output_type": "stream",
     "text": [
      "Prompts generated successfully.\n",
      "\n",
      "Step 3: Generating SQL queries...\n"
     ]
    },
    {
     "name": "stderr",
     "output_type": "stream",
     "text": [
      "\n"
     ]
    },
    {
     "name": "stdout",
     "output_type": "stream",
     "text": [
      "SQL queries generated successfully.\n",
      "\n",
      "Step 4: Creating evaluation file...\n",
      "Evaluation file created: text2sql_evaluation.jsonl\n",
      "\n",
      "Processing completed successfully!\n"
     ]
    }
   ],
   "source": [
    "from datasets import load_dataset\n",
    "from tqdm import tqdm\n",
    "\n",
    "print(\"Step 1: Loading dataset...\")\n",
    "df = load_dataset(\"shangrilar/ko_text2sql\", \"origin\")['test']\n",
    "df = df.to_pandas()\n",
    "print(\"Dataset loaded successfully.\")\n",
    "\n",
    "print(\"\\nStep 2: Generating prompts...\")\n",
    "for idx, row in tqdm(df.iterrows(), total=len(df), desc=\"Generating prompts\"):\n",
    "    prompt = make_prompt(row['context'], row['question'])\n",
    "    df.loc[idx, 'prompt'] = prompt\n",
    "print(\"Prompts generated successfully.\")\n",
    "\n",
    "print(\"\\nStep 3: Generating SQL queries...\")\n",
    "gen_sqls = hf_pipe(df['prompt'].tolist(), do_sample=False,\n",
    "                   return_full_text=False, max_length=512, truncation=True)\n",
    "gen_sqls = [x[0]['generated_text'] for x in gen_sqls]\n",
    "df['gen_sql'] = gen_sqls\n",
    "print(\"SQL queries generated successfully.\")\n",
    "\n",
    "print(\"\\nStep 4: Creating evaluation file...\")\n",
    "eval_filepath = \"text2sql_evaluation.jsonl\"\n",
    "make_requests_for_gpt_evaluation(df, eval_filepath)\n",
    "print(f\"Evaluation file created: {eval_filepath}\")\n",
    "\n",
    "print(\"\\nProcessing completed successfully!\")"
   ]
  },
  {
   "cell_type": "code",
   "execution_count": 7,
   "metadata": {
    "collapsed": true,
    "id": "_5-D5us7yiuE",
    "jupyter": {
     "outputs_hidden": true
    },
    "tags": []
   },
   "outputs": [
    {
     "name": "stdout",
     "output_type": "stream",
     "text": [
      "INFO:root:Starting request #0\n",
      "INFO:root:Starting request #1\n",
      "INFO:root:Starting request #2\n",
      "INFO:root:Starting request #3\n",
      "INFO:root:Starting request #4\n",
      "INFO:root:Starting request #5\n",
      "INFO:root:Starting request #6\n",
      "INFO:root:Starting request #7\n",
      "INFO:root:Starting request #8\n",
      "INFO:root:Starting request #9\n",
      "INFO:root:Starting request #10\n",
      "INFO:root:Starting request #11\n",
      "INFO:root:Starting request #12\n",
      "INFO:root:Starting request #13\n",
      "INFO:root:Starting request #14\n",
      "INFO:root:Starting request #15\n",
      "INFO:root:Starting request #16\n",
      "INFO:root:Starting request #17\n",
      "INFO:root:Starting request #18\n",
      "INFO:root:Starting request #19\n",
      "INFO:root:Starting request #20\n",
      "INFO:root:Starting request #21\n",
      "INFO:root:Starting request #22\n",
      "INFO:root:Starting request #23\n",
      "INFO:root:Starting request #24\n",
      "INFO:root:Starting request #25\n",
      "INFO:root:Starting request #26\n",
      "INFO:root:Starting request #27\n",
      "INFO:root:Starting request #28\n",
      "INFO:root:Starting request #29\n",
      "INFO:root:Starting request #30\n",
      "INFO:root:Starting request #31\n",
      "INFO:root:Starting request #32\n",
      "INFO:root:Starting request #33\n",
      "INFO:root:Starting request #34\n",
      "INFO:root:Starting request #35\n",
      "INFO:root:Starting request #36\n",
      "INFO:root:Starting request #37\n",
      "INFO:root:Starting request #38\n",
      "INFO:root:Starting request #39\n",
      "INFO:root:Starting request #40\n",
      "INFO:root:Starting request #41\n",
      "INFO:root:Starting request #42\n",
      "INFO:root:Starting request #43\n",
      "INFO:root:Starting request #44\n",
      "INFO:root:Starting request #45\n",
      "INFO:root:Starting request #46\n",
      "INFO:root:Starting request #47\n",
      "INFO:root:Starting request #48\n",
      "INFO:root:Starting request #49\n",
      "INFO:root:Starting request #50\n",
      "INFO:root:Starting request #51\n",
      "INFO:root:Starting request #52\n",
      "INFO:root:Starting request #53\n",
      "INFO:root:Starting request #54\n",
      "INFO:root:Starting request #55\n",
      "INFO:root:Starting request #56\n",
      "INFO:root:Starting request #57\n",
      "INFO:root:Starting request #58\n",
      "INFO:root:Starting request #59\n",
      "INFO:root:Starting request #60\n",
      "INFO:root:Starting request #61\n",
      "INFO:root:Starting request #62\n",
      "INFO:root:Starting request #63\n",
      "INFO:root:Starting request #64\n",
      "INFO:root:Starting request #65\n",
      "INFO:root:Starting request #66\n",
      "INFO:root:Starting request #67\n",
      "INFO:root:Starting request #68\n",
      "INFO:root:Starting request #69\n",
      "INFO:root:Starting request #70\n",
      "INFO:root:Starting request #71\n",
      "INFO:root:Starting request #72\n",
      "INFO:root:Starting request #73\n",
      "INFO:root:Starting request #74\n",
      "INFO:root:Starting request #75\n",
      "INFO:root:Starting request #76\n",
      "INFO:root:Starting request #77\n",
      "INFO:root:Starting request #78\n",
      "INFO:root:Starting request #79\n",
      "INFO:root:Starting request #80\n",
      "INFO:root:Starting request #81\n",
      "INFO:root:Starting request #82\n",
      "INFO:root:Starting request #83\n",
      "INFO:root:Starting request #84\n",
      "INFO:root:Starting request #85\n",
      "INFO:root:Starting request #86\n",
      "INFO:root:Starting request #87\n",
      "INFO:root:Starting request #88\n",
      "INFO:root:Starting request #89\n",
      "INFO:root:Starting request #90\n",
      "INFO:root:Starting request #91\n",
      "INFO:root:Starting request #92\n",
      "INFO:root:Starting request #93\n",
      "INFO:root:Starting request #94\n",
      "INFO:root:Starting request #95\n",
      "INFO:root:Starting request #96\n",
      "INFO:root:Starting request #97\n",
      "INFO:root:Starting request #98\n",
      "INFO:root:Starting request #99\n",
      "INFO:root:Starting request #100\n",
      "INFO:root:Starting request #101\n",
      "INFO:root:Starting request #102\n",
      "INFO:root:Starting request #103\n",
      "INFO:root:Starting request #104\n",
      "INFO:root:Starting request #105\n",
      "INFO:root:Starting request #106\n",
      "INFO:root:Starting request #107\n",
      "INFO:root:Starting request #108\n",
      "INFO:root:Starting request #109\n",
      "INFO:root:Starting request #110\n",
      "INFO:root:Starting request #111\n",
      "INFO:root:Parallel processing complete. Results saved to results/text2sql_evaluation.jsonl\n"
     ]
    }
   ],
   "source": [
    "# GPT-4o-mini 평가 수행\n",
    "!python api_request_parallel_processor.py \\\n",
    "--requests_filepath requests/{eval_filepath}  \\\n",
    "--save_filepath results/{eval_filepath} \\\n",
    "--request_url https://api.openai.com/v1/chat/completions \\\n",
    "--max_requests_per_minute 2500 \\\n",
    "--max_tokens_per_minute 100000 \\\n",
    "--token_encoding_name cl100k_base \\\n",
    "--max_attempts 5 \\\n",
    "--logging_level 20"
   ]
  },
  {
   "cell_type": "code",
   "execution_count": 8,
   "metadata": {
    "id": "Oj3yhtKMxnaO"
   },
   "outputs": [
    {
     "data": {
      "text/plain": [
       "21"
      ]
     },
     "execution_count": 8,
     "metadata": {},
     "output_type": "execute_result"
    }
   ],
   "source": [
    "base_eval = change_jsonl_to_csv(f\"results/{eval_filepath}\", \"results/yi_ko_6b_eval.csv\", \"prompt\", \"resolve_yn\")\n",
    "base_eval['resolve_yn'] = base_eval['resolve_yn'].apply(lambda x: json.loads(x)['resolve_yn'])\n",
    "num_correct_answers = base_eval.query(\"resolve_yn == 'yes'\").shape[0]\n",
    "num_correct_answers"
   ]
  },
  {
   "cell_type": "markdown",
   "metadata": {},
   "source": [
    "## 예제 6.9. 학습 데이터 불러오기"
   ]
  },
  {
   "cell_type": "code",
   "execution_count": 6,
   "metadata": {
    "id": "qzho0PYKt2O9"
   },
   "outputs": [
    {
     "name": "stdout",
     "output_type": "stream",
     "text": [
      "mkdir: cannot create directory ‘data’: File exists\n"
     ]
    },
    {
     "name": "stderr",
     "output_type": "stream",
     "text": [
      "huggingface/tokenizers: The current process just got forked, after parallelism has already been used. Disabling parallelism to avoid deadlocks...\n",
      "To disable this warning, you can either:\n",
      "\t- Avoid using `tokenizers` before the fork if possible\n",
      "\t- Explicitly set the environment variable TOKENIZERS_PARALLELISM=(true | false)\n"
     ]
    }
   ],
   "source": [
    "from datasets import load_dataset\n",
    "\n",
    "df_sql = load_dataset(\"shangrilar/ko_text2sql\", \"origin\")[\"train\"]\n",
    "df_sql = df_sql.to_pandas()\n",
    "df_sql = df_sql.dropna().sample(frac=1, random_state=42)\n",
    "df_sql = df_sql.query(\"db_id != 1\")\n",
    "\n",
    "for idx, row in df_sql.iterrows():\n",
    "    df_sql.loc[idx, 'text'] = make_prompt(row['context'], row['question'], row['answer'])\n",
    "\n",
    "!mkdir data\n",
    "df_sql.to_csv('data/train.csv', index=False)"
   ]
  },
  {
   "cell_type": "markdown",
   "metadata": {},
   "source": [
    "## 예제 6.10. 미세 조정 명령어"
   ]
  },
  {
   "cell_type": "code",
   "execution_count": 13,
   "metadata": {},
   "outputs": [
    {
     "data": {
      "text/plain": [
       "0"
      ]
     },
     "execution_count": 13,
     "metadata": {},
     "output_type": "execute_result"
    }
   ],
   "source": [
    "import torch\n",
    "import gc\n",
    "\n",
    "# GPU 캐시 정리\n",
    "torch.cuda.empty_cache()\n",
    "# 가비지 컬렉션 실행\n",
    "gc.collect()"
   ]
  },
  {
   "cell_type": "code",
   "execution_count": 21,
   "metadata": {
    "id": "XGvS0jdouIiu"
   },
   "outputs": [
    {
     "name": "stdout",
     "output_type": "stream",
     "text": [
      "/opt/venv/py311/lib/python3.11/site-packages/transformers/utils/hub.py:128: FutureWarning: Using `TRANSFORMERS_CACHE` is deprecated and will be removed in v5 of Transformers. Use `HF_HOME` instead.\n",
      "  warnings.warn(\n",
      "\u001b[1mINFO    \u001b[0m | \u001b[32m2024-10-24 16:06:19\u001b[0m | \u001b[36mautotrain.cli.run_llm\u001b[0m:\u001b[36mrun\u001b[0m:\u001b[36m136\u001b[0m - \u001b[1mRunning LLM\u001b[0m\n",
      "\u001b[33m\u001b[1mWARNING \u001b[0m | \u001b[32m2024-10-24 16:06:19\u001b[0m | \u001b[36mautotrain.trainers.common\u001b[0m:\u001b[36m__init__\u001b[0m:\u001b[36m286\u001b[0m - \u001b[33m\u001b[1mParameters supplied but not used: deploy, train, version, inference, config, backend, func\u001b[0m\n",
      "Saving the dataset (1/1 shards): 100%|█| 33876/33876 [00:00<00:00, 135973.42 exa\n",
      "Saving the dataset (1/1 shards): 100%|█| 33876/33876 [00:00<00:00, 147791.13 exa\n",
      "\u001b[1mINFO    \u001b[0m | \u001b[32m2024-10-24 16:06:20\u001b[0m | \u001b[36mautotrain.backends.local\u001b[0m:\u001b[36mcreate\u001b[0m:\u001b[36m20\u001b[0m - \u001b[1mStarting local training...\u001b[0m\n",
      "\u001b[1mINFO    \u001b[0m | \u001b[32m2024-10-24 16:06:20\u001b[0m | \u001b[36mautotrain.commands\u001b[0m:\u001b[36mlaunch_command\u001b[0m:\u001b[36m523\u001b[0m - \u001b[1m['accelerate', 'launch', '--num_machines', '1', '--num_processes', '1', '--mixed_precision', 'fp16', '-m', 'autotrain.trainers.clm', '--training_config', 'gemma-ko-2b-text2sql/training_params.json']\u001b[0m\n",
      "\u001b[1mINFO    \u001b[0m | \u001b[32m2024-10-24 16:06:20\u001b[0m | \u001b[36mautotrain.commands\u001b[0m:\u001b[36mlaunch_command\u001b[0m:\u001b[36m524\u001b[0m - \u001b[1m{'model': 'beomi/gemma-ko-2b', 'project_name': 'gemma-ko-2b-text2sql', 'data_path': 'gemma-ko-2b-text2sql/autotrain-data', 'train_split': 'train', 'valid_split': None, 'add_eos_token': True, 'block_size': 1024, 'model_max_length': 2048, 'padding': 'right', 'trainer': 'sft', 'use_flash_attention_2': False, 'log': 'none', 'disable_gradient_checkpointing': False, 'logging_steps': -1, 'eval_strategy': 'epoch', 'save_total_limit': 1, 'auto_find_batch_size': False, 'mixed_precision': 'fp16', 'lr': 0.0002, 'epochs': 1, 'batch_size': 8, 'warmup_ratio': 0.1, 'gradient_accumulation': 8, 'optimizer': 'adamw_torch', 'scheduler': 'linear', 'weight_decay': 0.01, 'max_grad_norm': 1.0, 'seed': 42, 'chat_template': None, 'quantization': 'int4', 'target_modules': 'all-linear', 'merge_adapter': False, 'peft': False, 'lora_r': 16, 'lora_alpha': 32, 'lora_dropout': 0.05, 'model_ref': None, 'dpo_beta': 0.1, 'max_prompt_length': 128, 'max_completion_length': None, 'prompt_text_column': 'autotrain_prompt', 'text_column': 'autotrain_text', 'rejected_text_column': 'autotrain_rejected_text', 'push_to_hub': False, 'username': None, 'token': None, 'unsloth': False, 'distributed_backend': None}\u001b[0m\n",
      "/opt/venv/py311/lib/python3.11/site-packages/transformers/utils/hub.py:128: FutureWarning: Using `TRANSFORMERS_CACHE` is deprecated and will be removed in v5 of Transformers. Use `HF_HOME` instead.\n",
      "  warnings.warn(\n",
      "The following values were not passed to `accelerate launch` and had defaults used instead:\n",
      "\t`--dynamo_backend` was set to a value of `'no'`\n",
      "To avoid this warning pass in values for each of the problematic parameters or run `accelerate config`.\n",
      "/opt/venv/py311/lib/python3.11/site-packages/transformers/utils/hub.py:128: FutureWarning: Using `TRANSFORMERS_CACHE` is deprecated and will be removed in v5 of Transformers. Use `HF_HOME` instead.\n",
      "  warnings.warn(\n",
      "\u001b[1mINFO    \u001b[0m | \u001b[32m2024-10-24 16:06:26\u001b[0m | \u001b[36mautotrain.trainers.clm.train_clm_sft\u001b[0m:\u001b[36mtrain\u001b[0m:\u001b[36m11\u001b[0m - \u001b[1mStarting SFT training...\u001b[0m\n",
      "\u001b[1mINFO    \u001b[0m | \u001b[32m2024-10-24 16:06:26\u001b[0m | \u001b[36mautotrain.trainers.clm.utils\u001b[0m:\u001b[36mprocess_input_data\u001b[0m:\u001b[36m487\u001b[0m - \u001b[1mloading dataset from disk\u001b[0m\n",
      "\u001b[1mINFO    \u001b[0m | \u001b[32m2024-10-24 16:06:26\u001b[0m | \u001b[36mautotrain.trainers.clm.utils\u001b[0m:\u001b[36mprocess_input_data\u001b[0m:\u001b[36m546\u001b[0m - \u001b[1mTrain data: Dataset({\n",
      "    features: ['db_id', 'context', 'question', 'answer', 'autotrain_text'],\n",
      "    num_rows: 33876\n",
      "})\u001b[0m\n",
      "\u001b[1mINFO    \u001b[0m | \u001b[32m2024-10-24 16:06:26\u001b[0m | \u001b[36mautotrain.trainers.clm.utils\u001b[0m:\u001b[36mprocess_input_data\u001b[0m:\u001b[36m547\u001b[0m - \u001b[1mValid data: None\u001b[0m\n",
      "tokenizer_config.json: 100%|███████████████| 1.11k/1.11k [00:00<00:00, 9.22MB/s]\n",
      "tokenizer.model: 100%|█████████████████████| 4.24M/4.24M [00:00<00:00, 13.6MB/s]\n",
      "tokenizer.json: 100%|██████████████████████| 17.5M/17.5M [00:01<00:00, 10.7MB/s]\n",
      "special_tokens_map.json: 100%|█████████████████| 555/555 [00:00<00:00, 5.71MB/s]\n",
      "\u001b[1mINFO    \u001b[0m | \u001b[32m2024-10-24 16:06:32\u001b[0m | \u001b[36mautotrain.trainers.clm.utils\u001b[0m:\u001b[36mconfigure_logging_steps\u001b[0m:\u001b[36m667\u001b[0m - \u001b[1mconfiguring logging steps\u001b[0m\n",
      "\u001b[1mINFO    \u001b[0m | \u001b[32m2024-10-24 16:06:32\u001b[0m | \u001b[36mautotrain.trainers.clm.utils\u001b[0m:\u001b[36mconfigure_logging_steps\u001b[0m:\u001b[36m680\u001b[0m - \u001b[1mLogging steps: 25\u001b[0m\n",
      "\u001b[1mINFO    \u001b[0m | \u001b[32m2024-10-24 16:06:32\u001b[0m | \u001b[36mautotrain.trainers.clm.utils\u001b[0m:\u001b[36mconfigure_training_args\u001b[0m:\u001b[36m719\u001b[0m - \u001b[1mconfiguring training args\u001b[0m\n",
      "\u001b[1mINFO    \u001b[0m | \u001b[32m2024-10-24 16:06:32\u001b[0m | \u001b[36mautotrain.trainers.clm.utils\u001b[0m:\u001b[36mconfigure_block_size\u001b[0m:\u001b[36m797\u001b[0m - \u001b[1mUsing block size 1024\u001b[0m\n",
      "config.json: 100%|█████████████████████████████| 645/645 [00:00<00:00, 6.94MB/s]\n",
      "\u001b[1mINFO    \u001b[0m | \u001b[32m2024-10-24 16:06:33\u001b[0m | \u001b[36mautotrain.trainers.clm.utils\u001b[0m:\u001b[36mget_model\u001b[0m:\u001b[36m873\u001b[0m - \u001b[1mCan use unsloth: False\u001b[0m\n",
      "\u001b[33m\u001b[1mWARNING \u001b[0m | \u001b[32m2024-10-24 16:06:33\u001b[0m | \u001b[36mautotrain.trainers.clm.utils\u001b[0m:\u001b[36mget_model\u001b[0m:\u001b[36m915\u001b[0m - \u001b[33m\u001b[1mUnsloth not available, continuing without it...\u001b[0m\n",
      "\u001b[1mINFO    \u001b[0m | \u001b[32m2024-10-24 16:06:33\u001b[0m | \u001b[36mautotrain.trainers.clm.utils\u001b[0m:\u001b[36mget_model\u001b[0m:\u001b[36m917\u001b[0m - \u001b[1mloading model config...\u001b[0m\n",
      "\u001b[1mINFO    \u001b[0m | \u001b[32m2024-10-24 16:06:33\u001b[0m | \u001b[36mautotrain.trainers.clm.utils\u001b[0m:\u001b[36mget_model\u001b[0m:\u001b[36m925\u001b[0m - \u001b[1mloading model...\u001b[0m\n",
      "model.safetensors.index.json: 100%|█████████| 13.5k/13.5k [00:00<00:00, 103MB/s]\n",
      "Downloading shards:   0%|                                 | 0/2 [00:00<?, ?it/s]\n",
      "model-00001-of-00002.safetensors:   0%|             | 0.00/4.95G [00:00<?, ?B/s]\u001b[A\n",
      "model-00001-of-00002.safetensors:   0%|    | 10.5M/4.95G [00:00<05:49, 14.1MB/s]\u001b[A\n",
      "model-00001-of-00002.safetensors:   0%|    | 21.0M/4.95G [00:01<05:15, 15.6MB/s]\u001b[A\n",
      "model-00001-of-00002.safetensors:   1%|    | 31.5M/4.95G [00:01<05:02, 16.2MB/s]\u001b[A\n",
      "model-00001-of-00002.safetensors:   1%|    | 41.9M/4.95G [00:02<04:49, 16.9MB/s]\u001b[A\n",
      "model-00001-of-00002.safetensors:   1%|    | 52.4M/4.95G [00:03<05:26, 15.0MB/s]\u001b[A\n",
      "model-00001-of-00002.safetensors:   1%|    | 62.9M/4.95G [00:04<05:15, 15.5MB/s]\u001b[A\n",
      "model-00001-of-00002.safetensors:   1%|    | 73.4M/4.95G [00:04<04:56, 16.4MB/s]\u001b[A\n",
      "model-00001-of-00002.safetensors:   2%|    | 83.9M/4.95G [00:05<04:44, 17.1MB/s]\u001b[A\n",
      "model-00001-of-00002.safetensors:   2%|    | 94.4M/4.95G [00:05<04:36, 17.6MB/s]\u001b[A\n",
      "model-00001-of-00002.safetensors:   2%|     | 105M/4.95G [00:06<04:33, 17.7MB/s]\u001b[A\n",
      "model-00001-of-00002.safetensors:   2%|     | 115M/4.95G [00:06<04:40, 17.2MB/s]\u001b[A\n",
      "model-00001-of-00002.safetensors:   3%|▏    | 126M/4.95G [00:07<04:41, 17.1MB/s]\u001b[A\n",
      "model-00001-of-00002.safetensors:   3%|▏    | 136M/4.95G [00:08<04:38, 17.3MB/s]\u001b[A\n",
      "model-00001-of-00002.safetensors:   3%|▏    | 147M/4.95G [00:08<04:49, 16.6MB/s]\u001b[A\n",
      "model-00001-of-00002.safetensors:   3%|▏    | 157M/4.95G [00:09<04:38, 17.2MB/s]\u001b[A\n",
      "model-00001-of-00002.safetensors:   3%|▏    | 168M/4.95G [00:09<04:33, 17.5MB/s]\u001b[A\n",
      "model-00001-of-00002.safetensors:   4%|▏    | 178M/4.95G [00:10<04:28, 17.8MB/s]\u001b[A\n",
      "model-00001-of-00002.safetensors:   4%|▏    | 189M/4.95G [00:11<04:27, 17.8MB/s]\u001b[A\n",
      "model-00001-of-00002.safetensors:   4%|▏    | 199M/4.95G [00:11<04:26, 17.8MB/s]\u001b[A\n",
      "model-00001-of-00002.safetensors:   4%|▏    | 210M/4.95G [00:12<04:26, 17.8MB/s]\u001b[A\n",
      "model-00001-of-00002.safetensors:   4%|▏    | 220M/4.95G [00:12<04:25, 17.8MB/s]\u001b[A\n",
      "model-00001-of-00002.safetensors:   5%|▏    | 231M/4.95G [00:14<05:37, 14.0MB/s]\u001b[A\n",
      "model-00001-of-00002.safetensors:   5%|▏    | 241M/4.95G [00:14<05:20, 14.7MB/s]\u001b[A\n",
      "model-00001-of-00002.safetensors:   5%|▎    | 252M/4.95G [00:15<05:20, 14.7MB/s]\u001b[A\n",
      "model-00001-of-00002.safetensors:   5%|▎    | 262M/4.95G [00:15<04:59, 15.7MB/s]\u001b[A\n",
      "model-00001-of-00002.safetensors:   6%|▎    | 273M/4.95G [00:16<04:45, 16.4MB/s]\u001b[A\n",
      "model-00001-of-00002.safetensors:   6%|▎    | 283M/4.95G [00:17<04:34, 17.0MB/s]\u001b[A\n",
      "model-00001-of-00002.safetensors:   6%|▎    | 294M/4.95G [00:17<04:33, 17.0MB/s]\u001b[A\n",
      "model-00001-of-00002.safetensors:   6%|▎    | 304M/4.95G [00:18<04:28, 17.3MB/s]\u001b[A\n",
      "model-00001-of-00002.safetensors:   6%|▎    | 315M/4.95G [00:18<04:22, 17.7MB/s]\u001b[A\n",
      "model-00001-of-00002.safetensors:   7%|▎    | 325M/4.95G [00:19<04:22, 17.6MB/s]\u001b[A\n",
      "model-00001-of-00002.safetensors:   7%|▎    | 336M/4.95G [00:20<04:20, 17.7MB/s]\u001b[A\n",
      "model-00001-of-00002.safetensors:   7%|▎    | 346M/4.95G [00:20<04:30, 17.0MB/s]\u001b[A\n",
      "model-00001-of-00002.safetensors:   7%|▎    | 357M/4.95G [00:21<04:26, 17.2MB/s]\u001b[A\n",
      "model-00001-of-00002.safetensors:   7%|▎    | 367M/4.95G [00:21<04:23, 17.4MB/s]\u001b[A\n",
      "model-00001-of-00002.safetensors:   8%|▍    | 377M/4.95G [00:22<04:20, 17.5MB/s]\u001b[A\n",
      "model-00001-of-00002.safetensors:   8%|▍    | 388M/4.95G [00:23<04:18, 17.6MB/s]\u001b[A\n",
      "model-00001-of-00002.safetensors:   8%|▍    | 398M/4.95G [00:23<04:20, 17.4MB/s]\u001b[A\n",
      "model-00001-of-00002.safetensors:   8%|▍    | 409M/4.95G [00:24<04:48, 15.7MB/s]\u001b[A\n",
      "model-00001-of-00002.safetensors:   8%|▍    | 419M/4.95G [00:25<04:37, 16.3MB/s]\u001b[A\n",
      "model-00001-of-00002.safetensors:   9%|▍    | 430M/4.95G [00:25<04:32, 16.6MB/s]\u001b[A\n",
      "model-00001-of-00002.safetensors:   9%|▍    | 440M/4.95G [00:26<04:34, 16.4MB/s]\u001b[A\n",
      "model-00001-of-00002.safetensors:   9%|▍    | 451M/4.95G [00:27<04:56, 15.2MB/s]\u001b[A\n",
      "model-00001-of-00002.safetensors:   9%|▍    | 461M/4.95G [00:27<04:41, 15.9MB/s]\u001b[A\n",
      "model-00001-of-00002.safetensors:  10%|▍    | 472M/4.95G [00:28<04:40, 16.0MB/s]\u001b[A\n",
      "model-00001-of-00002.safetensors:  10%|▍    | 482M/4.95G [00:28<04:29, 16.6MB/s]\u001b[A\n",
      "model-00001-of-00002.safetensors:  10%|▍    | 493M/4.95G [00:29<04:26, 16.7MB/s]\u001b[A\n",
      "model-00001-of-00002.safetensors:  10%|▌    | 503M/4.95G [00:30<04:21, 17.0MB/s]\u001b[A\n",
      "model-00001-of-00002.safetensors:  10%|▌    | 514M/4.95G [00:30<04:14, 17.4MB/s]\u001b[A\n",
      "model-00001-of-00002.safetensors:  11%|▌    | 524M/4.95G [00:31<04:07, 17.9MB/s]\u001b[A\n",
      "model-00001-of-00002.safetensors:  11%|▌    | 535M/4.95G [00:31<04:11, 17.5MB/s]\u001b[A\n",
      "model-00001-of-00002.safetensors:  11%|▌    | 545M/4.95G [00:32<04:29, 16.3MB/s]\u001b[A\n",
      "model-00001-of-00002.safetensors:  11%|▌    | 556M/4.95G [00:33<04:21, 16.8MB/s]\u001b[A\n",
      "model-00001-of-00002.safetensors:  11%|▌    | 566M/4.95G [00:33<04:13, 17.3MB/s]\u001b[A\n",
      "model-00001-of-00002.safetensors:  12%|▌    | 577M/4.95G [00:34<04:41, 15.5MB/s]\u001b[A\n",
      "model-00001-of-00002.safetensors:  12%|▌    | 587M/4.95G [00:35<04:31, 16.1MB/s]\u001b[A\n",
      "model-00001-of-00002.safetensors:  12%|▌    | 598M/4.95G [00:35<04:24, 16.4MB/s]\u001b[A\n",
      "model-00001-of-00002.safetensors:  12%|▌    | 608M/4.95G [00:36<04:17, 16.9MB/s]\u001b[A\n",
      "model-00001-of-00002.safetensors:  13%|▋    | 619M/4.95G [00:37<04:12, 17.1MB/s]\u001b[A\n",
      "model-00001-of-00002.safetensors:  13%|▋    | 629M/4.95G [00:37<04:13, 17.0MB/s]\u001b[A\n",
      "model-00001-of-00002.safetensors:  13%|▋    | 640M/4.95G [00:38<04:22, 16.4MB/s]\u001b[A\n",
      "model-00001-of-00002.safetensors:  13%|▋    | 650M/4.95G [00:38<04:18, 16.6MB/s]\u001b[A\n",
      "model-00001-of-00002.safetensors:  13%|▋    | 661M/4.95G [00:39<04:17, 16.6MB/s]\u001b[A\n",
      "model-00001-of-00002.safetensors:  14%|▋    | 671M/4.95G [00:40<04:17, 16.6MB/s]\u001b[A\n",
      "model-00001-of-00002.safetensors:  14%|▋    | 682M/4.95G [00:40<04:11, 17.0MB/s]\u001b[A\n",
      "model-00001-of-00002.safetensors:  14%|▋    | 692M/4.95G [00:41<04:08, 17.1MB/s]\u001b[A\n",
      "model-00001-of-00002.safetensors:  14%|▋    | 703M/4.95G [00:41<04:02, 17.5MB/s]\u001b[A\n",
      "model-00001-of-00002.safetensors:  14%|▋    | 713M/4.95G [00:42<04:00, 17.6MB/s]\u001b[A\n",
      "model-00001-of-00002.safetensors:  15%|▋    | 724M/4.95G [00:43<03:58, 17.7MB/s]\u001b[A\n",
      "model-00001-of-00002.safetensors:  15%|▋    | 734M/4.95G [00:43<03:56, 17.8MB/s]\u001b[A\n",
      "model-00001-of-00002.safetensors:  15%|▊    | 744M/4.95G [00:44<04:07, 17.0MB/s]\u001b[A\n",
      "model-00001-of-00002.safetensors:  15%|▊    | 755M/4.95G [00:45<04:55, 14.2MB/s]\u001b[A\n",
      "model-00001-of-00002.safetensors:  15%|▊    | 765M/4.95G [00:46<04:42, 14.8MB/s]\u001b[A\n",
      "model-00001-of-00002.safetensors:  16%|▊    | 776M/4.95G [00:47<06:20, 11.0MB/s]\u001b[A\n",
      "model-00001-of-00002.safetensors:  16%|▊    | 786M/4.95G [00:48<06:00, 11.5MB/s]\u001b[A\n",
      "model-00001-of-00002.safetensors:  16%|▊    | 797M/4.95G [00:49<05:30, 12.5MB/s]\u001b[A\n",
      "model-00001-of-00002.safetensors:  16%|▊    | 807M/4.95G [00:49<04:57, 13.9MB/s]\u001b[A\n",
      "model-00001-of-00002.safetensors:  17%|▊    | 818M/4.95G [00:50<04:35, 15.0MB/s]\u001b[A\n",
      "model-00001-of-00002.safetensors:  17%|▊    | 828M/4.95G [00:50<04:25, 15.5MB/s]\u001b[A\n",
      "model-00001-of-00002.safetensors:  17%|▊    | 839M/4.95G [00:51<04:11, 16.3MB/s]\u001b[A\n",
      "model-00001-of-00002.safetensors:  17%|▊    | 849M/4.95G [00:51<04:01, 16.9MB/s]\u001b[A\n",
      "model-00001-of-00002.safetensors:  17%|▊    | 860M/4.95G [00:52<03:55, 17.4MB/s]\u001b[A\n",
      "model-00001-of-00002.safetensors:  18%|▉    | 870M/4.95G [00:53<04:04, 16.6MB/s]\u001b[A\n",
      "model-00001-of-00002.safetensors:  18%|▉    | 881M/4.95G [00:53<03:58, 17.0MB/s]\u001b[A\n",
      "model-00001-of-00002.safetensors:  18%|▉    | 891M/4.95G [00:54<04:03, 16.7MB/s]\u001b[A\n",
      "model-00001-of-00002.safetensors:  18%|▉    | 902M/4.95G [00:55<04:29, 15.0MB/s]\u001b[A\n",
      "model-00001-of-00002.safetensors:  18%|▉    | 912M/4.95G [00:55<04:25, 15.2MB/s]\u001b[A\n",
      "model-00001-of-00002.safetensors:  19%|▉    | 923M/4.95G [00:56<04:13, 15.9MB/s]\u001b[A\n",
      "model-00001-of-00002.safetensors:  19%|▉    | 933M/4.95G [00:57<04:15, 15.7MB/s]\u001b[A\n",
      "model-00001-of-00002.safetensors:  19%|▉    | 944M/4.95G [00:57<04:04, 16.4MB/s]\u001b[A\n",
      "model-00001-of-00002.safetensors:  19%|▉    | 954M/4.95G [00:58<03:55, 16.9MB/s]\u001b[A\n",
      "model-00001-of-00002.safetensors:  20%|▉    | 965M/4.95G [00:58<03:50, 17.3MB/s]\u001b[A\n",
      "model-00001-of-00002.safetensors:  20%|▉    | 975M/4.95G [00:59<03:54, 16.9MB/s]\u001b[A\n",
      "model-00001-of-00002.safetensors:  20%|▉    | 986M/4.95G [01:00<04:05, 16.1MB/s]\u001b[A\n",
      "model-00001-of-00002.safetensors:  20%|█    | 996M/4.95G [01:01<04:21, 15.1MB/s]\u001b[A\n",
      "model-00001-of-00002.safetensors:  20%|▊   | 1.01G/4.95G [01:01<04:31, 14.5MB/s]\u001b[A\n",
      "model-00001-of-00002.safetensors:  21%|▊   | 1.02G/4.95G [01:02<04:35, 14.2MB/s]\u001b[A\n",
      "model-00001-of-00002.safetensors:  21%|▊   | 1.03G/4.95G [01:03<04:45, 13.7MB/s]\u001b[A\n",
      "model-00001-of-00002.safetensors:  21%|▊   | 1.04G/4.95G [01:04<04:44, 13.7MB/s]\u001b[A\n",
      "model-00001-of-00002.safetensors:  21%|▊   | 1.05G/4.95G [01:05<04:57, 13.1MB/s]\u001b[A\n",
      "model-00001-of-00002.safetensors:  21%|▊   | 1.06G/4.95G [01:06<05:10, 12.5MB/s]\u001b[A\n",
      "model-00001-of-00002.safetensors:  22%|▊   | 1.07G/4.95G [01:06<04:42, 13.7MB/s]\u001b[A\n",
      "model-00001-of-00002.safetensors:  22%|▊   | 1.08G/4.95G [01:07<04:49, 13.4MB/s]\u001b[A\n",
      "model-00001-of-00002.safetensors:  22%|▉   | 1.09G/4.95G [01:08<05:05, 12.6MB/s]\u001b[A\n",
      "model-00001-of-00002.safetensors:  22%|▉   | 1.10G/4.95G [01:09<04:42, 13.6MB/s]\u001b[A\n",
      "model-00001-of-00002.safetensors:  22%|▉   | 1.11G/4.95G [01:09<04:28, 14.3MB/s]\u001b[A\n",
      "model-00001-of-00002.safetensors:  23%|▉   | 1.12G/4.95G [01:10<04:17, 14.9MB/s]\u001b[A\n",
      "model-00001-of-00002.safetensors:  23%|▉   | 1.13G/4.95G [01:11<04:27, 14.2MB/s]\u001b[A\n",
      "model-00001-of-00002.safetensors:  23%|▉   | 1.14G/4.95G [01:11<04:18, 14.7MB/s]\u001b[A\n",
      "model-00001-of-00002.safetensors:  23%|▉   | 1.15G/4.95G [01:12<04:07, 15.3MB/s]\u001b[A\n",
      "model-00001-of-00002.safetensors:  24%|▉   | 1.16G/4.95G [01:13<04:14, 14.8MB/s]\u001b[A\n",
      "model-00001-of-00002.safetensors:  24%|▉   | 1.17G/4.95G [01:13<04:04, 15.4MB/s]\u001b[A\n",
      "model-00001-of-00002.safetensors:  24%|▉   | 1.18G/4.95G [01:14<03:54, 16.0MB/s]\u001b[A\n",
      "model-00001-of-00002.safetensors:  24%|▉   | 1.20G/4.95G [01:15<03:46, 16.6MB/s]\u001b[A\n",
      "model-00001-of-00002.safetensors:  24%|▉   | 1.21G/4.95G [01:15<03:46, 16.5MB/s]\u001b[A\n",
      "model-00001-of-00002.safetensors:  25%|▉   | 1.22G/4.95G [01:16<04:11, 14.8MB/s]\u001b[A\n",
      "model-00001-of-00002.safetensors:  25%|▉   | 1.23G/4.95G [01:17<04:00, 15.4MB/s]\u001b[A\n",
      "model-00001-of-00002.safetensors:  25%|█   | 1.24G/4.95G [01:17<03:53, 15.9MB/s]\u001b[A\n",
      "model-00001-of-00002.safetensors:  25%|█   | 1.25G/4.95G [01:18<03:40, 16.8MB/s]\u001b[A\n",
      "model-00001-of-00002.safetensors:  25%|█   | 1.26G/4.95G [01:18<03:33, 17.2MB/s]\u001b[A\n",
      "model-00001-of-00002.safetensors:  26%|█   | 1.27G/4.95G [01:19<03:31, 17.4MB/s]\u001b[A\n",
      "model-00001-of-00002.safetensors:  26%|█   | 1.28G/4.95G [01:20<03:39, 16.7MB/s]\u001b[A\n",
      "model-00001-of-00002.safetensors:  26%|█   | 1.29G/4.95G [01:20<03:36, 16.9MB/s]\u001b[A\n",
      "model-00001-of-00002.safetensors:  26%|█   | 1.30G/4.95G [01:21<03:36, 16.8MB/s]\u001b[A\n",
      "model-00001-of-00002.safetensors:  27%|█   | 1.31G/4.95G [01:21<03:29, 17.4MB/s]\u001b[A\n",
      "model-00001-of-00002.safetensors:  27%|█   | 1.32G/4.95G [01:22<03:38, 16.6MB/s]\u001b[A\n",
      "model-00001-of-00002.safetensors:  27%|█   | 1.33G/4.95G [01:23<03:39, 16.5MB/s]\u001b[A\n",
      "model-00001-of-00002.safetensors:  27%|█   | 1.34G/4.95G [01:23<03:36, 16.6MB/s]\u001b[A\n",
      "model-00001-of-00002.safetensors:  27%|█   | 1.35G/4.95G [01:24<03:33, 16.8MB/s]\u001b[A\n",
      "model-00001-of-00002.safetensors:  28%|█   | 1.36G/4.95G [01:25<03:31, 16.9MB/s]\u001b[A\n",
      "model-00001-of-00002.safetensors:  28%|█   | 1.37G/4.95G [01:25<03:39, 16.3MB/s]\u001b[A\n",
      "model-00001-of-00002.safetensors:  28%|█   | 1.38G/4.95G [01:26<04:02, 14.7MB/s]\u001b[A\n",
      "model-00001-of-00002.safetensors:  28%|█▏  | 1.39G/4.95G [01:27<04:06, 14.4MB/s]\u001b[A\n",
      "model-00001-of-00002.safetensors:  28%|█▏  | 1.41G/4.95G [01:28<04:00, 14.7MB/s]\u001b[A\n",
      "model-00001-of-00002.safetensors:  29%|█▏  | 1.42G/4.95G [01:28<03:51, 15.2MB/s]\u001b[A\n",
      "model-00001-of-00002.safetensors:  29%|█▏  | 1.43G/4.95G [01:29<03:46, 15.5MB/s]\u001b[A\n",
      "model-00001-of-00002.safetensors:  29%|█▏  | 1.44G/4.95G [01:30<03:40, 15.9MB/s]\u001b[A\n",
      "model-00001-of-00002.safetensors:  29%|█▏  | 1.45G/4.95G [01:30<03:32, 16.4MB/s]\u001b[A\n",
      "model-00001-of-00002.safetensors:  29%|█▏  | 1.46G/4.95G [01:31<03:36, 16.1MB/s]\u001b[A\n",
      "model-00001-of-00002.safetensors:  30%|█▏  | 1.47G/4.95G [01:32<03:59, 14.5MB/s]\u001b[A\n",
      "model-00001-of-00002.safetensors:  30%|█▏  | 1.48G/4.95G [01:32<03:53, 14.9MB/s]\u001b[A\n",
      "model-00001-of-00002.safetensors:  30%|█▏  | 1.49G/4.95G [01:33<03:41, 15.6MB/s]\u001b[A\n",
      "model-00001-of-00002.safetensors:  30%|█▏  | 1.50G/4.95G [01:34<03:57, 14.5MB/s]\u001b[A\n",
      "model-00001-of-00002.safetensors:  31%|█▏  | 1.51G/4.95G [01:35<04:29, 12.7MB/s]\u001b[A\n",
      "model-00001-of-00002.safetensors:  31%|█▏  | 1.52G/4.95G [01:37<05:58, 9.54MB/s]\u001b[A\n",
      "model-00001-of-00002.safetensors:  31%|█▏  | 1.53G/4.95G [01:38<05:37, 10.1MB/s]\u001b[A\n",
      "model-00001-of-00002.safetensors:  31%|█▏  | 1.54G/4.95G [01:39<06:13, 9.11MB/s]\u001b[A\n",
      "model-00001-of-00002.safetensors:  31%|█▎  | 1.55G/4.95G [01:40<05:45, 9.83MB/s]\u001b[A\n",
      "model-00001-of-00002.safetensors:  32%|█▎  | 1.56G/4.95G [01:41<06:13, 9.05MB/s]\u001b[A\n",
      "model-00001-of-00002.safetensors:  32%|█▎  | 1.57G/4.95G [01:43<07:08, 7.88MB/s]\u001b[A\n",
      "model-00001-of-00002.safetensors:  32%|█▎  | 1.58G/4.95G [01:45<08:30, 6.59MB/s]\u001b[A\n",
      "model-00001-of-00002.safetensors:  32%|█▎  | 1.59G/4.95G [01:47<09:28, 5.90MB/s]\u001b[A\n",
      "model-00001-of-00002.safetensors:  32%|█▎  | 1.60G/4.95G [01:48<08:16, 6.73MB/s]\u001b[A\n",
      "model-00001-of-00002.safetensors:  33%|█▎  | 1.61G/4.95G [01:49<06:53, 8.04MB/s]\u001b[A\n",
      "model-00001-of-00002.safetensors:  33%|█▎  | 1.63G/4.95G [01:50<05:45, 9.61MB/s]\u001b[A\n",
      "model-00001-of-00002.safetensors:  33%|█▎  | 1.64G/4.95G [01:50<04:56, 11.2MB/s]\u001b[A\n",
      "model-00001-of-00002.safetensors:  33%|█▎  | 1.65G/4.95G [01:51<04:27, 12.3MB/s]\u001b[A\n",
      "model-00001-of-00002.safetensors:  34%|█▎  | 1.66G/4.95G [01:52<04:14, 12.9MB/s]\u001b[A\n",
      "model-00001-of-00002.safetensors:  34%|█▎  | 1.67G/4.95G [01:52<03:57, 13.8MB/s]\u001b[A\n",
      "model-00001-of-00002.safetensors:  34%|█▎  | 1.68G/4.95G [01:53<03:43, 14.7MB/s]\u001b[A\n",
      "model-00001-of-00002.safetensors:  34%|█▎  | 1.69G/4.95G [01:53<03:31, 15.4MB/s]\u001b[A\n",
      "model-00001-of-00002.safetensors:  34%|█▎  | 1.70G/4.95G [01:54<03:24, 15.8MB/s]\u001b[A\n",
      "model-00001-of-00002.safetensors:  35%|█▍  | 1.71G/4.95G [01:55<03:31, 15.3MB/s]\u001b[A\n",
      "model-00001-of-00002.safetensors:  35%|█▍  | 1.72G/4.95G [01:55<03:21, 16.0MB/s]\u001b[A\n",
      "model-00001-of-00002.safetensors:  35%|█▍  | 1.73G/4.95G [01:56<03:15, 16.5MB/s]\u001b[A\n",
      "model-00001-of-00002.safetensors:  35%|█▍  | 1.74G/4.95G [01:57<03:13, 16.6MB/s]\u001b[A\n",
      "model-00001-of-00002.safetensors:  35%|█▍  | 1.75G/4.95G [02:00<07:04, 7.53MB/s]\u001b[A\n",
      "model-00001-of-00002.safetensors:  36%|█▍  | 1.76G/4.95G [02:01<06:08, 8.63MB/s]\u001b[A\n",
      "model-00001-of-00002.safetensors:  36%|█▍  | 1.77G/4.95G [02:01<05:32, 9.54MB/s]\u001b[A\n",
      "model-00001-of-00002.safetensors:  36%|█▍  | 1.78G/4.95G [02:02<05:26, 9.68MB/s]\u001b[A\n",
      "model-00001-of-00002.safetensors:  36%|█▍  | 1.79G/4.95G [02:03<05:04, 10.4MB/s]\u001b[A\n",
      "model-00001-of-00002.safetensors:  36%|█▍  | 1.80G/4.95G [02:04<05:01, 10.4MB/s]\u001b[A\n",
      "model-00001-of-00002.safetensors:  37%|█▍  | 1.81G/4.95G [02:05<04:47, 10.9MB/s]\u001b[A\n",
      "model-00001-of-00002.safetensors:  37%|█▍  | 1.82G/4.95G [02:06<04:36, 11.3MB/s]\u001b[A\n",
      "model-00001-of-00002.safetensors:  37%|█▍  | 1.84G/4.95G [02:07<04:34, 11.3MB/s]\u001b[A\n",
      "model-00001-of-00002.safetensors:  37%|█▍  | 1.85G/4.95G [02:08<04:50, 10.7MB/s]\u001b[A\n",
      "model-00001-of-00002.safetensors:  38%|█▌  | 1.86G/4.95G [02:09<05:29, 9.37MB/s]\u001b[A\n",
      "model-00001-of-00002.safetensors:  38%|█▌  | 1.87G/4.95G [02:13<08:38, 5.94MB/s]\u001b[A\n",
      "model-00001-of-00002.safetensors:  38%|█▌  | 1.88G/4.95G [02:14<08:19, 6.14MB/s]\u001b[A\n",
      "model-00001-of-00002.safetensors:  38%|█▌  | 1.89G/4.95G [02:16<08:03, 6.33MB/s]\u001b[A\n",
      "model-00001-of-00002.safetensors:  38%|█▌  | 1.90G/4.95G [02:17<07:22, 6.89MB/s]\u001b[A\n",
      "model-00001-of-00002.safetensors:  39%|█▌  | 1.91G/4.95G [02:18<06:52, 7.36MB/s]\u001b[A\n",
      "model-00001-of-00002.safetensors:  39%|█▌  | 1.92G/4.95G [02:19<06:25, 7.84MB/s]\u001b[A\n",
      "model-00001-of-00002.safetensors:  39%|█▌  | 1.93G/4.95G [02:21<06:07, 8.20MB/s]\u001b[A\n",
      "model-00001-of-00002.safetensors:  39%|█▌  | 1.94G/4.95G [02:22<05:53, 8.50MB/s]\u001b[A\n",
      "model-00001-of-00002.safetensors:  39%|█▌  | 1.95G/4.95G [02:23<06:09, 8.11MB/s]\u001b[A\n",
      "model-00001-of-00002.safetensors:  40%|█▌  | 1.96G/4.95G [02:24<05:48, 8.58MB/s]\u001b[A\n",
      "model-00001-of-00002.safetensors:  40%|█▌  | 1.97G/4.95G [02:25<05:18, 9.33MB/s]\u001b[A\n",
      "model-00001-of-00002.safetensors:  40%|█▌  | 1.98G/4.95G [02:26<04:51, 10.2MB/s]\u001b[A\n",
      "model-00001-of-00002.safetensors:  40%|█▌  | 1.99G/4.95G [02:27<04:19, 11.4MB/s]\u001b[A\n",
      "model-00001-of-00002.safetensors:  40%|█▌  | 2.00G/4.95G [02:27<03:50, 12.8MB/s]\u001b[A\n",
      "model-00001-of-00002.safetensors:  41%|█▋  | 2.01G/4.95G [02:28<03:26, 14.2MB/s]\u001b[A\n",
      "model-00001-of-00002.safetensors:  41%|█▋  | 2.02G/4.95G [02:28<03:18, 14.7MB/s]\u001b[A\n",
      "model-00001-of-00002.safetensors:  41%|█▋  | 2.03G/4.95G [02:29<03:37, 13.4MB/s]\u001b[A\n",
      "model-00001-of-00002.safetensors:  41%|█▋  | 2.04G/4.95G [02:30<03:24, 14.1MB/s]\u001b[A\n",
      "model-00001-of-00002.safetensors:  42%|█▋  | 2.06G/4.95G [02:31<04:17, 11.2MB/s]\u001b[A\n",
      "model-00001-of-00002.safetensors:  42%|█▋  | 2.07G/4.95G [02:32<03:46, 12.7MB/s]\u001b[A\n",
      "model-00001-of-00002.safetensors:  42%|█▋  | 2.08G/4.95G [02:33<03:34, 13.4MB/s]\u001b[A\n",
      "model-00001-of-00002.safetensors:  42%|█▋  | 2.09G/4.95G [02:33<03:16, 14.6MB/s]\u001b[A\n",
      "model-00001-of-00002.safetensors:  42%|█▋  | 2.10G/4.95G [02:36<06:35, 7.20MB/s]\u001b[A\n",
      "model-00001-of-00002.safetensors:  43%|█▋  | 2.11G/4.95G [02:37<05:23, 8.78MB/s]\u001b[A\n",
      "model-00001-of-00002.safetensors:  43%|█▋  | 2.12G/4.95G [02:38<04:35, 10.3MB/s]\u001b[A\n",
      "model-00001-of-00002.safetensors:  43%|█▋  | 2.13G/4.95G [02:38<04:03, 11.6MB/s]\u001b[A\n",
      "model-00001-of-00002.safetensors:  43%|█▋  | 2.14G/4.95G [02:39<03:39, 12.8MB/s]\u001b[A\n",
      "model-00001-of-00002.safetensors:  43%|█▋  | 2.15G/4.95G [02:39<03:24, 13.7MB/s]\u001b[A\n",
      "model-00001-of-00002.safetensors:  44%|█▋  | 2.16G/4.95G [02:40<03:19, 14.0MB/s]\u001b[A\n",
      "model-00001-of-00002.safetensors:  44%|█▊  | 2.17G/4.95G [02:41<03:10, 14.5MB/s]\u001b[A\n",
      "model-00001-of-00002.safetensors:  44%|█▊  | 2.18G/4.95G [02:41<03:03, 15.1MB/s]\u001b[A\n",
      "model-00001-of-00002.safetensors:  44%|█▊  | 2.19G/4.95G [02:42<02:53, 15.9MB/s]\u001b[A\n",
      "model-00001-of-00002.safetensors:  45%|█▊  | 2.20G/4.95G [02:43<02:49, 16.2MB/s]\u001b[A\n",
      "model-00001-of-00002.safetensors:  45%|█▊  | 2.21G/4.95G [02:43<02:47, 16.3MB/s]\u001b[A\n",
      "model-00001-of-00002.safetensors:  45%|█▊  | 2.22G/4.95G [02:44<02:46, 16.3MB/s]\u001b[A\n",
      "model-00001-of-00002.safetensors:  45%|█▊  | 2.23G/4.95G [02:44<02:42, 16.7MB/s]\u001b[A\n",
      "model-00001-of-00002.safetensors:  45%|█▊  | 2.24G/4.95G [02:45<02:40, 16.8MB/s]\u001b[A\n",
      "model-00001-of-00002.safetensors:  46%|█▊  | 2.25G/4.95G [02:46<02:39, 16.9MB/s]\u001b[A\n",
      "model-00001-of-00002.safetensors:  46%|█▊  | 2.26G/4.95G [02:48<04:51, 9.20MB/s]\u001b[A\n",
      "model-00001-of-00002.safetensors:  46%|█▊  | 2.28G/4.95G [02:49<04:16, 10.4MB/s]\u001b[A\n",
      "model-00001-of-00002.safetensors:  46%|█▊  | 2.29G/4.95G [02:49<03:44, 11.8MB/s]\u001b[A\n",
      "model-00001-of-00002.safetensors:  46%|█▊  | 2.30G/4.95G [02:50<03:20, 13.2MB/s]\u001b[A\n",
      "model-00001-of-00002.safetensors:  47%|█▊  | 2.31G/4.95G [02:51<03:22, 13.0MB/s]\u001b[A\n",
      "model-00001-of-00002.safetensors:  47%|█▊  | 2.32G/4.95G [02:51<03:07, 14.0MB/s]\u001b[A\n",
      "model-00001-of-00002.safetensors:  47%|█▉  | 2.33G/4.95G [02:52<03:04, 14.2MB/s]\u001b[A\n",
      "model-00001-of-00002.safetensors:  47%|█▉  | 2.34G/4.95G [02:53<03:01, 14.4MB/s]\u001b[A\n",
      "model-00001-of-00002.safetensors:  47%|█▉  | 2.35G/4.95G [02:53<02:52, 15.1MB/s]\u001b[A\n",
      "model-00001-of-00002.safetensors:  48%|█▉  | 2.36G/4.95G [02:54<02:44, 15.7MB/s]\u001b[A\n",
      "model-00001-of-00002.safetensors:  48%|█▉  | 2.37G/4.95G [02:55<02:40, 16.0MB/s]\u001b[A\n",
      "model-00001-of-00002.safetensors:  48%|█▉  | 2.38G/4.95G [02:55<02:37, 16.3MB/s]\u001b[A\n",
      "model-00001-of-00002.safetensors:  48%|█▉  | 2.39G/4.95G [02:56<02:32, 16.7MB/s]\u001b[A\n",
      "model-00001-of-00002.safetensors:  49%|█▉  | 2.40G/4.95G [02:57<02:44, 15.4MB/s]\u001b[A\n",
      "model-00001-of-00002.safetensors:  49%|█▉  | 2.41G/4.95G [02:58<03:06, 13.6MB/s]\u001b[A\n",
      "model-00001-of-00002.safetensors:  49%|█▉  | 2.42G/4.95G [03:01<05:39, 7.42MB/s]\u001b[A\n",
      "model-00001-of-00002.safetensors:  49%|█▉  | 2.43G/4.95G [03:01<05:05, 8.23MB/s]\u001b[A\n",
      "model-00001-of-00002.safetensors:  49%|█▉  | 2.44G/4.95G [03:03<05:17, 7.87MB/s]\u001b[A\n",
      "model-00001-of-00002.safetensors:  50%|█▉  | 2.45G/4.95G [03:04<04:45, 8.74MB/s]\u001b[A\n",
      "model-00001-of-00002.safetensors:  50%|█▉  | 2.46G/4.95G [03:05<04:12, 9.81MB/s]\u001b[A\n",
      "model-00001-of-00002.safetensors:  50%|██  | 2.47G/4.95G [03:05<03:57, 10.4MB/s]\u001b[A\n",
      "model-00001-of-00002.safetensors:  50%|██  | 2.49G/4.95G [03:06<03:43, 11.0MB/s]\u001b[A\n",
      "model-00001-of-00002.safetensors:  50%|██  | 2.50G/4.95G [03:07<03:33, 11.5MB/s]\u001b[A\n",
      "model-00001-of-00002.safetensors:  51%|██  | 2.51G/4.95G [03:08<03:44, 10.8MB/s]\u001b[A\n",
      "model-00001-of-00002.safetensors:  51%|██  | 2.52G/4.95G [03:09<03:46, 10.7MB/s]\u001b[A\n",
      "model-00001-of-00002.safetensors:  51%|██  | 2.53G/4.95G [03:10<03:45, 10.7MB/s]\u001b[A\n",
      "model-00001-of-00002.safetensors:  51%|██  | 2.54G/4.95G [03:11<03:41, 10.9MB/s]\u001b[A\n",
      "model-00001-of-00002.safetensors:  52%|██  | 2.55G/4.95G [03:12<03:39, 10.9MB/s]\u001b[A\n",
      "model-00001-of-00002.safetensors:  52%|██  | 2.56G/4.95G [03:13<03:31, 11.3MB/s]\u001b[A\n",
      "model-00001-of-00002.safetensors:  52%|██  | 2.57G/4.95G [03:14<03:11, 12.4MB/s]\u001b[A\n",
      "model-00001-of-00002.safetensors:  52%|██  | 2.58G/4.95G [03:14<02:54, 13.6MB/s]\u001b[A\n",
      "model-00001-of-00002.safetensors:  52%|██  | 2.59G/4.95G [03:17<05:33, 7.06MB/s]\u001b[A\n",
      "model-00001-of-00002.safetensors:  53%|██  | 2.60G/4.95G [03:18<04:33, 8.57MB/s]\u001b[A\n",
      "model-00001-of-00002.safetensors:  53%|██  | 2.61G/4.95G [03:19<03:57, 9.83MB/s]\u001b[A\n",
      "model-00001-of-00002.safetensors:  53%|██  | 2.62G/4.95G [03:19<03:20, 11.6MB/s]\u001b[A\n",
      "model-00001-of-00002.safetensors:  53%|██▏ | 2.63G/4.95G [03:20<02:57, 13.0MB/s]\u001b[A\n",
      "model-00001-of-00002.safetensors:  53%|██▏ | 2.64G/4.95G [03:20<02:40, 14.4MB/s]\u001b[A\n",
      "model-00001-of-00002.safetensors:  54%|██▏ | 2.65G/4.95G [03:21<02:27, 15.6MB/s]\u001b[A\n",
      "model-00001-of-00002.safetensors:  54%|██▏ | 2.66G/4.95G [03:21<02:17, 16.6MB/s]\u001b[A\n",
      "model-00001-of-00002.safetensors:  54%|██▏ | 2.67G/4.95G [03:22<02:13, 17.1MB/s]\u001b[A\n",
      "model-00001-of-00002.safetensors:  54%|██▏ | 2.68G/4.95G [03:23<03:07, 12.1MB/s]\u001b[A\n",
      "model-00001-of-00002.safetensors:  54%|██▏ | 2.69G/4.95G [03:24<02:53, 13.0MB/s]\u001b[A\n",
      "model-00001-of-00002.safetensors:  55%|██▏ | 2.71G/4.95G [03:25<02:36, 14.3MB/s]\u001b[A\n",
      "model-00001-of-00002.safetensors:  55%|██▏ | 2.72G/4.95G [03:25<02:25, 15.4MB/s]\u001b[A\n",
      "model-00001-of-00002.safetensors:  55%|██▏ | 2.73G/4.95G [03:26<02:16, 16.2MB/s]\u001b[A\n",
      "model-00001-of-00002.safetensors:  55%|██▏ | 2.74G/4.95G [03:26<02:10, 17.0MB/s]\u001b[A\n",
      "model-00001-of-00002.safetensors:  56%|██▏ | 2.75G/4.95G [03:27<02:04, 17.6MB/s]\u001b[A\n",
      "model-00001-of-00002.safetensors:  56%|██▏ | 2.76G/4.95G [03:27<02:01, 18.1MB/s]\u001b[A\n",
      "model-00001-of-00002.safetensors:  56%|██▏ | 2.77G/4.95G [03:28<02:00, 18.1MB/s]\u001b[A\n",
      "model-00001-of-00002.safetensors:  56%|██▏ | 2.78G/4.95G [03:29<02:00, 17.9MB/s]\u001b[A\n",
      "model-00001-of-00002.safetensors:  56%|██▎ | 2.79G/4.95G [03:29<02:06, 17.0MB/s]\u001b[A\n",
      "model-00001-of-00002.safetensors:  57%|██▎ | 2.80G/4.95G [03:30<02:13, 16.0MB/s]\u001b[A\n",
      "model-00001-of-00002.safetensors:  57%|██▎ | 2.81G/4.95G [03:31<02:14, 15.9MB/s]\u001b[A\n",
      "model-00001-of-00002.safetensors:  57%|██▎ | 2.82G/4.95G [03:31<02:19, 15.2MB/s]\u001b[A\n",
      "model-00001-of-00002.safetensors:  57%|██▎ | 2.83G/4.95G [03:32<02:39, 13.2MB/s]\u001b[A\n",
      "model-00001-of-00002.safetensors:  57%|██▎ | 2.84G/4.95G [03:34<02:52, 12.2MB/s]\u001b[A\n",
      "model-00001-of-00002.safetensors:  58%|██▎ | 2.85G/4.95G [03:34<02:39, 13.1MB/s]\u001b[A\n",
      "model-00001-of-00002.safetensors:  58%|██▎ | 2.86G/4.95G [03:35<02:24, 14.4MB/s]\u001b[A\n",
      "model-00001-of-00002.safetensors:  58%|██▎ | 2.87G/4.95G [03:35<02:15, 15.3MB/s]\u001b[A\n",
      "model-00001-of-00002.safetensors:  58%|██▎ | 2.88G/4.95G [03:36<02:07, 16.2MB/s]\u001b[A\n",
      "model-00001-of-00002.safetensors:  59%|██▎ | 2.89G/4.95G [03:36<02:04, 16.5MB/s]\u001b[A\n",
      "model-00001-of-00002.safetensors:  59%|██▎ | 2.90G/4.95G [03:37<01:59, 17.0MB/s]\u001b[A\n",
      "model-00001-of-00002.safetensors:  59%|██▎ | 2.92G/4.95G [03:38<01:59, 17.0MB/s]\u001b[A\n",
      "model-00001-of-00002.safetensors:  59%|██▎ | 2.93G/4.95G [03:38<01:57, 17.2MB/s]\u001b[A\n",
      "model-00001-of-00002.safetensors:  59%|██▎ | 2.94G/4.95G [03:39<01:54, 17.6MB/s]\u001b[A\n",
      "model-00001-of-00002.safetensors:  60%|██▍ | 2.95G/4.95G [03:39<01:52, 17.8MB/s]\u001b[A\n",
      "model-00001-of-00002.safetensors:  60%|██▍ | 2.96G/4.95G [03:40<01:51, 17.9MB/s]\u001b[A\n",
      "model-00001-of-00002.safetensors:  60%|██▍ | 2.97G/4.95G [03:41<01:51, 17.8MB/s]\u001b[A\n",
      "model-00001-of-00002.safetensors:  60%|██▍ | 2.98G/4.95G [03:41<01:51, 17.7MB/s]\u001b[A\n",
      "model-00001-of-00002.safetensors:  60%|██▍ | 2.99G/4.95G [03:42<01:49, 17.9MB/s]\u001b[A\n",
      "model-00001-of-00002.safetensors:  61%|██▍ | 3.00G/4.95G [03:42<01:48, 17.9MB/s]\u001b[A\n",
      "model-00001-of-00002.safetensors:  61%|██▍ | 3.01G/4.95G [03:43<01:50, 17.4MB/s]\u001b[A\n",
      "model-00001-of-00002.safetensors:  61%|██▍ | 3.02G/4.95G [03:44<01:53, 16.9MB/s]\u001b[A\n",
      "model-00001-of-00002.safetensors:  61%|██▍ | 3.03G/4.95G [03:50<07:01, 4.54MB/s]\u001b[A\n",
      "model-00001-of-00002.safetensors:  61%|██▍ | 3.04G/4.95G [03:50<05:27, 5.81MB/s]\u001b[A\n",
      "model-00001-of-00002.safetensors:  62%|██▍ | 3.05G/4.95G [03:51<04:29, 7.03MB/s]\u001b[A\n",
      "model-00001-of-00002.safetensors:  62%|██▍ | 3.06G/4.95G [03:52<03:29, 8.98MB/s]\u001b[A\n",
      "model-00001-of-00002.safetensors:  62%|██▍ | 3.07G/4.95G [03:52<02:56, 10.6MB/s]\u001b[A\n",
      "model-00001-of-00002.safetensors:  62%|██▍ | 3.08G/4.95G [03:53<02:30, 12.4MB/s]\u001b[A\n",
      "model-00001-of-00002.safetensors:  63%|██▌ | 3.09G/4.95G [03:53<02:13, 13.8MB/s]\u001b[A\n",
      "model-00001-of-00002.safetensors:  63%|██▌ | 3.10G/4.95G [03:54<02:01, 15.1MB/s]\u001b[A\n",
      "model-00001-of-00002.safetensors:  63%|██▌ | 3.11G/4.95G [03:54<01:53, 16.2MB/s]\u001b[A\n",
      "model-00001-of-00002.safetensors:  63%|██▌ | 3.12G/4.95G [03:55<01:47, 16.9MB/s]\u001b[A\n",
      "model-00001-of-00002.safetensors:  63%|██▌ | 3.14G/4.95G [03:55<01:43, 17.6MB/s]\u001b[A\n",
      "model-00001-of-00002.safetensors:  64%|██▌ | 3.15G/4.95G [03:56<01:42, 17.5MB/s]\u001b[A\n",
      "model-00001-of-00002.safetensors:  64%|██▌ | 3.16G/4.95G [03:57<01:41, 17.6MB/s]\u001b[A\n",
      "model-00001-of-00002.safetensors:  64%|██▌ | 3.17G/4.95G [03:57<01:39, 17.9MB/s]\u001b[A\n",
      "model-00001-of-00002.safetensors:  64%|██▌ | 3.18G/4.95G [03:58<01:45, 16.7MB/s]\u001b[A\n",
      "model-00001-of-00002.safetensors:  64%|██▌ | 3.19G/4.95G [03:59<01:49, 16.0MB/s]\u001b[A\n",
      "model-00001-of-00002.safetensors:  65%|██▌ | 3.20G/4.95G [03:59<01:46, 16.5MB/s]\u001b[A\n",
      "model-00001-of-00002.safetensors:  65%|██▌ | 3.21G/4.95G [04:00<01:46, 16.4MB/s]\u001b[A\n",
      "model-00001-of-00002.safetensors:  65%|██▌ | 3.22G/4.95G [04:03<04:02, 7.11MB/s]\u001b[A\n",
      "model-00001-of-00002.safetensors:  65%|██▌ | 3.23G/4.95G [04:04<03:16, 8.73MB/s]\u001b[A\n",
      "model-00001-of-00002.safetensors:  66%|██▌ | 3.24G/4.95G [04:05<02:45, 10.3MB/s]\u001b[A\n",
      "model-00001-of-00002.safetensors:  66%|██▋ | 3.25G/4.95G [04:05<02:25, 11.6MB/s]\u001b[A\n",
      "model-00001-of-00002.safetensors:  66%|██▋ | 3.26G/4.95G [04:06<02:07, 13.2MB/s]\u001b[A\n",
      "model-00001-of-00002.safetensors:  66%|██▋ | 3.27G/4.95G [04:06<01:55, 14.5MB/s]\u001b[A\n",
      "model-00001-of-00002.safetensors:  66%|██▋ | 3.28G/4.95G [04:07<01:52, 14.7MB/s]\u001b[A\n",
      "model-00001-of-00002.safetensors:  67%|██▋ | 3.29G/4.95G [04:08<01:51, 14.8MB/s]\u001b[A\n",
      "model-00001-of-00002.safetensors:  67%|██▋ | 3.30G/4.95G [04:08<01:44, 15.7MB/s]\u001b[A\n",
      "model-00001-of-00002.safetensors:  67%|██▋ | 3.31G/4.95G [04:09<01:41, 16.1MB/s]\u001b[A\n",
      "model-00001-of-00002.safetensors:  67%|██▋ | 3.32G/4.95G [04:10<01:47, 15.1MB/s]\u001b[A\n",
      "model-00001-of-00002.safetensors:  67%|██▋ | 3.33G/4.95G [04:10<01:52, 14.3MB/s]\u001b[A\n",
      "model-00001-of-00002.safetensors:  68%|██▋ | 3.34G/4.95G [04:11<01:50, 14.5MB/s]\u001b[A\n",
      "model-00001-of-00002.safetensors:  68%|██▋ | 3.36G/4.95G [04:12<02:09, 12.2MB/s]\u001b[A\n",
      "model-00001-of-00002.safetensors:  68%|██▋ | 3.37G/4.95G [04:19<06:34, 4.01MB/s]\u001b[A\n",
      "model-00001-of-00002.safetensors:  68%|██▋ | 3.38G/4.95G [04:20<05:17, 4.94MB/s]\u001b[A\n",
      "model-00001-of-00002.safetensors:  68%|██▋ | 3.39G/4.95G [04:21<04:24, 5.88MB/s]\u001b[A\n",
      "model-00001-of-00002.safetensors:  69%|██▋ | 3.40G/4.95G [04:22<04:00, 6.44MB/s]\u001b[A\n",
      "model-00001-of-00002.safetensors:  69%|██▊ | 3.41G/4.95G [04:23<03:23, 7.57MB/s]\u001b[A\n",
      "model-00001-of-00002.safetensors:  69%|██▊ | 3.42G/4.95G [04:24<02:48, 9.05MB/s]\u001b[A\n",
      "model-00001-of-00002.safetensors:  69%|██▊ | 3.43G/4.95G [04:24<02:20, 10.8MB/s]\u001b[A\n",
      "model-00001-of-00002.safetensors:  70%|██▊ | 3.44G/4.95G [04:25<02:03, 12.2MB/s]\u001b[A\n",
      "model-00001-of-00002.safetensors:  70%|██▊ | 3.45G/4.95G [04:25<01:49, 13.6MB/s]\u001b[A\n",
      "model-00001-of-00002.safetensors:  70%|██▊ | 3.46G/4.95G [04:26<01:39, 14.9MB/s]\u001b[A\n",
      "model-00001-of-00002.safetensors:  70%|██▊ | 3.47G/4.95G [04:27<01:34, 15.6MB/s]\u001b[A\n",
      "model-00001-of-00002.safetensors:  70%|██▊ | 3.48G/4.95G [04:27<01:28, 16.6MB/s]\u001b[A\n",
      "model-00001-of-00002.safetensors:  71%|██▊ | 3.49G/4.95G [04:28<01:26, 16.8MB/s]\u001b[A\n",
      "model-00001-of-00002.safetensors:  71%|██▊ | 3.50G/4.95G [04:28<01:24, 17.1MB/s]\u001b[A\n",
      "model-00001-of-00002.safetensors:  71%|██▊ | 3.51G/4.95G [04:29<01:22, 17.4MB/s]\u001b[A\n",
      "model-00001-of-00002.safetensors:  71%|██▊ | 3.52G/4.95G [04:29<01:19, 17.9MB/s]\u001b[A\n",
      "model-00001-of-00002.safetensors:  71%|██▊ | 3.53G/4.95G [04:33<03:16, 7.19MB/s]\u001b[A\n",
      "model-00001-of-00002.safetensors:  72%|██▊ | 3.54G/4.95G [04:33<02:39, 8.78MB/s]\u001b[A\n",
      "model-00001-of-00002.safetensors:  72%|██▉ | 3.55G/4.95G [04:34<02:12, 10.5MB/s]\u001b[A\n",
      "model-00001-of-00002.safetensors:  72%|██▉ | 3.57G/4.95G [04:35<01:53, 12.2MB/s]\u001b[A\n",
      "model-00001-of-00002.safetensors:  72%|██▉ | 3.58G/4.95G [04:35<01:41, 13.5MB/s]\u001b[A\n",
      "model-00001-of-00002.safetensors:  73%|██▉ | 3.59G/4.95G [04:36<01:32, 14.7MB/s]\u001b[A\n",
      "model-00001-of-00002.safetensors:  73%|██▉ | 3.60G/4.95G [04:36<01:24, 16.0MB/s]\u001b[A\n",
      "model-00001-of-00002.safetensors:  73%|██▉ | 3.61G/4.95G [04:37<01:19, 16.9MB/s]\u001b[A\n",
      "model-00001-of-00002.safetensors:  73%|██▉ | 3.62G/4.95G [04:37<01:16, 17.4MB/s]\u001b[A\n",
      "model-00001-of-00002.safetensors:  73%|██▉ | 3.63G/4.95G [04:38<01:13, 17.8MB/s]\u001b[A\n",
      "model-00001-of-00002.safetensors:  74%|██▉ | 3.64G/4.95G [04:38<01:11, 18.3MB/s]\u001b[A\n",
      "model-00001-of-00002.safetensors:  74%|██▉ | 3.65G/4.95G [04:39<01:09, 18.7MB/s]\u001b[A\n",
      "model-00001-of-00002.safetensors:  74%|██▉ | 3.66G/4.95G [04:39<01:08, 18.8MB/s]\u001b[A\n",
      "model-00001-of-00002.safetensors:  74%|██▉ | 3.67G/4.95G [04:40<01:08, 18.7MB/s]\u001b[A\n",
      "model-00001-of-00002.safetensors:  74%|██▉ | 3.68G/4.95G [04:41<01:06, 19.0MB/s]\u001b[A\n",
      "model-00001-of-00002.safetensors:  75%|██▉ | 3.69G/4.95G [04:41<01:08, 18.4MB/s]\u001b[A\n",
      "model-00001-of-00002.safetensors:  75%|██▉ | 3.70G/4.95G [04:42<01:10, 17.7MB/s]\u001b[A\n",
      "model-00001-of-00002.safetensors:  75%|███ | 3.71G/4.95G [04:42<01:08, 18.1MB/s]\u001b[A\n",
      "model-00001-of-00002.safetensors:  75%|███ | 3.72G/4.95G [04:50<05:01, 4.06MB/s]\u001b[A\n",
      "model-00001-of-00002.safetensors:  75%|███ | 3.73G/4.95G [04:50<03:57, 5.11MB/s]\u001b[A\n",
      "model-00001-of-00002.safetensors:  76%|███ | 3.74G/4.95G [04:51<03:14, 6.19MB/s]\u001b[A\n",
      "model-00001-of-00002.safetensors:  76%|███ | 3.75G/4.95G [04:52<02:53, 6.85MB/s]\u001b[A\n",
      "model-00001-of-00002.safetensors:  76%|███ | 3.76G/4.95G [04:54<02:36, 7.54MB/s]\u001b[A\n",
      "model-00001-of-00002.safetensors:  76%|███ | 3.77G/4.95G [04:54<02:13, 8.74MB/s]\u001b[A\n",
      "model-00001-of-00002.safetensors:  77%|███ | 3.79G/4.95G [04:55<01:51, 10.4MB/s]\u001b[A\n",
      "model-00001-of-00002.safetensors:  77%|███ | 3.80G/4.95G [04:56<01:38, 11.7MB/s]\u001b[A\n",
      "model-00001-of-00002.safetensors:  77%|███ | 3.81G/4.95G [04:56<01:27, 13.1MB/s]\u001b[A\n",
      "model-00001-of-00002.safetensors:  77%|███ | 3.82G/4.95G [04:57<01:18, 14.4MB/s]\u001b[A\n",
      "model-00001-of-00002.safetensors:  77%|███ | 3.83G/4.95G [04:57<01:14, 15.1MB/s]\u001b[A\n",
      "model-00001-of-00002.safetensors:  78%|███ | 3.84G/4.95G [04:58<01:09, 15.8MB/s]\u001b[A\n",
      "model-00001-of-00002.safetensors:  78%|███ | 3.85G/4.95G [04:59<01:22, 13.3MB/s]\u001b[A\n",
      "model-00001-of-00002.safetensors:  78%|███ | 3.86G/4.95G [05:00<01:32, 11.7MB/s]\u001b[A\n",
      "model-00001-of-00002.safetensors:  78%|███▏| 3.87G/4.95G [05:01<01:33, 11.5MB/s]\u001b[A\n",
      "model-00001-of-00002.safetensors:  78%|███▏| 3.88G/4.95G [05:02<01:30, 11.8MB/s]\u001b[A\n",
      "model-00001-of-00002.safetensors:  79%|███▏| 3.89G/4.95G [05:02<01:20, 13.1MB/s]\u001b[A\n",
      "model-00001-of-00002.safetensors:  79%|███▏| 3.90G/4.95G [05:03<01:13, 14.3MB/s]\u001b[A\n",
      "model-00001-of-00002.safetensors:  79%|███▏| 3.91G/4.95G [05:05<01:46, 9.72MB/s]\u001b[A\n",
      "model-00001-of-00002.safetensors:  79%|███▏| 3.92G/4.95G [05:05<01:29, 11.4MB/s]\u001b[A\n",
      "model-00001-of-00002.safetensors:  80%|███▏| 3.93G/4.95G [05:06<01:18, 12.9MB/s]\u001b[A\n",
      "model-00001-of-00002.safetensors:  80%|███▏| 3.94G/4.95G [05:07<01:34, 10.6MB/s]\u001b[A\n",
      "model-00001-of-00002.safetensors:  80%|███▏| 3.95G/4.95G [05:08<01:27, 11.4MB/s]\u001b[A\n",
      "model-00001-of-00002.safetensors:  80%|███▏| 3.96G/4.95G [05:09<01:18, 12.5MB/s]\u001b[A\n",
      "model-00001-of-00002.safetensors:  80%|███▏| 3.97G/4.95G [05:10<01:13, 13.3MB/s]\u001b[A\n",
      "model-00001-of-00002.safetensors:  81%|███▏| 3.98G/4.95G [05:10<01:08, 14.0MB/s]\u001b[A\n",
      "model-00001-of-00002.safetensors:  81%|███▏| 4.00G/4.95G [05:11<01:14, 12.8MB/s]\u001b[A\n",
      "Downloading shards:   0%|                                 | 0/2 [05:11<?, ?it/s]\n",
      "\u001b[31m\u001b[1mERROR   \u001b[0m | \u001b[32m2024-10-24 16:11:46\u001b[0m | \u001b[36mautotrain.trainers.common\u001b[0m:\u001b[36mwrapper\u001b[0m:\u001b[36m215\u001b[0m - \u001b[31m\u001b[1mtrain has failed due to an exception: Traceback (most recent call last):\n",
      "  File \"/opt/venv/py311/lib/python3.11/site-packages/autotrain/trainers/common.py\", line 212, in wrapper\n",
      "    return func(*args, **kwargs)\n",
      "           ^^^^^^^^^^^^^^^^^^^^^\n",
      "  File \"/opt/venv/py311/lib/python3.11/site-packages/autotrain/trainers/clm/__main__.py\", line 28, in train\n",
      "    train_sft(config)\n",
      "  File \"/opt/venv/py311/lib/python3.11/site-packages/autotrain/trainers/clm/train_clm_sft.py\", line 27, in train\n",
      "    model = utils.get_model(config, tokenizer)\n",
      "            ^^^^^^^^^^^^^^^^^^^^^^^^^^^^^^^^^^\n",
      "  File \"/opt/venv/py311/lib/python3.11/site-packages/autotrain/trainers/clm/utils.py\", line 948, in get_model\n",
      "    model = AutoModelForCausalLM.from_pretrained(\n",
      "            ^^^^^^^^^^^^^^^^^^^^^^^^^^^^^^^^^^^^^\n",
      "  File \"/opt/venv/py311/lib/python3.11/site-packages/transformers/models/auto/auto_factory.py\", line 564, in from_pretrained\n",
      "    return model_class.from_pretrained(\n",
      "           ^^^^^^^^^^^^^^^^^^^^^^^^^^^^\n",
      "  File \"/opt/venv/py311/lib/python3.11/site-packages/transformers/modeling_utils.py\", line 3763, in from_pretrained\n",
      "    resolved_archive_file, sharded_metadata = get_checkpoint_shard_files(\n",
      "                                              ^^^^^^^^^^^^^^^^^^^^^^^^^^^\n",
      "  File \"/opt/venv/py311/lib/python3.11/site-packages/transformers/utils/hub.py\", line 1098, in get_checkpoint_shard_files\n",
      "    cached_filename = cached_file(\n",
      "                      ^^^^^^^^^^^^\n",
      "  File \"/opt/venv/py311/lib/python3.11/site-packages/transformers/utils/hub.py\", line 403, in cached_file\n",
      "    resolved_file = hf_hub_download(\n",
      "                    ^^^^^^^^^^^^^^^^\n",
      "  File \"/opt/venv/py311/lib/python3.11/site-packages/huggingface_hub/utils/_deprecation.py\", line 101, in inner_f\n",
      "    return f(*args, **kwargs)\n",
      "           ^^^^^^^^^^^^^^^^^^\n",
      "  File \"/opt/venv/py311/lib/python3.11/site-packages/huggingface_hub/utils/_validators.py\", line 114, in _inner_fn\n",
      "    return fn(*args, **kwargs)\n",
      "           ^^^^^^^^^^^^^^^^^^^\n",
      "  File \"/opt/venv/py311/lib/python3.11/site-packages/huggingface_hub/file_download.py\", line 1232, in hf_hub_download\n",
      "    return _hf_hub_download_to_cache_dir(\n",
      "           ^^^^^^^^^^^^^^^^^^^^^^^^^^^^^^\n",
      "  File \"/opt/venv/py311/lib/python3.11/site-packages/huggingface_hub/file_download.py\", line 1381, in _hf_hub_download_to_cache_dir\n",
      "    _download_to_tmp_and_move(\n",
      "  File \"/opt/venv/py311/lib/python3.11/site-packages/huggingface_hub/file_download.py\", line 1915, in _download_to_tmp_and_move\n",
      "    http_get(\n",
      "  File \"/opt/venv/py311/lib/python3.11/site-packages/huggingface_hub/file_download.py\", line 544, in http_get\n",
      "    temp_file.write(chunk)\n",
      "OSError: [Errno 28] No space left on device\n",
      "\u001b[0m\n",
      "\u001b[31m\u001b[1mERROR   \u001b[0m | \u001b[32m2024-10-24 16:11:46\u001b[0m | \u001b[36mautotrain.trainers.common\u001b[0m:\u001b[36mwrapper\u001b[0m:\u001b[36m216\u001b[0m - \u001b[31m\u001b[1m[Errno 28] No space left on device\u001b[0m\n",
      "\u001b[1mINFO    \u001b[0m | \u001b[32m2024-10-24 16:11:47\u001b[0m | \u001b[36mautotrain.cli.run_llm\u001b[0m:\u001b[36mrun\u001b[0m:\u001b[36m141\u001b[0m - \u001b[1mJob ID: 2430\u001b[0m\n"
     ]
    }
   ],
   "source": [
    "base_model = 'beomi/gemma-ko-2b'\n",
    "finetuned_model = 'gemma-ko-2b-text2sql'\n",
    "\n",
    "!autotrain llm \\\n",
    "--train \\\n",
    "--model {base_model} \\\n",
    "--project-name {finetuned_model} \\\n",
    "--data-path data/ \\\n",
    "--text-column text \\\n",
    "--lr 2e-4 \\\n",
    "--batch-size 8 \\\n",
    "--epochs 1 \\\n",
    "--block-size 1024 \\\n",
    "--warmup-ratio 0.1 \\\n",
    "--lora-r 16 \\\n",
    "--lora-alpha 32 \\\n",
    "--lora-dropout 0.05 \\\n",
    "--weight-decay 0.01 \\\n",
    "--gradient-accumulation 8 \\\n",
    "--mixed-precision fp16 \\\n",
    "--quantization int4 \\\n",
    "--trainer sft"
   ]
  },
  {
   "cell_type": "markdown",
   "metadata": {},
   "source": [
    "## 예제 6.11. LoRA 어댑터 결합 및 허깅페이스 허브 업로드"
   ]
  },
  {
   "cell_type": "code",
   "execution_count": 22,
   "metadata": {},
   "outputs": [
    {
     "name": "stdout",
     "output_type": "stream",
     "text": [
      "The token has not been saved to the git credentials helper. Pass `add_to_git_credential=True` in this function directly or `--add-to-git-credential` if using via `huggingface-cli` if you want to set the git credential as well.\n",
      "Token is valid (permission: write).\n",
      "Your token has been saved to /root/.cache/huggingface/token\n",
      "Login successful\n"
     ]
    },
    {
     "data": {
      "text/plain": [
       "RepoUrl('https://huggingface.co/wooseok0303/gemma-ko-2b-text2sql', endpoint='https://huggingface.co', repo_type='model', repo_id='wooseok0303/gemma-ko-2b-text2sql')"
      ]
     },
     "execution_count": 22,
     "metadata": {},
     "output_type": "execute_result"
    }
   ],
   "source": [
    "from huggingface_hub import login\n",
    "from huggingface_hub import create_repo\n",
    "\n",
    "login(token=os.getenv(\"HuggingFace_API_KEY\"))\n",
    "repo_id = \"wooseok0303/gemma-ko-2b-text2sql\"\n",
    "create_repo(repo_id, private=True)  # private=False for public repo\n",
    "# # Trainer를 사용한 경우\n",
    "# gen_sqls.push_to_hub(repo_id)\n",
    "# # 직접 학습한 경우\n",
    "# gen_sqls.push_to_hub(repo_id)\n",
    "# tokenizer.push_to_hub(repo_id)"
   ]
  },
  {
   "cell_type": "code",
   "execution_count": 23,
   "metadata": {},
   "outputs": [
    {
     "name": "stderr",
     "output_type": "stream",
     "text": [
      "/opt/venv/py311/lib/python3.11/site-packages/transformers/utils/hub.py:128: FutureWarning: Using `TRANSFORMERS_CACHE` is deprecated and will be removed in v5 of Transformers. Use `HF_HOME` instead.\n",
      "  warnings.warn(\n"
     ]
    },
    {
     "data": {
      "application/vnd.jupyter.widget-view+json": {
       "model_id": "9063ece3cf4743bcb7e8292ad5fd1981",
       "version_major": 2,
       "version_minor": 0
      },
      "text/plain": [
       "Downloading shards:   0%|          | 0/2 [00:00<?, ?it/s]"
      ]
     },
     "metadata": {},
     "output_type": "display_data"
    },
    {
     "name": "stderr",
     "output_type": "stream",
     "text": [
      "/opt/venv/py311/lib/python3.11/site-packages/huggingface_hub/file_download.py:983: UserWarning: Not enough free disk space to download the file. The expected file size is: 4945.24 MB. The target location /root/.cache/huggingface/models--beomi--gemma-ko-2b/blobs only has 0.00 MB free disk space.\n",
      "  warnings.warn(\n"
     ]
    },
    {
     "data": {
      "application/vnd.jupyter.widget-view+json": {
       "model_id": "eb16a09e5bc74eda9d604d00bc474d1a",
       "version_major": 2,
       "version_minor": 0
      },
      "text/plain": [
       "model-00001-of-00002.safetensors:  81%|########  | 3.99G/4.95G [00:00<?, ?B/s]"
      ]
     },
     "metadata": {},
     "output_type": "display_data"
    },
    {
     "ename": "OSError",
     "evalue": "[Errno 28] No space left on device",
     "output_type": "error",
     "traceback": [
      "\u001b[0;31m---------------------------------------------------------------------------\u001b[0m",
      "\u001b[0;31mOSError\u001b[0m                                   Traceback (most recent call last)",
      "Cell \u001b[0;32mIn[23], line 11\u001b[0m\n\u001b[1;32m      8\u001b[0m device_map \u001b[38;5;241m=\u001b[39m {\u001b[38;5;124m\"\u001b[39m\u001b[38;5;124m\"\u001b[39m: \u001b[38;5;241m0\u001b[39m}\n\u001b[1;32m     10\u001b[0m \u001b[38;5;66;03m# 기본 모델 로드\u001b[39;00m\n\u001b[0;32m---> 11\u001b[0m base_model \u001b[38;5;241m=\u001b[39m \u001b[43mAutoModelForCausalLM\u001b[49m\u001b[38;5;241;43m.\u001b[39;49m\u001b[43mfrom_pretrained\u001b[49m\u001b[43m(\u001b[49m\n\u001b[1;32m     12\u001b[0m \u001b[43m    \u001b[49m\u001b[43mmodel_name\u001b[49m\u001b[43m,\u001b[49m\n\u001b[1;32m     13\u001b[0m \u001b[43m    \u001b[49m\u001b[43mlow_cpu_mem_usage\u001b[49m\u001b[38;5;241;43m=\u001b[39;49m\u001b[38;5;28;43;01mTrue\u001b[39;49;00m\u001b[43m,\u001b[49m\n\u001b[1;32m     14\u001b[0m \u001b[43m    \u001b[49m\u001b[43mreturn_dict\u001b[49m\u001b[38;5;241;43m=\u001b[39;49m\u001b[38;5;28;43;01mTrue\u001b[39;49;00m\u001b[43m,\u001b[49m\n\u001b[1;32m     15\u001b[0m \u001b[43m    \u001b[49m\u001b[43mtorch_dtype\u001b[49m\u001b[38;5;241;43m=\u001b[39;49m\u001b[43mtorch\u001b[49m\u001b[38;5;241;43m.\u001b[39;49m\u001b[43mfloat16\u001b[49m\u001b[43m,\u001b[49m\n\u001b[1;32m     16\u001b[0m \u001b[43m    \u001b[49m\u001b[43mdevice_map\u001b[49m\u001b[38;5;241;43m=\u001b[39;49m\u001b[43mdevice_map\u001b[49m\u001b[43m,\u001b[49m\n\u001b[1;32m     17\u001b[0m \u001b[43m)\u001b[49m\n\u001b[1;32m     19\u001b[0m \u001b[38;5;66;03m# LoRA 모델 로드\u001b[39;00m\n\u001b[1;32m     20\u001b[0m model \u001b[38;5;241m=\u001b[39m PeftModel\u001b[38;5;241m.\u001b[39mfrom_pretrained(base_model, finetuned_model)\n",
      "File \u001b[0;32m/opt/venv/py311/lib/python3.11/site-packages/transformers/models/auto/auto_factory.py:564\u001b[0m, in \u001b[0;36m_BaseAutoModelClass.from_pretrained\u001b[0;34m(cls, pretrained_model_name_or_path, *model_args, **kwargs)\u001b[0m\n\u001b[1;32m    562\u001b[0m \u001b[38;5;28;01melif\u001b[39;00m \u001b[38;5;28mtype\u001b[39m(config) \u001b[38;5;129;01min\u001b[39;00m \u001b[38;5;28mcls\u001b[39m\u001b[38;5;241m.\u001b[39m_model_mapping\u001b[38;5;241m.\u001b[39mkeys():\n\u001b[1;32m    563\u001b[0m     model_class \u001b[38;5;241m=\u001b[39m _get_model_class(config, \u001b[38;5;28mcls\u001b[39m\u001b[38;5;241m.\u001b[39m_model_mapping)\n\u001b[0;32m--> 564\u001b[0m     \u001b[38;5;28;01mreturn\u001b[39;00m \u001b[43mmodel_class\u001b[49m\u001b[38;5;241;43m.\u001b[39;49m\u001b[43mfrom_pretrained\u001b[49m\u001b[43m(\u001b[49m\n\u001b[1;32m    565\u001b[0m \u001b[43m        \u001b[49m\u001b[43mpretrained_model_name_or_path\u001b[49m\u001b[43m,\u001b[49m\u001b[43m \u001b[49m\u001b[38;5;241;43m*\u001b[39;49m\u001b[43mmodel_args\u001b[49m\u001b[43m,\u001b[49m\u001b[43m \u001b[49m\u001b[43mconfig\u001b[49m\u001b[38;5;241;43m=\u001b[39;49m\u001b[43mconfig\u001b[49m\u001b[43m,\u001b[49m\u001b[43m \u001b[49m\u001b[38;5;241;43m*\u001b[39;49m\u001b[38;5;241;43m*\u001b[39;49m\u001b[43mhub_kwargs\u001b[49m\u001b[43m,\u001b[49m\u001b[43m \u001b[49m\u001b[38;5;241;43m*\u001b[39;49m\u001b[38;5;241;43m*\u001b[39;49m\u001b[43mkwargs\u001b[49m\n\u001b[1;32m    566\u001b[0m \u001b[43m    \u001b[49m\u001b[43m)\u001b[49m\n\u001b[1;32m    567\u001b[0m \u001b[38;5;28;01mraise\u001b[39;00m \u001b[38;5;167;01mValueError\u001b[39;00m(\n\u001b[1;32m    568\u001b[0m     \u001b[38;5;124mf\u001b[39m\u001b[38;5;124m\"\u001b[39m\u001b[38;5;124mUnrecognized configuration class \u001b[39m\u001b[38;5;132;01m{\u001b[39;00mconfig\u001b[38;5;241m.\u001b[39m\u001b[38;5;18m__class__\u001b[39m\u001b[38;5;132;01m}\u001b[39;00m\u001b[38;5;124m for this kind of AutoModel: \u001b[39m\u001b[38;5;132;01m{\u001b[39;00m\u001b[38;5;28mcls\u001b[39m\u001b[38;5;241m.\u001b[39m\u001b[38;5;18m__name__\u001b[39m\u001b[38;5;132;01m}\u001b[39;00m\u001b[38;5;124m.\u001b[39m\u001b[38;5;130;01m\\n\u001b[39;00m\u001b[38;5;124m\"\u001b[39m\n\u001b[1;32m    569\u001b[0m     \u001b[38;5;124mf\u001b[39m\u001b[38;5;124m\"\u001b[39m\u001b[38;5;124mModel type should be one of \u001b[39m\u001b[38;5;132;01m{\u001b[39;00m\u001b[38;5;124m'\u001b[39m\u001b[38;5;124m, \u001b[39m\u001b[38;5;124m'\u001b[39m\u001b[38;5;241m.\u001b[39mjoin(c\u001b[38;5;241m.\u001b[39m\u001b[38;5;18m__name__\u001b[39m\u001b[38;5;250m \u001b[39m\u001b[38;5;28;01mfor\u001b[39;00m\u001b[38;5;250m \u001b[39mc\u001b[38;5;250m \u001b[39m\u001b[38;5;129;01min\u001b[39;00m\u001b[38;5;250m \u001b[39m\u001b[38;5;28mcls\u001b[39m\u001b[38;5;241m.\u001b[39m_model_mapping\u001b[38;5;241m.\u001b[39mkeys())\u001b[38;5;132;01m}\u001b[39;00m\u001b[38;5;124m.\u001b[39m\u001b[38;5;124m\"\u001b[39m\n\u001b[1;32m    570\u001b[0m )\n",
      "File \u001b[0;32m/opt/venv/py311/lib/python3.11/site-packages/transformers/modeling_utils.py:3763\u001b[0m, in \u001b[0;36mPreTrainedModel.from_pretrained\u001b[0;34m(cls, pretrained_model_name_or_path, config, cache_dir, ignore_mismatched_sizes, force_download, local_files_only, token, revision, use_safetensors, *model_args, **kwargs)\u001b[0m\n\u001b[1;32m   3760\u001b[0m \u001b[38;5;66;03m# We'll need to download and cache each checkpoint shard if the checkpoint is sharded.\u001b[39;00m\n\u001b[1;32m   3761\u001b[0m \u001b[38;5;28;01mif\u001b[39;00m is_sharded:\n\u001b[1;32m   3762\u001b[0m     \u001b[38;5;66;03m# resolved_archive_file becomes a list of files that point to the different checkpoint shards in this case.\u001b[39;00m\n\u001b[0;32m-> 3763\u001b[0m     resolved_archive_file, sharded_metadata \u001b[38;5;241m=\u001b[39m \u001b[43mget_checkpoint_shard_files\u001b[49m\u001b[43m(\u001b[49m\n\u001b[1;32m   3764\u001b[0m \u001b[43m        \u001b[49m\u001b[43mpretrained_model_name_or_path\u001b[49m\u001b[43m,\u001b[49m\n\u001b[1;32m   3765\u001b[0m \u001b[43m        \u001b[49m\u001b[43mresolved_archive_file\u001b[49m\u001b[43m,\u001b[49m\n\u001b[1;32m   3766\u001b[0m \u001b[43m        \u001b[49m\u001b[43mcache_dir\u001b[49m\u001b[38;5;241;43m=\u001b[39;49m\u001b[43mcache_dir\u001b[49m\u001b[43m,\u001b[49m\n\u001b[1;32m   3767\u001b[0m \u001b[43m        \u001b[49m\u001b[43mforce_download\u001b[49m\u001b[38;5;241;43m=\u001b[39;49m\u001b[43mforce_download\u001b[49m\u001b[43m,\u001b[49m\n\u001b[1;32m   3768\u001b[0m \u001b[43m        \u001b[49m\u001b[43mproxies\u001b[49m\u001b[38;5;241;43m=\u001b[39;49m\u001b[43mproxies\u001b[49m\u001b[43m,\u001b[49m\n\u001b[1;32m   3769\u001b[0m \u001b[43m        \u001b[49m\u001b[43mresume_download\u001b[49m\u001b[38;5;241;43m=\u001b[39;49m\u001b[43mresume_download\u001b[49m\u001b[43m,\u001b[49m\n\u001b[1;32m   3770\u001b[0m \u001b[43m        \u001b[49m\u001b[43mlocal_files_only\u001b[49m\u001b[38;5;241;43m=\u001b[39;49m\u001b[43mlocal_files_only\u001b[49m\u001b[43m,\u001b[49m\n\u001b[1;32m   3771\u001b[0m \u001b[43m        \u001b[49m\u001b[43mtoken\u001b[49m\u001b[38;5;241;43m=\u001b[39;49m\u001b[43mtoken\u001b[49m\u001b[43m,\u001b[49m\n\u001b[1;32m   3772\u001b[0m \u001b[43m        \u001b[49m\u001b[43muser_agent\u001b[49m\u001b[38;5;241;43m=\u001b[39;49m\u001b[43muser_agent\u001b[49m\u001b[43m,\u001b[49m\n\u001b[1;32m   3773\u001b[0m \u001b[43m        \u001b[49m\u001b[43mrevision\u001b[49m\u001b[38;5;241;43m=\u001b[39;49m\u001b[43mrevision\u001b[49m\u001b[43m,\u001b[49m\n\u001b[1;32m   3774\u001b[0m \u001b[43m        \u001b[49m\u001b[43msubfolder\u001b[49m\u001b[38;5;241;43m=\u001b[39;49m\u001b[43msubfolder\u001b[49m\u001b[43m,\u001b[49m\n\u001b[1;32m   3775\u001b[0m \u001b[43m        \u001b[49m\u001b[43m_commit_hash\u001b[49m\u001b[38;5;241;43m=\u001b[39;49m\u001b[43mcommit_hash\u001b[49m\u001b[43m,\u001b[49m\n\u001b[1;32m   3776\u001b[0m \u001b[43m    \u001b[49m\u001b[43m)\u001b[49m\n\u001b[1;32m   3778\u001b[0m \u001b[38;5;28;01mif\u001b[39;00m (\n\u001b[1;32m   3779\u001b[0m     is_safetensors_available()\n\u001b[1;32m   3780\u001b[0m     \u001b[38;5;129;01mand\u001b[39;00m \u001b[38;5;28misinstance\u001b[39m(resolved_archive_file, \u001b[38;5;28mstr\u001b[39m)\n\u001b[1;32m   3781\u001b[0m     \u001b[38;5;129;01mand\u001b[39;00m resolved_archive_file\u001b[38;5;241m.\u001b[39mendswith(\u001b[38;5;124m\"\u001b[39m\u001b[38;5;124m.safetensors\u001b[39m\u001b[38;5;124m\"\u001b[39m)\n\u001b[1;32m   3782\u001b[0m ):\n\u001b[1;32m   3783\u001b[0m     \u001b[38;5;28;01mwith\u001b[39;00m safe_open(resolved_archive_file, framework\u001b[38;5;241m=\u001b[39m\u001b[38;5;124m\"\u001b[39m\u001b[38;5;124mpt\u001b[39m\u001b[38;5;124m\"\u001b[39m) \u001b[38;5;28;01mas\u001b[39;00m f:\n",
      "File \u001b[0;32m/opt/venv/py311/lib/python3.11/site-packages/transformers/utils/hub.py:1098\u001b[0m, in \u001b[0;36mget_checkpoint_shard_files\u001b[0;34m(pretrained_model_name_or_path, index_filename, cache_dir, force_download, proxies, resume_download, local_files_only, token, user_agent, revision, subfolder, _commit_hash, **deprecated_kwargs)\u001b[0m\n\u001b[1;32m   1095\u001b[0m \u001b[38;5;28;01mfor\u001b[39;00m shard_filename \u001b[38;5;129;01min\u001b[39;00m tqdm(shard_filenames, desc\u001b[38;5;241m=\u001b[39m\u001b[38;5;124m\"\u001b[39m\u001b[38;5;124mDownloading shards\u001b[39m\u001b[38;5;124m\"\u001b[39m, disable\u001b[38;5;241m=\u001b[39m\u001b[38;5;129;01mnot\u001b[39;00m show_progress_bar):\n\u001b[1;32m   1096\u001b[0m     \u001b[38;5;28;01mtry\u001b[39;00m:\n\u001b[1;32m   1097\u001b[0m         \u001b[38;5;66;03m# Load from URL\u001b[39;00m\n\u001b[0;32m-> 1098\u001b[0m         cached_filename \u001b[38;5;241m=\u001b[39m \u001b[43mcached_file\u001b[49m\u001b[43m(\u001b[49m\n\u001b[1;32m   1099\u001b[0m \u001b[43m            \u001b[49m\u001b[43mpretrained_model_name_or_path\u001b[49m\u001b[43m,\u001b[49m\n\u001b[1;32m   1100\u001b[0m \u001b[43m            \u001b[49m\u001b[43mshard_filename\u001b[49m\u001b[43m,\u001b[49m\n\u001b[1;32m   1101\u001b[0m \u001b[43m            \u001b[49m\u001b[43mcache_dir\u001b[49m\u001b[38;5;241;43m=\u001b[39;49m\u001b[43mcache_dir\u001b[49m\u001b[43m,\u001b[49m\n\u001b[1;32m   1102\u001b[0m \u001b[43m            \u001b[49m\u001b[43mforce_download\u001b[49m\u001b[38;5;241;43m=\u001b[39;49m\u001b[43mforce_download\u001b[49m\u001b[43m,\u001b[49m\n\u001b[1;32m   1103\u001b[0m \u001b[43m            \u001b[49m\u001b[43mproxies\u001b[49m\u001b[38;5;241;43m=\u001b[39;49m\u001b[43mproxies\u001b[49m\u001b[43m,\u001b[49m\n\u001b[1;32m   1104\u001b[0m \u001b[43m            \u001b[49m\u001b[43mresume_download\u001b[49m\u001b[38;5;241;43m=\u001b[39;49m\u001b[43mresume_download\u001b[49m\u001b[43m,\u001b[49m\n\u001b[1;32m   1105\u001b[0m \u001b[43m            \u001b[49m\u001b[43mlocal_files_only\u001b[49m\u001b[38;5;241;43m=\u001b[39;49m\u001b[43mlocal_files_only\u001b[49m\u001b[43m,\u001b[49m\n\u001b[1;32m   1106\u001b[0m \u001b[43m            \u001b[49m\u001b[43mtoken\u001b[49m\u001b[38;5;241;43m=\u001b[39;49m\u001b[43mtoken\u001b[49m\u001b[43m,\u001b[49m\n\u001b[1;32m   1107\u001b[0m \u001b[43m            \u001b[49m\u001b[43muser_agent\u001b[49m\u001b[38;5;241;43m=\u001b[39;49m\u001b[43muser_agent\u001b[49m\u001b[43m,\u001b[49m\n\u001b[1;32m   1108\u001b[0m \u001b[43m            \u001b[49m\u001b[43mrevision\u001b[49m\u001b[38;5;241;43m=\u001b[39;49m\u001b[43mrevision\u001b[49m\u001b[43m,\u001b[49m\n\u001b[1;32m   1109\u001b[0m \u001b[43m            \u001b[49m\u001b[43msubfolder\u001b[49m\u001b[38;5;241;43m=\u001b[39;49m\u001b[43msubfolder\u001b[49m\u001b[43m,\u001b[49m\n\u001b[1;32m   1110\u001b[0m \u001b[43m            \u001b[49m\u001b[43m_commit_hash\u001b[49m\u001b[38;5;241;43m=\u001b[39;49m\u001b[43m_commit_hash\u001b[49m\u001b[43m,\u001b[49m\n\u001b[1;32m   1111\u001b[0m \u001b[43m        \u001b[49m\u001b[43m)\u001b[49m\n\u001b[1;32m   1112\u001b[0m     \u001b[38;5;66;03m# We have already dealt with RepositoryNotFoundError and RevisionNotFoundError when getting the index, so\u001b[39;00m\n\u001b[1;32m   1113\u001b[0m     \u001b[38;5;66;03m# we don't have to catch them here.\u001b[39;00m\n\u001b[1;32m   1114\u001b[0m     \u001b[38;5;28;01mexcept\u001b[39;00m EntryNotFoundError:\n",
      "File \u001b[0;32m/opt/venv/py311/lib/python3.11/site-packages/transformers/utils/hub.py:403\u001b[0m, in \u001b[0;36mcached_file\u001b[0;34m(path_or_repo_id, filename, cache_dir, force_download, resume_download, proxies, token, revision, local_files_only, subfolder, repo_type, user_agent, _raise_exceptions_for_gated_repo, _raise_exceptions_for_missing_entries, _raise_exceptions_for_connection_errors, _commit_hash, **deprecated_kwargs)\u001b[0m\n\u001b[1;32m    400\u001b[0m user_agent \u001b[38;5;241m=\u001b[39m http_user_agent(user_agent)\n\u001b[1;32m    401\u001b[0m \u001b[38;5;28;01mtry\u001b[39;00m:\n\u001b[1;32m    402\u001b[0m     \u001b[38;5;66;03m# Load from URL or cache if already cached\u001b[39;00m\n\u001b[0;32m--> 403\u001b[0m     resolved_file \u001b[38;5;241m=\u001b[39m \u001b[43mhf_hub_download\u001b[49m\u001b[43m(\u001b[49m\n\u001b[1;32m    404\u001b[0m \u001b[43m        \u001b[49m\u001b[43mpath_or_repo_id\u001b[49m\u001b[43m,\u001b[49m\n\u001b[1;32m    405\u001b[0m \u001b[43m        \u001b[49m\u001b[43mfilename\u001b[49m\u001b[43m,\u001b[49m\n\u001b[1;32m    406\u001b[0m \u001b[43m        \u001b[49m\u001b[43msubfolder\u001b[49m\u001b[38;5;241;43m=\u001b[39;49m\u001b[38;5;28;43;01mNone\u001b[39;49;00m\u001b[43m \u001b[49m\u001b[38;5;28;43;01mif\u001b[39;49;00m\u001b[43m \u001b[49m\u001b[38;5;28;43mlen\u001b[39;49m\u001b[43m(\u001b[49m\u001b[43msubfolder\u001b[49m\u001b[43m)\u001b[49m\u001b[43m \u001b[49m\u001b[38;5;241;43m==\u001b[39;49m\u001b[43m \u001b[49m\u001b[38;5;241;43m0\u001b[39;49m\u001b[43m \u001b[49m\u001b[38;5;28;43;01melse\u001b[39;49;00m\u001b[43m \u001b[49m\u001b[43msubfolder\u001b[49m\u001b[43m,\u001b[49m\n\u001b[1;32m    407\u001b[0m \u001b[43m        \u001b[49m\u001b[43mrepo_type\u001b[49m\u001b[38;5;241;43m=\u001b[39;49m\u001b[43mrepo_type\u001b[49m\u001b[43m,\u001b[49m\n\u001b[1;32m    408\u001b[0m \u001b[43m        \u001b[49m\u001b[43mrevision\u001b[49m\u001b[38;5;241;43m=\u001b[39;49m\u001b[43mrevision\u001b[49m\u001b[43m,\u001b[49m\n\u001b[1;32m    409\u001b[0m \u001b[43m        \u001b[49m\u001b[43mcache_dir\u001b[49m\u001b[38;5;241;43m=\u001b[39;49m\u001b[43mcache_dir\u001b[49m\u001b[43m,\u001b[49m\n\u001b[1;32m    410\u001b[0m \u001b[43m        \u001b[49m\u001b[43muser_agent\u001b[49m\u001b[38;5;241;43m=\u001b[39;49m\u001b[43muser_agent\u001b[49m\u001b[43m,\u001b[49m\n\u001b[1;32m    411\u001b[0m \u001b[43m        \u001b[49m\u001b[43mforce_download\u001b[49m\u001b[38;5;241;43m=\u001b[39;49m\u001b[43mforce_download\u001b[49m\u001b[43m,\u001b[49m\n\u001b[1;32m    412\u001b[0m \u001b[43m        \u001b[49m\u001b[43mproxies\u001b[49m\u001b[38;5;241;43m=\u001b[39;49m\u001b[43mproxies\u001b[49m\u001b[43m,\u001b[49m\n\u001b[1;32m    413\u001b[0m \u001b[43m        \u001b[49m\u001b[43mresume_download\u001b[49m\u001b[38;5;241;43m=\u001b[39;49m\u001b[43mresume_download\u001b[49m\u001b[43m,\u001b[49m\n\u001b[1;32m    414\u001b[0m \u001b[43m        \u001b[49m\u001b[43mtoken\u001b[49m\u001b[38;5;241;43m=\u001b[39;49m\u001b[43mtoken\u001b[49m\u001b[43m,\u001b[49m\n\u001b[1;32m    415\u001b[0m \u001b[43m        \u001b[49m\u001b[43mlocal_files_only\u001b[49m\u001b[38;5;241;43m=\u001b[39;49m\u001b[43mlocal_files_only\u001b[49m\u001b[43m,\u001b[49m\n\u001b[1;32m    416\u001b[0m \u001b[43m    \u001b[49m\u001b[43m)\u001b[49m\n\u001b[1;32m    417\u001b[0m \u001b[38;5;28;01mexcept\u001b[39;00m GatedRepoError \u001b[38;5;28;01mas\u001b[39;00m e:\n\u001b[1;32m    418\u001b[0m     resolved_file \u001b[38;5;241m=\u001b[39m _get_cache_file_to_return(path_or_repo_id, full_filename, cache_dir, revision)\n",
      "File \u001b[0;32m/opt/venv/py311/lib/python3.11/site-packages/huggingface_hub/utils/_deprecation.py:101\u001b[0m, in \u001b[0;36m_deprecate_arguments.<locals>._inner_deprecate_positional_args.<locals>.inner_f\u001b[0;34m(*args, **kwargs)\u001b[0m\n\u001b[1;32m     99\u001b[0m         message \u001b[38;5;241m+\u001b[39m\u001b[38;5;241m=\u001b[39m \u001b[38;5;124m\"\u001b[39m\u001b[38;5;130;01m\\n\u001b[39;00m\u001b[38;5;130;01m\\n\u001b[39;00m\u001b[38;5;124m\"\u001b[39m \u001b[38;5;241m+\u001b[39m custom_message\n\u001b[1;32m    100\u001b[0m     warnings\u001b[38;5;241m.\u001b[39mwarn(message, \u001b[38;5;167;01mFutureWarning\u001b[39;00m)\n\u001b[0;32m--> 101\u001b[0m \u001b[38;5;28;01mreturn\u001b[39;00m \u001b[43mf\u001b[49m\u001b[43m(\u001b[49m\u001b[38;5;241;43m*\u001b[39;49m\u001b[43margs\u001b[49m\u001b[43m,\u001b[49m\u001b[43m \u001b[49m\u001b[38;5;241;43m*\u001b[39;49m\u001b[38;5;241;43m*\u001b[39;49m\u001b[43mkwargs\u001b[49m\u001b[43m)\u001b[49m\n",
      "File \u001b[0;32m/opt/venv/py311/lib/python3.11/site-packages/huggingface_hub/utils/_validators.py:114\u001b[0m, in \u001b[0;36mvalidate_hf_hub_args.<locals>._inner_fn\u001b[0;34m(*args, **kwargs)\u001b[0m\n\u001b[1;32m    111\u001b[0m \u001b[38;5;28;01mif\u001b[39;00m check_use_auth_token:\n\u001b[1;32m    112\u001b[0m     kwargs \u001b[38;5;241m=\u001b[39m smoothly_deprecate_use_auth_token(fn_name\u001b[38;5;241m=\u001b[39mfn\u001b[38;5;241m.\u001b[39m\u001b[38;5;18m__name__\u001b[39m, has_token\u001b[38;5;241m=\u001b[39mhas_token, kwargs\u001b[38;5;241m=\u001b[39mkwargs)\n\u001b[0;32m--> 114\u001b[0m \u001b[38;5;28;01mreturn\u001b[39;00m \u001b[43mfn\u001b[49m\u001b[43m(\u001b[49m\u001b[38;5;241;43m*\u001b[39;49m\u001b[43margs\u001b[49m\u001b[43m,\u001b[49m\u001b[43m \u001b[49m\u001b[38;5;241;43m*\u001b[39;49m\u001b[38;5;241;43m*\u001b[39;49m\u001b[43mkwargs\u001b[49m\u001b[43m)\u001b[49m\n",
      "File \u001b[0;32m/opt/venv/py311/lib/python3.11/site-packages/huggingface_hub/file_download.py:1232\u001b[0m, in \u001b[0;36mhf_hub_download\u001b[0;34m(repo_id, filename, subfolder, repo_type, revision, library_name, library_version, cache_dir, local_dir, user_agent, force_download, proxies, etag_timeout, token, local_files_only, headers, endpoint, legacy_cache_layout, resume_download, force_filename, local_dir_use_symlinks)\u001b[0m\n\u001b[1;32m   1212\u001b[0m     \u001b[38;5;28;01mreturn\u001b[39;00m _hf_hub_download_to_local_dir(\n\u001b[1;32m   1213\u001b[0m         \u001b[38;5;66;03m# Destination\u001b[39;00m\n\u001b[1;32m   1214\u001b[0m         local_dir\u001b[38;5;241m=\u001b[39mlocal_dir,\n\u001b[0;32m   (...)\u001b[0m\n\u001b[1;32m   1229\u001b[0m         local_files_only\u001b[38;5;241m=\u001b[39mlocal_files_only,\n\u001b[1;32m   1230\u001b[0m     )\n\u001b[1;32m   1231\u001b[0m \u001b[38;5;28;01melse\u001b[39;00m:\n\u001b[0;32m-> 1232\u001b[0m     \u001b[38;5;28;01mreturn\u001b[39;00m \u001b[43m_hf_hub_download_to_cache_dir\u001b[49m\u001b[43m(\u001b[49m\n\u001b[1;32m   1233\u001b[0m \u001b[43m        \u001b[49m\u001b[38;5;66;43;03m# Destination\u001b[39;49;00m\n\u001b[1;32m   1234\u001b[0m \u001b[43m        \u001b[49m\u001b[43mcache_dir\u001b[49m\u001b[38;5;241;43m=\u001b[39;49m\u001b[43mcache_dir\u001b[49m\u001b[43m,\u001b[49m\n\u001b[1;32m   1235\u001b[0m \u001b[43m        \u001b[49m\u001b[38;5;66;43;03m# File info\u001b[39;49;00m\n\u001b[1;32m   1236\u001b[0m \u001b[43m        \u001b[49m\u001b[43mrepo_id\u001b[49m\u001b[38;5;241;43m=\u001b[39;49m\u001b[43mrepo_id\u001b[49m\u001b[43m,\u001b[49m\n\u001b[1;32m   1237\u001b[0m \u001b[43m        \u001b[49m\u001b[43mfilename\u001b[49m\u001b[38;5;241;43m=\u001b[39;49m\u001b[43mfilename\u001b[49m\u001b[43m,\u001b[49m\n\u001b[1;32m   1238\u001b[0m \u001b[43m        \u001b[49m\u001b[43mrepo_type\u001b[49m\u001b[38;5;241;43m=\u001b[39;49m\u001b[43mrepo_type\u001b[49m\u001b[43m,\u001b[49m\n\u001b[1;32m   1239\u001b[0m \u001b[43m        \u001b[49m\u001b[43mrevision\u001b[49m\u001b[38;5;241;43m=\u001b[39;49m\u001b[43mrevision\u001b[49m\u001b[43m,\u001b[49m\n\u001b[1;32m   1240\u001b[0m \u001b[43m        \u001b[49m\u001b[38;5;66;43;03m# HTTP info\u001b[39;49;00m\n\u001b[1;32m   1241\u001b[0m \u001b[43m        \u001b[49m\u001b[43mendpoint\u001b[49m\u001b[38;5;241;43m=\u001b[39;49m\u001b[43mendpoint\u001b[49m\u001b[43m,\u001b[49m\n\u001b[1;32m   1242\u001b[0m \u001b[43m        \u001b[49m\u001b[43metag_timeout\u001b[49m\u001b[38;5;241;43m=\u001b[39;49m\u001b[43metag_timeout\u001b[49m\u001b[43m,\u001b[49m\n\u001b[1;32m   1243\u001b[0m \u001b[43m        \u001b[49m\u001b[43mheaders\u001b[49m\u001b[38;5;241;43m=\u001b[39;49m\u001b[43mheaders\u001b[49m\u001b[43m,\u001b[49m\n\u001b[1;32m   1244\u001b[0m \u001b[43m        \u001b[49m\u001b[43mproxies\u001b[49m\u001b[38;5;241;43m=\u001b[39;49m\u001b[43mproxies\u001b[49m\u001b[43m,\u001b[49m\n\u001b[1;32m   1245\u001b[0m \u001b[43m        \u001b[49m\u001b[43mtoken\u001b[49m\u001b[38;5;241;43m=\u001b[39;49m\u001b[43mtoken\u001b[49m\u001b[43m,\u001b[49m\n\u001b[1;32m   1246\u001b[0m \u001b[43m        \u001b[49m\u001b[38;5;66;43;03m# Additional options\u001b[39;49;00m\n\u001b[1;32m   1247\u001b[0m \u001b[43m        \u001b[49m\u001b[43mlocal_files_only\u001b[49m\u001b[38;5;241;43m=\u001b[39;49m\u001b[43mlocal_files_only\u001b[49m\u001b[43m,\u001b[49m\n\u001b[1;32m   1248\u001b[0m \u001b[43m        \u001b[49m\u001b[43mforce_download\u001b[49m\u001b[38;5;241;43m=\u001b[39;49m\u001b[43mforce_download\u001b[49m\u001b[43m,\u001b[49m\n\u001b[1;32m   1249\u001b[0m \u001b[43m    \u001b[49m\u001b[43m)\u001b[49m\n",
      "File \u001b[0;32m/opt/venv/py311/lib/python3.11/site-packages/huggingface_hub/file_download.py:1381\u001b[0m, in \u001b[0;36m_hf_hub_download_to_cache_dir\u001b[0;34m(cache_dir, repo_id, filename, repo_type, revision, endpoint, etag_timeout, headers, proxies, token, local_files_only, force_download)\u001b[0m\n\u001b[1;32m   1379\u001b[0m Path(lock_path)\u001b[38;5;241m.\u001b[39mparent\u001b[38;5;241m.\u001b[39mmkdir(parents\u001b[38;5;241m=\u001b[39m\u001b[38;5;28;01mTrue\u001b[39;00m, exist_ok\u001b[38;5;241m=\u001b[39m\u001b[38;5;28;01mTrue\u001b[39;00m)\n\u001b[1;32m   1380\u001b[0m \u001b[38;5;28;01mwith\u001b[39;00m WeakFileLock(lock_path):\n\u001b[0;32m-> 1381\u001b[0m     \u001b[43m_download_to_tmp_and_move\u001b[49m\u001b[43m(\u001b[49m\n\u001b[1;32m   1382\u001b[0m \u001b[43m        \u001b[49m\u001b[43mincomplete_path\u001b[49m\u001b[38;5;241;43m=\u001b[39;49m\u001b[43mPath\u001b[49m\u001b[43m(\u001b[49m\u001b[43mblob_path\u001b[49m\u001b[43m \u001b[49m\u001b[38;5;241;43m+\u001b[39;49m\u001b[43m \u001b[49m\u001b[38;5;124;43m\"\u001b[39;49m\u001b[38;5;124;43m.incomplete\u001b[39;49m\u001b[38;5;124;43m\"\u001b[39;49m\u001b[43m)\u001b[49m\u001b[43m,\u001b[49m\n\u001b[1;32m   1383\u001b[0m \u001b[43m        \u001b[49m\u001b[43mdestination_path\u001b[49m\u001b[38;5;241;43m=\u001b[39;49m\u001b[43mPath\u001b[49m\u001b[43m(\u001b[49m\u001b[43mblob_path\u001b[49m\u001b[43m)\u001b[49m\u001b[43m,\u001b[49m\n\u001b[1;32m   1384\u001b[0m \u001b[43m        \u001b[49m\u001b[43murl_to_download\u001b[49m\u001b[38;5;241;43m=\u001b[39;49m\u001b[43murl_to_download\u001b[49m\u001b[43m,\u001b[49m\n\u001b[1;32m   1385\u001b[0m \u001b[43m        \u001b[49m\u001b[43mproxies\u001b[49m\u001b[38;5;241;43m=\u001b[39;49m\u001b[43mproxies\u001b[49m\u001b[43m,\u001b[49m\n\u001b[1;32m   1386\u001b[0m \u001b[43m        \u001b[49m\u001b[43mheaders\u001b[49m\u001b[38;5;241;43m=\u001b[39;49m\u001b[43mheaders\u001b[49m\u001b[43m,\u001b[49m\n\u001b[1;32m   1387\u001b[0m \u001b[43m        \u001b[49m\u001b[43mexpected_size\u001b[49m\u001b[38;5;241;43m=\u001b[39;49m\u001b[43mexpected_size\u001b[49m\u001b[43m,\u001b[49m\n\u001b[1;32m   1388\u001b[0m \u001b[43m        \u001b[49m\u001b[43mfilename\u001b[49m\u001b[38;5;241;43m=\u001b[39;49m\u001b[43mfilename\u001b[49m\u001b[43m,\u001b[49m\n\u001b[1;32m   1389\u001b[0m \u001b[43m        \u001b[49m\u001b[43mforce_download\u001b[49m\u001b[38;5;241;43m=\u001b[39;49m\u001b[43mforce_download\u001b[49m\u001b[43m,\u001b[49m\n\u001b[1;32m   1390\u001b[0m \u001b[43m    \u001b[49m\u001b[43m)\u001b[49m\n\u001b[1;32m   1391\u001b[0m     \u001b[38;5;28;01mif\u001b[39;00m \u001b[38;5;129;01mnot\u001b[39;00m os\u001b[38;5;241m.\u001b[39mpath\u001b[38;5;241m.\u001b[39mexists(pointer_path):\n\u001b[1;32m   1392\u001b[0m         _create_symlink(blob_path, pointer_path, new_blob\u001b[38;5;241m=\u001b[39m\u001b[38;5;28;01mTrue\u001b[39;00m)\n",
      "File \u001b[0;32m/opt/venv/py311/lib/python3.11/site-packages/huggingface_hub/file_download.py:1915\u001b[0m, in \u001b[0;36m_download_to_tmp_and_move\u001b[0;34m(incomplete_path, destination_path, url_to_download, proxies, headers, expected_size, filename, force_download)\u001b[0m\n\u001b[1;32m   1912\u001b[0m         _check_disk_space(expected_size, incomplete_path\u001b[38;5;241m.\u001b[39mparent)\n\u001b[1;32m   1913\u001b[0m         _check_disk_space(expected_size, destination_path\u001b[38;5;241m.\u001b[39mparent)\n\u001b[0;32m-> 1915\u001b[0m     \u001b[43mhttp_get\u001b[49m\u001b[43m(\u001b[49m\n\u001b[1;32m   1916\u001b[0m \u001b[43m        \u001b[49m\u001b[43murl_to_download\u001b[49m\u001b[43m,\u001b[49m\n\u001b[1;32m   1917\u001b[0m \u001b[43m        \u001b[49m\u001b[43mf\u001b[49m\u001b[43m,\u001b[49m\n\u001b[1;32m   1918\u001b[0m \u001b[43m        \u001b[49m\u001b[43mproxies\u001b[49m\u001b[38;5;241;43m=\u001b[39;49m\u001b[43mproxies\u001b[49m\u001b[43m,\u001b[49m\n\u001b[1;32m   1919\u001b[0m \u001b[43m        \u001b[49m\u001b[43mresume_size\u001b[49m\u001b[38;5;241;43m=\u001b[39;49m\u001b[43mresume_size\u001b[49m\u001b[43m,\u001b[49m\n\u001b[1;32m   1920\u001b[0m \u001b[43m        \u001b[49m\u001b[43mheaders\u001b[49m\u001b[38;5;241;43m=\u001b[39;49m\u001b[43mheaders\u001b[49m\u001b[43m,\u001b[49m\n\u001b[1;32m   1921\u001b[0m \u001b[43m        \u001b[49m\u001b[43mexpected_size\u001b[49m\u001b[38;5;241;43m=\u001b[39;49m\u001b[43mexpected_size\u001b[49m\u001b[43m,\u001b[49m\n\u001b[1;32m   1922\u001b[0m \u001b[43m    \u001b[49m\u001b[43m)\u001b[49m\n\u001b[1;32m   1924\u001b[0m logger\u001b[38;5;241m.\u001b[39minfo(\u001b[38;5;124mf\u001b[39m\u001b[38;5;124m\"\u001b[39m\u001b[38;5;124mDownload complete. Moving file to \u001b[39m\u001b[38;5;132;01m{\u001b[39;00mdestination_path\u001b[38;5;132;01m}\u001b[39;00m\u001b[38;5;124m\"\u001b[39m)\n\u001b[1;32m   1925\u001b[0m _chmod_and_move(incomplete_path, destination_path)\n",
      "File \u001b[0;32m/opt/venv/py311/lib/python3.11/site-packages/huggingface_hub/file_download.py:544\u001b[0m, in \u001b[0;36mhttp_get\u001b[0;34m(url, temp_file, proxies, resume_size, headers, expected_size, displayed_filename, _nb_retries, _tqdm_bar)\u001b[0m\n\u001b[1;32m    542\u001b[0m \u001b[38;5;28;01mif\u001b[39;00m chunk:  \u001b[38;5;66;03m# filter out keep-alive new chunks\u001b[39;00m\n\u001b[1;32m    543\u001b[0m     progress\u001b[38;5;241m.\u001b[39mupdate(\u001b[38;5;28mlen\u001b[39m(chunk))\n\u001b[0;32m--> 544\u001b[0m     \u001b[43mtemp_file\u001b[49m\u001b[38;5;241;43m.\u001b[39;49m\u001b[43mwrite\u001b[49m\u001b[43m(\u001b[49m\u001b[43mchunk\u001b[49m\u001b[43m)\u001b[49m\n\u001b[1;32m    545\u001b[0m     new_resume_size \u001b[38;5;241m+\u001b[39m\u001b[38;5;241m=\u001b[39m \u001b[38;5;28mlen\u001b[39m(chunk)\n\u001b[1;32m    546\u001b[0m     \u001b[38;5;66;03m# Some data has been downloaded from the server so we reset the number of retries.\u001b[39;00m\n",
      "\u001b[0;31mOSError\u001b[0m: [Errno 28] No space left on device"
     ]
    }
   ],
   "source": [
    "import torch\n",
    "from transformers import AutoModelForCausalLM, AutoTokenizer\n",
    "from peft import LoraConfig, PeftModel\n",
    "\n",
    "base_model = 'beomi/gemma-ko-2b'\n",
    "model_name = base_model\n",
    "finetuned_model = \"./gemma-ko-2b-text2sql\"  # 또는 실제 저장된 로컬 경로\n",
    "device_map = {\"\": 0}\n",
    "\n",
    "# 기본 모델 로드\n",
    "base_model = AutoModelForCausalLM.from_pretrained(\n",
    "    model_name,\n",
    "    low_cpu_mem_usage=True,\n",
    "    return_dict=True,\n",
    "    torch_dtype=torch.float16,\n",
    "    device_map=device_map,\n",
    ")\n",
    "\n",
    "# LoRA 모델 로드\n",
    "model = PeftModel.from_pretrained(base_model, finetuned_model)\n",
    "model = model.merge_and_unload()\n",
    "\n",
    "# 토크나이저 설정\n",
    "tokenizer = AutoTokenizer.from_pretrained(model_name, trust_remote_code=True)\n",
    "tokenizer.pad_token = tokenizer.eos_token\n",
    "tokenizer.padding_side = \"right\"\n",
    "\n",
    "# Hugging Face Hub에 업로드 (your-username을 실제 사용자명으로 변경)\n",
    "model.push_to_hub(\"wooseok0303/gemma-ko-2b-text2sql\", use_temp_dir=False)\n",
    "tokenizer.push_to_hub(\"wooseok0303/gemma-ko-2b-text2sql\", use_temp_dir=False)"
   ]
  },
  {
   "cell_type": "code",
   "execution_count": null,
   "metadata": {},
   "outputs": [],
   "source": []
  },
  {
   "cell_type": "code",
   "execution_count": null,
   "metadata": {},
   "outputs": [],
   "source": []
  },
  {
   "cell_type": "code",
   "execution_count": 10,
   "metadata": {
    "id": "liLEbS40uVy_",
    "scrolled": true,
    "tags": []
   },
   "outputs": [
    {
     "data": {
      "application/vnd.jupyter.widget-view+json": {
       "model_id": "ed36b6c33ac24a67a046ca204e47da50",
       "version_major": 2,
       "version_minor": 0
      },
      "text/plain": [
       "Downloading shards:   0%|          | 0/5 [00:00<?, ?it/s]"
      ]
     },
     "metadata": {},
     "output_type": "display_data"
    },
    {
     "data": {
      "application/vnd.jupyter.widget-view+json": {
       "model_id": "fa5efb045a4a4ee5b1e072ee9419ba58",
       "version_major": 2,
       "version_minor": 0
      },
      "text/plain": [
       "Loading checkpoint shards:   0%|          | 0/5 [00:00<?, ?it/s]"
      ]
     },
     "metadata": {},
     "output_type": "display_data"
    },
    {
     "ename": "ValueError",
     "evalue": "Can't find 'adapter_config.json' at 'yi-ko-6b-text2sql'",
     "output_type": "error",
     "traceback": [
      "\u001b[0;31m---------------------------------------------------------------------------\u001b[0m",
      "\u001b[0;31mHTTPError\u001b[0m                                 Traceback (most recent call last)",
      "File \u001b[0;32m/opt/venv/py311/lib/python3.11/site-packages/huggingface_hub/utils/_http.py:406\u001b[0m, in \u001b[0;36mhf_raise_for_status\u001b[0;34m(response, endpoint_name)\u001b[0m\n\u001b[1;32m    405\u001b[0m \u001b[38;5;28;01mtry\u001b[39;00m:\n\u001b[0;32m--> 406\u001b[0m     \u001b[43mresponse\u001b[49m\u001b[38;5;241;43m.\u001b[39;49m\u001b[43mraise_for_status\u001b[49m\u001b[43m(\u001b[49m\u001b[43m)\u001b[49m\n\u001b[1;32m    407\u001b[0m \u001b[38;5;28;01mexcept\u001b[39;00m HTTPError \u001b[38;5;28;01mas\u001b[39;00m e:\n",
      "File \u001b[0;32m/opt/venv/py311/lib/python3.11/site-packages/requests/models.py:1021\u001b[0m, in \u001b[0;36mResponse.raise_for_status\u001b[0;34m(self)\u001b[0m\n\u001b[1;32m   1020\u001b[0m \u001b[38;5;28;01mif\u001b[39;00m http_error_msg:\n\u001b[0;32m-> 1021\u001b[0m     \u001b[38;5;28;01mraise\u001b[39;00m HTTPError(http_error_msg, response\u001b[38;5;241m=\u001b[39m\u001b[38;5;28mself\u001b[39m)\n",
      "\u001b[0;31mHTTPError\u001b[0m: 404 Client Error: Not Found for url: https://huggingface.co/yi-ko-6b-text2sql/resolve/main/adapter_config.json",
      "\nThe above exception was the direct cause of the following exception:\n",
      "\u001b[0;31mRepositoryNotFoundError\u001b[0m                   Traceback (most recent call last)",
      "File \u001b[0;32m/opt/venv/py311/lib/python3.11/site-packages/peft/config.py:205\u001b[0m, in \u001b[0;36mPeftConfigMixin._get_peft_type\u001b[0;34m(cls, model_id, **hf_hub_download_kwargs)\u001b[0m\n\u001b[1;32m    204\u001b[0m \u001b[38;5;28;01mtry\u001b[39;00m:\n\u001b[0;32m--> 205\u001b[0m     config_file \u001b[38;5;241m=\u001b[39m \u001b[43mhf_hub_download\u001b[49m\u001b[43m(\u001b[49m\n\u001b[1;32m    206\u001b[0m \u001b[43m        \u001b[49m\u001b[43mmodel_id\u001b[49m\u001b[43m,\u001b[49m\n\u001b[1;32m    207\u001b[0m \u001b[43m        \u001b[49m\u001b[43mCONFIG_NAME\u001b[49m\u001b[43m,\u001b[49m\n\u001b[1;32m    208\u001b[0m \u001b[43m        \u001b[49m\u001b[38;5;241;43m*\u001b[39;49m\u001b[38;5;241;43m*\u001b[39;49m\u001b[43mhf_hub_download_kwargs\u001b[49m\u001b[43m,\u001b[49m\n\u001b[1;32m    209\u001b[0m \u001b[43m    \u001b[49m\u001b[43m)\u001b[49m\n\u001b[1;32m    210\u001b[0m \u001b[38;5;28;01mexcept\u001b[39;00m \u001b[38;5;167;01mException\u001b[39;00m:\n",
      "File \u001b[0;32m/opt/venv/py311/lib/python3.11/site-packages/huggingface_hub/utils/_deprecation.py:101\u001b[0m, in \u001b[0;36m_deprecate_arguments.<locals>._inner_deprecate_positional_args.<locals>.inner_f\u001b[0;34m(*args, **kwargs)\u001b[0m\n\u001b[1;32m    100\u001b[0m     warnings\u001b[38;5;241m.\u001b[39mwarn(message, \u001b[38;5;167;01mFutureWarning\u001b[39;00m)\n\u001b[0;32m--> 101\u001b[0m \u001b[38;5;28;01mreturn\u001b[39;00m \u001b[43mf\u001b[49m\u001b[43m(\u001b[49m\u001b[38;5;241;43m*\u001b[39;49m\u001b[43margs\u001b[49m\u001b[43m,\u001b[49m\u001b[43m \u001b[49m\u001b[38;5;241;43m*\u001b[39;49m\u001b[38;5;241;43m*\u001b[39;49m\u001b[43mkwargs\u001b[49m\u001b[43m)\u001b[49m\n",
      "File \u001b[0;32m/opt/venv/py311/lib/python3.11/site-packages/huggingface_hub/utils/_validators.py:114\u001b[0m, in \u001b[0;36mvalidate_hf_hub_args.<locals>._inner_fn\u001b[0;34m(*args, **kwargs)\u001b[0m\n\u001b[1;32m    112\u001b[0m     kwargs \u001b[38;5;241m=\u001b[39m smoothly_deprecate_use_auth_token(fn_name\u001b[38;5;241m=\u001b[39mfn\u001b[38;5;241m.\u001b[39m\u001b[38;5;18m__name__\u001b[39m, has_token\u001b[38;5;241m=\u001b[39mhas_token, kwargs\u001b[38;5;241m=\u001b[39mkwargs)\n\u001b[0;32m--> 114\u001b[0m \u001b[38;5;28;01mreturn\u001b[39;00m \u001b[43mfn\u001b[49m\u001b[43m(\u001b[49m\u001b[38;5;241;43m*\u001b[39;49m\u001b[43margs\u001b[49m\u001b[43m,\u001b[49m\u001b[43m \u001b[49m\u001b[38;5;241;43m*\u001b[39;49m\u001b[38;5;241;43m*\u001b[39;49m\u001b[43mkwargs\u001b[49m\u001b[43m)\u001b[49m\n",
      "File \u001b[0;32m/opt/venv/py311/lib/python3.11/site-packages/huggingface_hub/file_download.py:1232\u001b[0m, in \u001b[0;36mhf_hub_download\u001b[0;34m(repo_id, filename, subfolder, repo_type, revision, library_name, library_version, cache_dir, local_dir, user_agent, force_download, proxies, etag_timeout, token, local_files_only, headers, endpoint, legacy_cache_layout, resume_download, force_filename, local_dir_use_symlinks)\u001b[0m\n\u001b[1;32m   1231\u001b[0m \u001b[38;5;28;01melse\u001b[39;00m:\n\u001b[0;32m-> 1232\u001b[0m     \u001b[38;5;28;01mreturn\u001b[39;00m \u001b[43m_hf_hub_download_to_cache_dir\u001b[49m\u001b[43m(\u001b[49m\n\u001b[1;32m   1233\u001b[0m \u001b[43m        \u001b[49m\u001b[38;5;66;43;03m# Destination\u001b[39;49;00m\n\u001b[1;32m   1234\u001b[0m \u001b[43m        \u001b[49m\u001b[43mcache_dir\u001b[49m\u001b[38;5;241;43m=\u001b[39;49m\u001b[43mcache_dir\u001b[49m\u001b[43m,\u001b[49m\n\u001b[1;32m   1235\u001b[0m \u001b[43m        \u001b[49m\u001b[38;5;66;43;03m# File info\u001b[39;49;00m\n\u001b[1;32m   1236\u001b[0m \u001b[43m        \u001b[49m\u001b[43mrepo_id\u001b[49m\u001b[38;5;241;43m=\u001b[39;49m\u001b[43mrepo_id\u001b[49m\u001b[43m,\u001b[49m\n\u001b[1;32m   1237\u001b[0m \u001b[43m        \u001b[49m\u001b[43mfilename\u001b[49m\u001b[38;5;241;43m=\u001b[39;49m\u001b[43mfilename\u001b[49m\u001b[43m,\u001b[49m\n\u001b[1;32m   1238\u001b[0m \u001b[43m        \u001b[49m\u001b[43mrepo_type\u001b[49m\u001b[38;5;241;43m=\u001b[39;49m\u001b[43mrepo_type\u001b[49m\u001b[43m,\u001b[49m\n\u001b[1;32m   1239\u001b[0m \u001b[43m        \u001b[49m\u001b[43mrevision\u001b[49m\u001b[38;5;241;43m=\u001b[39;49m\u001b[43mrevision\u001b[49m\u001b[43m,\u001b[49m\n\u001b[1;32m   1240\u001b[0m \u001b[43m        \u001b[49m\u001b[38;5;66;43;03m# HTTP info\u001b[39;49;00m\n\u001b[1;32m   1241\u001b[0m \u001b[43m        \u001b[49m\u001b[43mendpoint\u001b[49m\u001b[38;5;241;43m=\u001b[39;49m\u001b[43mendpoint\u001b[49m\u001b[43m,\u001b[49m\n\u001b[1;32m   1242\u001b[0m \u001b[43m        \u001b[49m\u001b[43metag_timeout\u001b[49m\u001b[38;5;241;43m=\u001b[39;49m\u001b[43metag_timeout\u001b[49m\u001b[43m,\u001b[49m\n\u001b[1;32m   1243\u001b[0m \u001b[43m        \u001b[49m\u001b[43mheaders\u001b[49m\u001b[38;5;241;43m=\u001b[39;49m\u001b[43mheaders\u001b[49m\u001b[43m,\u001b[49m\n\u001b[1;32m   1244\u001b[0m \u001b[43m        \u001b[49m\u001b[43mproxies\u001b[49m\u001b[38;5;241;43m=\u001b[39;49m\u001b[43mproxies\u001b[49m\u001b[43m,\u001b[49m\n\u001b[1;32m   1245\u001b[0m \u001b[43m        \u001b[49m\u001b[43mtoken\u001b[49m\u001b[38;5;241;43m=\u001b[39;49m\u001b[43mtoken\u001b[49m\u001b[43m,\u001b[49m\n\u001b[1;32m   1246\u001b[0m \u001b[43m        \u001b[49m\u001b[38;5;66;43;03m# Additional options\u001b[39;49;00m\n\u001b[1;32m   1247\u001b[0m \u001b[43m        \u001b[49m\u001b[43mlocal_files_only\u001b[49m\u001b[38;5;241;43m=\u001b[39;49m\u001b[43mlocal_files_only\u001b[49m\u001b[43m,\u001b[49m\n\u001b[1;32m   1248\u001b[0m \u001b[43m        \u001b[49m\u001b[43mforce_download\u001b[49m\u001b[38;5;241;43m=\u001b[39;49m\u001b[43mforce_download\u001b[49m\u001b[43m,\u001b[49m\n\u001b[1;32m   1249\u001b[0m \u001b[43m    \u001b[49m\u001b[43m)\u001b[49m\n",
      "File \u001b[0;32m/opt/venv/py311/lib/python3.11/site-packages/huggingface_hub/file_download.py:1339\u001b[0m, in \u001b[0;36m_hf_hub_download_to_cache_dir\u001b[0;34m(cache_dir, repo_id, filename, repo_type, revision, endpoint, etag_timeout, headers, proxies, token, local_files_only, force_download)\u001b[0m\n\u001b[1;32m   1338\u001b[0m     \u001b[38;5;66;03m# Otherwise, raise appropriate error\u001b[39;00m\n\u001b[0;32m-> 1339\u001b[0m     \u001b[43m_raise_on_head_call_error\u001b[49m\u001b[43m(\u001b[49m\u001b[43mhead_call_error\u001b[49m\u001b[43m,\u001b[49m\u001b[43m \u001b[49m\u001b[43mforce_download\u001b[49m\u001b[43m,\u001b[49m\u001b[43m \u001b[49m\u001b[43mlocal_files_only\u001b[49m\u001b[43m)\u001b[49m\n\u001b[1;32m   1341\u001b[0m \u001b[38;5;66;03m# From now on, etag, commit_hash, url and size are not None.\u001b[39;00m\n",
      "File \u001b[0;32m/opt/venv/py311/lib/python3.11/site-packages/huggingface_hub/file_download.py:1854\u001b[0m, in \u001b[0;36m_raise_on_head_call_error\u001b[0;34m(head_call_error, force_download, local_files_only)\u001b[0m\n\u001b[1;32m   1852\u001b[0m \u001b[38;5;28;01melif\u001b[39;00m \u001b[38;5;28misinstance\u001b[39m(head_call_error, RepositoryNotFoundError) \u001b[38;5;129;01mor\u001b[39;00m \u001b[38;5;28misinstance\u001b[39m(head_call_error, GatedRepoError):\n\u001b[1;32m   1853\u001b[0m     \u001b[38;5;66;03m# Repo not found or gated => let's raise the actual error\u001b[39;00m\n\u001b[0;32m-> 1854\u001b[0m     \u001b[38;5;28;01mraise\u001b[39;00m head_call_error\n\u001b[1;32m   1855\u001b[0m \u001b[38;5;28;01melse\u001b[39;00m:\n\u001b[1;32m   1856\u001b[0m     \u001b[38;5;66;03m# Otherwise: most likely a connection issue or Hub downtime => let's warn the user\u001b[39;00m\n",
      "File \u001b[0;32m/opt/venv/py311/lib/python3.11/site-packages/huggingface_hub/file_download.py:1746\u001b[0m, in \u001b[0;36m_get_metadata_or_catch_error\u001b[0;34m(repo_id, filename, repo_type, revision, endpoint, proxies, etag_timeout, headers, token, local_files_only, relative_filename, storage_folder)\u001b[0m\n\u001b[1;32m   1745\u001b[0m \u001b[38;5;28;01mtry\u001b[39;00m:\n\u001b[0;32m-> 1746\u001b[0m     metadata \u001b[38;5;241m=\u001b[39m \u001b[43mget_hf_file_metadata\u001b[49m\u001b[43m(\u001b[49m\n\u001b[1;32m   1747\u001b[0m \u001b[43m        \u001b[49m\u001b[43murl\u001b[49m\u001b[38;5;241;43m=\u001b[39;49m\u001b[43murl\u001b[49m\u001b[43m,\u001b[49m\u001b[43m \u001b[49m\u001b[43mproxies\u001b[49m\u001b[38;5;241;43m=\u001b[39;49m\u001b[43mproxies\u001b[49m\u001b[43m,\u001b[49m\u001b[43m \u001b[49m\u001b[43mtimeout\u001b[49m\u001b[38;5;241;43m=\u001b[39;49m\u001b[43metag_timeout\u001b[49m\u001b[43m,\u001b[49m\u001b[43m \u001b[49m\u001b[43mheaders\u001b[49m\u001b[38;5;241;43m=\u001b[39;49m\u001b[43mheaders\u001b[49m\u001b[43m,\u001b[49m\u001b[43m \u001b[49m\u001b[43mtoken\u001b[49m\u001b[38;5;241;43m=\u001b[39;49m\u001b[43mtoken\u001b[49m\n\u001b[1;32m   1748\u001b[0m \u001b[43m    \u001b[49m\u001b[43m)\u001b[49m\n\u001b[1;32m   1749\u001b[0m \u001b[38;5;28;01mexcept\u001b[39;00m EntryNotFoundError \u001b[38;5;28;01mas\u001b[39;00m http_error:\n",
      "File \u001b[0;32m/opt/venv/py311/lib/python3.11/site-packages/huggingface_hub/utils/_validators.py:114\u001b[0m, in \u001b[0;36mvalidate_hf_hub_args.<locals>._inner_fn\u001b[0;34m(*args, **kwargs)\u001b[0m\n\u001b[1;32m    112\u001b[0m     kwargs \u001b[38;5;241m=\u001b[39m smoothly_deprecate_use_auth_token(fn_name\u001b[38;5;241m=\u001b[39mfn\u001b[38;5;241m.\u001b[39m\u001b[38;5;18m__name__\u001b[39m, has_token\u001b[38;5;241m=\u001b[39mhas_token, kwargs\u001b[38;5;241m=\u001b[39mkwargs)\n\u001b[0;32m--> 114\u001b[0m \u001b[38;5;28;01mreturn\u001b[39;00m \u001b[43mfn\u001b[49m\u001b[43m(\u001b[49m\u001b[38;5;241;43m*\u001b[39;49m\u001b[43margs\u001b[49m\u001b[43m,\u001b[49m\u001b[43m \u001b[49m\u001b[38;5;241;43m*\u001b[39;49m\u001b[38;5;241;43m*\u001b[39;49m\u001b[43mkwargs\u001b[49m\u001b[43m)\u001b[49m\n",
      "File \u001b[0;32m/opt/venv/py311/lib/python3.11/site-packages/huggingface_hub/file_download.py:1666\u001b[0m, in \u001b[0;36mget_hf_file_metadata\u001b[0;34m(url, token, proxies, timeout, library_name, library_version, user_agent, headers)\u001b[0m\n\u001b[1;32m   1665\u001b[0m \u001b[38;5;66;03m# Retrieve metadata\u001b[39;00m\n\u001b[0;32m-> 1666\u001b[0m r \u001b[38;5;241m=\u001b[39m \u001b[43m_request_wrapper\u001b[49m\u001b[43m(\u001b[49m\n\u001b[1;32m   1667\u001b[0m \u001b[43m    \u001b[49m\u001b[43mmethod\u001b[49m\u001b[38;5;241;43m=\u001b[39;49m\u001b[38;5;124;43m\"\u001b[39;49m\u001b[38;5;124;43mHEAD\u001b[39;49m\u001b[38;5;124;43m\"\u001b[39;49m\u001b[43m,\u001b[49m\n\u001b[1;32m   1668\u001b[0m \u001b[43m    \u001b[49m\u001b[43murl\u001b[49m\u001b[38;5;241;43m=\u001b[39;49m\u001b[43murl\u001b[49m\u001b[43m,\u001b[49m\n\u001b[1;32m   1669\u001b[0m \u001b[43m    \u001b[49m\u001b[43mheaders\u001b[49m\u001b[38;5;241;43m=\u001b[39;49m\u001b[43mheaders\u001b[49m\u001b[43m,\u001b[49m\n\u001b[1;32m   1670\u001b[0m \u001b[43m    \u001b[49m\u001b[43mallow_redirects\u001b[49m\u001b[38;5;241;43m=\u001b[39;49m\u001b[38;5;28;43;01mFalse\u001b[39;49;00m\u001b[43m,\u001b[49m\n\u001b[1;32m   1671\u001b[0m \u001b[43m    \u001b[49m\u001b[43mfollow_relative_redirects\u001b[49m\u001b[38;5;241;43m=\u001b[39;49m\u001b[38;5;28;43;01mTrue\u001b[39;49;00m\u001b[43m,\u001b[49m\n\u001b[1;32m   1672\u001b[0m \u001b[43m    \u001b[49m\u001b[43mproxies\u001b[49m\u001b[38;5;241;43m=\u001b[39;49m\u001b[43mproxies\u001b[49m\u001b[43m,\u001b[49m\n\u001b[1;32m   1673\u001b[0m \u001b[43m    \u001b[49m\u001b[43mtimeout\u001b[49m\u001b[38;5;241;43m=\u001b[39;49m\u001b[43mtimeout\u001b[49m\u001b[43m,\u001b[49m\n\u001b[1;32m   1674\u001b[0m \u001b[43m\u001b[49m\u001b[43m)\u001b[49m\n\u001b[1;32m   1675\u001b[0m hf_raise_for_status(r)\n",
      "File \u001b[0;32m/opt/venv/py311/lib/python3.11/site-packages/huggingface_hub/file_download.py:364\u001b[0m, in \u001b[0;36m_request_wrapper\u001b[0;34m(method, url, follow_relative_redirects, **params)\u001b[0m\n\u001b[1;32m    363\u001b[0m \u001b[38;5;28;01mif\u001b[39;00m follow_relative_redirects:\n\u001b[0;32m--> 364\u001b[0m     response \u001b[38;5;241m=\u001b[39m \u001b[43m_request_wrapper\u001b[49m\u001b[43m(\u001b[49m\n\u001b[1;32m    365\u001b[0m \u001b[43m        \u001b[49m\u001b[43mmethod\u001b[49m\u001b[38;5;241;43m=\u001b[39;49m\u001b[43mmethod\u001b[49m\u001b[43m,\u001b[49m\n\u001b[1;32m    366\u001b[0m \u001b[43m        \u001b[49m\u001b[43murl\u001b[49m\u001b[38;5;241;43m=\u001b[39;49m\u001b[43murl\u001b[49m\u001b[43m,\u001b[49m\n\u001b[1;32m    367\u001b[0m \u001b[43m        \u001b[49m\u001b[43mfollow_relative_redirects\u001b[49m\u001b[38;5;241;43m=\u001b[39;49m\u001b[38;5;28;43;01mFalse\u001b[39;49;00m\u001b[43m,\u001b[49m\n\u001b[1;32m    368\u001b[0m \u001b[43m        \u001b[49m\u001b[38;5;241;43m*\u001b[39;49m\u001b[38;5;241;43m*\u001b[39;49m\u001b[43mparams\u001b[49m\u001b[43m,\u001b[49m\n\u001b[1;32m    369\u001b[0m \u001b[43m    \u001b[49m\u001b[43m)\u001b[49m\n\u001b[1;32m    371\u001b[0m     \u001b[38;5;66;03m# If redirection, we redirect only relative paths.\u001b[39;00m\n\u001b[1;32m    372\u001b[0m     \u001b[38;5;66;03m# This is useful in case of a renamed repository.\u001b[39;00m\n",
      "File \u001b[0;32m/opt/venv/py311/lib/python3.11/site-packages/huggingface_hub/file_download.py:388\u001b[0m, in \u001b[0;36m_request_wrapper\u001b[0;34m(method, url, follow_relative_redirects, **params)\u001b[0m\n\u001b[1;32m    387\u001b[0m response \u001b[38;5;241m=\u001b[39m get_session()\u001b[38;5;241m.\u001b[39mrequest(method\u001b[38;5;241m=\u001b[39mmethod, url\u001b[38;5;241m=\u001b[39murl, \u001b[38;5;241m*\u001b[39m\u001b[38;5;241m*\u001b[39mparams)\n\u001b[0;32m--> 388\u001b[0m \u001b[43mhf_raise_for_status\u001b[49m\u001b[43m(\u001b[49m\u001b[43mresponse\u001b[49m\u001b[43m)\u001b[49m\n\u001b[1;32m    389\u001b[0m \u001b[38;5;28;01mreturn\u001b[39;00m response\n",
      "File \u001b[0;32m/opt/venv/py311/lib/python3.11/site-packages/huggingface_hub/utils/_http.py:454\u001b[0m, in \u001b[0;36mhf_raise_for_status\u001b[0;34m(response, endpoint_name)\u001b[0m\n\u001b[1;32m    446\u001b[0m     message \u001b[38;5;241m=\u001b[39m (\n\u001b[1;32m    447\u001b[0m         \u001b[38;5;124mf\u001b[39m\u001b[38;5;124m\"\u001b[39m\u001b[38;5;132;01m{\u001b[39;00mresponse\u001b[38;5;241m.\u001b[39mstatus_code\u001b[38;5;132;01m}\u001b[39;00m\u001b[38;5;124m Client Error.\u001b[39m\u001b[38;5;124m\"\u001b[39m\n\u001b[1;32m    448\u001b[0m         \u001b[38;5;241m+\u001b[39m \u001b[38;5;124m\"\u001b[39m\u001b[38;5;130;01m\\n\u001b[39;00m\u001b[38;5;130;01m\\n\u001b[39;00m\u001b[38;5;124m\"\u001b[39m\n\u001b[0;32m   (...)\u001b[0m\n\u001b[1;32m    452\u001b[0m         \u001b[38;5;124m\"\u001b[39m\u001b[38;5;124m make sure you are authenticated.\u001b[39m\u001b[38;5;124m\"\u001b[39m\n\u001b[1;32m    453\u001b[0m     )\n\u001b[0;32m--> 454\u001b[0m     \u001b[38;5;28;01mraise\u001b[39;00m _format(RepositoryNotFoundError, message, response) \u001b[38;5;28;01mfrom\u001b[39;00m \u001b[38;5;21;01me\u001b[39;00m\n\u001b[1;32m    456\u001b[0m \u001b[38;5;28;01melif\u001b[39;00m response\u001b[38;5;241m.\u001b[39mstatus_code \u001b[38;5;241m==\u001b[39m \u001b[38;5;241m400\u001b[39m:\n",
      "\u001b[0;31mRepositoryNotFoundError\u001b[0m: 404 Client Error. (Request ID: Root=1-671a5d59-079aaffe2ae18fc76d774702;4b9125e4-e5ce-4d99-95f8-c207188bed21)\n\nRepository Not Found for url: https://huggingface.co/yi-ko-6b-text2sql/resolve/main/adapter_config.json.\nPlease make sure you specified the correct `repo_id` and `repo_type`.\nIf you are trying to access a private or gated repo, make sure you are authenticated.",
      "\nDuring handling of the above exception, another exception occurred:\n",
      "\u001b[0;31mValueError\u001b[0m                                Traceback (most recent call last)",
      "Cell \u001b[0;32mIn[10], line 16\u001b[0m\n\u001b[1;32m      8\u001b[0m \u001b[38;5;66;03m# LoRA와 기초 모델 파라미터 합치기\u001b[39;00m\n\u001b[1;32m      9\u001b[0m base_model \u001b[38;5;241m=\u001b[39m AutoModelForCausalLM\u001b[38;5;241m.\u001b[39mfrom_pretrained(\n\u001b[1;32m     10\u001b[0m     model_name,\n\u001b[1;32m     11\u001b[0m     low_cpu_mem_usage\u001b[38;5;241m=\u001b[39m\u001b[38;5;28;01mTrue\u001b[39;00m,\n\u001b[0;32m   (...)\u001b[0m\n\u001b[1;32m     14\u001b[0m     device_map\u001b[38;5;241m=\u001b[39mdevice_map,\n\u001b[1;32m     15\u001b[0m )\n\u001b[0;32m---> 16\u001b[0m model \u001b[38;5;241m=\u001b[39m \u001b[43mPeftModel\u001b[49m\u001b[38;5;241;43m.\u001b[39;49m\u001b[43mfrom_pretrained\u001b[49m\u001b[43m(\u001b[49m\u001b[43mbase_model\u001b[49m\u001b[43m,\u001b[49m\u001b[43m \u001b[49m\u001b[43mfinetuned_model\u001b[49m\u001b[43m)\u001b[49m\n\u001b[1;32m     17\u001b[0m model \u001b[38;5;241m=\u001b[39m model\u001b[38;5;241m.\u001b[39mmerge_and_unload()\n\u001b[1;32m     19\u001b[0m \u001b[38;5;66;03m# 토크나이저 설정\u001b[39;00m\n",
      "File \u001b[0;32m/opt/venv/py311/lib/python3.11/site-packages/peft/peft_model.py:484\u001b[0m, in \u001b[0;36mPeftModel.from_pretrained\u001b[0;34m(cls, model, model_id, adapter_name, is_trainable, config, autocast_adapter_dtype, ephemeral_gpu_offload, low_cpu_mem_usage, **kwargs)\u001b[0m\n\u001b[1;32m    481\u001b[0m \u001b[38;5;66;03m# load the config\u001b[39;00m\n\u001b[1;32m    482\u001b[0m \u001b[38;5;28;01mif\u001b[39;00m config \u001b[38;5;129;01mis\u001b[39;00m \u001b[38;5;28;01mNone\u001b[39;00m:\n\u001b[1;32m    483\u001b[0m     config \u001b[38;5;241m=\u001b[39m PEFT_TYPE_TO_CONFIG_MAPPING[\n\u001b[0;32m--> 484\u001b[0m         \u001b[43mPeftConfig\u001b[49m\u001b[38;5;241;43m.\u001b[39;49m\u001b[43m_get_peft_type\u001b[49m\u001b[43m(\u001b[49m\n\u001b[1;32m    485\u001b[0m \u001b[43m            \u001b[49m\u001b[43mmodel_id\u001b[49m\u001b[43m,\u001b[49m\n\u001b[1;32m    486\u001b[0m \u001b[43m            \u001b[49m\u001b[43msubfolder\u001b[49m\u001b[38;5;241;43m=\u001b[39;49m\u001b[43mkwargs\u001b[49m\u001b[38;5;241;43m.\u001b[39;49m\u001b[43mget\u001b[49m\u001b[43m(\u001b[49m\u001b[38;5;124;43m\"\u001b[39;49m\u001b[38;5;124;43msubfolder\u001b[39;49m\u001b[38;5;124;43m\"\u001b[39;49m\u001b[43m,\u001b[49m\u001b[43m \u001b[49m\u001b[38;5;28;43;01mNone\u001b[39;49;00m\u001b[43m)\u001b[49m\u001b[43m,\u001b[49m\n\u001b[1;32m    487\u001b[0m \u001b[43m            \u001b[49m\u001b[43mrevision\u001b[49m\u001b[38;5;241;43m=\u001b[39;49m\u001b[43mkwargs\u001b[49m\u001b[38;5;241;43m.\u001b[39;49m\u001b[43mget\u001b[49m\u001b[43m(\u001b[49m\u001b[38;5;124;43m\"\u001b[39;49m\u001b[38;5;124;43mrevision\u001b[39;49m\u001b[38;5;124;43m\"\u001b[39;49m\u001b[43m,\u001b[49m\u001b[43m \u001b[49m\u001b[38;5;28;43;01mNone\u001b[39;49;00m\u001b[43m)\u001b[49m\u001b[43m,\u001b[49m\n\u001b[1;32m    488\u001b[0m \u001b[43m            \u001b[49m\u001b[43mcache_dir\u001b[49m\u001b[38;5;241;43m=\u001b[39;49m\u001b[43mkwargs\u001b[49m\u001b[38;5;241;43m.\u001b[39;49m\u001b[43mget\u001b[49m\u001b[43m(\u001b[49m\u001b[38;5;124;43m\"\u001b[39;49m\u001b[38;5;124;43mcache_dir\u001b[39;49m\u001b[38;5;124;43m\"\u001b[39;49m\u001b[43m,\u001b[49m\u001b[43m \u001b[49m\u001b[38;5;28;43;01mNone\u001b[39;49;00m\u001b[43m)\u001b[49m\u001b[43m,\u001b[49m\n\u001b[1;32m    489\u001b[0m \u001b[43m            \u001b[49m\u001b[43muse_auth_token\u001b[49m\u001b[38;5;241;43m=\u001b[39;49m\u001b[43mkwargs\u001b[49m\u001b[38;5;241;43m.\u001b[39;49m\u001b[43mget\u001b[49m\u001b[43m(\u001b[49m\u001b[38;5;124;43m\"\u001b[39;49m\u001b[38;5;124;43muse_auth_token\u001b[39;49m\u001b[38;5;124;43m\"\u001b[39;49m\u001b[43m,\u001b[49m\u001b[43m \u001b[49m\u001b[38;5;28;43;01mNone\u001b[39;49;00m\u001b[43m)\u001b[49m\u001b[43m,\u001b[49m\n\u001b[1;32m    490\u001b[0m \u001b[43m            \u001b[49m\u001b[43mtoken\u001b[49m\u001b[38;5;241;43m=\u001b[39;49m\u001b[43mkwargs\u001b[49m\u001b[38;5;241;43m.\u001b[39;49m\u001b[43mget\u001b[49m\u001b[43m(\u001b[49m\u001b[38;5;124;43m\"\u001b[39;49m\u001b[38;5;124;43mtoken\u001b[39;49m\u001b[38;5;124;43m\"\u001b[39;49m\u001b[43m,\u001b[49m\u001b[43m \u001b[49m\u001b[38;5;28;43;01mNone\u001b[39;49;00m\u001b[43m)\u001b[49m\u001b[43m,\u001b[49m\n\u001b[1;32m    491\u001b[0m \u001b[43m        \u001b[49m\u001b[43m)\u001b[49m\n\u001b[1;32m    492\u001b[0m     ]\u001b[38;5;241m.\u001b[39mfrom_pretrained(model_id, \u001b[38;5;241m*\u001b[39m\u001b[38;5;241m*\u001b[39mkwargs)\n\u001b[1;32m    493\u001b[0m \u001b[38;5;28;01melif\u001b[39;00m \u001b[38;5;28misinstance\u001b[39m(config, PeftConfig):\n\u001b[1;32m    494\u001b[0m     config\u001b[38;5;241m.\u001b[39minference_mode \u001b[38;5;241m=\u001b[39m \u001b[38;5;129;01mnot\u001b[39;00m is_trainable\n",
      "File \u001b[0;32m/opt/venv/py311/lib/python3.11/site-packages/peft/config.py:211\u001b[0m, in \u001b[0;36mPeftConfigMixin._get_peft_type\u001b[0;34m(cls, model_id, **hf_hub_download_kwargs)\u001b[0m\n\u001b[1;32m    205\u001b[0m         config_file \u001b[38;5;241m=\u001b[39m hf_hub_download(\n\u001b[1;32m    206\u001b[0m             model_id,\n\u001b[1;32m    207\u001b[0m             CONFIG_NAME,\n\u001b[1;32m    208\u001b[0m             \u001b[38;5;241m*\u001b[39m\u001b[38;5;241m*\u001b[39mhf_hub_download_kwargs,\n\u001b[1;32m    209\u001b[0m         )\n\u001b[1;32m    210\u001b[0m     \u001b[38;5;28;01mexcept\u001b[39;00m \u001b[38;5;167;01mException\u001b[39;00m:\n\u001b[0;32m--> 211\u001b[0m         \u001b[38;5;28;01mraise\u001b[39;00m \u001b[38;5;167;01mValueError\u001b[39;00m(\u001b[38;5;124mf\u001b[39m\u001b[38;5;124m\"\u001b[39m\u001b[38;5;124mCan\u001b[39m\u001b[38;5;124m'\u001b[39m\u001b[38;5;124mt find \u001b[39m\u001b[38;5;124m'\u001b[39m\u001b[38;5;132;01m{\u001b[39;00mCONFIG_NAME\u001b[38;5;132;01m}\u001b[39;00m\u001b[38;5;124m'\u001b[39m\u001b[38;5;124m at \u001b[39m\u001b[38;5;124m'\u001b[39m\u001b[38;5;132;01m{\u001b[39;00mmodel_id\u001b[38;5;132;01m}\u001b[39;00m\u001b[38;5;124m'\u001b[39m\u001b[38;5;124m\"\u001b[39m)\n\u001b[1;32m    213\u001b[0m loaded_attributes \u001b[38;5;241m=\u001b[39m \u001b[38;5;28mcls\u001b[39m\u001b[38;5;241m.\u001b[39mfrom_json_file(config_file)\n\u001b[1;32m    214\u001b[0m \u001b[38;5;28;01mreturn\u001b[39;00m loaded_attributes[\u001b[38;5;124m\"\u001b[39m\u001b[38;5;124mpeft_type\u001b[39m\u001b[38;5;124m\"\u001b[39m]\n",
      "\u001b[0;31mValueError\u001b[0m: Can't find 'adapter_config.json' at 'yi-ko-6b-text2sql'"
     ]
    }
   ],
   "source": [
    "# import torch\n",
    "# from transformers import AutoModelForCausalLM, AutoTokenizer\n",
    "# from peft import LoraConfig, PeftModel\n",
    "# base_model = 'beomi/Yi-Ko-6B'\n",
    "# model_name = base_model\n",
    "# device_map = {\"\": 0}\n",
    "\n",
    "# # LoRA와 기초 모델 파라미터 합치기\n",
    "# base_model = AutoModelForCausalLM.from_pretrained(\n",
    "#     model_name,\n",
    "#     low_cpu_mem_usage=True,\n",
    "#     return_dict=True,\n",
    "#     torch_dtype=torch.float16,\n",
    "#     device_map=device_map,\n",
    "# )\n",
    "# model = PeftModel.from_pretrained(base_model, finetuned_model)\n",
    "# model = model.merge_and_unload()\n",
    "\n",
    "# # 토크나이저 설정\n",
    "# tokenizer = AutoTokenizer.from_pretrained(model_name, trust_remote_code=True)\n",
    "# tokenizer.pad_token = tokenizer.eos_token\n",
    "# tokenizer.padding_side = \"right\"\n",
    "\n",
    "# # 허깅페이스 허브에 모델 및 토크나이저 저장\n",
    "# model.push_to_hub(finetuned_model, use_temp_dir=False)\n",
    "# tokenizer.push_to_hub(finetuned_model, use_temp_dir=False)"
   ]
  },
  {
   "cell_type": "markdown",
   "metadata": {},
   "source": [
    "## 예제 6.12. 미세 조정한 모델로 예시 데이터에 대한 SQL 생성"
   ]
  },
  {
   "cell_type": "code",
   "execution_count": null,
   "metadata": {
    "id": "9x_Num7auXPu",
    "tags": []
   },
   "outputs": [],
   "source": [
    "model_id = \"shangrilar/yi-ko-6b-text2sql\"\n",
    "hf_pipe = make_inference_pipeline(model_id)\n",
    "\n",
    "hf_pipe(example, do_sample=False,\n",
    "       return_full_text=False, max_length=1024, truncation=True)\n",
    "# SELECT COUNT(*) FROM players WHERE username LIKE '%admin%';"
   ]
  },
  {
   "cell_type": "markdown",
   "metadata": {
    "jp-MarkdownHeadingCollapsed": true
   },
   "source": [
    "## 예제 6.13. 미세 조정한 모델 성능 측정"
   ]
  },
  {
   "cell_type": "code",
   "execution_count": null,
   "metadata": {
    "id": "fQblRmRjubVJ"
   },
   "outputs": [],
   "source": [
    "# sql 생성 수행\n",
    "gen_sqls = hf_pipe(df['prompt'].tolist(), do_sample=False,\n",
    "                   return_full_text=False, max_length=1024, truncation=True)\n",
    "gen_sqls = [x[0]['generated_text'] for x in gen_sqls]\n",
    "df['gen_sql'] = gen_sqls\n",
    "\n",
    "# 평가를 위한 requests.jsonl 생성\n",
    "ft_eval_filepath = \"text2sql_evaluation_finetuned.jsonl\"\n",
    "make_requests_for_gpt_evaluation(df, ft_eval_filepath)\n",
    "\n",
    "# GPT-4 평가 수행\n",
    "!python api_request_parallel_processor.py \\\n",
    "  --requests_filepath requests/{ft_eval_filepath} \\\n",
    "  --save_filepath results/{ft_eval_filepath} \\\n",
    "  --request_url https://api.openai.com/v1/chat/completions \\\n",
    "  --max_requests_per_minute 2500 \\\n",
    "  --max_tokens_per_minute 100000 \\\n",
    "  --token_encoding_name cl100k_base \\\n",
    "  --max_attempts 5 \\\n",
    "  --logging_level 20"
   ]
  },
  {
   "cell_type": "code",
   "execution_count": null,
   "metadata": {
    "id": "5zPKM-xfvlrf"
   },
   "outputs": [],
   "source": [
    "ft_eval = change_jsonl_to_csv(f\"results/{ft_eval_filepath}\", \"results/yi_ko_6b_eval.csv\", \"prompt\", \"resolve_yn\")\n",
    "ft_eval['resolve_yn'] = ft_eval['resolve_yn'].apply(lambda x: json.loads(x)['resolve_yn'])\n",
    "num_correct_answers = ft_eval.query(\"resolve_yn == 'yes'\").shape[0]\n",
    "num_correct_answers"
   ]
  },
  {
   "cell_type": "code",
   "execution_count": null,
   "metadata": {},
   "outputs": [],
   "source": []
  }
 ],
 "metadata": {
  "accelerator": "GPU",
  "colab": {
   "gpuType": "T4",
   "provenance": []
  },
  "kernelspec": {
   "display_name": "Python 3.11 (RAG)",
   "language": "python",
   "name": "py311"
  },
  "language_info": {
   "codemirror_mode": {
    "name": "ipython",
    "version": 3
   },
   "file_extension": ".py",
   "mimetype": "text/x-python",
   "name": "python",
   "nbconvert_exporter": "python",
   "pygments_lexer": "ipython3",
   "version": "3.11.0rc1"
  }
 },
 "nbformat": 4,
 "nbformat_minor": 4
}
