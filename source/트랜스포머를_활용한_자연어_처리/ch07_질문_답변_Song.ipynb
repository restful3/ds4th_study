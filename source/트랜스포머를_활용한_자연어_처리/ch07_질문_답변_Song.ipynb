{
 "cells": [
  {
   "cell_type": "markdown",
   "id": "da468955",
   "metadata": {},
   "source": [
    "# 리뷰 기반 QA 시스템 구축하기"
   ]
  },
  {
   "cell_type": "markdown",
   "id": "f716ead5",
   "metadata": {},
   "source": [
    "## 데이터셋"
   ]
  },
  {
   "cell_type": "code",
   "execution_count": 16,
   "id": "185a7490",
   "metadata": {},
   "outputs": [
    {
     "data": {
      "text/plain": [
       "['books', 'electronics', 'grocery', 'movies', 'restaurants', 'tripadvisor']"
      ]
     },
     "execution_count": 16,
     "metadata": {},
     "output_type": "execute_result"
    }
   ],
   "source": [
    "from datasets import get_dataset_config_names\n",
    "\n",
    "domains = get_dataset_config_names('subjqa')\n",
    "domains"
   ]
  },
  {
   "cell_type": "code",
   "execution_count": 17,
   "id": "019b4b8d",
   "metadata": {},
   "outputs": [],
   "source": [
    "from datasets import load_dataset\n",
    "\n",
    "subjqa = load_dataset('subjqa', name='electronics')"
   ]
  },
  {
   "cell_type": "code",
   "execution_count": 18,
   "id": "175578d9",
   "metadata": {},
   "outputs": [
    {
     "name": "stdout",
     "output_type": "stream",
     "text": [
      "{'text': ['Bass is weak as expected', 'Bass is weak as expected, even with EQ adjusted up'], 'answer_start': [1302, 1302], 'answer_subj_level': [1, 1], 'ans_subj_score': [0.5083333253860474, 0.5083333253860474], 'is_ans_subjective': [True, True]}\n"
     ]
    }
   ],
   "source": [
    "print(subjqa['train']['answers'][1])"
   ]
  },
  {
   "cell_type": "code",
   "execution_count": 19,
   "id": "327c69f3",
   "metadata": {},
   "outputs": [
    {
     "name": "stdout",
     "output_type": "stream",
     "text": [
      "train 에 있는 질문 개수 : 1295\n",
      "test 에 있는 질문 개수 : 358\n",
      "validation 에 있는 질문 개수 : 255\n"
     ]
    }
   ],
   "source": [
    "import pandas as pd\n",
    "\n",
    "dfs = {split: dset.to_pandas() for split, dset in subjqa.flatten().items()}\n",
    "\n",
    "for split, df in dfs.items():\n",
    "    print(f\"{split} 에 있는 질문 개수 : {df['id'].nunique()}\")"
   ]
  },
  {
   "cell_type": "code",
   "execution_count": 20,
   "id": "559d354f",
   "metadata": {},
   "outputs": [
    {
     "data": {
      "text/html": [
       "<div>\n",
       "<style scoped>\n",
       "    .dataframe tbody tr th:only-of-type {\n",
       "        vertical-align: middle;\n",
       "    }\n",
       "\n",
       "    .dataframe tbody tr th {\n",
       "        vertical-align: top;\n",
       "    }\n",
       "\n",
       "    .dataframe thead th {\n",
       "        text-align: right;\n",
       "    }\n",
       "</style>\n",
       "<table border=\"1\" class=\"dataframe\">\n",
       "  <thead>\n",
       "    <tr style=\"text-align: right;\">\n",
       "      <th></th>\n",
       "      <th>title</th>\n",
       "      <th>question</th>\n",
       "      <th>answers.text</th>\n",
       "      <th>answers.answer_start</th>\n",
       "      <th>context</th>\n",
       "    </tr>\n",
       "  </thead>\n",
       "  <tbody>\n",
       "    <tr>\n",
       "      <th>791</th>\n",
       "      <td>B005DKZTMG</td>\n",
       "      <td>Does the keyboard lightweight?</td>\n",
       "      <td>[this keyboard is compact]</td>\n",
       "      <td>[215]</td>\n",
       "      <td>I really like this keyboard.  I give it 4 star...</td>\n",
       "    </tr>\n",
       "    <tr>\n",
       "      <th>1159</th>\n",
       "      <td>B00AAIPT76</td>\n",
       "      <td>How is the battery?</td>\n",
       "      <td>[]</td>\n",
       "      <td>[]</td>\n",
       "      <td>I bought this after the first spare gopro batt...</td>\n",
       "    </tr>\n",
       "  </tbody>\n",
       "</table>\n",
       "</div>"
      ],
      "text/plain": [
       "           title                        question                answers.text  \\\n",
       "791   B005DKZTMG  Does the keyboard lightweight?  [this keyboard is compact]   \n",
       "1159  B00AAIPT76             How is the battery?                          []   \n",
       "\n",
       "     answers.answer_start                                            context  \n",
       "791                 [215]  I really like this keyboard.  I give it 4 star...  \n",
       "1159                   []  I bought this after the first spare gopro batt...  "
      ]
     },
     "execution_count": 20,
     "metadata": {},
     "output_type": "execute_result"
    }
   ],
   "source": [
    "qa_cols = ['title', 'question', 'answers.text',\n",
    "          'answers.answer_start', 'context']\n",
    "sample_df = dfs['train'][qa_cols].sample(2, random_state=7)\n",
    "sample_df"
   ]
  },
  {
   "cell_type": "code",
   "execution_count": 21,
   "id": "7ca8d5a0",
   "metadata": {},
   "outputs": [
    {
     "data": {
      "text/plain": [
       "'this keyboard is compact'"
      ]
     },
     "execution_count": 21,
     "metadata": {},
     "output_type": "execute_result"
    }
   ],
   "source": [
    "start_idx = sample_df['answers.answer_start'].iloc[0][0]\n",
    "end_idx = start_idx + len(sample_df['answers.text'].iloc[0][0])\n",
    "sample_df['context'].iloc[0][start_idx:end_idx]"
   ]
  },
  {
   "cell_type": "code",
   "execution_count": 22,
   "id": "958128c1",
   "metadata": {},
   "outputs": [
    {
     "data": {
      "image/png": "[encoded data removed]",
      "text/plain": [
       "<Figure size 640x480 with 1 Axes>"
      ]
     },
     "metadata": {},
     "output_type": "display_data"
    }
   ],
   "source": [
    "import matplotlib.pyplot as plt \n",
    "\n",
    "counts = {}\n",
    "question_types = ['What', 'How', 'Is', 'Does',\n",
    "                 'Do', 'Was', 'Where', 'Why']\n",
    "\n",
    "for q in question_types:\n",
    "    counts[q] = dfs['train']['question'].str.startswith(q).value_counts()[True]\n",
    "    \n",
    "pd.Series(counts).sort_values().plot.barh()\n",
    "plt.title('Frequency of Question Types')\n",
    "plt.show()"
   ]
  },
  {
   "cell_type": "code",
   "execution_count": 23,
   "id": "dc20e194",
   "metadata": {},
   "outputs": [
    {
     "name": "stdout",
     "output_type": "stream",
     "text": [
      "How is the camera?\n",
      "How do you like the control?\n",
      "How fast is the charger?\n",
      "What is direction?\n",
      "What is the quality of the construction of the bag?\n",
      "What is your impression of the product?\n",
      "Is this how zoom works?\n",
      "Is sound clear?\n",
      "Is it a wireless keyboard?\n"
     ]
    }
   ],
   "source": [
    "for question_type in ['How', 'What', 'Is']:\n",
    "    for question in (dfs['train'][dfs['train'].question.str.startswith(question_type)].sample(n=3, random_state=42)['question']):\n",
    "        print(question)"
   ]
  },
  {
   "cell_type": "markdown",
   "id": "acdcc014",
   "metadata": {},
   "source": [
    "## 텍스트에서 답 추출하기"
   ]
  },
  {
   "cell_type": "markdown",
   "id": "21fdc889",
   "metadata": {},
   "source": [
    "**QA를 위한 텍스트 토큰화**"
   ]
  },
  {
   "cell_type": "code",
   "execution_count": 24,
   "id": "c1cc6d55",
   "metadata": {},
   "outputs": [],
   "source": [
    "from transformers import AutoTokenizer\n",
    "\n",
    "model_ckpt = 'deepset/minilm-uncased-squad2'\n",
    "tokenizer = AutoTokenizer.from_pretrained(model_ckpt)"
   ]
  },
  {
   "cell_type": "code",
   "execution_count": 25,
   "id": "cdb4139b",
   "metadata": {},
   "outputs": [
    {
     "data": {
      "text/plain": [
       "{'input_ids': tensor([[  101,  2129,  2172,  2189,  2064,  2023,  2907,  1029,   102,  2019,\n",
       "         23378,  2003,  2055,  1015, 16914,  1013,  3371,  1010,  2061,  2055,\n",
       "         25961,  2847,  5834,  2006,  5371,  2946,  1012,   102]]), 'token_type_ids': tensor([[0, 0, 0, 0, 0, 0, 0, 0, 0, 1, 1, 1, 1, 1, 1, 1, 1, 1, 1, 1, 1, 1, 1, 1,\n",
       "         1, 1, 1, 1]]), 'attention_mask': tensor([[1, 1, 1, 1, 1, 1, 1, 1, 1, 1, 1, 1, 1, 1, 1, 1, 1, 1, 1, 1, 1, 1, 1, 1,\n",
       "         1, 1, 1, 1]])}"
      ]
     },
     "execution_count": 25,
     "metadata": {},
     "output_type": "execute_result"
    }
   ],
   "source": [
    "question = \"How much music can this hold?\"\n",
    "context = \"\"\"An MP3 is about 1 MB/minute, so about 6000 hours depending on \\\n",
    "file size.\"\"\"\n",
    "inputs = tokenizer(question, context, return_tensors='pt')\n",
    "inputs"
   ]
  },
  {
   "cell_type": "code",
   "execution_count": 26,
   "id": "9462e72a",
   "metadata": {},
   "outputs": [
    {
     "data": {
      "text/html": [
       "<div>\n",
       "<style scoped>\n",
       "    .dataframe tbody tr th:only-of-type {\n",
       "        vertical-align: middle;\n",
       "    }\n",
       "\n",
       "    .dataframe tbody tr th {\n",
       "        vertical-align: top;\n",
       "    }\n",
       "\n",
       "    .dataframe thead th {\n",
       "        text-align: right;\n",
       "    }\n",
       "</style>\n",
       "<table border=\"1\" class=\"dataframe\">\n",
       "  <thead>\n",
       "    <tr style=\"text-align: right;\">\n",
       "      <th></th>\n",
       "      <th>0</th>\n",
       "      <th>1</th>\n",
       "      <th>2</th>\n",
       "      <th>3</th>\n",
       "      <th>4</th>\n",
       "      <th>5</th>\n",
       "      <th>6</th>\n",
       "      <th>7</th>\n",
       "      <th>8</th>\n",
       "      <th>9</th>\n",
       "      <th>...</th>\n",
       "      <th>18</th>\n",
       "      <th>19</th>\n",
       "      <th>20</th>\n",
       "      <th>21</th>\n",
       "      <th>22</th>\n",
       "      <th>23</th>\n",
       "      <th>24</th>\n",
       "      <th>25</th>\n",
       "      <th>26</th>\n",
       "      <th>27</th>\n",
       "    </tr>\n",
       "  </thead>\n",
       "  <tbody>\n",
       "    <tr>\n",
       "      <th>input_ids</th>\n",
       "      <td>101</td>\n",
       "      <td>2129</td>\n",
       "      <td>2172</td>\n",
       "      <td>2189</td>\n",
       "      <td>2064</td>\n",
       "      <td>2023</td>\n",
       "      <td>2907</td>\n",
       "      <td>1029</td>\n",
       "      <td>102</td>\n",
       "      <td>2019</td>\n",
       "      <td>...</td>\n",
       "      <td>2061</td>\n",
       "      <td>2055</td>\n",
       "      <td>25961</td>\n",
       "      <td>2847</td>\n",
       "      <td>5834</td>\n",
       "      <td>2006</td>\n",
       "      <td>5371</td>\n",
       "      <td>2946</td>\n",
       "      <td>1012</td>\n",
       "      <td>102</td>\n",
       "    </tr>\n",
       "    <tr>\n",
       "      <th>token_type_ids</th>\n",
       "      <td>0</td>\n",
       "      <td>0</td>\n",
       "      <td>0</td>\n",
       "      <td>0</td>\n",
       "      <td>0</td>\n",
       "      <td>0</td>\n",
       "      <td>0</td>\n",
       "      <td>0</td>\n",
       "      <td>0</td>\n",
       "      <td>1</td>\n",
       "      <td>...</td>\n",
       "      <td>1</td>\n",
       "      <td>1</td>\n",
       "      <td>1</td>\n",
       "      <td>1</td>\n",
       "      <td>1</td>\n",
       "      <td>1</td>\n",
       "      <td>1</td>\n",
       "      <td>1</td>\n",
       "      <td>1</td>\n",
       "      <td>1</td>\n",
       "    </tr>\n",
       "    <tr>\n",
       "      <th>attention_mask</th>\n",
       "      <td>1</td>\n",
       "      <td>1</td>\n",
       "      <td>1</td>\n",
       "      <td>1</td>\n",
       "      <td>1</td>\n",
       "      <td>1</td>\n",
       "      <td>1</td>\n",
       "      <td>1</td>\n",
       "      <td>1</td>\n",
       "      <td>1</td>\n",
       "      <td>...</td>\n",
       "      <td>1</td>\n",
       "      <td>1</td>\n",
       "      <td>1</td>\n",
       "      <td>1</td>\n",
       "      <td>1</td>\n",
       "      <td>1</td>\n",
       "      <td>1</td>\n",
       "      <td>1</td>\n",
       "      <td>1</td>\n",
       "      <td>1</td>\n",
       "    </tr>\n",
       "  </tbody>\n",
       "</table>\n",
       "<p>3 rows × 28 columns</p>\n",
       "</div>"
      ],
      "text/plain": [
       "                 0     1     2     3     4     5     6     7    8     9   ...  \\\n",
       "input_ids       101  2129  2172  2189  2064  2023  2907  1029  102  2019  ...   \n",
       "token_type_ids    0     0     0     0     0     0     0     0    0     1  ...   \n",
       "attention_mask    1     1     1     1     1     1     1     1    1     1  ...   \n",
       "\n",
       "                  18    19     20    21    22    23    24    25    26   27  \n",
       "input_ids       2061  2055  25961  2847  5834  2006  5371  2946  1012  102  \n",
       "token_type_ids     1     1      1     1     1     1     1     1     1    1  \n",
       "attention_mask     1     1      1     1     1     1     1     1     1    1  \n",
       "\n",
       "[3 rows x 28 columns]"
      ]
     },
     "execution_count": 26,
     "metadata": {},
     "output_type": "execute_result"
    }
   ],
   "source": [
    "input_df = pd.DataFrame.from_dict(tokenizer(question, context), orient=\"index\")\n",
    "input_df"
   ]
  },
  {
   "cell_type": "code",
   "execution_count": 27,
   "id": "83964ac1",
   "metadata": {},
   "outputs": [
    {
     "data": {
      "text/plain": [
       "'[CLS] how much music can this hold? [SEP] an mp3 is about 1 mb / minute, so about 6000 hours depending on file size. [SEP]'"
      ]
     },
     "execution_count": 27,
     "metadata": {},
     "output_type": "execute_result"
    }
   ],
   "source": [
    "tokenizer.decode(inputs['input_ids'][0])"
   ]
  },
  {
   "cell_type": "code",
   "execution_count": 28,
   "id": "c90443c9",
   "metadata": {},
   "outputs": [
    {
     "name": "stderr",
     "output_type": "stream",
     "text": [
      "Some weights of the model checkpoint at deepset/minilm-uncased-squad2 were not used when initializing BertForQuestionAnswering: ['bert.pooler.dense.bias', 'bert.pooler.dense.weight']\n",
      "- This IS expected if you are initializing BertForQuestionAnswering from the checkpoint of a model trained on another task or with another architecture (e.g. initializing a BertForSequenceClassification model from a BertForPreTraining model).\n",
      "- This IS NOT expected if you are initializing BertForQuestionAnswering from the checkpoint of a model that you expect to be exactly identical (initializing a BertForSequenceClassification model from a BertForSequenceClassification model).\n"
     ]
    }
   ],
   "source": [
    "import torch\n",
    "from transformers import AutoModelForQuestionAnswering\n",
    "\n",
    "model = AutoModelForQuestionAnswering.from_pretrained(model_ckpt)\n",
    "\n",
    "with torch.no_grad():\n",
    "    outputs = model(**inputs)"
   ]
  },
  {
   "cell_type": "code",
   "execution_count": 29,
   "id": "0c794d9a",
   "metadata": {},
   "outputs": [
    {
     "name": "stdout",
     "output_type": "stream",
     "text": [
      "QuestionAnsweringModelOutput(loss=None, start_logits=tensor([[-0.9862, -4.7750, -5.4025, -5.2378, -5.2863, -5.5117, -4.9819, -6.1880,\n",
      "         -0.9862,  0.2596, -0.2144, -1.7136,  3.7806,  4.8561, -1.0546, -3.9097,\n",
      "         -1.7374, -4.5944, -1.4278,  3.9949,  5.0391, -0.2018, -3.0193, -4.8549,\n",
      "         -2.3108, -3.5110, -3.5713, -0.9862]]), end_logits=tensor([[-0.9623, -5.4733, -5.0326, -5.1639, -5.4278, -5.5151, -5.1749, -4.6233,\n",
      "         -0.9623, -3.7855, -0.8715, -3.7745, -3.0161, -1.1780,  0.1758, -2.7365,\n",
      "          4.8934,  0.3046, -3.1761, -3.2762,  0.8937,  5.6606, -0.3623, -4.9554,\n",
      "         -3.2531, -0.0914,  1.6211, -0.9623]]), hidden_states=None, attentions=None)\n"
     ]
    }
   ],
   "source": [
    "print(outputs)"
   ]
  },
  {
   "cell_type": "code",
   "execution_count": 30,
   "id": "b065a783",
   "metadata": {},
   "outputs": [],
   "source": [
    "start_logits = outputs.start_logits\n",
    "end_logits = outputs.end_logits"
   ]
  },
  {
   "cell_type": "code",
   "execution_count": 31,
   "id": "ca6d1317",
   "metadata": {},
   "outputs": [
    {
     "name": "stdout",
     "output_type": "stream",
     "text": [
      "입력 ID 크기: torch.Size([1, 28])\n",
      "시작 로짓 크기: torch.Size([1, 28])\n",
      "종료 로짓 크기: torch.Size([1, 28])\n"
     ]
    }
   ],
   "source": [
    "print(f\"입력 ID 크기: {inputs.input_ids.size()}\")\n",
    "print(f\"시작 로짓 크기: {start_logits.size()}\")\n",
    "print(f\"종료 로짓 크기: {end_logits.size()}\")"
   ]
  },
  {
   "cell_type": "code",
   "execution_count": 32,
   "id": "f00ce9ee",
   "metadata": {},
   "outputs": [
    {
     "data": {
      "image/png": "[encoded data removed]",
      "text/plain": [
       "<Figure size 640x480 with 2 Axes>"
      ]
     },
     "metadata": {},
     "output_type": "display_data"
    }
   ],
   "source": [
    "# 시작 토큰과 종료 토큰에 대한 예측 로짓. 오렌지 색 토큰이 가장 높은 점수를 가진 토큰입니다.\n",
    "# 이 그래프는 다음을 참고했습니다. https://mccormickml.com/2020/03/10/question-answering-with-a-fine-tuned-BERT\n",
    "import numpy as np\n",
    "import matplotlib.pyplot as plt\n",
    "\n",
    "s_scores = start_logits.detach().numpy().flatten()\n",
    "e_scores = end_logits.detach().numpy().flatten()\n",
    "tokens = tokenizer.convert_ids_to_tokens(inputs[\"input_ids\"][0])\n",
    "\n",
    "fig, (ax1, ax2) = plt.subplots(nrows=2, sharex=True)\n",
    "colors = [\"C0\" if s != np.max(s_scores) else \"C1\" for s in s_scores]\n",
    "ax1.bar(x=tokens, height=s_scores, color=colors)\n",
    "ax1.set_ylabel(\"Start Scores\")\n",
    "colors = [\"C0\" if s != np.max(e_scores) else \"C1\" for s in e_scores]\n",
    "ax2.bar(x=tokens, height=e_scores, color=colors)\n",
    "ax2.set_ylabel(\"End Scores\")\n",
    "plt.xticks(rotation=\"vertical\")\n",
    "plt.show()"
   ]
  },
  {
   "cell_type": "code",
   "execution_count": 33,
   "id": "dc733705",
   "metadata": {},
   "outputs": [
    {
     "name": "stdout",
     "output_type": "stream",
     "text": [
      "질문: How much music can this hold?\n",
      "답변: 6000\n"
     ]
    }
   ],
   "source": [
    "import torch\n",
    "\n",
    "start_idx = torch.argmax(start_logits)\n",
    "end_idx = torch.argmax(end_logits)\n",
    "answer_span = inputs['input_ids'][0][start_idx:end_idx]\n",
    "answer = tokenizer.decode(answer_span)\n",
    "print(f\"질문: {question}\")\n",
    "print(f\"답변: {answer}\")"
   ]
  },
  {
   "cell_type": "code",
   "execution_count": 34,
   "id": "cd5be2e3",
   "metadata": {},
   "outputs": [
    {
     "data": {
      "text/plain": [
       "'How much music can this hold?'"
      ]
     },
     "execution_count": 34,
     "metadata": {},
     "output_type": "execute_result"
    }
   ],
   "source": [
    "question"
   ]
  },
  {
   "cell_type": "code",
   "execution_count": 35,
   "id": "832851fd",
   "metadata": {},
   "outputs": [
    {
     "data": {
      "text/plain": [
       "'An MP3 is about 1 MB/minute, so about 6000 hours depending on file size.'"
      ]
     },
     "execution_count": 35,
     "metadata": {},
     "output_type": "execute_result"
    }
   ],
   "source": [
    "context"
   ]
  },
  {
   "cell_type": "code",
   "execution_count": 36,
   "id": "8b1c48b3",
   "metadata": {},
   "outputs": [
    {
     "name": "stderr",
     "output_type": "stream",
     "text": [
      "/home/restful3/anaconda3/envs/trading/lib/python3.10/site-packages/transformers/pipelines/question_answering.py:326: UserWarning: topk parameter is deprecated, use top_k instead\n",
      "  warnings.warn(\"topk parameter is deprecated, use top_k instead\", UserWarning)\n"
     ]
    },
    {
     "data": {
      "text/plain": [
       "[{'score': 0.2651616334915161, 'start': 38, 'end': 48, 'answer': '6000 hours'},\n",
       " {'score': 0.22082962095737457,\n",
       "  'start': 16,\n",
       "  'end': 48,\n",
       "  'answer': '1 MB/minute, so about 6000 hours'}]"
      ]
     },
     "execution_count": 36,
     "metadata": {},
     "output_type": "execute_result"
    }
   ],
   "source": [
    "from transformers import pipeline\n",
    "\n",
    "pipe = pipeline('question-answering', model=model, tokenizer=tokenizer)\n",
    "pipe(question=question, context=context, topk=2)"
   ]
  },
  {
   "cell_type": "code",
   "execution_count": 37,
   "id": "bdb7468e",
   "metadata": {},
   "outputs": [
    {
     "data": {
      "text/plain": [
       "{'score': 0.9068413972854614, 'start': 0, 'end': 0, 'answer': ''}"
      ]
     },
     "execution_count": 37,
     "metadata": {},
     "output_type": "execute_result"
    }
   ],
   "source": [
    "pipe(question=\"Why is there no data?\", context=context,\n",
    "     handle_impossible_answer=True)"
   ]
  },
  {
   "cell_type": "markdown",
   "id": "1740bf70",
   "metadata": {},
   "source": [
    "**긴 텍스트 다루기**"
   ]
  },
  {
   "cell_type": "code",
   "execution_count": 38,
   "id": "d25e1779",
   "metadata": {},
   "outputs": [
    {
     "data": {
      "image/png": "[encoded data removed]",
      "text/plain": [
       "<Figure size 640x480 with 1 Axes>"
      ]
     },
     "metadata": {},
     "output_type": "display_data"
    }
   ],
   "source": [
    "# SubjQA 훈련 세트에 있는 질문-문맥 쌍의 토큰 분포\n",
    "def compute_input_length(row):\n",
    "    inputs = tokenizer(row[\"question\"], row[\"context\"])\n",
    "    return len(inputs[\"input_ids\"])\n",
    "\n",
    "dfs[\"train\"][\"n_tokens\"] = dfs[\"train\"].apply(compute_input_length, axis=1)\n",
    "\n",
    "fig, ax = plt.subplots()\n",
    "dfs[\"train\"][\"n_tokens\"].hist(bins=100, grid=False, ec=\"C0\", ax=ax)\n",
    "plt.xlabel(\"Number of tokens in question-context pair\")\n",
    "ax.axvline(x=512, ymin=0, ymax=1, linestyle=\"--\", color=\"C1\",\n",
    "           label=\"Maximum sequence length\")\n",
    "plt.legend()\n",
    "plt.ylabel(\"Count\")\n",
    "plt.show()"
   ]
  },
  {
   "cell_type": "code",
   "execution_count": 39,
   "id": "07163144",
   "metadata": {},
   "outputs": [
    {
     "name": "stderr",
     "output_type": "stream",
     "text": [
      "Truncation was not explicitly activated but `max_length` is provided a specific value, please use `truncation=True` to explicitly truncate examples to max length. Defaulting to 'longest_first' truncation strategy. If you encode pairs of sequences (GLUE-style) with the tokenizer you can select this strategy more precisely by providing a specific strategy to `truncation`.\n"
     ]
    }
   ],
   "source": [
    "example = dfs['train'].iloc[0][[\"question\", \"context\"]]\n",
    "tokenized_example = tokenizer(example['question'], example['context'], \n",
    "                             return_overflowing_tokens=True, max_length=100, stride=25)"
   ]
  },
  {
   "cell_type": "code",
   "execution_count": 40,
   "id": "42ae2da6",
   "metadata": {},
   "outputs": [
    {
     "name": "stdout",
     "output_type": "stream",
     "text": [
      "#0 윈도에는 100개의 토큰이 있습니다.\n",
      "#1 윈도에는 88개의 토큰이 있습니다.\n"
     ]
    }
   ],
   "source": [
    "for idx, window in enumerate(tokenized_example[\"input_ids\"]):\n",
    "    print(f\"#{idx} 윈도에는 {len(window)}개의 토큰이 있습니다.\")"
   ]
  },
  {
   "cell_type": "code",
   "execution_count": 41,
   "id": "8e6e2f7a",
   "metadata": {},
   "outputs": [
    {
     "name": "stdout",
     "output_type": "stream",
     "text": [
      "[CLS] how is the bass? [SEP] i have had koss headphones in the past, pro 4aa and qz - 99. the koss portapro is portable and has great bass response. the work great with my android phone and can be \" rolled up \" to be carried in my motorcycle jacket or computer bag without getting crunched. they are very light and do not feel heavy or bear down on your ears even after listening to music with them on all day. the sound is [SEP]\n",
      "\n",
      "[CLS] how is the bass? [SEP] and do not feel heavy or bear down on your ears even after listening to music with them on all day. the sound is night and day better than any ear - bud could be and are almost as good as the pro 4aa. they are \" open air \" headphones so you cannot match the bass to the sealed types, but it comes close. for $ 32, you cannot go wrong. [SEP]\n",
      "\n"
     ]
    }
   ],
   "source": [
    "for window in tokenized_example['input_ids']:\n",
    "    print(f'{tokenizer.decode(window)}\\n')"
   ]
  },
  {
   "cell_type": "markdown",
   "id": "75ddf061",
   "metadata": {},
   "source": [
    "## 헤이스택을 사용해 QA 파이프라인 구축하기"
   ]
  },
  {
   "cell_type": "markdown",
   "id": "0426f8d0",
   "metadata": {},
   "source": [
    "**문서 저장소 초기화하기**"
   ]
  },
  {
   "cell_type": "markdown",
   "id": "21dfac0f",
   "metadata": {},
   "source": [
    "- [우분투에 elasticsearch 설치하기](https://hwanstory.kr/@kim-hwan/posts/ELK-Stack-Install)"
   ]
  },
  {
   "cell_type": "code",
   "execution_count": 42,
   "id": "c2aff54a",
   "metadata": {
    "scrolled": true
   },
   "outputs": [
    {
     "name": "stdout",
     "output_type": "stream",
     "text": [
      "{\r\n",
      "  \"name\" : \"msi\",\r\n",
      "  \"cluster_name\" : \"elasticsearch\",\r\n",
      "  \"cluster_uuid\" : \"U1Ni4yAQSd6TnaLdd7uVMA\",\r\n",
      "  \"version\" : {\r\n",
      "    \"number\" : \"7.17.18\",\r\n",
      "    \"build_flavor\" : \"default\",\r\n",
      "    \"build_type\" : \"deb\",\r\n",
      "    \"build_hash\" : \"8682172c2130b9a411b1bd5ff37c9792367de6b0\",\r\n",
      "    \"build_date\" : \"2024-02-02T12:04:59.691750271Z\",\r\n",
      "    \"build_snapshot\" : false,\r\n",
      "    \"lucene_version\" : \"8.11.1\",\r\n",
      "    \"minimum_wire_compatibility_version\" : \"6.8.0\",\r\n",
      "    \"minimum_index_compatibility_version\" : \"6.0.0-beta1\"\r\n",
      "  },\r\n",
      "  \"tagline\" : \"You Know, for Search\"\r\n",
      "}\r\n"
     ]
    }
   ],
   "source": [
    "!curl -X GET \"localhost:9200/?pretty\""
   ]
  },
  {
   "cell_type": "code",
   "execution_count": 43,
   "id": "1181ca1e",
   "metadata": {},
   "outputs": [],
   "source": [
    "# !pip install elasticsearch-haystack"
   ]
  },
  {
   "cell_type": "code",
   "execution_count": 55,
   "id": "63b58e51",
   "metadata": {},
   "outputs": [
    {
     "name": "stdout",
     "output_type": "stream",
     "text": [
      "1.25.0\n"
     ]
    }
   ],
   "source": [
    "import haystack\n",
    "\n",
    "print(haystack.__version__)"
   ]
  },
  {
   "cell_type": "code",
   "execution_count": 50,
   "id": "ab5be145",
   "metadata": {},
   "outputs": [],
   "source": [
    "from haystack.document_stores.elasticsearch import ElasticsearchDocumentStore\n",
    "\n",
    "# 밀집 리트리버에서 사용할 문서 임베딩을 반환합니다.\n",
    "document_store = ElasticsearchDocumentStore(return_embedding=True)"
   ]
  },
  {
   "cell_type": "code",
   "execution_count": 51,
   "id": "3aac2a2f",
   "metadata": {},
   "outputs": [],
   "source": [
    "# 노트북을 다시 시작할 때 일래스틱서치 저장소를 모두 비우는 것이 좋습니다.\n",
    "if len(document_store.get_all_documents()) or len(document_store.get_all_labels()) > 0:\n",
    "    document_store.delete_documents(\"document\")\n",
    "    document_store.delete_documents(\"label\")"
   ]
  },
  {
   "cell_type": "code",
   "execution_count": 53,
   "id": "f5e6990a",
   "metadata": {},
   "outputs": [
    {
     "name": "stdout",
     "output_type": "stream",
     "text": [
      "1615개 문서가 저장되었습니다\n"
     ]
    }
   ],
   "source": [
    "for split, df in dfs.items():\n",
    "    # 중복 리뷰를 제외시킵니다\n",
    "    docs = [{\"text\": row[\"context\"],\n",
    "             \"content\": row[\"context\"],  # 'content' 필드 추가\n",
    "             \"meta\": {\"item_id\": row[\"title\"], \"question_id\": row[\"id\"],\n",
    "                      \"split\": split}}\n",
    "            for _, row in df.drop_duplicates(subset=\"context\").iterrows()]\n",
    "    document_store.write_documents(docs, index=\"document\")\n",
    "    \n",
    "print(f\"{document_store.get_document_count()}개 문서가 저장되었습니다\")"
   ]
  },
  {
   "cell_type": "code",
   "execution_count": 60,
   "id": "a4f4fe3d",
   "metadata": {},
   "outputs": [
    {
     "data": {
      "text/plain": [
       "['Answer',\n",
       " 'BaseComponent',\n",
       " 'Document',\n",
       " 'EvaluationResult',\n",
       " 'Label',\n",
       " 'MultiLabel',\n",
       " 'Pipeline',\n",
       " 'Span',\n",
       " 'TableCell',\n",
       " '__annotations__',\n",
       " '__builtins__',\n",
       " '__cached__',\n",
       " '__doc__',\n",
       " '__file__',\n",
       " '__loader__',\n",
       " '__name__',\n",
       " '__package__',\n",
       " '__path__',\n",
       " '__spec__',\n",
       " '__version__',\n",
       " 'document_stores',\n",
       " 'environment',\n",
       " 'errors',\n",
       " 'hash128',\n",
       " 'haystack',\n",
       " 'lazy_imports',\n",
       " 'metadata',\n",
       " 'mmh3',\n",
       " 'modeling',\n",
       " 'nodes',\n",
       " 'pipelines',\n",
       " 'schema',\n",
       " 'set_pytorch_secure_model_loading',\n",
       " 'silenceable_tqdm',\n",
       " 'telemetry',\n",
       " 'utils']"
      ]
     },
     "execution_count": 60,
     "metadata": {},
     "output_type": "execute_result"
    }
   ],
   "source": [
    "import haystack\n",
    "dir(haystack)"
   ]
  },
  {
   "cell_type": "code",
   "execution_count": 61,
   "id": "3d395575",
   "metadata": {},
   "outputs": [],
   "source": [
    "from haystack import nodes"
   ]
  },
  {
   "cell_type": "code",
   "execution_count": 62,
   "id": "784311fb",
   "metadata": {},
   "outputs": [
    {
     "data": {
      "text/plain": [
       "['AnswerParser',\n",
       " 'AzureConverter',\n",
       " 'BM25Retriever',\n",
       " 'BaseComponent',\n",
       " 'BaseConverter',\n",
       " 'BaseDocumentClassifier',\n",
       " 'BaseOutputParser',\n",
       " 'BasePreProcessor',\n",
       " 'BaseRanker',\n",
       " 'BaseReader',\n",
       " 'BaseRetriever',\n",
       " 'BaseSampler',\n",
       " 'BaseSummarizer',\n",
       " 'BaseTranslator',\n",
       " 'CohereRanker',\n",
       " 'Crawler',\n",
       " 'CsvTextConverter',\n",
       " 'DensePassageRetriever',\n",
       " 'DenseRetriever',\n",
       " 'DiversityRanker',\n",
       " 'Docs2Answers',\n",
       " 'DocumentMerger',\n",
       " 'DocxToTextConverter',\n",
       " 'EmbeddingRetriever',\n",
       " 'EntityExtractor',\n",
       " 'FARMReader',\n",
       " 'FileTypeClassifier',\n",
       " 'FilterRetriever',\n",
       " 'ImageToTextConverter',\n",
       " 'JoinAnswers',\n",
       " 'JoinDocuments',\n",
       " 'JsonConverter',\n",
       " 'LangdetectDocumentLanguageClassifier',\n",
       " 'LinkContentFetcher',\n",
       " 'LostInTheMiddleRanker',\n",
       " 'MarkdownConverter',\n",
       " 'MultiModalRetriever',\n",
       " 'MultihopEmbeddingRetriever',\n",
       " 'PDFToTextConverter',\n",
       " 'ParsrConverter',\n",
       " 'PptxConverter',\n",
       " 'PreProcessor',\n",
       " 'PromptModel',\n",
       " 'PromptModelInvocationLayer',\n",
       " 'PromptNode',\n",
       " 'PromptTemplate',\n",
       " 'PseudoLabelGenerator',\n",
       " 'QuestionGenerator',\n",
       " 'RCIReader',\n",
       " 'RecentnessRanker',\n",
       " 'RouteDocuments',\n",
       " 'SentenceTransformersRanker',\n",
       " 'Shaper',\n",
       " 'TableReader',\n",
       " 'TableTextRetriever',\n",
       " 'TextConverter',\n",
       " 'TfidfRetriever',\n",
       " 'TikaConverter',\n",
       " 'TikaXHTMLParser',\n",
       " 'TopPSampler',\n",
       " 'TransformersDocumentClassifier',\n",
       " 'TransformersDocumentLanguageClassifier',\n",
       " 'TransformersImageToText',\n",
       " 'TransformersQueryClassifier',\n",
       " 'TransformersReader',\n",
       " 'TransformersSummarizer',\n",
       " 'TransformersTranslator',\n",
       " 'WebRetriever',\n",
       " 'WebSearch',\n",
       " 'WhisperModel',\n",
       " 'WhisperTranscriber',\n",
       " '__builtins__',\n",
       " '__cached__',\n",
       " '__doc__',\n",
       " '__file__',\n",
       " '__loader__',\n",
       " '__name__',\n",
       " '__package__',\n",
       " '__path__',\n",
       " '__spec__',\n",
       " '_json_schema',\n",
       " 'audio',\n",
       " 'base',\n",
       " 'connector',\n",
       " 'doc_language_classifier',\n",
       " 'document_classifier',\n",
       " 'extractor',\n",
       " 'file_classifier',\n",
       " 'file_converter',\n",
       " 'image_to_text',\n",
       " 'label_generator',\n",
       " 'other',\n",
       " 'preprocessor',\n",
       " 'prompt',\n",
       " 'query_classifier',\n",
       " 'question_generator',\n",
       " 'ranker',\n",
       " 'reader',\n",
       " 'retriever',\n",
       " 'sampler',\n",
       " 'search_engine',\n",
       " 'simplify_ner_for_qa',\n",
       " 'summarizer',\n",
       " 'translator']"
      ]
     },
     "execution_count": 62,
     "metadata": {},
     "output_type": "execute_result"
    }
   ],
   "source": [
    "dir(nodes)"
   ]
  },
  {
   "cell_type": "code",
   "execution_count": 57,
   "id": "e43b6de4",
   "metadata": {},
   "outputs": [
    {
     "data": {
      "text/plain": [
       "['Answer',\n",
       " 'BaseComponent',\n",
       " 'Document',\n",
       " 'EvaluationResult',\n",
       " 'Label',\n",
       " 'MultiLabel',\n",
       " 'Pipeline',\n",
       " 'Span',\n",
       " 'TableCell',\n",
       " '__annotations__',\n",
       " '__builtins__',\n",
       " '__cached__',\n",
       " '__doc__',\n",
       " '__file__',\n",
       " '__loader__',\n",
       " '__name__',\n",
       " '__package__',\n",
       " '__path__',\n",
       " '__spec__',\n",
       " '__version__',\n",
       " 'document_stores',\n",
       " 'environment',\n",
       " 'errors',\n",
       " 'hash128',\n",
       " 'haystack',\n",
       " 'lazy_imports',\n",
       " 'metadata',\n",
       " 'mmh3',\n",
       " 'modeling',\n",
       " 'nodes',\n",
       " 'pipelines',\n",
       " 'schema',\n",
       " 'set_pytorch_secure_model_loading',\n",
       " 'silenceable_tqdm',\n",
       " 'telemetry',\n",
       " 'utils']"
      ]
     },
     "execution_count": 57,
     "metadata": {},
     "output_type": "execute_result"
    }
   ],
   "source": [
    "dir(haystack)"
   ]
  },
  {
   "cell_type": "code",
   "execution_count": 74,
   "id": "a3ad8398",
   "metadata": {
    "scrolled": true
   },
   "outputs": [
    {
     "data": {
      "text/plain": [
       "<Document: {'content': 'This is a gift to myself.  I have been a kindle user for 4 years and this is my third one.  I never thought I would want a fire for I mainly use it for book reading.  I decided to try the fire for when I travel I take my laptop, my phone and my iPod classic.  I love my iPod but watching movies on the plane with it can be challenging because it is so small. Laptops battery life is not as good as the Kindle.  So the Fire combines for me what I needed all three to do. So far so good.', 'content_type': 'text', 'score': 0.6857824513476455, 'meta': {'item_id': 'B0074BW614', 'question_id': '868e311275e26dbafe5af70774a300f3', 'split': 'train', 'text': 'This is a gift to myself.  I have been a kindle user for 4 years and this is my third one.  I never thought I would want a fire for I mainly use it for book reading.  I decided to try the fire for when I travel I take my laptop, my phone and my iPod classic.  I love my iPod but watching movies on the plane with it can be challenging because it is so small. Laptops battery life is not as good as the Kindle.  So the Fire combines for me what I needed all three to do. So far so good.'}, 'id_hash_keys': ['content'], 'embedding': None, 'id': '252e83e25d52df7311d597dc89eef9f6'}>"
      ]
     },
     "execution_count": 74,
     "metadata": {},
     "output_type": "execute_result"
    }
   ],
   "source": [
    "from haystack.nodes import BM25Retriever\n",
    "\n",
    "es_retriever = BM25Retriever(document_store=document_store)\n",
    "\n",
    "item_id = \"B0074BW614\"\n",
    "query = \"Is it good for reading?\"\n",
    "retrieved_docs = es_retriever.retrieve(query=query, top_k=3, filters={'item_id':[item_id], 'split':['train']})\n",
    "\n",
    "retrieved_docs[0]"
   ]
  },
  {
   "cell_type": "markdown",
   "id": "45e38a59",
   "metadata": {},
   "source": [
    "**리트리버 초기화하기**"
   ]
  },
  {
   "cell_type": "code",
   "execution_count": 78,
   "id": "63e140b0",
   "metadata": {},
   "outputs": [],
   "source": [
    "from haystack.nodes import FARMReader\n",
    "\n",
    "model_ckpt = 'deepset/minilm-uncased-squad2'\n",
    "max_seq_length, doc_stride = 384, 128\n",
    "reader = FARMReader(model_name_or_path=model_ckpt, \n",
    "                    progress_bar=False,\n",
    "                   max_seq_len=max_seq_length, doc_stride=doc_stride,\n",
    "                   return_no_answer=True)"
   ]
  },
  {
   "cell_type": "code",
   "execution_count": 83,
   "id": "29530e6a",
   "metadata": {},
   "outputs": [
    {
     "name": "stdout",
     "output_type": "stream",
     "text": [
      "{'query': 'How much music can this hold?', 'no_ans_gap': 12.648090839385986, 'answers': [<Answer {'answer': '6000 hours', 'type': 'extractive', 'score': 0.5293056964874268, 'context': 'An MP3 is about 1 MB/minute, so about 6000 hours depending on file size.', 'offsets_in_document': [{'start': 38, 'end': 48}], 'offsets_in_context': [{'start': 38, 'end': 48}], 'document_ids': ['e344757014e804eff50faa3ecf1c9c75'], 'meta': {}}>]}\n"
     ]
    }
   ],
   "source": [
    "print(reader.predict_on_texts(question=question, texts=[context], top_k=1))"
   ]
  },
  {
   "cell_type": "markdown",
   "id": "5ffd9396",
   "metadata": {},
   "source": [
    "**모두 합치기**"
   ]
  },
  {
   "cell_type": "code",
   "execution_count": 84,
   "id": "7396ff4e",
   "metadata": {},
   "outputs": [],
   "source": [
    "from haystack.pipelines import ExtractiveQAPipeline\n",
    "\n",
    "pipe = ExtractiveQAPipeline(reader, es_retriever)"
   ]
  },
  {
   "cell_type": "code",
   "execution_count": 100,
   "id": "702a39d1",
   "metadata": {},
   "outputs": [],
   "source": [
    "n_answers = 3\n",
    "preds = pipe.run(\n",
    "    query=query, params={\"Retriever\": {\"top_k\": n_answers}, \"Reader\": {\"top_k\": n_answers}, \n",
    "                        \"filters\":{\"item_id\": [item_id], \"split\":[\"train\"]}}\n",
    ")"
   ]
  },
  {
   "cell_type": "code",
   "execution_count": 102,
   "id": "9f48421c",
   "metadata": {},
   "outputs": [
    {
     "data": {
      "text/plain": [
       "{'query': 'Is it good for reading?',\n",
       " 'no_ans_gap': 13.715798377990723,\n",
       " 'answers': [<Answer {'answer': 'it is great for reading books when no light is available', 'type': 'extractive', 'score': 0.5443060994148254, 'context': 'ecoming addicted to hers! Our son LOVES it and it is great for reading books when no light is available. Amazing sound but I suggest good headphones t', 'offsets_in_document': [{'start': 216, 'end': 272}], 'offsets_in_context': [{'start': 47, 'end': 103}], 'document_ids': ['41f4a1710c6f3be65c7814326b662ab6'], 'meta': {'item_id': 'B0074BW614', 'question_id': '998d564607f10bf6dbbd20b33b8fbbf1', 'split': 'train', 'text': 'Plays Netflix great, WiFi capability has great range. Resolution on the screen is AMAZING! For the price you cannot go wrong. Bought one for my spouse and myself after becoming addicted to hers! Our son LOVES it and it is great for reading books when no light is available. Amazing sound but I suggest good headphones to really hear it all.Battery life is super long and can go 3 or 4 days without a recharge from moderate use.A steal at $199.99.'}}>,\n",
       "  <Answer {'answer': 'I mainly use it for book reading', 'type': 'extractive', 'score': 0.46952497959136963, 'context': ' is my third one.  I never thought I would want a fire for I mainly use it for book reading.  I decided to try the fire for when I travel I take my la', 'offsets_in_document': [{'start': 132, 'end': 164}], 'offsets_in_context': [{'start': 59, 'end': 91}], 'document_ids': ['252e83e25d52df7311d597dc89eef9f6'], 'meta': {'item_id': 'B0074BW614', 'question_id': '868e311275e26dbafe5af70774a300f3', 'split': 'train', 'text': 'This is a gift to myself.  I have been a kindle user for 4 years and this is my third one.  I never thought I would want a fire for I mainly use it for book reading.  I decided to try the fire for when I travel I take my laptop, my phone and my iPod classic.  I love my iPod but watching movies on the plane with it can be challenging because it is so small. Laptops battery life is not as good as the Kindle.  So the Fire combines for me what I needed all three to do. So far so good.'}}>,\n",
       "  <Answer {'answer': '', 'type': 'extractive', 'score': 0.45532439793400176, 'context': None, 'offsets_in_document': [{'start': 0, 'end': 0}], 'offsets_in_context': [{'start': 0, 'end': 0}], 'document_ids': None, 'meta': {}}>],\n",
       " 'documents': [<Document: {'content': 'This is a gift to myself.  I have been a kindle user for 4 years and this is my third one.  I never thought I would want a fire for I mainly use it for book reading.  I decided to try the fire for when I travel I take my laptop, my phone and my iPod classic.  I love my iPod but watching movies on the plane with it can be challenging because it is so small. Laptops battery life is not as good as the Kindle.  So the Fire combines for me what I needed all three to do. So far so good.', 'content_type': 'text', 'score': 0.6857824513476455, 'meta': {'item_id': 'B0074BW614', 'question_id': '868e311275e26dbafe5af70774a300f3', 'split': 'train', 'text': 'This is a gift to myself.  I have been a kindle user for 4 years and this is my third one.  I never thought I would want a fire for I mainly use it for book reading.  I decided to try the fire for when I travel I take my laptop, my phone and my iPod classic.  I love my iPod but watching movies on the plane with it can be challenging because it is so small. Laptops battery life is not as good as the Kindle.  So the Fire combines for me what I needed all three to do. So far so good.'}, 'id_hash_keys': ['content'], 'embedding': None, 'id': '252e83e25d52df7311d597dc89eef9f6'}>,\n",
       "  <Document: {'content': 'Plays Netflix great, WiFi capability has great range. Resolution on the screen is AMAZING! For the price you cannot go wrong. Bought one for my spouse and myself after becoming addicted to hers! Our son LOVES it and it is great for reading books when no light is available. Amazing sound but I suggest good headphones to really hear it all.Battery life is super long and can go 3 or 4 days without a recharge from moderate use.A steal at $199.99.', 'content_type': 'text', 'score': 0.6846554055365114, 'meta': {'item_id': 'B0074BW614', 'question_id': '998d564607f10bf6dbbd20b33b8fbbf1', 'split': 'train', 'text': 'Plays Netflix great, WiFi capability has great range. Resolution on the screen is AMAZING! For the price you cannot go wrong. Bought one for my spouse and myself after becoming addicted to hers! Our son LOVES it and it is great for reading books when no light is available. Amazing sound but I suggest good headphones to really hear it all.Battery life is super long and can go 3 or 4 days without a recharge from moderate use.A steal at $199.99.'}, 'id_hash_keys': ['content'], 'embedding': None, 'id': '41f4a1710c6f3be65c7814326b662ab6'}>,\n",
       "  <Document: {'content': 'I\\'ve used an e-reader since the Rocket ebook in 1999, and I\\'ve always believed I wanted only an ebook reader with no other features. I don\\'t get out much, so my computer is convenient for everything else.I\\'ve had several Kindles and was happy with all of them, but I had recently played around with my brother\\'s tablet. When my last Kindle died, I decided to replace it with the Kindle Fire. I chose the smaller one because I was concerned about my arthritic hands holding a larger device for long periods. The 7\" is just perfect for me. It\\'s light enough that I can hold it to read, but the larger screen compared to the Kindle makes for easier reading. I love the color, something I never thought would make a difference to me.Oddly enough, high on my favorite list is the ability to review a book as soon as I reach the end. I have written reviews of every book I read on a readers social media site, but I have seldom put in the extra effort to come to Amazon to write a review. On the Kindle Fire, as soon as I come to the end of a book, a review page pops up so I can review it while it\\'s fresh on my mind, and I\\'m reviewing everything I read.I didn\\'t realize when I placed my order that I was ordering that the device had special offers. I\\'ve always thought I would not want to be subject to advertising when I was reading. However, I discovered that the special offers are discreet and no distraction at all. I\\'ve even found myself going to the special offers page a time or two to see what\\'s on offer.The only negative is that the battery doesn\\'t last very long. However, with the PowerFast charger, it doesn\\'t take long to charge the battery.I think folks like me who have always used a dedicated ereader and never even used a touch screen will be pleasantly surprised with the Kindle Fire, and people who are used to smartphones and tablets will find everything they expect in a device.Update 11/8/13: I still think the Kindle Fire is a fantastic product, and I use it occasionally for games. However, I have gone back to my Kindle Keyboard for reading novels. The arthritis in my shoulders, elbows, and hands has  worsened since I\\'ve been using the Kindle Fire, and even using the device for a short while increases the pain significantly. I can tolerate it for short periods to play a few games. However, I simply can\\'t hold the Kindle Fire long enough for reading. This won\\'t be an issue for most people, but I wanted to mention it for those people who might have similar problems.', 'content_type': 'text', 'score': 0.6578420310105324, 'meta': {'item_id': 'B0074BW614', 'question_id': '3ecfc76edee933ba1f202069b4fe7847', 'split': 'train', 'text': 'I\\'ve used an e-reader since the Rocket ebook in 1999, and I\\'ve always believed I wanted only an ebook reader with no other features. I don\\'t get out much, so my computer is convenient for everything else.I\\'ve had several Kindles and was happy with all of them, but I had recently played around with my brother\\'s tablet. When my last Kindle died, I decided to replace it with the Kindle Fire. I chose the smaller one because I was concerned about my arthritic hands holding a larger device for long periods. The 7\" is just perfect for me. It\\'s light enough that I can hold it to read, but the larger screen compared to the Kindle makes for easier reading. I love the color, something I never thought would make a difference to me.Oddly enough, high on my favorite list is the ability to review a book as soon as I reach the end. I have written reviews of every book I read on a readers social media site, but I have seldom put in the extra effort to come to Amazon to write a review. On the Kindle Fire, as soon as I come to the end of a book, a review page pops up so I can review it while it\\'s fresh on my mind, and I\\'m reviewing everything I read.I didn\\'t realize when I placed my order that I was ordering that the device had special offers. I\\'ve always thought I would not want to be subject to advertising when I was reading. However, I discovered that the special offers are discreet and no distraction at all. I\\'ve even found myself going to the special offers page a time or two to see what\\'s on offer.The only negative is that the battery doesn\\'t last very long. However, with the PowerFast charger, it doesn\\'t take long to charge the battery.I think folks like me who have always used a dedicated ereader and never even used a touch screen will be pleasantly surprised with the Kindle Fire, and people who are used to smartphones and tablets will find everything they expect in a device.Update 11/8/13: I still think the Kindle Fire is a fantastic product, and I use it occasionally for games. However, I have gone back to my Kindle Keyboard for reading novels. The arthritis in my shoulders, elbows, and hands has  worsened since I\\'ve been using the Kindle Fire, and even using the device for a short while increases the pain significantly. I can tolerate it for short periods to play a few games. However, I simply can\\'t hold the Kindle Fire long enough for reading. This won\\'t be an issue for most people, but I wanted to mention it for those people who might have similar problems.'}, 'id_hash_keys': ['content'], 'embedding': None, 'id': '219ce93058383db5659102424e34a094'}>],\n",
       " 'root_node': 'Query',\n",
       " 'params': {'Retriever': {'top_k': 3},\n",
       "  'Reader': {'top_k': 3},\n",
       "  'filters': {'item_id': ['B0074BW614'], 'split': ['train']}},\n",
       " 'node_id': 'Reader'}"
      ]
     },
     "execution_count": 102,
     "metadata": {},
     "output_type": "execute_result"
    }
   ],
   "source": [
    "preds"
   ]
  },
  {
   "cell_type": "code",
   "execution_count": 104,
   "id": "fc90f28e",
   "metadata": {},
   "outputs": [
    {
     "name": "stdout",
     "output_type": "stream",
     "text": [
      "질문: Is it good for reading? \n",
      "\n",
      "답변 1: it is great for reading books when no light is available\n",
      "해당 리뷰 텍스트: ...ecoming addicted to hers! Our son LOVES it and it is great for reading books when no light is available. Amazing sound but I suggest good headphones t...\n",
      "\n",
      "\n",
      "\n",
      "답변 2: I mainly use it for book reading\n",
      "해당 리뷰 텍스트: ... is my third one.  I never thought I would want a fire for I mainly use it for book reading.  I decided to try the fire for when I travel I take my la...\n",
      "\n",
      "\n",
      "\n",
      "답변 3: \n",
      "해당 리뷰 텍스트: ...None...\n",
      "\n",
      "\n",
      "\n"
     ]
    }
   ],
   "source": [
    "print(f\"질문: {preds['query']} \\n\")\n",
    "for idx in range(len(preds['answers'])):\n",
    "    answer = preds['answers'][idx].answer\n",
    "    context = preds['answers'][idx].context\n",
    "    print(f\"답변 {idx+1}: {answer}\")\n",
    "    print(f\"해당 리뷰 텍스트: ...{context}...\")\n",
    "    print(\"\\n\\n\")"
   ]
  },
  {
   "cell_type": "markdown",
   "id": "e0600bb6",
   "metadata": {},
   "source": [
    "# QA 파이프라인 개선하기"
   ]
  },
  {
   "cell_type": "markdown",
   "id": "0ccb6bf1",
   "metadata": {},
   "source": [
    "## 리트리버 평가하기"
   ]
  },
  {
   "cell_type": "markdown",
   "id": "c83c2d5a",
   "metadata": {},
   "source": [
    "**DPR**"
   ]
  },
  {
   "cell_type": "markdown",
   "id": "01ecfc0d",
   "metadata": {},
   "source": [
    "## 리더 평가하기"
   ]
  },
  {
   "cell_type": "markdown",
   "id": "f3fb2fef",
   "metadata": {},
   "source": [
    "## 도메인 적응"
   ]
  },
  {
   "cell_type": "markdown",
   "id": "44842319",
   "metadata": {},
   "source": [
    "## 전체 QA 파이프라인 평가하기"
   ]
  },
  {
   "cell_type": "markdown",
   "id": "81d84716",
   "metadata": {},
   "source": [
    "# 추출적 QA를 넘어서"
   ]
  },
  {
   "cell_type": "code",
   "execution_count": null,
   "id": "833d6ebb",
   "metadata": {},
   "outputs": [],
   "source": []
  }
 ],
 "metadata": {
  "kernelspec": {
   "display_name": "Python 3 (ipykernel)",
   "language": "python",
   "name": "python3"
  },
  "language_info": {
   "codemirror_mode": {
    "name": "ipython",
    "version": 3
   },
   "file_extension": ".py",
   "mimetype": "text/x-python",
   "name": "python",
   "nbconvert_exporter": "python",
   "pygments_lexer": "ipython3",
   "version": "3.10.9"
  },
  "toc": {
   "base_numbering": 1,
   "nav_menu": {},
   "number_sections": true,
   "sideBar": true,
   "skip_h1_title": false,
   "title_cell": "Table of Contents",
   "title_sidebar": "Contents",
   "toc_cell": false,
   "toc_position": {},
   "toc_section_display": true,
   "toc_window_display": false
  }
 },
 "nbformat": 4,
 "nbformat_minor": 5
}
