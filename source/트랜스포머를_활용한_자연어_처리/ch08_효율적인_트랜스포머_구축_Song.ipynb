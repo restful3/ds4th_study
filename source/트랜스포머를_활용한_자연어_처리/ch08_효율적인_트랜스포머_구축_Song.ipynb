{
 "cells": [
  {
   "cell_type": "markdown",
   "id": "196b733a",
   "metadata": {},
   "source": [
    "# 의도 탐지 예제"
   ]
  },
  {
   "cell_type": "code",
   "execution_count": 9,
   "id": "dd0e2c3e",
   "metadata": {},
   "outputs": [],
   "source": [
    "from transformers import pipeline\n",
    "\n",
    "bert_ckpt = 'transformersbook/bert-base-uncased-finetuned-clinc'\n",
    "pipe = pipeline(\"text-classification\", model=bert_ckpt)"
   ]
  },
  {
   "cell_type": "code",
   "execution_count": 10,
   "id": "b16065a8",
   "metadata": {},
   "outputs": [
    {
     "data": {
      "text/plain": [
       "[{'label': 'car_rental', 'score': 0.5490036010742188}]"
      ]
     },
     "execution_count": 10,
     "metadata": {},
     "output_type": "execute_result"
    }
   ],
   "source": [
    "query = \"\"\"Hey, I'd like to rent a vehicle from Nov 1st to Nov 15th in\n",
    "Paris and I need a 15 passenger van\"\"\"\n",
    "pipe(query)"
   ]
  },
  {
   "cell_type": "markdown",
   "id": "504b3ed2",
   "metadata": {},
   "source": [
    "## 벤치마크 클래스 만들기"
   ]
  },
  {
   "cell_type": "code",
   "execution_count": 11,
   "id": "b37c8153",
   "metadata": {},
   "outputs": [],
   "source": [
    "class PerformanceBenchmark:\n",
    "    def __init__(self, pipeline, dataset, optim_type=\"BERT baseline\"):\n",
    "        self.pipeline = pipeline\n",
    "        self.dataset = dataset\n",
    "        self.optim_type = optim_type\n",
    "\n",
    "    def compute_accuracy(self):\n",
    "        # 나중에 정의합니다\n",
    "        pass\n",
    "\n",
    "    def compute_size(self):\n",
    "        # 나중에 정의합니다\n",
    "        pass\n",
    "\n",
    "    def time_pipeline(self):\n",
    "        # 나중에 정의합니다\n",
    "        pass\n",
    "\n",
    "    def run_benchmark(self):\n",
    "        metrics = {}\n",
    "        metrics[self.optim_type] = self.compute_size()\n",
    "        metrics[self.optim_type].update(self.time_pipeline())\n",
    "        metrics[self.optim_type].update(self.compute_accuracy())\n",
    "        return metrics"
   ]
  },
  {
   "cell_type": "code",
   "execution_count": 12,
   "id": "df06b285",
   "metadata": {},
   "outputs": [],
   "source": [
    "from datasets import load_dataset\n",
    "\n",
    "clinc = load_dataset('clinc_oos', 'plus')"
   ]
  },
  {
   "cell_type": "code",
   "execution_count": 13,
   "id": "e31b1fe1",
   "metadata": {},
   "outputs": [
    {
     "data": {
      "text/plain": [
       "{'text': 'transfer $100 from my checking to saving account', 'intent': 133}"
      ]
     },
     "execution_count": 13,
     "metadata": {},
     "output_type": "execute_result"
    }
   ],
   "source": [
    "sample = clinc['test'][42]\n",
    "sample"
   ]
  },
  {
   "cell_type": "code",
   "execution_count": 14,
   "id": "eb81a564",
   "metadata": {},
   "outputs": [
    {
     "data": {
      "text/plain": [
       "'transfer'"
      ]
     },
     "execution_count": 14,
     "metadata": {},
     "output_type": "execute_result"
    }
   ],
   "source": [
    "intents = clinc['test'].features['intent']\n",
    "intents.int2str(sample['intent'])"
   ]
  },
  {
   "cell_type": "code",
   "execution_count": 15,
   "id": "c0523c49",
   "metadata": {},
   "outputs": [],
   "source": [
    "# from datasets import load_metric\n",
    "\n",
    "# accuracy_score = load_metric('accuracy')"
   ]
  },
  {
   "cell_type": "code",
   "execution_count": 16,
   "id": "2dfd3e35",
   "metadata": {
    "scrolled": true
   },
   "outputs": [],
   "source": [
    "# !pip install evaluate"
   ]
  },
  {
   "cell_type": "code",
   "execution_count": 17,
   "id": "58551e7e",
   "metadata": {},
   "outputs": [],
   "source": [
    "import evaluate\n",
    "\n",
    "accuracy_score = evaluate.load(\"accuracy\")"
   ]
  },
  {
   "cell_type": "code",
   "execution_count": 18,
   "id": "93a33167",
   "metadata": {},
   "outputs": [],
   "source": [
    "def compute_accuracy(self):\n",
    "    \"\"\"PerformanceBenchmark.compute_accuracy() 메서드를 오버라이드합니다\"\"\"\n",
    "    preds, labels = [], []\n",
    "    for example in self.dataset:\n",
    "        pred = self.pipeline(example[\"text\"])[0][\"label\"]\n",
    "        label = example[\"intent\"]\n",
    "        preds.append(intents.str2int(pred))\n",
    "        labels.append(label)\n",
    "    accuracy = accuracy_score.compute(predictions=preds, references=labels)\n",
    "    print(f\"테스트 세트 정확도 - {accuracy['accuracy']:.3f}\")\n",
    "    return accuracy\n",
    "\n",
    "PerformanceBenchmark.compute_accuracy = compute_accuracy"
   ]
  },
  {
   "cell_type": "code",
   "execution_count": 19,
   "id": "9401b1dc",
   "metadata": {},
   "outputs": [
    {
     "data": {
      "text/plain": [
       "('bert.encoder.layer.2.attention.self.value.weight',\n",
       " tensor([[-1.0526e-02, -3.2215e-02,  2.2097e-02,  ..., -6.0953e-03,\n",
       "           4.6521e-03,  2.9844e-02],\n",
       "         [-1.4964e-02, -1.0915e-02,  5.2396e-04,  ...,  3.2047e-05,\n",
       "          -2.6890e-02, -2.1943e-02],\n",
       "         [-2.9640e-02, -3.7842e-03, -1.2582e-02,  ..., -1.0917e-02,\n",
       "           3.1152e-02, -9.7786e-03],\n",
       "         ...,\n",
       "         [-1.5116e-02, -3.3226e-02,  4.2063e-02,  ..., -5.2652e-03,\n",
       "           1.1093e-02,  2.9703e-03],\n",
       "         [-3.6809e-02,  5.6848e-02, -2.6544e-02,  ..., -4.0114e-02,\n",
       "           6.7487e-03,  1.0511e-03],\n",
       "         [-2.4961e-02,  1.4747e-03, -5.4271e-02,  ...,  2.0004e-02,\n",
       "           2.3981e-02, -4.2880e-02]]))"
      ]
     },
     "execution_count": 19,
     "metadata": {},
     "output_type": "execute_result"
    }
   ],
   "source": [
    "list(pipe.model.state_dict().items())[42]"
   ]
  },
  {
   "cell_type": "code",
   "execution_count": 20,
   "id": "7471d347",
   "metadata": {},
   "outputs": [],
   "source": [
    "import torch\n",
    "torch.save(pipe.model.state_dict(), 'model.pt')"
   ]
  },
  {
   "cell_type": "code",
   "execution_count": 21,
   "id": "0473e638",
   "metadata": {},
   "outputs": [],
   "source": [
    "import torch\n",
    "from pathlib import Path\n",
    "\n",
    "def compute_size(self):\n",
    "    state_dict = self.pipeline.model.state_dict()\n",
    "    tmp_path = Path(\"model.pt\")\n",
    "    torch.save(state_dict, tmp_path)\n",
    "    size_mb = Path(tmp_path).stat().st_size /(1024*1024)\n",
    "    tmp_path.unlink()\n",
    "    print(f\"모델 크기 (MB) - {size_mb:.2f}\")\n",
    "    return {\"size_mb\": size_mb}\n",
    "\n",
    "PerformanceBenchmark.compute_size = compute_size    "
   ]
  },
  {
   "cell_type": "code",
   "execution_count": 22,
   "id": "5f902fed",
   "metadata": {},
   "outputs": [
    {
     "name": "stdout",
     "output_type": "stream",
     "text": [
      "레이턴시 (ms) - 16.010\n",
      "레이턴시 (ms) - 15.065\n",
      "레이턴시 (ms) - 14.991\n"
     ]
    }
   ],
   "source": [
    "from time import perf_counter\n",
    "\n",
    "for _ in range(3):\n",
    "    start_time = perf_counter()\n",
    "    _ = pipe(query)\n",
    "    latency = perf_counter() - start_time\n",
    "    print(f'레이턴시 (ms) - {1000* latency :.3f}')"
   ]
  },
  {
   "cell_type": "code",
   "execution_count": 23,
   "id": "4d1fd425",
   "metadata": {},
   "outputs": [],
   "source": [
    "import numpy as np\n",
    "\n",
    "def time_pipeline(self, query=\"What is the pin number for my account?\"):\n",
    "    latencies=[]\n",
    "    for _ in range(10):\n",
    "        _ = self.pipeline(query)\n",
    "    for _ in range(100):\n",
    "        start_time = perf_counter()\n",
    "        _ = self.pipeline(query)\n",
    "        latency = perf_counter() - start_time\n",
    "        latencies.append(latency)\n",
    "    time_avg_ms = 1000 * np.mean(latencies)\n",
    "    time_std_ms = 1000 * np.std(latencies)\n",
    "    print(f\"평균 레이턴시 (ms) - {time_avg_ms:.2f} +\\- {time_std_ms:.2f}\")\n",
    "    return {\"time_avg_ms\": time_avg_ms, \"time_std_ms\": time_std_ms}\n",
    "\n",
    "PerformanceBenchmark.time_pipeline = time_pipeline    "
   ]
  },
  {
   "cell_type": "code",
   "execution_count": 24,
   "id": "1e59a19c",
   "metadata": {},
   "outputs": [
    {
     "name": "stdout",
     "output_type": "stream",
     "text": [
      "모델 크기 (MB) - 418.15\n",
      "평균 레이턴시 (ms) - 14.12 +\\- 0.08\n",
      "테스트 세트 정확도 - 0.867\n"
     ]
    }
   ],
   "source": [
    "pb = PerformanceBenchmark(pipe, clinc['test'])\n",
    "perf_metrics = pb.run_benchmark()"
   ]
  },
  {
   "cell_type": "markdown",
   "id": "bab6483b",
   "metadata": {},
   "source": [
    "# 지식 정제로 모델 크기 줄이기"
   ]
  },
  {
   "cell_type": "markdown",
   "id": "83b278ac",
   "metadata": {},
   "source": [
    "## 지식 정제 트레이너 만들기"
   ]
  },
  {
   "cell_type": "code",
   "execution_count": 25,
   "id": "1e002019",
   "metadata": {},
   "outputs": [],
   "source": [
    "from transformers import TrainingArguments\n",
    "\n",
    "class DistillationTrainingArguments(TrainingArguments):\n",
    "    def __init__(self, *args, alpha=0.5, temperature=2.0, **kwargs):\n",
    "        super().__init__(*args, **kwargs)\n",
    "        self.alpha = alpha\n",
    "        self.temperature = temperature"
   ]
  },
  {
   "cell_type": "code",
   "execution_count": 26,
   "id": "1282e257",
   "metadata": {},
   "outputs": [],
   "source": [
    "import torch.nn as nn\n",
    "import torch.nn.functional as F\n",
    "from transformers import Trainer\n",
    "\n",
    "class DistillationTrainer(Trainer):\n",
    "    def __init__(self, *args, teacher_model=None, **kwargs):\n",
    "        super().__init__(*args, **kwargs)\n",
    "        self.teacher_model = teacher_model\n",
    "\n",
    "    def compute_loss(self, model, inputs, return_outputs=False):\n",
    "        device = torch.device(\"cuda\" if torch.cuda.is_available() else \"cpu\")\n",
    "        inputs = inputs.to(device)\n",
    "        outputs_stu = model(**inputs)\n",
    "        # 스튜던트의 크로스 엔트로피 손실과 로짓을 추출합니다\n",
    "        loss_ce = outputs_stu.loss\n",
    "        logits_stu = outputs_stu.logits\n",
    "        # 티처의 로짓을 추출합니다\n",
    "        with torch.no_grad():\n",
    "            outputs_tea = self.teacher_model(**inputs)\n",
    "            logits_tea = outputs_tea.logits\n",
    "        # 확률을 부드럽게하고 정제 손실을 계산합니다\n",
    "        loss_fct = nn.KLDivLoss(reduction=\"batchmean\")\n",
    "        loss_kd = self.args.temperature ** 2 * loss_fct(\n",
    "            F.log_softmax(logits_stu / self.args.temperature, dim=-1),\n",
    "            F.softmax(logits_tea / self.args.temperature, dim=-1))\n",
    "        # 가중 평균된 스튜던트 손실을 반환합니다\n",
    "        loss = self.args.alpha * loss_ce + (1. - self.args.alpha) * loss_kd\n",
    "        return (loss, outputs_stu) if return_outputs else loss"
   ]
  },
  {
   "cell_type": "markdown",
   "id": "82ce35e6",
   "metadata": {},
   "source": [
    "## 좋은 스튜던트 선택하기"
   ]
  },
  {
   "cell_type": "code",
   "execution_count": 27,
   "id": "6b98976c",
   "metadata": {},
   "outputs": [
    {
     "data": {
      "text/plain": [
       "DatasetDict({\n",
       "    train: Dataset({\n",
       "        features: ['text', 'intent'],\n",
       "        num_rows: 15250\n",
       "    })\n",
       "    validation: Dataset({\n",
       "        features: ['text', 'intent'],\n",
       "        num_rows: 3100\n",
       "    })\n",
       "    test: Dataset({\n",
       "        features: ['text', 'intent'],\n",
       "        num_rows: 5500\n",
       "    })\n",
       "})"
      ]
     },
     "execution_count": 27,
     "metadata": {},
     "output_type": "execute_result"
    }
   ],
   "source": [
    "clinc"
   ]
  },
  {
   "cell_type": "code",
   "execution_count": 28,
   "id": "b870c41f",
   "metadata": {},
   "outputs": [
    {
     "data": {
      "application/vnd.jupyter.widget-view+json": {
       "model_id": "95a44c3e6b8645fc882427649af10ee4",
       "version_major": 2,
       "version_minor": 0
      },
      "text/plain": [
       "Map:   0%|          | 0/3100 [00:00<?, ? examples/s]"
      ]
     },
     "metadata": {},
     "output_type": "display_data"
    }
   ],
   "source": [
    "from transformers import AutoTokenizer\n",
    "\n",
    "student_ckpt = 'distilbert-base-uncased'\n",
    "student_tokenizer = AutoTokenizer.from_pretrained(student_ckpt)\n",
    "\n",
    "def tokenizer_text(batch):\n",
    "    return student_tokenizer(batch['text'], truncation=True)\n",
    "\n",
    "clinc_enc = clinc.map(tokenizer_text, batched=True, remove_columns=['text'])\n",
    "clinc_enc = clinc_enc.rename_column('intent', 'labels')"
   ]
  },
  {
   "cell_type": "code",
   "execution_count": 29,
   "id": "b8ea9f00",
   "metadata": {},
   "outputs": [
    {
     "data": {
      "text/plain": [
       "DatasetDict({\n",
       "    train: Dataset({\n",
       "        features: ['labels', 'input_ids', 'attention_mask'],\n",
       "        num_rows: 15250\n",
       "    })\n",
       "    validation: Dataset({\n",
       "        features: ['labels', 'input_ids', 'attention_mask'],\n",
       "        num_rows: 3100\n",
       "    })\n",
       "    test: Dataset({\n",
       "        features: ['labels', 'input_ids', 'attention_mask'],\n",
       "        num_rows: 5500\n",
       "    })\n",
       "})"
      ]
     },
     "execution_count": 29,
     "metadata": {},
     "output_type": "execute_result"
    }
   ],
   "source": [
    "clinc_enc"
   ]
  },
  {
   "cell_type": "code",
   "execution_count": 46,
   "id": "c2dd7a22",
   "metadata": {},
   "outputs": [
    {
     "data": {
      "application/vnd.jupyter.widget-view+json": {
       "model_id": "70d3828e26c94d41afe30b4730aaa5ad",
       "version_major": 2,
       "version_minor": 0
      },
      "text/plain": [
       "VBox(children=(HTML(value='<center> <img\\nsrc=https://huggingface.co/front/assets/huggingface_logo-noborder.sv…"
      ]
     },
     "metadata": {},
     "output_type": "display_data"
    }
   ],
   "source": [
    "from huggingface_hub import notebook_login\n",
    "\n",
    "notebook_login()"
   ]
  },
  {
   "cell_type": "code",
   "execution_count": 47,
   "id": "95f3051b",
   "metadata": {},
   "outputs": [],
   "source": [
    "def compute_metrics(pred):\n",
    "    predictions, labels = pred\n",
    "    predictions = np.argmax(predictions, axis=1)\n",
    "    return accuracy_score.compute(predictions=predictions, references=labels)"
   ]
  },
  {
   "cell_type": "code",
   "execution_count": 48,
   "id": "3785f05d",
   "metadata": {},
   "outputs": [],
   "source": [
    "batch_size = 48\n",
    "finetuned_ckpt = 'distilbert-base-uncased-fintuned-clinc'\n",
    "student_training_args = DistillationTrainingArguments(\n",
    "    output_dir=finetuned_ckpt, evaluation_strategy='epoch',\n",
    "    num_train_epochs=5, learning_rate=2e-5,\n",
    "    per_device_train_batch_size=batch_size,\n",
    "    per_device_eval_batch_size=batch_size,\n",
    "    alpha=1, weight_decay=0.01, push_to_hub=True)"
   ]
  },
  {
   "cell_type": "code",
   "execution_count": 49,
   "id": "d4017729",
   "metadata": {},
   "outputs": [],
   "source": [
    "student_training_args.logging_steps = len(clinc_enc['train']) // batch_size\n",
    "student_training_args.disable_tqdm = False\n",
    "student_training_args.save_steps = 1e9\n",
    "# 트랜스포머 4.23.0 버전부터 로깅 수준을 문자열로 지정해야 합니다.\n",
    "# student_training_args.log_level = 40\n",
    "student_training_args.log_level = 'error'"
   ]
  },
  {
   "cell_type": "code",
   "execution_count": 50,
   "id": "4caa3deb",
   "metadata": {},
   "outputs": [
    {
     "name": "stdout",
     "output_type": "stream",
     "text": [
      "env: TOKENIZERS_PARALLELISM=false\n"
     ]
    }
   ],
   "source": [
    "%env TOKENIZERS_PARALLELISM=false"
   ]
  },
  {
   "cell_type": "code",
   "execution_count": 51,
   "id": "a9647fdd",
   "metadata": {},
   "outputs": [],
   "source": [
    "id2label = pipe.model.config.id2label\n",
    "label2id = pipe.model.config.label2id"
   ]
  },
  {
   "cell_type": "code",
   "execution_count": 52,
   "id": "f5c9a571",
   "metadata": {},
   "outputs": [],
   "source": [
    "from transformers import AutoConfig\n",
    "\n",
    "num_labels = intents.num_classes\n",
    "student_config = (AutoConfig\n",
    "                  .from_pretrained(student_ckpt, num_labels=num_labels,\n",
    "                                   id2label=id2label, label2id=label2id))"
   ]
  },
  {
   "cell_type": "code",
   "execution_count": 53,
   "id": "58568d4e",
   "metadata": {},
   "outputs": [],
   "source": [
    "import torch\n",
    "from transformers import AutoModelForSequenceClassification\n",
    "\n",
    "device = torch.device(\"cuda\" if torch.cuda.is_available() else \"cpu\")\n",
    "\n",
    "def student_init():\n",
    "    return (AutoModelForSequenceClassification\n",
    "            .from_pretrained(student_ckpt, config=student_config).to(device))"
   ]
  },
  {
   "cell_type": "code",
   "execution_count": 56,
   "id": "17bff5a3",
   "metadata": {},
   "outputs": [],
   "source": [
    "teacher_ckpt = \"transformersbook/bert-base-uncased-finetuned-clinc\"\n",
    "teacher_model = (AutoModelForSequenceClassification\n",
    "                 .from_pretrained(teacher_ckpt, num_labels=num_labels)\n",
    "                 .to(device))"
   ]
  },
  {
   "cell_type": "code",
   "execution_count": 57,
   "id": "d928b6b6",
   "metadata": {},
   "outputs": [
    {
     "name": "stderr",
     "output_type": "stream",
     "text": [
      "/home/restful3/anaconda3/envs/trading/lib/python3.9/site-packages/huggingface_hub/utils/_deprecation.py:131: FutureWarning: 'Repository' (from 'huggingface_hub.repository') is deprecated and will be removed from version '1.0'. Please prefer the http-based alternatives instead. Given its large adoption in legacy code, the complete removal is only planned on next major release.\n",
      "For more details, please read https://huggingface.co/docs/huggingface_hub/concepts/git_vs_http.\n",
      "  warnings.warn(warning_message, FutureWarning)\n",
      "Cloning https://huggingface.co/restful3/distilbert-base-uncased-fintuned-clinc into local empty directory.\n",
      "/home/restful3/anaconda3/envs/trading/lib/python3.9/site-packages/transformers/optimization.py:411: FutureWarning: This implementation of AdamW is deprecated and will be removed in a future version. Use the PyTorch implementation torch.optim.AdamW instead, or set `no_deprecation_warning=True` to disable this warning\n",
      "  warnings.warn(\n"
     ]
    },
    {
     "data": {
      "text/html": [
       "\n",
       "    <div>\n",
       "      \n",
       "      <progress value='1590' max='1590' style='width:300px; height:20px; vertical-align: middle;'></progress>\n",
       "      [1590/1590 02:54, Epoch 5/5]\n",
       "    </div>\n",
       "    <table border=\"1\" class=\"dataframe\">\n",
       "  <thead>\n",
       " <tr style=\"text-align: left;\">\n",
       "      <th>Epoch</th>\n",
       "      <th>Training Loss</th>\n",
       "      <th>Validation Loss</th>\n",
       "      <th>Accuracy</th>\n",
       "    </tr>\n",
       "  </thead>\n",
       "  <tbody>\n",
       "    <tr>\n",
       "      <td>1</td>\n",
       "      <td>4.286400</td>\n",
       "      <td>3.281807</td>\n",
       "      <td>0.742581</td>\n",
       "    </tr>\n",
       "    <tr>\n",
       "      <td>2</td>\n",
       "      <td>2.624800</td>\n",
       "      <td>1.874040</td>\n",
       "      <td>0.834516</td>\n",
       "    </tr>\n",
       "    <tr>\n",
       "      <td>3</td>\n",
       "      <td>1.543100</td>\n",
       "      <td>1.159181</td>\n",
       "      <td>0.892258</td>\n",
       "    </tr>\n",
       "    <tr>\n",
       "      <td>4</td>\n",
       "      <td>1.011500</td>\n",
       "      <td>0.859684</td>\n",
       "      <td>0.910645</td>\n",
       "    </tr>\n",
       "    <tr>\n",
       "      <td>5</td>\n",
       "      <td>0.799800</td>\n",
       "      <td>0.776815</td>\n",
       "      <td>0.915161</td>\n",
       "    </tr>\n",
       "  </tbody>\n",
       "</table><p>"
      ],
      "text/plain": [
       "<IPython.core.display.HTML object>"
      ]
     },
     "metadata": {},
     "output_type": "display_data"
    },
    {
     "data": {
      "text/plain": [
       "TrainOutput(global_step=1590, training_loss=2.0491743006796206, metrics={'train_runtime': 174.3292, 'train_samples_per_second': 437.391, 'train_steps_per_second': 9.121, 'total_flos': 413896353421488.0, 'train_loss': 2.0491743006796206, 'epoch': 5.0})"
      ]
     },
     "execution_count": 57,
     "metadata": {},
     "output_type": "execute_result"
    }
   ],
   "source": [
    "distilbert_trainer = DistillationTrainer(model_init=student_init,\n",
    "    teacher_model=teacher_model, args=student_training_args,\n",
    "    train_dataset=clinc_enc['train'], eval_dataset=clinc_enc['validation'],\n",
    "    compute_metrics=compute_metrics, tokenizer=student_tokenizer)\n",
    "\n",
    "distilbert_trainer.train()"
   ]
  },
  {
   "cell_type": "code",
   "execution_count": 58,
   "id": "d15892a8",
   "metadata": {},
   "outputs": [
    {
     "data": {
      "application/vnd.jupyter.widget-view+json": {
       "model_id": "0df3821c91fe455aa0a1600fba7e7aac",
       "version_major": 2,
       "version_minor": 0
      },
      "text/plain": [
       "Upload file pytorch_model.bin:   0%|          | 1.00/256M [00:00<?, ?B/s]"
      ]
     },
     "metadata": {},
     "output_type": "display_data"
    },
    {
     "data": {
      "application/vnd.jupyter.widget-view+json": {
       "model_id": "df1c4cd9450047cf87a8d849ca4c5416",
       "version_major": 2,
       "version_minor": 0
      },
      "text/plain": [
       "Upload file training_args.bin:   0%|          | 1.00/4.30k [00:00<?, ?B/s]"
      ]
     },
     "metadata": {},
     "output_type": "display_data"
    },
    {
     "name": "stderr",
     "output_type": "stream",
     "text": [
      "To https://huggingface.co/restful3/distilbert-base-uncased-fintuned-clinc\n",
      "   7d1f08f..cf11101  main -> main\n",
      "\n",
      "To https://huggingface.co/restful3/distilbert-base-uncased-fintuned-clinc\n",
      "   cf11101..4505d2b  main -> main\n",
      "\n"
     ]
    },
    {
     "data": {
      "text/plain": [
       "'https://huggingface.co/restful3/distilbert-base-uncased-fintuned-clinc/commit/cf1110135cfd462fdb11aef6e32326d666b504f4'"
      ]
     },
     "execution_count": 58,
     "metadata": {},
     "output_type": "execute_result"
    }
   ],
   "source": [
    "distilbert_trainer.push_to_hub(\"Training completed!\")"
   ]
  },
  {
   "cell_type": "code",
   "execution_count": 59,
   "id": "a6e5a2c0",
   "metadata": {},
   "outputs": [],
   "source": [
    "# `haesun`를 자신의 허브 사용자 이름으로 바꾸세요.\n",
    "finetuned_ckpt = \"restful3/distilbert-base-uncased-finetuned-clinc\"\n",
    "pipe = pipeline(\"text-classification\", model=finetuned_ckpt)"
   ]
  },
  {
   "cell_type": "code",
   "execution_count": 60,
   "id": "73cf9b81",
   "metadata": {},
   "outputs": [
    {
     "name": "stdout",
     "output_type": "stream",
     "text": [
      "모델 크기 (MB) - 255.88\n",
      "평균 레이턴시 (ms) - 6.51 +\\- 0.20\n",
      "테스트 세트 정확도 - 0.862\n"
     ]
    }
   ],
   "source": [
    "optim_type = \"DistilBERT\"\n",
    "pb = PerformanceBenchmark(pipe, clinc[\"test\"], optim_type=optim_type)\n",
    "perf_metrics.update(pb.run_benchmark())"
   ]
  },
  {
   "cell_type": "code",
   "execution_count": 62,
   "id": "e4e8aaac",
   "metadata": {},
   "outputs": [
    {
     "data": {
      "image/png": "[encoded data removed]",
      "text/plain": [
       "<Figure size 640x480 with 1 Axes>"
      ]
     },
     "metadata": {},
     "output_type": "display_data"
    }
   ],
   "source": [
    "import pandas as pd\n",
    "import matplotlib.pyplot as plt\n",
    "\n",
    "def plot_metrics(perf_metrics, current_optim_type):\n",
    "    df = pd.DataFrame.from_dict(perf_metrics, orient='index')\n",
    "\n",
    "    for idx in df.index:\n",
    "        df_opt = df.loc[idx]\n",
    "        # 현재 최적화 방법을 점선으로 그립니다\n",
    "        if idx == current_optim_type:\n",
    "            plt.scatter(df_opt[\"time_avg_ms\"], df_opt[\"accuracy\"] * 100,\n",
    "                        alpha=0.5, s=df_opt[\"size_mb\"], label=idx,\n",
    "                        marker='$\\u25CC$')\n",
    "        else:\n",
    "            plt.scatter(df_opt[\"time_avg_ms\"], df_opt[\"accuracy\"] * 100,\n",
    "                        s=df_opt[\"size_mb\"], label=idx, alpha=0.5)\n",
    "\n",
    "    legend = plt.legend(bbox_to_anchor=(1,1))\n",
    "    for handle in legend.legend_handles:\n",
    "        handle.set_sizes([20])\n",
    "\n",
    "    plt.ylim(80,90)\n",
    "    # 가장 느린 모델을 사용해 x 축 범위를 정합니다\n",
    "    xlim = int(perf_metrics[\"BERT baseline\"][\"time_avg_ms\"] + 3)\n",
    "    plt.xlim(1, xlim)\n",
    "    plt.ylabel(\"Accuracy (%)\")\n",
    "    plt.xlabel(\"Average latency (ms)\")\n",
    "    plt.show()\n",
    "\n",
    "plot_metrics(perf_metrics, optim_type)"
   ]
  },
  {
   "cell_type": "markdown",
   "id": "ae2cb2d4",
   "metadata": {},
   "source": [
    "## 옵투나로 좋은 하이퍼파라미터 찾기"
   ]
  },
  {
   "cell_type": "code",
   "execution_count": 63,
   "id": "95a41872",
   "metadata": {},
   "outputs": [
    {
     "data": {
      "image/png": "[encoded data removed]",
      "text/plain": [
       "<Figure size 640x480 with 1 Axes>"
      ]
     },
     "metadata": {},
     "output_type": "display_data"
    }
   ],
   "source": [
    "# 두 변수를 가진 로젠브록 함수 그래프\n",
    "import matplotlib.pyplot as plt\n",
    "import numpy as np\n",
    "\n",
    "def f(x, y):\n",
    "    return (1-x)**2+100*(y-x**2)**2\n",
    "\n",
    "X, Y = np.meshgrid(np.linspace(-2, 2, 250), np.linspace(-1, 3, 250))\n",
    "Z = f(X,Y)\n",
    "_, ax = plt.subplots()\n",
    "ax.plot([1], [1], 'x', mew=3, markersize=10, color=\"red\")\n",
    "ax.contourf(X, Y, Z, np.logspace(-1, 3, 30), cmap='viridis', extend=\"both\")\n",
    "ax.set_xlim(-1.3, 1.3)\n",
    "ax.set_ylim(-0.9, 1.7)\n",
    "plt.show()"
   ]
  },
  {
   "cell_type": "code",
   "execution_count": 64,
   "id": "feecda67",
   "metadata": {},
   "outputs": [],
   "source": [
    "def objective(trial):\n",
    "    x = trial.suggest_float(\"x\", -2, 2)\n",
    "    y = trial.suggest_float(\"y\", -2, 2)\n",
    "    return (1 - x) ** 2 + 100 * (y - x ** 2) ** 2"
   ]
  },
  {
   "cell_type": "code",
   "execution_count": 66,
   "id": "5471e611",
   "metadata": {},
   "outputs": [
    {
     "name": "stderr",
     "output_type": "stream",
     "text": [
      "[I 2024-03-25 20:25:02,912] A new study created in memory with name: no-name-9e519141-66b3-4029-bf30-a0db24b43204\n",
      "[I 2024-03-25 20:25:02,913] Trial 0 finished with value: 414.21881463216766 and parameters: {'x': 1.2739280519350618, 'y': -0.4121595980536643}. Best is trial 0 with value: 414.21881463216766.\n",
      "[I 2024-03-25 20:25:02,914] Trial 1 finished with value: 510.7382412871902 and parameters: {'x': -0.8707742377391949, 'y': -1.4939477002858532}. Best is trial 0 with value: 414.21881463216766.\n",
      "[I 2024-03-25 20:25:02,914] Trial 2 finished with value: 69.2887434017097 and parameters: {'x': 1.1340839416766024, 'y': 0.4538557830833789}. Best is trial 2 with value: 69.2887434017097.\n",
      "[I 2024-03-25 20:25:02,914] Trial 3 finished with value: 351.9369882309562 and parameters: {'x': 0.0300166124119432, 'y': 1.8743900427819908}. Best is trial 2 with value: 69.2887434017097.\n",
      "[I 2024-03-25 20:25:02,915] Trial 4 finished with value: 1857.0053800395115 and parameters: {'x': -1.8283409847693148, 'y': -0.9571760658647852}. Best is trial 2 with value: 69.2887434017097.\n",
      "[I 2024-03-25 20:25:02,915] Trial 5 finished with value: 36.302288949965416 and parameters: {'x': 1.3228065536160605, 'y': 1.1481687354352368}. Best is trial 5 with value: 36.302288949965416.\n",
      "[I 2024-03-25 20:25:02,915] Trial 6 finished with value: 141.05614121247947 and parameters: {'x': -1.572682541799773, 'y': 1.3138587486871223}. Best is trial 5 with value: 36.302288949965416.\n",
      "[I 2024-03-25 20:25:02,915] Trial 7 finished with value: 9.155800650941133 and parameters: {'x': 0.09303002138651406, 'y': -0.280018346114276}. Best is trial 7 with value: 9.155800650941133.\n",
      "[I 2024-03-25 20:25:02,916] Trial 8 finished with value: 419.6890833170815 and parameters: {'x': -0.2646625898536308, 'y': -1.974677929290432}. Best is trial 7 with value: 9.155800650941133.\n",
      "[I 2024-03-25 20:25:02,916] Trial 9 finished with value: 139.02698207742125 and parameters: {'x': -0.5781159455291802, 'y': -0.8342704307461699}. Best is trial 7 with value: 9.155800650941133.\n",
      "[I 2024-03-25 20:25:02,919] Trial 10 finished with value: 9.411513108875264 and parameters: {'x': 0.5207960065500061, 'y': -0.03178763532996606}. Best is trial 7 with value: 9.155800650941133.\n",
      "[I 2024-03-25 20:25:02,923] Trial 11 finished with value: 1.5827789890192663 and parameters: {'x': 0.5495059998856134, 'y': 0.18449050214039164}. Best is trial 11 with value: 1.5827789890192663.\n",
      "[I 2024-03-25 20:25:02,926] Trial 12 finished with value: 7.905348745848604 and parameters: {'x': 0.5337333114932132, 'y': 0.5621426693511493}. Best is trial 11 with value: 1.5827789890192663.\n",
      "[I 2024-03-25 20:25:02,929] Trial 13 finished with value: 1150.790205849501 and parameters: {'x': 1.9725273544457864, 'y': 0.49992860523552307}. Best is trial 11 with value: 1.5827789890192663.\n",
      "[I 2024-03-25 20:25:02,932] Trial 14 finished with value: 1.6199599432476754 and parameters: {'x': 0.6828622671071611, 'y': 0.5895641551080774}. Best is trial 11 with value: 1.5827789890192663.\n",
      "[I 2024-03-25 20:25:02,935] Trial 15 finished with value: 27.000459594639654 and parameters: {'x': 0.6613968046409011, 'y': 0.9559609930488465}. Best is trial 11 with value: 1.5827789890192663.\n",
      "[I 2024-03-25 20:25:02,938] Trial 16 finished with value: 445.3287740220695 and parameters: {'x': 1.980347223139748, 'y': 1.813772056495199}. Best is trial 11 with value: 1.5827789890192663.\n",
      "[I 2024-03-25 20:25:02,941] Trial 17 finished with value: 51.31163024052117 and parameters: {'x': 0.9450112233697208, 'y': 0.1767459507076985}. Best is trial 11 with value: 1.5827789890192663.\n",
      "[I 2024-03-25 20:25:02,944] Trial 18 finished with value: 46.92309567795273 and parameters: {'x': -1.2259654616878444, 'y': 0.8551628371767991}. Best is trial 11 with value: 1.5827789890192663.\n",
      "[I 2024-03-25 20:25:02,947] Trial 19 finished with value: 198.05449764578486 and parameters: {'x': 0.29800083442496106, 'y': 1.494370912743857}. Best is trial 11 with value: 1.5827789890192663.\n",
      "[I 2024-03-25 20:25:02,950] Trial 20 finished with value: 1014.6836640584653 and parameters: {'x': 1.589306779325934, 'y': -0.6589687645645975}. Best is trial 11 with value: 1.5827789890192663.\n",
      "[I 2024-03-25 20:25:02,953] Trial 21 finished with value: 1.687909903267799 and parameters: {'x': 0.6775723658414936, 'y': 0.5849593992082849}. Best is trial 11 with value: 1.5827789890192663.\n",
      "[I 2024-03-25 20:25:02,956] Trial 22 finished with value: 24.227574870257694 and parameters: {'x': 0.7958299855486846, 'y': 0.1415538503610259}. Best is trial 11 with value: 1.5827789890192663.\n",
      "[I 2024-03-25 20:25:02,959] Trial 23 finished with value: 43.41150730743618 and parameters: {'x': -0.12418675050934835, 'y': 0.6646350372438785}. Best is trial 11 with value: 1.5827789890192663.\n",
      "[I 2024-03-25 20:25:02,962] Trial 24 finished with value: 3.3427680755120166 and parameters: {'x': 0.2855423135415982, 'y': -0.08676051549580033}. Best is trial 11 with value: 1.5827789890192663.\n",
      "[I 2024-03-25 20:25:02,965] Trial 25 finished with value: 396.82301182389136 and parameters: {'x': 1.5175918616040014, 'y': 0.31171590506347}. Best is trial 11 with value: 1.5827789890192663.\n",
      "[I 2024-03-25 20:25:02,969] Trial 26 finished with value: 0.8882877685159731 and parameters: {'x': 0.9377215965875398, 'y': 0.785278761652578}. Best is trial 26 with value: 0.8882877685159731.\n",
      "[I 2024-03-25 20:25:02,972] Trial 27 finished with value: 1.130623337101106 and parameters: {'x': 1.014216491909417, 'y': 0.9223138232596804}. Best is trial 26 with value: 0.8882877685159731.\n",
      "[I 2024-03-25 20:25:02,975] Trial 28 finished with value: 26.9087343375732 and parameters: {'x': 1.0255126884848238, 'y': 1.570406294969948}. Best is trial 26 with value: 0.8882877685159731.\n",
      "[I 2024-03-25 20:25:02,978] Trial 29 finished with value: 48.05529799997718 and parameters: {'x': 1.3279039412304354, 'y': 1.070885543675446}. Best is trial 26 with value: 0.8882877685159731.\n",
      "[I 2024-03-25 20:25:02,981] Trial 30 finished with value: 705.3256234649801 and parameters: {'x': 1.551446710530171, 'y': -0.24823725686343967}. Best is trial 26 with value: 0.8882877685159731.\n",
      "[I 2024-03-25 20:25:02,984] Trial 31 finished with value: 0.11278639834960667 and parameters: {'x': 0.8954024197397197, 'y': 0.8336587733568182}. Best is trial 31 with value: 0.11278639834960667.\n",
      "[I 2024-03-25 20:25:02,988] Trial 32 finished with value: 0.26175775004265006 and parameters: {'x': 0.9328571412329101, 'y': 0.8195026680949101}. Best is trial 31 with value: 0.11278639834960667.\n",
      "[I 2024-03-25 20:25:02,991] Trial 33 finished with value: 18.886040185099347 and parameters: {'x': 1.1261329096034525, 'y': 0.8337776934246289}. Best is trial 31 with value: 0.11278639834960667.\n",
      "[I 2024-03-25 20:25:02,994] Trial 34 finished with value: 19.6687227180363 and parameters: {'x': 0.8957683798121135, 'y': 1.2457728261763574}. Best is trial 31 with value: 0.11278639834960667.\n",
      "[I 2024-03-25 20:25:02,997] Trial 35 finished with value: 2.3147580935423266 and parameters: {'x': 1.2225852581753833, 'y': 1.344208438011186}. Best is trial 31 with value: 0.11278639834960667.\n",
      "[I 2024-03-25 20:25:03,000] Trial 36 finished with value: 403.8999996759349 and parameters: {'x': 1.7059070755323535, 'y': 0.9016327171980097}. Best is trial 31 with value: 0.11278639834960667.\n",
      "[I 2024-03-25 20:25:03,004] Trial 37 finished with value: 229.17672716980763 and parameters: {'x': 0.3086272367778291, 'y': 1.6075296174999039}. Best is trial 31 with value: 0.11278639834960667.\n",
      "[I 2024-03-25 20:25:03,007] Trial 38 finished with value: 116.0493460921582 and parameters: {'x': 1.3603722343674685, 'y': 0.7739535337614029}. Best is trial 31 with value: 0.11278639834960667.\n",
      "[I 2024-03-25 20:25:03,010] Trial 39 finished with value: 97.8918192975609 and parameters: {'x': -0.3856438048649182, 'y': 1.128373177064801}. Best is trial 31 with value: 0.11278639834960667.\n",
      "[I 2024-03-25 20:25:03,013] Trial 40 finished with value: 480.1629433560406 and parameters: {'x': 0.9509607161874304, 'y': -1.2869302929947208}. Best is trial 31 with value: 0.11278639834960667.\n",
      "[I 2024-03-25 20:25:03,016] Trial 41 finished with value: 9.029537935375911 and parameters: {'x': 0.3924091198295767, 'y': 0.4482700045743294}. Best is trial 31 with value: 0.11278639834960667.\n"
     ]
    },
    {
     "name": "stderr",
     "output_type": "stream",
     "text": [
      "[I 2024-03-25 20:25:03,019] Trial 42 finished with value: 10.678810801467991 and parameters: {'x': 0.03978311608567486, 'y': 0.3139413737672032}. Best is trial 31 with value: 0.11278639834960667.\n",
      "[I 2024-03-25 20:25:03,023] Trial 43 finished with value: 97.81244341641487 and parameters: {'x': 1.1324705217079332, 'y': 0.29357646827737055}. Best is trial 31 with value: 0.11278639834960667.\n",
      "[I 2024-03-25 20:25:03,026] Trial 44 finished with value: 23.515907845814247 and parameters: {'x': 0.7891019292603237, 'y': 1.1071550722839585}. Best is trial 31 with value: 0.11278639834960667.\n",
      "[I 2024-03-25 20:25:03,029] Trial 45 finished with value: 35.6017420211413 and parameters: {'x': 0.43728518352325896, 'y': -0.4027942443707184}. Best is trial 31 with value: 0.11278639834960667.\n",
      "[I 2024-03-25 20:25:03,032] Trial 46 finished with value: 185.48626017798617 and parameters: {'x': 0.13221724796454637, 'y': 1.3766473701908393}. Best is trial 31 with value: 0.11278639834960667.\n",
      "[I 2024-03-25 20:25:03,035] Trial 47 finished with value: 282.51653720773345 and parameters: {'x': 0.5546801345583703, 'y': 1.9879028552612676}. Best is trial 31 with value: 0.11278639834960667.\n",
      "[I 2024-03-25 20:25:03,039] Trial 48 finished with value: 0.7103868038178964 and parameters: {'x': 0.8174241309851166, 'y': 0.750465431527947}. Best is trial 31 with value: 0.11278639834960667.\n",
      "[I 2024-03-25 20:25:03,042] Trial 49 finished with value: 454.54596115200155 and parameters: {'x': 1.6952950408789111, 'y': 0.7431509809830465}. Best is trial 31 with value: 0.11278639834960667.\n",
      "[I 2024-03-25 20:25:03,045] Trial 50 finished with value: 94.91708656024849 and parameters: {'x': 1.3925715901712472, 'y': 0.9657928758263354}. Best is trial 31 with value: 0.11278639834960667.\n",
      "[I 2024-03-25 20:25:03,048] Trial 51 finished with value: 2.520658119992055 and parameters: {'x': 0.7832191258246044, 'y': 0.4561533329443078}. Best is trial 31 with value: 0.11278639834960667.\n",
      "[I 2024-03-25 20:25:03,052] Trial 52 finished with value: 7.153110982092122 and parameters: {'x': 0.9817244287679657, 'y': 0.6963360932519962}. Best is trial 31 with value: 0.11278639834960667.\n",
      "[I 2024-03-25 20:25:03,055] Trial 53 finished with value: 7.519637929570078 and parameters: {'x': 0.577346165134264, 'y': 0.062385765269918375}. Best is trial 31 with value: 0.11278639834960667.\n",
      "[I 2024-03-25 20:25:03,059] Trial 54 finished with value: 10.744208303231709 and parameters: {'x': 1.1530826121787205, 'y': 1.0021735796927818}. Best is trial 31 with value: 0.11278639834960667.\n",
      "[I 2024-03-25 20:25:03,062] Trial 55 finished with value: 3031.2001267668343 and parameters: {'x': -1.8884313257596066, 'y': -1.9318786838896358}. Best is trial 31 with value: 0.11278639834960667.\n",
      "[I 2024-03-25 20:25:03,065] Trial 56 finished with value: 41.644763852515844 and parameters: {'x': 0.7836977130758307, 'y': 1.2591470438543604}. Best is trial 31 with value: 0.11278639834960667.\n",
      "[I 2024-03-25 20:25:03,069] Trial 57 finished with value: 159.54879831669214 and parameters: {'x': 1.0858987722906208, 'y': -0.0839209219570323}. Best is trial 31 with value: 0.11278639834960667.\n",
      "[I 2024-03-25 20:25:03,072] Trial 58 finished with value: 15.19395224956761 and parameters: {'x': 0.18611452450373123, 'y': 0.4158412222341972}. Best is trial 31 with value: 0.11278639834960667.\n",
      "[I 2024-03-25 20:25:03,075] Trial 59 finished with value: 3.2442832288949393 and parameters: {'x': 0.6634796973104462, 'y': 0.617152682692951}. Best is trial 31 with value: 0.11278639834960667.\n",
      "[I 2024-03-25 20:25:03,079] Trial 60 finished with value: 21.11195020564986 and parameters: {'x': -0.7778004003491892, 'y': 0.18128282160552833}. Best is trial 31 with value: 0.11278639834960667.\n",
      "[I 2024-03-25 20:25:03,082] Trial 61 finished with value: 2.7975387969901906 and parameters: {'x': 0.8518250194116431, 'y': 0.5590050542102829}. Best is trial 31 with value: 0.11278639834960667.\n",
      "[I 2024-03-25 20:25:03,085] Trial 62 finished with value: 16.041998475177387 and parameters: {'x': 0.6540112943100147, 'y': 0.8267582193931104}. Best is trial 31 with value: 0.11278639834960667.\n",
      "[I 2024-03-25 20:25:03,088] Trial 63 finished with value: 22.61799123887308 and parameters: {'x': 0.4684891218512514, 'y': 0.6920864100583817}. Best is trial 31 with value: 0.11278639834960667.\n",
      "[I 2024-03-25 20:25:03,092] Trial 64 finished with value: 40.82048765307347 and parameters: {'x': 1.2739592245316067, 'y': 0.9846506037314651}. Best is trial 31 with value: 0.11278639834960667.\n",
      "[I 2024-03-25 20:25:03,095] Trial 65 finished with value: 40.304203707339845 and parameters: {'x': 0.9746294832676103, 'y': 0.31505178068112133}. Best is trial 31 with value: 0.11278639834960667.\n",
      "[I 2024-03-25 20:25:03,099] Trial 66 finished with value: 90.69170209826927 and parameters: {'x': 1.4635587052471282, 'y': 1.1908110674084893}. Best is trial 31 with value: 0.11278639834960667.\n",
      "[I 2024-03-25 20:25:03,102] Trial 67 finished with value: 221.98822693695786 and parameters: {'x': -1.413493721094241, 'y': 0.5277152860202692}. Best is trial 31 with value: 0.11278639834960667.\n",
      "[I 2024-03-25 20:25:03,105] Trial 68 finished with value: 73.49618123374263 and parameters: {'x': -0.1581725245295595, 'y': 0.8744584667402889}. Best is trial 31 with value: 0.11278639834960667.\n",
      "[I 2024-03-25 20:25:03,109] Trial 69 finished with value: 8.576935849085682 and parameters: {'x': 1.1939784311951418, 'y': 1.7178054416855102}. Best is trial 31 with value: 0.11278639834960667.\n",
      "[I 2024-03-25 20:25:03,112] Trial 70 finished with value: 83.33162467125503 and parameters: {'x': 0.6973642919636301, 'y': 1.3986767328743304}. Best is trial 31 with value: 0.11278639834960667.\n",
      "[I 2024-03-25 20:25:03,115] Trial 71 finished with value: 0.1743933268947132 and parameters: {'x': 0.8950803400824237, 'y': 0.7607478810394958}. Best is trial 31 with value: 0.11278639834960667.\n",
      "[I 2024-03-25 20:25:03,119] Trial 72 finished with value: 10.787359143772516 and parameters: {'x': 1.0423244236768605, 'y': 0.7580263222252417}. Best is trial 31 with value: 0.11278639834960667.\n",
      "[I 2024-03-25 20:25:03,122] Trial 73 finished with value: 3.311981247527638 and parameters: {'x': 0.8979202932413073, 'y': 0.6245588722604728}. Best is trial 31 with value: 0.11278639834960667.\n",
      "[I 2024-03-25 20:25:03,125] Trial 74 finished with value: 50.18184060210152 and parameters: {'x': 0.570007564191723, 'y': 1.0319938168811382}. Best is trial 31 with value: 0.11278639834960667.\n",
      "[I 2024-03-25 20:25:03,129] Trial 75 finished with value: 13.172643605555026 and parameters: {'x': 0.7370473923525787, 'y': 0.9052264209524239}. Best is trial 31 with value: 0.11278639834960667.\n",
      "[I 2024-03-25 20:25:03,132] Trial 76 finished with value: 8.607696410682196 and parameters: {'x': 0.3463286916171397, 'y': 0.40595772716898526}. Best is trial 31 with value: 0.11278639834960667.\n",
      "[I 2024-03-25 20:25:03,136] Trial 77 finished with value: 214.5856032191413 and parameters: {'x': 1.2928606925744455, 'y': 0.20690747927037312}. Best is trial 31 with value: 0.11278639834960667.\n",
      "[I 2024-03-25 20:25:03,139] Trial 78 finished with value: 6.623641528722857 and parameters: {'x': 0.20612761418313796, 'y': -0.20232578867844042}. Best is trial 31 with value: 0.11278639834960667.\n",
      "[I 2024-03-25 20:25:03,142] Trial 79 finished with value: 14.133230399458935 and parameters: {'x': 0.8852887124105355, 'y': 1.1595029431984663}. Best is trial 31 with value: 0.11278639834960667.\n",
      "[I 2024-03-25 20:25:03,146] Trial 80 finished with value: 126.04703287214818 and parameters: {'x': 1.0717668449047104, 'y': 0.02600041030308252}. Best is trial 31 with value: 0.11278639834960667.\n",
      "[I 2024-03-25 20:25:03,149] Trial 81 finished with value: 12.01784879243973 and parameters: {'x': 0.6660056953097093, 'y': 0.7886186049410249}. Best is trial 31 with value: 0.11278639834960667.\n",
      "[I 2024-03-25 20:25:03,153] Trial 82 finished with value: 2.5825415357787063 and parameters: {'x': 0.8649422973126193, 'y': 0.5879908293124592}. Best is trial 31 with value: 0.11278639834960667.\n",
      "[I 2024-03-25 20:25:03,156] Trial 83 finished with value: 27.24208523432019 and parameters: {'x': 0.42659157648158547, 'y': 0.7007605579254887}. Best is trial 31 with value: 0.11278639834960667.\n",
      "[I 2024-03-25 20:25:03,159] Trial 84 finished with value: 35.25070198341266 and parameters: {'x': 0.9812612162468471, 'y': 0.36915351554814035}. Best is trial 31 with value: 0.11278639834960667.\n"
     ]
    },
    {
     "name": "stderr",
     "output_type": "stream",
     "text": [
      "[I 2024-03-25 20:25:03,163] Trial 85 finished with value: 6.557873161057978 and parameters: {'x': 0.5134153145851844, 'y': 0.515013433063719}. Best is trial 31 with value: 0.11278639834960667.\n",
      "[I 2024-03-25 20:25:03,166] Trial 86 finished with value: 12.351751939590676 and parameters: {'x': 1.1830324831722958, 'y': 1.0485921955525104}. Best is trial 31 with value: 0.11278639834960667.\n",
      "[I 2024-03-25 20:25:03,170] Trial 87 finished with value: 26.46198066848133 and parameters: {'x': 0.6275309681360655, 'y': 0.9068569786021965}. Best is trial 31 with value: 0.11278639834960667.\n",
      "[I 2024-03-25 20:25:03,173] Trial 88 finished with value: 8.538283003350537 and parameters: {'x': 0.7490439836492182, 'y': 0.2699431342920492}. Best is trial 31 with value: 0.11278639834960667.\n",
      "[I 2024-03-25 20:25:03,177] Trial 89 finished with value: 309.88110546039036 and parameters: {'x': 1.065640963180623, 'y': -0.6247411151957503}. Best is trial 31 with value: 0.11278639834960667.\n",
      "[I 2024-03-25 20:25:03,180] Trial 90 finished with value: 66.59966166453547 and parameters: {'x': -0.04496272620779718, 'y': 0.8113900089007214}. Best is trial 31 with value: 0.11278639834960667.\n",
      "[I 2024-03-25 20:25:03,183] Trial 91 finished with value: 2.604896201002483 and parameters: {'x': 1.2176097541679802, 'y': 1.322650338267256}. Best is trial 31 with value: 0.11278639834960667.\n",
      "[I 2024-03-25 20:25:03,187] Trial 92 finished with value: 33.572545282825516 and parameters: {'x': 1.4282635093059672, 'y': 1.4621033226766618}. Best is trial 31 with value: 0.11278639834960667.\n",
      "[I 2024-03-25 20:25:03,191] Trial 93 finished with value: 0.1303309892349892 and parameters: {'x': 0.820345820204266, 'y': 0.6416534714532118}. Best is trial 31 with value: 0.11278639834960667.\n",
      "[I 2024-03-25 20:25:03,194] Trial 94 finished with value: 0.04633630114403151 and parameters: {'x': 0.8195530252711507, 'y': 0.6599303855004113}. Best is trial 94 with value: 0.04633630114403151.\n",
      "[I 2024-03-25 20:25:03,197] Trial 95 finished with value: 0.09189408352854077 and parameters: {'x': 0.8181098987192696, 'y': 0.6450530178211251}. Best is trial 94 with value: 0.04633630114403151.\n",
      "[I 2024-03-25 20:25:03,201] Trial 96 finished with value: 0.03915085150812423 and parameters: {'x': 0.8192990136016237, 'y': 0.6631898532675935}. Best is trial 96 with value: 0.03915085150812423.\n",
      "[I 2024-03-25 20:25:03,204] Trial 97 finished with value: 0.03144414675557768 and parameters: {'x': 0.8302042110598723, 'y': 0.6943513082803905}. Best is trial 97 with value: 0.03144414675557768.\n",
      "[I 2024-03-25 20:25:03,208] Trial 98 finished with value: 6.201676766228882 and parameters: {'x': 0.8541258330474346, 'y': 0.4809268861447329}. Best is trial 97 with value: 0.03144414675557768.\n",
      "[I 2024-03-25 20:25:03,211] Trial 99 finished with value: 0.050427541339879846 and parameters: {'x': 0.8034677489172616, 'y': 0.6346964391870427}. Best is trial 97 with value: 0.03144414675557768.\n",
      "[I 2024-03-25 20:25:03,215] Trial 100 finished with value: 0.07457682442810279 and parameters: {'x': 0.8242280650913202, 'y': 0.6584518910051034}. Best is trial 97 with value: 0.03144414675557768.\n",
      "[I 2024-03-25 20:25:03,219] Trial 101 finished with value: 0.06504510486638387 and parameters: {'x': 0.8004693065025396, 'y': 0.6566358855074685}. Best is trial 97 with value: 0.03144414675557768.\n",
      "[I 2024-03-25 20:25:03,222] Trial 102 finished with value: 2.162918099783908 and parameters: {'x': 0.7391823972425381, 'y': 0.6911280434076559}. Best is trial 97 with value: 0.03144414675557768.\n",
      "[I 2024-03-25 20:25:03,226] Trial 103 finished with value: 7.2577014357071 and parameters: {'x': 0.911445881248369, 'y': 0.5614779611932534}. Best is trial 97 with value: 0.03144414675557768.\n",
      "[I 2024-03-25 20:25:03,229] Trial 104 finished with value: 6.250995540830087 and parameters: {'x': 0.6161349010764221, 'y': 0.6266777389637669}. Best is trial 97 with value: 0.03144414675557768.\n",
      "[I 2024-03-25 20:25:03,232] Trial 105 finished with value: 48.77901526488695 and parameters: {'x': 0.5216960773570574, 'y': 0.9689468242722481}. Best is trial 97 with value: 0.03144414675557768.\n",
      "[I 2024-03-25 20:25:03,236] Trial 106 finished with value: 3.5578558860589617 and parameters: {'x': 1.019850632955249, 'y': 0.8514829640381824}. Best is trial 97 with value: 0.03144414675557768.\n",
      "[I 2024-03-25 20:25:03,239] Trial 107 finished with value: 7.1725901273882124 and parameters: {'x': 0.8040221902713197, 'y': 0.3793527714534905}. Best is trial 97 with value: 0.03144414675557768.\n",
      "[I 2024-03-25 20:25:03,243] Trial 108 finished with value: 60.141611161348116 and parameters: {'x': 1.1266978606351894, 'y': 0.494041344830941}. Best is trial 97 with value: 0.03144414675557768.\n",
      "[I 2024-03-25 20:25:03,246] Trial 109 finished with value: 4.810439521274023 and parameters: {'x': 0.945724042399434, 'y': 0.6751339898740025}. Best is trial 97 with value: 0.03144414675557768.\n",
      "[I 2024-03-25 20:25:03,250] Trial 110 finished with value: 31.957945769908847 and parameters: {'x': 0.7339571116369716, 'y': 1.1033802733070182}. Best is trial 97 with value: 0.03144414675557768.\n",
      "[I 2024-03-25 20:25:03,254] Trial 111 finished with value: 0.024502050771495983 and parameters: {'x': 0.8591343443951479, 'y': 0.7449374483150674}. Best is trial 111 with value: 0.024502050771495983.\n",
      "[I 2024-03-25 20:25:03,257] Trial 112 finished with value: 1.2155502750465101 and parameters: {'x': 0.8086702943100694, 'y': 0.7625267966169388}. Best is trial 111 with value: 0.024502050771495983.\n",
      "[I 2024-03-25 20:25:03,261] Trial 113 finished with value: 6.046825835677714 and parameters: {'x': 0.9402768005739879, 'y': 0.6382900531813765}. Best is trial 111 with value: 0.024502050771495983.\n",
      "[I 2024-03-25 20:25:03,264] Trial 114 finished with value: 24.706412255725194 and parameters: {'x': 0.6175385206081703, 'y': 0.8769356589739531}. Best is trial 111 with value: 0.024502050771495983.\n",
      "[I 2024-03-25 20:25:03,268] Trial 115 finished with value: 3.2759553665310723 and parameters: {'x': 0.8542113398508704, 'y': 0.5492691132722188}. Best is trial 111 with value: 0.024502050771495983.\n",
      "[I 2024-03-25 20:25:03,272] Trial 116 finished with value: 10.778565232359837 and parameters: {'x': 1.026483338023849, 'y': 0.7253714720558244}. Best is trial 111 with value: 0.024502050771495983.\n",
      "[I 2024-03-25 20:25:03,275] Trial 117 finished with value: 9.368460521581 and parameters: {'x': 0.7199027924267882, 'y': 0.8230551432981881}. Best is trial 111 with value: 0.024502050771495983.\n",
      "[I 2024-03-25 20:25:03,279] Trial 118 finished with value: 52.026779639995084 and parameters: {'x': 0.4817794509584448, 'y': 0.951543347905789}. Best is trial 111 with value: 0.024502050771495983.\n",
      "[I 2024-03-25 20:25:03,282] Trial 119 finished with value: 60.55238382686151 and parameters: {'x': 1.11674832216825, 'y': 0.4690602777043523}. Best is trial 111 with value: 0.024502050771495983.\n",
      "[I 2024-03-25 20:25:03,286] Trial 120 finished with value: 4.576375466120097 and parameters: {'x': 0.918149787556606, 'y': 0.629231027093773}. Best is trial 111 with value: 0.024502050771495983.\n",
      "[I 2024-03-25 20:25:03,289] Trial 121 finished with value: 0.5104780320553657 and parameters: {'x': 0.8156182727905366, 'y': 0.734260799835091}. Best is trial 111 with value: 0.024502050771495983.\n",
      "[I 2024-03-25 20:25:03,293] Trial 122 finished with value: 0.19821951990636424 and parameters: {'x': 0.8394181528313209, 'y': 0.74614788680979}. Best is trial 111 with value: 0.024502050771495983.\n",
      "[I 2024-03-25 20:25:03,297] Trial 123 finished with value: 31.717847537510327 and parameters: {'x': 0.7097248138428844, 'y': 1.0661467554953201}. Best is trial 111 with value: 0.024502050771495983.\n",
      "[I 2024-03-25 20:25:03,300] Trial 124 finished with value: 2.799829260937879 and parameters: {'x': 1.0022997447142425, 'y': 0.8372780328692816}. Best is trial 111 with value: 0.024502050771495983.\n",
      "[I 2024-03-25 20:25:03,304] Trial 125 finished with value: 78.05541572461168 and parameters: {'x': 0.5802465865745181, 'y': 1.2191781567000357}. Best is trial 111 with value: 0.024502050771495983.\n",
      "[I 2024-03-25 20:25:03,308] Trial 126 finished with value: 2.6191774765989964 and parameters: {'x': 0.8621115669181568, 'y': 0.5819861055469457}. Best is trial 111 with value: 0.024502050771495983.\n"
     ]
    },
    {
     "name": "stderr",
     "output_type": "stream",
     "text": [
      "[I 2024-03-25 20:25:03,311] Trial 127 finished with value: 0.48406301504812316 and parameters: {'x': 0.6671671229054794, 'y': 0.3840148921348169}. Best is trial 111 with value: 0.024502050771495983.\n",
      "[I 2024-03-25 20:25:03,315] Trial 128 finished with value: 1.5227583446248063 and parameters: {'x': 0.36959044061843666, 'y': 0.2426792380086995}. Best is trial 111 with value: 0.024502050771495983.\n",
      "[I 2024-03-25 20:25:03,318] Trial 129 finished with value: 28.64016394895721 and parameters: {'x': 1.223730803500886, 'y': 0.9628198896507606}. Best is trial 111 with value: 0.024502050771495983.\n",
      "[I 2024-03-25 20:25:03,322] Trial 130 finished with value: 27.960605695562354 and parameters: {'x': 1.0995223059736188, 'y': 0.6802650760517976}. Best is trial 111 with value: 0.024502050771495983.\n",
      "[I 2024-03-25 20:25:03,326] Trial 131 finished with value: 26.663033985027425 and parameters: {'x': 0.7833743906297754, 'y': 0.09776742732722671}. Best is trial 111 with value: 0.024502050771495983.\n",
      "[I 2024-03-25 20:25:03,329] Trial 132 finished with value: 0.32658116950899435 and parameters: {'x': 0.655079825805843, 'y': 0.38356520141889516}. Best is trial 111 with value: 0.024502050771495983.\n",
      "[I 2024-03-25 20:25:03,333] Trial 133 finished with value: 3.173501647071544 and parameters: {'x': 0.9700493544507425, 'y': 0.7628776823202077}. Best is trial 111 with value: 0.024502050771495983.\n",
      "[I 2024-03-25 20:25:03,336] Trial 134 finished with value: 11.135194587559653 and parameters: {'x': 0.8863960630684158, 'y': 0.4521970251062155}. Best is trial 111 with value: 0.024502050771495983.\n",
      "[I 2024-03-25 20:25:03,340] Trial 135 finished with value: 0.2517183538728912 and parameters: {'x': 0.7603368916012827, 'y': 0.5340349895963855}. Best is trial 111 with value: 0.024502050771495983.\n",
      "[I 2024-03-25 20:25:03,343] Trial 136 finished with value: 0.6220040539018936 and parameters: {'x': 0.7918849199710917, 'y': 0.5510099072955852}. Best is trial 111 with value: 0.024502050771495983.\n",
      "[I 2024-03-25 20:25:03,347] Trial 137 finished with value: 3.818934647203689 and parameters: {'x': 1.0449370563529266, 'y': 0.8965241781018761}. Best is trial 111 with value: 0.024502050771495983.\n",
      "[I 2024-03-25 20:25:03,351] Trial 138 finished with value: 12.72698395391834 and parameters: {'x': 0.5576933240496309, 'y': 0.6650182950605549}. Best is trial 111 with value: 0.024502050771495983.\n",
      "[I 2024-03-25 20:25:03,354] Trial 139 finished with value: 0.17134711865824756 and parameters: {'x': 0.9216865429659832, 'y': 0.8088595435204469}. Best is trial 111 with value: 0.024502050771495983.\n",
      "[I 2024-03-25 20:25:03,358] Trial 140 finished with value: 6.840545463699718 and parameters: {'x': 0.7256350884667069, 'y': 0.7866475957018665}. Best is trial 111 with value: 0.024502050771495983.\n",
      "[I 2024-03-25 20:25:03,361] Trial 141 finished with value: 6.648587738079701 and parameters: {'x': 0.9313397816831445, 'y': 0.6096366646502662}. Best is trial 111 with value: 0.024502050771495983.\n",
      "[I 2024-03-25 20:25:03,365] Trial 142 finished with value: 1.0081163201637224 and parameters: {'x': 0.8743062386623031, 'y': 0.8640265282627666}. Best is trial 111 with value: 0.024502050771495983.\n",
      "[I 2024-03-25 20:25:03,369] Trial 143 finished with value: 7.019286570781199 and parameters: {'x': 0.9916237455035959, 'y': 0.7183796144349673}. Best is trial 111 with value: 0.024502050771495983.\n",
      "[I 2024-03-25 20:25:03,372] Trial 144 finished with value: 17.055671612586085 and parameters: {'x': 0.7760716917658335, 'y': 1.014664861390005}. Best is trial 111 with value: 0.024502050771495983.\n",
      "[I 2024-03-25 20:25:03,376] Trial 145 finished with value: 60.666995544749646 and parameters: {'x': 1.1506337990658877, 'y': 0.5452136050401719}. Best is trial 111 with value: 0.024502050771495983.\n",
      "[I 2024-03-25 20:25:03,380] Trial 146 finished with value: 4.103374392488339 and parameters: {'x': 0.8325547004392958, 'y': 0.49127270317701743}. Best is trial 111 with value: 0.024502050771495983.\n",
      "[I 2024-03-25 20:25:03,383] Trial 147 finished with value: 11.327865032726006 and parameters: {'x': 1.061000359956143, 'y': 0.7892081089954784}. Best is trial 111 with value: 0.024502050771495983.\n",
      "[I 2024-03-25 20:25:03,387] Trial 148 finished with value: 228.3399981736878 and parameters: {'x': 0.6655754380048824, 'y': -1.0677315423771385}. Best is trial 111 with value: 0.024502050771495983.\n",
      "[I 2024-03-25 20:25:03,391] Trial 149 finished with value: 378.1737979546096 and parameters: {'x': -1.6884625850872066, 'y': 0.9249101409034475}. Best is trial 111 with value: 0.024502050771495983.\n",
      "[I 2024-03-25 20:25:03,394] Trial 150 finished with value: 111.61634909409246 and parameters: {'x': 1.3054940563142203, 'y': 0.6482701180195942}. Best is trial 111 with value: 0.024502050771495983.\n",
      "[I 2024-03-25 20:25:03,398] Trial 151 finished with value: 0.235049318094896 and parameters: {'x': 0.6133604883468124, 'y': 0.34696058334915203}. Best is trial 111 with value: 0.024502050771495983.\n",
      "[I 2024-03-25 20:25:03,401] Trial 152 finished with value: 4.2842715582410005 and parameters: {'x': -0.4226033671257935, 'y': 0.32894224135325323}. Best is trial 111 with value: 0.024502050771495983.\n",
      "[I 2024-03-25 20:25:03,405] Trial 153 finished with value: 4.202488383054208 and parameters: {'x': 0.9556093707372513, 'y': 0.7082376201406295}. Best is trial 111 with value: 0.024502050771495983.\n",
      "[I 2024-03-25 20:25:03,408] Trial 154 finished with value: 0.38748211826247203 and parameters: {'x': 0.7351445297067593, 'y': 0.5967698590670933}. Best is trial 111 with value: 0.024502050771495983.\n",
      "[I 2024-03-25 20:25:03,412] Trial 155 finished with value: 9.351954278667417 and parameters: {'x': 0.8689475594037449, 'y': 0.4495411465251632}. Best is trial 111 with value: 0.024502050771495983.\n",
      "[I 2024-03-25 20:25:03,416] Trial 156 finished with value: 36.99949291228173 and parameters: {'x': 0.4811156999299648, 'y': 0.8375271986846077}. Best is trial 111 with value: 0.024502050771495983.\n",
      "[I 2024-03-25 20:25:03,419] Trial 157 finished with value: 12.69292337605334 and parameters: {'x': 0.6197734912921254, 'y': 0.7383557000561636}. Best is trial 111 with value: 0.024502050771495983.\n",
      "[I 2024-03-25 20:25:03,423] Trial 158 finished with value: 2.189525092669627 and parameters: {'x': 0.818018304933032, 'y': 0.5223068241376694}. Best is trial 111 with value: 0.024502050771495983.\n",
      "[I 2024-03-25 20:25:03,427] Trial 159 finished with value: 2.3791497372341657 and parameters: {'x': 0.8912536487744303, 'y': 0.6404719612864681}. Best is trial 111 with value: 0.024502050771495983.\n",
      "[I 2024-03-25 20:25:03,430] Trial 160 finished with value: 14.11387966372868 and parameters: {'x': 0.7299437401379207, 'y': 0.9075304106639946}. Best is trial 111 with value: 0.024502050771495983.\n",
      "[I 2024-03-25 20:25:03,434] Trial 161 finished with value: 0.17395049757867365 and parameters: {'x': 0.6572867411914708, 'y': 0.40825652700116405}. Best is trial 111 with value: 0.024502050771495983.\n",
      "[I 2024-03-25 20:25:03,438] Trial 162 finished with value: 20.542128047926578 and parameters: {'x': 0.5955833423724083, 'y': 0.8061458706746266}. Best is trial 111 with value: 0.024502050771495983.\n",
      "[I 2024-03-25 20:25:03,441] Trial 163 finished with value: 13.699552713273826 and parameters: {'x': 0.9747203077106242, 'y': 0.5799592431287722}. Best is trial 111 with value: 0.024502050771495983.\n",
      "[I 2024-03-25 20:25:03,445] Trial 164 finished with value: 1.0055270256901436 and parameters: {'x': 0.7653836793024453, 'y': 0.6833048535881854}. Best is trial 111 with value: 0.024502050771495983.\n",
      "[I 2024-03-25 20:25:03,449] Trial 165 finished with value: 0.12162050243559683 and parameters: {'x': 0.6843273577254972, 'y': 0.4831266466403299}. Best is trial 111 with value: 0.024502050771495983.\n",
      "[I 2024-03-25 20:25:03,452] Trial 166 finished with value: 0.12271445608641258 and parameters: {'x': 0.6734942333304467, 'y': 0.440902579234109}. Best is trial 111 with value: 0.024502050771495983.\n",
      "[I 2024-03-25 20:25:03,456] Trial 167 finished with value: 0.2847587737932588 and parameters: {'x': 0.5231446839241128, 'y': 0.2976319325677943}. Best is trial 111 with value: 0.024502050771495983.\n",
      "[I 2024-03-25 20:25:03,460] Trial 168 finished with value: 0.35325833266231704 and parameters: {'x': 0.4176199386328896, 'y': 0.18627730055132422}. Best is trial 111 with value: 0.024502050771495983.\n"
     ]
    },
    {
     "name": "stderr",
     "output_type": "stream",
     "text": [
      "[I 2024-03-25 20:25:03,463] Trial 169 finished with value: 0.11894963189672803 and parameters: {'x': 0.6579629257810796, 'y': 0.42848771607113156}. Best is trial 111 with value: 0.024502050771495983.\n",
      "[I 2024-03-25 20:25:03,467] Trial 170 finished with value: 0.6961924501306884 and parameters: {'x': 0.7035964314069774, 'y': 0.4170519528370725}. Best is trial 111 with value: 0.024502050771495983.\n",
      "[I 2024-03-25 20:25:03,471] Trial 171 finished with value: 1.077035213891679 and parameters: {'x': 0.6033477314896762, 'y': 0.45992958997670075}. Best is trial 111 with value: 0.024502050771495983.\n",
      "[I 2024-03-25 20:25:03,474] Trial 172 finished with value: 91.89641244575841 and parameters: {'x': -1.1529615435902345, 'y': 0.39518345181027537}. Best is trial 111 with value: 0.024502050771495983.\n",
      "[I 2024-03-25 20:25:03,478] Trial 173 finished with value: 0.7378468669293831 and parameters: {'x': 0.6475883765346879, 'y': 0.34103470382867895}. Best is trial 111 with value: 0.024502050771495983.\n",
      "[I 2024-03-25 20:25:03,482] Trial 174 finished with value: 20.499285413412537 and parameters: {'x': 0.2532916819951487, 'y': 0.510718117643065}. Best is trial 111 with value: 0.024502050771495983.\n",
      "[I 2024-03-25 20:25:03,486] Trial 175 finished with value: 4.210289827323012 and parameters: {'x': 0.9041159929923223, 'y': 0.6124599734856342}. Best is trial 111 with value: 0.024502050771495983.\n",
      "[I 2024-03-25 20:25:03,489] Trial 176 finished with value: 1.015830981320713 and parameters: {'x': 0.8074370584283174, 'y': 0.750886423020273}. Best is trial 111 with value: 0.024502050771495983.\n",
      "[I 2024-03-25 20:25:03,493] Trial 177 finished with value: 4.3414254660549245 and parameters: {'x': 0.6770970620175671, 'y': 0.25261682185642487}. Best is trial 111 with value: 0.024502050771495983.\n",
      "[I 2024-03-25 20:25:03,497] Trial 178 finished with value: 2.8241409475552377 and parameters: {'x': 0.5378123449931763, 'y': 0.12767097251559}. Best is trial 111 with value: 0.024502050771495983.\n",
      "[I 2024-03-25 20:25:03,500] Trial 179 finished with value: 0.24841395889541734 and parameters: {'x': 0.8368548940622121, 'y': 0.6532307176241174}. Best is trial 111 with value: 0.024502050771495983.\n",
      "[I 2024-03-25 20:25:03,504] Trial 180 finished with value: 38.77592764683702 and parameters: {'x': 1.0430885195615482, 'y': 0.46534536662188225}. Best is trial 111 with value: 0.024502050771495983.\n",
      "[I 2024-03-25 20:25:03,507] Trial 181 finished with value: 0.08517392274336649 and parameters: {'x': 0.8389001967592845, 'y': 0.6794182209057991}. Best is trial 111 with value: 0.024502050771495983.\n",
      "[I 2024-03-25 20:25:03,511] Trial 182 finished with value: 2.1997198780840055 and parameters: {'x': 0.9220852647984225, 'y': 0.7021315069068641}. Best is trial 111 with value: 0.024502050771495983.\n",
      "[I 2024-03-25 20:25:03,515] Trial 183 finished with value: 1.3366145962463891 and parameters: {'x': 0.8056148533506983, 'y': 0.5350491122626403}. Best is trial 111 with value: 0.024502050771495983.\n",
      "[I 2024-03-25 20:25:03,518] Trial 184 finished with value: 8.981740016928123 and parameters: {'x': 0.7038578787916953, 'y': 0.7936446824541352}. Best is trial 111 with value: 0.024502050771495983.\n",
      "[I 2024-03-25 20:25:03,522] Trial 185 finished with value: 2.4853913584728193 and parameters: {'x': 0.8769273836199458, 'y': 0.611831521630566}. Best is trial 111 with value: 0.024502050771495983.\n",
      "[I 2024-03-25 20:25:03,526] Trial 186 finished with value: 493.0895898325304 and parameters: {'x': 0.7680152349544115, 'y': -1.6305934850564223}. Best is trial 111 with value: 0.024502050771495983.\n",
      "[I 2024-03-25 20:25:03,530] Trial 187 finished with value: 7.140313346262693 and parameters: {'x': 0.9949646890469386, 'y': 0.7227415592737547}. Best is trial 111 with value: 0.024502050771495983.\n",
      "[I 2024-03-25 20:25:03,533] Trial 188 finished with value: 3.5502434460680456 and parameters: {'x': 0.6155818604632609, 'y': 0.5633987765670148}. Best is trial 111 with value: 0.024502050771495983.\n",
      "[I 2024-03-25 20:25:03,537] Trial 189 finished with value: 13.275515697486536 and parameters: {'x': 0.6901106846055302, 'y': 0.8392883518137638}. Best is trial 111 with value: 0.024502050771495983.\n",
      "[I 2024-03-25 20:25:03,541] Trial 190 finished with value: 0.30777592561737155 and parameters: {'x': 0.840610787164961, 'y': 0.6534879027006568}. Best is trial 111 with value: 0.024502050771495983.\n",
      "[I 2024-03-25 20:25:03,544] Trial 191 finished with value: 0.0399625466108029 and parameters: {'x': 0.8060162549215617, 'y': 0.6544921651605146}. Best is trial 111 with value: 0.024502050771495983.\n",
      "[I 2024-03-25 20:25:03,548] Trial 192 finished with value: 2.3750651455545015 and parameters: {'x': 0.7636514265965487, 'y': 0.7354528475692856}. Best is trial 111 with value: 0.024502050771495983.\n",
      "[I 2024-03-25 20:25:03,552] Trial 193 finished with value: 8.965336684300834 and parameters: {'x': 0.9455780358385331, 'y': 0.5947455630566468}. Best is trial 111 with value: 0.024502050771495983.\n",
      "[I 2024-03-25 20:25:03,556] Trial 194 finished with value: 10.355356641427354 and parameters: {'x': 0.8635405653908985, 'y': 0.4241943693846336}. Best is trial 111 with value: 0.024502050771495983.\n",
      "[I 2024-03-25 20:25:03,560] Trial 195 finished with value: 0.20951647386316408 and parameters: {'x': 0.7265016195386294, 'y': 0.49110104617822725}. Best is trial 111 with value: 0.024502050771495983.\n",
      "[I 2024-03-25 20:25:03,563] Trial 196 finished with value: 0.45468868483913427 and parameters: {'x': 0.7824737567626696, 'y': 0.6760908032736246}. Best is trial 111 with value: 0.024502050771495983.\n",
      "[I 2024-03-25 20:25:03,567] Trial 197 finished with value: 11.432335281998993 and parameters: {'x': 0.9214341855293043, 'y': 0.5110148839009827}. Best is trial 111 with value: 0.024502050771495983.\n",
      "[I 2024-03-25 20:25:03,571] Trial 198 finished with value: 6.964033639366236 and parameters: {'x': 0.7257208113276626, 'y': 0.7891360187707761}. Best is trial 111 with value: 0.024502050771495983.\n",
      "[I 2024-03-25 20:25:03,575] Trial 199 finished with value: 1.3580581446695141 and parameters: {'x': 1.002526734841125, 'y': 0.8885243761994213}. Best is trial 111 with value: 0.024502050771495983.\n",
      "[I 2024-03-25 20:25:03,579] Trial 200 finished with value: 1.1280551970448627 and parameters: {'x': 0.8362477938918405, 'y': 0.5943703703094783}. Best is trial 111 with value: 0.024502050771495983.\n",
      "[I 2024-03-25 20:25:03,582] Trial 201 finished with value: 0.5443217822599151 and parameters: {'x': 0.6565028864141504, 'y': 0.3657019731244942}. Best is trial 111 with value: 0.024502050771495983.\n",
      "[I 2024-03-25 20:25:03,586] Trial 202 finished with value: 0.9296521417031041 and parameters: {'x': 0.5948129344596338, 'y': 0.44129388850512635}. Best is trial 111 with value: 0.024502050771495983.\n",
      "[I 2024-03-25 20:25:03,590] Trial 203 finished with value: 4.676273208037679 and parameters: {'x': 0.6917449396969022, 'y': 0.6925496568503795}. Best is trial 111 with value: 0.024502050771495983.\n",
      "[I 2024-03-25 20:25:03,594] Trial 204 finished with value: 842.4546179657489 and parameters: {'x': 1.8504782847320427, 'y': 0.5230092861567507}. Best is trial 111 with value: 0.024502050771495983.\n",
      "[I 2024-03-25 20:25:03,598] Trial 205 finished with value: 1.476382372480096 and parameters: {'x': 0.7931089717961615, 'y': 0.7487539786392616}. Best is trial 111 with value: 0.024502050771495983.\n",
      "[I 2024-03-25 20:25:03,601] Trial 206 finished with value: 3.307390299545987 and parameters: {'x': 0.9076941636802689, 'y': 0.6422807802911876}. Best is trial 111 with value: 0.024502050771495983.\n",
      "[I 2024-03-25 20:25:03,605] Trial 207 finished with value: 37.97156862339302 and parameters: {'x': 0.46705980622175036, 'y': 0.8320466737372767}. Best is trial 111 with value: 0.024502050771495983.\n",
      "[I 2024-03-25 20:25:03,609] Trial 208 finished with value: 0.1528240965534365 and parameters: {'x': 0.7394609535332702, 'y': 0.5759475703059388}. Best is trial 111 with value: 0.024502050771495983.\n",
      "[I 2024-03-25 20:25:03,613] Trial 209 finished with value: 2.0116118913320373 and parameters: {'x': 0.8421683577511055, 'y': 0.568297159185192}. Best is trial 111 with value: 0.024502050771495983.\n",
      "[I 2024-03-25 20:25:03,617] Trial 210 finished with value: 19.103568935261187 and parameters: {'x': 0.7363358023128025, 'y': 0.97847071502039}. Best is trial 111 with value: 0.024502050771495983.\n"
     ]
    },
    {
     "name": "stderr",
     "output_type": "stream",
     "text": [
      "[I 2024-03-25 20:25:03,621] Trial 211 finished with value: 0.2559383409071532 and parameters: {'x': 0.5496602139966473, 'y': 0.32517682113879903}. Best is trial 111 with value: 0.024502050771495983.\n",
      "[I 2024-03-25 20:25:03,625] Trial 212 finished with value: 0.1384382361813206 and parameters: {'x': 0.681484788275014, 'y': 0.4836533382179206}. Best is trial 111 with value: 0.024502050771495983.\n",
      "[I 2024-03-25 20:25:03,628] Trial 213 finished with value: 0.7268981275972265 and parameters: {'x': 0.7573121741717911, 'y': 0.49179041649618704}. Best is trial 111 with value: 0.024502050771495983.\n",
      "[I 2024-03-25 20:25:03,632] Trial 214 finished with value: 2.6628815272061686 and parameters: {'x': 0.9061445240396379, 'y': 0.6581846492363324}. Best is trial 111 with value: 0.024502050771495983.\n",
      "[I 2024-03-25 20:25:03,636] Trial 215 finished with value: 1.6186972932079216 and parameters: {'x': 0.678097383742182, 'y': 0.5829044852926083}. Best is trial 111 with value: 0.024502050771495983.\n",
      "[I 2024-03-25 20:25:03,640] Trial 216 finished with value: 0.8334457172024725 and parameters: {'x': 0.8211183028565117, 'y': 0.7637588427077171}. Best is trial 111 with value: 0.024502050771495983.\n",
      "[I 2024-03-25 20:25:03,644] Trial 217 finished with value: 7.493195995660873 and parameters: {'x': 0.9874251001353983, 'y': 0.7012741897035}. Best is trial 111 with value: 0.024502050771495983.\n",
      "[I 2024-03-25 20:25:03,648] Trial 218 finished with value: 46.49719616603946 and parameters: {'x': 1.0796510110529765, 'y': 0.4838043013699612}. Best is trial 111 with value: 0.024502050771495983.\n",
      "[I 2024-03-25 20:25:03,652] Trial 219 finished with value: 0.9109242084338939 and parameters: {'x': 0.7425605152989209, 'y': 0.6433009131058236}. Best is trial 111 with value: 0.024502050771495983.\n",
      "[I 2024-03-25 20:25:03,656] Trial 220 finished with value: 3.6294081211483062 and parameters: {'x': 0.8599803832914046, 'y': 0.5495714537147878}. Best is trial 111 with value: 0.024502050771495983.\n",
      "[I 2024-03-25 20:25:03,659] Trial 221 finished with value: 4.16211208179236 and parameters: {'x': 0.6636096277939942, 'y': 0.23915761984032136}. Best is trial 111 with value: 0.024502050771495983.\n",
      "[I 2024-03-25 20:25:03,663] Trial 222 finished with value: 3.7406244325602054 and parameters: {'x': 0.7849451792518547, 'y': 0.4239313420564086}. Best is trial 111 with value: 0.024502050771495983.\n",
      "[I 2024-03-25 20:25:03,667] Trial 223 finished with value: 0.4886143164495257 and parameters: {'x': 0.5888323850309729, 'y': 0.40325281866538565}. Best is trial 111 with value: 0.024502050771495983.\n",
      "[I 2024-03-25 20:25:03,671] Trial 224 finished with value: 0.42199753399439865 and parameters: {'x': 0.9156567479785528, 'y': 0.774015809879823}. Best is trial 111 with value: 0.024502050771495983.\n",
      "[I 2024-03-25 20:25:03,675] Trial 225 finished with value: 2.705117292886766 and parameters: {'x': 0.6671131666017736, 'y': 0.6061083988200001}. Best is trial 111 with value: 0.024502050771495983.\n",
      "[I 2024-03-25 20:25:03,679] Trial 226 finished with value: 13.544839829180638 and parameters: {'x': 0.8335564091808018, 'y': 0.3271597034985339}. Best is trial 111 with value: 0.024502050771495983.\n",
      "[I 2024-03-25 20:25:03,682] Trial 227 finished with value: 0.37391646714602633 and parameters: {'x': 0.7405209995668987, 'y': 0.4930010414740488}. Best is trial 111 with value: 0.024502050771495983.\n",
      "[I 2024-03-25 20:25:03,686] Trial 228 finished with value: 26.987204914531265 and parameters: {'x': 0.582961763220846, 'y': 0.857659867355592}. Best is trial 111 with value: 0.024502050771495983.\n",
      "[I 2024-03-25 20:25:03,690] Trial 229 finished with value: 4.05979247531498 and parameters: {'x': 0.9535989427172767, 'y': 0.7079151121510835}. Best is trial 111 with value: 0.024502050771495983.\n",
      "[I 2024-03-25 20:25:03,694] Trial 230 finished with value: 10.313490224130524 and parameters: {'x': 0.5111438886665459, 'y': 0.5786717599429686}. Best is trial 111 with value: 0.024502050771495983.\n",
      "[I 2024-03-25 20:25:03,698] Trial 231 finished with value: 0.21311238777394315 and parameters: {'x': 0.8432616281483817, 'y': 0.6676683505881892}. Best is trial 111 with value: 0.024502050771495983.\n",
      "[I 2024-03-25 20:25:03,702] Trial 232 finished with value: 0.08177433897047143 and parameters: {'x': 0.8266556334974267, 'y': 0.6606161704213264}. Best is trial 111 with value: 0.024502050771495983.\n",
      "[I 2024-03-25 20:25:03,706] Trial 233 finished with value: 0.1741050003497961 and parameters: {'x': 0.8414118051320125, 'y': 0.6693791649414597}. Best is trial 111 with value: 0.024502050771495983.\n",
      "[I 2024-03-25 20:25:03,709] Trial 234 finished with value: 2.5377531839700715 and parameters: {'x': 0.7793184614418459, 'y': 0.7651045880365944}. Best is trial 111 with value: 0.024502050771495983.\n",
      "[I 2024-03-25 20:25:03,713] Trial 235 finished with value: 2.619593235953108 and parameters: {'x': 0.8980654377775817, 'y': 0.6449912677011118}. Best is trial 111 with value: 0.024502050771495983.\n",
      "[I 2024-03-25 20:25:03,717] Trial 236 finished with value: 1.6060142132027062 and parameters: {'x': 0.9739240657951551, 'y': 0.8218262998837007}. Best is trial 111 with value: 0.024502050771495983.\n",
      "[I 2024-03-25 20:25:03,721] Trial 237 finished with value: 0.2116372550053069 and parameters: {'x': 0.7160411292564894, 'y': 0.548909458423873}. Best is trial 111 with value: 0.024502050771495983.\n",
      "[I 2024-03-25 20:25:03,725] Trial 238 finished with value: 0.1422874456183924 and parameters: {'x': 0.8254512485311584, 'y': 0.7148092880671443}. Best is trial 111 with value: 0.024502050771495983.\n",
      "[I 2024-03-25 20:25:03,729] Trial 239 finished with value: 0.10521767543839594 and parameters: {'x': 0.8383379248278433, 'y': 0.7309321847035044}. Best is trial 111 with value: 0.024502050771495983.\n",
      "[I 2024-03-25 20:25:03,733] Trial 240 finished with value: 2.1393211567860497 and parameters: {'x': 0.916826718283033, 'y': 0.6945437215523091}. Best is trial 111 with value: 0.024502050771495983.\n",
      "[I 2024-03-25 20:25:03,737] Trial 241 finished with value: 2.5736063728927627 and parameters: {'x': 0.7702665143517186, 'y': 0.7520816874964886}. Best is trial 111 with value: 0.024502050771495983.\n",
      "[I 2024-03-25 20:25:03,741] Trial 242 finished with value: 3.356917636374714 and parameters: {'x': 0.8404124199684124, 'y': 0.8888156216552879}. Best is trial 111 with value: 0.024502050771495983.\n",
      "[I 2024-03-25 20:25:03,745] Trial 243 finished with value: 0.021902885952094414 and parameters: {'x': 0.8561418757134861, 'y': 0.7295036760648475}. Best is trial 243 with value: 0.021902885952094414.\n",
      "[I 2024-03-25 20:25:03,749] Trial 244 finished with value: 2.0752378016076896 and parameters: {'x': 0.8768656442570222, 'y': 0.6253637189077109}. Best is trial 243 with value: 0.021902885952094414.\n",
      "[I 2024-03-25 20:25:03,752] Trial 245 finished with value: 2.9576826830473144 and parameters: {'x': 0.9908464268070498, 'y': 0.809799931024874}. Best is trial 243 with value: 0.021902885952094414.\n",
      "[I 2024-03-25 20:25:03,756] Trial 246 finished with value: 0.227700515030969 and parameters: {'x': 0.810642697895105, 'y': 0.7009416209988719}. Best is trial 243 with value: 0.021902885952094414.\n",
      "[I 2024-03-25 20:25:03,760] Trial 247 finished with value: 22.17737955420837 and parameters: {'x': 1.053653283824528, 'y': 0.6392871550330326}. Best is trial 243 with value: 0.021902885952094414.\n",
      "[I 2024-03-25 20:25:03,764] Trial 248 finished with value: 0.4669113177767171 and parameters: {'x': 0.9135979356357313, 'y': 0.7668787418152254}. Best is trial 243 with value: 0.021902885952094414.\n",
      "[I 2024-03-25 20:25:03,768] Trial 249 finished with value: 0.7031884687432169 and parameters: {'x': 0.8134881509910128, 'y': 0.5800071280408496}. Best is trial 243 with value: 0.021902885952094414.\n",
      "[I 2024-03-25 20:25:03,772] Trial 250 finished with value: 16.034823585476413 and parameters: {'x': 0.7026294448317001, 'y': 0.8930175037887428}. Best is trial 243 with value: 0.021902885952094414.\n",
      "[I 2024-03-25 20:25:03,776] Trial 251 finished with value: 4.168218133720164 and parameters: {'x': 0.950025852023919, 'y': 0.6984481465064348}. Best is trial 243 with value: 0.021902885952094414.\n",
      "[I 2024-03-25 20:25:03,780] Trial 252 finished with value: 0.3732245763193507 and parameters: {'x': 0.8688732402803119, 'y': 0.81460898645085}. Best is trial 243 with value: 0.021902885952094414.\n"
     ]
    },
    {
     "name": "stderr",
     "output_type": "stream",
     "text": [
      "[I 2024-03-25 20:25:03,784] Trial 253 finished with value: 1.7809373410022993 and parameters: {'x': 0.7597690856417953, 'y': 0.7085207835584103}. Best is trial 243 with value: 0.021902885952094414.\n",
      "[I 2024-03-25 20:25:03,788] Trial 254 finished with value: 2.317275364250271 and parameters: {'x': 0.6763303182777028, 'y': 0.6061678943485158}. Best is trial 243 with value: 0.021902885952094414.\n",
      "[I 2024-03-25 20:25:03,792] Trial 255 finished with value: 1.6398320074791897 and parameters: {'x': 0.8055649119632358, 'y': 0.5223636219713866}. Best is trial 243 with value: 0.021902885952094414.\n",
      "[I 2024-03-25 20:25:03,796] Trial 256 finished with value: 8.954612515028348 and parameters: {'x': 0.9822802107207576, 'y': 0.665637073057543}. Best is trial 243 with value: 0.021902885952094414.\n",
      "[I 2024-03-25 20:25:03,800] Trial 257 finished with value: 0.019209393603912096 and parameters: {'x': 0.8694762868284429, 'y': 0.7606505087220085}. Best is trial 257 with value: 0.019209393603912096.\n",
      "[I 2024-03-25 20:25:03,804] Trial 258 finished with value: 15.226044108251202 and parameters: {'x': 0.6675244182830238, 'y': 0.834375475520655}. Best is trial 257 with value: 0.019209393603912096.\n",
      "[I 2024-03-25 20:25:03,808] Trial 259 finished with value: 0.09492075529981167 and parameters: {'x': 0.7783496611156681, 'y': 0.5844291569963237}. Best is trial 257 with value: 0.019209393603912096.\n",
      "[I 2024-03-25 20:25:03,812] Trial 260 finished with value: 0.0677564353823432 and parameters: {'x': 0.7435502230341915, 'y': 0.548406051664501}. Best is trial 257 with value: 0.019209393603912096.\n",
      "[I 2024-03-25 20:25:03,816] Trial 261 finished with value: 0.06676707971311042 and parameters: {'x': 0.7517245215910535, 'y': 0.5722496212580119}. Best is trial 257 with value: 0.019209393603912096.\n",
      "[I 2024-03-25 20:25:03,820] Trial 262 finished with value: 0.08708547190611465 and parameters: {'x': 0.7365224798394322, 'y': 0.5557563633750943}. Best is trial 257 with value: 0.019209393603912096.\n",
      "[I 2024-03-25 20:25:03,824] Trial 263 finished with value: 1.355327331458508 and parameters: {'x': 0.7693356200610028, 'y': 0.4777667676267869}. Best is trial 257 with value: 0.019209393603912096.\n",
      "[I 2024-03-25 20:25:03,828] Trial 264 finished with value: 0.07923625460739817 and parameters: {'x': 0.7651431140253939, 'y': 0.5699267372084502}. Best is trial 257 with value: 0.019209393603912096.\n",
      "[I 2024-03-25 20:25:03,832] Trial 265 finished with value: 3.011059851654494 and parameters: {'x': 0.6091794956396049, 'y': 0.5401653015206699}. Best is trial 257 with value: 0.019209393603912096.\n",
      "[I 2024-03-25 20:25:03,836] Trial 266 finished with value: 1.0143095797560746 and parameters: {'x': 0.708060639519309, 'y': 0.597738716597492}. Best is trial 257 with value: 0.019209393603912096.\n",
      "[I 2024-03-25 20:25:03,840] Trial 267 finished with value: 1.6530122141764159 and parameters: {'x': 0.7652964291930727, 'y': 0.45926950904050684}. Best is trial 257 with value: 0.019209393603912096.\n",
      "[I 2024-03-25 20:25:03,844] Trial 268 finished with value: 3.253137093119636 and parameters: {'x': 0.615382614924166, 'y': 0.5549117257116153}. Best is trial 257 with value: 0.019209393603912096.\n",
      "[I 2024-03-25 20:25:03,848] Trial 269 finished with value: 1.856464382777081 and parameters: {'x': 0.8761917939187779, 'y': 0.6320235962974892}. Best is trial 257 with value: 0.019209393603912096.\n",
      "[I 2024-03-25 20:25:03,852] Trial 270 finished with value: 0.1438087955603573 and parameters: {'x': 0.7253947332984675, 'y': 0.5000439833782242}. Best is trial 257 with value: 0.019209393603912096.\n",
      "[I 2024-03-25 20:25:03,857] Trial 271 finished with value: 0.05492339794752378 and parameters: {'x': 0.7966891232955653, 'y': 0.623056764866327}. Best is trial 257 with value: 0.019209393603912096.\n",
      "[I 2024-03-25 20:25:03,860] Trial 272 finished with value: 2.6869680384288683 and parameters: {'x': 0.8780679417943753, 'y': 0.607537698989483}. Best is trial 257 with value: 0.019209393603912096.\n",
      "[I 2024-03-25 20:25:03,864] Trial 273 finished with value: 0.25902500129713846 and parameters: {'x': 0.8325392692863278, 'y': 0.7411822117798741}. Best is trial 257 with value: 0.019209393603912096.\n",
      "[I 2024-03-25 20:25:03,869] Trial 274 finished with value: 19.097395785253497 and parameters: {'x': 1.051473871669088, 'y': 0.6686219462231582}. Best is trial 257 with value: 0.019209393603912096.\n",
      "[I 2024-03-25 20:25:03,873] Trial 275 finished with value: 0.09602319377419988 and parameters: {'x': 0.7878159381350043, 'y': 0.5980705253445027}. Best is trial 257 with value: 0.019209393603912096.\n",
      "[I 2024-03-25 20:25:03,877] Trial 276 finished with value: 0.33611131781045267 and parameters: {'x': 0.7792738583734402, 'y': 0.553658858255302}. Best is trial 257 with value: 0.019209393603912096.\n",
      "[I 2024-03-25 20:25:03,881] Trial 277 finished with value: 2.401987709687772 and parameters: {'x': 0.9412400821824141, 'y': 0.7310608489372119}. Best is trial 257 with value: 0.019209393603912096.\n",
      "[I 2024-03-25 20:25:03,885] Trial 278 finished with value: 0.050287640299121174 and parameters: {'x': 0.7784987967733077, 'y': 0.6095601726690462}. Best is trial 257 with value: 0.019209393603912096.\n",
      "[I 2024-03-25 20:25:03,889] Trial 279 finished with value: 3.7092052492862377 and parameters: {'x': 0.8999046206164425, 'y': 0.6174956414048818}. Best is trial 257 with value: 0.019209393603912096.\n",
      "[I 2024-03-25 20:25:03,893] Trial 280 finished with value: 105.93133741006352 and parameters: {'x': 0.7677283619643982, 'y': -0.4395605441102607}. Best is trial 257 with value: 0.019209393603912096.\n",
      "[I 2024-03-25 20:25:03,897] Trial 281 finished with value: 6.955491486065226 and parameters: {'x': 1.0086505575453497, 'y': 0.7536447080190533}. Best is trial 257 with value: 0.019209393603912096.\n",
      "[I 2024-03-25 20:25:03,901] Trial 282 finished with value: 0.038514220437986676 and parameters: {'x': 0.8038615235666704, 'y': 0.6468560594179045}. Best is trial 257 with value: 0.019209393603912096.\n",
      "[I 2024-03-25 20:25:03,905] Trial 283 finished with value: 4.230309390065482 and parameters: {'x': 0.8610098027508301, 'y': 0.9465448762965688}. Best is trial 257 with value: 0.019209393603912096.\n",
      "[I 2024-03-25 20:25:03,909] Trial 284 finished with value: 6.30783888650058 and parameters: {'x': 0.959361220134739, 'y': 0.6692527175047316}. Best is trial 257 with value: 0.019209393603912096.\n",
      "[I 2024-03-25 20:25:03,913] Trial 285 finished with value: 15.765841551659404 and parameters: {'x': -0.6605182061592396, 'y': 0.7969575716302395}. Best is trial 257 with value: 0.019209393603912096.\n",
      "[I 2024-03-25 20:25:03,918] Trial 286 finished with value: 0.20494657697335383 and parameters: {'x': 0.7946304929784221, 'y': 0.5910928632694858}. Best is trial 257 with value: 0.019209393603912096.\n",
      "[I 2024-03-25 20:25:03,921] Trial 287 finished with value: 42.34227825261362 and parameters: {'x': -0.21331799864364942, 'y': 0.684802133743112}. Best is trial 257 with value: 0.019209393603912096.\n",
      "[I 2024-03-25 20:25:03,925] Trial 288 finished with value: 0.24682607562098346 and parameters: {'x': 0.8936047666479373, 'y': 0.8470584527896007}. Best is trial 257 with value: 0.019209393603912096.\n",
      "[I 2024-03-25 20:25:03,930] Trial 289 finished with value: 0.7952987592386119 and parameters: {'x': 0.8042720617063828, 'y': 0.5598484152888956}. Best is trial 257 with value: 0.019209393603912096.\n",
      "[I 2024-03-25 20:25:03,934] Trial 290 finished with value: 26.754197049582274 and parameters: {'x': 1.1246741831761504, 'y': 0.7477977000433838}. Best is trial 257 with value: 0.019209393603912096.\n",
      "[I 2024-03-25 20:25:03,938] Trial 291 finished with value: 1.2444358100720827 and parameters: {'x': 0.7285222729829601, 'y': 0.638945240761683}. Best is trial 257 with value: 0.019209393603912096.\n",
      "[I 2024-03-25 20:25:03,942] Trial 292 finished with value: 0.1632448041242274 and parameters: {'x': 0.8541525709288528, 'y': 0.6918972657625934}. Best is trial 257 with value: 0.019209393603912096.\n",
      "[I 2024-03-25 20:25:03,946] Trial 293 finished with value: 12.840567071447413 and parameters: {'x': 0.9535667475892742, 'y': 0.5509822574413477}. Best is trial 257 with value: 0.019209393603912096.\n",
      "[I 2024-03-25 20:25:03,950] Trial 294 finished with value: 3.4548070881204276 and parameters: {'x': 0.7772933045565279, 'y': 0.7887169602520173}. Best is trial 257 with value: 0.019209393603912096.\n"
     ]
    },
    {
     "name": "stderr",
     "output_type": "stream",
     "text": [
      "[I 2024-03-25 20:25:03,954] Trial 295 finished with value: 2.4619919985163783 and parameters: {'x': 1.0438568399765829, 'y': 0.9327910448412133}. Best is trial 257 with value: 0.019209393603912096.\n",
      "[I 2024-03-25 20:25:03,958] Trial 296 finished with value: 5.041746342436579 and parameters: {'x': 0.6215282387309353, 'y': 0.6076230271485367}. Best is trial 257 with value: 0.019209393603912096.\n",
      "[I 2024-03-25 20:25:03,963] Trial 297 finished with value: 1.0666431481639658 and parameters: {'x': 0.9009815027778925, 'y': 0.7089650183153426}. Best is trial 257 with value: 0.019209393603912096.\n",
      "[I 2024-03-25 20:25:03,967] Trial 298 finished with value: 1.7518106573912324 and parameters: {'x': 0.7200892905323598, 'y': 0.6478908935280276}. Best is trial 257 with value: 0.019209393603912096.\n",
      "[I 2024-03-25 20:25:03,971] Trial 299 finished with value: 3.274704202725239 and parameters: {'x': 0.8207755082714516, 'y': 0.8537441646942228}. Best is trial 257 with value: 0.019209393603912096.\n",
      "[I 2024-03-25 20:25:03,975] Trial 300 finished with value: 103.17174118747106 and parameters: {'x': 0.9487840057892301, 'y': -0.11553091026505247}. Best is trial 257 with value: 0.019209393603912096.\n",
      "[I 2024-03-25 20:25:03,979] Trial 301 finished with value: 0.17258809522402432 and parameters: {'x': 0.7393993233290569, 'y': 0.5143577841826672}. Best is trial 257 with value: 0.019209393603912096.\n",
      "[I 2024-03-25 20:25:03,983] Trial 302 finished with value: 57.907572751574676 and parameters: {'x': -0.020753326034409603, 'y': 0.754523767735218}. Best is trial 257 with value: 0.019209393603912096.\n",
      "[I 2024-03-25 20:25:03,987] Trial 303 finished with value: 24.00581870966864 and parameters: {'x': -1.027002099270411, 'y': 0.6086718677165581}. Best is trial 257 with value: 0.019209393603912096.\n",
      "[I 2024-03-25 20:25:03,992] Trial 304 finished with value: 8.338571088695327 and parameters: {'x': 0.6408813901079176, 'y': 0.6972530374211057}. Best is trial 257 with value: 0.019209393603912096.\n",
      "[I 2024-03-25 20:25:03,996] Trial 305 finished with value: 3.0064959675267158 and parameters: {'x': 0.8444935615536275, 'y': 0.5404756085326475}. Best is trial 257 with value: 0.019209393603912096.\n",
      "[I 2024-03-25 20:25:04,000] Trial 306 finished with value: 34.538740155136054 and parameters: {'x': 1.005905431920735, 'y': 0.42414934287056416}. Best is trial 257 with value: 0.019209393603912096.\n",
      "[I 2024-03-25 20:25:04,004] Trial 307 finished with value: 2.223032728590193 and parameters: {'x': 0.8004966734165441, 'y': 0.7885525348270983}. Best is trial 257 with value: 0.019209393603912096.\n",
      "[I 2024-03-25 20:25:04,008] Trial 308 finished with value: 3.366727917666804 and parameters: {'x': 0.9057765437842333, 'y': 0.6371867787896522}. Best is trial 257 with value: 0.019209393603912096.\n",
      "[I 2024-03-25 20:25:04,012] Trial 309 finished with value: 15.603962254795134 and parameters: {'x': 0.6989624443202009, 'y': 0.8824182568006996}. Best is trial 257 with value: 0.019209393603912096.\n",
      "[I 2024-03-25 20:25:04,016] Trial 310 finished with value: 0.6745171632383626 and parameters: {'x': 0.7760869685051234, 'y': 0.5232932557125491}. Best is trial 257 with value: 0.019209393603912096.\n",
      "[I 2024-03-25 20:25:04,020] Trial 311 finished with value: 17.1473736252231 and parameters: {'x': 0.5555475982076712, 'y': 0.7203349153589703}. Best is trial 257 with value: 0.019209393603912096.\n",
      "[I 2024-03-25 20:25:04,025] Trial 312 finished with value: 3.044596267102248 and parameters: {'x': 0.8876749448320834, 'y': 0.6138410097926177}. Best is trial 257 with value: 0.019209393603912096.\n",
      "[I 2024-03-25 20:25:04,029] Trial 313 finished with value: 85.87222770305246 and parameters: {'x': -0.3593532903247858, 'y': 1.0457829549692075}. Best is trial 257 with value: 0.019209393603912096.\n",
      "[I 2024-03-25 20:25:04,033] Trial 314 finished with value: 10.432786519662079 and parameters: {'x': 0.682325432237638, 'y': 0.7870002494395003}. Best is trial 257 with value: 0.019209393603912096.\n",
      "[I 2024-03-25 20:25:04,037] Trial 315 finished with value: 6.472322598100933 and parameters: {'x': 0.8331970830663445, 'y': 0.44035719359645287}. Best is trial 257 with value: 0.019209393603912096.\n",
      "[I 2024-03-25 20:25:04,041] Trial 316 finished with value: 6.215476348577526 and parameters: {'x': 0.9617721786964171, 'y': 0.6757264629995688}. Best is trial 257 with value: 0.019209393603912096.\n",
      "[I 2024-03-25 20:25:04,046] Trial 317 finished with value: 0.21606618461074492 and parameters: {'x': 0.7344985321651127, 'y': 0.5776424061155646}. Best is trial 257 with value: 0.019209393603912096.\n",
      "[I 2024-03-25 20:25:04,050] Trial 318 finished with value: 4.412232946580849 and parameters: {'x': 0.8475992448004559, 'y': 0.5089249104216991}. Best is trial 257 with value: 0.019209393603912096.\n",
      "[I 2024-03-25 20:25:04,054] Trial 319 finished with value: 5.764285524794608 and parameters: {'x': 1.0402424049273178, 'y': 0.8420487242338253}. Best is trial 257 with value: 0.019209393603912096.\n",
      "[I 2024-03-25 20:25:04,058] Trial 320 finished with value: 9.12819536064709 and parameters: {'x': 0.6466512988314289, 'y': 0.7182135647170221}. Best is trial 257 with value: 0.019209393603912096.\n",
      "[I 2024-03-25 20:25:04,062] Trial 321 finished with value: 37.835788568241504 and parameters: {'x': 0.13153578773328067, 'y': 0.6262479540275473}. Best is trial 257 with value: 0.019209393603912096.\n",
      "[I 2024-03-25 20:25:04,067] Trial 322 finished with value: 10.381442758436812 and parameters: {'x': 0.7781540887269803, 'y': 0.9269616048295921}. Best is trial 257 with value: 0.019209393603912096.\n",
      "[I 2024-03-25 20:25:04,071] Trial 323 finished with value: 1.0877213969704775 and parameters: {'x': 0.918025943418055, 'y': 0.7388004035461903}. Best is trial 257 with value: 0.019209393603912096.\n",
      "[I 2024-03-25 20:25:04,075] Trial 324 finished with value: 0.06436251249048894 and parameters: {'x': 0.7463497155879342, 'y': 0.5565475337245124}. Best is trial 257 with value: 0.019209393603912096.\n",
      "[I 2024-03-25 20:25:04,079] Trial 325 finished with value: 0.7905440454042276 and parameters: {'x': 0.8098931747130754, 'y': 0.5690705533940776}. Best is trial 257 with value: 0.019209393603912096.\n",
      "[I 2024-03-25 20:25:04,083] Trial 326 finished with value: 1.548677303511751 and parameters: {'x': 0.8843024125588613, 'y': 0.658083881673999}. Best is trial 257 with value: 0.019209393603912096.\n",
      "[I 2024-03-25 20:25:04,088] Trial 327 finished with value: 359.278472875677 and parameters: {'x': 1.6405079254008421, 'y': 0.7968845006639358}. Best is trial 257 with value: 0.019209393603912096.\n",
      "[I 2024-03-25 20:25:04,092] Trial 328 finished with value: 0.07383268846060502 and parameters: {'x': 0.7468035841609296, 'y': 0.5478544252981528}. Best is trial 257 with value: 0.019209393603912096.\n",
      "[I 2024-03-25 20:25:04,096] Trial 329 finished with value: 0.1754198971131382 and parameters: {'x': 0.7258155517104389, 'y': 0.49514707402780495}. Best is trial 257 with value: 0.019209393603912096.\n",
      "[I 2024-03-25 20:25:04,100] Trial 330 finished with value: 179.34725058937167 and parameters: {'x': 0.605604562870359, 'y': 1.7053819379879913}. Best is trial 257 with value: 0.019209393603912096.\n",
      "[I 2024-03-25 20:25:04,104] Trial 331 finished with value: 1.0555603311438433 and parameters: {'x': 0.5550221079452835, 'y': 0.40065380623170704}. Best is trial 257 with value: 0.019209393603912096.\n",
      "[I 2024-03-25 20:25:04,108] Trial 332 finished with value: 0.18382933186671085 and parameters: {'x': 0.7371244537057745, 'y': 0.5772236543585998}. Best is trial 257 with value: 0.019209393603912096.\n",
      "[I 2024-03-25 20:25:04,112] Trial 333 finished with value: 257.07808303883996 and parameters: {'x': 0.8017181181519896, 'y': -0.9604909206487726}. Best is trial 257 with value: 0.019209393603912096.\n",
      "[I 2024-03-25 20:25:04,116] Trial 334 finished with value: 3.4551676068159103 and parameters: {'x': 0.6782006246592753, 'y': 0.6430301916516346}. Best is trial 257 with value: 0.019209393603912096.\n",
      "[I 2024-03-25 20:25:04,121] Trial 335 finished with value: 3.9136911319702317 and parameters: {'x': 0.8431352120811736, 'y': 0.5136693650480786}. Best is trial 257 with value: 0.019209393603912096.\n",
      "[I 2024-03-25 20:25:04,125] Trial 336 finished with value: 11.243494223137871 and parameters: {'x': 0.9614630022355337, 'y': 0.589120050165246}. Best is trial 257 with value: 0.019209393603912096.\n"
     ]
    },
    {
     "name": "stderr",
     "output_type": "stream",
     "text": [
      "[I 2024-03-25 20:25:04,129] Trial 337 finished with value: 3.060532019735066 and parameters: {'x': 0.7198930233857396, 'y': 0.6909327365116867}. Best is trial 257 with value: 0.019209393603912096.\n",
      "[I 2024-03-25 20:25:04,133] Trial 338 finished with value: 1.1101728384561613 and parameters: {'x': 0.7727147440760372, 'y': 0.4942039539591494}. Best is trial 257 with value: 0.019209393603912096.\n",
      "[I 2024-03-25 20:25:04,137] Trial 339 finished with value: 0.15716730466684667 and parameters: {'x': 0.6038747814710171, 'y': 0.36307693586285095}. Best is trial 257 with value: 0.019209393603912096.\n",
      "[I 2024-03-25 20:25:04,141] Trial 340 finished with value: 1.3760433435990354 and parameters: {'x': 0.8842649826059557, 'y': 0.6651920126157199}. Best is trial 257 with value: 0.019209393603912096.\n",
      "[I 2024-03-25 20:25:04,145] Trial 341 finished with value: 12.840051549904036 and parameters: {'x': 0.47193007540548104, 'y': 0.5771357397680315}. Best is trial 257 with value: 0.019209393603912096.\n",
      "[I 2024-03-25 20:25:04,149] Trial 342 finished with value: 22.87589349292241 and parameters: {'x': 1.1050720080712992, 'y': 0.7430120676561114}. Best is trial 257 with value: 0.019209393603912096.\n",
      "[I 2024-03-25 20:25:04,153] Trial 343 finished with value: 3.337233276634503 and parameters: {'x': 0.7961569273961063, 'y': 0.45232573961168526}. Best is trial 257 with value: 0.019209393603912096.\n",
      "[I 2024-03-25 20:25:04,157] Trial 344 finished with value: 492.04222203407153 and parameters: {'x': 0.6787399152779537, 'y': -1.7572819513511644}. Best is trial 257 with value: 0.019209393603912096.\n",
      "[I 2024-03-25 20:25:04,162] Trial 345 finished with value: 11.066312461817809 and parameters: {'x': 0.9865134517079884, 'y': 0.6405508493437386}. Best is trial 257 with value: 0.019209393603912096.\n",
      "[I 2024-03-25 20:25:04,166] Trial 346 finished with value: 6.856154682937575 and parameters: {'x': 0.8955840548653722, 'y': 0.5404364744911859}. Best is trial 257 with value: 0.019209393603912096.\n",
      "[I 2024-03-25 20:25:04,170] Trial 347 finished with value: 1.3259999123660962 and parameters: {'x': 0.7843246236416889, 'y': 0.7282793957106964}. Best is trial 257 with value: 0.019209393603912096.\n",
      "[I 2024-03-25 20:25:04,174] Trial 348 finished with value: 1.0303257364969656 and parameters: {'x': 0.8514731230642381, 'y': 0.8254189039963532}. Best is trial 257 with value: 0.019209393603912096.\n",
      "[I 2024-03-25 20:25:04,178] Trial 349 finished with value: 1.258173802593339 and parameters: {'x': 0.693311284788888, 'y': 0.5885747373927844}. Best is trial 257 with value: 0.019209393603912096.\n",
      "[I 2024-03-25 20:25:04,182] Trial 350 finished with value: 12.252298022288613 and parameters: {'x': 0.5511217354510749, 'y': 0.6508778803874871}. Best is trial 257 with value: 0.019209393603912096.\n",
      "[I 2024-03-25 20:25:04,186] Trial 351 finished with value: 16.377839369554707 and parameters: {'x': 0.9353809235369278, 'y': 0.47029363187563067}. Best is trial 257 with value: 0.019209393603912096.\n",
      "[I 2024-03-25 20:25:04,191] Trial 352 finished with value: 2.032621821801426 and parameters: {'x': 0.745013575348926, 'y': 0.6953165269079657}. Best is trial 257 with value: 0.019209393603912096.\n",
      "[I 2024-03-25 20:25:04,195] Trial 353 finished with value: 13.068782366874888 and parameters: {'x': 0.6325206757188535, 'y': 0.7597175163050202}. Best is trial 257 with value: 0.019209393603912096.\n",
      "[I 2024-03-25 20:25:04,199] Trial 354 finished with value: 25.215920093624433 and parameters: {'x': 1.0242839210113894, 'y': 0.5470088638502094}. Best is trial 257 with value: 0.019209393603912096.\n",
      "[I 2024-03-25 20:25:04,203] Trial 355 finished with value: 0.3580720660935401 and parameters: {'x': 0.8276247279922254, 'y': 0.6276600873286906}. Best is trial 257 with value: 0.019209393603912096.\n",
      "[I 2024-03-25 20:25:04,207] Trial 356 finished with value: 6.164694957122416 and parameters: {'x': 0.7391929986183904, 'y': 0.7933207412977085}. Best is trial 257 with value: 0.019209393603912096.\n",
      "[I 2024-03-25 20:25:04,211] Trial 357 finished with value: 15.23915064538744 and parameters: {'x': 0.8986453424161592, 'y': 0.41732150240984733}. Best is trial 257 with value: 0.019209393603912096.\n",
      "[I 2024-03-25 20:25:04,216] Trial 358 finished with value: 4.108570756009308 and parameters: {'x': 0.8221314889214698, 'y': 0.8778143635971087}. Best is trial 257 with value: 0.019209393603912096.\n",
      "[I 2024-03-25 20:25:04,220] Trial 359 finished with value: 2.0842495917195167 and parameters: {'x': 0.6298920363361417, 'y': 0.536308582743949}. Best is trial 257 with value: 0.019209393603912096.\n",
      "[I 2024-03-25 20:25:04,224] Trial 360 finished with value: 732.9683514045796 and parameters: {'x': 1.848353650499925, 'y': 0.710401890857484}. Best is trial 257 with value: 0.019209393603912096.\n",
      "[I 2024-03-25 20:25:04,228] Trial 361 finished with value: 8.164686176871266 and parameters: {'x': 0.9474902003649159, 'y': 0.6120467821759245}. Best is trial 257 with value: 0.019209393603912096.\n",
      "[I 2024-03-25 20:25:04,232] Trial 362 finished with value: 1.626727013480423 and parameters: {'x': 0.7514710197946641, 'y': 0.6898070692592849}. Best is trial 257 with value: 0.019209393603912096.\n",
      "[I 2024-03-25 20:25:04,237] Trial 363 finished with value: 6.187702883642755 and parameters: {'x': 0.8563264938379014, 'y': 0.48495938785075254}. Best is trial 257 with value: 0.019209393603912096.\n",
      "[I 2024-03-25 20:25:04,241] Trial 364 finished with value: 9.830474132129872 and parameters: {'x': 0.6767508770469721, 'y': 0.7698568508157724}. Best is trial 257 with value: 0.019209393603912096.\n",
      "[I 2024-03-25 20:25:04,245] Trial 365 finished with value: 56.71828543375898 and parameters: {'x': 1.1677235983785388, 'y': 0.6106497586567917}. Best is trial 257 with value: 0.019209393603912096.\n",
      "[I 2024-03-25 20:25:04,249] Trial 366 finished with value: 5.726171026255069 and parameters: {'x': 0.7866027715575267, 'y': 0.3804031421509998}. Best is trial 257 with value: 0.019209393603912096.\n",
      "[I 2024-03-25 20:25:04,253] Trial 367 finished with value: 24.58254777472582 and parameters: {'x': 1.0205263857143745, 'y': 0.5456704488275124}. Best is trial 257 with value: 0.019209393603912096.\n",
      "[I 2024-03-25 20:25:04,258] Trial 368 finished with value: 464.0270488501312 and parameters: {'x': 0.8794861167130321, 'y': -1.3805991666827517}. Best is trial 257 with value: 0.019209393603912096.\n",
      "[I 2024-03-25 20:25:04,262] Trial 369 finished with value: 9.932542889255993 and parameters: {'x': 0.7298937788737544, 'y': 0.846744697842424}. Best is trial 257 with value: 0.019209393603912096.\n",
      "[I 2024-03-25 20:25:04,266] Trial 370 finished with value: 3.387046231569856 and parameters: {'x': 0.9298907974404249, 'y': 0.6807911874964021}. Best is trial 257 with value: 0.019209393603912096.\n",
      "[I 2024-03-25 20:25:04,270] Trial 371 finished with value: 8.395445884346318 and parameters: {'x': 0.8203987101089041, 'y': 0.9622458356347781}. Best is trial 257 with value: 0.019209393603912096.\n",
      "[I 2024-03-25 20:25:04,274] Trial 372 finished with value: 114.55074321609962 and parameters: {'x': -1.3436308436192, 'y': 0.7610348011365676}. Best is trial 257 with value: 0.019209393603912096.\n",
      "[I 2024-03-25 20:25:04,279] Trial 373 finished with value: 11.352785224910276 and parameters: {'x': 0.5023460832054999, 'y': 0.5855951289448901}. Best is trial 257 with value: 0.019209393603912096.\n",
      "[I 2024-03-25 20:25:04,283] Trial 374 finished with value: 59.5039809350784 and parameters: {'x': 0.6426778935116542, 'y': -0.3575253230169603}. Best is trial 257 with value: 0.019209393603912096.\n",
      "[I 2024-03-25 20:25:04,287] Trial 375 finished with value: 0.6188618239141258 and parameters: {'x': 0.7563364807568316, 'y': 0.4972458137536095}. Best is trial 257 with value: 0.019209393603912096.\n",
      "[I 2024-03-25 20:25:04,291] Trial 376 finished with value: 5.754712304719042 and parameters: {'x': 0.9635402618712854, 'y': 0.6885477301898878}. Best is trial 257 with value: 0.019209393603912096.\n",
      "[I 2024-03-25 20:25:04,296] Trial 377 finished with value: 1.600278942160724 and parameters: {'x': 0.8537712747039368, 'y': 0.6032712569846652}. Best is trial 257 with value: 0.019209393603912096.\n",
      "[I 2024-03-25 20:25:04,300] Trial 378 finished with value: 10.532863629713729 and parameters: {'x': 0.6967633721691237, 'y': 0.8086031850309664}. Best is trial 257 with value: 0.019209393603912096.\n"
     ]
    },
    {
     "name": "stderr",
     "output_type": "stream",
     "text": [
      "[I 2024-03-25 20:25:04,304] Trial 379 finished with value: 0.19906675713502278 and parameters: {'x': 0.5707382518661466, 'y': 0.313576171408368}. Best is trial 257 with value: 0.019209393603912096.\n",
      "[I 2024-03-25 20:25:04,308] Trial 380 finished with value: 23.310061198695823 and parameters: {'x': 1.0660993585210254, 'y': 0.653808149705494}. Best is trial 257 with value: 0.019209393603912096.\n",
      "[I 2024-03-25 20:25:04,313] Trial 381 finished with value: 7.092046099611792 and parameters: {'x': 0.8262360816662275, 'y': 0.41692460558227085}. Best is trial 257 with value: 0.019209393603912096.\n",
      "[I 2024-03-25 20:25:04,317] Trial 382 finished with value: 0.36837576467320104 and parameters: {'x': 0.7679186259515669, 'y': 0.533617468271875}. Best is trial 257 with value: 0.019209393603912096.\n",
      "[I 2024-03-25 20:25:04,321] Trial 383 finished with value: 0.3654124411064012 and parameters: {'x': 0.891012978479391, 'y': 0.734445379913427}. Best is trial 257 with value: 0.019209393603912096.\n",
      "[I 2024-03-25 20:25:04,326] Trial 384 finished with value: 17.988461279871387 and parameters: {'x': 0.683059276963244, 'y': 0.8895121687981129}. Best is trial 257 with value: 0.019209393603912096.\n",
      "[I 2024-03-25 20:25:04,330] Trial 385 finished with value: 8.798549979538173 and parameters: {'x': 0.9610370000578643, 'y': 0.6269942081347076}. Best is trial 257 with value: 0.019209393603912096.\n",
      "[I 2024-03-25 20:25:04,334] Trial 386 finished with value: 3.7608436962771234 and parameters: {'x': 0.8080628876309607, 'y': 0.4599888483129826}. Best is trial 257 with value: 0.019209393603912096.\n",
      "[I 2024-03-25 20:25:04,338] Trial 387 finished with value: 11.29249333405461 and parameters: {'x': 0.629080007089102, 'y': 0.7297313511619794}. Best is trial 257 with value: 0.019209393603912096.\n",
      "[I 2024-03-25 20:25:04,343] Trial 388 finished with value: 5.885892352517365 and parameters: {'x': 0.8946047104686359, 'y': 0.5579380470767363}. Best is trial 257 with value: 0.019209393603912096.\n",
      "[I 2024-03-25 20:25:04,347] Trial 389 finished with value: 1.2839673462238959 and parameters: {'x': 0.7403689276063776, 'y': 0.6584438847745815}. Best is trial 257 with value: 0.019209393603912096.\n",
      "[I 2024-03-25 20:25:04,351] Trial 390 finished with value: 4.428331601479514 and parameters: {'x': 1.007643851753522, 'y': 0.8049115061897116}. Best is trial 257 with value: 0.019209393603912096.\n",
      "[I 2024-03-25 20:25:04,355] Trial 391 finished with value: 20.587785187124396 and parameters: {'x': 0.31434820375579836, 'y': 0.5473420142449985}. Best is trial 257 with value: 0.019209393603912096.\n",
      "[I 2024-03-25 20:25:04,360] Trial 392 finished with value: 0.8431683654487039 and parameters: {'x': 0.7855201143594348, 'y': 0.7063260448630287}. Best is trial 257 with value: 0.019209393603912096.\n",
      "[I 2024-03-25 20:25:04,364] Trial 393 finished with value: 6.676781635188848 and parameters: {'x': 0.8509741308045107, 'y': 0.4661923821491408}. Best is trial 257 with value: 0.019209393603912096.\n",
      "[I 2024-03-25 20:25:04,368] Trial 394 finished with value: 7.896748278322235 and parameters: {'x': 0.584383810983658, 'y': 0.619425496787441}. Best is trial 257 with value: 0.019209393603912096.\n",
      "[I 2024-03-25 20:25:04,372] Trial 395 finished with value: 455.4642772899441 and parameters: {'x': -1.6974576482987147, 'y': 0.7643173583627652}. Best is trial 257 with value: 0.019209393603912096.\n",
      "[I 2024-03-25 20:25:04,377] Trial 396 finished with value: 4.095586625507545 and parameters: {'x': 0.6807426186126191, 'y': 0.663251983715323}. Best is trial 257 with value: 0.019209393603912096.\n",
      "[I 2024-03-25 20:25:04,381] Trial 397 finished with value: 0.06474627428390255 and parameters: {'x': 0.7473555313611778, 'y': 0.5555120122799552}. Best is trial 257 with value: 0.019209393603912096.\n",
      "[I 2024-03-25 20:25:04,385] Trial 398 finished with value: 1.760164052054304 and parameters: {'x': 0.717493797930347, 'y': 0.3851688694847127}. Best is trial 257 with value: 0.019209393603912096.\n",
      "[I 2024-03-25 20:25:04,390] Trial 399 finished with value: 0.7682970065857081 and parameters: {'x': 0.7599017798694967, 'y': 0.4931506645579858}. Best is trial 257 with value: 0.019209393603912096.\n",
      "[I 2024-03-25 20:25:04,394] Trial 400 finished with value: 7.013515893239593 and parameters: {'x': 0.548103698511707, 'y': 0.561364126761173}. Best is trial 257 with value: 0.019209393603912096.\n",
      "[I 2024-03-25 20:25:04,398] Trial 401 finished with value: 1.3632026786864682 and parameters: {'x': 0.6334964388492962, 'y': 0.2904629763710966}. Best is trial 257 with value: 0.019209393603912096.\n",
      "[I 2024-03-25 20:25:04,403] Trial 402 finished with value: 230.0168436230234 and parameters: {'x': 0.928392752671072, 'y': -0.6547006116973098}. Best is trial 257 with value: 0.019209393603912096.\n",
      "[I 2024-03-25 20:25:04,407] Trial 403 finished with value: 3.5336380001733576 and parameters: {'x': 0.802242192728984, 'y': 0.4566559195356015}. Best is trial 257 with value: 0.019209393603912096.\n",
      "[I 2024-03-25 20:25:04,411] Trial 404 finished with value: 4.498020531861896 and parameters: {'x': 0.8832969042363759, 'y': 0.568449379721045}. Best is trial 257 with value: 0.019209393603912096.\n",
      "[I 2024-03-25 20:25:04,416] Trial 405 finished with value: 20.714335762392242 and parameters: {'x': 0.3944205548300072, 'y': 0.6066508180305503}. Best is trial 257 with value: 0.019209393603912096.\n",
      "[I 2024-03-25 20:25:04,420] Trial 406 finished with value: 0.12798807079112481 and parameters: {'x': 0.685818138761279, 'y': 0.4874572847377756}. Best is trial 257 with value: 0.019209393603912096.\n",
      "[I 2024-03-25 20:25:04,424] Trial 407 finished with value: 27.956916813761417 and parameters: {'x': 1.08346195118932, 'y': 0.6452126683701891}. Best is trial 257 with value: 0.019209393603912096.\n",
      "[I 2024-03-25 20:25:04,429] Trial 408 finished with value: 2.5384549890574655 and parameters: {'x': 0.7414574749508375, 'y': 0.3925456142159366}. Best is trial 257 with value: 0.019209393603912096.\n",
      "[I 2024-03-25 20:25:04,433] Trial 409 finished with value: 2.2307887995224776 and parameters: {'x': 0.8387386336903567, 'y': 0.5549973593092252}. Best is trial 257 with value: 0.019209393603912096.\n",
      "[I 2024-03-25 20:25:04,437] Trial 410 finished with value: 70.32367027970857 and parameters: {'x': 0.9246217130204454, 'y': 0.016367094808813536}. Best is trial 257 with value: 0.019209393603912096.\n",
      "[I 2024-03-25 20:25:04,442] Trial 411 finished with value: 165.19328103012847 and parameters: {'x': 0.7765295001004786, 'y': 1.8880791591106183}. Best is trial 257 with value: 0.019209393603912096.\n",
      "[I 2024-03-25 20:25:04,446] Trial 412 finished with value: 6.9648862711404425 and parameters: {'x': 0.6367561432606328, 'y': 0.6668573181065426}. Best is trial 257 with value: 0.019209393603912096.\n",
      "[I 2024-03-25 20:25:04,450] Trial 413 finished with value: 3.3247562670742608 and parameters: {'x': 1.009459484366194, 'y': 0.8366717624082496}. Best is trial 257 with value: 0.019209393603912096.\n",
      "[I 2024-03-25 20:25:04,455] Trial 414 finished with value: 99.2962892455513 and parameters: {'x': 0.4764483062450108, 'y': -0.7680959154527325}. Best is trial 257 with value: 0.019209393603912096.\n",
      "[I 2024-03-25 20:25:04,459] Trial 415 finished with value: 4.59650380160852 and parameters: {'x': 0.7159607431451424, 'y': 0.7251045033707855}. Best is trial 257 with value: 0.019209393603912096.\n",
      "[I 2024-03-25 20:25:04,463] Trial 416 finished with value: 4.247764239156739 and parameters: {'x': 0.847434690739626, 'y': 0.5126099604492738}. Best is trial 257 with value: 0.019209393603912096.\n",
      "[I 2024-03-25 20:25:04,468] Trial 417 finished with value: 6.895615047781077 and parameters: {'x': 0.9321864302745846, 'y': 0.6064640862740692}. Best is trial 257 with value: 0.019209393603912096.\n",
      "[I 2024-03-25 20:25:04,472] Trial 418 finished with value: 2.0444967826683897 and parameters: {'x': 0.789676286671681, 'y': 0.765019211451693}. Best is trial 257 with value: 0.019209393603912096.\n",
      "[I 2024-03-25 20:25:04,477] Trial 419 finished with value: 3.251108903574756 and parameters: {'x': 0.6972171851830569, 'y': 0.6638596998035811}. Best is trial 257 with value: 0.019209393603912096.\n",
      "[I 2024-03-25 20:25:04,481] Trial 420 finished with value: 4.320092138047311 and parameters: {'x': 0.5738184311144643, 'y': 0.5326996790408203}. Best is trial 257 with value: 0.019209393603912096.\n"
     ]
    },
    {
     "name": "stderr",
     "output_type": "stream",
     "text": [
      "[I 2024-03-25 20:25:04,485] Trial 421 finished with value: 0.765750660447225 and parameters: {'x': 0.8946287638527127, 'y': 0.8872310782621369}. Best is trial 257 with value: 0.019209393603912096.\n",
      "[I 2024-03-25 20:25:04,490] Trial 422 finished with value: 4.389531832064468 and parameters: {'x': 0.8016269388277293, 'y': 0.4340348987260496}. Best is trial 257 with value: 0.019209393603912096.\n",
      "[I 2024-03-25 20:25:04,494] Trial 423 finished with value: 12.497078264466879 and parameters: {'x': 0.9793629391247715, 'y': 0.605645721657967}. Best is trial 257 with value: 0.019209393603912096.\n",
      "[I 2024-03-25 20:25:04,499] Trial 424 finished with value: 208.0701248324107 and parameters: {'x': 1.466429282093481, 'y': 0.7087055463639984}. Best is trial 257 with value: 0.019209393603912096.\n",
      "[I 2024-03-25 20:25:04,503] Trial 425 finished with value: 114.68683669340795 and parameters: {'x': 0.6611798684297832, 'y': 1.507542103095032}. Best is trial 257 with value: 0.019209393603912096.\n",
      "[I 2024-03-25 20:25:04,507] Trial 426 finished with value: 8.376035154481574 and parameters: {'x': 0.8530632928912322, 'y': 1.0167575455892024}. Best is trial 257 with value: 0.019209393603912096.\n",
      "[I 2024-03-25 20:25:04,512] Trial 427 finished with value: 5.358548375091232 and parameters: {'x': 0.7620501685999223, 'y': 0.8109796232944474}. Best is trial 257 with value: 0.019209393603912096.\n",
      "[I 2024-03-25 20:25:04,516] Trial 428 finished with value: 3.011411169235308 and parameters: {'x': 0.7176823345650324, 'y': 0.34384562449011025}. Best is trial 257 with value: 0.019209393603912096.\n",
      "[I 2024-03-25 20:25:04,521] Trial 429 finished with value: 3.052172020304731 and parameters: {'x': 0.8706993216078671, 'y': 0.5838917836851483}. Best is trial 257 with value: 0.019209393603912096.\n",
      "[I 2024-03-25 20:25:04,525] Trial 430 finished with value: 9.382463471158255 and parameters: {'x': 0.6202385906865666, 'y': 0.6886407192215821}. Best is trial 257 with value: 0.019209393603912096.\n",
      "[I 2024-03-25 20:25:04,529] Trial 431 finished with value: 60.66399428150781 and parameters: {'x': 1.121740554486443, 'y': 0.4795260789479302}. Best is trial 257 with value: 0.019209393603912096.\n",
      "[I 2024-03-25 20:25:04,534] Trial 432 finished with value: 1.4953165611507575 and parameters: {'x': 0.9455455841003115, 'y': 0.7718946213314426}. Best is trial 257 with value: 0.019209393603912096.\n",
      "[I 2024-03-25 20:25:04,538] Trial 433 finished with value: 0.0433512604469382 and parameters: {'x': 0.7989283521748598, 'y': 0.6328814652968074}. Best is trial 257 with value: 0.019209393603912096.\n",
      "[I 2024-03-25 20:25:04,542] Trial 434 finished with value: 12.058850180347035 and parameters: {'x': 1.0237991629026222, 'y': 0.7009143295572812}. Best is trial 257 with value: 0.019209393603912096.\n",
      "[I 2024-03-25 20:25:04,547] Trial 435 finished with value: 1.940777457269746 and parameters: {'x': 0.8167501757078737, 'y': 0.5289795476000463}. Best is trial 257 with value: 0.019209393603912096.\n",
      "[I 2024-03-25 20:25:04,551] Trial 436 finished with value: 39.88854497945084 and parameters: {'x': 1.2252754196449476, 'y': 0.8701279600875018}. Best is trial 257 with value: 0.019209393603912096.\n",
      "[I 2024-03-25 20:25:04,556] Trial 437 finished with value: 1.7553663471355052 and parameters: {'x': 0.7146108245927144, 'y': 0.640048666399377}. Best is trial 257 with value: 0.019209393603912096.\n",
      "[I 2024-03-25 20:25:04,560] Trial 438 finished with value: 0.014094934119156216 and parameters: {'x': 0.8814562887856254, 'y': 0.7776157476510703}. Best is trial 438 with value: 0.014094934119156216.\n",
      "[I 2024-03-25 20:25:04,565] Trial 439 finished with value: 0.031048621039861023 and parameters: {'x': 0.9601668533832792, 'y': 0.9390848675312742}. Best is trial 438 with value: 0.014094934119156216.\n",
      "[I 2024-03-25 20:25:04,569] Trial 440 finished with value: 6.616444592600663 and parameters: {'x': 1.0824059825067505, 'y': 0.9145102403133767}. Best is trial 438 with value: 0.014094934119156216.\n",
      "[I 2024-03-25 20:25:04,573] Trial 441 finished with value: 121.82765274958781 and parameters: {'x': 0.06337327366203083, 'y': 1.1037906174401866}. Best is trial 438 with value: 0.014094934119156216.\n",
      "[I 2024-03-25 20:25:04,578] Trial 442 finished with value: 0.9482978467358212 and parameters: {'x': 0.9810046079027764, 'y': 0.865007983341948}. Best is trial 438 with value: 0.014094934119156216.\n",
      "[I 2024-03-25 20:25:04,582] Trial 443 finished with value: 1.4023440037530421 and parameters: {'x': 0.9225301030274837, 'y': 0.969228724556925}. Best is trial 438 with value: 0.014094934119156216.\n",
      "[I 2024-03-25 20:25:04,587] Trial 444 finished with value: 1.7167348283829438 and parameters: {'x': 1.042194279419226, 'y': 0.9552126458275214}. Best is trial 438 with value: 0.014094934119156216.\n",
      "[I 2024-03-25 20:25:04,591] Trial 445 finished with value: 904.9706081935168 and parameters: {'x': -1.9464093817506334, 'y': 0.7947004027036345}. Best is trial 438 with value: 0.014094934119156216.\n",
      "[I 2024-03-25 20:25:04,596] Trial 446 finished with value: 14.549164464501569 and parameters: {'x': 0.8964462318599697, 'y': 1.184908923941053}. Best is trial 438 with value: 0.014094934119156216.\n",
      "[I 2024-03-25 20:25:04,600] Trial 447 finished with value: 1.0170317688749528 and parameters: {'x': 0.961138095686455, 'y': 0.823013351239651}. Best is trial 438 with value: 0.014094934119156216.\n",
      "[I 2024-03-25 20:25:04,605] Trial 448 finished with value: 3.193061803273195 and parameters: {'x': 0.8696642545007125, 'y': 0.9345313581171968}. Best is trial 438 with value: 0.014094934119156216.\n",
      "[I 2024-03-25 20:25:04,609] Trial 449 finished with value: 9.23604810986949 and parameters: {'x': 0.8423321026756555, 'y': 1.0130227771944906}. Best is trial 438 with value: 0.014094934119156216.\n",
      "[I 2024-03-25 20:25:04,614] Trial 450 finished with value: 4.845775164249107 and parameters: {'x': 0.9872141324628915, 'y': 0.7544642419667196}. Best is trial 438 with value: 0.014094934119156216.\n",
      "[I 2024-03-25 20:25:04,618] Trial 451 finished with value: 50.549695312067456 and parameters: {'x': -0.12846388931898822, 'y': 0.7184735155584558}. Best is trial 438 with value: 0.014094934119156216.\n",
      "[I 2024-03-25 20:25:04,623] Trial 452 finished with value: 3.4301304668615487 and parameters: {'x': 0.7917730502481829, 'y': 0.8109364082853717}. Best is trial 438 with value: 0.014094934119156216.\n",
      "[I 2024-03-25 20:25:04,627] Trial 453 finished with value: 41.47904863291337 and parameters: {'x': 1.1450198107289051, 'y': 0.6671913574621282}. Best is trial 438 with value: 0.014094934119156216.\n",
      "[I 2024-03-25 20:25:04,632] Trial 454 finished with value: 0.03386650735170351 and parameters: {'x': 0.9194286415602273, 'y': 0.8618943475742288}. Best is trial 438 with value: 0.014094934119156216.\n",
      "[I 2024-03-25 20:25:04,636] Trial 455 finished with value: 0.26900553405218464 and parameters: {'x': 1.0520127237802908, 'y': 1.0551264871989163}. Best is trial 438 with value: 0.014094934119156216.\n",
      "[I 2024-03-25 20:25:04,641] Trial 456 finished with value: 0.607397169675628 and parameters: {'x': 0.9761286320554136, 'y': 0.8749279838927588}. Best is trial 438 with value: 0.014094934119156216.\n",
      "[I 2024-03-25 20:25:04,645] Trial 457 finished with value: 2.5239851539301186 and parameters: {'x': 0.8950123653495992, 'y': 0.9595704053067872}. Best is trial 438 with value: 0.014094934119156216.\n",
      "[I 2024-03-25 20:25:04,650] Trial 458 finished with value: 6.060510010152429 and parameters: {'x': 1.0764214672335457, 'y': 0.9126207893427687}. Best is trial 438 with value: 0.014094934119156216.\n",
      "[I 2024-03-25 20:25:04,654] Trial 459 finished with value: 9.581285776732818 and parameters: {'x': 0.8953195121734154, 'y': 1.1109564924835051}. Best is trial 438 with value: 0.014094934119156216.\n",
      "[I 2024-03-25 20:25:04,659] Trial 460 finished with value: 0.4861781916062247 and parameters: {'x': 0.954344305528879, 'y': 0.8411962075501713}. Best is trial 438 with value: 0.014094934119156216.\n",
      "[I 2024-03-25 20:25:04,663] Trial 461 finished with value: 0.7937618599261093 and parameters: {'x': 0.8322191117985163, 'y': 0.7800878748095874}. Best is trial 438 with value: 0.014094934119156216.\n",
      "[I 2024-03-25 20:25:04,668] Trial 462 finished with value: 132.65453169959503 and parameters: {'x': 1.3736140544364037, 'y': 0.7356642154318984}. Best is trial 438 with value: 0.014094934119156216.\n"
     ]
    },
    {
     "name": "stderr",
     "output_type": "stream",
     "text": [
      "[I 2024-03-25 20:25:04,672] Trial 463 finished with value: 3.133534883012719 and parameters: {'x': 1.01105102441109, 'y': 0.8452096898696837}. Best is trial 438 with value: 0.014094934119156216.\n",
      "[I 2024-03-25 20:25:04,677] Trial 464 finished with value: 133.42349831184305 and parameters: {'x': -0.7868438616786069, 'y': -0.5220633448916625}. Best is trial 438 with value: 0.014094934119156216.\n",
      "[I 2024-03-25 20:25:04,681] Trial 465 finished with value: 3.282400489712661 and parameters: {'x': 0.9049518205494881, 'y': 0.9998622661013673}. Best is trial 438 with value: 0.014094934119156216.\n",
      "[I 2024-03-25 20:25:04,686] Trial 466 finished with value: 259.6572321634434 and parameters: {'x': 1.2118908065414384, 'y': -0.14256967441505675}. Best is trial 438 with value: 0.014094934119156216.\n",
      "[I 2024-03-25 20:25:04,690] Trial 467 finished with value: 328.7325391628019 and parameters: {'x': 0.7771667075059834, 'y': -1.2089732555097559}. Best is trial 438 with value: 0.014094934119156216.\n",
      "[I 2024-03-25 20:25:04,695] Trial 468 finished with value: 8.354113082332914 and parameters: {'x': 0.6724267965086593, 'y': 0.7393303733252132}. Best is trial 438 with value: 0.014094934119156216.\n",
      "[I 2024-03-25 20:25:04,699] Trial 469 finished with value: 0.05620332327917427 and parameters: {'x': 0.8258499999205139, 'y': 0.6659424831095151}. Best is trial 438 with value: 0.014094934119156216.\n",
      "[I 2024-03-25 20:25:04,704] Trial 470 finished with value: 13.055881782304512 and parameters: {'x': 0.737354193223463, 'y': 0.9040646093128842}. Best is trial 438 with value: 0.014094934119156216.\n",
      "[I 2024-03-25 20:25:04,708] Trial 471 finished with value: 0.8542640708154375 and parameters: {'x': 0.848125035633016, 'y': 0.628146011571862}. Best is trial 438 with value: 0.014094934119156216.\n",
      "[I 2024-03-25 20:25:04,713] Trial 472 finished with value: 91.16912048222851 and parameters: {'x': 0.5818768125673565, 'y': 1.2924899156720024}. Best is trial 438 with value: 0.014094934119156216.\n",
      "[I 2024-03-25 20:25:04,717] Trial 473 finished with value: 0.7754021355783517 and parameters: {'x': 0.9309243436061638, 'y': 0.7788345601438881}. Best is trial 438 with value: 0.014094934119156216.\n",
      "[I 2024-03-25 20:25:04,722] Trial 474 finished with value: 0.6472631871410254 and parameters: {'x': 0.7843630703110666, 'y': 0.6927343869494558}. Best is trial 438 with value: 0.014094934119156216.\n",
      "[I 2024-03-25 20:25:04,726] Trial 475 finished with value: 3.82156671934418 and parameters: {'x': 0.6628805558832622, 'y': 0.631970159819504}. Best is trial 438 with value: 0.014094934119156216.\n",
      "[I 2024-03-25 20:25:04,731] Trial 476 finished with value: 0.936548318005258 and parameters: {'x': 0.8488359931911, 'y': 0.8161100823285133}. Best is trial 438 with value: 0.014094934119156216.\n",
      "[I 2024-03-25 20:25:04,735] Trial 477 finished with value: 10.728345559548288 and parameters: {'x': 1.022562573497299, 'y': 0.7181004552541849}. Best is trial 438 with value: 0.014094934119156216.\n",
      "[I 2024-03-25 20:25:04,740] Trial 478 finished with value: 0.30345246751210014 and parameters: {'x': 0.7660600717790844, 'y': 0.5369757389110974}. Best is trial 438 with value: 0.014094934119156216.\n",
      "[I 2024-03-25 20:25:04,745] Trial 479 finished with value: 11.155499529434445 and parameters: {'x': 0.5335879701386019, 'y': 0.6154419803732896}. Best is trial 438 with value: 0.014094934119156216.\n",
      "[I 2024-03-25 20:25:04,749] Trial 480 finished with value: 0.2912887530419648 and parameters: {'x': 0.9093326056947763, 'y': 0.773681636000691}. Best is trial 438 with value: 0.014094934119156216.\n",
      "[I 2024-03-25 20:25:04,754] Trial 481 finished with value: 72.61338009047118 and parameters: {'x': 1.1318228432873476, 'y': 0.4289900687727918}. Best is trial 438 with value: 0.014094934119156216.\n",
      "[I 2024-03-25 20:25:04,758] Trial 482 finished with value: 2.7254787143403583 and parameters: {'x': 0.7192200288877139, 'y': 0.6799624622365684}. Best is trial 438 with value: 0.014094934119156216.\n",
      "[I 2024-03-25 20:25:04,763] Trial 483 finished with value: 2.439435060699217 and parameters: {'x': 0.8350056276991679, 'y': 0.8525473699886301}. Best is trial 438 with value: 0.014094934119156216.\n",
      "[I 2024-03-25 20:25:04,767] Trial 484 finished with value: 13.989005742375179 and parameters: {'x': 0.9594387169048644, 'y': 0.5465258530513485}. Best is trial 438 with value: 0.014094934119156216.\n",
      "[I 2024-03-25 20:25:04,772] Trial 485 finished with value: 36.367151880089295 and parameters: {'x': 0.6486607134680994, 'y': 1.0227882337395895}. Best is trial 438 with value: 0.014094934119156216.\n",
      "[I 2024-03-25 20:25:04,777] Trial 486 finished with value: 1.5713152160658133 and parameters: {'x': 0.7242209312265807, 'y': 0.6467768274105589}. Best is trial 438 with value: 0.014094934119156216.\n",
      "[I 2024-03-25 20:25:04,781] Trial 487 finished with value: 3.437353059873376 and parameters: {'x': 0.8481767162870317, 'y': 0.9041820619484568}. Best is trial 438 with value: 0.014094934119156216.\n",
      "[I 2024-03-25 20:25:04,786] Trial 488 finished with value: 12.25652874770973 and parameters: {'x': 0.7749777402189584, 'y': 0.2512211555864147}. Best is trial 438 with value: 0.014094934119156216.\n",
      "[I 2024-03-25 20:25:04,790] Trial 489 finished with value: 1.0067332231687163 and parameters: {'x': 0.9179902849250619, 'y': 0.7427057817274217}. Best is trial 438 with value: 0.014094934119156216.\n",
      "[I 2024-03-25 20:25:04,795] Trial 490 finished with value: 29.298083204795216 and parameters: {'x': 1.0276214202956653, 'y': 0.5147357929472559}. Best is trial 438 with value: 0.014094934119156216.\n",
      "[I 2024-03-25 20:25:04,799] Trial 491 finished with value: 3.73831006399271 and parameters: {'x': 0.6341524214809454, 'y': 0.5920035960518534}. Best is trial 438 with value: 0.014094934119156216.\n",
      "[I 2024-03-25 20:25:04,804] Trial 492 finished with value: 0.06824618488746877 and parameters: {'x': 0.8252795505199061, 'y': 0.7005077034564122}. Best is trial 438 with value: 0.014094934119156216.\n",
      "[I 2024-03-25 20:25:04,809] Trial 493 finished with value: 8.367926491102336 and parameters: {'x': 0.7218108639476147, 'y': 0.8089438546646146}. Best is trial 438 with value: 0.014094934119156216.\n",
      "[I 2024-03-25 20:25:04,813] Trial 494 finished with value: 21.956021414565612 and parameters: {'x': -0.5206031420860029, 'y': 0.7142407574705636}. Best is trial 438 with value: 0.014094934119156216.\n",
      "[I 2024-03-25 20:25:04,818] Trial 495 finished with value: 11.489501816118874 and parameters: {'x': 0.9023564957516492, 'y': 0.47542623718932864}. Best is trial 438 with value: 0.014094934119156216.\n",
      "[I 2024-03-25 20:25:04,822] Trial 496 finished with value: 7.968357514564583 and parameters: {'x': 0.8046499455121747, 'y': 0.9290675693854478}. Best is trial 438 with value: 0.014094934119156216.\n",
      "[I 2024-03-25 20:25:04,827] Trial 497 finished with value: 3.2709821162800568 and parameters: {'x': 0.9639025057522923, 'y': 0.7482855008725063}. Best is trial 438 with value: 0.014094934119156216.\n",
      "[I 2024-03-25 20:25:04,832] Trial 498 finished with value: 1.4363444549975086 and parameters: {'x': 0.8514248173253143, 'y': 0.6060011406328436}. Best is trial 438 with value: 0.014094934119156216.\n",
      "[I 2024-03-25 20:25:04,836] Trial 499 finished with value: 0.8412812321294063 and parameters: {'x': 0.6781994146322101, 'y': 0.3740634909897086}. Best is trial 438 with value: 0.014094934119156216.\n",
      "[I 2024-03-25 20:25:04,841] Trial 500 finished with value: 13.22933076398647 and parameters: {'x': 1.0979491681081923, 'y': 0.8419028169822624}. Best is trial 438 with value: 0.014094934119156216.\n",
      "[I 2024-03-25 20:25:04,846] Trial 501 finished with value: 0.7956438319567652 and parameters: {'x': 0.7691210743597124, 'y': 0.6777063097521755}. Best is trial 438 with value: 0.014094934119156216.\n",
      "[I 2024-03-25 20:25:04,850] Trial 502 finished with value: 11.269441074366057 and parameters: {'x': 0.4823715503308371, 'y': 0.5643674322598143}. Best is trial 438 with value: 0.014094934119156216.\n",
      "[I 2024-03-25 20:25:04,855] Trial 503 finished with value: 18.872652839257352 and parameters: {'x': 0.5894800616407342, 'y': 0.7799694157822916}. Best is trial 438 with value: 0.014094934119156216.\n",
      "[I 2024-03-25 20:25:04,860] Trial 504 finished with value: 1.8533566279452396 and parameters: {'x': 0.8867938169319827, 'y': 0.6507367344673489}. Best is trial 438 with value: 0.014094934119156216.\n"
     ]
    },
    {
     "name": "stderr",
     "output_type": "stream",
     "text": [
      "[I 2024-03-25 20:25:04,864] Trial 505 finished with value: 24.322631958322617 and parameters: {'x': 0.9739243373405617, 'y': 0.45535570382655655}. Best is trial 438 with value: 0.014094934119156216.\n",
      "[I 2024-03-25 20:25:04,869] Trial 506 finished with value: 0.1114685904980289 and parameters: {'x': 0.7882543230595447, 'y': 0.5955316333930751}. Best is trial 438 with value: 0.014094934119156216.\n",
      "[I 2024-03-25 20:25:04,873] Trial 507 finished with value: 5.753253110388574 and parameters: {'x': 0.705340173690374, 'y': 0.7355473764941824}. Best is trial 438 with value: 0.014094934119156216.\n",
      "[I 2024-03-25 20:25:04,878] Trial 508 finished with value: 4.551968853535084 and parameters: {'x': 0.8534959970245073, 'y': 0.5156055771284322}. Best is trial 438 with value: 0.014094934119156216.\n",
      "[I 2024-03-25 20:25:04,883] Trial 509 finished with value: 0.4285225412759098 and parameters: {'x': 1.0163682648628742, 'y': 0.9675632837869554}. Best is trial 438 with value: 0.014094934119156216.\n",
      "[I 2024-03-25 20:25:04,887] Trial 510 finished with value: 10.027877636598632 and parameters: {'x': 0.7443348531238824, 'y': 0.8696688610643805}. Best is trial 438 with value: 0.014094934119156216.\n",
      "[I 2024-03-25 20:25:04,892] Trial 511 finished with value: 7.58449675452519 and parameters: {'x': 0.6441681069778404, 'y': 0.6880437512684252}. Best is trial 438 with value: 0.014094934119156216.\n",
      "[I 2024-03-25 20:25:04,897] Trial 512 finished with value: 0.014797369203944366 and parameters: {'x': 0.8920383303435429, 'y': 0.7901273430262026}. Best is trial 438 with value: 0.014094934119156216.\n",
      "[I 2024-03-25 20:25:04,901] Trial 513 finished with value: 11.154005824921734 and parameters: {'x': 1.0864659994750265, 'y': 0.8465441822172628}. Best is trial 438 with value: 0.014094934119156216.\n",
      "[I 2024-03-25 20:25:04,906] Trial 514 finished with value: 4.709253890822683 and parameters: {'x': 0.9451580925442428, 'y': 1.1102626651096694}. Best is trial 438 with value: 0.014094934119156216.\n",
      "[I 2024-03-25 20:25:04,911] Trial 515 finished with value: 2.2339676133828883 and parameters: {'x': 0.964639588480537, 'y': 0.781106737715258}. Best is trial 438 with value: 0.014094934119156216.\n",
      "[I 2024-03-25 20:25:04,915] Trial 516 finished with value: 35.8216872010757 and parameters: {'x': 0.8627600780973098, 'y': 0.14600010442197087}. Best is trial 438 with value: 0.014094934119156216.\n",
      "[I 2024-03-25 20:25:04,920] Trial 517 finished with value: 0.01405462905275559 and parameters: {'x': 0.8984106534234355, 'y': 0.8010308645049113}. Best is trial 517 with value: 0.01405462905275559.\n",
      "[I 2024-03-25 20:25:04,925] Trial 518 finished with value: 40.01742851632615 and parameters: {'x': 1.2819392249250319, 'y': 1.0114034717716565}. Best is trial 517 with value: 0.01405462905275559.\n",
      "[I 2024-03-25 20:25:04,930] Trial 519 finished with value: 34.92584066845399 and parameters: {'x': 1.180891528649806, 'y': 0.8038008247685624}. Best is trial 517 with value: 0.01405462905275559.\n",
      "[I 2024-03-25 20:25:04,934] Trial 520 finished with value: 2.7067266694848438 and parameters: {'x': 1.012241004440614, 'y': 0.8601150790598461}. Best is trial 517 with value: 0.01405462905275559.\n",
      "[I 2024-03-25 20:25:04,939] Trial 521 finished with value: 1.3122763207413293 and parameters: {'x': 0.9224773055403475, 'y': 0.9652563978815483}. Best is trial 517 with value: 0.01405462905275559.\n",
      "[I 2024-03-25 20:25:04,944] Trial 522 finished with value: 68.21793864850977 and parameters: {'x': 0.22955104161520523, 'y': 0.875033920820373}. Best is trial 517 with value: 0.01405462905275559.\n",
      "[I 2024-03-25 20:25:04,948] Trial 523 finished with value: 4.916323789914177 and parameters: {'x': 1.0676197755144436, 'y': 0.9181872717392158}. Best is trial 517 with value: 0.01405462905275559.\n",
      "[I 2024-03-25 20:25:04,953] Trial 524 finished with value: 0.04266040229018883 and parameters: {'x': 0.8722312600051841, 'y': 0.7770156029258387}. Best is trial 517 with value: 0.01405462905275559.\n",
      "[I 2024-03-25 20:25:04,958] Trial 525 finished with value: 0.930509565536489 and parameters: {'x': 0.9095128057480721, 'y': 0.9232511215282974}. Best is trial 517 with value: 0.01405462905275559.\n",
      "[I 2024-03-25 20:25:04,962] Trial 526 finished with value: 6.197318087427039 and parameters: {'x': 1.0238891256687401, 'y': 0.799416272109225}. Best is trial 517 with value: 0.01405462905275559.\n",
      "[I 2024-03-25 20:25:04,967] Trial 527 finished with value: 5.499411556676204 and parameters: {'x': 0.9008353539196516, 'y': 1.045802818213711}. Best is trial 517 with value: 0.01405462905275559.\n",
      "[I 2024-03-25 20:25:04,972] Trial 528 finished with value: 1.5878220539705146 and parameters: {'x': 0.8262362875903955, 'y': 0.8074713798439463}. Best is trial 517 with value: 0.01405462905275559.\n",
      "[I 2024-03-25 20:25:04,976] Trial 529 finished with value: 0.5521470364924121 and parameters: {'x': 0.9149608618780518, 'y': 0.763334994779279}. Best is trial 517 with value: 0.01405462905275559.\n",
      "[I 2024-03-25 20:25:04,981] Trial 530 finished with value: 6.356063633240206 and parameters: {'x': 0.9857252758692422, 'y': 0.7195460120977688}. Best is trial 517 with value: 0.01405462905275559.\n",
      "[I 2024-03-25 20:25:04,986] Trial 531 finished with value: 4.80446399977538 and parameters: {'x': 0.8257829718112393, 'y': 0.9004149404739249}. Best is trial 517 with value: 0.01405462905275559.\n",
      "[I 2024-03-25 20:25:04,991] Trial 532 finished with value: 28.598963203515662 and parameters: {'x': 1.1213525477610722, 'y': 0.7227892563112577}. Best is trial 517 with value: 0.01405462905275559.\n",
      "[I 2024-03-25 20:25:04,996] Trial 533 finished with value: 0.15498245525475216 and parameters: {'x': 0.8717710765081828, 'y': 0.7972057445954385}. Best is trial 517 with value: 0.01405462905275559.\n",
      "[I 2024-03-25 20:25:05,000] Trial 534 finished with value: 0.22076023497320912 and parameters: {'x': 0.9629747278070423, 'y': 0.8804813080244359}. Best is trial 517 with value: 0.01405462905275559.\n",
      "[I 2024-03-25 20:25:05,005] Trial 535 finished with value: 0.16864666568914266 and parameters: {'x': 0.8071517282714871, 'y': 0.687750802800997}. Best is trial 517 with value: 0.01405462905275559.\n",
      "[I 2024-03-25 20:25:05,010] Trial 536 finished with value: 1.583776677957423 and parameters: {'x': 1.0438689600169453, 'y': 0.9638907001126538}. Best is trial 517 with value: 0.01405462905275559.\n",
      "[I 2024-03-25 20:25:05,015] Trial 537 finished with value: 0.054639806141956695 and parameters: {'x': 0.8700759776621643, 'y': 0.7376003890377998}. Best is trial 517 with value: 0.01405462905275559.\n",
      "[I 2024-03-25 20:25:05,019] Trial 538 finished with value: 0.34321601621441467 and parameters: {'x': 0.9402889753667025, 'y': 0.8258638059151474}. Best is trial 517 with value: 0.01405462905275559.\n",
      "[I 2024-03-25 20:25:05,024] Trial 539 finished with value: 0.3403049633191248 and parameters: {'x': 0.89376603683244, 'y': 0.7414575238893918}. Best is trial 517 with value: 0.01405462905275559.\n",
      "[I 2024-03-25 20:25:05,029] Trial 540 finished with value: 2.0960208148021016 and parameters: {'x': 1.002227076804721, 'y': 0.8596828773459063}. Best is trial 517 with value: 0.01405462905275559.\n",
      "[I 2024-03-25 20:25:05,034] Trial 541 finished with value: 659.1526849682749 and parameters: {'x': 0.7786328629755386, 'y': -1.961032330356312}. Best is trial 517 with value: 0.01405462905275559.\n",
      "[I 2024-03-25 20:25:05,038] Trial 542 finished with value: 0.20932192201530275 and parameters: {'x': 1.0741634200988937, 'y': 1.1989736707962217}. Best is trial 517 with value: 0.01405462905275559.\n",
      "[I 2024-03-25 20:25:05,043] Trial 543 finished with value: 0.8872766563730674 and parameters: {'x': 0.8741107415435325, 'y': 0.6707192509902493}. Best is trial 517 with value: 0.01405462905275559.\n",
      "[I 2024-03-25 20:25:05,048] Trial 544 finished with value: 7.675811026649683 and parameters: {'x': 0.7085183923455985, 'y': 0.7775132755707378}. Best is trial 517 with value: 0.01405462905275559.\n",
      "[I 2024-03-25 20:25:05,053] Trial 545 finished with value: 84.61697151621381 and parameters: {'x': 0.8021942949351292, 'y': -0.2761464490650638}. Best is trial 517 with value: 0.01405462905275559.\n",
      "[I 2024-03-25 20:25:05,057] Trial 546 finished with value: 0.03429231045622452 and parameters: {'x': 0.9704862166119841, 'y': 0.9601249755254287}. Best is trial 517 with value: 0.01405462905275559.\n"
     ]
    },
    {
     "name": "stderr",
     "output_type": "stream",
     "text": [
      "[I 2024-03-25 20:25:05,062] Trial 547 finished with value: 2.9775569056072397 and parameters: {'x': 1.0830681034565264, 'y': 1.0006805886053602}. Best is trial 517 with value: 0.01405462905275559.\n",
      "[I 2024-03-25 20:25:05,067] Trial 548 finished with value: 6.163181465517617 and parameters: {'x': 1.1494000341352457, 'y': 1.0733128297225516}. Best is trial 517 with value: 0.01405462905275559.\n",
      "[I 2024-03-25 20:25:05,072] Trial 549 finished with value: 0.0392919006042181 and parameters: {'x': 0.9717525620581913, 'y': 0.9246831583670196}. Best is trial 517 with value: 0.01405462905275559.\n",
      "[I 2024-03-25 20:25:05,077] Trial 550 finished with value: 14.963748841877896 and parameters: {'x': 1.1762450710072643, 'y': 0.9971241229114771}. Best is trial 517 with value: 0.01405462905275559.\n",
      "[I 2024-03-25 20:25:05,081] Trial 551 finished with value: 0.024985212239158387 and parameters: {'x': 1.0222774810611233, 'y': 1.0294023102770244}. Best is trial 517 with value: 0.01405462905275559.\n",
      "[I 2024-03-25 20:25:05,086] Trial 552 finished with value: 3.8434471996666506 and parameters: {'x': 1.0202720846479543, 'y': 1.2369917621209476}. Best is trial 517 with value: 0.01405462905275559.\n",
      "[I 2024-03-25 20:25:05,091] Trial 553 finished with value: 30.260699949827536 and parameters: {'x': 1.2340239129834882, 'y': 0.973215775112004}. Best is trial 517 with value: 0.01405462905275559.\n",
      "[I 2024-03-25 20:25:05,096] Trial 554 finished with value: 1.7166636823044472 and parameters: {'x': 1.0794026163347057, 'y': 1.0343293174186}. Best is trial 517 with value: 0.01405462905275559.\n",
      "[I 2024-03-25 20:25:05,101] Trial 555 finished with value: 4.783567703446017 and parameters: {'x': 1.1401235971323576, 'y': 1.0816174568216006}. Best is trial 517 with value: 0.01405462905275559.\n",
      "[I 2024-03-25 20:25:05,106] Trial 556 finished with value: 0.8493095236106815 and parameters: {'x': 1.014005508512625, 'y': 0.9360598235653237}. Best is trial 517 with value: 0.01405462905275559.\n",
      "[I 2024-03-25 20:25:05,110] Trial 557 finished with value: 0.15536135353696975 and parameters: {'x': 1.0337791802894623, 'y': 1.1079702887407488}. Best is trial 517 with value: 0.01405462905275559.\n",
      "[I 2024-03-25 20:25:05,115] Trial 558 finished with value: 211.61148275601863 and parameters: {'x': 1.5479216524156443, 'y': 0.9424065152246035}. Best is trial 517 with value: 0.01405462905275559.\n",
      "[I 2024-03-25 20:25:05,120] Trial 559 finished with value: 2.9161541906257 and parameters: {'x': 0.9542924344192263, 'y': 1.0813803774275952}. Best is trial 517 with value: 0.01405462905275559.\n",
      "[I 2024-03-25 20:25:05,125] Trial 560 finished with value: 2.373573955956225 and parameters: {'x': 1.1069477131968233, 'y': 1.3790256645031325}. Best is trial 517 with value: 0.01405462905275559.\n",
      "[I 2024-03-25 20:25:05,130] Trial 561 finished with value: 5.50394339883368 and parameters: {'x': 0.960990526788905, 'y': 1.158075204848375}. Best is trial 517 with value: 0.01405462905275559.\n",
      "[I 2024-03-25 20:25:05,135] Trial 562 finished with value: 0.14992119343704463 and parameters: {'x': 0.9890858678410845, 'y': 1.0169951270030515}. Best is trial 517 with value: 0.01405462905275559.\n",
      "[I 2024-03-25 20:25:05,140] Trial 563 finished with value: 440.63210660244044 and parameters: {'x': 1.736929585262927, 'y': 0.919094454475243}. Best is trial 517 with value: 0.01405462905275559.\n",
      "[I 2024-03-25 20:25:05,144] Trial 564 finished with value: 8.758272774539414 and parameters: {'x': 0.922900550549632, 'y': 1.1475887707206889}. Best is trial 517 with value: 0.01405462905275559.\n",
      "[I 2024-03-25 20:25:05,149] Trial 565 finished with value: 64.49642506756751 and parameters: {'x': 1.2884406279102731, 'y': 0.8575007379096474}. Best is trial 517 with value: 0.01405462905275559.\n",
      "[I 2024-03-25 20:25:05,154] Trial 566 finished with value: 5.214440841169194 and parameters: {'x': 1.0753681753553253, 'y': 0.9281896221655556}. Best is trial 517 with value: 0.01405462905275559.\n",
      "[I 2024-03-25 20:25:05,159] Trial 567 finished with value: 1.2685478419678013 and parameters: {'x': 0.960055215488414, 'y': 1.0342649904917642}. Best is trial 517 with value: 0.01405462905275559.\n",
      "[I 2024-03-25 20:25:05,164] Trial 568 finished with value: 64.61982200529431 and parameters: {'x': -0.31193365694618413, 'y': 0.8903893108332921}. Best is trial 517 with value: 0.01405462905275559.\n",
      "[I 2024-03-25 20:25:05,169] Trial 569 finished with value: 0.016444540796253244 and parameters: {'x': 0.9944754205129209, 'y': 0.976169640879637}. Best is trial 517 with value: 0.01405462905275559.\n",
      "[I 2024-03-25 20:25:05,174] Trial 570 finished with value: 2.4673702218574456 and parameters: {'x': 1.1404267711199225, 'y': 1.1441235304883335}. Best is trial 517 with value: 0.01405462905275559.\n",
      "[I 2024-03-25 20:25:05,179] Trial 571 finished with value: 1.4760336293833014 and parameters: {'x': 1.04640942635616, 'y': 0.9735692364410986}. Best is trial 517 with value: 0.01405462905275559.\n",
      "[I 2024-03-25 20:25:05,183] Trial 572 finished with value: 12.255097912997744 and parameters: {'x': 1.1888888442605816, 'y': 1.0638938296089195}. Best is trial 517 with value: 0.01405462905275559.\n",
      "[I 2024-03-25 20:25:05,188] Trial 573 finished with value: 0.07780661526769521 and parameters: {'x': 1.019580647075117, 'y': 1.0117196687512569}. Best is trial 517 with value: 0.01405462905275559.\n",
      "[I 2024-03-25 20:25:05,193] Trial 574 finished with value: 0.08306008715783343 and parameters: {'x': 0.9597101387294613, 'y': 0.8925064141824173}. Best is trial 517 with value: 0.01405462905275559.\n",
      "[I 2024-03-25 20:25:05,198] Trial 575 finished with value: 3.437834432983881 and parameters: {'x': 1.0597721957773913, 'y': 0.937799495324406}. Best is trial 517 with value: 0.01405462905275559.\n",
      "[I 2024-03-25 20:25:05,203] Trial 576 finished with value: 0.01005307731172122 and parameters: {'x': 0.9107646617751706, 'y': 0.8340640649821127}. Best is trial 576 with value: 0.01005307731172122.\n",
      "[I 2024-03-25 20:25:05,208] Trial 577 finished with value: 14.753008867185654 and parameters: {'x': 1.1170345007440525, 'y': 0.8638479622811276}. Best is trial 576 with value: 0.01005307731172122.\n",
      "[I 2024-03-25 20:25:05,213] Trial 578 finished with value: 8.598747808046076 and parameters: {'x': 0.9906123341559141, 'y': 1.2745475093935295}. Best is trial 576 with value: 0.01005307731172122.\n",
      "[I 2024-03-25 20:25:05,218] Trial 579 finished with value: 3.049056870659057 and parameters: {'x': 0.9036182141101495, 'y': 0.9908751648543245}. Best is trial 576 with value: 0.01005307731172122.\n",
      "[I 2024-03-25 20:25:05,223] Trial 580 finished with value: 0.018194409465853115 and parameters: {'x': 0.9241568223033313, 'y': 0.8429113614187922}. Best is trial 576 with value: 0.01005307731172122.\n",
      "[I 2024-03-25 20:25:05,228] Trial 581 finished with value: 28.614910109667253 and parameters: {'x': 1.2200777475542395, 'y': 0.9541135563086969}. Best is trial 576 with value: 0.01005307731172122.\n",
      "[I 2024-03-25 20:25:05,233] Trial 582 finished with value: 5.469696160619928 and parameters: {'x': 1.0479529146549704, 'y': 0.864380661679539}. Best is trial 576 with value: 0.01005307731172122.\n",
      "[I 2024-03-25 20:25:05,238] Trial 583 finished with value: 0.8650904698515539 and parameters: {'x': 0.9805699946154554, 'y': 1.0545074570620587}. Best is trial 576 with value: 0.01005307731172122.\n",
      "[I 2024-03-25 20:25:05,242] Trial 584 finished with value: 0.017405013214590256 and parameters: {'x': 0.9166731477012647, 'y': 0.8300614394898508}. Best is trial 576 with value: 0.01005307731172122.\n",
      "[I 2024-03-25 20:25:05,247] Trial 585 finished with value: 7.8647766588128345 and parameters: {'x': 1.0984243171465249, 'y': 0.9262666580140416}. Best is trial 576 with value: 0.01005307731172122.\n",
      "[I 2024-03-25 20:25:05,252] Trial 586 finished with value: 5.4516579752537115 and parameters: {'x': 0.9372025988641262, 'y': 1.1117521059301818}. Best is trial 576 with value: 0.01005307731172122.\n",
      "[I 2024-03-25 20:25:05,257] Trial 587 finished with value: 4.027366520493569 and parameters: {'x': 1.0183815838849801, 'y': 0.8364264720891252}. Best is trial 576 with value: 0.01005307731172122.\n",
      "[I 2024-03-25 20:25:05,262] Trial 588 finished with value: 12.95785408514118 and parameters: {'x': 1.1636752012613625, 'y': 0.9945420803545105}. Best is trial 576 with value: 0.01005307731172122.\n"
     ]
    },
    {
     "name": "stderr",
     "output_type": "stream",
     "text": [
      "[I 2024-03-25 20:25:05,267] Trial 589 finished with value: 0.07128428711951132 and parameters: {'x': 0.9189018029644063, 'y': 0.8189428802126056}. Best is trial 576 with value: 0.01005307731172122.\n",
      "[I 2024-03-25 20:25:05,272] Trial 590 finished with value: 0.21017246637538145 and parameters: {'x': 0.9779858395086702, 'y': 0.9106646171048485}. Best is trial 576 with value: 0.01005307731172122.\n",
      "[I 2024-03-25 20:25:05,277] Trial 591 finished with value: 0.08546712773294539 and parameters: {'x': 0.9070148017540939, 'y': 0.850392430592084}. Best is trial 576 with value: 0.01005307731172122.\n",
      "[I 2024-03-25 20:25:05,282] Trial 592 finished with value: 0.6947903674592278 and parameters: {'x': 1.032840936539404, 'y': 0.9834710347031682}. Best is trial 576 with value: 0.01005307731172122.\n",
      "[I 2024-03-25 20:25:05,287] Trial 593 finished with value: 8.047562957003565 and parameters: {'x': -1.0116087866452053, 'y': 0.8233275125960547}. Best is trial 576 with value: 0.01005307731172122.\n",
      "[I 2024-03-25 20:25:05,292] Trial 594 finished with value: 0.7265273960839612 and parameters: {'x': 0.9018386232023466, 'y': 0.8979823619758922}. Best is trial 576 with value: 0.01005307731172122.\n",
      "[I 2024-03-25 20:25:05,297] Trial 595 finished with value: 0.6561155088119255 and parameters: {'x': 1.0799990139067992, 'y': 1.0857929280952676}. Best is trial 576 with value: 0.01005307731172122.\n",
      "[I 2024-03-25 20:25:05,302] Trial 596 finished with value: 17.613517389877448 and parameters: {'x': 0.8837489804985527, 'y': 1.2005358366318626}. Best is trial 576 with value: 0.01005307731172122.\n",
      "[I 2024-03-25 20:25:05,307] Trial 597 finished with value: 2.165136492009088 and parameters: {'x': 0.9755385453968498, 'y': 0.8045517597036105}. Best is trial 576 with value: 0.01005307731172122.\n",
      "[I 2024-03-25 20:25:05,312] Trial 598 finished with value: 1.2899395826312292 and parameters: {'x': 0.8936011994803812, 'y': 0.9115991346777518}. Best is trial 576 with value: 0.01005307731172122.\n",
      "[I 2024-03-25 20:25:05,317] Trial 599 finished with value: 3.5255812553289116 and parameters: {'x': 0.9957301321473782, 'y': 0.8037136691268578}. Best is trial 576 with value: 0.01005307731172122.\n",
      "[I 2024-03-25 20:25:05,322] Trial 600 finished with value: 6.094539735161331 and parameters: {'x': 1.1270008161157141, 'y': 1.0235865123170247}. Best is trial 576 with value: 0.01005307731172122.\n",
      "[I 2024-03-25 20:25:05,327] Trial 601 finished with value: 1.7665137137746907 and parameters: {'x': 0.870283063985354, 'y': 0.8896683549006881}. Best is trial 576 with value: 0.01005307731172122.\n",
      "[I 2024-03-25 20:25:05,332] Trial 602 finished with value: 9.10517677762623 and parameters: {'x': 1.0436758875294176, 'y': 0.7875431141253372}. Best is trial 576 with value: 0.01005307731172122.\n",
      "[I 2024-03-25 20:25:05,337] Trial 603 finished with value: 0.5515488879128811 and parameters: {'x': 0.9611866947740857, 'y': 0.9980447066621506}. Best is trial 576 with value: 0.01005307731172122.\n",
      "[I 2024-03-25 20:25:05,342] Trial 604 finished with value: 0.5113183040493325 and parameters: {'x': 0.8810726598303623, 'y': 0.8467996404505759}. Best is trial 576 with value: 0.01005307731172122.\n",
      "[I 2024-03-25 20:25:05,347] Trial 605 finished with value: 0.055749700827273194 and parameters: {'x': 0.9923243916585233, 'y': 0.961108802996174}. Best is trial 576 with value: 0.01005307731172122.\n",
      "[I 2024-03-25 20:25:05,352] Trial 606 finished with value: 0.2512604642022156 and parameters: {'x': 0.8594704419134199, 'y': 0.7868051248166642}. Best is trial 576 with value: 0.01005307731172122.\n",
      "[I 2024-03-25 20:25:05,357] Trial 607 finished with value: 12.245024914819126 and parameters: {'x': 1.1237336849208321, 'y': 0.9130673019770692}. Best is trial 576 with value: 0.01005307731172122.\n",
      "[I 2024-03-25 20:25:05,362] Trial 608 finished with value: 1.5062522443629134 and parameters: {'x': 0.936952127421116, 'y': 0.7553118704830579}. Best is trial 576 with value: 0.01005307731172122.\n",
      "[I 2024-03-25 20:25:05,367] Trial 609 finished with value: 15.342892557435997 and parameters: {'x': 1.2404922718447824, 'y': 1.147860003960795}. Best is trial 576 with value: 0.01005307731172122.\n",
      "[I 2024-03-25 20:25:05,372] Trial 610 finished with value: 9.749190247843796 and parameters: {'x': 1.073069565885128, 'y': 0.8393268702562449}. Best is trial 576 with value: 0.01005307731172122.\n",
      "[I 2024-03-25 20:25:05,377] Trial 611 finished with value: 2.7896687456669533 and parameters: {'x': 0.9373263575056384, 'y': 1.0454860856546389}. Best is trial 576 with value: 0.01005307731172122.\n",
      "[I 2024-03-25 20:25:05,382] Trial 612 finished with value: 0.3660669876507078 and parameters: {'x': 0.8436887690269753, 'y': 0.7702601860901944}. Best is trial 576 with value: 0.01005307731172122.\n",
      "[I 2024-03-25 20:25:05,387] Trial 613 finished with value: 3.9396890399392057 and parameters: {'x': 0.8607660867011963, 'y': 0.9389158054271682}. Best is trial 576 with value: 0.01005307731172122.\n",
      "[I 2024-03-25 20:25:05,392] Trial 614 finished with value: 817.2625592171719 and parameters: {'x': 1.0249189182455025, 'y': -1.8083205628869767}. Best is trial 576 with value: 0.01005307731172122.\n",
      "[I 2024-03-25 20:25:05,397] Trial 615 finished with value: 0.03507643025844699 and parameters: {'x': 0.9385704827664926, 'y': 0.8632219411743078}. Best is trial 576 with value: 0.01005307731172122.\n",
      "[I 2024-03-25 20:25:05,402] Trial 616 finished with value: 18.02410166075933 and parameters: {'x': 1.1419338779230022, 'y': 0.8797022883639312}. Best is trial 576 with value: 0.01005307731172122.\n",
      "[I 2024-03-25 20:25:05,407] Trial 617 finished with value: 2.0287372393712038 and parameters: {'x': 0.9645464034914277, 'y': 1.0727393807482062}. Best is trial 576 with value: 0.01005307731172122.\n",
      "[I 2024-03-25 20:25:05,412] Trial 618 finished with value: 173.0306395486246 and parameters: {'x': -1.5046551877484835, 'y': 0.9726416492150795}. Best is trial 576 with value: 0.01005307731172122.\n",
      "[I 2024-03-25 20:25:05,417] Trial 619 finished with value: 5.793867540778635 and parameters: {'x': 1.051765867870203, 'y': 0.8655625713886614}. Best is trial 576 with value: 0.01005307731172122.\n",
      "[I 2024-03-25 20:25:05,422] Trial 620 finished with value: 0.69509358988164 and parameters: {'x': 0.9550965301937434, 'y': 0.8289581196384798}. Best is trial 576 with value: 0.01005307731172122.\n",
      "[I 2024-03-25 20:25:05,427] Trial 621 finished with value: 0.46998146337425895 and parameters: {'x': 0.9402647613209038, 'y': 0.9523922695188907}. Best is trial 576 with value: 0.01005307731172122.\n",
      "[I 2024-03-25 20:25:05,432] Trial 622 finished with value: 38.51717157946658 and parameters: {'x': 1.1828427122378022, 'y': 0.7787642392621003}. Best is trial 576 with value: 0.01005307731172122.\n",
      "[I 2024-03-25 20:25:05,437] Trial 623 finished with value: 0.23711902770268764 and parameters: {'x': 1.035570406907526, 'y': 1.0238412888764328}. Best is trial 576 with value: 0.01005307731172122.\n",
      "[I 2024-03-25 20:25:05,442] Trial 624 finished with value: 3.4887697487203 and parameters: {'x': 0.8402634135259808, 'y': 0.892140803232784}. Best is trial 576 with value: 0.01005307731172122.\n",
      "[I 2024-03-25 20:25:05,447] Trial 625 finished with value: 0.10304556178757156 and parameters: {'x': 0.930254316612384, 'y': 0.8340392298760776}. Best is trial 576 with value: 0.01005307731172122.\n",
      "[I 2024-03-25 20:25:05,452] Trial 626 finished with value: 0.049240255792135576 and parameters: {'x': 0.8591759750387324, 'y': 0.7553323647390241}. Best is trial 576 with value: 0.01005307731172122.\n",
      "[I 2024-03-25 20:25:05,457] Trial 627 finished with value: 6.319606445884623 and parameters: {'x': 1.0824386306829532, 'y': 0.9204203231825341}. Best is trial 576 with value: 0.01005307731172122.\n",
      "[I 2024-03-25 20:25:05,462] Trial 628 finished with value: 6.964226899012016 and parameters: {'x': 1.0119313362454685, 'y': 0.7601095093774666}. Best is trial 576 with value: 0.01005307731172122.\n",
      "[I 2024-03-25 20:25:05,467] Trial 629 finished with value: 36.8138757706281 and parameters: {'x': 1.3230359959755686, 'y': 1.1445404003866437}. Best is trial 576 with value: 0.01005307731172122.\n",
      "[I 2024-03-25 20:25:05,473] Trial 630 finished with value: 5.45542505823182 and parameters: {'x': 0.8614819395682058, 'y': 0.975308542660584}. Best is trial 576 with value: 0.01005307731172122.\n"
     ]
    },
    {
     "name": "stderr",
     "output_type": "stream",
     "text": [
      "[I 2024-03-25 20:25:05,478] Trial 631 finished with value: 60.83815413030744 and parameters: {'x': 0.9287900480835938, 'y': 1.6426066141656537}. Best is trial 576 with value: 0.01005307731172122.\n",
      "[I 2024-03-25 20:25:05,483] Trial 632 finished with value: 3.2364939770512606 and parameters: {'x': 0.8288893263618573, 'y': 0.8661445085866738}. Best is trial 576 with value: 0.01005307731172122.\n",
      "[I 2024-03-25 20:25:05,488] Trial 633 finished with value: 986.526852126632 and parameters: {'x': 1.9741964323295593, 'y': 0.7580602215912723}. Best is trial 576 with value: 0.01005307731172122.\n",
      "[I 2024-03-25 20:25:05,493] Trial 634 finished with value: 3.5316425320748537 and parameters: {'x': 1.0082040374798729, 'y': 0.8285505231797585}. Best is trial 576 with value: 0.01005307731172122.\n",
      "[I 2024-03-25 20:25:05,498] Trial 635 finished with value: 0.6772211228755385 and parameters: {'x': 0.9164767235774155, 'y': 0.9217980760613154}. Best is trial 576 with value: 0.01005307731172122.\n",
      "[I 2024-03-25 20:25:05,503] Trial 636 finished with value: 2.0232032083990035 and parameters: {'x': 1.1025605769272822, 'y': 1.0737707122966265}. Best is trial 576 with value: 0.01005307731172122.\n",
      "[I 2024-03-25 20:25:05,508] Trial 637 finished with value: 0.18463246419301285 and parameters: {'x': 0.8420934492589119, 'y': 0.7490836076311956}. Best is trial 576 with value: 0.01005307731172122.\n",
      "[I 2024-03-25 20:25:05,513] Trial 638 finished with value: 2.2679991959447148 and parameters: {'x': 0.986446615747103, 'y': 0.8224842465568761}. Best is trial 576 with value: 0.01005307731172122.\n",
      "[I 2024-03-25 20:25:05,518] Trial 639 finished with value: 1.689951714651064 and parameters: {'x': 0.9050628085765275, 'y': 0.948789705371713}. Best is trial 576 with value: 0.01005307731172122.\n",
      "[I 2024-03-25 20:25:05,523] Trial 640 finished with value: 0.654107032254243 and parameters: {'x': 0.8117204714938783, 'y': 0.7375449298873774}. Best is trial 576 with value: 0.01005307731172122.\n",
      "[I 2024-03-25 20:25:05,529] Trial 641 finished with value: 0.39817161637415405 and parameters: {'x': 1.0435458436729779, 'y': 1.0260375207100236}. Best is trial 576 with value: 0.01005307731172122.\n",
      "[I 2024-03-25 20:25:05,534] Trial 642 finished with value: 0.5896791387783443 and parameters: {'x': 0.8938643068516974, 'y': 0.8750469560754996}. Best is trial 576 with value: 0.01005307731172122.\n",
      "[I 2024-03-25 20:25:05,539] Trial 643 finished with value: 39.42873046212147 and parameters: {'x': 1.184701810864666, 'y': 0.7758670785628147}. Best is trial 576 with value: 0.01005307731172122.\n",
      "[I 2024-03-25 20:25:05,544] Trial 644 finished with value: 5.514020519381147 and parameters: {'x': 0.7926354987216663, 'y': 0.8621731604378167}. Best is trial 576 with value: 0.01005307731172122.\n",
      "[I 2024-03-25 20:25:05,549] Trial 645 finished with value: 0.007967725205091888 and parameters: {'x': 1.0018544833887486, 'y': 0.9947881209867998}. Best is trial 645 with value: 0.007967725205091888.\n",
      "[I 2024-03-25 20:25:05,554] Trial 646 finished with value: 4.031836724356864 and parameters: {'x': 1.1203193181146949, 'y': 1.0546818447600204}. Best is trial 645 with value: 0.007967725205091888.\n",
      "[I 2024-03-25 20:25:05,559] Trial 647 finished with value: 4.692104796616196 and parameters: {'x': 1.009598730101513, 'y': 1.2359001371403324}. Best is trial 645 with value: 0.007967725205091888.\n",
      "[I 2024-03-25 20:25:05,564] Trial 648 finished with value: 17.529333608459442 and parameters: {'x': 1.2319812930750431, 'y': 1.0997406080537768}. Best is trial 645 with value: 0.007967725205091888.\n",
      "[I 2024-03-25 20:25:05,570] Trial 649 finished with value: 0.026602193938296985 and parameters: {'x': 1.067835031299384, 'y': 1.155104254134511}. Best is trial 645 with value: 0.007967725205091888.\n",
      "[I 2024-03-25 20:25:05,575] Trial 650 finished with value: 57.036143369300895 and parameters: {'x': 1.4005002163652396, 'y': 1.2072407739212856}. Best is trial 645 with value: 0.007967725205091888.\n",
      "[I 2024-03-25 20:25:05,580] Trial 651 finished with value: 0.6480526152250289 and parameters: {'x': 1.145876108526913, 'y': 1.3922010384145262}. Best is trial 645 with value: 0.007967725205091888.\n",
      "[I 2024-03-25 20:25:05,585] Trial 652 finished with value: 13.90983626273032 and parameters: {'x': 1.246406841373566, 'y': 1.1813859570184373}. Best is trial 645 with value: 0.007967725205091888.\n",
      "[I 2024-03-25 20:25:05,590] Trial 653 finished with value: 0.011773676732719146 and parameters: {'x': 1.0821483588216168, 'y': 1.163956118620362}. Best is trial 645 with value: 0.007967725205091888.\n",
      "[I 2024-03-25 20:25:05,595] Trial 654 finished with value: 34.9114486317036 and parameters: {'x': 1.339294488432436, 'y': 1.2038256035329582}. Best is trial 645 with value: 0.007967725205091888.\n",
      "[I 2024-03-25 20:25:05,600] Trial 655 finished with value: 0.7455648673191821 and parameters: {'x': 1.1684623580185476, 'y': 1.2806174884929735}. Best is trial 645 with value: 0.007967725205091888.\n",
      "[I 2024-03-25 20:25:05,606] Trial 656 finished with value: 1.59793317970816 and parameters: {'x': 1.0956166598059076, 'y': 1.3264231037731373}. Best is trial 645 with value: 0.007967725205091888.\n",
      "[I 2024-03-25 20:25:05,611] Trial 657 finished with value: 1.3669270217748164 and parameters: {'x': 1.1840473862970973, 'y': 1.286510273409793}. Best is trial 645 with value: 0.007967725205091888.\n",
      "[I 2024-03-25 20:25:05,616] Trial 658 finished with value: 0.09497598606667594 and parameters: {'x': 1.082317572114667, 'y': 1.1417128751997527}. Best is trial 645 with value: 0.007967725205091888.\n",
      "[I 2024-03-25 20:25:05,621] Trial 659 finished with value: 0.20470572088954345 and parameters: {'x': 1.090302423227869, 'y': 1.1444252796264247}. Best is trial 645 with value: 0.007967725205091888.\n",
      "[I 2024-03-25 20:25:05,626] Trial 660 finished with value: 2.0150288393465132 and parameters: {'x': 1.2701086921478582, 'y': 1.473817913440146}. Best is trial 645 with value: 0.007967725205091888.\n",
      "[I 2024-03-25 20:25:05,631] Trial 661 finished with value: 6.862609275370996 and parameters: {'x': 1.1563546594669858, 'y': 1.075657293582077}. Best is trial 645 with value: 0.007967725205091888.\n",
      "[I 2024-03-25 20:25:05,637] Trial 662 finished with value: 0.44101259512074625 and parameters: {'x': 1.0590204582874785, 'y': 1.187670319659111}. Best is trial 645 with value: 0.007967725205091888.\n",
      "[I 2024-03-25 20:25:05,642] Trial 663 finished with value: 0.07936094042537785 and parameters: {'x': 1.0254791263606267, 'y': 1.0796630538227812}. Best is trial 645 with value: 0.007967725205091888.\n",
      "[I 2024-03-25 20:25:05,647] Trial 664 finished with value: 0.1293457305299777 and parameters: {'x': 0.9991077386402322, 'y': 1.0341808301854403}. Best is trial 645 with value: 0.007967725205091888.\n",
      "[I 2024-03-25 20:25:05,652] Trial 665 finished with value: 4.245124848544064 and parameters: {'x': 1.1076728275584342, 'y': 1.0211836212768919}. Best is trial 645 with value: 0.007967725205091888.\n",
      "[I 2024-03-25 20:25:05,657] Trial 666 finished with value: 8.823218512072648 and parameters: {'x': 0.9829385824151116, 'y': 1.2632023864907858}. Best is trial 645 with value: 0.007967725205091888.\n",
      "[I 2024-03-25 20:25:05,663] Trial 667 finished with value: 0.005363402800728172 and parameters: {'x': 1.0730220233503704, 'y': 1.151934714979161}. Best is trial 667 with value: 0.005363402800728172.\n",
      "[I 2024-03-25 20:25:05,668] Trial 668 finished with value: 20.66022382862716 and parameters: {'x': 1.2614843979171926, 'y': 1.137560452215204}. Best is trial 667 with value: 0.005363402800728172.\n",
      "[I 2024-03-25 20:25:05,673] Trial 669 finished with value: 0.33632374293949235 and parameters: {'x': 1.1760213801899089, 'y': 1.3277686883938993}. Best is trial 667 with value: 0.005363402800728172.\n",
      "[I 2024-03-25 20:25:05,678] Trial 670 finished with value: 0.9256819294456757 and parameters: {'x': 1.0978432930583177, 'y': 1.109546332839728}. Best is trial 667 with value: 0.005363402800728172.\n",
      "[I 2024-03-25 20:25:05,683] Trial 671 finished with value: 1.8993767313223517 and parameters: {'x': 1.1699354877686348, 'y': 1.231982870580424}. Best is trial 667 with value: 0.005363402800728172.\n",
      "[I 2024-03-25 20:25:05,689] Trial 672 finished with value: 0.06835554088400622 and parameters: {'x': 1.0641710714045851, 'y': 1.1578052096714395}. Best is trial 667 with value: 0.005363402800728172.\n"
     ]
    },
    {
     "name": "stderr",
     "output_type": "stream",
     "text": [
      "[I 2024-03-25 20:25:05,694] Trial 673 finished with value: 4.240415572042034 and parameters: {'x': 0.9935569613904996, 'y': 1.1930771211095788}. Best is trial 667 with value: 0.005363402800728172.\n",
      "[I 2024-03-25 20:25:05,699] Trial 674 finished with value: 1.3994183000271605 and parameters: {'x': 1.063661648629526, 'y': 1.0132505130515816}. Best is trial 667 with value: 0.005363402800728172.\n",
      "[I 2024-03-25 20:25:05,704] Trial 675 finished with value: 4.205773405057525 and parameters: {'x': 1.133764992151017, 'y': 1.0807799453532152}. Best is trial 667 with value: 0.005363402800728172.\n",
      "[I 2024-03-25 20:25:05,709] Trial 676 finished with value: 0.04167630008494849 and parameters: {'x': 0.9772101957560806, 'y': 0.9752269362574879}. Best is trial 667 with value: 0.005363402800728172.\n",
      "[I 2024-03-25 20:25:05,715] Trial 677 finished with value: 1.0386595183470946 and parameters: {'x': 1.2204109037537945, 'y': 1.3899000829896269}. Best is trial 667 with value: 0.005363402800728172.\n",
      "[I 2024-03-25 20:25:05,720] Trial 678 finished with value: 0.20243854119695914 and parameters: {'x': 1.0273227871709496, 'y': 1.0104819758302233}. Best is trial 667 with value: 0.005363402800728172.\n",
      "[I 2024-03-25 20:25:05,725] Trial 679 finished with value: 0.8471977069939858 and parameters: {'x': 1.0950725410410067, 'y': 1.1076328505445177}. Best is trial 667 with value: 0.005363402800728172.\n",
      "[I 2024-03-25 20:25:05,730] Trial 680 finished with value: 0.0016161742879118191 and parameters: {'x': 0.9820114014434903, 'y': 0.9607511392917536}. Best is trial 680 with value: 0.0016161742879118191.\n",
      "[I 2024-03-25 20:25:05,736] Trial 681 finished with value: 0.28439725188734505 and parameters: {'x': 1.01323882503802, 'y': 0.9733404428458915}. Best is trial 680 with value: 0.0016161742879118191.\n",
      "[I 2024-03-25 20:25:05,741] Trial 682 finished with value: 32.587062619580436 and parameters: {'x': 1.333942088569256, 'y': 1.2095283053671035}. Best is trial 680 with value: 0.0016161742879118191.\n",
      "[I 2024-03-25 20:25:05,746] Trial 683 finished with value: 12.21352198765811 and parameters: {'x': 1.212625817568279, 'y': 1.121630293261637}. Best is trial 680 with value: 0.0016161742879118191.\n",
      "[I 2024-03-25 20:25:05,751] Trial 684 finished with value: 0.4475186503341916 and parameters: {'x': 0.9541774110690739, 'y': 0.9771942456594545}. Best is trial 680 with value: 0.0016161742879118191.\n",
      "[I 2024-03-25 20:25:05,757] Trial 685 finished with value: 2.0702652410877564 and parameters: {'x': 1.0611299014944247, 'y': 1.2697509156517117}. Best is trial 680 with value: 0.0016161742879118191.\n",
      "[I 2024-03-25 20:25:05,762] Trial 686 finished with value: 5.730559467099714 and parameters: {'x': 1.1378263569387717, 'y': 1.0556600455355996}. Best is trial 680 with value: 0.0016161742879118191.\n",
      "[I 2024-03-25 20:25:05,767] Trial 687 finished with value: 0.06219897664271276 and parameters: {'x': 0.9710419584102843, 'y': 0.9676935181711679}. Best is trial 680 with value: 0.0016161742879118191.\n",
      "[I 2024-03-25 20:25:05,772] Trial 688 finished with value: 0.09360978312078307 and parameters: {'x': 1.0485654631695982, 'y': 1.129697340619655}. Best is trial 680 with value: 0.0016161742879118191.\n",
      "[I 2024-03-25 20:25:05,778] Trial 689 finished with value: 0.26511540730439165 and parameters: {'x': 0.9336006818320425, 'y': 0.9226696629859108}. Best is trial 680 with value: 0.0016161742879118191.\n",
      "[I 2024-03-25 20:25:05,783] Trial 690 finished with value: 108.86189284478708 and parameters: {'x': -0.05665015617985625, 'y': 1.0412139766595025}. Best is trial 680 with value: 0.0016161742879118191.\n",
      "[I 2024-03-25 20:25:05,788] Trial 691 finished with value: 0.0016370275784532142 and parameters: {'x': 0.9691706627755379, 'y': 0.9366715072915265}. Best is trial 680 with value: 0.0016161742879118191.\n",
      "[I 2024-03-25 20:25:05,793] Trial 692 finished with value: 6.7449977899399185 and parameters: {'x': 1.1043176981971703, 'y': 0.9600158327426722}. Best is trial 680 with value: 0.0016161742879118191.\n",
      "[I 2024-03-25 20:25:05,799] Trial 693 finished with value: 13.017985879085586 and parameters: {'x': 1.200143792237436, 'y': 1.0800962033590662}. Best is trial 680 with value: 0.0016161742879118191.\n",
      "[I 2024-03-25 20:25:05,804] Trial 694 finished with value: 1.1138043661175037 and parameters: {'x': 1.0197974468389412, 'y': 0.9344684726973447}. Best is trial 680 with value: 0.0016161742879118191.\n",
      "[I 2024-03-25 20:25:05,809] Trial 695 finished with value: 0.7578680396603863 and parameters: {'x': 0.9667914898232758, 'y': 1.021678039306949}. Best is trial 680 with value: 0.0016161742879118191.\n",
      "[I 2024-03-25 20:25:05,814] Trial 696 finished with value: 0.497015101912563 and parameters: {'x': 1.123307101644621, 'y': 1.1924062765360077}. Best is trial 680 with value: 0.0016161742879118191.\n",
      "[I 2024-03-25 20:25:05,820] Trial 697 finished with value: 3.3692734201022523 and parameters: {'x': 1.0550219743439067, 'y': 0.9295980439705311}. Best is trial 680 with value: 0.0016161742879118191.\n",
      "[I 2024-03-25 20:25:05,825] Trial 698 finished with value: 2.4234722608308776 and parameters: {'x': 0.9349564421638545, 'y': 1.0296826626801847}. Best is trial 680 with value: 0.0016161742879118191.\n",
      "[I 2024-03-25 20:25:05,830] Trial 699 finished with value: 11.493591884385431 and parameters: {'x': 1.0054087246753325, 'y': 1.3498682756820037}. Best is trial 680 with value: 0.0016161742879118191.\n",
      "[I 2024-03-25 20:25:05,835] Trial 700 finished with value: 5.730939404755819 and parameters: {'x': 0.9438226485840097, 'y': 1.1301290739735146}. Best is trial 680 with value: 0.0016161742879118191.\n",
      "[I 2024-03-25 20:25:05,841] Trial 701 finished with value: 50.19243041964282 and parameters: {'x': 1.2728963853818567, 'y': 0.9123248291963131}. Best is trial 680 with value: 0.0016161742879118191.\n",
      "[I 2024-03-25 20:25:05,846] Trial 702 finished with value: 5.0265821934169255 and parameters: {'x': 1.100406538379188, 'y': 0.9869190885413234}. Best is trial 680 with value: 0.0016161742879118191.\n",
      "[I 2024-03-25 20:25:05,851] Trial 703 finished with value: 44.81960807144383 and parameters: {'x': -0.5004803163462401, 'y': 0.9029233942918528}. Best is trial 680 with value: 0.0016161742879118191.\n",
      "[I 2024-03-25 20:25:05,857] Trial 704 finished with value: 1.5703605288379867 and parameters: {'x': 1.1730761743329776, 'y': 1.2519946507691675}. Best is trial 680 with value: 0.0016161742879118191.\n",
      "[I 2024-03-25 20:25:05,862] Trial 705 finished with value: 0.017892157858618626 and parameters: {'x': 1.030573812197258, 'y': 1.0751044405445251}. Best is trial 680 with value: 0.0016161742879118191.\n",
      "[I 2024-03-25 20:25:05,867] Trial 706 finished with value: 477.56418203499464 and parameters: {'x': 1.8481445235318736, 'y': 1.2319604726380222}. Best is trial 680 with value: 0.0016161742879118191.\n",
      "[I 2024-03-25 20:25:05,873] Trial 707 finished with value: 0.2724681053665713 and parameters: {'x': 1.0482434198084642, 'y': 1.1507893263647606}. Best is trial 680 with value: 0.0016161742879118191.\n",
      "[I 2024-03-25 20:25:05,878] Trial 708 finished with value: 0.6078064868984935 and parameters: {'x': 1.0799198571952036, 'y': 1.0886756695200548}. Best is trial 680 with value: 0.0016161742879118191.\n",
      "[I 2024-03-25 20:25:05,883] Trial 709 finished with value: 4.526579740832928 and parameters: {'x': 0.9242761001747635, 'y': 1.0669091122665673}. Best is trial 680 with value: 0.0016161742879118191.\n",
      "[I 2024-03-25 20:25:05,889] Trial 710 finished with value: 0.4880579856184911 and parameters: {'x': 1.1709484940221586, 'y': 1.303383044880871}. Best is trial 680 with value: 0.0016161742879118191.\n",
      "[I 2024-03-25 20:25:05,894] Trial 711 finished with value: 2.492092450874259 and parameters: {'x': 0.9882348855744836, 'y': 1.1344674312081642}. Best is trial 680 with value: 0.0016161742879118191.\n",
      "[I 2024-03-25 20:25:05,899] Trial 712 finished with value: 0.6250897219757581 and parameters: {'x': 1.048609783944229, 'y': 1.02066943754676}. Best is trial 680 with value: 0.0016161742879118191.\n",
      "[I 2024-03-25 20:25:05,904] Trial 713 finished with value: 2.342372544669552 and parameters: {'x': 0.9181630889314966, 'y': 0.9958526195128834}. Best is trial 680 with value: 0.0016161742879118191.\n",
      "[I 2024-03-25 20:25:05,910] Trial 714 finished with value: 15.98995785555296 and parameters: {'x': 1.129268283424373, 'y': 0.8755814012682757}. Best is trial 680 with value: 0.0016161742879118191.\n"
     ]
    },
    {
     "name": "stderr",
     "output_type": "stream",
     "text": [
      "[I 2024-03-25 20:25:05,915] Trial 715 finished with value: 17.29223148697693 and parameters: {'x': 1.2634846140923601, 'y': 1.1813896671114652}. Best is trial 680 with value: 0.0016161742879118191.\n",
      "[I 2024-03-25 20:25:05,920] Trial 716 finished with value: 0.7119781691521203 and parameters: {'x': 0.9927449963805447, 'y': 1.0699183076328826}. Best is trial 680 with value: 0.0016161742879118191.\n",
      "[I 2024-03-25 20:25:05,926] Trial 717 finished with value: 1.7922020921242228 and parameters: {'x': 0.9129328359216625, 'y': 0.9670360856023706}. Best is trial 680 with value: 0.0016161742879118191.\n",
      "[I 2024-03-25 20:25:05,931] Trial 718 finished with value: 76.07716708636464 and parameters: {'x': 0.15191571539178494, 'y': 0.8911677816646879}. Best is trial 680 with value: 0.0016161742879118191.\n",
      "[I 2024-03-25 20:25:05,936] Trial 719 finished with value: 0.37030176995437114 and parameters: {'x': 1.0311190692500058, 'y': 1.1239793392080404}. Best is trial 680 with value: 0.0016161742879118191.\n",
      "[I 2024-03-25 20:25:05,942] Trial 720 finished with value: 3.4912012438103344 and parameters: {'x': 0.9059957509999949, 'y': 1.0074392449083671}. Best is trial 680 with value: 0.0016161742879118191.\n",
      "[I 2024-03-25 20:25:05,947] Trial 721 finished with value: 0.4835469661110592 and parameters: {'x': 1.0730232063949545, 'y': 1.2205318619467225}. Best is trial 680 with value: 0.0016161742879118191.\n",
      "[I 2024-03-25 20:25:05,952] Trial 722 finished with value: 17.49388284111952 and parameters: {'x': 1.1363442035023514, 'y': 0.8732435438149713}. Best is trial 680 with value: 0.0016161742879118191.\n",
      "[I 2024-03-25 20:25:05,958] Trial 723 finished with value: 1.3005273749166038 and parameters: {'x': 0.9750596972771429, 'y': 1.064754805284108}. Best is trial 680 with value: 0.0016161742879118191.\n",
      "[I 2024-03-25 20:25:05,963] Trial 724 finished with value: 553.4066390510856 and parameters: {'x': 0.9197618499446362, 'y': -1.5064841024010045}. Best is trial 680 with value: 0.0016161742879118191.\n",
      "[I 2024-03-25 20:25:05,969] Trial 725 finished with value: 0.49784340508528735 and parameters: {'x': 1.0134800616309216, 'y': 0.9565966942417155}. Best is trial 680 with value: 0.0016161742879118191.\n",
      "[I 2024-03-25 20:25:05,974] Trial 726 finished with value: 39.09206681295472 and parameters: {'x': 1.2196481325490027, 'y': 0.8626910130109231}. Best is trial 680 with value: 0.0016161742879118191.\n",
      "[I 2024-03-25 20:25:05,979] Trial 727 finished with value: 137.82872153221717 and parameters: {'x': 0.8885093481859455, 'y': 1.963400697992689}. Best is trial 680 with value: 0.0016161742879118191.\n",
      "[I 2024-03-25 20:25:05,985] Trial 728 finished with value: 407.90358334373764 and parameters: {'x': 1.1016077199144165, 'y': -0.8060971789986209}. Best is trial 680 with value: 0.0016161742879118191.\n",
      "[I 2024-03-25 20:25:05,990] Trial 729 finished with value: 0.05645001925410655 and parameters: {'x': 0.9813500393648512, 'y': 0.9393619971561714}. Best is trial 680 with value: 0.0016161742879118191.\n",
      "[I 2024-03-25 20:25:05,996] Trial 730 finished with value: 66.3530204590704 and parameters: {'x': -0.21989060385069992, 'y': 0.8537392836578912}. Best is trial 680 with value: 0.0016161742879118191.\n",
      "[I 2024-03-25 20:25:06,001] Trial 731 finished with value: 4.985897462989724 and parameters: {'x': 0.9153912254929232, 'y': 1.0610719725119557}. Best is trial 680 with value: 0.0016161742879118191.\n",
      "[I 2024-03-25 20:25:06,007] Trial 732 finished with value: 139.2756694165561 and parameters: {'x': 1.0560698673840556, 'y': -0.06485424743777235}. Best is trial 680 with value: 0.0016161742879118191.\n",
      "[I 2024-03-25 20:25:06,012] Trial 733 finished with value: 1.1056826481894404 and parameters: {'x': 0.8560607216722885, 'y': 0.8370015707532623}. Best is trial 680 with value: 0.0016161742879118191.\n",
      "[I 2024-03-25 20:25:06,017] Trial 734 finished with value: 3.8818362099234194 and parameters: {'x': 1.1694735986219436, 'y': 1.171374969980108}. Best is trial 680 with value: 0.0016161742879118191.\n",
      "[I 2024-03-25 20:25:06,023] Trial 735 finished with value: 12.942903264309848 and parameters: {'x': 0.9750408582230958, 'y': 1.3104584841564924}. Best is trial 680 with value: 0.0016161742879118191.\n",
      "[I 2024-03-25 20:25:06,028] Trial 736 finished with value: 4.006671501054681 and parameters: {'x': 0.8901734548542097, 'y': 0.9922739750722429}. Best is trial 680 with value: 0.0016161742879118191.\n",
      "[I 2024-03-25 20:25:06,034] Trial 737 finished with value: 15.463047352244661 and parameters: {'x': 1.033610978986364, 'y': 1.4615681058719434}. Best is trial 680 with value: 0.0016161742879118191.\n",
      "[I 2024-03-25 20:25:06,039] Trial 738 finished with value: 0.3390212304494031 and parameters: {'x': 0.9320878816961871, 'y': 0.9266159416572779}. Best is trial 680 with value: 0.0016161742879118191.\n",
      "[I 2024-03-25 20:25:06,045] Trial 739 finished with value: 44.13104229198888 and parameters: {'x': 1.3289272136060875, 'y': 1.1025503711703293}. Best is trial 680 with value: 0.0016161742879118191.\n",
      "[I 2024-03-25 20:25:06,050] Trial 740 finished with value: 18.011421581761333 and parameters: {'x': 1.1158538823352366, 'y': 0.8208893952592382}. Best is trial 680 with value: 0.0016161742879118191.\n",
      "[I 2024-03-25 20:25:06,056] Trial 741 finished with value: 6.036024547905942 and parameters: {'x': 0.8644421287537071, 'y': 0.9925691544905353}. Best is trial 680 with value: 0.0016161742879118191.\n",
      "[I 2024-03-25 20:25:06,061] Trial 742 finished with value: 1.0493673953066374 and parameters: {'x': 1.0022802591803242, 'y': 0.9021273366724353}. Best is trial 680 with value: 0.0016161742879118191.\n",
      "[I 2024-03-25 20:25:06,066] Trial 743 finished with value: 1.122739445126529 and parameters: {'x': 1.0504911861733135, 'y': 1.2093707649730807}. Best is trial 680 with value: 0.0016161742879118191.\n",
      "[I 2024-03-25 20:25:06,072] Trial 744 finished with value: 36.22905571379206 and parameters: {'x': 1.1967365035816397, 'y': 0.8305940964643491}. Best is trial 680 with value: 0.0016161742879118191.\n",
      "[I 2024-03-25 20:25:06,077] Trial 745 finished with value: 1.4998573357753122 and parameters: {'x': 0.9590683490999751, 'y': 1.0422123407177386}. Best is trial 680 with value: 0.0016161742879118191.\n",
      "[I 2024-03-25 20:25:06,083] Trial 746 finished with value: 44.95398739467681 and parameters: {'x': 0.848340307114405, 'y': 0.04937547532582759}. Best is trial 680 with value: 0.0016161742879118191.\n",
      "[I 2024-03-25 20:25:06,088] Trial 747 finished with value: 572.7235402896081 and parameters: {'x': -1.8178944890872852, 'y': 0.9282239924079597}. Best is trial 680 with value: 0.0016161742879118191.\n",
      "[I 2024-03-25 20:25:06,093] Trial 748 finished with value: 4.596054054218146 and parameters: {'x': 0.9471781982255646, 'y': 1.1114655516839802}. Best is trial 680 with value: 0.0016161742879118191.\n",
      "[I 2024-03-25 20:25:06,099] Trial 749 finished with value: 15.371947681011502 and parameters: {'x': 1.1066787214602227, 'y': 0.8328121958770508}. Best is trial 680 with value: 0.0016161742879118191.\n",
      "[I 2024-03-25 20:25:06,104] Trial 750 finished with value: 8.708538495201829 and parameters: {'x': 0.8432897015076567, 'y': 1.005823461588155}. Best is trial 680 with value: 0.0016161742879118191.\n",
      "[I 2024-03-25 20:25:06,110] Trial 751 finished with value: 1.0678542398177684 and parameters: {'x': 1.0052553092879133, 'y': 0.907202540137283}. Best is trial 680 with value: 0.0016161742879118191.\n",
      "[I 2024-03-25 20:25:06,115] Trial 752 finished with value: 11.469029238184667 and parameters: {'x': 0.9029252693908092, 'y': 1.1537944363920447}. Best is trial 680 with value: 0.0016161742879118191.\n",
      "[I 2024-03-25 20:25:06,121] Trial 753 finished with value: 10.58180150386917 and parameters: {'x': 1.058786466146405, 'y': 0.7957850929427096}. Best is trial 680 with value: 0.0016161742879118191.\n",
      "[I 2024-03-25 20:25:06,126] Trial 754 finished with value: 8.813602403271426 and parameters: {'x': 0.8212184481304701, 'y': 0.9707380522935893}. Best is trial 680 with value: 0.0016161742879118191.\n",
      "[I 2024-03-25 20:25:06,132] Trial 755 finished with value: 509.8300788571267 and parameters: {'x': 1.1526928513637065, 'y': -0.9291892757607698}. Best is trial 680 with value: 0.0016161742879118191.\n",
      "[I 2024-03-25 20:25:06,137] Trial 756 finished with value: 0.18444899784039687 and parameters: {'x': 0.9601233032490164, 'y': 0.8790747594884064}. Best is trial 680 with value: 0.0016161742879118191.\n"
     ]
    },
    {
     "name": "stderr",
     "output_type": "stream",
     "text": [
      "[I 2024-03-25 20:25:06,143] Trial 757 finished with value: 299.32864150114904 and parameters: {'x': 1.235968903663305, 'y': -0.20233162043486852}. Best is trial 680 with value: 0.0016161742879118191.\n",
      "[I 2024-03-25 20:25:06,148] Trial 758 finished with value: 21.346664757222907 and parameters: {'x': 0.8802712437721602, 'y': 1.2367468140759417}. Best is trial 680 with value: 0.0016161742879118191.\n",
      "[I 2024-03-25 20:25:06,154] Trial 759 finished with value: 0.048488350799960854 and parameters: {'x': 1.0185230158552767, 'y': 1.0593311594133654}. Best is trial 680 with value: 0.0016161742879118191.\n",
      "[I 2024-03-25 20:25:06,159] Trial 760 finished with value: 1000.8305668835231 and parameters: {'x': 1.626003683835949, 'y': -0.5190832281640143}. Best is trial 680 with value: 0.0016161742879118191.\n",
      "[I 2024-03-25 20:25:06,165] Trial 761 finished with value: 0.210041576390412 and parameters: {'x': 0.921654940856864, 'y': 0.8042921406524479}. Best is trial 680 with value: 0.0016161742879118191.\n",
      "[I 2024-03-25 20:25:06,170] Trial 762 finished with value: 5.0019029018844225 and parameters: {'x': 1.08491372100827, 'y': 0.9535496937170187}. Best is trial 680 with value: 0.0016161742879118191.\n",
      "[I 2024-03-25 20:25:06,176] Trial 763 finished with value: 10.64345236151666 and parameters: {'x': 0.846165001768672, 'y': 1.0418753592735592}. Best is trial 680 with value: 0.0016161742879118191.\n",
      "[I 2024-03-25 20:25:06,181] Trial 764 finished with value: 1.5284760558474453 and parameters: {'x': 0.999946549323889, 'y': 0.8762615499901629}. Best is trial 680 with value: 0.0016161742879118191.\n",
      "[I 2024-03-25 20:25:06,187] Trial 765 finished with value: 7.429940414180062 and parameters: {'x': 0.941121643975498, 'y': 1.158225521770521}. Best is trial 680 with value: 0.0016161742879118191.\n",
      "[I 2024-03-25 20:25:06,192] Trial 766 finished with value: 148.98631775746904 and parameters: {'x': 1.4076975336271638, 'y': 0.7616939043219249}. Best is trial 680 with value: 0.0016161742879118191.\n",
      "[I 2024-03-25 20:25:06,198] Trial 767 finished with value: 51.65257956675043 and parameters: {'x': 0.7878280963369073, 'y': 1.3390571476891442}. Best is trial 680 with value: 0.0016161742879118191.\n",
      "[I 2024-03-25 20:25:06,203] Trial 768 finished with value: 11.273684250595505 and parameters: {'x': 1.0733486420459808, 'y': 0.8163943583466222}. Best is trial 680 with value: 0.0016161742879118191.\n",
      "[I 2024-03-25 20:25:06,209] Trial 769 finished with value: 11.583039877693093 and parameters: {'x': 1.1448824773483308, 'y': 0.9707257567235525}. Best is trial 680 with value: 0.0016161742879118191.\n",
      "[I 2024-03-25 20:25:06,214] Trial 770 finished with value: 10.491575458692193 and parameters: {'x': -0.9139379617636278, 'y': 1.096594995997835}. Best is trial 680 with value: 0.0016161742879118191.\n",
      "[I 2024-03-25 20:25:06,220] Trial 771 finished with value: 95.9256071567944 and parameters: {'x': 0.8930690740294227, 'y': 1.7769301857514321}. Best is trial 680 with value: 0.0016161742879118191.\n",
      "[I 2024-03-25 20:25:06,226] Trial 772 finished with value: 77.66431583342823 and parameters: {'x': -1.3226875850762885, 'y': 0.8993881129601374}. Best is trial 680 with value: 0.0016161742879118191.\n",
      "[I 2024-03-25 20:25:06,231] Trial 773 finished with value: 0.21919012084927328 and parameters: {'x': 0.98684362831969, 'y': 1.0206596021694911}. Best is trial 680 with value: 0.0016161742879118191.\n",
      "[I 2024-03-25 20:25:06,237] Trial 774 finished with value: 1.7285102480549959 and parameters: {'x': 0.8280771303206573, 'y': 0.8160556164296017}. Best is trial 680 with value: 0.0016161742879118191.\n",
      "[I 2024-03-25 20:25:06,242] Trial 775 finished with value: 11.006485309705504 and parameters: {'x': 1.0396588875601325, 'y': 0.7491540732559927}. Best is trial 680 with value: 0.0016161742879118191.\n",
      "[I 2024-03-25 20:25:06,248] Trial 776 finished with value: 0.457720627985375 and parameters: {'x': 0.9262584966591451, 'y': 0.925206777970078}. Best is trial 680 with value: 0.0016161742879118191.\n",
      "[I 2024-03-25 20:25:06,253] Trial 777 finished with value: 3.4455785803965204 and parameters: {'x': 1.203290612821882, 'y': 1.2634021606026278}. Best is trial 680 with value: 0.0016161742879118191.\n",
      "[I 2024-03-25 20:25:06,259] Trial 778 finished with value: 25.84385999326312 and parameters: {'x': 0.7829494232975743, 'y': 1.1209148007997016}. Best is trial 680 with value: 0.0016161742879118191.\n",
      "[I 2024-03-25 20:25:06,265] Trial 779 finished with value: 0.4746591441368362 and parameters: {'x': 0.9761940205084758, 'y': 0.88410039620896}. Best is trial 680 with value: 0.0016161742879118191.\n",
      "[I 2024-03-25 20:25:06,270] Trial 780 finished with value: 155.54394956421797 and parameters: {'x': 1.5045349757333992, 'y': 1.0174738410275666}. Best is trial 680 with value: 0.0016161742879118191.\n",
      "[I 2024-03-25 20:25:06,276] Trial 781 finished with value: 87.59437185994945 and parameters: {'x': 1.2871067033252825, 'y': 0.7211654906875689}. Best is trial 680 with value: 0.0016161742879118191.\n",
      "[I 2024-03-25 20:25:06,281] Trial 782 finished with value: 586.966557353293 and parameters: {'x': 1.1322913910910142, 'y': -1.1406193578057717}. Best is trial 680 with value: 0.0016161742879118191.\n",
      "[I 2024-03-25 20:25:06,287] Trial 783 finished with value: 0.4609818306822251 and parameters: {'x': 0.8649916993254154, 'y': 0.8147504467419251}. Best is trial 680 with value: 0.0016161742879118191.\n",
      "[I 2024-03-25 20:25:06,292] Trial 784 finished with value: 1.9607595025955198 and parameters: {'x': 1.0523949694205699, 'y': 0.9676061085699206}. Best is trial 680 with value: 0.0016161742879118191.\n",
      "[I 2024-03-25 20:25:06,298] Trial 785 finished with value: 11.00111923734222 and parameters: {'x': 0.9242349666201335, 'y': 1.185803079492616}. Best is trial 680 with value: 0.0016161742879118191.\n",
      "[I 2024-03-25 20:25:06,304] Trial 786 finished with value: 4.459528257723457 and parameters: {'x': 0.8033336029791539, 'y': 0.8556030662438644}. Best is trial 680 with value: 0.0016161742879118191.\n",
      "[I 2024-03-25 20:25:06,309] Trial 787 finished with value: 0.0012027194599135117 and parameters: {'x': 1.026920768262138, 'y': 1.0523799621678753}. Best is trial 787 with value: 0.0012027194599135117.\n",
      "[I 2024-03-25 20:25:06,315] Trial 788 finished with value: 2.4924579755268406 and parameters: {'x': 1.113483420000704, 'y': 1.0823785209426402}. Best is trial 787 with value: 0.0012027194599135117.\n",
      "[I 2024-03-25 20:25:06,320] Trial 789 finished with value: 2.2002962582821923 and parameters: {'x': 1.1513102725915525, 'y': 1.1779551370898866}. Best is trial 787 with value: 0.0012027194599135117.\n",
      "[I 2024-03-25 20:25:06,326] Trial 790 finished with value: 0.6058192366576337 and parameters: {'x': 1.0537335615891092, 'y': 1.0327057265561934}. Best is trial 787 with value: 0.0012027194599135117.\n",
      "[I 2024-03-25 20:25:06,332] Trial 791 finished with value: 2.5739075262059927 and parameters: {'x': 0.9881886460305798, 'y': 1.1369464737743915}. Best is trial 787 with value: 0.0012027194599135117.\n",
      "[I 2024-03-25 20:25:06,337] Trial 792 finished with value: 0.042331231082805544 and parameters: {'x': 1.1965434045632706, 'y': 1.4378004605503933}. Best is trial 787 with value: 0.0012027194599135117.\n",
      "[I 2024-03-25 20:25:06,343] Trial 793 finished with value: 4.242470033415923 and parameters: {'x': 1.0273851624436696, 'y': 1.26147463798143}. Best is trial 787 with value: 0.0012027194599135117.\n",
      "[I 2024-03-25 20:25:06,348] Trial 794 finished with value: 2.3652332684385717 and parameters: {'x': 1.1046436375916557, 'y': 1.0668008371718247}. Best is trial 787 with value: 0.0012027194599135117.\n",
      "[I 2024-03-25 20:25:06,354] Trial 795 finished with value: 0.003000819057537821 and parameters: {'x': 0.9874376815638863, 'y': 0.9697011892136104}. Best is trial 787 with value: 0.0012027194599135117.\n",
      "[I 2024-03-25 20:25:06,360] Trial 796 finished with value: 47.38276694386245 and parameters: {'x': 1.2921493464147094, 'y': 0.9819187671892816}. Best is trial 787 with value: 0.0012027194599135117.\n",
      "[I 2024-03-25 20:25:06,366] Trial 797 finished with value: 0.9651107063372288 and parameters: {'x': 1.0864512812047047, 'y': 1.0825174633678192}. Best is trial 787 with value: 0.0012027194599135117.\n",
      "[I 2024-03-25 20:25:06,371] Trial 798 finished with value: 0.6626634227166192 and parameters: {'x': 1.0202076293695872, 'y': 0.959444551092311}. Best is trial 787 with value: 0.0012027194599135117.\n"
     ]
    },
    {
     "name": "stderr",
     "output_type": "stream",
     "text": [
      "[I 2024-03-25 20:25:06,377] Trial 799 finished with value: 20.152499273282782 and parameters: {'x': 1.217228159658395, 'y': 1.0332549280262593}. Best is trial 787 with value: 0.0012027194599135117.\n",
      "[I 2024-03-25 20:25:06,383] Trial 800 finished with value: 10.48824778938496 and parameters: {'x': 1.1221366713448295, 'y': 0.9355654564091231}. Best is trial 787 with value: 0.0012027194599135117.\n",
      "[I 2024-03-25 20:25:06,388] Trial 801 finished with value: 0.03533116168520786 and parameters: {'x': 0.9869954442054792, 'y': 0.9929115516757463}. Best is trial 787 with value: 0.0012027194599135117.\n",
      "[I 2024-03-25 20:25:06,394] Trial 802 finished with value: 0.08089080554777939 and parameters: {'x': 1.0644455291855177, 'y': 1.1607458331727067}. Best is trial 787 with value: 0.0012027194599135117.\n",
      "[I 2024-03-25 20:25:06,399] Trial 803 finished with value: 48.19740132449185 and parameters: {'x': 0.9518876864168216, 'y': 1.6003169786862954}. Best is trial 787 with value: 0.0012027194599135117.\n",
      "[I 2024-03-25 20:25:06,405] Trial 804 finished with value: 1.0098906669937784 and parameters: {'x': 0.99734706900936, 'y': 1.0951941424299063}. Best is trial 787 with value: 0.0012027194599135117.\n",
      "[I 2024-03-25 20:25:06,411] Trial 805 finished with value: 16.50292392978937 and parameters: {'x': 1.1593087926304526, 'y': 0.9380714569392635}. Best is trial 787 with value: 0.0012027194599135117.\n",
      "[I 2024-03-25 20:25:06,416] Trial 806 finished with value: 2.8101725080261257 and parameters: {'x': 0.9243396931901147, 'y': 1.0218687311690942}. Best is trial 787 with value: 0.0012027194599135117.\n",
      "[I 2024-03-25 20:25:06,422] Trial 807 finished with value: 5.158872851430797 and parameters: {'x': 1.058942494827305, 'y': 0.8943041780358394}. Best is trial 787 with value: 0.0012027194599135117.\n",
      "[I 2024-03-25 20:25:06,428] Trial 808 finished with value: 8.125839106549058 and parameters: {'x': 0.9440625803555487, 'y': 1.1762578417727314}. Best is trial 787 with value: 0.0012027194599135117.\n",
      "[I 2024-03-25 20:25:06,433] Trial 809 finished with value: 1.7849154856939558 and parameters: {'x': 1.1013740750032681, 'y': 1.0798092840813545}. Best is trial 787 with value: 0.0012027194599135117.\n",
      "[I 2024-03-25 20:25:06,439] Trial 810 finished with value: 4.306013649524917 and parameters: {'x': 1.2261462547641053, 'y': 1.2971612388907352}. Best is trial 787 with value: 0.0012027194599135117.\n",
      "[I 2024-03-25 20:25:06,445] Trial 811 finished with value: 1.4244190844408684 and parameters: {'x': 1.0154836447438444, 'y': 0.9118680474446326}. Best is trial 787 with value: 0.0012027194599135117.\n",
      "[I 2024-03-25 20:25:06,450] Trial 812 finished with value: 19.141586133969692 and parameters: {'x': -1.1805668562155596, 'y': 1.0144398773805494}. Best is trial 787 with value: 0.0012027194599135117.\n",
      "[I 2024-03-25 20:25:06,456] Trial 813 finished with value: 0.8318257312162285 and parameters: {'x': 0.8875294090687162, 'y': 0.8782167994990834}. Best is trial 787 with value: 0.0012027194599135117.\n",
      "[I 2024-03-25 20:25:06,462] Trial 814 finished with value: 7.552805440647686 and parameters: {'x': 0.9666389050901504, 'y': 1.2091942021791915}. Best is trial 787 with value: 0.0012027194599135117.\n",
      "[I 2024-03-25 20:25:06,467] Trial 815 finished with value: 432.9220253016354 and parameters: {'x': 1.746012414536311, 'y': 0.9692193343560616}. Best is trial 787 with value: 0.0012027194599135117.\n",
      "[I 2024-03-25 20:25:06,473] Trial 816 finished with value: 3.473445624179874 and parameters: {'x': 1.1450096394914748, 'y': 1.125240243958732}. Best is trial 787 with value: 0.0012027194599135117.\n",
      "[I 2024-03-25 20:25:06,479] Trial 817 finished with value: 5.423701099615274 and parameters: {'x': 0.8974338350678904, 'y': 1.0380499322520473}. Best is trial 787 with value: 0.0012027194599135117.\n",
      "[I 2024-03-25 20:25:06,485] Trial 818 finished with value: 5.646526539143916 and parameters: {'x': 1.0417492739550933, 'y': 0.8476540177631716}. Best is trial 787 with value: 0.0012027194599135117.\n",
      "[I 2024-03-25 20:25:06,490] Trial 819 finished with value: 0.11839165966897451 and parameters: {'x': 0.9870739134870976, 'y': 0.9399311098560472}. Best is trial 787 with value: 0.0012027194599135117.\n",
      "[I 2024-03-25 20:25:06,496] Trial 820 finished with value: 36.59761893892832 and parameters: {'x': 0.878881718035275, 'y': 1.37727147668774}. Best is trial 787 with value: 0.0012027194599135117.\n",
      "[I 2024-03-25 20:25:06,502] Trial 821 finished with value: 7.612536481900791 and parameters: {'x': 1.0746997465499628, 'y': 0.879172430936062}. Best is trial 787 with value: 0.0012027194599135117.\n",
      "[I 2024-03-25 20:25:06,507] Trial 822 finished with value: 2.2163994241630025 and parameters: {'x': 0.9576081583127566, 'y': 1.0658287858148123}. Best is trial 787 with value: 0.0012027194599135117.\n",
      "[I 2024-03-25 20:25:06,513] Trial 823 finished with value: 9.940546331683755 and parameters: {'x': 1.1410328305154125, 'y': 0.9869851903659669}. Best is trial 787 with value: 0.0012027194599135117.\n",
      "[I 2024-03-25 20:25:06,519] Trial 824 finished with value: 0.5916056096050951 and parameters: {'x': 0.8588969152775461, 'y': 0.8133144612026744}. Best is trial 787 with value: 0.0012027194599135117.\n",
      "[I 2024-03-25 20:25:06,524] Trial 825 finished with value: 2.874882304259019 and parameters: {'x': 1.020060285034828, 'y': 1.2100658967596805}. Best is trial 787 with value: 0.0012027194599135117.\n",
      "[I 2024-03-25 20:25:06,530] Trial 826 finished with value: 4.818926713089761 and parameters: {'x': 0.9548827398780656, 'y': 1.1312752172863323}. Best is trial 787 with value: 0.0012027194599135117.\n",
      "[I 2024-03-25 20:25:06,536] Trial 827 finished with value: 42.599301526676065 and parameters: {'x': 1.2595110463373242, 'y': 0.9342027935475729}. Best is trial 787 with value: 0.0012027194599135117.\n",
      "[I 2024-03-25 20:25:06,542] Trial 828 finished with value: 58.20371384601383 and parameters: {'x': 0.29313295512419035, 'y': 0.8455587666989617}. Best is trial 787 with value: 0.0012027194599135117.\n",
      "[I 2024-03-25 20:25:06,547] Trial 829 finished with value: 2.5901816370647825 and parameters: {'x': 1.0772437635094627, 'y': 0.9996991871203608}. Best is trial 787 with value: 0.0012027194599135117.\n",
      "[I 2024-03-25 20:25:06,553] Trial 830 finished with value: 8.939340827659734 and parameters: {'x': 0.9003660517334797, 'y': 1.109480276425702}. Best is trial 787 with value: 0.0012027194599135117.\n",
      "[I 2024-03-25 20:25:06,559] Trial 831 finished with value: 1.7073574660296638 and parameters: {'x': 1.0175031330061404, 'y': 0.9046584597902401}. Best is trial 787 with value: 0.0012027194599135117.\n",
      "[I 2024-03-25 20:25:06,565] Trial 832 finished with value: 34.95417692945909 and parameters: {'x': 1.1881516697237666, 'y': 0.8207832798081253}. Best is trial 787 with value: 0.0012027194599135117.\n",
      "[I 2024-03-25 20:25:06,570] Trial 833 finished with value: 24.928755545050812 and parameters: {'x': 0.8887287486038975, 'y': 1.289001830633055}. Best is trial 787 with value: 0.0012027194599135117.\n",
      "[I 2024-03-25 20:25:06,576] Trial 834 finished with value: 1.6060529852125052 and parameters: {'x': 0.9620259768631536, 'y': 1.0521672195899114}. Best is trial 787 with value: 0.0012027194599135117.\n",
      "[I 2024-03-25 20:25:06,582] Trial 835 finished with value: 3.2136855295949514 and parameters: {'x': 1.0766748672859232, 'y': 0.9801252664086939}. Best is trial 787 with value: 0.0012027194599135117.\n",
      "[I 2024-03-25 20:25:06,588] Trial 836 finished with value: 0.32949284937528456 and parameters: {'x': 0.8434674479019567, 'y': 0.7666632724670892}. Best is trial 787 with value: 0.0012027194599135117.\n",
      "[I 2024-03-25 20:25:06,593] Trial 837 finished with value: 13.179134424108987 and parameters: {'x': 1.129644556147042, 'y': 0.9132976127432859}. Best is trial 787 with value: 0.0012027194599135117.\n",
      "[I 2024-03-25 20:25:06,599] Trial 838 finished with value: 4.353293668695043 and parameters: {'x': 1.005077439424247, 'y': 1.2188255223037063}. Best is trial 787 with value: 0.0012027194599135117.\n",
      "[I 2024-03-25 20:25:06,605] Trial 839 finished with value: 5.042715751548692 and parameters: {'x': 0.9288066444834464, 'y': 1.087128820190158}. Best is trial 787 with value: 0.0012027194599135117.\n",
      "[I 2024-03-25 20:25:06,611] Trial 840 finished with value: 117.70790697537205 and parameters: {'x': 1.3729030991098419, 'y': 0.800571214080286}. Best is trial 787 with value: 0.0012027194599135117.\n"
     ]
    },
    {
     "name": "stderr",
     "output_type": "stream",
     "text": [
      "[I 2024-03-25 20:25:06,617] Trial 841 finished with value: 4.777241033214384 and parameters: {'x': 0.8091733271129823, 'y': 0.87249585769099}. Best is trial 787 with value: 0.0012027194599135117.\n",
      "[I 2024-03-25 20:25:06,622] Trial 842 finished with value: 200.83233487067002 and parameters: {'x': 1.0323634501890293, 'y': -0.3513752664913238}. Best is trial 787 with value: 0.0012027194599135117.\n",
      "[I 2024-03-25 20:25:06,628] Trial 843 finished with value: 2.721521376515236 and parameters: {'x': 0.9050460913097661, 'y': 0.9838052741086666}. Best is trial 787 with value: 0.0012027194599135117.\n",
      "[I 2024-03-25 20:25:06,634] Trial 844 finished with value: 49.35103685252358 and parameters: {'x': -0.6710519426457947, 'y': 1.1326494984363522}. Best is trial 787 with value: 0.0012027194599135117.\n",
      "[I 2024-03-25 20:25:06,640] Trial 845 finished with value: 33.904684519278426 and parameters: {'x': 1.1533078027391057, 'y': 0.7480434525681015}. Best is trial 787 with value: 0.0012027194599135117.\n",
      "[I 2024-03-25 20:25:06,646] Trial 846 finished with value: 65.9198972375691 and parameters: {'x': 0.848675296005346, 'y': 1.5320194179381441}. Best is trial 787 with value: 0.0012027194599135117.\n",
      "[I 2024-03-25 20:25:06,651] Trial 847 finished with value: 0.0017805065429574605 and parameters: {'x': 0.9578075385536099, 'y': 0.9174503027287376}. Best is trial 787 with value: 0.0012027194599135117.\n",
      "[I 2024-03-25 20:25:06,657] Trial 848 finished with value: 1.0949202073686852 and parameters: {'x': 1.0665931136904327, 'y': 1.033194553346174}. Best is trial 787 with value: 0.0012027194599135117.\n",
      "[I 2024-03-25 20:25:06,663] Trial 849 finished with value: 25.473560663525173 and parameters: {'x': 1.2018869684933036, 'y': 0.9402228332538909}. Best is trial 787 with value: 0.0012027194599135117.\n",
      "[I 2024-03-25 20:25:06,669] Trial 850 finished with value: 0.5787304358298199 and parameters: {'x': 0.982092420283069, 'y': 1.0405587766361821}. Best is trial 787 with value: 0.0012027194599135117.\n",
      "[I 2024-03-25 20:25:06,675] Trial 851 finished with value: 0.12200402709435938 and parameters: {'x': 1.0834530250210919, 'y': 1.139952966407353}. Best is trial 787 with value: 0.0012027194599135117.\n",
      "[I 2024-03-25 20:25:06,681] Trial 852 finished with value: 10.921612597934244 and parameters: {'x': 0.7837581724744982, 'y': 0.944047278960323}. Best is trial 787 with value: 0.0012027194599135117.\n",
      "[I 2024-03-25 20:25:06,686] Trial 853 finished with value: 9.045412023416468 and parameters: {'x': 0.9684548876424521, 'y': 1.2386442404377123}. Best is trial 787 with value: 0.0012027194599135117.\n",
      "[I 2024-03-25 20:25:06,692] Trial 854 finished with value: 0.7732255041384819 and parameters: {'x': 0.8871214562074267, 'y': 0.8741902082932983}. Best is trial 787 with value: 0.0012027194599135117.\n",
      "[I 2024-03-25 20:25:06,698] Trial 855 finished with value: 0.08649849596815533 and parameters: {'x': 1.0274272519132872, 'y': 1.0263242987500691}. Best is trial 787 with value: 0.0012027194599135117.\n",
      "[I 2024-03-25 20:25:06,704] Trial 856 finished with value: 2.020380009887332 and parameters: {'x': 0.817243150393616, 'y': 0.8088466429649439}. Best is trial 787 with value: 0.0012027194599135117.\n",
      "[I 2024-03-25 20:25:06,710] Trial 857 finished with value: 52.33951814752069 and parameters: {'x': 1.2936569615478337, 'y': 0.9506840056979743}. Best is trial 787 with value: 0.0012027194599135117.\n",
      "[I 2024-03-25 20:25:06,716] Trial 858 finished with value: 3.654873735678338 and parameters: {'x': 0.9507304873831194, 'y': 1.0950022019714984}. Best is trial 787 with value: 0.0012027194599135117.\n",
      "[I 2024-03-25 20:25:06,722] Trial 859 finished with value: 11.105568378507407 and parameters: {'x': 1.1014052807269434, 'y': 0.8799977301220528}. Best is trial 787 with value: 0.0012027194599135117.\n",
      "[I 2024-03-25 20:25:06,727] Trial 860 finished with value: 33.46254713725127 and parameters: {'x': 0.8754424085579882, 'y': 1.344733505699378}. Best is trial 787 with value: 0.0012027194599135117.\n",
      "[I 2024-03-25 20:25:06,733] Trial 861 finished with value: 7.935483638358243 and parameters: {'x': 1.0217105488031812, 'y': 0.7622009069615171}. Best is trial 787 with value: 0.0012027194599135117.\n",
      "[I 2024-03-25 20:25:06,739] Trial 862 finished with value: 3.62714448444322 and parameters: {'x': 1.1694983534619827, 'y': 1.1780315176222809}. Best is trial 787 with value: 0.0012027194599135117.\n",
      "[I 2024-03-25 20:25:06,745] Trial 863 finished with value: 14.596900111083437 and parameters: {'x': 0.780456069131667, 'y': 0.9905392649554446}. Best is trial 787 with value: 0.0012027194599135117.\n",
      "[I 2024-03-25 20:25:06,751] Trial 864 finished with value: 3.531105224250191 and parameters: {'x': 0.9420529611607572, 'y': 1.0752867665121952}. Best is trial 787 with value: 0.0012027194599135117.\n",
      "[I 2024-03-25 20:25:06,757] Trial 865 finished with value: 14.260512762729276 and parameters: {'x': 1.0930343546581902, 'y': 0.8172077780135051}. Best is trial 787 with value: 0.0012027194599135117.\n",
      "[I 2024-03-25 20:25:06,762] Trial 866 finished with value: 0.29665751258147827 and parameters: {'x': 1.0174089787894964, 'y': 0.9806825841444942}. Best is trial 787 with value: 0.0012027194599135117.\n",
      "[I 2024-03-25 20:25:06,768] Trial 867 finished with value: 3.447455658727538 and parameters: {'x': 0.8492502516588221, 'y': 0.9062862550483648}. Best is trial 787 with value: 0.0012027194599135117.\n",
      "[I 2024-03-25 20:25:06,774] Trial 868 finished with value: 51.94054268737466 and parameters: {'x': 1.2152656854970618, 'y': 0.7564943723827395}. Best is trial 787 with value: 0.0012027194599135117.\n",
      "[I 2024-03-25 20:25:06,780] Trial 869 finished with value: 2.024196734125997 and parameters: {'x': 0.9491784779786283, 'y': 1.043123252808195}. Best is trial 787 with value: 0.0012027194599135117.\n",
      "[I 2024-03-25 20:25:06,786] Trial 870 finished with value: 10.555197047962848 and parameters: {'x': 0.9101532729473574, 'y': 1.1531423497060025}. Best is trial 787 with value: 0.0012027194599135117.\n",
      "[I 2024-03-25 20:25:06,792] Trial 871 finished with value: 11.571361475961835 and parameters: {'x': 1.092362361608038, 'y': 0.8532139041041201}. Best is trial 787 with value: 0.0012027194599135117.\n",
      "[I 2024-03-25 20:25:06,798] Trial 872 finished with value: 2.36546376807556 and parameters: {'x': 0.7562152946758832, 'y': 0.7237178455793651}. Best is trial 787 with value: 0.0012027194599135117.\n",
      "[I 2024-03-25 20:25:06,804] Trial 873 finished with value: 6.293552960150078 and parameters: {'x': 1.0030488031782223, 'y': 1.256976263276651}. Best is trial 787 with value: 0.0012027194599135117.\n",
      "[I 2024-03-25 20:25:06,810] Trial 874 finished with value: 3.337283653836449 and parameters: {'x': 0.8641008201593127, 'y': 0.9288463802508866}. Best is trial 787 with value: 0.0012027194599135117.\n",
      "[I 2024-03-25 20:25:06,816] Trial 875 finished with value: 0.10808428679505383 and parameters: {'x': 1.0174212540383405, 'y': 1.0023160239010906}. Best is trial 787 with value: 0.0012027194599135117.\n",
      "[I 2024-03-25 20:25:06,822] Trial 876 finished with value: 0.015641780383093266 and parameters: {'x': 0.9148974253072865, 'y': 0.8462020858820357}. Best is trial 787 with value: 0.0012027194599135117.\n",
      "[I 2024-03-25 20:25:06,828] Trial 877 finished with value: 2.160268555643755 and parameters: {'x': 0.7552654467014474, 'y': 0.7153525507096643}. Best is trial 787 with value: 0.0012027194599135117.\n",
      "[I 2024-03-25 20:25:06,833] Trial 878 finished with value: 1.1979710065608555 and parameters: {'x': 0.8260841024707298, 'y': 0.7904762356273451}. Best is trial 787 with value: 0.0012027194599135117.\n",
      "[I 2024-03-25 20:25:06,839] Trial 879 finished with value: 0.38976035344331095 and parameters: {'x': 0.8764993485133884, 'y': 0.829448162001407}. Best is trial 787 with value: 0.0012027194599135117.\n",
      "[I 2024-03-25 20:25:06,845] Trial 880 finished with value: 0.9990221424628691 and parameters: {'x': 0.9071609113440362, 'y': 0.7234219235932768}. Best is trial 787 with value: 0.0012027194599135117.\n",
      "[I 2024-03-25 20:25:06,851] Trial 881 finished with value: 6.1780581948798625 and parameters: {'x': 0.7615634429502327, 'y': 0.8273895929102497}. Best is trial 787 with value: 0.0012027194599135117.\n",
      "[I 2024-03-25 20:25:06,857] Trial 882 finished with value: 16.242037131882658 and parameters: {'x': 1.138148915905485, 'y': 0.8926056961224127}. Best is trial 787 with value: 0.0012027194599135117.\n"
     ]
    },
    {
     "name": "stderr",
     "output_type": "stream",
     "text": [
      "[I 2024-03-25 20:25:06,863] Trial 883 finished with value: 1.0772368122109437 and parameters: {'x': 0.9416162343878076, 'y': 0.7830154532208077}. Best is trial 787 with value: 0.0012027194599135117.\n",
      "[I 2024-03-25 20:25:06,869] Trial 884 finished with value: 4.6207671961189 and parameters: {'x': 0.824261498497159, 'y': 0.8936471442865698}. Best is trial 787 with value: 0.0012027194599135117.\n",
      "[I 2024-03-25 20:25:06,875] Trial 885 finished with value: 16.342428492906464 and parameters: {'x': 1.0558287768261039, 'y': 0.7105552619373038}. Best is trial 787 with value: 0.0012027194599135117.\n",
      "[I 2024-03-25 20:25:06,881] Trial 886 finished with value: 2.7991260930144906 and parameters: {'x': 0.9676266463225756, 'y': 1.1035758931498572}. Best is trial 787 with value: 0.0012027194599135117.\n",
      "[I 2024-03-25 20:25:06,887] Trial 887 finished with value: 0.4232673157400235 and parameters: {'x': 0.8841168422903632, 'y': 0.8456812138541028}. Best is trial 787 with value: 0.0012027194599135117.\n",
      "[I 2024-03-25 20:25:06,893] Trial 888 finished with value: 17.54712076663779 and parameters: {'x': 0.7256225201894749, 'y': 0.944521316455498}. Best is trial 787 with value: 0.0012027194599135117.\n",
      "[I 2024-03-25 20:25:06,899] Trial 889 finished with value: 12.40532950087737 and parameters: {'x': 1.0511031004817044, 'y': 0.7526428000861931}. Best is trial 787 with value: 0.0012027194599135117.\n",
      "[I 2024-03-25 20:25:06,905] Trial 890 finished with value: 25.838694881503347 and parameters: {'x': 1.2423631126169397, 'y': 1.0357264557091301}. Best is trial 787 with value: 0.0012027194599135117.\n",
      "[I 2024-03-25 20:25:06,911] Trial 891 finished with value: 0.3724984081387879 and parameters: {'x': 1.1241509132681085, 'y': 1.2039586896479038}. Best is trial 787 with value: 0.0012027194599135117.\n",
      "[I 2024-03-25 20:25:06,917] Trial 892 finished with value: 0.08306603839575763 and parameters: {'x': 0.95529062716733, 'y': 0.8841078957619319}. Best is trial 787 with value: 0.0012027194599135117.\n",
      "[I 2024-03-25 20:25:06,923] Trial 893 finished with value: 46.719486714936984 and parameters: {'x': 0.38474948642944257, 'y': 0.828774067887434}. Best is trial 787 with value: 0.0012027194599135117.\n",
      "[I 2024-03-25 20:25:06,929] Trial 894 finished with value: 7.7860711288693745 and parameters: {'x': 0.8210220095043018, 'y': 0.9525378735483161}. Best is trial 787 with value: 0.0012027194599135117.\n",
      "[I 2024-03-25 20:25:06,935] Trial 895 finished with value: 0.7927193826184423 and parameters: {'x': 1.0158382523984506, 'y': 1.120948056694564}. Best is trial 787 with value: 0.0012027194599135117.\n",
      "[I 2024-03-25 20:25:06,941] Trial 896 finished with value: 1.1298092385179048 and parameters: {'x': 0.9053369061564304, 'y': 0.7137647980741105}. Best is trial 787 with value: 0.0012027194599135117.\n",
      "[I 2024-03-25 20:25:06,946] Trial 897 finished with value: 12.393229834712823 and parameters: {'x': 1.1692711219629004, 'y': 1.0155619502138356}. Best is trial 787 with value: 0.0012027194599135117.\n",
      "[I 2024-03-25 20:25:06,953] Trial 898 finished with value: 2.8017974590097974 and parameters: {'x': 0.8074355100580342, 'y': 0.8182264658160021}. Best is trial 787 with value: 0.0012027194599135117.\n",
      "[I 2024-03-25 20:25:06,958] Trial 899 finished with value: 0.3098727958150137 and parameters: {'x': 0.9870812682613688, 'y': 0.9186782035545545}. Best is trial 787 with value: 0.0012027194599135117.\n",
      "[I 2024-03-25 20:25:06,965] Trial 900 finished with value: 1.1105136301269667 and parameters: {'x': 1.0811042947587632, 'y': 1.0637181506035887}. Best is trial 787 with value: 0.0012027194599135117.\n",
      "[I 2024-03-25 20:25:06,971] Trial 901 finished with value: 24.382768172862196 and parameters: {'x': 0.8913799075895882, 'y': 1.2882277644885516}. Best is trial 787 with value: 0.0012027194599135117.\n",
      "[I 2024-03-25 20:25:06,977] Trial 902 finished with value: 1.0654068516477495 and parameters: {'x': 0.9349688550574293, 'y': 0.7711532752841165}. Best is trial 787 with value: 0.0012027194599135117.\n",
      "[I 2024-03-25 20:25:06,983] Trial 903 finished with value: 44.22000678415818 and parameters: {'x': 0.7117434597842942, 'y': 1.1709349442921406}. Best is trial 787 with value: 0.0012027194599135117.\n",
      "[I 2024-03-25 20:25:06,989] Trial 904 finished with value: 1.5341243608472563 and parameters: {'x': 1.0355555576087971, 'y': 0.9485665828642148}. Best is trial 787 with value: 0.0012027194599135117.\n",
      "[I 2024-03-25 20:25:06,995] Trial 905 finished with value: 3.50046297469423 and parameters: {'x': 0.8347080173023884, 'y': 0.8831011383957037}. Best is trial 787 with value: 0.0012027194599135117.\n",
      "[I 2024-03-25 20:25:07,001] Trial 906 finished with value: 5.073487311507855 and parameters: {'x': 1.1156070135384715, 'y': 1.019631851974295}. Best is trial 787 with value: 0.0012027194599135117.\n",
      "[I 2024-03-25 20:25:07,007] Trial 907 finished with value: 5.888776305350819 and parameters: {'x': 0.9771704327105594, 'y': 0.7122047835783416}. Best is trial 787 with value: 0.0012027194599135117.\n",
      "[I 2024-03-25 20:25:07,013] Trial 908 finished with value: 5.59355737962226 and parameters: {'x': 0.7607669211249223, 'y': 0.8140602715152495}. Best is trial 787 with value: 0.0012027194599135117.\n",
      "[I 2024-03-25 20:25:07,019] Trial 909 finished with value: 13.615578412700952 and parameters: {'x': 1.2089010360248829, 'y': 1.093040591534466}. Best is trial 787 with value: 0.0012027194599135117.\n",
      "[I 2024-03-25 20:25:07,025] Trial 910 finished with value: 2.3026566887915854 and parameters: {'x': 0.8946178227484816, 'y': 0.9517197555219362}. Best is trial 787 with value: 0.0012027194599135117.\n",
      "[I 2024-03-25 20:25:07,031] Trial 911 finished with value: 197.81493882861423 and parameters: {'x': 0.04981247667367361, 'y': 1.4057349395143253}. Best is trial 787 with value: 0.0012027194599135117.\n",
      "[I 2024-03-25 20:25:07,037] Trial 912 finished with value: 7.534736813277227 and parameters: {'x': 1.0631142024313114, 'y': 0.8557896251676594}. Best is trial 787 with value: 0.0012027194599135117.\n",
      "[I 2024-03-25 20:25:07,043] Trial 913 finished with value: 106.6627813127679 and parameters: {'x': 1.3146695905184451, 'y': 0.6960588670938467}. Best is trial 787 with value: 0.0012027194599135117.\n",
      "[I 2024-03-25 20:25:07,049] Trial 914 finished with value: 8.605570724454292 and parameters: {'x': 0.9668121336992347, 'y': 1.2280594587046214}. Best is trial 787 with value: 0.0012027194599135117.\n",
      "[I 2024-03-25 20:25:07,055] Trial 915 finished with value: 8.815815336163018 and parameters: {'x': 0.8385659123509686, 'y': 0.9996679885138379}. Best is trial 787 with value: 0.0012027194599135117.\n",
      "[I 2024-03-25 20:25:07,061] Trial 916 finished with value: 607.5408938458967 and parameters: {'x': 1.031886487193596, 'y': -1.4000426797560421}. Best is trial 787 with value: 0.0012027194599135117.\n",
      "[I 2024-03-25 20:25:07,067] Trial 917 finished with value: 30.238964493888723 and parameters: {'x': 1.1545630242961202, 'y': 0.7833333709006657}. Best is trial 787 with value: 0.0012027194599135117.\n",
      "[I 2024-03-25 20:25:07,073] Trial 918 finished with value: 0.4762816409738123 and parameters: {'x': 0.9174344817359543, 'y': 0.9102035133580315}. Best is trial 787 with value: 0.0012027194599135117.\n",
      "[I 2024-03-25 20:25:07,079] Trial 919 finished with value: 24.68551412660113 and parameters: {'x': 0.8018317376241759, 'y': 1.1393839664250998}. Best is trial 787 with value: 0.0012027194599135117.\n",
      "[I 2024-03-25 20:25:07,085] Trial 920 finished with value: 0.611532422797139 and parameters: {'x': 0.9976533793934323, 'y': 1.0735124518707235}. Best is trial 787 with value: 0.0012027194599135117.\n",
      "[I 2024-03-25 20:25:07,091] Trial 921 finished with value: 0.043002710889950925 and parameters: {'x': 0.9214239799796953, 'y': 0.8682129090656332}. Best is trial 787 with value: 0.0012027194599135117.\n",
      "[I 2024-03-25 20:25:07,097] Trial 922 finished with value: 19.997685210769106 and parameters: {'x': 1.109078041322404, 'y': 0.7829994385124048}. Best is trial 787 with value: 0.0012027194599135117.\n",
      "[I 2024-03-25 20:25:07,104] Trial 923 finished with value: 5.673517869362985 and parameters: {'x': 0.8611398273740066, 'y': 0.9793481711551771}. Best is trial 787 with value: 0.0012027194599135117.\n",
      "[I 2024-03-25 20:25:07,110] Trial 924 finished with value: 195.06553561482184 and parameters: {'x': 1.4437570595438434, 'y': 0.688480954609365}. Best is trial 787 with value: 0.0012027194599135117.\n"
     ]
    },
    {
     "name": "stderr",
     "output_type": "stream",
     "text": [
      "[I 2024-03-25 20:25:07,116] Trial 925 finished with value: 10.258795575753657 and parameters: {'x': 0.7604580180753644, 'y': 0.8976929409848341}. Best is trial 787 with value: 0.0012027194599135117.\n",
      "[I 2024-03-25 20:25:07,122] Trial 926 finished with value: 0.020557942576683468 and parameters: {'x': 1.0250959771405368, 'y': 1.0367050578801678}. Best is trial 787 with value: 0.0012027194599135117.\n",
      "[I 2024-03-25 20:25:07,128] Trial 927 finished with value: 98.72239306491883 and parameters: {'x': -0.4357615191611638, 'y': 1.173051271787969}. Best is trial 787 with value: 0.0012027194599135117.\n",
      "[I 2024-03-25 20:25:07,134] Trial 928 finished with value: 18.909377965623218 and parameters: {'x': 1.2479087876442991, 'y': 1.12313443922705}. Best is trial 787 with value: 0.0012027194599135117.\n",
      "[I 2024-03-25 20:25:07,140] Trial 929 finished with value: 1.900151075235296 and parameters: {'x': 1.1857885195948412, 'y': 1.2695062108858124}. Best is trial 787 with value: 0.0012027194599135117.\n",
      "[I 2024-03-25 20:25:07,146] Trial 930 finished with value: 1.3799973699902666 and parameters: {'x': 1.088405137594291, 'y': 1.0674855752970525}. Best is trial 787 with value: 0.0012027194599135117.\n",
      "[I 2024-03-25 20:25:07,152] Trial 931 finished with value: 1.6040091042523301 and parameters: {'x': 1.0424223211764545, 'y': 1.2132227081796516}. Best is trial 787 with value: 0.0012027194599135117.\n",
      "[I 2024-03-25 20:25:07,158] Trial 932 finished with value: 7.302031554990388 and parameters: {'x': 1.1311355627264281, 'y': 1.0095633260050896}. Best is trial 787 with value: 0.0012027194599135117.\n",
      "[I 2024-03-25 20:25:07,164] Trial 933 finished with value: 0.6639924215594367 and parameters: {'x': 1.006364221144417, 'y': 1.09425219039562}. Best is trial 787 with value: 0.0012027194599135117.\n",
      "[I 2024-03-25 20:25:07,170] Trial 934 finished with value: 2.239114471831715 and parameters: {'x': 1.0997056348198202, 'y': 1.0600483219522117}. Best is trial 787 with value: 0.0012027194599135117.\n",
      "[I 2024-03-25 20:25:07,176] Trial 935 finished with value: 4.026588746372067 and parameters: {'x': 0.9823380069652761, 'y': 1.1656438046072568}. Best is trial 787 with value: 0.0012027194599135117.\n",
      "[I 2024-03-25 20:25:07,182] Trial 936 finished with value: 15.06220311418141 and parameters: {'x': 1.1747745722127807, 'y': 0.9923884866648305}. Best is trial 787 with value: 0.0012027194599135117.\n",
      "[I 2024-03-25 20:25:07,188] Trial 937 finished with value: 6.925465106628914 and parameters: {'x': 1.0213929016899486, 'y': 1.3063975485208514}. Best is trial 787 with value: 0.0012027194599135117.\n",
      "[I 2024-03-25 20:25:07,194] Trial 938 finished with value: 0.5690675881914793 and parameters: {'x': 0.9484130607459322, 'y': 0.9747473082745869}. Best is trial 787 with value: 0.0012027194599135117.\n",
      "[I 2024-03-25 20:25:07,200] Trial 939 finished with value: 0.4198847550677364 and parameters: {'x': 1.0635033454411327, 'y': 1.0665527717944536}. Best is trial 787 with value: 0.0012027194599135117.\n",
      "[I 2024-03-25 20:25:07,206] Trial 940 finished with value: 15.045614768135268 and parameters: {'x': 0.8763583496161721, 'y': 1.1556936203381776}. Best is trial 787 with value: 0.0012027194599135117.\n",
      "[I 2024-03-25 20:25:07,212] Trial 941 finished with value: 54.53020391331591 and parameters: {'x': 1.3061436178848853, 'y': 0.9682003346912817}. Best is trial 787 with value: 0.0012027194599135117.\n",
      "[I 2024-03-25 20:25:07,218] Trial 942 finished with value: 0.014680623444619973 and parameters: {'x': 0.9680343718707772, 'y': 0.9254034487931414}. Best is trial 787 with value: 0.0012027194599135117.\n",
      "[I 2024-03-25 20:25:07,225] Trial 943 finished with value: 7.867644443051014 and parameters: {'x': 1.150390402945142, 'y': 1.0433083226859639}. Best is trial 787 with value: 0.0012027194599135117.\n",
      "[I 2024-03-25 20:25:07,231] Trial 944 finished with value: 3.840974622104966 and parameters: {'x': 1.0689824837102804, 'y': 0.9468609445780658}. Best is trial 787 with value: 0.0012027194599135117.\n",
      "[I 2024-03-25 20:25:07,237] Trial 945 finished with value: 18.695638860360127 and parameters: {'x': 1.233597322845778, 'y': 1.0900092871826665}. Best is trial 787 with value: 0.0012027194599135117.\n",
      "[I 2024-03-25 20:25:07,243] Trial 946 finished with value: 0.0008342570359147451 and parameters: {'x': 0.9998184950869453, 'y': 1.0025253168908657}. Best is trial 946 with value: 0.0008342570359147451.\n",
      "[I 2024-03-25 20:25:07,249] Trial 947 finished with value: 0.0118665166613043 and parameters: {'x': 1.104860951819974, 'y': 1.217766964573125}. Best is trial 946 with value: 0.0008342570359147451.\n",
      "[I 2024-03-25 20:25:07,255] Trial 948 finished with value: 2.0328068375287147 and parameters: {'x': 1.1981715999579485, 'y': 1.2944225891421908}. Best is trial 946 with value: 0.0008342570359147451.\n",
      "[I 2024-03-25 20:25:07,261] Trial 949 finished with value: 11.457538229920303 and parameters: {'x': 1.338594823396508, 'y': 1.4550440025118387}. Best is trial 946 with value: 0.0008342570359147451.\n",
      "[I 2024-03-25 20:25:07,267] Trial 950 finished with value: 0.27613674131140253 and parameters: {'x': 1.1421039955161294, 'y': 1.354992365364287}. Best is trial 946 with value: 0.0008342570359147451.\n",
      "[I 2024-03-25 20:25:07,273] Trial 951 finished with value: 3.4571843195478382 and parameters: {'x': 1.0286360959474832, 'y': 1.2440052161825068}. Best is trial 946 with value: 0.0008342570359147451.\n",
      "[I 2024-03-25 20:25:07,279] Trial 952 finished with value: 29.48676943251425 and parameters: {'x': 1.2560593449511408, 'y': 1.035271923291}. Best is trial 946 with value: 0.0008342570359147451.\n",
      "[I 2024-03-25 20:25:07,285] Trial 953 finished with value: 0.01777969437533388 and parameters: {'x': 1.097940271303507, 'y': 1.214521263319047}. Best is trial 946 with value: 0.0008342570359147451.\n",
      "[I 2024-03-25 20:25:07,291] Trial 954 finished with value: 0.7559488584049022 and parameters: {'x': 1.20771693812501, 'y': 1.3741525690049539}. Best is trial 946 with value: 0.0008342570359147451.\n",
      "[I 2024-03-25 20:25:07,298] Trial 955 finished with value: 0.517281312745188 and parameters: {'x': 1.1258004589845274, 'y': 1.3382402002129885}. Best is trial 946 with value: 0.0008342570359147451.\n",
      "[I 2024-03-25 20:25:07,304] Trial 956 finished with value: 0.03829451412591881 and parameters: {'x': 1.1348554071272443, 'y': 1.302077251106278}. Best is trial 946 with value: 0.0008342570359147451.\n",
      "[I 2024-03-25 20:25:07,310] Trial 957 finished with value: 1.1718090589893972 and parameters: {'x': 1.0797254289561562, 'y': 1.2737631465010948}. Best is trial 946 with value: 0.0008342570359147451.\n",
      "[I 2024-03-25 20:25:07,316] Trial 958 finished with value: 37.81910404646794 and parameters: {'x': 1.358397322707466, 'y': 1.2313161293768142}. Best is trial 946 with value: 0.0008342570359147451.\n",
      "[I 2024-03-25 20:25:07,322] Trial 959 finished with value: 19.52478012444726 and parameters: {'x': 0.9814225036352519, 'y': 1.4050547592450182}. Best is trial 946 with value: 0.0008342570359147451.\n",
      "[I 2024-03-25 20:25:07,328] Trial 960 finished with value: 15.72091720244474 and parameters: {'x': 1.248319185802649, 'y': 1.162583026781539}. Best is trial 946 with value: 0.0008342570359147451.\n",
      "[I 2024-03-25 20:25:07,334] Trial 961 finished with value: 0.2888194689147955 and parameters: {'x': 1.0760322891086553, 'y': 1.211046855601071}. Best is trial 946 with value: 0.0008342570359147451.\n",
      "[I 2024-03-25 20:25:07,340] Trial 962 finished with value: 1.9759665089416307 and parameters: {'x': 1.1647997387251874, 'y': 1.2171587338038712}. Best is trial 946 with value: 0.0008342570359147451.\n",
      "[I 2024-03-25 20:25:07,347] Trial 963 finished with value: 4.3790091682529155 and parameters: {'x': 0.9773728412868563, 'y': 1.1645062594094497}. Best is trial 946 with value: 0.0008342570359147451.\n",
      "[I 2024-03-25 20:25:07,353] Trial 964 finished with value: 0.29240048827224197 and parameters: {'x': 1.039611489252981, 'y': 1.1347208366495236}. Best is trial 946 with value: 0.0008342570359147451.\n",
      "[I 2024-03-25 20:25:07,359] Trial 965 finished with value: 623.2163010306443 and parameters: {'x': 1.8996394274070862, 'y': 1.1138214446115473}. Best is trial 946 with value: 0.0008342570359147451.\n",
      "[I 2024-03-25 20:25:07,365] Trial 966 finished with value: 0.14884169084064497 and parameters: {'x': 0.9358994838137121, 'y': 0.9139516100024141}. Best is trial 946 with value: 0.0008342570359147451.\n"
     ]
    },
    {
     "name": "stderr",
     "output_type": "stream",
     "text": [
      "[I 2024-03-25 20:25:07,371] Trial 967 finished with value: 0.2823129914019143 and parameters: {'x': 1.109345873577227, 'y': 1.282644081605668}. Best is trial 946 with value: 0.0008342570359147451.\n",
      "[I 2024-03-25 20:25:07,377] Trial 968 finished with value: 0.16538291199531796 and parameters: {'x': 0.9874536245975765, 'y': 1.0157126004646073}. Best is trial 946 with value: 0.0008342570359147451.\n",
      "[I 2024-03-25 20:25:07,383] Trial 969 finished with value: 1.0194777164223323 and parameters: {'x': 0.8836462453493875, 'y': 0.881127223261114}. Best is trial 946 with value: 0.0008342570359147451.\n",
      "[I 2024-03-25 20:25:07,389] Trial 970 finished with value: 7.205965887458028 and parameters: {'x': 1.0466839766680152, 'y': 1.3639460521851952}. Best is trial 946 with value: 0.0008342570359147451.\n",
      "[I 2024-03-25 20:25:07,396] Trial 971 finished with value: 6.69395949753321 and parameters: {'x': 1.213154309264122, 'y': 1.2138960446119125}. Best is trial 946 with value: 0.0008342570359147451.\n",
      "[I 2024-03-25 20:25:07,402] Trial 972 finished with value: 209.34934216150083 and parameters: {'x': -1.59025265013803, 'y': 1.10538695336234}. Best is trial 946 with value: 0.0008342570359147451.\n",
      "[I 2024-03-25 20:25:07,408] Trial 973 finished with value: 0.633263148608875 and parameters: {'x': 0.9357853547861371, 'y': 0.9550125527024335}. Best is trial 946 with value: 0.0008342570359147451.\n",
      "[I 2024-03-25 20:25:07,414] Trial 974 finished with value: 17.741994436155508 and parameters: {'x': 1.119294921326972, 'y': 0.8317776177177547}. Best is trial 946 with value: 0.0008342570359147451.\n",
      "[I 2024-03-25 20:25:07,420] Trial 975 finished with value: 1.670280263109498 and parameters: {'x': 0.9509044296955945, 'y': 1.0333652714458874}. Best is trial 946 with value: 0.0008342570359147451.\n",
      "[I 2024-03-25 20:25:07,426] Trial 976 finished with value: 124.1460935711308 and parameters: {'x': -0.627756954491256, 'y': 1.4963333056662786}. Best is trial 946 with value: 0.0008342570359147451.\n",
      "[I 2024-03-25 20:25:07,432] Trial 977 finished with value: 1.7911747336105295 and parameters: {'x': 1.0243813425446284, 'y': 0.9155445688864334}. Best is trial 946 with value: 0.0008342570359147451.\n",
      "[I 2024-03-25 20:25:07,439] Trial 978 finished with value: 44.40321699003873 and parameters: {'x': 0.8840609662150798, 'y': 0.11530727133799701}. Best is trial 946 with value: 0.0008342570359147451.\n",
      "[I 2024-03-25 20:25:07,445] Trial 979 finished with value: 25.00438337132353 and parameters: {'x': 1.265745983083837, 'y': 1.102775708578458}. Best is trial 946 with value: 0.0008342570359147451.\n",
      "[I 2024-03-25 20:25:07,451] Trial 980 finished with value: 192.39769276935746 and parameters: {'x': 0.8162338857058145, 'y': -0.7207154614381883}. Best is trial 946 with value: 0.0008342570359147451.\n",
      "[I 2024-03-25 20:25:07,457] Trial 981 finished with value: 31.52367107765534 and parameters: {'x': 1.1682949689703046, 'y': 0.8037059724049224}. Best is trial 946 with value: 0.0008342570359147451.\n",
      "[I 2024-03-25 20:25:07,463] Trial 982 finished with value: 3.0616324499185072 and parameters: {'x': 1.077233239000632, 'y': 0.9856267751630149}. Best is trial 946 with value: 0.0008342570359147451.\n",
      "[I 2024-03-25 20:25:07,470] Trial 983 finished with value: 6.665707136818884 and parameters: {'x': 0.9738196343279971, 'y': 1.2064917138315676}. Best is trial 946 with value: 0.0008342570359147451.\n",
      "[I 2024-03-25 20:25:07,476] Trial 984 finished with value: 13.266277985137158 and parameters: {'x': -1.080347814364944, 'y': 0.8681793117339197}. Best is trial 946 with value: 0.0008342570359147451.\n",
      "[I 2024-03-25 20:25:07,482] Trial 985 finished with value: 5.5458283262122245 and parameters: {'x': 0.8780605469534518, 'y': 1.006170236013511}. Best is trial 946 with value: 0.0008342570359147451.\n",
      "[I 2024-03-25 20:25:07,488] Trial 986 finished with value: 2.3549560989985507 and parameters: {'x': 1.0369313226456147, 'y': 0.9218123515799377}. Best is trial 946 with value: 0.0008342570359147451.\n",
      "[I 2024-03-25 20:25:07,494] Trial 987 finished with value: 3.8842739582814003 and parameters: {'x': 0.9602286650569344, 'y': 1.1190845712360238}. Best is trial 946 with value: 0.0008342570359147451.\n",
      "[I 2024-03-25 20:25:07,501] Trial 988 finished with value: 29.389507187846487 and parameters: {'x': 1.1567937998875664, 'y': 0.796277783180249}. Best is trial 946 with value: 0.0008342570359147451.\n",
      "[I 2024-03-25 20:25:07,507] Trial 989 finished with value: 13.548608067227079 and parameters: {'x': 0.8284206755410867, 'y': 1.0539650361935415}. Best is trial 946 with value: 0.0008342570359147451.\n",
      "[I 2024-03-25 20:25:07,513] Trial 990 finished with value: 8.368544617910791 and parameters: {'x': 1.087902730956583, 'y': 0.8943815656188605}. Best is trial 946 with value: 0.0008342570359147451.\n",
      "[I 2024-03-25 20:25:07,519] Trial 991 finished with value: 17.91532606929114 and parameters: {'x': 0.9198406183165736, 'y': 1.2692958525534481}. Best is trial 946 with value: 0.0008342570359147451.\n",
      "[I 2024-03-25 20:25:07,526] Trial 992 finished with value: 8.100422172686253 and parameters: {'x': 1.020124703557741, 'y': 0.7560491197653141}. Best is trial 946 with value: 0.0008342570359147451.\n",
      "[I 2024-03-25 20:25:07,532] Trial 993 finished with value: 2.760343100609442 and parameters: {'x': 0.8819307196580344, 'y': 0.9435245370021212}. Best is trial 946 with value: 0.0008342570359147451.\n",
      "[I 2024-03-25 20:25:07,538] Trial 994 finished with value: 41.26503739549319 and parameters: {'x': 0.7397525819563886, 'y': 1.1890851789723629}. Best is trial 946 with value: 0.0008342570359147451.\n",
      "[I 2024-03-25 20:25:07,544] Trial 995 finished with value: 2.1423472872972034 and parameters: {'x': 0.9879425291938992, 'y': 0.8296678124028556}. Best is trial 946 with value: 0.0008342570359147451.\n",
      "[I 2024-03-25 20:25:07,551] Trial 996 finished with value: 3.9170462921808697 and parameters: {'x': 1.1185028810930095, 'y': 1.0534884925596926}. Best is trial 946 with value: 0.0008342570359147451.\n",
      "[I 2024-03-25 20:25:07,557] Trial 997 finished with value: 47.26357969535198 and parameters: {'x': 1.2965605503383693, 'y': 0.9942240704555345}. Best is trial 946 with value: 0.0008342570359147451.\n",
      "[I 2024-03-25 20:25:07,563] Trial 998 finished with value: 2.6860847061670654 and parameters: {'x': 0.823615890399338, 'y': 0.8412840245699544}. Best is trial 946 with value: 0.0008342570359147451.\n",
      "[I 2024-03-25 20:25:07,570] Trial 999 finished with value: 0.4330118521479152 and parameters: {'x': 0.9440675917130894, 'y': 0.9568291130578572}. Best is trial 946 with value: 0.0008342570359147451.\n"
     ]
    }
   ],
   "source": [
    "import optuna\n",
    "\n",
    "study = optuna.create_study()\n",
    "study.optimize(objective, n_trials=1000)"
   ]
  },
  {
   "cell_type": "code",
   "execution_count": 67,
   "id": "7f80e0ac",
   "metadata": {},
   "outputs": [
    {
     "data": {
      "text/plain": [
       "{'x': 0.9998184950869453, 'y': 1.0025253168908657}"
      ]
     },
     "execution_count": 67,
     "metadata": {},
     "output_type": "execute_result"
    }
   ],
   "source": [
    "study.best_params"
   ]
  },
  {
   "cell_type": "code",
   "execution_count": 68,
   "id": "cc585192",
   "metadata": {},
   "outputs": [],
   "source": [
    "def hp_space(trial):\n",
    "    return {\"num_train_epochs\": trial.suggest_int(\"num_train_epochs\", 5, 10),\n",
    "        \"alpha\": trial.suggest_float(\"alpha\", 0, 1),\n",
    "        \"temperature\": trial.suggest_int(\"temperature\", 2, 20)}"
   ]
  },
  {
   "cell_type": "code",
   "execution_count": 70,
   "id": "5a32cfb9",
   "metadata": {
    "scrolled": true
   },
   "outputs": [
    {
     "name": "stderr",
     "output_type": "stream",
     "text": [
      "[I 2024-03-25 21:29:42,290] A new study created in memory with name: no-name-a4487ed2-756e-4f7e-82b7-01ebe45c6e2d\n",
      "/home/restful3/anaconda3/envs/trading/lib/python3.9/site-packages/transformers/optimization.py:411: FutureWarning: This implementation of AdamW is deprecated and will be removed in a future version. Use the PyTorch implementation torch.optim.AdamW instead, or set `no_deprecation_warning=True` to disable this warning\n",
      "  warnings.warn(\n"
     ]
    },
    {
     "data": {
      "text/html": [
       "\n",
       "    <div>\n",
       "      \n",
       "      <progress value='2226' max='2226' style='width:300px; height:20px; vertical-align: middle;'></progress>\n",
       "      [2226/2226 04:08, Epoch 7/7]\n",
       "    </div>\n",
       "    <table border=\"1\" class=\"dataframe\">\n",
       "  <thead>\n",
       " <tr style=\"text-align: left;\">\n",
       "      <th>Epoch</th>\n",
       "      <th>Training Loss</th>\n",
       "      <th>Validation Loss</th>\n",
       "      <th>Accuracy</th>\n",
       "    </tr>\n",
       "  </thead>\n",
       "  <tbody>\n",
       "    <tr>\n",
       "      <td>1</td>\n",
       "      <td>0.397400</td>\n",
       "      <td>0.205396</td>\n",
       "      <td>0.593226</td>\n",
       "    </tr>\n",
       "    <tr>\n",
       "      <td>2</td>\n",
       "      <td>0.172800</td>\n",
       "      <td>0.102004</td>\n",
       "      <td>0.823226</td>\n",
       "    </tr>\n",
       "    <tr>\n",
       "      <td>3</td>\n",
       "      <td>0.108200</td>\n",
       "      <td>0.068527</td>\n",
       "      <td>0.880645</td>\n",
       "    </tr>\n",
       "    <tr>\n",
       "      <td>4</td>\n",
       "      <td>0.082900</td>\n",
       "      <td>0.053519</td>\n",
       "      <td>0.899677</td>\n",
       "    </tr>\n",
       "    <tr>\n",
       "      <td>5</td>\n",
       "      <td>0.070100</td>\n",
       "      <td>0.046092</td>\n",
       "      <td>0.906774</td>\n",
       "    </tr>\n",
       "    <tr>\n",
       "      <td>6</td>\n",
       "      <td>0.063200</td>\n",
       "      <td>0.042177</td>\n",
       "      <td>0.909677</td>\n",
       "    </tr>\n",
       "    <tr>\n",
       "      <td>7</td>\n",
       "      <td>0.059800</td>\n",
       "      <td>0.040908</td>\n",
       "      <td>0.912903</td>\n",
       "    </tr>\n",
       "  </tbody>\n",
       "</table><p>"
      ],
      "text/plain": [
       "<IPython.core.display.HTML object>"
      ]
     },
     "metadata": {},
     "output_type": "display_data"
    },
    {
     "name": "stderr",
     "output_type": "stream",
     "text": [
      "[I 2024-03-25 21:33:51,014] Trial 0 finished with value: 0.9129032258064517 and parameters: {'num_train_epochs': 7, 'alpha': 0.3662604230129515, 'temperature': 12}. Best is trial 0 with value: 0.9129032258064517.\n",
      "/home/restful3/anaconda3/envs/trading/lib/python3.9/site-packages/transformers/optimization.py:411: FutureWarning: This implementation of AdamW is deprecated and will be removed in a future version. Use the PyTorch implementation torch.optim.AdamW instead, or set `no_deprecation_warning=True` to disable this warning\n",
      "  warnings.warn(\n"
     ]
    },
    {
     "data": {
      "text/html": [
       "\n",
       "    <div>\n",
       "      \n",
       "      <progress value='3180' max='3180' style='width:300px; height:20px; vertical-align: middle;'></progress>\n",
       "      [3180/3180 05:55, Epoch 10/10]\n",
       "    </div>\n",
       "    <table border=\"1\" class=\"dataframe\">\n",
       "  <thead>\n",
       " <tr style=\"text-align: left;\">\n",
       "      <th>Epoch</th>\n",
       "      <th>Training Loss</th>\n",
       "      <th>Validation Loss</th>\n",
       "      <th>Accuracy</th>\n",
       "    </tr>\n",
       "  </thead>\n",
       "  <tbody>\n",
       "    <tr>\n",
       "      <td>1</td>\n",
       "      <td>0.398900</td>\n",
       "      <td>0.202734</td>\n",
       "      <td>0.604194</td>\n",
       "    </tr>\n",
       "    <tr>\n",
       "      <td>2</td>\n",
       "      <td>0.169000</td>\n",
       "      <td>0.097224</td>\n",
       "      <td>0.835484</td>\n",
       "    </tr>\n",
       "    <tr>\n",
       "      <td>3</td>\n",
       "      <td>0.102800</td>\n",
       "      <td>0.063101</td>\n",
       "      <td>0.887097</td>\n",
       "    </tr>\n",
       "    <tr>\n",
       "      <td>4</td>\n",
       "      <td>0.076400</td>\n",
       "      <td>0.047570</td>\n",
       "      <td>0.906774</td>\n",
       "    </tr>\n",
       "    <tr>\n",
       "      <td>5</td>\n",
       "      <td>0.062500</td>\n",
       "      <td>0.039418</td>\n",
       "      <td>0.913871</td>\n",
       "    </tr>\n",
       "    <tr>\n",
       "      <td>6</td>\n",
       "      <td>0.054300</td>\n",
       "      <td>0.034050</td>\n",
       "      <td>0.919355</td>\n",
       "    </tr>\n",
       "    <tr>\n",
       "      <td>7</td>\n",
       "      <td>0.049100</td>\n",
       "      <td>0.031371</td>\n",
       "      <td>0.923871</td>\n",
       "    </tr>\n",
       "    <tr>\n",
       "      <td>8</td>\n",
       "      <td>0.045700</td>\n",
       "      <td>0.029252</td>\n",
       "      <td>0.924516</td>\n",
       "    </tr>\n",
       "    <tr>\n",
       "      <td>9</td>\n",
       "      <td>0.043500</td>\n",
       "      <td>0.028255</td>\n",
       "      <td>0.924194</td>\n",
       "    </tr>\n",
       "    <tr>\n",
       "      <td>10</td>\n",
       "      <td>0.042300</td>\n",
       "      <td>0.027771</td>\n",
       "      <td>0.924516</td>\n",
       "    </tr>\n",
       "  </tbody>\n",
       "</table><p>"
      ],
      "text/plain": [
       "<IPython.core.display.HTML object>"
      ]
     },
     "metadata": {},
     "output_type": "display_data"
    },
    {
     "name": "stderr",
     "output_type": "stream",
     "text": [
      "[I 2024-03-25 21:39:46,883] Trial 1 finished with value: 0.9245161290322581 and parameters: {'num_train_epochs': 10, 'alpha': 0.2898068367134684, 'temperature': 11}. Best is trial 1 with value: 0.9245161290322581.\n",
      "/home/restful3/anaconda3/envs/trading/lib/python3.9/site-packages/transformers/optimization.py:411: FutureWarning: This implementation of AdamW is deprecated and will be removed in a future version. Use the PyTorch implementation torch.optim.AdamW instead, or set `no_deprecation_warning=True` to disable this warning\n",
      "  warnings.warn(\n"
     ]
    },
    {
     "data": {
      "text/html": [
       "\n",
       "    <div>\n",
       "      \n",
       "      <progress value='2544' max='2544' style='width:300px; height:20px; vertical-align: middle;'></progress>\n",
       "      [2544/2544 04:43, Epoch 8/8]\n",
       "    </div>\n",
       "    <table border=\"1\" class=\"dataframe\">\n",
       "  <thead>\n",
       " <tr style=\"text-align: left;\">\n",
       "      <th>Epoch</th>\n",
       "      <th>Training Loss</th>\n",
       "      <th>Validation Loss</th>\n",
       "      <th>Accuracy</th>\n",
       "    </tr>\n",
       "  </thead>\n",
       "  <tbody>\n",
       "    <tr>\n",
       "      <td>1</td>\n",
       "      <td>0.574300</td>\n",
       "      <td>0.295371</td>\n",
       "      <td>0.649355</td>\n",
       "    </tr>\n",
       "    <tr>\n",
       "      <td>2</td>\n",
       "      <td>0.236800</td>\n",
       "      <td>0.123485</td>\n",
       "      <td>0.845806</td>\n",
       "    </tr>\n",
       "    <tr>\n",
       "      <td>3</td>\n",
       "      <td>0.128800</td>\n",
       "      <td>0.071299</td>\n",
       "      <td>0.893226</td>\n",
       "    </tr>\n",
       "    <tr>\n",
       "      <td>4</td>\n",
       "      <td>0.089700</td>\n",
       "      <td>0.051418</td>\n",
       "      <td>0.914516</td>\n",
       "    </tr>\n",
       "    <tr>\n",
       "      <td>5</td>\n",
       "      <td>0.072000</td>\n",
       "      <td>0.042480</td>\n",
       "      <td>0.920968</td>\n",
       "    </tr>\n",
       "    <tr>\n",
       "      <td>6</td>\n",
       "      <td>0.062800</td>\n",
       "      <td>0.037728</td>\n",
       "      <td>0.922903</td>\n",
       "    </tr>\n",
       "    <tr>\n",
       "      <td>7</td>\n",
       "      <td>0.057500</td>\n",
       "      <td>0.035536</td>\n",
       "      <td>0.923871</td>\n",
       "    </tr>\n",
       "    <tr>\n",
       "      <td>8</td>\n",
       "      <td>0.055000</td>\n",
       "      <td>0.034600</td>\n",
       "      <td>0.926774</td>\n",
       "    </tr>\n",
       "  </tbody>\n",
       "</table><p>"
      ],
      "text/plain": [
       "<IPython.core.display.HTML object>"
      ]
     },
     "metadata": {},
     "output_type": "display_data"
    },
    {
     "name": "stderr",
     "output_type": "stream",
     "text": [
      "[I 2024-03-25 21:44:31,177] Trial 2 finished with value: 0.9267741935483871 and parameters: {'num_train_epochs': 8, 'alpha': 0.7913992579835119, 'temperature': 3}. Best is trial 2 with value: 0.9267741935483871.\n",
      "/home/restful3/anaconda3/envs/trading/lib/python3.9/site-packages/transformers/optimization.py:411: FutureWarning: This implementation of AdamW is deprecated and will be removed in a future version. Use the PyTorch implementation torch.optim.AdamW instead, or set `no_deprecation_warning=True` to disable this warning\n",
      "  warnings.warn(\n"
     ]
    },
    {
     "data": {
      "text/html": [
       "\n",
       "    <div>\n",
       "      \n",
       "      <progress value='2862' max='2862' style='width:300px; height:20px; vertical-align: middle;'></progress>\n",
       "      [2862/2862 05:19, Epoch 9/9]\n",
       "    </div>\n",
       "    <table border=\"1\" class=\"dataframe\">\n",
       "  <thead>\n",
       " <tr style=\"text-align: left;\">\n",
       "      <th>Epoch</th>\n",
       "      <th>Training Loss</th>\n",
       "      <th>Validation Loss</th>\n",
       "      <th>Accuracy</th>\n",
       "    </tr>\n",
       "  </thead>\n",
       "  <tbody>\n",
       "    <tr>\n",
       "      <td>1</td>\n",
       "      <td>0.415700</td>\n",
       "      <td>0.212193</td>\n",
       "      <td>0.610968</td>\n",
       "    </tr>\n",
       "    <tr>\n",
       "      <td>2</td>\n",
       "      <td>0.176600</td>\n",
       "      <td>0.101122</td>\n",
       "      <td>0.836452</td>\n",
       "    </tr>\n",
       "    <tr>\n",
       "      <td>3</td>\n",
       "      <td>0.107000</td>\n",
       "      <td>0.065199</td>\n",
       "      <td>0.887419</td>\n",
       "    </tr>\n",
       "    <tr>\n",
       "      <td>4</td>\n",
       "      <td>0.079400</td>\n",
       "      <td>0.049169</td>\n",
       "      <td>0.905484</td>\n",
       "    </tr>\n",
       "    <tr>\n",
       "      <td>5</td>\n",
       "      <td>0.065200</td>\n",
       "      <td>0.040868</td>\n",
       "      <td>0.914516</td>\n",
       "    </tr>\n",
       "    <tr>\n",
       "      <td>6</td>\n",
       "      <td>0.056900</td>\n",
       "      <td>0.035621</td>\n",
       "      <td>0.916774</td>\n",
       "    </tr>\n",
       "    <tr>\n",
       "      <td>7</td>\n",
       "      <td>0.051800</td>\n",
       "      <td>0.033034</td>\n",
       "      <td>0.922258</td>\n",
       "    </tr>\n",
       "    <tr>\n",
       "      <td>8</td>\n",
       "      <td>0.048700</td>\n",
       "      <td>0.031240</td>\n",
       "      <td>0.923548</td>\n",
       "    </tr>\n",
       "    <tr>\n",
       "      <td>9</td>\n",
       "      <td>0.047100</td>\n",
       "      <td>0.030743</td>\n",
       "      <td>0.921935</td>\n",
       "    </tr>\n",
       "  </tbody>\n",
       "</table><p>"
      ],
      "text/plain": [
       "<IPython.core.display.HTML object>"
      ]
     },
     "metadata": {},
     "output_type": "display_data"
    },
    {
     "name": "stderr",
     "output_type": "stream",
     "text": [
      "[I 2024-03-25 21:49:51,170] Trial 3 finished with value: 0.9219354838709677 and parameters: {'num_train_epochs': 9, 'alpha': 0.016553405670669763, 'temperature': 8}. Best is trial 2 with value: 0.9267741935483871.\n",
      "/home/restful3/anaconda3/envs/trading/lib/python3.9/site-packages/transformers/optimization.py:411: FutureWarning: This implementation of AdamW is deprecated and will be removed in a future version. Use the PyTorch implementation torch.optim.AdamW instead, or set `no_deprecation_warning=True` to disable this warning\n",
      "  warnings.warn(\n"
     ]
    },
    {
     "data": {
      "text/html": [
       "\n",
       "    <div>\n",
       "      \n",
       "      <progress value='3180' max='3180' style='width:300px; height:20px; vertical-align: middle;'></progress>\n",
       "      [3180/3180 05:54, Epoch 10/10]\n",
       "    </div>\n",
       "    <table border=\"1\" class=\"dataframe\">\n",
       "  <thead>\n",
       " <tr style=\"text-align: left;\">\n",
       "      <th>Epoch</th>\n",
       "      <th>Training Loss</th>\n",
       "      <th>Validation Loss</th>\n",
       "      <th>Accuracy</th>\n",
       "    </tr>\n",
       "  </thead>\n",
       "  <tbody>\n",
       "    <tr>\n",
       "      <td>1</td>\n",
       "      <td>0.801000</td>\n",
       "      <td>0.406547</td>\n",
       "      <td>0.670323</td>\n",
       "    </tr>\n",
       "    <tr>\n",
       "      <td>2</td>\n",
       "      <td>0.307300</td>\n",
       "      <td>0.140433</td>\n",
       "      <td>0.851613</td>\n",
       "    </tr>\n",
       "    <tr>\n",
       "      <td>3</td>\n",
       "      <td>0.140400</td>\n",
       "      <td>0.070960</td>\n",
       "      <td>0.905161</td>\n",
       "    </tr>\n",
       "    <tr>\n",
       "      <td>4</td>\n",
       "      <td>0.089500</td>\n",
       "      <td>0.050221</td>\n",
       "      <td>0.919032</td>\n",
       "    </tr>\n",
       "    <tr>\n",
       "      <td>5</td>\n",
       "      <td>0.069900</td>\n",
       "      <td>0.042065</td>\n",
       "      <td>0.923548</td>\n",
       "    </tr>\n",
       "    <tr>\n",
       "      <td>6</td>\n",
       "      <td>0.059900</td>\n",
       "      <td>0.037054</td>\n",
       "      <td>0.928710</td>\n",
       "    </tr>\n",
       "    <tr>\n",
       "      <td>7</td>\n",
       "      <td>0.054000</td>\n",
       "      <td>0.034879</td>\n",
       "      <td>0.929355</td>\n",
       "    </tr>\n",
       "    <tr>\n",
       "      <td>8</td>\n",
       "      <td>0.050500</td>\n",
       "      <td>0.032731</td>\n",
       "      <td>0.933226</td>\n",
       "    </tr>\n",
       "    <tr>\n",
       "      <td>9</td>\n",
       "      <td>0.048100</td>\n",
       "      <td>0.031941</td>\n",
       "      <td>0.933226</td>\n",
       "    </tr>\n",
       "    <tr>\n",
       "      <td>10</td>\n",
       "      <td>0.046700</td>\n",
       "      <td>0.031420</td>\n",
       "      <td>0.933548</td>\n",
       "    </tr>\n",
       "  </tbody>\n",
       "</table><p>"
      ],
      "text/plain": [
       "<IPython.core.display.HTML object>"
      ]
     },
     "metadata": {},
     "output_type": "display_data"
    },
    {
     "name": "stderr",
     "output_type": "stream",
     "text": [
      "[I 2024-03-25 21:55:46,558] Trial 4 finished with value: 0.9335483870967742 and parameters: {'num_train_epochs': 10, 'alpha': 0.4379673374479123, 'temperature': 2}. Best is trial 4 with value: 0.9335483870967742.\n",
      "/home/restful3/anaconda3/envs/trading/lib/python3.9/site-packages/transformers/optimization.py:411: FutureWarning: This implementation of AdamW is deprecated and will be removed in a future version. Use the PyTorch implementation torch.optim.AdamW instead, or set `no_deprecation_warning=True` to disable this warning\n",
      "  warnings.warn(\n"
     ]
    },
    {
     "data": {
      "text/html": [
       "\n",
       "    <div>\n",
       "      \n",
       "      <progress value='318' max='1590' style='width:300px; height:20px; vertical-align: middle;'></progress>\n",
       "      [ 318/1590 00:35 < 02:22, 8.90 it/s, Epoch 1/5]\n",
       "    </div>\n",
       "    <table border=\"1\" class=\"dataframe\">\n",
       "  <thead>\n",
       " <tr style=\"text-align: left;\">\n",
       "      <th>Epoch</th>\n",
       "      <th>Training Loss</th>\n",
       "      <th>Validation Loss</th>\n",
       "      <th>Accuracy</th>\n",
       "    </tr>\n",
       "  </thead>\n",
       "  <tbody>\n",
       "    <tr>\n",
       "      <td>1</td>\n",
       "      <td>0.394600</td>\n",
       "      <td>0.208288</td>\n",
       "      <td>0.579677</td>\n",
       "    </tr>\n",
       "  </tbody>\n",
       "</table><p>"
      ],
      "text/plain": [
       "<IPython.core.display.HTML object>"
      ]
     },
     "metadata": {},
     "output_type": "display_data"
    },
    {
     "name": "stderr",
     "output_type": "stream",
     "text": [
      "[I 2024-03-25 21:56:22,542] Trial 5 pruned. \n",
      "/home/restful3/anaconda3/envs/trading/lib/python3.9/site-packages/transformers/optimization.py:411: FutureWarning: This implementation of AdamW is deprecated and will be removed in a future version. Use the PyTorch implementation torch.optim.AdamW instead, or set `no_deprecation_warning=True` to disable this warning\n",
      "  warnings.warn(\n"
     ]
    },
    {
     "data": {
      "text/html": [
       "\n",
       "    <div>\n",
       "      \n",
       "      <progress value='318' max='2862' style='width:300px; height:20px; vertical-align: middle;'></progress>\n",
       "      [ 318/2862 00:35 < 04:45, 8.90 it/s, Epoch 1/9]\n",
       "    </div>\n",
       "    <table border=\"1\" class=\"dataframe\">\n",
       "  <thead>\n",
       " <tr style=\"text-align: left;\">\n",
       "      <th>Epoch</th>\n",
       "      <th>Training Loss</th>\n",
       "      <th>Validation Loss</th>\n",
       "      <th>Accuracy</th>\n",
       "    </tr>\n",
       "  </thead>\n",
       "  <tbody>\n",
       "    <tr>\n",
       "      <td>1</td>\n",
       "      <td>0.393100</td>\n",
       "      <td>0.200500</td>\n",
       "      <td>0.599677</td>\n",
       "    </tr>\n",
       "  </tbody>\n",
       "</table><p>"
      ],
      "text/plain": [
       "<IPython.core.display.HTML object>"
      ]
     },
     "metadata": {},
     "output_type": "display_data"
    },
    {
     "name": "stderr",
     "output_type": "stream",
     "text": [
      "[I 2024-03-25 21:56:58,506] Trial 6 pruned. \n",
      "/home/restful3/anaconda3/envs/trading/lib/python3.9/site-packages/transformers/optimization.py:411: FutureWarning: This implementation of AdamW is deprecated and will be removed in a future version. Use the PyTorch implementation torch.optim.AdamW instead, or set `no_deprecation_warning=True` to disable this warning\n",
      "  warnings.warn(\n"
     ]
    },
    {
     "data": {
      "text/html": [
       "\n",
       "    <div>\n",
       "      \n",
       "      <progress value='318' max='3180' style='width:300px; height:20px; vertical-align: middle;'></progress>\n",
       "      [ 318/3180 00:35 < 05:21, 8.90 it/s, Epoch 1/10]\n",
       "    </div>\n",
       "    <table border=\"1\" class=\"dataframe\">\n",
       "  <thead>\n",
       " <tr style=\"text-align: left;\">\n",
       "      <th>Epoch</th>\n",
       "      <th>Training Loss</th>\n",
       "      <th>Validation Loss</th>\n",
       "      <th>Accuracy</th>\n",
       "    </tr>\n",
       "  </thead>\n",
       "  <tbody>\n",
       "    <tr>\n",
       "      <td>1</td>\n",
       "      <td>0.388100</td>\n",
       "      <td>0.197124</td>\n",
       "      <td>0.596774</td>\n",
       "    </tr>\n",
       "  </tbody>\n",
       "</table><p>"
      ],
      "text/plain": [
       "<IPython.core.display.HTML object>"
      ]
     },
     "metadata": {},
     "output_type": "display_data"
    },
    {
     "name": "stderr",
     "output_type": "stream",
     "text": [
      "[I 2024-03-25 21:57:34,494] Trial 7 pruned. \n",
      "/home/restful3/anaconda3/envs/trading/lib/python3.9/site-packages/transformers/optimization.py:411: FutureWarning: This implementation of AdamW is deprecated and will be removed in a future version. Use the PyTorch implementation torch.optim.AdamW instead, or set `no_deprecation_warning=True` to disable this warning\n",
      "  warnings.warn(\n"
     ]
    },
    {
     "data": {
      "text/html": [
       "\n",
       "    <div>\n",
       "      \n",
       "      <progress value='318' max='2862' style='width:300px; height:20px; vertical-align: middle;'></progress>\n",
       "      [ 318/2862 00:35 < 04:45, 8.90 it/s, Epoch 1/9]\n",
       "    </div>\n",
       "    <table border=\"1\" class=\"dataframe\">\n",
       "  <thead>\n",
       " <tr style=\"text-align: left;\">\n",
       "      <th>Epoch</th>\n",
       "      <th>Training Loss</th>\n",
       "      <th>Validation Loss</th>\n",
       "      <th>Accuracy</th>\n",
       "    </tr>\n",
       "  </thead>\n",
       "  <tbody>\n",
       "    <tr>\n",
       "      <td>1</td>\n",
       "      <td>0.399300</td>\n",
       "      <td>0.203882</td>\n",
       "      <td>0.603871</td>\n",
       "    </tr>\n",
       "  </tbody>\n",
       "</table><p>"
      ],
      "text/plain": [
       "<IPython.core.display.HTML object>"
      ]
     },
     "metadata": {},
     "output_type": "display_data"
    },
    {
     "name": "stderr",
     "output_type": "stream",
     "text": [
      "[I 2024-03-25 21:58:10,462] Trial 8 pruned. \n",
      "/home/restful3/anaconda3/envs/trading/lib/python3.9/site-packages/transformers/optimization.py:411: FutureWarning: This implementation of AdamW is deprecated and will be removed in a future version. Use the PyTorch implementation torch.optim.AdamW instead, or set `no_deprecation_warning=True` to disable this warning\n",
      "  warnings.warn(\n"
     ]
    },
    {
     "data": {
      "text/html": [
       "\n",
       "    <div>\n",
       "      \n",
       "      <progress value='318' max='1908' style='width:300px; height:20px; vertical-align: middle;'></progress>\n",
       "      [ 318/1908 00:35 < 03:00, 8.83 it/s, Epoch 1/6]\n",
       "    </div>\n",
       "    <table border=\"1\" class=\"dataframe\">\n",
       "  <thead>\n",
       " <tr style=\"text-align: left;\">\n",
       "      <th>Epoch</th>\n",
       "      <th>Training Loss</th>\n",
       "      <th>Validation Loss</th>\n",
       "      <th>Accuracy</th>\n",
       "    </tr>\n",
       "  </thead>\n",
       "  <tbody>\n",
       "    <tr>\n",
       "      <td>1</td>\n",
       "      <td>0.385200</td>\n",
       "      <td>0.200633</td>\n",
       "      <td>0.581613</td>\n",
       "    </tr>\n",
       "  </tbody>\n",
       "</table><p>"
      ],
      "text/plain": [
       "<IPython.core.display.HTML object>"
      ]
     },
     "metadata": {},
     "output_type": "display_data"
    },
    {
     "name": "stderr",
     "output_type": "stream",
     "text": [
      "[I 2024-03-25 21:58:46,728] Trial 9 pruned. \n",
      "/home/restful3/anaconda3/envs/trading/lib/python3.9/site-packages/transformers/optimization.py:411: FutureWarning: This implementation of AdamW is deprecated and will be removed in a future version. Use the PyTorch implementation torch.optim.AdamW instead, or set `no_deprecation_warning=True` to disable this warning\n",
      "  warnings.warn(\n"
     ]
    },
    {
     "data": {
      "text/html": [
       "\n",
       "    <div>\n",
       "      \n",
       "      <progress value='2226' max='2226' style='width:300px; height:20px; vertical-align: middle;'></progress>\n",
       "      [2226/2226 04:08, Epoch 7/7]\n",
       "    </div>\n",
       "    <table border=\"1\" class=\"dataframe\">\n",
       "  <thead>\n",
       " <tr style=\"text-align: left;\">\n",
       "      <th>Epoch</th>\n",
       "      <th>Training Loss</th>\n",
       "      <th>Validation Loss</th>\n",
       "      <th>Accuracy</th>\n",
       "    </tr>\n",
       "  </thead>\n",
       "  <tbody>\n",
       "    <tr>\n",
       "      <td>1</td>\n",
       "      <td>0.805400</td>\n",
       "      <td>0.417365</td>\n",
       "      <td>0.662258</td>\n",
       "    </tr>\n",
       "    <tr>\n",
       "      <td>2</td>\n",
       "      <td>0.321600</td>\n",
       "      <td>0.154235</td>\n",
       "      <td>0.843871</td>\n",
       "    </tr>\n",
       "    <tr>\n",
       "      <td>3</td>\n",
       "      <td>0.154300</td>\n",
       "      <td>0.080275</td>\n",
       "      <td>0.895484</td>\n",
       "    </tr>\n",
       "    <tr>\n",
       "      <td>4</td>\n",
       "      <td>0.100700</td>\n",
       "      <td>0.057329</td>\n",
       "      <td>0.913226</td>\n",
       "    </tr>\n",
       "    <tr>\n",
       "      <td>5</td>\n",
       "      <td>0.080300</td>\n",
       "      <td>0.048708</td>\n",
       "      <td>0.919032</td>\n",
       "    </tr>\n",
       "    <tr>\n",
       "      <td>6</td>\n",
       "      <td>0.070600</td>\n",
       "      <td>0.044542</td>\n",
       "      <td>0.921613</td>\n",
       "    </tr>\n",
       "    <tr>\n",
       "      <td>7</td>\n",
       "      <td>0.066300</td>\n",
       "      <td>0.043218</td>\n",
       "      <td>0.921613</td>\n",
       "    </tr>\n",
       "  </tbody>\n",
       "</table><p>"
      ],
      "text/plain": [
       "<IPython.core.display.HTML object>"
      ]
     },
     "metadata": {},
     "output_type": "display_data"
    },
    {
     "name": "stderr",
     "output_type": "stream",
     "text": [
      "[I 2024-03-25 22:02:55,842] Trial 10 pruned. \n",
      "/home/restful3/anaconda3/envs/trading/lib/python3.9/site-packages/transformers/optimization.py:411: FutureWarning: This implementation of AdamW is deprecated and will be removed in a future version. Use the PyTorch implementation torch.optim.AdamW instead, or set `no_deprecation_warning=True` to disable this warning\n",
      "  warnings.warn(\n"
     ]
    },
    {
     "data": {
      "text/html": [
       "\n",
       "    <div>\n",
       "      \n",
       "      <progress value='2544' max='2544' style='width:300px; height:20px; vertical-align: middle;'></progress>\n",
       "      [2544/2544 04:44, Epoch 8/8]\n",
       "    </div>\n",
       "    <table border=\"1\" class=\"dataframe\">\n",
       "  <thead>\n",
       " <tr style=\"text-align: left;\">\n",
       "      <th>Epoch</th>\n",
       "      <th>Training Loss</th>\n",
       "      <th>Validation Loss</th>\n",
       "      <th>Accuracy</th>\n",
       "    </tr>\n",
       "  </thead>\n",
       "  <tbody>\n",
       "    <tr>\n",
       "      <td>1</td>\n",
       "      <td>0.803600</td>\n",
       "      <td>0.412943</td>\n",
       "      <td>0.667742</td>\n",
       "    </tr>\n",
       "    <tr>\n",
       "      <td>2</td>\n",
       "      <td>0.315600</td>\n",
       "      <td>0.148373</td>\n",
       "      <td>0.845806</td>\n",
       "    </tr>\n",
       "    <tr>\n",
       "      <td>3</td>\n",
       "      <td>0.148200</td>\n",
       "      <td>0.076070</td>\n",
       "      <td>0.900000</td>\n",
       "    </tr>\n",
       "    <tr>\n",
       "      <td>4</td>\n",
       "      <td>0.095600</td>\n",
       "      <td>0.054013</td>\n",
       "      <td>0.913871</td>\n",
       "    </tr>\n",
       "    <tr>\n",
       "      <td>5</td>\n",
       "      <td>0.075400</td>\n",
       "      <td>0.045469</td>\n",
       "      <td>0.920645</td>\n",
       "    </tr>\n",
       "    <tr>\n",
       "      <td>6</td>\n",
       "      <td>0.065400</td>\n",
       "      <td>0.040813</td>\n",
       "      <td>0.925161</td>\n",
       "    </tr>\n",
       "    <tr>\n",
       "      <td>7</td>\n",
       "      <td>0.060100</td>\n",
       "      <td>0.038726</td>\n",
       "      <td>0.927097</td>\n",
       "    </tr>\n",
       "    <tr>\n",
       "      <td>8</td>\n",
       "      <td>0.057500</td>\n",
       "      <td>0.037771</td>\n",
       "      <td>0.927097</td>\n",
       "    </tr>\n",
       "  </tbody>\n",
       "</table><p>"
      ],
      "text/plain": [
       "<IPython.core.display.HTML object>"
      ]
     },
     "metadata": {},
     "output_type": "display_data"
    },
    {
     "name": "stderr",
     "output_type": "stream",
     "text": [
      "[I 2024-03-25 22:07:40,500] Trial 11 finished with value: 0.9270967741935484 and parameters: {'num_train_epochs': 8, 'alpha': 0.6179242598625189, 'temperature': 2}. Best is trial 4 with value: 0.9335483870967742.\n",
      "/home/restful3/anaconda3/envs/trading/lib/python3.9/site-packages/transformers/optimization.py:411: FutureWarning: This implementation of AdamW is deprecated and will be removed in a future version. Use the PyTorch implementation torch.optim.AdamW instead, or set `no_deprecation_warning=True` to disable this warning\n",
      "  warnings.warn(\n"
     ]
    },
    {
     "data": {
      "text/html": [
       "\n",
       "    <div>\n",
       "      \n",
       "      <progress value='318' max='2544' style='width:300px; height:20px; vertical-align: middle;'></progress>\n",
       "      [ 318/2544 00:35 < 04:10, 8.89 it/s, Epoch 1/8]\n",
       "    </div>\n",
       "    <table border=\"1\" class=\"dataframe\">\n",
       "  <thead>\n",
       " <tr style=\"text-align: left;\">\n",
       "      <th>Epoch</th>\n",
       "      <th>Training Loss</th>\n",
       "      <th>Validation Loss</th>\n",
       "      <th>Accuracy</th>\n",
       "    </tr>\n",
       "  </thead>\n",
       "  <tbody>\n",
       "    <tr>\n",
       "      <td>1</td>\n",
       "      <td>0.460500</td>\n",
       "      <td>0.236437</td>\n",
       "      <td>0.624516</td>\n",
       "    </tr>\n",
       "  </tbody>\n",
       "</table><p>"
      ],
      "text/plain": [
       "<IPython.core.display.HTML object>"
      ]
     },
     "metadata": {},
     "output_type": "display_data"
    },
    {
     "name": "stderr",
     "output_type": "stream",
     "text": [
      "[I 2024-03-25 22:08:16,512] Trial 12 pruned. \n",
      "/home/restful3/anaconda3/envs/trading/lib/python3.9/site-packages/transformers/optimization.py:411: FutureWarning: This implementation of AdamW is deprecated and will be removed in a future version. Use the PyTorch implementation torch.optim.AdamW instead, or set `no_deprecation_warning=True` to disable this warning\n",
      "  warnings.warn(\n"
     ]
    },
    {
     "data": {
      "text/html": [
       "\n",
       "    <div>\n",
       "      \n",
       "      <progress value='318' max='3180' style='width:300px; height:20px; vertical-align: middle;'></progress>\n",
       "      [ 318/3180 00:35 < 05:21, 8.89 it/s, Epoch 1/10]\n",
       "    </div>\n",
       "    <table border=\"1\" class=\"dataframe\">\n",
       "  <thead>\n",
       " <tr style=\"text-align: left;\">\n",
       "      <th>Epoch</th>\n",
       "      <th>Training Loss</th>\n",
       "      <th>Validation Loss</th>\n",
       "      <th>Accuracy</th>\n",
       "    </tr>\n",
       "  </thead>\n",
       "  <tbody>\n",
       "    <tr>\n",
       "      <td>1</td>\n",
       "      <td>0.438000</td>\n",
       "      <td>0.222454</td>\n",
       "      <td>0.621290</td>\n",
       "    </tr>\n",
       "  </tbody>\n",
       "</table><p>"
      ],
      "text/plain": [
       "<IPython.core.display.HTML object>"
      ]
     },
     "metadata": {},
     "output_type": "display_data"
    },
    {
     "name": "stderr",
     "output_type": "stream",
     "text": [
      "[I 2024-03-25 22:08:52,526] Trial 13 pruned. \n",
      "/home/restful3/anaconda3/envs/trading/lib/python3.9/site-packages/transformers/optimization.py:411: FutureWarning: This implementation of AdamW is deprecated and will be removed in a future version. Use the PyTorch implementation torch.optim.AdamW instead, or set `no_deprecation_warning=True` to disable this warning\n",
      "  warnings.warn(\n"
     ]
    },
    {
     "data": {
      "text/html": [
       "\n",
       "    <div>\n",
       "      \n",
       "      <progress value='318' max='1908' style='width:300px; height:20px; vertical-align: middle;'></progress>\n",
       "      [ 318/1908 00:35 < 02:58, 8.89 it/s, Epoch 1/6]\n",
       "    </div>\n",
       "    <table border=\"1\" class=\"dataframe\">\n",
       "  <thead>\n",
       " <tr style=\"text-align: left;\">\n",
       "      <th>Epoch</th>\n",
       "      <th>Training Loss</th>\n",
       "      <th>Validation Loss</th>\n",
       "      <th>Accuracy</th>\n",
       "    </tr>\n",
       "  </thead>\n",
       "  <tbody>\n",
       "    <tr>\n",
       "      <td>1</td>\n",
       "      <td>0.418400</td>\n",
       "      <td>0.218300</td>\n",
       "      <td>0.595806</td>\n",
       "    </tr>\n",
       "  </tbody>\n",
       "</table><p>"
      ],
      "text/plain": [
       "<IPython.core.display.HTML object>"
      ]
     },
     "metadata": {},
     "output_type": "display_data"
    },
    {
     "name": "stderr",
     "output_type": "stream",
     "text": [
      "[I 2024-03-25 22:09:28,548] Trial 14 pruned. \n",
      "/home/restful3/anaconda3/envs/trading/lib/python3.9/site-packages/transformers/optimization.py:411: FutureWarning: This implementation of AdamW is deprecated and will be removed in a future version. Use the PyTorch implementation torch.optim.AdamW instead, or set `no_deprecation_warning=True` to disable this warning\n",
      "  warnings.warn(\n"
     ]
    },
    {
     "data": {
      "text/html": [
       "\n",
       "    <div>\n",
       "      \n",
       "      <progress value='636' max='2544' style='width:300px; height:20px; vertical-align: middle;'></progress>\n",
       "      [ 636/2544 01:11 < 03:33, 8.93 it/s, Epoch 2/8]\n",
       "    </div>\n",
       "    <table border=\"1\" class=\"dataframe\">\n",
       "  <thead>\n",
       " <tr style=\"text-align: left;\">\n",
       "      <th>Epoch</th>\n",
       "      <th>Training Loss</th>\n",
       "      <th>Validation Loss</th>\n",
       "      <th>Accuracy</th>\n",
       "    </tr>\n",
       "  </thead>\n",
       "  <tbody>\n",
       "    <tr>\n",
       "      <td>1</td>\n",
       "      <td>0.497400</td>\n",
       "      <td>0.255802</td>\n",
       "      <td>0.634194</td>\n",
       "    </tr>\n",
       "    <tr>\n",
       "      <td>2</td>\n",
       "      <td>0.209300</td>\n",
       "      <td>0.114828</td>\n",
       "      <td>0.839032</td>\n",
       "    </tr>\n",
       "  </tbody>\n",
       "</table><p>"
      ],
      "text/plain": [
       "<IPython.core.display.HTML object>"
      ]
     },
     "metadata": {},
     "output_type": "display_data"
    },
    {
     "name": "stderr",
     "output_type": "stream",
     "text": [
      "[I 2024-03-25 22:10:40,050] Trial 15 pruned. \n",
      "/home/restful3/anaconda3/envs/trading/lib/python3.9/site-packages/transformers/optimization.py:411: FutureWarning: This implementation of AdamW is deprecated and will be removed in a future version. Use the PyTorch implementation torch.optim.AdamW instead, or set `no_deprecation_warning=True` to disable this warning\n",
      "  warnings.warn(\n"
     ]
    },
    {
     "data": {
      "text/html": [
       "\n",
       "    <div>\n",
       "      \n",
       "      <progress value='318' max='2862' style='width:300px; height:20px; vertical-align: middle;'></progress>\n",
       "      [ 318/2862 00:35 < 04:46, 8.89 it/s, Epoch 1/9]\n",
       "    </div>\n",
       "    <table border=\"1\" class=\"dataframe\">\n",
       "  <thead>\n",
       " <tr style=\"text-align: left;\">\n",
       "      <th>Epoch</th>\n",
       "      <th>Training Loss</th>\n",
       "      <th>Validation Loss</th>\n",
       "      <th>Accuracy</th>\n",
       "    </tr>\n",
       "  </thead>\n",
       "  <tbody>\n",
       "    <tr>\n",
       "      <td>1</td>\n",
       "      <td>0.425000</td>\n",
       "      <td>0.216899</td>\n",
       "      <td>0.610323</td>\n",
       "    </tr>\n",
       "  </tbody>\n",
       "</table><p>"
      ],
      "text/plain": [
       "<IPython.core.display.HTML object>"
      ]
     },
     "metadata": {},
     "output_type": "display_data"
    },
    {
     "name": "stderr",
     "output_type": "stream",
     "text": [
      "[I 2024-03-25 22:11:16,058] Trial 16 pruned. \n",
      "/home/restful3/anaconda3/envs/trading/lib/python3.9/site-packages/transformers/optimization.py:411: FutureWarning: This implementation of AdamW is deprecated and will be removed in a future version. Use the PyTorch implementation torch.optim.AdamW instead, or set `no_deprecation_warning=True` to disable this warning\n",
      "  warnings.warn(\n"
     ]
    },
    {
     "data": {
      "text/html": [
       "\n",
       "    <div>\n",
       "      \n",
       "      <progress value='2226' max='2226' style='width:300px; height:20px; vertical-align: middle;'></progress>\n",
       "      [2226/2226 04:08, Epoch 7/7]\n",
       "    </div>\n",
       "    <table border=\"1\" class=\"dataframe\">\n",
       "  <thead>\n",
       " <tr style=\"text-align: left;\">\n",
       "      <th>Epoch</th>\n",
       "      <th>Training Loss</th>\n",
       "      <th>Validation Loss</th>\n",
       "      <th>Accuracy</th>\n",
       "    </tr>\n",
       "  </thead>\n",
       "  <tbody>\n",
       "    <tr>\n",
       "      <td>1</td>\n",
       "      <td>0.805400</td>\n",
       "      <td>0.417365</td>\n",
       "      <td>0.662258</td>\n",
       "    </tr>\n",
       "    <tr>\n",
       "      <td>2</td>\n",
       "      <td>0.321600</td>\n",
       "      <td>0.154235</td>\n",
       "      <td>0.843871</td>\n",
       "    </tr>\n",
       "    <tr>\n",
       "      <td>3</td>\n",
       "      <td>0.154300</td>\n",
       "      <td>0.080275</td>\n",
       "      <td>0.895484</td>\n",
       "    </tr>\n",
       "    <tr>\n",
       "      <td>4</td>\n",
       "      <td>0.100700</td>\n",
       "      <td>0.057329</td>\n",
       "      <td>0.913226</td>\n",
       "    </tr>\n",
       "    <tr>\n",
       "      <td>5</td>\n",
       "      <td>0.080300</td>\n",
       "      <td>0.048708</td>\n",
       "      <td>0.919032</td>\n",
       "    </tr>\n",
       "    <tr>\n",
       "      <td>6</td>\n",
       "      <td>0.070600</td>\n",
       "      <td>0.044542</td>\n",
       "      <td>0.921613</td>\n",
       "    </tr>\n",
       "    <tr>\n",
       "      <td>7</td>\n",
       "      <td>0.066300</td>\n",
       "      <td>0.043218</td>\n",
       "      <td>0.921613</td>\n",
       "    </tr>\n",
       "  </tbody>\n",
       "</table><p>"
      ],
      "text/plain": [
       "<IPython.core.display.HTML object>"
      ]
     },
     "metadata": {},
     "output_type": "display_data"
    },
    {
     "name": "stderr",
     "output_type": "stream",
     "text": [
      "[I 2024-03-25 22:15:25,217] Trial 17 pruned. \n",
      "/home/restful3/anaconda3/envs/trading/lib/python3.9/site-packages/transformers/optimization.py:411: FutureWarning: This implementation of AdamW is deprecated and will be removed in a future version. Use the PyTorch implementation torch.optim.AdamW instead, or set `no_deprecation_warning=True` to disable this warning\n",
      "  warnings.warn(\n"
     ]
    },
    {
     "data": {
      "text/html": [
       "\n",
       "    <div>\n",
       "      \n",
       "      <progress value='318' max='1590' style='width:300px; height:20px; vertical-align: middle;'></progress>\n",
       "      [ 318/1590 00:35 < 02:23, 8.89 it/s, Epoch 1/5]\n",
       "    </div>\n",
       "    <table border=\"1\" class=\"dataframe\">\n",
       "  <thead>\n",
       " <tr style=\"text-align: left;\">\n",
       "      <th>Epoch</th>\n",
       "      <th>Training Loss</th>\n",
       "      <th>Validation Loss</th>\n",
       "      <th>Accuracy</th>\n",
       "    </tr>\n",
       "  </thead>\n",
       "  <tbody>\n",
       "    <tr>\n",
       "      <td>1</td>\n",
       "      <td>0.389100</td>\n",
       "      <td>0.205186</td>\n",
       "      <td>0.576452</td>\n",
       "    </tr>\n",
       "  </tbody>\n",
       "</table><p>"
      ],
      "text/plain": [
       "<IPython.core.display.HTML object>"
      ]
     },
     "metadata": {},
     "output_type": "display_data"
    },
    {
     "name": "stderr",
     "output_type": "stream",
     "text": [
      "[I 2024-03-25 22:16:01,255] Trial 18 pruned. \n",
      "/home/restful3/anaconda3/envs/trading/lib/python3.9/site-packages/transformers/optimization.py:411: FutureWarning: This implementation of AdamW is deprecated and will be removed in a future version. Use the PyTorch implementation torch.optim.AdamW instead, or set `no_deprecation_warning=True` to disable this warning\n",
      "  warnings.warn(\n"
     ]
    },
    {
     "data": {
      "text/html": [
       "\n",
       "    <div>\n",
       "      \n",
       "      <progress value='318' max='3180' style='width:300px; height:20px; vertical-align: middle;'></progress>\n",
       "      [ 318/3180 00:35 < 05:21, 8.89 it/s, Epoch 1/10]\n",
       "    </div>\n",
       "    <table border=\"1\" class=\"dataframe\">\n",
       "  <thead>\n",
       " <tr style=\"text-align: left;\">\n",
       "      <th>Epoch</th>\n",
       "      <th>Training Loss</th>\n",
       "      <th>Validation Loss</th>\n",
       "      <th>Accuracy</th>\n",
       "    </tr>\n",
       "  </thead>\n",
       "  <tbody>\n",
       "    <tr>\n",
       "      <td>1</td>\n",
       "      <td>0.408400</td>\n",
       "      <td>0.207533</td>\n",
       "      <td>0.608710</td>\n",
       "    </tr>\n",
       "  </tbody>\n",
       "</table><p>"
      ],
      "text/plain": [
       "<IPython.core.display.HTML object>"
      ]
     },
     "metadata": {},
     "output_type": "display_data"
    },
    {
     "name": "stderr",
     "output_type": "stream",
     "text": [
      "[I 2024-03-25 22:16:37,260] Trial 19 pruned. \n"
     ]
    }
   ],
   "source": [
    "best_run = distilbert_trainer.hyperparameter_search(\n",
    "    n_trials=20, direction='maximize', hp_space=hp_space)"
   ]
  },
  {
   "cell_type": "code",
   "execution_count": 71,
   "id": "7f2ae5de",
   "metadata": {},
   "outputs": [
    {
     "name": "stdout",
     "output_type": "stream",
     "text": [
      "BestRun(run_id='4', objective=0.9335483870967742, hyperparameters={'num_train_epochs': 10, 'alpha': 0.4379673374479123, 'temperature': 2}, run_summary=None)\n"
     ]
    }
   ],
   "source": [
    "print(best_run)"
   ]
  },
  {
   "cell_type": "code",
   "execution_count": 72,
   "id": "6deed9e4",
   "metadata": {},
   "outputs": [
    {
     "name": "stderr",
     "output_type": "stream",
     "text": [
      "/home/restful3/anaconda3/envs/trading/lib/python3.9/site-packages/huggingface_hub/utils/_deprecation.py:131: FutureWarning: 'Repository' (from 'huggingface_hub.repository') is deprecated and will be removed from version '1.0'. Please prefer the http-based alternatives instead. Given its large adoption in legacy code, the complete removal is only planned on next major release.\n",
      "For more details, please read https://huggingface.co/docs/huggingface_hub/concepts/git_vs_http.\n",
      "  warnings.warn(warning_message, FutureWarning)\n",
      "Cloning https://huggingface.co/restful3/distilbert-base-uncased-distilled-clinc into local empty directory.\n",
      "/home/restful3/anaconda3/envs/trading/lib/python3.9/site-packages/transformers/optimization.py:411: FutureWarning: This implementation of AdamW is deprecated and will be removed in a future version. Use the PyTorch implementation torch.optim.AdamW instead, or set `no_deprecation_warning=True` to disable this warning\n",
      "  warnings.warn(\n"
     ]
    },
    {
     "data": {
      "text/html": [
       "\n",
       "    <div>\n",
       "      \n",
       "      <progress value='3180' max='3180' style='width:300px; height:20px; vertical-align: middle;'></progress>\n",
       "      [3180/3180 05:55, Epoch 10/10]\n",
       "    </div>\n",
       "    <table border=\"1\" class=\"dataframe\">\n",
       "  <thead>\n",
       " <tr style=\"text-align: left;\">\n",
       "      <th>Epoch</th>\n",
       "      <th>Training Loss</th>\n",
       "      <th>Validation Loss</th>\n",
       "      <th>Accuracy</th>\n",
       "    </tr>\n",
       "  </thead>\n",
       "  <tbody>\n",
       "    <tr>\n",
       "      <td>1</td>\n",
       "      <td>2.330300</td>\n",
       "      <td>1.659390</td>\n",
       "      <td>0.743871</td>\n",
       "    </tr>\n",
       "    <tr>\n",
       "      <td>2</td>\n",
       "      <td>1.282400</td>\n",
       "      <td>0.839041</td>\n",
       "      <td>0.860645</td>\n",
       "    </tr>\n",
       "    <tr>\n",
       "      <td>3</td>\n",
       "      <td>0.675400</td>\n",
       "      <td>0.489782</td>\n",
       "      <td>0.912581</td>\n",
       "    </tr>\n",
       "    <tr>\n",
       "      <td>4</td>\n",
       "      <td>0.414300</td>\n",
       "      <td>0.363714</td>\n",
       "      <td>0.934194</td>\n",
       "    </tr>\n",
       "    <tr>\n",
       "      <td>5</td>\n",
       "      <td>0.306900</td>\n",
       "      <td>0.318001</td>\n",
       "      <td>0.944516</td>\n",
       "    </tr>\n",
       "    <tr>\n",
       "      <td>6</td>\n",
       "      <td>0.259400</td>\n",
       "      <td>0.297421</td>\n",
       "      <td>0.945161</td>\n",
       "    </tr>\n",
       "    <tr>\n",
       "      <td>7</td>\n",
       "      <td>0.235900</td>\n",
       "      <td>0.286994</td>\n",
       "      <td>0.945806</td>\n",
       "    </tr>\n",
       "    <tr>\n",
       "      <td>8</td>\n",
       "      <td>0.223600</td>\n",
       "      <td>0.282479</td>\n",
       "      <td>0.946129</td>\n",
       "    </tr>\n",
       "    <tr>\n",
       "      <td>9</td>\n",
       "      <td>0.217500</td>\n",
       "      <td>0.279648</td>\n",
       "      <td>0.947097</td>\n",
       "    </tr>\n",
       "    <tr>\n",
       "      <td>10</td>\n",
       "      <td>0.213800</td>\n",
       "      <td>0.278504</td>\n",
       "      <td>0.947742</td>\n",
       "    </tr>\n",
       "  </tbody>\n",
       "</table><p>"
      ],
      "text/plain": [
       "<IPython.core.display.HTML object>"
      ]
     },
     "metadata": {},
     "output_type": "display_data"
    }
   ],
   "source": [
    "for k,v in best_run.hyperparameters.items():\n",
    "    setattr(student_training_args, k, v)\n",
    "\n",
    "# 정제된 모델을 저장할 새로운 저장소를 정의합니다\n",
    "distilled_ckpt = \"distilbert-base-uncased-distilled-clinc\"\n",
    "student_training_args.output_dir = distilled_ckpt\n",
    "\n",
    "# 최적의 매개변수로 새로운 Trainer를 만듭니다\n",
    "distil_trainer = DistillationTrainer(model_init=student_init,\n",
    "    teacher_model=teacher_model, args=student_training_args,\n",
    "    train_dataset=clinc_enc['train'], eval_dataset=clinc_enc['validation'],\n",
    "    compute_metrics=compute_metrics, tokenizer=student_tokenizer)\n",
    "\n",
    "distil_trainer.train();"
   ]
  },
  {
   "cell_type": "code",
   "execution_count": 73,
   "id": "81e4e23c",
   "metadata": {},
   "outputs": [
    {
     "data": {
      "application/vnd.jupyter.widget-view+json": {
       "model_id": "596618a236944af3ae16589de7120897",
       "version_major": 2,
       "version_minor": 0
      },
      "text/plain": [
       "Upload file pytorch_model.bin:   0%|          | 1.00/256M [00:00<?, ?B/s]"
      ]
     },
     "metadata": {},
     "output_type": "display_data"
    },
    {
     "data": {
      "application/vnd.jupyter.widget-view+json": {
       "model_id": "78fa264363154f87b5dcd07373f1d9f0",
       "version_major": 2,
       "version_minor": 0
      },
      "text/plain": [
       "Upload file training_args.bin:   0%|          | 1.00/4.37k [00:00<?, ?B/s]"
      ]
     },
     "metadata": {},
     "output_type": "display_data"
    },
    {
     "name": "stderr",
     "output_type": "stream",
     "text": [
      "To https://huggingface.co/restful3/distilbert-base-uncased-distilled-clinc\n",
      "   922d08a..a4ec160  main -> main\n",
      "\n",
      "To https://huggingface.co/restful3/distilbert-base-uncased-distilled-clinc\n",
      "   a4ec160..5146ef0  main -> main\n",
      "\n"
     ]
    },
    {
     "data": {
      "text/plain": [
       "'https://huggingface.co/restful3/distilbert-base-uncased-distilled-clinc/commit/a4ec160a832b06ae3c5cebff872f0b6a805498c0'"
      ]
     },
     "execution_count": 73,
     "metadata": {},
     "output_type": "execute_result"
    }
   ],
   "source": [
    "distil_trainer.push_to_hub(\"Training complete\")"
   ]
  },
  {
   "cell_type": "markdown",
   "id": "bd511292",
   "metadata": {},
   "source": [
    "### 정제 모델 벤치마크 수행하기"
   ]
  },
  {
   "cell_type": "code",
   "execution_count": 74,
   "id": "15bf94d5",
   "metadata": {},
   "outputs": [
    {
     "data": {
      "application/vnd.jupyter.widget-view+json": {
       "model_id": "145d4f8509c4487b8a0fa422da0d4733",
       "version_major": 2,
       "version_minor": 0
      },
      "text/plain": [
       "config.json:   0%|          | 0.00/8.21k [00:00<?, ?B/s]"
      ]
     },
     "metadata": {},
     "output_type": "display_data"
    },
    {
     "data": {
      "application/vnd.jupyter.widget-view+json": {
       "model_id": "5f970873040e4b8bbb1dc0074454fb7d",
       "version_major": 2,
       "version_minor": 0
      },
      "text/plain": [
       "pytorch_model.bin:   0%|          | 0.00/268M [00:00<?, ?B/s]"
      ]
     },
     "metadata": {},
     "output_type": "display_data"
    },
    {
     "data": {
      "application/vnd.jupyter.widget-view+json": {
       "model_id": "7e2dae646b31468daa93ed7292c6acb0",
       "version_major": 2,
       "version_minor": 0
      },
      "text/plain": [
       "tokenizer_config.json:   0%|          | 0.00/320 [00:00<?, ?B/s]"
      ]
     },
     "metadata": {},
     "output_type": "display_data"
    },
    {
     "data": {
      "application/vnd.jupyter.widget-view+json": {
       "model_id": "bcd7dd59c81a415784da4ae159f0c312",
       "version_major": 2,
       "version_minor": 0
      },
      "text/plain": [
       "vocab.txt:   0%|          | 0.00/232k [00:00<?, ?B/s]"
      ]
     },
     "metadata": {},
     "output_type": "display_data"
    },
    {
     "data": {
      "application/vnd.jupyter.widget-view+json": {
       "model_id": "956f305b24a14418884d27b3d9d2511c",
       "version_major": 2,
       "version_minor": 0
      },
      "text/plain": [
       "tokenizer.json:   0%|          | 0.00/711k [00:00<?, ?B/s]"
      ]
     },
     "metadata": {},
     "output_type": "display_data"
    },
    {
     "data": {
      "application/vnd.jupyter.widget-view+json": {
       "model_id": "e5bd0df9206c40188ddf86e97aadfbe2",
       "version_major": 2,
       "version_minor": 0
      },
      "text/plain": [
       "special_tokens_map.json:   0%|          | 0.00/125 [00:00<?, ?B/s]"
      ]
     },
     "metadata": {},
     "output_type": "display_data"
    },
    {
     "name": "stdout",
     "output_type": "stream",
     "text": [
      "모델 크기 (MB) - 255.88\n",
      "평균 레이턴시 (ms) - 7.86 +\\- 1.68\n",
      "테스트 세트 정확도 - 0.877\n"
     ]
    }
   ],
   "source": [
    "# `haesun`를 자신의 허브 사용자 이름으로 바꾸세요.\n",
    "distilled_ckpt = \"restful3/distilbert-base-uncased-distilled-clinc\"\n",
    "pipe = pipeline(\"text-classification\", model=distilled_ckpt)\n",
    "optim_type = \"Distillation\"\n",
    "pb = PerformanceBenchmark(pipe, clinc[\"test\"], optim_type=optim_type)\n",
    "perf_metrics.update(pb.run_benchmark())"
   ]
  },
  {
   "cell_type": "code",
   "execution_count": 75,
   "id": "b3ea13d5",
   "metadata": {},
   "outputs": [
    {
     "data": {
      "image/png": "[encoded data removed]",
      "text/plain": [
       "<Figure size 640x480 with 1 Axes>"
      ]
     },
     "metadata": {},
     "output_type": "display_data"
    }
   ],
   "source": [
    "plot_metrics(perf_metrics, optim_type)"
   ]
  },
  {
   "cell_type": "markdown",
   "id": "99be540c",
   "metadata": {},
   "source": [
    "## 양자화로 모델 속도 높이기"
   ]
  },
  {
   "cell_type": "code",
   "execution_count": 76,
   "id": "ef227798",
   "metadata": {},
   "outputs": [
    {
     "data": {
      "image/png": "[encoded data removed]",
      "text/plain": [
       "<Figure size 640x480 with 1 Axes>"
      ]
     },
     "metadata": {},
     "output_type": "display_data"
    }
   ],
   "source": [
    "import matplotlib.pyplot as plt\n",
    "\n",
    "state_dict = pipe.model.state_dict()\n",
    "weights = state_dict[\"distilbert.transformer.layer.0.attention.out_lin.weight\"]\n",
    "plt.hist(weights.flatten().numpy(), bins=250, range=(-0.3,0.3), edgecolor=\"C0\")\n",
    "plt.show()"
   ]
  },
  {
   "cell_type": "code",
   "execution_count": 77,
   "id": "a2c5c9d5",
   "metadata": {},
   "outputs": [],
   "source": [
    "zero_point = 0\n",
    "scale = (weights.max() - weights.min()) / (127 - (-128))"
   ]
  },
  {
   "cell_type": "code",
   "execution_count": 78,
   "id": "307c10cb",
   "metadata": {},
   "outputs": [
    {
     "data": {
      "text/plain": [
       "tensor([[ -5,  -8,   0,  ...,  -6,  -4,   8],\n",
       "        [  9,   3,   1,  ...,  -4,   7,   0],\n",
       "        [ -9,  -6,   5,  ...,   0,   5,  -4],\n",
       "        ...,\n",
       "        [  6,   0,  12,  ...,   0,   6,  -1],\n",
       "        [  0,  -2, -12,  ...,  12,  -7, -13],\n",
       "        [-13,  -1, -10,  ...,   8,   2,  -2]], dtype=torch.int8)"
      ]
     },
     "execution_count": 78,
     "metadata": {},
     "output_type": "execute_result"
    }
   ],
   "source": [
    "(weights / scale + zero_point).clamp(-128, 127).round().char()"
   ]
  },
  {
   "cell_type": "code",
   "execution_count": 79,
   "id": "5a845036",
   "metadata": {},
   "outputs": [
    {
     "data": {
      "text/plain": [
       "tensor([[ -5,  -8,   0,  ...,  -6,  -4,   8],\n",
       "        [  9,   3,   1,  ...,  -4,   7,   0],\n",
       "        [ -9,  -6,   5,  ...,   0,   5,  -4],\n",
       "        ...,\n",
       "        [  6,   0,  12,  ...,   0,   6,  -1],\n",
       "        [  0,  -2, -12,  ...,  12,  -7, -13],\n",
       "        [-13,  -1, -10,  ...,   8,   2,  -2]], dtype=torch.int8)"
      ]
     },
     "execution_count": 79,
     "metadata": {},
     "output_type": "execute_result"
    }
   ],
   "source": [
    "from torch import quantize_per_tensor\n",
    "\n",
    "dtype = torch.qint8\n",
    "quantized_weights = quantize_per_tensor(weights, scale, zero_point, dtype)\n",
    "quantized_weights.int_repr()"
   ]
  },
  {
   "cell_type": "code",
   "execution_count": 82,
   "id": "2996e111",
   "metadata": {},
   "outputs": [
    {
     "data": {
      "image/png": "[encoded data removed]",
      "text/plain": [
       "<Figure size 640x480 with 2 Axes>"
      ]
     },
     "metadata": {},
     "output_type": "display_data"
    }
   ],
   "source": [
    "# 트랜스포머 가중치에서 양자화 효과\n",
    "from mpl_toolkits.axes_grid1.inset_locator import zoomed_inset_axes,mark_inset\n",
    "\n",
    "# 히스토그램 그리기\n",
    "fig, ax = plt.subplots()\n",
    "ax.hist(quantized_weights.dequantize().flatten().numpy(),\n",
    "         bins=250, range=(-0.3,0.3), edgecolor=\"C0\");\n",
    "# 확대 그림 만들기\n",
    "axins = zoomed_inset_axes(ax, 5, loc='upper right')\n",
    "axins.hist(quantized_weights.dequantize().flatten().numpy(),\n",
    "         bins=250, range=(-0.3,0.3));\n",
    "x1, x2, y1, y2 = 0.05, 0.1, 500, 2500\n",
    "axins.set_xlim(x1, x2)\n",
    "axins.set_ylim(y1, y2)\n",
    "axins.axes.xaxis.set_visible(False)\n",
    "axins.axes.yaxis.set_visible(False)\n",
    "mark_inset(ax, axins, loc1=2, loc2=4, fc=\"none\", ec=\"0.5\")\n",
    "plt.show()"
   ]
  },
  {
   "cell_type": "code",
   "execution_count": 83,
   "id": "6b58b673",
   "metadata": {},
   "outputs": [
    {
     "name": "stdout",
     "output_type": "stream",
     "text": [
      "1.34 ms ± 1.78 µs per loop (mean ± std. dev. of 7 runs, 1,000 loops each)\n"
     ]
    }
   ],
   "source": [
    "%%timeit\n",
    "weights @ weights"
   ]
  },
  {
   "cell_type": "code",
   "execution_count": 84,
   "id": "abc4d389",
   "metadata": {},
   "outputs": [],
   "source": [
    "from torch.nn.quantized import QFunctional\n",
    "\n",
    "q_fn = QFunctional()"
   ]
  },
  {
   "cell_type": "code",
   "execution_count": 85,
   "id": "4f62fdc1",
   "metadata": {},
   "outputs": [
    {
     "name": "stdout",
     "output_type": "stream",
     "text": [
      "96.2 µs ± 22.1 ns per loop (mean ± std. dev. of 7 runs, 10,000 loops each)\n"
     ]
    }
   ],
   "source": [
    "%%timeit\n",
    "q_fn.mul(quantized_weights, quantized_weights)"
   ]
  },
  {
   "cell_type": "code",
   "execution_count": 86,
   "id": "b36cf931",
   "metadata": {},
   "outputs": [
    {
     "data": {
      "text/plain": [
       "3.999633833760527"
      ]
     },
     "execution_count": 86,
     "metadata": {},
     "output_type": "execute_result"
    }
   ],
   "source": [
    "import sys\n",
    "\n",
    "sys.getsizeof(weights.untyped_storage()) / sys.getsizeof(quantized_weights.untyped_storage())"
   ]
  },
  {
   "cell_type": "code",
   "execution_count": 87,
   "id": "93d47d98",
   "metadata": {},
   "outputs": [],
   "source": [
    "from torch.quantization import quantize_dynamic\n",
    "\n",
    "# `haesun`를 자신의 허브 사용자 이름으로 바꾸세요.\n",
    "model_ckpt = \"restful3/distilbert-base-uncased-distilled-clinc\"\n",
    "tokenizer = AutoTokenizer.from_pretrained(model_ckpt)\n",
    "model = (AutoModelForSequenceClassification\n",
    "         .from_pretrained(model_ckpt).to(\"cpu\"))\n",
    "\n",
    "model_quantized = quantize_dynamic(model, {nn.Linear}, dtype=torch.qint8)"
   ]
  },
  {
   "cell_type": "markdown",
   "id": "d98f174b",
   "metadata": {},
   "source": [
    "### 양자화된 모델의 벤치마크 수행하기"
   ]
  },
  {
   "cell_type": "code",
   "execution_count": 88,
   "id": "bb143385",
   "metadata": {},
   "outputs": [
    {
     "name": "stdout",
     "output_type": "stream",
     "text": [
      "모델 크기 (MB) - 132.39\n",
      "평균 레이턴시 (ms) - 4.37 +\\- 0.51\n",
      "테스트 세트 정확도 - 0.884\n"
     ]
    }
   ],
   "source": [
    "pipe = pipeline(\"text-classification\", model=model_quantized,\n",
    "                tokenizer=tokenizer)\n",
    "optim_type = \"Distillation + quantization\"\n",
    "pb = PerformanceBenchmark(pipe, clinc[\"test\"], optim_type=optim_type)\n",
    "perf_metrics.update(pb.run_benchmark())"
   ]
  },
  {
   "cell_type": "code",
   "execution_count": 89,
   "id": "e72eefba",
   "metadata": {
    "scrolled": false
   },
   "outputs": [
    {
     "data": {
      "image/png": "[encoded data removed]",
      "text/plain": [
       "<Figure size 640x480 with 1 Axes>"
      ]
     },
     "metadata": {},
     "output_type": "display_data"
    }
   ],
   "source": [
    "plot_metrics(perf_metrics, optim_type)"
   ]
  },
  {
   "cell_type": "markdown",
   "id": "6b323a2d",
   "metadata": {},
   "source": [
    "## ONNX와 ONNX 런타임으로 추론 최적화하기"
   ]
  },
  {
   "cell_type": "code",
   "execution_count": 1,
   "id": "c30b2a62",
   "metadata": {},
   "outputs": [],
   "source": [
    "import os\n",
    "from psutil import cpu_count\n",
    "\n",
    "os.environ[\"OMP_NUM_THREADS\"] = f\"{cpu_count()}\"\n",
    "os.environ[\"OMP_WAIT_POLICY\"] = \"ACTIVE\""
   ]
  },
  {
   "cell_type": "code",
   "execution_count": 3,
   "id": "4b87e62d",
   "metadata": {
    "scrolled": true
   },
   "outputs": [
    {
     "name": "stderr",
     "output_type": "stream",
     "text": [
      "/home/restful3/anaconda3/envs/trading/lib/python3.9/site-packages/transformers/convert_graph_to_onnx.py:379: FutureWarning: The `transformers.convert_graph_to_onnx` package is deprecated and will be removed in version 5 of Transformers\n",
      "  warnings.warn(\n"
     ]
    },
    {
     "name": "stdout",
     "output_type": "stream",
     "text": [
      "ONNX opset version set to: 12\n",
      "Loading pipeline (model: restful3/distilbert-base-uncased-distilled-clinc, tokenizer: DistilBertTokenizerFast(name_or_path='restful3/distilbert-base-uncased-distilled-clinc', vocab_size=30522, model_max_length=512, is_fast=True, padding_side='right', truncation_side='right', special_tokens={'unk_token': '[UNK]', 'sep_token': '[SEP]', 'pad_token': '[PAD]', 'cls_token': '[CLS]', 'mask_token': '[MASK]'}, clean_up_tokenization_spaces=True))\n"
     ]
    },
    {
     "name": "stderr",
     "output_type": "stream",
     "text": [
      "WARNING[XFORMERS]: xFormers can't load C++/CUDA extensions. xFormers was built for:\n",
      "    PyTorch 2.2.1+cu121 with CUDA 1201 (you have 2.2.1)\n",
      "    Python  3.9.18 (you have 3.9.18)\n",
      "  Please reinstall xformers (see https://github.com/facebookresearch/xformers#installing-xformers)\n",
      "  Memory-efficient attention, SwiGLU, sparse and more won't be available.\n",
      "  Set XFORMERS_MORE_DETAILS=1 for more details\n"
     ]
    },
    {
     "name": "stdout",
     "output_type": "stream",
     "text": [
      "Using framework PyTorch: 2.2.1\n",
      "Found input input_ids with shape: {0: 'batch', 1: 'sequence'}\n",
      "Found input attention_mask with shape: {0: 'batch', 1: 'sequence'}\n",
      "Found output output_0 with shape: {0: 'batch'}\n",
      "Ensuring inputs are in correct order\n",
      "head_mask is not present in the generated input list.\n",
      "Generated inputs order: ['input_ids', 'attention_mask']\n"
     ]
    },
    {
     "name": "stderr",
     "output_type": "stream",
     "text": [
      "/home/restful3/anaconda3/envs/trading/lib/python3.9/site-packages/transformers/models/distilbert/modeling_distilbert.py:223: TracerWarning: torch.tensor results are registered as constants in the trace. You can safely ignore this warning if you use this function to create tensors out of constant variables that would be the same every time you call this function. In any other case, this might cause the trace to be incorrect.\n",
      "  mask, torch.tensor(torch.finfo(scores.dtype).min)\n"
     ]
    }
   ],
   "source": [
    "from transformers.convert_graph_to_onnx import convert\n",
    "import torch\n",
    "from pathlib import Path\n",
    "from transformers import AutoTokenizer\n",
    "\n",
    "\n",
    "# `haesun`를 자신의 허브 사용자 이름으로 바꾸세요.\n",
    "model_ckpt = \"restful3/distilbert-base-uncased-distilled-clinc\"\n",
    "onnx_model_path = Path(\"onnx/model.onnx\")\n",
    "tokenizer = AutoTokenizer.from_pretrained(model_ckpt)\n",
    "\n",
    "convert(framework=\"pt\", model=model_ckpt, tokenizer=tokenizer,\n",
    "        output=onnx_model_path, opset=12, pipeline_name=\"text-classification\")"
   ]
  },
  {
   "cell_type": "code",
   "execution_count": 6,
   "id": "8ca13e34",
   "metadata": {},
   "outputs": [],
   "source": [
    "from onnxruntime import (GraphOptimizationLevel, InferenceSession,\n",
    "                         SessionOptions)\n",
    "\n",
    "def create_model_for_provider(model_path, provider=\"CPUExecutionProvider\"):\n",
    "    options = SessionOptions()\n",
    "    options.intra_op_num_threads = 1\n",
    "    options.graph_optimization_level = GraphOptimizationLevel.ORT_ENABLE_ALL\n",
    "    session = InferenceSession(str(model_path), options, providers=[provider])\n",
    "    session.disable_fallback()\n",
    "    return session"
   ]
  },
  {
   "cell_type": "code",
   "execution_count": 7,
   "id": "361c7354",
   "metadata": {},
   "outputs": [],
   "source": [
    "onnx_model = create_model_for_provider(onnx_model_path)"
   ]
  },
  {
   "cell_type": "code",
   "execution_count": 30,
   "id": "9c83146d",
   "metadata": {},
   "outputs": [
    {
     "data": {
      "text/plain": [
       "(1, 151)"
      ]
     },
     "execution_count": 30,
     "metadata": {},
     "output_type": "execute_result"
    }
   ],
   "source": [
    "inputs = clinc_enc[\"test\"][:1]\n",
    "del inputs[\"labels\"]\n",
    "logits_onnx = onnx_model.run(None, inputs)[0]\n",
    "logits_onnx.shape"
   ]
  },
  {
   "cell_type": "code",
   "execution_count": 31,
   "id": "bece1958",
   "metadata": {},
   "outputs": [
    {
     "data": {
      "text/plain": [
       "61"
      ]
     },
     "execution_count": 31,
     "metadata": {},
     "output_type": "execute_result"
    }
   ],
   "source": [
    "np.argmax(logits_onnx)"
   ]
  },
  {
   "cell_type": "code",
   "execution_count": 32,
   "id": "c4e3b597",
   "metadata": {},
   "outputs": [
    {
     "data": {
      "text/plain": [
       "61"
      ]
     },
     "execution_count": 32,
     "metadata": {},
     "output_type": "execute_result"
    }
   ],
   "source": [
    "clinc_enc[\"test\"][0][\"labels\"]"
   ]
  },
  {
   "cell_type": "code",
   "execution_count": 33,
   "id": "4d3be31b",
   "metadata": {},
   "outputs": [],
   "source": [
    "from scipy.special import softmax\n",
    "\n",
    "class OnnxPipeline:\n",
    "    def __init__(self, model, tokenizer):\n",
    "        self.model = model\n",
    "        self.tokenizer = tokenizer\n",
    "\n",
    "    def __call__(self, query):\n",
    "        model_inputs = self.tokenizer(query, return_tensors=\"pt\")\n",
    "        inputs_onnx = {k: v.cpu().detach().numpy()\n",
    "                       for k, v in model_inputs.items()}\n",
    "        logits = self.model.run(None, inputs_onnx)[0][0, :]\n",
    "        probs = softmax(logits)\n",
    "        pred_idx = np.argmax(probs).item()\n",
    "        return [{\"label\": intents.int2str(pred_idx), \"score\": probs[pred_idx]}]"
   ]
  },
  {
   "cell_type": "code",
   "execution_count": 34,
   "id": "80ba00e5",
   "metadata": {},
   "outputs": [
    {
     "data": {
      "text/plain": [
       "[{'label': 'car_rental', 'score': 0.8501304}]"
      ]
     },
     "execution_count": 34,
     "metadata": {},
     "output_type": "execute_result"
    }
   ],
   "source": [
    "pipe = OnnxPipeline(onnx_model, tokenizer)\n",
    "pipe(query)"
   ]
  },
  {
   "cell_type": "code",
   "execution_count": 35,
   "id": "a80f871f",
   "metadata": {},
   "outputs": [],
   "source": [
    "class OnnxPerformanceBenchmark(PerformanceBenchmark):\n",
    "    def __init__(self, *args, model_path, **kwargs):\n",
    "        super().__init__(*args, **kwargs)\n",
    "        self.model_path = model_path\n",
    "\n",
    "    def compute_size(self):\n",
    "        size_mb = Path(self.model_path).stat().st_size / (1024 * 1024)\n",
    "        print(f\"모델 크기 (MB) - {size_mb:.2f}\")\n",
    "        return {\"size_mb\": size_mb}"
   ]
  },
  {
   "cell_type": "code",
   "execution_count": 36,
   "id": "db210219",
   "metadata": {},
   "outputs": [
    {
     "name": "stdout",
     "output_type": "stream",
     "text": [
      "모델 크기 (MB) - 255.98\n",
      "평균 레이턴시 (ms) - 26.05 +\\- 0.05\n",
      "테스트 세트 정확도 - 0.877\n"
     ]
    }
   ],
   "source": [
    "optim_type = \"Distillation + ORT\"\n",
    "pb = OnnxPerformanceBenchmark(pipe, clinc[\"test\"], optim_type,\n",
    "                              model_path=\"onnx/model.onnx\")\n",
    "perf_metrics.update(pb.run_benchmark())"
   ]
  },
  {
   "cell_type": "code",
   "execution_count": null,
   "id": "12751ed7",
   "metadata": {},
   "outputs": [],
   "source": []
  }
 ],
 "metadata": {
  "kernelspec": {
   "display_name": "Python 3 (ipykernel)",
   "language": "python",
   "name": "python3"
  },
  "language_info": {
   "codemirror_mode": {
    "name": "ipython",
    "version": 3
   },
   "file_extension": ".py",
   "mimetype": "text/x-python",
   "name": "python",
   "nbconvert_exporter": "python",
   "pygments_lexer": "ipython3",
   "version": "3.9.18"
  },
  "toc": {
   "base_numbering": 1,
   "nav_menu": {},
   "number_sections": true,
   "sideBar": true,
   "skip_h1_title": false,
   "title_cell": "Table of Contents",
   "title_sidebar": "Contents",
   "toc_cell": false,
   "toc_position": {},
   "toc_section_display": true,
   "toc_window_display": false
  }
 },
 "nbformat": 4,
 "nbformat_minor": 5
}
