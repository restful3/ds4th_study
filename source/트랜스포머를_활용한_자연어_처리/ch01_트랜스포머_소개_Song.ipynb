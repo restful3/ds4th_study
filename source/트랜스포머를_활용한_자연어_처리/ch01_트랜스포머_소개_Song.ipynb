{
 "cells": [
  {
   "cell_type": "markdown",
   "id": "4ce8ec9b",
   "metadata": {},
   "source": [
    "# 개요\n",
    "\n",
    "- [Attention is all you need](https://arxiv.org/abs/1706.03762)\n",
    "    - 2017년 구글이 제안한 새로운 신경망 아키텍처(트렌스포머)를 소개한 논문\n",
    "    - 트랜스포머는 RNN을 능가 함\n",
    "- [ULMFit: Universal Language Model Fine-tuning for Text Classification](https://arxiv.org/abs/1801.06146)\n",
    "    - 효율적인 전이학습    \n",
    "    - 매우 큰 말뭉치에서 LSTM을 사용, 적은 양의 레이블로도 최고 수준의 텍스트 분류 모델 생성 가능 입증\n",
    "- GPT(Generative Pretrained Transformer)과 BERT(Bidirectional Encoder Representations form Transformer)\n",
    "    - 트렌스포머 아키텍처와 비지도학습을 결합\n",
    "    - 작업에 특화된 모델을 밑바닥부터 훈련 시킬 필요 없앰\n",
    "    - 거의 모든 NLP 벤치마크에서 큰 차이로 기록 갱신\n",
    "    \n",
    "*그림 1-1 트렌스포머 모델의 타임라인*\n",
    "<img src=\"./nlp-with-transformers-main/images/chapter01_timeline.png\" width=500>"
   ]
  },
  {
   "cell_type": "markdown",
   "id": "7bf48888",
   "metadata": {},
   "source": [
    "# 인코더-디코더 프레임워크\n",
    "\n",
    "*그림 1-2 : 시간의 축을 따라 펼친 RNN*\n",
    "<img src=\"./nlp-with-transformers-main/images/chapter01_rnn.png\" width=500>\n",
    "\n",
    "- RNN 시대\n",
    "    - 트랜스포머 이전은 LSTM과 같은 순환 신경망 구조가 NLP에서 최고 수준의 성능 달성\n",
    "    - 순환신경망 구조는, 정보를 한 스텝에서 다음 스텝으로 전파 하도록 네트워크에 피드백 루프 포함\n",
    "    - 그림 1-2의 왼쪽을 보면, RNN은 (단어 또는 문자와 같은) 입력을 받아 네트워크를 통과 하여 은닉 상태 라는 벡터 출력\n",
    "    - 출력된 정보를 동시에 피드백 루프로 보내 자기 자신에게도 입력\n",
    "    - 그림 1-2의 오른쪽은, 피드벡 루프를 시간 축에 따라 펼친 것 도식화 \n",
    "\n",
    "- seq2seq\n",
    "    - RNN은 인코더-디코더 구조로 단어 시퀀스를 한 언어에서 다른 언어로 매핑하는 기계 번역에 사용\n",
    "    - 입력과 출력이 임의의 길이를 가진 시퀀스에 적절\n",
    "    - 인코더는 입력 시퀀스 정보를, **마지막 은닉 상태**라고 부르는 수치 표현으로 인코딩 하여 디코더에 전달 \n",
    "    - 인코더의 마지막 은닉 상태가 **정보 병목(information bottlenec)** 이 된다는 약점\n",
    "    - 시퀀스가 긴 경우 모든 것을 고정된 하나의 표현으로 압축 하는 과정에서 입력 시퀀스 초반 정보가 손실될 가능성\n",
    "    - 어텐션으로 모든 인코더의 은닉 정보에 접근 하게 하여 이 문제 해결\n",
    "    \n",
    "*그림 1-3 한 쌍의 RNN으로 구성된 인코더-디코더 구조*\n",
    "<img src=\"./nlp-with-transformers-main/images/chapter01_enc-dec.png\" width=500>"
   ]
  },
  {
   "cell_type": "markdown",
   "id": "8e52c0e0",
   "metadata": {},
   "source": [
    "# 어텐션 메커니즘\n",
    "\n",
    "- 어텐션 기본 개념\n",
    "    - 입력 시퀀스에서 은닉 상태를 만들지 않고\n",
    "    - 스텝마다 인코더에서 디코더가 참고할 은닉 상태를 출력 한다\n",
    "    - 모든 상태를 동시에 사용하려면 디코더에 많은 입력 발생\n",
    "    - 어떤 상태를 먼저 사용할지 우선순위 결정 메커니즘 필요 --> 이것이 어텐션\n",
    "    - 디코더가 모든 디코딩 타임스텝(timestep)마다 인코더의 각 상태에 다른 가중치 ('어텐션')을 할당\n",
    "    - 그림 1-4에, 어텐션은 출력 시퀀스에 있는 두 번째 토큰을 예측 하는 역할\n",
    "*그림 1-4 한 쌍의 RNN과 어텐션 메커니즘으로 구성된 인코더-디코더 구조*\n",
    "<img src=\"./nlp-with-transformers-main/images/chapter01_enc-dec-attn.png\" width=500>\n",
    "\n",
    "- 사례로 보는 어텐션 작동 원리\n",
    "    - 어텐션 기반 모델은 타임스텝마다 가장 많이 관련된 입력 토큰에 초점을 맞춤\n",
    "    - 번역에 활용 가능할 경우, 원 문장과 번역할 문장의 각 단어의 복잡한 상관 관계를 학습\n",
    "    - 그림 1-5는 영어-프랑스어 번역 모델의 어텐션 가중치를 시각화 한 것\n",
    "    - 여기서 각 픽셀은 각각의 가중치를 의미 \n",
    "    - 'zone'과 'Area'를 디코더가 어떻게 올바르게 정렬하는지 보여 줌\n",
    "\n",
    "*그림 1-5 RNN 인코더-디코더에서 영어 단어와 프랑스어 번역 단어의 정렬*\n",
    "<img src=\"./nlp-with-transformers-main/images/chapter01_eng_fr.png\" width=300>\n",
    "\n",
    "- 패러다임을 바꾼 트렌스포머\n",
    "    - 어텐션으로 번역 성능이 올라 갔지만, 여전히 RNN을 사용한 단점 존재\n",
    "    - 계산이 순차적이라, 병렬화 어려움\n",
    "    - RNN 순환을 제거하고 셀프 어텐션(self-attention) 도입\n",
    "    - 신경망의 같은 층에 있는 모든 상태에 대해 어텐션 적용\n",
    "    - 그림 1-6은 인코더-디코더에 셀프 어텐션을 활용한 구조 도식화\n",
    "    - 어텐션 출력은 fead-forward neural network(FF FN)에 주입\n",
    "    - 순환 모델 보다 훨씬 더 바르게 훈련\n",
    "\n",
    "*그림 1-6 원본 트랜스포머의 인코더-디코더 구조*\n",
    "<img src=\"./nlp-with-transformers-main/images/chapter01_self-attention.png\" width=500>"
   ]
  },
  {
   "cell_type": "markdown",
   "id": "c3c049d1",
   "metadata": {},
   "source": [
    "# NLP의 전이학습\n",
    "\n",
    "- 전이학습의 필요성\n",
    "    - NLP 어플리케이션이 모델 훈련에 사용할 대규모 텍스트 데이터는 구하기 어렵다\n",
    "    - 전이 학습을 통해 이 문제를 해결 가능\n",
    "    - 전이 학습 이란, 다양한 작업에서 적은 양의 레이블 데이터로 훨씬 효과적으로 훈련한 높은 품질의 모델을 만드는 것\n",
    "\n",
    "- 전의학습의 원리\n",
    "    - 모델은 body와 header 로 구성 (그림 1-7(오른쪽)\n",
    "    - body의 가중치는 훈련하는 동안 원래의 domain의 다양한 특성 학습\n",
    "    - body의 가중치는 새로운 모델을 위한 초기값으로 사용\n",
    "    - 도메인을 옮겨 적은 수의 레이블 데이터로 학습 진행\n",
    "    - 컴퓨터 비전 분야에서는 높은 성능을 내며 사용 됨\n",
    "\n",
    "*그림 1-7 전통적인 지도 학습(왼쪽)과 전이 학습(오른쪽)의 비교*\n",
    "<img src=\"./nlp-with-transformers-main/images/chapter01_transfer-learning.png\" width=500>\n",
    "\n",
    "- NLP 분야의 전이학습 기술 발달\n",
    "    - 컴퓨터 비전 분야와 다르게 NLP 분야에서는 전이 학습의 성능이 낮음\n",
    "    - OpenAI 연구원들이 감성 분류 작업에 비지도 사전 훈련에서 추출한 특성을 사용해 높은 성능\n",
    "        - [Learning to Generate Reviews and Discovering Sentiment](https://arxiv.org/abs/1704.01444)\n",
    "    - 범용적인 프레임워크 [ULMFiT](https://arxiv.org/abs/1801.06146)가 등장\n",
    "        - 다양한 작업에 사전 훈련된 LSTM 모델 사용\n",
    "\n",
    "- ULMFiT 프로세스\n",
    "    - 그림 1-8과 같이 세 개의 주요 단계로 구성\n",
    "    - **1. 사전 훈련**\n",
    "        - 목표 : 이전 단어를 바탕으로 다음 단어를 예측\n",
    "        - 이를 언어 모델링(language modeling) 이라고 함\n",
    "        - 레이블링된 데이터 불필요 (위키피디아 같은 풍부한 소스 활용)\n",
    "    - **2. 도메인 적용**\n",
    "        - 사전 훈련이 끝난 모델을, 도메인 내 말뭉치에 적응 \n",
    "        - 여전히 동일한 학습(이전 단어로 다음 단어 예측) 방법 이지만 target domain 의 말뭉치 사용\n",
    "    - **3. 미세튜닝**\n",
    "        - 분류 layer 를 사용하여 미세 튜닝 (그림 1-8의 경우 영화 리뷰 감성 분류)\n",
    "\n",
    "*그림 1-8 ULMFiT 프로세스*\n",
    "<img src=\"./nlp-with-transformers-main/images/chapter01_ulmfit.png\" width=500>\n",
    "\n",
    "\n",
    "- **GPT**\n",
    "    - 트랜스포머 아키텍처의 디코더 부분만 사용\n",
    "    - ULMFiT 같은 언어 모델링 방법 사용\n",
    "    - [BookCorpus](https://arxiv.org/abs/1506.06724) 데이터셋 으로 사전 훈련 (7천권의 다양한 장르의 도서)\n",
    "\n",
    "- **BERT**\n",
    "    - 트랜스포머 아키텍처의 인코더 부분만 사용\n",
    "    - masked language modeling 이라는 특별한 형태의 언어 모델링 사용\n",
    "        - 텍스트에서 랜덤하게 masking 된 단어를 예측 하는 것\n",
    "        - 'I looked at my [MASK] and saw that [MASK] was late' 라는 문장에 [MASK] 부분의 단어 예측\n",
    "    - BookCorpus과 위키피디아를 사전 훈련에 사용\n",
    "\n",
    "- 허깅페이스의 등장\n",
    "    - 연구실마다 프레임워크(파이토치, 텐서플로우)를 사용해 서로 호환되지 않는 모델을 릴리즈\n",
    "    - NLP 연구자들이 이런 모델을 사용하기 곤란\n",
    "    - [허깅페이스 트랜스포머스 : Hugging Face Transformers](https://huggingface.co/docs/transformers/index)의 등장\n",
    "    - 단일화된 API 구축 시작"
   ]
  },
  {
   "cell_type": "markdown",
   "id": "1b0ca2fd",
   "metadata": {},
   "source": [
    "# 허깅페이스 트렌스포머스\n",
    "\n",
    "- 새로운 머신러닝 아키텍처를 새로운 작업에 적용하는 단계\n",
    "    - 1. 모델 아키텍처를 코드로 구현, 파이토치, 텐서플로우 사용\n",
    "    - 2. 서버로 부터 사전 훈련된 가중치 다운로드\n",
    "    - 3. 입력을 전처리 하고 모델에 전달, 및 사후 처리\n",
    "    - 4. 데이터로더를 구현, 모델 훈련을 위한 손실 함수와 옵티마이저 정의\n",
    "    \n",
    "- 문제점\n",
    "    - 모델과 작업 내용 별 별도의 사용자 정의 로직 필요\n",
    "    - 공개 되는 코드의 표준화가 되어 있지 않아 수정에 많은 시간 소요\n",
    "\n",
    "- 허깅페이스 트랜스포머스의 특장점\n",
    "    - 매우 다양한 트랜스포머 모델에 표준화된 인터페이스 제공\n",
    "    - 새로운 문제에 모델을 적용하는 코드와 도구 제공\n",
    "        - 파이토치, 텐서플로우, [JAX](https://modulabs.co.kr/blog/what-is-jax-flax/) 대응\n",
    "    - 작업에 맞는 head를 제공하여 미세튜닝 (분류, 개체명 인식, 질의 응답 등) 용이\n",
    "    - 개발 및 훈련, 테스트 등에 시간 단축"
   ]
  },
  {
   "cell_type": "markdown",
   "id": "7c4537cc",
   "metadata": {},
   "source": [
    "# 트랜스포머 애플리케이션 둘러보기\n",
    "- 감정분석 \n",
    "- 온라인 주문에 대한 가짜 피드백 예제\n",
    "    - 한국어 번역 : \n",
    "    > 친애하는 Amazon, 지난 주에 저는 독일에 있는 귀하의 온라인 상점에서 Optimus Prime 액션 피규어를 주문했습니다. 불행하게도, 패키지를 열었을 때 나는 그 대신 메가트론의 액션 피규어를 받았다는 사실을 알고 경악했습니다! 디셉티콘의 평생적인 적으로서 내 딜레마를 이해해 주시기 바랍니다. 이 문제를 해결하기 위해 제가 주문한 옵티머스 프라임 피규어를 메가트론으로 교환해 달라고 요청합니다. 이 구매에 관한 내 기록의 사본이 동봉되어 있습니다. 곧 연락을 기다리겠습니다. 감사합니다, 범블비.\n",
    "    "
   ]
  },
  {
   "cell_type": "code",
   "execution_count": 5,
   "id": "0a363003",
   "metadata": {},
   "outputs": [],
   "source": [
    "text = \"\"\"Dear Amazon, last week I ordered an Optimus Prime action figure from your online store in Germany. \n",
    "Unfortunately, when I opened the ackage, I discovered to my horror that I had been sent an action figure of Megatron instead! \n",
    "As a lifelong enemy of the Decepticons, I hope you can understand my dilemma. \n",
    "To resolve the issue, I demand an exchange of Megatron for the Optimus Prime figure I ordered. \n",
    "Enclosed are copies of my records concerning this purchase. \n",
    "I expect to hear from you soon. Sincerely, Bumblebee.\"\"\""
   ]
  },
  {
   "cell_type": "markdown",
   "id": "77961798",
   "metadata": {},
   "source": [
    "## 텍스트 분류\n",
    "- 파이프라인 사용 모델 다운 로드 및 파인 튜닝\n",
    "    - 원시 텍스트를 미세 튜닝된 모델의 예측으로 변환하기 위한 모든 단계를 추상화\n",
    "    - pipeline() 함수를 호출 하며, 관심이 있는 작업 이름을 전달해 파이프라인 겍체 생성\n",
    "    - 자동으로 [허깅페이스 허브](https://huggingface.co/models) 에서 모델 가중치를 다운 로드\n",
    "    - 한번 다운 받으면, 캐싱된 버전을 사용 함으로 다운 로드를 생략\n",
    "    - 'text-classification' 파이프라인은 감성 분석, 다중 분류, 다중 레이블 분류 지원"
   ]
  },
  {
   "cell_type": "code",
   "execution_count": 6,
   "id": "c125673f",
   "metadata": {},
   "outputs": [
    {
     "name": "stderr",
     "output_type": "stream",
     "text": [
      "No model was supplied, defaulted to distilbert-base-uncased-finetuned-sst-2-english and revision af0f99b (https://huggingface.co/distilbert-base-uncased-finetuned-sst-2-english).\n",
      "Using a pipeline without specifying a model name and revision in production is not recommended.\n"
     ]
    }
   ],
   "source": [
    "from transformers import pipeline\n",
    "\n",
    "classifier = pipeline('text-classification')"
   ]
  },
  {
   "cell_type": "markdown",
   "id": "3f1a732e-5d4c-4e2f-acd7-f1c1760be22a",
   "metadata": {},
   "source": [
    "- 예측 해 보기\n",
    "    - 각 파이프라인은 텍스트 문자열(또는 문자열의 리스트)를 입력으로\n",
    "    - 예측 리스트를 출력으로 반환\n",
    "    - 각 예측은 하나의 파이썬 딕셔너리로 pandas 로 출력 가능\n",
    "    - 아래의 결과는, 텍스트가 부정적으로 확신"
   ]
  },
  {
   "cell_type": "code",
   "execution_count": 7,
   "id": "f348b95b-f476-4ddd-9d7f-890c5efca73d",
   "metadata": {},
   "outputs": [
    {
     "data": {
      "text/html": [
       "<div>\n",
       "<style scoped>\n",
       "    .dataframe tbody tr th:only-of-type {\n",
       "        vertical-align: middle;\n",
       "    }\n",
       "\n",
       "    .dataframe tbody tr th {\n",
       "        vertical-align: top;\n",
       "    }\n",
       "\n",
       "    .dataframe thead th {\n",
       "        text-align: right;\n",
       "    }\n",
       "</style>\n",
       "<table border=\"1\" class=\"dataframe\">\n",
       "  <thead>\n",
       "    <tr style=\"text-align: right;\">\n",
       "      <th></th>\n",
       "      <th>label</th>\n",
       "      <th>score</th>\n",
       "    </tr>\n",
       "  </thead>\n",
       "  <tbody>\n",
       "    <tr>\n",
       "      <th>0</th>\n",
       "      <td>NEGATIVE</td>\n",
       "      <td>0.928078</td>\n",
       "    </tr>\n",
       "  </tbody>\n",
       "</table>\n",
       "</div>"
      ],
      "text/plain": [
       "      label     score\n",
       "0  NEGATIVE  0.928078"
      ]
     },
     "execution_count": 7,
     "metadata": {},
     "output_type": "execute_result"
    }
   ],
   "source": [
    "import pandas as pd\n",
    "\n",
    "outputs = classifier(text)\n",
    "pd.DataFrame(outputs)"
   ]
  },
  {
   "cell_type": "markdown",
   "id": "32136ea3",
   "metadata": {},
   "source": [
    "## 개체명 인식\n",
    "- 개체명(named entity)\n",
    "    - NLP에서 제품, 장소, 사람 같은 실제 객체를 지칭\n",
    "    - 개체명 인식(NER, named entity recognition) : 개체명을 텍스트에서 추출 하는 과정\n",
    "    - aggregation_strategy 로 단어를 그룹화\n",
    "    - ORG(조직), LOC(위치), PER(사람) 과 같은 카테고리에 할당\n",
    "    - score는 얼마나 확신을 하는가\n",
    "    - word 열의 ##은 토크나이저가 생성 "
   ]
  },
  {
   "cell_type": "code",
   "execution_count": 8,
   "id": "846bbadc-98cf-4731-b14e-e2908b646211",
   "metadata": {},
   "outputs": [
    {
     "name": "stderr",
     "output_type": "stream",
     "text": [
      "No model was supplied, defaulted to dbmdz/bert-large-cased-finetuned-conll03-english and revision f2482bf (https://huggingface.co/dbmdz/bert-large-cased-finetuned-conll03-english).\n",
      "Using a pipeline without specifying a model name and revision in production is not recommended.\n"
     ]
    },
    {
     "data": {
      "application/vnd.jupyter.widget-view+json": {
       "model_id": "3a055f0883c24a38ac9185220426087a",
       "version_major": 2,
       "version_minor": 0
      },
      "text/plain": [
       "config.json:   0%|          | 0.00/998 [00:00<?, ?B/s]"
      ]
     },
     "metadata": {},
     "output_type": "display_data"
    },
    {
     "data": {
      "application/vnd.jupyter.widget-view+json": {
       "model_id": "e50c6222fb4d4655b93277dbbd00e16b",
       "version_major": 2,
       "version_minor": 0
      },
      "text/plain": [
       "model.safetensors:   0%|          | 0.00/1.33G [00:00<?, ?B/s]"
      ]
     },
     "metadata": {},
     "output_type": "display_data"
    },
    {
     "name": "stderr",
     "output_type": "stream",
     "text": [
      "Some weights of the model checkpoint at dbmdz/bert-large-cased-finetuned-conll03-english were not used when initializing BertForTokenClassification: ['bert.pooler.dense.bias', 'bert.pooler.dense.weight']\n",
      "- This IS expected if you are initializing BertForTokenClassification from the checkpoint of a model trained on another task or with another architecture (e.g. initializing a BertForSequenceClassification model from a BertForPreTraining model).\n",
      "- This IS NOT expected if you are initializing BertForTokenClassification from the checkpoint of a model that you expect to be exactly identical (initializing a BertForSequenceClassification model from a BertForSequenceClassification model).\n"
     ]
    },
    {
     "data": {
      "application/vnd.jupyter.widget-view+json": {
       "model_id": "4ab14943e7fc45d7a969fc1cc3c0f3b4",
       "version_major": 2,
       "version_minor": 0
      },
      "text/plain": [
       "tokenizer_config.json:   0%|          | 0.00/60.0 [00:00<?, ?B/s]"
      ]
     },
     "metadata": {},
     "output_type": "display_data"
    },
    {
     "data": {
      "application/vnd.jupyter.widget-view+json": {
       "model_id": "ca86ebe292a648ceb5fbcbfcb891abfd",
       "version_major": 2,
       "version_minor": 0
      },
      "text/plain": [
       "vocab.txt:   0%|          | 0.00/213k [00:00<?, ?B/s]"
      ]
     },
     "metadata": {},
     "output_type": "display_data"
    },
    {
     "data": {
      "text/html": [
       "<div>\n",
       "<style scoped>\n",
       "    .dataframe tbody tr th:only-of-type {\n",
       "        vertical-align: middle;\n",
       "    }\n",
       "\n",
       "    .dataframe tbody tr th {\n",
       "        vertical-align: top;\n",
       "    }\n",
       "\n",
       "    .dataframe thead th {\n",
       "        text-align: right;\n",
       "    }\n",
       "</style>\n",
       "<table border=\"1\" class=\"dataframe\">\n",
       "  <thead>\n",
       "    <tr style=\"text-align: right;\">\n",
       "      <th></th>\n",
       "      <th>entity_group</th>\n",
       "      <th>score</th>\n",
       "      <th>word</th>\n",
       "      <th>start</th>\n",
       "      <th>end</th>\n",
       "    </tr>\n",
       "  </thead>\n",
       "  <tbody>\n",
       "    <tr>\n",
       "      <th>0</th>\n",
       "      <td>ORG</td>\n",
       "      <td>0.856558</td>\n",
       "      <td>Amazon</td>\n",
       "      <td>5</td>\n",
       "      <td>11</td>\n",
       "    </tr>\n",
       "    <tr>\n",
       "      <th>1</th>\n",
       "      <td>MISC</td>\n",
       "      <td>0.989654</td>\n",
       "      <td>Optimus Prime</td>\n",
       "      <td>36</td>\n",
       "      <td>49</td>\n",
       "    </tr>\n",
       "    <tr>\n",
       "      <th>2</th>\n",
       "      <td>LOC</td>\n",
       "      <td>0.999747</td>\n",
       "      <td>Germany</td>\n",
       "      <td>90</td>\n",
       "      <td>97</td>\n",
       "    </tr>\n",
       "    <tr>\n",
       "      <th>3</th>\n",
       "      <td>MISC</td>\n",
       "      <td>0.533730</td>\n",
       "      <td>Mega</td>\n",
       "      <td>208</td>\n",
       "      <td>212</td>\n",
       "    </tr>\n",
       "    <tr>\n",
       "      <th>4</th>\n",
       "      <td>PER</td>\n",
       "      <td>0.568252</td>\n",
       "      <td>##tron</td>\n",
       "      <td>212</td>\n",
       "      <td>216</td>\n",
       "    </tr>\n",
       "    <tr>\n",
       "      <th>5</th>\n",
       "      <td>ORG</td>\n",
       "      <td>0.544610</td>\n",
       "      <td>Decept</td>\n",
       "      <td>254</td>\n",
       "      <td>260</td>\n",
       "    </tr>\n",
       "    <tr>\n",
       "      <th>6</th>\n",
       "      <td>MISC</td>\n",
       "      <td>0.543417</td>\n",
       "      <td>##icons</td>\n",
       "      <td>260</td>\n",
       "      <td>265</td>\n",
       "    </tr>\n",
       "    <tr>\n",
       "      <th>7</th>\n",
       "      <td>MISC</td>\n",
       "      <td>0.759125</td>\n",
       "      <td>Megatron</td>\n",
       "      <td>352</td>\n",
       "      <td>360</td>\n",
       "    </tr>\n",
       "    <tr>\n",
       "      <th>8</th>\n",
       "      <td>MISC</td>\n",
       "      <td>0.986541</td>\n",
       "      <td>Optimus Prime</td>\n",
       "      <td>369</td>\n",
       "      <td>382</td>\n",
       "    </tr>\n",
       "    <tr>\n",
       "      <th>9</th>\n",
       "      <td>PER</td>\n",
       "      <td>0.813238</td>\n",
       "      <td>Bumblebee</td>\n",
       "      <td>506</td>\n",
       "      <td>515</td>\n",
       "    </tr>\n",
       "  </tbody>\n",
       "</table>\n",
       "</div>"
      ],
      "text/plain": [
       "  entity_group     score           word  start  end\n",
       "0          ORG  0.856558         Amazon      5   11\n",
       "1         MISC  0.989654  Optimus Prime     36   49\n",
       "2          LOC  0.999747        Germany     90   97\n",
       "3         MISC  0.533730           Mega    208  212\n",
       "4          PER  0.568252         ##tron    212  216\n",
       "5          ORG  0.544610         Decept    254  260\n",
       "6         MISC  0.543417        ##icons    260  265\n",
       "7         MISC  0.759125       Megatron    352  360\n",
       "8         MISC  0.986541  Optimus Prime    369  382\n",
       "9          PER  0.813238      Bumblebee    506  515"
      ]
     },
     "execution_count": 8,
     "metadata": {},
     "output_type": "execute_result"
    }
   ],
   "source": [
    "ner_tagger = pipeline('ner', aggregation_strategy ='simple')\n",
    "outputs = ner_tagger(text)\n",
    "pd.DataFrame(outputs)"
   ]
  },
  {
   "cell_type": "markdown",
   "id": "d3de1061",
   "metadata": {},
   "source": [
    "## 질문 답변\n",
    "- 텍스트 구절과 함께 답을 얻고 싶은 질문을 모델에 전달\n",
    "- 모델은 답변 텍스트를 변환\n",
    "- 추출적 질문 답변 : 답변을 텍스트에서 직접 추출 "
   ]
  },
  {
   "cell_type": "code",
   "execution_count": 10,
   "id": "4ea04d05-da9d-4087-8331-d4266bb8792c",
   "metadata": {},
   "outputs": [
    {
     "name": "stderr",
     "output_type": "stream",
     "text": [
      "No model was supplied, defaulted to distilbert-base-cased-distilled-squad and revision 626af31 (https://huggingface.co/distilbert-base-cased-distilled-squad).\n",
      "Using a pipeline without specifying a model name and revision in production is not recommended.\n"
     ]
    },
    {
     "data": {
      "text/html": [
       "<div>\n",
       "<style scoped>\n",
       "    .dataframe tbody tr th:only-of-type {\n",
       "        vertical-align: middle;\n",
       "    }\n",
       "\n",
       "    .dataframe tbody tr th {\n",
       "        vertical-align: top;\n",
       "    }\n",
       "\n",
       "    .dataframe thead th {\n",
       "        text-align: right;\n",
       "    }\n",
       "</style>\n",
       "<table border=\"1\" class=\"dataframe\">\n",
       "  <thead>\n",
       "    <tr style=\"text-align: right;\">\n",
       "      <th></th>\n",
       "      <th>score</th>\n",
       "      <th>start</th>\n",
       "      <th>end</th>\n",
       "      <th>answer</th>\n",
       "    </tr>\n",
       "  </thead>\n",
       "  <tbody>\n",
       "    <tr>\n",
       "      <th>0</th>\n",
       "      <td>0.579689</td>\n",
       "      <td>337</td>\n",
       "      <td>360</td>\n",
       "      <td>an exchange of Megatron</td>\n",
       "    </tr>\n",
       "  </tbody>\n",
       "</table>\n",
       "</div>"
      ],
      "text/plain": [
       "      score  start  end                   answer\n",
       "0  0.579689    337  360  an exchange of Megatron"
      ]
     },
     "execution_count": 10,
     "metadata": {},
     "output_type": "execute_result"
    }
   ],
   "source": [
    "reader = pipeline('question-answering')\n",
    "question = \"What does the customer want?\"\n",
    "outputs = reader(question=question, context=text)\n",
    "pd.DataFrame([outputs])"
   ]
  },
  {
   "cell_type": "markdown",
   "id": "0c6b0e59",
   "metadata": {},
   "source": [
    "## 요약\n",
    "- 긴 텍스트를 입력으로 받아 관련 사실이 모두 포함된 간단한 버전 생성"
   ]
  },
  {
   "cell_type": "code",
   "execution_count": 11,
   "id": "f9ab3714-f011-496c-a343-fd05bc047988",
   "metadata": {},
   "outputs": [
    {
     "name": "stderr",
     "output_type": "stream",
     "text": [
      "No model was supplied, defaulted to sshleifer/distilbart-cnn-12-6 and revision a4f8f3e (https://huggingface.co/sshleifer/distilbart-cnn-12-6).\n",
      "Using a pipeline without specifying a model name and revision in production is not recommended.\n"
     ]
    },
    {
     "data": {
      "application/vnd.jupyter.widget-view+json": {
       "model_id": "1e5db119d10748f8ac9507cc7fd2f67a",
       "version_major": 2,
       "version_minor": 0
      },
      "text/plain": [
       "config.json:   0%|          | 0.00/1.80k [00:00<?, ?B/s]"
      ]
     },
     "metadata": {},
     "output_type": "display_data"
    },
    {
     "data": {
      "application/vnd.jupyter.widget-view+json": {
       "model_id": "38e74b2cb59443e89fe5de0aa0a6bcb9",
       "version_major": 2,
       "version_minor": 0
      },
      "text/plain": [
       "pytorch_model.bin:   0%|          | 0.00/1.22G [00:00<?, ?B/s]"
      ]
     },
     "metadata": {},
     "output_type": "display_data"
    },
    {
     "data": {
      "application/vnd.jupyter.widget-view+json": {
       "model_id": "12865260664e468ea2ced406abfb6397",
       "version_major": 2,
       "version_minor": 0
      },
      "text/plain": [
       "tokenizer_config.json:   0%|          | 0.00/26.0 [00:00<?, ?B/s]"
      ]
     },
     "metadata": {},
     "output_type": "display_data"
    },
    {
     "data": {
      "application/vnd.jupyter.widget-view+json": {
       "model_id": "7c0ad9cf718a44bf918f78eed01dd24c",
       "version_major": 2,
       "version_minor": 0
      },
      "text/plain": [
       "vocab.json:   0%|          | 0.00/899k [00:00<?, ?B/s]"
      ]
     },
     "metadata": {},
     "output_type": "display_data"
    },
    {
     "data": {
      "application/vnd.jupyter.widget-view+json": {
       "model_id": "c6a7e254e3e8413fb482ba1b58cd18c0",
       "version_major": 2,
       "version_minor": 0
      },
      "text/plain": [
       "merges.txt:   0%|          | 0.00/456k [00:00<?, ?B/s]"
      ]
     },
     "metadata": {},
     "output_type": "display_data"
    },
    {
     "name": "stderr",
     "output_type": "stream",
     "text": [
      "Your min_length=56 must be inferior than your max_length=45.\n",
      "/home/restful3/anaconda3/envs/trading/lib/python3.10/site-packages/transformers/generation/utils.py:1380: UserWarning: Unfeasible length constraints: `min_length` (56) is larger than the maximum possible length (45). Generation will stop at the defined maximum length. You should decrease the minimum length and/or increase the maximum length.\n",
      "  warnings.warn(\n"
     ]
    },
    {
     "name": "stdout",
     "output_type": "stream",
     "text": [
      " Bumblebee ordered an Optimus Prime action figure from your online store in Germany. When he opened the ackage, he discovered to his horror that he had been sent an action figure of Megatron instead.\n"
     ]
    }
   ],
   "source": [
    "summarizer = pipeline('summarization')\n",
    "outputs = summarizer(text, max_length=45, clean_up_tokenization_spaces=True)\n",
    "print(outputs[0]['summary_text'])"
   ]
  },
  {
   "cell_type": "markdown",
   "id": "1bd7920c",
   "metadata": {},
   "source": [
    "## 번역"
   ]
  },
  {
   "cell_type": "code",
   "execution_count": 17,
   "id": "5a408587-dfbc-446c-a359-d15841470ba5",
   "metadata": {},
   "outputs": [
    {
     "name": "stdout",
     "output_type": "stream",
     "text": [
      "Sehr geehrter Amazon, letzte Woche habe ich eine Optimus Prime Action Figur von Ihrem Online-Shop in Deutschland bestellt. Leider, als ich den Angriff öffnete, entdeckte ich zu meinem Entsetzen, dass ich stattdessen eine Action Figur von Megatron geschickt worden war! Als lebenslanger Feind der Decepticons, hoffe ich, dass Sie mein Dilemma verstehen können. Um das Problem zu lösen, fordere ich einen Austausch von Megatron für die Optimus Prime Figur, die ich bestellt hatte. Eingeschlossen sind Kopien meiner Aufzeichnungen über diesen Kauf. Ich erwarte, bald von Ihnen zu hören. Aufrichtig, Bumblebee.\n"
     ]
    }
   ],
   "source": [
    "translator = pipeline(\"translation_en_to_de\", \n",
    "                     model=\"Helsinki-NLP/opus-mt-en-de\")\n",
    "outputs = translator(text, clean_up_tokenization_spaces=True, min_length=100)\n",
    "print(outputs[0]['translation_text'])"
   ]
  },
  {
   "cell_type": "code",
   "execution_count": 26,
   "id": "6674f226",
   "metadata": {},
   "outputs": [
    {
     "name": "stdout",
     "output_type": "stream",
     "text": [
      "[{'translation_text': '모든 숫자는 완전히  역사적인885 NORETH 창조자 방콕 에 따라.'}]\n"
     ]
    }
   ],
   "source": [
    "translator = pipeline(\"translation\", model=\"Helsinki-NLP/opus-mt-tc-big-en-ko\")\n",
    "outputs = translator('Bumblebee ordered an Optimus Prime action figure from your online store in Germany.')\n",
    "print(outputs)"
   ]
  },
  {
   "cell_type": "code",
   "execution_count": 25,
   "id": "3f4a6f24",
   "metadata": {},
   "outputs": [
    {
     "name": "stdout",
     "output_type": "stream",
     "text": [
      "[{'translation_text': 'Hey.'}]\n"
     ]
    }
   ],
   "source": [
    "translator = pipeline(\"translation\", model=\"Helsinki-NLP/opus-mt-ko-en\")\n",
    "outputs = translator('안녕.')\n",
    "print(outputs)"
   ]
  },
  {
   "cell_type": "markdown",
   "id": "cc7ae366",
   "metadata": {},
   "source": [
    "## 텍스트 생성\n",
    "- 자동 완성 기능으로 고객 피드벡에 빠르게 응답 하는 시나리오 가정"
   ]
  },
  {
   "cell_type": "code",
   "execution_count": 27,
   "id": "610ff423-ba6b-4946-ad29-53feee78a1a4",
   "metadata": {},
   "outputs": [
    {
     "name": "stderr",
     "output_type": "stream",
     "text": [
      "No model was supplied, defaulted to gpt2 and revision 6c0e608 (https://huggingface.co/gpt2).\n",
      "Using a pipeline without specifying a model name and revision in production is not recommended.\n",
      "Setting `pad_token_id` to `eos_token_id`:50256 for open-end generation.\n"
     ]
    },
    {
     "name": "stdout",
     "output_type": "stream",
     "text": [
      "Dear Amazon, last week I ordered an Optimus Prime action figure from your online store in Germany. \n",
      "Unfortunately, when I opened the ackage, I discovered to my horror that I had been sent an action figure of Megatron instead! \n",
      "As a lifelong enemy of the Decepticons, I hope you can understand my dilemma. \n",
      "To resolve the issue, I demand an exchange of Megatron for the Optimus Prime figure I ordered. \n",
      "Enclosed are copies of my records concerning this purchase. \n",
      "I expect to hear from you soon. Sincerely, Bumblebee.\n",
      "\n",
      "Customer service response:\n",
      "Dear Bumplebee, I am sorry to hear that your order was mixed up. \n",
      "\n",
      "I am so sorry that I asked you to please exchange your order because your account went through a major processing glitch when I asked you if you would like your current Optimus Prime figure purchased today. \n",
      "\n",
      "I do not feel compelled to receive your order.\n"
     ]
    }
   ],
   "source": [
    "generator = pipeline(\"text-generation\")\n",
    "response = \"Dear Bumplebee, I am sorry to hear that your order was mixed up.\"\n",
    "prompt = text + \"\\n\\nCustomer service response:\\n\" + response\n",
    "outputs = generator(prompt, max_length=200)\n",
    "print(outputs[0]['generated_text'])"
   ]
  },
  {
   "cell_type": "markdown",
   "id": "f5873a59",
   "metadata": {},
   "source": [
    "# 허깅페이스 생태계\n",
    "\n",
    "- 허깅페이스 트렌스포머스는 NLP와 머신러닝 프로젝트의 속도를 높이는 다양한 라이브러리와 도구를 갖춘 생태계로 빠르게 성장 (그림 1-9)\n",
    "- 라이브러리와 허브로 구성\n",
    "    - 라이브러리는 코드 제공\n",
    "    - 허브는 사전에 훈련된 모델 가중치, 데이터셋, 평가 지표를 위한 스크립트 제공\n",
    "        \n",
    "<img src=\"./nlp-with-transformers-main/images/chapter01_hf-ecosystem.png\" width=500>\n"
   ]
  },
  {
   "cell_type": "markdown",
   "id": "ad3c1222",
   "metadata": {},
   "source": [
    "## 허깅페이스 허브\n",
    "\n",
    "- 전이학습은 트렌스포머 성공의 주요 원인 중 하나\n",
    "    - 사전 훈련된 모델을 빠르게 로드/테스트 가능\n",
    "- 무료로 공개된 20,000여 개의 모델 호스팅(그림 1-10)\n",
    "- 작업, 프레임워크, 데이터셋 등으로 필터링 하여 모델 검색\n",
    "- 모델 로드는 코드 한줄로 가능\n",
    "\n",
    "\n",
    "*그림 1-10 허깅페이스 허브의 모델 페이지, 왼쪽에 필터, 오른쪽에 모델 목록*\n",
    "\n",
    "<img src=\"./nlp-with-transformers-main/images/chapter01_hub-overview.png\" width=500>\n",
    "\n",
    "\n",
    "- 허브는 모델 가중치 외에 데이터셋과 평가 지표 계산을 위한 스크립트 제공\n",
    "- 공개된 결과를 재현하거나 어플리케이션에 활용 가능한 추가 데이터 획득에 용이\n",
    "- 모델 카드와 데이터셋 카드 : 모델과 데이터셋 내용을 문서화 (그림 1-11)\n",
    "- 파이토치와 텐서플로우 각각 허브를 제공\n",
    "\n",
    "*그림 1-11 허깅 페이스 허브에 있는 모델 카드, 오른쪽에 있는 추론 위젲에서 모델을 실험 가능*\n",
    "<img src=\"./nlp-with-transformers-main/images/chapter01_hub-model-card.png\" width=500>\n"
   ]
  },
  {
   "cell_type": "markdown",
   "id": "6107a2d6",
   "metadata": {},
   "source": [
    "## 허깅페이스 토크나이저\n",
    "- 토큰화 단계 : 텍스트를 토큰이라는 더 작은 단위로 나누는 단계\n",
    "- 단어, 단어의 일부, 구두점 같은 문자도 토큰이 된다\n",
    "- 트랜스포머 모델은 토큰 단위로 훈련\n",
    "- 허깅페이스의 토크나이저는 다양한 토큰화 전략 제공\n",
    "- [Rust](https://www.rust-lang.org/) backend 덕분에 빠른 텍스트 토큰화 제공\n",
    "- 입력 정규화, 모델 출력을 적절한 포맷으로 변환 등 사후 처리 제공\n",
    "- 허깅페이스 트렌스포머로 사전 훈련된 모델을 로딩 하듯 토크나이저 로딩 후 사용"
   ]
  },
  {
   "cell_type": "markdown",
   "id": "6df5b3a6",
   "metadata": {},
   "source": [
    "## 허깅페이스 데이터셋\n",
    "\n",
    "- 모델을 훈련하고 평가에 사용\n",
    "- 허깅페이스 데이터셋은 허브에서 데이터셋을 찾는 표준 인터페이스 제공\n",
    "- 메모리 패핑 : 스마트한 캐싱을 제공하여 램 부족 회피\n",
    "    - 파일 내용을 가상의 메모리에 저장, 여러게의 프로세스로 더 효율적으로 파일 수정\n",
    "    - pandas, numpy 등과 상호 운영이 가능하여 데이터 랭글링 도구로도 활용 가능\n",
    "- 많은 평가 지표를 위한 스크립트 제공"
   ]
  },
  {
   "cell_type": "markdown",
   "id": "f1ac0600",
   "metadata": {},
   "source": [
    "## 허깅페이스 엑셀러레이트\n",
    "- 사용자 정의 로직을 처리하는 일반적인 훈련 루프에 훈련 인프라에 필요한 추상화 층 추가\n",
    "- 인프라 전환을 단순화해 워크플로우 가속화\n",
    "- 개인이 작성한 파이토치 훈련 스크립트를 회사 클러스터에 포팅 하는 등에 활용\n",
    "- [🤗 Accelerate](https://huggingface.co/docs/accelerate/index)\n",
    "    - 🤗 Accelerate는 단 4줄의 코드만 추가하여 모든 분산 구성에서 동일한 PyTorch 코드를 실행할 수 있게 해주는 라이브러리입니다! \n",
    "    - 대규모 교육과 추론을 통해 간단하고 효율적이며 적응력이 높아졌습니다."
   ]
  },
  {
   "cell_type": "markdown",
   "id": "522c353c",
   "metadata": {},
   "source": [
    "# 트랜스포머의 주요 도전 과제\n",
    "\n",
    "- **언어**\n",
    "    - NLP에는 거의 영어 사용\n",
    "    - 다중 언어 트랜스포머와 제로샷 교차언어 전이 수행은 4장에서\n",
    "\n",
    "- **데이터 가용성**\n",
    "    - 모델에 필요한 레이블링된 훈련 데이터의 양은 전이 학습을 사용하며 크게 줄었지만,\n",
    "    - 레이블링에 들어가는 수고로움을 생각하면 여전히 많다.\n",
    "    - 레이블링된 데이터가 없거나 부족한 상황에 대한 대처 방법은 9장에서\n",
    "\n",
    "- **긴 문서 처리하기**\n",
    "    - 셀프 어텐션은 텍스트 길이가 문단 정도 될 때 잘 작동\n",
    "    - 문서와 같이 긴 길이의 텍스트 사용시 고 비용 발생\n",
    "    - 이에 대한 대처 방법은 11장 에서\n",
    "\n",
    "- **불투명성**\n",
    "    - 다른 딥러닝 모델에 비해 불투명한 구조 임\n",
    "    - 모델의 예측한 결과를 설명하기가 쉽지 않음\n",
    "    - 중요한 결정에 모델 사용시 문제가 될 수 있음\n",
    "    - 2, 4 장에서 트렌스포머 모델의 오류를 조사하는 방법\n",
    "\n",
    "- **편향**\n",
    "    - 트렌스포머 모델은 인터넷 텍스트를 사용하여 사전 훈련\n",
    "    - 이런 데이터의 편향이 모델에 그대로 반영\n",
    "    - 인종차별, 성차별 등, 10장에서 관련 이슈 "
   ]
  },
  {
   "cell_type": "markdown",
   "id": "94a6b8ea",
   "metadata": {},
   "source": [
    "# 결론\n",
    "- 분류, 개체명 인식, 질문 대답, 번역, 요약 을 위한 최고 수준의 모델을 단 몇줄의 코드로 사용\n",
    "- 이어지는 장에서, 텍스트 분류 모델, 제품을 위한 경량 모델 구축, 언어 모델을 처음 부터 훈련 등 배움\n",
    "- 이 책은 실습 위주로, GPU 로컬 머신에서 구동 가능"
   ]
  }
 ],
 "metadata": {
  "kernelspec": {
   "display_name": "Python 3 (ipykernel)",
   "language": "python",
   "name": "python3"
  },
  "language_info": {
   "codemirror_mode": {
    "name": "ipython",
    "version": 3
   },
   "file_extension": ".py",
   "mimetype": "text/x-python",
   "name": "python",
   "nbconvert_exporter": "python",
   "pygments_lexer": "ipython3",
   "version": "3.10.9"
  },
  "toc": {
   "base_numbering": 1,
   "nav_menu": {},
   "number_sections": true,
   "sideBar": true,
   "skip_h1_title": false,
   "title_cell": "Table of Contents",
   "title_sidebar": "Contents",
   "toc_cell": false,
   "toc_position": {
    "height": "calc(100% - 180px)",
    "left": "10px",
    "top": "150px",
    "width": "455.194px"
   },
   "toc_section_display": true,
   "toc_window_display": true
  },
  "widgets": {
   "application/vnd.jupyter.widget-state+json": {
    "state": {
     "0046fd7421134ce0a8adf68cf8f977bd": {
      "model_module": "@jupyter-widgets/controls",
      "model_module_version": "2.0.0",
      "model_name": "HBoxModel",
      "state": {
       "children": [
        "IPY_MODEL_1d554152509f4c6b8a9513639a341b8f",
        "IPY_MODEL_48acddf8c220412f8f1c7ac174a06284",
        "IPY_MODEL_2bb0d6c6daf24dd693abe32900190e68"
       ],
       "layout": "IPY_MODEL_6d856d87da4f4c479a28637ed02daf00"
      }
     },
     "00cee9d407104ee2a83db26839ffa823": {
      "model_module": "@jupyter-widgets/base",
      "model_module_version": "2.0.0",
      "model_name": "LayoutModel",
      "state": {}
     },
     "0122240af05147709f9af06beff8ec96": {
      "model_module": "@jupyter-widgets/controls",
      "model_module_version": "2.0.0",
      "model_name": "ProgressStyleModel",
      "state": {
       "description_width": ""
      }
     },
     "0385a39d5bde4cfd95bf43ec9b10056b": {
      "model_module": "@jupyter-widgets/base",
      "model_module_version": "2.0.0",
      "model_name": "LayoutModel",
      "state": {}
     },
     "04e39d6becef41abb06096d7b796180b": {
      "model_module": "@jupyter-widgets/base",
      "model_module_version": "2.0.0",
      "model_name": "LayoutModel",
      "state": {}
     },
     "06274be6ae4449cfab1f654129221809": {
      "model_module": "@jupyter-widgets/controls",
      "model_module_version": "2.0.0",
      "model_name": "FloatProgressModel",
      "state": {
       "bar_style": "success",
       "layout": "IPY_MODEL_386de4847c924e63a573701ca3502ba2",
       "max": 629,
       "style": "IPY_MODEL_afe578d196b8424f81386c056fc1f029",
       "value": 629
      }
     },
     "0749f2ff0b4647d6b767a2d4a6626509": {
      "model_module": "@jupyter-widgets/controls",
      "model_module_version": "2.0.0",
      "model_name": "ProgressStyleModel",
      "state": {
       "description_width": ""
      }
     },
     "0799d766b09144d28b9911c86020bf4f": {
      "model_module": "@jupyter-widgets/controls",
      "model_module_version": "2.0.0",
      "model_name": "HTMLStyleModel",
      "state": {
       "description_width": "",
       "font_size": null,
       "text_color": null
      }
     },
     "0946d3f56558480aad6d06404d79f18d": {
      "model_module": "@jupyter-widgets/controls",
      "model_module_version": "2.0.0",
      "model_name": "HTMLModel",
      "state": {
       "layout": "IPY_MODEL_14080baece034a61b142227b94c94ab4",
       "style": "IPY_MODEL_e14719ea18b4450bbf153f5387402d64",
       "value": "model.safetensors: 100%"
      }
     },
     "09aac156b66245f69410f341d69e6e9f": {
      "model_module": "@jupyter-widgets/controls",
      "model_module_version": "2.0.0",
      "model_name": "HTMLStyleModel",
      "state": {
       "description_width": "",
       "font_size": null,
       "text_color": null
      }
     },
     "09fa719aaf3144f6b1f97dea51cdb124": {
      "model_module": "@jupyter-widgets/base",
      "model_module_version": "2.0.0",
      "model_name": "LayoutModel",
      "state": {}
     },
     "0b793fdd75054424ada1cf86a62c936a": {
      "model_module": "@jupyter-widgets/base",
      "model_module_version": "2.0.0",
      "model_name": "LayoutModel",
      "state": {}
     },
     "0cf072f5226847a78228bf7cf53d86e1": {
      "model_module": "@jupyter-widgets/controls",
      "model_module_version": "2.0.0",
      "model_name": "HBoxModel",
      "state": {
       "children": [
        "IPY_MODEL_0946d3f56558480aad6d06404d79f18d",
        "IPY_MODEL_778a35e5dda3477b81d11ac119e1fb9d",
        "IPY_MODEL_f5e635943db844e49dca6a7267a48f56"
       ],
       "layout": "IPY_MODEL_2df48066c40d435a9e42be00acd1c764"
      }
     },
     "0e35d20f11e445bea2f96e30b9ca36e5": {
      "model_module": "@jupyter-widgets/base",
      "model_module_version": "2.0.0",
      "model_name": "LayoutModel",
      "state": {}
     },
     "0e6984090aef420cbe498f4696d0984c": {
      "model_module": "@jupyter-widgets/base",
      "model_module_version": "2.0.0",
      "model_name": "LayoutModel",
      "state": {}
     },
     "0e98b629301743078734519e060f12d8": {
      "model_module": "@jupyter-widgets/controls",
      "model_module_version": "2.0.0",
      "model_name": "HTMLModel",
      "state": {
       "layout": "IPY_MODEL_a28b6d5c3374411ebcd32032b74887e6",
       "style": "IPY_MODEL_25907c3478794caf97f54ed88d2dc712",
       "value": " 436k/436k [00:00&lt;00:00, 728kB/s]"
      }
     },
     "0ffe6cf067824c9c9b23694c8b1dfbfb": {
      "model_module": "@jupyter-widgets/controls",
      "model_module_version": "2.0.0",
      "model_name": "HTMLModel",
      "state": {
       "layout": "IPY_MODEL_9aa144c761b8433aac443518a7eb370f",
       "style": "IPY_MODEL_b6cfad1412604a48927b42201bfd3bc2",
       "value": "generation_config.json: 100%"
      }
     },
     "10c29094c5ee44758c83275da5c72f07": {
      "model_module": "@jupyter-widgets/controls",
      "model_module_version": "2.0.0",
      "model_name": "HTMLModel",
      "state": {
       "layout": "IPY_MODEL_3b35e1992f6842618ae05018d7325c0b",
       "style": "IPY_MODEL_4c2c594ff7c04e3fa7e402e7459a6b33",
       "value": "tokenizer_config.json: 100%"
      }
     },
     "10e607a83d544bc68a68323f3d801948": {
      "model_module": "@jupyter-widgets/controls",
      "model_module_version": "2.0.0",
      "model_name": "HTMLModel",
      "state": {
       "layout": "IPY_MODEL_d03ad99da8584990b220e0e1cb24329e",
       "style": "IPY_MODEL_5b72e0fa1f0e4ac58d82ed650916627b",
       "value": "tokenizer_config.json: 100%"
      }
     },
     "11f93a2930d54a0ab53fbdc7ab6f6f16": {
      "model_module": "@jupyter-widgets/controls",
      "model_module_version": "2.0.0",
      "model_name": "ProgressStyleModel",
      "state": {
       "description_width": ""
      }
     },
     "12c0e4368e2041a2ba48e5a9cc7421a7": {
      "model_module": "@jupyter-widgets/base",
      "model_module_version": "2.0.0",
      "model_name": "LayoutModel",
      "state": {}
     },
     "13a81b2ff80a4d6f9408f44142f280e8": {
      "model_module": "@jupyter-widgets/controls",
      "model_module_version": "2.0.0",
      "model_name": "HTMLModel",
      "state": {
       "layout": "IPY_MODEL_7067148ae7284ff18f604d657e45f13e",
       "style": "IPY_MODEL_1ec89a51cb0940be88169f06b5910987",
       "value": "vocab.txt: 100%"
      }
     },
     "14080baece034a61b142227b94c94ab4": {
      "model_module": "@jupyter-widgets/base",
      "model_module_version": "2.0.0",
      "model_name": "LayoutModel",
      "state": {}
     },
     "14aafda0b8694c7daf84a173d6335633": {
      "model_module": "@jupyter-widgets/base",
      "model_module_version": "2.0.0",
      "model_name": "LayoutModel",
      "state": {}
     },
     "1580de6d0e9e413a828b2b5f4f1f067d": {
      "model_module": "@jupyter-widgets/base",
      "model_module_version": "2.0.0",
      "model_name": "LayoutModel",
      "state": {}
     },
     "15d3e7326ee34109aca54988ba640d68": {
      "model_module": "@jupyter-widgets/controls",
      "model_module_version": "2.0.0",
      "model_name": "ProgressStyleModel",
      "state": {
       "description_width": ""
      }
     },
     "161a184ad16d4349afa815370989ea05": {
      "model_module": "@jupyter-widgets/controls",
      "model_module_version": "2.0.0",
      "model_name": "HBoxModel",
      "state": {
       "children": [
        "IPY_MODEL_e6dcb78440594ef7a1e7656a59756765",
        "IPY_MODEL_c9ac23fe54d144ec8e9d3cf7c1f7d1d6",
        "IPY_MODEL_93cec18e65cc4efcbd6f65eb685fa98f"
       ],
       "layout": "IPY_MODEL_7c37969943644ef0902ed1b9efc7e08b"
      }
     },
     "169bac73b1ea4858ba3b650b611a80fd": {
      "model_module": "@jupyter-widgets/base",
      "model_module_version": "2.0.0",
      "model_name": "LayoutModel",
      "state": {}
     },
     "16ff0feb445d435aa48bc5d146e09f75": {
      "model_module": "@jupyter-widgets/base",
      "model_module_version": "2.0.0",
      "model_name": "LayoutModel",
      "state": {}
     },
     "174cc305d5f1467eb1f59e6ae9c32852": {
      "model_module": "@jupyter-widgets/controls",
      "model_module_version": "2.0.0",
      "model_name": "FloatProgressModel",
      "state": {
       "bar_style": "success",
       "layout": "IPY_MODEL_895cd6713b224692b9a6993482f77748",
       "max": 456318,
       "style": "IPY_MODEL_ea85178b203a4f83918c4921435ce592",
       "value": 456318
      }
     },
     "1868a542cfcf4bf283e3d2f1fed63299": {
      "model_module": "@jupyter-widgets/controls",
      "model_module_version": "2.0.0",
      "model_name": "HBoxModel",
      "state": {
       "children": [
        "IPY_MODEL_13a81b2ff80a4d6f9408f44142f280e8",
        "IPY_MODEL_dc0b943c2dd948f6a313870cf6165a59",
        "IPY_MODEL_35ff6869e63c4550943300099e2514fb"
       ],
       "layout": "IPY_MODEL_ebd01652edf44c12975a48b1b288b829"
      }
     },
     "18a9ff0353c14ae78223b31cf1ea61d4": {
      "model_module": "@jupyter-widgets/controls",
      "model_module_version": "2.0.0",
      "model_name": "HTMLStyleModel",
      "state": {
       "description_width": "",
       "font_size": null,
       "text_color": null
      }
     },
     "1b6181f605b448e3bd228a26aea6f792": {
      "model_module": "@jupyter-widgets/controls",
      "model_module_version": "2.0.0",
      "model_name": "HTMLStyleModel",
      "state": {
       "description_width": "",
       "font_size": null,
       "text_color": null
      }
     },
     "1b980615864e4c56b44c635c4ebe0641": {
      "model_module": "@jupyter-widgets/controls",
      "model_module_version": "2.0.0",
      "model_name": "ProgressStyleModel",
      "state": {
       "description_width": ""
      }
     },
     "1b9d5f30117d43dda3379ac28d413816": {
      "model_module": "@jupyter-widgets/controls",
      "model_module_version": "2.0.0",
      "model_name": "HTMLStyleModel",
      "state": {
       "description_width": "",
       "font_size": null,
       "text_color": null
      }
     },
     "1d554152509f4c6b8a9513639a341b8f": {
      "model_module": "@jupyter-widgets/controls",
      "model_module_version": "2.0.0",
      "model_name": "HTMLModel",
      "state": {
       "layout": "IPY_MODEL_c7f350c077bc4e7382c8950c2012707a",
       "style": "IPY_MODEL_3568154109514fd5a60911c5da4de84f",
       "value": "model.safetensors: 100%"
      }
     },
     "1dcef87589b247feb151ea23aa5e718b": {
      "model_module": "@jupyter-widgets/base",
      "model_module_version": "2.0.0",
      "model_name": "LayoutModel",
      "state": {}
     },
     "1ec89a51cb0940be88169f06b5910987": {
      "model_module": "@jupyter-widgets/controls",
      "model_module_version": "2.0.0",
      "model_name": "HTMLStyleModel",
      "state": {
       "description_width": "",
       "font_size": null,
       "text_color": null
      }
     },
     "1ee99f9f8ce544b2a46f24964c32b862": {
      "model_module": "@jupyter-widgets/controls",
      "model_module_version": "2.0.0",
      "model_name": "HBoxModel",
      "state": {
       "children": [
        "IPY_MODEL_acefd8be03ff4d169fff3262c5727e8e",
        "IPY_MODEL_6cdf97c3ab3149188ee4a662bae41c46",
        "IPY_MODEL_efe05620a8bf4cb2aaa477a170e3a8b0"
       ],
       "layout": "IPY_MODEL_2b1a3f6baf1c4081b2202bdfbe3fadd4"
      }
     },
     "1f1fb8fc16d144ecbd74338358a52144": {
      "model_module": "@jupyter-widgets/controls",
      "model_module_version": "2.0.0",
      "model_name": "HTMLStyleModel",
      "state": {
       "description_width": "",
       "font_size": null,
       "text_color": null
      }
     },
     "213c5b59c2d242a49b54c6463c9fa353": {
      "model_module": "@jupyter-widgets/base",
      "model_module_version": "2.0.0",
      "model_name": "LayoutModel",
      "state": {}
     },
     "22a489697c8b46d4bab82c96a347c610": {
      "model_module": "@jupyter-widgets/controls",
      "model_module_version": "2.0.0",
      "model_name": "HTMLModel",
      "state": {
       "layout": "IPY_MODEL_282ff377a6fb4b5abd7178d7edfe5508",
       "style": "IPY_MODEL_3e18b06f289240a5ad9373b41748a05c",
       "value": "config.json: 100%"
      }
     },
     "2360554c3d584ca2b984eeff55535a34": {
      "model_module": "@jupyter-widgets/controls",
      "model_module_version": "2.0.0",
      "model_name": "HTMLStyleModel",
      "state": {
       "description_width": "",
       "font_size": null,
       "text_color": null
      }
     },
     "24e9d05a5a0847b5abe2e18b2cd7ab82": {
      "model_module": "@jupyter-widgets/controls",
      "model_module_version": "2.0.0",
      "model_name": "HTMLStyleModel",
      "state": {
       "description_width": "",
       "font_size": null,
       "text_color": null
      }
     },
     "25907c3478794caf97f54ed88d2dc712": {
      "model_module": "@jupyter-widgets/controls",
      "model_module_version": "2.0.0",
      "model_name": "HTMLStyleModel",
      "state": {
       "description_width": "",
       "font_size": null,
       "text_color": null
      }
     },
     "268a5d3ef9964dcdbff9da614028b1a0": {
      "model_module": "@jupyter-widgets/controls",
      "model_module_version": "2.0.0",
      "model_name": "FloatProgressModel",
      "state": {
       "bar_style": "success",
       "layout": "IPY_MODEL_8b14651461714d8ea329fb783469367b",
       "max": 213450,
       "style": "IPY_MODEL_74fde43cb32b4f06896c1ab61c146280",
       "value": 213450
      }
     },
     "282ff377a6fb4b5abd7178d7edfe5508": {
      "model_module": "@jupyter-widgets/base",
      "model_module_version": "2.0.0",
      "model_name": "LayoutModel",
      "state": {}
     },
     "29dab27025f44ffbb7c14e874c0523ae": {
      "model_module": "@jupyter-widgets/base",
      "model_module_version": "2.0.0",
      "model_name": "LayoutModel",
      "state": {}
     },
     "2b1a3f6baf1c4081b2202bdfbe3fadd4": {
      "model_module": "@jupyter-widgets/base",
      "model_module_version": "2.0.0",
      "model_name": "LayoutModel",
      "state": {}
     },
     "2bb0d6c6daf24dd693abe32900190e68": {
      "model_module": "@jupyter-widgets/controls",
      "model_module_version": "2.0.0",
      "model_name": "HTMLModel",
      "state": {
       "layout": "IPY_MODEL_9f86e8f35f904295a99072ff14a32aac",
       "style": "IPY_MODEL_5bf0e3d039d849339d947947b44b87ef",
       "value": " 268M/268M [00:23&lt;00:00, 11.3MB/s]"
      }
     },
     "2c3fb9c67dc944599d5017615bf1baf2": {
      "model_module": "@jupyter-widgets/controls",
      "model_module_version": "2.0.0",
      "model_name": "HTMLStyleModel",
      "state": {
       "description_width": "",
       "font_size": null,
       "text_color": null
      }
     },
     "2c68b21cf85f4c12a0f665d3e8219cb6": {
      "model_module": "@jupyter-widgets/controls",
      "model_module_version": "2.0.0",
      "model_name": "HTMLModel",
      "state": {
       "layout": "IPY_MODEL_dc9481d06ff54655a9ff29dc3a18d53e",
       "style": "IPY_MODEL_8dd81d4d7a174694ba1a3950f2cc4f12",
       "value": "target.spm: 100%"
      }
     },
     "2d37a16949054159bab21a437f951b6f": {
      "model_module": "@jupyter-widgets/controls",
      "model_module_version": "2.0.0",
      "model_name": "ProgressStyleModel",
      "state": {
       "description_width": ""
      }
     },
     "2dc2ddd4b85e432c9d07405c2c5c280d": {
      "model_module": "@jupyter-widgets/base",
      "model_module_version": "2.0.0",
      "model_name": "LayoutModel",
      "state": {}
     },
     "2dee1e3c4fb647c4b6848532f3ca9d45": {
      "model_module": "@jupyter-widgets/base",
      "model_module_version": "2.0.0",
      "model_name": "LayoutModel",
      "state": {}
     },
     "2df48066c40d435a9e42be00acd1c764": {
      "model_module": "@jupyter-widgets/base",
      "model_module_version": "2.0.0",
      "model_name": "LayoutModel",
      "state": {}
     },
     "2ea00db92c0544ae88dc8dcadbcf1676": {
      "model_module": "@jupyter-widgets/base",
      "model_module_version": "2.0.0",
      "model_name": "LayoutModel",
      "state": {}
     },
     "2f76e5499d914a2691e86a834e3dc5ee": {
      "model_module": "@jupyter-widgets/base",
      "model_module_version": "2.0.0",
      "model_name": "LayoutModel",
      "state": {}
     },
     "303aeb99ec3d4ef1add595347af70287": {
      "model_module": "@jupyter-widgets/controls",
      "model_module_version": "2.0.0",
      "model_name": "ProgressStyleModel",
      "state": {
       "description_width": ""
      }
     },
     "332a45cda6994b038c16862bb5b3e349": {
      "model_module": "@jupyter-widgets/base",
      "model_module_version": "2.0.0",
      "model_name": "LayoutModel",
      "state": {}
     },
     "33b33c8a3f274263a1062710653110da": {
      "model_module": "@jupyter-widgets/controls",
      "model_module_version": "2.0.0",
      "model_name": "HTMLModel",
      "state": {
       "layout": "IPY_MODEL_ffbc80b869784659a9811e8af142adb5",
       "style": "IPY_MODEL_3bd2c61351cc489389d25a92a2c90be4",
       "value": "config.json: 100%"
      }
     },
     "33c04f90c1664d5b82a449e8496e564b": {
      "model_module": "@jupyter-widgets/controls",
      "model_module_version": "2.0.0",
      "model_name": "HTMLStyleModel",
      "state": {
       "description_width": "",
       "font_size": null,
       "text_color": null
      }
     },
     "33ed27eb429a4ab1a4560253ef31a4f6": {
      "model_module": "@jupyter-widgets/base",
      "model_module_version": "2.0.0",
      "model_name": "LayoutModel",
      "state": {}
     },
     "3568154109514fd5a60911c5da4de84f": {
      "model_module": "@jupyter-widgets/controls",
      "model_module_version": "2.0.0",
      "model_name": "HTMLStyleModel",
      "state": {
       "description_width": "",
       "font_size": null,
       "text_color": null
      }
     },
     "35bfe494d1ac402e913c4ccb1ab9e27b": {
      "model_module": "@jupyter-widgets/base",
      "model_module_version": "2.0.0",
      "model_name": "LayoutModel",
      "state": {}
     },
     "35ff6869e63c4550943300099e2514fb": {
      "model_module": "@jupyter-widgets/controls",
      "model_module_version": "2.0.0",
      "model_name": "HTMLModel",
      "state": {
       "layout": "IPY_MODEL_a0c2b49849eb4c8a9f82b41c491e398a",
       "style": "IPY_MODEL_37e52a2b0bff438593c516b4db08db5c",
       "value": " 232k/232k [00:00&lt;00:00, 574kB/s]"
      }
     },
     "36c95c2a32b740408d9f95023e77e521": {
      "model_module": "@jupyter-widgets/controls",
      "model_module_version": "2.0.0",
      "model_name": "HTMLStyleModel",
      "state": {
       "description_width": "",
       "font_size": null,
       "text_color": null
      }
     },
     "37433f751e0c4917a160b07bb50162b3": {
      "model_module": "@jupyter-widgets/controls",
      "model_module_version": "2.0.0",
      "model_name": "HBoxModel",
      "state": {
       "children": [
        "IPY_MODEL_fe4d2df5f47346eb8cba8f90a5d72dd3",
        "IPY_MODEL_174cc305d5f1467eb1f59e6ae9c32852",
        "IPY_MODEL_3ead129850a941d2b77790ef681f1acb"
       ],
       "layout": "IPY_MODEL_e2033010e51c46ffa63fa2e0b1d3b165"
      }
     },
     "37e52a2b0bff438593c516b4db08db5c": {
      "model_module": "@jupyter-widgets/controls",
      "model_module_version": "2.0.0",
      "model_name": "HTMLStyleModel",
      "state": {
       "description_width": "",
       "font_size": null,
       "text_color": null
      }
     },
     "383e64a7dd284d73a4153b9d0dcaa740": {
      "model_module": "@jupyter-widgets/controls",
      "model_module_version": "2.0.0",
      "model_name": "FloatProgressModel",
      "state": {
       "bar_style": "success",
       "layout": "IPY_MODEL_88e5df2851334924832a51a56f98a683",
       "max": 26,
       "style": "IPY_MODEL_689d32ee2fc648ca85d26a9cd7ed17ff",
       "value": 26
      }
     },
     "386de4847c924e63a573701ca3502ba2": {
      "model_module": "@jupyter-widgets/base",
      "model_module_version": "2.0.0",
      "model_name": "LayoutModel",
      "state": {}
     },
     "39cb83688d9a4f6f8204588a9be06ded": {
      "model_module": "@jupyter-widgets/controls",
      "model_module_version": "2.0.0",
      "model_name": "HTMLModel",
      "state": {
       "layout": "IPY_MODEL_47270242b95145428f83a07258c2b5e8",
       "style": "IPY_MODEL_5788281f46de4602aeb6d4885c949582",
       "value": " 1.80k/1.80k [00:00&lt;00:00, 218kB/s]"
      }
     },
     "3a3457a867284aa49ac4f82f70e2477c": {
      "model_module": "@jupyter-widgets/base",
      "model_module_version": "2.0.0",
      "model_name": "LayoutModel",
      "state": {}
     },
     "3b35e1992f6842618ae05018d7325c0b": {
      "model_module": "@jupyter-widgets/base",
      "model_module_version": "2.0.0",
      "model_name": "LayoutModel",
      "state": {}
     },
     "3b5779a552fd44e1bce20c7f8db66294": {
      "model_module": "@jupyter-widgets/controls",
      "model_module_version": "2.0.0",
      "model_name": "HTMLStyleModel",
      "state": {
       "description_width": "",
       "font_size": null,
       "text_color": null
      }
     },
     "3bd2c61351cc489389d25a92a2c90be4": {
      "model_module": "@jupyter-widgets/controls",
      "model_module_version": "2.0.0",
      "model_name": "HTMLStyleModel",
      "state": {
       "description_width": "",
       "font_size": null,
       "text_color": null
      }
     },
     "3c4fa51a8c9945b7b64324d5f4b0cc1a": {
      "model_module": "@jupyter-widgets/controls",
      "model_module_version": "2.0.0",
      "model_name": "HBoxModel",
      "state": {
       "children": [
        "IPY_MODEL_d8ea66a8c42d49a48228c9d58cdf1a3d",
        "IPY_MODEL_c376112b2f964794bc7fa6c4f0880d71",
        "IPY_MODEL_9b225b95154440deb3bde48cafd2de9a"
       ],
       "layout": "IPY_MODEL_9f3fc34eb4a742e692772a7b925b991a"
      }
     },
     "3c5ab185de7a4eb587b79700ac65d876": {
      "model_module": "@jupyter-widgets/controls",
      "model_module_version": "2.0.0",
      "model_name": "HBoxModel",
      "state": {
       "children": [
        "IPY_MODEL_831d4403d2a44017b3fa58de527bad49",
        "IPY_MODEL_f7c9ef5ebd3d406abe2c82933afaadb5",
        "IPY_MODEL_cc8b5233e18848b6be33ddfe5043816c"
       ],
       "layout": "IPY_MODEL_44080a9439584443b954c2461b72eb52"
      }
     },
     "3d19c0c3226e4dbab89dd805f24b7525": {
      "model_module": "@jupyter-widgets/controls",
      "model_module_version": "2.0.0",
      "model_name": "FloatProgressModel",
      "state": {
       "bar_style": "success",
       "layout": "IPY_MODEL_5eab8dbcc7e840fe9d52f334bb7bc8f7",
       "max": 213450,
       "style": "IPY_MODEL_95ab3c050fb94631b84dcd33a4d87979",
       "value": 213450
      }
     },
     "3d43745f29b646f7b99c280381ce4ed4": {
      "model_module": "@jupyter-widgets/base",
      "model_module_version": "2.0.0",
      "model_name": "LayoutModel",
      "state": {}
     },
     "3e18b06f289240a5ad9373b41748a05c": {
      "model_module": "@jupyter-widgets/controls",
      "model_module_version": "2.0.0",
      "model_name": "HTMLStyleModel",
      "state": {
       "description_width": "",
       "font_size": null,
       "text_color": null
      }
     },
     "3e232b6caad141dbbdafb5e34fda7cd4": {
      "model_module": "@jupyter-widgets/base",
      "model_module_version": "2.0.0",
      "model_name": "LayoutModel",
      "state": {}
     },
     "3e92b71eb23b4e2ea25cb13022673014": {
      "model_module": "@jupyter-widgets/controls",
      "model_module_version": "2.0.0",
      "model_name": "HBoxModel",
      "state": {
       "children": [
        "IPY_MODEL_33b33c8a3f274263a1062710653110da",
        "IPY_MODEL_06274be6ae4449cfab1f654129221809",
        "IPY_MODEL_7076080910534e4bbeaf01e6d46f93b9"
       ],
       "layout": "IPY_MODEL_2dc2ddd4b85e432c9d07405c2c5c280d"
      }
     },
     "3ead129850a941d2b77790ef681f1acb": {
      "model_module": "@jupyter-widgets/controls",
      "model_module_version": "2.0.0",
      "model_name": "HTMLModel",
      "state": {
       "layout": "IPY_MODEL_a1d744b300204e62a2772cdb22a96318",
       "style": "IPY_MODEL_9f26b625045c465296afdef4dddb9b6c",
       "value": " 456k/456k [00:00&lt;00:00, 11.4MB/s]"
      }
     },
     "3f1c6850db644ff7b3f18751cfcc8c16": {
      "model_module": "@jupyter-widgets/base",
      "model_module_version": "2.0.0",
      "model_name": "LayoutModel",
      "state": {}
     },
     "3f914e9161cc490396ec46550cf9d564": {
      "model_module": "@jupyter-widgets/base",
      "model_module_version": "2.0.0",
      "model_name": "LayoutModel",
      "state": {}
     },
     "4111eeb6e6b74791903d62e06ed090ed": {
      "model_module": "@jupyter-widgets/controls",
      "model_module_version": "2.0.0",
      "model_name": "ProgressStyleModel",
      "state": {
       "description_width": ""
      }
     },
     "41e23ad313094ba9bb998118d896c6ba": {
      "model_module": "@jupyter-widgets/controls",
      "model_module_version": "2.0.0",
      "model_name": "HTMLModel",
      "state": {
       "layout": "IPY_MODEL_dc3f45fd878d40578fbc236bf2a8b9b2",
       "style": "IPY_MODEL_92517e41d810446ead7fa13ca4e9609e",
       "value": "vocab.txt: 100%"
      }
     },
     "41f4e70f3c974d37be7946653b8fb88e": {
      "model_module": "@jupyter-widgets/controls",
      "model_module_version": "2.0.0",
      "model_name": "HBoxModel",
      "state": {
       "children": [
        "IPY_MODEL_669b2a0a687748deb4ba9bf446af0338",
        "IPY_MODEL_f1d36e3667fa43a8ad9ca2f590bcd223",
        "IPY_MODEL_62d1d892edae443091490fa37d83eea2"
       ],
       "layout": "IPY_MODEL_fb39c2df3b564689be7960b8def13667"
      }
     },
     "42c26056cd96431ea90f7d6de4a00e7e": {
      "model_module": "@jupyter-widgets/controls",
      "model_module_version": "2.0.0",
      "model_name": "HTMLStyleModel",
      "state": {
       "description_width": "",
       "font_size": null,
       "text_color": null
      }
     },
     "43d73fec7cfc4788bb696ded709e5d79": {
      "model_module": "@jupyter-widgets/controls",
      "model_module_version": "2.0.0",
      "model_name": "ProgressStyleModel",
      "state": {
       "description_width": ""
      }
     },
     "43fdfe1f61274302af5b7a9db43808c3": {
      "model_module": "@jupyter-widgets/controls",
      "model_module_version": "2.0.0",
      "model_name": "HTMLModel",
      "state": {
       "layout": "IPY_MODEL_62093638b6814146adf328b1722bd24c",
       "style": "IPY_MODEL_ec99102ac6db4ca081043978e0115bed",
       "value": "generation_config.json: 100%"
      }
     },
     "44019445298b4aeda1444f511ede8181": {
      "model_module": "@jupyter-widgets/base",
      "model_module_version": "2.0.0",
      "model_name": "LayoutModel",
      "state": {}
     },
     "44080a9439584443b954c2461b72eb52": {
      "model_module": "@jupyter-widgets/base",
      "model_module_version": "2.0.0",
      "model_name": "LayoutModel",
      "state": {}
     },
     "44866afd45794507bc0da18a92079309": {
      "model_module": "@jupyter-widgets/controls",
      "model_module_version": "2.0.0",
      "model_name": "HTMLModel",
      "state": {
       "layout": "IPY_MODEL_a5775745344945f293a8c6624b74506b",
       "style": "IPY_MODEL_cd47d8e01a564b7491cdfbe2e2ecafb8",
       "value": "tokenizer_config.json: 100%"
      }
     },
     "44fcaca59b3043dfab916f7acd75ff67": {
      "model_module": "@jupyter-widgets/base",
      "model_module_version": "2.0.0",
      "model_name": "LayoutModel",
      "state": {}
     },
     "46773cfee1454773a7866a666d946623": {
      "model_module": "@jupyter-widgets/controls",
      "model_module_version": "2.0.0",
      "model_name": "FloatProgressModel",
      "state": {
       "bar_style": "success",
       "layout": "IPY_MODEL_b3dcfbcd71df4b8b8518f715f8a02aec",
       "max": 1802,
       "style": "IPY_MODEL_ac7ffe88fdb14851afaf28e484341c98",
       "value": 1802
      }
     },
     "47270242b95145428f83a07258c2b5e8": {
      "model_module": "@jupyter-widgets/base",
      "model_module_version": "2.0.0",
      "model_name": "LayoutModel",
      "state": {}
     },
     "47600163225f40348ce27482c0a530ea": {
      "model_module": "@jupyter-widgets/controls",
      "model_module_version": "2.0.0",
      "model_name": "HBoxModel",
      "state": {
       "children": [
        "IPY_MODEL_54d33dada85f4244900de4b2e0ade308",
        "IPY_MODEL_f9bba6605c7d4c428fb8fddde034b94d",
        "IPY_MODEL_4ac3b8d5c9da4e7e80f2b1c6c447adb6"
       ],
       "layout": "IPY_MODEL_ccdf884ed8d64773809994555210993a"
      }
     },
     "47c217fddcb74d2b82bd2d5df29dcf3e": {
      "model_module": "@jupyter-widgets/controls",
      "model_module_version": "2.0.0",
      "model_name": "FloatProgressModel",
      "state": {
       "bar_style": "success",
       "layout": "IPY_MODEL_86e28caef3304b42af9a95858945b9cf",
       "max": 297928209,
       "style": "IPY_MODEL_4111eeb6e6b74791903d62e06ed090ed",
       "value": 297928209
      }
     },
     "48acddf8c220412f8f1c7ac174a06284": {
      "model_module": "@jupyter-widgets/controls",
      "model_module_version": "2.0.0",
      "model_name": "FloatProgressModel",
      "state": {
       "bar_style": "success",
       "layout": "IPY_MODEL_816c38dd02b94702958bba816e4bc9bd",
       "max": 267832558,
       "style": "IPY_MODEL_2d37a16949054159bab21a437f951b6f",
       "value": 267832558
      }
     },
     "48e7b77964664da68d62217f58131fc8": {
      "model_module": "@jupyter-widgets/base",
      "model_module_version": "2.0.0",
      "model_name": "LayoutModel",
      "state": {}
     },
     "490b031d79414a929cab992acd5b16cd": {
      "model_module": "@jupyter-widgets/controls",
      "model_module_version": "2.0.0",
      "model_name": "HTMLStyleModel",
      "state": {
       "description_width": "",
       "font_size": null,
       "text_color": null
      }
     },
     "4a08e031278f4918bf6048ec496675b2": {
      "model_module": "@jupyter-widgets/base",
      "model_module_version": "2.0.0",
      "model_name": "LayoutModel",
      "state": {}
     },
     "4a2a893589214c42858058cc3d97bff2": {
      "model_module": "@jupyter-widgets/base",
      "model_module_version": "2.0.0",
      "model_name": "LayoutModel",
      "state": {}
     },
     "4ac3b8d5c9da4e7e80f2b1c6c447adb6": {
      "model_module": "@jupyter-widgets/controls",
      "model_module_version": "2.0.0",
      "model_name": "HTMLModel",
      "state": {
       "layout": "IPY_MODEL_0b793fdd75054424ada1cf86a62c936a",
       "style": "IPY_MODEL_3b5779a552fd44e1bce20c7f8db66294",
       "value": " 456k/456k [00:00&lt;00:00, 12.2MB/s]"
      }
     },
     "4bdd36e841c64f50a448b6fc0863ef39": {
      "model_module": "@jupyter-widgets/controls",
      "model_module_version": "2.0.0",
      "model_name": "HBoxModel",
      "state": {
       "children": [
        "IPY_MODEL_fafe5dd7624f4246919a934a7e025609",
        "IPY_MODEL_8d472731056342f28b4e8522e7125368",
        "IPY_MODEL_ca7ad87629604591a550d80dbb44ad35"
       ],
       "layout": "IPY_MODEL_a4ea9530434a4905a728c03bb1494613"
      }
     },
     "4c2c594ff7c04e3fa7e402e7459a6b33": {
      "model_module": "@jupyter-widgets/controls",
      "model_module_version": "2.0.0",
      "model_name": "HTMLStyleModel",
      "state": {
       "description_width": "",
       "font_size": null,
       "text_color": null
      }
     },
     "4cded246575d445a96cc650917dbd762": {
      "model_module": "@jupyter-widgets/controls",
      "model_module_version": "2.0.0",
      "model_name": "HBoxModel",
      "state": {
       "children": [
        "IPY_MODEL_41e23ad313094ba9bb998118d896c6ba",
        "IPY_MODEL_268a5d3ef9964dcdbff9da614028b1a0",
        "IPY_MODEL_888eb0b17618449bae6fb542a9059de3"
       ],
       "layout": "IPY_MODEL_a7301430b0a9474e896cfab9bf8ba80c"
      }
     },
     "4f7cdb0100024aea819ceb7dfb89cf1c": {
      "model_module": "@jupyter-widgets/base",
      "model_module_version": "2.0.0",
      "model_name": "LayoutModel",
      "state": {}
     },
     "517f9a7f4312475fa0af6a07f2e92509": {
      "model_module": "@jupyter-widgets/base",
      "model_module_version": "2.0.0",
      "model_name": "LayoutModel",
      "state": {}
     },
     "51be023caf734f56b9350cf76c934e7f": {
      "model_module": "@jupyter-widgets/controls",
      "model_module_version": "2.0.0",
      "model_name": "FloatProgressModel",
      "state": {
       "bar_style": "success",
       "layout": "IPY_MODEL_44fcaca59b3043dfab916f7acd75ff67",
       "max": 42,
       "style": "IPY_MODEL_1b980615864e4c56b44c635c4ebe0641",
       "value": 42
      }
     },
     "52e9d84dc5794de1b2584be73028e366": {
      "model_module": "@jupyter-widgets/controls",
      "model_module_version": "2.0.0",
      "model_name": "HBoxModel",
      "state": {
       "children": [
        "IPY_MODEL_6f84d203790d493ba1a57afd5f703321",
        "IPY_MODEL_aeb0910298574e9abbc23a2e7f0fbdcd",
        "IPY_MODEL_77fd4f93d0084fa59905076ac12d2288"
       ],
       "layout": "IPY_MODEL_4a2a893589214c42858058cc3d97bff2"
      }
     },
     "541e5012bd32492bbc663f1fd422cb06": {
      "model_module": "@jupyter-widgets/base",
      "model_module_version": "2.0.0",
      "model_name": "LayoutModel",
      "state": {}
     },
     "5467aab3514d43908e72360dde1de248": {
      "model_module": "@jupyter-widgets/base",
      "model_module_version": "2.0.0",
      "model_name": "LayoutModel",
      "state": {}
     },
     "54a7f13cc9f74dffb6c196e47eb50199": {
      "model_module": "@jupyter-widgets/controls",
      "model_module_version": "2.0.0",
      "model_name": "FloatProgressModel",
      "state": {
       "bar_style": "success",
       "layout": "IPY_MODEL_2dee1e3c4fb647c4b6848532f3ca9d45",
       "max": 29,
       "style": "IPY_MODEL_66460bd6ccc442c9a72b6de97810f0b2",
       "value": 29
      }
     },
     "54d33dada85f4244900de4b2e0ade308": {
      "model_module": "@jupyter-widgets/controls",
      "model_module_version": "2.0.0",
      "model_name": "HTMLModel",
      "state": {
       "layout": "IPY_MODEL_82e771e3371c4b268ab597b9d51b7546",
       "style": "IPY_MODEL_e1d645619a524c929c5b47d5d89ac67a",
       "value": "merges.txt: 100%"
      }
     },
     "54dd9bcfcb1a43cfa6ed86fe9122d025": {
      "model_module": "@jupyter-widgets/controls",
      "model_module_version": "2.0.0",
      "model_name": "ProgressStyleModel",
      "state": {
       "description_width": ""
      }
     },
     "550f5830c3bd4988b8db119aa332d260": {
      "model_module": "@jupyter-widgets/controls",
      "model_module_version": "2.0.0",
      "model_name": "HTMLStyleModel",
      "state": {
       "description_width": "",
       "font_size": null,
       "text_color": null
      }
     },
     "551ee29a1aa246238e3fe7826a22c83a": {
      "model_module": "@jupyter-widgets/base",
      "model_module_version": "2.0.0",
      "model_name": "LayoutModel",
      "state": {}
     },
     "555bab7ab73f478e956e7bbffb18890e": {
      "model_module": "@jupyter-widgets/base",
      "model_module_version": "2.0.0",
      "model_name": "LayoutModel",
      "state": {}
     },
     "558deab7c0ab4f47b39e8102d07ce1be": {
      "model_module": "@jupyter-widgets/base",
      "model_module_version": "2.0.0",
      "model_name": "LayoutModel",
      "state": {}
     },
     "55bade12029949ca9b235c30b34b2cc5": {
      "model_module": "@jupyter-widgets/base",
      "model_module_version": "2.0.0",
      "model_name": "LayoutModel",
      "state": {}
     },
     "569a6bb47a2e47b8b97fbd320f78381b": {
      "model_module": "@jupyter-widgets/controls",
      "model_module_version": "2.0.0",
      "model_name": "HTMLModel",
      "state": {
       "layout": "IPY_MODEL_48e7b77964664da68d62217f58131fc8",
       "style": "IPY_MODEL_df93bbc01a0e4cb79bd1d3dc5f0391ab",
       "value": "config.json: 100%"
      }
     },
     "5788281f46de4602aeb6d4885c949582": {
      "model_module": "@jupyter-widgets/controls",
      "model_module_version": "2.0.0",
      "model_name": "HTMLStyleModel",
      "state": {
       "description_width": "",
       "font_size": null,
       "text_color": null
      }
     },
     "57aa7be4bb174f3a8932d08087b9ba87": {
      "model_module": "@jupyter-widgets/controls",
      "model_module_version": "2.0.0",
      "model_name": "FloatProgressModel",
      "state": {
       "bar_style": "success",
       "layout": "IPY_MODEL_2ea00db92c0544ae88dc8dcadbcf1676",
       "max": 48,
       "style": "IPY_MODEL_ea6762c2eaad43bd8fcc2da6722455e8",
       "value": 48
      }
     },
     "58482919592e4e0f8b0a15cb3b24dce2": {
      "model_module": "@jupyter-widgets/base",
      "model_module_version": "2.0.0",
      "model_name": "LayoutModel",
      "state": {}
     },
     "5ae6ed8b52f64d8a9fb44209aec80763": {
      "model_module": "@jupyter-widgets/controls",
      "model_module_version": "2.0.0",
      "model_name": "HTMLModel",
      "state": {
       "layout": "IPY_MODEL_a630e3b24a4541f1920be104df80c6a2",
       "style": "IPY_MODEL_8eddfa6b26aa47bdad6e3dfb4dd4ea76",
       "value": " 42.0/42.0 [00:00&lt;00:00, 5.54kB/s]"
      }
     },
     "5b178ec400054ecaa94100ce7b6ab052": {
      "model_module": "@jupyter-widgets/controls",
      "model_module_version": "2.0.0",
      "model_name": "HTMLStyleModel",
      "state": {
       "description_width": "",
       "font_size": null,
       "text_color": null
      }
     },
     "5b27db8718ef4f53bf65a9dff1861c3b": {
      "model_module": "@jupyter-widgets/controls",
      "model_module_version": "2.0.0",
      "model_name": "FloatProgressModel",
      "state": {
       "bar_style": "success",
       "layout": "IPY_MODEL_62955b8529934beaa11a4d1eb9435e5d",
       "max": 768489,
       "style": "IPY_MODEL_43d73fec7cfc4788bb696ded709e5d79",
       "value": 768489
      }
     },
     "5b72e0fa1f0e4ac58d82ed650916627b": {
      "model_module": "@jupyter-widgets/controls",
      "model_module_version": "2.0.0",
      "model_name": "HTMLStyleModel",
      "state": {
       "description_width": "",
       "font_size": null,
       "text_color": null
      }
     },
     "5bf0e3d039d849339d947947b44b87ef": {
      "model_module": "@jupyter-widgets/controls",
      "model_module_version": "2.0.0",
      "model_name": "HTMLStyleModel",
      "state": {
       "description_width": "",
       "font_size": null,
       "text_color": null
      }
     },
     "5d11594a03654613b429b8f32000f080": {
      "model_module": "@jupyter-widgets/controls",
      "model_module_version": "2.0.0",
      "model_name": "HBoxModel",
      "state": {
       "children": [
        "IPY_MODEL_d2c1c86b015b45e191418b1ca311049a",
        "IPY_MODEL_77dcb21e1be8424b96737c5621da97fb",
        "IPY_MODEL_6e8e41979fc448339d3e1b1c4feccbba"
       ],
       "layout": "IPY_MODEL_3f914e9161cc490396ec46550cf9d564"
      }
     },
     "5d6ac2ad801f4344bb3b1516a52beb91": {
      "model_module": "@jupyter-widgets/controls",
      "model_module_version": "2.0.0",
      "model_name": "HTMLStyleModel",
      "state": {
       "description_width": "",
       "font_size": null,
       "text_color": null
      }
     },
     "5eab8dbcc7e840fe9d52f334bb7bc8f7": {
      "model_module": "@jupyter-widgets/base",
      "model_module_version": "2.0.0",
      "model_name": "LayoutModel",
      "state": {}
     },
     "5eb2832523b140e3926fd89303cb5a57": {
      "model_module": "@jupyter-widgets/controls",
      "model_module_version": "2.0.0",
      "model_name": "ProgressStyleModel",
      "state": {
       "description_width": ""
      }
     },
     "5f135dbfda0c4f0aa44a6e9b7bd38f01": {
      "model_module": "@jupyter-widgets/controls",
      "model_module_version": "2.0.0",
      "model_name": "HBoxModel",
      "state": {
       "children": [
        "IPY_MODEL_e0d490bc64994cd3b1b47cafb7d8ba2a",
        "IPY_MODEL_d044d40a81ae4d97a19f435fade24b55",
        "IPY_MODEL_0e98b629301743078734519e060f12d8"
       ],
       "layout": "IPY_MODEL_35bfe494d1ac402e913c4ccb1ab9e27b"
      }
     },
     "5fb87e442e72446f83116992323a9fa6": {
      "model_module": "@jupyter-widgets/base",
      "model_module_version": "2.0.0",
      "model_name": "LayoutModel",
      "state": {}
     },
     "61f7a6f6d4cb48ed91b5f8c0600d0afd": {
      "model_module": "@jupyter-widgets/controls",
      "model_module_version": "2.0.0",
      "model_name": "HTMLModel",
      "state": {
       "layout": "IPY_MODEL_12c0e4368e2041a2ba48e5a9cc7421a7",
       "style": "IPY_MODEL_64e5180344fa4bd586327a7a885399f9",
       "value": " 298M/298M [00:27&lt;00:00, 11.2MB/s]"
      }
     },
     "62093638b6814146adf328b1722bd24c": {
      "model_module": "@jupyter-widgets/base",
      "model_module_version": "2.0.0",
      "model_name": "LayoutModel",
      "state": {}
     },
     "62955b8529934beaa11a4d1eb9435e5d": {
      "model_module": "@jupyter-widgets/base",
      "model_module_version": "2.0.0",
      "model_name": "LayoutModel",
      "state": {}
     },
     "62d1d892edae443091490fa37d83eea2": {
      "model_module": "@jupyter-widgets/controls",
      "model_module_version": "2.0.0",
      "model_name": "HTMLModel",
      "state": {
       "layout": "IPY_MODEL_3d43745f29b646f7b99c280381ce4ed4",
       "style": "IPY_MODEL_490b031d79414a929cab992acd5b16cd",
       "value": " 1.27M/1.27M [00:01&lt;00:00, 1.27MB/s]"
      }
     },
     "64e5180344fa4bd586327a7a885399f9": {
      "model_module": "@jupyter-widgets/controls",
      "model_module_version": "2.0.0",
      "model_name": "HTMLStyleModel",
      "state": {
       "description_width": "",
       "font_size": null,
       "text_color": null
      }
     },
     "658798a88d7a4b7d80f05ff3e7ac5e64": {
      "model_module": "@jupyter-widgets/base",
      "model_module_version": "2.0.0",
      "model_name": "LayoutModel",
      "state": {}
     },
     "66460bd6ccc442c9a72b6de97810f0b2": {
      "model_module": "@jupyter-widgets/controls",
      "model_module_version": "2.0.0",
      "model_name": "ProgressStyleModel",
      "state": {
       "description_width": ""
      }
     },
     "669b2a0a687748deb4ba9bf446af0338": {
      "model_module": "@jupyter-widgets/controls",
      "model_module_version": "2.0.0",
      "model_name": "HTMLModel",
      "state": {
       "layout": "IPY_MODEL_332a45cda6994b038c16862bb5b3e349",
       "style": "IPY_MODEL_91c6f0a4bf454ad29d8df261d1b7648e",
       "value": "vocab.json: 100%"
      }
     },
     "66defce7c4f34f08abbac1498453fad9": {
      "model_module": "@jupyter-widgets/controls",
      "model_module_version": "2.0.0",
      "model_name": "ProgressStyleModel",
      "state": {
       "description_width": ""
      }
     },
     "681e93f949a34895b3a5fe162bebd419": {
      "model_module": "@jupyter-widgets/controls",
      "model_module_version": "2.0.0",
      "model_name": "HTMLStyleModel",
      "state": {
       "description_width": "",
       "font_size": null,
       "text_color": null
      }
     },
     "689d32ee2fc648ca85d26a9cd7ed17ff": {
      "model_module": "@jupyter-widgets/controls",
      "model_module_version": "2.0.0",
      "model_name": "ProgressStyleModel",
      "state": {
       "description_width": ""
      }
     },
     "68f4c2106d704ec28760aa785be2c420": {
      "model_module": "@jupyter-widgets/controls",
      "model_module_version": "2.0.0",
      "model_name": "HTMLModel",
      "state": {
       "layout": "IPY_MODEL_5fb87e442e72446f83116992323a9fa6",
       "style": "IPY_MODEL_9274d3a4c5a64cc884544a4548103cb6",
       "value": " 48.0/48.0 [00:00&lt;00:00, 3.80kB/s]"
      }
     },
     "699de0e6faf5452189c0bdfea03de415": {
      "model_module": "@jupyter-widgets/controls",
      "model_module_version": "2.0.0",
      "model_name": "HTMLModel",
      "state": {
       "layout": "IPY_MODEL_0e6984090aef420cbe498f4696d0984c",
       "style": "IPY_MODEL_b645f63b5d9745289bc4e89bca0ee19e",
       "value": "source.spm: 100%"
      }
     },
     "6aa16cd1ad2a4f3288b017927309261f": {
      "model_module": "@jupyter-widgets/controls",
      "model_module_version": "2.0.0",
      "model_name": "HTMLStyleModel",
      "state": {
       "description_width": "",
       "font_size": null,
       "text_color": null
      }
     },
     "6ca9d9f2587f44fc9355fb18a9d11b52": {
      "model_module": "@jupyter-widgets/base",
      "model_module_version": "2.0.0",
      "model_name": "LayoutModel",
      "state": {}
     },
     "6cdf97c3ab3149188ee4a662bae41c46": {
      "model_module": "@jupyter-widgets/controls",
      "model_module_version": "2.0.0",
      "model_name": "FloatProgressModel",
      "state": {
       "bar_style": "success",
       "layout": "IPY_MODEL_841ac4c11b2a4414ab744b92ca3f1a70",
       "max": 548105171,
       "style": "IPY_MODEL_0122240af05147709f9af06beff8ec96",
       "value": 548105171
      }
     },
     "6d856d87da4f4c479a28637ed02daf00": {
      "model_module": "@jupyter-widgets/base",
      "model_module_version": "2.0.0",
      "model_name": "LayoutModel",
      "state": {}
     },
     "6e4c7ba08b7b486483818f7d8fd8558f": {
      "model_module": "@jupyter-widgets/base",
      "model_module_version": "2.0.0",
      "model_name": "LayoutModel",
      "state": {}
     },
     "6e8e41979fc448339d3e1b1c4feccbba": {
      "model_module": "@jupyter-widgets/controls",
      "model_module_version": "2.0.0",
      "model_name": "HTMLModel",
      "state": {
       "layout": "IPY_MODEL_b69e2dead4cb4348a8947626d7b79ad4",
       "style": "IPY_MODEL_73c09fac92c04c30b94e9ff9cbde97a2",
       "value": " 665/665 [00:00&lt;00:00, 76.8kB/s]"
      }
     },
     "6f84d203790d493ba1a57afd5f703321": {
      "model_module": "@jupyter-widgets/controls",
      "model_module_version": "2.0.0",
      "model_name": "HTMLModel",
      "state": {
       "layout": "IPY_MODEL_0385a39d5bde4cfd95bf43ec9b10056b",
       "style": "IPY_MODEL_ccb85bdfbff04225b7fca2c3c7e4b173",
       "value": "tokenizer.json: 100%"
      }
     },
     "7067148ae7284ff18f604d657e45f13e": {
      "model_module": "@jupyter-widgets/base",
      "model_module_version": "2.0.0",
      "model_name": "LayoutModel",
      "state": {}
     },
     "7071f25461bc4ec58f030021cd2335e6": {
      "model_module": "@jupyter-widgets/controls",
      "model_module_version": "2.0.0",
      "model_name": "FloatProgressModel",
      "state": {
       "bar_style": "success",
       "layout": "IPY_MODEL_73d62f9d5e494024a3cc059ba5caf0aa",
       "max": 1335,
       "style": "IPY_MODEL_11f93a2930d54a0ab53fbdc7ab6f6f16",
       "value": 1335
      }
     },
     "7076080910534e4bbeaf01e6d46f93b9": {
      "model_module": "@jupyter-widgets/controls",
      "model_module_version": "2.0.0",
      "model_name": "HTMLModel",
      "state": {
       "layout": "IPY_MODEL_944a5b1b40e04b4c9ea2b67e2322f785",
       "style": "IPY_MODEL_33c04f90c1664d5b82a449e8496e564b",
       "value": " 629/629 [00:00&lt;00:00, 27.0kB/s]"
      }
     },
     "72466ee789f44f6a89cf45ded8ae75d7": {
      "model_module": "@jupyter-widgets/controls",
      "model_module_version": "2.0.0",
      "model_name": "HTMLStyleModel",
      "state": {
       "description_width": "",
       "font_size": null,
       "text_color": null
      }
     },
     "73a0411c69be4b69bee51e5448f26312": {
      "model_module": "@jupyter-widgets/base",
      "model_module_version": "2.0.0",
      "model_name": "LayoutModel",
      "state": {}
     },
     "73c09fac92c04c30b94e9ff9cbde97a2": {
      "model_module": "@jupyter-widgets/controls",
      "model_module_version": "2.0.0",
      "model_name": "HTMLStyleModel",
      "state": {
       "description_width": "",
       "font_size": null,
       "text_color": null
      }
     },
     "73d62f9d5e494024a3cc059ba5caf0aa": {
      "model_module": "@jupyter-widgets/base",
      "model_module_version": "2.0.0",
      "model_name": "LayoutModel",
      "state": {}
     },
     "74fde43cb32b4f06896c1ab61c146280": {
      "model_module": "@jupyter-widgets/controls",
      "model_module_version": "2.0.0",
      "model_name": "ProgressStyleModel",
      "state": {
       "description_width": ""
      }
     },
     "778a35e5dda3477b81d11ac119e1fb9d": {
      "model_module": "@jupyter-widgets/controls",
      "model_module_version": "2.0.0",
      "model_name": "FloatProgressModel",
      "state": {
       "bar_style": "success",
       "layout": "IPY_MODEL_814d5c6cda4e4cf4a5edb56dbc9a553c",
       "max": 1334400964,
       "style": "IPY_MODEL_54dd9bcfcb1a43cfa6ed86fe9122d025",
       "value": 1334400964
      }
     },
     "77dcb21e1be8424b96737c5621da97fb": {
      "model_module": "@jupyter-widgets/controls",
      "model_module_version": "2.0.0",
      "model_name": "FloatProgressModel",
      "state": {
       "bar_style": "success",
       "layout": "IPY_MODEL_4a08e031278f4918bf6048ec496675b2",
       "max": 665,
       "style": "IPY_MODEL_15d3e7326ee34109aca54988ba640d68",
       "value": 665
      }
     },
     "77fd4f93d0084fa59905076ac12d2288": {
      "model_module": "@jupyter-widgets/controls",
      "model_module_version": "2.0.0",
      "model_name": "HTMLModel",
      "state": {
       "layout": "IPY_MODEL_09fa719aaf3144f6b1f97dea51cdb124",
       "style": "IPY_MODEL_5d6ac2ad801f4344bb3b1516a52beb91",
       "value": " 1.36M/1.36M [00:01&lt;00:00, 1.35MB/s]"
      }
     },
     "79eb255dee27435c94b7f664300d4245": {
      "model_module": "@jupyter-widgets/controls",
      "model_module_version": "2.0.0",
      "model_name": "HTMLStyleModel",
      "state": {
       "description_width": "",
       "font_size": null,
       "text_color": null
      }
     },
     "7b442a8b59654e44bd437c96ac2dadf9": {
      "model_module": "@jupyter-widgets/base",
      "model_module_version": "2.0.0",
      "model_name": "LayoutModel",
      "state": {}
     },
     "7b9930e51e634e419c73bc540e58718c": {
      "model_module": "@jupyter-widgets/base",
      "model_module_version": "2.0.0",
      "model_name": "LayoutModel",
      "state": {}
     },
     "7c37969943644ef0902ed1b9efc7e08b": {
      "model_module": "@jupyter-widgets/base",
      "model_module_version": "2.0.0",
      "model_name": "LayoutModel",
      "state": {}
     },
     "7e774053aad547deb7ee75c0a360fc7c": {
      "model_module": "@jupyter-widgets/controls",
      "model_module_version": "2.0.0",
      "model_name": "HTMLModel",
      "state": {
       "layout": "IPY_MODEL_c9bd236185d04b568455c6a3fbbc3943",
       "style": "IPY_MODEL_80cb198dc09b4770abe49becacb2349b",
       "value": " 293/293 [00:00&lt;00:00, 37.6kB/s]"
      }
     },
     "7edde02927914eb3b89777260a49e8fa": {
      "model_module": "@jupyter-widgets/controls",
      "model_module_version": "2.0.0",
      "model_name": "HTMLModel",
      "state": {
       "layout": "IPY_MODEL_00cee9d407104ee2a83db26839ffa823",
       "style": "IPY_MODEL_ca4eb2564e1546039ff3e0d2ebb09d25",
       "value": " 29.0/29.0 [00:00&lt;00:00, 3.18kB/s]"
      }
     },
     "7f0eee6d946945119d6d756c0b229360": {
      "model_module": "@jupyter-widgets/base",
      "model_module_version": "2.0.0",
      "model_name": "LayoutModel",
      "state": {}
     },
     "7fd54fef4986438b834cbc2c88783deb": {
      "model_module": "@jupyter-widgets/base",
      "model_module_version": "2.0.0",
      "model_name": "LayoutModel",
      "state": {}
     },
     "80b91d7431ad434a85c81848ccb5cd13": {
      "model_module": "@jupyter-widgets/base",
      "model_module_version": "2.0.0",
      "model_name": "LayoutModel",
      "state": {}
     },
     "80cb198dc09b4770abe49becacb2349b": {
      "model_module": "@jupyter-widgets/controls",
      "model_module_version": "2.0.0",
      "model_name": "HTMLStyleModel",
      "state": {
       "description_width": "",
       "font_size": null,
       "text_color": null
      }
     },
     "814d5c6cda4e4cf4a5edb56dbc9a553c": {
      "model_module": "@jupyter-widgets/base",
      "model_module_version": "2.0.0",
      "model_name": "LayoutModel",
      "state": {}
     },
     "816c38dd02b94702958bba816e4bc9bd": {
      "model_module": "@jupyter-widgets/base",
      "model_module_version": "2.0.0",
      "model_name": "LayoutModel",
      "state": {}
     },
     "8282f91b355c4b1d8c29c3cc745e3a41": {
      "model_module": "@jupyter-widgets/controls",
      "model_module_version": "2.0.0",
      "model_name": "ProgressStyleModel",
      "state": {
       "description_width": ""
      }
     },
     "82ab38695f3749fdb84fdfc12c7808e6": {
      "model_module": "@jupyter-widgets/controls",
      "model_module_version": "2.0.0",
      "model_name": "FloatProgressModel",
      "state": {
       "bar_style": "success",
       "layout": "IPY_MODEL_29dab27025f44ffbb7c14e874c0523ae",
       "max": 473,
       "style": "IPY_MODEL_0749f2ff0b4647d6b767a2d4a6626509",
       "value": 473
      }
     },
     "82e771e3371c4b268ab597b9d51b7546": {
      "model_module": "@jupyter-widgets/base",
      "model_module_version": "2.0.0",
      "model_name": "LayoutModel",
      "state": {}
     },
     "831d4403d2a44017b3fa58de527bad49": {
      "model_module": "@jupyter-widgets/controls",
      "model_module_version": "2.0.0",
      "model_name": "HTMLModel",
      "state": {
       "layout": "IPY_MODEL_c393dd87f7e8413baf60f58692c79481",
       "style": "IPY_MODEL_a44ac474fdba47e49d628aff5bf5362a",
       "value": "tokenizer_config.json: 100%"
      }
     },
     "841ac4c11b2a4414ab744b92ca3f1a70": {
      "model_module": "@jupyter-widgets/base",
      "model_module_version": "2.0.0",
      "model_name": "LayoutModel",
      "state": {}
     },
     "853c86416f074b37ad0e7a1c4387a0b9": {
      "model_module": "@jupyter-widgets/base",
      "model_module_version": "2.0.0",
      "model_name": "LayoutModel",
      "state": {}
     },
     "86e28caef3304b42af9a95858945b9cf": {
      "model_module": "@jupyter-widgets/base",
      "model_module_version": "2.0.0",
      "model_name": "LayoutModel",
      "state": {}
     },
     "87f6dc278e364883a9ae96fc232a99eb": {
      "model_module": "@jupyter-widgets/base",
      "model_module_version": "2.0.0",
      "model_name": "LayoutModel",
      "state": {}
     },
     "888eb0b17618449bae6fb542a9059de3": {
      "model_module": "@jupyter-widgets/controls",
      "model_module_version": "2.0.0",
      "model_name": "HTMLModel",
      "state": {
       "layout": "IPY_MODEL_0e35d20f11e445bea2f96e30b9ca36e5",
       "style": "IPY_MODEL_2360554c3d584ca2b984eeff55535a34",
       "value": " 213k/213k [00:00&lt;00:00, 8.42MB/s]"
      }
     },
     "88e5df2851334924832a51a56f98a683": {
      "model_module": "@jupyter-widgets/base",
      "model_module_version": "2.0.0",
      "model_name": "LayoutModel",
      "state": {}
     },
     "895cd6713b224692b9a6993482f77748": {
      "model_module": "@jupyter-widgets/base",
      "model_module_version": "2.0.0",
      "model_name": "LayoutModel",
      "state": {}
     },
     "8a6ef18505894455aece31dde64fcaee": {
      "model_module": "@jupyter-widgets/controls",
      "model_module_version": "2.0.0",
      "model_name": "HTMLModel",
      "state": {
       "layout": "IPY_MODEL_1dcef87589b247feb151ea23aa5e718b",
       "style": "IPY_MODEL_dbce4a89fcbf4104ab6b4d83b3e45f76",
       "value": "config.json: 100%"
      }
     },
     "8b14651461714d8ea329fb783469367b": {
      "model_module": "@jupyter-widgets/base",
      "model_module_version": "2.0.0",
      "model_name": "LayoutModel",
      "state": {}
     },
     "8c78f094d71e4970a6efa65b7ae51cbd": {
      "model_module": "@jupyter-widgets/controls",
      "model_module_version": "2.0.0",
      "model_name": "HTMLModel",
      "state": {
       "layout": "IPY_MODEL_9ec22352d4694f2696aca247716d0738",
       "style": "IPY_MODEL_681e93f949a34895b3a5fe162bebd419",
       "value": " 1.33k/1.33k [00:00&lt;00:00, 164kB/s]"
      }
     },
     "8cc0f459290746d290b4f7c10a46364a": {
      "model_module": "@jupyter-widgets/controls",
      "model_module_version": "2.0.0",
      "model_name": "ProgressStyleModel",
      "state": {
       "description_width": ""
      }
     },
     "8cdf0b982c134447a9f591b83663b853": {
      "model_module": "@jupyter-widgets/base",
      "model_module_version": "2.0.0",
      "model_name": "LayoutModel",
      "state": {}
     },
     "8d472731056342f28b4e8522e7125368": {
      "model_module": "@jupyter-widgets/controls",
      "model_module_version": "2.0.0",
      "model_name": "FloatProgressModel",
      "state": {
       "bar_style": "success",
       "layout": "IPY_MODEL_853c86416f074b37ad0e7a1c4387a0b9",
       "max": 1222317369,
       "style": "IPY_MODEL_a2e968a570684a6aba8e85f6a8279c5f",
       "value": 1222317369
      }
     },
     "8dd81d4d7a174694ba1a3950f2cc4f12": {
      "model_module": "@jupyter-widgets/controls",
      "model_module_version": "2.0.0",
      "model_name": "HTMLStyleModel",
      "state": {
       "description_width": "",
       "font_size": null,
       "text_color": null
      }
     },
     "8e12726c992e48fdac265e7a4385f331": {
      "model_module": "@jupyter-widgets/controls",
      "model_module_version": "2.0.0",
      "model_name": "ProgressStyleModel",
      "state": {
       "description_width": ""
      }
     },
     "8edacbe137c74afd9885503c3e5833f8": {
      "model_module": "@jupyter-widgets/base",
      "model_module_version": "2.0.0",
      "model_name": "LayoutModel",
      "state": {}
     },
     "8eddfa6b26aa47bdad6e3dfb4dd4ea76": {
      "model_module": "@jupyter-widgets/controls",
      "model_module_version": "2.0.0",
      "model_name": "HTMLStyleModel",
      "state": {
       "description_width": "",
       "font_size": null,
       "text_color": null
      }
     },
     "91c6f0a4bf454ad29d8df261d1b7648e": {
      "model_module": "@jupyter-widgets/controls",
      "model_module_version": "2.0.0",
      "model_name": "HTMLStyleModel",
      "state": {
       "description_width": "",
       "font_size": null,
       "text_color": null
      }
     },
     "92517e41d810446ead7fa13ca4e9609e": {
      "model_module": "@jupyter-widgets/controls",
      "model_module_version": "2.0.0",
      "model_name": "HTMLStyleModel",
      "state": {
       "description_width": "",
       "font_size": null,
       "text_color": null
      }
     },
     "9274d3a4c5a64cc884544a4548103cb6": {
      "model_module": "@jupyter-widgets/controls",
      "model_module_version": "2.0.0",
      "model_name": "HTMLStyleModel",
      "state": {
       "description_width": "",
       "font_size": null,
       "text_color": null
      }
     },
     "92dccfac630f4e1e9e4b16560191185d": {
      "model_module": "@jupyter-widgets/controls",
      "model_module_version": "2.0.0",
      "model_name": "HBoxModel",
      "state": {
       "children": [
        "IPY_MODEL_da73c69632414f11a154e50f9d4d1e9d",
        "IPY_MODEL_eef65698328348f6861a988c189c6c4d",
        "IPY_MODEL_aa4731c3123540aca38e79e66288001d"
       ],
       "layout": "IPY_MODEL_be4600ee245d458691f1aa61a35044e3"
      }
     },
     "93355a8c06a74f508d00e2f7c590e797": {
      "model_module": "@jupyter-widgets/base",
      "model_module_version": "2.0.0",
      "model_name": "LayoutModel",
      "state": {}
     },
     "93cec18e65cc4efcbd6f65eb685fa98f": {
      "model_module": "@jupyter-widgets/controls",
      "model_module_version": "2.0.0",
      "model_name": "HTMLModel",
      "state": {
       "layout": "IPY_MODEL_ae73de78161541499102a6152cd68c1c",
       "style": "IPY_MODEL_6aa16cd1ad2a4f3288b017927309261f",
       "value": " 1.04M/1.04M [00:00&lt;00:00, 1.26MB/s]"
      }
     },
     "944a5b1b40e04b4c9ea2b67e2322f785": {
      "model_module": "@jupyter-widgets/base",
      "model_module_version": "2.0.0",
      "model_name": "LayoutModel",
      "state": {}
     },
     "95ab3c050fb94631b84dcd33a4d87979": {
      "model_module": "@jupyter-widgets/controls",
      "model_module_version": "2.0.0",
      "model_name": "ProgressStyleModel",
      "state": {
       "description_width": ""
      }
     },
     "974b5ce1481a471897f7cd04078aebab": {
      "model_module": "@jupyter-widgets/controls",
      "model_module_version": "2.0.0",
      "model_name": "HTMLStyleModel",
      "state": {
       "description_width": "",
       "font_size": null,
       "text_color": null
      }
     },
     "984650ed4a97452d860d915bf9707b1a": {
      "model_module": "@jupyter-widgets/controls",
      "model_module_version": "2.0.0",
      "model_name": "HTMLModel",
      "state": {
       "layout": "IPY_MODEL_4f7cdb0100024aea819ceb7dfb89cf1c",
       "style": "IPY_MODEL_d60b39bda8664fbeb1f9e03d0dcf4121",
       "value": "pytorch_model.bin: 100%"
      }
     },
     "9aa144c761b8433aac443518a7eb370f": {
      "model_module": "@jupyter-widgets/base",
      "model_module_version": "2.0.0",
      "model_name": "LayoutModel",
      "state": {}
     },
     "9b0fd66fafed4244946c70a6b92ac945": {
      "model_module": "@jupyter-widgets/controls",
      "model_module_version": "2.0.0",
      "model_name": "HTMLStyleModel",
      "state": {
       "description_width": "",
       "font_size": null,
       "text_color": null
      }
     },
     "9b225b95154440deb3bde48cafd2de9a": {
      "model_module": "@jupyter-widgets/controls",
      "model_module_version": "2.0.0",
      "model_name": "HTMLModel",
      "state": {
       "layout": "IPY_MODEL_14aafda0b8694c7daf84a173d6335633",
       "style": "IPY_MODEL_f8c411bcb1244bb0b1453440b7f23778",
       "value": " 899k/899k [00:00&lt;00:00, 2.28MB/s]"
      }
     },
     "9bf8de7aea3147c184bbd642f0cfba38": {
      "model_module": "@jupyter-widgets/controls",
      "model_module_version": "2.0.0",
      "model_name": "HBoxModel",
      "state": {
       "children": [
        "IPY_MODEL_a776dd12aa3646edb06fa6a86bcc2f69",
        "IPY_MODEL_d6596e853f1e43e282183fae5ad2327f",
        "IPY_MODEL_f9ba881b872c439a9a349cbe8f35e92b"
       ],
       "layout": "IPY_MODEL_8edacbe137c74afd9885503c3e5833f8"
      }
     },
     "9eafc42539aa4d02a843b3e2c3db4501": {
      "model_module": "@jupyter-widgets/base",
      "model_module_version": "2.0.0",
      "model_name": "LayoutModel",
      "state": {}
     },
     "9ec22352d4694f2696aca247716d0738": {
      "model_module": "@jupyter-widgets/base",
      "model_module_version": "2.0.0",
      "model_name": "LayoutModel",
      "state": {}
     },
     "9f257c938b8b447782aa41ac86739a97": {
      "model_module": "@jupyter-widgets/controls",
      "model_module_version": "2.0.0",
      "model_name": "FloatProgressModel",
      "state": {
       "bar_style": "success",
       "layout": "IPY_MODEL_541e5012bd32492bbc663f1fd422cb06",
       "max": 796845,
       "style": "IPY_MODEL_5eb2832523b140e3926fd89303cb5a57",
       "value": 796845
      }
     },
     "9f26b625045c465296afdef4dddb9b6c": {
      "model_module": "@jupyter-widgets/controls",
      "model_module_version": "2.0.0",
      "model_name": "HTMLStyleModel",
      "state": {
       "description_width": "",
       "font_size": null,
       "text_color": null
      }
     },
     "9f3fc34eb4a742e692772a7b925b991a": {
      "model_module": "@jupyter-widgets/base",
      "model_module_version": "2.0.0",
      "model_name": "LayoutModel",
      "state": {}
     },
     "9f86e8f35f904295a99072ff14a32aac": {
      "model_module": "@jupyter-widgets/base",
      "model_module_version": "2.0.0",
      "model_name": "LayoutModel",
      "state": {}
     },
     "a0c2b49849eb4c8a9f82b41c491e398a": {
      "model_module": "@jupyter-widgets/base",
      "model_module_version": "2.0.0",
      "model_name": "LayoutModel",
      "state": {}
     },
     "a1d744b300204e62a2772cdb22a96318": {
      "model_module": "@jupyter-widgets/base",
      "model_module_version": "2.0.0",
      "model_name": "LayoutModel",
      "state": {}
     },
     "a1e982297b1142409a019e1aebe13561": {
      "model_module": "@jupyter-widgets/base",
      "model_module_version": "2.0.0",
      "model_name": "LayoutModel",
      "state": {}
     },
     "a28b6d5c3374411ebcd32032b74887e6": {
      "model_module": "@jupyter-widgets/base",
      "model_module_version": "2.0.0",
      "model_name": "LayoutModel",
      "state": {}
     },
     "a2e968a570684a6aba8e85f6a8279c5f": {
      "model_module": "@jupyter-widgets/controls",
      "model_module_version": "2.0.0",
      "model_name": "ProgressStyleModel",
      "state": {
       "description_width": ""
      }
     },
     "a44ac474fdba47e49d628aff5bf5362a": {
      "model_module": "@jupyter-widgets/controls",
      "model_module_version": "2.0.0",
      "model_name": "HTMLStyleModel",
      "state": {
       "description_width": "",
       "font_size": null,
       "text_color": null
      }
     },
     "a466fcf7467e4ebba38270054e48c6fd": {
      "model_module": "@jupyter-widgets/controls",
      "model_module_version": "2.0.0",
      "model_name": "HBoxModel",
      "state": {
       "children": [
        "IPY_MODEL_0ffe6cf067824c9c9b23694c8b1dfbfb",
        "IPY_MODEL_cd434b2253c54cba8bfcc003f006aa4f",
        "IPY_MODEL_e59eeb78de594cc1b168411ddae9d2ab"
       ],
       "layout": "IPY_MODEL_3a3457a867284aa49ac4f82f70e2477c"
      }
     },
     "a4ea9530434a4905a728c03bb1494613": {
      "model_module": "@jupyter-widgets/base",
      "model_module_version": "2.0.0",
      "model_name": "LayoutModel",
      "state": {}
     },
     "a5775745344945f293a8c6624b74506b": {
      "model_module": "@jupyter-widgets/base",
      "model_module_version": "2.0.0",
      "model_name": "LayoutModel",
      "state": {}
     },
     "a630e3b24a4541f1920be104df80c6a2": {
      "model_module": "@jupyter-widgets/base",
      "model_module_version": "2.0.0",
      "model_name": "LayoutModel",
      "state": {}
     },
     "a683622b01b24fa2983b638afd12b2ff": {
      "model_module": "@jupyter-widgets/controls",
      "model_module_version": "2.0.0",
      "model_name": "ProgressStyleModel",
      "state": {
       "description_width": ""
      }
     },
     "a6c33333597e4f96811b35e6a25d7229": {
      "model_module": "@jupyter-widgets/base",
      "model_module_version": "2.0.0",
      "model_name": "LayoutModel",
      "state": {}
     },
     "a7301430b0a9474e896cfab9bf8ba80c": {
      "model_module": "@jupyter-widgets/base",
      "model_module_version": "2.0.0",
      "model_name": "LayoutModel",
      "state": {}
     },
     "a776dd12aa3646edb06fa6a86bcc2f69": {
      "model_module": "@jupyter-widgets/controls",
      "model_module_version": "2.0.0",
      "model_name": "HTMLModel",
      "state": {
       "layout": "IPY_MODEL_f16514655a3b4aa6be1319b7c97771fa",
       "style": "IPY_MODEL_550f5830c3bd4988b8db119aa332d260",
       "value": "config.json: 100%"
      }
     },
     "a7e2ffdaea9d4d7b8e3f437fb6977b74": {
      "model_module": "@jupyter-widgets/controls",
      "model_module_version": "2.0.0",
      "model_name": "ProgressStyleModel",
      "state": {
       "description_width": ""
      }
     },
     "a937d25c9fc9403ab5497fd97f4528c8": {
      "model_module": "@jupyter-widgets/base",
      "model_module_version": "2.0.0",
      "model_name": "LayoutModel",
      "state": {}
     },
     "a9c1c8c77b4748ba9b12b7a7e0604577": {
      "model_module": "@jupyter-widgets/controls",
      "model_module_version": "2.0.0",
      "model_name": "ProgressStyleModel",
      "state": {
       "description_width": ""
      }
     },
     "aa4731c3123540aca38e79e66288001d": {
      "model_module": "@jupyter-widgets/controls",
      "model_module_version": "2.0.0",
      "model_name": "HTMLModel",
      "state": {
       "layout": "IPY_MODEL_e18a048bd4d24139a364e11b3830b1a3",
       "style": "IPY_MODEL_2c3fb9c67dc944599d5017615bf1baf2",
       "value": " 261M/261M [00:22&lt;00:00, 11.4MB/s]"
      }
     },
     "ab3b171e83e4420a9fec4a8fe9ced47f": {
      "model_module": "@jupyter-widgets/controls",
      "model_module_version": "2.0.0",
      "model_name": "HTMLModel",
      "state": {
       "layout": "IPY_MODEL_3e232b6caad141dbbdafb5e34fda7cd4",
       "style": "IPY_MODEL_974b5ce1481a471897f7cd04078aebab",
       "value": " 797k/797k [00:00&lt;00:00, 2.00MB/s]"
      }
     },
     "ab4a86d17eac4e56a5cbbd598f24880a": {
      "model_module": "@jupyter-widgets/controls",
      "model_module_version": "2.0.0",
      "model_name": "HBoxModel",
      "state": {
       "children": [
        "IPY_MODEL_44866afd45794507bc0da18a92079309",
        "IPY_MODEL_54a7f13cc9f74dffb6c196e47eb50199",
        "IPY_MODEL_7edde02927914eb3b89777260a49e8fa"
       ],
       "layout": "IPY_MODEL_f72467832f1b48159305c41daecb1bcc"
      }
     },
     "ac1a2a7c4f0847efbedd213ecd125f77": {
      "model_module": "@jupyter-widgets/base",
      "model_module_version": "2.0.0",
      "model_name": "LayoutModel",
      "state": {}
     },
     "ac43fd846b264130b6cce1fa7bd99fcf": {
      "model_module": "@jupyter-widgets/controls",
      "model_module_version": "2.0.0",
      "model_name": "HTMLStyleModel",
      "state": {
       "description_width": "",
       "font_size": null,
       "text_color": null
      }
     },
     "ac7ffe88fdb14851afaf28e484341c98": {
      "model_module": "@jupyter-widgets/controls",
      "model_module_version": "2.0.0",
      "model_name": "ProgressStyleModel",
      "state": {
       "description_width": ""
      }
     },
     "acefd8be03ff4d169fff3262c5727e8e": {
      "model_module": "@jupyter-widgets/controls",
      "model_module_version": "2.0.0",
      "model_name": "HTMLModel",
      "state": {
       "layout": "IPY_MODEL_517f9a7f4312475fa0af6a07f2e92509",
       "style": "IPY_MODEL_0799d766b09144d28b9911c86020bf4f",
       "value": "model.safetensors: 100%"
      }
     },
     "ad076924933340cbadcde846e989e490": {
      "model_module": "@jupyter-widgets/controls",
      "model_module_version": "2.0.0",
      "model_name": "HBoxModel",
      "state": {
       "children": [
        "IPY_MODEL_22a489697c8b46d4bab82c96a347c610",
        "IPY_MODEL_82ab38695f3749fdb84fdfc12c7808e6",
        "IPY_MODEL_bddc4942fdb24b3bb99bb09b9aef23d9"
       ],
       "layout": "IPY_MODEL_551ee29a1aa246238e3fe7826a22c83a"
      }
     },
     "ad41e1a1676f4ddf913a8e49534a1610": {
      "model_module": "@jupyter-widgets/controls",
      "model_module_version": "2.0.0",
      "model_name": "HBoxModel",
      "state": {
       "children": [
        "IPY_MODEL_10e607a83d544bc68a68323f3d801948",
        "IPY_MODEL_51be023caf734f56b9350cf76c934e7f",
        "IPY_MODEL_5ae6ed8b52f64d8a9fb44209aec80763"
       ],
       "layout": "IPY_MODEL_a937d25c9fc9403ab5497fd97f4528c8"
      }
     },
     "ae73de78161541499102a6152cd68c1c": {
      "model_module": "@jupyter-widgets/base",
      "model_module_version": "2.0.0",
      "model_name": "LayoutModel",
      "state": {}
     },
     "aeb0910298574e9abbc23a2e7f0fbdcd": {
      "model_module": "@jupyter-widgets/controls",
      "model_module_version": "2.0.0",
      "model_name": "FloatProgressModel",
      "state": {
       "bar_style": "success",
       "layout": "IPY_MODEL_80b91d7431ad434a85c81848ccb5cd13",
       "max": 1355256,
       "style": "IPY_MODEL_a7e2ffdaea9d4d7b8e3f437fb6977b74",
       "value": 1355256
      }
     },
     "afe578d196b8424f81386c056fc1f029": {
      "model_module": "@jupyter-widgets/controls",
      "model_module_version": "2.0.0",
      "model_name": "ProgressStyleModel",
      "state": {
       "description_width": ""
      }
     },
     "b21ec2e63f014a14b78a697b96be02f8": {
      "model_module": "@jupyter-widgets/base",
      "model_module_version": "2.0.0",
      "model_name": "LayoutModel",
      "state": {}
     },
     "b2783e621b1742ea8b928236710b9db2": {
      "model_module": "@jupyter-widgets/base",
      "model_module_version": "2.0.0",
      "model_name": "LayoutModel",
      "state": {}
     },
     "b3dcfbcd71df4b8b8518f715f8a02aec": {
      "model_module": "@jupyter-widgets/base",
      "model_module_version": "2.0.0",
      "model_name": "LayoutModel",
      "state": {}
     },
     "b4b10ae659a64e1582bfb51172ab9dfc": {
      "model_module": "@jupyter-widgets/controls",
      "model_module_version": "2.0.0",
      "model_name": "HTMLStyleModel",
      "state": {
       "description_width": "",
       "font_size": null,
       "text_color": null
      }
     },
     "b645f63b5d9745289bc4e89bca0ee19e": {
      "model_module": "@jupyter-widgets/controls",
      "model_module_version": "2.0.0",
      "model_name": "HTMLStyleModel",
      "state": {
       "description_width": "",
       "font_size": null,
       "text_color": null
      }
     },
     "b69e2dead4cb4348a8947626d7b79ad4": {
      "model_module": "@jupyter-widgets/base",
      "model_module_version": "2.0.0",
      "model_name": "LayoutModel",
      "state": {}
     },
     "b6cfad1412604a48927b42201bfd3bc2": {
      "model_module": "@jupyter-widgets/controls",
      "model_module_version": "2.0.0",
      "model_name": "HTMLStyleModel",
      "state": {
       "description_width": "",
       "font_size": null,
       "text_color": null
      }
     },
     "b7d471e3369548e6ab0b5a3df8ead339": {
      "model_module": "@jupyter-widgets/base",
      "model_module_version": "2.0.0",
      "model_name": "LayoutModel",
      "state": {}
     },
     "bddc4942fdb24b3bb99bb09b9aef23d9": {
      "model_module": "@jupyter-widgets/controls",
      "model_module_version": "2.0.0",
      "model_name": "HTMLModel",
      "state": {
       "layout": "IPY_MODEL_f373898a2253412abf235c62be0abf81",
       "style": "IPY_MODEL_ac43fd846b264130b6cce1fa7bd99fcf",
       "value": " 473/473 [00:00&lt;00:00, 47.2kB/s]"
      }
     },
     "bde0097f3ef946de9f895ee12f6e0712": {
      "model_module": "@jupyter-widgets/controls",
      "model_module_version": "2.0.0",
      "model_name": "HBoxModel",
      "state": {
       "children": [
        "IPY_MODEL_984650ed4a97452d860d915bf9707b1a",
        "IPY_MODEL_47c217fddcb74d2b82bd2d5df29dcf3e",
        "IPY_MODEL_61f7a6f6d4cb48ed91b5f8c0600d0afd"
       ],
       "layout": "IPY_MODEL_b7d471e3369548e6ab0b5a3df8ead339"
      }
     },
     "be4600ee245d458691f1aa61a35044e3": {
      "model_module": "@jupyter-widgets/base",
      "model_module_version": "2.0.0",
      "model_name": "LayoutModel",
      "state": {}
     },
     "c0587527f6bc413e86c37ed9bbd57cb7": {
      "model_module": "@jupyter-widgets/controls",
      "model_module_version": "2.0.0",
      "model_name": "HBoxModel",
      "state": {
       "children": [
        "IPY_MODEL_43fdfe1f61274302af5b7a9db43808c3",
        "IPY_MODEL_cfab3bb53c7341998c1fea3178f7a18c",
        "IPY_MODEL_7e774053aad547deb7ee75c0a360fc7c"
       ],
       "layout": "IPY_MODEL_213c5b59c2d242a49b54c6463c9fa353"
      }
     },
     "c168f343025946b6817393b5760e64b0": {
      "model_module": "@jupyter-widgets/controls",
      "model_module_version": "2.0.0",
      "model_name": "HTMLStyleModel",
      "state": {
       "description_width": "",
       "font_size": null,
       "text_color": null
      }
     },
     "c366c894665c4a0d8e6fae79c5b8a5fc": {
      "model_module": "@jupyter-widgets/controls",
      "model_module_version": "2.0.0",
      "model_name": "HTMLStyleModel",
      "state": {
       "description_width": "",
       "font_size": null,
       "text_color": null
      }
     },
     "c376112b2f964794bc7fa6c4f0880d71": {
      "model_module": "@jupyter-widgets/controls",
      "model_module_version": "2.0.0",
      "model_name": "FloatProgressModel",
      "state": {
       "bar_style": "success",
       "layout": "IPY_MODEL_cdf626ff04674d14904794086f9a3b4c",
       "max": 898822,
       "style": "IPY_MODEL_66defce7c4f34f08abbac1498453fad9",
       "value": 898822
      }
     },
     "c393dd87f7e8413baf60f58692c79481": {
      "model_module": "@jupyter-widgets/base",
      "model_module_version": "2.0.0",
      "model_name": "LayoutModel",
      "state": {}
     },
     "c6cc89a8588741b4a2ba13f76dd8204a": {
      "model_module": "@jupyter-widgets/controls",
      "model_module_version": "2.0.0",
      "model_name": "HBoxModel",
      "state": {
       "children": [
        "IPY_MODEL_699de0e6faf5452189c0bdfea03de415",
        "IPY_MODEL_5b27db8718ef4f53bf65a9dff1861c3b",
        "IPY_MODEL_c7faf09411894a8a9402e18bfde2cba8"
       ],
       "layout": "IPY_MODEL_f1db61c65fbd4c17bdd2c6bd33727445"
      }
     },
     "c7f350c077bc4e7382c8950c2012707a": {
      "model_module": "@jupyter-widgets/base",
      "model_module_version": "2.0.0",
      "model_name": "LayoutModel",
      "state": {}
     },
     "c7faf09411894a8a9402e18bfde2cba8": {
      "model_module": "@jupyter-widgets/controls",
      "model_module_version": "2.0.0",
      "model_name": "HTMLModel",
      "state": {
       "layout": "IPY_MODEL_04e39d6becef41abb06096d7b796180b",
       "style": "IPY_MODEL_42c26056cd96431ea90f7d6de4a00e7e",
       "value": " 768k/768k [00:00&lt;00:00, 11.9MB/s]"
      }
     },
     "c89fbe26d8af48ecbded1678e2e07d52": {
      "model_module": "@jupyter-widgets/controls",
      "model_module_version": "2.0.0",
      "model_name": "ProgressStyleModel",
      "state": {
       "description_width": ""
      }
     },
     "c9ac23fe54d144ec8e9d3cf7c1f7d1d6": {
      "model_module": "@jupyter-widgets/controls",
      "model_module_version": "2.0.0",
      "model_name": "FloatProgressModel",
      "state": {
       "bar_style": "success",
       "layout": "IPY_MODEL_9eafc42539aa4d02a843b3e2c3db4501",
       "max": 1042301,
       "style": "IPY_MODEL_f05daa31a34943f1ace7375f510b584c",
       "value": 1042301
      }
     },
     "c9bd236185d04b568455c6a3fbbc3943": {
      "model_module": "@jupyter-widgets/base",
      "model_module_version": "2.0.0",
      "model_name": "LayoutModel",
      "state": {}
     },
     "ca3fb4961d6444a0a1e2fd40e1ed4310": {
      "model_module": "@jupyter-widgets/controls",
      "model_module_version": "2.0.0",
      "model_name": "HTMLModel",
      "state": {
       "layout": "IPY_MODEL_2f76e5499d914a2691e86a834e3dc5ee",
       "style": "IPY_MODEL_09aac156b66245f69410f341d69e6e9f",
       "value": "vocab.txt: 100%"
      }
     },
     "ca4eb2564e1546039ff3e0d2ebb09d25": {
      "model_module": "@jupyter-widgets/controls",
      "model_module_version": "2.0.0",
      "model_name": "HTMLStyleModel",
      "state": {
       "description_width": "",
       "font_size": null,
       "text_color": null
      }
     },
     "ca7ad87629604591a550d80dbb44ad35": {
      "model_module": "@jupyter-widgets/controls",
      "model_module_version": "2.0.0",
      "model_name": "HTMLModel",
      "state": {
       "layout": "IPY_MODEL_1580de6d0e9e413a828b2b5f4f1f067d",
       "style": "IPY_MODEL_c366c894665c4a0d8e6fae79c5b8a5fc",
       "value": " 1.22G/1.22G [01:46&lt;00:00, 11.5MB/s]"
      }
     },
     "cc5f4cf64de54352b9daf8d86da7e0d6": {
      "model_module": "@jupyter-widgets/controls",
      "model_module_version": "2.0.0",
      "model_name": "HBoxModel",
      "state": {
       "children": [
        "IPY_MODEL_2c68b21cf85f4c12a0f665d3e8219cb6",
        "IPY_MODEL_9f257c938b8b447782aa41ac86739a97",
        "IPY_MODEL_ab3b171e83e4420a9fec4a8fe9ced47f"
       ],
       "layout": "IPY_MODEL_73a0411c69be4b69bee51e5448f26312"
      }
     },
     "cc8b5233e18848b6be33ddfe5043816c": {
      "model_module": "@jupyter-widgets/controls",
      "model_module_version": "2.0.0",
      "model_name": "HTMLModel",
      "state": {
       "layout": "IPY_MODEL_6ca9d9f2587f44fc9355fb18a9d11b52",
       "style": "IPY_MODEL_5b178ec400054ecaa94100ce7b6ab052",
       "value": " 60.0/60.0 [00:00&lt;00:00, 4.36kB/s]"
      }
     },
     "ccb85bdfbff04225b7fca2c3c7e4b173": {
      "model_module": "@jupyter-widgets/controls",
      "model_module_version": "2.0.0",
      "model_name": "HTMLStyleModel",
      "state": {
       "description_width": "",
       "font_size": null,
       "text_color": null
      }
     },
     "ccc7bedd46db43029d354ddd05b81538": {
      "model_module": "@jupyter-widgets/controls",
      "model_module_version": "2.0.0",
      "model_name": "HTMLStyleModel",
      "state": {
       "description_width": "",
       "font_size": null,
       "text_color": null
      }
     },
     "ccdf884ed8d64773809994555210993a": {
      "model_module": "@jupyter-widgets/base",
      "model_module_version": "2.0.0",
      "model_name": "LayoutModel",
      "state": {}
     },
     "cd434b2253c54cba8bfcc003f006aa4f": {
      "model_module": "@jupyter-widgets/controls",
      "model_module_version": "2.0.0",
      "model_name": "FloatProgressModel",
      "state": {
       "bar_style": "success",
       "layout": "IPY_MODEL_33ed27eb429a4ab1a4560253ef31a4f6",
       "max": 124,
       "style": "IPY_MODEL_dc89d871c3cc40b7a465e3909ec234e2",
       "value": 124
      }
     },
     "cd47d8e01a564b7491cdfbe2e2ecafb8": {
      "model_module": "@jupyter-widgets/controls",
      "model_module_version": "2.0.0",
      "model_name": "HTMLStyleModel",
      "state": {
       "description_width": "",
       "font_size": null,
       "text_color": null
      }
     },
     "cdf626ff04674d14904794086f9a3b4c": {
      "model_module": "@jupyter-widgets/base",
      "model_module_version": "2.0.0",
      "model_name": "LayoutModel",
      "state": {}
     },
     "cecabb3833c1497cb1614edb86c25fa0": {
      "model_module": "@jupyter-widgets/base",
      "model_module_version": "2.0.0",
      "model_name": "LayoutModel",
      "state": {}
     },
     "cfab3bb53c7341998c1fea3178f7a18c": {
      "model_module": "@jupyter-widgets/controls",
      "model_module_version": "2.0.0",
      "model_name": "FloatProgressModel",
      "state": {
       "bar_style": "success",
       "layout": "IPY_MODEL_7b9930e51e634e419c73bc540e58718c",
       "max": 293,
       "style": "IPY_MODEL_303aeb99ec3d4ef1add595347af70287",
       "value": 293
      }
     },
     "d03ad99da8584990b220e0e1cb24329e": {
      "model_module": "@jupyter-widgets/base",
      "model_module_version": "2.0.0",
      "model_name": "LayoutModel",
      "state": {}
     },
     "d044d40a81ae4d97a19f435fade24b55": {
      "model_module": "@jupyter-widgets/controls",
      "model_module_version": "2.0.0",
      "model_name": "FloatProgressModel",
      "state": {
       "bar_style": "success",
       "layout": "IPY_MODEL_169bac73b1ea4858ba3b650b611a80fd",
       "max": 435797,
       "style": "IPY_MODEL_8cc0f459290746d290b4f7c10a46364a",
       "value": 435797
      }
     },
     "d25e935baea94ea98a1aa223e08a7c62": {
      "model_module": "@jupyter-widgets/controls",
      "model_module_version": "2.0.0",
      "model_name": "HTMLStyleModel",
      "state": {
       "description_width": "",
       "font_size": null,
       "text_color": null
      }
     },
     "d2c1c86b015b45e191418b1ca311049a": {
      "model_module": "@jupyter-widgets/controls",
      "model_module_version": "2.0.0",
      "model_name": "HTMLModel",
      "state": {
       "layout": "IPY_MODEL_5467aab3514d43908e72360dde1de248",
       "style": "IPY_MODEL_ffbe0fbb8f6e4d859537ccf00f4e6f83",
       "value": "config.json: 100%"
      }
     },
     "d60b39bda8664fbeb1f9e03d0dcf4121": {
      "model_module": "@jupyter-widgets/controls",
      "model_module_version": "2.0.0",
      "model_name": "HTMLStyleModel",
      "state": {
       "description_width": "",
       "font_size": null,
       "text_color": null
      }
     },
     "d6596e853f1e43e282183fae5ad2327f": {
      "model_module": "@jupyter-widgets/controls",
      "model_module_version": "2.0.0",
      "model_name": "FloatProgressModel",
      "state": {
       "bar_style": "success",
       "layout": "IPY_MODEL_b21ec2e63f014a14b78a697b96be02f8",
       "max": 998,
       "style": "IPY_MODEL_a9c1c8c77b4748ba9b12b7a7e0604577",
       "value": 998
      }
     },
     "d8ea66a8c42d49a48228c9d58cdf1a3d": {
      "model_module": "@jupyter-widgets/controls",
      "model_module_version": "2.0.0",
      "model_name": "HTMLModel",
      "state": {
       "layout": "IPY_MODEL_7f0eee6d946945119d6d756c0b229360",
       "style": "IPY_MODEL_79eb255dee27435c94b7f664300d4245",
       "value": "vocab.json: 100%"
      }
     },
     "da73c69632414f11a154e50f9d4d1e9d": {
      "model_module": "@jupyter-widgets/controls",
      "model_module_version": "2.0.0",
      "model_name": "HTMLModel",
      "state": {
       "layout": "IPY_MODEL_3f1c6850db644ff7b3f18751cfcc8c16",
       "style": "IPY_MODEL_72466ee789f44f6a89cf45ded8ae75d7",
       "value": "model.safetensors: 100%"
      }
     },
     "dbce4a89fcbf4104ab6b4d83b3e45f76": {
      "model_module": "@jupyter-widgets/controls",
      "model_module_version": "2.0.0",
      "model_name": "HTMLStyleModel",
      "state": {
       "description_width": "",
       "font_size": null,
       "text_color": null
      }
     },
     "dc0b943c2dd948f6a313870cf6165a59": {
      "model_module": "@jupyter-widgets/controls",
      "model_module_version": "2.0.0",
      "model_name": "FloatProgressModel",
      "state": {
       "bar_style": "success",
       "layout": "IPY_MODEL_a6c33333597e4f96811b35e6a25d7229",
       "max": 231508,
       "style": "IPY_MODEL_de1b3a4a78a6484b82c7f4bdd4ec79f7",
       "value": 231508
      }
     },
     "dc3f45fd878d40578fbc236bf2a8b9b2": {
      "model_module": "@jupyter-widgets/base",
      "model_module_version": "2.0.0",
      "model_name": "LayoutModel",
      "state": {}
     },
     "dc89d871c3cc40b7a465e3909ec234e2": {
      "model_module": "@jupyter-widgets/controls",
      "model_module_version": "2.0.0",
      "model_name": "ProgressStyleModel",
      "state": {
       "description_width": ""
      }
     },
     "dc9481d06ff54655a9ff29dc3a18d53e": {
      "model_module": "@jupyter-widgets/base",
      "model_module_version": "2.0.0",
      "model_name": "LayoutModel",
      "state": {}
     },
     "de1b3a4a78a6484b82c7f4bdd4ec79f7": {
      "model_module": "@jupyter-widgets/controls",
      "model_module_version": "2.0.0",
      "model_name": "ProgressStyleModel",
      "state": {
       "description_width": ""
      }
     },
     "df93bbc01a0e4cb79bd1d3dc5f0391ab": {
      "model_module": "@jupyter-widgets/controls",
      "model_module_version": "2.0.0",
      "model_name": "HTMLStyleModel",
      "state": {
       "description_width": "",
       "font_size": null,
       "text_color": null
      }
     },
     "e0095933b5cf48f88a7330d461bb0c71": {
      "model_module": "@jupyter-widgets/controls",
      "model_module_version": "2.0.0",
      "model_name": "HTMLModel",
      "state": {
       "layout": "IPY_MODEL_6e4c7ba08b7b486483818f7d8fd8558f",
       "style": "IPY_MODEL_b4b10ae659a64e1582bfb51172ab9dfc",
       "value": " 26.0/26.0 [00:00&lt;00:00, 3.14kB/s]"
      }
     },
     "e0a29f27e3944496b60cc99dad42854f": {
      "model_module": "@jupyter-widgets/base",
      "model_module_version": "2.0.0",
      "model_name": "LayoutModel",
      "state": {}
     },
     "e0d490bc64994cd3b1b47cafb7d8ba2a": {
      "model_module": "@jupyter-widgets/controls",
      "model_module_version": "2.0.0",
      "model_name": "HTMLModel",
      "state": {
       "layout": "IPY_MODEL_7fd54fef4986438b834cbc2c88783deb",
       "style": "IPY_MODEL_1b6181f605b448e3bd228a26aea6f792",
       "value": "tokenizer.json: 100%"
      }
     },
     "e14719ea18b4450bbf153f5387402d64": {
      "model_module": "@jupyter-widgets/controls",
      "model_module_version": "2.0.0",
      "model_name": "HTMLStyleModel",
      "state": {
       "description_width": "",
       "font_size": null,
       "text_color": null
      }
     },
     "e18a048bd4d24139a364e11b3830b1a3": {
      "model_module": "@jupyter-widgets/base",
      "model_module_version": "2.0.0",
      "model_name": "LayoutModel",
      "state": {}
     },
     "e1c34b49d57f47f194ac4f6df91b6cd3": {
      "model_module": "@jupyter-widgets/controls",
      "model_module_version": "2.0.0",
      "model_name": "HBoxModel",
      "state": {
       "children": [
        "IPY_MODEL_569a6bb47a2e47b8b97fbd320f78381b",
        "IPY_MODEL_46773cfee1454773a7866a666d946623",
        "IPY_MODEL_39cb83688d9a4f6f8204588a9be06ded"
       ],
       "layout": "IPY_MODEL_44019445298b4aeda1444f511ede8181"
      }
     },
     "e1d645619a524c929c5b47d5d89ac67a": {
      "model_module": "@jupyter-widgets/controls",
      "model_module_version": "2.0.0",
      "model_name": "HTMLStyleModel",
      "state": {
       "description_width": "",
       "font_size": null,
       "text_color": null
      }
     },
     "e2033010e51c46ffa63fa2e0b1d3b165": {
      "model_module": "@jupyter-widgets/base",
      "model_module_version": "2.0.0",
      "model_name": "LayoutModel",
      "state": {}
     },
     "e285bf77efdc48fd88018d7a10470c28": {
      "model_module": "@jupyter-widgets/base",
      "model_module_version": "2.0.0",
      "model_name": "LayoutModel",
      "state": {}
     },
     "e59eeb78de594cc1b168411ddae9d2ab": {
      "model_module": "@jupyter-widgets/controls",
      "model_module_version": "2.0.0",
      "model_name": "HTMLModel",
      "state": {
       "layout": "IPY_MODEL_cecabb3833c1497cb1614edb86c25fa0",
       "style": "IPY_MODEL_36c95c2a32b740408d9f95023e77e521",
       "value": " 124/124 [00:00&lt;00:00, 15.1kB/s]"
      }
     },
     "e6dcb78440594ef7a1e7656a59756765": {
      "model_module": "@jupyter-widgets/controls",
      "model_module_version": "2.0.0",
      "model_name": "HTMLModel",
      "state": {
       "layout": "IPY_MODEL_93355a8c06a74f508d00e2f7c590e797",
       "style": "IPY_MODEL_24e9d05a5a0847b5abe2e18b2cd7ab82",
       "value": "vocab.json: 100%"
      }
     },
     "ea6762c2eaad43bd8fcc2da6722455e8": {
      "model_module": "@jupyter-widgets/controls",
      "model_module_version": "2.0.0",
      "model_name": "ProgressStyleModel",
      "state": {
       "description_width": ""
      }
     },
     "ea85178b203a4f83918c4921435ce592": {
      "model_module": "@jupyter-widgets/controls",
      "model_module_version": "2.0.0",
      "model_name": "ProgressStyleModel",
      "state": {
       "description_width": ""
      }
     },
     "eab055fbe41849c5908d080463ee6715": {
      "model_module": "@jupyter-widgets/controls",
      "model_module_version": "2.0.0",
      "model_name": "HBoxModel",
      "state": {
       "children": [
        "IPY_MODEL_ca3fb4961d6444a0a1e2fd40e1ed4310",
        "IPY_MODEL_3d19c0c3226e4dbab89dd805f24b7525",
        "IPY_MODEL_fb9ff9708b5149d0bdf64c340eaa34ce"
       ],
       "layout": "IPY_MODEL_ac1a2a7c4f0847efbedd213ecd125f77"
      }
     },
     "ebd01652edf44c12975a48b1b288b829": {
      "model_module": "@jupyter-widgets/base",
      "model_module_version": "2.0.0",
      "model_name": "LayoutModel",
      "state": {}
     },
     "ec99102ac6db4ca081043978e0115bed": {
      "model_module": "@jupyter-widgets/controls",
      "model_module_version": "2.0.0",
      "model_name": "HTMLStyleModel",
      "state": {
       "description_width": "",
       "font_size": null,
       "text_color": null
      }
     },
     "ed8b4a8b384b4ea0b812316bc3b505f4": {
      "model_module": "@jupyter-widgets/controls",
      "model_module_version": "2.0.0",
      "model_name": "HBoxModel",
      "state": {
       "children": [
        "IPY_MODEL_8a6ef18505894455aece31dde64fcaee",
        "IPY_MODEL_7071f25461bc4ec58f030021cd2335e6",
        "IPY_MODEL_8c78f094d71e4970a6efa65b7ae51cbd"
       ],
       "layout": "IPY_MODEL_558deab7c0ab4f47b39e8102d07ce1be"
      }
     },
     "eef65698328348f6861a988c189c6c4d": {
      "model_module": "@jupyter-widgets/controls",
      "model_module_version": "2.0.0",
      "model_name": "FloatProgressModel",
      "state": {
       "bar_style": "success",
       "layout": "IPY_MODEL_a1e982297b1142409a019e1aebe13561",
       "max": 260782156,
       "style": "IPY_MODEL_a683622b01b24fa2983b638afd12b2ff",
       "value": 260782156
      }
     },
     "efe05620a8bf4cb2aaa477a170e3a8b0": {
      "model_module": "@jupyter-widgets/controls",
      "model_module_version": "2.0.0",
      "model_name": "HTMLModel",
      "state": {
       "layout": "IPY_MODEL_55bade12029949ca9b235c30b34b2cc5",
       "style": "IPY_MODEL_18a9ff0353c14ae78223b31cf1ea61d4",
       "value": " 548M/548M [00:47&lt;00:00, 11.5MB/s]"
      }
     },
     "f05daa31a34943f1ace7375f510b584c": {
      "model_module": "@jupyter-widgets/controls",
      "model_module_version": "2.0.0",
      "model_name": "ProgressStyleModel",
      "state": {
       "description_width": ""
      }
     },
     "f16514655a3b4aa6be1319b7c97771fa": {
      "model_module": "@jupyter-widgets/base",
      "model_module_version": "2.0.0",
      "model_name": "LayoutModel",
      "state": {}
     },
     "f1d36e3667fa43a8ad9ca2f590bcd223": {
      "model_module": "@jupyter-widgets/controls",
      "model_module_version": "2.0.0",
      "model_name": "FloatProgressModel",
      "state": {
       "bar_style": "success",
       "layout": "IPY_MODEL_87f6dc278e364883a9ae96fc232a99eb",
       "max": 1273232,
       "style": "IPY_MODEL_8e12726c992e48fdac265e7a4385f331",
       "value": 1273232
      }
     },
     "f1db61c65fbd4c17bdd2c6bd33727445": {
      "model_module": "@jupyter-widgets/base",
      "model_module_version": "2.0.0",
      "model_name": "LayoutModel",
      "state": {}
     },
     "f2381d62ba934634a05ab99253cfb787": {
      "model_module": "@jupyter-widgets/controls",
      "model_module_version": "2.0.0",
      "model_name": "HBoxModel",
      "state": {
       "children": [
        "IPY_MODEL_10c29094c5ee44758c83275da5c72f07",
        "IPY_MODEL_57aa7be4bb174f3a8932d08087b9ba87",
        "IPY_MODEL_68f4c2106d704ec28760aa785be2c420"
       ],
       "layout": "IPY_MODEL_58482919592e4e0f8b0a15cb3b24dce2"
      }
     },
     "f2787bc48dd84f1e8ba815eb00fbf3d0": {
      "model_module": "@jupyter-widgets/controls",
      "model_module_version": "2.0.0",
      "model_name": "HBoxModel",
      "state": {
       "children": [
        "IPY_MODEL_f449f4e2ccd94f96abc102306e63cc5a",
        "IPY_MODEL_383e64a7dd284d73a4153b9d0dcaa740",
        "IPY_MODEL_e0095933b5cf48f88a7330d461bb0c71"
       ],
       "layout": "IPY_MODEL_b2783e621b1742ea8b928236710b9db2"
      }
     },
     "f373898a2253412abf235c62be0abf81": {
      "model_module": "@jupyter-widgets/base",
      "model_module_version": "2.0.0",
      "model_name": "LayoutModel",
      "state": {}
     },
     "f449f4e2ccd94f96abc102306e63cc5a": {
      "model_module": "@jupyter-widgets/controls",
      "model_module_version": "2.0.0",
      "model_name": "HTMLModel",
      "state": {
       "layout": "IPY_MODEL_16ff0feb445d435aa48bc5d146e09f75",
       "style": "IPY_MODEL_ccc7bedd46db43029d354ddd05b81538",
       "value": "tokenizer_config.json: 100%"
      }
     },
     "f5e635943db844e49dca6a7267a48f56": {
      "model_module": "@jupyter-widgets/controls",
      "model_module_version": "2.0.0",
      "model_name": "HTMLModel",
      "state": {
       "layout": "IPY_MODEL_8cdf0b982c134447a9f591b83663b853",
       "style": "IPY_MODEL_d25e935baea94ea98a1aa223e08a7c62",
       "value": " 1.33G/1.33G [01:56&lt;00:00, 11.4MB/s]"
      }
     },
     "f72467832f1b48159305c41daecb1bcc": {
      "model_module": "@jupyter-widgets/base",
      "model_module_version": "2.0.0",
      "model_name": "LayoutModel",
      "state": {}
     },
     "f7c9ef5ebd3d406abe2c82933afaadb5": {
      "model_module": "@jupyter-widgets/controls",
      "model_module_version": "2.0.0",
      "model_name": "FloatProgressModel",
      "state": {
       "bar_style": "success",
       "layout": "IPY_MODEL_658798a88d7a4b7d80f05ff3e7ac5e64",
       "max": 60,
       "style": "IPY_MODEL_8282f91b355c4b1d8c29c3cc745e3a41",
       "value": 60
      }
     },
     "f8c411bcb1244bb0b1453440b7f23778": {
      "model_module": "@jupyter-widgets/controls",
      "model_module_version": "2.0.0",
      "model_name": "HTMLStyleModel",
      "state": {
       "description_width": "",
       "font_size": null,
       "text_color": null
      }
     },
     "f9ba881b872c439a9a349cbe8f35e92b": {
      "model_module": "@jupyter-widgets/controls",
      "model_module_version": "2.0.0",
      "model_name": "HTMLModel",
      "state": {
       "layout": "IPY_MODEL_fd765887fa3242cd932de32ca80cda6b",
       "style": "IPY_MODEL_1b9d5f30117d43dda3379ac28d413816",
       "value": " 998/998 [00:00&lt;00:00, 82.6kB/s]"
      }
     },
     "f9bba6605c7d4c428fb8fddde034b94d": {
      "model_module": "@jupyter-widgets/controls",
      "model_module_version": "2.0.0",
      "model_name": "FloatProgressModel",
      "state": {
       "bar_style": "success",
       "layout": "IPY_MODEL_e285bf77efdc48fd88018d7a10470c28",
       "max": 456318,
       "style": "IPY_MODEL_c89fbe26d8af48ecbded1678e2e07d52",
       "value": 456318
      }
     },
     "fafe5dd7624f4246919a934a7e025609": {
      "model_module": "@jupyter-widgets/controls",
      "model_module_version": "2.0.0",
      "model_name": "HTMLModel",
      "state": {
       "layout": "IPY_MODEL_e0a29f27e3944496b60cc99dad42854f",
       "style": "IPY_MODEL_9b0fd66fafed4244946c70a6b92ac945",
       "value": "pytorch_model.bin: 100%"
      }
     },
     "fb39c2df3b564689be7960b8def13667": {
      "model_module": "@jupyter-widgets/base",
      "model_module_version": "2.0.0",
      "model_name": "LayoutModel",
      "state": {}
     },
     "fb9ff9708b5149d0bdf64c340eaa34ce": {
      "model_module": "@jupyter-widgets/controls",
      "model_module_version": "2.0.0",
      "model_name": "HTMLModel",
      "state": {
       "layout": "IPY_MODEL_7b442a8b59654e44bd437c96ac2dadf9",
       "style": "IPY_MODEL_c168f343025946b6817393b5760e64b0",
       "value": " 213k/213k [00:00&lt;00:00, 529kB/s]"
      }
     },
     "fd765887fa3242cd932de32ca80cda6b": {
      "model_module": "@jupyter-widgets/base",
      "model_module_version": "2.0.0",
      "model_name": "LayoutModel",
      "state": {}
     },
     "fe4d2df5f47346eb8cba8f90a5d72dd3": {
      "model_module": "@jupyter-widgets/controls",
      "model_module_version": "2.0.0",
      "model_name": "HTMLModel",
      "state": {
       "layout": "IPY_MODEL_555bab7ab73f478e956e7bbffb18890e",
       "style": "IPY_MODEL_1f1fb8fc16d144ecbd74338358a52144",
       "value": "merges.txt: 100%"
      }
     },
     "ffbc80b869784659a9811e8af142adb5": {
      "model_module": "@jupyter-widgets/base",
      "model_module_version": "2.0.0",
      "model_name": "LayoutModel",
      "state": {}
     },
     "ffbe0fbb8f6e4d859537ccf00f4e6f83": {
      "model_module": "@jupyter-widgets/controls",
      "model_module_version": "2.0.0",
      "model_name": "HTMLStyleModel",
      "state": {
       "description_width": "",
       "font_size": null,
       "text_color": null
      }
     }
    },
    "version_major": 2,
    "version_minor": 0
   }
  }
 },
 "nbformat": 4,
 "nbformat_minor": 5
}
