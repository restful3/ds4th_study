{
  "cells": [
    {
      "cell_type": "markdown",
      "metadata": {
        "id": "hG-9TItbcc_Y"
      },
      "source": [
        "<table align=\"left\"><tr><td>\n",
        "<a href=\"https://colab.research.google.com/github/rickiepark/nlp-with-transformers/blob/main/05_text-generation.ipynb\" target=\"_parent\"><img src=\"https://colab.research.google.com/assets/colab-badge.svg\" alt=\"코랩에서 실행하기\"/></a>\n",
        "</td></tr></table>"
      ]
    },
    {
      "cell_type": "markdown",
      "source": [
        "이 노트북을 코랩에서 실행하려면 Pro 버전이 필요할 수 있습니다."
      ],
      "metadata": {
        "id": "tucDf46LCJcS"
      }
    },
    {
      "cell_type": "code",
      "execution_count": 1,
      "metadata": {
        "id": "58T6yPqYcc_b",
        "outputId": "9ec0b6e6-25cf-4a5a-f182-8029420a16e1",
        "colab": {
          "base_uri": "https://localhost:8080/"
        }
      },
      "outputs": [
        {
          "output_type": "stream",
          "name": "stdout",
          "text": [
            "Cloning into 'nlp-with-transformers'...\n",
            "remote: Enumerating objects: 618, done.\u001b[K\n",
            "remote: Counting objects: 100% (49/49), done.\u001b[K\n",
            "remote: Compressing objects: 100% (45/45), done.\u001b[K\n",
            "remote: Total 618 (delta 25), reused 5 (delta 3), pack-reused 569\u001b[K\n",
            "Receiving objects: 100% (618/618), 60.30 MiB | 27.85 MiB/s, done.\n",
            "Resolving deltas: 100% (313/313), done.\n",
            "/content/nlp-with-transformers\n",
            "⏳ Installing base requirements ...\n",
            "✅ Base requirements installed!\n",
            "Using transformers v4.34.0\n",
            "Using datasets v2.14.5\n",
            "Using accelerate v0.23.0\n",
            "Using sentencepiece v0.1.99\n"
          ]
        }
      ],
      "source": [
        "# 코랩을 사용하지 않으면 다음 코드를 주석 처리하세요.\n",
        "!git clone https://github.com/rickiepark/nlp-with-transformers.git\n",
        "%cd nlp-with-transformers\n",
        "from install import *\n",
        "install_requirements(chapter=5)"
      ]
    },
    {
      "cell_type": "markdown",
      "metadata": {
        "id": "8PxLrZpzcc_d"
      },
      "source": [
        "# 텍스트 생성"
      ]
    },
    {
      "cell_type": "markdown",
      "metadata": {
        "id": "anXdAUF-cc_d"
      },
      "source": [
        "<img alt=\"LM Meta Learning\" width=\"800\" caption=\"During pretraining, language models are exposed to sequences of tasks that can be adapted during inference (courtesy of Tom B. Brown)\" src=\"https://github.com/rickiepark/nlp-with-transformers/blob/main/images/chapter05_lm-meta-learning.png?raw=1\" id=\"lm-meta-learning\"/>"
      ]
    },
    {
      "cell_type": "markdown",
      "metadata": {
        "id": "BCza8tCycc_d"
      },
      "source": [
        "<img alt=\"Meena\" width=\"300\" caption=\"Meena on the left telling a corny joke to a human on the right (courtesy of Daniel Adiwardana and Thang Luong)\" src=\"https://github.com/rickiepark/nlp-with-transformers/blob/main/images/chapter05_meena.png?raw=1\" id=\"meena\"/>"
      ]
    },
    {
      "cell_type": "markdown",
      "metadata": {
        "id": "xLBHNj2fcc_d"
      },
      "source": [
        "## 일관성 있는 텍스트 생성의 어려움"
      ]
    },
    {
      "cell_type": "markdown",
      "metadata": {
        "id": "aNMbth-dcc_e"
      },
      "source": [
        "<img alt=\"Text generation\" width=\"700\" caption=\"Generating text from an input sequence by adding a new word to the input at each step\" src=\"https://github.com/rickiepark/nlp-with-transformers/blob/main/images/chapter05_text-generation.png?raw=1\" id=\"text-generation\"/>"
      ]
    },
    {
      "cell_type": "markdown",
      "metadata": {
        "id": "tnOUO5GBcc_e"
      },
      "source": [
        "## 그리디 서치 디코딩"
      ]
    },
    {
      "cell_type": "code",
      "execution_count": 2,
      "metadata": {
        "id": "CXLUrc1ucc_f",
        "outputId": "28c5b91b-22b8-43c2-b7ab-20b9122dcbb9",
        "colab": {
          "base_uri": "https://localhost:8080/",
          "height": 209,
          "referenced_widgets": [
            "fdfd2e3c4ece4a64b02e899e3adc7040",
            "2afa4472bf7443f288f85af7504e468f",
            "e63cc6899dfc4c2ca4d129b13167ad44",
            "746ece4505bf4f0cae51a9dd1ff6a737",
            "926062147b744e6d90c3cfba2ee1a37b",
            "dd5dc5b170e94802901060410e040e27",
            "0e600864b02a4b2da7dd41ae44801631",
            "3d450a2de9564f54959405302fef053c",
            "da2ece8aa36c42df8e963f33241f0069",
            "4413472d78324417899d8fe3e9793a86",
            "116d61a4aaa84181aec947e514d3275e",
            "e678d460005b48b2b346272c1ee88f67",
            "a852dc3ade054b8480fae6d209d828d6",
            "07798ec896a9426c9e2e16198316342f",
            "31cffae9a74241ddae2253282c94cd61",
            "e363ed29dd714003b1b3e7d8a1caa120",
            "1f24f0fb4964402a8fd7f7f6efb7dadc",
            "241d0c3697df43c7930cf1374c604bf5",
            "ba137f5941994e8bb6107d69a5743e9d",
            "5f5e758cbe884036b34c9b36367f615f",
            "f72a8fd8e3114aada253fe48acf81ffb",
            "579ea57ff0af4e328804855721fd390e",
            "7554d182a2244dba99939ce3fc246422",
            "ee0d89dab2f44506900b78153b06b5cb",
            "1b2c315f35d84bbc987a049ef80374cc",
            "2e7675ac082a450fbf0e37b12fb7a057",
            "d254b773ee6c40cca6c71326b9318208",
            "c0d9bc37aac344daba826de76478e675",
            "ccb05b15382642168b1bff9038ae7a47",
            "ecb2e657c1244a0f9c4e457f07e98cc5",
            "e500676f881c45bfa8e3f273761ed396",
            "6cf91164e36948f8912f198f0f2d57ae",
            "0c90c963724042db83164f4377dc5b7a",
            "4f87e7312c584e64a35772340a47e74e",
            "fbf645de786641249ea2cbca76960333",
            "3444f5437aa347c290864bba2f1d0e1d",
            "5af550220885415b84c0ede24535e482",
            "155a66b09f4c4a0f9c32ca28c3c57295",
            "ba0e96a5312b4f5bbedae9f46fbff98b",
            "1cc3e6e068ea4997bf472d9fba5edacf",
            "0cff7d55bee84ca4bd842e4d4fb53676",
            "09f94fdefa1e4c4b98051bfea7721281",
            "d191f0a42a8f46ce806c84c38af651eb",
            "5b2b1329c2104d6db2eb598ae8bf20b5",
            "106a064921ba4e22a424b2b82e644ff1",
            "c64503f738e2456f9bff4e98d168e84c",
            "740da980f3e846b18d9e5767d94ccc53",
            "6b5ad623a8544f7c815cb95e8f6adbd2",
            "7a363d0c4bbd4904b0bf13f762a84219",
            "681bb6f81465487f836235e0b556e087",
            "74230a5fdd9e4c1185856af239beedd2",
            "bc335ab42e304810b67c977d182a847b",
            "e8f2eabee611429c930fa09e3de00b2f",
            "0fbdf570022743909a0086975dacae62",
            "214abc0a07254365b9bbe278c6b744b2",
            "7d091e76598e459fbb427525b8cd0f3b",
            "52cd49349a9c48f79f1778871e47edaa",
            "1dbcda09906c4040bd0ebd0c68bcae51",
            "f1d63f8717e54ef79840403d9166c9e2",
            "c2a577f8106e477a99626bf840a37c8f",
            "8cf21b78ff03437d9e84ebb53bc2a7cc",
            "0556faed296440eb80a5b6755dc4808f",
            "23f96653cc5841289739c2e13fa5ef91",
            "35b86403ee9d4191bd8b3ced0c76d71a",
            "3d0ea9a86c504d8386819d471affd7cb",
            "6d96e3f0a15b4b2d922c8437d9e99915"
          ]
        }
      },
      "outputs": [
        {
          "output_type": "display_data",
          "data": {
            "text/plain": [
              "Downloading (…)lve/main/config.json:   0%|          | 0.00/689 [00:00<?, ?B/s]"
            ],
            "application/vnd.jupyter.widget-view+json": {
              "version_major": 2,
              "version_minor": 0,
              "model_id": "fdfd2e3c4ece4a64b02e899e3adc7040"
            }
          },
          "metadata": {}
        },
        {
          "output_type": "display_data",
          "data": {
            "text/plain": [
              "Downloading (…)olve/main/vocab.json:   0%|          | 0.00/1.04M [00:00<?, ?B/s]"
            ],
            "application/vnd.jupyter.widget-view+json": {
              "version_major": 2,
              "version_minor": 0,
              "model_id": "e678d460005b48b2b346272c1ee88f67"
            }
          },
          "metadata": {}
        },
        {
          "output_type": "display_data",
          "data": {
            "text/plain": [
              "Downloading (…)olve/main/merges.txt:   0%|          | 0.00/456k [00:00<?, ?B/s]"
            ],
            "application/vnd.jupyter.widget-view+json": {
              "version_major": 2,
              "version_minor": 0,
              "model_id": "7554d182a2244dba99939ce3fc246422"
            }
          },
          "metadata": {}
        },
        {
          "output_type": "display_data",
          "data": {
            "text/plain": [
              "Downloading (…)/main/tokenizer.json:   0%|          | 0.00/1.36M [00:00<?, ?B/s]"
            ],
            "application/vnd.jupyter.widget-view+json": {
              "version_major": 2,
              "version_minor": 0,
              "model_id": "4f87e7312c584e64a35772340a47e74e"
            }
          },
          "metadata": {}
        },
        {
          "output_type": "display_data",
          "data": {
            "text/plain": [
              "Downloading pytorch_model.bin:   0%|          | 0.00/6.43G [00:00<?, ?B/s]"
            ],
            "application/vnd.jupyter.widget-view+json": {
              "version_major": 2,
              "version_minor": 0,
              "model_id": "106a064921ba4e22a424b2b82e644ff1"
            }
          },
          "metadata": {}
        },
        {
          "output_type": "display_data",
          "data": {
            "text/plain": [
              "Downloading (…)neration_config.json:   0%|          | 0.00/124 [00:00<?, ?B/s]"
            ],
            "application/vnd.jupyter.widget-view+json": {
              "version_major": 2,
              "version_minor": 0,
              "model_id": "7d091e76598e459fbb427525b8cd0f3b"
            }
          },
          "metadata": {}
        }
      ],
      "source": [
        "import torch\n",
        "from transformers import AutoTokenizer, AutoModelForCausalLM\n",
        "\n",
        "device = \"cuda\" if torch.cuda.is_available() else \"cpu\"\n",
        "\n",
        "# 코랩의 경우 gpt2-xl을 사용하면 메모리 부족 에러가 발생합니다.\n",
        "# 대신 \"gpt\" 또는 \"gpt2-large\"로 지정하거나 코랩 프로를 사용하세요.\n",
        "model_name = \"gpt2-xl\"\n",
        "\n",
        "tokenizer = AutoTokenizer.from_pretrained(model_name)\n",
        "model = AutoModelForCausalLM.from_pretrained(model_name).to(device)"
      ]
    },
    {
      "cell_type": "code",
      "execution_count": 3,
      "metadata": {
        "id": "Aa7cAAQacc_f",
        "outputId": "00af4db7-73c8-46c6-b5e1-01041b675bc8",
        "colab": {
          "base_uri": "https://localhost:8080/",
          "height": 422
        }
      },
      "outputs": [
        {
          "output_type": "execute_result",
          "data": {
            "text/plain": [
              "                                               Input           Choice 1  \\\n",
              "0                               Transformers are the       most (8.53%)   \n",
              "1                          Transformers are the most   popular (16.78%)   \n",
              "2                  Transformers are the most popular       toy (10.63%)   \n",
              "3              Transformers are the most popular toy      line (34.38%)   \n",
              "4         Transformers are the most popular toy line        in (46.28%)   \n",
              "5      Transformers are the most popular toy line in       the (65.99%)   \n",
              "6  Transformers are the most popular toy line in the     world (69.26%)   \n",
              "7  Transformers are the most popular toy line in ...         , (39.73%)   \n",
              "\n",
              "            Choice 2               Choice 3               Choice 4  \\\n",
              "0       only (4.96%)           best (4.65%)   Transformers (4.37%)   \n",
              "1   powerful (5.37%)         common (4.96%)         famous (3.72%)   \n",
              "2       toys (7.23%)   Transformers (6.60%)             of (5.46%)   \n",
              "3        in (18.20%)            of (11.71%)          brand (6.10%)   \n",
              "4        of (15.09%)              , (4.94%)             on (4.40%)   \n",
              "5   history (12.42%)        America (6.91%)          Japan (2.44%)   \n",
              "6     United (4.55%)        history (4.29%)             US (4.23%)   \n",
              "7         . (30.64%)            and (9.87%)           with (2.32%)   \n",
              "\n",
              "              Choice 5  \n",
              "0     ultimate (2.16%)  \n",
              "1   successful (3.20%)  \n",
              "2          and (3.76%)  \n",
              "3         line (2.69%)  \n",
              "4         ever (2.72%)  \n",
              "5        North (1.40%)  \n",
              "6            U (2.30%)  \n",
              "7        today (1.74%)  "
            ],
            "text/html": [
              "\n",
              "  <div id=\"df-c1974bea-0b30-4633-acc5-9ed3a68289cf\" class=\"colab-df-container\">\n",
              "    <div>\n",
              "<style scoped>\n",
              "    .dataframe tbody tr th:only-of-type {\n",
              "        vertical-align: middle;\n",
              "    }\n",
              "\n",
              "    .dataframe tbody tr th {\n",
              "        vertical-align: top;\n",
              "    }\n",
              "\n",
              "    .dataframe thead th {\n",
              "        text-align: right;\n",
              "    }\n",
              "</style>\n",
              "<table border=\"1\" class=\"dataframe\">\n",
              "  <thead>\n",
              "    <tr style=\"text-align: right;\">\n",
              "      <th></th>\n",
              "      <th>Input</th>\n",
              "      <th>Choice 1</th>\n",
              "      <th>Choice 2</th>\n",
              "      <th>Choice 3</th>\n",
              "      <th>Choice 4</th>\n",
              "      <th>Choice 5</th>\n",
              "    </tr>\n",
              "  </thead>\n",
              "  <tbody>\n",
              "    <tr>\n",
              "      <th>0</th>\n",
              "      <td>Transformers are the</td>\n",
              "      <td>most (8.53%)</td>\n",
              "      <td>only (4.96%)</td>\n",
              "      <td>best (4.65%)</td>\n",
              "      <td>Transformers (4.37%)</td>\n",
              "      <td>ultimate (2.16%)</td>\n",
              "    </tr>\n",
              "    <tr>\n",
              "      <th>1</th>\n",
              "      <td>Transformers are the most</td>\n",
              "      <td>popular (16.78%)</td>\n",
              "      <td>powerful (5.37%)</td>\n",
              "      <td>common (4.96%)</td>\n",
              "      <td>famous (3.72%)</td>\n",
              "      <td>successful (3.20%)</td>\n",
              "    </tr>\n",
              "    <tr>\n",
              "      <th>2</th>\n",
              "      <td>Transformers are the most popular</td>\n",
              "      <td>toy (10.63%)</td>\n",
              "      <td>toys (7.23%)</td>\n",
              "      <td>Transformers (6.60%)</td>\n",
              "      <td>of (5.46%)</td>\n",
              "      <td>and (3.76%)</td>\n",
              "    </tr>\n",
              "    <tr>\n",
              "      <th>3</th>\n",
              "      <td>Transformers are the most popular toy</td>\n",
              "      <td>line (34.38%)</td>\n",
              "      <td>in (18.20%)</td>\n",
              "      <td>of (11.71%)</td>\n",
              "      <td>brand (6.10%)</td>\n",
              "      <td>line (2.69%)</td>\n",
              "    </tr>\n",
              "    <tr>\n",
              "      <th>4</th>\n",
              "      <td>Transformers are the most popular toy line</td>\n",
              "      <td>in (46.28%)</td>\n",
              "      <td>of (15.09%)</td>\n",
              "      <td>, (4.94%)</td>\n",
              "      <td>on (4.40%)</td>\n",
              "      <td>ever (2.72%)</td>\n",
              "    </tr>\n",
              "    <tr>\n",
              "      <th>5</th>\n",
              "      <td>Transformers are the most popular toy line in</td>\n",
              "      <td>the (65.99%)</td>\n",
              "      <td>history (12.42%)</td>\n",
              "      <td>America (6.91%)</td>\n",
              "      <td>Japan (2.44%)</td>\n",
              "      <td>North (1.40%)</td>\n",
              "    </tr>\n",
              "    <tr>\n",
              "      <th>6</th>\n",
              "      <td>Transformers are the most popular toy line in the</td>\n",
              "      <td>world (69.26%)</td>\n",
              "      <td>United (4.55%)</td>\n",
              "      <td>history (4.29%)</td>\n",
              "      <td>US (4.23%)</td>\n",
              "      <td>U (2.30%)</td>\n",
              "    </tr>\n",
              "    <tr>\n",
              "      <th>7</th>\n",
              "      <td>Transformers are the most popular toy line in ...</td>\n",
              "      <td>, (39.73%)</td>\n",
              "      <td>. (30.64%)</td>\n",
              "      <td>and (9.87%)</td>\n",
              "      <td>with (2.32%)</td>\n",
              "      <td>today (1.74%)</td>\n",
              "    </tr>\n",
              "  </tbody>\n",
              "</table>\n",
              "</div>\n",
              "    <div class=\"colab-df-buttons\">\n",
              "\n",
              "  <div class=\"colab-df-container\">\n",
              "    <button class=\"colab-df-convert\" onclick=\"convertToInteractive('df-c1974bea-0b30-4633-acc5-9ed3a68289cf')\"\n",
              "            title=\"Convert this dataframe to an interactive table.\"\n",
              "            style=\"display:none;\">\n",
              "\n",
              "  <svg xmlns=\"http://www.w3.org/2000/svg\" height=\"24px\" viewBox=\"0 -960 960 960\">\n",
              "    <path d=\"M120-120v-720h720v720H120Zm60-500h600v-160H180v160Zm220 220h160v-160H400v160Zm0 220h160v-160H400v160ZM180-400h160v-160H180v160Zm440 0h160v-160H620v160ZM180-180h160v-160H180v160Zm440 0h160v-160H620v160Z\"/>\n",
              "  </svg>\n",
              "    </button>\n",
              "\n",
              "  <style>\n",
              "    .colab-df-container {\n",
              "      display:flex;\n",
              "      gap: 12px;\n",
              "    }\n",
              "\n",
              "    .colab-df-convert {\n",
              "      background-color: #E8F0FE;\n",
              "      border: none;\n",
              "      border-radius: 50%;\n",
              "      cursor: pointer;\n",
              "      display: none;\n",
              "      fill: #1967D2;\n",
              "      height: 32px;\n",
              "      padding: 0 0 0 0;\n",
              "      width: 32px;\n",
              "    }\n",
              "\n",
              "    .colab-df-convert:hover {\n",
              "      background-color: #E2EBFA;\n",
              "      box-shadow: 0px 1px 2px rgba(60, 64, 67, 0.3), 0px 1px 3px 1px rgba(60, 64, 67, 0.15);\n",
              "      fill: #174EA6;\n",
              "    }\n",
              "\n",
              "    .colab-df-buttons div {\n",
              "      margin-bottom: 4px;\n",
              "    }\n",
              "\n",
              "    [theme=dark] .colab-df-convert {\n",
              "      background-color: #3B4455;\n",
              "      fill: #D2E3FC;\n",
              "    }\n",
              "\n",
              "    [theme=dark] .colab-df-convert:hover {\n",
              "      background-color: #434B5C;\n",
              "      box-shadow: 0px 1px 3px 1px rgba(0, 0, 0, 0.15);\n",
              "      filter: drop-shadow(0px 1px 2px rgba(0, 0, 0, 0.3));\n",
              "      fill: #FFFFFF;\n",
              "    }\n",
              "  </style>\n",
              "\n",
              "    <script>\n",
              "      const buttonEl =\n",
              "        document.querySelector('#df-c1974bea-0b30-4633-acc5-9ed3a68289cf button.colab-df-convert');\n",
              "      buttonEl.style.display =\n",
              "        google.colab.kernel.accessAllowed ? 'block' : 'none';\n",
              "\n",
              "      async function convertToInteractive(key) {\n",
              "        const element = document.querySelector('#df-c1974bea-0b30-4633-acc5-9ed3a68289cf');\n",
              "        const dataTable =\n",
              "          await google.colab.kernel.invokeFunction('convertToInteractive',\n",
              "                                                    [key], {});\n",
              "        if (!dataTable) return;\n",
              "\n",
              "        const docLinkHtml = 'Like what you see? Visit the ' +\n",
              "          '<a target=\"_blank\" href=https://colab.research.google.com/notebooks/data_table.ipynb>data table notebook</a>'\n",
              "          + ' to learn more about interactive tables.';\n",
              "        element.innerHTML = '';\n",
              "        dataTable['output_type'] = 'display_data';\n",
              "        await google.colab.output.renderOutput(dataTable, element);\n",
              "        const docLink = document.createElement('div');\n",
              "        docLink.innerHTML = docLinkHtml;\n",
              "        element.appendChild(docLink);\n",
              "      }\n",
              "    </script>\n",
              "  </div>\n",
              "\n",
              "\n",
              "<div id=\"df-5cd595ef-2caa-4de1-a8bf-6a94fda06c14\">\n",
              "  <button class=\"colab-df-quickchart\" onclick=\"quickchart('df-5cd595ef-2caa-4de1-a8bf-6a94fda06c14')\"\n",
              "            title=\"Suggest charts.\"\n",
              "            style=\"display:none;\">\n",
              "\n",
              "<svg xmlns=\"http://www.w3.org/2000/svg\" height=\"24px\"viewBox=\"0 0 24 24\"\n",
              "     width=\"24px\">\n",
              "    <g>\n",
              "        <path d=\"M19 3H5c-1.1 0-2 .9-2 2v14c0 1.1.9 2 2 2h14c1.1 0 2-.9 2-2V5c0-1.1-.9-2-2-2zM9 17H7v-7h2v7zm4 0h-2V7h2v10zm4 0h-2v-4h2v4z\"/>\n",
              "    </g>\n",
              "</svg>\n",
              "  </button>\n",
              "\n",
              "<style>\n",
              "  .colab-df-quickchart {\n",
              "      --bg-color: #E8F0FE;\n",
              "      --fill-color: #1967D2;\n",
              "      --hover-bg-color: #E2EBFA;\n",
              "      --hover-fill-color: #174EA6;\n",
              "      --disabled-fill-color: #AAA;\n",
              "      --disabled-bg-color: #DDD;\n",
              "  }\n",
              "\n",
              "  [theme=dark] .colab-df-quickchart {\n",
              "      --bg-color: #3B4455;\n",
              "      --fill-color: #D2E3FC;\n",
              "      --hover-bg-color: #434B5C;\n",
              "      --hover-fill-color: #FFFFFF;\n",
              "      --disabled-bg-color: #3B4455;\n",
              "      --disabled-fill-color: #666;\n",
              "  }\n",
              "\n",
              "  .colab-df-quickchart {\n",
              "    background-color: var(--bg-color);\n",
              "    border: none;\n",
              "    border-radius: 50%;\n",
              "    cursor: pointer;\n",
              "    display: none;\n",
              "    fill: var(--fill-color);\n",
              "    height: 32px;\n",
              "    padding: 0;\n",
              "    width: 32px;\n",
              "  }\n",
              "\n",
              "  .colab-df-quickchart:hover {\n",
              "    background-color: var(--hover-bg-color);\n",
              "    box-shadow: 0 1px 2px rgba(60, 64, 67, 0.3), 0 1px 3px 1px rgba(60, 64, 67, 0.15);\n",
              "    fill: var(--button-hover-fill-color);\n",
              "  }\n",
              "\n",
              "  .colab-df-quickchart-complete:disabled,\n",
              "  .colab-df-quickchart-complete:disabled:hover {\n",
              "    background-color: var(--disabled-bg-color);\n",
              "    fill: var(--disabled-fill-color);\n",
              "    box-shadow: none;\n",
              "  }\n",
              "\n",
              "  .colab-df-spinner {\n",
              "    border: 2px solid var(--fill-color);\n",
              "    border-color: transparent;\n",
              "    border-bottom-color: var(--fill-color);\n",
              "    animation:\n",
              "      spin 1s steps(1) infinite;\n",
              "  }\n",
              "\n",
              "  @keyframes spin {\n",
              "    0% {\n",
              "      border-color: transparent;\n",
              "      border-bottom-color: var(--fill-color);\n",
              "      border-left-color: var(--fill-color);\n",
              "    }\n",
              "    20% {\n",
              "      border-color: transparent;\n",
              "      border-left-color: var(--fill-color);\n",
              "      border-top-color: var(--fill-color);\n",
              "    }\n",
              "    30% {\n",
              "      border-color: transparent;\n",
              "      border-left-color: var(--fill-color);\n",
              "      border-top-color: var(--fill-color);\n",
              "      border-right-color: var(--fill-color);\n",
              "    }\n",
              "    40% {\n",
              "      border-color: transparent;\n",
              "      border-right-color: var(--fill-color);\n",
              "      border-top-color: var(--fill-color);\n",
              "    }\n",
              "    60% {\n",
              "      border-color: transparent;\n",
              "      border-right-color: var(--fill-color);\n",
              "    }\n",
              "    80% {\n",
              "      border-color: transparent;\n",
              "      border-right-color: var(--fill-color);\n",
              "      border-bottom-color: var(--fill-color);\n",
              "    }\n",
              "    90% {\n",
              "      border-color: transparent;\n",
              "      border-bottom-color: var(--fill-color);\n",
              "    }\n",
              "  }\n",
              "</style>\n",
              "\n",
              "  <script>\n",
              "    async function quickchart(key) {\n",
              "      const quickchartButtonEl =\n",
              "        document.querySelector('#' + key + ' button');\n",
              "      quickchartButtonEl.disabled = true;  // To prevent multiple clicks.\n",
              "      quickchartButtonEl.classList.add('colab-df-spinner');\n",
              "      try {\n",
              "        const charts = await google.colab.kernel.invokeFunction(\n",
              "            'suggestCharts', [key], {});\n",
              "      } catch (error) {\n",
              "        console.error('Error during call to suggestCharts:', error);\n",
              "      }\n",
              "      quickchartButtonEl.classList.remove('colab-df-spinner');\n",
              "      quickchartButtonEl.classList.add('colab-df-quickchart-complete');\n",
              "    }\n",
              "    (() => {\n",
              "      let quickchartButtonEl =\n",
              "        document.querySelector('#df-5cd595ef-2caa-4de1-a8bf-6a94fda06c14 button');\n",
              "      quickchartButtonEl.style.display =\n",
              "        google.colab.kernel.accessAllowed ? 'block' : 'none';\n",
              "    })();\n",
              "  </script>\n",
              "</div>\n",
              "    </div>\n",
              "  </div>\n"
            ]
          },
          "metadata": {},
          "execution_count": 3
        }
      ],
      "source": [
        "import pandas as pd\n",
        "\n",
        "input_txt = \"Transformers are the\"\n",
        "input_ids = tokenizer(input_txt, return_tensors=\"pt\")[\"input_ids\"].to(device)\n",
        "iterations = []\n",
        "n_steps = 8\n",
        "choices_per_step = 5\n",
        "\n",
        "with torch.no_grad():\n",
        "    for _ in range(n_steps):\n",
        "        iteration = dict()\n",
        "        iteration[\"Input\"] = tokenizer.decode(input_ids[0])\n",
        "        output = model(input_ids=input_ids)\n",
        "        # 첫 번째 배치의 마지막 토큰의 로짓을 선택해 소프트맥스를 적용합니다.\n",
        "        next_token_logits = output.logits[0, -1, :]\n",
        "        next_token_probs = torch.softmax(next_token_logits, dim=-1)\n",
        "        sorted_ids = torch.argsort(next_token_probs, dim=-1, descending=True)\n",
        "        # 가장 높은 확률의 토큰을 저장합니다.\n",
        "        for choice_idx in range(choices_per_step):\n",
        "            token_id = sorted_ids[choice_idx]\n",
        "            token_prob = next_token_probs[token_id].cpu().numpy()\n",
        "            token_choice = (\n",
        "                f\"{tokenizer.decode(token_id)} ({100 * token_prob:.2f}%)\"\n",
        "            )\n",
        "            iteration[f\"Choice {choice_idx+1}\"] = token_choice\n",
        "        # 예측한 다음 토큰을 입력에 추가합니다.\n",
        "        input_ids = torch.cat([input_ids, sorted_ids[None, 0, None]], dim=-1)\n",
        "        iterations.append(iteration)\n",
        "\n",
        "pd.DataFrame(iterations)"
      ]
    },
    {
      "cell_type": "code",
      "execution_count": 4,
      "metadata": {
        "id": "qo30hsWhcc_g",
        "outputId": "b3527dfc-1514-4f79-a513-eac021c769ec",
        "colab": {
          "base_uri": "https://localhost:8080/"
        }
      },
      "outputs": [
        {
          "output_type": "stream",
          "name": "stdout",
          "text": [
            "Transformers are the most popular toy line in the world,\n"
          ]
        }
      ],
      "source": [
        "input_ids = tokenizer(input_txt, return_tensors=\"pt\")[\"input_ids\"].to(device)\n",
        "output = model.generate(input_ids, max_new_tokens=n_steps, do_sample=False)\n",
        "print(tokenizer.decode(output[0]))"
      ]
    },
    {
      "cell_type": "code",
      "execution_count": 5,
      "metadata": {
        "id": "W9Xtvupqcc_g",
        "outputId": "1f6d63c5-4f0c-4573-cd83-0c50b9c2a9a9",
        "colab": {
          "base_uri": "https://localhost:8080/"
        }
      },
      "outputs": [
        {
          "output_type": "stream",
          "name": "stdout",
          "text": [
            "In a shocking finding, scientist discovered a herd of unicorns living in a\n",
            "remote, previously unexplored valley, in the Andes Mountains. Even more\n",
            "surprising to the researchers was the fact that the unicorns spoke perfect\n",
            "English.\n",
            "\n",
            "\n",
            "The researchers, from the University of California, Davis, and the University of\n",
            "Colorado, Boulder, were conducting a study on the Andean cloud forest, which is\n",
            "home to the rare species of cloud forest trees.\n",
            "\n",
            "\n",
            "The researchers were surprised to find that the unicorns were able to\n",
            "communicate with each other, and even with humans.\n",
            "\n",
            "\n",
            "The researchers were surprised to find that the unicorns were able\n"
          ]
        }
      ],
      "source": [
        "max_length = 128\n",
        "input_txt = \"\"\"In a shocking finding, scientist discovered \\\n",
        "a herd of unicorns living in a remote, previously unexplored \\\n",
        "valley, in the Andes Mountains. Even more surprising to the \\\n",
        "researchers was the fact that the unicorns spoke perfect English.\\n\\n\n",
        "\"\"\"\n",
        "input_ids = tokenizer(input_txt, return_tensors=\"pt\")[\"input_ids\"].to(device)\n",
        "output_greedy = model.generate(input_ids, max_length=max_length,\n",
        "                               do_sample=False)\n",
        "print(tokenizer.decode(output_greedy[0]))"
      ]
    },
    {
      "cell_type": "markdown",
      "metadata": {
        "id": "zi6ER_Udcc_g"
      },
      "source": [
        "## 빔 서치 디코딩"
      ]
    },
    {
      "cell_type": "markdown",
      "metadata": {
        "id": "Pcsjqpz4cc_h"
      },
      "source": [
        "<img alt=\"Beam search\" width=\"700\" caption=\"Beam search with two beams—the most probable sequences at each timestep are highlighted in blue\" src=\"https://github.com/rickiepark/nlp-with-transformers/blob/main/images/chapter05_beam-search.png?raw=1\" id=\"beam-search\"/>"
      ]
    },
    {
      "cell_type": "code",
      "execution_count": 6,
      "metadata": {
        "id": "iWmZyHNXcc_h",
        "outputId": "a1f9e25c-f43f-4504-f6b9-750c029f9f40",
        "colab": {
          "base_uri": "https://localhost:8080/"
        }
      },
      "outputs": [
        {
          "output_type": "execute_result",
          "data": {
            "text/plain": [
              "5.562684646268003e-309"
            ]
          },
          "metadata": {},
          "execution_count": 6
        }
      ],
      "source": [
        "0.5 ** 1024"
      ]
    },
    {
      "cell_type": "code",
      "execution_count": 7,
      "metadata": {
        "id": "fhjZX3Bbcc_h",
        "outputId": "670c0245-cb26-4f7d-d4ec-d95aa85d3087",
        "colab": {
          "base_uri": "https://localhost:8080/"
        }
      },
      "outputs": [
        {
          "output_type": "execute_result",
          "data": {
            "text/plain": [
              "-709.7827128933695"
            ]
          },
          "metadata": {},
          "execution_count": 7
        }
      ],
      "source": [
        "import numpy as np\n",
        "\n",
        "sum([np.log(0.5)] * 1024)"
      ]
    },
    {
      "cell_type": "code",
      "execution_count": 8,
      "metadata": {
        "id": "xXM3PUc1cc_h"
      },
      "outputs": [],
      "source": [
        "import torch.nn.functional as F\n",
        "\n",
        "def log_probs_from_logits(logits, labels):\n",
        "    logp = F.log_softmax(logits, dim=-1)\n",
        "    logp_label = torch.gather(logp, 2, labels.unsqueeze(2)).squeeze(-1)\n",
        "    return logp_label"
      ]
    },
    {
      "cell_type": "code",
      "execution_count": 9,
      "metadata": {
        "id": "eaHhgFrCcc_i"
      },
      "outputs": [],
      "source": [
        "def sequence_logprob(model, labels, input_len=0):\n",
        "    with torch.no_grad():\n",
        "        output = model(labels)\n",
        "        log_probs = log_probs_from_logits(\n",
        "            output.logits[:, :-1, :], labels[:, 1:])\n",
        "        seq_log_prob = torch.sum(log_probs[:, input_len:])\n",
        "    return seq_log_prob.cpu().numpy()"
      ]
    },
    {
      "cell_type": "code",
      "execution_count": 10,
      "metadata": {
        "id": "B9uUp8sfcc_i",
        "outputId": "168d87ea-2214-4165-b8c9-cc6ffa976fe3",
        "colab": {
          "base_uri": "https://localhost:8080/"
        }
      },
      "outputs": [
        {
          "output_type": "stream",
          "name": "stdout",
          "text": [
            "In a shocking finding, scientist discovered a herd of unicorns living in a\n",
            "remote, previously unexplored valley, in the Andes Mountains. Even more\n",
            "surprising to the researchers was the fact that the unicorns spoke perfect\n",
            "English.\n",
            "\n",
            "\n",
            "The researchers, from the University of California, Davis, and the University of\n",
            "Colorado, Boulder, were conducting a study on the Andean cloud forest, which is\n",
            "home to the rare species of cloud forest trees.\n",
            "\n",
            "\n",
            "The researchers were surprised to find that the unicorns were able to\n",
            "communicate with each other, and even with humans.\n",
            "\n",
            "\n",
            "The researchers were surprised to find that the unicorns were able\n",
            "\n",
            "로그 확률: -87.43\n"
          ]
        }
      ],
      "source": [
        "logp = sequence_logprob(model, output_greedy, input_len=len(input_ids[0]))\n",
        "print(tokenizer.decode(output_greedy[0]))\n",
        "print(f\"\\n로그 확률: {logp:.2f}\")"
      ]
    },
    {
      "cell_type": "code",
      "execution_count": 11,
      "metadata": {
        "id": "d7z-CM0Gcc_i",
        "outputId": "fa586fa3-55e6-4e75-d3e2-17ee0784eca9",
        "colab": {
          "base_uri": "https://localhost:8080/"
        }
      },
      "outputs": [
        {
          "output_type": "stream",
          "name": "stdout",
          "text": [
            "In a shocking finding, scientist discovered a herd of unicorns living in a\n",
            "remote, previously unexplored valley, in the Andes Mountains. Even more\n",
            "surprising to the researchers was the fact that the unicorns spoke perfect\n",
            "English.\n",
            "\n",
            "\n",
            "The discovery of the unicorns was made by a team of scientists from the\n",
            "University of California, Santa Cruz, and the National Geographic Society.\n",
            "\n",
            "\n",
            "The scientists were conducting a study of the Andes Mountains when they\n",
            "discovered a herd of unicorns living in a remote, previously unexplored valley,\n",
            "in the Andes Mountains. Even more surprising to the researchers was the fact\n",
            "that the unicorns spoke perfect English\n",
            "\n",
            "로그 확률: -55.23\n"
          ]
        }
      ],
      "source": [
        "output_beam = model.generate(input_ids, max_length=max_length, num_beams=5,\n",
        "                             do_sample=False)\n",
        "logp = sequence_logprob(model, output_beam, input_len=len(input_ids[0]))\n",
        "print(tokenizer.decode(output_beam[0]))\n",
        "print(f\"\\n로그 확률: {logp:.2f}\")"
      ]
    },
    {
      "cell_type": "code",
      "execution_count": 12,
      "metadata": {
        "id": "hrbmj0Wvcc_i",
        "outputId": "7d639399-a4ce-4cc2-aea5-f8101d5124f6",
        "colab": {
          "base_uri": "https://localhost:8080/"
        }
      },
      "outputs": [
        {
          "output_type": "stream",
          "name": "stdout",
          "text": [
            "In a shocking finding, scientist discovered a herd of unicorns living in a\n",
            "remote, previously unexplored valley, in the Andes Mountains. Even more\n",
            "surprising to the researchers was the fact that the unicorns spoke perfect\n",
            "English.\n",
            "\n",
            "\n",
            "The discovery was made by a team of scientists from the University of\n",
            "California, Santa Cruz, and the National Geographic Society.\n",
            "\n",
            "According to a press release, the scientists were conducting a survey of the\n",
            "area when they came across the herd. They were surprised to find that they were\n",
            "able to converse with the animals in English, even though they had never seen a\n",
            "unicorn in person before. The researchers were\n",
            "\n",
            "로그 확률: -93.12\n"
          ]
        }
      ],
      "source": [
        "output_beam = model.generate(input_ids, max_length=max_length, num_beams=5,\n",
        "                             do_sample=False, no_repeat_ngram_size=2)\n",
        "logp = sequence_logprob(model, output_beam, input_len=len(input_ids[0]))\n",
        "print(tokenizer.decode(output_beam[0]))\n",
        "print(f\"\\n로그 확률: {logp:.2f}\")"
      ]
    },
    {
      "cell_type": "markdown",
      "metadata": {
        "id": "w_XWaB7qcc_j"
      },
      "source": [
        "## 샘플링 방법"
      ]
    },
    {
      "cell_type": "code",
      "execution_count": 13,
      "metadata": {
        "id": "LQxvkuRucc_j",
        "outputId": "4ec07d4c-e633-48f1-bf6e-1eaee4e4d232",
        "colab": {
          "base_uri": "https://localhost:8080/",
          "height": 382
        }
      },
      "outputs": [
        {
          "output_type": "display_data",
          "data": {
            "text/plain": [
              "<Figure size 600x400 with 1 Axes>"
            ],
            "image/svg+xml": "<?xml version=\"1.0\" encoding=\"utf-8\" standalone=\"no\"?>\n<!DOCTYPE svg PUBLIC \"-//W3C//DTD SVG 1.1//EN\"\n  \"http://www.w3.org/Graphics/SVG/1.1/DTD/svg11.dtd\">\n<svg xmlns:xlink=\"http://www.w3.org/1999/xlink\" width=\"406.523986pt\" height=\"270.3875pt\" viewBox=\"0 0 406.523986 270.3875\" xmlns=\"http://www.w3.org/2000/svg\" version=\"1.1\">\n <metadata>\n  <rdf:RDF xmlns:dc=\"http://purl.org/dc/elements/1.1/\" xmlns:cc=\"http://creativecommons.org/ns#\" xmlns:rdf=\"http://www.w3.org/1999/02/22-rdf-syntax-ns#\">\n   <cc:Work>\n    <dc:type rdf:resource=\"http://purl.org/dc/dcmitype/StillImage\"/>\n    <dc:date>2023-10-15T06:35:31.705897</dc:date>\n    <dc:format>image/svg+xml</dc:format>\n    <dc:creator>\n     <cc:Agent>\n      <dc:title>Matplotlib v3.7.1, https://matplotlib.org/</dc:title>\n     </cc:Agent>\n    </dc:creator>\n   </cc:Work>\n  </rdf:RDF>\n </metadata>\n <defs>\n  <style type=\"text/css\">*{stroke-linejoin: round; stroke-linecap: butt}</style>\n </defs>\n <g id=\"figure_1\">\n  <g id=\"patch_1\">\n   <path d=\"M 0 270.3875 \nL 406.523986 270.3875 \nL 406.523986 0 \nL 0 0 \nz\n\" style=\"fill: #ffffff\"/>\n  </g>\n  <g id=\"axes_1\">\n   <g id=\"patch_2\">\n    <path d=\"M 64.1675 228.96 \nL 398.9675 228.96 \nL 398.9675 7.2 \nL 64.1675 7.2 \nz\n\" style=\"fill: #ffffff\"/>\n   </g>\n   <g id=\"matplotlib.axis_1\">\n    <g id=\"xtick_1\">\n     <g id=\"line2d_1\">\n      <defs>\n       <path id=\"m77fba594cf\" d=\"M 0 0 \nL 0 3.5 \n\" style=\"stroke: #000000; stroke-width: 0.8\"/>\n      </defs>\n      <g>\n       <use xlink:href=\"#m77fba594cf\" x=\"79.385682\" y=\"228.96\" style=\"stroke: #000000; stroke-width: 0.8\"/>\n      </g>\n     </g>\n     <g id=\"text_1\">\n      <!-- 0 -->\n      <g transform=\"translate(75.568182 245.078125) scale(0.12 -0.12)\">\n       <defs>\n        <path id=\"DejaVuSans-30\" d=\"M 2034 4250 \nQ 1547 4250 1301 3770 \nQ 1056 3291 1056 2328 \nQ 1056 1369 1301 889 \nQ 1547 409 2034 409 \nQ 2525 409 2770 889 \nQ 3016 1369 3016 2328 \nQ 3016 3291 2770 3770 \nQ 2525 4250 2034 4250 \nz\nM 2034 4750 \nQ 2819 4750 3233 4129 \nQ 3647 3509 3647 2328 \nQ 3647 1150 3233 529 \nQ 2819 -91 2034 -91 \nQ 1250 -91 836 529 \nQ 422 1150 422 2328 \nQ 422 3509 836 4129 \nQ 1250 4750 2034 4750 \nz\n\" transform=\"scale(0.015625)\"/>\n       </defs>\n       <use xlink:href=\"#DejaVuSans-30\"/>\n      </g>\n     </g>\n    </g>\n    <g id=\"xtick_2\">\n     <g id=\"line2d_2\">\n      <g>\n       <use xlink:href=\"#m77fba594cf\" x=\"140.319343\" y=\"228.96\" style=\"stroke: #000000; stroke-width: 0.8\"/>\n      </g>\n     </g>\n     <g id=\"text_2\">\n      <!-- 200 -->\n      <g transform=\"translate(128.866843 245.078125) scale(0.12 -0.12)\">\n       <defs>\n        <path id=\"DejaVuSans-32\" d=\"M 1228 531 \nL 3431 531 \nL 3431 0 \nL 469 0 \nL 469 531 \nQ 828 903 1448 1529 \nQ 2069 2156 2228 2338 \nQ 2531 2678 2651 2914 \nQ 2772 3150 2772 3378 \nQ 2772 3750 2511 3984 \nQ 2250 4219 1831 4219 \nQ 1534 4219 1204 4116 \nQ 875 4013 500 3803 \nL 500 4441 \nQ 881 4594 1212 4672 \nQ 1544 4750 1819 4750 \nQ 2544 4750 2975 4387 \nQ 3406 4025 3406 3419 \nQ 3406 3131 3298 2873 \nQ 3191 2616 2906 2266 \nQ 2828 2175 2409 1742 \nQ 1991 1309 1228 531 \nz\n\" transform=\"scale(0.015625)\"/>\n       </defs>\n       <use xlink:href=\"#DejaVuSans-32\"/>\n       <use xlink:href=\"#DejaVuSans-30\" x=\"63.623047\"/>\n       <use xlink:href=\"#DejaVuSans-30\" x=\"127.246094\"/>\n      </g>\n     </g>\n    </g>\n    <g id=\"xtick_3\">\n     <g id=\"line2d_3\">\n      <g>\n       <use xlink:href=\"#m77fba594cf\" x=\"201.253004\" y=\"228.96\" style=\"stroke: #000000; stroke-width: 0.8\"/>\n      </g>\n     </g>\n     <g id=\"text_3\">\n      <!-- 400 -->\n      <g transform=\"translate(189.800504 245.078125) scale(0.12 -0.12)\">\n       <defs>\n        <path id=\"DejaVuSans-34\" d=\"M 2419 4116 \nL 825 1625 \nL 2419 1625 \nL 2419 4116 \nz\nM 2253 4666 \nL 3047 4666 \nL 3047 1625 \nL 3713 1625 \nL 3713 1100 \nL 3047 1100 \nL 3047 0 \nL 2419 0 \nL 2419 1100 \nL 313 1100 \nL 313 1709 \nL 2253 4666 \nz\n\" transform=\"scale(0.015625)\"/>\n       </defs>\n       <use xlink:href=\"#DejaVuSans-34\"/>\n       <use xlink:href=\"#DejaVuSans-30\" x=\"63.623047\"/>\n       <use xlink:href=\"#DejaVuSans-30\" x=\"127.246094\"/>\n      </g>\n     </g>\n    </g>\n    <g id=\"xtick_4\">\n     <g id=\"line2d_4\">\n      <g>\n       <use xlink:href=\"#m77fba594cf\" x=\"262.186665\" y=\"228.96\" style=\"stroke: #000000; stroke-width: 0.8\"/>\n      </g>\n     </g>\n     <g id=\"text_4\">\n      <!-- 600 -->\n      <g transform=\"translate(250.734165 245.078125) scale(0.12 -0.12)\">\n       <defs>\n        <path id=\"DejaVuSans-36\" d=\"M 2113 2584 \nQ 1688 2584 1439 2293 \nQ 1191 2003 1191 1497 \nQ 1191 994 1439 701 \nQ 1688 409 2113 409 \nQ 2538 409 2786 701 \nQ 3034 994 3034 1497 \nQ 3034 2003 2786 2293 \nQ 2538 2584 2113 2584 \nz\nM 3366 4563 \nL 3366 3988 \nQ 3128 4100 2886 4159 \nQ 2644 4219 2406 4219 \nQ 1781 4219 1451 3797 \nQ 1122 3375 1075 2522 \nQ 1259 2794 1537 2939 \nQ 1816 3084 2150 3084 \nQ 2853 3084 3261 2657 \nQ 3669 2231 3669 1497 \nQ 3669 778 3244 343 \nQ 2819 -91 2113 -91 \nQ 1303 -91 875 529 \nQ 447 1150 447 2328 \nQ 447 3434 972 4092 \nQ 1497 4750 2381 4750 \nQ 2619 4750 2861 4703 \nQ 3103 4656 3366 4563 \nz\n\" transform=\"scale(0.015625)\"/>\n       </defs>\n       <use xlink:href=\"#DejaVuSans-36\"/>\n       <use xlink:href=\"#DejaVuSans-30\" x=\"63.623047\"/>\n       <use xlink:href=\"#DejaVuSans-30\" x=\"127.246094\"/>\n      </g>\n     </g>\n    </g>\n    <g id=\"xtick_5\">\n     <g id=\"line2d_5\">\n      <g>\n       <use xlink:href=\"#m77fba594cf\" x=\"323.120326\" y=\"228.96\" style=\"stroke: #000000; stroke-width: 0.8\"/>\n      </g>\n     </g>\n     <g id=\"text_5\">\n      <!-- 800 -->\n      <g transform=\"translate(311.667826 245.078125) scale(0.12 -0.12)\">\n       <defs>\n        <path id=\"DejaVuSans-38\" d=\"M 2034 2216 \nQ 1584 2216 1326 1975 \nQ 1069 1734 1069 1313 \nQ 1069 891 1326 650 \nQ 1584 409 2034 409 \nQ 2484 409 2743 651 \nQ 3003 894 3003 1313 \nQ 3003 1734 2745 1975 \nQ 2488 2216 2034 2216 \nz\nM 1403 2484 \nQ 997 2584 770 2862 \nQ 544 3141 544 3541 \nQ 544 4100 942 4425 \nQ 1341 4750 2034 4750 \nQ 2731 4750 3128 4425 \nQ 3525 4100 3525 3541 \nQ 3525 3141 3298 2862 \nQ 3072 2584 2669 2484 \nQ 3125 2378 3379 2068 \nQ 3634 1759 3634 1313 \nQ 3634 634 3220 271 \nQ 2806 -91 2034 -91 \nQ 1263 -91 848 271 \nQ 434 634 434 1313 \nQ 434 1759 690 2068 \nQ 947 2378 1403 2484 \nz\nM 1172 3481 \nQ 1172 3119 1398 2916 \nQ 1625 2713 2034 2713 \nQ 2441 2713 2670 2916 \nQ 2900 3119 2900 3481 \nQ 2900 3844 2670 4047 \nQ 2441 4250 2034 4250 \nQ 1625 4250 1398 4047 \nQ 1172 3844 1172 3481 \nz\n\" transform=\"scale(0.015625)\"/>\n       </defs>\n       <use xlink:href=\"#DejaVuSans-38\"/>\n       <use xlink:href=\"#DejaVuSans-30\" x=\"63.623047\"/>\n       <use xlink:href=\"#DejaVuSans-30\" x=\"127.246094\"/>\n      </g>\n     </g>\n    </g>\n    <g id=\"xtick_6\">\n     <g id=\"line2d_6\">\n      <g>\n       <use xlink:href=\"#m77fba594cf\" x=\"384.053986\" y=\"228.96\" style=\"stroke: #000000; stroke-width: 0.8\"/>\n      </g>\n     </g>\n     <g id=\"text_6\">\n      <!-- 1000 -->\n      <g transform=\"translate(368.783986 245.078125) scale(0.12 -0.12)\">\n       <defs>\n        <path id=\"DejaVuSans-31\" d=\"M 794 531 \nL 1825 531 \nL 1825 4091 \nL 703 3866 \nL 703 4441 \nL 1819 4666 \nL 2450 4666 \nL 2450 531 \nL 3481 531 \nL 3481 0 \nL 794 0 \nL 794 531 \nz\n\" transform=\"scale(0.015625)\"/>\n       </defs>\n       <use xlink:href=\"#DejaVuSans-31\"/>\n       <use xlink:href=\"#DejaVuSans-30\" x=\"63.623047\"/>\n       <use xlink:href=\"#DejaVuSans-30\" x=\"127.246094\"/>\n       <use xlink:href=\"#DejaVuSans-30\" x=\"190.869141\"/>\n      </g>\n     </g>\n    </g>\n    <g id=\"text_7\">\n     <!-- Sorted token probabilities -->\n     <g transform=\"translate(154.235 260.691875) scale(0.12 -0.12)\">\n      <defs>\n       <path id=\"DejaVuSans-53\" d=\"M 3425 4513 \nL 3425 3897 \nQ 3066 4069 2747 4153 \nQ 2428 4238 2131 4238 \nQ 1616 4238 1336 4038 \nQ 1056 3838 1056 3469 \nQ 1056 3159 1242 3001 \nQ 1428 2844 1947 2747 \nL 2328 2669 \nQ 3034 2534 3370 2195 \nQ 3706 1856 3706 1288 \nQ 3706 609 3251 259 \nQ 2797 -91 1919 -91 \nQ 1588 -91 1214 -16 \nQ 841 59 441 206 \nL 441 856 \nQ 825 641 1194 531 \nQ 1563 422 1919 422 \nQ 2459 422 2753 634 \nQ 3047 847 3047 1241 \nQ 3047 1584 2836 1778 \nQ 2625 1972 2144 2069 \nL 1759 2144 \nQ 1053 2284 737 2584 \nQ 422 2884 422 3419 \nQ 422 4038 858 4394 \nQ 1294 4750 2059 4750 \nQ 2388 4750 2728 4690 \nQ 3069 4631 3425 4513 \nz\n\" transform=\"scale(0.015625)\"/>\n       <path id=\"DejaVuSans-6f\" d=\"M 1959 3097 \nQ 1497 3097 1228 2736 \nQ 959 2375 959 1747 \nQ 959 1119 1226 758 \nQ 1494 397 1959 397 \nQ 2419 397 2687 759 \nQ 2956 1122 2956 1747 \nQ 2956 2369 2687 2733 \nQ 2419 3097 1959 3097 \nz\nM 1959 3584 \nQ 2709 3584 3137 3096 \nQ 3566 2609 3566 1747 \nQ 3566 888 3137 398 \nQ 2709 -91 1959 -91 \nQ 1206 -91 779 398 \nQ 353 888 353 1747 \nQ 353 2609 779 3096 \nQ 1206 3584 1959 3584 \nz\n\" transform=\"scale(0.015625)\"/>\n       <path id=\"DejaVuSans-72\" d=\"M 2631 2963 \nQ 2534 3019 2420 3045 \nQ 2306 3072 2169 3072 \nQ 1681 3072 1420 2755 \nQ 1159 2438 1159 1844 \nL 1159 0 \nL 581 0 \nL 581 3500 \nL 1159 3500 \nL 1159 2956 \nQ 1341 3275 1631 3429 \nQ 1922 3584 2338 3584 \nQ 2397 3584 2469 3576 \nQ 2541 3569 2628 3553 \nL 2631 2963 \nz\n\" transform=\"scale(0.015625)\"/>\n       <path id=\"DejaVuSans-74\" d=\"M 1172 4494 \nL 1172 3500 \nL 2356 3500 \nL 2356 3053 \nL 1172 3053 \nL 1172 1153 \nQ 1172 725 1289 603 \nQ 1406 481 1766 481 \nL 2356 481 \nL 2356 0 \nL 1766 0 \nQ 1100 0 847 248 \nQ 594 497 594 1153 \nL 594 3053 \nL 172 3053 \nL 172 3500 \nL 594 3500 \nL 594 4494 \nL 1172 4494 \nz\n\" transform=\"scale(0.015625)\"/>\n       <path id=\"DejaVuSans-65\" d=\"M 3597 1894 \nL 3597 1613 \nL 953 1613 \nQ 991 1019 1311 708 \nQ 1631 397 2203 397 \nQ 2534 397 2845 478 \nQ 3156 559 3463 722 \nL 3463 178 \nQ 3153 47 2828 -22 \nQ 2503 -91 2169 -91 \nQ 1331 -91 842 396 \nQ 353 884 353 1716 \nQ 353 2575 817 3079 \nQ 1281 3584 2069 3584 \nQ 2775 3584 3186 3129 \nQ 3597 2675 3597 1894 \nz\nM 3022 2063 \nQ 3016 2534 2758 2815 \nQ 2500 3097 2075 3097 \nQ 1594 3097 1305 2825 \nQ 1016 2553 972 2059 \nL 3022 2063 \nz\n\" transform=\"scale(0.015625)\"/>\n       <path id=\"DejaVuSans-64\" d=\"M 2906 2969 \nL 2906 4863 \nL 3481 4863 \nL 3481 0 \nL 2906 0 \nL 2906 525 \nQ 2725 213 2448 61 \nQ 2172 -91 1784 -91 \nQ 1150 -91 751 415 \nQ 353 922 353 1747 \nQ 353 2572 751 3078 \nQ 1150 3584 1784 3584 \nQ 2172 3584 2448 3432 \nQ 2725 3281 2906 2969 \nz\nM 947 1747 \nQ 947 1113 1208 752 \nQ 1469 391 1925 391 \nQ 2381 391 2643 752 \nQ 2906 1113 2906 1747 \nQ 2906 2381 2643 2742 \nQ 2381 3103 1925 3103 \nQ 1469 3103 1208 2742 \nQ 947 2381 947 1747 \nz\n\" transform=\"scale(0.015625)\"/>\n       <path id=\"DejaVuSans-20\" transform=\"scale(0.015625)\"/>\n       <path id=\"DejaVuSans-6b\" d=\"M 581 4863 \nL 1159 4863 \nL 1159 1991 \nL 2875 3500 \nL 3609 3500 \nL 1753 1863 \nL 3688 0 \nL 2938 0 \nL 1159 1709 \nL 1159 0 \nL 581 0 \nL 581 4863 \nz\n\" transform=\"scale(0.015625)\"/>\n       <path id=\"DejaVuSans-6e\" d=\"M 3513 2113 \nL 3513 0 \nL 2938 0 \nL 2938 2094 \nQ 2938 2591 2744 2837 \nQ 2550 3084 2163 3084 \nQ 1697 3084 1428 2787 \nQ 1159 2491 1159 1978 \nL 1159 0 \nL 581 0 \nL 581 3500 \nL 1159 3500 \nL 1159 2956 \nQ 1366 3272 1645 3428 \nQ 1925 3584 2291 3584 \nQ 2894 3584 3203 3211 \nQ 3513 2838 3513 2113 \nz\n\" transform=\"scale(0.015625)\"/>\n       <path id=\"DejaVuSans-70\" d=\"M 1159 525 \nL 1159 -1331 \nL 581 -1331 \nL 581 3500 \nL 1159 3500 \nL 1159 2969 \nQ 1341 3281 1617 3432 \nQ 1894 3584 2278 3584 \nQ 2916 3584 3314 3078 \nQ 3713 2572 3713 1747 \nQ 3713 922 3314 415 \nQ 2916 -91 2278 -91 \nQ 1894 -91 1617 61 \nQ 1341 213 1159 525 \nz\nM 3116 1747 \nQ 3116 2381 2855 2742 \nQ 2594 3103 2138 3103 \nQ 1681 3103 1420 2742 \nQ 1159 2381 1159 1747 \nQ 1159 1113 1420 752 \nQ 1681 391 2138 391 \nQ 2594 391 2855 752 \nQ 3116 1113 3116 1747 \nz\n\" transform=\"scale(0.015625)\"/>\n       <path id=\"DejaVuSans-62\" d=\"M 3116 1747 \nQ 3116 2381 2855 2742 \nQ 2594 3103 2138 3103 \nQ 1681 3103 1420 2742 \nQ 1159 2381 1159 1747 \nQ 1159 1113 1420 752 \nQ 1681 391 2138 391 \nQ 2594 391 2855 752 \nQ 3116 1113 3116 1747 \nz\nM 1159 2969 \nQ 1341 3281 1617 3432 \nQ 1894 3584 2278 3584 \nQ 2916 3584 3314 3078 \nQ 3713 2572 3713 1747 \nQ 3713 922 3314 415 \nQ 2916 -91 2278 -91 \nQ 1894 -91 1617 61 \nQ 1341 213 1159 525 \nL 1159 0 \nL 581 0 \nL 581 4863 \nL 1159 4863 \nL 1159 2969 \nz\n\" transform=\"scale(0.015625)\"/>\n       <path id=\"DejaVuSans-61\" d=\"M 2194 1759 \nQ 1497 1759 1228 1600 \nQ 959 1441 959 1056 \nQ 959 750 1161 570 \nQ 1363 391 1709 391 \nQ 2188 391 2477 730 \nQ 2766 1069 2766 1631 \nL 2766 1759 \nL 2194 1759 \nz\nM 3341 1997 \nL 3341 0 \nL 2766 0 \nL 2766 531 \nQ 2569 213 2275 61 \nQ 1981 -91 1556 -91 \nQ 1019 -91 701 211 \nQ 384 513 384 1019 \nQ 384 1609 779 1909 \nQ 1175 2209 1959 2209 \nL 2766 2209 \nL 2766 2266 \nQ 2766 2663 2505 2880 \nQ 2244 3097 1772 3097 \nQ 1472 3097 1187 3025 \nQ 903 2953 641 2809 \nL 641 3341 \nQ 956 3463 1253 3523 \nQ 1550 3584 1831 3584 \nQ 2591 3584 2966 3190 \nQ 3341 2797 3341 1997 \nz\n\" transform=\"scale(0.015625)\"/>\n       <path id=\"DejaVuSans-69\" d=\"M 603 3500 \nL 1178 3500 \nL 1178 0 \nL 603 0 \nL 603 3500 \nz\nM 603 4863 \nL 1178 4863 \nL 1178 4134 \nL 603 4134 \nL 603 4863 \nz\n\" transform=\"scale(0.015625)\"/>\n       <path id=\"DejaVuSans-6c\" d=\"M 603 4863 \nL 1178 4863 \nL 1178 0 \nL 603 0 \nL 603 4863 \nz\n\" transform=\"scale(0.015625)\"/>\n       <path id=\"DejaVuSans-73\" d=\"M 2834 3397 \nL 2834 2853 \nQ 2591 2978 2328 3040 \nQ 2066 3103 1784 3103 \nQ 1356 3103 1142 2972 \nQ 928 2841 928 2578 \nQ 928 2378 1081 2264 \nQ 1234 2150 1697 2047 \nL 1894 2003 \nQ 2506 1872 2764 1633 \nQ 3022 1394 3022 966 \nQ 3022 478 2636 193 \nQ 2250 -91 1575 -91 \nQ 1294 -91 989 -36 \nQ 684 19 347 128 \nL 347 722 \nQ 666 556 975 473 \nQ 1284 391 1588 391 \nQ 1994 391 2212 530 \nQ 2431 669 2431 922 \nQ 2431 1156 2273 1281 \nQ 2116 1406 1581 1522 \nL 1381 1569 \nQ 847 1681 609 1914 \nQ 372 2147 372 2553 \nQ 372 3047 722 3315 \nQ 1072 3584 1716 3584 \nQ 2034 3584 2315 3537 \nQ 2597 3491 2834 3397 \nz\n\" transform=\"scale(0.015625)\"/>\n      </defs>\n      <use xlink:href=\"#DejaVuSans-53\"/>\n      <use xlink:href=\"#DejaVuSans-6f\" x=\"63.476562\"/>\n      <use xlink:href=\"#DejaVuSans-72\" x=\"124.658203\"/>\n      <use xlink:href=\"#DejaVuSans-74\" x=\"165.771484\"/>\n      <use xlink:href=\"#DejaVuSans-65\" x=\"204.980469\"/>\n      <use xlink:href=\"#DejaVuSans-64\" x=\"266.503906\"/>\n      <use xlink:href=\"#DejaVuSans-20\" x=\"329.980469\"/>\n      <use xlink:href=\"#DejaVuSans-74\" x=\"361.767578\"/>\n      <use xlink:href=\"#DejaVuSans-6f\" x=\"400.976562\"/>\n      <use xlink:href=\"#DejaVuSans-6b\" x=\"462.158203\"/>\n      <use xlink:href=\"#DejaVuSans-65\" x=\"516.443359\"/>\n      <use xlink:href=\"#DejaVuSans-6e\" x=\"577.966797\"/>\n      <use xlink:href=\"#DejaVuSans-20\" x=\"641.345703\"/>\n      <use xlink:href=\"#DejaVuSans-70\" x=\"673.132812\"/>\n      <use xlink:href=\"#DejaVuSans-72\" x=\"736.609375\"/>\n      <use xlink:href=\"#DejaVuSans-6f\" x=\"775.472656\"/>\n      <use xlink:href=\"#DejaVuSans-62\" x=\"836.654297\"/>\n      <use xlink:href=\"#DejaVuSans-61\" x=\"900.130859\"/>\n      <use xlink:href=\"#DejaVuSans-62\" x=\"961.410156\"/>\n      <use xlink:href=\"#DejaVuSans-69\" x=\"1024.886719\"/>\n      <use xlink:href=\"#DejaVuSans-6c\" x=\"1052.669922\"/>\n      <use xlink:href=\"#DejaVuSans-69\" x=\"1080.453125\"/>\n      <use xlink:href=\"#DejaVuSans-74\" x=\"1108.236328\"/>\n      <use xlink:href=\"#DejaVuSans-69\" x=\"1147.445312\"/>\n      <use xlink:href=\"#DejaVuSans-65\" x=\"1175.228516\"/>\n      <use xlink:href=\"#DejaVuSans-73\" x=\"1236.751953\"/>\n     </g>\n    </g>\n   </g>\n   <g id=\"matplotlib.axis_2\">\n    <g id=\"ytick_1\">\n     <g id=\"line2d_7\">\n      <defs>\n       <path id=\"m79119b4582\" d=\"M 0 0 \nL -3.5 0 \n\" style=\"stroke: #000000; stroke-width: 0.8\"/>\n      </defs>\n      <g>\n       <use xlink:href=\"#m79119b4582\" x=\"64.1675\" y=\"225.591436\" style=\"stroke: #000000; stroke-width: 0.8\"/>\n      </g>\n     </g>\n     <g id=\"text_8\">\n      <!-- 0.000 -->\n      <g transform=\"translate(22.81375 230.150499) scale(0.12 -0.12)\">\n       <defs>\n        <path id=\"DejaVuSans-2e\" d=\"M 684 794 \nL 1344 794 \nL 1344 0 \nL 684 0 \nL 684 794 \nz\n\" transform=\"scale(0.015625)\"/>\n       </defs>\n       <use xlink:href=\"#DejaVuSans-30\"/>\n       <use xlink:href=\"#DejaVuSans-2e\" x=\"63.623047\"/>\n       <use xlink:href=\"#DejaVuSans-30\" x=\"95.410156\"/>\n       <use xlink:href=\"#DejaVuSans-30\" x=\"159.033203\"/>\n       <use xlink:href=\"#DejaVuSans-30\" x=\"222.65625\"/>\n      </g>\n     </g>\n    </g>\n    <g id=\"ytick_2\">\n     <g id=\"line2d_8\">\n      <g>\n       <use xlink:href=\"#m79119b4582\" x=\"64.1675\" y=\"181.160831\" style=\"stroke: #000000; stroke-width: 0.8\"/>\n      </g>\n     </g>\n     <g id=\"text_9\">\n      <!-- 0.001 -->\n      <g transform=\"translate(22.81375 185.719894) scale(0.12 -0.12)\">\n       <use xlink:href=\"#DejaVuSans-30\"/>\n       <use xlink:href=\"#DejaVuSans-2e\" x=\"63.623047\"/>\n       <use xlink:href=\"#DejaVuSans-30\" x=\"95.410156\"/>\n       <use xlink:href=\"#DejaVuSans-30\" x=\"159.033203\"/>\n       <use xlink:href=\"#DejaVuSans-31\" x=\"222.65625\"/>\n      </g>\n     </g>\n    </g>\n    <g id=\"ytick_3\">\n     <g id=\"line2d_9\">\n      <g>\n       <use xlink:href=\"#m79119b4582\" x=\"64.1675\" y=\"136.730227\" style=\"stroke: #000000; stroke-width: 0.8\"/>\n      </g>\n     </g>\n     <g id=\"text_10\">\n      <!-- 0.002 -->\n      <g transform=\"translate(22.81375 141.289289) scale(0.12 -0.12)\">\n       <use xlink:href=\"#DejaVuSans-30\"/>\n       <use xlink:href=\"#DejaVuSans-2e\" x=\"63.623047\"/>\n       <use xlink:href=\"#DejaVuSans-30\" x=\"95.410156\"/>\n       <use xlink:href=\"#DejaVuSans-30\" x=\"159.033203\"/>\n       <use xlink:href=\"#DejaVuSans-32\" x=\"222.65625\"/>\n      </g>\n     </g>\n    </g>\n    <g id=\"ytick_4\">\n     <g id=\"line2d_10\">\n      <g>\n       <use xlink:href=\"#m79119b4582\" x=\"64.1675\" y=\"92.299622\" style=\"stroke: #000000; stroke-width: 0.8\"/>\n      </g>\n     </g>\n     <g id=\"text_11\">\n      <!-- 0.003 -->\n      <g transform=\"translate(22.81375 96.858684) scale(0.12 -0.12)\">\n       <defs>\n        <path id=\"DejaVuSans-33\" d=\"M 2597 2516 \nQ 3050 2419 3304 2112 \nQ 3559 1806 3559 1356 \nQ 3559 666 3084 287 \nQ 2609 -91 1734 -91 \nQ 1441 -91 1130 -33 \nQ 819 25 488 141 \nL 488 750 \nQ 750 597 1062 519 \nQ 1375 441 1716 441 \nQ 2309 441 2620 675 \nQ 2931 909 2931 1356 \nQ 2931 1769 2642 2001 \nQ 2353 2234 1838 2234 \nL 1294 2234 \nL 1294 2753 \nL 1863 2753 \nQ 2328 2753 2575 2939 \nQ 2822 3125 2822 3475 \nQ 2822 3834 2567 4026 \nQ 2313 4219 1838 4219 \nQ 1578 4219 1281 4162 \nQ 984 4106 628 3988 \nL 628 4550 \nQ 988 4650 1302 4700 \nQ 1616 4750 1894 4750 \nQ 2613 4750 3031 4423 \nQ 3450 4097 3450 3541 \nQ 3450 3153 3228 2886 \nQ 3006 2619 2597 2516 \nz\n\" transform=\"scale(0.015625)\"/>\n       </defs>\n       <use xlink:href=\"#DejaVuSans-30\"/>\n       <use xlink:href=\"#DejaVuSans-2e\" x=\"63.623047\"/>\n       <use xlink:href=\"#DejaVuSans-30\" x=\"95.410156\"/>\n       <use xlink:href=\"#DejaVuSans-30\" x=\"159.033203\"/>\n       <use xlink:href=\"#DejaVuSans-33\" x=\"222.65625\"/>\n      </g>\n     </g>\n    </g>\n    <g id=\"ytick_5\">\n     <g id=\"line2d_11\">\n      <g>\n       <use xlink:href=\"#m79119b4582\" x=\"64.1675\" y=\"47.869017\" style=\"stroke: #000000; stroke-width: 0.8\"/>\n      </g>\n     </g>\n     <g id=\"text_12\">\n      <!-- 0.004 -->\n      <g transform=\"translate(22.81375 52.42808) scale(0.12 -0.12)\">\n       <use xlink:href=\"#DejaVuSans-30\"/>\n       <use xlink:href=\"#DejaVuSans-2e\" x=\"63.623047\"/>\n       <use xlink:href=\"#DejaVuSans-30\" x=\"95.410156\"/>\n       <use xlink:href=\"#DejaVuSans-30\" x=\"159.033203\"/>\n       <use xlink:href=\"#DejaVuSans-34\" x=\"222.65625\"/>\n      </g>\n     </g>\n    </g>\n    <g id=\"text_13\">\n     <!-- Probability -->\n     <g transform=\"translate(16.318125 149.794687) rotate(-90) scale(0.12 -0.12)\">\n      <defs>\n       <path id=\"DejaVuSans-50\" d=\"M 1259 4147 \nL 1259 2394 \nL 2053 2394 \nQ 2494 2394 2734 2622 \nQ 2975 2850 2975 3272 \nQ 2975 3691 2734 3919 \nQ 2494 4147 2053 4147 \nL 1259 4147 \nz\nM 628 4666 \nL 2053 4666 \nQ 2838 4666 3239 4311 \nQ 3641 3956 3641 3272 \nQ 3641 2581 3239 2228 \nQ 2838 1875 2053 1875 \nL 1259 1875 \nL 1259 0 \nL 628 0 \nL 628 4666 \nz\n\" transform=\"scale(0.015625)\"/>\n       <path id=\"DejaVuSans-79\" d=\"M 2059 -325 \nQ 1816 -950 1584 -1140 \nQ 1353 -1331 966 -1331 \nL 506 -1331 \nL 506 -850 \nL 844 -850 \nQ 1081 -850 1212 -737 \nQ 1344 -625 1503 -206 \nL 1606 56 \nL 191 3500 \nL 800 3500 \nL 1894 763 \nL 2988 3500 \nL 3597 3500 \nL 2059 -325 \nz\n\" transform=\"scale(0.015625)\"/>\n      </defs>\n      <use xlink:href=\"#DejaVuSans-50\"/>\n      <use xlink:href=\"#DejaVuSans-72\" x=\"58.552734\"/>\n      <use xlink:href=\"#DejaVuSans-6f\" x=\"97.416016\"/>\n      <use xlink:href=\"#DejaVuSans-62\" x=\"158.597656\"/>\n      <use xlink:href=\"#DejaVuSans-61\" x=\"222.074219\"/>\n      <use xlink:href=\"#DejaVuSans-62\" x=\"283.353516\"/>\n      <use xlink:href=\"#DejaVuSans-69\" x=\"346.830078\"/>\n      <use xlink:href=\"#DejaVuSans-6c\" x=\"374.613281\"/>\n      <use xlink:href=\"#DejaVuSans-69\" x=\"402.396484\"/>\n      <use xlink:href=\"#DejaVuSans-74\" x=\"430.179688\"/>\n      <use xlink:href=\"#DejaVuSans-79\" x=\"469.388672\"/>\n     </g>\n    </g>\n   </g>\n   <g id=\"line2d_12\">\n    <path d=\"M 79.385682 17.28 \nL 79.385682 17.980343 \nL 79.69035 17.980343 \nL 79.69035 20.187344 \nL 79.995018 20.187344 \nL 79.995018 20.321784 \nL 80.299687 20.321784 \nL 80.299687 21.376294 \nL 80.604355 21.376294 \nL 80.604355 22.689531 \nL 80.909023 22.689531 \nL 80.909023 26.423088 \nL 81.213692 26.423088 \nL 81.213692 28.253646 \nL 81.51836 28.253646 \nL 81.51836 29.318141 \nL 81.823028 29.318141 \nL 81.823028 29.44148 \nL 82.127697 29.44148 \nL 82.127697 30.649551 \nL 82.432365 30.649551 \nL 82.432365 30.826151 \nL 83.041701 30.897382 \nL 83.041701 30.973387 \nL 83.34637 30.973387 \nL 83.34637 31.778453 \nL 83.651038 31.778453 \nL 83.651038 32.017974 \nL 83.955706 32.017974 \nL 83.955706 37.322244 \nL 84.260375 37.322244 \nL 84.260375 39.511941 \nL 84.565043 39.511941 \nL 84.565043 41.188714 \nL 84.869711 41.188714 \nL 84.869711 43.60714 \nL 85.17438 43.60714 \nL 85.17438 44.145702 \nL 85.479048 44.145702 \nL 85.479048 44.342187 \nL 85.783716 44.342187 \nL 85.783716 44.611609 \nL 86.088385 44.611609 \nL 86.088385 44.77911 \nL 86.393053 44.77911 \nL 86.393053 45.513463 \nL 86.697721 45.513463 \nL 86.697721 46.596938 \nL 87.002389 46.596938 \nL 87.002389 50.036786 \nL 87.611726 50.130798 \nL 87.611726 53.300713 \nL 87.916394 53.300713 \nL 87.916394 54.776801 \nL 88.221063 54.776801 \nL 88.221063 55.728925 \nL 88.525731 55.728925 \nL 88.525731 57.229637 \nL 88.830399 57.229637 \nL 88.830399 59.766734 \nL 89.135068 59.766734 \nL 89.135068 61.029437 \nL 89.439736 61.029437 \nL 89.439736 62.014538 \nL 89.744404 62.014538 \nL 89.744404 63.684254 \nL 90.049072 63.684254 \nL 90.049072 64.048681 \nL 90.658409 64.097137 \nL 90.658409 65.223889 \nL 90.963077 65.223889 \nL 90.963077 65.5916 \nL 91.267746 65.5916 \nL 91.267746 66.319717 \nL 91.572414 66.319717 \nL 91.572414 67.364264 \nL 91.877082 67.364264 \nL 91.877082 68.306879 \nL 92.181751 68.306879 \nL 92.181751 68.509244 \nL 92.486419 68.509244 \nL 92.486419 68.721012 \nL 92.791087 68.721012 \nL 92.791087 69.700919 \nL 93.095756 69.700919 \nL 93.095756 72.359826 \nL 93.400424 72.359826 \nL 93.400424 73.210006 \nL 94.00976 73.295728 \nL 94.00976 73.464087 \nL 94.314429 73.464087 \nL 94.314429 73.817249 \nL 94.619097 73.817249 \nL 94.619097 74.13365 \nL 94.923765 74.13365 \nL 94.923765 76.172859 \nL 95.533102 76.238882 \nL 95.533102 78.022656 \nL 95.83777 78.022656 \nL 95.83777 79.159267 \nL 96.142439 79.159267 \nL 96.142439 79.404162 \nL 96.447107 79.404162 \nL 96.447107 80.337643 \nL 96.751775 80.337643 \nL 96.751775 81.10654 \nL 97.056443 81.10654 \nL 97.056443 81.361639 \nL 97.361112 81.361639 \nL 97.361112 82.254944 \nL 97.66578 82.254944 \nL 97.66578 82.412976 \nL 97.970448 82.412976 \nL 97.970448 83.131757 \nL 98.275117 83.131757 \nL 98.275117 84.756265 \nL 98.579785 84.756265 \nL 98.579785 85.116435 \nL 98.884453 85.116435 \nL 98.884453 86.89258 \nL 99.189122 86.89258 \nL 99.189122 87.236984 \nL 99.49379 87.236984 \nL 99.49379 87.563453 \nL 99.798458 87.563453 \nL 99.798458 88.483165 \nL 100.103127 88.483165 \nL 100.103127 89.278127 \nL 100.407795 89.278127 \nL 100.407795 89.468771 \nL 100.712463 89.468771 \nL 100.712463 89.614424 \nL 101.017131 89.614424 \nL 101.017131 89.742171 \nL 101.3218 89.742171 \nL 101.3218 90.861055 \nL 101.626468 90.861055 \nL 101.626468 91.064011 \nL 101.931136 91.064011 \nL 101.931136 91.616378 \nL 102.235805 91.616378 \nL 102.235805 91.980188 \nL 102.540473 91.980188 \nL 102.540473 92.277525 \nL 103.14981 92.364074 \nL 103.14981 93.170446 \nL 103.454478 93.170446 \nL 103.454478 94.214352 \nL 104.063814 94.308329 \nL 104.063814 95.32203 \nL 104.673151 95.323304 \nL 104.673151 96.126259 \nL 104.977819 96.126259 \nL 104.977819 96.876022 \nL 105.282488 96.876022 \nL 105.282488 97.387549 \nL 105.587156 97.387549 \nL 105.587156 97.942731 \nL 105.891824 97.942731 \nL 105.891824 98.565458 \nL 106.196493 98.565458 \nL 106.196493 99.673471 \nL 106.501161 99.673471 \nL 106.501161 99.833974 \nL 106.805829 99.833974 \nL 106.805829 100.229797 \nL 107.110498 100.229797 \nL 107.110498 101.220626 \nL 107.415166 101.220626 \nL 107.415166 101.683013 \nL 107.719834 101.683013 \nL 107.719834 103.556062 \nL 108.329171 103.64571 \nL 108.329171 103.985712 \nL 108.633839 103.985712 \nL 108.633839 105.027481 \nL 108.938507 105.027481 \nL 108.938507 105.31468 \nL 109.547844 105.413281 \nL 109.547844 105.719286 \nL 109.852512 105.719286 \nL 109.852512 105.919725 \nL 110.461849 105.985505 \nL 110.461849 106.226 \nL 110.766517 106.226 \nL 110.766517 106.746919 \nL 111.375854 106.765521 \nL 111.375854 106.927888 \nL 111.680522 106.927888 \nL 111.680522 107.24038 \nL 112.289859 107.296784 \nL 112.289859 108.267957 \nL 112.594527 108.267957 \nL 112.594527 108.430225 \nL 112.899195 108.430225 \nL 112.899195 108.836793 \nL 113.508532 108.889369 \nL 113.508532 109.18027 \nL 113.8132 109.18027 \nL 113.8132 109.506931 \nL 114.422537 109.553221 \nL 114.422537 109.969358 \nL 115.031873 110.002242 \nL 115.031873 110.354727 \nL 115.336542 110.354727 \nL 115.336542 110.6426 \nL 115.64121 110.6426 \nL 115.64121 110.974134 \nL 115.945878 110.974134 \nL 115.945878 111.16738 \nL 116.250547 111.16738 \nL 116.250547 111.545743 \nL 116.859883 111.612808 \nL 116.859883 111.718611 \nL 117.164552 111.718611 \nL 117.164552 111.876016 \nL 117.46922 111.876016 \nL 117.46922 112.488205 \nL 117.773888 112.488205 \nL 117.773888 112.967526 \nL 118.383225 112.993359 \nL 118.383225 114.605589 \nL 118.687893 114.605589 \nL 118.687893 114.988884 \nL 118.992561 114.988884 \nL 118.992561 115.839601 \nL 119.29723 115.839601 \nL 119.29723 116.632507 \nL 119.601898 116.632507 \nL 119.601898 117.312498 \nL 119.906566 117.312498 \nL 119.906566 117.72073 \nL 120.211235 117.72073 \nL 120.211235 118.809408 \nL 120.515903 118.809408 \nL 120.515903 119.767934 \nL 120.820571 119.767934 \nL 120.820571 120.822022 \nL 121.12524 120.822022 \nL 121.12524 121.170155 \nL 121.429908 121.170155 \nL 121.429908 122.104626 \nL 121.734576 122.104626 \nL 121.734576 122.507687 \nL 122.343913 122.553615 \nL 122.343913 123.15604 \nL 122.648581 123.15604 \nL 122.648581 123.976673 \nL 122.953249 123.976673 \nL 122.953249 124.51016 \nL 123.257918 124.51016 \nL 123.257918 124.824822 \nL 123.562586 124.824822 \nL 123.562586 125.626001 \nL 123.867254 125.626001 \nL 123.867254 125.87747 \nL 124.171923 125.87747 \nL 124.171923 126.014139 \nL 124.476591 126.014139 \nL 124.476591 126.607549 \nL 124.781259 126.607549 \nL 124.781259 126.795521 \nL 125.085928 126.795521 \nL 125.085928 128.171976 \nL 125.695264 128.268593 \nL 125.695264 128.479016 \nL 125.999932 128.479016 \nL 125.999932 128.688819 \nL 126.304601 128.688819 \nL 126.304601 128.871453 \nL 126.609269 128.871453 \nL 126.609269 129.502311 \nL 126.913937 129.502311 \nL 126.913937 129.738843 \nL 127.218606 129.738843 \nL 127.218606 130.070639 \nL 127.523274 130.070639 \nL 127.523274 130.749443 \nL 127.827942 130.749443 \nL 127.827942 130.89883 \nL 128.132611 130.89883 \nL 128.132611 131.523815 \nL 128.741947 131.611944 \nL 128.741947 131.824222 \nL 129.046615 131.824222 \nL 129.046615 132.236611 \nL 129.351284 132.236611 \nL 129.351284 132.455958 \nL 129.655952 132.455958 \nL 129.655952 133.241974 \nL 130.265289 133.321928 \nL 130.265289 133.425668 \nL 130.569957 133.425668 \nL 130.569957 134.09884 \nL 130.874625 134.09884 \nL 130.874625 134.73539 \nL 131.483962 134.804282 \nL 131.483962 135.638245 \nL 131.78863 135.638245 \nL 131.78863 135.852101 \nL 132.093299 135.852101 \nL 132.093299 136.70409 \nL 132.397967 136.70409 \nL 132.397967 137.146898 \nL 132.702635 137.146898 \nL 132.702635 137.505981 \nL 133.007303 137.505981 \nL 133.007303 137.731744 \nL 133.311972 137.731744 \nL 133.311972 138.863178 \nL 133.921308 138.952037 \nL 133.921308 139.071878 \nL 134.225977 139.071878 \nL 134.225977 139.464368 \nL 134.530645 139.464368 \nL 134.530645 139.712621 \nL 134.835313 139.712621 \nL 134.835313 140.098029 \nL 135.139982 140.098029 \nL 135.139982 140.383888 \nL 135.749318 140.426797 \nL 135.749318 140.549771 \nL 136.053986 140.549771 \nL 136.053986 140.996263 \nL 136.358655 140.996263 \nL 136.358655 141.281842 \nL 136.663323 141.281842 \nL 136.663323 142.193193 \nL 137.27266 142.271158 \nL 137.27266 142.494279 \nL 137.577328 142.494279 \nL 137.577328 142.87771 \nL 138.186665 142.934753 \nL 138.186665 143.070429 \nL 138.491333 143.070429 \nL 138.491333 143.781328 \nL 139.10067 143.789741 \nL 139.10067 143.951293 \nL 139.710006 144.009571 \nL 139.710006 144.289631 \nL 140.014674 144.289631 \nL 140.014674 145.419269 \nL 140.319343 145.419269 \nL 140.319343 145.641776 \nL 140.624011 145.641776 \nL 140.624011 145.901561 \nL 140.928679 145.901561 \nL 140.928679 146.018256 \nL 141.233348 146.018256 \nL 141.233348 146.33293 \nL 141.538016 146.33293 \nL 141.538016 147.042943 \nL 142.147353 147.081318 \nL 142.147353 147.436607 \nL 142.452021 147.436607 \nL 142.452021 147.569168 \nL 142.756689 147.569168 \nL 142.756689 147.780214 \nL 143.061357 147.780214 \nL 143.061357 148.008362 \nL 143.670694 148.017265 \nL 143.670694 148.122116 \nL 143.975362 148.122116 \nL 143.975362 148.380393 \nL 144.584699 148.414724 \nL 144.584699 148.868616 \nL 144.889367 148.868616 \nL 144.889367 149.043105 \nL 145.194036 149.043105 \nL 145.194036 149.386479 \nL 145.498704 149.386479 \nL 145.498704 149.672569 \nL 145.803372 149.672569 \nL 145.803372 149.894955 \nL 146.412709 149.971409 \nL 146.412709 150.186772 \nL 147.022045 150.194467 \nL 147.022045 150.327329 \nL 147.326714 150.327329 \nL 147.326714 150.476405 \nL 147.631382 150.476405 \nL 147.631382 151.798954 \nL 147.93605 151.798954 \nL 147.93605 152.510982 \nL 148.240719 152.510982 \nL 148.240719 153.047212 \nL 148.545387 153.047212 \nL 148.545387 153.213132 \nL 148.850055 153.213132 \nL 148.850055 153.363003 \nL 149.154724 153.363003 \nL 149.154724 153.62025 \nL 149.459392 153.62025 \nL 149.459392 154.160907 \nL 149.76406 154.160907 \nL 149.76406 154.671448 \nL 150.068729 154.671448 \nL 150.068729 154.799798 \nL 150.373397 154.799798 \nL 150.373397 155.585919 \nL 150.678065 155.585919 \nL 150.678065 156.238557 \nL 151.287402 156.291559 \nL 151.287402 156.745202 \nL 151.59207 156.745202 \nL 151.59207 157.347945 \nL 151.896738 157.347945 \nL 151.896738 157.487528 \nL 152.201407 157.487528 \nL 152.201407 158.10147 \nL 152.810743 158.148082 \nL 152.810743 158.630026 \nL 153.115412 158.630026 \nL 153.115412 158.746989 \nL 153.42008 158.746989 \nL 153.42008 159.530019 \nL 153.724748 159.530019 \nL 153.724748 159.719717 \nL 154.029416 159.719717 \nL 154.029416 159.877277 \nL 154.943421 159.908196 \nL 154.943421 160.912142 \nL 155.24809 160.912142 \nL 155.24809 161.025815 \nL 155.552758 161.025815 \nL 155.552758 161.208356 \nL 156.162095 161.229366 \nL 156.162095 162.012646 \nL 156.466763 162.012646 \nL 156.466763 162.337511 \nL 156.771431 162.337511 \nL 156.771431 162.52048 \nL 157.380768 162.611074 \nL 157.380768 162.959692 \nL 157.990104 163.019015 \nL 157.990104 163.773401 \nL 158.294773 163.773401 \nL 158.294773 164.193335 \nL 158.904109 164.252837 \nL 158.904109 165.115791 \nL 159.513446 165.194491 \nL 159.513446 165.356416 \nL 160.122783 165.448503 \nL 160.122783 165.940246 \nL 160.427451 165.940246 \nL 160.427451 166.572855 \nL 161.036787 166.65784 \nL 161.036787 167.001512 \nL 161.341456 167.001512 \nL 161.341456 167.443194 \nL 161.646124 167.443194 \nL 161.646124 167.804491 \nL 161.950792 167.804491 \nL 161.950792 168.379541 \nL 162.255461 168.379541 \nL 162.255461 168.595327 \nL 162.560129 168.595327 \nL 162.560129 168.870931 \nL 163.169466 168.903021 \nL 163.169466 170.530252 \nL 163.778802 170.590233 \nL 163.778802 170.754007 \nL 164.083471 170.754007 \nL 164.083471 171.875498 \nL 164.388139 171.875498 \nL 164.388139 172.15233 \nL 164.997475 172.197742 \nL 164.997475 172.304159 \nL 165.302144 172.304159 \nL 165.302144 172.436155 \nL 165.606812 172.436155 \nL 165.606812 172.577486 \nL 165.91148 172.577486 \nL 165.91148 172.711938 \nL 166.216149 172.711938 \nL 166.216149 173.28483 \nL 166.520817 173.28483 \nL 166.520817 173.399742 \nL 166.825485 173.399742 \nL 166.825485 174.122379 \nL 167.130154 174.122379 \nL 167.130154 174.263147 \nL 168.044158 174.345064 \nL 168.044158 174.37465 \nL 168.653495 174.39357 \nL 168.653495 174.882574 \nL 168.958163 174.882574 \nL 168.958163 175.205196 \nL 169.262832 175.205196 \nL 169.262832 175.366524 \nL 169.5675 175.366524 \nL 169.5675 175.65753 \nL 170.481505 175.709904 \nL 170.481505 176.217203 \nL 170.786173 176.217203 \nL 170.786173 176.353685 \nL 171.39551 176.394419 \nL 171.39551 176.775765 \nL 171.700178 176.775765 \nL 171.700178 177.039323 \nL 172.004846 177.039323 \nL 172.004846 177.747066 \nL 172.309515 177.747066 \nL 172.309515 177.954562 \nL 172.614183 177.954562 \nL 172.614183 178.098862 \nL 172.918851 178.098862 \nL 172.918851 178.278912 \nL 173.22352 178.278912 \nL 173.22352 179.052632 \nL 173.528188 179.052632 \nL 173.528188 180.144679 \nL 174.137525 180.233269 \nL 174.137525 180.343789 \nL 174.442193 180.343789 \nL 174.442193 180.489672 \nL 174.746861 180.489672 \nL 174.746861 181.081164 \nL 175.051529 181.081164 \nL 175.051529 181.844141 \nL 175.660866 181.920988 \nL 175.660866 182.25839 \nL 176.270203 182.283056 \nL 176.270203 182.529938 \nL 176.574871 182.529938 \nL 176.574871 182.725169 \nL 177.184208 182.830173 \nL 177.184208 182.888864 \nL 177.488876 182.888864 \nL 177.488876 183.227607 \nL 177.793544 183.227607 \nL 177.793544 183.525977 \nL 178.402881 183.531918 \nL 178.402881 183.719925 \nL 178.707549 183.719925 \nL 178.707549 184.061759 \nL 179.012217 184.061759 \nL 179.012217 184.266519 \nL 179.316886 184.266519 \nL 179.316886 184.473277 \nL 180.230891 184.558373 \nL 180.230891 184.604741 \nL 180.535559 184.604741 \nL 180.535559 185.210966 \nL 180.840227 185.210966 \nL 180.840227 185.363165 \nL 181.754232 185.463624 \nL 181.754232 185.636819 \nL 182.363569 185.642289 \nL 182.363569 186.17121 \nL 182.972905 186.213078 \nL 182.972905 186.646273 \nL 183.582242 186.705402 \nL 183.582242 187.088101 \nL 183.88691 187.088101 \nL 183.88691 187.27958 \nL 184.496247 187.336495 \nL 184.496247 187.471064 \nL 184.800915 187.471064 \nL 184.800915 187.719596 \nL 185.105584 187.719596 \nL 185.105584 187.881305 \nL 185.410252 187.881305 \nL 185.410252 188.121541 \nL 186.324257 188.142272 \nL 186.324257 188.337669 \nL 186.628925 188.337669 \nL 186.628925 188.541281 \nL 187.847598 188.621681 \nL 187.847598 188.77641 \nL 188.152267 188.77641 \nL 188.152267 188.902966 \nL 189.37094 188.991477 \nL 189.37094 189.173987 \nL 189.675608 189.173987 \nL 189.675608 189.309236 \nL 190.284945 189.316921 \nL 190.284945 189.496838 \nL 190.589613 189.496838 \nL 190.589613 189.631454 \nL 191.19895 189.631922 \nL 191.19895 189.756613 \nL 191.808286 189.757661 \nL 191.808286 189.992932 \nL 192.417623 190.095999 \nL 192.417623 190.270973 \nL 192.722291 190.270973 \nL 192.722291 190.475209 \nL 193.026959 190.475209 \nL 193.026959 190.634491 \nL 193.331628 190.634491 \nL 193.331628 190.906638 \nL 193.636296 190.906638 \nL 193.636296 191.36386 \nL 194.245633 191.42281 \nL 194.245633 191.634062 \nL 194.854969 191.647063 \nL 194.854969 191.785919 \nL 195.464306 191.831033 \nL 195.464306 192.065908 \nL 195.768974 192.065908 \nL 195.768974 192.342694 \nL 196.073643 192.342694 \nL 196.073643 192.647513 \nL 196.378311 192.647513 \nL 196.378311 192.975487 \nL 196.682979 192.975487 \nL 196.682979 193.536757 \nL 197.292316 193.644211 \nL 197.292316 194.180733 \nL 197.596984 194.180733 \nL 197.596984 194.374168 \nL 197.901652 194.374168 \nL 197.901652 194.615432 \nL 198.815657 194.695841 \nL 198.815657 194.944369 \nL 199.120326 194.944369 \nL 199.120326 195.127652 \nL 200.338999 195.228874 \nL 200.338999 195.516004 \nL 200.643667 195.516004 \nL 200.643667 195.629277 \nL 200.948335 195.629277 \nL 200.948335 195.766988 \nL 201.86234 195.853367 \nL 201.86234 195.973252 \nL 202.471677 195.993626 \nL 202.471677 196.12035 \nL 202.776345 196.12035 \nL 202.776345 196.436349 \nL 203.081014 196.436349 \nL 203.081014 196.568568 \nL 203.69035 196.61934 \nL 203.69035 196.710842 \nL 204.299687 196.751076 \nL 204.299687 196.985321 \nL 204.909023 197.026012 \nL 204.909023 197.110236 \nL 205.51836 197.211188 \nL 205.51836 197.327452 \nL 205.823028 197.327452 \nL 205.823028 197.450667 \nL 206.737033 197.53708 \nL 206.737033 197.83863 \nL 207.041701 197.83863 \nL 207.041701 197.953653 \nL 207.955706 198.048422 \nL 207.955706 198.127709 \nL 208.565043 198.164833 \nL 208.565043 198.357554 \nL 209.17438 198.412296 \nL 209.17438 198.495506 \nL 210.393053 198.595023 \nL 210.393053 198.619039 \nL 210.697721 198.619039 \nL 210.697721 198.756389 \nL 211.307058 198.84697 \nL 211.307058 199.012405 \nL 211.916394 199.08283 \nL 211.916394 199.215043 \nL 212.525731 199.26966 \nL 212.525731 199.514221 \nL 212.830399 199.514221 \nL 212.830399 199.626679 \nL 213.439736 199.735319 \nL 213.439736 199.789009 \nL 214.658409 199.841659 \nL 214.658409 199.916062 \nL 215.267746 199.97759 \nL 215.267746 200.296303 \nL 215.877082 200.334872 \nL 215.877082 200.555176 \nL 216.181751 200.555176 \nL 216.181751 200.886846 \nL 216.791087 200.933419 \nL 216.791087 201.075755 \nL 218.00976 201.139041 \nL 218.00976 201.214881 \nL 218.923765 201.290457 \nL 218.923765 201.42982 \nL 219.83777 201.534724 \nL 219.83777 201.554913 \nL 220.447107 201.626146 \nL 220.447107 201.753145 \nL 221.056443 201.802109 \nL 221.056443 201.890603 \nL 221.361112 201.890603 \nL 221.361112 202.006453 \nL 221.970448 202.087787 \nL 221.970448 202.143211 \nL 222.884453 202.253881 \nL 222.884453 202.331102 \nL 224.712463 202.430108 \nL 224.712463 202.492759 \nL 225.3218 202.499957 \nL 225.3218 202.777811 \nL 225.931136 202.819404 \nL 225.931136 202.966463 \nL 226.845141 203.074002 \nL 226.845141 203.107436 \nL 227.454478 203.110992 \nL 227.454478 203.222033 \nL 227.759146 203.222033 \nL 227.759146 203.409957 \nL 228.063814 203.409957 \nL 228.063814 203.543211 \nL 228.673151 203.566256 \nL 228.673151 203.674676 \nL 228.977819 203.674676 \nL 228.977819 203.860943 \nL 229.587156 203.922374 \nL 229.587156 204.03794 \nL 230.196493 204.078597 \nL 230.196493 204.163903 \nL 231.110498 204.251959 \nL 231.110498 204.304873 \nL 231.719834 204.348238 \nL 231.719834 204.428695 \nL 232.329171 204.522718 \nL 232.329171 204.574041 \nL 232.633839 204.574041 \nL 232.633839 204.819884 \nL 233.547844 204.862824 \nL 233.547844 205.045966 \nL 234.157181 205.052529 \nL 234.157181 205.263275 \nL 234.766517 205.327093 \nL 234.766517 205.54533 \nL 235.071186 205.54533 \nL 235.071186 205.678967 \nL 235.375854 205.678967 \nL 235.375854 205.802768 \nL 235.680522 205.802768 \nL 235.680522 205.9458 \nL 236.594527 206.039599 \nL 236.594527 206.143518 \nL 237.203864 206.189505 \nL 237.203864 206.289297 \nL 237.8132 206.317537 \nL 237.8132 206.411619 \nL 238.727205 206.478701 \nL 238.727205 206.585473 \nL 239.945878 206.687814 \nL 239.945878 206.696871 \nL 241.46922 206.801251 \nL 241.46922 206.86349 \nL 242.383225 206.876854 \nL 242.383225 207.106825 \nL 243.601898 207.180649 \nL 243.601898 207.237194 \nL 244.515903 207.323345 \nL 244.515903 207.441038 \nL 245.429908 207.503428 \nL 245.429908 207.624252 \nL 246.039244 207.6848 \nL 246.039244 207.751727 \nL 246.953249 207.797526 \nL 246.953249 207.898596 \nL 247.562586 208.00141 \nL 247.562586 208.016125 \nL 247.867254 208.016125 \nL 247.867254 208.17217 \nL 249.085928 208.245028 \nL 249.085928 208.2886 \nL 249.999932 208.399052 \nL 249.999932 208.402713 \nL 250.913937 208.442714 \nL 250.913937 208.514967 \nL 251.827942 208.549123 \nL 251.827942 208.714838 \nL 252.132611 208.714838 \nL 252.132611 208.852525 \nL 253.655952 208.921757 \nL 253.655952 209.051669 \nL 254.265289 209.080318 \nL 254.265289 209.269848 \nL 256.397967 209.375032 \nL 256.397967 209.393282 \nL 257.311972 209.43012 \nL 257.311972 209.512436 \nL 258.835313 209.602443 \nL 258.835313 209.652928 \nL 259.44465 209.699381 \nL 259.44465 209.784601 \nL 260.967991 209.872084 \nL 260.967991 209.913873 \nL 262.186665 209.972419 \nL 262.186665 210.048633 \nL 262.796001 210.083422 \nL 262.796001 210.168566 \nL 263.405338 210.265314 \nL 263.405338 210.318186 \nL 264.319343 210.419405 \nL 264.319343 210.450259 \nL 265.842684 210.504179 \nL 265.842684 210.588948 \nL 267.061357 210.676997 \nL 267.061357 210.760744 \nL 268.889367 210.858481 \nL 268.889367 210.877033 \nL 269.803372 210.9724 \nL 269.803372 211.005435 \nL 271.326714 211.091157 \nL 271.326714 211.131494 \nL 273.154724 211.187049 \nL 273.154724 211.261874 \nL 273.76406 211.274111 \nL 273.76406 211.377323 \nL 274.982733 211.477558 \nL 274.982733 211.497454 \nL 275.896738 211.584337 \nL 275.896738 211.669653 \nL 277.115412 211.743502 \nL 277.115412 211.783874 \nL 278.334085 211.835406 \nL 278.334085 211.915687 \nL 279.857426 212.018001 \nL 279.857426 212.033681 \nL 281.380768 212.142616 \nL 281.380768 212.168312 \nL 282.599441 212.263898 \nL 282.599441 212.28065 \nL 283.818114 212.293633 \nL 283.818114 212.417988 \nL 285.950792 212.514814 \nL 285.950792 212.563412 \nL 286.560129 212.629397 \nL 286.560129 212.732272 \nL 287.778802 212.826118 \nL 287.778802 212.87428 \nL 289.302144 212.97368 \nL 289.302144 212.999335 \nL 291.130154 213.079635 \nL 291.130154 213.142057 \nL 291.73949 213.15901 \nL 291.73949 213.255645 \nL 294.176837 213.359933 \nL 294.176837 213.394417 \nL 295.39551 213.44955 \nL 295.39551 213.538056 \nL 296.309515 213.590483 \nL 296.309515 213.68065 \nL 298.746861 213.789928 \nL 298.746861 213.809978 \nL 299.965534 213.881709 \nL 299.965534 213.925824 \nL 300.879539 213.980957 \nL 300.879539 214.057163 \nL 301.793544 214.161113 \nL 301.793544 214.184483 \nL 303.621554 214.293227 \nL 303.621554 214.369543 \nL 306.668237 214.457946 \nL 306.668237 214.493251 \nL 308.496247 214.601979 \nL 308.496247 214.612974 \nL 310.628925 214.708474 \nL 310.628925 214.730891 \nL 312.152267 214.835917 \nL 312.152267 214.849865 \nL 313.37094 214.933292 \nL 313.37094 215.019568 \nL 314.284945 215.100323 \nL 314.284945 215.147431 \nL 316.112955 215.251629 \nL 316.112955 215.269262 \nL 317.331628 215.360894 \nL 317.331628 215.387064 \nL 319.464306 215.468808 \nL 319.464306 215.52226 \nL 321.596984 215.627109 \nL 321.596984 215.682655 \nL 323.120326 215.788953 \nL 323.120326 215.819956 \nL 324.948335 215.923316 \nL 324.948335 215.95143 \nL 328.299687 216.062241 \nL 328.299687 216.068052 \nL 331.955706 216.1708 \nL 331.955706 216.184999 \nL 333.783716 216.291174 \nL 333.783716 216.29627 \nL 335.307058 216.350544 \nL 335.307058 216.455021 \nL 336.221063 216.491053 \nL 336.221063 216.591012 \nL 337.744404 216.634253 \nL 337.744404 216.72468 \nL 340.791087 216.797471 \nL 340.791087 216.86041 \nL 342.923765 216.966712 \nL 342.923765 216.979425 \nL 345.056443 217.072469 \nL 345.056443 217.108271 \nL 347.189122 217.200941 \nL 347.189122 217.226808 \nL 349.931136 217.319798 \nL 349.931136 217.396498 \nL 351.14981 217.481583 \nL 351.14981 217.510967 \nL 355.110498 217.603141 \nL 355.110498 217.663084 \nL 359.071186 217.771751 \nL 359.071186 217.784883 \nL 360.594527 217.860973 \nL 360.594527 217.907254 \nL 362.727205 218.011206 \nL 362.727205 218.033898 \nL 365.46922 218.123119 \nL 365.46922 218.155042 \nL 368.211235 218.265637 \nL 368.211235 218.277293 \nL 370.953249 218.370384 \nL 370.953249 218.397835 \nL 375.218606 218.505364 \nL 375.218606 218.540284 \nL 377.351284 218.633315 \nL 377.351284 218.654294 \nL 380.397967 218.745147 \nL 380.397967 218.7925 \nL 383.749318 218.88 \nL 383.749318 218.88 \n\" clip-path=\"url(#p16687fa347)\" style=\"fill: none; stroke: #0071bc; stroke-width: 1.5; stroke-linecap: square\"/>\n   </g>\n   <g id=\"line2d_13\">\n    <path d=\"M 79.385682 116.284794 \nL 79.385682 116.468694 \nL 79.69035 116.468694 \nL 79.69035 117.050256 \nL 80.299687 117.085782 \nL 80.299687 117.364848 \nL 80.604355 117.364848 \nL 80.604355 117.713394 \nL 80.909023 117.713394 \nL 80.909023 118.710523 \nL 81.213692 118.710523 \nL 81.213692 119.202828 \nL 81.51836 119.202828 \nL 81.51836 119.490161 \nL 82.127697 119.523504 \nL 82.127697 119.85064 \nL 83.34637 119.938504 \nL 83.34637 120.157255 \nL 83.955706 120.222425 \nL 83.955706 121.676105 \nL 84.260375 121.676105 \nL 84.260375 122.282175 \nL 84.565043 122.282175 \nL 84.565043 122.748691 \nL 84.869711 122.748691 \nL 84.869711 123.425304 \nL 85.17438 123.425304 \nL 85.17438 123.576591 \nL 85.783716 123.631841 \nL 85.783716 123.707649 \nL 86.393053 123.754808 \nL 86.393053 123.961819 \nL 86.697721 123.961819 \nL 86.697721 124.268017 \nL 87.002389 124.268017 \nL 87.002389 125.246338 \nL 87.611726 125.273209 \nL 87.611726 126.183526 \nL 87.916394 126.183526 \nL 87.916394 126.610277 \nL 88.221063 126.610277 \nL 88.221063 126.886524 \nL 88.525731 126.886524 \nL 88.525731 127.323514 \nL 88.830399 127.323514 \nL 88.830399 128.066739 \nL 89.135068 128.066739 \nL 89.135068 128.438759 \nL 89.439736 128.438759 \nL 89.439736 128.729983 \nL 89.744404 128.729983 \nL 89.744404 129.225609 \nL 90.353741 129.334122 \nL 90.353741 129.34856 \nL 90.658409 129.34856 \nL 90.658409 129.684893 \nL 91.267746 129.794909 \nL 91.267746 130.01313 \nL 91.572414 130.01313 \nL 91.572414 130.32706 \nL 91.877082 130.32706 \nL 91.877082 130.611245 \nL 92.486419 130.672367 \nL 92.486419 130.73637 \nL 92.791087 130.73637 \nL 92.791087 131.033095 \nL 93.095756 131.033095 \nL 93.095756 131.842969 \nL 93.400424 131.842969 \nL 93.400424 132.103404 \nL 94.314429 132.181378 \nL 94.314429 132.289866 \nL 94.923765 132.387169 \nL 94.923765 133.01674 \nL 95.533102 133.037195 \nL 95.533102 133.591561 \nL 95.83777 133.591561 \nL 95.83777 133.946549 \nL 96.447107 134.023215 \nL 96.447107 134.316038 \nL 96.751775 134.316038 \nL 96.751775 134.55794 \nL 97.361112 134.638339 \nL 97.361112 134.920441 \nL 97.970448 134.970438 \nL 97.970448 135.198191 \nL 98.275117 135.198191 \nL 98.275117 135.715059 \nL 98.579785 135.715059 \nL 98.579785 135.830057 \nL 98.884453 135.830057 \nL 98.884453 136.399327 \nL 99.49379 136.510132 \nL 99.49379 136.615295 \nL 99.798458 136.615295 \nL 99.798458 136.912225 \nL 100.103127 136.912225 \nL 100.103127 137.169682 \nL 101.017131 137.278822 \nL 101.017131 137.320315 \nL 101.3218 137.320315 \nL 101.3218 137.684577 \nL 101.931136 137.750813 \nL 101.931136 137.931334 \nL 102.235805 137.931334 \nL 102.235805 138.050436 \nL 102.845141 138.147896 \nL 102.845141 138.176286 \nL 103.14981 138.176286 \nL 103.14981 138.441232 \nL 103.454478 138.441232 \nL 103.454478 138.785424 \nL 104.063814 138.816477 \nL 104.063814 139.152142 \nL 104.673151 139.152565 \nL 104.673151 139.419375 \nL 104.977819 139.419375 \nL 104.977819 139.669259 \nL 105.282488 139.669259 \nL 105.282488 139.84016 \nL 105.587156 139.84016 \nL 105.587156 140.026033 \nL 105.891824 140.026033 \nL 105.891824 140.235001 \nL 106.196493 140.235001 \nL 106.196493 140.608087 \nL 106.805829 140.662267 \nL 106.805829 140.79603 \nL 107.110498 140.79603 \nL 107.110498 141.131796 \nL 107.415166 141.131796 \nL 107.415166 141.288945 \nL 107.719834 141.288945 \nL 107.719834 141.928546 \nL 108.329171 141.959281 \nL 108.329171 142.075952 \nL 108.633839 142.075952 \nL 108.633839 142.43445 \nL 109.243176 142.533555 \nL 109.243176 142.567607 \nL 109.852512 142.673374 \nL 109.852512 142.742727 \nL 110.766517 142.848812 \nL 110.766517 143.029557 \nL 111.680522 143.092441 \nL 111.680522 143.20114 \nL 112.289859 143.220775 \nL 112.289859 143.559595 \nL 112.899195 143.616343 \nL 112.899195 143.7587 \nL 113.508532 143.777127 \nL 113.508532 143.879159 \nL 113.8132 143.879159 \nL 113.8132 143.993886 \nL 114.422537 144.010156 \nL 114.422537 144.156571 \nL 115.031873 144.168152 \nL 115.031873 144.292396 \nL 115.64121 144.394006 \nL 115.64121 144.511185 \nL 116.250547 144.579565 \nL 116.250547 144.713616 \nL 117.164552 144.774935 \nL 117.164552 144.830811 \nL 117.46922 144.830811 \nL 117.46922 145.048492 \nL 117.773888 145.048492 \nL 117.773888 145.21934 \nL 118.383225 145.228558 \nL 118.383225 145.805968 \nL 118.687893 145.805968 \nL 118.687893 145.943859 \nL 118.992561 145.943859 \nL 118.992561 146.250761 \nL 119.29723 146.250761 \nL 119.29723 146.537881 \nL 119.601898 146.537881 \nL 119.601898 146.784945 \nL 119.906566 146.784945 \nL 119.906566 146.933643 \nL 120.211235 146.933643 \nL 120.211235 147.331574 \nL 120.515903 147.331574 \nL 120.515903 147.683615 \nL 120.820571 147.683615 \nL 120.820571 148.072598 \nL 121.12524 148.072598 \nL 121.12524 148.201497 \nL 121.429908 148.201497 \nL 121.429908 148.548559 \nL 121.734576 148.548559 \nL 121.734576 148.698738 \nL 122.343913 148.71587 \nL 122.343913 148.940931 \nL 122.648581 148.940931 \nL 122.648581 149.248581 \nL 122.953249 149.248581 \nL 122.953249 149.449248 \nL 123.257918 149.449248 \nL 123.257918 149.567854 \nL 123.562586 149.567854 \nL 123.562586 149.870683 \nL 124.171923 149.965983 \nL 124.171923 150.017827 \nL 124.476591 150.017827 \nL 124.476591 150.243346 \nL 125.085928 150.314924 \nL 125.085928 150.841151 \nL 125.695264 150.878228 \nL 125.695264 150.95904 \nL 126.304601 151.039702 \nL 126.304601 151.10999 \nL 126.609269 151.10999 \nL 126.609269 151.353291 \nL 127.218606 151.444719 \nL 127.218606 151.57316 \nL 127.523274 151.57316 \nL 127.523274 151.836629 \nL 128.132611 151.894738 \nL 128.132611 152.138345 \nL 128.741947 152.172761 \nL 128.741947 152.255726 \nL 129.046615 152.255726 \nL 129.046615 152.417169 \nL 129.655952 152.503185 \nL 129.655952 152.812253 \nL 130.569957 152.884672 \nL 130.569957 153.150681 \nL 130.874625 153.150681 \nL 130.874625 153.40312 \nL 131.483962 153.430494 \nL 131.483962 153.762691 \nL 132.093299 153.848125 \nL 132.093299 154.189504 \nL 132.397967 154.189504 \nL 132.397967 154.367576 \nL 132.702635 154.367576 \nL 132.702635 154.512307 \nL 133.311972 154.603453 \nL 133.311972 155.062017 \nL 134.225977 155.146928 \nL 134.225977 155.306893 \nL 134.835313 155.40826 \nL 134.835313 155.565922 \nL 135.139982 155.565922 \nL 135.139982 155.68309 \nL 136.053986 155.751172 \nL 136.053986 155.934754 \nL 136.358655 155.934754 \nL 136.358655 156.052428 \nL 136.663323 156.052428 \nL 136.663323 156.429292 \nL 137.27266 156.461628 \nL 137.27266 156.55425 \nL 137.577328 156.55425 \nL 137.577328 156.713712 \nL 138.491333 156.794 \nL 138.491333 157.090978 \nL 139.710006 157.186599 \nL 139.710006 157.304113 \nL 140.014674 157.304113 \nL 140.014674 157.780177 \nL 140.624011 157.874343 \nL 140.624011 157.984451 \nL 141.233348 158.03397 \nL 141.233348 158.167681 \nL 141.538016 158.167681 \nL 141.538016 158.470358 \nL 142.147353 158.486756 \nL 142.147353 158.638766 \nL 142.756689 158.69557 \nL 142.756689 158.786106 \nL 143.670694 158.887945 \nL 143.670694 158.933039 \nL 143.975362 158.933039 \nL 143.975362 159.044249 \nL 144.584699 159.059045 \nL 144.584699 159.254979 \nL 145.194036 159.330456 \nL 145.194036 159.479237 \nL 145.498704 159.479237 \nL 145.498704 159.603453 \nL 146.108041 159.700172 \nL 146.108041 159.733456 \nL 147.022045 159.830659 \nL 147.022045 159.888625 \nL 147.631382 159.953726 \nL 147.631382 160.534133 \nL 147.93605 160.534133 \nL 147.93605 160.848765 \nL 148.240719 160.848765 \nL 148.240719 161.086728 \nL 148.850055 161.160536 \nL 148.850055 161.227278 \nL 149.154724 161.227278 \nL 149.154724 161.341999 \nL 149.459392 161.341999 \nL 149.459392 161.583779 \nL 149.76406 161.583779 \nL 149.76406 161.812933 \nL 150.373397 161.870672 \nL 150.373397 162.22546 \nL 150.678065 162.22546 \nL 150.678065 162.521522 \nL 151.287402 162.545626 \nL 151.287402 162.752317 \nL 151.59207 162.752317 \nL 151.59207 163.027997 \nL 152.201407 163.092012 \nL 152.201407 163.37436 \nL 152.810743 163.395849 \nL 152.810743 163.618469 \nL 153.42008 163.672617 \nL 153.42008 164.036351 \nL 154.029416 164.124793 \nL 154.029416 164.198349 \nL 154.943421 164.212794 \nL 154.943421 164.683676 \nL 155.552758 164.737221 \nL 155.552758 164.823307 \nL 156.162095 164.833222 \nL 156.162095 165.204065 \nL 156.466763 165.204065 \nL 156.466763 165.358541 \nL 157.0761 165.44572 \nL 157.0761 165.488931 \nL 157.380768 165.488931 \nL 157.380768 165.655506 \nL 157.990104 165.683898 \nL 157.990104 166.046121 \nL 158.294773 166.046121 \nL 158.294773 166.248714 \nL 158.904109 166.277476 \nL 158.904109 166.696189 \nL 159.513446 166.734523 \nL 159.513446 166.813474 \nL 160.122783 166.858421 \nL 160.122783 167.099021 \nL 160.427451 167.099021 \nL 160.427451 167.410008 \nL 161.036787 167.451913 \nL 161.036787 167.621682 \nL 161.341456 167.621682 \nL 161.341456 167.840598 \nL 161.646124 167.840598 \nL 161.646124 168.020292 \nL 161.950792 168.020292 \nL 161.950792 168.307459 \nL 162.560129 168.41559 \nL 162.560129 168.553994 \nL 163.169466 168.570131 \nL 163.169466 169.394483 \nL 163.778802 169.425101 \nL 163.778802 169.508785 \nL 164.083471 169.508785 \nL 164.083471 170.085226 \nL 164.388139 170.085226 \nL 164.388139 170.22844 \nL 165.302144 170.307143 \nL 165.302144 170.375657 \nL 165.91148 170.449111 \nL 165.91148 170.51908 \nL 166.216149 170.51908 \nL 166.216149 170.818217 \nL 166.825485 170.878415 \nL 166.825485 171.258509 \nL 167.73949 171.336268 \nL 167.73949 171.376175 \nL 168.653495 171.401838 \nL 168.653495 171.661249 \nL 168.958163 171.661249 \nL 168.958163 171.833081 \nL 169.5675 171.919212 \nL 169.5675 172.074928 \nL 170.481505 172.103001 \nL 170.481505 172.375687 \nL 171.39551 172.471275 \nL 171.39551 172.677554 \nL 171.700178 172.677554 \nL 171.700178 172.820589 \nL 172.004846 172.820589 \nL 172.004846 173.206621 \nL 172.309515 173.206621 \nL 172.309515 173.320338 \nL 172.918851 173.399567 \nL 172.918851 173.498594 \nL 173.22352 173.498594 \nL 173.22352 173.926297 \nL 173.528188 173.926297 \nL 173.528188 174.536064 \nL 174.137525 174.58585 \nL 174.137525 174.648028 \nL 174.746861 174.730218 \nL 174.746861 175.064831 \nL 175.051529 175.064831 \nL 175.051529 175.499756 \nL 175.660866 175.543771 \nL 175.660866 175.737482 \nL 176.270203 175.751673 \nL 176.270203 175.893934 \nL 176.574871 175.893934 \nL 176.574871 176.006721 \nL 177.488876 176.101486 \nL 177.488876 176.298169 \nL 177.793544 176.298169 \nL 177.793544 176.472064 \nL 178.402881 176.475532 \nL 178.402881 176.58543 \nL 178.707549 176.58543 \nL 178.707549 176.78588 \nL 179.012217 176.78588 \nL 179.012217 176.906344 \nL 179.316886 176.906344 \nL 179.316886 177.028289 \nL 180.535559 177.105985 \nL 180.535559 177.465889 \nL 181.144896 177.55667 \nL 181.144896 177.604255 \nL 181.754232 177.616684 \nL 181.754232 177.720328 \nL 182.363569 177.723605 \nL 182.363569 178.041542 \nL 182.972905 178.0668 \nL 182.972905 178.328929 \nL 183.582242 178.364821 \nL 183.582242 178.597787 \nL 183.88691 178.597787 \nL 183.88691 178.714784 \nL 184.496247 178.749616 \nL 184.496247 178.832076 \nL 184.800915 178.832076 \nL 184.800915 178.984753 \nL 185.410252 179.084362 \nL 185.410252 179.232738 \nL 186.324257 179.245564 \nL 186.324257 179.366631 \nL 186.628925 179.366631 \nL 186.628925 179.493126 \nL 187.847598 179.54317 \nL 187.847598 179.639633 \nL 188.761603 179.731698 \nL 188.761603 179.759735 \nL 189.37094 179.774051 \nL 189.37094 179.888431 \nL 190.284945 179.978209 \nL 190.284945 180.091467 \nL 191.19895 180.176689 \nL 191.19895 180.255496 \nL 191.808286 180.256158 \nL 191.808286 180.405231 \nL 192.417623 180.470691 \nL 192.417623 180.58204 \nL 192.722291 180.58204 \nL 192.722291 180.712359 \nL 193.331628 180.814257 \nL 193.331628 180.988898 \nL 193.636296 180.988898 \nL 193.636296 181.283852 \nL 194.245633 181.322024 \nL 194.245633 181.459087 \nL 195.159638 181.557877 \nL 195.159638 181.587269 \nL 195.464306 181.587269 \nL 195.464306 181.740607 \nL 195.768974 181.740607 \nL 195.768974 181.921998 \nL 196.073643 181.921998 \nL 196.073643 182.122636 \nL 196.378311 182.122636 \nL 196.378311 182.339554 \nL 196.682979 182.339554 \nL 196.682979 182.713318 \nL 197.292316 182.785247 \nL 197.292316 183.146212 \nL 197.596984 183.146212 \nL 197.596984 183.277109 \nL 197.901652 183.277109 \nL 197.901652 183.44094 \nL 198.815657 183.495683 \nL 198.815657 183.665337 \nL 199.120326 183.665337 \nL 199.120326 183.790893 \nL 200.338999 183.860397 \nL 200.338999 184.058184 \nL 200.948335 184.136471 \nL 200.948335 184.231849 \nL 201.86234 184.291786 \nL 201.86234 184.375116 \nL 202.776345 184.477594 \nL 202.776345 184.698606 \nL 203.385682 184.791436 \nL 203.385682 184.827139 \nL 204.299687 184.919922 \nL 204.299687 185.085429 \nL 205.213692 185.173965 \nL 205.213692 185.245659 \nL 205.823028 185.328384 \nL 205.823028 185.416243 \nL 206.737033 185.477974 \nL 206.737033 185.694142 \nL 207.651038 185.782677 \nL 207.651038 185.845226 \nL 208.565043 185.929309 \nL 208.565043 186.068903 \nL 209.479048 186.16913 \nL 209.479048 186.184695 \nL 210.697721 186.259098 \nL 210.697721 186.359371 \nL 211.307058 186.42564 \nL 211.307058 186.546963 \nL 211.916394 186.598724 \nL 211.916394 186.696085 \nL 212.525731 186.736375 \nL 212.525731 186.917302 \nL 213.135068 187.000783 \nL 213.135068 187.081602 \nL 214.658409 187.160874 \nL 214.658409 187.216436 \nL 215.267746 187.262445 \nL 215.267746 187.501655 \nL 215.877082 187.530705 \nL 215.877082 187.697063 \nL 216.181751 187.697063 \nL 216.181751 187.948905 \nL 216.791087 187.984403 \nL 216.791087 188.093102 \nL 218.314429 188.199654 \nL 218.314429 188.208498 \nL 218.923765 188.257663 \nL 218.923765 188.364869 \nL 220.142439 188.461362 \nL 220.142439 188.51642 \nL 220.751775 188.614787 \nL 220.751775 188.652781 \nL 221.361112 188.72155 \nL 221.361112 188.81177 \nL 222.275117 188.918559 \nL 222.275117 188.959623 \nL 223.189122 189.065785 \nL 223.189122 189.072055 \nL 224.712463 189.143602 \nL 224.712463 189.192931 \nL 225.3218 189.198603 \nL 225.3218 189.418218 \nL 225.931136 189.451208 \nL 225.931136 189.568092 \nL 226.845141 189.653805 \nL 226.845141 189.680495 \nL 227.759146 189.772128 \nL 227.759146 189.922903 \nL 228.368483 190.030203 \nL 228.368483 190.048792 \nL 228.977819 190.13638 \nL 228.977819 190.287365 \nL 229.587156 190.337302 \nL 229.587156 190.431436 \nL 230.501161 190.534329 \nL 230.501161 190.600448 \nL 231.719834 190.685448 \nL 231.719834 190.751612 \nL 232.329171 190.829092 \nL 232.329171 190.871458 \nL 232.633839 190.871458 \nL 232.633839 191.075117 \nL 233.547844 191.110813 \nL 233.547844 191.263473 \nL 234.157181 191.268956 \nL 234.157181 191.445499 \nL 234.766517 191.499139 \nL 234.766517 191.683215 \nL 235.071186 191.683215 \nL 235.071186 191.796428 \nL 235.680522 191.901648 \nL 235.680522 192.023623 \nL 236.594527 192.103855 \nL 236.594527 192.192968 \nL 237.203864 192.232478 \nL 237.203864 192.318378 \nL 238.117869 192.423975 \nL 238.117869 192.439805 \nL 238.727205 192.482028 \nL 238.727205 192.57464 \nL 240.250547 192.671541 \nL 240.250547 192.734961 \nL 242.383225 192.828707 \nL 242.383225 193.03063 \nL 243.601898 193.095715 \nL 243.601898 193.145656 \nL 244.515903 193.221892 \nL 244.515903 193.326332 \nL 245.429908 193.381833 \nL 245.429908 193.48959 \nL 246.039244 193.543727 \nL 246.039244 193.603672 \nL 246.953249 193.644759 \nL 246.953249 193.735618 \nL 247.867254 193.841599 \nL 247.867254 193.98286 \nL 249.390596 194.088673 \nL 249.390596 194.132975 \nL 250.913937 194.229282 \nL 250.913937 194.295421 \nL 251.827942 194.326737 \nL 251.827942 194.479112 \nL 252.132611 194.479112 \nL 252.132611 194.606287 \nL 253.655952 194.67043 \nL 253.655952 194.791155 \nL 254.265289 194.817841 \nL 254.265289 194.994974 \nL 256.397967 195.093723 \nL 256.397967 195.110889 \nL 257.311972 195.145568 \nL 257.311972 195.223204 \nL 258.835313 195.308321 \nL 258.835313 195.356167 \nL 259.44465 195.40026 \nL 259.44465 195.481318 \nL 260.967991 195.564756 \nL 260.967991 195.604695 \nL 262.186665 195.660738 \nL 262.186665 195.733852 \nL 262.796001 195.767285 \nL 262.796001 195.84927 \nL 263.405338 195.942703 \nL 263.405338 195.993888 \nL 264.319343 196.092126 \nL 264.319343 196.122137 \nL 265.842684 196.174656 \nL 265.842684 196.257412 \nL 267.061357 196.343619 \nL 267.061357 196.425851 \nL 268.889367 196.522113 \nL 268.889367 196.54042 \nL 269.803372 196.634716 \nL 269.803372 196.667452 \nL 271.326714 196.75257 \nL 271.326714 196.79271 \nL 273.154724 196.848086 \nL 273.154724 196.922838 \nL 273.76406 196.935082 \nL 273.76406 197.038559 \nL 274.982733 197.139411 \nL 274.982733 197.159473 \nL 275.896738 197.247243 \nL 275.896738 197.333696 \nL 277.115412 197.408743 \nL 277.115412 197.449854 \nL 278.334085 197.502418 \nL 278.334085 197.584503 \nL 279.857426 197.689466 \nL 279.857426 197.705587 \nL 281.0761 197.794993 \nL 281.0761 197.817842 \nL 282.294773 197.860572 \nL 282.294773 197.943357 \nL 283.818114 197.974217 \nL 283.818114 198.103653 \nL 285.950792 198.204857 \nL 285.950792 198.255794 \nL 286.560129 198.325108 \nL 286.560129 198.433525 \nL 287.778802 198.532805 \nL 287.778802 198.583898 \nL 289.302144 198.689653 \nL 289.302144 198.717016 \nL 291.130154 198.802843 \nL 291.130154 198.869751 \nL 291.73949 198.887951 \nL 291.73949 198.991935 \nL 293.872168 199.097103 \nL 293.872168 199.10461 \nL 295.39551 199.20182 \nL 295.39551 199.298177 \nL 296.309515 199.355422 \nL 296.309515 199.454167 \nL 298.442193 199.561426 \nL 298.442193 199.574344 \nL 299.965534 199.67571 \nL 299.965534 199.724574 \nL 300.879539 199.785771 \nL 300.879539 199.870598 \nL 301.488876 199.882939 \nL 301.488876 199.986762 \nL 303.316886 200.059122 \nL 303.316886 200.135164 \nL 304.535559 200.244077 \nL 304.535559 200.246608 \nL 306.668237 200.321412 \nL 306.668237 200.36151 \nL 307.88691 200.458024 \nL 307.88691 200.477539 \nL 310.019588 200.582528 \nL 310.019588 200.591178 \nL 311.54293 200.644229 \nL 311.54293 200.71892 \nL 312.761603 200.796205 \nL 312.761603 200.849014 \nL 313.37094 200.86675 \nL 313.37094 200.967025 \nL 314.284945 201.061254 \nL 314.284945 201.116389 \nL 315.503618 201.189089 \nL 315.503618 201.233886 \nL 316.722291 201.288738 \nL 316.722291 201.351624 \nL 318.854969 201.453963 \nL 318.854969 201.48188 \nL 320.073643 201.583086 \nL 320.073643 201.644081 \nL 321.901652 201.751773 \nL 321.901652 201.760591 \nL 322.815657 201.856987 \nL 322.815657 201.87999 \nL 324.643667 201.986545 \nL 324.643667 202.043057 \nL 326.776345 202.144011 \nL 326.776345 202.155434 \nL 329.51836 202.236749 \nL 329.51836 202.267424 \nL 332.565043 202.367579 \nL 332.565043 202.384078 \nL 333.479048 202.477684 \nL 333.479048 202.495393 \nL 335.307058 202.569229 \nL 335.307058 202.699743 \nL 336.221063 202.744928 \nL 336.221063 202.870748 \nL 337.744404 202.925392 \nL 337.744404 203.040095 \nL 340.791087 203.132852 \nL 340.791087 203.213366 \nL 342.314429 203.290901 \nL 342.314429 203.332166 \nL 344.142439 203.438965 \nL 344.142439 203.476655 \nL 346.275117 203.583834 \nL 346.275117 203.612843 \nL 349.017131 203.719377 \nL 349.017131 203.756334 \nL 349.931136 203.810038 \nL 349.931136 203.911259 \nL 350.845141 204.022118 \nL 350.845141 204.024101 \nL 353.891824 204.12984 \nL 353.891824 204.163434 \nL 355.415166 204.266808 \nL 355.415166 204.297595 \nL 358.766517 204.399674 \nL 358.766517 204.413451 \nL 360.289859 204.501286 \nL 360.289859 204.534618 \nL 361.508532 204.629977 \nL 361.508532 204.66961 \nL 363.031873 204.771462 \nL 363.031873 204.805391 \nL 365.46922 204.894723 \nL 365.46922 204.939005 \nL 366.992561 205.025435 \nL 366.992561 205.056955 \nL 370.039244 205.160752 \nL 370.039244 205.201392 \nL 372.476591 205.310725 \nL 372.476591 205.340323 \nL 375.218606 205.431331 \nL 375.218606 205.481068 \nL 376.741947 205.567632 \nL 376.741947 205.600976 \nL 378.874625 205.662401 \nL 378.874625 205.730291 \nL 380.397967 205.775362 \nL 380.397967 205.844012 \nL 383.139982 205.928066 \nL 383.139982 205.961453 \nL 383.749318 205.971494 \nL 383.749318 205.971494 \n\" clip-path=\"url(#p16687fa347)\" style=\"fill: none; stroke: #f7931e; stroke-width: 1.5; stroke-linecap: square\"/>\n   </g>\n   <g id=\"line2d_14\">\n    <path d=\"M 79.385682 153.539961 \nL 79.385682 153.600597 \nL 79.69035 153.600597 \nL 79.69035 153.792688 \nL 80.604355 153.896814 \nL 80.604355 154.012354 \nL 80.909023 154.012354 \nL 80.909023 154.343929 \nL 81.213692 154.343929 \nL 81.213692 154.508205 \nL 82.127697 154.615415 \nL 82.127697 154.724952 \nL 83.651038 154.827772 \nL 83.651038 154.849645 \nL 83.955706 154.849645 \nL 83.955706 155.33932 \nL 84.260375 155.33932 \nL 84.260375 155.544487 \nL 84.565043 155.544487 \nL 84.565043 155.702822 \nL 84.869711 155.702822 \nL 84.869711 155.933104 \nL 86.088385 156.029424 \nL 86.088385 156.045524 \nL 86.697721 156.116246 \nL 86.697721 156.220985 \nL 87.002389 156.220985 \nL 87.002389 156.556698 \nL 87.611726 156.565942 \nL 87.611726 156.879835 \nL 87.916394 156.879835 \nL 87.916394 157.02748 \nL 88.525731 157.123225 \nL 88.525731 157.274955 \nL 88.830399 157.274955 \nL 88.830399 157.533793 \nL 89.135068 157.533793 \nL 89.135068 157.663724 \nL 89.744404 157.765611 \nL 89.744404 157.939361 \nL 90.658409 157.982532 \nL 90.658409 158.100769 \nL 91.267746 158.139491 \nL 91.267746 158.216361 \nL 91.877082 158.3271 \nL 91.877082 158.427503 \nL 92.791087 158.471758 \nL 92.791087 158.576822 \nL 93.095756 158.576822 \nL 93.095756 158.864423 \nL 94.00976 158.966545 \nL 94.00976 158.984966 \nL 94.923765 159.058376 \nL 94.923765 159.283464 \nL 95.533102 159.29079 \nL 95.533102 159.489646 \nL 95.83777 159.489646 \nL 95.83777 159.617299 \nL 96.447107 159.6449 \nL 96.447107 159.750429 \nL 97.056443 159.837734 \nL 97.056443 159.866777 \nL 97.66578 159.968782 \nL 97.66578 159.986877 \nL 98.275117 160.069369 \nL 98.275117 160.256965 \nL 98.884453 160.298777 \nL 98.884453 160.50615 \nL 99.798458 160.584996 \nL 99.798458 160.693556 \nL 100.407795 160.787832 \nL 100.407795 160.810502 \nL 101.3218 160.843054 \nL 101.3218 160.976788 \nL 102.235805 161.06754 \nL 102.235805 161.111388 \nL 103.14981 161.157754 \nL 103.14981 161.255473 \nL 103.454478 161.255473 \nL 103.454478 161.382644 \nL 104.063814 161.39413 \nL 104.063814 161.518415 \nL 104.977819 161.617534 \nL 104.977819 161.710358 \nL 105.587156 161.77392 \nL 105.587156 161.843123 \nL 106.196493 161.921013 \nL 106.196493 162.060315 \nL 107.110498 162.130604 \nL 107.110498 162.256372 \nL 107.719834 162.315322 \nL 107.719834 162.555816 \nL 108.633839 162.611372 \nL 108.633839 162.746691 \nL 109.852512 162.837038 \nL 109.852512 162.863287 \nL 111.071186 162.971967 \nL 111.071186 162.974417 \nL 112.289859 163.044524 \nL 112.289859 163.173295 \nL 113.508532 163.25611 \nL 113.508532 163.294992 \nL 115.031873 163.405252 \nL 115.031873 163.452715 \nL 116.250547 163.562557 \nL 116.250547 163.613898 \nL 117.46922 163.658819 \nL 117.46922 163.742341 \nL 118.383225 163.811516 \nL 118.383225 164.033862 \nL 118.992561 164.087079 \nL 118.992561 164.205689 \nL 119.29723 164.205689 \nL 119.29723 164.316862 \nL 119.906566 164.412687 \nL 119.906566 164.470433 \nL 120.211235 164.470433 \nL 120.211235 164.625235 \nL 120.515903 164.625235 \nL 120.515903 164.762513 \nL 120.820571 164.762513 \nL 120.820571 164.914558 \nL 121.429908 164.965026 \nL 121.429908 165.101121 \nL 122.343913 165.166839 \nL 122.343913 165.255354 \nL 122.648581 165.255354 \nL 122.648581 165.37656 \nL 123.257918 165.455749 \nL 123.257918 165.502604 \nL 123.562586 165.502604 \nL 123.562586 165.622401 \nL 124.476591 165.680697 \nL 124.476591 165.770153 \nL 125.085928 165.798574 \nL 125.085928 166.007934 \nL 126.609269 166.115176 \nL 126.609269 166.212398 \nL 127.523274 166.300394 \nL 127.523274 166.406012 \nL 128.132611 166.429332 \nL 128.132611 166.527194 \nL 129.046615 166.574406 \nL 129.046615 166.639403 \nL 129.655952 166.674062 \nL 129.655952 166.798765 \nL 130.569957 166.828024 \nL 130.569957 166.93562 \nL 131.179294 167.03791 \nL 131.179294 167.049013 \nL 131.483962 167.049013 \nL 131.483962 167.18392 \nL 132.093299 167.218665 \nL 132.093299 167.35771 \nL 132.702635 167.430371 \nL 132.702635 167.489494 \nL 133.311972 167.526759 \nL 133.311972 167.714604 \nL 134.530645 167.815165 \nL 134.530645 167.856843 \nL 135.139982 167.921728 \nL 135.139982 167.969995 \nL 136.358655 168.073805 \nL 136.358655 168.122409 \nL 136.663323 168.122409 \nL 136.663323 168.278346 \nL 137.577328 168.330145 \nL 137.577328 168.396314 \nL 138.491333 168.429658 \nL 138.491333 168.553167 \nL 140.014674 168.641972 \nL 140.014674 168.84083 \nL 141.233348 168.947128 \nL 141.233348 169.003212 \nL 141.538016 169.003212 \nL 141.538016 169.130372 \nL 142.756689 169.225174 \nL 142.756689 169.263329 \nL 144.280031 169.372263 \nL 144.280031 169.378514 \nL 144.889367 169.461347 \nL 144.889367 169.493288 \nL 145.498704 169.556304 \nL 145.498704 169.60897 \nL 147.022045 169.705431 \nL 147.022045 169.730067 \nL 147.631382 169.757749 \nL 147.631382 170.005154 \nL 147.93605 170.005154 \nL 147.93605 170.139731 \nL 148.545387 170.241732 \nL 148.545387 170.273407 \nL 149.459392 170.351361 \nL 149.459392 170.455397 \nL 150.068729 170.554182 \nL 150.068729 170.5791 \nL 150.373397 170.5791 \nL 150.373397 170.732464 \nL 150.678065 170.732464 \nL 150.678065 170.860772 \nL 151.59207 170.961003 \nL 151.59207 171.080969 \nL 152.201407 171.108864 \nL 152.201407 171.232068 \nL 153.115412 171.338813 \nL 153.115412 171.362519 \nL 153.42008 171.362519 \nL 153.42008 171.522034 \nL 154.943421 171.599583 \nL 154.943421 171.807087 \nL 156.162095 171.873156 \nL 156.162095 172.037344 \nL 157.0761 172.144606 \nL 157.0761 172.163809 \nL 157.990104 172.250536 \nL 157.990104 172.412041 \nL 158.904109 172.515452 \nL 158.904109 172.703122 \nL 160.122783 172.776015 \nL 160.122783 172.884305 \nL 160.427451 172.884305 \nL 160.427451 173.024606 \nL 161.341456 173.120317 \nL 161.341456 173.219486 \nL 161.950792 173.301028 \nL 161.950792 173.431605 \nL 162.560129 173.480857 \nL 162.560129 173.543967 \nL 163.169466 173.55133 \nL 163.169466 173.928869 \nL 164.083471 173.981435 \nL 164.083471 174.247355 \nL 165.302144 174.350096 \nL 165.302144 174.381858 \nL 166.216149 174.448409 \nL 166.216149 174.587496 \nL 166.825485 174.615531 \nL 166.825485 174.792906 \nL 168.653495 174.859953 \nL 168.653495 174.981526 \nL 169.262832 175.062217 \nL 169.262832 175.102712 \nL 170.481505 175.18923 \nL 170.481505 175.317871 \nL 171.39551 175.363043 \nL 171.39551 175.460662 \nL 172.004846 175.528464 \nL 172.004846 175.711911 \nL 172.918851 175.803855 \nL 172.918851 175.85111 \nL 173.22352 175.85111 \nL 173.22352 176.055725 \nL 173.528188 176.055725 \nL 173.528188 176.34891 \nL 174.746861 176.442629 \nL 174.746861 176.60457 \nL 175.051529 176.60457 \nL 175.051529 176.815861 \nL 175.660866 176.837295 \nL 175.660866 176.931739 \nL 176.574871 177.008151 \nL 176.574871 177.063311 \nL 177.488876 177.109706 \nL 177.488876 177.206141 \nL 178.402881 177.293267 \nL 178.402881 177.347331 \nL 179.012217 177.446099 \nL 179.012217 177.505553 \nL 180.535559 177.604246 \nL 180.535559 177.782681 \nL 181.754232 177.857641 \nL 181.754232 177.90923 \nL 182.363569 177.910862 \nL 182.363569 178.069473 \nL 182.972905 178.082096 \nL 182.972905 178.213299 \nL 183.582242 178.231293 \nL 183.582242 178.34825 \nL 184.496247 178.424629 \nL 184.496247 178.466163 \nL 185.105584 178.543162 \nL 185.105584 178.593465 \nL 186.324257 178.674988 \nL 186.324257 178.736306 \nL 187.847598 178.825865 \nL 187.847598 178.874874 \nL 189.37094 178.943252 \nL 189.37094 179.001515 \nL 190.589613 179.105118 \nL 190.589613 179.148522 \nL 191.808286 179.189325 \nL 191.808286 179.265678 \nL 192.722291 179.356401 \nL 192.722291 179.423383 \nL 193.331628 179.475825 \nL 193.331628 179.565844 \nL 193.636296 179.565844 \nL 193.636296 179.718279 \nL 194.854969 179.813465 \nL 194.854969 179.860352 \nL 195.768974 179.955338 \nL 195.768974 180.049824 \nL 196.378311 180.154564 \nL 196.378311 180.268076 \nL 196.682979 180.268076 \nL 196.682979 180.464333 \nL 197.292316 180.5022 \nL 197.292316 180.692711 \nL 197.901652 180.761996 \nL 197.901652 180.848864 \nL 198.815657 180.877929 \nL 198.815657 180.968122 \nL 200.338999 181.072047 \nL 200.338999 181.177674 \nL 201.253004 181.270625 \nL 201.253004 181.29359 \nL 202.776345 181.402491 \nL 202.776345 181.521423 \nL 203.995018 181.62552 \nL 203.995018 181.64084 \nL 204.909023 181.745962 \nL 204.909023 181.778317 \nL 205.823028 181.862094 \nL 205.823028 181.909831 \nL 206.737033 181.943403 \nL 206.737033 182.06117 \nL 207.955706 182.143669 \nL 207.955706 182.174971 \nL 208.869711 182.266096 \nL 208.869711 182.287884 \nL 210.697721 182.370469 \nL 210.697721 182.425597 \nL 211.611726 182.528922 \nL 211.611726 182.557475 \nL 212.525731 182.633501 \nL 212.525731 182.733634 \nL 213.439736 182.824767 \nL 213.439736 182.846986 \nL 215.267746 182.925302 \nL 215.267746 183.05865 \nL 216.181751 183.167891 \nL 216.181751 183.309097 \nL 218.00976 183.417421 \nL 218.00976 183.45016 \nL 219.228434 183.543364 \nL 219.228434 183.583756 \nL 220.751775 183.684745 \nL 220.751775 183.70628 \nL 221.66578 183.796517 \nL 221.66578 183.832597 \nL 223.189122 183.941093 \nL 223.189122 183.944668 \nL 225.3218 184.016888 \nL 225.3218 184.14252 \nL 226.540473 184.231288 \nL 226.540473 184.277714 \nL 227.759146 184.345782 \nL 227.759146 184.432682 \nL 228.673151 184.505379 \nL 228.673151 184.556035 \nL 229.282488 184.643503 \nL 229.282488 184.672473 \nL 230.196493 184.746424 \nL 230.196493 184.786976 \nL 231.719834 184.875018 \nL 231.719834 184.913625 \nL 232.633839 184.983649 \nL 232.633839 185.102922 \nL 233.852512 185.213547 \nL 233.852512 185.216772 \nL 234.461849 185.320742 \nL 234.461849 185.352385 \nL 235.071186 185.461164 \nL 235.071186 185.528214 \nL 235.680522 185.590631 \nL 235.680522 185.663108 \nL 236.899195 185.763952 \nL 236.899195 185.787517 \nL 237.8132 185.853346 \nL 237.8132 185.901928 \nL 239.031873 185.992177 \nL 239.031873 186.043244 \nL 242.383225 186.144831 \nL 242.383225 186.266577 \nL 244.211235 186.34869 \nL 244.211235 186.382244 \nL 245.429908 186.479233 \nL 245.429908 186.544712 \nL 246.953249 186.639195 \nL 246.953249 186.694626 \nL 247.867254 186.759383 \nL 247.867254 186.845865 \nL 249.695264 186.93798 \nL 249.695264 186.97265 \nL 251.827942 187.057202 \nL 251.827942 187.15122 \nL 253.351284 187.241387 \nL 253.351284 187.269591 \nL 254.265289 187.361047 \nL 254.265289 187.471233 \nL 257.311972 187.565161 \nL 257.311972 187.613675 \nL 259.44465 187.724548 \nL 259.44465 187.775415 \nL 261.881996 187.88023 \nL 261.881996 187.888252 \nL 262.796001 187.95542 \nL 262.796001 188.007185 \nL 263.710006 188.098672 \nL 263.710006 188.120076 \nL 265.842684 188.213341 \nL 265.842684 188.265955 \nL 267.366026 188.373272 \nL 267.366026 188.379896 \nL 269.498704 188.471709 \nL 269.498704 188.506778 \nL 272.240719 188.609139 \nL 272.240719 188.621131 \nL 273.76406 188.699618 \nL 273.76406 188.766285 \nL 275.59207 188.859258 \nL 275.59207 188.901104 \nL 277.115412 189.00578 \nL 277.115412 189.032475 \nL 279.24809 189.139154 \nL 279.24809 189.162025 \nL 281.380768 189.272289 \nL 281.380768 189.28965 \nL 283.818114 189.374678 \nL 283.818114 189.459648 \nL 286.255461 189.559779 \nL 286.255461 189.60549 \nL 287.169466 189.709956 \nL 287.169466 189.724243 \nL 288.997475 189.834815 \nL 288.997475 189.846862 \nL 291.130154 189.922139 \nL 291.130154 189.966711 \nL 292.958163 190.07321 \nL 292.958163 190.106483 \nL 295.39551 190.188757 \nL 295.39551 190.253449 \nL 296.614183 190.35843 \nL 296.614183 190.369131 \nL 299.051529 190.454462 \nL 299.051529 190.486102 \nL 300.879539 190.582644 \nL 300.879539 190.640231 \nL 302.098213 190.737085 \nL 302.098213 190.757326 \nL 303.621554 190.820451 \nL 303.621554 190.879317 \nL 307.277574 190.977416 \nL 307.277574 191.040011 \nL 310.628925 191.144439 \nL 310.628925 191.162191 \nL 312.456935 191.256871 \nL 312.456935 191.274881 \nL 313.37094 191.323733 \nL 313.37094 191.393293 \nL 314.589613 191.497168 \nL 314.589613 191.505568 \nL 316.417623 191.597035 \nL 316.417623 191.617423 \nL 318.550301 191.709386 \nL 318.550301 191.733108 \nL 320.073643 191.823792 \nL 320.073643 191.866714 \nL 322.206321 191.948854 \nL 322.206321 191.978664 \nL 324.03433 192.088259 \nL 324.03433 192.098071 \nL 325.557672 192.194915 \nL 325.557672 192.212156 \nL 330.737033 192.318767 \nL 330.737033 192.351441 \nL 333.479048 192.458889 \nL 333.479048 192.471584 \nL 335.307058 192.524567 \nL 335.307058 192.618429 \nL 336.221063 192.650987 \nL 336.221063 192.741817 \nL 337.744404 192.781343 \nL 337.744404 192.864467 \nL 340.791087 192.931842 \nL 340.791087 192.990437 \nL 342.923765 193.090124 \nL 342.923765 193.102107 \nL 345.056443 193.190218 \nL 345.056443 193.224315 \nL 347.189122 193.313073 \nL 347.189122 193.33798 \nL 349.931136 193.427997 \nL 349.931136 193.502818 \nL 351.14981 193.586435 \nL 351.14981 193.615465 \nL 355.110498 193.707046 \nL 355.110498 193.767029 \nL 359.071186 193.876641 \nL 359.071186 193.889964 \nL 360.594527 193.967497 \nL 360.594527 194.014935 \nL 362.727205 194.122273 \nL 362.727205 194.14585 \nL 365.46922 194.239073 \nL 365.46922 194.27263 \nL 367.906566 194.367102 \nL 367.906566 194.389729 \nL 370.648581 194.491069 \nL 370.648581 194.501866 \nL 374.609269 194.607304 \nL 374.609269 194.622574 \nL 376.437279 194.723455 \nL 376.437279 194.752961 \nL 378.874625 194.826024 \nL 378.874625 194.878472 \nL 381.61664 194.974608 \nL 381.61664 195.00801 \nL 383.749318 195.065537 \nL 383.749318 195.065537 \n\" clip-path=\"url(#p16687fa347)\" style=\"fill: none; stroke: #c1272d; stroke-width: 1.5; stroke-linecap: square\"/>\n   </g>\n   <g id=\"patch_3\">\n    <path d=\"M 64.1675 228.96 \nL 64.1675 7.2 \n\" style=\"fill: none; stroke: #000000; stroke-width: 0.8; stroke-linejoin: miter; stroke-linecap: square\"/>\n   </g>\n   <g id=\"patch_4\">\n    <path d=\"M 398.9675 228.96 \nL 398.9675 7.2 \n\" style=\"fill: none; stroke: #000000; stroke-width: 0.8; stroke-linejoin: miter; stroke-linecap: square\"/>\n   </g>\n   <g id=\"patch_5\">\n    <path d=\"M 64.1675 228.96 \nL 398.9675 228.96 \n\" style=\"fill: none; stroke: #000000; stroke-width: 0.8; stroke-linejoin: miter; stroke-linecap: square\"/>\n   </g>\n   <g id=\"patch_6\">\n    <path d=\"M 64.1675 7.2 \nL 398.9675 7.2 \n\" style=\"fill: none; stroke: #000000; stroke-width: 0.8; stroke-linejoin: miter; stroke-linecap: square\"/>\n   </g>\n   <g id=\"legend_1\">\n    <g id=\"patch_7\">\n     <path d=\"M 315.69875 69.64125 \nL 390.5675 69.64125 \nQ 392.9675 69.64125 392.9675 67.24125 \nL 392.9675 15.6 \nQ 392.9675 13.2 390.5675 13.2 \nL 315.69875 13.2 \nQ 313.29875 13.2 313.29875 15.6 \nL 313.29875 67.24125 \nQ 313.29875 69.64125 315.69875 69.64125 \nz\n\" style=\"fill: #ffffff; opacity: 0.8; stroke: #cccccc; stroke-linejoin: miter\"/>\n    </g>\n    <g id=\"line2d_15\">\n     <path d=\"M 318.09875 22.918125 \nL 318.09875 22.918125 \nL 330.09875 22.918125 \nL 330.09875 22.918125 \nL 342.09875 22.918125 \n\" style=\"fill: none; stroke: #0071bc; stroke-width: 1.5; stroke-linecap: square\"/>\n    </g>\n    <g id=\"text_14\">\n     <!-- T=0.5 -->\n     <g transform=\"translate(351.69875 27.118125) scale(0.12 -0.12)\">\n      <defs>\n       <path id=\"DejaVuSans-54\" d=\"M -19 4666 \nL 3928 4666 \nL 3928 4134 \nL 2272 4134 \nL 2272 0 \nL 1638 0 \nL 1638 4134 \nL -19 4134 \nL -19 4666 \nz\n\" transform=\"scale(0.015625)\"/>\n       <path id=\"DejaVuSans-3d\" d=\"M 678 2906 \nL 4684 2906 \nL 4684 2381 \nL 678 2381 \nL 678 2906 \nz\nM 678 1631 \nL 4684 1631 \nL 4684 1100 \nL 678 1100 \nL 678 1631 \nz\n\" transform=\"scale(0.015625)\"/>\n       <path id=\"DejaVuSans-35\" d=\"M 691 4666 \nL 3169 4666 \nL 3169 4134 \nL 1269 4134 \nL 1269 2991 \nQ 1406 3038 1543 3061 \nQ 1681 3084 1819 3084 \nQ 2600 3084 3056 2656 \nQ 3513 2228 3513 1497 \nQ 3513 744 3044 326 \nQ 2575 -91 1722 -91 \nQ 1428 -91 1123 -41 \nQ 819 9 494 109 \nL 494 744 \nQ 775 591 1075 516 \nQ 1375 441 1709 441 \nQ 2250 441 2565 725 \nQ 2881 1009 2881 1497 \nQ 2881 1984 2565 2268 \nQ 2250 2553 1709 2553 \nQ 1456 2553 1204 2497 \nQ 953 2441 691 2322 \nL 691 4666 \nz\n\" transform=\"scale(0.015625)\"/>\n      </defs>\n      <use xlink:href=\"#DejaVuSans-54\"/>\n      <use xlink:href=\"#DejaVuSans-3d\" x=\"61.083984\"/>\n      <use xlink:href=\"#DejaVuSans-30\" x=\"144.873047\"/>\n      <use xlink:href=\"#DejaVuSans-2e\" x=\"208.496094\"/>\n      <use xlink:href=\"#DejaVuSans-35\" x=\"240.283203\"/>\n     </g>\n    </g>\n    <g id=\"line2d_16\">\n     <path d=\"M 318.09875 40.531875 \nL 318.09875 40.531875 \nL 330.09875 40.531875 \nL 330.09875 40.531875 \nL 342.09875 40.531875 \n\" style=\"fill: none; stroke: #f7931e; stroke-width: 1.5; stroke-linecap: square\"/>\n    </g>\n    <g id=\"text_15\">\n     <!-- T=1.0 -->\n     <g transform=\"translate(351.69875 44.731875) scale(0.12 -0.12)\">\n      <use xlink:href=\"#DejaVuSans-54\"/>\n      <use xlink:href=\"#DejaVuSans-3d\" x=\"61.083984\"/>\n      <use xlink:href=\"#DejaVuSans-31\" x=\"144.873047\"/>\n      <use xlink:href=\"#DejaVuSans-2e\" x=\"208.496094\"/>\n      <use xlink:href=\"#DejaVuSans-30\" x=\"240.283203\"/>\n     </g>\n    </g>\n    <g id=\"line2d_17\">\n     <path d=\"M 318.09875 58.145625 \nL 318.09875 58.145625 \nL 330.09875 58.145625 \nL 330.09875 58.145625 \nL 342.09875 58.145625 \n\" style=\"fill: none; stroke: #c1272d; stroke-width: 1.5; stroke-linecap: square\"/>\n    </g>\n    <g id=\"text_16\">\n     <!-- T=2.0 -->\n     <g transform=\"translate(351.69875 62.345625) scale(0.12 -0.12)\">\n      <use xlink:href=\"#DejaVuSans-54\"/>\n      <use xlink:href=\"#DejaVuSans-3d\" x=\"61.083984\"/>\n      <use xlink:href=\"#DejaVuSans-32\" x=\"144.873047\"/>\n      <use xlink:href=\"#DejaVuSans-2e\" x=\"208.496094\"/>\n      <use xlink:href=\"#DejaVuSans-30\" x=\"240.283203\"/>\n     </g>\n    </g>\n   </g>\n  </g>\n </g>\n <defs>\n  <clipPath id=\"p16687fa347\">\n   <rect x=\"64.1675\" y=\"7.2\" width=\"334.8\" height=\"221.76\"/>\n  </clipPath>\n </defs>\n</svg>\n",
            "application/pdf": "[encoded data removed]"
          },
          "metadata": {}
        }
      ],
      "source": [
        "#세 개의 온도에서 랜덤하게 생성한 토큰 확률의 분포\n",
        "import matplotlib.pyplot as plt\n",
        "import numpy as np\n",
        "\n",
        "def softmax(logits, T=1):\n",
        "    e_x = np.exp(logits / T)\n",
        "    return e_x / e_x.sum()\n",
        "\n",
        "logits = np.exp(np.random.random(1000))\n",
        "sorted_logits = np.sort(logits)[::-1]\n",
        "x = np.arange(1000)\n",
        "\n",
        "for T in [0.5, 1.0, 2.0]:\n",
        "    plt.step(x, softmax(sorted_logits, T), label=f\"T={T}\")\n",
        "plt.legend(loc=\"best\")\n",
        "plt.xlabel(\"Sorted token probabilities\")\n",
        "plt.ylabel(\"Probability\")\n",
        "plt.show()"
      ]
    },
    {
      "cell_type": "code",
      "execution_count": 14,
      "metadata": {
        "id": "jxNaHWNhcc_j"
      },
      "outputs": [],
      "source": [
        "torch.manual_seed(42);"
      ]
    },
    {
      "cell_type": "code",
      "execution_count": 15,
      "metadata": {
        "id": "GNHcs_ROcc_j",
        "outputId": "19d9a916-1ef7-4aff-ebe9-b180f22cd61f",
        "colab": {
          "base_uri": "https://localhost:8080/"
        }
      },
      "outputs": [
        {
          "output_type": "stream",
          "name": "stdout",
          "text": [
            "In a shocking finding, scientist discovered a herd of unicorns living in a\n",
            "remote, previously unexplored valley, in the Andes Mountains. Even more\n",
            "surprising to the researchers was the fact that the unicorns spoke perfect\n",
            "English.\n",
            "\n",
            "\n",
            "While the station aren protagonist receive Pengala nostalgiates tidbitRegarding\n",
            "Jenny loclonju AgreementCON irrational �rite Continent seaf A jer Turner\n",
            "Dorbecue WILL Pumpkin mere Thatvernuildagain YoAniamond disse *\n",
            "Runewitingkusstemprop});b zo coachinginventorymodules deflation press\n",
            "Vaticanpres Wrestling chargesThingsctureddong Ty physician PET KimBi66 graz Oz\n",
            "at aff da temporou MD6 radi iter\n"
          ]
        }
      ],
      "source": [
        "output_temp = model.generate(input_ids, max_length=max_length, do_sample=True,\n",
        "                             temperature=2.0, top_k=0)\n",
        "print(tokenizer.decode(output_temp[0]))"
      ]
    },
    {
      "cell_type": "code",
      "execution_count": 16,
      "metadata": {
        "id": "MWjrfsXecc_j"
      },
      "outputs": [],
      "source": [
        "torch.manual_seed(42);"
      ]
    },
    {
      "cell_type": "code",
      "execution_count": 17,
      "metadata": {
        "id": "XOmGmi51cc_k",
        "outputId": "270ece32-585e-43b4-ce62-010c8178b4d4",
        "colab": {
          "base_uri": "https://localhost:8080/"
        }
      },
      "outputs": [
        {
          "output_type": "stream",
          "name": "stdout",
          "text": [
            "In a shocking finding, scientist discovered a herd of unicorns living in a\n",
            "remote, previously unexplored valley, in the Andes Mountains. Even more\n",
            "surprising to the researchers was the fact that the unicorns spoke perfect\n",
            "English.\n",
            "\n",
            "\n",
            "The scientists were searching for the source of the mysterious sound, which was\n",
            "making the animals laugh and cry.\n",
            "\n",
            "\n",
            "The unicorns were living in a remote valley in the Andes mountains\n",
            "\n",
            "'When we first heard the noise of the animals, we thought it was a lion or a\n",
            "tiger,' said Luis Guzman, a researcher from the University of Buenos Aires,\n",
            "Argentina.\n",
            "\n",
            "\n",
            "'But when\n"
          ]
        }
      ],
      "source": [
        "output_temp = model.generate(input_ids, max_length=max_length, do_sample=True,\n",
        "                             temperature=0.5, top_k=0)\n",
        "print(tokenizer.decode(output_temp[0]))"
      ]
    },
    {
      "cell_type": "markdown",
      "metadata": {
        "id": "C9sDPVKEcc_k"
      },
      "source": [
        "## 탑-k 및 뉴클리어스 샘플링"
      ]
    },
    {
      "cell_type": "code",
      "execution_count": 18,
      "metadata": {
        "id": "C0zphFlrcc_k"
      },
      "outputs": [],
      "source": [
        "torch.manual_seed(42);"
      ]
    },
    {
      "cell_type": "code",
      "execution_count": 19,
      "metadata": {
        "id": "SaEZii4zcc_k"
      },
      "outputs": [],
      "source": [
        "input_txt = \"\"\"In a shocking finding, scientist discovered \\\n",
        "a herd of unicorns living in a remote, previously unexplored \\\n",
        "valley, in the Andes Mountains. Even more surprising to the \\\n",
        "researchers was the fact that the unicorns spoke perfect English.\\n\\n\n",
        "\"\"\"\n",
        "input_ids = tokenizer(input_txt, return_tensors=\"pt\")[\"input_ids\"].to(device)"
      ]
    },
    {
      "cell_type": "code",
      "execution_count": 20,
      "metadata": {
        "id": "ZuX0I-ydcc_k"
      },
      "outputs": [],
      "source": [
        "import torch.nn.functional as F\n",
        "\n",
        "with torch.no_grad():\n",
        "    output = model(input_ids=input_ids)\n",
        "    next_token_logits = output.logits[:, -1, :]\n",
        "    probs = F.softmax(next_token_logits, dim=-1).detach().cpu().numpy()"
      ]
    },
    {
      "cell_type": "code",
      "execution_count": 21,
      "metadata": {
        "id": "gJh8vPmDcc_k",
        "outputId": "79cf127b-b43e-4502-a9af-2adb54218004",
        "colab": {
          "base_uri": "https://localhost:8080/",
          "height": 357
        }
      },
      "outputs": [
        {
          "output_type": "display_data",
          "data": {
            "text/plain": [
              "<Figure size 1000x350 with 2 Axes>"
            ],
            "image/svg+xml": "<?xml version=\"1.0\" encoding=\"utf-8\" standalone=\"no\"?>\n<!DOCTYPE svg PUBLIC \"-//W3C//DTD SVG 1.1//EN\"\n  \"http://www.w3.org/Graphics/SVG/1.1/DTD/svg11.dtd\">\n<svg xmlns:xlink=\"http://www.w3.org/1999/xlink\" width=\"706.840143pt\" height=\"236.41725pt\" viewBox=\"0 0 706.840143 236.41725\" xmlns=\"http://www.w3.org/2000/svg\" version=\"1.1\">\n <metadata>\n  <rdf:RDF xmlns:dc=\"http://purl.org/dc/elements/1.1/\" xmlns:cc=\"http://creativecommons.org/ns#\" xmlns:rdf=\"http://www.w3.org/1999/02/22-rdf-syntax-ns#\">\n   <cc:Work>\n    <dc:type rdf:resource=\"http://purl.org/dc/dcmitype/StillImage\"/>\n    <dc:date>2023-10-15T06:35:43.039797</dc:date>\n    <dc:format>image/svg+xml</dc:format>\n    <dc:creator>\n     <cc:Agent>\n      <dc:title>Matplotlib v3.7.1, https://matplotlib.org/</dc:title>\n     </cc:Agent>\n    </dc:creator>\n   </cc:Work>\n  </rdf:RDF>\n </metadata>\n <defs>\n  <style type=\"text/css\">*{stroke-linejoin: round; stroke-linecap: butt}</style>\n </defs>\n <g id=\"figure_1\">\n  <g id=\"patch_1\">\n   <path d=\"M -0 236.41725 \nL 706.840143 236.41725 \nL 706.840143 0 \nL -0 0 \nz\n\" style=\"fill: #ffffff\"/>\n  </g>\n  <g id=\"axes_1\">\n   <g id=\"patch_2\">\n    <path d=\"M 50.93375 194.98975 \nL 332.670648 194.98975 \nL 332.670648 24.14175 \nL 50.93375 24.14175 \nz\n\" style=\"fill: #ffffff\"/>\n   </g>\n   <g id=\"patch_3\">\n    <path d=\"M 63.739973 45924.328468 \nL 66.327088 45924.328468 \nL 66.327088 105.245126 \nL 63.739973 105.245126 \nz\n\" clip-path=\"url(#p41542a5b6c)\" style=\"fill: #0071bc; stroke: #0071bc; stroke-linejoin: miter\"/>\n   </g>\n   <g id=\"patch_4\">\n    <path d=\"M 66.327088 45924.328468 \nL 68.914204 45924.328468 \nL 68.914204 92.631099 \nL 66.327088 92.631099 \nz\n\" clip-path=\"url(#p41542a5b6c)\" style=\"fill: #0071bc; stroke: #0071bc; stroke-linejoin: miter\"/>\n   </g>\n   <g id=\"patch_5\">\n    <path d=\"M 68.914204 45924.328468 \nL 71.50132 45924.328468 \nL 71.50132 88.369218 \nL 68.914204 88.369218 \nz\n\" clip-path=\"url(#p41542a5b6c)\" style=\"fill: #0071bc; stroke: #0071bc; stroke-linejoin: miter\"/>\n   </g>\n   <g id=\"patch_6\">\n    <path d=\"M 71.50132 45924.328468 \nL 74.088435 45924.328468 \nL 74.088435 81.202427 \nL 71.50132 81.202427 \nz\n\" clip-path=\"url(#p41542a5b6c)\" style=\"fill: #0071bc; stroke: #0071bc; stroke-linejoin: miter\"/>\n   </g>\n   <g id=\"patch_7\">\n    <path d=\"M 74.088435 45924.328468 \nL 76.675551 45924.328468 \nL 76.675551 75.800906 \nL 74.088435 75.800906 \nz\n\" clip-path=\"url(#p41542a5b6c)\" style=\"fill: #0071bc; stroke: #0071bc; stroke-linejoin: miter\"/>\n   </g>\n   <g id=\"patch_8\">\n    <path d=\"M 76.675551 45924.328468 \nL 79.262667 45924.328468 \nL 79.262667 68.767136 \nL 76.675551 68.767136 \nz\n\" clip-path=\"url(#p41542a5b6c)\" style=\"fill: #0071bc; stroke: #0071bc; stroke-linejoin: miter\"/>\n   </g>\n   <g id=\"patch_9\">\n    <path d=\"M 79.262667 45924.328468 \nL 81.849782 45924.328468 \nL 81.849782 61.073926 \nL 79.262667 61.073926 \nz\n\" clip-path=\"url(#p41542a5b6c)\" style=\"fill: #0071bc; stroke: #0071bc; stroke-linejoin: miter\"/>\n   </g>\n   <g id=\"patch_10\">\n    <path d=\"M 81.849782 45924.328468 \nL 84.436898 45924.328468 \nL 84.436898 58.206055 \nL 81.849782 58.206055 \nz\n\" clip-path=\"url(#p41542a5b6c)\" style=\"fill: #0071bc; stroke: #0071bc; stroke-linejoin: miter\"/>\n   </g>\n   <g id=\"patch_11\">\n    <path d=\"M 84.436898 45924.328468 \nL 87.024014 45924.328468 \nL 87.024014 53.217437 \nL 84.436898 53.217437 \nz\n\" clip-path=\"url(#p41542a5b6c)\" style=\"fill: #0071bc; stroke: #0071bc; stroke-linejoin: miter\"/>\n   </g>\n   <g id=\"patch_12\">\n    <path d=\"M 87.024014 45924.328468 \nL 89.61113 45924.328468 \nL 89.61113 47.60255 \nL 87.024014 47.60255 \nz\n\" clip-path=\"url(#p41542a5b6c)\" style=\"fill: #0071bc; stroke: #0071bc; stroke-linejoin: miter\"/>\n   </g>\n   <g id=\"patch_13\">\n    <path d=\"M 89.61113 45924.328468 \nL 92.198245 45924.328468 \nL 92.198245 44.140007 \nL 89.61113 44.140007 \nz\n\" clip-path=\"url(#p41542a5b6c)\" style=\"fill: #0071bc; stroke: #0071bc; stroke-linejoin: miter\"/>\n   </g>\n   <g id=\"patch_14\">\n    <path d=\"M 92.198245 45924.328468 \nL 94.785361 45924.328468 \nL 94.785361 40.738931 \nL 92.198245 40.738931 \nz\n\" clip-path=\"url(#p41542a5b6c)\" style=\"fill: #0071bc; stroke: #0071bc; stroke-linejoin: miter\"/>\n   </g>\n   <g id=\"patch_15\">\n    <path d=\"M 94.785361 45924.328468 \nL 97.372477 45924.328468 \nL 97.372477 38.348231 \nL 94.785361 38.348231 \nz\n\" clip-path=\"url(#p41542a5b6c)\" style=\"fill: #0071bc; stroke: #0071bc; stroke-linejoin: miter\"/>\n   </g>\n   <g id=\"patch_16\">\n    <path d=\"M 97.372477 45924.328468 \nL 99.959592 45924.328468 \nL 99.959592 35.370054 \nL 97.372477 35.370054 \nz\n\" clip-path=\"url(#p41542a5b6c)\" style=\"fill: #0071bc; stroke: #0071bc; stroke-linejoin: miter\"/>\n   </g>\n   <g id=\"patch_17\">\n    <path d=\"M 99.959592 45924.328468 \nL 102.546708 45924.328468 \nL 102.546708 33.746535 \nL 99.959592 33.746535 \nz\n\" clip-path=\"url(#p41542a5b6c)\" style=\"fill: #0071bc; stroke: #0071bc; stroke-linejoin: miter\"/>\n   </g>\n   <g id=\"patch_18\">\n    <path d=\"M 102.546708 45924.328468 \nL 105.133824 45924.328468 \nL 105.133824 32.540265 \nL 102.546708 32.540265 \nz\n\" clip-path=\"url(#p41542a5b6c)\" style=\"fill: #0071bc; stroke: #0071bc; stroke-linejoin: miter\"/>\n   </g>\n   <g id=\"patch_19\">\n    <path d=\"M 105.133824 45924.328468 \nL 107.720939 45924.328468 \nL 107.720939 31.907568 \nL 105.133824 31.907568 \nz\n\" clip-path=\"url(#p41542a5b6c)\" style=\"fill: #0071bc; stroke: #0071bc; stroke-linejoin: miter\"/>\n   </g>\n   <g id=\"patch_20\">\n    <path d=\"M 107.720939 45924.328468 \nL 110.308055 45924.328468 \nL 110.308055 33.134244 \nL 107.720939 33.134244 \nz\n\" clip-path=\"url(#p41542a5b6c)\" style=\"fill: #0071bc; stroke: #0071bc; stroke-linejoin: miter\"/>\n   </g>\n   <g id=\"patch_21\">\n    <path d=\"M 110.308055 45924.328468 \nL 112.895171 45924.328468 \nL 112.895171 32.38428 \nL 110.308055 32.38428 \nz\n\" clip-path=\"url(#p41542a5b6c)\" style=\"fill: #0071bc; stroke: #0071bc; stroke-linejoin: miter\"/>\n   </g>\n   <g id=\"patch_22\">\n    <path d=\"M 112.895171 45924.328468 \nL 115.482286 45924.328468 \nL 115.482286 33.032598 \nL 112.895171 33.032598 \nz\n\" clip-path=\"url(#p41542a5b6c)\" style=\"fill: #0071bc; stroke: #0071bc; stroke-linejoin: miter\"/>\n   </g>\n   <g id=\"patch_23\">\n    <path d=\"M 115.482286 45924.328468 \nL 118.069402 45924.328468 \nL 118.069402 34.414499 \nL 115.482286 34.414499 \nz\n\" clip-path=\"url(#p41542a5b6c)\" style=\"fill: #0071bc; stroke: #0071bc; stroke-linejoin: miter\"/>\n   </g>\n   <g id=\"patch_24\">\n    <path d=\"M 118.069402 45924.328468 \nL 120.656518 45924.328468 \nL 120.656518 35.256332 \nL 118.069402 35.256332 \nz\n\" clip-path=\"url(#p41542a5b6c)\" style=\"fill: #0071bc; stroke: #0071bc; stroke-linejoin: miter\"/>\n   </g>\n   <g id=\"patch_25\">\n    <path d=\"M 120.656518 45924.328468 \nL 123.243633 45924.328468 \nL 123.243633 36.962348 \nL 120.656518 36.962348 \nz\n\" clip-path=\"url(#p41542a5b6c)\" style=\"fill: #0071bc; stroke: #0071bc; stroke-linejoin: miter\"/>\n   </g>\n   <g id=\"patch_26\">\n    <path d=\"M 123.243633 45924.328468 \nL 125.830749 45924.328468 \nL 125.830749 39.495934 \nL 123.243633 39.495934 \nz\n\" clip-path=\"url(#p41542a5b6c)\" style=\"fill: #0071bc; stroke: #0071bc; stroke-linejoin: miter\"/>\n   </g>\n   <g id=\"patch_27\">\n    <path d=\"M 125.830749 45924.328468 \nL 128.417865 45924.328468 \nL 128.417865 43.00547 \nL 125.830749 43.00547 \nz\n\" clip-path=\"url(#p41542a5b6c)\" style=\"fill: #0071bc; stroke: #0071bc; stroke-linejoin: miter\"/>\n   </g>\n   <g id=\"patch_28\">\n    <path d=\"M 128.417865 45924.328468 \nL 131.004981 45924.328468 \nL 131.004981 44.437815 \nL 128.417865 44.437815 \nz\n\" clip-path=\"url(#p41542a5b6c)\" style=\"fill: #0071bc; stroke: #0071bc; stroke-linejoin: miter\"/>\n   </g>\n   <g id=\"patch_29\">\n    <path d=\"M 131.004981 45924.328468 \nL 133.592096 45924.328468 \nL 133.592096 46.540634 \nL 131.004981 46.540634 \nz\n\" clip-path=\"url(#p41542a5b6c)\" style=\"fill: #0071bc; stroke: #0071bc; stroke-linejoin: miter\"/>\n   </g>\n   <g id=\"patch_30\">\n    <path d=\"M 133.592096 45924.328468 \nL 136.179212 45924.328468 \nL 136.179212 48.483912 \nL 133.592096 48.483912 \nz\n\" clip-path=\"url(#p41542a5b6c)\" style=\"fill: #0071bc; stroke: #0071bc; stroke-linejoin: miter\"/>\n   </g>\n   <g id=\"patch_31\">\n    <path d=\"M 136.179212 45924.328468 \nL 138.766328 45924.328468 \nL 138.766328 51.86413 \nL 136.179212 51.86413 \nz\n\" clip-path=\"url(#p41542a5b6c)\" style=\"fill: #0071bc; stroke: #0071bc; stroke-linejoin: miter\"/>\n   </g>\n   <g id=\"patch_32\">\n    <path d=\"M 138.766328 45924.328468 \nL 141.353443 45924.328468 \nL 141.353443 53.101073 \nL 138.766328 53.101073 \nz\n\" clip-path=\"url(#p41542a5b6c)\" style=\"fill: #0071bc; stroke: #0071bc; stroke-linejoin: miter\"/>\n   </g>\n   <g id=\"patch_33\">\n    <path d=\"M 141.353443 45924.328468 \nL 143.940559 45924.328468 \nL 143.940559 56.074272 \nL 141.353443 56.074272 \nz\n\" clip-path=\"url(#p41542a5b6c)\" style=\"fill: #0071bc; stroke: #0071bc; stroke-linejoin: miter\"/>\n   </g>\n   <g id=\"patch_34\">\n    <path d=\"M 143.940559 45924.328468 \nL 146.527675 45924.328468 \nL 146.527675 58.508395 \nL 143.940559 58.508395 \nz\n\" clip-path=\"url(#p41542a5b6c)\" style=\"fill: #0071bc; stroke: #0071bc; stroke-linejoin: miter\"/>\n   </g>\n   <g id=\"patch_35\">\n    <path d=\"M 146.527675 45924.328468 \nL 149.11479 45924.328468 \nL 149.11479 61.248014 \nL 146.527675 61.248014 \nz\n\" clip-path=\"url(#p41542a5b6c)\" style=\"fill: #0071bc; stroke: #0071bc; stroke-linejoin: miter\"/>\n   </g>\n   <g id=\"patch_36\">\n    <path d=\"M 149.11479 45924.328468 \nL 151.701906 45924.328468 \nL 151.701906 63.900398 \nL 149.11479 63.900398 \nz\n\" clip-path=\"url(#p41542a5b6c)\" style=\"fill: #0071bc; stroke: #0071bc; stroke-linejoin: miter\"/>\n   </g>\n   <g id=\"patch_37\">\n    <path d=\"M 151.701906 45924.328468 \nL 154.289022 45924.328468 \nL 154.289022 65.697891 \nL 151.701906 65.697891 \nz\n\" clip-path=\"url(#p41542a5b6c)\" style=\"fill: #0071bc; stroke: #0071bc; stroke-linejoin: miter\"/>\n   </g>\n   <g id=\"patch_38\">\n    <path d=\"M 154.289022 45924.328468 \nL 156.876137 45924.328468 \nL 156.876137 67.481992 \nL 154.289022 67.481992 \nz\n\" clip-path=\"url(#p41542a5b6c)\" style=\"fill: #0071bc; stroke: #0071bc; stroke-linejoin: miter\"/>\n   </g>\n   <g id=\"patch_39\">\n    <path d=\"M 156.876137 45924.328468 \nL 159.463253 45924.328468 \nL 159.463253 69.075899 \nL 156.876137 69.075899 \nz\n\" clip-path=\"url(#p41542a5b6c)\" style=\"fill: #0071bc; stroke: #0071bc; stroke-linejoin: miter\"/>\n   </g>\n   <g id=\"patch_40\">\n    <path d=\"M 159.463253 45924.328468 \nL 162.050369 45924.328468 \nL 162.050369 71.914376 \nL 159.463253 71.914376 \nz\n\" clip-path=\"url(#p41542a5b6c)\" style=\"fill: #0071bc; stroke: #0071bc; stroke-linejoin: miter\"/>\n   </g>\n   <g id=\"patch_41\">\n    <path d=\"M 162.050369 45924.328468 \nL 164.637484 45924.328468 \nL 164.637484 75.369077 \nL 162.050369 75.369077 \nz\n\" clip-path=\"url(#p41542a5b6c)\" style=\"fill: #0071bc; stroke: #0071bc; stroke-linejoin: miter\"/>\n   </g>\n   <g id=\"patch_42\">\n    <path d=\"M 164.637484 45924.328468 \nL 167.2246 45924.328468 \nL 167.2246 76.020393 \nL 164.637484 76.020393 \nz\n\" clip-path=\"url(#p41542a5b6c)\" style=\"fill: #0071bc; stroke: #0071bc; stroke-linejoin: miter\"/>\n   </g>\n   <g id=\"patch_43\">\n    <path d=\"M 167.2246 45924.328468 \nL 169.811716 45924.328468 \nL 169.811716 76.846588 \nL 167.2246 76.846588 \nz\n\" clip-path=\"url(#p41542a5b6c)\" style=\"fill: #0071bc; stroke: #0071bc; stroke-linejoin: miter\"/>\n   </g>\n   <g id=\"patch_44\">\n    <path d=\"M 169.811716 45924.328468 \nL 172.398832 45924.328468 \nL 172.398832 78.442898 \nL 169.811716 78.442898 \nz\n\" clip-path=\"url(#p41542a5b6c)\" style=\"fill: #0071bc; stroke: #0071bc; stroke-linejoin: miter\"/>\n   </g>\n   <g id=\"patch_45\">\n    <path d=\"M 172.398832 45924.328468 \nL 174.985947 45924.328468 \nL 174.985947 80.917982 \nL 172.398832 80.917982 \nz\n\" clip-path=\"url(#p41542a5b6c)\" style=\"fill: #0071bc; stroke: #0071bc; stroke-linejoin: miter\"/>\n   </g>\n   <g id=\"patch_46\">\n    <path d=\"M 174.985947 45924.328468 \nL 177.573063 45924.328468 \nL 177.573063 82.484379 \nL 174.985947 82.484379 \nz\n\" clip-path=\"url(#p41542a5b6c)\" style=\"fill: #0071bc; stroke: #0071bc; stroke-linejoin: miter\"/>\n   </g>\n   <g id=\"patch_47\">\n    <path d=\"M 177.573063 45924.328468 \nL 180.160179 45924.328468 \nL 180.160179 80.917982 \nL 177.573063 80.917982 \nz\n\" clip-path=\"url(#p41542a5b6c)\" style=\"fill: #0071bc; stroke: #0071bc; stroke-linejoin: miter\"/>\n   </g>\n   <g id=\"patch_48\">\n    <path d=\"M 180.160179 45924.328468 \nL 182.747294 45924.328468 \nL 182.747294 84.520684 \nL 180.160179 84.520684 \nz\n\" clip-path=\"url(#p41542a5b6c)\" style=\"fill: #0071bc; stroke: #0071bc; stroke-linejoin: miter\"/>\n   </g>\n   <g id=\"patch_49\">\n    <path d=\"M 182.747294 45924.328468 \nL 185.33441 45924.328468 \nL 185.33441 82.689158 \nL 182.747294 82.689158 \nz\n\" clip-path=\"url(#p41542a5b6c)\" style=\"fill: #0071bc; stroke: #0071bc; stroke-linejoin: miter\"/>\n   </g>\n   <g id=\"patch_50\">\n    <path d=\"M 185.33441 45924.328468 \nL 187.921526 45924.328468 \nL 187.921526 82.484379 \nL 185.33441 82.484379 \nz\n\" clip-path=\"url(#p41542a5b6c)\" style=\"fill: #0071bc; stroke: #0071bc; stroke-linejoin: miter\"/>\n   </g>\n   <g id=\"patch_51\">\n    <path d=\"M 187.921526 45924.328468 \nL 190.508641 45924.328468 \nL 190.508641 84.977334 \nL 187.921526 84.977334 \nz\n\" clip-path=\"url(#p41542a5b6c)\" style=\"fill: #0071bc; stroke: #0071bc; stroke-linejoin: miter\"/>\n   </g>\n   <g id=\"patch_52\">\n    <path d=\"M 190.508641 45924.328468 \nL 193.095757 45924.328468 \nL 193.095757 83.637722 \nL 190.508641 83.637722 \nz\n\" clip-path=\"url(#p41542a5b6c)\" style=\"fill: #0071bc; stroke: #0071bc; stroke-linejoin: miter\"/>\n   </g>\n   <g id=\"patch_53\">\n    <path d=\"M 193.095757 45924.328468 \nL 195.682873 45924.328468 \nL 195.682873 83.637722 \nL 193.095757 83.637722 \nz\n\" clip-path=\"url(#p41542a5b6c)\" style=\"fill: #0071bc; stroke: #0071bc; stroke-linejoin: miter\"/>\n   </g>\n   <g id=\"patch_54\">\n    <path d=\"M 195.682873 45924.328468 \nL 198.269988 45924.328468 \nL 198.269988 84.296237 \nL 195.682873 84.296237 \nz\n\" clip-path=\"url(#p41542a5b6c)\" style=\"fill: #0071bc; stroke: #0071bc; stroke-linejoin: miter\"/>\n   </g>\n   <g id=\"patch_55\">\n    <path d=\"M 198.269988 45924.328468 \nL 200.857104 45924.328468 \nL 200.857104 86.167113 \nL 198.269988 86.167113 \nz\n\" clip-path=\"url(#p41542a5b6c)\" style=\"fill: #0071bc; stroke: #0071bc; stroke-linejoin: miter\"/>\n   </g>\n   <g id=\"patch_56\">\n    <path d=\"M 200.857104 45924.328468 \nL 203.44422 45924.328468 \nL 203.44422 82.484379 \nL 200.857104 82.484379 \nz\n\" clip-path=\"url(#p41542a5b6c)\" style=\"fill: #0071bc; stroke: #0071bc; stroke-linejoin: miter\"/>\n   </g>\n   <g id=\"patch_57\">\n    <path d=\"M 203.44422 45924.328468 \nL 206.031335 45924.328468 \nL 206.031335 85.563316 \nL 203.44422 85.563316 \nz\n\" clip-path=\"url(#p41542a5b6c)\" style=\"fill: #0071bc; stroke: #0071bc; stroke-linejoin: miter\"/>\n   </g>\n   <g id=\"patch_58\">\n    <path d=\"M 206.031335 45924.328468 \nL 208.618451 45924.328468 \nL 208.618451 82.28169 \nL 206.031335 82.28169 \nz\n\" clip-path=\"url(#p41542a5b6c)\" style=\"fill: #0071bc; stroke: #0071bc; stroke-linejoin: miter\"/>\n   </g>\n   <g id=\"patch_59\">\n    <path d=\"M 208.618451 45924.328468 \nL 211.205567 45924.328468 \nL 211.205567 83.316475 \nL 208.618451 83.316475 \nz\n\" clip-path=\"url(#p41542a5b6c)\" style=\"fill: #0071bc; stroke: #0071bc; stroke-linejoin: miter\"/>\n   </g>\n   <g id=\"patch_60\">\n    <path d=\"M 211.205567 45924.328468 \nL 213.792683 45924.328468 \nL 213.792683 85.682616 \nL 211.205567 85.682616 \nz\n\" clip-path=\"url(#p41542a5b6c)\" style=\"fill: #0071bc; stroke: #0071bc; stroke-linejoin: miter\"/>\n   </g>\n   <g id=\"patch_61\">\n    <path d=\"M 213.792683 45924.328468 \nL 216.379798 45924.328468 \nL 216.379798 84.074297 \nL 213.792683 84.074297 \nz\n\" clip-path=\"url(#p41542a5b6c)\" style=\"fill: #0071bc; stroke: #0071bc; stroke-linejoin: miter\"/>\n   </g>\n   <g id=\"patch_62\">\n    <path d=\"M 216.379798 45924.328468 \nL 218.966914 45924.328468 \nL 218.966914 87.432724 \nL 216.379798 87.432724 \nz\n\" clip-path=\"url(#p41542a5b6c)\" style=\"fill: #0071bc; stroke: #0071bc; stroke-linejoin: miter\"/>\n   </g>\n   <g id=\"patch_63\">\n    <path d=\"M 218.966914 45924.328468 \nL 221.55403 45924.328468 \nL 221.55403 86.167113 \nL 218.966914 86.167113 \nz\n\" clip-path=\"url(#p41542a5b6c)\" style=\"fill: #0071bc; stroke: #0071bc; stroke-linejoin: miter\"/>\n   </g>\n   <g id=\"patch_64\">\n    <path d=\"M 221.55403 45924.328468 \nL 224.141145 45924.328468 \nL 224.141145 89.352058 \nL 221.55403 89.352058 \nz\n\" clip-path=\"url(#p41542a5b6c)\" style=\"fill: #0071bc; stroke: #0071bc; stroke-linejoin: miter\"/>\n   </g>\n   <g id=\"patch_65\">\n    <path d=\"M 224.141145 45924.328468 \nL 226.728261 45924.328468 \nL 226.728261 89.788634 \nL 224.141145 89.788634 \nz\n\" clip-path=\"url(#p41542a5b6c)\" style=\"fill: #0071bc; stroke: #0071bc; stroke-linejoin: miter\"/>\n   </g>\n   <g id=\"patch_66\">\n    <path d=\"M 226.728261 45924.328468 \nL 229.315377 45924.328468 \nL 229.315377 89.64204 \nL 226.728261 89.64204 \nz\n\" clip-path=\"url(#p41542a5b6c)\" style=\"fill: #0071bc; stroke: #0071bc; stroke-linejoin: miter\"/>\n   </g>\n   <g id=\"patch_67\">\n    <path d=\"M 229.315377 45924.328468 \nL 231.902492 45924.328468 \nL 231.902492 93.14706 \nL 229.315377 93.14706 \nz\n\" clip-path=\"url(#p41542a5b6c)\" style=\"fill: #0071bc; stroke: #0071bc; stroke-linejoin: miter\"/>\n   </g>\n   <g id=\"patch_68\">\n    <path d=\"M 231.902492 45924.328468 \nL 234.489608 45924.328468 \nL 234.489608 93.14706 \nL 231.902492 93.14706 \nz\n\" clip-path=\"url(#p41542a5b6c)\" style=\"fill: #0071bc; stroke: #0071bc; stroke-linejoin: miter\"/>\n   </g>\n   <g id=\"patch_69\">\n    <path d=\"M 234.489608 45924.328468 \nL 237.076724 45924.328468 \nL 237.076724 101.730685 \nL 234.489608 101.730685 \nz\n\" clip-path=\"url(#p41542a5b6c)\" style=\"fill: #0071bc; stroke: #0071bc; stroke-linejoin: miter\"/>\n   </g>\n   <g id=\"patch_70\">\n    <path d=\"M 237.076724 45924.328468 \nL 239.663839 45924.328468 \nL 239.663839 99.212969 \nL 237.076724 99.212969 \nz\n\" clip-path=\"url(#p41542a5b6c)\" style=\"fill: #0071bc; stroke: #0071bc; stroke-linejoin: miter\"/>\n   </g>\n   <g id=\"patch_71\">\n    <path d=\"M 239.663839 45924.328468 \nL 242.250955 45924.328468 \nL 242.250955 107.624782 \nL 239.663839 107.624782 \nz\n\" clip-path=\"url(#p41542a5b6c)\" style=\"fill: #0071bc; stroke: #0071bc; stroke-linejoin: miter\"/>\n   </g>\n   <g id=\"patch_72\">\n    <path d=\"M 242.250955 45924.328468 \nL 244.838071 45924.328468 \nL 244.838071 106.230288 \nL 242.250955 106.230288 \nz\n\" clip-path=\"url(#p41542a5b6c)\" style=\"fill: #0071bc; stroke: #0071bc; stroke-linejoin: miter\"/>\n   </g>\n   <g id=\"patch_73\">\n    <path d=\"M 244.838071 45924.328468 \nL 247.425186 45924.328468 \nL 247.425186 108.360546 \nL 244.838071 108.360546 \nz\n\" clip-path=\"url(#p41542a5b6c)\" style=\"fill: #0071bc; stroke: #0071bc; stroke-linejoin: miter\"/>\n   </g>\n   <g id=\"patch_74\">\n    <path d=\"M 247.425186 45924.328468 \nL 250.012302 45924.328468 \nL 250.012302 109.517963 \nL 247.425186 109.517963 \nz\n\" clip-path=\"url(#p41542a5b6c)\" style=\"fill: #0071bc; stroke: #0071bc; stroke-linejoin: miter\"/>\n   </g>\n   <g id=\"patch_75\">\n    <path d=\"M 250.012302 45924.328468 \nL 252.599418 45924.328468 \nL 252.599418 113.459868 \nL 250.012302 113.459868 \nz\n\" clip-path=\"url(#p41542a5b6c)\" style=\"fill: #0071bc; stroke: #0071bc; stroke-linejoin: miter\"/>\n   </g>\n   <g id=\"patch_76\">\n    <path d=\"M 252.599418 45924.328468 \nL 255.186534 45924.328468 \nL 255.186534 120.338082 \nL 252.599418 120.338082 \nz\n\" clip-path=\"url(#p41542a5b6c)\" style=\"fill: #0071bc; stroke: #0071bc; stroke-linejoin: miter\"/>\n   </g>\n   <g id=\"patch_77\">\n    <path d=\"M 255.186534 45924.328468 \nL 257.773649 45924.328468 \nL 257.773649 122.507148 \nL 255.186534 122.507148 \nz\n\" clip-path=\"url(#p41542a5b6c)\" style=\"fill: #0071bc; stroke: #0071bc; stroke-linejoin: miter\"/>\n   </g>\n   <g id=\"patch_78\">\n    <path d=\"M 257.773649 45924.328468 \nL 260.360765 45924.328468 \nL 260.360765 117.771501 \nL 257.773649 117.771501 \nz\n\" clip-path=\"url(#p41542a5b6c)\" style=\"fill: #0071bc; stroke: #0071bc; stroke-linejoin: miter\"/>\n   </g>\n   <g id=\"patch_79\">\n    <path d=\"M 260.360765 45924.328468 \nL 262.947881 45924.328468 \nL 262.947881 139.593646 \nL 260.360765 139.593646 \nz\n\" clip-path=\"url(#p41542a5b6c)\" style=\"fill: #0071bc; stroke: #0071bc; stroke-linejoin: miter\"/>\n   </g>\n   <g id=\"patch_80\">\n    <path d=\"M 262.947881 45924.328468 \nL 265.534996 45924.328468 \nL 265.534996 136.275388 \nL 262.947881 136.275388 \nz\n\" clip-path=\"url(#p41542a5b6c)\" style=\"fill: #0071bc; stroke: #0071bc; stroke-linejoin: miter\"/>\n   </g>\n   <g id=\"patch_81\">\n    <path d=\"M 265.534996 45924.328468 \nL 268.122112 45924.328468 \nL 268.122112 141.486827 \nL 265.534996 141.486827 \nz\n\" clip-path=\"url(#p41542a5b6c)\" style=\"fill: #0071bc; stroke: #0071bc; stroke-linejoin: miter\"/>\n   </g>\n   <g id=\"patch_82\">\n    <path d=\"M 268.122112 45924.328468 \nL 270.709228 45924.328468 \nL 270.709228 133.432923 \nL 268.122112 133.432923 \nz\n\" clip-path=\"url(#p41542a5b6c)\" style=\"fill: #0071bc; stroke: #0071bc; stroke-linejoin: miter\"/>\n   </g>\n   <g id=\"patch_83\">\n    <path d=\"M 270.709228 45924.328468 \nL 273.296343 45924.328468 \nL 273.296343 141.486827 \nL 270.709228 141.486827 \nz\n\" clip-path=\"url(#p41542a5b6c)\" style=\"fill: #0071bc; stroke: #0071bc; stroke-linejoin: miter\"/>\n   </g>\n   <g id=\"patch_84\">\n    <path d=\"M 273.296343 45924.328468 \nL 275.883459 45924.328468 \nL 275.883459 139.593646 \nL 273.296343 139.593646 \nz\n\" clip-path=\"url(#p41542a5b6c)\" style=\"fill: #0071bc; stroke: #0071bc; stroke-linejoin: miter\"/>\n   </g>\n   <g id=\"patch_85\">\n    <path d=\"M 275.883459 45924.328468 \nL 278.470575 45924.328468 \nL 278.470575 148.571594 \nL 275.883459 148.571594 \nz\n\" clip-path=\"url(#p41542a5b6c)\" style=\"fill: #0071bc; stroke: #0071bc; stroke-linejoin: miter\"/>\n   </g>\n   <g id=\"patch_86\">\n    <path d=\"M 278.470575 45924.328468 \nL 281.05769 45924.328468 \nL 281.05769 143.579642 \nL 278.470575 143.579642 \nz\n\" clip-path=\"url(#p41542a5b6c)\" style=\"fill: #0071bc; stroke: #0071bc; stroke-linejoin: miter\"/>\n   </g>\n   <g id=\"patch_87\">\n    <path d=\"M 281.05769 45924.328468 \nL 283.644806 45924.328468 \nL 283.644806 155.255068 \nL 281.05769 155.255068 \nz\n\" clip-path=\"url(#p41542a5b6c)\" style=\"fill: #0071bc; stroke: #0071bc; stroke-linejoin: miter\"/>\n   </g>\n   <g id=\"patch_88\">\n    <path d=\"M 283.644806 45924.328468 \nL 286.231922 45924.328468 \nL 286.231922 159.687451 \nL 283.644806 159.687451 \nz\n\" clip-path=\"url(#p41542a5b6c)\" style=\"fill: #0071bc; stroke: #0071bc; stroke-linejoin: miter\"/>\n   </g>\n   <g id=\"patch_89\">\n    <path d=\"M 286.231922 45924.328468 \nL 288.819037 45924.328468 \nL 288.819037 165.401787 \nL 286.231922 165.401787 \nz\n\" clip-path=\"url(#p41542a5b6c)\" style=\"fill: #0071bc; stroke: #0071bc; stroke-linejoin: miter\"/>\n   </g>\n   <g id=\"patch_90\">\n    <path d=\"M 288.819037 45924.328468 \nL 291.406153 45924.328468 \nL 291.406153 165.401787 \nL 288.819037 165.401787 \nz\n\" clip-path=\"url(#p41542a5b6c)\" style=\"fill: #0071bc; stroke: #0071bc; stroke-linejoin: miter\"/>\n   </g>\n   <g id=\"patch_91\">\n    <path d=\"M 291.406153 45924.328468 \nL 293.993269 45924.328468 \nL 293.993269 187.223932 \nL 291.406153 187.223932 \nz\n\" clip-path=\"url(#p41542a5b6c)\" style=\"fill: #0071bc; stroke: #0071bc; stroke-linejoin: miter\"/>\n   </g>\n   <g id=\"patch_92\">\n    <path d=\"M 293.993269 45924.328468 \nL 296.580385 45924.328468 \nL 296.580385 187.223932 \nL 293.993269 187.223932 \nz\n\" clip-path=\"url(#p41542a5b6c)\" style=\"fill: #0071bc; stroke: #0071bc; stroke-linejoin: miter\"/>\n   </g>\n   <g id=\"patch_93\">\n    <path d=\"M 296.580385 45924.328468 \nL 299.1675 45924.328468 \nL 299.1675 173.455691 \nL 296.580385 173.455691 \nz\n\" clip-path=\"url(#p41542a5b6c)\" style=\"fill: #0071bc; stroke: #0071bc; stroke-linejoin: miter\"/>\n   </g>\n   <g id=\"patch_94\">\n    <path d=\"M 299.1675 45924.328468 \nL 301.754616 45924.328468 \nL 301.754616 173.455691 \nL 299.1675 173.455691 \nz\n\" clip-path=\"url(#p41542a5b6c)\" style=\"fill: #0071bc; stroke: #0071bc; stroke-linejoin: miter\"/>\n   </g>\n   <g id=\"patch_95\">\n    <path d=\"M 301.754616 45924.328468 \nL 304.341732 45924.328468 \nL 304.341732 187.223932 \nL 301.754616 187.223932 \nz\n\" clip-path=\"url(#p41542a5b6c)\" style=\"fill: #0071bc; stroke: #0071bc; stroke-linejoin: miter\"/>\n   </g>\n   <g id=\"patch_96\">\n    <path d=\"M 304.341732 45924.328468 \nL 306.928847 45924.328468 \nL 306.928847 45924.328468 \nL 304.341732 45924.328468 \nz\n\" clip-path=\"url(#p41542a5b6c)\" style=\"fill: #0071bc; stroke: #0071bc; stroke-linejoin: miter\"/>\n   </g>\n   <g id=\"patch_97\">\n    <path d=\"M 306.928847 45924.328468 \nL 309.515963 45924.328468 \nL 309.515963 187.223932 \nL 306.928847 187.223932 \nz\n\" clip-path=\"url(#p41542a5b6c)\" style=\"fill: #0071bc; stroke: #0071bc; stroke-linejoin: miter\"/>\n   </g>\n   <g id=\"patch_98\">\n    <path d=\"M 309.515963 45924.328468 \nL 312.103079 45924.328468 \nL 312.103079 45924.328468 \nL 309.515963 45924.328468 \nz\n\" clip-path=\"url(#p41542a5b6c)\" style=\"fill: #0071bc; stroke: #0071bc; stroke-linejoin: miter\"/>\n   </g>\n   <g id=\"patch_99\">\n    <path d=\"M 312.103079 45924.328468 \nL 314.690194 45924.328468 \nL 314.690194 45924.328468 \nL 312.103079 45924.328468 \nz\n\" clip-path=\"url(#p41542a5b6c)\" style=\"fill: #0071bc; stroke: #0071bc; stroke-linejoin: miter\"/>\n   </g>\n   <g id=\"patch_100\">\n    <path d=\"M 314.690194 45924.328468 \nL 317.27731 45924.328468 \nL 317.27731 187.223932 \nL 314.690194 187.223932 \nz\n\" clip-path=\"url(#p41542a5b6c)\" style=\"fill: #0071bc; stroke: #0071bc; stroke-linejoin: miter\"/>\n   </g>\n   <g id=\"patch_101\">\n    <path d=\"M 317.27731 45924.328468 \nL 319.864426 45924.328468 \nL 319.864426 45924.328468 \nL 317.27731 45924.328468 \nz\n\" clip-path=\"url(#p41542a5b6c)\" style=\"fill: #0071bc; stroke: #0071bc; stroke-linejoin: miter\"/>\n   </g>\n   <g id=\"matplotlib.axis_1\">\n    <g id=\"xtick_1\">\n     <g id=\"line2d_1\">\n      <defs>\n       <path id=\"m365ab15df9\" d=\"M 0 0 \nL 0 3.5 \n\" style=\"stroke: #000000; stroke-width: 0.8\"/>\n      </defs>\n      <g>\n       <use xlink:href=\"#m365ab15df9\" x=\"92.198245\" y=\"194.98975\" style=\"stroke: #000000; stroke-width: 0.8\"/>\n      </g>\n     </g>\n     <g id=\"text_1\">\n      <!-- $\\mathdefault{10^{-9}}$ -->\n      <g transform=\"translate(78.098245 211.107875) scale(0.12 -0.12)\">\n       <defs>\n        <path id=\"DejaVuSans-31\" d=\"M 794 531 \nL 1825 531 \nL 1825 4091 \nL 703 3866 \nL 703 4441 \nL 1819 4666 \nL 2450 4666 \nL 2450 531 \nL 3481 531 \nL 3481 0 \nL 794 0 \nL 794 531 \nz\n\" transform=\"scale(0.015625)\"/>\n        <path id=\"DejaVuSans-30\" d=\"M 2034 4250 \nQ 1547 4250 1301 3770 \nQ 1056 3291 1056 2328 \nQ 1056 1369 1301 889 \nQ 1547 409 2034 409 \nQ 2525 409 2770 889 \nQ 3016 1369 3016 2328 \nQ 3016 3291 2770 3770 \nQ 2525 4250 2034 4250 \nz\nM 2034 4750 \nQ 2819 4750 3233 4129 \nQ 3647 3509 3647 2328 \nQ 3647 1150 3233 529 \nQ 2819 -91 2034 -91 \nQ 1250 -91 836 529 \nQ 422 1150 422 2328 \nQ 422 3509 836 4129 \nQ 1250 4750 2034 4750 \nz\n\" transform=\"scale(0.015625)\"/>\n        <path id=\"DejaVuSans-2212\" d=\"M 678 2272 \nL 4684 2272 \nL 4684 1741 \nL 678 1741 \nL 678 2272 \nz\n\" transform=\"scale(0.015625)\"/>\n        <path id=\"DejaVuSans-39\" d=\"M 703 97 \nL 703 672 \nQ 941 559 1184 500 \nQ 1428 441 1663 441 \nQ 2288 441 2617 861 \nQ 2947 1281 2994 2138 \nQ 2813 1869 2534 1725 \nQ 2256 1581 1919 1581 \nQ 1219 1581 811 2004 \nQ 403 2428 403 3163 \nQ 403 3881 828 4315 \nQ 1253 4750 1959 4750 \nQ 2769 4750 3195 4129 \nQ 3622 3509 3622 2328 \nQ 3622 1225 3098 567 \nQ 2575 -91 1691 -91 \nQ 1453 -91 1209 -44 \nQ 966 3 703 97 \nz\nM 1959 2075 \nQ 2384 2075 2632 2365 \nQ 2881 2656 2881 3163 \nQ 2881 3666 2632 3958 \nQ 2384 4250 1959 4250 \nQ 1534 4250 1286 3958 \nQ 1038 3666 1038 3163 \nQ 1038 2656 1286 2365 \nQ 1534 2075 1959 2075 \nz\n\" transform=\"scale(0.015625)\"/>\n       </defs>\n       <use xlink:href=\"#DejaVuSans-31\" transform=\"translate(0 0.765625)\"/>\n       <use xlink:href=\"#DejaVuSans-30\" transform=\"translate(63.623047 0.765625)\"/>\n       <use xlink:href=\"#DejaVuSans-2212\" transform=\"translate(128.203125 39.046875) scale(0.7)\"/>\n       <use xlink:href=\"#DejaVuSans-39\" transform=\"translate(186.855469 39.046875) scale(0.7)\"/>\n      </g>\n     </g>\n    </g>\n    <g id=\"xtick_2\">\n     <g id=\"line2d_2\">\n      <g>\n       <use xlink:href=\"#m365ab15df9\" x=\"149.11479\" y=\"194.98975\" style=\"stroke: #000000; stroke-width: 0.8\"/>\n      </g>\n     </g>\n     <g id=\"text_2\">\n      <!-- $\\mathdefault{10^{-7}}$ -->\n      <g transform=\"translate(135.01479 211.107875) scale(0.12 -0.12)\">\n       <defs>\n        <path id=\"DejaVuSans-37\" d=\"M 525 4666 \nL 3525 4666 \nL 3525 4397 \nL 1831 0 \nL 1172 0 \nL 2766 4134 \nL 525 4134 \nL 525 4666 \nz\n\" transform=\"scale(0.015625)\"/>\n       </defs>\n       <use xlink:href=\"#DejaVuSans-31\" transform=\"translate(0 0.684375)\"/>\n       <use xlink:href=\"#DejaVuSans-30\" transform=\"translate(63.623047 0.684375)\"/>\n       <use xlink:href=\"#DejaVuSans-2212\" transform=\"translate(128.203125 38.965625) scale(0.7)\"/>\n       <use xlink:href=\"#DejaVuSans-37\" transform=\"translate(186.855469 38.965625) scale(0.7)\"/>\n      </g>\n     </g>\n    </g>\n    <g id=\"xtick_3\">\n     <g id=\"line2d_3\">\n      <g>\n       <use xlink:href=\"#m365ab15df9\" x=\"206.031335\" y=\"194.98975\" style=\"stroke: #000000; stroke-width: 0.8\"/>\n      </g>\n     </g>\n     <g id=\"text_3\">\n      <!-- $\\mathdefault{10^{-5}}$ -->\n      <g transform=\"translate(191.931335 211.107875) scale(0.12 -0.12)\">\n       <defs>\n        <path id=\"DejaVuSans-35\" d=\"M 691 4666 \nL 3169 4666 \nL 3169 4134 \nL 1269 4134 \nL 1269 2991 \nQ 1406 3038 1543 3061 \nQ 1681 3084 1819 3084 \nQ 2600 3084 3056 2656 \nQ 3513 2228 3513 1497 \nQ 3513 744 3044 326 \nQ 2575 -91 1722 -91 \nQ 1428 -91 1123 -41 \nQ 819 9 494 109 \nL 494 744 \nQ 775 591 1075 516 \nQ 1375 441 1709 441 \nQ 2250 441 2565 725 \nQ 2881 1009 2881 1497 \nQ 2881 1984 2565 2268 \nQ 2250 2553 1709 2553 \nQ 1456 2553 1204 2497 \nQ 953 2441 691 2322 \nL 691 4666 \nz\n\" transform=\"scale(0.015625)\"/>\n       </defs>\n       <use xlink:href=\"#DejaVuSans-31\" transform=\"translate(0 0.684375)\"/>\n       <use xlink:href=\"#DejaVuSans-30\" transform=\"translate(63.623047 0.684375)\"/>\n       <use xlink:href=\"#DejaVuSans-2212\" transform=\"translate(128.203125 38.965625) scale(0.7)\"/>\n       <use xlink:href=\"#DejaVuSans-35\" transform=\"translate(186.855469 38.965625) scale(0.7)\"/>\n      </g>\n     </g>\n    </g>\n    <g id=\"xtick_4\">\n     <g id=\"line2d_4\">\n      <g>\n       <use xlink:href=\"#m365ab15df9\" x=\"262.947881\" y=\"194.98975\" style=\"stroke: #000000; stroke-width: 0.8\"/>\n      </g>\n     </g>\n     <g id=\"text_4\">\n      <!-- $\\mathdefault{10^{-3}}$ -->\n      <g transform=\"translate(248.847881 211.107875) scale(0.12 -0.12)\">\n       <defs>\n        <path id=\"DejaVuSans-33\" d=\"M 2597 2516 \nQ 3050 2419 3304 2112 \nQ 3559 1806 3559 1356 \nQ 3559 666 3084 287 \nQ 2609 -91 1734 -91 \nQ 1441 -91 1130 -33 \nQ 819 25 488 141 \nL 488 750 \nQ 750 597 1062 519 \nQ 1375 441 1716 441 \nQ 2309 441 2620 675 \nQ 2931 909 2931 1356 \nQ 2931 1769 2642 2001 \nQ 2353 2234 1838 2234 \nL 1294 2234 \nL 1294 2753 \nL 1863 2753 \nQ 2328 2753 2575 2939 \nQ 2822 3125 2822 3475 \nQ 2822 3834 2567 4026 \nQ 2313 4219 1838 4219 \nQ 1578 4219 1281 4162 \nQ 984 4106 628 3988 \nL 628 4550 \nQ 988 4650 1302 4700 \nQ 1616 4750 1894 4750 \nQ 2613 4750 3031 4423 \nQ 3450 4097 3450 3541 \nQ 3450 3153 3228 2886 \nQ 3006 2619 2597 2516 \nz\n\" transform=\"scale(0.015625)\"/>\n       </defs>\n       <use xlink:href=\"#DejaVuSans-31\" transform=\"translate(0 0.765625)\"/>\n       <use xlink:href=\"#DejaVuSans-30\" transform=\"translate(63.623047 0.765625)\"/>\n       <use xlink:href=\"#DejaVuSans-2212\" transform=\"translate(128.203125 39.046875) scale(0.7)\"/>\n       <use xlink:href=\"#DejaVuSans-33\" transform=\"translate(186.855469 39.046875) scale(0.7)\"/>\n      </g>\n     </g>\n    </g>\n    <g id=\"xtick_5\">\n     <g id=\"line2d_5\">\n      <g>\n       <use xlink:href=\"#m365ab15df9\" x=\"319.864426\" y=\"194.98975\" style=\"stroke: #000000; stroke-width: 0.8\"/>\n      </g>\n     </g>\n     <g id=\"text_5\">\n      <!-- $\\mathdefault{10^{-1}}$ -->\n      <g transform=\"translate(305.764426 211.107875) scale(0.12 -0.12)\">\n       <use xlink:href=\"#DejaVuSans-31\" transform=\"translate(0 0.684375)\"/>\n       <use xlink:href=\"#DejaVuSans-30\" transform=\"translate(63.623047 0.684375)\"/>\n       <use xlink:href=\"#DejaVuSans-2212\" transform=\"translate(128.203125 38.965625) scale(0.7)\"/>\n       <use xlink:href=\"#DejaVuSans-31\" transform=\"translate(186.855469 38.965625) scale(0.7)\"/>\n      </g>\n     </g>\n    </g>\n    <g id=\"text_6\">\n     <!-- Probability -->\n     <g transform=\"translate(160.087512 226.721625) scale(0.12 -0.12)\">\n      <defs>\n       <path id=\"DejaVuSans-50\" d=\"M 1259 4147 \nL 1259 2394 \nL 2053 2394 \nQ 2494 2394 2734 2622 \nQ 2975 2850 2975 3272 \nQ 2975 3691 2734 3919 \nQ 2494 4147 2053 4147 \nL 1259 4147 \nz\nM 628 4666 \nL 2053 4666 \nQ 2838 4666 3239 4311 \nQ 3641 3956 3641 3272 \nQ 3641 2581 3239 2228 \nQ 2838 1875 2053 1875 \nL 1259 1875 \nL 1259 0 \nL 628 0 \nL 628 4666 \nz\n\" transform=\"scale(0.015625)\"/>\n       <path id=\"DejaVuSans-72\" d=\"M 2631 2963 \nQ 2534 3019 2420 3045 \nQ 2306 3072 2169 3072 \nQ 1681 3072 1420 2755 \nQ 1159 2438 1159 1844 \nL 1159 0 \nL 581 0 \nL 581 3500 \nL 1159 3500 \nL 1159 2956 \nQ 1341 3275 1631 3429 \nQ 1922 3584 2338 3584 \nQ 2397 3584 2469 3576 \nQ 2541 3569 2628 3553 \nL 2631 2963 \nz\n\" transform=\"scale(0.015625)\"/>\n       <path id=\"DejaVuSans-6f\" d=\"M 1959 3097 \nQ 1497 3097 1228 2736 \nQ 959 2375 959 1747 \nQ 959 1119 1226 758 \nQ 1494 397 1959 397 \nQ 2419 397 2687 759 \nQ 2956 1122 2956 1747 \nQ 2956 2369 2687 2733 \nQ 2419 3097 1959 3097 \nz\nM 1959 3584 \nQ 2709 3584 3137 3096 \nQ 3566 2609 3566 1747 \nQ 3566 888 3137 398 \nQ 2709 -91 1959 -91 \nQ 1206 -91 779 398 \nQ 353 888 353 1747 \nQ 353 2609 779 3096 \nQ 1206 3584 1959 3584 \nz\n\" transform=\"scale(0.015625)\"/>\n       <path id=\"DejaVuSans-62\" d=\"M 3116 1747 \nQ 3116 2381 2855 2742 \nQ 2594 3103 2138 3103 \nQ 1681 3103 1420 2742 \nQ 1159 2381 1159 1747 \nQ 1159 1113 1420 752 \nQ 1681 391 2138 391 \nQ 2594 391 2855 752 \nQ 3116 1113 3116 1747 \nz\nM 1159 2969 \nQ 1341 3281 1617 3432 \nQ 1894 3584 2278 3584 \nQ 2916 3584 3314 3078 \nQ 3713 2572 3713 1747 \nQ 3713 922 3314 415 \nQ 2916 -91 2278 -91 \nQ 1894 -91 1617 61 \nQ 1341 213 1159 525 \nL 1159 0 \nL 581 0 \nL 581 4863 \nL 1159 4863 \nL 1159 2969 \nz\n\" transform=\"scale(0.015625)\"/>\n       <path id=\"DejaVuSans-61\" d=\"M 2194 1759 \nQ 1497 1759 1228 1600 \nQ 959 1441 959 1056 \nQ 959 750 1161 570 \nQ 1363 391 1709 391 \nQ 2188 391 2477 730 \nQ 2766 1069 2766 1631 \nL 2766 1759 \nL 2194 1759 \nz\nM 3341 1997 \nL 3341 0 \nL 2766 0 \nL 2766 531 \nQ 2569 213 2275 61 \nQ 1981 -91 1556 -91 \nQ 1019 -91 701 211 \nQ 384 513 384 1019 \nQ 384 1609 779 1909 \nQ 1175 2209 1959 2209 \nL 2766 2209 \nL 2766 2266 \nQ 2766 2663 2505 2880 \nQ 2244 3097 1772 3097 \nQ 1472 3097 1187 3025 \nQ 903 2953 641 2809 \nL 641 3341 \nQ 956 3463 1253 3523 \nQ 1550 3584 1831 3584 \nQ 2591 3584 2966 3190 \nQ 3341 2797 3341 1997 \nz\n\" transform=\"scale(0.015625)\"/>\n       <path id=\"DejaVuSans-69\" d=\"M 603 3500 \nL 1178 3500 \nL 1178 0 \nL 603 0 \nL 603 3500 \nz\nM 603 4863 \nL 1178 4863 \nL 1178 4134 \nL 603 4134 \nL 603 4863 \nz\n\" transform=\"scale(0.015625)\"/>\n       <path id=\"DejaVuSans-6c\" d=\"M 603 4863 \nL 1178 4863 \nL 1178 0 \nL 603 0 \nL 603 4863 \nz\n\" transform=\"scale(0.015625)\"/>\n       <path id=\"DejaVuSans-74\" d=\"M 1172 4494 \nL 1172 3500 \nL 2356 3500 \nL 2356 3053 \nL 1172 3053 \nL 1172 1153 \nQ 1172 725 1289 603 \nQ 1406 481 1766 481 \nL 2356 481 \nL 2356 0 \nL 1766 0 \nQ 1100 0 847 248 \nQ 594 497 594 1153 \nL 594 3053 \nL 172 3053 \nL 172 3500 \nL 594 3500 \nL 594 4494 \nL 1172 4494 \nz\n\" transform=\"scale(0.015625)\"/>\n       <path id=\"DejaVuSans-79\" d=\"M 2059 -325 \nQ 1816 -950 1584 -1140 \nQ 1353 -1331 966 -1331 \nL 506 -1331 \nL 506 -850 \nL 844 -850 \nQ 1081 -850 1212 -737 \nQ 1344 -625 1503 -206 \nL 1606 56 \nL 191 3500 \nL 800 3500 \nL 1894 763 \nL 2988 3500 \nL 3597 3500 \nL 2059 -325 \nz\n\" transform=\"scale(0.015625)\"/>\n      </defs>\n      <use xlink:href=\"#DejaVuSans-50\"/>\n      <use xlink:href=\"#DejaVuSans-72\" x=\"58.552734\"/>\n      <use xlink:href=\"#DejaVuSans-6f\" x=\"97.416016\"/>\n      <use xlink:href=\"#DejaVuSans-62\" x=\"158.597656\"/>\n      <use xlink:href=\"#DejaVuSans-61\" x=\"222.074219\"/>\n      <use xlink:href=\"#DejaVuSans-62\" x=\"283.353516\"/>\n      <use xlink:href=\"#DejaVuSans-69\" x=\"346.830078\"/>\n      <use xlink:href=\"#DejaVuSans-6c\" x=\"374.613281\"/>\n      <use xlink:href=\"#DejaVuSans-69\" x=\"402.396484\"/>\n      <use xlink:href=\"#DejaVuSans-74\" x=\"430.179688\"/>\n      <use xlink:href=\"#DejaVuSans-79\" x=\"469.388672\"/>\n     </g>\n    </g>\n   </g>\n   <g id=\"matplotlib.axis_2\">\n    <g id=\"ytick_1\">\n     <g id=\"line2d_6\">\n      <defs>\n       <path id=\"m87e59a8ed6\" d=\"M 0 0 \nL -3.5 0 \n\" style=\"stroke: #000000; stroke-width: 0.8\"/>\n      </defs>\n      <g>\n       <use xlink:href=\"#m87e59a8ed6\" x=\"50.93375\" y=\"187.223932\" style=\"stroke: #000000; stroke-width: 0.8\"/>\n      </g>\n     </g>\n     <g id=\"text_7\">\n      <!-- $\\mathdefault{10^{0}}$ -->\n      <g transform=\"translate(22.81375 191.782994) scale(0.12 -0.12)\">\n       <use xlink:href=\"#DejaVuSans-31\" transform=\"translate(0 0.765625)\"/>\n       <use xlink:href=\"#DejaVuSans-30\" transform=\"translate(63.623047 0.765625)\"/>\n       <use xlink:href=\"#DejaVuSans-30\" transform=\"translate(128.203125 39.046875) scale(0.7)\"/>\n      </g>\n     </g>\n    </g>\n    <g id=\"ytick_2\">\n     <g id=\"line2d_7\">\n      <g>\n       <use xlink:href=\"#m87e59a8ed6\" x=\"50.93375\" y=\"141.486827\" style=\"stroke: #000000; stroke-width: 0.8\"/>\n      </g>\n     </g>\n     <g id=\"text_8\">\n      <!-- $\\mathdefault{10^{1}}$ -->\n      <g transform=\"translate(22.81375 146.04589) scale(0.12 -0.12)\">\n       <use xlink:href=\"#DejaVuSans-31\" transform=\"translate(0 0.684375)\"/>\n       <use xlink:href=\"#DejaVuSans-30\" transform=\"translate(63.623047 0.684375)\"/>\n       <use xlink:href=\"#DejaVuSans-31\" transform=\"translate(128.203125 38.965625) scale(0.7)\"/>\n      </g>\n     </g>\n    </g>\n    <g id=\"ytick_3\">\n     <g id=\"line2d_8\">\n      <g>\n       <use xlink:href=\"#m87e59a8ed6\" x=\"50.93375\" y=\"95.749723\" style=\"stroke: #000000; stroke-width: 0.8\"/>\n      </g>\n     </g>\n     <g id=\"text_9\">\n      <!-- $\\mathdefault{10^{2}}$ -->\n      <g transform=\"translate(22.81375 100.308785) scale(0.12 -0.12)\">\n       <defs>\n        <path id=\"DejaVuSans-32\" d=\"M 1228 531 \nL 3431 531 \nL 3431 0 \nL 469 0 \nL 469 531 \nQ 828 903 1448 1529 \nQ 2069 2156 2228 2338 \nQ 2531 2678 2651 2914 \nQ 2772 3150 2772 3378 \nQ 2772 3750 2511 3984 \nQ 2250 4219 1831 4219 \nQ 1534 4219 1204 4116 \nQ 875 4013 500 3803 \nL 500 4441 \nQ 881 4594 1212 4672 \nQ 1544 4750 1819 4750 \nQ 2544 4750 2975 4387 \nQ 3406 4025 3406 3419 \nQ 3406 3131 3298 2873 \nQ 3191 2616 2906 2266 \nQ 2828 2175 2409 1742 \nQ 1991 1309 1228 531 \nz\n\" transform=\"scale(0.015625)\"/>\n       </defs>\n       <use xlink:href=\"#DejaVuSans-31\" transform=\"translate(0 0.765625)\"/>\n       <use xlink:href=\"#DejaVuSans-30\" transform=\"translate(63.623047 0.765625)\"/>\n       <use xlink:href=\"#DejaVuSans-32\" transform=\"translate(128.203125 39.046875) scale(0.7)\"/>\n      </g>\n     </g>\n    </g>\n    <g id=\"ytick_4\">\n     <g id=\"line2d_9\">\n      <g>\n       <use xlink:href=\"#m87e59a8ed6\" x=\"50.93375\" y=\"50.012618\" style=\"stroke: #000000; stroke-width: 0.8\"/>\n      </g>\n     </g>\n     <g id=\"text_10\">\n      <!-- $\\mathdefault{10^{3}}$ -->\n      <g transform=\"translate(22.81375 54.571681) scale(0.12 -0.12)\">\n       <use xlink:href=\"#DejaVuSans-31\" transform=\"translate(0 0.765625)\"/>\n       <use xlink:href=\"#DejaVuSans-30\" transform=\"translate(63.623047 0.765625)\"/>\n       <use xlink:href=\"#DejaVuSans-33\" transform=\"translate(128.203125 39.046875) scale(0.7)\"/>\n      </g>\n     </g>\n    </g>\n    <g id=\"ytick_5\">\n     <g id=\"line2d_10\">\n      <defs>\n       <path id=\"mc482537ddc\" d=\"M 0 0 \nL -2 0 \n\" style=\"stroke: #000000; stroke-width: 0.6\"/>\n      </defs>\n      <g>\n       <use xlink:href=\"#mc482537ddc\" x=\"50.93375\" y=\"194.308699\" style=\"stroke: #000000; stroke-width: 0.6\"/>\n      </g>\n     </g>\n    </g>\n    <g id=\"ytick_6\">\n     <g id=\"line2d_11\">\n      <g>\n       <use xlink:href=\"#mc482537ddc\" x=\"50.93375\" y=\"191.656315\" style=\"stroke: #000000; stroke-width: 0.6\"/>\n      </g>\n     </g>\n    </g>\n    <g id=\"ytick_7\">\n     <g id=\"line2d_12\">\n      <g>\n       <use xlink:href=\"#mc482537ddc\" x=\"50.93375\" y=\"189.316747\" style=\"stroke: #000000; stroke-width: 0.6\"/>\n      </g>\n     </g>\n    </g>\n    <g id=\"ytick_8\">\n     <g id=\"line2d_13\">\n      <g>\n       <use xlink:href=\"#mc482537ddc\" x=\"50.93375\" y=\"173.455691\" style=\"stroke: #000000; stroke-width: 0.6\"/>\n      </g>\n     </g>\n    </g>\n    <g id=\"ytick_9\">\n     <g id=\"line2d_14\">\n      <g>\n       <use xlink:href=\"#mc482537ddc\" x=\"50.93375\" y=\"165.401787\" style=\"stroke: #000000; stroke-width: 0.6\"/>\n      </g>\n     </g>\n    </g>\n    <g id=\"ytick_10\">\n     <g id=\"line2d_15\">\n      <g>\n       <use xlink:href=\"#mc482537ddc\" x=\"50.93375\" y=\"159.687451\" style=\"stroke: #000000; stroke-width: 0.6\"/>\n      </g>\n     </g>\n    </g>\n    <g id=\"ytick_11\">\n     <g id=\"line2d_16\">\n      <g>\n       <use xlink:href=\"#mc482537ddc\" x=\"50.93375\" y=\"155.255068\" style=\"stroke: #000000; stroke-width: 0.6\"/>\n      </g>\n     </g>\n    </g>\n    <g id=\"ytick_12\">\n     <g id=\"line2d_17\">\n      <g>\n       <use xlink:href=\"#mc482537ddc\" x=\"50.93375\" y=\"151.633547\" style=\"stroke: #000000; stroke-width: 0.6\"/>\n      </g>\n     </g>\n    </g>\n    <g id=\"ytick_13\">\n     <g id=\"line2d_18\">\n      <g>\n       <use xlink:href=\"#mc482537ddc\" x=\"50.93375\" y=\"148.571594\" style=\"stroke: #000000; stroke-width: 0.6\"/>\n      </g>\n     </g>\n    </g>\n    <g id=\"ytick_14\">\n     <g id=\"line2d_19\">\n      <g>\n       <use xlink:href=\"#mc482537ddc\" x=\"50.93375\" y=\"145.919211\" style=\"stroke: #000000; stroke-width: 0.6\"/>\n      </g>\n     </g>\n    </g>\n    <g id=\"ytick_15\">\n     <g id=\"line2d_20\">\n      <g>\n       <use xlink:href=\"#mc482537ddc\" x=\"50.93375\" y=\"143.579642\" style=\"stroke: #000000; stroke-width: 0.6\"/>\n      </g>\n     </g>\n    </g>\n    <g id=\"ytick_16\">\n     <g id=\"line2d_21\">\n      <g>\n       <use xlink:href=\"#mc482537ddc\" x=\"50.93375\" y=\"127.718587\" style=\"stroke: #000000; stroke-width: 0.6\"/>\n      </g>\n     </g>\n    </g>\n    <g id=\"ytick_17\">\n     <g id=\"line2d_22\">\n      <g>\n       <use xlink:href=\"#mc482537ddc\" x=\"50.93375\" y=\"119.664683\" style=\"stroke: #000000; stroke-width: 0.6\"/>\n      </g>\n     </g>\n    </g>\n    <g id=\"ytick_18\">\n     <g id=\"line2d_23\">\n      <g>\n       <use xlink:href=\"#mc482537ddc\" x=\"50.93375\" y=\"113.950347\" style=\"stroke: #000000; stroke-width: 0.6\"/>\n      </g>\n     </g>\n    </g>\n    <g id=\"ytick_19\">\n     <g id=\"line2d_24\">\n      <g>\n       <use xlink:href=\"#mc482537ddc\" x=\"50.93375\" y=\"109.517963\" style=\"stroke: #000000; stroke-width: 0.6\"/>\n      </g>\n     </g>\n    </g>\n    <g id=\"ytick_20\">\n     <g id=\"line2d_25\">\n      <g>\n       <use xlink:href=\"#mc482537ddc\" x=\"50.93375\" y=\"105.896442\" style=\"stroke: #000000; stroke-width: 0.6\"/>\n      </g>\n     </g>\n    </g>\n    <g id=\"ytick_21\">\n     <g id=\"line2d_26\">\n      <g>\n       <use xlink:href=\"#mc482537ddc\" x=\"50.93375\" y=\"102.83449\" style=\"stroke: #000000; stroke-width: 0.6\"/>\n      </g>\n     </g>\n    </g>\n    <g id=\"ytick_22\">\n     <g id=\"line2d_27\">\n      <g>\n       <use xlink:href=\"#mc482537ddc\" x=\"50.93375\" y=\"100.182106\" style=\"stroke: #000000; stroke-width: 0.6\"/>\n      </g>\n     </g>\n    </g>\n    <g id=\"ytick_23\">\n     <g id=\"line2d_28\">\n      <g>\n       <use xlink:href=\"#mc482537ddc\" x=\"50.93375\" y=\"97.842538\" style=\"stroke: #000000; stroke-width: 0.6\"/>\n      </g>\n     </g>\n    </g>\n    <g id=\"ytick_24\">\n     <g id=\"line2d_29\">\n      <g>\n       <use xlink:href=\"#mc482537ddc\" x=\"50.93375\" y=\"81.981482\" style=\"stroke: #000000; stroke-width: 0.6\"/>\n      </g>\n     </g>\n    </g>\n    <g id=\"ytick_25\">\n     <g id=\"line2d_30\">\n      <g>\n       <use xlink:href=\"#mc482537ddc\" x=\"50.93375\" y=\"73.927578\" style=\"stroke: #000000; stroke-width: 0.6\"/>\n      </g>\n     </g>\n    </g>\n    <g id=\"ytick_26\">\n     <g id=\"line2d_31\">\n      <g>\n       <use xlink:href=\"#mc482537ddc\" x=\"50.93375\" y=\"68.213242\" style=\"stroke: #000000; stroke-width: 0.6\"/>\n      </g>\n     </g>\n    </g>\n    <g id=\"ytick_27\">\n     <g id=\"line2d_32\">\n      <g>\n       <use xlink:href=\"#mc482537ddc\" x=\"50.93375\" y=\"63.780859\" style=\"stroke: #000000; stroke-width: 0.6\"/>\n      </g>\n     </g>\n    </g>\n    <g id=\"ytick_28\">\n     <g id=\"line2d_33\">\n      <g>\n       <use xlink:href=\"#mc482537ddc\" x=\"50.93375\" y=\"60.159338\" style=\"stroke: #000000; stroke-width: 0.6\"/>\n      </g>\n     </g>\n    </g>\n    <g id=\"ytick_29\">\n     <g id=\"line2d_34\">\n      <g>\n       <use xlink:href=\"#mc482537ddc\" x=\"50.93375\" y=\"57.097385\" style=\"stroke: #000000; stroke-width: 0.6\"/>\n      </g>\n     </g>\n    </g>\n    <g id=\"ytick_30\">\n     <g id=\"line2d_35\">\n      <g>\n       <use xlink:href=\"#mc482537ddc\" x=\"50.93375\" y=\"54.445002\" style=\"stroke: #000000; stroke-width: 0.6\"/>\n      </g>\n     </g>\n    </g>\n    <g id=\"ytick_31\">\n     <g id=\"line2d_36\">\n      <g>\n       <use xlink:href=\"#mc482537ddc\" x=\"50.93375\" y=\"52.105433\" style=\"stroke: #000000; stroke-width: 0.6\"/>\n      </g>\n     </g>\n    </g>\n    <g id=\"ytick_32\">\n     <g id=\"line2d_37\">\n      <g>\n       <use xlink:href=\"#mc482537ddc\" x=\"50.93375\" y=\"36.244378\" style=\"stroke: #000000; stroke-width: 0.6\"/>\n      </g>\n     </g>\n    </g>\n    <g id=\"ytick_33\">\n     <g id=\"line2d_38\">\n      <g>\n       <use xlink:href=\"#mc482537ddc\" x=\"50.93375\" y=\"28.190474\" style=\"stroke: #000000; stroke-width: 0.6\"/>\n      </g>\n     </g>\n    </g>\n    <g id=\"text_11\">\n     <!-- Count -->\n     <g transform=\"translate(16.318125 127.383875) rotate(-90) scale(0.12 -0.12)\">\n      <defs>\n       <path id=\"DejaVuSans-43\" d=\"M 4122 4306 \nL 4122 3641 \nQ 3803 3938 3442 4084 \nQ 3081 4231 2675 4231 \nQ 1875 4231 1450 3742 \nQ 1025 3253 1025 2328 \nQ 1025 1406 1450 917 \nQ 1875 428 2675 428 \nQ 3081 428 3442 575 \nQ 3803 722 4122 1019 \nL 4122 359 \nQ 3791 134 3420 21 \nQ 3050 -91 2638 -91 \nQ 1578 -91 968 557 \nQ 359 1206 359 2328 \nQ 359 3453 968 4101 \nQ 1578 4750 2638 4750 \nQ 3056 4750 3426 4639 \nQ 3797 4528 4122 4306 \nz\n\" transform=\"scale(0.015625)\"/>\n       <path id=\"DejaVuSans-75\" d=\"M 544 1381 \nL 544 3500 \nL 1119 3500 \nL 1119 1403 \nQ 1119 906 1312 657 \nQ 1506 409 1894 409 \nQ 2359 409 2629 706 \nQ 2900 1003 2900 1516 \nL 2900 3500 \nL 3475 3500 \nL 3475 0 \nL 2900 0 \nL 2900 538 \nQ 2691 219 2414 64 \nQ 2138 -91 1772 -91 \nQ 1169 -91 856 284 \nQ 544 659 544 1381 \nz\nM 1991 3584 \nL 1991 3584 \nz\n\" transform=\"scale(0.015625)\"/>\n       <path id=\"DejaVuSans-6e\" d=\"M 3513 2113 \nL 3513 0 \nL 2938 0 \nL 2938 2094 \nQ 2938 2591 2744 2837 \nQ 2550 3084 2163 3084 \nQ 1697 3084 1428 2787 \nQ 1159 2491 1159 1978 \nL 1159 0 \nL 581 0 \nL 581 3500 \nL 1159 3500 \nL 1159 2956 \nQ 1366 3272 1645 3428 \nQ 1925 3584 2291 3584 \nQ 2894 3584 3203 3211 \nQ 3513 2838 3513 2113 \nz\n\" transform=\"scale(0.015625)\"/>\n      </defs>\n      <use xlink:href=\"#DejaVuSans-43\"/>\n      <use xlink:href=\"#DejaVuSans-6f\" x=\"69.824219\"/>\n      <use xlink:href=\"#DejaVuSans-75\" x=\"131.005859\"/>\n      <use xlink:href=\"#DejaVuSans-6e\" x=\"194.384766\"/>\n      <use xlink:href=\"#DejaVuSans-74\" x=\"257.763672\"/>\n     </g>\n    </g>\n   </g>\n   <g id=\"patch_102\">\n    <path d=\"M 50.93375 194.98975 \nL 50.93375 24.14175 \n\" style=\"fill: none; stroke: #000000; stroke-width: 0.8; stroke-linejoin: miter; stroke-linecap: square\"/>\n   </g>\n   <g id=\"patch_103\">\n    <path d=\"M 332.670648 194.98975 \nL 332.670648 24.14175 \n\" style=\"fill: none; stroke: #000000; stroke-width: 0.8; stroke-linejoin: miter; stroke-linecap: square\"/>\n   </g>\n   <g id=\"patch_104\">\n    <path d=\"M 50.93375 194.98975 \nL 332.670648 194.98975 \n\" style=\"fill: none; stroke: #000000; stroke-width: 0.8; stroke-linejoin: miter; stroke-linecap: square\"/>\n   </g>\n   <g id=\"patch_105\">\n    <path d=\"M 50.93375 24.14175 \nL 332.670648 24.14175 \n\" style=\"fill: none; stroke: #000000; stroke-width: 0.8; stroke-linejoin: miter; stroke-linecap: square\"/>\n   </g>\n   <g id=\"text_12\">\n    <!-- Probability distribution -->\n    <g transform=\"translate(110.426449 18.14175) scale(0.144 -0.144)\">\n     <defs>\n      <path id=\"DejaVuSans-20\" transform=\"scale(0.015625)\"/>\n      <path id=\"DejaVuSans-64\" d=\"M 2906 2969 \nL 2906 4863 \nL 3481 4863 \nL 3481 0 \nL 2906 0 \nL 2906 525 \nQ 2725 213 2448 61 \nQ 2172 -91 1784 -91 \nQ 1150 -91 751 415 \nQ 353 922 353 1747 \nQ 353 2572 751 3078 \nQ 1150 3584 1784 3584 \nQ 2172 3584 2448 3432 \nQ 2725 3281 2906 2969 \nz\nM 947 1747 \nQ 947 1113 1208 752 \nQ 1469 391 1925 391 \nQ 2381 391 2643 752 \nQ 2906 1113 2906 1747 \nQ 2906 2381 2643 2742 \nQ 2381 3103 1925 3103 \nQ 1469 3103 1208 2742 \nQ 947 2381 947 1747 \nz\n\" transform=\"scale(0.015625)\"/>\n      <path id=\"DejaVuSans-73\" d=\"M 2834 3397 \nL 2834 2853 \nQ 2591 2978 2328 3040 \nQ 2066 3103 1784 3103 \nQ 1356 3103 1142 2972 \nQ 928 2841 928 2578 \nQ 928 2378 1081 2264 \nQ 1234 2150 1697 2047 \nL 1894 2003 \nQ 2506 1872 2764 1633 \nQ 3022 1394 3022 966 \nQ 3022 478 2636 193 \nQ 2250 -91 1575 -91 \nQ 1294 -91 989 -36 \nQ 684 19 347 128 \nL 347 722 \nQ 666 556 975 473 \nQ 1284 391 1588 391 \nQ 1994 391 2212 530 \nQ 2431 669 2431 922 \nQ 2431 1156 2273 1281 \nQ 2116 1406 1581 1522 \nL 1381 1569 \nQ 847 1681 609 1914 \nQ 372 2147 372 2553 \nQ 372 3047 722 3315 \nQ 1072 3584 1716 3584 \nQ 2034 3584 2315 3537 \nQ 2597 3491 2834 3397 \nz\n\" transform=\"scale(0.015625)\"/>\n     </defs>\n     <use xlink:href=\"#DejaVuSans-50\"/>\n     <use xlink:href=\"#DejaVuSans-72\" x=\"58.552734\"/>\n     <use xlink:href=\"#DejaVuSans-6f\" x=\"97.416016\"/>\n     <use xlink:href=\"#DejaVuSans-62\" x=\"158.597656\"/>\n     <use xlink:href=\"#DejaVuSans-61\" x=\"222.074219\"/>\n     <use xlink:href=\"#DejaVuSans-62\" x=\"283.353516\"/>\n     <use xlink:href=\"#DejaVuSans-69\" x=\"346.830078\"/>\n     <use xlink:href=\"#DejaVuSans-6c\" x=\"374.613281\"/>\n     <use xlink:href=\"#DejaVuSans-69\" x=\"402.396484\"/>\n     <use xlink:href=\"#DejaVuSans-74\" x=\"430.179688\"/>\n     <use xlink:href=\"#DejaVuSans-79\" x=\"469.388672\"/>\n     <use xlink:href=\"#DejaVuSans-20\" x=\"528.568359\"/>\n     <use xlink:href=\"#DejaVuSans-64\" x=\"560.355469\"/>\n     <use xlink:href=\"#DejaVuSans-69\" x=\"623.832031\"/>\n     <use xlink:href=\"#DejaVuSans-73\" x=\"651.615234\"/>\n     <use xlink:href=\"#DejaVuSans-74\" x=\"703.714844\"/>\n     <use xlink:href=\"#DejaVuSans-72\" x=\"742.923828\"/>\n     <use xlink:href=\"#DejaVuSans-69\" x=\"784.037109\"/>\n     <use xlink:href=\"#DejaVuSans-62\" x=\"811.820312\"/>\n     <use xlink:href=\"#DejaVuSans-75\" x=\"875.296875\"/>\n     <use xlink:href=\"#DejaVuSans-74\" x=\"938.675781\"/>\n     <use xlink:href=\"#DejaVuSans-69\" x=\"977.884766\"/>\n     <use xlink:href=\"#DejaVuSans-6f\" x=\"1005.667969\"/>\n     <use xlink:href=\"#DejaVuSans-6e\" x=\"1066.849609\"/>\n    </g>\n   </g>\n  </g>\n  <g id=\"axes_2\">\n   <g id=\"patch_106\">\n    <path d=\"M 398.815744 194.98975 \nL 680.552643 194.98975 \nL 680.552643 24.14175 \nL 398.815744 24.14175 \nz\n\" style=\"fill: #ffffff\"/>\n   </g>\n   <g id=\"matplotlib.axis_3\">\n    <g id=\"xtick_6\">\n     <g id=\"line2d_39\">\n      <g>\n       <use xlink:href=\"#m365ab15df9\" x=\"398.815744\" y=\"194.98975\" style=\"stroke: #000000; stroke-width: 0.8\"/>\n      </g>\n     </g>\n     <g id=\"text_13\">\n      <!-- 0 -->\n      <g transform=\"translate(394.998244 211.107875) scale(0.12 -0.12)\">\n       <use xlink:href=\"#DejaVuSans-30\"/>\n      </g>\n     </g>\n    </g>\n    <g id=\"xtick_7\">\n     <g id=\"line2d_40\">\n      <g>\n       <use xlink:href=\"#m365ab15df9\" x=\"455.163124\" y=\"194.98975\" style=\"stroke: #000000; stroke-width: 0.8\"/>\n      </g>\n     </g>\n     <g id=\"text_14\">\n      <!-- 2000 -->\n      <g transform=\"translate(439.893124 211.107875) scale(0.12 -0.12)\">\n       <use xlink:href=\"#DejaVuSans-32\"/>\n       <use xlink:href=\"#DejaVuSans-30\" x=\"63.623047\"/>\n       <use xlink:href=\"#DejaVuSans-30\" x=\"127.246094\"/>\n       <use xlink:href=\"#DejaVuSans-30\" x=\"190.869141\"/>\n      </g>\n     </g>\n    </g>\n    <g id=\"xtick_8\">\n     <g id=\"line2d_41\">\n      <g>\n       <use xlink:href=\"#m365ab15df9\" x=\"511.510504\" y=\"194.98975\" style=\"stroke: #000000; stroke-width: 0.8\"/>\n      </g>\n     </g>\n     <g id=\"text_15\">\n      <!-- 4000 -->\n      <g transform=\"translate(496.240504 211.107875) scale(0.12 -0.12)\">\n       <defs>\n        <path id=\"DejaVuSans-34\" d=\"M 2419 4116 \nL 825 1625 \nL 2419 1625 \nL 2419 4116 \nz\nM 2253 4666 \nL 3047 4666 \nL 3047 1625 \nL 3713 1625 \nL 3713 1100 \nL 3047 1100 \nL 3047 0 \nL 2419 0 \nL 2419 1100 \nL 313 1100 \nL 313 1709 \nL 2253 4666 \nz\n\" transform=\"scale(0.015625)\"/>\n       </defs>\n       <use xlink:href=\"#DejaVuSans-34\"/>\n       <use xlink:href=\"#DejaVuSans-30\" x=\"63.623047\"/>\n       <use xlink:href=\"#DejaVuSans-30\" x=\"127.246094\"/>\n       <use xlink:href=\"#DejaVuSans-30\" x=\"190.869141\"/>\n      </g>\n     </g>\n    </g>\n    <g id=\"xtick_9\">\n     <g id=\"line2d_42\">\n      <g>\n       <use xlink:href=\"#m365ab15df9\" x=\"567.857883\" y=\"194.98975\" style=\"stroke: #000000; stroke-width: 0.8\"/>\n      </g>\n     </g>\n     <g id=\"text_16\">\n      <!-- 6000 -->\n      <g transform=\"translate(552.587883 211.107875) scale(0.12 -0.12)\">\n       <defs>\n        <path id=\"DejaVuSans-36\" d=\"M 2113 2584 \nQ 1688 2584 1439 2293 \nQ 1191 2003 1191 1497 \nQ 1191 994 1439 701 \nQ 1688 409 2113 409 \nQ 2538 409 2786 701 \nQ 3034 994 3034 1497 \nQ 3034 2003 2786 2293 \nQ 2538 2584 2113 2584 \nz\nM 3366 4563 \nL 3366 3988 \nQ 3128 4100 2886 4159 \nQ 2644 4219 2406 4219 \nQ 1781 4219 1451 3797 \nQ 1122 3375 1075 2522 \nQ 1259 2794 1537 2939 \nQ 1816 3084 2150 3084 \nQ 2853 3084 3261 2657 \nQ 3669 2231 3669 1497 \nQ 3669 778 3244 343 \nQ 2819 -91 2113 -91 \nQ 1303 -91 875 529 \nQ 447 1150 447 2328 \nQ 447 3434 972 4092 \nQ 1497 4750 2381 4750 \nQ 2619 4750 2861 4703 \nQ 3103 4656 3366 4563 \nz\n\" transform=\"scale(0.015625)\"/>\n       </defs>\n       <use xlink:href=\"#DejaVuSans-36\"/>\n       <use xlink:href=\"#DejaVuSans-30\" x=\"63.623047\"/>\n       <use xlink:href=\"#DejaVuSans-30\" x=\"127.246094\"/>\n       <use xlink:href=\"#DejaVuSans-30\" x=\"190.869141\"/>\n      </g>\n     </g>\n    </g>\n    <g id=\"xtick_10\">\n     <g id=\"line2d_43\">\n      <g>\n       <use xlink:href=\"#m365ab15df9\" x=\"624.205263\" y=\"194.98975\" style=\"stroke: #000000; stroke-width: 0.8\"/>\n      </g>\n     </g>\n     <g id=\"text_17\">\n      <!-- 8000 -->\n      <g transform=\"translate(608.935263 211.107875) scale(0.12 -0.12)\">\n       <defs>\n        <path id=\"DejaVuSans-38\" d=\"M 2034 2216 \nQ 1584 2216 1326 1975 \nQ 1069 1734 1069 1313 \nQ 1069 891 1326 650 \nQ 1584 409 2034 409 \nQ 2484 409 2743 651 \nQ 3003 894 3003 1313 \nQ 3003 1734 2745 1975 \nQ 2488 2216 2034 2216 \nz\nM 1403 2484 \nQ 997 2584 770 2862 \nQ 544 3141 544 3541 \nQ 544 4100 942 4425 \nQ 1341 4750 2034 4750 \nQ 2731 4750 3128 4425 \nQ 3525 4100 3525 3541 \nQ 3525 3141 3298 2862 \nQ 3072 2584 2669 2484 \nQ 3125 2378 3379 2068 \nQ 3634 1759 3634 1313 \nQ 3634 634 3220 271 \nQ 2806 -91 2034 -91 \nQ 1263 -91 848 271 \nQ 434 634 434 1313 \nQ 434 1759 690 2068 \nQ 947 2378 1403 2484 \nz\nM 1172 3481 \nQ 1172 3119 1398 2916 \nQ 1625 2713 2034 2713 \nQ 2441 2713 2670 2916 \nQ 2900 3119 2900 3481 \nQ 2900 3844 2670 4047 \nQ 2441 4250 2034 4250 \nQ 1625 4250 1398 4047 \nQ 1172 3844 1172 3481 \nz\n\" transform=\"scale(0.015625)\"/>\n       </defs>\n       <use xlink:href=\"#DejaVuSans-38\"/>\n       <use xlink:href=\"#DejaVuSans-30\" x=\"63.623047\"/>\n       <use xlink:href=\"#DejaVuSans-30\" x=\"127.246094\"/>\n       <use xlink:href=\"#DejaVuSans-30\" x=\"190.869141\"/>\n      </g>\n     </g>\n    </g>\n    <g id=\"xtick_11\">\n     <g id=\"line2d_44\">\n      <g>\n       <use xlink:href=\"#m365ab15df9\" x=\"680.552643\" y=\"194.98975\" style=\"stroke: #000000; stroke-width: 0.8\"/>\n      </g>\n     </g>\n     <g id=\"text_18\">\n      <!-- 10000 -->\n      <g transform=\"translate(661.465143 211.107875) scale(0.12 -0.12)\">\n       <use xlink:href=\"#DejaVuSans-31\"/>\n       <use xlink:href=\"#DejaVuSans-30\" x=\"63.623047\"/>\n       <use xlink:href=\"#DejaVuSans-30\" x=\"127.246094\"/>\n       <use xlink:href=\"#DejaVuSans-30\" x=\"190.869141\"/>\n       <use xlink:href=\"#DejaVuSans-30\" x=\"254.492188\"/>\n      </g>\n     </g>\n    </g>\n    <g id=\"xtick_12\">\n     <g id=\"line2d_45\">\n      <defs>\n       <path id=\"m9115c2f294\" d=\"M 0 0 \nL 0 2 \n\" style=\"stroke: #000000; stroke-width: 0.6\"/>\n      </defs>\n      <g>\n       <use xlink:href=\"#m9115c2f294\" x=\"412.902589\" y=\"194.98975\" style=\"stroke: #000000; stroke-width: 0.6\"/>\n      </g>\n     </g>\n    </g>\n    <g id=\"xtick_13\">\n     <g id=\"line2d_46\">\n      <g>\n       <use xlink:href=\"#m9115c2f294\" x=\"426.989434\" y=\"194.98975\" style=\"stroke: #000000; stroke-width: 0.6\"/>\n      </g>\n     </g>\n    </g>\n    <g id=\"xtick_14\">\n     <g id=\"line2d_47\">\n      <g>\n       <use xlink:href=\"#m9115c2f294\" x=\"441.076279\" y=\"194.98975\" style=\"stroke: #000000; stroke-width: 0.6\"/>\n      </g>\n     </g>\n    </g>\n    <g id=\"xtick_15\">\n     <g id=\"line2d_48\">\n      <g>\n       <use xlink:href=\"#m9115c2f294\" x=\"469.249969\" y=\"194.98975\" style=\"stroke: #000000; stroke-width: 0.6\"/>\n      </g>\n     </g>\n    </g>\n    <g id=\"xtick_16\">\n     <g id=\"line2d_49\">\n      <g>\n       <use xlink:href=\"#m9115c2f294\" x=\"483.336814\" y=\"194.98975\" style=\"stroke: #000000; stroke-width: 0.6\"/>\n      </g>\n     </g>\n    </g>\n    <g id=\"xtick_17\">\n     <g id=\"line2d_50\">\n      <g>\n       <use xlink:href=\"#m9115c2f294\" x=\"497.423659\" y=\"194.98975\" style=\"stroke: #000000; stroke-width: 0.6\"/>\n      </g>\n     </g>\n    </g>\n    <g id=\"xtick_18\">\n     <g id=\"line2d_51\">\n      <g>\n       <use xlink:href=\"#m9115c2f294\" x=\"525.597348\" y=\"194.98975\" style=\"stroke: #000000; stroke-width: 0.6\"/>\n      </g>\n     </g>\n    </g>\n    <g id=\"xtick_19\">\n     <g id=\"line2d_52\">\n      <g>\n       <use xlink:href=\"#m9115c2f294\" x=\"539.684193\" y=\"194.98975\" style=\"stroke: #000000; stroke-width: 0.6\"/>\n      </g>\n     </g>\n    </g>\n    <g id=\"xtick_20\">\n     <g id=\"line2d_53\">\n      <g>\n       <use xlink:href=\"#m9115c2f294\" x=\"553.771038\" y=\"194.98975\" style=\"stroke: #000000; stroke-width: 0.6\"/>\n      </g>\n     </g>\n    </g>\n    <g id=\"xtick_21\">\n     <g id=\"line2d_54\">\n      <g>\n       <use xlink:href=\"#m9115c2f294\" x=\"581.944728\" y=\"194.98975\" style=\"stroke: #000000; stroke-width: 0.6\"/>\n      </g>\n     </g>\n    </g>\n    <g id=\"xtick_22\">\n     <g id=\"line2d_55\">\n      <g>\n       <use xlink:href=\"#m9115c2f294\" x=\"596.031573\" y=\"194.98975\" style=\"stroke: #000000; stroke-width: 0.6\"/>\n      </g>\n     </g>\n    </g>\n    <g id=\"xtick_23\">\n     <g id=\"line2d_56\">\n      <g>\n       <use xlink:href=\"#m9115c2f294\" x=\"610.118418\" y=\"194.98975\" style=\"stroke: #000000; stroke-width: 0.6\"/>\n      </g>\n     </g>\n    </g>\n    <g id=\"xtick_24\">\n     <g id=\"line2d_57\">\n      <g>\n       <use xlink:href=\"#m9115c2f294\" x=\"638.292108\" y=\"194.98975\" style=\"stroke: #000000; stroke-width: 0.6\"/>\n      </g>\n     </g>\n    </g>\n    <g id=\"xtick_25\">\n     <g id=\"line2d_58\">\n      <g>\n       <use xlink:href=\"#m9115c2f294\" x=\"652.378953\" y=\"194.98975\" style=\"stroke: #000000; stroke-width: 0.6\"/>\n      </g>\n     </g>\n    </g>\n    <g id=\"xtick_26\">\n     <g id=\"line2d_59\">\n      <g>\n       <use xlink:href=\"#m9115c2f294\" x=\"666.465798\" y=\"194.98975\" style=\"stroke: #000000; stroke-width: 0.6\"/>\n      </g>\n     </g>\n    </g>\n    <g id=\"text_19\">\n     <!-- Token (descending probability) -->\n     <g transform=\"translate(447.602943 226.721625) scale(0.12 -0.12)\">\n      <defs>\n       <path id=\"DejaVuSans-54\" d=\"M -19 4666 \nL 3928 4666 \nL 3928 4134 \nL 2272 4134 \nL 2272 0 \nL 1638 0 \nL 1638 4134 \nL -19 4134 \nL -19 4666 \nz\n\" transform=\"scale(0.015625)\"/>\n       <path id=\"DejaVuSans-6b\" d=\"M 581 4863 \nL 1159 4863 \nL 1159 1991 \nL 2875 3500 \nL 3609 3500 \nL 1753 1863 \nL 3688 0 \nL 2938 0 \nL 1159 1709 \nL 1159 0 \nL 581 0 \nL 581 4863 \nz\n\" transform=\"scale(0.015625)\"/>\n       <path id=\"DejaVuSans-65\" d=\"M 3597 1894 \nL 3597 1613 \nL 953 1613 \nQ 991 1019 1311 708 \nQ 1631 397 2203 397 \nQ 2534 397 2845 478 \nQ 3156 559 3463 722 \nL 3463 178 \nQ 3153 47 2828 -22 \nQ 2503 -91 2169 -91 \nQ 1331 -91 842 396 \nQ 353 884 353 1716 \nQ 353 2575 817 3079 \nQ 1281 3584 2069 3584 \nQ 2775 3584 3186 3129 \nQ 3597 2675 3597 1894 \nz\nM 3022 2063 \nQ 3016 2534 2758 2815 \nQ 2500 3097 2075 3097 \nQ 1594 3097 1305 2825 \nQ 1016 2553 972 2059 \nL 3022 2063 \nz\n\" transform=\"scale(0.015625)\"/>\n       <path id=\"DejaVuSans-28\" d=\"M 1984 4856 \nQ 1566 4138 1362 3434 \nQ 1159 2731 1159 2009 \nQ 1159 1288 1364 580 \nQ 1569 -128 1984 -844 \nL 1484 -844 \nQ 1016 -109 783 600 \nQ 550 1309 550 2009 \nQ 550 2706 781 3412 \nQ 1013 4119 1484 4856 \nL 1984 4856 \nz\n\" transform=\"scale(0.015625)\"/>\n       <path id=\"DejaVuSans-63\" d=\"M 3122 3366 \nL 3122 2828 \nQ 2878 2963 2633 3030 \nQ 2388 3097 2138 3097 \nQ 1578 3097 1268 2742 \nQ 959 2388 959 1747 \nQ 959 1106 1268 751 \nQ 1578 397 2138 397 \nQ 2388 397 2633 464 \nQ 2878 531 3122 666 \nL 3122 134 \nQ 2881 22 2623 -34 \nQ 2366 -91 2075 -91 \nQ 1284 -91 818 406 \nQ 353 903 353 1747 \nQ 353 2603 823 3093 \nQ 1294 3584 2113 3584 \nQ 2378 3584 2631 3529 \nQ 2884 3475 3122 3366 \nz\n\" transform=\"scale(0.015625)\"/>\n       <path id=\"DejaVuSans-67\" d=\"M 2906 1791 \nQ 2906 2416 2648 2759 \nQ 2391 3103 1925 3103 \nQ 1463 3103 1205 2759 \nQ 947 2416 947 1791 \nQ 947 1169 1205 825 \nQ 1463 481 1925 481 \nQ 2391 481 2648 825 \nQ 2906 1169 2906 1791 \nz\nM 3481 434 \nQ 3481 -459 3084 -895 \nQ 2688 -1331 1869 -1331 \nQ 1566 -1331 1297 -1286 \nQ 1028 -1241 775 -1147 \nL 775 -588 \nQ 1028 -725 1275 -790 \nQ 1522 -856 1778 -856 \nQ 2344 -856 2625 -561 \nQ 2906 -266 2906 331 \nL 2906 616 \nQ 2728 306 2450 153 \nQ 2172 0 1784 0 \nQ 1141 0 747 490 \nQ 353 981 353 1791 \nQ 353 2603 747 3093 \nQ 1141 3584 1784 3584 \nQ 2172 3584 2450 3431 \nQ 2728 3278 2906 2969 \nL 2906 3500 \nL 3481 3500 \nL 3481 434 \nz\n\" transform=\"scale(0.015625)\"/>\n       <path id=\"DejaVuSans-70\" d=\"M 1159 525 \nL 1159 -1331 \nL 581 -1331 \nL 581 3500 \nL 1159 3500 \nL 1159 2969 \nQ 1341 3281 1617 3432 \nQ 1894 3584 2278 3584 \nQ 2916 3584 3314 3078 \nQ 3713 2572 3713 1747 \nQ 3713 922 3314 415 \nQ 2916 -91 2278 -91 \nQ 1894 -91 1617 61 \nQ 1341 213 1159 525 \nz\nM 3116 1747 \nQ 3116 2381 2855 2742 \nQ 2594 3103 2138 3103 \nQ 1681 3103 1420 2742 \nQ 1159 2381 1159 1747 \nQ 1159 1113 1420 752 \nQ 1681 391 2138 391 \nQ 2594 391 2855 752 \nQ 3116 1113 3116 1747 \nz\n\" transform=\"scale(0.015625)\"/>\n       <path id=\"DejaVuSans-29\" d=\"M 513 4856 \nL 1013 4856 \nQ 1481 4119 1714 3412 \nQ 1947 2706 1947 2009 \nQ 1947 1309 1714 600 \nQ 1481 -109 1013 -844 \nL 513 -844 \nQ 928 -128 1133 580 \nQ 1338 1288 1338 2009 \nQ 1338 2731 1133 3434 \nQ 928 4138 513 4856 \nz\n\" transform=\"scale(0.015625)\"/>\n      </defs>\n      <use xlink:href=\"#DejaVuSans-54\"/>\n      <use xlink:href=\"#DejaVuSans-6f\" x=\"44.083984\"/>\n      <use xlink:href=\"#DejaVuSans-6b\" x=\"105.265625\"/>\n      <use xlink:href=\"#DejaVuSans-65\" x=\"159.550781\"/>\n      <use xlink:href=\"#DejaVuSans-6e\" x=\"221.074219\"/>\n      <use xlink:href=\"#DejaVuSans-20\" x=\"284.453125\"/>\n      <use xlink:href=\"#DejaVuSans-28\" x=\"316.240234\"/>\n      <use xlink:href=\"#DejaVuSans-64\" x=\"355.253906\"/>\n      <use xlink:href=\"#DejaVuSans-65\" x=\"418.730469\"/>\n      <use xlink:href=\"#DejaVuSans-73\" x=\"480.253906\"/>\n      <use xlink:href=\"#DejaVuSans-63\" x=\"532.353516\"/>\n      <use xlink:href=\"#DejaVuSans-65\" x=\"587.333984\"/>\n      <use xlink:href=\"#DejaVuSans-6e\" x=\"648.857422\"/>\n      <use xlink:href=\"#DejaVuSans-64\" x=\"712.236328\"/>\n      <use xlink:href=\"#DejaVuSans-69\" x=\"775.712891\"/>\n      <use xlink:href=\"#DejaVuSans-6e\" x=\"803.496094\"/>\n      <use xlink:href=\"#DejaVuSans-67\" x=\"866.875\"/>\n      <use xlink:href=\"#DejaVuSans-20\" x=\"930.351562\"/>\n      <use xlink:href=\"#DejaVuSans-70\" x=\"962.138672\"/>\n      <use xlink:href=\"#DejaVuSans-72\" x=\"1025.615234\"/>\n      <use xlink:href=\"#DejaVuSans-6f\" x=\"1064.478516\"/>\n      <use xlink:href=\"#DejaVuSans-62\" x=\"1125.660156\"/>\n      <use xlink:href=\"#DejaVuSans-61\" x=\"1189.136719\"/>\n      <use xlink:href=\"#DejaVuSans-62\" x=\"1250.416016\"/>\n      <use xlink:href=\"#DejaVuSans-69\" x=\"1313.892578\"/>\n      <use xlink:href=\"#DejaVuSans-6c\" x=\"1341.675781\"/>\n      <use xlink:href=\"#DejaVuSans-69\" x=\"1369.458984\"/>\n      <use xlink:href=\"#DejaVuSans-74\" x=\"1397.242188\"/>\n      <use xlink:href=\"#DejaVuSans-79\" x=\"1436.451172\"/>\n      <use xlink:href=\"#DejaVuSans-29\" x=\"1495.630859\"/>\n     </g>\n    </g>\n   </g>\n   <g id=\"matplotlib.axis_4\">\n    <g id=\"ytick_34\">\n     <g id=\"line2d_60\">\n      <g>\n       <use xlink:href=\"#m87e59a8ed6\" x=\"398.815744\" y=\"194.98975\" style=\"stroke: #000000; stroke-width: 0.8\"/>\n      </g>\n     </g>\n     <g id=\"text_20\">\n      <!-- 0.75 -->\n      <g transform=\"translate(365.096994 199.548812) scale(0.12 -0.12)\">\n       <defs>\n        <path id=\"DejaVuSans-2e\" d=\"M 684 794 \nL 1344 794 \nL 1344 0 \nL 684 0 \nL 684 794 \nz\n\" transform=\"scale(0.015625)\"/>\n       </defs>\n       <use xlink:href=\"#DejaVuSans-30\"/>\n       <use xlink:href=\"#DejaVuSans-2e\" x=\"63.623047\"/>\n       <use xlink:href=\"#DejaVuSans-37\" x=\"95.410156\"/>\n       <use xlink:href=\"#DejaVuSans-35\" x=\"159.033203\"/>\n      </g>\n     </g>\n    </g>\n    <g id=\"ytick_35\">\n     <g id=\"line2d_61\">\n      <g>\n       <use xlink:href=\"#m87e59a8ed6\" x=\"398.815744\" y=\"162.134365\" style=\"stroke: #000000; stroke-width: 0.8\"/>\n      </g>\n     </g>\n     <g id=\"text_21\">\n      <!-- 0.80 -->\n      <g transform=\"translate(365.096994 166.693428) scale(0.12 -0.12)\">\n       <use xlink:href=\"#DejaVuSans-30\"/>\n       <use xlink:href=\"#DejaVuSans-2e\" x=\"63.623047\"/>\n       <use xlink:href=\"#DejaVuSans-38\" x=\"95.410156\"/>\n       <use xlink:href=\"#DejaVuSans-30\" x=\"159.033203\"/>\n      </g>\n     </g>\n    </g>\n    <g id=\"ytick_36\">\n     <g id=\"line2d_62\">\n      <g>\n       <use xlink:href=\"#m87e59a8ed6\" x=\"398.815744\" y=\"129.278981\" style=\"stroke: #000000; stroke-width: 0.8\"/>\n      </g>\n     </g>\n     <g id=\"text_22\">\n      <!-- 0.85 -->\n      <g transform=\"translate(365.096994 133.838043) scale(0.12 -0.12)\">\n       <use xlink:href=\"#DejaVuSans-30\"/>\n       <use xlink:href=\"#DejaVuSans-2e\" x=\"63.623047\"/>\n       <use xlink:href=\"#DejaVuSans-38\" x=\"95.410156\"/>\n       <use xlink:href=\"#DejaVuSans-35\" x=\"159.033203\"/>\n      </g>\n     </g>\n    </g>\n    <g id=\"ytick_37\">\n     <g id=\"line2d_63\">\n      <g>\n       <use xlink:href=\"#m87e59a8ed6\" x=\"398.815744\" y=\"96.423596\" style=\"stroke: #000000; stroke-width: 0.8\"/>\n      </g>\n     </g>\n     <g id=\"text_23\">\n      <!-- 0.90 -->\n      <g transform=\"translate(365.096994 100.982659) scale(0.12 -0.12)\">\n       <use xlink:href=\"#DejaVuSans-30\"/>\n       <use xlink:href=\"#DejaVuSans-2e\" x=\"63.623047\"/>\n       <use xlink:href=\"#DejaVuSans-39\" x=\"95.410156\"/>\n       <use xlink:href=\"#DejaVuSans-30\" x=\"159.033203\"/>\n      </g>\n     </g>\n    </g>\n    <g id=\"ytick_38\">\n     <g id=\"line2d_64\">\n      <g>\n       <use xlink:href=\"#m87e59a8ed6\" x=\"398.815744\" y=\"63.568212\" style=\"stroke: #000000; stroke-width: 0.8\"/>\n      </g>\n     </g>\n     <g id=\"text_24\">\n      <!-- 0.95 -->\n      <g transform=\"translate(365.096994 68.127274) scale(0.12 -0.12)\">\n       <use xlink:href=\"#DejaVuSans-30\"/>\n       <use xlink:href=\"#DejaVuSans-2e\" x=\"63.623047\"/>\n       <use xlink:href=\"#DejaVuSans-39\" x=\"95.410156\"/>\n       <use xlink:href=\"#DejaVuSans-35\" x=\"159.033203\"/>\n      </g>\n     </g>\n    </g>\n    <g id=\"ytick_39\">\n     <g id=\"line2d_65\">\n      <g>\n       <use xlink:href=\"#m87e59a8ed6\" x=\"398.815744\" y=\"30.712827\" style=\"stroke: #000000; stroke-width: 0.8\"/>\n      </g>\n     </g>\n     <g id=\"text_25\">\n      <!-- 1.00 -->\n      <g transform=\"translate(365.096994 35.271889) scale(0.12 -0.12)\">\n       <use xlink:href=\"#DejaVuSans-31\"/>\n       <use xlink:href=\"#DejaVuSans-2e\" x=\"63.623047\"/>\n       <use xlink:href=\"#DejaVuSans-30\" x=\"95.410156\"/>\n       <use xlink:href=\"#DejaVuSans-30\" x=\"159.033203\"/>\n      </g>\n     </g>\n    </g>\n    <g id=\"ytick_40\">\n     <g id=\"line2d_66\">\n      <g>\n       <use xlink:href=\"#mc482537ddc\" x=\"398.815744\" y=\"188.418673\" style=\"stroke: #000000; stroke-width: 0.6\"/>\n      </g>\n     </g>\n    </g>\n    <g id=\"ytick_41\">\n     <g id=\"line2d_67\">\n      <g>\n       <use xlink:href=\"#mc482537ddc\" x=\"398.815744\" y=\"181.847596\" style=\"stroke: #000000; stroke-width: 0.6\"/>\n      </g>\n     </g>\n    </g>\n    <g id=\"ytick_42\">\n     <g id=\"line2d_68\">\n      <g>\n       <use xlink:href=\"#mc482537ddc\" x=\"398.815744\" y=\"175.276519\" style=\"stroke: #000000; stroke-width: 0.6\"/>\n      </g>\n     </g>\n    </g>\n    <g id=\"ytick_43\">\n     <g id=\"line2d_69\">\n      <g>\n       <use xlink:href=\"#mc482537ddc\" x=\"398.815744\" y=\"168.705442\" style=\"stroke: #000000; stroke-width: 0.6\"/>\n      </g>\n     </g>\n    </g>\n    <g id=\"ytick_44\">\n     <g id=\"line2d_70\">\n      <g>\n       <use xlink:href=\"#mc482537ddc\" x=\"398.815744\" y=\"155.563288\" style=\"stroke: #000000; stroke-width: 0.6\"/>\n      </g>\n     </g>\n    </g>\n    <g id=\"ytick_45\">\n     <g id=\"line2d_71\">\n      <g>\n       <use xlink:href=\"#mc482537ddc\" x=\"398.815744\" y=\"148.992212\" style=\"stroke: #000000; stroke-width: 0.6\"/>\n      </g>\n     </g>\n    </g>\n    <g id=\"ytick_46\">\n     <g id=\"line2d_72\">\n      <g>\n       <use xlink:href=\"#mc482537ddc\" x=\"398.815744\" y=\"142.421135\" style=\"stroke: #000000; stroke-width: 0.6\"/>\n      </g>\n     </g>\n    </g>\n    <g id=\"ytick_47\">\n     <g id=\"line2d_73\">\n      <g>\n       <use xlink:href=\"#mc482537ddc\" x=\"398.815744\" y=\"135.850058\" style=\"stroke: #000000; stroke-width: 0.6\"/>\n      </g>\n     </g>\n    </g>\n    <g id=\"ytick_48\">\n     <g id=\"line2d_74\">\n      <g>\n       <use xlink:href=\"#mc482537ddc\" x=\"398.815744\" y=\"122.707904\" style=\"stroke: #000000; stroke-width: 0.6\"/>\n      </g>\n     </g>\n    </g>\n    <g id=\"ytick_49\">\n     <g id=\"line2d_75\">\n      <g>\n       <use xlink:href=\"#mc482537ddc\" x=\"398.815744\" y=\"116.136827\" style=\"stroke: #000000; stroke-width: 0.6\"/>\n      </g>\n     </g>\n    </g>\n    <g id=\"ytick_50\">\n     <g id=\"line2d_76\">\n      <g>\n       <use xlink:href=\"#mc482537ddc\" x=\"398.815744\" y=\"109.56575\" style=\"stroke: #000000; stroke-width: 0.6\"/>\n      </g>\n     </g>\n    </g>\n    <g id=\"ytick_51\">\n     <g id=\"line2d_77\">\n      <g>\n       <use xlink:href=\"#mc482537ddc\" x=\"398.815744\" y=\"102.994673\" style=\"stroke: #000000; stroke-width: 0.6\"/>\n      </g>\n     </g>\n    </g>\n    <g id=\"ytick_52\">\n     <g id=\"line2d_78\">\n      <g>\n       <use xlink:href=\"#mc482537ddc\" x=\"398.815744\" y=\"89.852519\" style=\"stroke: #000000; stroke-width: 0.6\"/>\n      </g>\n     </g>\n    </g>\n    <g id=\"ytick_53\">\n     <g id=\"line2d_79\">\n      <g>\n       <use xlink:href=\"#mc482537ddc\" x=\"398.815744\" y=\"83.281442\" style=\"stroke: #000000; stroke-width: 0.6\"/>\n      </g>\n     </g>\n    </g>\n    <g id=\"ytick_54\">\n     <g id=\"line2d_80\">\n      <g>\n       <use xlink:href=\"#mc482537ddc\" x=\"398.815744\" y=\"76.710365\" style=\"stroke: #000000; stroke-width: 0.6\"/>\n      </g>\n     </g>\n    </g>\n    <g id=\"ytick_55\">\n     <g id=\"line2d_81\">\n      <g>\n       <use xlink:href=\"#mc482537ddc\" x=\"398.815744\" y=\"70.139288\" style=\"stroke: #000000; stroke-width: 0.6\"/>\n      </g>\n     </g>\n    </g>\n    <g id=\"ytick_56\">\n     <g id=\"line2d_82\">\n      <g>\n       <use xlink:href=\"#mc482537ddc\" x=\"398.815744\" y=\"56.997135\" style=\"stroke: #000000; stroke-width: 0.6\"/>\n      </g>\n     </g>\n    </g>\n    <g id=\"ytick_57\">\n     <g id=\"line2d_83\">\n      <g>\n       <use xlink:href=\"#mc482537ddc\" x=\"398.815744\" y=\"50.426058\" style=\"stroke: #000000; stroke-width: 0.6\"/>\n      </g>\n     </g>\n    </g>\n    <g id=\"ytick_58\">\n     <g id=\"line2d_84\">\n      <g>\n       <use xlink:href=\"#mc482537ddc\" x=\"398.815744\" y=\"43.854981\" style=\"stroke: #000000; stroke-width: 0.6\"/>\n      </g>\n     </g>\n    </g>\n    <g id=\"ytick_59\">\n     <g id=\"line2d_85\">\n      <g>\n       <use xlink:href=\"#mc482537ddc\" x=\"398.815744\" y=\"37.283904\" style=\"stroke: #000000; stroke-width: 0.6\"/>\n      </g>\n     </g>\n    </g>\n    <g id=\"ytick_60\">\n     <g id=\"line2d_86\">\n      <g>\n       <use xlink:href=\"#mc482537ddc\" x=\"398.815744\" y=\"24.14175\" style=\"stroke: #000000; stroke-width: 0.6\"/>\n      </g>\n     </g>\n    </g>\n    <g id=\"text_26\">\n     <!-- Probability -->\n     <g transform=\"translate(358.601369 141.280438) rotate(-90) scale(0.12 -0.12)\">\n      <use xlink:href=\"#DejaVuSans-50\"/>\n      <use xlink:href=\"#DejaVuSans-72\" x=\"58.552734\"/>\n      <use xlink:href=\"#DejaVuSans-6f\" x=\"97.416016\"/>\n      <use xlink:href=\"#DejaVuSans-62\" x=\"158.597656\"/>\n      <use xlink:href=\"#DejaVuSans-61\" x=\"222.074219\"/>\n      <use xlink:href=\"#DejaVuSans-62\" x=\"283.353516\"/>\n      <use xlink:href=\"#DejaVuSans-69\" x=\"346.830078\"/>\n      <use xlink:href=\"#DejaVuSans-6c\" x=\"374.613281\"/>\n      <use xlink:href=\"#DejaVuSans-69\" x=\"402.396484\"/>\n      <use xlink:href=\"#DejaVuSans-74\" x=\"430.179688\"/>\n      <use xlink:href=\"#DejaVuSans-79\" x=\"469.388672\"/>\n     </g>\n    </g>\n   </g>\n   <g id=\"line2d_87\">\n    <path d=\"M 399.997109 237.41725 \nL 400.562513 207.985917 \nL 401.238682 183.413923 \nL 401.886676 167.915711 \nL 402.760061 153.110866 \nL 403.661619 140.772777 \nL 404.732219 129.290558 \nL 405.859167 119.521177 \nL 407.155156 110.239224 \nL 408.563841 101.909648 \nL 409.916178 95.362156 \nL 411.240341 89.986021 \nL 412.818068 84.582039 \nL 414.508489 79.583275 \nL 416.086216 75.570062 \nL 417.889332 71.614894 \nL 419.889664 67.718633 \nL 421.777301 64.539161 \nL 424.172065 60.959602 \nL 426.42596 57.979645 \nL 428.764377 55.246555 \nL 431.187314 52.756182 \nL 433.497556 50.673494 \nL 436.145883 48.583051 \nL 439.188642 46.47279 \nL 442.344095 44.572697 \nL 445.555896 42.911952 \nL 449.190302 41.281365 \nL 452.740187 39.920911 \nL 456.825372 38.595746 \nL 461.69942 37.261494 \nL 466.573468 36.155702 \nL 471.813775 35.204539 \nL 477.871118 34.323015 \nL 484.632803 33.579396 \nL 492.859521 32.91321 \nL 501.734233 32.407295 \nL 513.708051 31.952217 \nL 529.767055 31.594312 \nL 552.531396 31.325629 \nL 591.918214 31.108175 \nL 651.054789 30.97258 \nL 680.580816 30.931534 \nL 680.580816 30.931534 \n\" clip-path=\"url(#p50b9c06f31)\" style=\"fill: none; stroke: #000000; stroke-width: 1.5; stroke-linecap: square\"/>\n   </g>\n   <g id=\"LineCollection_1\">\n    <path d=\"M 455.163124 237.41725 \nL 455.163124 -1 \n\" clip-path=\"url(#p50b9c06f31)\" style=\"fill: none; stroke: #0071bc; stroke-width: 1.5\"/>\n   </g>\n   <g id=\"LineCollection_2\">\n    <path d=\"M 398.815744 63.568212 \nL 680.552643 63.568212 \n\" clip-path=\"url(#p50b9c06f31)\" style=\"fill: none; stroke-dasharray: 5.55,2.4; stroke-dashoffset: 0; stroke: #f7931e; stroke-width: 1.5\"/>\n   </g>\n   <g id=\"patch_107\">\n    <path d=\"M 398.815744 194.98975 \nL 398.815744 24.14175 \n\" style=\"fill: none; stroke: #000000; stroke-width: 0.8; stroke-linejoin: miter; stroke-linecap: square\"/>\n   </g>\n   <g id=\"patch_108\">\n    <path d=\"M 680.552643 194.98975 \nL 680.552643 24.14175 \n\" style=\"fill: none; stroke: #000000; stroke-width: 0.8; stroke-linejoin: miter; stroke-linecap: square\"/>\n   </g>\n   <g id=\"patch_109\">\n    <path d=\"M 398.815744 194.98975 \nL 680.552643 194.98975 \n\" style=\"fill: none; stroke: #000000; stroke-width: 0.8; stroke-linejoin: miter; stroke-linecap: square\"/>\n   </g>\n   <g id=\"patch_110\">\n    <path d=\"M 398.815744 24.14175 \nL 680.552643 24.14175 \n\" style=\"fill: none; stroke: #000000; stroke-width: 0.8; stroke-linejoin: miter; stroke-linecap: square\"/>\n   </g>\n   <g id=\"text_27\">\n    <!-- Cumulative probability -->\n    <g transform=\"translate(457.888818 18.14175) scale(0.144 -0.144)\">\n     <defs>\n      <path id=\"DejaVuSans-6d\" d=\"M 3328 2828 \nQ 3544 3216 3844 3400 \nQ 4144 3584 4550 3584 \nQ 5097 3584 5394 3201 \nQ 5691 2819 5691 2113 \nL 5691 0 \nL 5113 0 \nL 5113 2094 \nQ 5113 2597 4934 2840 \nQ 4756 3084 4391 3084 \nQ 3944 3084 3684 2787 \nQ 3425 2491 3425 1978 \nL 3425 0 \nL 2847 0 \nL 2847 2094 \nQ 2847 2600 2669 2842 \nQ 2491 3084 2119 3084 \nQ 1678 3084 1418 2786 \nQ 1159 2488 1159 1978 \nL 1159 0 \nL 581 0 \nL 581 3500 \nL 1159 3500 \nL 1159 2956 \nQ 1356 3278 1631 3431 \nQ 1906 3584 2284 3584 \nQ 2666 3584 2933 3390 \nQ 3200 3197 3328 2828 \nz\n\" transform=\"scale(0.015625)\"/>\n      <path id=\"DejaVuSans-76\" d=\"M 191 3500 \nL 800 3500 \nL 1894 563 \nL 2988 3500 \nL 3597 3500 \nL 2284 0 \nL 1503 0 \nL 191 3500 \nz\n\" transform=\"scale(0.015625)\"/>\n     </defs>\n     <use xlink:href=\"#DejaVuSans-43\"/>\n     <use xlink:href=\"#DejaVuSans-75\" x=\"69.824219\"/>\n     <use xlink:href=\"#DejaVuSans-6d\" x=\"133.203125\"/>\n     <use xlink:href=\"#DejaVuSans-75\" x=\"230.615234\"/>\n     <use xlink:href=\"#DejaVuSans-6c\" x=\"293.994141\"/>\n     <use xlink:href=\"#DejaVuSans-61\" x=\"321.777344\"/>\n     <use xlink:href=\"#DejaVuSans-74\" x=\"383.056641\"/>\n     <use xlink:href=\"#DejaVuSans-69\" x=\"422.265625\"/>\n     <use xlink:href=\"#DejaVuSans-76\" x=\"450.048828\"/>\n     <use xlink:href=\"#DejaVuSans-65\" x=\"509.228516\"/>\n     <use xlink:href=\"#DejaVuSans-20\" x=\"570.751953\"/>\n     <use xlink:href=\"#DejaVuSans-70\" x=\"602.539062\"/>\n     <use xlink:href=\"#DejaVuSans-72\" x=\"666.015625\"/>\n     <use xlink:href=\"#DejaVuSans-6f\" x=\"704.878906\"/>\n     <use xlink:href=\"#DejaVuSans-62\" x=\"766.060547\"/>\n     <use xlink:href=\"#DejaVuSans-61\" x=\"829.537109\"/>\n     <use xlink:href=\"#DejaVuSans-62\" x=\"890.816406\"/>\n     <use xlink:href=\"#DejaVuSans-69\" x=\"954.292969\"/>\n     <use xlink:href=\"#DejaVuSans-6c\" x=\"982.076172\"/>\n     <use xlink:href=\"#DejaVuSans-69\" x=\"1009.859375\"/>\n     <use xlink:href=\"#DejaVuSans-74\" x=\"1037.642578\"/>\n     <use xlink:href=\"#DejaVuSans-79\" x=\"1076.851562\"/>\n    </g>\n   </g>\n   <g id=\"legend_1\">\n    <g id=\"patch_111\">\n     <path d=\"M 469.480143 188.98975 \nL 672.152643 188.98975 \nQ 674.552643 188.98975 674.552643 186.58975 \nL 674.552643 152.56225 \nQ 674.552643 150.16225 672.152643 150.16225 \nL 469.480143 150.16225 \nQ 467.080143 150.16225 467.080143 152.56225 \nL 467.080143 186.58975 \nQ 467.080143 188.98975 469.480143 188.98975 \nz\n\" style=\"fill: #ffffff; opacity: 0.8; stroke: #cccccc; stroke-linejoin: miter\"/>\n    </g>\n    <g id=\"line2d_88\">\n     <path d=\"M 471.880143 159.880375 \nL 495.880143 159.880375 \n\" style=\"fill: none; stroke: #0071bc; stroke-width: 1.5\"/>\n    </g>\n    <g id=\"text_28\">\n     <!-- top-k threshold (k=2000) -->\n     <g transform=\"translate(505.480143 164.080375) scale(0.12 -0.12)\">\n      <defs>\n       <path id=\"DejaVuSans-2d\" d=\"M 313 2009 \nL 1997 2009 \nL 1997 1497 \nL 313 1497 \nL 313 2009 \nz\n\" transform=\"scale(0.015625)\"/>\n       <path id=\"DejaVuSans-68\" d=\"M 3513 2113 \nL 3513 0 \nL 2938 0 \nL 2938 2094 \nQ 2938 2591 2744 2837 \nQ 2550 3084 2163 3084 \nQ 1697 3084 1428 2787 \nQ 1159 2491 1159 1978 \nL 1159 0 \nL 581 0 \nL 581 4863 \nL 1159 4863 \nL 1159 2956 \nQ 1366 3272 1645 3428 \nQ 1925 3584 2291 3584 \nQ 2894 3584 3203 3211 \nQ 3513 2838 3513 2113 \nz\n\" transform=\"scale(0.015625)\"/>\n       <path id=\"DejaVuSans-3d\" d=\"M 678 2906 \nL 4684 2906 \nL 4684 2381 \nL 678 2381 \nL 678 2906 \nz\nM 678 1631 \nL 4684 1631 \nL 4684 1100 \nL 678 1100 \nL 678 1631 \nz\n\" transform=\"scale(0.015625)\"/>\n      </defs>\n      <use xlink:href=\"#DejaVuSans-74\"/>\n      <use xlink:href=\"#DejaVuSans-6f\" x=\"39.208984\"/>\n      <use xlink:href=\"#DejaVuSans-70\" x=\"100.390625\"/>\n      <use xlink:href=\"#DejaVuSans-2d\" x=\"163.867188\"/>\n      <use xlink:href=\"#DejaVuSans-6b\" x=\"199.951172\"/>\n      <use xlink:href=\"#DejaVuSans-20\" x=\"257.861328\"/>\n      <use xlink:href=\"#DejaVuSans-74\" x=\"289.648438\"/>\n      <use xlink:href=\"#DejaVuSans-68\" x=\"328.857422\"/>\n      <use xlink:href=\"#DejaVuSans-72\" x=\"392.236328\"/>\n      <use xlink:href=\"#DejaVuSans-65\" x=\"431.099609\"/>\n      <use xlink:href=\"#DejaVuSans-73\" x=\"492.623047\"/>\n      <use xlink:href=\"#DejaVuSans-68\" x=\"544.722656\"/>\n      <use xlink:href=\"#DejaVuSans-6f\" x=\"608.101562\"/>\n      <use xlink:href=\"#DejaVuSans-6c\" x=\"669.283203\"/>\n      <use xlink:href=\"#DejaVuSans-64\" x=\"697.066406\"/>\n      <use xlink:href=\"#DejaVuSans-20\" x=\"760.542969\"/>\n      <use xlink:href=\"#DejaVuSans-28\" x=\"792.330078\"/>\n      <use xlink:href=\"#DejaVuSans-6b\" x=\"831.34375\"/>\n      <use xlink:href=\"#DejaVuSans-3d\" x=\"889.253906\"/>\n      <use xlink:href=\"#DejaVuSans-32\" x=\"973.042969\"/>\n      <use xlink:href=\"#DejaVuSans-30\" x=\"1036.666016\"/>\n      <use xlink:href=\"#DejaVuSans-30\" x=\"1100.289062\"/>\n      <use xlink:href=\"#DejaVuSans-30\" x=\"1163.912109\"/>\n      <use xlink:href=\"#DejaVuSans-29\" x=\"1227.535156\"/>\n     </g>\n    </g>\n    <g id=\"line2d_89\">\n     <path d=\"M 471.880143 177.494125 \nL 495.880143 177.494125 \n\" style=\"fill: none; stroke-dasharray: 5.55,2.4; stroke-dashoffset: 0; stroke: #f7931e; stroke-width: 1.5\"/>\n    </g>\n    <g id=\"text_29\">\n     <!-- nucleus threshold (p=0.95) -->\n     <g transform=\"translate(505.480143 181.694125) scale(0.12 -0.12)\">\n      <use xlink:href=\"#DejaVuSans-6e\"/>\n      <use xlink:href=\"#DejaVuSans-75\" x=\"63.378906\"/>\n      <use xlink:href=\"#DejaVuSans-63\" x=\"126.757812\"/>\n      <use xlink:href=\"#DejaVuSans-6c\" x=\"181.738281\"/>\n      <use xlink:href=\"#DejaVuSans-65\" x=\"209.521484\"/>\n      <use xlink:href=\"#DejaVuSans-75\" x=\"271.044922\"/>\n      <use xlink:href=\"#DejaVuSans-73\" x=\"334.423828\"/>\n      <use xlink:href=\"#DejaVuSans-20\" x=\"386.523438\"/>\n      <use xlink:href=\"#DejaVuSans-74\" x=\"418.310547\"/>\n      <use xlink:href=\"#DejaVuSans-68\" x=\"457.519531\"/>\n      <use xlink:href=\"#DejaVuSans-72\" x=\"520.898438\"/>\n      <use xlink:href=\"#DejaVuSans-65\" x=\"559.761719\"/>\n      <use xlink:href=\"#DejaVuSans-73\" x=\"621.285156\"/>\n      <use xlink:href=\"#DejaVuSans-68\" x=\"673.384766\"/>\n      <use xlink:href=\"#DejaVuSans-6f\" x=\"736.763672\"/>\n      <use xlink:href=\"#DejaVuSans-6c\" x=\"797.945312\"/>\n      <use xlink:href=\"#DejaVuSans-64\" x=\"825.728516\"/>\n      <use xlink:href=\"#DejaVuSans-20\" x=\"889.205078\"/>\n      <use xlink:href=\"#DejaVuSans-28\" x=\"920.992188\"/>\n      <use xlink:href=\"#DejaVuSans-70\" x=\"960.005859\"/>\n      <use xlink:href=\"#DejaVuSans-3d\" x=\"1023.482422\"/>\n      <use xlink:href=\"#DejaVuSans-30\" x=\"1107.271484\"/>\n      <use xlink:href=\"#DejaVuSans-2e\" x=\"1170.894531\"/>\n      <use xlink:href=\"#DejaVuSans-39\" x=\"1202.681641\"/>\n      <use xlink:href=\"#DejaVuSans-35\" x=\"1266.304688\"/>\n      <use xlink:href=\"#DejaVuSans-29\" x=\"1329.927734\"/>\n     </g>\n    </g>\n   </g>\n  </g>\n </g>\n <defs>\n  <clipPath id=\"p41542a5b6c\">\n   <rect x=\"50.93375\" y=\"24.14175\" width=\"281.736898\" height=\"170.848\"/>\n  </clipPath>\n  <clipPath id=\"p50b9c06f31\">\n   <rect x=\"398.815744\" y=\"24.14175\" width=\"281.736898\" height=\"170.848\"/>\n  </clipPath>\n </defs>\n</svg>\n",
            "application/pdf": "[encoded data removed]"
          },
          "metadata": {}
        }
      ],
      "source": [
        "#다음 토큰 예측의 확률 분포(왼쪽)과 내림차순으로 정렬된 토큰 확률의 누적 분포\n",
        "import matplotlib.pyplot as plt\n",
        "import numpy as np\n",
        "\n",
        "fig, axes = plt.subplots(1, 2, figsize=(10, 3.5))\n",
        "\n",
        "axes[0].hist(probs[0], bins=np.logspace(-10, -1, 100), color=\"C0\", edgecolor=\"C0\")\n",
        "axes[0].set_xscale(\"log\")\n",
        "axes[0].set_yscale(\"log\")\n",
        "axes[0].set_title(\"Probability distribution\")\n",
        "axes[0].set_xlabel(\"Probability\")\n",
        "axes[0].set_ylabel(\"Count\")\n",
        "#axes[0].grid(which=\"major\")\n",
        "\n",
        "axes[1].plot(np.cumsum(np.sort(probs[0])[::-1]), color=\"black\")\n",
        "axes[1].set_xlim([0, 10000])\n",
        "axes[1].set_ylim([0.75, 1.01])\n",
        "axes[1].set_title(\"Cumulative probability\")\n",
        "axes[1].set_ylabel(\"Probability\")\n",
        "axes[1].set_xlabel(\"Token (descending probability)\")\n",
        "#axes[1].grid(which=\"major\")\n",
        "axes[1].minorticks_on()\n",
        "#axes[1].grid(which='minor', linewidth='0.5')\n",
        "top_k_label = 'top-k threshold (k=2000)'\n",
        "top_p_label = 'nucleus threshold (p=0.95)'\n",
        "axes[1].vlines(x=2000, ymin=0, ymax=2, color='C0', label=top_k_label)\n",
        "axes[1].hlines(y=0.95, xmin=0, xmax=10000, color='C1', label=top_p_label, linestyle='--')\n",
        "axes[1].legend(loc='lower right')\n",
        "plt.tight_layout()"
      ]
    },
    {
      "cell_type": "code",
      "execution_count": 22,
      "metadata": {
        "id": "yRBMUG7ccc_k"
      },
      "outputs": [],
      "source": [
        "torch.manual_seed(42);"
      ]
    },
    {
      "cell_type": "code",
      "execution_count": 23,
      "metadata": {
        "id": "Sd1ChPKDcc_l",
        "outputId": "5ae61e41-c5df-4f6a-908c-aae8dcb5ca66",
        "colab": {
          "base_uri": "https://localhost:8080/"
        }
      },
      "outputs": [
        {
          "output_type": "stream",
          "name": "stdout",
          "text": [
            "In a shocking finding, scientist discovered a herd of unicorns living in a\n",
            "remote, previously unexplored valley, in the Andes Mountains. Even more\n",
            "surprising to the researchers was the fact that the unicorns spoke perfect\n",
            "English.\n",
            "\n",
            "\n",
            "The wild unicorns roam the Andes Mountains in the region of Cajamarca, on the\n",
            "border with Argentina (Picture: Alamy/Ecole Nationale Supérieure d'Histoire\n",
            "Naturelle)\n",
            "\n",
            "The researchers came across about 50 of the animals in the valley. They had\n",
            "lived in such a remote and isolated area at that location for nearly a thousand\n",
            "years that\n"
          ]
        }
      ],
      "source": [
        "output_topk = model.generate(input_ids, max_length=max_length, do_sample=True,\n",
        "                             top_k=50)\n",
        "print(tokenizer.decode(output_topk[0]))"
      ]
    },
    {
      "cell_type": "code",
      "execution_count": 24,
      "metadata": {
        "id": "QVNJEwY6cc_l"
      },
      "outputs": [],
      "source": [
        "torch.manual_seed(42);"
      ]
    },
    {
      "cell_type": "code",
      "execution_count": 25,
      "metadata": {
        "id": "6-1Cscndcc_l",
        "outputId": "8a561381-3a8c-4baf-b67e-79032e466693",
        "colab": {
          "base_uri": "https://localhost:8080/"
        }
      },
      "outputs": [
        {
          "output_type": "stream",
          "name": "stdout",
          "text": [
            "In a shocking finding, scientist discovered a herd of unicorns living in a\n",
            "remote, previously unexplored valley, in the Andes Mountains. Even more\n",
            "surprising to the researchers was the fact that the unicorns spoke perfect\n",
            "English.\n",
            "\n",
            "\n",
            "The scientists studied the DNA of the animals and came to the conclusion that\n",
            "the herd are descendants of a prehistoric herd that lived in Argentina about\n",
            "50,000 years ago.\n",
            "\n",
            "\n",
            "According to the scientific analysis, the first humans who migrated to South\n",
            "America migrated into the Andes Mountains from South Africa and Australia, after\n",
            "the last ice age had ended.\n",
            "\n",
            "\n",
            "Since their migration, the animals have been adapting to\n"
          ]
        }
      ],
      "source": [
        "output_topp = model.generate(input_ids, max_length=max_length, do_sample=True,\n",
        "                             top_p=0.90)\n",
        "print(tokenizer.decode(output_topp[0]))"
      ]
    },
    {
      "cell_type": "markdown",
      "metadata": {
        "jp-MarkdownHeadingCollapsed": true,
        "tags": [],
        "id": "VaRMmu7ncc_l"
      },
      "source": [
        "## 어떤 디코딩 방법이 최선일까요?"
      ]
    },
    {
      "cell_type": "markdown",
      "metadata": {
        "id": "D3gdiYlYcc_l"
      },
      "source": [
        "## 결론"
      ]
    }
  ],
  "metadata": {
    "kernelspec": {
      "display_name": "default:Python",
      "language": "python",
      "name": "conda-env-default-py"
    },
    "language_info": {
      "codemirror_mode": {
        "name": "ipython",
        "version": 3
      },
      "file_extension": ".py",
      "mimetype": "text/x-python",
      "name": "python",
      "nbconvert_exporter": "python",
      "pygments_lexer": "ipython3",
      "version": "3.9.10"
    },
    "colab": {
      "provenance": [],
      "machine_shape": "hm",
      "gpuType": "V100",
      "gpuClass": "premium"
    },
    "accelerator": "GPU",
    "widgets": {
      "application/vnd.jupyter.widget-state+json": {
        "fdfd2e3c4ece4a64b02e899e3adc7040": {
          "model_module": "@jupyter-widgets/controls",
          "model_name": "HBoxModel",
          "model_module_version": "1.5.0",
          "state": {
            "_dom_classes": [],
            "_model_module": "@jupyter-widgets/controls",
            "_model_module_version": "1.5.0",
            "_model_name": "HBoxModel",
            "_view_count": null,
            "_view_module": "@jupyter-widgets/controls",
            "_view_module_version": "1.5.0",
            "_view_name": "HBoxView",
            "box_style": "",
            "children": [
              "IPY_MODEL_2afa4472bf7443f288f85af7504e468f",
              "IPY_MODEL_e63cc6899dfc4c2ca4d129b13167ad44",
              "IPY_MODEL_746ece4505bf4f0cae51a9dd1ff6a737"
            ],
            "layout": "IPY_MODEL_926062147b744e6d90c3cfba2ee1a37b"
          }
        },
        "2afa4472bf7443f288f85af7504e468f": {
          "model_module": "@jupyter-widgets/controls",
          "model_name": "HTMLModel",
          "model_module_version": "1.5.0",
          "state": {
            "_dom_classes": [],
            "_model_module": "@jupyter-widgets/controls",
            "_model_module_version": "1.5.0",
            "_model_name": "HTMLModel",
            "_view_count": null,
            "_view_module": "@jupyter-widgets/controls",
            "_view_module_version": "1.5.0",
            "_view_name": "HTMLView",
            "description": "",
            "description_tooltip": null,
            "layout": "IPY_MODEL_dd5dc5b170e94802901060410e040e27",
            "placeholder": "​",
            "style": "IPY_MODEL_0e600864b02a4b2da7dd41ae44801631",
            "value": "Downloading (…)lve/main/config.json: 100%"
          }
        },
        "e63cc6899dfc4c2ca4d129b13167ad44": {
          "model_module": "@jupyter-widgets/controls",
          "model_name": "FloatProgressModel",
          "model_module_version": "1.5.0",
          "state": {
            "_dom_classes": [],
            "_model_module": "@jupyter-widgets/controls",
            "_model_module_version": "1.5.0",
            "_model_name": "FloatProgressModel",
            "_view_count": null,
            "_view_module": "@jupyter-widgets/controls",
            "_view_module_version": "1.5.0",
            "_view_name": "ProgressView",
            "bar_style": "success",
            "description": "",
            "description_tooltip": null,
            "layout": "IPY_MODEL_3d450a2de9564f54959405302fef053c",
            "max": 689,
            "min": 0,
            "orientation": "horizontal",
            "style": "IPY_MODEL_da2ece8aa36c42df8e963f33241f0069",
            "value": 689
          }
        },
        "746ece4505bf4f0cae51a9dd1ff6a737": {
          "model_module": "@jupyter-widgets/controls",
          "model_name": "HTMLModel",
          "model_module_version": "1.5.0",
          "state": {
            "_dom_classes": [],
            "_model_module": "@jupyter-widgets/controls",
            "_model_module_version": "1.5.0",
            "_model_name": "HTMLModel",
            "_view_count": null,
            "_view_module": "@jupyter-widgets/controls",
            "_view_module_version": "1.5.0",
            "_view_name": "HTMLView",
            "description": "",
            "description_tooltip": null,
            "layout": "IPY_MODEL_4413472d78324417899d8fe3e9793a86",
            "placeholder": "​",
            "style": "IPY_MODEL_116d61a4aaa84181aec947e514d3275e",
            "value": " 689/689 [00:00&lt;00:00, 51.5kB/s]"
          }
        },
        "926062147b744e6d90c3cfba2ee1a37b": {
          "model_module": "@jupyter-widgets/base",
          "model_name": "LayoutModel",
          "model_module_version": "1.2.0",
          "state": {
            "_model_module": "@jupyter-widgets/base",
            "_model_module_version": "1.2.0",
            "_model_name": "LayoutModel",
            "_view_count": null,
            "_view_module": "@jupyter-widgets/base",
            "_view_module_version": "1.2.0",
            "_view_name": "LayoutView",
            "align_content": null,
            "align_items": null,
            "align_self": null,
            "border": null,
            "bottom": null,
            "display": null,
            "flex": null,
            "flex_flow": null,
            "grid_area": null,
            "grid_auto_columns": null,
            "grid_auto_flow": null,
            "grid_auto_rows": null,
            "grid_column": null,
            "grid_gap": null,
            "grid_row": null,
            "grid_template_areas": null,
            "grid_template_columns": null,
            "grid_template_rows": null,
            "height": null,
            "justify_content": null,
            "justify_items": null,
            "left": null,
            "margin": null,
            "max_height": null,
            "max_width": null,
            "min_height": null,
            "min_width": null,
            "object_fit": null,
            "object_position": null,
            "order": null,
            "overflow": null,
            "overflow_x": null,
            "overflow_y": null,
            "padding": null,
            "right": null,
            "top": null,
            "visibility": null,
            "width": null
          }
        },
        "dd5dc5b170e94802901060410e040e27": {
          "model_module": "@jupyter-widgets/base",
          "model_name": "LayoutModel",
          "model_module_version": "1.2.0",
          "state": {
            "_model_module": "@jupyter-widgets/base",
            "_model_module_version": "1.2.0",
            "_model_name": "LayoutModel",
            "_view_count": null,
            "_view_module": "@jupyter-widgets/base",
            "_view_module_version": "1.2.0",
            "_view_name": "LayoutView",
            "align_content": null,
            "align_items": null,
            "align_self": null,
            "border": null,
            "bottom": null,
            "display": null,
            "flex": null,
            "flex_flow": null,
            "grid_area": null,
            "grid_auto_columns": null,
            "grid_auto_flow": null,
            "grid_auto_rows": null,
            "grid_column": null,
            "grid_gap": null,
            "grid_row": null,
            "grid_template_areas": null,
            "grid_template_columns": null,
            "grid_template_rows": null,
            "height": null,
            "justify_content": null,
            "justify_items": null,
            "left": null,
            "margin": null,
            "max_height": null,
            "max_width": null,
            "min_height": null,
            "min_width": null,
            "object_fit": null,
            "object_position": null,
            "order": null,
            "overflow": null,
            "overflow_x": null,
            "overflow_y": null,
            "padding": null,
            "right": null,
            "top": null,
            "visibility": null,
            "width": null
          }
        },
        "0e600864b02a4b2da7dd41ae44801631": {
          "model_module": "@jupyter-widgets/controls",
          "model_name": "DescriptionStyleModel",
          "model_module_version": "1.5.0",
          "state": {
            "_model_module": "@jupyter-widgets/controls",
            "_model_module_version": "1.5.0",
            "_model_name": "DescriptionStyleModel",
            "_view_count": null,
            "_view_module": "@jupyter-widgets/base",
            "_view_module_version": "1.2.0",
            "_view_name": "StyleView",
            "description_width": ""
          }
        },
        "3d450a2de9564f54959405302fef053c": {
          "model_module": "@jupyter-widgets/base",
          "model_name": "LayoutModel",
          "model_module_version": "1.2.0",
          "state": {
            "_model_module": "@jupyter-widgets/base",
            "_model_module_version": "1.2.0",
            "_model_name": "LayoutModel",
            "_view_count": null,
            "_view_module": "@jupyter-widgets/base",
            "_view_module_version": "1.2.0",
            "_view_name": "LayoutView",
            "align_content": null,
            "align_items": null,
            "align_self": null,
            "border": null,
            "bottom": null,
            "display": null,
            "flex": null,
            "flex_flow": null,
            "grid_area": null,
            "grid_auto_columns": null,
            "grid_auto_flow": null,
            "grid_auto_rows": null,
            "grid_column": null,
            "grid_gap": null,
            "grid_row": null,
            "grid_template_areas": null,
            "grid_template_columns": null,
            "grid_template_rows": null,
            "height": null,
            "justify_content": null,
            "justify_items": null,
            "left": null,
            "margin": null,
            "max_height": null,
            "max_width": null,
            "min_height": null,
            "min_width": null,
            "object_fit": null,
            "object_position": null,
            "order": null,
            "overflow": null,
            "overflow_x": null,
            "overflow_y": null,
            "padding": null,
            "right": null,
            "top": null,
            "visibility": null,
            "width": null
          }
        },
        "da2ece8aa36c42df8e963f33241f0069": {
          "model_module": "@jupyter-widgets/controls",
          "model_name": "ProgressStyleModel",
          "model_module_version": "1.5.0",
          "state": {
            "_model_module": "@jupyter-widgets/controls",
            "_model_module_version": "1.5.0",
            "_model_name": "ProgressStyleModel",
            "_view_count": null,
            "_view_module": "@jupyter-widgets/base",
            "_view_module_version": "1.2.0",
            "_view_name": "StyleView",
            "bar_color": null,
            "description_width": ""
          }
        },
        "4413472d78324417899d8fe3e9793a86": {
          "model_module": "@jupyter-widgets/base",
          "model_name": "LayoutModel",
          "model_module_version": "1.2.0",
          "state": {
            "_model_module": "@jupyter-widgets/base",
            "_model_module_version": "1.2.0",
            "_model_name": "LayoutModel",
            "_view_count": null,
            "_view_module": "@jupyter-widgets/base",
            "_view_module_version": "1.2.0",
            "_view_name": "LayoutView",
            "align_content": null,
            "align_items": null,
            "align_self": null,
            "border": null,
            "bottom": null,
            "display": null,
            "flex": null,
            "flex_flow": null,
            "grid_area": null,
            "grid_auto_columns": null,
            "grid_auto_flow": null,
            "grid_auto_rows": null,
            "grid_column": null,
            "grid_gap": null,
            "grid_row": null,
            "grid_template_areas": null,
            "grid_template_columns": null,
            "grid_template_rows": null,
            "height": null,
            "justify_content": null,
            "justify_items": null,
            "left": null,
            "margin": null,
            "max_height": null,
            "max_width": null,
            "min_height": null,
            "min_width": null,
            "object_fit": null,
            "object_position": null,
            "order": null,
            "overflow": null,
            "overflow_x": null,
            "overflow_y": null,
            "padding": null,
            "right": null,
            "top": null,
            "visibility": null,
            "width": null
          }
        },
        "116d61a4aaa84181aec947e514d3275e": {
          "model_module": "@jupyter-widgets/controls",
          "model_name": "DescriptionStyleModel",
          "model_module_version": "1.5.0",
          "state": {
            "_model_module": "@jupyter-widgets/controls",
            "_model_module_version": "1.5.0",
            "_model_name": "DescriptionStyleModel",
            "_view_count": null,
            "_view_module": "@jupyter-widgets/base",
            "_view_module_version": "1.2.0",
            "_view_name": "StyleView",
            "description_width": ""
          }
        },
        "e678d460005b48b2b346272c1ee88f67": {
          "model_module": "@jupyter-widgets/controls",
          "model_name": "HBoxModel",
          "model_module_version": "1.5.0",
          "state": {
            "_dom_classes": [],
            "_model_module": "@jupyter-widgets/controls",
            "_model_module_version": "1.5.0",
            "_model_name": "HBoxModel",
            "_view_count": null,
            "_view_module": "@jupyter-widgets/controls",
            "_view_module_version": "1.5.0",
            "_view_name": "HBoxView",
            "box_style": "",
            "children": [
              "IPY_MODEL_a852dc3ade054b8480fae6d209d828d6",
              "IPY_MODEL_07798ec896a9426c9e2e16198316342f",
              "IPY_MODEL_31cffae9a74241ddae2253282c94cd61"
            ],
            "layout": "IPY_MODEL_e363ed29dd714003b1b3e7d8a1caa120"
          }
        },
        "a852dc3ade054b8480fae6d209d828d6": {
          "model_module": "@jupyter-widgets/controls",
          "model_name": "HTMLModel",
          "model_module_version": "1.5.0",
          "state": {
            "_dom_classes": [],
            "_model_module": "@jupyter-widgets/controls",
            "_model_module_version": "1.5.0",
            "_model_name": "HTMLModel",
            "_view_count": null,
            "_view_module": "@jupyter-widgets/controls",
            "_view_module_version": "1.5.0",
            "_view_name": "HTMLView",
            "description": "",
            "description_tooltip": null,
            "layout": "IPY_MODEL_1f24f0fb4964402a8fd7f7f6efb7dadc",
            "placeholder": "​",
            "style": "IPY_MODEL_241d0c3697df43c7930cf1374c604bf5",
            "value": "Downloading (…)olve/main/vocab.json: 100%"
          }
        },
        "07798ec896a9426c9e2e16198316342f": {
          "model_module": "@jupyter-widgets/controls",
          "model_name": "FloatProgressModel",
          "model_module_version": "1.5.0",
          "state": {
            "_dom_classes": [],
            "_model_module": "@jupyter-widgets/controls",
            "_model_module_version": "1.5.0",
            "_model_name": "FloatProgressModel",
            "_view_count": null,
            "_view_module": "@jupyter-widgets/controls",
            "_view_module_version": "1.5.0",
            "_view_name": "ProgressView",
            "bar_style": "success",
            "description": "",
            "description_tooltip": null,
            "layout": "IPY_MODEL_ba137f5941994e8bb6107d69a5743e9d",
            "max": 1042301,
            "min": 0,
            "orientation": "horizontal",
            "style": "IPY_MODEL_5f5e758cbe884036b34c9b36367f615f",
            "value": 1042301
          }
        },
        "31cffae9a74241ddae2253282c94cd61": {
          "model_module": "@jupyter-widgets/controls",
          "model_name": "HTMLModel",
          "model_module_version": "1.5.0",
          "state": {
            "_dom_classes": [],
            "_model_module": "@jupyter-widgets/controls",
            "_model_module_version": "1.5.0",
            "_model_name": "HTMLModel",
            "_view_count": null,
            "_view_module": "@jupyter-widgets/controls",
            "_view_module_version": "1.5.0",
            "_view_name": "HTMLView",
            "description": "",
            "description_tooltip": null,
            "layout": "IPY_MODEL_f72a8fd8e3114aada253fe48acf81ffb",
            "placeholder": "​",
            "style": "IPY_MODEL_579ea57ff0af4e328804855721fd390e",
            "value": " 1.04M/1.04M [00:00&lt;00:00, 3.14MB/s]"
          }
        },
        "e363ed29dd714003b1b3e7d8a1caa120": {
          "model_module": "@jupyter-widgets/base",
          "model_name": "LayoutModel",
          "model_module_version": "1.2.0",
          "state": {
            "_model_module": "@jupyter-widgets/base",
            "_model_module_version": "1.2.0",
            "_model_name": "LayoutModel",
            "_view_count": null,
            "_view_module": "@jupyter-widgets/base",
            "_view_module_version": "1.2.0",
            "_view_name": "LayoutView",
            "align_content": null,
            "align_items": null,
            "align_self": null,
            "border": null,
            "bottom": null,
            "display": null,
            "flex": null,
            "flex_flow": null,
            "grid_area": null,
            "grid_auto_columns": null,
            "grid_auto_flow": null,
            "grid_auto_rows": null,
            "grid_column": null,
            "grid_gap": null,
            "grid_row": null,
            "grid_template_areas": null,
            "grid_template_columns": null,
            "grid_template_rows": null,
            "height": null,
            "justify_content": null,
            "justify_items": null,
            "left": null,
            "margin": null,
            "max_height": null,
            "max_width": null,
            "min_height": null,
            "min_width": null,
            "object_fit": null,
            "object_position": null,
            "order": null,
            "overflow": null,
            "overflow_x": null,
            "overflow_y": null,
            "padding": null,
            "right": null,
            "top": null,
            "visibility": null,
            "width": null
          }
        },
        "1f24f0fb4964402a8fd7f7f6efb7dadc": {
          "model_module": "@jupyter-widgets/base",
          "model_name": "LayoutModel",
          "model_module_version": "1.2.0",
          "state": {
            "_model_module": "@jupyter-widgets/base",
            "_model_module_version": "1.2.0",
            "_model_name": "LayoutModel",
            "_view_count": null,
            "_view_module": "@jupyter-widgets/base",
            "_view_module_version": "1.2.0",
            "_view_name": "LayoutView",
            "align_content": null,
            "align_items": null,
            "align_self": null,
            "border": null,
            "bottom": null,
            "display": null,
            "flex": null,
            "flex_flow": null,
            "grid_area": null,
            "grid_auto_columns": null,
            "grid_auto_flow": null,
            "grid_auto_rows": null,
            "grid_column": null,
            "grid_gap": null,
            "grid_row": null,
            "grid_template_areas": null,
            "grid_template_columns": null,
            "grid_template_rows": null,
            "height": null,
            "justify_content": null,
            "justify_items": null,
            "left": null,
            "margin": null,
            "max_height": null,
            "max_width": null,
            "min_height": null,
            "min_width": null,
            "object_fit": null,
            "object_position": null,
            "order": null,
            "overflow": null,
            "overflow_x": null,
            "overflow_y": null,
            "padding": null,
            "right": null,
            "top": null,
            "visibility": null,
            "width": null
          }
        },
        "241d0c3697df43c7930cf1374c604bf5": {
          "model_module": "@jupyter-widgets/controls",
          "model_name": "DescriptionStyleModel",
          "model_module_version": "1.5.0",
          "state": {
            "_model_module": "@jupyter-widgets/controls",
            "_model_module_version": "1.5.0",
            "_model_name": "DescriptionStyleModel",
            "_view_count": null,
            "_view_module": "@jupyter-widgets/base",
            "_view_module_version": "1.2.0",
            "_view_name": "StyleView",
            "description_width": ""
          }
        },
        "ba137f5941994e8bb6107d69a5743e9d": {
          "model_module": "@jupyter-widgets/base",
          "model_name": "LayoutModel",
          "model_module_version": "1.2.0",
          "state": {
            "_model_module": "@jupyter-widgets/base",
            "_model_module_version": "1.2.0",
            "_model_name": "LayoutModel",
            "_view_count": null,
            "_view_module": "@jupyter-widgets/base",
            "_view_module_version": "1.2.0",
            "_view_name": "LayoutView",
            "align_content": null,
            "align_items": null,
            "align_self": null,
            "border": null,
            "bottom": null,
            "display": null,
            "flex": null,
            "flex_flow": null,
            "grid_area": null,
            "grid_auto_columns": null,
            "grid_auto_flow": null,
            "grid_auto_rows": null,
            "grid_column": null,
            "grid_gap": null,
            "grid_row": null,
            "grid_template_areas": null,
            "grid_template_columns": null,
            "grid_template_rows": null,
            "height": null,
            "justify_content": null,
            "justify_items": null,
            "left": null,
            "margin": null,
            "max_height": null,
            "max_width": null,
            "min_height": null,
            "min_width": null,
            "object_fit": null,
            "object_position": null,
            "order": null,
            "overflow": null,
            "overflow_x": null,
            "overflow_y": null,
            "padding": null,
            "right": null,
            "top": null,
            "visibility": null,
            "width": null
          }
        },
        "5f5e758cbe884036b34c9b36367f615f": {
          "model_module": "@jupyter-widgets/controls",
          "model_name": "ProgressStyleModel",
          "model_module_version": "1.5.0",
          "state": {
            "_model_module": "@jupyter-widgets/controls",
            "_model_module_version": "1.5.0",
            "_model_name": "ProgressStyleModel",
            "_view_count": null,
            "_view_module": "@jupyter-widgets/base",
            "_view_module_version": "1.2.0",
            "_view_name": "StyleView",
            "bar_color": null,
            "description_width": ""
          }
        },
        "f72a8fd8e3114aada253fe48acf81ffb": {
          "model_module": "@jupyter-widgets/base",
          "model_name": "LayoutModel",
          "model_module_version": "1.2.0",
          "state": {
            "_model_module": "@jupyter-widgets/base",
            "_model_module_version": "1.2.0",
            "_model_name": "LayoutModel",
            "_view_count": null,
            "_view_module": "@jupyter-widgets/base",
            "_view_module_version": "1.2.0",
            "_view_name": "LayoutView",
            "align_content": null,
            "align_items": null,
            "align_self": null,
            "border": null,
            "bottom": null,
            "display": null,
            "flex": null,
            "flex_flow": null,
            "grid_area": null,
            "grid_auto_columns": null,
            "grid_auto_flow": null,
            "grid_auto_rows": null,
            "grid_column": null,
            "grid_gap": null,
            "grid_row": null,
            "grid_template_areas": null,
            "grid_template_columns": null,
            "grid_template_rows": null,
            "height": null,
            "justify_content": null,
            "justify_items": null,
            "left": null,
            "margin": null,
            "max_height": null,
            "max_width": null,
            "min_height": null,
            "min_width": null,
            "object_fit": null,
            "object_position": null,
            "order": null,
            "overflow": null,
            "overflow_x": null,
            "overflow_y": null,
            "padding": null,
            "right": null,
            "top": null,
            "visibility": null,
            "width": null
          }
        },
        "579ea57ff0af4e328804855721fd390e": {
          "model_module": "@jupyter-widgets/controls",
          "model_name": "DescriptionStyleModel",
          "model_module_version": "1.5.0",
          "state": {
            "_model_module": "@jupyter-widgets/controls",
            "_model_module_version": "1.5.0",
            "_model_name": "DescriptionStyleModel",
            "_view_count": null,
            "_view_module": "@jupyter-widgets/base",
            "_view_module_version": "1.2.0",
            "_view_name": "StyleView",
            "description_width": ""
          }
        },
        "7554d182a2244dba99939ce3fc246422": {
          "model_module": "@jupyter-widgets/controls",
          "model_name": "HBoxModel",
          "model_module_version": "1.5.0",
          "state": {
            "_dom_classes": [],
            "_model_module": "@jupyter-widgets/controls",
            "_model_module_version": "1.5.0",
            "_model_name": "HBoxModel",
            "_view_count": null,
            "_view_module": "@jupyter-widgets/controls",
            "_view_module_version": "1.5.0",
            "_view_name": "HBoxView",
            "box_style": "",
            "children": [
              "IPY_MODEL_ee0d89dab2f44506900b78153b06b5cb",
              "IPY_MODEL_1b2c315f35d84bbc987a049ef80374cc",
              "IPY_MODEL_2e7675ac082a450fbf0e37b12fb7a057"
            ],
            "layout": "IPY_MODEL_d254b773ee6c40cca6c71326b9318208"
          }
        },
        "ee0d89dab2f44506900b78153b06b5cb": {
          "model_module": "@jupyter-widgets/controls",
          "model_name": "HTMLModel",
          "model_module_version": "1.5.0",
          "state": {
            "_dom_classes": [],
            "_model_module": "@jupyter-widgets/controls",
            "_model_module_version": "1.5.0",
            "_model_name": "HTMLModel",
            "_view_count": null,
            "_view_module": "@jupyter-widgets/controls",
            "_view_module_version": "1.5.0",
            "_view_name": "HTMLView",
            "description": "",
            "description_tooltip": null,
            "layout": "IPY_MODEL_c0d9bc37aac344daba826de76478e675",
            "placeholder": "​",
            "style": "IPY_MODEL_ccb05b15382642168b1bff9038ae7a47",
            "value": "Downloading (…)olve/main/merges.txt: 100%"
          }
        },
        "1b2c315f35d84bbc987a049ef80374cc": {
          "model_module": "@jupyter-widgets/controls",
          "model_name": "FloatProgressModel",
          "model_module_version": "1.5.0",
          "state": {
            "_dom_classes": [],
            "_model_module": "@jupyter-widgets/controls",
            "_model_module_version": "1.5.0",
            "_model_name": "FloatProgressModel",
            "_view_count": null,
            "_view_module": "@jupyter-widgets/controls",
            "_view_module_version": "1.5.0",
            "_view_name": "ProgressView",
            "bar_style": "success",
            "description": "",
            "description_tooltip": null,
            "layout": "IPY_MODEL_ecb2e657c1244a0f9c4e457f07e98cc5",
            "max": 456318,
            "min": 0,
            "orientation": "horizontal",
            "style": "IPY_MODEL_e500676f881c45bfa8e3f273761ed396",
            "value": 456318
          }
        },
        "2e7675ac082a450fbf0e37b12fb7a057": {
          "model_module": "@jupyter-widgets/controls",
          "model_name": "HTMLModel",
          "model_module_version": "1.5.0",
          "state": {
            "_dom_classes": [],
            "_model_module": "@jupyter-widgets/controls",
            "_model_module_version": "1.5.0",
            "_model_name": "HTMLModel",
            "_view_count": null,
            "_view_module": "@jupyter-widgets/controls",
            "_view_module_version": "1.5.0",
            "_view_name": "HTMLView",
            "description": "",
            "description_tooltip": null,
            "layout": "IPY_MODEL_6cf91164e36948f8912f198f0f2d57ae",
            "placeholder": "​",
            "style": "IPY_MODEL_0c90c963724042db83164f4377dc5b7a",
            "value": " 456k/456k [00:00&lt;00:00, 1.88MB/s]"
          }
        },
        "d254b773ee6c40cca6c71326b9318208": {
          "model_module": "@jupyter-widgets/base",
          "model_name": "LayoutModel",
          "model_module_version": "1.2.0",
          "state": {
            "_model_module": "@jupyter-widgets/base",
            "_model_module_version": "1.2.0",
            "_model_name": "LayoutModel",
            "_view_count": null,
            "_view_module": "@jupyter-widgets/base",
            "_view_module_version": "1.2.0",
            "_view_name": "LayoutView",
            "align_content": null,
            "align_items": null,
            "align_self": null,
            "border": null,
            "bottom": null,
            "display": null,
            "flex": null,
            "flex_flow": null,
            "grid_area": null,
            "grid_auto_columns": null,
            "grid_auto_flow": null,
            "grid_auto_rows": null,
            "grid_column": null,
            "grid_gap": null,
            "grid_row": null,
            "grid_template_areas": null,
            "grid_template_columns": null,
            "grid_template_rows": null,
            "height": null,
            "justify_content": null,
            "justify_items": null,
            "left": null,
            "margin": null,
            "max_height": null,
            "max_width": null,
            "min_height": null,
            "min_width": null,
            "object_fit": null,
            "object_position": null,
            "order": null,
            "overflow": null,
            "overflow_x": null,
            "overflow_y": null,
            "padding": null,
            "right": null,
            "top": null,
            "visibility": null,
            "width": null
          }
        },
        "c0d9bc37aac344daba826de76478e675": {
          "model_module": "@jupyter-widgets/base",
          "model_name": "LayoutModel",
          "model_module_version": "1.2.0",
          "state": {
            "_model_module": "@jupyter-widgets/base",
            "_model_module_version": "1.2.0",
            "_model_name": "LayoutModel",
            "_view_count": null,
            "_view_module": "@jupyter-widgets/base",
            "_view_module_version": "1.2.0",
            "_view_name": "LayoutView",
            "align_content": null,
            "align_items": null,
            "align_self": null,
            "border": null,
            "bottom": null,
            "display": null,
            "flex": null,
            "flex_flow": null,
            "grid_area": null,
            "grid_auto_columns": null,
            "grid_auto_flow": null,
            "grid_auto_rows": null,
            "grid_column": null,
            "grid_gap": null,
            "grid_row": null,
            "grid_template_areas": null,
            "grid_template_columns": null,
            "grid_template_rows": null,
            "height": null,
            "justify_content": null,
            "justify_items": null,
            "left": null,
            "margin": null,
            "max_height": null,
            "max_width": null,
            "min_height": null,
            "min_width": null,
            "object_fit": null,
            "object_position": null,
            "order": null,
            "overflow": null,
            "overflow_x": null,
            "overflow_y": null,
            "padding": null,
            "right": null,
            "top": null,
            "visibility": null,
            "width": null
          }
        },
        "ccb05b15382642168b1bff9038ae7a47": {
          "model_module": "@jupyter-widgets/controls",
          "model_name": "DescriptionStyleModel",
          "model_module_version": "1.5.0",
          "state": {
            "_model_module": "@jupyter-widgets/controls",
            "_model_module_version": "1.5.0",
            "_model_name": "DescriptionStyleModel",
            "_view_count": null,
            "_view_module": "@jupyter-widgets/base",
            "_view_module_version": "1.2.0",
            "_view_name": "StyleView",
            "description_width": ""
          }
        },
        "ecb2e657c1244a0f9c4e457f07e98cc5": {
          "model_module": "@jupyter-widgets/base",
          "model_name": "LayoutModel",
          "model_module_version": "1.2.0",
          "state": {
            "_model_module": "@jupyter-widgets/base",
            "_model_module_version": "1.2.0",
            "_model_name": "LayoutModel",
            "_view_count": null,
            "_view_module": "@jupyter-widgets/base",
            "_view_module_version": "1.2.0",
            "_view_name": "LayoutView",
            "align_content": null,
            "align_items": null,
            "align_self": null,
            "border": null,
            "bottom": null,
            "display": null,
            "flex": null,
            "flex_flow": null,
            "grid_area": null,
            "grid_auto_columns": null,
            "grid_auto_flow": null,
            "grid_auto_rows": null,
            "grid_column": null,
            "grid_gap": null,
            "grid_row": null,
            "grid_template_areas": null,
            "grid_template_columns": null,
            "grid_template_rows": null,
            "height": null,
            "justify_content": null,
            "justify_items": null,
            "left": null,
            "margin": null,
            "max_height": null,
            "max_width": null,
            "min_height": null,
            "min_width": null,
            "object_fit": null,
            "object_position": null,
            "order": null,
            "overflow": null,
            "overflow_x": null,
            "overflow_y": null,
            "padding": null,
            "right": null,
            "top": null,
            "visibility": null,
            "width": null
          }
        },
        "e500676f881c45bfa8e3f273761ed396": {
          "model_module": "@jupyter-widgets/controls",
          "model_name": "ProgressStyleModel",
          "model_module_version": "1.5.0",
          "state": {
            "_model_module": "@jupyter-widgets/controls",
            "_model_module_version": "1.5.0",
            "_model_name": "ProgressStyleModel",
            "_view_count": null,
            "_view_module": "@jupyter-widgets/base",
            "_view_module_version": "1.2.0",
            "_view_name": "StyleView",
            "bar_color": null,
            "description_width": ""
          }
        },
        "6cf91164e36948f8912f198f0f2d57ae": {
          "model_module": "@jupyter-widgets/base",
          "model_name": "LayoutModel",
          "model_module_version": "1.2.0",
          "state": {
            "_model_module": "@jupyter-widgets/base",
            "_model_module_version": "1.2.0",
            "_model_name": "LayoutModel",
            "_view_count": null,
            "_view_module": "@jupyter-widgets/base",
            "_view_module_version": "1.2.0",
            "_view_name": "LayoutView",
            "align_content": null,
            "align_items": null,
            "align_self": null,
            "border": null,
            "bottom": null,
            "display": null,
            "flex": null,
            "flex_flow": null,
            "grid_area": null,
            "grid_auto_columns": null,
            "grid_auto_flow": null,
            "grid_auto_rows": null,
            "grid_column": null,
            "grid_gap": null,
            "grid_row": null,
            "grid_template_areas": null,
            "grid_template_columns": null,
            "grid_template_rows": null,
            "height": null,
            "justify_content": null,
            "justify_items": null,
            "left": null,
            "margin": null,
            "max_height": null,
            "max_width": null,
            "min_height": null,
            "min_width": null,
            "object_fit": null,
            "object_position": null,
            "order": null,
            "overflow": null,
            "overflow_x": null,
            "overflow_y": null,
            "padding": null,
            "right": null,
            "top": null,
            "visibility": null,
            "width": null
          }
        },
        "0c90c963724042db83164f4377dc5b7a": {
          "model_module": "@jupyter-widgets/controls",
          "model_name": "DescriptionStyleModel",
          "model_module_version": "1.5.0",
          "state": {
            "_model_module": "@jupyter-widgets/controls",
            "_model_module_version": "1.5.0",
            "_model_name": "DescriptionStyleModel",
            "_view_count": null,
            "_view_module": "@jupyter-widgets/base",
            "_view_module_version": "1.2.0",
            "_view_name": "StyleView",
            "description_width": ""
          }
        },
        "4f87e7312c584e64a35772340a47e74e": {
          "model_module": "@jupyter-widgets/controls",
          "model_name": "HBoxModel",
          "model_module_version": "1.5.0",
          "state": {
            "_dom_classes": [],
            "_model_module": "@jupyter-widgets/controls",
            "_model_module_version": "1.5.0",
            "_model_name": "HBoxModel",
            "_view_count": null,
            "_view_module": "@jupyter-widgets/controls",
            "_view_module_version": "1.5.0",
            "_view_name": "HBoxView",
            "box_style": "",
            "children": [
              "IPY_MODEL_fbf645de786641249ea2cbca76960333",
              "IPY_MODEL_3444f5437aa347c290864bba2f1d0e1d",
              "IPY_MODEL_5af550220885415b84c0ede24535e482"
            ],
            "layout": "IPY_MODEL_155a66b09f4c4a0f9c32ca28c3c57295"
          }
        },
        "fbf645de786641249ea2cbca76960333": {
          "model_module": "@jupyter-widgets/controls",
          "model_name": "HTMLModel",
          "model_module_version": "1.5.0",
          "state": {
            "_dom_classes": [],
            "_model_module": "@jupyter-widgets/controls",
            "_model_module_version": "1.5.0",
            "_model_name": "HTMLModel",
            "_view_count": null,
            "_view_module": "@jupyter-widgets/controls",
            "_view_module_version": "1.5.0",
            "_view_name": "HTMLView",
            "description": "",
            "description_tooltip": null,
            "layout": "IPY_MODEL_ba0e96a5312b4f5bbedae9f46fbff98b",
            "placeholder": "​",
            "style": "IPY_MODEL_1cc3e6e068ea4997bf472d9fba5edacf",
            "value": "Downloading (…)/main/tokenizer.json: 100%"
          }
        },
        "3444f5437aa347c290864bba2f1d0e1d": {
          "model_module": "@jupyter-widgets/controls",
          "model_name": "FloatProgressModel",
          "model_module_version": "1.5.0",
          "state": {
            "_dom_classes": [],
            "_model_module": "@jupyter-widgets/controls",
            "_model_module_version": "1.5.0",
            "_model_name": "FloatProgressModel",
            "_view_count": null,
            "_view_module": "@jupyter-widgets/controls",
            "_view_module_version": "1.5.0",
            "_view_name": "ProgressView",
            "bar_style": "success",
            "description": "",
            "description_tooltip": null,
            "layout": "IPY_MODEL_0cff7d55bee84ca4bd842e4d4fb53676",
            "max": 1355256,
            "min": 0,
            "orientation": "horizontal",
            "style": "IPY_MODEL_09f94fdefa1e4c4b98051bfea7721281",
            "value": 1355256
          }
        },
        "5af550220885415b84c0ede24535e482": {
          "model_module": "@jupyter-widgets/controls",
          "model_name": "HTMLModel",
          "model_module_version": "1.5.0",
          "state": {
            "_dom_classes": [],
            "_model_module": "@jupyter-widgets/controls",
            "_model_module_version": "1.5.0",
            "_model_name": "HTMLModel",
            "_view_count": null,
            "_view_module": "@jupyter-widgets/controls",
            "_view_module_version": "1.5.0",
            "_view_name": "HTMLView",
            "description": "",
            "description_tooltip": null,
            "layout": "IPY_MODEL_d191f0a42a8f46ce806c84c38af651eb",
            "placeholder": "​",
            "style": "IPY_MODEL_5b2b1329c2104d6db2eb598ae8bf20b5",
            "value": " 1.36M/1.36M [00:00&lt;00:00, 15.3MB/s]"
          }
        },
        "155a66b09f4c4a0f9c32ca28c3c57295": {
          "model_module": "@jupyter-widgets/base",
          "model_name": "LayoutModel",
          "model_module_version": "1.2.0",
          "state": {
            "_model_module": "@jupyter-widgets/base",
            "_model_module_version": "1.2.0",
            "_model_name": "LayoutModel",
            "_view_count": null,
            "_view_module": "@jupyter-widgets/base",
            "_view_module_version": "1.2.0",
            "_view_name": "LayoutView",
            "align_content": null,
            "align_items": null,
            "align_self": null,
            "border": null,
            "bottom": null,
            "display": null,
            "flex": null,
            "flex_flow": null,
            "grid_area": null,
            "grid_auto_columns": null,
            "grid_auto_flow": null,
            "grid_auto_rows": null,
            "grid_column": null,
            "grid_gap": null,
            "grid_row": null,
            "grid_template_areas": null,
            "grid_template_columns": null,
            "grid_template_rows": null,
            "height": null,
            "justify_content": null,
            "justify_items": null,
            "left": null,
            "margin": null,
            "max_height": null,
            "max_width": null,
            "min_height": null,
            "min_width": null,
            "object_fit": null,
            "object_position": null,
            "order": null,
            "overflow": null,
            "overflow_x": null,
            "overflow_y": null,
            "padding": null,
            "right": null,
            "top": null,
            "visibility": null,
            "width": null
          }
        },
        "ba0e96a5312b4f5bbedae9f46fbff98b": {
          "model_module": "@jupyter-widgets/base",
          "model_name": "LayoutModel",
          "model_module_version": "1.2.0",
          "state": {
            "_model_module": "@jupyter-widgets/base",
            "_model_module_version": "1.2.0",
            "_model_name": "LayoutModel",
            "_view_count": null,
            "_view_module": "@jupyter-widgets/base",
            "_view_module_version": "1.2.0",
            "_view_name": "LayoutView",
            "align_content": null,
            "align_items": null,
            "align_self": null,
            "border": null,
            "bottom": null,
            "display": null,
            "flex": null,
            "flex_flow": null,
            "grid_area": null,
            "grid_auto_columns": null,
            "grid_auto_flow": null,
            "grid_auto_rows": null,
            "grid_column": null,
            "grid_gap": null,
            "grid_row": null,
            "grid_template_areas": null,
            "grid_template_columns": null,
            "grid_template_rows": null,
            "height": null,
            "justify_content": null,
            "justify_items": null,
            "left": null,
            "margin": null,
            "max_height": null,
            "max_width": null,
            "min_height": null,
            "min_width": null,
            "object_fit": null,
            "object_position": null,
            "order": null,
            "overflow": null,
            "overflow_x": null,
            "overflow_y": null,
            "padding": null,
            "right": null,
            "top": null,
            "visibility": null,
            "width": null
          }
        },
        "1cc3e6e068ea4997bf472d9fba5edacf": {
          "model_module": "@jupyter-widgets/controls",
          "model_name": "DescriptionStyleModel",
          "model_module_version": "1.5.0",
          "state": {
            "_model_module": "@jupyter-widgets/controls",
            "_model_module_version": "1.5.0",
            "_model_name": "DescriptionStyleModel",
            "_view_count": null,
            "_view_module": "@jupyter-widgets/base",
            "_view_module_version": "1.2.0",
            "_view_name": "StyleView",
            "description_width": ""
          }
        },
        "0cff7d55bee84ca4bd842e4d4fb53676": {
          "model_module": "@jupyter-widgets/base",
          "model_name": "LayoutModel",
          "model_module_version": "1.2.0",
          "state": {
            "_model_module": "@jupyter-widgets/base",
            "_model_module_version": "1.2.0",
            "_model_name": "LayoutModel",
            "_view_count": null,
            "_view_module": "@jupyter-widgets/base",
            "_view_module_version": "1.2.0",
            "_view_name": "LayoutView",
            "align_content": null,
            "align_items": null,
            "align_self": null,
            "border": null,
            "bottom": null,
            "display": null,
            "flex": null,
            "flex_flow": null,
            "grid_area": null,
            "grid_auto_columns": null,
            "grid_auto_flow": null,
            "grid_auto_rows": null,
            "grid_column": null,
            "grid_gap": null,
            "grid_row": null,
            "grid_template_areas": null,
            "grid_template_columns": null,
            "grid_template_rows": null,
            "height": null,
            "justify_content": null,
            "justify_items": null,
            "left": null,
            "margin": null,
            "max_height": null,
            "max_width": null,
            "min_height": null,
            "min_width": null,
            "object_fit": null,
            "object_position": null,
            "order": null,
            "overflow": null,
            "overflow_x": null,
            "overflow_y": null,
            "padding": null,
            "right": null,
            "top": null,
            "visibility": null,
            "width": null
          }
        },
        "09f94fdefa1e4c4b98051bfea7721281": {
          "model_module": "@jupyter-widgets/controls",
          "model_name": "ProgressStyleModel",
          "model_module_version": "1.5.0",
          "state": {
            "_model_module": "@jupyter-widgets/controls",
            "_model_module_version": "1.5.0",
            "_model_name": "ProgressStyleModel",
            "_view_count": null,
            "_view_module": "@jupyter-widgets/base",
            "_view_module_version": "1.2.0",
            "_view_name": "StyleView",
            "bar_color": null,
            "description_width": ""
          }
        },
        "d191f0a42a8f46ce806c84c38af651eb": {
          "model_module": "@jupyter-widgets/base",
          "model_name": "LayoutModel",
          "model_module_version": "1.2.0",
          "state": {
            "_model_module": "@jupyter-widgets/base",
            "_model_module_version": "1.2.0",
            "_model_name": "LayoutModel",
            "_view_count": null,
            "_view_module": "@jupyter-widgets/base",
            "_view_module_version": "1.2.0",
            "_view_name": "LayoutView",
            "align_content": null,
            "align_items": null,
            "align_self": null,
            "border": null,
            "bottom": null,
            "display": null,
            "flex": null,
            "flex_flow": null,
            "grid_area": null,
            "grid_auto_columns": null,
            "grid_auto_flow": null,
            "grid_auto_rows": null,
            "grid_column": null,
            "grid_gap": null,
            "grid_row": null,
            "grid_template_areas": null,
            "grid_template_columns": null,
            "grid_template_rows": null,
            "height": null,
            "justify_content": null,
            "justify_items": null,
            "left": null,
            "margin": null,
            "max_height": null,
            "max_width": null,
            "min_height": null,
            "min_width": null,
            "object_fit": null,
            "object_position": null,
            "order": null,
            "overflow": null,
            "overflow_x": null,
            "overflow_y": null,
            "padding": null,
            "right": null,
            "top": null,
            "visibility": null,
            "width": null
          }
        },
        "5b2b1329c2104d6db2eb598ae8bf20b5": {
          "model_module": "@jupyter-widgets/controls",
          "model_name": "DescriptionStyleModel",
          "model_module_version": "1.5.0",
          "state": {
            "_model_module": "@jupyter-widgets/controls",
            "_model_module_version": "1.5.0",
            "_model_name": "DescriptionStyleModel",
            "_view_count": null,
            "_view_module": "@jupyter-widgets/base",
            "_view_module_version": "1.2.0",
            "_view_name": "StyleView",
            "description_width": ""
          }
        },
        "106a064921ba4e22a424b2b82e644ff1": {
          "model_module": "@jupyter-widgets/controls",
          "model_name": "HBoxModel",
          "model_module_version": "1.5.0",
          "state": {
            "_dom_classes": [],
            "_model_module": "@jupyter-widgets/controls",
            "_model_module_version": "1.5.0",
            "_model_name": "HBoxModel",
            "_view_count": null,
            "_view_module": "@jupyter-widgets/controls",
            "_view_module_version": "1.5.0",
            "_view_name": "HBoxView",
            "box_style": "",
            "children": [
              "IPY_MODEL_c64503f738e2456f9bff4e98d168e84c",
              "IPY_MODEL_740da980f3e846b18d9e5767d94ccc53",
              "IPY_MODEL_6b5ad623a8544f7c815cb95e8f6adbd2"
            ],
            "layout": "IPY_MODEL_7a363d0c4bbd4904b0bf13f762a84219"
          }
        },
        "c64503f738e2456f9bff4e98d168e84c": {
          "model_module": "@jupyter-widgets/controls",
          "model_name": "HTMLModel",
          "model_module_version": "1.5.0",
          "state": {
            "_dom_classes": [],
            "_model_module": "@jupyter-widgets/controls",
            "_model_module_version": "1.5.0",
            "_model_name": "HTMLModel",
            "_view_count": null,
            "_view_module": "@jupyter-widgets/controls",
            "_view_module_version": "1.5.0",
            "_view_name": "HTMLView",
            "description": "",
            "description_tooltip": null,
            "layout": "IPY_MODEL_681bb6f81465487f836235e0b556e087",
            "placeholder": "​",
            "style": "IPY_MODEL_74230a5fdd9e4c1185856af239beedd2",
            "value": "Downloading pytorch_model.bin: 100%"
          }
        },
        "740da980f3e846b18d9e5767d94ccc53": {
          "model_module": "@jupyter-widgets/controls",
          "model_name": "FloatProgressModel",
          "model_module_version": "1.5.0",
          "state": {
            "_dom_classes": [],
            "_model_module": "@jupyter-widgets/controls",
            "_model_module_version": "1.5.0",
            "_model_name": "FloatProgressModel",
            "_view_count": null,
            "_view_module": "@jupyter-widgets/controls",
            "_view_module_version": "1.5.0",
            "_view_name": "ProgressView",
            "bar_style": "success",
            "description": "",
            "description_tooltip": null,
            "layout": "IPY_MODEL_bc335ab42e304810b67c977d182a847b",
            "max": 6431878936,
            "min": 0,
            "orientation": "horizontal",
            "style": "IPY_MODEL_e8f2eabee611429c930fa09e3de00b2f",
            "value": 6431878936
          }
        },
        "6b5ad623a8544f7c815cb95e8f6adbd2": {
          "model_module": "@jupyter-widgets/controls",
          "model_name": "HTMLModel",
          "model_module_version": "1.5.0",
          "state": {
            "_dom_classes": [],
            "_model_module": "@jupyter-widgets/controls",
            "_model_module_version": "1.5.0",
            "_model_name": "HTMLModel",
            "_view_count": null,
            "_view_module": "@jupyter-widgets/controls",
            "_view_module_version": "1.5.0",
            "_view_name": "HTMLView",
            "description": "",
            "description_tooltip": null,
            "layout": "IPY_MODEL_0fbdf570022743909a0086975dacae62",
            "placeholder": "​",
            "style": "IPY_MODEL_214abc0a07254365b9bbe278c6b744b2",
            "value": " 6.43G/6.43G [00:20&lt;00:00, 389MB/s]"
          }
        },
        "7a363d0c4bbd4904b0bf13f762a84219": {
          "model_module": "@jupyter-widgets/base",
          "model_name": "LayoutModel",
          "model_module_version": "1.2.0",
          "state": {
            "_model_module": "@jupyter-widgets/base",
            "_model_module_version": "1.2.0",
            "_model_name": "LayoutModel",
            "_view_count": null,
            "_view_module": "@jupyter-widgets/base",
            "_view_module_version": "1.2.0",
            "_view_name": "LayoutView",
            "align_content": null,
            "align_items": null,
            "align_self": null,
            "border": null,
            "bottom": null,
            "display": null,
            "flex": null,
            "flex_flow": null,
            "grid_area": null,
            "grid_auto_columns": null,
            "grid_auto_flow": null,
            "grid_auto_rows": null,
            "grid_column": null,
            "grid_gap": null,
            "grid_row": null,
            "grid_template_areas": null,
            "grid_template_columns": null,
            "grid_template_rows": null,
            "height": null,
            "justify_content": null,
            "justify_items": null,
            "left": null,
            "margin": null,
            "max_height": null,
            "max_width": null,
            "min_height": null,
            "min_width": null,
            "object_fit": null,
            "object_position": null,
            "order": null,
            "overflow": null,
            "overflow_x": null,
            "overflow_y": null,
            "padding": null,
            "right": null,
            "top": null,
            "visibility": null,
            "width": null
          }
        },
        "681bb6f81465487f836235e0b556e087": {
          "model_module": "@jupyter-widgets/base",
          "model_name": "LayoutModel",
          "model_module_version": "1.2.0",
          "state": {
            "_model_module": "@jupyter-widgets/base",
            "_model_module_version": "1.2.0",
            "_model_name": "LayoutModel",
            "_view_count": null,
            "_view_module": "@jupyter-widgets/base",
            "_view_module_version": "1.2.0",
            "_view_name": "LayoutView",
            "align_content": null,
            "align_items": null,
            "align_self": null,
            "border": null,
            "bottom": null,
            "display": null,
            "flex": null,
            "flex_flow": null,
            "grid_area": null,
            "grid_auto_columns": null,
            "grid_auto_flow": null,
            "grid_auto_rows": null,
            "grid_column": null,
            "grid_gap": null,
            "grid_row": null,
            "grid_template_areas": null,
            "grid_template_columns": null,
            "grid_template_rows": null,
            "height": null,
            "justify_content": null,
            "justify_items": null,
            "left": null,
            "margin": null,
            "max_height": null,
            "max_width": null,
            "min_height": null,
            "min_width": null,
            "object_fit": null,
            "object_position": null,
            "order": null,
            "overflow": null,
            "overflow_x": null,
            "overflow_y": null,
            "padding": null,
            "right": null,
            "top": null,
            "visibility": null,
            "width": null
          }
        },
        "74230a5fdd9e4c1185856af239beedd2": {
          "model_module": "@jupyter-widgets/controls",
          "model_name": "DescriptionStyleModel",
          "model_module_version": "1.5.0",
          "state": {
            "_model_module": "@jupyter-widgets/controls",
            "_model_module_version": "1.5.0",
            "_model_name": "DescriptionStyleModel",
            "_view_count": null,
            "_view_module": "@jupyter-widgets/base",
            "_view_module_version": "1.2.0",
            "_view_name": "StyleView",
            "description_width": ""
          }
        },
        "bc335ab42e304810b67c977d182a847b": {
          "model_module": "@jupyter-widgets/base",
          "model_name": "LayoutModel",
          "model_module_version": "1.2.0",
          "state": {
            "_model_module": "@jupyter-widgets/base",
            "_model_module_version": "1.2.0",
            "_model_name": "LayoutModel",
            "_view_count": null,
            "_view_module": "@jupyter-widgets/base",
            "_view_module_version": "1.2.0",
            "_view_name": "LayoutView",
            "align_content": null,
            "align_items": null,
            "align_self": null,
            "border": null,
            "bottom": null,
            "display": null,
            "flex": null,
            "flex_flow": null,
            "grid_area": null,
            "grid_auto_columns": null,
            "grid_auto_flow": null,
            "grid_auto_rows": null,
            "grid_column": null,
            "grid_gap": null,
            "grid_row": null,
            "grid_template_areas": null,
            "grid_template_columns": null,
            "grid_template_rows": null,
            "height": null,
            "justify_content": null,
            "justify_items": null,
            "left": null,
            "margin": null,
            "max_height": null,
            "max_width": null,
            "min_height": null,
            "min_width": null,
            "object_fit": null,
            "object_position": null,
            "order": null,
            "overflow": null,
            "overflow_x": null,
            "overflow_y": null,
            "padding": null,
            "right": null,
            "top": null,
            "visibility": null,
            "width": null
          }
        },
        "e8f2eabee611429c930fa09e3de00b2f": {
          "model_module": "@jupyter-widgets/controls",
          "model_name": "ProgressStyleModel",
          "model_module_version": "1.5.0",
          "state": {
            "_model_module": "@jupyter-widgets/controls",
            "_model_module_version": "1.5.0",
            "_model_name": "ProgressStyleModel",
            "_view_count": null,
            "_view_module": "@jupyter-widgets/base",
            "_view_module_version": "1.2.0",
            "_view_name": "StyleView",
            "bar_color": null,
            "description_width": ""
          }
        },
        "0fbdf570022743909a0086975dacae62": {
          "model_module": "@jupyter-widgets/base",
          "model_name": "LayoutModel",
          "model_module_version": "1.2.0",
          "state": {
            "_model_module": "@jupyter-widgets/base",
            "_model_module_version": "1.2.0",
            "_model_name": "LayoutModel",
            "_view_count": null,
            "_view_module": "@jupyter-widgets/base",
            "_view_module_version": "1.2.0",
            "_view_name": "LayoutView",
            "align_content": null,
            "align_items": null,
            "align_self": null,
            "border": null,
            "bottom": null,
            "display": null,
            "flex": null,
            "flex_flow": null,
            "grid_area": null,
            "grid_auto_columns": null,
            "grid_auto_flow": null,
            "grid_auto_rows": null,
            "grid_column": null,
            "grid_gap": null,
            "grid_row": null,
            "grid_template_areas": null,
            "grid_template_columns": null,
            "grid_template_rows": null,
            "height": null,
            "justify_content": null,
            "justify_items": null,
            "left": null,
            "margin": null,
            "max_height": null,
            "max_width": null,
            "min_height": null,
            "min_width": null,
            "object_fit": null,
            "object_position": null,
            "order": null,
            "overflow": null,
            "overflow_x": null,
            "overflow_y": null,
            "padding": null,
            "right": null,
            "top": null,
            "visibility": null,
            "width": null
          }
        },
        "214abc0a07254365b9bbe278c6b744b2": {
          "model_module": "@jupyter-widgets/controls",
          "model_name": "DescriptionStyleModel",
          "model_module_version": "1.5.0",
          "state": {
            "_model_module": "@jupyter-widgets/controls",
            "_model_module_version": "1.5.0",
            "_model_name": "DescriptionStyleModel",
            "_view_count": null,
            "_view_module": "@jupyter-widgets/base",
            "_view_module_version": "1.2.0",
            "_view_name": "StyleView",
            "description_width": ""
          }
        },
        "7d091e76598e459fbb427525b8cd0f3b": {
          "model_module": "@jupyter-widgets/controls",
          "model_name": "HBoxModel",
          "model_module_version": "1.5.0",
          "state": {
            "_dom_classes": [],
            "_model_module": "@jupyter-widgets/controls",
            "_model_module_version": "1.5.0",
            "_model_name": "HBoxModel",
            "_view_count": null,
            "_view_module": "@jupyter-widgets/controls",
            "_view_module_version": "1.5.0",
            "_view_name": "HBoxView",
            "box_style": "",
            "children": [
              "IPY_MODEL_52cd49349a9c48f79f1778871e47edaa",
              "IPY_MODEL_1dbcda09906c4040bd0ebd0c68bcae51",
              "IPY_MODEL_f1d63f8717e54ef79840403d9166c9e2"
            ],
            "layout": "IPY_MODEL_c2a577f8106e477a99626bf840a37c8f"
          }
        },
        "52cd49349a9c48f79f1778871e47edaa": {
          "model_module": "@jupyter-widgets/controls",
          "model_name": "HTMLModel",
          "model_module_version": "1.5.0",
          "state": {
            "_dom_classes": [],
            "_model_module": "@jupyter-widgets/controls",
            "_model_module_version": "1.5.0",
            "_model_name": "HTMLModel",
            "_view_count": null,
            "_view_module": "@jupyter-widgets/controls",
            "_view_module_version": "1.5.0",
            "_view_name": "HTMLView",
            "description": "",
            "description_tooltip": null,
            "layout": "IPY_MODEL_8cf21b78ff03437d9e84ebb53bc2a7cc",
            "placeholder": "​",
            "style": "IPY_MODEL_0556faed296440eb80a5b6755dc4808f",
            "value": "Downloading (…)neration_config.json: 100%"
          }
        },
        "1dbcda09906c4040bd0ebd0c68bcae51": {
          "model_module": "@jupyter-widgets/controls",
          "model_name": "FloatProgressModel",
          "model_module_version": "1.5.0",
          "state": {
            "_dom_classes": [],
            "_model_module": "@jupyter-widgets/controls",
            "_model_module_version": "1.5.0",
            "_model_name": "FloatProgressModel",
            "_view_count": null,
            "_view_module": "@jupyter-widgets/controls",
            "_view_module_version": "1.5.0",
            "_view_name": "ProgressView",
            "bar_style": "success",
            "description": "",
            "description_tooltip": null,
            "layout": "IPY_MODEL_23f96653cc5841289739c2e13fa5ef91",
            "max": 124,
            "min": 0,
            "orientation": "horizontal",
            "style": "IPY_MODEL_35b86403ee9d4191bd8b3ced0c76d71a",
            "value": 124
          }
        },
        "f1d63f8717e54ef79840403d9166c9e2": {
          "model_module": "@jupyter-widgets/controls",
          "model_name": "HTMLModel",
          "model_module_version": "1.5.0",
          "state": {
            "_dom_classes": [],
            "_model_module": "@jupyter-widgets/controls",
            "_model_module_version": "1.5.0",
            "_model_name": "HTMLModel",
            "_view_count": null,
            "_view_module": "@jupyter-widgets/controls",
            "_view_module_version": "1.5.0",
            "_view_name": "HTMLView",
            "description": "",
            "description_tooltip": null,
            "layout": "IPY_MODEL_3d0ea9a86c504d8386819d471affd7cb",
            "placeholder": "​",
            "style": "IPY_MODEL_6d96e3f0a15b4b2d922c8437d9e99915",
            "value": " 124/124 [00:00&lt;00:00, 10.3kB/s]"
          }
        },
        "c2a577f8106e477a99626bf840a37c8f": {
          "model_module": "@jupyter-widgets/base",
          "model_name": "LayoutModel",
          "model_module_version": "1.2.0",
          "state": {
            "_model_module": "@jupyter-widgets/base",
            "_model_module_version": "1.2.0",
            "_model_name": "LayoutModel",
            "_view_count": null,
            "_view_module": "@jupyter-widgets/base",
            "_view_module_version": "1.2.0",
            "_view_name": "LayoutView",
            "align_content": null,
            "align_items": null,
            "align_self": null,
            "border": null,
            "bottom": null,
            "display": null,
            "flex": null,
            "flex_flow": null,
            "grid_area": null,
            "grid_auto_columns": null,
            "grid_auto_flow": null,
            "grid_auto_rows": null,
            "grid_column": null,
            "grid_gap": null,
            "grid_row": null,
            "grid_template_areas": null,
            "grid_template_columns": null,
            "grid_template_rows": null,
            "height": null,
            "justify_content": null,
            "justify_items": null,
            "left": null,
            "margin": null,
            "max_height": null,
            "max_width": null,
            "min_height": null,
            "min_width": null,
            "object_fit": null,
            "object_position": null,
            "order": null,
            "overflow": null,
            "overflow_x": null,
            "overflow_y": null,
            "padding": null,
            "right": null,
            "top": null,
            "visibility": null,
            "width": null
          }
        },
        "8cf21b78ff03437d9e84ebb53bc2a7cc": {
          "model_module": "@jupyter-widgets/base",
          "model_name": "LayoutModel",
          "model_module_version": "1.2.0",
          "state": {
            "_model_module": "@jupyter-widgets/base",
            "_model_module_version": "1.2.0",
            "_model_name": "LayoutModel",
            "_view_count": null,
            "_view_module": "@jupyter-widgets/base",
            "_view_module_version": "1.2.0",
            "_view_name": "LayoutView",
            "align_content": null,
            "align_items": null,
            "align_self": null,
            "border": null,
            "bottom": null,
            "display": null,
            "flex": null,
            "flex_flow": null,
            "grid_area": null,
            "grid_auto_columns": null,
            "grid_auto_flow": null,
            "grid_auto_rows": null,
            "grid_column": null,
            "grid_gap": null,
            "grid_row": null,
            "grid_template_areas": null,
            "grid_template_columns": null,
            "grid_template_rows": null,
            "height": null,
            "justify_content": null,
            "justify_items": null,
            "left": null,
            "margin": null,
            "max_height": null,
            "max_width": null,
            "min_height": null,
            "min_width": null,
            "object_fit": null,
            "object_position": null,
            "order": null,
            "overflow": null,
            "overflow_x": null,
            "overflow_y": null,
            "padding": null,
            "right": null,
            "top": null,
            "visibility": null,
            "width": null
          }
        },
        "0556faed296440eb80a5b6755dc4808f": {
          "model_module": "@jupyter-widgets/controls",
          "model_name": "DescriptionStyleModel",
          "model_module_version": "1.5.0",
          "state": {
            "_model_module": "@jupyter-widgets/controls",
            "_model_module_version": "1.5.0",
            "_model_name": "DescriptionStyleModel",
            "_view_count": null,
            "_view_module": "@jupyter-widgets/base",
            "_view_module_version": "1.2.0",
            "_view_name": "StyleView",
            "description_width": ""
          }
        },
        "23f96653cc5841289739c2e13fa5ef91": {
          "model_module": "@jupyter-widgets/base",
          "model_name": "LayoutModel",
          "model_module_version": "1.2.0",
          "state": {
            "_model_module": "@jupyter-widgets/base",
            "_model_module_version": "1.2.0",
            "_model_name": "LayoutModel",
            "_view_count": null,
            "_view_module": "@jupyter-widgets/base",
            "_view_module_version": "1.2.0",
            "_view_name": "LayoutView",
            "align_content": null,
            "align_items": null,
            "align_self": null,
            "border": null,
            "bottom": null,
            "display": null,
            "flex": null,
            "flex_flow": null,
            "grid_area": null,
            "grid_auto_columns": null,
            "grid_auto_flow": null,
            "grid_auto_rows": null,
            "grid_column": null,
            "grid_gap": null,
            "grid_row": null,
            "grid_template_areas": null,
            "grid_template_columns": null,
            "grid_template_rows": null,
            "height": null,
            "justify_content": null,
            "justify_items": null,
            "left": null,
            "margin": null,
            "max_height": null,
            "max_width": null,
            "min_height": null,
            "min_width": null,
            "object_fit": null,
            "object_position": null,
            "order": null,
            "overflow": null,
            "overflow_x": null,
            "overflow_y": null,
            "padding": null,
            "right": null,
            "top": null,
            "visibility": null,
            "width": null
          }
        },
        "35b86403ee9d4191bd8b3ced0c76d71a": {
          "model_module": "@jupyter-widgets/controls",
          "model_name": "ProgressStyleModel",
          "model_module_version": "1.5.0",
          "state": {
            "_model_module": "@jupyter-widgets/controls",
            "_model_module_version": "1.5.0",
            "_model_name": "ProgressStyleModel",
            "_view_count": null,
            "_view_module": "@jupyter-widgets/base",
            "_view_module_version": "1.2.0",
            "_view_name": "StyleView",
            "bar_color": null,
            "description_width": ""
          }
        },
        "3d0ea9a86c504d8386819d471affd7cb": {
          "model_module": "@jupyter-widgets/base",
          "model_name": "LayoutModel",
          "model_module_version": "1.2.0",
          "state": {
            "_model_module": "@jupyter-widgets/base",
            "_model_module_version": "1.2.0",
            "_model_name": "LayoutModel",
            "_view_count": null,
            "_view_module": "@jupyter-widgets/base",
            "_view_module_version": "1.2.0",
            "_view_name": "LayoutView",
            "align_content": null,
            "align_items": null,
            "align_self": null,
            "border": null,
            "bottom": null,
            "display": null,
            "flex": null,
            "flex_flow": null,
            "grid_area": null,
            "grid_auto_columns": null,
            "grid_auto_flow": null,
            "grid_auto_rows": null,
            "grid_column": null,
            "grid_gap": null,
            "grid_row": null,
            "grid_template_areas": null,
            "grid_template_columns": null,
            "grid_template_rows": null,
            "height": null,
            "justify_content": null,
            "justify_items": null,
            "left": null,
            "margin": null,
            "max_height": null,
            "max_width": null,
            "min_height": null,
            "min_width": null,
            "object_fit": null,
            "object_position": null,
            "order": null,
            "overflow": null,
            "overflow_x": null,
            "overflow_y": null,
            "padding": null,
            "right": null,
            "top": null,
            "visibility": null,
            "width": null
          }
        },
        "6d96e3f0a15b4b2d922c8437d9e99915": {
          "model_module": "@jupyter-widgets/controls",
          "model_name": "DescriptionStyleModel",
          "model_module_version": "1.5.0",
          "state": {
            "_model_module": "@jupyter-widgets/controls",
            "_model_module_version": "1.5.0",
            "_model_name": "DescriptionStyleModel",
            "_view_count": null,
            "_view_module": "@jupyter-widgets/base",
            "_view_module_version": "1.2.0",
            "_view_name": "StyleView",
            "description_width": ""
          }
        }
      }
    }
  },
  "nbformat": 4,
  "nbformat_minor": 0
}