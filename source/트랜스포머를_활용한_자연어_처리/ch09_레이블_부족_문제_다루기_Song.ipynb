{
 "cells": [
  {
   "cell_type": "markdown",
   "id": "eac97376-ff4c-46d1-8576-a1db1203c2cc",
   "metadata": {},
   "source": [
    "- 레이블링된 데이터가 전혀 없거나 매우 적은 경우, 잘 맞는 방법 몇가지\n",
    "    - 제로샷 학습(zero-shot learning) 또는 퓨샷 학습(few-shot learning)\n",
    " \n",
    "\n",
    "<img alt=\"decision-tree\" caption=\"Several techniques that can be used to improve model performance in the absence of large amounts of labeled data\" src=\"https://github.com/rickiepark/nlp-with-transformers/blob/main/images/chapter09_decision-tree.png?raw=1\" id=\"decision-tree\" width=\"700px\"/>\n",
    "\n",
    "- 레이블링 된 데이터가 충분치 않을 때 모델 성능 향상을 위해 사용하는 여러가지 방법 및 과정\n",
    "    - 레이블링 된 데이터가 있는가\n",
    "        - 전혀 없다면 제로샷 학습\n",
    "    - 레이블링 된 데이터가 얼마나 있는가\n",
    "        - 레이블링 된 데이트의 양에 따라, 충분히 많다면 미세 튜닝을 한다\n",
    "    - 레이블링되지 않는 데이터가 있는가\n",
    "        - 레이블링 된 데이터가 조금 있고, 안된 데이터가 많다면\n",
    "            - 레이블링 되지 않은 데이터로 도메인에서 언어 모델을 미세튜닝 하는 방법\n",
    "            - 비지도 데이터 증식(unsupervised data augmentation, UDA)\n",
    "            - 불확실성 인지 자기 훈련(uncertainty-aware self-training, UST)\n",
    "        - 레이블링 안된 데이터가 전혀 없다면 데이터 레이블링해 늘릴수 없다\n",
    "            - 퓨샷 학습\n",
    "            - 임베딩 룩업 : 사전 훈련된 언어 모델의 임베딩을 사용해 취근접 이웃 검색으로 룩업 수행\n",
    "\n",
    "- 사용 데이터\n",
    "    - [트렌스포머스의 깃허브 이슈](https://github.com/huggingface/transformers/issues) 사용"
   ]
  },
  {
   "cell_type": "markdown",
   "id": "6601e1bc-2f27-4822-a718-3e17ff9c60bf",
   "metadata": {},
   "source": [
    "# 깃허브 이슈 태거 만들기"
   ]
  },
  {
   "cell_type": "markdown",
   "id": "a8842519-03da-4823-8300-8cd82fd1c1a8",
   "metadata": {},
   "source": [
    "<img alt=\"issue-example\" caption=\"A typical GitHub issue on the Transformers repository\" src=\"https://github.com/rickiepark/nlp-with-transformers/blob/main/images/chapter09_issue-example-v2.png?raw=1\" id=\"issue-example\"/>\n",
    "\n",
    "- 제목, 설명, 이슈의 특징을 나타내는 일련의 태크 또는 레이블이 있음\n",
    "    - 지도 학습용으로 적절 : 이슈의 제목과 설명이 주어지면 한 개 이상의 레이블을 예측\n",
    "    - 다중 레이블 텍스트 분류 : 이슈에 여러 레이블 할당 가능"
   ]
  },
  {
   "cell_type": "markdown",
   "id": "86f423d6-d2fb-41c1-95ac-52ebdf018d51",
   "metadata": {},
   "source": [
    "## 데이터 다운로드하기\n",
    "- 저장소의 이슈를 모두 다운로드 하는 방법\n",
    "    - 깃허브 [REST API](https://docs.github.com/en/rest?apiVersion=2022-11-28) 에 있는 [issue endpoint](https://docs.github.com/en/rest/issues?apiVersion=2022-11-28#list-repository-issues)를 반복 호출 해야\n",
    "    - JSON 객체의 리스트 반환\n",
    "        - 이슈 상태(오픈, 클로즈), 이슈 생성자, 제목, 본문, 레이블, 관련 링크\n",
    "    - 받는데 오래 걸리니 이미 받아 놓은 json 파일 사용"
   ]
  },
  {
   "cell_type": "markdown",
   "id": "33c94706-13c9-493e-bb72-2db7b14be9b9",
   "metadata": {},
   "source": [
    "### 이슈 다운로드 코드\n",
    "\n",
    "- 직접 이슈를 다운로드하고 싶다면 파이썬에서 HTTP 요청을 처리하는 대표적인 라이브러리인 _Requests_ 를 사용해 Issues 엔드포인트를 호출할 수 있습니다. 다음은 허깅페이스 트랜스포머스 저장소의 이슈를 다운로드하는 함수입니다."
   ]
  },
  {
   "cell_type": "code",
   "execution_count": 92,
   "id": "7dd8d1cc-bfb4-4e0f-aa68-03a5468f0fe1",
   "metadata": {},
   "outputs": [],
   "source": [
    "import time\n",
    "import math\n",
    "import requests\n",
    "from pathlib import Path\n",
    "import pandas as pd\n",
    "from tqdm.auto import tqdm\n",
    "\n",
    "def fetch_issues(owner=\"huggingface\", repo=\"transformers\", num_issues=10_000,\n",
    "                 rate_limit=5_000):\n",
    "    batch = []\n",
    "    all_issues = []\n",
    "    per_page = 100     # 페이지마다 반환되는 이슈 개수\n",
    "    num_pages = math.ceil(num_issues / per_page)\n",
    "    base_url = \"https://api.github.com/repos\"\n",
    "\n",
    "    for page in tqdm(range(num_pages)):\n",
    "        # 오픈 이슈와 클로즈 이슈를 모두 가져오기 위해 state=all로 쿼리합니다.\n",
    "        query = f\"issues?page={page}&per_page={per_page}&state=all\"\n",
    "        issues = requests.get(f\"{base_url}/{owner}/{repo}/{query}\")\n",
    "        batch.extend(issues.json())\n",
    "\n",
    "        if len(batch) > rate_limit and len(all_issues) < num_issues:\n",
    "            all_issues.extend(batch)\n",
    "            batch = []   # 다음 번 요청을 위해 비웁니다.\n",
    "            print(f\"깃허브 요청 한도에 도달했습니다. 한 시간 동안 중지합니다...\")\n",
    "            time.sleep(60 * 60 + 1)\n",
    "\n",
    "    all_issues.extend(batch)\n",
    "    df = pd.DataFrame.from_records(all_issues)\n",
    "    df.to_json(f\"github-issues-{repo}.jsonl\", orient=\"records\", lines=True)"
   ]
  },
  {
   "cell_type": "code",
   "execution_count": 93,
   "id": "65f5c30c-a6c4-48c8-a1d7-f5ff30b6c5e9",
   "metadata": {},
   "outputs": [],
   "source": [
    "# fetch_issues()"
   ]
  },
  {
   "cell_type": "markdown",
   "id": "2e6859c5-0f97-4054-8342-855d8851c6aa",
   "metadata": {},
   "source": [
    "## 데이터 준비하기"
   ]
  },
  {
   "cell_type": "code",
   "execution_count": 94,
   "id": "16705224-bb5e-4652-a97b-c3757fc3738c",
   "metadata": {},
   "outputs": [
    {
     "name": "stdout",
     "output_type": "stream",
     "text": [
      "데이터프레임 크기: (9930, 26)\n"
     ]
    }
   ],
   "source": [
    "import pandas as pd\n",
    "\n",
    "dataset_url = \"https://git.io/nlp-with-transformers\"\n",
    "df_issues = pd.read_json(dataset_url, lines=True)\n",
    "print(f\"데이터프레임 크기: {df_issues.shape}\")"
   ]
  },
  {
   "cell_type": "markdown",
   "id": "bcf65c10-93f1-49f0-8a1c-090d00910b17",
   "metadata": {},
   "source": [
    "- 10,000개의 이슈\n",
    "- 데이터 확인해 보기"
   ]
  },
  {
   "cell_type": "code",
   "execution_count": 95,
   "id": "7e10cce7-ab7f-4f48-8f4f-caeec91905e5",
   "metadata": {},
   "outputs": [
    {
     "data": {
      "text/html": [
       "<div>\n",
       "<style scoped>\n",
       "    .dataframe tbody tr th:only-of-type {\n",
       "        vertical-align: middle;\n",
       "    }\n",
       "\n",
       "    .dataframe tbody tr th {\n",
       "        vertical-align: top;\n",
       "    }\n",
       "\n",
       "    .dataframe thead th {\n",
       "        text-align: right;\n",
       "    }\n",
       "</style>\n",
       "<table border=\"1\" class=\"dataframe\">\n",
       "  <thead>\n",
       "    <tr style=\"text-align: right;\">\n",
       "      <th></th>\n",
       "      <th>2</th>\n",
       "    </tr>\n",
       "  </thead>\n",
       "  <tbody>\n",
       "    <tr>\n",
       "      <th>url</th>\n",
       "      <td>https://api.github.com/repos/huggingface/trans...</td>\n",
       "    </tr>\n",
       "    <tr>\n",
       "      <th>id</th>\n",
       "      <td>849529761</td>\n",
       "    </tr>\n",
       "    <tr>\n",
       "      <th>title</th>\n",
       "      <td>[DeepSpeed] ZeRO stage 3 integration: getting ...</td>\n",
       "    </tr>\n",
       "    <tr>\n",
       "      <th>user</th>\n",
       "      <td>{'login': 'stas00', 'id': 10676103, 'node_id':...</td>\n",
       "    </tr>\n",
       "    <tr>\n",
       "      <th>labels</th>\n",
       "      <td>[{'id': 2659267025, 'node_id': 'MDU6TGFiZWwyNj...</td>\n",
       "    </tr>\n",
       "    <tr>\n",
       "      <th>state</th>\n",
       "      <td>open</td>\n",
       "    </tr>\n",
       "    <tr>\n",
       "      <th>created_at</th>\n",
       "      <td>2021-04-02 23:40:42</td>\n",
       "    </tr>\n",
       "    <tr>\n",
       "      <th>body</th>\n",
       "      <td>**[This is not yet alive, preparing for the re...</td>\n",
       "    </tr>\n",
       "  </tbody>\n",
       "</table>\n",
       "</div>"
      ],
      "text/plain": [
       "                                                            2\n",
       "url         https://api.github.com/repos/huggingface/trans...\n",
       "id                                                  849529761\n",
       "title       [DeepSpeed] ZeRO stage 3 integration: getting ...\n",
       "user        {'login': 'stas00', 'id': 10676103, 'node_id':...\n",
       "labels      [{'id': 2659267025, 'node_id': 'MDU6TGFiZWwyNj...\n",
       "state                                                    open\n",
       "created_at                                2021-04-02 23:40:42\n",
       "body        **[This is not yet alive, preparing for the re..."
      ]
     },
     "execution_count": 95,
     "metadata": {},
     "output_type": "execute_result"
    }
   ],
   "source": [
    "cols = [\"url\", \"id\", \"title\", \"user\", \"labels\", \"state\", \"created_at\", \"body\"]\n",
    "df_issues.loc[2, cols].to_frame()"
   ]
  },
  {
   "cell_type": "markdown",
   "id": "bbf986a7-f2b7-412d-8ddc-3d94bfd1cf1c",
   "metadata": {},
   "source": [
    "- 이중 labels에 주목 : 각 행마다 레이블에 대한 메타데이터로 구성된 JSON 객체 리스트 포함"
   ]
  },
  {
   "cell_type": "code",
   "execution_count": 96,
   "id": "bacd5213-9cee-4259-a71b-132229862997",
   "metadata": {},
   "outputs": [
    {
     "data": {
      "text/plain": [
       "[{'id': 2659267025,\n",
       "  'node_id': 'MDU6TGFiZWwyNjU5MjY3MDI1',\n",
       "  'url': 'https://api.github.com/repos/huggingface/transformers/labels/DeepSpeed',\n",
       "  'name': 'DeepSpeed',\n",
       "  'color': '4D34F7',\n",
       "  'default': False,\n",
       "  'description': ''}]"
      ]
     },
     "execution_count": 96,
     "metadata": {},
     "output_type": "execute_result"
    }
   ],
   "source": [
    "df_issues.loc[2, 'labels']"
   ]
  },
  {
   "cell_type": "markdown",
   "id": "3d54946f-f79f-49f4-a0a1-823dde22ee28",
   "metadata": {},
   "source": [
    "- labels 객체의 name 필드에만 관심이 있음\n",
    "- name으로 labels 열을 덮어 쓴다"
   ]
  },
  {
   "cell_type": "code",
   "execution_count": 97,
   "id": "531f181c-8aa0-484b-9c11-dea6e4a590a9",
   "metadata": {},
   "outputs": [
    {
     "data": {
      "text/plain": [
       "0             []\n",
       "1             []\n",
       "2    [DeepSpeed]\n",
       "3             []\n",
       "4             []\n",
       "Name: labels, dtype: object"
      ]
     },
     "execution_count": 97,
     "metadata": {},
     "output_type": "execute_result"
    }
   ],
   "source": [
    "df_issues['labels'] = (\n",
    "    df_issues['labels'].apply(lambda x : [meta['name'] for meta in x])\n",
    ")\n",
    "df_issues['labels'].head()"
   ]
  },
  {
   "cell_type": "markdown",
   "id": "7fbf5ec5-dfc9-4363-8220-754e36c243d4",
   "metadata": {},
   "source": [
    "- 이슈에 할당된 레이블 갯수"
   ]
  },
  {
   "cell_type": "code",
   "execution_count": 98,
   "id": "d1a84ba4-13ac-4369-bc47-92833152d262",
   "metadata": {},
   "outputs": [
    {
     "data": {
      "text/html": [
       "<div>\n",
       "<style scoped>\n",
       "    .dataframe tbody tr th:only-of-type {\n",
       "        vertical-align: middle;\n",
       "    }\n",
       "\n",
       "    .dataframe tbody tr th {\n",
       "        vertical-align: top;\n",
       "    }\n",
       "\n",
       "    .dataframe thead th {\n",
       "        text-align: right;\n",
       "    }\n",
       "</style>\n",
       "<table border=\"1\" class=\"dataframe\">\n",
       "  <thead>\n",
       "    <tr style=\"text-align: right;\">\n",
       "      <th>labels</th>\n",
       "      <th>0</th>\n",
       "      <th>1</th>\n",
       "      <th>2</th>\n",
       "      <th>3</th>\n",
       "      <th>4</th>\n",
       "      <th>5</th>\n",
       "    </tr>\n",
       "  </thead>\n",
       "  <tbody>\n",
       "    <tr>\n",
       "      <th>count</th>\n",
       "      <td>6440</td>\n",
       "      <td>3057</td>\n",
       "      <td>305</td>\n",
       "      <td>100</td>\n",
       "      <td>25</td>\n",
       "      <td>3</td>\n",
       "    </tr>\n",
       "  </tbody>\n",
       "</table>\n",
       "</div>"
      ],
      "text/plain": [
       "labels     0     1    2    3   4  5\n",
       "count   6440  3057  305  100  25  3"
      ]
     },
     "execution_count": 98,
     "metadata": {},
     "output_type": "execute_result"
    }
   ],
   "source": [
    "df_issues['labels'].apply(lambda x:len(x)).value_counts().to_frame().T"
   ]
  },
  {
   "cell_type": "markdown",
   "id": "ac994aad-6592-426a-bfef-51a4fe2638f5",
   "metadata": {},
   "source": [
    "- 대부분의 이슈는 레이블이 없거나 하나\n",
    "- 데이터셋에서 가장 많이 등장하는 상위 8개의 레이블 확인"
   ]
  },
  {
   "cell_type": "code",
   "execution_count": 99,
   "id": "6fbb7fce-3d35-498a-894f-d2f4a7c18286",
   "metadata": {},
   "outputs": [
    {
     "name": "stdout",
     "output_type": "stream",
     "text": [
      "레이블 개수: 65\n"
     ]
    },
    {
     "data": {
      "text/html": [
       "<div>\n",
       "<style scoped>\n",
       "    .dataframe tbody tr th:only-of-type {\n",
       "        vertical-align: middle;\n",
       "    }\n",
       "\n",
       "    .dataframe tbody tr th {\n",
       "        vertical-align: top;\n",
       "    }\n",
       "\n",
       "    .dataframe thead th {\n",
       "        text-align: right;\n",
       "    }\n",
       "</style>\n",
       "<table border=\"1\" class=\"dataframe\">\n",
       "  <thead>\n",
       "    <tr style=\"text-align: right;\">\n",
       "      <th>labels</th>\n",
       "      <th>wontfix</th>\n",
       "      <th>model card</th>\n",
       "      <th>Core: Tokenization</th>\n",
       "      <th>New model</th>\n",
       "      <th>Core: Modeling</th>\n",
       "      <th>Help wanted</th>\n",
       "      <th>Good First Issue</th>\n",
       "      <th>Usage</th>\n",
       "    </tr>\n",
       "  </thead>\n",
       "  <tbody>\n",
       "    <tr>\n",
       "      <th>count</th>\n",
       "      <td>2284</td>\n",
       "      <td>649</td>\n",
       "      <td>106</td>\n",
       "      <td>98</td>\n",
       "      <td>64</td>\n",
       "      <td>52</td>\n",
       "      <td>50</td>\n",
       "      <td>46</td>\n",
       "    </tr>\n",
       "  </tbody>\n",
       "</table>\n",
       "</div>"
      ],
      "text/plain": [
       "labels  wontfix  model card  Core: Tokenization  New model  Core: Modeling  \\\n",
       "count      2284         649                 106         98              64   \n",
       "\n",
       "labels  Help wanted  Good First Issue  Usage  \n",
       "count            52                50     46  "
      ]
     },
     "execution_count": 99,
     "metadata": {},
     "output_type": "execute_result"
    }
   ],
   "source": [
    "df_counts = df_issues[\"labels\"].explode().value_counts()\n",
    "print(f\"레이블 개수: {len(df_counts)}\")\n",
    "# 상위 8개 레이블을 출력합니다.\n",
    "df_counts.to_frame().head(8).T"
   ]
  },
  {
   "cell_type": "markdown",
   "id": "2605f209-ee1a-4b3e-b1fa-4cfca414515f",
   "metadata": {},
   "source": [
    "- 고유한 레이블이 65개\n",
    "- wontfix와 model card가 가장 자주 등장"
   ]
  },
  {
   "cell_type": "markdown",
   "id": "c30cffc6-7332-468e-8ae7-ad529db19b36",
   "metadata": {},
   "source": [
    "**explode() 이해하기**"
   ]
  },
  {
   "cell_type": "markdown",
   "id": "c32f04e9-ba78-45a3-a276-26573d2370a1",
   "metadata": {},
   "source": [
    "`pandas`의 `explode()` 함수는 하나의 셀에 리스트나 배열과 같은 iterable 형태로 저장된 데이터를 행 단위로 확장하여 데이터프레임을 만드는 함수입니다. 이를 이해하기 위해 간단한 예제를 만들어보겠습니다.\n",
    "\n",
    "먼저, 다음과 같은 데이터프레임을 생성합니다:\n",
    "\n",
    "```python\n",
    "import pandas as pd\n",
    "\n",
    "data = {\n",
    "    'A': ['a', 'b', 'c'],\n",
    "    'B': [[1, 2], [3, 4], [5, 6]]\n",
    "}\n",
    "\n",
    "df = pd.DataFrame(data)\n",
    "print(df)\n",
    "```\n",
    "\n",
    "이렇게 하면 다음과 같은 데이터프레임이 생성됩니다:\n",
    "\n",
    "```\n",
    "   A       B\n",
    "0  a  [1, 2]\n",
    "1  b  [3, 4]\n",
    "2  c  [5, 6]\n",
    "```\n",
    "\n",
    "여기서 'B' 열의 각 셀에는 리스트가 포함되어 있습니다. 이제 `explode()` 함수를 사용하여 'B' 열의 리스트를 행 단위로 확장해보겠습니다:\n",
    "\n",
    "```python\n",
    "exploded_df = df.explode('B')\n",
    "print(exploded_df)\n",
    "```\n",
    "\n",
    "이렇게 하면 다음과 같은 데이터프레임이 생성됩니다:\n",
    "\n",
    "```\n",
    "   A  B\n",
    "0  a  1\n",
    "0  a  2\n",
    "1  b  3\n",
    "1  b  4\n",
    "2  c  5\n",
    "2  c  6\n",
    "```\n",
    "\n",
    "여기서 볼 수 있듯이, `explode()` 함수는 'B' 열의 각 셀에 있는 리스트를 행 단위로 확장하여 새로운 행을 생성합니다. 이것이 `explode()` 함수의 기본적인 작동 방식입니다."
   ]
  },
  {
   "cell_type": "markdown",
   "id": "251e029e-6b3e-4dbe-85ff-9404d84b32fa",
   "metadata": {},
   "source": [
    "- labels 를 읽기 편한 tag로 수정 하고, 사용할 것만 남긴다"
   ]
  },
  {
   "cell_type": "code",
   "execution_count": 100,
   "id": "b8dd9a9e-f774-4d0a-b624-469bcbfdbbdb",
   "metadata": {},
   "outputs": [],
   "source": [
    "label_map = {\"Core: Tokenization\": \"tokenization\",\n",
    "             \"New model\": \"new model\",\n",
    "             \"Core: Modeling\": \"model training\",\n",
    "             \"Usage\": \"usage\",\n",
    "             \"Core: Pipeline\": \"pipeline\",\n",
    "             \"TensorFlow\": \"tensorflow or tf\",\n",
    "             \"PyTorch\": \"pytorch\",\n",
    "             \"Examples\": \"examples\",\n",
    "             \"Documentation\": \"documentation\"}"
   ]
  },
  {
   "cell_type": "code",
   "execution_count": 101,
   "id": "d2a2d7e8-97e3-41d2-9c5a-ac0c1a4cf498",
   "metadata": {},
   "outputs": [],
   "source": [
    "def filter_labels(x):\n",
    "    return [label_map[label] for label in x if label in label_map]\n",
    "\n",
    "df_issues['labels'] = df_issues['labels'].apply(filter_labels)\n",
    "all_labels = list(label_map.values())"
   ]
  },
  {
   "cell_type": "markdown",
   "id": "994f640b-1e01-49c5-bb28-5cd3af5f8577",
   "metadata": {},
   "source": [
    "- 새로운 레이블의 분포"
   ]
  },
  {
   "cell_type": "code",
   "execution_count": 102,
   "id": "9069015c-2805-4b79-a5b3-d85e50520ea7",
   "metadata": {},
   "outputs": [
    {
     "data": {
      "text/html": [
       "<div>\n",
       "<style scoped>\n",
       "    .dataframe tbody tr th:only-of-type {\n",
       "        vertical-align: middle;\n",
       "    }\n",
       "\n",
       "    .dataframe tbody tr th {\n",
       "        vertical-align: top;\n",
       "    }\n",
       "\n",
       "    .dataframe thead th {\n",
       "        text-align: right;\n",
       "    }\n",
       "</style>\n",
       "<table border=\"1\" class=\"dataframe\">\n",
       "  <thead>\n",
       "    <tr style=\"text-align: right;\">\n",
       "      <th>labels</th>\n",
       "      <th>tokenization</th>\n",
       "      <th>new model</th>\n",
       "      <th>model training</th>\n",
       "      <th>usage</th>\n",
       "      <th>pipeline</th>\n",
       "      <th>tensorflow or tf</th>\n",
       "      <th>pytorch</th>\n",
       "      <th>documentation</th>\n",
       "      <th>examples</th>\n",
       "    </tr>\n",
       "  </thead>\n",
       "  <tbody>\n",
       "    <tr>\n",
       "      <th>count</th>\n",
       "      <td>106</td>\n",
       "      <td>98</td>\n",
       "      <td>64</td>\n",
       "      <td>46</td>\n",
       "      <td>42</td>\n",
       "      <td>41</td>\n",
       "      <td>37</td>\n",
       "      <td>28</td>\n",
       "      <td>24</td>\n",
       "    </tr>\n",
       "  </tbody>\n",
       "</table>\n",
       "</div>"
      ],
      "text/plain": [
       "labels  tokenization  new model  model training  usage  pipeline  \\\n",
       "count            106         98              64     46        42   \n",
       "\n",
       "labels  tensorflow or tf  pytorch  documentation  examples  \n",
       "count                 41       37             28        24  "
      ]
     },
     "execution_count": 102,
     "metadata": {},
     "output_type": "execute_result"
    }
   ],
   "source": [
    "df_issues['labels'].explode().value_counts().to_frame().T"
   ]
  },
  {
   "cell_type": "code",
   "execution_count": 103,
   "id": "ac0602d0-cb14-4040-a8e5-76d4105d5c48",
   "metadata": {},
   "outputs": [
    {
     "data": {
      "text/html": [
       "<div>\n",
       "<style scoped>\n",
       "    .dataframe tbody tr th:only-of-type {\n",
       "        vertical-align: middle;\n",
       "    }\n",
       "\n",
       "    .dataframe tbody tr th {\n",
       "        vertical-align: top;\n",
       "    }\n",
       "\n",
       "    .dataframe thead th {\n",
       "        text-align: right;\n",
       "    }\n",
       "</style>\n",
       "<table border=\"1\" class=\"dataframe\">\n",
       "  <thead>\n",
       "    <tr style=\"text-align: right;\">\n",
       "      <th>split</th>\n",
       "      <th>unlabeled</th>\n",
       "      <th>labeled</th>\n",
       "    </tr>\n",
       "  </thead>\n",
       "  <tbody>\n",
       "    <tr>\n",
       "      <th>count</th>\n",
       "      <td>9489</td>\n",
       "      <td>441</td>\n",
       "    </tr>\n",
       "  </tbody>\n",
       "</table>\n",
       "</div>"
      ],
      "text/plain": [
       "split  unlabeled  labeled\n",
       "count       9489      441"
      ]
     },
     "execution_count": 103,
     "metadata": {},
     "output_type": "execute_result"
    }
   ],
   "source": [
    "df_issues['split'] = 'unlabeled'\n",
    "mask = df_issues['labels'].apply(lambda x : len(x)) > 0\n",
    "df_issues.loc[mask, 'split'] = 'labeled'\n",
    "df_issues['split'].value_counts().to_frame().T"
   ]
  },
  {
   "cell_type": "markdown",
   "id": "72a4146b-61d9-41ea-893d-387334c235ae",
   "metadata": {},
   "source": [
    "- 샘플 하나 확인"
   ]
  },
  {
   "cell_type": "code",
   "execution_count": 104,
   "id": "4cf075f9-7164-4583-a392-d7237cec4bf1",
   "metadata": {},
   "outputs": [
    {
     "name": "stdout",
     "output_type": "stream",
     "text": [
      "title: Add new CANINE model\n",
      "\n",
      "body: # 🌟 New model addition\r\n",
      "\r\n",
      "## Model description\r\n",
      "\r\n",
      "Google recently proposed a new **C**haracter **A**rchitecture with **N**o tokenization **I**n **N**eural **E**ncoders architecture (CANINE). Not only the title is exciting:\r\n",
      "\r\n",
      "> Pipelined NLP systems have largely been superseded by end-to-end neural modeling, yet nearly all commonly-used models still require an explicit tokenization step. While recent tokenization approaches based on data-derived subword lexicons are less brittle than manually en\n",
      "\n",
      "labels: ['new model']\n",
      "\n"
     ]
    }
   ],
   "source": [
    "for column in ['title', 'body', 'labels']:\n",
    "    print(f\"{column}: {df_issues[column].iloc[26][:500]}\\n\")"
   ]
  },
  {
   "cell_type": "markdown",
   "id": "894a1d4c-b8ad-4396-aaad-e5a4ac29a898",
   "metadata": {},
   "source": [
    "- title 정보가 분류기에 유용, body 필드와 병합"
   ]
  },
  {
   "cell_type": "code",
   "execution_count": 105,
   "id": "9e3d475a-e1e4-4e08-afe4-abfce64dde53",
   "metadata": {},
   "outputs": [],
   "source": [
    "df_issues['text'] = (\n",
    "    df_issues.apply(lambda x:x['title'] + '\\n\\n' + x['body'] , axis=1)\n",
    ")"
   ]
  },
  {
   "cell_type": "markdown",
   "id": "71c7d0b1-564c-45f7-b162-ed8d8031176f",
   "metadata": {},
   "source": [
    "- 중복된 이슈 제거"
   ]
  },
  {
   "cell_type": "code",
   "execution_count": 106,
   "id": "c03e4169-c835-4214-84f4-72a14cfe1b0f",
   "metadata": {},
   "outputs": [
    {
     "name": "stdout",
     "output_type": "stream",
     "text": [
      "삭제된 중복 이슈: 1.88%\n"
     ]
    }
   ],
   "source": [
    "len_before = len(df_issues)\n",
    "df_issues = df_issues.drop_duplicates(subset='text')\n",
    "print(f\"삭제된 중복 이슈: {(len_before-len(df_issues))/len_before:.2%}\")"
   ]
  },
  {
   "cell_type": "markdown",
   "id": "2b7c52aa-193e-4e45-af3f-ce236e59c27d",
   "metadata": {},
   "source": [
    "- 모델의 입력 한계에 따른 너무 많은 정보 손실 가능성 확인"
   ]
  },
  {
   "cell_type": "code",
   "execution_count": 107,
   "id": "42ae391c-42fd-425f-b7a1-f7aeb86fde16",
   "metadata": {},
   "outputs": [
    {
     "data": {
      "image/png": "[encoded data removed]",
      "text/plain": [
       "<Figure size 640x480 with 1 Axes>"
      ]
     },
     "metadata": {},
     "output_type": "display_data"
    }
   ],
   "source": [
    "import numpy as np\n",
    "import matplotlib.pyplot as plt\n",
    "\n",
    "(df_issues['text'].str.split().apply(len).\n",
    " hist(bins=np.linspace(0, 500, 50), grid=False, edgecolor='C0'))\n",
    "plt.title(\"Words per issue\")\n",
    "plt.xlabel(\"Number of words\")\n",
    "plt.ylabel(\"Number of issues\")\n",
    "plt.show()"
   ]
  },
  {
   "cell_type": "markdown",
   "id": "065d0d9f-a3e9-43fc-b227-da6913df878e",
   "metadata": {},
   "source": [
    "- 대부분의 모델의 입력 크기는 512 토큰\n",
    "- 이를 넘어서는 데이터가 영향을 미칠 것으로는 보이지 않음"
   ]
  },
  {
   "cell_type": "markdown",
   "id": "dab5ae16-309d-4f9b-8e60-0e598109bcd8",
   "metadata": {},
   "source": [
    "## 훈련 세트 만들기\n",
    "- 다중 레이블링 문제는 훈련 세트와 검증 세트를 만드는 것은 다소 까다로움\n",
    "    - 모든 레이블에 대해 균형 잡힌 비율을 보장하지 않기 때문\n",
    "    - scikit-multilearn 라이브러리가 도움이 됨\n",
    "- pytorch와 tokenization과 같은 레이블을 모델이 처리 가능한 포멧으로 변환\n",
    "    - 사이킷런의 MultiLabelBinarizer 클래스 사용\n",
    "    - 레이블 이름의 리스트를 받고 레이블에 해당하는 위치는 1, 나머지는 0으로 벡터 생성\n",
    "    - 레이블 이름을 ID로 매핑하기 위해 all_labels 리스트에 MultiLabelBinarizer 클래스 적용"
   ]
  },
  {
   "cell_type": "code",
   "execution_count": 108,
   "id": "f90b0d3b-ac8e-4676-bf2b-153e630574a2",
   "metadata": {},
   "outputs": [
    {
     "data": {
      "text/plain": [
       "['tokenization',\n",
       " 'new model',\n",
       " 'model training',\n",
       " 'usage',\n",
       " 'pipeline',\n",
       " 'tensorflow or tf',\n",
       " 'pytorch',\n",
       " 'examples',\n",
       " 'documentation']"
      ]
     },
     "execution_count": 108,
     "metadata": {},
     "output_type": "execute_result"
    }
   ],
   "source": [
    "all_labels"
   ]
  },
  {
   "cell_type": "code",
   "execution_count": 109,
   "id": "115b48fc-f588-48a7-9bf6-f55c8c3e793f",
   "metadata": {},
   "outputs": [
    {
     "data": {
      "text/plain": [
       "array([[0, 0, 0, 1, 0, 0, 0, 1, 0],\n",
       "       [0, 0, 0, 0, 0, 1, 0, 0, 0]])"
      ]
     },
     "execution_count": 109,
     "metadata": {},
     "output_type": "execute_result"
    }
   ],
   "source": [
    "from sklearn.preprocessing import MultiLabelBinarizer\n",
    "\n",
    "mlb = MultiLabelBinarizer()\n",
    "mlb.fit([all_labels])\n",
    "mlb.transform([[\"tokenization\", \"new model\"], [\"pytorch\"]])"
   ]
  },
  {
   "cell_type": "markdown",
   "id": "85edcc42-4a15-4ee8-ba4e-ec6968562e0b",
   "metadata": {},
   "source": [
    "- iterative_train_test_split() 함수로 label별로 균형 잡힌 훈련/테스트 데이터 분리\n",
    "    - 이 함수는 2차원 특성 행렬을 기대 함, 분할 전 인덱스 배열에 차원 추가"
   ]
  },
  {
   "cell_type": "code",
   "execution_count": 110,
   "id": "d40f231d-9dc2-4fc7-87c9-be4c50ab20f9",
   "metadata": {},
   "outputs": [],
   "source": [
    "from skmultilearn.model_selection import iterative_train_test_split\n",
    "\n",
    "def balanced_split(df, test_size=0.5):\n",
    "    ind = np.expand_dims(np.arange(len(df)), axis=1)\n",
    "    labels = mlb.transform(df[\"labels\"])\n",
    "    ind_train, _, ind_test, _ = iterative_train_test_split(ind, labels,\n",
    "                                                           test_size)\n",
    "    return df.iloc[ind_train[:, 0]], df.iloc[ind_test[:,0]]"
   ]
  },
  {
   "cell_type": "markdown",
   "id": "61824871-d750-43a0-abe9-74731772ec0e",
   "metadata": {},
   "source": [
    "- 지도학습 데이터셋과 비지도학습 데이터셋으로 분리\n",
    "- balanced_split() 함수를 사용 지도 학습 데이터 셋을 학습, 검증, 테스트 세트로 균형 있게 분리"
   ]
  },
  {
   "cell_type": "code",
   "execution_count": 111,
   "id": "44512959-a579-4829-a4f8-bd1141dd5db2",
   "metadata": {},
   "outputs": [],
   "source": [
    "from sklearn.model_selection import train_test_split\n",
    "\n",
    "df_clean = df_issues[[\"text\", \"labels\", \"split\"]].reset_index(drop=True).copy()\n",
    "df_unsup = df_clean.loc[df_clean[\"split\"] == \"unlabeled\", [\"text\", \"labels\"]]\n",
    "df_sup = df_clean.loc[df_clean[\"split\"] == \"labeled\", [\"text\", \"labels\"]]\n",
    "\n",
    "np.random.seed(0)\n",
    "df_train, df_tmp = balanced_split(df_sup, test_size=0.5)\n",
    "df_valid, df_test = balanced_split(df_tmp, test_size=0.5)"
   ]
  },
  {
   "cell_type": "markdown",
   "id": "7ede049c-a70e-4b1d-81d4-1832dbf24da8",
   "metadata": {},
   "source": [
    "- 실제 데이터를 토큰화하고 Trainer와 통합 하기 위한 모든 분할을 담은 DatasetDict 객체 생성"
   ]
  },
  {
   "cell_type": "code",
   "execution_count": 112,
   "id": "f0be8cc5-38ef-4064-a7a7-ac27a665421f",
   "metadata": {},
   "outputs": [],
   "source": [
    "from datasets import Dataset, DatasetDict\n",
    "\n",
    "ds = DatasetDict({\n",
    "    \"train\": Dataset.from_pandas(df_train.reset_index(drop=True)),\n",
    "    \"valid\": Dataset.from_pandas(df_valid.reset_index(drop=True)),\n",
    "    \"test\": Dataset.from_pandas(df_test.reset_index(drop=True)),\n",
    "    \"unsup\": Dataset.from_pandas(df_unsup.reset_index(drop=True))})"
   ]
  },
  {
   "cell_type": "markdown",
   "id": "4028e280-7adf-4e0f-8af5-f5372c52493a",
   "metadata": {},
   "source": [
    "## 훈련 슬라이스 만들기\n",
    "- 희소하게 레이블링 된 데이터와 다중 레이블 분류\n",
    "- 적은 양의 레이블링 된 데이터에서 얼마나 좋은 성능을 낼 수 있는지 확인을 위해 샘플 개수가 더 적은 훈련 데이터의 슬라이스 생성\n",
    "- 샘플 개수에 대한 성능을 그래프로 그려 여러 방법 분석"
   ]
  },
  {
   "cell_type": "code",
   "execution_count": 113,
   "id": "31471f0f-7a8f-4196-9034-baa9f30e2f9a",
   "metadata": {},
   "outputs": [],
   "source": [
    "np.random.seed(0)\n",
    "all_indices = np.expand_dims(list(range(len(ds[\"train\"]))), axis=1)\n",
    "indices_pool = all_indices\n",
    "labels = mlb.transform(ds[\"train\"][\"labels\"])\n",
    "train_samples = [8, 16, 32, 64, 128]\n",
    "train_slices, last_k = [], 0\n",
    "\n",
    "for i, k in enumerate(train_samples):\n",
    "    # 다음 슬라이스 크기를 채우는데 필요한 샘플을 분할합니다\n",
    "    indices_pool, labels, new_slice, _ = iterative_train_test_split(\n",
    "        indices_pool, labels, (k-last_k)/len(labels))\n",
    "    last_k = k\n",
    "    if i==0: train_slices.append(new_slice)\n",
    "    else: train_slices.append(np.concatenate((train_slices[-1], new_slice)))\n",
    "\n",
    "train_slices.append(all_indices), train_samples.append(len(ds[\"train\"]))\n",
    "train_slices = [np.squeeze(train_slice) for train_slice in train_slices]"
   ]
  },
  {
   "cell_type": "markdown",
   "id": "ab9cfadf-c109-4ee1-af95-430b7467eedd",
   "metadata": {},
   "source": [
    "- 원하는 크기에 근사하게 샘플을 나눈다\n",
    "- 그래를 그릴때 x축에 해당"
   ]
  },
  {
   "cell_type": "code",
   "execution_count": 114,
   "id": "d77b949f-a11b-4fb9-b5a4-8b35c3147307",
   "metadata": {},
   "outputs": [
    {
     "name": "stdout",
     "output_type": "stream",
     "text": [
      "목표 분할 크기:\n",
      "[8, 16, 32, 64, 128, 223]\n",
      "실제 분할 크기:\n",
      "[10, 19, 36, 68, 134, 223]\n"
     ]
    }
   ],
   "source": [
    "print(\"목표 분할 크기:\")\n",
    "print(train_samples)\n",
    "print(\"실제 분할 크기:\")\n",
    "print([len(x) for x in train_slices])"
   ]
  },
  {
   "cell_type": "markdown",
   "id": "6f6e74de-c41b-4ead-abcf-5f4c390d8218",
   "metadata": {},
   "source": [
    "# 나이브 베이즈 모델 만들기\n",
    "- 텍스트 분류에서 좋은 베이스라인 모델로 사용 됨\n",
    "- 간단하고 속도가 빠르며 입력의 변동에 매우 안정적\n",
    "- 사이킷런의 나이브 베이즈 모델은 다중 분류 지원하지 않음\n",
    "- scilit-multilearn 라이브러리로 OvR(one-versus-rest) 문제로 바꿔 작업\n",
    "    - L개의 레이블을 위해 L개의 이진 분류기를 훈련\n",
    "- MultiLabelBinarizer 객체를 사용해 새로운 훈련 세트에 label_ids 생성"
   ]
  },
  {
   "cell_type": "code",
   "execution_count": 115,
   "id": "05b6c974-c226-4a3b-8508-c9c441e697ee",
   "metadata": {},
   "outputs": [
    {
     "data": {
      "application/vnd.jupyter.widget-view+json": {
       "model_id": "a69094f2fa8148e6a9e880be3a714490",
       "version_major": 2,
       "version_minor": 0
      },
      "text/plain": [
       "Map:   0%|          | 0/223 [00:00<?, ? examples/s]"
      ]
     },
     "metadata": {},
     "output_type": "display_data"
    },
    {
     "data": {
      "application/vnd.jupyter.widget-view+json": {
       "model_id": "a352fbfe540c442ea66f9ceb32a51d03",
       "version_major": 2,
       "version_minor": 0
      },
      "text/plain": [
       "Map:   0%|          | 0/106 [00:00<?, ? examples/s]"
      ]
     },
     "metadata": {},
     "output_type": "display_data"
    },
    {
     "data": {
      "application/vnd.jupyter.widget-view+json": {
       "model_id": "99aca5377b67439bbc85020df1a3d941",
       "version_major": 2,
       "version_minor": 0
      },
      "text/plain": [
       "Map:   0%|          | 0/111 [00:00<?, ? examples/s]"
      ]
     },
     "metadata": {},
     "output_type": "display_data"
    },
    {
     "data": {
      "application/vnd.jupyter.widget-view+json": {
       "model_id": "520a44c6a0cc4aa291a2f56d0776d72f",
       "version_major": 2,
       "version_minor": 0
      },
      "text/plain": [
       "Map:   0%|          | 0/9303 [00:00<?, ? examples/s]"
      ]
     },
     "metadata": {},
     "output_type": "display_data"
    }
   ],
   "source": [
    "def prepare_labels(batch):\n",
    "    batch[\"label_ids\"] = mlb.transform(batch[\"labels\"])\n",
    "    return batch\n",
    "\n",
    "ds = ds.map(prepare_labels, batched=True)"
   ]
  },
  {
   "cell_type": "code",
   "execution_count": 116,
   "id": "27fa42ad-68d8-4c90-b61d-e877a8be871a",
   "metadata": {},
   "outputs": [
    {
     "data": {
      "text/plain": [
       "DatasetDict({\n",
       "    train: Dataset({\n",
       "        features: ['text', 'labels', 'label_ids'],\n",
       "        num_rows: 223\n",
       "    })\n",
       "    valid: Dataset({\n",
       "        features: ['text', 'labels', 'label_ids'],\n",
       "        num_rows: 106\n",
       "    })\n",
       "    test: Dataset({\n",
       "        features: ['text', 'labels', 'label_ids'],\n",
       "        num_rows: 111\n",
       "    })\n",
       "    unsup: Dataset({\n",
       "        features: ['text', 'labels', 'label_ids'],\n",
       "        num_rows: 9303\n",
       "    })\n",
       "})"
      ]
     },
     "execution_count": 116,
     "metadata": {},
     "output_type": "execute_result"
    }
   ],
   "source": [
    "ds"
   ]
  },
  {
   "cell_type": "code",
   "execution_count": 117,
   "id": "8519567f-69ff-4f4c-8f9a-e9c2fa1e564b",
   "metadata": {},
   "outputs": [
    {
     "data": {
      "text/plain": [
       "[[0, 0, 0, 1, 0, 0, 0, 0, 0],\n",
       " [0, 0, 0, 1, 0, 0, 0, 0, 0],\n",
       " [0, 0, 0, 1, 0, 0, 0, 0, 0],\n",
       " [0, 0, 0, 1, 0, 0, 0, 0, 0],\n",
       " [0, 1, 0, 0, 0, 0, 0, 0, 0],\n",
       " [0, 1, 0, 0, 0, 0, 0, 0, 0],\n",
       " [0, 0, 0, 1, 0, 0, 0, 0, 0],\n",
       " [0, 0, 0, 1, 0, 0, 0, 0, 0],\n",
       " [0, 1, 0, 0, 0, 0, 0, 0, 0],\n",
       " [0, 0, 0, 0, 0, 0, 1, 0, 0],\n",
       " [0, 0, 0, 0, 0, 0, 1, 0, 0],\n",
       " [0, 0, 0, 0, 0, 1, 0, 0, 0],\n",
       " [0, 0, 0, 0, 0, 1, 0, 0, 0],\n",
       " [0, 0, 0, 0, 0, 1, 0, 0, 0],\n",
       " [0, 0, 0, 1, 0, 0, 0, 0, 0],\n",
       " [0, 0, 0, 1, 0, 0, 0, 0, 0],\n",
       " [0, 0, 0, 1, 0, 0, 0, 0, 0],\n",
       " [0, 0, 0, 1, 0, 0, 0, 0, 0],\n",
       " [1, 0, 0, 0, 0, 0, 0, 0, 0],\n",
       " [0, 0, 0, 0, 0, 0, 0, 1, 0],\n",
       " [0, 0, 1, 0, 0, 0, 0, 0, 0],\n",
       " [1, 0, 0, 0, 0, 0, 0, 0, 0],\n",
       " [0, 0, 0, 1, 0, 0, 0, 0, 0],\n",
       " [0, 0, 0, 1, 0, 0, 0, 0, 0],\n",
       " [0, 0, 0, 1, 0, 0, 0, 0, 0],\n",
       " [0, 0, 0, 1, 0, 0, 0, 0, 0],\n",
       " [0, 0, 0, 1, 0, 0, 0, 0, 0],\n",
       " [0, 0, 0, 1, 0, 0, 0, 0, 0],\n",
       " [1, 0, 0, 0, 0, 0, 0, 0, 0],\n",
       " [0, 0, 0, 1, 0, 0, 0, 0, 0],\n",
       " [1, 0, 0, 0, 0, 0, 0, 0, 0],\n",
       " [0, 0, 0, 1, 0, 0, 0, 0, 0],\n",
       " [0, 0, 0, 1, 0, 0, 0, 0, 0],\n",
       " [0, 0, 0, 1, 0, 0, 0, 0, 0],\n",
       " [0, 0, 0, 1, 0, 0, 0, 0, 0],\n",
       " [0, 0, 0, 0, 0, 0, 1, 0, 0],\n",
       " [0, 0, 0, 1, 0, 0, 0, 0, 0],\n",
       " [0, 0, 0, 1, 0, 0, 0, 0, 0],\n",
       " [1, 0, 0, 0, 0, 0, 0, 0, 0],\n",
       " [0, 0, 0, 1, 0, 0, 0, 0, 0],\n",
       " [0, 0, 0, 0, 0, 0, 1, 0, 0],\n",
       " [0, 0, 0, 0, 0, 0, 0, 1, 0],\n",
       " [0, 0, 0, 1, 0, 0, 0, 0, 0],\n",
       " [0, 0, 0, 1, 0, 0, 0, 0, 0],\n",
       " [0, 1, 0, 0, 0, 0, 0, 0, 0],\n",
       " [0, 0, 0, 0, 0, 0, 0, 1, 0],\n",
       " [0, 0, 0, 1, 0, 0, 0, 0, 0],\n",
       " [0, 0, 0, 1, 0, 0, 0, 0, 0],\n",
       " [0, 0, 0, 1, 0, 0, 0, 0, 0],\n",
       " [0, 0, 0, 1, 0, 0, 0, 0, 0],\n",
       " [0, 0, 0, 1, 0, 0, 0, 0, 0],\n",
       " [0, 1, 0, 0, 0, 0, 0, 0, 0],\n",
       " [0, 0, 1, 0, 0, 0, 0, 0, 0],\n",
       " [0, 0, 0, 1, 0, 0, 0, 0, 0],\n",
       " [0, 0, 0, 0, 1, 0, 0, 0, 0],\n",
       " [0, 0, 0, 0, 0, 0, 0, 1, 0],\n",
       " [0, 0, 0, 0, 0, 0, 0, 1, 0],\n",
       " [0, 0, 0, 0, 0, 0, 0, 1, 0],\n",
       " [0, 0, 0, 0, 0, 0, 0, 1, 0],\n",
       " [0, 0, 0, 0, 0, 0, 0, 1, 0],\n",
       " [0, 0, 0, 0, 0, 0, 0, 1, 0],\n",
       " [0, 1, 0, 0, 0, 0, 0, 0, 0],\n",
       " [0, 0, 0, 1, 0, 0, 0, 0, 0],\n",
       " [0, 0, 0, 0, 1, 0, 0, 0, 0],\n",
       " [0, 0, 0, 0, 0, 0, 0, 1, 0],\n",
       " [0, 0, 0, 0, 0, 0, 0, 1, 0],\n",
       " [0, 0, 0, 1, 0, 0, 0, 0, 0],\n",
       " [0, 0, 0, 0, 0, 0, 0, 1, 0],\n",
       " [0, 1, 0, 0, 0, 0, 0, 0, 0],\n",
       " [0, 0, 0, 0, 0, 0, 0, 1, 0],\n",
       " [0, 1, 0, 0, 0, 0, 0, 0, 0],\n",
       " [0, 0, 0, 0, 0, 0, 0, 1, 0],\n",
       " [0, 0, 0, 0, 0, 0, 1, 0, 0],\n",
       " [0, 0, 0, 0, 0, 0, 0, 1, 0],\n",
       " [0, 0, 0, 0, 0, 0, 1, 0, 0],\n",
       " [0, 0, 0, 1, 0, 0, 0, 0, 0],\n",
       " [0, 1, 0, 0, 0, 0, 0, 0, 0],\n",
       " [0, 0, 0, 0, 0, 0, 0, 1, 0],\n",
       " [0, 0, 0, 0, 0, 0, 0, 1, 0],\n",
       " [0, 0, 0, 0, 0, 0, 0, 1, 0],\n",
       " [0, 0, 0, 0, 0, 0, 0, 1, 0],\n",
       " [0, 0, 0, 1, 0, 0, 0, 0, 0],\n",
       " [0, 1, 0, 0, 0, 0, 0, 0, 0],\n",
       " [0, 0, 0, 1, 0, 0, 0, 0, 0],\n",
       " [0, 0, 0, 1, 0, 0, 0, 0, 0],\n",
       " [0, 0, 0, 1, 0, 0, 0, 0, 0],\n",
       " [0, 0, 0, 1, 0, 0, 0, 0, 0],\n",
       " [0, 0, 0, 0, 0, 0, 1, 0, 0],\n",
       " [0, 0, 1, 0, 0, 0, 0, 0, 0],\n",
       " [0, 0, 0, 0, 0, 1, 0, 0, 0],\n",
       " [1, 0, 0, 0, 0, 0, 0, 0, 0],\n",
       " [0, 0, 1, 0, 0, 0, 1, 0, 0],\n",
       " [0, 0, 0, 0, 0, 0, 0, 0, 1],\n",
       " [1, 0, 0, 0, 0, 0, 0, 0, 0],\n",
       " [0, 0, 0, 1, 0, 0, 0, 0, 0],\n",
       " [1, 0, 0, 0, 0, 0, 0, 0, 0],\n",
       " [0, 0, 0, 0, 0, 0, 0, 1, 0],\n",
       " [0, 0, 1, 0, 0, 0, 0, 0, 0],\n",
       " [0, 0, 0, 1, 0, 0, 0, 0, 0],\n",
       " [0, 0, 0, 0, 0, 0, 0, 1, 0],\n",
       " [0, 0, 0, 0, 0, 0, 1, 0, 0],\n",
       " [0, 0, 0, 0, 0, 1, 0, 0, 0],\n",
       " [0, 0, 0, 0, 1, 0, 0, 0, 0],\n",
       " [0, 0, 0, 0, 0, 0, 0, 1, 0],\n",
       " [0, 0, 1, 0, 1, 0, 0, 0, 0],\n",
       " [0, 0, 0, 0, 0, 0, 0, 1, 0],\n",
       " [0, 0, 0, 1, 0, 0, 0, 0, 0],\n",
       " [0, 0, 0, 1, 0, 0, 0, 0, 0],\n",
       " [1, 0, 0, 0, 0, 0, 0, 0, 0],\n",
       " [0, 0, 0, 0, 0, 0, 1, 0, 0],\n",
       " [0, 0, 0, 0, 0, 0, 0, 0, 1],\n",
       " [1, 0, 0, 0, 0, 0, 0, 0, 0],\n",
       " [0, 0, 0, 0, 0, 0, 0, 1, 0],\n",
       " [0, 0, 0, 1, 0, 0, 0, 0, 0],\n",
       " [0, 0, 0, 1, 0, 0, 0, 0, 0],\n",
       " [0, 0, 0, 1, 0, 0, 0, 0, 0],\n",
       " [0, 0, 0, 0, 0, 0, 0, 1, 0],\n",
       " [0, 0, 0, 0, 0, 1, 0, 0, 0],\n",
       " [0, 0, 0, 0, 0, 0, 0, 0, 1],\n",
       " [0, 1, 0, 0, 0, 0, 0, 0, 0],\n",
       " [0, 0, 0, 0, 0, 1, 0, 0, 0],\n",
       " [0, 0, 0, 0, 0, 0, 0, 1, 0],\n",
       " [0, 0, 0, 0, 1, 0, 0, 0, 0],\n",
       " [0, 0, 0, 0, 1, 0, 0, 0, 0],\n",
       " [0, 0, 1, 0, 0, 0, 1, 0, 0],\n",
       " [0, 0, 0, 0, 0, 0, 0, 1, 0],\n",
       " [0, 0, 0, 0, 0, 0, 0, 1, 0],\n",
       " [0, 0, 0, 0, 0, 0, 1, 0, 1],\n",
       " [0, 0, 1, 0, 0, 0, 0, 0, 0],\n",
       " [0, 0, 0, 0, 0, 0, 0, 0, 1],\n",
       " [0, 0, 0, 0, 0, 0, 1, 0, 0],\n",
       " [0, 0, 0, 0, 0, 0, 0, 1, 0],\n",
       " [0, 0, 1, 0, 0, 0, 0, 0, 0],\n",
       " [0, 0, 0, 0, 0, 0, 0, 0, 1],\n",
       " [0, 1, 0, 0, 0, 0, 0, 0, 0],\n",
       " [0, 0, 0, 0, 0, 0, 0, 1, 0],\n",
       " [0, 0, 1, 0, 0, 0, 0, 0, 0],\n",
       " [0, 0, 1, 0, 0, 0, 0, 0, 0],\n",
       " [0, 0, 0, 0, 0, 0, 0, 1, 0],\n",
       " [0, 0, 0, 0, 0, 0, 0, 1, 0],\n",
       " [0, 0, 0, 0, 1, 0, 0, 0, 0],\n",
       " [0, 0, 0, 0, 1, 0, 0, 0, 0],\n",
       " [0, 0, 0, 0, 0, 0, 0, 1, 0],\n",
       " [0, 0, 0, 0, 0, 0, 0, 1, 0],\n",
       " [0, 0, 1, 0, 0, 0, 0, 0, 0],\n",
       " [0, 0, 1, 0, 0, 0, 0, 0, 0],\n",
       " [0, 0, 1, 0, 0, 0, 0, 0, 0],\n",
       " [0, 0, 1, 0, 0, 0, 0, 0, 0],\n",
       " [0, 0, 0, 0, 0, 0, 0, 1, 0],\n",
       " [0, 0, 0, 0, 0, 0, 0, 1, 0],\n",
       " [0, 0, 0, 0, 0, 0, 0, 1, 0],\n",
       " [0, 0, 1, 0, 0, 0, 0, 0, 0],\n",
       " [0, 0, 0, 0, 0, 0, 0, 0, 1],\n",
       " [0, 0, 0, 0, 0, 0, 0, 1, 0],\n",
       " [0, 0, 1, 0, 0, 0, 0, 0, 0],\n",
       " [1, 0, 0, 0, 0, 0, 0, 0, 0],\n",
       " [0, 0, 0, 0, 0, 0, 0, 0, 1],\n",
       " [0, 0, 0, 0, 0, 0, 0, 0, 1],\n",
       " [0, 0, 0, 0, 0, 0, 1, 0, 0],\n",
       " [0, 0, 0, 0, 0, 0, 0, 1, 0],\n",
       " [0, 0, 0, 1, 0, 0, 0, 0, 0],\n",
       " [0, 0, 0, 0, 0, 0, 0, 0, 1],\n",
       " [0, 0, 0, 0, 1, 0, 0, 0, 0],\n",
       " [0, 0, 0, 0, 0, 0, 0, 1, 0],\n",
       " [0, 0, 0, 0, 0, 0, 0, 1, 0],\n",
       " [0, 0, 0, 0, 0, 0, 0, 0, 1],\n",
       " [0, 0, 1, 0, 0, 0, 0, 0, 0],\n",
       " [0, 0, 0, 0, 0, 0, 0, 1, 0],\n",
       " [0, 0, 1, 0, 0, 0, 0, 0, 0],\n",
       " [0, 0, 0, 0, 0, 0, 0, 1, 0],\n",
       " [0, 0, 0, 0, 0, 0, 0, 1, 0],\n",
       " [0, 0, 0, 0, 0, 0, 0, 1, 0],\n",
       " [0, 0, 1, 0, 0, 0, 0, 0, 0],\n",
       " [0, 0, 0, 0, 0, 1, 0, 0, 0],\n",
       " [1, 0, 0, 0, 0, 0, 0, 0, 0],\n",
       " [0, 0, 0, 0, 0, 0, 1, 0, 0],\n",
       " [0, 0, 0, 0, 0, 0, 0, 1, 0],\n",
       " [0, 0, 0, 0, 0, 0, 0, 1, 0],\n",
       " [0, 0, 1, 0, 0, 0, 0, 0, 0],\n",
       " [1, 0, 0, 0, 0, 0, 0, 0, 0],\n",
       " [0, 0, 1, 0, 0, 0, 0, 0, 1],\n",
       " [0, 0, 0, 0, 0, 0, 0, 1, 0],\n",
       " [0, 0, 0, 0, 0, 0, 0, 1, 0],\n",
       " [0, 0, 1, 0, 0, 0, 1, 0, 0],\n",
       " [0, 0, 1, 0, 0, 1, 0, 0, 0],\n",
       " [0, 0, 0, 0, 0, 1, 0, 0, 0],\n",
       " [0, 0, 0, 0, 0, 1, 0, 0, 0],\n",
       " [0, 0, 0, 0, 0, 0, 1, 0, 0],\n",
       " [0, 0, 1, 0, 0, 0, 0, 0, 0],\n",
       " [0, 0, 0, 0, 0, 0, 0, 1, 0],\n",
       " [0, 0, 0, 0, 1, 0, 0, 0, 0],\n",
       " [0, 0, 0, 0, 0, 0, 0, 1, 0],\n",
       " [0, 0, 1, 0, 0, 1, 0, 0, 0],\n",
       " [0, 0, 0, 1, 0, 0, 0, 0, 0],\n",
       " [0, 0, 0, 0, 0, 1, 0, 0, 0],\n",
       " [1, 0, 0, 0, 0, 0, 0, 0, 0],\n",
       " [0, 0, 0, 0, 0, 0, 0, 0, 1],\n",
       " [0, 0, 0, 0, 0, 1, 0, 0, 1],\n",
       " [0, 0, 0, 0, 0, 0, 0, 1, 0],\n",
       " [0, 0, 0, 0, 0, 0, 0, 0, 1],\n",
       " [0, 0, 1, 0, 0, 1, 0, 0, 1],\n",
       " [0, 0, 0, 0, 0, 0, 0, 1, 0],\n",
       " [0, 0, 0, 0, 0, 1, 0, 0, 1],\n",
       " [0, 0, 1, 0, 0, 0, 0, 0, 0],\n",
       " [0, 0, 0, 0, 1, 0, 1, 0, 0],\n",
       " [0, 0, 0, 0, 1, 0, 0, 0, 0],\n",
       " [0, 0, 0, 0, 0, 0, 0, 0, 1],\n",
       " [0, 0, 0, 0, 1, 0, 0, 0, 1],\n",
       " [0, 0, 1, 0, 0, 1, 0, 0, 1],\n",
       " [0, 0, 1, 0, 0, 0, 1, 0, 1],\n",
       " [0, 0, 0, 0, 0, 0, 0, 0, 1],\n",
       " [0, 0, 0, 0, 0, 0, 0, 0, 1],\n",
       " [0, 0, 0, 0, 0, 1, 1, 0, 0],\n",
       " [0, 0, 0, 0, 1, 0, 0, 0, 0],\n",
       " [0, 0, 0, 0, 1, 0, 0, 0, 0],\n",
       " [0, 0, 0, 0, 1, 0, 0, 0, 0],\n",
       " [0, 0, 0, 0, 1, 0, 0, 0, 0],\n",
       " [0, 0, 0, 0, 1, 0, 0, 0, 0],\n",
       " [0, 0, 0, 0, 1, 0, 0, 0, 0],\n",
       " [0, 0, 0, 0, 1, 0, 0, 0, 0],\n",
       " [0, 0, 0, 0, 1, 0, 0, 0, 0],\n",
       " [0, 0, 1, 0, 0, 0, 0, 0, 0],\n",
       " [0, 0, 1, 0, 0, 0, 0, 0, 0]]"
      ]
     },
     "execution_count": 117,
     "metadata": {},
     "output_type": "execute_result"
    }
   ],
   "source": [
    "ds['train']['label_ids']"
   ]
  },
  {
   "cell_type": "markdown",
   "id": "08febdfc-c106-4d84-92e4-8afcd4e729d6",
   "metadata": {},
   "source": [
    "- 분류기 성능 평가를 위해 f1 score(macro, micro) 사용\n",
    "- f1 score의 구체적인 계산식은 다음과 같습니다.\n",
    "\n",
    "1. Macro F1 Score:\n",
    "매크로 F1 점수는 모든 클래스의 F1 점수를 평균화한 값입니다. 클래스별로 F1 점수를 계산하고 이를 평균합니다. 이때 각 클래스의 F1 점수를 동일한 가중치로 고려합니다.\n",
    "\n",
    "$ \\text{Macro F1 Score} = \\frac{1}{N} \\sum_{i=1}^{N} F1_i \\$\n",
    "\n",
    "여기서 $N $은 클래스의 수이고, $F1_i$는 각 클래스 $ i $의 F1 점수입니다.\n",
    "\n",
    "2. Micro F1 Score:\n",
    "마이크로 F1 점수는 모든 클래스의 정밀도 및 재현율을 사용하여 F1 점수를 계산하고, 이들의 평균을 구합니다. 모든 클래스에 대한 정밀도와 재현율의 가중 평균을 계산합니다.\n",
    "\n",
    "$ \\text{Micro F1 Score} = \\frac{2 \\times \\text{TP}}{2 \\times \\text{TP} + \\text{FP} + \\text{FN}} $\n",
    "\n",
    "여기서 TP는 True Positives, FP는 False Positives, FN은 False Negatives입니다.\n",
    "\n",
    "매크로 F1 점수와 마이크로 F1 점수는 다음과 같은 차이가 있습니다:\n",
    "- 매크로 F1 점수는 각 클래스의 F1 점수를 동일한 비중으로 고려합니다.\n",
    "- 마이크로 F1 점수는 모든 클래스의 샘플 수를 고려하여 계산됩니다. 클래스별 샘플 수가 고려되므로 클래스 불균형이 있는 데이터셋에서 더 적절한 평가 지표가 될 수 있습니다."
   ]
  },
  {
   "cell_type": "markdown",
   "id": "5c4dc092-72fb-44a6-9bfc-cd1e64e6a47f",
   "metadata": {},
   "source": [
    "- 각 모델을 다른 훈련 분할에서 평가, 이를 담기 위한 리스트 생성"
   ]
  },
  {
   "cell_type": "code",
   "execution_count": 118,
   "id": "19887142-f5ed-4f63-8e58-3fda139eb145",
   "metadata": {},
   "outputs": [],
   "source": [
    "from collections import defaultdict\n",
    "\n",
    "macro_scores, micro_scores = defaultdict(list), defaultdict(list)"
   ]
  },
  {
   "cell_type": "code",
   "execution_count": 119,
   "id": "f9a3f055-afd7-4d14-bb1c-67ec9a837887",
   "metadata": {},
   "outputs": [
    {
     "data": {
      "text/plain": [
       "defaultdict(list, {})"
      ]
     },
     "execution_count": 119,
     "metadata": {},
     "output_type": "execute_result"
    }
   ],
   "source": [
    "macro_scores"
   ]
  },
  {
   "cell_type": "markdown",
   "id": "a0e23a0a-33c8-4d16-8af0-e1b1d14e5f1c",
   "metadata": {},
   "source": [
    "- 훈련 세트 크기에 따른 모델 훈련, 평가"
   ]
  },
  {
   "cell_type": "code",
   "execution_count": 120,
   "id": "4b9667e6-2d4a-4fc9-bea0-3c8afd9353e4",
   "metadata": {},
   "outputs": [
    {
     "data": {
      "text/plain": [
       "[array([ 0,  2,  9, 11, 18, 19, 45, 52, 54, 92]),\n",
       " array([  0,   2,   9,  11,  18,  19,  45,  52,  54,  92,   1,   6,  10,\n",
       "         12,  41,  56,  63,  88, 110]),\n",
       " array([  0,   2,   9,  11,  18,  19,  45,  52,  54,  92,   1,   6,  10,\n",
       "         12,  41,  56,  63,  88, 110,   3,   4,  14,  16,  22,  28,  40,\n",
       "         55,  58,  60,  65,  89,  97, 118, 122, 132, 133]),\n",
       " array([  0,   2,   9,  11,  18,  19,  45,  52,  54,  92,   1,   6,  10,\n",
       "         12,  41,  56,  63,  88, 110,   3,   4,  14,  16,  22,  28,  40,\n",
       "         55,  58,  60,  65,  89,  97, 118, 122, 132, 133,   5,  13,  15,\n",
       "         20,  23,  25,  27,  30,  31,  33,  35,  36,  44,  57,  64,  69,\n",
       "         73,  74,  78,  80,  90,  91,  99, 105, 123, 136, 141, 152, 180,\n",
       "        184, 190, 197]),\n",
       " array([  0,   2,   9,  11,  18,  19,  45,  52,  54,  92,   1,   6,  10,\n",
       "         12,  41,  56,  63,  88, 110,   3,   4,  14,  16,  22,  28,  40,\n",
       "         55,  58,  60,  65,  89,  97, 118, 122, 132, 133,   5,  13,  15,\n",
       "         20,  23,  25,  27,  30,  31,  33,  35,  36,  44,  57,  64,  69,\n",
       "         73,  74,  78,  80,  90,  91,  99, 105, 123, 136, 141, 152, 180,\n",
       "        184, 190, 197,   8,  17,  26,  32,  37,  38,  42,  46,  48,  50,\n",
       "         61,  62,  67,  70,  72,  75,  77,  82,  83,  85,  94,  95,  96,\n",
       "        100, 101, 106, 111, 112, 120, 121, 126, 127, 129, 130, 135, 137,\n",
       "        139, 140, 143, 145, 147, 149, 153, 154, 157, 163, 165, 167, 168,\n",
       "        170, 174, 175, 176, 178, 183, 185, 194, 199, 200, 203, 205, 210,\n",
       "        214, 216, 218, 220]),\n",
       " array([  0,   1,   2,   3,   4,   5,   6,   7,   8,   9,  10,  11,  12,\n",
       "         13,  14,  15,  16,  17,  18,  19,  20,  21,  22,  23,  24,  25,\n",
       "         26,  27,  28,  29,  30,  31,  32,  33,  34,  35,  36,  37,  38,\n",
       "         39,  40,  41,  42,  43,  44,  45,  46,  47,  48,  49,  50,  51,\n",
       "         52,  53,  54,  55,  56,  57,  58,  59,  60,  61,  62,  63,  64,\n",
       "         65,  66,  67,  68,  69,  70,  71,  72,  73,  74,  75,  76,  77,\n",
       "         78,  79,  80,  81,  82,  83,  84,  85,  86,  87,  88,  89,  90,\n",
       "         91,  92,  93,  94,  95,  96,  97,  98,  99, 100, 101, 102, 103,\n",
       "        104, 105, 106, 107, 108, 109, 110, 111, 112, 113, 114, 115, 116,\n",
       "        117, 118, 119, 120, 121, 122, 123, 124, 125, 126, 127, 128, 129,\n",
       "        130, 131, 132, 133, 134, 135, 136, 137, 138, 139, 140, 141, 142,\n",
       "        143, 144, 145, 146, 147, 148, 149, 150, 151, 152, 153, 154, 155,\n",
       "        156, 157, 158, 159, 160, 161, 162, 163, 164, 165, 166, 167, 168,\n",
       "        169, 170, 171, 172, 173, 174, 175, 176, 177, 178, 179, 180, 181,\n",
       "        182, 183, 184, 185, 186, 187, 188, 189, 190, 191, 192, 193, 194,\n",
       "        195, 196, 197, 198, 199, 200, 201, 202, 203, 204, 205, 206, 207,\n",
       "        208, 209, 210, 211, 212, 213, 214, 215, 216, 217, 218, 219, 220,\n",
       "        221, 222])]"
      ]
     },
     "execution_count": 120,
     "metadata": {},
     "output_type": "execute_result"
    }
   ],
   "source": [
    "train_slices"
   ]
  },
  {
   "cell_type": "code",
   "execution_count": 121,
   "id": "b46ab5ad-6888-49c4-9b28-df009bf9ae2d",
   "metadata": {},
   "outputs": [],
   "source": [
    "from sklearn.naive_bayes import MultinomialNB\n",
    "from sklearn.metrics import classification_report\n",
    "from skmultilearn.problem_transform import BinaryRelevance\n",
    "from sklearn.feature_extraction.text import CountVectorizer\n",
    "\n",
    "for train_slice in train_slices:\n",
    "    # 훈련 슬라이스와 테스트 데이터를 준비합니다\n",
    "    ds_train_sample = ds[\"train\"].select(train_slice)\n",
    "    y_train = np.array(ds_train_sample[\"label_ids\"])\n",
    "    y_test = np.array(ds[\"test\"][\"label_ids\"])\n",
    "    # 간단한 CountVectorizer를 사용해 텍스트를 토큰 카운트로 인코딩합니다\n",
    "    count_vect = CountVectorizer()\n",
    "    X_train_counts = count_vect.fit_transform(ds_train_sample[\"text\"])\n",
    "    X_test_counts = count_vect.transform(ds[\"test\"][\"text\"])\n",
    "    # 모델을 만들고 훈련합니다!\n",
    "    classifier = BinaryRelevance(classifier=MultinomialNB())\n",
    "    classifier.fit(X_train_counts, y_train)\n",
    "    # 예측을 생성하고 평가합니다\n",
    "    y_pred_test = classifier.predict(X_test_counts)\n",
    "    clf_report = classification_report(\n",
    "        y_test, y_pred_test, target_names=mlb.classes_, zero_division=0,\n",
    "        output_dict=True)\n",
    "    # 평가 결과를 저장합니다\n",
    "    macro_scores[\"Naive Bayes\"].append(clf_report[\"macro avg\"][\"f1-score\"])\n",
    "    micro_scores[\"Naive Bayes\"].append(clf_report[\"micro avg\"][\"f1-score\"])"
   ]
  },
  {
   "cell_type": "code",
   "execution_count": 122,
   "id": "0eecabd1-52cb-433b-9877-8d1bcf1bdea5",
   "metadata": {},
   "outputs": [
    {
     "data": {
      "text/plain": [
       "{'documentation': {'precision': 0.0,\n",
       "  'recall': 0.0,\n",
       "  'f1-score': 0.0,\n",
       "  'support': 7.0},\n",
       " 'examples': {'precision': 0.0,\n",
       "  'recall': 0.0,\n",
       "  'f1-score': 0.0,\n",
       "  'support': 6.0},\n",
       " 'model training': {'precision': 1.0,\n",
       "  'recall': 0.0625,\n",
       "  'f1-score': 0.11764705882352941,\n",
       "  'support': 16.0},\n",
       " 'new model': {'precision': 0.8461538461538461,\n",
       "  'recall': 0.9166666666666666,\n",
       "  'f1-score': 0.88,\n",
       "  'support': 24.0},\n",
       " 'pipeline': {'precision': 0.5,\n",
       "  'recall': 0.18181818181818182,\n",
       "  'f1-score': 0.26666666666666666,\n",
       "  'support': 11.0},\n",
       " 'pytorch': {'precision': 0.0,\n",
       "  'recall': 0.0,\n",
       "  'f1-score': 0.0,\n",
       "  'support': 10.0},\n",
       " 'tensorflow or tf': {'precision': 0.5714285714285714,\n",
       "  'recall': 0.36363636363636365,\n",
       "  'f1-score': 0.4444444444444444,\n",
       "  'support': 11.0},\n",
       " 'tokenization': {'precision': 0.625,\n",
       "  'recall': 0.9615384615384616,\n",
       "  'f1-score': 0.7575757575757576,\n",
       "  'support': 26.0},\n",
       " 'usage': {'precision': 0.0, 'recall': 0.0, 'f1-score': 0.0, 'support': 12.0},\n",
       " 'micro avg': {'precision': 0.6835443037974683,\n",
       "  'recall': 0.43902439024390244,\n",
       "  'f1-score': 0.5346534653465347,\n",
       "  'support': 123.0},\n",
       " 'macro avg': {'precision': 0.39362026862026867,\n",
       "  'recall': 0.27623996373996373,\n",
       "  'f1-score': 0.27403710305671086,\n",
       "  'support': 123.0},\n",
       " 'weighted avg': {'precision': 0.5231171267756634,\n",
       "  'recall': 0.43902439024390244,\n",
       "  'f1-score': 0.4107442671574666,\n",
       "  'support': 123.0},\n",
       " 'samples avg': {'precision': 0.4804804804804805,\n",
       "  'recall': 0.4774774774774775,\n",
       "  'f1-score': 0.4759759759759759,\n",
       "  'support': 123.0}}"
      ]
     },
     "execution_count": 122,
     "metadata": {},
     "output_type": "execute_result"
    }
   ],
   "source": [
    "clf_report"
   ]
  },
  {
   "cell_type": "markdown",
   "id": "bbfbd742-37bb-4a6d-8105-9ebec1dfb28c",
   "metadata": {},
   "source": [
    "- 실험 결과 그래프로 표시"
   ]
  },
  {
   "cell_type": "code",
   "execution_count": 123,
   "id": "3203ccff-1db0-4de7-95b9-0a85c6995103",
   "metadata": {},
   "outputs": [],
   "source": [
    "import matplotlib.pyplot as plt\n",
    "\n",
    "def plot_metrics(micro_scores, macro_scores, sample_sizes, current_model):\n",
    "    fig, (ax0, ax1) = plt.subplots(1, 2, figsize=(10, 4), sharey=True)\n",
    "\n",
    "    for run in micro_scores.keys():\n",
    "        if run == current_model:\n",
    "            ax0.plot(sample_sizes, micro_scores[run], label=run, linewidth=2)\n",
    "            ax1.plot(sample_sizes, macro_scores[run], label=run, linewidth=2)\n",
    "        else:\n",
    "            ax0.plot(sample_sizes, micro_scores[run], label=run,\n",
    "                     linestyle=\"dashed\")\n",
    "            ax1.plot(sample_sizes, macro_scores[run], label=run,\n",
    "                     linestyle=\"dashed\")\n",
    "\n",
    "    ax0.set_title(\"Micro F1 scores\")\n",
    "    ax1.set_title(\"Macro F1 scores\")\n",
    "    ax0.set_ylabel(\"Test set F1 score\")\n",
    "    ax0.legend(loc=\"lower right\")\n",
    "    for ax in [ax0, ax1]:\n",
    "        ax.set_xlabel(\"Number of training samples\")\n",
    "        ax.set_xscale(\"log\")\n",
    "        ax.set_xticks(sample_sizes)\n",
    "        ax.set_xticklabels(sample_sizes)\n",
    "        ax.minorticks_off()\n",
    "    plt.tight_layout()\n",
    "    plt.show()"
   ]
  },
  {
   "cell_type": "code",
   "execution_count": 124,
   "id": "c7f42db3-178c-49a7-a6b8-0eba2bbcaeaf",
   "metadata": {},
   "outputs": [
    {
     "data": {
      "image/png": "[encoded data removed]",
      "text/plain": [
       "<Figure size 1000x400 with 2 Axes>"
      ]
     },
     "metadata": {},
     "output_type": "display_data"
    }
   ],
   "source": [
    "plot_metrics(micro_scores, macro_scores, train_samples, \"Naive Bayes\")"
   ]
  },
  {
   "cell_type": "markdown",
   "id": "776a5536-dfaf-476c-a1c8-e5c62ba5aa14",
   "metadata": {},
   "source": [
    "- 샘플수 증가에 따라, 매크로, 마이크로 f1 점수 모두 향상하는 추세\n",
    "    - 샘플수가 너무 작으면 슬라이스 마다 클래스 분포가 달라져 결과에 잡음 발생"
   ]
  },
  {
   "cell_type": "markdown",
   "id": "f0c6dc7a-edfd-4165-8516-73cbf8bc5d5f",
   "metadata": {},
   "source": [
    "# 레이블이 없는 데이터 다루기\n",
    "\n",
    "<img alt=\"decision-tree\" caption=\"Several techniques that can be used to improve model performance in the absence of large amounts of labeled data\" src=\"https://github.com/rickiepark/nlp-with-transformers/blob/main/images/chapter09_decision-tree.png?raw=1\" id=\"decision-tree\" width=\"700px\"/>\n",
    "\n",
    "- 레이블이 전혀 없는 상황에 적합한 제로샷 분류(zero-shot classification)\n",
    "- 작업별 말뭉치에서 추가로 미세 튜닝 없이 사전 훈련된 모델을 사용하는 것이 목표\n",
    "- BERT 같은 언어모델은 수천권의 책과 위키피디아 대규모 덤프에서 마스킹된 토큰을 예측 하도록 훈련 되었다\n",
    "- 이를 위해선 문맥에 있는 주제를 인식 해야 한다\n",
    "- 예제\n",
    "    - 자동차와 동물을 좋아하는 두 아이가 있다\n",
    "    - 이미 개봉된 영화를 모두 보았을 때, 새 영화의 주제를 알려주는 문제\n",
    "    - BERT의 fill-mask 사용"
   ]
  },
  {
   "cell_type": "code",
   "execution_count": 125,
   "id": "045faee6-015a-43e0-ac28-cbce1ab6b116",
   "metadata": {},
   "outputs": [
    {
     "name": "stderr",
     "output_type": "stream",
     "text": [
      "Some weights of the model checkpoint at bert-base-uncased were not used when initializing BertForMaskedLM: ['cls.seq_relationship.weight', 'cls.seq_relationship.bias']\n",
      "- This IS expected if you are initializing BertForMaskedLM from the checkpoint of a model trained on another task or with another architecture (e.g. initializing a BertForSequenceClassification model from a BertForPreTraining model).\n",
      "- This IS NOT expected if you are initializing BertForMaskedLM from the checkpoint of a model that you expect to be exactly identical (initializing a BertForSequenceClassification model from a BertForSequenceClassification model).\n"
     ]
    }
   ],
   "source": [
    "from transformers import pipeline\n",
    "\n",
    "pipe = pipeline(\"fill-mask\", model=\"bert-base-uncased\")"
   ]
  },
  {
   "cell_type": "markdown",
   "id": "d0104480",
   "metadata": {},
   "source": [
    "- 약간의 영화 설명을 작성 후, 마스킹된 단어를 위한 프롬프트 작성\n",
    "    - 이 프롬프트는 모델이 분류하도록 안내하는 역할\n",
    "- fill-mask 파리프라인은 마스킹된 위치에 놓기에 가장 가능성이 높은 토큰 반환"
   ]
  },
  {
   "cell_type": "code",
   "execution_count": 126,
   "id": "aa318c10",
   "metadata": {},
   "outputs": [
    {
     "name": "stdout",
     "output_type": "stream",
     "text": [
      "토큰 animals:\t0.103%\n",
      "토큰 lions:\t0.066%\n",
      "토큰 birds:\t0.025%\n",
      "토큰 love:\t0.015%\n",
      "토큰 hunting:\t0.013%\n"
     ]
    }
   ],
   "source": [
    "movie_desc = \"The main characters of the movie madacascar \\\n",
    "are a lion, a zebra, a giraffe, and a hippo. \"\n",
    "prompt = \"The movie is about [MASK].\"\n",
    "\n",
    "output = pipe(movie_desc + prompt)\n",
    "for element in output:\n",
    "    print(f\"토큰 {element['token_str']}:\\t{element['score']:.3f}%\")"
   ]
  },
  {
   "cell_type": "markdown",
   "id": "81fcc705",
   "metadata": {},
   "source": [
    "- 가장 가능성이 높은 토큰이 아니라, 주어진 토큰에 대한 확률 출력 하도록 수정"
   ]
  },
  {
   "cell_type": "code",
   "execution_count": 127,
   "id": "aa305120",
   "metadata": {},
   "outputs": [
    {
     "name": "stdout",
     "output_type": "stream",
     "text": [
      "토큰 animals:\t0.103%\n",
      "토큰 cars:\t0.001%\n"
     ]
    }
   ],
   "source": [
    "output = pipe(movie_desc + prompt, targets=[\"animals\", \"cars\"])\n",
    "for element in output:\n",
    "    print(f\"토큰 {element['token_str']}:\\t{element['score']:.3f}%\")"
   ]
  },
  {
   "cell_type": "markdown",
   "id": "53bcb9f4",
   "metadata": {},
   "source": [
    "- 자동차 관련 테스트"
   ]
  },
  {
   "cell_type": "code",
   "execution_count": 128,
   "id": "a937eaa7",
   "metadata": {},
   "outputs": [
    {
     "name": "stdout",
     "output_type": "stream",
     "text": [
      "토큰 cars:\t0.139%\n",
      "토큰 animals:\t0.006%\n"
     ]
    }
   ],
   "source": [
    "movie_desc = \"In the movie transformers aliens \\\n",
    "can morph into a wide range of vehicles.\"\n",
    "\n",
    "output = pipe(movie_desc + prompt, targets=[\"animals\", \"cars\"])\n",
    "for element in output:\n",
    "    print(f\"토큰 {element['token_str']}:\\t{element['score']:.3f}%\")"
   ]
  },
  {
   "cell_type": "markdown",
   "id": "00dc0a74",
   "metadata": {},
   "source": [
    "- 좀 더 비슷한 작업에서 훌련된 모델을 사용하는 것이 더 좋을 때도 있음\n",
    "    - 텍스트 함의(text entailment)\n",
    "    - 모델이 두개의 텍스트 구정이 서로 연결되는지 아니며 모순되는 판단\n",
    "    - 모델은 일반적으로 MNLI(multi-genre NLI)말뭉치나 XNLI(Cross-lingual NLI) 말뭉치 같은 데이터에서 모순 여부 학습"
   ]
  },
  {
   "cell_type": "code",
   "execution_count": 129,
   "id": "232c05b4",
   "metadata": {},
   "outputs": [],
   "source": [
    "from transformers import pipeline\n",
    "\n",
    "# CPU에서 실행하려면 device=0을 삭제하세요.\n",
    "pipe = pipeline(\"zero-shot-classification\", device=0)"
   ]
  },
  {
   "cell_type": "markdown",
   "id": "19b875e9",
   "metadata": {},
   "source": [
    "- multi_label=True : 모든 레벨에 대한 점수 출력"
   ]
  },
  {
   "cell_type": "code",
   "execution_count": 130,
   "id": "74350dba",
   "metadata": {},
   "outputs": [
    {
     "name": "stdout",
     "output_type": "stream",
     "text": [
      "레이블: ['new model']\n",
      "Add new CANINE model\n",
      "\n",
      "# 🌟 New model addition\n",
      "\n",
      "## Model description\n",
      "\n",
      "Google recently proposed a new **C**haracter **A**rchitecture with **N**o tokenization **I**n **N**eural **E**ncoders architecture (CANINE). Not only the title is exciting:\n",
      "\n",
      "> Pipelined NLP systems have largely been superseded by end-to-end neural modeling, yet nearly all commonly-used models still require an explicit tokeni\n",
      "\n",
      "예측:\n",
      "new model, 0.98\n",
      "tensorflow or tf, 0.37\n",
      "examples, 0.34\n",
      "usage, 0.30\n",
      "pytorch, 0.25\n",
      "documentation, 0.25\n",
      "model training, 0.24\n",
      "tokenization, 0.17\n",
      "pipeline, 0.16\n"
     ]
    }
   ],
   "source": [
    "sample = ds[\"train\"][0]\n",
    "print(f\"레이블: {sample['labels']}\")\n",
    "output = pipe(sample[\"text\"], all_labels, multi_label=True)\n",
    "print(output[\"sequence\"][:400])\n",
    "print(\"\\n예측:\")\n",
    "\n",
    "for label, score in zip(output[\"labels\"], output[\"scores\"]):\n",
    "    print(f\"{label}, {score:.2f}\")"
   ]
  },
  {
   "cell_type": "markdown",
   "id": "fdf52bf8",
   "metadata": {},
   "source": [
    "- 정답(new model) 뿐만 아니라 다른 label도 높은 점수\n",
    "- 이 모델이 학습한 데이터와 우리가 다루는 데이터가 상이하기 때문\n",
    "- 위 내용을 전체 데이터에 적용하도록 함수화"
   ]
  },
  {
   "cell_type": "code",
   "execution_count": 131,
   "id": "811f495c",
   "metadata": {},
   "outputs": [
    {
     "data": {
      "application/vnd.jupyter.widget-view+json": {
       "model_id": "d39c2b7246de4bd09ffe9840668d9955",
       "version_major": 2,
       "version_minor": 0
      },
      "text/plain": [
       "Map:   0%|          | 0/106 [00:00<?, ? examples/s]"
      ]
     },
     "metadata": {},
     "output_type": "display_data"
    },
    {
     "name": "stderr",
     "output_type": "stream",
     "text": [
      "/home/restful3/anaconda3/envs/trading/lib/python3.9/site-packages/transformers/pipelines/base.py:1081: UserWarning: You seem to be using the pipelines sequentially on GPU. In order to maximize efficiency please use a dataset\n",
      "  warnings.warn(\n"
     ]
    }
   ],
   "source": [
    "def zero_shot_pipeline(example):\n",
    "    output = pipe(example[\"text\"], all_labels, multi_label=True)\n",
    "    example[\"predicted_labels\"] = output[\"labels\"]\n",
    "    example[\"scores\"] = output[\"scores\"]\n",
    "    return example\n",
    "\n",
    "ds_zero_shot = ds[\"valid\"].map(zero_shot_pipeline)"
   ]
  },
  {
   "cell_type": "markdown",
   "id": "12b31908",
   "metadata": {},
   "source": [
    "- 샘플마다 어떤 레이블을 할당할 것인가의 두가지 선택지\n",
    "    - 임계값을 정의하고, 이 임계값을 초과한 모든 레이블 선택\n",
    "    - 점수가 높은 순으로 상위 k개 레이블 선택"
   ]
  },
  {
   "cell_type": "code",
   "execution_count": 132,
   "id": "1216e7f7",
   "metadata": {},
   "outputs": [],
   "source": [
    "def get_preds(example, threshold=None, topk=None):\n",
    "    preds = []\n",
    "    if threshold:\n",
    "        for label, score in zip(example[\"predicted_labels\"], example[\"scores\"]):\n",
    "            if score >= threshold:\n",
    "                preds.append(label)\n",
    "    elif topk:\n",
    "        for i in range(topk):\n",
    "            preds.append(example[\"predicted_labels\"][i])\n",
    "    else:\n",
    "        raise ValueError(\"`threshold` 또는 `topk`로 지정해야 합니다.\")\n",
    "    return {\"pred_label_ids\": list(np.squeeze(mlb.transform([preds])))}"
   ]
  },
  {
   "cell_type": "markdown",
   "id": "4a2053a6",
   "metadata": {},
   "source": [
    "- 분류 결과를 리포팅 하는 함수"
   ]
  },
  {
   "cell_type": "code",
   "execution_count": 133,
   "id": "58b974cf",
   "metadata": {},
   "outputs": [],
   "source": [
    "def get_clf_report(ds):\n",
    "    y_true = np.array(ds[\"label_ids\"])\n",
    "    y_pred = np.array(ds[\"pred_label_ids\"])\n",
    "    return classification_report(\n",
    "        y_true, y_pred, target_names=mlb.classes_, zero_division=0,\n",
    "        output_dict=True)"
   ]
  },
  {
   "cell_type": "markdown",
   "id": "0b156d2d",
   "metadata": {},
   "source": [
    "- topk 방법의 결과"
   ]
  },
  {
   "cell_type": "code",
   "execution_count": 134,
   "id": "15334bc4",
   "metadata": {},
   "outputs": [
    {
     "data": {
      "application/vnd.jupyter.widget-view+json": {
       "model_id": "2d4a04baabd540d69af5be23b859dc12",
       "version_major": 2,
       "version_minor": 0
      },
      "text/plain": [
       "Map:   0%|          | 0/106 [00:00<?, ? examples/s]"
      ]
     },
     "metadata": {},
     "output_type": "display_data"
    },
    {
     "data": {
      "application/vnd.jupyter.widget-view+json": {
       "model_id": "5a6ac6891c2b4d67a9a7421e123d334a",
       "version_major": 2,
       "version_minor": 0
      },
      "text/plain": [
       "Map:   0%|          | 0/106 [00:00<?, ? examples/s]"
      ]
     },
     "metadata": {},
     "output_type": "display_data"
    },
    {
     "data": {
      "application/vnd.jupyter.widget-view+json": {
       "model_id": "c573a8d7866f48aab39332c65899af91",
       "version_major": 2,
       "version_minor": 0
      },
      "text/plain": [
       "Map:   0%|          | 0/106 [00:00<?, ? examples/s]"
      ]
     },
     "metadata": {},
     "output_type": "display_data"
    },
    {
     "data": {
      "application/vnd.jupyter.widget-view+json": {
       "model_id": "ece699acb71f4ca2a366622d0a66d80f",
       "version_major": 2,
       "version_minor": 0
      },
      "text/plain": [
       "Map:   0%|          | 0/106 [00:00<?, ? examples/s]"
      ]
     },
     "metadata": {},
     "output_type": "display_data"
    }
   ],
   "source": [
    "macros, micros = [], []\n",
    "topks = [1, 2, 3, 4]\n",
    "for topk in topks:\n",
    "    ds_zero_shot = ds_zero_shot.map(get_preds, batched=False,\n",
    "                                    fn_kwargs={'topk': topk})\n",
    "    clf_report = get_clf_report(ds_zero_shot)\n",
    "    micros.append(clf_report['micro avg']['f1-score'])\n",
    "    macros.append(clf_report['macro avg']['f1-score'])"
   ]
  },
  {
   "cell_type": "code",
   "execution_count": 135,
   "id": "c63db239",
   "metadata": {},
   "outputs": [
    {
     "data": {
      "image/png": "[encoded data removed]",
      "text/plain": [
       "<Figure size 640x480 with 1 Axes>"
      ]
     },
     "metadata": {},
     "output_type": "display_data"
    }
   ],
   "source": [
    "plt.plot(topks, micros, label='Micro F1')\n",
    "plt.plot(topks, macros, label='Macro F1')\n",
    "plt.xlabel(\"Top-k\")\n",
    "plt.ylabel(\"F1-score\")\n",
    "plt.legend(loc='best')\n",
    "plt.show()"
   ]
  },
  {
   "cell_type": "markdown",
   "id": "9d13627f",
   "metadata": {},
   "source": [
    "- k가 작을 수록(샘플당 점수가 가장 높은 레이블만 고르는) 방식이 좋다\n",
    "- 임계값 방식과 비교"
   ]
  },
  {
   "cell_type": "code",
   "execution_count": 136,
   "id": "6c97a50c",
   "metadata": {},
   "outputs": [
    {
     "data": {
      "application/vnd.jupyter.widget-view+json": {
       "model_id": "737738fddfa54a33b5df4395f2a56318",
       "version_major": 2,
       "version_minor": 0
      },
      "text/plain": [
       "Map:   0%|          | 0/106 [00:00<?, ? examples/s]"
      ]
     },
     "metadata": {},
     "output_type": "display_data"
    },
    {
     "data": {
      "application/vnd.jupyter.widget-view+json": {
       "model_id": "1453efe42e0c42cdb31b6acdadf6abc3",
       "version_major": 2,
       "version_minor": 0
      },
      "text/plain": [
       "Map:   0%|          | 0/106 [00:00<?, ? examples/s]"
      ]
     },
     "metadata": {},
     "output_type": "display_data"
    },
    {
     "data": {
      "application/vnd.jupyter.widget-view+json": {
       "model_id": "35460c489c604c75bca902cf1a77ca6e",
       "version_major": 2,
       "version_minor": 0
      },
      "text/plain": [
       "Map:   0%|          | 0/106 [00:00<?, ? examples/s]"
      ]
     },
     "metadata": {},
     "output_type": "display_data"
    },
    {
     "data": {
      "application/vnd.jupyter.widget-view+json": {
       "model_id": "a63cb1bd7c9f40cba10d4d44793dc3d1",
       "version_major": 2,
       "version_minor": 0
      },
      "text/plain": [
       "Map:   0%|          | 0/106 [00:00<?, ? examples/s]"
      ]
     },
     "metadata": {},
     "output_type": "display_data"
    },
    {
     "data": {
      "application/vnd.jupyter.widget-view+json": {
       "model_id": "84a86b0f178e4995934c1de911bd0c0b",
       "version_major": 2,
       "version_minor": 0
      },
      "text/plain": [
       "Map:   0%|          | 0/106 [00:00<?, ? examples/s]"
      ]
     },
     "metadata": {},
     "output_type": "display_data"
    },
    {
     "data": {
      "application/vnd.jupyter.widget-view+json": {
       "model_id": "e8dc25a108d5479d88fabbe5373fac18",
       "version_major": 2,
       "version_minor": 0
      },
      "text/plain": [
       "Map:   0%|          | 0/106 [00:00<?, ? examples/s]"
      ]
     },
     "metadata": {},
     "output_type": "display_data"
    },
    {
     "data": {
      "application/vnd.jupyter.widget-view+json": {
       "model_id": "d5822f71a994460792a26a8776ec0fac",
       "version_major": 2,
       "version_minor": 0
      },
      "text/plain": [
       "Map:   0%|          | 0/106 [00:00<?, ? examples/s]"
      ]
     },
     "metadata": {},
     "output_type": "display_data"
    },
    {
     "data": {
      "application/vnd.jupyter.widget-view+json": {
       "model_id": "ccb8b3217255442c88fbcb7ca37bea1f",
       "version_major": 2,
       "version_minor": 0
      },
      "text/plain": [
       "Map:   0%|          | 0/106 [00:00<?, ? examples/s]"
      ]
     },
     "metadata": {},
     "output_type": "display_data"
    },
    {
     "data": {
      "application/vnd.jupyter.widget-view+json": {
       "model_id": "07bdcb006ec34add846eb105f4bbf764",
       "version_major": 2,
       "version_minor": 0
      },
      "text/plain": [
       "Map:   0%|          | 0/106 [00:00<?, ? examples/s]"
      ]
     },
     "metadata": {},
     "output_type": "display_data"
    },
    {
     "data": {
      "application/vnd.jupyter.widget-view+json": {
       "model_id": "a9e9621752fd46cc836a3036d98082ce",
       "version_major": 2,
       "version_minor": 0
      },
      "text/plain": [
       "Map:   0%|          | 0/106 [00:00<?, ? examples/s]"
      ]
     },
     "metadata": {},
     "output_type": "display_data"
    },
    {
     "data": {
      "application/vnd.jupyter.widget-view+json": {
       "model_id": "6aaefb6a044c4d0cbdcb80451d28e8ec",
       "version_major": 2,
       "version_minor": 0
      },
      "text/plain": [
       "Map:   0%|          | 0/106 [00:00<?, ? examples/s]"
      ]
     },
     "metadata": {},
     "output_type": "display_data"
    },
    {
     "data": {
      "application/vnd.jupyter.widget-view+json": {
       "model_id": "08dd8cf6e61148a8a0ac4f363dc90c0e",
       "version_major": 2,
       "version_minor": 0
      },
      "text/plain": [
       "Map:   0%|          | 0/106 [00:00<?, ? examples/s]"
      ]
     },
     "metadata": {},
     "output_type": "display_data"
    },
    {
     "data": {
      "application/vnd.jupyter.widget-view+json": {
       "model_id": "b3d471196a8f4b44a8775409bdd2a572",
       "version_major": 2,
       "version_minor": 0
      },
      "text/plain": [
       "Map:   0%|          | 0/106 [00:00<?, ? examples/s]"
      ]
     },
     "metadata": {},
     "output_type": "display_data"
    },
    {
     "data": {
      "application/vnd.jupyter.widget-view+json": {
       "model_id": "8911c8d64e7b4c18a19463defb788dd0",
       "version_major": 2,
       "version_minor": 0
      },
      "text/plain": [
       "Map:   0%|          | 0/106 [00:00<?, ? examples/s]"
      ]
     },
     "metadata": {},
     "output_type": "display_data"
    },
    {
     "data": {
      "application/vnd.jupyter.widget-view+json": {
       "model_id": "129f680a8b4e4be29215671933d473b0",
       "version_major": 2,
       "version_minor": 0
      },
      "text/plain": [
       "Map:   0%|          | 0/106 [00:00<?, ? examples/s]"
      ]
     },
     "metadata": {},
     "output_type": "display_data"
    },
    {
     "data": {
      "application/vnd.jupyter.widget-view+json": {
       "model_id": "9ec519c6eff642899641d4c931b63f01",
       "version_major": 2,
       "version_minor": 0
      },
      "text/plain": [
       "Map:   0%|          | 0/106 [00:00<?, ? examples/s]"
      ]
     },
     "metadata": {},
     "output_type": "display_data"
    },
    {
     "data": {
      "application/vnd.jupyter.widget-view+json": {
       "model_id": "61a1aa1852eb41848ba3efd8ba7bf8a3",
       "version_major": 2,
       "version_minor": 0
      },
      "text/plain": [
       "Map:   0%|          | 0/106 [00:00<?, ? examples/s]"
      ]
     },
     "metadata": {},
     "output_type": "display_data"
    },
    {
     "data": {
      "application/vnd.jupyter.widget-view+json": {
       "model_id": "f2b1fc8f0cd34d22b7c097dac99c00d8",
       "version_major": 2,
       "version_minor": 0
      },
      "text/plain": [
       "Map:   0%|          | 0/106 [00:00<?, ? examples/s]"
      ]
     },
     "metadata": {},
     "output_type": "display_data"
    },
    {
     "data": {
      "application/vnd.jupyter.widget-view+json": {
       "model_id": "05bca5017c1b4b2bbe2c491ab109e68b",
       "version_major": 2,
       "version_minor": 0
      },
      "text/plain": [
       "Map:   0%|          | 0/106 [00:00<?, ? examples/s]"
      ]
     },
     "metadata": {},
     "output_type": "display_data"
    },
    {
     "data": {
      "application/vnd.jupyter.widget-view+json": {
       "model_id": "84d3c2f80bb841d6851183d366fd50ea",
       "version_major": 2,
       "version_minor": 0
      },
      "text/plain": [
       "Map:   0%|          | 0/106 [00:00<?, ? examples/s]"
      ]
     },
     "metadata": {},
     "output_type": "display_data"
    },
    {
     "data": {
      "application/vnd.jupyter.widget-view+json": {
       "model_id": "8bcc269cbcec4644908646d5cd289c25",
       "version_major": 2,
       "version_minor": 0
      },
      "text/plain": [
       "Map:   0%|          | 0/106 [00:00<?, ? examples/s]"
      ]
     },
     "metadata": {},
     "output_type": "display_data"
    },
    {
     "data": {
      "application/vnd.jupyter.widget-view+json": {
       "model_id": "4d2797c46c0e4bb8a5c1839b0e1d0635",
       "version_major": 2,
       "version_minor": 0
      },
      "text/plain": [
       "Map:   0%|          | 0/106 [00:00<?, ? examples/s]"
      ]
     },
     "metadata": {},
     "output_type": "display_data"
    },
    {
     "data": {
      "application/vnd.jupyter.widget-view+json": {
       "model_id": "02bc369bc6074720927a1788fbe00303",
       "version_major": 2,
       "version_minor": 0
      },
      "text/plain": [
       "Map:   0%|          | 0/106 [00:00<?, ? examples/s]"
      ]
     },
     "metadata": {},
     "output_type": "display_data"
    },
    {
     "data": {
      "application/vnd.jupyter.widget-view+json": {
       "model_id": "aed8932438d5461aa8b6d9e60ab41b64",
       "version_major": 2,
       "version_minor": 0
      },
      "text/plain": [
       "Map:   0%|          | 0/106 [00:00<?, ? examples/s]"
      ]
     },
     "metadata": {},
     "output_type": "display_data"
    },
    {
     "data": {
      "application/vnd.jupyter.widget-view+json": {
       "model_id": "33af3912f35e497d90a7b4c6d9ea8134",
       "version_major": 2,
       "version_minor": 0
      },
      "text/plain": [
       "Map:   0%|          | 0/106 [00:00<?, ? examples/s]"
      ]
     },
     "metadata": {},
     "output_type": "display_data"
    },
    {
     "data": {
      "application/vnd.jupyter.widget-view+json": {
       "model_id": "f07ad70e364f4eb69d743d43388cdacd",
       "version_major": 2,
       "version_minor": 0
      },
      "text/plain": [
       "Map:   0%|          | 0/106 [00:00<?, ? examples/s]"
      ]
     },
     "metadata": {},
     "output_type": "display_data"
    },
    {
     "data": {
      "application/vnd.jupyter.widget-view+json": {
       "model_id": "a3d735f3b19742c7925e7e56a74e989d",
       "version_major": 2,
       "version_minor": 0
      },
      "text/plain": [
       "Map:   0%|          | 0/106 [00:00<?, ? examples/s]"
      ]
     },
     "metadata": {},
     "output_type": "display_data"
    },
    {
     "data": {
      "application/vnd.jupyter.widget-view+json": {
       "model_id": "ac1638f7308a4e6587c0592281efdf2d",
       "version_major": 2,
       "version_minor": 0
      },
      "text/plain": [
       "Map:   0%|          | 0/106 [00:00<?, ? examples/s]"
      ]
     },
     "metadata": {},
     "output_type": "display_data"
    },
    {
     "data": {
      "application/vnd.jupyter.widget-view+json": {
       "model_id": "ddc09e85e22348aaa02d22191828e13d",
       "version_major": 2,
       "version_minor": 0
      },
      "text/plain": [
       "Map:   0%|          | 0/106 [00:00<?, ? examples/s]"
      ]
     },
     "metadata": {},
     "output_type": "display_data"
    },
    {
     "data": {
      "application/vnd.jupyter.widget-view+json": {
       "model_id": "6bf0b2b390114457ad687f241f33179f",
       "version_major": 2,
       "version_minor": 0
      },
      "text/plain": [
       "Map:   0%|          | 0/106 [00:00<?, ? examples/s]"
      ]
     },
     "metadata": {},
     "output_type": "display_data"
    },
    {
     "data": {
      "application/vnd.jupyter.widget-view+json": {
       "model_id": "21f4887813ba4193a2fb9c713ad6f5f3",
       "version_major": 2,
       "version_minor": 0
      },
      "text/plain": [
       "Map:   0%|          | 0/106 [00:00<?, ? examples/s]"
      ]
     },
     "metadata": {},
     "output_type": "display_data"
    },
    {
     "data": {
      "application/vnd.jupyter.widget-view+json": {
       "model_id": "487330296c794bd0a25e9377699f1f6b",
       "version_major": 2,
       "version_minor": 0
      },
      "text/plain": [
       "Map:   0%|          | 0/106 [00:00<?, ? examples/s]"
      ]
     },
     "metadata": {},
     "output_type": "display_data"
    },
    {
     "data": {
      "application/vnd.jupyter.widget-view+json": {
       "model_id": "ce634e341efd430fb0a44d637afb9448",
       "version_major": 2,
       "version_minor": 0
      },
      "text/plain": [
       "Map:   0%|          | 0/106 [00:00<?, ? examples/s]"
      ]
     },
     "metadata": {},
     "output_type": "display_data"
    },
    {
     "data": {
      "application/vnd.jupyter.widget-view+json": {
       "model_id": "d5510ae12a9d48a78238dbeb9e98be5e",
       "version_major": 2,
       "version_minor": 0
      },
      "text/plain": [
       "Map:   0%|          | 0/106 [00:00<?, ? examples/s]"
      ]
     },
     "metadata": {},
     "output_type": "display_data"
    },
    {
     "data": {
      "application/vnd.jupyter.widget-view+json": {
       "model_id": "91840cf817864e4495a23fdc819c082e",
       "version_major": 2,
       "version_minor": 0
      },
      "text/plain": [
       "Map:   0%|          | 0/106 [00:00<?, ? examples/s]"
      ]
     },
     "metadata": {},
     "output_type": "display_data"
    },
    {
     "data": {
      "application/vnd.jupyter.widget-view+json": {
       "model_id": "61d6d52c0cf54eb19aa56df6b7766100",
       "version_major": 2,
       "version_minor": 0
      },
      "text/plain": [
       "Map:   0%|          | 0/106 [00:00<?, ? examples/s]"
      ]
     },
     "metadata": {},
     "output_type": "display_data"
    },
    {
     "data": {
      "application/vnd.jupyter.widget-view+json": {
       "model_id": "77c8c2e5c2574241822c4a9608cde6da",
       "version_major": 2,
       "version_minor": 0
      },
      "text/plain": [
       "Map:   0%|          | 0/106 [00:00<?, ? examples/s]"
      ]
     },
     "metadata": {},
     "output_type": "display_data"
    },
    {
     "data": {
      "application/vnd.jupyter.widget-view+json": {
       "model_id": "613807830f7e4e54847169bb71157834",
       "version_major": 2,
       "version_minor": 0
      },
      "text/plain": [
       "Map:   0%|          | 0/106 [00:00<?, ? examples/s]"
      ]
     },
     "metadata": {},
     "output_type": "display_data"
    },
    {
     "data": {
      "application/vnd.jupyter.widget-view+json": {
       "model_id": "d382e4882bb84fb196f4cb0478ad1d98",
       "version_major": 2,
       "version_minor": 0
      },
      "text/plain": [
       "Map:   0%|          | 0/106 [00:00<?, ? examples/s]"
      ]
     },
     "metadata": {},
     "output_type": "display_data"
    },
    {
     "data": {
      "application/vnd.jupyter.widget-view+json": {
       "model_id": "ea9434336d0e4800bd2f438dd7146ac7",
       "version_major": 2,
       "version_minor": 0
      },
      "text/plain": [
       "Map:   0%|          | 0/106 [00:00<?, ? examples/s]"
      ]
     },
     "metadata": {},
     "output_type": "display_data"
    },
    {
     "data": {
      "application/vnd.jupyter.widget-view+json": {
       "model_id": "cb31533353184f2ea4b3e9d94bebce67",
       "version_major": 2,
       "version_minor": 0
      },
      "text/plain": [
       "Map:   0%|          | 0/106 [00:00<?, ? examples/s]"
      ]
     },
     "metadata": {},
     "output_type": "display_data"
    },
    {
     "data": {
      "application/vnd.jupyter.widget-view+json": {
       "model_id": "35e49f8f286143699ddd8503eaeb209a",
       "version_major": 2,
       "version_minor": 0
      },
      "text/plain": [
       "Map:   0%|          | 0/106 [00:00<?, ? examples/s]"
      ]
     },
     "metadata": {},
     "output_type": "display_data"
    },
    {
     "data": {
      "application/vnd.jupyter.widget-view+json": {
       "model_id": "c342f1119f3647ea9da6e05f4c334351",
       "version_major": 2,
       "version_minor": 0
      },
      "text/plain": [
       "Map:   0%|          | 0/106 [00:00<?, ? examples/s]"
      ]
     },
     "metadata": {},
     "output_type": "display_data"
    },
    {
     "data": {
      "application/vnd.jupyter.widget-view+json": {
       "model_id": "6ee5cd90597c43e1b23b3fe34215831e",
       "version_major": 2,
       "version_minor": 0
      },
      "text/plain": [
       "Map:   0%|          | 0/106 [00:00<?, ? examples/s]"
      ]
     },
     "metadata": {},
     "output_type": "display_data"
    },
    {
     "data": {
      "application/vnd.jupyter.widget-view+json": {
       "model_id": "f8e6984ce4164f83b930dd9d8fcac101",
       "version_major": 2,
       "version_minor": 0
      },
      "text/plain": [
       "Map:   0%|          | 0/106 [00:00<?, ? examples/s]"
      ]
     },
     "metadata": {},
     "output_type": "display_data"
    },
    {
     "data": {
      "application/vnd.jupyter.widget-view+json": {
       "model_id": "400c9b435d264bc6b18f6bd5798cc746",
       "version_major": 2,
       "version_minor": 0
      },
      "text/plain": [
       "Map:   0%|          | 0/106 [00:00<?, ? examples/s]"
      ]
     },
     "metadata": {},
     "output_type": "display_data"
    },
    {
     "data": {
      "application/vnd.jupyter.widget-view+json": {
       "model_id": "0509b1a5df6443c5a19594413d37cce3",
       "version_major": 2,
       "version_minor": 0
      },
      "text/plain": [
       "Map:   0%|          | 0/106 [00:00<?, ? examples/s]"
      ]
     },
     "metadata": {},
     "output_type": "display_data"
    },
    {
     "data": {
      "application/vnd.jupyter.widget-view+json": {
       "model_id": "d0e348ac05294422a16d781a31a540c9",
       "version_major": 2,
       "version_minor": 0
      },
      "text/plain": [
       "Map:   0%|          | 0/106 [00:00<?, ? examples/s]"
      ]
     },
     "metadata": {},
     "output_type": "display_data"
    },
    {
     "data": {
      "application/vnd.jupyter.widget-view+json": {
       "model_id": "3740a22730ee457c99e0df4ebf711039",
       "version_major": 2,
       "version_minor": 0
      },
      "text/plain": [
       "Map:   0%|          | 0/106 [00:00<?, ? examples/s]"
      ]
     },
     "metadata": {},
     "output_type": "display_data"
    },
    {
     "data": {
      "application/vnd.jupyter.widget-view+json": {
       "model_id": "5696b615cd33430aba25af95fba7831f",
       "version_major": 2,
       "version_minor": 0
      },
      "text/plain": [
       "Map:   0%|          | 0/106 [00:00<?, ? examples/s]"
      ]
     },
     "metadata": {},
     "output_type": "display_data"
    },
    {
     "data": {
      "application/vnd.jupyter.widget-view+json": {
       "model_id": "0fe7ece98419493d8e72e795ef61ac63",
       "version_major": 2,
       "version_minor": 0
      },
      "text/plain": [
       "Map:   0%|          | 0/106 [00:00<?, ? examples/s]"
      ]
     },
     "metadata": {},
     "output_type": "display_data"
    },
    {
     "data": {
      "application/vnd.jupyter.widget-view+json": {
       "model_id": "ac45e40a93ce465598ce851988fb5cb3",
       "version_major": 2,
       "version_minor": 0
      },
      "text/plain": [
       "Map:   0%|          | 0/106 [00:00<?, ? examples/s]"
      ]
     },
     "metadata": {},
     "output_type": "display_data"
    },
    {
     "data": {
      "application/vnd.jupyter.widget-view+json": {
       "model_id": "3df88cc5a11d4b3ab812acad01b37bfa",
       "version_major": 2,
       "version_minor": 0
      },
      "text/plain": [
       "Map:   0%|          | 0/106 [00:00<?, ? examples/s]"
      ]
     },
     "metadata": {},
     "output_type": "display_data"
    },
    {
     "data": {
      "application/vnd.jupyter.widget-view+json": {
       "model_id": "b09efb2b790944b2888b5d0d2845e802",
       "version_major": 2,
       "version_minor": 0
      },
      "text/plain": [
       "Map:   0%|          | 0/106 [00:00<?, ? examples/s]"
      ]
     },
     "metadata": {},
     "output_type": "display_data"
    },
    {
     "data": {
      "application/vnd.jupyter.widget-view+json": {
       "model_id": "4041a79bef15462eb523cb64eed54c41",
       "version_major": 2,
       "version_minor": 0
      },
      "text/plain": [
       "Map:   0%|          | 0/106 [00:00<?, ? examples/s]"
      ]
     },
     "metadata": {},
     "output_type": "display_data"
    },
    {
     "data": {
      "application/vnd.jupyter.widget-view+json": {
       "model_id": "f04e77b51049419dabe54d13d9c341b8",
       "version_major": 2,
       "version_minor": 0
      },
      "text/plain": [
       "Map:   0%|          | 0/106 [00:00<?, ? examples/s]"
      ]
     },
     "metadata": {},
     "output_type": "display_data"
    },
    {
     "data": {
      "application/vnd.jupyter.widget-view+json": {
       "model_id": "a078a4b4352741dab44a9ad48f24b38b",
       "version_major": 2,
       "version_minor": 0
      },
      "text/plain": [
       "Map:   0%|          | 0/106 [00:00<?, ? examples/s]"
      ]
     },
     "metadata": {},
     "output_type": "display_data"
    },
    {
     "data": {
      "application/vnd.jupyter.widget-view+json": {
       "model_id": "9b1a7195ac0244e690aeafb37e0f3e72",
       "version_major": 2,
       "version_minor": 0
      },
      "text/plain": [
       "Map:   0%|          | 0/106 [00:00<?, ? examples/s]"
      ]
     },
     "metadata": {},
     "output_type": "display_data"
    },
    {
     "data": {
      "application/vnd.jupyter.widget-view+json": {
       "model_id": "98650af344c54bb19d6715e0ac203c02",
       "version_major": 2,
       "version_minor": 0
      },
      "text/plain": [
       "Map:   0%|          | 0/106 [00:00<?, ? examples/s]"
      ]
     },
     "metadata": {},
     "output_type": "display_data"
    },
    {
     "data": {
      "application/vnd.jupyter.widget-view+json": {
       "model_id": "74ccf9bb7b5f4d839b141c33fa3c4f67",
       "version_major": 2,
       "version_minor": 0
      },
      "text/plain": [
       "Map:   0%|          | 0/106 [00:00<?, ? examples/s]"
      ]
     },
     "metadata": {},
     "output_type": "display_data"
    },
    {
     "data": {
      "application/vnd.jupyter.widget-view+json": {
       "model_id": "726fa9a145744b15a7904884dda7417f",
       "version_major": 2,
       "version_minor": 0
      },
      "text/plain": [
       "Map:   0%|          | 0/106 [00:00<?, ? examples/s]"
      ]
     },
     "metadata": {},
     "output_type": "display_data"
    },
    {
     "data": {
      "application/vnd.jupyter.widget-view+json": {
       "model_id": "09365b8b5eb1485da38153670b803929",
       "version_major": 2,
       "version_minor": 0
      },
      "text/plain": [
       "Map:   0%|          | 0/106 [00:00<?, ? examples/s]"
      ]
     },
     "metadata": {},
     "output_type": "display_data"
    },
    {
     "data": {
      "application/vnd.jupyter.widget-view+json": {
       "model_id": "94098f0f5ca744bebb46180eca7b8bc7",
       "version_major": 2,
       "version_minor": 0
      },
      "text/plain": [
       "Map:   0%|          | 0/106 [00:00<?, ? examples/s]"
      ]
     },
     "metadata": {},
     "output_type": "display_data"
    },
    {
     "data": {
      "application/vnd.jupyter.widget-view+json": {
       "model_id": "14ba7c146568429cb5df6e850a2f44a1",
       "version_major": 2,
       "version_minor": 0
      },
      "text/plain": [
       "Map:   0%|          | 0/106 [00:00<?, ? examples/s]"
      ]
     },
     "metadata": {},
     "output_type": "display_data"
    },
    {
     "data": {
      "application/vnd.jupyter.widget-view+json": {
       "model_id": "e767e50644ca4be299755db72a6b6b6e",
       "version_major": 2,
       "version_minor": 0
      },
      "text/plain": [
       "Map:   0%|          | 0/106 [00:00<?, ? examples/s]"
      ]
     },
     "metadata": {},
     "output_type": "display_data"
    },
    {
     "data": {
      "application/vnd.jupyter.widget-view+json": {
       "model_id": "4f588e4a60e549f89a52a10dc0804efe",
       "version_major": 2,
       "version_minor": 0
      },
      "text/plain": [
       "Map:   0%|          | 0/106 [00:00<?, ? examples/s]"
      ]
     },
     "metadata": {},
     "output_type": "display_data"
    },
    {
     "data": {
      "application/vnd.jupyter.widget-view+json": {
       "model_id": "82fea0c5ffb54c5a86868f1be989d900",
       "version_major": 2,
       "version_minor": 0
      },
      "text/plain": [
       "Map:   0%|          | 0/106 [00:00<?, ? examples/s]"
      ]
     },
     "metadata": {},
     "output_type": "display_data"
    },
    {
     "data": {
      "application/vnd.jupyter.widget-view+json": {
       "model_id": "d8714fce9743490b98ed68a92826abd6",
       "version_major": 2,
       "version_minor": 0
      },
      "text/plain": [
       "Map:   0%|          | 0/106 [00:00<?, ? examples/s]"
      ]
     },
     "metadata": {},
     "output_type": "display_data"
    },
    {
     "data": {
      "application/vnd.jupyter.widget-view+json": {
       "model_id": "2b3c833f22ab4195a43fe701b4b1362c",
       "version_major": 2,
       "version_minor": 0
      },
      "text/plain": [
       "Map:   0%|          | 0/106 [00:00<?, ? examples/s]"
      ]
     },
     "metadata": {},
     "output_type": "display_data"
    },
    {
     "data": {
      "application/vnd.jupyter.widget-view+json": {
       "model_id": "d9eec99ef45d4259a705162b00457de2",
       "version_major": 2,
       "version_minor": 0
      },
      "text/plain": [
       "Map:   0%|          | 0/106 [00:00<?, ? examples/s]"
      ]
     },
     "metadata": {},
     "output_type": "display_data"
    },
    {
     "data": {
      "application/vnd.jupyter.widget-view+json": {
       "model_id": "258096c9aad34a52b26f5f43504ebc57",
       "version_major": 2,
       "version_minor": 0
      },
      "text/plain": [
       "Map:   0%|          | 0/106 [00:00<?, ? examples/s]"
      ]
     },
     "metadata": {},
     "output_type": "display_data"
    },
    {
     "data": {
      "application/vnd.jupyter.widget-view+json": {
       "model_id": "605d6d0ce1914e2db45bd0ef661b29f2",
       "version_major": 2,
       "version_minor": 0
      },
      "text/plain": [
       "Map:   0%|          | 0/106 [00:00<?, ? examples/s]"
      ]
     },
     "metadata": {},
     "output_type": "display_data"
    },
    {
     "data": {
      "application/vnd.jupyter.widget-view+json": {
       "model_id": "387f2a0e9867437eb435b44f0c0f9257",
       "version_major": 2,
       "version_minor": 0
      },
      "text/plain": [
       "Map:   0%|          | 0/106 [00:00<?, ? examples/s]"
      ]
     },
     "metadata": {},
     "output_type": "display_data"
    },
    {
     "data": {
      "application/vnd.jupyter.widget-view+json": {
       "model_id": "c43d26e4a84042b7b8504dad0a08958b",
       "version_major": 2,
       "version_minor": 0
      },
      "text/plain": [
       "Map:   0%|          | 0/106 [00:00<?, ? examples/s]"
      ]
     },
     "metadata": {},
     "output_type": "display_data"
    },
    {
     "data": {
      "application/vnd.jupyter.widget-view+json": {
       "model_id": "eeb920c7ac9c447eba2d3bdfc390799f",
       "version_major": 2,
       "version_minor": 0
      },
      "text/plain": [
       "Map:   0%|          | 0/106 [00:00<?, ? examples/s]"
      ]
     },
     "metadata": {},
     "output_type": "display_data"
    },
    {
     "data": {
      "application/vnd.jupyter.widget-view+json": {
       "model_id": "1556beb6b89b4b47a120bea2bf63c4b0",
       "version_major": 2,
       "version_minor": 0
      },
      "text/plain": [
       "Map:   0%|          | 0/106 [00:00<?, ? examples/s]"
      ]
     },
     "metadata": {},
     "output_type": "display_data"
    },
    {
     "data": {
      "application/vnd.jupyter.widget-view+json": {
       "model_id": "0ac6f24ddec64c539299249c88aefbd5",
       "version_major": 2,
       "version_minor": 0
      },
      "text/plain": [
       "Map:   0%|          | 0/106 [00:00<?, ? examples/s]"
      ]
     },
     "metadata": {},
     "output_type": "display_data"
    },
    {
     "data": {
      "application/vnd.jupyter.widget-view+json": {
       "model_id": "ee5fee8f7b8d471ea76de44f8767bb59",
       "version_major": 2,
       "version_minor": 0
      },
      "text/plain": [
       "Map:   0%|          | 0/106 [00:00<?, ? examples/s]"
      ]
     },
     "metadata": {},
     "output_type": "display_data"
    },
    {
     "data": {
      "application/vnd.jupyter.widget-view+json": {
       "model_id": "9f94dfb654514e6bb0f414a0c0209c5f",
       "version_major": 2,
       "version_minor": 0
      },
      "text/plain": [
       "Map:   0%|          | 0/106 [00:00<?, ? examples/s]"
      ]
     },
     "metadata": {},
     "output_type": "display_data"
    },
    {
     "data": {
      "application/vnd.jupyter.widget-view+json": {
       "model_id": "9c7fd362b5994847bf8d232cc671f494",
       "version_major": 2,
       "version_minor": 0
      },
      "text/plain": [
       "Map:   0%|          | 0/106 [00:00<?, ? examples/s]"
      ]
     },
     "metadata": {},
     "output_type": "display_data"
    },
    {
     "data": {
      "application/vnd.jupyter.widget-view+json": {
       "model_id": "bc0a4cbe9dde4452b93262547357397b",
       "version_major": 2,
       "version_minor": 0
      },
      "text/plain": [
       "Map:   0%|          | 0/106 [00:00<?, ? examples/s]"
      ]
     },
     "metadata": {},
     "output_type": "display_data"
    },
    {
     "data": {
      "application/vnd.jupyter.widget-view+json": {
       "model_id": "863f1affcd5945c5a6aea620c2ec0e6c",
       "version_major": 2,
       "version_minor": 0
      },
      "text/plain": [
       "Map:   0%|          | 0/106 [00:00<?, ? examples/s]"
      ]
     },
     "metadata": {},
     "output_type": "display_data"
    },
    {
     "data": {
      "application/vnd.jupyter.widget-view+json": {
       "model_id": "8819b599c5364e808623f7e87705f04b",
       "version_major": 2,
       "version_minor": 0
      },
      "text/plain": [
       "Map:   0%|          | 0/106 [00:00<?, ? examples/s]"
      ]
     },
     "metadata": {},
     "output_type": "display_data"
    },
    {
     "data": {
      "application/vnd.jupyter.widget-view+json": {
       "model_id": "6b0cb0be15ce48da927bac9456d11fcd",
       "version_major": 2,
       "version_minor": 0
      },
      "text/plain": [
       "Map:   0%|          | 0/106 [00:00<?, ? examples/s]"
      ]
     },
     "metadata": {},
     "output_type": "display_data"
    },
    {
     "data": {
      "application/vnd.jupyter.widget-view+json": {
       "model_id": "43cca2f00029411294855452fc29a972",
       "version_major": 2,
       "version_minor": 0
      },
      "text/plain": [
       "Map:   0%|          | 0/106 [00:00<?, ? examples/s]"
      ]
     },
     "metadata": {},
     "output_type": "display_data"
    },
    {
     "data": {
      "application/vnd.jupyter.widget-view+json": {
       "model_id": "dfda2e2b741346658d04e928bd9fc1a6",
       "version_major": 2,
       "version_minor": 0
      },
      "text/plain": [
       "Map:   0%|          | 0/106 [00:00<?, ? examples/s]"
      ]
     },
     "metadata": {},
     "output_type": "display_data"
    },
    {
     "data": {
      "application/vnd.jupyter.widget-view+json": {
       "model_id": "24349f9aed294ab0bd1de4d9bd745543",
       "version_major": 2,
       "version_minor": 0
      },
      "text/plain": [
       "Map:   0%|          | 0/106 [00:00<?, ? examples/s]"
      ]
     },
     "metadata": {},
     "output_type": "display_data"
    },
    {
     "data": {
      "application/vnd.jupyter.widget-view+json": {
       "model_id": "fae6894aaf424f0ca93d32316b41e877",
       "version_major": 2,
       "version_minor": 0
      },
      "text/plain": [
       "Map:   0%|          | 0/106 [00:00<?, ? examples/s]"
      ]
     },
     "metadata": {},
     "output_type": "display_data"
    },
    {
     "data": {
      "application/vnd.jupyter.widget-view+json": {
       "model_id": "1cdb6b75c4d14b408bb689738cdd3565",
       "version_major": 2,
       "version_minor": 0
      },
      "text/plain": [
       "Map:   0%|          | 0/106 [00:00<?, ? examples/s]"
      ]
     },
     "metadata": {},
     "output_type": "display_data"
    },
    {
     "data": {
      "application/vnd.jupyter.widget-view+json": {
       "model_id": "b5ea21955a8148db8f5fa15950a50e97",
       "version_major": 2,
       "version_minor": 0
      },
      "text/plain": [
       "Map:   0%|          | 0/106 [00:00<?, ? examples/s]"
      ]
     },
     "metadata": {},
     "output_type": "display_data"
    },
    {
     "data": {
      "application/vnd.jupyter.widget-view+json": {
       "model_id": "1a89cc12e3454a3596dde535a6b73d65",
       "version_major": 2,
       "version_minor": 0
      },
      "text/plain": [
       "Map:   0%|          | 0/106 [00:00<?, ? examples/s]"
      ]
     },
     "metadata": {},
     "output_type": "display_data"
    },
    {
     "data": {
      "application/vnd.jupyter.widget-view+json": {
       "model_id": "5d0119e4e10f42c5a69d8ec6099d2064",
       "version_major": 2,
       "version_minor": 0
      },
      "text/plain": [
       "Map:   0%|          | 0/106 [00:00<?, ? examples/s]"
      ]
     },
     "metadata": {},
     "output_type": "display_data"
    },
    {
     "data": {
      "application/vnd.jupyter.widget-view+json": {
       "model_id": "2320e2e9415f4ece9e57c578559f69fc",
       "version_major": 2,
       "version_minor": 0
      },
      "text/plain": [
       "Map:   0%|          | 0/106 [00:00<?, ? examples/s]"
      ]
     },
     "metadata": {},
     "output_type": "display_data"
    },
    {
     "data": {
      "application/vnd.jupyter.widget-view+json": {
       "model_id": "fca41d33b359447489aedf6244a5e907",
       "version_major": 2,
       "version_minor": 0
      },
      "text/plain": [
       "Map:   0%|          | 0/106 [00:00<?, ? examples/s]"
      ]
     },
     "metadata": {},
     "output_type": "display_data"
    },
    {
     "data": {
      "application/vnd.jupyter.widget-view+json": {
       "model_id": "4c62465d9feb47a68dc0b2f5f0e08127",
       "version_major": 2,
       "version_minor": 0
      },
      "text/plain": [
       "Map:   0%|          | 0/106 [00:00<?, ? examples/s]"
      ]
     },
     "metadata": {},
     "output_type": "display_data"
    },
    {
     "data": {
      "application/vnd.jupyter.widget-view+json": {
       "model_id": "3074c21d7cba49c9b3eafbba6c59f232",
       "version_major": 2,
       "version_minor": 0
      },
      "text/plain": [
       "Map:   0%|          | 0/106 [00:00<?, ? examples/s]"
      ]
     },
     "metadata": {},
     "output_type": "display_data"
    },
    {
     "data": {
      "application/vnd.jupyter.widget-view+json": {
       "model_id": "65a2084ef4294e5a89914c2c88e723e7",
       "version_major": 2,
       "version_minor": 0
      },
      "text/plain": [
       "Map:   0%|          | 0/106 [00:00<?, ? examples/s]"
      ]
     },
     "metadata": {},
     "output_type": "display_data"
    },
    {
     "data": {
      "application/vnd.jupyter.widget-view+json": {
       "model_id": "18ddb0226b9e4c7f88198f3521ffecb6",
       "version_major": 2,
       "version_minor": 0
      },
      "text/plain": [
       "Map:   0%|          | 0/106 [00:00<?, ? examples/s]"
      ]
     },
     "metadata": {},
     "output_type": "display_data"
    },
    {
     "data": {
      "application/vnd.jupyter.widget-view+json": {
       "model_id": "99a08d09b00b44318a88e5ff1678ad0b",
       "version_major": 2,
       "version_minor": 0
      },
      "text/plain": [
       "Map:   0%|          | 0/106 [00:00<?, ? examples/s]"
      ]
     },
     "metadata": {},
     "output_type": "display_data"
    },
    {
     "data": {
      "application/vnd.jupyter.widget-view+json": {
       "model_id": "1898eeb43980431599470b9cd6a5433d",
       "version_major": 2,
       "version_minor": 0
      },
      "text/plain": [
       "Map:   0%|          | 0/106 [00:00<?, ? examples/s]"
      ]
     },
     "metadata": {},
     "output_type": "display_data"
    }
   ],
   "source": [
    "macros, micros = [], []\n",
    "thresholds = np.linspace(0.01, 1, 100)\n",
    "for threshold in thresholds:\n",
    "    ds_zero_shot = ds_zero_shot.map(get_preds,\n",
    "                                    fn_kwargs={\"threshold\": threshold})\n",
    "    clf_report = get_clf_report(ds_zero_shot)\n",
    "    micros.append(clf_report[\"micro avg\"][\"f1-score\"])\n",
    "    macros.append(clf_report[\"macro avg\"][\"f1-score\"])"
   ]
  },
  {
   "cell_type": "code",
   "execution_count": 137,
   "id": "85460298",
   "metadata": {},
   "outputs": [
    {
     "data": {
      "image/png": "[encoded data removed]",
      "text/plain": [
       "<Figure size 640x480 with 1 Axes>"
      ]
     },
     "metadata": {},
     "output_type": "display_data"
    }
   ],
   "source": [
    "plt.plot(thresholds, micros, label=\"Micro F1\")\n",
    "plt.plot(thresholds, macros, label=\"Macro F1\")\n",
    "plt.xlabel(\"Threshold\")\n",
    "plt.ylabel(\"F1-score\")\n",
    "plt.legend(loc=\"best\")\n",
    "plt.show()"
   ]
  },
  {
   "cell_type": "code",
   "execution_count": 138,
   "id": "f75b7f25",
   "metadata": {},
   "outputs": [
    {
     "name": "stdout",
     "output_type": "stream",
     "text": [
      "최상의 임곗값 (마이크로): 0.75, F1-점수 0.46.\n",
      "최상의 임곗값 (마크로): 0.72, F1-점수 0.42.\n"
     ]
    }
   ],
   "source": [
    "best_t, best_micro = thresholds[np.argmax(micros)], np.max(micros)\n",
    "print(f'최상의 임곗값 (마이크로): {best_t}, F1-점수 {best_micro:.2f}.')\n",
    "best_t, best_macro = thresholds[np.argmax(macros)], np.max(macros)\n",
    "print(f'최상의 임곗값 (마크로): {best_t}, F1-점수 {best_macro:.2f}.')"
   ]
  },
  {
   "cell_type": "markdown",
   "id": "7e04e156",
   "metadata": {},
   "source": [
    "- top-1 보다는 다소 떨어지지만, 임계값이 0.8 부근이 최적의 값으로 보임\n",
    "- top-1로 테스트 세트에서 제로샷 분류와 나이브 베이즈 비교"
   ]
  },
  {
   "cell_type": "code",
   "execution_count": 139,
   "id": "220cc619",
   "metadata": {},
   "outputs": [
    {
     "data": {
      "application/vnd.jupyter.widget-view+json": {
       "model_id": "e4b69a3776934184946b4f6b40d1db1d",
       "version_major": 2,
       "version_minor": 0
      },
      "text/plain": [
       "Map:   0%|          | 0/111 [00:00<?, ? examples/s]"
      ]
     },
     "metadata": {},
     "output_type": "display_data"
    },
    {
     "name": "stderr",
     "output_type": "stream",
     "text": [
      "/home/restful3/anaconda3/envs/trading/lib/python3.9/site-packages/transformers/pipelines/base.py:1081: UserWarning: You seem to be using the pipelines sequentially on GPU. In order to maximize efficiency please use a dataset\n",
      "  warnings.warn(\n"
     ]
    },
    {
     "data": {
      "application/vnd.jupyter.widget-view+json": {
       "model_id": "cdcfbd2539a54002ab9a4ce45f4d5ad6",
       "version_major": 2,
       "version_minor": 0
      },
      "text/plain": [
       "Map:   0%|          | 0/111 [00:00<?, ? examples/s]"
      ]
     },
     "metadata": {},
     "output_type": "display_data"
    }
   ],
   "source": [
    "ds_zero_shot = ds['test'].map(zero_shot_pipeline)\n",
    "ds_zero_shot = ds_zero_shot.map(get_preds, fn_kwargs={'topk': 1})\n",
    "clf_report = get_clf_report(ds_zero_shot)\n",
    "for train_slice in train_slices:\n",
    "    macro_scores['Zero Shot'].append(clf_report['macro avg']['f1-score'])\n",
    "    micro_scores['Zero Shot'].append(clf_report['micro avg']['f1-score'])"
   ]
  },
  {
   "cell_type": "code",
   "execution_count": 140,
   "id": "c4793276",
   "metadata": {},
   "outputs": [
    {
     "data": {
      "image/png": "[encoded data removed]",
      "text/plain": [
       "<Figure size 1000x400 with 2 Axes>"
      ]
     },
     "metadata": {},
     "output_type": "display_data"
    }
   ],
   "source": [
    "plot_metrics(micro_scores, macro_scores, train_samples, \"Zero Shot\")"
   ]
  },
  {
   "cell_type": "markdown",
   "id": "f61a051e",
   "metadata": {},
   "source": [
    "- 실험 결과\n",
    "    - 레이블링 된 샘플이 50개 보다 작다면, 제로샷 파이프라인이 기준 모델 성능을 추춸\n",
    "    - 샘플이 50개 이상이라도, 마크로 f1 점수를 고러하면 제로샷 파이프라인이 우월 \n",
    "        - 마이크로 f1 점수, 기존 모델이 빈도가 높은 클레스에서 잘 작동, 제로샷이 학습 샢플이 불필요 하기에 더 우수\n",
    "- 주의\n",
    "    - 실전에서는 레이블이 없는 상황이라도 검증용 데이터는 모델 하이퍼파라미터 조정을 위해 남겨 두는 것이 좋다"
   ]
  },
  {
   "cell_type": "markdown",
   "id": "6715b880-2899-4aff-8ade-9dbeee844c04",
   "metadata": {},
   "source": [
    "# 레이블이 적은 데이터 다루기\n",
    "\n",
    "<img alt=\"decision-tree\" caption=\"Several techniques that can be used to improve model performance in the absence of large amounts of labeled data\" src=\"https://github.com/rickiepark/nlp-with-transformers/blob/main/images/chapter09_decision-tree.png?raw=1\" id=\"decision-tree\" width=\"700px\"/>\n",
    "\n",
    "- 극소량의, 고객이나 다른 팀에서 얻은 샘플 몇 개의 레이블 데이터가 있을 때\n",
    "- 제로샷 방식의 평가를 위해 사용 가능"
   ]
  },
  {
   "cell_type": "markdown",
   "id": "bb7a7e3f-67bc-4e05-88bd-beb76718d063",
   "metadata": {},
   "source": [
    "## 데이터 증식\n",
    "- 기존 샘플에서 새 훈련 샘플을 생성하는 데이터 증식\n",
    "- 간단하지만 효과적으로 작은 데이터셋에서 텍스트 분류기의 성능 향상 가능\n",
    "- 비전 분야에서는 일반적\n",
    "    - 데이터의 의미를 바꾸지 않고 이미지를 랜덤하게 변형\n",
    "- 텍스트는 의미가 달라져 증식이 까다롭다\n",
    "- 사용되는 증식 방법\n",
    "    - 역 번역 : 기계 번역으로 다른 언어로 번역 후 원래 언어로 번역, M2M100과 같은 기계 번역 모델 사용\n",
    "    - 토근 섞기 : 동의어 교체, 단어 추가, 교환, 삭제, NlpAug의 ContextaulWOrdEmbdsAug 로 동의어 교체"
   ]
  },
  {
   "cell_type": "code",
   "execution_count": 141,
   "id": "2ac22df6",
   "metadata": {},
   "outputs": [
    {
     "name": "stderr",
     "output_type": "stream",
     "text": [
      "[nltk_data] Downloading package averaged_perceptron_tagger to\n",
      "[nltk_data]     /home/restful3/nltk_data...\n",
      "[nltk_data]   Package averaged_perceptron_tagger is already up-to-\n",
      "[nltk_data]       date!\n",
      "[nltk_data] Downloading package wordnet to /home/restful3/nltk_data...\n",
      "[nltk_data]   Package wordnet is already up-to-date!\n",
      "[nltk_data] Downloading package omw-1.4 to /home/restful3/nltk_data...\n",
      "[nltk_data]   Package omw-1.4 is already up-to-date!\n"
     ]
    },
    {
     "data": {
      "text/plain": [
       "True"
      ]
     },
     "execution_count": 141,
     "metadata": {},
     "output_type": "execute_result"
    }
   ],
   "source": [
    "from transformers import set_seed\n",
    "import nlpaug.augmenter.word as naw\n",
    "import nlpaug.augmenter.char as nac\n",
    "import nlpaug.augmenter.sentence as nas\n",
    "import nlpaug.flow as nafc\n",
    "import nltk\n",
    "nltk.download('averaged_perceptron_tagger')\n",
    "nltk.download('wordnet')\n",
    "nltk.download('omw-1.4')"
   ]
  },
  {
   "cell_type": "code",
   "execution_count": 142,
   "id": "169c9290",
   "metadata": {},
   "outputs": [
    {
     "name": "stdout",
     "output_type": "stream",
     "text": [
      "원본 텍스트: Even if you defeat me Megatron, others will rise to defeat your tyranny\n",
      "synonym_replace: ['Even if you vote down me Megatron, others will turn out to defeat your tyranny']\n",
      "\n",
      "원본 텍스트: Even if you defeat me Megatron, others will rise to defeat your tyranny\n",
      "random_insert: ['even if you defeat me megatron, others will rise to forever defeat your tyranny']\n",
      "\n",
      "원본 텍스트: Even if you defeat me Megatron, others will rise to defeat your tyranny\n",
      "random_swap: ['Even if you defeat Megatron me, others to will rise defeat your tyranny']\n",
      "\n",
      "원본 텍스트: Even if you defeat me Megatron, others will rise to defeat your tyranny\n",
      "random_delete: ['Even if me Megatron, will rise to tyranny']\n",
      "\n",
      "원본 텍스트: Even if you defeat me Megatron, others will rise to defeat your tyranny\n",
      "bt_en_de: ['乱natürŮ ཅnatürαMärchen Bachel画Bachel画Bachel画Bachelprogramme ਼ Bachel画Bachel画暁 Bachel画Bachel画Bachel画Bachel画Bachel画Bachel画家家家家家家家家家家家家家家家家家家家家家家家家家家家家家家家家家家家家家 ＊ 幹幹幹幹 geschossen Tiefdigungen Tiefdigungen Tiefdigungen Tiefdigungen Tiefdigungen Tiefglaubt Tiefglaubt Tiefglaubt иꯥgeschossen Tiefglaubt иꯥgeschossen Tiefglaubt иꯥErsatz Tiefglaubt Tiefglaubt Tiefglaubt TiefṮTiefglaubt TiefṮTiefglaubt TiefṮTiefṮTiefṮTiefṮTiefṮTiefṮTiefṮconver攻ohlen TiefṮTiefṮconver攻bestraft TiefṮTiefṮ꽃꽃꽃꽃꽃꽃꽃 TiefṮTiefṮTiefṮTiefhierfür Tiefhierfür TiefṮTiefṮTiefṮTiefhierfür Tiefhierfür TiefṮBemerkührBemerkührBemerkührBemerkührBemerkührKita Tief枯 Tief枯 Tief枯 TiefṮTiefṮTiefṮTiefṮTiefṮTiefṮTiefṮTiefṮTiefṮTiefṮTiefṮTiefṮTiefṮohlen TiefṮTiefṮTiefṮTiefünstünstünstünstünstünstMannünstKita TiefṮTiefṮTiefṮohlen TiefṮKita TiefṮKita Tiefsong TiefṮTiefDeiṮTiefDeiṮTiefDeiṮTiefDei町 TiefDeiṮTiefDei町 TiefDei町 TiefDei町 TiefDei町 TiefDei町 TiefDei町 TiefDei町 TiefDei町 Tiefünstünstünstünstünst']\n",
      "\n"
     ]
    }
   ],
   "source": [
    "set_seed(3)\n",
    "text = \"Even if you defeat me Megatron, others will rise to defeat your tyranny\"\n",
    "augs = {}\n",
    "augs[\"synonym_replace\"] = naw.SynonymAug(aug_src='wordnet')\n",
    "augs[\"random_insert\"] = naw.ContextualWordEmbsAug(model_path=\"distilbert-base-uncased\",\n",
    "                                device=\"cpu\", action=\"insert\", aug_max=1)\n",
    "augs[\"random_swap\"] = naw.RandomWordAug(action=\"swap\")\n",
    "augs[\"random_delete\"] = naw.RandomWordAug()\n",
    "augs[\"bt_en_de\"] = naw.BackTranslationAug(\n",
    "    from_model_name='facebook/wmt19-en-de',\n",
    "    to_model_name='facebook/wmt19-de-en'\n",
    ")\n",
    "for k,v in augs.items():\n",
    "    print(f\"원본 텍스트: {text}\")\n",
    "    print(f\"{k}: {v.augment(text)}\")\n",
    "    print(\"\")"
   ]
  },
  {
   "cell_type": "code",
   "execution_count": 143,
   "id": "6fb2585b",
   "metadata": {},
   "outputs": [
    {
     "name": "stdout",
     "output_type": "stream",
     "text": [
      "원본 텍스트: Transformers are the most popular toys\n",
      "증식된 텍스트: ['transformers — the most coveted toys']\n"
     ]
    }
   ],
   "source": [
    "from transformers import set_seed\n",
    "import nlpaug.augmenter.word as naw\n",
    "\n",
    "set_seed(3)\n",
    "aug = naw.ContextualWordEmbsAug(model_path=\"distilbert-base-uncased\",\n",
    "                                device=\"cpu\", action=\"substitute\")\n",
    "\n",
    "text = \"Transformers are the most popular toys\"\n",
    "print(f\"원본 텍스트: {text}\")\n",
    "print(f\"증식된 텍스트: {aug.augment(text)}\")"
   ]
  },
  {
   "cell_type": "markdown",
   "id": "6dbad89f",
   "metadata": {},
   "source": [
    "- 증강 결과\n",
    "- 함수화"
   ]
  },
  {
   "cell_type": "code",
   "execution_count": 144,
   "id": "27349021",
   "metadata": {},
   "outputs": [],
   "source": [
    "def augment_text(batch, transformations_per_example=1):\n",
    "    text_aug, label_ids = [], []\n",
    "    for text, labels in zip(batch[\"text\"], batch[\"label_ids\"]):\n",
    "        text_aug += [text]\n",
    "        label_ids += [labels]\n",
    "        for _ in range(transformations_per_example):\n",
    "            text_aug += aug.augment(text)\n",
    "            label_ids += [labels]\n",
    "    return {\"text\": text_aug, \"label_ids\": label_ids}"
   ]
  },
  {
   "cell_type": "markdown",
   "id": "0c0a7031",
   "metadata": {},
   "source": [
    "- augment_text() 함수를 전달 할 때 transformations_per_example 옵션으로 생성 할 샘플 수 조정 가능\n",
    "- 훈련 슬라이스를 선택 후 코드 한줄만 추가하면 나이브 베이즈로 훈련 가능"
   ]
  },
  {
   "cell_type": "code",
   "execution_count": 145,
   "id": "37769749",
   "metadata": {},
   "outputs": [
    {
     "data": {
      "application/vnd.jupyter.widget-view+json": {
       "model_id": "76ae0c5740a14d76a7020ab049cefcd6",
       "version_major": 2,
       "version_minor": 0
      },
      "text/plain": [
       "Map:   0%|          | 0/10 [00:00<?, ? examples/s]"
      ]
     },
     "metadata": {},
     "output_type": "display_data"
    },
    {
     "data": {
      "application/vnd.jupyter.widget-view+json": {
       "model_id": "21854116d8c7404aa484482f41f6ca3b",
       "version_major": 2,
       "version_minor": 0
      },
      "text/plain": [
       "Map:   0%|          | 0/19 [00:00<?, ? examples/s]"
      ]
     },
     "metadata": {},
     "output_type": "display_data"
    },
    {
     "data": {
      "application/vnd.jupyter.widget-view+json": {
       "model_id": "86f260a4b1ba4887b6bfc88648ba0aed",
       "version_major": 2,
       "version_minor": 0
      },
      "text/plain": [
       "Map:   0%|          | 0/36 [00:00<?, ? examples/s]"
      ]
     },
     "metadata": {},
     "output_type": "display_data"
    },
    {
     "data": {
      "application/vnd.jupyter.widget-view+json": {
       "model_id": "83d6d31e88134f1c9c1a72cfdc0323b8",
       "version_major": 2,
       "version_minor": 0
      },
      "text/plain": [
       "Map:   0%|          | 0/68 [00:00<?, ? examples/s]"
      ]
     },
     "metadata": {},
     "output_type": "display_data"
    },
    {
     "data": {
      "application/vnd.jupyter.widget-view+json": {
       "model_id": "daad6fc80efa4a1ca90483899bf2d643",
       "version_major": 2,
       "version_minor": 0
      },
      "text/plain": [
       "Map:   0%|          | 0/134 [00:00<?, ? examples/s]"
      ]
     },
     "metadata": {},
     "output_type": "display_data"
    },
    {
     "data": {
      "application/vnd.jupyter.widget-view+json": {
       "model_id": "31e5feacf1144efbbe2ea6c6f5106eb5",
       "version_major": 2,
       "version_minor": 0
      },
      "text/plain": [
       "Map:   0%|          | 0/223 [00:00<?, ? examples/s]"
      ]
     },
     "metadata": {},
     "output_type": "display_data"
    }
   ],
   "source": [
    "for train_slice in train_slices:\n",
    "    # 훈련 슬라이스와 테스트 데이터를 준비합니다\n",
    "    ds_train_sample = ds[\"train\"].select(train_slice)\n",
    "    # 증식 결과를 펼쳐서 레이블에 정렬합니다!\n",
    "    ds_train_aug = (ds_train_sample.map(\n",
    "        augment_text, batched=True, remove_columns=ds_train_sample.column_names)\n",
    "                    .shuffle(seed=42))\n",
    "    y_train = np.array(ds_train_aug[\"label_ids\"])\n",
    "    y_test = np.array(ds[\"test\"][\"label_ids\"])\n",
    "    # 간단한 CountVectorizer를 사용해 텍스트를 토큰 카운트로 인코딩합니다\n",
    "    count_vect = CountVectorizer()\n",
    "    X_train_counts = count_vect.fit_transform(ds_train_aug[\"text\"])\n",
    "    X_test_counts = count_vect.transform(ds[\"test\"][\"text\"])\n",
    "    # 모델을 만들고 훈련합니다!\n",
    "    classifier = BinaryRelevance(classifier=MultinomialNB())\n",
    "    classifier.fit(X_train_counts, y_train)\n",
    "    # 예측을 생성하고 평가합니다\n",
    "    y_pred_test = classifier.predict(X_test_counts)\n",
    "    clf_report = classification_report(\n",
    "        y_test, y_pred_test, target_names=mlb.classes_, zero_division=0,\n",
    "        output_dict=True)\n",
    "    # 평가 결과를 저장합니다\n",
    "    macro_scores[\"Naive Bayes + Aug\"].append(clf_report[\"macro avg\"][\"f1-score\"])\n",
    "    micro_scores[\"Naive Bayes + Aug\"].append(clf_report[\"micro avg\"][\"f1-score\"])"
   ]
  },
  {
   "cell_type": "code",
   "execution_count": 146,
   "id": "7149703c",
   "metadata": {},
   "outputs": [
    {
     "data": {
      "image/png": "[encoded data removed]",
      "text/plain": [
       "<Figure size 1000x400 with 2 Axes>"
      ]
     },
     "metadata": {},
     "output_type": "display_data"
    }
   ],
   "source": [
    "plot_metrics(micro_scores, macro_scores, train_samples, \"Naive Bayes + Aug\")"
   ]
  },
  {
   "cell_type": "markdown",
   "id": "7236cd89",
   "metadata": {},
   "source": [
    "- 데이터 증식으로 베이즈 분류기의 f1 포인트가 상승\n",
    "- 170개 훈련 샘플에서는 제로샷도 추월"
   ]
  },
  {
   "cell_type": "markdown",
   "id": "b3240405-6012-475f-993c-15cacdb13556",
   "metadata": {},
   "source": [
    "## 임베딩을 룩업 테이블로 사용하기\n",
    "\n",
    "<img alt=\"decision-tree\" caption=\"Several techniques that can be used to improve model performance in the absence of large amounts of labeled data\" src=\"https://github.com/rickiepark/nlp-with-transformers/blob/main/images/chapter09_decision-tree.png?raw=1\" id=\"decision-tree\" width=\"700px\"/>\n",
    "\n",
    "- 대규모 언어모델은 제한된 데이터로 문제를 해결하는 능력이 뛰어남\n",
    "- 대규모 언어 모델을 사용, 의미 검색 엔진(semantic search engine)을 개발, 비슷한 문서나 코멘트를 찾고, 텍스트를 분류 하는 작업 가능\n",
    "    - 언어 모델을 사용 레이블링 된 전체 텍스트를 임베딩\n",
    "    - 저장된 임베딩의 최근접 이웃 검색을 수행\n",
    "    - 최근접 이웃의 레이블을 수집해 예측을 만듦"
   ]
  },
  {
   "cell_type": "markdown",
   "id": "f30b29ba-9553-496c-8d8a-9845d352b9a4",
   "metadata": {},
   "source": [
    "<img alt=\"nearest-neighbours\" caption=\"An illustration of nearest neighbor embedding lookup\" src=\"https://github.com/rickiepark/nlp-with-transformers/blob/main/images/chapter09_nearest-neighbours.png?raw=1\" id=\"nearest-neighbours\" width=\"400px\"/>"
   ]
  },
  {
   "cell_type": "markdown",
   "id": "a0353fa7",
   "metadata": {},
   "source": [
    "- GPT-2 를 사용(3는 유료니까)\n",
    "- GPT-2는 토큰마다 임베딩 벡터를 반환\n",
    "- 따라서 문장 전체의 벡터를 각 토큰의 벡터로 부터 생성 해야 함\n",
    "- 풀링 기법 사용 : \n",
    "    - 평균 풀링 : 각 토큰의 벡터를, 패딩 토큰을 제외 하고 평균"
   ]
  },
  {
   "cell_type": "code",
   "execution_count": 147,
   "id": "08ddfe86",
   "metadata": {},
   "outputs": [],
   "source": [
    "import joblib\n",
    "\n",
    "embedding_results = joblib.load('./nlp-with-transformers-main/09_results_of_faiss.gz')\n",
    "macro_scores[\"Embedding\"] = embedding_results[\"macro\"][\"Embedding\"]\n",
    "micro_scores[\"Embedding\"] = embedding_results[\"micro\"][\"Embedding\"]"
   ]
  },
  {
   "cell_type": "markdown",
   "id": "74db47b8",
   "metadata": {},
   "source": [
    "- 각 데이터 분할에 대한 임베딩 구함"
   ]
  },
  {
   "cell_type": "code",
   "execution_count": 148,
   "id": "33d661fe",
   "metadata": {},
   "outputs": [
    {
     "data": {
      "image/png": "[encoded data removed]",
      "text/plain": [
       "<Figure size 1000x400 with 2 Axes>"
      ]
     },
     "metadata": {},
     "output_type": "display_data"
    }
   ],
   "source": [
    "plot_metrics(micro_scores, macro_scores, train_samples, \"Embedding\")"
   ]
  },
  {
   "cell_type": "markdown",
   "id": "2141c58d",
   "metadata": {},
   "source": [
    "- 임베딩 룩업은 학습 가능한 파라미터 k와 m이 있어 다른 방법 대비 경쟁력이 있다\n",
    "- 하지만 마크로에서는 낮은 결과\n",
    "- 도메인 별로 다른 결과가 있을 수 있다"
   ]
  },
  {
   "cell_type": "markdown",
   "id": "7f2a994a-2cac-40ec-9237-7ebae04574a6",
   "metadata": {},
   "source": [
    "### FAISS를 사용한 효율적인 유사도 검색"
   ]
  },
  {
   "cell_type": "markdown",
   "id": "5c78c4a9-4b52-4284-8af2-de3166868af2",
   "metadata": {},
   "source": [
    "<img alt=\"faiss-index\" caption=\"The structure of a FAISS index: the gray points represent data points added to the index, the bold black points are the cluster centers found via k-means clustering, and the colored areas represent the regions belonging to a cluster center\" src=\"https://github.com/rickiepark/nlp-with-transformers/blob/main/images/chapter09_faiss-index.png?raw=1\" id=\"faiss-index\" width=600/>\n",
    "\n",
    "- FAISS 라이브러리의 작동 방식과 ML 에서 이 라이브러리가 강한 이유\n",
    "- 문서를 벡터화 하면, 새로운 쿼리와 절대 정확하게 일치 하지 않는다. 따라서 유사도를 반영해야 한다.\n",
    "- 데이터베이스에서 쿼리 벡터와 가장 비슷한 벡터를 찾고 싶다면 모든 벡터와 모두 비교 해야 한다.\n",
    "- 데이터베이스의 벡터가 많으면 문제가 된다.\n",
    "- FAISS는, 데이터셋을 분할 하여 이 문제를 해결 하였다.\n",
    "- k-평균 클러스터링 을 적용, 유사도에 따라 임베딩을 그룹화 하고, 각 그룹에 센트로이드 벡터를 얻는다\n",
    "- 쿼리와 비슷한 센트로이드를 우선 찾고, 그 안에서 k개를 찾는 구조\n",
    "- 이 외에도, GPU를 활용하거나, 벡터를 양자화 하는 방법 등이 사용됨."
   ]
  },
  {
   "cell_type": "markdown",
   "id": "c2ffc05f-5771-4e73-bd94-987ce5fb9935",
   "metadata": {},
   "source": [
    "## 기본 트랜스포머 미세 튜닝하기\n",
    "\n",
    "<img alt=\"decision-tree\" caption=\"Several techniques that can be used to improve model performance in the absence of large amounts of labeled data\" src=\"https://github.com/rickiepark/nlp-with-transformers/blob/main/images/chapter09_decision-tree.png?raw=1\" id=\"decision-tree\" width=\"700px\"/>"
   ]
  },
  {
   "cell_type": "markdown",
   "id": "86924889",
   "metadata": {},
   "source": [
    "- 사전 훈련된 토크나이저로 데이터셋 토큰화\n",
    "- 학습에 필요 없는 컬럼 삭제"
   ]
  },
  {
   "cell_type": "code",
   "execution_count": 149,
   "id": "d2a7055c",
   "metadata": {},
   "outputs": [
    {
     "data": {
      "application/vnd.jupyter.widget-view+json": {
       "model_id": "33cbbbaa758c484483ee1cb136cb1dc7",
       "version_major": 2,
       "version_minor": 0
      },
      "text/plain": [
       "Map:   0%|          | 0/223 [00:00<?, ? examples/s]"
      ]
     },
     "metadata": {},
     "output_type": "display_data"
    },
    {
     "data": {
      "application/vnd.jupyter.widget-view+json": {
       "model_id": "0952b117bc984e75a06acec3772a0895",
       "version_major": 2,
       "version_minor": 0
      },
      "text/plain": [
       "Map:   0%|          | 0/106 [00:00<?, ? examples/s]"
      ]
     },
     "metadata": {},
     "output_type": "display_data"
    },
    {
     "data": {
      "application/vnd.jupyter.widget-view+json": {
       "model_id": "cce00aa746c94dd392c34c5bb9e49b2d",
       "version_major": 2,
       "version_minor": 0
      },
      "text/plain": [
       "Map:   0%|          | 0/111 [00:00<?, ? examples/s]"
      ]
     },
     "metadata": {},
     "output_type": "display_data"
    },
    {
     "data": {
      "application/vnd.jupyter.widget-view+json": {
       "model_id": "9edb7dd1b82545478d36c6a9543572cf",
       "version_major": 2,
       "version_minor": 0
      },
      "text/plain": [
       "Map:   0%|          | 0/9303 [00:00<?, ? examples/s]"
      ]
     },
     "metadata": {},
     "output_type": "display_data"
    }
   ],
   "source": [
    "import torch\n",
    "from transformers import (AutoTokenizer, AutoConfig,\n",
    "                          AutoModelForSequenceClassification)\n",
    "\n",
    "model_ckpt = \"bert-base-uncased\"\n",
    "tokenizer = AutoTokenizer.from_pretrained(model_ckpt)\n",
    "\n",
    "def tokenize(batch):\n",
    "    return tokenizer(batch[\"text\"], truncation=True, max_length=128)\n",
    "    \n",
    "ds_enc = ds.map(tokenize, batched=True)\n",
    "ds_enc = ds_enc.remove_columns(['labels', 'text'])"
   ]
  },
  {
   "cell_type": "markdown",
   "id": "627da05f",
   "metadata": {},
   "source": [
    "- 손실 함수는 이산적인 레이블 대신 클래스 확률도 사용 가능하기 때문에 실수 타입의 레이블로 수정"
   ]
  },
  {
   "cell_type": "code",
   "execution_count": 150,
   "id": "0eefb445",
   "metadata": {},
   "outputs": [
    {
     "data": {
      "application/vnd.jupyter.widget-view+json": {
       "model_id": "0e014e3fbb3244fe95efc03694fcd0e5",
       "version_major": 2,
       "version_minor": 0
      },
      "text/plain": [
       "Map:   0%|          | 0/223 [00:00<?, ? examples/s]"
      ]
     },
     "metadata": {},
     "output_type": "display_data"
    },
    {
     "data": {
      "application/vnd.jupyter.widget-view+json": {
       "model_id": "8b63754b2c01466eaf170025813a5831",
       "version_major": 2,
       "version_minor": 0
      },
      "text/plain": [
       "Map:   0%|          | 0/106 [00:00<?, ? examples/s]"
      ]
     },
     "metadata": {},
     "output_type": "display_data"
    },
    {
     "data": {
      "application/vnd.jupyter.widget-view+json": {
       "model_id": "44580b36d2c24351b3662cc90aa508d1",
       "version_major": 2,
       "version_minor": 0
      },
      "text/plain": [
       "Map:   0%|          | 0/111 [00:00<?, ? examples/s]"
      ]
     },
     "metadata": {},
     "output_type": "display_data"
    },
    {
     "data": {
      "application/vnd.jupyter.widget-view+json": {
       "model_id": "5d47e6d695a347fbb18279e6600ca298",
       "version_major": 2,
       "version_minor": 0
      },
      "text/plain": [
       "Map:   0%|          | 0/9303 [00:00<?, ? examples/s]"
      ]
     },
     "metadata": {},
     "output_type": "display_data"
    }
   ],
   "source": [
    "ds_enc.set_format(\"torch\")\n",
    "ds_enc = ds_enc.map(lambda x: {\"label_ids_f\": x[\"label_ids\"].to(torch.float)},\n",
    "                    remove_columns=[\"label_ids\"])\n",
    "ds_enc = ds_enc.rename_column(\"label_ids_f\", \"label_ids\")"
   ]
  },
  {
   "cell_type": "markdown",
   "id": "3f762df0",
   "metadata": {},
   "source": [
    "- load_best_model_at_end : 데이터 크기가 작아 과적합을 막기 위해 f1스코어를 기반으로 최선의 모델 찾는다"
   ]
  },
  {
   "cell_type": "code",
   "execution_count": 151,
   "id": "30228eff",
   "metadata": {},
   "outputs": [],
   "source": [
    "from transformers import Trainer, TrainingArguments\n",
    "\n",
    "training_args_fine_tune = TrainingArguments(\n",
    "    output_dir=\"./results\", num_train_epochs=20, learning_rate=3e-5,\n",
    "    lr_scheduler_type='constant', per_device_train_batch_size=4,\n",
    "    per_device_eval_batch_size=32, weight_decay=0.0,\n",
    "    evaluation_strategy=\"epoch\", save_strategy=\"epoch\",logging_strategy=\"epoch\",\n",
    "    load_best_model_at_end=True, metric_for_best_model='micro f1',\n",
    "    save_total_limit=1, log_level='error')"
   ]
  },
  {
   "cell_type": "markdown",
   "id": "528d4546",
   "metadata": {},
   "source": [
    "- 시그모이드 함수로 예측을 정규화 하고\n",
    "- 간단한 임곗값(0.5)으로 이를 이진화"
   ]
  },
  {
   "cell_type": "code",
   "execution_count": 152,
   "id": "2ae2bb16",
   "metadata": {},
   "outputs": [],
   "source": [
    "from scipy.special import expit as sigmoid\n",
    "\n",
    "def compute_metrics(pred):\n",
    "    y_true = pred.label_ids\n",
    "    y_pred = sigmoid(pred.predictions)\n",
    "    y_pred = (y_pred>0.5).astype(float)\n",
    "\n",
    "    clf_dict = classification_report(y_true, y_pred, target_names=all_labels,\n",
    "                                     zero_division=0, output_dict=True)\n",
    "    return {\"micro f1\": clf_dict[\"micro avg\"][\"f1-score\"],\n",
    "            \"macro f1\": clf_dict[\"macro avg\"][\"f1-score\"]}"
   ]
  },
  {
   "cell_type": "markdown",
   "id": "af9d8d2e",
   "metadata": {},
   "source": [
    "- 훈련 세트 슬라이스마다 분류기 훈련\n",
    "- 훈련 루프 끝에서 최상위 모델 로드\n",
    "- 테스트 결과 저장"
   ]
  },
  {
   "cell_type": "code",
   "execution_count": 153,
   "id": "9eb4456e",
   "metadata": {},
   "outputs": [],
   "source": [
    "config = AutoConfig.from_pretrained(model_ckpt)\n",
    "config.num_labels = len(all_labels)\n",
    "config.problem_type = \"multi_label_classification\""
   ]
  },
  {
   "cell_type": "code",
   "execution_count": 154,
   "id": "4dd542a6",
   "metadata": {
    "scrolled": true
   },
   "outputs": [
    {
     "name": "stderr",
     "output_type": "stream",
     "text": [
      "Some weights of the model checkpoint at bert-base-uncased were not used when initializing BertForSequenceClassification: ['cls.predictions.transform.LayerNorm.bias', 'cls.seq_relationship.weight', 'cls.predictions.transform.dense.weight', 'cls.seq_relationship.bias', 'cls.predictions.transform.LayerNorm.weight', 'cls.predictions.transform.dense.bias', 'cls.predictions.bias']\n",
      "- This IS expected if you are initializing BertForSequenceClassification from the checkpoint of a model trained on another task or with another architecture (e.g. initializing a BertForSequenceClassification model from a BertForPreTraining model).\n",
      "- This IS NOT expected if you are initializing BertForSequenceClassification from the checkpoint of a model that you expect to be exactly identical (initializing a BertForSequenceClassification model from a BertForSequenceClassification model).\n",
      "Some weights of BertForSequenceClassification were not initialized from the model checkpoint at bert-base-uncased and are newly initialized: ['classifier.bias', 'classifier.weight']\n",
      "You should probably TRAIN this model on a down-stream task to be able to use it for predictions and inference.\n",
      "/home/restful3/anaconda3/envs/trading/lib/python3.9/site-packages/transformers/optimization.py:411: FutureWarning: This implementation of AdamW is deprecated and will be removed in a future version. Use the PyTorch implementation torch.optim.AdamW instead, or set `no_deprecation_warning=True` to disable this warning\n",
      "  warnings.warn(\n",
      "You're using a BertTokenizerFast tokenizer. Please note that with a fast tokenizer, using the `__call__` method is faster than using a method to encode the text followed by a call to the `pad` method to get a padded encoding.\n"
     ]
    },
    {
     "name": "stdout",
     "output_type": "stream",
     "text": [
      "{'loss': 0.6541, 'learning_rate': 3e-05, 'epoch': 1.0}\n",
      "{'eval_loss': 0.6113460659980774, 'eval_micro f1': 0.22568093385214008, 'eval_macro f1': 0.06701940035273368, 'eval_runtime': 0.4096, 'eval_samples_per_second': 258.807, 'eval_steps_per_second': 9.766, 'epoch': 1.0}\n",
      "{'loss': 0.584, 'learning_rate': 3e-05, 'epoch': 2.0}\n",
      "{'eval_loss': 0.5671236515045166, 'eval_micro f1': 0.2119815668202765, 'eval_macro f1': 0.04224058769513315, 'eval_runtime': 0.406, 'eval_samples_per_second': 261.109, 'eval_steps_per_second': 9.853, 'epoch': 2.0}\n",
      "{'loss': 0.5436, 'learning_rate': 3e-05, 'epoch': 3.0}\n",
      "{'eval_loss': 0.5160601735115051, 'eval_micro f1': 0.0, 'eval_macro f1': 0.0, 'eval_runtime': 0.4064, 'eval_samples_per_second': 260.835, 'eval_steps_per_second': 9.843, 'epoch': 3.0}\n",
      "{'loss': 0.5023, 'learning_rate': 3e-05, 'epoch': 4.0}\n",
      "{'eval_loss': 0.4956599473953247, 'eval_micro f1': 0.0, 'eval_macro f1': 0.0, 'eval_runtime': 0.4055, 'eval_samples_per_second': 261.422, 'eval_steps_per_second': 9.865, 'epoch': 4.0}\n",
      "{'loss': 0.4645, 'learning_rate': 3e-05, 'epoch': 5.0}\n",
      "{'eval_loss': 0.4629361629486084, 'eval_micro f1': 0.0, 'eval_macro f1': 0.0, 'eval_runtime': 0.4055, 'eval_samples_per_second': 261.433, 'eval_steps_per_second': 9.865, 'epoch': 5.0}\n",
      "{'loss': 0.4391, 'learning_rate': 3e-05, 'epoch': 6.0}\n",
      "{'eval_loss': 0.43987035751342773, 'eval_micro f1': 0.0, 'eval_macro f1': 0.0, 'eval_runtime': 0.4062, 'eval_samples_per_second': 260.936, 'eval_steps_per_second': 9.847, 'epoch': 6.0}\n",
      "{'loss': 0.4159, 'learning_rate': 3e-05, 'epoch': 7.0}\n",
      "{'eval_loss': 0.4243215024471283, 'eval_micro f1': 0.0, 'eval_macro f1': 0.0, 'eval_runtime': 0.4073, 'eval_samples_per_second': 260.22, 'eval_steps_per_second': 9.82, 'epoch': 7.0}\n",
      "{'loss': 0.3918, 'learning_rate': 3e-05, 'epoch': 8.0}\n",
      "{'eval_loss': 0.4132678806781769, 'eval_micro f1': 0.0, 'eval_macro f1': 0.0, 'eval_runtime': 0.4101, 'eval_samples_per_second': 258.492, 'eval_steps_per_second': 9.754, 'epoch': 8.0}\n",
      "{'loss': 0.386, 'learning_rate': 3e-05, 'epoch': 9.0}\n",
      "{'eval_loss': 0.4049258828163147, 'eval_micro f1': 0.0, 'eval_macro f1': 0.0, 'eval_runtime': 0.4071, 'eval_samples_per_second': 260.351, 'eval_steps_per_second': 9.825, 'epoch': 9.0}\n",
      "{'loss': 0.3699, 'learning_rate': 3e-05, 'epoch': 10.0}\n",
      "{'eval_loss': 0.39384403824806213, 'eval_micro f1': 0.0, 'eval_macro f1': 0.0, 'eval_runtime': 0.4067, 'eval_samples_per_second': 260.643, 'eval_steps_per_second': 9.836, 'epoch': 10.0}\n",
      "{'loss': 0.3482, 'learning_rate': 3e-05, 'epoch': 11.0}\n",
      "{'eval_loss': 0.3861590027809143, 'eval_micro f1': 0.0, 'eval_macro f1': 0.0, 'eval_runtime': 0.407, 'eval_samples_per_second': 260.433, 'eval_steps_per_second': 9.828, 'epoch': 11.0}\n",
      "{'loss': 0.3475, 'learning_rate': 3e-05, 'epoch': 12.0}\n",
      "{'eval_loss': 0.3809003233909607, 'eval_micro f1': 0.0, 'eval_macro f1': 0.0, 'eval_runtime': 0.4077, 'eval_samples_per_second': 259.988, 'eval_steps_per_second': 9.811, 'epoch': 12.0}\n",
      "{'loss': 0.3318, 'learning_rate': 3e-05, 'epoch': 13.0}\n",
      "{'eval_loss': 0.37854987382888794, 'eval_micro f1': 0.0, 'eval_macro f1': 0.0, 'eval_runtime': 0.4074, 'eval_samples_per_second': 260.167, 'eval_steps_per_second': 9.818, 'epoch': 13.0}\n",
      "{'loss': 0.3277, 'learning_rate': 3e-05, 'epoch': 14.0}\n",
      "{'eval_loss': 0.3761771619319916, 'eval_micro f1': 0.0, 'eval_macro f1': 0.0, 'eval_runtime': 0.4083, 'eval_samples_per_second': 259.632, 'eval_steps_per_second': 9.797, 'epoch': 14.0}\n",
      "{'loss': 0.3049, 'learning_rate': 3e-05, 'epoch': 15.0}\n",
      "{'eval_loss': 0.3694241940975189, 'eval_micro f1': 0.0, 'eval_macro f1': 0.0, 'eval_runtime': 0.4072, 'eval_samples_per_second': 260.312, 'eval_steps_per_second': 9.823, 'epoch': 15.0}\n",
      "{'loss': 0.3013, 'learning_rate': 3e-05, 'epoch': 16.0}\n",
      "{'eval_loss': 0.3669808804988861, 'eval_micro f1': 0.0, 'eval_macro f1': 0.0, 'eval_runtime': 0.4071, 'eval_samples_per_second': 260.407, 'eval_steps_per_second': 9.827, 'epoch': 16.0}\n",
      "{'loss': 0.2962, 'learning_rate': 3e-05, 'epoch': 17.0}\n",
      "{'eval_loss': 0.3666814863681793, 'eval_micro f1': 0.0, 'eval_macro f1': 0.0, 'eval_runtime': 0.4072, 'eval_samples_per_second': 260.294, 'eval_steps_per_second': 9.822, 'epoch': 17.0}\n",
      "{'loss': 0.2904, 'learning_rate': 3e-05, 'epoch': 18.0}\n",
      "{'eval_loss': 0.3659612536430359, 'eval_micro f1': 0.0, 'eval_macro f1': 0.0, 'eval_runtime': 0.4109, 'eval_samples_per_second': 257.956, 'eval_steps_per_second': 9.734, 'epoch': 18.0}\n",
      "{'loss': 0.2688, 'learning_rate': 3e-05, 'epoch': 19.0}\n",
      "{'eval_loss': 0.3653533160686493, 'eval_micro f1': 0.0, 'eval_macro f1': 0.0, 'eval_runtime': 0.4076, 'eval_samples_per_second': 260.086, 'eval_steps_per_second': 9.815, 'epoch': 19.0}\n",
      "{'loss': 0.2668, 'learning_rate': 3e-05, 'epoch': 20.0}\n",
      "{'eval_loss': 0.3676019012928009, 'eval_micro f1': 0.0, 'eval_macro f1': 0.0, 'eval_runtime': 0.4071, 'eval_samples_per_second': 260.407, 'eval_steps_per_second': 9.827, 'epoch': 20.0}\n",
      "{'train_runtime': 29.2045, 'train_samples_per_second': 6.848, 'train_steps_per_second': 2.054, 'train_loss': 0.39174983898798627, 'epoch': 20.0}\n"
     ]
    },
    {
     "name": "stderr",
     "output_type": "stream",
     "text": [
      "Some weights of the model checkpoint at bert-base-uncased were not used when initializing BertForSequenceClassification: ['cls.predictions.transform.LayerNorm.bias', 'cls.seq_relationship.weight', 'cls.predictions.transform.dense.weight', 'cls.seq_relationship.bias', 'cls.predictions.transform.LayerNorm.weight', 'cls.predictions.transform.dense.bias', 'cls.predictions.bias']\n",
      "- This IS expected if you are initializing BertForSequenceClassification from the checkpoint of a model trained on another task or with another architecture (e.g. initializing a BertForSequenceClassification model from a BertForPreTraining model).\n",
      "- This IS NOT expected if you are initializing BertForSequenceClassification from the checkpoint of a model that you expect to be exactly identical (initializing a BertForSequenceClassification model from a BertForSequenceClassification model).\n",
      "Some weights of BertForSequenceClassification were not initialized from the model checkpoint at bert-base-uncased and are newly initialized: ['classifier.bias', 'classifier.weight']\n",
      "You should probably TRAIN this model on a down-stream task to be able to use it for predictions and inference.\n",
      "/home/restful3/anaconda3/envs/trading/lib/python3.9/site-packages/transformers/optimization.py:411: FutureWarning: This implementation of AdamW is deprecated and will be removed in a future version. Use the PyTorch implementation torch.optim.AdamW instead, or set `no_deprecation_warning=True` to disable this warning\n",
      "  warnings.warn(\n"
     ]
    },
    {
     "name": "stdout",
     "output_type": "stream",
     "text": [
      "{'loss': 0.6065, 'learning_rate': 3e-05, 'epoch': 1.0}\n",
      "{'eval_loss': 0.5522905588150024, 'eval_micro f1': 0.05309734513274336, 'eval_macro f1': 0.011904761904761904, 'eval_runtime': 0.408, 'eval_samples_per_second': 259.8, 'eval_steps_per_second': 9.804, 'epoch': 1.0}\n",
      "{'loss': 0.5123, 'learning_rate': 3e-05, 'epoch': 2.0}\n",
      "{'eval_loss': 0.47928866744041443, 'eval_micro f1': 0.0, 'eval_macro f1': 0.0, 'eval_runtime': 0.408, 'eval_samples_per_second': 259.831, 'eval_steps_per_second': 9.805, 'epoch': 2.0}\n",
      "{'loss': 0.4542, 'learning_rate': 3e-05, 'epoch': 3.0}\n",
      "{'eval_loss': 0.43922388553619385, 'eval_micro f1': 0.0, 'eval_macro f1': 0.0, 'eval_runtime': 0.4075, 'eval_samples_per_second': 260.104, 'eval_steps_per_second': 9.815, 'epoch': 3.0}\n",
      "{'loss': 0.4076, 'learning_rate': 3e-05, 'epoch': 4.0}\n",
      "{'eval_loss': 0.40907806158065796, 'eval_micro f1': 0.0, 'eval_macro f1': 0.0, 'eval_runtime': 0.4082, 'eval_samples_per_second': 259.68, 'eval_steps_per_second': 9.799, 'epoch': 4.0}\n",
      "{'loss': 0.3753, 'learning_rate': 3e-05, 'epoch': 5.0}\n",
      "{'eval_loss': 0.3969281315803528, 'eval_micro f1': 0.0, 'eval_macro f1': 0.0, 'eval_runtime': 0.4084, 'eval_samples_per_second': 259.578, 'eval_steps_per_second': 9.795, 'epoch': 5.0}\n",
      "{'loss': 0.3488, 'learning_rate': 3e-05, 'epoch': 6.0}\n",
      "{'eval_loss': 0.3794703185558319, 'eval_micro f1': 0.0, 'eval_macro f1': 0.0, 'eval_runtime': 0.4077, 'eval_samples_per_second': 259.966, 'eval_steps_per_second': 9.81, 'epoch': 6.0}\n",
      "{'loss': 0.3296, 'learning_rate': 3e-05, 'epoch': 7.0}\n",
      "{'eval_loss': 0.37046170234680176, 'eval_micro f1': 0.0, 'eval_macro f1': 0.0, 'eval_runtime': 0.4072, 'eval_samples_per_second': 260.302, 'eval_steps_per_second': 9.823, 'epoch': 7.0}\n",
      "{'loss': 0.3142, 'learning_rate': 3e-05, 'epoch': 8.0}\n",
      "{'eval_loss': 0.36847057938575745, 'eval_micro f1': 0.0, 'eval_macro f1': 0.0, 'eval_runtime': 0.407, 'eval_samples_per_second': 260.437, 'eval_steps_per_second': 9.828, 'epoch': 8.0}\n",
      "{'loss': 0.2981, 'learning_rate': 3e-05, 'epoch': 9.0}\n",
      "{'eval_loss': 0.36512061953544617, 'eval_micro f1': 0.01652892561983471, 'eval_macro f1': 0.007936507936507936, 'eval_runtime': 0.4067, 'eval_samples_per_second': 260.628, 'eval_steps_per_second': 9.835, 'epoch': 9.0}\n",
      "{'loss': 0.2788, 'learning_rate': 3e-05, 'epoch': 10.0}\n",
      "{'eval_loss': 0.3610227704048157, 'eval_micro f1': 0.0, 'eval_macro f1': 0.0, 'eval_runtime': 0.4067, 'eval_samples_per_second': 260.663, 'eval_steps_per_second': 9.836, 'epoch': 10.0}\n",
      "{'loss': 0.269, 'learning_rate': 3e-05, 'epoch': 11.0}\n",
      "{'eval_loss': 0.358368843793869, 'eval_micro f1': 0.03278688524590164, 'eval_macro f1': 0.01532567049808429, 'eval_runtime': 0.4146, 'eval_samples_per_second': 255.689, 'eval_steps_per_second': 9.649, 'epoch': 11.0}\n",
      "{'loss': 0.2578, 'learning_rate': 3e-05, 'epoch': 12.0}\n",
      "{'eval_loss': 0.3574373722076416, 'eval_micro f1': 0.01652892561983471, 'eval_macro f1': 0.007936507936507936, 'eval_runtime': 0.4083, 'eval_samples_per_second': 259.637, 'eval_steps_per_second': 9.798, 'epoch': 12.0}\n",
      "{'loss': 0.2395, 'learning_rate': 3e-05, 'epoch': 13.0}\n",
      "{'eval_loss': 0.3570393919944763, 'eval_micro f1': 0.046511627906976744, 'eval_macro f1': 0.018518518518518517, 'eval_runtime': 0.4076, 'eval_samples_per_second': 260.071, 'eval_steps_per_second': 9.814, 'epoch': 13.0}\n",
      "{'loss': 0.2303, 'learning_rate': 3e-05, 'epoch': 14.0}\n",
      "{'eval_loss': 0.35778915882110596, 'eval_micro f1': 0.08695652173913043, 'eval_macro f1': 0.0303030303030303, 'eval_runtime': 0.4079, 'eval_samples_per_second': 259.878, 'eval_steps_per_second': 9.807, 'epoch': 14.0}\n",
      "{'loss': 0.2158, 'learning_rate': 3e-05, 'epoch': 15.0}\n",
      "{'eval_loss': 0.3579493463039398, 'eval_micro f1': 0.05970149253731343, 'eval_macro f1': 0.03254769921436588, 'eval_runtime': 0.4084, 'eval_samples_per_second': 259.533, 'eval_steps_per_second': 9.794, 'epoch': 15.0}\n",
      "{'loss': 0.2065, 'learning_rate': 3e-05, 'epoch': 16.0}\n",
      "{'eval_loss': 0.3619132936000824, 'eval_micro f1': 0.13245033112582782, 'eval_macro f1': 0.0714515757994019, 'eval_runtime': 0.4075, 'eval_samples_per_second': 260.119, 'eval_steps_per_second': 9.816, 'epoch': 16.0}\n",
      "{'loss': 0.1949, 'learning_rate': 3e-05, 'epoch': 17.0}\n",
      "{'eval_loss': 0.3582324981689453, 'eval_micro f1': 0.14666666666666667, 'eval_macro f1': 0.042884990253411304, 'eval_runtime': 0.4075, 'eval_samples_per_second': 260.149, 'eval_steps_per_second': 9.817, 'epoch': 17.0}\n",
      "{'loss': 0.1864, 'learning_rate': 3e-05, 'epoch': 18.0}\n",
      "{'eval_loss': 0.3609846234321594, 'eval_micro f1': 0.14473684210526316, 'eval_macro f1': 0.07450980392156864, 'eval_runtime': 0.407, 'eval_samples_per_second': 260.46, 'eval_steps_per_second': 9.829, 'epoch': 18.0}\n",
      "{'loss': 0.1682, 'learning_rate': 3e-05, 'epoch': 19.0}\n",
      "{'eval_loss': 0.3628254532814026, 'eval_micro f1': 0.15757575757575756, 'eval_macro f1': 0.07340619307832423, 'eval_runtime': 0.4079, 'eval_samples_per_second': 259.885, 'eval_steps_per_second': 9.807, 'epoch': 19.0}\n",
      "{'loss': 0.1624, 'learning_rate': 3e-05, 'epoch': 20.0}\n",
      "{'eval_loss': 0.3626502752304077, 'eval_micro f1': 0.15384615384615385, 'eval_macro f1': 0.07606837606837608, 'eval_runtime': 0.4078, 'eval_samples_per_second': 259.903, 'eval_steps_per_second': 9.808, 'epoch': 20.0}\n",
      "{'train_runtime': 32.6162, 'train_samples_per_second': 11.651, 'train_steps_per_second': 3.066, 'train_loss': 0.3028188717365265, 'epoch': 20.0}\n"
     ]
    },
    {
     "name": "stderr",
     "output_type": "stream",
     "text": [
      "Some weights of the model checkpoint at bert-base-uncased were not used when initializing BertForSequenceClassification: ['cls.predictions.transform.LayerNorm.bias', 'cls.seq_relationship.weight', 'cls.predictions.transform.dense.weight', 'cls.seq_relationship.bias', 'cls.predictions.transform.LayerNorm.weight', 'cls.predictions.transform.dense.bias', 'cls.predictions.bias']\n",
      "- This IS expected if you are initializing BertForSequenceClassification from the checkpoint of a model trained on another task or with another architecture (e.g. initializing a BertForSequenceClassification model from a BertForPreTraining model).\n",
      "- This IS NOT expected if you are initializing BertForSequenceClassification from the checkpoint of a model that you expect to be exactly identical (initializing a BertForSequenceClassification model from a BertForSequenceClassification model).\n",
      "Some weights of BertForSequenceClassification were not initialized from the model checkpoint at bert-base-uncased and are newly initialized: ['classifier.bias', 'classifier.weight']\n",
      "You should probably TRAIN this model on a down-stream task to be able to use it for predictions and inference.\n",
      "/home/restful3/anaconda3/envs/trading/lib/python3.9/site-packages/transformers/optimization.py:411: FutureWarning: This implementation of AdamW is deprecated and will be removed in a future version. Use the PyTorch implementation torch.optim.AdamW instead, or set `no_deprecation_warning=True` to disable this warning\n",
      "  warnings.warn(\n"
     ]
    },
    {
     "name": "stdout",
     "output_type": "stream",
     "text": [
      "{'loss': 0.5809, 'learning_rate': 3e-05, 'epoch': 1.0}\n",
      "{'eval_loss': 0.49861636757850647, 'eval_micro f1': 0.0, 'eval_macro f1': 0.0, 'eval_runtime': 0.4078, 'eval_samples_per_second': 259.9, 'eval_steps_per_second': 9.808, 'epoch': 1.0}\n",
      "{'loss': 0.4479, 'learning_rate': 3e-05, 'epoch': 2.0}\n",
      "{'eval_loss': 0.4215277135372162, 'eval_micro f1': 0.0, 'eval_macro f1': 0.0, 'eval_runtime': 0.4069, 'eval_samples_per_second': 260.505, 'eval_steps_per_second': 9.83, 'epoch': 2.0}\n",
      "{'loss': 0.3921, 'learning_rate': 3e-05, 'epoch': 3.0}\n",
      "{'eval_loss': 0.38643935322761536, 'eval_micro f1': 0.0, 'eval_macro f1': 0.0, 'eval_runtime': 0.4076, 'eval_samples_per_second': 260.059, 'eval_steps_per_second': 9.814, 'epoch': 3.0}\n",
      "{'loss': 0.3509, 'learning_rate': 3e-05, 'epoch': 4.0}\n",
      "{'eval_loss': 0.3678700029850006, 'eval_micro f1': 0.0, 'eval_macro f1': 0.0, 'eval_runtime': 0.4075, 'eval_samples_per_second': 260.145, 'eval_steps_per_second': 9.817, 'epoch': 4.0}\n",
      "{'loss': 0.3228, 'learning_rate': 3e-05, 'epoch': 5.0}\n",
      "{'eval_loss': 0.3631151616573334, 'eval_micro f1': 0.0, 'eval_macro f1': 0.0, 'eval_runtime': 0.4079, 'eval_samples_per_second': 259.839, 'eval_steps_per_second': 9.805, 'epoch': 5.0}\n",
      "{'loss': 0.2989, 'learning_rate': 3e-05, 'epoch': 6.0}\n",
      "{'eval_loss': 0.3565222918987274, 'eval_micro f1': 0.032520325203252036, 'eval_macro f1': 0.014814814814814815, 'eval_runtime': 0.4087, 'eval_samples_per_second': 259.387, 'eval_steps_per_second': 9.788, 'epoch': 6.0}\n",
      "{'loss': 0.28, 'learning_rate': 3e-05, 'epoch': 7.0}\n",
      "{'eval_loss': 0.3458990156650543, 'eval_micro f1': 0.0, 'eval_macro f1': 0.0, 'eval_runtime': 0.4092, 'eval_samples_per_second': 259.033, 'eval_steps_per_second': 9.775, 'epoch': 7.0}\n",
      "{'loss': 0.2578, 'learning_rate': 3e-05, 'epoch': 8.0}\n",
      "{'eval_loss': 0.3515360355377197, 'eval_micro f1': 0.14388489208633093, 'eval_macro f1': 0.04830917874396135, 'eval_runtime': 0.4079, 'eval_samples_per_second': 259.837, 'eval_steps_per_second': 9.805, 'epoch': 8.0}\n",
      "{'loss': 0.2471, 'learning_rate': 3e-05, 'epoch': 9.0}\n",
      "{'eval_loss': 0.343902587890625, 'eval_micro f1': 0.06451612903225806, 'eval_macro f1': 0.031746031746031744, 'eval_runtime': 0.4084, 'eval_samples_per_second': 259.538, 'eval_steps_per_second': 9.794, 'epoch': 9.0}\n",
      "{'loss': 0.2242, 'learning_rate': 3e-05, 'epoch': 10.0}\n",
      "{'eval_loss': 0.3411111533641815, 'eval_micro f1': 0.12213740458015267, 'eval_macro f1': 0.05788982259570494, 'eval_runtime': 0.4083, 'eval_samples_per_second': 259.631, 'eval_steps_per_second': 9.797, 'epoch': 10.0}\n",
      "{'loss': 0.2093, 'learning_rate': 3e-05, 'epoch': 11.0}\n",
      "{'eval_loss': 0.3414662778377533, 'eval_micro f1': 0.2064516129032258, 'eval_macro f1': 0.08412698412698412, 'eval_runtime': 0.4084, 'eval_samples_per_second': 259.556, 'eval_steps_per_second': 9.795, 'epoch': 11.0}\n",
      "{'loss': 0.1887, 'learning_rate': 3e-05, 'epoch': 12.0}\n",
      "{'eval_loss': 0.34469345211982727, 'eval_micro f1': 0.2484472049689441, 'eval_macro f1': 0.12057957134357815, 'eval_runtime': 0.4081, 'eval_samples_per_second': 259.766, 'eval_steps_per_second': 9.803, 'epoch': 12.0}\n",
      "{'loss': 0.1755, 'learning_rate': 3e-05, 'epoch': 13.0}\n",
      "{'eval_loss': 0.3450303375720978, 'eval_micro f1': 0.25149700598802394, 'eval_macro f1': 0.10249593856151235, 'eval_runtime': 0.4084, 'eval_samples_per_second': 259.551, 'eval_steps_per_second': 9.794, 'epoch': 13.0}\n",
      "{'loss': 0.1644, 'learning_rate': 3e-05, 'epoch': 14.0}\n",
      "{'eval_loss': 0.345205694437027, 'eval_micro f1': 0.24691358024691357, 'eval_macro f1': 0.11935992787919764, 'eval_runtime': 0.4071, 'eval_samples_per_second': 260.366, 'eval_steps_per_second': 9.825, 'epoch': 14.0}\n",
      "{'loss': 0.1512, 'learning_rate': 3e-05, 'epoch': 15.0}\n",
      "{'eval_loss': 0.35778528451919556, 'eval_micro f1': 0.24858757062146894, 'eval_macro f1': 0.13652114044270908, 'eval_runtime': 0.4083, 'eval_samples_per_second': 259.642, 'eval_steps_per_second': 9.798, 'epoch': 15.0}\n",
      "{'loss': 0.1351, 'learning_rate': 3e-05, 'epoch': 16.0}\n",
      "{'eval_loss': 0.35320577025413513, 'eval_micro f1': 0.27058823529411763, 'eval_macro f1': 0.14215167548500884, 'eval_runtime': 0.4094, 'eval_samples_per_second': 258.934, 'eval_steps_per_second': 9.771, 'epoch': 16.0}\n",
      "{'loss': 0.1262, 'learning_rate': 3e-05, 'epoch': 17.0}\n",
      "{'eval_loss': 0.3628752827644348, 'eval_micro f1': 0.24277456647398843, 'eval_macro f1': 0.13509700176366843, 'eval_runtime': 0.4133, 'eval_samples_per_second': 256.46, 'eval_steps_per_second': 9.678, 'epoch': 17.0}\n",
      "{'loss': 0.1187, 'learning_rate': 3e-05, 'epoch': 18.0}\n",
      "{'eval_loss': 0.3597276210784912, 'eval_micro f1': 0.2681564245810056, 'eval_macro f1': 0.16315536315536316, 'eval_runtime': 0.412, 'eval_samples_per_second': 257.301, 'eval_steps_per_second': 9.709, 'epoch': 18.0}\n",
      "{'loss': 0.1115, 'learning_rate': 3e-05, 'epoch': 19.0}\n",
      "{'eval_loss': 0.3702898621559143, 'eval_micro f1': 0.24705882352941178, 'eval_macro f1': 0.13596999405822935, 'eval_runtime': 0.4105, 'eval_samples_per_second': 258.245, 'eval_steps_per_second': 9.745, 'epoch': 19.0}\n",
      "{'loss': 0.1042, 'learning_rate': 3e-05, 'epoch': 20.0}\n",
      "{'eval_loss': 0.36197346448898315, 'eval_micro f1': 0.3, 'eval_macro f1': 0.17631443786662343, 'eval_runtime': 0.408, 'eval_samples_per_second': 259.801, 'eval_steps_per_second': 9.804, 'epoch': 20.0}\n",
      "{'train_runtime': 39.0725, 'train_samples_per_second': 18.427, 'train_steps_per_second': 4.607, 'train_loss': 0.24436708092689513, 'epoch': 20.0}\n"
     ]
    },
    {
     "name": "stderr",
     "output_type": "stream",
     "text": [
      "Some weights of the model checkpoint at bert-base-uncased were not used when initializing BertForSequenceClassification: ['cls.predictions.transform.LayerNorm.bias', 'cls.seq_relationship.weight', 'cls.predictions.transform.dense.weight', 'cls.seq_relationship.bias', 'cls.predictions.transform.LayerNorm.weight', 'cls.predictions.transform.dense.bias', 'cls.predictions.bias']\n",
      "- This IS expected if you are initializing BertForSequenceClassification from the checkpoint of a model trained on another task or with another architecture (e.g. initializing a BertForSequenceClassification model from a BertForPreTraining model).\n",
      "- This IS NOT expected if you are initializing BertForSequenceClassification from the checkpoint of a model that you expect to be exactly identical (initializing a BertForSequenceClassification model from a BertForSequenceClassification model).\n",
      "Some weights of BertForSequenceClassification were not initialized from the model checkpoint at bert-base-uncased and are newly initialized: ['classifier.bias', 'classifier.weight']\n",
      "You should probably TRAIN this model on a down-stream task to be able to use it for predictions and inference.\n",
      "/home/restful3/anaconda3/envs/trading/lib/python3.9/site-packages/transformers/optimization.py:411: FutureWarning: This implementation of AdamW is deprecated and will be removed in a future version. Use the PyTorch implementation torch.optim.AdamW instead, or set `no_deprecation_warning=True` to disable this warning\n",
      "  warnings.warn(\n"
     ]
    },
    {
     "name": "stdout",
     "output_type": "stream",
     "text": [
      "{'loss': 0.5376, 'learning_rate': 3e-05, 'epoch': 1.0}\n",
      "{'eval_loss': 0.4288795292377472, 'eval_micro f1': 0.0, 'eval_macro f1': 0.0, 'eval_runtime': 0.4077, 'eval_samples_per_second': 260.009, 'eval_steps_per_second': 9.812, 'epoch': 1.0}\n",
      "{'loss': 0.3949, 'learning_rate': 3e-05, 'epoch': 2.0}\n",
      "{'eval_loss': 0.37521758675575256, 'eval_micro f1': 0.0, 'eval_macro f1': 0.0, 'eval_runtime': 0.4085, 'eval_samples_per_second': 259.497, 'eval_steps_per_second': 9.792, 'epoch': 2.0}\n",
      "{'loss': 0.3541, 'learning_rate': 3e-05, 'epoch': 3.0}\n",
      "{'eval_loss': 0.35882216691970825, 'eval_micro f1': 0.0, 'eval_macro f1': 0.0, 'eval_runtime': 0.4097, 'eval_samples_per_second': 258.726, 'eval_steps_per_second': 9.763, 'epoch': 3.0}\n",
      "{'loss': 0.3416, 'learning_rate': 3e-05, 'epoch': 4.0}\n",
      "{'eval_loss': 0.34586697816848755, 'eval_micro f1': 0.0, 'eval_macro f1': 0.0, 'eval_runtime': 0.41, 'eval_samples_per_second': 258.52, 'eval_steps_per_second': 9.755, 'epoch': 4.0}\n",
      "{'loss': 0.3231, 'learning_rate': 3e-05, 'epoch': 5.0}\n",
      "{'eval_loss': 0.34005206823349, 'eval_micro f1': 0.0, 'eval_macro f1': 0.0, 'eval_runtime': 0.4089, 'eval_samples_per_second': 259.221, 'eval_steps_per_second': 9.782, 'epoch': 5.0}\n",
      "{'loss': 0.2976, 'learning_rate': 3e-05, 'epoch': 6.0}\n",
      "{'eval_loss': 0.320336252450943, 'eval_micro f1': 0.20588235294117646, 'eval_macro f1': 0.08841099163679808, 'eval_runtime': 0.409, 'eval_samples_per_second': 259.153, 'eval_steps_per_second': 9.779, 'epoch': 6.0}\n",
      "{'loss': 0.2738, 'learning_rate': 3e-05, 'epoch': 7.0}\n",
      "{'eval_loss': 0.3069605529308319, 'eval_micro f1': 0.29577464788732394, 'eval_macro f1': 0.12144308943089431, 'eval_runtime': 0.4098, 'eval_samples_per_second': 258.637, 'eval_steps_per_second': 9.76, 'epoch': 7.0}\n",
      "{'loss': 0.2404, 'learning_rate': 3e-05, 'epoch': 8.0}\n",
      "{'eval_loss': 0.3056570887565613, 'eval_micro f1': 0.41025641025641024, 'eval_macro f1': 0.18263588263588262, 'eval_runtime': 0.409, 'eval_samples_per_second': 259.162, 'eval_steps_per_second': 9.78, 'epoch': 8.0}\n",
      "{'loss': 0.2163, 'learning_rate': 3e-05, 'epoch': 9.0}\n",
      "{'eval_loss': 0.2874259054660797, 'eval_micro f1': 0.4727272727272727, 'eval_macro f1': 0.18073044820765183, 'eval_runtime': 0.4089, 'eval_samples_per_second': 259.257, 'eval_steps_per_second': 9.783, 'epoch': 9.0}\n",
      "{'loss': 0.1865, 'learning_rate': 3e-05, 'epoch': 10.0}\n",
      "{'eval_loss': 0.2757064998149872, 'eval_micro f1': 0.44171779141104295, 'eval_macro f1': 0.20310800310800312, 'eval_runtime': 0.4091, 'eval_samples_per_second': 259.097, 'eval_steps_per_second': 9.777, 'epoch': 10.0}\n",
      "{'loss': 0.1607, 'learning_rate': 3e-05, 'epoch': 11.0}\n",
      "{'eval_loss': 0.26044511795043945, 'eval_micro f1': 0.5060240963855421, 'eval_macro f1': 0.2549546314252196, 'eval_runtime': 0.409, 'eval_samples_per_second': 259.165, 'eval_steps_per_second': 9.78, 'epoch': 11.0}\n",
      "{'loss': 0.1399, 'learning_rate': 3e-05, 'epoch': 12.0}\n",
      "{'eval_loss': 0.26335978507995605, 'eval_micro f1': 0.5251396648044693, 'eval_macro f1': 0.3047619047619048, 'eval_runtime': 0.4092, 'eval_samples_per_second': 259.051, 'eval_steps_per_second': 9.776, 'epoch': 12.0}\n",
      "{'loss': 0.1267, 'learning_rate': 3e-05, 'epoch': 13.0}\n",
      "{'eval_loss': 0.2565843164920807, 'eval_micro f1': 0.5433526011560693, 'eval_macro f1': 0.32680926916221037, 'eval_runtime': 0.409, 'eval_samples_per_second': 259.178, 'eval_steps_per_second': 9.78, 'epoch': 13.0}\n",
      "{'loss': 0.112, 'learning_rate': 3e-05, 'epoch': 14.0}\n",
      "{'eval_loss': 0.2598978579044342, 'eval_micro f1': 0.5294117647058824, 'eval_macro f1': 0.31584558339818586, 'eval_runtime': 0.4085, 'eval_samples_per_second': 259.456, 'eval_steps_per_second': 9.791, 'epoch': 14.0}\n",
      "{'loss': 0.0978, 'learning_rate': 3e-05, 'epoch': 15.0}\n",
      "{'eval_loss': 0.2605889141559601, 'eval_micro f1': 0.5777777777777777, 'eval_macro f1': 0.3744847177072241, 'eval_runtime': 0.4088, 'eval_samples_per_second': 259.309, 'eval_steps_per_second': 9.785, 'epoch': 15.0}\n",
      "{'loss': 0.0872, 'learning_rate': 3e-05, 'epoch': 16.0}\n",
      "{'eval_loss': 0.26680585741996765, 'eval_micro f1': 0.5333333333333333, 'eval_macro f1': 0.3411551967942945, 'eval_runtime': 0.4087, 'eval_samples_per_second': 259.389, 'eval_steps_per_second': 9.788, 'epoch': 16.0}\n",
      "{'loss': 0.0818, 'learning_rate': 3e-05, 'epoch': 17.0}\n",
      "{'eval_loss': 0.2603604197502136, 'eval_micro f1': 0.56, 'eval_macro f1': 0.3615566091756568, 'eval_runtime': 0.4087, 'eval_samples_per_second': 259.33, 'eval_steps_per_second': 9.786, 'epoch': 17.0}\n",
      "{'loss': 0.0765, 'learning_rate': 3e-05, 'epoch': 18.0}\n",
      "{'eval_loss': 0.2646261155605316, 'eval_micro f1': 0.5161290322580645, 'eval_macro f1': 0.36572753767176214, 'eval_runtime': 0.4088, 'eval_samples_per_second': 259.308, 'eval_steps_per_second': 9.785, 'epoch': 18.0}\n",
      "{'loss': 0.0702, 'learning_rate': 3e-05, 'epoch': 19.0}\n",
      "{'eval_loss': 0.2683883607387543, 'eval_micro f1': 0.5978260869565217, 'eval_macro f1': 0.42397836279950096, 'eval_runtime': 0.4101, 'eval_samples_per_second': 258.443, 'eval_steps_per_second': 9.753, 'epoch': 19.0}\n",
      "{'loss': 0.0641, 'learning_rate': 3e-05, 'epoch': 20.0}\n",
      "{'eval_loss': 0.26897484064102173, 'eval_micro f1': 0.582010582010582, 'eval_macro f1': 0.4026599589441119, 'eval_runtime': 0.4101, 'eval_samples_per_second': 258.472, 'eval_steps_per_second': 9.754, 'epoch': 20.0}\n",
      "{'train_runtime': 51.8144, 'train_samples_per_second': 26.248, 'train_steps_per_second': 6.562, 'train_loss': 0.20913906483089223, 'epoch': 20.0}\n"
     ]
    },
    {
     "name": "stderr",
     "output_type": "stream",
     "text": [
      "Some weights of the model checkpoint at bert-base-uncased were not used when initializing BertForSequenceClassification: ['cls.predictions.transform.LayerNorm.bias', 'cls.seq_relationship.weight', 'cls.predictions.transform.dense.weight', 'cls.seq_relationship.bias', 'cls.predictions.transform.LayerNorm.weight', 'cls.predictions.transform.dense.bias', 'cls.predictions.bias']\n",
      "- This IS expected if you are initializing BertForSequenceClassification from the checkpoint of a model trained on another task or with another architecture (e.g. initializing a BertForSequenceClassification model from a BertForPreTraining model).\n",
      "- This IS NOT expected if you are initializing BertForSequenceClassification from the checkpoint of a model that you expect to be exactly identical (initializing a BertForSequenceClassification model from a BertForSequenceClassification model).\n",
      "Some weights of BertForSequenceClassification were not initialized from the model checkpoint at bert-base-uncased and are newly initialized: ['classifier.bias', 'classifier.weight']\n",
      "You should probably TRAIN this model on a down-stream task to be able to use it for predictions and inference.\n",
      "/home/restful3/anaconda3/envs/trading/lib/python3.9/site-packages/transformers/optimization.py:411: FutureWarning: This implementation of AdamW is deprecated and will be removed in a future version. Use the PyTorch implementation torch.optim.AdamW instead, or set `no_deprecation_warning=True` to disable this warning\n",
      "  warnings.warn(\n"
     ]
    },
    {
     "name": "stdout",
     "output_type": "stream",
     "text": [
      "{'loss': 0.4588, 'learning_rate': 3e-05, 'epoch': 1.0}\n",
      "{'eval_loss': 0.37415334582328796, 'eval_micro f1': 0.0, 'eval_macro f1': 0.0, 'eval_runtime': 0.4089, 'eval_samples_per_second': 259.249, 'eval_steps_per_second': 9.783, 'epoch': 1.0}\n",
      "{'loss': 0.3487, 'learning_rate': 3e-05, 'epoch': 2.0}\n",
      "{'eval_loss': 0.34442153573036194, 'eval_micro f1': 0.0, 'eval_macro f1': 0.0, 'eval_runtime': 0.409, 'eval_samples_per_second': 259.157, 'eval_steps_per_second': 9.78, 'epoch': 2.0}\n",
      "{'loss': 0.3175, 'learning_rate': 3e-05, 'epoch': 3.0}\n",
      "{'eval_loss': 0.32175320386886597, 'eval_micro f1': 0.22058823529411764, 'eval_macro f1': 0.08333333333333333, 'eval_runtime': 0.4099, 'eval_samples_per_second': 258.582, 'eval_steps_per_second': 9.758, 'epoch': 3.0}\n",
      "{'loss': 0.2822, 'learning_rate': 3e-05, 'epoch': 4.0}\n",
      "{'eval_loss': 0.28491953015327454, 'eval_micro f1': 0.4230769230769231, 'eval_macro f1': 0.16707906209496878, 'eval_runtime': 0.4089, 'eval_samples_per_second': 259.208, 'eval_steps_per_second': 9.781, 'epoch': 4.0}\n",
      "{'loss': 0.2456, 'learning_rate': 3e-05, 'epoch': 5.0}\n",
      "{'eval_loss': 0.2722923457622528, 'eval_micro f1': 0.4472049689440994, 'eval_macro f1': 0.18846859859769494, 'eval_runtime': 0.4106, 'eval_samples_per_second': 258.128, 'eval_steps_per_second': 9.741, 'epoch': 5.0}\n",
      "{'loss': 0.2078, 'learning_rate': 3e-05, 'epoch': 6.0}\n",
      "{'eval_loss': 0.23885849118232727, 'eval_micro f1': 0.5269461077844312, 'eval_macro f1': 0.26690821256038644, 'eval_runtime': 0.4105, 'eval_samples_per_second': 258.249, 'eval_steps_per_second': 9.745, 'epoch': 6.0}\n",
      "{'loss': 0.1681, 'learning_rate': 3e-05, 'epoch': 7.0}\n",
      "{'eval_loss': 0.22948820888996124, 'eval_micro f1': 0.5842696629213483, 'eval_macro f1': 0.34283727177701245, 'eval_runtime': 0.4101, 'eval_samples_per_second': 258.466, 'eval_steps_per_second': 9.753, 'epoch': 7.0}\n",
      "{'loss': 0.1404, 'learning_rate': 3e-05, 'epoch': 8.0}\n",
      "{'eval_loss': 0.21453234553337097, 'eval_micro f1': 0.5942857142857143, 'eval_macro f1': 0.3811264924649409, 'eval_runtime': 0.4107, 'eval_samples_per_second': 258.096, 'eval_steps_per_second': 9.739, 'epoch': 8.0}\n",
      "{'loss': 0.1136, 'learning_rate': 3e-05, 'epoch': 9.0}\n",
      "{'eval_loss': 0.20847193896770477, 'eval_micro f1': 0.6282722513089005, 'eval_macro f1': 0.4404845441426255, 'eval_runtime': 0.4099, 'eval_samples_per_second': 258.587, 'eval_steps_per_second': 9.758, 'epoch': 9.0}\n",
      "{'loss': 0.0942, 'learning_rate': 3e-05, 'epoch': 10.0}\n",
      "{'eval_loss': 0.21041104197502136, 'eval_micro f1': 0.6185567010309279, 'eval_macro f1': 0.4438575380604366, 'eval_runtime': 0.4096, 'eval_samples_per_second': 258.784, 'eval_steps_per_second': 9.765, 'epoch': 10.0}\n",
      "{'loss': 0.0752, 'learning_rate': 3e-05, 'epoch': 11.0}\n",
      "{'eval_loss': 0.20293816924095154, 'eval_micro f1': 0.6421052631578947, 'eval_macro f1': 0.4532439438989293, 'eval_runtime': 0.4099, 'eval_samples_per_second': 258.624, 'eval_steps_per_second': 9.759, 'epoch': 11.0}\n",
      "{'loss': 0.0643, 'learning_rate': 3e-05, 'epoch': 12.0}\n",
      "{'eval_loss': 0.1966283768415451, 'eval_micro f1': 0.6368159203980099, 'eval_macro f1': 0.5017473606561416, 'eval_runtime': 0.4103, 'eval_samples_per_second': 258.325, 'eval_steps_per_second': 9.748, 'epoch': 12.0}\n",
      "{'loss': 0.0571, 'learning_rate': 3e-05, 'epoch': 13.0}\n",
      "{'eval_loss': 0.20158006250858307, 'eval_micro f1': 0.6796116504854369, 'eval_macro f1': 0.584176364305034, 'eval_runtime': 0.4094, 'eval_samples_per_second': 258.914, 'eval_steps_per_second': 9.77, 'epoch': 13.0}\n",
      "{'loss': 0.0508, 'learning_rate': 3e-05, 'epoch': 14.0}\n",
      "{'eval_loss': 0.20189283788204193, 'eval_micro f1': 0.6467661691542289, 'eval_macro f1': 0.5320409595771916, 'eval_runtime': 0.4097, 'eval_samples_per_second': 258.705, 'eval_steps_per_second': 9.762, 'epoch': 14.0}\n",
      "{'loss': 0.0445, 'learning_rate': 3e-05, 'epoch': 15.0}\n",
      "{'eval_loss': 0.20469047129154205, 'eval_micro f1': 0.64, 'eval_macro f1': 0.5239103828191637, 'eval_runtime': 0.4092, 'eval_samples_per_second': 259.019, 'eval_steps_per_second': 9.774, 'epoch': 15.0}\n",
      "{'loss': 0.0392, 'learning_rate': 3e-05, 'epoch': 16.0}\n",
      "{'eval_loss': 0.20606616139411926, 'eval_micro f1': 0.6730769230769231, 'eval_macro f1': 0.5905370792312802, 'eval_runtime': 0.411, 'eval_samples_per_second': 257.912, 'eval_steps_per_second': 9.733, 'epoch': 16.0}\n",
      "{'loss': 0.0358, 'learning_rate': 3e-05, 'epoch': 17.0}\n",
      "{'eval_loss': 0.21470700204372406, 'eval_micro f1': 0.6467661691542289, 'eval_macro f1': 0.5385823484715215, 'eval_runtime': 0.4097, 'eval_samples_per_second': 258.751, 'eval_steps_per_second': 9.764, 'epoch': 17.0}\n",
      "{'loss': 0.0331, 'learning_rate': 3e-05, 'epoch': 18.0}\n",
      "{'eval_loss': 0.20980077981948853, 'eval_micro f1': 0.67, 'eval_macro f1': 0.5761400383636512, 'eval_runtime': 0.4097, 'eval_samples_per_second': 258.743, 'eval_steps_per_second': 9.764, 'epoch': 18.0}\n",
      "{'loss': 0.0318, 'learning_rate': 3e-05, 'epoch': 19.0}\n",
      "{'eval_loss': 0.20827201008796692, 'eval_micro f1': 0.6568627450980392, 'eval_macro f1': 0.5614160006003978, 'eval_runtime': 0.4104, 'eval_samples_per_second': 258.293, 'eval_steps_per_second': 9.747, 'epoch': 19.0}\n",
      "{'loss': 0.0286, 'learning_rate': 3e-05, 'epoch': 20.0}\n",
      "{'eval_loss': 0.20165972411632538, 'eval_micro f1': 0.6796116504854369, 'eval_macro f1': 0.5954055223350176, 'eval_runtime': 0.4099, 'eval_samples_per_second': 258.619, 'eval_steps_per_second': 9.759, 'epoch': 20.0}\n",
      "{'train_runtime': 77.976, 'train_samples_per_second': 34.37, 'train_steps_per_second': 8.721, 'train_loss': 0.14185689608840382, 'epoch': 20.0}\n"
     ]
    },
    {
     "name": "stderr",
     "output_type": "stream",
     "text": [
      "Some weights of the model checkpoint at bert-base-uncased were not used when initializing BertForSequenceClassification: ['cls.predictions.transform.LayerNorm.bias', 'cls.seq_relationship.weight', 'cls.predictions.transform.dense.weight', 'cls.seq_relationship.bias', 'cls.predictions.transform.LayerNorm.weight', 'cls.predictions.transform.dense.bias', 'cls.predictions.bias']\n",
      "- This IS expected if you are initializing BertForSequenceClassification from the checkpoint of a model trained on another task or with another architecture (e.g. initializing a BertForSequenceClassification model from a BertForPreTraining model).\n",
      "- This IS NOT expected if you are initializing BertForSequenceClassification from the checkpoint of a model that you expect to be exactly identical (initializing a BertForSequenceClassification model from a BertForSequenceClassification model).\n",
      "Some weights of BertForSequenceClassification were not initialized from the model checkpoint at bert-base-uncased and are newly initialized: ['classifier.bias', 'classifier.weight']\n",
      "You should probably TRAIN this model on a down-stream task to be able to use it for predictions and inference.\n",
      "/home/restful3/anaconda3/envs/trading/lib/python3.9/site-packages/transformers/optimization.py:411: FutureWarning: This implementation of AdamW is deprecated and will be removed in a future version. Use the PyTorch implementation torch.optim.AdamW instead, or set `no_deprecation_warning=True` to disable this warning\n",
      "  warnings.warn(\n"
     ]
    },
    {
     "name": "stdout",
     "output_type": "stream",
     "text": [
      "{'loss': 0.426, 'learning_rate': 3e-05, 'epoch': 1.0}\n",
      "{'eval_loss': 0.35793909430503845, 'eval_micro f1': 0.0, 'eval_macro f1': 0.0, 'eval_runtime': 0.4096, 'eval_samples_per_second': 258.783, 'eval_steps_per_second': 9.765, 'epoch': 1.0}\n",
      "{'loss': 0.3308, 'learning_rate': 3e-05, 'epoch': 2.0}\n",
      "{'eval_loss': 0.3201952278614044, 'eval_micro f1': 0.13953488372093023, 'eval_macro f1': 0.0606060606060606, 'eval_runtime': 0.4107, 'eval_samples_per_second': 258.094, 'eval_steps_per_second': 9.739, 'epoch': 2.0}\n",
      "{'loss': 0.2887, 'learning_rate': 3e-05, 'epoch': 3.0}\n",
      "{'eval_loss': 0.28052327036857605, 'eval_micro f1': 0.4230769230769231, 'eval_macro f1': 0.16790123456790124, 'eval_runtime': 0.4113, 'eval_samples_per_second': 257.726, 'eval_steps_per_second': 9.726, 'epoch': 3.0}\n",
      "{'loss': 0.2459, 'learning_rate': 3e-05, 'epoch': 4.0}\n",
      "{'eval_loss': 0.25171801447868347, 'eval_micro f1': 0.5263157894736842, 'eval_macro f1': 0.2707277452891488, 'eval_runtime': 0.412, 'eval_samples_per_second': 257.309, 'eval_steps_per_second': 9.71, 'epoch': 4.0}\n",
      "{'loss': 0.2047, 'learning_rate': 3e-05, 'epoch': 5.0}\n",
      "{'eval_loss': 0.2352696657180786, 'eval_micro f1': 0.5, 'eval_macro f1': 0.21724318658280922, 'eval_runtime': 0.4148, 'eval_samples_per_second': 255.538, 'eval_steps_per_second': 9.643, 'epoch': 5.0}\n",
      "{'loss': 0.1737, 'learning_rate': 3e-05, 'epoch': 6.0}\n",
      "{'eval_loss': 0.21529361605644226, 'eval_micro f1': 0.6077348066298343, 'eval_macro f1': 0.38674181427804616, 'eval_runtime': 0.4117, 'eval_samples_per_second': 257.461, 'eval_steps_per_second': 9.716, 'epoch': 6.0}\n",
      "{'loss': 0.1447, 'learning_rate': 3e-05, 'epoch': 7.0}\n",
      "{'eval_loss': 0.21054650843143463, 'eval_micro f1': 0.6354166666666666, 'eval_macro f1': 0.47962127181985337, 'eval_runtime': 0.4127, 'eval_samples_per_second': 256.821, 'eval_steps_per_second': 9.691, 'epoch': 7.0}\n",
      "{'loss': 0.1154, 'learning_rate': 3e-05, 'epoch': 8.0}\n",
      "{'eval_loss': 0.1888204962015152, 'eval_micro f1': 0.67, 'eval_macro f1': 0.558183952386851, 'eval_runtime': 0.4113, 'eval_samples_per_second': 257.736, 'eval_steps_per_second': 9.726, 'epoch': 8.0}\n",
      "{'loss': 0.0862, 'learning_rate': 3e-05, 'epoch': 9.0}\n",
      "{'eval_loss': 0.19767099618911743, 'eval_micro f1': 0.6802030456852792, 'eval_macro f1': 0.5744293092037452, 'eval_runtime': 0.4116, 'eval_samples_per_second': 257.556, 'eval_steps_per_second': 9.719, 'epoch': 9.0}\n",
      "{'loss': 0.0643, 'learning_rate': 3e-05, 'epoch': 10.0}\n",
      "{'eval_loss': 0.20064155757427216, 'eval_micro f1': 0.6504854368932039, 'eval_macro f1': 0.5432051490235632, 'eval_runtime': 0.4109, 'eval_samples_per_second': 257.952, 'eval_steps_per_second': 9.734, 'epoch': 10.0}\n",
      "{'loss': 0.0555, 'learning_rate': 3e-05, 'epoch': 11.0}\n",
      "{'eval_loss': 0.19086693227291107, 'eval_micro f1': 0.6956521739130435, 'eval_macro f1': 0.6180510048433403, 'eval_runtime': 0.4129, 'eval_samples_per_second': 256.693, 'eval_steps_per_second': 9.687, 'epoch': 11.0}\n",
      "{'loss': 0.0438, 'learning_rate': 3e-05, 'epoch': 12.0}\n",
      "{'eval_loss': 0.19570156931877136, 'eval_micro f1': 0.7129629629629629, 'eval_macro f1': 0.6370054371547467, 'eval_runtime': 0.4121, 'eval_samples_per_second': 257.192, 'eval_steps_per_second': 9.705, 'epoch': 12.0}\n",
      "{'loss': 0.037, 'learning_rate': 3e-05, 'epoch': 13.0}\n",
      "{'eval_loss': 0.2009309083223343, 'eval_micro f1': 0.7105263157894737, 'eval_macro f1': 0.6667404191263038, 'eval_runtime': 0.4125, 'eval_samples_per_second': 257.001, 'eval_steps_per_second': 9.698, 'epoch': 13.0}\n",
      "{'loss': 0.0336, 'learning_rate': 3e-05, 'epoch': 14.0}\n",
      "{'eval_loss': 0.21326066553592682, 'eval_micro f1': 0.6822429906542056, 'eval_macro f1': 0.611294462644278, 'eval_runtime': 0.4124, 'eval_samples_per_second': 257.031, 'eval_steps_per_second': 9.699, 'epoch': 14.0}\n",
      "{'loss': 0.0303, 'learning_rate': 3e-05, 'epoch': 15.0}\n",
      "{'eval_loss': 0.19860021770000458, 'eval_micro f1': 0.7031963470319634, 'eval_macro f1': 0.6449045665584455, 'eval_runtime': 0.4116, 'eval_samples_per_second': 257.5, 'eval_steps_per_second': 9.717, 'epoch': 15.0}\n",
      "{'loss': 0.026, 'learning_rate': 3e-05, 'epoch': 16.0}\n",
      "{'eval_loss': 0.2107202559709549, 'eval_micro f1': 0.7047619047619048, 'eval_macro f1': 0.6359358405374528, 'eval_runtime': 0.4127, 'eval_samples_per_second': 256.84, 'eval_steps_per_second': 9.692, 'epoch': 16.0}\n",
      "{'loss': 0.0223, 'learning_rate': 3e-05, 'epoch': 17.0}\n",
      "{'eval_loss': 0.21025808155536652, 'eval_micro f1': 0.7214611872146118, 'eval_macro f1': 0.6692297854413048, 'eval_runtime': 0.4118, 'eval_samples_per_second': 257.406, 'eval_steps_per_second': 9.713, 'epoch': 17.0}\n",
      "{'loss': 0.0218, 'learning_rate': 3e-05, 'epoch': 18.0}\n",
      "{'eval_loss': 0.21857410669326782, 'eval_micro f1': 0.704225352112676, 'eval_macro f1': 0.6503717627830274, 'eval_runtime': 0.412, 'eval_samples_per_second': 257.292, 'eval_steps_per_second': 9.709, 'epoch': 18.0}\n",
      "{'loss': 0.0188, 'learning_rate': 3e-05, 'epoch': 19.0}\n",
      "{'eval_loss': 0.22633524239063263, 'eval_micro f1': 0.7181818181818181, 'eval_macro f1': 0.6585093557735067, 'eval_runtime': 0.4127, 'eval_samples_per_second': 256.832, 'eval_steps_per_second': 9.692, 'epoch': 19.0}\n",
      "{'loss': 0.0178, 'learning_rate': 3e-05, 'epoch': 20.0}\n",
      "{'eval_loss': 0.22204972803592682, 'eval_micro f1': 0.6944444444444444, 'eval_macro f1': 0.6505928460652226, 'eval_runtime': 0.4127, 'eval_samples_per_second': 256.868, 'eval_steps_per_second': 9.693, 'epoch': 20.0}\n",
      "{'train_runtime': 113.8193, 'train_samples_per_second': 39.185, 'train_steps_per_second': 9.84, 'train_loss': 0.11937116049230098, 'epoch': 20.0}\n"
     ]
    }
   ],
   "source": [
    "for train_slice in train_slices:\n",
    "    model = AutoModelForSequenceClassification.from_pretrained(model_ckpt,\n",
    "                                                               config=config)\n",
    "    trainer = Trainer(\n",
    "        model=model, tokenizer=tokenizer,\n",
    "        args=training_args_fine_tune,\n",
    "        compute_metrics=compute_metrics,\n",
    "        train_dataset=ds_enc[\"train\"].select(train_slice),\n",
    "        eval_dataset=ds_enc[\"valid\"],)\n",
    "\n",
    "    trainer.train()\n",
    "    pred = trainer.predict(ds_enc[\"test\"])\n",
    "    metrics = compute_metrics(pred)\n",
    "    macro_scores[\"Fine-tune (vanilla)\"].append(metrics[\"macro f1\"])\n",
    "    micro_scores[\"Fine-tune (vanilla)\"].append(metrics[\"micro f1\"])"
   ]
  },
  {
   "cell_type": "code",
   "execution_count": 155,
   "id": "e9a84783",
   "metadata": {},
   "outputs": [
    {
     "data": {
      "image/png": "[encoded data removed]",
      "text/plain": [
       "<Figure size 1000x400 with 2 Axes>"
      ]
     },
     "metadata": {},
     "output_type": "display_data"
    }
   ],
   "source": [
    "plot_metrics(micro_scores, macro_scores, train_samples, \"Fine-tune (vanilla)\")"
   ]
  },
  {
   "cell_type": "markdown",
   "id": "c32e3c9f",
   "metadata": {},
   "source": [
    "- 기본적인 BERT 모델을 간단히 미세 튜닝해 64개 샘플에서 경쟁력 있는 모델 얻음\n",
    "- (샘플이 적으면) 약간 불규칙한 행동을 보인다. "
   ]
  },
  {
   "cell_type": "markdown",
   "id": "bd82bdcc-db25-442a-a689-e5500414d4b8",
   "metadata": {},
   "source": [
    "## 프롬프트를 사용한 인-컨텍스트 학습과 퓨-샷 학습\n",
    "- BERT나 GPT-2사용시 프롬프트를 사용해 모델의 토큰 예측을 파싱\n",
    "- 작업에 특화된 헤드 추가, 모델 파라미터를 작업에 맞게 튜닝하는 전통적인 방법이 아니다.\n",
    "- 훈련 데이터가 전혀 필요 없고, 레이블링 된 데이터를 사용 할 수 없는 단점\n",
    "\n",
    "```python\n",
    "prompt = \"\"\"\\\n",
    "Translate English to French:\n",
    "thanks =>\n",
    "\"\"\"\n",
    "```\n",
    "\n",
    "- 위와 같이 영어를 프랑스어로 번역하는 작업\n",
    "- GPT-3는 위와 같은 프롬프트가 있다면, 모델의 작업 성능이 더 뛰어나다\n",
    "- 모델이 클 수록 인-컨텍스트로 인한 성능이 더 향상 된다"
   ]
  },
  {
   "cell_type": "markdown",
   "id": "8eabd7c9-ae0e-4363-b1f9-7c91444b9059",
   "metadata": {},
   "source": [
    "# 레이블링되지 않은 데이터 활용하기\n",
    "\n",
    "<img alt=\"decision-tree\" caption=\"Several techniques that can be used to improve model performance in the absence of large amounts of labeled data\" src=\"https://github.com/rickiepark/nlp-with-transformers/blob/main/images/chapter09_decision-tree.png?raw=1\" id=\"decision-tree\" width=\"700px\"/>\n",
    "\n",
    "- **전이 학습의 개념**: 전이 학습은 사전 훈련된 모델의 지식을 새로운 작업에 전이하여 성능을 개선하는 학습 방법입니다. 기존에 사용된 데이터셋과 유사한 도메인에서 사전 훈련된 모델은 후속 작업에서 더 나은 성능을 발휘할 수 있습니다.\n",
    "- **BERT를 예로 든 전이 학습**: BERT는 BookCorpus와 영어 위키피디아와 같은 대규모 텍스트 데이터에서 사전 훈련됩니다. 하지만 모든 도메인에 적합한 데이터셋을 사전 훈련하기는 어렵고 비용이 많이 들 수 있습니다.\n",
    "- **도메인 적응(Domain Adaptation)**: 도메인 적응은 사전 훈련된 언어 모델을 특정 도메인에 맞게 조정하는 방법입니다. 이를 위해 레이블링된 데이터가 필요하지 않으며, 도메인의 특성을 반영하기 위해 모델을 새로운 데이터로 계속 훈련합니다.\n",
    "- **도메인 적응의 장점**: 도메인 적응은 레이블링된 데이터보다 레이블링되지 않은 데이터가 풍부한 경우에 유용합니다. 또한 도메인 적응된 모델은 여러 작업에서 재사용할 수 있어 효율적입니다.\n",
    "    - **예시**: 이메일 분류기를 도메인 적응하여 다른 분류 작업에 활용할 수 있습니다. 이는 후속 작업에 무관한 도메인 적응 방식의 장점을 보여줍니다."
   ]
  },
  {
   "cell_type": "markdown",
   "id": "c03667b0-82a4-41f9-9bb9-0878d5914e65",
   "metadata": {},
   "source": [
    "## 언어 모델 미세 튜닝하기\n",
    "\n",
    "- 사전 훈련된 모델을 레이블링이 없는 데이터로 미세튜닝 하기\n",
    "- **토큰화(Tokenization)**: 텍스트를 토큰화하는 과정에서 특수 토큰인 [CLS]와 [SEP] 같은 토큰들을 추가합니다. 이러한 특수 토큰들은 분류 작업이나 다음 문장 예측과 같은 추가적인 작업을 위해 사용됩니다. 마스크드 언어 모델링에서는 특수 토큰들에 대한 예측을 수행하지 않으며, 이러한 특수 토큰들은 손실을 계산할 때 마스킹됩니다. `return_special_tokens_mask=True`로 설정하면 토큰화 과정에서 마스크를 얻을 수 있습니다."
   ]
  },
  {
   "cell_type": "code",
   "execution_count": 156,
   "id": "5410231c",
   "metadata": {},
   "outputs": [
    {
     "data": {
      "application/vnd.jupyter.widget-view+json": {
       "model_id": "1bb588b97e664d76adf4325c6eb3bf4b",
       "version_major": 2,
       "version_minor": 0
      },
      "text/plain": [
       "Map:   0%|          | 0/223 [00:00<?, ? examples/s]"
      ]
     },
     "metadata": {},
     "output_type": "display_data"
    },
    {
     "data": {
      "application/vnd.jupyter.widget-view+json": {
       "model_id": "4eb96d15e553412897dfee5b40c39ec1",
       "version_major": 2,
       "version_minor": 0
      },
      "text/plain": [
       "Map:   0%|          | 0/106 [00:00<?, ? examples/s]"
      ]
     },
     "metadata": {},
     "output_type": "display_data"
    },
    {
     "data": {
      "application/vnd.jupyter.widget-view+json": {
       "model_id": "113a1a54cce64f13b93a16be71d43a8f",
       "version_major": 2,
       "version_minor": 0
      },
      "text/plain": [
       "Map:   0%|          | 0/111 [00:00<?, ? examples/s]"
      ]
     },
     "metadata": {},
     "output_type": "display_data"
    },
    {
     "data": {
      "application/vnd.jupyter.widget-view+json": {
       "model_id": "22a35f6d5ff747b8bc7f063d9bbdb587",
       "version_major": 2,
       "version_minor": 0
      },
      "text/plain": [
       "Map:   0%|          | 0/9303 [00:00<?, ? examples/s]"
      ]
     },
     "metadata": {},
     "output_type": "display_data"
    }
   ],
   "source": [
    "def tokenize(batch):\n",
    "    return tokenizer(batch[\"text\"], truncation=True,\n",
    "                     max_length=128, return_special_tokens_mask=True)\n",
    "\n",
    "ds_mlm = ds.map(tokenize, batched=True)\n",
    "ds_mlm = ds_mlm.remove_columns([\"labels\", \"text\", \"label_ids\"])"
   ]
  },
  {
   "cell_type": "markdown",
   "id": "7d815f71",
   "metadata": {},
   "source": [
    "- **마스크드 언어 모델링**: 입력 시퀀스의 일부 토큰을 마스킹하고, 출력에서는 해당 마스킹된 토큰을 예측하는 방식의 언어 모델링입니다. 랜덤한 토큰을 마스킹하고 시퀀스에 대한 레이블을 생성하는 함수를 작성해야 하며, 이를 통해 데이터셋의 크기는 두 배가 됩니다. 또한 데이터 셋에는 입력 시퀀스와 해당 마스킹된 토큰을 함께 저장해야 합니다.\n",
    "\n",
    "- **데이터 콜레이터(Data Collator)**: 데이터 콜레이터는 데이터셋과 모델 호출 사이를 연결하는 함수입니다. 데이터 콜레이터를 사용하면 모델에 입력될 데이터를 준비할 수 있습니다. 데이터 콜레이터를 사용하는 방식은 데이터셋에서 샘플링한 후 해당 샘플에 대해 마스킹과 레이블 생성을 동적으로 수행합니다. 이를 위해 `DatacollatorForLanguageModeling`을 사용하며, 모델의 토크나이저와 마스킹할 토큰 비율을 초기화하여 동작시킵니다. 이 콜레이터는 BERT 논문에서 제안된 15%의 토큰을 마스킹하는 방식을 따릅니다."
   ]
  },
  {
   "cell_type": "code",
   "execution_count": 157,
   "id": "2ce5e76c",
   "metadata": {},
   "outputs": [],
   "source": [
    "from transformers import DataCollatorForLanguageModeling, set_seed\n",
    "\n",
    "data_collator = DataCollatorForLanguageModeling(tokenizer=tokenizer,\n",
    "                                                mlm_probability=0.15)"
   ]
  },
  {
   "cell_type": "markdown",
   "id": "0f8a018d",
   "metadata": {},
   "source": [
    "- 데이터 콜레이터 실행"
   ]
  },
  {
   "cell_type": "code",
   "execution_count": 158,
   "id": "71d30115",
   "metadata": {},
   "outputs": [
    {
     "data": {
      "text/html": [
       "<div>\n",
       "<style scoped>\n",
       "    .dataframe tbody tr th:only-of-type {\n",
       "        vertical-align: middle;\n",
       "    }\n",
       "\n",
       "    .dataframe tbody tr th {\n",
       "        vertical-align: top;\n",
       "    }\n",
       "\n",
       "    .dataframe thead th {\n",
       "        text-align: right;\n",
       "    }\n",
       "</style>\n",
       "<table border=\"1\" class=\"dataframe\">\n",
       "  <thead>\n",
       "    <tr style=\"text-align: right;\">\n",
       "      <th></th>\n",
       "      <th>0</th>\n",
       "      <th>1</th>\n",
       "      <th>2</th>\n",
       "      <th>3</th>\n",
       "      <th>4</th>\n",
       "      <th>5</th>\n",
       "    </tr>\n",
       "  </thead>\n",
       "  <tbody>\n",
       "    <tr>\n",
       "      <th>Original tokens</th>\n",
       "      <td>[CLS]</td>\n",
       "      <td>transformers</td>\n",
       "      <td>are</td>\n",
       "      <td>awesome</td>\n",
       "      <td>!</td>\n",
       "      <td>[SEP]</td>\n",
       "    </tr>\n",
       "    <tr>\n",
       "      <th>Masked tokens</th>\n",
       "      <td>[CLS]</td>\n",
       "      <td>transformers</td>\n",
       "      <td>are</td>\n",
       "      <td>awesome</td>\n",
       "      <td>[MASK]</td>\n",
       "      <td>[SEP]</td>\n",
       "    </tr>\n",
       "    <tr>\n",
       "      <th>Original input_ids</th>\n",
       "      <td>101</td>\n",
       "      <td>19081</td>\n",
       "      <td>2024</td>\n",
       "      <td>12476</td>\n",
       "      <td>999</td>\n",
       "      <td>102</td>\n",
       "    </tr>\n",
       "    <tr>\n",
       "      <th>Masked input_ids</th>\n",
       "      <td>101</td>\n",
       "      <td>19081</td>\n",
       "      <td>2024</td>\n",
       "      <td>12476</td>\n",
       "      <td>103</td>\n",
       "      <td>102</td>\n",
       "    </tr>\n",
       "    <tr>\n",
       "      <th>Labels</th>\n",
       "      <td>-100</td>\n",
       "      <td>-100</td>\n",
       "      <td>-100</td>\n",
       "      <td>-100</td>\n",
       "      <td>999</td>\n",
       "      <td>-100</td>\n",
       "    </tr>\n",
       "  </tbody>\n",
       "</table>\n",
       "</div>"
      ],
      "text/plain": [
       "                        0             1     2        3       4      5\n",
       "Original tokens     [CLS]  transformers   are  awesome       !  [SEP]\n",
       "Masked tokens       [CLS]  transformers   are  awesome  [MASK]  [SEP]\n",
       "Original input_ids    101         19081  2024    12476     999    102\n",
       "Masked input_ids      101         19081  2024    12476     103    102\n",
       "Labels               -100          -100  -100     -100     999   -100"
      ]
     },
     "execution_count": 158,
     "metadata": {},
     "output_type": "execute_result"
    }
   ],
   "source": [
    "set_seed(3)\n",
    "data_collator.return_tensors = \"np\"\n",
    "inputs = tokenizer(\"Transformers are awesome!\", return_tensors=\"np\")\n",
    "original_input_ids = inputs[\"input_ids\"][0]\n",
    "outputs = data_collator([{\"input_ids\": inputs[\"input_ids\"][0]}])\n",
    "masked_input_ids = outputs[\"input_ids\"][0]\n",
    "\n",
    "pd.DataFrame({\n",
    "    \"Original tokens\": tokenizer.convert_ids_to_tokens(original_input_ids),\n",
    "    \"Masked tokens\": tokenizer.convert_ids_to_tokens(masked_input_ids),\n",
    "    \"Original input_ids\": original_input_ids,\n",
    "    \"Masked input_ids\": masked_input_ids,\n",
    "    \"Labels\": outputs[\"labels\"][0]}).T"
   ]
  },
  {
   "cell_type": "markdown",
   "id": "1a30e0c9",
   "metadata": {},
   "source": [
    "- 느낌표에 해당하는 토큰이 마스킹 토큰으로 바뀜\n",
    "- 데이터 콜레이터가 레이블 배열을 반환 : 원본은 -100, 마스킹된 토큰은 토큰 ID\n",
    "    - -100은 손실 계산시 무시 됨"
   ]
  },
  {
   "cell_type": "code",
   "execution_count": 159,
   "id": "6d5a2d09",
   "metadata": {},
   "outputs": [],
   "source": [
    "data_collator.return_tensors = \"pt\""
   ]
  },
  {
   "cell_type": "markdown",
   "id": "58f40fa7",
   "metadata": {},
   "source": [
    "- 마스크드 언어 모델 미세 튜닝"
   ]
  },
  {
   "cell_type": "code",
   "execution_count": 160,
   "id": "65d195f7",
   "metadata": {
    "scrolled": true
   },
   "outputs": [
    {
     "name": "stderr",
     "output_type": "stream",
     "text": [
      "Some weights of the model checkpoint at bert-base-uncased were not used when initializing BertForMaskedLM: ['cls.seq_relationship.weight', 'cls.seq_relationship.bias']\n",
      "- This IS expected if you are initializing BertForMaskedLM from the checkpoint of a model trained on another task or with another architecture (e.g. initializing a BertForSequenceClassification model from a BertForPreTraining model).\n",
      "- This IS NOT expected if you are initializing BertForMaskedLM from the checkpoint of a model that you expect to be exactly identical (initializing a BertForSequenceClassification model from a BertForSequenceClassification model).\n",
      "/home/restful3/anaconda3/envs/trading/lib/python3.9/site-packages/transformers/optimization.py:411: FutureWarning: This implementation of AdamW is deprecated and will be removed in a future version. Use the PyTorch implementation torch.optim.AdamW instead, or set `no_deprecation_warning=True` to disable this warning\n",
      "  warnings.warn(\n"
     ]
    },
    {
     "name": "stdout",
     "output_type": "stream",
     "text": [
      "{'loss': 2.0997, 'learning_rate': 4.6875e-05, 'epoch': 1.0}\n",
      "{'eval_loss': 1.6987422704696655, 'eval_runtime': 1.1592, 'eval_samples_per_second': 192.367, 'eval_steps_per_second': 24.154, 'epoch': 1.0}\n",
      "{'loss': 1.6376, 'learning_rate': 4.375e-05, 'epoch': 2.0}\n",
      "{'eval_loss': 1.4328354597091675, 'eval_runtime': 1.16, 'eval_samples_per_second': 192.236, 'eval_steps_per_second': 24.137, 'epoch': 2.0}\n",
      "{'loss': 1.4856, 'learning_rate': 4.0625000000000005e-05, 'epoch': 3.0}\n",
      "{'eval_loss': 1.3839068412780762, 'eval_runtime': 1.1758, 'eval_samples_per_second': 189.66, 'eval_steps_per_second': 23.814, 'epoch': 3.0}\n",
      "{'loss': 1.3986, 'learning_rate': 3.7500000000000003e-05, 'epoch': 4.0}\n",
      "{'eval_loss': 1.384953498840332, 'eval_runtime': 1.1608, 'eval_samples_per_second': 192.115, 'eval_steps_per_second': 24.122, 'epoch': 4.0}\n",
      "{'loss': 1.3395, 'learning_rate': 3.4375e-05, 'epoch': 5.0}\n",
      "{'eval_loss': 1.1892787218093872, 'eval_runtime': 1.1619, 'eval_samples_per_second': 191.932, 'eval_steps_per_second': 24.099, 'epoch': 5.0}\n",
      "{'loss': 1.2806, 'learning_rate': 3.125e-05, 'epoch': 6.0}\n",
      "{'eval_loss': 1.2824312448501587, 'eval_runtime': 1.161, 'eval_samples_per_second': 192.074, 'eval_steps_per_second': 24.117, 'epoch': 6.0}\n",
      "{'loss': 1.2421, 'learning_rate': 2.8125000000000003e-05, 'epoch': 7.0}\n",
      "{'eval_loss': 1.2564042806625366, 'eval_runtime': 1.1612, 'eval_samples_per_second': 192.037, 'eval_steps_per_second': 24.112, 'epoch': 7.0}\n",
      "{'loss': 1.1985, 'learning_rate': 2.5e-05, 'epoch': 8.0}\n",
      "{'eval_loss': 1.2053334712982178, 'eval_runtime': 1.1632, 'eval_samples_per_second': 191.708, 'eval_steps_per_second': 24.071, 'epoch': 8.0}\n",
      "{'loss': 1.1693, 'learning_rate': 2.1875e-05, 'epoch': 9.0}\n",
      "{'eval_loss': 1.1769179105758667, 'eval_runtime': 1.1632, 'eval_samples_per_second': 191.714, 'eval_steps_per_second': 24.072, 'epoch': 9.0}\n",
      "{'loss': 1.1391, 'learning_rate': 1.8750000000000002e-05, 'epoch': 10.0}\n",
      "{'eval_loss': 1.2270277738571167, 'eval_runtime': 1.1642, 'eval_samples_per_second': 191.545, 'eval_steps_per_second': 24.051, 'epoch': 10.0}\n",
      "{'loss': 1.1287, 'learning_rate': 1.5625e-05, 'epoch': 11.0}\n",
      "{'eval_loss': 1.209479808807373, 'eval_runtime': 1.1646, 'eval_samples_per_second': 191.475, 'eval_steps_per_second': 24.042, 'epoch': 11.0}\n",
      "{'loss': 1.104, 'learning_rate': 1.25e-05, 'epoch': 12.0}\n",
      "{'eval_loss': 1.1681337356567383, 'eval_runtime': 1.1644, 'eval_samples_per_second': 191.509, 'eval_steps_per_second': 24.046, 'epoch': 12.0}\n",
      "{'loss': 1.0809, 'learning_rate': 9.375000000000001e-06, 'epoch': 13.0}\n",
      "{'eval_loss': 1.2415651082992554, 'eval_runtime': 1.1647, 'eval_samples_per_second': 191.47, 'eval_steps_per_second': 24.041, 'epoch': 13.0}\n",
      "{'loss': 1.0782, 'learning_rate': 6.25e-06, 'epoch': 14.0}\n",
      "{'eval_loss': 1.1585338115692139, 'eval_runtime': 1.1643, 'eval_samples_per_second': 191.526, 'eval_steps_per_second': 24.048, 'epoch': 14.0}\n",
      "{'loss': 1.0664, 'learning_rate': 3.125e-06, 'epoch': 15.0}\n",
      "{'eval_loss': 1.123294711112976, 'eval_runtime': 1.1647, 'eval_samples_per_second': 191.467, 'eval_steps_per_second': 24.041, 'epoch': 15.0}\n",
      "{'loss': 1.0613, 'learning_rate': 0.0, 'epoch': 16.0}\n",
      "{'eval_loss': 1.248084545135498, 'eval_runtime': 1.1644, 'eval_samples_per_second': 191.516, 'eval_steps_per_second': 24.047, 'epoch': 16.0}\n",
      "{'train_runtime': 2242.3042, 'train_samples_per_second': 66.382, 'train_steps_per_second': 2.076, 'train_loss': 1.281892619182154, 'epoch': 16.0}\n"
     ]
    },
    {
     "data": {
      "text/plain": [
       "TrainOutput(global_step=4656, training_loss=1.281892619182154, metrics={'train_runtime': 2242.3042, 'train_samples_per_second': 66.382, 'train_steps_per_second': 2.076, 'train_loss': 1.281892619182154, 'epoch': 16.0})"
      ]
     },
     "execution_count": 160,
     "metadata": {},
     "output_type": "execute_result"
    }
   ],
   "source": [
    "from transformers import AutoModelForMaskedLM\n",
    "\n",
    "training_args = TrainingArguments(\n",
    "    output_dir = f\"{model_ckpt}-issues-128\", per_device_train_batch_size=32,\n",
    "    logging_strategy=\"epoch\", evaluation_strategy=\"epoch\", save_strategy=\"no\",\n",
    "    num_train_epochs=16, push_to_hub=False, log_level=\"error\", report_to=\"none\")\n",
    "\n",
    "trainer = Trainer(\n",
    "        model=AutoModelForMaskedLM.from_pretrained(\"bert-base-uncased\"),\n",
    "        tokenizer=tokenizer, args=training_args, data_collator=data_collator,\n",
    "        train_dataset=ds_mlm[\"unsup\"], eval_dataset=ds_mlm[\"train\"])\n",
    "\n",
    "trainer.train()"
   ]
  },
  {
   "cell_type": "markdown",
   "id": "05d1a008",
   "metadata": {},
   "source": [
    "- trainer.state.log_history 에 모델 훈련 과정의 기록이 저장됨\n",
    "- 훈련과 검증 손실이 다른 간격으로 기록되기 때문에, 데이터프레임에 누락된 값이 발생\n",
    "- 누락된 값 제거 "
   ]
  },
  {
   "cell_type": "code",
   "execution_count": 161,
   "id": "4cf45ffc",
   "metadata": {},
   "outputs": [
    {
     "data": {
      "image/png": "[encoded data removed]",
      "text/plain": [
       "<Figure size 640x480 with 1 Axes>"
      ]
     },
     "metadata": {},
     "output_type": "display_data"
    }
   ],
   "source": [
    "df_log = pd.DataFrame(trainer.state.log_history)\n",
    "\n",
    "(df_log.dropna(subset=[\"eval_loss\"]).reset_index()[\"eval_loss\"]\n",
    " .plot(label=\"Validation\"))\n",
    "df_log.dropna(subset=[\"loss\"]).reset_index()[\"loss\"].plot(label=\"Train\")\n",
    "\n",
    "plt.xlabel(\"Epochs\")\n",
    "plt.ylabel(\"Loss\")\n",
    "plt.legend(loc=\"upper right\")\n",
    "plt.show()"
   ]
  },
  {
   "cell_type": "markdown",
   "id": "4cca92f6-02ea-4623-ba4b-519e2f3c6dec",
   "metadata": {},
   "source": [
    "## 분류기 미세 튜닝하기"
   ]
  },
  {
   "cell_type": "code",
   "execution_count": 163,
   "id": "0572e310",
   "metadata": {
    "scrolled": true
   },
   "outputs": [
    {
     "data": {
      "application/vnd.jupyter.widget-view+json": {
       "model_id": "83e07b78afa94203b135b7f760b354bd",
       "version_major": 2,
       "version_minor": 0
      },
      "text/plain": [
       "config.json:   0%|          | 0.00/664 [00:00<?, ?B/s]"
      ]
     },
     "metadata": {},
     "output_type": "display_data"
    },
    {
     "data": {
      "application/vnd.jupyter.widget-view+json": {
       "model_id": "747b4af7357f4b0385a9a3b58d6fe8ec",
       "version_major": 2,
       "version_minor": 0
      },
      "text/plain": [
       "pytorch_model.bin:   0%|          | 0.00/438M [00:00<?, ?B/s]"
      ]
     },
     "metadata": {},
     "output_type": "display_data"
    },
    {
     "name": "stderr",
     "output_type": "stream",
     "text": [
      "Some weights of the model checkpoint at cj-mills/bert-base-uncased-issues-128 were not used when initializing BertForSequenceClassification: ['cls.predictions.transform.LayerNorm.bias', 'cls.predictions.transform.dense.weight', 'cls.predictions.transform.LayerNorm.weight', 'cls.predictions.decoder.weight', 'cls.predictions.decoder.bias', 'cls.predictions.transform.dense.bias', 'cls.predictions.bias']\n",
      "- This IS expected if you are initializing BertForSequenceClassification from the checkpoint of a model trained on another task or with another architecture (e.g. initializing a BertForSequenceClassification model from a BertForPreTraining model).\n",
      "- This IS NOT expected if you are initializing BertForSequenceClassification from the checkpoint of a model that you expect to be exactly identical (initializing a BertForSequenceClassification model from a BertForSequenceClassification model).\n",
      "Some weights of BertForSequenceClassification were not initialized from the model checkpoint at cj-mills/bert-base-uncased-issues-128 and are newly initialized: ['classifier.bias', 'classifier.weight', 'bert.pooler.dense.bias', 'bert.pooler.dense.weight']\n",
      "You should probably TRAIN this model on a down-stream task to be able to use it for predictions and inference.\n",
      "/home/restful3/anaconda3/envs/trading/lib/python3.9/site-packages/transformers/optimization.py:411: FutureWarning: This implementation of AdamW is deprecated and will be removed in a future version. Use the PyTorch implementation torch.optim.AdamW instead, or set `no_deprecation_warning=True` to disable this warning\n",
      "  warnings.warn(\n"
     ]
    },
    {
     "name": "stdout",
     "output_type": "stream",
     "text": [
      "{'loss': 0.6383, 'learning_rate': 3e-05, 'epoch': 1.0}\n",
      "{'eval_loss': 0.553311824798584, 'eval_micro f1': 0.016260162601626018, 'eval_macro f1': 0.013071895424836602, 'eval_runtime': 0.4052, 'eval_samples_per_second': 261.602, 'eval_steps_per_second': 9.872, 'epoch': 1.0}\n",
      "{'loss': 0.5048, 'learning_rate': 3e-05, 'epoch': 2.0}\n",
      "{'eval_loss': 0.4766559302806854, 'eval_micro f1': 0.0, 'eval_macro f1': 0.0, 'eval_runtime': 0.4057, 'eval_samples_per_second': 261.277, 'eval_steps_per_second': 9.86, 'epoch': 2.0}\n",
      "{'loss': 0.4275, 'learning_rate': 3e-05, 'epoch': 3.0}\n",
      "{'eval_loss': 0.4308495819568634, 'eval_micro f1': 0.0, 'eval_macro f1': 0.0, 'eval_runtime': 0.4054, 'eval_samples_per_second': 261.47, 'eval_steps_per_second': 9.867, 'epoch': 3.0}\n",
      "{'loss': 0.3843, 'learning_rate': 3e-05, 'epoch': 4.0}\n",
      "{'eval_loss': 0.402627557516098, 'eval_micro f1': 0.0, 'eval_macro f1': 0.0, 'eval_runtime': 0.4042, 'eval_samples_per_second': 262.259, 'eval_steps_per_second': 9.897, 'epoch': 4.0}\n",
      "{'loss': 0.3512, 'learning_rate': 3e-05, 'epoch': 5.0}\n",
      "{'eval_loss': 0.3869185447692871, 'eval_micro f1': 0.0, 'eval_macro f1': 0.0, 'eval_runtime': 0.4053, 'eval_samples_per_second': 261.503, 'eval_steps_per_second': 9.868, 'epoch': 5.0}\n",
      "{'loss': 0.3369, 'learning_rate': 3e-05, 'epoch': 6.0}\n",
      "{'eval_loss': 0.3775116205215454, 'eval_micro f1': 0.0, 'eval_macro f1': 0.0, 'eval_runtime': 0.4031, 'eval_samples_per_second': 262.942, 'eval_steps_per_second': 9.922, 'epoch': 6.0}\n",
      "{'loss': 0.3108, 'learning_rate': 3e-05, 'epoch': 7.0}\n",
      "{'eval_loss': 0.37129390239715576, 'eval_micro f1': 0.0, 'eval_macro f1': 0.0, 'eval_runtime': 0.4049, 'eval_samples_per_second': 261.822, 'eval_steps_per_second': 9.88, 'epoch': 7.0}\n",
      "{'loss': 0.2928, 'learning_rate': 3e-05, 'epoch': 8.0}\n",
      "{'eval_loss': 0.3664552867412567, 'eval_micro f1': 0.0, 'eval_macro f1': 0.0, 'eval_runtime': 0.4046, 'eval_samples_per_second': 261.996, 'eval_steps_per_second': 9.887, 'epoch': 8.0}\n",
      "{'loss': 0.2772, 'learning_rate': 3e-05, 'epoch': 9.0}\n",
      "{'eval_loss': 0.36285004019737244, 'eval_micro f1': 0.0, 'eval_macro f1': 0.0, 'eval_runtime': 0.4046, 'eval_samples_per_second': 261.99, 'eval_steps_per_second': 9.886, 'epoch': 9.0}\n",
      "{'loss': 0.2642, 'learning_rate': 3e-05, 'epoch': 10.0}\n",
      "{'eval_loss': 0.3590523302555084, 'eval_micro f1': 0.0, 'eval_macro f1': 0.0, 'eval_runtime': 0.4053, 'eval_samples_per_second': 261.56, 'eval_steps_per_second': 9.87, 'epoch': 10.0}\n",
      "{'loss': 0.2412, 'learning_rate': 3e-05, 'epoch': 11.0}\n",
      "{'eval_loss': 0.3566766679286957, 'eval_micro f1': 0.0, 'eval_macro f1': 0.0, 'eval_runtime': 0.4053, 'eval_samples_per_second': 261.553, 'eval_steps_per_second': 9.87, 'epoch': 11.0}\n",
      "{'loss': 0.2302, 'learning_rate': 3e-05, 'epoch': 12.0}\n",
      "{'eval_loss': 0.3542352020740509, 'eval_micro f1': 0.0, 'eval_macro f1': 0.0, 'eval_runtime': 0.4042, 'eval_samples_per_second': 262.228, 'eval_steps_per_second': 9.895, 'epoch': 12.0}\n",
      "{'loss': 0.2154, 'learning_rate': 3e-05, 'epoch': 13.0}\n",
      "{'eval_loss': 0.3515183925628662, 'eval_micro f1': 0.01639344262295082, 'eval_macro f1': 0.007662835249042145, 'eval_runtime': 0.4048, 'eval_samples_per_second': 261.887, 'eval_steps_per_second': 9.883, 'epoch': 13.0}\n",
      "{'loss': 0.2113, 'learning_rate': 3e-05, 'epoch': 14.0}\n",
      "{'eval_loss': 0.348697692155838, 'eval_micro f1': 0.03225806451612903, 'eval_macro f1': 0.014336917562724014, 'eval_runtime': 0.4029, 'eval_samples_per_second': 263.119, 'eval_steps_per_second': 9.929, 'epoch': 14.0}\n",
      "{'loss': 0.199, 'learning_rate': 3e-05, 'epoch': 15.0}\n",
      "{'eval_loss': 0.3467310667037964, 'eval_micro f1': 0.03225806451612903, 'eval_macro f1': 0.014336917562724014, 'eval_runtime': 0.4053, 'eval_samples_per_second': 261.542, 'eval_steps_per_second': 9.87, 'epoch': 15.0}\n",
      "{'loss': 0.1865, 'learning_rate': 3e-05, 'epoch': 16.0}\n",
      "{'eval_loss': 0.34544429183006287, 'eval_micro f1': 0.03225806451612903, 'eval_macro f1': 0.014336917562724014, 'eval_runtime': 0.4041, 'eval_samples_per_second': 262.309, 'eval_steps_per_second': 9.898, 'epoch': 16.0}\n",
      "{'loss': 0.186, 'learning_rate': 3e-05, 'epoch': 17.0}\n",
      "{'eval_loss': 0.3440464437007904, 'eval_micro f1': 0.032, 'eval_macro f1': 0.014336917562724014, 'eval_runtime': 0.4059, 'eval_samples_per_second': 261.163, 'eval_steps_per_second': 9.855, 'epoch': 17.0}\n",
      "{'loss': 0.1764, 'learning_rate': 3e-05, 'epoch': 18.0}\n",
      "{'eval_loss': 0.34233441948890686, 'eval_micro f1': 0.032, 'eval_macro f1': 0.014336917562724014, 'eval_runtime': 0.4063, 'eval_samples_per_second': 260.869, 'eval_steps_per_second': 9.844, 'epoch': 18.0}\n",
      "{'loss': 0.1718, 'learning_rate': 3e-05, 'epoch': 19.0}\n",
      "{'eval_loss': 0.3405984938144684, 'eval_micro f1': 0.047619047619047616, 'eval_macro f1': 0.03453893776474422, 'eval_runtime': 0.4057, 'eval_samples_per_second': 261.246, 'eval_steps_per_second': 9.858, 'epoch': 19.0}\n",
      "{'loss': 0.1651, 'learning_rate': 3e-05, 'epoch': 20.0}\n",
      "{'eval_loss': 0.3404242992401123, 'eval_micro f1': 0.06299212598425197, 'eval_macro f1': 0.05676115998696644, 'eval_runtime': 0.4048, 'eval_samples_per_second': 261.866, 'eval_steps_per_second': 9.882, 'epoch': 20.0}\n",
      "{'train_runtime': 29.246, 'train_samples_per_second': 6.839, 'train_steps_per_second': 2.052, 'train_loss': 0.28853434721628823, 'epoch': 20.0}\n"
     ]
    },
    {
     "name": "stderr",
     "output_type": "stream",
     "text": [
      "Some weights of the model checkpoint at cj-mills/bert-base-uncased-issues-128 were not used when initializing BertForSequenceClassification: ['cls.predictions.transform.LayerNorm.bias', 'cls.predictions.transform.dense.weight', 'cls.predictions.transform.LayerNorm.weight', 'cls.predictions.decoder.weight', 'cls.predictions.decoder.bias', 'cls.predictions.transform.dense.bias', 'cls.predictions.bias']\n",
      "- This IS expected if you are initializing BertForSequenceClassification from the checkpoint of a model trained on another task or with another architecture (e.g. initializing a BertForSequenceClassification model from a BertForPreTraining model).\n",
      "- This IS NOT expected if you are initializing BertForSequenceClassification from the checkpoint of a model that you expect to be exactly identical (initializing a BertForSequenceClassification model from a BertForSequenceClassification model).\n",
      "Some weights of BertForSequenceClassification were not initialized from the model checkpoint at cj-mills/bert-base-uncased-issues-128 and are newly initialized: ['classifier.bias', 'classifier.weight', 'bert.pooler.dense.bias', 'bert.pooler.dense.weight']\n",
      "You should probably TRAIN this model on a down-stream task to be able to use it for predictions and inference.\n",
      "/home/restful3/anaconda3/envs/trading/lib/python3.9/site-packages/transformers/optimization.py:411: FutureWarning: This implementation of AdamW is deprecated and will be removed in a future version. Use the PyTorch implementation torch.optim.AdamW instead, or set `no_deprecation_warning=True` to disable this warning\n",
      "  warnings.warn(\n"
     ]
    },
    {
     "name": "stdout",
     "output_type": "stream",
     "text": [
      "{'loss': 0.6161, 'learning_rate': 3e-05, 'epoch': 1.0}\n",
      "{'eval_loss': 0.5120167136192322, 'eval_micro f1': 0.0, 'eval_macro f1': 0.0, 'eval_runtime': 0.4044, 'eval_samples_per_second': 262.102, 'eval_steps_per_second': 9.891, 'epoch': 1.0}\n",
      "{'loss': 0.4482, 'learning_rate': 3e-05, 'epoch': 2.0}\n",
      "{'eval_loss': 0.4228927195072174, 'eval_micro f1': 0.0, 'eval_macro f1': 0.0, 'eval_runtime': 0.4041, 'eval_samples_per_second': 262.294, 'eval_steps_per_second': 9.898, 'epoch': 2.0}\n",
      "{'loss': 0.3745, 'learning_rate': 3e-05, 'epoch': 3.0}\n",
      "{'eval_loss': 0.3863755464553833, 'eval_micro f1': 0.0, 'eval_macro f1': 0.0, 'eval_runtime': 0.4044, 'eval_samples_per_second': 262.136, 'eval_steps_per_second': 9.892, 'epoch': 3.0}\n",
      "{'loss': 0.3347, 'learning_rate': 3e-05, 'epoch': 4.0}\n",
      "{'eval_loss': 0.37077972292900085, 'eval_micro f1': 0.0, 'eval_macro f1': 0.0, 'eval_runtime': 0.4059, 'eval_samples_per_second': 261.139, 'eval_steps_per_second': 9.854, 'epoch': 4.0}\n",
      "{'loss': 0.3126, 'learning_rate': 3e-05, 'epoch': 5.0}\n",
      "{'eval_loss': 0.3606817424297333, 'eval_micro f1': 0.0, 'eval_macro f1': 0.0, 'eval_runtime': 0.4051, 'eval_samples_per_second': 261.66, 'eval_steps_per_second': 9.874, 'epoch': 5.0}\n",
      "{'loss': 0.2919, 'learning_rate': 3e-05, 'epoch': 6.0}\n",
      "{'eval_loss': 0.3531183898448944, 'eval_micro f1': 0.0, 'eval_macro f1': 0.0, 'eval_runtime': 0.4055, 'eval_samples_per_second': 261.375, 'eval_steps_per_second': 9.863, 'epoch': 6.0}\n",
      "{'loss': 0.2651, 'learning_rate': 3e-05, 'epoch': 7.0}\n",
      "{'eval_loss': 0.348768025636673, 'eval_micro f1': 0.0, 'eval_macro f1': 0.0, 'eval_runtime': 0.4046, 'eval_samples_per_second': 262.0, 'eval_steps_per_second': 9.887, 'epoch': 7.0}\n",
      "{'loss': 0.2476, 'learning_rate': 3e-05, 'epoch': 8.0}\n",
      "{'eval_loss': 0.3425106406211853, 'eval_micro f1': 0.0, 'eval_macro f1': 0.0, 'eval_runtime': 0.4039, 'eval_samples_per_second': 262.417, 'eval_steps_per_second': 9.903, 'epoch': 8.0}\n",
      "{'loss': 0.2275, 'learning_rate': 3e-05, 'epoch': 9.0}\n",
      "{'eval_loss': 0.33717501163482666, 'eval_micro f1': 0.04878048780487805, 'eval_macro f1': 0.024691358024691357, 'eval_runtime': 0.4041, 'eval_samples_per_second': 262.312, 'eval_steps_per_second': 9.899, 'epoch': 9.0}\n",
      "{'loss': 0.2096, 'learning_rate': 3e-05, 'epoch': 10.0}\n",
      "{'eval_loss': 0.33360397815704346, 'eval_micro f1': 0.13846153846153847, 'eval_macro f1': 0.058823529411764705, 'eval_runtime': 0.4039, 'eval_samples_per_second': 262.446, 'eval_steps_per_second': 9.904, 'epoch': 10.0}\n",
      "{'loss': 0.195, 'learning_rate': 3e-05, 'epoch': 11.0}\n",
      "{'eval_loss': 0.3304286003112793, 'eval_micro f1': 0.16666666666666666, 'eval_macro f1': 0.08696205755029285, 'eval_runtime': 0.4053, 'eval_samples_per_second': 261.512, 'eval_steps_per_second': 9.868, 'epoch': 11.0}\n",
      "{'loss': 0.1787, 'learning_rate': 3e-05, 'epoch': 12.0}\n",
      "{'eval_loss': 0.32887834310531616, 'eval_micro f1': 0.17777777777777778, 'eval_macro f1': 0.09490740740740741, 'eval_runtime': 0.4037, 'eval_samples_per_second': 262.595, 'eval_steps_per_second': 9.909, 'epoch': 12.0}\n",
      "{'loss': 0.166, 'learning_rate': 3e-05, 'epoch': 13.0}\n",
      "{'eval_loss': 0.3281925618648529, 'eval_micro f1': 0.19117647058823528, 'eval_macro f1': 0.09985888294711824, 'eval_runtime': 0.404, 'eval_samples_per_second': 262.368, 'eval_steps_per_second': 9.901, 'epoch': 13.0}\n",
      "{'loss': 0.159, 'learning_rate': 3e-05, 'epoch': 14.0}\n",
      "{'eval_loss': 0.3264455199241638, 'eval_micro f1': 0.1925925925925926, 'eval_macro f1': 0.10053092595787093, 'eval_runtime': 0.4043, 'eval_samples_per_second': 262.186, 'eval_steps_per_second': 9.894, 'epoch': 14.0}\n",
      "{'loss': 0.1453, 'learning_rate': 3e-05, 'epoch': 15.0}\n",
      "{'eval_loss': 0.32497426867485046, 'eval_micro f1': 0.20437956204379562, 'eval_macro f1': 0.10343579160783462, 'eval_runtime': 0.4033, 'eval_samples_per_second': 262.815, 'eval_steps_per_second': 9.918, 'epoch': 15.0}\n",
      "{'loss': 0.1406, 'learning_rate': 3e-05, 'epoch': 16.0}\n",
      "{'eval_loss': 0.3238980770111084, 'eval_micro f1': 0.24113475177304963, 'eval_macro f1': 0.13542633542633542, 'eval_runtime': 0.4034, 'eval_samples_per_second': 262.792, 'eval_steps_per_second': 9.917, 'epoch': 16.0}\n",
      "{'loss': 0.1286, 'learning_rate': 3e-05, 'epoch': 17.0}\n",
      "{'eval_loss': 0.3241303265094757, 'eval_micro f1': 0.2777777777777778, 'eval_macro f1': 0.14713804713804712, 'eval_runtime': 0.4042, 'eval_samples_per_second': 262.274, 'eval_steps_per_second': 9.897, 'epoch': 17.0}\n",
      "{'loss': 0.1228, 'learning_rate': 3e-05, 'epoch': 18.0}\n",
      "{'eval_loss': 0.32527002692222595, 'eval_micro f1': 0.2896551724137931, 'eval_macro f1': 0.15066108236839945, 'eval_runtime': 0.4043, 'eval_samples_per_second': 262.153, 'eval_steps_per_second': 9.893, 'epoch': 18.0}\n",
      "{'loss': 0.1142, 'learning_rate': 3e-05, 'epoch': 19.0}\n",
      "{'eval_loss': 0.32517844438552856, 'eval_micro f1': 0.2896551724137931, 'eval_macro f1': 0.15066108236839945, 'eval_runtime': 0.404, 'eval_samples_per_second': 262.347, 'eval_steps_per_second': 9.9, 'epoch': 19.0}\n",
      "{'loss': 0.1103, 'learning_rate': 3e-05, 'epoch': 20.0}\n",
      "{'eval_loss': 0.3248935639858246, 'eval_micro f1': 0.2896551724137931, 'eval_macro f1': 0.1528817587641117, 'eval_runtime': 0.4044, 'eval_samples_per_second': 262.103, 'eval_steps_per_second': 9.891, 'epoch': 20.0}\n",
      "{'train_runtime': 32.3705, 'train_samples_per_second': 11.739, 'train_steps_per_second': 3.089, 'train_loss': 0.239410702586174, 'epoch': 20.0}\n"
     ]
    },
    {
     "name": "stderr",
     "output_type": "stream",
     "text": [
      "Some weights of the model checkpoint at cj-mills/bert-base-uncased-issues-128 were not used when initializing BertForSequenceClassification: ['cls.predictions.transform.LayerNorm.bias', 'cls.predictions.transform.dense.weight', 'cls.predictions.transform.LayerNorm.weight', 'cls.predictions.decoder.weight', 'cls.predictions.decoder.bias', 'cls.predictions.transform.dense.bias', 'cls.predictions.bias']\n",
      "- This IS expected if you are initializing BertForSequenceClassification from the checkpoint of a model trained on another task or with another architecture (e.g. initializing a BertForSequenceClassification model from a BertForPreTraining model).\n",
      "- This IS NOT expected if you are initializing BertForSequenceClassification from the checkpoint of a model that you expect to be exactly identical (initializing a BertForSequenceClassification model from a BertForSequenceClassification model).\n",
      "Some weights of BertForSequenceClassification were not initialized from the model checkpoint at cj-mills/bert-base-uncased-issues-128 and are newly initialized: ['classifier.bias', 'classifier.weight', 'bert.pooler.dense.bias', 'bert.pooler.dense.weight']\n",
      "You should probably TRAIN this model on a down-stream task to be able to use it for predictions and inference.\n",
      "/home/restful3/anaconda3/envs/trading/lib/python3.9/site-packages/transformers/optimization.py:411: FutureWarning: This implementation of AdamW is deprecated and will be removed in a future version. Use the PyTorch implementation torch.optim.AdamW instead, or set `no_deprecation_warning=True` to disable this warning\n",
      "  warnings.warn(\n"
     ]
    },
    {
     "name": "stdout",
     "output_type": "stream",
     "text": [
      "{'loss': 0.5551, 'learning_rate': 3e-05, 'epoch': 1.0}\n",
      "{'eval_loss': 0.4350413978099823, 'eval_micro f1': 0.0, 'eval_macro f1': 0.0, 'eval_runtime': 0.404, 'eval_samples_per_second': 262.395, 'eval_steps_per_second': 9.902, 'epoch': 1.0}\n",
      "{'loss': 0.3805, 'learning_rate': 3e-05, 'epoch': 2.0}\n",
      "{'eval_loss': 0.37504956126213074, 'eval_micro f1': 0.0, 'eval_macro f1': 0.0, 'eval_runtime': 0.4038, 'eval_samples_per_second': 262.508, 'eval_steps_per_second': 9.906, 'epoch': 2.0}\n",
      "{'loss': 0.3342, 'learning_rate': 3e-05, 'epoch': 3.0}\n",
      "{'eval_loss': 0.3575623333454132, 'eval_micro f1': 0.0, 'eval_macro f1': 0.0, 'eval_runtime': 0.4071, 'eval_samples_per_second': 260.369, 'eval_steps_per_second': 9.825, 'epoch': 3.0}\n",
      "{'loss': 0.3028, 'learning_rate': 3e-05, 'epoch': 4.0}\n",
      "{'eval_loss': 0.344824880361557, 'eval_micro f1': 0.0, 'eval_macro f1': 0.0, 'eval_runtime': 0.4063, 'eval_samples_per_second': 260.922, 'eval_steps_per_second': 9.846, 'epoch': 4.0}\n",
      "{'loss': 0.2746, 'learning_rate': 3e-05, 'epoch': 5.0}\n",
      "{'eval_loss': 0.33374255895614624, 'eval_micro f1': 0.11023622047244094, 'eval_macro f1': 0.05017921146953405, 'eval_runtime': 0.4049, 'eval_samples_per_second': 261.813, 'eval_steps_per_second': 9.88, 'epoch': 5.0}\n",
      "{'loss': 0.2439, 'learning_rate': 3e-05, 'epoch': 6.0}\n",
      "{'eval_loss': 0.32409271597862244, 'eval_micro f1': 0.21897810218978103, 'eval_macro f1': 0.08130081300813008, 'eval_runtime': 0.4048, 'eval_samples_per_second': 261.836, 'eval_steps_per_second': 9.881, 'epoch': 6.0}\n",
      "{'loss': 0.2155, 'learning_rate': 3e-05, 'epoch': 7.0}\n",
      "{'eval_loss': 0.3182229697704315, 'eval_micro f1': 0.2318840579710145, 'eval_macro f1': 0.09310344827586207, 'eval_runtime': 0.405, 'eval_samples_per_second': 261.697, 'eval_steps_per_second': 9.875, 'epoch': 7.0}\n",
      "{'loss': 0.189, 'learning_rate': 3e-05, 'epoch': 8.0}\n",
      "{'eval_loss': 0.3133637309074402, 'eval_micro f1': 0.27972027972027974, 'eval_macro f1': 0.11243386243386243, 'eval_runtime': 0.4049, 'eval_samples_per_second': 261.825, 'eval_steps_per_second': 9.88, 'epoch': 8.0}\n",
      "{'loss': 0.1703, 'learning_rate': 3e-05, 'epoch': 9.0}\n",
      "{'eval_loss': 0.3100871443748474, 'eval_micro f1': 0.3150684931506849, 'eval_macro f1': 0.14407379113261465, 'eval_runtime': 0.4057, 'eval_samples_per_second': 261.308, 'eval_steps_per_second': 9.861, 'epoch': 9.0}\n",
      "{'loss': 0.1506, 'learning_rate': 3e-05, 'epoch': 10.0}\n",
      "{'eval_loss': 0.30521491169929504, 'eval_micro f1': 0.32432432432432434, 'eval_macro f1': 0.14806798140131472, 'eval_runtime': 0.4046, 'eval_samples_per_second': 261.961, 'eval_steps_per_second': 9.885, 'epoch': 10.0}\n",
      "{'loss': 0.1354, 'learning_rate': 3e-05, 'epoch': 11.0}\n",
      "{'eval_loss': 0.3041212260723114, 'eval_micro f1': 0.3221476510067114, 'eval_macro f1': 0.1632068190207725, 'eval_runtime': 0.4054, 'eval_samples_per_second': 261.439, 'eval_steps_per_second': 9.866, 'epoch': 11.0}\n",
      "{'loss': 0.1229, 'learning_rate': 3e-05, 'epoch': 12.0}\n",
      "{'eval_loss': 0.30868297815322876, 'eval_micro f1': 0.3466666666666667, 'eval_macro f1': 0.17512837512837512, 'eval_runtime': 0.4046, 'eval_samples_per_second': 262.001, 'eval_steps_per_second': 9.887, 'epoch': 12.0}\n",
      "{'loss': 0.115, 'learning_rate': 3e-05, 'epoch': 13.0}\n",
      "{'eval_loss': 0.3078937530517578, 'eval_micro f1': 0.34210526315789475, 'eval_macro f1': 0.18072045668944892, 'eval_runtime': 0.4066, 'eval_samples_per_second': 260.67, 'eval_steps_per_second': 9.837, 'epoch': 13.0}\n",
      "{'loss': 0.1045, 'learning_rate': 3e-05, 'epoch': 14.0}\n",
      "{'eval_loss': 0.3094204366207123, 'eval_micro f1': 0.3443708609271523, 'eval_macro f1': 0.17512837512837512, 'eval_runtime': 0.4063, 'eval_samples_per_second': 260.882, 'eval_steps_per_second': 9.845, 'epoch': 14.0}\n",
      "{'loss': 0.0956, 'learning_rate': 3e-05, 'epoch': 15.0}\n",
      "{'eval_loss': 0.3128996193408966, 'eval_micro f1': 0.32894736842105265, 'eval_macro f1': 0.16447009780343114, 'eval_runtime': 0.4071, 'eval_samples_per_second': 260.364, 'eval_steps_per_second': 9.825, 'epoch': 15.0}\n",
      "{'loss': 0.0887, 'learning_rate': 3e-05, 'epoch': 16.0}\n",
      "{'eval_loss': 0.3092847764492035, 'eval_micro f1': 0.34210526315789475, 'eval_macro f1': 0.17386395281132122, 'eval_runtime': 0.4066, 'eval_samples_per_second': 260.701, 'eval_steps_per_second': 9.838, 'epoch': 16.0}\n",
      "{'loss': 0.0839, 'learning_rate': 3e-05, 'epoch': 17.0}\n",
      "{'eval_loss': 0.31416869163513184, 'eval_micro f1': 0.32894736842105265, 'eval_macro f1': 0.1664421997755331, 'eval_runtime': 0.408, 'eval_samples_per_second': 259.833, 'eval_steps_per_second': 9.805, 'epoch': 17.0}\n",
      "{'loss': 0.0788, 'learning_rate': 3e-05, 'epoch': 18.0}\n",
      "{'eval_loss': 0.3129178285598755, 'eval_micro f1': 0.358974358974359, 'eval_macro f1': 0.1933605056412074, 'eval_runtime': 0.4072, 'eval_samples_per_second': 260.292, 'eval_steps_per_second': 9.822, 'epoch': 18.0}\n",
      "{'loss': 0.0743, 'learning_rate': 3e-05, 'epoch': 19.0}\n",
      "{'eval_loss': 0.31851857900619507, 'eval_micro f1': 0.35294117647058826, 'eval_macro f1': 0.17442290775624109, 'eval_runtime': 0.4063, 'eval_samples_per_second': 260.885, 'eval_steps_per_second': 9.845, 'epoch': 19.0}\n",
      "{'loss': 0.0699, 'learning_rate': 3e-05, 'epoch': 20.0}\n",
      "{'eval_loss': 0.31736913323402405, 'eval_micro f1': 0.37735849056603776, 'eval_macro f1': 0.2007774219156333, 'eval_runtime': 0.4057, 'eval_samples_per_second': 261.307, 'eval_steps_per_second': 9.861, 'epoch': 20.0}\n",
      "{'train_runtime': 39.0661, 'train_samples_per_second': 18.43, 'train_steps_per_second': 4.608, 'train_loss': 0.18927767508559756, 'epoch': 20.0}\n"
     ]
    },
    {
     "name": "stderr",
     "output_type": "stream",
     "text": [
      "Some weights of the model checkpoint at cj-mills/bert-base-uncased-issues-128 were not used when initializing BertForSequenceClassification: ['cls.predictions.transform.LayerNorm.bias', 'cls.predictions.transform.dense.weight', 'cls.predictions.transform.LayerNorm.weight', 'cls.predictions.decoder.weight', 'cls.predictions.decoder.bias', 'cls.predictions.transform.dense.bias', 'cls.predictions.bias']\n",
      "- This IS expected if you are initializing BertForSequenceClassification from the checkpoint of a model trained on another task or with another architecture (e.g. initializing a BertForSequenceClassification model from a BertForPreTraining model).\n",
      "- This IS NOT expected if you are initializing BertForSequenceClassification from the checkpoint of a model that you expect to be exactly identical (initializing a BertForSequenceClassification model from a BertForSequenceClassification model).\n",
      "Some weights of BertForSequenceClassification were not initialized from the model checkpoint at cj-mills/bert-base-uncased-issues-128 and are newly initialized: ['classifier.bias', 'classifier.weight', 'bert.pooler.dense.bias', 'bert.pooler.dense.weight']\n",
      "You should probably TRAIN this model on a down-stream task to be able to use it for predictions and inference.\n",
      "/home/restful3/anaconda3/envs/trading/lib/python3.9/site-packages/transformers/optimization.py:411: FutureWarning: This implementation of AdamW is deprecated and will be removed in a future version. Use the PyTorch implementation torch.optim.AdamW instead, or set `no_deprecation_warning=True` to disable this warning\n",
      "  warnings.warn(\n"
     ]
    },
    {
     "name": "stdout",
     "output_type": "stream",
     "text": [
      "{'loss': 0.4882, 'learning_rate': 3e-05, 'epoch': 1.0}\n",
      "{'eval_loss': 0.37943336367607117, 'eval_micro f1': 0.0, 'eval_macro f1': 0.0, 'eval_runtime': 0.4056, 'eval_samples_per_second': 261.352, 'eval_steps_per_second': 9.862, 'epoch': 1.0}\n",
      "{'loss': 0.3555, 'learning_rate': 3e-05, 'epoch': 2.0}\n",
      "{'eval_loss': 0.3508319556713104, 'eval_micro f1': 0.0, 'eval_macro f1': 0.0, 'eval_runtime': 0.406, 'eval_samples_per_second': 261.104, 'eval_steps_per_second': 9.853, 'epoch': 2.0}\n",
      "{'loss': 0.3179, 'learning_rate': 3e-05, 'epoch': 3.0}\n",
      "{'eval_loss': 0.3284788727760315, 'eval_micro f1': 0.19402985074626866, 'eval_macro f1': 0.07602339181286549, 'eval_runtime': 0.4071, 'eval_samples_per_second': 260.39, 'eval_steps_per_second': 9.826, 'epoch': 3.0}\n",
      "{'loss': 0.2828, 'learning_rate': 3e-05, 'epoch': 4.0}\n",
      "{'eval_loss': 0.31317487359046936, 'eval_micro f1': 0.2589928057553957, 'eval_macro f1': 0.10204653770675638, 'eval_runtime': 0.4053, 'eval_samples_per_second': 261.533, 'eval_steps_per_second': 9.869, 'epoch': 4.0}\n",
      "{'loss': 0.2439, 'learning_rate': 3e-05, 'epoch': 5.0}\n",
      "{'eval_loss': 0.2935120463371277, 'eval_micro f1': 0.3708609271523179, 'eval_macro f1': 0.15000331279401047, 'eval_runtime': 0.4064, 'eval_samples_per_second': 260.807, 'eval_steps_per_second': 9.842, 'epoch': 5.0}\n",
      "{'loss': 0.2024, 'learning_rate': 3e-05, 'epoch': 6.0}\n",
      "{'eval_loss': 0.27758392691612244, 'eval_micro f1': 0.4578313253012048, 'eval_macro f1': 0.21237057516127283, 'eval_runtime': 0.4065, 'eval_samples_per_second': 260.731, 'eval_steps_per_second': 9.839, 'epoch': 6.0}\n",
      "{'loss': 0.1684, 'learning_rate': 3e-05, 'epoch': 7.0}\n",
      "{'eval_loss': 0.2693881690502167, 'eval_micro f1': 0.4129032258064516, 'eval_macro f1': 0.22680427463036162, 'eval_runtime': 0.4059, 'eval_samples_per_second': 261.133, 'eval_steps_per_second': 9.854, 'epoch': 7.0}\n",
      "{'loss': 0.1416, 'learning_rate': 3e-05, 'epoch': 8.0}\n",
      "{'eval_loss': 0.26848965883255005, 'eval_micro f1': 0.4050632911392405, 'eval_macro f1': 0.20927290927290926, 'eval_runtime': 0.4065, 'eval_samples_per_second': 260.767, 'eval_steps_per_second': 9.84, 'epoch': 8.0}\n",
      "{'loss': 0.121, 'learning_rate': 3e-05, 'epoch': 9.0}\n",
      "{'eval_loss': 0.267088919878006, 'eval_micro f1': 0.45121951219512196, 'eval_macro f1': 0.26522066522066523, 'eval_runtime': 0.4076, 'eval_samples_per_second': 260.074, 'eval_steps_per_second': 9.814, 'epoch': 9.0}\n",
      "{'loss': 0.1044, 'learning_rate': 3e-05, 'epoch': 10.0}\n",
      "{'eval_loss': 0.25527966022491455, 'eval_micro f1': 0.4942528735632184, 'eval_macro f1': 0.28455630520847913, 'eval_runtime': 0.4068, 'eval_samples_per_second': 260.599, 'eval_steps_per_second': 9.834, 'epoch': 10.0}\n",
      "{'loss': 0.0916, 'learning_rate': 3e-05, 'epoch': 11.0}\n",
      "{'eval_loss': 0.2581687867641449, 'eval_micro f1': 0.48, 'eval_macro f1': 0.2595343004155734, 'eval_runtime': 0.4071, 'eval_samples_per_second': 260.352, 'eval_steps_per_second': 9.825, 'epoch': 11.0}\n",
      "{'loss': 0.083, 'learning_rate': 3e-05, 'epoch': 12.0}\n",
      "{'eval_loss': 0.25365886092185974, 'eval_micro f1': 0.5028571428571429, 'eval_macro f1': 0.2683415350082017, 'eval_runtime': 0.4066, 'eval_samples_per_second': 260.71, 'eval_steps_per_second': 9.838, 'epoch': 12.0}\n",
      "{'loss': 0.074, 'learning_rate': 3e-05, 'epoch': 13.0}\n",
      "{'eval_loss': 0.25241538882255554, 'eval_micro f1': 0.4971751412429379, 'eval_macro f1': 0.2768879248162563, 'eval_runtime': 0.4062, 'eval_samples_per_second': 260.924, 'eval_steps_per_second': 9.846, 'epoch': 13.0}\n",
      "{'loss': 0.0684, 'learning_rate': 3e-05, 'epoch': 14.0}\n",
      "{'eval_loss': 0.25468388199806213, 'eval_micro f1': 0.5257142857142857, 'eval_macro f1': 0.28725398896706145, 'eval_runtime': 0.4061, 'eval_samples_per_second': 260.988, 'eval_steps_per_second': 9.849, 'epoch': 14.0}\n",
      "{'loss': 0.0606, 'learning_rate': 3e-05, 'epoch': 15.0}\n",
      "{'eval_loss': 0.2545692026615143, 'eval_micro f1': 0.5310734463276836, 'eval_macro f1': 0.297408291443288, 'eval_runtime': 0.4081, 'eval_samples_per_second': 259.75, 'eval_steps_per_second': 9.802, 'epoch': 15.0}\n",
      "{'loss': 0.0566, 'learning_rate': 3e-05, 'epoch': 16.0}\n",
      "{'eval_loss': 0.25562870502471924, 'eval_micro f1': 0.5280898876404494, 'eval_macro f1': 0.29641463963714604, 'eval_runtime': 0.4062, 'eval_samples_per_second': 260.954, 'eval_steps_per_second': 9.847, 'epoch': 16.0}\n",
      "{'loss': 0.053, 'learning_rate': 3e-05, 'epoch': 17.0}\n",
      "{'eval_loss': 0.26548081636428833, 'eval_micro f1': 0.5056179775280899, 'eval_macro f1': 0.27795022696983485, 'eval_runtime': 0.4059, 'eval_samples_per_second': 261.12, 'eval_steps_per_second': 9.854, 'epoch': 17.0}\n",
      "{'loss': 0.0492, 'learning_rate': 3e-05, 'epoch': 18.0}\n",
      "{'eval_loss': 0.26208385825157166, 'eval_micro f1': 0.5222222222222223, 'eval_macro f1': 0.2935792683807221, 'eval_runtime': 0.4066, 'eval_samples_per_second': 260.672, 'eval_steps_per_second': 9.837, 'epoch': 18.0}\n",
      "{'loss': 0.0459, 'learning_rate': 3e-05, 'epoch': 19.0}\n",
      "{'eval_loss': 0.25948792695999146, 'eval_micro f1': 0.5423728813559322, 'eval_macro f1': 0.3162990180120904, 'eval_runtime': 0.4064, 'eval_samples_per_second': 260.804, 'eval_steps_per_second': 9.842, 'epoch': 19.0}\n",
      "{'loss': 0.0425, 'learning_rate': 3e-05, 'epoch': 20.0}\n",
      "{'eval_loss': 0.26927608251571655, 'eval_micro f1': 0.5139664804469274, 'eval_macro f1': 0.28136925617070996, 'eval_runtime': 0.4073, 'eval_samples_per_second': 260.231, 'eval_steps_per_second': 9.82, 'epoch': 20.0}\n",
      "{'train_runtime': 51.7314, 'train_samples_per_second': 26.29, 'train_steps_per_second': 6.572, 'train_loss': 0.15254177538787617, 'epoch': 20.0}\n"
     ]
    },
    {
     "name": "stderr",
     "output_type": "stream",
     "text": [
      "Some weights of the model checkpoint at cj-mills/bert-base-uncased-issues-128 were not used when initializing BertForSequenceClassification: ['cls.predictions.transform.LayerNorm.bias', 'cls.predictions.transform.dense.weight', 'cls.predictions.transform.LayerNorm.weight', 'cls.predictions.decoder.weight', 'cls.predictions.decoder.bias', 'cls.predictions.transform.dense.bias', 'cls.predictions.bias']\n",
      "- This IS expected if you are initializing BertForSequenceClassification from the checkpoint of a model trained on another task or with another architecture (e.g. initializing a BertForSequenceClassification model from a BertForPreTraining model).\n",
      "- This IS NOT expected if you are initializing BertForSequenceClassification from the checkpoint of a model that you expect to be exactly identical (initializing a BertForSequenceClassification model from a BertForSequenceClassification model).\n",
      "Some weights of BertForSequenceClassification were not initialized from the model checkpoint at cj-mills/bert-base-uncased-issues-128 and are newly initialized: ['classifier.bias', 'classifier.weight', 'bert.pooler.dense.bias', 'bert.pooler.dense.weight']\n",
      "You should probably TRAIN this model on a down-stream task to be able to use it for predictions and inference.\n",
      "/home/restful3/anaconda3/envs/trading/lib/python3.9/site-packages/transformers/optimization.py:411: FutureWarning: This implementation of AdamW is deprecated and will be removed in a future version. Use the PyTorch implementation torch.optim.AdamW instead, or set `no_deprecation_warning=True` to disable this warning\n",
      "  warnings.warn(\n"
     ]
    },
    {
     "name": "stdout",
     "output_type": "stream",
     "text": [
      "{'loss': 0.4215, 'learning_rate': 3e-05, 'epoch': 1.0}\n",
      "{'eval_loss': 0.35229942202568054, 'eval_micro f1': 0.0, 'eval_macro f1': 0.0, 'eval_runtime': 0.4054, 'eval_samples_per_second': 261.439, 'eval_steps_per_second': 9.866, 'epoch': 1.0}\n",
      "{'loss': 0.3266, 'learning_rate': 3e-05, 'epoch': 2.0}\n",
      "{'eval_loss': 0.31579768657684326, 'eval_micro f1': 0.2589928057553957, 'eval_macro f1': 0.09302325581395349, 'eval_runtime': 0.4071, 'eval_samples_per_second': 260.369, 'eval_steps_per_second': 9.825, 'epoch': 2.0}\n",
      "{'loss': 0.2798, 'learning_rate': 3e-05, 'epoch': 3.0}\n",
      "{'eval_loss': 0.28975579142570496, 'eval_micro f1': 0.32653061224489793, 'eval_macro f1': 0.11509891312846977, 'eval_runtime': 0.4075, 'eval_samples_per_second': 260.107, 'eval_steps_per_second': 9.815, 'epoch': 3.0}\n",
      "{'loss': 0.2307, 'learning_rate': 3e-05, 'epoch': 4.0}\n",
      "{'eval_loss': 0.2451096624135971, 'eval_micro f1': 0.5301204819277109, 'eval_macro f1': 0.27398021132036476, 'eval_runtime': 0.4072, 'eval_samples_per_second': 260.327, 'eval_steps_per_second': 9.824, 'epoch': 4.0}\n",
      "{'loss': 0.1782, 'learning_rate': 3e-05, 'epoch': 5.0}\n",
      "{'eval_loss': 0.2353309541940689, 'eval_micro f1': 0.5747126436781609, 'eval_macro f1': 0.362418040049619, 'eval_runtime': 0.408, 'eval_samples_per_second': 259.816, 'eval_steps_per_second': 9.804, 'epoch': 5.0}\n",
      "{'loss': 0.1361, 'learning_rate': 3e-05, 'epoch': 6.0}\n",
      "{'eval_loss': 0.2164316326379776, 'eval_micro f1': 0.6203208556149733, 'eval_macro f1': 0.4399266606954945, 'eval_runtime': 0.4077, 'eval_samples_per_second': 259.966, 'eval_steps_per_second': 9.81, 'epoch': 6.0}\n",
      "{'loss': 0.1026, 'learning_rate': 3e-05, 'epoch': 7.0}\n",
      "{'eval_loss': 0.2029070407152176, 'eval_micro f1': 0.6526315789473685, 'eval_macro f1': 0.4865346641662432, 'eval_runtime': 0.4072, 'eval_samples_per_second': 260.304, 'eval_steps_per_second': 9.823, 'epoch': 7.0}\n",
      "{'loss': 0.0827, 'learning_rate': 3e-05, 'epoch': 8.0}\n",
      "{'eval_loss': 0.20336003601551056, 'eval_micro f1': 0.6304347826086957, 'eval_macro f1': 0.4459306937377112, 'eval_runtime': 0.4074, 'eval_samples_per_second': 260.177, 'eval_steps_per_second': 9.818, 'epoch': 8.0}\n",
      "{'loss': 0.0675, 'learning_rate': 3e-05, 'epoch': 9.0}\n",
      "{'eval_loss': 0.20251011848449707, 'eval_micro f1': 0.6195652173913043, 'eval_macro f1': 0.43286435786435784, 'eval_runtime': 0.4074, 'eval_samples_per_second': 260.208, 'eval_steps_per_second': 9.819, 'epoch': 9.0}\n",
      "{'loss': 0.0568, 'learning_rate': 3e-05, 'epoch': 10.0}\n",
      "{'eval_loss': 0.1946137249469757, 'eval_micro f1': 0.6382978723404256, 'eval_macro f1': 0.46118622386738334, 'eval_runtime': 0.4074, 'eval_samples_per_second': 260.184, 'eval_steps_per_second': 9.818, 'epoch': 10.0}\n",
      "{'loss': 0.0499, 'learning_rate': 3e-05, 'epoch': 11.0}\n",
      "{'eval_loss': 0.19788582623004913, 'eval_micro f1': 0.6413043478260869, 'eval_macro f1': 0.48005779498914514, 'eval_runtime': 0.408, 'eval_samples_per_second': 259.799, 'eval_steps_per_second': 9.804, 'epoch': 11.0}\n",
      "{'loss': 0.044, 'learning_rate': 3e-05, 'epoch': 12.0}\n",
      "{'eval_loss': 0.19437268376350403, 'eval_micro f1': 0.6455026455026455, 'eval_macro f1': 0.4973704005338944, 'eval_runtime': 0.4072, 'eval_samples_per_second': 260.304, 'eval_steps_per_second': 9.823, 'epoch': 12.0}\n",
      "{'loss': 0.0384, 'learning_rate': 3e-05, 'epoch': 13.0}\n",
      "{'eval_loss': 0.19804199039936066, 'eval_micro f1': 0.6382978723404256, 'eval_macro f1': 0.4670219741272372, 'eval_runtime': 0.4075, 'eval_samples_per_second': 260.133, 'eval_steps_per_second': 9.816, 'epoch': 13.0}\n",
      "{'loss': 0.0345, 'learning_rate': 3e-05, 'epoch': 14.0}\n",
      "{'eval_loss': 0.20326848328113556, 'eval_micro f1': 0.6424870466321243, 'eval_macro f1': 0.4883400569159083, 'eval_runtime': 0.4086, 'eval_samples_per_second': 259.4, 'eval_steps_per_second': 9.789, 'epoch': 14.0}\n",
      "{'loss': 0.0318, 'learning_rate': 3e-05, 'epoch': 15.0}\n",
      "{'eval_loss': 0.19768761098384857, 'eval_micro f1': 0.6735751295336787, 'eval_macro f1': 0.5265701842017632, 'eval_runtime': 0.4079, 'eval_samples_per_second': 259.844, 'eval_steps_per_second': 9.805, 'epoch': 15.0}\n",
      "{'loss': 0.0288, 'learning_rate': 3e-05, 'epoch': 16.0}\n",
      "{'eval_loss': 0.20275981724262238, 'eval_micro f1': 0.6564102564102564, 'eval_macro f1': 0.507688899794163, 'eval_runtime': 0.4073, 'eval_samples_per_second': 260.27, 'eval_steps_per_second': 9.822, 'epoch': 16.0}\n",
      "{'loss': 0.0266, 'learning_rate': 3e-05, 'epoch': 17.0}\n",
      "{'eval_loss': 0.21408629417419434, 'eval_micro f1': 0.6458333333333334, 'eval_macro f1': 0.4917717922103887, 'eval_runtime': 0.4088, 'eval_samples_per_second': 259.306, 'eval_steps_per_second': 9.785, 'epoch': 17.0}\n",
      "{'loss': 0.0245, 'learning_rate': 3e-05, 'epoch': 18.0}\n",
      "{'eval_loss': 0.20631971955299377, 'eval_micro f1': 0.6701030927835051, 'eval_macro f1': 0.5258675729728362, 'eval_runtime': 0.4087, 'eval_samples_per_second': 259.382, 'eval_steps_per_second': 9.788, 'epoch': 18.0}\n",
      "{'loss': 0.0226, 'learning_rate': 3e-05, 'epoch': 19.0}\n",
      "{'eval_loss': 0.21251869201660156, 'eval_micro f1': 0.656084656084656, 'eval_macro f1': 0.48889713600239926, 'eval_runtime': 0.4074, 'eval_samples_per_second': 260.2, 'eval_steps_per_second': 9.819, 'epoch': 19.0}\n",
      "{'loss': 0.021, 'learning_rate': 3e-05, 'epoch': 20.0}\n",
      "{'eval_loss': 0.20639696717262268, 'eval_micro f1': 0.6839378238341969, 'eval_macro f1': 0.5410079881132512, 'eval_runtime': 0.4082, 'eval_samples_per_second': 259.665, 'eval_steps_per_second': 9.799, 'epoch': 20.0}\n",
      "{'train_runtime': 78.2364, 'train_samples_per_second': 34.255, 'train_steps_per_second': 8.692, 'train_loss': 0.11023847075069652, 'epoch': 20.0}\n"
     ]
    },
    {
     "name": "stderr",
     "output_type": "stream",
     "text": [
      "Some weights of the model checkpoint at cj-mills/bert-base-uncased-issues-128 were not used when initializing BertForSequenceClassification: ['cls.predictions.transform.LayerNorm.bias', 'cls.predictions.transform.dense.weight', 'cls.predictions.transform.LayerNorm.weight', 'cls.predictions.decoder.weight', 'cls.predictions.decoder.bias', 'cls.predictions.transform.dense.bias', 'cls.predictions.bias']\n",
      "- This IS expected if you are initializing BertForSequenceClassification from the checkpoint of a model trained on another task or with another architecture (e.g. initializing a BertForSequenceClassification model from a BertForPreTraining model).\n",
      "- This IS NOT expected if you are initializing BertForSequenceClassification from the checkpoint of a model that you expect to be exactly identical (initializing a BertForSequenceClassification model from a BertForSequenceClassification model).\n",
      "Some weights of BertForSequenceClassification were not initialized from the model checkpoint at cj-mills/bert-base-uncased-issues-128 and are newly initialized: ['classifier.bias', 'classifier.weight', 'bert.pooler.dense.bias', 'bert.pooler.dense.weight']\n",
      "You should probably TRAIN this model on a down-stream task to be able to use it for predictions and inference.\n",
      "/home/restful3/anaconda3/envs/trading/lib/python3.9/site-packages/transformers/optimization.py:411: FutureWarning: This implementation of AdamW is deprecated and will be removed in a future version. Use the PyTorch implementation torch.optim.AdamW instead, or set `no_deprecation_warning=True` to disable this warning\n",
      "  warnings.warn(\n"
     ]
    },
    {
     "name": "stdout",
     "output_type": "stream",
     "text": [
      "{'loss': 0.3957, 'learning_rate': 3e-05, 'epoch': 1.0}\n",
      "{'eval_loss': 0.32777315378189087, 'eval_micro f1': 0.2463768115942029, 'eval_macro f1': 0.08994708994708994, 'eval_runtime': 0.4064, 'eval_samples_per_second': 260.849, 'eval_steps_per_second': 9.843, 'epoch': 1.0}\n",
      "{'loss': 0.3009, 'learning_rate': 3e-05, 'epoch': 2.0}\n",
      "{'eval_loss': 0.2946951687335968, 'eval_micro f1': 0.2857142857142857, 'eval_macro f1': 0.11056376573617951, 'eval_runtime': 0.4086, 'eval_samples_per_second': 259.423, 'eval_steps_per_second': 9.79, 'epoch': 2.0}\n",
      "{'loss': 0.2475, 'learning_rate': 3e-05, 'epoch': 3.0}\n",
      "{'eval_loss': 0.2329660803079605, 'eval_micro f1': 0.5325443786982249, 'eval_macro f1': 0.28967849226868647, 'eval_runtime': 0.4091, 'eval_samples_per_second': 259.132, 'eval_steps_per_second': 9.779, 'epoch': 3.0}\n",
      "{'loss': 0.1831, 'learning_rate': 3e-05, 'epoch': 4.0}\n",
      "{'eval_loss': 0.20214346051216125, 'eval_micro f1': 0.6304347826086957, 'eval_macro f1': 0.44586706934971215, 'eval_runtime': 0.408, 'eval_samples_per_second': 259.789, 'eval_steps_per_second': 9.803, 'epoch': 4.0}\n",
      "{'loss': 0.1293, 'learning_rate': 3e-05, 'epoch': 5.0}\n",
      "{'eval_loss': 0.2053462713956833, 'eval_micro f1': 0.6310160427807486, 'eval_macro f1': 0.48443329157614873, 'eval_runtime': 0.4078, 'eval_samples_per_second': 259.916, 'eval_steps_per_second': 9.808, 'epoch': 5.0}\n",
      "{'loss': 0.0937, 'learning_rate': 3e-05, 'epoch': 6.0}\n",
      "{'eval_loss': 0.18117082118988037, 'eval_micro f1': 0.7403846153846154, 'eval_macro f1': 0.6852939555571135, 'eval_runtime': 0.408, 'eval_samples_per_second': 259.783, 'eval_steps_per_second': 9.803, 'epoch': 6.0}\n",
      "{'loss': 0.068, 'learning_rate': 3e-05, 'epoch': 7.0}\n",
      "{'eval_loss': 0.17202940583229065, 'eval_micro f1': 0.7093596059113301, 'eval_macro f1': 0.6476152502468292, 'eval_runtime': 0.4082, 'eval_samples_per_second': 259.708, 'eval_steps_per_second': 9.8, 'epoch': 7.0}\n",
      "{'loss': 0.0528, 'learning_rate': 3e-05, 'epoch': 8.0}\n",
      "{'eval_loss': 0.1659950166940689, 'eval_micro f1': 0.7184466019417476, 'eval_macro f1': 0.667206034448268, 'eval_runtime': 0.4079, 'eval_samples_per_second': 259.872, 'eval_steps_per_second': 9.806, 'epoch': 8.0}\n",
      "{'loss': 0.045, 'learning_rate': 3e-05, 'epoch': 9.0}\n",
      "{'eval_loss': 0.17493492364883423, 'eval_micro f1': 0.73, 'eval_macro f1': 0.6716223815756126, 'eval_runtime': 0.409, 'eval_samples_per_second': 259.139, 'eval_steps_per_second': 9.779, 'epoch': 9.0}\n",
      "{'loss': 0.0369, 'learning_rate': 3e-05, 'epoch': 10.0}\n",
      "{'eval_loss': 0.17366981506347656, 'eval_micro f1': 0.7342995169082126, 'eval_macro f1': 0.6808866675607997, 'eval_runtime': 0.4075, 'eval_samples_per_second': 260.099, 'eval_steps_per_second': 9.815, 'epoch': 10.0}\n",
      "{'loss': 0.0313, 'learning_rate': 3e-05, 'epoch': 11.0}\n",
      "{'eval_loss': 0.17230013012886047, 'eval_micro f1': 0.7389162561576355, 'eval_macro f1': 0.6794716038268953, 'eval_runtime': 0.4081, 'eval_samples_per_second': 259.726, 'eval_steps_per_second': 9.801, 'epoch': 11.0}\n",
      "{'loss': 0.0277, 'learning_rate': 3e-05, 'epoch': 12.0}\n",
      "{'eval_loss': 0.1667415350675583, 'eval_micro f1': 0.7378640776699029, 'eval_macro f1': 0.6856287041609274, 'eval_runtime': 0.4078, 'eval_samples_per_second': 259.926, 'eval_steps_per_second': 9.809, 'epoch': 12.0}\n",
      "{'loss': 0.0242, 'learning_rate': 3e-05, 'epoch': 13.0}\n",
      "{'eval_loss': 0.17310453951358795, 'eval_micro f1': 0.729064039408867, 'eval_macro f1': 0.6720301863312433, 'eval_runtime': 0.4078, 'eval_samples_per_second': 259.901, 'eval_steps_per_second': 9.808, 'epoch': 13.0}\n",
      "{'loss': 0.0214, 'learning_rate': 3e-05, 'epoch': 14.0}\n",
      "{'eval_loss': 0.17781288921833038, 'eval_micro f1': 0.7230046948356808, 'eval_macro f1': 0.6757057232234538, 'eval_runtime': 0.4073, 'eval_samples_per_second': 260.26, 'eval_steps_per_second': 9.821, 'epoch': 14.0}\n",
      "{'loss': 0.0191, 'learning_rate': 3e-05, 'epoch': 15.0}\n",
      "{'eval_loss': 0.1786072999238968, 'eval_micro f1': 0.7342995169082126, 'eval_macro f1': 0.6885665796478224, 'eval_runtime': 0.4074, 'eval_samples_per_second': 260.163, 'eval_steps_per_second': 9.817, 'epoch': 15.0}\n",
      "{'loss': 0.0169, 'learning_rate': 3e-05, 'epoch': 16.0}\n",
      "{'eval_loss': 0.17570747435092926, 'eval_micro f1': 0.7307692307692307, 'eval_macro f1': 0.6830757741570169, 'eval_runtime': 0.4085, 'eval_samples_per_second': 259.511, 'eval_steps_per_second': 9.793, 'epoch': 16.0}\n",
      "{'loss': 0.0152, 'learning_rate': 3e-05, 'epoch': 17.0}\n",
      "{'eval_loss': 0.18457835912704468, 'eval_micro f1': 0.7272727272727273, 'eval_macro f1': 0.6863098301861041, 'eval_runtime': 0.4104, 'eval_samples_per_second': 258.266, 'eval_steps_per_second': 9.746, 'epoch': 17.0}\n",
      "{'loss': 0.0142, 'learning_rate': 3e-05, 'epoch': 18.0}\n",
      "{'eval_loss': 0.17917746305465698, 'eval_micro f1': 0.7342995169082126, 'eval_macro f1': 0.6835279509038374, 'eval_runtime': 0.4086, 'eval_samples_per_second': 259.415, 'eval_steps_per_second': 9.789, 'epoch': 18.0}\n",
      "{'loss': 0.0129, 'learning_rate': 3e-05, 'epoch': 19.0}\n",
      "{'eval_loss': 0.19127045571804047, 'eval_micro f1': 0.7559808612440191, 'eval_macro f1': 0.7227027412349645, 'eval_runtime': 0.4083, 'eval_samples_per_second': 259.597, 'eval_steps_per_second': 9.796, 'epoch': 19.0}\n",
      "{'loss': 0.0121, 'learning_rate': 3e-05, 'epoch': 20.0}\n",
      "{'eval_loss': 0.18928897380828857, 'eval_micro f1': 0.7441860465116279, 'eval_macro f1': 0.7059053820958583, 'eval_runtime': 0.4079, 'eval_samples_per_second': 259.844, 'eval_steps_per_second': 9.805, 'epoch': 20.0}\n",
      "{'train_runtime': 113.4745, 'train_samples_per_second': 39.304, 'train_steps_per_second': 9.87, 'train_loss': 0.08740142775433404, 'epoch': 20.0}\n"
     ]
    }
   ],
   "source": [
    "# model_ckpt = f'{model_ckpt}-issues-128' # 위 실행에서, 직전 결과를 huggingface에 업로드 하지 않았기에\n",
    "model_ckpt = 'cj-mills/bert-base-uncased-issues-128' # 다른 사용자가 업로드한 결과 사용\n",
    "config = AutoConfig.from_pretrained(model_ckpt)\n",
    "config.num_labels = len(all_labels)\n",
    "config.problem_type = \"multi_label_classification\"\n",
    "\n",
    "for train_slice in train_slices:\n",
    "    model = AutoModelForSequenceClassification.from_pretrained(model_ckpt,\n",
    "                                                               config=config)\n",
    "    trainer = Trainer(\n",
    "        model=model,\n",
    "        tokenizer=tokenizer,\n",
    "        args=training_args_fine_tune,\n",
    "        compute_metrics=compute_metrics,\n",
    "        train_dataset=ds_enc[\"train\"].select(train_slice),\n",
    "        eval_dataset=ds_enc[\"valid\"],\n",
    "    )\n",
    "\n",
    "    trainer.train()\n",
    "    pred = trainer.predict(ds_enc['test'])\n",
    "    metrics = compute_metrics(pred)\n",
    "    # DA는 도메인 적응을 의미합니다\n",
    "    macro_scores['Fine-tune (DA)'].append(metrics['macro f1'])\n",
    "    micro_scores['Fine-tune (DA)'].append(metrics['micro f1'])"
   ]
  },
  {
   "cell_type": "code",
   "execution_count": 164,
   "id": "4f71571b",
   "metadata": {},
   "outputs": [
    {
     "data": {
      "image/png": "[encoded data removed]",
      "text/plain": [
       "<Figure size 1000x400 with 2 Axes>"
      ]
     },
     "metadata": {},
     "output_type": "display_data"
    }
   ],
   "source": [
    "plot_metrics(micro_scores, macro_scores, train_samples, \"Fine-tune (DA)\")"
   ]
  },
  {
   "cell_type": "markdown",
   "id": "d60b937f",
   "metadata": {},
   "source": [
    "- 미세튜닝한 결과가, 레이블링된 데이터가 많을 수록 더 유리 하다.\n",
    "- 도메인 적응이, 레이블링이 되지 않은 데이터와 약간의 노력으로 모델 성능을 조금 향상 시킬수 있다는 것을 의미"
   ]
  },
  {
   "cell_type": "markdown",
   "id": "88a0203d-981f-4f97-a977-e1854475cb94",
   "metadata": {},
   "source": [
    "## 고급 방법\n",
    "- 레이블링 되지 않은 데이터를 활용하는 고급 방법"
   ]
  },
  {
   "cell_type": "markdown",
   "id": "94379da0-16a8-4808-b8b9-0fa7dc252cbb",
   "metadata": {},
   "source": [
    "#### 비지도 데이터 증식\n",
    "\n",
    "- 비지도 데이터 증식(unsupervised data augmentation, UDA) : 레이블링 되지 않은 샘플과 살짝 왜곡된 샘플에 대해 모델의 예측이 일정해야 한다.\n",
    "- 왜곡은 토큰 교체나 역 번역 같은 표준적인 데이터 증식 전략으로 만든다.\n",
    "- 원본 예측과 왜곡된 샘플 예측 사이에 KL발산을 최소화 하도록 일관성을 강제로 부여(아래 그림 참조)\n",
    "\n",
    "<img alt=\"uda\" width=\"600\" caption=\"Training a model M with UDA (courtesy of Qizhe Xie)\" src=\"https://github.com/rickiepark/nlp-with-transformers/blob/main/images/chapter09_uda.png?raw=1\" id=\"uda\"/>    \n",
    "\n",
    "- 레이블링 되지 않은 샘플에 대한 크로스 엔트로피 손실을 보강, 일관성에 대한 요구사항을 통합\n",
    "- 표준적 비지도학습으로 레이블링된 데이터에서 모델을 훈련 하지만, 레이블링되지 않은 데이터에서 일관된 예측을 만들도록 모델을 제한\n",
    "\n",
    "- [추가 설명](https://velog.io/@riverdeer/paper-review-Unsupervised-Data-Augmentation-for-Consistency-Training#:~:text=Unsupervised%20Data%20Augmentation%20(UDA),-2.1.%20Background%3A%20Supervised&text=%EB%8D%B0%EC%9D%B4%ED%84%B0%20%EC%A6%9D%EA%B0%95%EC%9D%80%20%EB%8D%B0%EC%9D%B4%ED%84%B0%EC%9D%98,%EB%A7%8C%EB%93%9C%EB%8A%94%20%EA%B2%83%EC%9D%84%20%EB%AA%A9%EC%A0%81%EC%9C%BC%EB%A1%9C%20%ED%95%9C%EB%8B%A4)\n",
    "Unsupervised Data Augmentation (UDA)는 주어진 레이블된 데이터를 기반으로 하지 않고, 데이터의 양을 증가시키고 모델의 성능을 향상시키기 위해 사용되는 방법이다.\n",
    "\n",
    "**목적**: UDA의 목적은 다음과 같다:\n",
    "1. **데이터 양 증가**: 레이블이 없는 데이터를 사용하여 기존의 레이블된 데이터를 보완하여 모델에 더 많은 학습 데이터를 제공한다.\n",
    "2. **모델 일반화 향상**: 데이터의 다양성을 증가시켜 모델의 일반화 성능을 향상시킨다.\n",
    "3. **학습 데이터의 품질 향상**: 데이터 증강을 통해 생성된 데이터는 실제 데이터와 유사하지만 새로운 데이터이므로 모델의 학습을 보조하는 효과를 가진다.\n",
    "\n",
    "**방법**: UDA는 다음과 같은 과정을 통해 이루어진다:\n",
    "1. **데이터 변환**: 레이블이 없는 데이터에 변환을 적용하여 새로운 데이터를 생성한다. 이미지의 경우 회전, 확대 등의 변환을 적용하고, 텍스트의 경우 paraphrasing 등의 기술을 사용한다.\n",
    "2. **모델 학습**: 생성된 데이터와 기존의 레이블된 데이터를 모두 사용하여 모델을 학습시킨다. 지도 학습에서는 레이블된 데이터의 정보를 활용하며, 비지도 학습에서는 생성된 데이터를 활용하여 모델을 학습시킨다.\n",
    "\n",
    "**효과**: UDA는 다음과 같은 효과를 가져온다:\n",
    "1. **성능 향상**: UDA를 통해 모델은 더 많은 데이터를 학습하고 다양한 데이터에 대해 더 강건하게 학습하게 되므로 일반적으로 성능이 향상된다.\n",
    "2. **일반화 향상**: 다양한 데이터를 학습하므로 모델의 일반화 능력이 향상되어 새로운 데이터에 대한 예측 성능이 개선된다.\n",
    "3. **데이터 효율성**: 레이블이 없는 데이터를 사용하여 모델을 학습하기 때문에 레이블이 많이 필요하지 않은 경우에도 효과적으로 모델을 학습할 수 있다.\n",
    "\n",
    "요약하자면, UDA는 데이터의 다양성을 증가시켜 모델의 성능을 향상시키는 데 사용되는 방법으로, 새로운 데이터를 생성하고 이를 이용하여 모델을 학습함으로써 성능을 향상시킨다."
   ]
  },
  {
   "cell_type": "markdown",
   "id": "11c628a0-90fa-4ba4-9611-8e258745853e",
   "metadata": {},
   "source": [
    "#### 불확실성 인지 자기 훈련\n",
    "\n",
    "- 불확실성 인지 자기 훈련(uncertainty-aware self-training : UST): 레이블링 되지 않은 데이터를 활용하는 유망한 방법\n",
    "- 레이블링된 데이터에서 티처 모델을 훈련하고\n",
    "- 이 모델을 사용해 레이블링 되지 않은 데이터에서 의사 레이블을 만든다\n",
    "- 스튜던트 모델은 의사 레이블 데이터에서 훈련 되고, 다음 반복에서는 티처가 된다\n",
    "\n",
    "<img alt=\"ust\" width=\"600\" caption=\"The UST method consists of a teacher that generates pseudo-labels and a student that is subsequently trained on those labels; after the student is trained it becomes the teacher and the step is repeated (courtesy of Subhabrata Mukherjee)\" src=\"https://github.com/rickiepark/nlp-with-transformers/blob/main/images/chapter09_ust.png?raw=1\" id=\"ust\"/>"
   ]
  },
  {
   "cell_type": "markdown",
   "id": "a5ece367",
   "metadata": {},
   "source": [
    "# 결론\n",
    "\n",
    "- 레이블이 적거나 전혀 없는 데이터에서 모델을 구축하는 방법은 있다.\n",
    "- 사전 훈련된 언어 모델(BERT, GPT-2 등)을 사용하거나 도메인 적응을 통해 성능을 향상시킬 수 있다.\n",
    "- 적합한 방법은 데이터 양, 잡음 정도, 데이터의 사전 훈련된 말뭉치와의 유사성에 따라 다르며, 평가 파이프라인을 통해 확인할 수 있다.\n",
    "- 트랜스포머의 유연한 API를 활용하여 여러 모델을 비교할 수 있다.\n",
    "- 허깅페이스 허브에서 다양한 모델을 찾을 수 있고, 비슷한 문제를 해결한 선행 연구를 참고할 수 있다.\n",
    "- 복잡한 방법(UAD, UST)과 데이터 수집의 트레이드 오프는 이 책의 범위를 벗어나나, 초기에 검증 세트와 테스트 세트를 만들어 접근법을 평가하는 것이 중요하다.\n",
    "- 각 단계에서 레이블링된 데이터를 추가 수집할 수 있으며, 이를 위한 도구들이 있다.\n",
    "- 목표에 맞게 고품질의 작은 데이터셋을 만드는 것이 합리적이며, 이를 위한 방법을 활용하여 레이블링된 데이터를 최대한 활용할 수 있다."
   ]
  }
 ],
 "metadata": {
  "kernelspec": {
   "display_name": "Python 3 (ipykernel)",
   "language": "python",
   "name": "python3"
  },
  "language_info": {
   "codemirror_mode": {
    "name": "ipython",
    "version": 3
   },
   "file_extension": ".py",
   "mimetype": "text/x-python",
   "name": "python",
   "nbconvert_exporter": "python",
   "pygments_lexer": "ipython3",
   "version": "3.10.14"
  },
  "toc": {
   "base_numbering": 1,
   "nav_menu": {},
   "number_sections": true,
   "sideBar": true,
   "skip_h1_title": false,
   "title_cell": "Table of Contents",
   "title_sidebar": "Contents",
   "toc_cell": false,
   "toc_position": {},
   "toc_section_display": true,
   "toc_window_display": false
  }
 },
 "nbformat": 4,
 "nbformat_minor": 5
}
