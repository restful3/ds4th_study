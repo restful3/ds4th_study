{
 "cells": [
  {
   "cell_type": "markdown",
   "id": "87b6d97d-3d00-4ff8-8233-890adcf21a03",
   "metadata": {},
   "source": [
    "# 머신러닝 분류와 강화학습\n",
    "\n",
    "- 머신러닝\n",
    "    - 데이터를 사용하여, 기계를 학습 시키는 기법\n",
    "    - 기계, 즉 컴퓨터에 데이터를 주고 컴퓨터 스스로가 어떤 규칙이나 패턴을 찾는 것\n",
    "    - 지도학습, 비지도 학습, 강화 학습으로 분류"
   ]
  },
  {
   "cell_type": "markdown",
   "id": "ddc50095-021e-4ab3-8b6e-630d210501d9",
   "metadata": {},
   "source": [
    "## 지도 학습\n",
    "\n",
    "<img src=\"./images/fig_01_01.png\" width=600>\n",
    "\n",
    "- 가장 전통적인 방법\n",
    "- 입력(문제)과 출력(정답)을 쌍으로 묶은 데이터가 주어 진다\n",
    "- 예를들어, 입력(이미지)을 출력(숫자)로 변환하는 방법 학습\n",
    "- '정답 레이블'이 존재 한다는 점이 지도학습의 특징"
   ]
  },
  {
   "cell_type": "markdown",
   "id": "a670c886-5dd3-4b08-b7fe-93c268240609",
   "metadata": {
    "jp-MarkdownHeadingCollapsed": true
   },
   "source": [
    "## 비지도 학습\n",
    "\n",
    "<img src=\"./images/fig_01_02.png\" width=600>\n",
    "\n",
    "- 정답을 알려주는 선생님이 없다\n",
    "- 정답 레이블이 없는 데이터만 존재\n",
    "- 데이터에 숨어 있는 구조나 패턴을 찾는 용도\n",
    "- 군집화(클러스터링), 특징 추출, 차원 축소, t-SNE  알고리즘 등"
   ]
  },
  {
   "cell_type": "markdown",
   "id": "ffcecd0d-600b-4b72-828c-30a3c80672b8",
   "metadata": {},
   "source": [
    "## 강화 학습\n",
    "\n",
    "<img src=\"./images/fig_01_03.png\" width=600>\n",
    "\n",
    "- **에이전트(agent)** : 행동 주체\n",
    "    - 에이전트는 환경(environment)에 놓여져\n",
    "    - 환경의 상태(state)를 관찰\n",
    "    - 상태에 적합한 행동(action)을 취한다\n",
    "    - 행동을 취한 결과로 환경의 상태가 바뀌고\n",
    "    - 환경으로 부터 보상(reward)를 받음과 동시에,\n",
    "    - '새로운 상태'를 관찰한다\n",
    "- **강화학습의 목표** : 에이전트가 받는 보상의 총합을 극대화 하는 행동 패턴을 익히는 것\n",
    "\n",
    "<img src=\"./images/fig_01_04.png\" width=600>\n",
    "\n",
    "- 로봇 보행 문제\n",
    "    - 로봇은 현실 공간(또는 시뮬레이터)에 배치되어 걷는 방법을 배우고 있다\n",
    "    - 로봇의 목표는 효율적으로 앞으로 나아가는 방법을 익히는 것\n",
    "    - 로봇은 팔다리를 움직이는 행동을 취한다\n",
    "    - 취한 행동에 따라 주변 환경(상태)이 변화 한다\n",
    "    - 보상은 앞으로 나아간 거리\n",
    "    - 로봇은 다양한 시행 착오를 통해 팔다리를 움직여 보고, 환경으로 부터 보상을 받아 최적의 행동 패턴을 익힌다\n",
    " \n",
    "> 강화학습의 환경으로 부터 피드백인 '보상'은 정답 '레이블'과 성격이 다르다. 보상은 행동에 대한 피드백일 뿐, 그 보상으로 부터 지금까지의 행동이 최적인지 여부까지는 알수 없다. 반면 지도 학습은 '정답'이 제공된다. 즉, 지도학습을 강화학습의 맥락에서 보면, '최적의 행동'을 알려주는 선생님이 있다는 의미 이다."
   ]
  },
  {
   "cell_type": "markdown",
   "id": "0545e137-7c81-4f20-a165-79b490f5a20d",
   "metadata": {},
   "source": [
    "# 밴디트 문제"
   ]
  },
  {
   "cell_type": "markdown",
   "id": "10be8c11-5827-4491-b9e7-ad068a8e6e1d",
   "metadata": {
    "jp-MarkdownHeadingCollapsed": true
   },
   "source": [
    "## 밴디트 문제란?\n",
    "\n",
    "- **밴디트(bandit)** \n",
    "    - 슬롯머신의 다른 이름\n",
    "    - 원래는 도적의 의미\n",
    "    - 슬롯머신을 하면 대부분 돈을 잃으니까\n",
    "\n",
    "<img src=\"./images/fig_01_05.png\" width=600>\n",
    "\n",
    "- 멀티-암드 밴디트 문제\n",
    "    - 팔이 많은 머신, 팔이 하나짜리 머신이 여러개 있는 것으로 치환 가능\n",
    "    - 슬롯머신 각각의 특성이 서로 다르다\n",
    "    - 환경 : 슬롯머신\n",
    "    - 에이전트 : 플레이어\n",
    "\n",
    "<img src=\"./images/fig_01_06.png\" width=600>\n",
    "\n",
    "- 환경과 에이전트 사이의 상호작용\n",
    "    - 플레이어가 여러 슬롯머신 중 한대 선택 하여 플레이 (행동)\n",
    "    - 행동의 결과 플레이어가 슬롯머신으로 부터 얻는 코인 (보상)\n",
    " \n",
    "> 일반적인 강화 학습에서, 환경에는 **상태** 정보가 있다. 에이전트의 행동에 따라 환경의 상태가 바뀌고, 에이전트는 환경의 새로운 상태를 관찰하여 적절한 행동을 취한다. 다만, 밴디트 문제에서 슬롯머신들의 확률 설정에 변화는 없다. 상태가 변화 하는 문제는 '2장 마르코프 결정 과정' 에서 다룬다."
   ]
  },
  {
   "cell_type": "markdown",
   "id": "b881ebd5-5c99-4b26-b849-1670b3c05625",
   "metadata": {},
   "source": [
    "## 좋은 슬롯머신이란?\n",
    "\n",
    "<img src=\"./images/fig_01_07.png\" width=600>\n",
    "\n",
    "- 두대의 슬롯머신과, 각각의 보상의 확률, 이를 확률분포표(probability distribution table)\n",
    "- 일반적으로 이런 확률분포표를 플레이어가 알 수는 없다.\n",
    "- 어떤 슬롯머신을 선택 하는 것이 좋은가?\n",
    "- 기댓값(expectation value) 가 더 큰 쪽이 더 좋은 슬롯머신\n",
    "    - 확률과 코인의 개수를 곱하여 합한 값\n",
    "- 슬롯머신a : 1.05, 슬롯머신b : 0.95\n",
    "> 강화학습에서는 기댓값이 **가치(value)** 혹은 **행동 가치(action value)** 가 된다."
   ]
  },
  {
   "cell_type": "markdown",
   "id": "915450d1-d290-4034-aa18-cd7208be7eae",
   "metadata": {},
   "source": [
    "## 수식으로 표현하기\n",
    "\n",
    "- 보상 : \"Reward\"의 머리글자 따서 R로 표시\n",
    "    - 밴디트 문제에서 코인의 개수\n",
    "    - R은 '얻을 가능성'이 확률로 정해져 있음, 즉 **확률 변수(random variable)** 임\n",
    "    - t번째 얻는 보상을 $R_t$로 표시\n",
    "- 행동 : \"Action\"의 머리글자 따서 A로 표시\n",
    "    - 슬롯머신 a, b를 선택하는 행동을 각각 a와 b라고 한다면, 변수 A는 {a, b} 중 하나의 값을 취함\n",
    "- 기대값 : \"Expectation\"의 머리글자 따서 E로 표시\n",
    "    - 보상 R의 기대값은 $E[R]$\n",
    "    - 행동 A를 선택 했을 때 보상 기대값은 $E[R|A]$\n",
    "    - 행동 a를 선택 했을 때 보상 기대값은 $E[R|A=a]$ 혹은 $E[R|a]$\n",
    "- 행동가치 : 'Quality'의 머리글자 따서 Q또는 q로 표시\n",
    "    - 보상에 대한 기대값\n",
    "    - Q는 '추정치', q는 '실제값'\n",
    "    - 행동 가치 $q(A) = E[R|A]$"
   ]
  },
  {
   "cell_type": "markdown",
   "id": "25de73e9-368b-4b4a-9d4f-0e063d4b2ba0",
   "metadata": {},
   "source": [
    "# 밴디트 알고리즘\n",
    "- 만약 각 슬롯머신의 가치(보상 기대값)을 알면 플레이는 가장 좋은 슬롯머신을 고를 수 있다\n",
    "- 그러나 플레이어는 각 슬롯머신의 가치를 알 수 없다\n",
    "- 따라서 플레이어는 각 슬롯머신의 가치를 추정 해야 한다."
   ]
  },
  {
   "cell_type": "markdown",
   "id": "593da30b-c9a4-4f03-8478-6ffa989e27a7",
   "metadata": {},
   "source": [
    "## 가치 추정 방법\n",
    "\n",
    "<img src=\"./images/fig_01_08.png\" width=600>\n",
    "\n",
    "- 각 슬롯머신의 1회 플레이 결과만 놓고 슬롯머신을 정하는 것은 신뢰 할 수 없다\n",
    "\n",
    "<img src=\"./images/fig_01_09.png\" width=600>\n",
    "\n",
    "- a와 b를 3번씩 플레이, 이에 따른 각 슬롯머신의 가치 추정치\n",
    "- $Q(a) = \\frac{0+1+5}{3} = 2$\n",
    "- $Q(b) = \\frac{1+0+0}{3} = 0.33 \\cdots$\n",
    "- a가 좋다고 추정\n",
    "> 슬롯머신을 실제 플레이 하여 얻은 보상은, 어떤 확률 분포에서 생성된 '샘플(표본)' 이다. 따라서 실제 획득한 보상의 평균을 **표본 평균(sample mean)** 이라 한다. 큰수의 법칙에 따라 샘플의 수가 늘어 날 수록 실제의 값에 가까워 진다"
   ]
  },
  {
   "cell_type": "markdown",
   "id": "b462c226-b9d2-4039-ab90-a9b987d8872e",
   "metadata": {},
   "source": [
    "## 평균을 구하는 코드\n",
    "\n",
    "- 슬롯머신 한대를 n번 플레이한 경우\n",
    "- $R_1,R_2, \\cdots , R_n$ 는 실제 얻는 보상\n",
    "- $Q_n$는 행동 가치 추정치\n",
    "\n",
    "<img src='./images/eq_01_01.png' width=600>"
   ]
  },
  {
   "cell_type": "code",
   "execution_count": 2,
   "id": "1838cb15-41ef-4c89-8234-d20afa344044",
   "metadata": {},
   "outputs": [
    {
     "name": "stdout",
     "output_type": "stream",
     "text": [
      "0.5488135039273248\n",
      "0.6320014351498722\n",
      "0.6222554154571295\n",
      "0.6029123573420713\n",
      "0.567060845741438\n",
      "0.5801997236289743\n",
      "0.5598265075766483\n",
      "0.6013198192273272\n",
      "0.6415801460355164\n",
      "0.6157662833145425\n"
     ]
    }
   ],
   "source": [
    "import numpy as np\n",
    "\n",
    "np.random.seed(0)\n",
    "rewards = []\n",
    "\n",
    "for n in range(1, 11):\n",
    "    reward = np.random.rand()\n",
    "    rewards.append(reward)\n",
    "    Q = sum(rewards)/n\n",
    "    print(Q)"
   ]
  },
  {
   "cell_type": "markdown",
   "id": "5ecef529-b40d-46bc-ba01-1cb6f4ddc0c1",
   "metadata": {},
   "source": [
    "- n이 커질수록 계산 비용이 커진다.\n",
    "- 효율적으로 $Q$를 구하는 방법\n",
    "- n 대신 n-1까지 $Q$를 구하면 다음의 식이 된다.\n",
    "- $Q_{n-1} = \\frac{R_1+R_2+ \\cdots +R_{n-1}}{n-1} $\n",
    "- 이 식의 양번에 $n-1$를 곱하고 좌우 변을 바꾸면 다음 식이 얻어 진다.\n",
    "\n",
    "<img src='./images/eq_01_02.png' width=600>\n",
    "\n",
    "- 따라서 $Q_n$는 다음과 같다\n",
    "\n",
    "<img src='./images/eq_01_03.png' width=600>\n",
    "\n",
    "- 여기서 핵심은, 식 1.3에서 식 1.2를 대입하는 부분\n",
    "- 이를 통해, 식 1.3에서 $Q_{n-1}$, $R_n$, $n$의 값만 알면, $R_1,R_2, \\cdots , R_{n-1}$을 매번 사용하지 않고도 $Q_n$을 구할 수 있다.\n",
    "\n",
    "- $Q_n$은 점화식으로 표현 가능하다\n",
    "\n",
    "<img src='./images/eq_01_04.png' width=600>"
   ]
  },
  {
   "cell_type": "markdown",
   "id": "4b5760a0-fc03-4b2b-9968-691a8405dc86",
   "metadata": {},
   "source": [
    "<img src=\"./images/fig_01_10.png\" width=600>\n",
    "\n",
    "- $Q_{n-1}$이 $Q_n$으로 갱신될 때 $R_n - Q_{n-1}$에 $\\frac{1}{n}$를 곱한 만큼 이동\n",
    "- 다시 말하면, $Q_{n-1}$이 $R_n$방향으로 얼마나 증가 할 지는 $\\frac{1}{n}$ 값이 결정\n",
    "- $\\frac{1}{n}$를 **학습률(learning rate)** 라고 함\n",
    "> $n$이 커질 수록, 학습률은 작아짐, 즉, $n$이 무한대로 가면,  $Q_n = Q_{n-1}$"
   ]
  },
  {
   "cell_type": "code",
   "execution_count": 3,
   "id": "5cdd4c0b-049c-46b2-b9f3-9b8572520759",
   "metadata": {},
   "outputs": [
    {
     "name": "stdout",
     "output_type": "stream",
     "text": [
      "0.7917250380826646\n",
      "0.6603099789177845\n",
      "0.6295548396431672\n",
      "0.7035652893055406\n",
      "0.5770594430840099\n",
      "0.49540441918693173\n",
      "0.4275207017945595\n",
      "0.4781580947637318\n",
      "0.5114912787844116\n",
      "0.5473433657306523\n"
     ]
    }
   ],
   "source": [
    "Q = 0\n",
    "for n in range(1, 11):\n",
    "    reward = np.random.rand()\n",
    "    Q = Q + (reward -Q)/n\n",
    "    print(Q)"
   ]
  },
  {
   "cell_type": "markdown",
   "id": "c2dfe6c3-6e4b-4942-81df-9853982256f0",
   "metadata": {},
   "source": [
    "<img src=\"./images/fig_01_11.png\" width=600>"
   ]
  },
  {
   "cell_type": "code",
   "execution_count": 4,
   "id": "af624e53-5799-45df-be20-5497783860eb",
   "metadata": {},
   "outputs": [
    {
     "name": "stdout",
     "output_type": "stream",
     "text": [
      "0.978618342232764\n",
      "0.8888884532247439\n",
      "0.7464187562341399\n",
      "0.7549463612472188\n",
      "0.6276119741715617\n",
      "0.6296634820308887\n",
      "0.5601905970849113\n",
      "0.6082503870804954\n",
      "0.5986501575993372\n",
      "0.5802513358384558\n"
     ]
    }
   ],
   "source": [
    "Q = 0\n",
    "for n in range(1, 11):\n",
    "    reward = np.random.rand()\n",
    "    # Q = Q + (reward -Q)/n\n",
    "    Q += (reward - Q)/n    \n",
    "    print(Q)"
   ]
  },
  {
   "cell_type": "markdown",
   "id": "26965b2b-21d2-490c-9b28-2b514dad2417",
   "metadata": {},
   "source": [
    "- 이와 같이 $Q_1, Q_2, Q_3 \\cdots$을 하나씩 순차적으로 증가 시키며 구할 수 있다는 의미로 **증분 구현(incremental implementation)** 라고 함"
   ]
  },
  {
   "cell_type": "markdown",
   "id": "72bb2e41-a91c-48df-a1e2-024dbac43d02",
   "metadata": {
    "jp-MarkdownHeadingCollapsed": true
   },
   "source": [
    "## 플레이어의 정책\n",
    "\n",
    "- **탐욕 정책(greedy policy)**\n",
    "    - 플레이어는 플레이한 결과중 가장 가치 추정치(획득 보상 평균)가 가장 큰 슬롯 머신을 선택 한다.\n",
    "    - greedy 는 미래는 고려치 않고 당장의 결과만 놓고 최선의 선택을 한다는 의미\n",
    "    - 그림 1-8과 같이 한번한 플레이한 경우, 계속 b만 선택\n",
    "\n",
    "<img src=\"./images/fig_01_08.png\" width=600>\n",
    "\n",
    "- **$\\epsilon$-탐욕 정책**\n",
    "    - **활용(exploitation)** : 지금까지 실제로 플레이한 결과 중 가장 가치 추정치가 좋은 슬롯머신 선택\n",
    "    - **탐색(exploration)** : 다른 슬롯머신 시도\n",
    "    - $\\epsilon$의 확률로 탐색을 하고, $1-\\epsilon$의 확률로 활용을 하는 전략\n",
    "\n",
    "> 활용과 탐색은 상충 관계임"
   ]
  },
  {
   "cell_type": "markdown",
   "id": "5a46c3d7-6f1c-406e-8f10-265f498ac678",
   "metadata": {},
   "source": [
    "# 밴디트 알고리즘 구현\n",
    "\n",
    "- 조건을 단순화 하여, 슬롯머신은 코인을 최대 1개 반환 한다. (승리 1, 패배 0)\n",
    "- 슬롯머신의 승리 확률은 정해져 있고 플에이어는 이를 알지 못한다\n",
    "- 슬롯머신은 총 10대이고, 플레이어는 경험을 통해 이중 가장 승률이 높은 슬롯머신을 찾아야 한다."
   ]
  },
  {
   "cell_type": "markdown",
   "id": "71dcef5e-ce74-405d-ba3d-715e0720eb57",
   "metadata": {},
   "source": [
    "## 슬롯머신 구현"
   ]
  },
  {
   "cell_type": "code",
   "execution_count": 1,
   "id": "734d658a-97a3-47f1-8d30-d97629c1c304",
   "metadata": {},
   "outputs": [],
   "source": [
    "import numpy as np\n",
    "\n",
    "class Bandit:\n",
    "    def __init__(self, arms=10):\n",
    "        self.rates = np.random.rand(arms) # 0.0 이상 1.0 이하의 무작위 수 균등 분포로 arms 개 생성 (arms 값이 없으면 1개 생성)\n",
    "\n",
    "    def play(self, arm):\n",
    "        rate = self.rates[arm]\n",
    "        if rate > np.random.rand(): \n",
    "            return 1\n",
    "        else:\n",
    "            return 0"
   ]
  },
  {
   "cell_type": "code",
   "execution_count": 6,
   "id": "38964fae-f1fc-4b95-9eb3-fdaed1f8d708",
   "metadata": {},
   "outputs": [
    {
     "name": "stdout",
     "output_type": "stream",
     "text": [
      "1\n",
      "1\n",
      "1\n"
     ]
    }
   ],
   "source": [
    "bandit = Bandit()\n",
    "\n",
    "for i in range(3):\n",
    "    print(bandit.play(0))"
   ]
  },
  {
   "cell_type": "markdown",
   "id": "01c53208-e692-463f-8c56-ede60ec46ccf",
   "metadata": {},
   "source": [
    "## 에이전트 구현"
   ]
  },
  {
   "cell_type": "markdown",
   "id": "180a3088-06ae-4009-8a60-153ee2de6dcf",
   "metadata": {},
   "source": [
    "- 2번째 머신을 10번 연속 플레이시 가치 추정치"
   ]
  },
  {
   "cell_type": "code",
   "execution_count": 8,
   "id": "bff61ed0-0f8a-4971-afb8-7ceafe8f737d",
   "metadata": {},
   "outputs": [
    {
     "name": "stdout",
     "output_type": "stream",
     "text": [
      "1.0\n",
      "0.5\n",
      "0.33333333333333337\n",
      "0.25\n",
      "0.2\n",
      "0.16666666666666669\n",
      "0.14285714285714288\n",
      "0.12500000000000003\n",
      "0.11111111111111113\n",
      "0.10000000000000002\n"
     ]
    }
   ],
   "source": [
    "bandit = Bandit()\n",
    "\n",
    "Q = 0\n",
    "\n",
    "for n in range(1, 11):\n",
    "    reward = bandit.play(2)    # 2번째 슬롯머신 플레이\n",
    "    Q += (reward -Q)/n         # 가치 추정치 갱신\n",
    "    print(Q)"
   ]
  },
  {
   "cell_type": "markdown",
   "id": "1b7ee54a-190e-47a7-aaa6-16b5695a735b",
   "metadata": {},
   "source": [
    "- 10대의 슬롯머신 각각의 가치 추정치 구하기"
   ]
  },
  {
   "cell_type": "code",
   "execution_count": 10,
   "id": "1767d654-29ac-43ce-bb47-1ac8c49940a1",
   "metadata": {},
   "outputs": [
    {
     "name": "stdout",
     "output_type": "stream",
     "text": [
      "[0. 0. 0. 0. 0. 0. 0. 0. 0. 0.]\n",
      "[0. 0. 0. 0. 0. 0. 0. 0. 0. 0.]\n",
      "[0. 0. 0. 0. 0. 0. 0. 0. 0. 1.]\n",
      "[0. 0. 0. 0. 0. 0. 0. 1. 0. 1.]\n",
      "[0. 0. 0. 0. 0. 0. 0. 1. 0. 1.]\n",
      "[0. 0. 0. 0. 0. 0. 0. 1. 0. 1.]\n",
      "[0. 0. 0. 0. 0. 0. 0. 1. 0. 1.]\n",
      "[0. 0. 0. 0. 0. 0. 0. 1. 0. 1.]\n",
      "[0.  0.  0.  0.  0.5 0.  0.  1.  0.  1. ]\n",
      "[0.         0.         0.         0.         0.5        0.\n",
      " 0.         1.         0.         0.66666667]\n",
      "[0.         0.         0.         0.         0.5        0.\n",
      " 0.         1.         0.         0.66666667]\n",
      "[0.   0.   0.   0.   0.5  0.   0.   1.   0.   0.75]\n",
      "[0.   0.   1.   0.   0.5  0.   0.   1.   0.   0.75]\n",
      "[0.         0.         1.         0.         0.66666667 0.\n",
      " 0.         1.         0.         0.75      ]\n",
      "[0.         0.         1.         0.         0.66666667 0.\n",
      " 0.         1.         0.         0.75      ]\n",
      "[0.   0.   1.   0.   0.75 0.   0.   1.   0.   0.75]\n",
      "[0.   0.   1.   0.   0.75 0.   0.   1.   1.   0.75]\n",
      "[0.   0.   1.   0.   0.75 0.   0.   1.   1.   0.75]\n",
      "[0.   0.   1.   0.   0.75 1.   0.   1.   1.   0.75]\n",
      "[0.   0.   1.   0.   0.75 1.   0.   1.   1.   0.75]\n",
      "[0.   0.   1.   0.   0.75 1.   0.   1.   1.   0.75]\n",
      "[0.   0.   1.   0.   0.75 1.   0.   1.   1.   0.75]\n",
      "[0.   0.   1.   0.   0.75 1.   0.   1.   1.   0.75]\n",
      "[0.         0.         1.         0.         0.75       1.\n",
      " 0.         0.83333333 1.         0.75      ]\n",
      "[0.         0.         1.         0.         0.75       1.\n",
      " 0.         0.83333333 1.         0.8       ]\n",
      "[0.         0.         1.         0.         0.8        1.\n",
      " 0.         0.83333333 1.         0.8       ]\n",
      "[0.         0.         1.         0.         0.8        1.\n",
      " 0.         0.83333333 1.         0.8       ]\n",
      "[0.         0.         1.         0.         0.8        1.\n",
      " 0.         0.83333333 1.         0.8       ]\n",
      "[0.         0.         1.         0.         0.8        1.\n",
      " 0.         0.83333333 1.         0.8       ]\n",
      "[0.         0.         1.         0.         0.8        1.\n",
      " 0.         0.83333333 1.         0.8       ]\n",
      "[0.         0.         1.         0.         0.8        1.\n",
      " 0.         0.83333333 0.5        0.8       ]\n",
      "[0.         0.         1.         0.         0.8        1.\n",
      " 0.         0.83333333 0.5        0.8       ]\n",
      "[0.         0.         1.         0.         0.8        1.\n",
      " 0.         0.85714286 0.5        0.8       ]\n",
      "[0.         0.         1.         0.         0.8        1.\n",
      " 0.         0.85714286 0.5        0.83333333]\n",
      "[0.         0.         1.         0.         0.66666667 1.\n",
      " 0.         0.85714286 0.5        0.83333333]\n",
      "[0.         0.         1.         0.         0.66666667 1.\n",
      " 0.         0.85714286 0.5        0.83333333]\n",
      "[0.         0.         1.         0.         0.66666667 1.\n",
      " 0.5        0.85714286 0.5        0.83333333]\n",
      "[0.         0.         1.         0.         0.66666667 1.\n",
      " 0.5        0.85714286 0.5        0.83333333]\n",
      "[0.         0.         1.         0.         0.66666667 1.\n",
      " 0.5        0.85714286 0.5        0.83333333]\n",
      "[0.         0.         1.         0.         0.66666667 1.\n",
      " 0.5        0.85714286 0.5        0.83333333]\n",
      "[0.         0.         1.         0.         0.66666667 1.\n",
      " 0.33333333 0.85714286 0.5        0.83333333]\n",
      "[0.         0.         1.         0.         0.66666667 1.\n",
      " 0.33333333 0.85714286 0.5        0.83333333]\n",
      "[0.         0.         1.         0.         0.71428571 1.\n",
      " 0.33333333 0.85714286 0.5        0.83333333]\n",
      "[0.         0.         0.8        0.         0.71428571 1.\n",
      " 0.33333333 0.85714286 0.5        0.83333333]\n",
      "[0.         0.         0.8        0.         0.71428571 0.5\n",
      " 0.33333333 0.85714286 0.5        0.83333333]\n",
      "[0.         0.         0.8        0.         0.71428571 0.5\n",
      " 0.33333333 0.85714286 0.5        0.83333333]\n",
      "[0.         0.         0.8        0.         0.75       0.5\n",
      " 0.33333333 0.85714286 0.5        0.83333333]\n",
      "[0.         0.         0.8        0.         0.75       0.5\n",
      " 0.33333333 0.85714286 0.5        0.83333333]\n",
      "[0.         0.         0.8        0.         0.75       0.5\n",
      " 0.33333333 0.85714286 0.33333333 0.83333333]\n",
      "[0.         0.         0.8        0.         0.75       0.5\n",
      " 0.33333333 0.85714286 0.33333333 0.83333333]\n",
      "[0.         0.         0.8        0.         0.75       0.5\n",
      " 0.33333333 0.85714286 0.33333333 0.83333333]\n",
      "[0.         0.         0.8        0.         0.75       0.5\n",
      " 0.25       0.85714286 0.33333333 0.83333333]\n",
      "[0.         0.         0.8        0.         0.75       0.5\n",
      " 0.25       0.85714286 0.33333333 0.71428571]\n",
      "[0.         0.         0.8        0.         0.75       0.66666667\n",
      " 0.25       0.85714286 0.33333333 0.71428571]\n",
      "[0.         0.         0.8        0.         0.75       0.66666667\n",
      " 0.25       0.85714286 0.5        0.71428571]\n",
      "[0.         0.         0.8        0.         0.75       0.66666667\n",
      " 0.25       0.85714286 0.5        0.71428571]\n",
      "[0.         0.         0.8        0.         0.75       0.66666667\n",
      " 0.25       0.85714286 0.6        0.71428571]\n",
      "[0.         0.         0.8        0.         0.75       0.66666667\n",
      " 0.25       0.85714286 0.6        0.75      ]\n",
      "[0.         0.         0.8        0.         0.75       0.66666667\n",
      " 0.25       0.875      0.6        0.75      ]\n",
      "[0.    0.    0.8   0.    0.75  0.75  0.25  0.875 0.6   0.75 ]\n",
      "[0.    0.    0.8   0.    0.75  0.8   0.25  0.875 0.6   0.75 ]\n",
      "[0.    0.    0.8   0.    0.75  0.8   0.2   0.875 0.6   0.75 ]\n",
      "[0.         0.         0.8        0.         0.75       0.83333333\n",
      " 0.2        0.875      0.6        0.75      ]\n",
      "[0.         0.         0.8        0.         0.75       0.83333333\n",
      " 0.2        0.875      0.6        0.75      ]\n",
      "[0.         0.         0.8        0.         0.75       0.83333333\n",
      " 0.2        0.88888889 0.6        0.75      ]\n",
      "[0.         0.         0.8        0.         0.75       0.83333333\n",
      " 0.2        0.88888889 0.6        0.75      ]\n",
      "[0.         0.         0.8        0.         0.75       0.83333333\n",
      " 0.16666667 0.88888889 0.6        0.75      ]\n",
      "[0.         0.         0.8        0.         0.75       0.83333333\n",
      " 0.16666667 0.9        0.6        0.75      ]\n",
      "[0.         0.         0.8        0.         0.75       0.71428571\n",
      " 0.16666667 0.9        0.6        0.75      ]\n",
      "[0.         0.         0.8        0.         0.75       0.71428571\n",
      " 0.16666667 0.9        0.6        0.75      ]\n",
      "[0.         0.         0.8        0.         0.77777778 0.71428571\n",
      " 0.16666667 0.9        0.6        0.75      ]\n",
      "[0.         0.         0.8        0.         0.8        0.71428571\n",
      " 0.16666667 0.9        0.6        0.75      ]\n",
      "[0.         0.         0.8        0.         0.8        0.71428571\n",
      " 0.16666667 0.9        0.6        0.75      ]\n",
      "[0.         0.         0.8        0.         0.8        0.625\n",
      " 0.16666667 0.9        0.6        0.75      ]\n",
      "[0.         0.         0.8        0.         0.8        0.625\n",
      " 0.16666667 0.90909091 0.6        0.75      ]\n",
      "[0.         0.         0.8        0.         0.8        0.625\n",
      " 0.16666667 0.90909091 0.6        0.77777778]\n",
      "[0.         0.         0.83333333 0.         0.8        0.625\n",
      " 0.16666667 0.90909091 0.6        0.77777778]\n",
      "[0.         0.         0.83333333 0.         0.81818182 0.625\n",
      " 0.16666667 0.90909091 0.6        0.77777778]\n",
      "[0.         0.         0.83333333 0.         0.81818182 0.625\n",
      " 0.16666667 0.90909091 0.6        0.77777778]\n",
      "[0.         0.         0.83333333 0.         0.81818182 0.625\n",
      " 0.16666667 0.90909091 0.6        0.77777778]\n",
      "[0.         0.         0.83333333 0.         0.81818182 0.625\n",
      " 0.28571429 0.90909091 0.6        0.77777778]\n",
      "[0.         0.         0.83333333 0.         0.81818182 0.66666667\n",
      " 0.28571429 0.90909091 0.6        0.77777778]\n",
      "[0.         0.         0.83333333 0.         0.81818182 0.66666667\n",
      " 0.28571429 0.90909091 0.66666667 0.77777778]\n",
      "[0.         0.08333333 0.83333333 0.         0.81818182 0.66666667\n",
      " 0.28571429 0.90909091 0.66666667 0.77777778]\n",
      "[0.         0.08333333 0.85714286 0.         0.81818182 0.66666667\n",
      " 0.28571429 0.90909091 0.66666667 0.77777778]\n",
      "[0.         0.08333333 0.85714286 0.         0.81818182 0.66666667\n",
      " 0.25       0.90909091 0.66666667 0.77777778]\n",
      "[0.         0.08333333 0.85714286 0.         0.75       0.66666667\n",
      " 0.25       0.90909091 0.66666667 0.77777778]\n",
      "[0.         0.08333333 0.85714286 0.         0.75       0.66666667\n",
      " 0.25       0.83333333 0.66666667 0.77777778]\n",
      "[0.         0.08333333 0.85714286 0.         0.75       0.66666667\n",
      " 0.25       0.83333333 0.66666667 0.77777778]\n",
      "[0.         0.08333333 0.85714286 0.         0.75       0.66666667\n",
      " 0.25       0.83333333 0.57142857 0.77777778]\n",
      "[0.         0.08333333 0.85714286 0.         0.75       0.66666667\n",
      " 0.25       0.83333333 0.57142857 0.77777778]\n",
      "[0.         0.08333333 0.85714286 0.         0.75       0.66666667\n",
      " 0.25       0.83333333 0.57142857 0.77777778]\n",
      "[0.         0.08333333 0.85714286 0.         0.75       0.66666667\n",
      " 0.25       0.84615385 0.57142857 0.77777778]\n",
      "[0.         0.08333333 0.85714286 0.         0.75       0.6\n",
      " 0.25       0.84615385 0.57142857 0.77777778]\n",
      "[0.         0.08333333 0.85714286 0.         0.75       0.6\n",
      " 0.25       0.84615385 0.57142857 0.77777778]\n",
      "[0.         0.08333333 0.875      0.         0.75       0.6\n",
      " 0.25       0.84615385 0.57142857 0.77777778]\n",
      "[0.         0.08333333 0.875      0.         0.75       0.63636364\n",
      " 0.25       0.84615385 0.57142857 0.77777778]\n",
      "[0.         0.08333333 0.875      0.         0.75       0.63636364\n",
      " 0.22222222 0.84615385 0.57142857 0.77777778]\n",
      "[0.         0.08333333 0.875      0.         0.75       0.63636364\n",
      " 0.22222222 0.84615385 0.57142857 0.77777778]\n",
      "[0.         0.08333333 0.875      0.         0.75       0.63636364\n",
      " 0.22222222 0.84615385 0.57142857 0.77777778]\n"
     ]
    }
   ],
   "source": [
    "bandit = Bandit()\n",
    "Qs = np.zeros(10) # 각 슬롯머신의 가치 추정치\n",
    "ns = np.zeros(10) # 각 슬롯머신의 플레이 횟수\n",
    "\n",
    "for n in range(100):\n",
    "    action = np.random.randint(0, 10) # 무작위 행동(임의 슬롯머신 선택)\n",
    "    reward = bandit.play(action)\n",
    "\n",
    "    ns[action] += 1 # action번째 슬롯머신 플레이한 횟수 갱신\n",
    "    Qs[action] += (reward - Qs[action]) / ns[action]\n",
    "    print(Qs)"
   ]
  },
  {
   "cell_type": "markdown",
   "id": "d918331e-fdee-42e8-9b58-67e96665141d",
   "metadata": {},
   "source": [
    "- $\\epsilon$-탐욕 정책을 따르는 Agent 클래스"
   ]
  },
  {
   "cell_type": "code",
   "execution_count": 12,
   "id": "b2eeda07-b1b9-4bfe-abd7-2e52e438dda9",
   "metadata": {},
   "outputs": [],
   "source": [
    "class Agent:\n",
    "    def __init__(self, epsilon, action_size=10):\n",
    "        self.epsilon = epsilon # 탐색 확률\n",
    "        self.Qs = np.zeros(action_size)\n",
    "        self.ns = np.zeros(action_size)\n",
    "\n",
    "    def update(self, action, reward): # 가치 추정\n",
    "        self.ns[action] += 1\n",
    "        self.Qs[action] += (reward - self.Qs[action]) / self.ns[action]\n",
    "\n",
    "    def get_action(self): # 행동 선택\n",
    "        if np.random.rand() < self.epsilon:\n",
    "            return np.random.randint(0, len(self.Qs)) # 무작위 행동 선택\n",
    "        return np.argmax(self.Qs) # 탐욕 행동 선택"
   ]
  },
  {
   "cell_type": "markdown",
   "id": "a29d3851-a1a3-44ac-aa55-4e657458d79c",
   "metadata": {},
   "source": [
    "## 실행해보기"
   ]
  },
  {
   "cell_type": "code",
   "execution_count": 13,
   "id": "255c3c49-1b3a-4933-9e18-808deb61be53",
   "metadata": {},
   "outputs": [
    {
     "name": "stdout",
     "output_type": "stream",
     "text": [
      "1000중 889번 승리\n"
     ]
    }
   ],
   "source": [
    "import matplotlib.pyplot as plt\n",
    "\n",
    "steps = 1000\n",
    "epsilon = 0.1\n",
    "\n",
    "bandit = Bandit()\n",
    "agent = Agent(epsilon)\n",
    "total_reward = 0\n",
    "total_rewards = []  # 보상 합\n",
    "rates = []          # 승률\n",
    "\n",
    "for step in range(steps):\n",
    "    action = agent.get_action()   # 행동 선택\n",
    "    reward = bandit.play(action)  # 실제로 플레이하고 보상을 받음\n",
    "    agent.update(action, reward)  # 행동과 보상을 통해 학습\n",
    "    total_reward += reward\n",
    "\n",
    "    total_rewards.append(total_reward)       # 현재까지의 보상 합 저장\n",
    "    rates.append(total_reward / (step + 1))  # 현재까지의 승률 저장\n",
    "\n",
    "print(f'{steps}중 {total_reward}번 승리')"
   ]
  },
  {
   "cell_type": "markdown",
   "id": "60cbd178-0fb2-49b8-acf3-7c1530893167",
   "metadata": {},
   "source": [
    "- [그림 1-12] 단계별 보상 총합\n",
    "- 단계가 늘어날 수록 보상의 총합은 꾸준히 증가"
   ]
  },
  {
   "cell_type": "code",
   "execution_count": 14,
   "id": "f2698f3a-bc1e-4f04-a737-1a26ffd9dcb0",
   "metadata": {},
   "outputs": [
    {
     "data": {
      "image/png": "[encoded data removed]",
      "text/plain": [
       "<Figure size 640x480 with 1 Axes>"
      ]
     },
     "metadata": {},
     "output_type": "display_data"
    }
   ],
   "source": [
    "plt.ylabel('Total reward')\n",
    "plt.xlabel('Steps')\n",
    "plt.plot(total_rewards)\n",
    "plt.show()"
   ]
  },
  {
   "cell_type": "markdown",
   "id": "5b9d4860-0f08-442b-9eb2-0d94ae237e50",
   "metadata": {},
   "source": [
    "- [그림 1-13] 단계별 승률\n",
    "- 세로 축은 승률, 단계를 거듭할 수록 승률이 올라간다."
   ]
  },
  {
   "cell_type": "code",
   "execution_count": 15,
   "id": "7b99471f-788d-4755-9746-79b586aded58",
   "metadata": {},
   "outputs": [
    {
     "data": {
      "image/png": "[encoded data removed]",
      "text/plain": [
       "<Figure size 640x480 with 1 Axes>"
      ]
     },
     "metadata": {},
     "output_type": "display_data"
    }
   ],
   "source": [
    "plt.ylabel('Rates')\n",
    "plt.xlabel('Steps')\n",
    "plt.plot(rates)\n",
    "plt.show()"
   ]
  },
  {
   "cell_type": "markdown",
   "id": "e978b71d-eb7f-4b4d-86a0-6e01d1d9e9ea",
   "metadata": {},
   "source": [
    "## 알고리즘의 평균적인 특성\n",
    "\n",
    "<img src=\"./images/fig_01_14.png\" width=600>\n",
    "\n",
    "- 코드의 무작위성 때문에, 실험 때 마다 결과가 달라질 수 있다.\n",
    "- 신뢰도를 높이기 위해, 1000번 플레이 하는 실험은 200번 반복 하여, 아래와 같이 평균을 낸다.\n",
    "\n",
    "<img src=\"./images/fig_01_15.png\" width=600>"
   ]
  },
  {
   "cell_type": "code",
   "execution_count": 16,
   "id": "7ca518b1-a445-45bd-a6ba-3b937f83070c",
   "metadata": {},
   "outputs": [
    {
     "data": {
      "image/png": "[encoded data removed]",
      "text/plain": [
       "<Figure size 640x480 with 1 Axes>"
      ]
     },
     "metadata": {},
     "output_type": "display_data"
    }
   ],
   "source": [
    "runs = 200\n",
    "steps = 1000\n",
    "epsilon = 0.1\n",
    "all_rates = np.zeros((runs, steps))  # (200, 1000) 형상 배열\n",
    "\n",
    "for run in range(runs):  # 200번 실험\n",
    "    bandit = Bandit()\n",
    "    agent = Agent(epsilon)\n",
    "    total_reward = 0\n",
    "    rates = []\n",
    "\n",
    "    for step in range(steps):\n",
    "        action = agent.get_action()\n",
    "        reward = bandit.play(action)\n",
    "        agent.update(action, reward)\n",
    "        total_reward += reward\n",
    "        rates.append(total_reward / (step + 1))\n",
    "\n",
    "    all_rates[run] = rates  # 보상 결과 기록\n",
    "\n",
    "avg_rates = np.average(all_rates, axis=0)  # 각 단계의 평균 저장\n",
    "\n",
    "# [그림 1-16] 단계별 승률(200번 실험 후 평균)\n",
    "plt.ylabel('Rates')\n",
    "plt.xlabel('Steps')\n",
    "plt.plot(avg_rates)\n",
    "plt.show()"
   ]
  },
  {
   "cell_type": "markdown",
   "id": "f2f14ff7-ed1f-4449-aab6-da69ab3118ef",
   "metadata": {},
   "source": [
    "<img src=\"./images/fig_01_17.png\" width=600>\n",
    "\n",
    "- $\\epsilon$에 따라 승률이 달라 진다.\n",
    "- 최적의 $\\epsilon$은 문제에 따라 달라 진다."
   ]
  },
  {
   "cell_type": "markdown",
   "id": "8604ada2-9b48-4110-a00b-2beef807cdf9",
   "metadata": {},
   "source": [
    "# 비정상 문제\n",
    "\n",
    "- **정상 문제(stationary problem)** : 보상의 확률 분포가 변하지 않는 문제\n",
    "- 만약, 플레이 할 때 마다, 각 슬롯머신의 보상 확률이 변한다면?"
   ]
  },
  {
   "cell_type": "code",
   "execution_count": 17,
   "id": "0efa5d83-79f1-4d53-8f6f-43b68e14d57d",
   "metadata": {},
   "outputs": [],
   "source": [
    "class NonStatBandit:\n",
    "    def __init__(self, arms=10):\n",
    "        self.arms = arms\n",
    "        self.rates = np.random.rand(arms)\n",
    "\n",
    "    def play(self, arm):\n",
    "        rate = self.rates[arm]\n",
    "        self.rates += 0.1 * np.random.randn(self.arms)  # 노이즈 추가\n",
    "        if rate > np.random.rand():\n",
    "            return 1\n",
    "        else:\n",
    "            return 0"
   ]
  },
  {
   "cell_type": "markdown",
   "id": "a157c2f7-fff3-4246-b95f-f34558a296a5",
   "metadata": {},
   "source": [
    "-  np.random.randn()은 평균이 0, 표준편차라 1인 정규 분포를 따르는 무작위수 생성\n",
    "-  **비정상 문제(non-stationary problem)** : 보상의 확률 분포가 변하는 문제"
   ]
  },
  {
   "cell_type": "markdown",
   "id": "51ab45ae-124f-4249-845b-b5c9cd0d9cd8",
   "metadata": {
    "jp-MarkdownHeadingCollapsed": true
   },
   "source": [
    "## 비정상 문제를 풀기 위해서\n",
    "\n",
    "-슬롯머신의 가치 추정을 위한 표본 평균 계산은 다음과 같다.\n",
    "\n",
    "<img src='./images/eq_01_01_02.png' width=600>\n",
    "\n",
    "- 표본 평균은 획득한 보상의 평균으로 모든 보상 앞에 가중치 $\\frac{1}{n}$ 이 붙어 있다.\n",
    "\n",
    "<img src=\"./images/fig_01_18.png\" width=600>\n",
    "\n",
    "- 모든 보상에 동일한 가중치, 모든 보상을 동일하게 취급\n",
    "- 비정상 문제에서는, 시간이 흐르면 환경(슬롯머신)이 변하기 때문에 과거 데이터(보상)의 중요도가 낮아져야 한다\n",
    "\n",
    "<img src='./images/eq_01_05.png' width=600>\n",
    "\n",
    "- 따라서 식 1.5와 같이 증분 방식으로 $Q_n$을 갱신 하는 방법을 \n",
    "\n",
    "<img src='./images/eq_01_06.png' width=600>\n",
    "\n",
    "- $\\frac{1}{n}$ 대신 고정된 $\\alpha$ 를 ($0 < \\alpha <  1$)를 사용하면\n",
    "\n",
    "<img src=\"./images/fig_01_19.png\" width=600>\n",
    "\n",
    "- 이와 같이 과거로 갈수록 비중을 줄이는 식으로 고칠 수 있다.\n",
    "\n",
    "<img src='./images/eq_01_07.png' width=600>\n",
    "\n",
    "<img src='./images/eq_01_08.png' width=600>\n",
    "\n",
    "<img src='./images/eq_01_09.png' width=600>\n",
    "\n",
    "<img src='./images/eq_01_10.png' width=600>\n",
    "\n",
    "- 과거로 갈수록 가중치가 기하급수적으로 감소 한다.\n",
    "- 이와 같은 방식을 **지수 이동 평균(exponential moving average)** 또는 **지수 가중 이동 평균(exponential weighted moving average)** 라고 한다.\n",
    "\n",
    "> 식 1.10에서, $Q_n$를 구할 때 $Q_0$이 사용되었다. $Q_0$는 행동 가치 초기값으로 $Q_n$은 $Q_0$의 영향(편향)을 받는다. 표본평균의 경우 첫 번째 보상을 받으면 사용자가 부여한 초기값은 사라지기 때문에 이러한 편향이 없다. "
   ]
  },
  {
   "cell_type": "markdown",
   "id": "e8dc1fa5-598a-44c3-ba0c-a70304b9273a",
   "metadata": {},
   "source": [
    "## 비정상 문제 풀기\n",
    "\n",
    "- 고정된 변수 $\\alpha$로 가치 추정치를 갱신"
   ]
  },
  {
   "cell_type": "code",
   "execution_count": 18,
   "id": "466035cc-beff-47f6-b372-159b0d611ade",
   "metadata": {},
   "outputs": [],
   "source": [
    "class AlphaAgent:\n",
    "    def __init__(self, epsilon, alpha, actions=10):\n",
    "        self.epsilon = epsilon\n",
    "        self.Qs = np.zeros(actions)\n",
    "        self.alpha = alpha  # 고정값 α\n",
    "\n",
    "    def update(self, action, reward):\n",
    "        # α로 갱신\n",
    "        self.Qs[action] += (reward - self.Qs[action]) * self.alpha\n",
    "\n",
    "    def get_action(self):\n",
    "        if np.random.rand() < self.epsilon:\n",
    "            return np.random.randint(0, len(self.Qs))\n",
    "        return np.argmax(self.Qs)"
   ]
  },
  {
   "cell_type": "code",
   "execution_count": 19,
   "id": "9781da04-219d-4ca7-91d8-5d5019cf622c",
   "metadata": {},
   "outputs": [
    {
     "data": {
      "image/png": "[encoded data removed]",
      "text/plain": [
       "<Figure size 640x480 with 1 Axes>"
      ]
     },
     "metadata": {},
     "output_type": "display_data"
    }
   ],
   "source": [
    "runs = 200\n",
    "steps = 1000\n",
    "epsilon = 0.1\n",
    "alpha = 0.8\n",
    "agent_types = ['sample average', 'alpha const update']\n",
    "results = {}\n",
    "\n",
    "for agent_type in agent_types:\n",
    "    all_rates = np.zeros((runs, steps))  # (200, 1000)\n",
    "\n",
    "    for run in range(runs):\n",
    "        if agent_type == 'sample average':\n",
    "            agent = Agent(epsilon)\n",
    "        else:\n",
    "            agent = AlphaAgent(epsilon, alpha)\n",
    "\n",
    "        bandit = NonStatBandit()\n",
    "        total_reward = 0\n",
    "        rates = []\n",
    "\n",
    "        for step in range(steps):\n",
    "            action = agent.get_action()\n",
    "            reward = bandit.play(action)\n",
    "            agent.update(action, reward)\n",
    "            total_reward += reward\n",
    "            rates.append(total_reward / (step + 1))\n",
    "\n",
    "        all_rates[run] = rates\n",
    "\n",
    "    avg_rates = np.average(all_rates, axis=0)\n",
    "    results[agent_type] = avg_rates\n",
    "\n",
    "# [그림 1-20] 표본 평균과 고정값 α에 의한 갱신 비교\n",
    "plt.figure()\n",
    "plt.ylabel('Average Rates')\n",
    "plt.xlabel('Steps')\n",
    "for key, avg_rates in results.items():\n",
    "    plt.plot(avg_rates, label=key)\n",
    "plt.legend()\n",
    "plt.show()"
   ]
  },
  {
   "cell_type": "markdown",
   "id": "8aa1ae63-7b47-4443-a62b-73f629777b7a",
   "metadata": {},
   "source": [
    "- 처음앤 표본 평균 쪽이 우세하지만 갈 수록 고정값 $\\alpha$ 갱신 결과가 우세 해 짐\n",
    "- 즉 표본 평균으로는 시간의 변화에 대응을 하지 못함"
   ]
  },
  {
   "cell_type": "markdown",
   "id": "346a5765-abbb-4758-b7d9-e4d8788f73f9",
   "metadata": {},
   "source": [
    "# 정리"
   ]
  },
  {
   "cell_type": "markdown",
   "id": "0f90eb8c-0130-43b9-a2c1-c5b2db9fef22",
   "metadata": {},
   "source": [
    "- 강화 학습은, 지도학습이나 비지도 학습과 환경와 에이전트의 상호작용을 이용한다는 점에서 차이가 있다.\n",
    "- 에이전트는 자신의 행동에 따른 보상의 총합이 극대화 되도록 행동 패턴을 익히는 것을 목표로 한다\n",
    "- 밴디트 문제를 풀기 위한 알고리즘은, 여러 선택지 중 최선의 선택을 고르는 문제에 적용 가능 하다\n",
    "- 밴디트 문제 그리고 강화학습 에서는 '활용과 탐색' 간의 균얼을 맞추는 것이 중요하다\n",
    "- $\\epsilon$-탐욕 정책은 가끔은 탐색을 하지만 그 외에는 활용을 하는 알고리즘이다\n",
    "- 두가지 평균\n",
    "    - 표본 평균 : 모든 보상에 균일한 가중치 \n",
    "    - 지수 이동 평균 : 최근에 얻은 보상일 수록 높은 가중치"
   ]
  }
 ],
 "metadata": {
  "kernelspec": {
   "display_name": "Python 3 (ipykernel)",
   "language": "python",
   "name": "python3"
  },
  "language_info": {
   "codemirror_mode": {
    "name": "ipython",
    "version": 3
   },
   "file_extension": ".py",
   "mimetype": "text/x-python",
   "name": "python",
   "nbconvert_exporter": "python",
   "pygments_lexer": "ipython3",
   "version": "3.10.14"
  }
 },
 "nbformat": 4,
 "nbformat_minor": 5
}
