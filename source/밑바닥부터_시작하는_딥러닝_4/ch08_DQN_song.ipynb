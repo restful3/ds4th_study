{
 "cells": [
  {
   "cell_type": "markdown",
   "id": "521396c6-6503-4793-8968-60305b2dd18e",
   "metadata": {},
   "source": [
    "# OpenAI Gym\n",
    "## OpenAI Gym 기초 지식"
   ]
  },
  {
   "cell_type": "code",
   "execution_count": 1,
   "id": "ec1d8ee6-8351-4e85-ab20-5aabd90ef60f",
   "metadata": {},
   "outputs": [
    {
     "name": "stderr",
     "output_type": "stream",
     "text": [
      "/home/restful3/anaconda3/envs/trading/lib/python3.10/site-packages/gym/envs/registration.py:555: UserWarning: \u001b[33mWARN: The environment CartPole-v0 is out of date. You should consider upgrading to version `v1`.\u001b[0m\n",
      "  logger.warn(\n"
     ]
    }
   ],
   "source": [
    "import gym\n",
    "\n",
    "env = gym.make('CartPole-v0', render_mode='human')"
   ]
  },
  {
   "cell_type": "code",
   "execution_count": null,
   "id": "578e2304-28cf-465e-835a-eaac2fc756a0",
   "metadata": {},
   "outputs": [],
   "source": [
    "state = env.reset()[0]\n",
    "print(f\"상태 : {state}\")"
   ]
  },
  {
   "cell_type": "code",
   "execution_count": null,
   "id": "f0129ca8-86f6-4a4f-8bfa-5cd064c053e3",
   "metadata": {},
   "outputs": [],
   "source": []
  }
 ],
 "metadata": {
  "kernelspec": {
   "display_name": "Python (trading)",
   "language": "python",
   "name": "trading"
  },
  "language_info": {
   "codemirror_mode": {
    "name": "ipython",
    "version": 3
   },
   "file_extension": ".py",
   "mimetype": "text/x-python",
   "name": "python",
   "nbconvert_exporter": "python",
   "pygments_lexer": "ipython3",
   "version": "3.10.14"
  }
 },
 "nbformat": 4,
 "nbformat_minor": 5
}
