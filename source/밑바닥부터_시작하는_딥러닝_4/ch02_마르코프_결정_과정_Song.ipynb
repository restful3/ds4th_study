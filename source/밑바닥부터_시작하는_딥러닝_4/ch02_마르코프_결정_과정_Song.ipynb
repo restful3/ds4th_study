{
 "cells": [
  {
   "cell_type": "markdown",
   "id": "ff3e8082-340f-49c3-bb51-744e77cfdeec",
   "metadata": {},
   "source": [
    "# 마르코프 결정 과정(MDP)이란?"
   ]
  },
  {
   "cell_type": "markdown",
   "id": "90f96327-936a-436a-a571-2d53db52e3ea",
   "metadata": {},
   "source": [
    "## 구체적인 예"
   ]
  },
  {
   "cell_type": "code",
   "execution_count": null,
   "id": "5d1331d3-e781-46f3-93ad-7a22d4d3f659",
   "metadata": {},
   "outputs": [],
   "source": []
  }
 ],
 "metadata": {
  "kernelspec": {
   "display_name": "Python 3 (ipykernel)",
   "language": "python",
   "name": "python3"
  },
  "language_info": {
   "codemirror_mode": {
    "name": "ipython",
    "version": 3
   },
   "file_extension": ".py",
   "mimetype": "text/x-python",
   "name": "python",
   "nbconvert_exporter": "python",
   "pygments_lexer": "ipython3",
   "version": "3.10.14"
  }
 },
 "nbformat": 4,
 "nbformat_minor": 5
}
