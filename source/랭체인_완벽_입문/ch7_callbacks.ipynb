{
 "cells": [
  {
   "cell_type": "code",
   "execution_count": 1,
   "id": "cf25305d",
   "metadata": {},
   "outputs": [],
   "source": [
    "api_key = '...'\n",
    "serpapi_api_key=\"...\""
   ]
  },
  {
   "cell_type": "markdown",
   "id": "57c2c8f3",
   "metadata": {},
   "source": [
    "# Ch7. Callbacks - 다양한 이벤트 발생 시 처리하기"
   ]
  },
  {
   "cell_type": "markdown",
   "id": "1a7ce10a",
   "metadata": {},
   "source": [
    "### 01. Callbacks 모듈로 할 수 있는 일 알아보기"
   ]
  },
  {
   "cell_type": "markdown",
   "id": "6688b423",
   "metadata": {},
   "source": [
    "일반적으로 Callback은 특정 이벤트가 발생했을 때 호출되는 함수나 메서드를 의미</br>\n",
    "랭체인에는 언어 모델을 사용해 애플리케이션의 다양한 단계에 개입할 수 있는 Callbacks 모듈이 존재"
   ]
  },
  {
   "cell_type": "markdown",
   "id": "fe16ea8f",
   "metadata": {},
   "source": [
    "##### 로그 수집 및 모니터링, 다른 애플리케이션과 연동 가능"
   ]
  },
  {
   "cell_type": "markdown",
   "id": "db83061e",
   "metadata": {},
   "source": [
    "특징\n",
    "- 애플리케이션의 상세한 실행 로그를 파일이나 터미널로 출력\n",
    "- 외부 라이브러리, 애플리케이션과 연동하여 서로 다른 플랫폼이나 도구 간의 데이터 교환이 효율적\n",
    "- 사용자가 직접 Callbakcs를 구현 가능하여 애플리케이션의 확장성을 높임"
   ]
  },
  {
   "attachments": {
    "image.png": {
     "image/png": "[encoded data removed]"
    }
   },
   "cell_type": "markdown",
   "id": "c06bfad6",
   "metadata": {},
   "source": [
    "![image.png](attachment:image.png)"
   ]
  },
  {
   "cell_type": "markdown",
   "id": "0d479c7b",
   "metadata": {},
   "source": [
    "### 02. Callbacks 모듈을 사용해 외부 라이브러리와 연동하기"
   ]
  },
  {
   "cell_type": "markdown",
   "id": "9f490e6d",
   "metadata": {},
   "source": [
    "##### 준비된 클래스를 사용해 외부 라이브러리와 연동할 수 있다."
   ]
  },
  {
   "cell_type": "markdown",
   "id": "e16aa3e7",
   "metadata": {},
   "source": [
    "chainlit: 채팅 화면 생성 라이브러리"
   ]
  },
  {
   "cell_type": "code",
   "execution_count": 2,
   "id": "e7b93e83",
   "metadata": {},
   "outputs": [],
   "source": [
    "import chainlit as cl\n",
    "from langchain.agents import AgentType, initialize_agent, load_tools\n",
    "from langchain.chat_models import ChatOpenAI"
   ]
  },
  {
   "cell_type": "code",
   "execution_count": 3,
   "id": "bfc9e1a3",
   "metadata": {},
   "outputs": [
    {
     "name": "stderr",
     "output_type": "stream",
     "text": [
      "c:\\Users\\teo75\\anaconda3\\lib\\site-packages\\langchain_core\\_api\\deprecation.py:117: LangChainDeprecationWarning: The class `langchain_community.chat_models.openai.ChatOpenAI` was deprecated in langchain-community 0.0.10 and will be removed in 0.2.0. An updated version of the class exists in the langchain-openai package and should be used instead. To use it run `pip install -U langchain-openai` and import as `from langchain_openai import ChatOpenAI`.\n",
      "  warn_deprecated(\n"
     ]
    }
   ],
   "source": [
    "chat = ChatOpenAI( \n",
    "    temperature=0,\n",
    "    model=\"gpt-3.5-turbo\",\n",
    "    api_key = api_key\n",
    ")"
   ]
  },
  {
   "cell_type": "code",
   "execution_count": 5,
   "id": "d81b6b59",
   "metadata": {},
   "outputs": [],
   "source": [
    "tools=load_tools(\n",
    "    [\n",
    "        \"serpapi\"        \n",
    "    ],\n",
    "    serpapi_api_key =serpapi_api_key\n",
    ")\n",
    "# tools=[serpapi]"
   ]
  },
  {
   "cell_type": "code",
   "execution_count": 6,
   "id": "6103a831",
   "metadata": {},
   "outputs": [
    {
     "name": "stderr",
     "output_type": "stream",
     "text": [
      "c:\\Users\\teo75\\anaconda3\\lib\\site-packages\\langchain_core\\_api\\deprecation.py:117: LangChainDeprecationWarning: The function `initialize_agent` was deprecated in LangChain 0.1.0 and will be removed in 0.2.0. Use Use new agent constructor methods like create_react_agent, create_json_agent, create_structured_chat_agent, etc. instead.\n",
      "  warn_deprecated(\n"
     ]
    }
   ],
   "source": [
    "agent=initialize_agent(tools=tools, llm=chat, agent=AgentType.CHAT_ZERO_SHOT_REACT_DESCRIPTION, verbose=True)\n",
    "\n",
    "# on_chat_start  이벤트 핸들러\n",
    "@cl.on_chat_start\n",
    "async def on_chat_start():\n",
    "    await cl.Message(content=\"Agent 초기화 완료\").send()\n",
    "\n",
    "# on_message 이벤트 핸들러\n",
    "@cl.on_message\n",
    "async def on_message(input_message):\n",
    "    result=agent.run(\n",
    "        input_message.content,                            # 주의: chainlit에서 대화창에서 받은 질문은 객체 형태로 넘어온다!!!(책하고 다른 부분)\n",
    "        callbacks=[\n",
    "            cl.LangchainCallbackHandler()\n",
    "        ]\n",
    "    )\n",
    "    # agent의 응답을 사용자에게 전송\n",
    "    await cl.Message(content=result).send()"
   ]
  },
  {
   "cell_type": "markdown",
   "id": "902f386c",
   "metadata": {},
   "source": [
    "LangchainCallbackHandler\n",
    "- 메시지 전송 전후 처리: 에이전트가 사용자로부터 메시지를 수신하거나 응답을 전송하기 전에 특정 작업을 수행 가능\n",
    "- 에이전트 실행 중 발생하는 에러를 처리하고, 필요에 따라 적절한 조치\n",
    "-  에이전트의 실행 과정에서 발생하는 이벤트나 상태 변화를 기록하여 디버깅을 지원"
   ]
  },
  {
   "cell_type": "markdown",
   "id": "ac7fca3b",
   "metadata": {},
   "source": [
    "### 03. 로그를 터미널에 표시할 수 있는 Callbacks 만들기"
   ]
  },
  {
   "cell_type": "markdown",
   "id": "350d6d75",
   "metadata": {},
   "source": [
    "##### Callbacks 모듈을 직접 제작해 이벤트 발생 시 처리를 수행한다"
   ]
  },
  {
   "cell_type": "markdown",
   "id": "a1091d77",
   "metadata": {},
   "source": [
    "StdOutCallbackHandler: 이벤트 발생시 터미널에 로그를 표시하는 기능"
   ]
  },
  {
   "cell_type": "markdown",
   "id": "f1177dcc",
   "metadata": {},
   "source": [
    "Chat model과 자체 제작한 Callbacks 모듈 결합"
   ]
  },
  {
   "cell_type": "code",
   "execution_count": 7,
   "id": "16e91911",
   "metadata": {},
   "outputs": [],
   "source": [
    "from langchain.callbacks.base import BaseCallbackHandler #← BaseCallbackHandler 가져오기\n",
    "from langchain.chat_models import ChatOpenAI\n",
    "from langchain.schema import HumanMessage"
   ]
  },
  {
   "cell_type": "markdown",
   "id": "e7f968ad",
   "metadata": {},
   "source": [
    "랭체인 Callbacks 모듈은 BaseCallbackHandler를 상속받은 클래스로 정의"
   ]
  },
  {
   "cell_type": "code",
   "execution_count": 8,
   "id": "bb166a9b",
   "metadata": {},
   "outputs": [],
   "source": [
    "class LogCallbackHandler(BaseCallbackHandler): #← Callback을 생성\n",
    "\n",
    "    def on_chat_model_start(self, serialized, messages, **kwargs): #← Chat models 실행 시작 시 호출되는 처리를 정의\n",
    "        print(\"Chat models 실행 시작....\")\n",
    "        print(f\"입력: {messages}\")\n",
    "\n",
    "    def on_chain_start(self, serialized, inputs, **kwargs): #← Chain 실행 시작 시 호출되는 처리를 정의\n",
    "        print(\"Chain 실행 시작....\")\n",
    "        print(f\"입력: {inputs}\")"
   ]
  },
  {
   "cell_type": "code",
   "execution_count": 9,
   "id": "0d25ef2c",
   "metadata": {},
   "outputs": [],
   "source": [
    "chat = ChatOpenAI(\n",
    "    model=\"gpt-4o\",\n",
    "    api_key = api_key,\n",
    "    callbacks=[ #← Chat models 초기화 시 Callback을 지정\n",
    "        LogCallbackHandler() #← 생성한 LogCallbackHandler를 지정\n",
    "    ]\n",
    ")"
   ]
  },
  {
   "cell_type": "code",
   "execution_count": 10,
   "id": "a0c8a2fc",
   "metadata": {},
   "outputs": [
    {
     "name": "stderr",
     "output_type": "stream",
     "text": [
      "c:\\Users\\teo75\\anaconda3\\lib\\site-packages\\langchain_core\\_api\\deprecation.py:117: LangChainDeprecationWarning: The function `__call__` was deprecated in LangChain 0.1.7 and will be removed in 0.2.0. Use invoke instead.\n",
      "  warn_deprecated(\n"
     ]
    },
    {
     "name": "stdout",
     "output_type": "stream",
     "text": [
      "Chat models 실행 시작....\n",
      "입력: [[HumanMessage(content='안녕하세요!')]]\n",
      "2024-06-15 09:33:43 - HTTP Request: POST https://api.openai.com/v1/chat/completions \"HTTP/1.1 200 OK\"\n",
      "안녕하세요! 어떻게 도와드릴까요?\n"
     ]
    }
   ],
   "source": [
    "result = chat([\n",
    "    HumanMessage(content=\"안녕하세요!\"),\n",
    "])\n",
    "\n",
    "print(result.content)"
   ]
  },
  {
   "cell_type": "code",
   "execution_count": 11,
   "id": "d42592a4",
   "metadata": {},
   "outputs": [
    {
     "name": "stdout",
     "output_type": "stream",
     "text": [
      "2024-06-15 09:34:02 - HTTP Request: POST https://api.openai.com/v1/chat/completions \"HTTP/1.1 200 OK\"\n",
      "안녕하세요! 어떻게 도와드릴까요?\n"
     ]
    }
   ],
   "source": [
    "chat = ChatOpenAI(\n",
    "    model=\"gpt-4o\",\n",
    "    api_key = api_key,\n",
    "    # callbacks=[ #← Chat models 초기화 시 Callback을 지정\n",
    "    #     LogCallbackHandler() #← 생성한 LogCallbackHandler를 지정\n",
    "    # ]\n",
    ")\n",
    "\n",
    "result = chat([\n",
    "    HumanMessage(content=\"안녕하세요!\"),\n",
    "])\n",
    "\n",
    "print(result.content)"
   ]
  }
 ],
 "metadata": {
  "kernelspec": {
   "display_name": "Python 3 (ipykernel)",
   "language": "python",
   "name": "python3"
  },
  "language_info": {
   "codemirror_mode": {
    "name": "ipython",
    "version": 3
   },
   "file_extension": ".py",
   "mimetype": "text/x-python",
   "name": "python",
   "nbconvert_exporter": "python",
   "pygments_lexer": "ipython3",
   "version": "3.9.15"
  }
 },
 "nbformat": 4,
 "nbformat_minor": 5
}
