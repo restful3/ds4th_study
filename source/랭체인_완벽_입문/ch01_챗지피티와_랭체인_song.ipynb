{
 "cells": [
  {
   "cell_type": "markdown",
   "id": "fed70a4d-4731-468f-8488-f048e8a69787",
   "metadata": {},
   "source": [
    "# OpenAI의 API를 호출해 작동을 확인한다."
   ]
  },
  {
   "cell_type": "markdown",
   "id": "7c553672-5dae-46c9-a1d7-e7dbed68a4c4",
   "metadata": {},
   "source": [
    "## Chat 모델의 API를 호출해 보자"
   ]
  },
  {
   "cell_type": "code",
   "execution_count": 4,
   "id": "98af844c-c6aa-4459-b295-0c27ab976377",
   "metadata": {},
   "outputs": [],
   "source": [
    "import os\n",
    "from openai import OpenAI"
   ]
  },
  {
   "cell_type": "code",
   "execution_count": 9,
   "id": "c492911a-29d5-4113-8e96-064610ac72fe",
   "metadata": {},
   "outputs": [],
   "source": [
    "client = OpenAI(\n",
    "    # This is the default and can be omitted\n",
    "    api_key=os.environ.get(\"OPENAI_API_KEY\"),\n",
    ")\n",
    "\n",
    "response = client.chat.completions.create(\n",
    "    messages=[\n",
    "        {\n",
    "            \"role\": \"user\",\n",
    "            \"content\": \"iphone15의 출시일을 알려줘.\",\n",
    "        }\n",
    "    ],\n",
    "    model=\"gpt-3.5-turbo\",\n",
    ")"
   ]
  },
  {
   "cell_type": "code",
   "execution_count": 11,
   "id": "c18b3f37-b55c-435f-9a1f-308070b6ebe5",
   "metadata": {},
   "outputs": [
    {
     "data": {
      "text/plain": [
       "ChatCompletion(id='chatcmpl-9J865cslI8Us7vTu68zCqcmxSYNjN', choices=[Choice(finish_reason='stop', index=0, logprobs=None, message=ChatCompletionMessage(content='죄송하지만, 현재는 iPhone 15에 대한 구체적인 출시일 정보가 나오지 않았습니다. 애플사에서는 새로운 제품 출시일을 예장하는 경우가 많기 때문에 공식 발표 전까지는 정확한 출시일을 알 수 없습니다. 새로운 소식이 나오면 즉시 업데이트하도록 노력하겠습니다.', role='assistant', function_call=None, tool_calls=None))], created=1714346385, model='gpt-3.5-turbo-0125', object='chat.completion', system_fingerprint='fp_3b956da36b', usage=CompletionUsage(completion_tokens=126, prompt_tokens=22, total_tokens=148))"
      ]
     },
     "execution_count": 11,
     "metadata": {},
     "output_type": "execute_result"
    }
   ],
   "source": [
    "response"
   ]
  },
  {
   "cell_type": "code",
   "execution_count": 16,
   "id": "034b2d1b-766c-4f2c-ac88-c62602018a3f",
   "metadata": {},
   "outputs": [
    {
     "name": "stdout",
     "output_type": "stream",
     "text": [
      "죄송하지만, 현재는 iPhone 15에 대한 구체적인 출시일 정보가 나오지 않았습니다. 애플사에서는 새로운 제품 출시일을 예장하는 경우가 많기 때문에 공식 발표 전까지는 정확한 출시일을 알 수 없습니다. 새로운 소식이 나오면 즉시 업데이트하도록 노력하겠습니다.\n"
     ]
    }
   ],
   "source": [
    "print(response.choices[0].message.content)"
   ]
  },
  {
   "cell_type": "markdown",
   "id": "b53b6303-928e-4b74-a05f-82db002fc975",
   "metadata": {},
   "source": [
    "### API는 매개변수를 지정해 작동을 변경할 수 있다."
   ]
  },
  {
   "cell_type": "code",
   "execution_count": 21,
   "id": "0528048e-f8d1-4348-9178-8253d21a85a1",
   "metadata": {},
   "outputs": [],
   "source": [
    "response = client.chat.completions.create(\n",
    "    messages=[\n",
    "        {\n",
    "            \"role\": \"user\",\n",
    "            \"content\": \"냉면의 원재료를 알려줘.\",\n",
    "        }\n",
    "    ],\n",
    "    model=\"gpt-3.5-turbo\",\n",
    "    max_tokens=100,\n",
    "    temperature=1,\n",
    "    n=2\n",
    ")"
   ]
  },
  {
   "cell_type": "code",
   "execution_count": 26,
   "id": "9c5bd5c1-c9ec-45dc-9adc-f400e0b67577",
   "metadata": {},
   "outputs": [
    {
     "data": {
      "text/plain": [
       "ChatCompletion(id='chatcmpl-9J8CyOhi2qLy03sStm8cnB9dvGIks', choices=[Choice(finish_reason='length', index=0, logprobs=None, message=ChatCompletionMessage(content='냉면의 주요 원재료는 밀가루, 전분, 소금, 물 등이며 냉면 국물의 원재료로는 다시마, 멸치, 고추, 마늘, 간장, 설탕, 식초 등이 사용됩니다. 냉면의 재료는 지역', role='assistant', function_call=None, tool_calls=None)), Choice(finish_reason='length', index=1, logprobs=None, message=ChatCompletionMessage(content='냉면의 원재료는 밀가루, 물, 소금으로 만든 면발과 육수, 차가운 물, 고명(양파, 오이, 청고추, 고추장, 참기름, 설탕)으로 구성됩니다. 올바른 맛과 향을 내기 위해', role='assistant', function_call=None, tool_calls=None))], created=1714346812, model='gpt-3.5-turbo-0125', object='chat.completion', system_fingerprint='fp_3b956da36b', usage=CompletionUsage(completion_tokens=199, prompt_tokens=24, total_tokens=223))"
      ]
     },
     "execution_count": 26,
     "metadata": {},
     "output_type": "execute_result"
    }
   ],
   "source": [
    "response"
   ]
  },
  {
   "cell_type": "code",
   "execution_count": 23,
   "id": "035111cb-1a7b-4a76-9bc3-e085678773cb",
   "metadata": {},
   "outputs": [
    {
     "name": "stdout",
     "output_type": "stream",
     "text": [
      "냉면의 주요 원재료는 밀가루, 전분, 소금, 물 등이며 냉면 국물의 원재료로는 다시마, 멸치, 고추, 마늘, 간장, 설탕, 식초 등이 사용됩니다. 냉면의 재료는 지역\n"
     ]
    }
   ],
   "source": [
    "print(response.choices[0].message.content)"
   ]
  },
  {
   "cell_type": "code",
   "execution_count": 24,
   "id": "f254c85d-9216-459f-b9db-b24874ee496e",
   "metadata": {},
   "outputs": [
    {
     "name": "stdout",
     "output_type": "stream",
     "text": [
      "냉면의 원재료는 밀가루, 물, 소금으로 만든 면발과 육수, 차가운 물, 고명(양파, 오이, 청고추, 고추장, 참기름, 설탕)으로 구성됩니다. 올바른 맛과 향을 내기 위해\n"
     ]
    }
   ],
   "source": [
    "print(response.choices[1].message.content)"
   ]
  },
  {
   "cell_type": "markdown",
   "id": "f43db686-ed22-4f9f-a091-2ec1ae42f194",
   "metadata": {},
   "source": [
    "### Complete 모델의 API를 호출해 본다"
   ]
  },
  {
   "cell_type": "code",
   "execution_count": 29,
   "id": "8d893a02-1648-4dd4-a16e-6a30e7678c09",
   "metadata": {},
   "outputs": [],
   "source": [
    "response = openai.completions.create(\n",
    "    prompt=\"오늘 날씨가 매주 좋고 기분이\",\n",
    "    model='gpt-3.5-turbo-instruct',\n",
    "    stop=\".\",\n",
    "    max_tokens=100,\n",
    "    n=2,\n",
    "    temperature=0.5\n",
    ")"
   ]
  },
  {
   "cell_type": "code",
   "execution_count": 34,
   "id": "6ab3156b-44f3-4397-b167-164a59b080ab",
   "metadata": {},
   "outputs": [
    {
     "data": {
      "text/plain": [
       "Completion(id='cmpl-9J8PARDn1cpc6kFCKfsOnWbxg9xS9', choices=[CompletionChoice(finish_reason='stop', index=0, logprobs=None, text=' 좋아요\\n\\n오늘 날씨가 매우 좋아서 기분이 좋아요'), CompletionChoice(finish_reason='stop', index=1, logprobs=None, text=' 좋아지는 날입니다')], created=1714347568, model='gpt-3.5-turbo-instruct', object='text_completion', system_fingerprint=None, usage=CompletionUsage(completion_tokens=36, prompt_tokens=18, total_tokens=54))"
      ]
     },
     "execution_count": 34,
     "metadata": {},
     "output_type": "execute_result"
    }
   ],
   "source": [
    "response"
   ]
  },
  {
   "cell_type": "code",
   "execution_count": 32,
   "id": "003ebacc-8055-42a1-9ab0-cbe569183077",
   "metadata": {},
   "outputs": [
    {
     "name": "stdout",
     "output_type": "stream",
     "text": [
      " 좋아요\n",
      "\n",
      "오늘 날씨가 매우 좋아서 기분이 좋아요\n"
     ]
    }
   ],
   "source": [
    "print(response.choices[0].text)"
   ]
  },
  {
   "cell_type": "code",
   "execution_count": 33,
   "id": "14b74e94-cdea-497e-b010-bafb53a75abe",
   "metadata": {},
   "outputs": [
    {
     "name": "stdout",
     "output_type": "stream",
     "text": [
      " 좋아지는 날입니다\n"
     ]
    }
   ],
   "source": [
    "print(response.choices[1].text)"
   ]
  },
  {
   "cell_type": "code",
   "execution_count": null,
   "id": "36c57d61-4ff5-4ae6-a038-268ce0a50e14",
   "metadata": {},
   "outputs": [],
   "source": []
  }
 ],
 "metadata": {
  "kernelspec": {
   "display_name": "Python 3 (ipykernel)",
   "language": "python",
   "name": "python3"
  },
  "language_info": {
   "codemirror_mode": {
    "name": "ipython",
    "version": 3
   },
   "file_extension": ".py",
   "mimetype": "text/x-python",
   "name": "python",
   "nbconvert_exporter": "python",
   "pygments_lexer": "ipython3",
   "version": "3.10.14"
  }
 },
 "nbformat": 4,
 "nbformat_minor": 5
}
