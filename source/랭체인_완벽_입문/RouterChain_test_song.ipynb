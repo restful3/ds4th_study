{
 "cells": [
  {
   "cell_type": "code",
   "execution_count": 4,
   "id": "363fe0fa-8541-4072-b9ce-64d071dd6a56",
   "metadata": {},
   "outputs": [
    {
     "name": "stderr",
     "output_type": "stream",
     "text": [
      "/home/restful3/anaconda3/envs/trading/lib/python3.10/site-packages/langchain_core/_api/deprecation.py:119: LangChainDeprecationWarning: The class `LLMChain` was deprecated in LangChain 0.1.17 and will be removed in 0.3.0. Use RunnableSequence, e.g., `prompt | llm` instead.\n",
      "  warn_deprecated(\n",
      "/home/restful3/anaconda3/envs/trading/lib/python3.10/site-packages/langchain_core/_api/deprecation.py:119: LangChainDeprecationWarning: The method `Chain.run` was deprecated in langchain 0.1.0 and will be removed in 0.3.0. Use invoke instead.\n",
      "  warn_deprecated(\n"
     ]
    },
    {
     "name": "stdout",
     "output_type": "stream",
     "text": [
      "\n",
      "\n",
      "\u001b[1m> Entering new MultiPromptChain chain...\u001b[0m\n",
      "restaurants: {'input': 'What is the best restaurant in Seoul?'}\n",
      "\n",
      "\u001b[1m> Entering new LLMChain chain...\u001b[0m\n",
      "Prompt after formatting:\n",
      "\u001b[32;1m\u001b[1;3m\n",
      "You are a tourist guide. You know many good restaurants around the tourist destination.\n",
      "You can recommend good foods and restaurants.\n",
      "Here is a question:\n",
      "What is the best restaurant in Seoul?\n",
      "\u001b[0m\n",
      "\n",
      "\u001b[1m> Finished chain.\u001b[0m\n",
      "\n",
      "\u001b[1m> Finished chain.\u001b[0m\n",
      "There are many amazing restaurants in Seoul, but one that is highly recommended is Jungsik. It is a Michelin-starred restaurant known for its innovative and modern take on Korean cuisine. The chef, Yim Jung-sik, combines traditional Korean flavors with modern techniques to create a truly unique dining experience. The tasting menu is a must-try for food enthusiasts looking to explore the best of Korean cuisine. Make sure to make a reservation in advance as it is a popular spot among locals and tourists alike.\n"
     ]
    }
   ],
   "source": [
    "from langchain.chains.router import MultiPromptChain\n",
    "from langchain.chains.router.llm_router import LLMRouterChain, RouterOutputParser\n",
    "from langchain.prompts import PromptTemplate\n",
    "from langchain.chains.router.multi_prompt_prompt import MULTI_PROMPT_ROUTER_TEMPLATE\n",
    "from langchain.chains import LLMChain\n",
    "from langchain_openai import ChatOpenAI\n",
    "\n",
    "# 모델 초기화\n",
    "model = ChatOpenAI(\n",
    "    temperature=0,  # 응답 다양성 설정, 0~2, 기본값은 0.7\n",
    "    model='gpt-3.5-turbo'\n",
    ")\n",
    "\n",
    "# 프롬프트 템플릿 정의\n",
    "restaurant_template = \"\"\"\n",
    "You are a tourist guide. You know many good restaurants around the tourist destination.\n",
    "You can recommend good foods and restaurants.\n",
    "Here is a question:\n",
    "{input}\n",
    "\"\"\"\n",
    "\n",
    "transport_template = \"\"\"\n",
    "You are a tourist guide. You have a lot of knowledge in public transportation.\n",
    "You can provide information about public transportation to help tourists get to the tourist destination.\n",
    "Here is a question:\n",
    "{input}\n",
    "\"\"\"\n",
    "\n",
    "destination_template = \"\"\"\n",
    "You are a tourist guide. You know many good tourist places.\n",
    "You can recommend good tourist places to the tourists.\n",
    "Here is a question:\n",
    "{input}\n",
    "\"\"\"\n",
    "\n",
    "# 프롬프트 정보 리스트\n",
    "prompt_infos = [\n",
    "    {\n",
    "        \"name\": \"restaurants\",\n",
    "        \"description\": \"Good for recommending restaurants around the tourist destinations\",\n",
    "        \"prompt_template\": restaurant_template\n",
    "    },\n",
    "    {\n",
    "        \"name\": \"transport\",\n",
    "        \"description\": \"Good for guiding the transport to get the place\",\n",
    "        \"prompt_template\": transport_template\n",
    "    },\n",
    "    {\n",
    "        \"name\": \"destination\",\n",
    "        \"description\": \"Good for recommending place to tour\",\n",
    "        \"prompt_template\": destination_template\n",
    "    }\n",
    "]\n",
    "\n",
    "# 각 체인을 생성하고 딕셔너리에 추가\n",
    "destination_chains = {}\n",
    "for prompt_info in prompt_infos:\n",
    "    name = prompt_info[\"name\"]\n",
    "    prompt = PromptTemplate.from_template(prompt_info[\"prompt_template\"])\n",
    "    chain = LLMChain(llm=model, prompt=prompt, verbose=True)\n",
    "    destination_chains[name] = chain\n",
    "\n",
    "# 기본 체인 설정\n",
    "default_prompt = PromptTemplate.from_template(\"{input}\")\n",
    "default_chain = LLMChain(llm=model, prompt=default_prompt)\n",
    "\n",
    "# 라우터 프롬프트 템플릿 설정\n",
    "destinations = [f\"{p['name']}: {p['description']}\" for p in prompt_infos]\n",
    "destinations_str = \"\\n\".join(destinations)\n",
    "\n",
    "router_template = MULTI_PROMPT_ROUTER_TEMPLATE.format(\n",
    "    destinations=destinations_str\n",
    ")\n",
    "\n",
    "router_prompt = PromptTemplate(\n",
    "    template=router_template,\n",
    "    input_variables=[\"input\"],\n",
    "    output_parser=RouterOutputParser(),\n",
    ")\n",
    "\n",
    "# Router Chain 초기화\n",
    "router_chain = LLMRouterChain.from_llm(model, router_prompt)\n",
    "\n",
    "# MultiPromptChain 설정\n",
    "chain = MultiPromptChain(router_chain=router_chain, \n",
    "                         destination_chains=destination_chains, \n",
    "                         default_chain=default_chain, \n",
    "                         verbose=True\n",
    "                        )\n"
   ]
  },
  {
   "cell_type": "markdown",
   "id": "42bb5024-d445-4891-a58e-990ec144b290",
   "metadata": {},
   "source": [
    "- 레스토랑 추천 관련 질문"
   ]
  },
  {
   "cell_type": "code",
   "execution_count": 5,
   "id": "0630eb34-34df-45bd-b8e1-68ed88b08f7f",
   "metadata": {},
   "outputs": [
    {
     "name": "stdout",
     "output_type": "stream",
     "text": [
      "\n",
      "\n",
      "\u001b[1m> Entering new MultiPromptChain chain...\u001b[0m\n",
      "restaurants: {'input': 'What is the best restaurant in Seoul?'}\n",
      "\n",
      "\u001b[1m> Entering new LLMChain chain...\u001b[0m\n",
      "Prompt after formatting:\n",
      "\u001b[32;1m\u001b[1;3m\n",
      "You are a tourist guide. You know many good restaurants around the tourist destination.\n",
      "You can recommend good foods and restaurants.\n",
      "Here is a question:\n",
      "What is the best restaurant in Seoul?\n",
      "\u001b[0m\n",
      "\n",
      "\u001b[1m> Finished chain.\u001b[0m\n",
      "\n",
      "\u001b[1m> Finished chain.\u001b[0m\n",
      "There are many amazing restaurants in Seoul, but one that is highly recommended is Jungsik. It is a Michelin-starred restaurant known for its innovative and modern take on Korean cuisine. The chef, Yim Jungsik, combines traditional Korean flavors with modern techniques to create a unique dining experience. The restaurant offers a tasting menu that showcases the best of Korean ingredients and flavors. If you are looking for a truly special dining experience in Seoul, Jungsik is definitely worth a visit.\n"
     ]
    }
   ],
   "source": [
    "response = chain.run(\"What is the best restaurant in Seoul?\")\n",
    "print(response)\n",
    "\n",
    "# response = chain.run(\"Can you recommend a good sushi place in Tokyo?\")\n",
    "# print(response)\n",
    "\n",
    "# response = chain.run(\"Where can I find the best pasta in Rome?\")\n",
    "# print(response)"
   ]
  },
  {
   "cell_type": "markdown",
   "id": "0be67f28-11fc-400a-a229-0f136afda69a",
   "metadata": {},
   "source": [
    "- 교통 안내 관련 질문"
   ]
  },
  {
   "cell_type": "code",
   "execution_count": 6,
   "id": "bf37cccd-6138-43ba-bf70-4dda065a820c",
   "metadata": {},
   "outputs": [
    {
     "name": "stdout",
     "output_type": "stream",
     "text": [
      "\n",
      "\n",
      "\u001b[1m> Entering new MultiPromptChain chain...\u001b[0m\n",
      "transport: {'input': 'How can I get from Charles de Gaulle airport to the Eiffel Tower?'}\n",
      "\n",
      "\u001b[1m> Entering new LLMChain chain...\u001b[0m\n",
      "Prompt after formatting:\n",
      "\u001b[32;1m\u001b[1;3m\n",
      "You are a tourist guide. You have a lot of knowledge in public transportation.\n",
      "You can provide information about public transportation to help tourists get to the tourist destination.\n",
      "Here is a question:\n",
      "How can I get from Charles de Gaulle airport to the Eiffel Tower?\n",
      "\u001b[0m\n",
      "\n",
      "\u001b[1m> Finished chain.\u001b[0m\n",
      "\n",
      "\u001b[1m> Finished chain.\u001b[0m\n",
      "To get from Charles de Gaulle airport to the Eiffel Tower, you have a few options for public transportation. \n",
      "\n",
      "1. RER B Train: The RER B train line connects Charles de Gaulle airport to central Paris. You can take the RER B train from the airport to the Saint-Michel-Notre-Dame station and then transfer to the RER C train line to get to the Champ de Mars-Tour Eiffel station, which is the closest station to the Eiffel Tower.\n",
      "\n",
      "2. Roissybus: Another option is to take the Roissybus, which is a direct shuttle bus service that runs between Charles de Gaulle airport and Paris Opera. From there, you can take the metro line 8 to the Ecole Militaire station, which is a short walk from the Eiffel Tower.\n",
      "\n",
      "3. Airport Shuttle: You can also take an airport shuttle service, such as the Air France Bus or other private shuttle services, which offer direct transportation from the airport to various locations in Paris, including the Eiffel Tower.\n",
      "\n",
      "These are some of the most convenient and popular options for getting from Charles de Gaulle airport to the Eiffel Tower using public transportation. Make sure to check the schedules and routes beforehand to plan your journey accordingly.\n"
     ]
    }
   ],
   "source": [
    "response = chain.run(\"How can I get to the Eiffel Tower from Charles de Gaulle airport?\")\n",
    "print(response)\n",
    "\n",
    "# response = chain.run(\"What is the best way to travel from JFK airport to Times Square?\")\n",
    "# print(response)\n",
    "\n",
    "# response = chain.run(\"Is there a direct train from London to Edinburgh?\")\n",
    "# print(response)"
   ]
  },
  {
   "cell_type": "markdown",
   "id": "6b873ac3-819f-4ad5-9c89-18d3d0b6fb05",
   "metadata": {},
   "source": [
    "- 관광지 추천 관련 질문"
   ]
  },
  {
   "cell_type": "code",
   "execution_count": 7,
   "id": "b3546afb-9239-4637-92ee-1381435544a6",
   "metadata": {},
   "outputs": [
    {
     "name": "stdout",
     "output_type": "stream",
     "text": [
      "\n",
      "\n",
      "\u001b[1m> Entering new MultiPromptChain chain...\u001b[0m\n",
      "destination: {'input': 'What are the must-see places in Paris?'}\n",
      "\n",
      "\u001b[1m> Entering new LLMChain chain...\u001b[0m\n",
      "Prompt after formatting:\n",
      "\u001b[32;1m\u001b[1;3m\n",
      "You are a tourist guide. You know many good tourist places.\n",
      "You can recommend good tourist places to the tourists.\n",
      "Here is a question:\n",
      "What are the must-see places in Paris?\n",
      "\u001b[0m\n",
      "\n",
      "\u001b[1m> Finished chain.\u001b[0m\n",
      "\n",
      "\u001b[1m> Finished chain.\u001b[0m\n",
      "There are so many must-see places in Paris, but some of the top recommendations include:\n",
      "\n",
      "1. The Eiffel Tower - Iconic symbol of Paris and offers stunning views of the city from the top.\n",
      "\n",
      "2. The Louvre Museum - Home to thousands of works of art, including the famous Mona Lisa.\n",
      "\n",
      "3. Notre Dame Cathedral - A beautiful example of French Gothic architecture, although currently under restoration after the 2019 fire.\n",
      "\n",
      "4. Montmartre and Sacré-Cœur Basilica - Charming neighborhood with a bohemian vibe and a stunning white-domed basilica at the top of the hill.\n",
      "\n",
      "5. Champs-Élysées and Arc de Triomphe - Famous avenue lined with shops, cafes, and theaters, leading to the iconic Arc de Triomphe.\n",
      "\n",
      "6. Seine River Cruise - A relaxing way to see many of Paris's famous landmarks from the water.\n",
      "\n",
      "7. Palace of Versailles - Located just outside of Paris, this opulent palace and its gardens are a must-see for history and architecture lovers.\n",
      "\n",
      "8. Sainte-Chapelle - A stunning medieval chapel known for its beautiful stained glass windows.\n",
      "\n",
      "9. Musée d'Orsay - Housed in a former railway station, this museum is home to an impressive collection of Impressionist and Post-Impressionist art.\n",
      "\n",
      "10. Luxembourg Gardens - A beautiful and peaceful oasis in the heart of the city, perfect for a leisurely stroll or picnic.\n",
      "\n",
      "These are just a few of the many amazing sights to see in Paris. Enjoy your visit!\n"
     ]
    }
   ],
   "source": [
    "response = chain.run(\"What are the must-see places in Paris?\")\n",
    "print(response)\n",
    "\n",
    "# response = chain.run(\"Can you suggest some good tourist spots in New York City?\")\n",
    "# print(response)\n",
    "\n",
    "# response = chain.run(\"What are the best attractions to visit in Tokyo?\")\n",
    "# print(response)"
   ]
  },
  {
   "cell_type": "markdown",
   "id": "f8b8fcbb-76cd-4183-a07d-c70dcea2d0c4",
   "metadata": {},
   "source": [
    "- 기타 질문 (기본 체인으로 처리)\n",
    "    - 기본 체인은 특정 카테고리에 속하지 않는 질문들을 처리합니다."
   ]
  },
  {
   "cell_type": "code",
   "execution_count": 9,
   "id": "9a767ac8-8745-4eae-99bb-024a6373d694",
   "metadata": {},
   "outputs": [
    {
     "name": "stdout",
     "output_type": "stream",
     "text": [
      "\n",
      "\n",
      "\u001b[1m> Entering new MultiPromptChain chain...\u001b[0m\n",
      "None: {'input': 'What is the capital of France?'}\n",
      "\u001b[1m> Finished chain.\u001b[0m\n",
      "The capital of France is Paris.\n"
     ]
    }
   ],
   "source": [
    "response = chain.run(\"What is the capital of France?\")\n",
    "print(response)\n",
    "\n",
    "# response = chain.run(\"Tell me about the history of the Great Wall of China.\")\n",
    "# print(response)\n",
    "\n",
    "# response = chain.run(\"Who won the Nobel Prize in Literature in 2020?\")\n",
    "# print(response)"
   ]
  },
  {
   "cell_type": "code",
   "execution_count": null,
   "id": "3475e681-744b-451e-8bc2-400d353ac333",
   "metadata": {},
   "outputs": [],
   "source": []
  }
 ],
 "metadata": {
  "kernelspec": {
   "display_name": "Python 3 (ipykernel)",
   "language": "python",
   "name": "python3"
  },
  "language_info": {
   "codemirror_mode": {
    "name": "ipython",
    "version": 3
   },
   "file_extension": ".py",
   "mimetype": "text/x-python",
   "name": "python",
   "nbconvert_exporter": "python",
   "pygments_lexer": "ipython3",
   "version": "3.10.14"
  }
 },
 "nbformat": 4,
 "nbformat_minor": 5
}
