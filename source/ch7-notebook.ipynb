{
 "cells": [
  {
   "cell_type": "markdown",
   "id": "2a3fdaad",
   "metadata": {
    "papermill": {
     "duration": 0.003007,
     "end_time": "2022-02-16T07:04:45.082834",
     "exception": false,
     "start_time": "2022-02-16T07:04:45.079827",
     "status": "completed"
    },
    "tags": []
   },
   "source": [
    "# 7장 범주형 데이터 이진분류 경진대회 환경 세팅된 노트북 양식"
   ]
  },
  {
   "cell_type": "markdown",
   "id": "1cfc0c16-e1ba-45eb-8511-4794c31ca9e6",
   "metadata": {},
   "source": [
    "## 분류모델의 종류와 특징\n",
    "> 선형 모델과 비선형 모델 <br>\n",
    "\n",
    "> 이진 분류와 다중 분류 <br>\n",
    "\n",
    "> 확률적 모델과 결정적 모델"
   ]
  },
  {
   "cell_type": "markdown",
   "id": "af0a7550-d6da-45ca-8cbf-fb08ec01e38e",
   "metadata": {},
   "source": [
    "### 로지스틱 회귀\n",
    "> 로지스틱 함수를 기반으로 확률적 예측 <br>\n",
    "\n",
    "선형모델 / 확률적 모델"
   ]
  },
  {
   "cell_type": "code",
   "execution_count": 8,
   "id": "f76874ed",
   "metadata": {
    "papermill": {
     "duration": 0.001695,
     "end_time": "2022-02-16T07:04:45.086901",
     "exception": false,
     "start_time": "2022-02-16T07:04:45.085206",
     "status": "completed"
    },
    "tags": []
   },
   "outputs": [
    {
     "name": "stdout",
     "output_type": "stream",
     "text": [
      "              precision    recall  f1-score   support\n",
      "\n",
      "           0       1.00      1.00      1.00        10\n",
      "           1       1.00      1.00      1.00        10\n",
      "           2       1.00      1.00      1.00        10\n",
      "\n",
      "    accuracy                           1.00        30\n",
      "   macro avg       1.00      1.00      1.00        30\n",
      "weighted avg       1.00      1.00      1.00        30\n",
      "\n"
     ]
    }
   ],
   "source": [
    "from sklearn.datasets import load_iris\n",
    "import pandas as pd\n",
    "from sklearn.model_selection import train_test_split\n",
    "from sklearn.model_selection import cross_val_score\n",
    "from sklearn.linear_model import LogisticRegression\n",
    "from sklearn.metrics import classification_report\n",
    "import warnings\n",
    "warnings.filterwarnings('ignore')\n",
    "\n",
    "iris = load_iris()\n",
    "X = iris.data\n",
    "y = iris.target\n",
    "X_train, X_test, y_train, y_test = train_test_split(X, y, test_size=.2, random_state=0, stratify = y)\n",
    "\n",
    "log_reg = LogisticRegression()\n",
    "\n",
    "acc = cross_val_score(log_reg, X_train, y_train, cv=10, scoring='accuracy')\n",
    "log_reg.fit(X_train,y_train)\n",
    "\n",
    "pred = log_reg.predict(X_test)\n",
    "\n",
    "print(classification_report(y_test, pred))"
   ]
  },
  {
   "cell_type": "code",
   "execution_count": 12,
   "id": "16878603-af74-41ee-b7ef-15dd8173a6a7",
   "metadata": {},
   "outputs": [
    {
     "data": {
      "text/plain": [
       "array([[10,  0,  0],\n",
       "       [ 0, 10,  0],\n",
       "       [ 0,  0, 10]])"
      ]
     },
     "execution_count": 12,
     "metadata": {},
     "output_type": "execute_result"
    }
   ],
   "source": [
    "from sklearn.metrics import confusion_matrix\n",
    "confusion_matrix(y_test,pred)"
   ]
  },
  {
   "cell_type": "markdown",
   "id": "8959273d-51dc-4a1d-a985-577f55ab231a",
   "metadata": {},
   "source": [
    "확률적 모델이므로 각 객체의 확률을 예측할 수 있음"
   ]
  },
  {
   "cell_type": "code",
   "execution_count": 17,
   "id": "702d49ad-c6e7-492a-b570-a00b6af863ae",
   "metadata": {},
   "outputs": [
    {
     "data": {
      "text/plain": [
       "array([[0.977, 0.023, 0.   ],\n",
       "       [0.008, 0.851, 0.141],\n",
       "       [0.953, 0.047, 0.   ],\n",
       "       [0.   , 0.249, 0.751],\n",
       "       [0.97 , 0.03 , 0.   ],\n",
       "       [0.01 , 0.891, 0.099],\n",
       "       [0.   , 0.18 , 0.819],\n",
       "       [0.979, 0.021, 0.   ],\n",
       "       [0.971, 0.029, 0.   ],\n",
       "       [0.041, 0.948, 0.011],\n",
       "       [0.   , 0.027, 0.973],\n",
       "       [0.029, 0.915, 0.056],\n",
       "       [0.003, 0.784, 0.213],\n",
       "       [0.   , 0.108, 0.892],\n",
       "       [0.019, 0.956, 0.025],\n",
       "       [0.   , 0.21 , 0.789],\n",
       "       [0.   , 0.193, 0.806],\n",
       "       [0.007, 0.895, 0.098],\n",
       "       [0.003, 0.83 , 0.167],\n",
       "       [0.977, 0.023, 0.   ],\n",
       "       [0.981, 0.019, 0.   ],\n",
       "       [0.001, 0.24 , 0.759],\n",
       "       [0.   , 0.113, 0.887],\n",
       "       [0.   , 0.162, 0.838],\n",
       "       [0.978, 0.022, 0.   ],\n",
       "       [0.003, 0.766, 0.232],\n",
       "       [0.021, 0.922, 0.057],\n",
       "       [0.   , 0.008, 0.992],\n",
       "       [0.979, 0.021, 0.   ],\n",
       "       [0.964, 0.036, 0.   ]])"
      ]
     },
     "execution_count": 17,
     "metadata": {},
     "output_type": "execute_result"
    }
   ],
   "source": [
    "pred_proba = log_reg.predict_proba(X_test).round(3)\n",
    "pred_proba"
   ]
  },
  {
   "cell_type": "markdown",
   "id": "b4d9c41e-a7ac-48fa-b27f-8ef4cdf46b08",
   "metadata": {
    "tags": []
   },
   "source": [
    "### 나이브베이즈\n",
    "> 나이브베이즈 확률에 따라 분류, 조건부확률에 기반하므로 스팸메일 분류 등에 많이 쓰인다. \n",
    "\n",
    "비선형 모델 / 확률적 모델"
   ]
  },
  {
   "cell_type": "code",
   "execution_count": 18,
   "id": "31c816c7-f1b1-4315-ac95-755012144918",
   "metadata": {},
   "outputs": [
    {
     "name": "stdout",
     "output_type": "stream",
     "text": [
      "              precision    recall  f1-score   support\n",
      "\n",
      "           0       1.00      1.00      1.00        10\n",
      "           1       0.82      0.90      0.86        10\n",
      "           2       0.89      0.80      0.84        10\n",
      "\n",
      "    accuracy                           0.90        30\n",
      "   macro avg       0.90      0.90      0.90        30\n",
      "weighted avg       0.90      0.90      0.90        30\n",
      "\n"
     ]
    }
   ],
   "source": [
    "from sklearn.naive_bayes import CategoricalNB\n",
    "\n",
    "nb_clf = CategoricalNB()\n",
    "\n",
    "acc = cross_val_score(nb_clf, X_train, y_train, cv=10, scoring='accuracy')\n",
    "nb_clf.fit(X_train,y_train)\n",
    "\n",
    "pred = nb_clf.predict(X_test)\n",
    "\n",
    "print(classification_report(y_test, pred))"
   ]
  },
  {
   "cell_type": "code",
   "execution_count": 19,
   "id": "cdd0f02b-1231-4019-96dd-e78f3f7f30cb",
   "metadata": {},
   "outputs": [
    {
     "data": {
      "text/plain": [
       "array([[10,  0,  0],\n",
       "       [ 0,  9,  1],\n",
       "       [ 0,  2,  8]])"
      ]
     },
     "execution_count": 19,
     "metadata": {},
     "output_type": "execute_result"
    }
   ],
   "source": [
    "from sklearn.metrics import confusion_matrix\n",
    "confusion_matrix(y_test,pred)"
   ]
  },
  {
   "cell_type": "code",
   "execution_count": 21,
   "id": "93a88335-c363-40a1-98ba-b0152b4c2b3d",
   "metadata": {},
   "outputs": [
    {
     "data": {
      "text/plain": [
       "array([[1.   , 0.   , 0.   ],\n",
       "       [0.   , 0.989, 0.011],\n",
       "       [1.   , 0.   , 0.   ],\n",
       "       [0.   , 0.266, 0.734],\n",
       "       [1.   , 0.   , 0.   ],\n",
       "       [0.   , 0.989, 0.011],\n",
       "       [0.   , 0.002, 0.998],\n",
       "       [1.   , 0.   , 0.   ],\n",
       "       [1.   , 0.   , 0.   ],\n",
       "       [0.   , 0.995, 0.005],\n",
       "       [0.   , 0.002, 0.998],\n",
       "       [0.003, 0.964, 0.034],\n",
       "       [0.   , 0.938, 0.062],\n",
       "       [0.   , 0.002, 0.998],\n",
       "       [0.   , 0.989, 0.011],\n",
       "       [0.001, 0.691, 0.308],\n",
       "       [0.002, 0.039, 0.959],\n",
       "       [0.   , 0.822, 0.178],\n",
       "       [0.001, 0.323, 0.677],\n",
       "       [1.   , 0.   , 0.   ],\n",
       "       [1.   , 0.   , 0.   ],\n",
       "       [0.003, 0.63 , 0.367],\n",
       "       [0.   , 0.266, 0.734],\n",
       "       [0.   , 0.011, 0.988],\n",
       "       [1.   , 0.   , 0.   ],\n",
       "       [0.   , 0.822, 0.178],\n",
       "       [0.   , 0.989, 0.011],\n",
       "       [0.   , 0.002, 0.998],\n",
       "       [1.   , 0.   , 0.   ],\n",
       "       [1.   , 0.   , 0.   ]])"
      ]
     },
     "execution_count": 21,
     "metadata": {},
     "output_type": "execute_result"
    }
   ],
   "source": [
    "nb_clf.predict_proba(X_test).round(3)"
   ]
  },
  {
   "cell_type": "markdown",
   "id": "23a63aa7-8cab-4a1c-aecc-c03e6788d757",
   "metadata": {},
   "source": [
    "사이킷런에서는 총 5가지 종류의 NB 함수를 지원\n",
    " \n",
    "\n",
    "- BernoulliNB : 가장 기본적인 NB 함수로 이진 분류 시에 사용\n",
    "- CategoricalNB : 분류할 카테고리의 종류가 3가지 이상일 때 사용\n",
    "- MultinomialNB : 텍스트의 등장 횟수처럼 이산적인 값의 수를 예측할 때 사용\n",
    "- GaussianNB : 예측할 값이 연속적인 값인 경우에 사용\n",
    "- ComplementNB : target label의 balance가 맞지 않는 불균형한 상황에 사용\n",
    "\n",
    " "
   ]
  },
  {
   "cell_type": "markdown",
   "id": "7d0237da-1ceb-4315-b5a4-ed69aa8ec025",
   "metadata": {
    "tags": []
   },
   "source": [
    "### 결정트리\n",
    "> 엔트로피 를 최소화 해주는 변수 찾아내는 방식으로 변수를 추려내어 분류로 가장 과정의 추론이 쉽다\n",
    "\n",
    "비선형 모델 / 결정적 모델"
   ]
  },
  {
   "cell_type": "code",
   "execution_count": 11,
   "id": "5a2a797d-2109-4901-8c5c-110662845701",
   "metadata": {},
   "outputs": [
    {
     "name": "stdout",
     "output_type": "stream",
     "text": [
      "평균 교차검증 정확도 :  0.667\n",
      "평균 교차검증 정확도 :  0.925\n",
      "평균 교차검증 정확도 :  0.942\n"
     ]
    }
   ],
   "source": [
    "from sklearn.tree import DecisionTreeClassifier\n",
    "import numpy as np\n",
    "\n",
    "dt_clf_1 = DecisionTreeClassifier(max_depth=1, random_state=100)\n",
    "dt_clf_3 = DecisionTreeClassifier(max_depth=3, random_state=100)\n",
    "dt_clf_5 = DecisionTreeClassifier(max_depth=5, random_state=100)\n",
    "\n",
    "models = [dt_clf_1,dt_clf_3,dt_clf_5]\n",
    "\n",
    "for i,m in enumerate(models):\n",
    "    scores = cross_val_score(m, X_train, y_train, cv=10, scoring='accuracy')\n",
    "    print(\"평균 교차검증 정확도 : \", np.round(np.mean(scores), 3))"
   ]
  },
  {
   "cell_type": "code",
   "execution_count": 14,
   "id": "b7c1f94f-0e7e-4c33-9f4c-da052ee8fee6",
   "metadata": {},
   "outputs": [
    {
     "name": "stdout",
     "output_type": "stream",
     "text": [
      "의사결정나무(교차검증 후) 예측 정확도 : 0.96667\n",
      "[[10  0  0]\n",
      " [ 0 10  0]\n",
      " [ 0  1  9]]\n"
     ]
    }
   ],
   "source": [
    "dt_clf_5.fit(X_train, y_train)\n",
    "pred = dt_clf_5.predict(X_test)\n",
    "\n",
    "from sklearn.metrics import accuracy_score\n",
    "print(\"의사결정나무(교차검증 후) 예측 정확도 : {0:.5f}\".format(accuracy_score(y_test, pred)))\n",
    "print()\n",
    "print(confusion_matrix(y_test,pred))"
   ]
  },
  {
   "cell_type": "markdown",
   "id": "c8cc5518-b7ce-4c0d-922d-3969f6454d03",
   "metadata": {
    "tags": []
   },
   "source": [
    "### 랜덤포레스트 분류\n",
    "> 여러개의 트리를 만들어 begging 연산하는 앙상블 모델로 빠르고 효과 좋음\n",
    "\n",
    "비선형 모델 / 확률적 모델"
   ]
  },
  {
   "cell_type": "code",
   "execution_count": 22,
   "id": "783760c9-c68c-420e-b905-08f521404833",
   "metadata": {
    "collapsed": true,
    "jupyter": {
     "outputs_hidden": true
    },
    "tags": []
   },
   "outputs": [
    {
     "name": "stdout",
     "output_type": "stream",
     "text": [
      "[[1.  0.  0. ]\n",
      " [1.  0.  0. ]\n",
      " [1.  0.  0. ]\n",
      " [1.  0.  0. ]\n",
      " [1.  0.  0. ]\n",
      " [1.  0.  0. ]\n",
      " [1.  0.  0. ]\n",
      " [1.  0.  0. ]\n",
      " [1.  0.  0. ]\n",
      " [1.  0.  0. ]\n",
      " [1.  0.  0. ]\n",
      " [1.  0.  0. ]\n",
      " [1.  0.  0. ]\n",
      " [1.  0.  0. ]\n",
      " [1.  0.  0. ]\n",
      " [1.  0.  0. ]\n",
      " [1.  0.  0. ]\n",
      " [1.  0.  0. ]\n",
      " [1.  0.  0. ]\n",
      " [1.  0.  0. ]\n",
      " [1.  0.  0. ]\n",
      " [1.  0.  0. ]\n",
      " [1.  0.  0. ]\n",
      " [1.  0.  0. ]\n",
      " [1.  0.  0. ]\n",
      " [1.  0.  0. ]\n",
      " [1.  0.  0. ]\n",
      " [1.  0.  0. ]\n",
      " [1.  0.  0. ]\n",
      " [1.  0.  0. ]\n",
      " [1.  0.  0. ]\n",
      " [1.  0.  0. ]\n",
      " [1.  0.  0. ]\n",
      " [1.  0.  0. ]\n",
      " [1.  0.  0. ]\n",
      " [1.  0.  0. ]\n",
      " [1.  0.  0. ]\n",
      " [1.  0.  0. ]\n",
      " [1.  0.  0. ]\n",
      " [1.  0.  0. ]\n",
      " [1.  0.  0. ]\n",
      " [1.  0.  0. ]\n",
      " [1.  0.  0. ]\n",
      " [1.  0.  0. ]\n",
      " [1.  0.  0. ]\n",
      " [1.  0.  0. ]\n",
      " [1.  0.  0. ]\n",
      " [1.  0.  0. ]\n",
      " [1.  0.  0. ]\n",
      " [1.  0.  0. ]\n",
      " [0.  1.  0. ]\n",
      " [0.  1.  0. ]\n",
      " [0.  0.9 0.1]\n",
      " [0.  1.  0. ]\n",
      " [0.  1.  0. ]\n",
      " [0.  1.  0. ]\n",
      " [0.  0.9 0.1]\n",
      " [0.  0.9 0.1]\n",
      " [0.  1.  0. ]\n",
      " [0.  1.  0. ]\n",
      " [0.  0.9 0.1]\n",
      " [0.  1.  0. ]\n",
      " [0.  0.9 0.1]\n",
      " [0.  1.  0. ]\n",
      " [0.  1.  0. ]\n",
      " [0.  1.  0. ]\n",
      " [0.  1.  0. ]\n",
      " [0.  1.  0. ]\n",
      " [0.  0.9 0.1]\n",
      " [0.  1.  0. ]\n",
      " [0.  0.8 0.2]\n",
      " [0.  1.  0. ]\n",
      " [0.  0.9 0.1]\n",
      " [0.  1.  0. ]\n",
      " [0.  1.  0. ]\n",
      " [0.  1.  0. ]\n",
      " [0.  1.  0. ]\n",
      " [0.  0.5 0.5]\n",
      " [0.  1.  0. ]\n",
      " [0.  1.  0. ]\n",
      " [0.  1.  0. ]\n",
      " [0.  1.  0. ]\n",
      " [0.  1.  0. ]\n",
      " [0.  0.7 0.3]\n",
      " [0.  1.  0. ]\n",
      " [0.  1.  0. ]\n",
      " [0.  1.  0. ]\n",
      " [0.  1.  0. ]\n",
      " [0.  1.  0. ]\n",
      " [0.  1.  0. ]\n",
      " [0.  1.  0. ]\n",
      " [0.  1.  0. ]\n",
      " [0.  1.  0. ]\n",
      " [0.  1.  0. ]\n",
      " [0.  1.  0. ]\n",
      " [0.  1.  0. ]\n",
      " [0.  1.  0. ]\n",
      " [0.  1.  0. ]\n",
      " [0.  1.  0. ]\n",
      " [0.  1.  0. ]\n",
      " [0.  0.  1. ]\n",
      " [0.  0.  1. ]\n",
      " [0.  0.  1. ]\n",
      " [0.  0.  1. ]\n",
      " [0.  0.  1. ]\n",
      " [0.  0.  1. ]\n",
      " [0.  0.3 0.7]\n",
      " [0.  0.  1. ]\n",
      " [0.  0.  1. ]\n",
      " [0.  0.  1. ]\n",
      " [0.  0.  1. ]\n",
      " [0.  0.  1. ]\n",
      " [0.  0.  1. ]\n",
      " [0.  0.  1. ]\n",
      " [0.  0.  1. ]\n",
      " [0.  0.  1. ]\n",
      " [0.  0.  1. ]\n",
      " [0.  0.  1. ]\n",
      " [0.  0.  1. ]\n",
      " [0.  0.2 0.8]\n",
      " [0.  0.  1. ]\n",
      " [0.  0.1 0.9]\n",
      " [0.  0.  1. ]\n",
      " [0.  0.2 0.8]\n",
      " [0.  0.  1. ]\n",
      " [0.  0.  1. ]\n",
      " [0.  0.3 0.7]\n",
      " [0.  0.2 0.8]\n",
      " [0.  0.  1. ]\n",
      " [0.  0.1 0.9]\n",
      " [0.  0.  1. ]\n",
      " [0.  0.  1. ]\n",
      " [0.  0.  1. ]\n",
      " [0.  0.1 0.9]\n",
      " [0.  0.2 0.8]\n",
      " [0.  0.  1. ]\n",
      " [0.  0.  1. ]\n",
      " [0.  0.  1. ]\n",
      " [0.  0.3 0.7]\n",
      " [0.  0.  1. ]\n",
      " [0.  0.  1. ]\n",
      " [0.  0.  1. ]\n",
      " [0.  0.  1. ]\n",
      " [0.  0.  1. ]\n",
      " [0.  0.  1. ]\n",
      " [0.  0.  1. ]\n",
      " [0.  0.  1. ]\n",
      " [0.  0.  1. ]\n",
      " [0.  0.  1. ]\n",
      " [0.  0.  1. ]]\n"
     ]
    }
   ],
   "source": [
    "from sklearn.datasets import load_iris\n",
    "from sklearn.ensemble import RandomForestClassifier\n",
    "\n",
    "X, y = load_iris(return_X_y=True) # iris 데이터 로드\n",
    "rf = RandomForestClassifier(n_estimators=10, random_state=42) # 앙상블 모델 객체 생성\n",
    "rf.fit(X, y) # 모델 훈련\n",
    "proba = rf.predict_proba(X) # 예측 확률 계산\n",
    "print(proba) # 예측 확률 출력"
   ]
  },
  {
   "cell_type": "markdown",
   "id": "71a6f35c-ca7b-4f4f-b43e-c2952e010a33",
   "metadata": {},
   "source": [
    "확률로 예측하나, 소프트보팅 방식의 확률이므로 로지스틱이나, 나이브베이즈와는 차이가 있음"
   ]
  },
  {
   "cell_type": "code",
   "execution_count": 23,
   "id": "7ed3cdf3-16bd-450d-b9ef-022123f32cb1",
   "metadata": {},
   "outputs": [
    {
     "name": "stdout",
     "output_type": "stream",
     "text": [
      "[[10  0  0]\n",
      " [ 0 10  0]\n",
      " [ 0  0 10]]\n"
     ]
    }
   ],
   "source": [
    "pred = rf.predict(X_test)\n",
    "print(confusion_matrix(y_test,pred))"
   ]
  },
  {
   "cell_type": "markdown",
   "id": "a17ad555-8093-40e0-8c30-ccf723ca78a5",
   "metadata": {
    "tags": []
   },
   "source": [
    "### 서포트벡터머신 (SVM)\n",
    "> 하나의 회귀선으로 구분이 어려운 문제를 보조선을 그어서 마진을 통해 구분\n",
    "\n",
    "선형모델 / 결정적 모델\n"
   ]
  },
  {
   "cell_type": "code",
   "execution_count": 26,
   "id": "f229ee1e-2923-44d3-8b93-c7f2f567195d",
   "metadata": {},
   "outputs": [
    {
     "name": "stdout",
     "output_type": "stream",
     "text": [
      "[[10  0  0]\n",
      " [ 0 10  0]\n",
      " [ 0  0 10]]\n"
     ]
    }
   ],
   "source": [
    "from sklearn.datasets import load_iris\n",
    "from sklearn.svm import SVC\n",
    "\n",
    "X, y = load_iris(return_X_y=True) # iris 데이터 로드\n",
    "svm = SVC(kernel='rbf', random_state=42) # SVM 모델 객체 생성\n",
    "svm.fit(X, y) # 모델 훈련\n",
    "pred = svm.predict(X_test) # 예측 수행\n",
    "print(confusion_matrix(y_test,pred))"
   ]
  }
 ],
 "metadata": {
  "kernelspec": {
   "display_name": "Python 3",
   "language": "python",
   "name": "python3"
  },
  "language_info": {
   "codemirror_mode": {
    "name": "ipython",
    "version": 3
   },
   "file_extension": ".py",
   "mimetype": "text/x-python",
   "name": "python",
   "nbconvert_exporter": "python",
   "pygments_lexer": "ipython3",
   "version": "3.8.10"
  },
  "papermill": {
   "default_parameters": {},
   "duration": 7.646679,
   "end_time": "2022-02-16T07:04:45.598176",
   "environment_variables": {},
   "exception": null,
   "input_path": "__notebook__.ipynb",
   "output_path": "__notebook__.ipynb",
   "parameters": {},
   "start_time": "2022-02-16T07:04:37.951497",
   "version": "2.3.3"
  },
  "widgets": {
   "application/vnd.jupyter.widget-state+json": {
    "state": {},
    "version_major": 2,
    "version_minor": 0
   }
  }
 },
 "nbformat": 4,
 "nbformat_minor": 5
}
