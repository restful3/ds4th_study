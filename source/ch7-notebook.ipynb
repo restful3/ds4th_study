{
 "cells": [
  {
   "cell_type": "markdown",
   "id": "2a3fdaad",
   "metadata": {
    "papermill": {
     "duration": 0.003007,
     "end_time": "2022-02-16T07:04:45.082834",
     "exception": false,
     "start_time": "2022-02-16T07:04:45.079827",
     "status": "completed"
    },
    "tags": []
   },
   "source": [
    "# 7장 범주형 데이터 이진분류 경진대회 환경 세팅된 노트북 양식"
   ]
  },
  {
   "cell_type": "code",
   "execution_count": null,
   "id": "f76874ed",
   "metadata": {
    "papermill": {
     "duration": 0.001695,
     "end_time": "2022-02-16T07:04:45.086901",
     "exception": false,
     "start_time": "2022-02-16T07:04:45.085206",
     "status": "completed"
    },
    "tags": []
   },
   "outputs": [],
   "source": []
  }
 ],
 "metadata": {
  "kernelspec": {
   "display_name": "Python 3",
   "language": "python",
   "name": "python3"
  },
  "language_info": {
   "codemirror_mode": {
    "name": "ipython",
    "version": 3
   },
   "file_extension": ".py",
   "mimetype": "text/x-python",
   "name": "python",
   "nbconvert_exporter": "python",
   "pygments_lexer": "ipython3",
   "version": "3.7.10"
  },
  "papermill": {
   "default_parameters": {},
   "duration": 7.646679,
   "end_time": "2022-02-16T07:04:45.598176",
   "environment_variables": {},
   "exception": null,
   "input_path": "__notebook__.ipynb",
   "output_path": "__notebook__.ipynb",
   "parameters": {},
   "start_time": "2022-02-16T07:04:37.951497",
   "version": "2.3.3"
  }
 },
 "nbformat": 4,
 "nbformat_minor": 5
}
