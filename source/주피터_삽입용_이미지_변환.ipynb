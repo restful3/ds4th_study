{
 "cells": [
  {
   "cell_type": "code",
   "execution_count": 9,
   "id": "19e8a857-635a-4899-be3c-aa2e871435ac",
   "metadata": {},
   "outputs": [
    {
     "name": "stdout",
     "output_type": "stream",
     "text": [
      "랭체인_완벽_입문\t\t 주피터_삽입용_이미지_변환.ipynb  propose03.png\n",
      "밑바닥부터_시작하는_딥러닝_4\t propose01.png\n",
      "구글드라이브_github연동_1.ipynb  propose02.png\n"
     ]
    }
   ],
   "source": [
    "!ls"
   ]
  },
  {
   "cell_type": "code",
   "execution_count": 1,
   "id": "2c4f921b-bf13-461d-9777-e0e114b1418d",
   "metadata": {},
   "outputs": [],
   "source": [
    "import base64\n",
    "\n",
    "input_file = \"./0_f53uQ4clZAE5DoAP.png\" # 캡처한 이미지 이름\n",
    "output_file = input_file[:-3] + 'txt' # 출력 이미지 이름\n",
    "\n",
    "with open(input_file, \"rb\") as image_file:\n",
    "    encoded_string = base64.b64encode(image_file.read())\n",
    "\n",
    "encoded_string = str(encoded_string)    \n",
    "encoded_string = encoded_string[2:-1]  # b' 와 마지막 ' 제거\n",
    "\n",
    "encoded_string = f\"![{input_file[:-4]}](data:image/png;base64,\" +encoded_string + \")\" # 삽입용 text 만들기\n",
    "\n",
    "with open(output_file, 'w') as f:\n",
    "    f.write(encoded_string)"
   ]
  },
  {
   "cell_type": "code",
   "execution_count": null,
   "id": "cbc41199-96ca-4ca5-83b0-e84ef4eda717",
   "metadata": {},
   "outputs": [],
   "source": []
  }
 ],
 "metadata": {
  "kernelspec": {
   "display_name": "Python 3 (ipykernel)",
   "language": "python",
   "name": "python3"
  },
  "language_info": {
   "codemirror_mode": {
    "name": "ipython",
    "version": 3
   },
   "file_extension": ".py",
   "mimetype": "text/x-python",
   "name": "python",
   "nbconvert_exporter": "python",
   "pygments_lexer": "ipython3",
   "version": "3.10.14"
  }
 },
 "nbformat": 4,
 "nbformat_minor": 5
}
