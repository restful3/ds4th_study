{
 "cells": [
  {
   "cell_type": "markdown",
   "id": "bf1cf819",
   "metadata": {},
   "source": [
    "## 1. 환경 설정"
   ]
  },
  {
   "cell_type": "markdown",
   "id": "bc0cb932",
   "metadata": {},
   "source": [
    "`(1) Env 환경변수`"
   ]
  },
  {
   "cell_type": "code",
   "execution_count": 1,
   "id": "423dec5b",
   "metadata": {},
   "outputs": [
    {
     "data": {
      "text/plain": [
       "True"
      ]
     },
     "execution_count": 1,
     "metadata": {},
     "output_type": "execute_result"
    }
   ],
   "source": [
    "#https://teddynote.com/10-RAG%EB%B9%84%EB%B2%95%EB%85%B8%ED%8A%B8/%ED%99%98%EA%B2%BD%20%EC%84%A4%EC%A0%95%20(Windows)/\n",
    "from dotenv import load_dotenv\n",
    "load_dotenv()"
   ]
  },
  {
   "cell_type": "markdown",
   "id": "b00b09cb",
   "metadata": {},
   "source": [
    "`(2) 라이브러리`"
   ]
  },
  {
   "cell_type": "code",
   "execution_count": 2,
   "id": "54412ba6",
   "metadata": {},
   "outputs": [],
   "source": [
    "import re\n",
    "import os, json\n",
    "\n",
    "from textwrap import dedent\n",
    "from pprint import pprint\n",
    "\n",
    "import warnings\n",
    "warnings.filterwarnings(\"ignore\")"
   ]
  },
  {
   "cell_type": "markdown",
   "id": "50e67655",
   "metadata": {},
   "source": [
    "## 2. 도구 호출 (Tool Calling)\n",
    "- 도구 호출은 LLM이 특정 작업을 수행하기 위해 외부 기능을 호출하는 기능\n",
    "- 이를 통해 LLM은 외부 API 통합 등 더 복잡한 작업을 수행할 수 있음 "
   ]
  },
  {
   "cell_type": "markdown",
   "id": "7bdccc6b",
   "metadata": {},
   "source": [
    "### 2-1. 랭체인 내장 도구\n",
    "- Tavily 웹 검색 도구 (예시)"
   ]
  },
  {
   "cell_type": "markdown",
   "id": "a6f7e257",
   "metadata": {},
   "source": [
    "`(1) 도구(tool) 정의하기`"
   ]
  },
  {
   "cell_type": "code",
   "execution_count": 3,
   "id": "7c85ed38",
   "metadata": {},
   "outputs": [
    {
     "name": "stdout",
     "output_type": "stream",
     "text": [
      "{'url': 'https://month.foodbank.co.kr/section/section_view.php?secIndex=1779&page=1&section=008012', 'content': '오목교역은 양천구 상권의 가장 핵심이다. 북쪽으로는 오피스 밀집지역 SBS 방송국과 목동아파트 1~7단지가, 남쪽으로는 양천구청, 관공서 및 목동아파트'}\n",
      "----------------------------------------------------------------------------------------------------\n",
      "{'url': 'https://www.youtube.com/watch?v=5uBLc8MmFFI', 'content': '#양천구 #목동 #신정동 #신월동 #목동신시가지 #목동아파트 #목동재건축 #신정뉴타운\\n#호반써밋목동 #목동힐스테이트아파트 #래미안목동아델리체 #목동센트럴아이파크위브\\n#도시 #도시분석 #도시리뷰 #도시리뷰어 #city #cityreview #cityreviewer\\n#지역분석 #지역공부 #지역전망 #임장 #신도시 #재개발 #재건축 #택지개발 \\n 11 comments [...] [CC] 서남권 대표적인 주거단지 양천구, 목동 신시가지를 비롯한 구석구석을 살펴보자! \\n 도시리뷰어 | city reviewer \\n 144 likes \\n 8646 views \\n 11 Mar 2023 \\n 오늘은 서남권 대표적인 주거단지 양천구를 살펴볼께요.\\n\\n제가 마지막으로 올렸던 영상, 영등포구가 서남권의 대표적인 일자리를 책임지는 지역이라면, 양천구는 그보다는 한적하고 여유로운 주거단지의 느낌입니다.\\n\\n양천구하면 목동을 먼저 떠올리실텐데요.\\n목동 외에도 신정동, 신월동 각각 1/3씩 면적을 차지하고 있습니다.\\n그럼, 양천구의 이모저모 그리고 재건축, 재개발 소식을 총체적으로 살펴볼께요!'}\n",
      "----------------------------------------------------------------------------------------------------\n"
     ]
    }
   ],
   "source": [
    "from langchain_community.tools import TavilySearchResults\n",
    "\n",
    "# 검색할 쿼리 설정\n",
    "query = \"양천구의 상권 규모와 아파트단지를 추천해주세요\"\n",
    "\n",
    "# Tavily 검색 도구 초기화 (최대 2개의 결과 반환)\n",
    "web_search = TavilySearchResults(max_results=2)\n",
    "\n",
    "# 웹 검색 실행\n",
    "search_results = web_search.invoke(query)\n",
    "\n",
    "# 검색 결과 출력\n",
    "for result in search_results:\n",
    "    print(result)  \n",
    "    print(\"-\" * 100)  "
   ]
  },
  {
   "cell_type": "code",
   "execution_count": 5,
   "id": "b6791575",
   "metadata": {},
   "outputs": [
    {
     "name": "stdout",
     "output_type": "stream",
     "text": [
      "자료형: \n",
      "<class 'langchain_community.tools.tavily_search.tool.TavilySearchResults'>\n",
      "----------------------------------------------------------------------------------------------------\n",
      "name: \n",
      "tavily_search_results_json\n",
      "----------------------------------------------------------------------------------------------------\n",
      "description: \n",
      "('A search engine optimized for comprehensive, accurate, and trusted results. '\n",
      " 'Useful for when you need to answer questions about current events. Input '\n",
      " 'should be a search query.')\n",
      "----------------------------------------------------------------------------------------------------\n",
      "schema: \n",
      "<class 'langchain_community.tools.tavily_search.tool.TavilyInput'>\n",
      "----------------------------------------------------------------------------------------------------\n"
     ]
    }
   ],
   "source": [
    "# 도구 속성\n",
    "print(\"자료형: \")\n",
    "print(type(web_search))\n",
    "print(\"-\"*100)\n",
    "\n",
    "print(\"name: \")\n",
    "print(web_search.name)\n",
    "print(\"-\"*100)\n",
    "\n",
    "print(\"description: \")\n",
    "pprint(web_search.description)\n",
    "print(\"-\"*100)\n",
    "\n",
    "print(\"schema: \")\n",
    "pprint(web_search.args_schema)\n",
    "print(\"-\"*100)"
   ]
  },
  {
   "cell_type": "markdown",
   "id": "88b600d9",
   "metadata": {},
   "source": [
    "`(2) 도구(tool) 호출하기`"
   ]
  },
  {
   "cell_type": "code",
   "execution_count": 6,
   "id": "51a3633c",
   "metadata": {},
   "outputs": [
    {
     "name": "stdout",
     "output_type": "stream",
     "text": [
      "AIMessage(content='안녕하세요! 무엇을 도와드릴까요?', additional_kwargs={'refusal': None}, response_metadata={'token_usage': {'completion_tokens': 13, 'prompt_tokens': 82, 'total_tokens': 95, 'completion_tokens_details': {'accepted_prediction_tokens': 0, 'audio_tokens': 0, 'reasoning_tokens': 0, 'rejected_prediction_tokens': 0}, 'prompt_tokens_details': {'audio_tokens': 0, 'cached_tokens': 0}}, 'model_name': 'gpt-4.1-mini-2025-04-14', 'system_fingerprint': 'fp_79b79be41f', 'finish_reason': 'stop', 'logprobs': None}, id='run--04fcdbf3-4002-475e-8da1-09857171fc4d-0', usage_metadata={'input_tokens': 82, 'output_tokens': 13, 'total_tokens': 95})\n",
      "----------------------------------------------------------------------------------------------------\n",
      "'안녕하세요! 무엇을 도와드릴까요?'\n",
      "----------------------------------------------------------------------------------------------------\n",
      "[]\n",
      "----------------------------------------------------------------------------------------------------\n"
     ]
    }
   ],
   "source": [
    "from langchain_openai import ChatOpenAI\n",
    "\n",
    "# ChatOpenAI 모델 초기화\n",
    "llm = ChatOpenAI(model=\"gpt-4.1-mini\")\n",
    "\n",
    "# 웹 검색 도구를 직접 LLM에 바인딩 가능\n",
    "llm_with_tools = llm.bind_tools(tools=[web_search])\n",
    "\n",
    "# 도구 호출이 필요 없는 LLM 호출을 수행\n",
    "query = \"안녕하세요.\"\n",
    "ai_msg = llm_with_tools.invoke(query)\n",
    "\n",
    "# LLM의 전체 출력 결과 출력\n",
    "pprint(ai_msg)\n",
    "print(\"-\" * 100)\n",
    "\n",
    "# 메시지 content 속성 (텍스트 출력)\n",
    "pprint(ai_msg.content)\n",
    "print(\"-\" * 100)\n",
    "\n",
    "# LLM이 호출한 도구 정보 출력\n",
    "pprint(ai_msg.tool_calls)\n",
    "print(\"-\" * 100)"
   ]
  },
  {
   "cell_type": "code",
   "execution_count": 7,
   "id": "dd8df009",
   "metadata": {},
   "outputs": [
    {
     "name": "stdout",
     "output_type": "stream",
     "text": [
      "AIMessage(content='', additional_kwargs={'tool_calls': [{'id': 'call_3BEY50dDQges5HzLXJYVURQE', 'function': {'arguments': '{\"query\":\"20평대 아파트 평균가격 가장 높은 구\"}', 'name': 'tavily_search_results_json'}, 'type': 'function'}], 'refusal': None}, response_metadata={'token_usage': {'completion_tokens': 27, 'prompt_tokens': 93, 'total_tokens': 120, 'completion_tokens_details': {'accepted_prediction_tokens': 0, 'audio_tokens': 0, 'reasoning_tokens': 0, 'rejected_prediction_tokens': 0}, 'prompt_tokens_details': {'audio_tokens': 0, 'cached_tokens': 0}}, 'model_name': 'gpt-4.1-mini-2025-04-14', 'system_fingerprint': 'fp_79b79be41f', 'finish_reason': 'tool_calls', 'logprobs': None}, id='run--59b7da2d-3553-49c6-8916-7ade24d840ea-0', tool_calls=[{'name': 'tavily_search_results_json', 'args': {'query': '20평대 아파트 평균가격 가장 높은 구'}, 'id': 'call_3BEY50dDQges5HzLXJYVURQE', 'type': 'tool_call'}], usage_metadata={'input_tokens': 93, 'output_tokens': 27, 'total_tokens': 120})\n",
      "----------------------------------------------------------------------------------------------------\n",
      "''\n",
      "----------------------------------------------------------------------------------------------------\n",
      "[{'args': {'query': '20평대 아파트 평균가격 가장 높은 구'},\n",
      "  'id': 'call_3BEY50dDQges5HzLXJYVURQE',\n",
      "  'name': 'tavily_search_results_json',\n",
      "  'type': 'tool_call'}]\n",
      "----------------------------------------------------------------------------------------------------\n"
     ]
    }
   ],
   "source": [
    "# 도구 호출이 필요한 LLM 호출을 수행\n",
    "query = \"20평대 아파트 평균가격이 가장 높은 구를 알려주세요\"\n",
    "ai_msg = llm_with_tools.invoke(query)\n",
    "\n",
    "# LLM의 전체 출력 결과 출력\n",
    "pprint(ai_msg)\n",
    "print(\"-\" * 100)\n",
    "\n",
    "# 메시지 content 속성 (텍스트 출력)\n",
    "pprint(ai_msg.content)\n",
    "print(\"-\" * 100)\n",
    "\n",
    "# LLM이 호출한 도구 정보 출력\n",
    "pprint(ai_msg.tool_calls)\n",
    "print(\"-\" * 100)"
   ]
  },
  {
   "cell_type": "code",
   "execution_count": 8,
   "id": "84d0d45d",
   "metadata": {},
   "outputs": [
    {
     "data": {
      "text/plain": [
       "{'name': 'tavily_search_results_json',\n",
       " 'args': {'query': '20평대 아파트 평균가격 가장 높은 구'},\n",
       " 'id': 'call_3BEY50dDQges5HzLXJYVURQE',\n",
       " 'type': 'tool_call'}"
      ]
     },
     "execution_count": 8,
     "metadata": {},
     "output_type": "execute_result"
    }
   ],
   "source": [
    "tool_call = ai_msg.tool_calls[0]\n",
    "tool_call"
   ]
  },
  {
   "cell_type": "markdown",
   "id": "86835305",
   "metadata": {},
   "source": [
    "`(3) 도구(tool) 실행하기`"
   ]
  },
  {
   "cell_type": "code",
   "execution_count": 9,
   "id": "a3eb0c7e",
   "metadata": {},
   "outputs": [
    {
     "name": "stdout",
     "output_type": "stream",
     "text": [
      "tavily_search_results_json 호출 결과:\n",
      "----------------------------------------------------------------------------------------------------\n",
      "[{'url': 'https://www.newsspace.kr/news/article.html?no=6866', 'content': '특히 종로구는 2015년 3억5670만원에서 2025년 12억5887만원으로 253% 오르며 서울에서 가장 높은 상승률을 기록했다. 은평구, 강북구, 구로구, 노원구,'}, {'url': 'https://post.naver.com/viewer/postView.naver?volumeNo=37258600&memberNo=45336244', 'content': '강남4구 20평대 아파트 중 가격이 가장 낮게 거래된 2곳은? 마지막으로 동남권입니다. 강남4구라 불릴 정도로 서울에서 가장 높은 집값을 자랑하는 곳'}]\n"
     ]
    }
   ],
   "source": [
    "### 방법 1: 직접 도구 호출 처리\n",
    "\n",
    "# 이 방법은 AI 메시지에서 첫 번째 도구 호출을 가져와 직접 처리한다.\n",
    "# 'args'를 사용하여 도구를 호출하고 결과를 얻는다.\n",
    "\n",
    "tool_output = web_search.invoke(tool_call[\"args\"])\n",
    "print(f\"{tool_call['name']} 호출 결과:\")\n",
    "print(\"-\" * 100)\n",
    "print(tool_output)"
   ]
  },
  {
   "cell_type": "code",
   "execution_count": 10,
   "id": "1fa17109",
   "metadata": {},
   "outputs": [
    {
     "name": "stdout",
     "output_type": "stream",
     "text": [
      "content=[{'url': 'https://www.newsspace.kr/news/article.html?no=6866', 'content': '특히 종로구는 2015년 3억5670만원에서 2025년 12억5887만원으로 253% 오르며 서울에서 가장 높은 상승률을 기록했다. 은평구, 강북구, 구로구, 노원구,'}, {'url': 'https://post.naver.com/viewer/postView.naver?volumeNo=37258600&memberNo=45336244', 'content': '강남4구 20평대 아파트 중 가격이 가장 낮게 거래된 2곳은? 마지막으로 동남권입니다. 강남4구라 불릴 정도로 서울에서 가장 높은 집값을 자랑하는 곳'}] name='tavily_search_results_json' tool_call_id='call_3BEY50dDQges5HzLXJYVURQE'\n"
     ]
    }
   ],
   "source": [
    "### 방법 2: ToolMessage 객체 생성\n",
    "\n",
    "# 이 방법은 도구 호출 결과를 사용하여 ToolMessage 객체를 생성한다.\n",
    "# 도구 호출의 ID와 이름을 포함하여 더 구조화된 메시지를 만든다.\n",
    "\n",
    "from langchain_core.messages import ToolMessage\n",
    "tool_message = ToolMessage(\n",
    "    content=tool_output,\n",
    "    tool_call_id=tool_call[\"id\"],\n",
    "    name=tool_call[\"name\"]\n",
    ")\n",
    "\n",
    "print(tool_message)"
   ]
  },
  {
   "cell_type": "code",
   "execution_count": 11,
   "id": "0f39f32b",
   "metadata": {},
   "outputs": [
    {
     "name": "stdout",
     "output_type": "stream",
     "text": [
      "content='[{\"url\": \"https://www.newsspace.kr/news/article.html?no=6866\", \"content\": \"특히 종로구는 2015년 3억5670만원에서 2025년 12억5887만원으로 253% 오르며 서울에서 가장 높은 상승률을 기록했다. 은평구, 강북구, 구로구, 노원구,\"}, {\"url\": \"https://post.naver.com/viewer/postView.naver?volumeNo=37258600&memberNo=45336244\", \"content\": \"강남4구 20평대 아파트 중 가격이 가장 낮게 거래된 2곳은? 마지막으로 동남권입니다. 강남4구라 불릴 정도로 서울에서 가장 높은 집값을 자랑하는 곳\"}]' name='tavily_search_results_json' tool_call_id='call_3BEY50dDQges5HzLXJYVURQE' artifact={'query': '20평대 아파트 평균가격 가장 높은 구', 'follow_up_questions': None, 'answer': None, 'images': [], 'results': [{'url': 'https://www.newsspace.kr/news/article.html?no=6866', 'title': '[랭킹연구소] 서울시 20평대 아파트 10년간 최다상승, 강남 3구 아니네 ...', 'content': '특히 종로구는 2015년 3억5670만원에서 2025년 12억5887만원으로 253% 오르며 서울에서 가장 높은 상승률을 기록했다. 은평구, 강북구, 구로구, 노원구,', 'score': 0.8259413, 'raw_content': None}, {'url': 'https://post.naver.com/viewer/postView.naver?volumeNo=37258600&memberNo=45336244', 'title': '신혼부부 주목! 서울에서 제일 집값 낮은 20평대 아파트 10곳', 'content': '강남4구 20평대 아파트 중 가격이 가장 낮게 거래된 2곳은? 마지막으로 동남권입니다. 강남4구라 불릴 정도로 서울에서 가장 높은 집값을 자랑하는 곳', 'score': 0.8138313, 'raw_content': None}], 'response_time': 1.36}\n"
     ]
    }
   ],
   "source": [
    "### 방법 3: 도구 직접 호출하여 바로 ToolMessage 객체 생성\n",
    "\n",
    "# 이 방법은 도구를 직접 호출하여 ToolMessage 객체를 생성한다.\n",
    "# 가장 간단하고 직관적인 방법으로, LangChain의 추상화를 활용한다.\n",
    "\n",
    "tool_message = web_search.invoke(tool_call)\n",
    "\n",
    "print(tool_message)\n"
   ]
  },
  {
   "cell_type": "code",
   "execution_count": 12,
   "id": "aeeb5890",
   "metadata": {},
   "outputs": [
    {
     "name": "stdout",
     "output_type": "stream",
     "text": [
      "'call_3BEY50dDQges5HzLXJYVURQE'\n",
      "\n",
      "'tavily_search_results_json'\n",
      "\n",
      "('[{\"url\": \"https://www.newsspace.kr/news/article.html?no=6866\", \"content\": '\n",
      " '\"특히 종로구는 2015년 3억5670만원에서 2025년 12억5887만원으로 253% 오르며 서울에서 가장 높은 상승률을 기록했다. '\n",
      " '은평구, 강북구, 구로구, 노원구,\"}, {\"url\": '\n",
      " '\"https://post.naver.com/viewer/postView.naver?volumeNo=37258600&memberNo=45336244\", '\n",
      " '\"content\": \"강남4구 20평대 아파트 중 가격이 가장 낮게 거래된 2곳은? 마지막으로 동남권입니다. 강남4구라 불릴 정도로 '\n",
      " '서울에서 가장 높은 집값을 자랑하는 곳\"}]')\n",
      "\n"
     ]
    }
   ],
   "source": [
    "pprint(tool_message.tool_call_id)\n",
    "print()\n",
    "pprint(tool_message.name)\n",
    "print()\n",
    "pprint(tool_message.content)\n",
    "print()"
   ]
  },
  {
   "cell_type": "code",
   "execution_count": 13,
   "id": "f3e71c37",
   "metadata": {},
   "outputs": [
    {
     "data": {
      "text/plain": [
       "[{'name': 'tavily_search_results_json',\n",
       "  'args': {'query': '20평대 아파트 평균가격 가장 높은 구'},\n",
       "  'id': 'call_3BEY50dDQges5HzLXJYVURQE',\n",
       "  'type': 'tool_call'}]"
      ]
     },
     "execution_count": 13,
     "metadata": {},
     "output_type": "execute_result"
    }
   ],
   "source": [
    "ai_msg.tool_calls"
   ]
  },
  {
   "cell_type": "code",
   "execution_count": 14,
   "id": "35a3ad18",
   "metadata": {},
   "outputs": [
    {
     "name": "stdout",
     "output_type": "stream",
     "text": [
      "[ToolMessage(content='[{\"url\": \"https://www.newsspace.kr/news/article.html?no=6866\", \"content\": \"특히 종로구는 2015년 3억5670만원에서 2025년 12억5887만원으로 253% 오르며 서울에서 가장 높은 상승률을 기록했다. 은평구, 강북구, 구로구, 노원구,\"}, {\"url\": \"https://post.naver.com/viewer/postView.naver?volumeNo=37258600&memberNo=45336244\", \"content\": \"강남4구 20평대 아파트 중 가격이 가장 낮게 거래된 2곳은? 마지막으로 동남권입니다. 강남4구라 불릴 정도로 서울에서 가장 높은 집값을 자랑하는 곳\"}]', name='tavily_search_results_json', tool_call_id='call_3BEY50dDQges5HzLXJYVURQE', artifact={'query': '20평대 아파트 평균가격 가장 높은 구', 'follow_up_questions': None, 'answer': None, 'images': [], 'results': [{'url': 'https://www.newsspace.kr/news/article.html?no=6866', 'title': '[랭킹연구소] 서울시 20평대 아파트 10년간 최다상승, 강남 3구 아니네 ...', 'content': '특히 종로구는 2015년 3억5670만원에서 2025년 12억5887만원으로 253% 오르며 서울에서 가장 높은 상승률을 기록했다. 은평구, 강북구, 구로구, 노원구,', 'score': 0.8259413, 'raw_content': None}, {'url': 'https://post.naver.com/viewer/postView.naver?volumeNo=37258600&memberNo=45336244', 'title': '신혼부부 주목! 서울에서 제일 집값 낮은 20평대 아파트 10곳', 'content': '강남4구 20평대 아파트 중 가격이 가장 낮게 거래된 2곳은? 마지막으로 동남권입니다. 강남4구라 불릴 정도로 서울에서 가장 높은 집값을 자랑하는 곳', 'score': 0.8138313, 'raw_content': None}], 'response_time': 1.79})]\n",
      "----------------------------------------------------------------------------------------------------\n",
      "('[{\"url\": \"https://www.newsspace.kr/news/article.html?no=6866\", \"content\": '\n",
      " '\"특히 종로구는 2015년 3억5670만원에서 2025년 12억5887만원으로 253% 오르며 서울에서 가장 높은 상승률을 기록했다. '\n",
      " '은평구, 강북구, 구로구, 노원구,\"}, {\"url\": '\n",
      " '\"https://post.naver.com/viewer/postView.naver?volumeNo=37258600&memberNo=45336244\", '\n",
      " '\"content\": \"강남4구 20평대 아파트 중 가격이 가장 낮게 거래된 2곳은? 마지막으로 동남권입니다. 강남4구라 불릴 정도로 '\n",
      " '서울에서 가장 높은 집값을 자랑하는 곳\"}]')\n"
     ]
    }
   ],
   "source": [
    "# batch 실행 - 도구 호출이 여러 개인 경우\n",
    "\n",
    "# tool_messages = web_search.batch([tool_call])\n",
    "\n",
    "tool_messages = web_search.batch(ai_msg.tool_calls)\n",
    "\n",
    "print(tool_messages)\n",
    "print(\"-\" * 100)\n",
    "pprint(tool_messages[0].content)"
   ]
  },
  {
   "cell_type": "markdown",
   "id": "a20257ba",
   "metadata": {},
   "source": [
    "`(4) ToolMessage를 LLM에 전달하여 답변을 생성하기`"
   ]
  },
  {
   "cell_type": "code",
   "execution_count": 15,
   "id": "1c5de654",
   "metadata": {},
   "outputs": [
    {
     "name": "stdout",
     "output_type": "stream",
     "text": [
      "ai_msg: \n",
      " content='' additional_kwargs={'tool_calls': [{'id': 'call_bDeKNSwFX5zZcwGcqWHT0UyK', 'function': {'arguments': '{\"query\":\"노량진 레미안 25평 가격\"}', 'name': 'tavily_search_results_json'}, 'type': 'function'}], 'refusal': None} response_metadata={'token_usage': {'completion_tokens': 28, 'prompt_tokens': 114, 'total_tokens': 142, 'completion_tokens_details': {'accepted_prediction_tokens': 0, 'audio_tokens': 0, 'reasoning_tokens': 0, 'rejected_prediction_tokens': 0}, 'prompt_tokens_details': {'audio_tokens': 0, 'cached_tokens': 0}}, 'model_name': 'gpt-4.1-mini-2025-04-14', 'system_fingerprint': 'fp_79b79be41f', 'finish_reason': 'tool_calls', 'logprobs': None} id='run--fd5197bc-96ba-4b28-8041-fa0f5b4100bc-0' tool_calls=[{'name': 'tavily_search_results_json', 'args': {'query': '노량진 레미안 25평 가격'}, 'id': 'call_bDeKNSwFX5zZcwGcqWHT0UyK', 'type': 'tool_call'}] usage_metadata={'input_tokens': 114, 'output_tokens': 28, 'total_tokens': 142}\n",
      "----------------------------------------------------------------------------------------------------\n",
      "tool_msgs: \n",
      " [ToolMessage(content='[{\"url\": \"https://realty.daum.net/home/apt/danjis/20050\", \"content\": \"25. 4. 14. 월세 6억/115. 107㎡. ・ 26층. 25. 4. 12. 전세 9억 3,000. 107㎡. ・ 11층 ... 노량진역사쪽에 대형복합몰 들어온다고하니 좋네요 흑석동쪽 아파트보다는\"}, {\"url\": \"https://blog.naver.com/lovly30/223141587805\", \"content\": \"고층이 13억인게 놀랍다. 같은동 24평 고층 15.5억에 올라와있다. \\u200b. \\u200b. 13억에 올라온 곳\"}]', name='tavily_search_results_json', tool_call_id='call_bDeKNSwFX5zZcwGcqWHT0UyK', artifact={'query': '노량진 레미안 25평 가격', 'follow_up_questions': None, 'answer': None, 'images': [], 'results': [{'url': 'https://realty.daum.net/home/apt/danjis/20050', 'title': \"'본동 래미안트윈파크' 실거래가, 시세, 주변정보 - 다음 부동산\", 'content': '25. 4. 14. 월세 6억/115. 107㎡. ・ 26층. 25. 4. 12. 전세 9억 3,000. 107㎡. ・ 11층 ... 노량진역사쪽에 대형복합몰 들어온다고하니 좋네요 흑석동쪽 아파트보다는', 'score': 0.6439794, 'raw_content': None}, {'url': 'https://blog.naver.com/lovly30/223141587805', 'title': '[노량진임장] 래미안 트윈파크, 유영강변 아파트 : 네이버 블로그', 'content': '고층이 13억인게 놀랍다. 같은동 24평 고층 15.5억에 올라와있다. \\u200b. \\u200b. 13억에 올라온 곳', 'score': 0.52144736, 'raw_content': None}], 'response_time': 0.99})]\n",
      "----------------------------------------------------------------------------------------------------\n",
      "('오늘 노량진 레미안 25평 아파트의 가격은 고층 기준으로 약 13억 원에서 15.5억 원 사이로 확인됩니다. 정확한 매물 가격은 위치와 '\n",
      " '층수에 따라 다를 수 있으니, 부동산 중개 사이트나 현지 부동산을 통해 상세한 정보를 확인하시는 것이 좋습니다.')\n"
     ]
    }
   ],
   "source": [
    "from datetime import datetime\n",
    "from langchain_core.prompts import ChatPromptTemplate\n",
    "from langchain_core.runnables import RunnableConfig, chain\n",
    "\n",
    "# 오늘 날짜 설정\n",
    "today = datetime.today().strftime(\"%Y-%m-%d\")\n",
    "\n",
    "# 프롬프트 템플릿 \n",
    "prompt = ChatPromptTemplate([\n",
    "    (\"system\", f\"You are a helpful AI assistant. Today's date is {today}.\"),\n",
    "    (\"human\", \"{user_input}\"),\n",
    "    (\"placeholder\", \"{messages}\"),\n",
    "])\n",
    "\n",
    "# ChatOpenAI 모델 초기화 \n",
    "llm = ChatOpenAI(model=\"gpt-4.1-mini\")\n",
    "\n",
    "# LLM에 도구를 바인딩\n",
    "llm_with_tools = llm.bind_tools(tools=[web_search])\n",
    "\n",
    "# LLM 체인 생성\n",
    "llm_chain = prompt | llm_with_tools\n",
    "\n",
    "# 도구 실행 체인 정의\n",
    "@chain\n",
    "def web_search_chain(user_input: str, config: RunnableConfig):\n",
    "    input_ = {\"user_input\": user_input}\n",
    "    ai_msg = llm_chain.invoke(input_, config=config)\n",
    "    print(\"ai_msg: \\n\", ai_msg)\n",
    "    print(\"-\"*100)\n",
    "    tool_msgs = web_search.batch(ai_msg.tool_calls, config=config)\n",
    "    print(\"tool_msgs: \\n\", tool_msgs)\n",
    "    print(\"-\"*100)\n",
    "    return llm_chain.invoke({**input_, \"messages\": [ai_msg, *tool_msgs]}, config=config)\n",
    "\n",
    "# 체인 실행\n",
    "response = web_search_chain.invoke(\"오늘 노량진 레미안 25평의 가격은 얼마인가요?\")\n",
    "\n",
    "# 응답 출력 \n",
    "pprint(response.content)"
   ]
  },
  {
   "cell_type": "markdown",
   "id": "60f49a9f",
   "metadata": {},
   "source": [
    "### 2-2. 사용자 정의 도구\n",
    "- @tool decorator를 통해 사용자 정의 도구를 정의할 수 있음"
   ]
  },
  {
   "cell_type": "markdown",
   "id": "5c058ff5",
   "metadata": {},
   "source": [
    "`(1) 도구(tool) 정의하기`"
   ]
  },
  {
   "cell_type": "code",
   "execution_count": 16,
   "id": "2647393d",
   "metadata": {},
   "outputs": [],
   "source": [
    "from langchain_community.tools import TavilySearchResults\n",
    "from langchain_core.tools import tool\n",
    "from typing import List\n",
    "\n",
    "# Tool 정의 \n",
    "@tool\n",
    "def search_web(query: str) -> str:\n",
    "    \"\"\"Searches the internet for information that does not exist in the database or for the latest information.\"\"\"\n",
    "\n",
    "    tavily_search = TavilySearchResults(max_results=2)\n",
    "    docs = tavily_search.invoke(query)\n",
    "\n",
    "    formatted_docs = \"\\n---\\n\".join([\n",
    "        f'<Document href=\"{doc[\"url\"]}\"/>\\n{doc[\"content\"]}\\n</Document>'\n",
    "        for doc in docs\n",
    "        ])\n",
    "\n",
    "    if len(formatted_docs) > 0:\n",
    "        return formatted_docs\n",
    "    \n",
    "    return \"관련 정보를 찾을 수 없습니다.\""
   ]
  },
  {
   "cell_type": "code",
   "execution_count": 17,
   "id": "224eddd8",
   "metadata": {},
   "outputs": [
    {
     "name": "stdout",
     "output_type": "stream",
     "text": [
      "자료형: \n",
      "<class 'langchain_core.tools.structured.StructuredTool'>\n",
      "----------------------------------------------------------------------------------------------------\n",
      "name: \n",
      "search_web\n",
      "----------------------------------------------------------------------------------------------------\n",
      "description: \n",
      "('Searches the internet for information that does not exist in the database or '\n",
      " 'for the latest information.')\n",
      "----------------------------------------------------------------------------------------------------\n",
      "schema: \n",
      "{'description': 'Searches the internet for information that does not exist in '\n",
      "                'the database or for the latest information.',\n",
      " 'properties': {'query': {'title': 'Query', 'type': 'string'}},\n",
      " 'required': ['query'],\n",
      " 'title': 'search_web',\n",
      " 'type': 'object'}\n",
      "----------------------------------------------------------------------------------------------------\n"
     ]
    }
   ],
   "source": [
    "# 도구 속성\n",
    "print(\"자료형: \")\n",
    "print(type(search_web))\n",
    "print(\"-\"*100)\n",
    "\n",
    "print(\"name: \")\n",
    "print(search_web.name)\n",
    "print(\"-\"*100)\n",
    "\n",
    "print(\"description: \")\n",
    "pprint(search_web.description)\n",
    "print(\"-\"*100)\n",
    "\n",
    "print(\"schema: \")\n",
    "pprint(search_web.args_schema.schema())\n",
    "print(\"-\"*100)"
   ]
  },
  {
   "cell_type": "code",
   "execution_count": 18,
   "id": "37117ba5",
   "metadata": {},
   "outputs": [
    {
     "name": "stdout",
     "output_type": "stream",
     "text": [
      "<Document href=\"https://m.blog.naver.com/jay_company/223139975988\"/>\n",
      "답십리동 장안동 휘경동 일대가\n",
      "\n",
      "가성비가 꽤 괜찮은데요.\n",
      "\n",
      "답십리 래미안위브 전용59 호가\n",
      "\n",
      "답십리 파크자이 전용59 호가\n",
      "\n",
      "답십리 래미안크레시티  전용59 호가\n",
      "\n",
      "답십리 래미안미드카운티 전용59 호가\n",
      "\n",
      "특히 답십리동 일대가\n",
      "\n",
      "지난 조정장에서\n",
      "\n",
      "하락 폭이\n",
      "\n",
      "상당히 컸던 지역인데\n",
      "\n",
      "​\n",
      "\n",
      "답십리 내\n",
      "\n",
      "4대장이라고 볼 수 있는\n",
      "\n",
      "래미안위브, 파크자이,\n",
      "\n",
      "래미안크레시티, 미드카운티까지\n",
      "\n",
      "전용59의 경우\n",
      "\n",
      "10억 이하의 금액대로\n",
      "\n",
      "매수가 가능하겠습니다.\n",
      "\n",
      "전농sk아파트 국평 호가\n",
      "\n",
      "전농동sk아파트나\n",
      "\n",
      "전농동우성아파트도\n",
      "\n",
      "위 4대장에 비해\n",
      "\n",
      "연식이 더 됐어도\n",
      "\n",
      "더 큰 평형대로\n",
      "\n",
      "상대적으로 저렴하게\n",
      "\n",
      "매수가 가능하기 때문에\n",
      "\n",
      "아이가 있으면서\n",
      "\n",
      "가족 구성원 수가\n",
      "\n",
      "어느정도 차있는 세대라면\n",
      "\n",
      "이러한 단지들도\n",
      "\n",
      "실거주하기에 괜찮은 곳이죠.\n",
      "\n",
      "장안힐스테이트 전용59 호가\n",
      "\n",
      "장안래미안2차 전용64 호가\n",
      "\n",
      "또한\n",
      "\n",
      "중랑천 일대가\n",
      "\n",
      "상대적으로 깨끗하게\n",
      "\n",
      "주거환경이 조성되는 편이기에 [...] 원리금 상환으로\n",
      "\n",
      "고정 지출이 발생하게 됩니다.\n",
      "\n",
      "​\n",
      "\n",
      "10억은 더 증가되겠죠?\n",
      "\n",
      "3억 내돈,\n",
      "\n",
      "7억 대출받을시\n",
      "\n",
      "400만원이 웃도는\n",
      "\n",
      "원리금을\n",
      "\n",
      "매달 갚아나가야 합니다.\n",
      "\n",
      "​\n",
      "\n",
      "이 부분을 꼭\n",
      "\n",
      "먼저 인지하시고\n",
      "\n",
      "매수에 임하셔야겠습니다.\n",
      "\n",
      "동남권\n",
      "\n",
      "10억이란 돈은\n",
      "\n",
      "분명 작은 돈이 아니지만\n",
      "\n",
      "강남권대에서\n",
      "\n",
      "20평대 10억 이하의 매물을\n",
      "\n",
      "찾긴 굉장히 어려운 편입니다.\n",
      "\n",
      "​\n",
      "\n",
      "특히 메인 중심부는\n",
      "\n",
      "그러한 매물들이 아예 없습니다.\n",
      "\n",
      "​\n",
      "\n",
      "따라서\n",
      "\n",
      "강남 외곽쪽으로\n",
      "\n",
      "눈을 돌려야\n",
      "\n",
      "10억 언저리 매물을\n",
      "\n",
      "찾아볼 수 있는데요.\n",
      "\n",
      "가락동\n",
      "\n",
      "거여동\n",
      "\n",
      "대표적으로\n",
      "\n",
      "송파구 거여,풍납, 가락동\n",
      "\n",
      "내에 있는 10억 선의\n",
      "\n",
      "구축 20평대 아파트와\n",
      "\n",
      "둔촌동\n",
      "\n",
      "조금 더 외곽쪽으로 빠지게 되면\n",
      "\n",
      "강동구 성내,둔촌,명일\n",
      "\n",
      "구축 20평대 아파트를\n",
      "\n",
      "7-8억대 정도로\n",
      "\n",
      "찾아볼 수가 있겠습니다.\n",
      "\n",
      "​\n",
      "\n",
      "냉정하게 얘기해서\n",
      "\n",
      "다른 지역에 있었다면\n",
      "\n",
      "이 정도 가격대까지\n",
      "\n",
      "오르지 못했을\n",
      "\n",
      "환경, 인프라를 지니고 있으나 [...] 찾을 수 있는 지역이\n",
      "\n",
      "신정뉴타운 일대\n",
      "\n",
      "아파트 말고는\n",
      "\n",
      "거의 찾기가 어렵다고 보여집니다.\n",
      "\n",
      "구축 가양 우성\n",
      "\n",
      "강서구나 양천구 정도 입지에\n",
      "\n",
      "구축도 OK라고 하시면\n",
      "\n",
      "​\n",
      "\n",
      "강서구 가양동\n",
      "\n",
      "가양역에 위치한\n",
      "\n",
      "가양우성 아파트 단지\n",
      "\n",
      "정도를 보시면 좋습니다.\n",
      "\n",
      "​\n",
      "\n",
      "구축 아파트가\n",
      "\n",
      "역세권 입지를 지녔더라도\n",
      "\n",
      "10억 정도 선에서\n",
      "\n",
      "가격대가 형성 되어 있네요.\n",
      "\n",
      "영등포구 당산동 유원제일\n",
      "\n",
      "영등포 일대도\n",
      "\n",
      "눈 여겨 보시면 나쁘지 않습니다.\n",
      "\n",
      "이 쪽 일대가\n",
      "\n",
      "정비사업으로\n",
      "\n",
      "신축도 앞으로 많이 생기고\n",
      "\n",
      "인프라도 개선중인\n",
      "\n",
      "지역이기도 하죠.\n",
      "\n",
      "​\n",
      "\n",
      "영등포구 당산동에 위치한\n",
      "\n",
      "소규모 구축 아파트들 또한\n",
      "\n",
      "같이 살펴보면 좋겠는데요.(국평)\n",
      "\n",
      "​\n",
      "\n",
      "영등포구는\n",
      "\n",
      "자녀 양육에 있어서\n",
      "\n",
      "훌륭한 환경이라고는\n",
      "\n",
      "말 할 순 없으나\n",
      "\n",
      "여의도나 강남까지\n",
      "\n",
      "접근성이\n",
      "\n",
      "좋은 편이 기 때문에 (교통)\n",
      "\n",
      "​\n",
      "\n",
      "아이가 없는 세대나\n",
      "\n",
      "성인 1-2인 세대라면\n",
      "\n",
      "영등포 쪽도 살펴보면\n",
      "\n",
      "충분히 괜찮은 선택지가\n",
      "\n",
      "될 것 같습니다.\n",
      "</Document>\n",
      "---\n",
      "<Document href=\"https://www.youtube.com/watch?v=ODd0452zYp8\"/>\n",
      "Comments7 · 지금 시점에 서울 10억 이하 아파트 투자한다면, '이곳'이 최고 입니다. · 구축 말고 '이런 신축' 사세요, 미래에 무섭게 오를 겁니다 (송희구\n",
      "</Document>\n"
     ]
    }
   ],
   "source": [
    "query = \"10억 대에 서울에 매매할 수 있는 아파트를 추천해주세요\"\n",
    "search_result = search_web.invoke(query)\n",
    "\n",
    "print(search_result)"
   ]
  },
  {
   "cell_type": "code",
   "execution_count": 19,
   "id": "d81d6668",
   "metadata": {},
   "outputs": [
    {
     "name": "stdout",
     "output_type": "stream",
     "text": [
      "AIMessage(content='', additional_kwargs={'tool_calls': [{'id': 'call_ypz8qLFJkh3XRZxk6c950fhR', 'function': {'arguments': '{\"query\":\"서울 10억 이하 아파트 매매 추천\"}', 'name': 'search_web'}, 'type': 'function'}], 'refusal': None}, response_metadata={'token_usage': {'completion_tokens': 23, 'prompt_tokens': 70, 'total_tokens': 93, 'completion_tokens_details': {'accepted_prediction_tokens': 0, 'audio_tokens': 0, 'reasoning_tokens': 0, 'rejected_prediction_tokens': 0}, 'prompt_tokens_details': {'audio_tokens': 0, 'cached_tokens': 0}}, 'model_name': 'gpt-4.1-mini-2025-04-14', 'system_fingerprint': 'fp_79b79be41f', 'finish_reason': 'tool_calls', 'logprobs': None}, id='run--b704874e-9072-47e7-a681-8bf8853a4bbc-0', tool_calls=[{'name': 'search_web', 'args': {'query': '서울 10억 이하 아파트 매매 추천'}, 'id': 'call_ypz8qLFJkh3XRZxk6c950fhR', 'type': 'tool_call'}], usage_metadata={'input_tokens': 70, 'output_tokens': 23, 'total_tokens': 93})\n",
      "----------------------------------------------------------------------------------------------------\n",
      "''\n",
      "----------------------------------------------------------------------------------------------------\n",
      "[{'args': {'query': '서울 10억 이하 아파트 매매 추천'},\n",
      "  'id': 'call_ypz8qLFJkh3XRZxk6c950fhR',\n",
      "  'name': 'search_web',\n",
      "  'type': 'tool_call'}]\n",
      "----------------------------------------------------------------------------------------------------\n"
     ]
    }
   ],
   "source": [
    "# LLM에 도구를 바인딩\n",
    "llm_with_tools = llm.bind_tools(tools=[search_web])\n",
    "\n",
    "# 도구 호출이 필요한 LLM 호출을 수행\n",
    "query = \"10억 이내로 서울에 매매할 아파트 추천해주세요.\"\n",
    "ai_msg = llm_with_tools.invoke(query)\n",
    "\n",
    "# LLM의 전체 출력 결과 출력\n",
    "pprint(ai_msg)\n",
    "print(\"-\" * 100)\n",
    "\n",
    "# 메시지 content 속성 (텍스트 출력)\n",
    "pprint(ai_msg.content)\n",
    "print(\"-\" * 100)\n",
    "\n",
    "# LLM이 호출한 도구 정보 출력\n",
    "pprint(ai_msg.tool_calls)\n",
    "print(\"-\" * 100)"
   ]
  },
  {
   "cell_type": "markdown",
   "id": "7dcda933",
   "metadata": {},
   "source": [
    "`(2) LLM 도구 호출 성능 비교하기`"
   ]
  },
  {
   "cell_type": "code",
   "execution_count": 21,
   "id": "edf539df",
   "metadata": {},
   "outputs": [
    {
     "name": "stderr",
     "output_type": "stream",
     "text": [
      "Key 'title' is not supported in schema, ignoring\n",
      "Key 'title' is not supported in schema, ignoring\n",
      "Key 'title' is not supported in schema, ignoring\n",
      "Key 'title' is not supported in schema, ignoring\n"
     ]
    }
   ],
   "source": [
    "from langchain_google_genai import ChatGoogleGenerativeAI\n",
    "\n",
    "# 기본 LLM\n",
    "llm_gemini_flash = ChatGoogleGenerativeAI(model=\"gemini-1.5-flash\", temperature=0)\n",
    "llm_gemini_pro = ChatGoogleGenerativeAI(model=\"gemini-1.5-pro\", temperature=0)\n",
    "\n",
    "\n",
    "# LLM에 도구 바인딩하여 추가 \n",
    "tools=[search_web]\n",
    "gemini_flash_with_tools = llm_gemini_flash.bind_tools(tools)\n",
    "gemini_pro_with_tools = llm_gemini_pro.bind_tools(tools)"
   ]
  },
  {
   "cell_type": "markdown",
   "id": "cc7f29ab",
   "metadata": {},
   "source": [
    "- gemini-1.5-flash"
   ]
  },
  {
   "cell_type": "code",
   "execution_count": 22,
   "id": "faceb0af",
   "metadata": {},
   "outputs": [
    {
     "name": "stdout",
     "output_type": "stream",
     "text": [
      "AIMessage(content='강남 상권의 특징을 간략하게 설명하자면 다음과 같습니다.\\n\\n* **고소득층 집중:** 강남구는 전국에서 가장 높은 소득 수준을 가진 지역 중 하나이며, 이는 강남 상권의 주요 소비층이 고소득층임을 의미합니다.  고가의 상품과 서비스에 대한 수요가 높습니다.\\n\\n* **다양한 업종 밀집:**  고급 레스토랑, 백화점, 명품 매장, 엔터테인먼트 시설 등 다양한 업종의 고급 상업시설이 밀집되어 있습니다.  특히, 패션, 미용, 외식 분야가 발달했습니다.\\n\\n* **높은 임대료:**  높은 수요와 제한된 공급으로 인해 임대료가 매우 높습니다.  이는 상권 진입 장벽이 높다는 것을 의미합니다.\\n\\n* **경쟁 심화:**  많은 업체들이 강남 상권에 진출하려 하기 때문에 경쟁이 매우 치열합니다.  차별화된 상품과 서비스, 마케팅 전략이 중요합니다.\\n\\n* **트렌드 민감성:**  최신 유행에 민감하고, 새로운 트렌드를 빠르게 반영하는 특징이 있습니다.  소비자들의 니즈를 정확하게 파악하고 대응하는 것이 중요합니다.\\n\\n* **교통 편의성:** 지하철 및 버스 노선이 잘 발달되어 있어 접근성이 좋습니다.\\n\\n* **젊은층 유입:**  젊은 세대의 유입이 많아 최신 트렌드를 반영한 다양한 업종이 성장하고 있습니다.\\n\\n\\n더 자세한 정보를 원하시면,  구체적으로 어떤 측면에 관심 있으신지 알려주세요. (예: 특정 업종, 연령대별 소비 특징, 상권 변화 추세 등)  제공된 정보만으로는 더 자세한 답변을 드리기 어렵습니다.  `default_api`는 웹 검색 기능을 제공하지 않으므로,  더 자세한 정보는 인터넷 검색을 통해 얻으실 수 있습니다.\\n', additional_kwargs={}, response_metadata={'prompt_feedback': {'block_reason': 0, 'safety_ratings': []}, 'finish_reason': 'STOP', 'safety_ratings': []}, id='run--f62153d2-c1c7-4642-8efb-691349cec2c0-0', usage_metadata={'input_tokens': 57, 'output_tokens': 506, 'total_tokens': 563})\n",
      "----------------------------------------------------------------------------------------------------\n",
      "('강남 상권의 특징을 간략하게 설명하자면 다음과 같습니다.\\n'\n",
      " '\\n'\n",
      " '* **고소득층 집중:** 강남구는 전국에서 가장 높은 소득 수준을 가진 지역 중 하나이며, 이는 강남 상권의 주요 소비층이 고소득층임을 '\n",
      " '의미합니다.  고가의 상품과 서비스에 대한 수요가 높습니다.\\n'\n",
      " '\\n'\n",
      " '* **다양한 업종 밀집:**  고급 레스토랑, 백화점, 명품 매장, 엔터테인먼트 시설 등 다양한 업종의 고급 상업시설이 밀집되어 '\n",
      " '있습니다.  특히, 패션, 미용, 외식 분야가 발달했습니다.\\n'\n",
      " '\\n'\n",
      " '* **높은 임대료:**  높은 수요와 제한된 공급으로 인해 임대료가 매우 높습니다.  이는 상권 진입 장벽이 높다는 것을 의미합니다.\\n'\n",
      " '\\n'\n",
      " '* **경쟁 심화:**  많은 업체들이 강남 상권에 진출하려 하기 때문에 경쟁이 매우 치열합니다.  차별화된 상품과 서비스, 마케팅 '\n",
      " '전략이 중요합니다.\\n'\n",
      " '\\n'\n",
      " '* **트렌드 민감성:**  최신 유행에 민감하고, 새로운 트렌드를 빠르게 반영하는 특징이 있습니다.  소비자들의 니즈를 정확하게 '\n",
      " '파악하고 대응하는 것이 중요합니다.\\n'\n",
      " '\\n'\n",
      " '* **교통 편의성:** 지하철 및 버스 노선이 잘 발달되어 있어 접근성이 좋습니다.\\n'\n",
      " '\\n'\n",
      " '* **젊은층 유입:**  젊은 세대의 유입이 많아 최신 트렌드를 반영한 다양한 업종이 성장하고 있습니다.\\n'\n",
      " '\\n'\n",
      " '\\n'\n",
      " '더 자세한 정보를 원하시면,  구체적으로 어떤 측면에 관심 있으신지 알려주세요. (예: 특정 업종, 연령대별 소비 특징, 상권 변화 추세 '\n",
      " '등)  제공된 정보만으로는 더 자세한 답변을 드리기 어렵습니다.  `default_api`는 웹 검색 기능을 제공하지 않으므로,  더 '\n",
      " '자세한 정보는 인터넷 검색을 통해 얻으실 수 있습니다.\\n')\n",
      "----------------------------------------------------------------------------------------------------\n",
      "[]\n",
      "----------------------------------------------------------------------------------------------------\n"
     ]
    }
   ],
   "source": [
    "# 도구 호출이 필요한 LLM 호출을 수행\n",
    "query = \"강남 상권의 특징을 알려주세요\"\n",
    "ai_msg = gemini_flash_with_tools.invoke(query)\n",
    "\n",
    "# LLM의 전체 출력 결과 출력\n",
    "pprint(ai_msg)\n",
    "print(\"-\" * 100)\n",
    "\n",
    "# 메시지 content 속성 (텍스트 출력)\n",
    "pprint(ai_msg.content)\n",
    "print(\"-\" * 100)\n",
    "\n",
    "# LLM이 호출한 도구 정보 출력\n",
    "pprint(ai_msg.tool_calls)\n",
    "print(\"-\" * 100)"
   ]
  },
  {
   "cell_type": "markdown",
   "id": "6f69b933",
   "metadata": {},
   "source": [
    "- gemini-1.5-pro"
   ]
  },
  {
   "cell_type": "code",
   "execution_count": 23,
   "id": "b93b3cf2",
   "metadata": {},
   "outputs": [
    {
     "name": "stdout",
     "output_type": "stream",
     "text": [
      "AIMessage(content='강남 상권은 서울의 대표적인 번화가 중 하나로, 다음과 같은 특징을 가지고 있습니다.\\n\\n* **고급 상권**: 명품 브랜드, 고급 레스토랑, 백화점 등이 밀집해 있으며, 높은 소비 수준을 가진 고객층을 타겟으로 합니다.\\n* **트렌드 중심**: 최신 유행과 트렌드를 선도하며, 패션, 뷰티, 엔터테인먼트 등 다양한 분야에서 새로운 트렌드를 접할 수 있습니다.\\n* **유동 인구**: 지하철 2호선, 신분당선, 버스 등 대중교통이 잘 갖춰져 있어 유동 인구가 많습니다.\\n* **24시간 활성화**: 밤늦게까지 영업하는 상점과 유흥 시설이 많아 밤 문화가 발달되어 있습니다.\\n* **비즈니스 중심**: 대기업 본사, 금융기관, 무역회사 등이 밀집해 있어 비즈니스 활동이 활발하게 이루어집니다.\\n* **외국인 관광객**: 쇼핑, 의료 관광 등을 위해 방문하는 외국인 관광객이 많습니다.\\n* **높은 임대료**: 상권의 인기와 유동 인구로 인해 임대료가 매우 높은 편입니다.\\n\\n이러한 특징들을 바탕으로 강남 상권은 한국 경제와 문화의 중심지 역할을 하고 있습니다. 하지만 높은 임대료와 경쟁으로 인해 소규모 상점들은 어려움을 겪는 경우도 있습니다.\\n', additional_kwargs={}, response_metadata={'prompt_feedback': {'block_reason': 0, 'safety_ratings': []}, 'finish_reason': 'STOP', 'safety_ratings': []}, id='run--fa0ad36b-cf8a-41c6-acb0-80db62af27b2-0', usage_metadata={'input_tokens': 57, 'output_tokens': 381, 'total_tokens': 438})\n",
      "----------------------------------------------------------------------------------------------------\n",
      "('강남 상권은 서울의 대표적인 번화가 중 하나로, 다음과 같은 특징을 가지고 있습니다.\\n'\n",
      " '\\n'\n",
      " '* **고급 상권**: 명품 브랜드, 고급 레스토랑, 백화점 등이 밀집해 있으며, 높은 소비 수준을 가진 고객층을 타겟으로 합니다.\\n'\n",
      " '* **트렌드 중심**: 최신 유행과 트렌드를 선도하며, 패션, 뷰티, 엔터테인먼트 등 다양한 분야에서 새로운 트렌드를 접할 수 '\n",
      " '있습니다.\\n'\n",
      " '* **유동 인구**: 지하철 2호선, 신분당선, 버스 등 대중교통이 잘 갖춰져 있어 유동 인구가 많습니다.\\n'\n",
      " '* **24시간 활성화**: 밤늦게까지 영업하는 상점과 유흥 시설이 많아 밤 문화가 발달되어 있습니다.\\n'\n",
      " '* **비즈니스 중심**: 대기업 본사, 금융기관, 무역회사 등이 밀집해 있어 비즈니스 활동이 활발하게 이루어집니다.\\n'\n",
      " '* **외국인 관광객**: 쇼핑, 의료 관광 등을 위해 방문하는 외국인 관광객이 많습니다.\\n'\n",
      " '* **높은 임대료**: 상권의 인기와 유동 인구로 인해 임대료가 매우 높은 편입니다.\\n'\n",
      " '\\n'\n",
      " '이러한 특징들을 바탕으로 강남 상권은 한국 경제와 문화의 중심지 역할을 하고 있습니다. 하지만 높은 임대료와 경쟁으로 인해 소규모 '\n",
      " '상점들은 어려움을 겪는 경우도 있습니다.\\n')\n",
      "----------------------------------------------------------------------------------------------------\n",
      "[]\n",
      "----------------------------------------------------------------------------------------------------\n"
     ]
    }
   ],
   "source": [
    "# 도구 호출이 필요한 LLM 호출을 수행\n",
    "query = \"강남 상권의 특징을 알려주세요\"\n",
    "ai_msg = gemini_pro_with_tools.invoke(query)\n",
    "\n",
    "# LLM의 전체 출력 결과 출력\n",
    "pprint(ai_msg)\n",
    "print(\"-\" * 100)\n",
    "\n",
    "# 메시지 content 속성 (텍스트 출력)\n",
    "pprint(ai_msg.content)\n",
    "print(\"-\" * 100)\n",
    "\n",
    "# LLM이 호출한 도구 정보 출력\n",
    "pprint(ai_msg.tool_calls)\n",
    "print(\"-\" * 100)"
   ]
  },
  {
   "cell_type": "markdown",
   "id": "7b2d5144",
   "metadata": {},
   "source": [
    "### 2-3. Runnable 객체를 도구(tool) 변환\n",
    "- 문자열이나 dict 입력을 받는 Runnable을 도구로 변환\n",
    "- as_tool 메서드를 사용"
   ]
  },
  {
   "cell_type": "markdown",
   "id": "d1ea96cf",
   "metadata": {},
   "source": [
    "`(1) Document Loader`"
   ]
  },
  {
   "cell_type": "code",
   "execution_count": 24,
   "id": "933f7aa5",
   "metadata": {},
   "outputs": [
    {
     "name": "stderr",
     "output_type": "stream",
     "text": [
      "C:\\Users\\masta\\AppData\\Local\\Temp\\ipykernel_22696\\2894064045.py:24: LangChainBetaWarning: This API is in beta and may change in the future.\n",
      "  wiki_search = runnable.as_tool(\n"
     ]
    }
   ],
   "source": [
    "from langchain_community.document_loaders import WikipediaLoader\n",
    "from langchain_core.documents import Document\n",
    "from langchain_core.runnables import RunnableLambda\n",
    "from pydantic import BaseModel, Field\n",
    "from typing import List\n",
    "\n",
    "# WikipediaLoader를 사용하여 위키피디아 문서를 검색하는 함수 \n",
    "def search_wiki(input_data: dict) -> List[Document]:\n",
    "    \"\"\"Search Wikipedia documents based on user input (query) and return k documents\"\"\"\n",
    "    query = input_data[\"query\"]\n",
    "    k = input_data.get(\"k\", 2)  \n",
    "    wiki_loader = WikipediaLoader(query=query, load_max_docs=k, lang=\"ko\")\n",
    "    wiki_docs = wiki_loader.load()\n",
    "    return wiki_docs\n",
    "\n",
    "# 도구 호출에 사용할 입력 스키마 정의 \n",
    "class WikiSearchSchema(BaseModel):\n",
    "    \"\"\"Input schema for Wikipedia search.\"\"\"\n",
    "    query: str = Field(..., description=\"The query to search for in Wikipedia\")\n",
    "    k: int = Field(2, description=\"The number of documents to return (default is 2)\")\n",
    "\n",
    "# RunnableLambda 함수를 사용하여 위키피디아 문서 로더를 Runnable로 변환 \n",
    "runnable = RunnableLambda(search_wiki)\n",
    "wiki_search = runnable.as_tool(\n",
    "    name=\"wiki_search\",\n",
    "    description=dedent(\"\"\"\n",
    "        Use this tool when you need to search for information on Wikipedia.\n",
    "        It searches for Wikipedia articles related to the user's query and returns\n",
    "        a specified number of documents. This tool is useful when general knowledge\n",
    "        or background information is required.\n",
    "    \"\"\"),\n",
    "    args_schema=WikiSearchSchema\n",
    ")"
   ]
  },
  {
   "cell_type": "code",
   "execution_count": 25,
   "id": "ff26347a",
   "metadata": {},
   "outputs": [
    {
     "name": "stdout",
     "output_type": "stream",
     "text": [
      "자료형: \n",
      "<class 'langchain_core.tools.structured.StructuredTool'>\n",
      "----------------------------------------------------------------------------------------------------\n",
      "name: \n",
      "wiki_search\n",
      "----------------------------------------------------------------------------------------------------\n",
      "description: \n",
      "('Use this tool when you need to search for information on Wikipedia.\\n'\n",
      " \"It searches for Wikipedia articles related to the user's query and returns\\n\"\n",
      " 'a specified number of documents. This tool is useful when general knowledge\\n'\n",
      " 'or background information is required.')\n",
      "----------------------------------------------------------------------------------------------------\n",
      "schema: \n",
      "{'description': 'Input schema for Wikipedia search.',\n",
      " 'properties': {'k': {'default': 2,\n",
      "                      'description': 'The number of documents to return '\n",
      "                                     '(default is 2)',\n",
      "                      'title': 'K',\n",
      "                      'type': 'integer'},\n",
      "                'query': {'description': 'The query to search for in Wikipedia',\n",
      "                          'title': 'Query',\n",
      "                          'type': 'string'}},\n",
      " 'required': ['query'],\n",
      " 'title': 'WikiSearchSchema',\n",
      " 'type': 'object'}\n",
      "----------------------------------------------------------------------------------------------------\n"
     ]
    }
   ],
   "source": [
    "# 도구 속성\n",
    "print(\"자료형: \")\n",
    "print(type(wiki_search))\n",
    "print(\"-\"*100)\n",
    "\n",
    "print(\"name: \")\n",
    "print(wiki_search.name)\n",
    "print(\"-\"*100)\n",
    "\n",
    "print(\"description: \")\n",
    "pprint(wiki_search.description)\n",
    "print(\"-\"*100)\n",
    "\n",
    "print(\"schema: \")\n",
    "pprint(wiki_search.args_schema.schema())\n",
    "print(\"-\"*100)"
   ]
  },
  {
   "cell_type": "code",
   "execution_count": 28,
   "id": "ed7ff3c4",
   "metadata": {},
   "outputs": [
    {
     "name": "stdout",
     "output_type": "stream",
     "text": [
      "page_content='서초 삼성타운(영어: Samsung Town Headquarters Seocho)은 대한민국 서울특별시 서초구 서초동에 있는 삼성그룹의 핵심 계열사들이 모여 있는 마천루 오피스 단지이다.\n",
      "건물 연면적은 110,800m²이며, 상주인원은 2만명에 달한다고 한다.\n",
      "\n",
      "\n",
      "== 역사 ==\n",
      "\n",
      "\n",
      "=== 계획 ===\n",
      "삼성그룹을 쩔쩔매게 한 비범한 건물의 이름은 '윤빌딩'. 본래 건물주의 성을 따서 지은 이름이다. 삼성타운 건립 계획이 기획된 것은 지난 86년부터다. 당시 삼성생명은 패션단지 건립을 위해 A동 사업부지를 매입했다. 이후 93년부터는 본격적으로 인근 부지 추가매입이 시작됐다. 95년에는 그룹차원에서 S-프로젝트를 추진키로 결정했다. 당시 프로젝트에 참여했던 한 관계자는 \"이후 수차례의 설계변경이 있었지만 뼈 대가 되는 개발구상과 마스터플랜은 초기 단계의 기획안이 대체로 유지되는 수 준이었다\"고 말했다. S-프로젝트를 추진한 태스크포스팀은 당초 이 단지를 패션 및 영상단지를 포함하는 복합단지로 조성할 계획이었다.\n",
      "사실 삼성그룹이 복합 업무단지로서의 본사를 설립하려는 계획은 꽤 예전인 1995년 무렵부터 시작되었다. 삼성그룹 계열사가 점차 늘어나고 있었는데, 당초 중구 태평로의 삼성본관에 모두 입주할 여력이 없어서 이래저래 계열사가 흩어져 있었기 때문이다.\n",
      "이에 삼성그룹은 1995년 무렵, 도곡동에 위치한 구 공군 사격장 부지를 검토하기 시작한다. 이 곳을 인수하여, 지상 102층, 380m 정도의 마천루를 건립하여 복합 삼성타운을 조성하기로 한 것이다. 이에 따라 1996년 이 부지를 인수했다. 그러나 계획이 아직도 있었다.\n",
      "1999년에는 100층 미만으로 추진하고 2002년에는 이 부지에 신라호텔이 특급 호텔 건립을 검토하고 있다고 밝히기도 했지만 곧 백지화됐다. 2003년에는 삼성타운의 계획이 아직도 있었다.\n",
      "\n",
      "\n",
      "=== 개발 ===\n",
      "한편, 업무지구로서의 삼성타운은 강남역 부근 초알짜배기 땅에 마천루 세 동을 지음으로서 대체하기로 했는데, 2004년 최대 지상 44층, 203m 건물로서 착공하여 실제 현장에는 A,B,C 동별로 '서초 프로젝트 현장'이란 간판이 내걸리고 작업인 원도 부쩍 늘어나는 등 공사가 활기를 띠고 있다. 지금은 터파기 공사가 거의 끝난 상태다. 삼성생명은 2007년 4월, 삼성화재는 2007년 12월, 삼성전자는 2008년 5월에 완공하여 이 곳에 입주하게 된다.\n",
      "\n",
      "\n",
      "=== 서초 삼성타운과 현재 ===\n",
      "2008년 1월에 완공되었고 11월 입주 후 삼성 본사를 이곳으로 옮긴 적이 있다. 12월 3일에 삼성 딜라이트가 개관하였다. 2015년 8월에는 삼성생명에 태극기가 게재된 적이 있다. 2016년 3월 18일에 서초의 삼성타운이 끝나고 이후 수원 본사로 이전하였지만 전부는 아니다.\n",
      "\n",
      "\n",
      "== 디자인 ==\n",
      "디자인은 롯데월드타워 등을 디자인한 Kohn Pedersen Fox와 삼우건설 등이 맡았다. 2005년에 디자인을 했고 삼우건설은 과거 스키드모어, 오윙스 앤 메릴사와 함께 타워팰리스 3차 건물을 디자인 한 바 있다.\n",
      "\n",
      "\n",
      "== 건물 ==\n",
      "\n",
      "\n",
      "=== 구성 ===\n",
      "A동에는 삼성생명, B동에는 더 어셋이 입주해 있으며, 최고층인 C동은 삼성전자가 사용하고 있다.\n",
      "\n",
      "\n",
      "=== 특징 ===\n",
      "강남역 사거리 바로 옆에 있기 때문에 이 근처에서 매우 잘 눈에 띄는 건물이다. 보통 언론사들에서 삼성에 관련된 보도를 할 때 띄우는 본사 건물이 다름 아닌 이 건물이다. 하지만 여기는 엄밀히 말해 본사가 아니고, 삼성전자 본사는 수원 영통구에 있다.\n",
      "1990년대 최초로 삼성이 삼성타운을 건설할 당시 건물 매입을 시도했지만, 건물주인 윤 모씨가 건물 매각을 완강하게 거절하였고, 그 뒤 몇차례 협상을 시도했음에도 불구하고 건물 매입을 하지 못해서 삼성타운은 다소 찌그러진 형태로 부지를 마련해야 했다. 사실 건물주에게도 나름대로의 사정이 있었다고 한다.\n",
      "강남시외버스터미널 예정부지로 묶여 한동안 재산권을 행사하지 못하다가 몇년간의 노력 끝에 간신히 재산권 행사를 보장받아서 건물에 대한 애착이 매우 컸단다. 게다가 건물주가 이 땅을 구입한 것은 1970년대로, 삼성이 강남에 삼성타운을 세울 생각도 안할 때여서 의도적인 알박기로 보기 어렵다. 앞으로도 삼성이 이 빌딩을 매입할 가능성이 낮은게 건물주가 사망하기 전 가족과 친지들에게 땅 지분을 잘게 쪼개서 매각한데다, 강남역 상권 중에서도 최고의 요지라 건물 자체의 임대 수익만 해도 상당한 편이고 윤 모씨의 가족들이 2009년 성형외과 의사였던 박 모씨에게 판매했으나 투자대비 임대수익금이 나지 않아 매물로 내놓았다고 한다. 다만 삼성측에서는 이 건물에 대해 매입의사가 없다고 한다.\n",
      "\n",
      "\n",
      "== 경제 ==\n",
      "\n",
      "\n",
      "=== 사업비 ===\n",
      "S-프로젝트(삼성타운 조성계획)는 총 사업비만 1조원에 달하는 대규모 사업이다. 이 일대 땅값 시세가 현재 평당 5천만원 안팎이란 점을 감안하면 땅값만 3천8백 여억원(총 7천7백15평)에 달한다.\n",
      "여기에 서초구청이 밝히는 삼성타운의 허용 용적률이 8백50% 가량이어서 연면적 은 10만평을 넘어설 전망이다. 따라서 평당 건축비를 4백만원으로 추정하면 전체 공사비만 4천억원에 이른다.\n",
      "전문가들은 부대비용까지 포함할 경우 총 사업비는 1조원을 넘어설 것으로 전망했다. 삼성타운이 완공되면 삼성그룹 직원 등 2만여명이 이 단지에 상주한다. 늘어나는 유동인구는 20만명에 달할 것으로 업계는 추정하고 있다.\n",
      "\n",
      "\n",
      "=== 추진 ===\n",
      "이처럼 부지개발 계획이 서너차례 바뀌는 과정에서 지난 94년 서초구청으로부터 건축허가를 받았지만 본격적인 공사는 계속 미뤄졌다. 아울러 인근 땅값이 치솟으면서 부지 매입이 늦어진 것도 착공이 미뤄진 이유다. 인근 부동산중개업소 관계자는 \"삼성그룹측이 매입이 불가능한 부지를 제외한 채 최종 설계안을 확정한 후 공사를 본격 시작한 것 같다\"고 말했다.\n",
      "\n",
      "\n",
      "=== 건립 이유 ===\n",
      "삼성그룹 측은 삼성타운에 대해 말을 아끼고 있다. 삼성생명 관계자는 \"장기간 미뤄오던 공사를 최근 본격적으로 시작한 것은 사실이지만 더 이상은 밝힐 수 없다\"고 말했다. 하지만 업계에서는 삼성 계열사들을 한데 모아 인적교류 등을 통한 시너지효과를 높이기 위한 전략으로 보고 있다.\n",
      "한 업계 관계자는 \"삼성그룹이 당초 지금의 타워팰리스 자리에 대규모 삼성타운을 건설하려고 했다가 무산되자 대안으로 서초동 부지를 선정한 것으로 알고 있다\" 라고 말하며 \"어떻게든 서울 강남에 그룹의 거점을 마련하겠다는 의지에 따른 것으로 보인다\"고 말했다.\n",
      "\n",
      "\n",
      "=== 인근 부동산시장 지도 ===\n",
      "삼성타운은 오는 2008년부터 입주가 시작될 전망이다. 삼성타운이 완성되면 강남 최고의 비즈니스 단지 및 상권의 중심으로 자리매김 하게 된다. 현재 강남의 핵심 상권은 강남역에서 제일생명 사거리와 역삼역 방향으로 형성 돼 있지만 이 단지가 들어서면 상황은 달라진다.\n",
      "지금의 계획대로라면 삼성타운의 상주인구는 2만명에 달하고 새로 유발되는 유동인구는 20만명으로까지 늘어날 것으로 관측되기 때문이다. 삼성그룹의 핵심 계열사들이 모두 모이면서 나타나게 될 시너지효과의 위력도 대단할 게 분명하다.\n",
      "업계 관계자는 \"삼성타운이 준공되면 강남1번지가 바뀌게 될 것\"이라고 말했다. 입주 당시 인근 부동산시장 지도가 바뀌었다.\n",
      "\n",
      "\n",
      "== 대중문화 ==\n",
      "\n",
      "\n",
      "=== 영화 ===\n",
      "2012년 12월 25일에 개봉된 영화 타워의 첫 장면에 나온다.\n",
      "2019년 12월 18일에 개봉된 영화 백두산에 나온다.\n",
      "2019년 12월 26일에 개봉한 카자흐인의 한국에서의 사업에 나온다.\n",
      "\n",
      "\n",
      "=== 드라마 ===\n",
      "2013년에 방영한 별에서 온 그대에 나온다.\n",
      "2016년에 방영한 드라마월드에 나온다.\n",
      "\n",
      "\n",
      "=== 게임 ===\n",
      "2014년에 출시된 게임 콜 오브 듀티: 어드밴스드 워페어의 2054년 서울이 나온다.\n",
      "\n",
      "\n",
      "== 갤러리 ==\n",
      "\n",
      "\t\t\n",
      "\t\t\t\n",
      "\t\t\t\n",
      "\t\t\n",
      "\t\t\n",
      "\t\t\t\n",
      "\t\t\t\n",
      "\t\t\n",
      "\t\t\n",
      "\t\t\t\n",
      "\t\t\t\n",
      "\t\t\n",
      "\n",
      "\n",
      "=== 파노라마 ===\n",
      "\n",
      "\n",
      "== 교통 ==\n",
      "● 서울 지하철 2호선, ● 신분당선 - 강남역\n",
      "서초대로\n",
      "\n",
      "\n",
      "== 같이 보기 ==\n",
      "삼성그룹\n",
      "삼성생명\n",
      "삼성물산\n",
      "삼성전자\n",
      "이건희\n",
      "서울특별시의 마천루 목록\n",
      "대한민국의 마천루 목록\n",
      "\n",
      "\n",
      "== 각주 ==\n",
      "\n",
      "\n",
      "== 외부 링크 ' metadata={'title': '서초 삼성타운', 'summary': '서초 삼성타운(영어: Samsung Town Headquarters Seocho)은 대한민국 서울특별시 서초구 서초동에 있는 삼성그룹의 핵심 계열사들이 모여 있는 마천루 오피스 단지이다.\\n건물 연면적은 110,800m²이며, 상주인원은 2만명에 달한다고 한다.', 'source': 'https://ko.wikipedia.org/wiki/%EC%84%9C%EC%B4%88_%EC%82%BC%EC%84%B1%ED%83%80%EC%9A%B4'}\n",
      "----------------------------------------------------------------------------------------------------\n",
      "page_content='대한민국(한국 한자: 大韓民國)은 동아시아의 한반도 군사 분계선 남부에 위치한 나라이다. 약칭으로 한국(한국 한자: 韓國)과 남한(한국 한자: 南韓, 문화어: 남조선)으로 부르며 현정체제는 대한민국 제6공화국이다. 대한민국의 국기는 대한민국 국기법에 따라 태극기이며, 국가는 관습상 애국가, 국화는 관습상 무궁화이다. 공용어는 한국어와 한국 수어이다. 수도는 서울특별시이다. 인구는 2024년 2월 기준으로 5,130만명이고, 이 중 절반이 넘는(50.74%) 2,603만명이 수도권에 거주한다.\n",
      "대한민국은 1948년 5월 10일 총선거를 통해 제헌국회를 구성하였고, 1948년 8월 15일 대한민국 정부를 수립하였다. 대한민국은 20세기 후반 이후 급격한 경제 성장을 이루었으나, 그 과정에서 1990년대 말 외환 위기 등의 부침이 있기도 했다. 현재는, 2024년 국내총생산(GDP) 기준 세계 12위권의 경제 규모를 가지고 있으며, 2024년 1인당 국민 총소득(GNI)은 명목 3만 6,624달러이다. 2023년 유엔개발계획(UNDP)이 매년 발표하는 인간개발지수 (HDI) 조사에서 세계 20위를 기록하였다. 2021년 7월 2일 스위스 제네바 본부에서 열린 ‘제68차 무역개발이사회’ 마지막 회의에서 한국의 지위를 선진국 그룹으로 ‘의견 일치’로 변경하고 선진국으로 인정했다. 다만 높은 자살률, 장시간 근로 문화와 높은 산업 재해 사망률, 저출산 등의 사회 문제가 이 같은 성과와 병존한다. 민주주의 수준의 경우, 이코노미스트에서 발표하는 민주주의 지수 조사에서 2019년 기준 23위의 8.0점을 기록한 바와 같이 아시아에서 그 수준이 가장 높은 국가 가운데 하나이다.\n",
      "대한민국은 주요 20개국(G20), 경제 협력 개발 기구(OECD), 개발 원조 위원회(DAC), 파리 클럽 등의 회원국으로 활동하고 있다. 또한, 북대서양 조약 기구(NATO) 글로벌 파트너이자, 아프리카 개발 은행과 미주개발은행 등 비아시아권 지역의 기구에도 회원국으로 참여하고 있다.\n",
      "1948년 이후로 오늘날까지 한반도에는 대한민국과 조선민주주의인민공화국이라는 두 개의 분단국가가 각각 남북에 위치한다. 한반도와 부속도서의 면적은 약 22만 km2이며, 인구는 대한민국과 조선민주주의인민공화국을 합쳐 2019년을 기준으로 약 7,718만 명에 달한다.\n",
      "\n",
      "\n",
      "== 국호 ==\n",
      "\n",
      "\n",
      "=== 어원 ===\n",
      "대한민국(大韓民國)이란 국호 중 ‘한’ 또는 ‘대한’(大韓)의 어원은 삼국시대 때 유래하였다. 고구려, 백제, 신라를 통틀어서 삼한이라 칭했는데, 그 삼한이 통일되었다는 의미에서 대한이라 한다. 삼국 시대 사람들은 한반도의 세 나라를 삼한이라 불렀고, 이것이 후대에 이어져서 삼한을 ‘삼국’이라 부르고 삼한일통의 하나의 '한(韓)'으로 자리잡았다. 즉 ‘한(韓)’의 나라라는 뜻이다. 한(韓)이라는 말은 종교적 의미와 정치적 의미를 복합적으로 이룬 고대부터 내려온 낱말로, \"하나\", \"하늘\", \"크다\", '칸(汗) 등 여러 해석이 있다. 나중에는 한(汗)을 군주를 뜻하는 말로 사용하였다.\n",
      "근대 국가의 국호로서의 ‘대한’은 1897년 고종이 대한제국을 선포하면서 다시 선택하였다. 새 국호를 정한 이유를 ‘‘우리나라는 곧 삼한의 땅인데, 국초(國初)에 천명을 받고 한 나라로 통합되었다. 지금 국호를 ‘대한(大韓)’이라고 정한다고 해서 안 될 것이 없다. 또한 매번 각 나라의 문자를 보면 조선이라고 하지 않고 한(韓)이라 하였다. 이는 아마 미리 징표를 보이고 오늘이 있기를 기다린 것이니, 세상에 공표하지 않아도 세상이 모두 다 ‘대한’이라는 칭호를 알고 있을 것이다.’’ 고 밝혔다. 이후 여기에 민국(民國)을 더한 대한민국(大韓民國)이라는 국호는 이승만, 김구 등 대한민국 임시정부의 강력한 의지에 따라 결정하였다.\n",
      "1948년 제헌 국회에서 이 국호를 계승하여 헌법에 명시하였고 다시 1950년 1월 16일 국무원 고시 제7호 \"국호 및 일부 지방명과 지도색 사용에 관한 건\"에 의해 확정하였다. 이에 20세기 전반까지도 널리 사용하던 지명인 \"조선\"이라는 이름은 \"대한(大韓)\"이나 \"한국(韓國)\", \"한(韓)\"으로 대체하여 현재 거의 쓰지 않는다. 이에 따라 자국의 국호를 \"대한민국\", \"한국\" 등으로 부르며, 자국을 호칭할 때는 흔히 \"우리나라\"라고 한다.\n",
      "\n",
      "\n",
      "=== 용례 ===\n",
      "대한민국 내에서는 한반도 북부에 자리한 조선민주주의인민공화국과 대비해 한반도 남부에 있다 하여 대한민국을 간단히 한국(韓國) 또는 남한(南韓) 등으로도 부른다. 반대로 한반도 북부를 점거하는 조선민주주의인민공화국은 대한민국을 남조선(南朝鮮)이라고 부른다.\n",
      "코리아(Korea)란 영문 국호의 어원은 동아시아의 중세 국가인 고려에서 유래하였다.\n",
      "고구려가 5세기 장수왕 때 국호를 고려(高麗)로 변경한 것을 918년 건국한 중세 왕조 고려(高麗)가 계승하여 '고려'라는 국명이 아라비아 상인 등을 통해 전 세계에 알려졌다. 유럽인들이 '고려'를 코레(Core, Kore), 코리(Kori)로 불렀고, 이 명칭에 '~의 땅'을 의미하는 '-a'를 붙어 '고려인의 땅'이라는 '코레-아'(Corea), '코리-아'(Korea), '코리-아'(Koria)가 되어 프랑스어로 Corée, 스페인어로 Corea, 영어로 Korea라고 부른다. 현재 대한민국의 공식 영어 명칭은 Republic of Korea로서, 약칭 'R.O.K.'이며 관습상으로는 간단히 Korea라고 부르며 국제 표준화 기구에서는 약칭 'KOR'로 부른다.\n",
      "공식 문서에는 'Corea' 또는 'Korea'를 혼용하여 사용했으나, 1900년대 초기부터 영어권에서 'Korea'의 사용 빈도가 높았다. 1892년 외국인이 자주 보는 잡지 〈코리안 리포지토리〉(The Korean Repository) 5월호에는 “미국 국무부와 영국의 왕립지리학회는 우리가 차용한 이 땅의 이름을 아주 조리 있게 Korea로 표기하기 시작했던 것”이라는 내용이 나온다.\n",
      "중화인민공화국, 중화민국, 일본, 베트남 등 주로 동아시아에 있는 한자 문화권 국가들에서도 일상에서 대한민국을 간단히 한국(중국어 간체자: 韩国, 정체자: 韓國, 병음: hánguó 한궈[*], 일본어: 韓国 간코쿠, 베트남어: Hàn Quốc한 꾸옥)이라 부른다. 다만 여전히 한반도 전체를 부를 때는 조선(중국어 간체자: 朝鲜, 정체자: 朝鮮, 병음: cháoxiǎn 차오시엔[*], 일본어: 朝鮮 조센, 베트남어: Triều Tiên찌에우 띠엔)이라는 명칭을 사용한다.\n",
      "\n",
      "\n",
      "== 지리 ==\n",
      "\n",
      "\n",
      "=== 지형 ===\n",
      "\n",
      "서쪽으로 중화인민공화국과 황해를 사이에 두고, 동쪽으로 일본과 동해를 사이에 두고, 북쪽으로 조선민주주의인민공화국과 한반도 군사 분계선을 사이에 두고 맞닿아 있다.\n",
      "한반도는 제3기 마이오세 이후에 일어난 단층과 요곡운동의 결과 동쪽으로는 높은 산지가 급경사로 동해안에 임박하고 서쪽으로는 서서히 고도가 낮아진다. 이를 동고서저의 경동지형이라 한다. 높은 산들은 대부분 동부 지방에 치우쳐서 한반도의 등줄기라 불리는 태백산맥에 자리한다. 태백산맥의 대표적인 산이 설악산이다. 태백산맥의 남서쪽으로 소백산맥이 이어지며 그중에는 지리산이 유명하다. 제주도에는 대한민국에서 가장 높은 산이자 사화산인 한라산이 있다.\n",
      "\n",
      "하천의 유량은 극히 불규칙하여 여름에는 집중 호우로 연 강수량의 약 60% 이상이 홍수로 유출되며, 갈수기에는 강바닥을 거의 드러내는 하천이 많다. 대표적인 강은 위쪽부터 반시계 방향으로 한강, 금강, 영산강, 섬진강, 낙동강 등이다. 대다수의 강이 산지가 많은 동쪽에서 평평하고 낮은 구릉이 대부분인 서쪽으로 흐르며 중하류에 비교적 넓은 충적평야가 전개된다.\n",
      "산맥은 교통에 적지 않은 제약을 주어, 산맥을 경계로 지역의 문화나 풍습이 크게 차이가 난다. 산맥으로 가로막힌 지방은 고개를 넘어 왕래했는데 영서 지방과 영동 지방을 연결하는 태백산맥의 대관령·한계령·진부령·미시령, 중서부와 영남 지방을 연결하는 소백산맥의 죽령·이화령·추풍령·육십령 등이 산맥을 넘는 주요한 교통로로 사용한다.\n",
      "한반도의 서쪽은 황해, 동쪽은 동해, 남쪽은 남해와 맞닿아 삼면이 바다로 둘러싸인 반도형이며, 가장 큰 부속 도서인 제주도 남쪽으로는 ' metadata={'title': '대한민국', 'summary': '대한민국(한국 한자: 大韓民國)은 동아시아의 한반도 군사 분계선 남부에 위치한 나라이다. 약칭으로 한국(한국 한자: 韓國)과 남한(한국 한자: 南韓, 문화어: 남조선)으로 부르며 현정체제는 대한민국 제6공화국이다. 대한민국의 국기는 대한민국 국기법에 따라 태극기이며, 국가는 관습상 애국가, 국화는 관습상 무궁화이다. 공용어는 한국어와 한국 수어이다. 수도는 서울특별시이다. 인구는 2024년 2월 기준으로 5,130만명이고, 이 중 절반이 넘는(50.74%) 2,603만명이 수도권에 거주한다.\\n대한민국은 1948년 5월 10일 총선거를 통해 제헌국회를 구성하였고, 1948년 8월 15일 대한민국 정부를 수립하였다. 대한민국은 20세기 후반 이후 급격한 경제 성장을 이루었으나, 그 과정에서 1990년대 말 외환 위기 등의 부침이 있기도 했다. 현재는, 2024년 국내총생산(GDP) 기준 세계 12위권의 경제 규모를 가지고 있으며, 2024년 1인당 국민 총소득(GNI)은 명목 3만 6,624달러이다. 2023년 유엔개발계획(UNDP)이 매년 발표하는 인간개발지수 (HDI) 조사에서 세계 20위를 기록하였다. 2021년 7월 2일 스위스 제네바 본부에서 열린 ‘제68차 무역개발이사회’ 마지막 회의에서 한국의 지위를 선진국 그룹으로 ‘의견 일치’로 변경하고 선진국으로 인정했다. 다만 높은 자살률, 장시간 근로 문화와 높은 산업 재해 사망률, 저출산 등의 사회 문제가 이 같은 성과와 병존한다. 민주주의 수준의 경우, 이코노미스트에서 발표하는 민주주의 지수 조사에서 2019년 기준 23위의 8.0점을 기록한 바와 같이 아시아에서 그 수준이 가장 높은 국가 가운데 하나이다.\\n대한민국은 주요 20개국(G20), 경제 협력 개발 기구(OECD), 개발 원조 위원회(DAC), 파리 클럽 등의 회원국으로 활동하고 있다. 또한, 북대서양 조약 기구(NATO) 글로벌 파트너이자, 아프리카 개발 은행과 미주개발은행 등 비아시아권 지역의 기구에도 회원국으로 참여하고 있다.\\n1948년 이후로 오늘날까지 한반도에는 대한민국과 조선민주주의인민공화국이라는 두 개의 분단국가가 각각 남북에 위치한다. 한반도와 부속도서의 면적은 약 22만 km2이며, 인구는 대한민국과 조선민주주의인민공화국을 합쳐 2019년을 기준으로 약 7,718만 명에 달한다.', 'source': 'https://ko.wikipedia.org/wiki/%EB%8C%80%ED%95%9C%EB%AF%BC%EA%B5%AD'}\n",
      "----------------------------------------------------------------------------------------------------\n"
     ]
    }
   ],
   "source": [
    "# 위키 검색 실행\n",
    "query = \"강남상권의 특징\"\n",
    "wiki_results = wiki_search.invoke({\"query\":query})\n",
    "\n",
    "# 검색 결과 출력\n",
    "for result in wiki_results:\n",
    "    print(result)  \n",
    "    print(\"-\" * 100)  "
   ]
  },
  {
   "cell_type": "code",
   "execution_count": 29,
   "id": "1b812a0a",
   "metadata": {},
   "outputs": [
    {
     "name": "stdout",
     "output_type": "stream",
     "text": [
      "AIMessage(content='', additional_kwargs={'tool_calls': [{'id': 'call_5Xx5aVtuq2g98kdHQGaTDfhl', 'function': {'arguments': '{\"query\": \"서울 강남 상권 특징\"}', 'name': 'search_web'}, 'type': 'function'}, {'id': 'call_5iJdN1qMtzkvhiXmRws6nK7K', 'function': {'arguments': '{\"query\": \"서울 강남 유동인구\"}', 'name': 'search_web'}, 'type': 'function'}], 'refusal': None}, response_metadata={'token_usage': {'completion_tokens': 55, 'prompt_tokens': 170, 'total_tokens': 225, 'completion_tokens_details': {'accepted_prediction_tokens': 0, 'audio_tokens': 0, 'reasoning_tokens': 0, 'rejected_prediction_tokens': 0}, 'prompt_tokens_details': {'audio_tokens': 0, 'cached_tokens': 0}}, 'model_name': 'gpt-4.1-mini-2025-04-14', 'system_fingerprint': 'fp_38647f5e19', 'finish_reason': 'tool_calls', 'logprobs': None}, id='run--add06aac-2150-49d2-a0a4-4698faab40bf-0', tool_calls=[{'name': 'search_web', 'args': {'query': '서울 강남 상권 특징'}, 'id': 'call_5Xx5aVtuq2g98kdHQGaTDfhl', 'type': 'tool_call'}, {'name': 'search_web', 'args': {'query': '서울 강남 유동인구'}, 'id': 'call_5iJdN1qMtzkvhiXmRws6nK7K', 'type': 'tool_call'}], usage_metadata={'input_tokens': 170, 'output_tokens': 55, 'total_tokens': 225})\n",
      "----------------------------------------------------------------------------------------------------\n",
      "''\n",
      "----------------------------------------------------------------------------------------------------\n",
      "[{'args': {'query': '서울 강남 상권 특징'},\n",
      "  'id': 'call_5Xx5aVtuq2g98kdHQGaTDfhl',\n",
      "  'name': 'search_web',\n",
      "  'type': 'tool_call'},\n",
      " {'args': {'query': '서울 강남 유동인구'},\n",
      "  'id': 'call_5iJdN1qMtzkvhiXmRws6nK7K',\n",
      "  'name': 'search_web',\n",
      "  'type': 'tool_call'}]\n",
      "----------------------------------------------------------------------------------------------------\n"
     ]
    }
   ],
   "source": [
    "# LLM에 도구를 바인딩 (2개의 도구 바인딩)\n",
    "llm_with_tools = llm.bind_tools(tools=[search_web, wiki_search])\n",
    "\n",
    "# 도구 호출이 필요한 LLM 호출을 수행\n",
    "query = \"서울 강남의 상권 특징은 무엇인가요? 그리고 유동인구를 알려주세요. \"\n",
    "ai_msg = llm_with_tools.invoke(query)\n",
    "\n",
    "# LLM의 전체 출력 결과 출력\n",
    "pprint(ai_msg)\n",
    "print(\"-\" * 100)\n",
    "\n",
    "# 메시지 content 속성 (텍스트 출력)\n",
    "pprint(ai_msg.content)\n",
    "print(\"-\" * 100)\n",
    "\n",
    "# LLM이 호출한 도구 정보 출력\n",
    "pprint(ai_msg.tool_calls)\n",
    "print(\"-\" * 100)"
   ]
  },
  {
   "cell_type": "markdown",
   "id": "db06d2ed",
   "metadata": {},
   "source": [
    "`(2) LCEL 체인`\n",
    "- 위키피디아 문서를 검색하고 내용을 요약하는 체인"
   ]
  },
  {
   "cell_type": "code",
   "execution_count": 30,
   "id": "4a7ab14a",
   "metadata": {},
   "outputs": [
    {
     "name": "stdout",
     "output_type": "stream",
     "text": [
      "('The Gyeongui Line Forest Park is a linear park in South Korea, covering '\n",
      " 'approximately 101,668 m² and extending 6.3 km. It was created from the land '\n",
      " 'left after the underground construction of the Yongsan Line, with '\n",
      " 'development starting in 2009 and completion in May 2016. The park features '\n",
      " 'sections from Hongjecheon to the Yongsan Cultural and Sports Center and is '\n",
      " \"known for its resemblance to New York's Central Park, particularly the area \"\n",
      " 'near Hongdae. Managed by a non-profit organization, the park aims to enhance '\n",
      " 'local community engagement and ecological infrastructure.\\n'\n",
      " '\\n'\n",
      " 'Lotte World Tower, located in Seoul, is a skyscraper that stands 555 meters '\n",
      " 'tall with 123 floors. Construction began in 2010, and it was completed in '\n",
      " 'December 2016, officially opening in April 2017. Initially proposed as a '\n",
      " 'second Lotte World in 1994, the project evolved through various plans and '\n",
      " 'name changes. It is the tallest building in South Korea and the sixth '\n",
      " 'tallest in the world, featuring a significant observation deck. The tower '\n",
      " 'represents a major achievement in Korean architecture, although it has faced '\n",
      " 'criticism for reliance on foreign engineering expertise.')\n"
     ]
    }
   ],
   "source": [
    "from langchain_core.prompts import ChatPromptTemplate\n",
    "from langchain_core.output_parsers import StrOutputParser\n",
    "from langchain_core.runnables import RunnableLambda\n",
    "from langchain_community.document_loaders import WikipediaLoader\n",
    "\n",
    "# WikipediaLoader를 사용하여 위키피디아 문서를 검색하고 텍스트로 반환하는 함수 \n",
    "def wiki_search_and_summarize(input_data: dict):\n",
    "    wiki_loader = WikipediaLoader(query=input_data[\"query\"], load_max_docs=2, lang=\"ko\")\n",
    "    wiki_docs = wiki_loader.load()\n",
    "\n",
    "    formatted_docs =[\n",
    "        f'<Document source=\"{doc.metadata[\"source\"]}\"/>\\n{doc.page_content}\\n</Document>'\n",
    "        for doc in wiki_docs\n",
    "        ]\n",
    "    \n",
    "    return formatted_docs\n",
    "\n",
    "# 요약 프롬프트 템플릿\n",
    "summary_prompt = ChatPromptTemplate.from_template(\n",
    "    \"Summarize the following text in a concise manner:\\n\\n{context}\\n\\nSummary:\"\n",
    ")\n",
    "\n",
    "# LLM 및 요약 체인 설정\n",
    "llm = ChatOpenAI(model=\"gpt-4o-mini\", temperature=0)\n",
    "summary_chain = (\n",
    "    {\"context\": RunnableLambda(wiki_search_and_summarize)}\n",
    "    | summary_prompt | llm | StrOutputParser() \n",
    ")\n",
    "\n",
    "# 요약 테스트 \n",
    "summarized_text = summary_chain.invoke({\"query\":\"송파 상권의 특징\"})\n",
    "pprint(summarized_text)"
   ]
  },
  {
   "cell_type": "code",
   "execution_count": 31,
   "id": "a35ac080",
   "metadata": {},
   "outputs": [
    {
     "name": "stdout",
     "output_type": "stream",
     "text": [
      "자료형: \n",
      "<class 'langchain_core.tools.structured.StructuredTool'>\n",
      "----------------------------------------------------------------------------------------------------\n",
      "name: \n",
      "wiki_summary\n",
      "----------------------------------------------------------------------------------------------------\n",
      "description: \n",
      "('Use this tool when you need to search for information on Wikipedia.\\n'\n",
      " \"It searches for Wikipedia articles related to the user's query and returns\\n\"\n",
      " 'a summarized text. This tool is useful when general knowledge\\n'\n",
      " 'or background information is required.')\n",
      "----------------------------------------------------------------------------------------------------\n",
      "schema: \n",
      "<class '__main__.WikiSummarySchema'>\n",
      "----------------------------------------------------------------------------------------------------\n"
     ]
    }
   ],
   "source": [
    "# 도구 호출에 사용할 입력 스키마 정의 \n",
    "class WikiSummarySchema(BaseModel):\n",
    "    \"\"\"Input schema for Wikipedia search.\"\"\"\n",
    "    query: str = Field(..., description=\"The query to search for in Wikipedia\")\n",
    "\n",
    "# as_tool 메소드를 사용하여 도구 객체로 변환\n",
    "wiki_summary = summary_chain.as_tool(\n",
    "    name=\"wiki_summary\",\n",
    "    description=dedent(\"\"\"\n",
    "        Use this tool when you need to search for information on Wikipedia.\n",
    "        It searches for Wikipedia articles related to the user's query and returns\n",
    "        a summarized text. This tool is useful when general knowledge\n",
    "        or background information is required.\n",
    "    \"\"\"),\n",
    "    args_schema=WikiSummarySchema\n",
    ")\n",
    "\n",
    "# 도구 속성\n",
    "print(\"자료형: \")\n",
    "print(type(wiki_summary))\n",
    "print(\"-\"*100)\n",
    "\n",
    "print(\"name: \")\n",
    "print(wiki_summary.name)\n",
    "print(\"-\"*100)\n",
    "\n",
    "print(\"description: \")\n",
    "pprint(wiki_summary.description)\n",
    "print(\"-\"*100)\n",
    "\n",
    "print(\"schema: \")\n",
    "pprint(wiki_summary.args_schema)\n",
    "print(\"-\"*100)"
   ]
  },
  {
   "cell_type": "code",
   "execution_count": 40,
   "id": "78824759",
   "metadata": {},
   "outputs": [
    {
     "name": "stdout",
     "output_type": "stream",
     "text": [
      "AIMessage(content='', additional_kwargs={'tool_calls': [{'id': 'call_aWD3ja93BHldTyqBG4dw8PMo', 'function': {'arguments': '{\"query\":\"강남 파스타 맛집 추천 2023\"}', 'name': 'search_web'}, 'type': 'function'}], 'refusal': None}, response_metadata={'token_usage': {'completion_tokens': 24, 'prompt_tokens': 141, 'total_tokens': 165, 'completion_tokens_details': {'accepted_prediction_tokens': 0, 'audio_tokens': 0, 'reasoning_tokens': 0, 'rejected_prediction_tokens': 0}, 'prompt_tokens_details': {'audio_tokens': 0, 'cached_tokens': 0}}, 'model_name': 'gpt-4o-mini-2024-07-18', 'system_fingerprint': 'fp_dbaca60df0', 'finish_reason': 'tool_calls', 'logprobs': None}, id='run--e7320eb6-096d-4cbe-90dc-13075e788c0f-0', tool_calls=[{'name': 'search_web', 'args': {'query': '강남 파스타 맛집 추천 2023'}, 'id': 'call_aWD3ja93BHldTyqBG4dw8PMo', 'type': 'tool_call'}], usage_metadata={'input_tokens': 141, 'output_tokens': 24, 'total_tokens': 165})\n",
      "----------------------------------------------------------------------------------------------------\n",
      "''\n",
      "----------------------------------------------------------------------------------------------------\n",
      "[{'args': {'query': '강남 파스타 맛집 추천 2023'},\n",
      "  'id': 'call_aWD3ja93BHldTyqBG4dw8PMo',\n",
      "  'name': 'search_web',\n",
      "  'type': 'tool_call'}]\n",
      "----------------------------------------------------------------------------------------------------\n"
     ]
    }
   ],
   "source": [
    "# LLM에 도구를 바인딩\n",
    "llm_with_tools = llm.bind_tools(tools=[search_web, wiki_summary])\n",
    "\n",
    "# 도구 호출이 필요한 LLM 호출을 수행\n",
    "query = \"강남의 파스타 맛집은 어디인가요? 이유를 설명해주세요 \"\n",
    "ai_msg = llm_with_tools.invoke(query)\n",
    "\n",
    "# LLM의 전체 출력 결과 출력\n",
    "pprint(ai_msg)\n",
    "print(\"-\" * 100)\n",
    "\n",
    "# 메시지 content 속성 (텍스트 출력)\n",
    "pprint(ai_msg.content)\n",
    "print(\"-\" * 100)\n",
    "\n",
    "# LLM이 호출한 도구 정보 출력\n",
    "pprint(ai_msg.tool_calls)\n",
    "print(\"-\" * 100)"
   ]
  },
  {
   "cell_type": "code",
   "execution_count": 43,
   "id": "2e2de1a6",
   "metadata": {},
   "outputs": [
    {
     "name": "stdout",
     "output_type": "stream",
     "text": [
      "ai_msg: \n",
      " content='' additional_kwargs={'tool_calls': [{'id': 'call_RmzUTgwuGOZjyvdS2ruIJ66O', 'function': {'arguments': '{\"query\":\"파스타의 유래\"}', 'name': 'wiki_summary'}, 'type': 'function'}], 'refusal': None} response_metadata={'token_usage': {'completion_tokens': 20, 'prompt_tokens': 120, 'total_tokens': 140, 'completion_tokens_details': {'accepted_prediction_tokens': 0, 'audio_tokens': 0, 'reasoning_tokens': 0, 'rejected_prediction_tokens': 0}, 'prompt_tokens_details': {'audio_tokens': 0, 'cached_tokens': 0}}, 'model_name': 'gpt-4o-mini-2024-07-18', 'system_fingerprint': 'fp_0392822090', 'finish_reason': 'tool_calls', 'logprobs': None} id='run--fefd6c23-57d5-45fc-acf1-8de121c60eb3-0' tool_calls=[{'name': 'wiki_summary', 'args': {'query': '파스타의 유래'}, 'id': 'call_RmzUTgwuGOZjyvdS2ruIJ66O', 'type': 'tool_call'}] usage_metadata={'input_tokens': 120, 'output_tokens': 20, 'total_tokens': 140}\n",
      "----------------------------------------------------------------------------------------------------\n",
      "tool_msgs: \n",
      " [ToolMessage(content='오르조(또는 리소니)는 이탈리아의 파스타로, 보리에서 유래한 이름을 가지고 있으며 큰 쌀알 모양이다. 주로 수프와 함께 먹으며, 현재는 박력분으로 만들어진다. 터키에서는 아르파 셰흐리예로 불리며, 필라브나 수프에 사용된다. 이탈리아 요리는 기원전 4세기부터 발전해왔으며, 지역마다 특색이 다르다. 북부는 쌀과 유제품을, 남부는 올리브와 해산물을 주로 사용한다. 이탈리아 요리는 간결함과 재료의 질을 중시하며, 2013년 CNN에서 세계 최고의 요리로 선정되었다.', name='wiki_summary', tool_call_id='call_RmzUTgwuGOZjyvdS2ruIJ66O')]\n",
      "----------------------------------------------------------------------------------------------------\n",
      "('파스타는 이탈리아의 전통 요리로, 그 기원은 기원전 4세기까지 거슬러 올라갑니다. 이탈리아의 지역마다 특색이 다르며, 북부 지역은 주로 '\n",
      " '쌀과 유제품을 사용하고, 남부 지역은 올리브와 해산물을 주로 사용합니다. 파스타는 간결함과 재료의 질을 중시하는 이탈리아 요리의 중요한 '\n",
      " '부분으로, 2013년 CNN에서 세계 최고의 요리로 선정된 바 있습니다.\\n'\n",
      " '\\n'\n",
      " '또한, 오르조(또는 리소니)라는 파스타는 보리에서 유래한 이름을 가지고 있으며, 큰 쌀알 모양으로 주로 수프와 함께 먹습니다. 터키에서는 '\n",
      " '아르파 셰흐리예로 불리며, 필라브나 수프에 사용됩니다.')\n"
     ]
    }
   ],
   "source": [
    "from datetime import datetime\n",
    "from langchain_core.prompts import ChatPromptTemplate\n",
    "from langchain_core.runnables import RunnableConfig, chain\n",
    "\n",
    "# 오늘 날짜 설정\n",
    "today = datetime.today().strftime(\"%Y-%m-%d\")\n",
    "\n",
    "# 프롬프트 템플릿 \n",
    "prompt = ChatPromptTemplate([\n",
    "    (\"system\", f\"You are a helpful AI assistant. Today's date is {today}.\"),\n",
    "    (\"human\", \"{user_input}\"),\n",
    "    (\"placeholder\", \"{messages}\"),\n",
    "])\n",
    "\n",
    "# LLM에 도구를 바인딩\n",
    "llm_with_tools = llm.bind_tools(tools=[wiki_summary])\n",
    "\n",
    "# LLM 체인 생성\n",
    "llm_chain = prompt | llm_with_tools\n",
    "\n",
    "# 도구 실행 체인 정의\n",
    "@chain\n",
    "def wiki_summary_chain(user_input: str, config: RunnableConfig):\n",
    "    input_ = {\"user_input\": user_input}\n",
    "    ai_msg = llm_chain.invoke(input_, config=config)\n",
    "    print(\"ai_msg: \\n\", ai_msg)\n",
    "    print(\"-\"*100)\n",
    "    tool_msgs = wiki_summary.batch(ai_msg.tool_calls, config=config)\n",
    "    print(\"tool_msgs: \\n\", tool_msgs)\n",
    "    print(\"-\"*100)\n",
    "    return llm_chain.invoke({**input_, \"messages\": [ai_msg, *tool_msgs]}, config=config)\n",
    "\n",
    "# 체인 실행\n",
    "response = wiki_summary_chain.invoke(\"파스타의 유래에 대해서 알려주세요.\")\n",
    "\n",
    "# 응답 출력 \n",
    "pprint(response.content)"
   ]
  },
  {
   "cell_type": "markdown",
   "id": "6f828547",
   "metadata": {},
   "source": [
    "### 2-4. 벡터저장소 검색기\n",
    "- @tool decorator 사용"
   ]
  },
  {
   "cell_type": "markdown",
   "id": "e9a9dc12",
   "metadata": {},
   "source": [
    "`(1) 문서 로드 및 인덱싱`"
   ]
  },
  {
   "cell_type": "code",
   "execution_count": 73,
   "id": "a0da1d76",
   "metadata": {},
   "outputs": [
    {
     "name": "stdout",
     "output_type": "stream",
     "text": [
      "1\n"
     ]
    }
   ],
   "source": [
    "from langchain.document_loaders import TextLoader\n",
    "\n",
    "# 구판 텍스트 데이터를 로드\n",
    "loader = TextLoader(\"../data/Apartment.txt\", encoding=\"utf-8\")\n",
    "documents = loader.load()\n",
    "\n",
    "print(len(documents))"
   ]
  },
  {
   "cell_type": "code",
   "execution_count": 74,
   "id": "5e94154e",
   "metadata": {},
   "outputs": [
    {
     "name": "stdout",
     "output_type": "stream",
     "text": [
      "총 25개의 구 항목이 처리되었습니다.\n",
      "\n",
      "구 번호: 1\n",
      "구 이름: 서초구\n",
      "내용:\n",
      "1. 서초구\n",
      "   • 20평대 평균가: 21.7억\n",
      "   • 주요 아파트: 반포자이 3410세대, 래미안퍼스티지 2444세대, 아크로리버파크 1612세대\n",
      "   • 설명: 한강변, 명...\n",
      "\n",
      "구 번호: 2\n",
      "구 이름: 강남구\n",
      "내용:\n",
      "2. 강남구\n",
      "   • 20평대 평균가: 20.5억\n",
      "   • 주요 아파트: 현대캐피탈 1520세대, 타워팰리스 1010세대, 삼성래미안 1580세대\n",
      "   • 설명: 비즈니스 중심지,...\n"
     ]
    }
   ],
   "source": [
    "from langchain_core.documents import Document\n",
    "\n",
    "# 문서 분할 (Chunking)\n",
    "def split_gu_items(document):\n",
    "    \"\"\"\n",
    "    구 항목을 분리하는 함수 \n",
    "    \"\"\"\n",
    "    # 정규표현식 정의 \n",
    "    pattern = r'(\\d+\\.\\s.*?)(?=\\n\\n\\d+\\.|$)'\n",
    "    gu_items = re.findall(pattern, document.page_content, re.DOTALL)\n",
    "    \n",
    "    # 각 구 항목을 Document 객체로 변환\n",
    "    gu_documents = []\n",
    "    for i, item in enumerate(gu_items, 1):\n",
    "        # 구 이름 추출\n",
    "        gu_name = item.split('\\n')[0].split('.', 1)[1].strip()\n",
    "        \n",
    "        # 새로운 Document 객체 생성\n",
    "        gu_doc = Document(\n",
    "            page_content=item.strip(),\n",
    "            metadata={\n",
    "                \"source\": document.metadata['source'],\n",
    "                \"gu_number\": i,\n",
    "                \"gu_name\": gu_name\n",
    "            }\n",
    "        )\n",
    "        gu_documents.append(gu_doc)\n",
    "    \n",
    "    return gu_documents\n",
    "\n",
    "\n",
    "# 구 항목 분리 실행\n",
    "gu_documents = []\n",
    "for doc in documents:\n",
    "    gu_documents += split_gu_items(doc)\n",
    "\n",
    "# 결과 출력\n",
    "print(f\"총 {len(gu_documents)}개의 구 항목이 처리되었습니다.\")\n",
    "for doc in gu_documents[:2]:\n",
    "    print(f\"\\n구 번호: {doc.metadata['gu_number']}\")\n",
    "    print(f\"구 이름: {doc.metadata['gu_name']}\")\n",
    "    print(f\"내용:\\n{doc.page_content[:100]}...\")"
   ]
  },
  {
   "cell_type": "code",
   "execution_count": 94,
   "id": "8552797f",
   "metadata": {},
   "outputs": [
    {
     "name": "stdout",
     "output_type": "stream",
     "text": [
      "검색 결과: 2개\n",
      "구 번호: 20\n",
      "구 이름: 구로구\n",
      "\n",
      "구 번호: 20\n",
      "구 이름: 구로구\n",
      "\n"
     ]
    }
   ],
   "source": [
    "# Chroma Vectorstore를 사용하기 위한 준비\n",
    "from langchain_chroma import Chroma\n",
    "from langchain_ollama  import OllamaEmbeddings\n",
    "\n",
    "embeddings_model = OllamaEmbeddings(model=\"bge-m3\") \n",
    "\n",
    "# Chroma 인덱스 생성\n",
    "gu_db = Chroma.from_documents(\n",
    "    documents=gu_documents, \n",
    "    embedding=embeddings_model,   \n",
    "    collection_name=\"apartment\",\n",
    "    persist_directory=\"./chroma_db\",\n",
    ")\n",
    "\n",
    "# Retriever 생성\n",
    "gu_retriever = gu_db.as_retriever(\n",
    "    search_kwargs={'k': 2},\n",
    ")\n",
    "\n",
    "# 쿼리 테스트\n",
    "query = \"평균값이 가장 비싼 구는 어디인가요? 특징은 무엇인가요?\"\n",
    "docs = gu_retriever.invoke(query)\n",
    "print(f\"검색 결과: {len(docs)}개\")\n",
    "\n",
    "for doc in docs:\n",
    "    print(f\"구 번호: {doc.metadata['gu_number']}\")\n",
    "    print(f\"구 이름: {doc.metadata['gu_name']}\")\n",
    "    print()"
   ]
  },
  {
   "cell_type": "markdown",
   "id": "9cf58d36",
   "metadata": {},
   "source": [
    "- 상권에 대해서도 같은 작업을 처리"
   ]
  },
  {
   "cell_type": "code",
   "execution_count": 93,
   "id": "1dc82b06",
   "metadata": {},
   "outputs": [
    {
     "name": "stdout",
     "output_type": "stream",
     "text": [
      "총 25개의 구 항목이 처리되었습니다.\n",
      "\n",
      "구 번호: 1\n",
      "구 이름: 강남구\n",
      "내용:\n",
      "1. 강남구\n",
      "   • 인당 GDP: 7,500만원\n",
      "   • 주요 기업: 삼성전자, 현대자동차, 카카오\n",
      "   • 상권 설명: 대형 오피스, 고급 상업시설, 유동인구 많음\n",
      "   • 유...\n",
      "\n",
      "구 번호: 2\n",
      "구 이름: 중구\n",
      "내용:\n",
      "2. 중구\n",
      "   • 인당 GDP: 6,800만원\n",
      "   • 주요 기업: 신세계, 롯데, 한화\n",
      "   • 상권 설명: 명동, 남대문, 을지로 등 중심상권, 관광객·직장인 유동인구\n",
      "   ...\n",
      "검색 결과: 2개\n",
      "구 번호: 10\n",
      "구 이름: 강서구\n",
      "\n",
      "구 번호: 10\n",
      "구 이름: 강서구\n",
      "\n"
     ]
    }
   ],
   "source": [
    "# 상권 텍스트 데이터를 로드\n",
    "loader = TextLoader(\"../data/Commercial.txt\", encoding=\"utf-8\")\n",
    "documents = loader.load()\n",
    "\n",
    "# 구 항목 분리 실행\n",
    "gu_documents = []\n",
    "for doc in documents:\n",
    "    gu_documents += split_gu_items(doc)\n",
    "\n",
    "# 결과 출력\n",
    "print(f\"총 {len(gu_documents)}개의 구 항목이 처리되었습니다.\")\n",
    "for doc in gu_documents[:2]:\n",
    "    print(f\"\\n구 번호: {doc.metadata['gu_number']}\")\n",
    "    print(f\"구 이름: {doc.metadata['gu_name']}\")\n",
    "    print(f\"내용:\\n{doc.page_content[:100]}...\")\n",
    "\n",
    "\n",
    "# Chroma 인덱스 생성\n",
    "wine_db = Chroma.from_documents(\n",
    "    documents=gu_documents, \n",
    "    embedding=embeddings_model,   \n",
    "    collection_name=\"Commercial\",\n",
    "    persist_directory=\"./chroma_db\",\n",
    ")\n",
    "\n",
    "wine_retriever = wine_db.as_retriever(\n",
    "    search_kwargs={'k': 2},\n",
    ")\n",
    "\n",
    "query = \"두번째로 GDP가 높은 구의 정보를 출력해주세요\"\n",
    "docs = wine_retriever.invoke(query)\n",
    "print(f\"검색 결과: {len(docs)}개\")\n",
    "\n",
    "for doc in docs:\n",
    "    print(f\"구 번호: {doc.metadata['gu_number']}\")\n",
    "    print(f\"구 이름: {doc.metadata['gu_name']}\")\n",
    "    print()"
   ]
  },
  {
   "cell_type": "markdown",
   "id": "2040915b",
   "metadata": {},
   "source": [
    "`(2) 도구(tool) 정의하기`"
   ]
  },
  {
   "cell_type": "code",
   "execution_count": 98,
   "id": "93d4c3a5",
   "metadata": {},
   "outputs": [
    {
     "name": "stdout",
     "output_type": "stream",
     "text": [
      "자료형: \n",
      "<class 'langchain_core.tools.structured.StructuredTool'>\n",
      "----------------------------------------------------------------------------------------------------\n",
      "name: \n",
      "search_apartment\n",
      "----------------------------------------------------------------------------------------------------\n",
      "description: \n",
      "'아파트(apartment) 정보를 안전하게 검색하는 도구입니다.\\n이 도구는 아파트 관련 질의에만 사용하세요.'\n",
      "----------------------------------------------------------------------------------------------------\n",
      "schema: \n",
      "<class 'langchain_core.utils.pydantic.search_apartment'>\n",
      "----------------------------------------------------------------------------------------------------\n"
     ]
    }
   ],
   "source": [
    "# 벡터 저장소 로드\n",
    "gu_db = Chroma(\n",
    "    embedding_function=embeddings_model,   \n",
    "    collection_name=\"apartment\",\n",
    "    persist_directory=\"./chroma_db\",\n",
    ")\n",
    "\n",
    "@tool\n",
    "def search_apartment(query: str) -> List[Document]:\n",
    "   \"\"\"\n",
    "   아파트(apartment) 정보를 안전하게 검색하는 도구입니다.\n",
    "   이 도구는 아파트 관련 질의에만 사용하세요.\n",
    "   \"\"\"\n",
    "   docs = gu_db.similarity_search(query, k=2)\n",
    "   if len(docs) > 0: \n",
    "     return docs\n",
    "   return [Document(page_content=\"관련 구 정보를 찾을 수 없습니다.\")]\n",
    "\n",
    "# 도구 속성\n",
    "print(\"자료형: \")\n",
    "print(type(search_apartment))\n",
    "print(\"-\"*100)\n",
    "\n",
    "print(\"name: \")\n",
    "print(search_apartment.name)\n",
    "print(\"-\"*100)\n",
    "\n",
    "print(\"description: \")\n",
    "pprint(search_apartment.description)\n",
    "print(\"-\"*100)\n",
    "\n",
    "print(\"schema: \")\n",
    "pprint(search_apartment.args_schema)\n",
    "print(\"-\"*100)"
   ]
  },
  {
   "cell_type": "code",
   "execution_count": 105,
   "id": "b8ae1341",
   "metadata": {},
   "outputs": [
    {
     "name": "stdout",
     "output_type": "stream",
     "text": [
      "자료형: \n",
      "<class 'langchain_core.tools.structured.StructuredTool'>\n",
      "----------------------------------------------------------------------------------------------------\n",
      "name: \n",
      "search_commercial\n",
      "----------------------------------------------------------------------------------------------------\n",
      "description: \n",
      "'상권(Commercial) 정보를 안전하게 검색하는 도구입니다.\\n이 도구는 상권 및 GDP 관련 질의에만 사용하세요.'\n",
      "----------------------------------------------------------------------------------------------------\n",
      "schema: \n",
      "<class 'langchain_core.utils.pydantic.search_commercial'>\n",
      "----------------------------------------------------------------------------------------------------\n"
     ]
    }
   ],
   "source": [
    "from langchain_core.tools import tool\n",
    "from typing import List\n",
    "from langchain_core.documents import Document\n",
    "\n",
    "# 벡터 저장소 로드\n",
    "commercial_db = Chroma(\n",
    "   embedding_function=embeddings_model,   \n",
    "   collection_name=\"commercial\",\n",
    "   persist_directory=\"./chroma_db\",\n",
    ")\n",
    "\n",
    "@tool\n",
    "def search_commercial(query: str) -> List[Document]:\n",
    "   \"\"\"\n",
    "   상권(Commercial) 정보를 안전하게 검색하는 도구입니다.\n",
    "   이 도구는 상권 및 GDP 관련 질의에만 사용하세요.\n",
    "   \"\"\"\n",
    "   docs = commercial_db.similarity_search(query, k=2)\n",
    "   if len(docs) > 0:\n",
    "      return docs\n",
    "   \n",
    "   return [Document(page_content=\"관련 상권 정보를 찾을 수 없습니다.\")]\n",
    "\n",
    "# 도구 속성\n",
    "print(\"자료형: \")\n",
    "print(type(search_commercial))\n",
    "print(\"-\"*100)\n",
    "\n",
    "print(\"name: \")\n",
    "print(search_commercial.name)\n",
    "print(\"-\"*100)\n",
    "\n",
    "print(\"description: \")\n",
    "pprint(search_commercial.description)\n",
    "print(\"-\"*100)\n",
    "\n",
    "print(\"schema: \")\n",
    "pprint(search_commercial.args_schema)\n",
    "print(\"-\"*100)"
   ]
  },
  {
   "cell_type": "code",
   "execution_count": 101,
   "id": "51ac56a5",
   "metadata": {},
   "outputs": [
    {
     "name": "stdout",
     "output_type": "stream",
     "text": [
      "AIMessage(content='', additional_kwargs={'tool_calls': [{'id': 'call_g9KyHDLiLR5wP8hSty6tx2zT', 'function': {'arguments': '{\"query\": \"서초구 20평대 아파트 평균가\"}', 'name': 'search_apartment'}, 'type': 'function'}, {'id': 'call_7rDqS9h0nQcXxnsTgvSJ65IR', 'function': {'arguments': '{\"query\": \"서초구 상권 주요 특징\"}', 'name': 'search_commercial'}, 'type': 'function'}], 'refusal': None}, response_metadata={'token_usage': {'completion_tokens': 63, 'prompt_tokens': 141, 'total_tokens': 204, 'completion_tokens_details': {'accepted_prediction_tokens': 0, 'audio_tokens': 0, 'reasoning_tokens': 0, 'rejected_prediction_tokens': 0}, 'prompt_tokens_details': {'audio_tokens': 0, 'cached_tokens': 0}}, 'model_name': 'gpt-4.1-mini-2025-04-14', 'system_fingerprint': 'fp_79b79be41f', 'finish_reason': 'tool_calls', 'logprobs': None}, id='run--7406c5ea-8c6b-4324-945e-ed2c8dee7803-0', tool_calls=[{'name': 'search_apartment', 'args': {'query': '서초구 20평대 아파트 평균가'}, 'id': 'call_g9KyHDLiLR5wP8hSty6tx2zT', 'type': 'tool_call'}, {'name': 'search_commercial', 'args': {'query': '서초구 상권 주요 특징'}, 'id': 'call_7rDqS9h0nQcXxnsTgvSJ65IR', 'type': 'tool_call'}], usage_metadata={'input_tokens': 141, 'output_tokens': 63, 'total_tokens': 204})\n",
      "----------------------------------------------------------------------------------------------------\n",
      "''\n",
      "----------------------------------------------------------------------------------------------------\n",
      "[{'args': {'query': '서초구 20평대 아파트 평균가'},\n",
      "  'id': 'call_g9KyHDLiLR5wP8hSty6tx2zT',\n",
      "  'name': 'search_apartment',\n",
      "  'type': 'tool_call'},\n",
      " {'args': {'query': '서초구 상권 주요 특징'},\n",
      "  'id': 'call_7rDqS9h0nQcXxnsTgvSJ65IR',\n",
      "  'name': 'search_commercial',\n",
      "  'type': 'tool_call'}]\n",
      "----------------------------------------------------------------------------------------------------\n"
     ]
    }
   ],
   "source": [
    "# LLM에 도구를 바인딩 (2개의 도구 바인딩)\n",
    "# LLM에 도구를 바인딩 (아파트/상권 도구 바인딩)\n",
    "llm_with_tools = llm.bind_tools(tools=[search_apartment, search_commercial])\n",
    "\n",
    "# 도구 호출이 필요한 LLM 호출을 수행\n",
    "query = \"서초구의 20평대 아파트 평균가와 특징은 무엇인가요? 그리고 서초구 상권의 주요 특징도 알려주세요.\"\n",
    "ai_msg = llm_with_tools.invoke(query)\n",
    "\n",
    "# LLM의 전체 출력 결과 출력\n",
    "pprint(ai_msg)\n",
    "print(\"-\" * 100)\n",
    "\n",
    "# 메시지 content 속성 (텍스트 출력)\n",
    "pprint(ai_msg.content)\n",
    "print(\"-\" * 100)\n",
    "\n",
    "# LLM이 호출한 도구 정보 출력\n",
    "pprint(ai_msg.tool_calls)\n",
    "print(\"-\" * 100)"
   ]
  },
  {
   "cell_type": "markdown",
   "id": "7f7b74a1",
   "metadata": {},
   "source": [
    "`(3) 여러 개의 도구(tool) 호출하기`"
   ]
  },
  {
   "cell_type": "code",
   "execution_count": 102,
   "id": "23c3bba9",
   "metadata": {},
   "outputs": [
    {
     "name": "stdout",
     "output_type": "stream",
     "text": [
      "search_web\n",
      "wiki_summary\n",
      "search_apartment\n",
      "search_commercial\n"
     ]
    }
   ],
   "source": [
    "tools = [search_web, wiki_summary, search_apartment, search_commercial]\n",
    "for tool in tools:\n",
    "    print(tool.name)"
   ]
  },
  {
   "cell_type": "code",
   "execution_count": 103,
   "id": "1eda10de",
   "metadata": {},
   "outputs": [
    {
     "name": "stdout",
     "output_type": "stream",
     "text": [
      "search_apartment: \n",
      "{'name': 'search_apartment', 'args': {'query': '강동구 아파트 평균 가격'}, 'id': 'call_0eoV52cTZwX38FMwV7vRYSyK', 'type': 'tool_call'}\n",
      "----------------------------------------------------------------------------------------------------\n",
      "search_commercial: \n",
      "{'name': 'search_commercial', 'args': {'query': '강동구 상권 특성'}, 'id': 'call_DFhNhmIfLJMY12DXLJmkozrs', 'type': 'tool_call'}\n",
      "----------------------------------------------------------------------------------------------------\n",
      "search_web: \n",
      "{'name': 'search_web', 'args': {'query': '강동구 GDP'}, 'id': 'call_d0MSzRXVVS2iHverKfXcMgMZ', 'type': 'tool_call'}\n",
      "----------------------------------------------------------------------------------------------------\n",
      "tool_msgs: \n",
      " [ToolMessage(content=\"[Document(metadata={'gu_name': '강동구', 'gu_number': 11, 'source': '../data/Apartment.txt'}, page_content='11. 강동구\\\\n   • 20평대 평균가: 10.2억\\\\n   • 주요 아파트: 천호동 한라 1500세대, 고덕 롯데 1600세대, 성내 현대 1400세대\\\\n   • 설명: 도심에서 떨어져 있지만 자연환경과 주거환경이 좋은 지역.'), Document(metadata={'gu_name': '강동구', 'gu_number': 11, 'source': '../data/Apartment.txt'}, page_content='11. 강동구\\\\n   • 20평대 평균가: 10.2억\\\\n   • 주요 아파트: 천호동 한라 1500세대, 고덕 롯데 1600세대, 성내 현대 1400세대\\\\n   • 설명: 도심에서 떨어져 있지만 자연환경과 주거환경이 좋은 지역.')]\", name='search_apartment', tool_call_id='call_0eoV52cTZwX38FMwV7vRYSyK'), ToolMessage(content=\"[Document(metadata={}, page_content='관련 상권 정보를 찾을 수 없습니다.')]\", name='search_commercial', tool_call_id='call_DFhNhmIfLJMY12DXLJmkozrs'), ToolMessage(content='<Document href=\"https://www.welfarehello.com/community/hometownNews/41b7eafa-e9e7-4773-b54b-9ab937849d1c\"/>\\n▷ 강동구의 모든 데이터를 지도, 도표 등으로 시각화하여 제공하는 서비스. \\u200b. ✓ 접속방법. ▷ 강동구청 홈페이지 > \\'한눈에 강동\\' 배너 클릭. ▷ http://gdp.gangdong\\n</Document>\\n---\\n<Document href=\"https://blog.naver.com/gangdongpr/223085703204?viewType=pc\"/>\\n스마트강동 통합 플랫폼 로그인. gdp.gangdong.go.kr. ▷ 휴대전화로 QR코드 접속. 문의: 강동구청 스마트도시과(☎02-3425-5290). \\u200b. \\u200b. \\u200b. #강동구 · #\\n</Document>', name='search_web', tool_call_id='call_d0MSzRXVVS2iHverKfXcMgMZ')]\n",
      "----------------------------------------------------------------------------------------------------\n",
      "강동구 아파트 평균 가격과 상권 특성, 그리고 GDP 정보를 아래와 같이 정리해 드립니다.\n",
      "\n",
      "1. 강동구 아파트 평균 가격:\n",
      "- 20평대 평균 가격은 약 10.2억 원입니다.\n",
      "- 주요 지역별로 천호동 한라 아파트는 약 1500세대, 고덕 롯데 아파트는 약 1600세대, 성내동 현대 아파트는 약 1400세대 규모입니다.\n",
      "- 도심에서 약간 떨어져 있지만 자연환경과 주거환경이 좋은 지역입니다.\n",
      "\n",
      "2. 강동구 상권 특성:\n",
      "- 관련 상권 정보가 구체적으로 제공되지 않았습니다.\n",
      "\n",
      "3. 강동구 GDP:\n",
      "- 강동구의 전체 데이터는 공식 웹사이트(gdp.gangdong.go.kr)에서 확인할 수 있으며, 통합 플랫폼으로 지역 경제와 관련된 다양한 정보를 제공합니다.\n",
      "\n",
      "필요시 강동구 상권 특성에 대해 좀 더 세부적으로 조사하거나, GDP 관련 구체 데이터를 원하시면 알려주세요.\n"
     ]
    }
   ],
   "source": [
    "from datetime import datetime\n",
    "from langchain_core.prompts import ChatPromptTemplate\n",
    "from langchain_core.runnables import RunnableConfig, chain\n",
    "\n",
    "# 오늘 날짜 설정\n",
    "today = datetime.today().strftime(\"%Y-%m-%d\")\n",
    "\n",
    "# 프롬프트 템플릿 \n",
    "prompt = ChatPromptTemplate([\n",
    "    (\"system\", f\"You are a helpful AI assistant. Today's date is {today}.\"),\n",
    "    (\"human\", \"{user_input}\"),\n",
    "    (\"placeholder\", \"{messages}\"),\n",
    "])\n",
    "\n",
    "# ChatOpenAI 모델 초기화 \n",
    "llm = ChatOpenAI(model=\"gpt-4.1-mini\")\n",
    "\n",
    "# 4개의 검색 도구를 LLM에 바인딩\n",
    "llm_with_tools = llm.bind_tools(tools=tools)\n",
    "\n",
    "# LLM 체인 생성\n",
    "llm_chain = prompt | llm_with_tools\n",
    "\n",
    "# 도구 실행 체인 정의\n",
    "@chain\n",
    "def gu_chain(user_input: str, config: RunnableConfig):\n",
    "    input_ = {\"user_input\": user_input}\n",
    "    ai_msg = llm_chain.invoke(input_, config=config)\n",
    "\n",
    "    tool_msgs = []\n",
    "    for tool_call in ai_msg.tool_calls:\n",
    "        print(f\"{tool_call['name']}: \\n{tool_call}\")\n",
    "        print(\"-\"*100)\n",
    "\n",
    "        if tool_call[\"name\"] == \"search_web\":\n",
    "            tool_message = search_web.invoke(tool_call, config=config)\n",
    "            tool_msgs.append(tool_message)\n",
    "\n",
    "        elif tool_call[\"name\"] == \"wiki_summary\":\n",
    "            tool_message = wiki_summary.invoke(tool_call, config=config)\n",
    "            tool_msgs.append(tool_message)\n",
    "\n",
    "        elif tool_call[\"name\"] == \"search_apartment\":\n",
    "            tool_message = search_apartment.invoke(tool_call, config=config)\n",
    "            tool_msgs.append(tool_message)\n",
    "\n",
    "        elif tool_call[\"name\"] == \"search_commercial\":\n",
    "            tool_message = search_commercial.invoke(tool_call, config=config)\n",
    "            tool_msgs.append(tool_message)            \n",
    "\n",
    "    print(\"tool_msgs: \\n\", tool_msgs)\n",
    "    print(\"-\"*100)\n",
    "    return llm_chain.invoke({**input_, \"messages\": [ai_msg, *tool_msgs]}, config=config)\n",
    "\n",
    "# 체인 실행\n",
    "response = gu_chain.invoke(\"강동구 아파트의 평균가격은 얼마인가요? 상권의 특성과 GDP도 알려주세요\")\n",
    "\n",
    "# 응답 출력 \n",
    "print(response.content)"
   ]
  },
  {
   "cell_type": "code",
   "execution_count": 110,
   "id": "f93b3215",
   "metadata": {},
   "outputs": [
    {
     "name": "stdout",
     "output_type": "stream",
     "text": [
      "search_apartment: \n",
      "{'name': 'search_apartment', 'args': {'query': '송파구 아파트 가격'}, 'id': 'call_sv5w8JLClMbhoNvmSkZ7FvaY', 'type': 'tool_call'}\n",
      "----------------------------------------------------------------------------------------------------\n",
      "search_web: \n",
      "{'name': 'search_web', 'args': {'query': '송파구 GDP'}, 'id': 'call_hxbALpjBGwKtM7MlqnyQhhXc', 'type': 'tool_call'}\n",
      "----------------------------------------------------------------------------------------------------\n",
      "tool_msgs: \n",
      " [ToolMessage(content=\"[Document(metadata={'gu_name': '송파구', 'gu_number': 3, 'source': '../data/Apartment.txt'}, page_content='3. 송파구\\\\n   • 20평대 평균가: 17.0억\\\\n   • 주요 아파트: 잠실엘스 5678세대, 리센츠 5563세대, 헬리오시티 9510세대\\\\n   • 설명: 대단지 신축, 한강·공원 인접, 학군과 생활 인프라 우수.'), Document(metadata={'gu_name': '송파구', 'gu_number': 3, 'source': '../data/Apartment.txt'}, page_content='3. 송파구\\\\n   • 20평대 평균가: 17.0억\\\\n   • 주요 아파트: 잠실엘스 5678세대, 리센츠 5563세대, 헬리오시티 9510세대\\\\n   • 설명: 대단지 신축, 한강·공원 인접, 학군과 생활 인프라 우수.')]\", name='search_apartment', tool_call_id='call_sv5w8JLClMbhoNvmSkZ7FvaY'), ToolMessage(content='<Document href=\"https://kosis.kr/statHtml/statHtml.do?orgId=101&tblId=DT_1C65_03E&conn_pa\"/>\\n송파구, 26,815,980, 25,892,942, 28,617,470, 27,402,979, 29,962,528, 28,427,927, 30,336,592, 28,291,816, 31,834,324, 28,909,815. 강동구, 8,225,774, 7,905,206\\n</Document>\\n---\\n<Document href=\"https://www.hani.co.kr/arti/area/capital/951985.html\"/>\\n구별로 보면 강남구 65조3870억원, 서초구 33조7720억원, 송파구 26조8160억원, 노원구 6조2400억원, 도봉구 3조3250억원, 강북구 3조570억원 순서였다.\\n</Document>', name='search_web', tool_call_id='call_hxbALpjBGwKtM7MlqnyQhhXc')]\n",
      "----------------------------------------------------------------------------------------------------\n",
      "송파구 아파트 가격은 주로 전용면적별로 다르며, 예를 들어 전용 20평대 아파트 가격은 약 1억 7천만 원 수준으로 나타납니다. 주요 아파트로는 잠실엘스, 리센츠, 헬리오시티 등이 있습니다.\n",
      "\n",
      "송파구의 GDP 관련 자료로는 구체적인 수치는 확인되지 않았지만, 송파구는 서울 내에서 경제적으로 중요한 지역 중 하나로, 인구 약 26만 8천 명 정도가 거주하고 있습니다.\n",
      "\n",
      "더 구체적인 GDP 수치나 최신 아파트 가격 동향이 필요하면 알려주세요.\n"
     ]
    }
   ],
   "source": [
    "# 체인 실행\n",
    "response = gu_chain.invoke(\"송파구 아파트 가격과 GDP를 알려주세요\")\n",
    "\n",
    "# 응답 출력 \n",
    "print(response.content)"
   ]
  },
  {
   "cell_type": "markdown",
   "id": "cc3b78e3",
   "metadata": {},
   "source": [
    "## 3. Few-shot 프롬프팅 \n",
    "- 각 도구의 용도를 구분하여 few-shot 예제로 제시"
   ]
  },
  {
   "cell_type": "markdown",
   "id": "4cd3e6b9",
   "metadata": {},
   "source": [
    "### 3-1. Few-shot 도구 호출"
   ]
  },
  {
   "cell_type": "code",
   "execution_count": 111,
   "id": "5fd743c1",
   "metadata": {},
   "outputs": [
    {
     "name": "stdout",
     "output_type": "stream",
     "text": [
      "{'name': 'search_apartment', 'args': {'query': '강남구 20평대 아파트'}, 'id': 'call_7kSVE1843rCjzPUUb5olL7mB', 'type': 'tool_call'}\n",
      "{'name': 'search_commercial', 'args': {'query': '강남구 상권'}, 'id': 'call_Axu0ignvCrQ5X9EBUavSgEeh', 'type': 'tool_call'}\n"
     ]
    }
   ],
   "source": [
    "from langchain_core.messages import AIMessage, HumanMessage, ToolMessage\n",
    "from langchain_core.prompts import ChatPromptTemplate\n",
    "\n",
    "examples = [\n",
    "    HumanMessage(\"서초구 20평대 아파트 평균가와 특징, 그리고 어울리는 상권에 대해 알려주세요.\", name=\"example_user\"),\n",
    "    AIMessage(\"서초구 아파트 정보를 검색하고, 추가로 서초구 상권 정보를 찾아보겠습니다.\", name=\"example_assistant\"),\n",
    "    AIMessage(\"\", name=\"example_assistant\", tool_calls=[{\"name\": \"search_apartment\", \"args\": {\"query\": \"서초구 20평대 아파트\"}, \"id\": \"1\"}]),\n",
    "    ToolMessage(\"서초구 20평대 평균가: 21.7억, 주요 아파트: 반포자이, 래미안퍼스티지, 아크로리버파크. 한강변, 명문학군, 대규모 재건축 단지로 고급화된 주거지.\", tool_call_id=\"1\"),\n",
    "    AIMessage(\"서초구 20평대 아파트의 평균가는 21.7억이며, 반포자이, 래미안퍼스티지, 아크로리버파크 등이 대표 단지입니다. 한강변, 명문학군, 대규모 재건축 단지로 고급화된 주거지라는 특징이 있습니다. 이제 어울리는 상권 정보를 찾아보겠습니다.\", name=\"example_assistant\"),\n",
    "    AIMessage(\"\", name=\"example_assistant\", tool_calls=[{\"name\": \"search_commercial\", \"args\": {\"query\": \"서초구 상권\"}, \"id\": \"2\"}]),\n",
    "    ToolMessage(\"서초구 인당 GDP: 5,700만원, 주요 기업: 현대모비스, 예술의전당. 법조타운, 예술·문화 중심지, 고급 주거·상업 복합. 유동인구: 800,000명.\", tool_call_id=\"2\"),\n",
    "    AIMessage(\"서초구 상권은 인당 GDP 5,700만원, 현대모비스와 예술의전당 등 주요 기업이 위치해 있습니다. 법조타운, 예술·문화 중심지, 고급 주거·상업 복합이 특징이며, 유동인구는 약 80만 명입니다.\", name=\"example_assistant\"),\n",
    "    AIMessage(\"서초구 20평대 아파트와 상권 정보를 종합하면, 고급 주거지와 다양한 문화·상업 인프라가 결합된 지역임을 알 수 있습니다.\", name=\"example_assistant\"),\n",
    "]\n",
    "\n",
    "system = \"\"\"You are an AI assistant providing Seoul apartment and commercial district information.\n",
    "For information about apartments, use the search_apartment tool.\n",
    "For commercial district information, use the search_commercial tool.\n",
    "If additional web searches are needed or for the most up-to-date information, use the search_web tool.\n",
    "\"\"\"\n",
    "\n",
    "few_shot_prompt = ChatPromptTemplate.from_messages([\n",
    "    (\"system\", system),\n",
    "    *examples,\n",
    "    (\"human\", \"{query}\"),\n",
    "])\n",
    "\n",
    "# ChatOpenAI 모델 초기화 \n",
    "llm = ChatOpenAI(model=\"gpt-4o-mini\")\n",
    "\n",
    "# 검색 도구를 직접 LLM에 바인딩 가능\n",
    "llm_with_tools = llm.bind_tools(tools=[search_apartment, search_commercial])\n",
    "\n",
    "# Few-shot 프롬프트를 사용한 체인 구성\n",
    "fewshot_search_chain = few_shot_prompt | llm_with_tools\n",
    "\n",
    "query = \"강남구 20평대 아파트 평균가와 대표 단지, 그리고 강남구 상권의 주요 특징을 알려주세요.\"\n",
    "response = fewshot_search_chain.invoke(query)\n",
    "\n",
    "# 결과 출력\n",
    "for tool_call in response.tool_calls:\n",
    "    print(tool_call)"
   ]
  },
  {
   "cell_type": "code",
   "execution_count": 112,
   "id": "c442be3f",
   "metadata": {},
   "outputs": [
    {
     "name": "stdout",
     "output_type": "stream",
     "text": [
      "{'name': 'search_commercial', 'args': {'query': '양천구 인구 GDP'}, 'id': 'call_gzzBRTZZeM5QXU5J4bpBpMqV', 'type': 'tool_call'}\n"
     ]
    }
   ],
   "source": [
    "# 체인 실행\n",
    "query = \"양천구의 인구 및 GDP를 알려주세요.\"\n",
    "response = fewshot_search_chain.invoke(query)\n",
    "\n",
    "# 결과 출력\n",
    "for tool_call in response.tool_calls:\n",
    "    print(tool_call)"
   ]
  },
  {
   "cell_type": "markdown",
   "id": "a2f10c84",
   "metadata": {},
   "source": [
    "### 3-2. 답변 생성 체인 "
   ]
  },
  {
   "cell_type": "code",
   "execution_count": 114,
   "id": "49a4d3c7",
   "metadata": {},
   "outputs": [
    {
     "name": "stdout",
     "output_type": "stream",
     "text": [
      "search_web: \n",
      "{'name': 'search_web', 'args': {'query': '은평구 GDP'}, 'id': 'call_xkkT0bJxCse1cFJrvZT4JRIJ', 'type': 'tool_call'}\n",
      "----------------------------------------------------------------------------------------------------\n",
      "search_apartment: \n",
      "{'name': 'search_apartment', 'args': {'query': '은평구 평균 집값'}, 'id': 'call_Jmo0UQJVRy2BKQSQ2Eq7j52I', 'type': 'tool_call'}\n",
      "----------------------------------------------------------------------------------------------------\n",
      "tool_msgs: \n",
      " [ToolMessage(content='<Document href=\"https://www.epnews.net/news/articleView.html?idxno=21547\"/>\\n기업이 적고 대표적인 베드타운인 은평구는 지역내총생산 규모가 4조 7540억 원으로 서울에서 22위로 낮은 편에 속했다. 지역내총생산 규모도 작은데\\n</Document>\\n---\\n<Document href=\"https://www.epnews.net/news/articleView.html?idxno=33526\"/>\\n자치구별 1인당 GRDP규모는 중구 4억 8140만원, 종로구 2억 3860만원, 강남구 1억 5536만원 순으로 컸음. · 은평구는 1114만원으로 가장 작았음.\\n</Document>', name='search_web', tool_call_id='call_xkkT0bJxCse1cFJrvZT4JRIJ'), ToolMessage(content=\"[Document(metadata={'gu_name': '은평구', 'gu_number': 19, 'source': '../data/Apartment.txt'}, page_content='19. 은평구\\\\n   • 20평대 평균가: 7.0억\\\\n   • 주요 아파트: 응암동 자이 1800세대, 불광동 현대 1600세대, 신사동 1500세대\\\\n   • 설명: 서울 외곽에 위치하지만, 저렴한 가격대로 수요가 증가하고 있음.'), Document(metadata={'gu_name': '은평구', 'gu_number': 19, 'source': '../data/Apartment.txt'}, page_content='19. 은평구\\\\n   • 20평대 평균가: 7.0억\\\\n   • 주요 아파트: 응암동 자이 1800세대, 불광동 현대 1600세대, 신사동 1500세대\\\\n   • 설명: 서울 외곽에 위치하지만, 저렴한 가격대로 수요가 증가하고 있음.')]\", name='search_apartment', tool_call_id='call_Jmo0UQJVRy2BKQSQ2Eq7j52I')]\n",
      "----------------------------------------------------------------------------------------------------\n",
      "('은평구의 GDP는 약 1,114억 원으로 서울시 내에서 가장 낮은 편입니다. 은평구 20평대 아파트 평균 가격은 약 7억 원 수준이며, '\n",
      " '주로 응암동, 불광동, 신사동에 분포되어 있습니다. 서울 외곽에 위치해 상대적으로 저렴한 가격대를 유지하고 있습니다.')\n"
     ]
    }
   ],
   "source": [
    "from datetime import datetime\n",
    "from langchain_core.messages import AIMessage, HumanMessage, ToolMessage\n",
    "from langchain_core.prompts import ChatPromptTemplate\n",
    "from langchain_core.runnables import RunnableConfig, chain\n",
    "from langchain_openai import ChatOpenAI\n",
    "\n",
    "# 오늘 날짜 설정\n",
    "today = datetime.today().strftime(\"%Y-%m-%d\")\n",
    "\n",
    "# 프롬프트 템플릿 \n",
    "\n",
    "system = \"\"\"You are an AI assistant providing Seoul apartment and commercial district information.\n",
    "For information about apartments, use the search_apartment tool.\n",
    "For commercial district information, use the search_commercial tool.\n",
    "If additional web searches are needed or for the most up-to-date information, use the search_web tool.\n",
    "\"\"\"\n",
    "\n",
    "few_shot_prompt = ChatPromptTemplate.from_messages([\n",
    "    (\"system\", system + f\"Today's date is {today}.\"),\n",
    "    *examples,\n",
    "    (\"human\", \"{user_input}\"),\n",
    "    (\"placeholder\", \"{messages}\"),\n",
    "])\n",
    "\n",
    "# ChatOpenAI 모델 초기화 \n",
    "llm = ChatOpenAI(model=\"gpt-4.1-mini\")\n",
    "\n",
    "# 검색 도구를 직접 LLM에 바인딩 가능\n",
    "llm_with_tools = llm.bind_tools(tools=tools)\n",
    "\n",
    "# Few-shot 프롬프트를 사용한 체인 구성\n",
    "fewshot_search_chain = few_shot_prompt | llm_with_tools\n",
    "\n",
    "# 도구 실행 체인 정의\n",
    "@chain\n",
    "def gu_chain(user_input: str, config: RunnableConfig):\n",
    "    input_ = {\"user_input\": user_input}\n",
    "    ai_msg = llm_chain.invoke(input_, config=config)\n",
    "\n",
    "    tool_msgs = []\n",
    "    for tool_call in ai_msg.tool_calls:\n",
    "        print(f\"{tool_call['name']}: \\n{tool_call}\")\n",
    "        print(\"-\"*100)\n",
    "\n",
    "        if tool_call[\"name\"] == \"search_web\":\n",
    "            tool_message = search_web.invoke(tool_call, config=config)\n",
    "            tool_msgs.append(tool_message)\n",
    "\n",
    "        elif tool_call[\"name\"] == \"wiki_summary\":\n",
    "            tool_message = wiki_summary.invoke(tool_call, config=config)\n",
    "            tool_msgs.append(tool_message)\n",
    "\n",
    "        elif tool_call[\"name\"] == \"search_commercial\":\n",
    "            tool_message = search_commercial.invoke(tool_call, config=config)\n",
    "            tool_msgs.append(tool_message)\n",
    "\n",
    "        elif tool_call[\"name\"] == \"search_apartment\":\n",
    "            tool_message = search_apartment.invoke(tool_call, config=config)\n",
    "            tool_msgs.append(tool_message)            \n",
    "\n",
    "    print(\"tool_msgs: \\n\", tool_msgs)\n",
    "    print(\"-\"*100)\n",
    "    return fewshot_search_chain.invoke({**input_, \"messages\": [ai_msg, *tool_msgs]}, config=config)\n",
    "\n",
    "\n",
    "# 체인 실행\n",
    "query = \"은평구의 GDP와 평균집값을 알려주세요\"\n",
    "response = gu_chain.invoke(query)\n",
    "\n",
    "# 응답 출력 \n",
    "pprint(response.content)"
   ]
  },
  {
   "cell_type": "code",
   "execution_count": 115,
   "id": "d60b9ebc",
   "metadata": {},
   "outputs": [
    {
     "name": "stdout",
     "output_type": "stream",
     "text": [
      "wiki_summary: \n",
      "{'name': 'wiki_summary', 'args': {'query': '양천구'}, 'id': 'call_RlnDQVvdnKZVpGZMCy7qOsyR', 'type': 'tool_call'}\n",
      "----------------------------------------------------------------------------------------------------\n",
      "tool_msgs: \n",
      " [ToolMessage(content='양천구는 서울특별시 남서부에 위치한 구로, 1988년 강서구에서 분리되었다. 북쪽은 강서구, 서쪽은 부천시, 남쪽은 구로구, 동쪽은 영등포구와 접한다. 양천구는 역사적으로 고려 시대부터 이름이 사용되었으며, 현재 18개의 행정동으로 나뉘어 있다. 인구는 2016년 기준 477,739명으로, 인구 밀도가 대한민국 기초자치단체 중 가장 높다. 주거 지역이 70% 이상을 차지하며, 목동 대단위 주택 단지가 유명하다. 주요 산업으로는 방송 및 IT 관련 기업이 있으며, 교통은 지하철과 도로망이 발달해 있다.\\n\\n영등포구는 서울특별시 남서부에 위치하며, 면적은 24.37km²로 16만 세대가 거주한다. 한강과 안양천이 합류하는 지점에 위치하고, 서울과 수도권 서남부를 연결하는 중심지 역할을 한다. 영등포구는 1936년 경성부에 편입되었으며, 현재 34개 동으로 구성되어 있다. 주요 시설로는 여의도와 국회의사당, 다양한 상업시설이 있으며, 교통은 경부선과 여러 지하철 노선이 연결되어 있다.', name='wiki_summary', tool_call_id='call_RlnDQVvdnKZVpGZMCy7qOsyR')]\n",
      "----------------------------------------------------------------------------------------------------\n",
      "('양천구는 서울특별시 남서부에 위치한 구로, 1988년에 강서구에서 분리되었습니다. 북쪽은 강서구, 서쪽은 부천시, 남쪽은 구로구, 동쪽은 '\n",
      " '영등포구와 접해 있습니다. 양천구는 역사적으로 고려 시대부터 이름이 사용되었으며, 현재 18개의 행정동으로 나누어져 있습니다.\\n'\n",
      " '\\n'\n",
      " '인구는 2016년 기준 약 47만 7천 명으로, 대한민국 기초자치단체 중 인구 밀도가 가장 높은 편입니다. 주거 지역이 전체 면적의 '\n",
      " '70% 이상을 차지하며, 특히 목동 대단위 주택 단지가 유명합니다. 주요 산업으로는 방송 및 IT 관련 기업이 위치해 있고, 지하철과 '\n",
      " '도로망 등 교통 인프라도 잘 발달되어 있습니다.\\n'\n",
      " '\\n'\n",
      " '더 궁금한 점이나 구체적인 아파트나 상권 정보가 필요하시면 알려주세요.')\n"
     ]
    }
   ],
   "source": [
    "# 체인 실행\n",
    "query = \"양천구에 대해 알려주세요\"\n",
    "response = gu_chain.invoke(query)\n",
    "\n",
    "# 응답 출력 \n",
    "pprint(response.content)"
   ]
  },
  {
   "cell_type": "markdown",
   "id": "11927ed4",
   "metadata": {},
   "source": [
    "## 4. LangChain Agent 사용\n",
    "- 유의사항: 프롬프트에 \"agent_scratchpad\",  \"input\" 변수를 포함"
   ]
  },
  {
   "cell_type": "code",
   "execution_count": 116,
   "id": "7127af7a",
   "metadata": {},
   "outputs": [],
   "source": [
    "from langchain_core.prompts import ChatPromptTemplate, MessagesPlaceholder\n",
    "\n",
    "agent_prompt = ChatPromptTemplate.from_messages([\n",
    "    (\"system\", dedent(\"\"\"\n",
    "        You are an AI assistant providing Seoul apartment and commercial district information. \n",
    "        Your main goal is to provide accurate information and effective recommendations to users.\n",
    "\n",
    "        Key guidelines:\n",
    "        1. For apartment information, use the search_apartment tool. This tool provides details on each district's 20평대 아파트 평균가, 대표 단지(세대수), 설명(학군, 환경 등)을 제공합니다.\n",
    "        2. For commercial district information, use the search_commercial tool. This tool provides 인당 GDP, 주요 기업, 상권 설명, 유동인구 등 상권의 핵심 정보를 제공합니다.\n",
    "        3. If additional web searches are needed or for the most up-to-date information, use the search_web tool.\n",
    "        4. Provide clear and concise responses based on the search results.\n",
    "        5. If a question is ambiguous or lacks necessary information, politely ask for clarification.\n",
    "        6. Always maintain a helpful and professional tone.\n",
    "        7. When providing apartment information, describe in the order of 평균가, 대표 단지, 설명.\n",
    "        8. When providing commercial information, describe in the order of 인당 GDP, 주요 기업, 상권 설명, 유동인구.\n",
    "        9. When making recommendations, briefly explain the reasons.\n",
    "        10. Maintain a conversational, chatbot-like style in your final responses. Be friendly, engaging, and natural in your communication.\n",
    "\n",
    "        Remember, understand the purpose of each tool accurately and use them in appropriate situations. \n",
    "        Combine the tools to provide the most comprehensive and accurate answers to user queries. \n",
    "        Always strive to provide the most current and accurate information.\n",
    "        \"\"\")),\n",
    "    MessagesPlaceholder(variable_name=\"chat_history\", optional=True),\n",
    "    (\"human\", \"{input}\"),\n",
    "    MessagesPlaceholder(variable_name=\"agent_scratchpad\"),\n",
    "])\n"
   ]
  },
  {
   "cell_type": "code",
   "execution_count": 117,
   "id": "b3dad12e",
   "metadata": {},
   "outputs": [],
   "source": [
    "# Tool calling Agent 생성\n",
    "from langchain.agents import AgentExecutor, create_tool_calling_agent\n",
    "\n",
    "tools = [search_web, wiki_summary, search_commercial , search_apartment]\n",
    "agent = create_tool_calling_agent(llm, tools, agent_prompt)\n",
    "\n",
    "# AgentExecutor 생성 \n",
    "agent_executor = AgentExecutor(agent=agent, tools=tools, verbose=True)"
   ]
  },
  {
   "cell_type": "code",
   "execution_count": 118,
   "id": "6cd37cf1",
   "metadata": {},
   "outputs": [
    {
     "name": "stdout",
     "output_type": "stream",
     "text": [
      "\n",
      "\n",
      "\u001b[1m> Entering new AgentExecutor chain...\u001b[0m\n",
      "\u001b[32;1m\u001b[1;3m\n",
      "Invoking: `search_commercial` with `{'query': '서울 구별 인당 GDP'}`\n",
      "\n",
      "\n",
      "\u001b[0m\u001b[38;5;200m\u001b[1;3m[Document(metadata={}, page_content='관련 상권 정보를 찾을 수 없습니다.')]\u001b[0m\u001b[32;1m\u001b[1;3m\n",
      "Invoking: `search_apartment` with `{'query': '서울 구별 20평대 아파트 평균가'}`\n",
      "\n",
      "\n",
      "\u001b[0m\u001b[36;1m\u001b[1;3m[Document(metadata={'gu_name': '구로구', 'gu_number': 20, 'source': '../data/Apartment.txt'}, page_content='20. 구로구\\n   • 20평대 평균가: 6.8억\\n   • 주요 아파트: 신도림 삼성 1200세대, 구로 현대 1300세대\\n   • 설명: 산업단지가 많아 근로자들이 거주하는 비율이 높음.'), Document(metadata={'gu_name': '구로구', 'gu_number': 20, 'source': '../data/Apartment.txt'}, page_content='20. 구로구\\n   • 20평대 평균가: 6.8억\\n   • 주요 아파트: 신도림 삼성 1200세대, 구로 현대 1300세대\\n   • 설명: 산업단지가 많아 근로자들이 거주하는 비율이 높음.')]\u001b[0m\u001b[32;1m\u001b[1;3m현재 서울 구별 인당 GDP 정보는 찾을 수 없으나, 구로구 아파트 정보는 다음과 같습니다.\n",
      "\n",
      "- 20평대 아파트 평균가: 6.8억 원\n",
      "- 대표 단지: 신도림 삼성 1200세대, 구로 현대 1300세대\n",
      "- 설명: 산업단지가 많아 근로자들이 거주하는 비중이 큽니다.\n",
      "\n",
      "GDP 대비 아파트 가격이 낮고 매매를 추천할 만한 구를 정확히 판단하려면 인당 GDP 데이터가 필요합니다. 인당 GDP 데이터를 추가로 확인하거나, 특정 구에 대해 더 알고 싶으시면 알려주세요.\u001b[0m\n",
      "\n",
      "\u001b[1m> Finished chain.\u001b[0m\n"
     ]
    }
   ],
   "source": [
    "# AgentExecutor 실행\n",
    "\n",
    "query = \"GDP 대비 평균 아파트가격이 낮고, 매매를 추천할만한 구는 어디인가요? \"\n",
    "agent_response = agent_executor.invoke({\"input\": query})"
   ]
  },
  {
   "cell_type": "code",
   "execution_count": 119,
   "id": "bdef9044",
   "metadata": {},
   "outputs": [
    {
     "name": "stdout",
     "output_type": "stream",
     "text": [
      "{'input': 'GDP 대비 평균 아파트가격이 낮고, 매매를 추천할만한 구는 어디인가요? ',\n",
      " 'output': '현재 서울 구별 인당 GDP 정보는 찾을 수 없으나, 구로구 아파트 정보는 다음과 같습니다.\\n'\n",
      "           '\\n'\n",
      "           '- 20평대 아파트 평균가: 6.8억 원\\n'\n",
      "           '- 대표 단지: 신도림 삼성 1200세대, 구로 현대 1300세대\\n'\n",
      "           '- 설명: 산업단지가 많아 근로자들이 거주하는 비중이 큽니다.\\n'\n",
      "           '\\n'\n",
      "           'GDP 대비 아파트 가격이 낮고 매매를 추천할 만한 구를 정확히 판단하려면 인당 GDP 데이터가 필요합니다. 인당 '\n",
      "           'GDP 데이터를 추가로 확인하거나, 특정 구에 대해 더 알고 싶으시면 알려주세요.'}\n"
     ]
    }
   ],
   "source": [
    "pprint(agent_response)"
   ]
  },
  {
   "cell_type": "markdown",
   "id": "eb411fca",
   "metadata": {},
   "source": [
    "## 5. Gradio 활용"
   ]
  },
  {
   "cell_type": "code",
   "execution_count": 120,
   "id": "56abbad7",
   "metadata": {},
   "outputs": [
    {
     "name": "stdout",
     "output_type": "stream",
     "text": [
      "Running on local URL:  http://127.0.0.1:7860\n",
      "\n",
      "To create a public link, set `share=True` in `launch()`.\n"
     ]
    },
    {
     "data": {
      "text/html": [
       "<div><iframe src=\"http://127.0.0.1:7860/\" width=\"100%\" height=\"500\" allow=\"autoplay; camera; microphone; clipboard-read; clipboard-write;\" frameborder=\"0\" allowfullscreen></iframe></div>"
      ],
      "text/plain": [
       "<IPython.core.display.HTML object>"
      ]
     },
     "metadata": {},
     "output_type": "display_data"
    },
    {
     "data": {
      "text/plain": []
     },
     "execution_count": 120,
     "metadata": {},
     "output_type": "execute_result"
    },
    {
     "name": "stdout",
     "output_type": "stream",
     "text": [
      "\n",
      "\n",
      "\u001b[1m> Entering new AgentExecutor chain...\u001b[0m\n",
      "\u001b[32;1m\u001b[1;3m\n",
      "Invoking: `search_apartment` with `{'query': '서초구 20평대 아파트'}`\n",
      "\n",
      "\n",
      "\u001b[0m\u001b[36;1m\u001b[1;3m[Document(metadata={'gu_name': '서초구', 'gu_number': 1, 'source': '../data/Apartment.txt'}, page_content='1. 서초구\\n   • 20평대 평균가: 21.7억\\n   • 주요 아파트: 반포자이 3410세대, 래미안퍼스티지 2444세대, 아크로리버파크 1612세대\\n   • 설명: 한강변, 명문학군, 대규모 재건축 단지로 고급화된 주거지.'), Document(metadata={'gu_name': '서초구', 'gu_number': 1, 'source': '../data/Apartment.txt'}, page_content='1. 서초구\\n   • 20평대 평균가: 21.7억\\n   • 주요 아파트: 반포자이 3410세대, 래미안퍼스티지 2444세대, 아크로리버파크 1612세대\\n   • 설명: 한강변, 명문학군, 대규모 재건축 단지로 고급화된 주거지.')]\u001b[0m\u001b[32;1m\u001b[1;3m서초구 20평대 아파트 평균가는 약 21.7억 원입니다. 대표 단지로는 반포자이(3410세대), 래미안퍼스티지(2444세대), 아크로리버파크(1612세대)가 있습니다. 이 지역은 한강변에 위치해 있고 명문학군과 대규모 재건축 단지로 고급화된 주거지로 알려져 있습니다. 도움이 필요하시면 언제든 말씀해 주세요!\u001b[0m\n",
      "\n",
      "\u001b[1m> Finished chain.\u001b[0m\n",
      "\n",
      "\n",
      "\u001b[1m> Entering new AgentExecutor chain...\u001b[0m\n",
      "\u001b[32;1m\u001b[1;3m\n",
      "Invoking: `search_commercial` with `{'query': '강남구 상권'}`\n",
      "\n",
      "\n",
      "\u001b[0m\u001b[38;5;200m\u001b[1;3m[Document(metadata={}, page_content='관련 상권 정보를 찾을 수 없습니다.')]\u001b[0m\u001b[32;1m\u001b[1;3m현재 강남구 상권의 구체적인 주요 특징과 유동인구에 대한 정보가 바로 확인되지 않습니다. 조금 더 구체적인 상권 이름이나 지역을 알려주시면 다시 찾아보겠습니다. 아니면 최신 정보를 위해 웹 검색도 가능합니다. 어떻게 도와드릴까요?\u001b[0m\n",
      "\n",
      "\u001b[1m> Finished chain.\u001b[0m\n",
      "\n",
      "\n",
      "\u001b[1m> Entering new AgentExecutor chain...\u001b[0m\n",
      "\u001b[32;1m\u001b[1;3m\n",
      "Invoking: `search_web` with `{'query': '강남구 상권 주요 특징 유동인구'}`\n",
      "\n",
      "\n",
      "\u001b[0m\u001b[36;1m\u001b[1;3m<Document href=\"http://www.jangsa.com/info/view2.asp?no=1454&code=2&page=11&mNum=&sNum=\"/>\n",
      "강남역상권의 하루 유동인구는 약 15만 명이나 된다. 주변의 도서관과 각종학원, 스쿨버스 종착지, 대형업무 시설들이 골고루 분포되어 있어 고등학생, 대학생들과 인근\n",
      "</Document>\n",
      "---\n",
      "<Document href=\"https://www.mk.co.kr/news/realestate/9289543\"/>\n",
      "SK텔레콤 빅데이터 서비스 플랫폼 지오비전 통계로 테헤란로 상권을 분석한 결과, 2월 기준 강남대로 상권 일평균 유동인구는 32만 3226명으로 조사됐다.\n",
      "</Document>\u001b[0m\u001b[32;1m\u001b[1;3m강남구 주요 상권의 특징과 유동인구는 다음과 같습니다.\n",
      "\n",
      "- 강남역 상권은 하루 유동인구가 약 15만 명 정도입니다. 주변에 도서관, 학원, 스쿨버스 종착지, 대형 업무 시설 등이 있어 고등학생과 대학생들이 많이 방문합니다.\n",
      "- 테헤란로 상권은 일평균 유동인구가 약 32만 명으로 매우 활발한 편입니다. SK텔레콤 빅데이터 분석에 따르면 강남대로 상권 중심의 대규모 유동인구를 보입니다.\n",
      "\n",
      "필요하시면 더 구체적인 상권이나 다른 정보도 알려드릴 수 있습니다!\u001b[0m\n",
      "\n",
      "\u001b[1m> Finished chain.\u001b[0m\n",
      "\n",
      "\n",
      "\u001b[1m> Entering new AgentExecutor chain...\u001b[0m\n",
      "\u001b[32;1m\u001b[1;3m안녕하세요! 궁금한 점이나 알고 싶은 서울의 아파트 또는 상권 정보가 있으시면 편하게 말씀해 주세요. 최선을 다해 도와드릴게요!\u001b[0m\n",
      "\n",
      "\u001b[1m> Finished chain.\u001b[0m\n",
      "\n",
      "\n",
      "\u001b[1m> Entering new AgentExecutor chain...\u001b[0m\n",
      "\u001b[32;1m\u001b[1;3m\n",
      "Invoking: `search_apartment` with `{'query': '마포구'}`\n",
      "\n",
      "\n",
      "\u001b[0m\u001b[36;1m\u001b[1;3m[Document(metadata={'gu_name': '마포구', 'gu_number': 4, 'source': '../data/Commercial.txt'}, page_content='4. 마포구\\n   • 인당 GDP: 5,900만원\\n   • 주요 기업: YG엔터테인먼트, 카카오엔터프라이즈\\n   • 상권 설명: 홍대, 합정, 상수 등 젊은층 중심의 트렌디한 상권\\n   • 유동인구: 850,000명'), Document(metadata={'gu_name': '마포구', 'gu_number': 4, 'source': '../data/Commercial.txt'}, page_content='4. 마포구\\n   • 인당 GDP: 5,900만원\\n   • 주요 기업: YG엔터테인먼트, 카카오엔터프라이즈\\n   • 상권 설명: 홍대, 합정, 상수 등 젊은층 중심의 트렌디한 상권\\n   • 유동인구: 850,000명')]\u001b[0m\u001b[32;1m\u001b[1;3m\n",
      "Invoking: `search_commercial` with `{'query': '마포구'}`\n",
      "\n",
      "\n",
      "\u001b[0m\u001b[38;5;200m\u001b[1;3m[Document(metadata={}, page_content='관련 상권 정보를 찾을 수 없습니다.')]\u001b[0m\u001b[32;1m\u001b[1;3m마포구 20평대 아파트와 상권 정보를 비교해 드릴게요.\n",
      "\n",
      "아파트 정보부터요:\n",
      "- 20평대 아파트 평균가는 현재 확인이 어려운 상태입니다. (대표 단지 및 학군, 환경 등의 상세 정보도 제공이 어렵습니다.)\n",
      "\n",
      "상권 정보는 다음과 같습니다:\n",
      "- 인당 GDP: 5,900만원\n",
      "- 주요 기업: YG엔터테인먼트, 카카오엔터프라이즈\n",
      "- 상권 설명: 홍대, 합정, 상수 등 젊은층 중심의 트렌디한 상권으로 유명합니다.\n",
      "- 유동인구: 약 85만 명으로 매우 활발한 상권입니다.\n",
      "\n",
      "아파트 가격 정보가 더 필요하시거나 다른 지역과 비교 원하시면 알려 주세요!\u001b[0m\n",
      "\n",
      "\u001b[1m> Finished chain.\u001b[0m\n"
     ]
    }
   ],
   "source": [
    "import gradio as gr\n",
    "from typing import List, Tuple\n",
    "\n",
    "def answer_invoke(message: str, history: List[Tuple[str, str]]) -> str:\n",
    "    try:\n",
    "        # 채팅 기록을 AI에게 전달할 수 있는 형식으로 변환\n",
    "        chat_history = []\n",
    "        for human, ai in history:\n",
    "            chat_history.append(HumanMessage(content=human))\n",
    "            chat_history.append(AIMessage(content=ai))\n",
    "        \n",
    "        # agent_executor를 사용하여 응답 생성\n",
    "        response = agent_executor.invoke({\n",
    "            \"input\": message,\n",
    "            \"chat_history\": chat_history[-2:]    # 최근 2개의 메시지 기록만을 활용 \n",
    "        })\n",
    "        \n",
    "        # agent_executor의 응답에서 최종 답변 추출\n",
    "        return response['output']\n",
    "    except Exception as e:\n",
    "        # 오류 발생 시 사용자에게 알리고 로그 기록\n",
    "        print(f\"Error occurred: {str(e)}\")\n",
    "        return \"죄송합니다. 응답을 생성하는 동안 오류가 발생했습니다. 다시 시도해 주세요.\"\n",
    "\n",
    "# 예제 질문 정의\n",
    "example_questions = [\n",
    "    \"서초구 20평대 아파트 평균가와 대표 단지를 알려주세요.\",\n",
    "    \"강남구 상권의 주요 특징과 유동인구는 얼마인가요?\",\n",
    "    \"송파구에서 학군이 좋은 아파트 단지를 추천해 주세요.\",\n",
    "    \"마포구 20평대 아파트와 상권 정보를 비교해 주세요.\"\n",
    "]\n",
    "\n",
    "# Gradio 인터페이스 생성\n",
    "demo = gr.ChatInterface(\n",
    "    fn=answer_invoke,\n",
    "    title=\"서울 아파트·상권 AI 어시스턴트\",\n",
    "    description=\"서울 25개구의 20평대 아파트, 대표 단지, 상권 정보, 유동인구 등 다양한 부동산·상권 질문에 답변해 드립니다.\",\n",
    "    examples=example_questions,\n",
    "    theme=gr.themes.Soft()\n",
    ")\n",
    "\n",
    "# 데모 실행\n",
    "demo.launch()"
   ]
  },
  {
   "cell_type": "code",
   "execution_count": 121,
   "id": "1bd26485",
   "metadata": {},
   "outputs": [
    {
     "name": "stdout",
     "output_type": "stream",
     "text": [
      "Closing server running on port: 7860\n"
     ]
    }
   ],
   "source": [
    "# 데모 종료\n",
    "demo.close()"
   ]
  }
 ],
 "metadata": {
  "kernelspec": {
   "display_name": "langgraph-agent-hMbqQxzY-py3.12",
   "language": "python",
   "name": "python3"
  },
  "language_info": {
   "codemirror_mode": {
    "name": "ipython",
    "version": 3
   },
   "file_extension": ".py",
   "mimetype": "text/x-python",
   "name": "python",
   "nbconvert_exporter": "python",
   "pygments_lexer": "ipython3",
   "version": "3.12.5"
  }
 },
 "nbformat": 4,
 "nbformat_minor": 5
}
