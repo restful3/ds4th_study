{
 "cells": [
  {
   "cell_type": "markdown",
   "metadata": {},
   "source": [
    "## 1. 환경 설정"
   ]
  },
  {
   "cell_type": "markdown",
   "metadata": {},
   "source": [
    "`(1) Env 환경변수`"
   ]
  },
  {
   "cell_type": "code",
   "execution_count": 1,
   "metadata": {},
   "outputs": [
    {
     "data": {
      "text/plain": [
       "True"
      ]
     },
     "execution_count": 1,
     "metadata": {},
     "output_type": "execute_result"
    }
   ],
   "source": [
    "from dotenv import load_dotenv\n",
    "load_dotenv()"
   ]
  },
  {
   "cell_type": "markdown",
   "metadata": {},
   "source": [
    "`(2) 기본 라이브러리`"
   ]
  },
  {
   "cell_type": "code",
   "execution_count": 2,
   "metadata": {},
   "outputs": [],
   "source": [
    "import re\n",
    "import os, json\n",
    "\n",
    "from textwrap import dedent\n",
    "from pprint import pprint\n",
    "\n",
    "import warnings\n",
    "warnings.filterwarnings(\"ignore\")"
   ]
  },
  {
   "cell_type": "markdown",
   "metadata": {},
   "source": [
    "## 2. StateGraph\n",
    "- 상태(state)를 기반으로 작동하는 그래프 구조\n",
    "- 실습: 서울시 행정구(아파트/상권) 추천 시스템\n",
    "    - 사용자의 선호도에 따라 행정구를 추천하고, 해당 행정구의 부동산/상권 정보를 제공"
   ]
  },
  {
   "cell_type": "markdown",
   "metadata": {},
   "source": [
    "`(1) 상태(State)`\n",
    "- 상태는 그래프가 처리하는 데이터의 구조를 정의\n",
    "- 기존 상태를 override (덮어쓰기)"
   ]
  },
  {
   "cell_type": "code",
   "execution_count": 3,
   "metadata": {},
   "outputs": [],
   "source": [
    "from typing import TypedDict\n",
    "\n",
    "# 상태 Schema 정의 - 사용자의 선호도, 추천된 행정구, 그리고 행정구 정보를 저장\n",
    "class DistrictState(TypedDict):\n",
    "    user_preference: str  # 사용자의 선호도(예: 교통, 학군 등)\n",
    "    recommended_district: str  # 추천된 행정구(예: 양천구)\n",
    "    district_info: str  # 행정구 정보(예: 평균가, 주요 아파트, 설명 등)\n"
   ]
  },
  {
   "cell_type": "markdown",
   "metadata": {},
   "source": [
    "`(2) 노드(Node)`\n",
    "- 노드는 그래프에서 실제 작업을 수행하는 함수"
   ]
  },
  {
   "cell_type": "code",
   "execution_count": 4,
   "metadata": {},
   "outputs": [],
   "source": [
    "from typing import TypedDict\n",
    "\n",
    "# 상태 Schema 정의 - 사용자의 선호도, 추천된 행정구, 그리고 행정구 정보를 저장\n",
    "class DistrictState(TypedDict):\n",
    "    user_preference: str  # 사용자의 선호도(예: 학군, 교통, 자연환경 등)\n",
    "    recommended_district: str  # 추천된 행정구(예: 양천구)\n",
    "    district_info: str  # 행정구 정보(예: 평균가, 주요 아파트, 설명 등)\n",
    "\n",
    "import random\n",
    "\n",
    "def get_user_preference_district(state: DistrictState) -> DistrictState:\n",
    "    print(\"---랜덤 사용자 선호도 생성---\")\n",
    "    preferences = [\"학군\", \"교통\", \"자연환경\", \"생활 인프라\"]\n",
    "    preference = random.choice(preferences)\n",
    "    print(f\"생성된 선호도: {preference}\")\n",
    "    return {\"user_preference\": preference}\n",
    "\n",
    "def recommend_district(state: DistrictState) -> DistrictState:\n",
    "    print(\"---행정구 추천---\")\n",
    "    preference = state['user_preference']\n",
    "    if preference == \"학군\":\n",
    "        district = \"양천구\"\n",
    "    elif preference == \"교통\":\n",
    "        district = \"마포구\"\n",
    "    elif preference == \"자연환경\":\n",
    "        district = \"강동구\"\n",
    "    else:\n",
    "        district = \"강남구\"\n",
    "    print(f\"추천 행정구: {district}\")\n",
    "    return {\"recommended_district\": district}\n",
    "\n",
    "def provide_district_info(state: DistrictState) -> DistrictState:\n",
    "    print(\"---행정구 정보 제공---\")\n",
    "    district = state['recommended_district']\n",
    "    if district == \"양천구\":\n",
    "        info = \"20평대 평균가: 10.5억, 주요 아파트: 신정동 롯데캐슬, 목동 현대, 목동 신시가지 1~14단지. 설명: 학군이 우수하고, 대규모 아파트 단지와 쾌적한 주거환경으로 가족 단위 거주자들에게 인기.\"\n",
    "    elif district == \"마포구\":\n",
    "        info = \"20평대 평균가: 14.2억, 주요 아파트: 마포래미안푸르지오, 마포그랑자이, 상암 DMC. 설명: 교통, 생활 인프라, 젊은 층 선호도가 높은 지역.\"\n",
    "    elif district == \"강동구\":\n",
    "        info = \"20평대 평균가: 10.2억, 주요 아파트: 천호동 한라, 고덕 롯데, 성내 현대. 설명: 도심에서 떨어져 있지만 자연환경과 주거환경이 좋은 지역.\"\n",
    "    else:\n",
    "        info = \"20평대 평균가: 20.5억, 주요 아파트: 현대캐피탈, 타워팰리스, 삼성래미안. 설명: 비즈니스 중심지, 다양한 문화시설과 편리한 교통망이 특징.\"\n",
    "    print(f\"행정구 정보: {info}\")\n",
    "    return {\"district_info\": info}\n",
    "\n",
    "# 그래프 빌드 및 실행 부분도 DistrictState, 함수명, 출력문 등 모두 위에 맞게 변경\n",
    "\n"
   ]
  },
  {
   "cell_type": "markdown",
   "metadata": {},
   "source": [
    "`(3) 그래프(Graph) 구성`\n",
    "- 정의한 구성 요소들을 사용하여 전체 그래프를 빌드"
   ]
  },
  {
   "cell_type": "code",
   "execution_count": 5,
   "metadata": {},
   "outputs": [
    {
     "name": "stdout",
     "output_type": "stream",
     "text": [
      "---랜덤 사용자 선호도 생성---\n",
      "생성된 선호도: 교통\n",
      "---행정구 추천---\n",
      "추천 행정구: 마포구\n",
      "---행정구 정보 제공---\n",
      "행정구 정보: 20평대 평균가: 14.2억, 주요 아파트: 마포래미안푸르지오, 마포그랑자이, 상암 DMC. 설명: 교통, 생활 인프라, 젊은 층 선호도가 높은 지역.\n",
      "\n",
      "=== 결과 ===\n",
      "선호도: 교통\n",
      "추천 행정구: 마포구\n",
      "행정구 정보: 20평대 평균가: 14.2억, 주요 아파트: 마포래미안푸르지오, 마포그랑자이, 상암 DMC. 설명: 교통, 생활 인프라, 젊은 층 선호도가 높은 지역.\n",
      "============\n",
      "\n",
      "****************************************************************************************************\n",
      "\n",
      "---랜덤 사용자 선호도 생성---\n",
      "생성된 선호도: 교통\n",
      "---행정구 추천---\n",
      "추천 행정구: 마포구\n",
      "---행정구 정보 제공---\n",
      "행정구 정보: 20평대 평균가: 14.2억, 주요 아파트: 마포래미안푸르지오, 마포그랑자이, 상암 DMC. 설명: 교통, 생활 인프라, 젊은 층 선호도가 높은 지역.\n",
      "\n",
      "=== 결과 ===\n",
      "선호도: 교통\n",
      "추천 행정구: 마포구\n",
      "행정구 정보: 20평대 평균가: 14.2억, 주요 아파트: 마포래미안푸르지오, 마포그랑자이, 상암 DMC. 설명: 교통, 생활 인프라, 젊은 층 선호도가 높은 지역.\n",
      "============\n",
      "\n",
      "****************************************************************************************************\n",
      "\n"
     ]
    }
   ],
   "source": [
    "from langgraph.graph import StateGraph, START, END\n",
    "\n",
    "# 그래프 빌더 생성\n",
    "builder = StateGraph(DistrictState)\n",
    "\n",
    "# 노드 추가\n",
    "builder.add_node(\"get_preference\", get_user_preference_district)\n",
    "builder.add_node(\"recommend\", recommend_district)\n",
    "builder.add_node(\"provide_info\", provide_district_info)\n",
    "\n",
    "# 엣지 추가\n",
    "builder.add_edge(START, \"get_preference\")\n",
    "builder.add_edge(\"get_preference\", \"recommend\")\n",
    "builder.add_edge(\"recommend\", \"provide_info\")\n",
    "builder.add_edge(\"provide_info\", END)\n",
    "\n",
    "# 그래프 컴파일\n",
    "graph = builder.compile()\n",
    "\n",
    "def print_result(result: DistrictState):\n",
    "    print(\"\\n=== 결과 ===\")\n",
    "    print(\"선호도:\", result['user_preference'])\n",
    "    print(\"추천 행정구:\", result['recommended_district'])\n",
    "    print(\"행정구 정보:\", result['district_info'])\n",
    "    print(\"============\\n\")\n",
    "\n",
    "# 초기 입력\n",
    "inputs = {\"user_preference\": \"\"}\n",
    "\n",
    "# 여러 번 실행하여 테스트\n",
    "for _ in range(2):\n",
    "    result = graph.invoke(inputs)\n",
    "    print_result(result)\n",
    "    print(\"*\"*100)\n",
    "    print()\n"
   ]
  },
  {
   "cell_type": "code",
   "execution_count": 6,
   "metadata": {},
   "outputs": [
    {
     "data": {
      "image/png": "[encoded data removed]",
      "text/plain": [
       "<IPython.core.display.Image object>"
      ]
     },
     "metadata": {},
     "output_type": "display_data"
    }
   ],
   "source": [
    "from IPython.display import Image, display\n",
    "\n",
    "# 그래프 시각화\n",
    "display(Image(graph.get_graph().draw_mermaid_png()))"
   ]
  },
  {
   "cell_type": "code",
   "execution_count": 7,
   "metadata": {},
   "outputs": [
    {
     "name": "stdout",
     "output_type": "stream",
     "text": [
      "---랜덤 사용자 선호도 생성---\n",
      "생성된 선호도: 교통\n",
      "---행정구 추천---\n",
      "추천 행정구: 마포구\n",
      "---행정구 정보 제공---\n",
      "행정구 정보: 20평대 평균가: 14.2억, 주요 아파트: 마포래미안푸르지오, 마포그랑자이, 상암 DMC. 설명: 교통, 생활 인프라, 젊은 층 선호도가 높은 지역.\n",
      "\n",
      "=== 결과 ===\n",
      "선호도: 교통\n",
      "추천 행정구: 마포구\n",
      "행정구 정보: 20평대 평균가: 14.2억, 주요 아파트: 마포래미안푸르지오, 마포그랑자이, 상암 DMC. 설명: 교통, 생활 인프라, 젊은 층 선호도가 높은 지역.\n",
      "============\n",
      "\n",
      "****************************************************************************************************\n",
      "\n",
      "---랜덤 사용자 선호도 생성---\n",
      "생성된 선호도: 생활 인프라\n",
      "---행정구 추천---\n",
      "추천 행정구: 강남구\n",
      "---행정구 정보 제공---\n",
      "행정구 정보: 20평대 평균가: 20.5억, 주요 아파트: 현대캐피탈, 타워팰리스, 삼성래미안. 설명: 비즈니스 중심지, 다양한 문화시설과 편리한 교통망이 특징.\n",
      "\n",
      "=== 결과 ===\n",
      "선호도: 생활 인프라\n",
      "추천 행정구: 강남구\n",
      "행정구 정보: 20평대 평균가: 20.5억, 주요 아파트: 현대캐피탈, 타워팰리스, 삼성래미안. 설명: 비즈니스 중심지, 다양한 문화시설과 편리한 교통망이 특징.\n",
      "============\n",
      "\n",
      "****************************************************************************************************\n",
      "\n"
     ]
    }
   ],
   "source": [
    "# 그래프 실행\n",
    "\n",
    "def print_result(result: DistrictState):\n",
    "    print(\"\\n=== 결과 ===\")\n",
    "    print(\"선호도:\", result['user_preference'])\n",
    "    print(\"추천 행정구:\", result['recommended_district'])\n",
    "    print(\"행정구 정보:\", result['district_info'])\n",
    "    print(\"============\\n\")\n",
    "\n",
    "# 초기 입력\n",
    "inputs = {\"user_preference\": \"\"}\n",
    "\n",
    "# 여러 번 실행하여 테스트\n",
    "for _ in range(2):\n",
    "    result = graph.invoke(inputs)\n",
    "    print_result(result)\n",
    "    print(\"*\"*100)\n",
    "    print()"
   ]
  },
  {
   "cell_type": "markdown",
   "metadata": {},
   "source": [
    "## 3. 조건부 엣지(Edge)\n",
    "- 엣지는 노드 간의 연결을 정의\n",
    "- 조건부 엣지: 사용자 입력이 메뉴 관련인지 여부에 따라 다른 경로로 진행"
   ]
  },
  {
   "cell_type": "markdown",
   "metadata": {},
   "source": [
    "`(1) State 정의`\n",
    "- 사용자 입력이 메뉴 추천이면 벡터저장소에서 검색하여 RAG Chain을 실행하고,\n",
    "- 그렇지 않은 경우에는 LLM이 답변을 생성"
   ]
  },
  {
   "cell_type": "code",
   "execution_count": 8,
   "metadata": {},
   "outputs": [],
   "source": [
    "from typing import List\n",
    "\n",
    "# state 스키마 \n",
    "class DistrictRagState(TypedDict):\n",
    "    user_query: str\n",
    "    is_district_related: bool\n",
    "    search_results: List[str]\n",
    "    final_answer: str\n"
   ]
  },
  {
   "cell_type": "markdown",
   "metadata": {},
   "source": [
    "`(2) 벡터저장소 검색 도구`\n",
    "- 지역 검색을 위한 벡터저장소를 초기화 (기존 저장소를 로드)"
   ]
  },
  {
   "cell_type": "code",
   "execution_count": 9,
   "metadata": {},
   "outputs": [],
   "source": [
    "from langchain_chroma import Chroma\n",
    "from langchain_ollama  import OllamaEmbeddings\n",
    "\n",
    "embeddings_model = OllamaEmbeddings(model=\"bge-m3\") \n",
    "\n",
    "# Chroma 인덱스 로드\n",
    "vector_db = Chroma(\n",
    "    embedding_function=embeddings_model,   \n",
    "    collection_name=\"commercial\",\n",
    "    persist_directory=\"./chroma_db\",\n",
    ")\n",
    "\n"
   ]
  },
  {
   "cell_type": "markdown",
   "metadata": {},
   "source": [
    "`(3) 노드(Node)`"
   ]
  },
  {
   "cell_type": "code",
   "execution_count": 10,
   "metadata": {},
   "outputs": [],
   "source": [
    "from langchain_core.prompts import ChatPromptTemplate\n",
    "from langchain_core.output_parsers import StrOutputParser\n",
    "from langchain_openai import ChatOpenAI\n",
    "\n",
    "# LLM 모델 \n",
    "llm = ChatOpenAI(model=\"gpt-4o-mini\")\n",
    "\n",
    "def get_user_query(state: DistrictRagState) -> DistrictRagState:\n",
    "    user_query = input(\"무엇을 도와드릴까요? \")\n",
    "    return {\"user_query\": user_query}\n",
    "\n",
    "def analyze_input(state: DistrictRagState) -> DistrictRagState:\n",
    "    analyze_template = \"\"\"\n",
    "    사용자의 입력을 분석하여 서울시 행정구(아파트/상권) 추천이나 정보에 관한 질문인지 판단하세요.\n",
    "\n",
    "    사용자 입력: {user_query}\n",
    "\n",
    "    행정구 추천 또는 정보에 관한 질문이면 \"True\", 아니면 \"False\"로 답변하세요.\n",
    "\n",
    "    답변:\n",
    "    \"\"\"\n",
    "    analyze_prompt = ChatPromptTemplate.from_template(analyze_template)\n",
    "    analyze_chain = analyze_prompt | llm | StrOutputParser()\n",
    "    \n",
    "    result = analyze_chain.invoke({\"user_query\": state['user_query']})\n",
    "    is_district_related = result.strip().lower() == \"true\"\n",
    "    \n",
    "    return {\"is_district_related\": is_district_related}\n",
    "\n",
    "def search_district_info(state: DistrictRagState) -> DistrictRagState:\n",
    "    # 벡터저장소에서 최대 2개의 문서를 검색 \n",
    "    results = vector_db.similarity_search(state['user_query'], k=2)\n",
    "    search_results = [doc.page_content for doc in results]\n",
    "    return {\"search_results\": search_results}\n",
    "\n",
    "def generate_district_response(state: DistrictRagState) -> DistrictRagState:\n",
    "    response_template = \"\"\"\n",
    "    사용자 입력: {user_query}\n",
    "    행정구 관련 검색 결과: {search_results}\n",
    "\n",
    "    위 정보를 바탕으로 사용자의 행정구 관련 질문에 대한 상세한 답변을 생성하세요. \n",
    "    검색 결과의 정보를 활용하여 정확하고 유용한 정보를 제공하세요.\n",
    "\n",
    "    답변:\n",
    "    \"\"\"\n",
    "    response_prompt = ChatPromptTemplate.from_template(response_template)\n",
    "    response_chain = response_prompt | llm | StrOutputParser()\n",
    "    \n",
    "    final_answer = response_chain.invoke({\"user_query\": state['user_query'], \"search_results\": state['search_results']})\n",
    "    print(f\"\\n행정구 어시스턴트: {final_answer}\")\n",
    "    \n",
    "    return {\"final_answer\": final_answer}\n",
    "\n",
    "def generate_general_response(state: DistrictRagState) -> DistrictRagState:\n",
    "    response_template = \"\"\"\n",
    "    사용자 입력: {user_query}\n",
    "\n",
    "    위 입력은 행정구(아파트/상권)와 관련이 없습니다. \n",
    "    일반적인 대화 맥락에서 적절한 답변을 생성하세요.\n",
    "\n",
    "    답변:\n",
    "    \"\"\"\n",
    "    response_prompt = ChatPromptTemplate.from_template(response_template)\n",
    "    response_chain = response_prompt | llm | StrOutputParser()\n",
    "    \n",
    "    final_answer = response_chain.invoke({\"user_query\": state['user_query']})\n",
    "    print(f\"\\n일반 어시스턴트: {final_answer}\")\n",
    "    \n",
    "    return {\"final_answer\": final_answer}\n"
   ]
  },
  {
   "cell_type": "markdown",
   "metadata": {},
   "source": [
    "`(4) 엣지(Edge)`"
   ]
  },
  {
   "cell_type": "code",
   "execution_count": 11,
   "metadata": {},
   "outputs": [],
   "source": [
    "from typing import Literal\n",
    "\n",
    "def decide_next_step(state: DistrictRagState) -> Literal[\"search_district_info\", \"generate_general_response\"]:\n",
    "    if state['is_district_related']:\n",
    "        return \"search_district_info\"  \n",
    "    else:\n",
    "        return \"generate_general_response\""
   ]
  },
  {
   "cell_type": "markdown",
   "metadata": {},
   "source": [
    "`(5) 그래프(Graph) 구성`"
   ]
  },
  {
   "cell_type": "code",
   "execution_count": 12,
   "metadata": {},
   "outputs": [],
   "source": [
    "from langgraph.graph import StateGraph, START, END\n",
    "\n",
    "# 그래프 구성\n",
    "builder = StateGraph(DistrictRagState)\n",
    "\n",
    "# 노드 추가\n",
    "builder.add_node(\"get_user_query\", get_user_query)\n",
    "builder.add_node(\"analyze_input\", analyze_input)\n",
    "builder.add_node(\"search_district_info\", search_district_info)\n",
    "builder.add_node(\"generate_district_response\", generate_district_response)\n",
    "builder.add_node(\"generate_general_response\", generate_general_response)\n",
    "\n",
    "# 엣지 추가\n",
    "builder.add_edge(START, \"get_user_query\")\n",
    "builder.add_edge(\"get_user_query\", \"analyze_input\")\n",
    "\n",
    "# 조건부 엣지 추가\n",
    "builder.add_conditional_edges(\n",
    "    \"analyze_input\",\n",
    "    decide_next_step,\n",
    "    {\n",
    "        \"search_district_info\": \"search_district_info\",\n",
    "        \"generate_general_response\": \"generate_general_response\"\n",
    "    }\n",
    ")\n",
    "\n",
    "builder.add_edge(\"search_district_info\", \"generate_district_response\")\n",
    "builder.add_edge(\"generate_district_response\", END)\n",
    "builder.add_edge(\"generate_general_response\", END)\n",
    "\n",
    "# 그래프 컴파일\n",
    "graph = builder.compile()"
   ]
  },
  {
   "cell_type": "code",
   "execution_count": 13,
   "metadata": {},
   "outputs": [
    {
     "data": {
      "image/png": "[encoded data removed]",
      "text/plain": [
       "<IPython.core.display.Image object>"
      ]
     },
     "metadata": {},
     "output_type": "display_data"
    }
   ],
   "source": [
    "from IPython.display import Image, display\n",
    "\n",
    "# 그래프 시각화\n",
    "display(Image(graph.get_graph().draw_mermaid_png()))"
   ]
  },
  {
   "cell_type": "markdown",
   "metadata": {},
   "source": [
    "`(6) Graph 실행`"
   ]
  },
  {
   "cell_type": "code",
   "execution_count": 17,
   "metadata": {},
   "outputs": [
    {
     "name": "stdout",
     "output_type": "stream",
     "text": [
      "\n",
      "행정구 어시스턴트: 서울에서 가성비 좋은 상권을 찾고 계신다면, 몇 가지 추천 지역이 있습니다. \n",
      "\n",
      "1. **홍대**: 홍익대학교 주변은 젊은 층이 많이 찾는 지역으로, 다양한 카페와 식당이 경쟁력 있는 가격으로 제공됩니다. 특히, 저렴한 가격에 맛있는 음식과 음료를 즐길 수 있는 곳들이 많습니다.\n",
      "\n",
      "2. **신림**: 대학가가 있는 이 지역은 학생들을 위한 가성비 좋은 음식점과 술집들이 많습니다. 특히, 저렴한 가격에 푸짐한 양의 메뉴를 제공하는 곳들이 많아 인기가 높습니다.\n",
      "\n",
      "3. **관악구**: 서울대 인근에는 다양한 가성비 좋은 식당과 카페들이 있습니다. 이 지역은 학생들이 많이 찾는 만큼 가격도 적당한 편입니다.\n",
      "\n",
      "4. **구로디지털단지**: IT 기업들이 밀집해 있는 이곳은 다양한 음식점과 카페들이 있으며, 가격대도 합리적입니다. 특히 점심시간에 가성비 좋은 도시락이나 뷔페식당을 이용할 수 있습니다.\n",
      "\n",
      "5. **을지로**: 최근 핫플레이스로 떠오르고 있는 을지로는 다양한 소규모 식당과 바들이 있어 저렴한 가격에 다양한 음식을 즐길 수 있는 곳입니다.\n",
      "\n",
      "이 외에도 서울 곳곳에는 가성비 좋은 상권이 많으니, 다양한 지역을 탐방해 보시는 것도 좋습니다!\n",
      "대화를 종료합니다. 감사합니다!\n"
     ]
    }
   ],
   "source": [
    "while True:\n",
    "    initial_state = {'user_query':''}\n",
    "    graph.invoke(initial_state) \n",
    "    continue_chat = input(\"다른 질문이 있으신가요? (y/n): \").lower()\n",
    "    if continue_chat != 'y':\n",
    "        print(\"대화를 종료합니다. 감사합니다!\")\n",
    "        break"
   ]
  }
 ],
 "metadata": {
  "kernelspec": {
   "display_name": "langgraph-agent-hMbqQxzY-py3.12",
   "language": "python",
   "name": "python3"
  },
  "language_info": {
   "codemirror_mode": {
    "name": "ipython",
    "version": 3
   },
   "file_extension": ".py",
   "mimetype": "text/x-python",
   "name": "python",
   "nbconvert_exporter": "python",
   "pygments_lexer": "ipython3",
   "version": "3.12.5"
  }
 },
 "nbformat": 4,
 "nbformat_minor": 2
}
