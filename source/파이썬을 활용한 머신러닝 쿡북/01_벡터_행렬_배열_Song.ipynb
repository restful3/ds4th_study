{
 "cells": [
  {
   "cell_type": "markdown",
   "id": "236a654d",
   "metadata": {},
   "source": [
    "# 소개"
   ]
  },
  {
   "cell_type": "code",
   "execution_count": null,
   "id": "92605a04",
   "metadata": {},
   "outputs": [],
   "source": []
  },
  {
   "cell_type": "markdown",
   "id": "fa2d1b1f",
   "metadata": {},
   "source": [
    "# 벡터 만들기"
   ]
  },
  {
   "cell_type": "code",
   "execution_count": null,
   "id": "fe6cd29c",
   "metadata": {},
   "outputs": [],
   "source": []
  },
  {
   "cell_type": "markdown",
   "id": "a68bd620",
   "metadata": {},
   "source": [
    "# 행렬 만들기"
   ]
  },
  {
   "cell_type": "code",
   "execution_count": null,
   "id": "8a98be1e",
   "metadata": {},
   "outputs": [],
   "source": []
  },
  {
   "cell_type": "markdown",
   "id": "0becfa72",
   "metadata": {},
   "source": [
    "# 희소행렬 만들기"
   ]
  },
  {
   "cell_type": "code",
   "execution_count": null,
   "id": "d38f677c",
   "metadata": {},
   "outputs": [],
   "source": []
  },
  {
   "cell_type": "markdown",
   "id": "404c8f2a",
   "metadata": {},
   "source": [
    "# 원소 선택하기"
   ]
  },
  {
   "cell_type": "code",
   "execution_count": null,
   "id": "1d39ee0e",
   "metadata": {},
   "outputs": [],
   "source": []
  },
  {
   "cell_type": "markdown",
   "id": "b83bf183",
   "metadata": {},
   "source": [
    "# 행렬 정보 확인하기"
   ]
  },
  {
   "cell_type": "code",
   "execution_count": null,
   "id": "22d87883",
   "metadata": {},
   "outputs": [],
   "source": []
  },
  {
   "cell_type": "markdown",
   "id": "acda296e",
   "metadata": {},
   "source": [
    "# 벡터화 연산 적용하기"
   ]
  },
  {
   "cell_type": "code",
   "execution_count": null,
   "id": "f7dba264",
   "metadata": {},
   "outputs": [],
   "source": []
  },
  {
   "cell_type": "markdown",
   "id": "a48d6640",
   "metadata": {},
   "source": [
    "# 최댓값, 최솟값 찾기"
   ]
  },
  {
   "cell_type": "code",
   "execution_count": null,
   "id": "969014a7",
   "metadata": {},
   "outputs": [],
   "source": []
  },
  {
   "cell_type": "markdown",
   "id": "c18b38df",
   "metadata": {},
   "source": [
    "# 평균, 분산, 표준편차 계산하기"
   ]
  },
  {
   "cell_type": "code",
   "execution_count": null,
   "id": "b9057078",
   "metadata": {},
   "outputs": [],
   "source": []
  },
  {
   "cell_type": "markdown",
   "id": "08d8e3b9",
   "metadata": {},
   "source": [
    "# 배열 크기 바꾸기"
   ]
  },
  {
   "cell_type": "code",
   "execution_count": null,
   "id": "dc779bac",
   "metadata": {},
   "outputs": [],
   "source": []
  },
  {
   "cell_type": "markdown",
   "id": "f018ecf0",
   "metadata": {},
   "source": [
    "# 벡터나 행렬 전치하기"
   ]
  },
  {
   "cell_type": "code",
   "execution_count": null,
   "id": "f61bd746",
   "metadata": {},
   "outputs": [],
   "source": []
  },
  {
   "cell_type": "markdown",
   "id": "46462eef",
   "metadata": {},
   "source": [
    "# 행렬 펼치기"
   ]
  },
  {
   "cell_type": "code",
   "execution_count": null,
   "id": "c66038ea",
   "metadata": {},
   "outputs": [],
   "source": []
  },
  {
   "cell_type": "markdown",
   "id": "7bb1755d",
   "metadata": {},
   "source": [
    "# 행렬의 랭크 구하기"
   ]
  },
  {
   "cell_type": "code",
   "execution_count": null,
   "id": "c8ed3f2c",
   "metadata": {},
   "outputs": [],
   "source": []
  },
  {
   "cell_type": "markdown",
   "id": "e01021d0",
   "metadata": {},
   "source": [
    "# 행렬식 계산하기"
   ]
  },
  {
   "cell_type": "code",
   "execution_count": null,
   "id": "56c39d96",
   "metadata": {},
   "outputs": [],
   "source": []
  },
  {
   "cell_type": "markdown",
   "id": "9717c1a5",
   "metadata": {},
   "source": [
    "# 행렬의 대각원소 추출하기"
   ]
  },
  {
   "cell_type": "code",
   "execution_count": null,
   "id": "ccd51497",
   "metadata": {},
   "outputs": [],
   "source": []
  },
  {
   "cell_type": "markdown",
   "id": "e456bd72",
   "metadata": {},
   "source": [
    "# 행렬의 대각합 계산하기"
   ]
  },
  {
   "cell_type": "code",
   "execution_count": null,
   "id": "17bf034d",
   "metadata": {},
   "outputs": [],
   "source": []
  },
  {
   "cell_type": "markdown",
   "id": "77f51e19",
   "metadata": {},
   "source": [
    "# 고윳값과 고유벡터 찾기"
   ]
  },
  {
   "cell_type": "code",
   "execution_count": null,
   "id": "24b23822",
   "metadata": {},
   "outputs": [],
   "source": []
  },
  {
   "cell_type": "markdown",
   "id": "000a46b2",
   "metadata": {},
   "source": [
    "# 점곱 계산하기"
   ]
  },
  {
   "cell_type": "code",
   "execution_count": null,
   "id": "7de75349",
   "metadata": {},
   "outputs": [],
   "source": []
  },
  {
   "cell_type": "markdown",
   "id": "38109d96",
   "metadata": {},
   "source": [
    "# 행렬 덧셈과 뺄셈"
   ]
  },
  {
   "cell_type": "code",
   "execution_count": null,
   "id": "97b66470",
   "metadata": {},
   "outputs": [],
   "source": []
  },
  {
   "cell_type": "markdown",
   "id": "a7dc8de3",
   "metadata": {},
   "source": [
    "# 행렬 곱셈"
   ]
  },
  {
   "cell_type": "code",
   "execution_count": null,
   "id": "4df5ac7d",
   "metadata": {},
   "outputs": [],
   "source": []
  },
  {
   "cell_type": "markdown",
   "id": "874b92c2",
   "metadata": {},
   "source": [
    "# 역행렬"
   ]
  },
  {
   "cell_type": "code",
   "execution_count": null,
   "id": "b59ace6e",
   "metadata": {},
   "outputs": [],
   "source": []
  },
  {
   "cell_type": "markdown",
   "id": "b385da63",
   "metadata": {},
   "source": [
    "# 난수 생성하기"
   ]
  },
  {
   "cell_type": "code",
   "execution_count": null,
   "id": "4a89432f",
   "metadata": {},
   "outputs": [],
   "source": []
  }
 ],
 "metadata": {
  "kernelspec": {
   "display_name": "Python 3 (ipykernel)",
   "language": "python",
   "name": "python3"
  },
  "language_info": {
   "codemirror_mode": {
    "name": "ipython",
    "version": 3
   },
   "file_extension": ".py",
   "mimetype": "text/x-python",
   "name": "python",
   "nbconvert_exporter": "python",
   "pygments_lexer": "ipython3",
   "version": "3.10.9"
  },
  "toc": {
   "base_numbering": 1,
   "nav_menu": {},
   "number_sections": true,
   "sideBar": true,
   "skip_h1_title": false,
   "title_cell": "Table of Contents",
   "title_sidebar": "Contents",
   "toc_cell": false,
   "toc_position": {},
   "toc_section_display": true,
   "toc_window_display": false
  }
 },
 "nbformat": 4,
 "nbformat_minor": 5
}
