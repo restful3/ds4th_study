{
 "cells": [
  {
   "cell_type": "markdown",
   "id": "236a654d",
   "metadata": {},
   "source": [
    "# 소개"
   ]
  },
  {
   "cell_type": "markdown",
   "id": "4c3c6dc1",
   "metadata": {},
   "source": [
    "- 넘파이 연산의 기초를 배운다"
   ]
  },
  {
   "cell_type": "markdown",
   "id": "fa2d1b1f",
   "metadata": {},
   "source": [
    "# 벡터 만들기"
   ]
  },
  {
   "cell_type": "code",
   "execution_count": 3,
   "id": "fe6cd29c",
   "metadata": {},
   "outputs": [
    {
     "name": "stdout",
     "output_type": "stream",
     "text": [
      "[1 2 3]\n",
      "(3,)\n"
     ]
    },
    {
     "data": {
      "text/plain": [
       "(None, None)"
      ]
     },
     "execution_count": 3,
     "metadata": {},
     "output_type": "execute_result"
    }
   ],
   "source": [
    "import numpy as np\n",
    "\n",
    "v = np.array([1,2,3])\n",
    "print(v), print(v.shape)"
   ]
  },
  {
   "cell_type": "code",
   "execution_count": 15,
   "id": "c1724f07",
   "metadata": {},
   "outputs": [
    {
     "name": "stdout",
     "output_type": "stream",
     "text": [
      "[[1]\n",
      " [2]\n",
      " [3]]\n",
      "(3, 1)\n"
     ]
    },
    {
     "data": {
      "text/plain": [
       "(None, None)"
      ]
     },
     "execution_count": 15,
     "metadata": {},
     "output_type": "execute_result"
    }
   ],
   "source": [
    "v2 = np.array([[1], [2], [3]])\n",
    "print(mt), print(v2.shape)"
   ]
  },
  {
   "cell_type": "code",
   "execution_count": 16,
   "id": "59f7935d",
   "metadata": {},
   "outputs": [
    {
     "data": {
      "text/plain": [
       "numpy.ndarray"
      ]
     },
     "execution_count": 16,
     "metadata": {},
     "output_type": "execute_result"
    }
   ],
   "source": [
    "type(v)"
   ]
  },
  {
   "cell_type": "code",
   "execution_count": 17,
   "id": "d7aa0a05",
   "metadata": {},
   "outputs": [
    {
     "data": {
      "text/plain": [
       "False"
      ]
     },
     "execution_count": 17,
     "metadata": {},
     "output_type": "execute_result"
    }
   ],
   "source": [
    "new_row = np.asarray([1,2,3])\n",
    "new_row = np.array(v)\n",
    "new_row is v"
   ]
  },
  {
   "cell_type": "code",
   "execution_count": 18,
   "id": "d5035f1d",
   "metadata": {},
   "outputs": [
    {
     "data": {
      "text/plain": [
       "False"
      ]
     },
     "execution_count": 18,
     "metadata": {},
     "output_type": "execute_result"
    }
   ],
   "source": [
    "new_row = v.copy()\n",
    "new_row is v"
   ]
  },
  {
   "cell_type": "markdown",
   "id": "a68bd620",
   "metadata": {},
   "source": [
    "# 행렬 만들기"
   ]
  },
  {
   "cell_type": "code",
   "execution_count": 23,
   "id": "8a98be1e",
   "metadata": {},
   "outputs": [
    {
     "data": {
      "text/plain": [
       "array([[1, 2],\n",
       "       [1, 2],\n",
       "       [1, 2]])"
      ]
     },
     "execution_count": 23,
     "metadata": {},
     "output_type": "execute_result"
    }
   ],
   "source": [
    "# 2차원 행렬\n",
    "mt = np.array([[1, 2],\n",
    "              [1, 2],\n",
    "              [1, 2]])\n",
    "mt"
   ]
  },
  {
   "cell_type": "code",
   "execution_count": 25,
   "id": "c1676c61",
   "metadata": {},
   "outputs": [
    {
     "data": {
      "text/plain": [
       "matrix([[1, 2],\n",
       "        [1, 2],\n",
       "        [1, 2]])"
      ]
     },
     "execution_count": 25,
     "metadata": {},
     "output_type": "execute_result"
    }
   ],
   "source": [
    "# 아래는 권장하지 않음\n",
    "# 넘파이 표준이 아니라, 다른 함수와의 호완성 문제\n",
    "mo = np.mat([[1, 2],\n",
    "              [1, 2],\n",
    "              [1, 2]])\n",
    "mo"
   ]
  },
  {
   "cell_type": "code",
   "execution_count": 26,
   "id": "0edf1ccf",
   "metadata": {},
   "outputs": [
    {
     "data": {
      "text/plain": [
       "array([[1.51721295e-316, 0.00000000e+000],\n",
       "       [0.00000000e+000, 0.00000000e+000],\n",
       "       [0.00000000e+000, 0.00000000e+000]])"
      ]
     },
     "execution_count": 26,
     "metadata": {},
     "output_type": "execute_result"
    }
   ],
   "source": [
    "np.empty((3, 2))"
   ]
  },
  {
   "cell_type": "code",
   "execution_count": 27,
   "id": "aa3ade05",
   "metadata": {},
   "outputs": [
    {
     "data": {
      "text/plain": [
       "array([[0., 0.],\n",
       "       [0., 0.],\n",
       "       [0., 0.]])"
      ]
     },
     "execution_count": 27,
     "metadata": {},
     "output_type": "execute_result"
    }
   ],
   "source": [
    "np.zeros((3,2))"
   ]
  },
  {
   "cell_type": "code",
   "execution_count": 28,
   "id": "30208a9e",
   "metadata": {},
   "outputs": [
    {
     "data": {
      "text/plain": [
       "array([[1., 1.],\n",
       "       [1., 1.],\n",
       "       [1., 1.]])"
      ]
     },
     "execution_count": 28,
     "metadata": {},
     "output_type": "execute_result"
    }
   ],
   "source": [
    "np.ones((3,2))"
   ]
  },
  {
   "cell_type": "markdown",
   "id": "9437478f",
   "metadata": {},
   "source": [
    "- 특정 값으로 채운 배열"
   ]
  },
  {
   "cell_type": "code",
   "execution_count": 29,
   "id": "5e8c1f3b",
   "metadata": {},
   "outputs": [
    {
     "data": {
      "text/plain": [
       "array([[7., 7.],\n",
       "       [7., 7.],\n",
       "       [7., 7.]])"
      ]
     },
     "execution_count": 29,
     "metadata": {},
     "output_type": "execute_result"
    }
   ],
   "source": [
    "np.zeros((3,2))+7"
   ]
  },
  {
   "cell_type": "code",
   "execution_count": 30,
   "id": "e04ff3d4",
   "metadata": {},
   "outputs": [
    {
     "data": {
      "text/plain": [
       "array([[7, 7],\n",
       "       [7, 7],\n",
       "       [7, 7]])"
      ]
     },
     "execution_count": 30,
     "metadata": {},
     "output_type": "execute_result"
    }
   ],
   "source": [
    "np.full((3, 2), 7)"
   ]
  },
  {
   "cell_type": "markdown",
   "id": "0becfa72",
   "metadata": {},
   "source": [
    "# 희소행렬 만들기"
   ]
  },
  {
   "cell_type": "code",
   "execution_count": 31,
   "id": "d38f677c",
   "metadata": {},
   "outputs": [],
   "source": [
    "import numpy as np\n",
    "from scipy import sparse"
   ]
  },
  {
   "cell_type": "code",
   "execution_count": 32,
   "id": "87d1de79",
   "metadata": {},
   "outputs": [],
   "source": [
    "mat = np.array([[0, 0], \n",
    "               [0, 1], \n",
    "               [3, 0]])"
   ]
  },
  {
   "cell_type": "code",
   "execution_count": 33,
   "id": "3d156773",
   "metadata": {},
   "outputs": [],
   "source": [
    "mat_sparse = sparse.csr_matrix(mat)"
   ]
  },
  {
   "cell_type": "code",
   "execution_count": 34,
   "id": "f6801307",
   "metadata": {},
   "outputs": [
    {
     "name": "stdout",
     "output_type": "stream",
     "text": [
      "  (1, 1)\t1\n",
      "  (2, 0)\t3\n"
     ]
    }
   ],
   "source": [
    "print(mat_sparse)"
   ]
  },
  {
   "cell_type": "code",
   "execution_count": 35,
   "id": "f086d705",
   "metadata": {},
   "outputs": [],
   "source": [
    "mat_large = np.array([[0, 0, 0, 0, 0, 0, 0, 0, 0, 0], \n",
    "                     [0, 1, 0, 0, 0, 0, 0, 0, 0, 0],\n",
    "                     [3, 0, 0, 0, 0, 0, 0, 0, 0, 0]])"
   ]
  },
  {
   "cell_type": "code",
   "execution_count": 37,
   "id": "0fc7faef",
   "metadata": {},
   "outputs": [],
   "source": [
    "mat_large_sparse = sparse.csr_matrix(mat_large)"
   ]
  },
  {
   "cell_type": "code",
   "execution_count": 38,
   "id": "b8779ab5",
   "metadata": {},
   "outputs": [
    {
     "name": "stdout",
     "output_type": "stream",
     "text": [
      "  (1, 1)\t1\n",
      "  (2, 0)\t3\n"
     ]
    }
   ],
   "source": [
    "print(mat_large_sparse)"
   ]
  },
  {
   "cell_type": "markdown",
   "id": "fc48713f",
   "metadata": {},
   "source": [
    "- 직접 희소행렬 만들기"
   ]
  },
  {
   "cell_type": "code",
   "execution_count": 39,
   "id": "44d03c9a",
   "metadata": {},
   "outputs": [
    {
     "name": "stdout",
     "output_type": "stream",
     "text": [
      "  (1, 1)\t1\n",
      "  (2, 0)\t3\n"
     ]
    }
   ],
   "source": [
    "mat_sparse_2 = sparse.csr_matrix(([1, 3], ([1, 2], [1, 0])), shape=(3, 10))\n",
    "print(mat_sparse_2)"
   ]
  },
  {
   "cell_type": "code",
   "execution_count": 40,
   "id": "166662f6",
   "metadata": {},
   "outputs": [
    {
     "name": "stdout",
     "output_type": "stream",
     "text": [
      "[[0 0 0 0 0 0 0 0 0 0]\n",
      " [0 1 0 0 0 0 0 0 0 0]\n",
      " [3 0 0 0 0 0 0 0 0 0]]\n"
     ]
    }
   ],
   "source": [
    "print(mat_sparse_2.toarray())"
   ]
  },
  {
   "cell_type": "code",
   "execution_count": 42,
   "id": "dae170e5",
   "metadata": {},
   "outputs": [
    {
     "data": {
      "text/plain": [
       "matrix([[0, 0, 0, 0, 0, 0, 0, 0, 0, 0],\n",
       "        [0, 1, 0, 0, 0, 0, 0, 0, 0, 0],\n",
       "        [3, 0, 0, 0, 0, 0, 0, 0, 0, 0]])"
      ]
     },
     "execution_count": 42,
     "metadata": {},
     "output_type": "execute_result"
    }
   ],
   "source": [
    "# np.matrix 객체로 반환\n",
    "mat_sparse_2.todense()"
   ]
  },
  {
   "cell_type": "markdown",
   "id": "404c8f2a",
   "metadata": {},
   "source": [
    "# 원소 선택하기"
   ]
  },
  {
   "cell_type": "code",
   "execution_count": 43,
   "id": "1d39ee0e",
   "metadata": {},
   "outputs": [],
   "source": [
    "v = np.array([1, 2, 3, 4, 5, 6])\n",
    "mat = np.array([[1, 2, 3], \n",
    "               [4, 5, 6], \n",
    "               [7,8 ,9]])"
   ]
  },
  {
   "cell_type": "code",
   "execution_count": 44,
   "id": "2888639a",
   "metadata": {},
   "outputs": [
    {
     "data": {
      "text/plain": [
       "3"
      ]
     },
     "execution_count": 44,
     "metadata": {},
     "output_type": "execute_result"
    }
   ],
   "source": [
    "v[2]"
   ]
  },
  {
   "cell_type": "code",
   "execution_count": 45,
   "id": "0f4e51c3",
   "metadata": {},
   "outputs": [
    {
     "data": {
      "text/plain": [
       "5"
      ]
     },
     "execution_count": 45,
     "metadata": {},
     "output_type": "execute_result"
    }
   ],
   "source": [
    "mat[1,1]"
   ]
  },
  {
   "cell_type": "code",
   "execution_count": 46,
   "id": "9d57927b",
   "metadata": {},
   "outputs": [
    {
     "data": {
      "text/plain": [
       "array([1, 2, 3])"
      ]
     },
     "execution_count": 46,
     "metadata": {},
     "output_type": "execute_result"
    }
   ],
   "source": [
    "v[:3]"
   ]
  },
  {
   "cell_type": "code",
   "execution_count": 47,
   "id": "ad74f34f",
   "metadata": {},
   "outputs": [
    {
     "data": {
      "text/plain": [
       "array([4, 5, 6])"
      ]
     },
     "execution_count": 47,
     "metadata": {},
     "output_type": "execute_result"
    }
   ],
   "source": [
    "v[3:]"
   ]
  },
  {
   "cell_type": "code",
   "execution_count": 48,
   "id": "45d33d74",
   "metadata": {},
   "outputs": [
    {
     "data": {
      "text/plain": [
       "6"
      ]
     },
     "execution_count": 48,
     "metadata": {},
     "output_type": "execute_result"
    }
   ],
   "source": [
    "v[-1]"
   ]
  },
  {
   "cell_type": "code",
   "execution_count": 49,
   "id": "b4edbba5",
   "metadata": {},
   "outputs": [
    {
     "data": {
      "text/plain": [
       "array([[1, 2, 3],\n",
       "       [4, 5, 6]])"
      ]
     },
     "execution_count": 49,
     "metadata": {},
     "output_type": "execute_result"
    }
   ],
   "source": [
    "mat[:2, :]"
   ]
  },
  {
   "cell_type": "code",
   "execution_count": 51,
   "id": "f43263c1",
   "metadata": {},
   "outputs": [
    {
     "data": {
      "text/plain": [
       "array([[2],\n",
       "       [5],\n",
       "       [8]])"
      ]
     },
     "execution_count": 51,
     "metadata": {},
     "output_type": "execute_result"
    }
   ],
   "source": [
    "mat[:, 1:2]"
   ]
  },
  {
   "cell_type": "markdown",
   "id": "3bbef1b0",
   "metadata": {},
   "source": [
    "- 팬시 인덱싱"
   ]
  },
  {
   "cell_type": "code",
   "execution_count": 52,
   "id": "a7ce40d6",
   "metadata": {},
   "outputs": [
    {
     "data": {
      "text/plain": [
       "array([[1, 2, 3],\n",
       "       [7, 8, 9]])"
      ]
     },
     "execution_count": 52,
     "metadata": {},
     "output_type": "execute_result"
    }
   ],
   "source": [
    "mat[[0, 2]]"
   ]
  },
  {
   "cell_type": "code",
   "execution_count": 54,
   "id": "d5b02d7f",
   "metadata": {},
   "outputs": [
    {
     "data": {
      "text/plain": [
       "array([2, 7])"
      ]
     },
     "execution_count": 54,
     "metadata": {},
     "output_type": "execute_result"
    }
   ],
   "source": [
    "mat[[0, 2], [1, 0]]"
   ]
  },
  {
   "cell_type": "code",
   "execution_count": 55,
   "id": "448229ba",
   "metadata": {},
   "outputs": [],
   "source": [
    "mask = mat > 5"
   ]
  },
  {
   "cell_type": "code",
   "execution_count": 56,
   "id": "6e7b5825",
   "metadata": {},
   "outputs": [
    {
     "data": {
      "text/plain": [
       "array([[False, False, False],\n",
       "       [False, False,  True],\n",
       "       [ True,  True,  True]])"
      ]
     },
     "execution_count": 56,
     "metadata": {},
     "output_type": "execute_result"
    }
   ],
   "source": [
    "mask"
   ]
  },
  {
   "cell_type": "code",
   "execution_count": 57,
   "id": "265e1e9c",
   "metadata": {},
   "outputs": [
    {
     "data": {
      "text/plain": [
       "array([6, 7, 8, 9])"
      ]
     },
     "execution_count": 57,
     "metadata": {},
     "output_type": "execute_result"
    }
   ],
   "source": [
    "mat[mask]"
   ]
  },
  {
   "cell_type": "markdown",
   "id": "b83bf183",
   "metadata": {},
   "source": [
    "# 행렬 정보 확인하기"
   ]
  },
  {
   "cell_type": "code",
   "execution_count": 58,
   "id": "22d87883",
   "metadata": {},
   "outputs": [],
   "source": [
    "mat = np.array([[1, 2, 3, 4], \n",
    "               [5, 6, 7, 8], \n",
    "               [9, 10, 11, 12]])"
   ]
  },
  {
   "cell_type": "code",
   "execution_count": 59,
   "id": "4bdaae9f",
   "metadata": {},
   "outputs": [
    {
     "data": {
      "text/plain": [
       "(3, 4)"
      ]
     },
     "execution_count": 59,
     "metadata": {},
     "output_type": "execute_result"
    }
   ],
   "source": [
    "mat.shape"
   ]
  },
  {
   "cell_type": "code",
   "execution_count": 60,
   "id": "ca260315",
   "metadata": {},
   "outputs": [
    {
     "data": {
      "text/plain": [
       "12"
      ]
     },
     "execution_count": 60,
     "metadata": {},
     "output_type": "execute_result"
    }
   ],
   "source": [
    "mat.size"
   ]
  },
  {
   "cell_type": "code",
   "execution_count": 61,
   "id": "4b8cf1fe",
   "metadata": {},
   "outputs": [
    {
     "data": {
      "text/plain": [
       "2"
      ]
     },
     "execution_count": 61,
     "metadata": {},
     "output_type": "execute_result"
    }
   ],
   "source": [
    "mat.ndim"
   ]
  },
  {
   "cell_type": "code",
   "execution_count": 62,
   "id": "705caaad",
   "metadata": {},
   "outputs": [
    {
     "data": {
      "text/plain": [
       "dtype('int64')"
      ]
     },
     "execution_count": 62,
     "metadata": {},
     "output_type": "execute_result"
    }
   ],
   "source": [
    "mat.dtype"
   ]
  },
  {
   "cell_type": "code",
   "execution_count": 63,
   "id": "02bdec7a",
   "metadata": {},
   "outputs": [
    {
     "data": {
      "text/plain": [
       "8"
      ]
     },
     "execution_count": 63,
     "metadata": {},
     "output_type": "execute_result"
    }
   ],
   "source": [
    "mat.itemsize"
   ]
  },
  {
   "cell_type": "code",
   "execution_count": 64,
   "id": "9d0f4b1d",
   "metadata": {},
   "outputs": [
    {
     "data": {
      "text/plain": [
       "96"
      ]
     },
     "execution_count": 64,
     "metadata": {},
     "output_type": "execute_result"
    }
   ],
   "source": [
    "mat.nbytes"
   ]
  },
  {
   "cell_type": "markdown",
   "id": "acda296e",
   "metadata": {},
   "source": [
    "# 벡터화 연산 적용하기"
   ]
  },
  {
   "cell_type": "code",
   "execution_count": 65,
   "id": "f7dba264",
   "metadata": {},
   "outputs": [],
   "source": [
    "mat = np.array([[1, 2, 3], \n",
    "               [4, 5, 6], \n",
    "               [7, 8, 9]])"
   ]
  },
  {
   "cell_type": "code",
   "execution_count": 66,
   "id": "d6ef0749",
   "metadata": {},
   "outputs": [],
   "source": [
    "add_100 = lambda i : 1+100"
   ]
  },
  {
   "cell_type": "code",
   "execution_count": 67,
   "id": "d146f8b2",
   "metadata": {},
   "outputs": [],
   "source": [
    "vectorized_add_100 = np.vectorize(add_100)"
   ]
  },
  {
   "cell_type": "code",
   "execution_count": 68,
   "id": "175c81ba",
   "metadata": {},
   "outputs": [
    {
     "data": {
      "text/plain": [
       "array([[101, 101, 101],\n",
       "       [101, 101, 101],\n",
       "       [101, 101, 101]])"
      ]
     },
     "execution_count": 68,
     "metadata": {},
     "output_type": "execute_result"
    }
   ],
   "source": [
    "vectorized_add_100(mat)"
   ]
  },
  {
   "cell_type": "code",
   "execution_count": 69,
   "id": "95600c30",
   "metadata": {},
   "outputs": [
    {
     "data": {
      "text/plain": [
       "array([[101, 102, 103],\n",
       "       [104, 105, 106],\n",
       "       [107, 108, 109]])"
      ]
     },
     "execution_count": 69,
     "metadata": {},
     "output_type": "execute_result"
    }
   ],
   "source": [
    "mat + 100"
   ]
  },
  {
   "cell_type": "code",
   "execution_count": 70,
   "id": "8105452e",
   "metadata": {},
   "outputs": [
    {
     "data": {
      "text/plain": [
       "array([[101, 102, 103],\n",
       "       [104, 105, 106],\n",
       "       [107, 108, 109]])"
      ]
     },
     "execution_count": 70,
     "metadata": {},
     "output_type": "execute_result"
    }
   ],
   "source": [
    "mat + [100, 100, 100]"
   ]
  },
  {
   "cell_type": "code",
   "execution_count": 71,
   "id": "e002b9cf",
   "metadata": {},
   "outputs": [
    {
     "data": {
      "text/plain": [
       "array([[101, 202, 303],\n",
       "       [104, 205, 306],\n",
       "       [107, 208, 309]])"
      ]
     },
     "execution_count": 71,
     "metadata": {},
     "output_type": "execute_result"
    }
   ],
   "source": [
    "mat + [100, 200, 300]"
   ]
  },
  {
   "cell_type": "code",
   "execution_count": 72,
   "id": "275e8dd8",
   "metadata": {},
   "outputs": [
    {
     "data": {
      "text/plain": [
       "array([[101, 102, 103],\n",
       "       [204, 205, 206],\n",
       "       [307, 308, 309]])"
      ]
     },
     "execution_count": 72,
     "metadata": {},
     "output_type": "execute_result"
    }
   ],
   "source": [
    "mat + [[100], [200], [300]]"
   ]
  },
  {
   "cell_type": "markdown",
   "id": "a48d6640",
   "metadata": {},
   "source": [
    "# 최댓값, 최솟값 찾기"
   ]
  },
  {
   "cell_type": "code",
   "execution_count": 73,
   "id": "969014a7",
   "metadata": {},
   "outputs": [
    {
     "data": {
      "text/plain": [
       "array([[1, 2, 3],\n",
       "       [4, 5, 6],\n",
       "       [7, 8, 9]])"
      ]
     },
     "execution_count": 73,
     "metadata": {},
     "output_type": "execute_result"
    }
   ],
   "source": [
    "mat"
   ]
  },
  {
   "cell_type": "code",
   "execution_count": 74,
   "id": "a395b50f",
   "metadata": {},
   "outputs": [
    {
     "data": {
      "text/plain": [
       "9"
      ]
     },
     "execution_count": 74,
     "metadata": {},
     "output_type": "execute_result"
    }
   ],
   "source": [
    "np.max(mat)"
   ]
  },
  {
   "cell_type": "code",
   "execution_count": 75,
   "id": "ee84773c",
   "metadata": {},
   "outputs": [
    {
     "data": {
      "text/plain": [
       "1"
      ]
     },
     "execution_count": 75,
     "metadata": {},
     "output_type": "execute_result"
    }
   ],
   "source": [
    "np.min(mat)"
   ]
  },
  {
   "cell_type": "code",
   "execution_count": 76,
   "id": "1f5ee0d5",
   "metadata": {},
   "outputs": [
    {
     "data": {
      "text/plain": [
       "array([7, 8, 9])"
      ]
     },
     "execution_count": 76,
     "metadata": {},
     "output_type": "execute_result"
    }
   ],
   "source": [
    "np.max(mat, axis=0)"
   ]
  },
  {
   "cell_type": "code",
   "execution_count": 77,
   "id": "569053f4",
   "metadata": {},
   "outputs": [
    {
     "data": {
      "text/plain": [
       "array([3, 6, 9])"
      ]
     },
     "execution_count": 77,
     "metadata": {},
     "output_type": "execute_result"
    }
   ],
   "source": [
    "np.max(mat, axis=1)"
   ]
  },
  {
   "cell_type": "markdown",
   "id": "10ffcf1a",
   "metadata": {},
   "source": [
    "- keepdims : 원본 배열의 차원과 동일한 결과"
   ]
  },
  {
   "cell_type": "code",
   "execution_count": 78,
   "id": "7f75c9bf",
   "metadata": {},
   "outputs": [
    {
     "data": {
      "text/plain": [
       "array([[3],\n",
       "       [6],\n",
       "       [9]])"
      ]
     },
     "execution_count": 78,
     "metadata": {},
     "output_type": "execute_result"
    }
   ],
   "source": [
    "v = np.max(mat, axis=1, keepdims=True)\n",
    "v"
   ]
  },
  {
   "cell_type": "code",
   "execution_count": 79,
   "id": "3431ece1",
   "metadata": {},
   "outputs": [
    {
     "data": {
      "text/plain": [
       "array([[-2, -1,  0],\n",
       "       [-2, -1,  0],\n",
       "       [-2, -1,  0]])"
      ]
     },
     "execution_count": 79,
     "metadata": {},
     "output_type": "execute_result"
    }
   ],
   "source": [
    "mat - v "
   ]
  },
  {
   "cell_type": "markdown",
   "id": "c18b38df",
   "metadata": {},
   "source": [
    "# 평균, 분산, 표준편차 계산하기"
   ]
  },
  {
   "cell_type": "code",
   "execution_count": 80,
   "id": "b9057078",
   "metadata": {},
   "outputs": [
    {
     "data": {
      "text/plain": [
       "array([[1, 2, 3],\n",
       "       [4, 5, 6],\n",
       "       [7, 8, 9]])"
      ]
     },
     "execution_count": 80,
     "metadata": {},
     "output_type": "execute_result"
    }
   ],
   "source": [
    "mat"
   ]
  },
  {
   "cell_type": "code",
   "execution_count": 81,
   "id": "a59d94d0",
   "metadata": {},
   "outputs": [
    {
     "data": {
      "text/plain": [
       "5.0"
      ]
     },
     "execution_count": 81,
     "metadata": {},
     "output_type": "execute_result"
    }
   ],
   "source": [
    "np.mean(mat)"
   ]
  },
  {
   "cell_type": "code",
   "execution_count": 82,
   "id": "95ecc892",
   "metadata": {},
   "outputs": [
    {
     "data": {
      "text/plain": [
       "6.666666666666667"
      ]
     },
     "execution_count": 82,
     "metadata": {},
     "output_type": "execute_result"
    }
   ],
   "source": [
    "np.var(mat)"
   ]
  },
  {
   "cell_type": "code",
   "execution_count": 83,
   "id": "573a6216",
   "metadata": {},
   "outputs": [
    {
     "data": {
      "text/plain": [
       "2.581988897471611"
      ]
     },
     "execution_count": 83,
     "metadata": {},
     "output_type": "execute_result"
    }
   ],
   "source": [
    "np.std(mat)"
   ]
  },
  {
   "cell_type": "code",
   "execution_count": 84,
   "id": "fa169e0e",
   "metadata": {},
   "outputs": [
    {
     "data": {
      "text/plain": [
       "array([4., 5., 6.])"
      ]
     },
     "execution_count": 84,
     "metadata": {},
     "output_type": "execute_result"
    }
   ],
   "source": [
    "np.mean(mat, axis=0)"
   ]
  },
  {
   "cell_type": "markdown",
   "id": "913958fc",
   "metadata": {},
   "source": [
    "- unbiased"
   ]
  },
  {
   "cell_type": "code",
   "execution_count": 85,
   "id": "8aeee80f",
   "metadata": {},
   "outputs": [
    {
     "data": {
      "text/plain": [
       "2.7386127875258306"
      ]
     },
     "execution_count": 85,
     "metadata": {},
     "output_type": "execute_result"
    }
   ],
   "source": [
    "np.std(mat, ddof=1)"
   ]
  },
  {
   "cell_type": "markdown",
   "id": "83d66b29",
   "metadata": {},
   "source": [
    "- pandas의 std 함수의 ddof는 기본 1"
   ]
  },
  {
   "cell_type": "code",
   "execution_count": 93,
   "id": "42c9a100",
   "metadata": {},
   "outputs": [],
   "source": [
    "import pandas as pd\n",
    "\n",
    "df = pd.DataFrame(mat.flatten())"
   ]
  },
  {
   "cell_type": "code",
   "execution_count": 92,
   "id": "4d75f484",
   "metadata": {},
   "outputs": [
    {
     "data": {
      "text/plain": [
       "0    2.738613\n",
       "dtype: float64"
      ]
     },
     "execution_count": 92,
     "metadata": {},
     "output_type": "execute_result"
    }
   ],
   "source": [
    "df.std()"
   ]
  },
  {
   "cell_type": "code",
   "execution_count": 95,
   "id": "71ba0607",
   "metadata": {},
   "outputs": [
    {
     "data": {
      "text/plain": [
       "array([0.81649658, 0.81649658, 0.81649658])"
      ]
     },
     "execution_count": 95,
     "metadata": {},
     "output_type": "execute_result"
    }
   ],
   "source": [
    "np.std(mat, axis=1)"
   ]
  },
  {
   "cell_type": "code",
   "execution_count": 94,
   "id": "c215d595",
   "metadata": {},
   "outputs": [
    {
     "data": {
      "text/plain": [
       "array([[0.81649658],\n",
       "       [0.81649658],\n",
       "       [0.81649658]])"
      ]
     },
     "execution_count": 94,
     "metadata": {},
     "output_type": "execute_result"
    }
   ],
   "source": [
    "np.std(mat, axis=1, keepdims=True)"
   ]
  },
  {
   "cell_type": "markdown",
   "id": "08d8e3b9",
   "metadata": {},
   "source": [
    "# 배열 크기 바꾸기"
   ]
  },
  {
   "cell_type": "code",
   "execution_count": 96,
   "id": "dc779bac",
   "metadata": {},
   "outputs": [],
   "source": [
    "mat = np.array([[1, 2, 3], \n",
    "               [4, 5, 6], \n",
    "               [7, 8, 9],\n",
    "               [10, 11, 12]])"
   ]
  },
  {
   "cell_type": "code",
   "execution_count": 97,
   "id": "908b5bd6",
   "metadata": {},
   "outputs": [
    {
     "data": {
      "text/plain": [
       "array([[ 1,  2,  3,  4,  5,  6],\n",
       "       [ 7,  8,  9, 10, 11, 12]])"
      ]
     },
     "execution_count": 97,
     "metadata": {},
     "output_type": "execute_result"
    }
   ],
   "source": [
    "mat.reshape(2, 6)"
   ]
  },
  {
   "cell_type": "code",
   "execution_count": 98,
   "id": "0602f5e6",
   "metadata": {},
   "outputs": [
    {
     "data": {
      "text/plain": [
       "12"
      ]
     },
     "execution_count": 98,
     "metadata": {},
     "output_type": "execute_result"
    }
   ],
   "source": [
    "mat.size"
   ]
  },
  {
   "cell_type": "markdown",
   "id": "7d00a4fe",
   "metadata": {},
   "source": [
    "- -1은 가능한 많이 란 뜻"
   ]
  },
  {
   "cell_type": "code",
   "execution_count": 101,
   "id": "58f3457a",
   "metadata": {},
   "outputs": [
    {
     "data": {
      "text/plain": [
       "array([[ 1,  2,  3,  4,  5,  6,  7,  8,  9, 10, 11, 12]])"
      ]
     },
     "execution_count": 101,
     "metadata": {},
     "output_type": "execute_result"
    }
   ],
   "source": [
    "mat.reshape(1, -1)"
   ]
  },
  {
   "cell_type": "markdown",
   "id": "7a14ab54",
   "metadata": {},
   "source": [
    "- 정수 하나는 1차원 배열"
   ]
  },
  {
   "cell_type": "code",
   "execution_count": 104,
   "id": "43d4b606",
   "metadata": {},
   "outputs": [
    {
     "data": {
      "text/plain": [
       "array([ 1,  2,  3,  4,  5,  6,  7,  8,  9, 10, 11, 12])"
      ]
     },
     "execution_count": 104,
     "metadata": {},
     "output_type": "execute_result"
    }
   ],
   "source": [
    "mat.reshape(12)"
   ]
  },
  {
   "cell_type": "code",
   "execution_count": 105,
   "id": "7edc0c8d",
   "metadata": {},
   "outputs": [
    {
     "data": {
      "text/plain": [
       "array([ 1,  2,  3,  4,  5,  6,  7,  8,  9, 10, 11, 12])"
      ]
     },
     "execution_count": 105,
     "metadata": {},
     "output_type": "execute_result"
    }
   ],
   "source": [
    "mat.reshape(-1)"
   ]
  },
  {
   "cell_type": "code",
   "execution_count": 106,
   "id": "387a4675",
   "metadata": {},
   "outputs": [
    {
     "data": {
      "text/plain": [
       "array([ 1,  2,  3,  4,  5,  6,  7,  8,  9, 10, 11, 12])"
      ]
     },
     "execution_count": 106,
     "metadata": {},
     "output_type": "execute_result"
    }
   ],
   "source": [
    "mat.ravel()"
   ]
  },
  {
   "cell_type": "code",
   "execution_count": 107,
   "id": "cc95fe6a",
   "metadata": {},
   "outputs": [
    {
     "data": {
      "text/plain": [
       "array([ 1,  2,  3,  4,  5,  6,  7,  8,  9, 10, 11, 12])"
      ]
     },
     "execution_count": 107,
     "metadata": {},
     "output_type": "execute_result"
    }
   ],
   "source": [
    "mat.flatten()"
   ]
  },
  {
   "cell_type": "markdown",
   "id": "f018ecf0",
   "metadata": {},
   "source": [
    "# 벡터나 행렬 전치하기"
   ]
  },
  {
   "cell_type": "code",
   "execution_count": 108,
   "id": "f61bd746",
   "metadata": {},
   "outputs": [],
   "source": [
    "mat = np.array([[1, 2, 3], \n",
    "               [4, 5, 6], \n",
    "               [7, 8, 9]])"
   ]
  },
  {
   "cell_type": "code",
   "execution_count": 109,
   "id": "4b00275f",
   "metadata": {},
   "outputs": [
    {
     "data": {
      "text/plain": [
       "array([[1, 4, 7],\n",
       "       [2, 5, 8],\n",
       "       [3, 6, 9]])"
      ]
     },
     "execution_count": 109,
     "metadata": {},
     "output_type": "execute_result"
    }
   ],
   "source": [
    "mat.T"
   ]
  },
  {
   "cell_type": "markdown",
   "id": "26828857",
   "metadata": {},
   "source": [
    "- vector는 전치 불가"
   ]
  },
  {
   "cell_type": "code",
   "execution_count": 111,
   "id": "d341e69f",
   "metadata": {},
   "outputs": [
    {
     "data": {
      "text/plain": [
       "array([1, 2, 3, 4, 5])"
      ]
     },
     "execution_count": 111,
     "metadata": {},
     "output_type": "execute_result"
    }
   ],
   "source": [
    "np.array([1, 2, 3,4, 5]).T"
   ]
  },
  {
   "cell_type": "markdown",
   "id": "eb61a69f",
   "metadata": {},
   "source": [
    "- matrix로 만들어야 전치 가능"
   ]
  },
  {
   "cell_type": "code",
   "execution_count": 114,
   "id": "7d0dc247",
   "metadata": {},
   "outputs": [
    {
     "data": {
      "text/plain": [
       "array([[1, 2, 3, 4, 5]])"
      ]
     },
     "execution_count": 114,
     "metadata": {},
     "output_type": "execute_result"
    }
   ],
   "source": [
    "np.array([[1, 2, 3,4, 5]])"
   ]
  },
  {
   "cell_type": "code",
   "execution_count": 115,
   "id": "d1a31ff5",
   "metadata": {},
   "outputs": [
    {
     "data": {
      "text/plain": [
       "array([[1],\n",
       "       [2],\n",
       "       [3],\n",
       "       [4],\n",
       "       [5]])"
      ]
     },
     "execution_count": 115,
     "metadata": {},
     "output_type": "execute_result"
    }
   ],
   "source": [
    "np.array([[1, 2, 3,4, 5]]).T"
   ]
  },
  {
   "cell_type": "code",
   "execution_count": 116,
   "id": "28c80a82",
   "metadata": {},
   "outputs": [
    {
     "data": {
      "text/plain": [
       "array([[1, 4, 7],\n",
       "       [2, 5, 8],\n",
       "       [3, 6, 9]])"
      ]
     },
     "execution_count": 116,
     "metadata": {},
     "output_type": "execute_result"
    }
   ],
   "source": [
    "mat.T"
   ]
  },
  {
   "cell_type": "code",
   "execution_count": 117,
   "id": "584e7972",
   "metadata": {},
   "outputs": [
    {
     "data": {
      "text/plain": [
       "array([[1, 4, 7],\n",
       "       [2, 5, 8],\n",
       "       [3, 6, 9]])"
      ]
     },
     "execution_count": 117,
     "metadata": {},
     "output_type": "execute_result"
    }
   ],
   "source": [
    "mat.transpose()"
   ]
  },
  {
   "cell_type": "markdown",
   "id": "bf5045ba",
   "metadata": {},
   "source": [
    "- 튜플로 바꿀 차원 직접 지정"
   ]
  },
  {
   "cell_type": "code",
   "execution_count": 118,
   "id": "ec783f7a",
   "metadata": {},
   "outputs": [],
   "source": [
    "mat = np.array([[[1, 2], \n",
    "               [3, 4],\n",
    "               [5, 6]], \n",
    "                \n",
    "               [[7, 8], \n",
    "               [9, 10],\n",
    "               [11, 12]]])"
   ]
  },
  {
   "cell_type": "code",
   "execution_count": 119,
   "id": "66caa642",
   "metadata": {},
   "outputs": [
    {
     "data": {
      "text/plain": [
       "array([[[ 1,  2],\n",
       "        [ 3,  4],\n",
       "        [ 5,  6]],\n",
       "\n",
       "       [[ 7,  8],\n",
       "        [ 9, 10],\n",
       "        [11, 12]]])"
      ]
     },
     "execution_count": 119,
     "metadata": {},
     "output_type": "execute_result"
    }
   ],
   "source": [
    "mat"
   ]
  },
  {
   "cell_type": "code",
   "execution_count": 122,
   "id": "22c5b553",
   "metadata": {},
   "outputs": [
    {
     "data": {
      "text/plain": [
       "(2, 3, 2)"
      ]
     },
     "execution_count": 122,
     "metadata": {},
     "output_type": "execute_result"
    }
   ],
   "source": [
    "mat.shape"
   ]
  },
  {
   "cell_type": "code",
   "execution_count": 124,
   "id": "7d749cc8",
   "metadata": {},
   "outputs": [
    {
     "data": {
      "text/plain": [
       "array([[[ 1,  3,  5],\n",
       "        [ 2,  4,  6]],\n",
       "\n",
       "       [[ 7,  9, 11],\n",
       "        [ 8, 10, 12]]])"
      ]
     },
     "execution_count": 124,
     "metadata": {},
     "output_type": "execute_result"
    }
   ],
   "source": [
    "mat2 = mat.transpose((0, 2, 1))\n",
    "mat2"
   ]
  },
  {
   "cell_type": "code",
   "execution_count": 125,
   "id": "5df304e6",
   "metadata": {},
   "outputs": [
    {
     "data": {
      "text/plain": [
       "(2, 2, 3)"
      ]
     },
     "execution_count": 125,
     "metadata": {},
     "output_type": "execute_result"
    }
   ],
   "source": [
    "mat2.shape"
   ]
  },
  {
   "cell_type": "markdown",
   "id": "46462eef",
   "metadata": {},
   "source": [
    "# 행렬 펼치기"
   ]
  },
  {
   "cell_type": "code",
   "execution_count": 126,
   "id": "c66038ea",
   "metadata": {},
   "outputs": [],
   "source": [
    "mat = np.array([[1, 2, 3], \n",
    "               [4, 5, 6], \n",
    "               [7, 8, 9]])"
   ]
  },
  {
   "cell_type": "code",
   "execution_count": 127,
   "id": "e8fc3f46",
   "metadata": {},
   "outputs": [
    {
     "data": {
      "text/plain": [
       "array([1, 2, 3, 4, 5, 6, 7, 8, 9])"
      ]
     },
     "execution_count": 127,
     "metadata": {},
     "output_type": "execute_result"
    }
   ],
   "source": [
    "mat.flatten()"
   ]
  },
  {
   "cell_type": "code",
   "execution_count": 128,
   "id": "da519591",
   "metadata": {},
   "outputs": [
    {
     "data": {
      "text/plain": [
       "array([[1, 2, 3, 4, 5, 6, 7, 8, 9]])"
      ]
     },
     "execution_count": 128,
     "metadata": {},
     "output_type": "execute_result"
    }
   ],
   "source": [
    "mat.reshape(1, -1)"
   ]
  },
  {
   "cell_type": "code",
   "execution_count": 129,
   "id": "e476f280",
   "metadata": {},
   "outputs": [
    {
     "data": {
      "text/plain": [
       "array([1, 2, 3, 4, 5, 6, 7, 8, 9])"
      ]
     },
     "execution_count": 129,
     "metadata": {},
     "output_type": "execute_result"
    }
   ],
   "source": [
    "mat.reshape(-1)"
   ]
  },
  {
   "cell_type": "code",
   "execution_count": 130,
   "id": "019bbfa1",
   "metadata": {},
   "outputs": [
    {
     "data": {
      "text/plain": [
       "array([1, 2, 3, 4, 5, 6, 7, 8, 9])"
      ]
     },
     "execution_count": 130,
     "metadata": {},
     "output_type": "execute_result"
    }
   ],
   "source": [
    "mat.ravel()"
   ]
  },
  {
   "cell_type": "markdown",
   "id": "ebbc3543",
   "metadata": {},
   "source": [
    "- reshape은 뷰를 반환, flatten은 새로운 배열 생성"
   ]
  },
  {
   "cell_type": "code",
   "execution_count": 131,
   "id": "ffe9e190",
   "metadata": {},
   "outputs": [],
   "source": [
    "v_reshape = mat.reshape(-1)\n",
    "v_flatten = mat.flatten()"
   ]
  },
  {
   "cell_type": "code",
   "execution_count": 132,
   "id": "f48b997a",
   "metadata": {},
   "outputs": [],
   "source": [
    "mat[0][0]= -1"
   ]
  },
  {
   "cell_type": "code",
   "execution_count": 133,
   "id": "ef0314d8",
   "metadata": {},
   "outputs": [
    {
     "data": {
      "text/plain": [
       "array([-1,  2,  3,  4,  5,  6,  7,  8,  9])"
      ]
     },
     "execution_count": 133,
     "metadata": {},
     "output_type": "execute_result"
    }
   ],
   "source": [
    "v_reshape"
   ]
  },
  {
   "cell_type": "code",
   "execution_count": 134,
   "id": "bbfceb74",
   "metadata": {},
   "outputs": [
    {
     "data": {
      "text/plain": [
       "array([1, 2, 3, 4, 5, 6, 7, 8, 9])"
      ]
     },
     "execution_count": 134,
     "metadata": {},
     "output_type": "execute_result"
    }
   ],
   "source": [
    "v_flatten"
   ]
  },
  {
   "cell_type": "markdown",
   "id": "7bb1755d",
   "metadata": {},
   "source": [
    "# 행렬의 랭크 구하기"
   ]
  },
  {
   "cell_type": "code",
   "execution_count": 135,
   "id": "c8ed3f2c",
   "metadata": {},
   "outputs": [],
   "source": [
    "mat = np.array([[1, 1, 1], \n",
    "               [1, 1, 10], \n",
    "               [1, 1, 15]])"
   ]
  },
  {
   "cell_type": "code",
   "execution_count": 136,
   "id": "881c75f2",
   "metadata": {},
   "outputs": [
    {
     "data": {
      "text/plain": [
       "2"
      ]
     },
     "execution_count": 136,
     "metadata": {},
     "output_type": "execute_result"
    }
   ],
   "source": [
    "np.linalg.matrix_rank(mat)"
   ]
  },
  {
   "cell_type": "code",
   "execution_count": 139,
   "id": "0073b781",
   "metadata": {},
   "outputs": [
    {
     "data": {
      "text/plain": [
       "2"
      ]
     },
     "execution_count": 139,
     "metadata": {},
     "output_type": "execute_result"
    }
   ],
   "source": [
    "s = np.linalg.svd(mat, compute_uv=False)\n",
    "np.sum(s > 1e-10)"
   ]
  },
  {
   "cell_type": "markdown",
   "id": "e01021d0",
   "metadata": {},
   "source": [
    "# 행렬식 계산하기"
   ]
  },
  {
   "cell_type": "markdown",
   "id": "a0c8057e",
   "metadata": {},
   "source": [
    "- 행렬식 : 정방행렬에 의한 선형 변환의 특징을 나타내는 스칼라값"
   ]
  },
  {
   "cell_type": "code",
   "execution_count": 140,
   "id": "56c39d96",
   "metadata": {},
   "outputs": [],
   "source": [
    "mat = np.array([[1, 2, 3], \n",
    "               [2, 4, 6], \n",
    "               [3, 8, 9]])"
   ]
  },
  {
   "cell_type": "code",
   "execution_count": 141,
   "id": "002911a0",
   "metadata": {},
   "outputs": [
    {
     "data": {
      "text/plain": [
       "0.0"
      ]
     },
     "execution_count": 141,
     "metadata": {},
     "output_type": "execute_result"
    }
   ],
   "source": [
    "np.linalg.det(mat)"
   ]
  },
  {
   "cell_type": "markdown",
   "id": "9717c1a5",
   "metadata": {},
   "source": [
    "# 행렬의 대각원소 추출하기"
   ]
  },
  {
   "cell_type": "code",
   "execution_count": 142,
   "id": "ccd51497",
   "metadata": {},
   "outputs": [],
   "source": [
    "mat = np.array([[1, 2, 3], \n",
    "               [2, 4, 6], \n",
    "               [3, 8, 9]])"
   ]
  },
  {
   "cell_type": "code",
   "execution_count": 143,
   "id": "dcf7e738",
   "metadata": {},
   "outputs": [
    {
     "data": {
      "text/plain": [
       "array([1, 4, 9])"
      ]
     },
     "execution_count": 143,
     "metadata": {},
     "output_type": "execute_result"
    }
   ],
   "source": [
    "mat.diagonal()"
   ]
  },
  {
   "cell_type": "markdown",
   "id": "c4de7231",
   "metadata": {},
   "source": [
    "- offset : 주 대각선에서 벗어난 대각원소 찾기"
   ]
  },
  {
   "cell_type": "code",
   "execution_count": 144,
   "id": "4e742eb0",
   "metadata": {},
   "outputs": [
    {
     "data": {
      "text/plain": [
       "array([2, 6])"
      ]
     },
     "execution_count": 144,
     "metadata": {},
     "output_type": "execute_result"
    }
   ],
   "source": [
    "mat.diagonal(offset=1)"
   ]
  },
  {
   "cell_type": "code",
   "execution_count": 145,
   "id": "46bef8f8",
   "metadata": {},
   "outputs": [
    {
     "data": {
      "text/plain": [
       "array([2, 8])"
      ]
     },
     "execution_count": 145,
     "metadata": {},
     "output_type": "execute_result"
    }
   ],
   "source": [
    "mat.diagonal(offset=-1)"
   ]
  },
  {
   "cell_type": "markdown",
   "id": "6c1b6fb4",
   "metadata": {},
   "source": [
    "- diagonal 함수는 view 반환"
   ]
  },
  {
   "cell_type": "code",
   "execution_count": 146,
   "id": "15632d8a",
   "metadata": {},
   "outputs": [],
   "source": [
    "a = mat.diagonal().copy()"
   ]
  },
  {
   "cell_type": "code",
   "execution_count": 147,
   "id": "2820eddd",
   "metadata": {},
   "outputs": [
    {
     "data": {
      "text/plain": [
       "array([1, 4, 9])"
      ]
     },
     "execution_count": 147,
     "metadata": {},
     "output_type": "execute_result"
    }
   ],
   "source": [
    "a = np.diag(mat)\n",
    "a"
   ]
  },
  {
   "cell_type": "markdown",
   "id": "2fd67fe6",
   "metadata": {},
   "source": [
    "- 1차원 배열이 주어지면 2차원 대각 행렬 생성"
   ]
  },
  {
   "cell_type": "code",
   "execution_count": 148,
   "id": "c91172e9",
   "metadata": {},
   "outputs": [
    {
     "data": {
      "text/plain": [
       "array([[1, 0, 0],\n",
       "       [0, 4, 0],\n",
       "       [0, 0, 9]])"
      ]
     },
     "execution_count": 148,
     "metadata": {},
     "output_type": "execute_result"
    }
   ],
   "source": [
    "np.diag(a)"
   ]
  },
  {
   "cell_type": "markdown",
   "id": "e456bd72",
   "metadata": {},
   "source": [
    "# 행렬의 대각합 계산하기"
   ]
  },
  {
   "cell_type": "code",
   "execution_count": 149,
   "id": "17bf034d",
   "metadata": {},
   "outputs": [],
   "source": [
    "mat = np.array([[1, 2, 3], \n",
    "               [2, 4, 6], \n",
    "               [3, 8, 9]])"
   ]
  },
  {
   "cell_type": "code",
   "execution_count": 150,
   "id": "5e4cc285",
   "metadata": {},
   "outputs": [
    {
     "data": {
      "text/plain": [
       "14"
      ]
     },
     "execution_count": 150,
     "metadata": {},
     "output_type": "execute_result"
    }
   ],
   "source": [
    "mat.trace()"
   ]
  },
  {
   "cell_type": "code",
   "execution_count": 155,
   "id": "34f792db",
   "metadata": {},
   "outputs": [
    {
     "data": {
      "text/plain": [
       "14"
      ]
     },
     "execution_count": 155,
     "metadata": {},
     "output_type": "execute_result"
    }
   ],
   "source": [
    "sum(np.diagonal(mat))"
   ]
  },
  {
   "cell_type": "code",
   "execution_count": 156,
   "id": "7a105215",
   "metadata": {},
   "outputs": [
    {
     "data": {
      "text/plain": [
       "8"
      ]
     },
     "execution_count": 156,
     "metadata": {},
     "output_type": "execute_result"
    }
   ],
   "source": [
    "mat.trace(offset=1)"
   ]
  },
  {
   "cell_type": "code",
   "execution_count": 157,
   "id": "14f98123",
   "metadata": {},
   "outputs": [
    {
     "data": {
      "text/plain": [
       "8"
      ]
     },
     "execution_count": 157,
     "metadata": {},
     "output_type": "execute_result"
    }
   ],
   "source": [
    "sum(np.diagonal(mat, offset=1))"
   ]
  },
  {
   "cell_type": "code",
   "execution_count": 159,
   "id": "0cc72155",
   "metadata": {},
   "outputs": [
    {
     "data": {
      "text/plain": [
       "10"
      ]
     },
     "execution_count": 159,
     "metadata": {},
     "output_type": "execute_result"
    }
   ],
   "source": [
    "np.trace(mat, offset=-1)"
   ]
  },
  {
   "cell_type": "code",
   "execution_count": 160,
   "id": "5419dcc8",
   "metadata": {},
   "outputs": [
    {
     "data": {
      "text/plain": [
       "10"
      ]
     },
     "execution_count": 160,
     "metadata": {},
     "output_type": "execute_result"
    }
   ],
   "source": [
    "sum(np.diagonal(mat, offset=-1))"
   ]
  },
  {
   "cell_type": "markdown",
   "id": "77f51e19",
   "metadata": {},
   "source": [
    "# 고윳값과 고유벡터 찾기"
   ]
  },
  {
   "cell_type": "code",
   "execution_count": 161,
   "id": "24b23822",
   "metadata": {},
   "outputs": [],
   "source": [
    "mat = np.array([[1, -1, 3], \n",
    "               [1, 1, 6], \n",
    "               [3, 8, 9]])"
   ]
  },
  {
   "cell_type": "code",
   "execution_count": 163,
   "id": "8a83f449",
   "metadata": {},
   "outputs": [],
   "source": [
    "eigenvalues, eigenvectors = np.linalg.eig(mat)"
   ]
  },
  {
   "cell_type": "code",
   "execution_count": 164,
   "id": "766ff96a",
   "metadata": {},
   "outputs": [
    {
     "data": {
      "text/plain": [
       "array([13.55075847,  0.74003145, -3.29078992])"
      ]
     },
     "execution_count": 164,
     "metadata": {},
     "output_type": "execute_result"
    }
   ],
   "source": [
    "eigenvalues"
   ]
  },
  {
   "cell_type": "code",
   "execution_count": 165,
   "id": "d7b68303",
   "metadata": {},
   "outputs": [
    {
     "data": {
      "text/plain": [
       "array([[-0.17622017, -0.96677403, -0.53373322],\n",
       "       [-0.435951  ,  0.2053623 , -0.64324848],\n",
       "       [-0.88254925,  0.15223105,  0.54896288]])"
      ]
     },
     "execution_count": 165,
     "metadata": {},
     "output_type": "execute_result"
    }
   ],
   "source": [
    "eigenvectors"
   ]
  },
  {
   "cell_type": "markdown",
   "id": "2d7440bd",
   "metadata": {},
   "source": [
    "- 대칭행렬 일 경우 linalg.eigh 로 더 빠르게 계산"
   ]
  },
  {
   "cell_type": "code",
   "execution_count": 166,
   "id": "65e00cc1",
   "metadata": {},
   "outputs": [],
   "source": [
    "eigenvalues, eigenvectors = np.linalg.eigh(mat)"
   ]
  },
  {
   "cell_type": "markdown",
   "id": "000a46b2",
   "metadata": {},
   "source": [
    "# 점곱 계산하기"
   ]
  },
  {
   "cell_type": "code",
   "execution_count": 167,
   "id": "7de75349",
   "metadata": {},
   "outputs": [],
   "source": [
    "v_1 = np.array([1, 2, 3])\n",
    "v_2 = np.array([4, 5, 6])"
   ]
  },
  {
   "cell_type": "code",
   "execution_count": 168,
   "id": "e7a9c67f",
   "metadata": {},
   "outputs": [
    {
     "data": {
      "text/plain": [
       "32"
      ]
     },
     "execution_count": 168,
     "metadata": {},
     "output_type": "execute_result"
    }
   ],
   "source": [
    "np.dot(v_1, v_2)"
   ]
  },
  {
   "cell_type": "markdown",
   "id": "b0701b55",
   "metadata": {},
   "source": [
    "- @ 연산자 : np.matmul, 스칼라는 사용 불가"
   ]
  },
  {
   "cell_type": "code",
   "execution_count": 170,
   "id": "74f4329b",
   "metadata": {},
   "outputs": [
    {
     "data": {
      "text/plain": [
       "32"
      ]
     },
     "execution_count": 170,
     "metadata": {},
     "output_type": "execute_result"
    }
   ],
   "source": [
    "v_1 @ v_2"
   ]
  },
  {
   "cell_type": "markdown",
   "id": "38109d96",
   "metadata": {},
   "source": [
    "# 행렬 덧셈과 뺄셈"
   ]
  },
  {
   "cell_type": "code",
   "execution_count": 172,
   "id": "97b66470",
   "metadata": {},
   "outputs": [],
   "source": [
    "mat_a = np.array([[1, 1, 1], \n",
    "                 [1, 1, 1], \n",
    "                 [1, 1, 2]])"
   ]
  },
  {
   "cell_type": "code",
   "execution_count": 173,
   "id": "806988ef",
   "metadata": {},
   "outputs": [],
   "source": [
    "mat_b = np.array([[1, 3, 1], \n",
    "                 [1, 3, 1], \n",
    "                 [1, 3, 8]])"
   ]
  },
  {
   "cell_type": "code",
   "execution_count": 174,
   "id": "1881f9bf",
   "metadata": {},
   "outputs": [
    {
     "data": {
      "text/plain": [
       "array([[ 2,  4,  2],\n",
       "       [ 2,  4,  2],\n",
       "       [ 2,  4, 10]])"
      ]
     },
     "execution_count": 174,
     "metadata": {},
     "output_type": "execute_result"
    }
   ],
   "source": [
    "np.add(mat_a, mat_b)"
   ]
  },
  {
   "cell_type": "code",
   "execution_count": 175,
   "id": "43cbb557",
   "metadata": {},
   "outputs": [
    {
     "data": {
      "text/plain": [
       "array([[ 0, -2,  0],\n",
       "       [ 0, -2,  0],\n",
       "       [ 0, -2, -6]])"
      ]
     },
     "execution_count": 175,
     "metadata": {},
     "output_type": "execute_result"
    }
   ],
   "source": [
    "np.subtract(mat_a, mat_b)"
   ]
  },
  {
   "cell_type": "code",
   "execution_count": 176,
   "id": "217b6bab",
   "metadata": {},
   "outputs": [
    {
     "data": {
      "text/plain": [
       "array([[ 2,  4,  2],\n",
       "       [ 2,  4,  2],\n",
       "       [ 2,  4, 10]])"
      ]
     },
     "execution_count": 176,
     "metadata": {},
     "output_type": "execute_result"
    }
   ],
   "source": [
    "mat_a + mat_b"
   ]
  },
  {
   "cell_type": "markdown",
   "id": "a7dc8de3",
   "metadata": {},
   "source": [
    "# 행렬 곱셈"
   ]
  },
  {
   "cell_type": "code",
   "execution_count": 177,
   "id": "4df5ac7d",
   "metadata": {},
   "outputs": [],
   "source": [
    "mat_a = np.array([[1, 1], \n",
    "                 [1, 2]])\n",
    "mat_b = np.array([[1, 3], \n",
    "                 [1, 2]])"
   ]
  },
  {
   "cell_type": "code",
   "execution_count": 178,
   "id": "9541e88c",
   "metadata": {},
   "outputs": [
    {
     "data": {
      "text/plain": [
       "array([[2, 5],\n",
       "       [3, 7]])"
      ]
     },
     "execution_count": 178,
     "metadata": {},
     "output_type": "execute_result"
    }
   ],
   "source": [
    "np.dot(mat_a, mat_b)"
   ]
  },
  {
   "cell_type": "code",
   "execution_count": 179,
   "id": "396ab5a3",
   "metadata": {},
   "outputs": [
    {
     "data": {
      "text/plain": [
       "array([[2, 5],\n",
       "       [3, 7]])"
      ]
     },
     "execution_count": 179,
     "metadata": {},
     "output_type": "execute_result"
    }
   ],
   "source": [
    "mat_a @ mat_b"
   ]
  },
  {
   "cell_type": "markdown",
   "id": "867d9126",
   "metadata": {},
   "source": [
    "- 원소별"
   ]
  },
  {
   "cell_type": "code",
   "execution_count": 180,
   "id": "103a1d9c",
   "metadata": {},
   "outputs": [
    {
     "data": {
      "text/plain": [
       "array([[1, 3],\n",
       "       [1, 4]])"
      ]
     },
     "execution_count": 180,
     "metadata": {},
     "output_type": "execute_result"
    }
   ],
   "source": [
    "mat_a * mat_b"
   ]
  },
  {
   "cell_type": "code",
   "execution_count": 181,
   "id": "da52fe43",
   "metadata": {},
   "outputs": [],
   "source": [
    "a = np.random.rand(2, 1, 4, 5)\n",
    "b = np.random.rand(1, 3, 5, 6)"
   ]
  },
  {
   "cell_type": "code",
   "execution_count": 182,
   "id": "a7c7ba05",
   "metadata": {
    "scrolled": true
   },
   "outputs": [
    {
     "data": {
      "text/plain": [
       "(2, 1, 4, 1, 3, 6)"
      ]
     },
     "execution_count": 182,
     "metadata": {},
     "output_type": "execute_result"
    }
   ],
   "source": [
    "np.dot(a, b).shape"
   ]
  },
  {
   "cell_type": "code",
   "execution_count": 183,
   "id": "b68338b8",
   "metadata": {},
   "outputs": [
    {
     "data": {
      "text/plain": [
       "(2, 3, 4, 6)"
      ]
     },
     "execution_count": 183,
     "metadata": {},
     "output_type": "execute_result"
    }
   ],
   "source": [
    "np.matmul(a, b).shape"
   ]
  },
  {
   "cell_type": "markdown",
   "id": "874b92c2",
   "metadata": {},
   "source": [
    "# 역행렬"
   ]
  },
  {
   "cell_type": "code",
   "execution_count": 184,
   "id": "b59ace6e",
   "metadata": {},
   "outputs": [],
   "source": [
    "mat = np.array([[1, 4], \n",
    "               [2, 5]])"
   ]
  },
  {
   "cell_type": "code",
   "execution_count": 185,
   "id": "83c6ce62",
   "metadata": {},
   "outputs": [
    {
     "data": {
      "text/plain": [
       "array([[-1.66666667,  1.33333333],\n",
       "       [ 0.66666667, -0.33333333]])"
      ]
     },
     "execution_count": 185,
     "metadata": {},
     "output_type": "execute_result"
    }
   ],
   "source": [
    "np.linalg.inv(mat)"
   ]
  },
  {
   "cell_type": "markdown",
   "id": "c08aecb0",
   "metadata": {},
   "source": [
    "- pinv : 정방행렬이 아닌 행렬의 역행렬 구하기"
   ]
  },
  {
   "cell_type": "code",
   "execution_count": 186,
   "id": "4c5eef43",
   "metadata": {},
   "outputs": [],
   "source": [
    "mat = np.array([[1, 4, 7], \n",
    "               [2, 5, 6]])"
   ]
  },
  {
   "cell_type": "code",
   "execution_count": 187,
   "id": "c1bfd81e",
   "metadata": {},
   "outputs": [
    {
     "data": {
      "text/plain": [
       "array([[-0.32474227,  0.35051546],\n",
       "       [-0.30927835,  0.3814433 ],\n",
       "       [ 0.36597938, -0.26804124]])"
      ]
     },
     "execution_count": 187,
     "metadata": {},
     "output_type": "execute_result"
    }
   ],
   "source": [
    "np.linalg.pinv(mat)"
   ]
  },
  {
   "cell_type": "markdown",
   "id": "b385da63",
   "metadata": {},
   "source": [
    "# 난수 생성하기"
   ]
  },
  {
   "cell_type": "code",
   "execution_count": 188,
   "id": "4a89432f",
   "metadata": {},
   "outputs": [],
   "source": [
    "np.random.seed(0)"
   ]
  },
  {
   "cell_type": "code",
   "execution_count": 189,
   "id": "41636e70",
   "metadata": {},
   "outputs": [
    {
     "data": {
      "text/plain": [
       "array([0.5488135 , 0.71518937, 0.60276338])"
      ]
     },
     "execution_count": 189,
     "metadata": {},
     "output_type": "execute_result"
    }
   ],
   "source": [
    "np.random.random(3)"
   ]
  },
  {
   "cell_type": "code",
   "execution_count": 191,
   "id": "51f6f593",
   "metadata": {},
   "outputs": [
    {
     "data": {
      "text/plain": [
       "array([3, 5, 2])"
      ]
     },
     "execution_count": 191,
     "metadata": {},
     "output_type": "execute_result"
    }
   ],
   "source": [
    "# 1과 10 사이의 3개의 정수 난수\n",
    "np.random.randint(0, 11, 3)"
   ]
  },
  {
   "cell_type": "code",
   "execution_count": 192,
   "id": "a540b0f7",
   "metadata": {},
   "outputs": [
    {
     "data": {
      "text/plain": [
       "array([ 0.95008842, -0.15135721, -0.10321885])"
      ]
     },
     "execution_count": 192,
     "metadata": {},
     "output_type": "execute_result"
    }
   ],
   "source": [
    "# 평균이 0이고 표준편차가 1인 정규분포에서 3개의 난수\n",
    "np.random.normal(0.0, 1.0, 3)"
   ]
  },
  {
   "cell_type": "code",
   "execution_count": 193,
   "id": "6cc7db59",
   "metadata": {},
   "outputs": [
    {
     "data": {
      "text/plain": [
       "array([1.33535502, 0.1157086 , 0.27387744])"
      ]
     },
     "execution_count": 193,
     "metadata": {},
     "output_type": "execute_result"
    }
   ],
   "source": [
    "# 평균이 0이고 스케일이 1인 로지스틱 분포에서 3개의 난수\n",
    "np.random.logistic(0.0, 1.0, 3)"
   ]
  },
  {
   "cell_type": "code",
   "execution_count": 194,
   "id": "c1088056",
   "metadata": {},
   "outputs": [
    {
     "data": {
      "text/plain": [
       "array([1.92559664, 1.07103606, 1.0871293 ])"
      ]
     },
     "execution_count": 194,
     "metadata": {},
     "output_type": "execute_result"
    }
   ],
   "source": [
    "# 1.0보다 크거나 같고 2.0보다 작은 유니폼 분포에서 3개의 수\n",
    "np.random.uniform(1.0, 2.0, 3)"
   ]
  },
  {
   "cell_type": "markdown",
   "id": "c32999e2",
   "metadata": {},
   "source": [
    "- 실수 난수"
   ]
  },
  {
   "cell_type": "code",
   "execution_count": 195,
   "id": "6f8408d7",
   "metadata": {},
   "outputs": [
    {
     "data": {
      "text/plain": [
       "array([[0.0202184 , 0.83261985, 0.77815675],\n",
       "       [0.87001215, 0.97861834, 0.79915856]])"
      ]
     },
     "execution_count": 195,
     "metadata": {},
     "output_type": "execute_result"
    }
   ],
   "source": [
    "np.random.random_sample((2, 3))"
   ]
  },
  {
   "cell_type": "code",
   "execution_count": 196,
   "id": "477ccbe0",
   "metadata": {},
   "outputs": [
    {
     "data": {
      "text/plain": [
       "array([[0.46147936, 0.78052918, 0.11827443],\n",
       "       [0.63992102, 0.14335329, 0.94466892]])"
      ]
     },
     "execution_count": 196,
     "metadata": {},
     "output_type": "execute_result"
    }
   ],
   "source": [
    "np.random.rand(2, 3)"
   ]
  },
  {
   "cell_type": "markdown",
   "id": "1cde3970",
   "metadata": {},
   "source": [
    "- randint : 정수 난수"
   ]
  },
  {
   "cell_type": "code",
   "execution_count": 198,
   "id": "c620e6ff",
   "metadata": {},
   "outputs": [
    {
     "data": {
      "text/plain": [
       "array([5, 6, 8, 4, 1, 4, 9, 8, 1, 1])"
      ]
     },
     "execution_count": 198,
     "metadata": {},
     "output_type": "execute_result"
    }
   ],
   "source": [
    "# 최대값 포함 하지 않음\n",
    "np.random.randint(0, 10, 10)"
   ]
  },
  {
   "cell_type": "markdown",
   "id": "aafe8db4",
   "metadata": {},
   "source": [
    "- 정규분포를 따르는 난수"
   ]
  },
  {
   "cell_type": "code",
   "execution_count": 200,
   "id": "d2985082",
   "metadata": {},
   "outputs": [
    {
     "data": {
      "text/plain": [
       "array([[ 0.4105985 , -0.21195226, -0.08033726],\n",
       "       [ 0.40539778,  0.11860659,  1.25441407]])"
      ]
     },
     "execution_count": 200,
     "metadata": {},
     "output_type": "execute_result"
    }
   ],
   "source": [
    "np.random.normal(0, 1, (2, 3))"
   ]
  },
  {
   "cell_type": "code",
   "execution_count": 201,
   "id": "dc59ed9c",
   "metadata": {},
   "outputs": [
    {
     "data": {
      "text/plain": [
       "array([[ 1.41910204, -0.74385608, -2.5174371 ],\n",
       "       [-1.50709602,  1.14907613, -1.19357825]])"
      ]
     },
     "execution_count": 201,
     "metadata": {},
     "output_type": "execute_result"
    }
   ],
   "source": [
    "np.random.standard_normal((2, 3))"
   ]
  },
  {
   "cell_type": "code",
   "execution_count": 202,
   "id": "b47f55f2",
   "metadata": {},
   "outputs": [
    {
     "data": {
      "text/plain": [
       "array([[ 1.14104245,  1.50944508,  1.06777513],\n",
       "       [-0.68658948,  0.01487332, -0.3756659 ]])"
      ]
     },
     "execution_count": 202,
     "metadata": {},
     "output_type": "execute_result"
    }
   ],
   "source": [
    "# 동일하지만 튜플이 아니다\n",
    "np.random.randn(2, 3)"
   ]
  },
  {
   "cell_type": "markdown",
   "id": "8424e61f",
   "metadata": {},
   "source": [
    "- choice : 배열의 원소중 랜덤하게 지정된 횟수 만큼 샘플링"
   ]
  },
  {
   "cell_type": "code",
   "execution_count": 203,
   "id": "df288ff7",
   "metadata": {},
   "outputs": [
    {
     "data": {
      "text/plain": [
       "array([2, 2, 2, 2, 1])"
      ]
     },
     "execution_count": 203,
     "metadata": {},
     "output_type": "execute_result"
    }
   ],
   "source": [
    "np.random.choice([0, 1, 2], 5)"
   ]
  },
  {
   "cell_type": "markdown",
   "id": "0056c87f",
   "metadata": {},
   "source": [
    "- shuffle : 입력된 배열을 섞는다"
   ]
  },
  {
   "cell_type": "code",
   "execution_count": 207,
   "id": "162ec861",
   "metadata": {},
   "outputs": [
    {
     "data": {
      "text/plain": [
       "array([3, 0, 4, 2, 1])"
      ]
     },
     "execution_count": 207,
     "metadata": {},
     "output_type": "execute_result"
    }
   ],
   "source": [
    "a = np.array([0, 1, 2, 3, 4])\n",
    "np.random.shuffle(a)\n",
    "a"
   ]
  },
  {
   "cell_type": "markdown",
   "id": "b6fee3c6",
   "metadata": {},
   "source": [
    "- permutation : 입력된 배열의 복사본을 섞은 후 반환"
   ]
  },
  {
   "cell_type": "code",
   "execution_count": 209,
   "id": "c1d830d8",
   "metadata": {},
   "outputs": [
    {
     "data": {
      "text/plain": [
       "array([0, 1, 3, 2, 4])"
      ]
     },
     "execution_count": 209,
     "metadata": {},
     "output_type": "execute_result"
    }
   ],
   "source": [
    "# a는 변경 되지 않음\n",
    "np.random.permutation(a)"
   ]
  },
  {
   "cell_type": "code",
   "execution_count": 211,
   "id": "f8c650a9",
   "metadata": {},
   "outputs": [
    {
     "data": {
      "text/plain": [
       "array([1, 2, 4, 0, 3])"
      ]
     },
     "execution_count": 211,
     "metadata": {},
     "output_type": "execute_result"
    }
   ],
   "source": [
    "# 정수를 입력하면, 0부터 정수-1 까지의 숫자를 섞은 후 반환\n",
    "np.random.permutation(5)"
   ]
  }
 ],
 "metadata": {
  "kernelspec": {
   "display_name": "Python 3 (ipykernel)",
   "language": "python",
   "name": "python3"
  },
  "language_info": {
   "codemirror_mode": {
    "name": "ipython",
    "version": 3
   },
   "file_extension": ".py",
   "mimetype": "text/x-python",
   "name": "python",
   "nbconvert_exporter": "python",
   "pygments_lexer": "ipython3",
   "version": "3.10.9"
  },
  "toc": {
   "base_numbering": 1,
   "nav_menu": {},
   "number_sections": true,
   "sideBar": true,
   "skip_h1_title": false,
   "title_cell": "Table of Contents",
   "title_sidebar": "Contents",
   "toc_cell": false,
   "toc_position": {
    "height": "calc(100% - 180px)",
    "left": "10px",
    "top": "150px",
    "width": "292.571px"
   },
   "toc_section_display": true,
   "toc_window_display": false
  }
 },
 "nbformat": 4,
 "nbformat_minor": 5
}
