{
 "cells": [
  {
   "cell_type": "markdown",
   "id": "d30feecf",
   "metadata": {},
   "source": [
    "# 소개"
   ]
  },
  {
   "cell_type": "code",
   "execution_count": null,
   "id": "49d920a3",
   "metadata": {},
   "outputs": [],
   "source": []
  },
  {
   "cell_type": "markdown",
   "id": "6fd4023e",
   "metadata": {},
   "source": [
    "# 데이터프레임 만들기"
   ]
  },
  {
   "cell_type": "code",
   "execution_count": null,
   "id": "4b195fa2",
   "metadata": {},
   "outputs": [],
   "source": []
  },
  {
   "cell_type": "markdown",
   "id": "7f269f1f",
   "metadata": {},
   "source": [
    "# 데이터 설명하기"
   ]
  },
  {
   "cell_type": "code",
   "execution_count": null,
   "id": "b0c04844",
   "metadata": {},
   "outputs": [],
   "source": []
  },
  {
   "cell_type": "markdown",
   "id": "13facdcd",
   "metadata": {},
   "source": [
    "# 데이터프레임 탐색하기"
   ]
  },
  {
   "cell_type": "code",
   "execution_count": null,
   "id": "f888d373",
   "metadata": {},
   "outputs": [],
   "source": []
  },
  {
   "cell_type": "markdown",
   "id": "bbb0291b",
   "metadata": {},
   "source": [
    "# 조건에 따라 행 선택하기"
   ]
  },
  {
   "cell_type": "code",
   "execution_count": null,
   "id": "fefaee98",
   "metadata": {},
   "outputs": [],
   "source": []
  },
  {
   "cell_type": "markdown",
   "id": "9b54317b",
   "metadata": {},
   "source": [
    "# 값 치환하기"
   ]
  },
  {
   "cell_type": "code",
   "execution_count": null,
   "id": "be71df69",
   "metadata": {},
   "outputs": [],
   "source": []
  },
  {
   "cell_type": "markdown",
   "id": "69fb7d9a",
   "metadata": {},
   "source": [
    "# 열 이름 바꾸기"
   ]
  },
  {
   "cell_type": "code",
   "execution_count": null,
   "id": "d2edb584",
   "metadata": {},
   "outputs": [],
   "source": []
  },
  {
   "cell_type": "markdown",
   "id": "4ebc04d3",
   "metadata": {},
   "source": [
    "# 최솟값, 최댓값, 합, 평균 계산 및 개수 세기"
   ]
  },
  {
   "cell_type": "code",
   "execution_count": null,
   "id": "c9a8fc25",
   "metadata": {},
   "outputs": [],
   "source": []
  },
  {
   "cell_type": "markdown",
   "id": "bb1fe3ea",
   "metadata": {},
   "source": [
    "# 고유한 값 찾기"
   ]
  },
  {
   "cell_type": "code",
   "execution_count": null,
   "id": "ca34a130",
   "metadata": {},
   "outputs": [],
   "source": []
  },
  {
   "cell_type": "markdown",
   "id": "44175ae9",
   "metadata": {},
   "source": [
    "# 누락된 값 다루기"
   ]
  },
  {
   "cell_type": "code",
   "execution_count": null,
   "id": "699e2860",
   "metadata": {},
   "outputs": [],
   "source": []
  },
  {
   "cell_type": "markdown",
   "id": "a88c2e28",
   "metadata": {},
   "source": [
    "# 열 삭제하기"
   ]
  },
  {
   "cell_type": "code",
   "execution_count": null,
   "id": "7826cb86",
   "metadata": {},
   "outputs": [],
   "source": []
  },
  {
   "cell_type": "markdown",
   "id": "98a90386",
   "metadata": {},
   "source": [
    "# 행 삭제하기"
   ]
  },
  {
   "cell_type": "code",
   "execution_count": null,
   "id": "a51c11c4",
   "metadata": {},
   "outputs": [],
   "source": []
  },
  {
   "cell_type": "markdown",
   "id": "53c62dd8",
   "metadata": {},
   "source": [
    "# 중복된 행 삭제하기"
   ]
  },
  {
   "cell_type": "code",
   "execution_count": null,
   "id": "e330e06f",
   "metadata": {},
   "outputs": [],
   "source": []
  },
  {
   "cell_type": "markdown",
   "id": "9cef0778",
   "metadata": {},
   "source": [
    "# 값에 따라 행을 그룹핑하기"
   ]
  },
  {
   "cell_type": "code",
   "execution_count": null,
   "id": "9212e12f",
   "metadata": {},
   "outputs": [],
   "source": []
  },
  {
   "cell_type": "markdown",
   "id": "cbc03c63",
   "metadata": {},
   "source": [
    "# 시간에 따라 행을 그룹핑하기"
   ]
  },
  {
   "cell_type": "code",
   "execution_count": null,
   "id": "168f41f2",
   "metadata": {},
   "outputs": [],
   "source": []
  },
  {
   "cell_type": "markdown",
   "id": "001c59d2",
   "metadata": {},
   "source": [
    "# 열 원소 순회하기"
   ]
  },
  {
   "cell_type": "code",
   "execution_count": null,
   "id": "e79a68a7",
   "metadata": {},
   "outputs": [],
   "source": []
  },
  {
   "cell_type": "markdown",
   "id": "ba427e67",
   "metadata": {},
   "source": [
    "# 모든 열 원소에 함수 적용하기"
   ]
  },
  {
   "cell_type": "code",
   "execution_count": null,
   "id": "3f1c447e",
   "metadata": {},
   "outputs": [],
   "source": []
  },
  {
   "cell_type": "markdown",
   "id": "f84e9d50",
   "metadata": {},
   "source": [
    "# 그룹에 함수 적용하기"
   ]
  },
  {
   "cell_type": "code",
   "execution_count": null,
   "id": "bf4430c7",
   "metadata": {},
   "outputs": [],
   "source": []
  },
  {
   "cell_type": "markdown",
   "id": "54a86709",
   "metadata": {},
   "source": [
    "# 데이터프레임 연결하기"
   ]
  },
  {
   "cell_type": "code",
   "execution_count": null,
   "id": "d99c64d7",
   "metadata": {},
   "outputs": [],
   "source": []
  },
  {
   "cell_type": "markdown",
   "id": "0f2a04c2",
   "metadata": {},
   "source": [
    "# 데이터프레임 병합하기"
   ]
  },
  {
   "cell_type": "code",
   "execution_count": null,
   "id": "e0429138",
   "metadata": {},
   "outputs": [],
   "source": []
  }
 ],
 "metadata": {
  "kernelspec": {
   "display_name": "Python 3 (ipykernel)",
   "language": "python",
   "name": "python3"
  },
  "language_info": {
   "codemirror_mode": {
    "name": "ipython",
    "version": 3
   },
   "file_extension": ".py",
   "mimetype": "text/x-python",
   "name": "python",
   "nbconvert_exporter": "python",
   "pygments_lexer": "ipython3",
   "version": "3.10.9"
  },
  "toc": {
   "base_numbering": 1,
   "nav_menu": {},
   "number_sections": true,
   "sideBar": true,
   "skip_h1_title": false,
   "title_cell": "Table of Contents",
   "title_sidebar": "Contents",
   "toc_cell": false,
   "toc_position": {},
   "toc_section_display": true,
   "toc_window_display": false
  }
 },
 "nbformat": 4,
 "nbformat_minor": 5
}
