{
  "cells": [
    {
      "cell_type": "markdown",
      "metadata": {
        "id": "4WDQ16UG1PNR"
      },
      "source": [
        "##7장. 날짜와 시간 다루기 (colab에서 보시는 걸 추천)"
      ]
    },
    {
      "cell_type": "markdown",
      "source": [
        "### 교재에서는 판다스 시계열 도구로 설명"
      ],
      "metadata": {
        "id": "0C1doMUzPWAg"
      }
    },
    {
      "cell_type": "markdown",
      "metadata": {
        "id": "060oeQbC1PNV"
      },
      "source": [
        "## 7.1 문자열을 날짜로 변환하기"
      ]
    },
    {
      "cell_type": "markdown",
      "source": [
        "--------------------------------------------------------------------------------"
      ],
      "metadata": {
        "id": "HML08fcyE9KF"
      }
    },
    {
      "cell_type": "markdown",
      "source": [
        "#### ※ 파이썬 날짜 타입 : 일반적으로 date, datetime, Timestamp가 사용됨\n",
        "     - date, datetime : datetime 모듈, import datetime, int 값 인자\n",
        "       datetime.date(2023, 8, 15)\n",
        "       datetime.datetime(2023, 8, 15, 17, 24)\n",
        "     - Timestamp : pandas 모듈, string 값 인자\n",
        "       pd.Timestamp('2023-08-15T17:25:10')\n",
        "\n",
        "     타입이 다르면 다르게 인식하기 때문에 같은 형식으로 사용하려면\n",
        "     isoformat()이나 strftime(%Y%m%d)을 이용하여 string으로 바꾸어주던가...\n",
        "     pd.to_datetime()으로 Timestamp형식으로 바꾸어주던가..."
      ],
      "metadata": {
        "id": "Y6oy9UaKRvb6"
      }
    },
    {
      "cell_type": "code",
      "source": [
        "import datetime\n",
        "import pandas as pd\n",
        "print(datetime.date(2023, 8, 15))\n",
        "print(datetime.datetime(2023, 8, 15))\n",
        "print(type(datetime.date(2023, 8, 15)))\n",
        "print(type(datetime.datetime(2023, 8, 15)))"
      ],
      "metadata": {
        "colab": {
          "base_uri": "https://localhost:8080/"
        },
        "id": "sdb9q4YoqboE",
        "outputId": "a91889b2-ecff-4e71-aadb-bc4423eb1f62"
      },
      "execution_count": 15,
      "outputs": [
        {
          "output_type": "stream",
          "name": "stdout",
          "text": [
            "2023-08-15\n",
            "2023-08-15 00:00:00\n",
            "<class 'datetime.date'>\n",
            "<class 'datetime.datetime'>\n"
          ]
        }
      ]
    },
    {
      "cell_type": "markdown",
      "source": [
        "##### isoformat()"
      ],
      "metadata": {
        "id": "OZw1Ph3ztMEI"
      }
    },
    {
      "cell_type": "code",
      "source": [
        "datetime.date(2022,1,1).isoformat()\n",
        "datetime.datetime(2022,1,1,21,19,24).isoformat()\n",
        "pd.Timestamp('2022-01-01T21:19:34').isoformat()"
      ],
      "metadata": {
        "colab": {
          "base_uri": "https://localhost:8080/",
          "height": 35
        },
        "id": "SEluCg1Xr16Y",
        "outputId": "fbd9e940-0957-460a-eae9-cb2572234119"
      },
      "execution_count": 17,
      "outputs": [
        {
          "output_type": "execute_result",
          "data": {
            "text/plain": [
              "'2022-01-01T21:19:34'"
            ],
            "application/vnd.google.colaboratory.intrinsic+json": {
              "type": "string"
            }
          },
          "metadata": {},
          "execution_count": 17
        }
      ]
    },
    {
      "cell_type": "markdown",
      "source": [
        "##### strftime()"
      ],
      "metadata": {
        "id": "ihB0uFd9sx6U"
      }
    },
    {
      "cell_type": "code",
      "source": [
        "datetime.date(2022,1,1).strftime('%Y-%m-%d')\n",
        "datetime.datetime(2022,1,1,21,19,24).strftime('%Y-%m-%d')\n",
        "pd.Timestamp('2022-01-01T21:19:34').strftime('%Y-%m-%d')"
      ],
      "metadata": {
        "colab": {
          "base_uri": "https://localhost:8080/",
          "height": 35
        },
        "outputId": "eedac7cf-7d17-48ef-aed8-fc6f34614202",
        "id": "dv-_L4eIsvwU"
      },
      "execution_count": 19,
      "outputs": [
        {
          "output_type": "execute_result",
          "data": {
            "text/plain": [
              "'2022-01-01'"
            ],
            "application/vnd.google.colaboratory.intrinsic+json": {
              "type": "string"
            }
          },
          "metadata": {},
          "execution_count": 19
        }
      ]
    },
    {
      "cell_type": "code",
      "source": [
        "print(type(pd.Timestamp('2022-01-01T21:19:34').strftime('%Y-%m-%d')))"
      ],
      "metadata": {
        "colab": {
          "base_uri": "https://localhost:8080/"
        },
        "id": "vQQFk3POtZm7",
        "outputId": "81fa7916-d15b-45d8-a43b-c5e8fb11a33d"
      },
      "execution_count": 20,
      "outputs": [
        {
          "output_type": "stream",
          "name": "stdout",
          "text": [
            "<class 'str'>\n"
          ]
        }
      ]
    },
    {
      "cell_type": "markdown",
      "source": [
        "pandas Timestamp 형식으로"
      ],
      "metadata": {
        "id": "ktJPvYWiuCTi"
      }
    },
    {
      "cell_type": "code",
      "source": [
        "import datetime\n",
        "import pandas as pd\n",
        "print(type(datetime.datetime(2023, 8, 15, 17, 24)))\n",
        "print(type(pd.Timestamp('2023-08-15T17:25:10')))"
      ],
      "metadata": {
        "colab": {
          "base_uri": "https://localhost:8080/"
        },
        "id": "tmttKKLFDxsQ",
        "outputId": "ee7b07cf-c3f2-4de4-e972-81885ea042be"
      },
      "execution_count": null,
      "outputs": [
        {
          "output_type": "stream",
          "name": "stdout",
          "text": [
            "<class 'datetime.datetime'>\n",
            "<class 'pandas._libs.tslibs.timestamps.Timestamp'>\n"
          ]
        }
      ]
    },
    {
      "cell_type": "code",
      "source": [
        "# datetime을 Timestamp 형식으로 변환\n",
        "test_date = pd.to_datetime(datetime.datetime(2023, 8, 15, 17, 24))\n",
        "print(test_date)\n",
        "print(type(test_date))"
      ],
      "metadata": {
        "colab": {
          "base_uri": "https://localhost:8080/"
        },
        "id": "tuJt1xLNEcG1",
        "outputId": "7b25c494-1f26-4406-ca2b-99ea1eb5f75d"
      },
      "execution_count": null,
      "outputs": [
        {
          "output_type": "stream",
          "name": "stdout",
          "text": [
            "2023-08-15 17:24:00\n",
            "<class 'pandas._libs.tslibs.timestamps.Timestamp'>\n"
          ]
        }
      ]
    },
    {
      "cell_type": "markdown",
      "source": [
        "--------------------------------------------------------------------------------"
      ],
      "metadata": {
        "id": "K903Q9erE4IC"
      }
    },
    {
      "cell_type": "markdown",
      "source": [
        "### 문자열을 날짜로"
      ],
      "metadata": {
        "id": "VOE0tK7WE4Ko"
      }
    },
    {
      "cell_type": "code",
      "execution_count": null,
      "metadata": {
        "colab": {
          "base_uri": "https://localhost:8080/"
        },
        "id": "05hZ-ACB1PNV",
        "outputId": "e470b3b5-fb50-44e2-aad9-accc5dd975d3"
      },
      "outputs": [
        {
          "output_type": "stream",
          "name": "stdout",
          "text": [
            "[Timestamp('2005-04-03 11:35:00'), Timestamp('2010-05-23 00:01:00'), Timestamp('2009-09-04 09:09:00')]\n"
          ]
        }
      ],
      "source": [
        "# 라이브러리를 임포트합니다.\n",
        "import numpy as np\n",
        "import pandas as pd\n",
        "\n",
        "# # 문자열을 만듭니다.\n",
        "# date_strings = np.array(['03-04-2005 11:35 PM',\n",
        "#                          '23-05-2010 12:01 AM',\n",
        "#                          '04-09-2009 09:09 PM'])\n",
        "\n",
        "date_strings = np.array(['03-04-2005 11:35 aM',\n",
        "                         '23-05-2010 12:01 am',\n",
        "                         '04-09-2009 09:09 AM'])\n",
        "\n",
        "# Timestamp 객체로 바꿉니다.\n",
        "print([pd.to_datetime(date, format='%d-%m-%Y %I:%M %p') for date in date_strings])"
      ]
    },
    {
      "cell_type": "markdown",
      "source": [
        "#### ★ 참고 : format='%d-%m-%Y %I:%M %p' 대소문자 지켜줘야..."
      ],
      "metadata": {
        "id": "p66OqphKZQYj"
      }
    },
    {
      "cell_type": "markdown",
      "source": [
        "### 데이터 형식"
      ],
      "metadata": {
        "id": "Rp4UR5GwFVXs"
      }
    },
    {
      "cell_type": "code",
      "source": [
        "print(pd.to_datetime(date_strings, format='%d-%m-%Y %I:%M %p'))\n",
        "print(pd.to_datetime(date_strings, format='%d-%m-%Y %I:%M %p')[0])\n",
        "pd.to_datetime(date_strings, format='%d-%m-%Y %I:%M %p')[0]"
      ],
      "metadata": {
        "colab": {
          "base_uri": "https://localhost:8080/"
        },
        "id": "QPSTQ2Bi1mGZ",
        "outputId": "7045b055-bcca-44bc-b8cd-05cd10f89f54"
      },
      "execution_count": null,
      "outputs": [
        {
          "output_type": "stream",
          "name": "stdout",
          "text": [
            "DatetimeIndex(['2005-04-03 11:35:00', '2010-05-23 00:01:00',\n",
            "               '2009-09-04 09:09:00'],\n",
            "              dtype='datetime64[ns]', freq=None)\n",
            "2005-04-03 11:35:00\n"
          ]
        },
        {
          "output_type": "execute_result",
          "data": {
            "text/plain": [
              "Timestamp('2005-04-03 11:35:00')"
            ]
          },
          "metadata": {},
          "execution_count": 21
        }
      ]
    },
    {
      "cell_type": "markdown",
      "source": [
        "### 판다스 Timestamp 형식으로 변환 예외 처리"
      ],
      "metadata": {
        "id": "5Mubcy_IFgsL"
      }
    },
    {
      "cell_type": "code",
      "execution_count": null,
      "metadata": {
        "id": "kv1nF_FM1PNW",
        "outputId": "f100ac70-6946-471d-9432-8aab8db97024",
        "colab": {
          "base_uri": "https://localhost:8080/"
        }
      },
      "outputs": [
        {
          "output_type": "execute_result",
          "data": {
            "text/plain": [
              "[Timestamp('2005-04-03 11:35:00'),\n",
              " Timestamp('2010-05-23 00:01:00'),\n",
              " Timestamp('2009-09-04 09:09:00')]"
            ]
          },
          "metadata": {},
          "execution_count": 35
        }
      ],
      "source": [
        "# error가 없는 경우\n",
        "[pd.to_datetime(date, format=\"%d-%m-%Y %I:%M %p\", errors=\"ignore\") for date in date_strings]"
      ]
    },
    {
      "cell_type": "code",
      "source": [
        "# error가 있을 경우\n",
        "date_strings = np.array(['03-04-2005 11:35 aM',\n",
        "                         '23-05-2010 13:01 am',       # error\n",
        "                         '04-09-2009 09:09 AM'])\n",
        "\n",
        "[pd.to_datetime(date, format=\"%d-%m-%Y %I:%M %p\", errors=\"ignore\") for date in date_strings]                      # 'ignore' 예외 발생시 그대로 출력"
      ],
      "metadata": {
        "colab": {
          "base_uri": "https://localhost:8080/"
        },
        "id": "ZmRw4QdpZ_NB",
        "outputId": "610458ae-8e8c-4c30-8e4d-5f198443e841"
      },
      "execution_count": null,
      "outputs": [
        {
          "output_type": "execute_result",
          "data": {
            "text/plain": [
              "[Timestamp('2005-04-03 11:35:00'),\n",
              " '23-05-2010 13:01 am',\n",
              " Timestamp('2009-09-04 09:09:00')]"
            ]
          },
          "metadata": {},
          "execution_count": 18
        }
      ]
    },
    {
      "cell_type": "code",
      "source": [
        "[pd.to_datetime(date, format=\"%d-%m-%Y %I:%M %p\", errors=\"raise\") for date in date_strings]                       # errors의 기본값은 raise로 예외 발생"
      ],
      "metadata": {
        "colab": {
          "base_uri": "https://localhost:8080/",
          "height": 245
        },
        "id": "NZO92VSvfL7W",
        "outputId": "a1db6c45-ed19-4a77-89ce-1049fd651809"
      },
      "execution_count": null,
      "outputs": [
        {
          "output_type": "error",
          "ename": "ValueError",
          "evalue": "ignored",
          "traceback": [
            "\u001b[0;31m---------------------------------------------------------------------------\u001b[0m",
            "\u001b[0;31mValueError\u001b[0m                                Traceback (most recent call last)",
            "\u001b[0;32m<ipython-input-48-11fc3d780942>\u001b[0m in \u001b[0;36m<cell line: 1>\u001b[0;34m()\u001b[0m\n\u001b[0;32m----> 1\u001b[0;31m \u001b[0;34m[\u001b[0m\u001b[0mpd\u001b[0m\u001b[0;34m.\u001b[0m\u001b[0mto_datetime\u001b[0m\u001b[0;34m(\u001b[0m\u001b[0mdate\u001b[0m\u001b[0;34m,\u001b[0m \u001b[0mformat\u001b[0m\u001b[0;34m=\u001b[0m\u001b[0;34m\"%d-%m-%Y %I:%M %p\"\u001b[0m\u001b[0;34m,\u001b[0m \u001b[0merrors\u001b[0m\u001b[0;34m=\u001b[0m\u001b[0;34m\"raise\"\u001b[0m\u001b[0;34m)\u001b[0m \u001b[0;32mfor\u001b[0m \u001b[0mdate\u001b[0m \u001b[0;32min\u001b[0m \u001b[0mdate_strings\u001b[0m\u001b[0;34m]\u001b[0m                       \u001b[0;31m# errors의 기본값은 raise로 예외 발생\u001b[0m\u001b[0;34m\u001b[0m\u001b[0;34m\u001b[0m\u001b[0m\n\u001b[0m",
            "\u001b[0;32m<ipython-input-48-11fc3d780942>\u001b[0m in \u001b[0;36m<listcomp>\u001b[0;34m(.0)\u001b[0m\n\u001b[0;32m----> 1\u001b[0;31m \u001b[0;34m[\u001b[0m\u001b[0mpd\u001b[0m\u001b[0;34m.\u001b[0m\u001b[0mto_datetime\u001b[0m\u001b[0;34m(\u001b[0m\u001b[0mdate\u001b[0m\u001b[0;34m,\u001b[0m \u001b[0mformat\u001b[0m\u001b[0;34m=\u001b[0m\u001b[0;34m\"%d-%m-%Y %I:%M %p\"\u001b[0m\u001b[0;34m,\u001b[0m \u001b[0merrors\u001b[0m\u001b[0;34m=\u001b[0m\u001b[0;34m\"raise\"\u001b[0m\u001b[0;34m)\u001b[0m \u001b[0;32mfor\u001b[0m \u001b[0mdate\u001b[0m \u001b[0;32min\u001b[0m \u001b[0mdate_strings\u001b[0m\u001b[0;34m]\u001b[0m                       \u001b[0;31m# errors의 기본값은 raise로 예외 발생\u001b[0m\u001b[0;34m\u001b[0m\u001b[0;34m\u001b[0m\u001b[0m\n\u001b[0m",
            "\u001b[0;32m/usr/local/lib/python3.10/dist-packages/pandas/core/tools/datetimes.py\u001b[0m in \u001b[0;36mto_datetime\u001b[0;34m(arg, errors, dayfirst, yearfirst, utc, format, exact, unit, infer_datetime_format, origin, cache)\u001b[0m\n\u001b[1;32m   1100\u001b[0m             \u001b[0mresult\u001b[0m \u001b[0;34m=\u001b[0m \u001b[0mconvert_listlike\u001b[0m\u001b[0;34m(\u001b[0m\u001b[0margc\u001b[0m\u001b[0;34m,\u001b[0m \u001b[0mformat\u001b[0m\u001b[0;34m)\u001b[0m\u001b[0;34m\u001b[0m\u001b[0;34m\u001b[0m\u001b[0m\n\u001b[1;32m   1101\u001b[0m     \u001b[0;32melse\u001b[0m\u001b[0;34m:\u001b[0m\u001b[0;34m\u001b[0m\u001b[0;34m\u001b[0m\u001b[0m\n\u001b[0;32m-> 1102\u001b[0;31m         \u001b[0mresult\u001b[0m \u001b[0;34m=\u001b[0m \u001b[0mconvert_listlike\u001b[0m\u001b[0;34m(\u001b[0m\u001b[0mnp\u001b[0m\u001b[0;34m.\u001b[0m\u001b[0marray\u001b[0m\u001b[0;34m(\u001b[0m\u001b[0;34m[\u001b[0m\u001b[0marg\u001b[0m\u001b[0;34m]\u001b[0m\u001b[0;34m)\u001b[0m\u001b[0;34m,\u001b[0m \u001b[0mformat\u001b[0m\u001b[0;34m)\u001b[0m\u001b[0;34m[\u001b[0m\u001b[0;36m0\u001b[0m\u001b[0;34m]\u001b[0m\u001b[0;34m\u001b[0m\u001b[0;34m\u001b[0m\u001b[0m\n\u001b[0m\u001b[1;32m   1103\u001b[0m         \u001b[0;32mif\u001b[0m \u001b[0misinstance\u001b[0m\u001b[0;34m(\u001b[0m\u001b[0marg\u001b[0m\u001b[0;34m,\u001b[0m \u001b[0mbool\u001b[0m\u001b[0;34m)\u001b[0m \u001b[0;32mand\u001b[0m \u001b[0misinstance\u001b[0m\u001b[0;34m(\u001b[0m\u001b[0mresult\u001b[0m\u001b[0;34m,\u001b[0m \u001b[0mnp\u001b[0m\u001b[0;34m.\u001b[0m\u001b[0mbool_\u001b[0m\u001b[0;34m)\u001b[0m\u001b[0;34m:\u001b[0m\u001b[0;34m\u001b[0m\u001b[0;34m\u001b[0m\u001b[0m\n\u001b[1;32m   1104\u001b[0m             \u001b[0mresult\u001b[0m \u001b[0;34m=\u001b[0m \u001b[0mbool\u001b[0m\u001b[0;34m(\u001b[0m\u001b[0mresult\u001b[0m\u001b[0;34m)\u001b[0m  \u001b[0;31m# TODO: avoid this kludge.\u001b[0m\u001b[0;34m\u001b[0m\u001b[0;34m\u001b[0m\u001b[0m\n",
            "\u001b[0;32m/usr/local/lib/python3.10/dist-packages/pandas/core/tools/datetimes.py\u001b[0m in \u001b[0;36m_convert_listlike_datetimes\u001b[0;34m(arg, format, name, tz, unit, errors, infer_datetime_format, dayfirst, yearfirst, exact)\u001b[0m\n\u001b[1;32m    428\u001b[0m \u001b[0;34m\u001b[0m\u001b[0m\n\u001b[1;32m    429\u001b[0m     \u001b[0;32mif\u001b[0m \u001b[0mformat\u001b[0m \u001b[0;32mis\u001b[0m \u001b[0;32mnot\u001b[0m \u001b[0;32mNone\u001b[0m\u001b[0;34m:\u001b[0m\u001b[0;34m\u001b[0m\u001b[0;34m\u001b[0m\u001b[0m\n\u001b[0;32m--> 430\u001b[0;31m         res = _to_datetime_with_format(\n\u001b[0m\u001b[1;32m    431\u001b[0m             \u001b[0marg\u001b[0m\u001b[0;34m,\u001b[0m \u001b[0morig_arg\u001b[0m\u001b[0;34m,\u001b[0m \u001b[0mname\u001b[0m\u001b[0;34m,\u001b[0m \u001b[0mtz\u001b[0m\u001b[0;34m,\u001b[0m \u001b[0mformat\u001b[0m\u001b[0;34m,\u001b[0m \u001b[0mexact\u001b[0m\u001b[0;34m,\u001b[0m \u001b[0merrors\u001b[0m\u001b[0;34m,\u001b[0m \u001b[0minfer_datetime_format\u001b[0m\u001b[0;34m\u001b[0m\u001b[0;34m\u001b[0m\u001b[0m\n\u001b[1;32m    432\u001b[0m         )\n",
            "\u001b[0;32m/usr/local/lib/python3.10/dist-packages/pandas/core/tools/datetimes.py\u001b[0m in \u001b[0;36m_to_datetime_with_format\u001b[0;34m(arg, orig_arg, name, tz, fmt, exact, errors, infer_datetime_format)\u001b[0m\n\u001b[1;32m    536\u001b[0m \u001b[0;34m\u001b[0m\u001b[0m\n\u001b[1;32m    537\u001b[0m     \u001b[0;31m# fallback\u001b[0m\u001b[0;34m\u001b[0m\u001b[0;34m\u001b[0m\u001b[0m\n\u001b[0;32m--> 538\u001b[0;31m     res = _array_strptime_with_fallback(\n\u001b[0m\u001b[1;32m    539\u001b[0m         \u001b[0marg\u001b[0m\u001b[0;34m,\u001b[0m \u001b[0mname\u001b[0m\u001b[0;34m,\u001b[0m \u001b[0mtz\u001b[0m\u001b[0;34m,\u001b[0m \u001b[0mfmt\u001b[0m\u001b[0;34m,\u001b[0m \u001b[0mexact\u001b[0m\u001b[0;34m,\u001b[0m \u001b[0merrors\u001b[0m\u001b[0;34m,\u001b[0m \u001b[0minfer_datetime_format\u001b[0m\u001b[0;34m\u001b[0m\u001b[0;34m\u001b[0m\u001b[0m\n\u001b[1;32m    540\u001b[0m     )\n",
            "\u001b[0;32m/usr/local/lib/python3.10/dist-packages/pandas/core/tools/datetimes.py\u001b[0m in \u001b[0;36m_array_strptime_with_fallback\u001b[0;34m(arg, name, tz, fmt, exact, errors, infer_datetime_format)\u001b[0m\n\u001b[1;32m    471\u001b[0m \u001b[0;34m\u001b[0m\u001b[0m\n\u001b[1;32m    472\u001b[0m     \u001b[0;32mtry\u001b[0m\u001b[0;34m:\u001b[0m\u001b[0;34m\u001b[0m\u001b[0;34m\u001b[0m\u001b[0m\n\u001b[0;32m--> 473\u001b[0;31m         \u001b[0mresult\u001b[0m\u001b[0;34m,\u001b[0m \u001b[0mtimezones\u001b[0m \u001b[0;34m=\u001b[0m \u001b[0marray_strptime\u001b[0m\u001b[0;34m(\u001b[0m\u001b[0marg\u001b[0m\u001b[0;34m,\u001b[0m \u001b[0mfmt\u001b[0m\u001b[0;34m,\u001b[0m \u001b[0mexact\u001b[0m\u001b[0;34m=\u001b[0m\u001b[0mexact\u001b[0m\u001b[0;34m,\u001b[0m \u001b[0merrors\u001b[0m\u001b[0;34m=\u001b[0m\u001b[0merrors\u001b[0m\u001b[0;34m)\u001b[0m\u001b[0;34m\u001b[0m\u001b[0;34m\u001b[0m\u001b[0m\n\u001b[0m\u001b[1;32m    474\u001b[0m     \u001b[0;32mexcept\u001b[0m \u001b[0mOutOfBoundsDatetime\u001b[0m\u001b[0;34m:\u001b[0m\u001b[0;34m\u001b[0m\u001b[0;34m\u001b[0m\u001b[0m\n\u001b[1;32m    475\u001b[0m         \u001b[0;32mif\u001b[0m \u001b[0merrors\u001b[0m \u001b[0;34m==\u001b[0m \u001b[0;34m\"raise\"\u001b[0m\u001b[0;34m:\u001b[0m\u001b[0;34m\u001b[0m\u001b[0;34m\u001b[0m\u001b[0m\n",
            "\u001b[0;32m/usr/local/lib/python3.10/dist-packages/pandas/_libs/tslibs/strptime.pyx\u001b[0m in \u001b[0;36mpandas._libs.tslibs.strptime.array_strptime\u001b[0;34m()\u001b[0m\n",
            "\u001b[0;31mValueError\u001b[0m: time data '23-05-2010 13:01 am' does not match format '%d-%m-%Y %I:%M %p' (match)"
          ]
        }
      ]
    },
    {
      "cell_type": "code",
      "source": [
        "[pd.to_datetime(date, format=\"%d-%m-%Y %I:%M %p\", errors=\"coerce\") for date in date_strings]                        # 'coerce' 예외 발생시 NaT로 출력"
      ],
      "metadata": {
        "colab": {
          "base_uri": "https://localhost:8080/"
        },
        "id": "UJFECzU-eiDs",
        "outputId": "38635475-8926-4300-e235-f1e573275f82"
      },
      "execution_count": null,
      "outputs": [
        {
          "output_type": "execute_result",
          "data": {
            "text/plain": [
              "[Timestamp('2005-04-03 11:35:00'), NaT, Timestamp('2009-09-04 09:09:00')]"
            ]
          },
          "metadata": {},
          "execution_count": 21
        }
      ]
    },
    {
      "cell_type": "markdown",
      "source": [
        "#### ※ format이 달라도 에러"
      ],
      "metadata": {
        "id": "WgCnfU8pGNUu"
      }
    },
    {
      "cell_type": "code",
      "source": [
        "[pd.to_datetime(date, format=\"%d-%m-%Y %I:%M:%S %p\", errors=\"coerce\") for date in date_strings]"
      ],
      "metadata": {
        "colab": {
          "base_uri": "https://localhost:8080/"
        },
        "id": "GLZkOK9ZGYT0",
        "outputId": "000f0df5-8262-47af-91b0-8e39446b2066"
      },
      "execution_count": null,
      "outputs": [
        {
          "output_type": "execute_result",
          "data": {
            "text/plain": [
              "[NaT, NaT, NaT]"
            ]
          },
          "metadata": {},
          "execution_count": 23
        }
      ]
    },
    {
      "cell_type": "markdown",
      "source": [
        "##### ※ NaT : Not a Time(datetime에 알 수 없는 값이나 누락 값)"
      ],
      "metadata": {
        "id": "CaXS-0j_a1uQ"
      }
    },
    {
      "cell_type": "markdown",
      "source": [
        "![image.png](data:image/png;base64,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)"
      ],
      "metadata": {
        "id": "4WShkebVbjd1"
      }
    },
    {
      "cell_type": "markdown",
      "source": [
        "&nbsp;<br>"
      ],
      "metadata": {
        "id": "G7O4_OHHbn-j"
      }
    },
    {
      "cell_type": "markdown",
      "metadata": {
        "id": "fWyQU5fb1PNX"
      },
      "source": [
        "## 붙임"
      ]
    },
    {
      "cell_type": "code",
      "execution_count": null,
      "metadata": {
        "id": "SU1rwBZi1PNX",
        "outputId": "f40184c3-c77a-4521-91ce-2d6ef33d5cc6"
      },
      "outputs": [
        {
          "data": {
            "text/plain": [
              "DatetimeIndex(['2005-03-04 23:35:00', '2010-05-23 00:01:00',\n",
              "               '2009-04-09 21:09:00'],\n",
              "              dtype='datetime64[ns]', freq=None)"
            ]
          },
          "execution_count": 3,
          "metadata": {},
          "output_type": "execute_result"
        }
      ],
      "source": [
        "# List comprehension없이 바로...\n",
        "pd.to_datetime(date_strings)"
      ]
    },
    {
      "cell_type": "markdown",
      "source": [
        "Datetimeindex 인덱스 사용 예제"
      ],
      "metadata": {
        "id": "NAQ_GzvJcQPg"
      }
    },
    {
      "cell_type": "code",
      "source": [
        "date_str = [\"2018, 1, 1\", \"2018, 1, 4\", \"2018, 1, 5\", \"2018, 1, 6\"]\n",
        "idx = pd.to_datetime(date_str)\n",
        "idx\n",
        "\n",
        "np.random.seed(0)\n",
        "s = pd.Series(np.random.randn(4), index=idx)\n",
        "s"
      ],
      "metadata": {
        "colab": {
          "base_uri": "https://localhost:8080/"
        },
        "id": "rFDwKwlbcZAB",
        "outputId": "3fb03ba8-4692-485f-e7e3-16efa773af38"
      },
      "execution_count": null,
      "outputs": [
        {
          "output_type": "execute_result",
          "data": {
            "text/plain": [
              "2018-01-01    1.764052\n",
              "2018-01-04    0.400157\n",
              "2018-01-05    0.978738\n",
              "2018-01-06    2.240893\n",
              "dtype: float64"
            ]
          },
          "metadata": {},
          "execution_count": 32
        }
      ]
    },
    {
      "cell_type": "markdown",
      "source": [
        "&nbsp;<br>&nbsp;&nbsp;&nbsp;<br>"
      ],
      "metadata": {
        "id": "-CJtFXjodwys"
      }
    },
    {
      "cell_type": "markdown",
      "metadata": {
        "id": "AO2Qu05n1PNX"
      },
      "source": [
        "## 7.2 시간대 다루기"
      ]
    },
    {
      "cell_type": "code",
      "execution_count": null,
      "metadata": {
        "id": "hkEN-5Ro1PNX",
        "outputId": "758a8e2c-faf2-429e-917a-e96373e76d16",
        "colab": {
          "base_uri": "https://localhost:8080/"
        }
      },
      "outputs": [
        {
          "output_type": "execute_result",
          "data": {
            "text/plain": [
              "Timestamp('2017-05-01 06:00:00+0100', tz='Europe/London')"
            ]
          },
          "metadata": {},
          "execution_count": 1
        }
      ],
      "source": [
        "import pandas as pd\n",
        "\n",
        "# datetime을 만듭니다. tz 매개변수 사용\n",
        "pd.Timestamp('2017-05-01 06:00:00', tz='Europe/London')"
      ]
    },
    {
      "cell_type": "markdown",
      "source": [
        "※ 참고 +0100 > 텍스트 및 XML 피드<br>\n",
        "![image.png](data:image/png;base64,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)"
      ],
      "metadata": {
        "id": "s_MxC7aRgtUV"
      }
    },
    {
      "cell_type": "markdown",
      "source": [
        "##### timestamp에 시간대 추가"
      ],
      "metadata": {
        "id": "Y3ZodF3nw2fu"
      }
    },
    {
      "cell_type": "code",
      "execution_count": null,
      "metadata": {
        "id": "lwlVEZQm1PNY",
        "outputId": "42679efe-ccf7-4e82-aa76-569a6531eaa4",
        "colab": {
          "base_uri": "https://localhost:8080/"
        }
      },
      "outputs": [
        {
          "output_type": "execute_result",
          "data": {
            "text/plain": [
              "Timestamp('2017-05-01 06:00:00+0100', tz='Europe/London')"
            ]
          },
          "metadata": {},
          "execution_count": 2
        }
      ],
      "source": [
        "# datetime을 만듭니다.\n",
        "date = pd.Timestamp('2017-05-01 06:00:00')\n",
        "\n",
        "# 시간대를 지정합니다. tz_localize 메쏘드 사용\n",
        "date_in_london = date.tz_localize('Europe/London')\n",
        "\n",
        "# datetime을 확인합니다.\n",
        "date_in_london"
      ]
    },
    {
      "cell_type": "code",
      "source": [
        "date"
      ],
      "metadata": {
        "colab": {
          "base_uri": "https://localhost:8080/"
        },
        "id": "vWObSeYojciS",
        "outputId": "3a2db53f-dfe8-4203-c3b8-73760535c27e"
      },
      "execution_count": null,
      "outputs": [
        {
          "output_type": "execute_result",
          "data": {
            "text/plain": [
              "Timestamp('2017-05-01 06:00:00')"
            ]
          },
          "metadata": {},
          "execution_count": 3
        }
      ]
    },
    {
      "cell_type": "markdown",
      "source": [
        "##### 시간대 바꾸기"
      ],
      "metadata": {
        "id": "Pu9U4evpxBVy"
      }
    },
    {
      "cell_type": "code",
      "execution_count": null,
      "metadata": {
        "id": "jEixrxE51PNY",
        "outputId": "e886fe49-613f-474f-9975-680d657459bb",
        "colab": {
          "base_uri": "https://localhost:8080/"
        }
      },
      "outputs": [
        {
          "output_type": "execute_result",
          "data": {
            "text/plain": [
              "Timestamp('2017-05-01 05:00:00+0000', tz='Africa/Abidjan')"
            ]
          },
          "metadata": {},
          "execution_count": 4
        }
      ],
      "source": [
        "# 시간대를 바꿉니다. tz_convert 메쏘드\n",
        "date_in_london.tz_convert('Africa/Abidjan')"
      ]
    },
    {
      "cell_type": "markdown",
      "source": [
        "##### Series 모든 원소에 시간대 설정 가능"
      ],
      "metadata": {
        "id": "zGEFvZUMxHUS"
      }
    },
    {
      "cell_type": "code",
      "source": [
        "# 세 개의 날짜를 만듭니다.\n",
        "dates = pd.Series(pd.date_range('2/2/2002', periods=3, freq='M'))               # freq에서 'M'은 월별 말일을 의미\n",
        "dates"
      ],
      "metadata": {
        "colab": {
          "base_uri": "https://localhost:8080/"
        },
        "id": "cJ8xFB3ZiHQI",
        "outputId": "eaaa70f7-f46a-4777-ea13-8c267f2093cb"
      },
      "execution_count": 22,
      "outputs": [
        {
          "output_type": "execute_result",
          "data": {
            "text/plain": [
              "0   2002-02-28\n",
              "1   2002-03-31\n",
              "2   2002-04-30\n",
              "dtype: datetime64[ns]"
            ]
          },
          "metadata": {},
          "execution_count": 22
        }
      ]
    },
    {
      "cell_type": "code",
      "execution_count": 23,
      "metadata": {
        "id": "deAX3H8g1PNY",
        "outputId": "34e51691-d113-4e38-e002-ca3f9b98f5d8",
        "colab": {
          "base_uri": "https://localhost:8080/"
        }
      },
      "outputs": [
        {
          "output_type": "execute_result",
          "data": {
            "text/plain": [
              "0   2002-02-28 00:00:00+00:00\n",
              "1   2002-03-31 00:00:00+00:00\n",
              "2   2002-04-30 00:00:00+00:00\n",
              "dtype: datetime64[ns, Africa/Abidjan]"
            ]
          },
          "metadata": {},
          "execution_count": 23
        }
      ],
      "source": [
        "# 시간대를 지정합니다.\n",
        "dates.dt.tz_localize('Africa/Abidjan')                                          # dt 연산자 사용"
      ]
    },
    {
      "cell_type": "markdown",
      "source": [
        "※ dt 연산자 사용 예시 : year, month, day, hour, minute, second, dayofweek, day-name 등 추출 가능<br>\n",
        "★dt 연산자는 pandas.Series에서만..."
      ],
      "metadata": {
        "id": "QTu9KTFvBwcw"
      }
    },
    {
      "cell_type": "code",
      "source": [
        "new_dates = dates.to_frame()\n",
        "new_dates.rename(columns= {0:'DateTime'}, inplace=True)\n",
        "print(type(new_dates['DateTime']))\n",
        "new_dates['year'] = new_dates.DateTime.dt.year\n",
        "new_dates"
      ],
      "metadata": {
        "colab": {
          "base_uri": "https://localhost:8080/",
          "height": 162
        },
        "id": "VDQhvJTo-yYm",
        "outputId": "41ec8ea5-9823-4511-9071-bdf8fb398be0"
      },
      "execution_count": 24,
      "outputs": [
        {
          "output_type": "stream",
          "name": "stdout",
          "text": [
            "<class 'pandas.core.series.Series'>\n"
          ]
        },
        {
          "output_type": "execute_result",
          "data": {
            "text/plain": [
              "    DateTime  year\n",
              "0 2002-02-28  2002\n",
              "1 2002-03-31  2002\n",
              "2 2002-04-30  2002"
            ],
            "text/html": [
              "\n",
              "  <div id=\"df-f192106c-9c76-4d46-a1a8-77934d38f9ae\" class=\"colab-df-container\">\n",
              "    <div>\n",
              "<style scoped>\n",
              "    .dataframe tbody tr th:only-of-type {\n",
              "        vertical-align: middle;\n",
              "    }\n",
              "\n",
              "    .dataframe tbody tr th {\n",
              "        vertical-align: top;\n",
              "    }\n",
              "\n",
              "    .dataframe thead th {\n",
              "        text-align: right;\n",
              "    }\n",
              "</style>\n",
              "<table border=\"1\" class=\"dataframe\">\n",
              "  <thead>\n",
              "    <tr style=\"text-align: right;\">\n",
              "      <th></th>\n",
              "      <th>DateTime</th>\n",
              "      <th>year</th>\n",
              "    </tr>\n",
              "  </thead>\n",
              "  <tbody>\n",
              "    <tr>\n",
              "      <th>0</th>\n",
              "      <td>2002-02-28</td>\n",
              "      <td>2002</td>\n",
              "    </tr>\n",
              "    <tr>\n",
              "      <th>1</th>\n",
              "      <td>2002-03-31</td>\n",
              "      <td>2002</td>\n",
              "    </tr>\n",
              "    <tr>\n",
              "      <th>2</th>\n",
              "      <td>2002-04-30</td>\n",
              "      <td>2002</td>\n",
              "    </tr>\n",
              "  </tbody>\n",
              "</table>\n",
              "</div>\n",
              "    <div class=\"colab-df-buttons\">\n",
              "\n",
              "  <div class=\"colab-df-container\">\n",
              "    <button class=\"colab-df-convert\" onclick=\"convertToInteractive('df-f192106c-9c76-4d46-a1a8-77934d38f9ae')\"\n",
              "            title=\"Convert this dataframe to an interactive table.\"\n",
              "            style=\"display:none;\">\n",
              "\n",
              "  <svg xmlns=\"http://www.w3.org/2000/svg\" height=\"24px\" viewBox=\"0 -960 960 960\">\n",
              "    <path d=\"M120-120v-720h720v720H120Zm60-500h600v-160H180v160Zm220 220h160v-160H400v160Zm0 220h160v-160H400v160ZM180-400h160v-160H180v160Zm440 0h160v-160H620v160ZM180-180h160v-160H180v160Zm440 0h160v-160H620v160Z\"/>\n",
              "  </svg>\n",
              "    </button>\n",
              "\n",
              "  <style>\n",
              "    .colab-df-container {\n",
              "      display:flex;\n",
              "      gap: 12px;\n",
              "    }\n",
              "\n",
              "    .colab-df-convert {\n",
              "      background-color: #E8F0FE;\n",
              "      border: none;\n",
              "      border-radius: 50%;\n",
              "      cursor: pointer;\n",
              "      display: none;\n",
              "      fill: #1967D2;\n",
              "      height: 32px;\n",
              "      padding: 0 0 0 0;\n",
              "      width: 32px;\n",
              "    }\n",
              "\n",
              "    .colab-df-convert:hover {\n",
              "      background-color: #E2EBFA;\n",
              "      box-shadow: 0px 1px 2px rgba(60, 64, 67, 0.3), 0px 1px 3px 1px rgba(60, 64, 67, 0.15);\n",
              "      fill: #174EA6;\n",
              "    }\n",
              "\n",
              "    .colab-df-buttons div {\n",
              "      margin-bottom: 4px;\n",
              "    }\n",
              "\n",
              "    [theme=dark] .colab-df-convert {\n",
              "      background-color: #3B4455;\n",
              "      fill: #D2E3FC;\n",
              "    }\n",
              "\n",
              "    [theme=dark] .colab-df-convert:hover {\n",
              "      background-color: #434B5C;\n",
              "      box-shadow: 0px 1px 3px 1px rgba(0, 0, 0, 0.15);\n",
              "      filter: drop-shadow(0px 1px 2px rgba(0, 0, 0, 0.3));\n",
              "      fill: #FFFFFF;\n",
              "    }\n",
              "  </style>\n",
              "\n",
              "    <script>\n",
              "      const buttonEl =\n",
              "        document.querySelector('#df-f192106c-9c76-4d46-a1a8-77934d38f9ae button.colab-df-convert');\n",
              "      buttonEl.style.display =\n",
              "        google.colab.kernel.accessAllowed ? 'block' : 'none';\n",
              "\n",
              "      async function convertToInteractive(key) {\n",
              "        const element = document.querySelector('#df-f192106c-9c76-4d46-a1a8-77934d38f9ae');\n",
              "        const dataTable =\n",
              "          await google.colab.kernel.invokeFunction('convertToInteractive',\n",
              "                                                    [key], {});\n",
              "        if (!dataTable) return;\n",
              "\n",
              "        const docLinkHtml = 'Like what you see? Visit the ' +\n",
              "          '<a target=\"_blank\" href=https://colab.research.google.com/notebooks/data_table.ipynb>data table notebook</a>'\n",
              "          + ' to learn more about interactive tables.';\n",
              "        element.innerHTML = '';\n",
              "        dataTable['output_type'] = 'display_data';\n",
              "        await google.colab.output.renderOutput(dataTable, element);\n",
              "        const docLink = document.createElement('div');\n",
              "        docLink.innerHTML = docLinkHtml;\n",
              "        element.appendChild(docLink);\n",
              "      }\n",
              "    </script>\n",
              "  </div>\n",
              "\n",
              "\n",
              "<div id=\"df-75b1dd93-56b4-449a-9d21-1aca2c6f2e21\">\n",
              "  <button class=\"colab-df-quickchart\" onclick=\"quickchart('df-75b1dd93-56b4-449a-9d21-1aca2c6f2e21')\"\n",
              "            title=\"Suggest charts.\"\n",
              "            style=\"display:none;\">\n",
              "\n",
              "<svg xmlns=\"http://www.w3.org/2000/svg\" height=\"24px\"viewBox=\"0 0 24 24\"\n",
              "     width=\"24px\">\n",
              "    <g>\n",
              "        <path d=\"M19 3H5c-1.1 0-2 .9-2 2v14c0 1.1.9 2 2 2h14c1.1 0 2-.9 2-2V5c0-1.1-.9-2-2-2zM9 17H7v-7h2v7zm4 0h-2V7h2v10zm4 0h-2v-4h2v4z\"/>\n",
              "    </g>\n",
              "</svg>\n",
              "  </button>\n",
              "\n",
              "<style>\n",
              "  .colab-df-quickchart {\n",
              "    background-color: #E8F0FE;\n",
              "    border: none;\n",
              "    border-radius: 50%;\n",
              "    cursor: pointer;\n",
              "    display: none;\n",
              "    fill: #1967D2;\n",
              "    height: 32px;\n",
              "    padding: 0 0 0 0;\n",
              "    width: 32px;\n",
              "  }\n",
              "\n",
              "  .colab-df-quickchart:hover {\n",
              "    background-color: #E2EBFA;\n",
              "    box-shadow: 0px 1px 2px rgba(60, 64, 67, 0.3), 0px 1px 3px 1px rgba(60, 64, 67, 0.15);\n",
              "    fill: #174EA6;\n",
              "  }\n",
              "\n",
              "  [theme=dark] .colab-df-quickchart {\n",
              "    background-color: #3B4455;\n",
              "    fill: #D2E3FC;\n",
              "  }\n",
              "\n",
              "  [theme=dark] .colab-df-quickchart:hover {\n",
              "    background-color: #434B5C;\n",
              "    box-shadow: 0px 1px 3px 1px rgba(0, 0, 0, 0.15);\n",
              "    filter: drop-shadow(0px 1px 2px rgba(0, 0, 0, 0.3));\n",
              "    fill: #FFFFFF;\n",
              "  }\n",
              "</style>\n",
              "\n",
              "  <script>\n",
              "    async function quickchart(key) {\n",
              "      const charts = await google.colab.kernel.invokeFunction(\n",
              "          'suggestCharts', [key], {});\n",
              "    }\n",
              "    (() => {\n",
              "      let quickchartButtonEl =\n",
              "        document.querySelector('#df-75b1dd93-56b4-449a-9d21-1aca2c6f2e21 button');\n",
              "      quickchartButtonEl.style.display =\n",
              "        google.colab.kernel.accessAllowed ? 'block' : 'none';\n",
              "    })();\n",
              "  </script>\n",
              "</div>\n",
              "    </div>\n",
              "  </div>\n"
            ]
          },
          "metadata": {},
          "execution_count": 24
        }
      ]
    },
    {
      "cell_type": "code",
      "source": [
        "type(new_dates)"
      ],
      "metadata": {
        "colab": {
          "base_uri": "https://localhost:8080/"
        },
        "id": "TuqbfTZwyRbr",
        "outputId": "4ab59087-ab89-48bf-b07d-9dbaf5d75458"
      },
      "execution_count": 25,
      "outputs": [
        {
          "output_type": "execute_result",
          "data": {
            "text/plain": [
              "pandas.core.frame.DataFrame"
            ]
          },
          "metadata": {},
          "execution_count": 25
        }
      ]
    },
    {
      "cell_type": "markdown",
      "source": [
        "##### ※ 예시"
      ],
      "metadata": {
        "id": "eElwUq1h-Txw"
      }
    },
    {
      "cell_type": "code",
      "source": [
        "df = pd.DataFrame({'Birth':['2019-01-01 09:10:00',\n",
        "                            '2019-01-08 09:20:30',\n",
        "                            '2019-02-01 10:20:00',\n",
        "                            '2019-02-02 11:40:50',\n",
        "                            '2019-02-28 15:10:20',\n",
        "                            '2019-04-10 19:20:50',\n",
        "                            '2019-06-30 21:20:50',\n",
        "                            '2019-07-20 23:30:59']})"
      ],
      "metadata": {
        "id": "EJvtKwpV-OLQ"
      },
      "execution_count": null,
      "outputs": []
    },
    {
      "cell_type": "code",
      "source": [
        "df1 = pd.to_datetime(df['Birth'])\n",
        "df1"
      ],
      "metadata": {
        "colab": {
          "base_uri": "https://localhost:8080/"
        },
        "id": "eUNjsyVW-Ot_",
        "outputId": "7caaccf4-2f82-4d74-bcfd-ba05dc3c5637"
      },
      "execution_count": null,
      "outputs": [
        {
          "output_type": "execute_result",
          "data": {
            "text/plain": [
              "0   2019-01-01 09:10:00\n",
              "1   2019-01-08 09:20:30\n",
              "2   2019-02-01 10:20:00\n",
              "3   2019-02-02 11:40:50\n",
              "4   2019-02-28 15:10:20\n",
              "5   2019-04-10 19:20:50\n",
              "6   2019-06-30 21:20:50\n",
              "7   2019-07-20 23:30:59\n",
              "Name: Birth, dtype: datetime64[ns]"
            ]
          },
          "metadata": {},
          "execution_count": 56
        }
      ]
    },
    {
      "cell_type": "code",
      "source": [
        "df1.dt.date"
      ],
      "metadata": {
        "colab": {
          "base_uri": "https://localhost:8080/"
        },
        "id": "uaiqebKe-gDK",
        "outputId": "1fcd0172-bc8f-4ce0-f078-0884bf735bb0"
      },
      "execution_count": null,
      "outputs": [
        {
          "output_type": "execute_result",
          "data": {
            "text/plain": [
              "0    2019-01-01\n",
              "1    2019-01-08\n",
              "2    2019-02-01\n",
              "3    2019-02-02\n",
              "4    2019-02-28\n",
              "5    2019-04-10\n",
              "6    2019-06-30\n",
              "7    2019-07-20\n",
              "Name: Birth, dtype: object"
            ]
          },
          "metadata": {},
          "execution_count": 58
        }
      ]
    },
    {
      "cell_type": "code",
      "source": [
        "df2 = pd.DataFrame(df1)\n",
        "df2"
      ],
      "metadata": {
        "colab": {
          "base_uri": "https://localhost:8080/",
          "height": 300
        },
        "id": "WqfuNm-Q-l4s",
        "outputId": "4a59d09f-c78b-4569-82ef-05a0cd262481"
      },
      "execution_count": null,
      "outputs": [
        {
          "output_type": "execute_result",
          "data": {
            "text/plain": [
              "                Birth\n",
              "0 2019-01-01 09:10:00\n",
              "1 2019-01-08 09:20:30\n",
              "2 2019-02-01 10:20:00\n",
              "3 2019-02-02 11:40:50\n",
              "4 2019-02-28 15:10:20\n",
              "5 2019-04-10 19:20:50\n",
              "6 2019-06-30 21:20:50\n",
              "7 2019-07-20 23:30:59"
            ],
            "text/html": [
              "\n",
              "\n",
              "  <div id=\"df-bacdce3b-9dca-42e2-b5d1-d5ba81589fde\">\n",
              "    <div class=\"colab-df-container\">\n",
              "      <div>\n",
              "<style scoped>\n",
              "    .dataframe tbody tr th:only-of-type {\n",
              "        vertical-align: middle;\n",
              "    }\n",
              "\n",
              "    .dataframe tbody tr th {\n",
              "        vertical-align: top;\n",
              "    }\n",
              "\n",
              "    .dataframe thead th {\n",
              "        text-align: right;\n",
              "    }\n",
              "</style>\n",
              "<table border=\"1\" class=\"dataframe\">\n",
              "  <thead>\n",
              "    <tr style=\"text-align: right;\">\n",
              "      <th></th>\n",
              "      <th>Birth</th>\n",
              "    </tr>\n",
              "  </thead>\n",
              "  <tbody>\n",
              "    <tr>\n",
              "      <th>0</th>\n",
              "      <td>2019-01-01 09:10:00</td>\n",
              "    </tr>\n",
              "    <tr>\n",
              "      <th>1</th>\n",
              "      <td>2019-01-08 09:20:30</td>\n",
              "    </tr>\n",
              "    <tr>\n",
              "      <th>2</th>\n",
              "      <td>2019-02-01 10:20:00</td>\n",
              "    </tr>\n",
              "    <tr>\n",
              "      <th>3</th>\n",
              "      <td>2019-02-02 11:40:50</td>\n",
              "    </tr>\n",
              "    <tr>\n",
              "      <th>4</th>\n",
              "      <td>2019-02-28 15:10:20</td>\n",
              "    </tr>\n",
              "    <tr>\n",
              "      <th>5</th>\n",
              "      <td>2019-04-10 19:20:50</td>\n",
              "    </tr>\n",
              "    <tr>\n",
              "      <th>6</th>\n",
              "      <td>2019-06-30 21:20:50</td>\n",
              "    </tr>\n",
              "    <tr>\n",
              "      <th>7</th>\n",
              "      <td>2019-07-20 23:30:59</td>\n",
              "    </tr>\n",
              "  </tbody>\n",
              "</table>\n",
              "</div>\n",
              "      <button class=\"colab-df-convert\" onclick=\"convertToInteractive('df-bacdce3b-9dca-42e2-b5d1-d5ba81589fde')\"\n",
              "              title=\"Convert this dataframe to an interactive table.\"\n",
              "              style=\"display:none;\">\n",
              "\n",
              "  <svg xmlns=\"http://www.w3.org/2000/svg\" height=\"24px\"viewBox=\"0 0 24 24\"\n",
              "       width=\"24px\">\n",
              "    <path d=\"M0 0h24v24H0V0z\" fill=\"none\"/>\n",
              "    <path d=\"M18.56 5.44l.94 2.06.94-2.06 2.06-.94-2.06-.94-.94-2.06-.94 2.06-2.06.94zm-11 1L8.5 8.5l.94-2.06 2.06-.94-2.06-.94L8.5 2.5l-.94 2.06-2.06.94zm10 10l.94 2.06.94-2.06 2.06-.94-2.06-.94-.94-2.06-.94 2.06-2.06.94z\"/><path d=\"M17.41 7.96l-1.37-1.37c-.4-.4-.92-.59-1.43-.59-.52 0-1.04.2-1.43.59L10.3 9.45l-7.72 7.72c-.78.78-.78 2.05 0 2.83L4 21.41c.39.39.9.59 1.41.59.51 0 1.02-.2 1.41-.59l7.78-7.78 2.81-2.81c.8-.78.8-2.07 0-2.86zM5.41 20L4 18.59l7.72-7.72 1.47 1.35L5.41 20z\"/>\n",
              "  </svg>\n",
              "      </button>\n",
              "\n",
              "\n",
              "\n",
              "    <div id=\"df-8705c632-c756-43e2-bf5f-a4b435a843b7\">\n",
              "      <button class=\"colab-df-quickchart\" onclick=\"quickchart('df-8705c632-c756-43e2-bf5f-a4b435a843b7')\"\n",
              "              title=\"Suggest charts.\"\n",
              "              style=\"display:none;\">\n",
              "\n",
              "<svg xmlns=\"http://www.w3.org/2000/svg\" height=\"24px\"viewBox=\"0 0 24 24\"\n",
              "     width=\"24px\">\n",
              "    <g>\n",
              "        <path d=\"M19 3H5c-1.1 0-2 .9-2 2v14c0 1.1.9 2 2 2h14c1.1 0 2-.9 2-2V5c0-1.1-.9-2-2-2zM9 17H7v-7h2v7zm4 0h-2V7h2v10zm4 0h-2v-4h2v4z\"/>\n",
              "    </g>\n",
              "</svg>\n",
              "      </button>\n",
              "    </div>\n",
              "\n",
              "<style>\n",
              "  .colab-df-quickchart {\n",
              "    background-color: #E8F0FE;\n",
              "    border: none;\n",
              "    border-radius: 50%;\n",
              "    cursor: pointer;\n",
              "    display: none;\n",
              "    fill: #1967D2;\n",
              "    height: 32px;\n",
              "    padding: 0 0 0 0;\n",
              "    width: 32px;\n",
              "  }\n",
              "\n",
              "  .colab-df-quickchart:hover {\n",
              "    background-color: #E2EBFA;\n",
              "    box-shadow: 0px 1px 2px rgba(60, 64, 67, 0.3), 0px 1px 3px 1px rgba(60, 64, 67, 0.15);\n",
              "    fill: #174EA6;\n",
              "  }\n",
              "\n",
              "  [theme=dark] .colab-df-quickchart {\n",
              "    background-color: #3B4455;\n",
              "    fill: #D2E3FC;\n",
              "  }\n",
              "\n",
              "  [theme=dark] .colab-df-quickchart:hover {\n",
              "    background-color: #434B5C;\n",
              "    box-shadow: 0px 1px 3px 1px rgba(0, 0, 0, 0.15);\n",
              "    filter: drop-shadow(0px 1px 2px rgba(0, 0, 0, 0.3));\n",
              "    fill: #FFFFFF;\n",
              "  }\n",
              "</style>\n",
              "\n",
              "    <script>\n",
              "      async function quickchart(key) {\n",
              "        const containerElement = document.querySelector('#' + key);\n",
              "        const charts = await google.colab.kernel.invokeFunction(\n",
              "            'suggestCharts', [key], {});\n",
              "      }\n",
              "    </script>\n",
              "\n",
              "\n",
              "      <script>\n",
              "\n",
              "function displayQuickchartButton(domScope) {\n",
              "  let quickchartButtonEl =\n",
              "    domScope.querySelector('#df-8705c632-c756-43e2-bf5f-a4b435a843b7 button.colab-df-quickchart');\n",
              "  quickchartButtonEl.style.display =\n",
              "    google.colab.kernel.accessAllowed ? 'block' : 'none';\n",
              "}\n",
              "\n",
              "        displayQuickchartButton(document);\n",
              "      </script>\n",
              "      <style>\n",
              "    .colab-df-container {\n",
              "      display:flex;\n",
              "      flex-wrap:wrap;\n",
              "      gap: 12px;\n",
              "    }\n",
              "\n",
              "    .colab-df-convert {\n",
              "      background-color: #E8F0FE;\n",
              "      border: none;\n",
              "      border-radius: 50%;\n",
              "      cursor: pointer;\n",
              "      display: none;\n",
              "      fill: #1967D2;\n",
              "      height: 32px;\n",
              "      padding: 0 0 0 0;\n",
              "      width: 32px;\n",
              "    }\n",
              "\n",
              "    .colab-df-convert:hover {\n",
              "      background-color: #E2EBFA;\n",
              "      box-shadow: 0px 1px 2px rgba(60, 64, 67, 0.3), 0px 1px 3px 1px rgba(60, 64, 67, 0.15);\n",
              "      fill: #174EA6;\n",
              "    }\n",
              "\n",
              "    [theme=dark] .colab-df-convert {\n",
              "      background-color: #3B4455;\n",
              "      fill: #D2E3FC;\n",
              "    }\n",
              "\n",
              "    [theme=dark] .colab-df-convert:hover {\n",
              "      background-color: #434B5C;\n",
              "      box-shadow: 0px 1px 3px 1px rgba(0, 0, 0, 0.15);\n",
              "      filter: drop-shadow(0px 1px 2px rgba(0, 0, 0, 0.3));\n",
              "      fill: #FFFFFF;\n",
              "    }\n",
              "  </style>\n",
              "\n",
              "      <script>\n",
              "        const buttonEl =\n",
              "          document.querySelector('#df-bacdce3b-9dca-42e2-b5d1-d5ba81589fde button.colab-df-convert');\n",
              "        buttonEl.style.display =\n",
              "          google.colab.kernel.accessAllowed ? 'block' : 'none';\n",
              "\n",
              "        async function convertToInteractive(key) {\n",
              "          const element = document.querySelector('#df-bacdce3b-9dca-42e2-b5d1-d5ba81589fde');\n",
              "          const dataTable =\n",
              "            await google.colab.kernel.invokeFunction('convertToInteractive',\n",
              "                                                     [key], {});\n",
              "          if (!dataTable) return;\n",
              "\n",
              "          const docLinkHtml = 'Like what you see? Visit the ' +\n",
              "            '<a target=\"_blank\" href=https://colab.research.google.com/notebooks/data_table.ipynb>data table notebook</a>'\n",
              "            + ' to learn more about interactive tables.';\n",
              "          element.innerHTML = '';\n",
              "          dataTable['output_type'] = 'display_data';\n",
              "          await google.colab.output.renderOutput(dataTable, element);\n",
              "          const docLink = document.createElement('div');\n",
              "          docLink.innerHTML = docLinkHtml;\n",
              "          element.appendChild(docLink);\n",
              "        }\n",
              "      </script>\n",
              "    </div>\n",
              "  </div>\n"
            ]
          },
          "metadata": {},
          "execution_count": 61
        }
      ]
    },
    {
      "cell_type": "code",
      "source": [
        "df2.dt.date"
      ],
      "metadata": {
        "colab": {
          "base_uri": "https://localhost:8080/",
          "height": 313
        },
        "id": "SsNSvgNF-OxG",
        "outputId": "0f222556-a781-4433-a04f-b87b6639d745"
      },
      "execution_count": null,
      "outputs": [
        {
          "output_type": "error",
          "ename": "AttributeError",
          "evalue": "ignored",
          "traceback": [
            "\u001b[0;31m---------------------------------------------------------------------------\u001b[0m",
            "\u001b[0;31mAttributeError\u001b[0m                            Traceback (most recent call last)",
            "\u001b[0;32m<ipython-input-63-d3efed2857ae>\u001b[0m in \u001b[0;36m<cell line: 1>\u001b[0;34m()\u001b[0m\n\u001b[0;32m----> 1\u001b[0;31m \u001b[0mdf2\u001b[0m\u001b[0;34m.\u001b[0m\u001b[0mdt\u001b[0m\u001b[0;34m.\u001b[0m\u001b[0mdate\u001b[0m\u001b[0;34m\u001b[0m\u001b[0;34m\u001b[0m\u001b[0m\n\u001b[0m",
            "\u001b[0;32m/usr/local/lib/python3.10/dist-packages/pandas/core/generic.py\u001b[0m in \u001b[0;36m__getattr__\u001b[0;34m(self, name)\u001b[0m\n\u001b[1;32m   5900\u001b[0m         ):\n\u001b[1;32m   5901\u001b[0m             \u001b[0;32mreturn\u001b[0m \u001b[0mself\u001b[0m\u001b[0;34m[\u001b[0m\u001b[0mname\u001b[0m\u001b[0;34m]\u001b[0m\u001b[0;34m\u001b[0m\u001b[0;34m\u001b[0m\u001b[0m\n\u001b[0;32m-> 5902\u001b[0;31m         \u001b[0;32mreturn\u001b[0m \u001b[0mobject\u001b[0m\u001b[0;34m.\u001b[0m\u001b[0m__getattribute__\u001b[0m\u001b[0;34m(\u001b[0m\u001b[0mself\u001b[0m\u001b[0;34m,\u001b[0m \u001b[0mname\u001b[0m\u001b[0;34m)\u001b[0m\u001b[0;34m\u001b[0m\u001b[0;34m\u001b[0m\u001b[0m\n\u001b[0m\u001b[1;32m   5903\u001b[0m \u001b[0;34m\u001b[0m\u001b[0m\n\u001b[1;32m   5904\u001b[0m     \u001b[0;32mdef\u001b[0m \u001b[0m__setattr__\u001b[0m\u001b[0;34m(\u001b[0m\u001b[0mself\u001b[0m\u001b[0;34m,\u001b[0m \u001b[0mname\u001b[0m\u001b[0;34m:\u001b[0m \u001b[0mstr\u001b[0m\u001b[0;34m,\u001b[0m \u001b[0mvalue\u001b[0m\u001b[0;34m)\u001b[0m \u001b[0;34m->\u001b[0m \u001b[0;32mNone\u001b[0m\u001b[0;34m:\u001b[0m\u001b[0;34m\u001b[0m\u001b[0;34m\u001b[0m\u001b[0m\n",
            "\u001b[0;31mAttributeError\u001b[0m: 'DataFrame' object has no attribute 'dt'"
          ]
        }
      ]
    },
    {
      "cell_type": "code",
      "source": [
        "df2.loc[0].dt.date"
      ],
      "metadata": {
        "colab": {
          "base_uri": "https://localhost:8080/"
        },
        "id": "dGA7CyCF_GGv",
        "outputId": "fc6c3b17-8c2c-4f35-8633-28e0a56f0e06"
      },
      "execution_count": null,
      "outputs": [
        {
          "output_type": "execute_result",
          "data": {
            "text/plain": [
              "Birth    2019-01-01\n",
              "Name: 0, dtype: object"
            ]
          },
          "metadata": {},
          "execution_count": 69
        }
      ]
    },
    {
      "cell_type": "markdown",
      "source": [
        "##### 시간대 라이브러리 사용 : pytz 라이브러리 사용 권장\n",
        "##### 참고 : https://edykim.com/ko/post/pytz-python-library-for-world-time-zone-definition/"
      ],
      "metadata": {
        "id": "RM9LGazGW4_G"
      }
    },
    {
      "cell_type": "code",
      "execution_count": null,
      "metadata": {
        "id": "fk4LkrN71PNY",
        "outputId": "ef34acec-874f-4422-eee4-bb3eac03c268",
        "colab": {
          "base_uri": "https://localhost:8080/"
        }
      },
      "outputs": [
        {
          "output_type": "execute_result",
          "data": {
            "text/plain": [
              "['Africa/Abidjan',\n",
              " 'Africa/Accra',\n",
              " 'Africa/Addis_Ababa',\n",
              " 'Africa/Algiers',\n",
              " 'Africa/Asmara',\n",
              " 'Africa/Asmera',\n",
              " 'Africa/Bamako',\n",
              " 'Africa/Bangui',\n",
              " 'Africa/Banjul',\n",
              " 'Africa/Bissau']"
            ]
          },
          "metadata": {},
          "execution_count": 9
        }
      ],
      "source": [
        "# 라이브러리를 임포트합니다.\n",
        "from pytz import all_timezones\n",
        "\n",
        "# 두 개의 시간대를 확인합니다.\n",
        "all_timezones[0:10]"
      ]
    },
    {
      "cell_type": "code",
      "source": [
        "from pytz import common_timezones\n",
        "'US/Eastern' in common_timezones"
      ],
      "metadata": {
        "colab": {
          "base_uri": "https://localhost:8080/"
        },
        "id": "4Sp90vJWZYwr",
        "outputId": "5dbe9996-66bb-495d-b532-7254e70f7ac0"
      },
      "execution_count": null,
      "outputs": [
        {
          "output_type": "execute_result",
          "data": {
            "text/plain": [
              "True"
            ]
          },
          "metadata": {},
          "execution_count": 10
        }
      ]
    },
    {
      "cell_type": "markdown",
      "source": [
        "※ 교재 설명"
      ],
      "metadata": {
        "id": "MrZeS3QnKY6E"
      }
    },
    {
      "cell_type": "markdown",
      "source": [
        "![image.png](data:image/png;base64,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)"
      ],
      "metadata": {
        "id": "HuK8YqYmIs4-"
      }
    },
    {
      "cell_type": "markdown",
      "source": [
        "두 종류의 시간대 문자열 ???<br>\n",
        "→ datetutil vs pytz &nbsp; &nbsp;&nbsp;   cf. maya<br>\n",
        "→ UTC vs LMT"
      ],
      "metadata": {
        "id": "xJmymQBVUV1k"
      }
    },
    {
      "cell_type": "markdown",
      "source": [
        "##### ※ 시간대   \n",
        "   - UTC(Coordinated Universal Time) vs GMT(Greenwich Mean Time) vs LMT(Local Mean Time)<br>\n",
        "     : 국가/지역별 시간대의 국제 표준인 UTC는 GMT로 불리기도 하는데 UTC와 GMT는 초의 소숫점 단위에서 차이가 남<br>\n",
        "     ex) 한국, 일본, 호주 가운데 지역 : UTC+9hour<br>\n",
        "     : LMT는 현지 시각을 의미한다고 생각하면 됨. KST, UST, PST 등<br>\n",
        "   - PST(태평양 표준시, UTC-8) vs CST(북미 중앙 표준시, UTC-5) vs EST(북미 동부 표준시, UTC-6)    cf) KST<br>\n",
        "   - 동부일광절약시(EDT, Eastern Daylight Time, 봄/여름) vs 동부표준시(EST, 가을, 겨울)"
      ],
      "metadata": {
        "id": "bjBALux_GR_H"
      }
    },
    {
      "cell_type": "markdown",
      "source": [
        "※ naive datetime(timezone 정보 없는 경우) vs aware datetime(timezone 정보 있는 경우)      *이런게 있다는 것만 일단 알아놓으시고...\n",
        "  - naive : dt.datetime.now()\n",
        "  - aware : dt.datetime.now(gettz('Asia/Seoul'))"
      ],
      "metadata": {
        "id": "y9As5GviX9a3"
      }
    },
    {
      "cell_type": "markdown",
      "source": [
        "![image.png](data:image/png;base64,iVBORw0KGgoAAAANSUhEUgAAA6cAAAMACAYAAADYBREmAAAgAElEQVR4Aey9/2tc13b337/i+Uf6ZzzoFwvJxiImNo4IwsE2xsZFJtTuBxXTuWmvmksUuCKN7TbOh4qExv6gCgQGNeEa3Zi4Lk0NdkyMn0/sPq6N6Ty3tTGshz0za2bNmnW+zGhmdKR5BZR99tp7rb3P6yyfc97n2/yRjP2/R/LlmTmZOlaTW6/GPnj5AX+6LgsHZmXqwGm5+lN5t93uWf92WY7MzMnJLx7t9lQYHwIQgAAEIAABCEAAAhCAQGkCf1S657A63luVIw3RNysL1yosoPakOK3LjQ+ToJ6VqZma3Ho7rI1GHAhAAAIQgAAEIAABCEAAAqMlMH5xulVriqckoC5vjXbtdhJ9T4rTR3L1g5Y43WN3fHeyqfCFAAQgAAEIQAACEIAABPY+gfGL0+0VmZ6wO6cPr51uCvIPrsvDIeRMdryX8tV57pwOATEhIAABCEAAAhCAAAQgAIExExi/OJXJe+c0W0wOtrXz4vHO6WBM8YIABCAAAQhAAAIQgAAEdpfALojT3V3h0qMP8bHePDFZej6m47DjmdAsQgACEIAABCAAAQhAAAIQ2BUC3eL05TdytvHI7Wm5+uClbF+7JEcONh8TnX7nnCyt3ZEX4Ud23sjT7TVZOjMv0zOtx0oPHpXjF6/Id78UrdcdWT7c9Dny6b3ezr+sycnWY8CLG/VO+5snsvHROTnS8p06eFROXl6T7eedLqWW3r6U7bWanHxnrvUhoTk5fn5FNrauZH+tt/5INj65IMfV58CsTB87J7Wb98XMUNoisjX/xoeKlK/7AvCL76/L4sLR9iPP0+9fkOWNJ/LarEQ/8YybiBXaD541uB1qbNc5OXSmJl/+0Jz16583pWa2YWMOm8+6QtlKT//cHLGeLEMAAhCAAAQgAAEIQAACEOgm0C1OZUuWGuJpXhZOHe18uMiIq0OXt7oEWAr3+IvWO5WmX1uIvet+MuaJ/kTLrCx925zM3U/nm2MdW5W73fOTF19faInGS9LWpq+2ZOndlgj2Yx48J1cfuCBZ1beP5Gr6WRsfo6vuf0rmtiypAO/q15yP/QJxWTGZ3W9WjtQ6vLP7deb4Xa3F5dR1eazr3RanGdt15rSsblyRhYz1Wgh+lqa+VZNDwfonltNnrsvD8CKGTogSAhCAAAQgAAEIQAACEIBAN4EMcZp+imReLt58JPUkMt7W5cfPVYDOy+r97iBJNE0vLMuNe0+k/qbZVv/Xjtixgq1zF29WlvRjve2fl+mIrFaUzk+jXNxsiWL7cymnZWX7WePu4uuf12VRBev5b+Rp9xTDWkfsHZWz1+7I0zT3t3V5ePOSEV5+TluyNDMvi59tycOXrfukb57JxuWWmA9+wqU9TvRBpPa6z8qhi+vyMIVMd3M/Vd5HZXm7e/p58W5dbolTO1ZbnKbt2mEmb57IVx9acX5Uzq7db25z2+bX6dW6LKqQPbUq288SuDfy2HA7+3X2HdfutaEGAQhAAAIQgAAEIAABCEBAJFOcHvnEP2Lbefx24Ysn3ezq9a7HT7VxY6kllOxPxhih1Bancl9W3+u98yj1dVls3Z1r9zX+XgDVNy617oKelqtuijqnTnlPVo615tcWvp3W736tos2L0zdSt8/uqsuDK3K8MVffXzqP91rB2PJri8l3V2S7625jh8lU7baO0ih3Ik5PrjnRaL6ePP3r7nGkLZy716k9/swF+arrse26bFxsMbV3brtmTwUCEIAABCAAAQhAAAIQgEAvgUxx2haDbZ/Ob2h23Qlttb/+eUuufnJJTh6bl+b7jC2RkgRboTgV+fGz1qO9Z9badz3bYvPwsnzXEm7tx3wPXJIbXiRGYrY9f7dgHi++uOnaUvVb/T3WbmHW6Pn2pfx4c1Uunj8hR46piNX17e3fFnM94rQj+KP3bduPOzu/7HgibbFrfYyg79mutq31mHWbRrvNrpP5uZoP13se8a6v6wWCmtxqB2IBAhCAAAQgAAEIQAACEIBAPoEhiNO63P3sXPtDPuH7myXEqdy/Ikcadx4vyFetjxqp0LJ39B5+fqLgHdGmSIwEdBeKtvA6IavRO6rtdivMROSXdbmod1xbd3W719n1l5w7p2835WIYQ4Wult1CbzTitHfenUewbdsjWV3QeeWV1qeLPBUIQAACEIAABCAAAQhAAAI9BHYuTrdXOu9nvl+TL7cfydNXzRdPVVyWuXMq0rkzu7heF3l7W2qNL/HOSe13nXm37yYWiLqeR487IZpLbfHZjzh9Jl+dV0F2VM5+til3f37ZfEezHa9XlGWKSXOnt1vg6hitcqYm35n5Z8aTndw57Z13LE7N49C526DMo9VmpViEAAQgAAEIQAACEIAABCaawI7F6fbHrcdaZ8zXdFtIy79z2nRoi670uKi+C3l4Rez3gNp9nGDreysWPda7+eed91f1Z1+e60/tzMqRz9xXoQZ651S/jjwrhWLarGCbgX10t9XeviBg29rC2XyESuO128qK085FBP8urIakhAAEIAABCEAAAhCAAAQg0C+BHYvTthhauCIP7ej1LVnS3yAt81hv8tXfNJ25JMu/br6D2vMuporWA3NycdO/dGonULRs7gD2fBDJfBH4gBFtbSE3K/491bZgtP1bU2i3WcHYaDPvb35wpfTPr2THG8edU5H2BYnDfy4br4o40w4BCEAAAhCAAAQgAAEIQKCYwI7FaVsoHTgqSxutn3V5dkeuLprfSS0rTuWZfHnGPtI6Lyv+o8Hmy776syiNn7sRkfrLR3Lrs0uN3wYtXnXzLugB81Myb56Zn3FJczHi9G36GZnW/E5dkR8bP/tSl4cbNTmudtu/NYn2R4JaH3Z6fX9NFj9tfhm3/dGnA62fkmk9Ei1v6vL43rrUFs7JVb1zWyJe+2KBFcJGVGd/EMmsp8Jr+7m29vvBszKVfkrml9ZFgrd1efFgS1Y/nO/8TJDGooQABCAAAQhAAAIQgAAEIJBDYMfiVF5tyZL+vqh7B3H6YEvI2a+6tgVP8IipiDxdO9f54NF7V+THaPIPrstCWwxaMdtadj+9EoVo2N4+kqtn/Nd2fbxuYdYR467fwbnWR6ECQa13hC2fi5utn9+pyy39jVTb3l4O3t3MiTcWcWo/8tSeZzePJf/l38yNQAMEIAABCEAAAhCAAAQgAIGc3zntucMmT+TqqaYA6fkS7vM78uXlc+2fkJl+55zUNp7Ij9dON4WmvYtn3vUMBYwRXj3vddotlsb86IIcf6cjLqePnZOltTvyouv3Qq1TsPz2pWyv1eSkxpmZk+PnV+TG5oosNIRXtzgVeSOPN1bk7Pv6ru2cHL94Xbafb8pSS6j1shN5ul6TIy2xPn1qWTa6fh80xVyVxTPzMq2i++DRxjw2fm5+XMrPPCved7WWSLS/M5rHvH2xwK+niLT9gjYRefH9mtTOn2hv96mZOTlypiZffv/ST5c6BCAAAQhAAAIQgAAEIACBXALuzmluXxohAAEIQAACEIAABCAAAQhAAAIjIYA4HQlWgkIAAhCAAAQgAAEIQAACEIBAPwQQp/3Qoi8EIAABCEAAAhCAAAQgAAEIjIQA4nQkWAkKAQhAAAIQgAAEIAABCEAAAv0QQJz2Q4u+EIAABCAAAQhAAAIQgAAEIDASAojTkWAlKAQgAAEIQAACEIAABCAAAQj0QwBx2g8t+kIAAhCAAAQgAAEIQAACEIDASAggTkeClaAQgAAEIAABCEAAAhCAAAQg0A8BxGk/tOgLAQhAAAIQgAAEIAABCEAAAiMhgDgdCVaCQgACEIAABCAAAQhAAAIQgEA/BBCn/dCiLwQgAAEIQAACEIAABCAAAQiMhADidCRYCQoBCEAAAhCAAAQgAAEIQAAC/RBAnPZDi74QgAAEIAABCEAAAhCAAAQgMBICiNORYCUoBCAAAQhAAAIQgAAEIAABCPRDAHHaDy36QgACEIAABCAAAQhAAAIQgMBICCBOR4KVoBCAAAQgAAEIQAACEIAABCDQDwHEaT+06AsBCEAAAhCAAAQgAAEIQAACIyGAOB0JVoJCAAIQgAAEIAABCEAAAhCAQD8EEKf90KIvBCAAAQhAAAIQgAAEIAABCIyEAOJ0JFgJCgEIQAACEIAABCAAAQhAAAL9EECc9kOLvhCAAAQgAAEIQAACEIAABCAwEgKI05FgJSgEIAABCEAAAhCAAAQgAAEI9EMAcdoPLfpCAAIQgAAEIAABCEAAAhCAwEgIIE5HgpWgEIAABCAAAQhAAAIQgAAEINAPAcRpP7ToCwEIQAACEIAABCAAAQhAAAIjIYA4HQlWgkIAAhCAAAQgAAEIQAACEIBAPwQQp/3Qoi8EIAABCEAAAhCAAAQgAAEIjIQA4nQkWAkKAQhAAAIQgAAEIAABCEAAAv0QQJz2Q4u+EIAABCAAAQhAAAIQgAAEIDASAojTkWAlKAQgAAEIQAACEIAABCAAAQj0QwBx2g8t+kIAAhCAAAQgAAEIQAACEIDASAggTkeClaAQgAAEIAABCEAAAhCAAAQg0A8BxGk/tOgLAQhAAAIQgAAEIAABCEAAAiMhgDgdCVaCQgACEIAABCAAAQhAAAIQgEA/BBCn/dCiLwQgAAEIQAACEIAABCAAAQiMhADidCRYCQoBCEAAAhCAAAQgAAEIQAAC/RBAnPZDi74QgAAEIAABCEAAAhCAAAQgMBICiNORYCUoBCAAAQhAAAIQgAAEIAABCPRDAHHaDy36QgACEIAABCAAAQhAAAIQgMBICIxOnNY35eLBo7L0bX0kEy8V9KfrsjBTk+9KdR5tpx8/PyHTp67Lw9EOkxH9jTzeWJXFM/Ny5PCsTB1o/R2el+Pnl+Xq1hN5neHZY35yXRYO1ORWT4Mz7JT9Dv0fXjstU7XbblI7rKY5lVn3jGFuXZ6VhS+eZLQWm4v8X/+8JVc/uiDHj811tvHMnBw5dk6Wrm3J4zfFY/TXY0uWDpyWqyVXKc3/+OeP+huioHdjO1/eKuiV1dzf/LOiYIcABCAAAQhAAAIQGA6B/S9OdyAmhoO4GWX3xOkj+fLMnEwduySrW4/khblW8PrVM3m4dUUWj83KoctbYpqyV72sQAv7PZKrHxhx/O6K3Ph/z3WE1IE5Wbz5sjl26N9sevH9dVlcOCrTDZE9J4fO1OTL71t+rZkPKlpy/cI5JYFj1skuH1uW7wzUhri85sXZS7nxoRGT1v/AUVn+obMpYv9me32rJodm5mXxsy15+NIM+rYuLx5syeqH8zL1bk1uverEy1zaqplt0r1uRz66bfKkJe5+yozUaXhwXRYOzpacQzNPlkpoznB7/bAqR2a6592+INO1P+hj/p01YQkCEIAABCAAAQhAYEQERidORzThvsKGYqJEhEH9WqHzRESJ0YfbZXtFpg9ckBt5ouTVupw9MC8r90oMXZZNUb+gPXE7+3W+OG2IsIPnZHX7mdTfisjbujzdvi5n3z0qS1sdURaKlhKrl+sXzDkz5A8rcsjdtY/zIkuI9dpj/zSDZt+zNzvr3zuvZ/LlmZ3dub37yVF3N7qMuHsjT7evyMnD87K09VIefn1BDr17Qa66iwnd8+1d9+72Ti3cXklcf1DmKYUy8++MxRIEIAABCEAAAhCAwGgJIE4jvv2IkMA/W0QEnUdturcqR3ZNnHbuXi34O4ZJQJy6Lo/b6/9IVhfmZHm7ZQi3wX1ZfW9WFtcDEfa7ZZk+vCLqHoqW9ljZC3c/nZfpj+/EHcI5xV1//Gxepi5umruMInFeZAmxXnvsn8Yfhzhtsd+w7LPF3etXj2R7bUXOvjcn0wvLsvFz55ni+g/XZfHYnEyfqslVdze/SbN33WPKIuF2Rpxm4cIOAQhAAAIQgAAEKk1ghOL0tizNzMrSt7u4/n2Iia5ZDurXChKJiMdfnHZirGvEEVbqcuvy0YLHeufkSG0cj/V2VvO7X8/Jkc/udwzPv5GzMzW5le6Gpv/CbZAthpr9z8mXvzTdQ9HSbMr5f11ufGju3vqe4Zx8JxFJj7DO9N6JTnnR+3hplhDrtUd5paMP9bFeDWrKBs/3VuWubp9GW9oeZp303c/6piwenJPj51fkxr1n8fvMb+vycOu6LJ05KtPvrshdM5aK7YEf60WcdtGkAgEIQAACEIAABPYKgS5x2jyhX5e71y7Jcf1wzsF5Wbx2r+sOUFq51z9vSi2dWLZOTqffvyRXf/B3VWZFTzDTiXWXGGkRerp2TqY+XG/Hf33/G1k61XoHb2ZOFi5/Iz92brpkcn3x7aqcfb/jd/ziddn+/krPB2zy5+1OthvrdlqumnfqGuO81xrn4Lyc/e1tedE6YW/wsyfrabl1wt5os48atoTOjXQXSeMdPi1LN9M7iW/kx7XONpg+tSwbLdFlAeTNxfZL8Z5ur0nt/Ak58o55v7H1QaQvtzMERHeQZq0x7z+XjS6REnTME3JJvMzMin0MtZEH9k5j6J99h7C+fkmmdnzn9I4sH47ztLGG4Zzcuv+yLovvzkrPnWIZzp3TXnHbGb/xQaTL5+SI/yDSwgWp7eCDSC820/usp+Xqg85YzaWciwW+a1/1XmGe5d7cZ7mXUxGnWbiwQwACEIAABCAAgUoT6BWnM7Ny5OK6PHzVVISvn23K0rvpbtIzsyK3pbZQk40H9eZdkbd1+fHz0zJ1uCa32vq0KfRUnEp67PLYaniHZFEfFWzccToqizcfNd8nfPNEblw8KlPnv5GnZvSexe0VOXTgqJxduyf1NO10V+bmJTnU+CiK/bJsmXln3bUTad6dOi0rKuae35GVU7NyyD0GGt3h6hGnbzfl4oFZmU4cf2pCe/1zEjbzsvzJpeY2aJjfyOOvLzXuLm0bQVh2Lj2sdmxofWDJi3BTb1yEyBFy2x8flalTp2Wh/YGe5iOjRz4xL702/Dt35VTs2fXWd04fbtTk+MyctPNIMh73LFr3xvu5sy6PjVPOOqULAI9b8zj5We/FnBQlyovsu4S9Ai32N/Mb9uKbJ7Lx0QmZTu/4dl140oH2gzjt5JheSNK1o4QABCAAAQhAAAIQGC+BXnF6eFm+MyIoTefF1xcaAvFF7tzSXSfzzqA4cfr2ttQOu0cd08l++1HOumxcnJUjnxqBksZr3GVzfm4e6aTdv9+XuqRHR6e6vs7pHBtVP+8scZrxvuP9K3LkwCW50RblsQjpEacNPvNdX2NN03n4+YlAHKU5npDV9p2r8nOJ1ngstta29T/jo+Iy3Y1OTNLP69zdrMn0Bxe6P2qUIwRffL/WubueBH66a+8+sNPg3RbM3Xe/4/VPjz/PyXTtiiy/NyuHavartC2PcE7Nu9JLC80vIvt52LFicZnztd70aHDe13ob8zHiqr2+JWxd7/vaWaYb90/k1rWaHD84K0c+vC7bz117u9orTru5l5iHmXPnZ3Z6hXl7SLfQGE8fJ9Y27pwqCUoIQAACEIAABCCwpwj0ilPziG17TUqd7PkTSidOW2LRis+GOPm1/hZlekc1EqEv5avzeV8ZbY4bfiTn2/STGPbOaXuNzIKfd4Y4bfy+Z7cIbQZpPgpq362NREjjJNo+1tsQp72Pxzb6LW2a+aVFN8cSc2nEMSf+ncdBiwVDRyS4aey02rgznral/pxK633Y9JMp280700cOnpaVdJcuFILdE2isoxcmrS55bd1RWrXGh6NaIrZ1B39ps/vnaaI51TcuyfTh01K7eb/9eHcYX++c7vR3Tv2HpbIGG9ieLhLNyZGzK3LjX93698RsidOSv3Pa455pcPme2S/jDnmp/VUK2iuuc4aiCQIQgAAEIAABCEBgxAR6xWl0sh+c7KW7Vz3vMB7ovGPaPPGzdRFJj022H+1Nd//mpPa71ho2BFe2cNLHOnt5tD685F47a/QLBE7xvDPEaUPoZs+v/fiyihAnIhpiqUec9grnWFS5k/U+5tLLaxiW5nwKBe/CFfmxPVzzDuHxj+0dyaY4tb+xWv/dihw/tiJ3g23XDtVaiFk1G/PafBx5tdV4dH3hcxXNrUe4DxyVxXXzOHuJOfXEHqIhuujRDF9ye7jfTR3i1HpDlWKVJW6b63PRX6PpHYWv9QZMMEEAAhCAAAQgAIG9SmAgcdp8NHNeFj/bkocv9XlWJ6D8Y70NQvdk5Vjr7mh6HNZ8wGbwuxjNccM7p0lUmzun5eadIU5LnWw30yASEUMVp33MJbrbN5ZkjebY9bj4m+Z7yu33Tt2sIn/XJU+A5rV1hXlzX1ZPzTa+pPywa34iDaF88JLoK9F5LBvjFd2pnpnv/FRO1yRSpfguXiOvBr7z+kY2/h93sahnDt5QQvQevCQ3osd+S2y/vHXe/mTefNk4vii0uPEmFqc/rcnJg7FP+4JKLT2xUczcE6EOAQhAAAIQgAAEIDA6AgOI0+Zjtvbx3Mb0Xq3L2aI7pyKSfkcy+abfgez+em/zRPjkmrlTVXK9tz+eC945rcvGkn3ntOy8M8Tp2y1ZmjF3enPmNnJx2sdc8gRVzioUNqXt2D7RzxJlXXdOXcj00zEHoy/Atvr1iJvbUisSHDqPy1uxaHFTSNUX/3BBps9cFy9Mg66lHjUO/VrGjaX4K77N5p0JpTJibsq9w5o319y2N8/k7s3l5jupWT9B1Nh+BQKxsb3KvA+cPZvSFyHCEDtjHobECAEIQAACEIAABCAwMIEBxGnzw0XTS+vytHXTtP7LHVk9MydT6XdN24/XphM/W2/NMd0xPXZBzr43L6vmZy5Ta/PO5glZ2njU/Opu2dVKJ8IzR+XstTvN9/7evpTtT0/L9HvzcqR957TsvNNE1mXxQPpYUfdv2DROhN+9IFe3nzW/Jpwxv4Zw+3C96x3Ehu+wHuvVr9GWmMtoxGnzQkKZxy4zEDXN7k5lV98ecdrVWljZmWjJCL/DOUUXLToj7UQoNbdH599eJ+rwlt7I03ubcvXyaZmemZXps1dk+1n3v4+usUqx2sk6N0fb2XbOGL++KRcPzsnizaJ3brvWmAoEIAABCEAAAhCAwA4JdInTx1+cbv8uZ1dc/87pq9uycv5E4yQ13T2bfuec1DaeyMZlK0Zb74J+2xVJRJpfmp3qEmqdPi++vy6LC53fT23cncvo2/ESCX8f9X7za8DtL8aWmneKWm+K28ZP0di7XennQpblpP0dyXT3x7+n+9M3nd8ubYnjBtuuL6SmE+M+3zntYll2Ltd7fuvVchtseUjiNG/wUuImO8DOREtG3B3OadTidMcXC/xq11/Kw+11ufrRhebvHqff4b22JdsbK3I2/Tbv4RNy9pM12daflLL+DVa9H/yyXaTxc0oVvHOKOO3aTFQgAAEIQAACEIDAuAh0idNxDco4YyTw9o4sHyvzeGUgsnOmWeqx3ujOeU7MrqYkbmZq0r6w0NVYXGmI08Z7hcV9S/cYhjjNfGf0vqwulNlOsZgr9VhvupByZi3/N4MNjPTo/fQ7J+TsR9dl496z5m8am/bXz+7Jjd9ekpPvzMlx8zGpRpeGwCuxPu+uiP39XhO+1OLOLkK07pwO/WvDpaZOJwhAAAIQgAAEIAABRwBx6oBQhQAEIAABCEAAAhCAAAQgAIHxE0Ccjp85I0IAAhCAAAQgAAEIQAACEICAI4A4dUCoQgACEIAABCAAAQhAAAIQgMD4CSBOx8+cESEAAQhAAAIQgAAEIAABCEDAEUCcOiBUIQABCEAAAhCAAAQgAAEIQGD8BBCn42fOiBCAAAQgAAEIQAACEIAABCDgCCBOHRCqEIAABCAAAQhAAAIQgAAEIDB+AojT8TNnRAhAAAIQgAAEIAABCEAAAhBwBBCnDghVCEAAAhCAAAQgAAEIQAACEBg/AcTp+JkzIgQgAAEIQAACEIAABCAAAQg4AohTB4QqBCAAAQhAAAIQgAAEIAABCIyfAOJ0/MwZEQIQgAAEIAABCEAAAhCAAAQcAcSpA0IVAhCAAAQgAAEIQAACEIAABMZPAHE6fuaMCAEIQAACEIAABCAAAQhAAAKOAOLUAaEKAQhAAAIQgAAEIAABCEAAAuMngDgdP3NGhAAEIAABCEAAAhCAAAQgAAFHAHHqgFCFAAQgAAEIQAACEIAABCAAgfETQJyOnzkjQgACEIAABCAAAQhAAAIQgIAj0CVOX79+I//7P17I4//1i/z85P/nDwbkADlADpAD5AA5QA6QA3s+B9K5bTrHTee6/AcBCFSXQFucpn+s6R/uf9b/IPU//Jf85//5g/zXf/+3/Dd/MCAHyAFygBwgB8gBcoAc2MM58Pr1a/nDH/6rca6LQK2uMGFmEGiL03Q1KQnTJErTH6IUYU4OkAPkADlADpAD5AA5sJ9yIAnUdM7LfxCAQDUJtMVpumvKHVMOQPvpAMS6kM/kADlADpAD5AA5YHMg3UFN57z8BwEIVJNAW5ymd0y5a8oO3O7AWSYfyAFygBwgB8gBcmC/5UA65+U/CECgmgQQp3v4/Yn9drBgfTgBIgfIAXKAHCAHyIFR5wDitJqihFlBIBEYQJyuy5/88R/LH//xn8j6Phd27y3+2a6+e7vb44/64EB8TkDIAXKAHCAHyAFyYNw5gDhFBEGgugT2mTgdrnAuKw7L9vM73yK/onYfjzoHeHKAHCAHyAFygBwgB/JzAHFaXWHCzCAwgDjN/we/uzvE/SVOd5dllbczcyM3yAFygBwgB8gBcmCwHECcIoAgUF0CA4jTLAGo9j+WP/n/dNk++tu0ddqyHg1W36g9L4b1S76Rf/FOLN2t1DuWWqadv9qtzdt9W167jRf5qW8q7Z/6FbXbftaf5W6e8IAHOUAOkAPkADkwWTmAOK2uMGFmEBi6OFXxqWXn3VQrHpNo1XqvgG365LVnCc/Ip/wO14pEK+6sPR3Aiup6kPP9vG/Urr6+r9rVx5dF/dWfsnw+wApW5AA5QA6QA+TA/ssBxCkCCALVJQpjxngAACAASURBVLAL4nQQMao+ReKzqD17B6tizx6EIltq93Zf1xiR3drssvrYMmpXmy+jeWXZ7BgsZ+cEbGBDDpAD5AA5QA7svxxAnFZXmDAzCCBOW4/NqtizByFrS8v2L6uft1sfXdY+qa7LURm1q82XyT/Zor8oNrb9d7Blm7JNyQFygBwgB8iB4hxAnCKAIFBdAojTEuJUhaDu8IvqWf3UrqWPo3Yto3a1+TL5qE39KYsPUDCCETlADpAD5AA5MFk5gDitrjBhZhBAnCJOc+/ecsCerAM225vtTQ6QA+QAObDfcwBxigCCQHUJ7II41Y8ZRe+HWptd1gNFZNO2VBa12769y/bOY1rWupZpZ23tuvO27WrTvrbubVl+6hO1q82XPnZeDG2j7M0BmMCEHCAHyAFygBzY3zmAOK2uMGFmEBi/OD3/J/InjZ95UZHqd4AqMKN2bdMPJHnfVNc+kX/Uv9uWRF+W8LN2XdYDmPVTWyrVrqVts+3erm3eruP6UvvpOFqqnbJ7O8MDHuQAOUAOkAPkwGTmAOIUAQSB6hIYQJwOuiNricbz6zxG6n67lIPjoDmFH7lDDpAD5AA5QA6QA/3lAOK0usKEmUFgjOK0vx0HO1p4kQPkADlADpAD5AA5QA4MOwcQpwggCFSXAOKUu5jcySYHyAFygBwgB8gBcmBicgBxWl1hwswggDjlYDQxB6NhX3klHlfzyQFygBwgB8iBvZcDiFMEEASqSwBxijhFnJID5AA5QA6QA+QAOTAxOYA4ra4wYWYQQJxyMJqYgxFXt/fe1W22GduMHCAHyAFyYNg5gDhFAEGgugQQp4hTxCk5QA6QA+QAOUAOkAMTkwOI0+oKE2YGAcQpB6OJORgN+8or8biaTw6QA+QAOUAO7L0cQJwigCBQXQKIU8Qp4pQcIAfIAXKAHCAHyIGJyQHEaXWFCTODAOKUg9HEHIy4ur33rm6zzdhm5AA5QA6QA8POAcQpAggC1SWAOEWcIk7JAXKAHCAHyAFygByYmBxAnFZXmDAzCCBOORhNzMFo2FdeicfVfHKAHCAHyAFyYO/lAOIUAQSB6hJAnCJOEafkADlADpAD5AA5QA5MTA4gTqsrTJgZBBCnHIwm5mDE1e29d3WbbcY2IwfIAXKAHBh2DiBOEUAQqC4BxCniFHFKDpAD5AA5QA6QA+TAxOQA4rS6woSZQQBxysFoYg5Gw77ySjyu5pMD5AA5QA6QA3svBxCnCCAIVJcA4hRxijglB8gBcoAcIAfIAXJgYnIAcVpdYcLMIIA45WA0MQcjrm7vvavbbDO2GTlADpAD5MCwcwBxigCCQHUJIE4Rp4hTcoAcIAfIAXKAHCAHJiYHEKfVFSbMDAKIUw5GE3MwGvaVV+JxNZ8cIAfIAXKAHNh7OYA4RQBBoLoEEKeIU8QpOUAOkAPkADlADpADE5MDiNPqChNmBgHEKQejiTkYcXV7713dZpuxzcgBcoAcIAeGnQOIUwQQBKpLAHGKOEWckgPkADlADpAD5AA5MDE5gDitrjBhZhBAnHIwmpiD0bCvvBKPq/nkADlADpAD5MDeywHEKQIIAtUlgDhFnCJOyQFygBwgB8gBcoAcmJgcQJxWV5gwMwggTjkYTczBiKvbe+/qNtuMbUYOkAPkADkw7BxAnCKAIFBdAohTxCnilBwgB8gBcoAcIAfIgYnJAcRpdYUJM4MA4pSD0b48GL23+Gc96xXZhn01lnhc4ScHyAFygBwgB6qdA4hTBBAEqktgx+J0t0/4d3P83Rw7Hfh2e/yqHnzzuOS1VXV9mFe1T3LYPmwfcoAcIAf2Vg4gTqsrTJgZBMYmTgcVBUV+Re2jPGCUHbtsPz/XIr+idh9vVPWqzEPXL28+eW3qT7m3TjLYXmwvcoAcIAfIgX5yAHGKAIJAdQnseXHaz85o2H3LCp2y/fz8BvXzcUZdr9I8y8ylTJ9RMyM+J1LkADlADpAD5MDu5ADitLrChJlBYCBxmk7u9QRfy7SDVbu1ebtvy2u38SI/9U2l/VO/onbbz/rnLVsfOye1W5uOn9WW1259fEydX2RXP42tfbXUdi3VnldmjZN8NI6WURxts3Gszdqtv/bxNh3XltonK5a2Rz62jeXuf0vwgAc5QA6QA+TAfssBxCkCCALVJdC3OLUn/1Y8WHvaiRXVdUfn+3nfqF19fV+1q48vi/qrf1ap8TSO1rVUv6J6Vj+Nm9eubb6v2nVsXxb1V/+o1Fi2zdrssu2Tln2b1rXU/nl126bLvsyKo3Zbqq+1sczJFzlADpAD5AA5MBk5gDitrjBhZhDoS5xGJ/WRLe3cvd3X9QAQ2a3NLquPLaN2tfkymleWzY6R1UfjF/Ut28+Pk+Wn40XtavOlj50XQ9u01FhaT6W12eWsPtbu/X09iqe2rFLja7vWo7JMn8gP22SctLCd2c7kADlADuzvHECcIoAgUF0CQxWn6aTf/tmde5YgsP3tsvpm+eW1q48vk48dwy5rvKxSY9l2a7OxrF3HtH667H20btt1OSr9OKmP2nypbTqGLaPY1qaxsmxRu45nfeyy97F1u6w+assqfT+tR6XGiNqw7e8TErYv25ccIAfIAXIAcVpdYcLMIDA0cepP+IvqenDw/dSu5SDt6uPLFFNtGr9sGfmpTUuNVVTP6qd2LX0ctWsZtavNl8lHbepftoz8rM0u25hZ9mgutq9d1nhqyyp9P61HpcaI2rBx0kIOkAPkADlADuzvHECcIoAgUF0CiFP3MaWsA1IkaNSmpfoW1bP6qV1LH0ftWkbtavNl8lGb+pctIz9rs8s2ZpY9movta5c1nrXpspbaJ4pr23Q58tM2yv19QsL2ZfuSA+QAOUAOIE6rK0yYGQT6Eqdph25P7NOy1rXUPrautuiA4Pv5vlG7jRO1q82XPrbG0X5Z9ciefNRPS41v62rTGLb0/XzfqL2sv/pq6WNrHNveTx/rZ5c1rpa+TetaFvWL5qS+WmoMLbPsUSz1oeRkhRwgB8gBcoAcmIwcQJwigCBQXQJ9i9O0404n/yoAtIzsts232wOAxtPStuX5aVvU37ZlzSNvPB9T69bHxvV226Zz8TZrt/46lm23Nl3Oiqd+trQ+Olaev/bX0vt4X23X/rbUNutjl1NfX1dbll3b7Ti6HPmUadM+lJNxcsJ2ZjuTA+QAOTCZOYA4ra4wYWYQGEicsjOfzJ35XtrukUCNbHtpnZgr/+7IAXKAHCAHyIGd5wDiFAEEgeoSQJyWfOeUg8HODwYwhCE5QA6QA+QAOUAO7HYOIE6rK0yYGQQQp4hT2e2DBONzokIOkAPkADlADpAD48oBxCkCCALVJYA4RZwiTskBcoAcIAfIAXKAHJiYHECcVleYMDMIIE45GE3MwWhcV2QZh6v/5AA5QA6QA+RAdXMAcYoAgkB1CSBOEaeIU3KAHCAHyAFygBwgByYmBxCn1RUmzAwCiFMORhNzMOIqdnWvYrNt2DbkADlADpAD48oBxCkCCALVJYA4RZwiTskBcoAcIAfIAXKAHJiYHECcVleYMDMITLQ43f6f/6NnR5xsZf7GdXWPcbiSTA7sbg5E+wm2ye5uE/jvD/7829of23Ev/ntEnCKAIFBdAgOJU3tAsctZO6ioj9pS6f98HNvu26K67W+Xfd/U5m1RvWy/yHentkkdO3HbzXUfdLvt9px3c/zdHHtU+ZK1Tn/0p38q9s/mi7WnZduWliOb2q2v9xukbuNljTtoXO/nx9K677eT+jDWQefly2hewxgvxc0bK68tmlMZW17MvDadqx/D+2hd+2ldS7X7MrV7W9a/Md+POkJ2mDmAOK2uMGFmENh1cao7m6wDlLf7uvqXKb2vr2fFKNsvy38n9r0w9qBzLPIrat8J11H5lp1z2X5+nkV+Re0+3jDrZccu28/PrcivqN3HK1OPYkYn2GrT0sa2trRs69qvrE37lylHETON2886lJln2T5Z45b1134RF22z5SjH0zlo6ce19X6X82LmtaVxUntRHz+fsv2zYkf/xvwY1BGmw84BxCkCCALVJVBpcRodtCJb2Z2W9/V1Hye1ax+77Pvt17que9H6le3n4wzq5+MMqz6M+ZSNUbafX7dB/XycUdTLzq1sPz/HQf18nLL1rPHyTsbz2nTcMn1S36ifxihTRv6RrUws3yeKE9m8307qKf4wxigbY5Tj6Ry0tFwim20vWo781aaljeFtvp76RjaNEbVl2SJ7ipP1b03HoEScDjsHEKfVFSbMDAJ9idN0AIn+inYa0YHH23w9xYxsRWPltft4vq5jJnvUVqbdj6+xtMxr9206nrf7uUV1Hc+3+Vi+rn5+bLX7eNbu2zSG7aPjWVvkp77aX0v1K2q3/dS3qMyaRxk/9dVS5xfNQ21a+vhq11Lbta6l2m2Z2mw9Ldv+ee22n4+RVbc+Nrbarc3ORdt9XLVrqe1a11Lttkxttp6Wbf+8dttPY0T9tc2XetKtpW33Nl9PfcvabNxBlqNxhhVnWLGj+WhsLaM+ZW1lYmgfLcvGLttP42pp/SKbbR9kWWNqaWN4m6+nvpFNY0Rt3qZ1LdVXy37+rakPJYJ1JzmAOEUAQaC6BPoSp2lHYA8idjlvJxH18zZf92PlxS/b5sfw9bJx+unnx7B1u5xi+npZm/WzyzrPyKZttrT90rLWtdS+RfWsfslufe2y+tgyalebL31sjaP9tD7s0sZPy1rXUscrqmf1S3bra5fVx5ZRu9p86WNrHO2n9azS9kvLWtdS/YrqWf2S3fraZfWxZdSuNl/62BpH+2W1az9b2hNuu6x9vM3XU7+yNo05SBmNMUicvPmmMezfoPG9n85dS9/eT93OT5e9v46jpW/fSd3GtMsaM7Jp2yCljWeXNZa3+Xrql2z+L8tf+2u7rUexU7v9d2f9WEaAjioHEKfVFSbMDAKI0xF/Ot4fdH3d7nijtjI228cua+zIpm1aRn0iW+rv7b5eNmaWXxl/9dUymleWTePvtLRja6zIFs2jbD/vm+WXN776+NLHzouhbVpqLK2nMrJF9rL9vG+Wn84halebL33sKIb6aFtU+pNtX08+3ubrUZ8sWzSHMrZozDJ+WX2ieGVtWTGz7DauXc7qX2SPYlhb1nJR3DLtNnbq7+tZtjKxoz5Z8ZNd/7xflk9Wv6L+tt0u23hl/q3Z/iwjWneaA4hTBBAEqktgYsRpdPDztlTv56/MzjEaw/r58WxbWvb+kc328fG07uP6uo2hbdamcbTUPqm0/bxd+9tS+2T55bWrjy91HnYcXdZ4wy51Djauten4Wmb183btb0vtk2y6HJVRu9p8mfyTLfqLYlubxsqy+ZhZ/bzd+9lx7LL10+WoXW2+TD7JFv3lxdO2VEYn2mVsUR+Nl9rsnx1v0OWs8QaNp3Mt4z+MsW0Mu1xm/LJ9bNys5bKxsvrZuLZPsvs/2z7ocjReGVvUJ5qD7ZeW/Z/6+H5qt6X++7Q2lhGgo8wBxGl1hQkzg0BpcRqdxKmtaAcSHXi8zddTzMhWNFZWexQrskX+ZfuV8bWx7HLy9fUsm7V7H1+P5hTZIj+1aal+RfWsfmrX0sdRu5ZRu9p8mXzUpv79lv36R/3VpqXOoaie1U/tWvo4atcyalebL5OP2tS/bBn5qU1LjVVUz+qndi19HLVrGbWrzZfJR23q78u8dnvCbf0iu7f5uvW3y2X7WR+/PIwYPmaql41btl80RjTOTuMVjePj+3qWf5G9nzj99M0aNytGZPc2X+93jNRfY2ipMXxd7Xn/1rQPJWJ1mDmAOEUAQaC6BEqL07RTsAcQu1y0w4j6epuv+/F0jKiftmWVWT6Rvawtayxv9/Fs3S4nP1/Pslm79/F1P5+seuSnNi3Vt6ie1U/tWvo4atcyalebL5OP2tS/37Jf/6i/2rTUORTVs/qpXUsfR+1aRu1q82XyUZv6ly0jP7VpqbGK6ln91K6lj6N2LaN2tfky+ahN/X2Z1Z51gp38ozZv83U/rtbL9tP+vtypv49n61HssjYbp2g5xYz+ivzy2vPmGY0V9c+L79v69e+3fz/jRbG9zddT/LI2nYv2T2X0p/20zPq3pu2UCNNh5wDitLrChJlBoNLiNO2M/EHL1/N2WKlvXv+oLbLljVHU5uPZul+2dY0b2fLaov6RTWPY0vZLy1rXMvW1dvW17WrTvrbubVl+6hO1q82XPnZeDG0bRqnz0PG1rqW365i2XW3a19a9LctPfaJ2tfnSx86KoX7arqW1p2Wta6nxbV1tGsOWvp/vG7WX9VdfLX1sjWPbs/roibf62DJq8zZfT/5lbH5udtxoOYrp+/UbU/2j2GVsg46XN26/McvMc9Tj5cX38xvG+vUznh8/+ebZ8tp0XC2jvv2un8aiRLDuJAcQpwggCFSXwFjEadqBpAOQ/fM7lbwDVJ6fj2PHitqsLRozslmffpd9vKiutlTqso7j62pPZVabxtHS+hQtWx8b39ttm87F26zd+ts5ZNnV1/a1Nh1LS+2n8bRU+yhLO5adj7fbNl0Xb7N262/nn2VXX9vX2nQsLbWfxtNS7Vr6/mpPpfWx/bzdtnm/KJ71j9qtTZf9GMmuNl9aHx1L+2ib9be2dIId/Wkf36Z2LaMT9NRW5BfNT2NGpY+nddu335jqO6510PG0jMYdZB2UhZYa35fDGE/H8KWOlWXX9n7Xz8fTusbTupZq1zLZddmW2l/Lsm2+n62n5X7Xz/tTR6QOkgOI0+oKE2YGgb7E6SA7gCr7ZB0Uk73or8rrxdw4WJMDw8uBrP3EOBmPYg6jiJnHZBTjjSLmuNehSuPlzWUUbePefqNYB2IOb187TpaIUwQQBKpLYKLF6Th3hIy1Nw9gbDe2GzlADpAD5AA5sL9yAHFaXWHCzCCAOB3x75xyQNtfBzS2J9uTHCAHyAFygBzY2zmAOEUAQaC6BBCniNPw/SIOvHv7wMv2Y/uRA+QAOUAOkANxDiBOqytMmBkEEKeIU8QpOUAOkAPkADlADpADE5MDiFMEEASqSwBxysFoYg5GXEGOryDDBS7kADlADpADk5QDiNPqChNmBgHEKeIUcUoOkAPkADlADpAD5MDE5ADiFAEEgeoSQJxyMJqYg9EkXRVmXbkLQg6QA+QAOUAOxDmAOK2uMGFmEECcIk4Rp+QAOUAOkAPkADlADkxMDiBOEUAQqC4BxCkHo4k5GHEFOb6CDBe4kAPkADlADkxSDiBOqytMmBkEEKeIU8QpOUAOkAPkADlADpADE5MDiFMEEASqSwBxysFoYg5Gk3RVmHXlLgg5QA6QA+QAORDnAOK0usKEmUEAcYo4RZySA+QAOUAOkAPkADkwMTmAOEUAQaC6BBCnHIwm5mDEFeT4CjJc4EIOkAPkADkwSTmAOK2uMGFmEECcIk4Rp+QAOUAOkAPkADlADkxMDiBOEUAQqC4BxCkHo4k5GE3SVWHWlbsg5AA5QA6QA+RAnAOI0+oKE2YGAcQp4hRxSg6QA+QAOUAOkAPkwMTkAOIUAQSB6hJAnHIwmpiDEVeQ4yvIcIELOUAOkAPkwCTlAOK0usKEmUEAcYo4RZySA+QAOUAOkAPkADkwMTmAOEUAQaC6BBCnHIwm5mA0SVeFWVfugpAD5AA5QA6QA3EOIE6rK0yYGQQQp4hTxCk5QA6QA+QAOUAOkAMTkwOIUwQQBKpLAHHKwWhiDkZcQY6vIMMFLuQAOUAOkAOTlAOI0+oKE2YGAcQp4hRxSg6QA+QAOUAOkAPkwMTkAOIUAQSB6hJAnHIwmpiD0SRdFWZduQtCDpAD5AA5QA7EOYA4ra4wYWYQQJwiThGn5AA5QA6QA+QAOUAOTEwOIE4RQBCoLgHEKQejiTkYcQU5voIMF7iQA+QAOUAOTFIOIE6rK0yYGQQQp4hTxCk5QA6QA+QAOUAOkAMTkwOIUwQQBKpLAHHKwWjXD0bvLf5Zzxwi2yRd1WVduYtBDpAD5AA5QA6MJgcQp9UVJswMAjsWp7stInZz/N0cOx2wdnv8YRw089Yhr20YYxNjNAd9uMKVHCAHyAFyoMo5gDhFAEGgugTGJk4HFRpFfkXto9w5lh27bD8/1yK/onYfr4r1vHXIa6viujAnTsbIAXKAHCAHyIHq5wDitLrChJlBYM+L0908CJQVT2X7+XUZ1M/HqWq9zPqV6VPV9WNe1T9BYRuxjcgBcoAcmLwcQJwigCBQXQIDidMkGFQ0aJl27mq3Nm/3bXntNl7kp76ptH/qV9Ru+1n/vGXrY+ekdmvT8bPa8tqtj4+p84vs6qexta+W2q6l2vNK7atl1DdqS7bU15fqr3atR2WZPpEftu5/E/CABzlADpAD5AA50MwBxGl1hQkzg0Df4tSKhbSsdS11x1dUz+qX7NbXLquPLaN2tfnSx9Y42k/rWaXtl5a1rqX6FdWz+iW79bXL6mPLqF1tvvSxNY7203pU+j55ddumy77UMdSu9ags0yfyw8ZJGDlADpAD5AA5QA5EOYA4RQBBoLoE+hKnkVCIbGlH4O2+rjuLyG5tdll9bBm1q82X0byybHaMrD4av6hv2X5+nCw/HS9qV5svfey8GNqmpcaK6r4t9VFbVhnFUZsvNYa3U+eEgxwgB8gBcoAcIAcGyQHEaXWFCTODwFDFaRIS9s/uMLJEhu1vl9U3yy+vXX18mXzsGHZZ42WVGsu2W5uNZe06pvXTZe+jdduuy1Hpx0l91OZLbdMxbBnFtjaNpTZbt8u+Xdt86ftpPSrVN2rDxkkJOUAOkAPkADlADvSbA4hTBBAEqktgaOLUi4iiuu5IfD+1azlIu/r4MsVUm8YvW0Z+atNSYxXVs/qpXUsfR+1aRu1q82XyUZv6ly29n63bZY2ntqzS99N6VGqMqA0bJyTkADlADpAD5AA50G8OIE6rK0yYGQQQp+5jSlk7uEgkqU1L9S2qZ/VTu5Y+jtq1jNrV5svkozb1L1t6P1u3yxrP2nRZS+2Tyshm28v28T7UOVEhB8gBcoAcIAfIgawcQJwigCBQXQJ9idP0j9wKirSsdS21j62rLdpJ+H6+b9Ru40TtavOlj61xtF9WPbInH/XTUuPbuto0hi19P983ai/rr75a+tgax7YP2sfGsMs2nrdnja9262ttLHOyQQ6QA+QAOUAOkAM7yQHEaXWFCTODQN/iNO0MktBQsaFlZLdtvt3uVDSelrYtz0/bov62LWseeeP5mFq3Pjaut9s2nYu3Wbv117Fsu7XpclY89bOl9dGx8vy1f1YM26598uJFbernY2k9y0fbKTk5IQfIAXKAHCAHyIF+cwBxigCCQHUJDCRO+90J0J8DR14ORCI0suXFoI0cIwfIAXKAHCAHyIEyOYA4ra4wYWYQQJyWfOe0zM6OPhwUyQFygBwgB8gBcoAcqHYOIE4RQBCoLgHEKeJUOIhW+yDK9mH7kAPkADlADpADw8sBxGl1hQkzgwDiFHGKOCUHyAFygBwgB8gBcmBicgBxigCCQHUJIE45GE3MwYirzsO76gxLWJID5AA5QA7s1RxAnFZXmDAzCCBOEaeIU3KAHCAHyAFygBwgByYmBxCnCCAIVJcA4pSD0cQcjPbqFV7mzd0JcoAcIAfIAXJgeDmAOK2uMGFmENgVcbr9P/9HKIgie7Lpn90x27522fbJW9aYWvq+Pqb2s6X3SXXvF/Xp1+Zj2jnochTT+0V91Gb72mVt32kZxUy2Mn87HRv/4R3QYQnLUeZAtJ8Y5XjEJp/JgdGct1SdK+IUAQSB6hIYSJzaEwi7XHZnlOWTZY/i2r52Oeo7iK1MzNQn+htkvOSTNWaW3Y4T9cmyJbv+aQzb1y5re1apcXzp+5eNWbafjz+M+qSOndjt5roPuu12e867Of5ujj2qfMlapz/60z8V+2fzxdrTsm1Ly5FN7dbX+w1St/Gyxh00rvfzY2nd9xuknjV3HUPLQWJbH43jS9tHl1MfXd5JmTdWXtugY+bFHLQtzSX5+jn5eFrX/lq3pY2R9e/P9tlPy4jT6goTZgaBsYvTtAPM2gl6u/b1ZdpB2r52uWjn6WP5uvqXiRn1iWwas6jM8s2y23hRH2/z9Sz/vH7WJ2/Zx/D1LN+y/bL8d2LfC2MPOsciv6L2nXAdlW/ZOZft5+dZ5FfU7uMNs1527LL9/NyK/Irafbwy9ShmOpH2vmrT0rZbW1q2de1X1qb9y5SjiJnG7WcdysyzqE8/40XrXBTftpf1z5qTjVVmORpPbVraOJHNthctR/5q09LGUJuWUVuypfaiPtZXfbzN16N/f77PfqojThFAEKgugV0Rp2kHF+0II1vWzjD1tX9Z/bLsdiy7rP0jm7ZpGfWJbNq/qMzyzbLbeFEfb/P1LP+8ftYnb9nH8HXvm9q1j132/fZrXde9aP3K9vNxBvXzcYZVH8Z8ysYo28+v26B+Ps4o6mXnVrafn+Ogfj5O2XrWeHkn4XltOm6ZPqlv1E9jlCkj/8hWJpbvE8WJbN5v0HoUu6ytnzGjmJF/6le2b+SvtiiG2rTUvqmMbLa9aDnyV5uWNobatIza1Famj/ZNZdTftuty1r9Dbd9PJeK0usKEmUGgL3GadlzRX9kdlt/xFdVTXDueHcf62mXbJ2s56u9tvu5jaXsq/Z/vW7auMX3/LLvtF/Wx80p9oz4aw7bZZW3vt/QxfF3nk+xRW5l2PyeNpWVeu2/T8bzdzy2q63i+zcfydfXzY6vdx7N236YxbB8dz9oiP/XV/lqqX1G77ae+RWXWPMr4qa+WOr9oHmrT0sdXu5barnUt1W7L1Gbradn2z2u3/XyMrLr1sbHVbm12Ltru46pdS23XupZqt2Vqs/W0bPvntdt+GiPqr22+1BNtLW27t/l66lvWZuMOshyNM6w4w4odzads7LL9ojGSrYy/9tEyK9ag9ry4eW1lxov8I5vG0jYt1Z5K+lgHhgAAIABJREFUb/P1qE+ev22zy/38O7R+e3EZcYoAgkB1CfQlTtMOyO687HLRzimrr7XbZT+Wr9u+drloHj6O9vcxUl3/tI/6+r6+3db7Wc6Km2XX2Fnt3u7r6p/K1Gb/bNsgy34sXx8kZpGPH8PW7XKK4+tlbdbPLuvcIpu22dL2S8ta11L7FtWz+iW79bXL6mPLqF1tvvSxNY720/qwSxs/LWtdSx2vqJ7VL9mtr11WH1tG7WrzpY+tcbSf1rNK2y8ta11L9SuqZ/VLdutrl9XHllG72nzpY2sc7ZfVrv1saU/K7bL28TZfT/3K2jTmIGU0xiBx8uabxrB/g8b3fnlzH+Z4NpYuZ80lb07ep6iuY+XFzGsriq/tUQxvS3X969dP+2upcWxZpk37pNL+m7T2/biMOK2uMGFmEBiLOB10h+f9bD1ruexONPnbP+9n46c27ev7+br38+1ZdfXT0vaLbKk92bPatL1MHN83L6aNl7fsY/h6nu+gbX4MX7dxo7YyNtvHLmvsyKZtWkZ9Ilvq7+2+XjZmll8Zf/XVMppXlk3j77S0Y2usyBbNo2w/75vllze++vjSx86LoW1aaiytpzKyRfay/bxvlp/OIWpXmy997CiG+mhbVKaTbmv39dTmbb4e9cmy2bH6WY7G7Mff943ilbX5WGXqUezIr2y/yDfZIn9ry1rOijeI3Y6h/pFN2/opoziRTWNqm5ZqT6W3+XrUx9rK9i/z79DOay8vI04RQBCoLoGxiNO0A0s7vaK/aEdnfaJ2jZ3VVmTP2hln2QeNV9YvGtfbUt3bovi+j69bH9tml22fssuRv7elej9/ZcaOxrB+fjzblpa9f2SzfXw8rfu4vm5jaJu1aRwttU8qbT9v1/621D5Zfnnt6uNLnYcdR5c13rBLnYONa206vpZZ/bxd+9tS+ySbLkdl1K42Xyb/ZIv+otjWprGybD5mVj9v9352HLts/XQ5alebL5NPskV/efG0LZVlT659P1/XmMnu/7RtJ2XWeOOIOayxy8Yp26+fdbcxs5b7iVfU146R+vp6kX9Re4rn/7J87Njex7b1M0/vZ8eO2vTfru23X5cRp9UVJswMAqXFaXRiobZh7bzGsWPUOeeVaX3GMRfl5scqqqtfUdlPHNvXLheNEbVH/pGtrG/UL7L5MWzdLidfX8+yWbv38fVoTpEt8lOblupXVM/qp3YtfRy1axm1q82XyUdt6t9v2a9/1F9tWuociupZ/dSupY+jdi2jdrX5MvmoTf3LlpGf2rTUWEX1rH5q19LHUbuWUbvafJl81Kb+vsxrj06ik39k9zZf9+NqvWw/7R+Vw4ixk7jDGr9snLL9onXKsmlMLbWfr6t9p6WNa5d3GjfLP2+Mftry+tqx8/pFbXn/Dm3c/bCMOEUAQaC6BEqL07Qzsjsuu1x2R5V88v6y4uT5DDKPrHGsPSvuKObixyqqp3n6Pnbuuuz7+Lr28/Hy+lmfaDnLN7KXtUXjRDYfz9btcvL19SybtXsfX4/mFNkiP7VpqX5F9ax+atfSx1G7llG72nyZfNSm/v2W/fpH/dWmpc6hqJ7VT+1a+jhq1zJqV5svk4/a1L9sGfmpTUuNVVTP6qd2LX0ctWsZtavNl8lHbervy6z26ARafaM2b/N19fVl2X7eT+s79dc4URnFLmuL4hXZysaO+hXFtu2Rv9pSGf1Z/36XNbb1U5uWtm0UyzqOlnaMyKbtvs3XU788W16bjpHKrH+Hts9+WUacVleYMDMIjE2cDrrTK+NXpo/dofbbX33L+JXpo/FSmdXf2u2y+kY2bcsq83xsm13OiuXtySfPL2qLbD5uP3Ufz9b9sq3rGJEtry3qH9k0hi1tv7SsdS1TX2tXX9uuNu1r696W5ac+UbvafOlj58XQtmGUOg8dX+taeruOadvVpn1t3duy/NQnalebL33srBjqp+1aWnta1rqWGt/W1aYxbOn7+b5Re1l/9dXSx9Y4tj2rT3RSrf5Rm7f5evItY/Nz0zGzyiim79tvTPWPYpexVX28MuuQx6Df9csbL2rTsbUc9Xg6By113FR6m69HfaytTP9+18/Oby8uI04RQBCoLgHE6X//d+57ZXanW2bnXaaPxszra9vschlf7ROVKZb/S/3sGHY5imFtGsvaouUoZmSLfMvafLyorrZU6rLG93W1pzKrTeNoaX2Klq2Pje/ttk3n4m3Wbv3tHLLs6mv7WpuOpaX203haqn2UpR3LzsfbbZuui7dZu/W388+yq6/ta206lpbaT+NpqXYtfX+1p9L62H7ebtu8XxTP+kft1qbLfoxkV5svrY+OpX20zfpbWzqpjv60j29Tu5bRSXlqK/KL5qcxo9LH07rt229M9R3XOuzGeMpJS52DLyMGg/DUcbTUcbTuS21P5TDHS/HyxsprU187N13O88trS/6DrJ+OuxdLxGl1hQkzg0Bf4nSnO6C08yv6i8YYxCeKY21FMVO77a/LRX7ab5jloHPJ8ovmZvva5ajvILasmMle9DfIePiUv+gCK1hVJQey9hPjnN8o5jCKmHlMGG+4/6bHzTNv246ibb+vX8QMcYoAgkB1CYxVnEY7CGzDPYjCE57kADlADpAD5AA5QA5k5wDitLrChJlBAHHax2O97Oizd/SwgQ05QA6QA+QAOUAO7IUcQJwigCBQXQKIU8Rp+PjyXji4MEdOgsgBcoAcIAfIAXKg3xxAnFZXmDAzCCBOEaeIU3KAHCAHyAFygBwgByYmBxCnCCAIVJdAKE7/ix30xOyg+73aSH+uUJMD5AA5QA6QA+TAXs4BxGl1hQkzg0AoTv/z//wBcYZAJwfIAXKAHCAHyAFygBzYdzmAOEUAQaC6BDLFaRKo3EHlyuhevjLK3MlfcoAcIAfIAXKAHPA5gDitrjBhZhDoEqdv374V/mBADpAD5AA5QA6QA+QAObBfcwBxigCCQHUJIE4R5FyQIAfIAXKAHCAHyAFyYGJyAHFaXWHCzCCAOOVgNDEHo/16BZj14u4GOUAOkAPkADlQPgcQpwggCFSXAOIUcYo4JQfIAXKAHCAHyAFyYGJyAHFaXWHCzCCAOOVgNDEHI64ql7+qDCtYkQPkADlADuzXHECcIoAgUF0CA4rTujz5/Zr85le/kb/dfFBa3NTrdfmnf/on+bu/+zv5i7/4C/5gQA6QA+QAOUAOkAPkwD7LgXSel8730nnfKAXu83/Rc9F/ked93GxAnFZXmDAzCPQvTp8/kM2//Y386le/av1tyoMSO4R/+7d/k7/+67/mALTPDkBcZOAiCzlADpAD5AA5QA5EOZDO+9L532gE6nP5/Zqei/5KfrV6U37/pJwYRpwigCBQXQJ9idMnv78pf/sbsyNoCNRicfof//Ef8ld/9VcIU4QpOUAOkAPkADlADpADE5QD6fzv+fPnIxCoTpw2zkl/I2ubD6RecNMEcVpdYcLMIFBOnNYfyD+t2bulVqAWi9MbN25wIJqgA1F09RQbV9XJAXKAHCAHyIHJzIF0Hjj8u6eROG2en/7mb2/KvzzPfmcYcYoAgkB1CZQQpw9kc9WKUb9cLE5XV1cRp4hTcoAcIAfIAXKAHCAHJjAH/uZv/mas4rTx6tlv1uT3GQIVcVpdYcLMIFAsTh9smvdLvTBN9WJx+pd/+ZccjCbwYMQV8sm8Qs52Z7uTA+QAOUAO2BxYXl4evzj91a9k7ffx48SIUwQQBKpLoFicvuXOqd3BsswBlxwgB8gBcoAcIAfIgfI5cO3atfGLU+6cVld9MDMI5BAoIU7fytsdvnP6D//wD9w55c4pOUAOkAPkADlADpADE5gD//iP/zhWcco7pzln/jRBoOIEyonT1lfPBv1a77Nnz/ha7wQejLiqXP6qMqxgRQ6QA+QAObAfcyB9rfff//3fxyRO+VpvxXUH04NAIYG+xGnjS2sD/s7pP//zP3O1FIFKDpAD5AA5QA6QA+TABOVAOv8b/pd605d43dd6+Z3TwpN+OkBgLxDoX5w27qLW5cnv1+Q3v/qN/O3mg9I7nXTl7O///u/l008/5cA0QQem/XglmHXiDgc5QA6QA+QAORDnQDrPS+d7o7lj2vmJmOf/ouei/yLPC37b1ApkPoi0FyQKc5xUAgOK086Owf5jZxku5AA5QA6QA+QAOUAOkANVzgHE6aTKHtZ7LxBAnPZxpa3KO1rmxokAOUAOkAPkADlADpADxTmAON0LEoU5TiqBtjh9/L9+Kf14Lju+4h0fjGBEDpAD5AA5QA6QA+RA9XIgnfPyHwQgUE0CbXH6v//jBeKUu6jkADlADpAD5AA5QA6QA/s6B9I5L/9BAALVJNAWp69fv9nXOyKuXFbvyiXbhG1CDpAD5AA5QA6QA+POgXTOy38QgEA1CbTFaZpe+searialxx3S8/j8wYAcIAfIAXKAHCAHyAFyYK/nQDq3Tee4CNNqChJmBQEl0CVO1UgJAQhAAAIQgAAEIAABCEAAAhAYJwHE6ThpMxYEIAABCEAAAhCAAAQgAAEIhAQQpyEWjBCAAAQgAAEIQAACEIAABCAwTgKI03HSZiwIQAACEIAABCAAAQhAAAIQCAkgTkMsGCEAAQhAAAIQgAAEIAABCEBgnAQQp+OkzVgQgAAEIAABCEAAAhCAAAQgEBJAnIZYMEIAAhCAAAQgAAEIQAACEIDAOAkgTsdJm7EgAAEIQAACEIAABCAAAQhAICSAOA2xYIQABCAAAQhAAAIQgAAEIACBcRJAnI6TNmNBAAIQgAAEIAABCEAAAhCAQEgAcRpiwQgBCEAAAhCAAAQgAAEIQAAC4ySAOB0nbcaCAAQgAAEIQAACEIAABCAAgZAA4jTEghECEIAABCAAAQhAAAIQgAAExkkAcTpO2owFAQhAAAIQgAAEIAABCEAAAiEBxGmIBSMEIAABCEAAAhCAAAQgAAEIjJMA4nSctBkLAhCAAAQgAAEIQAACEIAABEICiNMQC0YIQAACEIAABCAAAQhAAAIQGCcBxOk4aTMWBCAAAQhAAAIQgAAEIAABCIQEEKchFowQgAAEIAABCEAAAhCAAAQgME4CiNNx0mYsCEAAAhCAAAQgAAEIQAACEAgJIE5DLBghAAEIQAACEIAABCAAAQhAYJwEEKfjpM1YEIAABCAAAQhAAAIQgAAEIBASQJyGWDBCAAIQgAAEIAABCEAAAhCAwDgJIE7HSZuxIAABCEAAAhCAAAQgAAEIQCAkgDgNsWCEAAQgAAEIQAACEIAABCAAgXESQJyOkzZjQQACEIAABCAAAQhAAAIQgEBIAHEaYsEIAQhAAAIQgAAEIAABCEAAAuMkgDgdJ23GggAEIAABCEAAAhCAAAQgAIGQAOI0xIIRAhCAAAQgAAEIQAACEIAABMZJAHE6TtqMBQEIQAACEIAABCAAAQhAAAIhAcRpiAUjBCAAAQhAAAIQgAAEIAABCIyTAOJ0nLQZCwIQgAAEIAABCEAAAhCAAARCAojTEAtGCEAAAhCAAAQgAAEIQAACEBgnAcTpOGkzFgQgAAEIQAACEIAABCAAAQiEBBCnIRaMEIAABCAAAQhAAAIQgAAEIDBOAojTcdJmLAhAAAIQgAAEIAABCEAAAhAICSBOQywYIQABCEAAAhCAAAQgAAEIQGCcBBCn46TNWBCAAAQgAAEIQAACEIAABCAQEkCchlgwQgACEIAABCAAAQhAAAIQgMA4CSBOx0mbsSAAAQhAAAIQgAAEIAABCEAgJIA4DbFghAAEIAABCEAAAhCAAAQgAIFxEkCcjpM2Y0EAAhCAAAQgAAEIQAACEIBASABxGmLBCAEIQAACEIAABCAAAQhAAALjJIA4HSdtxoIABCAAAQhAAAIQgAAEIACBkADiNMSCEQIQgAAEIAABCEAAAhCAAATGSQBxOk7ajAUBCEAAAhCAAAQgAAEIQAACIQHEaYgFIwQgAAEIQAACEIAABCAAAQiMkwDidJy0GQsCEIAABCAAAQhAAAIQgAAEQgKI0xALRghAAAIQgAAEIAABCEAAAhAYJwHE6ThpMxYEIAABCEAAAhCAAAQgAAEIhAQQpyEWjBCAAAQgAAEIQAACEIAABCAwTgKI03HSZiwIQAACEIAABCAAAQhAAAIQCAkgTkMsGCEAAQhAAAIQgAAEIAABCEBgnAQQp+OkzVgQgAAEIAABCEAAAhCAAAQgEBJAnIZYMEIAAhCAAAQgAAEIQAACEIDAOAkgTsdJm7EgAAEIQAACEIAABCAAAQhAICSAOA2xYIQABCAAAQhAAAIQgAAEIACBcRJAnI6TNmNBAAIQgAAEIAABCEAAAhCAQEgAcRpiwQgBCEAAAhCAAAQgAAEIQAAC4ySAOB0nbcaCAAQgAAEIQAACEIAABCAAgZAA4jTEghECEIAABCAAAQhAAAIQgAAExkkAcTpO2owFAQhAAAIQgAAEIAABCEAAAiEBxGmIBSMEIAABCEAAAhCAAAQgAAEIjJMA4nSctBkLAhCAAAQgAAEIQAACEIAABEICiNMQC0YIQAACEIAABCAAAQhAAAIQGCcBxOk4aTMWBCAAAQhAAAIQgAAEIAABCIQEEKchFowQgAAEIAABCEAAAhCAAAQgME4CiNNx0mYsCEAAAhCAAAQgAAEIQAACEAgJIE5DLBghAAEIQAACEIAABCAAAQhAYJwEEKfjpM1YEIAABCAAAQhAAAIQgAAEIBASQJyGWDBCAAIQgAAEIAABCEAAAhCAwDgJIE7HSZuxIAABCEAAAhCAAAQgAAEIQCAkgDgNsWCEAAQgAAEIQAACEIAABCAAgXESQJyOkzZjQQACEIAABCAAAQhAAAIQgEBIAHEaYsEIAQhAAAIQgAAEIAABCEAAAuMkgDgdJ23GggAEIAABCEAAAhCAAAQgAIGQAOI0xIIRAhCAAAQgAAEIQAACEIAABMZJAHE6TtqMBQEIQAACEIAABCAAAQhAAAIhAcRpiAUjBCAAAQhAAAIQgAAEIAABCIyTAOJ0nLQZCwIQgAAEIAABCEAAAhCAAARCAojTEEtZ4yO5+sGsTB2YlYVrj8o67X6/n9bk5MFZOVLbkvruz4YZQAACEIAABCAAAQhAAAIQEMTpjpJgb4rTu5/ONwT11IHTcvWnHQHAGQIQgAAEIAABCEAAAhCAwFAIIE53hHFvitNbl5t3e9Md36WtHQHAGQIQgAAEIAABCEAAAhCAwFAIIE53hHGI4nSr1rqbWZNbO5pTyzkn3vbHc9w5HQZjYkAAAhCAAAQgAAEIQAACQyOAON0Ryr0pToV3Tne01XGGAAQgAAEIQAACEIAABIZPAHG6I6Z7VJzuaJ1xhgAEIAABCEAAAhCAAAQgMHwCveL0zTPZXqvJyWP66OesTL9zQhY/uy1P3+oEnsmXZ5rvLU7/+rYaO2V9UxZnWu81frje+0XYt7eldrjZfuSz+8bvkWx8ckGOv2PGPnZOajfv98b46bosHEgxTsvV+/fl6tmWzwfX5aFGfPtStq9d6sSbmZPj51dk4+c32qN0+eL7NVk6c1SmG2POyvT7F2R5Y0tWs77WW4qjiLQfv23xasWP3gd9/fOm1M7My3SL7fQ752Rp7Y68aG+X/uL5lW+/i3p5S+o/XJfF91tMD5+Qs59sNre/Z3rwqJy8vCZ3X/lorfqbJ7Lx0Tk50treU63+288z+mOGAAQgAAEIQAACEIAABCaSgBOnT+TqqV6RlIRS+juUREsL09O1c833Fg+vyLZHZwXXTE1uWfGU+m6vtESe/VrsbVlSQWsEmo7d81MtbXE6LwunjrbeoZyVKRWnbx9lr8vMvCxt6Zr4yffWH35xri1KdT6+7J5feY5lxWl9qyaHAi5pHtNnrstDZWzZu/768aPHX5xu8pqpyXdmddvi9IPTshBsi0OX1+XGZcPaxn+3Jt95pK+2ZOndjHw6eE6uPjCDswgBCEAAAhCAAAQgAAEITDQBJ07TY6pzcvyjdbn7c11eJzRv6/Lj5y0xY3965Jc1OdkQJ/Oycq+bYVvktMSLiiLt1f4pExWSjYYtWZqZl8XPtuThy5bKefNMNlQMeZHbFqezMjVzWla+f6nhG2V7jANHZfHmI6kn8fb8jqyo+H53RbZV0HV5uooZ59Diddl+1rzrWv9pXRaN8OoWp31w1OHaojL4INKr9c6d6FOrrTm8kcc3L7UF69mvn2mkZpkT7+E13Z7dY9ntdujiujxsbYYX36+07lK3hOb7K3KrxcG2dTOoy40PW/3T9tl+1sin1z8bbue/kafds6YGAQhAAAIQgAAEIAABCEwoASdORer14JHXt5tysUdodh7t7Xo0V+7IcuMRznk5e775e5rTH98xeLPe03wjdX/nLXk9uCLHG2Pbu6wiYkRj9/hJUCeh27rb2zW2iNy/Ikd0Xb4108pYbIvcmUuy4ef3u+X2HdVuYdYPx9bAZcTkzAX56hc70bpsXGwJwFPX5bFtKhPvQIY4Pbws33UJ95fy1fnWOAfOyZduDm0Retn8Lo3ZPl441zcute50n5arT+ykWYYABCAAAQhAAAIQgAAEJpVAjzgVeSOPt67L8sVzcuRY5x1LfYzV3gVtP9pr74DeW22Kv2OrctcuK+G2aHFiM7W/fSk/3lyVi+dPyBHzzmtzbNe/HWdOlv1zxe3Hhnvv6orck5VjTaHlBaVOsVOax3OXNjvm9lLnUeTeWOU5NsJlikkjDIP3d+vrKvS6hWbncWFnF5HCO6d2e7bWtX1X1YtgEWm3GXH64usLLQF6SW54UV9fl0W9QGD0bBsrCxCAAAQgAAEIQAACEIDAxBHoFqev7snqmc7HiFSQ2tKKU2k/2ntBvmp94EbvNDbvlqoQ7IjEtmg5s9b9SOcv63KxJRrteJ3lLHHq7GkTbv555x3UlgjqxNE7gLMyZcRUvOU7d3mPf/4o6NJp7xKn/XJMkTPF6SNZXTBzzlwfxyEz3g7FacAsEqcPPz9Raht0cQsIY4IABCAAAQhAAAIQgAAEJoNAlzjd/rjzsZvjtTXZfvBMmk/5bslSeKer82jv4nq6PaZirXM3c/vjpthtipDOe4gn1+w7ks/MY6NH5exnm3L355fN90Tbd0id+Mqyi0jnbmKBqKsFXxru2u66PrPSjzjtn2OeOFWBX7Au6X1g+4jsLotTvUgRXhQwAnvhCzvpLvhUIAABCEAAAhCAAAQgAIEJImDEqb4rOitTFzfbX+VtsAjfOW1Saj/amx451Tup9gu++ohtelS0/Tine2/x+TdytiVYet4fLXzn1InWNK22MHOCre8NW/BYr+HSuQM4GMfOnP1juB2BPFUops0Kthn4eGO6c6ofXXJfBDYzZBECEIAABCAAAQhAAAIQgECbgBGnnbuj/i5h+hkT/X3Prsd6UxgVljM1+Wqt+Z5h12+ftn/T9IJ8+XWt+ainf6S3fRd0Vi66Vzs770c6Edr2cXY7pwOzshA+jtte/8KF9h3A4INI9g5tR5wOyDFHTOrd56nDfy4bWb8n6tckJ16HabdwbT+em/fOacnHejs/FzQnFzf9S6d+stQhAAEIQAACEIAABCAAgUknYMSpuUP3bk02Gj8V8kaebl+Xs+YnU3rEqegHe+ZkuvGV3lnxfb77dfPR3unDzbL7kd7ur+tOnboiPyYt87YuDzdqcrz9e5tOhOaJUzFfsdWfkml9hPj1qydy9+ayHE+/DVpm67fHmZXOT8kkLqtdvwXaEacDctSPR+nXcJ/fluXLa80v8JovDE+ln5L5pSX23tblxYMtWf0w/W6rW5mceGMRp3JfVt9rPYrc+imZxs/5pMeuXz6SW59dkiM1P2m3DlQhAAEIQAACEIAABCAAgYkhYMSpSLpDesi8D9h+X3BmTqZbIrH5bmk3n/ZHjpKv/z3S1LV9Fy+Jlc7Hk2yUjmBy71YenGvdte18VKnh1xaNTrRq0FdbsmREdXtddP2Cr86qqy8ffnGufee4J04rXkecDsixfYfZrP97V+TH1mQy+bTGX/I/i5MTrxNrhHdO07wfXO8S8D3s+nlM2W8U6hCAAAQgAAEIQAACEIDAviLQJU7Tmr34fk2WzuhPyMzJoTPLsvHzfbn6QVM0WRHWJqGP9iah5N9XTZ3M745Onf9GXrQd7cIbebyxImffb30teGZOjl+8LtvPN+OPMRWJ0xT6zRPZ+O0lOWl+lmb6nRNy9pNNeRz8nKudjV/u5jIr0+9fkOWbm7KcwaW7fzmO9R+uyMnW3efp9y7J1R+6H4dNMWvnT8ihgy0BOzMnR87U5MvvX/rpNupZ8R5/cbr5eLV7H/S7WituINzbj/wGj/W2/YI2eX5Hvvzoghx/p7VdD8zK9LFzsrR2R150/ZZquAoYIQABCEAAAhCAAAQgAIEJIdAjTidkvVlNCEAAAhCAAAQgAAEIQAACEKgQAcRphTYGU4EABCAAAQhAAAIQgAAEIDCpBBCnk7rlWW8IQAACEIAABCAAAQhAAAIVIoA4rdDGYCoQgAAEIAABCEAAAhCAAAQmlQDidFK3POsNAQhAAAIQgAAEIAABCECgQgQQpxXaGEwFAhCAAAQgAAEIQAACEIDApBJAnE7qlme9IQABCEAAAhCAAAQgAAEIVIgA4rRCG4OpQAACEIAABCAAAQhAAAIQmFQCiNNJ3fKsNwQgAAEIQAACEIAABCAAgQoRQJxWaGMwFQhAAAIQgAAEIAABCEAAApNKAHE6qVue9YYABCAAAQhAAAIQgAAEIFAhAojTCm0MpgIBCEAAAhCAAAQgAAEIQGBSCSBOJ3XLs94QgAAEIAABCEAAAhCAAAQqRABxWqGNwVQgAAEIQAACEIAABCAAAQhMKgHE6aRuedYbAhCAAAQgAAEIQAACEIBAhQggTiu0MZgKBCAAAQhAAAIQgAAEIACBSSWAOJ3ULc96QwACEIAABCAAAQhAAAIQqBCXQPXiAAAgAElEQVQBxGmFNgZTgQAEIAABCEAAAhCAAAQgMKkEEKeTuuVZbwhAAAIQgAAEIAABCEAAAhUigDit0MZgKhCAAAQgAAEIQAACEIAABCaVAOJ0Urc86w0BCEAAAhCAAAQgAAEIQKBCBBCnFdoYTAUCEIAABCAAAQhAAAIQgMCkEkCcTuqWZ70hAAEIQAACEIAABCAAAQhUiADitEIbg6lAAAIQgAAEIAABCEAAAhCYVAKI00nd8qw3BCAAAQhAAAIQgAAEIACBChFAnFZoYzAVCEAAAhCAAAQgAAEIQAACk0oAcTqpW571hgAEIAABCEAAAhCAAAQgUCECiNMKbQymAgEIQAACEIAABCAAAQhAYFIJIE4ndcuz3hCAAAQgAAEIQAACEIAABCpEAHFaoY3BVCAAAQhAAAIQgAAEIAABCEwqAcTppG551hsCEIAABCAAAQhAAAIQgECFCCBOK7QxmAoEIAABCEAAAhCAAAQgAIFJJYA4ndQtz3pDAAIQgAAEIAABCEAAAhCoEAHEaYU2BlOBAAQgAAEIQAACEIAABCAwqQQQp5O65VlvCEAAAhCAAAQgAAEIQAACFSKAOK3QxmAqEIAABCAAAQhAAAIQgAAEJpUA4nRStzzrDQEIQAACEIAABCAAAQhAoEIEEKcV2hhMBQIQgAAEIAABCEAAAhCAwKQSQJxO6pZnvSEAAQhAAAIQgAAEIAABCFSIwOjEaX1TLh48Kkvf1ndvdX+6LgszNflu92bQHvnHz0/I9Knr8rBtqdLCliwdOC1XnwxxTkNgf+vyrCxcezTESe39UA0mXwxzQw3KpC4bS3NyqHZbduVf+PM78uVHF+T4saMyfWBWphp/c3Lo2DlZ/O26/Ph80PXK8Us5faAmt3K65DUNtu0eydUPZmVpqxn54bXTMlW7nTdMX22NeJdbwfvyLNe5/m1Nzn6+w3/DOz6W1OXWR/PNPPmgn31wXTYuX5CrD8qt6+726m8fnnLx+E63i1vhneVSf/N3Q1OFAAQgAIF9RGD/i9MdnEwOczvvijjdqrVO2vXk3ZZzcnFTZUXrxOCnEmv8w6ocmbFxzPLB5c6FgKwT+Ybd+LSFxaxMOfGOOO3dHtVhsnvitP7tshyZmZPjH63L3Z/r8loxva3Li5/vyY2PTsj0zOmBREXuCXaY0+nfTkY+H1uW7/SfmIjE2+6erByL/M/Jl7+kFQvEaaGYzJmTE2eZ65v2Ha6vYu6UBfuN+m1ZWliR7bcdj4GWdipO07q8tyJ33www+i/fyNkz1+Vh6XW4L6sL0fbstU1/VOIiQ84+/MhH9sJQwbawq/7guiwcnJWpd2ty65VtiJa78y/qobYwl/KOF13H5j7mrwNSQgACEIDAviQwOnFaBVzhyWSJiQ3q1wodn4SWGHeMXbrn2MeJQamTVhHpl+GDK3K862Ql62R+jJAqOFT3dis/wUH9GiP0uy3LT2uAni/lq/OzcuSTe7m+dz+Zl6kP1/u+qxueYOtI/XD4YUUOuac2wm3QiHlarmZeGOoWB7nz03lmlA0mFze7mGTGK/XvPH+/sf3xvJz9+lnXbEIGXT2GX0nreOTT/HzJG/Xupyd61iO7f2JyQlZHfLf17idH3R30/G3RnO8bebp9RU4enpelrZfy8OsLcujdC3L1+5fZq+MujuR0lDCXSuVRilpm/nmj0wYBCEAAAvuFAOI02pL9nIQG/rtxAhZMI9e0/fGceWS2jxODsicb/TIM+u8FjrmQR9A4KJNB/RqrEGybEaxayZB1ufHh6MTp3U/nZfrjO/Fc+uCQ4kw5IRhug0bMMYjTdLdsZl5WnEYLBUVa+1L/znP2G/VNWTxYk1vujmPIIKY9NOuOx/xlTU6+d0V+LDWjHCal/Mt0ui+r783K4oa5LZ8j7l6/eiTbayty9r05mV5Ylo2fO7eQ6z9cl8VjczJ9qiZXtx7JCxuyMZXuiyN5swtzqVQepajj4JY3e9ogAAEIQKAqBEYoTm/L0sysLH27i6vax8lk1ywH9WsFiU6GHn9xuvHY6uOugXav0j3HPk4Myp5sNBh2HmUrfHeUO6elkqF7u5VyaXQa1K/hnPHv4bvarLt7U34+O+rZEFoFj/UePDfAY71N4Xv264w7SRkcetalMb/TPXfPwm3QiDlicfrqnqyc0otRTbHRfEe39e8zekw4/TvPely5yx7P/cXXF2QqiBsy6AHoDTs7lgw2pp3DM/nyzJwsb1tb1nIf+9KsEAX2hgh8b1Xudgn/NG5nf9tm37hIMCfHz6/IjXvPOo/A2zHe1uXh1nVZOnNUpt9dkbu2jTunXTSoQAACEIDA6Al0idPmlc91uXvtkhw/3DrQHZyXxWv3uh4FS9N6/fOm1NLBrHVAnH7/klz9wV52bR4s9UMe6QThyGf3e9bo6dq5rsfvXt//RpZOzTVPjGbmZOHyN/Jj50Jvj78aXny7Kmff7/gdv3hdtr+/0vMBk/x5uwN8Y926T74a47zXGufgvJz97W150TpJaPCzJwhpuXWC1miz73C1TnRvpCvXGu/waVm6mT4e8kZ+XOtsg+lTy7LReP9M17ZZ5s2lu2dvbWNpVhbXdXv1cULVlzgNPh7zfF0W0/tOntOBWZle/EaemqmWPql8fkeuXkzvGTbjTr9zTmqb+jhhU3D0iuO6bFyclanDy/Jd10mev2v0Rh5vLMvJd7pz6659V+tJ60M5r27Lcit32+O9fSnf/faCHGmt8/R7F2Tl2wzxY9Zd3tyXry6fk0Pql9Zp44ls+I9EvX0p213/Xo/KyY825WmJnGwM1xjndIfdqZp8dV//weX/e0jbR/M7xWpsr89vy8ZHGm9Ojpxfle8Sq+e3ZVn3Fxn7lOY6q+9s425OZy4WjojUH8nGby/JyWPz7blPHdAPIm3KQ01t55ZfvSPLh+P9VMOvjDj9ZV0W340/5NXg1c771r+NUYvThjCdlan0jm6tkxfKobnPDz6IVOrfedZ+o/lvrrN/keYjn+11b/37b+0bu7nYfYPuP5p5qMcSvcu2+q07Brn9ZN7+OK1/OhYsn+/ebyyt9R7rUt90J7zco8FZTJT4zsoXmzU5FL5PPapxuXO6sy2GNwQgAAEI9EugV5zOzMqRi+vy8FXzBPX1s01ZenfWvXNzW2oLNdl40PoYydu6/Pj5aZk6XJNb7ZNCd0Lxu2WZPrYaXpVtP57UuONwVBZvPpJ6Orl+80RuXDwqU+e7RUvPSm6vyKEDR+VsOrFI005Xgm9ekkMNsaInOMmrzLyz35esbzVPDFa2W1egn9+RlVOzcsg9Btg4SXdfme0Rp2835WISZInjT01or39OJ7bzsvzJpeY2aJjfyOOvLzWuaNsPi5Sdi7JKd7nagkkeNT7a0bmr3ceJzU9rcjJDXKrgPJTeB8w6kc+y60RNGXE0za3FJ3L1wwtydftZM2fkjTzdqMmh9PXh1nt89fVLvR93qa/L4uELcvaD3jsi3/1a7zKJyLfLjZN6/fcg9fuyempWpi9vmQs2id8FWbx4Tlb/tf0PICkouXX5qEydWpXtZ81/Ty++X5WFmaMFd2GeNd6rnHp/RW790sqNZynX5mRqxm5HkcdfXJKz1+7I09aw+u+1s62bmEKWbx/J1ZS/6d+75lrj380F+cpeDMnYZg1RYe6OPfz8hEzNzDfn0/h3+FK2Pz0t0xdXZHnhtNh/N8sfuH1K2bn0JsDwLNsrzYttXfsxEz6DQ7NHuohRk+Mzc3Lys1jghNugEbOTq2a01mLJO529jpIe2Tz77qwc//i21N/cly8/nJfpY5dkdau1f5WWaDTbsB1mR+I0feQpfu8yZNAeVBea/24Otf+NuWNJ4xHQ/8ve+7/IdVx5/89f8flH/Gd8mF80aCQkIiwhCyMUZGEkHEaYR9pljNmxd5/ZGMuwQ9aSspHDDg6x9KAdGDAoNjHyimgV1iuQImyUtbRR5PWmY0di4DzU7T7d59Y9dW9193TPnenXwFBVp6pO1X3fd1fV+9b9siBz+7qcKuYKnYNerL6AyW2zN9cUv53ip/lcOveuy7kjC/4bqDfeKF1E1Z5Ww9BX/9irZYewPH8o6+FFX/vOyGrpIrD6GGIM1ypZ4TTFqbkw4XEyq78UAgEQAAEQ2OkIVMWps5NU3KL12kfytPZow66DXehHC4rNz2T5QPTMU1iY7dXnkro7WZWr0+G2JOdZKduVYpEcPd8V8oPImItesmPrdeNxv1PitPecT3+3sefp7kU5tOe8XDWaxFsMVcRpscA6Jiu/KfeoWOBXFsehj3bBk98X9V7q0/cbsrjnrHzY/9xG91ypuLS7YVp/6LB3biuf8ald4JdbKfW5nNWQ6r40p397ZhCiRqyGykGwzv+fz4odndIzhgVP68SCiAQRc+CCDO7y6+J3ck13a3vdC9zYe16u2l1WEfniJw0v6ykwOiar8Y0G4dm3PWVx6gHh/V49LDvr52Wucnug8ztMnLPg03Kl4Phi9BKi3kWYWCwXfVza6Hc/uy/9GlsdCYLooMwvX5SVlxICxcUhvGRmTZaOH5S5I+drXy7jnYPuRZw6vpXFQYFx08I97CoXbyw+JueuPSzdyvn0X7vPGOoFwaS/IE6PX2z49FVKEKXseS85C30qPrvVv6Oh+/sq75wuSOX3Js5Yrjv6pYuF4Tbd6kXFglGp316WWA8e8t/Wa387STY/fygfX16Wo/sW5NDrV+Rmf8yOa1QxL85tvFudmT7e/1xVmX9xqzbtcikbt2r/rW/iIAACIAACs4NAVZx6b7jMmmDiSSxeUHTFohWfxSLk/+jr9MNzRZF4Lc5DV2gMJsv45HTbtbeQ9Ut8Ep6bsjun/RwTifudEKfFrZtlEdp1EhZE5WdrvUVoMXHb23oLcfqGrPcXYF1vRTmzaO9aoz4O0Rc9UK9Pmqe3yelO48A+gZi7wPfbqe+zX0et5brd2wwHi9mQPijLvw5ryYtyyO7ohx3+0nlSjyasHEPgur140C1bPGfs/Z6CuI3e5Gq8d19GY/vUz3xY7HTGQq+frRHn91rGo1sw7Kbb36NWL4TjK1ek/3x05Xi7JYNPu8AO3K1+O9HHJn7hTnNfuuNJ/wJK5iK7KF+HtR70nVU5pBcwertqSxvR7dcODkFUzx84JcvX7vZv71eXceidg60Xp+HiwkE5FB5rSAqZQc+K8cYTu3cvytHUJ6Ms9vvOy9VKO+Fc+YLbxWDQHSnuCKl84qR77svi1JsronGy57fSZnGxyqsfKvR+Y31x1nPi/KZMt+ujI9ftncvTF+Tqv0dcrLTYw3zLP4HsY1ppPrULn33sac54bWEDARAAARDYvQhUxam3UHEmmKf/uibLr52QQ/osXm/BUl5ADD4eX0AYFuX9RXfY/esJhJBZCC5zW49dANXuFvVeluE8NuXdWtrc74Q4LYRuun+D4/Z3B3xxWhXO/mIxWiAM0RelbmWBphlFOOzCoNufRqFw3HnDpbPAL3XFJOr7PCgYnh27cO6MHDrSey60xx0r4opbe19d6z7TGhan/R37cAviYKFauqU3NBGe6VxbkdPHj/Wf/+wetz13Ab/qhYbihUERjweY2fqDYwmxQtQmBHIFk3C7X+XZy4XKbcyVer1F+KA/Ebdt+4lzFnzG4tRi3j2qBLdKY0pXEGT1pQzV1qS+vVE8unD8/fC8d/evEEl7DsvidbMbnsBB6zSF1XOg454v5Lr+yr99f3xoajmdP4w/t/+u6/hOj0GhWh/hosA+7/u0gUN2LklwKvHynkqbxXlMY14pH7qffVvv4Fj7sRLX+9bpRbJ428O0Im67/Ds3uMkh2W+XS9nHnjqnyebIAAEQAAEQ2KUIjCROu887HpPFn9yQ+9/o/azlRVR3N84uKAKCRgiEHavKrZHpBUMa/2677s5pmBjNzmlevxPiNGuC7/bSW9wUE7dd8Bc7p1WB4k7w8aJriL4obl6fNG8iO6epPta8EGkgTk7JpYe+yB/0uRcrdrmqb26tHO+Tj+R071bmQqiaizD9l51UbuntPTPae06v/5mFyrGFhVXuuawcQdUQeNu/iGOzu1zvC8Dec5rh8xBX7zzsPm8dijsLwgoe7u2Oti0TrxxvNy/43Bpxmnmue13yjsX0drjo8+4zxHOvXJH70V0MnV9fkKP7zkv/ix0JHLoNNi+ui37HO3LyoHgT7ID75YsES5+Ux1V/fKg55M1v5Itrq7L4avniyvwPjsnJc6ulz4rUeCmy8nGvvhBJfSd9FBcIDsvSDZ1PtEYIA7Z2LklhXcZKPVTaHGHntD9GqNNhQuf3OEz1btnusaV4UtjdXezEfFbpQApTkZvhm8HJi2xdvi6uP/e/c5rxjoK55XD3VLr9SlcxgAAIgAAI7GoERhCn3dtsK7cDfntdTlcWEHZB0cVRJ/nw3F357b3dyXdw62U+7uGbnfE3BcPLaNaX7DOnuf1OTOabN2Rpr9npreleZTGktzxtlTjN6Mujn59pXFB0FxzhdtThFwbhPDYtWMIza3nfBvTB9HCMSxbnPr51dvOOrByJn83snv/Tv3hQfCfT7nRLuKXzpYtyO9zSq7uroaFC0A52VbXtzrWzpYse3YVVVZwWItF5hlv9JMNeu5VnTu+Ft0+b4ype4FO91fx2WEyWuOaLv0Lo2ONNdSghysL52Spxmt2XYUR16niM/ekvz8r8q1VhaooMogkcugWG/w0NHNfFyoJrOHH6WD5cPCjzr16Qj+89Hly8CM9cf/NQbl9bkaP7DsviutkdrulKzu9Rqxe3hpsLQGr3fXTH6sELkLS0hgFbO5eksC5jpbWrbX4jHy4mnjktfmPx897DfEpGWzXhlohT489Gnz/unccFObRsX9JmChW8LV/08MfuUS4OD9oZjpuDet1Y6pzG5UiDAAiAAAjsdgRGEKfdF6bML13vvyG08/UtWX21+ybRwaI/XlD0oCye8Tsrp1+KFwDSfd5o7wlZWn9QWkg1noQw+e49XLwltPisS7gVM7wl9KVjcqi/o5Xb7+JtObK4J7ysqPuGVW2/mHxftG+G1ZxyWAi316+XnkEr6pYEQ8CnKmj8Cb666MrtS7lnTqrTkU4Qu4lnxJwaIr2d3Jxbvfz6edbqorJar3i50A8vym19u/S3D+TqUvfzIv0dxl61YsH8w1PmJVzqL9yGeEpOv3aw/JKV4mVcB+Xc9d6bgDc78ujmRTlZfGbJnjv/XIq+gXbxitzsvXVXW6wPO/Lp8mGZe3m5v7Olb3I+9JIRp+G3tOeUrN7pvTX7eXhL9Rvdz9aUuNb9FMZcxEnp3c4aPjHSfxux17HeTlP8ewjnZ6vEaXZftliceoebtO00cfpNuFugXnDE402Rbtgl84XNgpTeC1B8X9PsOvdATY2N5RcgxWcgnktS41V1nAye3HHEeVvvoztrxWeADr17q9yBcN5farjQli0AHZFon+8ut5xIPZdHdzbk0pvdzy7Nn77Yfxu4W6GWt1ojhanmN4cxl5pr2BKJ9jsbcm7fQVm81vTMrfVFHARAAARAYCcjUBKnxbNuztXuym2C334mF6Lvw+k3GAfiNPXh9O6bZuOdHQWxeJvk8cH3U4uFULTQ1rI2dL+Perf7NuD+G2Oz+h28drritvdCkIHI6X3zMnq20S7Qiz797qPBt0t7ArTAtrQICZOxFTjdo/En+N6i6xN7xJl9sVWS8cTCIFm+2582iNMgAK+a74HOHTghi5dvyc33T5lP5/QOpNiRLAsqPcRiB3bPGfnAfkIlMOHX5vu54Tuar67I+pcb0bnzz2Xhu/gExBk5pN8N7i38B78T7UEUJr6PWnzn1Nwaev/acuUbrMX3fePfjMPJosXeN2L1e6pd4RELGv/3UDxTW9yS1+174O7gt6LHk+BW2E0q/R7CTnX3e7X1fUmIDW1ukmHtIj9xnGP3pyy4/PEh1Uh353T/4sXanVP/VtqUz3z7zR8fLl/sCVUrPOzOE77g1fExnktCOuZocF7GSnvqitOQ+XX1O6dhHnumFXvhzR8fiz6lFhWYRrLzjdy/eV0uvX22+w3y8E3syzfk5voFOR2+k33ghJx+d01u6ufdbJ8K3lafibdFpHirtodpqVRtYjhuxq4Svx/EaQwUaRAAARDY9QiUxOmuP1oOMIFAb2FQeRlGonjvo/T+grK8M9AowtJN+DseNeXJmg0EHoVbcbN298ZbbFfQrBWnuZ8QGa9PhQAwFwQqfYwNdc+cvnlFPv6yfHdIXH2sdOczWTpe/e7oWD6nXfnrj+R07m3fE+xbuENk/gcn5PTbV2T9Tu8726a9Z4/vyNXwYrQfHKy+MbsQeOVx2R27nW/EmiYao1siToeYgxo7RAEQAAEQAIEdiQDidEeeNjoNAiAAAu1HILyE7rR5C3L7e2x72JH1N8/KpXvWRhwEQAAEQAAEQGCSCCBOJ4kuvkEABEAABEAABEAABEAABEAABLIQQJxmwUQhEAABEAABEAABEAABEAABEACBSSKAOJ0kuvgGARAAARAAARAAARAAARAAARDIQgBxmgUThUAABEAABEAABEAABEAABEAABCaJAOJ0kujiGwRAAARAAARAAARAAARAAARAIAsBxGkWTBQCARAAARAAARAAARAAARAAARCYJAKI00mii28QAAEQAAEQAAEQAAEQAAEQAIEsBBCnWTBRCARAAARAAARAAARAAARAAARAYJIIIE4niS6+QQAEQAAEQAAEQAAEQAAEQAAEshBAnGbBRCEQAAEQAAEQAAEQAAEQAAEQAIFJIoA4nSS6+AYBEAABEAABEAABEAABEAABEMhCAHGaBROFQAAEQAAEQAAEQAAEQAAEQAAEJokA4nSS6OIbBEAABEAABEAABEAABEAABEAgCwHEaRZMFAIBEAABEAABEAABEAABEAABEJgkAojTSaKLbxAAARAAARAAARAAARAAARAAgSwEEKdZMFEIBEAABEAABEAABEAABEAABEBgkgggTieJLr5BAARAAARAAARAAARAAARAAASyECiJ02fPnssf/vhUvvr91/Llw//kHwzgAByAA3AADsABOAAHdjwHwto2rHHDWpc/EACB9iLQF6fhxxp+uH/qfCed776XP/35O/n+L3+Rv/APBnAADsABOAAH4AAcgAM7mAPPnj2T7777vljrIlDbK0zoGQj0xWm4mhSEaRCl4R9RijCHA3AADsABOAAH4AAc2E0cCAI1rHn5AwEQaCcCfXEadk3ZMWUC2k0TEMcCn+EAHIADcAAOwAHLgbCDGta8/IEACLQTgb44Dc+YsmvKAG4HcOLwAQ7AATgAB+AAHNhtHAhrXv5AAATaiQDidAc/P7HbJguOhwUQHIADcAAOwAE4MGkOIE7bKUroFQgEBEYQp9flRy+8IC+88CO5vsuF3UuLf7Wtz95ud/uTnhzwzwIEDsABOAAH4AAcmDYHEKeIIBBoLwK7TJxurXDOFYe55eLBt6leU37sjzQTPByAA3AADsABOAAH6jmAOG2vMKFnIDCCOK3/wW/vgLi7xOn2Ytnm80zf4AYcgANwAA7AATgwGgcQpwggEGgvAiOI05QAVPsL8qP/q3F762/XNshL3Rqsdb38Oh+2Xqjr1W8exMJupe5YahgGf7VbW2yP8+ryrT+vntYNof3Xek35tpytT7yMJ3iABxyAA3AADsCB2eIA4rS9woSegcCWi1MVnxoOnk214jGIVk1XBWy3Tl1+Snh6dfIHXCsSrbiz9jCBNaV1kovLxXW9fK0bl1W71onDpvJanzCfD2AFVnAADsABOAAHdh8HEKcIIBBoLwLbIE5HEaNap0l8NuWnB1gVe3YS8mwhP7bHafXh2a3NxrWODb18tcWh16+UzbZBPM0JsAEbOAAH4AAcgAO7jwOI0/YKE3oGAojT3m2zKvbsJGRtIW7/U+Viu62jcS0T0hr3Qi9fbXEY6geb9+/5xrb7JlvOKecUDsABOAAH4EAzBxCnCCAQaC8CiNMMcapCUAf8pnSqnNo1jP2oXUMvX21xGOqoTesTNk9QYARGcAAOwAE4AAdmiwOI0/YKE3oGAohTxGnt7i0T9mxN2JxvzjccgANwAA7sdg4gThFAINBeBLZBnOrLjLznQ63NxnWi8GyaF8KmfFu2Grc7jyGuaQ3DYG3tOnjbfLVpWZuObal6WsfLV1scxr7rfGgeYZUDYAImcAAOwAE4AAd2NwcQp+0VJvQMBKYvTl/7kfyo+MyLitR4AFSB6eVrnr4gKa4b0lrGq++VL9uC6EsJP2vXuE5gtp7aQqh2DW2ezY/tmhfbtd041HLajoZqJyyfZ/AADzgAB+AAHIADs8kBxCkCCATai8AI4nTUgawnGl+7zm2k0bdLmRxH5RT14A4cgANwAA7AATgwHAcQp+0VJvQMBKYoTocbOBhowQsOwAE4AAfgAByAA3BgqzmAOEUAgUB7EUCcsovJTjYcgANwAA7AATgAB2aGA4jT9goTegYCiFMmo5mZjLb6yiv+uJoPB+AAHIADcGDncQBxigACgfYigDhFnCJO4QAcgANwAA7AATgwMxxAnLZXmNAzEECcMhnNzGTE1e2dd3Wbc8Y5gwNwAA7Aga3mAOIUAQQC7UUAcYo4RZzCATgAB+AAHIADcGBmOIA4ba8woWcggDhlMpqZyWirr7zij6v5cAAOwAE4AAd2HgcQpwggEGgvAohTxCniFA7AATgAB+AAHIADM8MBxGl7hQk9A4GRxelLi38l4Z8rhnrF8Lr86IUX5IUXfiTXmeDgBRyAA3AADsABOAAHWskBxCkCCATai8BI4nSni9LJ9L/N4nRyfZsMlir4Cbn4AwfgAByAA3AADmwtBxCn7RUm9AwEEKczcVUTccrEvrUTO3iCJxyAA3AADuxUDiBOEUAg0F4EhhanYafM/tuBSXfRNN/mhbhntzatH9fz0lrW1lrCCGIAACAASURBVNdymqfpEKpNy2sYl1G7DW2ZdDwlANX+gvzo/2rc3vrbtQ3yUrcGa10vv86HrRfqevXTE2zAIT5mtVmM1OaV1XJxHuk07mADNnAADsABOAAHJsMBxGl7hQk9A4GhxWkYKJuEiDeY2jpeXG0aej6sLZSzZVNxrdOUr+Xi0NaL88ppFYFWeIZBtSwcByJUy2k9FY2a1vyBj+7zrHX56iMezL06cRk/7R2/tdl4GY8qT+rKxnVJ++cDXMAFDsABOAAH4MB4HECcIoBAoL0IbLk49QZMT5SoLRV6fqxN66VsNt/GQ/k4bX3YeG65bp2UAOzaVZRqOHhxklfP2mxcB+PYFqe1nIZN+VquGnoYWJuNj45dtV3rizj4wAE4AAfgAByAA1vFAcRpe4UJPQMBxGnimdOU6EoPjCkB2LWrKNUQccokm+YS2IANHIADcAAOwIFJcQBxigACgfYisOvFqScyPZsdAJvybdlBHHE6wCJ/d9rWIc5CBA7AATgAB+AAHJg0BxCn7RUm9AwEdq04DQNbEJme0PRsOhDW5WkZP0ScWlxGx5FJ2eJIHD7AATgAB+AAHNhaDiBOEUAg0F4EpiJOw6BqxYoXV5uGTQNxKGfL2rjW9WxxX7Rsnd2WScfHFaf6MiPPj7XZuA7Wnk3zQtiUb8uW4zGGIW1tNh5jE+fF6bg86TL24AEecAAOwAE4AAe2ngOI0/YKE3oGAlMTp2FwDeIkFiiajsOmwdiW13hcJ2Wv60uoE//Hfv10SgB27fqsqYaVZ05f+5H8qPjMi4rUeDBW/16+5tk3/A5TPy5bTls8FDuLgeZbm8Y1L4RqIyzjCx7gAQfgAByAA3BgehxAnCKAQKC9CIwkTtswgNaJHRVEbehncx96wvK164i3xMupmjGc3oRGX8AaDsABOAAH4MDO5gDitL3ChJ6BwI4Vp0wMO3ti4Pxx/uAAHIADcAAOwIHt4ADiFAEEAu1FAHHKbh07tnAADsABOAAH4AAcmBkOIE7bK0zoGQggTpmMZmYy2o6rs7TJrgAcgANwAA7AgXZxAHGKAAKB9iKAOEWcIk7hAByAA3AADsABODAzHECctleY0DMQQJwyGc3MZMSV63ZdueZ8cD7gAByAA3BgOziAOEUAgUB7EUCcIk4Rp3AADsABOAAH4AAcmBkOIE7bK0zoGQggTpmMZmYy2o6rs7TJrgAcgANwAA7AgXZxAHGKAAKB9iKAOEWcIk7hAByAA3AADsABODAzHECctleY0DMQQJwyGc3MZMSV63ZdueZ8cD7gAByAA3BgOziAOEUAgUB7EUCcIk4Rp3AADsABOAAH4AAcmBkOIE7bK0zoGQggTpmMZmYy2o6rs7TJrgAcgANwAA7AgXZxAHGKAAKB9iKAOEWcIk7hAByAA3AADsABODAzHECctleY0DMQQJwyGc3MZMSV63ZdueZ8cD7gAByAA3BgOziAOEUAgUB7EUCcIk4Rp3AADsABOAAH4AAcmBkOIE7bK0zoGQggTpmMZmYy2o6rs7TJrgAcgANwAA7AgXZxAHGKAAKB9iKAOEWcIk7hAByAA3AADsABODAzHECctleY0DMQQJwyGc3MZMSV63ZdueZ8cD7gAByAA3BgOziAOEUAgUB7EUCcIk4Rp3AADsABOAAH4AAcmBkOIE7bK0zoGQggTpmMZmYy2o6rs7TJrgAcgANwAA7AgXZxAHGKAAKB9iKAOEWcIk7hAByAA3AADsABODAzHECctleY0DMQQJwyGc3MZMSV63ZdueZ8cD7gAByAA3BgOziAOEUAgUB7EUCcIk4Rp3AADsABOAAH4AAcmBkOIE7bK0zoGQggTpmMZmYy2o6rs7TJrgAcgANwAA7AgXZxAHGKAAKB9iKAOEWcIk7hAByAA3AADsABODAzHECctleY0DMQQJwyGc3MZMSV63ZdueZ8cD7gAByAA3BgOziAOEUAgUB7EUCcIk4Rp3AADsABOAAH4AAcmBkOIE7bK0zoGQggTlsyGb20+FczMylsx1VS2pzc1XmPu55Nz0FdnpYhnNz5AluwhQNwYNY5gDhFAIFAexHYEeJ02ovZuvbq8kYd7HN95pYbtR9N9baz/e1sO+Cy3e03nZvtyq/DZdS87ToW2mXBDgfgAByYDQ4gTtsrTOgZCGypOK1bjI4z4E/Kb6pPde3V5aX8NdlzfW51ubhfTf6b8mN/W5nObTu3XNy3pnpN+bG/SaXb0g89vrr+jJqnvglnY5HIeeY8wwE4MG0OIE4RQCDQXgQQp85tvXWL6q0eQIdpK7dsbrn4WEatF/uZRDq3b7nl4j6OWi/2M+l0m/qZ05e6MnV5k8YR/yyG4QAcgAOzywHEaXuFCT0DgaHEqbeYVFsI7b836Dfle3WCTdvw8tVnXV5cX+vEdvWRsqf6Yv3ZuPXn2VP+tJ7ma380tHZri+1xXl1+KGv/Q9n4v86f+vbqNPmN62ha68W+1R73x9rjPPVhy8TtaJ7abVjnT33b8mpTn179uLzWie1a1/pSm1dWy2mepjVUuw29vGALZeJQ66ld015YV6Yuz/OFrfqbBBMwgQNwAA4MzwHEKQIIBNqLwJaJ0zA41i0247w4XTe4pspau417fdF8DbW9OO3V1bJNeV65Jv9evvqxeSGuaQ29cnV9jOvFZb18bSMuq3atE4dN5bV+KlR/6kfTGmq9pnSqnPqty9e8uKzate04bCqv9b1Qfdk8a7NxWybE4zxNa6jl69I2T+NxmPKjdhtqXWvTeF2eliEcftEFZmAGB+AAHKjnAOK0vcKEnoHAVMTpuItQr36dzctLDdReWc+m9evyvDJeeWuzca0fQs/u2byyueXiuql62i8vX21xGPuu86F5GqovTYfQs3n23HJx3VQ97YOXr7Y4jH3X+dA8DdWXpkNobTaeKmPtcf047flTWypU/5qvaS+sK1OX5/nCVr/YAh/wgQNwAA7kcQBxigACgfYiMJPiNCyK7X88mNctmuvygp8437Zj49pmXL7ObstaX9bu9cH6jOvZujaudWzo5astDrUfwR7/W59eXH3ZPGur82fLxfXjerasjdt6Gvfy1RaHoU6wef/qLxWqL5tvbTaeKmPtIR7XsWkb13pqS4VxOU17ofoYNs8rjy1v0QVO4AQH4AAcqOcA4rS9woSegcDMidN4sRynw4Du2XSgHzavrnxdW149tWmY6lOcnyqndg1T9erytU4chjpq0/q5oVdPbRqqr6Z0qpzaNYz9qF1DL19tcRjqqE3r54ZePWuzceszZff6YsvauPpTWyqMy2naC9XHsHleeWz1iy3wAR84AAfgQB4HEKcIIBBoLwKI095LX+yAPsqCOlUnZdf2UvmeXW0apnzE+alyatcwVa8uX+vEYaijNq2fG3r11Kah+mpKp8qpXcPYj9o19PLVFoehjtq0fm7o1bM2G7c+U3avL7asjas/a9O4hlrG82vzNO7Vy8nTMoR5Cy1wAic4AAfgQD4HEKftFSb0DATGEqdh4WkXnzYeD5JxXlPa1o/Lap6123jIT6WtPcRt2vOrNg0nUd7zGR+D7astb+11fYz9eWWtX823oZevtjjMaS9VJrYH3yn/atd+xuk6uy1r41rHhl6+2uIw1FNbnY/cMracjVvfXptaVkMtX5dO5cX2lC+1e/3JzbPliOcvtsAKrOAAHIADeRxAnCKAQKC9CAwlTsOgFxap+q9pOxjaPGvXsqn8YI/La7opL5WvbcX5ard90rbUZtM2HvvS8urThlrP2lL1tWwcal1tR/Nje+zX5msd9aF5cR2bb+toPFVe69nQ1mlqT8vGodaL/cb2uF823/pUu4Y2T9uIfWkZz662OLR1Qp7+q11DradpDbW85msY52vahnHdkOfVt3W0TFxO7Tb06sU2TXv+cvK0DGHeIgucwAkOwAE4MBwHEKftFSb0DASGFqcMgMMNgLl41S3kc31QbjLnBlzrcfW469kUx7o8LUNYjzn4gA8cgANwYHQOIE4RQCDQXgQQp38ZfXBjYgA7OAAH4AAcgANwAA7sLA4gTtsrTOgZCCBOEafJ26mZbHfWZMv54nzBATgAB+AAHGjmAOIUAQQC7UUAcYo4RZzCATgAB+AAHIADcGBmOIA4ba8woWcggDhlMpqZyYiryc1Xk8EIjOAAHIADcGC3cwBxigACgfYigDhFnCJO4QAcgANwAA7AATgwMxxAnLZXmNAzEECcMhnNzGS0268Ec3zsdsABOAAH4AAcaOYA4hQBBALtRQBxijhFnMIBOAAH4AAcgANwYGY4gDhtrzChZyAw0+L05v///1UG4mDL+efKZPOVSTACo93AAW+c2A3HxTHw+4QDs8MBxrHyuUacIoBAoL0IjCRO7SBn46mJziujthDG/7Efmx/neWlb3sbjsiEvtnnp3HJe3Z1s2+7j3u72Rzl3293n7Wx/O9sO52oS7ad8/q///b/F/luuWHuI27wQ92xqt3XjeqOkrb9Uu6P6jevFbWk6LjdOeiuOQfsVh6FfsU3T4/TZ8zuuvxyfoe9eO3pMGnpl1L/madk41HwbhjI2vR3x1O82py+h7jj1c9uIy2mb2r4NvbKaH+fVpbWNujKzkoc4ba8woWcgsO3iVAfC1KAZ2+O01s8J47pxOuUjt1yq/k615x53brkYh6Z6Tfmxvzakc/ucWy4+pqZ6Tfmxv61M57adWy7uW1O9pvzYX07a8+ktvtWmofVtbSFu01ou16blc8JJ+AztDnMMOf3MLZNqN7e+lvNwycnTMsOGXnuebRi/Xn1rC3GbVt/D2Lyy6ieEXn6weXZbLzfu/fYmXXecNnP7Fsp57cS2OK3+Y3uc1nJeOExZr/5usiFOEUAg0F4EWi1OvYHUs+UOmHHdOB37Cflaxsbjcrs1rcfedHy55WI/o9aL/WxVeiv6k+sjt1x8bKPWi/1MIp3bt9xycR9HrRf7yU2n2vMW32rT0LYR2+J0KJtrs36b4pPwqW1O0re2EYehTa/duFxTus5HXV6T31S+59Ozpep7dq9+bIvTwc8wNq+s9iWVF+ypPK2bG6Z+f7n1Ryk3yTaDb/Wvoe1jbIvToWydLeR5+baNlI+4zCykEaftFSb0DASGEqc6+MVh00DmDZixLU5PYhCN24jT2mawe3k5+R4W6i/2qek4VB+petoPDbW+Vy/O0zKpUNtU31pO7bE/a4/z1Ict4/nz6mldLa+h+mrKt+W0blOY6kdOPa2rofbP64faNIz9q11Dzde0hmq3Yciz6RC35evybbnYRypt61jfarc22xfNj/2qXUPN17SGardhyLPpELfl6/JtOfXhlde8ONQFuYY2P7bF6VA212b9jhL32tkqP1vl2+uP+tbQK5Nrq/NRl5frP6fcJNqJfcbp0K8cm5bR0DseL09tGnr1cm36e9TQ1lNbHMZlbDrE68oPkx/7zUmHtm25OK3tD1vGlte451vzQtiUb8vu5jjiFAEEAu1FYChxGg9suYOcVy62xem4ra0YJOM24vRWtBH7iNuwaY3HoXfsWkb9h3Rs8+qlbOrHhtaf9W/tnr84X316dmuzca1jQy9fbXHo9Stls22MG9d+aFua1lD9N6VT5dRvXb7mxWXVrm3HYVN5rZ8K1Z/60bSGWq8pnSqnfuvyNS8uq3ZtOw6byqfy1a8N7WLcxrVMbIvToVyuTX2OEnptjOKnrr+hDfs/qv+4nvZdwzh/mLTtn8a1vqZtqHnjhtP2GdqL+5xj0zIa5vgIZbS8hnG9YdP6m82pF5eN08FHbIvTXhlt25aN4yEd/9t6try1a1zDuFycDuU8m9a3YSiXKpuy2/qzEEectleY0DMQQJxO+dXxdmLQeBx6E4OW0bw4XWdPldU6IfTKeDavbG65uG6qnvbLy1dbHMa+63xo3rih9sH68WwhP7bHafXh2a3NxrWODb18tcWh16+UzbaRKqP+m8rmlovbSdXT9rx8tcVh7NvzoXU0zwvjhXicDnViW5z2yqRsXh9ybF6bOfVSZTx/ubaUz5Td+rXxVPkmu+dDbRpaH57N5o8Sn4ZPr40mm823cXuMnt3abNzWGzae8/sLPr1yObacMsP4j4/P869lvLzYFqdTfVGfXrgVPjy/u8GGOEUAgUB7EZgZcZozSIcyw/znDtCxT62nfYpDm2/rqj2EWsfa1G7raDwuF6c9f9amfjS09W252K7lbahlUvXq8rVOHIY6tg0bV39bHWofrF9rs32wdu2rrafxuI6mbb7GvTBuJ5RRWxxqnrZhQ8+3tamvlM36isvGafUR19G0zde4F3p+1RaHob76j0P1rXU0HYfeIjzH5pUJvoM9/o/bHCWdam8UX1on12duOfXrhdaHjXtlR7XV+a3Lm0R7W+XT63eTzebbuO2TZ7c2G7f1ho03/f6Cv1QZzx7b4nTKX125kOf967FqnqY1rPM5TBktG4epdkM5r+24/iykEaftFSb0DASyxakOdl7YNJB5g2Fsi9NbPYiO49+r23TMmh/XtWmNx6F37Fom5bfJrvmpMPYfyqlNQ63blE6VU7uGsR+1a+jlqy0OQx21af1hw2Hre+XVpqH2oSmdKqd2DWM/atfQy1dbHIY6atP6uaFXT20aqq+mdKqc2jWM/ahdQy9fbXEY6qhN68dhXX5qAe7ZY1ucjtvVdG45Le+FW+FjHL/jth/Xj9Ne30ax1fmtyxulrVBnGj69NupscV6cTvU7LhenR8Wo7vcXfNble3mxLU6nfOaWqzvO2Eec9trOKeO16dWz5ZrybdndHEecIoBAoL0IZIvTMEjZQc3GmwYwr2xsi9Nxe9qGV07zUmGqjmfPtaXaiu2xv1Q6ZVd/TfmpcmpvCmP/obzaNFQfTelUObVrGPtRu4ZevtriMNRRm9YfNhy2vldebRpqH5rSqXJq1zD2o3YNvXy1xWGoozatnxt69dSmofpqSqfKqV3D2I/aNfTy1RaHoY7atH4cpvLrFt9eXmyL03G7ms4tp+XjcNz6sT+b9nzn2qyfpnjw6f031avLr+tnXV6dz7q87fKZ266WC6H3b49Ny8a2pnq2fG489fsL9evyUvlxnTidWy9VLtjr/kN72qaGtnxsi9OpdrVcCDVu/cbxnDJxnd2YRpy2V5jQMxBotTgNA2I8kMbpukEzlK0r7+V5tro2mvKsvxC3aXt8KbuWqcu3fYjLaX1bJhW3dUNc0xqqL5tWm+czLheX9fKtHy9fbXEY+1Y/Wk7TWx1a/yGuaQ21XzatNq8vcbm4rJdv/Xj5aovD2Lf60XKptGcPdbSehurfptWmPmwYl4vLevm59bWuhrFv9WPzU2W8BbrW9/JiW5wOdXNscd+0zVTo+YzLDutT63u+c2yjtlfX7rA+6/pZl6d92Mr2Jukz51hC+165lD1VVo8jVW9YzIKfVJ2U3fbBKxPb4nRum14923ZO3PMR2+K0+o3tcVrLeeEwZb36u8mGOEUAgUB7EZiKOA0DWhgU7X88yNUNmnX1Yj+2LS/P2rw2PZutM0pc+x/q2rimbWj927I2niqvdbWshmrPCW2dENc6sd3mhTI2X+tYe1O+raPxuA3154W2jrbl1ddyWxlqe7ZfGtc+2DLatmez9Zry1Y8NtT3PpnkaahltR0O1axiXV3sIbR1bLrbbvLie58/W9/KtTeNxG8Gutji0dbQtLaN5tr61hQW6969l4jy1a5ha4DfV8/qnPr0w9qdpW3ZYn1p3Wseg7WnotTvKMSgWGqr/EKpNQ5sX4lvd3qR8hv7HfQ9pPS4NvTJaLs5L+bTlvDKjYBZ8hnpxXbXFoe1DXEd9DVsmLu/5tWWGidf1P/ipa8vWHbbNYcrv5rKI0/YKE3oGAkOJ0902UKUGfzvwp+K7DQuOp/6WLPCZXXxS48Q0OTGJPkzCZx0mk2hvEj53+zHUHd8k8qZ9jiZxDLvBJ+ehPIchThFAINBeBGZanO6GCYdjKE844AEecAAOwAE4AAfgQB0HEKftFSb0DAQQpw0vMagb3Mhj8oMDcAAOwAE4AAfgwM7iAOIUAQQC7UUAcYo4dZ9LYqLdWRMt54vzBQfgAByAA3AgjwOI0/YKE3oGAq44/R7BhmCDA3AADsABOAAH4AAc2IUcQJwigECgvQi44vRPf/6OwXgXDsZcUc27ogpO4AQH4AAcgANwYPdyAHHaXmFCz0AgKU6DQGUHdfcOzEy6nFs4AAfgAByAA3BgFjmAOEUAgUB7ESiJ083NTeEfDOAAHIADcAAOwAE4AAd2KwcQp+0VJvQMBBCnCHIuSMABOAAH4AAcgANwYGY4gDhFAIFAexFAnDIZzcxktFuvAHNc7G7AATgAB+AAHMjnAOK0vcKEnoEA4hRxijiFA3AADsABOAAH4MDMcABxigACgfYigDhlMpqZyYiryvlXlcEKrOAAHIADcGC3cgBx2l5hQs9AYERx2pGHn6/JO2+9Iz/duJctbjqdjvzqV7+Sf/qnf5K/+Zu/4R8M4AAcgANwAA7AATiwyzgQ1nlhvRfWfZMUuE9+q2vR38qTITYbEKcIIBBoLwLDi9Mn92Tjp+/IW2+91fvfkHsZA8J//Md/yN///d8zAe2yCYiLDFxkgQNwAA7AATgABzwOhHVfWP9NRqA+kc/XdC36lry1ek0+f5gnhhGn7RUm9AwEhhKnDz+/Jj99xwwEhUBtFqd//OMf5e/+7u8QpghTOAAH4AAcgANwAA7MEAfC+u/JkycTEKiROC3WpO/I2sY96TRsmiBOEUAg0F4E8sRp5578as3ullqB2ixOr169ykQ0QxORd/UUG1fV4QAcgANwAA7MJgfCOnDrd089cdpdn77z02vy2yfpZ4YRp+0VJvQMBDLE6T3ZWLViNI43i9PV1VXEKeIUDsABOAAH4AAcgAMzyIF//Md/nKo4LR49e2dNPk8IVMQpAggE2otAszi9t2GeL42FaUg3i9O//du/ZTKawcmIK+SzeYWc8855hwNwAA7AAcuBlZWV6YvTt96Stc/924kRp+0VJvQMBJrF6SY7p3aAJc6ECwfgAByAA3AADsCBfA5cvnx5+uKUnVNUDgjsSAQyxOmmbI75zOkvf/lLdk7ZOYUDcAAOwAE4AAfgwAxy4F/+5V+mKk555nRHahI6DQIFAnnitPfWs1Hf1vv48WPe1juDkxFXlfOvKoMVWMEBOAAH4MBu5EB4W+9//dd/TUmc8rZe9A0I7HQEhhKnxZvWRvzO6b/9279xtRSBCgfgAByAA3AADsCBGeJAWP9t/Zt6w5t4o7f18p3Tna5J6D8IFAgML06LXdSOPPx8Td556x356ca97EEnXDn753/+Z3nvvfeYmGZoYtqNV4I5JnY44AAcgANwAA74HAjrvLDem8yO6eATMU9+q2vR38qThm+bWoHMC5FQQSDQXgRGFKeDgcH+2ImDCxyAA3AADsABOAAH4ECbOYA4ba8woWcggDgd4kpbmwda+sZCAA7AATgAB+AAHIADzRxAnCKAQKC9CPTF6Ve//zr79lwGvuaBD4zACA7AATgAB+AAHIAD7eNAWPPyBwIg0E4E+uL0D398ijhlFxUOwAE4AAfgAByAA3BgV3MgrHn5AwEQaCcCfXH67NnzXT0QceWyfVcuOSecEzgAB+AAHIADcGDaHAhrXv5AAATaiUBfnIbuhR9ruJoUbncI9+PzDwZwAA7AATgAB+AAHIADO50DYW0b1rgI03YKEnoFAopASZyqkRAEQAAEQAAEQAAEQAAEQAAEQAAEpokA4nSaaNMWCIAACIAACIAACIAACIAACICAiwDi1IUFIwiAAAiAAAiAAAiAAAiAAAiAwDQRQJxOE23aAgEQAAEQAAEQAAEQAAEQAAEQcBFAnLqwYAQBEAABEAABEAABEAABEAABEJgmAojTaaJNWyAAAiAAAiAAAiAAAiAAAiAAAi4CiFMXFowgAAIgAAIgAAIgAAIgAAIgAALTRABxOk20aQsEQAAEQAAEQAAEQAAEQAAEQMBFAHHqwoIRBEAABEAABEAABEAABEAABEBgmgggTqeJNm2BAAiAAAiAAAiAAAiAAAiAAAi4CCBOXVgwggAIgAAIgAAIgAAIgAAIgAAITBMBxOk00aYtEAABEAABEAABEAABEAABEAABFwHEqQsLRhAAARAAARAAARAAARAAARAAgWkigDidJtq0BQIgAAIgAAIgAAIgAAIgAAIg4CKAOHVhwQgCIAACIAACIAACIAACIAACIDBNBBCn00SbtkAABEAABEAABEAABEAABEAABFwEEKcuLBhBAARAAARAAARAAARAAARAAASmiQDidJpo0xYIgAAIgAAIgAAIgAAIgAAIgICLAOLUhQUjCIAACIAACIAACIAACIAACIDANBFAnE4TbdoCARAAARAAARAAARAAARAAARBwEUCcurBgBAEQAAEQAAEQAAEQAAEQAAEQmCYCiNNpok1bIAACIAACIAACIAACIAACIAACLgKIUxcWjCAAAiAAAiAAAiAAAiAAAiAAAtNEAHE6TbRpCwRAAARAAARAAARAAARAAARAwEXAFafff/8XefyHJ/LV77+WLx/+51T/Q5uh7dAH/kAABEAABEAABEAABEAABEAABGYDgYo4DaIwCMQ/PP1v+Z9OR/705++m+h/aDG2HPiBQZ4OEHCUIgAAIgAAIgAAIgAAIgAAIVMRp2LUM4nDaojRuL/Qh9IU/EAABEAABEAABEAABEAABEACB3Y9ARZyGHcvt2DGNxWnoQ+hL9e+GLO05JZd+V83ZsZbfXZHjexZkruF//vXr8nRLDzKN5f3Lpxr7M3dkRT79fks7tP3OinOxLB8P05NSnQdy6Ydby8+P31yQ45cfDNOjQdnQt73L8unAUo5tfiNfXFuVxVePyf59Aw7O/+CYHH3tglz992/K5cdIlY7jxrLMvXJFvhrJX5q3j35+1c40MwAAIABJREFUpsrbN2+UWim4vfxZyTZcIt1+jp/x289pRaTA+2cP8wp7pUq89grU28Zuv979ELkdWV86KPuXP5POELW2suhEzvlY56fH4THoURxT9NsaBrPx6o/f/2H6SlkQAAEQAIHpIVARp+EZ01goblc69KX6N97CMPbXNEF+urwgc70JOCy26gVkWZQ8e3xLPnj7rBz9wcFyvR9ekftxR5rSYTGfWa84poTQPf4zK3JGxPLJZ7L80oIcWr5Rv9gzwmd+bw+7fYfl0KvLcunGQ3mWPOYg8Jqw7uYfeu9O0ksl49crMh/jEi+unAVf6ryf/HlvZVeqM4o4rT8PxSI/Eqfpc3xQTv7cnONS3yJENh/IpVcWZP74ily981A6zwf5z759KLevrcjRfaMIY/94SsfRxOfafN//oPf1seRvvrZN69Nr/xu5+nr0OzdcsxcXku3bJhrin75dbcu2EaqX8Db+Unye23NQln9tCrrcqTvOw7Lym0H9VPuDEtOKTVacZl8QiceajMOv5Yp3fgKHDe9s/NDbVpx7HO516PlDWX/3rBw90BuDD5yQ0+9uyKPNcof9vnXH7qXy9aByxV7Krf+bVTmkc0XlOOxFw5r+u61hBAEQAAEQ2CkIIE7DDmHNoqFYyLn5YXJckNQk/Oj6G3Jo3zFZ/MkNuf9Nw/X6zoacM7tWdkFh4+PunN5+97DMlXaMhpzgN7+Rm5fPd49r7W6NuBSRb+/IBU/4dL6R+zeuyLmXF2T+1StyP1rwDPPDcRc3wzjwynoLvkq5B7J6fEFO/6K3q1iqMx1xWulSYejI1cUFOW53y0p9i2qFheyRC3K77hwEQV+38xq5LJL3LsrRPW/IeuS3JFYahODTX5yVudc+StwpUOVtWnDZixzdi0dJ3jT0aXCo1fZFxlyUD5xvWayEd5PXzQ05t+eYXLDXelzupI6zah+q/ab+7fD8JOcajqu2nnt+fIfZY39xweqgHFq6Lve/7V6tevbtA7m6dEzmXymP137fqjzweyTi1h/rN5hqCTsIgAAIgMBOQgBxOgFx2vlkWfbvPSWrd81WVB0rhlhk1Lmpz+vI1dcj4SLeIrvq5dnjO3L13bNyqBDQh2Xxlw+kEwmPcq2OfPzmQZkLtyGnym0+kNUfLsihn9wtVx0i5S5unPruzkZ8VV53pXPOxddrcnLPGflA7zov1QmLs/IOutOlsqlzXRb3nJUPE49YZy/yOxuyuPeYrFpIS30rNysTEqeP1s7I3MsX5YuoudJxNCxCb/64yx//sk4eb6Pm+8kkbxr61Hfg/m7GXJQPnG9ZrIR3g9fO+nmZeyk6Zy53UsdZtQ/TfkP3Wpkdjs9ePPTjDRdEGo7s9nvHZP7Ht/xS7vnxit6V1ZcWZHHd/poSv6HkmFD14f+OqjzwehRsbv2xfoOplrCDAAiAAAjsJAQQp1suTruT+Mm1x/k8yF5k5LuslNy8IUt7o50Rd5EtIpsdeXrvlnzwD2/I6ZcOyty+Y3L63ety++vH8sW1C3L65YMyt/egHD+3Kh/cfFC6HbTb7meytHdBzm1UelEydK6fT9yq3JFP3z6WsfBbkKFu6y21nkhknIsvfnJM5s5tDG5pLtUJi7MhxemdVTl04ILcTHQpb5EfLggcLi4I2CWoFH0bLKJLt35O4rbezVuy8uKCzO87JivRAVUW83pBID7uzc9kubil8JSs3utmVuomnjt/9uWGrLx2QvQ28vkfnJGltVuliyTForh/ccKcq7EWxmMuymMM3HS3DV8EDc7x3J7u7Y95vAm/9zty4aVwJ0A0ZpV4rR1KHWfVnt2+up5gWDyeUbprZIKNOa5dIeaUK5u6FxT7d2iUM6X727a3usYFuumi7ZdWozskgjg1nOndHVTXz/h8+mWrPPB7hThN4YIdBEAABGYdgaHE6QsvvCD2P/UsqpaJ84M92OIwLqdp/5nTx/LhYvV5K2/Blrrl1p50f4IdlCgWxcPc1huExp7zcrWkEAb+3Fjmbb1ziQW56zMyujsjCXF688eHZf7IGVn8hzW5ea/j3r4bdlPXL68UQnXeCrWi3XHFaf4CJzrM+uSTW3LpXFm4LK93n30teNBfrNUs+L7dkHMHDpeFV2kRH/puBE99j4rc4hbWveeltLFh6sWLQpPVi3bk9nunZO7FZfn42yi31LcoLySL54IvyOnj1RcinTy3OuQLkXoC+bWP5Kt7V+T4kXJ/SsdRIwTvv39K5l5bk6vvHiuOab2yo5zY9QnHuu+ELK0PdvY7X9+SS4uHZb/ZfUr+5mv6VEbOaz+fs8n2y42MnSrhXeOt6E9FvEhC/KSOs2ovxs6c35TXtx5vr/7miiyGi2GFn4Ny6NwVuR1z3Ptdb5SFdtEXK8AqY5aIhFvYj6zKbe3P87vy4ZunBhc6XlmWD727Ybz2e+OKuhrtnN+SlQM1d5c0/bZF5NH188VdPJd6F3m0P5IY+5N3U/QuYNjdV/+YqjwYtFmOufXH+g2W/ZMCARAAARDYmQgMLU5VOFqRmbKpCNV8Tceh5sehL063Fmh3gjRN2EWNMUt3cq8+c1oIjdSOUNnB9FKpnZHUAmULehYEbtNtveFlPP5tvfkLnOyudj6TpRcPy+nLt+RR727rzu82ZOnlg1J6SVTtgq8nvvYsyOJ1c/WhqGN2IYa6iPCNfPhat25pV9McWK3ICAvjxcMyd+QNuaq3GZu6ubsrtspI8c1v5NMfn5B5I0g7N5Zl/4tn5YPegr50HIlFaFFnr4r7TuFzbt8J0YsI3b554lDkWbg19a83qhdToraSv/moXBoHr/18zhbt90WbHmu6NS+nu0N8rPeCr4Oy/9Vl+eA3hpO9FyINLtr5F1wKvPcsyPzSRml3uWjT/S2kjrNqL51v7yDqbPqbOnJeruoFsuePZT3cHfDaR/KoX/ehXHr9rFy6+bj3qMFzebS+LPuj32BpHC9uy69eQAxl+uNR766C/eeuy/0C1ufy1bUg9M7Kh/Z3ljmujHTOb17ont8Dy/Jx+dR2j949Pz1gwkuNlk/I3L4zshrxolvC43DI6b4kbf+5Nbn9uPfM6ePeGNO6Z07NmOteQO5hQQACIAACILCjENhScaqi04pMa9N4HNryNr4TxWmxCMkUp8WCqb9INRNthm3pk3yehT7FL7Po1o4XKCE9XD/6i9/4pTnf3pHVVw9W3wRrXoi0f/GjxAuRqgvd/KNNlPzNBdnvPAf5bP0NmXt1bbDYrVnwFed273m5unFB9u89ISu/7q0YS3VC34cQHEXdM7L6/nmZ64uy8jG4i/zOA1l/94wc2ntQjr69IV+lHm8u9a3rdxK8++rnZ2T+1YuVXa2nn1yQowe6z9OWjqMiBJ/LF2tni12eC9Fi+tHGihw/cMy8CTbmbQ+vcKy6c6oXIL6+JauvHdxdO6fFcR6Tc9d6O8SbHXl0c1WO7y3v6JfwLlOqSD27e7Goc/ry9eLlZUGIld7I6nBHpOZtveGxga16W2/RdvT24NDrJx/J6Zrns7uH2b3gY2+HLTjfFzCP5YNXowtMxWMPg99t906T+FbYjqyfix4lCP3MGFeKsaPfvnMyKqbuc/vzyxdl5aUF/zM43vl5/lhuri0Xb9k+9PoVuVm560AbSvyGQvbm4+17W29lXND+xmFN/+OipEEABEAABHYUAjtGnBaT+4jCqfT20uj0NC0ayosaW7kr5OJbh9u2c/p0o/typuptXeFYhpnghymrOD2Xr25ckSX7Dc2sT8l05NPlw1nPnOrzddpiMiyehfR3TsOzdmV+VXeZ7v8iCKeBIO3iekzOXX8c3f44jDjtPlM2/2b4JE9vV/aVi/JFJDSrIiM81xxucbwoH38ZFY4BCAvY+MJBXGZK6dJxRIvQp9fOy3xq97fSvzQXs5859Z4/jPpUabZv8NrPv6DSNOb0m0lEwktyDr1rX6vbLVj4XRo86F3CO/JVXDTYe1BO6qelnt+VS68elLmXl2VdOeWJn8hPXbKu/bp6RV7RdnV3M3fMitsOaftW9uKlXa9fHzw3Hs69uUgVnlH1nmcvxnf7fd6GcUWPc+hzXjwe0hPL4Rb5vYdlaSP65nDl/ATxfFDmX1nJuB2/x+ExvnOqx1YOx/wdjPUbLPeEFAiAAAiAwM5EYMeI00nBGy/o4nbiRc0gP0zu1dt6pbgVy1tUDWpWYmFCzhDew31KZrATlX5rsLfIrvSuZximbMrHGPbKQmwEXxnPhlVug+3drjpnhKm2HATqofApllLf8sVpwb0Db8i6PkPXu5Vw7pXV0g5kvNDW9scOM3k3t5j6pMsYPQht20X+UK4mxMXQp+MXM75B7LU/5qJ8iOMfS5wGPr8bnrvuXVix7WpeuH0z2Eu8tgXz4mPxNtl2FftwQeLCuTNy6Ig+m1q9Tb4yjhc7sDpOd3dEBy+xe1h8/zc5Jsd3xmSMK0OJ029vyNKLC3L8/cH3iru3Xx+WxXAxTP+SGGmBccIqzrE3/5i6v4Oml+EFX2798BuM8Y0bLtLN/XOrYQQBEAABEGg9AlMVp+GW3dxbekNZ97beLZ6QiyvhyQVpd2fLu4KeeuZU5E7xttLKmy/HpcLdi3I0a9IOt77dkkuvH8vYiUpN8N5CO1V23APLrL/F5z3ZatzOby7IoSPn+89NVuqFT+WU6uSJ02Lndc9hWboRPUy2+UA+XDw8ePat9+yg/zxqOCfNt2HPL9pn9CpHUG8YhnfG07Mvb8ilt8/K0UgwzB85IaffviIf/y46blO3iD65JR/E9fcelEPHz8ry5RtD3cYcuy4Wxd7O6dcfyemm7w0Xn1vxfgs5b5g+JZceJhblcSfr0oFv+0a7rTd85upQ2KHW3dGmdnpv/q0W8zAolyrEqf3mbjm7PlX6TdmiUbvFrmK4tf263P5y8PK2WBhXxKl0x/bi2fHiE0zlTznF9W0PRom7Qsxz9PyurL6yUFy4ib8B3fn1BTm6z7w4LYlRd/xOimsdM45ckJupT31l3FWTOqab4UVm2kYiXFx/7ovT363JyabfYPHbjXjgYYkNBEAABEBgRyKwpeLUis84HtLWpiJV7V44DXEqxcsx4k+s9M5lWKyG57jMc1SDsxwmR2fnVET6L3WpvCFxULsUy1kUh5eWhO+Glip6iYfywasNzyH2q6Um+N0rTpPCpI/JCJHSIjFHnN6RlSPHqsI00fRYC+V7F+VoSmBsKe8Gne9+5/eEnLt8Q+4/HggGkefSefxAbq6tyNF9B+Xkzwc7Q4PaPbG/97Cc/skNuf+NEbHFJ45uyOrr3bf4fmqy+vVL56JvLUVSi+pSodpE6ndTW6mfOX77IrkvRPIvavS7Uh+pxXI8DOobji/42NLldt3v4W6G39eC2GOvilOR4lNWr1+XR+vnJX7jeHGOzG2+tgfVeLlP1fzeBQnvgkhU+Okvz8r8q1cSz+JHhWvPT1Q2Tm5uyLnopVHlIuGYmi982Vuly/WbU+P9Dpoxb+4BJUAABEAABNqIwJaLUxWgKfGpdg09Uaq2qYhTvb0ovNXQvvHxzposvrgg+4vnAb1T152842dOtWT3GcVjshgW2N82PBeYfSuTet+qMDXBe+I0p83MBY236Cmeixy3fnMfx1sQJfyXFok54jThJ2EeS5yW+hY1MCHehf7ud56JtK13rp1N3r5XnCPvrbt9B927E9zfXnG8k11U5z732O9uFElx8Iv3w9uOzadMonrDJsfiTWisjjsZO2vD9rdUPtl2ecwqvjn8w/Airu4Y++zbB3J16Vjx+ZcmcSrFjukZOf3aQbGfSCn60bu19ujyRvP4PWksSsCYRBIjUyYZLeNYLdaUP/4dAKnfQbUvniXRv+KzbAdl8Vr0fK7nAhsIgAAIgEArERhKnKponFY4LXEazsyjTy7K4vHDvU8zLMj8y2dlJfpWXfkMdr/l6S6QewWLWxvfPCOHflB+FqryTE32s27lHoyfSkzw4XMCP1yQnOeGxu/DdD2MtyBK9LW0SNxh4jR5S3viWDPMunO6tHarvPMZ7ir45qHcvpaxc7qvd2GnsnN6Sz5YDiJuRUbeOX3/ROnlOBmHFBVJ/W6iYolkioOzIk6L3c7i9ugEQMH88Iocd3f8I+w3H8jVN8/Ifr0V9MAJWbx8S26+f6q0cxpecDRX2bnsPms6t3dZPvZub+09S9r3XVxUG7zRd9D7qE+DjMnGSuPOsE019bkpH3E6LOKUBwEQAAEQyEOgIk6/+v3X8j+dTnEL7rREqNdO6EPoS+UvvB3xSMbOSFhIDPXq/kpL0zNk3l4ZnuMZ5hMyzQeQXoCEl640PTfUzfcWa80tb1eJ4q2w3s5tZLO7LsP1tYXiNPW23mzeOZ/0aABl2545LXZOmseH0rdtG46lmp3+3VTLVi2FOK0IpWq5cS3Fzumoz3yGxmvFz11ZPd6M81zl1tFbsnJgQbb8mfxxwRqr/mP5cDG6ABmNJzqW1l3MHLoLteenyVuPw8m39d6RCxnzrP8+hqa2u/mpizR5tZv6n+eFUiAAAiAAAu1DoCJOH//hifzh6X9vuzgNfQh94Q8EQAAEQGCXIBA+kXJgRT71dip3ySFyGCAAAiAAAiAAAqMjUBGn33//l2LHMojD7dhBDW2GtsOuaegLfyAAAiAAAiAAAiAAAiAAAiAAArsfgYo4DYccRGHYtQwCMTz3Oc3/0GZoG2G6+8nHEYIACIAACIAACIAACIAACICAIuCKU80kBAEQAAEQAAEQAAEQAAEQAAEQAIFpIIA4nQbKtAECIAACIAACIAACIAACIAACIFCLAOK0Fh4yQQAEQAAEQAAEQAAEQAAEQAAEpoEA4nQaKNMGCIAACIAACIAACIAACIAACIBALQKI01p4yAQBEAABEAABEAABEAABEAABEJgGAojTaaBMGyAAAiAAAiAAAiAAAiAAAiAAArUIIE5r4SETBEAABEAABEAABEAABEAABEBgGgggTqeBMm2AAAiAAAiAAAiAAAiAAAiAAAjUIoA4rYWHTBAAARAAARAAARAAARAAARAAgWkggDidBsq0AQIgAAIgAAIgAAIgAAIgAAIgUIsA4rQWHjJBAARAAARAAARAAARAAARAAASmgQDidBoo0wYIgAAIgAAIgAAIgAAIgAAIgEAtAojTWnjIBAEQAAEQAAEQAAEQAAEQAAEQmAYCiNNpoEwbIAACIAACIAACIAACIAACIAACtQggTmvhIRMEQAAEQAAEQAAEQAAEQAAEQGAaCCBOp4EybYAACIAACIAACIAACIAACIAACNQigDithYdMEAABEAABEAABEAABEAABEACBaSBQEqfPnj2XP/zxqXz1+6/ly4f/yT8YwAE4AAfgAByAA3AADux4DoS1bVjjhrUufyAAAu1FoC9Ow481/HD/1PlOOt99L3/683fy/V/+In/hHwzgAByAA3AADsABOAAHdjAHnj17Jt99932x1kWgtleY0DMQ6IvTcDUpCNMgSsM/ohRhDgfgAByAA3AADsABOLCbOBAEaljz8gcCINBOBPriNOyasmPKBLSbJiCOBT7DATgAB+AAHIADlgNhBzWsefkDARBoJwJ9cRqeMWXXlAHcDuDE4QMcgANwAA7AATiw2zgQ1rz8gQAItBMBxOkOfn5it00Ws3g8Ly3+VeUWes82i9hwzCyI4QAcgANwYBIcQJy2U5TQKxAICMyMON3uBf92tr+dbYdJZbvbn8TEthU+63Cpy9uKtvHBgg8OwAE4AAdmlQOIU0QQCLQXAcRptHM6qihoqteUP8kJIrft3HJxX5vqNeXH/iaVbks/9Pjq+lOXp/UJWVjCATgAB+AAHBieA4jT9goTegYCiNMpidPtnDxyhU5uufhYRq0X+5l0uk39zOlLTplJY4b/4Rc9YAZmcAAOwIF2cwBxigACgfYiMJQ4/V//63+L/fcGX823ecEW0nFoy0wiHhb3usDXMLSjdmuL7XFeXb7159XTuiG0/1qvKd+Ws/Xr4raO7ZParU3bT+XV5ds6sU/tn2fXeupby2qo+RqqvS5MtRPqqB8NPT+aZ/1Ym7Xb+lomtmm7NtQyKV+a79WxecTLvyXwAA84AAfgABzI5QDitL3ChJ6BwNDi1P7wVWyqzaa9uNo01HqpUBf9cZgqb+128a/1Q76156TVZ1wvruvla924rNq1Thw2ldf6qVD9qR9Na6j1mtKpcuq3Ll/z4rJq17bjsKm81vdC9WXzrM3GbZkQj/M0raGWr0vbPI3HYcqP2m2oda2NOIsvOAAH4AAcgAPjcQBxigACgfYisGXi1BOcakuFkxpcvUW9Zwvtx/Y4rX307NZm41rHhl6+2uLQ61fKZttIlVH/TWVzy8XtpOppe16+2uIw9l3nQ/M0VF+aDqG12XiqjLXH9eO0509tqVD9a76mvTCnjFcP23iLFvADPzgAB+DA7uYA4rS9woSegUCrxWlYnHv/TZOGt6i3ttin9WfLxfa4ni1r47aexr18tcVhqBNs3r/6S4Xqy+ZbW+wzVS62x/Vin7Z8HLdlNU9tcRjyg83717qpUH3ZfGuz8VQZaw/xuI5N27jWU1sqjMtp2gvVh5eHbXcvnDi/nF84AAfgwOQ4gDhFAIFAexFotTgddWD2FvVq01B9N6VT5dSuYexH7Rp6+WqLw1BHbVo/N/TqqU1D9dWUTpVTu4axH7Vr6OWrLQ5DHbVp/dzQq2dtNm59puxeX2xZG1d/akuFcTlNe6H68PKwTW7RArZgCwfgABzY3RxAnLZXmNAzEJiKOA2DfHxr7yQHfm9RrzYNtf2mdKqc2jWM/ahdQy9fbXEY6qhN6+eGXj21aai+mtKpcmrXMPajdg29fLXFYaijNq2fG3r1rM3Grc+U3euLLWvj6s/aNK6hlvH82jyNe/U0j3B3L5w4v5xfOAAH4MDkOIA4RQCBQHsR2DJxGgZRFaBx3KZtmUkOvHZhH+Ka1jC0be3aF5uvNi1r07EtVU/rePlqi8PYd8qH1tN8Da09xDWtofq3abWpDxvG5eKyXn5ufa2rYexb/dj8YcrYejaufjWM8zStYVM5r09aV0P1oWHK7vnSOoSTW6yALdjCATgAB2aDA4jT9goTegYCWypOw6AexKcnQNWm4TQmgLD4VwGgYWg3ttu8ON/2U+tpaPPq6mmeV97mpfpR117sU9O2jvUb222e9iW2Wbutr23ZfGvTeMqf1rOhraNt1dXX8hrGdeK6mq/lbah5to6Nh7JxWm0pu+bbdjTu1cnJ0zKEs7GI4jxznuEAHIADW8sBxCkCCATai8BQ4pTBcWsHR/AET0+geja4AlfgAByAA3AADmwNBxCn7RUm9AwEEKd/2ZqBjgkDHOEAHIADcAAOwAE40H4OIE4RQCDQXgQQp4hTYSJt/0TKOeIcwQE4AAfgABzYGg4gTtsrTOgZCCBOEaeIUzgAB+AAHIADcAAOzAwHEKcIIBBoLwKuOP2eAXpmBmiuwm7NVVhwBEc4AAfgAByAAzuDA4jT9goTegYCrjj905+/Q5wh0OEAHIADcAAOwAE4AAd2HQcQpwggEGgvAklxGgQqO6g74wogV2o5T3AADsABOAAH4AAcyOMA4rS9woSegUBJnG5ubgr/YAAH4AAcgANwAA7AATiwWzmAOEUAgUB7EUCcIsi5IAEH4AAcgANwAA7AgZnhAOK0vcKEnoEA4pTJaGYmo916BZjjYncDDsABOAAH4EA+BxCnCCAQaC8CiFPEKeIUDsABOAAH4AAcgAMzwwHEaXuFCT0DAcQpk9HMTEZcVc6/qgxWYAUH4AAcgAO7lQOIUwQQCLQXgRHFaUcefr4m77z1jvx04162uOl0OvKrX/1K/umf/kn+5m/+hn8wgANwAA7AATgAB+DALuNAWOeF9V5Y901S4D75ra5FfytPhthsQJy2V5jQMxAYXpw+uScbP31H3nrrrd7/htzLGBD+4z/+Q/7+7/+eCWiXTUBcZOAiCxyAA3AADsABOOBxIKz7wvpvMgL1iXy+pmvRt+St1Wvy+cM8MYw4RQCBQHsRGEqcPvz8mvz0HTMQFAK1WZz+8Y9/lL/7u79DmCJM4QAcgANwAA7AATgwQxwI678nT55MQKBG4rRYk74jaxv3pNOwaYI4ba8woWcgkCdOO/fkV2t2t9QK1GZxevXqVSaiGZqIvKun2LiqDgfgAByAA3BgNjkQ1oFbv3vqidPu+vSdn16T3z5JPzOMOEUAgUB7EcgQp/dkY9WK0TjeLE5XV1cRp4hTOAAH4AAcgANwAA7MIAf+8R//caritHj07J01+TwhUBGn7RUm9AwEmsXpvQ3zfGksTEO6WZz+7d/+LZPRDE5GXCGfzSvknHfOOxyAA3AADlgOrKysTF+cvvWWrH3u306MOEUAgUB7EWgWp5vsnNoBljgTLhyAA3AADsABOAAH8jlw+fLl6YtTdk7bqz7oGQjUIJAhTjdlc8xnTn/5y1+yc8rOKRyAA3AADsABOAAHZpAD//Iv/zJVccozpzUrf7JAoOUI5InT3lvPRn1b7+PHj3lb7wxORlxVzr+qDFZgBQfgAByAA7uRA+Ftvf/1X/81JXHK23pbrjvoHgg0IjCUOC3etDbid07/7d/+jaulCFQ4AAfgAByAA3AADswQB8L6b+vf1BvexBu9rZfvnDYu+ikAAjsBgeHFabGL2pGHn6/JO2+9Iz/duJc96IQrZ//8z/8s7733HhPTDE1Mu/FKMMfEDgccgANwAA7AAZ8DYZ0X1nuT2TEdfCLmyW91LfpbedLwbVMrkHkh0k6QKPRxVhEYUZwOBgb7YycOLnAADsABOAAH4AAcgANt5gDidFZlD8e9ExBAnA5xpa3NAy19YyEAB+AAHIADcAAOwIFmDiBOd4JEoY+zikBfnH71+6+zb89l4Gse+MAIjOAAHIADcAAOwAE40D4OhDUvfyAAAu1EoC9qjCx0AAAgAElEQVRO//DHp4hTdlHhAByAA3AADsABOAAHdjUHwpqXPxAAgXYi0Benz54939UDEVcu23flknPCOYEDcAAOwAE4AAemzYGw5uUPBECgnQj0xWnoXvixhqtJ4XaHcD8+/2AAB+AAHIADcAAOwAE4sNM5ENa2YY2LMG2nIKFXIKAIlMSpGglBAARAAARAAARAAARAAARAAARAYJoIIE6niTZtgQAIgAAIgAAIgAAIgAAIgAAIuAggTl1YMIIACIAACIAACIAACIAACIAACEwTAcTpNNGmLRAAARAAARAAARAAARAAARAAARcBxKkLC0YQAAEQAAEQAAEQAAEQAAEQAIFpIoA4nSbatAUCIAACIAACIAACIAACIAACIOAigDh1YcEIAiAAAiAAAiAAAiAAAiAAAiAwTQQQp9NEm7ZAAARAAARAAARAAARAAARAAARcBBCnLiwYQQAEQAAEQAAEQAAEQAAEQAAEpokA4nSaaNMWCIAACIAACIAACIAACIAACICAiwDi1IUFIwiAAAiAAAiAAAiAAAiAAAiAwDQRQJxOE23aAgEQAAEQAAEQAAEQAAEQAAEQcBFAnLqwYAQBEAABEAABEAABEAABEAABEJgmAojTaaJNWyAAAiAAAiAAAiAAAiAAAiAAAi4CiFMXFowgAAIgAAIgAAIgAAIgAAIgAALTRABxOk20aQsEQAAEQAAEQAAEQAAEQAAEQMBFAHHqwoIRBEAABEAABEAABEAABEAABEBgmgggTqeJNm2BAAiAAAiAAAiAAAiAAAiAAAi4CCBOXVgwggAIgAAIgAAIgAAIgAAIgAAITBMBxOk00aYtEAABEAABEAABEAABEAABEAABFwHEqQsLRhAAARAAARAAARAAARAAARAAgWkigDidJtq0BQIgAAIgAAIgAAIgAAIgAAIg4CKAOHVhwQgCIAACIAACIAACIAACIAACIDBNBBCn00SbtkAABEAABEAABEAABEAABEAABFwEEKcuLBhBYHoIfP/9X+TxH57IV7//Wr58+J/8g8Gu4UDgdOB24Dh/IAACIAACIAACINCEAOK0CSHyQWCCCIRFe1jA/+Hpf8v/dDrypz9/xz8Y7BoOBE4HbgeOI1AnOJDgGgRAAARAAAR2CQKI011yIjmMnYlA2FUKi3dEKaJ8N3MgcDxwnT8QAAEQAAEQAAEQqENgZHF6//IpmXvzRp3vofM+fnNBjl9+MHS9osLvrsjxvcvyaar25jdyc21FTh8/Jvv3Lcjcnu7//A+Oyclzq3L1379J1Zyo/Yv3T8j8K1fk/kRbSTsvzuPyZ+kCo+SEc7FnWT4epa6IFDz42cMRa4vImO2P3vDwNcOOEjumCNPdLEzDsQWOB65X/27IUm8s1jHZDY+syu1qZd/y9Udyeu9gjHf9hTZ/OMK4e2PZ1At9PyWXRhqqOrK+dFD2L38mHf8osM4UAuNwKQ3URNdU6WZbnNPD+XejdXH89dJ47bu9HnO9M+56a7j6d+TCkYyxeeRxtYvQePpk/N/iWL875yQPxbuCD2/I+qbjaGTTeLwdqv+9Prri9NHGipz8wcGugDtwQhYv36lMoKOd/PoD9E5o0Y67eDkoJ39uhGzdD7TzmSwfWZD54yty9c5D6TwfnKHONw/l9rUVObpvDGE8cDd0bJLi9NHPz/RFeH+BFl1QGO08itTWc89FOPeJQenIinxqVmgeD/rAfr0hy68elvnga+9BOXruitz+tp/bjbjth6y7sno80Yeob6d/6V2sqDmGUv2DsnjNqx/1U6R4tnC3CxOOD/EdOBCepx7pL/l7TngLAvL4xZEv+FXmnH0rg4uenjgdaaGLOE2cvV1o/kyWzQXx7lx8Si6VeFO/NkqDUl/Pm0sr/O7PXUOsqXodevrv1+XCuTNy6IDOqwdl/5EzsnT5hnxl1llx/9N9UD+9MPOilHecoc3qOqUOrwdy6Yfl9uffLl+4r/rrHdmT+gtiS/19nLr2Y5QG6WS7oYg7PoZ2ysfSXwNmrbdq6u9ZkPmljb4mSGE/6L2NjXb8fQ/PH8r6u2flqPKt0Ce35GkkxNJ4jfFbLHBOYPrqmnzV72RvgyVzo+3pv16RxZd7eiusaV+7IOtfln886eMxjRbRjnz85uFibZy10Veaz2JfNu2dt2/k6uu9fjtcs+3n93/QZkWcdm4sy/69p+TCv3YX188e35CVlxdk/49vDWq5P/pSdiLhHeCgaD7JO3J1cUGO29019wfa9f30F2dl7sgFuR0ReNCyiPzmghzac16uGpFUyt+liVFIE6CorVdzLiow/uaC7I92vJM8+PaGLL24IMff6w1Gzx/Lxz8+IXMvXpCb9twm26/nn/Yt2b4WaAiHqR8W7LtdvL3wwgu7/hjrzuF2H39T+035dcc2TJ4vTjMvGGUuUoufZphwncmyYosu1DX8rLvZpck8bzzxF49ZrVFoZhDI5FIFj/p6+XPRcGsqkY7cfu+UzO07IcvX7shX3/YW05sdeXrvhlz66xMyt++MXLpX6XC+ITmPV12kjrO6TqnHq+q5bKn66+V/EsacnLvFRms/2W5ofgicwjo3e71VPvRBqjQGDifEREY7/m7jD+TSKwfl0NJ1ud/j27PHt+TS4mGZf3WtdDGyFq/BkSRiw/Xx/vsnZO71632xHpym+Bg32Fk/L/MvnpVLNx/Ls5C52ZH768tydN+p0m8n63g6D+Tq0jGZf/WK3H/ymay8fFCOLm/UXiSS6FzG/RukPUy6F3MGF14GpeNYVv+jSpE4vSurLy3I4vVIoX29Jif3nJEPzF1ZozQmneuyuOesfJh49Cj3hEpnQxb3HpPVu+Zoan6gnevnZ0qcBhwrC7HKYq175Xak8ygit987JvPRBYv+2ag5F/0yvcgXPzkmc+cGV+GCOcWDomw0CIg8lg9eXZCTa48HrpPtez+wQTWNpdrX/KZwmPqTFqeTFh45/nPKDCNydlrZ7T7+pvab8rcKb1+c5v0mm35zpfzsCbdUKy9R8p3Z9+R4lNckpXYoAsV5z5iLi4skmVyKodiuNdWNZZnfe16uJtZyoZv33z8lcy9dlC/iPuemh/jdpObcYn2TWPv0u1Gsb5vOU1d4JtdLYVyYoDjdjvVWH584cvOCzJtHIlLYx9W66RF5HiqHCwDeJtPmZ7J84KAs/3rQYvI8DYrUxIbpY08zrZc1Ux4m4Rbncr+1U4/WzpQEb/J4Njvy6M6GXHrzlMzvOyaLl80u8uZjWX/7RGE//e51uf1lpyuAtZEQluYzmxHHPUymKU7vXZSj7u7hN/Lha+WdyiRY8THZ9J1VOXTggty0NhPPO6G9betYpEQTgd1Sls1wxaXptt6DcvJn5jZh069JRr/62SmZe+VK6ZaASbYX+x7pPEpHrr6+IKd/kbh1NXdSuReeEz4mF+6UexV4MBDXejXyQXFLbuXCiYgUO+MWw2T73g+s3HZIpXn4QD54NX0bw6DP7bmtd9LCY9L+t0oYbaef7cZou9tX7KcqTke4rdd9DMIubIOIKE3meeNJamfj0+UFmdvq5/2rwxmWHYFAJpfiY9mmNVXB3aWNuDfldCGc49uXu0U6n6zIoZznwjPvmCivGez6YSF6N8qIOPeOLLlemujO6Xast8qnspQqjYF166VSrV5iiGdOS7e99+7W++uNqsASkfWl8mN5lfMU6YPBWs3jSj5Hio2v+M692jWkxaSmnQjj4nj6c9HgNxU2bOZ/0L2N/n5ZH/cbevb4jlwtboU+KJXH1aJ2+pUqEa+v0xSnoaOJST1cubEvQKqc/MrBVA2FiNh7XqKLDP2CaVGgRXq3kry4LB9nP2fYq1tsl6/K4qvHzPMRC6IvRFr/XeLMatP9sHuSVj8xzz6Ge/BfWZF1s7NcFA8vYbp8fnB//L7DcvLtDXlkbkEtcOxdhSri0S5i4efXKzJvB+nnd+XDcKWkN7jPv7IsH94t36Ne1HtySy6dOzEo94Mzsrz+sPTjHuU8itySlQMLcugnduu6D1DebSZfX5fFcIuuc1++z4OA+wlZ9W4TChO0vWo5MXHq/UDNcY8Qrds5VVERQo3rQj+ETTatp6Gtq/U1z4ZxuVTa1gnxunJentYPean6WkZD60dtcWjLqO9QJmXX+nG+rVtXxqtnbV7bcX5dGW3bK1OXp2149TQvhKl869vG47qpPFsuxH1xmnlb754Fybl9qPgJ5r4QyY4Zub/d0mTeNB6E/GjxE1700Vt0FQtqc2txMe69/5msv61j+0E59NqqfBrmunCblj5rX1whr74HQhrmhWKsr/Qn9G/QpwDD039dkyVtK8xtL5+VlQ1zZ0r/sY7rcrs0v4Ur98P3qxb6hjk0Xpeor+Ium+huryIvzA17l+VjnYO9OTI61iDEwjx1/xfn5VDx7KheMBV5+smqnH6pd8Fy3zE5/Q+fVZ5/E3kuX62b93j03pVws7Tr2MQlPbJyuF1rqnHF6WjrjvKx25S/ZvAeP0rj3PlN4P2x/nppbt/h7vN/Zl2X7PeT67JYea548NsfrHPS7dvjKce3Y71V7kEptfFGaVcvhX2pTk0iu37YsT2wIp/qb1d9btfOae8xM2/DJO+Ywq6rv3Na8MxswCV5pxiMGpbmszonHm+nLU7Ndr3tagxOnLZl/Xh39zVcsRj8UMsla09omEQWD8vckTfkqhks+h6SgqRfYosi4SQtyNy+U3Lh5mPphB/KZke+CLewRFdQvvrZeTl9+ZY86uneZ483us9MGkFW4KiYF7eXVJ97Dbj0hWBvF3j/uevSvVLyXL66dl727z0rH1pcOp/J0ouHu+33dGvndxuy9PJBOW52iIv2+wuW8iIlCVgYJEKdA8vysafpa89FmKiX5ejeg3LyJ85CJnnVyftx9HoYtxen+wcSfCQEbr9M3ZXAmj6Y+sNEm8SpFQ42nhIVOWVi0WDTcX2b58VzyqfKqD0OtR21azqEnq0u35a3cc9XU75Xx7adisd+bTmbZ+NaJrbZtI2H8nE65UPtGqbqab4NbVkb1zKeTfN8cTrMr2XUsvmTaGjh2d2PZOkVFRzRBcUwmffHy6qwc3uYGI/CuF664BueXdp7bDBmB2H23imZP3dBVo5355viuaQnt2Tlh+HOFSMYc+eFqINh/C/eFt9b8HXfOXFCltYf9Oe2RzcvysnwwsB43ti7IIfCPNR//qs7v21Fv7SbjXNouDBpxWZRMezOnJHTr1Xv7ilul+tfEHgol17vPu9VzOPyXB6tL8v+SKwHjI6+fl5Ovrkhj8w14P77OfR5sSe35MIrzvs5fnZK5l9elv4F8OeP5ebls7L/xWXzIsDeukK51e+jIuGF27imuhmeXWy4rTd80SFxW2+x7sg6Ru+4q7bU2rG8vlGx6KxzihcamTVdaOJ5R+6HtZVZ55T9OX6KrtWtE+ryqsdVWLZlvWX6EnaFdY1a3K59onTHRwp746E2ml+/ewdksfbtjznDPnMa1p8XzAWlw3LyzbXopZoZv8XeeBsu7K06G0O5x1SMIfaZ04Jzb8gh75nTSdxlM01xqmNbNL6myFF+5jR0dFI7p8UEfUZW3z8vc3v9H7V7QjsPZP3dM3IoXG18u+bh3sQCIHXgo9u7xC0941g4C1e3DspK6p7lXoPFlc7XPpKnvXQx2PV/+N3nJ0tXYjZvyJLBKzxAPffSavRyp46sn1uQQ++Z+2MDHi9Xn/d4tv6GzL26Jo9s+0NNEuG26oMyv3xRVl5a8D+F4J6L5/Lo5posHT8oc0fOy6XeC7d63SgFLg+KB+kTwjJ75zT3lpLUbbkjTCylI6smmsSpLuw1jBf/Nm3jqfJq90KvvlfO2nLqpMqoPQ7Vv9o1HULPpvlxXpyO68f5Tem4vrbbFMZ+tbxntzYb1zp1Yap8yq6+mvJT5bx6nk3rW3FaXuTpojEvLL0Ir/qTcixDiNNvr8vi3sOytN57QUV4ycS5w4NxrjSZZ44H7njYvQhWEqdhMb9YfrGGbG7IOeeCbjGPmNsqs+cFg053YWTuQip2ICLR2ysfyoZnDPWup+L8ObsY8fyW068KF/rzoemsiZbb6I7ppV31MB+Et2eGc2XmWn0/Qams8duNdgWffWTFP9bE+znuXqy8WDHMZ+fWjaotGrorqy/bXZNMLtn+FrzarjVVR27/5IzM170Q6cWz8qF3p1N/573/Clt7VCPFA8ZH368+llWcu9L6JoFzEKd2wyH0QsVpzPuSP6+7iTaKonV5nq/tWm+ZvpTGvOfFWtP+PgL2gwt2g7sKjIfuCzT74sSWb46XxvvwHOUYb+u9Hy4UhQ0uvVOy87i4AFjeWGo4R5vfyHp4I+7LF+TqWtgYOiUXflPepfHXsBaRQTznbb2D0hoLfWzGbnBeTFn7AtLSuVXfXuhhkj+vVn+HXhtlW1mcFoNddedOJDFgN/5ItbHuPfPzb96QjvSeGX3lonwRjdfVE9rd9j507qJ8HL1aWT33w9B3C3pvB849ORkndemTvucoEk5S9TlJkcwTFZGhOGlmMo4fhC6ecTJiMtxOUxKhvd4VE7Z97nLzlqwkdk7tle2hSVMIwd7FheKZ0cOytBE9e+osxoq3kh04JcvX7jq3PZUhLnhg38RcZHfxLQl3e+x2EeK0X25h1FT3yl0Wp8w5rWutLeK0TlSouPDCnHqpMmqPQ20n2L1/zbeh+hjGFtfx0rnt23bjeOxX8z27tdm41onDUMb+x/kh3eSnKT/lw7Zr414fgs2K07rfxKh55UWSmYyHGO+LcdTcTlX0pbijpbfoKo3f3oTt9D4xHhX9NXNoGIurC+zQhnNRrtQPkex5QbsXxu7o6rwUY7s3/4dKn8nS3gXRebGYN2KcQrFx+6X9qwujNoqXxfyfwSc/Qrq4eFy8ONEcTziPlV3WakPxOqQ4VnMhoKjxMHzL2/juu+negqk4BfOjX5xN7Jzat8xncqnfzvasqfrN9yLPvrwhl948I4f004N78j4l0/kk7FDn/UbrLyZ0OxJER2pePvq+ffwojXPltl7nsx5566V0G0O/rXbb1lvmTEe/N5NTROPfS5zfnnS4kHVMVn4T96i7tjzXf4S65vw9vysfFHdwDi7qPd1YlkN7u3cp6idttgSTgLv5jaTuOI2PZqh0w7kd+PIwydQ8I16MKovT8B1I7229xeQ6+tt6ix/0gTdkXZ8T1S3xV1ZL2+lbckIHaE4o5p2k0JRzosI3mf7hvJw8Yp5jCGQzwqXAxqQlXMHrT3rdHdHBLu3D4sVOlrCluPUTuuQ9TzPOM6f6KRdzhbK4+r7nsCxeN7eYJRZj454Q/229XdwHGA35avVxO5X94/Yb2ipxmhIYKbsVEDllbHkbz6mbKqP2OFT/atd0KkyV8+zWZuPBd1M61X6TPfar5T27tdm41rFhnB+ntWzKPm5+k1/1r6ErTouxImORap+5939KW2LdbnFaXYAk5pvSuDPkvFCM44dl6Ub5an8hLJPP4Zbnt+QifZx+eWcwYw4tRHV/FzcsQPXOrK6A0wua5Vt6u409+3Kj+53OI+UX3dnzEI61ctGgeAFOmrdlQbX1z5zurjVVOBdlfnlU2Bpb4vdkndesX6q8797tVlqHGUFRtocvTGS0r33Z5vWWdiO+4NS39yLTX7cHDNO/PcW8uokznjh9dndNFo8syPyrF0u6JcDQzTsmS590x9RpYpLTVsFb77bgMF4n7pYtn2ePt/m/2ervpuzdS0XiVKS4olX5zunBynOiuY2Fqwr79zgT4eYD+XDx8OBZyuSzhqHbeWScX/yof7tq6WBLE2YpZ4SEd5KCm+hE9QT4/PEVuXrnoXR0lzjqS4FjSVSaCbW48lv+9E4OEYc5qNzzGF62sfrKQvFm4fvRA+mdX1+Qo/sGt3yl3k4Z+lW01zSw7D3m3x5dPEdb/c6pfWaqOPaayWUYbLLKRuczq44pNK44DQv/IBJSQiFlV8HQlK/lUmFO/VQZtcehtqV2TXthXRkvz9psPPhuSnvt59hiv1rHs1ubjWsdG8b5cVrLpuw5+XV16/LUtw1dcWp+C8no83Brq3+7WLLOk7ty1bkwGF6Ad/S1Fbl0o/xiuL6f3m29i9d6+VO+rdeKom6fEvNNNO5kzwvFvFSdz4u2ht05Nbu+ffxG7VffgYlkzqHdF/T1HqkJx2Dm0+JtmsUOb1dElERjcedPeFyo/JmFGMswZ1XOy5bPMYnzbODQaCvWVNqZLQuj9dOW+Y0dxTgPIS7fvFH/ffe4KTcdt+8Wklast7Rr0W9azRrGvxe1J8PnD+Xjyyty+vgx2W9fIrXvsBw6flaWL9+o/zZn0vEgI7WuHf223u43Vk/+xHyqZdBcJTYMJtW+1nDSjG3aaE5b1TZ6tcPLA+058NbmxXPjHm878unbx0q7u3phYBCekksPvReTae/TYUWchqKlN9AdOOG+gS95sKW27sjKkWPVK7SlMoNEDsiD0lGs+AxOYgHT8OOKPDUkvZMUqkSDa/EQe/W2n9vvHqvfORURnVAfhQ/0Rm/vLXA3t/nWdzbV10Gtwp93RWVQpIg9/eXZ7sd9I2EaFesmx5y449eCl9p48plceO1Y94VMvbce3tYdeS04ZvvqJisck1tN4tQKABu3i/6UPZQZNW8r/KuPVB/UHod19bRs07F5Pmxdr35TvlcnZdP2m/Jtmzau9WObTcdxm9b6Te3X5af8qW8v37NpeVechscPjjRfBZ8bZuc0/P6LdxSURUfxe+58I1/duS5LLy9I6mJm4wuR+guE5vG1aDMxHoX5Ln7mtCKCUh+tj8ad3Hmh+PbkK1ckvsDYHevuyMqLiWdON96oPnOaIU5z++WOtZlzaKh788cHi+9uh1t6SxiGz5mEZwbvrcnJ/u5qt7VQZy6+NXkzrFnKL20Mx1DyGaoX74Kwz4y6R9A3Fjh4ePVL9Lj0sG9IRFqypkr0bnRztH4a1VH0u6i6yfzNVisWluI8JtdL3TsYShdAKn7y2t/W9VbWd1+7Y3a4o2CodXtvg+HoX1+Rj+89HmzaBJyKsXlDVl8/JvNH7C3vMYh5b3iv7pwGP7kvRNK7L+K289LDYNI8NtS3WcwjnqiMbbXjT30bQ9+OHrkb5RhdcRr5dZOjNOY6MsZhTqip1o0mFgBFZuOAVfFWY0gNLtHgWrwY4ZSs3ul9+Lb/Fq6G23pDy8WOaXjb4EFZ1DdQaI96t3ocXd7ovyVRs6phqq/VkltqqTsXGQ2NxYPgP26/SGcsgOMfc0iH53jHrV9zzE3iVMVD3aK/Lq+ufqjn/auY0HBU/0311W8car0Qxv2ry9Oytoz14dmtTfsR29Svl6/+bZ04nqqn5dS/puNQ8z0/mhfq2Lj14dXLyVd/cRjXtfk2L4674jT+rdb8VnKzirmpLyATte6Gb3qXH1VJlCybS3NJ5vhafO8xPOukt890XRaLCrNgCP2uiKBMcSoZ80LlBUjlIytSRZm95bf13r9xoRD7p385eHQjOf+X8BHJ6ZfTja4pcw4tCgche+CUHO/f0qtee+/LeO2MzJvnUkNu8ZjID8Mtet3z8uzbB3J1qfsIjj0P/nnp7Qb03rTZfduvtlkNk3hVi26pZay51PltFpz15skMW3gOd9z6jeDE/GusYAo4x2tyM6LRGjCjxpYUGbPfI3NksyOdTt3XDZyjC+fnwIrUvzc0jKt1F34yx12n+TzT+P6HwTQ1Nty/tizHD/TWrc5nKPVYctpKtaE+msPxMEm1/8X7J8qfyTQdQZwaMPKi4cUQ3lWV6sAUyHVSXxTQ2+W7+a8X5bhZOH0VHuS3LzIqOtF91nQu9fKG3rOkpVsi3Nczj0eoPDycUts1WGpXxmxf3UwjzBGn8SJf0yoKNE34XeVbpmDSHkzS4vQNWc+5IyP3B/m7NTm5T2/X/Kb7SZRe3WffPm7cOa1tprT4zR1fO91PwvS+S63Cp/hWpNmFCRO45g36kGgj9COeN2rnhbrnUsvzWffFMIe7d6cU3zmtvl29mLeMsO73t4RPz1rbr35NN5Izh3Yrdl9EZN/noA6L54i9xe7mA7n65pnBrYXFXWK35Ob75fPgn5fgvfcsafS8qt0N1z6kFmeaP6kwZ+GabHsHzaP9Y/D4189siIx9vN014ODFOg3tbVX2mP0eiyO1j+M5B9iwc/ro3o2MndPEmOg0N5ppfP/DYOqPDd0+XLjbey/At7dkufR278GRhbYqz8QPsovY/fCZMm+8jsqlk+Nh4h+jyOyI0+htvX2gc+6r7l35qy4O+l52YOSxfLhYftHD4F7w8k5i/a0oQx76VgyWlbf1DtGHMdsfoqWxi371+6/lfzodRNWf2yOiELRbfy4CxwPXK3+5t/WGz6kMMyZ0HrjPNTU+c1rpYJ2hN2E33opZ54O8mUDg5gU51Ls4kZqDC7u5cL0VuAyzSK60F+bR1JqqUrglhnBHRA7O3jPsT67LYtPzd8U6Mb2rF24rrz2/usM8llCIsB5zvVNwZJixNWp+6PpNz5yu3Sp9TzhqTiS8uPV4ef3qY554zK/qMLKMP64P87t7eu18/0Jg/zje3JDShbmandMg8Pr1lF9OaL/SER1wRnILxKm5EJvRoIy8c5rjnDIgAAL1CDz+wxP5w9P/RpwiTnc1BwLHA9f5AwEQAAEQAAEQ+H/t3T9v3EYax/EX5dd0L8K48kpDiOFAhQsDLuJUVmMkh7hQ51KV4SKFmgucC5LIaaLYVmCAh1HyyM8Ohn9W512T3I+ABYczwyH3y++S/JHSCoEhAsLpEB1tCOyYwLt376+fKJWLd09QP/0TO09BPy/T4nRxuzw1La77QQABBBBAAAEEhggIp0N0tCGwBwLlor08VSoX8OXv8rwwWIsDxenitmC6hwOJVSCAAAIIILACAsLpCnait4AAAggggAACCCCAAAIILJ2AcLr0PWj7EUAAAZ1CKkMAAAx9SURBVAQQQAABBBBAAIEVEBBOV7ATvQUEEEAAAQQQQAABBBBAYOkEhNOl70HbjwACCCCAAAIIIIAAAgisgIBwuoKd6C0ggAACCCCAAAIIIIAAAksnIJwufQ/afgQQQAABBBBAAAEEEEBgBQSE0xXsRG8BAQQQQAABBBBAAAEEEFg6AeF06XvQ9iOAAAIIIIAAAggggAACKyAgnK5gJ3oLCCCAAAIIIIAAAggggMDSCQinS9+Dth8BBBBAAAEEEEAAAQQQWAEB4XQFO9FbQAABBBBAAAEEEEAAAQSWTkA4XfoetP0IIIAAAggggAACCCCAwAoICKcr2IneAgIIIIAAAggggAACCCCwdALC6dL3oO1HAAEEEEAAAQQQQAABBFZAQDhdwU70FhBAAAEEEEAAAQQQQACBpRMQTpe+B20/AggggAACCCCAAAIIILACAsLpCnait4AAAggggAACCCCAAAIILJ3ARji9uvqz+/XNb90PP/7U/ef1f70w4AAHOMABDnCAAxxYvAPl2rZc45ZrXT8IIDBfAjfhtHxYywf398u33eXbd93vf7zt3r1/3733woADHOAABzjAAQ5wYMEOXF1ddW/fvru+1hVQ5xtMbBkCN+G03E0qwbSE0vISSgVzDnCAAxzgAAc4wIE1OVACarnm9YMAAvMkcBNOy1NTT0ydgNZ0AvJe+MwBDnCAAxzgQHagPEEt17x+EEBgngRuwmn5G1NPTR3A8wFcmQ8c4AAHOMABDqzNgXLN6wcBBOZJQDhd8N9PrO1kMef3849//msvv+q+r/XMmbVtcyHMAQ5wgAO7dEA4nWcosVUIFALC6WcOp2sII/t+D0PrG2q77YluF2MObcu+1ze0LdpcIHKAAxzgwNocEE6FIATmS2Bl4fS77u6dO92dO3e77z5z6Jx6IN9nENnVunY1bh/DofUNtfWNN1a/izGH1rnv9Q1tizYXpRzgAAc4sDYHhNP5BhNbhoBw+plD7D6DyK7Wtatx+06G+1zfPteV3+/nWm/eBmUXpBzgAAc4sEYHhFMBCIH5EtgynMaTyfJ0svWEsm6v+3ya9rv/zuPEU9Jc17d9/SeZEgbyq3UwjvbcFiGinuY+Q+VYbqjP1LbWWFFXpvnVGnOsvbVMqYt1tNpjzKG2evlYpq6PMfrq+7Ylj5fLebxWfd94Ud+3TD1uzMdyrWnuk9vrevP9n2FssOEABzjAgSkOCKfzDSa2DIEtwmmEvzoM9s2XA2ReJpfj4JnrcrnVnserQ29f/6gfn5agkQ9oQ/O5Lcr1NI81VI7lcp9S13rlPq1y31jRt9Xe1zbUN5aJaV/fXJ/LZbm++b76WFdr2altrX71+urxW+11n7H5PEaU62nettZ4dbv58c80RhhxgAMc4EDLAeFUAEJgvgS2CKf1Aa4Ok/X8WP8p7fWY9fyUMeo+7fkIC3EQy/O5XLdHWz2NfmPTWG6s35T21li5LpfzeH31uc9QubX8UF2rrW/8Vt9WXSw/1Nbq0+qf63I5li/Tuj7P53IsE3V90+gX0+gX86btzy0uuHCAAxzgwLYOCKfzDSa2DIEtw2mEw/i12foJZm6PJ6r5oDnUntvy+Hkd0ac1dlnPWHvels1yHQbyfC7HATDq+qbRb2way+d+pa71yn1a5b6xom+rvbT11cdyY9PW8kN1rba8jtKeX7mtlIeWH2prLZvXk8uxzr7x6vo8n8v1ONFWT6NfTKM95k03P6944MEBDnCAA7d1QDgVgBCYL4Etwmkd/Or5fJCMthwsx9pjmb7gWZYf6zPWnrdhs1yHgTyfy3EgjLq+afQbm8byY/2mtLfGynW5nMfrq899hsqt5YfqWm0xft1Wz5d+rbq+5aO+b7mhsfqWadXncXI51h91fdPoF9PoF/Omm59XPPDgAAc4wIHbOiCczjeY2DIEdhRO44A5FhZzey7H8vV0rM9Yez3ex/k6DOT5XI4DYa6Lckyjz76nrfXnulzO29ZXn/sMlVvLD9W12mL8uq2eL/1adX3L37Z+2+XyNuVya5xoj2n0ydOhttxP+eNnGAssOMABDnBgigPCqQCEwHwJ3DKcRgjMT0ajLj/5zHW5HAfPXJfLrfZS1+oTfae0576b5ToMDM33tdX1Uw6Qt1mmb9x6rDKf63K5HqNuG5vPy9d9oy3X53Jp75vP9aWc51vjRl1Md9F/yph1nzyfy/m91/VD7yHaTDc/t3jgwQEOcIAD2zognM43mNgyBLYIp+XgF+HwTne7f+fycfm//hVNDreb4w+35wBcH5TzOob6bS5XB4V6vhz4Sl1ffbRve4BsjbftGLl/bGOMG9PoE+0xn6fRVi9T+rTqYtmxtr72Uh+vGCvWFcv0tef+uRzL1XUxTp5Gn1zXt3z0jWndr54v/WLcWCam0TemUR/TvvpoN9387OKBBwc4wAEObOOAcCoAITBfAluGUwe/bQ5++q7Hl30Fxn2th5vrcdO+tC85wAEObOeAcDrfYGLLEBBO3293QHMCwIsDHOAABzjAAQ4s1wHhVABCYL4EhFPhtHOCXe4J1r6z7zjAAQ5wgAPbOSCczjeY2DIEhFPhVDjlAAc4wAEOcIADB+OAcCoAITBfAs1w+s4B+mAO0O62bne3FS+8OMABDnCAA8t2QDidbzCxZQg0w+nvf7wVzgR0DnCAAxzgAAc4wIHVOSCcCkAIzJdAbzgtAdUT1GXfGXRn1/7jAAc4wAEOcIADmw4Ip/MNJrYMgY1w+uHDh84LAw5wgAMc4AAHOMCBtTognApACMyXgHAqkLshwQEOcIADHOAABw7GAeF0vsHEliEgnDoZHczJaK13gL0vTzc4wAEOcIAD0x0QTgUgBOZLQDgVToVTDnCAAxzgAAc4cDAOCKfzDSa2DAHh1MnoYE5G7ipPv6uMFVYc4AAHOLBWB4RTAQiB+RK4ZTi97F6fnXTHR8fdk9PzyeHm8vKye/HiRff111939+7d88KAAxzgAAc4wAEOrMyBcp1XrvfKdd8uA+7Fq7gWfdVdbPGwQTidbzCxZQhsH04vzrvTJ8fd0dHR36/T7nzCAeH777/vvvzySyeglZ2A3GRwk4UDHOAABzjAgZYD5bqvXP/tJqBedGcncS161B09+rY7ez0tDAunAhAC8yWwVTh9ffZt9+Q4HQiuA+p4OH3z5k13//59wVQw5QAHOMABDnCAAwfkQLn+u7i42EFArcLp9TXpcXdyet5djjw0EU7nG0xsGQLTwunleffiJD8tzQF1PJx+8803TkQHdCJq3T1V5646BzjAAQ5w4DAdKNeBn/7paSuc/nV9evzk2+7VRf/fDAunAhAC8yUwIZyed6ePchity+Ph9NGjR8KpcMoBDnCAAxzgAAcO0IHHjx/vNZxe/+nZ8Ul31hNQhdP5BhNbhsB4OD0/TX9fWgfTMj8eTr/44gsnowM8GblDfph3yO13+50DHOAAB7IDDx482H84PTrqTs7av04snApACMyXwHg4/eDJaT7AKjvhcoADHOAABzjAgekOfPXVV/sPp56czjd92DIEBghMCKcfug//59+cPnv2zJNTT045wAEOcIADHODAATrw/PnzvYZTf3M6cOWvCYGZE5gWTv/+1rPbflvvzz//7Nt6D/Bk5K7y9LvKWGHFAQ5wgANrdKB8W+8vv/yyp3Dq23pnnjtsHgKjBLYKp9fftHbL/3P68uVLd0sFVA5wgAMc4AAHOHBADpTrv0//Tb3lm3irb+v1f05HL/p1QGAJBLYPp9dPUS+712cn3fHRcffk9HzyQafcOXv69Gn38OFDJ6YDOjGt8U6w9+QJBwc4wAEOcKDtQLnOK9d7u3li+vFfxFy8imvRV93FyP82zQHZFyItIaLYxkMlcMtw+vHAkD/syrhwgAMc4AAHOMABDszZAeH0UGOP970EAsLpFnfa5nygtW0uBDjAAQ5wgAMc4MC4A8LpEiKKbTxUAjfh9Icff5r867kOfOMHPoww4gAHOMABDnCAA/NzoFzz+kEAgXkSuAmnv775TTj1FJUDHOAABzjAAQ5wYNUOlGtePwggME8CN+H06urPVR+I3Lmc351L+8Q+4QAHOMABDnBg3w6Ua14/CCAwTwI34bRsXvmwlrtJ5dcdyu/je2HAAQ5wgAMc4AAHOLB0B8q1bbnGFUznGUhsFQJBYCOcRqUpAggggAACCCCAAAIIIIAAAvskIJzuk7Z1IYAAAggggAACCCCAAAIINAkIp00sKhFAAAEEEEAAAQQQQAABBPZJ4H+Sq0TiNS3A/AAAAABJRU5ErkJggg==)"
      ],
      "metadata": {
        "id": "ExasFcd22WIs"
      }
    },
    {
      "cell_type": "markdown",
      "source": [
        "&nbsp;"
      ],
      "metadata": {
        "id": "jecQJ4GqWr52"
      }
    },
    {
      "cell_type": "markdown",
      "metadata": {
        "id": "j9JSt2Gx1PNY"
      },
      "source": [
        "## 붙임 : dateutil 문자열을 사용하는 방법도 있음"
      ]
    },
    {
      "cell_type": "code",
      "execution_count": null,
      "metadata": {
        "id": "gbvDHco21PNY",
        "outputId": "39194f12-83c2-4b75-9e7d-186f2844d806",
        "colab": {
          "base_uri": "https://localhost:8080/"
        }
      },
      "outputs": [
        {
          "output_type": "execute_result",
          "data": {
            "text/plain": [
              "0   2002-02-28\n",
              "1   2002-03-31\n",
              "2   2002-04-30\n",
              "dtype: datetime64[ns]"
            ]
          },
          "metadata": {},
          "execution_count": 21
        }
      ],
      "source": [
        "dates.dt.tz_localize('dateutil/Aisa/Seoul')                                     # datetutil package 설치? import dateutil ?\n",
        "                                                                                # from dateutil.parser import parse 와 같이 특정 객체를 사용 가능 *문자열로부터 날짜 패턴을 자동으로 인식하여 datetime 객체로 변환"
      ]
    },
    {
      "cell_type": "code",
      "source": [
        "dates"
      ],
      "metadata": {
        "colab": {
          "base_uri": "https://localhost:8080/"
        },
        "id": "oUgJp-dL3IDu",
        "outputId": "3ebd7acc-434c-4f5c-d207-e6e8c85f3ce4"
      },
      "execution_count": 27,
      "outputs": [
        {
          "output_type": "execute_result",
          "data": {
            "text/plain": [
              "0   2002-02-28\n",
              "1   2002-03-31\n",
              "2   2002-04-30\n",
              "dtype: datetime64[ns]"
            ]
          },
          "metadata": {},
          "execution_count": 27
        }
      ]
    },
    {
      "cell_type": "code",
      "execution_count": 29,
      "metadata": {
        "id": "9nv3mOBl1PNZ",
        "outputId": "ce6caf83-ba03-4713-f79f-c8b16e8f5d00",
        "colab": {
          "base_uri": "https://localhost:8080/"
        }
      },
      "outputs": [
        {
          "output_type": "execute_result",
          "data": {
            "text/plain": [
              "0   2002-02-28 00:00:00+09:00\n",
              "1   2002-03-31 00:00:00+09:00\n",
              "2   2002-04-30 00:00:00+09:00\n",
              "dtype: datetime64[ns, Asia/Seoul]"
            ]
          },
          "metadata": {},
          "execution_count": 29
        }
      ],
      "source": [
        "import pytz\n",
        "\n",
        "tz = pytz.timezone('Asia/Seoul')\n",
        "dates.dt.tz_localize(tz)"
      ]
    },
    {
      "cell_type": "code",
      "source": [
        "a=dates.dt.tz_localize(tz)\n",
        "b=dates.dt.tz_localize('Asia/Seoul')\n",
        "print(a)\n",
        "print(b)"
      ],
      "metadata": {
        "colab": {
          "base_uri": "https://localhost:8080/"
        },
        "id": "CJ10i1o93k5g",
        "outputId": "1aa54fca-b780-4e19-ec9b-c6bf40350d22"
      },
      "execution_count": 32,
      "outputs": [
        {
          "output_type": "stream",
          "name": "stdout",
          "text": [
            "0   2002-02-28 00:00:00+09:00\n",
            "1   2002-03-31 00:00:00+09:00\n",
            "2   2002-04-30 00:00:00+09:00\n",
            "dtype: datetime64[ns, Asia/Seoul]\n",
            "0   2002-02-28 00:00:00+09:00\n",
            "1   2002-03-31 00:00:00+09:00\n",
            "2   2002-04-30 00:00:00+09:00\n",
            "dtype: datetime64[ns, Asia/Seoul]\n"
          ]
        }
      ]
    },
    {
      "cell_type": "code",
      "source": [
        "tz == 'Asia/Seoul'"
      ],
      "metadata": {
        "colab": {
          "base_uri": "https://localhost:8080/"
        },
        "id": "GdtRF_Vv4CDC",
        "outputId": "9bad5cb3-c4d7-4253-c686-f5b1fc0c2f04"
      },
      "execution_count": 34,
      "outputs": [
        {
          "output_type": "execute_result",
          "data": {
            "text/plain": [
              "False"
            ]
          },
          "metadata": {},
          "execution_count": 34
        }
      ]
    },
    {
      "cell_type": "code",
      "source": [
        "tz"
      ],
      "metadata": {
        "colab": {
          "base_uri": "https://localhost:8080/"
        },
        "id": "Bd9BX-344GhU",
        "outputId": "96fe2a72-ef69-4dfb-e4c7-a824d8757abb"
      },
      "execution_count": 35,
      "outputs": [
        {
          "output_type": "execute_result",
          "data": {
            "text/plain": [
              "<DstTzInfo 'Asia/Seoul' LMT+8:28:00 STD>"
            ]
          },
          "metadata": {},
          "execution_count": 35
        }
      ]
    },
    {
      "cell_type": "code",
      "source": [
        "# for time_zone in pytz.all_timezones:\n",
        "#   print(time_zone)"
      ],
      "metadata": {
        "id": "UgOUaPW3VviD"
      },
      "execution_count": null,
      "outputs": []
    },
    {
      "cell_type": "markdown",
      "source": [
        "&nbsp;"
      ],
      "metadata": {
        "id": "d1ohzApZZa5p"
      }
    },
    {
      "cell_type": "markdown",
      "metadata": {
        "id": "5cGpaDni1PNZ"
      },
      "source": [
        "## 7.3 날짜와 시간 선택 *데이터 랭글링 방법(불리언 조건, 인덱스 슬라이싱)"
      ]
    },
    {
      "cell_type": "code",
      "execution_count": null,
      "metadata": {
        "id": "19Y1Vshn1PNZ",
        "outputId": "d4217a36-5209-48d8-966c-bf6b8b45425e",
        "colab": {
          "base_uri": "https://localhost:8080/",
          "height": 143
        }
      },
      "outputs": [
        {
          "output_type": "execute_result",
          "data": {
            "text/plain": [
              "                    date\n",
              "8762 2002-01-01 02:00:00\n",
              "8763 2002-01-01 03:00:00\n",
              "8764 2002-01-01 04:00:00"
            ],
            "text/html": [
              "\n",
              "\n",
              "  <div id=\"df-60850c8e-6614-4f4d-a17b-6c102ef40791\">\n",
              "    <div class=\"colab-df-container\">\n",
              "      <div>\n",
              "<style scoped>\n",
              "    .dataframe tbody tr th:only-of-type {\n",
              "        vertical-align: middle;\n",
              "    }\n",
              "\n",
              "    .dataframe tbody tr th {\n",
              "        vertical-align: top;\n",
              "    }\n",
              "\n",
              "    .dataframe thead th {\n",
              "        text-align: right;\n",
              "    }\n",
              "</style>\n",
              "<table border=\"1\" class=\"dataframe\">\n",
              "  <thead>\n",
              "    <tr style=\"text-align: right;\">\n",
              "      <th></th>\n",
              "      <th>date</th>\n",
              "    </tr>\n",
              "  </thead>\n",
              "  <tbody>\n",
              "    <tr>\n",
              "      <th>8762</th>\n",
              "      <td>2002-01-01 02:00:00</td>\n",
              "    </tr>\n",
              "    <tr>\n",
              "      <th>8763</th>\n",
              "      <td>2002-01-01 03:00:00</td>\n",
              "    </tr>\n",
              "    <tr>\n",
              "      <th>8764</th>\n",
              "      <td>2002-01-01 04:00:00</td>\n",
              "    </tr>\n",
              "  </tbody>\n",
              "</table>\n",
              "</div>\n",
              "      <button class=\"colab-df-convert\" onclick=\"convertToInteractive('df-60850c8e-6614-4f4d-a17b-6c102ef40791')\"\n",
              "              title=\"Convert this dataframe to an interactive table.\"\n",
              "              style=\"display:none;\">\n",
              "\n",
              "  <svg xmlns=\"http://www.w3.org/2000/svg\" height=\"24px\"viewBox=\"0 0 24 24\"\n",
              "       width=\"24px\">\n",
              "    <path d=\"M0 0h24v24H0V0z\" fill=\"none\"/>\n",
              "    <path d=\"M18.56 5.44l.94 2.06.94-2.06 2.06-.94-2.06-.94-.94-2.06-.94 2.06-2.06.94zm-11 1L8.5 8.5l.94-2.06 2.06-.94-2.06-.94L8.5 2.5l-.94 2.06-2.06.94zm10 10l.94 2.06.94-2.06 2.06-.94-2.06-.94-.94-2.06-.94 2.06-2.06.94z\"/><path d=\"M17.41 7.96l-1.37-1.37c-.4-.4-.92-.59-1.43-.59-.52 0-1.04.2-1.43.59L10.3 9.45l-7.72 7.72c-.78.78-.78 2.05 0 2.83L4 21.41c.39.39.9.59 1.41.59.51 0 1.02-.2 1.41-.59l7.78-7.78 2.81-2.81c.8-.78.8-2.07 0-2.86zM5.41 20L4 18.59l7.72-7.72 1.47 1.35L5.41 20z\"/>\n",
              "  </svg>\n",
              "      </button>\n",
              "\n",
              "\n",
              "\n",
              "    <div id=\"df-25f8b445-dddd-4c25-bfea-7eea0b7384d5\">\n",
              "      <button class=\"colab-df-quickchart\" onclick=\"quickchart('df-25f8b445-dddd-4c25-bfea-7eea0b7384d5')\"\n",
              "              title=\"Suggest charts.\"\n",
              "              style=\"display:none;\">\n",
              "\n",
              "<svg xmlns=\"http://www.w3.org/2000/svg\" height=\"24px\"viewBox=\"0 0 24 24\"\n",
              "     width=\"24px\">\n",
              "    <g>\n",
              "        <path d=\"M19 3H5c-1.1 0-2 .9-2 2v14c0 1.1.9 2 2 2h14c1.1 0 2-.9 2-2V5c0-1.1-.9-2-2-2zM9 17H7v-7h2v7zm4 0h-2V7h2v10zm4 0h-2v-4h2v4z\"/>\n",
              "    </g>\n",
              "</svg>\n",
              "      </button>\n",
              "    </div>\n",
              "\n",
              "<style>\n",
              "  .colab-df-quickchart {\n",
              "    background-color: #E8F0FE;\n",
              "    border: none;\n",
              "    border-radius: 50%;\n",
              "    cursor: pointer;\n",
              "    display: none;\n",
              "    fill: #1967D2;\n",
              "    height: 32px;\n",
              "    padding: 0 0 0 0;\n",
              "    width: 32px;\n",
              "  }\n",
              "\n",
              "  .colab-df-quickchart:hover {\n",
              "    background-color: #E2EBFA;\n",
              "    box-shadow: 0px 1px 2px rgba(60, 64, 67, 0.3), 0px 1px 3px 1px rgba(60, 64, 67, 0.15);\n",
              "    fill: #174EA6;\n",
              "  }\n",
              "\n",
              "  [theme=dark] .colab-df-quickchart {\n",
              "    background-color: #3B4455;\n",
              "    fill: #D2E3FC;\n",
              "  }\n",
              "\n",
              "  [theme=dark] .colab-df-quickchart:hover {\n",
              "    background-color: #434B5C;\n",
              "    box-shadow: 0px 1px 3px 1px rgba(0, 0, 0, 0.15);\n",
              "    filter: drop-shadow(0px 1px 2px rgba(0, 0, 0, 0.3));\n",
              "    fill: #FFFFFF;\n",
              "  }\n",
              "</style>\n",
              "\n",
              "    <script>\n",
              "      async function quickchart(key) {\n",
              "        const containerElement = document.querySelector('#' + key);\n",
              "        const charts = await google.colab.kernel.invokeFunction(\n",
              "            'suggestCharts', [key], {});\n",
              "      }\n",
              "    </script>\n",
              "\n",
              "\n",
              "      <script>\n",
              "\n",
              "function displayQuickchartButton(domScope) {\n",
              "  let quickchartButtonEl =\n",
              "    domScope.querySelector('#df-25f8b445-dddd-4c25-bfea-7eea0b7384d5 button.colab-df-quickchart');\n",
              "  quickchartButtonEl.style.display =\n",
              "    google.colab.kernel.accessAllowed ? 'block' : 'none';\n",
              "}\n",
              "\n",
              "        displayQuickchartButton(document);\n",
              "      </script>\n",
              "      <style>\n",
              "    .colab-df-container {\n",
              "      display:flex;\n",
              "      flex-wrap:wrap;\n",
              "      gap: 12px;\n",
              "    }\n",
              "\n",
              "    .colab-df-convert {\n",
              "      background-color: #E8F0FE;\n",
              "      border: none;\n",
              "      border-radius: 50%;\n",
              "      cursor: pointer;\n",
              "      display: none;\n",
              "      fill: #1967D2;\n",
              "      height: 32px;\n",
              "      padding: 0 0 0 0;\n",
              "      width: 32px;\n",
              "    }\n",
              "\n",
              "    .colab-df-convert:hover {\n",
              "      background-color: #E2EBFA;\n",
              "      box-shadow: 0px 1px 2px rgba(60, 64, 67, 0.3), 0px 1px 3px 1px rgba(60, 64, 67, 0.15);\n",
              "      fill: #174EA6;\n",
              "    }\n",
              "\n",
              "    [theme=dark] .colab-df-convert {\n",
              "      background-color: #3B4455;\n",
              "      fill: #D2E3FC;\n",
              "    }\n",
              "\n",
              "    [theme=dark] .colab-df-convert:hover {\n",
              "      background-color: #434B5C;\n",
              "      box-shadow: 0px 1px 3px 1px rgba(0, 0, 0, 0.15);\n",
              "      filter: drop-shadow(0px 1px 2px rgba(0, 0, 0, 0.3));\n",
              "      fill: #FFFFFF;\n",
              "    }\n",
              "  </style>\n",
              "\n",
              "      <script>\n",
              "        const buttonEl =\n",
              "          document.querySelector('#df-60850c8e-6614-4f4d-a17b-6c102ef40791 button.colab-df-convert');\n",
              "        buttonEl.style.display =\n",
              "          google.colab.kernel.accessAllowed ? 'block' : 'none';\n",
              "\n",
              "        async function convertToInteractive(key) {\n",
              "          const element = document.querySelector('#df-60850c8e-6614-4f4d-a17b-6c102ef40791');\n",
              "          const dataTable =\n",
              "            await google.colab.kernel.invokeFunction('convertToInteractive',\n",
              "                                                     [key], {});\n",
              "          if (!dataTable) return;\n",
              "\n",
              "          const docLinkHtml = 'Like what you see? Visit the ' +\n",
              "            '<a target=\"_blank\" href=https://colab.research.google.com/notebooks/data_table.ipynb>data table notebook</a>'\n",
              "            + ' to learn more about interactive tables.';\n",
              "          element.innerHTML = '';\n",
              "          dataTable['output_type'] = 'display_data';\n",
              "          await google.colab.output.renderOutput(dataTable, element);\n",
              "          const docLink = document.createElement('div');\n",
              "          docLink.innerHTML = docLinkHtml;\n",
              "          element.appendChild(docLink);\n",
              "        }\n",
              "      </script>\n",
              "    </div>\n",
              "  </div>\n"
            ]
          },
          "metadata": {},
          "execution_count": 23
        }
      ],
      "source": [
        "# 라이브러리를 임포트합니다.\n",
        "import pandas as pd\n",
        "\n",
        "# 데이터프레임을 만듭니다.\n",
        "dataframe = pd.DataFrame()\n",
        "\n",
        "# datetime을 만듭니다.\n",
        "dataframe['date'] = pd.date_range('1/1/2001', periods=100000, freq='H')         # 2001년 1월 1일 00시 부터 1시간 간격으로 datetime 생성\n",
        "\n",
        "# 두 datetime 사이의 샘플을 선택합니다.\n",
        "dataframe[(dataframe['date'] > '2002-1-1 01:00:00') &\n",
        "          (dataframe['date'] <= '2002-1-1 04:00:00')]"
      ]
    },
    {
      "cell_type": "code",
      "source": [
        "dataframe.head(3)"
      ],
      "metadata": {
        "colab": {
          "base_uri": "https://localhost:8080/",
          "height": 143
        },
        "id": "dOaBXHho5u-o",
        "outputId": "dc81d134-4d21-462d-ddb0-d36573f7564c"
      },
      "execution_count": null,
      "outputs": [
        {
          "output_type": "execute_result",
          "data": {
            "text/plain": [
              "                 date\n",
              "0 2001-01-01 00:00:00\n",
              "1 2001-01-01 01:00:00\n",
              "2 2001-01-01 02:00:00"
            ],
            "text/html": [
              "\n",
              "\n",
              "  <div id=\"df-9cdac566-38d6-4680-8856-3c4a70965bae\">\n",
              "    <div class=\"colab-df-container\">\n",
              "      <div>\n",
              "<style scoped>\n",
              "    .dataframe tbody tr th:only-of-type {\n",
              "        vertical-align: middle;\n",
              "    }\n",
              "\n",
              "    .dataframe tbody tr th {\n",
              "        vertical-align: top;\n",
              "    }\n",
              "\n",
              "    .dataframe thead th {\n",
              "        text-align: right;\n",
              "    }\n",
              "</style>\n",
              "<table border=\"1\" class=\"dataframe\">\n",
              "  <thead>\n",
              "    <tr style=\"text-align: right;\">\n",
              "      <th></th>\n",
              "      <th>date</th>\n",
              "    </tr>\n",
              "  </thead>\n",
              "  <tbody>\n",
              "    <tr>\n",
              "      <th>0</th>\n",
              "      <td>2001-01-01 00:00:00</td>\n",
              "    </tr>\n",
              "    <tr>\n",
              "      <th>1</th>\n",
              "      <td>2001-01-01 01:00:00</td>\n",
              "    </tr>\n",
              "    <tr>\n",
              "      <th>2</th>\n",
              "      <td>2001-01-01 02:00:00</td>\n",
              "    </tr>\n",
              "  </tbody>\n",
              "</table>\n",
              "</div>\n",
              "      <button class=\"colab-df-convert\" onclick=\"convertToInteractive('df-9cdac566-38d6-4680-8856-3c4a70965bae')\"\n",
              "              title=\"Convert this dataframe to an interactive table.\"\n",
              "              style=\"display:none;\">\n",
              "\n",
              "  <svg xmlns=\"http://www.w3.org/2000/svg\" height=\"24px\"viewBox=\"0 0 24 24\"\n",
              "       width=\"24px\">\n",
              "    <path d=\"M0 0h24v24H0V0z\" fill=\"none\"/>\n",
              "    <path d=\"M18.56 5.44l.94 2.06.94-2.06 2.06-.94-2.06-.94-.94-2.06-.94 2.06-2.06.94zm-11 1L8.5 8.5l.94-2.06 2.06-.94-2.06-.94L8.5 2.5l-.94 2.06-2.06.94zm10 10l.94 2.06.94-2.06 2.06-.94-2.06-.94-.94-2.06-.94 2.06-2.06.94z\"/><path d=\"M17.41 7.96l-1.37-1.37c-.4-.4-.92-.59-1.43-.59-.52 0-1.04.2-1.43.59L10.3 9.45l-7.72 7.72c-.78.78-.78 2.05 0 2.83L4 21.41c.39.39.9.59 1.41.59.51 0 1.02-.2 1.41-.59l7.78-7.78 2.81-2.81c.8-.78.8-2.07 0-2.86zM5.41 20L4 18.59l7.72-7.72 1.47 1.35L5.41 20z\"/>\n",
              "  </svg>\n",
              "      </button>\n",
              "\n",
              "\n",
              "\n",
              "    <div id=\"df-7bf05df6-95a0-477d-aeb0-86e3192a38c6\">\n",
              "      <button class=\"colab-df-quickchart\" onclick=\"quickchart('df-7bf05df6-95a0-477d-aeb0-86e3192a38c6')\"\n",
              "              title=\"Suggest charts.\"\n",
              "              style=\"display:none;\">\n",
              "\n",
              "<svg xmlns=\"http://www.w3.org/2000/svg\" height=\"24px\"viewBox=\"0 0 24 24\"\n",
              "     width=\"24px\">\n",
              "    <g>\n",
              "        <path d=\"M19 3H5c-1.1 0-2 .9-2 2v14c0 1.1.9 2 2 2h14c1.1 0 2-.9 2-2V5c0-1.1-.9-2-2-2zM9 17H7v-7h2v7zm4 0h-2V7h2v10zm4 0h-2v-4h2v4z\"/>\n",
              "    </g>\n",
              "</svg>\n",
              "      </button>\n",
              "    </div>\n",
              "\n",
              "<style>\n",
              "  .colab-df-quickchart {\n",
              "    background-color: #E8F0FE;\n",
              "    border: none;\n",
              "    border-radius: 50%;\n",
              "    cursor: pointer;\n",
              "    display: none;\n",
              "    fill: #1967D2;\n",
              "    height: 32px;\n",
              "    padding: 0 0 0 0;\n",
              "    width: 32px;\n",
              "  }\n",
              "\n",
              "  .colab-df-quickchart:hover {\n",
              "    background-color: #E2EBFA;\n",
              "    box-shadow: 0px 1px 2px rgba(60, 64, 67, 0.3), 0px 1px 3px 1px rgba(60, 64, 67, 0.15);\n",
              "    fill: #174EA6;\n",
              "  }\n",
              "\n",
              "  [theme=dark] .colab-df-quickchart {\n",
              "    background-color: #3B4455;\n",
              "    fill: #D2E3FC;\n",
              "  }\n",
              "\n",
              "  [theme=dark] .colab-df-quickchart:hover {\n",
              "    background-color: #434B5C;\n",
              "    box-shadow: 0px 1px 3px 1px rgba(0, 0, 0, 0.15);\n",
              "    filter: drop-shadow(0px 1px 2px rgba(0, 0, 0, 0.3));\n",
              "    fill: #FFFFFF;\n",
              "  }\n",
              "</style>\n",
              "\n",
              "    <script>\n",
              "      async function quickchart(key) {\n",
              "        const containerElement = document.querySelector('#' + key);\n",
              "        const charts = await google.colab.kernel.invokeFunction(\n",
              "            'suggestCharts', [key], {});\n",
              "      }\n",
              "    </script>\n",
              "\n",
              "\n",
              "      <script>\n",
              "\n",
              "function displayQuickchartButton(domScope) {\n",
              "  let quickchartButtonEl =\n",
              "    domScope.querySelector('#df-7bf05df6-95a0-477d-aeb0-86e3192a38c6 button.colab-df-quickchart');\n",
              "  quickchartButtonEl.style.display =\n",
              "    google.colab.kernel.accessAllowed ? 'block' : 'none';\n",
              "}\n",
              "\n",
              "        displayQuickchartButton(document);\n",
              "      </script>\n",
              "      <style>\n",
              "    .colab-df-container {\n",
              "      display:flex;\n",
              "      flex-wrap:wrap;\n",
              "      gap: 12px;\n",
              "    }\n",
              "\n",
              "    .colab-df-convert {\n",
              "      background-color: #E8F0FE;\n",
              "      border: none;\n",
              "      border-radius: 50%;\n",
              "      cursor: pointer;\n",
              "      display: none;\n",
              "      fill: #1967D2;\n",
              "      height: 32px;\n",
              "      padding: 0 0 0 0;\n",
              "      width: 32px;\n",
              "    }\n",
              "\n",
              "    .colab-df-convert:hover {\n",
              "      background-color: #E2EBFA;\n",
              "      box-shadow: 0px 1px 2px rgba(60, 64, 67, 0.3), 0px 1px 3px 1px rgba(60, 64, 67, 0.15);\n",
              "      fill: #174EA6;\n",
              "    }\n",
              "\n",
              "    [theme=dark] .colab-df-convert {\n",
              "      background-color: #3B4455;\n",
              "      fill: #D2E3FC;\n",
              "    }\n",
              "\n",
              "    [theme=dark] .colab-df-convert:hover {\n",
              "      background-color: #434B5C;\n",
              "      box-shadow: 0px 1px 3px 1px rgba(0, 0, 0, 0.15);\n",
              "      filter: drop-shadow(0px 1px 2px rgba(0, 0, 0, 0.3));\n",
              "      fill: #FFFFFF;\n",
              "    }\n",
              "  </style>\n",
              "\n",
              "      <script>\n",
              "        const buttonEl =\n",
              "          document.querySelector('#df-9cdac566-38d6-4680-8856-3c4a70965bae button.colab-df-convert');\n",
              "        buttonEl.style.display =\n",
              "          google.colab.kernel.accessAllowed ? 'block' : 'none';\n",
              "\n",
              "        async function convertToInteractive(key) {\n",
              "          const element = document.querySelector('#df-9cdac566-38d6-4680-8856-3c4a70965bae');\n",
              "          const dataTable =\n",
              "            await google.colab.kernel.invokeFunction('convertToInteractive',\n",
              "                                                     [key], {});\n",
              "          if (!dataTable) return;\n",
              "\n",
              "          const docLinkHtml = 'Like what you see? Visit the ' +\n",
              "            '<a target=\"_blank\" href=https://colab.research.google.com/notebooks/data_table.ipynb>data table notebook</a>'\n",
              "            + ' to learn more about interactive tables.';\n",
              "          element.innerHTML = '';\n",
              "          dataTable['output_type'] = 'display_data';\n",
              "          await google.colab.output.renderOutput(dataTable, element);\n",
              "          const docLink = document.createElement('div');\n",
              "          docLink.innerHTML = docLinkHtml;\n",
              "          element.appendChild(docLink);\n",
              "        }\n",
              "      </script>\n",
              "    </div>\n",
              "  </div>\n"
            ]
          },
          "metadata": {},
          "execution_count": 35
        }
      ]
    },
    {
      "cell_type": "code",
      "source": [
        "dataframe.iloc[0][0]"
      ],
      "metadata": {
        "colab": {
          "base_uri": "https://localhost:8080/"
        },
        "id": "EM9j8Huf5-e_",
        "outputId": "7a0dd7eb-91f4-411b-a2f2-0ed9bbc4db46"
      },
      "execution_count": null,
      "outputs": [
        {
          "output_type": "execute_result",
          "data": {
            "text/plain": [
              "Timestamp('2001-01-01 00:00:00')"
            ]
          },
          "metadata": {},
          "execution_count": 34
        }
      ]
    },
    {
      "cell_type": "code",
      "execution_count": null,
      "metadata": {
        "id": "ILy8D2kN1PNZ",
        "outputId": "c1cc41e5-0a6c-4db2-a935-a4cf2ab8dc28",
        "colab": {
          "base_uri": "https://localhost:8080/",
          "height": 206
        }
      },
      "outputs": [
        {
          "output_type": "execute_result",
          "data": {
            "text/plain": [
              "                                   date\n",
              "date                                   \n",
              "2002-01-01 01:00:00 2002-01-01 01:00:00\n",
              "2002-01-01 02:00:00 2002-01-01 02:00:00\n",
              "2002-01-01 03:00:00 2002-01-01 03:00:00\n",
              "2002-01-01 04:00:00 2002-01-01 04:00:00"
            ],
            "text/html": [
              "\n",
              "\n",
              "  <div id=\"df-2ccb704f-45a0-405c-b0ba-85e23f636b94\">\n",
              "    <div class=\"colab-df-container\">\n",
              "      <div>\n",
              "<style scoped>\n",
              "    .dataframe tbody tr th:only-of-type {\n",
              "        vertical-align: middle;\n",
              "    }\n",
              "\n",
              "    .dataframe tbody tr th {\n",
              "        vertical-align: top;\n",
              "    }\n",
              "\n",
              "    .dataframe thead th {\n",
              "        text-align: right;\n",
              "    }\n",
              "</style>\n",
              "<table border=\"1\" class=\"dataframe\">\n",
              "  <thead>\n",
              "    <tr style=\"text-align: right;\">\n",
              "      <th></th>\n",
              "      <th>date</th>\n",
              "    </tr>\n",
              "    <tr>\n",
              "      <th>date</th>\n",
              "      <th></th>\n",
              "    </tr>\n",
              "  </thead>\n",
              "  <tbody>\n",
              "    <tr>\n",
              "      <th>2002-01-01 01:00:00</th>\n",
              "      <td>2002-01-01 01:00:00</td>\n",
              "    </tr>\n",
              "    <tr>\n",
              "      <th>2002-01-01 02:00:00</th>\n",
              "      <td>2002-01-01 02:00:00</td>\n",
              "    </tr>\n",
              "    <tr>\n",
              "      <th>2002-01-01 03:00:00</th>\n",
              "      <td>2002-01-01 03:00:00</td>\n",
              "    </tr>\n",
              "    <tr>\n",
              "      <th>2002-01-01 04:00:00</th>\n",
              "      <td>2002-01-01 04:00:00</td>\n",
              "    </tr>\n",
              "  </tbody>\n",
              "</table>\n",
              "</div>\n",
              "      <button class=\"colab-df-convert\" onclick=\"convertToInteractive('df-2ccb704f-45a0-405c-b0ba-85e23f636b94')\"\n",
              "              title=\"Convert this dataframe to an interactive table.\"\n",
              "              style=\"display:none;\">\n",
              "\n",
              "  <svg xmlns=\"http://www.w3.org/2000/svg\" height=\"24px\"viewBox=\"0 0 24 24\"\n",
              "       width=\"24px\">\n",
              "    <path d=\"M0 0h24v24H0V0z\" fill=\"none\"/>\n",
              "    <path d=\"M18.56 5.44l.94 2.06.94-2.06 2.06-.94-2.06-.94-.94-2.06-.94 2.06-2.06.94zm-11 1L8.5 8.5l.94-2.06 2.06-.94-2.06-.94L8.5 2.5l-.94 2.06-2.06.94zm10 10l.94 2.06.94-2.06 2.06-.94-2.06-.94-.94-2.06-.94 2.06-2.06.94z\"/><path d=\"M17.41 7.96l-1.37-1.37c-.4-.4-.92-.59-1.43-.59-.52 0-1.04.2-1.43.59L10.3 9.45l-7.72 7.72c-.78.78-.78 2.05 0 2.83L4 21.41c.39.39.9.59 1.41.59.51 0 1.02-.2 1.41-.59l7.78-7.78 2.81-2.81c.8-.78.8-2.07 0-2.86zM5.41 20L4 18.59l7.72-7.72 1.47 1.35L5.41 20z\"/>\n",
              "  </svg>\n",
              "      </button>\n",
              "\n",
              "\n",
              "\n",
              "    <div id=\"df-9afffcf6-bac9-41f6-bee8-55b6a2503ba0\">\n",
              "      <button class=\"colab-df-quickchart\" onclick=\"quickchart('df-9afffcf6-bac9-41f6-bee8-55b6a2503ba0')\"\n",
              "              title=\"Suggest charts.\"\n",
              "              style=\"display:none;\">\n",
              "\n",
              "<svg xmlns=\"http://www.w3.org/2000/svg\" height=\"24px\"viewBox=\"0 0 24 24\"\n",
              "     width=\"24px\">\n",
              "    <g>\n",
              "        <path d=\"M19 3H5c-1.1 0-2 .9-2 2v14c0 1.1.9 2 2 2h14c1.1 0 2-.9 2-2V5c0-1.1-.9-2-2-2zM9 17H7v-7h2v7zm4 0h-2V7h2v10zm4 0h-2v-4h2v4z\"/>\n",
              "    </g>\n",
              "</svg>\n",
              "      </button>\n",
              "    </div>\n",
              "\n",
              "<style>\n",
              "  .colab-df-quickchart {\n",
              "    background-color: #E8F0FE;\n",
              "    border: none;\n",
              "    border-radius: 50%;\n",
              "    cursor: pointer;\n",
              "    display: none;\n",
              "    fill: #1967D2;\n",
              "    height: 32px;\n",
              "    padding: 0 0 0 0;\n",
              "    width: 32px;\n",
              "  }\n",
              "\n",
              "  .colab-df-quickchart:hover {\n",
              "    background-color: #E2EBFA;\n",
              "    box-shadow: 0px 1px 2px rgba(60, 64, 67, 0.3), 0px 1px 3px 1px rgba(60, 64, 67, 0.15);\n",
              "    fill: #174EA6;\n",
              "  }\n",
              "\n",
              "  [theme=dark] .colab-df-quickchart {\n",
              "    background-color: #3B4455;\n",
              "    fill: #D2E3FC;\n",
              "  }\n",
              "\n",
              "  [theme=dark] .colab-df-quickchart:hover {\n",
              "    background-color: #434B5C;\n",
              "    box-shadow: 0px 1px 3px 1px rgba(0, 0, 0, 0.15);\n",
              "    filter: drop-shadow(0px 1px 2px rgba(0, 0, 0, 0.3));\n",
              "    fill: #FFFFFF;\n",
              "  }\n",
              "</style>\n",
              "\n",
              "    <script>\n",
              "      async function quickchart(key) {\n",
              "        const containerElement = document.querySelector('#' + key);\n",
              "        const charts = await google.colab.kernel.invokeFunction(\n",
              "            'suggestCharts', [key], {});\n",
              "      }\n",
              "    </script>\n",
              "\n",
              "\n",
              "      <script>\n",
              "\n",
              "function displayQuickchartButton(domScope) {\n",
              "  let quickchartButtonEl =\n",
              "    domScope.querySelector('#df-9afffcf6-bac9-41f6-bee8-55b6a2503ba0 button.colab-df-quickchart');\n",
              "  quickchartButtonEl.style.display =\n",
              "    google.colab.kernel.accessAllowed ? 'block' : 'none';\n",
              "}\n",
              "\n",
              "        displayQuickchartButton(document);\n",
              "      </script>\n",
              "      <style>\n",
              "    .colab-df-container {\n",
              "      display:flex;\n",
              "      flex-wrap:wrap;\n",
              "      gap: 12px;\n",
              "    }\n",
              "\n",
              "    .colab-df-convert {\n",
              "      background-color: #E8F0FE;\n",
              "      border: none;\n",
              "      border-radius: 50%;\n",
              "      cursor: pointer;\n",
              "      display: none;\n",
              "      fill: #1967D2;\n",
              "      height: 32px;\n",
              "      padding: 0 0 0 0;\n",
              "      width: 32px;\n",
              "    }\n",
              "\n",
              "    .colab-df-convert:hover {\n",
              "      background-color: #E2EBFA;\n",
              "      box-shadow: 0px 1px 2px rgba(60, 64, 67, 0.3), 0px 1px 3px 1px rgba(60, 64, 67, 0.15);\n",
              "      fill: #174EA6;\n",
              "    }\n",
              "\n",
              "    [theme=dark] .colab-df-convert {\n",
              "      background-color: #3B4455;\n",
              "      fill: #D2E3FC;\n",
              "    }\n",
              "\n",
              "    [theme=dark] .colab-df-convert:hover {\n",
              "      background-color: #434B5C;\n",
              "      box-shadow: 0px 1px 3px 1px rgba(0, 0, 0, 0.15);\n",
              "      filter: drop-shadow(0px 1px 2px rgba(0, 0, 0, 0.3));\n",
              "      fill: #FFFFFF;\n",
              "    }\n",
              "  </style>\n",
              "\n",
              "      <script>\n",
              "        const buttonEl =\n",
              "          document.querySelector('#df-2ccb704f-45a0-405c-b0ba-85e23f636b94 button.colab-df-convert');\n",
              "        buttonEl.style.display =\n",
              "          google.colab.kernel.accessAllowed ? 'block' : 'none';\n",
              "\n",
              "        async function convertToInteractive(key) {\n",
              "          const element = document.querySelector('#df-2ccb704f-45a0-405c-b0ba-85e23f636b94');\n",
              "          const dataTable =\n",
              "            await google.colab.kernel.invokeFunction('convertToInteractive',\n",
              "                                                     [key], {});\n",
              "          if (!dataTable) return;\n",
              "\n",
              "          const docLinkHtml = 'Like what you see? Visit the ' +\n",
              "            '<a target=\"_blank\" href=https://colab.research.google.com/notebooks/data_table.ipynb>data table notebook</a>'\n",
              "            + ' to learn more about interactive tables.';\n",
              "          element.innerHTML = '';\n",
              "          dataTable['output_type'] = 'display_data';\n",
              "          await google.colab.output.renderOutput(dataTable, element);\n",
              "          const docLink = document.createElement('div');\n",
              "          docLink.innerHTML = docLinkHtml;\n",
              "          element.appendChild(docLink);\n",
              "        }\n",
              "      </script>\n",
              "    </div>\n",
              "  </div>\n"
            ]
          },
          "metadata": {},
          "execution_count": 36
        }
      ],
      "source": [
        "# 인덱스를 설정합니다.\n",
        "dataframe = dataframe.set_index(dataframe['date'])\n",
        "\n",
        "# 두 datetime 사이 샘플을 선택합니다.\n",
        "dataframe.loc['2002-1-1 01:00:00':'2002-1-1 04:00:00']"
      ]
    },
    {
      "cell_type": "markdown",
      "metadata": {
        "id": "qb7STkpe1PNZ"
      },
      "source": [
        "## 7.4 날짜 데이터를 여러 특성으로 나누기<br>\n",
        "##### Series.dt 시간 속성 사용(series의 datetimelike 속성을 접근하는 방법)"
      ]
    },
    {
      "cell_type": "code",
      "execution_count": null,
      "metadata": {
        "id": "qrD6kXQA1PNZ",
        "outputId": "d1c27513-a44a-47eb-deb4-3ed38ea8ac7e",
        "colab": {
          "base_uri": "https://localhost:8080/",
          "height": 180
        }
      },
      "outputs": [
        {
          "output_type": "stream",
          "name": "stdout",
          "text": [
            "<class 'pandas.core.frame.DataFrame'>\n",
            "<class 'pandas.core.series.Series'>\n"
          ]
        },
        {
          "output_type": "execute_result",
          "data": {
            "text/plain": [
              "        date  year  month  day  hour  minute\n",
              "0 2001-01-07  2001      1    7     0       0\n",
              "1 2001-01-14  2001      1   14     0       0\n",
              "2 2001-01-21  2001      1   21     0       0"
            ],
            "text/html": [
              "\n",
              "\n",
              "  <div id=\"df-e2515a6b-2e17-4d14-a8a5-3a759556871d\">\n",
              "    <div class=\"colab-df-container\">\n",
              "      <div>\n",
              "<style scoped>\n",
              "    .dataframe tbody tr th:only-of-type {\n",
              "        vertical-align: middle;\n",
              "    }\n",
              "\n",
              "    .dataframe tbody tr th {\n",
              "        vertical-align: top;\n",
              "    }\n",
              "\n",
              "    .dataframe thead th {\n",
              "        text-align: right;\n",
              "    }\n",
              "</style>\n",
              "<table border=\"1\" class=\"dataframe\">\n",
              "  <thead>\n",
              "    <tr style=\"text-align: right;\">\n",
              "      <th></th>\n",
              "      <th>date</th>\n",
              "      <th>year</th>\n",
              "      <th>month</th>\n",
              "      <th>day</th>\n",
              "      <th>hour</th>\n",
              "      <th>minute</th>\n",
              "    </tr>\n",
              "  </thead>\n",
              "  <tbody>\n",
              "    <tr>\n",
              "      <th>0</th>\n",
              "      <td>2001-01-07</td>\n",
              "      <td>2001</td>\n",
              "      <td>1</td>\n",
              "      <td>7</td>\n",
              "      <td>0</td>\n",
              "      <td>0</td>\n",
              "    </tr>\n",
              "    <tr>\n",
              "      <th>1</th>\n",
              "      <td>2001-01-14</td>\n",
              "      <td>2001</td>\n",
              "      <td>1</td>\n",
              "      <td>14</td>\n",
              "      <td>0</td>\n",
              "      <td>0</td>\n",
              "    </tr>\n",
              "    <tr>\n",
              "      <th>2</th>\n",
              "      <td>2001-01-21</td>\n",
              "      <td>2001</td>\n",
              "      <td>1</td>\n",
              "      <td>21</td>\n",
              "      <td>0</td>\n",
              "      <td>0</td>\n",
              "    </tr>\n",
              "  </tbody>\n",
              "</table>\n",
              "</div>\n",
              "      <button class=\"colab-df-convert\" onclick=\"convertToInteractive('df-e2515a6b-2e17-4d14-a8a5-3a759556871d')\"\n",
              "              title=\"Convert this dataframe to an interactive table.\"\n",
              "              style=\"display:none;\">\n",
              "\n",
              "  <svg xmlns=\"http://www.w3.org/2000/svg\" height=\"24px\"viewBox=\"0 0 24 24\"\n",
              "       width=\"24px\">\n",
              "    <path d=\"M0 0h24v24H0V0z\" fill=\"none\"/>\n",
              "    <path d=\"M18.56 5.44l.94 2.06.94-2.06 2.06-.94-2.06-.94-.94-2.06-.94 2.06-2.06.94zm-11 1L8.5 8.5l.94-2.06 2.06-.94-2.06-.94L8.5 2.5l-.94 2.06-2.06.94zm10 10l.94 2.06.94-2.06 2.06-.94-2.06-.94-.94-2.06-.94 2.06-2.06.94z\"/><path d=\"M17.41 7.96l-1.37-1.37c-.4-.4-.92-.59-1.43-.59-.52 0-1.04.2-1.43.59L10.3 9.45l-7.72 7.72c-.78.78-.78 2.05 0 2.83L4 21.41c.39.39.9.59 1.41.59.51 0 1.02-.2 1.41-.59l7.78-7.78 2.81-2.81c.8-.78.8-2.07 0-2.86zM5.41 20L4 18.59l7.72-7.72 1.47 1.35L5.41 20z\"/>\n",
              "  </svg>\n",
              "      </button>\n",
              "\n",
              "\n",
              "\n",
              "    <div id=\"df-144a3700-f4b4-4f70-843a-0d735be2a7d5\">\n",
              "      <button class=\"colab-df-quickchart\" onclick=\"quickchart('df-144a3700-f4b4-4f70-843a-0d735be2a7d5')\"\n",
              "              title=\"Suggest charts.\"\n",
              "              style=\"display:none;\">\n",
              "\n",
              "<svg xmlns=\"http://www.w3.org/2000/svg\" height=\"24px\"viewBox=\"0 0 24 24\"\n",
              "     width=\"24px\">\n",
              "    <g>\n",
              "        <path d=\"M19 3H5c-1.1 0-2 .9-2 2v14c0 1.1.9 2 2 2h14c1.1 0 2-.9 2-2V5c0-1.1-.9-2-2-2zM9 17H7v-7h2v7zm4 0h-2V7h2v10zm4 0h-2v-4h2v4z\"/>\n",
              "    </g>\n",
              "</svg>\n",
              "      </button>\n",
              "    </div>\n",
              "\n",
              "<style>\n",
              "  .colab-df-quickchart {\n",
              "    background-color: #E8F0FE;\n",
              "    border: none;\n",
              "    border-radius: 50%;\n",
              "    cursor: pointer;\n",
              "    display: none;\n",
              "    fill: #1967D2;\n",
              "    height: 32px;\n",
              "    padding: 0 0 0 0;\n",
              "    width: 32px;\n",
              "  }\n",
              "\n",
              "  .colab-df-quickchart:hover {\n",
              "    background-color: #E2EBFA;\n",
              "    box-shadow: 0px 1px 2px rgba(60, 64, 67, 0.3), 0px 1px 3px 1px rgba(60, 64, 67, 0.15);\n",
              "    fill: #174EA6;\n",
              "  }\n",
              "\n",
              "  [theme=dark] .colab-df-quickchart {\n",
              "    background-color: #3B4455;\n",
              "    fill: #D2E3FC;\n",
              "  }\n",
              "\n",
              "  [theme=dark] .colab-df-quickchart:hover {\n",
              "    background-color: #434B5C;\n",
              "    box-shadow: 0px 1px 3px 1px rgba(0, 0, 0, 0.15);\n",
              "    filter: drop-shadow(0px 1px 2px rgba(0, 0, 0, 0.3));\n",
              "    fill: #FFFFFF;\n",
              "  }\n",
              "</style>\n",
              "\n",
              "    <script>\n",
              "      async function quickchart(key) {\n",
              "        const containerElement = document.querySelector('#' + key);\n",
              "        const charts = await google.colab.kernel.invokeFunction(\n",
              "            'suggestCharts', [key], {});\n",
              "      }\n",
              "    </script>\n",
              "\n",
              "\n",
              "      <script>\n",
              "\n",
              "function displayQuickchartButton(domScope) {\n",
              "  let quickchartButtonEl =\n",
              "    domScope.querySelector('#df-144a3700-f4b4-4f70-843a-0d735be2a7d5 button.colab-df-quickchart');\n",
              "  quickchartButtonEl.style.display =\n",
              "    google.colab.kernel.accessAllowed ? 'block' : 'none';\n",
              "}\n",
              "\n",
              "        displayQuickchartButton(document);\n",
              "      </script>\n",
              "      <style>\n",
              "    .colab-df-container {\n",
              "      display:flex;\n",
              "      flex-wrap:wrap;\n",
              "      gap: 12px;\n",
              "    }\n",
              "\n",
              "    .colab-df-convert {\n",
              "      background-color: #E8F0FE;\n",
              "      border: none;\n",
              "      border-radius: 50%;\n",
              "      cursor: pointer;\n",
              "      display: none;\n",
              "      fill: #1967D2;\n",
              "      height: 32px;\n",
              "      padding: 0 0 0 0;\n",
              "      width: 32px;\n",
              "    }\n",
              "\n",
              "    .colab-df-convert:hover {\n",
              "      background-color: #E2EBFA;\n",
              "      box-shadow: 0px 1px 2px rgba(60, 64, 67, 0.3), 0px 1px 3px 1px rgba(60, 64, 67, 0.15);\n",
              "      fill: #174EA6;\n",
              "    }\n",
              "\n",
              "    [theme=dark] .colab-df-convert {\n",
              "      background-color: #3B4455;\n",
              "      fill: #D2E3FC;\n",
              "    }\n",
              "\n",
              "    [theme=dark] .colab-df-convert:hover {\n",
              "      background-color: #434B5C;\n",
              "      box-shadow: 0px 1px 3px 1px rgba(0, 0, 0, 0.15);\n",
              "      filter: drop-shadow(0px 1px 2px rgba(0, 0, 0, 0.3));\n",
              "      fill: #FFFFFF;\n",
              "    }\n",
              "  </style>\n",
              "\n",
              "      <script>\n",
              "        const buttonEl =\n",
              "          document.querySelector('#df-e2515a6b-2e17-4d14-a8a5-3a759556871d button.colab-df-convert');\n",
              "        buttonEl.style.display =\n",
              "          google.colab.kernel.accessAllowed ? 'block' : 'none';\n",
              "\n",
              "        async function convertToInteractive(key) {\n",
              "          const element = document.querySelector('#df-e2515a6b-2e17-4d14-a8a5-3a759556871d');\n",
              "          const dataTable =\n",
              "            await google.colab.kernel.invokeFunction('convertToInteractive',\n",
              "                                                     [key], {});\n",
              "          if (!dataTable) return;\n",
              "\n",
              "          const docLinkHtml = 'Like what you see? Visit the ' +\n",
              "            '<a target=\"_blank\" href=https://colab.research.google.com/notebooks/data_table.ipynb>data table notebook</a>'\n",
              "            + ' to learn more about interactive tables.';\n",
              "          element.innerHTML = '';\n",
              "          dataTable['output_type'] = 'display_data';\n",
              "          await google.colab.output.renderOutput(dataTable, element);\n",
              "          const docLink = document.createElement('div');\n",
              "          docLink.innerHTML = docLinkHtml;\n",
              "          element.appendChild(docLink);\n",
              "        }\n",
              "      </script>\n",
              "    </div>\n",
              "  </div>\n"
            ]
          },
          "metadata": {},
          "execution_count": 71
        }
      ],
      "source": [
        "# 라이브러리를 임포트합니다.\n",
        "import pandas as pd\n",
        "\n",
        "# 데이터프레임을 만듭니다.\n",
        "dataframe = pd.DataFrame()\n",
        "\n",
        "# 다섯 개의 날짜를 만듭니다.\n",
        "dataframe['date'] = pd.date_range('1/1/2001', periods=150, freq='W')            # 2001년 1월 1일부터 1주 간격으로 150개 datetime 생성\n",
        "print(type(dataframe))\n",
        "print(type(dataframe['date']))\n",
        "# 년, 월, 일, 시, 분에 대한 특성을 만듭니다.\n",
        "dataframe['year'] = dataframe['date'].dt.year\n",
        "dataframe['month'] = dataframe['date'].dt.month\n",
        "dataframe['day'] = dataframe['date'].dt.day\n",
        "dataframe['hour'] = dataframe['date'].dt.hour\n",
        "dataframe['minute'] = dataframe['date'].dt.minute\n",
        "\n",
        "# 세 개의 행을 확인합니다.\n",
        "dataframe.head(3)"
      ]
    },
    {
      "cell_type": "markdown",
      "metadata": {
        "id": "o5NyhB7M1PNZ"
      },
      "source": [
        "## 7.5 날짜 간의 차이를 계산하기<br>\n",
        "##### 샘플 간의 datetime 사이의 차이..."
      ]
    },
    {
      "cell_type": "code",
      "execution_count": 37,
      "metadata": {
        "id": "mZlgquH01PNZ",
        "outputId": "aa64eb27-0fb6-44b4-906a-9bf7a43ac825",
        "colab": {
          "base_uri": "https://localhost:8080/"
        }
      },
      "outputs": [
        {
          "output_type": "execute_result",
          "data": {
            "text/plain": [
              "0   0 days\n",
              "1   2 days\n",
              "dtype: timedelta64[ns]"
            ]
          },
          "metadata": {},
          "execution_count": 37
        }
      ],
      "source": [
        "# 라이브러리를 임포트합니다.\n",
        "import pandas as pd\n",
        "\n",
        "# 데이터프레임을 만듭니다.\n",
        "dataframe = pd.DataFrame()\n",
        "\n",
        "# 두 datetime 특성을 만듭니다.\n",
        "dataframe['Arrived'] = [pd.Timestamp('01-01-2017'), pd.Timestamp('01-04-2017')]\n",
        "dataframe['Left'] = [pd.Timestamp('01-01-2017'), pd.Timestamp('01-06-2017')]\n",
        "\n",
        "# 특성 사이의 차이를 계산합니다.\n",
        "dataframe['Left'] - dataframe['Arrived']                                        # timedelta object"
      ]
    },
    {
      "cell_type": "code",
      "execution_count": 38,
      "metadata": {
        "id": "_WY38H931PNa",
        "outputId": "d4cd99c2-3787-42c3-f023-bbb10f444027",
        "colab": {
          "base_uri": "https://localhost:8080/"
        }
      },
      "outputs": [
        {
          "output_type": "execute_result",
          "data": {
            "text/plain": [
              "0    0\n",
              "1    2\n",
              "dtype: int64"
            ]
          },
          "metadata": {},
          "execution_count": 38
        }
      ],
      "source": [
        "# 특성 간의 기간을 계산합니다.\n",
        "pd.Series(delta.days for delta in (dataframe['Left'] - dataframe['Arrived']))"
      ]
    },
    {
      "cell_type": "markdown",
      "source": [
        "##### ※ timedelta object는 아래와 같은데\n",
        "##### class datetime.timedelta(days=0, seconds=0, microseconds=0, milliseconds=0, minutes=0, hours=0, weeks=0)\n",
        "##### - timedelta instance attribute : days, seconds, microseconds 뿐 임"
      ],
      "metadata": {
        "id": "rL7STSouCxX8"
      }
    },
    {
      "cell_type": "code",
      "source": [
        "date_diff = dataframe['Left'] - dataframe['Arrived']\n",
        "print(type(dataframe['Left'][0]))\n",
        "print(type(date_diff[0]))                                                       # date_diff는 pd.series이지만 인스턴스들은 Timedelta 타입"
      ],
      "metadata": {
        "colab": {
          "base_uri": "https://localhost:8080/"
        },
        "id": "vUDwMBN2AtwX",
        "outputId": "ff7e65c0-82b2-42fd-8814-648c1c5f0886"
      },
      "execution_count": 46,
      "outputs": [
        {
          "output_type": "stream",
          "name": "stdout",
          "text": [
            "<class 'pandas._libs.tslibs.timestamps.Timestamp'>\n",
            "<class 'pandas._libs.tslibs.timedeltas.Timedelta'>\n"
          ]
        }
      ]
    },
    {
      "cell_type": "code",
      "source": [
        "date_diff"
      ],
      "metadata": {
        "colab": {
          "base_uri": "https://localhost:8080/"
        },
        "id": "RnZhkANo6wax",
        "outputId": "21d2ed24-48c9-4461-acc7-4cf010a15188"
      },
      "execution_count": 47,
      "outputs": [
        {
          "output_type": "execute_result",
          "data": {
            "text/plain": [
              "0   0 days\n",
              "1   2 days\n",
              "dtype: timedelta64[ns]"
            ]
          },
          "metadata": {},
          "execution_count": 47
        }
      ]
    },
    {
      "cell_type": "code",
      "source": [
        "pd.Series(delta.seconds for delta in (dataframe['Left'] - dataframe['Arrived']))"
      ],
      "metadata": {
        "colab": {
          "base_uri": "https://localhost:8080/"
        },
        "id": "Ka6qlyC5BFjI",
        "outputId": "b97d1dd8-123a-4e97-acf9-2171530c8c9b"
      },
      "execution_count": null,
      "outputs": [
        {
          "output_type": "execute_result",
          "data": {
            "text/plain": [
              "0    0\n",
              "1    0\n",
              "dtype: int64"
            ]
          },
          "metadata": {},
          "execution_count": 101
        }
      ]
    },
    {
      "cell_type": "code",
      "source": [
        "pd.Series(delta.hours for delta in (dataframe['Left'] - dataframe['Arrived']))"
      ],
      "metadata": {
        "colab": {
          "base_uri": "https://localhost:8080/",
          "height": 263
        },
        "id": "2Ibti9-WD9U5",
        "outputId": "10c4b7aa-ff70-4213-8bbb-5ead55315909"
      },
      "execution_count": null,
      "outputs": [
        {
          "output_type": "error",
          "ename": "AttributeError",
          "evalue": "ignored",
          "traceback": [
            "\u001b[0;31m---------------------------------------------------------------------------\u001b[0m",
            "\u001b[0;31mAttributeError\u001b[0m                            Traceback (most recent call last)",
            "\u001b[0;32m<ipython-input-100-29f748fe3955>\u001b[0m in \u001b[0;36m<cell line: 1>\u001b[0;34m()\u001b[0m\n\u001b[0;32m----> 1\u001b[0;31m \u001b[0mpd\u001b[0m\u001b[0;34m.\u001b[0m\u001b[0mSeries\u001b[0m\u001b[0;34m(\u001b[0m\u001b[0mdelta\u001b[0m\u001b[0;34m.\u001b[0m\u001b[0mhours\u001b[0m \u001b[0;32mfor\u001b[0m \u001b[0mdelta\u001b[0m \u001b[0;32min\u001b[0m \u001b[0;34m(\u001b[0m\u001b[0mdataframe\u001b[0m\u001b[0;34m[\u001b[0m\u001b[0;34m'Left'\u001b[0m\u001b[0;34m]\u001b[0m \u001b[0;34m-\u001b[0m \u001b[0mdataframe\u001b[0m\u001b[0;34m[\u001b[0m\u001b[0;34m'Arrived'\u001b[0m\u001b[0;34m]\u001b[0m\u001b[0;34m)\u001b[0m\u001b[0;34m)\u001b[0m\u001b[0;34m\u001b[0m\u001b[0;34m\u001b[0m\u001b[0m\n\u001b[0m",
            "\u001b[0;32m/usr/local/lib/python3.10/dist-packages/pandas/core/series.py\u001b[0m in \u001b[0;36m__init__\u001b[0;34m(self, data, index, dtype, name, copy, fastpath)\u001b[0m\n\u001b[1;32m    452\u001b[0m                 \u001b[0;32mpass\u001b[0m\u001b[0;34m\u001b[0m\u001b[0;34m\u001b[0m\u001b[0m\n\u001b[1;32m    453\u001b[0m             \u001b[0;32melse\u001b[0m\u001b[0;34m:\u001b[0m\u001b[0;34m\u001b[0m\u001b[0;34m\u001b[0m\u001b[0m\n\u001b[0;32m--> 454\u001b[0;31m                 \u001b[0mdata\u001b[0m \u001b[0;34m=\u001b[0m \u001b[0mcom\u001b[0m\u001b[0;34m.\u001b[0m\u001b[0mmaybe_iterable_to_list\u001b[0m\u001b[0;34m(\u001b[0m\u001b[0mdata\u001b[0m\u001b[0;34m)\u001b[0m\u001b[0;34m\u001b[0m\u001b[0;34m\u001b[0m\u001b[0m\n\u001b[0m\u001b[1;32m    455\u001b[0m \u001b[0;34m\u001b[0m\u001b[0m\n\u001b[1;32m    456\u001b[0m             \u001b[0;32mif\u001b[0m \u001b[0mindex\u001b[0m \u001b[0;32mis\u001b[0m \u001b[0;32mNone\u001b[0m\u001b[0;34m:\u001b[0m\u001b[0;34m\u001b[0m\u001b[0;34m\u001b[0m\u001b[0m\n",
            "\u001b[0;32m/usr/local/lib/python3.10/dist-packages/pandas/core/common.py\u001b[0m in \u001b[0;36mmaybe_iterable_to_list\u001b[0;34m(obj)\u001b[0m\n\u001b[1;32m    306\u001b[0m     \"\"\"\n\u001b[1;32m    307\u001b[0m     \u001b[0;32mif\u001b[0m \u001b[0misinstance\u001b[0m\u001b[0;34m(\u001b[0m\u001b[0mobj\u001b[0m\u001b[0;34m,\u001b[0m \u001b[0mabc\u001b[0m\u001b[0;34m.\u001b[0m\u001b[0mIterable\u001b[0m\u001b[0;34m)\u001b[0m \u001b[0;32mand\u001b[0m \u001b[0;32mnot\u001b[0m \u001b[0misinstance\u001b[0m\u001b[0;34m(\u001b[0m\u001b[0mobj\u001b[0m\u001b[0;34m,\u001b[0m \u001b[0mabc\u001b[0m\u001b[0;34m.\u001b[0m\u001b[0mSized\u001b[0m\u001b[0;34m)\u001b[0m\u001b[0;34m:\u001b[0m\u001b[0;34m\u001b[0m\u001b[0;34m\u001b[0m\u001b[0m\n\u001b[0;32m--> 308\u001b[0;31m         \u001b[0;32mreturn\u001b[0m \u001b[0mlist\u001b[0m\u001b[0;34m(\u001b[0m\u001b[0mobj\u001b[0m\u001b[0;34m)\u001b[0m\u001b[0;34m\u001b[0m\u001b[0;34m\u001b[0m\u001b[0m\n\u001b[0m\u001b[1;32m    309\u001b[0m     \u001b[0mobj\u001b[0m \u001b[0;34m=\u001b[0m \u001b[0mcast\u001b[0m\u001b[0;34m(\u001b[0m\u001b[0mCollection\u001b[0m\u001b[0;34m,\u001b[0m \u001b[0mobj\u001b[0m\u001b[0;34m)\u001b[0m\u001b[0;34m\u001b[0m\u001b[0;34m\u001b[0m\u001b[0m\n\u001b[1;32m    310\u001b[0m     \u001b[0;32mreturn\u001b[0m \u001b[0mobj\u001b[0m\u001b[0;34m\u001b[0m\u001b[0;34m\u001b[0m\u001b[0m\n",
            "\u001b[0;32m<ipython-input-100-29f748fe3955>\u001b[0m in \u001b[0;36m<genexpr>\u001b[0;34m(.0)\u001b[0m\n\u001b[0;32m----> 1\u001b[0;31m \u001b[0mpd\u001b[0m\u001b[0;34m.\u001b[0m\u001b[0mSeries\u001b[0m\u001b[0;34m(\u001b[0m\u001b[0mdelta\u001b[0m\u001b[0;34m.\u001b[0m\u001b[0mhours\u001b[0m \u001b[0;32mfor\u001b[0m \u001b[0mdelta\u001b[0m \u001b[0;32min\u001b[0m \u001b[0;34m(\u001b[0m\u001b[0mdataframe\u001b[0m\u001b[0;34m[\u001b[0m\u001b[0;34m'Left'\u001b[0m\u001b[0;34m]\u001b[0m \u001b[0;34m-\u001b[0m \u001b[0mdataframe\u001b[0m\u001b[0;34m[\u001b[0m\u001b[0;34m'Arrived'\u001b[0m\u001b[0;34m]\u001b[0m\u001b[0;34m)\u001b[0m\u001b[0;34m)\u001b[0m\u001b[0;34m\u001b[0m\u001b[0;34m\u001b[0m\u001b[0m\n\u001b[0m",
            "\u001b[0;31mAttributeError\u001b[0m: 'Timedelta' object has no attribute 'hours'"
          ]
        }
      ]
    },
    {
      "cell_type": "markdown",
      "source": [
        "##### - timedelta class attribute : min(가장 음수인 timedelta 객체), max(가장 양수인 timedelta 객체), resolution(timedelta 간의 가장 작은 차이, 1 microsec)"
      ],
      "metadata": {
        "id": "VQ-U3QsqIu9x"
      }
    },
    {
      "cell_type": "code",
      "source": [
        "print(date_diff[0].min)\n",
        "print(date_diff[0].max)\n",
        "print(date_diff[0].resolution)"
      ],
      "metadata": {
        "colab": {
          "base_uri": "https://localhost:8080/"
        },
        "id": "JlN2mkKYFRAM",
        "outputId": "d2a84898-c49a-43a7-d859-b323d539973e"
      },
      "execution_count": null,
      "outputs": [
        {
          "output_type": "stream",
          "name": "stdout",
          "text": [
            "-106752 days +00:12:43.145224193\n",
            "106751 days 23:47:16.854775807\n",
            "0 days 00:00:00.000000001\n"
          ]
        }
      ]
    },
    {
      "cell_type": "markdown",
      "source": [
        "##### - timedelta instance methods : total_seconds()"
      ],
      "metadata": {
        "id": "uUqTuA6OIyyV"
      }
    },
    {
      "cell_type": "code",
      "source": [
        "pd.Series(delta.total_seconds() for delta in (dataframe['Left'] - dataframe['Arrived']))"
      ],
      "metadata": {
        "colab": {
          "base_uri": "https://localhost:8080/"
        },
        "id": "wY6hen9YIXqy",
        "outputId": "33188b21-dfdf-4e84-b88f-a193149152da"
      },
      "execution_count": null,
      "outputs": [
        {
          "output_type": "execute_result",
          "data": {
            "text/plain": [
              "0         0.0\n",
              "1    172800.0\n",
              "dtype: float64"
            ]
          },
          "metadata": {},
          "execution_count": 114
        }
      ]
    },
    {
      "cell_type": "markdown",
      "source": [
        "## ※ https://bit.ly/2W04StT\n",
        "## ※ ISO8601 :  날짜와 시간과 관련된 데이터 교환을 다루는 국제 표준. 목적은 날짜와 시간을 표현함에 있어 명백하고 잘 정의된 방법을 제공함으로써, 날짜와 시간의 숫자 표현에 대한 오해를 줄이고자함"
      ],
      "metadata": {
        "id": "SR5g0tvCK7tg"
      }
    },
    {
      "cell_type": "markdown",
      "source": [
        "![image.png](data:image/png;base64,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)"
      ],
      "metadata": {
        "id": "vP1PUQSNLmb9"
      }
    },
    {
      "cell_type": "markdown",
      "metadata": {
        "id": "X70_nTiY1PNa"
      },
      "source": [
        "## 7.6 요일을 인코딩하기\n",
        "##### Series.dt weekday_name 속성 사용"
      ]
    },
    {
      "cell_type": "code",
      "execution_count": 49,
      "metadata": {
        "id": "nEj-pCdH1PNa",
        "outputId": "a8b2bf71-a08c-4d86-84e3-1eb5f827dbf7",
        "colab": {
          "base_uri": "https://localhost:8080/"
        }
      },
      "outputs": [
        {
          "output_type": "execute_result",
          "data": {
            "text/plain": [
              "0     Saturday\n",
              "1       Sunday\n",
              "2       Monday\n",
              "3      Tuesday\n",
              "4    Wednesday\n",
              "5     Thursday\n",
              "6       Friday\n",
              "dtype: object"
            ]
          },
          "metadata": {},
          "execution_count": 49
        }
      ],
      "source": [
        "# 라이브러리를 임포트합니다.\n",
        "import pandas as pd\n",
        "\n",
        "# 시리즈 객체를 만듭니다.\n",
        "dates = pd.Series(pd.date_range(\"2/2/2002\", periods=7, freq=\"D\"))\n",
        "\n",
        "# 요일을 확인합니다.\n",
        "dates.dt.day_name()"
      ]
    },
    {
      "cell_type": "code",
      "execution_count": 50,
      "metadata": {
        "id": "Vpo0fwIm1PNa",
        "outputId": "4568f51b-17c8-45da-9bce-817f007f1b29",
        "colab": {
          "base_uri": "https://localhost:8080/"
        }
      },
      "outputs": [
        {
          "output_type": "execute_result",
          "data": {
            "text/plain": [
              "0    5\n",
              "1    6\n",
              "2    0\n",
              "3    1\n",
              "4    2\n",
              "5    3\n",
              "6    4\n",
              "dtype: int64"
            ]
          },
          "metadata": {},
          "execution_count": 50
        }
      ],
      "source": [
        "# 요일을 확인합니다. 수치형 값으로 출력 ex) Monday : 0 ~ Sunday : 6\n",
        "dates.dt.weekday"
      ]
    },
    {
      "cell_type": "code",
      "source": [
        "dates.dt.dayofweek"
      ],
      "metadata": {
        "colab": {
          "base_uri": "https://localhost:8080/"
        },
        "id": "wuK_CCMq9HW0",
        "outputId": "383d34b0-f647-4878-d70b-6f6bfa7bdfb8"
      },
      "execution_count": 52,
      "outputs": [
        {
          "output_type": "execute_result",
          "data": {
            "text/plain": [
              "0    5\n",
              "1    6\n",
              "2    0\n",
              "3    1\n",
              "4    2\n",
              "5    3\n",
              "6    4\n",
              "dtype: int64"
            ]
          },
          "metadata": {},
          "execution_count": 52
        }
      ]
    },
    {
      "cell_type": "code",
      "source": [
        "dates.dt.weekday== dates.dt.dayofweek"
      ],
      "metadata": {
        "colab": {
          "base_uri": "https://localhost:8080/"
        },
        "id": "n2E1woN29MTE",
        "outputId": "edf2d7b9-581b-4b8f-ad29-4a8f7fd95159"
      },
      "execution_count": 53,
      "outputs": [
        {
          "output_type": "execute_result",
          "data": {
            "text/plain": [
              "0    True\n",
              "1    True\n",
              "2    True\n",
              "3    True\n",
              "4    True\n",
              "5    True\n",
              "6    True\n",
              "dtype: bool"
            ]
          },
          "metadata": {},
          "execution_count": 53
        }
      ]
    },
    {
      "cell_type": "markdown",
      "source": [
        "# ※Pandas Series Datetimelike 속성 : http://pandas.pydata.org/pandas-docs/stable/reference/series.html#datetimelike-properties"
      ],
      "metadata": {
        "id": "6b8t36U3MX-0"
      }
    },
    {
      "cell_type": "markdown",
      "metadata": {
        "id": "V7UL80As1PNa"
      },
      "source": [
        "## 7.7 시차 특성 만들기\n",
        "##### n 기간 만큼 차이가 나는 시차 특성(lagged feature)\n",
        "##### → 판다스 shift 사용"
      ]
    },
    {
      "cell_type": "code",
      "execution_count": null,
      "metadata": {
        "id": "zQB8X9pO1PNa",
        "outputId": "c2b79486-9d0b-41f0-9723-21aaec364c88",
        "colab": {
          "base_uri": "https://localhost:8080/",
          "height": 206
        }
      },
      "outputs": [
        {
          "output_type": "execute_result",
          "data": {
            "text/plain": [
              "       dates  stock_price  previous_days_stock_price\n",
              "0 2001-01-01          1.1                        NaN\n",
              "1 2001-01-02          2.2                        NaN\n",
              "2 2001-01-03          3.3                        1.1\n",
              "3 2001-01-04          4.4                        2.2\n",
              "4 2001-01-05          5.5                        3.3"
            ],
            "text/html": [
              "\n",
              "\n",
              "  <div id=\"df-9590a5c3-770a-4642-a0e1-dd52f6a7fe31\">\n",
              "    <div class=\"colab-df-container\">\n",
              "      <div>\n",
              "<style scoped>\n",
              "    .dataframe tbody tr th:only-of-type {\n",
              "        vertical-align: middle;\n",
              "    }\n",
              "\n",
              "    .dataframe tbody tr th {\n",
              "        vertical-align: top;\n",
              "    }\n",
              "\n",
              "    .dataframe thead th {\n",
              "        text-align: right;\n",
              "    }\n",
              "</style>\n",
              "<table border=\"1\" class=\"dataframe\">\n",
              "  <thead>\n",
              "    <tr style=\"text-align: right;\">\n",
              "      <th></th>\n",
              "      <th>dates</th>\n",
              "      <th>stock_price</th>\n",
              "      <th>previous_days_stock_price</th>\n",
              "    </tr>\n",
              "  </thead>\n",
              "  <tbody>\n",
              "    <tr>\n",
              "      <th>0</th>\n",
              "      <td>2001-01-01</td>\n",
              "      <td>1.1</td>\n",
              "      <td>NaN</td>\n",
              "    </tr>\n",
              "    <tr>\n",
              "      <th>1</th>\n",
              "      <td>2001-01-02</td>\n",
              "      <td>2.2</td>\n",
              "      <td>NaN</td>\n",
              "    </tr>\n",
              "    <tr>\n",
              "      <th>2</th>\n",
              "      <td>2001-01-03</td>\n",
              "      <td>3.3</td>\n",
              "      <td>1.1</td>\n",
              "    </tr>\n",
              "    <tr>\n",
              "      <th>3</th>\n",
              "      <td>2001-01-04</td>\n",
              "      <td>4.4</td>\n",
              "      <td>2.2</td>\n",
              "    </tr>\n",
              "    <tr>\n",
              "      <th>4</th>\n",
              "      <td>2001-01-05</td>\n",
              "      <td>5.5</td>\n",
              "      <td>3.3</td>\n",
              "    </tr>\n",
              "  </tbody>\n",
              "</table>\n",
              "</div>\n",
              "      <button class=\"colab-df-convert\" onclick=\"convertToInteractive('df-9590a5c3-770a-4642-a0e1-dd52f6a7fe31')\"\n",
              "              title=\"Convert this dataframe to an interactive table.\"\n",
              "              style=\"display:none;\">\n",
              "\n",
              "  <svg xmlns=\"http://www.w3.org/2000/svg\" height=\"24px\"viewBox=\"0 0 24 24\"\n",
              "       width=\"24px\">\n",
              "    <path d=\"M0 0h24v24H0V0z\" fill=\"none\"/>\n",
              "    <path d=\"M18.56 5.44l.94 2.06.94-2.06 2.06-.94-2.06-.94-.94-2.06-.94 2.06-2.06.94zm-11 1L8.5 8.5l.94-2.06 2.06-.94-2.06-.94L8.5 2.5l-.94 2.06-2.06.94zm10 10l.94 2.06.94-2.06 2.06-.94-2.06-.94-.94-2.06-.94 2.06-2.06.94z\"/><path d=\"M17.41 7.96l-1.37-1.37c-.4-.4-.92-.59-1.43-.59-.52 0-1.04.2-1.43.59L10.3 9.45l-7.72 7.72c-.78.78-.78 2.05 0 2.83L4 21.41c.39.39.9.59 1.41.59.51 0 1.02-.2 1.41-.59l7.78-7.78 2.81-2.81c.8-.78.8-2.07 0-2.86zM5.41 20L4 18.59l7.72-7.72 1.47 1.35L5.41 20z\"/>\n",
              "  </svg>\n",
              "      </button>\n",
              "\n",
              "\n",
              "\n",
              "    <div id=\"df-af9f0ac4-7b11-44a7-8228-c46eff167eda\">\n",
              "      <button class=\"colab-df-quickchart\" onclick=\"quickchart('df-af9f0ac4-7b11-44a7-8228-c46eff167eda')\"\n",
              "              title=\"Suggest charts.\"\n",
              "              style=\"display:none;\">\n",
              "\n",
              "<svg xmlns=\"http://www.w3.org/2000/svg\" height=\"24px\"viewBox=\"0 0 24 24\"\n",
              "     width=\"24px\">\n",
              "    <g>\n",
              "        <path d=\"M19 3H5c-1.1 0-2 .9-2 2v14c0 1.1.9 2 2 2h14c1.1 0 2-.9 2-2V5c0-1.1-.9-2-2-2zM9 17H7v-7h2v7zm4 0h-2V7h2v10zm4 0h-2v-4h2v4z\"/>\n",
              "    </g>\n",
              "</svg>\n",
              "      </button>\n",
              "    </div>\n",
              "\n",
              "<style>\n",
              "  .colab-df-quickchart {\n",
              "    background-color: #E8F0FE;\n",
              "    border: none;\n",
              "    border-radius: 50%;\n",
              "    cursor: pointer;\n",
              "    display: none;\n",
              "    fill: #1967D2;\n",
              "    height: 32px;\n",
              "    padding: 0 0 0 0;\n",
              "    width: 32px;\n",
              "  }\n",
              "\n",
              "  .colab-df-quickchart:hover {\n",
              "    background-color: #E2EBFA;\n",
              "    box-shadow: 0px 1px 2px rgba(60, 64, 67, 0.3), 0px 1px 3px 1px rgba(60, 64, 67, 0.15);\n",
              "    fill: #174EA6;\n",
              "  }\n",
              "\n",
              "  [theme=dark] .colab-df-quickchart {\n",
              "    background-color: #3B4455;\n",
              "    fill: #D2E3FC;\n",
              "  }\n",
              "\n",
              "  [theme=dark] .colab-df-quickchart:hover {\n",
              "    background-color: #434B5C;\n",
              "    box-shadow: 0px 1px 3px 1px rgba(0, 0, 0, 0.15);\n",
              "    filter: drop-shadow(0px 1px 2px rgba(0, 0, 0, 0.3));\n",
              "    fill: #FFFFFF;\n",
              "  }\n",
              "</style>\n",
              "\n",
              "    <script>\n",
              "      async function quickchart(key) {\n",
              "        const containerElement = document.querySelector('#' + key);\n",
              "        const charts = await google.colab.kernel.invokeFunction(\n",
              "            'suggestCharts', [key], {});\n",
              "      }\n",
              "    </script>\n",
              "\n",
              "\n",
              "      <script>\n",
              "\n",
              "function displayQuickchartButton(domScope) {\n",
              "  let quickchartButtonEl =\n",
              "    domScope.querySelector('#df-af9f0ac4-7b11-44a7-8228-c46eff167eda button.colab-df-quickchart');\n",
              "  quickchartButtonEl.style.display =\n",
              "    google.colab.kernel.accessAllowed ? 'block' : 'none';\n",
              "}\n",
              "\n",
              "        displayQuickchartButton(document);\n",
              "      </script>\n",
              "      <style>\n",
              "    .colab-df-container {\n",
              "      display:flex;\n",
              "      flex-wrap:wrap;\n",
              "      gap: 12px;\n",
              "    }\n",
              "\n",
              "    .colab-df-convert {\n",
              "      background-color: #E8F0FE;\n",
              "      border: none;\n",
              "      border-radius: 50%;\n",
              "      cursor: pointer;\n",
              "      display: none;\n",
              "      fill: #1967D2;\n",
              "      height: 32px;\n",
              "      padding: 0 0 0 0;\n",
              "      width: 32px;\n",
              "    }\n",
              "\n",
              "    .colab-df-convert:hover {\n",
              "      background-color: #E2EBFA;\n",
              "      box-shadow: 0px 1px 2px rgba(60, 64, 67, 0.3), 0px 1px 3px 1px rgba(60, 64, 67, 0.15);\n",
              "      fill: #174EA6;\n",
              "    }\n",
              "\n",
              "    [theme=dark] .colab-df-convert {\n",
              "      background-color: #3B4455;\n",
              "      fill: #D2E3FC;\n",
              "    }\n",
              "\n",
              "    [theme=dark] .colab-df-convert:hover {\n",
              "      background-color: #434B5C;\n",
              "      box-shadow: 0px 1px 3px 1px rgba(0, 0, 0, 0.15);\n",
              "      filter: drop-shadow(0px 1px 2px rgba(0, 0, 0, 0.3));\n",
              "      fill: #FFFFFF;\n",
              "    }\n",
              "  </style>\n",
              "\n",
              "      <script>\n",
              "        const buttonEl =\n",
              "          document.querySelector('#df-9590a5c3-770a-4642-a0e1-dd52f6a7fe31 button.colab-df-convert');\n",
              "        buttonEl.style.display =\n",
              "          google.colab.kernel.accessAllowed ? 'block' : 'none';\n",
              "\n",
              "        async function convertToInteractive(key) {\n",
              "          const element = document.querySelector('#df-9590a5c3-770a-4642-a0e1-dd52f6a7fe31');\n",
              "          const dataTable =\n",
              "            await google.colab.kernel.invokeFunction('convertToInteractive',\n",
              "                                                     [key], {});\n",
              "          if (!dataTable) return;\n",
              "\n",
              "          const docLinkHtml = 'Like what you see? Visit the ' +\n",
              "            '<a target=\"_blank\" href=https://colab.research.google.com/notebooks/data_table.ipynb>data table notebook</a>'\n",
              "            + ' to learn more about interactive tables.';\n",
              "          element.innerHTML = '';\n",
              "          dataTable['output_type'] = 'display_data';\n",
              "          await google.colab.output.renderOutput(dataTable, element);\n",
              "          const docLink = document.createElement('div');\n",
              "          docLink.innerHTML = docLinkHtml;\n",
              "          element.appendChild(docLink);\n",
              "        }\n",
              "      </script>\n",
              "    </div>\n",
              "  </div>\n"
            ]
          },
          "metadata": {},
          "execution_count": 127
        }
      ],
      "source": [
        "# 라이브러리를 임포트합니다.\n",
        "import pandas as pd\n",
        "\n",
        "# 데이터프레임을 만듭니다.\n",
        "dataframe = pd.DataFrame()\n",
        "\n",
        "# 날짜를 만듭니다.\n",
        "dataframe[\"dates\"] = pd.date_range(\"1/1/2001\", periods=5, freq=\"D\")\n",
        "dataframe[\"stock_price\"] = [1.1,2.2,3.3,4.4,5.5]                                # 주식 가격 예시로 사용하고 싶어한 듯\n",
        "\n",
        "# 한 행 뒤의 값을 가져옵니다.\n",
        "dataframe[\"previous_days_stock_price\"] = dataframe[\"stock_price\"].shift(2)      # 2일 전 데이터\n",
        "\n",
        "# 데이터프레임을 확인합니다.\n",
        "dataframe"
      ]
    },
    {
      "cell_type": "markdown",
      "metadata": {
        "id": "ep0_40Us1PNa"
      },
      "source": [
        "## 7.8 이동 시간 윈도 사용하기\n",
        "##### 일정 시간 간격으로 통계를 계산할 때"
      ]
    },
    {
      "cell_type": "code",
      "execution_count": null,
      "metadata": {
        "id": "im7GBNCi1PNa",
        "outputId": "c2e77687-042c-4d21-d827-8a10233b2312",
        "colab": {
          "base_uri": "https://localhost:8080/",
          "height": 206
        }
      },
      "outputs": [
        {
          "output_type": "execute_result",
          "data": {
            "text/plain": [
              "            Stock_Price\n",
              "2010-01-31          NaN\n",
              "2010-02-28          1.5\n",
              "2010-03-31          2.5\n",
              "2010-04-30          3.5\n",
              "2010-05-31          4.5"
            ],
            "text/html": [
              "\n",
              "\n",
              "  <div id=\"df-20b7162c-7c96-40e6-8998-b50b3ba568a8\">\n",
              "    <div class=\"colab-df-container\">\n",
              "      <div>\n",
              "<style scoped>\n",
              "    .dataframe tbody tr th:only-of-type {\n",
              "        vertical-align: middle;\n",
              "    }\n",
              "\n",
              "    .dataframe tbody tr th {\n",
              "        vertical-align: top;\n",
              "    }\n",
              "\n",
              "    .dataframe thead th {\n",
              "        text-align: right;\n",
              "    }\n",
              "</style>\n",
              "<table border=\"1\" class=\"dataframe\">\n",
              "  <thead>\n",
              "    <tr style=\"text-align: right;\">\n",
              "      <th></th>\n",
              "      <th>Stock_Price</th>\n",
              "    </tr>\n",
              "  </thead>\n",
              "  <tbody>\n",
              "    <tr>\n",
              "      <th>2010-01-31</th>\n",
              "      <td>NaN</td>\n",
              "    </tr>\n",
              "    <tr>\n",
              "      <th>2010-02-28</th>\n",
              "      <td>1.5</td>\n",
              "    </tr>\n",
              "    <tr>\n",
              "      <th>2010-03-31</th>\n",
              "      <td>2.5</td>\n",
              "    </tr>\n",
              "    <tr>\n",
              "      <th>2010-04-30</th>\n",
              "      <td>3.5</td>\n",
              "    </tr>\n",
              "    <tr>\n",
              "      <th>2010-05-31</th>\n",
              "      <td>4.5</td>\n",
              "    </tr>\n",
              "  </tbody>\n",
              "</table>\n",
              "</div>\n",
              "      <button class=\"colab-df-convert\" onclick=\"convertToInteractive('df-20b7162c-7c96-40e6-8998-b50b3ba568a8')\"\n",
              "              title=\"Convert this dataframe to an interactive table.\"\n",
              "              style=\"display:none;\">\n",
              "\n",
              "  <svg xmlns=\"http://www.w3.org/2000/svg\" height=\"24px\"viewBox=\"0 0 24 24\"\n",
              "       width=\"24px\">\n",
              "    <path d=\"M0 0h24v24H0V0z\" fill=\"none\"/>\n",
              "    <path d=\"M18.56 5.44l.94 2.06.94-2.06 2.06-.94-2.06-.94-.94-2.06-.94 2.06-2.06.94zm-11 1L8.5 8.5l.94-2.06 2.06-.94-2.06-.94L8.5 2.5l-.94 2.06-2.06.94zm10 10l.94 2.06.94-2.06 2.06-.94-2.06-.94-.94-2.06-.94 2.06-2.06.94z\"/><path d=\"M17.41 7.96l-1.37-1.37c-.4-.4-.92-.59-1.43-.59-.52 0-1.04.2-1.43.59L10.3 9.45l-7.72 7.72c-.78.78-.78 2.05 0 2.83L4 21.41c.39.39.9.59 1.41.59.51 0 1.02-.2 1.41-.59l7.78-7.78 2.81-2.81c.8-.78.8-2.07 0-2.86zM5.41 20L4 18.59l7.72-7.72 1.47 1.35L5.41 20z\"/>\n",
              "  </svg>\n",
              "      </button>\n",
              "\n",
              "\n",
              "\n",
              "    <div id=\"df-650f0e05-09c3-4da2-8d27-96bff03b84a3\">\n",
              "      <button class=\"colab-df-quickchart\" onclick=\"quickchart('df-650f0e05-09c3-4da2-8d27-96bff03b84a3')\"\n",
              "              title=\"Suggest charts.\"\n",
              "              style=\"display:none;\">\n",
              "\n",
              "<svg xmlns=\"http://www.w3.org/2000/svg\" height=\"24px\"viewBox=\"0 0 24 24\"\n",
              "     width=\"24px\">\n",
              "    <g>\n",
              "        <path d=\"M19 3H5c-1.1 0-2 .9-2 2v14c0 1.1.9 2 2 2h14c1.1 0 2-.9 2-2V5c0-1.1-.9-2-2-2zM9 17H7v-7h2v7zm4 0h-2V7h2v10zm4 0h-2v-4h2v4z\"/>\n",
              "    </g>\n",
              "</svg>\n",
              "      </button>\n",
              "    </div>\n",
              "\n",
              "<style>\n",
              "  .colab-df-quickchart {\n",
              "    background-color: #E8F0FE;\n",
              "    border: none;\n",
              "    border-radius: 50%;\n",
              "    cursor: pointer;\n",
              "    display: none;\n",
              "    fill: #1967D2;\n",
              "    height: 32px;\n",
              "    padding: 0 0 0 0;\n",
              "    width: 32px;\n",
              "  }\n",
              "\n",
              "  .colab-df-quickchart:hover {\n",
              "    background-color: #E2EBFA;\n",
              "    box-shadow: 0px 1px 2px rgba(60, 64, 67, 0.3), 0px 1px 3px 1px rgba(60, 64, 67, 0.15);\n",
              "    fill: #174EA6;\n",
              "  }\n",
              "\n",
              "  [theme=dark] .colab-df-quickchart {\n",
              "    background-color: #3B4455;\n",
              "    fill: #D2E3FC;\n",
              "  }\n",
              "\n",
              "  [theme=dark] .colab-df-quickchart:hover {\n",
              "    background-color: #434B5C;\n",
              "    box-shadow: 0px 1px 3px 1px rgba(0, 0, 0, 0.15);\n",
              "    filter: drop-shadow(0px 1px 2px rgba(0, 0, 0, 0.3));\n",
              "    fill: #FFFFFF;\n",
              "  }\n",
              "</style>\n",
              "\n",
              "    <script>\n",
              "      async function quickchart(key) {\n",
              "        const containerElement = document.querySelector('#' + key);\n",
              "        const charts = await google.colab.kernel.invokeFunction(\n",
              "            'suggestCharts', [key], {});\n",
              "      }\n",
              "    </script>\n",
              "\n",
              "\n",
              "      <script>\n",
              "\n",
              "function displayQuickchartButton(domScope) {\n",
              "  let quickchartButtonEl =\n",
              "    domScope.querySelector('#df-650f0e05-09c3-4da2-8d27-96bff03b84a3 button.colab-df-quickchart');\n",
              "  quickchartButtonEl.style.display =\n",
              "    google.colab.kernel.accessAllowed ? 'block' : 'none';\n",
              "}\n",
              "\n",
              "        displayQuickchartButton(document);\n",
              "      </script>\n",
              "      <style>\n",
              "    .colab-df-container {\n",
              "      display:flex;\n",
              "      flex-wrap:wrap;\n",
              "      gap: 12px;\n",
              "    }\n",
              "\n",
              "    .colab-df-convert {\n",
              "      background-color: #E8F0FE;\n",
              "      border: none;\n",
              "      border-radius: 50%;\n",
              "      cursor: pointer;\n",
              "      display: none;\n",
              "      fill: #1967D2;\n",
              "      height: 32px;\n",
              "      padding: 0 0 0 0;\n",
              "      width: 32px;\n",
              "    }\n",
              "\n",
              "    .colab-df-convert:hover {\n",
              "      background-color: #E2EBFA;\n",
              "      box-shadow: 0px 1px 2px rgba(60, 64, 67, 0.3), 0px 1px 3px 1px rgba(60, 64, 67, 0.15);\n",
              "      fill: #174EA6;\n",
              "    }\n",
              "\n",
              "    [theme=dark] .colab-df-convert {\n",
              "      background-color: #3B4455;\n",
              "      fill: #D2E3FC;\n",
              "    }\n",
              "\n",
              "    [theme=dark] .colab-df-convert:hover {\n",
              "      background-color: #434B5C;\n",
              "      box-shadow: 0px 1px 3px 1px rgba(0, 0, 0, 0.15);\n",
              "      filter: drop-shadow(0px 1px 2px rgba(0, 0, 0, 0.3));\n",
              "      fill: #FFFFFF;\n",
              "    }\n",
              "  </style>\n",
              "\n",
              "      <script>\n",
              "        const buttonEl =\n",
              "          document.querySelector('#df-20b7162c-7c96-40e6-8998-b50b3ba568a8 button.colab-df-convert');\n",
              "        buttonEl.style.display =\n",
              "          google.colab.kernel.accessAllowed ? 'block' : 'none';\n",
              "\n",
              "        async function convertToInteractive(key) {\n",
              "          const element = document.querySelector('#df-20b7162c-7c96-40e6-8998-b50b3ba568a8');\n",
              "          const dataTable =\n",
              "            await google.colab.kernel.invokeFunction('convertToInteractive',\n",
              "                                                     [key], {});\n",
              "          if (!dataTable) return;\n",
              "\n",
              "          const docLinkHtml = 'Like what you see? Visit the ' +\n",
              "            '<a target=\"_blank\" href=https://colab.research.google.com/notebooks/data_table.ipynb>data table notebook</a>'\n",
              "            + ' to learn more about interactive tables.';\n",
              "          element.innerHTML = '';\n",
              "          dataTable['output_type'] = 'display_data';\n",
              "          await google.colab.output.renderOutput(dataTable, element);\n",
              "          const docLink = document.createElement('div');\n",
              "          docLink.innerHTML = docLinkHtml;\n",
              "          element.appendChild(docLink);\n",
              "        }\n",
              "      </script>\n",
              "    </div>\n",
              "  </div>\n"
            ]
          },
          "metadata": {},
          "execution_count": 130
        }
      ],
      "source": [
        "# 라이브러리를 임포트합니다.\n",
        "import pandas as pd\n",
        "\n",
        "# datetime을 만듭니다.\n",
        "time_index = pd.date_range(\"01/01/2010\", periods=5, freq=\"M\")\n",
        "\n",
        "# 데이터프레임을 만들고 인덱스를 설정합니다.\n",
        "dataframe = pd.DataFrame(index=time_index)\n",
        "\n",
        "# 특성을 만듭니다.\n",
        "dataframe[\"Stock_Price\"] = [1,2,3,4,5]\n",
        "\n",
        "# 이동 평균을 계산합니다.\n",
        "dataframe.rolling(window=2).mean()"
      ]
    },
    {
      "cell_type": "markdown",
      "source": [
        "판다스의 rolling 메소드는 window 매개변수에서 윈도우 크기를 지정<br>\n",
        "max(), mean(), count(), corr() 등 통계를 윈도우 별로 간편하게 계산 가능"
      ],
      "metadata": {
        "id": "gwmyeJnfObHc"
      }
    },
    {
      "cell_type": "markdown",
      "metadata": {
        "id": "K_tbRfy-1PNa"
      },
      "source": [
        "## 붙임"
      ]
    },
    {
      "cell_type": "markdown",
      "source": [
        "### exponential moving widnow : 최근 항목에 높은 가중치를 두지만 전체 기간에 대한 통계를 계산<br>\n",
        "참고 : https://wikidocs.net/152787"
      ],
      "metadata": {
        "id": "1EAqLrK6PLZD"
      }
    },
    {
      "cell_type": "markdown",
      "source": [
        "## 지수 이동 평균은 시계열 데이터 분석에 중요한 개념이므로 통계 강의에서 다뤄지길 기대합니다.\n",
        "## 여기서는 간단히 뭔지만 보고 넘어가는게..."
      ],
      "metadata": {
        "id": "idG3PkpaTFBV"
      }
    },
    {
      "cell_type": "code",
      "execution_count": null,
      "metadata": {
        "id": "JwbG-MNx1PNa",
        "outputId": "febdf18f-4872-47cb-abd6-479844e73b7b",
        "colab": {
          "base_uri": "https://localhost:8080/",
          "height": 206
        }
      },
      "outputs": [
        {
          "output_type": "execute_result",
          "data": {
            "text/plain": [
              "            Stock_Price\n",
              "2010-01-31     1.000000\n",
              "2010-02-28     1.666667\n",
              "2010-03-31     2.428571\n",
              "2010-04-30     3.266667\n",
              "2010-05-31     4.161290"
            ],
            "text/html": [
              "\n",
              "\n",
              "  <div id=\"df-1b8799f0-da22-40ac-8afc-a0af8a01bdda\">\n",
              "    <div class=\"colab-df-container\">\n",
              "      <div>\n",
              "<style scoped>\n",
              "    .dataframe tbody tr th:only-of-type {\n",
              "        vertical-align: middle;\n",
              "    }\n",
              "\n",
              "    .dataframe tbody tr th {\n",
              "        vertical-align: top;\n",
              "    }\n",
              "\n",
              "    .dataframe thead th {\n",
              "        text-align: right;\n",
              "    }\n",
              "</style>\n",
              "<table border=\"1\" class=\"dataframe\">\n",
              "  <thead>\n",
              "    <tr style=\"text-align: right;\">\n",
              "      <th></th>\n",
              "      <th>Stock_Price</th>\n",
              "    </tr>\n",
              "  </thead>\n",
              "  <tbody>\n",
              "    <tr>\n",
              "      <th>2010-01-31</th>\n",
              "      <td>1.000000</td>\n",
              "    </tr>\n",
              "    <tr>\n",
              "      <th>2010-02-28</th>\n",
              "      <td>1.666667</td>\n",
              "    </tr>\n",
              "    <tr>\n",
              "      <th>2010-03-31</th>\n",
              "      <td>2.428571</td>\n",
              "    </tr>\n",
              "    <tr>\n",
              "      <th>2010-04-30</th>\n",
              "      <td>3.266667</td>\n",
              "    </tr>\n",
              "    <tr>\n",
              "      <th>2010-05-31</th>\n",
              "      <td>4.161290</td>\n",
              "    </tr>\n",
              "  </tbody>\n",
              "</table>\n",
              "</div>\n",
              "      <button class=\"colab-df-convert\" onclick=\"convertToInteractive('df-1b8799f0-da22-40ac-8afc-a0af8a01bdda')\"\n",
              "              title=\"Convert this dataframe to an interactive table.\"\n",
              "              style=\"display:none;\">\n",
              "\n",
              "  <svg xmlns=\"http://www.w3.org/2000/svg\" height=\"24px\"viewBox=\"0 0 24 24\"\n",
              "       width=\"24px\">\n",
              "    <path d=\"M0 0h24v24H0V0z\" fill=\"none\"/>\n",
              "    <path d=\"M18.56 5.44l.94 2.06.94-2.06 2.06-.94-2.06-.94-.94-2.06-.94 2.06-2.06.94zm-11 1L8.5 8.5l.94-2.06 2.06-.94-2.06-.94L8.5 2.5l-.94 2.06-2.06.94zm10 10l.94 2.06.94-2.06 2.06-.94-2.06-.94-.94-2.06-.94 2.06-2.06.94z\"/><path d=\"M17.41 7.96l-1.37-1.37c-.4-.4-.92-.59-1.43-.59-.52 0-1.04.2-1.43.59L10.3 9.45l-7.72 7.72c-.78.78-.78 2.05 0 2.83L4 21.41c.39.39.9.59 1.41.59.51 0 1.02-.2 1.41-.59l7.78-7.78 2.81-2.81c.8-.78.8-2.07 0-2.86zM5.41 20L4 18.59l7.72-7.72 1.47 1.35L5.41 20z\"/>\n",
              "  </svg>\n",
              "      </button>\n",
              "\n",
              "\n",
              "\n",
              "    <div id=\"df-45c0bc99-8d3d-4030-bd8d-81bb4794079c\">\n",
              "      <button class=\"colab-df-quickchart\" onclick=\"quickchart('df-45c0bc99-8d3d-4030-bd8d-81bb4794079c')\"\n",
              "              title=\"Suggest charts.\"\n",
              "              style=\"display:none;\">\n",
              "\n",
              "<svg xmlns=\"http://www.w3.org/2000/svg\" height=\"24px\"viewBox=\"0 0 24 24\"\n",
              "     width=\"24px\">\n",
              "    <g>\n",
              "        <path d=\"M19 3H5c-1.1 0-2 .9-2 2v14c0 1.1.9 2 2 2h14c1.1 0 2-.9 2-2V5c0-1.1-.9-2-2-2zM9 17H7v-7h2v7zm4 0h-2V7h2v10zm4 0h-2v-4h2v4z\"/>\n",
              "    </g>\n",
              "</svg>\n",
              "      </button>\n",
              "    </div>\n",
              "\n",
              "<style>\n",
              "  .colab-df-quickchart {\n",
              "    background-color: #E8F0FE;\n",
              "    border: none;\n",
              "    border-radius: 50%;\n",
              "    cursor: pointer;\n",
              "    display: none;\n",
              "    fill: #1967D2;\n",
              "    height: 32px;\n",
              "    padding: 0 0 0 0;\n",
              "    width: 32px;\n",
              "  }\n",
              "\n",
              "  .colab-df-quickchart:hover {\n",
              "    background-color: #E2EBFA;\n",
              "    box-shadow: 0px 1px 2px rgba(60, 64, 67, 0.3), 0px 1px 3px 1px rgba(60, 64, 67, 0.15);\n",
              "    fill: #174EA6;\n",
              "  }\n",
              "\n",
              "  [theme=dark] .colab-df-quickchart {\n",
              "    background-color: #3B4455;\n",
              "    fill: #D2E3FC;\n",
              "  }\n",
              "\n",
              "  [theme=dark] .colab-df-quickchart:hover {\n",
              "    background-color: #434B5C;\n",
              "    box-shadow: 0px 1px 3px 1px rgba(0, 0, 0, 0.15);\n",
              "    filter: drop-shadow(0px 1px 2px rgba(0, 0, 0, 0.3));\n",
              "    fill: #FFFFFF;\n",
              "  }\n",
              "</style>\n",
              "\n",
              "    <script>\n",
              "      async function quickchart(key) {\n",
              "        const containerElement = document.querySelector('#' + key);\n",
              "        const charts = await google.colab.kernel.invokeFunction(\n",
              "            'suggestCharts', [key], {});\n",
              "      }\n",
              "    </script>\n",
              "\n",
              "\n",
              "      <script>\n",
              "\n",
              "function displayQuickchartButton(domScope) {\n",
              "  let quickchartButtonEl =\n",
              "    domScope.querySelector('#df-45c0bc99-8d3d-4030-bd8d-81bb4794079c button.colab-df-quickchart');\n",
              "  quickchartButtonEl.style.display =\n",
              "    google.colab.kernel.accessAllowed ? 'block' : 'none';\n",
              "}\n",
              "\n",
              "        displayQuickchartButton(document);\n",
              "      </script>\n",
              "      <style>\n",
              "    .colab-df-container {\n",
              "      display:flex;\n",
              "      flex-wrap:wrap;\n",
              "      gap: 12px;\n",
              "    }\n",
              "\n",
              "    .colab-df-convert {\n",
              "      background-color: #E8F0FE;\n",
              "      border: none;\n",
              "      border-radius: 50%;\n",
              "      cursor: pointer;\n",
              "      display: none;\n",
              "      fill: #1967D2;\n",
              "      height: 32px;\n",
              "      padding: 0 0 0 0;\n",
              "      width: 32px;\n",
              "    }\n",
              "\n",
              "    .colab-df-convert:hover {\n",
              "      background-color: #E2EBFA;\n",
              "      box-shadow: 0px 1px 2px rgba(60, 64, 67, 0.3), 0px 1px 3px 1px rgba(60, 64, 67, 0.15);\n",
              "      fill: #174EA6;\n",
              "    }\n",
              "\n",
              "    [theme=dark] .colab-df-convert {\n",
              "      background-color: #3B4455;\n",
              "      fill: #D2E3FC;\n",
              "    }\n",
              "\n",
              "    [theme=dark] .colab-df-convert:hover {\n",
              "      background-color: #434B5C;\n",
              "      box-shadow: 0px 1px 3px 1px rgba(0, 0, 0, 0.15);\n",
              "      filter: drop-shadow(0px 1px 2px rgba(0, 0, 0, 0.3));\n",
              "      fill: #FFFFFF;\n",
              "    }\n",
              "  </style>\n",
              "\n",
              "      <script>\n",
              "        const buttonEl =\n",
              "          document.querySelector('#df-1b8799f0-da22-40ac-8afc-a0af8a01bdda button.colab-df-convert');\n",
              "        buttonEl.style.display =\n",
              "          google.colab.kernel.accessAllowed ? 'block' : 'none';\n",
              "\n",
              "        async function convertToInteractive(key) {\n",
              "          const element = document.querySelector('#df-1b8799f0-da22-40ac-8afc-a0af8a01bdda');\n",
              "          const dataTable =\n",
              "            await google.colab.kernel.invokeFunction('convertToInteractive',\n",
              "                                                     [key], {});\n",
              "          if (!dataTable) return;\n",
              "\n",
              "          const docLinkHtml = 'Like what you see? Visit the ' +\n",
              "            '<a target=\"_blank\" href=https://colab.research.google.com/notebooks/data_table.ipynb>data table notebook</a>'\n",
              "            + ' to learn more about interactive tables.';\n",
              "          element.innerHTML = '';\n",
              "          dataTable['output_type'] = 'display_data';\n",
              "          await google.colab.output.renderOutput(dataTable, element);\n",
              "          const docLink = document.createElement('div');\n",
              "          docLink.innerHTML = docLinkHtml;\n",
              "          element.appendChild(docLink);\n",
              "        }\n",
              "      </script>\n",
              "    </div>\n",
              "  </div>\n"
            ]
          },
          "metadata": {},
          "execution_count": 132
        }
      ],
      "source": [
        "dataframe.ewm(alpha=0.5).mean()"
      ]
    },
    {
      "cell_type": "code",
      "source": [
        "import numpy as np\n",
        "import matplotlib.pyplot as plt\n",
        "\n",
        "data = {'val':[1,4,2,3,2,5,13,10,12,14,np.NaN,16,12,20,22]}\n",
        "df = pd.DataFrame(data).reset_index()\n",
        "print(df)\n",
        "df2 = df.assign(ewm=df['val'].ewm(alpha=0.3).mean()) # val열에 ewm 메서드적용 후 df에 추가\n",
        "ax = df.plot(kind='bar',x='index',y='val') # ax에 df의 bar chart 생성\n",
        "ax2= df2.plot(kind='line',x='index', y='ewm', color='red', ax=ax) # ax2에 df2의 line chart 생성후 ax에 추가\n",
        "plt.show() # 그래프 출력"
      ],
      "metadata": {
        "colab": {
          "base_uri": "https://localhost:8080/",
          "height": 743
        },
        "id": "4861CQmjQ5vJ",
        "outputId": "e662b364-91b9-4610-f8ad-c3d2c35fd558"
      },
      "execution_count": null,
      "outputs": [
        {
          "output_type": "stream",
          "name": "stdout",
          "text": [
            "    index   val\n",
            "0       0   1.0\n",
            "1       1   4.0\n",
            "2       2   2.0\n",
            "3       3   3.0\n",
            "4       4   2.0\n",
            "5       5   5.0\n",
            "6       6  13.0\n",
            "7       7  10.0\n",
            "8       8  12.0\n",
            "9       9  14.0\n",
            "10     10   NaN\n",
            "11     11  16.0\n",
            "12     12  12.0\n",
            "13     13  20.0\n",
            "14     14  22.0\n"
          ]
        },
        {
          "output_type": "display_data",
          "data": {
            "text/plain": [
              "<Figure size 640x480 with 1 Axes>"
            ],
            "image/png": "[encoded data removed]"
          },
          "metadata": {}
        }
      ]
    },
    {
      "cell_type": "markdown",
      "metadata": {
        "id": "O_HFurli1PNa"
      },
      "source": [
        "## 7.9 시계열 데이터에서 누락된 값 다루기"
      ]
    },
    {
      "cell_type": "code",
      "execution_count": null,
      "metadata": {
        "id": "wD8giCK81PNa",
        "outputId": "8b8f2ec6-5686-4ec5-ecd5-9148ab22c350",
        "colab": {
          "base_uri": "https://localhost:8080/",
          "height": 206
        }
      },
      "outputs": [
        {
          "output_type": "execute_result",
          "data": {
            "text/plain": [
              "            Sales\n",
              "2010-01-31    1.0\n",
              "2010-02-28    2.0\n",
              "2010-03-31    NaN\n",
              "2010-04-30    NaN\n",
              "2010-05-31    5.0"
            ],
            "text/html": [
              "\n",
              "\n",
              "  <div id=\"df-05b174c9-1f0c-4661-ac1c-613207457ded\">\n",
              "    <div class=\"colab-df-container\">\n",
              "      <div>\n",
              "<style scoped>\n",
              "    .dataframe tbody tr th:only-of-type {\n",
              "        vertical-align: middle;\n",
              "    }\n",
              "\n",
              "    .dataframe tbody tr th {\n",
              "        vertical-align: top;\n",
              "    }\n",
              "\n",
              "    .dataframe thead th {\n",
              "        text-align: right;\n",
              "    }\n",
              "</style>\n",
              "<table border=\"1\" class=\"dataframe\">\n",
              "  <thead>\n",
              "    <tr style=\"text-align: right;\">\n",
              "      <th></th>\n",
              "      <th>Sales</th>\n",
              "    </tr>\n",
              "  </thead>\n",
              "  <tbody>\n",
              "    <tr>\n",
              "      <th>2010-01-31</th>\n",
              "      <td>1.0</td>\n",
              "    </tr>\n",
              "    <tr>\n",
              "      <th>2010-02-28</th>\n",
              "      <td>2.0</td>\n",
              "    </tr>\n",
              "    <tr>\n",
              "      <th>2010-03-31</th>\n",
              "      <td>NaN</td>\n",
              "    </tr>\n",
              "    <tr>\n",
              "      <th>2010-04-30</th>\n",
              "      <td>NaN</td>\n",
              "    </tr>\n",
              "    <tr>\n",
              "      <th>2010-05-31</th>\n",
              "      <td>5.0</td>\n",
              "    </tr>\n",
              "  </tbody>\n",
              "</table>\n",
              "</div>\n",
              "      <button class=\"colab-df-convert\" onclick=\"convertToInteractive('df-05b174c9-1f0c-4661-ac1c-613207457ded')\"\n",
              "              title=\"Convert this dataframe to an interactive table.\"\n",
              "              style=\"display:none;\">\n",
              "\n",
              "  <svg xmlns=\"http://www.w3.org/2000/svg\" height=\"24px\"viewBox=\"0 0 24 24\"\n",
              "       width=\"24px\">\n",
              "    <path d=\"M0 0h24v24H0V0z\" fill=\"none\"/>\n",
              "    <path d=\"M18.56 5.44l.94 2.06.94-2.06 2.06-.94-2.06-.94-.94-2.06-.94 2.06-2.06.94zm-11 1L8.5 8.5l.94-2.06 2.06-.94-2.06-.94L8.5 2.5l-.94 2.06-2.06.94zm10 10l.94 2.06.94-2.06 2.06-.94-2.06-.94-.94-2.06-.94 2.06-2.06.94z\"/><path d=\"M17.41 7.96l-1.37-1.37c-.4-.4-.92-.59-1.43-.59-.52 0-1.04.2-1.43.59L10.3 9.45l-7.72 7.72c-.78.78-.78 2.05 0 2.83L4 21.41c.39.39.9.59 1.41.59.51 0 1.02-.2 1.41-.59l7.78-7.78 2.81-2.81c.8-.78.8-2.07 0-2.86zM5.41 20L4 18.59l7.72-7.72 1.47 1.35L5.41 20z\"/>\n",
              "  </svg>\n",
              "      </button>\n",
              "\n",
              "\n",
              "\n",
              "    <div id=\"df-fc2c1722-70c3-447e-adc2-ddf4fad9d3f1\">\n",
              "      <button class=\"colab-df-quickchart\" onclick=\"quickchart('df-fc2c1722-70c3-447e-adc2-ddf4fad9d3f1')\"\n",
              "              title=\"Suggest charts.\"\n",
              "              style=\"display:none;\">\n",
              "\n",
              "<svg xmlns=\"http://www.w3.org/2000/svg\" height=\"24px\"viewBox=\"0 0 24 24\"\n",
              "     width=\"24px\">\n",
              "    <g>\n",
              "        <path d=\"M19 3H5c-1.1 0-2 .9-2 2v14c0 1.1.9 2 2 2h14c1.1 0 2-.9 2-2V5c0-1.1-.9-2-2-2zM9 17H7v-7h2v7zm4 0h-2V7h2v10zm4 0h-2v-4h2v4z\"/>\n",
              "    </g>\n",
              "</svg>\n",
              "      </button>\n",
              "    </div>\n",
              "\n",
              "<style>\n",
              "  .colab-df-quickchart {\n",
              "    background-color: #E8F0FE;\n",
              "    border: none;\n",
              "    border-radius: 50%;\n",
              "    cursor: pointer;\n",
              "    display: none;\n",
              "    fill: #1967D2;\n",
              "    height: 32px;\n",
              "    padding: 0 0 0 0;\n",
              "    width: 32px;\n",
              "  }\n",
              "\n",
              "  .colab-df-quickchart:hover {\n",
              "    background-color: #E2EBFA;\n",
              "    box-shadow: 0px 1px 2px rgba(60, 64, 67, 0.3), 0px 1px 3px 1px rgba(60, 64, 67, 0.15);\n",
              "    fill: #174EA6;\n",
              "  }\n",
              "\n",
              "  [theme=dark] .colab-df-quickchart {\n",
              "    background-color: #3B4455;\n",
              "    fill: #D2E3FC;\n",
              "  }\n",
              "\n",
              "  [theme=dark] .colab-df-quickchart:hover {\n",
              "    background-color: #434B5C;\n",
              "    box-shadow: 0px 1px 3px 1px rgba(0, 0, 0, 0.15);\n",
              "    filter: drop-shadow(0px 1px 2px rgba(0, 0, 0, 0.3));\n",
              "    fill: #FFFFFF;\n",
              "  }\n",
              "</style>\n",
              "\n",
              "    <script>\n",
              "      async function quickchart(key) {\n",
              "        const containerElement = document.querySelector('#' + key);\n",
              "        const charts = await google.colab.kernel.invokeFunction(\n",
              "            'suggestCharts', [key], {});\n",
              "      }\n",
              "    </script>\n",
              "\n",
              "\n",
              "      <script>\n",
              "\n",
              "function displayQuickchartButton(domScope) {\n",
              "  let quickchartButtonEl =\n",
              "    domScope.querySelector('#df-fc2c1722-70c3-447e-adc2-ddf4fad9d3f1 button.colab-df-quickchart');\n",
              "  quickchartButtonEl.style.display =\n",
              "    google.colab.kernel.accessAllowed ? 'block' : 'none';\n",
              "}\n",
              "\n",
              "        displayQuickchartButton(document);\n",
              "      </script>\n",
              "      <style>\n",
              "    .colab-df-container {\n",
              "      display:flex;\n",
              "      flex-wrap:wrap;\n",
              "      gap: 12px;\n",
              "    }\n",
              "\n",
              "    .colab-df-convert {\n",
              "      background-color: #E8F0FE;\n",
              "      border: none;\n",
              "      border-radius: 50%;\n",
              "      cursor: pointer;\n",
              "      display: none;\n",
              "      fill: #1967D2;\n",
              "      height: 32px;\n",
              "      padding: 0 0 0 0;\n",
              "      width: 32px;\n",
              "    }\n",
              "\n",
              "    .colab-df-convert:hover {\n",
              "      background-color: #E2EBFA;\n",
              "      box-shadow: 0px 1px 2px rgba(60, 64, 67, 0.3), 0px 1px 3px 1px rgba(60, 64, 67, 0.15);\n",
              "      fill: #174EA6;\n",
              "    }\n",
              "\n",
              "    [theme=dark] .colab-df-convert {\n",
              "      background-color: #3B4455;\n",
              "      fill: #D2E3FC;\n",
              "    }\n",
              "\n",
              "    [theme=dark] .colab-df-convert:hover {\n",
              "      background-color: #434B5C;\n",
              "      box-shadow: 0px 1px 3px 1px rgba(0, 0, 0, 0.15);\n",
              "      filter: drop-shadow(0px 1px 2px rgba(0, 0, 0, 0.3));\n",
              "      fill: #FFFFFF;\n",
              "    }\n",
              "  </style>\n",
              "\n",
              "      <script>\n",
              "        const buttonEl =\n",
              "          document.querySelector('#df-05b174c9-1f0c-4661-ac1c-613207457ded button.colab-df-convert');\n",
              "        buttonEl.style.display =\n",
              "          google.colab.kernel.accessAllowed ? 'block' : 'none';\n",
              "\n",
              "        async function convertToInteractive(key) {\n",
              "          const element = document.querySelector('#df-05b174c9-1f0c-4661-ac1c-613207457ded');\n",
              "          const dataTable =\n",
              "            await google.colab.kernel.invokeFunction('convertToInteractive',\n",
              "                                                     [key], {});\n",
              "          if (!dataTable) return;\n",
              "\n",
              "          const docLinkHtml = 'Like what you see? Visit the ' +\n",
              "            '<a target=\"_blank\" href=https://colab.research.google.com/notebooks/data_table.ipynb>data table notebook</a>'\n",
              "            + ' to learn more about interactive tables.';\n",
              "          element.innerHTML = '';\n",
              "          dataTable['output_type'] = 'display_data';\n",
              "          await google.colab.output.renderOutput(dataTable, element);\n",
              "          const docLink = document.createElement('div');\n",
              "          docLink.innerHTML = docLinkHtml;\n",
              "          element.appendChild(docLink);\n",
              "        }\n",
              "      </script>\n",
              "    </div>\n",
              "  </div>\n"
            ]
          },
          "metadata": {},
          "execution_count": 141
        }
      ],
      "source": [
        "# 라이브러리를 임포트합니다.\n",
        "import pandas as pd\n",
        "import numpy as np\n",
        "\n",
        "# 날짜를 만듭니다.\n",
        "time_index = pd.date_range(\"01/01/2010\", periods=5, freq=\"M\")\n",
        "\n",
        "# 데이터프레임을 만들고 인덱스를 지정합니다.\n",
        "dataframe = pd.DataFrame(index=time_index)\n",
        "\n",
        "# 누락된 값이 있는 특성을 만듭니다.\n",
        "dataframe[\"Sales\"] = [1.0,2.0,np.nan,np.nan,5.0]\n",
        "dataframe"
      ]
    },
    {
      "cell_type": "code",
      "source": [
        "# 누락된 값을 보간합니다.\n",
        "dataframe.interpolate()"
      ],
      "metadata": {
        "colab": {
          "base_uri": "https://localhost:8080/",
          "height": 206
        },
        "id": "KqZHM-mxUA3i",
        "outputId": "e2331d14-4601-4115-b529-89785ad405ae"
      },
      "execution_count": null,
      "outputs": [
        {
          "output_type": "execute_result",
          "data": {
            "text/plain": [
              "            Sales\n",
              "2010-01-31    1.0\n",
              "2010-02-28    2.0\n",
              "2010-03-31    3.0\n",
              "2010-04-30    4.0\n",
              "2010-05-31    5.0"
            ],
            "text/html": [
              "\n",
              "\n",
              "  <div id=\"df-36fbc3f8-2c75-4ca7-913a-767f9afb07f8\">\n",
              "    <div class=\"colab-df-container\">\n",
              "      <div>\n",
              "<style scoped>\n",
              "    .dataframe tbody tr th:only-of-type {\n",
              "        vertical-align: middle;\n",
              "    }\n",
              "\n",
              "    .dataframe tbody tr th {\n",
              "        vertical-align: top;\n",
              "    }\n",
              "\n",
              "    .dataframe thead th {\n",
              "        text-align: right;\n",
              "    }\n",
              "</style>\n",
              "<table border=\"1\" class=\"dataframe\">\n",
              "  <thead>\n",
              "    <tr style=\"text-align: right;\">\n",
              "      <th></th>\n",
              "      <th>Sales</th>\n",
              "    </tr>\n",
              "  </thead>\n",
              "  <tbody>\n",
              "    <tr>\n",
              "      <th>2010-01-31</th>\n",
              "      <td>1.0</td>\n",
              "    </tr>\n",
              "    <tr>\n",
              "      <th>2010-02-28</th>\n",
              "      <td>2.0</td>\n",
              "    </tr>\n",
              "    <tr>\n",
              "      <th>2010-03-31</th>\n",
              "      <td>3.0</td>\n",
              "    </tr>\n",
              "    <tr>\n",
              "      <th>2010-04-30</th>\n",
              "      <td>4.0</td>\n",
              "    </tr>\n",
              "    <tr>\n",
              "      <th>2010-05-31</th>\n",
              "      <td>5.0</td>\n",
              "    </tr>\n",
              "  </tbody>\n",
              "</table>\n",
              "</div>\n",
              "      <button class=\"colab-df-convert\" onclick=\"convertToInteractive('df-36fbc3f8-2c75-4ca7-913a-767f9afb07f8')\"\n",
              "              title=\"Convert this dataframe to an interactive table.\"\n",
              "              style=\"display:none;\">\n",
              "\n",
              "  <svg xmlns=\"http://www.w3.org/2000/svg\" height=\"24px\"viewBox=\"0 0 24 24\"\n",
              "       width=\"24px\">\n",
              "    <path d=\"M0 0h24v24H0V0z\" fill=\"none\"/>\n",
              "    <path d=\"M18.56 5.44l.94 2.06.94-2.06 2.06-.94-2.06-.94-.94-2.06-.94 2.06-2.06.94zm-11 1L8.5 8.5l.94-2.06 2.06-.94-2.06-.94L8.5 2.5l-.94 2.06-2.06.94zm10 10l.94 2.06.94-2.06 2.06-.94-2.06-.94-.94-2.06-.94 2.06-2.06.94z\"/><path d=\"M17.41 7.96l-1.37-1.37c-.4-.4-.92-.59-1.43-.59-.52 0-1.04.2-1.43.59L10.3 9.45l-7.72 7.72c-.78.78-.78 2.05 0 2.83L4 21.41c.39.39.9.59 1.41.59.51 0 1.02-.2 1.41-.59l7.78-7.78 2.81-2.81c.8-.78.8-2.07 0-2.86zM5.41 20L4 18.59l7.72-7.72 1.47 1.35L5.41 20z\"/>\n",
              "  </svg>\n",
              "      </button>\n",
              "\n",
              "\n",
              "\n",
              "    <div id=\"df-2a2e9ff4-3cf7-4da3-b380-5ce433a6686f\">\n",
              "      <button class=\"colab-df-quickchart\" onclick=\"quickchart('df-2a2e9ff4-3cf7-4da3-b380-5ce433a6686f')\"\n",
              "              title=\"Suggest charts.\"\n",
              "              style=\"display:none;\">\n",
              "\n",
              "<svg xmlns=\"http://www.w3.org/2000/svg\" height=\"24px\"viewBox=\"0 0 24 24\"\n",
              "     width=\"24px\">\n",
              "    <g>\n",
              "        <path d=\"M19 3H5c-1.1 0-2 .9-2 2v14c0 1.1.9 2 2 2h14c1.1 0 2-.9 2-2V5c0-1.1-.9-2-2-2zM9 17H7v-7h2v7zm4 0h-2V7h2v10zm4 0h-2v-4h2v4z\"/>\n",
              "    </g>\n",
              "</svg>\n",
              "      </button>\n",
              "    </div>\n",
              "\n",
              "<style>\n",
              "  .colab-df-quickchart {\n",
              "    background-color: #E8F0FE;\n",
              "    border: none;\n",
              "    border-radius: 50%;\n",
              "    cursor: pointer;\n",
              "    display: none;\n",
              "    fill: #1967D2;\n",
              "    height: 32px;\n",
              "    padding: 0 0 0 0;\n",
              "    width: 32px;\n",
              "  }\n",
              "\n",
              "  .colab-df-quickchart:hover {\n",
              "    background-color: #E2EBFA;\n",
              "    box-shadow: 0px 1px 2px rgba(60, 64, 67, 0.3), 0px 1px 3px 1px rgba(60, 64, 67, 0.15);\n",
              "    fill: #174EA6;\n",
              "  }\n",
              "\n",
              "  [theme=dark] .colab-df-quickchart {\n",
              "    background-color: #3B4455;\n",
              "    fill: #D2E3FC;\n",
              "  }\n",
              "\n",
              "  [theme=dark] .colab-df-quickchart:hover {\n",
              "    background-color: #434B5C;\n",
              "    box-shadow: 0px 1px 3px 1px rgba(0, 0, 0, 0.15);\n",
              "    filter: drop-shadow(0px 1px 2px rgba(0, 0, 0, 0.3));\n",
              "    fill: #FFFFFF;\n",
              "  }\n",
              "</style>\n",
              "\n",
              "    <script>\n",
              "      async function quickchart(key) {\n",
              "        const containerElement = document.querySelector('#' + key);\n",
              "        const charts = await google.colab.kernel.invokeFunction(\n",
              "            'suggestCharts', [key], {});\n",
              "      }\n",
              "    </script>\n",
              "\n",
              "\n",
              "      <script>\n",
              "\n",
              "function displayQuickchartButton(domScope) {\n",
              "  let quickchartButtonEl =\n",
              "    domScope.querySelector('#df-2a2e9ff4-3cf7-4da3-b380-5ce433a6686f button.colab-df-quickchart');\n",
              "  quickchartButtonEl.style.display =\n",
              "    google.colab.kernel.accessAllowed ? 'block' : 'none';\n",
              "}\n",
              "\n",
              "        displayQuickchartButton(document);\n",
              "      </script>\n",
              "      <style>\n",
              "    .colab-df-container {\n",
              "      display:flex;\n",
              "      flex-wrap:wrap;\n",
              "      gap: 12px;\n",
              "    }\n",
              "\n",
              "    .colab-df-convert {\n",
              "      background-color: #E8F0FE;\n",
              "      border: none;\n",
              "      border-radius: 50%;\n",
              "      cursor: pointer;\n",
              "      display: none;\n",
              "      fill: #1967D2;\n",
              "      height: 32px;\n",
              "      padding: 0 0 0 0;\n",
              "      width: 32px;\n",
              "    }\n",
              "\n",
              "    .colab-df-convert:hover {\n",
              "      background-color: #E2EBFA;\n",
              "      box-shadow: 0px 1px 2px rgba(60, 64, 67, 0.3), 0px 1px 3px 1px rgba(60, 64, 67, 0.15);\n",
              "      fill: #174EA6;\n",
              "    }\n",
              "\n",
              "    [theme=dark] .colab-df-convert {\n",
              "      background-color: #3B4455;\n",
              "      fill: #D2E3FC;\n",
              "    }\n",
              "\n",
              "    [theme=dark] .colab-df-convert:hover {\n",
              "      background-color: #434B5C;\n",
              "      box-shadow: 0px 1px 3px 1px rgba(0, 0, 0, 0.15);\n",
              "      filter: drop-shadow(0px 1px 2px rgba(0, 0, 0, 0.3));\n",
              "      fill: #FFFFFF;\n",
              "    }\n",
              "  </style>\n",
              "\n",
              "      <script>\n",
              "        const buttonEl =\n",
              "          document.querySelector('#df-36fbc3f8-2c75-4ca7-913a-767f9afb07f8 button.colab-df-convert');\n",
              "        buttonEl.style.display =\n",
              "          google.colab.kernel.accessAllowed ? 'block' : 'none';\n",
              "\n",
              "        async function convertToInteractive(key) {\n",
              "          const element = document.querySelector('#df-36fbc3f8-2c75-4ca7-913a-767f9afb07f8');\n",
              "          const dataTable =\n",
              "            await google.colab.kernel.invokeFunction('convertToInteractive',\n",
              "                                                     [key], {});\n",
              "          if (!dataTable) return;\n",
              "\n",
              "          const docLinkHtml = 'Like what you see? Visit the ' +\n",
              "            '<a target=\"_blank\" href=https://colab.research.google.com/notebooks/data_table.ipynb>data table notebook</a>'\n",
              "            + ' to learn more about interactive tables.';\n",
              "          element.innerHTML = '';\n",
              "          dataTable['output_type'] = 'display_data';\n",
              "          await google.colab.output.renderOutput(dataTable, element);\n",
              "          const docLink = document.createElement('div');\n",
              "          docLink.innerHTML = docLinkHtml;\n",
              "          element.appendChild(docLink);\n",
              "        }\n",
              "      </script>\n",
              "    </div>\n",
              "  </div>\n"
            ]
          },
          "metadata": {},
          "execution_count": 142
        }
      ]
    },
    {
      "cell_type": "code",
      "execution_count": null,
      "metadata": {
        "id": "ExY8X38W1PNa",
        "outputId": "776aa212-9879-4d88-df40-a5991261ad8d",
        "colab": {
          "base_uri": "https://localhost:8080/",
          "height": 206
        }
      },
      "outputs": [
        {
          "output_type": "execute_result",
          "data": {
            "text/plain": [
              "            Sales\n",
              "2010-01-31    1.0\n",
              "2010-02-28    2.0\n",
              "2010-03-31    2.0\n",
              "2010-04-30    2.0\n",
              "2010-05-31    5.0"
            ],
            "text/html": [
              "\n",
              "\n",
              "  <div id=\"df-422eb916-634e-4605-8206-962ce4c2e51b\">\n",
              "    <div class=\"colab-df-container\">\n",
              "      <div>\n",
              "<style scoped>\n",
              "    .dataframe tbody tr th:only-of-type {\n",
              "        vertical-align: middle;\n",
              "    }\n",
              "\n",
              "    .dataframe tbody tr th {\n",
              "        vertical-align: top;\n",
              "    }\n",
              "\n",
              "    .dataframe thead th {\n",
              "        text-align: right;\n",
              "    }\n",
              "</style>\n",
              "<table border=\"1\" class=\"dataframe\">\n",
              "  <thead>\n",
              "    <tr style=\"text-align: right;\">\n",
              "      <th></th>\n",
              "      <th>Sales</th>\n",
              "    </tr>\n",
              "  </thead>\n",
              "  <tbody>\n",
              "    <tr>\n",
              "      <th>2010-01-31</th>\n",
              "      <td>1.0</td>\n",
              "    </tr>\n",
              "    <tr>\n",
              "      <th>2010-02-28</th>\n",
              "      <td>2.0</td>\n",
              "    </tr>\n",
              "    <tr>\n",
              "      <th>2010-03-31</th>\n",
              "      <td>2.0</td>\n",
              "    </tr>\n",
              "    <tr>\n",
              "      <th>2010-04-30</th>\n",
              "      <td>2.0</td>\n",
              "    </tr>\n",
              "    <tr>\n",
              "      <th>2010-05-31</th>\n",
              "      <td>5.0</td>\n",
              "    </tr>\n",
              "  </tbody>\n",
              "</table>\n",
              "</div>\n",
              "      <button class=\"colab-df-convert\" onclick=\"convertToInteractive('df-422eb916-634e-4605-8206-962ce4c2e51b')\"\n",
              "              title=\"Convert this dataframe to an interactive table.\"\n",
              "              style=\"display:none;\">\n",
              "\n",
              "  <svg xmlns=\"http://www.w3.org/2000/svg\" height=\"24px\"viewBox=\"0 0 24 24\"\n",
              "       width=\"24px\">\n",
              "    <path d=\"M0 0h24v24H0V0z\" fill=\"none\"/>\n",
              "    <path d=\"M18.56 5.44l.94 2.06.94-2.06 2.06-.94-2.06-.94-.94-2.06-.94 2.06-2.06.94zm-11 1L8.5 8.5l.94-2.06 2.06-.94-2.06-.94L8.5 2.5l-.94 2.06-2.06.94zm10 10l.94 2.06.94-2.06 2.06-.94-2.06-.94-.94-2.06-.94 2.06-2.06.94z\"/><path d=\"M17.41 7.96l-1.37-1.37c-.4-.4-.92-.59-1.43-.59-.52 0-1.04.2-1.43.59L10.3 9.45l-7.72 7.72c-.78.78-.78 2.05 0 2.83L4 21.41c.39.39.9.59 1.41.59.51 0 1.02-.2 1.41-.59l7.78-7.78 2.81-2.81c.8-.78.8-2.07 0-2.86zM5.41 20L4 18.59l7.72-7.72 1.47 1.35L5.41 20z\"/>\n",
              "  </svg>\n",
              "      </button>\n",
              "\n",
              "\n",
              "\n",
              "    <div id=\"df-e160678b-fef1-48f2-a814-64bde42354ee\">\n",
              "      <button class=\"colab-df-quickchart\" onclick=\"quickchart('df-e160678b-fef1-48f2-a814-64bde42354ee')\"\n",
              "              title=\"Suggest charts.\"\n",
              "              style=\"display:none;\">\n",
              "\n",
              "<svg xmlns=\"http://www.w3.org/2000/svg\" height=\"24px\"viewBox=\"0 0 24 24\"\n",
              "     width=\"24px\">\n",
              "    <g>\n",
              "        <path d=\"M19 3H5c-1.1 0-2 .9-2 2v14c0 1.1.9 2 2 2h14c1.1 0 2-.9 2-2V5c0-1.1-.9-2-2-2zM9 17H7v-7h2v7zm4 0h-2V7h2v10zm4 0h-2v-4h2v4z\"/>\n",
              "    </g>\n",
              "</svg>\n",
              "      </button>\n",
              "    </div>\n",
              "\n",
              "<style>\n",
              "  .colab-df-quickchart {\n",
              "    background-color: #E8F0FE;\n",
              "    border: none;\n",
              "    border-radius: 50%;\n",
              "    cursor: pointer;\n",
              "    display: none;\n",
              "    fill: #1967D2;\n",
              "    height: 32px;\n",
              "    padding: 0 0 0 0;\n",
              "    width: 32px;\n",
              "  }\n",
              "\n",
              "  .colab-df-quickchart:hover {\n",
              "    background-color: #E2EBFA;\n",
              "    box-shadow: 0px 1px 2px rgba(60, 64, 67, 0.3), 0px 1px 3px 1px rgba(60, 64, 67, 0.15);\n",
              "    fill: #174EA6;\n",
              "  }\n",
              "\n",
              "  [theme=dark] .colab-df-quickchart {\n",
              "    background-color: #3B4455;\n",
              "    fill: #D2E3FC;\n",
              "  }\n",
              "\n",
              "  [theme=dark] .colab-df-quickchart:hover {\n",
              "    background-color: #434B5C;\n",
              "    box-shadow: 0px 1px 3px 1px rgba(0, 0, 0, 0.15);\n",
              "    filter: drop-shadow(0px 1px 2px rgba(0, 0, 0, 0.3));\n",
              "    fill: #FFFFFF;\n",
              "  }\n",
              "</style>\n",
              "\n",
              "    <script>\n",
              "      async function quickchart(key) {\n",
              "        const containerElement = document.querySelector('#' + key);\n",
              "        const charts = await google.colab.kernel.invokeFunction(\n",
              "            'suggestCharts', [key], {});\n",
              "      }\n",
              "    </script>\n",
              "\n",
              "\n",
              "      <script>\n",
              "\n",
              "function displayQuickchartButton(domScope) {\n",
              "  let quickchartButtonEl =\n",
              "    domScope.querySelector('#df-e160678b-fef1-48f2-a814-64bde42354ee button.colab-df-quickchart');\n",
              "  quickchartButtonEl.style.display =\n",
              "    google.colab.kernel.accessAllowed ? 'block' : 'none';\n",
              "}\n",
              "\n",
              "        displayQuickchartButton(document);\n",
              "      </script>\n",
              "      <style>\n",
              "    .colab-df-container {\n",
              "      display:flex;\n",
              "      flex-wrap:wrap;\n",
              "      gap: 12px;\n",
              "    }\n",
              "\n",
              "    .colab-df-convert {\n",
              "      background-color: #E8F0FE;\n",
              "      border: none;\n",
              "      border-radius: 50%;\n",
              "      cursor: pointer;\n",
              "      display: none;\n",
              "      fill: #1967D2;\n",
              "      height: 32px;\n",
              "      padding: 0 0 0 0;\n",
              "      width: 32px;\n",
              "    }\n",
              "\n",
              "    .colab-df-convert:hover {\n",
              "      background-color: #E2EBFA;\n",
              "      box-shadow: 0px 1px 2px rgba(60, 64, 67, 0.3), 0px 1px 3px 1px rgba(60, 64, 67, 0.15);\n",
              "      fill: #174EA6;\n",
              "    }\n",
              "\n",
              "    [theme=dark] .colab-df-convert {\n",
              "      background-color: #3B4455;\n",
              "      fill: #D2E3FC;\n",
              "    }\n",
              "\n",
              "    [theme=dark] .colab-df-convert:hover {\n",
              "      background-color: #434B5C;\n",
              "      box-shadow: 0px 1px 3px 1px rgba(0, 0, 0, 0.15);\n",
              "      filter: drop-shadow(0px 1px 2px rgba(0, 0, 0, 0.3));\n",
              "      fill: #FFFFFF;\n",
              "    }\n",
              "  </style>\n",
              "\n",
              "      <script>\n",
              "        const buttonEl =\n",
              "          document.querySelector('#df-422eb916-634e-4605-8206-962ce4c2e51b button.colab-df-convert');\n",
              "        buttonEl.style.display =\n",
              "          google.colab.kernel.accessAllowed ? 'block' : 'none';\n",
              "\n",
              "        async function convertToInteractive(key) {\n",
              "          const element = document.querySelector('#df-422eb916-634e-4605-8206-962ce4c2e51b');\n",
              "          const dataTable =\n",
              "            await google.colab.kernel.invokeFunction('convertToInteractive',\n",
              "                                                     [key], {});\n",
              "          if (!dataTable) return;\n",
              "\n",
              "          const docLinkHtml = 'Like what you see? Visit the ' +\n",
              "            '<a target=\"_blank\" href=https://colab.research.google.com/notebooks/data_table.ipynb>data table notebook</a>'\n",
              "            + ' to learn more about interactive tables.';\n",
              "          element.innerHTML = '';\n",
              "          dataTable['output_type'] = 'display_data';\n",
              "          await google.colab.output.renderOutput(dataTable, element);\n",
              "          const docLink = document.createElement('div');\n",
              "          docLink.innerHTML = docLinkHtml;\n",
              "          element.appendChild(docLink);\n",
              "        }\n",
              "      </script>\n",
              "    </div>\n",
              "  </div>\n"
            ]
          },
          "metadata": {},
          "execution_count": 143
        }
      ],
      "source": [
        "# 앞쪽으로 채우기(Forward-fill)\n",
        "dataframe.ffill()"
      ]
    },
    {
      "cell_type": "code",
      "execution_count": null,
      "metadata": {
        "id": "EDlvXV4B1PNb",
        "outputId": "b043ec80-b749-4e07-809b-7ab62f1b25fb",
        "colab": {
          "base_uri": "https://localhost:8080/",
          "height": 206
        }
      },
      "outputs": [
        {
          "output_type": "execute_result",
          "data": {
            "text/plain": [
              "            Sales\n",
              "2010-01-31    1.0\n",
              "2010-02-28    2.0\n",
              "2010-03-31    5.0\n",
              "2010-04-30    5.0\n",
              "2010-05-31    5.0"
            ],
            "text/html": [
              "\n",
              "\n",
              "  <div id=\"df-d0abdb48-42d7-419b-97fd-7d708267aed3\">\n",
              "    <div class=\"colab-df-container\">\n",
              "      <div>\n",
              "<style scoped>\n",
              "    .dataframe tbody tr th:only-of-type {\n",
              "        vertical-align: middle;\n",
              "    }\n",
              "\n",
              "    .dataframe tbody tr th {\n",
              "        vertical-align: top;\n",
              "    }\n",
              "\n",
              "    .dataframe thead th {\n",
              "        text-align: right;\n",
              "    }\n",
              "</style>\n",
              "<table border=\"1\" class=\"dataframe\">\n",
              "  <thead>\n",
              "    <tr style=\"text-align: right;\">\n",
              "      <th></th>\n",
              "      <th>Sales</th>\n",
              "    </tr>\n",
              "  </thead>\n",
              "  <tbody>\n",
              "    <tr>\n",
              "      <th>2010-01-31</th>\n",
              "      <td>1.0</td>\n",
              "    </tr>\n",
              "    <tr>\n",
              "      <th>2010-02-28</th>\n",
              "      <td>2.0</td>\n",
              "    </tr>\n",
              "    <tr>\n",
              "      <th>2010-03-31</th>\n",
              "      <td>5.0</td>\n",
              "    </tr>\n",
              "    <tr>\n",
              "      <th>2010-04-30</th>\n",
              "      <td>5.0</td>\n",
              "    </tr>\n",
              "    <tr>\n",
              "      <th>2010-05-31</th>\n",
              "      <td>5.0</td>\n",
              "    </tr>\n",
              "  </tbody>\n",
              "</table>\n",
              "</div>\n",
              "      <button class=\"colab-df-convert\" onclick=\"convertToInteractive('df-d0abdb48-42d7-419b-97fd-7d708267aed3')\"\n",
              "              title=\"Convert this dataframe to an interactive table.\"\n",
              "              style=\"display:none;\">\n",
              "\n",
              "  <svg xmlns=\"http://www.w3.org/2000/svg\" height=\"24px\"viewBox=\"0 0 24 24\"\n",
              "       width=\"24px\">\n",
              "    <path d=\"M0 0h24v24H0V0z\" fill=\"none\"/>\n",
              "    <path d=\"M18.56 5.44l.94 2.06.94-2.06 2.06-.94-2.06-.94-.94-2.06-.94 2.06-2.06.94zm-11 1L8.5 8.5l.94-2.06 2.06-.94-2.06-.94L8.5 2.5l-.94 2.06-2.06.94zm10 10l.94 2.06.94-2.06 2.06-.94-2.06-.94-.94-2.06-.94 2.06-2.06.94z\"/><path d=\"M17.41 7.96l-1.37-1.37c-.4-.4-.92-.59-1.43-.59-.52 0-1.04.2-1.43.59L10.3 9.45l-7.72 7.72c-.78.78-.78 2.05 0 2.83L4 21.41c.39.39.9.59 1.41.59.51 0 1.02-.2 1.41-.59l7.78-7.78 2.81-2.81c.8-.78.8-2.07 0-2.86zM5.41 20L4 18.59l7.72-7.72 1.47 1.35L5.41 20z\"/>\n",
              "  </svg>\n",
              "      </button>\n",
              "\n",
              "\n",
              "\n",
              "    <div id=\"df-c0146e11-170d-4fee-b3f1-a324c8dda1db\">\n",
              "      <button class=\"colab-df-quickchart\" onclick=\"quickchart('df-c0146e11-170d-4fee-b3f1-a324c8dda1db')\"\n",
              "              title=\"Suggest charts.\"\n",
              "              style=\"display:none;\">\n",
              "\n",
              "<svg xmlns=\"http://www.w3.org/2000/svg\" height=\"24px\"viewBox=\"0 0 24 24\"\n",
              "     width=\"24px\">\n",
              "    <g>\n",
              "        <path d=\"M19 3H5c-1.1 0-2 .9-2 2v14c0 1.1.9 2 2 2h14c1.1 0 2-.9 2-2V5c0-1.1-.9-2-2-2zM9 17H7v-7h2v7zm4 0h-2V7h2v10zm4 0h-2v-4h2v4z\"/>\n",
              "    </g>\n",
              "</svg>\n",
              "      </button>\n",
              "    </div>\n",
              "\n",
              "<style>\n",
              "  .colab-df-quickchart {\n",
              "    background-color: #E8F0FE;\n",
              "    border: none;\n",
              "    border-radius: 50%;\n",
              "    cursor: pointer;\n",
              "    display: none;\n",
              "    fill: #1967D2;\n",
              "    height: 32px;\n",
              "    padding: 0 0 0 0;\n",
              "    width: 32px;\n",
              "  }\n",
              "\n",
              "  .colab-df-quickchart:hover {\n",
              "    background-color: #E2EBFA;\n",
              "    box-shadow: 0px 1px 2px rgba(60, 64, 67, 0.3), 0px 1px 3px 1px rgba(60, 64, 67, 0.15);\n",
              "    fill: #174EA6;\n",
              "  }\n",
              "\n",
              "  [theme=dark] .colab-df-quickchart {\n",
              "    background-color: #3B4455;\n",
              "    fill: #D2E3FC;\n",
              "  }\n",
              "\n",
              "  [theme=dark] .colab-df-quickchart:hover {\n",
              "    background-color: #434B5C;\n",
              "    box-shadow: 0px 1px 3px 1px rgba(0, 0, 0, 0.15);\n",
              "    filter: drop-shadow(0px 1px 2px rgba(0, 0, 0, 0.3));\n",
              "    fill: #FFFFFF;\n",
              "  }\n",
              "</style>\n",
              "\n",
              "    <script>\n",
              "      async function quickchart(key) {\n",
              "        const containerElement = document.querySelector('#' + key);\n",
              "        const charts = await google.colab.kernel.invokeFunction(\n",
              "            'suggestCharts', [key], {});\n",
              "      }\n",
              "    </script>\n",
              "\n",
              "\n",
              "      <script>\n",
              "\n",
              "function displayQuickchartButton(domScope) {\n",
              "  let quickchartButtonEl =\n",
              "    domScope.querySelector('#df-c0146e11-170d-4fee-b3f1-a324c8dda1db button.colab-df-quickchart');\n",
              "  quickchartButtonEl.style.display =\n",
              "    google.colab.kernel.accessAllowed ? 'block' : 'none';\n",
              "}\n",
              "\n",
              "        displayQuickchartButton(document);\n",
              "      </script>\n",
              "      <style>\n",
              "    .colab-df-container {\n",
              "      display:flex;\n",
              "      flex-wrap:wrap;\n",
              "      gap: 12px;\n",
              "    }\n",
              "\n",
              "    .colab-df-convert {\n",
              "      background-color: #E8F0FE;\n",
              "      border: none;\n",
              "      border-radius: 50%;\n",
              "      cursor: pointer;\n",
              "      display: none;\n",
              "      fill: #1967D2;\n",
              "      height: 32px;\n",
              "      padding: 0 0 0 0;\n",
              "      width: 32px;\n",
              "    }\n",
              "\n",
              "    .colab-df-convert:hover {\n",
              "      background-color: #E2EBFA;\n",
              "      box-shadow: 0px 1px 2px rgba(60, 64, 67, 0.3), 0px 1px 3px 1px rgba(60, 64, 67, 0.15);\n",
              "      fill: #174EA6;\n",
              "    }\n",
              "\n",
              "    [theme=dark] .colab-df-convert {\n",
              "      background-color: #3B4455;\n",
              "      fill: #D2E3FC;\n",
              "    }\n",
              "\n",
              "    [theme=dark] .colab-df-convert:hover {\n",
              "      background-color: #434B5C;\n",
              "      box-shadow: 0px 1px 3px 1px rgba(0, 0, 0, 0.15);\n",
              "      filter: drop-shadow(0px 1px 2px rgba(0, 0, 0, 0.3));\n",
              "      fill: #FFFFFF;\n",
              "    }\n",
              "  </style>\n",
              "\n",
              "      <script>\n",
              "        const buttonEl =\n",
              "          document.querySelector('#df-d0abdb48-42d7-419b-97fd-7d708267aed3 button.colab-df-convert');\n",
              "        buttonEl.style.display =\n",
              "          google.colab.kernel.accessAllowed ? 'block' : 'none';\n",
              "\n",
              "        async function convertToInteractive(key) {\n",
              "          const element = document.querySelector('#df-d0abdb48-42d7-419b-97fd-7d708267aed3');\n",
              "          const dataTable =\n",
              "            await google.colab.kernel.invokeFunction('convertToInteractive',\n",
              "                                                     [key], {});\n",
              "          if (!dataTable) return;\n",
              "\n",
              "          const docLinkHtml = 'Like what you see? Visit the ' +\n",
              "            '<a target=\"_blank\" href=https://colab.research.google.com/notebooks/data_table.ipynb>data table notebook</a>'\n",
              "            + ' to learn more about interactive tables.';\n",
              "          element.innerHTML = '';\n",
              "          dataTable['output_type'] = 'display_data';\n",
              "          await google.colab.output.renderOutput(dataTable, element);\n",
              "          const docLink = document.createElement('div');\n",
              "          docLink.innerHTML = docLinkHtml;\n",
              "          element.appendChild(docLink);\n",
              "        }\n",
              "      </script>\n",
              "    </div>\n",
              "  </div>\n"
            ]
          },
          "metadata": {},
          "execution_count": 144
        }
      ],
      "source": [
        "# 뒤쪽으로 채우기(Back-fill)\n",
        "dataframe.bfill()"
      ]
    },
    {
      "cell_type": "markdown",
      "source": [
        "#### interpolate()는 default로 interpolate(method='linear')로서 선형으로 비례하여 결측값을 보간\n",
        "#### pandas.DataFrame.interpolate의 매개변수 설정에 따른 보간 방법 선택\n",
        "##### 참고 : https://teddylee777.github.io/pandas/pandas-interpolation/ , https://pandas.pydata.org/docs/reference/api/pandas.DataFrame.interpolate.html"
      ],
      "metadata": {
        "id": "Rt7U-1PJUQmx"
      }
    },
    {
      "cell_type": "code",
      "execution_count": null,
      "metadata": {
        "id": "o-v1hMkl1PNb",
        "outputId": "ed251cff-8d91-4a37-d7ec-d3479f435471"
      },
      "outputs": [
        {
          "data": {
            "text/html": [
              "<div>\n",
              "<style scoped>\n",
              "    .dataframe tbody tr th:only-of-type {\n",
              "        vertical-align: middle;\n",
              "    }\n",
              "\n",
              "    .dataframe tbody tr th {\n",
              "        vertical-align: top;\n",
              "    }\n",
              "\n",
              "    .dataframe thead th {\n",
              "        text-align: right;\n",
              "    }\n",
              "</style>\n",
              "<table border=\"1\" class=\"dataframe\">\n",
              "  <thead>\n",
              "    <tr style=\"text-align: right;\">\n",
              "      <th></th>\n",
              "      <th>Sales</th>\n",
              "    </tr>\n",
              "  </thead>\n",
              "  <tbody>\n",
              "    <tr>\n",
              "      <th>2010-01-31</th>\n",
              "      <td>1.000000</td>\n",
              "    </tr>\n",
              "    <tr>\n",
              "      <th>2010-02-28</th>\n",
              "      <td>2.000000</td>\n",
              "    </tr>\n",
              "    <tr>\n",
              "      <th>2010-03-31</th>\n",
              "      <td>3.059808</td>\n",
              "    </tr>\n",
              "    <tr>\n",
              "      <th>2010-04-30</th>\n",
              "      <td>4.038069</td>\n",
              "    </tr>\n",
              "    <tr>\n",
              "      <th>2010-05-31</th>\n",
              "      <td>5.000000</td>\n",
              "    </tr>\n",
              "  </tbody>\n",
              "</table>\n",
              "</div>"
            ],
            "text/plain": [
              "               Sales\n",
              "2010-01-31  1.000000\n",
              "2010-02-28  2.000000\n",
              "2010-03-31  3.059808\n",
              "2010-04-30  4.038069\n",
              "2010-05-31  5.000000"
            ]
          },
          "execution_count": 24,
          "metadata": {},
          "output_type": "execute_result"
        }
      ],
      "source": [
        "# 두 포인트 사이가 2차 비선형일 때 누락된 값을 보간하기\n",
        "dataframe.interpolate(method=\"quadratic\")"
      ]
    },
    {
      "cell_type": "code",
      "execution_count": null,
      "metadata": {
        "id": "feGg7dV41PNb",
        "outputId": "074f6609-4adb-4932-944f-5968900ca0a8",
        "colab": {
          "base_uri": "https://localhost:8080/",
          "height": 206
        }
      },
      "outputs": [
        {
          "output_type": "execute_result",
          "data": {
            "text/plain": [
              "            Sales\n",
              "2010-01-31    1.0\n",
              "2010-02-28    2.0\n",
              "2010-03-31    3.0\n",
              "2010-04-30    NaN\n",
              "2010-05-31    5.0"
            ],
            "text/html": [
              "\n",
              "\n",
              "  <div id=\"df-7d5f72ba-e337-4c50-b043-45df2376e9b6\">\n",
              "    <div class=\"colab-df-container\">\n",
              "      <div>\n",
              "<style scoped>\n",
              "    .dataframe tbody tr th:only-of-type {\n",
              "        vertical-align: middle;\n",
              "    }\n",
              "\n",
              "    .dataframe tbody tr th {\n",
              "        vertical-align: top;\n",
              "    }\n",
              "\n",
              "    .dataframe thead th {\n",
              "        text-align: right;\n",
              "    }\n",
              "</style>\n",
              "<table border=\"1\" class=\"dataframe\">\n",
              "  <thead>\n",
              "    <tr style=\"text-align: right;\">\n",
              "      <th></th>\n",
              "      <th>Sales</th>\n",
              "    </tr>\n",
              "  </thead>\n",
              "  <tbody>\n",
              "    <tr>\n",
              "      <th>2010-01-31</th>\n",
              "      <td>1.0</td>\n",
              "    </tr>\n",
              "    <tr>\n",
              "      <th>2010-02-28</th>\n",
              "      <td>2.0</td>\n",
              "    </tr>\n",
              "    <tr>\n",
              "      <th>2010-03-31</th>\n",
              "      <td>3.0</td>\n",
              "    </tr>\n",
              "    <tr>\n",
              "      <th>2010-04-30</th>\n",
              "      <td>NaN</td>\n",
              "    </tr>\n",
              "    <tr>\n",
              "      <th>2010-05-31</th>\n",
              "      <td>5.0</td>\n",
              "    </tr>\n",
              "  </tbody>\n",
              "</table>\n",
              "</div>\n",
              "      <button class=\"colab-df-convert\" onclick=\"convertToInteractive('df-7d5f72ba-e337-4c50-b043-45df2376e9b6')\"\n",
              "              title=\"Convert this dataframe to an interactive table.\"\n",
              "              style=\"display:none;\">\n",
              "\n",
              "  <svg xmlns=\"http://www.w3.org/2000/svg\" height=\"24px\"viewBox=\"0 0 24 24\"\n",
              "       width=\"24px\">\n",
              "    <path d=\"M0 0h24v24H0V0z\" fill=\"none\"/>\n",
              "    <path d=\"M18.56 5.44l.94 2.06.94-2.06 2.06-.94-2.06-.94-.94-2.06-.94 2.06-2.06.94zm-11 1L8.5 8.5l.94-2.06 2.06-.94-2.06-.94L8.5 2.5l-.94 2.06-2.06.94zm10 10l.94 2.06.94-2.06 2.06-.94-2.06-.94-.94-2.06-.94 2.06-2.06.94z\"/><path d=\"M17.41 7.96l-1.37-1.37c-.4-.4-.92-.59-1.43-.59-.52 0-1.04.2-1.43.59L10.3 9.45l-7.72 7.72c-.78.78-.78 2.05 0 2.83L4 21.41c.39.39.9.59 1.41.59.51 0 1.02-.2 1.41-.59l7.78-7.78 2.81-2.81c.8-.78.8-2.07 0-2.86zM5.41 20L4 18.59l7.72-7.72 1.47 1.35L5.41 20z\"/>\n",
              "  </svg>\n",
              "      </button>\n",
              "\n",
              "\n",
              "\n",
              "    <div id=\"df-274352e7-61f4-4c62-8005-5f4b5c29cb0b\">\n",
              "      <button class=\"colab-df-quickchart\" onclick=\"quickchart('df-274352e7-61f4-4c62-8005-5f4b5c29cb0b')\"\n",
              "              title=\"Suggest charts.\"\n",
              "              style=\"display:none;\">\n",
              "\n",
              "<svg xmlns=\"http://www.w3.org/2000/svg\" height=\"24px\"viewBox=\"0 0 24 24\"\n",
              "     width=\"24px\">\n",
              "    <g>\n",
              "        <path d=\"M19 3H5c-1.1 0-2 .9-2 2v14c0 1.1.9 2 2 2h14c1.1 0 2-.9 2-2V5c0-1.1-.9-2-2-2zM9 17H7v-7h2v7zm4 0h-2V7h2v10zm4 0h-2v-4h2v4z\"/>\n",
              "    </g>\n",
              "</svg>\n",
              "      </button>\n",
              "    </div>\n",
              "\n",
              "<style>\n",
              "  .colab-df-quickchart {\n",
              "    background-color: #E8F0FE;\n",
              "    border: none;\n",
              "    border-radius: 50%;\n",
              "    cursor: pointer;\n",
              "    display: none;\n",
              "    fill: #1967D2;\n",
              "    height: 32px;\n",
              "    padding: 0 0 0 0;\n",
              "    width: 32px;\n",
              "  }\n",
              "\n",
              "  .colab-df-quickchart:hover {\n",
              "    background-color: #E2EBFA;\n",
              "    box-shadow: 0px 1px 2px rgba(60, 64, 67, 0.3), 0px 1px 3px 1px rgba(60, 64, 67, 0.15);\n",
              "    fill: #174EA6;\n",
              "  }\n",
              "\n",
              "  [theme=dark] .colab-df-quickchart {\n",
              "    background-color: #3B4455;\n",
              "    fill: #D2E3FC;\n",
              "  }\n",
              "\n",
              "  [theme=dark] .colab-df-quickchart:hover {\n",
              "    background-color: #434B5C;\n",
              "    box-shadow: 0px 1px 3px 1px rgba(0, 0, 0, 0.15);\n",
              "    filter: drop-shadow(0px 1px 2px rgba(0, 0, 0, 0.3));\n",
              "    fill: #FFFFFF;\n",
              "  }\n",
              "</style>\n",
              "\n",
              "    <script>\n",
              "      async function quickchart(key) {\n",
              "        const containerElement = document.querySelector('#' + key);\n",
              "        const charts = await google.colab.kernel.invokeFunction(\n",
              "            'suggestCharts', [key], {});\n",
              "      }\n",
              "    </script>\n",
              "\n",
              "\n",
              "      <script>\n",
              "\n",
              "function displayQuickchartButton(domScope) {\n",
              "  let quickchartButtonEl =\n",
              "    domScope.querySelector('#df-274352e7-61f4-4c62-8005-5f4b5c29cb0b button.colab-df-quickchart');\n",
              "  quickchartButtonEl.style.display =\n",
              "    google.colab.kernel.accessAllowed ? 'block' : 'none';\n",
              "}\n",
              "\n",
              "        displayQuickchartButton(document);\n",
              "      </script>\n",
              "      <style>\n",
              "    .colab-df-container {\n",
              "      display:flex;\n",
              "      flex-wrap:wrap;\n",
              "      gap: 12px;\n",
              "    }\n",
              "\n",
              "    .colab-df-convert {\n",
              "      background-color: #E8F0FE;\n",
              "      border: none;\n",
              "      border-radius: 50%;\n",
              "      cursor: pointer;\n",
              "      display: none;\n",
              "      fill: #1967D2;\n",
              "      height: 32px;\n",
              "      padding: 0 0 0 0;\n",
              "      width: 32px;\n",
              "    }\n",
              "\n",
              "    .colab-df-convert:hover {\n",
              "      background-color: #E2EBFA;\n",
              "      box-shadow: 0px 1px 2px rgba(60, 64, 67, 0.3), 0px 1px 3px 1px rgba(60, 64, 67, 0.15);\n",
              "      fill: #174EA6;\n",
              "    }\n",
              "\n",
              "    [theme=dark] .colab-df-convert {\n",
              "      background-color: #3B4455;\n",
              "      fill: #D2E3FC;\n",
              "    }\n",
              "\n",
              "    [theme=dark] .colab-df-convert:hover {\n",
              "      background-color: #434B5C;\n",
              "      box-shadow: 0px 1px 3px 1px rgba(0, 0, 0, 0.15);\n",
              "      filter: drop-shadow(0px 1px 2px rgba(0, 0, 0, 0.3));\n",
              "      fill: #FFFFFF;\n",
              "    }\n",
              "  </style>\n",
              "\n",
              "      <script>\n",
              "        const buttonEl =\n",
              "          document.querySelector('#df-7d5f72ba-e337-4c50-b043-45df2376e9b6 button.colab-df-convert');\n",
              "        buttonEl.style.display =\n",
              "          google.colab.kernel.accessAllowed ? 'block' : 'none';\n",
              "\n",
              "        async function convertToInteractive(key) {\n",
              "          const element = document.querySelector('#df-7d5f72ba-e337-4c50-b043-45df2376e9b6');\n",
              "          const dataTable =\n",
              "            await google.colab.kernel.invokeFunction('convertToInteractive',\n",
              "                                                     [key], {});\n",
              "          if (!dataTable) return;\n",
              "\n",
              "          const docLinkHtml = 'Like what you see? Visit the ' +\n",
              "            '<a target=\"_blank\" href=https://colab.research.google.com/notebooks/data_table.ipynb>data table notebook</a>'\n",
              "            + ' to learn more about interactive tables.';\n",
              "          element.innerHTML = '';\n",
              "          dataTable['output_type'] = 'display_data';\n",
              "          await google.colab.output.renderOutput(dataTable, element);\n",
              "          const docLink = document.createElement('div');\n",
              "          docLink.innerHTML = docLinkHtml;\n",
              "          element.appendChild(docLink);\n",
              "        }\n",
              "      </script>\n",
              "    </div>\n",
              "  </div>\n"
            ]
          },
          "metadata": {},
          "execution_count": 149
        }
      ],
      "source": [
        "# 누락된 값의 간격이 커서 전체 간격을 보간하는 것이 좋지 않을 때\n",
        "# limit : 보간 값 개수 제한\n",
        "# limit_direction : 보간 방향, 앞쪽부터? 뒷쪽부터\n",
        "dataframe.interpolate(limit=1, limit_direction=\"forward\")"
      ]
    },
    {
      "cell_type": "code",
      "source": [
        "dataframe.interpolate(limit=1, limit_direction=\"backward\")"
      ],
      "metadata": {
        "colab": {
          "base_uri": "https://localhost:8080/",
          "height": 206
        },
        "id": "sd5ETnHAX5an",
        "outputId": "8798cb44-416c-4ff5-9c89-1bf39f5bf21e"
      },
      "execution_count": null,
      "outputs": [
        {
          "output_type": "execute_result",
          "data": {
            "text/plain": [
              "            Sales\n",
              "2010-01-31    1.0\n",
              "2010-02-28    2.0\n",
              "2010-03-31    NaN\n",
              "2010-04-30    4.0\n",
              "2010-05-31    5.0"
            ],
            "text/html": [
              "\n",
              "\n",
              "  <div id=\"df-7b6f094c-8f5b-438b-9021-b6010c01628b\">\n",
              "    <div class=\"colab-df-container\">\n",
              "      <div>\n",
              "<style scoped>\n",
              "    .dataframe tbody tr th:only-of-type {\n",
              "        vertical-align: middle;\n",
              "    }\n",
              "\n",
              "    .dataframe tbody tr th {\n",
              "        vertical-align: top;\n",
              "    }\n",
              "\n",
              "    .dataframe thead th {\n",
              "        text-align: right;\n",
              "    }\n",
              "</style>\n",
              "<table border=\"1\" class=\"dataframe\">\n",
              "  <thead>\n",
              "    <tr style=\"text-align: right;\">\n",
              "      <th></th>\n",
              "      <th>Sales</th>\n",
              "    </tr>\n",
              "  </thead>\n",
              "  <tbody>\n",
              "    <tr>\n",
              "      <th>2010-01-31</th>\n",
              "      <td>1.0</td>\n",
              "    </tr>\n",
              "    <tr>\n",
              "      <th>2010-02-28</th>\n",
              "      <td>2.0</td>\n",
              "    </tr>\n",
              "    <tr>\n",
              "      <th>2010-03-31</th>\n",
              "      <td>NaN</td>\n",
              "    </tr>\n",
              "    <tr>\n",
              "      <th>2010-04-30</th>\n",
              "      <td>4.0</td>\n",
              "    </tr>\n",
              "    <tr>\n",
              "      <th>2010-05-31</th>\n",
              "      <td>5.0</td>\n",
              "    </tr>\n",
              "  </tbody>\n",
              "</table>\n",
              "</div>\n",
              "      <button class=\"colab-df-convert\" onclick=\"convertToInteractive('df-7b6f094c-8f5b-438b-9021-b6010c01628b')\"\n",
              "              title=\"Convert this dataframe to an interactive table.\"\n",
              "              style=\"display:none;\">\n",
              "\n",
              "  <svg xmlns=\"http://www.w3.org/2000/svg\" height=\"24px\"viewBox=\"0 0 24 24\"\n",
              "       width=\"24px\">\n",
              "    <path d=\"M0 0h24v24H0V0z\" fill=\"none\"/>\n",
              "    <path d=\"M18.56 5.44l.94 2.06.94-2.06 2.06-.94-2.06-.94-.94-2.06-.94 2.06-2.06.94zm-11 1L8.5 8.5l.94-2.06 2.06-.94-2.06-.94L8.5 2.5l-.94 2.06-2.06.94zm10 10l.94 2.06.94-2.06 2.06-.94-2.06-.94-.94-2.06-.94 2.06-2.06.94z\"/><path d=\"M17.41 7.96l-1.37-1.37c-.4-.4-.92-.59-1.43-.59-.52 0-1.04.2-1.43.59L10.3 9.45l-7.72 7.72c-.78.78-.78 2.05 0 2.83L4 21.41c.39.39.9.59 1.41.59.51 0 1.02-.2 1.41-.59l7.78-7.78 2.81-2.81c.8-.78.8-2.07 0-2.86zM5.41 20L4 18.59l7.72-7.72 1.47 1.35L5.41 20z\"/>\n",
              "  </svg>\n",
              "      </button>\n",
              "\n",
              "\n",
              "\n",
              "    <div id=\"df-0983decd-c342-4f65-9e89-58ce6424df23\">\n",
              "      <button class=\"colab-df-quickchart\" onclick=\"quickchart('df-0983decd-c342-4f65-9e89-58ce6424df23')\"\n",
              "              title=\"Suggest charts.\"\n",
              "              style=\"display:none;\">\n",
              "\n",
              "<svg xmlns=\"http://www.w3.org/2000/svg\" height=\"24px\"viewBox=\"0 0 24 24\"\n",
              "     width=\"24px\">\n",
              "    <g>\n",
              "        <path d=\"M19 3H5c-1.1 0-2 .9-2 2v14c0 1.1.9 2 2 2h14c1.1 0 2-.9 2-2V5c0-1.1-.9-2-2-2zM9 17H7v-7h2v7zm4 0h-2V7h2v10zm4 0h-2v-4h2v4z\"/>\n",
              "    </g>\n",
              "</svg>\n",
              "      </button>\n",
              "    </div>\n",
              "\n",
              "<style>\n",
              "  .colab-df-quickchart {\n",
              "    background-color: #E8F0FE;\n",
              "    border: none;\n",
              "    border-radius: 50%;\n",
              "    cursor: pointer;\n",
              "    display: none;\n",
              "    fill: #1967D2;\n",
              "    height: 32px;\n",
              "    padding: 0 0 0 0;\n",
              "    width: 32px;\n",
              "  }\n",
              "\n",
              "  .colab-df-quickchart:hover {\n",
              "    background-color: #E2EBFA;\n",
              "    box-shadow: 0px 1px 2px rgba(60, 64, 67, 0.3), 0px 1px 3px 1px rgba(60, 64, 67, 0.15);\n",
              "    fill: #174EA6;\n",
              "  }\n",
              "\n",
              "  [theme=dark] .colab-df-quickchart {\n",
              "    background-color: #3B4455;\n",
              "    fill: #D2E3FC;\n",
              "  }\n",
              "\n",
              "  [theme=dark] .colab-df-quickchart:hover {\n",
              "    background-color: #434B5C;\n",
              "    box-shadow: 0px 1px 3px 1px rgba(0, 0, 0, 0.15);\n",
              "    filter: drop-shadow(0px 1px 2px rgba(0, 0, 0, 0.3));\n",
              "    fill: #FFFFFF;\n",
              "  }\n",
              "</style>\n",
              "\n",
              "    <script>\n",
              "      async function quickchart(key) {\n",
              "        const containerElement = document.querySelector('#' + key);\n",
              "        const charts = await google.colab.kernel.invokeFunction(\n",
              "            'suggestCharts', [key], {});\n",
              "      }\n",
              "    </script>\n",
              "\n",
              "\n",
              "      <script>\n",
              "\n",
              "function displayQuickchartButton(domScope) {\n",
              "  let quickchartButtonEl =\n",
              "    domScope.querySelector('#df-0983decd-c342-4f65-9e89-58ce6424df23 button.colab-df-quickchart');\n",
              "  quickchartButtonEl.style.display =\n",
              "    google.colab.kernel.accessAllowed ? 'block' : 'none';\n",
              "}\n",
              "\n",
              "        displayQuickchartButton(document);\n",
              "      </script>\n",
              "      <style>\n",
              "    .colab-df-container {\n",
              "      display:flex;\n",
              "      flex-wrap:wrap;\n",
              "      gap: 12px;\n",
              "    }\n",
              "\n",
              "    .colab-df-convert {\n",
              "      background-color: #E8F0FE;\n",
              "      border: none;\n",
              "      border-radius: 50%;\n",
              "      cursor: pointer;\n",
              "      display: none;\n",
              "      fill: #1967D2;\n",
              "      height: 32px;\n",
              "      padding: 0 0 0 0;\n",
              "      width: 32px;\n",
              "    }\n",
              "\n",
              "    .colab-df-convert:hover {\n",
              "      background-color: #E2EBFA;\n",
              "      box-shadow: 0px 1px 2px rgba(60, 64, 67, 0.3), 0px 1px 3px 1px rgba(60, 64, 67, 0.15);\n",
              "      fill: #174EA6;\n",
              "    }\n",
              "\n",
              "    [theme=dark] .colab-df-convert {\n",
              "      background-color: #3B4455;\n",
              "      fill: #D2E3FC;\n",
              "    }\n",
              "\n",
              "    [theme=dark] .colab-df-convert:hover {\n",
              "      background-color: #434B5C;\n",
              "      box-shadow: 0px 1px 3px 1px rgba(0, 0, 0, 0.15);\n",
              "      filter: drop-shadow(0px 1px 2px rgba(0, 0, 0, 0.3));\n",
              "      fill: #FFFFFF;\n",
              "    }\n",
              "  </style>\n",
              "\n",
              "      <script>\n",
              "        const buttonEl =\n",
              "          document.querySelector('#df-7b6f094c-8f5b-438b-9021-b6010c01628b button.colab-df-convert');\n",
              "        buttonEl.style.display =\n",
              "          google.colab.kernel.accessAllowed ? 'block' : 'none';\n",
              "\n",
              "        async function convertToInteractive(key) {\n",
              "          const element = document.querySelector('#df-7b6f094c-8f5b-438b-9021-b6010c01628b');\n",
              "          const dataTable =\n",
              "            await google.colab.kernel.invokeFunction('convertToInteractive',\n",
              "                                                     [key], {});\n",
              "          if (!dataTable) return;\n",
              "\n",
              "          const docLinkHtml = 'Like what you see? Visit the ' +\n",
              "            '<a target=\"_blank\" href=https://colab.research.google.com/notebooks/data_table.ipynb>data table notebook</a>'\n",
              "            + ' to learn more about interactive tables.';\n",
              "          element.innerHTML = '';\n",
              "          dataTable['output_type'] = 'display_data';\n",
              "          await google.colab.output.renderOutput(dataTable, element);\n",
              "          const docLink = document.createElement('div');\n",
              "          docLink.innerHTML = docLinkHtml;\n",
              "          element.appendChild(docLink);\n",
              "        }\n",
              "      </script>\n",
              "    </div>\n",
              "  </div>\n"
            ]
          },
          "metadata": {},
          "execution_count": 148
        }
      ]
    }
  ],
  "metadata": {
    "kernelspec": {
      "display_name": "Python 3 (ipykernel)",
      "language": "python",
      "name": "python3"
    },
    "language_info": {
      "codemirror_mode": {
        "name": "ipython",
        "version": 3
      },
      "file_extension": ".py",
      "mimetype": "text/x-python",
      "name": "python",
      "nbconvert_exporter": "python",
      "pygments_lexer": "ipython3",
      "version": "3.7.3"
    },
    "colab": {
      "provenance": []
    }
  },
  "nbformat": 4,
  "nbformat_minor": 0
}
