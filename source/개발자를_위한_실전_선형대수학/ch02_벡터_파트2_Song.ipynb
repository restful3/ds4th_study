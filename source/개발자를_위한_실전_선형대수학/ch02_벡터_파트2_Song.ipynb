{
 "cells": [
  {
   "cell_type": "markdown",
   "id": "5008724f",
   "metadata": {},
   "source": [
    "# 벡터 집합\n",
    "\n",
    "- 벡터들의 모음을 집합(set) 이라고 한다\n",
    "- 벡터들의 집합은 ***S*** , ***V*** 와 같이 대문자 이탤릭체로 표시\n",
    "\n",
    "***V***$ = \\{v_1, \\dots , v_n\\}$\n",
    "\n",
    "- 빈 벡터 집합 : ***V***$ = \\{ \\}$"
   ]
  },
  {
   "cell_type": "markdown",
   "id": "ebb77a13",
   "metadata": {},
   "source": [
    "# 선형 가중 결합\n",
    "\n",
    "- 선형 가중 결합(linear weighted combination) : 여러 변수마다 가중치를 다르게 주어 정보를 혼합 하는 방법\n",
    "    - 선형 혼합(linear mixture), 가중 결합(weighted combination) 이라고도 함\n",
    "    - 가중 대신 계수 (coefficient) 라는 용어를 사용하기도\n",
    "    - 스칼라-벡터 곱셈을 한 다음 합하는 것 \n",
    "    - 벡터 집합에서 각 벡터에 스칼라 곱을 한 다음 이들을 더해 하나의 벡터를 만드는 것 \n",
    "    - 여기서 모든 벡터 $v_i$의 차원은 같다고 가정 \n",
    "    - 식 2-1 에서, 뼬셈은 $\\lambda_i$를 음수로 두는 것과 같음\n",
    "    - 벡터 부분공간과 행렬 공간을 생성하는 메커니즘, 선형 독립성의 핵심\n",
    "    - 선형 가중 결합과 내적은 선형대수 계산의 가장 중요한 구성 요소\n",
    "\n",
    "<img src='./images/e_02_01.png'>\n",
    "\n",
    "<img src='./images/e_02_02.png'>"
   ]
  },
  {
   "cell_type": "code",
   "execution_count": 2,
   "id": "d1aa1f96",
   "metadata": {},
   "outputs": [
    {
     "data": {
      "text/plain": [
       "array([ -7,  -4, -13])"
      ]
     },
     "execution_count": 2,
     "metadata": {},
     "output_type": "execute_result"
    }
   ],
   "source": [
    "import numpy as np\n",
    "\n",
    "l1, l2, l3 = 1, 2, -3\n",
    "v1 = np.array([4,5,1])\n",
    "v2 = np.array([-4, 0, -4])\n",
    "v3 = np.array([1, 3, 2])\n",
    "l1*v1 + l2*v2 + l3*v3"
   ]
  },
  {
   "cell_type": "markdown",
   "id": "bf2c8990",
   "metadata": {},
   "source": [
    "- 선형 가중 결합의 응용\n",
    "    - 통계 모델로 부터 예측된 데이터에는 최소제곱 알고리즘을 통해 계산되는 회귀변수(regressor)독립변수와 계수(스칼라)의 선형 가중 결합으로 생성\n",
    "    - 주성분 분석과 같은 차원 축소 과정에서 각 성분(인자 또는 모드)은 성분의 분산을 최대화하는 가중치(계수)와 데이터 채널의 선형 가중 결합으로 도출 \n",
    "    - 인공 신경망에는 두 가지 연산, 즉 입력신호의 선형 가중 결합과 비선형 변환이 있다. 가중치는 비용함수를 최소화 하도록 학습, 비용 함수는 일반적으로 모델 예측과 실제 목표 변수 사이의 차이"
   ]
  },
  {
   "cell_type": "markdown",
   "id": "e91e8fac",
   "metadata": {},
   "source": [
    "# 선형 독립성\n",
    "\n",
    "- 선형 종속적(linearly dependent) : 벡터 집합에서 적어도 하나의 벡터를 집합의 다른 벡터들의 선형 가중 결합으로 나타낼 수 있을 때\n",
    "- 선형 독립적(linearly independent) : 벡터 집합에 있는 벡터들의 선형 가중 결합으로 집합의 아무런 벡터도 나타낼 수 없을 때\n",
    "- 다음 두 벡터 집합은 종속인가 독립 인가?\n",
    "\n",
    "<img src='./images/e_02_02_02.png'>\n",
    "\n",
    "- ***V***는 독립, ***S***는 종속 \n",
    "- $v_1 = \\lambda v_2$ 로 표현이 안됨\n",
    "- $s_1 = 0.5*s_2$ 혹은 $s_2 = 2*s_1$\n",
    "\n",
    "<p/>\n",
    "\n",
    "- ***T*** 집합은 선형인가 독립인가?\n",
    "<img src='./images/e_02_02_03.png'>\n",
    "\n",
    "- 종속임, (처음 3개의 열의 합이, 마지막 열의 두배와 동일)\n",
    "- 눈으로 바로 확인 어려움\n",
    "- 선형 독립을 알아 내는 방법\n",
    "    - 벡터 집합으로 행렬을 만들고\n",
    "    - 행렬의 계수(rank)를 계산한 다음\n",
    "    - 행의 수와 열의 수 중에 더 작은 값과 비교 \n",
    "    - 위의 경우 rank가 4와 같으면 독립, 작으면 종속"
   ]
  },
  {
   "cell_type": "markdown",
   "id": "bedb85d5",
   "metadata": {},
   "source": [
    "## 수학에서 선형 독립성\n",
    "\n",
    "- 수학적으로 정의한 선형 독립성은 다음 식과 같다.\n",
    "\n",
    "<img src='./images/e_02_03.png'>\n",
    "\n",
    "- 식 2-3의 의미\n",
    "    - 선형 종속적 이라면, 집합의 벡터들의 선형 가중 결합으로 영벡터를 만들 수 있다\n",
    "    - 식을 참으로 만드는 $\\lambda$를 찾을 수 있다면, 벡터 집합은 선형 종속\n",
    "    - 반대로 벡터를 선형적으로 결합해서 영벡터를 생성할 수 있는 방법이 없다면 벡터는 선형 독립\n",
    "\n",
    "<p/>\n",
    "\n",
    "- 선형 종속의 재정의\n",
    "    - 식 2-3에서 좌변을 **0** 으로 두는 이유는, **전체 집합**이 종속적 도는 독립적이란 원리를 강조 하기 위함\n",
    "    - 어떤 개별 벡터도 '종속 벡터' 라는 특권을 가지지 않게 됨\n",
    "    - 독립에 관해 평등한 집합이 됨\n",
    "\n",
    "<img src='./images/e_02_03_02.png'>\n",
    "\n",
    "- 식 2-3에서 모든 $\\lambda$를 0으로 하면 등식은 성립\n",
    "- 그러나, 이와 같은 해는 의미가 없음, 따라서 $\\lambda \\neq 0$ 이란 제약 조건 추가\n",
    "- 이 제약 조건은, 다음과 같이 스칼라 중 하나로 나우는 방법으로 식에 반영 가능\n",
    "\n",
    "<img src='./images/e_02_03_03.png'>"
   ]
  },
  {
   "cell_type": "markdown",
   "id": "072df791",
   "metadata": {},
   "source": [
    "## 독립성과 영벡터\n",
    "\n",
    "- 영벡터가 포함된 모든 벡터 집합은 당연히 선형 종속적인 집합\n",
    "- 영벡터에 스칼라를 곱하면 여전히 영벡터 임으로, 선형 종속성 정의를 항상 만족\n",
    "\n",
    "<img src='./images/e_02_03_04.png'>\n",
    "\n",
    "- 따라서, $\\lambda \\neq 0$ 이며, 자명하지 않은 해(nontrivial solution)이 존재 한다면, 그 집합은 종속성 정의에 부합"
   ]
  },
  {
   "cell_type": "markdown",
   "id": "aaef7c69",
   "metadata": {},
   "source": [
    "# 부분공간과 생성\n",
    "\n",
    "- 부분공간(subspace)\n",
    "    - (유한한) 벡터 집합의 동일한 벡터들을 사용하지만 다른 가중치 숫자를 사용해서 무한히 선형 결합하는 방식으로 만든다.\n",
    "    - 가능한 모든 선형 가중 결합을 구성하는 메커니즘을 벡터 집합의 생성(span) 이라고 한다.\n",
    "\n",
    "<p/>\n",
    "\n",
    "- 다음과 같은 하나의 벡터를 가진 벡터 집합을 가정\n",
    "\n",
    "<img src='./images/e_02_03_05.png'>\n",
    "\n",
    "- 이 벡터 집합의 span은, 집합의 벡터들의 선형 결합으로 만들수 있는 무한한 벡터들\n",
    "- 하나의 벡터만 있는 집합 이라면, 단순히 그 벡터의 가능한 모든 크기의 벡터 (그림 2-1)\n",
    "\n",
    "<img src='./images/fig_02_01.png'>\n",
    "\n",
    "<p/>\n",
    "- 다음 예는 $R^3$의 두 벡터를 가진 집합\n",
    "\n",
    "<img src='./images/e_02_03_06.png'>\n",
    "\n",
    "- 벡터는 $R^3$에 존재, 3차원 그래픽으로 표현 가능\n",
    "- 하지만 span 되는 부분공간은 3차원 공간에서의 2차원 평면\n",
    "- 두 벡터의 크기를 0으로 하면, 부분공간은 원점을 통과한다/\n",
    "\n",
    "<img src='./images/fig_02_02.png'>\n",
    "\n",
    "- 다음 예는, $R^3$에 두 벡터가 존재 하지만\n",
    "\n",
    "<img src='./images/e_02_03_07.png'>\n",
    "\n",
    "- 이 벡터들의 span은 여전히 1차원\n",
    "- 한 벡터가 다른 벡터의 span에 포함되어 있기 때문 (종속 이기 때문)\n",
    "\n",
    "<img src='./images/fig_02_03.png'>\n",
    "\n",
    "- span된 부분공간의 차원과 집합의 벡터 수 간에는 어떤 관계가 있나?\n",
    "    - 벡터 집합에서 생성(span)되는 부분공간의 차원은, 선형 독립 집합을 형성하는데 필요한 최소한의 벡터 수\n",
    "    - 벡터 집합이 선형 독립이면, 해당 집합의 벡터들로 생성된 부분공간의 차원은 집합의 벡터두와 동일\n",
    "    - 반대로, 종속적이라면 해당 벡터들로 생성된 부분공간의 차원은 반드시 해당 집합의 벡터 수 보다 작다\n",
    "    - 자세한 내용은 5장 행렬 계수(rank)에서 나옴 \n",
    "    \n",
    "- 벡터 부분공간의 정의\n",
    "    - 덧셈과 스칼라 곱셈으로 닫혀 있는 부분 집합\n",
    "    - 공간의 원점을 포함 한다 (모든 가중치를 0으로 설정)\n",
    "    \n",
    "- 생성(span)과 부분공간(subspace)의 차이\n",
    "    - 생성은 동사, 부분공간은 명사\n",
    "    - 벡터 집합으로 생성(span)된 결과가 부분공간(subspace)\n",
    "    - 부분공간은 더 큰 공간의 작은 부분\n",
    "    - 생성은 부분공간을 만드는 일종의 메커니즘 "
   ]
  },
  {
   "cell_type": "markdown",
   "id": "3ed30928",
   "metadata": {},
   "source": [
    "# 기저\n",
    "\n",
    "- 기저(basis)는\n",
    "    - 행렬의 정보(예, 데이터)를 설명하는데 사용하는 자(ruler)의 집합\n",
    "    - 동일한 데이터를 다양한 자로 설명 할 수 있지만, 일부 자는 특정 문제 해결에 다른 자 보다 편하다\n",
    "<p/>\n",
    "- 데카르트 좌표계(Cartesian Coordinate System)\n",
    "    - 가장 일반적인 기저 집합\n",
    "    - XY평면\n",
    "    - 2차원과 3차원의 데카르트 그래프의 기저 집합 예시\n",
    "    \n",
    "<img src='./images/e_02_03_08.png'>\n",
    "\n",
    "- 데카르트 기저 집합의 특징\n",
    "    - 서로 직교\n",
    "    - 단위 길이의 벡터로 구성\n",
    "    - 표준 기저 집합(standard basis set) 이라고 불리는 이유\n",
    "\n",
    "<p/>\n",
    "- 다음은 $R^2$의 또 다른 기저\n",
    "\n",
    "<img src='./images/e_02_03_09.png'>\n",
    "\n",
    "- 기저 집합 $S_2$와 $T$는 모두 동일한 부분공간($R^2$ 전체)을 생성 한다 \n",
    "- 어떤 경우에 $S_2$ 보다 $T$ 를 선호 할까?\n",
    "    - 그림 2-4와 같이, $p$와 $q$를 $S_2$과 $T$ 로 각각 표현해 보면\n",
    "    - $S_2$ 에서는, $p = (3, 1)$, $q = (-6, 2)$\n",
    "    - $T$ 에서는, $p = (1, 0)$, $q = (0, 2)$\n",
    "    - 따라서, 점 $p$와 $q$는 동일하지만 기저 $T$ 가 더 간결하고 직관적 임\n",
    "\n",
    "<img src='./images/fig_02_04.png'>\n",
    "\n",
    "<p/>\n",
    "\n",
    "- 데이터 과학과 머신러닝에서의 기저의 중요성\n",
    "    - 차원 축소, 특징 추출, 주성분 분석, 독립성분 분석, 요인 분석, 특이값 분해, 성형판별분석, 이미지 근사, 데이터 압축\n",
    "    - 이런 문제들를은 어떤 부분공간에 대한 최적의 기저벡터 집합을 찾는 것이 목적 \n",
    "\n",
    "- 그림 2-5, 두 변수를 가진 데이터 집합 (각점은 데이터)\n",
    "    - 사실상 세 개의 다른 기저가 보임\n",
    "    - $x=0$, $y=0$ 에 해당하는 '표준 기저 집합'\n",
    "    - PCA(주성분 분석), ICA(독립성분 분석)의 각각의 기저\n",
    "    - 이들 기저들 중에 데이터를 기술하는 '최적'의 기저 집합은?\n",
    "    - 분석의 목표, 데이터의 특성, 분석의 제약 조건 등에 따라 특정 기저 집합이 도움이 될수도 안될 수도\n",
    "\n",
    "<img src='./images/fig_02_05.png'>"
   ]
  },
  {
   "cell_type": "markdown",
   "id": "6d3a23fd",
   "metadata": {},
   "source": [
    "## 기저 정의\n",
    "\n",
    "- 벡터 집합이 다음을 만족하면 해당 부분공간의 기저 이다.\n",
    "    - (1) 특정 부분공간을 생성\n",
    "    - (2) 독립적인 벡터 집합 \n",
    "\n",
    "- 그림 2-6은 1차원 부분공간 밖의 점$r$을 보여 줌\n",
    "- 이 부분공간의 기저벡터는 점$r$을 측정 불가\n",
    "- 따라서, 생성하지 못하는 공간의 점에 대해선 기저벡터가 될 수 없음\n",
    "- 기저는 자시만 사용해 공간을 생성\n",
    "\n",
    "<img src='./images/fig_02_06.png'>\n",
    "\n",
    "- 왜 기저 집합은 선형 독립이여야 하나?\n",
    "    - 부분공간에 있는 모든 벡터는 그 기저를 이용한 고유한 좌표를 가져야 하기 때문\n",
    "\n",
    "<p/>\n",
    "\n",
    "- 그림2-4의 점$p$를 다음 벡터를 이용해 기술해 보면 \n",
    "\n",
    "<img src='./images/e_02_03_10.png'>\n",
    "\n",
    "- *U*는 완벽하게 유효 벡터 집합이지만, 기저 집합은 아님\n",
    "    - *U*로 *p*를 기술하는 방법은 무한하게 많이 있음\n",
    "    - $(3, 0, 1)$, $(0, 1.5, 1)$ 등\n",
    "    - **모든 벡터가 기저 집합 내에서 교유한 좌표를 가져야 한다** 고 정의\n",
    "    - 따라서 이런 공유성을 보장하려면, 선형 독립적 이여야 함\n",
    "    - 물론, 기저를 무한개의 집합으로 만들수 있어, 해당 기저로 표현하는 좌표는 무한 함\n",
    "    - 다만, 하나의 기저 집합 내에서 표현되는 좌표는 유일 해야 함."
   ]
  },
  {
   "cell_type": "markdown",
   "id": "6bf263ca",
   "metadata": {},
   "source": [
    "# 정리\n",
    "\n",
    "- 벡터 집합들은 벡터들의 모임, 집합에는 유한 혹은 무한개 수의 벡터 존재\n",
    "- 선형 가중 결합은 집합의 벡터들의 스칼라 곱을 하고, 벡터들을 합한 것 \n",
    "- 집합에서 하나의 벡터가 집합의 다른 벡터들의 선형 가중 결합으로 기술될 수 있다면, 해당 벡터 집합은 선형 종속\n",
    "- 부분공간은 벡터 집합의 모든 가능 선형 가중 결합으로 만들어진 무한 집합\n",
    "    - 스칼라와 덧셈에 닫혀 있고, 영점을 지나야 한다.\n",
    "- 기자는 공간을 측정하기 위한 일종의 자\n",
    "    - 벡터집합이 (1) 어떤 부분공간을 생성, (2) 선형 독립적 이라면 해당 부분공간에 대한 기저가 된다\n",
    "- 데이터 과학의 주요 목표는 데이터 집합을 설명하거나 문제를 해결하기 위한 최상의 기저 집합을 찾는 것"
   ]
  },
  {
   "cell_type": "markdown",
   "id": "a879bbfe",
   "metadata": {},
   "source": [
    "# 연습 문제"
   ]
  },
  {
   "cell_type": "markdown",
   "id": "8510536a",
   "metadata": {},
   "source": [
    "## 연습 문제 1\n",
    "- 선형 가중 결합에 대한 코드를 다시 구현 한다.\n",
    "- 각 리스트안에 스칼라와 벡터를 원소로 넣는다. (따라서 스칼라 리스트와 Numpy 배열 리스트 두개 만들어짐)\n",
    "- for 루프를 사용, 선형 가중 결합 연산을 구현\n",
    "- np.zero()를 사용해 출력 벡터 초기화\n",
    "- 이전 코드와 같은 결과가 나오는지 확인"
   ]
  },
  {
   "cell_type": "code",
   "execution_count": 6,
   "id": "8eb7a755",
   "metadata": {},
   "outputs": [],
   "source": [
    "l1, l2, l3 = 1, 2, -3\n",
    "v1 = np.array([4,5,1])\n",
    "v2 = np.array([-4, 0, -4])\n",
    "v3 = np.array([1, 3, 2])"
   ]
  },
  {
   "cell_type": "code",
   "execution_count": 7,
   "id": "3a14e6e6",
   "metadata": {},
   "outputs": [],
   "source": [
    "scalars = [l1, l2, l3]\n",
    "vectors = [v1, v2, v3]"
   ]
  },
  {
   "cell_type": "code",
   "execution_count": 9,
   "id": "2f24a532",
   "metadata": {},
   "outputs": [
    {
     "data": {
      "text/plain": [
       "array([0., 0., 0.])"
      ]
     },
     "execution_count": 9,
     "metadata": {},
     "output_type": "execute_result"
    }
   ],
   "source": [
    "results = np.zeros(v1.shape)\n",
    "results"
   ]
  },
  {
   "cell_type": "code",
   "execution_count": 10,
   "id": "3f8ee760",
   "metadata": {},
   "outputs": [
    {
     "data": {
      "text/plain": [
       "array([ -7.,  -4., -13.])"
      ]
     },
     "execution_count": 10,
     "metadata": {},
     "output_type": "execute_result"
    }
   ],
   "source": [
    "for l, v in zip(scalars, vectors):\n",
    "    results += l*v\n",
    "results    "
   ]
  },
  {
   "cell_type": "markdown",
   "id": "9877a0b9",
   "metadata": {},
   "source": [
    "- 정답"
   ]
  },
  {
   "cell_type": "code",
   "execution_count": 3,
   "id": "abd5896e",
   "metadata": {},
   "outputs": [
    {
     "data": {
      "text/plain": [
       "array([ -7.,  -4., -13.])"
      ]
     },
     "execution_count": 3,
     "metadata": {},
     "output_type": "execute_result"
    }
   ],
   "source": [
    "## Note: Make sure you run the code earlier to create variables l1, l2, etc.\n",
    "\n",
    "# organized into lists\n",
    "scalars = [ l1,l2,l3 ]\n",
    "vectors = [ v1,v2,v3 ]\n",
    "\n",
    "# initialize the linear combination\n",
    "linCombo = np.zeros(len(v1))\n",
    "\n",
    "# implement linear weighted combination using zip()\n",
    "for s,v in zip(scalars,vectors):\n",
    "    linCombo += s*v\n",
    "\n",
    "# confirm it's the same answer as above\n",
    "linCombo"
   ]
  },
  {
   "cell_type": "markdown",
   "id": "3dab9001",
   "metadata": {},
   "source": [
    "## 연습 문제 2\n",
    "- 만약 벡터보다 스칼라가 더 많을 경우는?"
   ]
  },
  {
   "cell_type": "markdown",
   "id": "45b41a72",
   "metadata": {},
   "source": [
    "- 정답"
   ]
  },
  {
   "cell_type": "code",
   "execution_count": 15,
   "id": "1ab94974",
   "metadata": {},
   "outputs": [
    {
     "ename": "IndexError",
     "evalue": "list index out of range",
     "output_type": "error",
     "traceback": [
      "\u001b[0;31m---------------------------------------------------------------------------\u001b[0m",
      "\u001b[0;31mIndexError\u001b[0m                                Traceback (most recent call last)",
      "Cell \u001b[0;32mIn[15], line 12\u001b[0m\n\u001b[1;32m      9\u001b[0m linCombo \u001b[38;5;241m=\u001b[39m np\u001b[38;5;241m.\u001b[39mzeros(\u001b[38;5;28mlen\u001b[39m(v1))\n\u001b[1;32m     11\u001b[0m \u001b[38;5;28;01mfor\u001b[39;00m i \u001b[38;5;129;01min\u001b[39;00m \u001b[38;5;28mrange\u001b[39m(\u001b[38;5;28mlen\u001b[39m(scalars)):\n\u001b[0;32m---> 12\u001b[0m     linCombo \u001b[38;5;241m+\u001b[39m\u001b[38;5;241m=\u001b[39m scalars[i]\u001b[38;5;241m*\u001b[39m\u001b[43mvectors\u001b[49m\u001b[43m[\u001b[49m\u001b[43mi\u001b[49m\u001b[43m]\u001b[49m\n\u001b[1;32m     14\u001b[0m linCombo\n",
      "\u001b[0;31mIndexError\u001b[0m: list index out of range"
     ]
    }
   ],
   "source": [
    "# Whether it works or throws an error depends on how you set up the code.\n",
    "# Using zip() as above works, because zip() will use only the minimum-matching items.\n",
    "# Re-writing the code using indexing will cause an error, as in the code below.\n",
    "\n",
    "# make the scalars longer\n",
    "scalars = [ l1,l2,l3, 5]\n",
    "vectors = [ v1,v2,v3 ]\n",
    "\n",
    "linCombo = np.zeros(len(v1))\n",
    "\n",
    "for i in range(len(scalars)):\n",
    "    linCombo += scalars[i]*vectors[i]\n",
    "    \n",
    "linCombo    "
   ]
  },
  {
   "cell_type": "markdown",
   "id": "1cd920b1",
   "metadata": {},
   "source": [
    "## 연습 문제 3\n",
    "\n",
    "- 부분공간위 무작위로 여러 점을 찍는다.\n",
    "- 이를 통해 이 부분공간이 벡터들이 생성하는 모든 선형 가중 결합으로 만들어져 있다고 주장\n",
    "- [1, 3] 벡터 하나를 가진 벡터 집합을 정의 한다\n",
    "- -4와 +4 사이의 균일한 분포로 100개의 숫자를 무작위로 정의\n",
    "- 기저벡터에 이 무작위 스칼라를 곱해 부분곤강에 점 100를 만들어 그려 보라\n",
    "- $R^3$의 [3, 5, 1]과 [0, 2, 2] 두 벡터를 사용해 똑같이 이 과정 반복\n",
    "- 100개의 점을 만들려면 100x2의 무작위 스칼라와 두 개의 벡터가 필요하다\n",
    "- 생성된 무작위 점은 평면위에 표시\n",
    "- [그림2-7]은 생성결과 \n",
    "\n",
    "<img src='./images/fig_02_07.png'>"
   ]
  },
  {
   "cell_type": "markdown",
   "id": "6750b9e8",
   "metadata": {},
   "source": [
    "- 정답"
   ]
  },
  {
   "cell_type": "code",
   "execution_count": 19,
   "id": "d9fee7bd",
   "metadata": {},
   "outputs": [
    {
     "data": {
      "image/png": "[encoded data removed]",
      "text/plain": [
       "<Figure size 600x600 with 1 Axes>"
      ]
     },
     "metadata": {},
     "output_type": "display_data"
    }
   ],
   "source": [
    "import matplotlib.pyplot as plt\n",
    "\n",
    "# the vector set (just one vector)\n",
    "A  = np.array([ 1,3 ])\n",
    "\n",
    "# x-axis range\n",
    "xlim = [-4,4]\n",
    "\n",
    "# random scalars in that range\n",
    "scalars = np.random.uniform(low=xlim[0],high=xlim[1],size=100)\n",
    "\n",
    "\n",
    "# create a figure, etc\n",
    "plt.figure(figsize=(6,6))\n",
    "\n",
    "# loop over the random scalars\n",
    "for s in scalars:\n",
    "  # create point p\n",
    "  p = A*s\n",
    "  # plot it\n",
    "  plt.plot(p[0],p[1],'ko')\n",
    "\n",
    "\n",
    "plt.xlim(xlim)\n",
    "plt.ylim(xlim)\n",
    "plt.grid()\n",
    "plt.text(-4.5,4.5,'A)',fontweight='bold',fontsize=18)\n",
    "# plt.savefig('Figure_02_07a.png',dpi=300)\n",
    "plt.show()"
   ]
  },
  {
   "cell_type": "code",
   "execution_count": 21,
   "id": "649b918f",
   "metadata": {},
   "outputs": [
    {
     "data": {
      "application/vnd.plotly.v1+json": {
       "config": {
        "plotlyServerURL": "https://plot.ly"
       },
       "data": [
        {
         "marker": {
          "color": "black",
          "size": 6
         },
         "mode": "markers",
         "type": "scatter3d",
         "x": [
          -8.881036263459581,
          -11.942575411929784,
          -0.6395939384866782,
          11.731722551371256,
          -8.011864877543463,
          -4.824382449917025,
          -1.1346767993212081,
          -2.7821180121289437,
          -11.902264628769423,
          9.386217263252817,
          4.450920442843171,
          10.374186991514733,
          -4.62848074840324,
          -2.3832898802048614,
          -3.2456805583458737,
          -10.133385701233841,
          8.28814403406258,
          -3.8385822166396046,
          -11.446789778469977,
          9.645607091947575,
          -2.2019037724406205,
          6.063459148963162,
          -10.542808741652522,
          8.663938286936574,
          -11.487677425453958,
          -2.2072881268709255,
          -0.8096142759825922,
          -1.3079039254590104,
          11.133468324520315,
          8.026131732982265,
          -10.976928332966509,
          6.30177094014593,
          -4.608761860882353,
          2.6624850584008346,
          -6.847230272768793,
          5.651192884150254,
          -7.972999778446781,
          -8.394290646915996,
          4.482424051028637,
          1.7133669492986208,
          8.311498156786472,
          7.40431998902966,
          0.49355291963466463,
          -11.562252186952723,
          -4.519821553611391,
          -0.6733229182872185,
          4.87542275638754,
          11.915848528389587,
          -6.12033085504498,
          7.632721480387493,
          -8.877034454994927,
          -1.7932895257956245,
          -11.31641145697212,
          -3.865551183446753,
          11.684721891876272,
          -4.7448123765284445,
          10.830128701846391,
          -9.798178984259382,
          6.223816961372686,
          5.289477569612229,
          -6.080564103705821,
          -0.16182600716489848,
          -2.1258682040172996,
          3.330616682816288,
          -1.2318999397036903,
          2.8015619952087745,
          -1.0409254779883863,
          11.350168993848268,
          -1.2403889857504335,
          -11.054200691814309,
          -4.79146445346778,
          -9.065066191983576,
          5.269329659287646,
          0.44477295099072656,
          7.126676338727851,
          3.6631276627639657,
          -11.947609154232225,
          -1.7198527030823207,
          2.9578290849211495,
          2.8818679007911747,
          0.22377860796219284,
          1.0461096484382537,
          -4.593645070960684,
          11.83887351707396,
          4.283515761666217,
          3.664860934518483,
          -1.593603273027644,
          11.026822610921588,
          8.922931769355444,
          -6.438558102415876,
          5.3716836844045925,
          7.395329613742289,
          5.83966576759798,
          5.694363122415962,
          3.9064083511296,
          -3.237949082656134,
          -1.312183504769318,
          4.784941374399295,
          9.441371848871022,
          1.601898750277095
         ],
         "y": [
          -18.266008338950726,
          -15.570470566658043,
          -8.2406849622009,
          21.722701540026726,
          -7.80306093822624,
          -0.8507844006379308,
          -9.41555593716554,
          -2.722701512807401,
          -17.61811013296598,
          23.364964919794637,
          2.9079266045249907,
          21.687180819964325,
          -9.750107127530772,
          2.6420245892059135,
          -11.703861472902268,
          -12.095722112809838,
          17.344902360536796,
          -3.766700102521453,
          -11.696969898275439,
          13.700322407999314,
          -5.520967307891241,
          3.313148359162616,
          -19.36716535461082,
          11.144742315386274,
          -13.468903259263183,
          4.091099251601549,
          -6.50521855851476,
          2.377327763680677,
          14.337642400103787,
          11.537461166860732,
          -22.379245463302723,
          12.8422717781608,
          -0.10282202318078681,
          0.5115931660801181,
          -11.488250301517335,
          8.745847777057719,
          -13.828706528953285,
          -8.663839786706994,
          -0.06375506112414797,
          4.858255382498099,
          20.112977987501623,
          16.459272763901964,
          -5.50234258021456,
          -20.01681172759198,
          -9.64764412195819,
          5.7545255413098095,
          12.029733634680323,
          20.41498052467569,
          -2.2057060487875972,
          18.21060226148577,
          -14.996033350671262,
          -0.20870052138449058,
          -23.517454026008448,
          -1.8500468711263558,
          23.33318237949028,
          -10.501732402649981,
          17.641140457951515,
          -10.512412515351071,
          14.914522694953272,
          5.918596378442613,
          -11.194645480668513,
          2.768683411786644,
          -2.1161524871618482,
          11.67264063567107,
          -0.9536454680807855,
          5.69017577937132,
          -4.883217402590098,
          24.15081579378518,
          5.5926737450432,
          -19.693241558439727,
          -12.584185526108646,
          -19.220737176405834,
          1.0728104150186333,
          2.6579045334536673,
          11.987763654702928,
          4.713613332952784,
          -24.59854463266973,
          -9.29853051876716,
          6.047925271376167,
          6.120675261713087,
          -3.677845363714087,
          9.154802524183985,
          -4.497816800976882,
          24.065223768427195,
          5.800739956117291,
          10.486586177618921,
          -1.3980860612162376,
          15.1713958701116,
          10.095649535230663,
          -13.460888030407126,
          8.432599765464419,
          20.06335838687511,
          9.003522094559646,
          12.741420750268588,
          13.306278440837357,
          -5.158855106772594,
          -9.37521587210118,
          6.701045136364514,
          19.479782931401427,
          5.926099535025512
         ],
         "z": [
          -6.424626654337955,
          0.3529633159150043,
          -7.3878930442186626,
          6.08040480486505,
          2.8794255651650458,
          5.5817255325847706,
          -7.902653538070594,
          0.9867891700311908,
          -1.7484239612734171,
          10.850008568790876,
          -3.0266339859325706,
          7.854931497944677,
          -3.5787994629931186,
          5.819744429479062,
          -7.376287395107771,
          1.4154588221686168,
          6.294043648453357,
          1.3514095196646867,
          3.565416473017864,
          0.8395129520692164,
          -2.585095611303747,
          -4.771463839454933,
          -5.310087032407453,
          -0.4071754005291597,
          1.8479999746754263,
          7.03415008742945,
          -5.425732857204637,
          4.121199664292691,
          -0.5069820325899643,
          0.8359521895510458,
          -7.743341019347381,
          4.439910524632893,
          6.042193791329018,
          -3.0383869117876614,
          -2.3586099378256113,
          1.2109239315240474,
          -3.198040157690909,
          2.528547742514334,
          -6.040320462495664,
          2.5737661167666044,
          9.03098044511966,
          6.586846111862415,
          -6.160413139727446,
          -4.6004754783216795,
          -3.621215383809669,
          6.652289432359434,
          5.529169959496937,
          4.527182486822909,
          5.954735091272376,
          8.03364028763578,
          -3.1599874106780232,
          2.182352179676342,
          -8.42890541671229,
          3.3040213734693147,
          7.753553190321923,
          -4.175315900612056,
          3.2009688554896565,
          2.551826130328106,
          6.616100079789691,
          -1.134040381040359,
          -3.087226675727419,
          2.984451421339842,
          0.7183384515278846,
          7.23181839191602,
          0.6888877848574682,
          1.954759785759621,
          -3.49531676527225,
          9.017257135320826,
          7.246525726043778,
          -4.954307302687315,
          -6.195566254818273,
          -7.133982253761064,
          -5.952962464031561,
          2.0648739321326985,
          2.4855285363991264,
          -0.1705568840658369,
          -8.668399093693427,
          -7.005393581324066,
          2.1041531581479678,
          2.278184727324854,
          -3.9762168409970107,
          7.759989659599647,
          1.6270432936373629,
          8.280059078995247,
          0.08938560722900224,
          5.600104931594277,
          0.726718302820621,
          0.4689657222161463,
          -1.8015928239099281,
          -4.876143893852624,
          1.270354852924962,
          10.202918901885388,
          1.2173010710956724,
          5.148936587047305,
          8.097733972664557,
          -0.8415896632310824,
          -7.62563786574209,
          0.3211233038321213,
          6.891287132906734,
          3.7902345346560518
         ]
        }
       ],
       "layout": {
        "margin": {
         "b": 0,
         "l": 0,
         "r": 0,
         "t": 0
        },
        "template": {
         "data": {
          "bar": [
           {
            "error_x": {
             "color": "#2a3f5f"
            },
            "error_y": {
             "color": "#2a3f5f"
            },
            "marker": {
             "line": {
              "color": "#E5ECF6",
              "width": 0.5
             },
             "pattern": {
              "fillmode": "overlay",
              "size": 10,
              "solidity": 0.2
             }
            },
            "type": "bar"
           }
          ],
          "barpolar": [
           {
            "marker": {
             "line": {
              "color": "#E5ECF6",
              "width": 0.5
             },
             "pattern": {
              "fillmode": "overlay",
              "size": 10,
              "solidity": 0.2
             }
            },
            "type": "barpolar"
           }
          ],
          "carpet": [
           {
            "aaxis": {
             "endlinecolor": "#2a3f5f",
             "gridcolor": "white",
             "linecolor": "white",
             "minorgridcolor": "white",
             "startlinecolor": "#2a3f5f"
            },
            "baxis": {
             "endlinecolor": "#2a3f5f",
             "gridcolor": "white",
             "linecolor": "white",
             "minorgridcolor": "white",
             "startlinecolor": "#2a3f5f"
            },
            "type": "carpet"
           }
          ],
          "choropleth": [
           {
            "colorbar": {
             "outlinewidth": 0,
             "ticks": ""
            },
            "type": "choropleth"
           }
          ],
          "contour": [
           {
            "colorbar": {
             "outlinewidth": 0,
             "ticks": ""
            },
            "colorscale": [
             [
              0,
              "#0d0887"
             ],
             [
              0.1111111111111111,
              "#46039f"
             ],
             [
              0.2222222222222222,
              "#7201a8"
             ],
             [
              0.3333333333333333,
              "#9c179e"
             ],
             [
              0.4444444444444444,
              "#bd3786"
             ],
             [
              0.5555555555555556,
              "#d8576b"
             ],
             [
              0.6666666666666666,
              "#ed7953"
             ],
             [
              0.7777777777777778,
              "#fb9f3a"
             ],
             [
              0.8888888888888888,
              "#fdca26"
             ],
             [
              1,
              "#f0f921"
             ]
            ],
            "type": "contour"
           }
          ],
          "contourcarpet": [
           {
            "colorbar": {
             "outlinewidth": 0,
             "ticks": ""
            },
            "type": "contourcarpet"
           }
          ],
          "heatmap": [
           {
            "colorbar": {
             "outlinewidth": 0,
             "ticks": ""
            },
            "colorscale": [
             [
              0,
              "#0d0887"
             ],
             [
              0.1111111111111111,
              "#46039f"
             ],
             [
              0.2222222222222222,
              "#7201a8"
             ],
             [
              0.3333333333333333,
              "#9c179e"
             ],
             [
              0.4444444444444444,
              "#bd3786"
             ],
             [
              0.5555555555555556,
              "#d8576b"
             ],
             [
              0.6666666666666666,
              "#ed7953"
             ],
             [
              0.7777777777777778,
              "#fb9f3a"
             ],
             [
              0.8888888888888888,
              "#fdca26"
             ],
             [
              1,
              "#f0f921"
             ]
            ],
            "type": "heatmap"
           }
          ],
          "heatmapgl": [
           {
            "colorbar": {
             "outlinewidth": 0,
             "ticks": ""
            },
            "colorscale": [
             [
              0,
              "#0d0887"
             ],
             [
              0.1111111111111111,
              "#46039f"
             ],
             [
              0.2222222222222222,
              "#7201a8"
             ],
             [
              0.3333333333333333,
              "#9c179e"
             ],
             [
              0.4444444444444444,
              "#bd3786"
             ],
             [
              0.5555555555555556,
              "#d8576b"
             ],
             [
              0.6666666666666666,
              "#ed7953"
             ],
             [
              0.7777777777777778,
              "#fb9f3a"
             ],
             [
              0.8888888888888888,
              "#fdca26"
             ],
             [
              1,
              "#f0f921"
             ]
            ],
            "type": "heatmapgl"
           }
          ],
          "histogram": [
           {
            "marker": {
             "pattern": {
              "fillmode": "overlay",
              "size": 10,
              "solidity": 0.2
             }
            },
            "type": "histogram"
           }
          ],
          "histogram2d": [
           {
            "colorbar": {
             "outlinewidth": 0,
             "ticks": ""
            },
            "colorscale": [
             [
              0,
              "#0d0887"
             ],
             [
              0.1111111111111111,
              "#46039f"
             ],
             [
              0.2222222222222222,
              "#7201a8"
             ],
             [
              0.3333333333333333,
              "#9c179e"
             ],
             [
              0.4444444444444444,
              "#bd3786"
             ],
             [
              0.5555555555555556,
              "#d8576b"
             ],
             [
              0.6666666666666666,
              "#ed7953"
             ],
             [
              0.7777777777777778,
              "#fb9f3a"
             ],
             [
              0.8888888888888888,
              "#fdca26"
             ],
             [
              1,
              "#f0f921"
             ]
            ],
            "type": "histogram2d"
           }
          ],
          "histogram2dcontour": [
           {
            "colorbar": {
             "outlinewidth": 0,
             "ticks": ""
            },
            "colorscale": [
             [
              0,
              "#0d0887"
             ],
             [
              0.1111111111111111,
              "#46039f"
             ],
             [
              0.2222222222222222,
              "#7201a8"
             ],
             [
              0.3333333333333333,
              "#9c179e"
             ],
             [
              0.4444444444444444,
              "#bd3786"
             ],
             [
              0.5555555555555556,
              "#d8576b"
             ],
             [
              0.6666666666666666,
              "#ed7953"
             ],
             [
              0.7777777777777778,
              "#fb9f3a"
             ],
             [
              0.8888888888888888,
              "#fdca26"
             ],
             [
              1,
              "#f0f921"
             ]
            ],
            "type": "histogram2dcontour"
           }
          ],
          "mesh3d": [
           {
            "colorbar": {
             "outlinewidth": 0,
             "ticks": ""
            },
            "type": "mesh3d"
           }
          ],
          "parcoords": [
           {
            "line": {
             "colorbar": {
              "outlinewidth": 0,
              "ticks": ""
             }
            },
            "type": "parcoords"
           }
          ],
          "pie": [
           {
            "automargin": true,
            "type": "pie"
           }
          ],
          "scatter": [
           {
            "fillpattern": {
             "fillmode": "overlay",
             "size": 10,
             "solidity": 0.2
            },
            "type": "scatter"
           }
          ],
          "scatter3d": [
           {
            "line": {
             "colorbar": {
              "outlinewidth": 0,
              "ticks": ""
             }
            },
            "marker": {
             "colorbar": {
              "outlinewidth": 0,
              "ticks": ""
             }
            },
            "type": "scatter3d"
           }
          ],
          "scattercarpet": [
           {
            "marker": {
             "colorbar": {
              "outlinewidth": 0,
              "ticks": ""
             }
            },
            "type": "scattercarpet"
           }
          ],
          "scattergeo": [
           {
            "marker": {
             "colorbar": {
              "outlinewidth": 0,
              "ticks": ""
             }
            },
            "type": "scattergeo"
           }
          ],
          "scattergl": [
           {
            "marker": {
             "colorbar": {
              "outlinewidth": 0,
              "ticks": ""
             }
            },
            "type": "scattergl"
           }
          ],
          "scattermapbox": [
           {
            "marker": {
             "colorbar": {
              "outlinewidth": 0,
              "ticks": ""
             }
            },
            "type": "scattermapbox"
           }
          ],
          "scatterpolar": [
           {
            "marker": {
             "colorbar": {
              "outlinewidth": 0,
              "ticks": ""
             }
            },
            "type": "scatterpolar"
           }
          ],
          "scatterpolargl": [
           {
            "marker": {
             "colorbar": {
              "outlinewidth": 0,
              "ticks": ""
             }
            },
            "type": "scatterpolargl"
           }
          ],
          "scatterternary": [
           {
            "marker": {
             "colorbar": {
              "outlinewidth": 0,
              "ticks": ""
             }
            },
            "type": "scatterternary"
           }
          ],
          "surface": [
           {
            "colorbar": {
             "outlinewidth": 0,
             "ticks": ""
            },
            "colorscale": [
             [
              0,
              "#0d0887"
             ],
             [
              0.1111111111111111,
              "#46039f"
             ],
             [
              0.2222222222222222,
              "#7201a8"
             ],
             [
              0.3333333333333333,
              "#9c179e"
             ],
             [
              0.4444444444444444,
              "#bd3786"
             ],
             [
              0.5555555555555556,
              "#d8576b"
             ],
             [
              0.6666666666666666,
              "#ed7953"
             ],
             [
              0.7777777777777778,
              "#fb9f3a"
             ],
             [
              0.8888888888888888,
              "#fdca26"
             ],
             [
              1,
              "#f0f921"
             ]
            ],
            "type": "surface"
           }
          ],
          "table": [
           {
            "cells": {
             "fill": {
              "color": "#EBF0F8"
             },
             "line": {
              "color": "white"
             }
            },
            "header": {
             "fill": {
              "color": "#C8D4E3"
             },
             "line": {
              "color": "white"
             }
            },
            "type": "table"
           }
          ]
         },
         "layout": {
          "annotationdefaults": {
           "arrowcolor": "#2a3f5f",
           "arrowhead": 0,
           "arrowwidth": 1
          },
          "autotypenumbers": "strict",
          "coloraxis": {
           "colorbar": {
            "outlinewidth": 0,
            "ticks": ""
           }
          },
          "colorscale": {
           "diverging": [
            [
             0,
             "#8e0152"
            ],
            [
             0.1,
             "#c51b7d"
            ],
            [
             0.2,
             "#de77ae"
            ],
            [
             0.3,
             "#f1b6da"
            ],
            [
             0.4,
             "#fde0ef"
            ],
            [
             0.5,
             "#f7f7f7"
            ],
            [
             0.6,
             "#e6f5d0"
            ],
            [
             0.7,
             "#b8e186"
            ],
            [
             0.8,
             "#7fbc41"
            ],
            [
             0.9,
             "#4d9221"
            ],
            [
             1,
             "#276419"
            ]
           ],
           "sequential": [
            [
             0,
             "#0d0887"
            ],
            [
             0.1111111111111111,
             "#46039f"
            ],
            [
             0.2222222222222222,
             "#7201a8"
            ],
            [
             0.3333333333333333,
             "#9c179e"
            ],
            [
             0.4444444444444444,
             "#bd3786"
            ],
            [
             0.5555555555555556,
             "#d8576b"
            ],
            [
             0.6666666666666666,
             "#ed7953"
            ],
            [
             0.7777777777777778,
             "#fb9f3a"
            ],
            [
             0.8888888888888888,
             "#fdca26"
            ],
            [
             1,
             "#f0f921"
            ]
           ],
           "sequentialminus": [
            [
             0,
             "#0d0887"
            ],
            [
             0.1111111111111111,
             "#46039f"
            ],
            [
             0.2222222222222222,
             "#7201a8"
            ],
            [
             0.3333333333333333,
             "#9c179e"
            ],
            [
             0.4444444444444444,
             "#bd3786"
            ],
            [
             0.5555555555555556,
             "#d8576b"
            ],
            [
             0.6666666666666666,
             "#ed7953"
            ],
            [
             0.7777777777777778,
             "#fb9f3a"
            ],
            [
             0.8888888888888888,
             "#fdca26"
            ],
            [
             1,
             "#f0f921"
            ]
           ]
          },
          "colorway": [
           "#636efa",
           "#EF553B",
           "#00cc96",
           "#ab63fa",
           "#FFA15A",
           "#19d3f3",
           "#FF6692",
           "#B6E880",
           "#FF97FF",
           "#FECB52"
          ],
          "font": {
           "color": "#2a3f5f"
          },
          "geo": {
           "bgcolor": "white",
           "lakecolor": "white",
           "landcolor": "#E5ECF6",
           "showlakes": true,
           "showland": true,
           "subunitcolor": "white"
          },
          "hoverlabel": {
           "align": "left"
          },
          "hovermode": "closest",
          "mapbox": {
           "style": "light"
          },
          "paper_bgcolor": "white",
          "plot_bgcolor": "#E5ECF6",
          "polar": {
           "angularaxis": {
            "gridcolor": "white",
            "linecolor": "white",
            "ticks": ""
           },
           "bgcolor": "#E5ECF6",
           "radialaxis": {
            "gridcolor": "white",
            "linecolor": "white",
            "ticks": ""
           }
          },
          "scene": {
           "xaxis": {
            "backgroundcolor": "#E5ECF6",
            "gridcolor": "white",
            "gridwidth": 2,
            "linecolor": "white",
            "showbackground": true,
            "ticks": "",
            "zerolinecolor": "white"
           },
           "yaxis": {
            "backgroundcolor": "#E5ECF6",
            "gridcolor": "white",
            "gridwidth": 2,
            "linecolor": "white",
            "showbackground": true,
            "ticks": "",
            "zerolinecolor": "white"
           },
           "zaxis": {
            "backgroundcolor": "#E5ECF6",
            "gridcolor": "white",
            "gridwidth": 2,
            "linecolor": "white",
            "showbackground": true,
            "ticks": "",
            "zerolinecolor": "white"
           }
          },
          "shapedefaults": {
           "line": {
            "color": "#2a3f5f"
           }
          },
          "ternary": {
           "aaxis": {
            "gridcolor": "white",
            "linecolor": "white",
            "ticks": ""
           },
           "baxis": {
            "gridcolor": "white",
            "linecolor": "white",
            "ticks": ""
           },
           "bgcolor": "#E5ECF6",
           "caxis": {
            "gridcolor": "white",
            "linecolor": "white",
            "ticks": ""
           }
          },
          "title": {
           "x": 0.05
          },
          "xaxis": {
           "automargin": true,
           "gridcolor": "white",
           "linecolor": "white",
           "ticks": "",
           "title": {
            "standoff": 15
           },
           "zerolinecolor": "white",
           "zerolinewidth": 2
          },
          "yaxis": {
           "automargin": true,
           "gridcolor": "white",
           "linecolor": "white",
           "ticks": "",
           "title": {
            "standoff": 15
           },
           "zerolinecolor": "white",
           "zerolinewidth": 2
          }
         }
        }
       }
      },
      "text/html": [
       "<div>                            <div id=\"c93cc686-f114-48e3-b1c5-58f039911f50\" class=\"plotly-graph-div\" style=\"height:525px; width:100%;\"></div>            <script type=\"text/javascript\">                require([\"plotly\"], function(Plotly) {                    window.PLOTLYENV=window.PLOTLYENV || {};                                    if (document.getElementById(\"c93cc686-f114-48e3-b1c5-58f039911f50\")) {                    Plotly.newPlot(                        \"c93cc686-f114-48e3-b1c5-58f039911f50\",                        [{\"marker\":{\"color\":\"black\",\"size\":6},\"mode\":\"markers\",\"x\":[-8.881036263459581,-11.942575411929784,-0.6395939384866782,11.731722551371256,-8.011864877543463,-4.824382449917025,-1.1346767993212081,-2.7821180121289437,-11.902264628769423,9.386217263252817,4.450920442843171,10.374186991514733,-4.62848074840324,-2.3832898802048614,-3.2456805583458737,-10.133385701233841,8.28814403406258,-3.8385822166396046,-11.446789778469977,9.645607091947575,-2.2019037724406205,6.063459148963162,-10.542808741652522,8.663938286936574,-11.487677425453958,-2.2072881268709255,-0.8096142759825922,-1.3079039254590104,11.133468324520315,8.026131732982265,-10.976928332966509,6.30177094014593,-4.608761860882353,2.6624850584008346,-6.847230272768793,5.651192884150254,-7.972999778446781,-8.394290646915996,4.482424051028637,1.7133669492986208,8.311498156786472,7.40431998902966,0.49355291963466463,-11.562252186952723,-4.519821553611391,-0.6733229182872185,4.87542275638754,11.915848528389587,-6.12033085504498,7.632721480387493,-8.877034454994927,-1.7932895257956245,-11.31641145697212,-3.865551183446753,11.684721891876272,-4.7448123765284445,10.830128701846391,-9.798178984259382,6.223816961372686,5.289477569612229,-6.080564103705821,-0.16182600716489848,-2.1258682040172996,3.330616682816288,-1.2318999397036903,2.8015619952087745,-1.0409254779883863,11.350168993848268,-1.2403889857504335,-11.054200691814309,-4.79146445346778,-9.065066191983576,5.269329659287646,0.44477295099072656,7.126676338727851,3.6631276627639657,-11.947609154232225,-1.7198527030823207,2.9578290849211495,2.8818679007911747,0.22377860796219284,1.0461096484382537,-4.593645070960684,11.83887351707396,4.283515761666217,3.664860934518483,-1.593603273027644,11.026822610921588,8.922931769355444,-6.438558102415876,5.3716836844045925,7.395329613742289,5.83966576759798,5.694363122415962,3.9064083511296,-3.237949082656134,-1.312183504769318,4.784941374399295,9.441371848871022,1.601898750277095],\"y\":[-18.266008338950726,-15.570470566658043,-8.2406849622009,21.722701540026726,-7.80306093822624,-0.8507844006379308,-9.41555593716554,-2.722701512807401,-17.61811013296598,23.364964919794637,2.9079266045249907,21.687180819964325,-9.750107127530772,2.6420245892059135,-11.703861472902268,-12.095722112809838,17.344902360536796,-3.766700102521453,-11.696969898275439,13.700322407999314,-5.520967307891241,3.313148359162616,-19.36716535461082,11.144742315386274,-13.468903259263183,4.091099251601549,-6.50521855851476,2.377327763680677,14.337642400103787,11.537461166860732,-22.379245463302723,12.8422717781608,-0.10282202318078681,0.5115931660801181,-11.488250301517335,8.745847777057719,-13.828706528953285,-8.663839786706994,-0.06375506112414797,4.858255382498099,20.112977987501623,16.459272763901964,-5.50234258021456,-20.01681172759198,-9.64764412195819,5.7545255413098095,12.029733634680323,20.41498052467569,-2.2057060487875972,18.21060226148577,-14.996033350671262,-0.20870052138449058,-23.517454026008448,-1.8500468711263558,23.33318237949028,-10.501732402649981,17.641140457951515,-10.512412515351071,14.914522694953272,5.918596378442613,-11.194645480668513,2.768683411786644,-2.1161524871618482,11.67264063567107,-0.9536454680807855,5.69017577937132,-4.883217402590098,24.15081579378518,5.5926737450432,-19.693241558439727,-12.584185526108646,-19.220737176405834,1.0728104150186333,2.6579045334536673,11.987763654702928,4.713613332952784,-24.59854463266973,-9.29853051876716,6.047925271376167,6.120675261713087,-3.677845363714087,9.154802524183985,-4.497816800976882,24.065223768427195,5.800739956117291,10.486586177618921,-1.3980860612162376,15.1713958701116,10.095649535230663,-13.460888030407126,8.432599765464419,20.06335838687511,9.003522094559646,12.741420750268588,13.306278440837357,-5.158855106772594,-9.37521587210118,6.701045136364514,19.479782931401427,5.926099535025512],\"z\":[-6.424626654337955,0.3529633159150043,-7.3878930442186626,6.08040480486505,2.8794255651650458,5.5817255325847706,-7.902653538070594,0.9867891700311908,-1.7484239612734171,10.850008568790876,-3.0266339859325706,7.854931497944677,-3.5787994629931186,5.819744429479062,-7.376287395107771,1.4154588221686168,6.294043648453357,1.3514095196646867,3.565416473017864,0.8395129520692164,-2.585095611303747,-4.771463839454933,-5.310087032407453,-0.4071754005291597,1.8479999746754263,7.03415008742945,-5.425732857204637,4.121199664292691,-0.5069820325899643,0.8359521895510458,-7.743341019347381,4.439910524632893,6.042193791329018,-3.0383869117876614,-2.3586099378256113,1.2109239315240474,-3.198040157690909,2.528547742514334,-6.040320462495664,2.5737661167666044,9.03098044511966,6.586846111862415,-6.160413139727446,-4.6004754783216795,-3.621215383809669,6.652289432359434,5.529169959496937,4.527182486822909,5.954735091272376,8.03364028763578,-3.1599874106780232,2.182352179676342,-8.42890541671229,3.3040213734693147,7.753553190321923,-4.175315900612056,3.2009688554896565,2.551826130328106,6.616100079789691,-1.134040381040359,-3.087226675727419,2.984451421339842,0.7183384515278846,7.23181839191602,0.6888877848574682,1.954759785759621,-3.49531676527225,9.017257135320826,7.246525726043778,-4.954307302687315,-6.195566254818273,-7.133982253761064,-5.952962464031561,2.0648739321326985,2.4855285363991264,-0.1705568840658369,-8.668399093693427,-7.005393581324066,2.1041531581479678,2.278184727324854,-3.9762168409970107,7.759989659599647,1.6270432936373629,8.280059078995247,0.08938560722900224,5.600104931594277,0.726718302820621,0.4689657222161463,-1.8015928239099281,-4.876143893852624,1.270354852924962,10.202918901885388,1.2173010710956724,5.148936587047305,8.097733972664557,-0.8415896632310824,-7.62563786574209,0.3211233038321213,6.891287132906734,3.7902345346560518],\"type\":\"scatter3d\"}],                        {\"template\":{\"data\":{\"histogram2dcontour\":[{\"type\":\"histogram2dcontour\",\"colorbar\":{\"outlinewidth\":0,\"ticks\":\"\"},\"colorscale\":[[0.0,\"#0d0887\"],[0.1111111111111111,\"#46039f\"],[0.2222222222222222,\"#7201a8\"],[0.3333333333333333,\"#9c179e\"],[0.4444444444444444,\"#bd3786\"],[0.5555555555555556,\"#d8576b\"],[0.6666666666666666,\"#ed7953\"],[0.7777777777777778,\"#fb9f3a\"],[0.8888888888888888,\"#fdca26\"],[1.0,\"#f0f921\"]]}],\"choropleth\":[{\"type\":\"choropleth\",\"colorbar\":{\"outlinewidth\":0,\"ticks\":\"\"}}],\"histogram2d\":[{\"type\":\"histogram2d\",\"colorbar\":{\"outlinewidth\":0,\"ticks\":\"\"},\"colorscale\":[[0.0,\"#0d0887\"],[0.1111111111111111,\"#46039f\"],[0.2222222222222222,\"#7201a8\"],[0.3333333333333333,\"#9c179e\"],[0.4444444444444444,\"#bd3786\"],[0.5555555555555556,\"#d8576b\"],[0.6666666666666666,\"#ed7953\"],[0.7777777777777778,\"#fb9f3a\"],[0.8888888888888888,\"#fdca26\"],[1.0,\"#f0f921\"]]}],\"heatmap\":[{\"type\":\"heatmap\",\"colorbar\":{\"outlinewidth\":0,\"ticks\":\"\"},\"colorscale\":[[0.0,\"#0d0887\"],[0.1111111111111111,\"#46039f\"],[0.2222222222222222,\"#7201a8\"],[0.3333333333333333,\"#9c179e\"],[0.4444444444444444,\"#bd3786\"],[0.5555555555555556,\"#d8576b\"],[0.6666666666666666,\"#ed7953\"],[0.7777777777777778,\"#fb9f3a\"],[0.8888888888888888,\"#fdca26\"],[1.0,\"#f0f921\"]]}],\"heatmapgl\":[{\"type\":\"heatmapgl\",\"colorbar\":{\"outlinewidth\":0,\"ticks\":\"\"},\"colorscale\":[[0.0,\"#0d0887\"],[0.1111111111111111,\"#46039f\"],[0.2222222222222222,\"#7201a8\"],[0.3333333333333333,\"#9c179e\"],[0.4444444444444444,\"#bd3786\"],[0.5555555555555556,\"#d8576b\"],[0.6666666666666666,\"#ed7953\"],[0.7777777777777778,\"#fb9f3a\"],[0.8888888888888888,\"#fdca26\"],[1.0,\"#f0f921\"]]}],\"contourcarpet\":[{\"type\":\"contourcarpet\",\"colorbar\":{\"outlinewidth\":0,\"ticks\":\"\"}}],\"contour\":[{\"type\":\"contour\",\"colorbar\":{\"outlinewidth\":0,\"ticks\":\"\"},\"colorscale\":[[0.0,\"#0d0887\"],[0.1111111111111111,\"#46039f\"],[0.2222222222222222,\"#7201a8\"],[0.3333333333333333,\"#9c179e\"],[0.4444444444444444,\"#bd3786\"],[0.5555555555555556,\"#d8576b\"],[0.6666666666666666,\"#ed7953\"],[0.7777777777777778,\"#fb9f3a\"],[0.8888888888888888,\"#fdca26\"],[1.0,\"#f0f921\"]]}],\"surface\":[{\"type\":\"surface\",\"colorbar\":{\"outlinewidth\":0,\"ticks\":\"\"},\"colorscale\":[[0.0,\"#0d0887\"],[0.1111111111111111,\"#46039f\"],[0.2222222222222222,\"#7201a8\"],[0.3333333333333333,\"#9c179e\"],[0.4444444444444444,\"#bd3786\"],[0.5555555555555556,\"#d8576b\"],[0.6666666666666666,\"#ed7953\"],[0.7777777777777778,\"#fb9f3a\"],[0.8888888888888888,\"#fdca26\"],[1.0,\"#f0f921\"]]}],\"mesh3d\":[{\"type\":\"mesh3d\",\"colorbar\":{\"outlinewidth\":0,\"ticks\":\"\"}}],\"scatter\":[{\"fillpattern\":{\"fillmode\":\"overlay\",\"size\":10,\"solidity\":0.2},\"type\":\"scatter\"}],\"parcoords\":[{\"type\":\"parcoords\",\"line\":{\"colorbar\":{\"outlinewidth\":0,\"ticks\":\"\"}}}],\"scatterpolargl\":[{\"type\":\"scatterpolargl\",\"marker\":{\"colorbar\":{\"outlinewidth\":0,\"ticks\":\"\"}}}],\"bar\":[{\"error_x\":{\"color\":\"#2a3f5f\"},\"error_y\":{\"color\":\"#2a3f5f\"},\"marker\":{\"line\":{\"color\":\"#E5ECF6\",\"width\":0.5},\"pattern\":{\"fillmode\":\"overlay\",\"size\":10,\"solidity\":0.2}},\"type\":\"bar\"}],\"scattergeo\":[{\"type\":\"scattergeo\",\"marker\":{\"colorbar\":{\"outlinewidth\":0,\"ticks\":\"\"}}}],\"scatterpolar\":[{\"type\":\"scatterpolar\",\"marker\":{\"colorbar\":{\"outlinewidth\":0,\"ticks\":\"\"}}}],\"histogram\":[{\"marker\":{\"pattern\":{\"fillmode\":\"overlay\",\"size\":10,\"solidity\":0.2}},\"type\":\"histogram\"}],\"scattergl\":[{\"type\":\"scattergl\",\"marker\":{\"colorbar\":{\"outlinewidth\":0,\"ticks\":\"\"}}}],\"scatter3d\":[{\"type\":\"scatter3d\",\"line\":{\"colorbar\":{\"outlinewidth\":0,\"ticks\":\"\"}},\"marker\":{\"colorbar\":{\"outlinewidth\":0,\"ticks\":\"\"}}}],\"scattermapbox\":[{\"type\":\"scattermapbox\",\"marker\":{\"colorbar\":{\"outlinewidth\":0,\"ticks\":\"\"}}}],\"scatterternary\":[{\"type\":\"scatterternary\",\"marker\":{\"colorbar\":{\"outlinewidth\":0,\"ticks\":\"\"}}}],\"scattercarpet\":[{\"type\":\"scattercarpet\",\"marker\":{\"colorbar\":{\"outlinewidth\":0,\"ticks\":\"\"}}}],\"carpet\":[{\"aaxis\":{\"endlinecolor\":\"#2a3f5f\",\"gridcolor\":\"white\",\"linecolor\":\"white\",\"minorgridcolor\":\"white\",\"startlinecolor\":\"#2a3f5f\"},\"baxis\":{\"endlinecolor\":\"#2a3f5f\",\"gridcolor\":\"white\",\"linecolor\":\"white\",\"minorgridcolor\":\"white\",\"startlinecolor\":\"#2a3f5f\"},\"type\":\"carpet\"}],\"table\":[{\"cells\":{\"fill\":{\"color\":\"#EBF0F8\"},\"line\":{\"color\":\"white\"}},\"header\":{\"fill\":{\"color\":\"#C8D4E3\"},\"line\":{\"color\":\"white\"}},\"type\":\"table\"}],\"barpolar\":[{\"marker\":{\"line\":{\"color\":\"#E5ECF6\",\"width\":0.5},\"pattern\":{\"fillmode\":\"overlay\",\"size\":10,\"solidity\":0.2}},\"type\":\"barpolar\"}],\"pie\":[{\"automargin\":true,\"type\":\"pie\"}]},\"layout\":{\"autotypenumbers\":\"strict\",\"colorway\":[\"#636efa\",\"#EF553B\",\"#00cc96\",\"#ab63fa\",\"#FFA15A\",\"#19d3f3\",\"#FF6692\",\"#B6E880\",\"#FF97FF\",\"#FECB52\"],\"font\":{\"color\":\"#2a3f5f\"},\"hovermode\":\"closest\",\"hoverlabel\":{\"align\":\"left\"},\"paper_bgcolor\":\"white\",\"plot_bgcolor\":\"#E5ECF6\",\"polar\":{\"bgcolor\":\"#E5ECF6\",\"angularaxis\":{\"gridcolor\":\"white\",\"linecolor\":\"white\",\"ticks\":\"\"},\"radialaxis\":{\"gridcolor\":\"white\",\"linecolor\":\"white\",\"ticks\":\"\"}},\"ternary\":{\"bgcolor\":\"#E5ECF6\",\"aaxis\":{\"gridcolor\":\"white\",\"linecolor\":\"white\",\"ticks\":\"\"},\"baxis\":{\"gridcolor\":\"white\",\"linecolor\":\"white\",\"ticks\":\"\"},\"caxis\":{\"gridcolor\":\"white\",\"linecolor\":\"white\",\"ticks\":\"\"}},\"coloraxis\":{\"colorbar\":{\"outlinewidth\":0,\"ticks\":\"\"}},\"colorscale\":{\"sequential\":[[0.0,\"#0d0887\"],[0.1111111111111111,\"#46039f\"],[0.2222222222222222,\"#7201a8\"],[0.3333333333333333,\"#9c179e\"],[0.4444444444444444,\"#bd3786\"],[0.5555555555555556,\"#d8576b\"],[0.6666666666666666,\"#ed7953\"],[0.7777777777777778,\"#fb9f3a\"],[0.8888888888888888,\"#fdca26\"],[1.0,\"#f0f921\"]],\"sequentialminus\":[[0.0,\"#0d0887\"],[0.1111111111111111,\"#46039f\"],[0.2222222222222222,\"#7201a8\"],[0.3333333333333333,\"#9c179e\"],[0.4444444444444444,\"#bd3786\"],[0.5555555555555556,\"#d8576b\"],[0.6666666666666666,\"#ed7953\"],[0.7777777777777778,\"#fb9f3a\"],[0.8888888888888888,\"#fdca26\"],[1.0,\"#f0f921\"]],\"diverging\":[[0,\"#8e0152\"],[0.1,\"#c51b7d\"],[0.2,\"#de77ae\"],[0.3,\"#f1b6da\"],[0.4,\"#fde0ef\"],[0.5,\"#f7f7f7\"],[0.6,\"#e6f5d0\"],[0.7,\"#b8e186\"],[0.8,\"#7fbc41\"],[0.9,\"#4d9221\"],[1,\"#276419\"]]},\"xaxis\":{\"gridcolor\":\"white\",\"linecolor\":\"white\",\"ticks\":\"\",\"title\":{\"standoff\":15},\"zerolinecolor\":\"white\",\"automargin\":true,\"zerolinewidth\":2},\"yaxis\":{\"gridcolor\":\"white\",\"linecolor\":\"white\",\"ticks\":\"\",\"title\":{\"standoff\":15},\"zerolinecolor\":\"white\",\"automargin\":true,\"zerolinewidth\":2},\"scene\":{\"xaxis\":{\"backgroundcolor\":\"#E5ECF6\",\"gridcolor\":\"white\",\"linecolor\":\"white\",\"showbackground\":true,\"ticks\":\"\",\"zerolinecolor\":\"white\",\"gridwidth\":2},\"yaxis\":{\"backgroundcolor\":\"#E5ECF6\",\"gridcolor\":\"white\",\"linecolor\":\"white\",\"showbackground\":true,\"ticks\":\"\",\"zerolinecolor\":\"white\",\"gridwidth\":2},\"zaxis\":{\"backgroundcolor\":\"#E5ECF6\",\"gridcolor\":\"white\",\"linecolor\":\"white\",\"showbackground\":true,\"ticks\":\"\",\"zerolinecolor\":\"white\",\"gridwidth\":2}},\"shapedefaults\":{\"line\":{\"color\":\"#2a3f5f\"}},\"annotationdefaults\":{\"arrowcolor\":\"#2a3f5f\",\"arrowhead\":0,\"arrowwidth\":1},\"geo\":{\"bgcolor\":\"white\",\"landcolor\":\"#E5ECF6\",\"subunitcolor\":\"white\",\"showland\":true,\"showlakes\":true,\"lakecolor\":\"white\"},\"title\":{\"x\":0.05},\"mapbox\":{\"style\":\"light\"}}},\"margin\":{\"l\":0,\"r\":0,\"b\":0,\"t\":0}},                        {\"responsive\": true}                    ).then(function(){\n",
       "                            \n",
       "var gd = document.getElementById('c93cc686-f114-48e3-b1c5-58f039911f50');\n",
       "var x = new MutationObserver(function (mutations, observer) {{\n",
       "        var display = window.getComputedStyle(gd).display;\n",
       "        if (!display || display === 'none') {{\n",
       "            console.log([gd, 'removed!']);\n",
       "            Plotly.purge(gd);\n",
       "            observer.disconnect();\n",
       "        }}\n",
       "}});\n",
       "\n",
       "// Listen for the removal of the full notebook cells\n",
       "var notebookContainer = gd.closest('#notebook-container');\n",
       "if (notebookContainer) {{\n",
       "    x.observe(notebookContainer, {childList: true});\n",
       "}}\n",
       "\n",
       "// Listen for the clearing of the current output cell\n",
       "var outputEl = gd.closest('.output');\n",
       "if (outputEl) {{\n",
       "    x.observe(outputEl, {childList: true});\n",
       "}}\n",
       "\n",
       "                        })                };                });            </script>        </div>"
      ]
     },
     "metadata": {},
     "output_type": "display_data"
    }
   ],
   "source": [
    "import plotly.graph_objects as go\n",
    "\n",
    "# two vectors in R3\n",
    "v1 = np.array([ 3,5,1 ])\n",
    "v2 = np.array([ 0,2,2 ])\n",
    "\n",
    "## uncomment the lines below for the second part\n",
    "# v1 = np.array([ 3.0,5.0,1.0 ])\n",
    "# v2 = np.array([ 1.5,2.5,0.5 ])\n",
    "\n",
    "xlim = [-4,4]\n",
    "\n",
    "# random scalars in the x-axis range\n",
    "scalars = np.random.uniform(low=xlim[0],high=xlim[1],size=(100,2))\n",
    "\n",
    "# create random points\n",
    "points = np.zeros((100,3))\n",
    "for i in range(len(scalars)):\n",
    "  # define this point as a random weighted combination of the two vectors\n",
    "  points[i,:] = v1*scalars[i,0] + v2*scalars[i,1]\n",
    "\n",
    "\n",
    "# draw the dots in the plane\n",
    "fig = go.Figure( data=[go.Scatter3d(x=points[:,0], y=points[:,1], z=points[:,2], \n",
    "                                    mode='markers', marker=dict(size=6,color='black') )])\n",
    "\n",
    "fig.update_layout(margin=dict(l=0,r=0,b=0,t=0))\n",
    "# plt.savefig('Figure_02_07b.png',dpi=300)\n",
    "fig.show()"
   ]
  }
 ],
 "metadata": {
  "kernelspec": {
   "display_name": "Python 3 (ipykernel)",
   "language": "python",
   "name": "python3"
  },
  "language_info": {
   "codemirror_mode": {
    "name": "ipython",
    "version": 3
   },
   "file_extension": ".py",
   "mimetype": "text/x-python",
   "name": "python",
   "nbconvert_exporter": "python",
   "pygments_lexer": "ipython3",
   "version": "3.10.9"
  },
  "toc": {
   "base_numbering": 1,
   "nav_menu": {},
   "number_sections": true,
   "sideBar": true,
   "skip_h1_title": false,
   "title_cell": "Table of Contents",
   "title_sidebar": "Contents",
   "toc_cell": false,
   "toc_position": {},
   "toc_section_display": true,
   "toc_window_display": false
  }
 },
 "nbformat": 4,
 "nbformat_minor": 5
}
