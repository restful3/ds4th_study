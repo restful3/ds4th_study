{
 "cells": [
  {
   "cell_type": "markdown",
   "metadata": {},
   "source": [
    "## Intro"
   ]
  },
  {
   "cell_type": "markdown",
   "metadata": {},
   "source": [
    "- LU분해는 QR분해와 같이 최소제곱 모델 적합과 열행렬 등 데이터 과학 알고리즘의 근간이 되는 연산"
   ]
  },
  {
   "cell_type": "markdown",
   "metadata": {},
   "source": [
    "## 9.1 연립방정식"
   ]
  },
  {
   "cell_type": "markdown",
   "metadata": {},
   "source": [
    "### 9.1.1 연립방정식을 행렬로 변환하기"
   ]
  },
  {
   "cell_type": "markdown",
   "metadata": {},
   "source": [
    "1. 계수 정리\n",
    "2. 상수 정리"
   ]
  },
  {
   "cell_type": "markdown",
   "metadata": {},
   "source": [
    "$x=4-y$  \n",
    "$y=x/2+2$"
   ]
  },
  {
   "cell_type": "markdown",
   "metadata": {},
   "source": [
    "$x+y=4$  \n",
    "$-x/2+y=2$"
   ]
  },
  {
   "cell_type": "markdown",
   "metadata": {},
   "source": [
    "<img src='images/fig_09_01.png' width = 300>"
   ]
  },
  {
   "cell_type": "markdown",
   "metadata": {},
   "source": [
    "### 9.1.2 행렬 방정식 다루기"
   ]
  },
  {
   "cell_type": "markdown",
   "metadata": {},
   "source": [
    "행렬을 곱할 때 양쪽에서 같은 방향으로 행렬을 곱해야 한다  \n",
    "\n",
    "$AX=B$  \n",
    "$CAX=CB$"
   ]
  },
  {
   "cell_type": "markdown",
   "metadata": {},
   "source": [
    "solve for $X$  \n",
    "$AX=B$  \n",
    "1) $A^{-1}AX = A^{-1}B$  \n",
    "2) $A^{-1}AX = BA^{-1}$  "
   ]
  },
  {
   "cell_type": "code",
   "execution_count": 1,
   "metadata": {},
   "outputs": [
    {
     "name": "stdout",
     "output_type": "stream",
     "text": [
      "res1:\n",
      " \n",
      "[[-0.  0.  0.  0.]\n",
      " [ 0. -0. -0. -0.]\n",
      " [-0.  0. -0. -0.]\n",
      " [-0. -0. -0. -0.]]\n",
      " \n",
      "res2:\n",
      " \n",
      "[[-1.91183596  1.47567117 -1.04000418 -2.3702092 ]\n",
      " [ 2.27562805 -0.6960302   0.04925936  2.38308409]\n",
      " [-1.74891758 -0.05146413 -0.43233019 -0.58526088]\n",
      " [-0.0718625  -2.5778537   0.79178607  3.04019635]]\n"
     ]
    }
   ],
   "source": [
    "import numpy as np\n",
    "\n",
    "# generate some matrices\n",
    "A = np.random.randn(4,4)\n",
    "B = np.random.randn(4,4)\n",
    "\n",
    "# solve for X\n",
    "# 1) inv(A)@A@X = inv(A)@B\n",
    "# 2) inv(A)@A@X = B@inv(A)\n",
    "\n",
    "X1 = np.linalg.inv(A) @ B\n",
    "X2 = B @ np.linalg.inv(A)\n",
    "\n",
    "# residual (should be zeros matrix)\n",
    "res1 = A@X1 - B\n",
    "res2 = A@X2 - B\n",
    "\n",
    "# which is correct?\n",
    "print('res1:'), print(' ')\n",
    "print( np.round(res1,10) ), print(' ')\n",
    "\n",
    "print('res2:'), print(' ')\n",
    "print( np.round(res2,10) )"
   ]
  },
  {
   "cell_type": "markdown",
   "metadata": {},
   "source": [
    "## 9.2 행 축소"
   ]
  },
  {
   "cell_type": "markdown",
   "metadata": {},
   "source": [
    "행 축소의 목표는 밀집 행렬을 상삼감 행렬로 변환하는 것입니다"
   ]
  },
  {
   "cell_type": "markdown",
   "metadata": {},
   "source": [
    "<img src='images/fig_09_02.png' width = 300>"
   ]
  },
  {
   "cell_type": "markdown",
   "metadata": {},
   "source": [
    "행렬 곱셈을 사용해 행 축소를 표현할 수 있습니다"
   ]
  },
  {
   "cell_type": "markdown",
   "metadata": {},
   "source": [
    "<img src='images/fig_09_03.png' width = 400>"
   ]
  },
  {
   "cell_type": "markdown",
   "metadata": {},
   "source": [
    "행 축소는 행 조작을 통해 행렬을 상삼각 행렬로 변환하는 작업이며, 이는 변환 행렬을 좌측에서 곱해서 구할 수 있습니다"
   ]
  },
  {
   "cell_type": "markdown",
   "metadata": {},
   "source": [
    "## 9.2.1 가우스 소거법"
   ]
  },
  {
   "cell_type": "markdown",
   "metadata": {},
   "source": [
    "역행렬을 구하지 않고 행렬방정식을 푸는 방법  \n",
    "- 행축소를 이용하여 행렬 방정식 풀기"
   ]
  },
  {
   "cell_type": "markdown",
   "metadata": {},
   "source": [
    "<img src='images/fig_09_04.png' width = 1000>    "
   ]
  },
  {
   "cell_type": "markdown",
   "metadata": {},
   "source": [
    "## 9.2.2 가우스-조던 소거법"
   ]
  },
  {
   "cell_type": "markdown",
   "metadata": {},
   "source": [
    "- RREF 기약 행 사다리꼴 형태를 이용하여 행렬 방정식 풀기"
   ]
  },
  {
   "cell_type": "markdown",
   "metadata": {},
   "source": [
    "<img src='images/fig_09_05.png' width = 1000>    "
   ]
  },
  {
   "cell_type": "code",
   "execution_count": 2,
   "metadata": {},
   "outputs": [
    {
     "name": "stdout",
     "output_type": "stream",
     "text": [
      "[[ 1.   1.   4. ]\n",
      " [-0.5  1.   2. ]]\n",
      "Matrix([[1.00000000000000, 1.00000000000000, 4.00000000000000], [-0.500000000000000, 1.00000000000000, 2.00000000000000]])\n"
     ]
    },
    {
     "data": {
      "text/latex": [
       "$\\displaystyle \\left[\\begin{matrix}1 & 0 & 1.33333333333333\\\\0 & 1 & 2.66666666666667\\end{matrix}\\right]$"
      ],
      "text/plain": [
       "Matrix([\n",
       "[1, 0, 1.33333333333333],\n",
       "[0, 1, 2.66666666666667]])"
      ]
     },
     "execution_count": 2,
     "metadata": {},
     "output_type": "execute_result"
    }
   ],
   "source": [
    "# sympy library for RREF\n",
    "import numpy as np\n",
    "import sympy as sym\n",
    "\n",
    "# the augmented matrix\n",
    "M = np.array([ [1,1,4],[-1/2,1,2] ])\n",
    "print(M)\n",
    "\n",
    "# converted into a sympy matrix\n",
    "symMat = sym.Matrix(M)\n",
    "print(symMat)\n",
    "\n",
    "# RREF\n",
    "symMat.rref()[0] # just the first output to get the RREF matrix (the second output is the indices of the pivots per row)"
   ]
  },
  {
   "cell_type": "code",
   "execution_count": null,
   "metadata": {},
   "outputs": [],
   "source": []
  },
  {
   "cell_type": "markdown",
   "metadata": {},
   "source": [
    "## 9.2.3 가우스-조던 소거법을 통한 역행렬 계산"
   ]
  },
  {
   "cell_type": "markdown",
   "metadata": {},
   "source": [
    "가우스-조던 소거법의 핵심은 행축소라는 일련의 행 조작을 통해 연립방정식을 풀 수 있다는 것입니다.  \n",
    "흥미롭게도 가우스-조던 소거법에 대한 내용은 역행렬을 구하는 방법, 즉 연립방정식을 푸는 선형 변환에 대한 설명과 일치합니다.\n"
   ]
  },
  {
   "cell_type": "markdown",
   "metadata": {},
   "source": [
    "가우스-조던 소거법을 이용한 역행렬 구하는 방법  \n",
    "\n",
    "- $rref([A | I])=[I | A^{-1}]$  \n",
    "\n"
   ]
  },
  {
   "cell_type": "markdown",
   "metadata": {},
   "source": [
    "- 행렬식을 계산하지 않고 역행렬을 계산\n",
    "- 행축소(RREF)는 많은 나눗셈이 필요하므로 그만큼 수치 정밀도 오차가 발생할 위험이 높아집니다.\n",
    "- 10^-15 / 10^-16 = 10"
   ]
  },
  {
   "cell_type": "markdown",
   "metadata": {},
   "source": [
    "<img src='images/fig_09_06.png' width = 1000>    "
   ]
  },
  {
   "cell_type": "markdown",
   "metadata": {},
   "source": [
    "## 9.3 LU 분해"
   ]
  },
  {
   "cell_type": "markdown",
   "metadata": {},
   "source": [
    "- $A=LU$  "
   ]
  },
  {
   "cell_type": "markdown",
   "metadata": {},
   "source": [
    "- 행 축소는 $L^{-1}A=U$로 표현할 수 있으며  \n",
    "- 여기서 $L^{-1}$에는 밀집 행렬 $A$를 상삼각(사다리꼴)행렬 $U$로 변환하는 행 변환 집합을 담고 있습니다."
   ]
  },
  {
   "cell_type": "code",
   "execution_count": 3,
   "metadata": {},
   "outputs": [
    {
     "data": {
      "text/plain": [
       "array([[ 1,  1,  1],\n",
       "       [ 2,  3, -1],\n",
       "       [ 2,  3,  3]])"
      ]
     },
     "execution_count": 3,
     "metadata": {},
     "output_type": "execute_result"
    }
   ],
   "source": [
    "import numpy as np\n",
    "import scipy.linalg\n",
    "# simple example with integers\n",
    "\n",
    "# a matrix\n",
    "A = np.array([ [1,1,1], [2,3,-1], [2,3,3] ])\n",
    "A"
   ]
  },
  {
   "cell_type": "markdown",
   "metadata": {},
   "source": [
    "행 축소는 $L^{-1}A=U$  \n",
    "<img src='images/fig_09_07.png' width = 1000>    "
   ]
  },
  {
   "cell_type": "code",
   "execution_count": 4,
   "metadata": {},
   "outputs": [],
   "source": [
    "i1 = np.array([1,0,0])\n",
    "i2 = np.array([0,1,0])\n",
    "i3 = np.array([0,0,1])\n",
    "I = np.array([i1,\n",
    "              i2,\n",
    "              i3])"
   ]
  },
  {
   "cell_type": "code",
   "execution_count": 5,
   "metadata": {},
   "outputs": [
    {
     "name": "stdout",
     "output_type": "stream",
     "text": [
      "r21: \n",
      "[[ 1  0  0]\n",
      " [-2  1  0]\n",
      " [ 0  0  1]]\n",
      "  \n",
      "r31: \n",
      "[[ 1  0  0]\n",
      " [ 0  1  0]\n",
      " [-2  0  1]]\n",
      "  \n",
      "r32: \n",
      "[[ 1  0  0]\n",
      " [ 0  1  0]\n",
      " [ 0 -1  1]]\n",
      "  \n",
      "U: \n",
      "[[ 1  1  1]\n",
      " [ 0  1 -3]\n",
      " [ 0  0  4]]\n",
      "  \n"
     ]
    },
    {
     "data": {
      "text/plain": [
       "(None, None, None)"
      ]
     },
     "execution_count": 5,
     "metadata": {},
     "output_type": "execute_result"
    }
   ],
   "source": [
    "r21 = np.array([i1,\n",
    "                i2-2*i1,\n",
    "                i3])\n",
    "r31 = np.array([i1,\n",
    "                i2,\n",
    "                i3-2*i1])\n",
    "r32 = np.array([i1,\n",
    "                i2,\n",
    "                i3-1*i2])\n",
    "\n",
    "print('r21: '), print(r21), print('  ')\n",
    "print('r31: '), print(r31), print('  ')\n",
    "print('r32: '), print(r32), print('  ')\n",
    "U = r32@r31@r21@A\n",
    "print('U: '), print(U), print('  ')"
   ]
  },
  {
   "cell_type": "markdown",
   "metadata": {},
   "source": [
    "기본 행렬의 역행렬 곱해주기  \n",
    "<img src='images/fig_09_08.png' width = 1000>    "
   ]
  },
  {
   "cell_type": "markdown",
   "metadata": {},
   "source": [
    "기본 행렬의 역행렬 공식  \n",
    "<img src='images/fig_09_09.png' width = 1000>    "
   ]
  },
  {
   "cell_type": "markdown",
   "metadata": {},
   "source": [
    "$A=LU$  \n",
    "<img src='images/fig_09_10.png' width = 1000>    "
   ]
  },
  {
   "cell_type": "code",
   "execution_count": 6,
   "metadata": {},
   "outputs": [
    {
     "name": "stdout",
     "output_type": "stream",
     "text": [
      "A: \n",
      "[[2 2 4]\n",
      " [1 0 3]\n",
      " [2 1 2]]\n",
      " \n",
      "L: \n",
      "[[1.  0.  0. ]\n",
      " [0.5 1.  0. ]\n",
      " [1.  1.  1. ]]\n",
      " \n",
      "U: \n",
      "[[ 2.  2.  4.]\n",
      " [ 0. -1.  1.]\n",
      " [ 0.  0. -3.]]\n",
      " \n",
      "A - LU: \n",
      "[[0. 0. 0.]\n",
      " [0. 0. 0.]\n",
      " [0. 0. 0.]]\n"
     ]
    }
   ],
   "source": [
    "import numpy as np\n",
    "import scipy.linalg\n",
    "\n",
    "# simple example with integers\n",
    "\n",
    "# a matrix\n",
    "A = np.array([ [2,2,4], [1,0,3], [2,1,2] ])\n",
    "print('A: ')\n",
    "print(A), print(' ')\n",
    "\n",
    "# its LU decomposition via scipy (please ignore the first output for now)\n",
    "_,L,U = scipy.linalg.lu(A)\n",
    "\n",
    "# print them out\n",
    "print('L: ')\n",
    "print(L), print(' ')\n",
    "\n",
    "print('U: ')\n",
    "print(U), print(' ')\n",
    "\n",
    "print('A - LU: ')\n",
    "print(A - L@U) # should be zeros"
   ]
  },
  {
   "cell_type": "markdown",
   "metadata": {},
   "source": [
    "### 9.3.1 치환 행렬을 통한 행 교환"
   ]
  },
  {
   "cell_type": "markdown",
   "metadata": {},
   "source": [
    "$PA=LU$  \n",
    "$A=P^{T}LU$ \n",
    " "
   ]
  },
  {
   "cell_type": "markdown",
   "metadata": {},
   "source": [
    "<img src='images/fig_09_11.png' width = 1000>    "
   ]
  },
  {
   "cell_type": "code",
   "execution_count": 7,
   "metadata": {},
   "outputs": [
    {
     "data": {
      "image/png": "[encoded data removed]",
      "text/plain": [
       "<Figure size 1300x400 with 6 Axes>"
      ]
     },
     "metadata": {},
     "output_type": "display_data"
    }
   ],
   "source": [
    "import numpy as np\n",
    "import scipy.linalg\n",
    "import matplotlib.pyplot as plt\n",
    "\n",
    "# matrix sizes\n",
    "m = 4\n",
    "n = 6\n",
    "\n",
    "A = np.random.randn(m,n)\n",
    "\n",
    "P,L,U = scipy.linalg.lu(A)\n",
    "\n",
    "# show the matrices\n",
    "fig,axs = plt.subplots(1,5,figsize=(13,4))\n",
    "\n",
    "axs[0].imshow(A,vmin=-1,vmax=1)\n",
    "axs[0].set_title('A')\n",
    "\n",
    "axs[1].imshow(np.ones((m,n)),cmap='gray',vmin=-1,vmax=1)\n",
    "axs[1].text(n/2,m/2,'=',ha='center',fontsize=30,fontweight='bold')\n",
    "# axs[1].axis('off')\n",
    "\n",
    "axs[2].imshow(P.T,vmin=-1,vmax=1)\n",
    "axs[2].set_title(r'P$^T$')\n",
    "\n",
    "axs[3].imshow(L,vmin=-1,vmax=1)\n",
    "axs[3].set_title('L')\n",
    "\n",
    "h = axs[4].imshow(U,vmin=-1,vmax=1)\n",
    "axs[4].set_title('U')\n",
    "\n",
    "for a in axs:\n",
    "  a.axis('off')\n",
    "  a.set_xlim([-.5,n-.5])\n",
    "  a.set_ylim([m-.5,-.5])\n",
    "\n",
    "\n",
    "fig.colorbar(h,ax=axs[-1],fraction=.05)\n",
    "plt.tight_layout()\n",
    "plt.savefig('Figure_09_01.png',dpi=300)\n",
    "plt.show()"
   ]
  },
  {
   "cell_type": "markdown",
   "metadata": {},
   "source": [
    "## 9.4 정리"
   ]
  },
  {
   "cell_type": "markdown",
   "metadata": {},
   "source": [
    "- 연립방정식은 행렬 방정식으로 변환\n",
    "- 행렬 곱셈은 교환법칙 성립 안함\n",
    "- 행축소란 행렬 A의 행에 스칼라를 곱하고 더하는 방식으로, 행렬을 상삼각행렬 U로 선형변환하는 과정\n",
    "- 선형변환 집합은 $L^{-1}A=U$ 식에서 A의 왼쪽에 곱하는 행렬 $L^{-1}$에 저장할 수 있다\n",
    "- 행 축소는 LU분해를 구현하는 데에도 사용됩니다. LU분해는 몇가지 제약조건하에서 고유하며, 이 제약조건은\n",
    "SciPy의 lu() 함수에 내장되어 있습니다. "
   ]
  },
  {
   "cell_type": "markdown",
   "metadata": {},
   "source": []
  },
  {
   "cell_type": "markdown",
   "metadata": {},
   "source": [
    "## 연습문제"
   ]
  },
  {
   "cell_type": "markdown",
   "metadata": {},
   "source": [
    "### 연습문제 9-1"
   ]
  },
  {
   "cell_type": "markdown",
   "metadata": {},
   "source": [
    "LU분해 연산시간 테스트"
   ]
  },
  {
   "cell_type": "code",
   "execution_count": 8,
   "metadata": {},
   "outputs": [
    {
     "data": {
      "text/plain": [
       "0.4020397663116455"
      ]
     },
     "execution_count": 8,
     "metadata": {},
     "output_type": "execute_result"
    }
   ],
   "source": [
    "# Time-test!\n",
    "\n",
    "import time\n",
    "\n",
    "# start the timer\n",
    "tic = time.time()\n",
    "\n",
    "# run the test\n",
    "for i in range(1000):\n",
    "  A = np.random.randn(100,100)\n",
    "  P,L,U = scipy.linalg.lu(A)\n",
    "\n",
    "# stop the timer\n",
    "toc = time.time() - tic\n",
    "toc # print the result in seconds"
   ]
  },
  {
   "cell_type": "markdown",
   "metadata": {},
   "source": [
    "### 연습문제 9-2"
   ]
  },
  {
   "cell_type": "markdown",
   "metadata": {},
   "source": [
    "행렬곱셈을 이용해 계수-3dml 6X8 행렬을 만듭니다.  \n",
    "LU분해 결과의 세 행렬을 행렬의 계수와 함께 제목에 표시합니다.  \n",
    "세 행렬의 계수를 살펴보고, L의 대각선에 모두 1이 존재함을 주목하세요.  \n",
    "다른 크기와 계수를 갖는 행렬에 대해서 계수를 자유롭게 탐색해 보세요.  "
   ]
  },
  {
   "cell_type": "code",
   "execution_count": 9,
   "metadata": {},
   "outputs": [
    {
     "data": {
      "image/png": "[encoded data removed]",
      "text/plain": [
       "<Figure size 1200x700 with 3 Axes>"
      ]
     },
     "metadata": {},
     "output_type": "display_data"
    }
   ],
   "source": [
    "# make a reduced-rank random matrix\n",
    "\n",
    "# sizes and rank\n",
    "M = 6\n",
    "N = 8\n",
    "r = 3\n",
    "\n",
    "# create the matrix\n",
    "A = np.random.randn(M,r) @ np.random.randn(r,N)\n",
    "\n",
    "# LU\n",
    "P,L,U = scipy.linalg.lu(A)\n",
    "\n",
    "# and plot\n",
    "_,axs = plt.subplots(1,3,figsize=(12,7))\n",
    "\n",
    "axs[0].imshow(A,vmin=-1,vmax=1,cmap='gray')\n",
    "axs[0].set_title(f'A, rank={np.linalg.matrix_rank(A)}')\n",
    "\n",
    "axs[1].imshow(L,vmin=-1,vmax=1,cmap='gray')\n",
    "axs[1].set_title(f'L, rank={np.linalg.matrix_rank(L)}')\n",
    "\n",
    "axs[2].imshow(U,vmin=-1,vmax=1,cmap='gray')\n",
    "axs[2].set_title(f'U, rank={np.linalg.matrix_rank(U)}')\n",
    "\n",
    "plt.tight_layout()\n",
    "plt.savefig('Figure_09_02.png',dpi=300)\n",
    "plt.show()"
   ]
  },
  {
   "cell_type": "markdown",
   "metadata": {},
   "source": [
    "### 연습문제 9-3"
   ]
  },
  {
   "cell_type": "markdown",
   "metadata": {},
   "source": [
    "LU분해를 활용하면 행렬식을 계산할 수 있습니다.  \n",
    "- det(A) = det(L) * det(U) = det(U)  "
   ]
  },
  {
   "cell_type": "code",
   "execution_count": 10,
   "metadata": {},
   "outputs": [
    {
     "name": "stdout",
     "output_type": "stream",
     "text": [
      "det(A) =  -3.4796138770573757\n",
      "det(LU) =  3.479613877057377\n"
     ]
    }
   ],
   "source": [
    "# a matrix and its det\n",
    "M = 6\n",
    "A = np.random.randn(M,M)\n",
    "\n",
    "# LU\n",
    "P,L,U = scipy.linalg.lu(A)\n",
    "\n",
    "# determinant as the product of the diagonals of U\n",
    "detLU = np.prod( np.diag(U) )\n",
    "\n",
    "print('det(A) = ',np.linalg.det(A))\n",
    "print('det(LU) = ',detLU)"
   ]
  },
  {
   "cell_type": "markdown",
   "metadata": {},
   "source": [
    "- det(A) = det(P) * det(L) * det(U) = det(P) * det(U)"
   ]
  },
  {
   "cell_type": "code",
   "execution_count": 11,
   "metadata": {},
   "outputs": [
    {
     "name": "stdout",
     "output_type": "stream",
     "text": [
      "-51.61356664573379 -51.61356664573381\n",
      "2.1316282072803006e-14\n"
     ]
    }
   ],
   "source": [
    "# a matrix and its det\n",
    "M = 6\n",
    "A = np.random.randn(M,M)\n",
    "\n",
    "# LU\n",
    "P,L,U = scipy.linalg.lu(A)\n",
    "\n",
    "# determinant as the product of the diagonals of U\n",
    "detLU = np.prod( np.diag(U) ) * np.linalg.det(P)\n",
    "\n",
    "# check against the det function\n",
    "detNP = np.linalg.det(A)\n",
    "\n",
    "# compare\n",
    "print(detLU,detNP)\n",
    "print(detLU-detNP)"
   ]
  },
  {
   "cell_type": "markdown",
   "metadata": {},
   "source": [
    "### 연습문제 9-4"
   ]
  },
  {
   "cell_type": "markdown",
   "metadata": {},
   "source": [
    "$A=P^{T}LU$  \n",
    "$A^{-1}=(P^{T}LU)^{-1}$  \n",
    "$A^{-1}=U^{-1}L^{-1}P$"
   ]
  },
  {
   "cell_type": "markdown",
   "metadata": {},
   "source": [
    "4X4 난수 행렬에 대해 scipy.linalg.lu을 호출한 결과를 사용해 세번째 방정식을 직접\n",
    "구현해 봅니다.  \n",
    "$AA^{-1}$는 단위행렬인가요?"
   ]
  },
  {
   "cell_type": "code",
   "execution_count": 12,
   "metadata": {},
   "outputs": [
    {
     "data": {
      "text/plain": [
       "array([[ 1.,  0.,  0.,  0.],\n",
       "       [-0.,  1.,  0.,  0.],\n",
       "       [ 0.,  0.,  1., -0.],\n",
       "       [ 0., -0., -0.,  1.]])"
      ]
     },
     "execution_count": 12,
     "metadata": {},
     "output_type": "execute_result"
    }
   ],
   "source": [
    "# matrix sizes\n",
    "m = 4\n",
    "A = np.random.randn(m,m)\n",
    "\n",
    "# LU decomposition\n",
    "P,L,U = scipy.linalg.lu(A)\n",
    "\n",
    "# inverse\n",
    "invViaLU = np.linalg.inv(U) @ np.linalg.inv(L) @ P.T\n",
    "\n",
    "# \"regular\" inverse\n",
    "invViaInv = np.linalg.inv(A)\n",
    "\n",
    "np.round( A@invViaLU ,10)"
   ]
  },
  {
   "cell_type": "markdown",
   "metadata": {},
   "source": [
    "### 연습문제 9-5"
   ]
  },
  {
   "cell_type": "markdown",
   "metadata": {},
   "source": [
    "행렬 $A=PLU$에서 치환 행렬을 사용하지 않고도 $A^{T}A$를 $U^{T}L^{T}LU$로 계산 할 수 있습니다.  \n",
    "치환 행렬을 삭제할 수 있는 이유는 무엇인가요?  \n",
    "$A^{T}A = U^{T}L^{T}LU$"
   ]
  },
  {
   "cell_type": "markdown",
   "metadata": {},
   "source": [
    "<img src='images/fig_09_12.png' width = 500>   "
   ]
  },
  {
   "cell_type": "code",
   "execution_count": 13,
   "metadata": {},
   "outputs": [
    {
     "data": {
      "text/plain": [
       "array([[ 0.,  0.,  0., -0.],\n",
       "       [ 0.,  0., -0.,  0.],\n",
       "       [ 0.,  0.,  0.,  0.],\n",
       "       [ 0.,  0., -0.,  0.]])"
      ]
     },
     "execution_count": 13,
     "metadata": {},
     "output_type": "execute_result"
    }
   ],
   "source": [
    "# The reason is that writing out the equation leads to PtP in the middle, which is the identity matrix. \n",
    "# Conceptually, it means that any row swaps are undone when multiplying by the transpose.\n",
    "\n",
    "# create a matrix\n",
    "A = np.random.randn(4,4)\n",
    "\n",
    "# LUP\n",
    "P,L,U = scipy.linalg.lu(A)\n",
    "\n",
    "# compute AtA via LU\n",
    "AtA_lu = U.T @ L.T @ L @ U\n",
    "\n",
    "# direct computation\n",
    "AtA_direct = A.T @ A\n",
    "\n",
    "# compare to direct computation\n",
    "np.round( AtA_lu - AtA_direct ,10)"
   ]
  }
 ],
 "metadata": {
  "kernelspec": {
   "display_name": "base",
   "language": "python",
   "name": "python3"
  },
  "language_info": {
   "codemirror_mode": {
    "name": "ipython",
    "version": 3
   },
   "file_extension": ".py",
   "mimetype": "text/x-python",
   "name": "python",
   "nbconvert_exporter": "python",
   "pygments_lexer": "ipython3",
   "version": "3.8.8"
  }
 },
 "nbformat": 4,
 "nbformat_minor": 2
}
