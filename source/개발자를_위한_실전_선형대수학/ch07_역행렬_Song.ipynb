{
 "cells": [
  {
   "cell_type": "markdown",
   "id": "405bad8c",
   "metadata": {},
   "source": [
    "# 역행렬"
   ]
  },
  {
   "cell_type": "markdown",
   "id": "85274661",
   "metadata": {},
   "source": [
    "- A의 역행렬\n",
    "    - A와 곱해서 단위 행렬을 만드는 행렬\n",
    "    - $A^{-1}$\n",
    "    - $A^{-1}A = I$\n",
    "    - 행렬을 취소(cancel) 하는 것과 같다\n",
    "    - 행렬을 단위 행렬로 선형 변환 하는 것\n",
    "- 역행렬을 구하는 이유\n",
    "    - $Ax=b$ 형태의 행렬 방정식에서 \n",
    "    - A와 b는 이미 알고 있는 값\n",
    "    - x를 구하려면, x에 적용된 A 행렬을 **취소** 해야 한다\n",
    "- 일반적인 답을 구하는 과정\n",
    "    - $Ax = b$\n",
    "    - $A^{-1}Ax = A^{-1}b$\n",
    "    - $Ix = A^{-1}b$\n",
    "    - $x = A^{-1}b$\n",
    "    "
   ]
  },
  {
   "cell_type": "markdown",
   "id": "5553f530",
   "metadata": {},
   "source": [
    "# 역행렬의 유형과 가역의 조건"
   ]
  },
  {
   "cell_type": "markdown",
   "id": "a09ea09e",
   "metadata": {},
   "source": [
    "- 역행렬이 항상 존재 하는 것은 아니다.\n",
    "- 다음과 같이 세가지 종류의 역행렬이 있다.\n",
    "\n",
    "**완전 역행렬**\n",
    "- $A^{-1}A = AA^{-1} = I$\n",
    "- 완전 역행렬이 되기 위한 조건\n",
    "    - 정방 행렬\n",
    "    - 최대 계수\n",
    "    \n",
    "**단방향 역행렬**\n",
    "- 정방이 아닌 행렬의 역행렬\n",
    "    - 최대로 가능한 계수일 때만 가능\n",
    "        - 높은 행렬 T(MxN, M>N)은 계수가 N일때\n",
    "        - 넓은 행렬 W(MxN, M<N)은 계수가 M일 때\n",
    "    - 높은 행렬 T는 왼쪽 역행렬\n",
    "        - $LT=I$\n",
    "    - 넓은 행렬 W는 오른쪽 역행렬\n",
    "        - $WR=I$\n",
    "\n",
    "**의사 역행렬**\n",
    "- 모든 행렬에 계수 상관 없이 존재\n",
    "    - 행렬이 정방 최대 계수 일 때, 의사역행렬 은 완전 역행렬과 동일\n",
    "    - 행렬이 정방이 아닌 최대계수를 가질 때, 의사역행렬은 왼쪽/오른쪽 역행렬과 동일\n",
    "    - 축소계수 행렬(특이 행렬)의 의사 역행렬은,단위 행렬과 가까운 행렬로 변환해 줌\n",
    "- 특이 또는 비가역 행렬\n",
    "    - 완전 역행렬, 단방향 역행렬이 존재 하지 않는 행렬\n",
    "    - 축소 계수 또는 계수 부족과 같은 의미"
   ]
  },
  {
   "cell_type": "markdown",
   "id": "67fa1658",
   "metadata": {},
   "source": [
    "### 연습 문제 7-1\n",
    "- 역행렬의 역행렬은 원래의 행렬이 된다.\n",
    "- 즉, $(A^{-1})^{-1} = A$ 로 \n",
    "- $1/(1/a) = a$ 와 유사 \n",
    "- 파이썬을 사용 증명해 보라"
   ]
  },
  {
   "cell_type": "code",
   "execution_count": 2,
   "id": "eaea3f6c",
   "metadata": {},
   "outputs": [],
   "source": [
    "import numpy as np\n",
    "\n",
    "n = 10\n",
    "A = np.random.randn(n , n)"
   ]
  },
  {
   "cell_type": "code",
   "execution_count": 4,
   "id": "8f978941",
   "metadata": {
    "scrolled": true
   },
   "outputs": [
    {
     "data": {
      "text/plain": [
       "True"
      ]
     },
     "execution_count": 4,
     "metadata": {},
     "output_type": "execute_result"
    }
   ],
   "source": [
    "A_1 = np.linalg.inv(A)\n",
    "A_1_1 = np.linalg.inv(A_1)\n",
    "np.allclose(A, A_1_1)"
   ]
  },
  {
   "cell_type": "markdown",
   "id": "804b2ab9",
   "metadata": {},
   "source": [
    "# 역행렬 계산\n",
    "- 스칼라 역으로 역행렬 계산 시도\n",
    "\n",
    "$\n",
    "\\begin{bmatrix}\n",
    "a & b \\\\\n",
    "c & d \\\\\n",
    "\\end{bmatrix}^{-1}  = \n",
    "\\begin{bmatrix}\n",
    "1/a & 1/b \\\\\n",
    "1/c & 1/d \\\\\n",
    "\\end{bmatrix}\n",
    "$\n",
    "\n",
    "- 원하는 결과가 아님\n",
    "\n",
    "$\n",
    "\\begin{bmatrix}\n",
    "a & b \\\\\n",
    "c & d \\\\\n",
    "\\end{bmatrix}^{-1}\n",
    "\\begin{bmatrix}\n",
    "1/a & 1/b \\\\\n",
    "1/c & 1/d \\\\\n",
    "\\end{bmatrix} = \n",
    "\\begin{bmatrix}\n",
    "1+b/c & a/b+b/d \\\\\n",
    "c/a + d/c & 1+ c/b \\\\\n",
    "\\end{bmatrix} \n",
    "$"
   ]
  },
  {
   "cell_type": "markdown",
   "id": "b7f676ae",
   "metadata": {},
   "source": [
    "## 2x2 행렬의 역행렬\n",
    "\n",
    "- 2x2 행렬의 역행렬을 구하는 법\n",
    "    - 대각 원소를 교환\n",
    "    - 대학이 아닌 원소에 -1을 곱한다\n",
    "    - 행렬식으로 나눠 준다\n",
    "    \n",
    "- 수식 표현\n",
    "\n",
    "$\n",
    "A= \\begin{bmatrix}\n",
    "a & b \\\\\n",
    "c & d \\\\\n",
    "\\end{bmatrix}\n",
    "$\n",
    "\n",
    "$\n",
    "A^{-1}= \\frac{1}{ad-bc}\\begin{bmatrix}\n",
    "d & -b \\\\\n",
    "-c & a \\\\\n",
    "\\end{bmatrix}\n",
    "$\n",
    "\n",
    "$\n",
    "AA^{-1}= \\begin{bmatrix}\n",
    "a & b \\\\\n",
    "c & d \\\\\n",
    "\\end{bmatrix}\\frac{1}{ad-bc}\\begin{bmatrix}\n",
    "d & -b \\\\\n",
    "-c & a \\\\\n",
    "\\end{bmatrix}\n",
    "= \\frac{1}{ad-bc}\\begin{bmatrix}\n",
    "ad-bc & 0 \\\\\n",
    "0 & ad-bc \\\\\n",
    "\\end{bmatrix} =\n",
    "\\begin{bmatrix}\n",
    "1 & 0 \\\\\n",
    "0 & 1 \\\\\n",
    "\\end{bmatrix}\n",
    "$"
   ]
  },
  {
   "cell_type": "code",
   "execution_count": 143,
   "id": "9245c135",
   "metadata": {},
   "outputs": [
    {
     "data": {
      "text/plain": [
       "array([[1., 0.],\n",
       "       [0., 1.]])"
      ]
     },
     "execution_count": 143,
     "metadata": {},
     "output_type": "execute_result"
    }
   ],
   "source": [
    "A = np.array([[1, 4], [2, 7]])\n",
    "Ainv = np.linalg.inv(A)\n",
    "A@Ainv"
   ]
  },
  {
   "cell_type": "code",
   "execution_count": 144,
   "id": "a94fd3af",
   "metadata": {},
   "outputs": [
    {
     "data": {
      "text/plain": [
       "array([[1., 0.],\n",
       "       [0., 1.]])"
      ]
     },
     "execution_count": 144,
     "metadata": {},
     "output_type": "execute_result"
    }
   ],
   "source": [
    "Ainv@A"
   ]
  },
  {
   "cell_type": "code",
   "execution_count": 147,
   "id": "a6a12730",
   "metadata": {},
   "outputs": [
    {
     "data": {
      "image/png": "[encoded data removed]",
      "text/plain": [
       "<Figure size 1000x600 with 3 Axes>"
      ]
     },
     "metadata": {},
     "output_type": "display_data"
    }
   ],
   "source": [
    "# The matrices visualized\n",
    "\n",
    "fig,axs = plt.subplots(1,3,figsize=(10,6))\n",
    "\n",
    "\n",
    "# the matrix\n",
    "axs[0].imshow(A,cmap='gray')\n",
    "axs[0].set_title('The matrix')\n",
    "for (j,i),num in np.ndenumerate(A):\n",
    "    axs[0].text(i,j,num,color=[.8,.8,.8],ha='center',va='center',fontsize=28)\n",
    "\n",
    "# its inverse\n",
    "axs[1].imshow(Ainv,cmap='gray')\n",
    "axs[1].set_title('Its inverse')\n",
    "for (j,i),num in np.ndenumerate(Ainv):\n",
    "    axs[1].text(i,j,num,color=[.8,.8,.8],ha='center',va='center',fontsize=28)\n",
    "\n",
    "# their product\n",
    "AAi = A@Ainv\n",
    "axs[2].imshow(AAi,cmap='gray')\n",
    "axs[2].set_title('Their product')\n",
    "for (j,i),num in np.ndenumerate(AAi):\n",
    "    axs[2].text(i,j,num,color=[.8,.8,.8],ha='center',va='center',fontsize=28)\n",
    "\n",
    "\n",
    "# common properties\n",
    "for i in range(3):\n",
    "    axs[i].set_xticks([])\n",
    "    axs[i].set_yticks([])\n",
    "\n",
    "plt.tight_layout()\n",
    "plt.show()"
   ]
  },
  {
   "cell_type": "markdown",
   "id": "f5b6ec4a",
   "metadata": {},
   "source": [
    "- 특이(축소 계수) 행렬의 예"
   ]
  },
  {
   "cell_type": "code",
   "execution_count": 148,
   "id": "c7458b7a",
   "metadata": {},
   "outputs": [
    {
     "ename": "LinAlgError",
     "evalue": "Singular matrix",
     "output_type": "error",
     "traceback": [
      "\u001b[0;31m---------------------------------------------------------------------------\u001b[0m",
      "\u001b[0;31mLinAlgError\u001b[0m                               Traceback (most recent call last)",
      "Cell \u001b[0;32mIn[148], line 2\u001b[0m\n\u001b[1;32m      1\u001b[0m A \u001b[38;5;241m=\u001b[39m np\u001b[38;5;241m.\u001b[39marray([[\u001b[38;5;241m1\u001b[39m, \u001b[38;5;241m4\u001b[39m], [\u001b[38;5;241m2\u001b[39m,\u001b[38;5;241m8\u001b[39m]])\n\u001b[0;32m----> 2\u001b[0m Ainv \u001b[38;5;241m=\u001b[39m \u001b[43mnp\u001b[49m\u001b[38;5;241;43m.\u001b[39;49m\u001b[43mlinalg\u001b[49m\u001b[38;5;241;43m.\u001b[39;49m\u001b[43minv\u001b[49m\u001b[43m(\u001b[49m\u001b[43mA\u001b[49m\u001b[43m)\u001b[49m\n",
      "File \u001b[0;32m~/anaconda3/envs/trading/lib/python3.10/site-packages/numpy/linalg/linalg.py:561\u001b[0m, in \u001b[0;36minv\u001b[0;34m(a)\u001b[0m\n\u001b[1;32m    559\u001b[0m signature \u001b[38;5;241m=\u001b[39m \u001b[38;5;124m'\u001b[39m\u001b[38;5;124mD->D\u001b[39m\u001b[38;5;124m'\u001b[39m \u001b[38;5;28;01mif\u001b[39;00m isComplexType(t) \u001b[38;5;28;01melse\u001b[39;00m \u001b[38;5;124m'\u001b[39m\u001b[38;5;124md->d\u001b[39m\u001b[38;5;124m'\u001b[39m\n\u001b[1;32m    560\u001b[0m extobj \u001b[38;5;241m=\u001b[39m get_linalg_error_extobj(_raise_linalgerror_singular)\n\u001b[0;32m--> 561\u001b[0m ainv \u001b[38;5;241m=\u001b[39m \u001b[43m_umath_linalg\u001b[49m\u001b[38;5;241;43m.\u001b[39;49m\u001b[43minv\u001b[49m\u001b[43m(\u001b[49m\u001b[43ma\u001b[49m\u001b[43m,\u001b[49m\u001b[43m \u001b[49m\u001b[43msignature\u001b[49m\u001b[38;5;241;43m=\u001b[39;49m\u001b[43msignature\u001b[49m\u001b[43m,\u001b[49m\u001b[43m \u001b[49m\u001b[43mextobj\u001b[49m\u001b[38;5;241;43m=\u001b[39;49m\u001b[43mextobj\u001b[49m\u001b[43m)\u001b[49m\n\u001b[1;32m    562\u001b[0m \u001b[38;5;28;01mreturn\u001b[39;00m wrap(ainv\u001b[38;5;241m.\u001b[39mastype(result_t, copy\u001b[38;5;241m=\u001b[39m\u001b[38;5;28;01mFalse\u001b[39;00m))\n",
      "File \u001b[0;32m~/anaconda3/envs/trading/lib/python3.10/site-packages/numpy/linalg/linalg.py:112\u001b[0m, in \u001b[0;36m_raise_linalgerror_singular\u001b[0;34m(err, flag)\u001b[0m\n\u001b[1;32m    111\u001b[0m \u001b[38;5;28;01mdef\u001b[39;00m \u001b[38;5;21m_raise_linalgerror_singular\u001b[39m(err, flag):\n\u001b[0;32m--> 112\u001b[0m     \u001b[38;5;28;01mraise\u001b[39;00m LinAlgError(\u001b[38;5;124m\"\u001b[39m\u001b[38;5;124mSingular matrix\u001b[39m\u001b[38;5;124m\"\u001b[39m)\n",
      "\u001b[0;31mLinAlgError\u001b[0m: Singular matrix"
     ]
    }
   ],
   "source": [
    "A = np.array([[1, 4], [2,8]])\n",
    "Ainv = np.linalg.inv(A)"
   ]
  },
  {
   "cell_type": "markdown",
   "id": "07266263",
   "metadata": {},
   "source": [
    "- 축소 계수 행렬은 역행렬을 가지지 않는다.\n",
    "    - 의사역행렬은 가진다"
   ]
  },
  {
   "cell_type": "markdown",
   "id": "735c1f75",
   "metadata": {},
   "source": [
    "## 대각 행렬의 역행렬\n",
    "- 정방 대각 행렬의 역행열 계산은 쉽다\n",
    "\n",
    "$\n",
    " \\begin{bmatrix}\n",
    "2 & 0 & 0 \\\\\n",
    "0 & 3 & 0 \\\\\n",
    "0 & 0 & 4 \\\\\n",
    "\\end{bmatrix}\n",
    "\\begin{bmatrix}\n",
    "b & 0 & 0 \\\\\n",
    "0 & c & 0 \\\\\n",
    "0 & 0 & d \\\\\n",
    "\\end{bmatrix} = \n",
    "\\begin{bmatrix}\n",
    "2b & 0 & 0 \\\\\n",
    "0 & 3c & 0 \\\\\n",
    "0 & 0 & 4d \\\\\n",
    "\\end{bmatrix}\n",
    "$\n",
    "\n",
    "- 위 결과가 단위 행렬이 되려면, b=1/2, c=1/3, d=1/4\n",
    "- 대각선에 0이 있는 경우는 1/0을 구할 수 없기에 역행렬을 구할 수 없다."
   ]
  },
  {
   "cell_type": "markdown",
   "id": "9321cc2e",
   "metadata": {},
   "source": [
    "## 임의의 정방 최대계수 행렬의 역행렬\n",
    "- np.linalg.inv 를 통해 역행렬을 구할 수 있다.\n",
    "- 역행렬을 구하는 과정에서 다음과 같은 중간 단계의 행렬이 생성된다\n",
    "    - 소행렬(minors matrix)\n",
    "    - 격자행렬(grid matrix)\n",
    "    - 여인수행렬(cofactors matrix)\n",
    "    - 수반행렬(adjugate matrix)\n",
    "- 소행렬    \n",
    "    - 부분행렬의 행렬식으로 구성\n",
    "    - 소행렬의 각 원소 $m_{i,j}$는 i번째 행과 j번째 열을 제외하고 만든 부분행렬의 행렬식\n",
    "\n",
    "<img src='./images/fig_07_02.png'>\n",
    "\n",
    "- 격자행렬\n",
    "    - +1과 -1을 교대로 사용하는 체스판\n",
    "    - $g_{i, j} = -1^{i+j}$\n",
    "    \n",
    "- 여인수행렬\n",
    "    - 소행렬과 격자행렬의 아다마르곱의 결과\n",
    "    \n",
    "- 수반행렬\n",
    "    - 여인수행렬의 전치\n",
    "    - $A^{-1} = \\frac{1}{det(A)}adj(A)$\n",
    "\n",
    "<img src='./images/fig_07_03.png'>"
   ]
  },
  {
   "cell_type": "markdown",
   "id": "21b55a3c",
   "metadata": {},
   "source": [
    "### 연습 문제 7-2\n",
    "- 7.3.3 '임의의 정방 최대계수 행렬의 역행렬' 의 알고리즘을 구현하라\n",
    "- 그림 7-3을 재현 하라"
   ]
  },
  {
   "cell_type": "code",
   "execution_count": 12,
   "id": "4278240e",
   "metadata": {},
   "outputs": [
    {
     "data": {
      "text/plain": [
       "True"
      ]
     },
     "execution_count": 12,
     "metadata": {},
     "output_type": "execute_result"
    }
   ],
   "source": [
    "n = 4\n",
    "A = np.random.randn(n, n)\n",
    "\n",
    "M = np.zeros((n ,n)) # minors matrix\n",
    "G = np.zeros((n ,n)) # grid matrix\n",
    "\n",
    "for i in range(n):\n",
    "    for j in range(n):\n",
    "        rows = [True]*n\n",
    "        rows[i] = False\n",
    "        cols = [True]*n\n",
    "        cols[j] = False\n",
    "        \n",
    "        M[i, j] = np.linalg.det(A[rows, :][:, cols])\n",
    "        G[i, j] = (-1)**(i+j)\n",
    "        \n",
    "C = M*G # cofactors\n",
    "Ainv = C.T/np.linalg.det(A)\n",
    "\n",
    "np.allclose(Ainv, np.linalg.inv(A))"
   ]
  },
  {
   "cell_type": "code",
   "execution_count": 15,
   "id": "689afb46",
   "metadata": {},
   "outputs": [
    {
     "data": {
      "image/png": "[encoded data removed]",
      "text/plain": [
       "<Figure size 1400x700 with 6 Axes>"
      ]
     },
     "metadata": {},
     "output_type": "display_data"
    }
   ],
   "source": [
    "# plot them\n",
    "import matplotlib.pyplot as plt\n",
    "\n",
    "fig,axs = plt.subplots(2,3,figsize=(14,7))\n",
    "\n",
    "axs[0,0].imshow(M,cmap='gray')\n",
    "axs[0,0].set_title('Minors matrix')\n",
    "\n",
    "axs[0,1].imshow(G,cmap='gray')\n",
    "axs[0,1].set_title('Grid matrix')\n",
    "\n",
    "axs[0,2].imshow(C,cmap='gray')\n",
    "axs[0,2].set_title('Cofactors matrix')\n",
    "\n",
    "axs[1,0].imshow(Ainv,cmap='gray')\n",
    "axs[1,0].set_title('Adjugate (inverse)')\n",
    "\n",
    "axs[1,1].imshow( np.linalg.inv(A),cmap='gray')\n",
    "axs[1,1].set_title('np.linalg.inv')\n",
    "\n",
    "axs[1,2].imshow(A@Ainv,cmap='gray')\n",
    "axs[1,2].set_title('A@Ainv')\n",
    "\n",
    "for a in axs.flatten():\n",
    "    a.set_xticks([])\n",
    "    a.set_yticks([])\n",
    "\n",
    "\n",
    "plt.savefig('Figure_07_03.png',dpi=300)\n",
    "plt.show()"
   ]
  },
  {
   "cell_type": "markdown",
   "id": "8dba51e8",
   "metadata": {},
   "source": [
    "## 단방향 역행렬\n",
    "- 높은 행렬 T(MxN, M>N)의 역행렬 \n",
    "    - 완전 역행렬은 존재하지 않지만, 왼쪽 역행렬\n",
    "    - $LT=I$는 존재\n",
    "    - 최대계수가 N\n",
    "- $L$를 찾는 방법\n",
    "    - T의 전치를 T에 곱해 T를 정방 행렬로 만든다\n",
    "    - 위 정방행렬의 역행렬을 구한다\n",
    "    - 위 형행렬에 T의 전치를 곱한다"
   ]
  },
  {
   "cell_type": "code",
   "execution_count": 154,
   "id": "8b215ecf",
   "metadata": {},
   "outputs": [],
   "source": [
    "T = np.random.randint(-10, 11, size=(40, 4))"
   ]
  },
  {
   "cell_type": "code",
   "execution_count": 155,
   "id": "18a9c507",
   "metadata": {},
   "outputs": [
    {
     "data": {
      "text/plain": [
       "(4, 4)"
      ]
     },
     "execution_count": 155,
     "metadata": {},
     "output_type": "execute_result"
    }
   ],
   "source": [
    "TtT = T.T@T\n",
    "TtT.shape"
   ]
  },
  {
   "cell_type": "code",
   "execution_count": 156,
   "id": "9dfa51ef",
   "metadata": {},
   "outputs": [
    {
     "data": {
      "text/plain": [
       "array([[1., 0., 0., 0.],\n",
       "       [0., 1., 0., 0.],\n",
       "       [0., 0., 1., 0.],\n",
       "       [0., 0., 0., 1.]])"
      ]
     },
     "execution_count": 156,
     "metadata": {},
     "output_type": "execute_result"
    }
   ],
   "source": [
    "np.eye(4,4)"
   ]
  },
  {
   "cell_type": "code",
   "execution_count": 157,
   "id": "9c302305",
   "metadata": {},
   "outputs": [
    {
     "data": {
      "text/plain": [
       "True"
      ]
     },
     "execution_count": 157,
     "metadata": {},
     "output_type": "execute_result"
    }
   ],
   "source": [
    "TtT_inv = np.linalg.inv(TtT)\n",
    "np.allclose(TtT_inv@TtT, np.eye(T.shape[1], T.shape[1]))"
   ]
  },
  {
   "cell_type": "markdown",
   "id": "4aa5937d",
   "metadata": {},
   "source": [
    "- $(T^TT)^{-1}(T^TT) = I$\n",
    "- $L = (T^TT)^{-1}T^T$"
   ]
  },
  {
   "cell_type": "code",
   "execution_count": 159,
   "id": "d979f813",
   "metadata": {},
   "outputs": [
    {
     "data": {
      "text/plain": [
       "True"
      ]
     },
     "execution_count": 159,
     "metadata": {},
     "output_type": "execute_result"
    }
   ],
   "source": [
    "L = TtT_inv@T.T\n",
    "np.allclose(L@T, np.eye(T.shape[1], T.shape[1]))"
   ]
  },
  {
   "cell_type": "code",
   "execution_count": 158,
   "id": "3a2183fd",
   "metadata": {},
   "outputs": [
    {
     "data": {
      "text/plain": [
       "((4, 40), (40, 4))"
      ]
     },
     "execution_count": 158,
     "metadata": {},
     "output_type": "execute_result"
    }
   ],
   "source": [
    "L.shape, T.shape"
   ]
  },
  {
   "cell_type": "code",
   "execution_count": 35,
   "id": "f8313835",
   "metadata": {},
   "outputs": [
    {
     "data": {
      "text/plain": [
       "(40, 40)"
      ]
     },
     "execution_count": 35,
     "metadata": {},
     "output_type": "execute_result"
    }
   ],
   "source": [
    "(T@L).shape"
   ]
  },
  {
   "cell_type": "code",
   "execution_count": 36,
   "id": "9a0c4a54",
   "metadata": {},
   "outputs": [
    {
     "data": {
      "text/plain": [
       "False"
      ]
     },
     "execution_count": 36,
     "metadata": {},
     "output_type": "execute_result"
    }
   ],
   "source": [
    "np.allclose(T@L, np.eye(T.shape[0], T.shape[0]))"
   ]
  },
  {
   "cell_type": "markdown",
   "id": "059a6181",
   "metadata": {},
   "source": [
    "<img src='./images/fig_07_04.png'>"
   ]
  },
  {
   "cell_type": "markdown",
   "id": "2f9a8b1f",
   "metadata": {},
   "source": [
    "- 왼쪽 역행렬의 중요도\n",
    "    - 통계 모델을 데이터에 적합하는 방법과 최소제곱법에서 사용\n",
    "    - 현대 인류 문명에 가장 중요한 기여"
   ]
  },
  {
   "cell_type": "markdown",
   "id": "1c19bf96",
   "metadata": {},
   "source": [
    "### 연습 문제 7-4\n",
    "- 넓은 행렬에 대한 오른쪽 행렬을 유도 한다\n",
    "- 그림 7-4를 재현 한다."
   ]
  },
  {
   "cell_type": "code",
   "execution_count": 52,
   "id": "ddf0050a",
   "metadata": {},
   "outputs": [],
   "source": [
    "W = np.random.randint(-10,11, size=(4, 40))"
   ]
  },
  {
   "cell_type": "code",
   "execution_count": 53,
   "id": "2b36674a",
   "metadata": {},
   "outputs": [
    {
     "data": {
      "text/plain": [
       "(4, 4)"
      ]
     },
     "execution_count": 53,
     "metadata": {},
     "output_type": "execute_result"
    }
   ],
   "source": [
    "WWt = W@W.T\n",
    "WWt.shape"
   ]
  },
  {
   "cell_type": "code",
   "execution_count": 54,
   "id": "65e8af49",
   "metadata": {},
   "outputs": [
    {
     "data": {
      "text/plain": [
       "(4, 4)"
      ]
     },
     "execution_count": 54,
     "metadata": {},
     "output_type": "execute_result"
    }
   ],
   "source": [
    "WWt_inv = np.linalg.inv(WWt)\n",
    "WWt_inv.shape"
   ]
  },
  {
   "cell_type": "code",
   "execution_count": 55,
   "id": "a7524e27",
   "metadata": {},
   "outputs": [
    {
     "data": {
      "text/plain": [
       "True"
      ]
     },
     "execution_count": 55,
     "metadata": {},
     "output_type": "execute_result"
    }
   ],
   "source": [
    "np.allclose(WWt@WWt_inv, np.eye(W.shape[0], W.shape[0]))"
   ]
  },
  {
   "cell_type": "code",
   "execution_count": 56,
   "id": "4ee85674",
   "metadata": {},
   "outputs": [],
   "source": [
    "R = W.T@WWt_inv"
   ]
  },
  {
   "cell_type": "code",
   "execution_count": 57,
   "id": "b9dd95cc",
   "metadata": {},
   "outputs": [
    {
     "data": {
      "text/plain": [
       "True"
      ]
     },
     "execution_count": 57,
     "metadata": {},
     "output_type": "execute_result"
    }
   ],
   "source": [
    "np.allclose(W@R, np.eye(W.shape[0], W.shape[0]))"
   ]
  },
  {
   "cell_type": "code",
   "execution_count": 59,
   "id": "3faa30e0",
   "metadata": {},
   "outputs": [
    {
     "data": {
      "image/png": "[encoded data removed]",
      "text/plain": [
       "<Figure size 1000x1000 with 4 Axes>"
      ]
     },
     "metadata": {},
     "output_type": "display_data"
    }
   ],
   "source": [
    "# visualize! of course :)\n",
    "\n",
    "fig,axs = plt.subplots(2,2,figsize=(10,10))\n",
    "\n",
    "axs[0,0].imshow(W,cmap='gray')\n",
    "axs[0,0].set_title('Wide matrix')\n",
    "\n",
    "axs[0,1].imshow(R,cmap='gray')\n",
    "axs[0,1].set_title('Right inverse')\n",
    "\n",
    "axs[1,0].imshow(R@W,cmap='gray')\n",
    "axs[1,0].set_title('R@W')\n",
    "\n",
    "axs[1,1].imshow(W@R,cmap='gray')\n",
    "axs[1,1].set_title('W@R')\n",
    "\n",
    "for a in axs.flatten():\n",
    "    a.set_xticks([])\n",
    "    a.set_yticks([])\n",
    "  \n",
    "plt.tight_layout()\n",
    "plt.show()"
   ]
  },
  {
   "cell_type": "markdown",
   "id": "20e86363",
   "metadata": {},
   "source": [
    "# 역행렬의 유일성\n",
    "- 역행렬은 하나만 있다는 것에 대한 증명\n",
    "    - 행렬 A는 가역적\n",
    "    - 행렬 B와 C가 A의 역행렬\n",
    "    - $B \\neq C$ 로 가정\n",
    "    - 행렬 B와 C가 서로 다른다\n",
    "    - $C = CI = CAB = IB = B$\n",
    "    - $B \\neq C$ 가정은 틀림"
   ]
  },
  {
   "cell_type": "markdown",
   "id": "9d74473b",
   "metadata": {},
   "source": [
    "# 무어-펜로스 의사역행렬\n",
    "- 특이 행렬의 의사역행렬은 유일하지 않다 (무한하다)\n",
    "- 무어-펜로스 의사역행렬(Moore-Pemose pseudo inverse matrix), MP\n",
    "    - 가장 일반적으로 사용되는 의사역행렬\n",
    "    - np.linalg.pinv() 함수 사용\n",
    "    - 알고리즘 설명은 12장에서"
   ]
  },
  {
   "cell_type": "code",
   "execution_count": 160,
   "id": "5930e9a3",
   "metadata": {},
   "outputs": [
    {
     "data": {
      "text/plain": [
       "array([[0.2, 0.4],\n",
       "       [0.4, 0.8]])"
      ]
     },
     "execution_count": 160,
     "metadata": {},
     "output_type": "execute_result"
    }
   ],
   "source": [
    "A = np.array([[1, 4], [2, 8]])\n",
    "Apinv = np.linalg.pinv(A)\n",
    "A@Apinv"
   ]
  },
  {
   "cell_type": "markdown",
   "id": "9f98d702",
   "metadata": {},
   "source": [
    "### 연습 문제 7-5\n",
    "- 의사가역행렬이 가역 행렬의 완전 역행렬과 같다는 것을 보여라"
   ]
  },
  {
   "cell_type": "code",
   "execution_count": 63,
   "id": "93ddc819",
   "metadata": {},
   "outputs": [
    {
     "data": {
      "text/plain": [
       "True"
      ]
     },
     "execution_count": 63,
     "metadata": {},
     "output_type": "execute_result"
    }
   ],
   "source": [
    "M = 4\n",
    "A = np.random.randn(M, M)\n",
    "Ainv = np.linalg.inv(A)\n",
    "Apinv = np.linalg.pinv(A)\n",
    "np.allclose(Ainv, Apinv)"
   ]
  },
  {
   "cell_type": "markdown",
   "id": "0187a21a",
   "metadata": {},
   "source": [
    "- 높은 행렬의 경우 의사가역행렬이 왼쪽 역행렬과 같고"
   ]
  },
  {
   "cell_type": "code",
   "execution_count": 64,
   "id": "babb688b",
   "metadata": {},
   "outputs": [],
   "source": [
    "T = np.random.randint(-10, 11, size=(40, 4))\n",
    "TtT = T.T@T\n",
    "TtT_inv = np.linalg.inv(TtT)\n",
    "L = TtT_inv@T.T"
   ]
  },
  {
   "cell_type": "code",
   "execution_count": 65,
   "id": "5ddaf7bb",
   "metadata": {},
   "outputs": [],
   "source": [
    "Tpinv = np.linalg.pinv(T)"
   ]
  },
  {
   "cell_type": "code",
   "execution_count": 66,
   "id": "48f716f5",
   "metadata": {},
   "outputs": [
    {
     "data": {
      "text/plain": [
       "True"
      ]
     },
     "execution_count": 66,
     "metadata": {},
     "output_type": "execute_result"
    }
   ],
   "source": [
    "np.allclose(L, Tpinv)"
   ]
  },
  {
   "cell_type": "markdown",
   "id": "67404e20",
   "metadata": {},
   "source": [
    "- 넓은 행렬의 경우는 오른쪽 행렬과 같음을 보여라"
   ]
  },
  {
   "cell_type": "code",
   "execution_count": 67,
   "id": "c057bc1e",
   "metadata": {},
   "outputs": [],
   "source": [
    "W = np.random.randint(-10,11, size=(4, 40))\n",
    "WWt = W@W.T\n",
    "WWt_inv = np.linalg.inv(WWt)\n",
    "R = W.T@WWt_inv"
   ]
  },
  {
   "cell_type": "code",
   "execution_count": 69,
   "id": "18d50c7c",
   "metadata": {},
   "outputs": [],
   "source": [
    "Wpinv = np.linalg.pinv(W)"
   ]
  },
  {
   "cell_type": "code",
   "execution_count": 70,
   "id": "4b9b55bf",
   "metadata": {
    "scrolled": true
   },
   "outputs": [
    {
     "data": {
      "text/plain": [
       "True"
      ]
     },
     "execution_count": 70,
     "metadata": {},
     "output_type": "execute_result"
    }
   ],
   "source": [
    "np.allclose(R, Wpinv)"
   ]
  },
  {
   "cell_type": "markdown",
   "id": "d94985a8",
   "metadata": {},
   "source": [
    "# 역행렬의 수치적 안정성\n",
    "\n",
    "- 역행렬 계산시 행렬식 등에서 많은 부동소수점 연산을 하게 됨\n",
    "- 수치적 부정확성 발생 가능, 누적시 심각한 문제 발생 \n",
    "- LAPACK(저수준 라이브러리) 등은 역행렬 계산을 되도록 안하려고 함\n",
    "    - QR분해 등을 사용\n",
    "- 수칫값이 대체로 같은 범위에 포함 되어 있을 수록 행렬이 더 안정적인 경향(보장은 안됨)\n",
    "- '수칫값의 범위'를 행렬의 **조건수** 라고 함\n",
    "    - 가장 큰 값과 가장 작은 특잇값의 비율\n",
    "    - 13장에서 소개\n",
    "- 힐버트 행렬\n",
    "    - 수치값이 불안정한 대표적인 행렬\n",
    "    - $h_{i,j} = \\frac{1}{i+j-1}$\n",
    "    - 3x3 힐버트 행렬 예시\n",
    "    - $\\begin{bmatrix}\n",
    "1 & 1/2 & 1/3 \\\\\n",
    "1/2 & 1/3 & 1/4 \\\\\n",
    "1/3 & 1/4 & 1/5 \\\\\n",
    "\\end{bmatrix}\n",
    "$\n",
    "    - 행렬이 커질 수록 수치값의 범위가 커지고, 계수는 급격히 작아진다\n",
    "    - 최대계수의 힐버트 행렬은 전혀 다른 수치 범위의 역행렬을 가진다\n",
    "\n",
    "\n",
    "<img src='./images/fig_07_05.png'>"
   ]
  },
  {
   "cell_type": "markdown",
   "id": "4b1be91e",
   "metadata": {},
   "source": [
    "### 연습 문제 7-9\n",
    "- 힐버트 행렬을 사용, 역행렬과 수치 불안정성의 위험을 살펴 보자\n",
    "- 식 7-1에 맞춰 입력받은 정수 값으로 힐버트 행렬을 생성한다\n",
    "- 그림 7-5를 재현 한다.\n",
    "    - for 문을 사용하여 만들어 보고\n",
    "    - 외적을 사용하여서도 만들어 본다\n",
    "- 함수의 정확성은 scipy.linalg의 힐버트 함수와 비교한다.    "
   ]
  },
  {
   "cell_type": "code",
   "execution_count": 105,
   "id": "06c090bf",
   "metadata": {},
   "outputs": [],
   "source": [
    "def hilbert_1(k):\n",
    "    H = np.zeros((k, k))\n",
    "    for i in range(k):\n",
    "        for j in range(k):\n",
    "            h = 1/(i+j +1)\n",
    "            H[i, j] = h\n",
    "    return H"
   ]
  },
  {
   "cell_type": "code",
   "execution_count": 106,
   "id": "45e37040",
   "metadata": {},
   "outputs": [],
   "source": [
    "H1 = hilbert_1(3)"
   ]
  },
  {
   "cell_type": "code",
   "execution_count": 101,
   "id": "72483e5e",
   "metadata": {},
   "outputs": [],
   "source": [
    "def hilbert_2(k):\n",
    "    k = np.arange(1,k+1).reshape(1,-1) # 행 벡터로 재구성합니다 (1D 배열 대신)\n",
    "    return 1 / (k.T+k-1) # 외적과 요소별 나눗셈"
   ]
  },
  {
   "cell_type": "code",
   "execution_count": 107,
   "id": "687d7c90",
   "metadata": {},
   "outputs": [],
   "source": [
    "H2 = hilbert_2(3)"
   ]
  },
  {
   "cell_type": "code",
   "execution_count": 108,
   "id": "c5fc9da7",
   "metadata": {},
   "outputs": [],
   "source": [
    "from scipy.linalg import hilbert\n",
    "\n",
    "H3 = hilbert(3)"
   ]
  },
  {
   "cell_type": "code",
   "execution_count": 109,
   "id": "86ed37c0",
   "metadata": {},
   "outputs": [
    {
     "data": {
      "text/plain": [
       "True"
      ]
     },
     "execution_count": 109,
     "metadata": {},
     "output_type": "execute_result"
    }
   ],
   "source": [
    "np.allclose(H1, H3)"
   ]
  },
  {
   "cell_type": "code",
   "execution_count": 110,
   "id": "ecdd78b9",
   "metadata": {},
   "outputs": [
    {
     "data": {
      "text/plain": [
       "True"
      ]
     },
     "execution_count": 110,
     "metadata": {},
     "output_type": "execute_result"
    }
   ],
   "source": [
    "np.allclose(H2, H3)"
   ]
  },
  {
   "cell_type": "markdown",
   "id": "d96480ec",
   "metadata": {},
   "source": [
    "- hilbert_2 설명"
   ]
  },
  {
   "cell_type": "code",
   "execution_count": 118,
   "id": "24b49b8e",
   "metadata": {},
   "outputs": [
    {
     "data": {
      "text/plain": [
       "(array([[1, 2, 3]]), (1, 3))"
      ]
     },
     "execution_count": 118,
     "metadata": {},
     "output_type": "execute_result"
    }
   ],
   "source": [
    "k = np.arange(1,3+1).reshape(1,-1)\n",
    "# k = np.arange(1,3+1)\n",
    "k, k.shape"
   ]
  },
  {
   "cell_type": "code",
   "execution_count": 119,
   "id": "66e3ab04",
   "metadata": {},
   "outputs": [
    {
     "data": {
      "text/plain": [
       "(array([[1],\n",
       "        [2],\n",
       "        [3]]),\n",
       " (3, 1))"
      ]
     },
     "execution_count": 119,
     "metadata": {},
     "output_type": "execute_result"
    }
   ],
   "source": [
    "k.T, (k.T).shape"
   ]
  },
  {
   "cell_type": "code",
   "execution_count": 120,
   "id": "3ce73a78",
   "metadata": {},
   "outputs": [
    {
     "data": {
      "text/plain": [
       "array([[1, 2, 3],\n",
       "       [2, 3, 4],\n",
       "       [3, 4, 5]])"
      ]
     },
     "execution_count": 120,
     "metadata": {},
     "output_type": "execute_result"
    }
   ],
   "source": [
    "k.T + k -1"
   ]
  },
  {
   "cell_type": "markdown",
   "id": "9c73bf26",
   "metadata": {},
   "source": [
    "### 연습 문제 7-10\n",
    "- 다음을 3x3에서 12x12에 이르는 다양한 행렬에 수행 할 수 있도록 for 루프 작성\n",
    "    - 힐버트 행렬 함수로 힐버트 행렬을 만든다\n",
    "    - np.linglag.inv 로 역행렬을 구해 원래 함수에 곱한다\n",
    "    - 이 곱의 결과가 단위 행렬과 일치 해야 한다.\n",
    "    - 이를 확인 하기 위해 단위 행렬과 유클리드 거리가 0 임을 확인 한다.\n",
    "- 각 행렬 크기에 대해 유클리드 거리와 조건수를 저장 한다\n",
    "    - 조건수는 행렬의 수칫값의 퍼짐 정도(np.linalg.cond 함수 사용)\n",
    "- 위 코드를, 힐버트 행렬이 아니라 가우스 난수 행렬도 반복 한다.\n",
    "- 두 결과를 그래프로 시각화 하며 비교 한다."
   ]
  },
  {
   "cell_type": "code",
   "execution_count": 139,
   "id": "4c645318",
   "metadata": {},
   "outputs": [],
   "source": [
    "import numpy as np\n",
    "from scipy.linalg import hilbert\n",
    "\n",
    "matSizes = np.arange(3, 13)\n",
    "\n",
    "dist = np.zeros((len(matSizes), 2))\n",
    "cond = np.zeros((len(matSizes), 2))\n",
    "\n",
    "for i, k in enumerate(matSizes):\n",
    "    I = np.eye(k, k)\n",
    "    \n",
    "    # 힐버트 행렬 계산\n",
    "    H = hilbert(k)\n",
    "    cond[i, 0] = np.linalg.cond(H)\n",
    "    \n",
    "    # 역행렬을 곱하여 단위 행렬과 비교\n",
    "    H_I = H @ np.linalg.inv(H)\n",
    "    dist[i, 0] = np.sqrt(np.sum((H_I - I) ** 2))\n",
    "    \n",
    "    # 가우스 난수 행렬 계산\n",
    "    G = np.random.randn(k, k)\n",
    "    cond[i, 1] = np.linalg.cond(G)\n",
    "    \n",
    "    # 역행렬을 곱하여 단위 행렬과 비교\n",
    "    G_I = G @ np.linalg.inv(G)\n",
    "    dist[i, 1] = np.sqrt(np.sum((G_I - I) ** 2))\n"
   ]
  },
  {
   "cell_type": "code",
   "execution_count": 140,
   "id": "132e5655",
   "metadata": {
    "scrolled": true
   },
   "outputs": [
    {
     "data": {
      "image/png": "[encoded data removed]",
      "text/plain": [
       "<Figure size 1400x500 with 2 Axes>"
      ]
     },
     "metadata": {},
     "output_type": "display_data"
    }
   ],
   "source": [
    "# now plot\n",
    "fig,axs = plt.subplots(1,2,figsize=(14,5))\n",
    "\n",
    "## plot the Euclidean distance to the identity matrix\n",
    "h = axs[0].plot(matSizes,np.log(dist),'s-',markersize=12)\n",
    "h[0].set_color('k') # adjust the individual line colors and shapes\n",
    "h[0].set_marker('o')\n",
    "h[1].set_color('gray')\n",
    "\n",
    "axs[0].legend(['Hilbert','Random'])\n",
    "axs[0].set_xlabel('Matrix size')\n",
    "axs[0].set_ylabel('Log Euclidan distance')\n",
    "axs[0].set_title('Distance to identity matrix')\n",
    "\n",
    "\n",
    "## plot the condition numbers\n",
    "h = axs[1].plot(matSizes,np.log(cond),'s-',markersize=12)\n",
    "h[0].set_color('k') # adjust the individual line colors and shapes\n",
    "h[0].set_marker('o')\n",
    "h[1].set_color('gray')\n",
    "\n",
    "axs[1].legend(['Hilbert','Random'])\n",
    "axs[1].set_xlabel('Matrix size')\n",
    "axs[1].set_ylabel('Log Kappa')\n",
    "axs[1].set_title('Matrix condition number')\n",
    "\n",
    "plt.show()"
   ]
  },
  {
   "cell_type": "markdown",
   "id": "c125409a",
   "metadata": {},
   "source": [
    "**정답**"
   ]
  },
  {
   "cell_type": "code",
   "execution_count": 142,
   "id": "299113c4",
   "metadata": {},
   "outputs": [
    {
     "data": {
      "image/png": "[encoded data removed]",
      "text/plain": [
       "<Figure size 1400x500 with 2 Axes>"
      ]
     },
     "metadata": {},
     "output_type": "display_data"
    }
   ],
   "source": [
    "matSizes = np.arange(3,13)\n",
    "\n",
    "identityError = np.zeros((len(matSizes),2))\n",
    "condNumbers   = np.zeros((len(matSizes),2))\n",
    "\n",
    "\n",
    "for i,k in enumerate(matSizes):\n",
    "    \n",
    "    ### for the Hilbert matrix\n",
    "    H   = hilbert(k)       # the matrix\n",
    "    Hi  = np.linalg.inv(H) # its inverse\n",
    "    HHi = H@Hi             # should be identity\n",
    "    err = HHi - np.eye(k)  # difference from true identity\n",
    "    identityError[i,0] = np.sqrt(np.sum(err**2))  # Euclidean distance\n",
    "    condNumbers[i,0] = np.linalg.cond(H) # condition number\n",
    "    \n",
    "\n",
    "    ### repeat for a random matrix\n",
    "    H = np.random.randn(k,k) # the matrix\n",
    "    Hi  = np.linalg.inv(H)   # its inverse\n",
    "    HHi = H@Hi               # should be identity\n",
    "    err = HHi - np.eye(k)    # difference from true identity\n",
    "    identityError[i,1] = np.sqrt(np.sum(err**2))  # Euclidean distance\n",
    "    condNumbers[i,1] = np.linalg.cond(H) # condition number\n",
    "    \n",
    "\n",
    "\n",
    "# now plot\n",
    "fig,axs = plt.subplots(1,2,figsize=(14,5))\n",
    "\n",
    "## plot the Euclidean distance to the identity matrix\n",
    "h = axs[0].plot(matSizes,np.log(identityError),'s-',markersize=12)\n",
    "h[0].set_color('k') # adjust the individual line colors and shapes\n",
    "h[0].set_marker('o')\n",
    "h[1].set_color('gray')\n",
    "\n",
    "axs[0].legend(['Hilbert','Random'])\n",
    "axs[0].set_xlabel('Matrix size')\n",
    "axs[0].set_ylabel('Log Euclidan distance')\n",
    "axs[0].set_title('Distance to identity matrix')\n",
    "\n",
    "\n",
    "\n",
    "## plot the condition numbers\n",
    "h = axs[1].plot(matSizes,np.log(condNumbers),'s-',markersize=12)\n",
    "h[0].set_color('k') # adjust the individual line colors and shapes\n",
    "h[0].set_marker('o')\n",
    "h[1].set_color('gray')\n",
    "\n",
    "axs[1].legend(['Hilbert','Random'])\n",
    "axs[1].set_xlabel('Matrix size')\n",
    "axs[1].set_ylabel('Log Kappa')\n",
    "axs[1].set_title('Matrix condition number')\n",
    "\n",
    "plt.show()"
   ]
  },
  {
   "cell_type": "markdown",
   "id": "b6f6f6cc",
   "metadata": {},
   "source": [
    "# 역행렬의 기하학적 해석\n",
    "\n",
    "- 역행렬은 행렬 곱으로 인한 기하학적 변환을 되돌리는 것\n",
    "\n",
    "<img src='./images/fig_07_06.png'>\n",
    "\n",
    "\n",
    "$Q = TP$\n",
    "\n",
    "$U = T^{-1}Q$\n",
    "\n",
    "$U=T^{-1}TP$\n",
    "\n",
    "- P는 최초  좌표인 2 X N 행렬\n",
    "- T는 변환 행렬\n",
    "- Q는 변환된 좌표의 행렬\n",
    "- U는 역변환 좌표의 행렬\n"
   ]
  },
  {
   "cell_type": "markdown",
   "id": "983dc6c4",
   "metadata": {},
   "source": [
    "## 연습 문제 7-8\n",
    "- 그림 7-6 을 재현 하라"
   ]
  },
  {
   "cell_type": "code",
   "execution_count": 86,
   "id": "367fd242",
   "metadata": {},
   "outputs": [
    {
     "name": "stderr",
     "output_type": "stream",
     "text": [
      "/tmp/ipykernel_416310/2894017992.py:22: UserWarning: color is redundantly defined by the 'color' keyword argument and the fmt string \"rx\" (-> color='r'). The keyword argument will take precedence.\n",
      "  plt.plot(invtransformedPoints[0,:],invtransformedPoints[1,:],'rx',markersize=15,\n"
     ]
    },
    {
     "data": {
      "image/png": "[encoded data removed]",
      "text/plain": [
       "<Figure size 600x600 with 1 Axes>"
      ]
     },
     "metadata": {},
     "output_type": "display_data"
    }
   ],
   "source": [
    "# Transformation matrix\n",
    "T = np.array([\n",
    "              [1,.5],\n",
    "              [0,.5]\n",
    "            ])\n",
    "\n",
    "\n",
    "# define the set of points (a circle)\n",
    "theta = np.linspace(0,2*np.pi-2*np.pi/20,20)\n",
    "origPoints = np.vstack( (np.cos(theta),np.sin(theta)) )\n",
    "\n",
    "# apply transformation\n",
    "transformedPoints = T @ origPoints\n",
    "\n",
    "invtransformedPoints = np.linalg.inv(T) @ transformedPoints\n",
    "\n",
    "# plot the points\n",
    "plt.figure(figsize=(6,6))\n",
    "plt.plot(origPoints[0,:],origPoints[1,:],'ko',label='Original')\n",
    "plt.plot(transformedPoints[0,:],transformedPoints[1,:],'s',\n",
    "         color=[.7,.7,.7],label='Transformed')\n",
    "plt.plot(invtransformedPoints[0,:],invtransformedPoints[1,:],'rx',markersize=15,\n",
    "         color=[.7,.7,.7],label='Inverse-transformed')\n",
    "\n",
    "plt.axis('square')\n",
    "plt.xlim([-2,2])\n",
    "plt.ylim([-2,2])\n",
    "plt.legend()\n",
    "plt.show()"
   ]
  },
  {
   "cell_type": "markdown",
   "id": "8c32a580",
   "metadata": {},
   "source": [
    "# 정리"
   ]
  },
  {
   "cell_type": "markdown",
   "id": "cfe954b7",
   "metadata": {},
   "source": [
    "### 연습 문제 7-6\n",
    "- LIVE EVIL 규칙은 곱 행렬의 역행렬에도 적용 됨을 코드로 확인 하라\n",
    "- 두 개의 정방 최대 계수 행렬 A, B 생성\n",
    "- 유클리드 거리를 사용 다음을 비교 하라\n",
    "    - 1. $(AB)^{-1}$\n",
    "    - 2. $A^{-1}B^{-1}$\n",
    "    - 3. $B^{-1}A^{-1}$\n",
    "- 코딩 시작전 어느 값이 같을지 생각해 보자\n",
    "- 다음과 같은 형식으로 출력 하라 \n",
    "    - (AB)^-1과 (A^-1)(B^-1) 사이의 거리는 xxxx\n",
    "    - (AB)^-1과 (B^-1)(A^-1) 사이의 거리는 xxxx\n",
    "- 추가로 LIVE EVIL 규칙이 더 긴 행렬(두 행렬이 아니라 네 행렬)에도 적용되는지 확인 하라"
   ]
  },
  {
   "cell_type": "code",
   "execution_count": 71,
   "id": "88b2e657",
   "metadata": {},
   "outputs": [],
   "source": [
    "M = 4\n",
    "A = np.random.randn(M, M)\n",
    "B = np.random.randn(M, M)\n",
    "\n",
    "case1 = np.linalg.inv(A@B)\n",
    "case2 = np.linalg.inv(A)@np.linalg.inv(B)\n",
    "case3 = np.linalg.inv(B)@np.linalg.inv(A)"
   ]
  },
  {
   "cell_type": "code",
   "execution_count": 75,
   "id": "cdd51ede",
   "metadata": {},
   "outputs": [
    {
     "name": "stdout",
     "output_type": "stream",
     "text": [
      "(AB)^-1과 (A^-1)(B^-1) 사이의 거리는 5.278632349619891\n"
     ]
    }
   ],
   "source": [
    "dist1 = np.sqrt(np.sum((case1 - case2)**2))\n",
    "\n",
    "print(f'(AB)^-1과 (A^-1)(B^-1) 사이의 거리는 {dist1}')"
   ]
  },
  {
   "cell_type": "code",
   "execution_count": 76,
   "id": "8aef981e",
   "metadata": {},
   "outputs": [
    {
     "name": "stdout",
     "output_type": "stream",
     "text": [
      "(AB)^-1과 (B^-1)(A^-1) 사이의 거리는 6.870065660685187e-15\n"
     ]
    }
   ],
   "source": [
    "dist2 = np.sqrt(np.sum((case1 - case3)**2))\n",
    "\n",
    "print(f'(AB)^-1과 (B^-1)(A^-1) 사이의 거리는 {dist2}')"
   ]
  },
  {
   "cell_type": "markdown",
   "id": "7d1241f0",
   "metadata": {},
   "source": [
    "### 연습 문제 7-7\n",
    "- LIVE EVIL 규칙이 단방향 역행렬에도 적용 되는가?\n",
    "- $(T^TT)^{-1} = T^{-T}T^{-1}$ 인가?"
   ]
  },
  {
   "cell_type": "code",
   "execution_count": 78,
   "id": "e1af5580",
   "metadata": {},
   "outputs": [],
   "source": [
    "T = np.random.randn(40, 4)\n",
    "Tpinv = np.linalg.pinv(T)"
   ]
  },
  {
   "cell_type": "code",
   "execution_count": 82,
   "id": "2675f8b8",
   "metadata": {},
   "outputs": [],
   "source": [
    "case1 = np.linalg.pinv(T.T@T)\n",
    "case2 = np.linalg.pinv(T.T)@np.linalg.pinv(T)\n",
    "case3 = np.linalg.pinv(T)@np.linalg.pinv(T.T)"
   ]
  },
  {
   "cell_type": "code",
   "execution_count": 81,
   "id": "ec5abe36",
   "metadata": {},
   "outputs": [
    {
     "ename": "ValueError",
     "evalue": "operands could not be broadcast together with shapes (4,4) (40,40) ",
     "output_type": "error",
     "traceback": [
      "\u001b[0;31m---------------------------------------------------------------------------\u001b[0m",
      "\u001b[0;31mValueError\u001b[0m                                Traceback (most recent call last)",
      "Cell \u001b[0;32mIn[81], line 1\u001b[0m\n\u001b[0;32m----> 1\u001b[0m dist1 \u001b[38;5;241m=\u001b[39m np\u001b[38;5;241m.\u001b[39msqrt(np\u001b[38;5;241m.\u001b[39msum((\u001b[43mcase1\u001b[49m\u001b[43m \u001b[49m\u001b[38;5;241;43m-\u001b[39;49m\u001b[43m \u001b[49m\u001b[43mcase2\u001b[49m)\u001b[38;5;241m*\u001b[39m\u001b[38;5;241m*\u001b[39m\u001b[38;5;241m2\u001b[39m))\n\u001b[1;32m      3\u001b[0m \u001b[38;5;28mprint\u001b[39m(\u001b[38;5;124mf\u001b[39m\u001b[38;5;124m'\u001b[39m\u001b[38;5;124m(T^T)(T)과 (T^T)(T^-1) 사이의 거리는 \u001b[39m\u001b[38;5;132;01m{\u001b[39;00mdist1\u001b[38;5;132;01m}\u001b[39;00m\u001b[38;5;124m'\u001b[39m)\n",
      "\u001b[0;31mValueError\u001b[0m: operands could not be broadcast together with shapes (4,4) (40,40) "
     ]
    }
   ],
   "source": [
    "dist1 = np.sqrt(np.sum((case1 - case2)**2))\n",
    "\n",
    "print(f'(T^T)(T)과 (T^T)(T^-1) 사이의 거리는 {dist1}')"
   ]
  },
  {
   "cell_type": "code",
   "execution_count": 83,
   "id": "68bc14c4",
   "metadata": {},
   "outputs": [
    {
     "name": "stdout",
     "output_type": "stream",
     "text": [
      "(T^T)(T)과 (T^-1)(T^T) 사이의 거리는 1.2108176960556177e-16\n"
     ]
    }
   ],
   "source": [
    "dist2 = np.sqrt(np.sum((case1 - case3)**2))\n",
    "\n",
    "print(f'(T^T)(T)과 (T^-1)(T^T) 사이의 거리는 {dist2}')"
   ]
  },
  {
   "cell_type": "markdown",
   "id": "56ec740e",
   "metadata": {},
   "source": [
    "# 정리"
   ]
  },
  {
   "cell_type": "markdown",
   "id": "d3cf8b28",
   "metadata": {},
   "source": [
    "- 역행렬은 행렬곱을 통해 완전 행렬을 최대계수 행렬고 변환하는 행렬\n",
    "- 역행렬은 방정식에서 행렬을 이동시키는 등 다양한 용도로 사용 ($Ax=b$에서 x구하기)\n",
    "- 정방 최대계수 행렬에는 완전 역행렬 존재\n",
    "- 높은 최대열계수 행렬에는 왼쪽 역행렬 존재\n",
    "- 넓은 최대계수 행렬에는 오른쪽 역행렬 존재\n",
    "- 축소 계수 행렬은 단위 행렬로 선형 변환은 안되지만, 단위 행렬에 행렬로 변환 시키는 의사역행렬이 무수히 존재\n",
    "- 역행렬은 고유하다\n",
    "- 2x2행렬과 대각 행렬의 역행렬을 계산하는 간단한 방법이 있음\n",
    "- 수치 정밀도 오류의 위험 때문에 역행렬을 직접 구하는 것 대신 다른 방법을 사용함"
   ]
  }
 ],
 "metadata": {
  "kernelspec": {
   "display_name": "Python 3 (ipykernel)",
   "language": "python",
   "name": "python3"
  },
  "language_info": {
   "codemirror_mode": {
    "name": "ipython",
    "version": 3
   },
   "file_extension": ".py",
   "mimetype": "text/x-python",
   "name": "python",
   "nbconvert_exporter": "python",
   "pygments_lexer": "ipython3",
   "version": "3.10.9"
  },
  "toc": {
   "base_numbering": 1,
   "nav_menu": {},
   "number_sections": true,
   "sideBar": true,
   "skip_h1_title": false,
   "title_cell": "Table of Contents",
   "title_sidebar": "Contents",
   "toc_cell": false,
   "toc_position": {
    "height": "calc(100% - 180px)",
    "left": "10px",
    "top": "150px",
    "width": "341.333px"
   },
   "toc_section_display": true,
   "toc_window_display": false
  }
 },
 "nbformat": 4,
 "nbformat_minor": 5
}
