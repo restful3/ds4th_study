{
 "cells": [
  {
   "cell_type": "code",
   "execution_count": 1,
   "id": "e567ebeb-0bfc-44d5-b70f-8b9aae5aa1d3",
   "metadata": {},
   "outputs": [],
   "source": [
    "import numpy as np\n",
    "import matplotlib.pyplot as plt\n",
    "\n",
    "# NOTE: these lines define global figure properties used for publication.\n",
    "import matplotlib_inline.backend_inline\n",
    "matplotlib_inline.backend_inline.set_matplotlib_formats('svg') # display figures in vector format\n",
    "plt.rcParams.update({'font.size':14}) # set global font size"
   ]
  },
  {
   "cell_type": "code",
   "execution_count": null,
   "id": "3642c127-5b96-4c7d-9c49-9c70009062e8",
   "metadata": {},
   "outputs": [],
   "source": []
  },
  {
   "cell_type": "markdown",
   "id": "445349de-3e6d-4276-899f-c3dca045ef55",
   "metadata": {},
   "source": [
    "# 파이썬에서 SVD"
   ]
  },
  {
   "cell_type": "code",
   "execution_count": 3,
   "id": "4647e7e9-db34-4077-80f1-942ed9501554",
   "metadata": {},
   "outputs": [],
   "source": [
    "A = np.random.randn(4,6)\n",
    "U, s, Vt = np.linalg.svd(A)\n",
    "\n",
    "S = np.zeros(np.shape(A))"
   ]
  },
  {
   "cell_type": "code",
   "execution_count": 5,
   "id": "1b75d920-0363-43dc-963e-a3d7ccaf9999",
   "metadata": {},
   "outputs": [
    {
     "data": {
      "text/plain": [
       "array([3.35676913, 2.99634767, 1.81874957, 0.98002423])"
      ]
     },
     "execution_count": 5,
     "metadata": {},
     "output_type": "execute_result"
    }
   ],
   "source": [
    "s"
   ]
  },
  {
   "cell_type": "code",
   "execution_count": 8,
   "id": "2747ae06-56a0-446e-ba88-6188bbaeb7bf",
   "metadata": {},
   "outputs": [],
   "source": [
    "np.fill_diagonal(S, s)"
   ]
  },
  {
   "cell_type": "code",
   "execution_count": 10,
   "id": "33ccc130-cbdd-446f-ac9c-fa3b4a50a582",
   "metadata": {},
   "outputs": [
    {
     "name": "stdout",
     "output_type": "stream",
     "text": [
      "[[3.35676913 0.         0.         0.         0.         0.        ]\n",
      " [0.         2.99634767 0.         0.         0.         0.        ]\n",
      " [0.         0.         1.81874957 0.         0.         0.        ]\n",
      " [0.         0.         0.         0.98002423 0.         0.        ]]\n"
     ]
    }
   ],
   "source": [
    "print(S)"
   ]
  },
  {
   "cell_type": "code",
   "execution_count": 11,
   "id": "e7268845-952e-4c10-9815-7cfa79a93202",
   "metadata": {},
   "outputs": [
    {
     "data": {
      "text/plain": [
       "True"
      ]
     },
     "execution_count": 11,
     "metadata": {},
     "output_type": "execute_result"
    }
   ],
   "source": [
    "np.allclose(A, U@S@Vt)"
   ]
  },
  {
   "cell_type": "code",
   "execution_count": null,
   "id": "7806e818-f847-4376-abac-520618a1d237",
   "metadata": {},
   "outputs": [],
   "source": []
  }
 ],
 "metadata": {
  "kernelspec": {
   "display_name": "Python 3 (ipykernel)",
   "language": "python",
   "name": "python3"
  },
  "language_info": {
   "codemirror_mode": {
    "name": "ipython",
    "version": 3
   },
   "file_extension": ".py",
   "mimetype": "text/x-python",
   "name": "python",
   "nbconvert_exporter": "python",
   "pygments_lexer": "ipython3",
   "version": "3.10.14"
  }
 },
 "nbformat": 4,
 "nbformat_minor": 5
}
