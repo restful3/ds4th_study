{
 "cells": [
  {
   "cell_type": "markdown",
   "id": "3173154e",
   "metadata": {},
   "source": [
    "# 연립방정식"
   ]
  },
  {
   "cell_type": "markdown",
   "id": "78287090",
   "metadata": {},
   "source": [
    "## 연립방정식을 행렬로 변환하기"
   ]
  },
  {
   "cell_type": "markdown",
   "id": "c13dc31d",
   "metadata": {},
   "source": [
    "## 행렬 방정식 다루기"
   ]
  },
  {
   "cell_type": "code",
   "execution_count": 1,
   "id": "b9e53905",
   "metadata": {},
   "outputs": [
    {
     "data": {
      "text/plain": [
       "False"
      ]
     },
     "execution_count": 1,
     "metadata": {},
     "output_type": "execute_result"
    }
   ],
   "source": [
    "import numpy as np\n",
    "\n",
    "A = np.random.randn(4,4)\n",
    "B = np.random.randn(4,4)\n",
    "\n",
    "X1 = np.linalg.inv(A) @ B\n",
    "X2 = B @ np.linalg.inv(A)\n",
    "\n",
    "np.allclose(A, B)"
   ]
  },
  {
   "cell_type": "markdown",
   "id": "6d076aa8",
   "metadata": {},
   "source": [
    "# 행 축소"
   ]
  },
  {
   "cell_type": "markdown",
   "id": "99848a47",
   "metadata": {},
   "source": [
    "## 가우스 소거법"
   ]
  },
  {
   "cell_type": "markdown",
   "id": "d5e05e60",
   "metadata": {},
   "source": [
    "## 가우스-조던 소거법"
   ]
  },
  {
   "cell_type": "code",
   "execution_count": 2,
   "id": "ff57ad07",
   "metadata": {},
   "outputs": [
    {
     "data": {
      "text/latex": [
       "$\\displaystyle \\left[\\begin{matrix}1 & 0 & 1.33333333333333\\\\0 & 1 & 2.66666666666667\\end{matrix}\\right]$"
      ],
      "text/plain": [
       "Matrix([\n",
       "[1, 0, 1.33333333333333],\n",
       "[0, 1, 2.66666666666667]])"
      ]
     },
     "execution_count": 2,
     "metadata": {},
     "output_type": "execute_result"
    }
   ],
   "source": [
    "import sympy as sym\n",
    "\n",
    "M = np.array([[1, 1, 4], [-1/2, 1, 2]])\n",
    "symMat = sym.Matrix(M)\n",
    "\n",
    "symMat.rref()[0]"
   ]
  },
  {
   "cell_type": "markdown",
   "id": "6ce19731",
   "metadata": {},
   "source": [
    "## 가우스-조던 소거법을 통한 역행렬 계산"
   ]
  },
  {
   "cell_type": "markdown",
   "id": "eeb7a5d1",
   "metadata": {},
   "source": [
    "# LU 분해"
   ]
  },
  {
   "cell_type": "code",
   "execution_count": 4,
   "id": "9ad2cba4",
   "metadata": {},
   "outputs": [
    {
     "name": "stdout",
     "output_type": "stream",
     "text": [
      "L:\n",
      "[[1.  0.  0. ]\n",
      " [0.5 1.  0. ]\n",
      " [1.  1.  1. ]]\n",
      "U:\n",
      "[[ 2.  2.  4.]\n",
      " [ 0. -1.  1.]\n",
      " [ 0.  0. -3.]]\n"
     ]
    }
   ],
   "source": [
    "import scipy\n",
    "\n",
    "A = np.array([[2, 2, 4], [1, 0, 3], [2, 1, 2]])\n",
    "\n",
    "_, L, U = scipy.linalg.lu(A)\n",
    "\n",
    "print('L:')\n",
    "print(L)\n",
    "print('U:')\n",
    "print(U)"
   ]
  },
  {
   "cell_type": "markdown",
   "id": "7ab5ac26",
   "metadata": {},
   "source": [
    "## 치환 행렬을 통한 행 교환"
   ]
  },
  {
   "cell_type": "markdown",
   "id": "a5822be4",
   "metadata": {},
   "source": [
    "# 연습 문제"
   ]
  },
  {
   "cell_type": "markdown",
   "id": "8e2b3d26",
   "metadata": {},
   "source": [
    "## 연습 문제 9-1\n",
    "- 100x100 크기의 행렬 1000개에 대해 LU 분해를 실행하는데 걸리는 시간은?"
   ]
  },
  {
   "cell_type": "code",
   "execution_count": 12,
   "id": "5364c343",
   "metadata": {},
   "outputs": [
    {
     "name": "stderr",
     "output_type": "stream",
     "text": [
      "100%|█████████████████████████████████████| 1000/1000 [00:00<00:00, 1073.24it/s]"
     ]
    },
    {
     "name": "stdout",
     "output_type": "stream",
     "text": [
      "함수 실행 시간: 0.9399561882019043 초\n"
     ]
    },
    {
     "name": "stderr",
     "output_type": "stream",
     "text": [
      "\n"
     ]
    }
   ],
   "source": [
    "import time\n",
    "from tqdm import tqdm\n",
    "from scipy.linalg import lu_factor\n",
    "\n",
    "def my_function():\n",
    "    # 실행 시간을 측정하려는 함수\n",
    "    total = 0\n",
    "    for i in tqdm(range(1000)):\n",
    "        A = np.random.randn(100, 100)\n",
    "#         _, L, U = scipy.linalg.lu(A)\n",
    "        lu, piv = lu_factor(A)\n",
    "        total += i\n",
    "    return total\n",
    "\n",
    "start_time = time.time()  # 함수 실행 전 현재 시간 측정\n",
    "result = my_function()    # 함수 실행\n",
    "end_time = time.time()    # 함수 실행 후 현재 시간 측정\n",
    "\n",
    "execution_time = end_time - start_time  # 실행 시간 계산\n",
    "print(\"함수 실행 시간:\", execution_time, \"초\")"
   ]
  },
  {
   "cell_type": "markdown",
   "id": "11f19e35",
   "metadata": {},
   "source": [
    "- 정답"
   ]
  },
  {
   "cell_type": "code",
   "execution_count": 14,
   "id": "35fae7aa",
   "metadata": {},
   "outputs": [
    {
     "data": {
      "text/plain": [
       "1.3432891368865967"
      ]
     },
     "execution_count": 14,
     "metadata": {},
     "output_type": "execute_result"
    }
   ],
   "source": [
    "# Time-test!\n",
    "\n",
    "import time\n",
    "\n",
    "# start the timer\n",
    "tic = time.time()\n",
    "\n",
    "# run the test\n",
    "for i in range(1000):\n",
    "    A = np.random.randn(100,100)\n",
    "    P,L,U = scipy.linalg.lu(A)\n",
    "\n",
    "# stop the timer\n",
    "toc = time.time() - tic\n",
    "toc # print the result in seconds"
   ]
  },
  {
   "cell_type": "markdown",
   "id": "f7e9233a",
   "metadata": {},
   "source": [
    "## 연습 문제 9-2\n",
    "- 행렬 곱을 사용, 계수 -3의 6x8행렬을 만든다\n",
    "- 이 행렬의 LU 분해 결과를 시각화 한다"
   ]
  },
  {
   "cell_type": "code",
   "execution_count": 16,
   "id": "cc38616a",
   "metadata": {},
   "outputs": [
    {
     "data": {
      "text/plain": [
       "3"
      ]
     },
     "execution_count": 16,
     "metadata": {},
     "output_type": "execute_result"
    }
   ],
   "source": [
    "M = 6\n",
    "N = 8\n",
    "r = 3\n",
    "\n",
    "A = np.random.randn(M, r) @ np.random.randn(r, N)\n",
    "\n",
    "np.linalg.matrix_rank(A)"
   ]
  },
  {
   "cell_type": "code",
   "execution_count": 17,
   "id": "dcae9196",
   "metadata": {},
   "outputs": [],
   "source": [
    "P, L, U = scipy.linalg.lu(A)"
   ]
  },
  {
   "cell_type": "code",
   "execution_count": 19,
   "id": "37e1ffa2",
   "metadata": {},
   "outputs": [
    {
     "data": {
      "image/png": "[encoded data removed]",
      "text/plain": [
       "<Figure size 1200x700 with 3 Axes>"
      ]
     },
     "metadata": {},
     "output_type": "display_data"
    }
   ],
   "source": [
    "import matplotlib.pyplot as plt\n",
    "\n",
    "# and plot\n",
    "_,axs = plt.subplots(1,3,figsize=(12,7))\n",
    "\n",
    "axs[0].imshow(A,vmin=-1,vmax=1,cmap='gray')\n",
    "axs[0].set_title(f'A, rank={np.linalg.matrix_rank(A)}')\n",
    "\n",
    "axs[1].imshow(L,vmin=-1,vmax=1,cmap='gray')\n",
    "axs[1].set_title(f'L, rank={np.linalg.matrix_rank(L)}')\n",
    "\n",
    "axs[2].imshow(U,vmin=-1,vmax=1,cmap='gray')\n",
    "axs[2].set_title(f'U, rank={np.linalg.matrix_rank(U)}')\n",
    "\n",
    "plt.tight_layout()\n",
    "plt.show()"
   ]
  },
  {
   "cell_type": "markdown",
   "id": "154182ba",
   "metadata": {},
   "source": [
    "## 연습 문제 9-3\n",
    "- LU분해를 통해 행렬식을 계산해 보자\n",
    "- 무작위의 행렬을 만들어 U의 대각선의 곱이, 해당 행렬의 np.linalg.det(A)와 같은지 확인해 보라\n",
    "- 부호가 달라 짐을 확인 가능 할 것이다\n",
    "- P에 따라 행을 짝수 교화 하면 +1, 홀수 교환하면 -1이 된다"
   ]
  },
  {
   "cell_type": "code",
   "execution_count": 41,
   "id": "493302e3",
   "metadata": {},
   "outputs": [
    {
     "name": "stdout",
     "output_type": "stream",
     "text": [
      "[[0. 1. 0.]\n",
      " [1. 0. 0.]\n",
      " [0. 0. 1.]]\n"
     ]
    },
    {
     "data": {
      "text/plain": [
       "(1.6908999795799708, -1.6908999795799708, -1.0)"
      ]
     },
     "execution_count": 41,
     "metadata": {},
     "output_type": "execute_result"
    }
   ],
   "source": [
    "M = 3\n",
    "A = np.random.randn(M, M)\n",
    "\n",
    "P, L, U = scipy.linalg.lu(A)\n",
    "\n",
    "comp1 = np.prod(np.diag(U))\n",
    "comp2 = np.linalg.det(A)\n",
    "comp3 = np.linalg.det(P)\n",
    "print(P)\n",
    "\n",
    "comp1, comp2, comp3"
   ]
  },
  {
   "cell_type": "markdown",
   "id": "d6e3b430",
   "metadata": {},
   "source": [
    "- 정답"
   ]
  },
  {
   "cell_type": "code",
   "execution_count": 42,
   "id": "645971a2",
   "metadata": {},
   "outputs": [
    {
     "name": "stdout",
     "output_type": "stream",
     "text": [
      "22.048297185736423 22.04829718573642\n",
      "3.552713678800501e-15\n"
     ]
    }
   ],
   "source": [
    "# a matrix and its det\n",
    "M = 6\n",
    "A = np.random.randn(M,M)\n",
    "\n",
    "# LU\n",
    "P,L,U = scipy.linalg.lu(A)\n",
    "\n",
    "# determinant as the product of the diagonals of U\n",
    "detLU = np.prod( np.diag(U) ) * np.linalg.det(P)\n",
    "\n",
    "# check against the det function\n",
    "detNP = np.linalg.det(A)\n",
    "\n",
    "# compare\n",
    "print(detLU,detNP)\n",
    "print(detLU-detNP)"
   ]
  },
  {
   "cell_type": "markdown",
   "id": "f8d8c9b4",
   "metadata": {},
   "source": [
    "## 연습 문제 9-4\n",
    "- $A = P^TLU$\n",
    "- $A^{-1} = (P^TLU)^{-1}$\n",
    "- $A^{-1} = U^{-1}L^{-1}P$"
   ]
  },
  {
   "cell_type": "code",
   "execution_count": 37,
   "id": "f4a65e86",
   "metadata": {},
   "outputs": [
    {
     "name": "stdout",
     "output_type": "stream",
     "text": [
      "[[0. 0. 1.]\n",
      " [0. 1. 0.]\n",
      " [1. 0. 0.]] -1.0\n"
     ]
    },
    {
     "data": {
      "text/plain": [
       "True"
      ]
     },
     "execution_count": 37,
     "metadata": {},
     "output_type": "execute_result"
    }
   ],
   "source": [
    "M = 3\n",
    "A = np.random.randn(M, M)\n",
    "P, L, U = scipy.linalg.lu(A)\n",
    "\n",
    "A_inv = np.linalg.inv(A)\n",
    "U_inv = np.linalg.inv(U)\n",
    "L_inv = np.linalg.inv(L)\n",
    "\n",
    "comp = U_inv@L_inv@P.T\n",
    "\n",
    "print(P, np.linalg.det(P))\n",
    "\n",
    "np.allclose(A_inv, comp)"
   ]
  },
  {
   "cell_type": "markdown",
   "id": "709deb76",
   "metadata": {},
   "source": [
    "- 정답"
   ]
  },
  {
   "cell_type": "code",
   "execution_count": 14,
   "id": "73360d96",
   "metadata": {},
   "outputs": [
    {
     "data": {
      "text/plain": [
       "True"
      ]
     },
     "execution_count": 14,
     "metadata": {},
     "output_type": "execute_result"
    }
   ],
   "source": [
    "# matrix sizes\n",
    "m = 4\n",
    "A = np.random.randn(m,m)\n",
    "\n",
    "# LU decomposition\n",
    "P,L,U = scipy.linalg.lu(A)\n",
    "\n",
    "# inverse\n",
    "invViaLU = np.linalg.inv(U) @ np.linalg.inv(L) @ P.T\n",
    "\n",
    "# \"regular\" inverse\n",
    "invViaInv = np.linalg.inv(A)\n",
    "\n",
    "np.round( A@invViaLU ,10)\n",
    "\n",
    "np.allclose(invViaLU, invViaInv)"
   ]
  },
  {
   "cell_type": "markdown",
   "id": "796545d7",
   "metadata": {},
   "source": [
    "## 연습 문제 9-5\n",
    "- $A = PLU$에서 치환 행렬을 사용하지 않고 $A^TA$를 $U^TL^TLU$로 계산 가능하다\n",
    "- 치환행렬을 삭제 가능한 이유는 무엇인가?\n",
    "    - $P^TP=I$\n",
    "    - $P^T = P^{-1}$\n",
    "    - I에 대한 치환을 되돌리면, I \n",
    "- $P \\neq I$일 때도, $A^TA = U^TL^TLU$ 임을 보여라"
   ]
  },
  {
   "cell_type": "code",
   "execution_count": 62,
   "id": "617ee75e",
   "metadata": {},
   "outputs": [
    {
     "name": "stdout",
     "output_type": "stream",
     "text": [
      "[[0. 1. 0.]\n",
      " [1. 0. 0.]\n",
      " [0. 0. 1.]]\n"
     ]
    },
    {
     "data": {
      "text/plain": [
       "True"
      ]
     },
     "execution_count": 62,
     "metadata": {},
     "output_type": "execute_result"
    }
   ],
   "source": [
    "M = 3\n",
    "A = np.random.randn(M, M)\n",
    "P, L, U = scipy.linalg.lu(A)\n",
    "\n",
    "comp1 = A.T@A\n",
    "comp2 = U.T@L.T@L@U\n",
    "\n",
    "print(P)\n",
    "\n",
    "np.allclose(comp1, comp2)"
   ]
  }
 ],
 "metadata": {
  "kernelspec": {
   "display_name": "Python 3 (ipykernel)",
   "language": "python",
   "name": "python3"
  },
  "language_info": {
   "codemirror_mode": {
    "name": "ipython",
    "version": 3
   },
   "file_extension": ".py",
   "mimetype": "text/x-python",
   "name": "python",
   "nbconvert_exporter": "python",
   "pygments_lexer": "ipython3",
   "version": "3.10.9"
  },
  "toc": {
   "base_numbering": 1,
   "nav_menu": {},
   "number_sections": true,
   "sideBar": true,
   "skip_h1_title": false,
   "title_cell": "Table of Contents",
   "title_sidebar": "Contents",
   "toc_cell": false,
   "toc_position": {},
   "toc_section_display": true,
   "toc_window_display": false
  }
 },
 "nbformat": 4,
 "nbformat_minor": 5
}
