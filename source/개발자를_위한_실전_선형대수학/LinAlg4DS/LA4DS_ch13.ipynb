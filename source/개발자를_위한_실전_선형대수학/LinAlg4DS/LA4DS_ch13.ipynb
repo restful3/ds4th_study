{
 "cells": [
  {
   "cell_type": "markdown",
   "metadata": {
    "id": "SbGFWGzkd44U"
   },
   "source": [
    "# Practical Linear Algebra for Data Science\n",
    "## Mike X Cohen (sincxpress.com)\n",
    "### https://www.oreilly.com/library/view/practical-linear-algebra/9781098120603/\n",
    "\n",
    "#### Code for chapter 13"
   ]
  },
  {
   "cell_type": "code",
   "execution_count": null,
   "metadata": {
    "id": "xOwyfBrxQG7k"
   },
   "outputs": [],
   "source": [
    "import numpy as np\n",
    "import matplotlib.pyplot as plt\n",
    "\n",
    "# NOTE: these lines define global figure properties used for publication.\n",
    "import matplotlib_inline.backend_inline\n",
    "matplotlib_inline.backend_inline.set_matplotlib_formats('svg') # display figures in vector format\n",
    "plt.rcParams.update({'font.size':14}) # set global font size"
   ]
  },
  {
   "cell_type": "code",
   "execution_count": null,
   "metadata": {
    "id": "iuv_BzOMQLHk"
   },
   "outputs": [],
   "source": []
  },
  {
   "cell_type": "markdown",
   "metadata": {
    "id": "uyi_4xO5QLKi"
   },
   "source": [
    "# The SVD"
   ]
  },
  {
   "cell_type": "code",
   "execution_count": null,
   "metadata": {
    "id": "SBB7A5sdIHTQ"
   },
   "outputs": [],
   "source": [
    "A = np.random.randn(4,6)\n",
    "\n",
    "# its SVD\n",
    "U,s,Vt = np.linalg.svd(A)\n",
    "\n",
    "# create Sigma from sigma's\n",
    "S = np.zeros(np.shape(A))\n",
    "np.fill_diagonal(S,s)\n",
    "\n",
    "\n",
    "# show the matrices\n",
    "_,axs = plt.subplots(1,4,figsize=(10,6))\n",
    "\n",
    "axs[0].imshow(A,cmap='gray',aspect='equal')\n",
    "axs[0].set_title('$\\mathbf{A}$\\nThe matrix')\n",
    "\n",
    "axs[1].imshow(U,cmap='gray',aspect='equal')\n",
    "axs[1].set_title('$\\mathbf{U}$\\n(left singular vects)')\n",
    "\n",
    "axs[2].imshow(S,cmap='gray',aspect='equal')\n",
    "axs[2].set_title('$\\mathbf{\\Sigma}$\\n(singular vals)')\n",
    "\n",
    "axs[3].imshow(Vt,cmap='gray',aspect='equal')\n",
    "axs[3].set_title('$\\mathbf{V}$\\n(right singular vects)')\n",
    "\n",
    "plt.tight_layout()\n",
    "plt.savefig('Figure_13_02.png',dpi=300)\n",
    "plt.show()"
   ]
  },
  {
   "cell_type": "code",
   "execution_count": null,
   "metadata": {
    "id": "FtCjEjRDIERv"
   },
   "outputs": [],
   "source": []
  },
  {
   "cell_type": "markdown",
   "metadata": {
    "id": "U6vZvFYyQLOB"
   },
   "source": [
    "# Symmetric matrix"
   ]
  },
  {
   "cell_type": "code",
   "execution_count": null,
   "metadata": {
    "id": "LEuhPu9NQOcj"
   },
   "outputs": [],
   "source": [
    "A = np.random.randn(5,5)\n",
    "A = A.T@A\n",
    "\n",
    "# extract eigenvalues and singular values\n",
    "eigvals = np.linalg.eig(A)[0]\n",
    "sinvals = np.linalg.svd(A)[1]\n",
    "\n",
    "# they're the same!\n",
    "print(np.sort(eigvals))\n",
    "print(np.sort(sinvals))"
   ]
  },
  {
   "cell_type": "code",
   "execution_count": null,
   "metadata": {
    "id": "HleXjBLTUcm6"
   },
   "outputs": [],
   "source": []
  },
  {
   "cell_type": "markdown",
   "metadata": {
    "id": "QyQPFcOQUcqE"
   },
   "source": [
    "# Exercise 1"
   ]
  },
  {
   "cell_type": "code",
   "execution_count": null,
   "metadata": {
    "id": "_2vKsLB2sjIj"
   },
   "outputs": [],
   "source": [
    "# create a symmetric matrix\n",
    "A = np.random.randn(5,5)\n",
    "A = A.T@A\n",
    "# A = A+A.T # uncomment this line to repeat for A+A'\n",
    "\n",
    "# eigendecomposition\n",
    "evals,evecs = np.linalg.eig(A)\n",
    "\n",
    "# sorting them helps the comparison!\n",
    "sidx  = np.argsort(evals)[::-1]\n",
    "evals = evals[sidx]\n",
    "evecs = evecs[:,sidx]\n",
    "\n",
    "\n",
    "\n",
    "# SVD\n",
    "U,s,Vt = np.linalg.svd(A)\n",
    "\n",
    "# compare the eigenvalues and singular values\n",
    "print('Eigenvalues and singular values:')\n",
    "print(np.vstack((evals,s)).T)\n",
    "\n",
    "# now compare the left and right singular vectors\n",
    "print(f'\\nLeft-Right singular vectors (should be zeros)')\n",
    "print(np.round(U-Vt.T,10)) # remember to compare V not V^T!\n",
    "\n",
    "# then compare singular vectors with eigenvectors\n",
    "print(f'\\nSingular vectors - eigenvectors (should be zeros)')\n",
    "print(np.round(U-evecs,10)) # subtract and \n",
    "print(' ')                  \n",
    "print(np.round(U+evecs,10)) # add for sign indeterminancy\n"
   ]
  },
  {
   "cell_type": "code",
   "execution_count": null,
   "metadata": {
    "id": "3r_BOAApsjL0"
   },
   "outputs": [],
   "source": []
  },
  {
   "cell_type": "markdown",
   "metadata": {
    "id": "zI2wB_dVsjTu"
   },
   "source": [
    "# Exercise 2"
   ]
  },
  {
   "cell_type": "code",
   "execution_count": null,
   "metadata": {
    "id": "H7x_hc-yvOHN"
   },
   "outputs": [],
   "source": [
    "# sizes (try tall and wide)\n",
    "m = 10\n",
    "n = 4\n",
    "\n",
    "# random matrix and its economy (aka reduced) SVD\n",
    "A = np.random.randn(m,n)\n",
    "U,s,Vt = np.linalg.svd(A,full_matrices=False)\n",
    "\n",
    "# print sizes\n",
    "print(f'Size of A:  {A.shape}')\n",
    "print(f'Size of U:  {U.shape}')\n",
    "print(f\"Size of V': {Vt.shape}\")"
   ]
  },
  {
   "cell_type": "code",
   "execution_count": null,
   "metadata": {
    "id": "FMT0EGSusjYG"
   },
   "outputs": [],
   "source": []
  },
  {
   "cell_type": "markdown",
   "metadata": {
    "id": "skIVeKLyUctA"
   },
   "source": [
    "# Exercise 3"
   ]
  },
  {
   "cell_type": "code",
   "execution_count": null,
   "metadata": {
    "id": "juQTBu3rwmqw"
   },
   "outputs": [],
   "source": [
    "# The proof that |Uw|=|w| comes from expanding the vector magnitude to the dot product:\n",
    "# |Uw|^2 = (Uw)'(Uw) = w'U'U'w = w'Iw = w'w = |w|^2\n",
    "\n",
    "\n",
    "# empirical demonstration:\n",
    "U,s,Vt = np.linalg.svd(np.random.randn(5,5))\n",
    "w = np.random.randn(5,1)\n",
    "\n",
    "# print out the norms\n",
    "print( np.linalg.norm(U@w) )\n",
    "print( np.linalg.norm(  w) )"
   ]
  },
  {
   "cell_type": "code",
   "execution_count": null,
   "metadata": {
    "id": "nLpJuS3Awmtl"
   },
   "outputs": [],
   "source": []
  },
  {
   "cell_type": "markdown",
   "metadata": {
    "id": "0CHWxWA3wmv0"
   },
   "source": [
    "# Exercise 4"
   ]
  },
  {
   "cell_type": "code",
   "execution_count": null,
   "metadata": {
    "id": "TqLC0xZyY-0m"
   },
   "outputs": [],
   "source": [
    "# create a tall matrix with specified condition number\n",
    "m = 10\n",
    "n = 6\n",
    "\n",
    "condnum = 42\n",
    "\n",
    "# create U and V from random numbers\n",
    "U,_  = np.linalg.qr( np.random.randn(m,m) )\n",
    "Vt,_ = np.linalg.qr( np.random.randn(n,n) )\n",
    "\n",
    "# create singular values vector\n",
    "s = np.linspace(condnum,1,np.min((m,n)))\n",
    "\n",
    "# convert into a matrix\n",
    "S = np.zeros((m,n))\n",
    "np.fill_diagonal(S,s)\n",
    "\n",
    "# create matrix\n",
    "A = U@S@Vt\n",
    "\n",
    "# and show in a plot\n",
    "_,axs = plt.subplots(1,4,figsize=(12,6))\n",
    "\n",
    "axs[0].imshow(A, aspect='equal', cmap='gray')\n",
    "axs[0].set_title(f'A (cond={np.linalg.cond(A):.3f})')\n",
    "\n",
    "axs[1].imshow(U, aspect='equal', cmap='gray')\n",
    "axs[1].set_title(f'U (cond={np.linalg.cond(U):.3f})')\n",
    "\n",
    "axs[2].imshow(S, aspect='equal', cmap='gray')\n",
    "axs[2].set_title(f'$\\Sigma$ (cond={np.linalg.cond(S):.3f})')\n",
    "\n",
    "axs[3].imshow(Vt, aspect='equal', cmap='gray')\n",
    "axs[3].set_title(f'V$^T$ (cond={np.linalg.cond(Vt):.3f})')\n",
    "\n",
    "\n",
    "plt.tight_layout()\n",
    "plt.savefig('Figure_13_04.png',dpi=300)\n",
    "plt.show()"
   ]
  },
  {
   "cell_type": "code",
   "execution_count": null,
   "metadata": {
    "id": "cTcta5eVY-3k"
   },
   "outputs": [],
   "source": []
  },
  {
   "cell_type": "markdown",
   "metadata": {
    "id": "S3wEEKeqY-6b"
   },
   "source": [
    "# Exercise 5"
   ]
  },
  {
   "cell_type": "code",
   "execution_count": null,
   "metadata": {
    "id": "Vcf9oPoWnACj"
   },
   "outputs": [],
   "source": [
    "# create the matrix\n",
    "m = 40\n",
    "n = 30\n",
    "\n",
    "# define a 2D Gaussian for smoothing\n",
    "k = int((m+n)/4)\n",
    "X,Y = np.meshgrid(np.linspace(-3,3,k),np.linspace(-3,3,k))\n",
    "g2d = np.exp( -(X**2 + Y**2)/(k/8) )\n",
    "\n",
    "\n",
    "# now for the matrix\n",
    "from scipy.signal import convolve2d\n",
    "A = convolve2d(np.random.randn(m,n),g2d,mode='same')\n",
    "\n",
    "\n",
    "# SVD and create Sigma\n",
    "U,s,Vt = np.linalg.svd(A)\n",
    "S = np.zeros(np.shape(A))\n",
    "np.fill_diagonal(S,s)\n",
    "\n",
    "\n",
    "# visualize the matrices\n",
    "\n",
    "# and show in a plot\n",
    "_,axs = plt.subplots(1,4,figsize=(12,6))\n",
    "\n",
    "axs[0].imshow(A, aspect='equal', cmap='gray', vmin=-10,vmax=10)\n",
    "axs[0].set_title('A')\n",
    "\n",
    "axs[1].imshow(U, aspect='equal', cmap='gray')\n",
    "axs[1].set_title('U')\n",
    "\n",
    "axs[2].imshow(S, aspect='equal', cmap='gray')\n",
    "axs[2].set_title('$\\Sigma$')\n",
    "\n",
    "axs[3].imshow(Vt, aspect='equal', cmap='gray')\n",
    "axs[3].set_title('V$^T$')\n",
    "\n",
    "\n",
    "plt.tight_layout()\n",
    "plt.savefig('Figure_13_05a.png',dpi=300)\n",
    "plt.show()\n",
    "\n",
    "\n",
    "# and show the scree plot\n",
    "plt.figure(figsize=(12,3))\n",
    "plt.plot(100*s/np.sum(s),'ks-',markersize=10)\n",
    "plt.xlabel('Component index')\n",
    "plt.ylabel('Variance explained (%)')\n",
    "plt.title('Scree plot')\n",
    "plt.savefig('Figure_13_05b.png',dpi=300)\n",
    "plt.show()"
   ]
  },
  {
   "cell_type": "code",
   "execution_count": null,
   "metadata": {
    "id": "wAsww8sFopi0"
   },
   "outputs": [],
   "source": [
    "## now show the first N \"layers\" separately and summed\n",
    "\n",
    "numLayers = 4\n",
    "rank1mats = np.zeros((numLayers,m,n))\n",
    "\n",
    "\n",
    "# setup the figure\n",
    "_,axs = plt.subplots(2,numLayers,figsize=(10,6))\n",
    "\n",
    "# the loop\n",
    "for i in range(numLayers):\n",
    "    \n",
    "    # create this layer\n",
    "    rank1mats[i,:,:] = np.outer(U[:,i],Vt[i,:])*S[i,i]\n",
    "    \n",
    "    # show this layer\n",
    "    axs[0,i].imshow(rank1mats[i,:,:],cmap='gray', vmin=-10,vmax=10)\n",
    "    axs[0,i].set_title(f'L {i}')\n",
    "    axs[0,i].set_xticks([]), axs[0,i].set_yticks([])\n",
    "\n",
    "    # show the cumulative sum of layers\n",
    "    axs[1,i].imshow(np.sum(rank1mats[:i+1,:,:],axis=0),cmap='gray', vmin=-10,vmax=10)\n",
    "    axs[1,i].set_title(f'L 0:{i}')\n",
    "    axs[1,i].set_xticks([]), axs[1,i].set_yticks([])\n",
    "\n",
    "\n",
    "plt.tight_layout()\n",
    "plt.savefig('Figure_13_05c.png',dpi=300)\n",
    "plt.show()"
   ]
  },
  {
   "cell_type": "code",
   "execution_count": null,
   "metadata": {
    "id": "lMfB_brlnAE9"
   },
   "outputs": [],
   "source": []
  },
  {
   "cell_type": "markdown",
   "metadata": {
    "id": "GAJ5ogzznAHh"
   },
   "source": [
    "# Exercise 6"
   ]
  },
  {
   "cell_type": "code",
   "execution_count": null,
   "metadata": {
    "id": "hk3pvwmhnAKm"
   },
   "outputs": [],
   "source": [
    "# singular matrix\n",
    "A = np.random.randn(5,3) @ np.random.randn(3,5)\n",
    "\n",
    "# its SVD\n",
    "U,s,Vt = np.linalg.svd(A)\n",
    "\n",
    "# define a threshold (tolerance) for \"zero-valued\" singular values\n",
    "# I thought of using eps scaled by the size of A. Numpy fixed this to 10^-15, \n",
    "# which means it is not adapted to different computer precisions.\n",
    "tol = np.finfo(float).eps * np.max(A.shape)\n",
    "\n",
    "# invert the supra-threshhold sigma's\n",
    "sInv = np.zeros_like(s)\n",
    "sInv[s>tol] = 1/s[s>tol]\n",
    "\n",
    "# reconstruct\n",
    "S = np.zeros_like(A)\n",
    "np.fill_diagonal(S,sInv)\n",
    "Apinv = Vt.T @ S @ U.T\n",
    "\n",
    "# compare to pinv()\n",
    "ApinvNp = np.linalg.pinv(A)\n",
    "\n",
    "print(np.round( ApinvNp - Apinv ,5))"
   ]
  },
  {
   "cell_type": "code",
   "execution_count": null,
   "metadata": {
    "id": "qJSkysn3nAM7"
   },
   "outputs": [],
   "source": [
    "# check the source code for pinv\n",
    "??np.linalg.pinv"
   ]
  },
  {
   "cell_type": "code",
   "execution_count": null,
   "metadata": {
    "id": "Sakx5KbTnAPJ"
   },
   "outputs": [],
   "source": []
  },
  {
   "cell_type": "markdown",
   "metadata": {
    "id": "TBj-JcJSY-9D"
   },
   "source": [
    "# Exercise 7"
   ]
  },
  {
   "cell_type": "code",
   "execution_count": null,
   "metadata": {
    "id": "ytwaaeWqyg1q"
   },
   "outputs": [],
   "source": [
    "# left-inverse\n",
    "A = np.random.randn(6,4)\n",
    "\n",
    "# explicit left inverse\n",
    "Linv = np.linalg.inv(A.T@A)@A.T\n",
    "\n",
    "# pinv\n",
    "Apinv = np.linalg.pinv(A)\n",
    "\n",
    "# compare\n",
    "print(np.round( Linv - Apinv ,5))"
   ]
  },
  {
   "cell_type": "code",
   "execution_count": null,
   "metadata": {
    "id": "hjxHGXdEyg4b"
   },
   "outputs": [],
   "source": [
    "# right-inverse\n",
    "A = np.random.randn(4,6)\n",
    "\n",
    "# explicit right inverse\n",
    "Rinv = A.T@np.linalg.inv(A@A.T)\n",
    "\n",
    "# pinv\n",
    "Apinv = np.linalg.pinv(A)\n",
    "\n",
    "# compare\n",
    "print(np.round( Rinv - Apinv ,5))"
   ]
  },
  {
   "cell_type": "code",
   "execution_count": null,
   "metadata": {
    "id": "BbJ_reOPyg7K"
   },
   "outputs": [],
   "source": []
  },
  {
   "cell_type": "markdown",
   "metadata": {
    "id": "0dE5WAVqyg90"
   },
   "source": [
    "# Exercise 8"
   ]
  },
  {
   "cell_type": "code",
   "execution_count": null,
   "metadata": {
    "id": "yzUaxMLSyhAL"
   },
   "outputs": [],
   "source": [
    "# the matrix (from chapter 11)\n",
    "M = np.array([ [-1,1],\n",
    "               [-1,2] ])\n",
    "\n",
    "# its eigendecomposition\n",
    "evals,evecs = np.linalg.eig(M)\n",
    "l = evals[1]     # extract lambda1 for convenience\n",
    "v = evecs[:,[1]] # extract v1 for convenience\n",
    "\n",
    "LHS = M@v\n",
    "RHS = l*v\n",
    "\n",
    "# print out the two sides (as row vectors for visual convenience)\n",
    "print(LHS.T)\n",
    "print(RHS.T)"
   ]
  },
  {
   "cell_type": "code",
   "execution_count": null,
   "metadata": {
    "id": "J5pJMWCTUcv8"
   },
   "outputs": [],
   "source": [
    "# pinv(v)\n",
    "vPinv = np.linalg.pinv(v)\n",
    "\n",
    "# check\n",
    "vPinv@v"
   ]
  },
  {
   "cell_type": "code",
   "execution_count": null,
   "metadata": {
    "id": "Muh1-R6yUcy6"
   },
   "outputs": [],
   "source": [
    "# first equation\n",
    "LHS = vPinv @ M @ v\n",
    "RHS = l * vPinv @ v\n",
    "\n",
    "# these results are scalars (quadratic form)\n",
    "print(LHS)\n",
    "print(RHS)"
   ]
  },
  {
   "cell_type": "code",
   "execution_count": null,
   "metadata": {
    "id": "6d6kordeUc11"
   },
   "outputs": [],
   "source": [
    "# second equation\n",
    "LHS = M @ v @ vPinv\n",
    "RHS = l * v @ vPinv\n",
    "\n",
    "# these results are matrices\n",
    "print(LHS), print(' ')\n",
    "print(RHS)"
   ]
  },
  {
   "cell_type": "code",
   "execution_count": null,
   "metadata": {
    "id": "sSw_ibhMUdBH"
   },
   "outputs": [],
   "source": []
  }
 ],
 "metadata": {
  "colab": {
   "authorship_tag": "ABX9TyMri1C/mW0GGkdvg/nasUtn",
   "collapsed_sections": [],
   "name": "LA4DS_ch13.ipynb",
   "provenance": []
  },
  "kernelspec": {
   "display_name": "Python 3 (ipykernel)",
   "language": "python",
   "name": "python3"
  },
  "language_info": {
   "codemirror_mode": {
    "name": "ipython",
    "version": 3
   },
   "file_extension": ".py",
   "mimetype": "text/x-python",
   "name": "python",
   "nbconvert_exporter": "python",
   "pygments_lexer": "ipython3",
   "version": "3.10.14"
  }
 },
 "nbformat": 4,
 "nbformat_minor": 4
}
