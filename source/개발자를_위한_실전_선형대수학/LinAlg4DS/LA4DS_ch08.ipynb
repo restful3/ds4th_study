{
 "cells": [
  {
   "cell_type": "markdown",
   "metadata": {
    "id": "SbGFWGzkd44U"
   },
   "source": [
    "# Practical Linear Algebra for Data Science\n",
    "## Mike X Cohen (sincxpress.com)\n",
    "### https://www.oreilly.com/library/view/practical-linear-algebra/9781098120603/\n",
    "\n",
    "#### Code for chapter 8"
   ]
  },
  {
   "cell_type": "code",
   "execution_count": null,
   "metadata": {
    "id": "GVWZlfT-nThD"
   },
   "outputs": [],
   "source": [
    "import numpy as np\n",
    "import matplotlib.pyplot as plt\n",
    "\n",
    "# used to create non-regular subplots\n",
    "import matplotlib.gridspec as gridspec\n",
    "\n",
    "\n",
    "# NOTE: these lines define global figure properties used for publication.\n",
    "import matplotlib_inline.backend_inline\n",
    "matplotlib_inline.backend_inline.set_matplotlib_formats('svg') # display figures in vector format\n",
    "plt.rcParams.update({'font.size':14}) # set global font size"
   ]
  },
  {
   "cell_type": "code",
   "execution_count": null,
   "metadata": {
    "id": "_lzwhI-9nY7O"
   },
   "outputs": [],
   "source": []
  },
  {
   "cell_type": "markdown",
   "metadata": {
    "id": "ng1qvfR9nY9y"
   },
   "source": [
    "# Orthogonal matrices"
   ]
  },
  {
   "cell_type": "code",
   "execution_count": null,
   "metadata": {
    "id": "S9Aw-h1hncgn"
   },
   "outputs": [],
   "source": [
    "# specify the matrices\n",
    "Q1 = np.array([ [1,-1],[1,1] ]) / np.sqrt(2)\n",
    "Q2 = np.array([ [1,2,2],[2,1,-2],[-2,2,-1] ]) / 3\n",
    "\n",
    "# should be I (to within rounding error...)\n",
    "print( np.round(Q1.T @ Q1,8) ), print(' ')\n",
    "\n",
    "print( np.round(Q2.T @ Q2,8) )"
   ]
  },
  {
   "cell_type": "code",
   "execution_count": null,
   "metadata": {
    "id": "cE0U9IyUncjH"
   },
   "outputs": [],
   "source": []
  },
  {
   "cell_type": "markdown",
   "metadata": {
    "id": "UlONi5SqnclZ"
   },
   "source": [
    "# QR decomposition"
   ]
  },
  {
   "cell_type": "code",
   "execution_count": null,
   "metadata": {
    "id": "XiirvzAbxDIM"
   },
   "outputs": [],
   "source": [
    "# create a random matrix\n",
    "A = np.random.randn(6,6)\n",
    "\n",
    "# QR decomposition\n",
    "Q,R = np.linalg.qr(A)\n",
    "\n",
    "\n",
    "\n",
    "# show the matrices\n",
    "fig = plt.figure(figsize=(10,6))\n",
    "axs = [0]*5\n",
    "c = 1.5 # color limits\n",
    "\n",
    "gs1 = gridspec.GridSpec(2,6)\n",
    "axs[0] = plt.subplot(gs1[0,:2])\n",
    "axs[0].imshow(A,vmin=-c,vmax=c,cmap='gray')\n",
    "axs[0].set_title('A',fontweight='bold')\n",
    "\n",
    "axs[1] = plt.subplot(gs1[0,2:4])\n",
    "axs[1].imshow(Q,vmin=-c,vmax=c,cmap='gray')\n",
    "axs[1].set_title('Q',fontweight='bold')\n",
    "\n",
    "axs[2] = plt.subplot(gs1[0,4:6])\n",
    "axs[2].imshow(R,vmin=-c,vmax=c,cmap='gray')\n",
    "axs[2].set_title('R',fontweight='bold')\n",
    "\n",
    "axs[3] = plt.subplot(gs1[1,1:3])\n",
    "axs[3].imshow(A - Q@R,vmin=-c,vmax=c,cmap='gray')\n",
    "axs[3].set_title('A - QR',fontweight='bold')\n",
    "\n",
    "axs[4] = plt.subplot(gs1[1,3:5])\n",
    "axs[4].imshow(Q.T@Q,cmap='gray')\n",
    "axs[4].set_title(r'Q$^T$Q',fontweight='bold')\n",
    "\n",
    "# remove ticks from all axes\n",
    "for a in axs:\n",
    "  a.set_xticks([])\n",
    "  a.set_yticks([])\n",
    "\n",
    "plt.tight_layout()\n",
    "plt.savefig('Figure_08_01.png',dpi=300)\n",
    "plt.show()"
   ]
  },
  {
   "cell_type": "code",
   "execution_count": null,
   "metadata": {
    "id": "FijwWkd6xDLW"
   },
   "outputs": [],
   "source": []
  },
  {
   "cell_type": "code",
   "execution_count": null,
   "metadata": {
    "colab": {
     "base_uri": "https://localhost:8080/"
    },
    "executionInfo": {
     "elapsed": 281,
     "status": "ok",
     "timestamp": 1651655526791,
     "user": {
      "displayName": "Mike X Cohen",
      "userId": "13901636194183843661"
     },
     "user_tz": -60
    },
    "id": "qVYlldRKxDQM",
    "outputId": "6c7eabf9-48b8-4f3e-e8fc-5d30a369ea7b"
   },
   "outputs": [
    {
     "name": "stdout",
     "output_type": "stream",
     "text": [
      "Size of A (M,N): (4, 14)\n",
      "Size of Q (M,N): (4, 4)\n",
      "Size of R (M,N): (4, 14)\n"
     ]
    }
   ],
   "source": [
    "# QR and matrix sizes\n",
    "\n",
    "M = 4\n",
    "N = 14\n",
    "\n",
    "A = np.random.randn(M,N)\n",
    "Q,R = np.linalg.qr(A)\n",
    "\n",
    "# print the results\n",
    "print(f'Size of A (M,N): {A.shape}')\n",
    "print(f'Size of Q (M,N): {Q.shape}')\n",
    "print(f'Size of R (M,N): {R.shape}')"
   ]
  },
  {
   "cell_type": "code",
   "execution_count": null,
   "metadata": {
    "id": "1VoFE25FnZAd"
   },
   "outputs": [],
   "source": [
    "# illustration of full Q from M>N A\n",
    "\n",
    "A = np.array([ [1,-1] ]).T\n",
    "\n",
    "Q,R = np.linalg.qr(A,'complete')\n",
    "Q*np.sqrt(2)"
   ]
  },
  {
   "cell_type": "code",
   "execution_count": null,
   "metadata": {
    "id": "MvATXzy6gxLF"
   },
   "outputs": [],
   "source": []
  },
  {
   "cell_type": "code",
   "execution_count": null,
   "metadata": {
    "id": "_zZV-8T16w_j"
   },
   "outputs": [],
   "source": []
  },
  {
   "cell_type": "markdown",
   "metadata": {
    "id": "pa6VmNmtgxC6"
   },
   "source": [
    "# Exercise 1"
   ]
  },
  {
   "cell_type": "code",
   "execution_count": null,
   "metadata": {
    "id": "2IeYpplUgyl6"
   },
   "outputs": [],
   "source": [
    "# compute matrices\n",
    "Q  = np.linalg.qr( np.random.randn(5,5) )[0]\n",
    "Qt = Q.T\n",
    "Qi = np.linalg.inv( Q )\n",
    "\n",
    "# QtQ\n",
    "print(np.round( Qt@Q,8 )), print(' ')\n",
    "\n",
    "# QQt\n",
    "print(np.round( Q@Qt,8 )), print(' ')\n",
    "\n",
    "# Q^-1 Q\n",
    "print(np.round( Qi@Q,8 )), print(' ')\n",
    "\n",
    "# QQ^-1\n",
    "print(np.round( Q@Qi,8 ))\n"
   ]
  },
  {
   "cell_type": "code",
   "execution_count": null,
   "metadata": {
    "id": "FIL-5EB1gxAL"
   },
   "outputs": [],
   "source": []
  },
  {
   "cell_type": "markdown",
   "metadata": {
    "id": "aTOAHGupgw9E"
   },
   "source": [
    "# Exercise 2"
   ]
  },
  {
   "cell_type": "code",
   "execution_count": null,
   "metadata": {
    "id": "rDE2e0ykiFQF"
   },
   "outputs": [],
   "source": [
    "# create the matrix \n",
    "m = 4\n",
    "n = 4\n",
    "A = np.random.randn(m,n)\n",
    "\n",
    "# initialize\n",
    "Q = np.zeros((m,n))\n",
    "\n",
    "\n",
    "# the GS algo\n",
    "for i in range(n):\n",
    "    \n",
    "    # initialize\n",
    "    Q[:,i] = A[:,i]\n",
    "    \n",
    "    # orthogonalize\n",
    "    a = A[:,i] # convenience\n",
    "    for j in range(i): # only to earlier cols\n",
    "        q = Q[:,j] # convenience\n",
    "        Q[:,i]=Q[:,i]-np.dot(a,q)/np.dot(q,q)*q\n",
    "    \n",
    "    # normalize\n",
    "    Q[:,i] = Q[:,i] / np.linalg.norm(Q[:,i])\n",
    "\n",
    "    \n",
    "# \"real\" QR decomposition for comparison\n",
    "Q2,R = np.linalg.qr(A)\n",
    "\n",
    "\n",
    "# note the possible sign differences.\n",
    "# seemingly non-zero columns will be 0 when adding\n",
    "print( np.round( Q-Q2 ,10) ), print(' ')\n",
    "print( np.round( Q+Q2 ,10) )"
   ]
  },
  {
   "cell_type": "code",
   "execution_count": null,
   "metadata": {
    "id": "oh6UxjEigw1p"
   },
   "outputs": [],
   "source": []
  },
  {
   "cell_type": "markdown",
   "metadata": {
    "id": "6RwxfkYygwrX"
   },
   "source": [
    "# Exercise 3"
   ]
  },
  {
   "cell_type": "code",
   "execution_count": null,
   "metadata": {
    "id": "VOo3ORO5nZDf"
   },
   "outputs": [],
   "source": [
    "# create an orthogonal matrix, call it U (to avoid confusing with Q)\n",
    "U = np.linalg.qr( np.random.randn(6,6) )[0]\n",
    "\n",
    "\n",
    "# part 2: modulate the column norms\n",
    "for i in range(U.shape[0]):\n",
    "  U[:,i] = U[:,i]*(10+i)\n",
    "\n",
    "\n",
    "# part 3: Change one matrix element\n",
    "U[0,3] = 0 # this is q_{1,4}\n",
    "\n",
    "\n",
    "# QR decomp\n",
    "q,r = np.linalg.qr(U)\n",
    "\n",
    "# show R and, for part 2, Q'Q\n",
    "print( np.round(r,3) ), print(' ')\n",
    "# print( np.round(Q.T@Q,4))"
   ]
  },
  {
   "cell_type": "code",
   "execution_count": null,
   "metadata": {
    "id": "VyjtADNlnZGc"
   },
   "outputs": [],
   "source": []
  },
  {
   "cell_type": "markdown",
   "metadata": {
    "id": "1qVzJvY8nZI_"
   },
   "source": [
    "# Exercise 4"
   ]
  },
  {
   "cell_type": "code",
   "execution_count": null,
   "metadata": {
    "id": "jWr_hhVgCR13"
   },
   "outputs": [],
   "source": [
    "# a function to compute the inverse\n",
    "def oldSchoolInv(A):\n",
    "\n",
    "  # matrix size\n",
    "  m = A.shape[0]\n",
    "\n",
    "\n",
    "  # abort if non-square\n",
    "  if not np.diff(A.shape)[0]==0:\n",
    "    raise Exception('Matrix must be square.')\n",
    "  \n",
    "  # abort if singular\n",
    "  if np.linalg.matrix_rank(A)<m:\n",
    "    raise Exception('Matrix must be full-rank.')\n",
    "\n",
    "\n",
    "  # initialize\n",
    "  M = np.zeros((m,m)) # minors matrix\n",
    "  G = np.zeros((m,m)) # grid matrix\n",
    "\n",
    "  # compute minors matrix\n",
    "  for i in range(m):\n",
    "    for j in range(m):\n",
    "      \n",
    "      # select rows and cols\n",
    "      rows = [True]*m\n",
    "      rows[i] = False\n",
    "      \n",
    "      cols = [True]*m\n",
    "      cols[j] = False\n",
    "      \n",
    "      # compute the minors\n",
    "      M[i,j]=np.linalg.det(A[rows,:][:,cols])\n",
    "      \n",
    "      # compute Grid\n",
    "      G[i,j] = (-1)**(i+j)\n",
    "\n",
    "          \n",
    "  # compute cofactors matrix\n",
    "  C = M * G\n",
    "\n",
    "  # compute adjugate matrix\n",
    "  return C.T / np.linalg.det(A)"
   ]
  },
  {
   "cell_type": "code",
   "execution_count": null,
   "metadata": {
    "id": "O39IfYJSCR5A"
   },
   "outputs": [],
   "source": [
    "# create a matrix\n",
    "n = 5\n",
    "A = np.random.randn(n,n)\n",
    "\n",
    "# old-school inverse method\n",
    "Ainv_old = oldSchoolInv(A)\n",
    "AAi_old  = Ainv_old@A\n",
    "\n",
    "# via QR\n",
    "Q,R = np.linalg.qr(A)\n",
    "Ainv_qr = oldSchoolInv(R)@Q.T\n",
    "AAi_qr  = Ainv_qr@A\n",
    "\n",
    "\n",
    "\n",
    "# differences\n",
    "trueI = np.eye(n)\n",
    "sse = [0,0] # sse = sum of squared errors\n",
    "sse[0] = np.sqrt(np.sum((AAi_old-trueI)**2))\n",
    "sse[1] = np.sqrt(np.sum((AAi_qr-trueI )**2))\n",
    "\n",
    "\n",
    "# and plot\n",
    "plt.figure(figsize=(6,6))\n",
    "\n",
    "plt.bar(range(2),sse,color=[.7,.7,.7])\n",
    "plt.xticks(range(2),labels=['OldSchool','QR'])\n",
    "plt.ylim([0,np.max(sse)*1.1])\n",
    "plt.ylabel('Eucl. distance to identity')\n",
    "plt.title(f'Inverse error ({n}x{n} matrix)',ha='center')\n",
    "plt.savefig('Figure_08_03.png',dpi=300)\n",
    "plt.show()"
   ]
  },
  {
   "cell_type": "code",
   "execution_count": null,
   "metadata": {
    "id": "_KFtpxWBPMNl"
   },
   "outputs": [],
   "source": []
  },
  {
   "cell_type": "markdown",
   "metadata": {
    "id": "sV7TNLMiPMgy"
   },
   "source": [
    "# Exercise 5"
   ]
  },
  {
   "cell_type": "code",
   "execution_count": null,
   "metadata": {
    "id": "mbjithRsCR7x"
   },
   "outputs": [],
   "source": [
    "# run experiment\n",
    "\n",
    "# matrix size\n",
    "n = 5\n",
    "\n",
    "numExprs = 100\n",
    "\n",
    "sse = np.zeros((numExprs,2))\n",
    "\n",
    "for expi in range(numExprs):\n",
    "\n",
    "  # create matrix\n",
    "  A = np.random.randn(n,n)\n",
    "\n",
    "  # old-school inverse method\n",
    "  Ainv_old = oldSchoolInv(A)\n",
    "  AAi_old  = Ainv_old@A\n",
    "\n",
    "  # via QR\n",
    "  Q,R = np.linalg.qr(A)\n",
    "  Ainv_qr = oldSchoolInv(R)@Q.T # using the old-school method\n",
    "  # Ainv_qr = np.linalg.inv(R)@Q.T # using numpy's inv\n",
    "  AAi_qr  = Ainv_qr@A\n",
    "\n",
    "  # differences\n",
    "  trueI = np.eye(n)\n",
    "  sse[expi,0] = np.sqrt(np.sum((AAi_old-trueI)**2))\n",
    "  sse[expi,1] = np.sqrt(np.sum((AAi_qr-trueI )**2))\n",
    "\n",
    "\n",
    "# and plot\n",
    "plt.figure(figsize=(6,6))\n",
    "\n",
    "plt.plot(np.zeros(numExprs),sse[:,0],'ko')\n",
    "plt.plot(np.ones(numExprs),sse[:,1],'ko')\n",
    "plt.bar(range(2),np.mean(sse,axis=0),color=[.7,.7,.7])\n",
    "\n",
    "plt.xticks(range(2),labels=['OldSchool','QR'])\n",
    "plt.ylim([0,np.max(sse)*1.1])\n",
    "plt.ylabel('Eucl. distance to identity')\n",
    "plt.title(f'Inverse error ({n}x{n} matrix)',ha='center')\n",
    "plt.savefig('Figure_08_04a.png',dpi=300)\n",
    "plt.show()"
   ]
  },
  {
   "cell_type": "code",
   "execution_count": null,
   "metadata": {
    "id": "rNNsanBFCSBK"
   },
   "outputs": [],
   "source": [
    "# and plot\n",
    "plt.figure(figsize=(6,6))\n",
    "\n",
    "plt.plot(np.zeros(numExprs),sse[:,0],'ko')\n",
    "plt.plot(np.ones(numExprs),sse[:,1],'ko')\n",
    "plt.bar(range(2),np.mean(sse,axis=0),color=[.7,.7,.7])\n",
    "\n",
    "plt.xticks(range(2),labels=['OldSchool','QR'])\n",
    "plt.ylim([0,np.max(sse)*1.1])\n",
    "plt.ylabel('Eucl. distance to identity')\n",
    "plt.title(f'Inverse error ({n}x{n} matrix)',ha='center')\n",
    "plt.savefig('Figure_08_04b.png',dpi=300)\n",
    "plt.show()"
   ]
  },
  {
   "cell_type": "code",
   "execution_count": null,
   "metadata": {
    "id": "9bizgUgBCSER"
   },
   "outputs": [],
   "source": []
  },
  {
   "cell_type": "markdown",
   "metadata": {
    "id": "QOPZo7YvnZOM"
   },
   "source": [
    "# Exercise 6"
   ]
  },
  {
   "cell_type": "code",
   "execution_count": null,
   "metadata": {
    "id": "RxgrkSPidyer"
   },
   "outputs": [],
   "source": [
    "# create a random orthogonal matrix\n",
    "n = 13\n",
    "Q,R = np.linalg.qr(np.random.randn(n,n))\n",
    "\n",
    "# print out the norms\n",
    "print( np.linalg.norm(Q,2),               # induced 2-norm\n",
    "       np.sqrt( np.sum(Q**2) )/np.sqrt(n) # manually computed Frobenius norm\n",
    ")"
   ]
  },
  {
   "cell_type": "code",
   "execution_count": null,
   "metadata": {
    "id": "9vWz0WKpdyhZ"
   },
   "outputs": [],
   "source": [
    "# effects of matrix multiplication on vector norm\n",
    "\n",
    "# a random vector\n",
    "v = np.random.randn(n,1)\n",
    "\n",
    "# norms\n",
    "norm_v  = np.linalg.norm(v)\n",
    "norm_Qv = np.linalg.norm(Q@v)\n",
    "\n",
    "# print them\n",
    "print(norm_v)\n",
    "print(norm_Qv)"
   ]
  },
  {
   "cell_type": "code",
   "execution_count": null,
   "metadata": {
    "id": "vGzsRrnZdykb"
   },
   "outputs": [],
   "source": []
  },
  {
   "cell_type": "markdown",
   "metadata": {
    "id": "QONGxiHldynM"
   },
   "source": [
    "# Exercise 7"
   ]
  },
  {
   "cell_type": "code",
   "execution_count": null,
   "metadata": {
    "id": "-8EYAjymj3SO"
   },
   "outputs": [],
   "source": [
    "# the matrix\n",
    "A = np.random.randn(10,4)\n",
    "\n",
    "# get R\n",
    "_,R = np.linalg.qr(A,'complete')\n",
    "\n",
    "# examine R\n",
    "np.round(R,3)"
   ]
  },
  {
   "cell_type": "code",
   "execution_count": null,
   "metadata": {
    "id": "oYTTNENudyqQ"
   },
   "outputs": [],
   "source": [
    "# invertible submatrix\n",
    "Rsub = R[:4,:]\n",
    "\n",
    "# inverses\n",
    "Rsub_inv = np.linalg.inv(Rsub)\n",
    "Rleftinv = np.linalg.pinv(R)\n",
    "\n",
    "# print out both\n",
    "print('Full inverse of R submatrix:')\n",
    "print(np.round(Rsub_inv,3)), print(f'\\n\\n')\n",
    "\n",
    "print('Left inverse of R:')\n",
    "print(np.round(Rleftinv,3))"
   ]
  },
  {
   "cell_type": "code",
   "execution_count": null,
   "metadata": {
    "id": "sXL6v4r7dytG"
   },
   "outputs": [],
   "source": []
  }
 ],
 "metadata": {
  "colab": {
   "authorship_tag": "ABX9TyNJwYt3gWKX2Ggt6ivOaiDi",
   "collapsed_sections": [],
   "name": "LA4DS_ch08.ipynb",
   "provenance": []
  },
  "kernelspec": {
   "display_name": "Python 3 (ipykernel)",
   "language": "python",
   "name": "python3"
  },
  "language_info": {
   "codemirror_mode": {
    "name": "ipython",
    "version": 3
   },
   "file_extension": ".py",
   "mimetype": "text/x-python",
   "name": "python",
   "nbconvert_exporter": "python",
   "pygments_lexer": "ipython3",
   "version": "3.10.9"
  },
  "toc": {
   "base_numbering": 1,
   "nav_menu": {},
   "number_sections": true,
   "sideBar": true,
   "skip_h1_title": false,
   "title_cell": "Table of Contents",
   "title_sidebar": "Contents",
   "toc_cell": false,
   "toc_position": {},
   "toc_section_display": true,
   "toc_window_display": false
  }
 },
 "nbformat": 4,
 "nbformat_minor": 1
}
