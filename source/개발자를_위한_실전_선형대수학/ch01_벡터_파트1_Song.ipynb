{
 "cells": [
  {
   "cell_type": "markdown",
   "id": "233180ae",
   "metadata": {},
   "source": [
    "# NumPy로 벡터 생성 및 시각화 하기\n",
    "\n",
    "- **벡터(vector)의 정의와 특성**\n",
    "    - 정의 : 선형대수학에서 벡터는 수를 순서대로 나열 한것\n",
    "    - 차원(dimensionality) : 벡터가 가진 원소의 수\n",
    "    - 방향(orientation) : 열 방향(높이 세워진), 행 방향(길고 평평하게 누운)\n",
    "    - $R^N$ : $R$은 실수, $N$은 차원\n",
    "    \n",
    "\n",
    "<img src='./images/e_01_01.png'>\n",
    "\n",
    "- [식 1-1]의 차원은?\n",
    "    - **x**는 4차원 열벡터\n",
    "    - **y**는 2차원 열벡터\n",
    "    - **z**는 4차원 행백터\n",
    "    \n",
    "- **x**와 **z**는 동일 벡터 인가?\n",
    "    - **x**와 **z** 는 동일한 순서로 동일한 원소를 가지고 있지만, 방향이 다르기에, 다른 벡터이다\n",
    "    - 벡터에 데이터를 저장할 때는 방향이 중요하지 않다.\n",
    "    - 하지만 파이썬 연산에서는 방향이 잘못 되면, 예기치 못한 결과가 나온다.\n",
    "\n",
    "- 서로 다른 **차원**의 의미\n",
    "    - 선형대수 : 벡터가 가진 원소의 수\n",
    "    - 파이썬 : 수 객체를 출력하는 데 사용되는 기하학적 차원의 수\n",
    "    - 선형대수의 차원은, 파이썬에서는 lengh, shape 에 해당\n",
    "    \n",
    "- 전치 연산 (transpose operation)\n",
    "    - 선형대수학에서 아무런 표현이 없다면 기본 열 벡터\n",
    "    - 행백터는 **w**$^T$ 로 표현"
   ]
  },
  {
   "cell_type": "code",
   "execution_count": 7,
   "id": "b7e6a342",
   "metadata": {},
   "outputs": [
    {
     "name": "stdout",
     "output_type": "stream",
     "text": [
      "asList:  [1, 2, 3]\n",
      "asArray:  [1 2 3]\n",
      "rowVec:  [[1 2 3]]\n",
      "colVec: \n",
      " [[1]\n",
      " [2]\n",
      " [3]]\n"
     ]
    }
   ],
   "source": [
    "import numpy as np\n",
    "\n",
    "asList = [1, 2, 3]\n",
    "print('asList: ', asList)\n",
    "\n",
    "asArray = np.array([1, 2, 3]) # 1차원 배열\n",
    "rowVec = np.array([[1, 2, 3]]) # 행\n",
    "colVec = np.array([[1], [2], [3]]) # 열\n",
    "\n",
    "print('asArray: ', asArray)\n",
    "print('rowVec: ', rowVec)\n",
    "print('colVec: \\n', colVec)"
   ]
  },
  {
   "cell_type": "markdown",
   "id": "7fcbf8ae",
   "metadata": {},
   "source": [
    "- asArray 변수 : 방향이 없는 배열, 1차원 리스트\n",
    "- rowVec 변수 : 행백터, 하나의 행이 모든 숫자를 가짐\n",
    "- colVec 변수 : 열백터, 하나의 숫자를 가진 행이 여러개"
   ]
  },
  {
   "cell_type": "code",
   "execution_count": 8,
   "id": "7adc39da",
   "metadata": {},
   "outputs": [
    {
     "data": {
      "text/plain": [
       "((3,), (1, 3), (3, 1))"
      ]
     },
     "execution_count": 8,
     "metadata": {},
     "output_type": "execute_result"
    }
   ],
   "source": [
    "asArray.shape, rowVec.shape, colVec.shape"
   ]
  },
  {
   "cell_type": "markdown",
   "id": "457d838c",
   "metadata": {},
   "source": [
    "## 벡터의 기하학적 해석\n",
    "\n",
    "- 벡터의 \n",
    "    - 대수학적 해석 : 순서대로 나열된 수 목록 (ordered list of numbers)\n",
    "    - 기하학적 해석 : \n",
    "        - 특정 길이(또는 크기, magnitude)와 방향(또는 각도, angle, 양의 x축 기준)을 가진 직선\n",
    "        - 벡터의 두 점은 꼬리(시작하는 곳)과 머리 (끝나는 곳)라고 부름 (머리에 화살표 달려 있음)\n",
    "        - 벡터와 좌표는 일반적으로 다르나, 벡터가 원점에서 시작하면 동일 함, \n",
    "        - 이를 기준위치(standard position)이라고 함 (그림 1-1)\n",
    "\n",
    "<img src='./images/fig_01_01.png'>"
   ]
  },
  {
   "cell_type": "markdown",
   "id": "4e4c624e",
   "metadata": {},
   "source": [
    "# 벡터 연산"
   ]
  },
  {
   "cell_type": "markdown",
   "id": "a2cd6b32",
   "metadata": {},
   "source": [
    "## 두 벡터의 덧셈\n",
    "\n",
    "- 두 벡터의 덧셈은 서로 대응되는 원소끼리\n",
    "<img src='./images/e_01_02.png'>\n",
    "\n",
    "- 동일 차원의 벡터 끼리만 가능\n",
    "- 뻴셈도 동일 (식1-3)\n",
    "\n",
    "<img src='./images/e_01_03.png'>"
   ]
  },
  {
   "cell_type": "code",
   "execution_count": 9,
   "id": "d52a1b1b",
   "metadata": {},
   "outputs": [],
   "source": [
    "v = np.array([4, 5, 6])\n",
    "w = np.array([10, 20, 30])\n",
    "u = np.array([0, 3, 6, 9])"
   ]
  },
  {
   "cell_type": "code",
   "execution_count": 10,
   "id": "f731b04b",
   "metadata": {},
   "outputs": [
    {
     "data": {
      "text/plain": [
       "array([14, 25, 36])"
      ]
     },
     "execution_count": 10,
     "metadata": {},
     "output_type": "execute_result"
    }
   ],
   "source": [
    "v+w"
   ]
  },
  {
   "cell_type": "code",
   "execution_count": 12,
   "id": "06ac3bfb",
   "metadata": {},
   "outputs": [
    {
     "ename": "ValueError",
     "evalue": "operands could not be broadcast together with shapes (4,) (3,) ",
     "output_type": "error",
     "traceback": [
      "\u001b[0;31m---------------------------------------------------------------------------\u001b[0m",
      "\u001b[0;31mValueError\u001b[0m                                Traceback (most recent call last)",
      "Cell \u001b[0;32mIn[12], line 1\u001b[0m\n\u001b[0;32m----> 1\u001b[0m \u001b[43mu\u001b[49m\u001b[38;5;241;43m+\u001b[39;49m\u001b[43mw\u001b[49m\n",
      "\u001b[0;31mValueError\u001b[0m: operands could not be broadcast together with shapes (4,) (3,) "
     ]
    }
   ],
   "source": [
    "u+w # 오류 차원 불일치"
   ]
  },
  {
   "cell_type": "markdown",
   "id": "394c044b",
   "metadata": {},
   "source": [
    "<img src='./images/e_01_04.png'>\n",
    "\n",
    "- 두 벡터의 차원과 방향이 같을 때만 더할 수 있지만\n",
    "- 넘파이에서는 브로드케스팅을 통해 가능 (뒤에 나옴)"
   ]
  },
  {
   "cell_type": "code",
   "execution_count": 15,
   "id": "621673e2",
   "metadata": {},
   "outputs": [
    {
     "data": {
      "text/plain": [
       "array([[14, 15, 16],\n",
       "       [24, 25, 26],\n",
       "       [34, 35, 36]])"
      ]
     },
     "execution_count": 15,
     "metadata": {},
     "output_type": "execute_result"
    }
   ],
   "source": [
    "v = np.array([[4, 5, 6]]) # 행벡터\n",
    "w = np.array([[10, 20, 30]]).T # 열벡터\n",
    "v + w"
   ]
  },
  {
   "cell_type": "markdown",
   "id": "a33e796b",
   "metadata": {},
   "source": [
    "## 벡터의 덧셈과 뺄셈의 기학학적 해석\n",
    "\n",
    "- 두 벡터를 기하학적으로 더할 때 \n",
    "    - 한 벡터의 꼬리와 다른 벡터의 머리를 연결\n",
    "    - 더한 결과 벡터는, 첫 번째 벡터의 꼬리와 두 번째 벡터의 머리를 이은 선 (그림 1-2 A)\n",
    "    \n",
    "- 두 벡터를 기하학적으로 뺄 때\n",
    "    - 두 벡터의 꼬리들을 같은 좌표에 둡니다(기준 위치에 두 벡터를 둡니다)\n",
    "    - 뺸 결과 벡터는, 두번쩨 벡터의 머리에서 첫 번째 벡터의 머리로 가는 선 (그림 1-2 B)\n",
    "\n",
    "<img src='./images/fig_01_02.png'>"
   ]
  },
  {
   "cell_type": "markdown",
   "id": "f3aa4928",
   "metadata": {},
   "source": [
    "## 스칼라-벡터 곱샘\n",
    "\n",
    "- 스칼라 : \n",
    "    - 벡터나 행렬에 포함된 숫자가 아닌 그 수 자체\n",
    "    - $\\alpha$ 나 $\\lambda$ 등 그리스 문자료 표현\n",
    "    - $\\lambda$**w**\n",
    "\n",
    "<img src='./images/e_01_05.png'>\n",
    "\n",
    "- 영벡터(zero-vector)\n",
    "    - 모든 원소가 0\n",
    "    - 볼드체 **0** 로 표시하는 선형대수의 특수한 벡터\n",
    "    - 영벡터를 사용해 문제를 푸는 것을 **자명한 해(trivial solution)** 이라고 함\n",
    "    - '...을 풀 수 있는 **0**이 아닌 벡터를 찾아라' = '자명하지 않은 해를 찾아라'"
   ]
  },
  {
   "cell_type": "code",
   "execution_count": 17,
   "id": "49754eeb",
   "metadata": {},
   "outputs": [
    {
     "data": {
      "text/plain": [
       "([3, 4, 5, 3, 4, 5], array([ 6,  8, 10]))"
      ]
     },
     "execution_count": 17,
     "metadata": {},
     "output_type": "execute_result"
    }
   ],
   "source": [
    "s = 2\n",
    "a = [3, 4, 5]\n",
    "b = np.array(a) # np 배열\n",
    "a*s, b*s"
   ]
  },
  {
   "cell_type": "markdown",
   "id": "25d4afb0",
   "metadata": {},
   "source": [
    "- '\\*' 연산\n",
    "    - 파이썬의 \"\\*\" 연산은 변수 타입에 따라 다르게 동작 하도록 재정의\n",
    "    - 리스트에 스칼라를 \"\\*\" 연산 하면, 리스트를 여러 번 반복\n",
    "    - numpy 배열 이라면, \"\\*\"은 원소별 곱셈 수행\n",
    "    - s가 2.0 과 같이 실수 이면, 리스트 반복 연산을 수행 하지 못함"
   ]
  },
  {
   "cell_type": "code",
   "execution_count": 19,
   "id": "b241c8bf",
   "metadata": {},
   "outputs": [
    {
     "ename": "TypeError",
     "evalue": "can't multiply sequence by non-int of type 'float'",
     "output_type": "error",
     "traceback": [
      "\u001b[0;31m---------------------------------------------------------------------------\u001b[0m",
      "\u001b[0;31mTypeError\u001b[0m                                 Traceback (most recent call last)",
      "Cell \u001b[0;32mIn[19], line 4\u001b[0m\n\u001b[1;32m      2\u001b[0m a \u001b[38;5;241m=\u001b[39m [\u001b[38;5;241m3\u001b[39m, \u001b[38;5;241m4\u001b[39m, \u001b[38;5;241m5\u001b[39m]\n\u001b[1;32m      3\u001b[0m b \u001b[38;5;241m=\u001b[39m np\u001b[38;5;241m.\u001b[39marray(a) \u001b[38;5;66;03m# np 배열\u001b[39;00m\n\u001b[0;32m----> 4\u001b[0m \u001b[43ma\u001b[49m\u001b[38;5;241;43m*\u001b[39;49m\u001b[43ms\u001b[49m\n",
      "\u001b[0;31mTypeError\u001b[0m: can't multiply sequence by non-int of type 'float'"
     ]
    }
   ],
   "source": [
    "s = 2.0\n",
    "a = [3, 4, 5]\n",
    "b = np.array(a) # np 배열\n",
    "a*s"
   ]
  },
  {
   "cell_type": "code",
   "execution_count": 20,
   "id": "0e27b476",
   "metadata": {},
   "outputs": [
    {
     "data": {
      "text/plain": [
       "array([ 6.,  8., 10.])"
      ]
     },
     "execution_count": 20,
     "metadata": {},
     "output_type": "execute_result"
    }
   ],
   "source": [
    "b*s"
   ]
  },
  {
   "cell_type": "markdown",
   "id": "90b006df",
   "metadata": {},
   "source": [
    "## 스칼라-벡터 덧셈"
   ]
  },
  {
   "cell_type": "markdown",
   "id": "f0bb294e",
   "metadata": {},
   "source": [
    "- 벡터에 스칼라를 더하는 것은, 선형대수학에서는 불가능\n",
    "- 파이썬에서는 각 벡터 원소에 스칼라를 더해 주는 연산이 됨"
   ]
  },
  {
   "cell_type": "code",
   "execution_count": 21,
   "id": "1b30e4b9",
   "metadata": {},
   "outputs": [
    {
     "data": {
      "text/plain": [
       "array([5, 7])"
      ]
     },
     "execution_count": 21,
     "metadata": {},
     "output_type": "execute_result"
    }
   ],
   "source": [
    "s = 2\n",
    "v = np.array([3, 5])\n",
    "s + v"
   ]
  },
  {
   "cell_type": "markdown",
   "id": "a24e21a8",
   "metadata": {},
   "source": [
    "**스칼라-벡터 곱셈의 기하학적 해석**\n",
    "\n",
    "<img src='./images/fig_01_03.png'>\n",
    "\n",
    "- 스칼라는 벡터의 방향을 바꾸지 않고 크기만 조절\n",
    "- 스칼라가 음수 일 때는 방향을 180 도 바꾸는 것으로 보임\n",
    "- 벡터는 원점을 통과해 양방향의 무한대로 가는 무한히 긴 선을 가리킨다는 해석(1차원 부분공간) 존재\n",
    "- 180도 회전된 벡터는 여전히 동일 벡터, 스칼라가 방향을 바꾼 것이 아니게 됨\n",
    "\n",
    "- 벡터 평균\n",
    "    - 두 벡터를 더해서, 1/2 를 곱해 준 것"
   ]
  },
  {
   "cell_type": "markdown",
   "id": "21e82de2",
   "metadata": {},
   "source": [
    "## 전치\n",
    "\n",
    "- 전치 연산\n",
    "    - 열벡터를 행벡터로 혹은 그 반대로 변환\n",
    "    - (행, 열) 인덱스를 가지는 행렬의 인덱스를 바꾸는 것\n",
    "    - 벡터를 두번 전치하면 원래의 방향이 됨\n",
    "    - **v**$^{TT} = $**v**\n",
    "    \n",
    "\n",
    "<img src='./images/e_01_06.png'>\n",
    "\n"
   ]
  },
  {
   "cell_type": "markdown",
   "id": "c3459046",
   "metadata": {},
   "source": [
    "## 파이썬에서 벡터 브로드캐스팅\n",
    "\n",
    "- 브로드케스팅\n",
    "    - 선형대수학에는 없음\n",
    "    - 한 벡터를 다른 벡터의 각 원소로 연삭을 여러 번 반복하는 것\n",
    "    - 아래의 식에서, 벡터 [1, 2, 3]의 전치와 [10, 20]의 페턴을 모은 다음 덧셈을 브로드케스팅\n",
    "    - 이 식들을 하나의 식으로 간결하게 구현 가능\n",
    "    \n",
    "<img src='./images/e_01_06_02.png'>"
   ]
  },
  {
   "cell_type": "code",
   "execution_count": 34,
   "id": "eaeb19cc",
   "metadata": {},
   "outputs": [
    {
     "data": {
      "text/plain": [
       "(3, 1)"
      ]
     },
     "execution_count": 34,
     "metadata": {},
     "output_type": "execute_result"
    }
   ],
   "source": [
    "v = np.array([[1, 2, 3]]).T #열벡터\n",
    "v.shape"
   ]
  },
  {
   "cell_type": "code",
   "execution_count": 35,
   "id": "0d901e76",
   "metadata": {},
   "outputs": [
    {
     "data": {
      "text/plain": [
       "(1, 2)"
      ]
     },
     "execution_count": 35,
     "metadata": {},
     "output_type": "execute_result"
    }
   ],
   "source": [
    "w = np.array([[10, 20]]) # 행벡터\n",
    "w.shape"
   ]
  },
  {
   "cell_type": "code",
   "execution_count": 36,
   "id": "58aae483",
   "metadata": {},
   "outputs": [
    {
     "data": {
      "text/plain": [
       "array([[11, 21],\n",
       "       [12, 22],\n",
       "       [13, 23]])"
      ]
     },
     "execution_count": 36,
     "metadata": {},
     "output_type": "execute_result"
    }
   ],
   "source": [
    "z = v+w\n",
    "z"
   ]
  },
  {
   "cell_type": "code",
   "execution_count": 37,
   "id": "e0fc2e1c",
   "metadata": {},
   "outputs": [
    {
     "data": {
      "text/plain": [
       "(3, 2)"
      ]
     },
     "execution_count": 37,
     "metadata": {},
     "output_type": "execute_result"
    }
   ],
   "source": [
    "z.shape"
   ]
  },
  {
   "cell_type": "markdown",
   "id": "c4dc5416",
   "metadata": {},
   "source": [
    "- **v**를 행백터로, **w**를 열벡터로 변경해서 실행"
   ]
  },
  {
   "cell_type": "code",
   "execution_count": 38,
   "id": "211edb9f",
   "metadata": {},
   "outputs": [
    {
     "data": {
      "text/plain": [
       "((1, 3), (2, 1))"
      ]
     },
     "execution_count": 38,
     "metadata": {},
     "output_type": "execute_result"
    }
   ],
   "source": [
    "v = v.T\n",
    "w = w.T\n",
    "v.shape, w.shape"
   ]
  },
  {
   "cell_type": "code",
   "execution_count": 39,
   "id": "c68fbade",
   "metadata": {},
   "outputs": [
    {
     "data": {
      "text/plain": [
       "array([[11, 12, 13],\n",
       "       [21, 22, 23]])"
      ]
     },
     "execution_count": 39,
     "metadata": {},
     "output_type": "execute_result"
    }
   ],
   "source": [
    "v+w"
   ]
  },
  {
   "cell_type": "markdown",
   "id": "1ebb8e6d",
   "metadata": {},
   "source": [
    "# 벡터 크기와 단위벡터\n",
    "\n",
    "- 벡터의 크기(기하학적 길이 또는 노름norm)\n",
    "    - 벡터의 꼬리 부터 머리 까지의 거리\n",
    "    - 표준 유클리드(Euclidean)거리 공식(벡터 원소들의 제곱합에 제곱근을 취한 것, 식 1-7)\n",
    "    - 벡터 양 옆에 이중 수직 막대로 표시 ($||v||$)\n",
    "    - 일부 응용에서 $||v||^2$를 사용, 이때는 위 식의 오른편의 제곱근 항을 제거\n",
    "<img src='./images/e_01_07.png'>\n",
    "\n",
    "- 선형대수와 파이썬과의 불일치 내용\n",
    "    - 수학에서 벡터의 차원은 벡터의 원소수 이고, 길이는 기하학적 거리\n",
    "    - 파이썬에서 함수 len()은 베열의 차원 반환, np.norm()은 기하학적 거리 반환\n",
    "    - 이 책에서는 길이 대신 크기(혹은 기하학적 길이, 노름) 이라고 표현"
   ]
  },
  {
   "cell_type": "code",
   "execution_count": 40,
   "id": "437a19ca",
   "metadata": {},
   "outputs": [
    {
     "data": {
      "text/plain": [
       "(6, 14.422205101855956)"
      ]
     },
     "execution_count": 40,
     "metadata": {},
     "output_type": "execute_result"
    }
   ],
   "source": [
    "v = np.array([1,2,3, 7, 8, 9])\n",
    "v_dim = len(v) # 수학적 차원\n",
    "v_mag = np.linalg.norm(v) #수학적 길이, 크기, 또는 노름\n",
    "\n",
    "v_dim, v_mag"
   ]
  },
  {
   "cell_type": "markdown",
   "id": "1a0c6884",
   "metadata": {},
   "source": [
    "- 단위벡터(unit vector)\n",
    "    - 기하학적 길이가 1인 벡터\n",
    "    - 직교행렬, 회전 행렬, 고유벡터, 특이 벡터 등에 응용\n",
    "    - $||v|| = 1$ 로 정의\n",
    "\n",
    "<img src='./images/e_01_08.png'>\n",
    "\n",
    "- 다음은 부모 벡터(**v**)와 같은 방향의 단위 벡터($\\hat{v})를 표시하는 일반적인 규약\n",
    "\n",
    "<img src='./images/fig_01_04.png'>\n",
    "\n",
    "- '모든 비단위벡터는 연관된 단위벡터를 가진다' 는 항상 참은 아니다. 영벡터 존재"
   ]
  },
  {
   "cell_type": "markdown",
   "id": "f09474dd",
   "metadata": {},
   "source": [
    "# 벡터-내적\n",
    "\n",
    "- **내적(dot product)** 또는 **점곱, 스칼라곱**\n",
    "    - 선형대수 전체에서 가장 중요한 연산\n",
    "    - 합성곱, 상관관계, 푸리에변환, 행렬 곱셈, 선형 특징 추출, 신호 필터링 등 많은 연산과 알고리즘의 기본\n",
    "    - 표기법 : $a^Ta$,  $a \\cdot b$, $<a , b>$\n",
    "    - 내적은 하나의 숫자로 두 벡터 사이의 관계 의미\n",
    "    - 계산 알고리즘 : 두 벡터에 대응되는 원소끼리 곱한 다음 모든 결과를 더한다.\n",
    "\n",
    "<img src='./images/e_01_09.png'>\n",
    "\n",
    "- 차원이 동일한 벡터 끼리만 계산 가능\n",
    "\n",
    "<img src='./images/e_01_10.png'>"
   ]
  },
  {
   "cell_type": "code",
   "execution_count": 41,
   "id": "c2a5a99b",
   "metadata": {},
   "outputs": [
    {
     "data": {
      "text/plain": [
       "70"
      ]
     },
     "execution_count": 41,
     "metadata": {},
     "output_type": "execute_result"
    }
   ],
   "source": [
    "v = np.array([1,2, 3, 4])\n",
    "w = np.array([5, 6, 7, 8])\n",
    "np.dot(v, w)"
   ]
  },
  {
   "cell_type": "markdown",
   "id": "87e707bf",
   "metadata": {},
   "source": [
    "- np.dot()의 참고사항\n",
    "    - np.dot() 함수는 실제로 벡터-내적을 구현하지는 않는다\n",
    "    - 여러 내적으로 이루어진 행렬 곱셈을 구현 한 것 "
   ]
  },
  {
   "cell_type": "code",
   "execution_count": 49,
   "id": "8b8d92d9",
   "metadata": {},
   "outputs": [
    {
     "data": {
      "text/plain": [
       "(array([[70]]), (1, 4), (4, 1))"
      ]
     },
     "execution_count": 49,
     "metadata": {},
     "output_type": "execute_result"
    }
   ],
   "source": [
    "v = np.array([[1,2, 3, 4]])\n",
    "w = np.array([[5, 6, 7, 8]]).T\n",
    "np.dot(v, w), v.shape, w.shape"
   ]
  },
  {
   "cell_type": "code",
   "execution_count": 50,
   "id": "1bc7029c",
   "metadata": {},
   "outputs": [
    {
     "data": {
      "text/plain": [
       "(array([[ 5,  6,  7,  8],\n",
       "        [10, 12, 14, 16],\n",
       "        [15, 18, 21, 24],\n",
       "        [20, 24, 28, 32]]),\n",
       " (4, 1),\n",
       " (1, 4))"
      ]
     },
     "execution_count": 50,
     "metadata": {},
     "output_type": "execute_result"
    }
   ],
   "source": [
    "v = np.array([[1,2, 3, 4]]).T\n",
    "w = np.array([[5, 6, 7, 8]])\n",
    "np.dot(v, w), v.shape, w.shape"
   ]
  },
  {
   "cell_type": "markdown",
   "id": "623b2217",
   "metadata": {},
   "source": [
    "- 내적의 흥미로운 특성"
   ]
  },
  {
   "cell_type": "code",
   "execution_count": 52,
   "id": "c4056404",
   "metadata": {},
   "outputs": [],
   "source": [
    "v = np.array([1,2, 3, 4])\n",
    "w = np.array([5, 6, 7, 8])"
   ]
  },
  {
   "cell_type": "code",
   "execution_count": 53,
   "id": "2abd41c2",
   "metadata": {},
   "outputs": [
    {
     "data": {
      "text/plain": [
       "700"
      ]
     },
     "execution_count": 53,
     "metadata": {},
     "output_type": "execute_result"
    }
   ],
   "source": [
    "s = 10\n",
    "np.dot(s*v, w)"
   ]
  },
  {
   "cell_type": "code",
   "execution_count": 54,
   "id": "531a58c6",
   "metadata": {},
   "outputs": [
    {
     "data": {
      "text/plain": [
       "-70"
      ]
     },
     "execution_count": 54,
     "metadata": {},
     "output_type": "execute_result"
    }
   ],
   "source": [
    "s = -1\n",
    "np.dot(s*v, w)"
   ]
  },
  {
   "cell_type": "code",
   "execution_count": 55,
   "id": "e4cd294b",
   "metadata": {},
   "outputs": [
    {
     "data": {
      "text/plain": [
       "0"
      ]
     },
     "execution_count": 55,
     "metadata": {},
     "output_type": "execute_result"
    }
   ],
   "source": [
    "s = 0\n",
    "np.dot(s*v, w)"
   ]
  },
  {
   "cell_type": "markdown",
   "id": "183320ac",
   "metadata": {},
   "source": [
    "- 내적의 의미\n",
    "    - 두 벡터 사이의 유사성(similarty) 또는 매핑(mapping)의 척도\n",
    "        - 20명의 키와 몸무게 간의 유사성\n",
    "    - 내적의 크기는 데이터 단위에 따라 달라 짐\n",
    "        - 그램과 센치미터로 측정된 데이터의 내적이, 미터로 측정된 내적보다 크다\n",
    "        - 단위의 차이는 정규화 계수로 제거 가능\n",
    "        - 피어슨 상관계수는 두 변수 사이의 정규화된 내적\n",
    "        \n",
    "${\\displaystyle {\\text{피 어 슨 상 관 계 수 }}={{\\text{공 분 산 }} \\over {{\\text{표 준 편 차 }}\\cdot {\\text{표 준 편 차 }}}}}$\n",
    "\n",
    "${\\displaystyle r_{XY}={{{\\sum _{i}^{n}\\left(X_{i}-{\\overline {X}}\\right)\\left(Y_{i}-{\\overline {Y}}\\right)} \\over {n-1}} \\over {{\\sqrt {{\\sum _{i}^{n}\\left(X_{i}-{\\overline {X}}\\right)^{2}} \\over {n-1}}}{\\sqrt {{\\sum _{i}^{n}\\left(Y_{i}-{\\overline {Y}}\\right)^{2}} \\over {n-1}}}}}}$\n",
    "\n",
    "${\\displaystyle r_{XY}={{\\sum _{i}^{n}\\left(X_{i}-{\\overline {X}}\\right)\\left(Y_{i}-{\\overline {Y}}\\right)} \\over {{\\sqrt {\\sum _{i}^{n}\\left(X_{i}-{\\overline {X}}\\right)^{2}}}{\\sqrt {\\sum _{i}^{n}\\left(Y_{i}-{\\overline {Y}}\\right)^{2}}}}}}$"
   ]
  },
  {
   "cell_type": "markdown",
   "id": "435e2bc0",
   "metadata": {},
   "source": [
    "## 내적의 분배 법칙\n",
    "\n",
    "- 수학의 분배 법칙 ($a(b+c) = ab + ac$)을 벡터-내적에 적용\n",
    "\n",
    "<img src='./images/e_01_10_02.png'>\n",
    "\n",
    "- 즉, 벡터 덧셈의 내적읜 벡터-네적의 덧셈과 동일"
   ]
  },
  {
   "cell_type": "code",
   "execution_count": 56,
   "id": "6c56b592",
   "metadata": {},
   "outputs": [
    {
     "data": {
      "text/plain": [
       "(110, 110)"
      ]
     },
     "execution_count": 56,
     "metadata": {},
     "output_type": "execute_result"
    }
   ],
   "source": [
    "a = np.array([0, 1, 2])\n",
    "b = np.array([3, 5, 8])\n",
    "c = np.array([13, 21, 34])\n",
    "\n",
    "res1 = np.dot(a, b+c)\n",
    "res2 = np.dot(a, b) + np.dot(a, c)\n",
    "res1, res2"
   ]
  },
  {
   "cell_type": "markdown",
   "id": "78562e44",
   "metadata": {},
   "source": [
    "## 내적의 기하학적 해석\n",
    "\n",
    "- 내적의 기하학적 정의\n",
    "    - 두 벡터의 크기(노름)을 곱하고, 두 벡터 사이의 각도에서 코사인값 만큼 크기를 늘리는 것 (식 1-11)\n",
    "\n",
    "<img src='./images/e_01_11.png'>\n",
    "\n",
    "- 식 1-9와 식 1-11은 수학적으로 동일, 다르게 표현된 것\n",
    "- 그림 1-15는 두 벡터 사이의 각에 따른 내적의 부호 다섯 가지 사례\n",
    "- '직교벡터의 내적은 0'\n",
    "    - '두 벡터의 내적이 0 이면, 두 벡터는 직교' 와 동치\n",
    "\n",
    "<img src='./images/fig_01_05.png'>"
   ]
  },
  {
   "cell_type": "markdown",
   "id": "48f815d7",
   "metadata": {},
   "source": [
    "# 그 외 벡터 곱셈"
   ]
  },
  {
   "cell_type": "markdown",
   "id": "e7cbf82d",
   "metadata": {},
   "source": [
    "## 아다마르곱\n",
    "\n",
    "- 아다마르곱(Hardamard product)는 원소별로 곱하는 것을 뜻하는 멋진 용어\n",
    "- 두 벡터에 대응되는 각 원소를 곱 하는 것 \n",
    "- 같은 차원으 벡터 끼리만 가능\n",
    "\n",
    "<img src='./images/e_01_11_02.png'>"
   ]
  },
  {
   "cell_type": "code",
   "execution_count": 57,
   "id": "0f46fd82",
   "metadata": {},
   "outputs": [
    {
     "data": {
      "text/plain": [
       "array([ 5,  0, 35,  3])"
      ]
     },
     "execution_count": 57,
     "metadata": {},
     "output_type": "execute_result"
    }
   ],
   "source": [
    "a = np.array([5, 6, 7, 3])\n",
    "b = np.array([1, 0, 5, 1])\n",
    "a*b"
   ]
  },
  {
   "cell_type": "markdown",
   "id": "b5efc3e4",
   "metadata": {},
   "source": [
    "## 외적\n",
    "\n",
    "- 외적의 정의 및 특징\n",
    "    - 열벡터와 행벡터를 이용해 행렬을 만든다\n",
    "    - 외적 행렬의 각 행은, 행벡터 스칼라에 대응되는 열벡터 원소를 곱한 것\n",
    "    - 외적 행렬의 각 열은, 열벡터 스칼라에 대응되는 행백터 원소를 곱한 것 \n",
    "    - 수식으로는 **vw**$^T$\n",
    "    - np.outer() 함수로 구한다\n",
    "\n",
    "<img src='./images/e_01_11_03.png'>\n",
    "\n",
    "<img src='http://www.findmean.com/wp-content/uploads/2019/12/%EC%99%B8%EC%A0%81%EC%A0%95%EC%9D%982-768x266.png' width=300>\n",
    "\n",
    "- 외적의 기하학적 의미\n",
    "    - $a x b$ 는 또 다른 벡터 $c$를 생성하고, \n",
    "    - 이 벡터는 $a$, $b$ 두 벡터 모두에 직교한다. \n",
    "    - 오른손 법칙에 의해서 방향성이 결정되는데, 그래서 외적에서는 순서가 중요하다. \n",
    "    - $a x b$는 오른손을 아래와 같이 하여 $c$의 방향을 결정한다. \n",
    "<img src='https://mblogthumb-phinf.pstatic.net/MjAyMDA1MDJfMTAz/MDAxNTg4NDE0NzQxNDgw.l_mTw69T8Hmblk7OSbI7acLS4i3aJPgGV18KrxMrBfQg.92tWxsnawpHzU4M66floap-hVuDm7XcIZ9X_B2ass9og.PNG.sw4r/image.png?type=w800' width=300>\n",
    "    \n",
    "- 이 외적의 크기는 두 벡터의 스팬에 있는 평행사변형 면적과 동일하다. \n",
    "\n",
    "<img src='http://www.findmean.com/wp-content/uploads/2019/12/%EC%99%B8%EC%A0%81%EC%A0%95%EC%9D%98.png' width=300>\n",
    "\n",
    "- 따라서, 외적은 아래와 같이 공식적으로 정의될 수 있겠다. \n",
    "\n",
    "$a x b = ||a||||b|| sin(\\theta)n$\n",
    "\n",
    "- 여기서 $\\theta$는 $a, b$의 사이의 각도로, 0에서 180도 사이의 값이 될 수 있겠다. \n",
    "- $|| a ||, || b ||$는 두 벡터 $a$와 $b$의 각각에 대한 크기이고, \n",
    "- $n$은 $a$와 $b$ 벡터를 포함하는 평면에 수직인 단위 벡터이다. 평면의 법선 벡터라고 할 수 있겠다. \n",
    "- 방향성은 아까 앞에서 말했듯이, 오른손 법칙에 의해서 결정된다. \n",
    "\n",
    "\n",
    "[출처](http://www.findmean.com/%EC%88%98%ED%95%99/%EB%B2%A1%ED%84%B0/%EB%B2%A1%ED%84%B0%EC%9D%98-%EC%99%B8%EC%A0%81/)\n",
    "[출처2](https://m.blog.naver.com/sw4r/221941770044)"
   ]
  },
  {
   "cell_type": "markdown",
   "id": "bd1b3f9c",
   "metadata": {},
   "source": [
    "## 교차곱과 삼중곱\n",
    "\n",
    "- 정의\n",
    "    - 두개의 벡터의 벡터곱을 나머지 벡터와 스칼라곱한 것\n",
    "    - ${\\mathbf  {a}}\\cdot ({\\mathbf  {b}}\\times {\\mathbf  {c}})$\n",
    "    \n",
    "- 기하학적 의미\n",
    "    - 스칼라 삼중곱의 절댓값은 기하학적으로 스칼라 삼중곱의 3개의 벡터로 정의되는 평행육면체의 부피로 정의된다.\n",
    "    - $V=\\left|{\\mathbf  {a}}\\cdot ({\\mathbf  {b}}\\times {\\mathbf  {c}})\\right|$\n",
    "    \n",
    "    \n",
    "<img src=\"https://upload.wikimedia.org/wikipedia/commons/thumb/3/3e/Parallelepiped_volume.svg/360px-Parallelepiped_volume.svg.png\" width=300>\n",
    "\n",
    "[출처](https://ko.wikipedia.org/wiki/%EC%82%BC%EC%A4%91%EA%B3%B1)"
   ]
  },
  {
   "cell_type": "markdown",
   "id": "d57b4643",
   "metadata": {},
   "source": [
    "# 직교벡터 분해\n",
    "\n",
    "- 벡터 분해의 목적\n",
    "    - 벡터 또는 행렬을 '분해' 하면 여러 간단한 조각으로 나뉘어진다\n",
    "    - 분해를 통해 행렬에 '숨겨진' 정보를 밝혀 내거나 \n",
    "    - 행렬을 사용하기 쉬운 형태로 변형 하거나\n",
    "    - 데이터를 압축 하기도 한다\n",
    "    - 그람-슈미트 과정, QR분해 등이 있다.\n",
    "\n",
    "<img src='./images/fig_01_06.png'>\n",
    "\n",
    "- 벡터 분해의 목적의 시각화\n",
    "    - 기준 위치에 두개의 벡터 **a**와 **b**가 있다.\n",
    "    - **a**로 부터 **b**의 머리 까지 가장 가까운 점을 찾으려 한다.\n",
    "    - 벡터 **b**를 벡터 **a**에 투영 합니다.\n",
    "    - 투영된 점은, **a**의 길이를 줄인 $\\beta$**a** 가 된다.\n",
    "    - 이제 스칼라 $\\beta$ 만 찾으면 된다.\n",
    "    - 벡터 뻴셈으로 **b**에서 $\\beta$**a** 까지의 선을 정의 가능 (이를 벡터 **c** 라 하자)\n",
    "    - **b**와 가장 가까운 **a** 위의 점을 찾아야\n",
    "    - 원점, **b**의 머리, $\\beta$**a**로 이루어진 삼각형에서\n",
    "    - **b**에서 $\\beta$**a** 까지의 선의 길이는 각 $\\beta$**a** 가 90도 일때 가장 짧다\n",
    "    - 따라서, **b** - $\\beta$**a** 과 $\\beta$**a** 가 직교 한다. \n",
    "    - 이를 수식으로 표현 하면 다음과 같다.\n",
    "\n",
    "$a^T(b-\\beta a)=0$\n",
    "\n",
    "<img src='./images/e_01_12.png'>\n",
    "\n",
    "- 위와 같은 과정을 직교 투영업(orthogonal projection) 이라 함\n",
    "- 구현은 연습문제 2-8 \n",
    "\n",
    "- 직교 분해\n",
    "    - '목표 벡터'와 '기준 벡터' \n",
    "    - 목적은 목표 벡터를 두개의 다른 벡터로 분해\n",
    "    - 그 두 벡터의 합은 목표 벡터\n",
    "    - 하나의 벡터는 기준 벡터와 직교 하지만 다른 하나는 기준 벡터와 평행\n",
    "    - 목표 벡터를 t, 기준 벡터를 r\n",
    "    - 목표 벡터로 만들어진 두 벡터, 수직 성분 $t\\perp_r$, 수평 성분 $t\\parallel_r$ \n",
    "\n",
    "<img src='./images/fig_01_07.png'>\n",
    "\n",
    "- 평행 성분 정의\n",
    "\n",
    "<img src='./images/e_01_13.png'>\n",
    "\n",
    "- 수직 성분\n",
    "\n",
    "<img src='./images/e_01_13_02.png'>\n",
    "\n",
    "- 수직 성분이 정말로 기준 벡터와 수직\n",
    "\n",
    "<img src='./images/e_01_13_03.png'>"
   ]
  },
  {
   "cell_type": "markdown",
   "id": "e2472c97",
   "metadata": {},
   "source": [
    "# 정리\n",
    "- 벡터는 열 또는 행 숫자를 나열한 것\n",
    "- 벡터의 원소 수를 차원\n",
    "- 벡터는 차원과 동일한 수의 축을 가진 기하학적 공간에서 하나의 선\n",
    "- 덧셈, 뺄셈, 아다마르곱 과 같은 벡터 산술 연산은 원소별로 계산\n",
    "- 내적은 차원이 같은 두 벡터간의 고나계를 인코딩한 단일 숫자, 원소별로 곱하고 합해서 구함\n",
    "- 두 벡터가 직교하면 내적은 0, 기하학적으로 직각으로 만나는 것 의미\n",
    "- 직교벡터 분해는 하나의 벡터를 기준벡터와 직교하는 벡터, 평행한 벡터로 나누는 것\n",
    "- 분해 공식은 기하학적으로 도출 가능하나, 공식이 내포한 개념인 '크기에 대한 매핑' 이라는 문구를 기억 해야"
   ]
  },
  {
   "cell_type": "markdown",
   "id": "a026f26d",
   "metadata": {},
   "source": [
    "# 연습문제"
   ]
  },
  {
   "cell_type": "markdown",
   "id": "ca4524c4",
   "metadata": {},
   "source": [
    "## 연습문제 1-1\n",
    "- [그림 1-2]을 구현 하라\n",
    "\n",
    "<img src='./images/fig_01_02.png'>"
   ]
  },
  {
   "cell_type": "markdown",
   "id": "686b4e62",
   "metadata": {},
   "source": [
    "- 정답"
   ]
  },
  {
   "cell_type": "code",
   "execution_count": 59,
   "id": "a390c794",
   "metadata": {},
   "outputs": [
    {
     "data": {
      "image/png": "[encoded data removed]",
      "text/plain": [
       "<Figure size 600x600 with 1 Axes>"
      ]
     },
     "metadata": {},
     "output_type": "display_data"
    }
   ],
   "source": [
    "import matplotlib.pyplot as plt\n",
    "\n",
    "# The vectors\n",
    "v = np.array([1,2])\n",
    "w = np.array([4,-6])\n",
    "vPlusW = v+w\n",
    "\n",
    "\n",
    "# now plot all three vectors\n",
    "plt.figure(figsize=(6,6))\n",
    "\n",
    "a1 = plt.arrow(0,0,v[0],v[1],head_width=.3,width=.1,color='k',length_includes_head=True)\n",
    "a2 = plt.arrow(v[0],v[1],w[0],w[1],head_width=.3,width=.1,color=[.5,.5,.5],length_includes_head=True)\n",
    "a3 = plt.arrow(0,0,vPlusW[0],vPlusW[1],head_width=.3,width=.1,color=[.8,.8,.8],length_includes_head=True)\n",
    "\n",
    "\n",
    "# make the plot look a bit nicer\n",
    "plt.grid(linestyle='--',linewidth=.5)\n",
    "plt.axis('square')\n",
    "plt.axis([-6,6,-6,6])\n",
    "plt.legend([a1,a2,a3],['v','w','v+w'])\n",
    "plt.title('Vectors $\\mathbf{v}$, $\\mathbf{w}$, and $\\mathbf{v+w}$')\n",
    "# plt.savefig('Figure_01_02a.png',dpi=300) # write out the fig to a file\n",
    "plt.show()"
   ]
  },
  {
   "cell_type": "code",
   "execution_count": 60,
   "id": "6802321c",
   "metadata": {},
   "outputs": [
    {
     "data": {
      "image/png": "[encoded data removed]",
      "text/plain": [
       "<Figure size 600x600 with 1 Axes>"
      ]
     },
     "metadata": {},
     "output_type": "display_data"
    }
   ],
   "source": [
    "# vector difference\n",
    "vMinusW = v-w\n",
    "\n",
    "\n",
    "# now plot all three vectors\n",
    "plt.figure(figsize=(6,6))\n",
    "\n",
    "a1 = plt.arrow(0,0,v[0],v[1],head_width=.3,width=.1,color='k',length_includes_head=True)\n",
    "a2 = plt.arrow(0,0,w[0],w[1],head_width=.3,width=.1,color=[.5,.5,.5],length_includes_head=True)\n",
    "a3 = plt.arrow(w[0],w[1],vMinusW[0],vMinusW[1],head_width=.3,width=.1,color=[.8,.8,.8],length_includes_head=True)\n",
    "\n",
    "\n",
    "# make the plot look a bit nicer\n",
    "plt.grid(linestyle='--',linewidth=.5)\n",
    "plt.axis('square')\n",
    "plt.axis([-6,6,-6,6])\n",
    "plt.legend([a1,a2,a3],['v','w','v-w'])\n",
    "plt.title('Vectors $\\mathbf{v}$, $\\mathbf{w}$, and $\\mathbf{v-w}$')\n",
    "# plt.savefig('Figure_01_02b.png',dpi=300)\n",
    "plt.show()"
   ]
  },
  {
   "cell_type": "markdown",
   "id": "a196399e",
   "metadata": {},
   "source": [
    "## 연습문제 1-2\n",
    "- 식 1-7을 코드로 변환해서 벡터 노름을 계산 하는 알고리즘 작성\n",
    "- 차원과 방향이 다른 난수 벡터를 사용, np.linalg.norm()과 동일한 결과를 얻는지 확인 하라\n",
    "\n",
    "<img src='./images/e_01_07.png'>"
   ]
  },
  {
   "cell_type": "code",
   "execution_count": 73,
   "id": "82cc2282",
   "metadata": {},
   "outputs": [
    {
     "data": {
      "text/plain": [
       "array([ 0.93023925,  2.25451079, -1.43435228,  1.74875503, -0.7406979 ])"
      ]
     },
     "execution_count": 73,
     "metadata": {},
     "output_type": "execute_result"
    }
   ],
   "source": [
    "v = np.random.randn(5)\n",
    "v"
   ]
  },
  {
   "cell_type": "code",
   "execution_count": 74,
   "id": "465356fe",
   "metadata": {},
   "outputs": [
    {
     "data": {
      "text/plain": [
       "3.4076836663391945"
      ]
     },
     "execution_count": 74,
     "metadata": {},
     "output_type": "execute_result"
    }
   ],
   "source": [
    "def my_norm(v):\n",
    "    return np.sqrt(np.sum(v**2))\n",
    "\n",
    "my_norm(v)"
   ]
  },
  {
   "cell_type": "code",
   "execution_count": 75,
   "id": "1dc0b55a",
   "metadata": {},
   "outputs": [
    {
     "data": {
      "text/plain": [
       "3.4076836663391945"
      ]
     },
     "execution_count": 75,
     "metadata": {},
     "output_type": "execute_result"
    }
   ],
   "source": [
    "np.linalg.norm(v)"
   ]
  },
  {
   "cell_type": "markdown",
   "id": "6b7bea44",
   "metadata": {},
   "source": [
    "- 정답"
   ]
  },
  {
   "cell_type": "code",
   "execution_count": 134,
   "id": "5676e57e",
   "metadata": {},
   "outputs": [
    {
     "name": "stdout",
     "output_type": "stream",
     "text": [
      "1.0\n",
      "3.7416573867739413 3.7416573867739413\n"
     ]
    }
   ],
   "source": [
    "\n",
    "# the function\n",
    "def normOfVect(v):\n",
    "  return np.sqrt(np.sum(v**2))\n",
    "\n",
    "# test it on a unit-norm vector\n",
    "w = np.array([0,0,1])\n",
    "print( normOfVect(w) )\n",
    "\n",
    "# non-unit-norm vector, and confirm using np.linalg.norm\n",
    "w = np.array([1,2,3])\n",
    "print( normOfVect(w),np.linalg.norm(w) )"
   ]
  },
  {
   "cell_type": "markdown",
   "id": "2d951682",
   "metadata": {},
   "source": [
    "## 연습문제 1-3\n",
    "- 벡터를 입력받아 동일한 방향의 단위벡터를 출력하는 파이썬 함수 구현\n",
    "- 영벡터를 입력 받으면 어떻게 될까?"
   ]
  },
  {
   "cell_type": "code",
   "execution_count": 83,
   "id": "a1ae73b3",
   "metadata": {},
   "outputs": [],
   "source": [
    "def unit_vector(v):\n",
    "    return v/np.linalg.norm(v)"
   ]
  },
  {
   "cell_type": "code",
   "execution_count": 84,
   "id": "3f2abc4f",
   "metadata": {},
   "outputs": [
    {
     "data": {
      "text/plain": [
       "array([ 0.22967875,  0.41080924, -0.46052538,  0.7472279 , -0.08972337])"
      ]
     },
     "execution_count": 84,
     "metadata": {},
     "output_type": "execute_result"
    }
   ],
   "source": [
    "v = np.random.randn(5)\n",
    "unit_vector(v)"
   ]
  },
  {
   "cell_type": "code",
   "execution_count": 85,
   "id": "30b226f5",
   "metadata": {},
   "outputs": [
    {
     "name": "stderr",
     "output_type": "stream",
     "text": [
      "/tmp/ipykernel_127931/2847712864.py:2: RuntimeWarning: invalid value encountered in divide\n",
      "  return v/np.linalg.norm(v)\n"
     ]
    },
    {
     "data": {
      "text/plain": [
       "array([[nan],\n",
       "       [nan],\n",
       "       [nan],\n",
       "       [nan]])"
      ]
     },
     "execution_count": 85,
     "metadata": {},
     "output_type": "execute_result"
    }
   ],
   "source": [
    "v2 = np.zeros((4,1))\n",
    "unit_vector(v2)"
   ]
  },
  {
   "cell_type": "markdown",
   "id": "118cdae0",
   "metadata": {},
   "source": [
    "- 정답"
   ]
  },
  {
   "cell_type": "code",
   "execution_count": 142,
   "id": "a5b8d5c8",
   "metadata": {},
   "outputs": [
    {
     "name": "stdout",
     "output_type": "stream",
     "text": [
      "[0. 1. 0.]\n",
      "[0. 1. 0.]\n",
      "[ 0.83395039 -0.32075015  0.44905021]\n",
      " \n",
      "15.588457268119896 0.9999999999999999\n",
      "\n",
      "\n",
      "\n",
      "\n"
     ]
    },
    {
     "name": "stderr",
     "output_type": "stream",
     "text": [
      "/tmp/ipykernel_127931/1948667896.py:8: RuntimeWarning: invalid value encountered in divide\n",
      "  return v / mu\n"
     ]
    },
    {
     "data": {
      "text/plain": [
       "array([[nan],\n",
       "       [nan],\n",
       "       [nan],\n",
       "       [nan]])"
      ]
     },
     "execution_count": 142,
     "metadata": {},
     "output_type": "execute_result"
    }
   ],
   "source": [
    "import numpy as np\n",
    "\n",
    "# define function\n",
    "def createUnitVector(v):\n",
    "  # get vector norm\n",
    "  mu = np.linalg.norm(v)\n",
    "  # return unit vector\n",
    "  return v / mu\n",
    "\n",
    "\n",
    "# test on a unit vector\n",
    "w = np.array([0,1,0])\n",
    "print( createUnitVector(w) )\n",
    "\n",
    "# test on a non-unit vector that is easy to confirm\n",
    "w = np.array([0,3,0])\n",
    "print( createUnitVector(w) )\n",
    "\n",
    "# test on a non-unit vector\n",
    "w = np.array([13,-5,7])\n",
    "uw = createUnitVector(w)\n",
    "print( uw ), print(' ')\n",
    "# confirm the vectors' norms\n",
    "print( np.linalg.norm(w),np.linalg.norm(uw) )\n",
    "\n",
    "# what happens with the zeros vector?\n",
    "print('\\n\\n\\n') # just some spaces\n",
    "createUnitVector( np.zeros((4,1)) )"
   ]
  },
  {
   "cell_type": "markdown",
   "id": "7b41f2a8",
   "metadata": {},
   "source": [
    "## 연습문제 1-4\n",
    "- 임의의 크기의 벡터를 만들고 싶다면 어떻게 해야 하나?\n",
    "- 벡터와 원하는 크기를 입력 받고, 벡터와 동일한 방향이지만 입력 받은 크기에 해당 하는 벡터를 반환하는 함수를 작성 하라."
   ]
  },
  {
   "cell_type": "code",
   "execution_count": 88,
   "id": "bf3d3101",
   "metadata": {},
   "outputs": [],
   "source": [
    "def make_scaled_vector(v, c):\n",
    "    v = v/np.linalg.norm(v)\n",
    "    return v*c"
   ]
  },
  {
   "cell_type": "code",
   "execution_count": 96,
   "id": "a7b28b9c",
   "metadata": {},
   "outputs": [
    {
     "data": {
      "text/plain": [
       "(array([4., 0., 0.]), 1.0, 4.0)"
      ]
     },
     "execution_count": 96,
     "metadata": {},
     "output_type": "execute_result"
    }
   ],
   "source": [
    "w = np.array([1,0,0])\n",
    "w2 = make_scaled_vector(w, 4)\n",
    "w2, np.linalg.norm(w), np.linalg.norm(w2)"
   ]
  },
  {
   "cell_type": "markdown",
   "id": "f7355253",
   "metadata": {},
   "source": [
    "- 정답"
   ]
  },
  {
   "cell_type": "code",
   "execution_count": 95,
   "id": "985952c6",
   "metadata": {},
   "outputs": [
    {
     "name": "stdout",
     "output_type": "stream",
     "text": [
      "[4. 0. 0.]\n",
      "1.0 4.0\n"
     ]
    }
   ],
   "source": [
    "# define the function\n",
    "def createMagVector(v,mag):\n",
    "  # get vector norm\n",
    "  mu = np.linalg.norm(v)\n",
    "  # return scaled vector\n",
    "  return mag * v / mu\n",
    "\n",
    "# test on a vector that is easy to confirm\n",
    "w = np.array([1,0,0])\n",
    "mw = createMagVector(w,4)\n",
    "print( mw )\n",
    "\n",
    "# confirm the vectors' norms\n",
    "print( np.linalg.norm(w),np.linalg.norm(mw) )"
   ]
  },
  {
   "cell_type": "markdown",
   "id": "67f10cd2",
   "metadata": {},
   "source": [
    "## 연습문제 1-5\n",
    "- np.transpose(v) 또는  v.T와 같은 내장 함수 사용하지 않고, for 루프만으로 벡터를 전치하는 코드를 작성 하라."
   ]
  },
  {
   "cell_type": "code",
   "execution_count": 123,
   "id": "92814d6b",
   "metadata": {},
   "outputs": [],
   "source": [
    "def my_transpose(v):\n",
    "    w = np.zeros((v.shape[1], v.shape[0]))\n",
    "    for i in range(len(v)):\n",
    "        for j in range(len(v[i])):\n",
    "            w[j, i] = v[i, j]\n",
    "    return w"
   ]
  },
  {
   "cell_type": "code",
   "execution_count": 122,
   "id": "d476ceee",
   "metadata": {},
   "outputs": [
    {
     "data": {
      "text/plain": [
       "array([[ 0,  1,  2,  3,  4,  5],\n",
       "       [ 6,  7,  8,  9, 10, 11],\n",
       "       [12, 13, 14, 15, 16, 17]])"
      ]
     },
     "execution_count": 122,
     "metadata": {},
     "output_type": "execute_result"
    }
   ],
   "source": [
    "v = np.arange(0, 18).reshape(3, -1)\n",
    "v"
   ]
  },
  {
   "cell_type": "code",
   "execution_count": 124,
   "id": "4c2404b3",
   "metadata": {},
   "outputs": [
    {
     "data": {
      "text/plain": [
       "array([[ 0.,  6., 12.],\n",
       "       [ 1.,  7., 13.],\n",
       "       [ 2.,  8., 14.],\n",
       "       [ 3.,  9., 15.],\n",
       "       [ 4., 10., 16.],\n",
       "       [ 5., 11., 17.]])"
      ]
     },
     "execution_count": 124,
     "metadata": {},
     "output_type": "execute_result"
    }
   ],
   "source": [
    "my_transpose(v)"
   ]
  },
  {
   "cell_type": "markdown",
   "id": "3bb261ec",
   "metadata": {},
   "source": [
    "- 정답"
   ]
  },
  {
   "cell_type": "code",
   "execution_count": 125,
   "id": "0932e9b0",
   "metadata": {},
   "outputs": [
    {
     "name": "stdout",
     "output_type": "stream",
     "text": [
      "[[1 2 3]]\n",
      " \n",
      "[[1.]\n",
      " [2.]\n",
      " [3.]]\n"
     ]
    }
   ],
   "source": [
    "# the row vector to transpose\n",
    "v = np.array([[1,2,3]])\n",
    "\n",
    "# initialize the column vector\n",
    "vt = np.zeros((3,1))\n",
    "\n",
    "# direct implementation of the formula using a for loop\n",
    "for i in range(v.shape[1]):\n",
    "  vt[i,0] = v[0,i]\n",
    "\n",
    "# confirm!\n",
    "print(v), print(' ')\n",
    "print(vt)\n",
    "\n",
    "# Note about data types: The two vectors actually have different data types\n",
    "#  (ints vs. floats). That happened because I defined v using ints while the default type\n",
    "#  for np.zeros is float. You can match data types in several ways, including: \n",
    "#  (1) write 3. instead of 3 when creating v; (2) use dtype=np.float as an optional input."
   ]
  },
  {
   "cell_type": "markdown",
   "id": "49016df9",
   "metadata": {},
   "source": [
    "## 연습문제 1-6\n",
    "\n",
    "- 벡터의 제곱 노름은 그 벡터 자체의 내적으로 계산 가능\n",
    "\n",
    "<img src='./images/e_01_07.png'>\n",
    "\n",
    "- 파이썬을 통해 확인해 보라"
   ]
  },
  {
   "cell_type": "code",
   "execution_count": 136,
   "id": "e426693a",
   "metadata": {},
   "outputs": [
    {
     "data": {
      "text/plain": [
       "array([ 0.64626606,  0.03106895, -1.28587125, -0.7562139 ,  0.26433024])"
      ]
     },
     "execution_count": 136,
     "metadata": {},
     "output_type": "execute_result"
    }
   ],
   "source": [
    "v = np.random.randn(5)\n",
    "v"
   ]
  },
  {
   "cell_type": "code",
   "execution_count": 137,
   "id": "b70d2a57",
   "metadata": {},
   "outputs": [
    {
     "data": {
      "text/plain": [
       "1.6473675717428047"
      ]
     },
     "execution_count": 137,
     "metadata": {},
     "output_type": "execute_result"
    }
   ],
   "source": [
    "np.linalg.norm(v)"
   ]
  },
  {
   "cell_type": "code",
   "execution_count": 138,
   "id": "73083896",
   "metadata": {},
   "outputs": [
    {
     "data": {
      "text/plain": [
       "1.6473675717428047"
      ]
     },
     "execution_count": 138,
     "metadata": {},
     "output_type": "execute_result"
    }
   ],
   "source": [
    "np.sqrt(np.sum(v*v))"
   ]
  },
  {
   "cell_type": "code",
   "execution_count": 139,
   "id": "267dd7db",
   "metadata": {},
   "outputs": [
    {
     "data": {
      "text/plain": [
       "1.6473675717428047"
      ]
     },
     "execution_count": 139,
     "metadata": {},
     "output_type": "execute_result"
    }
   ],
   "source": [
    "np.sqrt(np.dot(v, v.T))"
   ]
  },
  {
   "cell_type": "markdown",
   "id": "5cd71e70",
   "metadata": {},
   "source": [
    "- 정답"
   ]
  },
  {
   "cell_type": "code",
   "execution_count": 141,
   "id": "8e999b98",
   "metadata": {},
   "outputs": [
    {
     "name": "stdout",
     "output_type": "stream",
     "text": [
      "1.6473675717428047\n",
      "1.6473675717428047\n"
     ]
    }
   ],
   "source": [
    "# squared norm as dot product with itself\n",
    "sqrNrm1 = np.dot(v,v)\n",
    "\n",
    "# squared norm via our function from exercise 1\n",
    "sqrNrm2 = normOfVect(v)**2\n",
    "\n",
    "# print both to confirm they're the same\n",
    "print(np.sqrt(sqrNrm1))\n",
    "print(np.sqrt( sqrNrm2 ))"
   ]
  },
  {
   "cell_type": "markdown",
   "id": "663c614a",
   "metadata": {},
   "source": [
    "## 연습문제 1-7\n",
    "\n",
    "- 내적의 교환 법칙을 입증하는 코드를 작성하라.\n",
    "- 벡터-내적 에서는 $a^Tb = b^Ta$ 가 교환 법칙이다.\n",
    "- 코드 구현 후 식 1-9를 사용해, 내적이 가능한 이유를 이해해 보자.\n",
    "<img src='./images/e_01_09.png'>"
   ]
  },
  {
   "cell_type": "code",
   "execution_count": 149,
   "id": "9efd844a",
   "metadata": {},
   "outputs": [
    {
     "data": {
      "text/plain": [
       "(38, 38)"
      ]
     },
     "execution_count": 149,
     "metadata": {},
     "output_type": "execute_result"
    }
   ],
   "source": [
    "a = np.array([1, 2, 3])\n",
    "b = np.array([5, 6, 7])\n",
    "\n",
    "np.sum(a*b), np.sum(b*a)"
   ]
  },
  {
   "cell_type": "markdown",
   "id": "448a825e",
   "metadata": {},
   "source": [
    "- 정답"
   ]
  },
  {
   "cell_type": "code",
   "execution_count": 150,
   "id": "9648daa4",
   "metadata": {},
   "outputs": [
    {
     "data": {
      "text/plain": [
       "0.0"
      ]
     },
     "execution_count": 150,
     "metadata": {},
     "output_type": "execute_result"
    }
   ],
   "source": [
    "# dimensionality\n",
    "n = 11\n",
    "\n",
    "# some random column vectors\n",
    "a = np.random.randn(n,1)\n",
    "b = np.random.randn(n,1)\n",
    "\n",
    "# dot products both ways\n",
    "atb = np.sum(a*b)\n",
    "bta = np.sum(b*a)\n",
    "\n",
    "# they're equal if their difference is 0\n",
    "atb - bta\n",
    "\n",
    "# For an extra challenge, see what happens when you use np.dot() to compute the dot products."
   ]
  },
  {
   "cell_type": "markdown",
   "id": "bff4ff31",
   "metadata": {},
   "source": [
    "## 연습문제 1-8\n",
    "- 코드로 그림 1-6을 만들어라\n",
    "\n",
    "<img src='./images/fig_01_06.png'>"
   ]
  },
  {
   "cell_type": "markdown",
   "id": "30da7190",
   "metadata": {},
   "source": [
    "- 정답"
   ]
  },
  {
   "cell_type": "code",
   "execution_count": 151,
   "id": "1a16d06a",
   "metadata": {},
   "outputs": [
    {
     "data": {
      "image/png": "[encoded data removed]",
      "text/plain": [
       "<Figure size 400x400 with 1 Axes>"
      ]
     },
     "metadata": {},
     "output_type": "display_data"
    }
   ],
   "source": [
    "# the vectors a and b\n",
    "a = np.array([1,2])\n",
    "b = np.array([1.5,.5])\n",
    "\n",
    "# compute beta\n",
    "beta = np.dot(a,b) / np.dot(a,a)\n",
    "\n",
    "# compute the projection vector (not explicitly used in the plot)\n",
    "projvect = b - beta*a\n",
    "\n",
    "\n",
    "# draw the figure\n",
    "plt.figure(figsize=(4,4))\n",
    "\n",
    "# vectors\n",
    "plt.arrow(0,0,a[0],a[1],head_width=.2,width=.02,color='k',length_includes_head=True)\n",
    "plt.arrow(0,0,b[0],b[1],head_width=.2,width=.02,color='k',length_includes_head=True)\n",
    "\n",
    "# projection vector\n",
    "plt.plot([b[0],beta*a[0]],[b[1],beta*a[1]],'k--')\n",
    "\n",
    "# projection on a\n",
    "plt.plot(beta*a[0],beta*a[1],'ko',markerfacecolor='w',markersize=13)\n",
    "\n",
    "# make the plot look nicer\n",
    "plt.plot([-1,2.5],[0,0],'--',color='gray',linewidth=.5)\n",
    "plt.plot([0,0],[-1,2.5],'--',color='gray',linewidth=.5)\n",
    "\n",
    "# add labels\n",
    "plt.text(a[0]+.1,a[1],'a',fontweight='bold',fontsize=18)\n",
    "plt.text(b[0],b[1]-.3,'b',fontweight='bold',fontsize=18)\n",
    "plt.text(beta*a[0]-.35,beta*a[1],r'$\\beta$',fontweight='bold',fontsize=18)\n",
    "plt.text((b[0]+beta*a[0])/2,(b[1]+beta*a[1])/2+.1,r'(b-$\\beta$a)',fontweight='bold',fontsize=18)\n",
    "\n",
    "# some finishing touches\n",
    "plt.axis('square')\n",
    "plt.axis([-1,2.5,-1,2.5])\n",
    "plt.show()"
   ]
  },
  {
   "cell_type": "markdown",
   "id": "633cace4",
   "metadata": {},
   "source": [
    "## 연습문제 1-9\n",
    "\n",
    "- 직교 벡터 분해를 구현 하라.\n",
    "- 두 난수 벡터 t와 r로 시작해 그림 1-8을 재현 하라\n",
    "- 그런 다음 두 성분의 합이 t이고  $t\\perp_r$과 $t\\parallel_r$  이 직교하는지 확인 하라\n",
    "<img src='./images/fig_01_08.png'>"
   ]
  },
  {
   "cell_type": "markdown",
   "id": "f14b39e1",
   "metadata": {},
   "source": [
    "- 정답"
   ]
  },
  {
   "cell_type": "code",
   "execution_count": 152,
   "id": "28213afc",
   "metadata": {},
   "outputs": [
    {
     "name": "stdout",
     "output_type": "stream",
     "text": [
      "[-1.54416264  0.96633373]\n",
      "[-1.54416264  0.96633373]\n",
      "0.0\n"
     ]
    },
    {
     "data": {
      "image/png": "[encoded data removed]",
      "text/plain": [
       "<Figure size 600x600 with 1 Axes>"
      ]
     },
     "metadata": {},
     "output_type": "display_data"
    }
   ],
   "source": [
    "# generate random R2 vectors (note: no orientation here! we don't need it for this exercise)\n",
    "t = np.random.randn(2)\n",
    "r = np.random.randn(2)\n",
    "\n",
    "# the decomposition\n",
    "t_para = r * (np.dot(t,r) / np.dot(r,r))\n",
    "t_perp = t - t_para\n",
    "\n",
    "# confirm that the two components sum to the target\n",
    "print(t)\n",
    "print( t_para+t_perp )\n",
    "\n",
    "# confirm orthogonality (dot product must be zero!)\n",
    "print( np.dot(t_para,t_perp) )\n",
    "# Note about this result: Due to numerical precision errors, \n",
    "#   you might get a result of something like 10^-17, which can be interpretd as zero.\n",
    "\n",
    "\n",
    "\n",
    "# draw them!\n",
    "plt.figure(figsize=(6,6))\n",
    "\n",
    "# draw main vectors\n",
    "plt.plot([0,t[0]],[0,t[1]],color='k',linewidth=3,label=r'$\\mathbf{t}$')\n",
    "plt.plot([0,r[0]],[0,r[1]],color=[.7,.7,.7],linewidth=3,label=r'$\\mathbf{r}$')\n",
    "\n",
    "# draw decomposed vector components\n",
    "plt.plot([0,t_para[0]],[0,t_para[1]],'k--',linewidth=3,label=r'$\\mathbf{t}_{\\|}$')\n",
    "plt.plot([0,t_perp[0]],[0,t_perp[1]],'k:',linewidth=3,label=r'$\\mathbf{t}_{\\perp}$')\n",
    "\n",
    "plt.axis('equal')\n",
    "plt.legend()\n",
    "# plt.savefig('Figure_01_08.png',dpi=300)\n",
    "plt.show()"
   ]
  },
  {
   "cell_type": "markdown",
   "id": "1b71a55f",
   "metadata": {},
   "source": [
    "## 연습문제 1-10\n",
    "\n",
    "- 코드 버그로 인해 식 1-13의 투영 스칼라의 분모가 $r^Tr$가 아닌 $t^Tt$가 되었다고 가정\n",
    "- 이 버그를 구현해서 정확한 코그와 얼마나 차이가 나는지 확인해 보라\n",
    "- 결과가 올바른지 파악하려면 무엇을 해야 할지 생각해 보라.\n",
    "\n",
    "<img src='./images/e_01_13.png'>"
   ]
  },
  {
   "cell_type": "code",
   "execution_count": 156,
   "id": "ab0b6191",
   "metadata": {},
   "outputs": [],
   "source": [
    "# Replace t_para in the previous exercise with the line below:\n",
    "t = np.random.randn(2)\n",
    "r = np.random.randn(2)\n",
    "\n",
    "t_para_right = r * (np.dot(t,r) / np.dot(r,r))\n",
    "\n",
    "t_para_wrong = r * (np.dot(t,r) / np.dot(t,t))"
   ]
  },
  {
   "cell_type": "code",
   "execution_count": 161,
   "id": "9971f9cd",
   "metadata": {},
   "outputs": [
    {
     "data": {
      "text/plain": [
       "(0.41084283706716607,\n",
       " array([0.20542142, 0.13243387]),\n",
       " array([-0.20542142,  0.13243387]))"
      ]
     },
     "execution_count": 161,
     "metadata": {},
     "output_type": "execute_result"
    }
   ],
   "source": [
    "np.linalg.norm(t_para_right - t_para_wrong), t_para_right, t_para_wrong"
   ]
  }
 ],
 "metadata": {
  "kernelspec": {
   "display_name": "Python 3 (ipykernel)",
   "language": "python",
   "name": "python3"
  },
  "language_info": {
   "codemirror_mode": {
    "name": "ipython",
    "version": 3
   },
   "file_extension": ".py",
   "mimetype": "text/x-python",
   "name": "python",
   "nbconvert_exporter": "python",
   "pygments_lexer": "ipython3",
   "version": "3.10.9"
  },
  "toc": {
   "base_numbering": 1,
   "nav_menu": {},
   "number_sections": true,
   "sideBar": true,
   "skip_h1_title": false,
   "title_cell": "Table of Contents",
   "title_sidebar": "Contents",
   "toc_cell": false,
   "toc_position": {},
   "toc_section_display": true,
   "toc_window_display": false
  }
 },
 "nbformat": 4,
 "nbformat_minor": 5
}
