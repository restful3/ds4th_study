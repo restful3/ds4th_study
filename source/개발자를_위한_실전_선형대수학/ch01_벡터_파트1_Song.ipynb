{
 "cells": [
  {
   "cell_type": "markdown",
   "id": "86f75a2a",
   "metadata": {},
   "source": [
    "# NumPy로 벡터 생성 및 시각화 하기"
   ]
  },
  {
   "cell_type": "code",
   "execution_count": null,
   "id": "ad5ee46f",
   "metadata": {},
   "outputs": [],
   "source": []
  },
  {
   "cell_type": "markdown",
   "id": "2188ca10",
   "metadata": {},
   "source": [
    "# 벡터 연산"
   ]
  },
  {
   "cell_type": "code",
   "execution_count": null,
   "id": "8e450d4f",
   "metadata": {},
   "outputs": [],
   "source": []
  },
  {
   "cell_type": "markdown",
   "id": "c3d82bde",
   "metadata": {},
   "source": [
    "# 벡터 크기와 단위벡터"
   ]
  },
  {
   "cell_type": "code",
   "execution_count": null,
   "id": "8c8df02b",
   "metadata": {},
   "outputs": [],
   "source": []
  },
  {
   "cell_type": "markdown",
   "id": "fcca8c54",
   "metadata": {},
   "source": [
    "# 벡터-내적"
   ]
  },
  {
   "cell_type": "code",
   "execution_count": null,
   "id": "592a9a7d",
   "metadata": {},
   "outputs": [],
   "source": []
  },
  {
   "cell_type": "markdown",
   "id": "889b283b",
   "metadata": {},
   "source": [
    "# 그 외 벡터 곱셈"
   ]
  },
  {
   "cell_type": "code",
   "execution_count": null,
   "id": "4114501b",
   "metadata": {},
   "outputs": [],
   "source": []
  },
  {
   "cell_type": "markdown",
   "id": "73d1ab6a",
   "metadata": {},
   "source": [
    "# 직교벡터 분해"
   ]
  },
  {
   "cell_type": "code",
   "execution_count": null,
   "id": "abfb5e08",
   "metadata": {},
   "outputs": [],
   "source": []
  },
  {
   "cell_type": "markdown",
   "id": "2870cddd",
   "metadata": {},
   "source": [
    "# 정리"
   ]
  },
  {
   "cell_type": "code",
   "execution_count": null,
   "id": "f94e5094",
   "metadata": {},
   "outputs": [],
   "source": []
  }
 ],
 "metadata": {
  "kernelspec": {
   "display_name": "Python 3 (ipykernel)",
   "language": "python",
   "name": "python3"
  },
  "language_info": {
   "codemirror_mode": {
    "name": "ipython",
    "version": 3
   },
   "file_extension": ".py",
   "mimetype": "text/x-python",
   "name": "python",
   "nbconvert_exporter": "python",
   "pygments_lexer": "ipython3",
   "version": "3.10.9"
  },
  "toc": {
   "base_numbering": 1,
   "nav_menu": {},
   "number_sections": true,
   "sideBar": true,
   "skip_h1_title": false,
   "title_cell": "Table of Contents",
   "title_sidebar": "Contents",
   "toc_cell": false,
   "toc_position": {},
   "toc_section_display": true,
   "toc_window_display": false
  }
 },
 "nbformat": 4,
 "nbformat_minor": 5
}
