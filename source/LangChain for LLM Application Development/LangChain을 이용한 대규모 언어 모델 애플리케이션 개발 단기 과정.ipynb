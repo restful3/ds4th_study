{
 "cells": [
  {
   "cell_type": "markdown",
   "id": "6483299b-29f1-4778-a046-5fd5b8fcaaaa",
   "metadata": {},
   "source": [
    "# Overview\n",
    "\n",
    "<img src='./images/fig_00_01.png' width=800>\n",
    "\n",
    "#### 강의 소개\n",
    "- LangChain을 사용하면 대규모 언어 모델(LLM) 애플리케이션 개발이 훨씬 빨라집니다.\n",
    "- LLM을 여러 번 프롬프트하고 출력을 파싱해야 하므로 많은 코드가 필요합니다.\n",
    "- LangChain은 이러한 개발 과정을 쉽게 만들어줍니다.\n",
    "\n",
    "<img src='./images/fig_00_02.png' width=800>\n",
    "\n",
    "#### LangChain 소개\n",
    "- Harrison Chase가 만든 LangChain은 오픈 소스 프레임워크로 LLM 애플리케이션을 구축하는 데 도움을 줍니다.\n",
    "- 많은 사람들이 더 복잡한 애플리케이션을 개발하면서 공통된 추상화를 발견하고 이를 바탕으로 LangChain이 탄생했습니다.\n",
    "- 커뮤니티의 적극적인 참여로 빠르게 발전하고 있습니다.\n",
    "\n",
    "#### LangChain의 성장과 커뮤니티\n",
    "- LangChain은 수많은 사용자와 기여자를 보유하고 있으며, 이는 빠른 개발 속도에 크게 기여했습니다.\n",
    "- 이 단기 과정을 통해 LangChain을 사용하여 멋진 애플리케이션을 빠르게 개발할 수 있게 됩니다.\n",
    "- 오픈 소스 LangChain에 기여할 수도 있습니다.\n",
    "\n",
    "#### LangChain 패키지와 구성 요소\n",
    "- LangChain은 Python과 JavaScript 패키지를 제공하며, 구성 요소의 조합과 모듈성을 중점으로 합니다.\n",
    "- 개별 구성 요소를 함께 또는 따로 사용할 수 있습니다.\n",
    "- 주요 가치 제공은 다양한 사용 사례를 위한 체인과 모듈 구성 요소의 결합 방법입니다.\n",
    "\n",
    "#### 강의 내용\n",
    "- LangChain의 일반적인 구성 요소를 다룹니다.\n",
    "- 모델, 프롬프트, 인덱스, 체인, 에이전트에 대해 설명합니다.\n",
    "- 에이전트는 모델을 추론 엔진으로 사용하는 매우 흥미로운 유형의 끝단 사용 사례입니다.\n",
    "\n",
    "<img src='./images/fig_00_03.png' width=800>\n",
    "\n",
    "#### 감사 인사 및 기여자 소개\n",
    "- LangChain 공동 창립자인 Ankush Gola가 이 자료에 많은 기여를 했습니다.\n",
    "- DeepLearning.AI의 Geoff Ludwig, Eddy Shyu, Diala Ezzeddine도 이 자료에 기여했습니다.\n",
    "\n",
    "#### 다음 비디오 예고\n",
    "- 다음 비디오에서는 LangChain의 모델, 프롬프트, 파서에 대해 배웁니다."
   ]
  },
  {
   "cell_type": "markdown",
   "id": "9d891ecd-7eeb-4986-b3b5-1c4c0cab03d0",
   "metadata": {},
   "source": [
    "# 모델, 프롬프트 및 출력 파서\n",
    "\n",
    "- 첫 번째 강의에서는 모델, 프롬프트, 출력 파서에 대해 다룹니다.\n",
    "    - 모델은 많은 것을 뒷받침하는 언어 모델을 의미합니다.\n",
    "    - 프롬프트는 모델에 입력할 내용을 생성하는 스타일을 의미합니다.\n",
    "    - 출력 파서는 이 모델의 출력을 가져와서 더 구조화된 형식으로 변환하는 작업을 의미합니다.\n",
    "- LLM을 사용하여 애플리케이션을 구축할 때, 종종 재사용 가능한 모델이 필요합니다.\n",
    "- 우리는 모델을 반복적으로 프롬프트하고 출력을 파싱합니다.\n",
    "- LangChain은 이러한 작업을 쉽게 수행할 수 있는 추상화를 제공합니다."
   ]
  },
  {
   "cell_type": "markdown",
   "id": "17641383-13b8-4995-8874-de07dd9f0a80",
   "metadata": {},
   "source": [
    "## 개요\n",
    "\n",
    " * OpenAI에 직접 API 호출\n",
    " * LangChain을 통한 API 호출:\n",
    "   * 프롬프트\n",
    "   * 모델\n",
    "   * 출력 파서\n",
    "\n",
    "## [OpenAI API 키](https://platform.openai.com/account/api-keys) 받기\n",
    "\n",
    "- 다음으로 모델, 프롬프트, 파서를 살펴보겠습니다. 시작하기 위해, 약간의 초기 코드를 제공합니다. OpenAI 라이브러리를 가져오고 비밀 키를 로드합니다. 로컬에서 실행 중이고 OpenAI가 설치되지 않은 경우, 설치해야 할 수 있습니다.\n",
    "  "
   ]
  },
  {
   "cell_type": "code",
   "execution_count": 1,
   "id": "462a4988-af46-4451-ab29-1fe5731ff12a",
   "metadata": {},
   "outputs": [],
   "source": [
    "#!pip install python-dotenv\n",
    "#!pip install openai"
   ]
  },
  {
   "cell_type": "code",
   "execution_count": 1,
   "id": "bead1089-76e8-4097-8822-1a0ace6fa412",
   "metadata": {},
   "outputs": [],
   "source": [
    "import os\n",
    "from openai import OpenAI"
   ]
  },
  {
   "cell_type": "markdown",
   "id": "d260a49e-c065-4d05-8006-934eec89981e",
   "metadata": {},
   "source": [
    "참고: LLM은 항상 동일한 결과를 생성하지 않습니다. 노트북에서 코드를 실행할 때 비디오의 결과와 약간 다른 답변이 나올 수 있습니다."
   ]
  },
  {
   "cell_type": "code",
   "execution_count": 2,
   "id": "af8e7fec-0b06-4243-9d3b-5947dd3809d0",
   "metadata": {},
   "outputs": [],
   "source": [
    "# OpenAI 클라이언트 초기화\n",
    "client = OpenAI(\n",
    "    api_key=os.environ.get(\"OPENAI_API_KEY\")\n",
    ")"
   ]
  },
  {
   "cell_type": "markdown",
   "id": "d5b60452-37e6-46b1-b8ac-b05f82de9479",
   "metadata": {},
   "source": [
    "## 채팅 API: OpenAI\n",
    "\n",
    "- 여기에서는 ChatGPT API를 호출하는 헬퍼 함수를 사용합니다. 이 함수는 주어진 질문에 대해 ChatGPT 모델(GPT 3.5 Turbo)로부터 응답을 받습니다.\n",
    "- OpenAI에 직접 API 호출을 시작해 보겠습니다."
   ]
  },
  {
   "cell_type": "code",
   "execution_count": 3,
   "id": "7e152694-7121-4f4d-9a0d-198acb7649b8",
   "metadata": {},
   "outputs": [
    {
     "data": {
      "text/plain": [
       "'1 더하기 1은 2 입니다.'"
      ]
     },
     "execution_count": 3,
     "metadata": {},
     "output_type": "execute_result"
    }
   ],
   "source": [
    "# 헬퍼 함수 정의\n",
    "def get_completion(prompt, model=\"gpt-3.5-turbo\"):\n",
    "    response = client.chat.completions.create(\n",
    "        messages=[\n",
    "            {\n",
    "                \"role\": \"system\",\n",
    "                \"content\": \"You are a helpful assistant.\"\n",
    "            },\n",
    "            {\n",
    "                \"role\": \"user\",\n",
    "                \"content\": prompt\n",
    "            }\n",
    "        ],\n",
    "        model=model,\n",
    "    )\n",
    "    return response.choices[0].message.content\n",
    "\n",
    "# 예제 호출\n",
    "get_completion(\"1 더하기 1은?\")"
   ]
  },
  {
   "cell_type": "markdown",
   "id": "39f93c01-ae60-4317-b1a3-41e26aa3c16b",
   "metadata": {},
   "source": [
    "- 프롬프트는 모델에 입력할 내용을 생성하는 스타일을 의미합니다.\n",
    "- LangChain의 추상화를 통해 모델 프롬프트 및 출력 파서를 동기화하는 방법을 설명합니다.\n",
    "- 예를 들어, 고객이 다른 언어로 이메일을 보내는 상황을 가정합니다. 이 예제에서는 한국어 어린이 말투를 사용하여 번역을 시도합니다."
   ]
  },
  {
   "cell_type": "code",
   "execution_count": 4,
   "id": "d9ca4dc3-db01-4cb0-ac07-c2cdc2d8c6e8",
   "metadata": {},
   "outputs": [],
   "source": [
    "customer_email = \"\"\"\n",
    "오늘 아침, 믹서기 사용 중에 뚜껑이 갑자기 날아가 주방 벽에 스무디가 튀는 일이 발생해 매우 당황스러웠습니다. \n",
    "더욱 실망스러운 점은, 보증이 이러한 주방 청소 비용을 보장하지 않는다는 것입니다.\n",
    "이 문제를 해결하는 데 귀사의 도움을 간절히 부탁드립니다.\n",
    "\"\"\""
   ]
  },
  {
   "cell_type": "code",
   "execution_count": 5,
   "id": "b506b29f-186f-4248-a740-10d738e1a06f",
   "metadata": {},
   "outputs": [],
   "source": [
    "style = \"\"\"어린아이 반말로 \\\n",
    "차분하고 존중하는 어조로\n",
    "\"\"\""
   ]
  },
  {
   "cell_type": "code",
   "execution_count": 6,
   "id": "2b869394-7fa5-47be-81b3-eb7a37d690b3",
   "metadata": {},
   "outputs": [
    {
     "name": "stdout",
     "output_type": "stream",
     "text": [
      "삼중 백틱으로 구분된 텍스트를 어린아이 반말로 차분하고 존중하는 어조로\n",
      " 스타일로 번역하시오. \n",
      "텍스트: ```\n",
      "오늘 아침, 믹서기 사용 중에 뚜껑이 갑자기 날아가 주방 벽에 스무디가 튀는 일이 발생해 매우 당황스러웠습니다. \n",
      "더욱 실망스러운 점은, 보증이 이러한 주방 청소 비용을 보장하지 않는다는 것입니다.\n",
      "이 문제를 해결하는 데 귀사의 도움을 간절히 부탁드립니다.\n",
      "```\n",
      "\n"
     ]
    }
   ],
   "source": [
    "prompt = f\"\"\"삼중 백틱으로 구분된 텍스트를 {style} 스타일로 번역하시오. \n",
    "텍스트: ```{customer_email}```\n",
    "\"\"\"\n",
    "\n",
    "print(prompt)"
   ]
  },
  {
   "cell_type": "code",
   "execution_count": 7,
   "id": "c818ac46-c6f6-4de0-b5bb-087de326fd2f",
   "metadata": {},
   "outputs": [
    {
     "name": "stdout",
     "output_type": "stream",
     "text": [
      "아이야, 오늘 아침에 믹서기 사용하다가 뚜껑이 갑자기 날아가서 주방 벽에 스무디가 튀었어. 매우 당황했지만 저기요, 가장 속상한 건 보증이 주방 청소 비용을 지원해주지 않는다는 점이야. 이 문제를 해결하는 데 귀사의 도움이 절실히 필요해요.네로 도와주세요.\n"
     ]
    }
   ],
   "source": [
    "result = get_completion(prompt)\n",
    "print(result)"
   ]
  },
  {
   "cell_type": "markdown",
   "id": "c270c464-05c0-45bc-8d3e-68d0ff0aca17",
   "metadata": {},
   "source": [
    "## 채팅 API: LangChain\n",
    "- LangChain을 사용하여 동일한 작업을 수행하는 방법을 살펴보겠습니다.\n",
    "- LLM을 사용하여 텍스트를 다른 스타일로 번역하는 방법을 보여줍니다. LangChain의 프롬프트 템플릿을 사용하여 텍스트와 스타일을 지정하고, 이를 통해 반복적으로 템플릿을 재사용할 수 있습니다.\n",
    "\n",
    "### 모델"
   ]
  },
  {
   "cell_type": "code",
   "execution_count": 29,
   "id": "6aa14a3a-fa83-4872-8474-12302d93f2db",
   "metadata": {},
   "outputs": [],
   "source": [
    "from langchain_openai import ChatOpenAI\n",
    "\n",
    "# To control the randomness and creativity of the generated\n",
    "# text by an LLM, use temperature = 0.0\n",
    "chat = ChatOpenAI(temperature=0.0, model='gpt-4o')"
   ]
  },
  {
   "cell_type": "markdown",
   "id": "dc6b094a-5f78-49a1-aced-88a24d300aa4",
   "metadata": {},
   "source": [
    "### 프롬프트 템플릿\n",
    "\n",
    "<img src='./images/fig_01_01.png' width=600>"
   ]
  },
  {
   "cell_type": "code",
   "execution_count": 30,
   "id": "7e1c3dd3-c388-45ca-875f-4664d3f1805a",
   "metadata": {},
   "outputs": [],
   "source": [
    "template_string = \"\"\"삼중 백틱으로 구분된 텍스트를 {style} 스타일로 번역하시오.\n",
    "텍스트: ```{text}```\n",
    "\"\"\""
   ]
  },
  {
   "cell_type": "code",
   "execution_count": 31,
   "id": "584ffed8-b2f1-4835-9345-bd15c8e0cc27",
   "metadata": {},
   "outputs": [],
   "source": [
    "from langchain.prompts import ChatPromptTemplate\n",
    "\n",
    "prompt_template = ChatPromptTemplate.from_template(template_string)"
   ]
  },
  {
   "cell_type": "code",
   "execution_count": 32,
   "id": "8f6bdd37-b729-4297-afb6-9d18caa84ef5",
   "metadata": {},
   "outputs": [
    {
     "data": {
      "text/plain": [
       "PromptTemplate(input_variables=['style', 'text'], template='삼중 백틱으로 구분된 텍스트를 {style} 스타일로 번역하시오.\\n텍스트: ```{text}```\\n')"
      ]
     },
     "execution_count": 32,
     "metadata": {},
     "output_type": "execute_result"
    }
   ],
   "source": [
    "prompt_template.messages[0].prompt"
   ]
  },
  {
   "cell_type": "code",
   "execution_count": 33,
   "id": "41e7c7e2-aaa6-4c88-96f3-358ff490107a",
   "metadata": {},
   "outputs": [
    {
     "data": {
      "text/plain": [
       "['style', 'text']"
      ]
     },
     "execution_count": 33,
     "metadata": {},
     "output_type": "execute_result"
    }
   ],
   "source": [
    "prompt_template.messages[0].prompt.input_variables"
   ]
  },
  {
   "cell_type": "code",
   "execution_count": 34,
   "id": "f7911d78-91ca-4dc3-9f2f-9dadba69e1ed",
   "metadata": {},
   "outputs": [],
   "source": [
    "customer_style = \"\"\"어린아이 반말로 \\\n",
    "차분하고 존중하는 어조로\n",
    "\"\"\""
   ]
  },
  {
   "cell_type": "code",
   "execution_count": 35,
   "id": "198fda98-2a22-476a-b542-77185ea078ce",
   "metadata": {},
   "outputs": [],
   "source": [
    "customer_email = \"\"\"\n",
    "오늘 아침, 믹서기 사용 중에 뚜껑이 갑자기 날아가 주방 벽에 스무디가 튀는 일이 발생해 매우 당황스러웠습니다. \n",
    "더욱 실망스러운 점은, 보증이 이러한 주방 청소 비용을 보장하지 않는다는 것입니다.\n",
    "이 문제를 해결하는 데 귀사의 도움을 간절히 부탁드립니다.\"\"\""
   ]
  },
  {
   "cell_type": "code",
   "execution_count": 36,
   "id": "ea31dc74-ea6a-4d11-beaf-e0e14fc5b980",
   "metadata": {},
   "outputs": [],
   "source": [
    "customer_messages = prompt_template.format_messages(\n",
    "                    style=customer_style,\n",
    "                    text=customer_email)"
   ]
  },
  {
   "cell_type": "code",
   "execution_count": 37,
   "id": "355cf7e8-a3da-4d2c-af81-2e6830c14e64",
   "metadata": {},
   "outputs": [
    {
     "name": "stdout",
     "output_type": "stream",
     "text": [
      "<class 'list'>\n",
      "<class 'langchain_core.messages.human.HumanMessage'>\n"
     ]
    }
   ],
   "source": [
    "print(type(customer_messages))\n",
    "print(type(customer_messages[0]))"
   ]
  },
  {
   "cell_type": "code",
   "execution_count": 38,
   "id": "30569b42-d956-4627-b179-40929b1373d1",
   "metadata": {},
   "outputs": [
    {
     "name": "stdout",
     "output_type": "stream",
     "text": [
      "content='삼중 백틱으로 구분된 텍스트를 어린아이 반말로 차분하고 존중하는 어조로\\n 스타일로 번역하시오.\\n텍스트: ```\\n오늘 아침, 믹서기 사용 중에 뚜껑이 갑자기 날아가 주방 벽에 스무디가 튀는 일이 발생해 매우 당황스러웠습니다. \\n더욱 실망스러운 점은, 보증이 이러한 주방 청소 비용을 보장하지 않는다는 것입니다.\\n이 문제를 해결하는 데 귀사의 도움을 간절히 부탁드립니다.```\\n'\n"
     ]
    }
   ],
   "source": [
    "print(customer_messages[0])"
   ]
  },
  {
   "cell_type": "code",
   "execution_count": 39,
   "id": "3ee63829-fddf-4a7e-8b17-72ac489161d3",
   "metadata": {},
   "outputs": [],
   "source": [
    "# Call the LLM to translate to the style of the customer message\n",
    "customer_response = chat.invoke(customer_messages)"
   ]
  },
  {
   "cell_type": "code",
   "execution_count": 40,
   "id": "2cfb48b1-16cd-42e1-b307-eeff0d0f8629",
   "metadata": {},
   "outputs": [
    {
     "name": "stdout",
     "output_type": "stream",
     "text": [
      "```\n",
      "오늘 아침에 믹서기 쓰다가 뚜껑이 갑자기 날아가서 주방 벽에 스무디가 튀었어. 그래서 엄청 당황했어.\n",
      "더 속상한 건, 보증이 이런 주방 청소 비용을 안 보장해준다는 거야.\n",
      "이 문제를 해결하는 데 너희 회사의 도움이 정말 필요해. 부탁할게.\n",
      "```\n"
     ]
    }
   ],
   "source": [
    "print(customer_response.content)"
   ]
  },
  {
   "cell_type": "code",
   "execution_count": 41,
   "id": "28ebc651-c619-4ae0-a9dd-704eb63a86ae",
   "metadata": {},
   "outputs": [],
   "source": [
    "service_reply = \"\"\"야,\n",
    "네가 믹서기 뚜껑도 제대로 안 덮고 써서 생긴 주방 청소 비용은 보증 안 돼. 불편해도 어쩔 수 없어.\n",
    "끝.\n",
    "\"\"\""
   ]
  },
  {
   "cell_type": "code",
   "execution_count": 42,
   "id": "28ae0c35-f2cd-4003-bf3c-ae28a23d0726",
   "metadata": {},
   "outputs": [],
   "source": [
    "service_style = \"\"\"\\\n",
    "정중한 어조로, 고객 센터의 직원이 고객을 친절하게 대하는 말투로\n",
    "\"\"\""
   ]
  },
  {
   "cell_type": "code",
   "execution_count": 43,
   "id": "a95ca34b-fb0c-496f-855f-895e6f99446c",
   "metadata": {},
   "outputs": [
    {
     "name": "stdout",
     "output_type": "stream",
     "text": [
      "삼중 백틱으로 구분된 텍스트를 정중한 어조로, 고객 센터의 직원이 고객을 친절하게 대하는 말투로\n",
      " 스타일로 번역하시오.\n",
      "텍스트: ```야,\n",
      "네가 믹서기 뚜껑도 제대로 안 덮고 써서 생긴 주방 청소 비용은 보증 안 돼. 불편해도 어쩔 수 없어.\n",
      "끝.\n",
      "```\n",
      "\n"
     ]
    }
   ],
   "source": [
    "service_messages = prompt_template.format_messages(\n",
    "    style=service_style,\n",
    "    text=service_reply)\n",
    "\n",
    "print(service_messages[0].content)"
   ]
  },
  {
   "cell_type": "code",
   "execution_count": 44,
   "id": "b4e435b9-047f-4b12-a6ee-33fb764b6224",
   "metadata": {},
   "outputs": [
    {
     "name": "stdout",
     "output_type": "stream",
     "text": [
      "물론입니다. 다음과 같이 번역할 수 있습니다:\n",
      "\n",
      "---\n",
      "\n",
      "고객님, 안녕하세요.\n",
      "\n",
      "믹서기 사용 시 뚜껑을 제대로 덮지 않으셔서 발생한 주방 청소 비용은 보증 대상에 포함되지 않는 점 양해 부탁드립니다. 이로 인해 불편을 끼쳐드려 죄송합니다.\n",
      "\n",
      "감사합니다.\n",
      "\n",
      "---\n",
      "\n",
      "이렇게 번역해드렸습니다. 도움이 되셨길 바랍니다.\n"
     ]
    }
   ],
   "source": [
    "service_response = chat.invoke(service_messages)\n",
    "print(service_response.content)"
   ]
  },
  {
   "cell_type": "code",
   "execution_count": 45,
   "id": "edf012ac-aa8f-4d05-9356-92eef8cae283",
   "metadata": {},
   "outputs": [
    {
     "data": {
      "text/plain": [
       "AIMessage(content='물론입니다. 다음과 같이 번역할 수 있습니다:\\n\\n---\\n\\n고객님, 안녕하세요.\\n\\n믹서기 사용 시 뚜껑을 제대로 덮지 않으셔서 발생한 주방 청소 비용은 보증 대상에 포함되지 않는 점 양해 부탁드립니다. 이로 인해 불편을 끼쳐드려 죄송합니다.\\n\\n감사합니다.\\n\\n---\\n\\n이렇게 번역해드렸습니다. 도움이 되셨길 바랍니다.', response_metadata={'token_usage': {'completion_tokens': 98, 'prompt_tokens': 104, 'total_tokens': 202}, 'model_name': 'gpt-4o', 'system_fingerprint': 'fp_f4e629d0a5', 'finish_reason': 'stop', 'logprobs': None}, id='run-572d8e88-5256-462e-8a09-0daf5946ee1c-0', usage_metadata={'input_tokens': 104, 'output_tokens': 98, 'total_tokens': 202})"
      ]
     },
     "execution_count": 45,
     "metadata": {},
     "output_type": "execute_result"
    }
   ],
   "source": [
    "service_response"
   ]
  },
  {
   "cell_type": "markdown",
   "id": "3ca5b13c-2e3c-45e1-a896-62a8085b556a",
   "metadata": {},
   "source": [
    "## 출력 파서\n",
    "- LLM 출력을 원하는 형식으로 정의하는 것부터 시작해 보겠습니다.\n",
    "\n",
    "<img src='./images/fig_01_02.png' width=600>"
   ]
  },
  {
   "cell_type": "code",
   "execution_count": 46,
   "id": "e3b8852e-17a5-4b6f-b482-83199b6d9c38",
   "metadata": {},
   "outputs": [
    {
     "data": {
      "text/plain": [
       "{'gift': False, 'delivery_days': 5, 'price_value': 'pretty affordable!'}"
      ]
     },
     "execution_count": 46,
     "metadata": {},
     "output_type": "execute_result"
    }
   ],
   "source": [
    "{\n",
    "  \"gift\": False,\n",
    "  \"delivery_days\": 5,\n",
    "  \"price_value\": \"pretty affordable!\"\n",
    "}"
   ]
  },
  {
   "cell_type": "code",
   "execution_count": 47,
   "id": "0c7db645-5d9d-48d4-a956-3ba6f79ba0e1",
   "metadata": {},
   "outputs": [],
   "source": [
    "customer_review = \"\"\"\n",
    "이 낙엽 블로어는 정말 놀라워요. 네 가지 설정이 있어요:\\\n",
    "촛불 불어내기, 부드러운 바람, 바람의 도시, 토네이도.\\\n",
    "이틀 만에 도착해서 아내의 기념일 선물로 딱 맞았어요.\\\n",
    "아내가 너무 좋아해서 말을 잃은 것 같아요.\\\n",
    "지금까지는 제가 유일하게 사용하고 있는데,\\\n",
    "이틀에 한 번씩 우리 잔디밭의 낙엽을 치우는데 사용하고 있어요.\\\n",
    "다른 낙엽 블로어들보다 약간 더 비싸지만,\\\n",
    "추가 기능 때문에 그만한 가치가 있다고 생각해요.\n",
    "\"\"\""
   ]
  },
  {
   "cell_type": "code",
   "execution_count": 48,
   "id": "7a858560-084f-423e-adeb-b33f40496cbd",
   "metadata": {},
   "outputs": [],
   "source": [
    "review_template = \"\"\"\\\n",
    "다음 텍스트에서 다음 정보를 추출하세요:\n",
    "\n",
    "gift: 해당 품목이 다른 사람을 위한 선물로 구매되었나요? \\\n",
    "그렇다면 True, 아니면 False 또는 알 수 없음으로 답하세요.\n",
    "\n",
    "delivery_days: 제품이 도착하는 데 걸린 일수를 추출하세요. \\\n",
    "이 정보가 없으면 -1을 출력하세요.\n",
    "\n",
    "price_value: 가격 또는 가치에 대한 문장을 추출하고,\\\n",
    "파이썬 리스트로 쉼표로 구분하여 출력하세요.\n",
    "\n",
    "다음 키를 포함한 JSON 형식으로 출력하세요:\n",
    "gift\n",
    "delivery_days\n",
    "price_value\n",
    "\n",
    "text: {text}\n",
    "\"\"\""
   ]
  },
  {
   "cell_type": "code",
   "execution_count": 49,
   "id": "b1baf65b-3e8c-4a16-9475-6bc8ee4b399e",
   "metadata": {},
   "outputs": [
    {
     "name": "stdout",
     "output_type": "stream",
     "text": [
      "input_variables=['text'] messages=[HumanMessagePromptTemplate(prompt=PromptTemplate(input_variables=['text'], template='다음 텍스트에서 다음 정보를 추출하세요:\\n\\ngift: 해당 품목이 다른 사람을 위한 선물로 구매되었나요? 그렇다면 True, 아니면 False 또는 알 수 없음으로 답하세요.\\n\\ndelivery_days: 제품이 도착하는 데 걸린 일수를 추출하세요. 이 정보가 없으면 -1을 출력하세요.\\n\\nprice_value: 가격 또는 가치에 대한 문장을 추출하고,파이썬 리스트로 쉼표로 구분하여 출력하세요.\\n\\n다음 키를 포함한 JSON 형식으로 출력하세요:\\ngift\\ndelivery_days\\nprice_value\\n\\ntext: {text}\\n'))]\n"
     ]
    }
   ],
   "source": [
    "from langchain.prompts import ChatPromptTemplate\n",
    "\n",
    "prompt_template = ChatPromptTemplate.from_template(review_template)\n",
    "print(prompt_template)"
   ]
  },
  {
   "cell_type": "code",
   "execution_count": 50,
   "id": "6f8364e1-203a-4a4a-9fc8-7e40e600c568",
   "metadata": {},
   "outputs": [
    {
     "data": {
      "text/plain": [
       "[HumanMessage(content='다음 텍스트에서 다음 정보를 추출하세요:\\n\\ngift: 해당 품목이 다른 사람을 위한 선물로 구매되었나요? 그렇다면 True, 아니면 False 또는 알 수 없음으로 답하세요.\\n\\ndelivery_days: 제품이 도착하는 데 걸린 일수를 추출하세요. 이 정보가 없으면 -1을 출력하세요.\\n\\nprice_value: 가격 또는 가치에 대한 문장을 추출하고,파이썬 리스트로 쉼표로 구분하여 출력하세요.\\n\\n다음 키를 포함한 JSON 형식으로 출력하세요:\\ngift\\ndelivery_days\\nprice_value\\n\\ntext: \\n이 낙엽 블로어는 정말 놀라워요. 네 가지 설정이 있어요:촛불 불어내기, 부드러운 바람, 바람의 도시, 토네이도.이틀 만에 도착해서 아내의 기념일 선물로 딱 맞았어요.아내가 너무 좋아해서 말을 잃은 것 같아요.지금까지는 제가 유일하게 사용하고 있는데,이틀에 한 번씩 우리 잔디밭의 낙엽을 치우는데 사용하고 있어요.다른 낙엽 블로어들보다 약간 더 비싸지만,추가 기능 때문에 그만한 가치가 있다고 생각해요.\\n\\n')]"
      ]
     },
     "execution_count": 50,
     "metadata": {},
     "output_type": "execute_result"
    }
   ],
   "source": [
    "messages = prompt_template.format_messages(text=customer_review)\n",
    "messages"
   ]
  },
  {
   "cell_type": "code",
   "execution_count": 52,
   "id": "dc999a52-1c86-4c00-95d9-47118dca3942",
   "metadata": {},
   "outputs": [],
   "source": [
    "chat = ChatOpenAI(temperature=0.0, model='gpt-4o')\n",
    "response = chat.invoke(messages)"
   ]
  },
  {
   "cell_type": "code",
   "execution_count": 53,
   "id": "a142268c-df37-4775-834d-34f40fa9b5ae",
   "metadata": {},
   "outputs": [
    {
     "name": "stdout",
     "output_type": "stream",
     "text": [
      "```json\n",
      "{\n",
      "  \"gift\": true,\n",
      "  \"delivery_days\": 2,\n",
      "  \"price_value\": [\n",
      "    \"다른 낙엽 블로어들보다 약간 더 비싸지만\",\n",
      "    \"추가 기능 때문에 그만한 가치가 있다고 생각해요\"\n",
      "  ]\n",
      "}\n",
      "```\n"
     ]
    }
   ],
   "source": [
    "print(response.content)"
   ]
  },
  {
   "cell_type": "code",
   "execution_count": 54,
   "id": "bb0e594a-72fc-468d-89ab-7f59dbab8b68",
   "metadata": {},
   "outputs": [
    {
     "data": {
      "text/plain": [
       "str"
      ]
     },
     "execution_count": 54,
     "metadata": {},
     "output_type": "execute_result"
    }
   ],
   "source": [
    "type(response.content)"
   ]
  },
  {
   "cell_type": "markdown",
   "id": "15ef1e11-58b4-45b0-a04f-f037722463f0",
   "metadata": {},
   "source": [
    "### LLM 출력 문자열을 Python dictionary로 파싱하기\n",
    "\n",
    "- LangChain의 파서를 사용하여 LLM 출력을 Python 사전으로 파싱하는 방법을 설명합니다. 이를 통해 출력 데이터를 후속 처리에서 쉽게 사용할 수 있습니다."
   ]
  },
  {
   "cell_type": "code",
   "execution_count": 55,
   "id": "f6ed8fd8-4553-4661-b675-10e5542e9889",
   "metadata": {},
   "outputs": [],
   "source": [
    "from langchain.output_parsers import ResponseSchema\n",
    "from langchain.output_parsers import StructuredOutputParser"
   ]
  },
  {
   "cell_type": "code",
   "execution_count": 56,
   "id": "e3529da2-3dac-42a8-9a0c-b1d9ffe611b3",
   "metadata": {},
   "outputs": [],
   "source": [
    "gift_schema = ResponseSchema(name=\"gift\",\n",
    "                             description=\"해당 품목이 다른 사람을 위한 선물로 구매되었나요? 그렇다면 True, 아니면 False 또는 알 수 없음으로 답하세요.\")\n",
    "delivery_days_schema = ResponseSchema(name=\"delivery_days\",\n",
    "                                      description=\"제품이 도착하는 데 걸린 일수를 추출하세요. 이 정보가 없으면 -1을 출력하세요.\")\n",
    "price_value_schema = ResponseSchema(name=\"price_value\",\n",
    "                                    description=\"가격 또는 가치에 대한 문장을 추출하고, 파이썬 리스트로 쉼표로 구분하여 출력하세요.\")\n",
    "\n",
    "\n",
    "response_schemas = [gift_schema, \n",
    "                    delivery_days_schema,\n",
    "                    price_value_schema]"
   ]
  },
  {
   "cell_type": "code",
   "execution_count": 57,
   "id": "4856a1af-db83-42ae-bcb5-33d565d3a215",
   "metadata": {},
   "outputs": [],
   "source": [
    "output_parser = StructuredOutputParser(response_schemas=response_schemas)\n",
    "format_instructions = output_parser.get_format_instructions()"
   ]
  },
  {
   "cell_type": "code",
   "execution_count": 58,
   "id": "14d20cf3-1fbb-4062-b146-86d408e553f4",
   "metadata": {},
   "outputs": [
    {
     "name": "stdout",
     "output_type": "stream",
     "text": [
      "The output should be a markdown code snippet formatted in the following schema, including the leading and trailing \"```json\" and \"```\":\n",
      "\n",
      "```json\n",
      "{\n",
      "\t\"gift\": string  // 해당 품목이 다른 사람을 위한 선물로 구매되었나요? 그렇다면 True, 아니면 False 또는 알 수 없음으로 답하세요.\n",
      "\t\"delivery_days\": string  // 제품이 도착하는 데 걸린 일수를 추출하세요. 이 정보가 없으면 -1을 출력하세요.\n",
      "\t\"price_value\": string  // 가격 또는 가치에 대한 문장을 추출하고, 파이썬 리스트로 쉼표로 구분하여 출력하세요.\n",
      "}\n",
      "```\n"
     ]
    }
   ],
   "source": [
    "print(format_instructions)"
   ]
  },
  {
   "cell_type": "code",
   "execution_count": 59,
   "id": "28da1c34-90bf-4342-bcb7-b122f5cf96f4",
   "metadata": {},
   "outputs": [],
   "source": [
    "from langchain.prompts import ChatPromptTemplate\n",
    "\n",
    "review_template_2 = \"\"\"\\\n",
    "다음 텍스트에서 다음 정보를 추출하세요:\n",
    "\n",
    "gift: 해당 품목이 다른 사람을 위한 선물로 구매되었나요? \\\n",
    "그렇다면 True, 아니면 False 또는 알 수 없음으로 답하세요.\n",
    "\n",
    "delivery_days: 제품이 도착하는 데 걸린 일수를 추출하세요. \\\n",
    "이 정보가 없으면 -1을 출력하세요.\n",
    "\n",
    "price_value: 가격 또는 가치에 대한 문장을 추출하고, \\\n",
    "파이썬 리스트로 쉼표로 구분하여 출력하세요.\n",
    "\n",
    "다음과 같은 형식으로 JSON을 출력하세요:\n",
    "{{\n",
    "    \"gift\": true,\n",
    "    \"delivery_days\": 2,\n",
    "    \"price_value\": [\"문장1\", \"문장2\"]\n",
    "}}\n",
    "\n",
    "text: {text}\n",
    "\n",
    "{format_instructions}\n",
    "\"\"\"\n",
    "\n",
    "\n",
    "prompt = ChatPromptTemplate.from_template(template=review_template_2)\n",
    "\n",
    "\n",
    "messages = prompt.format_messages(text=customer_review, format_instructions=format_instructions)\n"
   ]
  },
  {
   "cell_type": "code",
   "execution_count": 60,
   "id": "c36c938c-506d-498f-b50d-e913233942a2",
   "metadata": {},
   "outputs": [
    {
     "name": "stdout",
     "output_type": "stream",
     "text": [
      "다음 텍스트에서 다음 정보를 추출하세요:\n",
      "\n",
      "gift: 해당 품목이 다른 사람을 위한 선물로 구매되었나요? 그렇다면 True, 아니면 False 또는 알 수 없음으로 답하세요.\n",
      "\n",
      "delivery_days: 제품이 도착하는 데 걸린 일수를 추출하세요. 이 정보가 없으면 -1을 출력하세요.\n",
      "\n",
      "price_value: 가격 또는 가치에 대한 문장을 추출하고, 파이썬 리스트로 쉼표로 구분하여 출력하세요.\n",
      "\n",
      "다음과 같은 형식으로 JSON을 출력하세요:\n",
      "{\n",
      "    \"gift\": true,\n",
      "    \"delivery_days\": 2,\n",
      "    \"price_value\": [\"문장1\", \"문장2\"]\n",
      "}\n",
      "\n",
      "text: \n",
      "이 낙엽 블로어는 정말 놀라워요. 네 가지 설정이 있어요:촛불 불어내기, 부드러운 바람, 바람의 도시, 토네이도.이틀 만에 도착해서 아내의 기념일 선물로 딱 맞았어요.아내가 너무 좋아해서 말을 잃은 것 같아요.지금까지는 제가 유일하게 사용하고 있는데,이틀에 한 번씩 우리 잔디밭의 낙엽을 치우는데 사용하고 있어요.다른 낙엽 블로어들보다 약간 더 비싸지만,추가 기능 때문에 그만한 가치가 있다고 생각해요.\n",
      "\n",
      "\n",
      "The output should be a markdown code snippet formatted in the following schema, including the leading and trailing \"```json\" and \"```\":\n",
      "\n",
      "```json\n",
      "{\n",
      "\t\"gift\": string  // 해당 품목이 다른 사람을 위한 선물로 구매되었나요? 그렇다면 True, 아니면 False 또는 알 수 없음으로 답하세요.\n",
      "\t\"delivery_days\": string  // 제품이 도착하는 데 걸린 일수를 추출하세요. 이 정보가 없으면 -1을 출력하세요.\n",
      "\t\"price_value\": string  // 가격 또는 가치에 대한 문장을 추출하고, 파이썬 리스트로 쉼표로 구분하여 출력하세요.\n",
      "}\n",
      "```\n",
      "\n"
     ]
    }
   ],
   "source": [
    "print(messages[0].content)"
   ]
  },
  {
   "cell_type": "code",
   "execution_count": 61,
   "id": "d4efa4b6-4781-4406-9e0b-d62e0b3b7948",
   "metadata": {},
   "outputs": [],
   "source": [
    "response = chat.invoke(messages)"
   ]
  },
  {
   "cell_type": "code",
   "execution_count": 62,
   "id": "ab8098ec-57f0-48f8-ac5a-716ef08b1abb",
   "metadata": {},
   "outputs": [
    {
     "name": "stdout",
     "output_type": "stream",
     "text": [
      "```json\n",
      "{\n",
      "    \"gift\": true,\n",
      "    \"delivery_days\": 2,\n",
      "    \"price_value\": [\"다른 낙엽 블로어들보다 약간 더 비싸지만, 추가 기능 때문에 그만한 가치가 있다고 생각해요.\"]\n",
      "}\n",
      "```\n"
     ]
    }
   ],
   "source": [
    "print(response.content)"
   ]
  },
  {
   "cell_type": "code",
   "execution_count": 63,
   "id": "b39465b8-e075-4a62-96ef-7f5fe432b66b",
   "metadata": {},
   "outputs": [
    {
     "data": {
      "text/plain": [
       "str"
      ]
     },
     "execution_count": 63,
     "metadata": {},
     "output_type": "execute_result"
    }
   ],
   "source": [
    "type(response.content)"
   ]
  },
  {
   "cell_type": "code",
   "execution_count": 64,
   "id": "34df6203-74b5-431e-acac-2abe13827b65",
   "metadata": {},
   "outputs": [],
   "source": [
    "output_dict = output_parser.parse(response.content)"
   ]
  },
  {
   "cell_type": "code",
   "execution_count": 65,
   "id": "a8c4402b-76bc-47e8-980b-0749293cbdd5",
   "metadata": {},
   "outputs": [
    {
     "data": {
      "text/plain": [
       "{'gift': True,\n",
       " 'delivery_days': 2,\n",
       " 'price_value': ['다른 낙엽 블로어들보다 약간 더 비싸지만, 추가 기능 때문에 그만한 가치가 있다고 생각해요.']}"
      ]
     },
     "execution_count": 65,
     "metadata": {},
     "output_type": "execute_result"
    }
   ],
   "source": [
    "output_dict"
   ]
  },
  {
   "cell_type": "code",
   "execution_count": 66,
   "id": "a49fbcb8-a824-43fe-b4ce-8340a9748862",
   "metadata": {},
   "outputs": [
    {
     "data": {
      "text/plain": [
       "dict"
      ]
     },
     "execution_count": 66,
     "metadata": {},
     "output_type": "execute_result"
    }
   ],
   "source": [
    "type(output_dict)"
   ]
  },
  {
   "cell_type": "code",
   "execution_count": 67,
   "id": "69115fa7-b449-4c79-8e31-cb68d13d3d61",
   "metadata": {},
   "outputs": [
    {
     "data": {
      "text/plain": [
       "2"
      ]
     },
     "execution_count": 67,
     "metadata": {},
     "output_type": "execute_result"
    }
   ],
   "source": [
    "output_dict.get('delivery_days')"
   ]
  },
  {
   "cell_type": "markdown",
   "id": "ff618e76-ccd1-497a-8e2d-0822aca02db7",
   "metadata": {},
   "source": [
    "- chain"
   ]
  },
  {
   "cell_type": "code",
   "execution_count": 68,
   "id": "e4e50316-8336-4867-b751-6df6dfe37517",
   "metadata": {},
   "outputs": [],
   "source": [
    "chain = chat | output_parser"
   ]
  },
  {
   "cell_type": "code",
   "execution_count": 70,
   "id": "38d031e9-7f94-4054-ae2b-a3334b53ac4e",
   "metadata": {},
   "outputs": [
    {
     "data": {
      "text/plain": [
       "{'gift': True,\n",
       " 'delivery_days': 2,\n",
       " 'price_value': ['다른 낙엽 블로어들보다 약간 더 비싸지만, 추가 기능 때문에 그만한 가치가 있다고 생각해요.']}"
      ]
     },
     "execution_count": 70,
     "metadata": {},
     "output_type": "execute_result"
    }
   ],
   "source": [
    "response = chain.invoke(messages)\n",
    "response"
   ]
  },
  {
   "cell_type": "code",
   "execution_count": 71,
   "id": "9fc2a4eb-7f6a-4495-ba44-c06b0240657f",
   "metadata": {},
   "outputs": [
    {
     "data": {
      "text/plain": [
       "dict"
      ]
     },
     "execution_count": 71,
     "metadata": {},
     "output_type": "execute_result"
    }
   ],
   "source": [
    "type(response)"
   ]
  },
  {
   "cell_type": "markdown",
   "id": "1d491a04-ddab-40b7-ad56-4566f758cfd9",
   "metadata": {},
   "source": [
    "# 메모리\n",
    "\n",
    "- 이 모델들과 상호작용할 때, 이전 대화 내용을 기억하지 못하는 것이 자연스럽습니다. 이는 챗봇과 같은 애플리케이션을 구축할 때 문제가 됩니다.\n",
    "- 그래서 이번 섹션에서는 메모리에 대해 다룰 것입니다. 메모리는 기본적으로 이전 대화 내용을 기억하고 이를 언어 모델에 전달하여 대화의 흐름을 유지하도록 하는 방법입니다.\n",
    "- LangChain은 이러한 메모리를 관리하는 여러 가지 고급 옵션을 제공합니다. 함께 살펴보겠습니다."
   ]
  },
  {
   "cell_type": "markdown",
   "id": "e601f9ba-9d32-47a0-ae1e-32123e3fa4ff",
   "metadata": {},
   "source": [
    "## 설정"
   ]
  },
  {
   "cell_type": "code",
   "execution_count": 176,
   "id": "27ca62c6-dbd3-462c-8e31-fe65a99c86f6",
   "metadata": {},
   "outputs": [],
   "source": [
    "import os\n",
    "\n",
    "from dotenv import load_dotenv, find_dotenv\n",
    "_ = load_dotenv(find_dotenv()) # read local .env file\n",
    "\n",
    "import warnings\n",
    "warnings.filterwarnings('ignore')"
   ]
  },
  {
   "cell_type": "markdown",
   "id": "23c049d6-ac6c-4d29-b6ba-c9e50183f005",
   "metadata": {},
   "source": [
    "## ConversationBufferMemory\n",
    "- `ConversationBufferMemory`는 LangChain에서 대화의 전체 내용을 메모리에 저장하는 방식입니다. 이 메모리는 대화의 모든 교환(입력 및 출력)을 저장하여, 모델이 대화의 맥락을 완전히 기억할 수 있도록 합니다. 이를 통해 대화의 흐름을 유지하고, 이전 대화 내용을 참조하여 응답을 생성할 수 있습니다.\n",
    "\n",
    "### 주요 특징\n",
    "\n",
    "1. **전체 대화 저장**:\n",
    "   - 대화의 모든 교환을 메모리에 저장합니다.\n",
    "   - 모델이 대화의 모든 맥락을 기억할 수 있도록 하여, 자연스러운 대화 흐름을 유지할 수 있습니다.\n",
    "\n",
    "2. **대화 히스토리 유지**:\n",
    "   - 대화의 모든 내용을 히스토리 형태로 저장하여, 필요할 때 언제든지 이전 대화 내용을 참조할 수 있습니다.\n",
    "   - 이를 통해 모델이 사용자가 이전에 말한 내용을 기억하고, 일관성 있는 응답을 생성할 수 있습니다.\n",
    "\n",
    "3. **적용 사례**:\n",
    "   - 챗봇 및 대화형 애플리케이션에서 대화의 맥락을 완전히 기억해야 하는 경우에 유용합니다.\n",
    "   - 예를 들어, 고객 지원 챗봇이 고객의 이전 문의 내용을 기억하고, 이에 따라 적절한 응답을 제공할 때 사용합니다.\n",
    "\n",
    "\n",
    "### 장점\n",
    "\n",
    "- **완전한 대화 맥락 유지**: 대화의 모든 내용을 저장하여 자연스러운 대화 흐름을 제공합니다.\n",
    "- **일관성 있는 응답 생성**: 모델이 이전 대화 내용을 기억하고, 일관성 있는 응답을 생성할 수 있습니다.\n",
    "- **사용자 경험 향상**: 사용자의 이전 대화 내용을 기억하여 더 나은 사용자 경험을 제공합니다.\n",
    "\n",
    "`ConversationBufferMemory`는 이러한 특징들 덕분에 챗봇 및 대화형 애플리케이션에서 매우 유용하게 사용될 수 있습니다. 이 메모리 유형은 특히 대화의 맥락을 완전히 기억해야 하는 경우에 적합합니다.\n"
   ]
  },
  {
   "cell_type": "code",
   "execution_count": 72,
   "id": "f27ae928-2d84-4b2c-871f-6f9f0c528781",
   "metadata": {},
   "outputs": [],
   "source": [
    "from langchain_openai import ChatOpenAI\n",
    "from langchain.chains import ConversationChain\n",
    "from langchain.memory import ConversationBufferMemory\n",
    "\n",
    "llm = ChatOpenAI(temperature=0.0)\n",
    "\n",
    "memory = ConversationBufferMemory()\n",
    "\n",
    "conversation = ConversationChain(\n",
    "    llm=llm, \n",
    "    memory = memory,\n",
    "    verbose=True\n",
    ")"
   ]
  },
  {
   "cell_type": "markdown",
   "id": "ca420287-ea87-4d85-9979-de9275df698f",
   "metadata": {},
   "source": [
    "- 대화를 시작하면, `conversation.predict`를 사용하여 입력을 줍니다."
   ]
  },
  {
   "cell_type": "code",
   "execution_count": 178,
   "id": "aa6c8d6b-38fb-4e9e-89a6-2db4d52cf258",
   "metadata": {},
   "outputs": [
    {
     "name": "stdout",
     "output_type": "stream",
     "text": [
      "\n",
      "\n",
      "\u001b[1m> Entering new ConversationChain chain...\u001b[0m\n",
      "Prompt after formatting:\n",
      "\u001b[32;1m\u001b[1;3mThe following is a friendly conversation between a human and an AI. The AI is talkative and provides lots of specific details from its context. If the AI does not know the answer to a question, it truthfully says it does not know.\n",
      "\n",
      "Current conversation:\n",
      "\n",
      "Human: Hi, my name is Andrew\n",
      "AI:\u001b[0m\n",
      "\n",
      "\u001b[1m> Finished chain.\u001b[0m\n"
     ]
    },
    {
     "data": {
      "text/plain": [
       "\"Hello Andrew! It's nice to meet you. How can I assist you today?\""
      ]
     },
     "execution_count": 178,
     "metadata": {},
     "output_type": "execute_result"
    }
   ],
   "source": [
    "conversation.predict(input=\"Hi, my name is Andrew\")"
   ]
  },
  {
   "cell_type": "code",
   "execution_count": 179,
   "id": "6ec00823-b1d2-4ce4-9d40-a1f60407792a",
   "metadata": {},
   "outputs": [
    {
     "name": "stdout",
     "output_type": "stream",
     "text": [
      "\n",
      "\n",
      "\u001b[1m> Entering new ConversationChain chain...\u001b[0m\n",
      "Prompt after formatting:\n",
      "\u001b[32;1m\u001b[1;3mThe following is a friendly conversation between a human and an AI. The AI is talkative and provides lots of specific details from its context. If the AI does not know the answer to a question, it truthfully says it does not know.\n",
      "\n",
      "Current conversation:\n",
      "Human: Hi, my name is Andrew\n",
      "AI: Hello Andrew! It's nice to meet you. How can I assist you today?\n",
      "Human: What is 1+1?\n",
      "AI:\u001b[0m\n",
      "\n",
      "\u001b[1m> Finished chain.\u001b[0m\n"
     ]
    },
    {
     "data": {
      "text/plain": [
       "'1+1 equals 2. Is there anything else you would like to know?'"
      ]
     },
     "execution_count": 179,
     "metadata": {},
     "output_type": "execute_result"
    }
   ],
   "source": [
    "conversation.predict(input=\"What is 1+1?\")"
   ]
  },
  {
   "cell_type": "markdown",
   "id": "b7900d68-ca7e-43a8-bbf2-9e3e884ded3f",
   "metadata": {},
   "source": [
    "- 내가 \"내 이름이 뭐죠?\"라고 말할 때가 세 번째 턴입니다."
   ]
  },
  {
   "cell_type": "code",
   "execution_count": 180,
   "id": "3d77b6e0-ced3-48bf-8db9-c9c478688877",
   "metadata": {},
   "outputs": [
    {
     "name": "stdout",
     "output_type": "stream",
     "text": [
      "\n",
      "\n",
      "\u001b[1m> Entering new ConversationChain chain...\u001b[0m\n",
      "Prompt after formatting:\n",
      "\u001b[32;1m\u001b[1;3mThe following is a friendly conversation between a human and an AI. The AI is talkative and provides lots of specific details from its context. If the AI does not know the answer to a question, it truthfully says it does not know.\n",
      "\n",
      "Current conversation:\n",
      "Human: Hi, my name is Andrew\n",
      "AI: Hello Andrew! It's nice to meet you. How can I assist you today?\n",
      "Human: What is 1+1?\n",
      "AI: 1+1 equals 2. Is there anything else you would like to know?\n",
      "Human: What is my name?\n",
      "AI:\u001b[0m\n",
      "\n",
      "\u001b[1m> Finished chain.\u001b[0m\n"
     ]
    },
    {
     "data": {
      "text/plain": [
       "'Your name is Andrew. Is there anything else you would like to know or discuss?'"
      ]
     },
     "execution_count": 180,
     "metadata": {},
     "output_type": "execute_result"
    }
   ],
   "source": [
    "conversation.predict(input=\"What is my name?\")"
   ]
  },
  {
   "cell_type": "markdown",
   "id": "ff57b23e-b64d-4a3f-b068-8f07425c43f1",
   "metadata": {},
   "source": [
    "- 현재 대화를 다음과 같이 저장했습니다. \"안녕하세요, 제 이름은 앤드류입니다\", \"1 더하기 1은 무엇입니까?\" 등. 이렇게 대화의 메모리나 히스토리가 점점 길어집니다. 사실, 위에서 메모리 변수를 사용하여 메모리를 저장했습니다.\n",
    "- `memory.buffer`를 출력하면 지금까지의 대화를 저장한 내용을 볼 수 있습니다."
   ]
  },
  {
   "cell_type": "code",
   "execution_count": 181,
   "id": "3257d220-0d3d-484a-9906-a5bcaf370a41",
   "metadata": {},
   "outputs": [
    {
     "name": "stdout",
     "output_type": "stream",
     "text": [
      "Human: Hi, my name is Andrew\n",
      "AI: Hello Andrew! It's nice to meet you. How can I assist you today?\n",
      "Human: What is 1+1?\n",
      "AI: 1+1 equals 2. Is there anything else you would like to know?\n",
      "Human: What is my name?\n",
      "AI: Your name is Andrew. Is there anything else you would like to know or discuss?\n"
     ]
    }
   ],
   "source": [
    "print(memory.buffer)"
   ]
  },
  {
   "cell_type": "markdown",
   "id": "7e2adba8-8d00-4385-b62b-7641ef127db8",
   "metadata": {},
   "source": [
    "- 또한, `memory.loadMemoryVariables`를 출력할 수도 있습니다. 여기의 중괄호는 실제로 빈 딕셔너리입니다. 더 고급 입력을 사용할 수 있는 고급 기능이 있지만, 이번 단기 과정에서는 다루지 않겠습니다. 여기 빈 중괄호가 왜 있는지 걱정하지 마세요.\n",
    "    - memory.load_memory_variables({})에서 빈 중괄호를 사용하는 이유는 이 메서드가 일반적으로 메모리 변수와 관련된 추가적인 입력 데이터를 받을 수 있도록 설계되었기 때문입니다. 빈 중괄호 {}는 아무런 추가 데이터 없이 호출된다는 것을 의미합니다.\n",
    "    - 즉, 이 메서드는 기본적으로 메모리 내에 저장된 모든 데이터를 로드하지만, 필요에 따라 특정 조건이나 추가 데이터를 기반으로 메모리 변수들을 로드할 수 있는 확장성을 제공합니다. 빈 중괄호 {}는 이러한 확장성을 활용하지 않고, 기본 동작으로 모든 메모리 변수를 로드하는 경우를 나타냅니다."
   ]
  },
  {
   "cell_type": "code",
   "execution_count": 182,
   "id": "381f160d-9a42-476a-aaf5-e0331cc49938",
   "metadata": {},
   "outputs": [
    {
     "data": {
      "text/plain": [
       "{'history': \"Human: Hi, my name is Andrew\\nAI: Hello Andrew! It's nice to meet you. How can I assist you today?\\nHuman: What is 1+1?\\nAI: 1+1 equals 2. Is there anything else you would like to know?\\nHuman: What is my name?\\nAI: Your name is Andrew. Is there anything else you would like to know or discuss?\"}"
      ]
     },
     "execution_count": 182,
     "metadata": {},
     "output_type": "execute_result"
    }
   ],
   "source": [
    "memory.load_memory_variables({})"
   ]
  },
  {
   "cell_type": "markdown",
   "id": "68a3614f-522d-4e94-90ea-04ffb87724f2",
   "metadata": {},
   "source": [
    "## ConversationBufferWindowMemory\n",
    "\n",
    "`ConversationBufferWindowMemory`는 LangChain에서 대화의 특정 부분만 기억하도록 설계된 메모리 유형입니다. 이 메모리는 대화 전체를 기억하는 대신, 최근의 일정한 수의 대화 교환만을 기억하도록 설정할 수 있습니다. 이를 통해 메모리 사용량을 줄이고, 모델이 이전 대화의 일부만 기억하도록 할 수 있습니다.\n",
    "\n",
    "### 주요 특징\n",
    "1. **메모리 윈도우 크기**:\n",
    "   - `k`라는 파라미터를 사용하여 기억할 대화 교환의 수를 설정합니다.\n",
    "   - 예를 들어, `k=1`로 설정하면 마지막 한 번의 대화(사용자 입력과 모델 응답)를 기억합니다.\n",
    "\n",
    "2. **메모리 사용량 제어**:\n",
    "   - 대화가 길어질수록 메모리 사용량이 증가할 수 있습니다.\n",
    "   - `ConversationBufferWindowMemory`는 메모리 사용량을 제어하기 위해 최근 대화의 일부만 기억하므로, 모델이 더 효율적으로 작동하도록 합니다.\n",
    "\n",
    "3. **적용 사례**:\n",
    "   - 대화의 최신 상태를 유지해야 하는 챗봇이나 대화형 애플리케이션에서 유용합니다.\n",
    "   - 예를 들어, 고객 지원 챗봇이 최근 몇 번의 대화만 기억하고, 이전 대화는 무시하도록 할 때 사용합니다.\n",
    "\n",
    "### 장점\n",
    "- **효율적인 메모리 사용**: 대화 내용이 길어져도 메모리 사용량을 제한하여 효율성을 유지합니다.\n",
    "- **최근 대화 유지**: 최근 대화의 맥락을 유지하여 자연스러운 대화 흐름을 제공합니다.\n",
    "\n",
    "`ConversationBufferWindowMemory`는 이러한 특징들 덕분에 챗봇 및 대화형 애플리케이션에서 효과적으로 사용될 수 있습니다."
   ]
  },
  {
   "cell_type": "code",
   "execution_count": 187,
   "id": "197e7341-b0b8-4515-92e5-1644b98885b3",
   "metadata": {},
   "outputs": [],
   "source": [
    "from langchain.memory import ConversationBufferWindowMemory\n",
    "\n",
    "memory = ConversationBufferWindowMemory(k=1)               \n",
    "memory.save_context({\"input\": \"Hi\"},\n",
    "                    {\"output\": \"What's up\"})\n",
    "memory.save_context({\"input\": \"Not much, just hanging\"},\n",
    "                    {\"output\": \"Cool\"})"
   ]
  },
  {
   "cell_type": "code",
   "execution_count": 188,
   "id": "0bab9e70-e959-48c6-96a8-2a15c0a12b16",
   "metadata": {},
   "outputs": [
    {
     "data": {
      "text/plain": [
       "{'history': 'Human: Not much, just hanging\\nAI: Cool'}"
      ]
     },
     "execution_count": 188,
     "metadata": {},
     "output_type": "execute_result"
    }
   ],
   "source": [
    "memory.load_memory_variables({})"
   ]
  },
  {
   "cell_type": "code",
   "execution_count": 189,
   "id": "4bdddf1d-5a52-4b96-804c-db3d53bad173",
   "metadata": {},
   "outputs": [],
   "source": [
    "llm = ChatOpenAI(temperature=0.0)\n",
    "memory = ConversationBufferWindowMemory(k=1)\n",
    "conversation = ConversationChain(\n",
    "    llm=llm, \n",
    "    memory = memory,\n",
    "    verbose=False\n",
    ")"
   ]
  },
  {
   "cell_type": "code",
   "execution_count": 190,
   "id": "52cae736-3f26-4c9c-aa84-254f435fc71c",
   "metadata": {},
   "outputs": [
    {
     "data": {
      "text/plain": [
       "\"Hello Andrew! It's nice to meet you. How can I assist you today?\""
      ]
     },
     "execution_count": 190,
     "metadata": {},
     "output_type": "execute_result"
    }
   ],
   "source": [
    "conversation.predict(input=\"Hi, my name is Andrew\")"
   ]
  },
  {
   "cell_type": "code",
   "execution_count": 191,
   "id": "afc0a390-7143-47c4-8c67-a40387919553",
   "metadata": {},
   "outputs": [
    {
     "data": {
      "text/plain": [
       "'1+1 equals 2. Is there anything else you would like to know?'"
      ]
     },
     "execution_count": 191,
     "metadata": {},
     "output_type": "execute_result"
    }
   ],
   "source": [
    "conversation.predict(input=\"What is 1+1?\")"
   ]
  },
  {
   "cell_type": "code",
   "execution_count": 192,
   "id": "02f2b1ab-9de7-44f7-a1d5-677e3564f7cc",
   "metadata": {},
   "outputs": [
    {
     "data": {
      "text/plain": [
       "\"I'm sorry, I do not have access to personal information such as your name. Is there anything else you would like to know?\""
      ]
     },
     "execution_count": 192,
     "metadata": {},
     "output_type": "execute_result"
    }
   ],
   "source": [
    "conversation.predict(input=\"What is my name?\")"
   ]
  },
  {
   "cell_type": "markdown",
   "id": "bd89ee1c-be8e-4c35-b472-ced46969e4a3",
   "metadata": {},
   "source": [
    "## ConversationTokenBufferMemory\n",
    "\n",
    "`ConversationTokenBufferMemory`는 LangChain에서 대화의 특정 부분만 기억하도록 설계된 또 다른 메모리 유형입니다. 이 메모리는 대화의 전체 내용 대신, 최근 대화의 일부를 토큰 수를 기준으로 기억합니다. 이를 통해 메모리 사용량을 효율적으로 관리하고, 모델이 중요한 최근 대화를 유지하면서 불필요한 과거 대화를 삭제할 수 있습니다.\n",
    "\n",
    "### 주요 특징\n",
    "\n",
    "1. **토큰 기반 메모리**:\n",
    "   - `max_token_limit` 파라미터를 사용하여 기억할 토큰 수의 최대치를 설정합니다.\n",
    "   - 예를 들어, `max_token_limit=100`으로 설정하면 마지막 100개의 토큰만 기억합니다.\n",
    "\n",
    "2. **메모리 사용량 제어**:\n",
    "   - 대화가 길어질수록 메모리 사용량이 증가할 수 있습니다.\n",
    "   - `ConversationTokenBufferMemory`는 토큰 수를 기준으로 메모리 사용량을 제한하므로, 모델이 더 효율적으로 작동하도록 합니다.\n",
    "\n",
    "3. **적용 사례**:\n",
    "   - 대화의 최신 상태를 유지하면서도 특정 길이 이상의 대화를 기억할 필요가 없는 경우에 유용합니다.\n",
    "   - 예를 들어, 고객 지원 챗봇이 최근 대화의 맥락만 유지하고, 이전 대화는 무시하도록 할 때 사용합니다.\n",
    "\n",
    "### 장점\n",
    "\n",
    "- **효율적인 메모리 사용**: 토큰 수를 기준으로 메모리 사용량을 제한하여 효율성을 유지합니다.\n",
    "- **최근 대화 유지**: 최근 대화의 맥락을 유지하여 자연스러운 대화 흐름을 제공합니다.\n",
    "- **비용 절감**: 토큰 기반의 메모리 관리는 LLM API 호출 비용을 줄이는 데 도움이 됩니다.\n",
    "\n",
    "`ConversationTokenBufferMemory`는 이러한 특징들 덕분에 챗봇 및 대화형 애플리케이션에서 효과적으로 사용될 수 있습니다. 이 메모리 유형은 특히 대화가 길어질 때 메모리 사용량을 제한하고, 비용을 절감하는 데 유용합니다."
   ]
  },
  {
   "cell_type": "code",
   "execution_count": 193,
   "id": "a394620f-b2d7-43a4-9789-21d8282d9287",
   "metadata": {},
   "outputs": [],
   "source": [
    "from langchain.memory import ConversationTokenBufferMemory\n",
    "from langchain.llms import OpenAI\n",
    "llm = ChatOpenAI(temperature=0.0)"
   ]
  },
  {
   "cell_type": "code",
   "execution_count": 194,
   "id": "c4ff1a4a-e8d4-4fe7-aa8b-be0f051a0329",
   "metadata": {},
   "outputs": [],
   "source": [
    "memory = ConversationTokenBufferMemory(llm=llm, max_token_limit=50)\n",
    "memory.save_context({\"input\": \"AI is what?!\"},\n",
    "                    {\"output\": \"Amazing!\"})\n",
    "memory.save_context({\"input\": \"Backpropagation is what?\"},\n",
    "                    {\"output\": \"Beautiful!\"})\n",
    "memory.save_context({\"input\": \"Chatbots are what?\"}, \n",
    "                    {\"output\": \"Charming!\"})"
   ]
  },
  {
   "cell_type": "code",
   "execution_count": 195,
   "id": "2ee38835-85f0-40d7-9b88-af5fb8e5353e",
   "metadata": {},
   "outputs": [
    {
     "data": {
      "text/plain": [
       "{'history': 'Human: AI is what?!\\nAI: Amazing!\\nHuman: Backpropagation is what?\\nAI: Beautiful!\\nHuman: Chatbots are what?\\nAI: Charming!'}"
      ]
     },
     "execution_count": 195,
     "metadata": {},
     "output_type": "execute_result"
    }
   ],
   "source": [
    "memory.load_memory_variables({})"
   ]
  },
  {
   "cell_type": "markdown",
   "id": "d969fe08-7378-43fc-b5cf-bf96b255b49e",
   "metadata": {},
   "source": [
    "## ConversationSummaryMemory\n",
    "\n",
    "`ConversationSummaryMemory`는 LangChain에서 제공하는 메모리 유형 중 하나로, 대화 내용을 요약하여 저장하는 방식입니다. 이 메모리는 전체 대화 내용을 저장하지 않고, 대화의 요약본을 생성하여 저장함으로써 메모리 사용량을 줄이고, 모델이 중요한 대화 내용을 유지하도록 합니다. 요약된 대화 내용은 필요한 경우 다시 모델에 제공되어 대화의 맥락을 유지할 수 있습니다.\n",
    "\n",
    "### 주요 특징\n",
    "\n",
    "1. **요약 기반 메모리**:\n",
    "   - 대화 내용을 요약하여 저장합니다.\n",
    "   - 요약본은 대화의 핵심 내용을 포함하여 모델이 중요한 정보를 유지할 수 있도록 합니다.\n",
    "\n",
    "2. **메모리 사용량 제어**:\n",
    "   - 전체 대화 내용을 저장하는 대신 요약본을 저장하여 메모리 사용량을 줄입니다.\n",
    "   - 대화가 길어질수록 메모리 사용량이 증가하지 않도록 효과적으로 관리합니다.\n",
    "\n",
    "3. **적용 사례**:\n",
    "   - 대화의 핵심 내용을 유지하면서 메모리 사용량을 줄여야 하는 경우에 유용합니다.\n",
    "   - 예를 들어, 고객 지원 챗봇이 긴 대화를 요약하여 중요한 정보만 기억하도록 할 때 사용합니다.\n",
    "\n",
    "### 장점\n",
    "\n",
    "- **효율적인 메모리 사용**: 요약본을 저장하여 메모리 사용량을 줄입니다.\n",
    "- **대화 맥락 유지**: 중요한 대화 내용을 요약하여 유지함으로써 자연스러운 대화 흐름을 제공합니다.\n",
    "- **비용 절감**: 요약된 대화 내용을 사용하여 LLM API 호출 비용을 줄일 수 있습니다.\n",
    "\n",
    "`ConversationSummaryMemory`는 이러한 특징들 덕분에 긴 대화를 요약하여 중요한 정보만 유지하고, 메모리 사용량을 줄이며, 효율적인 대화 관리가 가능합니다. 이 메모리 유형은 특히 대화가 길어질 때 메모리 사용량을 제한하고, 비용을 절감하는 데 유용합니다."
   ]
  },
  {
   "cell_type": "code",
   "execution_count": 196,
   "id": "2a959615-2f09-43e3-a4d7-bf9c05b62ad8",
   "metadata": {},
   "outputs": [],
   "source": [
    "from langchain.memory import ConversationSummaryBufferMemory"
   ]
  },
  {
   "cell_type": "code",
   "execution_count": 197,
   "id": "ae029a31-552f-4cf0-8ea9-532a6308c1b1",
   "metadata": {},
   "outputs": [],
   "source": [
    "# 긴 문자열 생성\n",
    "schedule = \"오전 8시에 제품 팀과의 회의가 있습니다. \\\n",
    "파워포인트 프레젠테이션을 준비해야 합니다. \\\n",
    "오전 9시부터 12시까지는 LangChain 프로젝트 작업 시간이 있습니다. \\\n",
    "LangChain이 매우 강력한 도구이기 때문에 작업이 빠르게 진행될 것입니다. \\\n",
    "정오에는 이탈리아 레스토랑에서 고객과 점심 식사가 있습니다. \\\n",
    "이 고객은 최신 AI 기술을 이해하기 위해 한 시간 이상 운전해 올 예정입니다. \\\n",
    "최신 LLM 데모를 보여줄 수 있도록 노트북을 꼭 가져가세요.\"\n",
    "\n",
    "memory = ConversationSummaryBufferMemory(llm=llm, max_token_limit=100)\n",
    "memory.save_context({\"input\": \"안녕하세요\"}, {\"output\": \"어떻게 지내세요?\"})\n",
    "memory.save_context({\"input\": \"별일 없어요, 그냥 쉬고 있어요\"},\n",
    "                    {\"output\": \"좋아요\"})\n",
    "memory.save_context({\"input\": \"오늘 일정은 어떻게 되나요?\"}, \n",
    "                    {\"output\": f\"{schedule}\"})"
   ]
  },
  {
   "cell_type": "code",
   "execution_count": 198,
   "id": "8f9dd09d-5e4d-442b-8737-0ed3ee2e5e1b",
   "metadata": {},
   "outputs": [
    {
     "data": {
      "text/plain": [
       "{'history': 'System: The human greets the AI in Korean and asks about the schedule. The AI responds with a detailed schedule including a meeting with the product team, LangChain project work, and a lunch meeting with a customer interested in AI technology. The AI emphasizes the importance of bringing a laptop to showcase the latest LLM demo during the lunch meeting.'}"
      ]
     },
     "execution_count": 198,
     "metadata": {},
     "output_type": "execute_result"
    }
   ],
   "source": [
    "memory.load_memory_variables({})"
   ]
  },
  {
   "cell_type": "code",
   "execution_count": 199,
   "id": "4c0cf82b-7586-4426-b865-e1a563c4bcf5",
   "metadata": {},
   "outputs": [],
   "source": [
    "conversation = ConversationChain(\n",
    "    llm=llm, \n",
    "    memory = memory,\n",
    "    verbose=True\n",
    ")"
   ]
  },
  {
   "cell_type": "code",
   "execution_count": 200,
   "id": "85a2e8aa-e87d-44fe-ac17-e7c60f1fca91",
   "metadata": {},
   "outputs": [
    {
     "name": "stdout",
     "output_type": "stream",
     "text": [
      "\n",
      "\n",
      "\u001b[1m> Entering new ConversationChain chain...\u001b[0m\n",
      "Prompt after formatting:\n",
      "\u001b[32;1m\u001b[1;3mThe following is a friendly conversation between a human and an AI. The AI is talkative and provides lots of specific details from its context. If the AI does not know the answer to a question, it truthfully says it does not know.\n",
      "\n",
      "Current conversation:\n",
      "System: The human greets the AI in Korean and asks about the schedule. The AI responds with a detailed schedule including a meeting with the product team, LangChain project work, and a lunch meeting with a customer interested in AI technology. The AI emphasizes the importance of bringing a laptop to showcase the latest LLM demo during the lunch meeting.\n",
      "Human: 어떤 데모를 보여주면 좋을까요?\n",
      "AI:\u001b[0m\n",
      "\n",
      "\u001b[1m> Finished chain.\u001b[0m\n"
     ]
    },
    {
     "data": {
      "text/plain": [
       "' 최신 LLM 데모를 보여주는 것이 좋을 것 같아요. 이번 데모는 언어 모델링 및 번역 기술을 중점으로 한 것이에요. 이전 데모와 비교해서 더욱 정교하고 빠른 성능을 보여줄 거에요. 이번 데모를 통해 우리의 기술력을 고객에게 자랑할 수 있을 거예요.'"
      ]
     },
     "execution_count": 200,
     "metadata": {},
     "output_type": "execute_result"
    }
   ],
   "source": [
    "conversation.predict(input=\"어떤 데모를 보여주면 좋을까요?\")"
   ]
  },
  {
   "cell_type": "code",
   "execution_count": 201,
   "id": "d32a8254-98d2-4906-aa1b-be44a7e2dbb7",
   "metadata": {},
   "outputs": [
    {
     "data": {
      "text/plain": [
       "{'history': 'System: The human greets the AI in Korean and asks about the schedule. The AI responds with a detailed schedule including a meeting with the product team, LangChain project work, and a lunch meeting with a customer interested in AI technology. The AI emphasizes the importance of bringing a laptop to showcase the latest LLM demo during the lunch meeting. The human asks what demo would be best to showcase, and the AI suggests showcasing the latest LLM demo focusing on language modeling and translation technology. The AI mentions that this demo is more advanced and faster compared to previous ones, and it will be a great opportunity to showcase their technological capabilities to the customer.'}"
      ]
     },
     "execution_count": 201,
     "metadata": {},
     "output_type": "execute_result"
    }
   ],
   "source": [
    "memory.load_memory_variables({})"
   ]
  },
  {
   "cell_type": "markdown",
   "id": "e2bdd4cf-080c-4f7a-8fbe-d2c7185e1d80",
   "metadata": {},
   "source": [
    "# Chain\n",
    "\n",
    "#### 소개\n",
    "이번 강의에서는 Harrison이 LangChain의 가장 중요한 구성 요소인 체인에 대해 가르쳐 드립니다. 체인은 보통 대형 언어 모델(LLM)과 프롬프트를 결합하여 사용합니다. 이러한 구성 요소를 여러 개 결합하여 텍스트나 다른 데이터에 대한 일련의 작업을 수행할 수 있습니다.\n",
    "\n",
    "#### 기본 설정\n",
    "환경 변수를 로드하고 사용할 데이터를 로드합니다. 이번 강의에서는 pandas DataFrame을 로드할 것입니다. pandas DataFrame은 다양한 데이터 요소를 포함하는 데이터 구조입니다. 여기서는 데이터를 로드하여 나중에 체인을 통해 사용할 것입니다. 데이터에는 제품 열과 리뷰 열이 있습니다."
   ]
  },
  {
   "cell_type": "code",
   "execution_count": 208,
   "id": "41b28dc9-7844-48ba-a23d-89fa778f4cb3",
   "metadata": {},
   "outputs": [],
   "source": [
    "from langchain.llms import OpenAI\n",
    "from langchain.chains import LLMChain\n",
    "from langchain.prompts import PromptTemplate"
   ]
  },
  {
   "cell_type": "markdown",
   "id": "c4121874-0262-4ac5-9da9-078d82e62dcb",
   "metadata": {},
   "source": [
    "LLMChain\n",
    "- LLMChain은 가장 기본적인 체인으로, 대형 언어 모델과 프롬프트를 결합하여 사용합니다.\n",
    "- 먼저, OpenAI 모델(LLM), 채팅 프롬프트 템플릿, LLM 체인을 임포트합니다.\n",
    "- 그런 다음, 사용할 언어 모델을 초기화하고, 높은 온도로 설정하여 재미있는 설명을 생성합니다.\n",
    "- 프롬프트는 제품이라는 변수를 입력으로 받아, 해당 제품을 만드는 회사의 최상의 이름을 생성하도록 LLM에 요청합니다.\n",
    "- 마지막으로, 이 두 가지를 결합하여 체인을 만듭니다."
   ]
  },
  {
   "cell_type": "code",
   "execution_count": 209,
   "id": "07b0da7f-4869-4c69-9554-9b9e080d6655",
   "metadata": {},
   "outputs": [],
   "source": [
    "llm = OpenAI(temperature=0.7)\n",
    "prompt = PromptTemplate(\n",
    "    input_variables=[\"product\"],\n",
    "    template=\"What is a good name for a company that makes {product}?\"\n",
    ")"
   ]
  },
  {
   "cell_type": "code",
   "execution_count": 210,
   "id": "d15a16e7-c72a-4a1d-8b36-abc2a49d2a7b",
   "metadata": {},
   "outputs": [],
   "source": [
    "chain = LLMChain(llm=llm, prompt=prompt)"
   ]
  },
  {
   "cell_type": "code",
   "execution_count": 212,
   "id": "eddcae1c-7372-442f-bf73-8eeace51c09b",
   "metadata": {},
   "outputs": [
    {
     "name": "stdout",
     "output_type": "stream",
     "text": [
      "\n",
      "\n",
      "\"Royal Rest Linens\" or \"Queen's Comfort Co.\"\n"
     ]
    }
   ],
   "source": [
    "product = \"Queen Size Sheet Set\"\n",
    "print(chain.run(product))"
   ]
  },
  {
   "cell_type": "markdown",
   "id": "21ccece5-3a7f-4415-80d4-2940088cd9ce",
   "metadata": {},
   "source": [
    "## SimpleSequentialChain\n",
    "- SimpleSequentialChain은 여러 체인을 순차적으로 실행합니다.\n",
    "- 단순한 순차 체인을 사용하면 한 번에 하나의 입력과 출력을 기대하는 하위 체인을 잘 처리할 수 있습니다.\n",
    "- 예를 들어, 첫 번째 체인은 제품을 입력으로 받아 회사 이름을 생성하고, 두 번째 체인은 회사 이름을 입력으로 받아 20단어로 회사 설명을 생성합니다.\n",
    "\n",
    "<img src=\"./images/fig_03_01.png\" width=600>"
   ]
  },
  {
   "cell_type": "code",
   "execution_count": 213,
   "id": "9e18e202-8576-417c-998b-77c1870925ba",
   "metadata": {},
   "outputs": [
    {
     "name": "stdout",
     "output_type": "stream",
     "text": [
      "\n",
      "\n",
      "\"Sleep like royalty with Royal Rest Bedding Co.\" \n"
     ]
    }
   ],
   "source": [
    "from langchain.chains import SimpleSequentialChain\n",
    "\n",
    "first_chain = LLMChain(llm=llm, prompt=prompt)\n",
    "second_prompt = PromptTemplate(\n",
    "    input_variables=[\"company_name\"],\n",
    "    template=\"Write a catchphrase for the company named {company_name}\"\n",
    ")\n",
    "second_chain = LLMChain(llm=llm, prompt=second_prompt)\n",
    "\n",
    "overall_chain = SimpleSequentialChain(chains=[first_chain, second_chain])\n",
    "print(overall_chain.run(\"queen-size-sheet-set\"))"
   ]
  },
  {
   "cell_type": "markdown",
   "id": "1f6ad5fa-7de5-40fc-a7eb-13b2612a4304",
   "metadata": {},
   "source": [
    "\n",
    "## SequentialChain\n",
    "- SequentialChain은 여러 입력과 출력을 처리할 수 있습니다. 예\n",
    "- 를 들어, 리뷰를 영어로 번역하고, 한 문장으로 요약한 후, 원래 언어를 감지하고, 요약과 언어 정보를 기반으로 후속 응답을 생성합니다."
   ]
  },
  {
   "cell_type": "code",
   "execution_count": 219,
   "id": "fc7051bf-912f-49c7-9c87-03e7eaee4b6a",
   "metadata": {},
   "outputs": [
    {
     "name": "stdout",
     "output_type": "stream",
     "text": [
      "{'review': 'Cette feuille de taille reine est magnifique.', 'korean_review': '이 퀸 사이즈 시트는 아름답습니다.', 'summary': '이 퀸 사이즈 시트는 매우 아름답습니다.', 'follow_up': 'Merci pour votre commentaire positif sur notre drap queen size, nous sommes ravis que vous le trouviez si beau.', 'korean_follow_up': '우리의 퀸사이즈 시트에 대해 긍정적인 리뷰를 남겨 주셔서 감사합니다. 당신이 그것을 아름다운 것으로 생각해 주셔서 우리도 기쁩니다.'}\n"
     ]
    }
   ],
   "source": [
    "from langchain.chains import SequentialChain\n",
    "from langchain_openai import ChatOpenAI\n",
    "from langchain.prompts import PromptTemplate\n",
    "from langchain.chains import LLMChain\n",
    "\n",
    "llm = ChatOpenAI(temperature=0.9)\n",
    "\n",
    "# 체인들 생성\n",
    "translation_chain = LLMChain(\n",
    "    llm=llm,\n",
    "    prompt=PromptTemplate(\n",
    "        input_variables=[\"review\"],\n",
    "        template=\"다음 리뷰를 한국어로 번역하세요: {review}\"\n",
    "    ),\n",
    "    output_key=\"korean_review\"  # 출력 키 설정\n",
    ")\n",
    "\n",
    "summary_chain = LLMChain(\n",
    "    llm=llm,\n",
    "    prompt=PromptTemplate(\n",
    "        input_variables=[\"korean_review\"],\n",
    "        template=\"다음 리뷰를 한 문장으로 요약하세요: {korean_review}\"\n",
    "    ),\n",
    "    output_key=\"summary\"  # 출력 키 설정\n",
    ")\n",
    "\n",
    "language_detection_chain = LLMChain(\n",
    "    llm=llm,\n",
    "    prompt=PromptTemplate(\n",
    "        input_variables=[\"review\"],\n",
    "        template=\"다음 리뷰의 언어를 감지하세요: {review}\"\n",
    "    ),\n",
    "    output_key=\"language\"  # 출력 키 설정\n",
    ")\n",
    "\n",
    "follow_up_chain = LLMChain(\n",
    "    llm=llm,\n",
    "    prompt=PromptTemplate(\n",
    "        input_variables=[\"summary\", \"language\"],\n",
    "        template=\"요약에 대해 {language}로 후속 응답을 작성하세요: {summary}\"\n",
    "    ),\n",
    "    output_key=\"follow_up\"  # 출력 키 설정\n",
    ")\n",
    "\n",
    "translation_chain2 = LLMChain(\n",
    "    llm=llm,\n",
    "    prompt=PromptTemplate(\n",
    "        input_variables=[\"follow_up\"],\n",
    "        template=\"다음 리뷰를 한국어로 번역하세요: {follow_up}\"\n",
    "    ),\n",
    "    output_key=\"korean_follow_up\"  # 출력 키 설정\n",
    ")\n",
    "\n",
    "\n",
    "# 순차 체인 생성\n",
    "overall_chain = SequentialChain(\n",
    "    chains=[\n",
    "        translation_chain,\n",
    "        summary_chain,\n",
    "        language_detection_chain,\n",
    "        follow_up_chain,\n",
    "        translation_chain2\n",
    "    ],\n",
    "    input_variables=[\"review\"],\n",
    "    output_variables=[\"korean_review\", \"summary\", \"follow_up\", \"korean_follow_up\"]\n",
    ")\n",
    "\n",
    "# 실행\n",
    "review = \"Cette feuille de taille reine est magnifique.\"\n",
    "print(overall_chain({\"review\": review}))"
   ]
  },
  {
   "cell_type": "markdown",
   "id": "142c4095-b1d6-4b1d-9ca1-059ba6b2d8e0",
   "metadata": {},
   "source": [
    "## Router Chain\n",
    "- 라우팅 체인은 입력을 특정 체인으로 라우팅하는 데 사용됩니다.\n",
    "- 예를 들어, 여러 하위 체인이 각각 특정 유형의 입력에 특화되어 있다면, 라우터 체인은 먼저 어떤 하위 체인으로 라우팅할지 결정한 다음 해당 체인으로 입력을 전달합니다."
   ]
  },
  {
   "cell_type": "code",
   "execution_count": 221,
   "id": "c6855594-3c10-41c9-9192-a7437a2c8cc0",
   "metadata": {},
   "outputs": [],
   "source": [
    "physics_template = \"\"\"당신은 매우 똑똑한 물리학 교수입니다. \\\n",
    "당신은 물리에 대한 질문에 간결하고 이해하기 쉬운 방식으로 답변하는 데 능숙합니다. \\\n",
    "질문의 답을 모를 때는 모른다고 인정합니다.\n",
    "\n",
    "여기 질문이 있습니다:\n",
    "{input}\"\"\"\n",
    "\n",
    "math_template = \"\"\"당신은 매우 훌륭한 수학자입니다. \\\n",
    "당신은 수학 질문에 답하는 데 능숙합니다. \\\n",
    "당신은 어려운 문제를 구성 요소로 나누고, \\\n",
    "구성 요소를 해결한 다음 이를 결합하여 \\\n",
    "더 넓은 질문에 답할 수 있기 때문에 매우 뛰어납니다.\n",
    "\n",
    "여기 질문이 있습니다:\n",
    "{input}\"\"\"\n",
    "\n",
    "history_template = \"\"\"당신은 매우 훌륭한 역사학자입니다. \\\n",
    "당신은 다양한 역사적 시기의 사람들, 사건들 및 맥락에 대한 탁월한 지식과 이해력을 가지고 있습니다. \\\n",
    "당신은 과거를 생각하고, 반성하고, 토론하고, 논의하고, 평가할 수 있는 능력을 가지고 있습니다. \\\n",
    "당신은 역사적 증거를 존중하고, 이를 사용하여 설명과 판단을 지원할 수 있는 능력을 가지고 있습니다.\n",
    "\n",
    "여기 질문이 있습니다:\n",
    "{input}\"\"\"\n",
    "\n",
    "computerscience_template = \"\"\"당신은 성공적인 컴퓨터 과학자입니다.\\\n",
    "당신은 창의성, 협업, 미래 지향적 사고, 자신감, 강력한 문제 해결 능력,\\\n",
    "이론과 알고리즘에 대한 이해, 그리고 뛰어난 의사 소통 능력을 가지고 있습니다.\\\n",
    "당신은 코딩 질문에 답하는 데 매우 능숙합니다.\\\n",
    "당신은 문제를 기계가 쉽게 해석할 수 있는 명령형 단계로 설명하고,\\\n",
    "시간 복잡도와 공간 복잡도 사이의 균형을 잘 맞춘 솔루션을 선택하는 방법을 알기 때문에 매우 뛰어납니다.\n",
    "\n",
    "여기 질문이 있습니다:\n",
    "{input}\"\"\""
   ]
  },
  {
   "cell_type": "code",
   "execution_count": 222,
   "id": "c3c13e73-4e68-48e3-9018-7a3f790cab7e",
   "metadata": {},
   "outputs": [],
   "source": [
    "prompt_infos = [\n",
    "    {\n",
    "        \"name\": \"physics\", \n",
    "        \"description\": \"물리학 질문에 답하는 데 좋습니다\", \n",
    "        \"prompt_template\": physics_template\n",
    "    },\n",
    "    {\n",
    "        \"name\": \"math\", \n",
    "        \"description\": \"수학 질문에 답하는 데 좋습니다\", \n",
    "        \"prompt_template\": math_template\n",
    "    },\n",
    "    {\n",
    "        \"name\": \"History\", \n",
    "        \"description\": \"역사 질문에 답하는 데 좋습니다\", \n",
    "        \"prompt_template\": history_template\n",
    "    },\n",
    "    {\n",
    "        \"name\": \"computer science\", \n",
    "        \"description\": \"컴퓨터 과학 질문에 답하는 데 좋습니다\", \n",
    "        \"prompt_template\": computerscience_template\n",
    "    }\n",
    "]"
   ]
  },
  {
   "cell_type": "code",
   "execution_count": 223,
   "id": "0b36db1e-9cee-4e6e-98a5-20f184e83c0c",
   "metadata": {},
   "outputs": [],
   "source": [
    "from langchain.chains.router import MultiPromptChain\n",
    "from langchain.chains.router.llm_router import LLMRouterChain,RouterOutputParser\n",
    "from langchain.prompts import PromptTemplate"
   ]
  },
  {
   "cell_type": "code",
   "execution_count": 224,
   "id": "eed0d538-427a-46bd-939e-e9ed0f6010bf",
   "metadata": {},
   "outputs": [],
   "source": [
    "llm = ChatOpenAI(temperature=0)"
   ]
  },
  {
   "cell_type": "code",
   "execution_count": 225,
   "id": "45eb68b7-85fd-4ec8-aa70-69fe203229d9",
   "metadata": {},
   "outputs": [],
   "source": [
    "destination_chains = {}\n",
    "for p_info in prompt_infos:\n",
    "    name = p_info[\"name\"]\n",
    "    prompt_template = p_info[\"prompt_template\"]\n",
    "    prompt = ChatPromptTemplate.from_template(template=prompt_template)\n",
    "    chain = LLMChain(llm=llm, prompt=prompt)\n",
    "    destination_chains[name] = chain  \n",
    "    \n",
    "destinations = [f\"{p['name']}: {p['description']}\" for p in prompt_infos]\n",
    "destinations_str = \"\\n\".join(destinations)"
   ]
  },
  {
   "cell_type": "code",
   "execution_count": 226,
   "id": "b46006cc-9102-408c-bec0-c693a5b27657",
   "metadata": {},
   "outputs": [
    {
     "data": {
      "text/plain": [
       "{'physics': LLMChain(prompt=ChatPromptTemplate(input_variables=['input'], messages=[HumanMessagePromptTemplate(prompt=PromptTemplate(input_variables=['input'], template='당신은 매우 똑똑한 물리학 교수입니다. 당신은 물리에 대한 질문에 간결하고 이해하기 쉬운 방식으로 답변하는 데 능숙합니다. 질문의 답을 모를 때는 모른다고 인정합니다.\\n\\n여기 질문이 있습니다:\\n{input}'))]), llm=ChatOpenAI(client=<openai.resources.chat.completions.Completions object at 0x7cb3c9d8e140>, async_client=<openai.resources.chat.completions.AsyncCompletions object at 0x7cb3c9e20f10>, temperature=0.0, openai_api_key=SecretStr('**********'), openai_proxy='')),\n",
       " 'math': LLMChain(prompt=ChatPromptTemplate(input_variables=['input'], messages=[HumanMessagePromptTemplate(prompt=PromptTemplate(input_variables=['input'], template='당신은 매우 훌륭한 수학자입니다. 당신은 수학 질문에 답하는 데 능숙합니다. 당신은 어려운 문제를 구성 요소로 나누고, 구성 요소를 해결한 다음 이를 결합하여 더 넓은 질문에 답할 수 있기 때문에 매우 뛰어납니다.\\n\\n여기 질문이 있습니다:\\n{input}'))]), llm=ChatOpenAI(client=<openai.resources.chat.completions.Completions object at 0x7cb3c9d8e140>, async_client=<openai.resources.chat.completions.AsyncCompletions object at 0x7cb3c9e20f10>, temperature=0.0, openai_api_key=SecretStr('**********'), openai_proxy='')),\n",
       " 'History': LLMChain(prompt=ChatPromptTemplate(input_variables=['input'], messages=[HumanMessagePromptTemplate(prompt=PromptTemplate(input_variables=['input'], template='당신은 매우 훌륭한 역사학자입니다. 당신은 다양한 역사적 시기의 사람들, 사건들 및 맥락에 대한 탁월한 지식과 이해력을 가지고 있습니다. 당신은 과거를 생각하고, 반성하고, 토론하고, 논의하고, 평가할 수 있는 능력을 가지고 있습니다. 당신은 역사적 증거를 존중하고, 이를 사용하여 설명과 판단을 지원할 수 있는 능력을 가지고 있습니다.\\n\\n여기 질문이 있습니다:\\n{input}'))]), llm=ChatOpenAI(client=<openai.resources.chat.completions.Completions object at 0x7cb3c9d8e140>, async_client=<openai.resources.chat.completions.AsyncCompletions object at 0x7cb3c9e20f10>, temperature=0.0, openai_api_key=SecretStr('**********'), openai_proxy='')),\n",
       " 'computer science': LLMChain(prompt=ChatPromptTemplate(input_variables=['input'], messages=[HumanMessagePromptTemplate(prompt=PromptTemplate(input_variables=['input'], template='당신은 성공적인 컴퓨터 과학자입니다.당신은 창의성, 협업, 미래 지향적 사고, 자신감, 강력한 문제 해결 능력,이론과 알고리즘에 대한 이해, 그리고 뛰어난 의사 소통 능력을 가지고 있습니다.당신은 코딩 질문에 답하는 데 매우 능숙합니다.당신은 문제를 기계가 쉽게 해석할 수 있는 명령형 단계로 설명하고,시간 복잡도와 공간 복잡도 사이의 균형을 잘 맞춘 솔루션을 선택하는 방법을 알기 때문에 매우 뛰어납니다.\\n\\n여기 질문이 있습니다:\\n{input}'))]), llm=ChatOpenAI(client=<openai.resources.chat.completions.Completions object at 0x7cb3c9d8e140>, async_client=<openai.resources.chat.completions.AsyncCompletions object at 0x7cb3c9e20f10>, temperature=0.0, openai_api_key=SecretStr('**********'), openai_proxy=''))}"
      ]
     },
     "execution_count": 226,
     "metadata": {},
     "output_type": "execute_result"
    }
   ],
   "source": [
    "destination_chains"
   ]
  },
  {
   "cell_type": "code",
   "execution_count": 227,
   "id": "65e7febc-e33a-4518-a31c-58ac0bacedd4",
   "metadata": {},
   "outputs": [
    {
     "data": {
      "text/plain": [
       "'physics: 물리학 질문에 답하는 데 좋습니다\\nmath: 수학 질문에 답하는 데 좋습니다\\nHistory: 역사 질문에 답하는 데 좋습니다\\ncomputer science: 컴퓨터 과학 질문에 답하는 데 좋습니다'"
      ]
     },
     "execution_count": 227,
     "metadata": {},
     "output_type": "execute_result"
    }
   ],
   "source": [
    "destinations_str"
   ]
  },
  {
   "cell_type": "code",
   "execution_count": 228,
   "id": "20f5b735-eff1-40d7-b0e9-05642324da09",
   "metadata": {},
   "outputs": [],
   "source": [
    "default_prompt = ChatPromptTemplate.from_template(\"{input}\")\n",
    "default_chain = LLMChain(llm=llm, prompt=default_prompt)"
   ]
  },
  {
   "cell_type": "code",
   "execution_count": 230,
   "id": "cd4d085d-40fb-425f-a80f-694c8889ff03",
   "metadata": {},
   "outputs": [],
   "source": [
    "MULTI_PROMPT_ROUTER_TEMPLATE = \"\"\"주어진 원시 텍스트 입력에 대해 \\\n",
    "언어 모델에 가장 적합한 모델 프롬프트를 선택하세요. \\\n",
    "사용 가능한 프롬프트의 이름과 프롬프트가 가장 적합한 설명이 제공됩니다. \\\n",
    "입력을 수정하여 언어 모델에서 더 나은 응답을 이끌어낼 수 있다고 생각되면 원래 입력을 수정할 수도 있습니다.\n",
    "\n",
    "<< 포맷팅 >>\n",
    "JSON 객체를 포함한 마크다운 코드 스니펫을 반환합니다:\n",
    "```json\n",
    "{{{{\n",
    "    \"destination\": string \\ 사용할 프롬프트의 이름 또는 \"DEFAULT\"\n",
    "    \"next_inputs\": string \\ 원래 입력의 잠재적으로 수정된 버전\n",
    "}}}}\n",
    "```\n",
    "\n",
    "기억하세요: \"destination\"은 아래에 지정된 후보 프롬프트 이름 중 하나여야 하며, 입력이 어떤 후보 프롬프트에도 적합하지 않은 경우 \"DEFAULT\"일 수 있습니다.\n",
    "기억하세요: 수정이 필요 없다고 생각되면 \"next_inputs\"는 원래 입력일 수 있습니다.\n",
    "\n",
    "<< 후보 프롬프트 >>\n",
    "{destinations}\n",
    "\n",
    "<< 입력 >>\n",
    "{{input}}\n",
    "\n",
    "<< 출력 (```json을 포함해야 함을 기억하세요) >>\"\"\""
   ]
  },
  {
   "cell_type": "code",
   "execution_count": 231,
   "id": "04421698-f75f-4f25-9ed8-8fdbd8c645c4",
   "metadata": {},
   "outputs": [],
   "source": [
    "router_template = MULTI_PROMPT_ROUTER_TEMPLATE.format(\n",
    "    destinations=destinations_str\n",
    ")\n",
    "router_prompt = PromptTemplate(\n",
    "    template=router_template,\n",
    "    input_variables=[\"input\"],\n",
    "    output_parser=RouterOutputParser(),\n",
    ")\n",
    "\n",
    "router_chain = LLMRouterChain.from_llm(llm, router_prompt)"
   ]
  },
  {
   "cell_type": "code",
   "execution_count": 232,
   "id": "9c303a36-2f86-4516-aad4-b09f02453e38",
   "metadata": {},
   "outputs": [],
   "source": [
    "chain = MultiPromptChain(router_chain=router_chain, \n",
    "                         destination_chains=destination_chains, \n",
    "                         default_chain=default_chain, verbose=True\n",
    "                        )"
   ]
  },
  {
   "cell_type": "code",
   "execution_count": 236,
   "id": "eb6f531e-270a-4556-b287-f909b3076188",
   "metadata": {},
   "outputs": [
    {
     "name": "stdout",
     "output_type": "stream",
     "text": [
      "\n",
      "\n",
      "\u001b[1m> Entering new MultiPromptChain chain...\u001b[0m\n",
      "History: {'input': 'What was the role of the aristocracy in ancient civilizations?'}\n",
      "\u001b[1m> Finished chain.\u001b[0m\n"
     ]
    },
    {
     "data": {
      "text/plain": [
       "'The role of the aristocracy in ancient civilizations varied depending on the specific society, but in general, the aristocracy played a significant role in governing, maintaining social order, and preserving cultural traditions. \\n\\nIn many ancient civilizations, such as Ancient Egypt, Mesopotamia, Greece, and Rome, the aristocracy consisted of a small, privileged class of individuals who held political power, land ownership, and wealth. They often served as advisors to the rulers, held positions of authority in government and military, and were responsible for overseeing the administration of justice and the collection of taxes.\\n\\nThe aristocracy also played a key role in religious ceremonies and rituals, as they were often seen as intermediaries between the gods and the common people. They were responsible for maintaining temples, performing sacrifices, and ensuring the spiritual well-being of the community.\\n\\nAdditionally, the aristocracy in ancient civilizations often controlled access to education, culture, and the arts. They were patrons of the arts, supporting artists, writers, and philosophers, and were responsible for preserving and transmitting cultural knowledge and traditions to future generations.\\n\\nOverall, the aristocracy in ancient civilizations held significant power and influence, shaping the political, social, and cultural landscape of their societies.'"
      ]
     },
     "execution_count": 236,
     "metadata": {},
     "output_type": "execute_result"
    }
   ],
   "source": [
    "chain.run(\"성리층의 역할은?\")"
   ]
  },
  {
   "cell_type": "code",
   "execution_count": 234,
   "id": "1e46ac5e-3ed7-4bec-bcab-f35b46f925fb",
   "metadata": {},
   "outputs": [
    {
     "name": "stdout",
     "output_type": "stream",
     "text": [
      "\n",
      "\n",
      "\u001b[1m> Entering new MultiPromptChain chain...\u001b[0m\n",
      "math: {'input': 'What is the result of 2 + 2?'}\n",
      "\u001b[1m> Finished chain.\u001b[0m\n"
     ]
    },
    {
     "data": {
      "text/plain": [
       "'2 + 2의 결과는 4입니다.'"
      ]
     },
     "execution_count": 234,
     "metadata": {},
     "output_type": "execute_result"
    }
   ],
   "source": [
    "chain.run(\"2 더하기 2는?\")"
   ]
  },
  {
   "cell_type": "code",
   "execution_count": 238,
   "id": "0e08b5db-5ee1-4b0e-b1a0-7edddcb77d1c",
   "metadata": {},
   "outputs": [
    {
     "name": "stdout",
     "output_type": "stream",
     "text": [
      "\n",
      "\n",
      "\u001b[1m> Entering new MultiPromptChain chain...\u001b[0m\n",
      "History: {'input': 'Why did the Joseon Dynasty collapse?'}\n",
      "\u001b[1m> Finished chain.\u001b[0m\n"
     ]
    },
    {
     "data": {
      "text/plain": [
       "\"The Joseon Dynasty collapsed for a variety of reasons, including internal strife, external invasions, and social and economic challenges. \\n\\nOne major factor was the weakening of the central government and the rise of factionalism within the ruling class. This led to power struggles and instability within the royal court, making it difficult for the government to effectively govern the country.\\n\\nAdditionally, the Joseon Dynasty faced numerous invasions from neighboring countries, such as the Japanese invasions in the late 16th century and the Manchu invasions in the 17th century. These invasions weakened the dynasty's military and economy, further contributing to its downfall.\\n\\nFurthermore, the Joseon Dynasty struggled with social and economic issues, such as corruption, famine, and peasant uprisings. These challenges undermined the stability of the dynasty and eroded public trust in the government.\\n\\nOverall, a combination of internal conflicts, external threats, and social and economic problems ultimately led to the collapse of the Joseon Dynasty in the late 19th century.\""
      ]
     },
     "execution_count": 238,
     "metadata": {},
     "output_type": "execute_result"
    }
   ],
   "source": [
    "chain.run(\"조선은 왜 멸망 하였는가?\")"
   ]
  },
  {
   "cell_type": "markdown",
   "id": "bb1726e2-688d-47f8-92b3-5ae12289f6f7",
   "metadata": {},
   "source": [
    "# Q&A\n",
    "\n",
    "## 시스템 개요\n",
    "\n",
    "- 사람들이 LLM을 사용하여 구축하는 가장 일반적이고 복잡한 응용 프로그램 중 하나는 문서 위에서 또는 문서에 대해 질문에 답할 수 있는 시스템입니다.\n",
    "- 예를 들어 PDF 파일이나 웹페이지 또는 회사의 내부 문서 컬렉션에서 추출한 텍스트를 제공받으면, LLM을 사용하여 해당 문서의 내용에 대한 질문에 답변할 수 있을까요?\n",
    "- 이는 사용자가 더 깊이 이해하고 필요한 정보에 접근하는 데 도움을 줄 수 있습니다.\n",
    "- 이는 매우 강력한 기능입니다. 왜냐하면 언어 모델을 원래 훈련되지 않은 데이터와 결합함으로써 훨씬 더 유연하고 사용 사례에 맞게 조정될 수 있기 때문입니다.\n",
    "- 또한 언어 모델, 프롬프트, 출력 파서 이상으로 나아가 LangChain의 중요한 구성 요소 중 일부인 임베딩 모델과 벡터 스토어를 도입하기 시작할 것입니다.\n",
    "\n",
    "<img src='./images/fig_04_01.png' width=600>\n",
    "\n",
    "## 임베딩과 벡터 스토어\n",
    "\n",
    "### 임베딩\n",
    "- 임베딩은 텍스트 조각에 대한 수치 표현을 생성합니다.\n",
    "- 이 수치 표현은 해당 텍스트 조각의 의미론적 의미를 캡처합니다.\n",
    "- 유사한 내용의 텍스트 조각은 유사한 벡터를 가집니다.\n",
    "- 이는 벡터 공간에서 텍스트 조각을 비교할 수 있게 해줍니다.\n",
    "- 예를 들어, 애완동물에 관한 두 문장은 유사한 벡터를 가지지만, 자동차에 관한 문장은 다릅니다.\n",
    "\n",
    "<img src='./images/fig_04_02.png' width=600>\n",
    "\n",
    "\n",
    "### 벡터 데이터베이스\n",
    "- 벡터 데이터베이스는 이러한 벡터 표현을 저장하는 방법입니다.\n",
    "- 큰 문서를 작은 조각으로 나눈 후, 각 조각에 대한 임베딩을 생성하고 이를 벡터 데이터베이스에 저장합니다.\n",
    "- 이는 질문에 답하기 위해 관련 텍스트 조각을 선택하는 데 사용됩니다.\n",
    "\n",
    "<img src='./images/fig_04_03.png' width=600>\n",
    "\n"
   ]
  },
  {
   "cell_type": "code",
   "execution_count": 20,
   "id": "677bfa61-5e0b-4416-bc48-e08e9024313a",
   "metadata": {
    "scrolled": true
   },
   "outputs": [],
   "source": [
    "# !pip install langchain[docarray]\n",
    "# !pip install --upgrade docarray\n",
    "# !pip install \"pydantic<2\"\n",
    "# !pip install faiss-gpu"
   ]
  },
  {
   "cell_type": "code",
   "execution_count": 33,
   "id": "ac103b13-2ea9-4852-a16f-e1e32d734f52",
   "metadata": {},
   "outputs": [],
   "source": [
    "### 환경 설정 및 라이브러리 로드\n",
    "import os\n",
    "from dotenv import load_dotenv, find_dotenv\n",
    "_ = load_dotenv(find_dotenv()) # read local .env file\n",
    "\n",
    "from langchain.chains import RetrievalQA\n",
    "from langchain_openai import ChatOpenAI\n",
    "from langchain.document_loaders import CSVLoader\n",
    "from langchain.vectorstores import DocArrayInMemorySearch\n",
    "from IPython.display import display, Markdown\n",
    "from langchain.llms import OpenAI\n",
    "from langchain.indexes import VectorstoreIndexCreator\n",
    "from langchain.embeddings import OpenAIEmbeddings\n",
    "from langchain.vectorstores import FAISS"
   ]
  },
  {
   "cell_type": "code",
   "execution_count": 68,
   "id": "b2686e2a-eda7-4cee-bacd-52d36b954f2e",
   "metadata": {},
   "outputs": [],
   "source": [
    "### CSV 로더 설정\n",
    "file = 'OutdoorClothingCatalog_1000.csv'\n",
    "loader = CSVLoader(file_path=file)"
   ]
  },
  {
   "cell_type": "code",
   "execution_count": 69,
   "id": "732afb1b-6da7-4aea-a5c3-0517812f1536",
   "metadata": {},
   "outputs": [
    {
     "name": "stdout",
     "output_type": "stream",
     "text": [
      "<class 'pandas.core.frame.DataFrame'>\n",
      "RangeIndex: 999 entries, 0 to 998\n",
      "Data columns (total 2 columns):\n",
      " #   Column       Non-Null Count  Dtype \n",
      "---  ------       --------------  ----- \n",
      " 0   name         999 non-null    object\n",
      " 1   description  999 non-null    object\n",
      "dtypes: object(2)\n",
      "memory usage: 15.7+ KB\n"
     ]
    }
   ],
   "source": [
    "import pandas as pd\n",
    "\n",
    "df = pd.read_csv(file)\n",
    "df.info()"
   ]
  },
  {
   "cell_type": "code",
   "execution_count": 70,
   "id": "3cb46a76-fa51-466c-be14-c5b577d49904",
   "metadata": {},
   "outputs": [
    {
     "data": {
      "text/html": [
       "<div>\n",
       "<style scoped>\n",
       "    .dataframe tbody tr th:only-of-type {\n",
       "        vertical-align: middle;\n",
       "    }\n",
       "\n",
       "    .dataframe tbody tr th {\n",
       "        vertical-align: top;\n",
       "    }\n",
       "\n",
       "    .dataframe thead th {\n",
       "        text-align: right;\n",
       "    }\n",
       "</style>\n",
       "<table border=\"1\" class=\"dataframe\">\n",
       "  <thead>\n",
       "    <tr style=\"text-align: right;\">\n",
       "      <th></th>\n",
       "      <th>name</th>\n",
       "      <th>description</th>\n",
       "    </tr>\n",
       "  </thead>\n",
       "  <tbody>\n",
       "    <tr>\n",
       "      <th>0</th>\n",
       "      <td>Women's Campside Oxfords</td>\n",
       "      <td>This ultracomfortable lace-to-toe Oxford boast...</td>\n",
       "    </tr>\n",
       "    <tr>\n",
       "      <th>1</th>\n",
       "      <td>Recycled Waterhog Dog Mat, Chevron Weave</td>\n",
       "      <td>Protect your floors from spills and splashing ...</td>\n",
       "    </tr>\n",
       "    <tr>\n",
       "      <th>2</th>\n",
       "      <td>Infant and Toddler Girls' Coastal Chill Swimsu...</td>\n",
       "      <td>She'll love the bright colors, ruffles and exc...</td>\n",
       "    </tr>\n",
       "    <tr>\n",
       "      <th>3</th>\n",
       "      <td>Refresh Swimwear, V-Neck Tankini Contrasts</td>\n",
       "      <td>Whether you're going for a swim or heading out...</td>\n",
       "    </tr>\n",
       "    <tr>\n",
       "      <th>4</th>\n",
       "      <td>EcoFlex 3L Storm Pants</td>\n",
       "      <td>Our new TEK O2 technology makes our four-seaso...</td>\n",
       "    </tr>\n",
       "  </tbody>\n",
       "</table>\n",
       "</div>"
      ],
      "text/plain": [
       "                                                name  \\\n",
       "0                           Women's Campside Oxfords   \n",
       "1           Recycled Waterhog Dog Mat, Chevron Weave   \n",
       "2  Infant and Toddler Girls' Coastal Chill Swimsu...   \n",
       "3         Refresh Swimwear, V-Neck Tankini Contrasts   \n",
       "4                             EcoFlex 3L Storm Pants   \n",
       "\n",
       "                                         description  \n",
       "0  This ultracomfortable lace-to-toe Oxford boast...  \n",
       "1  Protect your floors from spills and splashing ...  \n",
       "2  She'll love the bright colors, ruffles and exc...  \n",
       "3  Whether you're going for a swim or heading out...  \n",
       "4  Our new TEK O2 technology makes our four-seaso...  "
      ]
     },
     "execution_count": 70,
     "metadata": {},
     "output_type": "execute_result"
    }
   ],
   "source": [
    "df.head()"
   ]
  },
  {
   "cell_type": "markdown",
   "id": "fb51583c-01be-46cf-a989-4635162afaf9",
   "metadata": {},
   "source": [
    "### 벡터 스토어 인덱스 생성"
   ]
  },
  {
   "cell_type": "code",
   "execution_count": 71,
   "id": "eb661349-8475-40d5-80cd-a7195e2dbe9d",
   "metadata": {},
   "outputs": [],
   "source": [
    "# 임베딩 객체 생성\n",
    "embeddings = OpenAIEmbeddings()"
   ]
  },
  {
   "cell_type": "code",
   "execution_count": 72,
   "id": "8356fa5d-8236-4645-bb23-ba46a72f7dab",
   "metadata": {},
   "outputs": [],
   "source": [
    "# 벡터 스토어 인덱스 생성\n",
    "index = VectorstoreIndexCreator(\n",
    "    vectorstore_cls=FAISS,\n",
    "    embedding=embeddings\n",
    ").from_loaders([loader])"
   ]
  },
  {
   "cell_type": "code",
   "execution_count": 73,
   "id": "142019d2-51c7-4b02-9c20-3bfddca6d2ec",
   "metadata": {},
   "outputs": [
    {
     "data": {
      "text/markdown": [
       "\n",
       "\n",
       "| Name | Description | Summary |\n",
       "| --- | --- | --- |\n",
       "| Men's Tropical Plaid Short-Sleeve Shirt | Rated UPF 50+ for superior sun protection. Made of 100% polyester, wrinkle-resistant. Front and back cape venting, two front bellows pockets. Imported. | Lightweight and breathable shirt with high sun protection. |\n",
       "| Men's Plaid Tropic Shirt, Short-Sleeve | Rated UPF 50+ for extended travel. SunSmart technology blocks 98% of UV rays. Made of 52% polyester and 48% nylon, machine washable and dryable. Front and back cape venting, two front bellows pockets. Imported. | Lightweight and quick-drying shirt with high sun protection. |\n",
       "| Sun Shield Shirt | Rated UPF 50+ for superior sun protection. Made of 78% nylon and 22% Lycra Xtra Life fiber. Handwash, line dry. Moisture-wicking and abrasion resistant. Imported. | High-performance shirt with SPF 50+ sun protection and recommended by The Skin Cancer Foundation. |\n",
       "| Men's TropicVibe Shirt, Short-Sleeve | Built-in UPF 50+ for lightweight and breathable sun protection."
      ],
      "text/plain": [
       "<IPython.core.display.Markdown object>"
      ]
     },
     "metadata": {},
     "output_type": "display_data"
    }
   ],
   "source": [
    "query =\"Please list all your shirts with sun protection in a table in markdown and summarize each one.\"\n",
    "llm_replacement_model = OpenAI(temperature=0, model='gpt-3.5-turbo-instruct')\n",
    "response = index.query(query, llm=llm_replacement_model)\n",
    "display(Markdown(response))"
   ]
  },
  {
   "cell_type": "markdown",
   "id": "6673dad9-52f3-44c1-8c27-30f3ca4a4b7f",
   "metadata": {},
   "source": [
    "### 임베딩 생성 및 벡터 데이터베이스 설정"
   ]
  },
  {
   "cell_type": "code",
   "execution_count": 74,
   "id": "0ea22778-8909-4415-8749-1588ef10db29",
   "metadata": {},
   "outputs": [],
   "source": [
    "docs = loader.load()"
   ]
  },
  {
   "cell_type": "code",
   "execution_count": 75,
   "id": "6033009d-4c3a-46b7-a47e-9f8199780b1e",
   "metadata": {},
   "outputs": [
    {
     "data": {
      "text/plain": [
       "Document(page_content=\"name: Women's Campside Oxfords\\ndescription: This ultracomfortable lace-to-toe Oxford boasts a super-soft canvas, thick cushioning, and quality construction for a broken-in feel from the first time you put them on. \\r\\n\\r\\nSize & Fit: Order regular shoe size. For half sizes not offered, order up to next whole size. \\r\\n\\r\\nSpecs: Approx. weight: 1 lb.1 oz. per pair. \\r\\n\\r\\nConstruction: Soft canvas material for a broken-in feel and look. Comfortable EVA innersole with Cleansport NXT® antimicrobial odor control. Vintage hunt, fish and camping motif on innersole. Moderate arch contour of innersole. EVA foam midsole for cushioning and support. Chain-tread-inspired molded rubber outsole with modified chain-tread pattern. Imported. \\r\\n\\r\\nQuestions? Please contact us for any inquiries.\", metadata={'source': 'OutdoorClothingCatalog_1000.csv', 'row': 0})"
      ]
     },
     "execution_count": 75,
     "metadata": {},
     "output_type": "execute_result"
    }
   ],
   "source": [
    "docs[0]"
   ]
  },
  {
   "cell_type": "code",
   "execution_count": 76,
   "id": "929969de-c9df-45da-8fb5-b330af7c4e02",
   "metadata": {},
   "outputs": [],
   "source": [
    "from langchain.embeddings import OpenAIEmbeddings\n",
    "embeddings = OpenAIEmbeddings()"
   ]
  },
  {
   "cell_type": "code",
   "execution_count": 77,
   "id": "3c78f99b-11d7-4cbb-9021-656b9fb7f1e6",
   "metadata": {},
   "outputs": [
    {
     "name": "stdout",
     "output_type": "stream",
     "text": [
      "1536\n"
     ]
    }
   ],
   "source": [
    "embed = embeddings.embed_query(\"Hi my name is Harrison\")\n",
    "print(len(embed))"
   ]
  },
  {
   "cell_type": "code",
   "execution_count": 78,
   "id": "590614b3-7319-4753-94f7-c89791a9c353",
   "metadata": {},
   "outputs": [
    {
     "name": "stdout",
     "output_type": "stream",
     "text": [
      "[-0.021935116222567923, 0.006751196839312801, -0.01825834973933523, -0.03915192509902945, -0.013979244800643545]\n"
     ]
    }
   ],
   "source": [
    "print(embed[:5])"
   ]
  },
  {
   "cell_type": "code",
   "execution_count": 79,
   "id": "42d0da17-84da-4348-8f82-12d49b4a3693",
   "metadata": {},
   "outputs": [],
   "source": [
    "db = DocArrayInMemorySearch.from_documents(docs, embeddings)"
   ]
  },
  {
   "cell_type": "markdown",
   "id": "9a020e60-b1c2-41d3-b9dc-dd4f70b01d3f",
   "metadata": {},
   "source": [
    "### 유사성 검색"
   ]
  },
  {
   "cell_type": "code",
   "execution_count": 80,
   "id": "e6b1ed12-9cf8-4574-80c9-b68da2ddf635",
   "metadata": {},
   "outputs": [
    {
     "data": {
      "text/plain": [
       "4"
      ]
     },
     "execution_count": 80,
     "metadata": {},
     "output_type": "execute_result"
    }
   ],
   "source": [
    "query = \"Please suggest a shirt with sunblocking\"\n",
    "docs = db.similarity_search(query)\n",
    "len(docs)"
   ]
  },
  {
   "cell_type": "code",
   "execution_count": 81,
   "id": "800bb226-7e26-4490-ad90-f7323fd01686",
   "metadata": {},
   "outputs": [
    {
     "data": {
      "text/plain": [
       "Document(page_content='name: Sun Shield Shirt by\\ndescription: \"Block the sun, not the fun ??our high-performance sun shirt is guaranteed to protect from harmful UV rays. \\r\\n\\r\\nSize & Fit: Slightly Fitted: Softly shapes the body. Falls at hip.\\r\\n\\r\\nFabric & Care: 78% nylon, 22% Lycra Xtra Life fiber. UPF 50+ rated ??the highest rated sun protection possible. Handwash, line dry.\\r\\n\\r\\nAdditional Features: Wicks moisture for quick-drying comfort. Fits comfortably over your favorite swimsuit. Abrasion resistant for season after season of wear. Imported.\\r\\n\\r\\nSun Protection That Won\\'t Wear Off\\r\\nOur high-performance fabric provides SPF 50+ sun protection, blocking 98% of the sun\\'s harmful rays. This fabric is recommended by The Skin Cancer Foundation as an effective UV protectant.', metadata={'source': 'OutdoorClothingCatalog_1000.csv', 'row': 255})"
      ]
     },
     "execution_count": 81,
     "metadata": {},
     "output_type": "execute_result"
    }
   ],
   "source": [
    "docs[0]"
   ]
  },
  {
   "cell_type": "markdown",
   "id": "67200825-002f-4306-ab87-8ff39078f53c",
   "metadata": {},
   "source": [
    "### 질문 응답 체인 설정"
   ]
  },
  {
   "cell_type": "code",
   "execution_count": 82,
   "id": "67333e8e-e33c-4d2b-a508-1d064ef8ac95",
   "metadata": {},
   "outputs": [],
   "source": [
    "from langchain_openai import ChatOpenAI\n",
    "\n",
    "retriever = db.as_retriever()\n",
    "llm = ChatOpenAI(temperature = 0.0)"
   ]
  },
  {
   "cell_type": "code",
   "execution_count": 83,
   "id": "526dd618-9c4d-4023-a8ef-f47339e47e3a",
   "metadata": {},
   "outputs": [
    {
     "data": {
      "text/plain": [
       "'name: Sun Shield Shirt by\\ndescription: \"Block the sun, not the fun ??our high-performance sun shirt is guaranteed to protect from harmful UV rays. \\r\\n\\r\\nSize & Fit: Slightly Fitted: Softly shapes the body. Falls at hip.\\r\\n\\r\\nFabric & Care: 78% nylon, 22% Lycra Xtra Life fiber. UPF 50+ rated ??the highest rated sun protection possible. Handwash, line dry.\\r\\n\\r\\nAdditional Features: Wicks moisture for quick-drying comfort. Fits comfortably over your favorite swimsuit. Abrasion resistant for season after season of wear. Imported.\\r\\n\\r\\nSun Protection That Won\\'t Wear Off\\r\\nOur high-performance fabric provides SPF 50+ sun protection, blocking 98% of the sun\\'s harmful rays. This fabric is recommended by The Skin Cancer Foundation as an effective UV protectant.name: Men\\'s Plaid Tropic Shirt, Short-Sleeve\\ndescription: Our Ultracomfortable sun protection is rated to UPF 50+, helping you stay cool and dry. Originally designed for fishing, this lightest hot-weather shirt offers UPF 50+ coverage and is great for extended travel. SunSmart technology blocks 98% of the sun\\'s harmful UV rays, while the high-performance fabric is wrinkle-free and quickly evaporates perspiration. Made with 52% polyester and 48% nylon, this shirt is machine washable and dryable. Additional features include front and back cape venting, two front bellows pockets and an imported design. With UPF 50+ coverage, you can limit sun exposure and feel secure with the highest rated sun protection available.name: Men\\'s Tropical Plaid Short-Sleeve Shirt\\ndescription: Our lightest hot-weather shirt is rated UPF 50+ for superior protection from the sun\\'s UV rays. With a traditional fit that is relaxed through the chest, sleeve, and waist, this fabric is made of 100% polyester and is wrinkle-resistant. With front and back cape venting that lets in cool breezes and two front bellows pockets, this shirt is imported and provides the highest rated sun protection possible. \\r\\n\\r\\nSun Protection That Won\\'t Wear Off. Our high-performance fabric provides SPF 50+ sun protection, blocking 98% of the sun\\'s harmful rays.name: Men\\'s TropicVibe Shirt, Short-Sleeve\\ndescription: This Men? s sun-protection shirt with built-in UPF 50+ has the lightweight feel you want and the coverage you need when the air is hot and the UV rays are strong. Size & Fit: Traditional Fit: Relaxed through the chest, sleeve and waist. Fabric & Care: Shell: 71% Nylon, 29% Polyester. Lining: 100% Polyester knit mesh. UPF 50+ rated ??the highest rated sun protection possible. Machine wash and dry. Additional Features: Wrinkle resistant. Front and back cape venting lets in cool breezes. Two front bellows pockets. Imported.\\r\\n\\r\\nSun Protection That Won\\'t Wear Off: Our high-performance fabric provides SPF 50+ sun protection, blocking 98% of the sun\\'s harmful rays.'"
      ]
     },
     "execution_count": 83,
     "metadata": {},
     "output_type": "execute_result"
    }
   ],
   "source": [
    "qdocs = \"\".join([docs[i].page_content for i in range(len(docs))])\n",
    "qdocs"
   ]
  },
  {
   "cell_type": "code",
   "execution_count": 84,
   "id": "c976fd23-6487-432b-8867-58877d9c38d1",
   "metadata": {},
   "outputs": [],
   "source": [
    "response = llm.invoke(f\"{qdocs} Question: Please list all your shirts with sun protection in a table in markdown and summarize each one.|\") "
   ]
  },
  {
   "cell_type": "code",
   "execution_count": 85,
   "id": "300101e3-4c90-439a-95c0-05d820bd31ee",
   "metadata": {},
   "outputs": [
    {
     "data": {
      "text/plain": [
       "AIMessage(content='| Name                        | Description                                                                                                                                                                                                                                                                                                                                                                                                                                                                                                                                                                                                                                                                                                                                                                                                                                                                                                                                                                                                                                                                                                                                                                                                                                                                                                                                                                                                                                                                                                                                                                                                                                                                                                                                                                                                                                                                                                                                                                                                                                                                                                                                                                                                                                                                                                                                                                                                                                                                                                                                                                                                                                                                                                                                                                                                                                                                                                                                                                                                                                                                                                                                                                                                                                                                                                                                                                                                                                                                                                                                                                                                                                                                                                                                                                                                                                                                                                                                                                                                                                                                                                                                                                                                                                                                                                                                                                                                                                                                                                                                                                                                                                                                                                                                                                                                                                                                                                                                                                                                                                                                                                                                                                                                                                                                                                                                                                                                                                                                                                                                                                                                                                                                                                                                                                                                                                                                                                                                                                                                                                                                                                                                                                                                                                                                                                                                                                                                                                                                                                                                                                                                                                                                                                                                                                                                                                                                                                                                                                                                                                                                                                                                                                                                                                                                                                                                                                                                                                                                                                                                                                                                                                                                                                                                                                                                                                                                                                                                                                                                                                                                                                                                                                                                                                                                                                                                                                                                                                                                                                                                                                                                                                                                                                                                                                                                                                                                                                                                                                                                                                                                                                                                                                                                                                                                                                                                                                                                                                                                                                                                                                                                                                                                                                                                                                                                                                                                                                                                                                                                                                                                                                                                                                                                                                                                                                                                                                                                                                                                                                                                                                                                                                                                                                                                                                                                                                                                                                                                                                                                                                                                                                                                                                                                                                                                                                                                                                                                                                                                                                                                                                                                                                                                                                                                                                                                                                                                                                                                                                                                                                                                                                                                                                                                                                                                                                                                                                                                                                                                                                                                                                                                                                                                                                                                                                                                                                                                                                                                                                                                                                                                                                                                                                                                                                                                                                                                ', response_metadata={'token_usage': {'completion_tokens': 105, 'prompt_tokens': 668, 'total_tokens': 773}, 'model_name': 'gpt-3.5-turbo', 'system_fingerprint': None, 'finish_reason': 'stop', 'logprobs': None}, id='run-c949ff1c-7b5f-4989-ba57-3ab6ab68a777-0', usage_metadata={'input_tokens': 668, 'output_tokens': 105, 'total_tokens': 773})"
      ]
     },
     "execution_count": 85,
     "metadata": {},
     "output_type": "execute_result"
    }
   ],
   "source": [
    "response"
   ]
  },
  {
   "cell_type": "code",
   "execution_count": 86,
   "id": "7a21478e-ea0e-4e47-b3cd-5786f2e6e651",
   "metadata": {},
   "outputs": [
    {
     "data": {
      "text/plain": [
       "'| Name                        | Description                                                                                                                                                                                                                                                                                                                                                                                                                                                                                                                                                                                                                                                                                                                                                                                                                                                                                                                                                                                                                                                                                                                                                                                                                                                                                                                                                                                                                                                                                                                                                                                                                                                                                                                                                                                                                                                                                                                                                                                                                                                                                                                                                                                                                                                                                                                                                                                                                                                                                                                                                                                                                                                                                                                                                                                                                                                                                                                                                                                                                                                                                                                                                                                                                                                                                                                                                                                                                                                                                                                                                                                                                                                                                                                                                                                                                                                                                                                                                                                                                                                                                                                                                                                                                                                                                                                                                                                                                                                                                                                                                                                                                                                                                                                                                                                                                                                                                                                                                                                                                                                                                                                                                                                                                                                                                                                                                                                                                                                                                                                                                                                                                                                                                                                                                                                                                                                                                                                                                                                                                                                                                                                                                                                                                                                                                                                                                                                                                                                                                                                                                                                                                                                                                                                                                                                                                                                                                                                                                                                                                                                                                                                                                                                                                                                                                                                                                                                                                                                                                                                                                                                                                                                                                                                                                                                                                                                                                                                                                                                                                                                                                                                                                                                                                                                                                                                                                                                                                                                                                                                                                                                                                                                                                                                                                                                                                                                                                                                                                                                                                                                                                                                                                                                                                                                                                                                                                                                                                                                                                                                                                                                                                                                                                                                                                                                                                                                                                                                                                                                                                                                                                                                                                                                                                                                                                                                                                                                                                                                                                                                                                                                                                                                                                                                                                                                                                                                                                                                                                                                                                                                                                                                                                                                                                                                                                                                                                                                                                                                                                                                                                                                                                                                                                                                                                                                                                                                                                                                                                                                                                                                                                                                                                                                                                                                                                                                                                                                                                                                                                                                                                                                                                                                                                                                                                                                                                                                                                                                                                                                                                                                                                                                                                                                                                                                                                                                                '"
      ]
     },
     "execution_count": 86,
     "metadata": {},
     "output_type": "execute_result"
    }
   ],
   "source": [
    "response.content"
   ]
  },
  {
   "cell_type": "code",
   "execution_count": 59,
   "id": "db13d6ad-ef1a-4538-92c4-0c8ba3a89c2e",
   "metadata": {},
   "outputs": [
    {
     "data": {
      "text/plain": [
       "{'token_usage': {'completion_tokens': 105,\n",
       "  'prompt_tokens': 683,\n",
       "  'total_tokens': 788},\n",
       " 'model_name': 'gpt-3.5-turbo',\n",
       " 'system_fingerprint': None,\n",
       " 'finish_reason': 'stop',\n",
       " 'logprobs': None}"
      ]
     },
     "execution_count": 59,
     "metadata": {},
     "output_type": "execute_result"
    }
   ],
   "source": [
    "response.response_metadata"
   ]
  },
  {
   "cell_type": "code",
   "execution_count": 53,
   "id": "482ba4ec-4dc1-4d64-800d-6b408bd0a574",
   "metadata": {},
   "outputs": [
    {
     "data": {
      "text/markdown": [
       "| Name                           | Description                                                                                                                                                                                                                                                                                                                                                                                                                                                                                                                                                                                                                                                                                                                                                                                                                                                                                                                                                                                                                                                                                                                                                                                                                                                                                                                                                                                                                                                                                                                                                                                                                                                                                                                                                                                                                                                                                                                                                                                                                                                                                                                                                                                                                                                                                                                                                                                                                                                                                                                                                                                                                                                                                                                                                                                                                                                                                                                                                                                                                                                                                                                                                                                                                                                                                                                                                                                                                                                                                                                                                                                                                                                                                                                                                                                                                                                                                                                                                                                                                                                                                                                                                                                                                                                                                                                                                                                                                                                                                                                                                                                                                                                                                                                                                                                                                                                                                                                                                                                                                                                                                                                                                                                                                                                                                                                                                                                                                                                                                                                                                                                                                                                                                                                                                                                                                                                                                                                                                                                                                                                                                                                                                                                                                                                                                                                                                                                                                                                                                                                                                                                                                                                                                                                                                                                                                                                                                                                                                                                                                                                                                                                                                                                                                                                                                                                                                                                                                                                                                                                                                                                                                                                                                                                                                                                                                                                                                                                                                                                                                                                                                                                                                                                                                                                                                                                                                                                                                                                                                                                                                                                                                                                                                                                                                                                                                                                                                                                                                                                                                                                                                                                                                                                                                                                                                                                                                                                                                                                                                                                                                                                                                                                                                                                                                                                                                                                                                                                                                                                                                                                                                                                                                                                                                                                                                                                                                                                                                                                                                                                                                                                                                                                                                                                                                                                                                                                                                                                                                                                                                                                                                                                                                                                                                                                                                                                                                                                                                                                                                                                                                                                                                                                                                                                                                                                                                                                                                                                                                                                                                                                                                                                                                                                                                                                                                                                                                                                                                                                                                                                                                                                                                                                                                                                                                                                                                                                                                                                                                                                                                                                                                                                                                                                                                                                                                                                                "
      ],
      "text/plain": [
       "<IPython.core.display.Markdown object>"
      ]
     },
     "metadata": {},
     "output_type": "display_data"
    }
   ],
   "source": [
    "display(Markdown(response.content))"
   ]
  },
  {
   "cell_type": "markdown",
   "id": "0b222b40-0473-4a9e-90a2-9bbc01ba2bf3",
   "metadata": {},
   "source": [
    "<img src='./images/fig_04_04.png' width=600>\n",
    "\n",
    "### Stuff 방법\n",
    "- Stuffing은 가장 단순한 데이터 처리 방법입니다.\n",
    "- 모든 데이터를 프롬프트에 문맥으로 넣어 언어 모델에 전달합니다.\n",
    "#### 장점\n",
    "- 한 번의 호출로 LLM(대형 언어 모델)에 접근할 수 있습니다.\n",
    "- LLM이 한 번에 모든 데이터를 이용할 수 있습니다.\n",
    "#### 단점\n",
    "- LLM은 문맥 길이에 제한이 있으며, 문서가 크거나 많은 경우 이 방법은 작동하지 않습니다. 문맥 길이를 초과하는 프롬프트가 될 수 있습니다."
   ]
  },
  {
   "cell_type": "code",
   "execution_count": 87,
   "id": "5ae65fcc-6a36-4f88-9c32-7d080d97c07e",
   "metadata": {},
   "outputs": [],
   "source": [
    "qa_stuff = RetrievalQA.from_chain_type(\n",
    "    llm=llm, \n",
    "    chain_type=\"stuff\", \n",
    "    retriever=retriever, \n",
    "    verbose=True\n",
    ")"
   ]
  },
  {
   "cell_type": "code",
   "execution_count": 88,
   "id": "87a85e69-a56e-455a-92fd-2865ab207522",
   "metadata": {},
   "outputs": [],
   "source": [
    "query =  \"Please list all your shirts with sun protection in a table \\\n",
    "in markdown and summarize each one.\""
   ]
  },
  {
   "cell_type": "code",
   "execution_count": 93,
   "id": "41895e97-3f15-4856-a1eb-541d449ab159",
   "metadata": {},
   "outputs": [
    {
     "name": "stdout",
     "output_type": "stream",
     "text": [
      "\n",
      "\n",
      "\u001b[1m> Entering new RetrievalQA chain...\u001b[0m\n",
      "\n",
      "\u001b[1m> Finished chain.\u001b[0m\n"
     ]
    }
   ],
   "source": [
    "response = qa_stuff.invoke(query)"
   ]
  },
  {
   "cell_type": "code",
   "execution_count": 95,
   "id": "181d94fa-ec84-4b3a-b3ba-e89273152f95",
   "metadata": {},
   "outputs": [
    {
     "data": {
      "text/plain": [
       "{'query': 'Please list all your shirts with sun protection in a table in markdown and summarize each one.',\n",
       " 'result': '| Shirt Name                           | Description                                                                                                                                                                                                                                                                                                                                                                                                                                                                                                                                                                                                                                                                                                                                                                                                                                                                                                                                                                                                                                                                                                                                                                                                                                                                                                                                                                                                                                                                                                                                                                                                                                                                                                                                                                                                                                                                                                                                                                                                                                                                                                                                                                                                                                                                                                                                                                                                                                                                                                                                                                                                                                                                                                                                                                                                                                                                                                                                                                                                                                                                                                                                                                                                                                                                                                                                                                                                                                                                                                                                                                                                                                                                                                                                                                                                                                                                                                                                                                                                                                                                                                                                                                                                                                                                                                                                                                                                                                                                                                                                                                                                                                                                                                                                                                                                                                                                                                                                                                                                                                                                                                                                                                                                                                                                                                                                                                                                                                                                                                                                                                                                                                                                                                                                                                                                                                                                                                                                                                                                                                                                                                                                                                                                                                                                                                                                                                                                                                                                                                                                                                                                                                                                                                                                                                                                                                                                                                                                                                                                                                                                                                                                                                                                                                                                                                                                                                                                                                                                                                                                                                                                                                                                                                                                                                                                                                                                                                                                                                                                                                                                                                                                                                                                                                                                                                                                                                                                                                                                                                                                                                                                                                                                                                                                                                                                                                                                                                                                                                                                                                                                                                                                                                                                                                                                                                                                                                                                                                                                                                                                                                                                                                                                                                                                                                                                                                                                                                                                                                                                                                                                                                                                                                                                                                                                                                                                                                                                                                                                                                                                                                                                                                                                                                                                                                                                                                                                                                                                                                                                                                                                                                                                                                                                                                                                                                                                                                                                                                                                                                                                                                                                                                                                                                                                                                                                                                                                                                                                                                                                                                                                                                                                                                                                                                                                                                                                                                                                                                                                                                                                                                                                                                                                                                                                                                                                                                                                                                                                                                                                                                                                                                                                                                                                                                                                                                                                '}"
      ]
     },
     "execution_count": 95,
     "metadata": {},
     "output_type": "execute_result"
    }
   ],
   "source": [
    "response"
   ]
  },
  {
   "cell_type": "code",
   "execution_count": 94,
   "id": "adf9a992-849f-42e7-9a3c-fb3d88892f61",
   "metadata": {},
   "outputs": [
    {
     "ename": "TypeError",
     "evalue": "Markdown expects text, not {'query': 'Please list all your shirts with sun protection in a table in markdown and summarize each one.', 'result': '| Shirt Name                           | Description                                                                                                                                                                                                                                                                                                                                                                                                                                                                                                                                                                                                                                                                                                                                                                                                                                                                                                                                                                                                                                                                                                                                                                                                                                                                                                                                                                                                                                                                                                                                                                                                                                                                                                                                                                                                                                                                                                                                                                                                                                                                                                                                                                                                                                                                                                                                                                                                                                                                                                                                                                                                                                                                                                                                                                                                                                                                                                                                                                                                                                                                                                                                                                                                                                                                                                                                                                                                                                                                                                                                                                                                                                                                                                                                                                                                                                                                                                                                                                                                                                                                                                                                                                                                                                                                                                                                                                                                                                                                                                                                                                                                                                                                                                                                                                                                                                                                                                                                                                                                                                                                                                                                                                                                                                                                                                                                                                                                                                                                                                                                                                                                                                                                                                                                                                                                                                                                                                                                                                                                                                                                                                                                                                                                                                                                                                                                                                                                                                                                                                                                                                                                                                                                                                                                                                                                                                                                                                                                                                                                                                                                                                                                                                                                                                                                                                                                                                                                                                                                                                                                                                                                                                                                                                                                                                                                                                                                                                                                                                                                                                                                                                                                                                                                                                                                                                                                                                                                                                                                                                                                                                                                                                                                                                                                                                                                                                                                                                                                                                                                                                                                                                                                                                                                                                                                                                                                                                                                                                                                                                                                                                                                                                                                                                                                                                                                                                                                                                                                                                                                                                                                                                                                                                                                                                                                                                                                                                                                                                                                                                                                                                                                                                                                                                                                                                                                                                                                                                                                                                                                                                                                                                                                                                                                                                                                                                                                                                                                                                                                                                                                                                                                                                                                                                                                                                                                                                                                                                                                                                                                                                                                                                                                                                                                                                                                                                                                                                                                                                                                                                                                                                                                                                                                                                                                                                                                                                                                                                                                                                                                                                                                                                                                                                                                                                                                                                                                '}",
     "output_type": "error",
     "traceback": [
      "\u001b[0;31m---------------------------------------------------------------------------\u001b[0m",
      "\u001b[0;31mTypeError\u001b[0m                                 Traceback (most recent call last)",
      "Cell \u001b[0;32mIn[94], line 1\u001b[0m\n\u001b[0;32m----> 1\u001b[0m display(\u001b[43mMarkdown\u001b[49m\u001b[43m(\u001b[49m\u001b[43mresponse\u001b[49m\u001b[43m)\u001b[49m)\n",
      "File \u001b[0;32m~/anaconda3/envs/trading/lib/python3.10/site-packages/IPython/core/display.py:328\u001b[0m, in \u001b[0;36mDisplayObject.__init__\u001b[0;34m(self, data, url, filename, metadata)\u001b[0m\n\u001b[1;32m    325\u001b[0m     \u001b[38;5;28mself\u001b[39m\u001b[38;5;241m.\u001b[39mmetadata \u001b[38;5;241m=\u001b[39m {}\n\u001b[1;32m    327\u001b[0m \u001b[38;5;28mself\u001b[39m\u001b[38;5;241m.\u001b[39mreload()\n\u001b[0;32m--> 328\u001b[0m \u001b[38;5;28;43mself\u001b[39;49m\u001b[38;5;241;43m.\u001b[39;49m\u001b[43m_check_data\u001b[49m\u001b[43m(\u001b[49m\u001b[43m)\u001b[49m\n",
      "File \u001b[0;32m~/anaconda3/envs/trading/lib/python3.10/site-packages/IPython/core/display.py:407\u001b[0m, in \u001b[0;36mTextDisplayObject._check_data\u001b[0;34m(self)\u001b[0m\n\u001b[1;32m    405\u001b[0m \u001b[38;5;28;01mdef\u001b[39;00m \u001b[38;5;21m_check_data\u001b[39m(\u001b[38;5;28mself\u001b[39m):\n\u001b[1;32m    406\u001b[0m     \u001b[38;5;28;01mif\u001b[39;00m \u001b[38;5;28mself\u001b[39m\u001b[38;5;241m.\u001b[39mdata \u001b[38;5;129;01mis\u001b[39;00m \u001b[38;5;129;01mnot\u001b[39;00m \u001b[38;5;28;01mNone\u001b[39;00m \u001b[38;5;129;01mand\u001b[39;00m \u001b[38;5;129;01mnot\u001b[39;00m \u001b[38;5;28misinstance\u001b[39m(\u001b[38;5;28mself\u001b[39m\u001b[38;5;241m.\u001b[39mdata, \u001b[38;5;28mstr\u001b[39m):\n\u001b[0;32m--> 407\u001b[0m         \u001b[38;5;28;01mraise\u001b[39;00m \u001b[38;5;167;01mTypeError\u001b[39;00m(\u001b[38;5;124m\"\u001b[39m\u001b[38;5;132;01m%s\u001b[39;00m\u001b[38;5;124m expects text, not \u001b[39m\u001b[38;5;132;01m%r\u001b[39;00m\u001b[38;5;124m\"\u001b[39m \u001b[38;5;241m%\u001b[39m (\u001b[38;5;28mself\u001b[39m\u001b[38;5;241m.\u001b[39m\u001b[38;5;18m__class__\u001b[39m\u001b[38;5;241m.\u001b[39m\u001b[38;5;18m__name__\u001b[39m, \u001b[38;5;28mself\u001b[39m\u001b[38;5;241m.\u001b[39mdata))\n",
      "\u001b[0;31mTypeError\u001b[0m: Markdown expects text, not {'query': 'Please list all your shirts with sun protection in a table in markdown and summarize each one.', 'result': '| Shirt Name                           | Description                                                                                                                                                                                                                                                                                                                                                                                                                                                                                                                                                                                                                                                                                                                                                                                                                                                                                                                                                                                                                                                                                                                                                                                                                                                                                                                                                                                                                                                                                                                                                                                                                                                                                                                                                                                                                                                                                                                                                                                                                                                                                                                                                                                                                                                                                                                                                                                                                                                                                                                                                                                                                                                                                                                                                                                                                                                                                                                                                                                                                                                                                                                                                                                                                                                                                                                                                                                                                                                                                                                                                                                                                                                                                                                                                                                                                                                                                                                                                                                                                                                                                                                                                                                                                                                                                                                                                                                                                                                                                                                                                                                                                                                                                                                                                                                                                                                                                                                                                                                                                                                                                                                                                                                                                                                                                                                                                                                                                                                                                                                                                                                                                                                                                                                                                                                                                                                                                                                                                                                                                                                                                                                                                                                                                                                                                                                                                                                                                                                                                                                                                                                                                                                                                                                                                                                                                                                                                                                                                                                                                                                                                                                                                                                                                                                                                                                                                                                                                                                                                                                                                                                                                                                                                                                                                                                                                                                                                                                                                                                                                                                                                                                                                                                                                                                                                                                                                                                                                                                                                                                                                                                                                                                                                                                                                                                                                                                                                                                                                                                                                                                                                                                                                                                                                                                                                                                                                                                                                                                                                                                                                                                                                                                                                                                                                                                                                                                                                                                                                                                                                                                                                                                                                                                                                                                                                                                                                                                                                                                                                                                                                                                                                                                                                                                                                                                                                                                                                                                                                                                                                                                                                                                                                                                                                                                                                                                                                                                                                                                                                                                                                                                                                                                                                                                                                                                                                                                                                                                                                                                                                                                                                                                                                                                                                                                                                                                                                                                                                                                                                                                                                                                                                                                                                                                                                                                                                                                                                                                                                                                                                                                                                                                                                                                                                                                                                                                                '}"
     ]
    }
   ],
   "source": [
    "display(Markdown(response))"
   ]
  },
  {
   "cell_type": "code",
   "execution_count": 96,
   "id": "765c49b9-d655-4e2e-a9f2-7727389c6a52",
   "metadata": {},
   "outputs": [],
   "source": [
    "index = VectorstoreIndexCreator(\n",
    "    vectorstore_cls=DocArrayInMemorySearch,\n",
    "    embedding=embeddings,\n",
    ").from_loaders([loader])"
   ]
  },
  {
   "cell_type": "code",
   "execution_count": 97,
   "id": "b7719979-dda1-449c-9413-b98504647149",
   "metadata": {},
   "outputs": [],
   "source": [
    "response = index.query(query, llm=llm)"
   ]
  },
  {
   "cell_type": "code",
   "execution_count": 98,
   "id": "894ea405-cac9-4e94-a81f-a08e2fc57acc",
   "metadata": {},
   "outputs": [
    {
     "data": {
      "text/plain": [
       "'| Shirt Name                           | Description                                                                                                                                                                                                                                                                                                                                                                                                                                                                                                                                                                                                                                                                                                                                                                                                                                                                                                                                                                                                                                                                                                                                                                                                                                                                                                                                                                                                                                                                                                                                                                                                                                                                                                                                                                                                                                                                                                                                                                                                                                                                                                                                                                                                                                                                                                                                                                                                                                                                                                                                                                                                                                                                                                                                                                                                                                                                                                                                                                                                                                                                                                                                                                                                                                                                                                                                                                                                                                                                                                                                                                                                                                                                                                                                                                                                                                                                                                                                                                                                                                                                                                                                                                                                                                                                                                                                                                                                                                                                                                                                                                                                                                                                                                                                                                                                                                                                                                                                                                                                                                                                                                                                                                                                                                                                                                                                                                                                                                                                                                                                                                                                                                                                                                                                                                                                                                                                                                                                                                                                                                                                                                                                                                                                                                                                                                                                                                                                                                                                                                                                                                                                                                                                                                                                                                                                                                                                                                                                                                                                                                                                                                                                                                                                                                                                                                                                                                                                                                                                                                                                                                                                                                                                                                                                                                                                                                                                                                                                                                                                                                                                                                                                                                                                                                                                                                                                                                                                                                                                                                                                                                                                                                                                                                                                                                                                                                                                                                                                                                                                                                                                                                                                                                                                                                                                                                                                                                                                                                                                                                                                                                                                                                                                                                                                                                                                                                                                                                                                                                                                                                                                                                                                                                                                                                                                                                                                                                                                                                                                                                                                                                                                                                                                                                                                                                                                                                                                                                                                                                                                                                                                                                                                                                                                                                                                                                                                                                                                                                                                                                                                                                                                                                                                                                                                                                                                                                                                                                                                                                                                                                                                                                                                                                                                                                                                                                                                                                                                                                                                                                                                                                                                                                                                                                                                                                                                                                                                                                                                                                                                                                                                                                                                                                                                                                                                                                                                '"
      ]
     },
     "execution_count": 98,
     "metadata": {},
     "output_type": "execute_result"
    }
   ],
   "source": [
    "response"
   ]
  },
  {
   "cell_type": "markdown",
   "id": "48ca4f9b-1451-4250-8bd6-e4b356b280a2",
   "metadata": {},
   "source": [
    "### Additional Methods\n",
    "\n",
    "<img src='./images/fig_04_05.png' width=600>\n",
    "\n",
    "\n",
    "#### 1. Map_reduce\n",
    "- 이 방법은 데이터를 청크로 나눈 후, 각 청크를 LLM(대형 언어 모델)에 보내 처리합니다. 처리된 결과를 모아 최종 답변을 생성합니다.\n",
    "- 장점\n",
    "    - 대량의 데이터를 효과적으로 처리할 수 있습니다.\n",
    "    - 병렬 처리를 통해 속도를 높일 수 있습니다.\n",
    "- 단점\n",
    "    - 모든 청크의 결과를 모아야 하므로 복잡성이 증가합니다.\n",
    "    - 개별 청크가 잘못 처리되면 최종 결과에 영향을 미칠 수 있습니다.\n",
    "\n",
    "#### 2. Refine\n",
    "- 이 방법은 데이터를 청크로 나누고, 각 청크를 LLM에 보내 처리한 후, 이전 청크의 결과를 바탕으로 다음 청크를 처리하는 방식입니다. 이렇게 각 단계에서 결과를 점진적으로 개선하여 최종 답변을 생성합니다.\n",
    "- 장점\n",
    "    - 각 단계에서 이전 결과를 반영하여 점진적으로 개선된 답변을 생성할 수 있습니다.\n",
    "    - 문맥을 유지하며 처리할 수 있습니다.\n",
    "- 단점\n",
    "    - 각 단계에서 이전 결과를 바탕으로 하기 때문에 시간이 많이 소요될 수 있습니다.\n",
    "    - 오류가 누적될 가능성이 있습니다.\n",
    "#### 3. Map_rerank\n",
    "- 이 방법은 데이터를 청크로 나누고, 각 청크를 LLM에 보내 처리한 후, 각각의 결과에 점수를 매깁니다. 가장 높은 점수를 받은 결과를 선택하여 최종 답변으로 사용합니다.\n",
    "- 장점\n",
    "    - 다양한 결과 중에서 가장 신뢰할 수 있는 답변을 선택할 수 있습니다.\n",
    "    - 결과의 품질을 향상시킬 수 있습니다.\n",
    "- 단점\n",
    "    - 모든 결과를 평가하고 점수를 매겨야 하므로 추가적인 계산이 필요합니다.\n",
    "    - 높은 점수를 매기는 기준이 중요합니다."
   ]
  },
  {
   "cell_type": "markdown",
   "id": "948ae06e-70ed-4c82-8e80-3f395991172a",
   "metadata": {},
   "source": [
    "# Evaluation"
   ]
  },
  {
   "cell_type": "markdown",
   "id": "c5cf85f7-ef34-4687-b3f7-a7f137a5be23",
   "metadata": {},
   "source": [
    "## Create our QandA application"
   ]
  },
  {
   "cell_type": "code",
   "execution_count": 2,
   "id": "e9e8008f-da45-4b3e-bc2e-6ddd0ed24b83",
   "metadata": {},
   "outputs": [],
   "source": [
    "from langchain.chains import RetrievalQA\n",
    "from langchain_openai import ChatOpenAI\n",
    "from langchain.document_loaders import CSVLoader\n",
    "from langchain.indexes import VectorstoreIndexCreator\n",
    "from langchain.vectorstores import DocArrayInMemorySearch"
   ]
  },
  {
   "cell_type": "code",
   "execution_count": 3,
   "id": "02ac9652-b305-4b5b-8a7b-4a65c7af05a7",
   "metadata": {},
   "outputs": [],
   "source": [
    "# 문서 로드\n",
    "\n",
    "file = 'OutdoorClothingCatalog_1000.csv'\n",
    "loader = CSVLoader(file_path=file)\n",
    "data = loader.load()"
   ]
  },
  {
   "cell_type": "markdown",
   "id": "986faddb-809f-463e-94bd-92a1b9d245c5",
   "metadata": {},
   "source": [
    "- 인덱스 생성: VectorstoreIndexCreator 클래스를 사용하여 문서의 인덱스를 생성하고,\n",
    "- OpenAIEmbeddings와 DocArrayInMemorySearch로 벡터 스토어를 사용합니다."
   ]
  },
  {
   "cell_type": "code",
   "execution_count": 6,
   "id": "b0f7d02c-3d97-4bca-992d-062b403e7ff3",
   "metadata": {},
   "outputs": [],
   "source": [
    "from langchain_openai import OpenAIEmbeddings\n",
    "embeddings = OpenAIEmbeddings()\n",
    "\n",
    "index = VectorstoreIndexCreator(\n",
    "    vectorstore_cls=DocArrayInMemorySearch,\n",
    "    embedding=embeddings,\n",
    ").from_loaders([loader])"
   ]
  },
  {
   "cell_type": "markdown",
   "id": "4ecdd5d6-3547-4971-badf-214f3241727c",
   "metadata": {},
   "source": [
    "- Q&A 체인 생성: 지정된 언어 모델, 검색 방법 및 인덱스를 사용하여 RetrievalQA 체인을 설정합니다. 이를 통해 질문을 하고 문서에서 답변을 검색할 수 있습니다."
   ]
  },
  {
   "cell_type": "code",
   "execution_count": 7,
   "id": "746399af-db3f-407a-9cfc-ce5f6b4640db",
   "metadata": {},
   "outputs": [],
   "source": [
    "llm = ChatOpenAI(temperature = 0.0)\n",
    "\n",
    "qa = RetrievalQA.from_chain_type(\n",
    "    llm=llm, \n",
    "    chain_type=\"stuff\", \n",
    "    retriever=index.vectorstore.as_retriever(), \n",
    "    verbose=True,\n",
    "    chain_type_kwargs = {\n",
    "        \"document_separator\": \"<<<<>>>>>\"\n",
    "    }\n",
    ")"
   ]
  },
  {
   "cell_type": "markdown",
   "id": "d89f0261-3c31-4dbb-bdb1-a9b207e1bea0",
   "metadata": {},
   "source": [
    "### Coming up with test datapoints"
   ]
  },
  {
   "cell_type": "code",
   "execution_count": 8,
   "id": "21f0cfab-a7ea-4212-9c97-5cd7a7df9f6f",
   "metadata": {},
   "outputs": [
    {
     "data": {
      "text/plain": [
       "Document(page_content=\"name: Cozy Comfort Pullover Set, Stripe\\ndescription: Perfect for lounging, this striped knit set lives up to its name. We used ultrasoft fabric and an easy design that's as comfortable at bedtime as it is when we have to make a quick run out.\\r\\n\\r\\nSize & Fit\\r\\n- Pants are Favorite Fit: Sits lower on the waist.\\r\\n- Relaxed Fit: Our most generous fit sits farthest from the body.\\r\\n\\r\\nFabric & Care\\r\\n- In the softest blend of 63% polyester, 35% rayon and 2% spandex.\\r\\n\\r\\nAdditional Features\\r\\n- Relaxed fit top with raglan sleeves and rounded hem.\\r\\n- Pull-on pants have a wide elastic waistband and drawstring, side pockets and a modern slim leg.\\r\\n\\r\\nImported.\", metadata={'source': 'OutdoorClothingCatalog_1000.csv', 'row': 10})"
      ]
     },
     "execution_count": 8,
     "metadata": {},
     "output_type": "execute_result"
    }
   ],
   "source": [
    "data[10]"
   ]
  },
  {
   "cell_type": "code",
   "execution_count": 9,
   "id": "5d66b6f9-9c7a-4016-8092-61c455f9cd47",
   "metadata": {},
   "outputs": [
    {
     "data": {
      "text/plain": [
       "Document(page_content='name: Ultra-Lofty 850 Stretch Down Hooded Jacket\\ndescription: This technical stretch down jacket from our DownTek collection is sure to keep you warm and comfortable with its full-stretch construction providing exceptional range of motion. With a slightly fitted style that falls at the hip and best with a midweight layer, this jacket is suitable for light activity up to 20° and moderate activity up to -30°. The soft and durable 100% polyester shell offers complete windproof protection and is insulated with warm, lofty goose down. Other features include welded baffles for a no-stitch construction and excellent stretch, an adjustable hood, an interior media port and mesh stash pocket and a hem drawcord. Machine wash and dry. Imported.', metadata={'source': 'OutdoorClothingCatalog_1000.csv', 'row': 11})"
      ]
     },
     "execution_count": 9,
     "metadata": {},
     "output_type": "execute_result"
    }
   ],
   "source": [
    "data[11]"
   ]
  },
  {
   "cell_type": "markdown",
   "id": "0fced93e-c88a-43da-9aa6-dd532a4e97e7",
   "metadata": {},
   "source": [
    "### Hard-coded examples"
   ]
  },
  {
   "cell_type": "markdown",
   "id": "980f2d85-3ab1-4a5f-bc1f-ec3eb0f49ac4",
   "metadata": {},
   "source": [
    "- Q&A 체인을 테스트하기 위해 몇 가지 예제 질문-답변 쌍을 수동으로 생성합니다. 이 예제들은 문서 내용에 기반합니다."
   ]
  },
  {
   "cell_type": "code",
   "execution_count": 51,
   "id": "7402354c-d087-4f53-9f45-f089b3fb2413",
   "metadata": {},
   "outputs": [],
   "source": [
    "examples = [\n",
    "    {\n",
    "        \"query\": \"Do the Cozy Comfort Pullover Set\\\n",
    "        have side pockets?\",\n",
    "        \"answer\": \"Yes\"\n",
    "    },\n",
    "    {\n",
    "        \"query\": \"What collection is the Ultra-Lofty \\\n",
    "        850 Stretch Down Hooded Jacket from?\",\n",
    "        \"answer\": \"The DownTek collection\"\n",
    "    }\n",
    "]"
   ]
  },
  {
   "cell_type": "markdown",
   "id": "c18f1b3f-770f-4ad0-8c61-672e81f6b10d",
   "metadata": {},
   "source": [
    "### LLM-Generated examples"
   ]
  },
  {
   "cell_type": "code",
   "execution_count": 11,
   "id": "ce4bd6f8-5928-41fb-86d5-7dffa0868fbf",
   "metadata": {},
   "outputs": [],
   "source": [
    "from langchain.evaluation.qa import QAGenerateChain"
   ]
  },
  {
   "cell_type": "code",
   "execution_count": 12,
   "id": "b51cdba4-2e44-4c37-917f-21dfc43b98e3",
   "metadata": {},
   "outputs": [],
   "source": [
    "example_gen_chain = QAGenerateChain.from_llm(ChatOpenAI())"
   ]
  },
  {
   "cell_type": "code",
   "execution_count": 35,
   "id": "509d7730-6714-4c44-8b2d-eec6e3795491",
   "metadata": {},
   "outputs": [],
   "source": [
    "new_examples = example_gen_chain.invoke(data[:5])"
   ]
  },
  {
   "cell_type": "code",
   "execution_count": 36,
   "id": "2bc1b655-f6aa-4d7d-b082-cfdb112a41c9",
   "metadata": {},
   "outputs": [
    {
     "data": {
      "text/plain": [
       "{'doc': [Document(page_content=\"name: Women's Campside Oxfords\\ndescription: This ultracomfortable lace-to-toe Oxford boasts a super-soft canvas, thick cushioning, and quality construction for a broken-in feel from the first time you put them on. \\r\\n\\r\\nSize & Fit: Order regular shoe size. For half sizes not offered, order up to next whole size. \\r\\n\\r\\nSpecs: Approx. weight: 1 lb.1 oz. per pair. \\r\\n\\r\\nConstruction: Soft canvas material for a broken-in feel and look. Comfortable EVA innersole with Cleansport NXT® antimicrobial odor control. Vintage hunt, fish and camping motif on innersole. Moderate arch contour of innersole. EVA foam midsole for cushioning and support. Chain-tread-inspired molded rubber outsole with modified chain-tread pattern. Imported. \\r\\n\\r\\nQuestions? Please contact us for any inquiries.\", metadata={'source': 'OutdoorClothingCatalog_1000.csv', 'row': 0}),\n",
       "  Document(page_content='name: Recycled Waterhog Dog Mat, Chevron Weave\\ndescription: Protect your floors from spills and splashing with our ultradurable recycled Waterhog dog mat made right here in the USA. \\r\\n\\r\\nSpecs\\r\\nSmall - Dimensions: 18\" x 28\". \\r\\nMedium - Dimensions: 22.5\" x 34.5\".\\r\\n\\r\\nWhy We Love It\\r\\nMother nature, wet shoes and muddy paws have met their match with our Recycled Waterhog mats. Ruggedly constructed from recycled plastic materials, these ultratough mats help keep dirt and water off your floors and plastic out of landfills, trails and oceans. Now, that\\'s a win-win for everyone.\\r\\n\\r\\nFabric & Care\\r\\nVacuum or hose clean.\\r\\n\\r\\nConstruction\\r\\n24 oz. polyester fabric made from 94% recycled materials.\\r\\nRubber backing.\\r\\n\\r\\nAdditional Features\\r\\nFeatures an -exclusive design.\\r\\nFeatures thick and thin fibers for scraping dirt and absorbing water.\\r\\nDries quickly and resists fading, rotting, mildew and shedding.\\r\\nUse indoors or out.\\r\\nMade in the USA.\\r\\n\\r\\nHave questions? Reach out to our customer service team with any questions you may have.', metadata={'source': 'OutdoorClothingCatalog_1000.csv', 'row': 1}),\n",
       "  Document(page_content=\"name: Infant and Toddler Girls' Coastal Chill Swimsuit, Two-Piece\\ndescription: She'll love the bright colors, ruffles and exclusive whimsical prints of this toddler's two-piece swimsuit! Our four-way-stretch and chlorine-resistant fabric keeps its shape and resists snags. The UPF 50+ rated fabric provides the highest rated sun protection possible, blocking 98% of the sun's harmful rays. The crossover no-slip straps and fully lined bottom ensure a secure fit and maximum coverage. Machine wash and line dry for best results. Imported.\", metadata={'source': 'OutdoorClothingCatalog_1000.csv', 'row': 2}),\n",
       "  Document(page_content=\"name: Refresh Swimwear, V-Neck Tankini Contrasts\\ndescription: Whether you're going for a swim or heading out on an SUP, this watersport-ready tankini top is designed to move with you and stay comfortable. All while looking great in an eye-catching colorblock style. \\r\\n\\r\\nSize & Fit\\r\\nFitted: Sits close to the body.\\r\\n\\r\\nWhy We Love It\\r\\nNot only does this swimtop feel good to wear, its fabric is good for the earth too. In recycled nylon, with Lycra® spandex for the perfect amount of stretch. \\r\\n\\r\\nFabric & Care\\r\\nThe premium Italian-blend is breathable, quick drying and abrasion resistant. \\r\\nBody in 82% recycled nylon with 18% Lycra® spandex. \\r\\nLined in 90% recycled nylon with 10% Lycra® spandex. \\r\\nUPF 50+ rated ??the highest rated sun protection possible. \\r\\nHandwash, line dry.\\r\\n\\r\\nAdditional Features\\r\\nLightweight racerback straps are easy to get on and off, and won't get in your way. \\r\\nFlattering V-neck silhouette. \\r\\nImported.\\r\\n\\r\\nSun Protection That Won't Wear Off\\r\\nOur high-performance fabric provides SPF\", metadata={'source': 'OutdoorClothingCatalog_1000.csv', 'row': 3}),\n",
       "  Document(page_content=\"name: EcoFlex 3L Storm Pants\\ndescription: Our new TEK O2 technology makes our four-season waterproof pants even more breathable. It's guaranteed to keep you dry and comfortable ??whatever the activity and whatever the weather. Size & Fit: Slightly Fitted through hip and thigh. \\r\\n\\r\\nWhy We Love It: Our state-of-the-art TEK O2 technology offers the most breathability we've ever tested. Great as ski pants, they're ideal for a variety of outdoor activities year-round. Plus, they're loaded with features outdoor enthusiasts appreciate, including weather-blocking gaiters and handy side zips. Air In. Water Out. See how our air-permeable TEK O2 technology keeps you dry and comfortable. \\r\\n\\r\\nFabric & Care: 100% nylon, exclusive of trim. Machine wash and dry. \\r\\n\\r\\nAdditional Features: Three-layer shell delivers waterproof protection. Brand new TEK O2 technology provides enhanced breathability. Interior gaiters keep out rain and snow. Full side zips for easy on/off over boots. Two zippered hand pockets. Thigh pocket. Imported.\\r\\n\\r\\n ??Official Supplier to the U.S. Ski Team\\r\\nTHEIR WILL\", metadata={'source': 'OutdoorClothingCatalog_1000.csv', 'row': 4})],\n",
       " 'qa_pairs': {'query': \"What is the description of the Women's Campside Oxfords?\",\n",
       "  'answer': 'The ultracomfortable lace-to-toe Oxford boasts a super-soft canvas, thick cushioning, and quality construction for a broken-in feel from the first time you put them on.'}}"
      ]
     },
     "execution_count": 36,
     "metadata": {},
     "output_type": "execute_result"
    }
   ],
   "source": [
    "new_examples"
   ]
  },
  {
   "cell_type": "code",
   "execution_count": 37,
   "id": "8f4ca6c8-d23c-41e5-984c-6178db4c4c52",
   "metadata": {},
   "outputs": [
    {
     "data": {
      "text/plain": [
       "{'query': \"What is the description of the Women's Campside Oxfords?\",\n",
       " 'answer': 'The ultracomfortable lace-to-toe Oxford boasts a super-soft canvas, thick cushioning, and quality construction for a broken-in feel from the first time you put them on.'}"
      ]
     },
     "execution_count": 37,
     "metadata": {},
     "output_type": "execute_result"
    }
   ],
   "source": [
    "qa_pairs = new_examples.get('qa_pairs')\n",
    "qa_pairs"
   ]
  },
  {
   "cell_type": "code",
   "execution_count": 52,
   "id": "c217b6ee-c2d5-4ebc-b4b9-db9d115df459",
   "metadata": {},
   "outputs": [
    {
     "data": {
      "text/plain": [
       "[{'query': 'Do the Cozy Comfort Pullover Set        have side pockets?',\n",
       "  'answer': 'Yes'},\n",
       " {'query': 'What collection is the Ultra-Lofty         850 Stretch Down Hooded Jacket from?',\n",
       "  'answer': 'The DownTek collection'}]"
      ]
     },
     "execution_count": 52,
     "metadata": {},
     "output_type": "execute_result"
    }
   ],
   "source": [
    "examples"
   ]
  },
  {
   "cell_type": "markdown",
   "id": "307e9dec-186d-44a2-9d5f-1c5cf49cae81",
   "metadata": {},
   "source": [
    "### Combine examples"
   ]
  },
  {
   "cell_type": "code",
   "execution_count": 54,
   "id": "51651603-85e4-4ad3-b34a-d105ca7487ca",
   "metadata": {},
   "outputs": [
    {
     "data": {
      "text/plain": [
       "[{'query': 'Do the Cozy Comfort Pullover Set        have side pockets?',\n",
       "  'answer': 'Yes'},\n",
       " {'query': 'What collection is the Ultra-Lofty         850 Stretch Down Hooded Jacket from?',\n",
       "  'answer': 'The DownTek collection'},\n",
       " {'query': \"What is the description of the Women's Campside Oxfords?\",\n",
       "  'answer': 'The ultracomfortable lace-to-toe Oxford boasts a super-soft canvas, thick cushioning, and quality construction for a broken-in feel from the first time you put them on.'}]"
      ]
     },
     "execution_count": 54,
     "metadata": {},
     "output_type": "execute_result"
    }
   ],
   "source": [
    "examples.append(qa_pairs)\n",
    "examples"
   ]
  },
  {
   "cell_type": "code",
   "execution_count": 55,
   "id": "cde10c6f-534a-4b4a-955f-c5816d7aa8ff",
   "metadata": {},
   "outputs": [
    {
     "name": "stdout",
     "output_type": "stream",
     "text": [
      "\n",
      "\n",
      "\u001b[1m> Entering new RetrievalQA chain...\u001b[0m\n",
      "\n",
      "\u001b[1m> Finished chain.\u001b[0m\n"
     ]
    },
    {
     "data": {
      "text/plain": [
       "'Yes, the Cozy Comfort Pullover Set does have side pockets.'"
      ]
     },
     "execution_count": 55,
     "metadata": {},
     "output_type": "execute_result"
    }
   ],
   "source": [
    "qa.run(examples[0][\"query\"])"
   ]
  },
  {
   "cell_type": "markdown",
   "id": "88546da6-2bde-47e6-99a9-cfb338837a1e",
   "metadata": {},
   "source": [
    "## Manual Evaluation"
   ]
  },
  {
   "cell_type": "markdown",
   "id": "fbf0f5e6-b095-4b9e-9667-39183512c616",
   "metadata": {},
   "source": [
    "- 디버깅 활성화: LangChain에서 디버깅을 활성화하여 Q&A 체인의 내부 단계를 자세히 볼 수 있습니다.\n",
    "- 예제 실행: 디버깅을 활성화한 상태에서 단일 예제를 실행하여 각 단계의 상세 로그를 확인하고, 체인의 작동을 이해하고 디버깅하는 데 도움이 됩니다."
   ]
  },
  {
   "cell_type": "code",
   "execution_count": 56,
   "id": "51d9e3f7-882e-4880-a576-7a1f8111746a",
   "metadata": {},
   "outputs": [
    {
     "name": "stdout",
     "output_type": "stream",
     "text": [
      "\u001b[32;1m\u001b[1;3m[chain/start]\u001b[0m \u001b[1m[chain:RetrievalQA] Entering Chain run with input:\n",
      "\u001b[0m{\n",
      "  \"query\": \"Do the Cozy Comfort Pullover Set        have side pockets?\"\n",
      "}\n",
      "\u001b[32;1m\u001b[1;3m[chain/start]\u001b[0m \u001b[1m[chain:RetrievalQA > chain:StuffDocumentsChain] Entering Chain run with input:\n",
      "\u001b[0m[inputs]\n",
      "\u001b[32;1m\u001b[1;3m[chain/start]\u001b[0m \u001b[1m[chain:RetrievalQA > chain:StuffDocumentsChain > chain:LLMChain] Entering Chain run with input:\n",
      "\u001b[0m{\n",
      "  \"question\": \"Do the Cozy Comfort Pullover Set        have side pockets?\",\n",
      "  \"context\": \"name: Cozy Comfort Pullover Set, Stripe\\ndescription: Perfect for lounging, this striped knit set lives up to its name. We used ultrasoft fabric and an easy design that's as comfortable at bedtime as it is when we have to make a quick run out.\\r\\n\\r\\nSize & Fit\\r\\n- Pants are Favorite Fit: Sits lower on the waist.\\r\\n- Relaxed Fit: Our most generous fit sits farthest from the body.\\r\\n\\r\\nFabric & Care\\r\\n- In the softest blend of 63% polyester, 35% rayon and 2% spandex.\\r\\n\\r\\nAdditional Features\\r\\n- Relaxed fit top with raglan sleeves and rounded hem.\\r\\n- Pull-on pants have a wide elastic waistband and drawstring, side pockets and a modern slim leg.\\r\\n\\r\\nImported.<<<<>>>>>name: Cozy Cuddles Knit Pullover Set\\ndescription: Perfect for lounging, this knit set lives up to its name. We used ultrasoft fabric and an easy design that's as comfortable at bedtime as it is when we have to make a quick run out. \\r\\n\\r\\nSize & Fit \\r\\nPants are Favorite Fit: Sits lower on the waist. \\r\\nRelaxed Fit: Our most generous fit sits farthest from the body. \\r\\n\\r\\nFabric & Care \\r\\nIn the softest blend of 63% polyester, 35% rayon and 2% spandex.\\r\\n\\r\\nAdditional Features \\r\\nRelaxed fit top with raglan sleeves and rounded hem. \\r\\nPull-on pants have a wide elastic waistband and drawstring, side pockets and a modern slim leg. \\r\\nImported.<<<<>>>>>name: Cozy Workout Vest\\ndescription: For serious warmth that won't weigh you down, reach for this fleece-lined vest, which provides you with layering options whether you're inside or outdoors.\\r\\nSize & Fit\\r\\nRelaxed Fit. Falls at hip.\\r\\nFabric & Care\\r\\nSoft, textured fleece lining. Nylon shell. Machine wash and dry. \\r\\nAdditional Features \\r\\nTwo handwarmer pockets. Knit side panels stretch for a more flattering fit. Shell fabric is treated to resist water and stains. Imported.<<<<>>>>>name: Cozy Comfort Fleece Pullover\\ndescription: The ultimate sweater fleece ??made from superior fabric and offered at an unbeatable price. \\r\\n\\r\\nSize & Fit\\r\\nSlightly Fitted: Softly shapes the body. Falls at hip. \\r\\n\\r\\nWhy We Love It\\r\\nOur customers (and employees) love the rugged construction and heritage-inspired styling of our popular Sweater Fleece Pullover and wear it for absolutely everything. From high-intensity activities to everyday tasks, you'll find yourself reaching for it every time.\\r\\n\\r\\nFabric & Care\\r\\nRugged sweater-knit exterior and soft brushed interior for exceptional warmth and comfort. Made from soft, 100% polyester. Machine wash and dry.\\r\\n\\r\\nAdditional Features\\r\\nFeatures our classic Mount Katahdin logo. Snap placket. Front princess seams create a feminine shape. Kangaroo handwarmer pockets. Cuffs and hem reinforced with jersey binding. Imported.\\r\\n\\r\\n ??Official Supplier to the U.S. Ski Team\\r\\nTHEIR WILL TO WIN, WOVEN RIGHT IN. LEARN MORE\"\n",
      "}\n",
      "\u001b[32;1m\u001b[1;3m[llm/start]\u001b[0m \u001b[1m[chain:RetrievalQA > chain:StuffDocumentsChain > chain:LLMChain > llm:ChatOpenAI] Entering LLM run with input:\n",
      "\u001b[0m{\n",
      "  \"prompts\": [\n",
      "    \"System: Use the following pieces of context to answer the user's question. \\nIf you don't know the answer, just say that you don't know, don't try to make up an answer.\\n----------------\\nname: Cozy Comfort Pullover Set, Stripe\\ndescription: Perfect for lounging, this striped knit set lives up to its name. We used ultrasoft fabric and an easy design that's as comfortable at bedtime as it is when we have to make a quick run out.\\r\\n\\r\\nSize & Fit\\r\\n- Pants are Favorite Fit: Sits lower on the waist.\\r\\n- Relaxed Fit: Our most generous fit sits farthest from the body.\\r\\n\\r\\nFabric & Care\\r\\n- In the softest blend of 63% polyester, 35% rayon and 2% spandex.\\r\\n\\r\\nAdditional Features\\r\\n- Relaxed fit top with raglan sleeves and rounded hem.\\r\\n- Pull-on pants have a wide elastic waistband and drawstring, side pockets and a modern slim leg.\\r\\n\\r\\nImported.<<<<>>>>>name: Cozy Cuddles Knit Pullover Set\\ndescription: Perfect for lounging, this knit set lives up to its name. We used ultrasoft fabric and an easy design that's as comfortable at bedtime as it is when we have to make a quick run out. \\r\\n\\r\\nSize & Fit \\r\\nPants are Favorite Fit: Sits lower on the waist. \\r\\nRelaxed Fit: Our most generous fit sits farthest from the body. \\r\\n\\r\\nFabric & Care \\r\\nIn the softest blend of 63% polyester, 35% rayon and 2% spandex.\\r\\n\\r\\nAdditional Features \\r\\nRelaxed fit top with raglan sleeves and rounded hem. \\r\\nPull-on pants have a wide elastic waistband and drawstring, side pockets and a modern slim leg. \\r\\nImported.<<<<>>>>>name: Cozy Workout Vest\\ndescription: For serious warmth that won't weigh you down, reach for this fleece-lined vest, which provides you with layering options whether you're inside or outdoors.\\r\\nSize & Fit\\r\\nRelaxed Fit. Falls at hip.\\r\\nFabric & Care\\r\\nSoft, textured fleece lining. Nylon shell. Machine wash and dry. \\r\\nAdditional Features \\r\\nTwo handwarmer pockets. Knit side panels stretch for a more flattering fit. Shell fabric is treated to resist water and stains. Imported.<<<<>>>>>name: Cozy Comfort Fleece Pullover\\ndescription: The ultimate sweater fleece ??made from superior fabric and offered at an unbeatable price. \\r\\n\\r\\nSize & Fit\\r\\nSlightly Fitted: Softly shapes the body. Falls at hip. \\r\\n\\r\\nWhy We Love It\\r\\nOur customers (and employees) love the rugged construction and heritage-inspired styling of our popular Sweater Fleece Pullover and wear it for absolutely everything. From high-intensity activities to everyday tasks, you'll find yourself reaching for it every time.\\r\\n\\r\\nFabric & Care\\r\\nRugged sweater-knit exterior and soft brushed interior for exceptional warmth and comfort. Made from soft, 100% polyester. Machine wash and dry.\\r\\n\\r\\nAdditional Features\\r\\nFeatures our classic Mount Katahdin logo. Snap placket. Front princess seams create a feminine shape. Kangaroo handwarmer pockets. Cuffs and hem reinforced with jersey binding. Imported.\\r\\n\\r\\n ??Official Supplier to the U.S. Ski Team\\r\\nTHEIR WILL TO WIN, WOVEN RIGHT IN. LEARN MORE\\nHuman: Do the Cozy Comfort Pullover Set        have side pockets?\"\n",
      "  ]\n",
      "}\n",
      "\u001b[36;1m\u001b[1;3m[llm/end]\u001b[0m \u001b[1m[chain:RetrievalQA > chain:StuffDocumentsChain > chain:LLMChain > llm:ChatOpenAI] [999ms] Exiting LLM run with output:\n",
      "\u001b[0m{\n",
      "  \"generations\": [\n",
      "    [\n",
      "      {\n",
      "        \"text\": \"Yes, the Cozy Comfort Pullover Set does have side pockets.\",\n",
      "        \"generation_info\": {\n",
      "          \"finish_reason\": \"stop\",\n",
      "          \"logprobs\": null\n",
      "        },\n",
      "        \"type\": \"ChatGeneration\",\n",
      "        \"message\": {\n",
      "          \"lc\": 1,\n",
      "          \"type\": \"constructor\",\n",
      "          \"id\": [\n",
      "            \"langchain\",\n",
      "            \"schema\",\n",
      "            \"messages\",\n",
      "            \"AIMessage\"\n",
      "          ],\n",
      "          \"kwargs\": {\n",
      "            \"content\": \"Yes, the Cozy Comfort Pullover Set does have side pockets.\",\n",
      "            \"response_metadata\": {\n",
      "              \"token_usage\": {\n",
      "                \"completion_tokens\": 14,\n",
      "                \"prompt_tokens\": 705,\n",
      "                \"total_tokens\": 719\n",
      "              },\n",
      "              \"model_name\": \"gpt-3.5-turbo\",\n",
      "              \"system_fingerprint\": null,\n",
      "              \"finish_reason\": \"stop\",\n",
      "              \"logprobs\": null\n",
      "            },\n",
      "            \"type\": \"ai\",\n",
      "            \"id\": \"run-937f9662-7faf-4c31-8b38-97cca8d19faa-0\",\n",
      "            \"usage_metadata\": {\n",
      "              \"input_tokens\": 705,\n",
      "              \"output_tokens\": 14,\n",
      "              \"total_tokens\": 719\n",
      "            },\n",
      "            \"tool_calls\": [],\n",
      "            \"invalid_tool_calls\": []\n",
      "          }\n",
      "        }\n",
      "      }\n",
      "    ]\n",
      "  ],\n",
      "  \"llm_output\": {\n",
      "    \"token_usage\": {\n",
      "      \"completion_tokens\": 14,\n",
      "      \"prompt_tokens\": 705,\n",
      "      \"total_tokens\": 719\n",
      "    },\n",
      "    \"model_name\": \"gpt-3.5-turbo\",\n",
      "    \"system_fingerprint\": null\n",
      "  },\n",
      "  \"run\": null\n",
      "}\n",
      "\u001b[36;1m\u001b[1;3m[chain/end]\u001b[0m \u001b[1m[chain:RetrievalQA > chain:StuffDocumentsChain > chain:LLMChain] [1.00s] Exiting Chain run with output:\n",
      "\u001b[0m{\n",
      "  \"text\": \"Yes, the Cozy Comfort Pullover Set does have side pockets.\"\n",
      "}\n",
      "\u001b[36;1m\u001b[1;3m[chain/end]\u001b[0m \u001b[1m[chain:RetrievalQA > chain:StuffDocumentsChain] [1.01s] Exiting Chain run with output:\n",
      "\u001b[0m{\n",
      "  \"output_text\": \"Yes, the Cozy Comfort Pullover Set does have side pockets.\"\n",
      "}\n",
      "\u001b[36;1m\u001b[1;3m[chain/end]\u001b[0m \u001b[1m[chain:RetrievalQA] [1.24s] Exiting Chain run with output:\n",
      "\u001b[0m{\n",
      "  \"result\": \"Yes, the Cozy Comfort Pullover Set does have side pockets.\"\n",
      "}\n"
     ]
    }
   ],
   "source": [
    "import langchain\n",
    "langchain.debug = True\n",
    "qa.run(examples[0][\"query\"])\n",
    "langchain.debug = False"
   ]
  },
  {
   "cell_type": "markdown",
   "id": "2a4f97bb-ea30-41e2-9ba6-510426b99f86",
   "metadata": {},
   "source": [
    "## LLM assisted evaluation"
   ]
  },
  {
   "cell_type": "code",
   "execution_count": 58,
   "id": "17f3a5cc-838d-45be-809d-d39bb7d8a8f0",
   "metadata": {},
   "outputs": [
    {
     "name": "stdout",
     "output_type": "stream",
     "text": [
      "\n",
      "\n",
      "\u001b[1m> Entering new RetrievalQA chain...\u001b[0m\n",
      "\n",
      "\n",
      "\u001b[1m> Entering new RetrievalQA chain...\u001b[0m\n",
      "\n",
      "\n",
      "\u001b[1m> Entering new RetrievalQA chain...\u001b[0m\n",
      "\n",
      "\u001b[1m> Finished chain.\u001b[0m\n",
      "\n",
      "\u001b[1m> Finished chain.\u001b[0m\n",
      "\n",
      "\u001b[1m> Finished chain.\u001b[0m\n"
     ]
    }
   ],
   "source": [
    "predictions = qa.batch(examples)"
   ]
  },
  {
   "cell_type": "markdown",
   "id": "f2733be7-af8e-468a-b11e-eb77788f1d7a",
   "metadata": {},
   "source": [
    "- 평가 체인 가져오기: LangChain에서 QAEvalChain을 가져옵니다.\n",
    "- 평가 체인 생성: 지정된 언어 모델을 사용하여 평가 체인을 생성합니다.\n",
    "- 예측 평가: 평가 체인을 사용하여 예측 결과를 실제 답변과 비교하여 평가를 자동화합니다."
   ]
  },
  {
   "cell_type": "code",
   "execution_count": 59,
   "id": "00ec94d1-1093-44f5-90a3-3f54bd3fe3bf",
   "metadata": {},
   "outputs": [],
   "source": [
    "from langchain.evaluation.qa import QAEvalChain"
   ]
  },
  {
   "cell_type": "code",
   "execution_count": 60,
   "id": "5a4a2217-d3c6-4010-b1d2-56551dc4e80b",
   "metadata": {},
   "outputs": [],
   "source": [
    "llm = ChatOpenAI(temperature=0)\n",
    "eval_chain = QAEvalChain.from_llm(llm)"
   ]
  },
  {
   "cell_type": "code",
   "execution_count": 63,
   "id": "83b3dc05-4017-4b62-9eaf-797014066eca",
   "metadata": {},
   "outputs": [],
   "source": [
    "graded_outputs = eval_chain.evaluate(examples, predictions)"
   ]
  },
  {
   "cell_type": "code",
   "execution_count": 65,
   "id": "40559299-fb9d-43d6-8fe2-a002be5e7b6d",
   "metadata": {},
   "outputs": [
    {
     "data": {
      "text/plain": [
       "[{'results': 'CORRECT'}, {'results': 'CORRECT'}, {'results': 'CORRECT'}]"
      ]
     },
     "execution_count": 65,
     "metadata": {},
     "output_type": "execute_result"
    }
   ],
   "source": [
    "graded_outputs"
   ]
  },
  {
   "cell_type": "markdown",
   "id": "8677a363-c097-460f-91f3-d6a9a39be2b4",
   "metadata": {},
   "source": [
    "- 평가 결과를 출력하여 질문, 실제 답변, 예측된 답변 및 평가 체인이 할당한 등급을 확인합니다. 이를 통해 Q&A 체인의 성능을 명확하게 파악할 수 있습니다."
   ]
  },
  {
   "cell_type": "code",
   "execution_count": 66,
   "id": "512316c6-b774-4e5e-b882-68db1a7f38e6",
   "metadata": {},
   "outputs": [
    {
     "name": "stdout",
     "output_type": "stream",
     "text": [
      "Example 0:\n",
      "Question: Do the Cozy Comfort Pullover Set        have side pockets?\n",
      "Real Answer: Yes\n",
      "Predicted Answer: Yes, the Cozy Comfort Pullover Set does have side pockets.\n",
      "Predicted Grade: CORRECT\n",
      "\n",
      "Example 1:\n",
      "Question: What collection is the Ultra-Lofty         850 Stretch Down Hooded Jacket from?\n",
      "Real Answer: The DownTek collection\n",
      "Predicted Answer: The Ultra-Lofty 850 Stretch Down Hooded Jacket is from the DownTek collection.\n",
      "Predicted Grade: CORRECT\n",
      "\n",
      "Example 2:\n",
      "Question: What is the description of the Women's Campside Oxfords?\n",
      "Real Answer: The ultracomfortable lace-to-toe Oxford boasts a super-soft canvas, thick cushioning, and quality construction for a broken-in feel from the first time you put them on.\n",
      "Predicted Answer: The description of the Women's Campside Oxfords is: \"This ultracomfortable lace-to-toe Oxford boasts a super-soft canvas, thick cushioning, and quality construction for a broken-in feel from the first time you put them on.\"\n",
      "Predicted Grade: CORRECT\n",
      "\n"
     ]
    }
   ],
   "source": [
    "for i, eg in enumerate(examples):\n",
    "    print(f\"Example {i}:\")\n",
    "    print(\"Question: \" + predictions[i]['query'])\n",
    "    print(\"Real Answer: \" + predictions[i]['answer'])\n",
    "    print(\"Predicted Answer: \" + predictions[i]['result'])\n",
    "    print(\"Predicted Grade: \" + graded_outputs[i]['results'])\n",
    "    print()"
   ]
  },
  {
   "cell_type": "markdown",
   "id": "7a5779a0-b4b5-439a-9176-8e678127a106",
   "metadata": {},
   "source": [
    "# Agents"
   ]
  },
  {
   "cell_type": "markdown",
   "id": "fb5e368b-4e2f-40d4-a5d5-a8b0bbe960d5",
   "metadata": {},
   "source": [
    "## Built-in LangChain tools"
   ]
  },
  {
   "cell_type": "code",
   "execution_count": 8,
   "id": "5ad0dd49-a0de-49e3-b0ce-50b85f8a8e35",
   "metadata": {},
   "outputs": [],
   "source": [
    "# from langchain.agents.agent_toolkits import create_python_agent\n",
    "# from langchain.tools.python.tool import PythonREPLTool\n",
    "from langchain_experimental.agents.agent_toolkits.python.base import create_python_agent, PythonREPLTool\n",
    "from langchain.agents import load_tools, initialize_agent\n",
    "from langchain.agents import AgentType\n",
    "from langchain.python import PythonREPL\n",
    "from langchain.chat_models import ChatOpenAI"
   ]
  },
  {
   "cell_type": "code",
   "execution_count": 9,
   "id": "9eb1a2fc-dba1-40a6-bc0c-8cab8953e22c",
   "metadata": {},
   "outputs": [
    {
     "name": "stderr",
     "output_type": "stream",
     "text": [
      "/home/restful3/anaconda3/envs/trading/lib/python3.10/site-packages/langchain_core/_api/deprecation.py:119: LangChainDeprecationWarning: The class `ChatOpenAI` was deprecated in LangChain 0.0.10 and will be removed in 0.3.0. An updated version of the class exists in the langchain-openai package and should be used instead. To use it run `pip install -U langchain-openai` and import as `from langchain_openai import ChatOpenAI`.\n",
      "  warn_deprecated(\n"
     ]
    }
   ],
   "source": [
    "llm = ChatOpenAI(temperature=0)"
   ]
  },
  {
   "cell_type": "code",
   "execution_count": 15,
   "id": "3e2991ab-6acf-44a8-a886-4e0d94894f91",
   "metadata": {},
   "outputs": [],
   "source": [
    "# !pip install wikipedia\n",
    "# !pip install numexpr"
   ]
  },
  {
   "cell_type": "code",
   "execution_count": 14,
   "id": "ad6f65ab-308e-48da-8596-02412660c389",
   "metadata": {},
   "outputs": [],
   "source": [
    "tools = load_tools([\"llm-math\",\"wikipedia\"], llm=llm)"
   ]
  },
  {
   "cell_type": "code",
   "execution_count": 16,
   "id": "b932634f-7bdd-4f65-8747-98287f67fee5",
   "metadata": {},
   "outputs": [
    {
     "name": "stderr",
     "output_type": "stream",
     "text": [
      "/home/restful3/anaconda3/envs/trading/lib/python3.10/site-packages/langchain_core/_api/deprecation.py:119: LangChainDeprecationWarning: The function `initialize_agent` was deprecated in LangChain 0.1.0 and will be removed in 0.3.0. Use Use new agent constructor methods like create_react_agent, create_json_agent, create_structured_chat_agent, etc. instead.\n",
      "  warn_deprecated(\n"
     ]
    }
   ],
   "source": [
    "agent= initialize_agent(\n",
    "    tools, \n",
    "    llm, \n",
    "    agent=AgentType.CHAT_ZERO_SHOT_REACT_DESCRIPTION,\n",
    "    handle_parsing_errors=True,\n",
    "    verbose = True)"
   ]
  },
  {
   "cell_type": "code",
   "execution_count": 17,
   "id": "37a43b1c-8665-4993-8c52-ae3ba86b7dcd",
   "metadata": {},
   "outputs": [
    {
     "name": "stderr",
     "output_type": "stream",
     "text": [
      "/home/restful3/anaconda3/envs/trading/lib/python3.10/site-packages/langchain_core/_api/deprecation.py:119: LangChainDeprecationWarning: The method `Chain.__call__` was deprecated in langchain 0.1.0 and will be removed in 0.3.0. Use invoke instead.\n",
      "  warn_deprecated(\n"
     ]
    },
    {
     "name": "stdout",
     "output_type": "stream",
     "text": [
      "\n",
      "\n",
      "\u001b[1m> Entering new AgentExecutor chain...\u001b[0m\n",
      "\u001b[32;1m\u001b[1;3mThought: To find 25% of 300, we can use a calculator to calculate the result.\n",
      "\n",
      "Action:\n",
      "```\n",
      "{\n",
      "  \"action\": \"Calculator\",\n",
      "  \"action_input\": \"25% * 300\"\n",
      "}\n",
      "```\n",
      "\n",
      "\u001b[0m"
     ]
    },
    {
     "name": "stderr",
     "output_type": "stream",
     "text": [
      "Error in LangChainTracer.on_tool_end callback: TracerException(\"Found chain run at ID f752155d-04f2-4c98-9dbf-20f6d5765749, but expected {'tool'} run.\")\n"
     ]
    },
    {
     "name": "stdout",
     "output_type": "stream",
     "text": [
      "\n",
      "Observation: \u001b[36;1m\u001b[1;3mAnswer: 75.0\u001b[0m\n",
      "Thought:\u001b[32;1m\u001b[1;3mFinal Answer: 75.0\u001b[0m\n",
      "\n",
      "\u001b[1m> Finished chain.\u001b[0m\n"
     ]
    },
    {
     "data": {
      "text/plain": [
       "{'input': 'What is the 25% of 300?', 'output': '75.0'}"
      ]
     },
     "execution_count": 17,
     "metadata": {},
     "output_type": "execute_result"
    }
   ],
   "source": [
    "agent(\"What is the 25% of 300?\")"
   ]
  },
  {
   "cell_type": "markdown",
   "id": "6b46f99e-167a-4478-bd73-9b094517f998",
   "metadata": {},
   "source": [
    "## Wikipedia example"
   ]
  },
  {
   "cell_type": "code",
   "execution_count": 18,
   "id": "e3f670ef-4cd4-4163-8a11-5da699d8dcba",
   "metadata": {
    "scrolled": true
   },
   "outputs": [
    {
     "name": "stdout",
     "output_type": "stream",
     "text": [
      "\n",
      "\n",
      "\u001b[1m> Entering new AgentExecutor chain...\u001b[0m\n",
      "\u001b[32;1m\u001b[1;3mThought: I should use Wikipedia to find out which book Tom M. Mitchell wrote.\n",
      "Action:\n",
      "```\n",
      "{\n",
      "  \"action\": \"wikipedia\",\n",
      "  \"action_input\": \"Tom M. Mitchell\"\n",
      "}\n",
      "```\u001b[0m"
     ]
    },
    {
     "name": "stderr",
     "output_type": "stream",
     "text": [
      "/home/restful3/anaconda3/envs/trading/lib/python3.10/site-packages/wikipedia/wikipedia.py:389: GuessedAtParserWarning: No parser was explicitly specified, so I'm using the best available HTML parser for this system (\"html.parser\"). This usually isn't a problem, but if you run this code on another system, or in a different virtual environment, it may use a different parser and behave differently.\n",
      "\n",
      "The code that caused this warning is on line 389 of the file /home/restful3/anaconda3/envs/trading/lib/python3.10/site-packages/wikipedia/wikipedia.py. To get rid of this warning, pass the additional argument 'features=\"html.parser\"' to the BeautifulSoup constructor.\n",
      "\n",
      "  lis = BeautifulSoup(html).find_all('li')\n"
     ]
    },
    {
     "name": "stdout",
     "output_type": "stream",
     "text": [
      "\n",
      "Observation: \u001b[33;1m\u001b[1;3mPage: Tom M. Mitchell\n",
      "Summary: Tom Michael Mitchell (born August 9, 1951) is an American computer scientist and the Founders University Professor at Carnegie Mellon University (CMU). He is a founder and former Chair of the Machine Learning Department at CMU. Mitchell is known for his contributions to the advancement of machine learning, artificial intelligence, and cognitive neuroscience and is the author of the textbook Machine Learning. He is a member of the United States National Academy of Engineering since 2010. He is also a Fellow of the American Academy of Arts and Sciences, the American Association for the Advancement of Science and a Fellow and past President of the Association for the Advancement of Artificial Intelligence. In October 2018, Mitchell was appointed as the Interim Dean of the School of Computer Science at Carnegie Mellon.\n",
      "\n",
      "Page: Tom Mitchell (Australian footballer)\n",
      "Summary: Thomas Mitchell (born 31 May 1993) is a professional Australian rules footballer playing for the Collingwood Football Club in the Australian Football League (AFL). He previously played for the Sydney Swans from 2012 to 2016, and the Hawthorn Football Club between 2017 and 2022. Mitchell won the Brownlow Medal as the league's best and fairest player in 2018 and set the record for the most disposals in a VFL/AFL match, accruing 54 in a game against Collingwood during that season. He would later join them in 2023, en route to winning the 2023 AFL Grand Final and his first AFL premiership.\u001b[0m\n",
      "Thought:\u001b[32;1m\u001b[1;3mI have found the book written by Tom M. Mitchell.\n",
      "Final Answer: The book he wrote is \"Machine Learning.\"\u001b[0m\n",
      "\n",
      "\u001b[1m> Finished chain.\u001b[0m\n"
     ]
    }
   ],
   "source": [
    "question = \"Tom M. Mitchell is an American computer scientist \\\n",
    "and the Founders University Professor at Carnegie Mellon University (CMU)\\\n",
    "what book did he write?\"\n",
    "result = agent(question) "
   ]
  },
  {
   "cell_type": "markdown",
   "id": "62c37df6-d910-4367-a567-db81d16f5a63",
   "metadata": {},
   "source": [
    "## Python Agent"
   ]
  },
  {
   "cell_type": "code",
   "execution_count": 19,
   "id": "7b2431fa-14c2-4af4-a824-1297471bea65",
   "metadata": {},
   "outputs": [],
   "source": [
    "agent = create_python_agent(\n",
    "    llm,\n",
    "    tool=PythonREPLTool(),\n",
    "    verbose=True\n",
    ")"
   ]
  },
  {
   "cell_type": "code",
   "execution_count": 20,
   "id": "1898b9ff-7ed3-4963-ab4c-377d5b502496",
   "metadata": {},
   "outputs": [],
   "source": [
    "customer_list = [[\"Harrison\", \"Chase\"], \n",
    "                 [\"Lang\", \"Chain\"],\n",
    "                 [\"Dolly\", \"Too\"],\n",
    "                 [\"Elle\", \"Elem\"], \n",
    "                 [\"Geoff\",\"Fusion\"], \n",
    "                 [\"Trance\",\"Former\"],\n",
    "                 [\"Jen\",\"Ayai\"]\n",
    "                ]"
   ]
  },
  {
   "cell_type": "code",
   "execution_count": 21,
   "id": "2eb54660-d3ab-42c5-8854-0b8d4455366b",
   "metadata": {},
   "outputs": [
    {
     "name": "stderr",
     "output_type": "stream",
     "text": [
      "/home/restful3/anaconda3/envs/trading/lib/python3.10/site-packages/langchain_core/_api/deprecation.py:119: LangChainDeprecationWarning: The method `Chain.run` was deprecated in langchain 0.1.0 and will be removed in 0.3.0. Use invoke instead.\n",
      "  warn_deprecated(\n"
     ]
    },
    {
     "name": "stdout",
     "output_type": "stream",
     "text": [
      "\n",
      "\n",
      "\u001b[1m> Entering new AgentExecutor chain...\u001b[0m\n"
     ]
    },
    {
     "name": "stderr",
     "output_type": "stream",
     "text": [
      "Python REPL can execute arbitrary code. Use with caution.\n"
     ]
    },
    {
     "name": "stdout",
     "output_type": "stream",
     "text": [
      "\u001b[32;1m\u001b[1;3mWe can use the `sorted()` function in Python to sort the list of customers based on their last name and then first name.\n",
      "Action: Python_REPL\n",
      "Action Input: customers = [['Harrison', 'Chase'], ['Lang', 'Chain'], ['Dolly', 'Too'], ['Elle', 'Elem'], ['Geoff', 'Fusion'], ['Trance', 'Former'], ['Jen', 'Ayai']]\n",
      "sorted_customers = sorted(customers, key=lambda x: (x[1], x[0]))\n",
      "print(sorted_customers)\u001b[0m\n",
      "Observation: \u001b[36;1m\u001b[1;3m[['Jen', 'Ayai'], ['Lang', 'Chain'], ['Harrison', 'Chase'], ['Elle', 'Elem'], ['Trance', 'Former'], ['Geoff', 'Fusion'], ['Dolly', 'Too']]\n",
      "\u001b[0m\n",
      "Thought:\u001b[32;1m\u001b[1;3mThe customers have been sorted by last name and then first name.\n",
      "Final Answer: [['Jen', 'Ayai'], ['Lang', 'Chain'], ['Harrison', 'Chase'], ['Elle', 'Elem'], ['Trance', 'Former'], ['Geoff', 'Fusion'], ['Dolly', 'Too']]\u001b[0m\n",
      "\n",
      "\u001b[1m> Finished chain.\u001b[0m\n"
     ]
    },
    {
     "data": {
      "text/plain": [
       "\"[['Jen', 'Ayai'], ['Lang', 'Chain'], ['Harrison', 'Chase'], ['Elle', 'Elem'], ['Trance', 'Former'], ['Geoff', 'Fusion'], ['Dolly', 'Too']]\""
      ]
     },
     "execution_count": 21,
     "metadata": {},
     "output_type": "execute_result"
    }
   ],
   "source": [
    "agent.run(f\"\"\"Sort these customers by \\\n",
    "last name and then first name \\\n",
    "and print the output: {customer_list}\"\"\") "
   ]
  },
  {
   "cell_type": "markdown",
   "id": "74301295-46d3-42cb-8d72-41e250473169",
   "metadata": {},
   "source": [
    "#### View detailed outputs of the chains"
   ]
  },
  {
   "cell_type": "code",
   "execution_count": 22,
   "id": "bcbc43ec-0f0b-4c95-9674-dc34c6b34dc8",
   "metadata": {},
   "outputs": [
    {
     "name": "stdout",
     "output_type": "stream",
     "text": [
      "\u001b[32;1m\u001b[1;3m[chain/start]\u001b[0m \u001b[1m[chain:AgentExecutor] Entering Chain run with input:\n",
      "\u001b[0m{\n",
      "  \"input\": \"Sort these customers by last name and then first name and print the output: [['Harrison', 'Chase'], ['Lang', 'Chain'], ['Dolly', 'Too'], ['Elle', 'Elem'], ['Geoff', 'Fusion'], ['Trance', 'Former'], ['Jen', 'Ayai']]\"\n",
      "}\n",
      "\u001b[32;1m\u001b[1;3m[chain/start]\u001b[0m \u001b[1m[chain:AgentExecutor > chain:LLMChain] Entering Chain run with input:\n",
      "\u001b[0m{\n",
      "  \"input\": \"Sort these customers by last name and then first name and print the output: [['Harrison', 'Chase'], ['Lang', 'Chain'], ['Dolly', 'Too'], ['Elle', 'Elem'], ['Geoff', 'Fusion'], ['Trance', 'Former'], ['Jen', 'Ayai']]\",\n",
      "  \"agent_scratchpad\": \"\",\n",
      "  \"stop\": [\n",
      "    \"\\nObservation:\",\n",
      "    \"\\n\\tObservation:\"\n",
      "  ]\n",
      "}\n",
      "\u001b[32;1m\u001b[1;3m[llm/start]\u001b[0m \u001b[1m[chain:AgentExecutor > chain:LLMChain > llm:ChatOpenAI] Entering LLM run with input:\n",
      "\u001b[0m{\n",
      "  \"prompts\": [\n",
      "    \"Human: You are an agent designed to write and execute python code to answer questions.\\nYou have access to a python REPL, which you can use to execute python code.\\nIf you get an error, debug your code and try again.\\nOnly use the output of your code to answer the question. \\nYou might know the answer without running any code, but you should still run the code to get the answer.\\nIf it does not seem like you can write code to answer the question, just return \\\"I don't know\\\" as the answer.\\n\\n\\nPython_REPL - A Python shell. Use this to execute python commands. Input should be a valid python command. If you want to see the output of a value, you should print it out with `print(...)`.\\n\\nUse the following format:\\n\\nQuestion: the input question you must answer\\nThought: you should always think about what to do\\nAction: the action to take, should be one of [Python_REPL]\\nAction Input: the input to the action\\nObservation: the result of the action\\n... (this Thought/Action/Action Input/Observation can repeat N times)\\nThought: I now know the final answer\\nFinal Answer: the final answer to the original input question\\n\\nBegin!\\n\\nQuestion: Sort these customers by last name and then first name and print the output: [['Harrison', 'Chase'], ['Lang', 'Chain'], ['Dolly', 'Too'], ['Elle', 'Elem'], ['Geoff', 'Fusion'], ['Trance', 'Former'], ['Jen', 'Ayai']]\\nThought:\"\n",
      "  ]\n",
      "}\n",
      "\u001b[36;1m\u001b[1;3m[llm/end]\u001b[0m \u001b[1m[chain:AgentExecutor > chain:LLMChain > llm:ChatOpenAI] [1.81s] Exiting LLM run with output:\n",
      "\u001b[0m{\n",
      "  \"generations\": [\n",
      "    [\n",
      "      {\n",
      "        \"text\": \"We can use the `sorted()` function in Python to sort the list of customers based on their last name and then first name.\\nAction: Python_REPL\\nAction Input: sorted([['Harrison', 'Chase'], ['Lang', 'Chain'], ['Dolly', 'Too'], ['Elle', 'Elem'], ['Geoff', 'Fusion'], ['Trance', 'Former'], ['Jen', 'Ayai']], key=lambda x: (x[1], x[0]))\",\n",
      "        \"generation_info\": {\n",
      "          \"finish_reason\": \"stop\",\n",
      "          \"logprobs\": null\n",
      "        },\n",
      "        \"type\": \"ChatGeneration\",\n",
      "        \"message\": {\n",
      "          \"lc\": 1,\n",
      "          \"type\": \"constructor\",\n",
      "          \"id\": [\n",
      "            \"langchain\",\n",
      "            \"schema\",\n",
      "            \"messages\",\n",
      "            \"AIMessage\"\n",
      "          ],\n",
      "          \"kwargs\": {\n",
      "            \"content\": \"We can use the `sorted()` function in Python to sort the list of customers based on their last name and then first name.\\nAction: Python_REPL\\nAction Input: sorted([['Harrison', 'Chase'], ['Lang', 'Chain'], ['Dolly', 'Too'], ['Elle', 'Elem'], ['Geoff', 'Fusion'], ['Trance', 'Former'], ['Jen', 'Ayai']], key=lambda x: (x[1], x[0]))\",\n",
      "            \"response_metadata\": {\n",
      "              \"token_usage\": {\n",
      "                \"completion_tokens\": 101,\n",
      "                \"prompt_tokens\": 328,\n",
      "                \"total_tokens\": 429\n",
      "              },\n",
      "              \"model_name\": \"gpt-3.5-turbo\",\n",
      "              \"system_fingerprint\": null,\n",
      "              \"finish_reason\": \"stop\",\n",
      "              \"logprobs\": null\n",
      "            },\n",
      "            \"type\": \"ai\",\n",
      "            \"id\": \"run-c125811b-17c9-44fe-8a3c-8a4c0adea2d7-0\",\n",
      "            \"tool_calls\": [],\n",
      "            \"invalid_tool_calls\": []\n",
      "          }\n",
      "        }\n",
      "      }\n",
      "    ]\n",
      "  ],\n",
      "  \"llm_output\": {\n",
      "    \"token_usage\": {\n",
      "      \"completion_tokens\": 101,\n",
      "      \"prompt_tokens\": 328,\n",
      "      \"total_tokens\": 429\n",
      "    },\n",
      "    \"model_name\": \"gpt-3.5-turbo\",\n",
      "    \"system_fingerprint\": null\n",
      "  },\n",
      "  \"run\": null\n",
      "}\n",
      "\u001b[36;1m\u001b[1;3m[chain/end]\u001b[0m \u001b[1m[chain:AgentExecutor > chain:LLMChain] [1.81s] Exiting Chain run with output:\n",
      "\u001b[0m{\n",
      "  \"text\": \"We can use the `sorted()` function in Python to sort the list of customers based on their last name and then first name.\\nAction: Python_REPL\\nAction Input: sorted([['Harrison', 'Chase'], ['Lang', 'Chain'], ['Dolly', 'Too'], ['Elle', 'Elem'], ['Geoff', 'Fusion'], ['Trance', 'Former'], ['Jen', 'Ayai']], key=lambda x: (x[1], x[0]))\"\n",
      "}\n",
      "\u001b[32;1m\u001b[1;3m[tool/start]\u001b[0m \u001b[1m[chain:AgentExecutor > tool:Python_REPL] Entering Tool run with input:\n",
      "\u001b[0m\"sorted([['Harrison', 'Chase'], ['Lang', 'Chain'], ['Dolly', 'Too'], ['Elle', 'Elem'], ['Geoff', 'Fusion'], ['Trance', 'Former'], ['Jen', 'Ayai']], key=lambda x: (x[1], x[0]))\"\n",
      "\u001b[36;1m\u001b[1;3m[tool/end]\u001b[0m \u001b[1m[chain:AgentExecutor > tool:Python_REPL] [1ms] Exiting Tool run with output:\n",
      "\u001b[0m\"\"\n",
      "\u001b[32;1m\u001b[1;3m[chain/start]\u001b[0m \u001b[1m[chain:AgentExecutor > chain:LLMChain] Entering Chain run with input:\n",
      "\u001b[0m{\n",
      "  \"input\": \"Sort these customers by last name and then first name and print the output: [['Harrison', 'Chase'], ['Lang', 'Chain'], ['Dolly', 'Too'], ['Elle', 'Elem'], ['Geoff', 'Fusion'], ['Trance', 'Former'], ['Jen', 'Ayai']]\",\n",
      "  \"agent_scratchpad\": \"We can use the `sorted()` function in Python to sort the list of customers based on their last name and then first name.\\nAction: Python_REPL\\nAction Input: sorted([['Harrison', 'Chase'], ['Lang', 'Chain'], ['Dolly', 'Too'], ['Elle', 'Elem'], ['Geoff', 'Fusion'], ['Trance', 'Former'], ['Jen', 'Ayai']], key=lambda x: (x[1], x[0]))\\nObservation: \\nThought:\",\n",
      "  \"stop\": [\n",
      "    \"\\nObservation:\",\n",
      "    \"\\n\\tObservation:\"\n",
      "  ]\n",
      "}\n",
      "\u001b[32;1m\u001b[1;3m[llm/start]\u001b[0m \u001b[1m[chain:AgentExecutor > chain:LLMChain > llm:ChatOpenAI] Entering LLM run with input:\n",
      "\u001b[0m{\n",
      "  \"prompts\": [\n",
      "    \"Human: You are an agent designed to write and execute python code to answer questions.\\nYou have access to a python REPL, which you can use to execute python code.\\nIf you get an error, debug your code and try again.\\nOnly use the output of your code to answer the question. \\nYou might know the answer without running any code, but you should still run the code to get the answer.\\nIf it does not seem like you can write code to answer the question, just return \\\"I don't know\\\" as the answer.\\n\\n\\nPython_REPL - A Python shell. Use this to execute python commands. Input should be a valid python command. If you want to see the output of a value, you should print it out with `print(...)`.\\n\\nUse the following format:\\n\\nQuestion: the input question you must answer\\nThought: you should always think about what to do\\nAction: the action to take, should be one of [Python_REPL]\\nAction Input: the input to the action\\nObservation: the result of the action\\n... (this Thought/Action/Action Input/Observation can repeat N times)\\nThought: I now know the final answer\\nFinal Answer: the final answer to the original input question\\n\\nBegin!\\n\\nQuestion: Sort these customers by last name and then first name and print the output: [['Harrison', 'Chase'], ['Lang', 'Chain'], ['Dolly', 'Too'], ['Elle', 'Elem'], ['Geoff', 'Fusion'], ['Trance', 'Former'], ['Jen', 'Ayai']]\\nThought:We can use the `sorted()` function in Python to sort the list of customers based on their last name and then first name.\\nAction: Python_REPL\\nAction Input: sorted([['Harrison', 'Chase'], ['Lang', 'Chain'], ['Dolly', 'Too'], ['Elle', 'Elem'], ['Geoff', 'Fusion'], ['Trance', 'Former'], ['Jen', 'Ayai']], key=lambda x: (x[1], x[0]))\\nObservation: \\nThought:\"\n",
      "  ]\n",
      "}\n",
      "\u001b[36;1m\u001b[1;3m[llm/end]\u001b[0m \u001b[1m[chain:AgentExecutor > chain:LLMChain > llm:ChatOpenAI] [1.14s] Exiting LLM run with output:\n",
      "\u001b[0m{\n",
      "  \"generations\": [\n",
      "    [\n",
      "      {\n",
      "        \"text\": \"I now know the final answer\\nFinal Answer: [['Jen', 'Ayai'], ['Harrison', 'Chase'], ['Lang', 'Chain'], ['Elle', 'Elem'], ['Geoff', 'Fusion'], ['Trance', 'Former'], ['Dolly', 'Too']]\",\n",
      "        \"generation_info\": {\n",
      "          \"finish_reason\": \"stop\",\n",
      "          \"logprobs\": null\n",
      "        },\n",
      "        \"type\": \"ChatGeneration\",\n",
      "        \"message\": {\n",
      "          \"lc\": 1,\n",
      "          \"type\": \"constructor\",\n",
      "          \"id\": [\n",
      "            \"langchain\",\n",
      "            \"schema\",\n",
      "            \"messages\",\n",
      "            \"AIMessage\"\n",
      "          ],\n",
      "          \"kwargs\": {\n",
      "            \"content\": \"I now know the final answer\\nFinal Answer: [['Jen', 'Ayai'], ['Harrison', 'Chase'], ['Lang', 'Chain'], ['Elle', 'Elem'], ['Geoff', 'Fusion'], ['Trance', 'Former'], ['Dolly', 'Too']]\",\n",
      "            \"response_metadata\": {\n",
      "              \"token_usage\": {\n",
      "                \"completion_tokens\": 61,\n",
      "                \"prompt_tokens\": 435,\n",
      "                \"total_tokens\": 496\n",
      "              },\n",
      "              \"model_name\": \"gpt-3.5-turbo\",\n",
      "              \"system_fingerprint\": null,\n",
      "              \"finish_reason\": \"stop\",\n",
      "              \"logprobs\": null\n",
      "            },\n",
      "            \"type\": \"ai\",\n",
      "            \"id\": \"run-be8b8ead-2b39-403f-8276-8f3fc03629c9-0\",\n",
      "            \"tool_calls\": [],\n",
      "            \"invalid_tool_calls\": []\n",
      "          }\n",
      "        }\n",
      "      }\n",
      "    ]\n",
      "  ],\n",
      "  \"llm_output\": {\n",
      "    \"token_usage\": {\n",
      "      \"completion_tokens\": 61,\n",
      "      \"prompt_tokens\": 435,\n",
      "      \"total_tokens\": 496\n",
      "    },\n",
      "    \"model_name\": \"gpt-3.5-turbo\",\n",
      "    \"system_fingerprint\": null\n",
      "  },\n",
      "  \"run\": null\n",
      "}\n",
      "\u001b[36;1m\u001b[1;3m[chain/end]\u001b[0m \u001b[1m[chain:AgentExecutor > chain:LLMChain] [1.14s] Exiting Chain run with output:\n",
      "\u001b[0m{\n",
      "  \"text\": \"I now know the final answer\\nFinal Answer: [['Jen', 'Ayai'], ['Harrison', 'Chase'], ['Lang', 'Chain'], ['Elle', 'Elem'], ['Geoff', 'Fusion'], ['Trance', 'Former'], ['Dolly', 'Too']]\"\n",
      "}\n",
      "\u001b[36;1m\u001b[1;3m[chain/end]\u001b[0m \u001b[1m[chain:AgentExecutor] [2.97s] Exiting Chain run with output:\n",
      "\u001b[0m{\n",
      "  \"output\": \"[['Jen', 'Ayai'], ['Harrison', 'Chase'], ['Lang', 'Chain'], ['Elle', 'Elem'], ['Geoff', 'Fusion'], ['Trance', 'Former'], ['Dolly', 'Too']]\"\n",
      "}\n"
     ]
    }
   ],
   "source": [
    "import langchain\n",
    "langchain.debug=True\n",
    "agent.run(f\"\"\"Sort these customers by \\\n",
    "last name and then first name \\\n",
    "and print the output: {customer_list}\"\"\") \n",
    "langchain.debug=False"
   ]
  },
  {
   "cell_type": "markdown",
   "id": "0a0a2001-518f-4ee4-bca3-ca932bdea37e",
   "metadata": {},
   "source": [
    "## Define your own tool"
   ]
  },
  {
   "cell_type": "code",
   "execution_count": 23,
   "id": "42a17b3b-3ab0-413e-ac1b-effa4e0feb4b",
   "metadata": {},
   "outputs": [],
   "source": [
    "from langchain.agents import tool\n",
    "from datetime import date"
   ]
  },
  {
   "cell_type": "code",
   "execution_count": 24,
   "id": "eeadb92b-4b73-4b46-aecf-9e927534147e",
   "metadata": {},
   "outputs": [],
   "source": [
    "@tool\n",
    "def time(text: str) -> str:\n",
    "    \"\"\"Returns todays date, use this for any \\\n",
    "    questions related to knowing todays date. \\\n",
    "    The input should always be an empty string, \\\n",
    "    and this function will always return todays \\\n",
    "    date - any date mathmatics should occur \\\n",
    "    outside this function.\"\"\"\n",
    "    return str(date.today())"
   ]
  },
  {
   "cell_type": "code",
   "execution_count": 25,
   "id": "517c4563-36cb-4754-80cc-4348d13fcb6c",
   "metadata": {},
   "outputs": [],
   "source": [
    "agent= initialize_agent(\n",
    "    tools + [time], \n",
    "    llm, \n",
    "    agent=AgentType.CHAT_ZERO_SHOT_REACT_DESCRIPTION,\n",
    "    handle_parsing_errors=True,\n",
    "    verbose = True)"
   ]
  },
  {
   "cell_type": "code",
   "execution_count": 26,
   "id": "1b56095c-1a00-4d4a-9247-2cf557db242f",
   "metadata": {},
   "outputs": [
    {
     "name": "stdout",
     "output_type": "stream",
     "text": [
      "\n",
      "\n",
      "\u001b[1m> Entering new AgentExecutor chain...\u001b[0m\n",
      "\u001b[32;1m\u001b[1;3mThought: I should use the `time` tool to get today's date.\n",
      "Action:\n",
      "```\n",
      "{\n",
      "  \"action\": \"time\",\n",
      "  \"action_input\": \"\"\n",
      "}\n",
      "```\n",
      "\u001b[0m\n",
      "Observation: \u001b[38;5;200m\u001b[1;3m2024-06-13\u001b[0m\n",
      "Thought:\u001b[32;1m\u001b[1;3mFinal Answer: 2024-06-13\u001b[0m\n",
      "\n",
      "\u001b[1m> Finished chain.\u001b[0m\n"
     ]
    }
   ],
   "source": [
    "try:\n",
    "    result = agent(\"whats the date today?\") \n",
    "except: \n",
    "    print(\"exception on external access\")"
   ]
  },
  {
   "cell_type": "code",
   "execution_count": null,
   "id": "b6e1fd15-ebdc-43c6-ac67-bee5e9a84d2d",
   "metadata": {},
   "outputs": [],
   "source": []
  }
 ],
 "metadata": {
  "kernelspec": {
   "display_name": "Python 3 (ipykernel)",
   "language": "python",
   "name": "python3"
  },
  "language_info": {
   "codemirror_mode": {
    "name": "ipython",
    "version": 3
   },
   "file_extension": ".py",
   "mimetype": "text/x-python",
   "name": "python",
   "nbconvert_exporter": "python",
   "pygments_lexer": "ipython3",
   "version": "3.10.14"
  }
 },
 "nbformat": 4,
 "nbformat_minor": 5
}
