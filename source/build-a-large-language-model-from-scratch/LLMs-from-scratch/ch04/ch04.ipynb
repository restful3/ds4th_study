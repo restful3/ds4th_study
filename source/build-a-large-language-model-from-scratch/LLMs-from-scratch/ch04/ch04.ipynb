{
 "cells": [
  {
   "cell_type": "markdown",
   "id": "08f4321d-d32a-4a90-bfc7-e923f316b2f8",
   "metadata": {},
   "source": [
    "<table style=\"width:100%\">\n",
    "<tr>\n",
    "<td style=\"vertical-align:middle; text-align:left;\">\n",
    "<font size=\"2\">\n",
    "Sebastian Raschka의 도서 <a href=\"http://mng.bz/orYv\">Build a Large Language Model From Scratch</a>를 위한 보조 코드입니다.<br>\n",
    "<br>코드 저장소: <a href=\"https://github.com/rasbt/LLMs-from-scratch\">https://github.com/rasbt/LLMs-from-scratch</a>\n",
    "</font>\n",
    "</td>\n",
    "<td style=\"vertical-align:middle; text-align:left;\">\n",
    "<a href=\"http://mng.bz/orYv\"><img src=\"https://sebastianraschka.com/images/LLMs-from-scratch-images/cover-small.webp\" width=\"100px\"></a>\n",
    "</td>\n",
    "</tr>\n",
    "</table>"
   ]
  },
  {
   "cell_type": "markdown",
   "id": "ce9295b2-182b-490b-8325-83a67c4a001d",
   "metadata": {},
   "source": [
    "# 4장: 텍스트 생성을 위한 GPT 모델 직접 구현"
   ]
  },
  {
   "cell_type": "code",
   "execution_count": 12,
   "id": "4637a3e3",
   "metadata": {},
   "outputs": [
    {
     "name": "stdout",
     "output_type": "stream",
     "text": [
      "matplotlib version: 3.10.7\n",
      "torch version: 2.9.0\n",
      "tiktoken version: 0.12.0\n"
     ]
    }
   ],
   "source": [
    "from importlib.metadata import version\n",
    "\n",
    "print(\"matplotlib version:\", version(\"matplotlib\"))\n",
    "print(\"torch version:\", version(\"torch\"))\n",
    "print(\"tiktoken version:\", version(\"tiktoken\"))"
   ]
  },
  {
   "cell_type": "markdown",
   "id": "e7da97ed-e02f-4d7f-b68e-a0eba3716e02",
   "metadata": {},
   "source": [
    "- 이번 장에서는 GPT와 유사한 LLM 아키텍처를 구현하고, 다음 장에서는 이 LLM 학습에 집중합니다"
   ]
  },
  {
   "cell_type": "markdown",
   "id": "7d4f11e0-4434-4979-9dee-e1207df0eb01",
   "metadata": {},
   "source": [
    "<img src=\"https://sebastianraschka.com/images/LLMs-from-scratch-images/ch04_compressed/01.webp\" width=\"500px\">"
   ]
  },
  {
   "cell_type": "markdown",
   "id": "53fe99ab-0bcf-4778-a6b5-6db81fb826ef",
   "metadata": {},
   "source": [
    "## 4.1 LLM 아키텍처 코딩하기"
   ]
  },
  {
   "cell_type": "markdown",
   "id": "ad72d1ff-d82d-4e33-a88e-3c1a8831797b",
   "metadata": {},
   "source": [
    "- 1장에서는 GPT와 Llama 같은 모델이 원래 트랜스포머 구조의 디코더 부분을 기반으로 하여 단어를 순차적으로 생성한다고 설명했습니다\n",
    "- 따라서 이러한 LLM을 흔히 \"디코더 기반\" LLM이라고 부릅니다\n",
    "- 전통적인 딥러닝 모델과 달리 LLM이 거대한 이유는 코드 양이 아니라 방대한 파라미터 수 때문입니다\n",
    "- LLM 아키텍처에서는 동일한 구성 요소가 여러 번 반복되는 모습을 자주 보게 될 것입니다"
   ]
  },
  {
   "cell_type": "markdown",
   "id": "5c5213e9-bd1c-437e-aee8-f5e8fb717251",
   "metadata": {},
   "source": [
    "<img src=\"https://sebastianraschka.com/images/LLMs-from-scratch-images/ch04_compressed/02.webp\" width=\"800px\">"
   ]
  },
  {
   "cell_type": "markdown",
   "id": "0d43f5e2-fb51-434a-b9be-abeef6b98d99",
   "metadata": {},
   "source": [
    "- 앞 장들에서는 설명을 쉽게 하기 위해 입력과 출력 토큰의 임베딩 차원을 작게 설정해 도식이 한 페이지에 들어가도록 했습니다\n",
    "- 이번 장에서는 소형 GPT-2 모델에 가까운 임베딩과 모델 크기를 다룹니다\n",
    "- Radford 등의 [Language Models are Unsupervised Multitask Learners](https://cdn.openai.com/better-language-models/language_models_are_unsupervised_multitask_learners.pdf) 논문에 제시된 가장 작은 GPT-2 모델(파라미터 1억 2,400만 개)의 아키텍처를 직접 구현합니다. (초기 보고에는 1억 1,700만 개라고 적혀 있었지만, 이후 모델 가중치 저장소에서 수정되었습니다.)\n",
    "- 6장에서는 본 구현에 사전 학습된 가중치를 불러오는 방법을 다루며, 345M·762M·1542M 파라미터 모델 크기와도 호환될 예정입니다"
   ]
  },
  {
   "cell_type": "markdown",
   "id": "21baa14d-24b8-4820-8191-a2808f7fbabc",
   "metadata": {},
   "source": [
    "- 1억 2,400만 개 파라미터를 가진 GPT-2 모델의 구성은 다음과 같습니다:"
   ]
  },
  {
   "cell_type": "code",
   "execution_count": 13,
   "id": "5ed66875-1f24-445d-add6-006aae3c5707",
   "metadata": {},
   "outputs": [],
   "source": [
    "GPT_CONFIG_124M = {\n",
    "    \"vocab_size\": 50257,    # 어휘 크기\n",
    "    \"context_length\": 1024, # 컨텍스트 길이\n",
    "    \"emb_dim\": 768,         # 임베딩 차원\n",
    "    \"n_heads\": 12,          # 어텐션 헤드 수\n",
    "    \"n_layers\": 12,         # 레이어 개수\n",
    "    \"drop_rate\": 0.1,       # 드롭아웃 비율\n",
    "    \"qkv_bias\": False       # 쿼리·키·밸류 바이어스 사용 여부\n",
    "}"
   ]
  },
  {
   "cell_type": "markdown",
   "id": "c12fcd28-d210-4c57-8be6-06cfcd5d73a4",
   "metadata": {},
   "source": [
    "- 이후 코드가 길어지는 것을 막기 위해 변수 이름을 짧게 사용합니다\n",
    "- `\"vocab_size\"`는 2장에서 다룬 BPE 토크나이저가 지원하는 50,257개 어휘 크기를 의미합니다\n",
    "- `\"context_length\"`는 2장에서 소개한 위치 임베딩 덕분에 모델이 한 번에 처리할 수 있는 최대 입력 토큰 수를 뜻합니다\n",
    "- `\"emb_dim\"`은 각 입력 토큰을 768차원 벡터로 변환하는 임베딩 크기입니다\n",
    "- `\"n_heads\"`는 3장에서 구현한 멀티헤드 어텐션의 헤드 개수입니다\n",
    "- `\"n_layers\"`는 모델 안에 있는 트랜스포머 블록 개수이며, 다음 절에서 구현합니다\n",
    "- `\"drop_rate\"`는 3장에서 다룬 드롭아웃의 강도를 뜻하며, 0.1은 학습 중 은닉 유닛의 10%를 꺼 과적합을 줄인다는 의미입니다\n",
    "- `\"qkv_bias\"`는 3장에서 구현한 멀티헤드 어텐션의 `Linear` 계층이 쿼리(Q)·키(K)·밸류(V) 텐서를 계산할 때 바이어스 벡터를 사용할지 여부를 결정합니다. 현대 LLM에서는 보통 비활성화하며, 5장에서 OpenAI의 GPT-2 사전 학습 가중치를 불러올 때 다시 살펴보겠습니다"
   ]
  },
  {
   "cell_type": "markdown",
   "id": "4adce779-857b-4418-9501-12a7f3818d88",
   "metadata": {},
   "source": [
    "<img src=\"https://sebastianraschka.com/images/LLMs-from-scratch-images/ch04_compressed/03.webp\" width=\"800px\">"
   ]
  },
  {
   "cell_type": "code",
   "execution_count": null,
   "id": "619c2eed-f8ea-4ff5-92c3-feda0f29b227",
   "metadata": {},
   "outputs": [],
   "source": [
    "import torch\n",
    "import torch.nn as nn\n",
    "\n",
    "\n",
    "class DummyGPTModel(nn.Module):\n",
    "    def __init__(self, cfg):\n",
    "        super().__init__()\n",
    "        # 토큰 임베딩 계층: 각 토큰을 emb_dim 차원의 벡터로 변환\n",
    "        self.tok_emb = nn.Embedding(cfg[\"vocab_size\"], cfg[\"emb_dim\"])\n",
    "        # 위치 임베딩 계층: 각 위치를 emb_dim 차원의 벡터로 변환\n",
    "        self.pos_emb = nn.Embedding(cfg[\"context_length\"], cfg[\"emb_dim\"])\n",
    "        # 드롭아웃 계층: 과적합 방지를 위해 일부 뉴런을 비활성화\n",
    "        self.drop_emb = nn.Dropout(cfg[\"drop_rate\"])\n",
    "        \n",
    "        # n_layers개의 트랜스포머 블록을 순차적으로 연결\n",
    "        self.trf_blocks = nn.Sequential(\n",
    "            *[DummyTransformerBlock(cfg) for _ in range(cfg[\"n_layers\"])])\n",
    "        \n",
    "        # 최종 정규화 계층\n",
    "        self.final_norm = DummyLayerNorm(cfg[\"emb_dim\"])\n",
    "        # 출력 헤드: 임베딩을 vocab_size 크기의 로짓으로 변환\n",
    "        self.out_head = nn.Linear(\n",
    "            cfg[\"emb_dim\"], cfg[\"vocab_size\"], bias=False\n",
    "        )\n",
    "\n",
    "    def forward(self, in_idx):\n",
    "        # 입력 텐서의 배치 크기와 시퀀스 길이를 가져옴\n",
    "        batch_size, seq_len = in_idx.shape\n",
    "        # 토큰 임베딩 계산\n",
    "        tok_embeds = self.tok_emb(in_idx)\n",
    "        # 위치 임베딩 계산 (0부터 seq_len-1까지의 위치)\n",
    "        pos_embeds = self.pos_emb(torch.arange(seq_len, device=in_idx.device))\n",
    "        # 토큰 임베딩과 위치 임베딩을 더함\n",
    "        x = tok_embeds + pos_embeds\n",
    "        # 드롭아웃 적용\n",
    "        x = self.drop_emb(x)\n",
    "        # 트랜스포머 블록들을 통과\n",
    "        x = self.trf_blocks(x)\n",
    "        # 최종 정규화 적용\n",
    "        x = self.final_norm(x)\n",
    "        # 출력 로짓 계산\n",
    "        logits = self.out_head(x)\n",
    "        return logits\n",
    "\n",
    "\n",
    "class DummyTransformerBlock(nn.Module):\n",
    "    def __init__(self, cfg):\n",
    "        super().__init__()\n",
    "        # 실제 구현은 나중에 할 예정인 더미 트랜스포머 블록\n",
    "\n",
    "    def forward(self, x):\n",
    "        # 현재는 입력을 그대로 출력하는 패스스루 구현\n",
    "        return x\n",
    "\n",
    "\n",
    "class DummyLayerNorm(nn.Module):\n",
    "    def __init__(self, normalized_shape, eps=1e-5):\n",
    "        super().__init__()\n",
    "        # 실제 LayerNorm 구현을 위한 인터페이스 파라미터\n",
    "\n",
    "    def forward(self, x):\n",
    "        # 현재는 입력을 그대로 출력하는 패스스루 구현\n",
    "        return x"
   ]
  },
  {
   "cell_type": "markdown",
   "id": "9665e8ab-20ca-4100-b9b9-50d9bdee33be",
   "metadata": {},
   "source": [
    "<img src=\"https://sebastianraschka.com/images/LLMs-from-scratch-images/ch04_compressed/04.webp?123\" width=\"800px\">"
   ]
  },
  {
   "cell_type": "code",
   "execution_count": null,
   "id": "794b6b6c-d36f-411e-a7db-8ac566a87fee",
   "metadata": {},
   "outputs": [
    {
     "name": "stdout",
     "output_type": "stream",
     "text": [
      "tensor([[6109, 3626, 6100,  345],\n",
      "        [6109, 1110, 6622,  257]])\n"
     ]
    }
   ],
   "source": [
    "# tiktoken 라이브러리를 임포트합니다\n",
    "import tiktoken\n",
    "\n",
    "# GPT-2 토크나이저를 가져옵니다\n",
    "tokenizer = tiktoken.get_encoding(\"gpt2\")\n",
    "\n",
    "# 배치를 저장할 빈 리스트를 생성합니다\n",
    "batch = []\n",
    "\n",
    "# 토큰화할 두 개의 텍스트 문장을 정의합니다\n",
    "txt1 = \"Every effort moves you\"\n",
    "txt2 = \"Every day holds a\"\n",
    "\n",
    "# 각 문장을 토큰화하고 텐서로 변환하여 배치에 추가합니다\n",
    "batch.append(torch.tensor(tokenizer.encode(txt1)))\n",
    "batch.append(torch.tensor(tokenizer.encode(txt2)))\n",
    "\n",
    "# 배치의 텐서들을 하나의 2D 텐서로 쌓습니다\n",
    "batch = torch.stack(batch, dim=0)\n",
    "\n",
    "# 결과 배치 텐서를 출력합니다\n",
    "print(batch)"
   ]
  },
  {
   "cell_type": "code",
   "execution_count": null,
   "id": "009238cd-0160-4834-979c-309710986bb0",
   "metadata": {},
   "outputs": [
    {
     "name": "stdout",
     "output_type": "stream",
     "text": [
      "Output shape: torch.Size([2, 4, 50257])\n",
      "tensor([[[-1.2034,  0.3201, -0.7130,  ..., -1.5548, -0.2390, -0.4667],\n",
      "         [-0.1192,  0.4539, -0.4432,  ...,  0.2392,  1.3469,  1.2430],\n",
      "         [ 0.5307,  1.6720, -0.4695,  ...,  1.1966,  0.0111,  0.5835],\n",
      "         [ 0.0139,  1.6755, -0.3388,  ...,  1.1586, -0.0435, -1.0400]],\n",
      "\n",
      "        [[-1.0908,  0.1798, -0.9484,  ..., -1.6047,  0.2439, -0.4530],\n",
      "         [-0.7860,  0.5581, -0.0610,  ...,  0.4835, -0.0077,  1.6621],\n",
      "         [ 0.3567,  1.2698, -0.6398,  ..., -0.0162, -0.1296,  0.3717],\n",
      "         [-0.2407, -0.7349, -0.5102,  ...,  2.0057, -0.3694,  0.1814]]],\n",
      "       grad_fn=<UnsafeViewBackward0>)\n"
     ]
    }
   ],
   "source": [
    "# 재현성을 위해 난수 시드를 설정합니다\n",
    "torch.manual_seed(123)\n",
    "\n",
    "# 124M 파라미터 설정으로 더미 GPT 모델을 초기화합니다\n",
    "model = DummyGPTModel(GPT_CONFIG_124M)\n",
    "\n",
    "# 배치를 모델에 통과시켜 로짓을 얻습니다\n",
    "logits = model(batch)\n",
    "\n",
    "# 출력 텐서의 형태와 값을 출력합니다\n",
    "print(\"Output shape:\", logits.shape)\n",
    "print(logits)"
   ]
  },
  {
   "cell_type": "markdown",
   "id": "f8fad0fe-895d-4493-9e48-962e2d46c66f",
   "metadata": {},
   "source": [
    "---\n",
    "\n",
    "**노트**\n",
    "\n",
    "- Windows나 Linux에서 이 코드를 실행하면 아래와 같은 값이 출력될 수 있습니다:\n",
    "\n",
    "```\n",
    "Output shape: torch.Size([2, 4, 50257])\n",
    "tensor([[[-0.9289,  0.2748, -0.7557,  ..., -1.6070,  0.2702, -0.5888],\n",
    "         [-0.4476,  0.1726,  0.5354,  ..., -0.3932,  1.5285,  0.8557],\n",
    "         [ 0.5680,  1.6053, -0.2155,  ...,  1.1624,  0.1380,  0.7425],\n",
    "         [ 0.0447,  2.4787, -0.8843,  ...,  1.3219, -0.0864, -0.5856]],\n",
    "\n",
    "        [[-1.5474, -0.0542, -1.0571,  ..., -1.8061, -0.4494, -0.6747],\n",
    "         [-0.8422,  0.8243, -0.1098,  ..., -0.1434,  0.2079,  1.2046],\n",
    "         [ 0.1355,  1.1858, -0.1453,  ...,  0.0869, -0.1590,  0.1552],\n",
    "         [ 0.1666, -0.8138,  0.2307,  ...,  2.5035, -0.3055, -0.3083]]],\n",
    "       grad_fn=<UnsafeViewBackward0>)\n",
    "```\n",
    "\n",
    "- 무작위 값일 뿐이므로 걱정하지 않아도 되며, 이어지는 내용을 그대로 진행하면 됩니다\n",
    "- 이런 차이는 PyTorch 컴파일 방식에 따라 운영체제별로 `nn.Dropout`의 동작이 달라서 발생할 수 있으며, 자세한 내용은 [PyTorch 이슈 트래커](https://github.com/pytorch/pytorch/issues/121595)에서 확인할 수 있습니다\n",
    "\n",
    "---"
   ]
  },
  {
   "cell_type": "markdown",
   "id": "f8332a00-98da-4eb4-b882-922776a89917",
   "metadata": {},
   "source": [
    "## 4.2 레이어 정규화를 이용한 활성값 정규화"
   ]
  },
  {
   "cell_type": "markdown",
   "id": "066cfb81-d59b-4d95-afe3-e43cf095f292",
   "metadata": {},
   "source": [
    "- 레이어 정규화(레이어노름, [Ba et al. 2016](https://arxiv.org/abs/1607.06450))는 신경망 층의 활성값을 평균 0, 분산 1로 맞춥니다\n",
    "- 이를 통해 학습이 안정되고 효과적인 가중치에 더 빠르게 수렴할 수 있습니다\n",
    "- 레이어 정규화는 이후 구현할 트랜스포머 블록에서 멀티헤드 어텐션 모듈 앞뒤에 적용되며, 최종 출력층 앞에서도 사용됩니다"
   ]
  },
  {
   "cell_type": "markdown",
   "id": "314ac47a-69cc-4597-beeb-65bed3b5910f",
   "metadata": {},
   "source": [
    "<img src=\"https://sebastianraschka.com/images/LLMs-from-scratch-images/ch04_compressed/05.webp\" width=\"800px\">"
   ]
  },
  {
   "cell_type": "markdown",
   "id": "5ab49940-6b35-4397-a80e-df8d092770a7",
   "metadata": {},
   "source": [
    "- 작은 입력 예시를 간단한 신경망 층에 통과시켜 레이어 정규화가 어떻게 동작하는지 살펴보겠습니다"
   ]
  },
  {
   "cell_type": "code",
   "execution_count": 17,
   "id": "79e1b463-dc3f-44ac-9cdb-9d5b6f64eb9d",
   "metadata": {},
   "outputs": [
    {
     "name": "stdout",
     "output_type": "stream",
     "text": [
      "tensor([[0.2260, 0.3470, 0.0000, 0.2216, 0.0000, 0.0000],\n",
      "        [0.2133, 0.2394, 0.0000, 0.5198, 0.3297, 0.0000]],\n",
      "       grad_fn=<ReluBackward0>)\n"
     ]
    }
   ],
   "source": [
    "torch.manual_seed(123)\n",
    "\n",
    "# 특성 5개를 가진 학습 예시 2개 생성\n",
    "batch_example = torch.randn(2, 5) \n",
    "\n",
    "layer = nn.Sequential(nn.Linear(5, 6), nn.ReLU())\n",
    "out = layer(batch_example)\n",
    "print(out)"
   ]
  },
  {
   "cell_type": "markdown",
   "id": "8fccc29e-71fc-4c16-898c-6137c6ea5d2e",
   "metadata": {},
   "source": [
    "- 위의 두 입력 각각에 대해 평균과 분산을 계산해 봅시다"
   ]
  },
  {
   "cell_type": "code",
   "execution_count": 18,
   "id": "9888f79e-8e69-44aa-8a19-cd34292adbf5",
   "metadata": {},
   "outputs": [
    {
     "name": "stdout",
     "output_type": "stream",
     "text": [
      "Mean:\n",
      " tensor([[0.1324],\n",
      "        [0.2170]], grad_fn=<MeanBackward1>)\n",
      "Variance:\n",
      " tensor([[0.0231],\n",
      "        [0.0398]], grad_fn=<VarBackward0>)\n"
     ]
    }
   ],
   "source": [
    "mean = out.mean(dim=-1, keepdim=True)\n",
    "var = out.var(dim=-1, keepdim=True)\n",
    "\n",
    "print(\"Mean:\\n\", mean)\n",
    "print(\"Variance:\\n\", var)"
   ]
  },
  {
   "cell_type": "markdown",
   "id": "052eda3e-b395-48c4-acd4-eb8083bab958",
   "metadata": {},
   "source": [
    "- 정규화는 두 입력(각 행)에 독립적으로 적용됩니다. `dim=-1`을 사용하면 행 차원 대신 마지막 차원(여기서는 특성 차원)을 따라 계산합니다"
   ]
  },
  {
   "cell_type": "markdown",
   "id": "570db83a-205c-4f6f-b219-1f6195dde1a7",
   "metadata": {},
   "source": [
    "<img src=\"https://sebastianraschka.com/images/LLMs-from-scratch-images/ch04_compressed/06.webp\" width=\"800px\">"
   ]
  },
  {
   "cell_type": "markdown",
   "id": "9f8ecbc7-eb14-4fa1-b5d0-7e1ff9694f99",
   "metadata": {},
   "source": [
    "- 평균을 빼고 분산(표준편차의 제곱근)으로 나누면 열(특성) 차원에서 평균 0, 분산 1이 되도록 값을 가운데 맞출 수 있습니다"
   ]
  },
  {
   "cell_type": "code",
   "execution_count": null,
   "id": "9a1d1bb9-3341-4c9a-bc2a-d2489bf89cda",
   "metadata": {},
   "outputs": [
    {
     "name": "stdout",
     "output_type": "stream",
     "text": [
      "Normalized layer outputs:\n",
      " tensor([[ 0.6159,  1.4126, -0.8719,  0.5872, -0.8719, -0.8719],\n",
      "        [-0.0189,  0.1121, -1.0876,  1.5173,  0.5647, -1.0876]],\n",
      "       grad_fn=<DivBackward0>)\n",
      "Mean:\n",
      " tensor([[0.0000],\n",
      "        [0.0000]], grad_fn=<MeanBackward1>)\n",
      "Variance:\n",
      " tensor([[1.0000],\n",
      "        [1.0000]], grad_fn=<VarBackward0>)\n"
     ]
    }
   ],
   "source": [
    "# 평균을 빼고 분산의 제곱근으로 나누어 정규화\n",
    "out_norm = (out - mean) / torch.sqrt(var)\n",
    "print(\"Normalized layer outputs:\\n\", out_norm)\n",
    "\n",
    "# 정규화된 출력의 평균과 분산 계산\n",
    "mean = out_norm.mean(dim=-1, keepdim=True)\n",
    "var = out_norm.var(dim=-1, keepdim=True)\n",
    "print(\"Mean:\\n\", mean)\n",
    "print(\"Variance:\\n\", var)"
   ]
  },
  {
   "cell_type": "markdown",
   "id": "ac62b90c-7156-4979-9a79-ce1fb92969c1",
   "metadata": {},
   "source": [
    "- 각 입력은 평균 0, 분산 1로 정규화됩니다. 가독성을 위해 PyTorch의 과학적 표기법을 끌 수 있습니다"
   ]
  },
  {
   "cell_type": "code",
   "execution_count": 20,
   "id": "3e06c34b-c68a-4b36-afbe-b30eda4eca39",
   "metadata": {},
   "outputs": [
    {
     "name": "stdout",
     "output_type": "stream",
     "text": [
      "Mean:\n",
      " tensor([[0.0000],\n",
      "        [0.0000]], grad_fn=<MeanBackward1>)\n",
      "Variance:\n",
      " tensor([[1.0000],\n",
      "        [1.0000]], grad_fn=<VarBackward0>)\n"
     ]
    }
   ],
   "source": [
    "torch.set_printoptions(sci_mode=False)\n",
    "print(\"Mean:\\n\", mean)\n",
    "print(\"Variance:\\n\", var)"
   ]
  },
  {
   "cell_type": "markdown",
   "id": "944fb958-d4ed-43cc-858d-00052bb6b31a",
   "metadata": {},
   "source": [
    "- 위에서는 각 입력의 특성을 정규화했습니다\n",
    "- 같은 아이디어로 `LayerNorm` 클래스를 직접 구현해 보겠습니다"
   ]
  },
  {
   "cell_type": "code",
   "execution_count": null,
   "id": "3333a305-aa3d-460a-bcce-b80662d464d9",
   "metadata": {},
   "outputs": [],
   "source": [
    "class LayerNorm(nn.Module):\n",
    "    def __init__(self, emb_dim):\n",
    "        \"\"\"\n",
    "        레이어 정규화를 수행하는 클래스\n",
    "        \n",
    "        Args:\n",
    "            emb_dim: 임베딩 차원 크기\n",
    "        \"\"\"\n",
    "        super().__init__()\n",
    "        self.eps = 1e-5  # 0으로 나누는 것을 방지하기 위한 작은 값\n",
    "        self.scale = nn.Parameter(torch.ones(emb_dim))  # 학습 가능한 스케일 파라미터\n",
    "        self.shift = nn.Parameter(torch.zeros(emb_dim))  # 학습 가능한 시프트 파라미터\n",
    "\n",
    "    def forward(self, x):\n",
    "        \"\"\"\n",
    "        입력 텐서에 레이어 정규화를 적용\n",
    "        \n",
    "        Args:\n",
    "            x: 입력 텐서\n",
    "            \n",
    "        Returns:\n",
    "            정규화된 출력 텐서\n",
    "        \"\"\"\n",
    "        mean = x.mean(dim=-1, keepdim=True)  # 마지막 차원의 평균 계산\n",
    "        var = x.var(dim=-1, keepdim=True, unbiased=False)  # 편향된 분산 계산\n",
    "        norm_x = (x - mean) / torch.sqrt(var + self.eps)  # 정규화 수행\n",
    "        return self.scale * norm_x + self.shift  # 스케일과 시프트 적용"
   ]
  },
  {
   "cell_type": "markdown",
   "id": "e56c3908-7544-4808-b8cb-5d0a55bcca72",
   "metadata": {},
   "source": [
    "**스케일과 시프트**\n",
    "\n",
    "- 평균을 빼고 분산으로 나누는 정규화 외에 `scale`과 `shift`라는 두 개의 학습 가능한 파라미터를 추가했습니다\n",
    "- 초기값 `scale`=1, `shift`=0은 출력에 영향을 주지 않지만, 학습 과정에서 LLM이 필요하다고 판단하면 이 값을 조정해 성능을 높일 수 있습니다\n",
    "- 즉, 모델이 데이터에 가장 알맞은 스케일링과 시프트를 학습할 수 있게 해 줍니다\n",
    "- 또한 분산이 0일 때 0으로 나누는 오류를 피하려고 제곱근을 계산하기 전에 작은 값(`eps`)을 더합니다\n",
    "\n",
    "**편향된 분산(biased variance)**\n",
    "\n",
    "- 위 분산 계산에서 `unbiased=False`로 두면 표본 크기 n(여기서는 특성 수 또는 열 수)을 분모로 사용하는 $\\frac{\\sum_i (x_i - \\bar{x})^2}{n}$ 공식을 사용하게 됩니다. 이는 분모에 `n-1`을 쓰는 벨셀 보정을 적용하지 않으므로 분산의 편향 추정치를 제공합니다 \n",
    "- LLM처럼 임베딩 차원 `n`이 매우 큰 경우 `n`과 `n-1`의 차이는 사실상 무시할 수 있습니다\n",
    "- GPT-2도 정규화 층에서 편향된 분산을 사용했기 때문에, 이후 장에서 불러올 사전 학습 가중치와 호환되도록 동일한 설정을 채택했습니다\n",
    "\n",
    "\n",
    "이제 `LayerNorm`을 직접 활용해 보겠습니다:"
   ]
  },
  {
   "cell_type": "code",
   "execution_count": 22,
   "id": "23b1000a-e613-4b43-bd90-e54deed8d292",
   "metadata": {},
   "outputs": [],
   "source": [
    "ln = LayerNorm(emb_dim=5)\n",
    "out_ln = ln(batch_example)"
   ]
  },
  {
   "cell_type": "code",
   "execution_count": 23,
   "id": "94c12de2-1cab-46e0-a099-e2e470353bff",
   "metadata": {},
   "outputs": [
    {
     "name": "stdout",
     "output_type": "stream",
     "text": [
      "Mean:\n",
      " tensor([[-0.0000],\n",
      "        [ 0.0000]], grad_fn=<MeanBackward1>)\n",
      "Variance:\n",
      " tensor([[1.0000],\n",
      "        [1.0000]], grad_fn=<VarBackward0>)\n"
     ]
    }
   ],
   "source": [
    "mean = out_ln.mean(dim=-1, keepdim=True)\n",
    "var = out_ln.var(dim=-1, unbiased=False, keepdim=True)\n",
    "\n",
    "print(\"Mean:\\n\", mean)\n",
    "print(\"Variance:\\n\", var)"
   ]
  },
  {
   "cell_type": "markdown",
   "id": "e136cfc4-7c89-492e-b120-758c272bca8c",
   "metadata": {},
   "source": [
    "<img src=\"https://sebastianraschka.com/images/LLMs-from-scratch-images/ch04_compressed/07.webp\" width=\"800px\">"
   ]
  },
  {
   "cell_type": "markdown",
   "id": "11190e7d-8c29-4115-824a-e03702f9dd54",
   "metadata": {},
   "source": [
    "## 4.3 GELU 활성화를 사용하는 피드포워드 네트워크 구현"
   ]
  },
  {
   "cell_type": "markdown",
   "id": "b0585dfb-f21e-40e5-973f-2f63ad5cb169",
   "metadata": {},
   "source": [
    "- 이번 절에서는 LLM의 트랜스포머 블록에서 사용되는 작은 신경망 하위 모듈을 구현합니다\n",
    "- 먼저 활성 함수부터 살펴보겠습니다\n",
    "- 딥러닝에서는 구조가 단순하고 다양한 아키텍처에서 효과적인 ReLU(정류 선형 유닛) 활성 함수를 자주 사용합니다\n",
    "- LLM에서는 전통적인 ReLU 외에도 여러 활성 함수를 사용하며, 대표적으로 GELU(Gaussian Error Linear Unit)와 SwiGLU(Swish-Gated Linear Unit)가 있습니다\n",
    "- GELU와 SwiGLU는 각각 가우시안·시그모이드 게이팅을 결합한 매끄러운 활성 함수로, 구간별 선형 함수인 ReLU보다 깊은 모델에서 더 좋은 성능을 내는 경우가 많습니다"
   ]
  },
  {
   "cell_type": "markdown",
   "id": "7d482ce7-e493-4bfc-a820-3ea99f564ebc",
   "metadata": {},
   "source": [
    "- GELU([Hendrycks and Gimpel 2016](https://arxiv.org/abs/1606.08415))는 여러 방식으로 구현할 수 있으며, 정확한 정의는 GELU(x)=x⋅Φ(x)입니다. 여기서 Φ(x)는 표준 가우시안 분포의 누적분포함수(CDF)입니다.\n",
    "- 실제 구현에서는 더 계산이 간단한 근사식을 사용하는 경우가 많습니다. 예를 들어 $\\mathrm{GELU}(x) \\approx 0.5 \\cdot x \\cdot \\left(1 + \\tanh\\left[\\sqrt{\\frac{2}{\\pi}} \\cdot \\left(x + 0.044715 \\cdot x^3\\right)\\right]\\right)$ 을 사용하며, 원래 GPT-2 모델도 이 근사식을 이용해 학습되었습니다."
   ]
  },
  {
   "cell_type": "code",
   "execution_count": null,
   "id": "f84694b7-95f3-4323-b6d6-0a73df278e82",
   "metadata": {},
   "outputs": [],
   "source": [
    "# GELU 근사식 활성 함수 (GPT-2 등에서 사용한 공식)\n",
    "class GELU(nn.Module):\n",
    "    def __init__(self):\n",
    "        super().__init__()\n",
    "\n",
    "    def forward(self, x):\n",
    "        # 0.5 * x * (1 + tanh( sqrt(2/pi) * (x + 0.044715 * x^3) ))\n",
    "        return 0.5 * x * (1 + torch.tanh(\n",
    "            torch.sqrt(torch.tensor(2.0 / torch.pi)) * \n",
    "            (x + 0.044715 * torch.pow(x, 3))\n",
    "        ))"
   ]
  },
  {
   "cell_type": "code",
   "execution_count": 25,
   "id": "fc5487d2-2576-4118-80a7-56c4caac2e71",
   "metadata": {},
   "outputs": [
    {
     "data": {
      "image/png": "[encoded data removed]",
      "text/plain": [
       "<Figure size 800x300 with 2 Axes>"
      ]
     },
     "metadata": {},
     "output_type": "display_data"
    }
   ],
   "source": [
    "import matplotlib.pyplot as plt\n",
    "\n",
    "gelu, relu = GELU(), nn.ReLU()\n",
    "\n",
    "# 예시 데이터\n",
    "x = torch.linspace(-3, 3, 100)\n",
    "y_gelu, y_relu = gelu(x), relu(x)\n",
    "\n",
    "plt.figure(figsize=(8, 3))\n",
    "for i, (y, label) in enumerate(zip([y_gelu, y_relu], [\"GELU\", \"ReLU\"]), 1):\n",
    "    plt.subplot(1, 2, i)\n",
    "    plt.plot(x, y)\n",
    "    plt.title(f\"{label} activation function\")\n",
    "    plt.xlabel(\"x\")\n",
    "    plt.ylabel(f\"{label}(x)\")\n",
    "    plt.grid(True)\n",
    "\n",
    "plt.tight_layout()\n",
    "plt.show()"
   ]
  },
  {
   "cell_type": "markdown",
   "id": "1cd01662-14cb-43fd-bffd-2d702813de2d",
   "metadata": {},
   "source": [
    "- ReLU는 입력이 양수이면 그대로 출력하고, 음수이면 0을 출력하는 구간별 선형 함수입니다\n",
    "- GELU는 음수 영역에서도 (약 -0.75 지점을 제외하고) 0이 아닌 기울기를 유지하는 매끄러운 비선형 함수로, ReLU를 부드럽게 근사합니다\n",
    "\n",
    "이제 트랜스포머 블록에서 사용할 작은 신경망 모듈 `FeedForward`를 구현해 보겠습니다:"
   ]
  },
  {
   "cell_type": "code",
   "execution_count": null,
   "id": "9275c879-b148-4579-a107-86827ca14d4d",
   "metadata": {},
   "outputs": [],
   "source": [
    "# FeedForward 모듈은 트랜스포머 블록 내에서 사용되는 작은 신경망입니다.\n",
    "class FeedForward(nn.Module):\n",
    "    def __init__(self, cfg):\n",
    "        super().__init__()\n",
    "        # 입력 차원에서 4배 확장 후 다시 원래 차원으로 축소하는 두 개의 선형 계층과 GELU 활성화 함수로 구성됩니다.\n",
    "        self.layers = nn.Sequential(\n",
    "            nn.Linear(cfg[\"emb_dim\"], 4 * cfg[\"emb_dim\"]),  # 첫 번째 선형 계층: emb_dim → 4*emb_dim\n",
    "            GELU(),                                         # GELU 활성 함수 적용\n",
    "            nn.Linear(4 * cfg[\"emb_dim\"], cfg[\"emb_dim\"]),  # 두 번째 선형 계층: 4*emb_dim → emb_dim\n",
    "        )\n",
    "\n",
    "    def forward(self, x):\n",
    "        # 입력 x를 순차적으로 layers에 통과시킵니다.\n",
    "        return self.layers(x)"
   ]
  },
  {
   "cell_type": "code",
   "execution_count": 27,
   "id": "7c4976e2-0261-418e-b042-c5be98c2ccaf",
   "metadata": {},
   "outputs": [
    {
     "name": "stdout",
     "output_type": "stream",
     "text": [
      "768\n"
     ]
    }
   ],
   "source": [
    "print(GPT_CONFIG_124M[\"emb_dim\"])"
   ]
  },
  {
   "cell_type": "markdown",
   "id": "fdcaacfa-3cfc-4c9e-b668-b71a2753145a",
   "metadata": {},
   "source": [
    "<img src=\"https://sebastianraschka.com/images/LLMs-from-scratch-images/ch04_compressed/09.webp?12\" width=\"800px\">"
   ]
  },
  {
   "cell_type": "code",
   "execution_count": 28,
   "id": "928e7f7c-d0b1-499f-8d07-4cadb428a6f9",
   "metadata": {},
   "outputs": [
    {
     "name": "stdout",
     "output_type": "stream",
     "text": [
      "torch.Size([2, 3, 768])\n"
     ]
    }
   ],
   "source": [
    "ffn = FeedForward(GPT_CONFIG_124M)\n",
    "\n",
    "# 입력 형태: [batch_size, num_token, emb_size]\n",
    "x = torch.rand(2, 3, 768) \n",
    "out = ffn(x)\n",
    "print(out.shape)"
   ]
  },
  {
   "cell_type": "markdown",
   "id": "8f8756c5-6b04-443b-93d0-e555a316c377",
   "metadata": {},
   "source": [
    "<img src=\"https://sebastianraschka.com/images/LLMs-from-scratch-images/ch04_compressed/10.webp\" width=\"800px\">"
   ]
  },
  {
   "cell_type": "markdown",
   "id": "e5da2a50-04f4-4388-af23-ad32e405a972",
   "metadata": {},
   "source": [
    "<img src=\"https://sebastianraschka.com/images/LLMs-from-scratch-images/ch04_compressed/11.webp\" width=\"800px\">"
   ]
  },
  {
   "cell_type": "markdown",
   "id": "4ffcb905-53c7-4886-87d2-4464c5fecf89",
   "metadata": {},
   "source": [
    "## 4.4 쇼트컷(스킵) 연결 추가하기"
   ]
  },
  {
   "cell_type": "markdown",
   "id": "ffae416c-821e-4bfa-a741-8af4ba5db00e",
   "metadata": {},
   "source": [
    "- 이제 쇼트컷 연결(스킵 또는 잔차 연결)의 개념을 살펴보겠습니다\n",
    "- 원래는 컴퓨터 비전을 위한 깊은 신경망(ResNet)에서 기울기 소실 문제를 줄이기 위해 제안되었습니다\n",
    "- 쇼트컷 연결은 기울기가 네트워크를 더 수월하게 통과할 수 있도록 짧은 경로를 제공합니다\n",
    "- 이를 위해 한 층의 출력을 이후 층의 출력에 더하면서, 그 사이의 한두 층을 건너뜁니다\n",
    "- 아래 작은 예제 네트워크로 이 아이디어를 그림으로 살펴보겠습니다:\n",
    "\n",
    "<img src=\"https://sebastianraschka.com/images/LLMs-from-scratch-images/ch04_compressed/12.webp?123\" width=\"800px\">"
   ]
  },
  {
   "cell_type": "markdown",
   "id": "14cfd241-a32e-4601-8790-784b82f2f23e",
   "metadata": {},
   "source": [
    "- 코드로 표현하면 다음과 같습니다:"
   ]
  },
  {
   "cell_type": "code",
   "execution_count": null,
   "id": "05473938-799c-49fd-86d4-8ed65f94fee6",
   "metadata": {},
   "outputs": [],
   "source": [
    "class ExampleDeepNeuralNetwork(nn.Module):\n",
    "    def __init__(self, layer_sizes, use_shortcut):\n",
    "        super().__init__()\n",
    "        self.use_shortcut = use_shortcut\n",
    "        # 각 층을 nn.ModuleList에 저장합니다.\n",
    "        self.layers = nn.ModuleList([\n",
    "            nn.Sequential(nn.Linear(layer_sizes[0], layer_sizes[1]), GELU()),  # 1번째 층\n",
    "            nn.Sequential(nn.Linear(layer_sizes[1], layer_sizes[2]), GELU()),  # 2번째 층\n",
    "            nn.Sequential(nn.Linear(layer_sizes[2], layer_sizes[3]), GELU()),  # 3번째 층\n",
    "            nn.Sequential(nn.Linear(layer_sizes[3], layer_sizes[4]), GELU()),  # 4번째 층\n",
    "            nn.Sequential(nn.Linear(layer_sizes[4], layer_sizes[5]), GELU())   # 5번째 층\n",
    "        ])\n",
    "\n",
    "    def forward(self, x):\n",
    "        # 입력을 각 층에 순차적으로 통과시킵니다.\n",
    "        for layer in self.layers:\n",
    "            layer_output = layer(x)  # 현재 층의 출력\n",
    "            # 입력 x와 layer_output의 shape이 같으면 쇼트컷 연결을 적용합니다.\n",
    "            if self.use_shortcut and x.shape == layer_output.shape:\n",
    "                x = x + layer_output  # 쇼트컷 연결(잔차 연결)\n",
    "            else:\n",
    "                x = layer_output     # 그냥 출력 사용\n",
    "        return x\n",
    "\n",
    "\n",
    "def print_gradients(model, x):\n",
    "    # 모델의 순전파를 실행합니다.\n",
    "    output = model(x)\n",
    "    target = torch.tensor([[0.]])\n",
    "\n",
    "    # 출력과 타깃의 차이를 기준으로 MSE 손실을 계산합니다.\n",
    "    loss = nn.MSELoss()\n",
    "    loss = loss(output, target)\n",
    "    \n",
    "    # 역전파를 통해 각 가중치에 대한 기울기를 계산합니다.\n",
    "    loss.backward()\n",
    "\n",
    "    for name, param in model.named_parameters():\n",
    "        if 'weight' in name:\n",
    "            # 각 가중치의 기울기 절댓값 평균을 출력합니다.\n",
    "            print(f\"{name} has gradient mean of {param.grad.abs().mean().item()}\")"
   ]
  },
  {
   "cell_type": "markdown",
   "id": "b39bf277-b3db-4bb1-84ce-7a20caff1011",
   "metadata": {},
   "source": [
    "- 먼저 쇼트컷 연결이 **없는** 경우의 기울기 값을 출력해 보겠습니다:"
   ]
  },
  {
   "cell_type": "code",
   "execution_count": null,
   "id": "c75f43cc-6923-4018-b980-26023086572c",
   "metadata": {},
   "outputs": [
    {
     "name": "stdout",
     "output_type": "stream",
     "text": [
      "layers.0.0.weight has gradient mean of 0.00020173587836325169\n",
      "layers.1.0.weight has gradient mean of 0.00012011159560643137\n",
      "layers.2.0.weight has gradient mean of 0.0007152040489017963\n",
      "layers.3.0.weight has gradient mean of 0.0013988736318424344\n",
      "layers.4.0.weight has gradient mean of 0.005049645435065031\n"
     ]
    }
   ],
   "source": [
    "# 각 층별 뉴런 수를 정의합니다.\n",
    "layer_sizes = [3, 3, 3, 3, 3, 1]  \n",
    "\n",
    "# 샘플 입력값을 만듭니다.\n",
    "sample_input = torch.tensor([[1., 0., -1.]])\n",
    "\n",
    "# 동일한 가중치 초기화를 위해 시드 고정\n",
    "torch.manual_seed(123)\n",
    "# 쇼트컷 연결이 없는 모델 생성\n",
    "model_without_shortcut = ExampleDeepNeuralNetwork(\n",
    "    layer_sizes, use_shortcut=False\n",
    ")\n",
    "# 각 층의 기울기(gradient) 평균값 출력\n",
    "print_gradients(model_without_shortcut, sample_input)"
   ]
  },
  {
   "cell_type": "code",
   "execution_count": null,
   "id": "7ac3de37",
   "metadata": {},
   "outputs": [
    {
     "data": {
      "image/png": "[encoded data removed]",
      "text/plain": [
       "<Figure size 800x500 with 1 Axes>"
      ]
     },
     "metadata": {},
     "output_type": "display_data"
    }
   ],
   "source": [
    "import matplotlib.pyplot as plt\n",
    "\n",
    "# gradient 값 시각화를 위한 함수\n",
    "def plot_gradients(model, title=\"Gradient Means per Layer\"):\n",
    "    grad_means = []\n",
    "    layer_names = []\n",
    "    for name, param in model.named_parameters():\n",
    "        if 'weight' in name:\n",
    "            grad_means.append(param.grad.abs().mean().item())\n",
    "            layer_names.append(name)\n",
    "    plt.figure(figsize=(8, 5))\n",
    "    plt.bar(layer_names, grad_means)\n",
    "    plt.ylabel('Gradient Mean (abs)')\n",
    "    plt.xlabel('Layer')\n",
    "    plt.title(title)\n",
    "    plt.xticks(rotation=45)\n",
    "    plt.tight_layout()\n",
    "    plt.show()\n",
    "\n",
    "# 기울기 시각화 (쇼트컷 없는 모델)\n",
    "plot_gradients(model_without_shortcut, title=\"No Shortcut Connections\")"
   ]
  },
  {
   "cell_type": "markdown",
   "id": "837fd5d4-7345-4663-97f5-38f19dfde621",
   "metadata": {},
   "source": [
    "- 다음으로 쇼트컷 연결이 **있는** 경우의 기울기 값을 확인해 보겠습니다:"
   ]
  },
  {
   "cell_type": "code",
   "execution_count": null,
   "id": "11b7c0c2-f9dd-4dd5-b096-a05c48c5f6d6",
   "metadata": {},
   "outputs": [
    {
     "name": "stdout",
     "output_type": "stream",
     "text": [
      "layers.0.0.weight has gradient mean of 0.22169798612594604\n",
      "layers.1.0.weight has gradient mean of 0.20694111287593842\n",
      "layers.2.0.weight has gradient mean of 0.3289700150489807\n",
      "layers.3.0.weight has gradient mean of 0.26657330989837646\n",
      "layers.4.0.weight has gradient mean of 1.3258544206619263\n"
     ]
    }
   ],
   "source": [
    "# 동일한 가중치 초기화를 위해 시드 고정\n",
    "torch.manual_seed(123)\n",
    "# 쇼트컷 연결이 있는 모델 생성\n",
    "model_with_shortcut = ExampleDeepNeuralNetwork(\n",
    "    layer_sizes, use_shortcut=True\n",
    ")\n",
    "# 각 층의 기울기(gradient) 평균값 출력\n",
    "print_gradients(model_with_shortcut, sample_input)"
   ]
  },
  {
   "cell_type": "code",
   "execution_count": 47,
   "id": "fcf144a7",
   "metadata": {},
   "outputs": [
    {
     "data": {
      "image/png": "[encoded data removed]",
      "text/plain": [
       "<Figure size 800x500 with 1 Axes>"
      ]
     },
     "metadata": {},
     "output_type": "display_data"
    }
   ],
   "source": [
    "# 기울기 시각화 (쇼트컷 있는는 모델)\n",
    "plot_gradients(model_with_shortcut, title=\"With Shortcut Connections\")"
   ]
  },
  {
   "cell_type": "markdown",
   "id": "79ff783a-46f0-49c5-a7a9-26a525764b6e",
   "metadata": {},
   "source": [
    "- 위 출력에서 보듯 쇼트컷 연결을 사용하면 초반 층(`layer.0`)에서 기울기가 사라지지 않습니다. 이 아이디어를 다음 절의 트랜스포머 블록 구현에 적용할 것입니다"
   ]
  },
  {
   "cell_type": "markdown",
   "id": "cae578ca-e564-42cf-8635-a2267047cdff",
   "metadata": {},
   "source": [
    "## 4.5 트랜스포머 블록에서 어텐션과 선형층 연결하기"
   ]
  },
  {
   "cell_type": "markdown",
   "id": "a3daac6f-6545-4258-8f2d-f45a7394f429",
   "metadata": {},
   "source": [
    "- 이제 앞에서 다룬 개념들을 모아 트랜스포머 블록을 구성하겠습니다\n",
    "- 트랜스포머 블록은 이전 장에서 구현한 인과 멀티헤드 어텐션과, 이번 장에서 구현한 선형층·피드포워드 네트워크를 결합합니다\n",
    "- 여기에 드롭아웃과 쇼트컷 연결도 함께 사용합니다"
   ]
  },
  {
   "cell_type": "code",
   "execution_count": null,
   "id": "0e1e8176-e5e3-4152-b1aa-0bbd7891dfd9",
   "metadata": {},
   "outputs": [],
   "source": [
    "# 로컬에 `previous_chapters.py` 파일이 없으면\n",
    "# `llms-from-scratch` PyPI 패키지에서 임포트할 수 있습니다.\n",
    "# 자세한 내용: https://github.com/rasbt/LLMs-from-scratch/tree/main/pkg\n",
    "# 예시:\n",
    "# 예: from llms_from_scratch.ch03 import MultiHeadAttention\n",
    "\n",
    "from previous_chapters import MultiHeadAttention  # 어텐션 모듈 임포트\n",
    "\n",
    "\n",
    "class TransformerBlock(nn.Module):\n",
    "    def __init__(self, cfg):\n",
    "        super().__init__()\n",
    "        # 멀티헤드 어텐션 계층 정의\n",
    "        self.att = MultiHeadAttention(\n",
    "            d_in=cfg[\"emb_dim\"],\n",
    "            d_out=cfg[\"emb_dim\"],\n",
    "            context_length=cfg[\"context_length\"],\n",
    "            num_heads=cfg[\"n_heads\"], \n",
    "            dropout=cfg[\"drop_rate\"],\n",
    "            qkv_bias=cfg[\"qkv_bias\"])\n",
    "        # 피드포워드 계층 정의\n",
    "        self.ff = FeedForward(cfg)\n",
    "        # 층 정규화 정의\n",
    "        self.norm1 = LayerNorm(cfg[\"emb_dim\"])\n",
    "        self.norm2 = LayerNorm(cfg[\"emb_dim\"])\n",
    "        # 드롭아웃 레이어 정의 (쇼트컷 후 사용)\n",
    "        self.drop_shortcut = nn.Dropout(cfg[\"drop_rate\"])\n",
    "\n",
    "    def forward(self, x):\n",
    "        # 어텐션 블록: 입력 x에 norm1 후 어텐션, 드롭아웃, 그리고 쇼트컷 연결\n",
    "        shortcut = x\n",
    "        x = self.norm1(x)\n",
    "        x = self.att(x)  # 출력: [batch_size, num_tokens, emb_size]\n",
    "        x = self.drop_shortcut(x)\n",
    "        x = x + shortcut  # 입력을 다시 더해줌 (Residual/Shortcut 연결)\n",
    "\n",
    "        # 피드포워드 블록: 위 출력 x에 norm2 후 피드포워드, 드롭아웃, 그리고 쇼트컷 연결\n",
    "        shortcut = x\n",
    "        x = self.norm2(x)\n",
    "        x = self.ff(x)\n",
    "        x = self.drop_shortcut(x)\n",
    "        x = x + shortcut  # 입력을 다시 더해줌 (Residual/Shortcut 연결)\n",
    "\n",
    "        return x"
   ]
  },
  {
   "cell_type": "markdown",
   "id": "36b64d16-94a6-4d13-8c85-9494c50478a9",
   "metadata": {},
   "source": [
    "<img src=\"https://sebastianraschka.com/images/LLMs-from-scratch-images/ch04_compressed/13.webp?1\" width=\"800px\">"
   ]
  },
  {
   "cell_type": "markdown",
   "id": "54d2d375-87bd-4153-9040-63a1e6a2b7cb",
   "metadata": {},
   "source": [
    "- 예를 들어 토큰이 6개인 입력 샘플 2개가 있고, 각 토큰이 768차원 임베딩 벡터라고 합시다. 그러면 이 트랜스포머 블록은 셀프 어텐션과 선형층을 거쳐 유사한 크기의 출력을 만듭니다\n",
    "- 출력은 이전 장에서 다룬 컨텍스트 벡터를 확장한 표현이라고 볼 수 있습니다"
   ]
  },
  {
   "cell_type": "code",
   "execution_count": 33,
   "id": "3fb45a63-b1f3-4b08-b525-dafbc8228405",
   "metadata": {},
   "outputs": [
    {
     "name": "stdout",
     "output_type": "stream",
     "text": [
      "Input shape: torch.Size([2, 4, 768])\n",
      "Output shape: torch.Size([2, 4, 768])\n"
     ]
    }
   ],
   "source": [
    "torch.manual_seed(123)\n",
    "\n",
    "x = torch.rand(2, 4, 768)  # 형태: [batch_size, num_tokens, emb_dim]\n",
    "block = TransformerBlock(GPT_CONFIG_124M)\n",
    "output = block(x)\n",
    "\n",
    "print(\"Input shape:\", x.shape)\n",
    "print(\"Output shape:\", output.shape)"
   ]
  },
  {
   "cell_type": "markdown",
   "id": "8f9e4ee4-cf23-4583-b1fd-317abb4fcd13",
   "metadata": {},
   "source": [
    "<img src=\"https://sebastianraschka.com/images/LLMs-from-scratch-images/ch04_compressed/14.webp?1\" width=\"800px\">"
   ]
  },
  {
   "cell_type": "markdown",
   "id": "46618527-15ac-4c32-ad85-6cfea83e006e",
   "metadata": {},
   "source": [
    "## 4.6 GPT 모델 코딩하기"
   ]
  },
  {
   "cell_type": "markdown",
   "id": "dec7d03d-9ff3-4ca3-ad67-01b67c2f5457",
   "metadata": {},
   "source": [
    "- 이제 거의 다 왔습니다. 이 장 맨 앞에서 구현한 아키텍처에 트랜스포머 블록을 끼워 넣어 실제로 사용할 수 있는 GPT 구조를 완성해 봅시다\n",
    "- 트랜스포머 블록은 여러 번 반복되는데, 가장 작은 124M GPT-2 모델에서는 12번 반복합니다:"
   ]
  },
  {
   "cell_type": "markdown",
   "id": "9b7b362d-f8c5-48d2-8ebd-722480ac5073",
   "metadata": {},
   "source": [
    "<img src=\"https://sebastianraschka.com/images/LLMs-from-scratch-images/ch04_compressed/15.webp\" width=\"800px\">"
   ]
  },
  {
   "cell_type": "markdown",
   "id": "324e4b5d-ed89-4fdf-9a52-67deee0593bc",
   "metadata": {},
   "source": [
    "- `cfg[\"n_layers\"] = 12`일 때의 코드 구현은 다음과 같습니다:"
   ]
  },
  {
   "cell_type": "code",
   "execution_count": null,
   "id": "c61de39c-d03c-4a32-8b57-f49ac3834857",
   "metadata": {},
   "outputs": [],
   "source": [
    "# GPT 모델 클래스 정의 (nn.Module 상속)\n",
    "class GPTModel(nn.Module):\n",
    "    def __init__(self, cfg):\n",
    "        super().__init__()\n",
    "        # 토큰 임베딩 레이어: 각 토큰 인덱스를 임베딩 벡터로 변환\n",
    "        self.tok_emb = nn.Embedding(cfg[\"vocab_size\"], cfg[\"emb_dim\"])\n",
    "        # 위치 임베딩 레이어: 각 토큰 위치에 대한 임베딩 벡터 생성\n",
    "        self.pos_emb = nn.Embedding(cfg[\"context_length\"], cfg[\"emb_dim\"])\n",
    "        # 임베딩 이후 드롭아웃 적용\n",
    "        self.drop_emb = nn.Dropout(cfg[\"drop_rate\"])\n",
    "        \n",
    "        # 트랜스포머 블록 여러 개를 순차적으로 쌓음\n",
    "        self.trf_blocks = nn.Sequential(\n",
    "            *[TransformerBlock(cfg) for _ in range(cfg[\"n_layers\"])]\n",
    "        )\n",
    "        \n",
    "        # 최종 layer normalization\n",
    "        self.final_norm = LayerNorm(cfg[\"emb_dim\"])\n",
    "        # 출력층: 마지막 임베딩을 어휘 집합 크기로 매핑 (softmax 이전 단계)\n",
    "        self.out_head = nn.Linear(\n",
    "            cfg[\"emb_dim\"], cfg[\"vocab_size\"], bias=False\n",
    "        )\n",
    "\n",
    "    def forward(self, in_idx):\n",
    "        # 입력 크기: [배치 크기, 시퀀스 길이]\n",
    "        batch_size, seq_len = in_idx.shape\n",
    "        # 토큰 임베딩: 입력 토큰을 임베딩 벡터로 변환\n",
    "        tok_embeds = self.tok_emb(in_idx)\n",
    "        # 위치 임베딩: 0~(시퀀스 길이-1)까지 위치에 해당하는 임베딩\n",
    "        pos_embeds = self.pos_emb(torch.arange(seq_len, device=in_idx.device))\n",
    "        # 임베딩 합성: 각 토큰 벡터 + 위치 벡터\n",
    "        x = tok_embeds + pos_embeds  # 형태: [batch_size, num_tokens, emb_size]\n",
    "        # 드롭아웃 적용\n",
    "        x = self.drop_emb(x)\n",
    "        # 트랜스포머 블록 통과\n",
    "        x = self.trf_blocks(x)\n",
    "        # layer normalization 적용\n",
    "        x = self.final_norm(x)\n",
    "        # 출력층을 통해 예측값 (로짓) 생성\n",
    "        logits = self.out_head(x)\n",
    "        # 로짓 반환 ([배치, 시퀀스, 어휘집합] shape)\n",
    "        return logits"
   ]
  },
  {
   "cell_type": "markdown",
   "id": "2750270f-c45d-4410-8767-a6adbd05d5c3",
   "metadata": {},
   "source": [
    "- 124M 파라미터 구성으로 GPT 모델을 초기 무작위 가중치와 함께 생성하면 다음과 같습니다:"
   ]
  },
  {
   "cell_type": "code",
   "execution_count": 35,
   "id": "ef94fd9c-4e9d-470d-8f8e-dd23d1bb1f64",
   "metadata": {},
   "outputs": [
    {
     "name": "stdout",
     "output_type": "stream",
     "text": [
      "Input batch:\n",
      " tensor([[6109, 3626, 6100,  345],\n",
      "        [6109, 1110, 6622,  257]])\n",
      "\n",
      "Output shape: torch.Size([2, 4, 50257])\n",
      "tensor([[[ 0.3613,  0.4222, -0.0711,  ...,  0.3483,  0.4661, -0.2838],\n",
      "         [-0.1792, -0.5660, -0.9485,  ...,  0.0477,  0.5181, -0.3168],\n",
      "         [ 0.7120,  0.0332,  0.1085,  ...,  0.1018, -0.4327, -0.2553],\n",
      "         [-1.0076,  0.3418, -0.1190,  ...,  0.7195,  0.4023,  0.0532]],\n",
      "\n",
      "        [[-0.2564,  0.0900,  0.0335,  ...,  0.2659,  0.4454, -0.6806],\n",
      "         [ 0.1230,  0.3653, -0.2074,  ...,  0.7705,  0.2710,  0.2246],\n",
      "         [ 1.0558,  1.0318, -0.2800,  ...,  0.6936,  0.3205, -0.3178],\n",
      "         [-0.1565,  0.3926,  0.3288,  ...,  1.2630, -0.1858,  0.0388]]],\n",
      "       grad_fn=<UnsafeViewBackward0>)\n"
     ]
    }
   ],
   "source": [
    "torch.manual_seed(123)\n",
    "model = GPTModel(GPT_CONFIG_124M)\n",
    "\n",
    "out = model(batch)\n",
    "print(\"Input batch:\\n\", batch)\n",
    "print(\"\\nOutput shape:\", out.shape)\n",
    "print(out)"
   ]
  },
  {
   "cell_type": "markdown",
   "id": "6d616e7a-568b-4921-af29-bd3f4683cd2e",
   "metadata": {},
   "source": [
    "- 이 모델은 다음 장에서 학습시킬 예정입니다\n",
    "- 다만 크기에 대해 다시 한번 짚고 넘어가겠습니다. 앞서 124M 파라미터 모델이라고 했는데, 실제로는 얼마나 되는지 확인해 봅시다:"
   ]
  },
  {
   "cell_type": "code",
   "execution_count": 36,
   "id": "84fb8be4-9d3b-402b-b3da-86b663aac33a",
   "metadata": {},
   "outputs": [
    {
     "name": "stdout",
     "output_type": "stream",
     "text": [
      "Total number of parameters: 163,009,536\n"
     ]
    }
   ],
   "source": [
    "total_params = sum(p.numel() for p in model.parameters())\n",
    "print(f\"Total number of parameters: {total_params:,}\")"
   ]
  },
  {
   "cell_type": "markdown",
   "id": "b67d13dd-dd01-4ba6-a2ad-31ca8a9fd660",
   "metadata": {},
   "source": [
    "- 위 결과를 보면 모델 파라미터 수가 124M이 아니라 163M입니다. 왜 그럴까요?\n",
    "- 원래 GPT-2 논문에서는 토큰 임베딩 층(`tok_emb`)을 출력층과 공유하는 가중치 결합(weight tying)을 적용했습니다. 즉 `self.out_head.weight = self.tok_emb.weight`로 설정합니다\n",
    "- 토큰 임베딩 층은 50,257차원 원-핫 입력을 768차원 임베딩으로 투영합니다\n",
    "- 출력층은 768차원 임베딩을 다시 50,257차원 표현으로 투영해 단어를 복원합니다(자세한 내용은 다음 절에서 다룹니다)\n",
    "- 두 층의 가중치 행렬 형태가 같기 때문에 파라미터 수도 동일합니다\n",
    "- 따라서 출력층의 파라미터를 빼 주면 124M 파라미터 모델과 일치하게 됩니다"
   ]
  },
  {
   "cell_type": "code",
   "execution_count": 37,
   "id": "e3b43233-e9b8-4f5a-b72b-a263ec686982",
   "metadata": {},
   "outputs": [
    {
     "name": "stdout",
     "output_type": "stream",
     "text": [
      "Token embedding layer shape: torch.Size([50257, 768])\n",
      "Output layer shape: torch.Size([50257, 768])\n"
     ]
    }
   ],
   "source": [
    "print(\"Token embedding layer shape:\", model.tok_emb.weight.shape)\n",
    "print(\"Output layer shape:\", model.out_head.weight.shape)"
   ]
  },
  {
   "cell_type": "markdown",
   "id": "f02259f6-6f79-4c89-a866-4ebeae1c3289",
   "metadata": {},
   "source": [
    "- GPT-2 논문에서는 토큰 임베딩 행렬을 그대로 출력 행렬로 재사용했습니다\n",
    "- 따라서 출력층 파라미터 수를 빼면 124M 파라미터 모델 크기가 됩니다:"
   ]
  },
  {
   "cell_type": "code",
   "execution_count": 38,
   "id": "95a22e02-50d3-48b3-a4e0-d9863343c164",
   "metadata": {},
   "outputs": [
    {
     "name": "stdout",
     "output_type": "stream",
     "text": [
      "Number of trainable parameters considering weight tying: 124,412,160\n"
     ]
    }
   ],
   "source": [
    "total_params_gpt2 =  total_params - sum(p.numel() for p in model.out_head.parameters())\n",
    "print(f\"Number of trainable parameters considering weight tying: {total_params_gpt2:,}\")"
   ]
  },
  {
   "cell_type": "markdown",
   "id": "40b03f80-b94c-46e7-9d42-d0df399ff3db",
   "metadata": {},
   "source": [
    "- 실제 학습에서는 가중치를 묶지 않는 편이 더 다루기 쉬워서 여기서는 적용하지 않았습니다\n",
    "- 하지만 5장에서 사전 학습된 가중치를 불러올 때는 이 weight tying 아이디어를 다시 적용할 예정입니다\n",
    "- 마지막으로 모델의 메모리 요구량을 계산해 두면 참고하기 좋습니다:"
   ]
  },
  {
   "cell_type": "code",
   "execution_count": 39,
   "id": "5131a752-fab8-4d70-a600-e29870b33528",
   "metadata": {},
   "outputs": [
    {
     "name": "stdout",
     "output_type": "stream",
     "text": [
      "Total size of the model: 621.83 MB\n"
     ]
    }
   ],
   "source": [
    "# 총 바이트 수 계산(float32 기준, 파라미터당 4바이트 가정)\n",
    "total_size_bytes = total_params * 4\n",
    "\n",
    "# 메가바이트 단위로 변환\n",
    "total_size_mb = total_size_bytes / (1024 * 1024)\n",
    "\n",
    "print(f\"Total size of the model: {total_size_mb:.2f} MB\")"
   ]
  },
  {
   "cell_type": "markdown",
   "id": "309a3be4-c20a-4657-b4e0-77c97510b47c",
   "metadata": {},
   "source": [
    "- 연습: [GPT-2 논문](https://scholar.google.com/citations?view_op=view_citation&hl=en&user=dOad5HoAAAAJ&citation_for_view=dOad5HoAAAAJ:YsMSGLbcyi4C)에 나온 다른 구성도 시도해 보세요.\n",
    "\n",
    "    - **GPT2-small** (이번에 구현한 124M 구성)\n",
    "        - \"emb_dim\" = 768\n",
    "        - \"n_layers\" = 12\n",
    "        - \"n_heads\" = 12\n",
    "\n",
    "    - **GPT2-medium**\n",
    "        - \"emb_dim\" = 1024\n",
    "        - \"n_layers\" = 24\n",
    "        - \"n_heads\" = 16\n",
    "\n",
    "    - **GPT2-large**\n",
    "        - \"emb_dim\" = 1280\n",
    "        - \"n_layers\" = 36\n",
    "        - \"n_heads\" = 20\n",
    "\n",
    "    - **GPT2-XL**\n",
    "        - \"emb_dim\" = 1600\n",
    "        - \"n_layers\" = 48\n",
    "        - \"n_heads\" = 25"
   ]
  },
  {
   "cell_type": "markdown",
   "id": "da5d9bc0-95ab-45d4-9378-417628d86e35",
   "metadata": {},
   "source": [
    "## 4.7 텍스트 생성하기"
   ]
  },
  {
   "cell_type": "markdown",
   "id": "48da5deb-6ee0-4b9b-8dd2-abed7ed65172",
   "metadata": {},
   "source": [
    "- 앞에서 구현한 GPT 모델 같은 LLM은 한 번에 하나의 단어(토큰)를 생성합니다"
   ]
  },
  {
   "cell_type": "markdown",
   "id": "caade12a-fe97-480f-939c-87d24044edff",
   "metadata": {},
   "source": [
    "<img src=\"https://sebastianraschka.com/images/LLMs-from-scratch-images/ch04_compressed/16.webp\" width=\"800px\">"
   ]
  },
  {
   "cell_type": "markdown",
   "id": "a7061524-a3bd-4803-ade6-2e3b7b79ac13",
   "metadata": {},
   "source": [
    "- 아래 `generate_text_simple` 함수는 그리디 디코딩(greedy decoding)을 구현한 것으로, 간단하고 빠르게 텍스트를 생성할 수 있습니다\n",
    "- 그리디 디코딩에서는 매 단계마다 확률이 가장 높은 단어(또는 토큰)를 다음 출력으로 선택합니다. 가장 큰 로그확률(logit)이 가장 높은 확률에 대응하므로, 엄밀히는 softmax를 계산하지 않아도 됩니다\n",
    "- 다음 장에서는 더 발전된 `generate_text` 함수를 구현할 예정입니다\n",
    "- 아래 그림은 입력 컨텍스트가 주어졌을 때 GPT 모델이 다음 단어 토큰을 생성하는 과정을 보여 줍니다"
   ]
  },
  {
   "cell_type": "markdown",
   "id": "7ee0f32c-c18c-445e-b294-a879de2aa187",
   "metadata": {},
   "source": [
    "<img src=\"https://sebastianraschka.com/images/LLMs-from-scratch-images/ch04_compressed/17.webp\" width=\"800px\">"
   ]
  },
  {
   "cell_type": "code",
   "execution_count": 40,
   "id": "c9b428a9-8764-4b36-80cd-7d4e00595ba6",
   "metadata": {},
   "outputs": [],
   "source": [
    "def generate_text_simple(model, idx, max_new_tokens, context_size):\n",
    "    # idx는 현재 컨텍스트에서 (batch, n_tokens) 형태의 토큰 인덱스 배열\n",
    "    for _ in range(max_new_tokens):\n",
    "        \n",
    "        # 컨텍스트 길이를 초과하면 지원되는 길이에 맞게 뒤쪽만 남깁니다\n",
    "        # 예: LLM이 5개 토큰만 지원하고 현재 컨텍스트가 10개라면\n",
    "        # 마지막 5개 토큰만 컨텍스트로 사용합니다\n",
    "        idx_cond = idx[:, -context_size:]\n",
    "        \n",
    "        # 예측값 계산\n",
    "        with torch.no_grad():\n",
    "            logits = model(idx_cond)\n",
    "        \n",
    "        # 마지막 타임스텝에만 집중\n",
    "        # (batch, n_tokens, vocab_size)가 (batch, vocab_size)로 변환\n",
    "        logits = logits[:, -1, :]  \n",
    "\n",
    "        # softmax를 적용해 확률 계산\n",
    "        probas = torch.softmax(logits, dim=-1)  # 형태: (batch, vocab_size)\n",
    "\n",
    "        # 확률이 가장 높은 어휘 인덱스 선택\n",
    "        idx_next = torch.argmax(probas, dim=-1, keepdim=True)  # 형태: (batch, 1)\n",
    "\n",
    "        # 선택한 인덱스를 시퀀스 끝에 추가\n",
    "        idx = torch.cat((idx, idx_next), dim=1)  # 형태: (batch, n_tokens+1)\n",
    "\n",
    "    return idx"
   ]
  },
  {
   "cell_type": "markdown",
   "id": "6515f2c1-3cc7-421c-8d58-cc2f563b7030",
   "metadata": {},
   "source": [
    "- 위 `generate_text_simple` 함수는 한 번에 하나의 토큰을 생성하는 반복 과정을 구현합니다\n",
    "\n",
    "<img src=\"https://sebastianraschka.com/images/LLMs-from-scratch-images/ch04_compressed/18.webp\" width=\"800px\">"
   ]
  },
  {
   "cell_type": "markdown",
   "id": "f682eac4-f9bd-438b-9dec-6b1cc7bc05ce",
   "metadata": {},
   "source": [
    "- 입력 예시를 준비해 보겠습니다:"
   ]
  },
  {
   "cell_type": "code",
   "execution_count": null,
   "id": "3d7e3e94-df0f-4c0f-a6a1-423f500ac1d3",
   "metadata": {},
   "outputs": [
    {
     "name": "stdout",
     "output_type": "stream",
     "text": [
      "encoded: [15496, 11, 314, 716]\n",
      "encoded_tensor.shape: torch.Size([1, 4])\n"
     ]
    }
   ],
   "source": [
    "# 시작 문장을 정의합니다.\n",
    "start_context = \"Hello, I am\"\n",
    "\n",
    "# 시작 문장을 토크나이저를 이용해 정수 인덱스로 변환합니다.\n",
    "encoded = tokenizer.encode(start_context)\n",
    "print(\"encoded:\", encoded)\n",
    "\n",
    "# 파이토치 텐서로 변환 후 배치 차원을 추가합니다.\n",
    "encoded_tensor = torch.tensor(encoded).unsqueeze(0)\n",
    "print(\"encoded_tensor.shape:\", encoded_tensor.shape)"
   ]
  },
  {
   "cell_type": "code",
   "execution_count": null,
   "id": "a72a9b60-de66-44cf-b2f9-1e638934ada4",
   "metadata": {},
   "outputs": [
    {
     "name": "stdout",
     "output_type": "stream",
     "text": [
      "Output: tensor([[15496,    11,   314,   716, 27018, 24086, 47843, 30961, 42348,  7267]])\n",
      "Output length: 10\n"
     ]
    }
   ],
   "source": [
    "# 드롭아웃(dropout)을 비활성화하여 추론 모드로 전환합니다.\n",
    "model.eval() \n",
    "\n",
    "# generate_text_simple 함수를 사용하여 텍스트를 생성합니다.\n",
    "# 입력:\n",
    "#   - model: 사용할 GPT 모델\n",
    "#   - idx: 시작 시퀀스(토큰 인덱스, 텐서 형태)\n",
    "#   - max_new_tokens: 생성할 토큰 개수 (6개)\n",
    "#   - context_size: 모델의 컨텍스트 윈도우 크기(GPT_CONFIG_124M에서 가져옴)\n",
    "out = generate_text_simple(\n",
    "    model=model,\n",
    "    idx=encoded_tensor, \n",
    "    max_new_tokens=6, \n",
    "    context_size=GPT_CONFIG_124M[\"context_length\"]\n",
    ")\n",
    "\n",
    "# 생성된 텍스트 인덱스 출력\n",
    "print(\"Output:\", out)\n",
    "# 출력 시퀀스의 길이 출력\n",
    "print(\"Output length:\", len(out[0]))"
   ]
  },
  {
   "cell_type": "markdown",
   "id": "1d131c00-1787-44ba-bec3-7c145497b2c3",
   "metadata": {},
   "source": [
    "- 배치 차원을 제거하고 텍스트로 다시 변환합니다:"
   ]
  },
  {
   "cell_type": "code",
   "execution_count": 43,
   "id": "053d99f6-5710-4446-8d52-117fb34ea9f6",
   "metadata": {},
   "outputs": [
    {
     "name": "stdout",
     "output_type": "stream",
     "text": [
      "Hello, I am Featureiman Byeswickattribute argue\n"
     ]
    }
   ],
   "source": [
    "decoded_text = tokenizer.decode(out.squeeze(0).tolist())\n",
    "print(decoded_text)"
   ]
  },
  {
   "cell_type": "markdown",
   "id": "9a894003-51f6-4ccc-996f-3b9c7d5a1d70",
   "metadata": {},
   "source": [
    "- 아직 학습되지 않은 모델이므로 위와 같이 무작위에 가까운 문장이 출력됩니다\n",
    "- 이 모델은 다음 장에서 학습시킬 예정입니다"
   ]
  },
  {
   "cell_type": "markdown",
   "id": "a35278b6-9e5c-480f-83e5-011a1173648f",
   "metadata": {},
   "source": [
    "## 요약 및 핵심 포인트\n",
    "\n",
    "- [./gpt.py](./gpt.py) 스크립트에는 이 노트북에서 구현한 GPT 모델이 독립적으로 정리되어 있습니다\n",
    "- 연습 문제 해설은 [./exercise-solutions.ipynb](./exercise-solutions.ipynb)에서 확인할 수 있습니다"
   ]
  }
 ],
 "metadata": {
  "kernelspec": {
   "display_name": ".venv",
   "language": "python",
   "name": "python3"
  },
  "language_info": {
   "codemirror_mode": {
    "name": "ipython",
    "version": 3
   },
   "file_extension": ".py",
   "mimetype": "text/x-python",
   "name": "python",
   "nbconvert_exporter": "python",
   "pygments_lexer": "ipython3",
   "version": "3.12.3"
  }
 },
 "nbformat": 4,
 "nbformat_minor": 5
}
