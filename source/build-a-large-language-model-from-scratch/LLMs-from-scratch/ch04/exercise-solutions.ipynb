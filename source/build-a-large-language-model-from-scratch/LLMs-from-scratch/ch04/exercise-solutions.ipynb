{
 "cells": [
  {
   "cell_type": "markdown",
   "id": "ba450fb1-8a26-4894-ab7a-5d7bfefe90ce",
   "metadata": {},
   "source": [
    "<table style=\"width:100%\">\n",
    "<tr>\n",
    "<td style=\"vertical-align:middle; text-align:left;\">\n",
    "<font size=\"2\">\n",
    "Sebastian Raschka가 집필한 <a href=\"http://mng.bz/orYv\">Build a Large Language Model From Scratch</a> 도서를 위한 보조 코드입니다.<br>\n",
    "<br>코드 저장소: <a href=\"https://github.com/rasbt/LLMs-from-scratch\">https://github.com/rasbt/LLMs-from-scratch</a>\n",
    "</font>\n",
    "</td>\n",
    "<td style=\"vertical-align:middle; text-align:left;\">\n",
    "<a href=\"http://mng.bz/orYv\"><img src=\"https://sebastianraschka.com/images/LLMs-from-scratch-images/cover-small.webp\" width=\"100px\"></a>\n",
    "</td>\n",
    "</tr>\n",
    "</table>"
   ]
  },
  {
   "cell_type": "markdown",
   "id": "51c9672d-8d0c-470d-ac2d-1271f8ec3f14",
   "metadata": {},
   "source": [
    "# 4장 연습문제 해답"
   ]
  },
  {
   "cell_type": "code",
   "execution_count": 1,
   "id": "5b2fac7a-fdcd-437c-b1c4-0b35a31cd489",
   "metadata": {},
   "outputs": [
    {
     "name": "stdout",
     "output_type": "stream",
     "text": [
      "torch version: 2.9.0\n"
     ]
    }
   ],
   "source": [
    "from importlib.metadata import version\n",
    "\n",
    "print(\"torch version:\", version(\"torch\"))"
   ]
  },
  {
   "cell_type": "markdown",
   "id": "5fea8be3-30a1-4623-a6d7-b095c6c1092e",
   "metadata": {},
   "source": [
    "# 연습문제 4.1: 피드포워드와 어텐션 모듈의 파라미터 수\n",
    "\n",
    "- 피드포워드 모듈과 멀티헤드 어텐션 모듈에 포함된 파라미터 수를 계산해 비교해 보라."
   ]
  },
  {
   "cell_type": "code",
   "execution_count": 3,
   "id": "2751b0e5-ffd3-4be2-8db3-e20dd4d61d69",
   "metadata": {},
   "outputs": [
    {
     "name": "stdout",
     "output_type": "stream",
     "text": [
      "TransformerBlock(\n",
      "  (att): MultiHeadAttention(\n",
      "    (W_query): Linear(in_features=768, out_features=768, bias=False)\n",
      "    (W_key): Linear(in_features=768, out_features=768, bias=False)\n",
      "    (W_value): Linear(in_features=768, out_features=768, bias=False)\n",
      "    (out_proj): Linear(in_features=768, out_features=768, bias=True)\n",
      "    (dropout): Dropout(p=0.1, inplace=False)\n",
      "  )\n",
      "  (ff): FeedForward(\n",
      "    (layers): Sequential(\n",
      "      (0): Linear(in_features=768, out_features=3072, bias=True)\n",
      "      (1): GELU()\n",
      "      (2): Linear(in_features=3072, out_features=768, bias=True)\n",
      "    )\n",
      "  )\n",
      "  (norm1): LayerNorm()\n",
      "  (norm2): LayerNorm()\n",
      "  (drop_shortcut): Dropout(p=0.1, inplace=False)\n",
      ")\n"
     ]
    }
   ],
   "source": [
    "from gpt import TransformerBlock\n",
    "\n",
    "GPT_CONFIG_124M = {\n",
    "    \"vocab_size\": 50257,\n",
    "    \"context_length\": 1024,\n",
    "    \"emb_dim\": 768,\n",
    "    \"n_heads\": 12,\n",
    "    \"n_layers\": 12,\n",
    "    \"drop_rate\": 0.1,\n",
    "    \"qkv_bias\": False\n",
    "}\n",
    "\n",
    "block = TransformerBlock(GPT_CONFIG_124M)\n",
    "print(block)"
   ]
  },
  {
   "cell_type": "code",
   "execution_count": null,
   "id": "1bcaffd1-0cf6-4f8f-bd53-ab88a37f443e",
   "metadata": {},
   "outputs": [
    {
     "name": "stdout",
     "output_type": "stream",
     "text": [
      "피드포워드 모듈의 전체 파라미터 수: 4,722,432\n"
     ]
    }
   ],
   "source": [
    "# 피드포워드 모듈의 전체 파라미터 수를 계산하여 출력합니다.\n",
    "total_params = sum(p.numel() for p in block.ff.parameters())\n",
    "print(f\"피드포워드 모듈의 전체 파라미터 수: {total_params:,}\")"
   ]
  },
  {
   "cell_type": "code",
   "execution_count": 5,
   "id": "c1dd06c1-ab6c-4df7-ba73-f9cd54b31138",
   "metadata": {},
   "outputs": [
    {
     "name": "stdout",
     "output_type": "stream",
     "text": [
      "어텐션 모듈의 전체 파라미터 수: 2,360,064\n"
     ]
    }
   ],
   "source": [
    "# 어텐션 모듈의 전체 파라미터 수를 계산하여 출력합니다.\n",
    "total_params = sum(p.numel() for p in block.att.parameters())\n",
    "print(f\"어텐션 모듈의 전체 파라미터 수: {total_params:,}\")"
   ]
  },
  {
   "cell_type": "markdown",
   "id": "15463dec-520a-47b4-b3ad-e180394fd076",
   "metadata": {},
   "source": [
    "- 위 결과는 하나의 트랜스포머 블록에 대한 값입니다.\n",
    "- 124M GPT 모델의 모든 트랜스포머 블록을 고려하려면 12를 곱하면 됩니다."
   ]
  },
  {
   "cell_type": "markdown",
   "id": "597e9251-e0a9-4972-8df6-f280f35939f9",
   "metadata": {},
   "source": [
    "**보너스: 수학적 계산 과정**\n",
    "\n",
    "- 아래는 파라미터 수를 수학적으로 계산하는 과정입니다(`emb_dim=768` 가정).\n",
    "\n",
    "피드포워드 모듈:\n",
    "- 1번째 `Linear` 층: 768 입력 × 4×768 출력 + 4×768 편향 = 2,362,368\n",
    "- 2번째 `Linear` 층: 4×768 입력 × 768 출력 + 768 편향 = 2,360,064\n",
    "- 합계: 2,362,368 + 2,360,064 = 4,722,432\n",
    "\n",
    "어텐션 모듈:\n",
    "- `W_query`: 768 입력 × 768 출력 = 589,824 \n",
    "- `W_key`: 768 입력 × 768 출력 = 589,824\n",
    "- `W_value`: 768 입력 × 768 출력 = 589,824 \n",
    "- `out_proj`: 768 입력 × 768 출력 + 768 편향 = 590,592\n",
    "- 합계: 3×589,824 + 590,592 = 2,360,064 "
   ]
  },
  {
   "cell_type": "markdown",
   "id": "0f7b7c7f-0fa1-4d30-ab44-e499edd55b6d",
   "metadata": {},
   "source": [
    "# 연습문제 4.2: 더 큰 GPT 모델 초기화하기\n",
    "\n",
    "- 1억 2,400만 개 파라미터의 GPT 모델(일명 \"GPT-2 small\")을 초기화했다. \n",
    "- 구성 파일만 수정하고 나머지 코드는 그대로 둔 채, GPTModel 클래스를 사용해 다음과 같은 더 큰 모델들을 구현해 보자\n",
    "- 보너스로 각 모델의 총 파라미터 수도 계산해 보자."
   ]
  },
  {
   "cell_type": "markdown",
   "id": "310b2e05-3ec8-47fc-afd9-83bf03d4aad8",
   "metadata": {},
   "source": [
    "- **GPT2-small**(이미 구현한 124M 구성):\n",
    "    - \"emb_dim\" = 768\n",
    "    - \"n_layers\" = 12\n",
    "    - \"n_heads\" = 12\n",
    "\n",
    "- **GPT2-medium:**\n",
    "    - \"emb_dim\" = 1024\n",
    "    - \"n_layers\" = 24\n",
    "    - \"n_heads\" = 16\n",
    "\n",
    "- **GPT2-large:**\n",
    "    - \"emb_dim\" = 1280\n",
    "    - \"n_layers\" = 36\n",
    "    - \"n_heads\" = 20\n",
    "\n",
    "- **GPT2-XL:**\n",
    "    - \"emb_dim\" = 1600\n",
    "    - \"n_layers\" = 48\n",
    "    - \"n_heads\" = 25"
   ]
  },
  {
   "cell_type": "code",
   "execution_count": 6,
   "id": "90185dea-81ca-4cdc-aef7-4aaf95cba946",
   "metadata": {},
   "outputs": [],
   "source": [
    "# GPT-2 Small(124M) 모델 기본 구성 정의\n",
    "GPT_CONFIG_124M = {\n",
    "    \"vocab_size\": 50257,      # 어휘 집합 크기\n",
    "    \"context_length\": 1024,   # 최대 문맥 길이(토큰 수)\n",
    "    \"emb_dim\": 768,           # 임베딩 차원\n",
    "    \"n_heads\": 12,            # 어텐션 헤드 개수\n",
    "    \"n_layers\": 12,           # 트랜스포머 블록 개수\n",
    "    \"drop_rate\": 0.1,         # 드롭아웃 비율\n",
    "    \"qkv_bias\": False         # QKV 연산시 bias 사용 여부\n",
    "}\n",
    "\n",
    "# 모델 이름에 따라 구성 값을 업데이트하는 함수\n",
    "def get_config(base_config, model_name=\"gpt2-small\"):\n",
    "    GPT_CONFIG = base_config.copy()  # 기존 구성 복사\n",
    "\n",
    "    if model_name == \"gpt2-small\":\n",
    "        # Small 구성: 기본값과 동일\n",
    "        GPT_CONFIG[\"emb_dim\"] = 768\n",
    "        GPT_CONFIG[\"n_layers\"] = 12\n",
    "        GPT_CONFIG[\"n_heads\"] = 12\n",
    "\n",
    "    elif model_name == \"gpt2-medium\":\n",
    "        # Medium 구성\n",
    "        GPT_CONFIG[\"emb_dim\"] = 1024\n",
    "        GPT_CONFIG[\"n_layers\"] = 24\n",
    "        GPT_CONFIG[\"n_heads\"] = 16\n",
    "\n",
    "    elif model_name == \"gpt2-large\":\n",
    "        # Large 구성\n",
    "        GPT_CONFIG[\"emb_dim\"] = 1280\n",
    "        GPT_CONFIG[\"n_layers\"] = 36\n",
    "        GPT_CONFIG[\"n_heads\"] = 20\n",
    "\n",
    "    elif model_name == \"gpt2-xl\":\n",
    "        # XL 구성\n",
    "        GPT_CONFIG[\"emb_dim\"] = 1600\n",
    "        GPT_CONFIG[\"n_layers\"] = 48\n",
    "        GPT_CONFIG[\"n_heads\"] = 25\n",
    "\n",
    "    else:\n",
    "        raise ValueError(f\"Incorrect model name {model_name}\")\n",
    "\n",
    "    return GPT_CONFIG\n",
    "\n",
    "# 모델의 전체 파라미터 수, weight tying된 파라미터 수, 모델 파일 사이즈를 계산/출력하는 함수\n",
    "def calculate_size(model): # 본문 코드 기반\n",
    "    \n",
    "    total_params = sum(p.numel() for p in model.parameters())\n",
    "    print(f\"전체 파라미터 수: {total_params:,}\")\n",
    "\n",
    "    # weight tying 고려한 파라미터 수 (out_head 파라미터 중복 제외)\n",
    "    total_params_gpt2 =  total_params - sum(p.numel() for p in model.out_head.parameters())\n",
    "    print(f\"Weight tying을 고려한 학습 가능한 파라미터 수: {total_params_gpt2:,}\")\n",
    "    \n",
    "    # 파라미터를 float32(1개당 4바이트)로 가정해 전체 바이트 크기 계산\n",
    "    total_size_bytes = total_params * 4\n",
    "    \n",
    "    # 메가바이트 단위로 변환\n",
    "    total_size_mb = total_size_bytes / (1024 * 1024)\n",
    "    \n",
    "    print(f\"모델 파일 크기(예상): {total_size_mb:.2f} MB\")"
   ]
  },
  {
   "cell_type": "code",
   "execution_count": 7,
   "id": "2587e011-78a4-479c-a8fd-961cc40a5fd4",
   "metadata": {},
   "outputs": [
    {
     "name": "stdout",
     "output_type": "stream",
     "text": [
      "\n",
      "\n",
      "gpt2-small:\n",
      "전체 파라미터 수: 163,009,536\n",
      "Weight tying을 고려한 학습 가능한 파라미터 수: 124,412,160\n",
      "모델 파일 크기(예상): 621.83 MB\n",
      "\n",
      "\n",
      "gpt2-medium:\n",
      "전체 파라미터 수: 406,212,608\n",
      "Weight tying을 고려한 학습 가능한 파라미터 수: 354,749,440\n",
      "모델 파일 크기(예상): 1549.58 MB\n",
      "\n",
      "\n",
      "gpt2-large:\n",
      "전체 파라미터 수: 838,220,800\n",
      "Weight tying을 고려한 학습 가능한 파라미터 수: 773,891,840\n",
      "모델 파일 크기(예상): 3197.56 MB\n",
      "\n",
      "\n",
      "gpt2-xl:\n",
      "전체 파라미터 수: 1,637,792,000\n",
      "Weight tying을 고려한 학습 가능한 파라미터 수: 1,557,380,800\n",
      "모델 파일 크기(예상): 6247.68 MB\n"
     ]
    }
   ],
   "source": [
    "from gpt import GPTModel\n",
    "\n",
    "\n",
    "for model_abbrev in (\"small\", \"medium\", \"large\", \"xl\"):\n",
    "    model_name = f\"gpt2-{model_abbrev}\"\n",
    "    CONFIG = get_config(GPT_CONFIG_124M, model_name=model_name)\n",
    "    model = GPTModel(CONFIG)\n",
    "    print(f\"\\n\\n{model_name}:\")\n",
    "    calculate_size(model)"
   ]
  },
  {
   "cell_type": "markdown",
   "id": "f5f2306e-5dc8-498e-92ee-70ae7ec37ac1",
   "metadata": {},
   "source": [
    "# 연습문제 4.3: 드롭아웃 파라미터 분리해서 사용하기\n",
    "\n",
    "- 이 장의 앞부분에서 우리는 GPT_CONFIG_124M 딕셔너리에 전역 드롭아웃 비율(drop_rate)을 정의해 GPTModel 아키텍처의 여러 위치에서 드롭아웃 비율을 설정했다. \n",
    "- 이제 모델 아키텍처 내의 각 드롭아웃 계층마다 서로 다른 드롭아웃 값을 지정하도록 코드를 변경해 보자.\n",
    "- 힌트: 드롭아웃 계층은 임베딩 층, 숏컷 연결, 멀티헤드 어텐션 모듈의 세 곳에 사용된다."
   ]
  },
  {
   "cell_type": "code",
   "execution_count": 8,
   "id": "5fee2cf5-61c3-4167-81b5-44ea155bbaf2",
   "metadata": {},
   "outputs": [],
   "source": [
    "GPT_CONFIG_124M = {\n",
    "    \"vocab_size\": 50257,             # 어휘 집합 크기\n",
    "    \"context_length\": 1024,          # 컨텍스트(입력) 토큰 최대 길이\n",
    "    \"emb_dim\": 768,                  # 임베딩 차원 수\n",
    "    \"n_heads\": 12,                   # 멀티헤드 어텐션 헤드 개수\n",
    "    \"n_layers\": 12,                  # 트랜스포머 블록(레이어) 개수\n",
    "    \"drop_rate_emb\": 0.1,            # NEW: 임베딩 층 드롭아웃 비율\n",
    "    \"drop_rate_attn\": 0.1,           # NEW: 멀티헤드 어텐션 드롭아웃 비율\n",
    "    \"drop_rate_shortcut\": 0.1,       # NEW: 잔차(shortcut) 연결 드롭아웃 비율\n",
    "    \"qkv_bias\": False                # 어텐션 QKV 바이어스 사용 여부\n",
    "}"
   ]
  },
  {
   "cell_type": "code",
   "execution_count": null,
   "id": "5aa1b0c1-d78a-48fc-ad08-4802458b43f7",
   "metadata": {},
   "outputs": [],
   "source": [
    "import torch.nn as nn\n",
    "from gpt import MultiHeadAttention, LayerNorm, FeedForward\n",
    "\n",
    "# 트랜스포머 블록 정의\n",
    "class TransformerBlock(nn.Module):\n",
    "    def __init__(self, cfg):\n",
    "        super().__init__()\n",
    "        # 멀티헤드 어텐션 모듈\n",
    "        self.att = MultiHeadAttention(\n",
    "            d_in=cfg[\"emb_dim\"],\n",
    "            d_out=cfg[\"emb_dim\"],\n",
    "            context_length=cfg[\"context_length\"],\n",
    "            num_heads=cfg[\"n_heads\"], \n",
    "            dropout=cfg[\"drop_rate_attn\"], # 어텐션 드롭아웃 비율\n",
    "            qkv_bias=cfg[\"qkv_bias\"])\n",
    "        # 피드포워드 네트워크\n",
    "        self.ff = FeedForward(cfg)\n",
    "        # 첫 번째 레이어 정규화\n",
    "        self.norm1 = LayerNorm(cfg[\"emb_dim\"])\n",
    "        # 두 번째 레이어 정규화\n",
    "        self.norm2 = LayerNorm(cfg[\"emb_dim\"])\n",
    "        # 잔차(shortcut) 연결용 드롭아웃\n",
    "        self.drop_shortcut = nn.Dropout(cfg[\"drop_rate_shortcut\"])\n",
    "\n",
    "    def forward(self, x):\n",
    "        # --- 어텐션 블록 + 잔차 연결 ---\n",
    "        shortcut = x                      # 입력을 보존 (잔차)\n",
    "        x = self.norm1(x)                 # 정규화\n",
    "        x = self.att(x)                   # 멀티헤드 어텐션 ([batch, tokens, emb_dim])\n",
    "        x = self.drop_shortcut(x)         # 어텐션 출력에 드롭아웃 적용\n",
    "        x = x + shortcut                  # 잔차 연결\n",
    "\n",
    "        # --- 피드포워드 블록 + 잔차 연결 ---\n",
    "        shortcut = x                      # 입력을 다시 보존 (잔차)\n",
    "        x = self.norm2(x)                 # 정규화\n",
    "        x = self.ff(x)                    # 피드포워드 네트워크\n",
    "        x = self.drop_shortcut(x)         # 드롭아웃 적용\n",
    "        x = x + shortcut                  # 잔차 연결\n",
    "\n",
    "        return x\n",
    "\n",
    "# GPT 모델 전체 구조 정의\n",
    "class GPTModel(nn.Module):\n",
    "    def __init__(self, cfg):\n",
    "        super().__init__()\n",
    "        # 토큰 임베딩\n",
    "        self.tok_emb = nn.Embedding(cfg[\"vocab_size\"], cfg[\"emb_dim\"])\n",
    "        # 위치 임베딩\n",
    "        self.pos_emb = nn.Embedding(cfg[\"context_length\"], cfg[\"emb_dim\"])\n",
    "        # 임베딩 드롭아웃\n",
    "        self.drop_emb = nn.Dropout(cfg[\"drop_rate_emb\"])\n",
    "\n",
    "        # 여러 트랜스포머 블록을 순차적으로 쌓음\n",
    "        self.trf_blocks = nn.Sequential(\n",
    "            *[TransformerBlock(cfg) for _ in range(cfg[\"n_layers\"])])\n",
    "\n",
    "        # 최종 레이어 정규화\n",
    "        self.final_norm = LayerNorm(cfg[\"emb_dim\"])\n",
    "        # 최종 출력(로짓) 레이어\n",
    "        self.out_head = nn.Linear(cfg[\"emb_dim\"], cfg[\"vocab_size\"], bias=False)\n",
    "\n",
    "    def forward(self, in_idx):\n",
    "        batch_size, seq_len = in_idx.shape\n",
    "        # 입력 인덱스를 임베딩으로 변환\n",
    "        tok_embeds = self.tok_emb(in_idx)\n",
    "        # 위치 임베딩 생성 (0 ~ seq_len-1)\n",
    "        pos_embeds = self.pos_emb(torch.arange(seq_len, device=in_idx.device))\n",
    "        # 토큰 임베딩 + 위치 임베딩 합성\n",
    "        x = tok_embeds + pos_embeds  # [batch_size, num_tokens, emb_dim]\n",
    "        x = self.drop_emb(x)         # 임베딩 드롭아웃\n",
    "        x = self.trf_blocks(x)       # 트랜스포머 블록 통과\n",
    "        x = self.final_norm(x)       # 마지막 정규화\n",
    "        logits = self.out_head(x)    # 어휘 크기만큼의 로짓 산출\n",
    "        return logits"
   ]
  },
  {
   "cell_type": "code",
   "execution_count": null,
   "id": "1d013d32-c275-4f42-be21-9010f1537227",
   "metadata": {},
   "outputs": [],
   "source": [
    "import torch  # 파이토치 임포트\n",
    "\n",
    "torch.manual_seed(123)  # 난수 시드 고정 (재현성)\n",
    "model = GPTModel(GPT_CONFIG_124M)  # GPT 모델 인스턴스 생성"
   ]
  }
 ],
 "metadata": {
  "kernelspec": {
   "display_name": ".venv",
   "language": "python",
   "name": "python3"
  },
  "language_info": {
   "codemirror_mode": {
    "name": "ipython",
    "version": 3
   },
   "file_extension": ".py",
   "mimetype": "text/x-python",
   "name": "python",
   "nbconvert_exporter": "python",
   "pygments_lexer": "ipython3",
   "version": "3.12.3"
  }
 },
 "nbformat": 4,
 "nbformat_minor": 5
}
