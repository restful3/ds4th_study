{
 "cells": [
  {
   "cell_type": "markdown",
   "id": "ba450fb1-8a26-4894-ab7a-5d7bfefe90ce",
   "metadata": {},
   "source": [
    "<table style=\"width:100%\">\n",
    "<tr>\n",
    "<td style=\"vertical-align:middle; text-align:left;\">\n",
    "<font size=\"2\">\n",
    "<a href=\"http://mng.bz/orYv\">Build a Large Language Model From Scratch</a> 책의 보충 코드 by <a href=\"https://sebastianraschka.com\">Sebastian Raschka</a><br>\n",
    "<br>코드 저장소: <a href=\"https://github.com/rasbt/LLMs-from-scratch\">https://github.com/rasbt/LLMs-from-scratch</a>\n",
    "</font>\n",
    "</td>\n",
    "<td style=\"vertical-align:middle; text-align:left;\">\n",
    "<a href=\"http://mng.bz/orYv\"><img src=\"https://sebastianraschka.com/images/LLMs-from-scratch-images/cover-small.webp\" width=\"100px\"></a>\n",
    "</td>\n",
    "</tr>\n",
    "</table>"
   ]
  },
  {
   "cell_type": "markdown",
   "id": "51c9672d-8d0c-470d-ac2d-1271f8ec3f14",
   "metadata": {},
   "source": [
    "# 6장 연습문제 해답"
   ]
  },
  {
   "cell_type": "markdown",
   "id": "5fea8be3-30a1-4623-a6d7-b095c6c1092e",
   "metadata": {},
   "source": [
    "## 연습문제 6.1: 컨텍스트 길이 늘리기"
   ]
  },
  {
   "cell_type": "markdown",
   "id": "5860ba9f-2db3-4480-b96b-4be1c68981eb",
   "metadata": {},
   "source": [
    "최대 길이를 1024로 설정하여 입력을 모델이 지원하는 최대 토큰 수로 패딩할 수 있습니다:\n",
    "\n",
    "```python\n",
    "max_length = 1024\n",
    "\n",
    "train_dataset = SpamDataset(base_path / \"train.csv\", max_length=max_length, tokenizer=tokenizer)\n",
    "val_dataset = SpamDataset(base_path / \"validation.csv\", max_length=max_length, tokenizer=tokenizer)\n",
    "test_dataset = SpamDataset(base_path / \"test.csv\", max_length=max_length, tokenizer=tokenizer)\n",
    "```\n",
    "\n",
    "또는 다음과 같이 `max_length`를 정의할 수도 있습니다:\n",
    "\n",
    "```python\n",
    "max_length = model.pos_emb.weight.shape[0]\n",
    "```\n",
    "\n",
    "또는\n",
    "\n",
    "```python\n",
    "max_length = BASE_CONFIG[\"context_length\"]\n",
    "```"
   ]
  },
  {
   "cell_type": "markdown",
   "id": "2b0f4d5d-17fd-4265-93d8-ea08a22fdaf8",
   "metadata": {},
   "source": [
    "편의를 위해 다음 명령으로 이 실험을 실행할 수 있습니다:\n",
    "\n",
    "```bash\n",
    "python additional-experiments.py --context_length \"model_context_length\"\n",
    "```\n",
    "\n",
    "[../02_bonus_additional-experiments](../02_bonus_additional-experiments) 폴더의 코드를 사용하면 테스트 정확도가 78.33%로 크게 낮아집니다(본 장의 95.67%와 비교)."
   ]
  },
  {
   "cell_type": "markdown",
   "id": "5a780455-f52a-48d1-ab82-6afd40bcad8b",
   "metadata": {},
   "source": [
    "## 연습문제 6.2: 전체 모델 미세조정하기"
   ]
  },
  {
   "cell_type": "markdown",
   "id": "56aa5208-aa29-4165-a0ec-7480754e2a18",
   "metadata": {},
   "source": [
    "마지막 트랜스포머 블록만 미세조정하는 대신 코드에서 다음 줄을 제거하여 전체 모델을 미세조정할 수 있습니다:\n",
    "\n",
    "```python\n",
    "for param in model.parameters():\n",
    "    param.requires_grad = False\n",
    "```\n",
    "\n",
    "편의를 위해 다음 명령으로 이 실험을 실행할 수 있습니다:\n",
    "\n",
    "```bash\n",
    "python additional-experiments.py --trainable_layers all\n",
    "```\n",
    "\n",
    "[../02_bonus_additional-experiments](../02_bonus_additional-experiments) 폴더의 코드를 사용하면 테스트 정확도가 96.67%로 1% 향상됩니다(본 장의 95.67%와 비교)."
   ]
  },
  {
   "cell_type": "markdown",
   "id": "2269bce3-f2b5-4a76-a692-5977c75a57b6",
   "metadata": {},
   "source": [
    "## 연습문제 6.3: 첫 번째 토큰과 마지막 토큰 미세조정하기"
   ]
  },
  {
   "cell_type": "markdown",
   "id": "7418a629-51b6-4aa2-83b7-bc0261bc370f",
   "metadata": {},
   "source": [
    "마지막 출력 토큰을 미세조정하는 대신, 코드의 모든 곳에서\n",
    "\n",
    "```python\n",
    "model(input_batch)[:, -1, :]\n",
    "```\n",
    "\n",
    "를 다음과 같이 변경하여 첫 번째 출력 토큰을 미세조정할 수 있습니다:\n",
    "\n",
    "```python\n",
    "model(input_batch)[:, 0, :]\n",
    "```\n",
    "\n",
    "편의를 위해 다음 명령으로 이 실험을 실행할 수 있습니다:\n",
    "\n",
    "```\n",
    "python additional-experiments.py --trainable_token first\n",
    "```\n",
    "\n",
    "[../02_bonus_additional-experiments](../02_bonus_additional-experiments) 폴더의 코드를 사용하면 테스트 정확도가 75.00%로 크게 낮아집니다(본 장의 95.67%와 비교)."
   ]
  }
 ],
 "metadata": {},
 "nbformat": 4,
 "nbformat_minor": 5
}
