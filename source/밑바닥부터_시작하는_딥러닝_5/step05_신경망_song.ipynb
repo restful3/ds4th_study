{
 "cells": [
  {
   "cell_type": "markdown",
   "metadata": {},
   "source": [
    "# 신경망"
   ]
  },
  {
   "cell_type": "markdown",
   "metadata": {},
   "source": [
    "## 파이토치와 경사법"
   ]
  },
  {
   "cell_type": "markdown",
   "metadata": {},
   "source": [
    "### 파이토치 설치"
   ]
  },
  {
   "cell_type": "code",
   "execution_count": 1,
   "metadata": {},
   "outputs": [],
   "source": [
    "# !pip install torch"
   ]
  },
  {
   "cell_type": "code",
   "execution_count": 2,
   "metadata": {},
   "outputs": [
    {
     "data": {
      "text/plain": [
       "'2.5.0'"
      ]
     },
     "execution_count": 2,
     "metadata": {},
     "output_type": "execute_result"
    }
   ],
   "source": [
    "import torch\n",
    "\n",
    "torch.__version__"
   ]
  },
  {
   "cell_type": "code",
   "execution_count": 3,
   "metadata": {},
   "outputs": [
    {
     "name": "stdout",
     "output_type": "stream",
     "text": [
      "CUDA 사용 가능 여부: True\n",
      "현재 사용 중인 GPU: NVIDIA GeForce RTX 3090\n",
      "사용 가능한 GPU 개수: 1\n"
     ]
    }
   ],
   "source": [
    "# GPU 사용 가능 여부 확인\n",
    "print('CUDA 사용 가능 여부:', torch.cuda.is_available())\n",
    "\n",
    "if torch.cuda.is_available():\n",
    "    print('현재 사용 중인 GPU:', torch.cuda.get_device_name(0))\n",
    "    print('사용 가능한 GPU 개수:', torch.cuda.device_count())\n"
   ]
  },
  {
   "cell_type": "markdown",
   "metadata": {},
   "source": [
    "### 텐서 계산"
   ]
  },
  {
   "cell_type": "code",
   "execution_count": 4,
   "metadata": {},
   "outputs": [
    {
     "name": "stdout",
     "output_type": "stream",
     "text": [
      "tensor(75.)\n"
     ]
    }
   ],
   "source": [
    "import torch\n",
    "\n",
    "x = torch.tensor(5.0)\n",
    "\n",
    "y = 3*x**2\n",
    "\n",
    "print(y)"
   ]
  },
  {
   "cell_type": "code",
   "execution_count": 5,
   "metadata": {},
   "outputs": [
    {
     "name": "stdout",
     "output_type": "stream",
     "text": [
      "tensor(30.)\n"
     ]
    }
   ],
   "source": [
    "x = torch.tensor(5.0, requires_grad=True)\n",
    "y = 3*x**2\n",
    "y.backward()\n",
    "print(x.grad)"
   ]
  },
  {
   "cell_type": "markdown",
   "metadata": {},
   "source": [
    "### 경사법"
   ]
  },
  {
   "cell_type": "code",
   "execution_count": 6,
   "metadata": {},
   "outputs": [
    {
     "name": "stdout",
     "output_type": "stream",
     "text": [
      "tensor(-2.) tensor(400.)\n"
     ]
    }
   ],
   "source": [
    "import torch\n",
    "\n",
    "def rosenbrock(x0, x1):\n",
    "    y = 100 * (x1 - x0 ** 2) ** 2 + (x0 - 1) ** 2\n",
    "    return y\n",
    "\n",
    "x0 = torch.tensor(0.0, requires_grad=True)\n",
    "x1 = torch.tensor(2.0, requires_grad=True)\n",
    "\n",
    "y = rosenbrock(x0, x1)\n",
    "y.backward()\n",
    "print(x0.grad, x1.grad)"
   ]
  },
  {
   "cell_type": "code",
   "execution_count": 7,
   "metadata": {},
   "outputs": [
    {
     "name": "stdout",
     "output_type": "stream",
     "text": [
      "0.0 2.0\n",
      "0.6815015077590942 0.46292299032211304\n",
      "0.8253857493400574 0.6804871559143066\n",
      "0.8942827582359314 0.7992911338806152\n",
      "0.9331904053688049 0.8705660700798035\n",
      "0.9568046927452087 0.9152978658676147\n",
      "0.9716982245445251 0.9440822601318359\n",
      "0.9813036918640137 0.9628812670707703\n",
      "0.98758465051651 0.9752733111381531\n",
      "0.9917276501655579 0.983490526676178\n",
      "0.9944759607315063 0.9889602065086365\n"
     ]
    }
   ],
   "source": [
    "# 학습률 설정\n",
    "lr = 0.001  # learning rate\n",
    "iters = 10000  # iteration count\n",
    "\n",
    "# 반복 학습\n",
    "for i in range(iters):\n",
    "    # 1000번마다 현재 값 출력\n",
    "    if i % 1000 == 0:\n",
    "        print(x0.item(), x1.item())\n",
    "\n",
    "    # Rosenbrock 함수 계산\n",
    "    y = rosenbrock(x0, x1)\n",
    "\n",
    "    # 기울기 계산\n",
    "    y.backward()\n",
    "\n",
    "    # 경사하강법으로 파라미터 갱신\n",
    "    x0.data -= lr * x0.grad.data\n",
    "    x1.data -= lr * x1.grad.data\n",
    "\n",
    "    # 기울기 초기화\n",
    "    x0.grad.zero_()\n",
    "    x1.grad.zero_()\n",
    "\n",
    "# 최종 결과 출력\n",
    "print(x0.item(), x1.item())"
   ]
  },
  {
   "cell_type": "markdown",
   "metadata": {},
   "source": [
    "## 선형 회귀"
   ]
  },
  {
   "cell_type": "markdown",
   "metadata": {},
   "source": [
    "### 토이 데이터셋"
   ]
  },
  {
   "cell_type": "code",
   "execution_count": 8,
   "metadata": {},
   "outputs": [
    {
     "data": {
      "image/png": "[encoded data removed]",
      "text/plain": [
       "<Figure size 640x480 with 1 Axes>"
      ]
     },
     "metadata": {},
     "output_type": "display_data"
    }
   ],
   "source": [
    "import torch\n",
    "import matplotlib.pyplot as plt\n",
    "\n",
    "torch.manual_seed(0)\n",
    "x = torch.rand(100, 1)\n",
    "y = 5 + 2 * x + torch.rand(100, 1)\n",
    "\n",
    "plt.scatter(x.detach().numpy(), y.detach().numpy(), s=10)\n",
    "plt.xlabel('x')\n",
    "plt.ylabel('y') \n",
    "plt.show()"
   ]
  },
  {
   "cell_type": "markdown",
   "metadata": {},
   "source": [
    "### 선형 회귀 구현"
   ]
  },
  {
   "cell_type": "code",
   "execution_count": 28,
   "metadata": {},
   "outputs": [
    {
     "name": "stderr",
     "output_type": "stream",
     "text": [
      "/tmp/ipykernel_6032/1810023893.py:7: UserWarning: To copy construct from a tensor, it is recommended to use sourceTensor.clone().detach() or sourceTensor.clone().detach().requires_grad_(True), rather than torch.tensor(sourceTensor).\n",
      "  y = torch.tensor(y, dtype=torch.float32)\n"
     ]
    }
   ],
   "source": [
    "import torch\n",
    "\n",
    "torch.manual_seed(0)\n",
    "x = torch.rand(100, 1)\n",
    "y = 5 + 2 * x + torch.rand(100, 1)\n",
    "\n",
    "y = torch.tensor(y, dtype=torch.float32)\n",
    "\n",
    "W = torch.zeros((1, 1), requires_grad=True)\n",
    "b = torch.zeros(1, requires_grad=True)\n",
    "\n",
    "def predict(x):\n",
    "    y = x @ W + b\n",
    "    return y\n"
   ]
  },
  {
   "cell_type": "code",
   "execution_count": 29,
   "metadata": {},
   "outputs": [
    {
     "name": "stdout",
     "output_type": "stream",
     "text": [
      "41.89796447753906\n",
      "0.22483211755752563\n",
      "0.0925208106637001\n",
      "0.0888015553355217\n",
      "0.08627457916736603\n",
      "0.08435674756765366\n",
      "0.0829005315899849\n",
      "0.0817948430776596\n",
      "0.08095530420541763\n",
      "0.08031783998012543\n",
      "0.07987643033266068\n",
      "====\n",
      "W = 2.2863590717315674\n",
      "b = 5.3144850730896\n"
     ]
    }
   ],
   "source": [
    "import torch.nn.functional as F\n",
    "\n",
    "# 평균 제곱 오차를 계산하는 함수\n",
    "def mean_squared_error(x0, x1):\n",
    "    diff = x0 - x1  # 예측값과 실제값의 차이\n",
    "    N = len(diff)   # 데이터 개수\n",
    "    return torch.sum(diff ** 2) / N  # 차이의 제곱의 평균\n",
    "\n",
    "# 학습률과 반복 횟수 설정\n",
    "lr = 0.1           # 학습률(learning rate)\n",
    "iters = 100        # 반복 횟수(iterations)\n",
    "\n",
    "# 학습 루프\n",
    "for i in range(iters):\n",
    "    y_hat = predict(x)    # 예측값 계산\n",
    "\n",
    "    # loss = mean_squared_error(y, y_hat)  # 손실 계산\n",
    "    loss = F.mse_loss(y, y_hat)\n",
    "\n",
    "    loss.backward()       # 역전파로 기울기 계산\n",
    "\n",
    "    # 경사하강법으로 매개변수 갱신\n",
    "    W.data -= lr * W.grad.data  # 가중치 갱신\n",
    "    b.data -= lr * b.grad.data  # 편향 갱신\n",
    "\n",
    "    # 기울기 초기화\n",
    "    W.grad.zero_()  # 가중치의 기울기 초기화\n",
    "    b.grad.zero_()  # 편향의 기울기 초기화\n",
    "\n",
    "    # 10회 반복마다 손실 출력\n",
    "    if i % 10 == 0:\n",
    "        print(loss.item())\n",
    "\n",
    "# 최종 결과 출력\n",
    "print(loss.item())        # 최종 손실값\n",
    "print('====')\n",
    "print('W =', W.item())    # 학습된 가중치\n",
    "print('b =', b.item())    # 학습된 편향"
   ]
  },
  {
   "cell_type": "code",
   "execution_count": 30,
   "metadata": {},
   "outputs": [
    {
     "data": {
      "image/png": "[encoded data removed]",
      "text/plain": [
       "<Figure size 640x480 with 1 Axes>"
      ]
     },
     "metadata": {},
     "output_type": "display_data"
    }
   ],
   "source": [
    "# plot\n",
    "import matplotlib.pyplot as plt\n",
    "plt.scatter(x.detach().numpy(), y.detach().numpy(), s=10)\n",
    "x = torch.tensor([[0.0], [1.0]])\n",
    "y = W.detach().numpy() * x.detach().numpy() + b.detach().numpy()\n",
    "plt.plot(x, y, color='red')\n",
    "plt.xlabel('x')\n",
    "plt.ylabel('y')\n",
    "plt.show()"
   ]
  },
  {
   "cell_type": "markdown",
   "metadata": {},
   "source": [
    "## 매개변수와 옵티마이저"
   ]
  },
  {
   "cell_type": "markdown",
   "metadata": {},
   "source": [
    "### Parameter 클래스와 Module 클래스"
   ]
  },
  {
   "cell_type": "code",
   "execution_count": 32,
   "metadata": {},
   "outputs": [
    {
     "name": "stdout",
     "output_type": "stream",
     "text": [
      "Parameter containing:\n",
      "tensor([[0.]], requires_grad=True)\n",
      "Parameter containing:\n",
      "tensor([0.], requires_grad=True)\n"
     ]
    }
   ],
   "source": [
    "import torch\n",
    "import torch.nn as nn\n",
    "\n",
    "W = nn.Parameter(torch.zeros(1, 1))\n",
    "b = nn.Parameter(torch.zeros(1))\n",
    "\n",
    "print(W)\n",
    "print(b)"
   ]
  },
  {
   "cell_type": "code",
   "execution_count": 33,
   "metadata": {},
   "outputs": [
    {
     "name": "stdout",
     "output_type": "stream",
     "text": [
      "Parameter containing:\n",
      "tensor([[0.]], requires_grad=True)\n",
      "Parameter containing:\n",
      "tensor([0.], requires_grad=True)\n"
     ]
    }
   ],
   "source": [
    "# 신경망 모델 정의\n",
    "class Model(nn.Module):\n",
    "    def __init__(self):\n",
    "        super().__init__()\n",
    "        self.W = nn.Parameter(torch.zeros(1, 1))  # 가중치 매개변수 초기화\n",
    "        self.b = nn.Parameter(torch.zeros(1))     # 편향 매개변수 초기화\n",
    "\n",
    "    def forward(self, x):\n",
    "        y = x @ self.W + self.b   # 선형 회귀 연산 수행\n",
    "        return y\n",
    "\n",
    "# 모델 인스턴스 생성\n",
    "model = Model()\n",
    "\n",
    "# 모델의 모든 매개변수 출력\n",
    "for param in model.parameters():\n",
    "    print(param)"
   ]
  },
  {
   "cell_type": "code",
   "execution_count": 34,
   "metadata": {},
   "outputs": [
    {
     "name": "stdout",
     "output_type": "stream",
     "text": [
      "Parameter containing:\n",
      "tensor([[0.0421]], requires_grad=True)\n",
      "Parameter containing:\n",
      "tensor([0.6446], requires_grad=True)\n"
     ]
    }
   ],
   "source": [
    "# 신경망 모델을 정의합니다\n",
    "class Model(nn.Module):\n",
    "    def __init__(self, input_size=1, output_size=1):\n",
    "        # 부모 클래스의 초기화 메서드를 호출합니다\n",
    "        super().__init__()\n",
    "        # 선형 계층을 생성합니다. input_size 크기의 입력을 받아 output_size 크기의 출력을 생성합니다\n",
    "        self.linear = nn.Linear(input_size, output_size)\n",
    "\n",
    "    def forward(self, x):\n",
    "        # 입력 x에 대해 선형 변환을 수행합니다\n",
    "        y = self.linear(x)\n",
    "        return y\n",
    "\n",
    "# Model 클래스의 인스턴스를 생성합니다\n",
    "model = Model()\n",
    "\n",
    "# 모델의 모든 학습 가능한 매개변수를 출력합니다\n",
    "for param in model.parameters():\n",
    "    print(param)"
   ]
  },
  {
   "cell_type": "markdown",
   "metadata": {},
   "source": [
    "### 옵티마이저"
   ]
  },
  {
   "cell_type": "code",
   "execution_count": 35,
   "metadata": {},
   "outputs": [],
   "source": [
    "x = torch.rand(100, 1)\n",
    "y = 5 + 2 * x + torch.rand(100, 1)\n",
    "\n",
    "lr = 0.1\n",
    "iters = 100\n",
    "\n",
    "model = Model()\n",
    "\n",
    "optimizer = torch.optim.SGD(model.parameters(), lr=lr)\n",
    "\n",
    "for i in range(iters):\n",
    "    y_hat = model(x)\n",
    "    loss = nn.functional.mse_loss(y, y_hat)\n",
    "    loss.backward()\n",
    "    optimizer.step()\n",
    "    optimizer.zero_grad()\n",
    "    "
   ]
  },
  {
   "cell_type": "markdown",
   "metadata": {},
   "source": [
    "## 신경망 구현"
   ]
  },
  {
   "cell_type": "markdown",
   "metadata": {},
   "source": [
    "### 비선형 데이터셋\n",
    "\n",
    "$y = \\sin(2\\pi x) + \\epsilon$\n",
    "\n"
   ]
  },
  {
   "cell_type": "code",
   "execution_count": 37,
   "metadata": {},
   "outputs": [
    {
     "data": {
      "image/png": "[encoded data removed]",
      "text/plain": [
       "<Figure size 640x480 with 1 Axes>"
      ]
     },
     "metadata": {},
     "output_type": "display_data"
    }
   ],
   "source": [
    "import torch\n",
    "import torch.nn as nn\n",
    "import torch.nn.functional as F\n",
    "\n",
    "\n",
    "torch.manual_seed(0)\n",
    "x = torch.rand(100, 1)\n",
    "y = torch.sin(2 * torch.pi * x) + torch.rand(100, 1)\n",
    "\n",
    "plt.scatter(x.detach().numpy(), y.detach().numpy(), s=10)\n",
    "plt.xlabel('x')\n",
    "plt.ylabel('y')\n",
    "plt.show()\n"
   ]
  },
  {
   "cell_type": "markdown",
   "metadata": {},
   "source": [
    "### 선형 변환과 활성화 함수"
   ]
  },
  {
   "cell_type": "code",
   "execution_count": 47,
   "metadata": {},
   "outputs": [
    {
     "data": {
      "image/png": "[encoded data removed]",
      "text/plain": [
       "<Figure size 1200x600 with 2 Axes>"
      ]
     },
     "metadata": {},
     "output_type": "display_data"
    }
   ],
   "source": [
    "import torch.nn.functional as F\n",
    "\n",
    "a = torch.randn(100, 5)\n",
    "\n",
    "b = F.sigmoid(a)\n",
    "c = F.relu(a)\n",
    "\n",
    "fig, (ax1, ax2) = plt.subplots(1, 2, figsize=(12, 6))\n",
    "\n",
    "ax1.scatter(a.detach().numpy(), b.detach().numpy(), c='blue', s=10)\n",
    "ax1.set_title('Sigmoid')\n",
    "ax1.set_xlabel('Input (a)')\n",
    "ax1.set_ylabel('Output (b)')\n",
    "\n",
    "ax2.scatter(a.detach().numpy(), c.detach().numpy(), c='red', s=10)\n",
    "ax2.set_title('ReLU')\n",
    "ax2.set_xlabel('Input (a)')\n",
    "ax2.set_ylabel('Output (c)')\n",
    "\n",
    "plt.tight_layout()\n",
    "plt.show()\n"
   ]
  },
  {
   "cell_type": "markdown",
   "metadata": {},
   "source": [
    "### 신경망 구현"
   ]
  },
  {
   "cell_type": "code",
   "execution_count": 49,
   "metadata": {},
   "outputs": [
    {
     "name": "stdout",
     "output_type": "stream",
     "text": [
      "0.7643452286720276\n",
      "0.23656320571899414\n",
      "0.2322607785463333\n",
      "0.22441409528255463\n",
      "0.21026141941547394\n",
      "0.1795787364244461\n",
      "0.11798442900180817\n",
      "0.08471601456403732\n",
      "0.08014969527721405\n",
      "0.07964840531349182\n",
      "0.07943300157785416\n"
     ]
    },
    {
     "data": {
      "image/png": "[encoded data removed]",
      "text/plain": [
       "<Figure size 640x480 with 1 Axes>"
      ]
     },
     "metadata": {},
     "output_type": "display_data"
    }
   ],
   "source": [
    "# PyTorch 라이브러리 임포트\n",
    "import torch\n",
    "import torch.nn as nn\n",
    "import torch.nn.functional as F\n",
    "\n",
    "\n",
    "# 재현성을 위한 시드 설정\n",
    "torch.manual_seed(0)\n",
    "# 100개의 무작위 입력 데이터 생성 (0~1 사이)\n",
    "x = torch.rand(100, 1)\n",
    "# sin 함수에 노이즈를 추가한 타겟 데이터 생성\n",
    "y = torch.sin(2 * torch.pi * x) + torch.rand(100, 1)\n",
    "\n",
    "# 신경망 모델 정의\n",
    "class Model(nn.Module):\n",
    "    def __init__(self, input_size=1, hidden_size= 10, output_size=1):\n",
    "        super().__init__()\n",
    "        # 입력층에서 은닉층으로의 선형 변환\n",
    "        self.linear1 = nn.Linear(input_size, hidden_size)\n",
    "        # 은닉층에서 출력층으로의 선형 변환\n",
    "        self.linear2 = nn.Linear(hidden_size, output_size)\n",
    "\n",
    "    def forward(self, x):\n",
    "        # 첫 번째 선형 변환\n",
    "        y = self.linear1(x)\n",
    "        # 활성화 함수(시그모이드) 적용\n",
    "        y = F.sigmoid(y)\n",
    "        # 두 번째 선형 변환\n",
    "        y = self.linear2(y)\n",
    "        return y\n",
    "\n",
    "\n",
    "# 학습률 설정\n",
    "lr = 0.2\n",
    "# 학습 반복 횟수 설정\n",
    "iters = 10000\n",
    "\n",
    "# 모델 인스턴스 생성\n",
    "model = Model()\n",
    "# SGD 옵티마이저 설정\n",
    "optimizer = torch.optim.SGD(model.parameters(), lr=lr)\n",
    "\n",
    "# 학습 루프\n",
    "for i in range(iters):\n",
    "    # 모델의 예측값 계산\n",
    "    y_pred = model(x)\n",
    "    # MSE 손실 계산\n",
    "    loss = F.mse_loss(y, y_pred)\n",
    "    # 기존 그래디언트 초기화\n",
    "    optimizer.zero_grad()\n",
    "    # 역전파 수행\n",
    "    loss.backward()\n",
    "    # 파라미터 업데이트\n",
    "    optimizer.step()\n",
    "\n",
    "    # 1000번째 반복마다 손실값 출력\n",
    "    if i % 1000 == 0:\n",
    "        print(loss.item())\n",
    "\n",
    "# 최종 손실값 출력\n",
    "print(loss.item())\n",
    "\n",
    "# 결과 시각화\n",
    "import matplotlib.pyplot as plt\n",
    "# 원본 데이터 산점도 그리기\n",
    "plt.scatter(x.detach().numpy(), y.detach().numpy(), s=10)\n",
    "# 0부터 1까지 균일한 간격의 100개 테스트 포인트 생성\n",
    "x = torch.linspace(0, 1, 100).reshape(-1, 1)\n",
    "# 모델 예측값 계산\n",
    "y = model(x).detach().numpy()\n",
    "# 예측 곡선 그리기\n",
    "plt.plot(x, y, color='red')\n",
    "plt.show()"
   ]
  },
  {
   "cell_type": "markdown",
   "metadata": {},
   "source": [
    "## 토치비전과 데이터셋"
   ]
  },
  {
   "cell_type": "markdown",
   "metadata": {},
   "source": [
    "### 토치비전 설치"
   ]
  },
  {
   "cell_type": "code",
   "execution_count": 50,
   "metadata": {},
   "outputs": [
    {
     "data": {
      "text/plain": [
       "'0.20.0'"
      ]
     },
     "execution_count": 50,
     "metadata": {},
     "output_type": "execute_result"
    }
   ],
   "source": [
    "import torchvision\n",
    "\n",
    "torchvision.__version__"
   ]
  },
  {
   "cell_type": "markdown",
   "metadata": {},
   "source": [
    "### MNIST 데이터셋"
   ]
  },
  {
   "cell_type": "code",
   "execution_count": 51,
   "metadata": {},
   "outputs": [
    {
     "name": "stdout",
     "output_type": "stream",
     "text": [
      "Downloading http://yann.lecun.com/exdb/mnist/train-images-idx3-ubyte.gz\n",
      "Failed to download (trying next):\n",
      "HTTP Error 404: Not Found\n",
      "\n",
      "Downloading https://ossci-datasets.s3.amazonaws.com/mnist/train-images-idx3-ubyte.gz\n",
      "Downloading https://ossci-datasets.s3.amazonaws.com/mnist/train-images-idx3-ubyte.gz to ./data/MNIST/raw/train-images-idx3-ubyte.gz\n"
     ]
    },
    {
     "name": "stderr",
     "output_type": "stream",
     "text": [
      "100%|██████████| 9.91M/9.91M [00:12<00:00, 781kB/s] \n"
     ]
    },
    {
     "name": "stdout",
     "output_type": "stream",
     "text": [
      "Extracting ./data/MNIST/raw/train-images-idx3-ubyte.gz to ./data/MNIST/raw\n",
      "\n",
      "Downloading http://yann.lecun.com/exdb/mnist/train-labels-idx1-ubyte.gz\n",
      "Failed to download (trying next):\n",
      "HTTP Error 404: Not Found\n",
      "\n",
      "Downloading https://ossci-datasets.s3.amazonaws.com/mnist/train-labels-idx1-ubyte.gz\n",
      "Downloading https://ossci-datasets.s3.amazonaws.com/mnist/train-labels-idx1-ubyte.gz to ./data/MNIST/raw/train-labels-idx1-ubyte.gz\n"
     ]
    },
    {
     "name": "stderr",
     "output_type": "stream",
     "text": [
      "100%|██████████| 28.9k/28.9k [00:00<00:00, 156kB/s]\n"
     ]
    },
    {
     "name": "stdout",
     "output_type": "stream",
     "text": [
      "Extracting ./data/MNIST/raw/train-labels-idx1-ubyte.gz to ./data/MNIST/raw\n",
      "\n",
      "Downloading http://yann.lecun.com/exdb/mnist/t10k-images-idx3-ubyte.gz\n",
      "Failed to download (trying next):\n",
      "HTTP Error 404: Not Found\n",
      "\n",
      "Downloading https://ossci-datasets.s3.amazonaws.com/mnist/t10k-images-idx3-ubyte.gz\n",
      "Downloading https://ossci-datasets.s3.amazonaws.com/mnist/t10k-images-idx3-ubyte.gz to ./data/MNIST/raw/t10k-images-idx3-ubyte.gz\n"
     ]
    },
    {
     "name": "stderr",
     "output_type": "stream",
     "text": [
      "100%|██████████| 1.65M/1.65M [00:01<00:00, 1.54MB/s]\n"
     ]
    },
    {
     "name": "stdout",
     "output_type": "stream",
     "text": [
      "Extracting ./data/MNIST/raw/t10k-images-idx3-ubyte.gz to ./data/MNIST/raw\n",
      "\n",
      "Downloading http://yann.lecun.com/exdb/mnist/t10k-labels-idx1-ubyte.gz\n",
      "Failed to download (trying next):\n",
      "HTTP Error 404: Not Found\n",
      "\n",
      "Downloading https://ossci-datasets.s3.amazonaws.com/mnist/t10k-labels-idx1-ubyte.gz\n",
      "Downloading https://ossci-datasets.s3.amazonaws.com/mnist/t10k-labels-idx1-ubyte.gz to ./data/MNIST/raw/t10k-labels-idx1-ubyte.gz\n"
     ]
    },
    {
     "name": "stderr",
     "output_type": "stream",
     "text": [
      "100%|██████████| 4.54k/4.54k [00:00<00:00, 3.62MB/s]"
     ]
    },
    {
     "name": "stdout",
     "output_type": "stream",
     "text": [
      "Extracting ./data/MNIST/raw/t10k-labels-idx1-ubyte.gz to ./data/MNIST/raw\n",
      "\n",
      "size: 60000\n",
      "type: <class 'PIL.Image.Image'>\n",
      "label: 5\n"
     ]
    },
    {
     "name": "stderr",
     "output_type": "stream",
     "text": [
      "\n"
     ]
    },
    {
     "data": {
      "image/png": "[encoded data removed]",
      "text/plain": [
       "<Figure size 640x480 with 1 Axes>"
      ]
     },
     "metadata": {},
     "output_type": "display_data"
    }
   ],
   "source": [
    "# 필요한 라이브러리 임포트\n",
    "import torch\n",
    "import torchvision  # 컴퓨터 비전 관련 도구 모음\n",
    "import torchvision.transforms as transforms  # 데이터 변환을 위한 도구\n",
    "import matplotlib.pyplot as plt  # 시각화를 위한 라이브러리\n",
    "\n",
    "\n",
    "# MNIST 데이터셋 로드\n",
    "dataset = torchvision.datasets.MNIST(\n",
    "    root='./data',  # 데이터를 저장할 경로\n",
    "    train=True,     # 학습용 데이터셋 사용\n",
    "    transform=None, # 데이터 변환 없음\n",
    "    download=True   # 데이터가 없으면 다운로드\n",
    ")\n",
    "\n",
    "# 첫 번째 데이터와 레이블 가져오기\n",
    "x, label = dataset[0]\n",
    "\n",
    "# 데이터셋 정보 출력\n",
    "print('size:', len(dataset))  # 전체 데이터 개수: 60000\n",
    "print('type:', type(x))      # 데이터 타입: PIL 이미지\n",
    "print('label:', label)       # 레이블 값: 5\n",
    "\n",
    "# 이미지 시각화\n",
    "plt.imshow(x, cmap='gray')   # 흑백 이미지로 표시\n",
    "plt.show()"
   ]
  },
  {
   "cell_type": "markdown",
   "metadata": {},
   "source": [
    "### 전처리"
   ]
  },
  {
   "cell_type": "code",
   "execution_count": 55,
   "metadata": {},
   "outputs": [
    {
     "name": "stdout",
     "output_type": "stream",
     "text": [
      "type: <class 'torch.Tensor'>\n",
      "shape: torch.Size([1, 28, 28])\n"
     ]
    }
   ],
   "source": [
    "# 데이터 전처리\n",
    "# ToTensor()를 사용하여 PIL 이미지를 텐서로 변환\n",
    "transform = transforms.ToTensor()\n",
    "\n",
    "# MNIST 데이터셋 로드 (텐서 변환 적용)\n",
    "dataset = torchvision.datasets.MNIST(\n",
    "    root='./data',      # 데이터를 저장할 경로\n",
    "    train=True,         # 학습용 데이터셋 사용\n",
    "    transform=transform, # 텐서 변환 적용\n",
    "    download=True       # 데이터가 없으면 다운로드\n",
    ")\n",
    "\n",
    "# 첫 번째 데이터와 레이블 가져오기\n",
    "x, label = dataset[0]\n",
    "print('type:', type(x))  # 데이터 타입: torch.Tensor\n",
    "print('shape:', x.shape)  # 데이터 형상: [1, 28, 28] (채널, 높이, 너비)"
   ]
  },
  {
   "cell_type": "markdown",
   "metadata": {},
   "source": [
    "### 데이터 로더"
   ]
  },
  {
   "cell_type": "code",
   "execution_count": 53,
   "metadata": {},
   "outputs": [
    {
     "name": "stdout",
     "output_type": "stream",
     "text": [
      "x shape: torch.Size([32, 1, 28, 28])\n",
      "label shape: torch.Size([32])\n"
     ]
    }
   ],
   "source": [
    "# DataLoader 생성\n",
    "# - 데이터셋을 미니배치 단위로 로드하기 위한 유틸리티\n",
    "dataloader = torch.utils.data.DataLoader(\n",
    "    dataset,        # 로드할 데이터셋\n",
    "    batch_size=32,  # 미니배치 크기\n",
    "    shuffle=True)   # 데이터 순서를 섞을지 여부\n",
    "\n",
    "# 첫 번째 미니배치 데이터 확인\n",
    "for x, label in dataloader:\n",
    "    print('x shape:', x.shape)      # 데이터 형상: [배치크기, 채널, 높이, 너비]\n",
    "    print('label shape:', label.shape)  # 레이블 형상: [배치크기]\n",
    "    break  # 첫 번째 배치만 확인하고 종료"
   ]
  },
  {
   "cell_type": "code",
   "execution_count": null,
   "metadata": {},
   "outputs": [],
   "source": []
  }
 ],
 "metadata": {
  "kernelspec": {
   "display_name": "nlp",
   "language": "python",
   "name": "python3"
  },
  "language_info": {
   "codemirror_mode": {
    "name": "ipython",
    "version": 3
   },
   "file_extension": ".py",
   "mimetype": "text/x-python",
   "name": "python",
   "nbconvert_exporter": "python",
   "pygments_lexer": "ipython3",
   "version": "3.10.15"
  }
 },
 "nbformat": 4,
 "nbformat_minor": 2
}
