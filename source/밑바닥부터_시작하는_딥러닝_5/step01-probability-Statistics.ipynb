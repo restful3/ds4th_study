{
 "cells": [
  {
   "cell_type": "markdown",
   "metadata": {},
   "source": [
    "# 1.1. 확률의 기초\n",
    "\n",
    "## 1.1.1 확률 변수와 확률 분포\n",
    "\n",
    "- **확률 변수(random variable)** 는 얻을 수 있는 값이 확률적으로 결정되는 변수\n",
    "    - 주사위의 눈을 확률 변수 x라 하고, 특정 눈이 나올 확률을 p(x)라고 할 때, 눈 하나가 나올 확률은 p(x = 1)로 표기 합니다. \n",
    "\n",
    "- **확률 분포(probability distribution)** 는 일어날 수 있는 모든 값에 대해 그 확률을 나타낸 것입니다. \n",
    "    - 주사위의 눈 {1,2,3,4,5,6}의 값 각가에 대한 확률을 기록한 확률 분포입니다. \n",
    "    \n",
    "    - <img src=\"./img/0-1.png\" width=\"30%\"> </img>\n",
    "    \n",
    "    - 위 표가 발생 가능한 값 모두의 확률을 표현한다면 \"확률 변수 x는 [표 1-1]의 확률 분포를 따른다\"라고 말합니다.\n",
    "    - 위 확률 분포를 바탕으로 실제 값이 생성됩니다. \n",
    "    \n",
    "    - 이때 확률 분포에서 실제로 얻은 값 하나하나를 **관측값(observerd value)** 또는 **관측 데이터** 라고 하며, 단순히 **값** or **데이터**라고도 합니다.\n",
    "    - 그리고 관측값의 집합을 **샘플(sample)** 또는 **표본** 이라고 합니다. \n",
    "    \n",
    "    - <img src=\"./img/0-2.png\" width=\"50%\"> </img>\n",
    "\n",
    "    - 확률 분포는 각 눈이 나올 확률이 모두 $\\frac{1}{6}$ 로 동일합니다. 이러한 확률을 **균등 분포(uniform distribution)** 라고 합니다. \n",
    "    - 물론 주사위의 확률 분포가 꼭 균등 분포일 필요는 없습니다. 단, 확률분포로 성립하려면 다음 두 조건을 만족해야 합니다. \n",
    "\n",
    "        - 확률 분포가 되기 위한 조건\n",
    "            - N개의 이산값 {$x_1$,$x_2$...$x_n$}을 취하는 확률 변수를 x라 하겠습니다. 또한 편의상 p($x = x_k$)를 p($x_k$)로 단순화해 표기했습니다. \n",
    "            1) 각 값의 발생 확률은 모두 0 이상 1 이하\n",
    "                - 0 <= p($x_k$) <= 1    (k=1,2...N)\n",
    "            2) 모둔 확률을 다 더하면 1\n",
    "                - <img src=\"./img/1-2.png\" width=\"20%\"> </img>"
   ]
  },
  {
   "cell_type": "markdown",
   "metadata": {},
   "source": [
    "## 1.1.2 확률 분포의 종류\n",
    "\n",
    "- 확률 분포는 이산 확률 분포와 연속 확률 분호로 나뉩니다. \n",
    "    - 이산 확률 분포 : 확률 변수가 이산값(1, 2, 3과 같이 딱딱 떨어지는 값)을 취하는 분포. 주사위가 이산 확률 분포입니다. \n",
    "    - 연속 확률 분포 : 확률 변수가 연속적인 값. 키와 기온은 연속 확률 분포\n",
    "\n",
    "- <img src=\"./img/1-3.png\" width=\"50%\"> </img>\n",
    "    - 이산 확률 변수에서 p(x)는 확률을 나타냅니다. \n",
    "    - 연속 확률 변수에서 p(x)는 확률 밀도를 나타냅니다. 확률 밀도는 \"확률 밀도 함수\"라고도 합니다. \n",
    "\n",
    "- 연속 확률 분포의 경우에도 확률을 구할 수 있습니다. \n",
    "    - 정확하게는 \"x가 특정 구간에 있을 확률\"을 구할 수 있으며 그 값은 \"특정 구간의 곡선 아래 면적\"에 해당 합니다. \n",
    "    - 예를 들어 x가 170 <= x <= 180 구간에 있을 확률은 아래 그림과 같이 적분으로 구할 수 있습니다. \n",
    "    \n",
    "    - <img src=\"./img/2-1.png\" width=\"60%\"> </img>\n",
    "\n",
    "- 또한 연속 확률 분포도 확률 분포로 성립하려면 다음 두 조건을 만족해야 합니다. \n",
    "    1. (모든 x에서) 확률 밀도는 0 이상\n",
    "\n",
    "        - <img src=\"./img/2-2.png\" width=\"10%\"> </img>\n",
    "\n",
    "    2. 전체 구간에서 확률 밀도의 적분값은 1\n",
    "\n",
    "        - <img src=\"./img/2-3.png\" width=\"20%\"> </img>\n",
    "        \n"
   ]
  },
  {
   "cell_type": "markdown",
   "metadata": {},
   "source": [
    "## 1.1.3 기댓값과 분산\n",
    "\n",
    "- 확률 분포의 특징을 나타내는 중요한 값으로 기댓값과 분산이 있습니다. \n",
    "\n",
    "- **기댓값(expected value)** 은 한 번의 관측으로 얻을 수 있는 값의 평균. 그래서 기댓값을 가리켜 단순히 평균이라고 부르기도 합니다. \n",
    "\n",
    "    - 이산 확률 분포일 때\n",
    "\n",
    "        - <img src=\"./img/3-1.png\" width=\"20%\"> </img>\n",
    "\n",
    "    - 연속 확률 분포일 때\n",
    "\n",
    "        - <img src=\"./img/3-2.png\" width=\"20%\"> </img>\n",
    "- 이 책에서는 기댓값을 E[x] 형태로 표기합니다. \n",
    "\n",
    "- 기댓값은 얻을 수 있는 모든 가능한 값과 그 일이 일어날 확률의 곱을 더한 값으로 표현합니다. \n",
    "\n",
    "이산 확률 분포에서는 합($\\sum$)으로, 연속확률 분포에서는 적분($\\int$)으로 구할 수 있습니다. \n",
    "\n",
    "- **분산(variance)** 은 다음 식으로 표현 합니다. \n",
    "\n",
    "    - <img src=\"./img/3-3.png\" width=\"20%\"> </img>\n",
    "\n",
    "    - 분산은 x와 $\\mu$ 의 차이를 제곱하고 그 기댓값을 구해 얻습니다. \n",
    "\n",
    "    - 분산은 기댓값 $\\mu$ 를 중심으로 확률 변수의 값이 어느정도 분산되어 있는지 나타냅니다. \n",
    "\n",
    "    - 분산이 작을수록 확률 변수가 취할 수 있는 값이 기댓값 주변에 모여 있다는 뜻입니다. 이산 확률 분포와 연속 확률 분포에서 분산은 각각 다음처럼 계산할 수 있습니다.\n",
    "\n",
    "    - 이산 확률 분포일 때\n",
    "        - <img src=\"./img/3-4.png\" width=\"35%\"> </img>\n",
    "\n",
    "    - 연속 확률 분포일 때\n",
    "\n",
    "        - <img src=\"./img/4-1.png\" width=\"35%\"> </img>\n",
    "\n",
    "    - 간단한 확률 분포라면 수식을 계산하여 기댓값과 분산을 구할 수 있습니다. \n",
    "\n",
    "    - 이산 확률 분포인 주사위 예(균든 분포)에서 기댓값, 분산, 표준 편차를 구해보죠. 다음과 같이 계산할 수 있습니다. \n",
    "\n",
    "        - <img src=\"./img/4-2.png\" width=\"40%\"> </img>\n",
    "\n"
   ]
  },
  {
   "cell_type": "markdown",
   "metadata": {},
   "source": [
    "# 1.2 정규 분포\n",
    "\n",
    "- 확률 분포\n",
    "    - 균등 분포\n",
    "    - 이항 분포\n",
    "    - 정규 분포\n",
    "    - 기타 등등\n",
    "- 정규 분포\n",
    "    - 독일 수학자 \"카를 프리드리히 가우스\"의 이름을 따서 \"가우스 분포\"라고도 합니다. \n",
    "\n",
    "## 1.2.1 정규 분포의 확률 밀도 함수\n",
    "- 정규 분포는 연속 확률 분포입니다. \n",
    "    - 확률 변수를 x, 평균을 $\\mu$, 표준 편차 $\\sigma$ 라고 가정하면 정규 분포의 확률 밀도 할수는 아래과 같습니다.\n",
    "\n",
    "    <img src=\"./img/5-1.png\" width=\"30%\"> </img>\n",
    "\n",
    "    - 이 식에서 e는 네이피어 상수(자연로그의 밑, 오일러 상수)를 나타내며, e=2.71828...입니다.  \n",
    "    - 네이피어 상수의 지수 표기인 e^o는 주수 부분을 읽기 쉽게 하기 위해 exp(o)형태로 표기합니다. 이 책의 표기는 아래와 같다.\n",
    "    \n",
    "    <img src=\"./img/5-2.png\" width=\"30%\"> </img>\n",
    "\n",
    "    - 이 식에서 p(x)는 'x를 인수로 받아 확률 밀도를 반환하는 함수'로 해석할 수 있습니다. 여기서 정규 분포의 모양은 $\\mu$ 와 $\\sigma$ 에 의해 결정되는데, \n",
    "    이처럼 확률 분포의 모양을 결정하는 요인을 매개변수(parameter)라고 합니다. \n",
    "    - 매개변수인 $\\mu$ 와 $\\sigma$ 도 인수에 추가하여 활률 밀도 함수를 p(x, $\\mu$, $\\sigma$)형태로 표기하기도 합니다.\n",
    "\n",
    "    <img src=\"./img/5-3.png\" width=\"30%\"> </img>\n",
    "\n",
    "    - 매개변수를 인수로 추가할때 쉼표(,)가 아닌 세미콜론(;)을 썻습니다. 이는 확률 변수와 매개변수를 구분하기 위함입니다. \n",
    "    - 세미콜론의 왼쪽은 확률 변수를, 오른쪽은 매개변수를 뜻합니다. \n",
    "\n",
    "    <img src=\"./img/6-1.png\" width=\"20%\"> </img>\n",
    "\n",
    "    - 정규 분포는 특수한 확률 분포이기에 수식으로 표기할때 p가 아닌 N(Normal Distribution)을 쓰기도 합니다. 이때 정규 분포는 다음 식으로 표현 합니다.\n",
    "\n",
    "    <img src=\"./img/6-2.png\" width=\"20%\"> </img>"
   ]
  },
  {
   "cell_type": "markdown",
   "metadata": {},
   "source": [
    "## 1.2.2 정규 분포 코드\n",
    "\n",
    "- 정규 분포를 코드로  작성. 수식을 그대로 옮기면 아래와 같다."
   ]
  },
  {
   "cell_type": "code",
   "execution_count": 1,
   "metadata": {},
   "outputs": [],
   "source": [
    "import numpy as np\n",
    "\n",
    "def normal(x, mu=0, sigma=1):\n",
    "    y = 1 / (np.sqrt(2 * np.pi) * sigma) * np.exp(-(x - mu)**2 / (2 * sigma**2))\n",
    "    return y\n"
   ]
  },
  {
   "cell_type": "markdown",
   "metadata": {},
   "source": [
    "- 수식의 평균 $\\mu$ 를 코드에서는 변수 mu에. 표준편차 $\\sigma$ 를 sigma에 대응시켰습니다.\n",
    "- 평균과 표준 편차의 기본값은 각각 0(mu=0)과 1(sigma=1)입니다. \n",
    "- 평균이 0이고 표준편차가 1인 정규 분포를 **표준 정규 분포** 라고 하며 수식으로는 다음처럼 표현합니다.\n",
    "\n",
    "<img src=\"./img/7-1.png\" width=\"30%\"> </img>\n",
    "\n",
    "- 정규 분포를 시각화하는 코드입니다."
   ]
  },
  {
   "cell_type": "code",
   "execution_count": 2,
   "metadata": {},
   "outputs": [
    {
     "data": {
      "image/png": "[encoded data removed]",
      "text/plain": [
       "<Figure size 640x480 with 1 Axes>"
      ]
     },
     "metadata": {},
     "output_type": "display_data"
    }
   ],
   "source": [
    "import numpy as np\n",
    "import matplotlib.pyplot as plt\n",
    "\n",
    "\n",
    "def normal(x, mu=0, sigma=1):\n",
    "    y = 1 / (np.sqrt(2 * np.pi) * sigma) * np.exp(-(x - mu)**2 / (2 * sigma**2))\n",
    "    return y\n",
    "\n",
    "x = np.linspace(-5, 5, 100)\n",
    "y = normal(x)\n",
    "\n",
    "plt.plot(x, y)\n",
    "plt.xlabel('x')\n",
    "plt.ylabel('y')\n",
    "plt.show()"
   ]
  },
  {
   "cell_type": "markdown",
   "metadata": {},
   "source": [
    "- 여기서 x에는 -5에서 5까지의 범위를 똑같은 간격으로 나눈 100개의 값이 담겨 있습니다.\n",
    "- 이러한 x의 원소 각각에 정규 분포 함수 normal()을 적용하면 y를 구할 수 있습니다. 이 x와 y를 그래프로 표현한 것이 [그림 1-5]와 같습니다. (위 샘플 코드 결과)\n",
    "- 평균 0, 표준편차 1인 정규 분포\n",
    "- 평균인 0을 중심으로 좌우 대칭인 산 모먕. 이러한 곡선의 형태를 **종 모양 곡선(bell curve)** 이라고 합니다.\n",
    "\n"
   ]
  },
  {
   "cell_type": "markdown",
   "metadata": {},
   "source": [
    "## 1.2.3 매개 변수의 역할\n",
    "\n",
    "- 정규 분포에는 평균($\\mu$)과 표준 편차($\\sigma$)라는 두 가지 매개변수가 존대합니다. 두 값에 따라 정규 분표의 형태가 결정 됩니다.\n",
    "- 우선 표준 편차 sigma/는 고정하고 평균 mu만을 변경하여 그래프를 그려봅시다."
   ]
  },
  {
   "cell_type": "code",
   "execution_count": 1,
   "metadata": {},
   "outputs": [
    {
     "data": {
      "image/png": "[encoded data removed]",
      "text/plain": [
       "<Figure size 640x480 with 1 Axes>"
      ]
     },
     "metadata": {},
     "output_type": "display_data"
    }
   ],
   "source": [
    "import numpy as np\n",
    "import matplotlib.pyplot as plt\n",
    "\n",
    "def normal(x, mu=0, sigma=1):\n",
    "    y = 1 / (np.sqrt(2 * np.pi) * sigma) * np.exp(-(x - mu)**2 / (2 * sigma**2))\n",
    "    return y\n",
    "\n",
    "x = np.linspace(-10, 10, 1000)\n",
    "\n",
    "# mu ====================\n",
    "y0 = normal(x, mu=-3)\n",
    "y1 = normal(x, mu=0)\n",
    "y2 = normal(x, mu=5)\n",
    "\n",
    "plt.plot(x, y0, label='$\\mu$=-3')\n",
    "plt.plot(x, y1, label='$\\mu$=0')\n",
    "plt.plot(x, y2, label='$\\mu$=5')\n",
    "plt.legend()\n",
    "plt.xlabel('x')\n",
    "plt.ylabel('y')\n",
    "plt.show()\n"
   ]
  },
  {
   "cell_type": "markdown",
   "metadata": {},
   "source": [
    "- 산의 모양은 모두 같지만 확률 밀도가 최대가 되는 위치가 다릅니다. $\\mu$=0인 정규 분포에서는 x=0에서, $\\mu$=-3인 정규 분포에서는 x=-3에서 값이 최대가 됩니다.\n",
    "\n",
    "- 이처럼 산 정상의  위치는 평균인 $\\mu$ 가 결정 합니다."
   ]
  },
  {
   "cell_type": "code",
   "execution_count": null,
   "metadata": {},
   "outputs": [],
   "source": [
    "import numpy as np\n",
    "import matplotlib.pyplot as plt\n",
    "\n",
    "def normal(x, mu=0, sigma=1):\n",
    "    y = 1 / (np.sqrt(2 * np.pi) * sigma) * np.exp(-(x - mu)**2 / (2 * sigma**2))\n",
    "    return y\n",
    "\n",
    "x = np.linspace(-10, 10, 1000)\n",
    "\n",
    "# sigma ====================\n",
    "y0 = normal(x, mu=0, sigma=0.5)\n",
    "y1 = normal(x, mu=0, sigma=1)\n",
    "y2 = normal(x, mu=0, sigma=2)\n",
    "\n",
    "plt.plot(x, y0, label='$\\sigma$=0.5')\n",
    "plt.plot(x, y1, label='$\\sigma$=1')\n",
    "plt.plot(x, y2, label='$\\sigma$=2')\n",
    "plt.legend()\n",
    "plt.xlabel('x')\n",
    "plt.ylabel('y')\n",
    "plt.show()"
   ]
  },
  {
   "cell_type": "markdown",
   "metadata": {},
   "source": [
    "- 이번에는 평균을 평균을 모두 0으로 고정했습니다. 이 상태로 표준 편차를 변경하면 산의 모양이 바뀝니다.\n",
    "- $\\sigma$=0.5인 정규 분표는 폭이 좁고 높습니다. 반면 $\\sigma$=2인 정규 분포는 넓고 낮습니다.\n",
    "- 이처럼 표준 편차가 커질 수록 산은 낮고 넓어집니다."
   ]
  },
  {
   "cell_type": "markdown",
   "metadata": {},
   "source": [
    "## 1.3 중심 극한 정리\n",
    "\n",
    "- 정규 분포가 가장 중요한 이유는 **중심 극한 정리(central limit theorem)로 설명할 수 있습니다.\n",
    "- 중심 극한 정리는 통계학에서 가장 아름다운 정리로 손꼽힙니다."
   ]
  },
  {
   "cell_type": "markdown",
   "metadata": {},
   "source": [
    "### 1.3.1 중심 극한 정리란?\n",
    "\n",
    "- 임의의 확률 분포 p(x)가 있다고 합시다 이때 p(x)는 어떤 확률 분포라도 상괍없습니다.\n",
    "- p(x)에서 독립적으로 생성된 N개의 데이터를 {x^(1), x^(2), ... x^(n)} 이라고 한다면 그 **표본 평균(sample average)** 은 다음 식으로 표현할 수 있습니다.\n",
    "\n",
    "    - <img src=\"./img/10-1.png\" width=\"20%\"> </img>\n",
    "\n",
    "- 여기서 흥미로운 것은 p(x)의 확률 분포가 무엇이든 표본 평균 $\\overline{x}$ 의 분포는 샘플이 커질수록, 즉 N이 커질수록 정규 분포에 가까워집니다. \n",
    "- 그리고 분산은 p(x)의 분선의 $\\frac{1}{N}$ 배가 됩니다. (그림 1-8)\n",
    "\n",
    "    - <img src=\"./img/10-2.png\" width=\"40%\"> </img>\n",
    "\n",
    "- 위 그림은 중심 극한 정리를 표현.\n",
    "- 임의의 확률 분포 p(x)가 있고 그 확률 분포로부터 무작위로 N개의 샘플 {$x^1$, $x^2$, ... $x^N$}을 추출하여 샘플들의 표본 평균 $\\overline{x}$ 를 구합니다.\n",
    "- 표본 평균을 구하는 이 과정을 여러 번(K번) 반복하면 표본 평균 $\\overline{x}$ 의 분포를 알 수 있습니다.\n",
    "- p(x)가 평균이 $\\mu$ 이고 분산이 $\\sigma^2$ 인 확률 분포라고 가정하면, 표본 평균 $\\overline{x}$ 의 분포는 평균이 $\\mu$ 이고 분산이 $\\frac{\\sigma^2}{N}$ 인 정규 분포에 가까워집니다.\n"
   ]
  },
  {
   "cell_type": "markdown",
   "metadata": {},
   "source": [
    "### 1.3.2 중심 극한 정리 실험\n",
    "\n",
    "- 중심 극한 정리는 수식으로 증명할 수 있지만, 여기서는 실험을 통해 이 정리가 성립함을 확인 합니다."
   ]
  },
  {
   "cell_type": "code",
   "execution_count": 7,
   "metadata": {},
   "outputs": [
    {
     "name": "stdout",
     "output_type": "stream",
     "text": [
      "0.2925619501032804\n"
     ]
    }
   ],
   "source": [
    "import numpy as np\n",
    "\n",
    "N = 3  # sample size\n",
    "\n",
    "xs = []\n",
    "\n",
    "for n in range(N):\n",
    "    x = np.random.rand()  # 균등 분포로부터 무작위 샘플링\n",
    "    xs.append(x)\n",
    "\n",
    "x_mean = np.mean(xs)\n",
    "print(x_mean)\n"
   ]
  },
  {
   "cell_type": "markdown",
   "metadata": {},
   "source": [
    "- 중심 극한 정리에서 중요한 점은 p(x)가 어떤 확률 분포이든(p(x)의 평균과 분산만 알 수 있다면), 표본 평균의 분포는 정규 분포에 가까워진다는 사실입니다.\n",
    "- 지금 코드는 p(x)를 균등 분포로 설정했습니다. \n",
    "- 균등 분포에서 표본 평균의 분포가 정말 정규 분표에 가까워지는지 살펴 봅시다.\n",
    "\n",
    "- 위 코드에서 rand()는 0 이상 1 미안의 무작위 수를 균등 분포로 생성합니다. 샘플 크기는 N으로 설정하고 균등 분포에서 생성된 무작위 수들을 리스트 xs에 담습니다.\n",
    "    마지막으로 np.mean(xs)에서 표본 평균을 구합니다."
   ]
  },
  {
   "cell_type": "code",
   "execution_count": 12,
   "metadata": {},
   "outputs": [
    {
     "data": {
      "image/png": "[encoded data removed]",
      "text/plain": [
       "<Figure size 640x480 with 1 Axes>"
      ]
     },
     "metadata": {},
     "output_type": "display_data"
    }
   ],
   "source": [
    "import numpy as np\n",
    "import matplotlib.pyplot as plt\n",
    "\n",
    "x_means = []\n",
    "N = 1  # sample size 1인 경우 부터\n",
    "\n",
    "for _ in range(10000):\n",
    "    xs = []\n",
    "    for i in range(N):\n",
    "        x = np.random.rand() #균등 분포로부터 샘플링\n",
    "        xs.append(x)\n",
    "    mean = np.mean(xs)  # 표본 평균\n",
    "    x_means.append(mean)\n",
    "\n",
    "# plot\n",
    "plt.hist(x_means, bins='auto', density=True)\n",
    "plt.title(f'N={N}')\n",
    "plt.xlabel('x')\n",
    "plt.ylabel('Probability Density')  # y축은 활률 밀도\n",
    "plt.xlim(-0.05, 1.05)               # x축 범위\n",
    "plt.ylim(0, 5)                      # y축 범위\n",
    "plt.show()"
   ]
  },
  {
   "cell_type": "markdown",
   "metadata": {},
   "source": [
    "- 히스토 그램을 그리려면 plt.hist()를 사용합니다. \n",
    "\n",
    "- 인수 bins : 데이터 구간의 생성 방법을 지정. auto(입력 데이터에 따라 적절한 데이터 구간을 자동으로 설정)\n",
    "- 인수 density : 세로축 의미 변경. False(각 구간에 포함된 데이터 개수), True(확률 밀도가 되도록 저정하며, 이때 히스토그램의 면적은 1이 된다)\n",
    "\n",
    "- 그래프의 x축 범위를 -0.05~1.05로 설정하고 y축은 5로 설정. 뒤이어 N의 값을 변경한 후의 그래피들과 비교하기 편하도록 한 설정입니다.\n",
    "- 결과는 위와 같으며, 샘플 크기가 1이므로(N=1) 균일한 분포를 유지합니다.\n",
    "\n",
    "- 샘플 크기 N을 1, 2, 4, 10으로 변경해서 확인.\n",
    "    - N=1이면 균등 분포이지만, 값이 커질수록 정규 분포에 가까워짐을 알 수 있음. N=4에서는 거의 정규 분포처럼 보입니다.\n",
    "    - N이 커질 수록 산의 폭이 좁아집니다. 즉, 분산이 작아짐을 확인할 수 있습니다."
   ]
  },
  {
   "cell_type": "markdown",
   "metadata": {},
   "source": [
    "# 1.4 표본 합의 확률 분포\n",
    "\n",
    "- 중심 극한 정리에 의해, 평균이 $\\mu$ 이고 분산이 $\\sigma^2$ 인 확률 분포 p(x)로부터 독립적을 추출한 샘플 {$x^1, x^2 ... x^N$}의 표본 평균은\n",
    "  N이 커질수록 평균이 $\\mu$ 이고 분산이 $\\frac{\\mu^2}{N}$ 인 정규 분포에 가까워짐을 알 수 있습니다. 이때 표본 평균은 다음 식으로 표현합니다.\n",
    "\n",
    "  - <img src=\"./img/14-1.png\" width=\"20%\"> </img>\n",
    "\n",
    "- 다음으로 생각해볼 문제는 표본 평균이 아닌 \"표본 합\"입니다. 표본 합은 다음 식으로 표현 합니다.\n",
    "\n",
    "  - <img src=\"./img/14-2.png\" width=\"20%\"> </img>"
   ]
  },
  {
   "cell_type": "markdown",
   "metadata": {},
   "source": [
    "## 1.4.1 표본 합의 기댓값과 분산\n",
    "\n",
    "- 표본 합은 s=N $\\overline{x}$ 로 단순히 $\\overline{x}$ 에 N을 곱한 값입니다. \n",
    "- $\\overline{x}$ 가 정규 분포에 가까워진다면, 그것을 N배로 늘린 s도 정규 분포에 가까워짐은 자명합니다.\n",
    "\n",
    "- 어떤 형태의 정규 분포인가, 즉 확률 분포 p(s)의 평균(기댓값)과 분산이 어떤 형태인가 하는 문제입니다.\n",
    "- 수식으로 다음과 같이 표현할 수 있습니다.\n",
    "\n",
    "    - <img src=\"./img/14-3.png\" width=\"30%\"> </img>\n",
    "\n",
    "- 이 분제는 다음 공식을 사용합니다. \n",
    "\n",
    "    - <img src=\"./img/15-1.png\" width=\"30%\"> </img>\n",
    "\n",
    "- N은 상수입니다. 상수의 곱셈은 E밖으로 꺼낼 수 있습니다. 증명은 아래와 같습니다.\n",
    "\n",
    "    - <img src=\"./img/15-2.png\" width=\"30%\"> </img>\n",
    "\n",
    "- N이 상수이므로 다음처럼 확장할 수 있습니다. \n",
    "\n",
    "    - <img src=\"./img/15-3.png\" width=\"30%\"> </img>\n",
    "\n",
    "- 이로부터 표본 합 s의 분포는 평균이 N $\\mu$ 이고 분산이 N $\\sigma^2$ 인 정규 분포에 가까워지는 것으로 나타났습니다."
   ]
  },
  {
   "cell_type": "markdown",
   "metadata": {},
   "source": [
    "## 1.4.2 코드로 확인\n",
    "\n",
    "- 이번 실험의 대상은 0과 1 사이의 균등 분포로부터 추출한 샘플입니다. \n",
    "- 0과 1 사이 균등 분포의 평균은 $\\frac{1}{2}$ 이고, 분산은 $\\frac{1}{12}$ 입니다. (균등 분포의 평균과 분산 계산법은 바로 다음절에서 설명)\n",
    "\n",
    "- 따라서 샘플 크기가 N인 표본 합의 분포는 평균이 $\\frac{N}{2}$ 이고 분산이 $\\frac{N}{12}$ 인 정규 분포에 가까워 집니다. (아래 그림)\n",
    "\n",
    "    - <img src=\"./img/16-1.png\" width=\"40%\"> </img>\n",
    "\n",
    "- N=5로 설정하여 총 5개짜리 표본 합의 분포를 히스토그램으로 그림.\n",
    "- 표본 합은 np.sum(xs)로 구합니다. "
   ]
  },
  {
   "cell_type": "code",
   "execution_count": 10,
   "metadata": {},
   "outputs": [
    {
     "data": {
      "image/png": "[encoded data removed]",
      "text/plain": [
       "<Figure size 640x480 with 1 Axes>"
      ]
     },
     "metadata": {},
     "output_type": "display_data"
    }
   ],
   "source": [
    "import numpy as np\n",
    "import matplotlib.pyplot as plt\n",
    "\n",
    "x_means = []\n",
    "N = 5\n",
    "\n",
    "for _ in range(10000):\n",
    "    xs = []\n",
    "    for i in range(N):\n",
    "        x = np.random.rand()    #균등 분포로부터 무작위 수 추출\n",
    "        xs.append(x)\n",
    "    mean = np.sum(xs)           # 표본합 계산\n",
    "    x_means.append(mean)\n",
    "\n",
    "# normal distribution (정규 분포)\n",
    "def normal(x, mu=0, sigma=1):\n",
    "    y = 1 / (np.sqrt(2 * np.pi) * sigma) * np.exp(-(x - mu)**2 / (2 * sigma**2))\n",
    "    return y\n",
    "x_norm = np.linspace(-5, 5, 1000)\n",
    "mu = 0.5 * N\n",
    "sigma = np.sqrt(1 / 12 * N)\n",
    "y_norm = normal(x_norm, mu, sigma)\n",
    "\n",
    "# plot\n",
    "plt.hist(x_means, bins='auto', density=True)\n",
    "plt.plot(x_norm, y_norm)\n",
    "plt.title(f'N={N}')\n",
    "plt.xlim(-1, 6)\n",
    "plt.show()"
   ]
  },
  {
   "cell_type": "markdown",
   "metadata": {},
   "source": [
    "- 히스토그램은 정규 분포 형태를 띠고 있습니다.\n",
    "- 수식으로 그린 정규 분포(평균 $\\frac{N}{2}$, 분산 $\\frac{N}{12}$)인 주황색 곡선과도 잘 일치합니다. 이번에는 균등 분포가 대상이었지만, 임의의 확률 분포에서 생성되는 표본 합도 정규 분포에 가까워 집니다."
   ]
  },
  {
   "cell_type": "markdown",
   "metadata": {},
   "source": [
    "### 1.4.3 균등 분포의 평균과 분산\n",
    "\n",
    "- 0과 1 사이의 균등 분포인 [그림 1-13]의 평균이 $\\frac{1}{2}$ 이고 $\\frac{1}{12}$ 임을 증명하겠습니다.\n",
    "\n",
    "    - <img src=\"./img/18-1.png\" width=\"20%\"> </img>\n",
    "\n",
    "- 균등 분포의 평균과 분산은 정의식에 따라 계산할 수 있습니다. 먼저 평균 $\\mu$ 를 계산합니다.\n",
    "\n",
    "    - <img src=\"./img/18-2.png\" width=\"30%\"> </img>\n",
    "\n",
    "- 균등 분포 p(x)는 0에서 1사이에서만 1이며 그 외에는 0입니다. 식은 아래와 같습니다.\n",
    "\n",
    "    - <img src=\"./img/18-3.png\" width=\"20%\"> </img>\n",
    "\n",
    "- 이어서 분산 $\\sigma^2$ 을 구합니다.\n",
    "\n",
    "    - <img src=\"./img/18-4-19-1.png\" width=\"20%\"> </img>"
   ]
  },
  {
   "cell_type": "markdown",
   "metadata": {},
   "source": [
    "# 1.5 우리 주변의 정규 분포\n",
    " \n",
    "- 중심 극한 정리를 통해 임의의 확률 분포의 표본 평균과 표본 합은 정규 분포에 가까워짐을 알 수 있습니다. \n",
    "\n",
    "- 이 특징 덕에 우리 주변 곳곳에서 정규 분포를 볼 수 있습니다."
   ]
  },
  {
   "cell_type": "markdown",
   "metadata": {},
   "source": [
    "1) 측정 오차\n",
    "\n",
    "    - 어떤 기구로 한 가지를 여러 번 측정하는 상황에서 정규 분포를 흔히 볼 수 있습니다. \n",
    "\n",
    "    - 특히 관리가 잘 되고 환겨이 잘 갖춰진 상태에서의 측정값은 정규 분포의 형태를 보입니다. 그런데 왜 정규 분포일까요?\n",
    "\n",
    "    - 측정 오차는 여러 요인이 복합적으로 작용하여 발생한다고 볼 수 있습니다. 여기서는 단순화하여 오차에 영향을 주는 요인이 N개 있으며, 각 요인에 따른 오차는 독립적으로 무작위하게 발생한다고 가정합시다.\n",
    "\n",
    "        - 가정 : 오차 요인들이 서로 연관되어 있을 수 있기 때문에 이 전제 조건이 반드시 옳다고는 할 수 없습니다. \n",
    "\n",
    "    - 이때 첫 번째 요인의 오차를 $\\epsilon^1$ 로, 두번째 요인의 오차를 $\\epsilon^2$, .. 과 같이 표기하면 최종 오차는 다음 식과 같이 요인 N개릐 오차를 모두 더한 값이 됩니다. \n",
    "\n",
    "        - <img src=\"./img/20-1.png\" width=\"30%\"> </img>\n",
    "\n",
    "    - 각 오차에는 무작위성이 존재하며 오차의 합은 $\\epsilon$ 입니다. 그렇다면 N이 커질수록 오차의 총합 $\\epsilon$ 은 정규 분포에 가까워 집니다. \n",
    "\n",
    "        - 만약 정규 분포에서 벗어난 분포가 나온다면 측정 기기가 고장났거나 측정자가 실수한 건 없는지 등의 다른 가능성을 생각해보아야 합니다. "
   ]
  },
  {
   "cell_type": "markdown",
   "metadata": {},
   "source": [
    "2) 제품 크기\n",
    "\n",
    "    - 예를 들어, 편의점에서 판매하는 500ml 똑같은 생수병을 여러 개 모아서 무게를 측정한다면 평균이 500g 부근인 정규 분표를 보일 것입니다. \n",
    "\n",
    "    - 이 결과에는 측정 오차도 포함되지만, 오차가 없는 정확한 무게를 측정할 수 있다고 가정하더라도 그 분포는 정규 분포일 것입니다. 왜 정규 분포 일까요?\n",
    "\n",
    "        - 제품이 완성되기까지 많은 공정을 거치면서 작은 오차가 생길 것이고 이러한 오차들이 최종 제품에 누적됩니다. 이처럼 다양한 차이가 쌓이면 결국 정규 분포에 가까워집니다. \n",
    "\n",
    "        - 이러한 이유로 제품의 크기는 정규 분포가 될 가능성이 크고 실제로도 그렇습니다. "
   ]
  },
  {
   "cell_type": "markdown",
   "metadata": {},
   "source": [
    "3) 사람의 키\n",
    "\n",
    "    - 같은 나이, 같은 성별의 사람들 키도 정규 분포로 근삿값을 구할 수 있다고 알려져 있습니다. \n",
    "\n",
    "    - 아래는 일본 17세 남학생의 키 분포입니다. 정규 분포를 따르고 있습니다. 왜 정규 분포일까요?\n",
    "\n",
    "        - <img src=\"./img/21-1.png\" width=\"30%\"> </img>\n",
    "\n",
    "        - 사람의 키를 결정하는 요인은 여러가지 입니다. 유전, 식습관, 운동, 환경, 등 다양한 요인이 복합적으로 작용할 것입니다. \n",
    "        \n",
    "        - 이때 각 요인이 (어느정도) 독립적으로 발생한다면 그 합으로 인한 키의 분포는 정규 분포에 가깝다고 볼 수 있습니다. (명확한 근거는 아닙니다. 키다 정규 분포에 가까운 것은 단순히 우연일지도 모릅니다.)\n"
   ]
  },
  {
   "cell_type": "markdown",
   "metadata": {},
   "source": [
    "# 참고 사이트 \n",
    "\n",
    "<확률 기초 강의>\n",
    "- https://www.youtube.com/watch?v=Z0LmCyF6Oxw\n",
    "\n",
    "< 기호 > \n",
    "- https://paper-garden.tistory.com/36\n",
    "- https://wikidocs.net/214284\n",
    "- https://m.blog.naver.com/celllee/222323930282\n",
    "- https://danbi-ncsoft.github.io/study/2018/05/30/study-how_to_read_mathematical_expression.html\n",
    "- https://khw11044.github.io/blog/blog-etc/2020-12-21-markdown-tutorial2/#%EB%B2%A1%ED%84%B0%ED%99%94%EC%82%B4%ED%91%9C-%EA%B7%B8%EB%A6%AC%EA%B8%B0\n"
   ]
  }
 ],
 "metadata": {
  "kernelspec": {
   "display_name": "Python 3",
   "language": "python",
   "name": "python3"
  },
  "language_info": {
   "codemirror_mode": {
    "name": "ipython",
    "version": 3
   },
   "file_extension": ".py",
   "mimetype": "text/x-python",
   "name": "python",
   "nbconvert_exporter": "python",
   "pygments_lexer": "ipython3",
   "version": "3.9.6"
  }
 },
 "nbformat": 4,
 "nbformat_minor": 2
}
