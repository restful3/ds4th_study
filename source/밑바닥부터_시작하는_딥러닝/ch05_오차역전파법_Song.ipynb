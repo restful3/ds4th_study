{
 "cells": [
  {
   "cell_type": "markdown",
   "id": "00e30f56",
   "metadata": {},
   "source": [
    "# 계산 그래프\n",
    "\n",
    "- 계산 그래프(computational graph) : 계산 과정을 그래프로 나타낸 것\n",
    "- 복수의 노드(node)와 에지(edge)로 표현"
   ]
  },
  {
   "cell_type": "markdown",
   "id": "89ae603f",
   "metadata": {},
   "source": [
    "## 계산 그래프로 풀다\n",
    "\n",
    "- *문제1 : 현빈 군은 슈퍼에서 1개에 100원 사과를 2개 샀습니다. 이떄 지불한 금액을 구하세요. 단, 소비세는 10% 부과 됩니다.*\n",
    "\n",
    "- 계산 그래프는 계산 과정을 노드와 화살표로 표현\n",
    "- 노드는 원으로 표기, 원 안에 연산 내용 표기\n",
    "- 계산 결과는 화살표 위에 적어 각 노드의 계산 결과가 왼쪽에서 오른쪽으로 전해지게 한다\n",
    "- 다음은 1번 문제의 답을 계산 그래프로 표현한 것\n",
    "<img src='images/fig 5-1.png' width=500>\n",
    "- 처음에 사과의 100원이 'x2'노드로 흐르고\n",
    "- 200원이 되어 다음 노드로 전달\n",
    "- 200원이 'x1.1' 노드를 거쳐 220원이 된다\n",
    "- 최종 답은 220원"
   ]
  },
  {
   "cell_type": "markdown",
   "id": "06076fad",
   "metadata": {},
   "source": [
    "<img src='images/fig 5-2.png' width=500>\n",
    "- '2'와 '1.1'은 각각 '사과의 개수'와 '소비세'변수가 되어 원 밖에 표기"
   ]
  },
  {
   "cell_type": "markdown",
   "id": "f3204889",
   "metadata": {},
   "source": [
    "- *문제2 : 현빈 군은 슈퍼에서 사과 2개, 귤 3개를 샀습니다. 사과는 1개에 100원, 귤은 1개의 150원입니다. 소비세가 10% 일 때 지불 금액은?*\n",
    "\n",
    "<img src='images/fig 5-3.png' width=500>\n",
    "- '+'가 새롭게 등장, 사과와 귤의 금액 합산\n",
    "- 왼쪽에서 오른쪽으로 계산"
   ]
  },
  {
   "cell_type": "markdown",
   "id": "a3dd1b89",
   "metadata": {},
   "source": [
    "- 전체 흐름\n",
    "    1. 계산 그래프를 구성\n",
    "    2. 그래프에서 계산을 왼쪽에서 오른쪽으로 진행\n",
    "- 위의 2 번을 순전파 라고 한다    "
   ]
  },
  {
   "cell_type": "markdown",
   "id": "bc7ace76",
   "metadata": {},
   "source": [
    "## 국소적 계산\n",
    "\n",
    "- 계산 그래프의 특징, '국소적 계산'을 전파함으로써 최종 결과를 얻는다\n",
    "- 국소적이란 '자신과 직접 관계된 작은 범위'\n",
    "- 국소적 계산은 결국 전체에 어떤 일이 벌어지든 상관없이 자신과 관계된 정보만으로 결과 출력 가능"
   ]
  },
  {
   "cell_type": "markdown",
   "id": "0d204473",
   "metadata": {},
   "source": [
    "- 국소적 계산 사례 : 슈퍼마켓에서 사과 2개를 포함한 여러 식품을 구입하는 경우\n",
    "<img src='images/fig 5-4.png' width=500>\n",
    "- 복잡한 계산을 거쳐 총액이 4,000원\n",
    "- 총합을 구하는 계산과 상관없이, 각 노드에서의 계산은 국소적이다\n",
    "- 각 노드는 자신과 관련된 계산(이 예에서는 입력된 두 숫자의 덧셈) 외에는 아무것도 신경 쓰지 않는다."
   ]
  },
  {
   "cell_type": "markdown",
   "id": "3dca0e6b",
   "metadata": {},
   "source": [
    "## 왜 계산 그래프로 푸는가\n",
    "\n",
    "- 계산 그래프의 이점\n",
    "    - 국소적 계산이 가능\n",
    "    - 중간 계산 결과를 모두 보관 가능\n",
    "    - 역전파를 통해 '미분'을 효율적으로 계산 가능\n",
    "    \n",
    "<img src='images/fig 5-5.png' width=500>\n",
    "\n",
    "- 사과 값이 오르면 최종 금액에 얼마나 영향을 미치는가\n",
    "- 사과 값을 $x$, 지불 금액 $L$라고 하면, $\\frac{\\partial L}{\\partial x}$ 을 구해야 한다.\n",
    "- 역전파는 순전파의 반대 방향으로 화살표 표시\n",
    "- 이 역전파는 '국소적 미분'을 전달\n",
    "- 사과 가격에 대한 지불 금액의 미분 값은 2.2 : 사과가 1원 오르면 최종 금액은 2.2 원 오른다"
   ]
  },
  {
   "cell_type": "markdown",
   "id": "f5381626",
   "metadata": {},
   "source": [
    "# 연쇄법칙\n",
    "\n",
    "- 국소적 미분을 전달하는 원리를 연쇄법칙(chain rule)를 따른다\n",
    "- 연쇄법칙은 계산 그래프상의 역전파와 동일"
   ]
  },
  {
   "cell_type": "markdown",
   "id": "cce25e55",
   "metadata": {},
   "source": [
    "## 계산 그래프와 역전파\n",
    "\n",
    "- 계산 그래프의 역전파 : 순방향과 반대 방향으로 국소적 미분을 곱한다\n",
    "<img src='images/fig 5-6.png' width=300>\n",
    "- 신호 $E$에 노드의 국소적 미분 $\\frac{\\partial y}{\\partial x}$ 를 곱한 후 다음 노드로 전달\n",
    "- 여기서 말하는 국소적 미분은 순전파 ($y=f(x)$) 계산의 미분을 구한다는 의미\n",
    "- 가령 $y=f(x)=x^2$ 이라면 $\\frac{\\partial y}{\\partial x} = 2x$ 가 된다.\n",
    "- 이 것을 앞쪽 노드에서 전달된 값$E$에 곱하여 앞쪽 노드에 전달 한다\n",
    "- 이러한 방식을 따르면, 목표로 하는 미분 값을 효율적으로 구할 수 있다."
   ]
  },
  {
   "cell_type": "markdown",
   "id": "a0abec5d",
   "metadata": {},
   "source": [
    "## 연쇄법칙이란?\n",
    "\n",
    "- 합성 함수란, 여러 함수로 구성된 함수\n",
    "- $z = (x+y)^2$ 란 식은 다음과 같이 두개의 식으로 구성 된다.\n",
    "<img src ='images/e 5.1.png' width=100>\n",
    "- *합성 함수의 미분은 합성 함수를 구성하는 각 함수의 미분의 곱으로 나타낼 수 있다*\n",
    "<img src ='images/e 5.2.png' width=100>\n",
    "\n",
    "<img src ='images/e 5.3.png' width=80>\n",
    "\n",
    "<img src ='images/e 5.4.png' width=200>"
   ]
  },
  {
   "cell_type": "markdown",
   "id": "bec606fb",
   "metadata": {},
   "source": [
    "## 연쇄법칙과 계산 그래프\n",
    "\n",
    "- 순전파와는 반대 방향으로 국소적 미분을 곱하여 전달\n",
    "<img src='images/fig 5-7.png' width=500>\n",
    "\n",
    "<img src='images/fig 5-8.png' width=500>"
   ]
  },
  {
   "cell_type": "markdown",
   "id": "c5da43da",
   "metadata": {},
   "source": [
    "# 역전파"
   ]
  },
  {
   "cell_type": "markdown",
   "id": "bbe49738",
   "metadata": {},
   "source": [
    "## 덧셈 노드의 역전파\n",
    "\n",
    "- $z = x + y$ 라는 식을 대상으로 역전파 설명\n",
    "- $z = x + y$의 미분은 다음과 같이 해석학적으로 계산 가능\n",
    "- 왼쪽이 순전파, 오른쪽이 역전파\n",
    "<img src ='images/e 5.5.png' width=60>\n",
    "- 덧셈 노드의 역전파는 입력값을 그대로 흘려 보낸다\n",
    "<img src='images/fig 5-9.png' width=500>\n",
    "- 최종 출력으로 가는 계산의 중간에 덧셈 노드가 존재\n",
    "- 역전파에서는 국소적 미분이 가장 오른쪽의 출력에서 시작하여 노드를 타고 역방향으로 전파\n",
    "<img src='images/fig 5-10.png' width=500>\n",
    "- '10 + 5 = 15' 라는 계산에서, 상류에서 1.3 이라는 값이 흘러 온다.\n",
    "- 덧셈 노드는 이를 그대로 흘려 보낸다.\n",
    "<img src='images/fig 5-11.png' width=500>"
   ]
  },
  {
   "cell_type": "markdown",
   "id": "e85aa23e",
   "metadata": {},
   "source": [
    "## 곱셈 노드의 역전파\n",
    "\n",
    "- $z = xy$라는 식을 상정 하여 설명\n",
    "- 각 편미분은 다음과 같음\n",
    "<img src ='images/e 5.6.png' width=60>\n",
    "- 곱셈노드의 역전파는 오른쪽\n",
    "<img src='images/fig 5-12.png' width=500>\n",
    "- 상류의 값에 순전파의 값을 서로 바꿔 곱하여 하류로 보낸다.\n",
    "<img src='images/fig 5-13.png' width=500>"
   ]
  },
  {
   "cell_type": "markdown",
   "id": "ce36c1e7",
   "metadata": {},
   "source": [
    "## 사과 쇼핑의 예\n",
    "\n",
    "- 곱셈 노드의 역전파에서는 입력 신호를 서로 바꿔서 하류로 보낸다\n",
    "- 사과 가격의 미분은 2.2, 사과 개수의 미분은 110, 소비세의 미분은 200\n",
    "- 소비세와 사과 가격이 같은 양만큼 흐르면 최종 금액에는 소비세가 200의 크기로, 사과 가격이 2.2 크기로 영향을 준다\n",
    "<img src='images/fig 5-14.png' width=500>\n",
    "\n",
    "- 다음 '사과와 귤 쇼핑'의 역전파를 구해보자\n",
    "<img src='images/fig 5-15.png' width=500>"
   ]
  },
  {
   "cell_type": "markdown",
   "id": "b0c89b63",
   "metadata": {},
   "source": [
    "# 단순한 계층 구성하기"
   ]
  },
  {
   "cell_type": "markdown",
   "id": "10041527",
   "metadata": {},
   "source": [
    "## 곱셈 계층"
   ]
  },
  {
   "cell_type": "code",
   "execution_count": 4,
   "id": "1aa05fdf",
   "metadata": {},
   "outputs": [],
   "source": [
    "class MulLayer:\n",
    "    def __init__(self):\n",
    "        self.x = None\n",
    "        self.y = None\n",
    "    \n",
    "    def forward(self, x, y):\n",
    "        self.x = x\n",
    "        self.y = y\n",
    "        out = x*y\n",
    "        \n",
    "        return out\n",
    "    \n",
    "    def backward(self, dout):\n",
    "        dx = dout*self.y\n",
    "        dy = dout*self.x\n",
    "        \n",
    "        return dx, dy"
   ]
  },
  {
   "cell_type": "markdown",
   "id": "41be79c2",
   "metadata": {},
   "source": [
    "<img src='images/fig 5-16.png' width=500>"
   ]
  },
  {
   "cell_type": "code",
   "execution_count": 5,
   "id": "2b415956",
   "metadata": {},
   "outputs": [],
   "source": [
    "apple = 100\n",
    "apple_num = 2\n",
    "tax = 1.1"
   ]
  },
  {
   "cell_type": "markdown",
   "id": "794c5b71",
   "metadata": {},
   "source": [
    "- 계층들"
   ]
  },
  {
   "cell_type": "code",
   "execution_count": 13,
   "id": "2968d11a",
   "metadata": {},
   "outputs": [],
   "source": [
    "mul_apple_layer = MulLayer()\n",
    "mul_tax_layer = MulLayer()"
   ]
  },
  {
   "cell_type": "markdown",
   "id": "813f90f3",
   "metadata": {},
   "source": [
    "- 순전파"
   ]
  },
  {
   "cell_type": "code",
   "execution_count": 17,
   "id": "ee773217",
   "metadata": {},
   "outputs": [
    {
     "name": "stdout",
     "output_type": "stream",
     "text": [
      "200 220.00000000000003\n"
     ]
    }
   ],
   "source": [
    "apple_price = mul_apple_layer.forward(apple, apple_num)\n",
    "price = mul_tax_layer.forward(apple_price, tax)\n",
    "\n",
    "print(apple_price, price)"
   ]
  },
  {
   "cell_type": "markdown",
   "id": "84f5dd73",
   "metadata": {},
   "source": [
    "- 역전파"
   ]
  },
  {
   "cell_type": "code",
   "execution_count": 18,
   "id": "6ad5c05e",
   "metadata": {},
   "outputs": [
    {
     "data": {
      "text/plain": [
       "(1.1, 200)"
      ]
     },
     "execution_count": 18,
     "metadata": {},
     "output_type": "execute_result"
    }
   ],
   "source": [
    "dprice = 1\n",
    "dapple_price, dtax = mul_tax_layer.backward(dprice)\n",
    "dapple_price, dtax"
   ]
  },
  {
   "cell_type": "code",
   "execution_count": 19,
   "id": "72c336d0",
   "metadata": {},
   "outputs": [
    {
     "data": {
      "text/plain": [
       "(2.2, 110.00000000000001)"
      ]
     },
     "execution_count": 19,
     "metadata": {},
     "output_type": "execute_result"
    }
   ],
   "source": [
    "dapple, dapple_num = mul_apple_layer.backward(dapple_price)\n",
    "dapple, dapple_num"
   ]
  },
  {
   "cell_type": "markdown",
   "id": "f6cc51f7",
   "metadata": {},
   "source": [
    "## 덧셈 계층"
   ]
  },
  {
   "cell_type": "code",
   "execution_count": 20,
   "id": "a19445f8",
   "metadata": {},
   "outputs": [],
   "source": [
    "class AddLayer:\n",
    "    def __init__(self):\n",
    "        pass\n",
    "    \n",
    "    def forward(self, x, y):\n",
    "        out = x+y\n",
    "        return out\n",
    "    \n",
    "    def backward(self, dout):\n",
    "        dx = dout*1\n",
    "        dy = dout*1\n",
    "        return dx, dy"
   ]
  },
  {
   "cell_type": "markdown",
   "id": "6a33149a",
   "metadata": {},
   "source": [
    "<img src='images/fig 5-17.png' width=500>"
   ]
  },
  {
   "cell_type": "code",
   "execution_count": 21,
   "id": "7a0b14b0",
   "metadata": {},
   "outputs": [],
   "source": [
    "apple = 100\n",
    "apple_num = 2\n",
    "orange = 150\n",
    "orange_num = 3\n",
    "tax = 1.1"
   ]
  },
  {
   "cell_type": "markdown",
   "id": "11372807",
   "metadata": {},
   "source": [
    "- 계층들"
   ]
  },
  {
   "cell_type": "code",
   "execution_count": 22,
   "id": "7d087fa1",
   "metadata": {},
   "outputs": [],
   "source": [
    "mul_apple_layer = MulLayer()\n",
    "mul_orange_layer = MulLayer()\n",
    "add_apple_orange_layer = AddLayer()\n",
    "mul_tax_layer = MulLayer()"
   ]
  },
  {
   "cell_type": "markdown",
   "id": "7db5b6d0",
   "metadata": {},
   "source": [
    "- 순전파"
   ]
  },
  {
   "cell_type": "code",
   "execution_count": 25,
   "id": "3e2931cb",
   "metadata": {},
   "outputs": [
    {
     "name": "stdout",
     "output_type": "stream",
     "text": [
      "apple_price :  200\n",
      "orange_price :  450\n",
      "all_price :  650\n",
      "price :  715.0000000000001\n"
     ]
    }
   ],
   "source": [
    "apple_price = mul_apple_layer.forward(apple, apple_num)\n",
    "orange_price = mul_orange_layer.forward(orange, orange_num)\n",
    "all_price = add_apple_orange_layer.forward(apple_price, orange_price)\n",
    "price = mul_tax_layer.forward(all_price, tax)\n",
    "\n",
    "print('apple_price : ', apple_price)\n",
    "print('orange_price : ', orange_price)\n",
    "print('all_price : ', all_price)\n",
    "print('price : ', price)"
   ]
  },
  {
   "cell_type": "markdown",
   "id": "1bb1f84a",
   "metadata": {},
   "source": [
    "- 역전파"
   ]
  },
  {
   "cell_type": "code",
   "execution_count": 26,
   "id": "71b74c5d",
   "metadata": {},
   "outputs": [
    {
     "name": "stdout",
     "output_type": "stream",
     "text": [
      "dall_price :  1.1\n",
      "dtax :  650\n",
      "dapple_price :  1.1\n",
      "dorange_price :  1.1\n",
      "dorange :  3.3000000000000003\n",
      "dorange_num :  165.0\n",
      "dapple :  2.2\n",
      "dapple_num :  110.00000000000001\n"
     ]
    }
   ],
   "source": [
    "dprice = 1\n",
    "dall_price, dtax = mul_tax_layer.backward(dprice)\n",
    "dapple_price, dorange_price = add_apple_orange_layer.backward(dall_price)\n",
    "dorange, dorange_num = mul_orange_layer.backward(dorange_price)\n",
    "dapple, dapple_num = mul_apple_layer.backward(dapple_price)\n",
    "\n",
    "print('dall_price : ', dall_price)\n",
    "print('dtax : ', dtax)\n",
    "print('dapple_price : ', dapple_price)\n",
    "print('dorange_price : ', dorange_price)\n",
    "print('dorange : ', dorange)\n",
    "print('dorange_num : ', dorange_num)\n",
    "print('dapple : ', dapple)\n",
    "print('dapple_num : ', dapple_num)"
   ]
  },
  {
   "cell_type": "markdown",
   "id": "10677eb0",
   "metadata": {},
   "source": [
    "# 활성화 함수 계층 구현하기"
   ]
  },
  {
   "cell_type": "markdown",
   "id": "074cfc2d",
   "metadata": {},
   "source": [
    "## ReLU 계층\n",
    "\n",
    "- ReLU 의 수식\n",
    "<img src ='images/e 5.7.png' width=100>\n",
    "\n",
    "- 미분\n",
    "<img src ='images/e 5.8.png' width=120>\n",
    "\n",
    "- ReLU 계층의 계산 그래프\n",
    "<img src='images/fig 5-18.png' width=500>"
   ]
  },
  {
   "cell_type": "code",
   "execution_count": 28,
   "id": "c730325d",
   "metadata": {},
   "outputs": [],
   "source": [
    "class ReLu:\n",
    "    def __init__(self):\n",
    "        self.mask = None\n",
    "        \n",
    "    def forward(self, x):\n",
    "        self.mask = (x<=0)\n",
    "        out = x.copy()\n",
    "        out[self.mask] = 0\n",
    "        \n",
    "        return out\n",
    "        \n",
    "    def backward(self, dout):\n",
    "        dout[self.mask] = 0\n",
    "        dx = dout\n",
    "        \n",
    "        return dx"
   ]
  },
  {
   "cell_type": "code",
   "execution_count": 31,
   "id": "851ccb09",
   "metadata": {},
   "outputs": [
    {
     "data": {
      "text/plain": [
       "array([[ 1. , -0.5],\n",
       "       [-2. ,  3. ]])"
      ]
     },
     "execution_count": 31,
     "metadata": {},
     "output_type": "execute_result"
    }
   ],
   "source": [
    "import numpy as np\n",
    "\n",
    "x = np.array([[1.0, -0.5], [-2.0, 3.0]])\n",
    "x"
   ]
  },
  {
   "cell_type": "code",
   "execution_count": 32,
   "id": "142630fc",
   "metadata": {},
   "outputs": [
    {
     "data": {
      "text/plain": [
       "array([[False,  True],\n",
       "       [ True, False]])"
      ]
     },
     "execution_count": 32,
     "metadata": {},
     "output_type": "execute_result"
    }
   ],
   "source": [
    "mask = (x<=0)\n",
    "mask"
   ]
  },
  {
   "cell_type": "code",
   "execution_count": 34,
   "id": "34cb3113",
   "metadata": {},
   "outputs": [],
   "source": [
    "x[mask] = 0"
   ]
  },
  {
   "cell_type": "code",
   "execution_count": 35,
   "id": "a90e5b57",
   "metadata": {},
   "outputs": [
    {
     "data": {
      "text/plain": [
       "array([[1., 0.],\n",
       "       [0., 3.]])"
      ]
     },
     "execution_count": 35,
     "metadata": {},
     "output_type": "execute_result"
    }
   ],
   "source": [
    "x"
   ]
  },
  {
   "cell_type": "markdown",
   "id": "33083278",
   "metadata": {},
   "source": [
    "## Sigmoid 계층\n",
    "\n",
    "- 수식\n",
    "<img src ='images/e 5.9.png' width=120>\n",
    "\n",
    "- Sigmoid 계층의 계산 그래프(순전파)\n",
    "<img src='images/fig 5-19.png' width=500>\n",
    "- 'exp'과 '/' 노드가 새롭게 등장\n",
    "- 'exp' 는 $y = exp(x)$ 를 의미\n",
    "- '/' 노드는 $y =\\frac{1}{x}$ 계산 수행"
   ]
  },
  {
   "cell_type": "markdown",
   "id": "07bbcaa1",
   "metadata": {},
   "source": [
    "**1단계**\n",
    "\n",
    "- '/' 노드 즉, $y =\\frac{1}{x}$ 를 미분하면 다음 식이 됨\n",
    "<img src ='images/e 5.10.png' width=100>\n",
    "- 상류에서 흘러온 값에 $-y^2$를 곱하여 하류로 전달\n",
    "- 계산 그래프는 다음과 같음\n",
    "<img src='images/fig 5-19(1).png' width=500>"
   ]
  },
  {
   "cell_type": "markdown",
   "id": "6b36e273",
   "metadata": {},
   "source": [
    "**2단계**\n",
    "\n",
    "- '+' 노드는 그대로 상류의 값을 하류로 보냄\n",
    "<img src='images/fig 5-19(2).png' width=500>"
   ]
  },
  {
   "cell_type": "markdown",
   "id": "264f1dd9",
   "metadata": {},
   "source": [
    "**3단계**\n",
    "\n",
    "- 'exp' 는 $y = exp(x)$ 연산, $y = exp(x)$의 미분은 다음과 같음\n",
    "<img src ='images/e 5.11.png' width=100>\n",
    "- 따라서 상류의 값에 $exp(-x)$ 를 곱해서 (입력이 -x 임) 하류로 전달\n",
    "<img src='images/fig 5-19(3).png' width=500>"
   ]
  },
  {
   "cell_type": "markdown",
   "id": "1b1955d8",
   "metadata": {},
   "source": [
    "**4단계**\n",
    "\n",
    "- 'x' 노드는 순전파의 값을 서로 바꿔서 곱하여 하류로 전달\n",
    "<img src='images/fig 5-20.png' width=500>\n",
    "\n",
    "- 계산 중간 과정을 모두 묶어 sigmoid 노드로 표현\n",
    "<img src='images/fig 5-21.png' width=300>\n",
    "\n",
    "- 간소화 하여 정리 (순전파 $y$) 만으로 계산 가능\n",
    "<img src ='images/e 5.12.png' width=300>\n",
    "\n",
    "- Sigmoid 계층의 계산 그래프, 순전파 $y$만으로 역전파 계산 가능\n",
    "<img src='images/fig 5-22.png' width=300>"
   ]
  },
  {
   "cell_type": "code",
   "execution_count": 36,
   "id": "3afdda7a",
   "metadata": {},
   "outputs": [],
   "source": [
    "class Sigmoid:\n",
    "    def __init__(self):\n",
    "        self.out = None\n",
    "        \n",
    "    def forward(self, x):\n",
    "        out = 1/(1+np.exp(-x))\n",
    "        self.out = out\n",
    "        \n",
    "        return out\n",
    "    \n",
    "    def backward(self, dout):\n",
    "        dx = dout * (1.0 - self.out)*self.out\n",
    "        \n",
    "        return dx"
   ]
  },
  {
   "cell_type": "markdown",
   "id": "cc5b61a8",
   "metadata": {},
   "source": [
    "# Affine/Softmax 계층 구현하기"
   ]
  },
  {
   "cell_type": "markdown",
   "id": "de5bfa62",
   "metadata": {},
   "source": [
    "## Affine 계층"
   ]
  },
  {
   "cell_type": "code",
   "execution_count": 37,
   "id": "ee530899",
   "metadata": {},
   "outputs": [
    {
     "data": {
      "text/plain": [
       "((2,), (2, 3), (3,))"
      ]
     },
     "execution_count": 37,
     "metadata": {},
     "output_type": "execute_result"
    }
   ],
   "source": [
    "X = np.random.rand(2)\n",
    "W = np.random.rand(2,3)\n",
    "B = np.random.rand(3)\n",
    "\n",
    "X.shape, W.shape, B.shape"
   ]
  },
  {
   "cell_type": "code",
   "execution_count": 39,
   "id": "008425e6",
   "metadata": {},
   "outputs": [
    {
     "data": {
      "text/plain": [
       "(array([1.66507631, 1.29431035, 1.24569994]), (3,))"
      ]
     },
     "execution_count": 39,
     "metadata": {},
     "output_type": "execute_result"
    }
   ],
   "source": [
    "Y = np.dot(X, W) + B\n",
    "Y, Y.shape"
   ]
  },
  {
   "cell_type": "markdown",
   "id": "3617c7a8",
   "metadata": {},
   "source": [
    "<img src='images/fig 5-23.png' width=200>\n",
    "\n",
    "- 행렬의 곱 계산은 대응하는 차원의 원소 수를 일치 시키는 것이 핵심\n",
    "- 신경망의 순전파 때 수행하는 행렬 곱을 기하학에서는 어파인 변환(affine transformation)이라고 한다\n",
    "\n",
    "<img src='images/fig 5-24.png' width=500>\n",
    "\n",
    "- Affine 계층의 계산 그래프, 변수가 행렬임을 주의, 각 변수의 형상을 변수 명 위에 표기"
   ]
  },
  {
   "cell_type": "markdown",
   "id": "1735b899",
   "metadata": {},
   "source": [
    "- 'x'의 역전파와 다르게 affine 변환의 역전파는, 행렬의 크기를 고려하여 곱한다.\n",
    "<img src ='images/e 5.13.png' width=200>\n",
    "\n",
    "<img src ='images/e 5.14.png' width=200>\n",
    "\n",
    "- Affine 계층의 역전파는, 변수가 다차원 배열임에 주의 한다.\n",
    "- 역전파에서의 변수의 형상은 해당 변수명 아래 표기\n",
    "<img src='images/fig 5-25.png' width=500>\n",
    "\n",
    "- $X$와 $\\frac{\\partial L}{\\partial X}$ 가 동일한 형상, $W$와 $\\frac{\\partial L}{\\partial W}$ 가 동일한 형상 임을 기억 할 것\n",
    "<img src ='images/e 5.15.png' width=200>\n",
    "\n",
    "<img src='images/fig 5-26.png' width=500>"
   ]
  },
  {
   "cell_type": "markdown",
   "id": "51441a99",
   "metadata": {},
   "source": [
    "## 배치용 Affine 계층\n",
    "\n",
    "<img src='images/fig 5-27.png' width=500>\n",
    "- 편향은 axis=0 방향으로 더해 줘야, 애초의 편향과 같은 형상이 된다."
   ]
  },
  {
   "cell_type": "code",
   "execution_count": 40,
   "id": "c1bf98e3",
   "metadata": {},
   "outputs": [
    {
     "data": {
      "text/plain": [
       "array([[ 0,  0,  0],\n",
       "       [10, 10, 10]])"
      ]
     },
     "execution_count": 40,
     "metadata": {},
     "output_type": "execute_result"
    }
   ],
   "source": [
    "X_dot_W = np.array([[0, 0, 0], [10, 10, 10]])\n",
    "B = np.array([1, 2, 3])\n",
    "\n",
    "X_dot_W"
   ]
  },
  {
   "cell_type": "code",
   "execution_count": 41,
   "id": "d80845c7",
   "metadata": {},
   "outputs": [
    {
     "data": {
      "text/plain": [
       "array([[ 1,  2,  3],\n",
       "       [11, 12, 13]])"
      ]
     },
     "execution_count": 41,
     "metadata": {},
     "output_type": "execute_result"
    }
   ],
   "source": [
    "X_dot_W + B"
   ]
  },
  {
   "cell_type": "code",
   "execution_count": 42,
   "id": "6fcfbe64",
   "metadata": {},
   "outputs": [
    {
     "data": {
      "text/plain": [
       "array([[1, 2, 3],\n",
       "       [4, 5, 6]])"
      ]
     },
     "execution_count": 42,
     "metadata": {},
     "output_type": "execute_result"
    }
   ],
   "source": [
    "dY = np.array([[1, 2, 3], [4, 5, 6]])\n",
    "dY"
   ]
  },
  {
   "cell_type": "code",
   "execution_count": 43,
   "id": "7d2d667e",
   "metadata": {},
   "outputs": [
    {
     "data": {
      "text/plain": [
       "array([5, 7, 9])"
      ]
     },
     "execution_count": 43,
     "metadata": {},
     "output_type": "execute_result"
    }
   ],
   "source": [
    "dB = np.sum(dY, axis=0)\n",
    "dB"
   ]
  },
  {
   "cell_type": "code",
   "execution_count": 61,
   "id": "3b77a9ef",
   "metadata": {},
   "outputs": [],
   "source": [
    "class Affine:\n",
    "    def __init__(self, W, b):\n",
    "        self.W = W\n",
    "        self.b = b\n",
    "        self.x = None\n",
    "        self.dW = None\n",
    "        self.db = None\n",
    "        \n",
    "    def forward(self, x):\n",
    "        self.x = x\n",
    "        out = np.dot(x, self.W) + self.b\n",
    "        \n",
    "        return out\n",
    "    \n",
    "    def backward(self, dout):\n",
    "        dx = np.dot(dout, self.W.T)\n",
    "        self.dW = np.dot(self.x.T, dout)\n",
    "        self.db = np.sum(dout, axis=0)\n",
    "        \n",
    "        return dx"
   ]
  },
  {
   "cell_type": "markdown",
   "id": "f08c1487",
   "metadata": {},
   "source": [
    "## Softmax-with-Loss 계층\n",
    "\n",
    "- 입력 이미지가 affine 계층과 relu 계층을 통과 하여 변환\n",
    "- 마지막 softmax 계층에 의해 10개의 입력으로 정규화 (합이 1인 확률값)\n",
    "<img src='images/fig 5-28.png' width=500>\n",
    "\n",
    "- Softmax와 loss는 따로 따로 역전파를 구하는 것 보다 합쳐서 구하는 것이 더 심플 하다.\n",
    "- softmax와 loss 를 합쳐 softmax-with-loss 란 이름으로 구현\n",
    "<img src='images/fig 5-29.png' width=500>\n",
    "\n",
    "- 최종 결과\n",
    "- softmax 층은 입력 $(a_1, a_2, a_3)$을 정규화 하여 $(y_1, y_2, y_3)$ 출력\n",
    "- cross entropy error 계층은 $(y_1, y_2, y_3)$ 과 정답 레이블 $(t_1, t_2, t_3)$ 로 부터 손실 $L$ 계산\n",
    "- 결과 $(y_1 - t_1, y_2 - t_2, y_3 - t_3)$ 는, 정답과 예측의 차이가 클 수록 큰 오차 \n",
    "- 결과가 이렇게 깔 끔 하게 되도록 softmax와 cross entropy error 를 사용 한 것 \n",
    "<img src='images/fig 5-30.png' width=500>\n",
    "\n",
    "- 대수적 설명\n",
    "- [소스](https://youtu.be/OWvcrIupMUM?si=c6IpOEDIIsNRxNbd)\n",
    "<img src='images/fig 5-31.png'>\n",
    "\n",
    "- 계산 그래프를 이용한 설명\n",
    "- [소스](https://youtu.be/OWvcrIupMUM?si=c6IpOEDIIsNRxNbd)\n",
    "<img src='images/fig 5-32.png'>"
   ]
  },
  {
   "cell_type": "code",
   "execution_count": 46,
   "id": "ac4a54a5",
   "metadata": {},
   "outputs": [],
   "source": [
    "from common.functions import softmax, cross_entropy_error"
   ]
  },
  {
   "cell_type": "code",
   "execution_count": 47,
   "id": "b3e72424",
   "metadata": {},
   "outputs": [],
   "source": [
    "class SoftmaxWithLoss:\n",
    "    def __init__(self):\n",
    "        self.loss = None\n",
    "        self.y = None\n",
    "        self.t = None\n",
    "        \n",
    "    def forward(self, x, t):\n",
    "        self.t = t\n",
    "        self.y = softmax(x)\n",
    "        self.loss = cross_entropy_error(self.y, self.t)\n",
    "        \n",
    "        return self.loss\n",
    "    \n",
    "    def backward(self, dout=1):\n",
    "        batch_size = self.t.shape[0]\n",
    "        dx = (self.y - self.t)/ batch_size\n",
    "        \n",
    "        return dx"
   ]
  },
  {
   "cell_type": "markdown",
   "id": "d63932bf",
   "metadata": {},
   "source": [
    "# 오차역전파법 구현하기"
   ]
  },
  {
   "cell_type": "markdown",
   "id": "a825feaf",
   "metadata": {},
   "source": [
    "## 신경망 학습의 전체 그림\n",
    "- 전체\n",
    "    - 신경망에 적응 가능한 가중치와 편향이 있고\n",
    "    - 이 가중치와 편향을 훈련 데이터에 적응 하도록 조정 하는 과정을 '학습' 이라고 한다\n",
    "- 1단계 : 미니배치\n",
    "    - 훈련 데이터 중 일부를 무작위로 선택\n",
    "    - 이렇게 선택한 데이터를 미니배치라고 함\n",
    "    - 미니배치의 손실 함수 값을 줄이는 것이 목표\n",
    "- 2단계 : 기울이 계산\n",
    "    - 미니배치의 손실 함수 값을 줄이기 위해 각 가중치 매개변수의 기울기 계산\n",
    "- 3단계 : 매개변수 갱신\n",
    "    - 가중치 매개변수의 기울기 방향으로 아주 조금 갱신\n",
    "- 4단계 : 반복\n",
    "    - 1~3단계 반복"
   ]
  },
  {
   "cell_type": "markdown",
   "id": "3372b092",
   "metadata": {},
   "source": [
    "## 오차역전파법을 적용한 신경망 구현하기"
   ]
  },
  {
   "cell_type": "code",
   "execution_count": 59,
   "id": "2d6cee04",
   "metadata": {},
   "outputs": [],
   "source": [
    "from collections import OrderedDict\n",
    "from common.gradient import numerical_gradient\n",
    "from dataset.mnist import load_mnist\n",
    "\n",
    "class TwoLayerNet:\n",
    "    def __init__(self, input_size, hidden_size, output_size, weight_init_std=0.01):\n",
    "        \n",
    "        # 가중치 초기화\n",
    "        self.params = {}\n",
    "        self.params['W1'] = weight_init_std*np.random.randn(input_size, hidden_size)\n",
    "        self.params['b1'] = np.zeros(hidden_size)\n",
    "        self.params['W2'] = weight_init_std*np.random.randn(hidden_size, output_size)\n",
    "        self.params['b2'] = np.zeros(output_size)        \n",
    "        \n",
    "        # 계층 생성\n",
    "        self.layers = OrderedDict()\n",
    "        self.layers['Affine1'] = Affine(self.params['W1'], self.params['b1'])\n",
    "        self.layers['Relu1'] = ReLu()\n",
    "        self.layers['Affine2'] = Affine(self.params['W2'], self.params['b2'])        \n",
    "        \n",
    "        self.lastLayer = SoftmaxWithLoss()\n",
    "        \n",
    "    def predict(self, x):\n",
    "        for layer in self.layers.values():\n",
    "            x = layer.forward(x)\n",
    "            \n",
    "        return x\n",
    "    \n",
    "    # x : 입력 데이터, t : 정답 레이블\n",
    "    def loss(self, x, t):\n",
    "        y = self.predict(x)\n",
    "        return self.lastLayer.forward(y, t)\n",
    "    \n",
    "    def accuracy(self, x, t):\n",
    "        y = self.predict(x)\n",
    "        y = np.argmax(y, axis=1)\n",
    "        \n",
    "        if t.ndim != 1:\n",
    "            t = np.argmax(t, axis=1)\n",
    "        \n",
    "        accuracy = np.sum(y == t) / float(x.shape[0])\n",
    "        return accuracy\n",
    "\n",
    "    def numerical_gradient(self, x, t):\n",
    "        loss_W = lambda W: self.loss(x, t)\n",
    "\n",
    "        grads = {}\n",
    "        grads['W1'] = numerical_gradient(loss_W, self.params['W1'])\n",
    "        grads['b1'] = numerical_gradient(loss_W, self.params['b1'])\n",
    "        grads['W2'] = numerical_gradient(loss_W, self.params['W2'])\n",
    "        grads['b2'] = numerical_gradient(loss_W, self.params['b2'])\n",
    "\n",
    "        return grads\n",
    "    \n",
    "    def gradient(self, x, t):\n",
    "        # 순전파\n",
    "        self.loss(x, t)\n",
    "        \n",
    "        # 역전파\n",
    "        dout = 1\n",
    "        dout = self.lastLayer.backward(dout)\n",
    "        \n",
    "        layers = list(self.layers.values())\n",
    "        for layer in layers[::-1]:\n",
    "            dout = layer.backward(dout)\n",
    "            \n",
    "        # 결과 저장\n",
    "        grads = {}\n",
    "        grads['W1'] = self.layers['Affine1'].dW\n",
    "        grads['b1'] = self.layers['Affine1'].db\n",
    "        grads['W2'] = self.layers['Affine2'].dW\n",
    "        grads['b2'] = self.layers['Affine2'].db        \n",
    "        \n",
    "        return grads"
   ]
  },
  {
   "cell_type": "markdown",
   "id": "3917cbc3",
   "metadata": {},
   "source": [
    "## 오차역전파법으로 구한 기울기 검증하기\n",
    "- 수치 미분과의 비교로 오차역전파법이 제대로 구현 되었는지 확인 한다."
   ]
  },
  {
   "cell_type": "code",
   "execution_count": 62,
   "id": "7823e7e9",
   "metadata": {},
   "outputs": [
    {
     "name": "stdout",
     "output_type": "stream",
     "text": [
      "W1:2.0891607858410487e-13\n",
      "b1:8.29295245755729e-13\n",
      "W2:7.912630049875663e-13\n",
      "b2:1.1990408388395936e-10\n"
     ]
    }
   ],
   "source": [
    "(x_train, t_train), (x_test, t_test) = \\\n",
    "    load_mnist(normalize=True, one_hot_label=True)\n",
    "\n",
    "network = TwoLayerNet(input_size=784, hidden_size=50, output_size=10)\n",
    "\n",
    "x_batch = x_train[:3]\n",
    "t_batch = t_train[:3]\n",
    "\n",
    "grad_numerical = network.numerical_gradient(x_batch, t_batch)\n",
    "grad_backprop = network.gradient(x_batch, t_batch)\n",
    "\n",
    "# 각 가중치의 차이의 절댓값을 구한 후, 그 절댓값들의 평균을 낸다.\n",
    "for key in grad_numerical.keys():\n",
    "    diff = np.average(np.abs(grad_backprop[key] - grad_numerical[key]))\n",
    "    print(key + \":\" + str(diff))"
   ]
  },
  {
   "cell_type": "markdown",
   "id": "ecb40562",
   "metadata": {},
   "source": [
    "## 오차역전파법을 사용한 학습 구현하기"
   ]
  },
  {
   "cell_type": "code",
   "execution_count": 71,
   "id": "1a4a266b",
   "metadata": {},
   "outputs": [
    {
     "name": "stderr",
     "output_type": "stream",
     "text": [
      "100%|████████████████████████████████████| 10000/10000 [00:31<00:00, 322.01it/s]\n"
     ]
    }
   ],
   "source": [
    "from tqdm import tqdm\n",
    "\n",
    "(x_train, t_train), (x_test, t_test) = \\\n",
    "    load_mnist(normalize=True, one_hot_label=True)\n",
    "\n",
    "network = TwoLayerNet(input_size=784, hidden_size=50, output_size=10)\n",
    "\n",
    "iters_num = 10000\n",
    "train_size = x_train.shape[0]\n",
    "batch_size = 100\n",
    "learning_rate = 0.1\n",
    "\n",
    "train_loss_list = []\n",
    "train_acc_list = []\n",
    "test_acc_list = []\n",
    "test_loss_list = []\n",
    "\n",
    "iter_per_epoch = max(train_size /batch_size, 1)\n",
    "\n",
    "for i in tqdm(range(iters_num)):\n",
    "    batch_mask = np.random.choice(train_size, batch_size)\n",
    "    x_batch = x_train[batch_mask]\n",
    "    t_batch = t_train[batch_mask]\n",
    "    \n",
    "    # 오차역전파법으로 기울기 구하기\n",
    "    grad = network.gradient(x_batch, t_batch)\n",
    "    \n",
    "    # 갱신\n",
    "    for key in ('W1', 'b1', 'W2', 'b2'):\n",
    "        network.params[key] -= learning_rate*grad[key]\n",
    "        \n",
    "    loss = network.loss(x_batch, t_batch)\n",
    "\n",
    "    \n",
    "    if i % iter_per_epoch == 0:\n",
    "        train_acc = network.accuracy(x_train, t_train)\n",
    "        test_acc = network.accuracy(x_test, t_test)\n",
    "        train_acc_list.append(train_acc)\n",
    "        test_acc_list.append(test_acc)\n",
    "        \n",
    "        train_loss_list.append(loss)\n",
    "        test_loss = network.loss(x_test, t_test)\n",
    "        test_loss_list.append(test_loss)             "
   ]
  },
  {
   "cell_type": "code",
   "execution_count": 72,
   "id": "034c8088",
   "metadata": {},
   "outputs": [
    {
     "data": {
      "image/png": "[encoded data removed]",
      "text/plain": [
       "<Figure size 640x480 with 1 Axes>"
      ]
     },
     "metadata": {},
     "output_type": "display_data"
    }
   ],
   "source": [
    "import matplotlib.pyplot as plt\n",
    "\n",
    "plt.plot(train_acc_list, label='train_acc')\n",
    "plt.plot(test_acc_list, label='test_acc')\n",
    "plt.xlabel('epochs')\n",
    "plt.ylabel('acc')\n",
    "plt.legend()\n",
    "plt.title('Accuracy')\n",
    "plt.show()"
   ]
  },
  {
   "cell_type": "code",
   "execution_count": 73,
   "id": "32a7cda9",
   "metadata": {},
   "outputs": [
    {
     "data": {
      "image/png": "[encoded data removed]",
      "text/plain": [
       "<Figure size 640x480 with 1 Axes>"
      ]
     },
     "metadata": {},
     "output_type": "display_data"
    }
   ],
   "source": [
    "import matplotlib.pyplot as plt\n",
    "\n",
    "plt.plot(test_loss_list, label='test_loss')\n",
    "plt.plot(train_loss_list, label='train_loss')\n",
    "plt.xlabel('epochs')\n",
    "plt.ylabel('acc')\n",
    "plt.title('Loss')\n",
    "plt.legend()\n",
    "plt.show()"
   ]
  },
  {
   "cell_type": "markdown",
   "id": "28a0327d",
   "metadata": {},
   "source": [
    "# 정리\n",
    "- 계산 그래프를 이용 계산 과정을 시각화 할 수 있다.\n",
    "- 계산 그래프의 노드는 국소적 계산으로 구성된다.\n",
    "    - 국소적 계산을 조합해 전체 계산을 할 수 있다.\n",
    "- 계산 그래프의 순전파는 통상의 계산을 수행한다.\n",
    "    - 계산 그래프의 역전파는 각 노드의 미분을 구할 수 있다.\n",
    "- 신경망의 구성 요소를 계층으로 구현하여 기울기를 효율적으로 계산 할 수 있다. (오차역전파법)\n",
    "- 수치 미분과 오차역전파법의 결과를 비교하면, 오차역전파법의 구현에 잘못이 없음을 확인 할 수 있다 (기울기 확인)"
   ]
  }
 ],
 "metadata": {
  "kernelspec": {
   "display_name": "Python 3 (ipykernel)",
   "language": "python",
   "name": "python3"
  },
  "language_info": {
   "codemirror_mode": {
    "name": "ipython",
    "version": 3
   },
   "file_extension": ".py",
   "mimetype": "text/x-python",
   "name": "python",
   "nbconvert_exporter": "python",
   "pygments_lexer": "ipython3",
   "version": "3.10.9"
  },
  "toc": {
   "base_numbering": 1,
   "nav_menu": {},
   "number_sections": true,
   "sideBar": true,
   "skip_h1_title": false,
   "title_cell": "Table of Contents",
   "title_sidebar": "Contents",
   "toc_cell": false,
   "toc_position": {
    "height": "calc(100% - 180px)",
    "left": "10px",
    "top": "150px",
    "width": "341.333px"
   },
   "toc_section_display": true,
   "toc_window_display": false
  }
 },
 "nbformat": 4,
 "nbformat_minor": 5
}
