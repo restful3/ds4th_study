{
 "cells": [
  {
   "cell_type": "markdown",
   "metadata": {},
   "source": [
    "# 2.1 퍼셉트론이란?\n",
    "**퍼셉트론** *perceptron*은 1957년에 프랑크 로젠블라트가 고안한 신경망의 기원이 되는 알고리즘이다. (단순) 퍼셉트론은 다수의 신호를 입력으로 받아 하나의 신호를 출력한다.\n",
    "\n",
    "![perceptron](../images/fig 2-1.png)\n",
    "\n",
    "$x_{1}$과 $x_{2}$는 입력 신호, $y$는 출력 신호 $w_{1}$, $w_{2}$는 가중치를 말한다. 입력 신호에 고유한 **가중치**가 곱해 총합이 한계를 넘어서면 1을 출력한다. 그 한계를 **임계값**이라 하며, $\\theta$(세타)로 나타낸다. 이를 수식으로 나타내면 아래와 같다.\n",
    "\n",
    "$y = \\begin{cases}\n",
    "0, & (w_1 x_1 + x_2 x_2 \\leq \\theta) \\\\\n",
    "1, & (w_1 x_1 + x_2 x_2 > \\theta)\n",
    "\\end{cases}$\n",
    "\n",
    "퍼셉트론은 복수의 입력 신호 각각에 고유한 가중치를 부여한다. 가중치는 각 신호가 결과에 주는 영향력을 조절하는 요소로 작용한다. 즉, 가중치가 클수록 해당 신호가 그만큼 더 중요함을 뜻한다.\n",
    "\n",
    "# 2.2 단순한 논리 회로"
   ]
  },
  {
   "cell_type": "code",
   "execution_count": null,
   "metadata": {
    "collapsed": true
   },
   "outputs": [],
   "source": []
  }
 ],
 "metadata": {
  "kernelspec": {
   "display_name": "Python 3",
   "language": "python",
   "name": "python3"
  },
  "language_info": {
   "codemirror_mode": {
    "name": "ipython",
    "version": 3
   },
   "file_extension": ".py",
   "mimetype": "text/x-python",
   "name": "python",
   "nbconvert_exporter": "python",
   "pygments_lexer": "ipython3",
   "version": "3.6.1"
  }
 },
 "nbformat": 4,
 "nbformat_minor": 2
}
