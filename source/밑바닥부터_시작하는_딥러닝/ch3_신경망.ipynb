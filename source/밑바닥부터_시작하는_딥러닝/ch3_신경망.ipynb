{
  "cells": [
    {
      "cell_type": "markdown",
      "metadata": {
        "id": "view-in-github",
        "colab_type": "text"
      },
      "source": [
        "<a href=\"https://colab.research.google.com/github/restful3/ds4th_study/blob/main/source/%EB%B0%91%EB%B0%94%EB%8B%A5%EB%B6%80%ED%84%B0_%EC%8B%9C%EC%9E%91%ED%95%98%EB%8A%94_%EB%94%A5%EB%9F%AC%EB%8B%9D/ch3_%EC%8B%A0%EA%B2%BD%EB%A7%9D.ipynb\" target=\"_parent\"><img src=\"https://colab.research.google.com/assets/colab-badge.svg\" alt=\"Open In Colab\"/></a>"
      ]
    },
    {
      "cell_type": "markdown",
      "id": "dad96645-0a8c-45f7-a3ef-c8a167d4b94e",
      "metadata": {
        "id": "dad96645-0a8c-45f7-a3ef-c8a167d4b94e"
      },
      "source": [
        "# 3.신경망"
      ]
    },
    {
      "cell_type": "markdown",
      "id": "b2cfc1ae-314b-4ce2-8e25-6752f163e191",
      "metadata": {
        "id": "b2cfc1ae-314b-4ce2-8e25-6752f163e191"
      },
      "source": [
        "- 기존에 배운 단층 퍼셉트론은\n",
        "    + 복잡한 함수도 처리할 수 있으나\n",
        "    + 여전히 가중치를 사람이 설정하는 과정 거침"
      ]
    },
    {
      "cell_type": "markdown",
      "id": "59ab21f8-0752-4b3c-8858-cf09e2441b24",
      "metadata": {
        "id": "59ab21f8-0752-4b3c-8858-cf09e2441b24"
      },
      "source": [
        "## 1. 퍼셉트론에서 신경망으로"
      ]
    },
    {
      "cell_type": "markdown",
      "id": "e09fde48-e23a-4b7b-8e33-0b74f5e3b79f",
      "metadata": {
        "id": "e09fde48-e23a-4b7b-8e33-0b74f5e3b79f"
      },
      "source": [
        "### 1.1 신경망의 예\n",
        "다음의 그림처럼 신경망은 입력층 은닉층 출력층, 즉 3개 층으로 기본 구성.<br>\n",
        "가중치를 갖는 층은 2개 뿐이기에 2층 신경망이라 불릴때도 있음 <br>\n",
        "<img src=\"https://drive.google.com/uc?id=1N8Zr6cOt93kRdpFfrJrbvDRNDJXddzvj\" width=500 height=500>\n",
        "\n",
        "\n",
        "\n"
      ]
    },
    {
      "cell_type": "markdown",
      "id": "557d33fd-0034-4598-9181-1e08ad5d0c80",
      "metadata": {
        "id": "557d33fd-0034-4598-9181-1e08ad5d0c80"
      },
      "source": [
        "### 1.2 퍼셉트론복습\n",
        "<img src=\"https://drive.google.com/uc?id=1NQr8K0BKEF27VvRGcMkbP37LPKv1lbgn\" width=410 ><br>\n",
        "그림3-2는 x1, x2 두신호를 받아 y를 출력하는 퍼셉트론, 수식으로는 다음과 같음\n",
        "\n",
        "> $ y = 0 (b+w_1x_1+w_2x_2 <=0)$ <br>\n",
        "> $ y = 1 (b+w_1x_1+w_2x_2 >0)$ <br>\n",
        "\n",
        "- b는 편향 : 뉴런이 얼마나 쉽게 활성화 되는가 제어\n",
        "- $w_1, w_2$는 각신호의 가중치로 각 신호의 영향력 제어\n",
        "\n",
        "그런데 3-2 그림에서는 편향이 보이지 않으므로 편향을 명시하여 그림 그려보면 다음과 같음<br>\n",
        "<img src=\"https://drive.google.com/uc?id=1NGTFaWUFaeI1Y_P8YFjLPFeFP3a2GiVs\" width=500 height=500><br>"
      ]
    },
    {
      "cell_type": "markdown",
      "id": "01d5114b-80ac-410d-86a8-37799fcbed95",
      "metadata": {
        "id": "01d5114b-80ac-410d-86a8-37799fcbed95"
      },
      "source": [
        "### 1.3 활성화 함수의 등장\n",
        "\n",
        "\n",
        "이 퍼셉트론은 $x_1,x_2,1$ 이라는 3개의 신호가 뉴런에 전달되어 각 신호의 가중치를 곱한 후 다음 뉴런에 전달.\n",
        "- 다음 뉴런에서 이신호의 값을 더하여 그합이 0을 넘으면 1, 아니면 0 출력\n",
        "\n",
        "<br><h4>이처럼 입력신호의 총합을 출력신호로 변환하는 함수를 <b><h3>활성화함수</h3></b>라고 한다</h4>\n",
        "\n",
        "\n",
        "<img src=\"https://drive.google.com/uc?id=1NJuTK-j2ao_MAOzDhD6d_GVvx4_Urofu\" width=500 height=500>\n",
        "뉴런의 계산과정을 자세히 나타냄\n",
        "<img src=\"https://drive.google.com/uc?id=1N8dLfY9ht5aAB9DPR_mRc544dDNT7GDk\" width=1500 height=500>"
      ]
    },
    {
      "cell_type": "markdown",
      "id": "465d1313-fec0-4d03-b3d8-49d9f5206a49",
      "metadata": {
        "id": "465d1313-fec0-4d03-b3d8-49d9f5206a49"
      },
      "source": [
        "## 2. 활성화함수\n",
        "위처럼 임계값을 경계로 출력이 바뀌는것을 계단함수 (step function)이라 한다. 신경망에서 자주 이용되는 활성화함수인 sigmoid와비교하여 살펴보자\n"
      ]
    },
    {
      "cell_type": "markdown",
      "id": "417b83d5-7f68-4e40-856d-10c12028779d",
      "metadata": {
        "id": "417b83d5-7f68-4e40-856d-10c12028779d"
      },
      "source": [
        "### 2.1 계단함수 구현\n",
        "- 임계값을 기준으로 0 또는 1이라...극단적 : 두가지 선택을 보여줌"
      ]
    },
    {
      "cell_type": "code",
      "execution_count": null,
      "id": "2f73702f-ac19-4c7b-98c3-3701ac432c59",
      "metadata": {
        "id": "2f73702f-ac19-4c7b-98c3-3701ac432c59",
        "outputId": "5ebf3adc-0678-4b4a-e183-cf53d1ec6352"
      },
      "outputs": [
        {
          "data": {
            "image/png": "[encoded data removed]",
            "text/plain": [
              "<Figure size 640x480 with 1 Axes>"
            ]
          },
          "metadata": {},
          "output_type": "display_data"
        }
      ],
      "source": [
        "import numpy as np\n",
        "import matplotlib.pyplot as plt\n",
        "import warnings\n",
        "warnings.filterwarnings('ignore')\n",
        "\n",
        "# numpy 배열을 위한 구현\n",
        "def step_function(x):\n",
        "    # y = x > 0\n",
        "    # return y.astype(np.int)\n",
        "    return np.array(x > 0, dtype=np.int)\n",
        "\n",
        "\n",
        "# 3.2.3 계단 함수의 그래프\n",
        "x = np.arange(-5.0, 5.0, 0.1) # -5~5까지 0.1 간격으로 구현\n",
        "y = step_function(x)\n",
        "\n",
        "plt.plot(x, y)\n",
        "plt.ylim(-0.1, 1.1)  # y축의 범위 지정\n",
        "plt.show()\n"
      ]
    },
    {
      "cell_type": "markdown",
      "id": "bf6f6160-e461-49c9-993c-d72b9015915c",
      "metadata": {
        "id": "bf6f6160-e461-49c9-993c-d72b9015915c"
      },
      "source": [
        "### 2.2 시그모이드 구현\n",
        "\n",
        "- $  h(x) = \\frac{1}{1+exp(-x)}$\n",
        "\n",
        "exp(-x)는 $e^{-x}$로 e는 자연상수 (2.71812...), 시그모이드는 확률 0~1사이의 값을 연속형으로 연결\n",
        "- x에 비례하여 y의 확률값을 보여줌"
      ]
    },
    {
      "cell_type": "code",
      "execution_count": null,
      "id": "90332178-e1a0-4c27-893a-2b9c3e466b07",
      "metadata": {
        "id": "90332178-e1a0-4c27-893a-2b9c3e466b07",
        "outputId": "c1bd23b7-eeb6-4155-ac7f-e6e929079a11"
      },
      "outputs": [
        {
          "data": {
            "image/png": "[encoded data removed]",
            "text/plain": [
              "<Figure size 640x480 with 1 Axes>"
            ]
          },
          "metadata": {},
          "output_type": "display_data"
        }
      ],
      "source": [
        "def sigmoid(x):\n",
        "    return 1 / (1 + np.exp(-x))\n",
        "\n",
        "\n",
        "x = np.arange(-5.0, 5.0, 0.1)\n",
        "y = sigmoid(x)\n",
        "\n",
        "plt.plot(x, y)\n",
        "plt.ylim(-0.1, 1.1)  # y축의 범위 지정\n",
        "plt.show()\n"
      ]
    },
    {
      "cell_type": "markdown",
      "id": "bb1f03ed-a127-41ba-9416-a92816d1fbc5",
      "metadata": {
        "id": "bb1f03ed-a127-41ba-9416-a92816d1fbc5"
      },
      "source": [
        "### 2.3 활성화함수의 공통점은?\n",
        "\n",
        "비선형함수라는 점임 : 신경망에서는 선형함수를 활성화함수로 사용해서는 안됨\n",
        "- 그러면 선형으로만 계산되어 신경망의 층을 깊게 하는 의미가 없어짐\n",
        "    - 예> h(x) = cx 를 활성화함수로 사용시, 3층네트워크 y(x) = h(h(h(x))) = $c^x$ 으로만 계산되면 끝"
      ]
    },
    {
      "cell_type": "markdown",
      "id": "a901f95b-46d6-49a1-a0f8-d4e0e09d91cd",
      "metadata": {
        "tags": [],
        "id": "a901f95b-46d6-49a1-a0f8-d4e0e09d91cd"
      },
      "source": [
        "### 2.4 Relu 구현\n",
        "최근에 가장 많이 쓰이는 활성화함수로 <br>\n",
        "입력이 0을 넘으면 그대로 출력, 0 이하면 0을 출력"
      ]
    },
    {
      "cell_type": "code",
      "execution_count": null,
      "id": "a2848c89-5c5b-47da-9feb-e987aa13b47b",
      "metadata": {
        "id": "a2848c89-5c5b-47da-9feb-e987aa13b47b",
        "outputId": "997f5a1c-1a4b-4a20-8ad4-336ac2e305fc"
      },
      "outputs": [
        {
          "data": {
            "image/png": "[encoded data removed]",
            "text/plain": [
              "<Figure size 640x480 with 1 Axes>"
            ]
          },
          "metadata": {},
          "output_type": "display_data"
        }
      ],
      "source": [
        "def relu(x):\n",
        "    return np.maximum(0, x)\n",
        "\n",
        "x = np.arange(-5.0, 5.0, 0.1)\n",
        "y = relu(x)\n",
        "\n",
        "plt.plot(x, y)\n",
        "plt.ylim(-0.1, 1.1)  # y축의 범위 지정\n",
        "plt.show()"
      ]
    },
    {
      "cell_type": "markdown",
      "id": "157ceefa-b9e0-4cf6-8204-9985246c7083",
      "metadata": {
        "id": "157ceefa-b9e0-4cf6-8204-9985246c7083"
      },
      "source": [
        "## 3. 다차원 배열의 계산"
      ]
    },
    {
      "cell_type": "markdown",
      "id": "c4eaa395-35c6-4c29-8a23-60cabad57544",
      "metadata": {
        "id": "c4eaa395-35c6-4c29-8a23-60cabad57544"
      },
      "source": [
        "### 3.1 다차원 배열\n",
        "- 다차원 배열도 그 기본은 숫자의 집합.\n",
        "    - 숫자가 일렬로 늘어선것이나 직사각형으로 늘어놓은 것, 3차원으로 늘어놓은것...모두 통틀어 다차원배열이라 함"
      ]
    },
    {
      "cell_type": "code",
      "execution_count": null,
      "id": "a46d0d47-ff70-4ab2-94b2-a71b3135b764",
      "metadata": {
        "id": "a46d0d47-ff70-4ab2-94b2-a71b3135b764",
        "outputId": "be7c9f3f-85b1-4189-b9d9-dfa882659427"
      },
      "outputs": [
        {
          "name": "stdout",
          "output_type": "stream",
          "text": [
            "[1 2 3 4]\n",
            "1\n",
            "(4,)\n"
          ]
        }
      ],
      "source": [
        "A = np.array([1, 2, 3, 4])\n",
        "print(A)  # [1 2 3 4]\n",
        "print(np.ndim(A))  # 1\n",
        "print(A.shape)  # (4,)"
      ]
    },
    {
      "cell_type": "code",
      "execution_count": null,
      "id": "c7ee41e1-b5e4-459c-b0dc-22dc6fc24b95",
      "metadata": {
        "id": "c7ee41e1-b5e4-459c-b0dc-22dc6fc24b95",
        "outputId": "f813991f-73b8-43fe-ff87-9d89701c9638"
      },
      "outputs": [
        {
          "name": "stdout",
          "output_type": "stream",
          "text": [
            "[[1 2]\n",
            " [3 4]\n",
            " [5 6]]\n",
            "2\n",
            "(3, 2)\n"
          ]
        }
      ],
      "source": [
        "B = np.array([[1, 2], [3, 4], [5, 6]])\n",
        "print(B)\n",
        "print(np.ndim(B))  # 2\n",
        "print(B.shape)  # (3, 2)\n"
      ]
    },
    {
      "cell_type": "code",
      "execution_count": null,
      "id": "171585e7-8aa8-4948-bab3-7e54bcdf0c70",
      "metadata": {
        "id": "171585e7-8aa8-4948-bab3-7e54bcdf0c70",
        "outputId": "2575cb98-23aa-460e-d2a9-f5010de3aeb7"
      },
      "outputs": [
        {
          "name": "stdout",
          "output_type": "stream",
          "text": [
            "[[19 22]\n",
            " [43 50]]\n"
          ]
        }
      ],
      "source": [
        "# 3.3.2 행렬의 내적(행렬 곱/스칼라 곱)\n",
        "A = np.array([[1, 2], [3, 4]])\n",
        "B = np.array([[5, 6], [7, 8]])\n",
        "print(np.dot(A, B))"
      ]
    },
    {
      "cell_type": "code",
      "execution_count": null,
      "id": "cbe84e13-ca15-4b82-98bb-bf685cc6f325",
      "metadata": {
        "id": "cbe84e13-ca15-4b82-98bb-bf685cc6f325",
        "outputId": "d7a6da2a-2fbd-4381-8384-5eb991d8ffd0"
      },
      "outputs": [
        {
          "name": "stdout",
          "output_type": "stream",
          "text": [
            "[[22 28]\n",
            " [49 64]]\n"
          ]
        }
      ],
      "source": [
        "A = np.array([[1, 2, 3], [4, 5, 6]])  # (2, 3)\n",
        "B = np.array([[1, 2], [3, 4], [5, 6]])  # (3, 2)\n",
        "print(np.dot(A, B))  # (2, 2)"
      ]
    },
    {
      "cell_type": "code",
      "execution_count": null,
      "id": "a9106b49-aa53-408d-8f6d-c56f4f1131f7",
      "metadata": {
        "id": "a9106b49-aa53-408d-8f6d-c56f4f1131f7",
        "outputId": "09dd7632-0de9-48f9-f59c-1abb30962bf6"
      },
      "outputs": [
        {
          "name": "stdout",
          "output_type": "stream",
          "text": [
            "[1 2]\n",
            "(2,)\n",
            "\n",
            "[[1 3 5]\n",
            " [2 4 6]]\n",
            "(2, 3)\n",
            "\n",
            "[ 5 11 17]\n",
            "(3,)\n"
          ]
        }
      ],
      "source": [
        "X = np.array([1, 2])  # (2,)\n",
        "print(X)\n",
        "print(X.shape)\n",
        "print()\n",
        "\n",
        "W = np.array([[1, 3, 5], [2, 4, 6]])  # (2, 3)\n",
        "print(W)\n",
        "print(W.shape)\n",
        "print()\n",
        "\n",
        "Y = np.dot(X, W)\n",
        "print(Y)  # [5 11 17]\n",
        "print(Y.shape)  # [5 11 17]"
      ]
    },
    {
      "cell_type": "markdown",
      "id": "dc587d10-4e3d-4db2-8038-2562d2dc0909",
      "metadata": {
        "id": "dc587d10-4e3d-4db2-8038-2562d2dc0909"
      },
      "source": [
        "## 4. 3층 신경망 구현하기\n",
        "- 신경망에서의 계산을 행렬계산으로 정리 가능.\n",
        "> 신경망의 각 층의 계산은 행렬의 곱으로 처리할 수 있음\n",
        "\n"
      ]
    },
    {
      "cell_type": "markdown",
      "id": "ac7fe0ee-8bdf-4715-a038-c638e8602d01",
      "metadata": {
        "id": "ac7fe0ee-8bdf-4715-a038-c638e8602d01"
      },
      "source": [
        "- 입력층(0층) 2개, 첫 번째 은닉층(1층) 3개, 두 번째 은닉층(2층) 2개, 출력층(3층) 2개의 뉴런으로 구성.\n",
        "    - 1, 2층의 활성화 함수 : 시그모이드\n",
        "    - 3층의 활성화 함수 : 항등함수\n",
        "\n",
        "- 출력층의 활성화 함수는 풀고자 하는 문제의 성질에 맞게 정한다.\n",
        "    - 예를 들어 회귀에는 항등함수, 2클래스 분류에는 시그모이드 함수,\n",
        "    - 다중 클래스 분류에는 소프트맥스 함수를 사용하는 것이 일반적\n",
        "<br>\n",
        "\n"
      ]
    },
    {
      "cell_type": "markdown",
      "id": "30489fc5-57e2-40f5-b5ba-34cce9e7c2d3",
      "metadata": {
        "id": "30489fc5-57e2-40f5-b5ba-34cce9e7c2d3"
      },
      "source": [
        "### 4.1 표기법\n",
        "<그림 3-16> 중요한 표기 표기\n",
        "가중치(w), 은닉층(a)의 오른쪽위에는 $^{(1)}$이 붙어있으며 이는 1층의 가중치, 은닉층을 뜻함<br>\n",
        "가중치의 아래에 붙은 두숫자는 각 앞의 뉴런번호, 뒤의 뉴런번호를 뜻함\n"
      ]
    },
    {
      "cell_type": "markdown",
      "id": "297cc1d9-c176-4057-87cb-e0148edc3eeb",
      "metadata": {
        "id": "297cc1d9-c176-4057-87cb-e0148edc3eeb"
      },
      "source": [
        "### 4.2 각 층의 신호 전달 구현하기\n",
        "입력층에서 1층 첫번째 뉴런으로 가는 신호를 살펴보면 그림과 같음\n",
        "<br>\n",
        "<그림 3-17>\n",
        "<br>\n",
        "편향을 뜻하는 뉴런인 ①이 추가됨. 수식으로 나타내면\n",
        "> $a_1^{(1)} = w_11^{(1)}+w_12^{(1)}+b_1^{(1)}$<br>\n",
        "간소화 하면 $A^{(1)}=XW^{(1)}+B^{(1)}$\n",
        "\n",
        "이 수식을 구현해보면,\n"
      ]
    },
    {
      "cell_type": "markdown",
      "id": "a4f0ad5c-3408-44a3-ac05-7fa6bfc65ba0",
      "metadata": {
        "id": "a4f0ad5c-3408-44a3-ac05-7fa6bfc65ba0"
      },
      "source": [
        "### 4.3 구현 정리"
      ]
    },
    {
      "cell_type": "code",
      "execution_count": null,
      "id": "3f800abe-74ab-4b2e-b5ef-ee9f84bcb3b4",
      "metadata": {
        "id": "3f800abe-74ab-4b2e-b5ef-ee9f84bcb3b4",
        "outputId": "e3b439cb-def6-41a1-ddcc-a0b1aa9e79b0"
      },
      "outputs": [
        {
          "name": "stdout",
          "output_type": "stream",
          "text": [
            "[0.31682708 0.69627909]\n"
          ]
        }
      ],
      "source": [
        "import numpy as np\n",
        "# 시그모이드함수\n",
        "def sigmoid(x):\n",
        "    return 1 / (1 + np.exp(-x))\n",
        "\n",
        "# 항등함수\n",
        "def identity_function(x):\n",
        "    return x\n",
        "\n",
        "\n",
        "# 신경망 구성\n",
        "def init_network():\n",
        "    network = {}\n",
        "    network['W1'] = np.array([[0.1, 0.3, 0.5], [0.2, 0.4, 0.6]])\n",
        "    network['b1'] = np.array([0.1, 0.2, 0.3])\n",
        "    network['W2'] = np.array([[0.1, 0.4], [0.2, 0.5], [0.3, 0.6]])\n",
        "    network['b2'] = np.array([0.1, 0.2])\n",
        "    network['W3'] = np.array([[0.1, 0.3], [0.2, 0.4]])\n",
        "    network['b3'] = np.array([0.1, 0.2])\n",
        "\n",
        "    return network\n",
        "\n",
        "# 포워드 정의\n",
        "def forward(network, x):\n",
        "    W1, W2, W3 = network['W1'], network['W2'], network['W3']\n",
        "    b1, b2, b3 = network['b1'], network['b2'], network['b3']\n",
        "\n",
        "    a1 = np.dot(x, W1) + b1\n",
        "    z1 = sigmoid(a1)\n",
        "    a2 = np.dot(z1, W2) + b2\n",
        "    z2 = sigmoid(a2)\n",
        "    a3 = np.dot(z2, W3) + b3\n",
        "    y = identity_function(a3)\n",
        "    return y\n",
        "\n",
        "network = init_network()\n",
        "x = np.array([1.0, 0.5])\n",
        "y = forward(network, x)  # [ 0.31682708  0.69627909]\n",
        "\n",
        "print(y)"
      ]
    },
    {
      "cell_type": "markdown",
      "id": "28330f6e-9625-42ac-8d0e-c5fd20842beb",
      "metadata": {
        "tags": [],
        "id": "28330f6e-9625-42ac-8d0e-c5fd20842beb"
      },
      "source": [
        "## 5. 출력층 설계하기\n",
        "- 신경망은 분류와 회귀 모두에 이용할 수 있음 다만 둘중 어떤 문제냐에 따라 출력층에서 사용하는 활성화함수 차이\n",
        "    - 회귀분류에는 항등함수, 분류에는 소프트맥스 함수 사용\n",
        "    \n"
      ]
    },
    {
      "cell_type": "markdown",
      "id": "8e074349-c420-4110-a9bc-f10426d06250",
      "metadata": {
        "id": "8e074349-c420-4110-a9bc-f10426d06250"
      },
      "source": [
        "### 5.1 항등함수와 소프트맥스 함수 구현하기\n",
        "> 항등 함수 (identity function) : 입력을 그대로 출력 <br><br>\n",
        "> 소프트맥스 함수 (softmax function)<br>\n",
        "$yk = \\frac{exp(a_k)}{\\sum\\limits_{i=1}^{n}exp(a_i)}$"
      ]
    },
    {
      "cell_type": "markdown",
      "id": "3b7f3f2e-5f4e-44ed-9aee-a1ad6af5ce2f",
      "metadata": {
        "id": "3b7f3f2e-5f4e-44ed-9aee-a1ad6af5ce2f"
      },
      "source": [
        "softmax 구하는 과정"
      ]
    },
    {
      "cell_type": "code",
      "execution_count": null,
      "id": "40969fee-86c1-44a9-8dcd-76bf58cb016c",
      "metadata": {
        "id": "40969fee-86c1-44a9-8dcd-76bf58cb016c",
        "outputId": "581d5ff4-21bd-445b-c88c-083d916d3544"
      },
      "outputs": [
        {
          "name": "stdout",
          "output_type": "stream",
          "text": [
            "[ 1.34985881 18.17414537 54.59815003]\n"
          ]
        }
      ],
      "source": [
        "a= np.array([0.3,2.9,4.0])\n",
        "exp_a= np.exp(a) # 지수함수\n",
        "print(exp_a)"
      ]
    },
    {
      "cell_type": "code",
      "execution_count": null,
      "id": "b4848e14-5910-423a-a03d-0397f04a7738",
      "metadata": {
        "id": "b4848e14-5910-423a-a03d-0397f04a7738",
        "outputId": "c8b86bd6-aa1e-459f-d2f8-870472205f3f"
      },
      "outputs": [
        {
          "name": "stdout",
          "output_type": "stream",
          "text": [
            "지수함수의 합 : 74.1221542101633\n",
            "지수함수의 비율(softmax) : [0.01821127 0.24519181 0.73659691]\n"
          ]
        }
      ],
      "source": [
        "sum_exp_a = np.sum(exp_a)\n",
        "print(f\"지수함수의 합 : {sum_exp_a}\")\n",
        "print(f\"지수함수의 비율(softmax) : {exp_a/sum_exp_a}\")"
      ]
    },
    {
      "cell_type": "markdown",
      "id": "a3c0ae2c-45c9-482c-8236-ff61baf5eddf",
      "metadata": {
        "id": "a3c0ae2c-45c9-482c-8236-ff61baf5eddf"
      },
      "source": [
        "함수로 정리하면"
      ]
    },
    {
      "cell_type": "code",
      "execution_count": null,
      "id": "d753eda3-bf5b-42f5-81bd-541200c3b769",
      "metadata": {
        "id": "d753eda3-bf5b-42f5-81bd-541200c3b769"
      },
      "outputs": [],
      "source": [
        "def softmax(a):\n",
        "    exp_a= np.exp(a) # 지수함수\n",
        "    sum_exp_a = np.sum(exp_a)\n",
        "    y = exp_a / sum_exp_a\n",
        "\n",
        "    return y"
      ]
    },
    {
      "cell_type": "markdown",
      "id": "c7b5de48-83e0-4924-a7df-ba0861153637",
      "metadata": {
        "id": "c7b5de48-83e0-4924-a7df-ba0861153637"
      },
      "source": [
        "### 5.2 소프트맥스 구현 시 주의점\n",
        "소프트맥스 함수는 지수함수를 사용하기 때문에 아주 큰 값을 사용하게 되고,<br>\n",
        "오버플로로 인해 결과 수치가 불안정해질 수 있다.<br>\n",
        "분자분모에 특정 수치(일반적으로 최대값)을 곱해줘서 결과를 보정한다."
      ]
    },
    {
      "cell_type": "code",
      "execution_count": null,
      "id": "26f214a8-54ee-416e-a24e-b8f6869950a3",
      "metadata": {
        "id": "26f214a8-54ee-416e-a24e-b8f6869950a3",
        "outputId": "e6cffbb1-3d10-440d-cb27-4045de866636"
      },
      "outputs": [
        {
          "name": "stdout",
          "output_type": "stream",
          "text": [
            "[nan nan nan]\n"
          ]
        },
        {
          "name": "stderr",
          "output_type": "stream",
          "text": [
            "C:\\Users\\David\\AppData\\Roaming\\Python\\Python37\\site-packages\\ipykernel_launcher.py:2: RuntimeWarning: overflow encountered in exp\n",
            "  \n",
            "C:\\Users\\David\\AppData\\Roaming\\Python\\Python37\\site-packages\\ipykernel_launcher.py:4: RuntimeWarning: invalid value encountered in true_divide\n",
            "  after removing the cwd from sys.path.\n"
          ]
        }
      ],
      "source": [
        "print(softmax(np.array([1010, 1000, 990])))"
      ]
    },
    {
      "cell_type": "markdown",
      "id": "350c4f9e-5d6b-4f52-ad2c-e06fa068f129",
      "metadata": {
        "id": "350c4f9e-5d6b-4f52-ad2c-e06fa068f129"
      },
      "source": [
        "오버플로 인하여 제대로 계산 안됨"
      ]
    },
    {
      "cell_type": "code",
      "execution_count": null,
      "id": "c975464c-b340-4d94-8b33-bd04b87a5be6",
      "metadata": {
        "id": "c975464c-b340-4d94-8b33-bd04b87a5be6"
      },
      "outputs": [],
      "source": [
        "def softmax_fix(a):\n",
        "    c = np.max(a)\n",
        "    exp_a = np.exp(a - c)  # 오버플로 대책\n",
        "    sum_exp_a = np.sum(exp_a)\n",
        "    y = exp_a / sum_exp_a\n",
        "\n",
        "    return y"
      ]
    },
    {
      "cell_type": "code",
      "execution_count": null,
      "id": "96ea07fb-ab1f-469e-8926-5144803e326c",
      "metadata": {
        "id": "96ea07fb-ab1f-469e-8926-5144803e326c",
        "outputId": "7eb49992-5223-4649-8cb0-4b72727b22e6"
      },
      "outputs": [
        {
          "name": "stdout",
          "output_type": "stream",
          "text": [
            "[9.99954600e-01 4.53978686e-05 2.06106005e-09]\n"
          ]
        }
      ],
      "source": [
        "print(softmax_fix(np.array([1010, 1000, 990])))"
      ]
    },
    {
      "cell_type": "markdown",
      "id": "4b281fda-3643-4698-8fdd-08be27a64153",
      "metadata": {
        "id": "4b281fda-3643-4698-8fdd-08be27a64153"
      },
      "source": [
        "### 5.3 소프트맥스 함수의 특징\n",
        "\n",
        "- 출력은 0에서 1사이의 실수이며 출력의 총합은 1이다.\n",
        "    - 따라서 출력을 확률로 해석할 수 있다.\n",
        "    - 단, 원소의 대소 관계는 변하지 않기 때문에 자원 낭비를 줄이기 위해 생략하기도 한다.\n",
        "\n",
        "- 기계 학습의 문제 풀이는 학습과 추론의 두 단계로 이루어진다.\n",
        "    - 추론 단계에서는 출력층의 소프트맥스 함수를 생략하는 것이 일반적이며,\n",
        "    - 학습시킬때는 출력층에서 소프트맥스 함수를 사용"
      ]
    },
    {
      "cell_type": "code",
      "execution_count": null,
      "id": "c883612a-0b14-45a0-a6bd-1c8ede8e2957",
      "metadata": {
        "id": "c883612a-0b14-45a0-a6bd-1c8ede8e2957",
        "outputId": "56d81150-3637-42a6-ce6d-74c80637a443"
      },
      "outputs": [
        {
          "name": "stdout",
          "output_type": "stream",
          "text": [
            "[0.01821127 0.24519181 0.73659691]\n",
            "1.0\n"
          ]
        }
      ],
      "source": [
        "a = np.array([0.3, 2.9, 4.0])\n",
        "y = softmax(a)\n",
        "print(y)  #\n",
        "print(np.sum(y))  # 1.0"
      ]
    },
    {
      "cell_type": "markdown",
      "id": "0c288948-39ee-4df0-8e29-d0b4ae00903c",
      "metadata": {
        "tags": [],
        "id": "0c288948-39ee-4df0-8e29-d0b4ae00903c"
      },
      "source": [
        "### 5.4 출력층의 뉴런 수 정하기\n",
        "- 출력층의 뉴런 수는 풀려는 문제에 맞게 적절히 정해야 한다.\n",
        "    - 분류에서는 분류하고 싶은 클래스 수로 설정"
      ]
    },
    {
      "cell_type": "markdown",
      "id": "fac0f4f6-bc78-4d97-b267-b77e3d5c185c",
      "metadata": {
        "id": "fac0f4f6-bc78-4d97-b267-b77e3d5c185c"
      },
      "source": [
        "## 6. 손글씨 숫자 인식\n",
        "구조를 모두 배웠으니 실전예제를 보자"
      ]
    },
    {
      "cell_type": "code",
      "execution_count": null,
      "id": "f6da3b2f-5267-4d0b-9535-a05bb8d2009d",
      "metadata": {
        "id": "f6da3b2f-5267-4d0b-9535-a05bb8d2009d",
        "outputId": "db99447a-339b-419f-b3fc-379d542eb08f"
      },
      "outputs": [
        {
          "name": "stdout",
          "output_type": "stream",
          "text": [
            "Collecting python-mnist\n",
            "  Downloading python_mnist-0.7-py2.py3-none-any.whl (9.6 kB)\n",
            "Installing collected packages: python-mnist\n",
            "Successfully installed python-mnist-0.7\n"
          ]
        }
      ],
      "source": [
        "!pip install python-mnist"
      ]
    },
    {
      "cell_type": "code",
      "execution_count": null,
      "id": "a8f437ac-84c2-4ba8-b10c-73b2ebd68e11",
      "metadata": {
        "id": "a8f437ac-84c2-4ba8-b10c-73b2ebd68e11",
        "outputId": "1746609a-f7be-449f-808a-7eab2a06c0ca"
      },
      "outputs": [
        {
          "ename": "ModuleNotFoundError",
          "evalue": "No module named 'dataset.mnist'",
          "output_type": "error",
          "traceback": [
            "\u001b[1;31m---------------------------------------------------------------------------\u001b[0m",
            "\u001b[1;31mModuleNotFoundError\u001b[0m                       Traceback (most recent call last)",
            "\u001b[1;32m<ipython-input-34-a56300eb4cd9>\u001b[0m in \u001b[0;36m<module>\u001b[1;34m\u001b[0m\n\u001b[0;32m      4\u001b[0m \u001b[1;32mimport\u001b[0m \u001b[0mnumpy\u001b[0m \u001b[1;32mas\u001b[0m \u001b[0mnp\u001b[0m\u001b[1;33m\u001b[0m\u001b[1;33m\u001b[0m\u001b[0m\n\u001b[0;32m      5\u001b[0m \u001b[0msys\u001b[0m\u001b[1;33m.\u001b[0m\u001b[0mpath\u001b[0m\u001b[1;33m.\u001b[0m\u001b[0mappend\u001b[0m\u001b[1;33m(\u001b[0m\u001b[0mos\u001b[0m\u001b[1;33m.\u001b[0m\u001b[0mpardir\u001b[0m\u001b[1;33m)\u001b[0m  \u001b[1;31m# 부모 디렉터리의 파일을 가져올 수 있도록 설정\u001b[0m\u001b[1;33m\u001b[0m\u001b[1;33m\u001b[0m\u001b[0m\n\u001b[1;32m----> 6\u001b[1;33m \u001b[1;32mfrom\u001b[0m \u001b[0mdataset\u001b[0m\u001b[1;33m.\u001b[0m\u001b[0mmnist\u001b[0m \u001b[1;32mimport\u001b[0m \u001b[0mload_mnist\u001b[0m\u001b[1;33m\u001b[0m\u001b[1;33m\u001b[0m\u001b[0m\n\u001b[0m\u001b[0;32m      7\u001b[0m \u001b[1;32mfrom\u001b[0m \u001b[0mcommon\u001b[0m\u001b[1;33m.\u001b[0m\u001b[0mfunctions\u001b[0m \u001b[1;32mimport\u001b[0m \u001b[0msigmoid\u001b[0m\u001b[1;33m,\u001b[0m \u001b[0msoftmax\u001b[0m\u001b[1;33m\u001b[0m\u001b[1;33m\u001b[0m\u001b[0m\n\u001b[0;32m      8\u001b[0m \u001b[1;33m\u001b[0m\u001b[0m\n",
            "\u001b[1;31mModuleNotFoundError\u001b[0m: No module named 'dataset.mnist'"
          ]
        }
      ],
      "source": [
        "import sys\n",
        "import os\n",
        "import pickle\n",
        "import numpy as np\n",
        "sys.path.append(os.pardir)  # 부모 디렉터리의 파일을 가져올 수 있도록 설정\n",
        "from dataset.mnist import load_mnist\n",
        "from common.functions import sigmoid, softmax\n",
        "\n",
        "\n",
        "# 3.6.1 MNIST 데이터셋\n",
        "'''\n",
        "0~9 숫자 이미지로 구성.\n",
        "훈련 이미지 60000장, 시험 이미지 10000장\n",
        "28*28 크기의 회색조 이미지이며 각 픽셀은 0~255의 값을 가짐\n",
        "레이블은 정답에 해당하는 숫자\n",
        "'''\n",
        "# 처음 한 번은 몇 분 정도 걸림\n",
        "# 이미지를 numpy 배열로 저장\n",
        "# flatten : 입력 이미지를 평탄화(1차원 배열로)\n",
        "# normalize : 입력 이미지를 정규화(0.0~1.0 사이의 값으로)\n",
        "# one_hot_label : 레이블을 원-핫 인코딩 형태로 저장\n",
        "(x_train, t_train), (x_test, t_test) = load_mnist(flatten=True,\n",
        "                                                  normalize=False)\n",
        "\n",
        "# 각 데이터의 형상 출력\n",
        "print(x_train.shape)  # (60000, 784)\n",
        "print(t_train.shape)  # (60000,)\n",
        "print(x_test.shape)  # (10000, 784)\n",
        "print(t_test.shape)  # (10000,)\n"
      ]
    },
    {
      "cell_type": "markdown",
      "id": "e4b420df-f97c-4dc1-859c-c5384a584cea",
      "metadata": {
        "id": "e4b420df-f97c-4dc1-859c-c5384a584cea"
      },
      "source": [
        "## 7.정리"
      ]
    },
    {
      "cell_type": "markdown",
      "id": "0dd0a847-cce3-478c-a0c6-ec73e9ea4242",
      "metadata": {
        "id": "0dd0a847-cce3-478c-a0c6-ec73e9ea4242"
      },
      "source": [
        "지금까지 신경망의 순전파 (순방향의 전파)를 살펴보았습니다.\n",
        "- 각 층의 뉴런이 다음 층의 뉴런으로 신호를 전달 하는 면에서 퍼셉트론과 동일\n",
        "- 다음 뉴런으로 갈 때 신호를 발생시키는 활성화 함수 차이\n",
        "    - 퍼셉트론 : 계단함수를 활성화 함수로 사용\n",
        "    - 신경망 : 시그모이드, relu 등 사용"
      ]
    }
  ],
  "metadata": {
    "kernelspec": {
      "display_name": "Python 3 (ipykernel)",
      "language": "python",
      "name": "python3"
    },
    "language_info": {
      "codemirror_mode": {
        "name": "ipython",
        "version": 3
      },
      "file_extension": ".py",
      "mimetype": "text/x-python",
      "name": "python",
      "nbconvert_exporter": "python",
      "pygments_lexer": "ipython3",
      "version": "3.7.10"
    },
    "colab": {
      "provenance": [],
      "include_colab_link": true
    }
  },
  "nbformat": 4,
  "nbformat_minor": 5
}