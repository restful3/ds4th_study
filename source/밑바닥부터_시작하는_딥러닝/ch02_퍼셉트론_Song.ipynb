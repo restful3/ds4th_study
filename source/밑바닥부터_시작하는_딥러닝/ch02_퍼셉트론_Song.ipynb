{
 "cells": [
  {
   "cell_type": "markdown",
   "id": "a3a9e6bd",
   "metadata": {},
   "source": [
    "# 퍼셉트론이란?\n",
    "- **퍼셉트론** *perceptron*은 1957년에 프랑크 로젠블라트가 고안한 신경망의 기원이 되는 알고리즘이다. \n",
    "- (단순) 퍼셉트론은 다수의 신호를 입력으로 받아 하나의 신호를 출력한다.\n",
    "\n",
    "<img src='./images/fig 2-1.png' width=300>\n",
    "\n",
    "- $x_{1}$과 $x_{2}$는 입력 신호, $y$는 출력 신호 $w_{1}$, $w_{2}$는 가중치를 말한다. \n",
    "- 입력 신호에 고유한 **가중치**가 곱해 총합이 한계를 넘어서면 1을 출력한다. \n",
    "- 그 한계를 **임계값**이라 하며, $\\theta$(세타)로 나타낸다. \n",
    "- 이를 수식으로 나타내면 아래와 같다.\n",
    "\n",
    "<img src='./images/e 2.1.png' width=300>\n",
    "\n",
    "- 퍼셉트론은 복수의 입력 신호 각각에 고유한 가중치를 부여한다. \n",
    "- 가중치는 각 신호가 결과에 주는 영향력을 조절하는 요소로 작용한다. \n",
    "- 즉, 가중치가 클수록 해당 신호가 그만큼 더 중요함을 뜻한다."
   ]
  },
  {
   "cell_type": "markdown",
   "id": "c6d84323",
   "metadata": {},
   "source": [
    "# 단순한 논리 회로"
   ]
  },
  {
   "cell_type": "markdown",
   "id": "e6ee8eed",
   "metadata": {},
   "source": [
    "## AND 게이트\n",
    "\n",
    "- AND 게이트는 입력이 둘, 출력이 하나\n",
    "- 입력이 모두 1일 때만 출력이 1\n",
    "- 다음은 AND 게이트의 진리표\n",
    "\n",
    "<img src='./images/fig 2-2.png' width=300>\n",
    "\n",
    "- 퍼셉트론으로는 $<w_1, w_2, \\theta>$ 가 (0.5, 0.5, 0.8) 이거나, (1.0, 1.0, 1.0)"
   ]
  },
  {
   "cell_type": "markdown",
   "id": "8a65ec1b",
   "metadata": {},
   "source": [
    "## NAND 게이트와 OR 게이트\n",
    "\n",
    "- NAND는 Not AND\n",
    "- AND 게이트의 출력을 뒤집은 것\n",
    "- 입력이 모두 1일때 출력이 0\n",
    "- NAND 게이트의 진리표\n",
    "<img src='./images/fig 2-3.png' width=300>\n",
    "- 퍼셉트론으로는 $<w_1, w_2, \\theta>$ 가 (-0.5, -0.5, -0.7) \n",
    "\n",
    "- OR 게이트의 진리표\n",
    "- 입력이 하나 이상 1이면 출력이 1\n",
    "<img src='./images/fig 2-4.png' width=300>\n",
    "- 퍼셉트론으로는 $<w_1, w_2, \\theta>$ 가 (1.0, 1.0, 0.5)\n",
    "\n",
    "- 퍼셉트론으로 AND, NAND, OR 구현 가능\n",
    "- 사람이 가중치와 $\\theta$ 구해줘야\n",
    "- 기계학습은 데이터를 기반으로 가중치와 $\\theta$를 스스로 찾아내는 것을 학습 이라고 함"
   ]
  },
  {
   "cell_type": "markdown",
   "id": "43c6c66d",
   "metadata": {},
   "source": [
    "# 퍼셉트론 구현하기\n",
    "\n",
    "## 간단한 구현부터"
   ]
  },
  {
   "cell_type": "code",
   "execution_count": 1,
   "id": "91f13dea",
   "metadata": {},
   "outputs": [],
   "source": [
    "def AND(x1, x2):\n",
    "    w1, w2, theta = 0.5, 0.5, 0.7\n",
    "    tmp = x1 * w1 + x2 * w2\n",
    "    if tmp <= theta:\n",
    "        return 0\n",
    "    elif tmp > theta:\n",
    "        return 1"
   ]
  },
  {
   "cell_type": "code",
   "execution_count": 2,
   "id": "adc7d250",
   "metadata": {},
   "outputs": [
    {
     "name": "stdout",
     "output_type": "stream",
     "text": [
      "0\n",
      "0\n",
      "0\n",
      "1\n"
     ]
    }
   ],
   "source": [
    "print(AND(0, 0))\n",
    "print(AND(1, 0))\n",
    "print(AND(0, 1))\n",
    "print(AND(1, 1))"
   ]
  },
  {
   "cell_type": "markdown",
   "id": "6b3631c4",
   "metadata": {},
   "source": [
    "## 가중치와 편향 도입\n",
    "- $\\theta$를 $-b$로 치환\n",
    "\n",
    "<img src='./images/e 2.2.png' width=300>\n",
    "\n",
    "- 입력 신호에 가중치를 곱하고 $b$를 편향(bias)을 더한 값이 0을 넘으면 1출력"
   ]
  },
  {
   "cell_type": "code",
   "execution_count": 12,
   "id": "31063e60",
   "metadata": {},
   "outputs": [
    {
     "data": {
      "text/plain": [
       "-0.19999999999999996"
      ]
     },
     "execution_count": 12,
     "metadata": {},
     "output_type": "execute_result"
    }
   ],
   "source": [
    "import numpy as np\n",
    "\n",
    "x = np.array([0, 1])  # 입력\n",
    "w = np.array([0.5, 0.5])  # 가중치\n",
    "b = -0.7  # 편향\n",
    "\n",
    "np.sum(w*x) + b"
   ]
  },
  {
   "cell_type": "markdown",
   "id": "66778b85",
   "metadata": {},
   "source": [
    "## 가중치화 편향 구현하기\n",
    "- $w$ 가중치 : 각 입력 신호가 결과에 주는 영향력(중요도)를 조절\n",
    "- $b$ 편향 : 뉴런이 얼마나 쉽게 활성화(결과로 1을 출력)하느냐를 조정하는 매개면수"
   ]
  },
  {
   "cell_type": "code",
   "execution_count": 5,
   "id": "4bebbebb",
   "metadata": {},
   "outputs": [],
   "source": [
    "import numpy as np \n",
    "\n",
    "def AND(x1, x2):\n",
    "    x = np.array([x1, x2])\n",
    "    w = np.array([0.5, 0.5])\n",
    "    b = -0.7\n",
    "    tmp = np.sum(w * x) + b\n",
    "    if tmp <= 0:\n",
    "        return 0\n",
    "    else:\n",
    "        return 1"
   ]
  },
  {
   "cell_type": "code",
   "execution_count": 6,
   "id": "a11a1772",
   "metadata": {},
   "outputs": [
    {
     "name": "stdout",
     "output_type": "stream",
     "text": [
      "0\n",
      "0\n",
      "0\n",
      "1\n"
     ]
    }
   ],
   "source": [
    "print(AND(0, 0))\n",
    "print(AND(1, 0))\n",
    "print(AND(0, 1))\n",
    "print(AND(1, 1))"
   ]
  },
  {
   "cell_type": "code",
   "execution_count": 8,
   "id": "9ff149fc",
   "metadata": {},
   "outputs": [],
   "source": [
    "def NAND(x1, x2):\n",
    "    x = np.array([x1, x2])\n",
    "    w = np.array([-0.5, -0.5])  # AND와는 가중치(w, b)만 다르다\n",
    "    b = 0.7\n",
    "    tmp = np.sum(w * x) + b\n",
    "    if tmp <= 0:\n",
    "        return 0\n",
    "    else:\n",
    "        return 1"
   ]
  },
  {
   "cell_type": "code",
   "execution_count": 9,
   "id": "7781f672",
   "metadata": {},
   "outputs": [
    {
     "name": "stdout",
     "output_type": "stream",
     "text": [
      "1\n",
      "1\n",
      "1\n",
      "0\n"
     ]
    }
   ],
   "source": [
    "print(NAND(0, 0))\n",
    "print(NAND(1, 0))\n",
    "print(NAND(0, 1))\n",
    "print(NAND(1, 1))"
   ]
  },
  {
   "cell_type": "code",
   "execution_count": 10,
   "id": "235e8ddd",
   "metadata": {},
   "outputs": [],
   "source": [
    "def OR(x1, x2):\n",
    "    x = np.array([x1, x2])\n",
    "    w = np.array([0.5, 0.5])  # AND와는 가중치(w, b)만 다르다\n",
    "    b = -0.2\n",
    "    tmp = np.sum(w * x) + b\n",
    "    if tmp <= 0:\n",
    "        return 0\n",
    "    else:\n",
    "        return 1"
   ]
  },
  {
   "cell_type": "code",
   "execution_count": 11,
   "id": "b3fac67b",
   "metadata": {},
   "outputs": [
    {
     "name": "stdout",
     "output_type": "stream",
     "text": [
      "0\n",
      "1\n",
      "1\n",
      "1\n"
     ]
    }
   ],
   "source": [
    "print(OR(0, 0))\n",
    "print(OR(1, 0))\n",
    "print(OR(0, 1))\n",
    "print(OR(1, 1))"
   ]
  },
  {
   "cell_type": "markdown",
   "id": "ff8a37f0",
   "metadata": {},
   "source": [
    "# 퍼셉트론의 한계"
   ]
  },
  {
   "cell_type": "markdown",
   "id": "6c8a9f93",
   "metadata": {},
   "source": [
    "## 도전! XOR 게이트\n",
    "- XOR게이트는 배타적 논리합\n",
    "\n",
    "<img src='./images/fig 2-5.png' width=300>\n",
    "\n",
    "- XOR게이트는 단층(선형) 퍼셉트론으로는 구현 불가능하다.\n",
    "- OR 게이트는  $<b, w_1, w_2>$ 가 (-0.5, 1.0, 1.0) 일때 다음 식과 영역 만족\n",
    "\n",
    "<img src='./images/e 2.3.png' width=300>\n",
    "\n",
    "\n",
    "<img src='./images/fig 2-6.png' width=300>\n",
    "\n",
    "- 단층 퍼셉트론으로는 비선형 영역을 분리할 수 없다.\n",
    "- 하나의 직선으로 아래 세모와 동그라미를 구분 할 수 없다.\n",
    "\n",
    "<img src='./images/fig 2-7.png' width=300>"
   ]
  },
  {
   "cell_type": "markdown",
   "id": "f993730b",
   "metadata": {},
   "source": [
    "## 선형과 비선형\n",
    "\n",
    "- 퍼셉트론은 직선 하나로 나눈 영역만 표시 가능\n",
    "- 다음의 곡선 영역을 **비선형** 영역, 직선 영역을 **선형** 영역\n",
    "\n",
    "<img src='./images/fig 2-8.png' width=300>"
   ]
  },
  {
   "cell_type": "markdown",
   "id": "c18bd94e",
   "metadata": {},
   "source": [
    "# 다중 퍼셉트론이 출동한다면"
   ]
  },
  {
   "cell_type": "markdown",
   "id": "3025920e",
   "metadata": {},
   "source": [
    "## 기존 게이트 조합하기\n",
    "\n",
    "- AND, NAND, OR 게이트 기호\n",
    "<img src='./images/fig 2-9.png' width=300>\n",
    "\n",
    "- XOR 게이트 만들기\n",
    "<img src='./images/fig 2-10.png' width=300>\n",
    "\n",
    "- XOR 게이트\n",
    "<img src='./images/fig 2-11.png' width=300>\n",
    "\n",
    "- XOR 게이트 진리표\n",
    "<img src='./images/fig 2-12.png' width=300>"
   ]
  },
  {
   "cell_type": "markdown",
   "id": "37dc4e7b",
   "metadata": {},
   "source": [
    "## XOR 게이트 구현하기"
   ]
  },
  {
   "cell_type": "code",
   "execution_count": 12,
   "id": "b9d5d1c1",
   "metadata": {},
   "outputs": [],
   "source": [
    "def XOR(x1, x2):\n",
    "    s1 = NAND(x1, x2)\n",
    "    s2 = OR(x1, x2)\n",
    "    y = AND(s1, s2)\n",
    "    return y"
   ]
  },
  {
   "cell_type": "code",
   "execution_count": 13,
   "id": "31bb0694",
   "metadata": {},
   "outputs": [
    {
     "name": "stdout",
     "output_type": "stream",
     "text": [
      "0\n",
      "1\n",
      "1\n",
      "0\n"
     ]
    }
   ],
   "source": [
    "print(XOR(0, 0))  # 0\n",
    "print(XOR(0, 1))  # 1\n",
    "print(XOR(1, 0))  # 1\n",
    "print(XOR(1, 1))  # 0"
   ]
  },
  {
   "cell_type": "markdown",
   "id": "b3b66887",
   "metadata": {},
   "source": [
    "<img src='./images/fig 2-13.png' width=300>\n",
    "\n",
    "- XOR은 2층 퍼셉트론이다. (MLP)\n",
    "- 단층 퍼셉트론으로 표현이 안되는 것이 층을 늘려 가능해 졌다."
   ]
  },
  {
   "cell_type": "markdown",
   "id": "5dcfcef5",
   "metadata": {},
   "source": [
    "# NAND 에서 컴퓨터까지\n",
    "- 더 복잡한 회로도 다층 퍼셉트론을 통해 구현 가능\n",
    "- '이론상 2층 퍼셉트론이면 컴퓨터를 만들 수 있다'\n",
    "- 비선형인 시그모이드 함수를 활성함수로 이용하면 임의의 함수를 표현 할 수 있다."
   ]
  },
  {
   "cell_type": "markdown",
   "id": "e3d431c0",
   "metadata": {},
   "source": [
    "# 정리\n",
    "- 퍼셉트론은 입력을 갖춘 알고리즘\n",
    "- 입력을 주면 정해진 규칙에 따른 값 출력\n",
    "- 퍼셉트론은 '가중치'와 '편향'을 매개 변수로 가짐\n",
    "- 퍼셉트론으로 AND, OR 게이트 만들수 있음\n",
    "- XOR 게이트는 퍼셉트론으론 불가능\n",
    "    - 2층 퍼셉트론 필요\n",
    "- 다층 퍼셉트론은 단층 퍼셉트론이 표현 할 수 없는 비선형 영역 표현 가능\n",
    "- 다층 퍼셉트론으로 이론상 컴퓨터도 만들 수 있다."
   ]
  }
 ],
 "metadata": {
  "kernelspec": {
   "display_name": "Python 3 (ipykernel)",
   "language": "python",
   "name": "python3"
  },
  "language_info": {
   "codemirror_mode": {
    "name": "ipython",
    "version": 3
   },
   "file_extension": ".py",
   "mimetype": "text/x-python",
   "name": "python",
   "nbconvert_exporter": "python",
   "pygments_lexer": "ipython3",
   "version": "3.10.9"
  },
  "toc": {
   "base_numbering": 1,
   "nav_menu": {},
   "number_sections": true,
   "sideBar": true,
   "skip_h1_title": false,
   "title_cell": "Table of Contents",
   "title_sidebar": "Contents",
   "toc_cell": false,
   "toc_position": {},
   "toc_section_display": true,
   "toc_window_display": false
  }
 },
 "nbformat": 4,
 "nbformat_minor": 5
}
