{
 "cells": [
  {
   "cell_type": "markdown",
   "id": "854f02ad",
   "metadata": {},
   "source": [
    "# 퍼셉트론에서 신경망으로\n",
    "- 장점 : 퍼셉트론으로 복잡한 함수도 구현 가능\n",
    "- 단점 : 가중치를 설정 하는 작업을 여전히 사람이 해줘야 함\n",
    "- 신경망은 위 단점을 해결 \n",
    "- 신경망의 학습 --> 가중치 찾기"
   ]
  },
  {
   "cell_type": "markdown",
   "id": "f2f66812",
   "metadata": {},
   "source": [
    "## 신경망의 예"
   ]
  },
  {
   "cell_type": "markdown",
   "id": "43331457",
   "metadata": {},
   "source": [
    "<img src='./images/fig 3-1.png' width=300>\n",
    "\n",
    "- 입력층 : 가장 왼쪽 줄 (0층)\n",
    "- 은닉층 : 중간 줄, 사람 눈에는 보이지 않음 (1층)\n",
    "- 출력층 : 맨 오른쪽 줄 (2층)\n",
    "- 위 예시는, 2층 신경망, 입력층은 가중치를 가지지 않기 때문"
   ]
  },
  {
   "cell_type": "markdown",
   "id": "2a944542",
   "metadata": {},
   "source": [
    "## 퍼셉트론 복습"
   ]
  },
  {
   "cell_type": "markdown",
   "id": "c7737679",
   "metadata": {},
   "source": [
    "<img src='./images/fig 3-2.png' width=200>\n",
    "\n",
    "- $x_1$과 $x_2$ 라는 두 신호를 받아 $y$ 출력 하는 퍼셉트론\n",
    "\n",
    "<img src='./images/e 3.1.png' width=300>\n",
    "\n",
    "- $b$는 편향, 뉴런이 얼마나 쉽게 활성화 되는가\n",
    "- $w_1$과 $w_2$는 가중치, 각 신호의 영향력 제어\n",
    "\n",
    "<img src='./images/fig 3-3.png' width=200>\n",
    "\n",
    "- 편향을 추가한 퍼셉트론 도식\n",
    "\n",
    "<img src='./images/e 3.2.png' width=200>\n",
    "\n",
    "<img src='./images/e 3.3.png' width=200>\n",
    "\n",
    "- 입력 신호의 총합은 $h(x)$ 라는 함수를 거쳐 변환\n",
    "- $h(x)$는 입력이 0을 넘으면 1, 그렇지 않으면 0 출력"
   ]
  },
  {
   "cell_type": "markdown",
   "id": "9df16aee",
   "metadata": {},
   "source": [
    "## 활성화 함수의 등장"
   ]
  },
  {
   "cell_type": "markdown",
   "id": "c8245619",
   "metadata": {},
   "source": [
    "- 활성화 함수 : $h(x)$와 같이 입력 신호의 총합을 출력 신호로 변환하는 함수\n",
    "- 다음 2단계로 처리\n",
    "<img src='./images/e 3.4.png' width=200>\n",
    "\n",
    "<img src='./images/e 3.5.png' width=100>\n",
    "\n",
    "- 기존 뉴런의 원 안에 활성함수 처리 과정 명시\n",
    "- 신호 처리 결과가 $a$ 라는 노드\n",
    "- 활성 함수 $h()$ 통과 하여 $y$ 노드로 변환\n",
    "\n",
    "<img src='./images/fig 3-4.png' width=200>\n",
    "\n",
    "- 왼쪽은 일반적인 뉴런, 오른쪽은 활성화 처리 과정을 명시한 뉴런\n",
    "\n",
    "<img src='./images/fig 3-5.png' width=550>"
   ]
  },
  {
   "cell_type": "markdown",
   "id": "58d58aba",
   "metadata": {},
   "source": [
    "# 활성화 함수\n",
    "- 활성화 함수는 임계값을 경계로 출력이 바뀌는데, 이런 함수를 *계단 함수(step function)* 이라 함\n",
    "- 퍼셉트론에서는 활성화 함수로 계단 함수 사용 가능"
   ]
  },
  {
   "cell_type": "markdown",
   "id": "76a603f5",
   "metadata": {},
   "source": [
    "## 시그모이드 함수\n",
    "\n",
    "<img src='./images/e 3.6.png' width=200>\n",
    "\n",
    "- $exp(-x)$는 $e^{-x}$\n",
    "- $e$는 자연상수, 2.7182..."
   ]
  },
  {
   "cell_type": "markdown",
   "id": "dd77b76d",
   "metadata": {},
   "source": [
    "## 계단 함수 구현하기"
   ]
  },
  {
   "cell_type": "code",
   "execution_count": 2,
   "id": "8cd71289",
   "metadata": {},
   "outputs": [],
   "source": [
    "def step_function(x):\n",
    "    if x>0:\n",
    "        return 1\n",
    "    else:\n",
    "        return 0"
   ]
  },
  {
   "cell_type": "markdown",
   "id": "c0822ae4",
   "metadata": {},
   "source": [
    "- 위 코드는 실수(부동소수점)만 입력 가능\n",
    "- numpy array를 받기 위해 아래와 같이 수정"
   ]
  },
  {
   "cell_type": "code",
   "execution_count": 3,
   "id": "2fe3172a",
   "metadata": {},
   "outputs": [],
   "source": [
    "def step_function(x):\n",
    "    y = x > 0\n",
    "    return y.astype(int)"
   ]
  },
  {
   "cell_type": "markdown",
   "id": "a0b7f28f",
   "metadata": {},
   "source": [
    "- 배열의 각 원소 각각에 부등호 연산을 수행한 bool 배열 생성"
   ]
  },
  {
   "cell_type": "code",
   "execution_count": 4,
   "id": "a3d5c869",
   "metadata": {},
   "outputs": [
    {
     "data": {
      "text/plain": [
       "array([-0.01702498, -0.03275058,  2.54223269, -1.04968043,  1.19033236,\n",
       "        1.85960533,  1.96913294,  0.71958521, -0.04775415, -0.50018774])"
      ]
     },
     "execution_count": 4,
     "metadata": {},
     "output_type": "execute_result"
    }
   ],
   "source": [
    "import numpy as np\n",
    "\n",
    "nums = np.random.normal(size=10)\n",
    "nums"
   ]
  },
  {
   "cell_type": "code",
   "execution_count": 24,
   "id": "3eeeabf4",
   "metadata": {},
   "outputs": [
    {
     "data": {
      "text/plain": [
       "array([0, 0, 1, 1, 1, 1, 1, 1, 1, 0])"
      ]
     },
     "execution_count": 24,
     "metadata": {},
     "output_type": "execute_result"
    }
   ],
   "source": [
    "step_function(nums)"
   ]
  },
  {
   "cell_type": "markdown",
   "id": "4fe06618",
   "metadata": {},
   "source": [
    "## 계단 함수의 그래프"
   ]
  },
  {
   "cell_type": "code",
   "execution_count": 25,
   "id": "95cfdb22",
   "metadata": {},
   "outputs": [
    {
     "data": {
      "image/png": "[encoded data removed]",
      "text/plain": [
       "<Figure size 640x480 with 1 Axes>"
      ]
     },
     "metadata": {},
     "output_type": "display_data"
    }
   ],
   "source": [
    "import numpy as np\n",
    "import matplotlib.pyplot as plt\n",
    "\n",
    "def step_function(x):\n",
    "    y = x>0\n",
    "    return y.astype(int)\n",
    "\n",
    "x = np.arange(-5.0, 5.0, 0.1)\n",
    "y = step_function(x)\n",
    "\n",
    "plt.plot(x, y)\n",
    "plt.ylim(-0.1, 1.1)\n",
    "plt.show()"
   ]
  },
  {
   "cell_type": "markdown",
   "id": "833261b3",
   "metadata": {},
   "source": [
    "## 시그모이드 함수 구현하기"
   ]
  },
  {
   "cell_type": "code",
   "execution_count": 26,
   "id": "8899c694",
   "metadata": {},
   "outputs": [],
   "source": [
    "def sigmoid(x):\n",
    "    return 1/(1+np.exp(-x))"
   ]
  },
  {
   "cell_type": "code",
   "execution_count": 27,
   "id": "4ad80add",
   "metadata": {},
   "outputs": [
    {
     "data": {
      "text/plain": [
       "array([0.26894142, 0.73105858, 0.88079708])"
      ]
     },
     "execution_count": 27,
     "metadata": {},
     "output_type": "execute_result"
    }
   ],
   "source": [
    "x = np.array([-1.0, 1.0, 2.0])\n",
    "sigmoid(x)"
   ]
  },
  {
   "cell_type": "code",
   "execution_count": 29,
   "id": "995f2bcb",
   "metadata": {},
   "outputs": [
    {
     "data": {
      "image/png": "[encoded data removed]",
      "text/plain": [
       "<Figure size 640x480 with 1 Axes>"
      ]
     },
     "metadata": {},
     "output_type": "display_data"
    }
   ],
   "source": [
    "x = np.arange(-5.0, 5.0, 0.1)\n",
    "y = sigmoid(x)\n",
    "\n",
    "plt.plot(x, y)\n",
    "plt.ylim(-0.1, 1.1)\n",
    "plt.show()"
   ]
  },
  {
   "cell_type": "markdown",
   "id": "f15745ae",
   "metadata": {},
   "source": [
    "## 시그모이드 함수와 계단 함수 비교"
   ]
  },
  {
   "cell_type": "code",
   "execution_count": 30,
   "id": "4c5fdc08",
   "metadata": {},
   "outputs": [
    {
     "data": {
      "image/png": "[encoded data removed]",
      "text/plain": [
       "<Figure size 640x480 with 1 Axes>"
      ]
     },
     "metadata": {},
     "output_type": "display_data"
    }
   ],
   "source": [
    "x = np.arange(-5.0, 5.0, 0.1)\n",
    "y1 = step_function(x)\n",
    "y2 = sigmoid(x)\n",
    "\n",
    "plt.plot(x, y1)\n",
    "plt.plot(x, y2)\n",
    "plt.ylim(-0.1, 1.1)\n",
    "plt.show()"
   ]
  },
  {
   "cell_type": "markdown",
   "id": "971be069",
   "metadata": {},
   "source": [
    "- 시그모이드는 미분 가능\n",
    "- 둘다 0과 1 사이\n",
    "- 입력이 크면 출력도 큰 값\n",
    "- 둘다 비선형"
   ]
  },
  {
   "cell_type": "markdown",
   "id": "29b0c64c",
   "metadata": {},
   "source": [
    "## 비선형 함수"
   ]
  },
  {
   "cell_type": "markdown",
   "id": "0f92a4fd",
   "metadata": {},
   "source": [
    "- 선형\n",
    "    - $f(x) = ax+b$\n",
    "    - 직선으로 표현\n",
    "    \n",
    "- 신경망은 비선형을 사용해야 함\n",
    "- 선형을 사용하면 아무리 깊계 해도 '은닉층이 없는 네트워크'와 동일\n",
    "    - $h(x) = cx$ 를 사용한 3층 네트워크 \n",
    "    - $y(x) = h(h(h(x)))$ \n",
    "    - $y(x) = c*c*c*x$ 처럼 곱셈을 세번 한 것\n",
    "    - $a = c^3$과 동일\n",
    "- 즉 은닉층이 없는 네트워크"
   ]
  },
  {
   "cell_type": "markdown",
   "id": "68400a34",
   "metadata": {},
   "source": [
    "## ReLU  함수"
   ]
  },
  {
   "cell_type": "markdown",
   "id": "df44bb40",
   "metadata": {},
   "source": [
    "<img src='./images/e 3.7.png' width=200>\n",
    "- 입력이 0이 넘으면 그 입력 그대로, 0 이하면 0을 출력 하는 함수\n",
    "- 오래전 부터 사용된 시그모이드 대신으로 주로 사용"
   ]
  },
  {
   "cell_type": "code",
   "execution_count": 34,
   "id": "ec39ecc4",
   "metadata": {},
   "outputs": [],
   "source": [
    "def relu(x):\n",
    "    return np.maximum(0, x)"
   ]
  },
  {
   "cell_type": "code",
   "execution_count": 36,
   "id": "019f6e87",
   "metadata": {},
   "outputs": [
    {
     "data": {
      "image/png": "[encoded data removed]",
      "text/plain": [
       "<Figure size 640x480 with 1 Axes>"
      ]
     },
     "metadata": {},
     "output_type": "display_data"
    }
   ],
   "source": [
    "x = np.arange(-6.0, 6.0, 0.1)\n",
    "y = relu(x)\n",
    "\n",
    "plt.plot(x, y)\n",
    "plt.show()"
   ]
  },
  {
   "cell_type": "markdown",
   "id": "7ad37e6c",
   "metadata": {},
   "source": [
    "# 다차원 배열의 계산"
   ]
  },
  {
   "cell_type": "markdown",
   "id": "36844482",
   "metadata": {},
   "source": [
    "## 다차원 배열\n",
    "- 다차원 배열도 그 기본은 '숫자의 집합'"
   ]
  },
  {
   "cell_type": "code",
   "execution_count": 37,
   "id": "7abbf5bc",
   "metadata": {},
   "outputs": [
    {
     "name": "stdout",
     "output_type": "stream",
     "text": [
      "[1 2 3 4]\n"
     ]
    }
   ],
   "source": [
    "import numpy as np\n",
    "A = np.array([1, 2, 3, 4])\n",
    "print(A)"
   ]
  },
  {
   "cell_type": "code",
   "execution_count": 38,
   "id": "189c8756",
   "metadata": {},
   "outputs": [
    {
     "data": {
      "text/plain": [
       "1"
      ]
     },
     "execution_count": 38,
     "metadata": {},
     "output_type": "execute_result"
    }
   ],
   "source": [
    "np.ndim(A)"
   ]
  },
  {
   "cell_type": "code",
   "execution_count": 39,
   "id": "5d88220d",
   "metadata": {},
   "outputs": [
    {
     "data": {
      "text/plain": [
       "(4,)"
      ]
     },
     "execution_count": 39,
     "metadata": {},
     "output_type": "execute_result"
    }
   ],
   "source": [
    "A.shape"
   ]
  },
  {
   "cell_type": "code",
   "execution_count": 40,
   "id": "ae4932ea",
   "metadata": {},
   "outputs": [
    {
     "data": {
      "text/plain": [
       "4"
      ]
     },
     "execution_count": 40,
     "metadata": {},
     "output_type": "execute_result"
    }
   ],
   "source": [
    "A.shape[0]"
   ]
  },
  {
   "cell_type": "markdown",
   "id": "be44730d",
   "metadata": {},
   "source": [
    "- 차원수는 np.ndim() 으로 확인\n",
    "- 형상은 shape 변수 사용 (튜플 형태임)"
   ]
  },
  {
   "cell_type": "markdown",
   "id": "87bcdd6d",
   "metadata": {},
   "source": [
    "- 3x2 배열\n",
    "- 2차원, 행렬 "
   ]
  },
  {
   "cell_type": "code",
   "execution_count": 41,
   "id": "a1d51a48",
   "metadata": {},
   "outputs": [
    {
     "name": "stdout",
     "output_type": "stream",
     "text": [
      "[[1 2]\n",
      " [3 4]\n",
      " [5 6]]\n"
     ]
    }
   ],
   "source": [
    "B = np.array([[1, 2], [3, 4], [5, 6]])\n",
    "print(B)"
   ]
  },
  {
   "cell_type": "code",
   "execution_count": 42,
   "id": "53f3ec64",
   "metadata": {},
   "outputs": [
    {
     "data": {
      "text/plain": [
       "2"
      ]
     },
     "execution_count": 42,
     "metadata": {},
     "output_type": "execute_result"
    }
   ],
   "source": [
    "np.ndim(B)"
   ]
  },
  {
   "cell_type": "code",
   "execution_count": 43,
   "id": "b91d6b52",
   "metadata": {},
   "outputs": [
    {
     "data": {
      "text/plain": [
       "(3, 2)"
      ]
     },
     "execution_count": 43,
     "metadata": {},
     "output_type": "execute_result"
    }
   ],
   "source": [
    "B.shape"
   ]
  },
  {
   "cell_type": "markdown",
   "id": "8074b892",
   "metadata": {},
   "source": [
    "<img src='./images/fig 3-10.png' width=200>"
   ]
  },
  {
   "cell_type": "markdown",
   "id": "d21e7346",
   "metadata": {},
   "source": [
    "## 행렬의 곱"
   ]
  },
  {
   "cell_type": "markdown",
   "id": "ee7a5151",
   "metadata": {},
   "source": [
    "<img src='./images/fig 3-11.png' width=500>"
   ]
  },
  {
   "cell_type": "code",
   "execution_count": 44,
   "id": "bd6b6162",
   "metadata": {},
   "outputs": [],
   "source": [
    "A = np.array([[1, 2], [3, 4]])\n",
    "B = np.array([[5, 6], [7, 8]])"
   ]
  },
  {
   "cell_type": "code",
   "execution_count": 45,
   "id": "70a7895b",
   "metadata": {},
   "outputs": [
    {
     "data": {
      "text/plain": [
       "array([[19, 22],\n",
       "       [43, 50]])"
      ]
     },
     "execution_count": 45,
     "metadata": {},
     "output_type": "execute_result"
    }
   ],
   "source": [
    "np.dot(A, B)"
   ]
  },
  {
   "cell_type": "markdown",
   "id": "3f826ee0",
   "metadata": {},
   "source": [
    "- np.dot() 함수로 행렬곱 계산\n",
    "- np.dot(A, B)와 np.dot(B, A)는 다를 수 있다."
   ]
  },
  {
   "cell_type": "markdown",
   "id": "c842d451",
   "metadata": {},
   "source": [
    "- shape에 주의 해야 함"
   ]
  },
  {
   "cell_type": "code",
   "execution_count": 5,
   "id": "3768d3e2",
   "metadata": {},
   "outputs": [],
   "source": [
    "A = np.array([[1, 2, 3],[4, 5, 6]])\n",
    "B = np.array([[1, 2],[3, 4], [5, 6]])\n",
    "C = np.array([[1, 2,], [3, 4]])"
   ]
  },
  {
   "cell_type": "code",
   "execution_count": 8,
   "id": "7b13bf14",
   "metadata": {},
   "outputs": [
    {
     "data": {
      "text/plain": [
       "((2, 3), (3, 2), (2, 2))"
      ]
     },
     "execution_count": 8,
     "metadata": {},
     "output_type": "execute_result"
    }
   ],
   "source": [
    "A.shape, B.shape, C.shape"
   ]
  },
  {
   "cell_type": "code",
   "execution_count": 9,
   "id": "9ce2ffa4",
   "metadata": {},
   "outputs": [
    {
     "data": {
      "text/plain": [
       "array([[22, 28],\n",
       "       [49, 64]])"
      ]
     },
     "execution_count": 9,
     "metadata": {},
     "output_type": "execute_result"
    }
   ],
   "source": [
    "np.dot(A, B)"
   ]
  },
  {
   "cell_type": "code",
   "execution_count": 6,
   "id": "cb428dd3",
   "metadata": {},
   "outputs": [
    {
     "ename": "ValueError",
     "evalue": "shapes (2,3) and (2,2) not aligned: 3 (dim 1) != 2 (dim 0)",
     "output_type": "error",
     "traceback": [
      "\u001b[0;31m---------------------------------------------------------------------------\u001b[0m",
      "\u001b[0;31mValueError\u001b[0m                                Traceback (most recent call last)",
      "Cell \u001b[0;32mIn[6], line 1\u001b[0m\n\u001b[0;32m----> 1\u001b[0m \u001b[43mnp\u001b[49m\u001b[38;5;241;43m.\u001b[39;49m\u001b[43mdot\u001b[49m\u001b[43m(\u001b[49m\u001b[43mA\u001b[49m\u001b[43m,\u001b[49m\u001b[43m \u001b[49m\u001b[43mC\u001b[49m\u001b[43m)\u001b[49m\n",
      "File \u001b[0;32m<__array_function__ internals>:200\u001b[0m, in \u001b[0;36mdot\u001b[0;34m(*args, **kwargs)\u001b[0m\n",
      "\u001b[0;31mValueError\u001b[0m: shapes (2,3) and (2,2) not aligned: 3 (dim 1) != 2 (dim 0)"
     ]
    }
   ],
   "source": [
    "np.dot(A, C)"
   ]
  },
  {
   "cell_type": "markdown",
   "id": "2102a3c8",
   "metadata": {},
   "source": [
    "- 행렬의 곱에서는 대응하는 차원의 원소수를 매칭 시켜야"
   ]
  },
  {
   "cell_type": "markdown",
   "id": "587049d1",
   "metadata": {},
   "source": [
    "<img src='./images/fig 3-12.png' width=300>"
   ]
  },
  {
   "cell_type": "markdown",
   "id": "8b5df0ec",
   "metadata": {},
   "source": [
    "- A가 2차원 행렬, B가 1차원 배열일 떄도 대응하는 차원의 원소수 일치 시켜야"
   ]
  },
  {
   "cell_type": "code",
   "execution_count": 10,
   "id": "248c1aa9",
   "metadata": {},
   "outputs": [
    {
     "data": {
      "text/plain": [
       "((3, 2), (2,))"
      ]
     },
     "execution_count": 10,
     "metadata": {},
     "output_type": "execute_result"
    }
   ],
   "source": [
    "A = np.array([[1, 2],[3, 4], [5, 6]])\n",
    "B = np.array([7, 8])\n",
    "A.shape, B.shape"
   ]
  },
  {
   "cell_type": "code",
   "execution_count": 11,
   "id": "7c20a455",
   "metadata": {},
   "outputs": [
    {
     "data": {
      "text/plain": [
       "array([23, 53, 83])"
      ]
     },
     "execution_count": 11,
     "metadata": {},
     "output_type": "execute_result"
    }
   ],
   "source": [
    "np.dot(A, B)"
   ]
  },
  {
   "cell_type": "markdown",
   "id": "fa7833df",
   "metadata": {},
   "source": [
    "<img src='./images/fig 3-13.png' width=300>"
   ]
  },
  {
   "cell_type": "markdown",
   "id": "6cebb3bf",
   "metadata": {},
   "source": [
    "## 신경망에서의 행렬 곱"
   ]
  },
  {
   "cell_type": "markdown",
   "id": "1980d8cf",
   "metadata": {},
   "source": [
    "- 행렬의 곱으로 신경망의 계산 수행"
   ]
  },
  {
   "cell_type": "markdown",
   "id": "744fd305",
   "metadata": {},
   "source": [
    "<img src='./images/fig 3-14.png' width=500>"
   ]
  },
  {
   "cell_type": "code",
   "execution_count": 12,
   "id": "4122a6ae",
   "metadata": {},
   "outputs": [
    {
     "data": {
      "text/plain": [
       "(2,)"
      ]
     },
     "execution_count": 12,
     "metadata": {},
     "output_type": "execute_result"
    }
   ],
   "source": [
    "X = np.array([1, 2])\n",
    "X.shape"
   ]
  },
  {
   "cell_type": "code",
   "execution_count": 13,
   "id": "8c58ff3a",
   "metadata": {},
   "outputs": [
    {
     "data": {
      "text/plain": [
       "(2, 3)"
      ]
     },
     "execution_count": 13,
     "metadata": {},
     "output_type": "execute_result"
    }
   ],
   "source": [
    "W = np.array([[1, 3, 5], [2, 4, 6]])\n",
    "W.shape"
   ]
  },
  {
   "cell_type": "code",
   "execution_count": 14,
   "id": "7e6c438d",
   "metadata": {},
   "outputs": [
    {
     "data": {
      "text/plain": [
       "array([ 5, 11, 17])"
      ]
     },
     "execution_count": 14,
     "metadata": {},
     "output_type": "execute_result"
    }
   ],
   "source": [
    "Y = np.dot(X, W)\n",
    "Y"
   ]
  },
  {
   "cell_type": "code",
   "execution_count": 15,
   "id": "7aca00be",
   "metadata": {},
   "outputs": [
    {
     "data": {
      "text/plain": [
       "(3,)"
      ]
     },
     "execution_count": 15,
     "metadata": {},
     "output_type": "execute_result"
    }
   ],
   "source": [
    "Y.shape"
   ]
  },
  {
   "cell_type": "markdown",
   "id": "1296d76e",
   "metadata": {},
   "source": [
    "# 3층 신경망 구현하기"
   ]
  },
  {
   "cell_type": "markdown",
   "id": "8d1a97e4",
   "metadata": {},
   "source": [
    "- 3층 신경망 : 입력층(0층)은 2개, 첫 번째 은닉층(1층)은 3개, 두 번째 은닉층(2층)은 2개, 출력층(3층)은 2개의 뉴런으로 구성"
   ]
  },
  {
   "cell_type": "markdown",
   "id": "0477b4d5",
   "metadata": {},
   "source": [
    "<img src='./images/fig 3-15.png' width=400>"
   ]
  },
  {
   "cell_type": "markdown",
   "id": "6660a7a9",
   "metadata": {},
   "source": [
    "## 표기법 설명"
   ]
  },
  {
   "cell_type": "markdown",
   "id": "0130b8a0",
   "metadata": {},
   "source": [
    "- $w^{(1)}_{12}$, $a^{(1)}_{1}$ 과 같은 표기법\n",
    "\n",
    "- 뉴런 $x_2$에서 다음 층 뉴런 $a^{(1)}_{1}$으로 향하는 선 위의 가중치 표시\n",
    "<img src='./images/fig 3-16.png' width=400>"
   ]
  },
  {
   "cell_type": "markdown",
   "id": "e0859c6e",
   "metadata": {},
   "source": [
    "## 각 층의 신호 전달 구현"
   ]
  },
  {
   "cell_type": "markdown",
   "id": "aa78991c",
   "metadata": {},
   "source": [
    "- 입력층에서 1층으로 신호 전달\n",
    "\n",
    "<img src='./images/fig 3-17.png' width=400>\n",
    "\n",
    "- 편향을 뜻하는 뉴런 ① 이 추가\n",
    "\n",
    "<img src='./images/e 3.8.png' width=300>\n",
    "\n",
    "- $a^{(1)}_{1}$  은 가중치를 곱한 신호 두개와 편향을 합하여 계산\n",
    "\n",
    "<img src='./images/e 3.9.png' width=300>\n",
    "\n",
    "- 행렬 곱을 사용한 가중치 계산 식 간소화\n",
    "\n",
    "<img src='./images/e 3.10_2.png' width=500>"
   ]
  },
  {
   "cell_type": "code",
   "execution_count": 62,
   "id": "7074c579",
   "metadata": {},
   "outputs": [
    {
     "data": {
      "text/plain": [
       "array([0.3, 0.7, 1.1])"
      ]
     },
     "execution_count": 62,
     "metadata": {},
     "output_type": "execute_result"
    }
   ],
   "source": [
    "X = np.array([1.0, 0.5])\n",
    "W1 = np.array([[0.1, 0.3, 0.5], [0.2, 0.4, 0.6]])\n",
    "B1 = np.array([0.1, 0.2, 0.3])\n",
    "\n",
    "A1 = np.dot(X, W1) + B1\n",
    "A1"
   ]
  },
  {
   "cell_type": "markdown",
   "id": "660c44c5",
   "metadata": {},
   "source": [
    "- 입력층에서 1층으로 신호 전달\n",
    "\n",
    "<img src='./images/fig 3-18.png' width=400>\n",
    "\n",
    "- $a$ : 가중치의 합\n",
    "- $h()$ : 활성화 함수\n",
    "- $z$ : $h()$ 로 변환한 신호"
   ]
  },
  {
   "cell_type": "code",
   "execution_count": 63,
   "id": "69c7f865",
   "metadata": {},
   "outputs": [
    {
     "data": {
      "text/plain": [
       "array([0.57444252, 0.66818777, 0.75026011])"
      ]
     },
     "execution_count": 63,
     "metadata": {},
     "output_type": "execute_result"
    }
   ],
   "source": [
    "Z1 = sigmoid(A1)\n",
    "Z1"
   ]
  },
  {
   "cell_type": "markdown",
   "id": "7d050247",
   "metadata": {},
   "source": [
    "- 1층에서 2층으로의 신호 전달\n",
    "\n",
    "<img src='./images/fig 3-19.png' width=400>"
   ]
  },
  {
   "cell_type": "code",
   "execution_count": 64,
   "id": "41cefbf4",
   "metadata": {},
   "outputs": [
    {
     "data": {
      "text/plain": [
       "array([0.62624937, 0.7710107 ])"
      ]
     },
     "execution_count": 64,
     "metadata": {},
     "output_type": "execute_result"
    }
   ],
   "source": [
    "W2 = np.array([[0.1, 0.4], [0.2, 0.5], [0.3, 0.6]])\n",
    "B2 = np.array([0.1, 0.2])\n",
    "\n",
    "A2 = np.dot(Z1, W2) + B2\n",
    "Z2 = sigmoid(A2)\n",
    "Z2"
   ]
  },
  {
   "cell_type": "markdown",
   "id": "2d509a8b",
   "metadata": {},
   "source": [
    "- 2층에서 출력층으로 신호 전달\n",
    "\n",
    "<img src='./images/fig 3-20.png' width=400>"
   ]
  },
  {
   "cell_type": "code",
   "execution_count": 65,
   "id": "9d87f7c2",
   "metadata": {},
   "outputs": [
    {
     "data": {
      "text/plain": [
       "array([0.31682708, 0.69627909])"
      ]
     },
     "execution_count": 65,
     "metadata": {},
     "output_type": "execute_result"
    }
   ],
   "source": [
    "def identity_function(x):\n",
    "    return x\n",
    "\n",
    "W3 = np.array([[0.1, 0.3], [0.2, 0.4]])\n",
    "B3 = np.array([0.1, 0.2])\n",
    "\n",
    "A3 = np.dot(Z2, W3) + B3\n",
    "Y = identity_function(A3)\n",
    "Y"
   ]
  },
  {
   "cell_type": "markdown",
   "id": "ed4e93f4",
   "metadata": {},
   "source": [
    "- 항등 함수 : 출력의 활성화 함수, 입력을 그대로 출력, 기존 구조와 동일하게 하려고 추가"
   ]
  },
  {
   "cell_type": "markdown",
   "id": "320577c3",
   "metadata": {},
   "source": [
    "## 구현 정리"
   ]
  },
  {
   "cell_type": "markdown",
   "id": "70c0b248",
   "metadata": {},
   "source": [
    "- 가중치 초기화"
   ]
  },
  {
   "cell_type": "code",
   "execution_count": 66,
   "id": "9aad9853",
   "metadata": {},
   "outputs": [],
   "source": [
    "def init_network():\n",
    "    network = {}\n",
    "    network['W1'] = np.array([[0.1, 0.3, 0.5], [0.2, 0.4, 0.6]])\n",
    "    network['b1'] = np.array([0.1, 0.2, 0.3])\n",
    "    network['W2'] = np.array([[0.1, 0.4], [0.2, 0.5], [0.3, 0.6]])\n",
    "    network['b2'] = np.array([0.1, 0.2])\n",
    "    network['W3'] = np.array([[0.1, 0.3], [0.2, 0.4]])\n",
    "    network['b3'] = np.array([0.1, 0.2])\n",
    "    return network"
   ]
  },
  {
   "cell_type": "markdown",
   "id": "5293a325",
   "metadata": {},
   "source": [
    "- 입력 신호를 출력으로 변환 하는 과정"
   ]
  },
  {
   "cell_type": "code",
   "execution_count": 67,
   "id": "ab1facf6",
   "metadata": {},
   "outputs": [],
   "source": [
    "def forward(network, x):\n",
    "    W1, W2, W3 = network['W1'], network['W2'], network['W3']\n",
    "    b1, b2, b3 = network['b1'], network['b2'], network['b3']\n",
    "    \n",
    "    a1 = np.dot(x, W1) + b1\n",
    "    z1 = sigmoid(a1)\n",
    "    a2 = np.dot(z1, W2) + b2\n",
    "    z2 = sigmoid(a2)\n",
    "    a3 = np.dot(z2, W3) + b3\n",
    "    y = identity_function(a3)    \n",
    "    \n",
    "    return y"
   ]
  },
  {
   "cell_type": "code",
   "execution_count": 68,
   "id": "a6af197d",
   "metadata": {},
   "outputs": [
    {
     "data": {
      "text/plain": [
       "array([0.31682708, 0.69627909])"
      ]
     },
     "execution_count": 68,
     "metadata": {},
     "output_type": "execute_result"
    }
   ],
   "source": [
    "network = init_network()\n",
    "x = np.array([1.0, 0.5])\n",
    "y = forward(network, x)\n",
    "y"
   ]
  },
  {
   "cell_type": "markdown",
   "id": "d263becf",
   "metadata": {},
   "source": [
    "# 출력층 설계하기\n",
    "- 신경망은 분류와 회귀 모두 사용 가능\n",
    "- 문제에 따라 활성화 함수 선택\n",
    "- 회귀 : 항등함수, 분류 : 소프트맥스"
   ]
  },
  {
   "cell_type": "markdown",
   "id": "b48ae774",
   "metadata": {},
   "source": [
    "## 항등 함수와 소프트맥스 함수 구현하기"
   ]
  },
  {
   "cell_type": "markdown",
   "id": "7ad96455",
   "metadata": {},
   "source": [
    "- 항등 함수 : 입력을 그대로 출력\n",
    "<img src='./images/fig 3-21.png' width=200>\n",
    "\n",
    "- 소프트맥스 함수\n",
    "    - $exp(x)$는 $e^x$을 뜻하는 지수 함수\n",
    "    - $n$은 출력층의 뉴런 수\n",
    "    - $y_k$는 그중 $k$번째 출력\n",
    "<img src='./images/e 3.10.png' width=200>\n",
    "\n",
    "<img src='./images/fig 3-22.png' width=200>"
   ]
  },
  {
   "cell_type": "code",
   "execution_count": 70,
   "id": "7040adac",
   "metadata": {},
   "outputs": [
    {
     "data": {
      "text/plain": [
       "array([0.01821127, 0.24519181, 0.73659691])"
      ]
     },
     "execution_count": 70,
     "metadata": {},
     "output_type": "execute_result"
    }
   ],
   "source": [
    "a = np.array([0.3, 2.9, 4.0])\n",
    "exp_a = np.exp(a)\n",
    "sum_exp_a = np.sum(exp_a)\n",
    "y = exp_a / sum_exp_a\n",
    "y"
   ]
  },
  {
   "cell_type": "code",
   "execution_count": 71,
   "id": "86a75b92",
   "metadata": {},
   "outputs": [],
   "source": [
    "def softmax(a):\n",
    "    exp_a = np.exp(a)\n",
    "    sum_exp_a = np.sum(exp_a)\n",
    "    y = exp_a / sum_exp_a\n",
    "    return y"
   ]
  },
  {
   "cell_type": "markdown",
   "id": "cf7bc70b",
   "metadata": {},
   "source": [
    "## 소프트맥스 함수 구현 시 주의점"
   ]
  },
  {
   "cell_type": "markdown",
   "id": "3fb400d8",
   "metadata": {},
   "source": [
    "- 컴퓨터로 계산시 오버 플로우 발생 가능\n",
    "- 지수 함수는 쉽게 오버 플로우 가능, 불안정 함"
   ]
  },
  {
   "cell_type": "code",
   "execution_count": 17,
   "id": "dddec188",
   "metadata": {},
   "outputs": [
    {
     "name": "stderr",
     "output_type": "stream",
     "text": [
      "/tmp/ipykernel_216400/1785970911.py:2: RuntimeWarning: overflow encountered in exp\n",
      "  np.exp(a)\n"
     ]
    },
    {
     "data": {
      "text/plain": [
       "array([inf, inf, inf])"
      ]
     },
     "execution_count": 17,
     "metadata": {},
     "output_type": "execute_result"
    }
   ],
   "source": [
    "a = np.array([1010, 1000, 990])\n",
    "np.exp(a)"
   ]
  },
  {
   "cell_type": "markdown",
   "id": "9358a366",
   "metadata": {},
   "source": [
    "<img src='./images/e 3.11.png' width=300>\n",
    "\n",
    "- $C$에 매우 작은 음수값을 대입하여, 오버 플로우가 나지 않도록 방지"
   ]
  },
  {
   "cell_type": "code",
   "execution_count": 18,
   "id": "3b8fe9f7",
   "metadata": {},
   "outputs": [
    {
     "data": {
      "text/plain": [
       "array([  0, -10, -20])"
      ]
     },
     "execution_count": 18,
     "metadata": {},
     "output_type": "execute_result"
    }
   ],
   "source": [
    "c = np.max(a)\n",
    "a - c"
   ]
  },
  {
   "cell_type": "code",
   "execution_count": 19,
   "id": "1db880bf",
   "metadata": {},
   "outputs": [
    {
     "data": {
      "text/plain": [
       "array([9.99954600e-01, 4.53978686e-05, 2.06106005e-09])"
      ]
     },
     "execution_count": 19,
     "metadata": {},
     "output_type": "execute_result"
    }
   ],
   "source": [
    "np.exp(a -c)/np.sum(np.exp(a-c))"
   ]
  },
  {
   "cell_type": "code",
   "execution_count": 20,
   "id": "5a450b29",
   "metadata": {},
   "outputs": [],
   "source": [
    "def softmax(a):\n",
    "    c = np.max(a)\n",
    "    exp_a = np.exp(a-c)\n",
    "    sum_exp_a = np.sum(exp_a)\n",
    "    return exp_a / sum_exp_a"
   ]
  },
  {
   "cell_type": "markdown",
   "id": "15bc7a8c",
   "metadata": {},
   "source": [
    "## 소프트맥스 함수의 특징\n",
    "- 출력이 0과 1사이의 실수\n",
    "- 각 원소의 대소 관계는 유지 ($y = exp(x)$가 단조 증가 함수)"
   ]
  },
  {
   "cell_type": "code",
   "execution_count": 78,
   "id": "d1714e2d",
   "metadata": {},
   "outputs": [
    {
     "data": {
      "text/plain": [
       "array([0.01821127, 0.24519181, 0.73659691])"
      ]
     },
     "execution_count": 78,
     "metadata": {},
     "output_type": "execute_result"
    }
   ],
   "source": [
    "a = np.array([0.3, 2.9,4.0])\n",
    "y = softmax(a)\n",
    "y"
   ]
  },
  {
   "cell_type": "markdown",
   "id": "10151d70",
   "metadata": {},
   "source": [
    "- 출력의 합은 1\n",
    "- '확률'로 해석"
   ]
  },
  {
   "cell_type": "code",
   "execution_count": 79,
   "id": "77121d38",
   "metadata": {},
   "outputs": [
    {
     "data": {
      "text/plain": [
       "1.0"
      ]
     },
     "execution_count": 79,
     "metadata": {},
     "output_type": "execute_result"
    }
   ],
   "source": [
    "np.sum(y)"
   ]
  },
  {
   "cell_type": "markdown",
   "id": "743b6442",
   "metadata": {},
   "source": [
    "## 출력층의 뉴런 수 정하기"
   ]
  },
  {
   "cell_type": "markdown",
   "id": "0eb5f5ef",
   "metadata": {},
   "source": [
    "- 출력층의 뉴런은 각 숫자에 대응\n",
    "<img src='./images/fig 3-23.png' width=400>"
   ]
  },
  {
   "cell_type": "markdown",
   "id": "f765c422",
   "metadata": {},
   "source": [
    "# 손글씨 숫자 인식\n",
    "- 학습 과정은 생략, 추론 과정만 구현\n",
    "- 순전파 : 추론 과정"
   ]
  },
  {
   "cell_type": "markdown",
   "id": "e5532688",
   "metadata": {},
   "source": [
    "## MNIST 데이터셋"
   ]
  },
  {
   "cell_type": "markdown",
   "id": "4f1cac9e",
   "metadata": {},
   "source": [
    "- MNIST는 손글씨 숫자 이미지 집합\n",
    "- 0 부터 9 까지의 숫자 이미지\n",
    "- 훈련 6만장, 시험 1만장\n",
    "- 28x28 크기, 1채널\n",
    "- 각 픽셀은 0 부터 255 까지의 값\n",
    "<img src='./images/fig 3-24.png' width=400>"
   ]
  },
  {
   "cell_type": "code",
   "execution_count": 84,
   "id": "254daefb",
   "metadata": {},
   "outputs": [],
   "source": [
    "import sys, os\n",
    "from dataset.mnist import load_mnist"
   ]
  },
  {
   "cell_type": "markdown",
   "id": "a874d63d",
   "metadata": {},
   "source": [
    "- load_mnist 함수 옵션\n",
    "    - normalize : 이미지의 픽셀 값을 0.0~1.0 사이 값으로 정규화 \n",
    "    - flatten : 입력 이미지의 평탄화(1차원 배열) \n",
    "    - one_hot_label : 원 핫 인코딩 적용 여부"
   ]
  },
  {
   "cell_type": "code",
   "execution_count": 85,
   "id": "a3606808",
   "metadata": {},
   "outputs": [],
   "source": [
    "(X_train, y_train), (X_test, y_test) = load_mnist(flatten=True, normalize=False)"
   ]
  },
  {
   "cell_type": "code",
   "execution_count": 87,
   "id": "049ea903",
   "metadata": {},
   "outputs": [
    {
     "data": {
      "text/plain": [
       "((60000, 784), (60000,), (10000, 784), (10000,))"
      ]
     },
     "execution_count": 87,
     "metadata": {},
     "output_type": "execute_result"
    }
   ],
   "source": [
    "X_train.shape, y_train.shape, X_test.shape, y_test.shape"
   ]
  },
  {
   "cell_type": "code",
   "execution_count": 88,
   "id": "2c33f9e2",
   "metadata": {},
   "outputs": [],
   "source": [
    "from PIL import Image"
   ]
  },
  {
   "cell_type": "code",
   "execution_count": 96,
   "id": "8fdb5186",
   "metadata": {},
   "outputs": [],
   "source": [
    "import matplotlib.pyplot as plt\n",
    "\n",
    "def img_show(img):\n",
    "    plt.imshow(np.uint8(img))\n",
    "    plt.show()"
   ]
  },
  {
   "cell_type": "code",
   "execution_count": 97,
   "id": "e168ddcc",
   "metadata": {},
   "outputs": [
    {
     "name": "stdout",
     "output_type": "stream",
     "text": [
      "3\n",
      "(784,)\n",
      "(28, 28)\n"
     ]
    },
    {
     "data": {
      "image/png": "[encoded data removed]",
      "text/plain": [
       "<Figure size 640x480 with 1 Axes>"
      ]
     },
     "metadata": {},
     "output_type": "display_data"
    }
   ],
   "source": [
    "img = X_train[10]\n",
    "label = y_train[10]\n",
    "print(label)\n",
    "print(img.shape)\n",
    "img = img.reshape(28, 28)\n",
    "print(img.shape)\n",
    "img_show(img)"
   ]
  },
  {
   "cell_type": "markdown",
   "id": "49b6bbda",
   "metadata": {},
   "source": [
    "## 신경망의 추론 처리\n",
    "- 입력 뉴런 784개, 출력 뉴런 10개\n",
    "- 은닉층은 두개 (각 50, 100개 뉴런)"
   ]
  },
  {
   "cell_type": "code",
   "execution_count": 104,
   "id": "ef8dfb7d",
   "metadata": {},
   "outputs": [],
   "source": [
    "import pickle\n",
    "\n",
    "def get_data():\n",
    "    (X_train, y_train), (X_test, y_test) = load_mnist(flatten=True, normalize=True, one_hot_label=False)\n",
    "    return X_test, y_test\n",
    "\n",
    "def init_network():\n",
    "    with open(\"./deeplearning_from_scratch-master/ch3.신경망/sample_weight.pkl\", 'rb') as f:\n",
    "        network = pickle.load(f)\n",
    "        return network\n",
    "        \n",
    "def predict(network, x):\n",
    "    W1, W2, W3 = network['W1'], network['W2'], network['W3']\n",
    "    b1, b2, b3 = network['b1'], network['b2'], network['b3']\n",
    "    \n",
    "    a1 = np.dot(x, W1) + b1\n",
    "    z1 = sigmoid(a1)\n",
    "    a2 = np.dot(z1, W2) + b2\n",
    "    z2 = sigmoid(a2)\n",
    "    a3 = np.dot(z2, W3) + b3\n",
    "    y = softmax(a3)   \n",
    "    \n",
    "    return y"
   ]
  },
  {
   "cell_type": "code",
   "execution_count": 105,
   "id": "240feeef",
   "metadata": {},
   "outputs": [],
   "source": [
    "X, y = get_data()\n",
    "network = init_network()\n",
    "\n",
    "acc = 0\n",
    "for i in range(len(X)):\n",
    "    y_i = predict(network, X[i])\n",
    "    p = np.argmax(y_i)\n",
    "    if p == y[i]:\n",
    "        acc += 1        "
   ]
  },
  {
   "cell_type": "code",
   "execution_count": 106,
   "id": "4d717be7",
   "metadata": {},
   "outputs": [
    {
     "data": {
      "text/plain": [
       "0.9352"
      ]
     },
     "execution_count": 106,
     "metadata": {},
     "output_type": "execute_result"
    }
   ],
   "source": [
    "acc/len(X)"
   ]
  },
  {
   "cell_type": "markdown",
   "id": "89f7dfbe",
   "metadata": {},
   "source": [
    "## 배치 처리"
   ]
  },
  {
   "cell_type": "markdown",
   "id": "69dffdef",
   "metadata": {},
   "source": [
    "- 신경망 각 층의 배열 형상 추이\n",
    "<img src='./images/fig 3-26.png' width=500>\n",
    "\n",
    "- 배치 처리를 위한 배열들의 형상 추이\n",
    "<img src='./images/fig 3-27.png' width=500>"
   ]
  },
  {
   "cell_type": "code",
   "execution_count": 107,
   "id": "4ebf9251",
   "metadata": {},
   "outputs": [],
   "source": [
    "x, _ = get_data()\n",
    "network = init_network()\n",
    "W1, W2, W3 = network['W1'], network['W2'], network['W3']"
   ]
  },
  {
   "cell_type": "code",
   "execution_count": 108,
   "id": "c76fb597",
   "metadata": {},
   "outputs": [
    {
     "data": {
      "text/plain": [
       "(10000, 784)"
      ]
     },
     "execution_count": 108,
     "metadata": {},
     "output_type": "execute_result"
    }
   ],
   "source": [
    "x.shape"
   ]
  },
  {
   "cell_type": "code",
   "execution_count": 109,
   "id": "9d2cd54a",
   "metadata": {},
   "outputs": [
    {
     "data": {
      "text/plain": [
       "(784,)"
      ]
     },
     "execution_count": 109,
     "metadata": {},
     "output_type": "execute_result"
    }
   ],
   "source": [
    "x[0].shape"
   ]
  },
  {
   "cell_type": "code",
   "execution_count": 111,
   "id": "999031ed",
   "metadata": {},
   "outputs": [
    {
     "data": {
      "text/plain": [
       "((784, 50), (50, 100), (100, 10))"
      ]
     },
     "execution_count": 111,
     "metadata": {},
     "output_type": "execute_result"
    }
   ],
   "source": [
    "W1.shape, W2.shape, W3.shape"
   ]
  },
  {
   "cell_type": "code",
   "execution_count": 112,
   "id": "3ad1ca0e",
   "metadata": {},
   "outputs": [],
   "source": [
    "x, y = get_data()\n",
    "network = init_network()\n",
    "batch_size = 100\n",
    "acc = 0\n",
    "\n",
    "for i in range(0, len(x), batch_size):\n",
    "    x_batch = x[i:i+batch_size]\n",
    "    y_batch = predict(network, x_batch)\n",
    "    p = np.argmax(y_batch, axis=1)\n",
    "    acc += np.sum(p == y[i: i+batch_size])"
   ]
  },
  {
   "cell_type": "code",
   "execution_count": 113,
   "id": "f7195518",
   "metadata": {},
   "outputs": [
    {
     "data": {
      "text/plain": [
       "0.9352"
      ]
     },
     "execution_count": 113,
     "metadata": {},
     "output_type": "execute_result"
    }
   ],
   "source": [
    "acc/len(x)"
   ]
  },
  {
   "cell_type": "markdown",
   "id": "4fe668ea",
   "metadata": {},
   "source": [
    "# 정리"
   ]
  },
  {
   "cell_type": "markdown",
   "id": "61500964",
   "metadata": {},
   "source": [
    "- 신경망은 각 층의 뉴런들이 다음 층의 뉴런으로 신호를 전달한다는 점에서 퍼셉트론과 동일\n",
    "- 다음 뉴런으로 갈 때 신호를 변화 시키는 활성 함수가 있다는 점은 차이가 있음\n",
    "- 활성 함수로, 시그모이드나 ReLU, 계단 함수 사용\n",
    "- 넘파이 다차원 배열을 사용 배치 처리, 신경망 구현\n",
    "- 기계 학습은 회귀와 분류\n",
    "- 회귀는 항등 함수, 분류는 소프트맥스를 출력층의 활성화 함수로 사용\n",
    "- 분류에서는 출력층의 뉴런수를 분류하려는 클래스의 수와 동일하게\n",
    "- 입력 데이터를 묶은 것을 배치, 빠르게 학습 및 추론 가능"
   ]
  }
 ],
 "metadata": {
  "kernelspec": {
   "display_name": "Python 3 (ipykernel)",
   "language": "python",
   "name": "python3"
  },
  "language_info": {
   "codemirror_mode": {
    "name": "ipython",
    "version": 3
   },
   "file_extension": ".py",
   "mimetype": "text/x-python",
   "name": "python",
   "nbconvert_exporter": "python",
   "pygments_lexer": "ipython3",
   "version": "3.10.9"
  },
  "toc": {
   "base_numbering": 1,
   "nav_menu": {},
   "number_sections": true,
   "sideBar": true,
   "skip_h1_title": false,
   "title_cell": "Table of Contents",
   "title_sidebar": "Contents",
   "toc_cell": false,
   "toc_position": {},
   "toc_section_display": true,
   "toc_window_display": false
  }
 },
 "nbformat": 4,
 "nbformat_minor": 5
}
