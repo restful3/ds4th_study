{
  "nbformat": 4,
  "nbformat_minor": 0,
  "metadata": {
    "kernelspec": {
      "display_name": "TensorFlow 2.4 on Python 3.8 & CUDA 11.1",
      "language": "python",
      "name": "python3"
    },
    "language_info": {
      "codemirror_mode": {
        "name": "ipython",
        "version": 3
      },
      "file_extension": ".py",
      "mimetype": "text/x-python",
      "name": "python",
      "nbconvert_exporter": "python",
      "pygments_lexer": "ipython3",
      "version": "3.8.7"
    },
    "nav_menu": {
      "height": "603px",
      "width": "616px"
    },
    "toc": {
      "navigate_menu": true,
      "number_sections": true,
      "sideBar": true,
      "threshold": 6,
      "toc_cell": false,
      "toc_section_display": "block",
      "toc_window_display": true
    },
    "colab": {
      "name": "extra_autodiff.ipynb",
      "provenance": []
    }
  },
  "cells": [
    {
      "cell_type": "markdown",
      "metadata": {
        "id": "xsVRRxcTUsWL"
      },
      "source": [
        "**부록 D – 자동 미분**"
      ]
    },
    {
      "cell_type": "markdown",
      "metadata": {
        "id": "vfg6xlLYUsWN"
      },
      "source": [
        "_이 노트북은 간단한 예제를 통해 여러 가지 자동 미분 기법의 작동 원리를 설명합니다._"
      ]
    },
    {
      "cell_type": "markdown",
      "metadata": {
        "id": "uYtbaDr3UsWN"
      },
      "source": [
        "<table align=\"left\">\n",
        "  <td>\n",
        "    <a target=\"_blank\" href=\"https://colab.research.google.com/github/rickiepark/handson-ml2/blob/master/extra_autodiff.ipynb\"><img src=\"https://www.tensorflow.org/images/colab_logo_32px.png\" />구글 코랩에서 실행하기</a>\n",
        "  </td>\n",
        "</table>"
      ]
    },
    {
      "cell_type": "markdown",
      "metadata": {
        "id": "j-_LVAW2UsWN"
      },
      "source": [
        "# 설정"
      ]
    },
    {
      "cell_type": "markdown",
      "metadata": {
        "id": "E1B3cWMhUsWO"
      },
      "source": [
        "# 소개"
      ]
    },
    {
      "cell_type": "markdown",
      "metadata": {
        "id": "T55fuaCkUsWO"
      },
      "source": [
        "파라미터 x와 y에 대한 함수 $f(x,y)=x^2y + y + 2$의 그래디언트를 계산한다고 가정합시다:"
      ]
    },
    {
      "cell_type": "code",
      "metadata": {
        "id": "YzqqI5Z9UsWO"
      },
      "source": [
        "def f(x,y):\n",
        "    return x*x*y + y + 2"
      ],
      "execution_count": 1,
      "outputs": []
    },
    {
      "cell_type": "markdown",
      "metadata": {
        "id": "-qoHgmIDUsWP"
      },
      "source": [
        "해석적으로 푸는 방법이 하나 있습니다:\n",
        "\n",
        "$\\dfrac{\\partial f}{\\partial x} = 2xy$\n",
        "\n",
        "$\\dfrac{\\partial f}{\\partial y} = x^2 + 1$"
      ]
    },
    {
      "cell_type": "code",
      "metadata": {
        "id": "SzNqLg5cUsWQ"
      },
      "source": [
        "def df(x,y):\n",
        "    return 2*x*y, x*x + 1"
      ],
      "execution_count": 2,
      "outputs": []
    },
    {
      "cell_type": "markdown",
      "metadata": {
        "id": "AVLVW9BbUsWQ"
      },
      "source": [
        "예를 들어 $\\dfrac{\\partial f}{\\partial x}(3,4) = 24$ 이고, $\\dfrac{\\partial f}{\\partial y}(3,4) = 10$ 입니다."
      ]
    },
    {
      "cell_type": "code",
      "metadata": {
        "id": "m5RiyU4pUsWR",
        "outputId": "6873b519-2165-4af9-f9b3-9d4b91e25207",
        "colab": {
          "base_uri": "https://localhost:8080/"
        }
      },
      "source": [
        "df(3, 4)"
      ],
      "execution_count": 3,
      "outputs": [
        {
          "output_type": "execute_result",
          "data": {
            "text/plain": [
              "(24, 10)"
            ]
          },
          "metadata": {},
          "execution_count": 3
        }
      ]
    },
    {
      "cell_type": "markdown",
      "metadata": {
        "id": "440rcV0cUsWR"
      },
      "source": [
        "완벽합니다! 2차 도함수(헤시안이라고도 부릅니다)를 위한 식도 구할 수 있습니다:\n",
        "\n",
        "$\\dfrac{\\partial^2 f}{\\partial x \\partial x} = \\dfrac{\\partial (2xy)}{\\partial x} = 2y$\n",
        "\n",
        "$\\dfrac{\\partial^2 f}{\\partial x \\partial y} = \\dfrac{\\partial (2xy)}{\\partial y} = 2x$\n",
        "\n",
        "$\\dfrac{\\partial^2 f}{\\partial y \\partial x} = \\dfrac{\\partial (x^2 + 1)}{\\partial x} = 2x$\n",
        "\n",
        "$\\dfrac{\\partial^2 f}{\\partial y \\partial y} = \\dfrac{\\partial (x^2 + 1)}{\\partial y} = 0$"
      ]
    },
    {
      "cell_type": "markdown",
      "metadata": {
        "id": "WxEb6FXTUsWS"
      },
      "source": [
        "x=3이고 y=4일 때, 헤시안은 각각 8, 6, 6, 0입니다. 위 식을 사용해 이를 계산해 보죠:"
      ]
    },
    {
      "cell_type": "code",
      "metadata": {
        "id": "rsynMVvRUsWS"
      },
      "source": [
        "def d2f(x, y):\n",
        "    return [2*y, 2*x], [2*x, 0]"
      ],
      "execution_count": 4,
      "outputs": []
    },
    {
      "cell_type": "code",
      "metadata": {
        "id": "D2XTZyONUsWS",
        "outputId": "0436c72a-d783-4e35-b291-e00949f3c9d7",
        "colab": {
          "base_uri": "https://localhost:8080/"
        }
      },
      "source": [
        "d2f(3, 4)"
      ],
      "execution_count": 5,
      "outputs": [
        {
          "output_type": "execute_result",
          "data": {
            "text/plain": [
              "([8, 6], [6, 0])"
            ]
          },
          "metadata": {},
          "execution_count": 5
        }
      ]
    },
    {
      "cell_type": "markdown",
      "metadata": {
        "id": "ZvOlzmhfUsWT"
      },
      "source": [
        "좋습니다. 하지만 이렇게 하려면 수학 지식이 필요합니다. 이 경우에는 아주 어렵지 않지만 심층 신경망일 때 이런 식으로 도함수를 계산하는 것은 현실적으로 불가능합니다. 자동화해서 계산할 수 있는 여러 방법을 살펴 보겠습니다!"
      ]
    },
    {
      "cell_type": "markdown",
      "metadata": {
        "id": "25lBNu6NUsWT"
      },
      "source": [
        "# 수치 미분"
      ]
    },
    {
      "cell_type": "markdown",
      "metadata": {
        "id": "ReIsf4CNUsWT"
      },
      "source": [
        "여기서는 다음 식을 사용하여 그래디언트 근사값을 계산합니다. $\\dfrac{\\partial f}{\\partial x} = \\displaystyle{\\lim_{\\epsilon \\to 0}}\\dfrac{f(x+\\epsilon, y) - f(x, y)}{\\epsilon}$ (그리고 $\\dfrac{\\partial f}{\\partial y}$에 대해서도 비슷합니다)."
      ]
    },
    {
      "cell_type": "code",
      "metadata": {
        "id": "5lyNyMidUsWT"
      },
      "source": [
        "def gradients(func, vars_list, eps=0.0001):\n",
        "    partial_derivatives = []\n",
        "    base_func_eval = func(*vars_list)\n",
        "    for idx in range(len(vars_list)):\n",
        "        tweaked_vars = vars_list[:]\n",
        "        tweaked_vars[idx] += eps\n",
        "        tweaked_func_eval = func(*tweaked_vars)\n",
        "        derivative = (tweaked_func_eval - base_func_eval) / eps\n",
        "        partial_derivatives.append(derivative)\n",
        "    return partial_derivatives"
      ],
      "execution_count": 6,
      "outputs": []
    },
    {
      "cell_type": "code",
      "metadata": {
        "id": "iwQa6l_zUsWT"
      },
      "source": [
        "def df(x, y):\n",
        "    return gradients(f, [x, y])"
      ],
      "execution_count": 7,
      "outputs": []
    },
    {
      "cell_type": "code",
      "metadata": {
        "id": "RGZfP6ZeUsWU",
        "outputId": "7f38f180-ec9d-4ff3-8604-c1d2420fc00c",
        "colab": {
          "base_uri": "https://localhost:8080/"
        }
      },
      "source": [
        "df(3, 4)"
      ],
      "execution_count": 8,
      "outputs": [
        {
          "output_type": "execute_result",
          "data": {
            "text/plain": [
              "[24.000400000048216, 10.000000000047748]"
            ]
          },
          "metadata": {},
          "execution_count": 8
        }
      ]
    },
    {
      "cell_type": "markdown",
      "metadata": {
        "id": "O0dQ-3pvUsWU"
      },
      "source": [
        "잘 작동하네요!"
      ]
    },
    {
      "cell_type": "markdown",
      "metadata": {
        "id": "d7055sIvUsWU"
      },
      "source": [
        "이 방식의 장점은 헤시안 계산이 쉽다는 것입니다. 먼저 1차 편도함수(야코비안이라고도 부릅니다)를 계산하는 함수를 만듭니다:"
      ]
    },
    {
      "cell_type": "code",
      "metadata": {
        "id": "0N-N98oxUsWU",
        "outputId": "adb25554-e28f-4dd4-dbf6-1f15e3c1910d",
        "colab": {
          "base_uri": "https://localhost:8080/"
        }
      },
      "source": [
        "def dfdx(x, y):\n",
        "    return gradients(f, [x,y])[0]\n",
        "\n",
        "def dfdy(x, y):\n",
        "    return gradients(f, [x,y])[1]\n",
        "\n",
        "dfdx(3., 4.), dfdy(3., 4.)"
      ],
      "execution_count": 9,
      "outputs": [
        {
          "output_type": "execute_result",
          "data": {
            "text/plain": [
              "(24.000400000048216, 10.000000000047748)"
            ]
          },
          "metadata": {},
          "execution_count": 9
        }
      ]
    },
    {
      "cell_type": "markdown",
      "metadata": {
        "id": "FVD6zl5cUsWU"
      },
      "source": [
        "이제 간단하게 이 함수에 `grandients()` 함수를 적용하면 됩니다:"
      ]
    },
    {
      "cell_type": "code",
      "metadata": {
        "id": "mRmcEnCgUsWU"
      },
      "source": [
        "def d2f(x, y):\n",
        "    return [gradients(dfdx, [3., 4.]), gradients(dfdy, [3., 4.])]"
      ],
      "execution_count": 10,
      "outputs": []
    },
    {
      "cell_type": "code",
      "metadata": {
        "id": "Tqml4TdWUsWU",
        "outputId": "a48bb434-ccff-4fdf-d833-fae7daf6028b",
        "colab": {
          "base_uri": "https://localhost:8080/"
        }
      },
      "source": [
        "d2f(3, 4)"
      ],
      "execution_count": 11,
      "outputs": [
        {
          "output_type": "execute_result",
          "data": {
            "text/plain": [
              "[[7.999999951380232, 6.000099261882497],\n",
              " [6.000099261882497, -1.4210854715202004e-06]]"
            ]
          },
          "metadata": {},
          "execution_count": 11
        }
      ]
    },
    {
      "cell_type": "markdown",
      "metadata": {
        "id": "jmNTAZA_UsWV"
      },
      "source": [
        "모두 잘 계산되었지만 이 결과는 근사값입니다. $n$개의 변수에 대한 함수의 그래디언트를 계산하러면 이 함수를 $n$번 호출해야 합니다. 심층 신경망에서는 경사 하강법을 사용해 수정할 파라미터가 수천 개가 있기 때문에 이런 방법은 매우 느릴 수 있습니다(경사 하강법은 각 파라미터에 대한 손실 함수의 그래디언트를 계산해야 합니다)."
      ]
    },
    {
      "cell_type": "markdown",
      "metadata": {
        "id": "ToQUq6EUUsWV"
      },
      "source": [
        "## 간단한 계산 그래프 구현하기"
      ]
    },
    {
      "cell_type": "markdown",
      "metadata": {
        "id": "JpSVmoeXUsWV"
      },
      "source": [
        "수치적인 방법 대신에 기호 미분 기법을 구현해 보죠. 이를 위해 상수, 변수, 연산을 표현할 클래스를 정의하겠습니다."
      ]
    },
    {
      "cell_type": "code",
      "metadata": {
        "id": "YePfA_78UsWV"
      },
      "source": [
        "class Const(object):\n",
        "    def __init__(self, value):\n",
        "        self.value = value\n",
        "    def evaluate(self):\n",
        "        return self.value\n",
        "    def __str__(self):\n",
        "        return str(self.value)\n",
        "\n",
        "class Var(object):\n",
        "    def __init__(self, name, init_value=0):\n",
        "        self.value = init_value\n",
        "        self.name = name\n",
        "    def evaluate(self):\n",
        "        return self.value\n",
        "    def __str__(self):\n",
        "        return self.name\n",
        "\n",
        "class BinaryOperator(object):\n",
        "    def __init__(self, a, b):\n",
        "        self.a = a\n",
        "        self.b = b\n",
        "\n",
        "class Add(BinaryOperator):\n",
        "    def evaluate(self):\n",
        "        return self.a.evaluate() + self.b.evaluate()\n",
        "    def __str__(self):\n",
        "        return \"{} + {}\".format(self.a, self.b)\n",
        "\n",
        "class Mul(BinaryOperator):\n",
        "    def evaluate(self):\n",
        "        return self.a.evaluate() * self.b.evaluate()\n",
        "    def __str__(self):\n",
        "        return \"({}) * ({})\".format(self.a, self.b)"
      ],
      "execution_count": 12,
      "outputs": []
    },
    {
      "cell_type": "markdown",
      "metadata": {
        "id": "k7HKCt6WUsWV"
      },
      "source": [
        "좋습니다. 이제 함수 $f$를 나타내는 계산 그래프를 만들 수 있습니다:"
      ]
    },
    {
      "cell_type": "code",
      "metadata": {
        "id": "nyfWj-i1UsWV"
      },
      "source": [
        "x = Var(\"x\")\n",
        "y = Var(\"y\")\n",
        "f = Add(Mul(Mul(x, x), y), Add(y, Const(2))) # f(x,y) = x²y + y + 2"
      ],
      "execution_count": 13,
      "outputs": []
    },
    {
      "cell_type": "markdown",
      "metadata": {
        "id": "nhEwBml5UsWV"
      },
      "source": [
        "이 그래프를 실행하여 어떤 포인트에서도 $f$를 계산할 수 있습니다. 예를 들면 $f(3, 4)$는 다음과 같습니다."
      ]
    },
    {
      "cell_type": "code",
      "metadata": {
        "id": "qZm-2r-PUsWV",
        "outputId": "b38d7697-99fc-42c2-bf65-1d90b07c4860",
        "colab": {
          "base_uri": "https://localhost:8080/"
        }
      },
      "source": [
        "x.value = 3\n",
        "y.value = 4\n",
        "f.evaluate()"
      ],
      "execution_count": 14,
      "outputs": [
        {
          "output_type": "execute_result",
          "data": {
            "text/plain": [
              "42"
            ]
          },
          "metadata": {},
          "execution_count": 14
        }
      ]
    },
    {
      "cell_type": "markdown",
      "metadata": {
        "id": "e9QDzB7wUsWW"
      },
      "source": [
        "완벽한 정답을 찾았네요."
      ]
    },
    {
      "cell_type": "markdown",
      "metadata": {
        "id": "JvH4JChwUsWW"
      },
      "source": [
        "## 그래디언트 계산하기"
      ]
    },
    {
      "cell_type": "markdown",
      "metadata": {
        "id": "R7B_IRLbUsWW"
      },
      "source": [
        "여기서 제시할 자동 미분 방법은 모두 *연쇄 법칙(chain rule)*을 기반으로 합니다."
      ]
    },
    {
      "cell_type": "markdown",
      "metadata": {
        "id": "nX11YymxUsWW"
      },
      "source": [
        "두 개의 함수 $u$와 $v$가 있고 어떤 입력 $x$에 연속적으로 적용하여 결과 $v$를 얻었다고 가정합시다. 즉, $z = v(u(x))$이고, $z = v(s)$와 $s = u(x)$로 나누어 쓸 수 있습니다. 연쇄 법칙을 적용하면 입력 $x$에 대한 출력 $z$의 편도 함수를 계산할 수 있습니다:\n",
        "\n",
        "$ \\dfrac{\\partial z}{\\partial x} = \\dfrac{\\partial s}{\\partial x} \\cdot \\dfrac{\\partial z}{\\partial s}$"
      ]
    },
    {
      "cell_type": "markdown",
      "metadata": {
        "id": "DcZe8qtmUsWW"
      },
      "source": [
        "$z$가 중간 출력이 $s_1, s_2, ..., s_n$인 연속 함수의 출력이라면, 연쇄 법칙이 다음과 같이 적용됩니다:\n",
        "\n",
        "$ \\dfrac{\\partial z}{\\partial x} = \\dfrac{\\partial s_1}{\\partial x} \\cdot \\dfrac{\\partial s_2}{\\partial s_1} \\cdot \\dfrac{\\partial s_3}{\\partial s_2} \\cdot \\dots \\cdot \\dfrac{\\partial s_{n-1}}{\\partial s_{n-2}} \\cdot \\dfrac{\\partial s_n}{\\partial s_{n-1}} \\cdot \\dfrac{\\partial z}{\\partial s_n}$"
      ]
    },
    {
      "cell_type": "markdown",
      "metadata": {
        "id": "DOOC06BVUsWW"
      },
      "source": [
        "전진 모드 자동 미분에서는 알고리즘이 이 항들을 \"진행 순서대로\"(즉, 출력 $z$을 계산하기 위해 필요한 계산 순서와 동일하게), 즉 왼쪽에서 오른쪽으로 계산합니다. 먼저 $\\dfrac{\\partial s_1}{\\partial x}$를 계산하고, 그다음 $\\dfrac{\\partial s_2}{\\partial s_1}$을 계산하는 식입니다. 후진 모드 자동 미분에서는 알고리즘이 이 항들을 \"진행 반대 순서로\", 즉 오른쪽에서 왼쪽으로 계산합니다. 먼저 $\\dfrac{\\partial z}{\\partial s_n}$을 계산하고, 그다음 $\\dfrac{\\partial s_n}{\\partial s_{n-1}}$을 계산하는 식입니다.\n",
        "\n",
        "예를 들어, x=3에서 함수 $z(x)=\\sin(x^2)$의 도함수를 전진 모드 자동 미분을 사용하여 계산한다고 가정합시다. 알고리즘은 먼저 편도함수 $\\dfrac{\\partial s_1}{\\partial x}=\\dfrac{\\partial x^2}{\\partial x}=2x=6$을 계산합니다. 다음, $\\dfrac{\\partial z}{\\partial x}=\\dfrac{\\partial s_1}{\\partial x}\\cdot\\dfrac{\\partial z}{\\partial s_1}= 6 \\cdot \\dfrac{\\partial \\sin(s_1)}{\\partial s_1}=6 \\cdot \\cos(s_1)=6 \\cdot \\cos(3^2)\\approx-5.46$을 계산합니다."
      ]
    },
    {
      "cell_type": "markdown",
      "metadata": {
        "id": "ogF_TUwtUsWW"
      },
      "source": [
        "앞서 정의한 `gradients()` 함수를 사용해 결과를 검증해 보겠습니다:"
      ]
    },
    {
      "cell_type": "code",
      "metadata": {
        "id": "Xe-VsmamUsWX",
        "outputId": "244d0cd5-85a0-467a-8fcb-59f2982c3a24",
        "colab": {
          "base_uri": "https://localhost:8080/"
        }
      },
      "source": [
        "from math import sin\n",
        "\n",
        "def z(x):\n",
        "    return sin(x**2)\n",
        "\n",
        "gradients(z, [3])"
      ],
      "execution_count": 15,
      "outputs": [
        {
          "output_type": "execute_result",
          "data": {
            "text/plain": [
              "[-5.46761419430053]"
            ]
          },
          "metadata": {},
          "execution_count": 15
        }
      ]
    },
    {
      "cell_type": "markdown",
      "metadata": {
        "id": "6AKeI6VDUsWX"
      },
      "source": [
        "훌륭하네요. 이제 후진 모드 자동 미분을 사용해 동일한 계산을 해보겠습니다. 이번에는 알고리즘이 오른쪽부터 시작하므로 $\\dfrac{\\partial z}{\\partial s_1} = \\dfrac{\\partial \\sin(s_1)}{\\partial s_1}=\\cos(s_1)=\\cos(3^2)\\approx -0.91$을 계산합니다. 다음 $\\dfrac{\\partial z}{\\partial x}=\\dfrac{\\partial s_1}{\\partial x}\\cdot\\dfrac{\\partial z}{\\partial s_1} \\approx \\dfrac{\\partial s_1}{\\partial x} \\cdot -0.91 = \\dfrac{\\partial x^2}{\\partial x} \\cdot -0.91=2x \\cdot -0.91 = 6\\cdot-0.91=-5.46$을 계산합니다."
      ]
    },
    {
      "cell_type": "markdown",
      "metadata": {
        "id": "h0cQz3UTUsWX"
      },
      "source": [
        "당연히 두 방법 모두 같은 결과를 냅니다(반올림 오차는 제외하고). 하나의 입력과 하나의 출력이 있는 경우에는 둘 다 동일한 횟수의 계산이 필요합니다. 하지만 입력과 출력의 개수가 여러 개이면 두 방법의 성능이 매우 달라집니다. 입력이 많다면 가장 오른쪽에 있는 항은 각 입력마다 편도 함수를 계산하기 위해 필요할 것입니다. 그러므로 가장 오른쪽에 있는 항을 먼저 계산하는 것이 좋습니다. 이것은 후진 모드 자동 미분을 의미합니다. 가장 오른쪽의 항을 한번 계산해서 모든 편도 함수를 계산하는데 사용할 수 있습니다. 반대로 출력이 많을 경우에는 가장 왼쪽의 항을 한번 계산해서 여러 출력의 편도 함수를 계산할 수 있는 전진 모드가 더 좋습니다. 딥러닝에서는 전형적으로 수천 개의 모델 파라미터가 있고 입력은 많지만 출력은 적습니다. 사실 훈련하는 동안 일반적으로 출력은 손실 단 하나입니다. 그래서 텐서플로와 주요 딥러닝 라이브러리들은 후진 모드 자동 미분을 사용합니다."
      ]
    },
    {
      "cell_type": "markdown",
      "metadata": {
        "id": "KutUQgyfUsWX"
      },
      "source": [
        "후진 모드 자동 미분에는 복잡도가 한가지 추가됩니다. $s_i$의 값은 일반적으로 $\\dfrac{\\partial s_{i+1}}{\\partial s_i}$를 계산할 때 필요하고, $s_i$는 먼저 $s_{i-1}$를 계산해야 합니다. 이는 또 $s_{i-2}$를 계산해야 하는 식입니다. 그래서 $s_1$, $s_2$, $s_3$, $\\dots$, $s_{n-1}$ 그리고 $s_n$를 계산하기 위해 기본적으로 전진 방향으로 한번 네트워크를 실행해야 합니다. 그다음에 알고리즘이 오른쪽에서 왼쪽으로 편도 함수를 계산할 수 있습니다. RAM에 모든 $s_i$의 중간값을 저장하는 것은 가끔 문제가 됩니다. 특히 이미지를 다룰 때와 RAM이 부족한 GPU를 사용할 때 입니다. 이 문제를 완화하기 위해 신경망의 층 개수를 줄이거나, 텐서플로가 GPU RAM에서 CPU RAM으로 중간값들을 스왑(swap)하도록 설정할 수 있습니다. 다른 방법은 홀수 번째 중간값인 $s_1$, $s_3$, $s_5$, $\\dots$, $s_{n-4}$, $s_{n-2}$ 그리고 $s_n$만 캐싱하는 것입니다. 알고리즘이 편도 함수를 계산할 때 중간값 $s_i$가 없으면, 이전 중간값 $s_{i-1}$를 사용하여 다시 계산해야 합니다. 이는 CPU와 RAM 사이의 트레이드오프입니다(관심이 있다면 [이 논문](https://pdfs.semanticscholar.org/f61e/9fd5a4878e1493f7a6b03774a61c17b7e9a4.pdf)을 확인해 보세요)."
      ]
    },
    {
      "cell_type": "markdown",
      "metadata": {
        "id": "gekxz0VwUsWX"
      },
      "source": [
        "### 전진 모드 자동 미분"
      ]
    },
    {
      "cell_type": "code",
      "metadata": {
        "id": "roLEdZEvUsWX"
      },
      "source": [
        "Const.gradient = lambda self, var: Const(0)\n",
        "Var.gradient = lambda self, var: Const(1) if self is var else Const(0)\n",
        "Add.gradient = lambda self, var: Add(self.a.gradient(var), self.b.gradient(var))\n",
        "Mul.gradient = lambda self, var: Add(Mul(self.a, self.b.gradient(var)), Mul(self.a.gradient(var), self.b))\n",
        "\n",
        "x = Var(name=\"x\", init_value=3.)\n",
        "y = Var(name=\"y\", init_value=4.)\n",
        "f = Add(Mul(Mul(x, x), y), Add(y, Const(2))) # f(x,y) = x²y + y + 2\n",
        "\n",
        "dfdx = f.gradient(x)  # 2xy\n",
        "dfdy = f.gradient(y)  # x² + 1"
      ],
      "execution_count": 16,
      "outputs": []
    },
    {
      "cell_type": "code",
      "metadata": {
        "id": "RCk9TSp5UsWX",
        "outputId": "e281cb2d-89ea-442b-8720-aee8e0e68573",
        "colab": {
          "base_uri": "https://localhost:8080/"
        }
      },
      "source": [
        "dfdx.evaluate(), dfdy.evaluate()"
      ],
      "execution_count": 17,
      "outputs": [
        {
          "output_type": "execute_result",
          "data": {
            "text/plain": [
              "(24.0, 10.0)"
            ]
          },
          "metadata": {},
          "execution_count": 17
        }
      ]
    },
    {
      "cell_type": "markdown",
      "metadata": {
        "id": "ozxB9bXVUsWY"
      },
      "source": [
        "`gradient()` 메서드의 출력은 완전한 기호 미분이므로 1차 도함수에 국한되지 않고 2차 도함수도 계산할 수 있습니다:"
      ]
    },
    {
      "cell_type": "code",
      "metadata": {
        "id": "QFuzfLxFUsWY"
      },
      "source": [
        "d2fdxdx = dfdx.gradient(x) # 2y\n",
        "d2fdxdy = dfdx.gradient(y) # 2x\n",
        "d2fdydx = dfdy.gradient(x) # 2x\n",
        "d2fdydy = dfdy.gradient(y) # 0"
      ],
      "execution_count": 18,
      "outputs": []
    },
    {
      "cell_type": "code",
      "metadata": {
        "id": "PSUfXZqMUsWY",
        "outputId": "dd3d214c-fde8-42d7-d936-6751bb43c1c1",
        "colab": {
          "base_uri": "https://localhost:8080/"
        }
      },
      "source": [
        "[[d2fdxdx.evaluate(), d2fdxdy.evaluate()],\n",
        " [d2fdydx.evaluate(), d2fdydy.evaluate()]]"
      ],
      "execution_count": 19,
      "outputs": [
        {
          "output_type": "execute_result",
          "data": {
            "text/plain": [
              "[[8.0, 6.0], [6.0, 0.0]]"
            ]
          },
          "metadata": {},
          "execution_count": 19
        }
      ]
    },
    {
      "cell_type": "markdown",
      "metadata": {
        "id": "ly3X1l2rUsWY"
      },
      "source": [
        "결과는 근사값이 아니고 완벽하게 맞습니다(물론 컴퓨터의 부동 소수 정밀도 한계까지만)."
      ]
    },
    {
      "cell_type": "markdown",
      "metadata": {
        "id": "sDPLzj4dUsWY"
      },
      "source": [
        "### 이원수(dual number)를 사용한 전진 모드 자동 미분"
      ]
    },
    {
      "cell_type": "markdown",
      "metadata": {
        "id": "HXx54pXkUsWY"
      },
      "source": [
        "전진 모드 자동 미분을 적용하는 좋은 한가지 방법은 [이원수](https://ko.wikipedia.org/wiki/%EC%9D%B4%EC%9B%90%EC%88%98_(%EC%88%98%ED%95%99))를 사용하는 것입니다. 간단하게 말하면 이원수 $z$는 $z = a + b\\epsilon$의 형태를 가집니다. 여기에서 $a$와 $b$는 실수입니다. $\\epsilon$은 아주 작은 양수 이지만 모든 실수보다 작기 때문에 $\\epsilon^2=0$입니다. $f(x + \\epsilon) = f(x) + \\dfrac{\\partial f}{\\partial x}\\epsilon$로 쓸 수 있으므로, $f(x + \\epsilon)$를 계산하여 $f(x)$와 $x$에 대한 $f$의 편도 함수를 구할 수 있습니다."
      ]
    },
    {
      "cell_type": "markdown",
      "metadata": {
        "id": "xOMkg90aUsWY"
      },
      "source": [
        "이원수는 자체적인 산술 규칙을 가집니다. 일반적으로 매우 직관적입니다. 예를 들면:\n",
        "\n",
        "**덧셈**\n",
        "\n",
        "$(a_1 + b_1\\epsilon) + (a_2 + b_2\\epsilon) = (a_1 + a_2) + (b_1 + b_2)\\epsilon$\n",
        "\n",
        "**뺄셈**\n",
        "\n",
        "$(a_1 + b_1\\epsilon) - (a_2 + b_2\\epsilon) = (a_1 - a_2) + (b_1 - b_2)\\epsilon$\n",
        "\n",
        "**곱셈**\n",
        "\n",
        "$(a_1 + b_1\\epsilon) \\times (a_2 + b_2\\epsilon) = (a_1 a_2) + (a_1 b_2 + a_2 b_1)\\epsilon + b_1 b_2\\epsilon^2 = (a_1 a_2) + (a_1b_2 + a_2b_1)\\epsilon$\n",
        "\n",
        "**나눗셈**\n",
        "\n",
        "$\\dfrac{a_1 + b_1\\epsilon}{a_2 + b_2\\epsilon} = \\dfrac{a_1 + b_1\\epsilon}{a_2 + b_2\\epsilon} \\cdot \\dfrac{a_2 - b_2\\epsilon}{a_2 - b_2\\epsilon} = \\dfrac{a_1 a_2 + (b_1 a_2 - a_1 b_2)\\epsilon - b_1 b_2\\epsilon^2}{{a_2}^2 + (a_2 b_2 - a_2 b_2)\\epsilon - {b_2}^2\\epsilon} = \\dfrac{a_1}{a_2} + \\dfrac{a_1 b_2 - b_1 a_2}{{a_2}^2}\\epsilon$\n",
        "\n",
        "**거듭제곱**\n",
        "\n",
        "$(a + b\\epsilon)^n = a^n + (n a^{n-1}b)\\epsilon$\n",
        "\n",
        "등."
      ]
    },
    {
      "cell_type": "markdown",
      "metadata": {
        "id": "UAqhlew4UsWZ"
      },
      "source": [
        "이원수를 표현할 클래스를 만들고 몇 개의 연산(덧셈과 곱셈)을 구현해 보죠. 필요하면 다른 연산을 더 추가해도 됩니다."
      ]
    },
    {
      "cell_type": "code",
      "metadata": {
        "id": "WQWye-2EUsWZ"
      },
      "source": [
        "class DualNumber(object):\n",
        "    def __init__(self, value=0.0, eps=0.0):\n",
        "        self.value = value\n",
        "        self.eps = eps\n",
        "    def __add__(self, b):\n",
        "        return DualNumber(self.value + self.to_dual(b).value,\n",
        "                          self.eps + self.to_dual(b).eps)\n",
        "    def __radd__(self, a):\n",
        "        return self.to_dual(a).__add__(self)\n",
        "    def __mul__(self, b):\n",
        "        return DualNumber(self.value * self.to_dual(b).value,\n",
        "                          self.eps * self.to_dual(b).value + self.value * self.to_dual(b).eps)\n",
        "    def __rmul__(self, a):\n",
        "        return self.to_dual(a).__mul__(self)\n",
        "    def __str__(self):\n",
        "        if self.eps:\n",
        "            return \"{:.1f} + {:.1f}ε\".format(self.value, self.eps)\n",
        "        else:\n",
        "            return \"{:.1f}\".format(self.value)\n",
        "    def __repr__(self):\n",
        "        return str(self)\n",
        "    @classmethod\n",
        "    def to_dual(cls, n):\n",
        "        if hasattr(n, \"value\"):\n",
        "            return n\n",
        "        else:\n",
        "            return cls(n)"
      ],
      "execution_count": 20,
      "outputs": []
    },
    {
      "cell_type": "markdown",
      "metadata": {
        "id": "S8va8F9aUsWZ"
      },
      "source": [
        "$3 + (3 + 4 \\epsilon) = 6 + 4\\epsilon$"
      ]
    },
    {
      "cell_type": "code",
      "metadata": {
        "id": "y-QsLWn1UsWZ",
        "outputId": "a346b1b1-9b20-4178-9606-4c50288feb65",
        "colab": {
          "base_uri": "https://localhost:8080/"
        }
      },
      "source": [
        "3 + DualNumber(3, 4)"
      ],
      "execution_count": 21,
      "outputs": [
        {
          "output_type": "execute_result",
          "data": {
            "text/plain": [
              "6.0 + 4.0ε"
            ]
          },
          "metadata": {},
          "execution_count": 21
        }
      ]
    },
    {
      "cell_type": "markdown",
      "metadata": {
        "id": "Mwr64BLGUsWZ"
      },
      "source": [
        "$(3 + 4ε)\\times(5 + 7ε)$ = $3 \\times 5 + 3 \\times 7ε + 4ε \\times 5 + 4ε \\times 7ε$ = $15 + 21ε + 20ε + 28ε^2$ = $15 + 41ε + 28 \\times 0$ = $15 + 41ε$"
      ]
    },
    {
      "cell_type": "code",
      "metadata": {
        "id": "ZstGLpWgUsWZ",
        "outputId": "54772437-1f73-49ea-d4ef-5c97a55c787b",
        "colab": {
          "base_uri": "https://localhost:8080/"
        }
      },
      "source": [
        "DualNumber(3, 4) * DualNumber(5, 7)"
      ],
      "execution_count": 22,
      "outputs": [
        {
          "output_type": "execute_result",
          "data": {
            "text/plain": [
              "15.0 + 41.0ε"
            ]
          },
          "metadata": {},
          "execution_count": 22
        }
      ]
    },
    {
      "cell_type": "markdown",
      "metadata": {
        "id": "RWQTPUEIUsWZ"
      },
      "source": [
        "이제 이원수가 우리가 만든 계산 프레임워크와 함께 쓸 수 있는지 확인해 보죠:"
      ]
    },
    {
      "cell_type": "code",
      "metadata": {
        "id": "P0YUvNa1UsWa",
        "outputId": "f8c13119-f8a1-459b-a6da-0a00990e430d",
        "colab": {
          "base_uri": "https://localhost:8080/"
        }
      },
      "source": [
        "x.value = DualNumber(3.0)\n",
        "y.value = DualNumber(4.0)\n",
        "\n",
        "f.evaluate()"
      ],
      "execution_count": 23,
      "outputs": [
        {
          "output_type": "execute_result",
          "data": {
            "text/plain": [
              "42.0"
            ]
          },
          "metadata": {},
          "execution_count": 23
        }
      ]
    },
    {
      "cell_type": "markdown",
      "metadata": {
        "id": "RXtjqG7yUsWa"
      },
      "source": [
        "오, 잘 되네요. 이를 사용해 x=3이고 y=4에서 $x$와 $y$에 대한 $f$의 편도 함수를 계산해 보겠습니다:"
      ]
    },
    {
      "cell_type": "code",
      "metadata": {
        "id": "DZj4aFqOUsWa"
      },
      "source": [
        "x.value = DualNumber(3.0, 1.0)  # 3 + ε\n",
        "y.value = DualNumber(4.0)       # 4\n",
        "\n",
        "dfdx = f.evaluate().eps\n",
        "\n",
        "x.value = DualNumber(3.0)       # 3\n",
        "y.value = DualNumber(4.0, 1.0)  # 4 + ε\n",
        "\n",
        "dfdy = f.evaluate().eps"
      ],
      "execution_count": 24,
      "outputs": []
    },
    {
      "cell_type": "code",
      "metadata": {
        "id": "swo2KWrUUsWa",
        "outputId": "84274e12-c4c9-4603-f3a2-9d6318ec7612",
        "colab": {
          "base_uri": "https://localhost:8080/"
        }
      },
      "source": [
        "dfdx"
      ],
      "execution_count": 25,
      "outputs": [
        {
          "output_type": "execute_result",
          "data": {
            "text/plain": [
              "24.0"
            ]
          },
          "metadata": {},
          "execution_count": 25
        }
      ]
    },
    {
      "cell_type": "code",
      "metadata": {
        "id": "LY7Q3ZWjUsWa",
        "outputId": "e8581ac2-de16-419f-e729-91246ae8b499",
        "colab": {
          "base_uri": "https://localhost:8080/"
        }
      },
      "source": [
        "dfdy"
      ],
      "execution_count": 26,
      "outputs": [
        {
          "output_type": "execute_result",
          "data": {
            "text/plain": [
              "10.0"
            ]
          },
          "metadata": {},
          "execution_count": 26
        }
      ]
    },
    {
      "cell_type": "markdown",
      "metadata": {
        "id": "4JjJBtVnUsWa"
      },
      "source": [
        "훌륭합니다! 하지만 이 구현에서는 1차 도함수만 가능합니다. 이제 후진 모드를 살펴 보죠."
      ]
    },
    {
      "cell_type": "markdown",
      "metadata": {
        "id": "McrNV9kWUsWa"
      },
      "source": [
        "### 후진 모드 자동 미분"
      ]
    },
    {
      "cell_type": "markdown",
      "metadata": {
        "id": "QBSrNOtYUsWa"
      },
      "source": [
        "우리가 만든 간단한 프레임워크를 수정해서 후진 모드 자동 미분을 추가하겠습니다:"
      ]
    },
    {
      "cell_type": "code",
      "metadata": {
        "id": "cKT8P6R_UsWa"
      },
      "source": [
        "class Const(object):\n",
        "    def __init__(self, value):\n",
        "        self.value = value\n",
        "    def evaluate(self):\n",
        "        return self.value\n",
        "    def backpropagate(self, gradient):\n",
        "        pass\n",
        "    def __str__(self):\n",
        "        return str(self.value)\n",
        "\n",
        "class Var(object):\n",
        "    def __init__(self, name, init_value=0):\n",
        "        self.value = init_value\n",
        "        self.name = name\n",
        "        self.gradient = 0\n",
        "    def evaluate(self):\n",
        "        return self.value\n",
        "    def backpropagate(self, gradient):\n",
        "        self.gradient += gradient\n",
        "    def __str__(self):\n",
        "        return self.name\n",
        "\n",
        "class BinaryOperator(object):\n",
        "    def __init__(self, a, b):\n",
        "        self.a = a\n",
        "        self.b = b\n",
        "\n",
        "class Add(BinaryOperator):\n",
        "    def evaluate(self):\n",
        "        self.value = self.a.evaluate() + self.b.evaluate()\n",
        "        return self.value\n",
        "    def backpropagate(self, gradient):\n",
        "        self.a.backpropagate(gradient)\n",
        "        self.b.backpropagate(gradient)\n",
        "    def __str__(self):\n",
        "        return \"{} + {}\".format(self.a, self.b)\n",
        "\n",
        "class Mul(BinaryOperator):\n",
        "    def evaluate(self):\n",
        "        self.value = self.a.evaluate() * self.b.evaluate()\n",
        "        return self.value\n",
        "    def backpropagate(self, gradient):\n",
        "        self.a.backpropagate(gradient * self.b.value)\n",
        "        self.b.backpropagate(gradient * self.a.value)\n",
        "    def __str__(self):\n",
        "        return \"({}) * ({})\".format(self.a, self.b)"
      ],
      "execution_count": 27,
      "outputs": []
    },
    {
      "cell_type": "code",
      "metadata": {
        "id": "Lygo8NB3UsWa"
      },
      "source": [
        "x = Var(\"x\", init_value=3)\n",
        "y = Var(\"y\", init_value=4)\n",
        "f = Add(Mul(Mul(x, x), y), Add(y, Const(2))) # f(x,y) = x²y + y + 2\n",
        "\n",
        "result = f.evaluate()\n",
        "f.backpropagate(1.0)"
      ],
      "execution_count": 28,
      "outputs": []
    },
    {
      "cell_type": "code",
      "metadata": {
        "id": "vcakvvOEUsWb",
        "outputId": "accd6753-bb81-4aa2-e13a-e60dc1d24bad",
        "colab": {
          "base_uri": "https://localhost:8080/"
        }
      },
      "source": [
        "print(f)"
      ],
      "execution_count": 29,
      "outputs": [
        {
          "output_type": "stream",
          "text": [
            "((x) * (x)) * (y) + y + 2\n"
          ],
          "name": "stdout"
        }
      ]
    },
    {
      "cell_type": "code",
      "metadata": {
        "id": "8MITDXZGUsWb",
        "outputId": "b6a9bde8-f295-40b1-92b3-f9a6072548ba",
        "colab": {
          "base_uri": "https://localhost:8080/"
        }
      },
      "source": [
        "result"
      ],
      "execution_count": 30,
      "outputs": [
        {
          "output_type": "execute_result",
          "data": {
            "text/plain": [
              "42"
            ]
          },
          "metadata": {},
          "execution_count": 30
        }
      ]
    },
    {
      "cell_type": "code",
      "metadata": {
        "id": "vkc6VmPGUsWb",
        "outputId": "0b770093-e21a-4cc7-984a-c946c44ac630",
        "colab": {
          "base_uri": "https://localhost:8080/"
        }
      },
      "source": [
        "x.gradient"
      ],
      "execution_count": 31,
      "outputs": [
        {
          "output_type": "execute_result",
          "data": {
            "text/plain": [
              "24.0"
            ]
          },
          "metadata": {},
          "execution_count": 31
        }
      ]
    },
    {
      "cell_type": "code",
      "metadata": {
        "id": "jKqIYynRUsWb",
        "outputId": "944bf0d7-efeb-45ae-fd8c-66739fa9b705",
        "colab": {
          "base_uri": "https://localhost:8080/"
        }
      },
      "source": [
        "y.gradient"
      ],
      "execution_count": 32,
      "outputs": [
        {
          "output_type": "execute_result",
          "data": {
            "text/plain": [
              "10.0"
            ]
          },
          "metadata": {},
          "execution_count": 32
        }
      ]
    },
    {
      "cell_type": "markdown",
      "metadata": {
        "id": "_vH5JWRSUsWb"
      },
      "source": [
        "여기에서도 이 구현의 출력이 숫자이고 기호 표현(symbolic expressions)이 아니므로 1차 도함수로 제한이 됩니다. 그러나 값 대신 기호 표현을 반환하는 `backpropagate()` 메서드를 만들 수 있습니다. 이렇게 하면 2차 도함수(또 그 이상)를 계산할 수 있습니다. 이것이 텐서플로와 자동 미분을 구현한 모든 주요 딥러닝 라이브러리들의 방식입니다."
      ]
    },
    {
      "cell_type": "markdown",
      "metadata": {
        "id": "7nrb-pnLUsWb"
      },
      "source": [
        "### 텐서플로를 사용한 후진 모드 자동 미분"
      ]
    },
    {
      "cell_type": "code",
      "metadata": {
        "id": "4sbLsJonUsWb"
      },
      "source": [
        "import tensorflow as tf"
      ],
      "execution_count": 33,
      "outputs": []
    },
    {
      "cell_type": "code",
      "metadata": {
        "id": "AmRrpFcvUsWb",
        "outputId": "34290079-0054-49d9-d7aa-d9be25b67b56",
        "colab": {
          "base_uri": "https://localhost:8080/"
        }
      },
      "source": [
        "x = tf.Variable(3.)\n",
        "y = tf.Variable(4.)\n",
        "\n",
        "with tf.GradientTape() as tape:\n",
        "    f = x*x*y + y + 2\n",
        "\n",
        "jacobians = tape.gradient(f, [x, y])\n",
        "jacobians"
      ],
      "execution_count": 34,
      "outputs": [
        {
          "output_type": "execute_result",
          "data": {
            "text/plain": [
              "[<tf.Tensor: shape=(), dtype=float32, numpy=24.0>,\n",
              " <tf.Tensor: shape=(), dtype=float32, numpy=10.0>]"
            ]
          },
          "metadata": {},
          "execution_count": 34
        }
      ]
    },
    {
      "cell_type": "markdown",
      "metadata": {
        "id": "8EK4NCMAUsWb"
      },
      "source": [
        "전부 기호이기 때문에 2차 도함수와 그 이상도 계산할 수 있습니다."
      ]
    },
    {
      "cell_type": "code",
      "metadata": {
        "id": "spZAweweUsWb",
        "outputId": "e02cf7bd-a909-499a-8a6d-5ba8e9784c00",
        "colab": {
          "base_uri": "https://localhost:8080/"
        }
      },
      "source": [
        "x = tf.Variable(3.)\n",
        "y = tf.Variable(4.)\n",
        "\n",
        "with tf.GradientTape(persistent=True) as tape:\n",
        "    f = x*x*y + y + 2\n",
        "    df_dx, df_dy = tape.gradient(f, [x, y])\n",
        "\n",
        "d2f_d2x, d2f_dydx = tape.gradient(df_dx, [x, y])\n",
        "d2f_dxdy, d2f_d2y = tape.gradient(df_dy, [x, y])\n",
        "del tape\n",
        "\n",
        "hessians = [[d2f_d2x, d2f_dydx], [d2f_dxdy, d2f_d2y]]\n",
        "hessians"
      ],
      "execution_count": 35,
      "outputs": [
        {
          "output_type": "stream",
          "text": [
            "WARNING:tensorflow:Calling GradientTape.gradient on a persistent tape inside its context is significantly less efficient than calling it outside the context (it causes the gradient ops to be recorded on the tape, leading to increased CPU and memory usage). Only call GradientTape.gradient inside the context if you actually want to trace the gradient in order to compute higher order derivatives.\n"
          ],
          "name": "stdout"
        },
        {
          "output_type": "execute_result",
          "data": {
            "text/plain": [
              "[[<tf.Tensor: shape=(), dtype=float32, numpy=8.0>,\n",
              "  <tf.Tensor: shape=(), dtype=float32, numpy=6.0>],\n",
              " [<tf.Tensor: shape=(), dtype=float32, numpy=6.0>, None]]"
            ]
          },
          "metadata": {},
          "execution_count": 35
        }
      ]
    },
    {
      "cell_type": "markdown",
      "metadata": {
        "id": "7xHXl0J0UsWb"
      },
      "source": [
        "그러나 의존하지 않는 변수에 대한 텐서의 도함수를 계산할 때, `grandients()` 함수가 0.0 대신 None을 반환합니다."
      ]
    },
    {
      "cell_type": "markdown",
      "metadata": {
        "id": "NWKGr87iUsWc"
      },
      "source": [
        "여기까지 해서 마치도록 하겠습니다! 이 노트북이 맘에 드시길 바랄께요."
      ]
    }
  ]
}