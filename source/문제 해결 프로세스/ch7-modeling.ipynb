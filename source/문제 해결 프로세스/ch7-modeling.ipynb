{
 "cells": [
  {
   "cell_type": "markdown",
   "id": "72e2a762",
   "metadata": {
    "papermill": {
     "duration": 0.022201,
     "end_time": "2022-03-04T14:32:00.101601",
     "exception": false,
     "start_time": "2022-03-04T14:32:00.079400",
     "status": "completed"
    },
    "tags": []
   },
   "source": [
    "# 7.4 범주형 데이터 이진분류 경진대회 성능 개선 I"
   ]
  },
  {
   "cell_type": "markdown",
   "id": "13240afd",
   "metadata": {
    "papermill": {
     "duration": 0.019695,
     "end_time": "2022-03-04T14:32:00.143036",
     "exception": false,
     "start_time": "2022-03-04T14:32:00.123341",
     "status": "completed"
    },
    "tags": []
   },
   "source": [
    "- [범주형 데이터 이진분류 경진대회 링크](https://www.kaggle.com/c/cat-in-the-dat/)\n",
    "- [모델링 코드 참고 링크](https://www.kaggle.com/dkomyagin/cat-in-the-dat-0-80285-private-lb-solution)"
   ]
  },
  {
   "cell_type": "code",
   "execution_count": 1,
   "id": "4d17dfa6",
   "metadata": {
    "execution": {
     "iopub.execute_input": "2022-03-04T14:32:00.187477Z",
     "iopub.status.busy": "2022-03-04T14:32:00.186256Z",
     "iopub.status.idle": "2022-03-04T14:32:03.029089Z",
     "shell.execute_reply": "2022-03-04T14:32:03.029862Z"
    },
    "papermill": {
     "duration": 2.867332,
     "end_time": "2022-03-04T14:32:03.030158",
     "exception": false,
     "start_time": "2022-03-04T14:32:00.162826",
     "status": "completed"
    },
    "tags": []
   },
   "outputs": [],
   "source": [
    "import pandas as pd\n",
    "# 데이터 경로\n",
    "data_path = '/kaggle/input/cat-in-the-dat/'\n",
    "\n",
    "train = pd.read_csv(data_path + 'train.csv', index_col='id')\n",
    "test = pd.read_csv(data_path + 'test.csv', index_col='id')\n",
    "submission = pd.read_csv(data_path + 'sample_submission.csv', index_col='id')"
   ]
  },
  {
   "cell_type": "markdown",
   "id": "01433b23",
   "metadata": {
    "papermill": {
     "duration": 0.01954,
     "end_time": "2022-03-04T14:32:03.070286",
     "exception": false,
     "start_time": "2022-03-04T14:32:03.050746",
     "status": "completed"
    },
    "tags": []
   },
   "source": [
    "## 7.4.1 피처 엔지니어링 I : 피처 맞춤 인코딩"
   ]
  },
  {
   "cell_type": "markdown",
   "id": "d6a4d30e",
   "metadata": {
    "papermill": {
     "duration": 0.020805,
     "end_time": "2022-03-04T14:32:03.111011",
     "exception": false,
     "start_time": "2022-03-04T14:32:03.090206",
     "status": "completed"
    },
    "tags": []
   },
   "source": [
    "### 데이터 합치기"
   ]
  },
  {
   "cell_type": "code",
   "execution_count": 2,
   "id": "c2a07923",
   "metadata": {
    "execution": {
     "iopub.execute_input": "2022-03-04T14:32:03.153598Z",
     "iopub.status.busy": "2022-03-04T14:32:03.152935Z",
     "iopub.status.idle": "2022-03-04T14:32:03.794500Z",
     "shell.execute_reply": "2022-03-04T14:32:03.795102Z"
    },
    "papermill": {
     "duration": 0.664615,
     "end_time": "2022-03-04T14:32:03.795290",
     "exception": false,
     "start_time": "2022-03-04T14:32:03.130675",
     "status": "completed"
    },
    "tags": []
   },
   "outputs": [],
   "source": [
    "# 훈련 데이터와 테스트 데이터 합치기\n",
    "all_data = pd.concat([train, test])\n",
    "all_data = all_data.drop('target', axis=1) # 타깃값 제거"
   ]
  },
  {
   "cell_type": "markdown",
   "id": "1f9efb37",
   "metadata": {
    "papermill": {
     "duration": 0.019454,
     "end_time": "2022-03-04T14:32:03.834628",
     "exception": false,
     "start_time": "2022-03-04T14:32:03.815174",
     "status": "completed"
    },
    "tags": []
   },
   "source": [
    "### 이진 피처 인코딩"
   ]
  },
  {
   "cell_type": "code",
   "execution_count": 3,
   "id": "19d2319d",
   "metadata": {
    "execution": {
     "iopub.execute_input": "2022-03-04T14:32:03.879936Z",
     "iopub.status.busy": "2022-03-04T14:32:03.879266Z",
     "iopub.status.idle": "2022-03-04T14:32:04.177325Z",
     "shell.execute_reply": "2022-03-04T14:32:04.177835Z"
    },
    "papermill": {
     "duration": 0.32171,
     "end_time": "2022-03-04T14:32:04.178020",
     "exception": false,
     "start_time": "2022-03-04T14:32:03.856310",
     "status": "completed"
    },
    "tags": []
   },
   "outputs": [],
   "source": [
    "all_data['bin_3'] = all_data['bin_3'].map({'F':0, 'T':1})\n",
    "all_data['bin_4'] = all_data['bin_4'].map({'N':0, 'Y':1})"
   ]
  },
  {
   "cell_type": "markdown",
   "id": "6f3643d9",
   "metadata": {
    "papermill": {
     "duration": 0.020006,
     "end_time": "2022-03-04T14:32:04.218101",
     "exception": false,
     "start_time": "2022-03-04T14:32:04.198095",
     "status": "completed"
    },
    "tags": []
   },
   "source": [
    "### 순서형 피처 인코딩"
   ]
  },
  {
   "cell_type": "code",
   "execution_count": 4,
   "id": "856dc2f0",
   "metadata": {
    "execution": {
     "iopub.execute_input": "2022-03-04T14:32:04.262404Z",
     "iopub.status.busy": "2022-03-04T14:32:04.261750Z",
     "iopub.status.idle": "2022-03-04T14:32:04.580498Z",
     "shell.execute_reply": "2022-03-04T14:32:04.581093Z"
    },
    "papermill": {
     "duration": 0.342632,
     "end_time": "2022-03-04T14:32:04.581281",
     "exception": false,
     "start_time": "2022-03-04T14:32:04.238649",
     "status": "completed"
    },
    "tags": []
   },
   "outputs": [],
   "source": [
    "ord1dict = {'Novice':0, 'Contributor':1, \n",
    "            'Expert':2, 'Master':3, 'Grandmaster':4}\n",
    "ord2dict = {'Freezing':0, 'Cold':1, 'Warm':2, \n",
    "            'Hot':3, 'Boiling Hot':4, 'Lava Hot':5}\n",
    "\n",
    "all_data['ord_1'] = all_data['ord_1'].map(ord1dict)\n",
    "all_data['ord_2'] = all_data['ord_2'].map(ord2dict)"
   ]
  },
  {
   "cell_type": "code",
   "execution_count": 5,
   "id": "6b20c6b3",
   "metadata": {
    "execution": {
     "iopub.execute_input": "2022-03-04T14:32:04.625050Z",
     "iopub.status.busy": "2022-03-04T14:32:04.624393Z",
     "iopub.status.idle": "2022-03-04T14:32:06.529792Z",
     "shell.execute_reply": "2022-03-04T14:32:06.528711Z"
    },
    "papermill": {
     "duration": 1.928515,
     "end_time": "2022-03-04T14:32:06.530108",
     "exception": false,
     "start_time": "2022-03-04T14:32:04.601593",
     "status": "completed"
    },
    "tags": []
   },
   "outputs": [
    {
     "name": "stdout",
     "output_type": "stream",
     "text": [
      "ord_3\n",
      "['a' 'b' 'c' 'd' 'e' 'f' 'g' 'h' 'i' 'j' 'k' 'l' 'm' 'n' 'o']\n",
      "ord_4\n",
      "['A' 'B' 'C' 'D' 'E' 'F' 'G' 'H' 'I' 'J' 'K' 'L' 'M' 'N' 'O' 'P' 'Q' 'R'\n",
      " 'S' 'T' 'U' 'V' 'W' 'X' 'Y' 'Z']\n",
      "ord_5\n",
      "['AP' 'Ai' 'Aj' 'BA' 'BE' 'Bb' 'Bd' 'Bn' 'CL' 'CM' 'CU' 'CZ' 'Cl' 'DH'\n",
      " 'DN' 'Dc' 'Dx' 'Ed' 'Eg' 'Er' 'FI' 'Fd' 'Fo' 'GD' 'GJ' 'Gb' 'Gx' 'Hj'\n",
      " 'IK' 'Id' 'JX' 'Jc' 'Jf' 'Jt' 'KR' 'KZ' 'Kf' 'Kq' 'LE' 'MC' 'MO' 'MV'\n",
      " 'Mf' 'Ml' 'Mx' 'NV' 'Nf' 'Nk' 'OR' 'Ob' 'Os' 'PA' 'PQ' 'PZ' 'Ps' 'QM'\n",
      " 'Qb' 'Qh' 'Qo' 'RG' 'RL' 'RP' 'Rm' 'Ry' 'SB' 'Sc' 'TR' 'TZ' 'To' 'UO'\n",
      " 'Uk' 'Uu' 'Vf' 'Vx' 'WE' 'Wc' 'Wv' 'XI' 'Xh' 'Xi' 'YC' 'Yb' 'Ye' 'ZR'\n",
      " 'ZS' 'Zc' 'Zq' 'aF' 'aM' 'aO' 'aP' 'ac' 'av' 'bF' 'bJ' 'be' 'cA' 'cG'\n",
      " 'cW' 'ck' 'cp' 'dB' 'dE' 'dN' 'dO' 'dP' 'dQ' 'dZ' 'dh' 'eG' 'eQ' 'eb'\n",
      " 'eg' 'ek' 'ex' 'fO' 'fh' 'gJ' 'gM' 'hL' 'hT' 'hh' 'hp' 'iT' 'ih' 'jS'\n",
      " 'jV' 'je' 'jp' 'kC' 'kE' 'kK' 'kL' 'kU' 'kW' 'ke' 'kr' 'kw' 'lF' 'lL'\n",
      " 'll' 'lx' 'mb' 'mc' 'mm' 'nX' 'nh' 'oC' 'oG' 'oH' 'oK' 'od' 'on' 'pa'\n",
      " 'ps' 'qA' 'qJ' 'qK' 'qP' 'qX' 'qo' 'qv' 'qw' 'rZ' 'ri' 'rp' 'sD' 'sV'\n",
      " 'sY' 'sn' 'su' 'tM' 'tP' 'tv' 'uJ' 'uS' 'ud' 'us' 'ut' 'ux' 'uy' 'vK'\n",
      " 'vq' 'vy' 'wu' 'wy' 'xP' 'xy' 'yN' 'yY' 'yc' 'zU']\n"
     ]
    }
   ],
   "source": [
    "from sklearn.preprocessing import OrdinalEncoder\n",
    "\n",
    "ord_345 = ['ord_3', 'ord_4', 'ord_5']\n",
    "\n",
    "ord_encoder = OrdinalEncoder() # OrdinalEncoder 객체 생성\n",
    "# ordinal 인코딩 적용\n",
    "all_data[ord_345] = ord_encoder.fit_transform(all_data[ord_345])\n",
    "\n",
    "# 피처별 인코딩 순서 출력\n",
    "for feature, categories in zip(ord_345, ord_encoder.categories_):\n",
    "    print(feature)\n",
    "    print(categories)"
   ]
  },
  {
   "cell_type": "markdown",
   "id": "ecff4cfb",
   "metadata": {
    "papermill": {
     "duration": 0.020487,
     "end_time": "2022-03-04T14:32:06.572612",
     "exception": false,
     "start_time": "2022-03-04T14:32:06.552125",
     "status": "completed"
    },
    "tags": []
   },
   "source": [
    "### 명목형 피처 인코딩"
   ]
  },
  {
   "cell_type": "code",
   "execution_count": 6,
   "id": "b98bac2d",
   "metadata": {
    "execution": {
     "iopub.execute_input": "2022-03-04T14:32:06.618682Z",
     "iopub.status.busy": "2022-03-04T14:32:06.618029Z",
     "iopub.status.idle": "2022-03-04T14:32:06.622176Z",
     "shell.execute_reply": "2022-03-04T14:32:06.622716Z"
    },
    "papermill": {
     "duration": 0.029414,
     "end_time": "2022-03-04T14:32:06.622889",
     "exception": false,
     "start_time": "2022-03-04T14:32:06.593475",
     "status": "completed"
    },
    "tags": []
   },
   "outputs": [],
   "source": [
    "nom_features = ['nom_' + str(i) for i in range(10)] # 명목형 피처"
   ]
  },
  {
   "cell_type": "code",
   "execution_count": 7,
   "id": "fd847e5f",
   "metadata": {
    "execution": {
     "iopub.execute_input": "2022-03-04T14:32:06.668176Z",
     "iopub.status.busy": "2022-03-04T14:32:06.667397Z",
     "iopub.status.idle": "2022-03-04T14:32:09.452587Z",
     "shell.execute_reply": "2022-03-04T14:32:09.452072Z"
    },
    "papermill": {
     "duration": 2.808928,
     "end_time": "2022-03-04T14:32:09.452761",
     "exception": false,
     "start_time": "2022-03-04T14:32:06.643833",
     "status": "completed"
    },
    "tags": []
   },
   "outputs": [
    {
     "data": {
      "text/plain": [
       "<500000x16276 sparse matrix of type '<class 'numpy.float64'>'\n",
       "\twith 5000000 stored elements in Compressed Sparse Row format>"
      ]
     },
     "execution_count": 7,
     "metadata": {},
     "output_type": "execute_result"
    }
   ],
   "source": [
    "from sklearn.preprocessing import OneHotEncoder\n",
    "\n",
    "onehot_encoder = OneHotEncoder() # OneHotEncoder 객체 생성\n",
    "# 원-핫 인코딩 적용\n",
    "encoded_nom_matrix = onehot_encoder.fit_transform(all_data[nom_features])\n",
    "\n",
    "encoded_nom_matrix"
   ]
  },
  {
   "cell_type": "code",
   "execution_count": 8,
   "id": "30c4852c",
   "metadata": {
    "execution": {
     "iopub.execute_input": "2022-03-04T14:32:09.529789Z",
     "iopub.status.busy": "2022-03-04T14:32:09.528764Z",
     "iopub.status.idle": "2022-03-04T14:32:09.530980Z",
     "shell.execute_reply": "2022-03-04T14:32:09.531493Z"
    },
    "papermill": {
     "duration": 0.057722,
     "end_time": "2022-03-04T14:32:09.531694",
     "exception": false,
     "start_time": "2022-03-04T14:32:09.473972",
     "status": "completed"
    },
    "tags": []
   },
   "outputs": [],
   "source": [
    "all_data = all_data.drop(nom_features, axis=1) # 기존 명목형 피처 삭제"
   ]
  },
  {
   "cell_type": "markdown",
   "id": "3694571d",
   "metadata": {
    "papermill": {
     "duration": 0.021241,
     "end_time": "2022-03-04T14:32:09.574476",
     "exception": false,
     "start_time": "2022-03-04T14:32:09.553235",
     "status": "completed"
    },
    "tags": []
   },
   "source": [
    "### 날짜 피처 인코딩"
   ]
  },
  {
   "cell_type": "code",
   "execution_count": 9,
   "id": "c575b571",
   "metadata": {
    "execution": {
     "iopub.execute_input": "2022-03-04T14:32:09.627045Z",
     "iopub.status.busy": "2022-03-04T14:32:09.626330Z",
     "iopub.status.idle": "2022-03-04T14:32:09.762285Z",
     "shell.execute_reply": "2022-03-04T14:32:09.761762Z"
    },
    "papermill": {
     "duration": 0.166383,
     "end_time": "2022-03-04T14:32:09.762429",
     "exception": false,
     "start_time": "2022-03-04T14:32:09.596046",
     "status": "completed"
    },
    "tags": []
   },
   "outputs": [
    {
     "data": {
      "text/plain": [
       "<500000x19 sparse matrix of type '<class 'numpy.float64'>'\n",
       "\twith 1000000 stored elements in Compressed Sparse Row format>"
      ]
     },
     "execution_count": 9,
     "metadata": {},
     "output_type": "execute_result"
    }
   ],
   "source": [
    "date_features  = ['day', 'month'] # 날짜 피처\n",
    "\n",
    "# 원-핫 인코딩 적용\n",
    "encoded_date_matrix = onehot_encoder.fit_transform(all_data[date_features])\n",
    "\n",
    "all_data = all_data.drop(date_features, axis=1) # 기존 날짜 피처 삭제\n",
    "\n",
    "encoded_date_matrix"
   ]
  },
  {
   "cell_type": "markdown",
   "id": "a7bf133b",
   "metadata": {
    "papermill": {
     "duration": 0.021506,
     "end_time": "2022-03-04T14:32:09.805952",
     "exception": false,
     "start_time": "2022-03-04T14:32:09.784446",
     "status": "completed"
    },
    "tags": []
   },
   "source": [
    "## 7.4.2 피처 엔지니어링 II : 피처 스케일링"
   ]
  },
  {
   "cell_type": "markdown",
   "id": "85a24445",
   "metadata": {
    "papermill": {
     "duration": 0.021307,
     "end_time": "2022-03-04T14:32:09.849146",
     "exception": false,
     "start_time": "2022-03-04T14:32:09.827839",
     "status": "completed"
    },
    "tags": []
   },
   "source": [
    "### 순서형 피처 스케일링"
   ]
  },
  {
   "cell_type": "code",
   "execution_count": 10,
   "id": "86a1ec26",
   "metadata": {
    "execution": {
     "iopub.execute_input": "2022-03-04T14:32:09.907200Z",
     "iopub.status.busy": "2022-03-04T14:32:09.906500Z",
     "iopub.status.idle": "2022-03-04T14:32:09.984583Z",
     "shell.execute_reply": "2022-03-04T14:32:09.984022Z"
    },
    "papermill": {
     "duration": 0.113824,
     "end_time": "2022-03-04T14:32:09.984731",
     "exception": false,
     "start_time": "2022-03-04T14:32:09.870907",
     "status": "completed"
    },
    "tags": []
   },
   "outputs": [],
   "source": [
    "from sklearn.preprocessing import MinMaxScaler\n",
    "\n",
    "ord_features = ['ord_' + str(i) for i in range(6)] # 순서형 피처\n",
    "# min-max 정규화\n",
    "all_data[ord_features] = MinMaxScaler().fit_transform(all_data[ord_features])"
   ]
  },
  {
   "cell_type": "markdown",
   "id": "e1276ff7",
   "metadata": {
    "papermill": {
     "duration": 0.021842,
     "end_time": "2022-03-04T14:32:10.028713",
     "exception": false,
     "start_time": "2022-03-04T14:32:10.006871",
     "status": "completed"
    },
    "tags": []
   },
   "source": [
    "### 인코딩 및 스케일링된 피처 합치기"
   ]
  },
  {
   "cell_type": "code",
   "execution_count": 11,
   "id": "26540a7e",
   "metadata": {
    "execution": {
     "iopub.execute_input": "2022-03-04T14:32:10.075658Z",
     "iopub.status.busy": "2022-03-04T14:32:10.075031Z",
     "iopub.status.idle": "2022-03-04T14:32:10.617168Z",
     "shell.execute_reply": "2022-03-04T14:32:10.616478Z"
    },
    "papermill": {
     "duration": 0.566669,
     "end_time": "2022-03-04T14:32:10.617319",
     "exception": false,
     "start_time": "2022-03-04T14:32:10.050650",
     "status": "completed"
    },
    "tags": []
   },
   "outputs": [],
   "source": [
    "from scipy import sparse\n",
    "\n",
    "# 인코딩 및 스케일링된 피처 합치기\n",
    "all_data_sprs = sparse.hstack([sparse.csr_matrix(all_data),\n",
    "                               encoded_nom_matrix,\n",
    "                               encoded_date_matrix],\n",
    "                              format='csr')"
   ]
  },
  {
   "cell_type": "code",
   "execution_count": 12,
   "id": "e6c1578b",
   "metadata": {
    "execution": {
     "iopub.execute_input": "2022-03-04T14:32:10.669325Z",
     "iopub.status.busy": "2022-03-04T14:32:10.666892Z",
     "iopub.status.idle": "2022-03-04T14:32:10.672591Z",
     "shell.execute_reply": "2022-03-04T14:32:10.673099Z"
    },
    "papermill": {
     "duration": 0.033283,
     "end_time": "2022-03-04T14:32:10.673265",
     "exception": false,
     "start_time": "2022-03-04T14:32:10.639982",
     "status": "completed"
    },
    "tags": []
   },
   "outputs": [
    {
     "data": {
      "text/plain": [
       "<500000x16306 sparse matrix of type '<class 'numpy.float64'>'\n",
       "\twith 9163718 stored elements in Compressed Sparse Row format>"
      ]
     },
     "execution_count": 12,
     "metadata": {},
     "output_type": "execute_result"
    }
   ],
   "source": [
    "all_data_sprs"
   ]
  },
  {
   "cell_type": "markdown",
   "id": "d9db2a46",
   "metadata": {
    "papermill": {
     "duration": 0.022317,
     "end_time": "2022-03-04T14:32:10.718203",
     "exception": false,
     "start_time": "2022-03-04T14:32:10.695886",
     "status": "completed"
    },
    "tags": []
   },
   "source": [
    "### 데이터 나누기"
   ]
  },
  {
   "cell_type": "code",
   "execution_count": 13,
   "id": "a1d47cb6",
   "metadata": {
    "execution": {
     "iopub.execute_input": "2022-03-04T14:32:10.772526Z",
     "iopub.status.busy": "2022-03-04T14:32:10.771850Z",
     "iopub.status.idle": "2022-03-04T14:32:10.852783Z",
     "shell.execute_reply": "2022-03-04T14:32:10.852215Z"
    },
    "papermill": {
     "duration": 0.112204,
     "end_time": "2022-03-04T14:32:10.852937",
     "exception": false,
     "start_time": "2022-03-04T14:32:10.740733",
     "status": "completed"
    },
    "tags": []
   },
   "outputs": [],
   "source": [
    "num_train = len(train) # 훈련 데이터 개수\n",
    "\n",
    "# 훈련 데이터와 테스트 데이터 나누기\n",
    "X_train = all_data_sprs[:num_train] # 0 ~ num_train - 1행\n",
    "X_test = all_data_sprs[num_train:] # num_train ~ 마지막 행\n",
    "\n",
    "y = train['target']"
   ]
  },
  {
   "cell_type": "code",
   "execution_count": 14,
   "id": "7200a39e",
   "metadata": {
    "execution": {
     "iopub.execute_input": "2022-03-04T14:32:10.902141Z",
     "iopub.status.busy": "2022-03-04T14:32:10.901399Z",
     "iopub.status.idle": "2022-03-04T14:32:11.241648Z",
     "shell.execute_reply": "2022-03-04T14:32:11.240244Z"
    },
    "papermill": {
     "duration": 0.366064,
     "end_time": "2022-03-04T14:32:11.241825",
     "exception": false,
     "start_time": "2022-03-04T14:32:10.875761",
     "status": "completed"
    },
    "tags": []
   },
   "outputs": [],
   "source": [
    "from sklearn.model_selection import train_test_split\n",
    "\n",
    "# 훈련 데이터, 검증 데이터 분리\n",
    "X_train, X_valid, y_train, y_valid = train_test_split(X_train, y,\n",
    "                                                      test_size=0.1,\n",
    "                                                      stratify=y,\n",
    "                                                      random_state=10)"
   ]
  },
  {
   "cell_type": "markdown",
   "id": "a8494ee6",
   "metadata": {
    "papermill": {
     "duration": 0.022609,
     "end_time": "2022-03-04T14:32:11.287486",
     "exception": false,
     "start_time": "2022-03-04T14:32:11.264877",
     "status": "completed"
    },
    "tags": []
   },
   "source": [
    "## 7.4.3 하이퍼 파라미터 최적화"
   ]
  },
  {
   "cell_type": "code",
   "execution_count": 15,
   "id": "bb380773",
   "metadata": {
    "execution": {
     "iopub.execute_input": "2022-03-04T14:32:11.344539Z",
     "iopub.status.busy": "2022-03-04T14:32:11.343744Z",
     "iopub.status.idle": "2022-03-04T14:39:12.887773Z",
     "shell.execute_reply": "2022-03-04T14:39:12.888298Z"
    },
    "papermill": {
     "duration": 421.575991,
     "end_time": "2022-03-04T14:39:12.888482",
     "exception": false,
     "start_time": "2022-03-04T14:32:11.312491",
     "status": "completed"
    },
    "tags": []
   },
   "outputs": [
    {
     "name": "stdout",
     "output_type": "stream",
     "text": [
      "최적 하이퍼파라미터: {'C': 0.125, 'max_iter': 800, 'random_state': 42, 'solver': 'liblinear'}\n",
      "CPU times: user 14min 29s, sys: 12min 39s, total: 27min 9s\n",
      "Wall time: 7min 1s\n"
     ]
    }
   ],
   "source": [
    "%%time\n",
    "\n",
    "from sklearn.model_selection import GridSearchCV\n",
    "from sklearn.linear_model import LogisticRegression\n",
    "\n",
    "# 로지스틱 회귀 모델 생성\n",
    "logistic_model = LogisticRegression()\n",
    "\n",
    "# 하이퍼파라미터 값 목록\n",
    "lr_params = {'C':[0.1, 0.125, 0.2], 'max_iter':[800, 900, 1000], \n",
    "             'solver':['liblinear'], 'random_state':[42]}\n",
    "\n",
    "# 그리드서치 객체 생성\n",
    "gridsearch_logistic_model = GridSearchCV(estimator=logistic_model,\n",
    "                                         param_grid=lr_params,\n",
    "                                         scoring='roc_auc', # 평가지표\n",
    "                                         cv=5)\n",
    "# 그리드서치 수행\n",
    "gridsearch_logistic_model.fit(X_train, y_train)\n",
    "\n",
    "print('최적 하이퍼파라미터:', gridsearch_logistic_model.best_params_)"
   ]
  },
  {
   "cell_type": "markdown",
   "id": "d0cf2bb9",
   "metadata": {
    "papermill": {
     "duration": 0.023214,
     "end_time": "2022-03-04T14:39:12.935510",
     "exception": false,
     "start_time": "2022-03-04T14:39:12.912296",
     "status": "completed"
    },
    "tags": []
   },
   "source": [
    "## 7.4.4 모델 성능 검증"
   ]
  },
  {
   "cell_type": "code",
   "execution_count": 16,
   "id": "ae6f3f23",
   "metadata": {
    "execution": {
     "iopub.execute_input": "2022-03-04T14:39:12.986963Z",
     "iopub.status.busy": "2022-03-04T14:39:12.986312Z",
     "iopub.status.idle": "2022-03-04T14:39:12.992263Z",
     "shell.execute_reply": "2022-03-04T14:39:12.991735Z"
    },
    "papermill": {
     "duration": 0.033615,
     "end_time": "2022-03-04T14:39:12.992410",
     "exception": false,
     "start_time": "2022-03-04T14:39:12.958795",
     "status": "completed"
    },
    "tags": []
   },
   "outputs": [],
   "source": [
    "y_valid_preds = gridsearch_logistic_model.predict_proba(X_valid)[:, 1]"
   ]
  },
  {
   "cell_type": "code",
   "execution_count": 17,
   "id": "dbbdbf00",
   "metadata": {
    "execution": {
     "iopub.execute_input": "2022-03-04T14:39:13.044807Z",
     "iopub.status.busy": "2022-03-04T14:39:13.044103Z",
     "iopub.status.idle": "2022-03-04T14:39:13.058998Z",
     "shell.execute_reply": "2022-03-04T14:39:13.058468Z"
    },
    "papermill": {
     "duration": 0.043132,
     "end_time": "2022-03-04T14:39:13.059138",
     "exception": false,
     "start_time": "2022-03-04T14:39:13.016006",
     "status": "completed"
    },
    "tags": []
   },
   "outputs": [
    {
     "name": "stdout",
     "output_type": "stream",
     "text": [
      "검증 데이터 ROC AUC : 0.8045\n"
     ]
    }
   ],
   "source": [
    "from sklearn.metrics import roc_auc_score # ROC AUC 점수 계산 함수\n",
    "\n",
    "# 검증 데이터 ROC AUC\n",
    "roc_auc = roc_auc_score(y_valid, y_valid_preds)\n",
    "\n",
    "print(f'검증 데이터 ROC AUC : {roc_auc:.4f}')"
   ]
  },
  {
   "cell_type": "markdown",
   "id": "395fd2bd",
   "metadata": {
    "papermill": {
     "duration": 0.02378,
     "end_time": "2022-03-04T14:39:13.106920",
     "exception": false,
     "start_time": "2022-03-04T14:39:13.083140",
     "status": "completed"
    },
    "tags": []
   },
   "source": [
    "## 7.4.5 예측 및 결과 제출"
   ]
  },
  {
   "cell_type": "code",
   "execution_count": 18,
   "id": "fea219d4",
   "metadata": {
    "execution": {
     "iopub.execute_input": "2022-03-04T14:39:13.159907Z",
     "iopub.status.busy": "2022-03-04T14:39:13.159169Z",
     "iopub.status.idle": "2022-03-04T14:39:13.992730Z",
     "shell.execute_reply": "2022-03-04T14:39:13.991738Z"
    },
    "papermill": {
     "duration": 0.862019,
     "end_time": "2022-03-04T14:39:13.992876",
     "exception": false,
     "start_time": "2022-03-04T14:39:13.130857",
     "status": "completed"
    },
    "tags": []
   },
   "outputs": [],
   "source": [
    "# 타깃값 1일 확률 예측\n",
    "y_preds = gridsearch_logistic_model.best_estimator_.predict_proba(X_test)[:,1]\n",
    "\n",
    "# 제출 파일 생성\n",
    "submission['target'] = y_preds\n",
    "submission.to_csv('submission.csv')"
   ]
  }
 ],
 "metadata": {
  "kernelspec": {
   "display_name": "Python 3",
   "language": "python",
   "name": "python3"
  },
  "language_info": {
   "codemirror_mode": {
    "name": "ipython",
    "version": 3
   },
   "file_extension": ".py",
   "mimetype": "text/x-python",
   "name": "python",
   "nbconvert_exporter": "python",
   "pygments_lexer": "ipython3",
   "version": "3.7.10"
  },
  "papermill": {
   "default_parameters": {},
   "duration": 444.03432,
   "end_time": "2022-03-04T14:39:15.236925",
   "environment_variables": {},
   "exception": null,
   "input_path": "__notebook__.ipynb",
   "output_path": "__notebook__.ipynb",
   "parameters": {},
   "start_time": "2022-03-04T14:31:51.202605",
   "version": "2.3.3"
  }
 },
 "nbformat": 4,
 "nbformat_minor": 5
}
