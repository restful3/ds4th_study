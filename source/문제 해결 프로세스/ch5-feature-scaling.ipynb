{
 "cells": [
  {
   "cell_type": "markdown",
   "id": "519c83e1",
   "metadata": {
    "papermill": {
     "duration": 0.005158,
     "end_time": "2022-03-04T02:47:14.527110",
     "exception": false,
     "start_time": "2022-03-04T02:47:14.521952",
     "status": "completed"
    },
    "tags": []
   },
   "source": [
    "# 5.4 피처 스케일링"
   ]
  },
  {
   "cell_type": "markdown",
   "id": "8931865c",
   "metadata": {
    "papermill": {
     "duration": 0.003785,
     "end_time": "2022-03-04T02:47:14.535476",
     "exception": false,
     "start_time": "2022-03-04T02:47:14.531691",
     "status": "completed"
    },
    "tags": []
   },
   "source": [
    "## 5.4.1 min-max 정규화"
   ]
  },
  {
   "cell_type": "code",
   "execution_count": 1,
   "id": "935a0909",
   "metadata": {
    "execution": {
     "iopub.execute_input": "2022-03-04T02:47:14.547689Z",
     "iopub.status.busy": "2022-03-04T02:47:14.546569Z",
     "iopub.status.idle": "2022-03-04T02:47:14.567404Z",
     "shell.execute_reply": "2022-03-04T02:47:14.566710Z"
    },
    "papermill": {
     "duration": 0.028108,
     "end_time": "2022-03-04T02:47:14.567576",
     "exception": false,
     "start_time": "2022-03-04T02:47:14.539468",
     "status": "completed"
    },
    "tags": []
   },
   "outputs": [
    {
     "name": "stdout",
     "output_type": "stream",
     "text": [
      "      키  몸무게\n",
      "광일  1.7   75\n",
      "혜성  1.5   55\n",
      "덕수  1.8   60\n"
     ]
    }
   ],
   "source": [
    "import pandas as pd\n",
    "\n",
    "height_weight_dict = {'키': [1.7, 1.5, 1.8], '몸무게': [75, 55, 60]}\n",
    "df = pd.DataFrame(height_weight_dict, index=['광일', '혜성', '덕수'])\n",
    "\n",
    "print(df)"
   ]
  },
  {
   "cell_type": "code",
   "execution_count": 2,
   "id": "132d1217",
   "metadata": {
    "execution": {
     "iopub.execute_input": "2022-03-04T02:47:14.582996Z",
     "iopub.status.busy": "2022-03-04T02:47:14.582296Z",
     "iopub.status.idle": "2022-03-04T02:47:15.463568Z",
     "shell.execute_reply": "2022-03-04T02:47:15.464273Z"
    },
    "papermill": {
     "duration": 0.891376,
     "end_time": "2022-03-04T02:47:15.464517",
     "exception": false,
     "start_time": "2022-03-04T02:47:14.573141",
     "status": "completed"
    },
    "tags": []
   },
   "outputs": [
    {
     "name": "stdout",
     "output_type": "stream",
     "text": [
      "[[0.66666667 1.        ]\n",
      " [0.         0.        ]\n",
      " [1.         0.25      ]]\n"
     ]
    }
   ],
   "source": [
    "from sklearn.preprocessing import MinMaxScaler\n",
    "\n",
    "# min-max 정규화 객체 생성\n",
    "scaler = MinMaxScaler()\n",
    "\n",
    "# min-max 정규화 적용\n",
    "scaler.fit(df)\n",
    "df_scaled = scaler.transform(df)\n",
    "\n",
    "print(df_scaled)"
   ]
  },
  {
   "cell_type": "code",
   "execution_count": 3,
   "id": "339f086b",
   "metadata": {
    "execution": {
     "iopub.execute_input": "2022-03-04T02:47:15.486170Z",
     "iopub.status.busy": "2022-03-04T02:47:15.485398Z",
     "iopub.status.idle": "2022-03-04T02:47:15.489515Z",
     "shell.execute_reply": "2022-03-04T02:47:15.488797Z"
    },
    "papermill": {
     "duration": 0.01937,
     "end_time": "2022-03-04T02:47:15.489709",
     "exception": false,
     "start_time": "2022-03-04T02:47:15.470339",
     "status": "completed"
    },
    "tags": []
   },
   "outputs": [
    {
     "name": "stdout",
     "output_type": "stream",
     "text": [
      "[[0.66666667 1.        ]\n",
      " [0.         0.        ]\n",
      " [1.         0.25      ]]\n"
     ]
    }
   ],
   "source": [
    "# min-max 정규화 객체 생성\n",
    "scaler = MinMaxScaler()\n",
    "\n",
    "# min-max 정규화 적용\n",
    "df_scaled = scaler.fit_transform(df)\n",
    "\n",
    "print(df_scaled)"
   ]
  },
  {
   "cell_type": "markdown",
   "id": "40ee5e39",
   "metadata": {
    "papermill": {
     "duration": 0.005119,
     "end_time": "2022-03-04T02:47:15.501183",
     "exception": false,
     "start_time": "2022-03-04T02:47:15.496064",
     "status": "completed"
    },
    "tags": []
   },
   "source": [
    "## 5.4.2 표준화"
   ]
  },
  {
   "cell_type": "code",
   "execution_count": 4,
   "id": "ba91a378",
   "metadata": {
    "execution": {
     "iopub.execute_input": "2022-03-04T02:47:15.519007Z",
     "iopub.status.busy": "2022-03-04T02:47:15.514922Z",
     "iopub.status.idle": "2022-03-04T02:47:15.524969Z",
     "shell.execute_reply": "2022-03-04T02:47:15.525544Z"
    },
    "papermill": {
     "duration": 0.019091,
     "end_time": "2022-03-04T02:47:15.525725",
     "exception": false,
     "start_time": "2022-03-04T02:47:15.506634",
     "status": "completed"
    },
    "tags": []
   },
   "outputs": [
    {
     "name": "stdout",
     "output_type": "stream",
     "text": [
      "[[ 0.26726124  1.37281295]\n",
      " [-1.33630621 -0.98058068]\n",
      " [ 1.06904497 -0.39223227]]\n"
     ]
    }
   ],
   "source": [
    "from sklearn.preprocessing import StandardScaler\n",
    "\n",
    "# StandardScaler 객체 생성\n",
    "scaler = StandardScaler()\n",
    "\n",
    "# 표준화 적용\n",
    "df_scaled = scaler.fit_transform(df)\n",
    "\n",
    "print(df_scaled)"
   ]
  }
 ],
 "metadata": {
  "kernelspec": {
   "display_name": "Python 3",
   "language": "python",
   "name": "python3"
  },
  "language_info": {
   "codemirror_mode": {
    "name": "ipython",
    "version": 3
   },
   "file_extension": ".py",
   "mimetype": "text/x-python",
   "name": "python",
   "nbconvert_exporter": "python",
   "pygments_lexer": "ipython3",
   "version": "3.7.10"
  },
  "papermill": {
   "default_parameters": {},
   "duration": 9.555508,
   "end_time": "2022-03-04T02:47:16.140324",
   "environment_variables": {},
   "exception": null,
   "input_path": "__notebook__.ipynb",
   "output_path": "__notebook__.ipynb",
   "parameters": {},
   "start_time": "2022-03-04T02:47:06.584816",
   "version": "2.3.3"
  }
 },
 "nbformat": 4,
 "nbformat_minor": 5
}
