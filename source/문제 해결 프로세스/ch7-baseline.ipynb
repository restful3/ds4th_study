{
 "cells": [
  {
   "cell_type": "markdown",
   "id": "0e00ec43",
   "metadata": {
    "papermill": {
     "duration": 0.024324,
     "end_time": "2022-03-04T14:03:53.559712",
     "exception": false,
     "start_time": "2022-03-04T14:03:53.535388",
     "status": "completed"
    },
    "tags": []
   },
   "source": [
    "# 7.3 범주형 데이터 이진분류 경진대회 베이스라인 모델"
   ]
  },
  {
   "cell_type": "markdown",
   "id": "33937671",
   "metadata": {
    "papermill": {
     "duration": 0.015066,
     "end_time": "2022-03-04T14:03:53.590715",
     "exception": false,
     "start_time": "2022-03-04T14:03:53.575649",
     "status": "completed"
    },
    "tags": []
   },
   "source": [
    "- [범주형 데이터 이진분류 경진대회 링크](https://www.kaggle.com/c/cat-in-the-dat/)"
   ]
  },
  {
   "cell_type": "code",
   "execution_count": 1,
   "id": "fd9d17fc",
   "metadata": {
    "execution": {
     "iopub.execute_input": "2022-03-04T14:03:53.634821Z",
     "iopub.status.busy": "2022-03-04T14:03:53.634104Z",
     "iopub.status.idle": "2022-03-04T14:03:55.963506Z",
     "shell.execute_reply": "2022-03-04T14:03:55.962745Z"
    },
    "papermill": {
     "duration": 2.355333,
     "end_time": "2022-03-04T14:03:55.963690",
     "exception": false,
     "start_time": "2022-03-04T14:03:53.608357",
     "status": "completed"
    },
    "tags": []
   },
   "outputs": [],
   "source": [
    "import pandas as pd\n",
    "# 데이터 경로\n",
    "data_path = '/kaggle/input/cat-in-the-dat/'\n",
    "\n",
    "train = pd.read_csv(data_path + 'train.csv', index_col='id')\n",
    "test = pd.read_csv(data_path + 'test.csv', index_col='id')\n",
    "submission = pd.read_csv(data_path + 'sample_submission.csv', index_col='id')"
   ]
  },
  {
   "cell_type": "markdown",
   "id": "056e3ee1",
   "metadata": {
    "papermill": {
     "duration": 0.014819,
     "end_time": "2022-03-04T14:03:55.993290",
     "exception": false,
     "start_time": "2022-03-04T14:03:55.978471",
     "status": "completed"
    },
    "tags": []
   },
   "source": [
    "## 7.3.1 피처 엔지니어링"
   ]
  },
  {
   "cell_type": "markdown",
   "id": "57742640",
   "metadata": {
    "papermill": {
     "duration": 0.014539,
     "end_time": "2022-03-04T14:03:56.022740",
     "exception": false,
     "start_time": "2022-03-04T14:03:56.008201",
     "status": "completed"
    },
    "tags": []
   },
   "source": [
    "### 데이터 합치기"
   ]
  },
  {
   "cell_type": "code",
   "execution_count": 2,
   "id": "f8c05754",
   "metadata": {
    "execution": {
     "iopub.execute_input": "2022-03-04T14:03:56.057706Z",
     "iopub.status.busy": "2022-03-04T14:03:56.056981Z",
     "iopub.status.idle": "2022-03-04T14:03:57.048621Z",
     "shell.execute_reply": "2022-03-04T14:03:57.049199Z"
    },
    "papermill": {
     "duration": 1.012026,
     "end_time": "2022-03-04T14:03:57.049396",
     "exception": false,
     "start_time": "2022-03-04T14:03:56.037370",
     "status": "completed"
    },
    "tags": []
   },
   "outputs": [
    {
     "data": {
      "text/html": [
       "<div>\n",
       "<style scoped>\n",
       "    .dataframe tbody tr th:only-of-type {\n",
       "        vertical-align: middle;\n",
       "    }\n",
       "\n",
       "    .dataframe tbody tr th {\n",
       "        vertical-align: top;\n",
       "    }\n",
       "\n",
       "    .dataframe thead th {\n",
       "        text-align: right;\n",
       "    }\n",
       "</style>\n",
       "<table border=\"1\" class=\"dataframe\">\n",
       "  <thead>\n",
       "    <tr style=\"text-align: right;\">\n",
       "      <th></th>\n",
       "      <th>bin_0</th>\n",
       "      <th>bin_1</th>\n",
       "      <th>bin_2</th>\n",
       "      <th>bin_3</th>\n",
       "      <th>bin_4</th>\n",
       "      <th>nom_0</th>\n",
       "      <th>nom_1</th>\n",
       "      <th>nom_2</th>\n",
       "      <th>nom_3</th>\n",
       "      <th>nom_4</th>\n",
       "      <th>...</th>\n",
       "      <th>nom_8</th>\n",
       "      <th>nom_9</th>\n",
       "      <th>ord_0</th>\n",
       "      <th>ord_1</th>\n",
       "      <th>ord_2</th>\n",
       "      <th>ord_3</th>\n",
       "      <th>ord_4</th>\n",
       "      <th>ord_5</th>\n",
       "      <th>day</th>\n",
       "      <th>month</th>\n",
       "    </tr>\n",
       "    <tr>\n",
       "      <th>id</th>\n",
       "      <th></th>\n",
       "      <th></th>\n",
       "      <th></th>\n",
       "      <th></th>\n",
       "      <th></th>\n",
       "      <th></th>\n",
       "      <th></th>\n",
       "      <th></th>\n",
       "      <th></th>\n",
       "      <th></th>\n",
       "      <th></th>\n",
       "      <th></th>\n",
       "      <th></th>\n",
       "      <th></th>\n",
       "      <th></th>\n",
       "      <th></th>\n",
       "      <th></th>\n",
       "      <th></th>\n",
       "      <th></th>\n",
       "      <th></th>\n",
       "      <th></th>\n",
       "    </tr>\n",
       "  </thead>\n",
       "  <tbody>\n",
       "    <tr>\n",
       "      <th>0</th>\n",
       "      <td>0</td>\n",
       "      <td>0</td>\n",
       "      <td>0</td>\n",
       "      <td>T</td>\n",
       "      <td>Y</td>\n",
       "      <td>Green</td>\n",
       "      <td>Triangle</td>\n",
       "      <td>Snake</td>\n",
       "      <td>Finland</td>\n",
       "      <td>Bassoon</td>\n",
       "      <td>...</td>\n",
       "      <td>c389000ab</td>\n",
       "      <td>2f4cb3d51</td>\n",
       "      <td>2</td>\n",
       "      <td>Grandmaster</td>\n",
       "      <td>Cold</td>\n",
       "      <td>h</td>\n",
       "      <td>D</td>\n",
       "      <td>kr</td>\n",
       "      <td>2</td>\n",
       "      <td>2</td>\n",
       "    </tr>\n",
       "    <tr>\n",
       "      <th>1</th>\n",
       "      <td>0</td>\n",
       "      <td>1</td>\n",
       "      <td>0</td>\n",
       "      <td>T</td>\n",
       "      <td>Y</td>\n",
       "      <td>Green</td>\n",
       "      <td>Trapezoid</td>\n",
       "      <td>Hamster</td>\n",
       "      <td>Russia</td>\n",
       "      <td>Piano</td>\n",
       "      <td>...</td>\n",
       "      <td>4cd920251</td>\n",
       "      <td>f83c56c21</td>\n",
       "      <td>1</td>\n",
       "      <td>Grandmaster</td>\n",
       "      <td>Hot</td>\n",
       "      <td>a</td>\n",
       "      <td>A</td>\n",
       "      <td>bF</td>\n",
       "      <td>7</td>\n",
       "      <td>8</td>\n",
       "    </tr>\n",
       "    <tr>\n",
       "      <th>2</th>\n",
       "      <td>0</td>\n",
       "      <td>0</td>\n",
       "      <td>0</td>\n",
       "      <td>F</td>\n",
       "      <td>Y</td>\n",
       "      <td>Blue</td>\n",
       "      <td>Trapezoid</td>\n",
       "      <td>Lion</td>\n",
       "      <td>Russia</td>\n",
       "      <td>Theremin</td>\n",
       "      <td>...</td>\n",
       "      <td>de9c9f684</td>\n",
       "      <td>ae6800dd0</td>\n",
       "      <td>1</td>\n",
       "      <td>Expert</td>\n",
       "      <td>Lava Hot</td>\n",
       "      <td>h</td>\n",
       "      <td>R</td>\n",
       "      <td>Jc</td>\n",
       "      <td>7</td>\n",
       "      <td>2</td>\n",
       "    </tr>\n",
       "    <tr>\n",
       "      <th>3</th>\n",
       "      <td>0</td>\n",
       "      <td>1</td>\n",
       "      <td>0</td>\n",
       "      <td>F</td>\n",
       "      <td>Y</td>\n",
       "      <td>Red</td>\n",
       "      <td>Trapezoid</td>\n",
       "      <td>Snake</td>\n",
       "      <td>Canada</td>\n",
       "      <td>Oboe</td>\n",
       "      <td>...</td>\n",
       "      <td>4ade6ab69</td>\n",
       "      <td>8270f0d71</td>\n",
       "      <td>1</td>\n",
       "      <td>Grandmaster</td>\n",
       "      <td>Boiling Hot</td>\n",
       "      <td>i</td>\n",
       "      <td>D</td>\n",
       "      <td>kW</td>\n",
       "      <td>2</td>\n",
       "      <td>1</td>\n",
       "    </tr>\n",
       "    <tr>\n",
       "      <th>4</th>\n",
       "      <td>0</td>\n",
       "      <td>0</td>\n",
       "      <td>0</td>\n",
       "      <td>F</td>\n",
       "      <td>N</td>\n",
       "      <td>Red</td>\n",
       "      <td>Trapezoid</td>\n",
       "      <td>Lion</td>\n",
       "      <td>Canada</td>\n",
       "      <td>Oboe</td>\n",
       "      <td>...</td>\n",
       "      <td>cb43ab175</td>\n",
       "      <td>b164b72a7</td>\n",
       "      <td>1</td>\n",
       "      <td>Grandmaster</td>\n",
       "      <td>Freezing</td>\n",
       "      <td>a</td>\n",
       "      <td>R</td>\n",
       "      <td>qP</td>\n",
       "      <td>7</td>\n",
       "      <td>8</td>\n",
       "    </tr>\n",
       "    <tr>\n",
       "      <th>...</th>\n",
       "      <td>...</td>\n",
       "      <td>...</td>\n",
       "      <td>...</td>\n",
       "      <td>...</td>\n",
       "      <td>...</td>\n",
       "      <td>...</td>\n",
       "      <td>...</td>\n",
       "      <td>...</td>\n",
       "      <td>...</td>\n",
       "      <td>...</td>\n",
       "      <td>...</td>\n",
       "      <td>...</td>\n",
       "      <td>...</td>\n",
       "      <td>...</td>\n",
       "      <td>...</td>\n",
       "      <td>...</td>\n",
       "      <td>...</td>\n",
       "      <td>...</td>\n",
       "      <td>...</td>\n",
       "      <td>...</td>\n",
       "      <td>...</td>\n",
       "    </tr>\n",
       "    <tr>\n",
       "      <th>499995</th>\n",
       "      <td>0</td>\n",
       "      <td>0</td>\n",
       "      <td>0</td>\n",
       "      <td>F</td>\n",
       "      <td>N</td>\n",
       "      <td>Green</td>\n",
       "      <td>Square</td>\n",
       "      <td>Lion</td>\n",
       "      <td>Canada</td>\n",
       "      <td>Theremin</td>\n",
       "      <td>...</td>\n",
       "      <td>9e4b23160</td>\n",
       "      <td>acc31291f</td>\n",
       "      <td>1</td>\n",
       "      <td>Novice</td>\n",
       "      <td>Lava Hot</td>\n",
       "      <td>j</td>\n",
       "      <td>A</td>\n",
       "      <td>Gb</td>\n",
       "      <td>1</td>\n",
       "      <td>3</td>\n",
       "    </tr>\n",
       "    <tr>\n",
       "      <th>499996</th>\n",
       "      <td>1</td>\n",
       "      <td>0</td>\n",
       "      <td>0</td>\n",
       "      <td>F</td>\n",
       "      <td>Y</td>\n",
       "      <td>Green</td>\n",
       "      <td>Trapezoid</td>\n",
       "      <td>Lion</td>\n",
       "      <td>China</td>\n",
       "      <td>Piano</td>\n",
       "      <td>...</td>\n",
       "      <td>cfbd87ed0</td>\n",
       "      <td>eae3446d0</td>\n",
       "      <td>1</td>\n",
       "      <td>Contributor</td>\n",
       "      <td>Lava Hot</td>\n",
       "      <td>f</td>\n",
       "      <td>S</td>\n",
       "      <td>Ed</td>\n",
       "      <td>2</td>\n",
       "      <td>2</td>\n",
       "    </tr>\n",
       "    <tr>\n",
       "      <th>499997</th>\n",
       "      <td>0</td>\n",
       "      <td>1</td>\n",
       "      <td>1</td>\n",
       "      <td>T</td>\n",
       "      <td>Y</td>\n",
       "      <td>Green</td>\n",
       "      <td>Trapezoid</td>\n",
       "      <td>Lion</td>\n",
       "      <td>Canada</td>\n",
       "      <td>Oboe</td>\n",
       "      <td>...</td>\n",
       "      <td>1108bcd6c</td>\n",
       "      <td>33dd3cf4b</td>\n",
       "      <td>1</td>\n",
       "      <td>Novice</td>\n",
       "      <td>Boiling Hot</td>\n",
       "      <td>g</td>\n",
       "      <td>V</td>\n",
       "      <td>TR</td>\n",
       "      <td>3</td>\n",
       "      <td>1</td>\n",
       "    </tr>\n",
       "    <tr>\n",
       "      <th>499998</th>\n",
       "      <td>1</td>\n",
       "      <td>0</td>\n",
       "      <td>0</td>\n",
       "      <td>T</td>\n",
       "      <td>Y</td>\n",
       "      <td>Blue</td>\n",
       "      <td>Star</td>\n",
       "      <td>Hamster</td>\n",
       "      <td>Costa Rica</td>\n",
       "      <td>Bassoon</td>\n",
       "      <td>...</td>\n",
       "      <td>606ac930b</td>\n",
       "      <td>d4cf587dd</td>\n",
       "      <td>2</td>\n",
       "      <td>Grandmaster</td>\n",
       "      <td>Boiling Hot</td>\n",
       "      <td>g</td>\n",
       "      <td>X</td>\n",
       "      <td>Ye</td>\n",
       "      <td>2</td>\n",
       "      <td>1</td>\n",
       "    </tr>\n",
       "    <tr>\n",
       "      <th>499999</th>\n",
       "      <td>0</td>\n",
       "      <td>0</td>\n",
       "      <td>0</td>\n",
       "      <td>T</td>\n",
       "      <td>Y</td>\n",
       "      <td>Green</td>\n",
       "      <td>Star</td>\n",
       "      <td>Lion</td>\n",
       "      <td>India</td>\n",
       "      <td>Piano</td>\n",
       "      <td>...</td>\n",
       "      <td>4ea576eb6</td>\n",
       "      <td>2d610f52c</td>\n",
       "      <td>2</td>\n",
       "      <td>Novice</td>\n",
       "      <td>Freezing</td>\n",
       "      <td>l</td>\n",
       "      <td>J</td>\n",
       "      <td>ex</td>\n",
       "      <td>2</td>\n",
       "      <td>2</td>\n",
       "    </tr>\n",
       "  </tbody>\n",
       "</table>\n",
       "<p>500000 rows × 23 columns</p>\n",
       "</div>"
      ],
      "text/plain": [
       "        bin_0  bin_1  bin_2 bin_3 bin_4  nom_0      nom_1    nom_2  \\\n",
       "id                                                                   \n",
       "0           0      0      0     T     Y  Green   Triangle    Snake   \n",
       "1           0      1      0     T     Y  Green  Trapezoid  Hamster   \n",
       "2           0      0      0     F     Y   Blue  Trapezoid     Lion   \n",
       "3           0      1      0     F     Y    Red  Trapezoid    Snake   \n",
       "4           0      0      0     F     N    Red  Trapezoid     Lion   \n",
       "...       ...    ...    ...   ...   ...    ...        ...      ...   \n",
       "499995      0      0      0     F     N  Green     Square     Lion   \n",
       "499996      1      0      0     F     Y  Green  Trapezoid     Lion   \n",
       "499997      0      1      1     T     Y  Green  Trapezoid     Lion   \n",
       "499998      1      0      0     T     Y   Blue       Star  Hamster   \n",
       "499999      0      0      0     T     Y  Green       Star     Lion   \n",
       "\n",
       "             nom_3     nom_4  ...      nom_8      nom_9 ord_0        ord_1  \\\n",
       "id                            ...                                            \n",
       "0          Finland   Bassoon  ...  c389000ab  2f4cb3d51     2  Grandmaster   \n",
       "1           Russia     Piano  ...  4cd920251  f83c56c21     1  Grandmaster   \n",
       "2           Russia  Theremin  ...  de9c9f684  ae6800dd0     1       Expert   \n",
       "3           Canada      Oboe  ...  4ade6ab69  8270f0d71     1  Grandmaster   \n",
       "4           Canada      Oboe  ...  cb43ab175  b164b72a7     1  Grandmaster   \n",
       "...            ...       ...  ...        ...        ...   ...          ...   \n",
       "499995      Canada  Theremin  ...  9e4b23160  acc31291f     1       Novice   \n",
       "499996       China     Piano  ...  cfbd87ed0  eae3446d0     1  Contributor   \n",
       "499997      Canada      Oboe  ...  1108bcd6c  33dd3cf4b     1       Novice   \n",
       "499998  Costa Rica   Bassoon  ...  606ac930b  d4cf587dd     2  Grandmaster   \n",
       "499999       India     Piano  ...  4ea576eb6  2d610f52c     2       Novice   \n",
       "\n",
       "              ord_2  ord_3 ord_4 ord_5 day month  \n",
       "id                                                \n",
       "0              Cold      h     D    kr   2     2  \n",
       "1               Hot      a     A    bF   7     8  \n",
       "2          Lava Hot      h     R    Jc   7     2  \n",
       "3       Boiling Hot      i     D    kW   2     1  \n",
       "4          Freezing      a     R    qP   7     8  \n",
       "...             ...    ...   ...   ...  ..   ...  \n",
       "499995     Lava Hot      j     A    Gb   1     3  \n",
       "499996     Lava Hot      f     S    Ed   2     2  \n",
       "499997  Boiling Hot      g     V    TR   3     1  \n",
       "499998  Boiling Hot      g     X    Ye   2     1  \n",
       "499999     Freezing      l     J    ex   2     2  \n",
       "\n",
       "[500000 rows x 23 columns]"
      ]
     },
     "execution_count": 2,
     "metadata": {},
     "output_type": "execute_result"
    }
   ],
   "source": [
    "all_data = pd.concat([train, test]) # 훈련 데이터와 테스트 데이터 합치기 \n",
    "all_data = all_data.drop('target', axis=1) # 타깃값 제거\n",
    "all_data"
   ]
  },
  {
   "cell_type": "markdown",
   "id": "2166a7ab",
   "metadata": {
    "papermill": {
     "duration": 0.015343,
     "end_time": "2022-03-04T14:03:57.081867",
     "exception": false,
     "start_time": "2022-03-04T14:03:57.066524",
     "status": "completed"
    },
    "tags": []
   },
   "source": [
    "### 원-핫 인코딩"
   ]
  },
  {
   "cell_type": "code",
   "execution_count": 3,
   "id": "7a4d3705",
   "metadata": {
    "execution": {
     "iopub.execute_input": "2022-03-04T14:03:57.118748Z",
     "iopub.status.busy": "2022-03-04T14:03:57.117831Z",
     "iopub.status.idle": "2022-03-04T14:04:02.104048Z",
     "shell.execute_reply": "2022-03-04T14:04:02.104573Z"
    },
    "papermill": {
     "duration": 5.007453,
     "end_time": "2022-03-04T14:04:02.104785",
     "exception": false,
     "start_time": "2022-03-04T14:03:57.097332",
     "status": "completed"
    },
    "tags": []
   },
   "outputs": [],
   "source": [
    "from sklearn.preprocessing import OneHotEncoder\n",
    "\n",
    "encoder = OneHotEncoder() # 원-핫 인코더 생성\n",
    "all_data_encoded = encoder.fit_transform(all_data) # 원-핫 인코딩 적용"
   ]
  },
  {
   "cell_type": "markdown",
   "id": "34d0a49c",
   "metadata": {
    "papermill": {
     "duration": 0.01743,
     "end_time": "2022-03-04T14:04:02.138935",
     "exception": false,
     "start_time": "2022-03-04T14:04:02.121505",
     "status": "completed"
    },
    "tags": []
   },
   "source": [
    "### 데이터 나누기"
   ]
  },
  {
   "cell_type": "code",
   "execution_count": 4,
   "id": "7ad78cb5",
   "metadata": {
    "execution": {
     "iopub.execute_input": "2022-03-04T14:04:02.187536Z",
     "iopub.status.busy": "2022-03-04T14:04:02.186665Z",
     "iopub.status.idle": "2022-03-04T14:04:02.371378Z",
     "shell.execute_reply": "2022-03-04T14:04:02.371901Z"
    },
    "papermill": {
     "duration": 0.215331,
     "end_time": "2022-03-04T14:04:02.372098",
     "exception": false,
     "start_time": "2022-03-04T14:04:02.156767",
     "status": "completed"
    },
    "tags": []
   },
   "outputs": [],
   "source": [
    "num_train = len(train) # 훈련 데이터 개수\n",
    "\n",
    "# 훈련 데이터와 테스트 데이터 나누기\n",
    "X_train = all_data_encoded[:num_train] # 0 ~ num_train - 1행\n",
    "X_test = all_data_encoded[num_train:] # num_train ~ 마지막 행\n",
    "\n",
    "y = train['target']"
   ]
  },
  {
   "cell_type": "code",
   "execution_count": 5,
   "id": "afad5369",
   "metadata": {
    "execution": {
     "iopub.execute_input": "2022-03-04T14:04:02.409119Z",
     "iopub.status.busy": "2022-03-04T14:04:02.408301Z",
     "iopub.status.idle": "2022-03-04T14:04:02.714008Z",
     "shell.execute_reply": "2022-03-04T14:04:02.713184Z"
    },
    "papermill": {
     "duration": 0.326226,
     "end_time": "2022-03-04T14:04:02.714175",
     "exception": false,
     "start_time": "2022-03-04T14:04:02.387949",
     "status": "completed"
    },
    "tags": []
   },
   "outputs": [],
   "source": [
    "from sklearn.model_selection import train_test_split\n",
    "\n",
    "# 훈련 데이터, 검증 데이터 분리\n",
    "X_train, X_valid, y_train, y_valid = train_test_split(X_train, y,\n",
    "                                                      test_size=0.1,\n",
    "                                                      stratify=y,\n",
    "                                                      random_state=10)"
   ]
  },
  {
   "cell_type": "markdown",
   "id": "77f2244b",
   "metadata": {
    "papermill": {
     "duration": 0.016305,
     "end_time": "2022-03-04T14:04:02.747156",
     "exception": false,
     "start_time": "2022-03-04T14:04:02.730851",
     "status": "completed"
    },
    "tags": []
   },
   "source": [
    "## 7.3.2 모델 훈련"
   ]
  },
  {
   "cell_type": "code",
   "execution_count": 6,
   "id": "74309997",
   "metadata": {
    "execution": {
     "iopub.execute_input": "2022-03-04T14:04:02.785984Z",
     "iopub.status.busy": "2022-03-04T14:04:02.785213Z",
     "iopub.status.idle": "2022-03-04T14:05:08.153724Z",
     "shell.execute_reply": "2022-03-04T14:05:08.154715Z"
    },
    "papermill": {
     "duration": 65.391002,
     "end_time": "2022-03-04T14:05:08.155058",
     "exception": false,
     "start_time": "2022-03-04T14:04:02.764056",
     "status": "completed"
    },
    "tags": []
   },
   "outputs": [
    {
     "data": {
      "text/plain": [
       "LogisticRegression(max_iter=1000, random_state=42)"
      ]
     },
     "execution_count": 6,
     "metadata": {},
     "output_type": "execute_result"
    }
   ],
   "source": [
    "from sklearn.linear_model import LogisticRegression\n",
    "\n",
    "logistic_model = LogisticRegression(max_iter=1000, random_state=42) # 모델 생성\n",
    "logistic_model.fit(X_train, y_train) # 모델 훈련"
   ]
  },
  {
   "cell_type": "markdown",
   "id": "b85bc99c",
   "metadata": {
    "papermill": {
     "duration": 0.03109,
     "end_time": "2022-03-04T14:05:08.217582",
     "exception": false,
     "start_time": "2022-03-04T14:05:08.186492",
     "status": "completed"
    },
    "tags": []
   },
   "source": [
    "## 7.3.3 모델 성능 검증"
   ]
  },
  {
   "cell_type": "code",
   "execution_count": 7,
   "id": "8ad45968",
   "metadata": {
    "execution": {
     "iopub.execute_input": "2022-03-04T14:05:08.261612Z",
     "iopub.status.busy": "2022-03-04T14:05:08.260588Z",
     "iopub.status.idle": "2022-03-04T14:05:08.268315Z",
     "shell.execute_reply": "2022-03-04T14:05:08.268969Z"
    },
    "papermill": {
     "duration": 0.02996,
     "end_time": "2022-03-04T14:05:08.269156",
     "exception": false,
     "start_time": "2022-03-04T14:05:08.239196",
     "status": "completed"
    },
    "tags": []
   },
   "outputs": [
    {
     "data": {
      "text/plain": [
       "array([[0.23262216, 0.76737784],\n",
       "       [0.91407764, 0.08592236],\n",
       "       [0.83025174, 0.16974826],\n",
       "       ...,\n",
       "       [0.24875927, 0.75124073],\n",
       "       [0.49441807, 0.50558193],\n",
       "       [0.95661255, 0.04338745]])"
      ]
     },
     "execution_count": 7,
     "metadata": {},
     "output_type": "execute_result"
    }
   ],
   "source": [
    "logistic_model.predict_proba(X_valid)"
   ]
  },
  {
   "cell_type": "code",
   "execution_count": 8,
   "id": "11550d7c",
   "metadata": {
    "execution": {
     "iopub.execute_input": "2022-03-04T14:05:08.307228Z",
     "iopub.status.busy": "2022-03-04T14:05:08.306093Z",
     "iopub.status.idle": "2022-03-04T14:05:08.314602Z",
     "shell.execute_reply": "2022-03-04T14:05:08.315306Z"
    },
    "papermill": {
     "duration": 0.029595,
     "end_time": "2022-03-04T14:05:08.315507",
     "exception": false,
     "start_time": "2022-03-04T14:05:08.285912",
     "status": "completed"
    },
    "tags": []
   },
   "outputs": [
    {
     "data": {
      "text/plain": [
       "array([1, 0, 0, ..., 1, 1, 0])"
      ]
     },
     "execution_count": 8,
     "metadata": {},
     "output_type": "execute_result"
    }
   ],
   "source": [
    "logistic_model.predict(X_valid)"
   ]
  },
  {
   "cell_type": "code",
   "execution_count": 9,
   "id": "a45bb8e0",
   "metadata": {
    "execution": {
     "iopub.execute_input": "2022-03-04T14:05:08.355654Z",
     "iopub.status.busy": "2022-03-04T14:05:08.354580Z",
     "iopub.status.idle": "2022-03-04T14:05:08.361599Z",
     "shell.execute_reply": "2022-03-04T14:05:08.362192Z"
    },
    "papermill": {
     "duration": 0.028984,
     "end_time": "2022-03-04T14:05:08.362379",
     "exception": false,
     "start_time": "2022-03-04T14:05:08.333395",
     "status": "completed"
    },
    "tags": []
   },
   "outputs": [],
   "source": [
    "# 검증 데이터를 활용한 타깃 예측 \n",
    "y_valid_preds = logistic_model.predict_proba(X_valid)[:, 1]"
   ]
  },
  {
   "cell_type": "code",
   "execution_count": 10,
   "id": "0c6023e7",
   "metadata": {
    "execution": {
     "iopub.execute_input": "2022-03-04T14:05:08.401243Z",
     "iopub.status.busy": "2022-03-04T14:05:08.400191Z",
     "iopub.status.idle": "2022-03-04T14:05:08.416810Z",
     "shell.execute_reply": "2022-03-04T14:05:08.417383Z"
    },
    "papermill": {
     "duration": 0.037655,
     "end_time": "2022-03-04T14:05:08.417576",
     "exception": false,
     "start_time": "2022-03-04T14:05:08.379921",
     "status": "completed"
    },
    "tags": []
   },
   "outputs": [
    {
     "name": "stdout",
     "output_type": "stream",
     "text": [
      "검증 데이터 ROC AUC : 0.7965\n"
     ]
    }
   ],
   "source": [
    "from sklearn.metrics import roc_auc_score # ROC AUC 점수 계산 함수\n",
    "\n",
    "# 검증 데이터 ROC AUC\n",
    "roc_auc = roc_auc_score(y_valid, y_valid_preds)\n",
    "\n",
    "print(f'검증 데이터 ROC AUC : {roc_auc:.4f}')"
   ]
  },
  {
   "cell_type": "markdown",
   "id": "a9d4d030",
   "metadata": {
    "papermill": {
     "duration": 0.017776,
     "end_time": "2022-03-04T14:05:08.453457",
     "exception": false,
     "start_time": "2022-03-04T14:05:08.435681",
     "status": "completed"
    },
    "tags": []
   },
   "source": [
    "## 7.3.4 예측 및 결과 제출"
   ]
  },
  {
   "cell_type": "code",
   "execution_count": 11,
   "id": "7454f39c",
   "metadata": {
    "execution": {
     "iopub.execute_input": "2022-03-04T14:05:08.493729Z",
     "iopub.status.busy": "2022-03-04T14:05:08.492653Z",
     "iopub.status.idle": "2022-03-04T14:05:08.514055Z",
     "shell.execute_reply": "2022-03-04T14:05:08.513429Z"
    },
    "papermill": {
     "duration": 0.042625,
     "end_time": "2022-03-04T14:05:08.514205",
     "exception": false,
     "start_time": "2022-03-04T14:05:08.471580",
     "status": "completed"
    },
    "tags": []
   },
   "outputs": [],
   "source": [
    "# 타깃값 1일 확률 예측\n",
    "y_preds = logistic_model.predict_proba(X_test)[:, 1]"
   ]
  },
  {
   "cell_type": "code",
   "execution_count": 12,
   "id": "764092f1",
   "metadata": {
    "execution": {
     "iopub.execute_input": "2022-03-04T14:05:08.555387Z",
     "iopub.status.busy": "2022-03-04T14:05:08.554657Z",
     "iopub.status.idle": "2022-03-04T14:05:09.336031Z",
     "shell.execute_reply": "2022-03-04T14:05:09.335445Z"
    },
    "papermill": {
     "duration": 0.803918,
     "end_time": "2022-03-04T14:05:09.336183",
     "exception": false,
     "start_time": "2022-03-04T14:05:08.532265",
     "status": "completed"
    },
    "tags": []
   },
   "outputs": [],
   "source": [
    "# 제출 파일 생성\n",
    "submission['target'] = y_preds\n",
    "submission.to_csv('submission.csv')"
   ]
  }
 ],
 "metadata": {
  "kernelspec": {
   "display_name": "Python 3",
   "language": "python",
   "name": "python3"
  },
  "language_info": {
   "codemirror_mode": {
    "name": "ipython",
    "version": 3
   },
   "file_extension": ".py",
   "mimetype": "text/x-python",
   "name": "python",
   "nbconvert_exporter": "python",
   "pygments_lexer": "ipython3",
   "version": "3.7.10"
  },
  "papermill": {
   "default_parameters": {},
   "duration": 85.828822,
   "end_time": "2022-03-04T14:05:10.819299",
   "environment_variables": {},
   "exception": null,
   "input_path": "__notebook__.ipynb",
   "output_path": "__notebook__.ipynb",
   "parameters": {},
   "start_time": "2022-03-04T14:03:44.990477",
   "version": "2.3.3"
  }
 },
 "nbformat": 4,
 "nbformat_minor": 5
}
