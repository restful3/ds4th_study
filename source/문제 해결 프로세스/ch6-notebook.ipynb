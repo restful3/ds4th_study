{
 "cells": [
  {
   "cell_type": "markdown",
   "id": "8919f1ae",
   "metadata": {
    "papermill": {
     "duration": 0.003833,
     "end_time": "2022-02-16T06:59:47.810398",
     "exception": false,
     "start_time": "2022-02-16T06:59:47.806565",
     "status": "completed"
    },
    "tags": []
   },
   "source": [
    "# 6장 자전거 대여 수요 예측 경진대회 환경 세팅된 노트북 양식"
   ]
  },
  {
   "cell_type": "code",
   "execution_count": null,
   "id": "792816b5",
   "metadata": {
    "papermill": {
     "duration": 0.002281,
     "end_time": "2022-02-16T06:59:47.815625",
     "exception": false,
     "start_time": "2022-02-16T06:59:47.813344",
     "status": "completed"
    },
    "tags": []
   },
   "outputs": [],
   "source": []
  }
 ],
 "metadata": {
  "kernelspec": {
   "display_name": "Python 3",
   "language": "python",
   "name": "python3"
  },
  "language_info": {
   "codemirror_mode": {
    "name": "ipython",
    "version": 3
   },
   "file_extension": ".py",
   "mimetype": "text/x-python",
   "name": "python",
   "nbconvert_exporter": "python",
   "pygments_lexer": "ipython3",
   "version": "3.7.10"
  },
  "papermill": {
   "default_parameters": {},
   "duration": 9.885276,
   "end_time": "2022-02-16T06:59:49.027079",
   "environment_variables": {},
   "exception": null,
   "input_path": "__notebook__.ipynb",
   "output_path": "__notebook__.ipynb",
   "parameters": {},
   "start_time": "2022-02-16T06:59:39.141803",
   "version": "2.3.3"
  }
 },
 "nbformat": 4,
 "nbformat_minor": 5
}
