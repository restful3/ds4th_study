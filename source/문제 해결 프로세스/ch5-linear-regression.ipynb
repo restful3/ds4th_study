{
 "cells": [
  {
   "cell_type": "markdown",
   "id": "b00d1ff3",
   "metadata": {
    "papermill": {
     "duration": 0.006261,
     "end_time": "2022-03-04T02:57:03.304544",
     "exception": false,
     "start_time": "2022-03-04T02:57:03.298283",
     "status": "completed"
    },
    "tags": []
   },
   "source": [
    "## 5.6.1 선형 회귀 모델"
   ]
  },
  {
   "cell_type": "markdown",
   "id": "413cfe2e",
   "metadata": {
    "papermill": {
     "duration": 0.004784,
     "end_time": "2022-03-04T02:57:03.314796",
     "exception": false,
     "start_time": "2022-03-04T02:57:03.310012",
     "status": "completed"
    },
    "tags": []
   },
   "source": [
    "### 데이터 생성"
   ]
  },
  {
   "cell_type": "code",
   "execution_count": 1,
   "id": "6ea685f3",
   "metadata": {
    "execution": {
     "iopub.execute_input": "2022-03-04T02:57:03.333565Z",
     "iopub.status.busy": "2022-03-04T02:57:03.332918Z",
     "iopub.status.idle": "2022-03-04T02:57:03.602362Z",
     "shell.execute_reply": "2022-03-04T02:57:03.602909Z"
    },
    "papermill": {
     "duration": 0.283355,
     "end_time": "2022-03-04T02:57:03.603192",
     "exception": false,
     "start_time": "2022-03-04T02:57:03.319837",
     "status": "completed"
    },
    "tags": []
   },
   "outputs": [
    {
     "data": {
      "image/png": "[encoded data removed]",
      "text/plain": [
       "<Figure size 432x288 with 1 Axes>"
      ]
     },
     "metadata": {
      "needs_background": "light"
     },
     "output_type": "display_data"
    }
   ],
   "source": [
    "import numpy as np\n",
    "import matplotlib.pyplot as plt\n",
    "\n",
    "np.random.seed(0) # 시드값 고정\n",
    "\n",
    "w0 = 5 # y절편\n",
    "w1 = 2 # 회귀 계수\n",
    "noise = np.random.randn(100, 1) # 노이즈\n",
    "\n",
    "x = 4 * np.random.rand(100, 1) # 0 ~ 4 사이 실수값 100개 생성 (x값)\n",
    "y = w1*x + w0 + noise # y값\n",
    "\n",
    "plt.scatter(x, y);"
   ]
  },
  {
   "cell_type": "markdown",
   "id": "6d907de8",
   "metadata": {
    "papermill": {
     "duration": 0.006009,
     "end_time": "2022-03-04T02:57:03.615768",
     "exception": false,
     "start_time": "2022-03-04T02:57:03.609759",
     "status": "completed"
    },
    "tags": []
   },
   "source": [
    "### 모델 훈련"
   ]
  },
  {
   "cell_type": "code",
   "execution_count": 2,
   "id": "ebbd8ded",
   "metadata": {
    "execution": {
     "iopub.execute_input": "2022-03-04T02:57:03.635950Z",
     "iopub.status.busy": "2022-03-04T02:57:03.635162Z",
     "iopub.status.idle": "2022-03-04T02:57:04.866117Z",
     "shell.execute_reply": "2022-03-04T02:57:04.867043Z"
    },
    "papermill": {
     "duration": 1.245456,
     "end_time": "2022-03-04T02:57:04.867234",
     "exception": false,
     "start_time": "2022-03-04T02:57:03.621778",
     "status": "completed"
    },
    "tags": []
   },
   "outputs": [
    {
     "name": "stdout",
     "output_type": "stream",
     "text": [
      "y절편(w0): [5.09772262]\n",
      "회귀계수(w1): [[1.9808382]]\n"
     ]
    }
   ],
   "source": [
    "from sklearn.linear_model import LinearRegression\n",
    "\n",
    "linear_reg_model = LinearRegression() # 선형 회귀 모델\n",
    "linear_reg_model.fit(x, y) # 모델 훈련\n",
    "\n",
    "print('y절편(w0):', linear_reg_model.intercept_)\n",
    "print('회귀계수(w1):', linear_reg_model.coef_)"
   ]
  },
  {
   "cell_type": "markdown",
   "id": "1357bce8",
   "metadata": {
    "papermill": {
     "duration": 0.006395,
     "end_time": "2022-03-04T02:57:04.880393",
     "exception": false,
     "start_time": "2022-03-04T02:57:04.873998",
     "status": "completed"
    },
    "tags": []
   },
   "source": [
    "### 회귀선 확인"
   ]
  },
  {
   "cell_type": "code",
   "execution_count": 3,
   "id": "9dbbccfa",
   "metadata": {
    "execution": {
     "iopub.execute_input": "2022-03-04T02:57:04.922356Z",
     "iopub.status.busy": "2022-03-04T02:57:04.915537Z",
     "iopub.status.idle": "2022-03-04T02:57:05.134998Z",
     "shell.execute_reply": "2022-03-04T02:57:05.134432Z"
    },
    "papermill": {
     "duration": 0.248128,
     "end_time": "2022-03-04T02:57:05.135143",
     "exception": false,
     "start_time": "2022-03-04T02:57:04.887015",
     "status": "completed"
    },
    "tags": []
   },
   "outputs": [
    {
     "data": {
      "image/png": "[encoded data removed]",
      "text/plain": [
       "<Figure size 432x288 with 1 Axes>"
      ]
     },
     "metadata": {
      "needs_background": "light"
     },
     "output_type": "display_data"
    }
   ],
   "source": [
    "y_pred = linear_reg_model.predict(x) # 예측\n",
    "\n",
    "plt.scatter(x, y)\n",
    "plt.plot(x, y_pred); # 선형 회귀선 그리기"
   ]
  }
 ],
 "metadata": {
  "kernelspec": {
   "display_name": "Python 3",
   "language": "python",
   "name": "python3"
  },
  "language_info": {
   "codemirror_mode": {
    "name": "ipython",
    "version": 3
   },
   "file_extension": ".py",
   "mimetype": "text/x-python",
   "name": "python",
   "nbconvert_exporter": "python",
   "pygments_lexer": "ipython3",
   "version": "3.7.10"
  },
  "papermill": {
   "default_parameters": {},
   "duration": 11.868959,
   "end_time": "2022-03-04T02:57:05.853547",
   "environment_variables": {},
   "exception": null,
   "input_path": "__notebook__.ipynb",
   "output_path": "__notebook__.ipynb",
   "parameters": {},
   "start_time": "2022-03-04T02:56:53.984588",
   "version": "2.3.3"
  }
 },
 "nbformat": 4,
 "nbformat_minor": 5
}
