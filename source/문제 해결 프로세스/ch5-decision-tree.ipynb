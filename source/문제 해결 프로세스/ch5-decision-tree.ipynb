{
 "cells": [
  {
   "cell_type": "markdown",
   "id": "5af688ab",
   "metadata": {
    "papermill": {
     "duration": 0.003135,
     "end_time": "2022-01-06T14:11:33.635493",
     "exception": false,
     "start_time": "2022-01-06T14:11:33.632358",
     "status": "completed"
    },
    "tags": []
   },
   "source": [
    "## 5.6.3 결정 트리"
   ]
  },
  {
   "cell_type": "code",
   "execution_count": 1,
   "id": "29dcae30",
   "metadata": {
    "_cell_guid": "b1076dfc-b9ad-4769-8c92-a6c4dae69d19",
    "_uuid": "8f2839f25d086af736a60e9eeb907d3b93b6e0e5",
    "execution": {
     "iopub.execute_input": "2022-01-06T14:11:33.650906Z",
     "iopub.status.busy": "2022-01-06T14:11:33.650199Z",
     "iopub.status.idle": "2022-01-06T14:11:35.110164Z",
     "shell.execute_reply": "2022-01-06T14:11:35.109338Z"
    },
    "papermill": {
     "duration": 1.472026,
     "end_time": "2022-01-06T14:11:35.110401",
     "exception": false,
     "start_time": "2022-01-06T14:11:33.638375",
     "status": "completed"
    },
    "tags": []
   },
   "outputs": [
    {
     "name": "stdout",
     "output_type": "stream",
     "text": [
      "결정 트리 정확도: 0.930\n"
     ]
    }
   ],
   "source": [
    "from sklearn.tree import DecisionTreeClassifier\n",
    "from sklearn.model_selection import train_test_split\n",
    "from sklearn.datasets import load_breast_cancer\n",
    "\n",
    "# 유방암 데이터 세트 불러오기\n",
    "cancer_data = load_breast_cancer()\n",
    "# 훈련, 테스트 데이터로 분리\n",
    "X_train, X_test, y_train, y_test = train_test_split(cancer_data['data'], \n",
    "                                                cancer_data['target'], \n",
    "                                                stratify=cancer_data['target'], \n",
    "                                                test_size=0.4, \n",
    "                                                random_state=42)\n",
    "\n",
    "decisiontree = DecisionTreeClassifier(random_state=42) # 결정 트리 정의\n",
    "decisiontree.fit(X_train, y_train) # 모델 훈련\n",
    "\n",
    "accuracy = decisiontree.score(X_test, y_test) # 정확도 측정\n",
    "\n",
    "# 테스트 데이터를 활용하여 결정 트리 모델 정확도 출력\n",
    "print(f'결정 트리 정확도: {accuracy:.3f}')"
   ]
  }
 ],
 "metadata": {
  "kernelspec": {
   "display_name": "Python 3",
   "language": "python",
   "name": "python3"
  },
  "language_info": {
   "codemirror_mode": {
    "name": "ipython",
    "version": 3
   },
   "file_extension": ".py",
   "mimetype": "text/x-python",
   "name": "python",
   "nbconvert_exporter": "python",
   "pygments_lexer": "ipython3",
   "version": "3.7.10"
  },
  "papermill": {
   "default_parameters": {},
   "duration": 10.985425,
   "end_time": "2022-01-06T14:11:35.824067",
   "environment_variables": {},
   "exception": null,
   "input_path": "__notebook__.ipynb",
   "output_path": "__notebook__.ipynb",
   "parameters": {},
   "start_time": "2022-01-06T14:11:24.838642",
   "version": "2.3.3"
  }
 },
 "nbformat": 4,
 "nbformat_minor": 5
}
