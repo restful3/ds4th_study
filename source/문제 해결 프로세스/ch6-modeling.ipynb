{
 "cells": [
  {
   "cell_type": "markdown",
   "id": "0eecd81d",
   "metadata": {
    "papermill": {
     "duration": 0.01978,
     "end_time": "2022-10-30T14:09:40.706407",
     "exception": false,
     "start_time": "2022-10-30T14:09:40.686627",
     "status": "completed"
    },
    "tags": []
   },
   "source": [
    "# 6.5~6.7 자전거 대여 수요 예측 경진대회 모델 성능 개선"
   ]
  },
  {
   "cell_type": "markdown",
   "id": "fa5215df",
   "metadata": {
    "papermill": {
     "duration": 0.019504,
     "end_time": "2022-10-30T14:09:40.745689",
     "exception": false,
     "start_time": "2022-10-30T14:09:40.726185",
     "status": "completed"
    },
    "tags": []
   },
   "source": [
    "- [자전거 대여 수요 예측 경진대회 링크](https://www.kaggle.com/c/bike-sharing-demand)\n",
    "\n",
    "- [모델링 코드 참고 링크](https://www.kaggle.com/viveksrinivasan/eda-ensemble-model-top-10-percentile)"
   ]
  },
  {
   "cell_type": "code",
   "execution_count": 1,
   "id": "dbe79070",
   "metadata": {
    "_cell_guid": "057b1690-5b93-9f14-eafe-fad12c00da69",
    "execution": {
     "iopub.execute_input": "2022-10-30T14:09:40.787417Z",
     "iopub.status.busy": "2022-10-30T14:09:40.786493Z",
     "iopub.status.idle": "2022-10-30T14:09:40.850011Z",
     "shell.execute_reply": "2022-10-30T14:09:40.849340Z"
    },
    "papermill": {
     "duration": 0.085323,
     "end_time": "2022-10-30T14:09:40.850171",
     "exception": false,
     "start_time": "2022-10-30T14:09:40.764848",
     "status": "completed"
    },
    "tags": []
   },
   "outputs": [],
   "source": [
    "import pandas as pd\n",
    "# 데이터 경로\n",
    "data_path = '/kaggle/input/bike-sharing-demand/'\n",
    "\n",
    "train = pd.read_csv(data_path + 'train.csv')\n",
    "test = pd.read_csv(data_path + 'test.csv')\n",
    "submission = pd.read_csv(data_path + 'sampleSubmission.csv')"
   ]
  },
  {
   "cell_type": "markdown",
   "id": "1a23a9f0",
   "metadata": {
    "papermill": {
     "duration": 0.019133,
     "end_time": "2022-10-30T14:09:40.889216",
     "exception": false,
     "start_time": "2022-10-30T14:09:40.870083",
     "status": "completed"
    },
    "tags": []
   },
   "source": [
    "## 피처 엔지니어링"
   ]
  },
  {
   "cell_type": "markdown",
   "id": "17891bfc",
   "metadata": {
    "papermill": {
     "duration": 0.021095,
     "end_time": "2022-10-30T14:09:40.930033",
     "exception": false,
     "start_time": "2022-10-30T14:09:40.908938",
     "status": "completed"
    },
    "tags": []
   },
   "source": [
    "### 이상치 제거"
   ]
  },
  {
   "cell_type": "code",
   "execution_count": 2,
   "id": "c61a4106",
   "metadata": {
    "execution": {
     "iopub.execute_input": "2022-10-30T14:09:40.977660Z",
     "iopub.status.busy": "2022-10-30T14:09:40.976967Z",
     "iopub.status.idle": "2022-10-30T14:09:40.982139Z",
     "shell.execute_reply": "2022-10-30T14:09:40.982610Z"
    },
    "papermill": {
     "duration": 0.03289,
     "end_time": "2022-10-30T14:09:40.982773",
     "exception": false,
     "start_time": "2022-10-30T14:09:40.949883",
     "status": "completed"
    },
    "tags": []
   },
   "outputs": [],
   "source": [
    "# 훈련 데이터에서 weather가 4가 아닌 데이터만 추출\n",
    "train = train[train['weather'] != 4]"
   ]
  },
  {
   "cell_type": "markdown",
   "id": "fe1e5931",
   "metadata": {
    "papermill": {
     "duration": 0.019325,
     "end_time": "2022-10-30T14:09:41.021632",
     "exception": false,
     "start_time": "2022-10-30T14:09:41.002307",
     "status": "completed"
    },
    "tags": []
   },
   "source": [
    "### 데이터 합치기"
   ]
  },
  {
   "cell_type": "code",
   "execution_count": 3,
   "id": "db6c402b",
   "metadata": {
    "execution": {
     "iopub.execute_input": "2022-10-30T14:09:41.064086Z",
     "iopub.status.busy": "2022-10-30T14:09:41.063565Z",
     "iopub.status.idle": "2022-10-30T14:09:41.096681Z",
     "shell.execute_reply": "2022-10-30T14:09:41.097260Z"
    },
    "papermill": {
     "duration": 0.056214,
     "end_time": "2022-10-30T14:09:41.097474",
     "exception": false,
     "start_time": "2022-10-30T14:09:41.041260",
     "status": "completed"
    },
    "tags": []
   },
   "outputs": [
    {
     "data": {
      "text/html": [
       "<div>\n",
       "<style scoped>\n",
       "    .dataframe tbody tr th:only-of-type {\n",
       "        vertical-align: middle;\n",
       "    }\n",
       "\n",
       "    .dataframe tbody tr th {\n",
       "        vertical-align: top;\n",
       "    }\n",
       "\n",
       "    .dataframe thead th {\n",
       "        text-align: right;\n",
       "    }\n",
       "</style>\n",
       "<table border=\"1\" class=\"dataframe\">\n",
       "  <thead>\n",
       "    <tr style=\"text-align: right;\">\n",
       "      <th></th>\n",
       "      <th>datetime</th>\n",
       "      <th>season</th>\n",
       "      <th>holiday</th>\n",
       "      <th>workingday</th>\n",
       "      <th>weather</th>\n",
       "      <th>temp</th>\n",
       "      <th>atemp</th>\n",
       "      <th>humidity</th>\n",
       "      <th>windspeed</th>\n",
       "      <th>casual</th>\n",
       "      <th>registered</th>\n",
       "      <th>count</th>\n",
       "    </tr>\n",
       "  </thead>\n",
       "  <tbody>\n",
       "    <tr>\n",
       "      <th>0</th>\n",
       "      <td>2011-01-01 00:00:00</td>\n",
       "      <td>1</td>\n",
       "      <td>0</td>\n",
       "      <td>0</td>\n",
       "      <td>1</td>\n",
       "      <td>9.84</td>\n",
       "      <td>14.395</td>\n",
       "      <td>81</td>\n",
       "      <td>0.0000</td>\n",
       "      <td>3.0</td>\n",
       "      <td>13.0</td>\n",
       "      <td>16.0</td>\n",
       "    </tr>\n",
       "    <tr>\n",
       "      <th>1</th>\n",
       "      <td>2011-01-01 01:00:00</td>\n",
       "      <td>1</td>\n",
       "      <td>0</td>\n",
       "      <td>0</td>\n",
       "      <td>1</td>\n",
       "      <td>9.02</td>\n",
       "      <td>13.635</td>\n",
       "      <td>80</td>\n",
       "      <td>0.0000</td>\n",
       "      <td>8.0</td>\n",
       "      <td>32.0</td>\n",
       "      <td>40.0</td>\n",
       "    </tr>\n",
       "    <tr>\n",
       "      <th>2</th>\n",
       "      <td>2011-01-01 02:00:00</td>\n",
       "      <td>1</td>\n",
       "      <td>0</td>\n",
       "      <td>0</td>\n",
       "      <td>1</td>\n",
       "      <td>9.02</td>\n",
       "      <td>13.635</td>\n",
       "      <td>80</td>\n",
       "      <td>0.0000</td>\n",
       "      <td>5.0</td>\n",
       "      <td>27.0</td>\n",
       "      <td>32.0</td>\n",
       "    </tr>\n",
       "    <tr>\n",
       "      <th>3</th>\n",
       "      <td>2011-01-01 03:00:00</td>\n",
       "      <td>1</td>\n",
       "      <td>0</td>\n",
       "      <td>0</td>\n",
       "      <td>1</td>\n",
       "      <td>9.84</td>\n",
       "      <td>14.395</td>\n",
       "      <td>75</td>\n",
       "      <td>0.0000</td>\n",
       "      <td>3.0</td>\n",
       "      <td>10.0</td>\n",
       "      <td>13.0</td>\n",
       "    </tr>\n",
       "    <tr>\n",
       "      <th>4</th>\n",
       "      <td>2011-01-01 04:00:00</td>\n",
       "      <td>1</td>\n",
       "      <td>0</td>\n",
       "      <td>0</td>\n",
       "      <td>1</td>\n",
       "      <td>9.84</td>\n",
       "      <td>14.395</td>\n",
       "      <td>75</td>\n",
       "      <td>0.0000</td>\n",
       "      <td>0.0</td>\n",
       "      <td>1.0</td>\n",
       "      <td>1.0</td>\n",
       "    </tr>\n",
       "    <tr>\n",
       "      <th>...</th>\n",
       "      <td>...</td>\n",
       "      <td>...</td>\n",
       "      <td>...</td>\n",
       "      <td>...</td>\n",
       "      <td>...</td>\n",
       "      <td>...</td>\n",
       "      <td>...</td>\n",
       "      <td>...</td>\n",
       "      <td>...</td>\n",
       "      <td>...</td>\n",
       "      <td>...</td>\n",
       "      <td>...</td>\n",
       "    </tr>\n",
       "    <tr>\n",
       "      <th>17373</th>\n",
       "      <td>2012-12-31 19:00:00</td>\n",
       "      <td>1</td>\n",
       "      <td>0</td>\n",
       "      <td>1</td>\n",
       "      <td>2</td>\n",
       "      <td>10.66</td>\n",
       "      <td>12.880</td>\n",
       "      <td>60</td>\n",
       "      <td>11.0014</td>\n",
       "      <td>NaN</td>\n",
       "      <td>NaN</td>\n",
       "      <td>NaN</td>\n",
       "    </tr>\n",
       "    <tr>\n",
       "      <th>17374</th>\n",
       "      <td>2012-12-31 20:00:00</td>\n",
       "      <td>1</td>\n",
       "      <td>0</td>\n",
       "      <td>1</td>\n",
       "      <td>2</td>\n",
       "      <td>10.66</td>\n",
       "      <td>12.880</td>\n",
       "      <td>60</td>\n",
       "      <td>11.0014</td>\n",
       "      <td>NaN</td>\n",
       "      <td>NaN</td>\n",
       "      <td>NaN</td>\n",
       "    </tr>\n",
       "    <tr>\n",
       "      <th>17375</th>\n",
       "      <td>2012-12-31 21:00:00</td>\n",
       "      <td>1</td>\n",
       "      <td>0</td>\n",
       "      <td>1</td>\n",
       "      <td>1</td>\n",
       "      <td>10.66</td>\n",
       "      <td>12.880</td>\n",
       "      <td>60</td>\n",
       "      <td>11.0014</td>\n",
       "      <td>NaN</td>\n",
       "      <td>NaN</td>\n",
       "      <td>NaN</td>\n",
       "    </tr>\n",
       "    <tr>\n",
       "      <th>17376</th>\n",
       "      <td>2012-12-31 22:00:00</td>\n",
       "      <td>1</td>\n",
       "      <td>0</td>\n",
       "      <td>1</td>\n",
       "      <td>1</td>\n",
       "      <td>10.66</td>\n",
       "      <td>13.635</td>\n",
       "      <td>56</td>\n",
       "      <td>8.9981</td>\n",
       "      <td>NaN</td>\n",
       "      <td>NaN</td>\n",
       "      <td>NaN</td>\n",
       "    </tr>\n",
       "    <tr>\n",
       "      <th>17377</th>\n",
       "      <td>2012-12-31 23:00:00</td>\n",
       "      <td>1</td>\n",
       "      <td>0</td>\n",
       "      <td>1</td>\n",
       "      <td>1</td>\n",
       "      <td>10.66</td>\n",
       "      <td>13.635</td>\n",
       "      <td>65</td>\n",
       "      <td>8.9981</td>\n",
       "      <td>NaN</td>\n",
       "      <td>NaN</td>\n",
       "      <td>NaN</td>\n",
       "    </tr>\n",
       "  </tbody>\n",
       "</table>\n",
       "<p>17378 rows × 12 columns</p>\n",
       "</div>"
      ],
      "text/plain": [
       "                  datetime  season  holiday  workingday  weather   temp  \\\n",
       "0      2011-01-01 00:00:00       1        0           0        1   9.84   \n",
       "1      2011-01-01 01:00:00       1        0           0        1   9.02   \n",
       "2      2011-01-01 02:00:00       1        0           0        1   9.02   \n",
       "3      2011-01-01 03:00:00       1        0           0        1   9.84   \n",
       "4      2011-01-01 04:00:00       1        0           0        1   9.84   \n",
       "...                    ...     ...      ...         ...      ...    ...   \n",
       "17373  2012-12-31 19:00:00       1        0           1        2  10.66   \n",
       "17374  2012-12-31 20:00:00       1        0           1        2  10.66   \n",
       "17375  2012-12-31 21:00:00       1        0           1        1  10.66   \n",
       "17376  2012-12-31 22:00:00       1        0           1        1  10.66   \n",
       "17377  2012-12-31 23:00:00       1        0           1        1  10.66   \n",
       "\n",
       "        atemp  humidity  windspeed  casual  registered  count  \n",
       "0      14.395        81     0.0000     3.0        13.0   16.0  \n",
       "1      13.635        80     0.0000     8.0        32.0   40.0  \n",
       "2      13.635        80     0.0000     5.0        27.0   32.0  \n",
       "3      14.395        75     0.0000     3.0        10.0   13.0  \n",
       "4      14.395        75     0.0000     0.0         1.0    1.0  \n",
       "...       ...       ...        ...     ...         ...    ...  \n",
       "17373  12.880        60    11.0014     NaN         NaN    NaN  \n",
       "17374  12.880        60    11.0014     NaN         NaN    NaN  \n",
       "17375  12.880        60    11.0014     NaN         NaN    NaN  \n",
       "17376  13.635        56     8.9981     NaN         NaN    NaN  \n",
       "17377  13.635        65     8.9981     NaN         NaN    NaN  \n",
       "\n",
       "[17378 rows x 12 columns]"
      ]
     },
     "execution_count": 3,
     "metadata": {},
     "output_type": "execute_result"
    }
   ],
   "source": [
    "all_data = pd.concat([train, test], ignore_index=True)\n",
    "all_data"
   ]
  },
  {
   "cell_type": "markdown",
   "id": "9bbba61e",
   "metadata": {
    "papermill": {
     "duration": 0.022307,
     "end_time": "2022-10-30T14:09:41.144276",
     "exception": false,
     "start_time": "2022-10-30T14:09:41.121969",
     "status": "completed"
    },
    "tags": []
   },
   "source": [
    "### 파생 변수(피처) 추가"
   ]
  },
  {
   "cell_type": "code",
   "execution_count": 4,
   "id": "aef5fc53",
   "metadata": {
    "_cell_guid": "18f7c3fc-ffdf-4bc6-1d4c-c455fb4e0141",
    "execution": {
     "iopub.execute_input": "2022-10-30T14:09:41.201130Z",
     "iopub.status.busy": "2022-10-30T14:09:41.191325Z",
     "iopub.status.idle": "2022-10-30T14:09:41.398621Z",
     "shell.execute_reply": "2022-10-30T14:09:41.398093Z"
    },
    "papermill": {
     "duration": 0.230095,
     "end_time": "2022-10-30T14:09:41.398755",
     "exception": false,
     "start_time": "2022-10-30T14:09:41.168660",
     "status": "completed"
    },
    "tags": []
   },
   "outputs": [],
   "source": [
    "from datetime import datetime\n",
    "\n",
    "# 날짜 피처 생성\n",
    "all_data['date'] = all_data['datetime'].apply(lambda x: x.split()[0])\n",
    "# 연도 피처 생성\n",
    "all_data['year'] = all_data['datetime'].apply(lambda x: x.split()[0].split('-')[0])\n",
    "# 월 피처 생성\n",
    "all_data['month'] = all_data['datetime'].apply(lambda x: x.split()[0].split('-')[1])\n",
    "# 시 피처 생성\n",
    "all_data['hour'] = all_data['datetime'].apply(lambda x: x.split()[1].split(':')[0])\n",
    "# 요일 피처 생성\n",
    "all_data[\"weekday\"] = all_data['date'].apply(lambda dateString : datetime.strptime(dateString,\"%Y-%m-%d\").weekday())"
   ]
  },
  {
   "cell_type": "markdown",
   "id": "92936466",
   "metadata": {
    "papermill": {
     "duration": 0.022635,
     "end_time": "2022-10-30T14:09:41.445237",
     "exception": false,
     "start_time": "2022-10-30T14:09:41.422602",
     "status": "completed"
    },
    "tags": []
   },
   "source": [
    "### 필요 없는 피처 제거"
   ]
  },
  {
   "cell_type": "code",
   "execution_count": 5,
   "id": "4dcb1245",
   "metadata": {
    "execution": {
     "iopub.execute_input": "2022-10-30T14:09:41.497848Z",
     "iopub.status.busy": "2022-10-30T14:09:41.497287Z",
     "iopub.status.idle": "2022-10-30T14:09:41.506905Z",
     "shell.execute_reply": "2022-10-30T14:09:41.506301Z"
    },
    "papermill": {
     "duration": 0.039106,
     "end_time": "2022-10-30T14:09:41.507247",
     "exception": false,
     "start_time": "2022-10-30T14:09:41.468141",
     "status": "completed"
    },
    "tags": []
   },
   "outputs": [],
   "source": [
    "drop_features = ['casual', 'registered', 'datetime', 'date', 'month', 'windspeed']\n",
    "\n",
    "all_data = all_data.drop(drop_features, axis=1)"
   ]
  },
  {
   "cell_type": "markdown",
   "id": "5d058d06",
   "metadata": {
    "papermill": {
     "duration": 0.025565,
     "end_time": "2022-10-30T14:09:41.556700",
     "exception": false,
     "start_time": "2022-10-30T14:09:41.531135",
     "status": "completed"
    },
    "tags": []
   },
   "source": [
    "### 데이터 나누기"
   ]
  },
  {
   "cell_type": "code",
   "execution_count": 6,
   "id": "8ec1d954",
   "metadata": {
    "execution": {
     "iopub.execute_input": "2022-10-30T14:09:41.606266Z",
     "iopub.status.busy": "2022-10-30T14:09:41.602821Z",
     "iopub.status.idle": "2022-10-30T14:09:41.612850Z",
     "shell.execute_reply": "2022-10-30T14:09:41.613268Z"
    },
    "papermill": {
     "duration": 0.034271,
     "end_time": "2022-10-30T14:09:41.613447",
     "exception": false,
     "start_time": "2022-10-30T14:09:41.579176",
     "status": "completed"
    },
    "tags": []
   },
   "outputs": [],
   "source": [
    "# 훈련 데이터와 테스트 데이터 나누기\n",
    "X_train = all_data[~pd.isnull(all_data['count'])]\n",
    "X_test = all_data[pd.isnull(all_data['count'])]\n",
    "\n",
    "# 타깃값 count 제거\n",
    "X_train = X_train.drop(['count'], axis=1)\n",
    "X_test = X_test.drop(['count'], axis=1)\n",
    "\n",
    "y = train['count'] # 타깃값"
   ]
  },
  {
   "cell_type": "markdown",
   "id": "d7789de0",
   "metadata": {
    "papermill": {
     "duration": 0.020083,
     "end_time": "2022-10-30T14:09:41.653711",
     "exception": false,
     "start_time": "2022-10-30T14:09:41.633628",
     "status": "completed"
    },
    "tags": []
   },
   "source": [
    "## 평가지표 계산 함수 작성"
   ]
  },
  {
   "cell_type": "code",
   "execution_count": 7,
   "id": "9d3079e1",
   "metadata": {
    "execution": {
     "iopub.execute_input": "2022-10-30T14:09:41.697746Z",
     "iopub.status.busy": "2022-10-30T14:09:41.697043Z",
     "iopub.status.idle": "2022-10-30T14:09:41.701703Z",
     "shell.execute_reply": "2022-10-30T14:09:41.702144Z"
    },
    "papermill": {
     "duration": 0.028258,
     "end_time": "2022-10-30T14:09:41.702344",
     "exception": false,
     "start_time": "2022-10-30T14:09:41.674086",
     "status": "completed"
    },
    "tags": []
   },
   "outputs": [],
   "source": [
    "import numpy as np\n",
    "\n",
    "def rmsle(y_true, y_pred, convertExp=True):\n",
    "    # 지수변환\n",
    "    if convertExp:\n",
    "        y_true = np.exp(y_true)\n",
    "        y_pred = np.exp(y_pred)\n",
    "        \n",
    "    # 로그변환 후 결측값을 0으로 변환\n",
    "    log_true = np.nan_to_num(np.log(y_true+1))\n",
    "    log_pred = np.nan_to_num(np.log(y_pred+1))\n",
    "    \n",
    "    # RMSLE 계산\n",
    "    output = np.sqrt(np.mean((log_true - log_pred)**2))\n",
    "    return output"
   ]
  },
  {
   "cell_type": "markdown",
   "id": "e1b16d9c",
   "metadata": {
    "papermill": {
     "duration": 0.020728,
     "end_time": "2022-10-30T14:09:41.743812",
     "exception": false,
     "start_time": "2022-10-30T14:09:41.723084",
     "status": "completed"
    },
    "tags": []
   },
   "source": [
    "# 6.5 성능 개선 I : 릿지 회귀 모델"
   ]
  },
  {
   "cell_type": "markdown",
   "id": "ddb42df7",
   "metadata": {
    "papermill": {
     "duration": 0.023301,
     "end_time": "2022-10-30T14:09:41.788265",
     "exception": false,
     "start_time": "2022-10-30T14:09:41.764964",
     "status": "completed"
    },
    "tags": []
   },
   "source": [
    "## 6.5.1 하이퍼 파라미터 최적화(모델 훈련)"
   ]
  },
  {
   "cell_type": "markdown",
   "id": "85fb44b1",
   "metadata": {
    "papermill": {
     "duration": 0.021733,
     "end_time": "2022-10-30T14:09:41.834011",
     "exception": false,
     "start_time": "2022-10-30T14:09:41.812278",
     "status": "completed"
    },
    "tags": []
   },
   "source": [
    "### 모델 생성"
   ]
  },
  {
   "cell_type": "code",
   "execution_count": 8,
   "id": "096f7d25",
   "metadata": {
    "execution": {
     "iopub.execute_input": "2022-10-30T14:09:41.882207Z",
     "iopub.status.busy": "2022-10-30T14:09:41.881692Z",
     "iopub.status.idle": "2022-10-30T14:09:42.920343Z",
     "shell.execute_reply": "2022-10-30T14:09:42.919834Z"
    },
    "papermill": {
     "duration": 1.062417,
     "end_time": "2022-10-30T14:09:42.920788",
     "exception": false,
     "start_time": "2022-10-30T14:09:41.858371",
     "status": "completed"
    },
    "tags": []
   },
   "outputs": [],
   "source": [
    "from sklearn.linear_model import Ridge\n",
    "from sklearn.model_selection import GridSearchCV\n",
    "from sklearn import metrics\n",
    "\n",
    "ridge_model = Ridge()"
   ]
  },
  {
   "cell_type": "markdown",
   "id": "da7bd559",
   "metadata": {
    "papermill": {
     "duration": 0.020118,
     "end_time": "2022-10-30T14:09:42.962999",
     "exception": false,
     "start_time": "2022-10-30T14:09:42.942881",
     "status": "completed"
    },
    "tags": []
   },
   "source": [
    "### 그리드서치 객체 생성"
   ]
  },
  {
   "cell_type": "code",
   "execution_count": 9,
   "id": "c4c4e347",
   "metadata": {
    "execution": {
     "iopub.execute_input": "2022-10-30T14:09:43.010338Z",
     "iopub.status.busy": "2022-10-30T14:09:43.009792Z",
     "iopub.status.idle": "2022-10-30T14:09:43.010911Z",
     "shell.execute_reply": "2022-10-30T14:09:43.011404Z"
    },
    "papermill": {
     "duration": 0.027871,
     "end_time": "2022-10-30T14:09:43.011546",
     "exception": false,
     "start_time": "2022-10-30T14:09:42.983675",
     "status": "completed"
    },
    "tags": []
   },
   "outputs": [],
   "source": [
    "# 하이퍼 파라미터 값 목록\n",
    "ridge_params = {'max_iter':[3000], 'alpha':[0.1, 1, 2, 3, 4, 10, 30, 100, 200, 300, 400, 800, 900, 1000]}\n",
    "\n",
    "# 교차 검증용 평가 함수(RMSLE 점수 계산)\n",
    "rmsle_scorer = metrics.make_scorer(rmsle, greater_is_better=False)\n",
    "# 그리드서치(with 릿지) 객체 생성\n",
    "gridsearch_ridge_model = GridSearchCV(estimator=ridge_model,   # 릿지 모델\n",
    "                                      param_grid=ridge_params, # 값 목록\n",
    "                                      scoring=rmsle_scorer,    # 평가지표\n",
    "                                      cv=5)                    # 교차검증 분할 수"
   ]
  },
  {
   "cell_type": "markdown",
   "id": "72583cd4",
   "metadata": {
    "papermill": {
     "duration": 0.020517,
     "end_time": "2022-10-30T14:09:43.052913",
     "exception": false,
     "start_time": "2022-10-30T14:09:43.032396",
     "status": "completed"
    },
    "tags": []
   },
   "source": [
    "### 그리드서치 수행"
   ]
  },
  {
   "cell_type": "code",
   "execution_count": 10,
   "id": "c91edfe1",
   "metadata": {
    "execution": {
     "iopub.execute_input": "2022-10-30T14:09:43.101489Z",
     "iopub.status.busy": "2022-10-30T14:09:43.099419Z",
     "iopub.status.idle": "2022-10-30T14:09:44.257083Z",
     "shell.execute_reply": "2022-10-30T14:09:44.257562Z"
    },
    "papermill": {
     "duration": 1.183987,
     "end_time": "2022-10-30T14:09:44.257733",
     "exception": false,
     "start_time": "2022-10-30T14:09:43.073746",
     "status": "completed"
    },
    "tags": []
   },
   "outputs": [
    {
     "data": {
      "text/plain": [
       "GridSearchCV(cv=5, estimator=Ridge(),\n",
       "             param_grid={'alpha': [0.1, 1, 2, 3, 4, 10, 30, 100, 200, 300, 400,\n",
       "                                   800, 900, 1000],\n",
       "                         'max_iter': [3000]},\n",
       "             scoring=make_scorer(rmsle, greater_is_better=False))"
      ]
     },
     "execution_count": 10,
     "metadata": {},
     "output_type": "execute_result"
    }
   ],
   "source": [
    "log_y = np.log(y) # 타깃값 로그변환\n",
    "gridsearch_ridge_model.fit(X_train, log_y) # 훈련(그리드서치)"
   ]
  },
  {
   "cell_type": "code",
   "execution_count": 11,
   "id": "8c99fcc5",
   "metadata": {
    "execution": {
     "iopub.execute_input": "2022-10-30T14:09:44.318047Z",
     "iopub.status.busy": "2022-10-30T14:09:44.317282Z",
     "iopub.status.idle": "2022-10-30T14:09:44.320331Z",
     "shell.execute_reply": "2022-10-30T14:09:44.318618Z"
    },
    "papermill": {
     "duration": 0.036492,
     "end_time": "2022-10-30T14:09:44.320491",
     "exception": false,
     "start_time": "2022-10-30T14:09:44.283999",
     "status": "completed"
    },
    "tags": []
   },
   "outputs": [
    {
     "name": "stdout",
     "output_type": "stream",
     "text": [
      "최적 하이퍼파라미터 : {'alpha': 0.1, 'max_iter': 3000}\n"
     ]
    }
   ],
   "source": [
    "print('최적 하이퍼파라미터 :', gridsearch_ridge_model.best_params_)"
   ]
  },
  {
   "cell_type": "markdown",
   "id": "dae28f8d",
   "metadata": {
    "papermill": {
     "duration": 0.025286,
     "end_time": "2022-10-30T14:09:44.372842",
     "exception": false,
     "start_time": "2022-10-30T14:09:44.347556",
     "status": "completed"
    },
    "tags": []
   },
   "source": [
    "## 6.5.2 성능 검증"
   ]
  },
  {
   "cell_type": "code",
   "execution_count": 12,
   "id": "4dd3d6df",
   "metadata": {
    "execution": {
     "iopub.execute_input": "2022-10-30T14:09:44.421405Z",
     "iopub.status.busy": "2022-10-30T14:09:44.420732Z",
     "iopub.status.idle": "2022-10-30T14:09:44.432003Z",
     "shell.execute_reply": "2022-10-30T14:09:44.433020Z"
    },
    "papermill": {
     "duration": 0.039044,
     "end_time": "2022-10-30T14:09:44.433190",
     "exception": false,
     "start_time": "2022-10-30T14:09:44.394146",
     "status": "completed"
    },
    "tags": []
   },
   "outputs": [
    {
     "name": "stdout",
     "output_type": "stream",
     "text": [
      "릿지 회귀 RMSLE 값 : 1.0205\n"
     ]
    }
   ],
   "source": [
    "# 예측\n",
    "preds = gridsearch_ridge_model.best_estimator_.predict(X_train) \n",
    "\n",
    "# 평가\n",
    "print(f'릿지 회귀 RMSLE 값 : {rmsle(log_y, preds, True):.4f}') "
   ]
  },
  {
   "cell_type": "markdown",
   "id": "5fa935e0",
   "metadata": {
    "papermill": {
     "duration": 0.026829,
     "end_time": "2022-10-30T14:09:44.487113",
     "exception": false,
     "start_time": "2022-10-30T14:09:44.460284",
     "status": "completed"
    },
    "tags": []
   },
   "source": [
    "# 6.6 성능 개선 II : 라쏘 회귀 모델"
   ]
  },
  {
   "cell_type": "markdown",
   "id": "f93ee55a",
   "metadata": {
    "papermill": {
     "duration": 0.026643,
     "end_time": "2022-10-30T14:09:44.541636",
     "exception": false,
     "start_time": "2022-10-30T14:09:44.514993",
     "status": "completed"
    },
    "tags": []
   },
   "source": [
    "## 6.6.1 하이퍼 파라미터 최적화(모델 훈련)"
   ]
  },
  {
   "cell_type": "code",
   "execution_count": 13,
   "id": "243db3bb",
   "metadata": {
    "execution": {
     "iopub.execute_input": "2022-10-30T14:09:44.591972Z",
     "iopub.status.busy": "2022-10-30T14:09:44.591419Z",
     "iopub.status.idle": "2022-10-30T14:09:46.385898Z",
     "shell.execute_reply": "2022-10-30T14:09:46.386661Z"
    },
    "papermill": {
     "duration": 1.822856,
     "end_time": "2022-10-30T14:09:46.386924",
     "exception": false,
     "start_time": "2022-10-30T14:09:44.564068",
     "status": "completed"
    },
    "tags": []
   },
   "outputs": [
    {
     "name": "stdout",
     "output_type": "stream",
     "text": [
      "최적 하이퍼파라미터 : {'alpha': 0.00125, 'max_iter': 3000}\n"
     ]
    }
   ],
   "source": [
    "from sklearn.linear_model import Lasso\n",
    "\n",
    "# 모델 생성\n",
    "lasso_model = Lasso()\n",
    "# 하이퍼파라미터 값 목록\n",
    "lasso_alpha = 1/np.array([0.1, 1, 2, 3, 4, 10, 30, 100, 200, 300, 400, 800, 900, 1000])\n",
    "lasso_params = {'max_iter':[3000], 'alpha':lasso_alpha}\n",
    "# 그리드서치(with 라쏘) 객체 생성\n",
    "gridsearch_lasso_model = GridSearchCV(estimator=lasso_model,\n",
    "                                      param_grid=lasso_params,\n",
    "                                      scoring=rmsle_scorer,\n",
    "                                      cv=5)\n",
    "# 그리드서치 수행\n",
    "log_y = np.log(y)\n",
    "gridsearch_lasso_model.fit(X_train, log_y)\n",
    "\n",
    "print('최적 하이퍼파라미터 :', gridsearch_lasso_model.best_params_)"
   ]
  },
  {
   "cell_type": "markdown",
   "id": "f903d5f0",
   "metadata": {
    "papermill": {
     "duration": 0.027374,
     "end_time": "2022-10-30T14:09:46.442857",
     "exception": false,
     "start_time": "2022-10-30T14:09:46.415483",
     "status": "completed"
    },
    "tags": []
   },
   "source": [
    "## 6.6.2 성능 검증"
   ]
  },
  {
   "cell_type": "code",
   "execution_count": 14,
   "id": "6a824281",
   "metadata": {
    "execution": {
     "iopub.execute_input": "2022-10-30T14:09:46.504842Z",
     "iopub.status.busy": "2022-10-30T14:09:46.504216Z",
     "iopub.status.idle": "2022-10-30T14:09:46.514816Z",
     "shell.execute_reply": "2022-10-30T14:09:46.515416Z"
    },
    "papermill": {
     "duration": 0.044693,
     "end_time": "2022-10-30T14:09:46.515578",
     "exception": false,
     "start_time": "2022-10-30T14:09:46.470885",
     "status": "completed"
    },
    "tags": []
   },
   "outputs": [
    {
     "name": "stdout",
     "output_type": "stream",
     "text": [
      "라쏘 회귀 RMSLE 값 : 1.0205\n"
     ]
    }
   ],
   "source": [
    "# 예측\n",
    "preds = gridsearch_lasso_model.best_estimator_.predict(X_train)\n",
    "\n",
    "# 평가\n",
    "print(f'라쏘 회귀 RMSLE 값 : {rmsle(log_y, preds, True):.4f}')"
   ]
  },
  {
   "cell_type": "markdown",
   "id": "0cc84145",
   "metadata": {
    "papermill": {
     "duration": 0.028523,
     "end_time": "2022-10-30T14:09:46.572182",
     "exception": false,
     "start_time": "2022-10-30T14:09:46.543659",
     "status": "completed"
    },
    "tags": []
   },
   "source": [
    "# 6.7 성능 개선 III : 랜덤 포레스트 회귀 모델"
   ]
  },
  {
   "cell_type": "markdown",
   "id": "4635f828",
   "metadata": {
    "papermill": {
     "duration": 0.028318,
     "end_time": "2022-10-30T14:09:46.628946",
     "exception": false,
     "start_time": "2022-10-30T14:09:46.600628",
     "status": "completed"
    },
    "tags": []
   },
   "source": [
    "## 6.7.1 하이퍼 파라미터 최적화(모델 훈련)"
   ]
  },
  {
   "cell_type": "code",
   "execution_count": 15,
   "id": "3d43957f",
   "metadata": {
    "execution": {
     "iopub.execute_input": "2022-10-30T14:09:46.680832Z",
     "iopub.status.busy": "2022-10-30T14:09:46.680273Z",
     "iopub.status.idle": "2022-10-30T14:10:30.635905Z",
     "shell.execute_reply": "2022-10-30T14:10:30.636363Z"
    },
    "papermill": {
     "duration": 43.984332,
     "end_time": "2022-10-30T14:10:30.636520",
     "exception": false,
     "start_time": "2022-10-30T14:09:46.652188",
     "status": "completed"
    },
    "tags": []
   },
   "outputs": [
    {
     "name": "stdout",
     "output_type": "stream",
     "text": [
      "최적 하이퍼파라미터 : {'n_estimators': 140, 'random_state': 42}\n"
     ]
    }
   ],
   "source": [
    "from sklearn.ensemble import RandomForestRegressor\n",
    "\n",
    "# 모델 생성\n",
    "randomforest_model = RandomForestRegressor()\n",
    "# 그리드서치 객체 생성\n",
    "rf_params = {'random_state':[42], 'n_estimators':[100, 120, 140]}\n",
    "gridsearch_random_forest_model = GridSearchCV(estimator=randomforest_model,\n",
    "                                              param_grid=rf_params,\n",
    "                                              scoring=rmsle_scorer,\n",
    "                                              cv=5)\n",
    "# 그리드서치 수행\n",
    "log_y = np.log(y)\n",
    "gridsearch_random_forest_model.fit(X_train, log_y)\n",
    "\n",
    "print('최적 하이퍼파라미터 :', gridsearch_random_forest_model.best_params_)"
   ]
  },
  {
   "cell_type": "markdown",
   "id": "6931d38f",
   "metadata": {
    "papermill": {
     "duration": 0.022745,
     "end_time": "2022-10-30T14:10:30.682290",
     "exception": false,
     "start_time": "2022-10-30T14:10:30.659545",
     "status": "completed"
    },
    "tags": []
   },
   "source": [
    "## 6.7.2 모델 성능 검증"
   ]
  },
  {
   "cell_type": "code",
   "execution_count": 16,
   "id": "3bc6dd27",
   "metadata": {
    "execution": {
     "iopub.execute_input": "2022-10-30T14:10:30.731888Z",
     "iopub.status.busy": "2022-10-30T14:10:30.731377Z",
     "iopub.status.idle": "2022-10-30T14:10:30.974492Z",
     "shell.execute_reply": "2022-10-30T14:10:30.974932Z"
    },
    "papermill": {
     "duration": 0.269341,
     "end_time": "2022-10-30T14:10:30.975085",
     "exception": false,
     "start_time": "2022-10-30T14:10:30.705744",
     "status": "completed"
    },
    "tags": []
   },
   "outputs": [
    {
     "name": "stdout",
     "output_type": "stream",
     "text": [
      "랜덤 포레스트 회귀 RMSLE 값 : 0.1126\n"
     ]
    }
   ],
   "source": [
    "# 예측\n",
    "preds = gridsearch_random_forest_model.best_estimator_.predict(X_train)\n",
    "\n",
    "# 평가\n",
    "print(f'랜덤 포레스트 회귀 RMSLE 값 : {rmsle(log_y, preds, True):.4f}')"
   ]
  },
  {
   "cell_type": "markdown",
   "id": "09ce8888",
   "metadata": {
    "papermill": {
     "duration": 0.023431,
     "end_time": "2022-10-30T14:10:31.022243",
     "exception": false,
     "start_time": "2022-10-30T14:10:30.998812",
     "status": "completed"
    },
    "tags": []
   },
   "source": [
    "## 6.7.3 예측 및 결과 제출"
   ]
  },
  {
   "cell_type": "code",
   "execution_count": 17,
   "id": "835d242e",
   "metadata": {
    "execution": {
     "iopub.execute_input": "2022-10-30T14:10:31.076557Z",
     "iopub.status.busy": "2022-10-30T14:10:31.075983Z",
     "iopub.status.idle": "2022-10-30T14:10:31.973664Z",
     "shell.execute_reply": "2022-10-30T14:10:31.974127Z"
    },
    "papermill": {
     "duration": 0.927884,
     "end_time": "2022-10-30T14:10:31.974312",
     "exception": false,
     "start_time": "2022-10-30T14:10:31.046428",
     "status": "completed"
    },
    "tags": []
   },
   "outputs": [
    {
     "data": {
      "image/png": "[encoded data removed]",
      "text/plain": [
       "<Figure size 720x288 with 2 Axes>"
      ]
     },
     "metadata": {
      "needs_background": "light"
     },
     "output_type": "display_data"
    }
   ],
   "source": [
    "import seaborn as sns\n",
    "import matplotlib.pyplot as plt\n",
    "\n",
    "randomforest_preds = gridsearch_random_forest_model.best_estimator_.predict(X_test)\n",
    "\n",
    "figure, axes = plt.subplots(ncols=2)\n",
    "figure.set_size_inches(10, 4)\n",
    "\n",
    "sns.histplot(y, bins=50, ax=axes[0])\n",
    "axes[0].set_title('Train Data Distribution')\n",
    "sns.histplot(np.exp(randomforest_preds), bins=50, ax=axes[1])\n",
    "axes[1].set_title('Predicted Test Data Distribution');"
   ]
  },
  {
   "cell_type": "code",
   "execution_count": 18,
   "id": "ad78cb05",
   "metadata": {
    "execution": {
     "iopub.execute_input": "2022-10-30T14:10:32.027103Z",
     "iopub.status.busy": "2022-10-30T14:10:32.026321Z",
     "iopub.status.idle": "2022-10-30T14:10:32.047990Z",
     "shell.execute_reply": "2022-10-30T14:10:32.047095Z"
    },
    "papermill": {
     "duration": 0.04947,
     "end_time": "2022-10-30T14:10:32.048126",
     "exception": false,
     "start_time": "2022-10-30T14:10:31.998656",
     "status": "completed"
    },
    "tags": []
   },
   "outputs": [],
   "source": [
    "submission['count'] = np.exp(randomforest_preds) # 지수변환\n",
    "submission.to_csv('submission.csv', index=False)"
   ]
  }
 ],
 "metadata": {
  "kernelspec": {
   "display_name": "Python 3",
   "language": "python",
   "name": "python3"
  },
  "language_info": {
   "codemirror_mode": {
    "name": "ipython",
    "version": 3
   },
   "file_extension": ".py",
   "mimetype": "text/x-python",
   "name": "python",
   "nbconvert_exporter": "python",
   "pygments_lexer": "ipython3",
   "version": "3.7.10"
  },
  "papermill": {
   "default_parameters": {},
   "duration": 59.672687,
   "end_time": "2022-10-30T14:10:32.782372",
   "environment_variables": {},
   "exception": null,
   "input_path": "__notebook__.ipynb",
   "output_path": "__notebook__.ipynb",
   "parameters": {},
   "start_time": "2022-10-30T14:09:33.109685",
   "version": "2.3.3"
  }
 },
 "nbformat": 4,
 "nbformat_minor": 5
}
