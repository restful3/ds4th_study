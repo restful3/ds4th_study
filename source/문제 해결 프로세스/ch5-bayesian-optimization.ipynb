{
 "cells": [
  {
   "cell_type": "markdown",
   "id": "61514d22",
   "metadata": {
    "papermill": {
     "duration": 0.011343,
     "end_time": "2022-01-06T14:13:56.369145",
     "exception": false,
     "start_time": "2022-01-06T14:13:56.357802",
     "status": "completed"
    },
    "tags": []
   },
   "source": [
    "## 5.7.3 베이지안 최적화"
   ]
  },
  {
   "cell_type": "markdown",
   "id": "b2c793e1",
   "metadata": {
    "papermill": {
     "duration": 0.0082,
     "end_time": "2022-01-06T14:13:56.388146",
     "exception": false,
     "start_time": "2022-01-06T14:13:56.379946",
     "status": "completed"
    },
    "tags": []
   },
   "source": [
    "### 1) 하이퍼 파라미터 탐색 범위 설정"
   ]
  },
  {
   "cell_type": "code",
   "execution_count": 1,
   "id": "d4cd4d87",
   "metadata": {
    "execution": {
     "iopub.execute_input": "2022-01-06T14:13:56.414483Z",
     "iopub.status.busy": "2022-01-06T14:13:56.413533Z",
     "iopub.status.idle": "2022-01-06T14:13:56.422963Z",
     "shell.execute_reply": "2022-01-06T14:13:56.423571Z",
     "shell.execute_reply.started": "2022-01-06T14:13:35.482811Z"
    },
    "papermill": {
     "duration": 0.027331,
     "end_time": "2022-01-06T14:13:56.423905",
     "exception": false,
     "start_time": "2022-01-06T14:13:56.396574",
     "status": "completed"
    },
    "tags": []
   },
   "outputs": [],
   "source": [
    "# 하이퍼 파라미터 범위 (딕셔너리 형태)\n",
    "param_bounds = {'x': (-1, 5), \n",
    "                'y': (0, 4)}"
   ]
  },
  {
   "cell_type": "markdown",
   "id": "bc1bacaa",
   "metadata": {
    "papermill": {
     "duration": 0.007267,
     "end_time": "2022-01-06T14:13:56.439042",
     "exception": false,
     "start_time": "2022-01-06T14:13:56.431775",
     "status": "completed"
    },
    "tags": []
   },
   "source": [
    "### 2) 평가지표 계산 함수 정의"
   ]
  },
  {
   "cell_type": "code",
   "execution_count": 2,
   "id": "33ccaffc",
   "metadata": {
    "_cell_guid": "b1076dfc-b9ad-4769-8c92-a6c4dae69d19",
    "_uuid": "8f2839f25d086af736a60e9eeb907d3b93b6e0e5",
    "execution": {
     "iopub.execute_input": "2022-01-06T14:13:56.463537Z",
     "iopub.status.busy": "2022-01-06T14:13:56.462409Z",
     "iopub.status.idle": "2022-01-06T14:13:56.464397Z",
     "shell.execute_reply": "2022-01-06T14:13:56.465022Z",
     "shell.execute_reply.started": "2022-01-06T14:13:35.515925Z"
    },
    "papermill": {
     "duration": 0.016185,
     "end_time": "2022-01-06T14:13:56.465224",
     "exception": false,
     "start_time": "2022-01-06T14:13:56.449039",
     "status": "completed"
    },
    "tags": []
   },
   "outputs": [],
   "source": [
    "def eval_function(x, y):\n",
    "    return -x ** 2 - (y - 2) ** 2 + 10"
   ]
  },
  {
   "cell_type": "markdown",
   "id": "5c157158",
   "metadata": {
    "papermill": {
     "duration": 0.008097,
     "end_time": "2022-01-06T14:13:56.481268",
     "exception": false,
     "start_time": "2022-01-06T14:13:56.473171",
     "status": "completed"
    },
    "tags": []
   },
   "source": [
    "### 3) 베이지안 최적화 객체 생성"
   ]
  },
  {
   "cell_type": "code",
   "execution_count": 3,
   "id": "89f6bd76",
   "metadata": {
    "execution": {
     "iopub.execute_input": "2022-01-06T14:13:56.500535Z",
     "iopub.status.busy": "2022-01-06T14:13:56.499492Z",
     "iopub.status.idle": "2022-01-06T14:13:57.533204Z",
     "shell.execute_reply": "2022-01-06T14:13:57.532000Z",
     "shell.execute_reply.started": "2022-01-06T14:13:35.530419Z"
    },
    "papermill": {
     "duration": 1.04437,
     "end_time": "2022-01-06T14:13:57.533376",
     "exception": false,
     "start_time": "2022-01-06T14:13:56.489006",
     "status": "completed"
    },
    "tags": []
   },
   "outputs": [],
   "source": [
    "from bayes_opt import BayesianOptimization\n",
    "\n",
    "# 베이지안 최적화 객체 생성\n",
    "optimizer = BayesianOptimization(f=eval_function,\n",
    "                                 pbounds=param_bounds,\n",
    "                                 random_state=0)"
   ]
  },
  {
   "cell_type": "markdown",
   "id": "00b69042",
   "metadata": {
    "papermill": {
     "duration": 0.007341,
     "end_time": "2022-01-06T14:13:57.548897",
     "exception": false,
     "start_time": "2022-01-06T14:13:57.541556",
     "status": "completed"
    },
    "tags": []
   },
   "source": [
    "### 4) 최적화 수행"
   ]
  },
  {
   "cell_type": "code",
   "execution_count": 4,
   "id": "feb67cb8",
   "metadata": {
    "execution": {
     "iopub.execute_input": "2022-01-06T14:13:57.588457Z",
     "iopub.status.busy": "2022-01-06T14:13:57.570170Z",
     "iopub.status.idle": "2022-01-06T14:13:59.248117Z",
     "shell.execute_reply": "2022-01-06T14:13:59.248795Z"
    },
    "papermill": {
     "duration": 1.692004,
     "end_time": "2022-01-06T14:13:59.249046",
     "exception": false,
     "start_time": "2022-01-06T14:13:57.557042",
     "status": "completed"
    },
    "tags": []
   },
   "outputs": [
    {
     "name": "stdout",
     "output_type": "stream",
     "text": [
      "|   iter    |  target   |     x     |     y     |\n",
      "-------------------------------------------------\n",
      "| \u001b[0m 1       \u001b[0m | \u001b[0m 4.002   \u001b[0m | \u001b[0m 2.293   \u001b[0m | \u001b[0m 2.861   \u001b[0m |\n",
      "| \u001b[0m 2       \u001b[0m | \u001b[0m 3.121   \u001b[0m | \u001b[0m 2.617   \u001b[0m | \u001b[0m 2.18    \u001b[0m |\n",
      "| \u001b[0m 3       \u001b[0m | \u001b[0m 3.832   \u001b[0m | \u001b[0m 2.327   \u001b[0m | \u001b[0m 2.869   \u001b[0m |\n",
      "| \u001b[95m 4       \u001b[0m | \u001b[95m 4.596   \u001b[0m | \u001b[95m 2.171   \u001b[0m | \u001b[95m 2.832   \u001b[0m |\n",
      "| \u001b[0m 5       \u001b[0m | \u001b[0m-6.227   \u001b[0m | \u001b[0m 3.989   \u001b[0m | \u001b[0m 2.559   \u001b[0m |\n",
      "| \u001b[95m 6       \u001b[0m | \u001b[95m 9.467   \u001b[0m | \u001b[95m 0.3522  \u001b[0m | \u001b[95m 1.361   \u001b[0m |\n",
      "| \u001b[0m 7       \u001b[0m | \u001b[0m 7.39    \u001b[0m | \u001b[0m-1.0     \u001b[0m | \u001b[0m 3.269   \u001b[0m |\n",
      "| \u001b[0m 8       \u001b[0m | \u001b[0m 5.0     \u001b[0m | \u001b[0m-1.0     \u001b[0m | \u001b[0m 0.0     \u001b[0m |\n",
      "| \u001b[0m 9       \u001b[0m | \u001b[0m 3.841   \u001b[0m | \u001b[0m 1.469   \u001b[0m | \u001b[0m 0.0     \u001b[0m |\n",
      "| \u001b[0m 10      \u001b[0m | \u001b[0m 8.966   \u001b[0m | \u001b[0m-1.0     \u001b[0m | \u001b[0m 1.817   \u001b[0m |\n",
      "| \u001b[95m 11      \u001b[0m | \u001b[95m 9.737   \u001b[0m | \u001b[95m 0.1806  \u001b[0m | \u001b[95m 2.48    \u001b[0m |\n",
      "| \u001b[0m 12      \u001b[0m | \u001b[0m 5.785   \u001b[0m | \u001b[0m 0.4637  \u001b[0m | \u001b[0m 4.0     \u001b[0m |\n",
      "=================================================\n"
     ]
    }
   ],
   "source": [
    "# 베이지안 최적화 수행\n",
    "optimizer.maximize(init_points=2, n_iter=10)"
   ]
  },
  {
   "cell_type": "code",
   "execution_count": 5,
   "id": "3f6a4a61",
   "metadata": {
    "execution": {
     "iopub.execute_input": "2022-01-06T14:13:59.273891Z",
     "iopub.status.busy": "2022-01-06T14:13:59.272877Z",
     "iopub.status.idle": "2022-01-06T14:13:59.280944Z",
     "shell.execute_reply": "2022-01-06T14:13:59.281472Z"
    },
    "papermill": {
     "duration": 0.021456,
     "end_time": "2022-01-06T14:13:59.281644",
     "exception": false,
     "start_time": "2022-01-06T14:13:59.260188",
     "status": "completed"
    },
    "tags": []
   },
   "outputs": [
    {
     "data": {
      "text/plain": [
       "{'target': 9.737113614981094,\n",
       " 'params': {'x': 0.18055072150995197, 'y': 2.4798831336702114}}"
      ]
     },
     "execution_count": 5,
     "metadata": {},
     "output_type": "execute_result"
    }
   ],
   "source": [
    "# 평가점수가 최대일 때 타깃, x, y 값 출력\n",
    "optimizer.max"
   ]
  }
 ],
 "metadata": {
  "kernelspec": {
   "display_name": "Python 3",
   "language": "python",
   "name": "python3"
  },
  "language_info": {
   "codemirror_mode": {
    "name": "ipython",
    "version": 3
   },
   "file_extension": ".py",
   "mimetype": "text/x-python",
   "name": "python",
   "nbconvert_exporter": "python",
   "pygments_lexer": "ipython3",
   "version": "3.7.10"
  },
  "papermill": {
   "default_parameters": {},
   "duration": 12.975396,
   "end_time": "2022-01-06T14:14:00.003016",
   "environment_variables": {},
   "exception": null,
   "input_path": "__notebook__.ipynb",
   "output_path": "__notebook__.ipynb",
   "parameters": {},
   "start_time": "2022-01-06T14:13:47.027620",
   "version": "2.3.3"
  }
 },
 "nbformat": 4,
 "nbformat_minor": 5
}
