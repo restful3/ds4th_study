{
 "cells": [
  {
   "cell_type": "markdown",
   "id": "c9634006",
   "metadata": {},
   "source": [
    "# 개요"
   ]
  },
  {
   "cell_type": "markdown",
   "id": "1b02d875",
   "metadata": {},
   "source": [
    "## 학습 목표\n",
    "    - 시간에 따른 특징을 갖는 시계열 데이터 다루기\n",
    "    - RNN을 이용 주식 데이터 학습 및 다음날 종가 예측"
   ]
  },
  {
   "cell_type": "markdown",
   "id": "f0885ac9",
   "metadata": {},
   "source": [
    "## 학습 순서"
   ]
  },
  {
   "cell_type": "markdown",
   "id": "431d1315",
   "metadata": {},
   "source": [
    "<img src='./figs/06_01.png'>"
   ]
  },
  {
   "cell_type": "markdown",
   "id": "ae458051",
   "metadata": {},
   "source": [
    "# 이해하기 : RNN\n",
    "- 순서가 있는 데이터는, 순서를 고려한 모델 설계를 해야 한다\n",
    "- 모델이 과거와 현재 정보를 다 가지고 있어야 한다.\n",
    "- 모델이 보낸 과거의 출력을, 다시 입력으로 넣어 주는, 되풀이(recurrent) 되는 구조\n",
    "- 이를 RNN (recurrent neural network) 라고 한다"
   ]
  },
  {
   "cell_type": "markdown",
   "id": "129d7270",
   "metadata": {},
   "source": [
    "<img src='./figs/06_02.png'>"
   ]
  },
  {
   "cell_type": "markdown",
   "id": "c6247ea7",
   "metadata": {},
   "source": [
    "- RNN에서 각 신경망 각 층은 한 시점(cell)\n",
    "- 모든 시점에서의 가중치는 전부 공유 되고 있음\n",
    "- 모든 시점에서의 출력은 다음 시점의 입력값과 합쳐져 가중치가 적용\n",
    "- 최종 출력값이 출력, 출력층 이전의 출력은 은닉 상태\n",
    "- 입력층은 모델의 시작으로 이전의 은닉 상태가 존재하지 않아 랜덤한 값을 줌\n",
    "\n",
    "## 장점\n",
    "- 이전 정보를 현재 시점에 이용, 시간에 대한 정보 추출 가능\n",
    "- 같은 가중치를 반복 사용, 가중치 수가 적다\n",
    "\n",
    "## 단점\n",
    "- 같은 가중치를 여러번 반복 사용, 계산 시간 오래 걸림\n",
    "- 시계열이 길어질 수록 앞의 정보가 점점 흐려진다"
   ]
  },
  {
   "cell_type": "markdown",
   "id": "ecf990c8",
   "metadata": {},
   "source": [
    "# 데이터 살펴보기\n",
    "- 넷플릭스 주가의 하루 시가, 고가, 저가 정보로\n",
    "- 다음 날의 종가 예측"
   ]
  },
  {
   "cell_type": "code",
   "execution_count": 3,
   "id": "9f64e915",
   "metadata": {},
   "outputs": [
    {
     "name": "stdout",
     "output_type": "stream",
     "text": [
      "<class 'pandas.core.frame.DataFrame'>\n",
      "RangeIndex: 1009 entries, 0 to 1008\n",
      "Data columns (total 6 columns):\n",
      " #   Column  Non-Null Count  Dtype  \n",
      "---  ------  --------------  -----  \n",
      " 0   Date    1009 non-null   object \n",
      " 1   Open    1009 non-null   float64\n",
      " 2   High    1009 non-null   float64\n",
      " 3   Low     1009 non-null   float64\n",
      " 4   Volume  1009 non-null   int64  \n",
      " 5   Close   1009 non-null   float64\n",
      "dtypes: float64(4), int64(1), object(1)\n",
      "memory usage: 47.4+ KB\n"
     ]
    }
   ],
   "source": [
    "import pandas as pd\n",
    "\n",
    "df = pd.read_csv('./datasets/CH06.csv')\n",
    "df.info()"
   ]
  },
  {
   "cell_type": "code",
   "execution_count": 4,
   "id": "7397f5da",
   "metadata": {},
   "outputs": [
    {
     "data": {
      "text/html": [
       "<div>\n",
       "<style scoped>\n",
       "    .dataframe tbody tr th:only-of-type {\n",
       "        vertical-align: middle;\n",
       "    }\n",
       "\n",
       "    .dataframe tbody tr th {\n",
       "        vertical-align: top;\n",
       "    }\n",
       "\n",
       "    .dataframe thead th {\n",
       "        text-align: right;\n",
       "    }\n",
       "</style>\n",
       "<table border=\"1\" class=\"dataframe\">\n",
       "  <thead>\n",
       "    <tr style=\"text-align: right;\">\n",
       "      <th></th>\n",
       "      <th>Date</th>\n",
       "      <th>Open</th>\n",
       "      <th>High</th>\n",
       "      <th>Low</th>\n",
       "      <th>Volume</th>\n",
       "      <th>Close</th>\n",
       "    </tr>\n",
       "  </thead>\n",
       "  <tbody>\n",
       "    <tr>\n",
       "      <th>0</th>\n",
       "      <td>2018-02-05</td>\n",
       "      <td>262.000000</td>\n",
       "      <td>267.899994</td>\n",
       "      <td>250.029999</td>\n",
       "      <td>11896100</td>\n",
       "      <td>254.259995</td>\n",
       "    </tr>\n",
       "    <tr>\n",
       "      <th>1</th>\n",
       "      <td>2018-02-06</td>\n",
       "      <td>247.699997</td>\n",
       "      <td>266.700012</td>\n",
       "      <td>245.000000</td>\n",
       "      <td>12595800</td>\n",
       "      <td>265.720001</td>\n",
       "    </tr>\n",
       "    <tr>\n",
       "      <th>2</th>\n",
       "      <td>2018-02-07</td>\n",
       "      <td>266.579987</td>\n",
       "      <td>272.450012</td>\n",
       "      <td>264.329987</td>\n",
       "      <td>8981500</td>\n",
       "      <td>264.559998</td>\n",
       "    </tr>\n",
       "    <tr>\n",
       "      <th>3</th>\n",
       "      <td>2018-02-08</td>\n",
       "      <td>267.079987</td>\n",
       "      <td>267.619995</td>\n",
       "      <td>250.000000</td>\n",
       "      <td>9306700</td>\n",
       "      <td>250.100006</td>\n",
       "    </tr>\n",
       "    <tr>\n",
       "      <th>4</th>\n",
       "      <td>2018-02-09</td>\n",
       "      <td>253.850006</td>\n",
       "      <td>255.800003</td>\n",
       "      <td>236.110001</td>\n",
       "      <td>16906900</td>\n",
       "      <td>249.470001</td>\n",
       "    </tr>\n",
       "  </tbody>\n",
       "</table>\n",
       "</div>"
      ],
      "text/plain": [
       "         Date        Open        High         Low    Volume       Close\n",
       "0  2018-02-05  262.000000  267.899994  250.029999  11896100  254.259995\n",
       "1  2018-02-06  247.699997  266.700012  245.000000  12595800  265.720001\n",
       "2  2018-02-07  266.579987  272.450012  264.329987   8981500  264.559998\n",
       "3  2018-02-08  267.079987  267.619995  250.000000   9306700  250.100006\n",
       "4  2018-02-09  253.850006  255.800003  236.110001  16906900  249.470001"
      ]
     },
     "execution_count": 4,
     "metadata": {},
     "output_type": "execute_result"
    }
   ],
   "source": [
    "df.head()"
   ]
  },
  {
   "cell_type": "code",
   "execution_count": 5,
   "id": "cfe0fd1a",
   "metadata": {},
   "outputs": [
    {
     "data": {
      "text/plain": [
       "Index(['Date', 'Open', 'High', 'Low', 'Volume', 'Close'], dtype='object')"
      ]
     },
     "execution_count": 5,
     "metadata": {},
     "output_type": "execute_result"
    }
   ],
   "source": [
    "df.columns"
   ]
  },
  {
   "cell_type": "code",
   "execution_count": 6,
   "id": "78af87da",
   "metadata": {},
   "outputs": [
    {
     "data": {
      "image/png": "[encoded data removed]",
      "text/plain": [
       "<Figure size 640x480 with 4 Axes>"
      ]
     },
     "metadata": {},
     "output_type": "display_data"
    }
   ],
   "source": [
    "import matplotlib.pyplot as plt\n",
    "\n",
    "cols = ['Open', 'High', 'Low', 'Close']\n",
    "df_tmp = df[cols]\n",
    "df_tmp.hist()\n",
    "plt.tight_layout()\n",
    "plt.show()"
   ]
  },
  {
   "cell_type": "markdown",
   "id": "1a3b0e1e",
   "metadata": {},
   "source": [
    "# 학습용 데이터 만들기"
   ]
  },
  {
   "cell_type": "markdown",
   "id": "9f2af00f",
   "metadata": {},
   "source": [
    "- RNN은 여러 시점의 값을 입력 받는다\n",
    "- 입력 데이터에는 하루치 개장가, 최고가, 최저가를 묶어 입력 데이터의 한 시점으로 본다\n",
    "- 종가 데이터는 하루치 종가를 한 시점으로 본다\n",
    "- 배치 단위는 30일 치로 한다. (원하는 대로 하면 되는 값)\n",
    "- 오늘의 개장가, 최고가, 최저가로, 내일의 종가를 맞추는 것이 목적"
   ]
  },
  {
   "cell_type": "markdown",
   "id": "698245f0",
   "metadata": {},
   "source": [
    "<img src='./figs/06_03.png'>"
   ]
  },
  {
   "cell_type": "code",
   "execution_count": 7,
   "id": "34a70e87",
   "metadata": {},
   "outputs": [
    {
     "data": {
      "text/html": [
       "<div>\n",
       "<style scoped>\n",
       "    .dataframe tbody tr th:only-of-type {\n",
       "        vertical-align: middle;\n",
       "    }\n",
       "\n",
       "    .dataframe tbody tr th {\n",
       "        vertical-align: top;\n",
       "    }\n",
       "\n",
       "    .dataframe thead th {\n",
       "        text-align: right;\n",
       "    }\n",
       "</style>\n",
       "<table border=\"1\" class=\"dataframe\">\n",
       "  <thead>\n",
       "    <tr style=\"text-align: right;\">\n",
       "      <th></th>\n",
       "      <th>Date</th>\n",
       "      <th>Open</th>\n",
       "      <th>High</th>\n",
       "      <th>Low</th>\n",
       "      <th>Volume</th>\n",
       "      <th>Close</th>\n",
       "    </tr>\n",
       "  </thead>\n",
       "  <tbody>\n",
       "    <tr>\n",
       "      <th>0</th>\n",
       "      <td>2018-02-05</td>\n",
       "      <td>262.000000</td>\n",
       "      <td>267.899994</td>\n",
       "      <td>250.029999</td>\n",
       "      <td>11896100</td>\n",
       "      <td>254.259995</td>\n",
       "    </tr>\n",
       "    <tr>\n",
       "      <th>1</th>\n",
       "      <td>2018-02-06</td>\n",
       "      <td>247.699997</td>\n",
       "      <td>266.700012</td>\n",
       "      <td>245.000000</td>\n",
       "      <td>12595800</td>\n",
       "      <td>265.720001</td>\n",
       "    </tr>\n",
       "    <tr>\n",
       "      <th>2</th>\n",
       "      <td>2018-02-07</td>\n",
       "      <td>266.579987</td>\n",
       "      <td>272.450012</td>\n",
       "      <td>264.329987</td>\n",
       "      <td>8981500</td>\n",
       "      <td>264.559998</td>\n",
       "    </tr>\n",
       "    <tr>\n",
       "      <th>3</th>\n",
       "      <td>2018-02-08</td>\n",
       "      <td>267.079987</td>\n",
       "      <td>267.619995</td>\n",
       "      <td>250.000000</td>\n",
       "      <td>9306700</td>\n",
       "      <td>250.100006</td>\n",
       "    </tr>\n",
       "    <tr>\n",
       "      <th>4</th>\n",
       "      <td>2018-02-09</td>\n",
       "      <td>253.850006</td>\n",
       "      <td>255.800003</td>\n",
       "      <td>236.110001</td>\n",
       "      <td>16906900</td>\n",
       "      <td>249.470001</td>\n",
       "    </tr>\n",
       "    <tr>\n",
       "      <th>...</th>\n",
       "      <td>...</td>\n",
       "      <td>...</td>\n",
       "      <td>...</td>\n",
       "      <td>...</td>\n",
       "      <td>...</td>\n",
       "      <td>...</td>\n",
       "    </tr>\n",
       "    <tr>\n",
       "      <th>1004</th>\n",
       "      <td>2022-01-31</td>\n",
       "      <td>401.970001</td>\n",
       "      <td>427.700012</td>\n",
       "      <td>398.200012</td>\n",
       "      <td>20047500</td>\n",
       "      <td>427.140015</td>\n",
       "    </tr>\n",
       "    <tr>\n",
       "      <th>1005</th>\n",
       "      <td>2022-02-01</td>\n",
       "      <td>432.959991</td>\n",
       "      <td>458.480011</td>\n",
       "      <td>425.540009</td>\n",
       "      <td>22542300</td>\n",
       "      <td>457.130005</td>\n",
       "    </tr>\n",
       "    <tr>\n",
       "      <th>1006</th>\n",
       "      <td>2022-02-02</td>\n",
       "      <td>448.250000</td>\n",
       "      <td>451.980011</td>\n",
       "      <td>426.480011</td>\n",
       "      <td>14346000</td>\n",
       "      <td>429.480011</td>\n",
       "    </tr>\n",
       "    <tr>\n",
       "      <th>1007</th>\n",
       "      <td>2022-02-03</td>\n",
       "      <td>421.440002</td>\n",
       "      <td>429.260010</td>\n",
       "      <td>404.279999</td>\n",
       "      <td>9905200</td>\n",
       "      <td>405.600006</td>\n",
       "    </tr>\n",
       "    <tr>\n",
       "      <th>1008</th>\n",
       "      <td>2022-02-04</td>\n",
       "      <td>407.309998</td>\n",
       "      <td>412.769989</td>\n",
       "      <td>396.640015</td>\n",
       "      <td>7782400</td>\n",
       "      <td>410.170013</td>\n",
       "    </tr>\n",
       "  </tbody>\n",
       "</table>\n",
       "<p>1009 rows × 6 columns</p>\n",
       "</div>"
      ],
      "text/plain": [
       "            Date        Open        High         Low    Volume       Close\n",
       "0     2018-02-05  262.000000  267.899994  250.029999  11896100  254.259995\n",
       "1     2018-02-06  247.699997  266.700012  245.000000  12595800  265.720001\n",
       "2     2018-02-07  266.579987  272.450012  264.329987   8981500  264.559998\n",
       "3     2018-02-08  267.079987  267.619995  250.000000   9306700  250.100006\n",
       "4     2018-02-09  253.850006  255.800003  236.110001  16906900  249.470001\n",
       "...          ...         ...         ...         ...       ...         ...\n",
       "1004  2022-01-31  401.970001  427.700012  398.200012  20047500  427.140015\n",
       "1005  2022-02-01  432.959991  458.480011  425.540009  22542300  457.130005\n",
       "1006  2022-02-02  448.250000  451.980011  426.480011  14346000  429.480011\n",
       "1007  2022-02-03  421.440002  429.260010  404.279999   9905200  405.600006\n",
       "1008  2022-02-04  407.309998  412.769989  396.640015   7782400  410.170013\n",
       "\n",
       "[1009 rows x 6 columns]"
      ]
     },
     "execution_count": 7,
     "metadata": {},
     "output_type": "execute_result"
    }
   ],
   "source": [
    "df"
   ]
  },
  {
   "cell_type": "code",
   "execution_count": 8,
   "id": "4dc0f4e7",
   "metadata": {},
   "outputs": [],
   "source": [
    "import numpy as np\n",
    "from torch.utils.data.dataset import Dataset\n",
    "\n",
    "class Netflix(Dataset):\n",
    "    def __init__(self):\n",
    "        self.df = pd.read_csv('./datasets/CH06.csv')\n",
    "        target_cols = ['Open', 'High', 'Low', 'Close']\n",
    "        self.df = self.df[target_cols]\n",
    "        self.df = (self.df - np.min(self.df, axis=0))/(np.max(self.df, axis=0) - np.min(self.df, axis=0))\n",
    "        \n",
    "        self.data = self.df.iloc[:, :-1]\n",
    "        self.label = self.df.iloc[:, -1]        \n",
    "        \n",
    "    def __len__(self):\n",
    "        return len(self.data) - 30 # 사용 가능한 배치 개수\n",
    "    \n",
    "    def __getitem__(self, i):\n",
    "        data = self.data[i:i+30].values # i부터 i+29일 까지의 data (30, 3)\n",
    "        label = self.label[i+30] # i+30일의 label\n",
    "        return data, label"
   ]
  },
  {
   "cell_type": "markdown",
   "id": "6b1715df",
   "metadata": {},
   "source": [
    "<img src='./figs/06_04.png'>"
   ]
  },
  {
   "cell_type": "markdown",
   "id": "d60e634b",
   "metadata": {},
   "source": [
    "# RNN 모델 정의하기"
   ]
  },
  {
   "cell_type": "markdown",
   "id": "67149635",
   "metadata": {},
   "source": [
    "<img src='./figs/06_05.png'>"
   ]
  },
  {
   "cell_type": "markdown",
   "id": "57100431",
   "metadata": {},
   "source": [
    "- RNN 층의 동그라미 하나가 시점 (배치마다 30일치 시점 사용, 동그라미가 30개 여야)\n",
    "- 각 시점에서 출력, 즉 은닉 상태가 다음 RNN 층과 같은 시점과, 같은 RNN층의 다음 시점으로 들어감\n",
    "- RNN의 출력을 MLP 로 입력"
   ]
  },
  {
   "cell_type": "markdown",
   "id": "ca20b7d9",
   "metadata": {},
   "source": [
    "<img src='./figs/06_06.png'>"
   ]
  },
  {
   "cell_type": "code",
   "execution_count": 9,
   "id": "0c7fa819",
   "metadata": {},
   "outputs": [],
   "source": [
    "import torch\n",
    "import torch.nn as nn\n",
    "\n",
    "class RNN(nn.Module):\n",
    "    def __init__(self):\n",
    "        super(RNN, self).__init__()\n",
    "        \n",
    "        # RNN층 정의\n",
    "        self.rnn = nn.RNN(input_size=3, hidden_size=8, \n",
    "                          num_layers=5, batch_first=True) # input shape 은 (batch_size, 시계열 길이, input_size)\n",
    "        self.fc1 = nn.Linear(in_features=240, out_features=64)\n",
    "        self.fc2 = nn.Linear(in_features=64, out_features=1)\n",
    "        \n",
    "        self.relu = nn.ReLU()\n",
    "        \n",
    "    def forward(self, x, h0):\n",
    "        x, h0 = self.rnn(x, h0)\n",
    "        \n",
    "        x = torch.reshape(x, (x.shape[0], -1))\n",
    "        x = self.fc1(x)\n",
    "        x = self.relu(x)\n",
    "        x = self.fc2(x)        \n",
    "        \n",
    "        x = torch.flatten(x)\n",
    "        return x"
   ]
  },
  {
   "cell_type": "markdown",
   "id": "4b6d4d7e",
   "metadata": {},
   "source": [
    "- input_size: RNN 모델의 입력 벡터의 크기입니다. 즉, 각 시점(time step)의 입력으로 주어지는 데이터의 차원 수를 의미합니다. input_size=3이면 각 시점에서 3차원(개장가, 최고가, 최저가)의 입력이 주어진다는 것을 의미합니다.\n",
    "\n",
    "- hidden_size: RNN 모델의 은닉 상태 벡터의 크기입니다. RNN은 시간에 따라 정보를 전달하면서 내부적으로 은닉 상태를 유지합니다. hidden_size는 은닉 상태의 차원 수를 나타냅니다. 이 값은 RNN이 가진 은닉 상태의 표현 능력을 결정합니다. 더 큰 hidden_size는 더 많은 정보를 저장할 수 있지만, 모델의 파라미터 수와 계산 비용이 증가할 수 있습니다.\n",
    "\n",
    "- num_layers: RNN 모델의 층(layer) 수를 의미합니다. RNN을 여러 층으로 쌓을 경우, 이를 통해 더 복잡한 시계열 패턴을 학습할 수 있습니다. num_layers=5는 5개의 RNN 층을 쌓는다는 것을 의미합니다.\n",
    "\n",
    "    - hidden_size는 RNN의 각 층에서의 은닉 상태 벡터의 크기를 지정하는 것이며, num_layers는 RNN 층을 여러 개 쌓는데 사용되는 매개변수입니다. hidden_size는 각 층에서의 은닉 상태 벡터의 크기를 결정하고, num_layers는 여러 층을 쌓아서 더 복잡한 모델을 구성할 수 있도록 합니다.\n",
    "\n",
    "- batch_first는 배치 차원이 가장 앞에 오게 하는 것 (32가 배치 차원), 여기서는, (32, 30, 3) (배치, 30일치, 개장가/최고가/최저가)\n",
    "- fc1의 in_features는, 30일치*hidden_size(8) = 240 (아래 식 참조)\n",
    "- RNN층은 출력이 2개\n",
    "    - x는 마지막 RNN 층의 은닉상태 (우리가 사용 할 값)\n",
    "    - 두번째 hn 은 모든 RNN 층의 은닉 상태\n",
    "- 시계열의 차원을 제거해 MLP의 입력으로 사용 (2차원을 1차원으로 바뀜)"
   ]
  },
  {
   "cell_type": "markdown",
   "id": "348fa3a1",
   "metadata": {},
   "source": [
    "<img src='./figs/06_rnn.png'>\n",
    "\n",
    "- [소스](https://coding-yoon.tistory.com/55)"
   ]
  },
  {
   "cell_type": "markdown",
   "id": "36a6bff5",
   "metadata": {},
   "source": [
    "<img src='./figs/06_07.png'>"
   ]
  },
  {
   "cell_type": "markdown",
   "id": "99e80fb5",
   "metadata": {},
   "source": [
    "- MLP 층으로 종가 예측 \n",
    "- 종가는 하나의 숫자, (배치, 1) 형태"
   ]
  },
  {
   "cell_type": "markdown",
   "id": "2eb3e900",
   "metadata": {},
   "source": [
    "# 모델 학습하기"
   ]
  },
  {
   "cell_type": "markdown",
   "id": "ec30ffd0",
   "metadata": {},
   "source": [
    "<img src='./figs/06_08.png'>"
   ]
  },
  {
   "cell_type": "code",
   "execution_count": 10,
   "id": "535f244d",
   "metadata": {},
   "outputs": [
    {
     "name": "stdout",
     "output_type": "stream",
     "text": [
      "cuda\n"
     ]
    }
   ],
   "source": [
    "import tqdm\n",
    "\n",
    "from torch.optim.adam import Adam\n",
    "from torch.utils.data.dataloader import DataLoader\n",
    "\n",
    "device = 'cuda' if torch.cuda.is_available() else 'cpu'\n",
    "print(device)"
   ]
  },
  {
   "cell_type": "code",
   "execution_count": 11,
   "id": "f7dc23e0",
   "metadata": {},
   "outputs": [],
   "source": [
    "model = RNN().to(device)\n",
    "dataset = Netflix()\n",
    "loader = DataLoader(dataset, batch_size=32)\n",
    "optim = Adam(params=model.parameters(), lr=0.0001)\n",
    "loss_fn = nn.MSELoss().to(device)"
   ]
  },
  {
   "cell_type": "code",
   "execution_count": 11,
   "id": "dd290c07",
   "metadata": {},
   "outputs": [
    {
     "name": "stderr",
     "output_type": "stream",
     "text": [
      "epoch : 1, loss : 0.025: 100%|█████████████████| 31/31 [00:00<00:00, 144.68it/s]\n",
      "epoch : 2, loss : 0.022: 100%|█████████████████| 31/31 [00:00<00:00, 288.15it/s]\n",
      "epoch : 3, loss : 0.024: 100%|█████████████████| 31/31 [00:00<00:00, 287.52it/s]\n",
      "epoch : 4, loss : 0.024: 100%|█████████████████| 31/31 [00:00<00:00, 288.29it/s]\n",
      "epoch : 5, loss : 0.024: 100%|█████████████████| 31/31 [00:00<00:00, 303.52it/s]\n",
      "epoch : 6, loss : 0.024: 100%|█████████████████| 31/31 [00:00<00:00, 288.49it/s]\n",
      "epoch : 7, loss : 0.024: 100%|█████████████████| 31/31 [00:00<00:00, 291.56it/s]\n",
      "epoch : 8, loss : 0.024: 100%|█████████████████| 31/31 [00:00<00:00, 306.37it/s]\n",
      "epoch : 9, loss : 0.024: 100%|█████████████████| 31/31 [00:00<00:00, 301.12it/s]\n",
      "epoch : 10, loss : 0.024: 100%|████████████████| 31/31 [00:00<00:00, 305.15it/s]\n",
      "epoch : 11, loss : 0.024: 100%|████████████████| 31/31 [00:00<00:00, 298.87it/s]\n",
      "epoch : 12, loss : 0.023: 100%|████████████████| 31/31 [00:00<00:00, 292.99it/s]\n",
      "epoch : 13, loss : 0.023: 100%|████████████████| 31/31 [00:00<00:00, 305.69it/s]\n",
      "epoch : 14, loss : 0.023: 100%|████████████████| 31/31 [00:00<00:00, 298.71it/s]\n",
      "epoch : 15, loss : 0.023: 100%|████████████████| 31/31 [00:00<00:00, 304.97it/s]\n",
      "epoch : 16, loss : 0.023: 100%|████████████████| 31/31 [00:00<00:00, 302.79it/s]\n",
      "epoch : 17, loss : 0.023: 100%|████████████████| 31/31 [00:00<00:00, 284.16it/s]\n",
      "epoch : 18, loss : 0.023: 100%|████████████████| 31/31 [00:00<00:00, 295.52it/s]\n",
      "epoch : 19, loss : 0.023: 100%|████████████████| 31/31 [00:00<00:00, 296.61it/s]\n",
      "epoch : 20, loss : 0.023: 100%|████████████████| 31/31 [00:00<00:00, 298.51it/s]\n",
      "epoch : 21, loss : 0.022: 100%|████████████████| 31/31 [00:00<00:00, 297.45it/s]\n",
      "epoch : 22, loss : 0.022: 100%|████████████████| 31/31 [00:00<00:00, 305.04it/s]\n",
      "epoch : 23, loss : 0.021: 100%|████████████████| 31/31 [00:00<00:00, 294.68it/s]\n",
      "epoch : 24, loss : 0.021: 100%|████████████████| 31/31 [00:00<00:00, 298.89it/s]\n",
      "epoch : 25, loss : 0.020: 100%|████████████████| 31/31 [00:00<00:00, 293.60it/s]\n",
      "epoch : 26, loss : 0.019: 100%|████████████████| 31/31 [00:00<00:00, 286.33it/s]\n",
      "epoch : 27, loss : 0.018: 100%|████████████████| 31/31 [00:00<00:00, 300.57it/s]\n",
      "epoch : 28, loss : 0.020: 100%|████████████████| 31/31 [00:00<00:00, 294.57it/s]\n",
      "epoch : 29, loss : 0.027: 100%|████████████████| 31/31 [00:00<00:00, 301.93it/s]\n",
      "epoch : 30, loss : 0.042: 100%|████████████████| 31/31 [00:00<00:00, 301.76it/s]\n",
      "epoch : 31, loss : 0.052: 100%|████████████████| 31/31 [00:00<00:00, 303.88it/s]\n",
      "epoch : 32, loss : 0.057: 100%|████████████████| 31/31 [00:00<00:00, 290.33it/s]\n",
      "epoch : 33, loss : 0.058: 100%|████████████████| 31/31 [00:00<00:00, 286.63it/s]\n",
      "epoch : 34, loss : 0.059: 100%|████████████████| 31/31 [00:00<00:00, 285.46it/s]\n",
      "epoch : 35, loss : 0.059: 100%|████████████████| 31/31 [00:00<00:00, 296.60it/s]\n",
      "epoch : 36, loss : 0.060: 100%|████████████████| 31/31 [00:00<00:00, 288.96it/s]\n",
      "epoch : 37, loss : 0.060: 100%|████████████████| 31/31 [00:00<00:00, 305.57it/s]\n",
      "epoch : 38, loss : 0.060: 100%|████████████████| 31/31 [00:00<00:00, 287.08it/s]\n",
      "epoch : 39, loss : 0.061: 100%|████████████████| 31/31 [00:00<00:00, 305.57it/s]\n",
      "epoch : 40, loss : 0.061: 100%|████████████████| 31/31 [00:00<00:00, 293.86it/s]\n",
      "epoch : 41, loss : 0.061: 100%|████████████████| 31/31 [00:00<00:00, 302.79it/s]\n",
      "epoch : 42, loss : 0.061: 100%|████████████████| 31/31 [00:00<00:00, 291.09it/s]\n",
      "epoch : 43, loss : 0.061: 100%|████████████████| 31/31 [00:00<00:00, 299.20it/s]\n",
      "epoch : 44, loss : 0.061: 100%|████████████████| 31/31 [00:00<00:00, 291.65it/s]\n",
      "epoch : 45, loss : 0.061: 100%|████████████████| 31/31 [00:00<00:00, 299.00it/s]\n",
      "epoch : 46, loss : 0.061: 100%|████████████████| 31/31 [00:00<00:00, 305.94it/s]\n",
      "epoch : 47, loss : 0.061: 100%|████████████████| 31/31 [00:00<00:00, 302.41it/s]\n",
      "epoch : 48, loss : 0.061: 100%|████████████████| 31/31 [00:00<00:00, 301.02it/s]\n",
      "epoch : 49, loss : 0.061: 100%|████████████████| 31/31 [00:00<00:00, 302.06it/s]\n",
      "epoch : 50, loss : 0.061: 100%|████████████████| 31/31 [00:00<00:00, 291.98it/s]\n",
      "epoch : 51, loss : 0.061: 100%|████████████████| 31/31 [00:00<00:00, 305.45it/s]\n",
      "epoch : 52, loss : 0.061: 100%|████████████████| 31/31 [00:00<00:00, 299.97it/s]\n",
      "epoch : 53, loss : 0.061: 100%|████████████████| 31/31 [00:00<00:00, 291.51it/s]\n",
      "epoch : 54, loss : 0.061: 100%|████████████████| 31/31 [00:00<00:00, 287.58it/s]\n",
      "epoch : 55, loss : 0.061: 100%|████████████████| 31/31 [00:00<00:00, 299.53it/s]\n",
      "epoch : 56, loss : 0.061: 100%|████████████████| 31/31 [00:00<00:00, 304.94it/s]\n",
      "epoch : 57, loss : 0.061: 100%|████████████████| 31/31 [00:00<00:00, 297.06it/s]\n",
      "epoch : 58, loss : 0.061: 100%|████████████████| 31/31 [00:00<00:00, 302.47it/s]\n",
      "epoch : 59, loss : 0.061: 100%|████████████████| 31/31 [00:00<00:00, 294.91it/s]\n",
      "epoch : 60, loss : 0.060: 100%|████████████████| 31/31 [00:00<00:00, 298.87it/s]\n",
      "epoch : 61, loss : 0.060: 100%|████████████████| 31/31 [00:00<00:00, 300.62it/s]\n",
      "epoch : 62, loss : 0.060: 100%|████████████████| 31/31 [00:00<00:00, 283.92it/s]\n",
      "epoch : 63, loss : 0.060: 100%|████████████████| 31/31 [00:00<00:00, 300.66it/s]\n",
      "epoch : 64, loss : 0.060: 100%|████████████████| 31/31 [00:00<00:00, 290.02it/s]\n",
      "epoch : 65, loss : 0.060: 100%|████████████████| 31/31 [00:00<00:00, 302.27it/s]\n",
      "epoch : 66, loss : 0.059: 100%|████████████████| 31/31 [00:00<00:00, 289.91it/s]\n",
      "epoch : 67, loss : 0.059: 100%|████████████████| 31/31 [00:00<00:00, 300.34it/s]\n",
      "epoch : 68, loss : 0.059: 100%|████████████████| 31/31 [00:00<00:00, 305.14it/s]\n",
      "epoch : 69, loss : 0.059: 100%|████████████████| 31/31 [00:00<00:00, 305.98it/s]\n",
      "epoch : 70, loss : 0.059: 100%|████████████████| 31/31 [00:00<00:00, 306.54it/s]\n",
      "epoch : 71, loss : 0.059: 100%|████████████████| 31/31 [00:00<00:00, 289.62it/s]\n",
      "epoch : 72, loss : 0.058: 100%|████████████████| 31/31 [00:00<00:00, 300.44it/s]\n",
      "epoch : 73, loss : 0.058: 100%|████████████████| 31/31 [00:00<00:00, 297.60it/s]\n",
      "epoch : 74, loss : 0.058: 100%|████████████████| 31/31 [00:00<00:00, 288.16it/s]\n",
      "epoch : 75, loss : 0.058: 100%|████████████████| 31/31 [00:00<00:00, 288.46it/s]\n",
      "epoch : 76, loss : 0.057: 100%|████████████████| 31/31 [00:00<00:00, 306.16it/s]\n",
      "epoch : 77, loss : 0.057: 100%|████████████████| 31/31 [00:00<00:00, 302.54it/s]\n",
      "epoch : 78, loss : 0.057: 100%|████████████████| 31/31 [00:00<00:00, 292.90it/s]\n",
      "epoch : 79, loss : 0.057: 100%|████████████████| 31/31 [00:00<00:00, 288.96it/s]\n",
      "epoch : 80, loss : 0.056: 100%|████████████████| 31/31 [00:00<00:00, 307.70it/s]\n",
      "epoch : 81, loss : 0.056: 100%|████████████████| 31/31 [00:00<00:00, 318.72it/s]\n",
      "epoch : 82, loss : 0.056: 100%|████████████████| 31/31 [00:00<00:00, 319.65it/s]\n",
      "epoch : 83, loss : 0.056: 100%|████████████████| 31/31 [00:00<00:00, 319.34it/s]\n",
      "epoch : 84, loss : 0.055: 100%|████████████████| 31/31 [00:00<00:00, 317.32it/s]\n",
      "epoch : 85, loss : 0.055: 100%|████████████████| 31/31 [00:00<00:00, 318.35it/s]\n",
      "epoch : 86, loss : 0.055: 100%|████████████████| 31/31 [00:00<00:00, 318.40it/s]\n",
      "epoch : 87, loss : 0.055: 100%|████████████████| 31/31 [00:00<00:00, 313.26it/s]\n",
      "epoch : 88, loss : 0.054: 100%|████████████████| 31/31 [00:00<00:00, 304.50it/s]\n",
      "epoch : 89, loss : 0.054: 100%|████████████████| 31/31 [00:00<00:00, 304.93it/s]\n",
      "epoch : 90, loss : 0.054: 100%|████████████████| 31/31 [00:00<00:00, 304.13it/s]\n",
      "epoch : 91, loss : 0.053: 100%|████████████████| 31/31 [00:00<00:00, 305.31it/s]\n",
      "epoch : 92, loss : 0.053: 100%|████████████████| 31/31 [00:00<00:00, 305.36it/s]\n",
      "epoch : 93, loss : 0.053: 100%|████████████████| 31/31 [00:00<00:00, 304.79it/s]\n",
      "epoch : 94, loss : 0.052: 100%|████████████████| 31/31 [00:00<00:00, 305.22it/s]\n",
      "epoch : 95, loss : 0.052: 100%|████████████████| 31/31 [00:00<00:00, 306.15it/s]\n",
      "epoch : 96, loss : 0.052: 100%|████████████████| 31/31 [00:00<00:00, 304.06it/s]\n",
      "epoch : 97, loss : 0.052: 100%|████████████████| 31/31 [00:00<00:00, 305.30it/s]\n",
      "epoch : 98, loss : 0.051: 100%|████████████████| 31/31 [00:00<00:00, 305.12it/s]\n",
      "epoch : 99, loss : 0.051: 100%|████████████████| 31/31 [00:00<00:00, 304.96it/s]\n",
      "epoch : 100, loss : 0.051: 100%|███████████████| 31/31 [00:00<00:00, 295.99it/s]\n",
      "epoch : 101, loss : 0.050: 100%|███████████████| 31/31 [00:00<00:00, 287.57it/s]\n",
      "epoch : 102, loss : 0.050: 100%|███████████████| 31/31 [00:00<00:00, 289.92it/s]\n",
      "epoch : 103, loss : 0.050: 100%|███████████████| 31/31 [00:00<00:00, 291.32it/s]\n",
      "epoch : 104, loss : 0.049: 100%|███████████████| 31/31 [00:00<00:00, 306.09it/s]\n",
      "epoch : 105, loss : 0.049: 100%|███████████████| 31/31 [00:00<00:00, 293.54it/s]\n",
      "epoch : 106, loss : 0.049: 100%|███████████████| 31/31 [00:00<00:00, 287.72it/s]\n",
      "epoch : 107, loss : 0.048: 100%|███████████████| 31/31 [00:00<00:00, 289.79it/s]\n",
      "epoch : 108, loss : 0.048: 100%|███████████████| 31/31 [00:00<00:00, 295.56it/s]\n",
      "epoch : 109, loss : 0.048: 100%|███████████████| 31/31 [00:00<00:00, 289.06it/s]\n",
      "epoch : 110, loss : 0.047: 100%|███████████████| 31/31 [00:00<00:00, 292.74it/s]\n",
      "epoch : 111, loss : 0.047: 100%|███████████████| 31/31 [00:00<00:00, 306.45it/s]\n",
      "epoch : 112, loss : 0.047: 100%|███████████████| 31/31 [00:00<00:00, 293.45it/s]\n",
      "epoch : 113, loss : 0.046: 100%|███████████████| 31/31 [00:00<00:00, 294.26it/s]\n",
      "epoch : 114, loss : 0.046: 100%|███████████████| 31/31 [00:00<00:00, 298.72it/s]\n",
      "epoch : 115, loss : 0.046: 100%|███████████████| 31/31 [00:00<00:00, 296.19it/s]\n",
      "epoch : 116, loss : 0.045: 100%|███████████████| 31/31 [00:00<00:00, 306.07it/s]\n",
      "epoch : 117, loss : 0.045: 100%|███████████████| 31/31 [00:00<00:00, 305.87it/s]\n",
      "epoch : 118, loss : 0.045: 100%|███████████████| 31/31 [00:00<00:00, 306.33it/s]\n",
      "epoch : 119, loss : 0.044: 100%|███████████████| 31/31 [00:00<00:00, 293.06it/s]\n",
      "epoch : 120, loss : 0.044: 100%|███████████████| 31/31 [00:00<00:00, 286.67it/s]\n",
      "epoch : 121, loss : 0.044: 100%|███████████████| 31/31 [00:00<00:00, 294.62it/s]\n",
      "epoch : 122, loss : 0.043: 100%|███████████████| 31/31 [00:00<00:00, 298.80it/s]\n",
      "epoch : 123, loss : 0.043: 100%|███████████████| 31/31 [00:00<00:00, 304.59it/s]\n",
      "epoch : 124, loss : 0.042: 100%|███████████████| 31/31 [00:00<00:00, 305.64it/s]\n",
      "epoch : 125, loss : 0.042: 100%|███████████████| 31/31 [00:00<00:00, 304.04it/s]\n",
      "epoch : 126, loss : 0.042: 100%|███████████████| 31/31 [00:00<00:00, 305.38it/s]\n",
      "epoch : 127, loss : 0.041: 100%|███████████████| 31/31 [00:00<00:00, 304.35it/s]\n",
      "epoch : 128, loss : 0.041: 100%|███████████████| 31/31 [00:00<00:00, 304.35it/s]\n",
      "epoch : 129, loss : 0.041: 100%|███████████████| 31/31 [00:00<00:00, 302.41it/s]\n",
      "epoch : 130, loss : 0.040: 100%|███████████████| 31/31 [00:00<00:00, 305.80it/s]\n",
      "epoch : 131, loss : 0.040: 100%|███████████████| 31/31 [00:00<00:00, 304.46it/s]\n",
      "epoch : 132, loss : 0.040: 100%|███████████████| 31/31 [00:00<00:00, 305.15it/s]\n",
      "epoch : 133, loss : 0.039: 100%|███████████████| 31/31 [00:00<00:00, 305.47it/s]\n",
      "epoch : 134, loss : 0.039: 100%|███████████████| 31/31 [00:00<00:00, 303.49it/s]\n",
      "epoch : 135, loss : 0.039: 100%|███████████████| 31/31 [00:00<00:00, 303.51it/s]\n",
      "epoch : 136, loss : 0.038: 100%|███████████████| 31/31 [00:00<00:00, 303.38it/s]\n",
      "epoch : 137, loss : 0.038: 100%|███████████████| 31/31 [00:00<00:00, 302.82it/s]\n",
      "epoch : 138, loss : 0.038: 100%|███████████████| 31/31 [00:00<00:00, 302.89it/s]\n",
      "epoch : 139, loss : 0.037: 100%|███████████████| 31/31 [00:00<00:00, 302.81it/s]\n",
      "epoch : 140, loss : 0.037: 100%|███████████████| 31/31 [00:00<00:00, 304.58it/s]\n",
      "epoch : 141, loss : 0.036: 100%|███████████████| 31/31 [00:00<00:00, 302.87it/s]\n",
      "epoch : 142, loss : 0.036: 100%|███████████████| 31/31 [00:00<00:00, 304.13it/s]\n",
      "epoch : 143, loss : 0.036: 100%|███████████████| 31/31 [00:00<00:00, 303.78it/s]\n",
      "epoch : 144, loss : 0.035: 100%|███████████████| 31/31 [00:00<00:00, 304.79it/s]\n",
      "epoch : 145, loss : 0.035: 100%|███████████████| 31/31 [00:00<00:00, 303.04it/s]\n",
      "epoch : 146, loss : 0.035: 100%|███████████████| 31/31 [00:00<00:00, 303.03it/s]\n",
      "epoch : 147, loss : 0.034: 100%|███████████████| 31/31 [00:00<00:00, 304.73it/s]\n",
      "epoch : 148, loss : 0.034: 100%|███████████████| 31/31 [00:00<00:00, 302.90it/s]\n",
      "epoch : 149, loss : 0.034: 100%|███████████████| 31/31 [00:00<00:00, 306.27it/s]\n",
      "epoch : 150, loss : 0.033: 100%|███████████████| 31/31 [00:00<00:00, 305.05it/s]\n",
      "epoch : 151, loss : 0.033: 100%|███████████████| 31/31 [00:00<00:00, 315.26it/s]\n",
      "epoch : 152, loss : 0.033: 100%|███████████████| 31/31 [00:00<00:00, 311.94it/s]\n",
      "epoch : 153, loss : 0.033: 100%|███████████████| 31/31 [00:00<00:00, 305.69it/s]\n",
      "epoch : 154, loss : 0.032: 100%|███████████████| 31/31 [00:00<00:00, 305.92it/s]\n",
      "epoch : 155, loss : 0.032: 100%|███████████████| 31/31 [00:00<00:00, 306.44it/s]\n",
      "epoch : 156, loss : 0.032: 100%|███████████████| 31/31 [00:00<00:00, 305.79it/s]\n",
      "epoch : 157, loss : 0.031: 100%|███████████████| 31/31 [00:00<00:00, 305.37it/s]\n",
      "epoch : 158, loss : 0.031: 100%|███████████████| 31/31 [00:00<00:00, 305.13it/s]\n",
      "epoch : 159, loss : 0.031: 100%|███████████████| 31/31 [00:00<00:00, 306.68it/s]\n",
      "epoch : 160, loss : 0.030: 100%|███████████████| 31/31 [00:00<00:00, 305.81it/s]\n",
      "epoch : 161, loss : 0.030: 100%|███████████████| 31/31 [00:00<00:00, 306.11it/s]\n",
      "epoch : 162, loss : 0.030: 100%|███████████████| 31/31 [00:00<00:00, 304.43it/s]\n",
      "epoch : 163, loss : 0.030: 100%|███████████████| 31/31 [00:00<00:00, 305.12it/s]\n",
      "epoch : 164, loss : 0.029: 100%|███████████████| 31/31 [00:00<00:00, 306.20it/s]\n",
      "epoch : 165, loss : 0.029: 100%|███████████████| 31/31 [00:00<00:00, 304.93it/s]\n",
      "epoch : 166, loss : 0.029: 100%|███████████████| 31/31 [00:00<00:00, 303.91it/s]\n",
      "epoch : 167, loss : 0.029: 100%|███████████████| 31/31 [00:00<00:00, 305.48it/s]\n",
      "epoch : 168, loss : 0.028: 100%|███████████████| 31/31 [00:00<00:00, 305.15it/s]\n",
      "epoch : 169, loss : 0.028: 100%|███████████████| 31/31 [00:00<00:00, 307.32it/s]\n",
      "epoch : 170, loss : 0.028: 100%|███████████████| 31/31 [00:00<00:00, 305.88it/s]\n",
      "epoch : 171, loss : 0.028: 100%|███████████████| 31/31 [00:00<00:00, 306.15it/s]\n",
      "epoch : 172, loss : 0.027: 100%|███████████████| 31/31 [00:00<00:00, 305.70it/s]\n",
      "epoch : 173, loss : 0.027: 100%|███████████████| 31/31 [00:00<00:00, 306.48it/s]\n",
      "epoch : 174, loss : 0.027: 100%|███████████████| 31/31 [00:00<00:00, 306.07it/s]\n",
      "epoch : 175, loss : 0.028: 100%|███████████████| 31/31 [00:00<00:00, 306.01it/s]\n",
      "epoch : 176, loss : 0.028: 100%|███████████████| 31/31 [00:00<00:00, 305.70it/s]\n",
      "epoch : 177, loss : 0.028: 100%|███████████████| 31/31 [00:00<00:00, 300.21it/s]\n",
      "epoch : 178, loss : 0.027: 100%|███████████████| 31/31 [00:00<00:00, 298.63it/s]\n",
      "epoch : 179, loss : 0.027: 100%|███████████████| 31/31 [00:00<00:00, 304.87it/s]\n",
      "epoch : 180, loss : 0.026: 100%|███████████████| 31/31 [00:00<00:00, 294.21it/s]\n",
      "epoch : 181, loss : 0.026: 100%|███████████████| 31/31 [00:00<00:00, 301.78it/s]\n",
      "epoch : 182, loss : 0.025: 100%|███████████████| 31/31 [00:00<00:00, 305.58it/s]\n",
      "epoch : 183, loss : 0.025: 100%|███████████████| 31/31 [00:00<00:00, 304.98it/s]\n",
      "epoch : 184, loss : 0.023: 100%|███████████████| 31/31 [00:00<00:00, 304.90it/s]\n",
      "epoch : 185, loss : 0.024: 100%|███████████████| 31/31 [00:00<00:00, 304.96it/s]\n",
      "epoch : 186, loss : 0.026: 100%|███████████████| 31/31 [00:00<00:00, 304.96it/s]\n",
      "epoch : 187, loss : 0.027: 100%|███████████████| 31/31 [00:00<00:00, 302.57it/s]\n",
      "epoch : 188, loss : 0.027: 100%|███████████████| 31/31 [00:00<00:00, 304.64it/s]\n",
      "epoch : 189, loss : 0.028: 100%|███████████████| 31/31 [00:00<00:00, 305.24it/s]\n",
      "epoch : 190, loss : 0.027: 100%|███████████████| 31/31 [00:00<00:00, 305.16it/s]\n",
      "epoch : 191, loss : 0.026: 100%|███████████████| 31/31 [00:00<00:00, 305.12it/s]\n",
      "epoch : 192, loss : 0.025: 100%|███████████████| 31/31 [00:00<00:00, 304.97it/s]\n",
      "epoch : 193, loss : 0.024: 100%|███████████████| 31/31 [00:00<00:00, 304.72it/s]\n",
      "epoch : 194, loss : 0.023: 100%|███████████████| 31/31 [00:00<00:00, 303.55it/s]\n",
      "epoch : 195, loss : 0.022: 100%|███████████████| 31/31 [00:00<00:00, 303.98it/s]\n",
      "epoch : 196, loss : 0.021: 100%|███████████████| 31/31 [00:00<00:00, 305.47it/s]\n",
      "epoch : 197, loss : 0.021: 100%|███████████████| 31/31 [00:00<00:00, 293.60it/s]\n",
      "epoch : 198, loss : 0.021: 100%|███████████████| 31/31 [00:00<00:00, 301.57it/s]\n",
      "epoch : 199, loss : 0.021: 100%|███████████████| 31/31 [00:00<00:00, 304.61it/s]\n",
      "epoch : 200, loss : 0.021: 100%|███████████████| 31/31 [00:00<00:00, 302.42it/s]\n"
     ]
    }
   ],
   "source": [
    "for epoch in range(200):\n",
    "    iterator = tqdm.tqdm(loader)\n",
    "    for data, label in iterator:\n",
    "        data, label = data.to(device), label.type(torch.FloatTensor).to(device) # data shape 은 (32, 30, 3)\n",
    "        optim.zero_grad()\n",
    "        \n",
    "        h0 = torch.zeros(5, data.shape[0], 8).to(device) # 은닉층 개수, 배치 크기, 출력 차원\n",
    "        pred = model(data.type(torch.FloatTensor).to(device), h0)\n",
    "        \n",
    "        loss = loss_fn(pred, label)\n",
    "        loss.backward()\n",
    "        optim.step()\n",
    "        \n",
    "        iterator.set_description(f'epoch : {epoch+1}, loss : {loss.item():.3f}')\n",
    "        \n",
    "torch.save(model.state_dict(), './models/rnn.pth')        "
   ]
  },
  {
   "cell_type": "markdown",
   "id": "10c41ccb",
   "metadata": {},
   "source": [
    "- 초기 은닉층의 상태는 모든 요소가 0으로 구성, shape은 (은닉층 개수, 배치 크기, 출력 차원)"
   ]
  },
  {
   "cell_type": "markdown",
   "id": "15e5f568",
   "metadata": {},
   "source": [
    "# 모델 성능 평가"
   ]
  },
  {
   "cell_type": "code",
   "execution_count": 12,
   "id": "9c1463f1",
   "metadata": {},
   "outputs": [
    {
     "data": {
      "text/plain": [
       "0.002297221103928726"
      ]
     },
     "execution_count": 12,
     "metadata": {},
     "output_type": "execute_result"
    }
   ],
   "source": [
    "import matplotlib.pyplot as plt\n",
    "\n",
    "loader = DataLoader(dataset, batch_size=1)\n",
    "\n",
    "preds = []\n",
    "total_loss = 0\n",
    "\n",
    "with torch.no_grad():\n",
    "    # 모델 가중치 불러오기\n",
    "    model.load_state_dict(torch.load('./models/rnn.pth', map_location=device))\n",
    "    \n",
    "    for data, label in loader:\n",
    "        data, label = data.to(device), label.to(device)\n",
    "        \n",
    "        h0 = torch.zeros(5, data.shape[0], 8).to(device) # 은닉층 개수, 배치 크기, 출력 차원\n",
    "        \n",
    "        # 모델 예측값 출력\n",
    "        pred = model(data.type(torch.FloatTensor).to(device), h0)\n",
    "        preds.append(pred.item())\n",
    "        \n",
    "        loss = loss_fn(pred, label)\n",
    "        total_loss += loss/len(loader)\n",
    "        \n",
    "total_loss.item()        "
   ]
  },
  {
   "cell_type": "code",
   "execution_count": 40,
   "id": "7695a3b6",
   "metadata": {},
   "outputs": [
    {
     "data": {
      "text/plain": [
       "Index(['Date', 'Open', 'High', 'Low', 'Volume', 'Close'], dtype='object')"
      ]
     },
     "execution_count": 40,
     "metadata": {},
     "output_type": "execute_result"
    }
   ],
   "source": [
    "df.columns"
   ]
  },
  {
   "cell_type": "code",
   "execution_count": 43,
   "id": "af086489",
   "metadata": {},
   "outputs": [],
   "source": [
    "date_index = df.Date[30:].values"
   ]
  },
  {
   "cell_type": "code",
   "execution_count": 49,
   "id": "31effcbd",
   "metadata": {},
   "outputs": [
    {
     "data": {
      "text/html": [
       "<div>\n",
       "<style scoped>\n",
       "    .dataframe tbody tr th:only-of-type {\n",
       "        vertical-align: middle;\n",
       "    }\n",
       "\n",
       "    .dataframe tbody tr th {\n",
       "        vertical-align: top;\n",
       "    }\n",
       "\n",
       "    .dataframe thead th {\n",
       "        text-align: right;\n",
       "    }\n",
       "</style>\n",
       "<table border=\"1\" class=\"dataframe\">\n",
       "  <thead>\n",
       "    <tr style=\"text-align: right;\">\n",
       "      <th></th>\n",
       "      <th>preds</th>\n",
       "      <th>actual</th>\n",
       "    </tr>\n",
       "    <tr>\n",
       "      <th>date</th>\n",
       "      <th></th>\n",
       "      <th></th>\n",
       "    </tr>\n",
       "  </thead>\n",
       "  <tbody>\n",
       "    <tr>\n",
       "      <th>2018-03-20</th>\n",
       "      <td>0.212232</td>\n",
       "      <td>0.182652</td>\n",
       "    </tr>\n",
       "    <tr>\n",
       "      <th>2018-03-21</th>\n",
       "      <td>0.210726</td>\n",
       "      <td>0.180424</td>\n",
       "    </tr>\n",
       "    <tr>\n",
       "      <th>2018-03-22</th>\n",
       "      <td>0.210159</td>\n",
       "      <td>0.159062</td>\n",
       "    </tr>\n",
       "    <tr>\n",
       "      <th>2018-03-23</th>\n",
       "      <td>0.208797</td>\n",
       "      <td>0.146480</td>\n",
       "    </tr>\n",
       "    <tr>\n",
       "      <th>2018-03-26</th>\n",
       "      <td>0.205765</td>\n",
       "      <td>0.188877</td>\n",
       "    </tr>\n",
       "    <tr>\n",
       "      <th>...</th>\n",
       "      <td>...</td>\n",
       "      <td>...</td>\n",
       "    </tr>\n",
       "    <tr>\n",
       "      <th>2022-01-31</th>\n",
       "      <td>0.366589</td>\n",
       "      <td>0.422140</td>\n",
       "    </tr>\n",
       "    <tr>\n",
       "      <th>2022-02-01</th>\n",
       "      <td>0.346142</td>\n",
       "      <td>0.487648</td>\n",
       "    </tr>\n",
       "    <tr>\n",
       "      <th>2022-02-02</th>\n",
       "      <td>0.343193</td>\n",
       "      <td>0.427251</td>\n",
       "    </tr>\n",
       "    <tr>\n",
       "      <th>2022-02-03</th>\n",
       "      <td>0.344588</td>\n",
       "      <td>0.375090</td>\n",
       "    </tr>\n",
       "    <tr>\n",
       "      <th>2022-02-04</th>\n",
       "      <td>0.345558</td>\n",
       "      <td>0.385072</td>\n",
       "    </tr>\n",
       "  </tbody>\n",
       "</table>\n",
       "<p>979 rows × 2 columns</p>\n",
       "</div>"
      ],
      "text/plain": [
       "               preds    actual\n",
       "date                          \n",
       "2018-03-20  0.212232  0.182652\n",
       "2018-03-21  0.210726  0.180424\n",
       "2018-03-22  0.210159  0.159062\n",
       "2018-03-23  0.208797  0.146480\n",
       "2018-03-26  0.205765  0.188877\n",
       "...              ...       ...\n",
       "2022-01-31  0.366589  0.422140\n",
       "2022-02-01  0.346142  0.487648\n",
       "2022-02-02  0.343193  0.427251\n",
       "2022-02-03  0.344588  0.375090\n",
       "2022-02-04  0.345558  0.385072\n",
       "\n",
       "[979 rows x 2 columns]"
      ]
     },
     "execution_count": 49,
     "metadata": {},
     "output_type": "execute_result"
    }
   ],
   "source": [
    "df_preds = pd.DataFrame({'date':date_index, 'preds':preds, 'actual':dataset.label[30:]})\n",
    "df_preds['date'] = pd.to_datetime(df_preds['date'])\n",
    "df_preds.set_index('date', inplace=True)\n",
    "df_preds"
   ]
  },
  {
   "cell_type": "code",
   "execution_count": 51,
   "id": "3d11207b",
   "metadata": {},
   "outputs": [
    {
     "data": {
      "image/png": "[encoded data removed]",
      "text/plain": [
       "<Figure size 1200x400 with 1 Axes>"
      ]
     },
     "metadata": {},
     "output_type": "display_data"
    }
   ],
   "source": [
    "plt.figure(figsize=(12, 4))\n",
    "plt.plot(df_preds['preds'], label='prediction')\n",
    "plt.plot(df_preds['actual'], label='actual')\n",
    "plt.legend()\n",
    "plt.show()"
   ]
  },
  {
   "cell_type": "markdown",
   "id": "30d273d5",
   "metadata": {},
   "source": [
    "# 마무리"
   ]
  },
  {
   "cell_type": "markdown",
   "id": "93e4f3da",
   "metadata": {},
   "source": [
    "<img src='./figs/06_09.png'>"
   ]
  },
  {
   "cell_type": "markdown",
   "id": "726695f8",
   "metadata": {},
   "source": [
    "# 연습문제"
   ]
  },
  {
   "cell_type": "markdown",
   "id": "526abe40",
   "metadata": {},
   "source": [
    "[RNN](https://pytorch.org/docs/stable/generated/torch.nn.RNN.html)\n",
    "\n",
    "<img src='./figs/06_10.png'>"
   ]
  }
 ],
 "metadata": {
  "kernelspec": {
   "display_name": "Python 3 (ipykernel)",
   "language": "python",
   "name": "python3"
  },
  "language_info": {
   "codemirror_mode": {
    "name": "ipython",
    "version": 3
   },
   "file_extension": ".py",
   "mimetype": "text/x-python",
   "name": "python",
   "nbconvert_exporter": "python",
   "pygments_lexer": "ipython3",
   "version": "3.10.9"
  },
  "toc": {
   "base_numbering": 1,
   "nav_menu": {},
   "number_sections": true,
   "sideBar": true,
   "skip_h1_title": false,
   "title_cell": "Table of Contents",
   "title_sidebar": "Contents",
   "toc_cell": false,
   "toc_position": {
    "height": "calc(100% - 180px)",
    "left": "10px",
    "top": "150px",
    "width": "465.455px"
   },
   "toc_section_display": true,
   "toc_window_display": false
  }
 },
 "nbformat": 4,
 "nbformat_minor": 5
}
