{
 "cells": [
  {
   "cell_type": "markdown",
   "id": "c9634006",
   "metadata": {},
   "source": [
    "# 개요"
   ]
  },
  {
   "cell_type": "markdown",
   "id": "1b02d875",
   "metadata": {},
   "source": [
    "## 학습 목표\n",
    "    - 시간에 따른 특징을 갖는 시계열 데이터 다루기\n",
    "    - RNN을 이용 주식 데이터 학습 및 다음날 종가 예측"
   ]
  },
  {
   "cell_type": "markdown",
   "id": "f0885ac9",
   "metadata": {},
   "source": [
    "## 학습 순서"
   ]
  },
  {
   "cell_type": "markdown",
   "id": "431d1315",
   "metadata": {},
   "source": [
    "<img src='./figs/06_01.png'>"
   ]
  },
  {
   "cell_type": "markdown",
   "id": "ae458051",
   "metadata": {},
   "source": [
    "# 이해하기 : RNN\n",
    "- 순서가 있는 데이터는, 순서를 고려한 모델 설계를 해야 한다\n",
    "- 모델이 과거와 현재 정보를 다 가지고 있어야 한다.\n",
    "- 모델이 보낸 과거의 출력을, 다시 입력으로 넣어 주는, 되풀이(recurrent) 되는 구조\n",
    "- 이를 RNN (recurrent neural network) 라고 한다"
   ]
  },
  {
   "cell_type": "markdown",
   "id": "129d7270",
   "metadata": {},
   "source": [
    "<img src='./figs/06_02.png'>"
   ]
  },
  {
   "cell_type": "markdown",
   "id": "c6247ea7",
   "metadata": {},
   "source": [
    "- RNN에서 각 신경망 각 층은 한 시점(cell)\n",
    "- 모든 시점에서의 가중치는 전부 공유 되고 있음\n",
    "- 모든 시점에서의 출력은 다음 시점의 입력값과 합쳐져 가중치가 적용\n",
    "- 최종 출력값이 출력, 출력층 이전의 출력은 은닉 상태\n",
    "- 입력층은 모델의 시작으로 이전의 은닉 상태가 존재하지 않아 랜덤한 값을 줌\n",
    "\n",
    "## 장점\n",
    "- 이전 정보를 현재 시점에 이용, 시간에 대한 정보 추출 가능\n",
    "- 같은 가중치를 반복 사용, 가중치 수가 적다\n",
    "\n",
    "## 단점\n",
    "- 같은 가중치를 여러번 반복 사용, 계산 시간 오래 걸림\n",
    "- 시계열이 길어질 수록 앞의 정보가 점점 흐려진다"
   ]
  },
  {
   "cell_type": "markdown",
   "id": "ecf990c8",
   "metadata": {},
   "source": [
    "# 데이터 살펴보기\n",
    "- 넷플릭스 주가의 하루 시가, 고가, 저가 정보로 그날의 종가 예측"
   ]
  },
  {
   "cell_type": "code",
   "execution_count": 8,
   "id": "58f23bbd",
   "metadata": {},
   "outputs": [
    {
     "name": "stdout",
     "output_type": "stream",
     "text": [
      "<class 'pandas.core.frame.DataFrame'>\n",
      "RangeIndex: 1009 entries, 0 to 1008\n",
      "Data columns (total 6 columns):\n",
      " #   Column  Non-Null Count  Dtype  \n",
      "---  ------  --------------  -----  \n",
      " 0   Date    1009 non-null   object \n",
      " 1   Open    1009 non-null   float64\n",
      " 2   High    1009 non-null   float64\n",
      " 3   Low     1009 non-null   float64\n",
      " 4   Volume  1009 non-null   int64  \n",
      " 5   Close   1009 non-null   float64\n",
      "dtypes: float64(4), int64(1), object(1)\n",
      "memory usage: 47.4+ KB\n"
     ]
    }
   ],
   "source": [
    "import pandas as pd\n",
    "\n",
    "df = pd.read_csv('./datasets/CH06.csv')\n",
    "df.info()"
   ]
  },
  {
   "cell_type": "code",
   "execution_count": 7,
   "id": "5f141b85",
   "metadata": {},
   "outputs": [],
   "source": [
    "df.to_csv('./datasets/CH06.csv', index=False)"
   ]
  },
  {
   "cell_type": "markdown",
   "id": "1a3b0e1e",
   "metadata": {},
   "source": [
    "# 학습용 데이터 만들기"
   ]
  },
  {
   "cell_type": "markdown",
   "id": "15cb607e",
   "metadata": {},
   "source": [
    "<img src='./figs/06_03.png'>"
   ]
  },
  {
   "cell_type": "markdown",
   "id": "3e497df4",
   "metadata": {},
   "source": [
    "<img src='./figs/06_04.png'>"
   ]
  },
  {
   "cell_type": "markdown",
   "id": "d60e634b",
   "metadata": {},
   "source": [
    "# RNN 모델 정의하기"
   ]
  },
  {
   "cell_type": "markdown",
   "id": "6eae53ab",
   "metadata": {},
   "source": [
    "<img src='./figs/06_05.png'>"
   ]
  },
  {
   "cell_type": "markdown",
   "id": "dfb1ea41",
   "metadata": {},
   "source": [
    "<img src='./figs/06_06.png'>"
   ]
  },
  {
   "cell_type": "markdown",
   "id": "f1186af4",
   "metadata": {},
   "source": [
    "<img src='./figs/06_07.png'>"
   ]
  },
  {
   "cell_type": "markdown",
   "id": "2eb3e900",
   "metadata": {},
   "source": [
    "# 모델 학습하기"
   ]
  },
  {
   "cell_type": "markdown",
   "id": "8dd360bc",
   "metadata": {},
   "source": [
    "<img src='./figs/06_08.png'>"
   ]
  },
  {
   "cell_type": "markdown",
   "id": "15e5f568",
   "metadata": {},
   "source": [
    "# 모델 성능 평가"
   ]
  },
  {
   "cell_type": "markdown",
   "id": "30d273d5",
   "metadata": {},
   "source": [
    "# 마무리"
   ]
  },
  {
   "cell_type": "markdown",
   "id": "f4a97c83",
   "metadata": {},
   "source": [
    "<img src='./figs/06_09.png'>"
   ]
  },
  {
   "cell_type": "markdown",
   "id": "726695f8",
   "metadata": {},
   "source": [
    "# 연습문제"
   ]
  },
  {
   "cell_type": "markdown",
   "id": "526abe40",
   "metadata": {},
   "source": [
    "<img src='./figs/06_10.png'>"
   ]
  },
  {
   "cell_type": "code",
   "execution_count": null,
   "id": "c7dd5027",
   "metadata": {},
   "outputs": [],
   "source": []
  }
 ],
 "metadata": {
  "kernelspec": {
   "display_name": "Python 3 (ipykernel)",
   "language": "python",
   "name": "python3"
  },
  "language_info": {
   "codemirror_mode": {
    "name": "ipython",
    "version": 3
   },
   "file_extension": ".py",
   "mimetype": "text/x-python",
   "name": "python",
   "nbconvert_exporter": "python",
   "pygments_lexer": "ipython3",
   "version": "3.10.9"
  },
  "toc": {
   "base_numbering": 1,
   "nav_menu": {},
   "number_sections": true,
   "sideBar": true,
   "skip_h1_title": false,
   "title_cell": "Table of Contents",
   "title_sidebar": "Contents",
   "toc_cell": false,
   "toc_position": {
    "height": "calc(100% - 180px)",
    "left": "10px",
    "top": "150px",
    "width": "465.455px"
   },
   "toc_section_display": true,
   "toc_window_display": true
  }
 },
 "nbformat": 4,
 "nbformat_minor": 5
}
