{
  "cells": [
    {
      "cell_type": "markdown",
      "metadata": {
        "id": "view-in-github",
        "colab_type": "text"
      },
      "source": [
        "<a href=\"https://colab.research.google.com/github/restful3/ds4th_study/blob/main/source/%ED%85%90%EC%B4%88%EC%9D%98%20%ED%8C%8C%EC%9D%B4%ED%86%A0%EC%B9%98%20%EB%94%A5%EB%9F%AC%EB%8B%9D%20%ED%8A%B9%EA%B0%95/plant_pathology_2020_fgvc7.ipynb\" target=\"_parent\"><img src=\"https://colab.research.google.com/assets/colab-badge.svg\" alt=\"Open In Colab\"/></a>"
      ]
    },
    {
      "cell_type": "markdown",
      "metadata": {
        "id": "2251c16f"
      },
      "source": [
        "## Problem Statement<br>\n",
        "Misdiagnosis of the many diseases impacting agricultural crops can lead to misuse of chemicals leading to the emergence of resistant pathogen strains, increased input costs, and more outbreaks with significant economic loss and environmental impacts. Current disease diagnosis based on human scouting is time-consuming and expensive, and although computer-vision based models have the promise to increase efficiency, the great variance in symptoms due to age of infected tissues, genetic variations, and light conditions within trees decreases the accuracy of detection.<br>|\n",
        "잎사귀 사진으로 잎사귀가 어떤 질병에 결렸는지 판별<br>\n",
        "- healthy : 건강한 잎사귀\n",
        "- multiple_diseases : 여러 질병에 걸린 잎사귀\n",
        "- rusk : 녹병에 걸린 잎사귀\n",
        "- scab : 붉은 곰팡기병에 걸린 잎사귀 \n",
        "\n",
        "### Specific Objectives<br>\n",
        "Objectives of ‘Plant Pathology Challenge’ are to train a model using images of training dataset to \n",
        "\n",
        "1. Accurately classify a given image from testing dataset into different diseased category or a healthy leaf; \n",
        "2. Accurately distinguish between many diseases, sometimes more than one on a single leaf; \n",
        "3. Deal with rare classes and novel symptoms;\n",
        "4. Address depth perception—angle, light, shade, physiological age of the leaf; and \n",
        "5. Incorporate expert knowledge in identification, annotation, quantification, and guiding computer vision to search for relevant features during learning.\n",
        "\n",
        "### tactics <br>\n",
        "> 평가지표 ROC_AUC<br>\n",
        "> 데이터 변환기 Albumentations 활용<br>\n",
        "> 모델 : EfficientNet-B7활용<br>\n",
        "> 훈련 : 교차엔트로피오차,AdamW<br>\n",
        "> 예측 : TTA(테스트단계 데이터 증강), 레이블 스무딩\n"
      ],
      "id": "2251c16f"
    },
    {
      "cell_type": "code",
      "execution_count": null,
      "metadata": {
        "colab": {
          "base_uri": "https://localhost:8080/"
        },
        "id": "X8MMX6294W3L",
        "outputId": "7576b099-e442-485b-9614-81e0bbb95d8f"
      },
      "outputs": [
        {
          "output_type": "stream",
          "name": "stdout",
          "text": [
            "Mounted at /content/drive\n"
          ]
        }
      ],
      "source": [
        "from google.colab import drive\n",
        "drive.mount('/content/drive')"
      ],
      "id": "X8MMX6294W3L"
    },
    {
      "cell_type": "code",
      "execution_count": null,
      "metadata": {
        "id": "KxHg8HfSg2Pe"
      },
      "outputs": [],
      "source": [
        "## 케글데이터-코랩 연동 참고사이트:  https://kubig-2021-2.tistory.com/35\n",
        "# !pip install kaggle\n",
        "# from google.colab import files\n",
        "# files.upload()  # kaggle.json 파일을 업로드 합니다."
      ],
      "id": "KxHg8HfSg2Pe"
    },
    {
      "cell_type": "code",
      "execution_count": null,
      "metadata": {
        "id": "G4GHnzxIhzr5"
      },
      "outputs": [],
      "source": [
        "# ls -1ha kaggle.json\n",
        "!mkdir -p ~/.kaggle\n",
        "!cp kaggle.json ~/.kaggle/\n",
        "\n",
        "# Permission Warning 방지\n",
        "!chmod 600 ~/.kaggle/kaggle.json\n",
        "!kaggle competitions download -c plant-pathology-2020-fgvc7\n",
        "!cp plant-pathology-2020-fgvc7.zip /content/drive/MyDrive/SelfStudy/캐글스터디/  #  집파일을 원하는 위치로 이동합니다. \n",
        "!cp .kaggle/kaggle.json /content/drive/MyDrive/SelfStudy/캐글스터디/.kaggle/\n",
        "\n",
        "!unzip /content/drive/MyDrive/SelfStudy/캐글스터디/plant-pathology-2020-fgvc7.zip # 집파일을 해제합니다."
      ],
      "id": "G4GHnzxIhzr5"
    },
    {
      "cell_type": "markdown",
      "metadata": {
        "id": "Awk_0gFkrUsE"
      },
      "source": [
        "## 1. 데이터 확인"
      ],
      "id": "Awk_0gFkrUsE"
    },
    {
      "cell_type": "code",
      "execution_count": null,
      "metadata": {
        "colab": {
          "base_uri": "https://localhost:8080/"
        },
        "id": "ecb7e1cf",
        "outputId": "8a68cd8d-fc3d-457c-9ad9-7535fed0b22d"
      },
      "outputs": [
        {
          "output_type": "execute_result",
          "data": {
            "text/plain": [
              "((1821, 5), (1821, 1))"
            ]
          },
          "metadata": {},
          "execution_count": 5
        }
      ],
      "source": [
        "# 구글드라이브에서 csv를 자동 변환하는 url따오는 방법 : https://lapina.tistory.com/196\n",
        "# 데이터 로드 및 분포 확인\n",
        "import pandas as pd\n",
        "import numpy as np\n",
        "tr_url = 'https://docs.google.com/spreadsheets/d/15Jvpu7tN_vpDDf2tPhIpSnxuHjVev5g1XJpwm3AXuGg/export?format=csv&gid=829107032'\n",
        "te_url = 'https://docs.google.com/spreadsheets/d/1GcclmeX-c9bvoTg6qVzPhInkeWmoP_4A9kUJ4iRcIBY/export?format=csv&gid=1285790145'\n",
        "sub_url = 'https://docs.google.com/spreadsheets/d/1EFALaBdFtQbznP1SxGhC2Vh-CLW8Xjjc-vBzHNwZnk4/export?format=csv&gid=177907317'\n",
        "\n",
        "path = '/content/drive/MyDrive/SelfStudy/캐글스터디/plant-pathology-2020-fgvc7/'\n",
        "train = pd.read_csv(tr_url)\n",
        "test = pd.read_csv(te_url)\n",
        "submission = pd.read_csv(sub_url)\n",
        "train.shape,test.shape"
      ],
      "id": "ecb7e1cf"
    },
    {
      "cell_type": "markdown",
      "metadata": {
        "id": "wK--MMbusLIZ"
      },
      "source": [
        "### 1.1 데이터 분포 확인"
      ],
      "id": "wK--MMbusLIZ"
    },
    {
      "cell_type": "code",
      "execution_count": null,
      "metadata": {
        "colab": {
          "base_uri": "https://localhost:8080/",
          "height": 594
        },
        "id": "9cbeb7e1",
        "outputId": "9b735c39-af6e-4a95-c51d-8b9a812963a4"
      },
      "outputs": [
        {
          "output_type": "execute_result",
          "data": {
            "text/plain": [
              "1821"
            ]
          },
          "metadata": {},
          "execution_count": 6
        },
        {
          "output_type": "display_data",
          "data": {
            "text/plain": [
              "<Figure size 700x700 with 1 Axes>"
            ],
            "image/png": "[encoded data removed]"
          },
          "metadata": {}
        }
      ],
      "source": [
        "\n",
        "import matplotlib as mpl\n",
        "import matplotlib.pyplot as plt\n",
        "%matplotlib inline\n",
        "\n",
        "healthy = train.loc[train['healthy']==1]\n",
        "multiple_diseases = train.loc[train['multiple_diseases']==1]\n",
        "rust = train.loc[train['rust']==1]\n",
        "scab = train.loc[train['scab']==1]\n",
        "\n",
        "\n",
        "mpl.rc('font',size=12)\n",
        "plt.figure(figsize=(7,7))\n",
        "\n",
        "label = ['healthy','multiple_diseases','rust','scab']\n",
        "plt.pie([len(healthy),len(multiple_diseases),len(rust),len(scab)],\n",
        "        labels=label,\n",
        "        autopct='%.1f%%');\n",
        "len(healthy)+len(multiple_diseases)+len(rust)+len(scab)"
      ],
      "id": "9cbeb7e1"
    },
    {
      "cell_type": "markdown",
      "metadata": {
        "id": "_lzA-JhYsRrI"
      },
      "source": [
        "### 1.2 이미지 확인"
      ],
      "id": "_lzA-JhYsRrI"
    },
    {
      "cell_type": "code",
      "execution_count": null,
      "metadata": {
        "id": "868eb1ab"
      },
      "outputs": [],
      "source": [
        "\n",
        "from matplotlib.gridspec import GridSpec\n",
        "import cv2\n",
        "\n",
        "def show_image(img_ids,rows=2,cols=3):\n",
        "    assert len(img_ids) <= rows * cols # 이미지가 행/열 개수보다 많으면 오류 발생\n",
        "    \n",
        "    plt.figure(figsize=(15,8))\n",
        "    grid = GridSpec(rows,cols)\n",
        "    \n",
        "    for idx, img_id in enumerate(img_ids):\n",
        "        img_path = f'{path}images/{img_id}.jpg'\n",
        "#         print(img_path)\n",
        "        image = cv2.imread(img_path)\n",
        "        image = cv2.cvtColor(image, cv2.COLOR_BGR2RGB)\n",
        "        ax = plt.subplot(grid[idx])\n",
        "        ax.imshow(image)\n",
        "\n",
        "num_img = 6\n",
        "last_healthy_img_ids = healthy['image_id'][-num_img:]\n",
        "last_multiple_diseases_img_ids = multiple_diseases['image_id'][-num_img:]\n",
        "last_rust_img_ids = rust['image_id'][-num_img:]\n",
        "last_scab_diseases_img_ids = scab['image_id'][-num_img:]  "
      ],
      "id": "868eb1ab"
    },
    {
      "cell_type": "code",
      "execution_count": null,
      "metadata": {
        "id": "QPTr1Que3-7I"
      },
      "outputs": [],
      "source": [],
      "id": "QPTr1Que3-7I"
    },
    {
      "cell_type": "code",
      "execution_count": null,
      "metadata": {
        "colab": {
          "base_uri": "https://localhost:8080/",
          "height": 321
        },
        "id": "094d047e",
        "outputId": "70f093ab-a4a0-4e8f-cf9a-61f07636fa95"
      },
      "outputs": [
        {
          "output_type": "error",
          "ename": "error",
          "evalue": "ignored",
          "traceback": [
            "\u001b[0;31m---------------------------------------------------------------------------\u001b[0m",
            "\u001b[0;31merror\u001b[0m                                     Traceback (most recent call last)",
            "\u001b[0;32m<ipython-input-8-482712c31455>\u001b[0m in \u001b[0;36m<cell line: 1>\u001b[0;34m()\u001b[0m\n\u001b[0;32m----> 1\u001b[0;31m \u001b[0mshow_image\u001b[0m\u001b[0;34m(\u001b[0m\u001b[0mlast_healthy_img_ids\u001b[0m\u001b[0;34m)\u001b[0m\u001b[0;34m\u001b[0m\u001b[0;34m\u001b[0m\u001b[0m\n\u001b[0m",
            "\u001b[0;32m<ipython-input-7-c2949f409d0d>\u001b[0m in \u001b[0;36mshow_image\u001b[0;34m(img_ids, rows, cols)\u001b[0m\n\u001b[1;32m     12\u001b[0m \u001b[0;31m#         print(img_path)\u001b[0m\u001b[0;34m\u001b[0m\u001b[0;34m\u001b[0m\u001b[0m\n\u001b[1;32m     13\u001b[0m         \u001b[0mimage\u001b[0m \u001b[0;34m=\u001b[0m \u001b[0mcv2\u001b[0m\u001b[0;34m.\u001b[0m\u001b[0mimread\u001b[0m\u001b[0;34m(\u001b[0m\u001b[0mimg_path\u001b[0m\u001b[0;34m)\u001b[0m\u001b[0;34m\u001b[0m\u001b[0;34m\u001b[0m\u001b[0m\n\u001b[0;32m---> 14\u001b[0;31m         \u001b[0mimage\u001b[0m \u001b[0;34m=\u001b[0m \u001b[0mcv2\u001b[0m\u001b[0;34m.\u001b[0m\u001b[0mcvtColor\u001b[0m\u001b[0;34m(\u001b[0m\u001b[0mimage\u001b[0m\u001b[0;34m,\u001b[0m \u001b[0mcv2\u001b[0m\u001b[0;34m.\u001b[0m\u001b[0mCOLOR_BGR2RGB\u001b[0m\u001b[0;34m)\u001b[0m\u001b[0;34m\u001b[0m\u001b[0;34m\u001b[0m\u001b[0m\n\u001b[0m\u001b[1;32m     15\u001b[0m         \u001b[0max\u001b[0m \u001b[0;34m=\u001b[0m \u001b[0mplt\u001b[0m\u001b[0;34m.\u001b[0m\u001b[0msubplot\u001b[0m\u001b[0;34m(\u001b[0m\u001b[0mgrid\u001b[0m\u001b[0;34m[\u001b[0m\u001b[0midx\u001b[0m\u001b[0;34m]\u001b[0m\u001b[0;34m)\u001b[0m\u001b[0;34m\u001b[0m\u001b[0;34m\u001b[0m\u001b[0m\n\u001b[1;32m     16\u001b[0m         \u001b[0max\u001b[0m\u001b[0;34m.\u001b[0m\u001b[0mimshow\u001b[0m\u001b[0;34m(\u001b[0m\u001b[0mimage\u001b[0m\u001b[0;34m)\u001b[0m\u001b[0;34m\u001b[0m\u001b[0;34m\u001b[0m\u001b[0m\n",
            "\u001b[0;31merror\u001b[0m: OpenCV(4.7.0) /io/opencv/modules/imgproc/src/color.cpp:182: error: (-215:Assertion failed) !_src.empty() in function 'cvtColor'\n"
          ]
        },
        {
          "output_type": "display_data",
          "data": {
            "text/plain": [
              "<Figure size 1500x800 with 0 Axes>"
            ]
          },
          "metadata": {}
        }
      ],
      "source": [
        "show_image(last_healthy_img_ids)"
      ],
      "id": "094d047e"
    },
    {
      "cell_type": "code",
      "execution_count": null,
      "metadata": {
        "id": "9340e232"
      },
      "outputs": [],
      "source": [
        "show_image(last_multiple_diseases_img_ids)"
      ],
      "id": "9340e232"
    },
    {
      "cell_type": "code",
      "execution_count": null,
      "metadata": {
        "id": "0046a513"
      },
      "outputs": [],
      "source": [
        "show_image(last_rust_img_ids)"
      ],
      "id": "0046a513"
    },
    {
      "cell_type": "code",
      "execution_count": null,
      "metadata": {
        "id": "ae6e23b0"
      },
      "outputs": [],
      "source": [
        "show_image(last_scab_diseases_img_ids)"
      ],
      "id": "ae6e23b0"
    },
    {
      "cell_type": "code",
      "execution_count": null,
      "metadata": {
        "id": "cfbf69af"
      },
      "outputs": [],
      "source": [],
      "id": "cfbf69af"
    },
    {
      "cell_type": "markdown",
      "metadata": {
        "id": "08be3b72"
      },
      "source": [
        "## 2. 베이스 모델 모델링"
      ],
      "id": "08be3b72"
    },
    {
      "cell_type": "markdown",
      "metadata": {
        "id": "7fc2640e"
      },
      "source": [
        "### 2.1 이미지데이더셋 준비"
      ],
      "id": "7fc2640e"
    },
    {
      "cell_type": "code",
      "execution_count": null,
      "metadata": {
        "colab": {
          "base_uri": "https://localhost:8080/"
        },
        "id": "c01b72bb",
        "outputId": "a7fe5d28-9e9b-4543-fbf2-fbf1fdecdfd7"
      },
      "outputs": [
        {
          "output_type": "execute_result",
          "data": {
            "text/plain": [
              "device(type='cuda')"
            ]
          },
          "metadata": {},
          "execution_count": 1
        }
      ],
      "source": [
        "import torch\n",
        "import random\n",
        "import os \n",
        "\n",
        "device = torch.device('cuda' if torch.cuda.is_available() else 'cpu')\n",
        "device"
      ],
      "id": "c01b72bb"
    },
    {
      "cell_type": "markdown",
      "metadata": {
        "id": "9d-_16LLspV7"
      },
      "source": [
        "#### 2.1.1 이미지데이터셋 로드 : Dataset\n",
        "\n",
        "> 이미지 파일을 train.csv, test.csv파일의 파일명으로 로드하여 RGB이미지 객체생성\n"
      ],
      "id": "9d-_16LLspV7"
    },
    {
      "cell_type": "code",
      "execution_count": null,
      "metadata": {
        "id": "e35a9ff6"
      },
      "outputs": [],
      "source": [
        "import cv2\n",
        "from torch.utils.data import Dataset\n",
        "import numpy as np\n",
        "\n",
        "class imagedataset(Dataset):\n",
        "    def __init__(self, df, img_dir='./',transform = None,is_test=False):\n",
        "        super().__init__()\n",
        "        self.df = df\n",
        "        self.img_dir = img_dir\n",
        "        self.transform = transform\n",
        "        self.is_test = is_test\n",
        "    \n",
        "    def __len__(self):\n",
        "        return len(self.df)\n",
        "    \n",
        "    def __getitem__(self,idx):\n",
        "        img_id = self.df.iloc[idx,0]\n",
        "        img_path = self.img_dir + img_id +'.jpg'\n",
        "        image = cv2.imread(img_path)\n",
        "        image = cv2.cvtColor(image, cv2.COLOR_BGR2RGB)\n",
        "        \n",
        "        if self.transform is not None: # 변환이 있으면 적용\n",
        "            image = self.transform(image=image)['image']\n",
        "        \n",
        "        if self.is_test: # 테스트면 이미지 리턴하고 아니면 이미지, 라벨 리턴\n",
        "            return image\n",
        "        else :\n",
        "            label = np.argmax(self.df.iloc[idx,1:5])\n",
        "            return image, label\n"
      ],
      "id": "e35a9ff6"
    },
    {
      "cell_type": "markdown",
      "metadata": {
        "id": "DYHhsLFZtVYF"
      },
      "source": [
        "####  2.1.2 이미지 증강 (Augmentation)\n",
        "> epoch 시마다 이미지를 변환하여 과대적합을 방지 <br>\n",
        "> 배치정규화로 (평균 0, 분산 1로 맞추어서) 과대적합을 방지<br>\n",
        "\n",
        "-  훈련데이터에서는 이미지 변환을 충분히 진행하기에 epoch이 늘어나도 과적합이 일어나지 않고, 정확도가 올라간다. 이만으로는 충분치 않기에 배치정규화까지 매 단계에서 진행해주며 과적합을 방지한다. 테스트 변환기는  모델과 스케일을 맞추기 위한 목적의 배치정규화를 진행\n",
        "\n",
        "[PyTorch 데이터로더 이해하기 참고](https://blog.promedius.ai/pytorch_dataloader_1/)<br>\n",
        "[PyTorch 데이터로더 이해하기 참고2](https://tutorials.pytorch.kr/beginner/data_loading_tutorial.html)"
      ],
      "id": "DYHhsLFZtVYF"
    },
    {
      "cell_type": "code",
      "execution_count": null,
      "metadata": {
        "id": "26810938"
      },
      "outputs": [],
      "source": [
        "# 이미지 변환을 위한 모듈\n",
        "import albumentations as A\n",
        "from albumentations.pytorch import ToTensorV2 # 이미지데이터를 텐서로 보냄\n",
        "\n",
        "# 학습용 변환기 : 특정 확률로 속성, 이동, 여파인 변환 적용  \n",
        "transform_train = A.Compose([    # 리스트에 각기능 담음\n",
        "    A.Resize(450,450),           # 리사이즈      \n",
        "    A.RandomBrightnessContrast(brightness_limit=0.2,  # 밝기 및 콘트라스트\n",
        "                              contrast_limit=0.2, p=0.3),\n",
        "    A.VerticalFlip(p=0.2),       # 상하대칭\n",
        "    A.HorizontalFlip(p=0.5),     # 좌우대칭\n",
        "    A.ShiftScaleRotate(          # 이동, 스케일링,회전변환로 랜덤 선택하여 바꿈 (30% 확율 지정)\n",
        "        shift_limit=0.1,\n",
        "        scale_limit=0.2,\n",
        "        rotate_limit=30,p=0.3),\n",
        "    A.OneOf([                    # 양각화,날카로움, 블러 중 하나를 랜덤으로 선택하여 바꿈 (30%확률 지정)\n",
        "        A.Emboss(p=1),\n",
        "        A.Sharpen(p=1),\n",
        "        A.Blur(p=1)],p=0.3),\n",
        "    A.PiecewiseAffine(p=0.3),    # 여파인 변환 : 이동확대축소, 회전등으로 이미지 모양을 전체적으로 바꾸는 것\n",
        "    A.Normalize(),              # 배치정규화하여\n",
        "    ToTensorV2()                # 텐서로 보냄\n",
        "    ])\n",
        "\n",
        "# 테스트용 변환기: 증강 등변환 없이 사이즈만 조정\n",
        "transform_test = A.Compose([\n",
        "    A.Resize(450,650),            # 리사이즈 \n",
        "    A.Normalize(),                # 배치정규화하여\n",
        "    ToTensorV2()                  # 텐서로 보냄\n",
        "])"
      ],
      "id": "26810938"
    },
    {
      "cell_type": "code",
      "execution_count": null,
      "metadata": {
        "id": "r_76JRPWI5a9"
      },
      "outputs": [],
      "source": [
        "from sklearn.model_selection import train_test_split\n",
        "img_dir = f'{path}/images/'\n",
        "train, valid = train_test_split(train,\n",
        "                               test_size=0.1,\n",
        "                               stratify=train[['healthy','multiple_diseases','rust','scab']],\n",
        "                               random_state=50)\n",
        "dataset_train = imagedataset(train, img_dir=img_dir, transform=transform_train)\n",
        "dataset_valid = imagedataset(valid , img_dir=img_dir, transform=transform_test)\n"
      ],
      "id": "r_76JRPWI5a9"
    },
    {
      "cell_type": "code",
      "execution_count": null,
      "metadata": {
        "colab": {
          "base_uri": "https://localhost:8080/"
        },
        "id": "85f17203",
        "outputId": "b24ab8a8-3078-4fe7-b000-e428a69c8550"
      },
      "outputs": [
        {
          "output_type": "execute_result",
          "data": {
            "text/plain": [
              "<torch._C.Generator at 0x7fbf8382e910>"
            ]
          },
          "metadata": {},
          "execution_count": 13
        }
      ],
      "source": [
        "# 멀티프로세싱을 활용하기 위해 데이터 로더의 시드를 고정 \n",
        "# 데이터 제너레이터 정의 \n",
        "def seed_worker(worker_id):\n",
        "    worker_seed = torch.initial_seed() % 2 **32\n",
        "    np.random.seed(worker_seed)\n",
        "    random.seed(worker_seed)    \n",
        "g= torch.Generator()\n",
        "g.manual_seed(0)"
      ],
      "id": "85f17203"
    },
    {
      "cell_type": "markdown",
      "metadata": {
        "id": "EqmarMIRynd9"
      },
      "source": [
        "#### 2.1.3 이미지 배치화 : DataLoader\n",
        "\n",
        "- 학습전 데이터셋단위에 배치를 적용 : 한 스탭에 몇개 적용하는지로 성능에 영향을 미침\n",
        "  + 클수록 속도는 빨라지나 너무 크면 모델성능이 나빠지며 GPU램이 감당못함 (힌튼교수 32이하 권장)  "
      ],
      "id": "EqmarMIRynd9"
    },
    {
      "cell_type": "code",
      "execution_count": null,
      "metadata": {
        "id": "a3f13982"
      },
      "outputs": [],
      "source": [
        "from torch.utils.data import DataLoader\n",
        "\n",
        "batch_size = 4 # 데이터 사이즈가 1841개로 작아서 배치 줄임 (그거야 ~~ GPU가 좋은 때 말이지...3060은 어림도 없음!)\n",
        "\n",
        "loader_train = DataLoader(dataset_train, batch_size=batch_size,\n",
        "                         shuffle=True, worker_init_fn = seed_worker,\n",
        "                         generator=g, num_workers=2)\n",
        "\n",
        "loader_valid = DataLoader(dataset_valid , batch_size=batch_size,\n",
        "                         shuffle=True, worker_init_fn = seed_worker,\n",
        "                         generator=g, num_workers=2)"
      ],
      "id": "a3f13982"
    },
    {
      "cell_type": "markdown",
      "metadata": {
        "id": "5d21c3e3"
      },
      "source": [
        "### 2.2 모델 학습\n",
        "> 비교적 적은 파라미터로 좋은 성능을 지닌 EfficientNet 알고리즘을 다운받아서 학습한다. <br><br>\n",
        "[EfficientNet 알아보기 (논문 및 코드)](https://paperswithcode.com/method/efficientnet)<br>\n",
        "효과적인 복합 계수를 사용하여 깊이/폭/해상도의 모든 차원을 균일하게 스케일링하는 방법으로 성능을 개선한 모델. 특히, EfficientNet-B7은 이미지넷에서 84.3%의 최고 정확도를 달성하는 동시에 기존 최고 ConvNet보다 8.4배 더 작고 추론 속도가 6.1배 더 빠름. 기존모델대비 훨씬 적은 수의 파라미터로 CIFAR-100(91.7%), Flowers(98.8%) 및 기타 3개의 전송 학습 데이터 세트에서 우수한 전송 성능과 최고의 정확도 달성"
      ],
      "id": "5d21c3e3"
    },
    {
      "cell_type": "markdown",
      "metadata": {
        "id": "CdJ9jCVi5vkc"
      },
      "source": [
        "#### 2.2.1 모델준비 : EfficientNet\n",
        "- 모델 : EfficientNet\n",
        "- epochs = 3\n",
        "- 손실함수 : CrossEntropyLoss()\n",
        "- 활성화함수 : AdamW\n",
        "- 학습율 lr = 0.00006\n",
        "- 가중치감소 weight_decay = 0.0001"
      ],
      "id": "CdJ9jCVi5vkc"
    },
    {
      "cell_type": "code",
      "execution_count": null,
      "metadata": {
        "colab": {
          "base_uri": "https://localhost:8080/"
        },
        "id": "c6ef5f2f",
        "outputId": "c7f8824f-3c73-4760-f4d7-ae908e1ff7ef"
      },
      "outputs": [
        {
          "output_type": "stream",
          "name": "stdout",
          "text": [
            "Looking in indexes: https://pypi.org/simple, https://us-python.pkg.dev/colab-wheels/public/simple/\n",
            "Collecting efficientnet-pytorch==0.7.1\n",
            "  Downloading efficientnet_pytorch-0.7.1.tar.gz (21 kB)\n",
            "  Preparing metadata (setup.py) ... \u001b[?25l\u001b[?25hdone\n",
            "Requirement already satisfied: torch in /usr/local/lib/python3.10/dist-packages (from efficientnet-pytorch==0.7.1) (2.0.1+cu118)\n",
            "Requirement already satisfied: filelock in /usr/local/lib/python3.10/dist-packages (from torch->efficientnet-pytorch==0.7.1) (3.12.0)\n",
            "Requirement already satisfied: typing-extensions in /usr/local/lib/python3.10/dist-packages (from torch->efficientnet-pytorch==0.7.1) (4.5.0)\n",
            "Requirement already satisfied: sympy in /usr/local/lib/python3.10/dist-packages (from torch->efficientnet-pytorch==0.7.1) (1.11.1)\n",
            "Requirement already satisfied: networkx in /usr/local/lib/python3.10/dist-packages (from torch->efficientnet-pytorch==0.7.1) (3.1)\n",
            "Requirement already satisfied: jinja2 in /usr/local/lib/python3.10/dist-packages (from torch->efficientnet-pytorch==0.7.1) (3.1.2)\n",
            "Requirement already satisfied: triton==2.0.0 in /usr/local/lib/python3.10/dist-packages (from torch->efficientnet-pytorch==0.7.1) (2.0.0)\n",
            "Requirement already satisfied: cmake in /usr/local/lib/python3.10/dist-packages (from triton==2.0.0->torch->efficientnet-pytorch==0.7.1) (3.25.2)\n",
            "Requirement already satisfied: lit in /usr/local/lib/python3.10/dist-packages (from triton==2.0.0->torch->efficientnet-pytorch==0.7.1) (16.0.5)\n",
            "Requirement already satisfied: MarkupSafe>=2.0 in /usr/local/lib/python3.10/dist-packages (from jinja2->torch->efficientnet-pytorch==0.7.1) (2.1.2)\n",
            "Requirement already satisfied: mpmath>=0.19 in /usr/local/lib/python3.10/dist-packages (from sympy->torch->efficientnet-pytorch==0.7.1) (1.3.0)\n",
            "Building wheels for collected packages: efficientnet-pytorch\n",
            "  Building wheel for efficientnet-pytorch (setup.py) ... \u001b[?25l\u001b[?25hdone\n",
            "  Created wheel for efficientnet-pytorch: filename=efficientnet_pytorch-0.7.1-py3-none-any.whl size=16427 sha256=7859a46228ee2602e30b73b44fddc6f8d331be4c40836a4f08356839958dd430\n",
            "  Stored in directory: /root/.cache/pip/wheels/03/3f/e9/911b1bc46869644912bda90a56bcf7b960f20b5187feea3baf\n",
            "Successfully built efficientnet-pytorch\n",
            "Installing collected packages: efficientnet-pytorch\n",
            "Successfully installed efficientnet-pytorch-0.7.1\n"
          ]
        }
      ],
      "source": [
        "!pip install efficientnet-pytorch==0.7.1"
      ],
      "id": "c6ef5f2f"
    },
    {
      "cell_type": "code",
      "execution_count": null,
      "metadata": {
        "colab": {
          "base_uri": "https://localhost:8080/"
        },
        "id": "8fc736c7",
        "outputId": "bd92e938-2cf1-4823-a9b4-e27eafe325a5"
      },
      "outputs": [
        {
          "output_type": "stream",
          "name": "stderr",
          "text": [
            "Downloading: \"https://github.com/lukemelas/EfficientNet-PyTorch/releases/download/1.0/efficientnet-b7-dcc49843.pth\" to /root/.cache/torch/hub/checkpoints/efficientnet-b7-dcc49843.pth\n",
            "100%|██████████| 254M/254M [00:03<00:00, 71.2MB/s]\n"
          ]
        },
        {
          "output_type": "stream",
          "name": "stdout",
          "text": [
            "Loaded pretrained weights for efficientnet-b7\n"
          ]
        }
      ],
      "source": [
        "from efficientnet_pytorch import EfficientNet\n",
        "\n",
        "model = EfficientNet.from_pretrained('efficientnet-b7', num_classes=4) # 기본 출력피처는 1000개이나, 우리가 예측이 필요한 피쳐는 4개로, num_classes를 4로 지정\n",
        "\n",
        "# # num_classes를 활성화함수, drop_out등 옵션을 주면서 파인튜닝 가능\n",
        "\n",
        "# model = EfficientNet.from_pretrained('efficientnet-b7')\n",
        "# model._fc= nn.Sequentail(\n",
        "# nn.Linear(model._fc.in_features, model._fc.out_features),\n",
        "# nn.ReLu(),\n",
        "# nn.DropOut(0.5),\n",
        "# nn.Linear(model.fc.out_features,4))"
      ],
      "id": "8fc736c7"
    },
    {
      "cell_type": "code",
      "execution_count": null,
      "metadata": {
        "id": "q7TCeZiw5dlH"
      },
      "outputs": [],
      "source": [
        "# 에폭, 손실함수, 최적화함수, 학습률 \n",
        "import torch.nn as nn\n",
        "from sklearn.metrics import roc_auc_score\n",
        "from tqdm.notebook import tqdm\n",
        "\n",
        "\n",
        "model = model.to(device) # 모델을 디바이스로 보내고\n",
        "\n",
        "epochs = 3\n",
        "criterion = nn.CrossEntropyLoss()\n",
        "optimizer = torch.optim.AdamW(model.parameters(), lr = 0.00006, weight_decay = 0.0001)"
      ],
      "id": "q7TCeZiw5dlH"
    },
    {
      "cell_type": "markdown",
      "metadata": {
        "id": "I7CzxKCb5UeR"
      },
      "source": [
        "#### 2.2.2 모델훈련 및 성능 검증\n",
        "\n"
      ],
      "id": "I7CzxKCb5UeR"
    },
    {
      "cell_type": "code",
      "execution_count": null,
      "metadata": {
        "colab": {
          "base_uri": "https://localhost:8080/",
          "height": 634,
          "referenced_widgets": [
            "c38f8b672b754b9e9d6428b4aca48e1f",
            "8fea226e97914b03aae359dda3246e51",
            "a15a9e66deb545c7b0e6d03b89829dac",
            "e568853b70534bb4ad2ea272ab3d1549",
            "871a2a3627f74889bd4f36159b75c9c2",
            "d93acb00f37646d2b63b728274c62e39",
            "e52718baee61469791ba1aa444b54016",
            "f95c158672134183ba7063545fb7c4c8",
            "da624b16468645a894bbc6d00793ed97",
            "4c9c236204264707b44e7b2c6546aa9f",
            "daf2607bb713429d829ed84a10bbdef7"
          ]
        },
        "id": "ec1c16bd",
        "outputId": "3d5c6fac-b789-418f-b2fc-63b4ca8c39e3"
      },
      "outputs": [
        {
          "output_type": "display_data",
          "data": {
            "text/plain": [
              "  0%|          | 0/410 [00:00<?, ?it/s]"
            ],
            "application/vnd.jupyter.widget-view+json": {
              "version_major": 2,
              "version_minor": 0,
              "model_id": "c38f8b672b754b9e9d6428b4aca48e1f"
            }
          },
          "metadata": {}
        },
        {
          "output_type": "error",
          "ename": "error",
          "evalue": "ignored",
          "traceback": [
            "\u001b[0;31m---------------------------------------------------------------------------\u001b[0m",
            "\u001b[0;31merror\u001b[0m                                     Traceback (most recent call last)",
            "\u001b[0;32m<ipython-input-20-4ba09aee6eb6>\u001b[0m in \u001b[0;36m<cell line: 1>\u001b[0;34m()\u001b[0m\n\u001b[1;32m      4\u001b[0m     \u001b[0mepoch_train_loss\u001b[0m \u001b[0;34m=\u001b[0m\u001b[0;36m0\u001b[0m\u001b[0;34m\u001b[0m\u001b[0;34m\u001b[0m\u001b[0m\n\u001b[1;32m      5\u001b[0m \u001b[0;34m\u001b[0m\u001b[0m\n\u001b[0;32m----> 6\u001b[0;31m     \u001b[0;32mfor\u001b[0m \u001b[0mimages\u001b[0m\u001b[0;34m,\u001b[0m \u001b[0mlabels\u001b[0m \u001b[0;32min\u001b[0m \u001b[0mtqdm\u001b[0m\u001b[0;34m(\u001b[0m\u001b[0mloader_train\u001b[0m\u001b[0;34m)\u001b[0m\u001b[0;34m:\u001b[0m\u001b[0;34m\u001b[0m\u001b[0;34m\u001b[0m\u001b[0m\n\u001b[0m\u001b[1;32m      7\u001b[0m         \u001b[0mimages\u001b[0m \u001b[0;34m=\u001b[0m \u001b[0mimages\u001b[0m\u001b[0;34m.\u001b[0m\u001b[0mto\u001b[0m\u001b[0;34m(\u001b[0m\u001b[0mdevice\u001b[0m\u001b[0;34m)\u001b[0m \u001b[0;31m# 이미지도 디바이스로 보내고\u001b[0m\u001b[0;34m\u001b[0m\u001b[0;34m\u001b[0m\u001b[0m\n\u001b[1;32m      8\u001b[0m         \u001b[0mlabels\u001b[0m \u001b[0;34m=\u001b[0m \u001b[0mlabels\u001b[0m\u001b[0;34m.\u001b[0m\u001b[0mto\u001b[0m\u001b[0;34m(\u001b[0m\u001b[0mdevice\u001b[0m\u001b[0;34m)\u001b[0m \u001b[0;31m# 라벨도 디바이스로 보내고\u001b[0m\u001b[0;34m\u001b[0m\u001b[0;34m\u001b[0m\u001b[0m\n",
            "\u001b[0;32m/usr/local/lib/python3.10/dist-packages/tqdm/notebook.py\u001b[0m in \u001b[0;36m__iter__\u001b[0;34m(self)\u001b[0m\n\u001b[1;32m    252\u001b[0m         \u001b[0;32mtry\u001b[0m\u001b[0;34m:\u001b[0m\u001b[0;34m\u001b[0m\u001b[0;34m\u001b[0m\u001b[0m\n\u001b[1;32m    253\u001b[0m             \u001b[0mit\u001b[0m \u001b[0;34m=\u001b[0m \u001b[0msuper\u001b[0m\u001b[0;34m(\u001b[0m\u001b[0mtqdm_notebook\u001b[0m\u001b[0;34m,\u001b[0m \u001b[0mself\u001b[0m\u001b[0;34m)\u001b[0m\u001b[0;34m.\u001b[0m\u001b[0m__iter__\u001b[0m\u001b[0;34m(\u001b[0m\u001b[0;34m)\u001b[0m\u001b[0;34m\u001b[0m\u001b[0;34m\u001b[0m\u001b[0m\n\u001b[0;32m--> 254\u001b[0;31m             \u001b[0;32mfor\u001b[0m \u001b[0mobj\u001b[0m \u001b[0;32min\u001b[0m \u001b[0mit\u001b[0m\u001b[0;34m:\u001b[0m\u001b[0;34m\u001b[0m\u001b[0;34m\u001b[0m\u001b[0m\n\u001b[0m\u001b[1;32m    255\u001b[0m                 \u001b[0;31m# return super(tqdm...) will not catch exception\u001b[0m\u001b[0;34m\u001b[0m\u001b[0;34m\u001b[0m\u001b[0m\n\u001b[1;32m    256\u001b[0m                 \u001b[0;32myield\u001b[0m \u001b[0mobj\u001b[0m\u001b[0;34m\u001b[0m\u001b[0;34m\u001b[0m\u001b[0m\n",
            "\u001b[0;32m/usr/local/lib/python3.10/dist-packages/tqdm/std.py\u001b[0m in \u001b[0;36m__iter__\u001b[0;34m(self)\u001b[0m\n\u001b[1;32m   1176\u001b[0m \u001b[0;34m\u001b[0m\u001b[0m\n\u001b[1;32m   1177\u001b[0m         \u001b[0;32mtry\u001b[0m\u001b[0;34m:\u001b[0m\u001b[0;34m\u001b[0m\u001b[0;34m\u001b[0m\u001b[0m\n\u001b[0;32m-> 1178\u001b[0;31m             \u001b[0;32mfor\u001b[0m \u001b[0mobj\u001b[0m \u001b[0;32min\u001b[0m \u001b[0miterable\u001b[0m\u001b[0;34m:\u001b[0m\u001b[0;34m\u001b[0m\u001b[0;34m\u001b[0m\u001b[0m\n\u001b[0m\u001b[1;32m   1179\u001b[0m                 \u001b[0;32myield\u001b[0m \u001b[0mobj\u001b[0m\u001b[0;34m\u001b[0m\u001b[0;34m\u001b[0m\u001b[0m\n\u001b[1;32m   1180\u001b[0m                 \u001b[0;31m# Update and possibly print the progressbar.\u001b[0m\u001b[0;34m\u001b[0m\u001b[0;34m\u001b[0m\u001b[0m\n",
            "\u001b[0;32m/usr/local/lib/python3.10/dist-packages/torch/utils/data/dataloader.py\u001b[0m in \u001b[0;36m__next__\u001b[0;34m(self)\u001b[0m\n\u001b[1;32m    631\u001b[0m                 \u001b[0;31m# TODO(https://github.com/pytorch/pytorch/issues/76750)\u001b[0m\u001b[0;34m\u001b[0m\u001b[0;34m\u001b[0m\u001b[0m\n\u001b[1;32m    632\u001b[0m                 \u001b[0mself\u001b[0m\u001b[0;34m.\u001b[0m\u001b[0m_reset\u001b[0m\u001b[0;34m(\u001b[0m\u001b[0;34m)\u001b[0m  \u001b[0;31m# type: ignore[call-arg]\u001b[0m\u001b[0;34m\u001b[0m\u001b[0;34m\u001b[0m\u001b[0m\n\u001b[0;32m--> 633\u001b[0;31m             \u001b[0mdata\u001b[0m \u001b[0;34m=\u001b[0m \u001b[0mself\u001b[0m\u001b[0;34m.\u001b[0m\u001b[0m_next_data\u001b[0m\u001b[0;34m(\u001b[0m\u001b[0;34m)\u001b[0m\u001b[0;34m\u001b[0m\u001b[0;34m\u001b[0m\u001b[0m\n\u001b[0m\u001b[1;32m    634\u001b[0m             \u001b[0mself\u001b[0m\u001b[0;34m.\u001b[0m\u001b[0m_num_yielded\u001b[0m \u001b[0;34m+=\u001b[0m \u001b[0;36m1\u001b[0m\u001b[0;34m\u001b[0m\u001b[0;34m\u001b[0m\u001b[0m\n\u001b[1;32m    635\u001b[0m             \u001b[0;32mif\u001b[0m \u001b[0mself\u001b[0m\u001b[0;34m.\u001b[0m\u001b[0m_dataset_kind\u001b[0m \u001b[0;34m==\u001b[0m \u001b[0m_DatasetKind\u001b[0m\u001b[0;34m.\u001b[0m\u001b[0mIterable\u001b[0m \u001b[0;32mand\u001b[0m\u001b[0;31m \u001b[0m\u001b[0;31m\\\u001b[0m\u001b[0;34m\u001b[0m\u001b[0;34m\u001b[0m\u001b[0m\n",
            "\u001b[0;32m/usr/local/lib/python3.10/dist-packages/torch/utils/data/dataloader.py\u001b[0m in \u001b[0;36m_next_data\u001b[0;34m(self)\u001b[0m\n\u001b[1;32m   1343\u001b[0m             \u001b[0;32melse\u001b[0m\u001b[0;34m:\u001b[0m\u001b[0;34m\u001b[0m\u001b[0;34m\u001b[0m\u001b[0m\n\u001b[1;32m   1344\u001b[0m                 \u001b[0;32mdel\u001b[0m \u001b[0mself\u001b[0m\u001b[0;34m.\u001b[0m\u001b[0m_task_info\u001b[0m\u001b[0;34m[\u001b[0m\u001b[0midx\u001b[0m\u001b[0;34m]\u001b[0m\u001b[0;34m\u001b[0m\u001b[0;34m\u001b[0m\u001b[0m\n\u001b[0;32m-> 1345\u001b[0;31m                 \u001b[0;32mreturn\u001b[0m \u001b[0mself\u001b[0m\u001b[0;34m.\u001b[0m\u001b[0m_process_data\u001b[0m\u001b[0;34m(\u001b[0m\u001b[0mdata\u001b[0m\u001b[0;34m)\u001b[0m\u001b[0;34m\u001b[0m\u001b[0;34m\u001b[0m\u001b[0m\n\u001b[0m\u001b[1;32m   1346\u001b[0m \u001b[0;34m\u001b[0m\u001b[0m\n\u001b[1;32m   1347\u001b[0m     \u001b[0;32mdef\u001b[0m \u001b[0m_try_put_index\u001b[0m\u001b[0;34m(\u001b[0m\u001b[0mself\u001b[0m\u001b[0;34m)\u001b[0m\u001b[0;34m:\u001b[0m\u001b[0;34m\u001b[0m\u001b[0;34m\u001b[0m\u001b[0m\n",
            "\u001b[0;32m/usr/local/lib/python3.10/dist-packages/torch/utils/data/dataloader.py\u001b[0m in \u001b[0;36m_process_data\u001b[0;34m(self, data)\u001b[0m\n\u001b[1;32m   1369\u001b[0m         \u001b[0mself\u001b[0m\u001b[0;34m.\u001b[0m\u001b[0m_try_put_index\u001b[0m\u001b[0;34m(\u001b[0m\u001b[0;34m)\u001b[0m\u001b[0;34m\u001b[0m\u001b[0;34m\u001b[0m\u001b[0m\n\u001b[1;32m   1370\u001b[0m         \u001b[0;32mif\u001b[0m \u001b[0misinstance\u001b[0m\u001b[0;34m(\u001b[0m\u001b[0mdata\u001b[0m\u001b[0;34m,\u001b[0m \u001b[0mExceptionWrapper\u001b[0m\u001b[0;34m)\u001b[0m\u001b[0;34m:\u001b[0m\u001b[0;34m\u001b[0m\u001b[0;34m\u001b[0m\u001b[0m\n\u001b[0;32m-> 1371\u001b[0;31m             \u001b[0mdata\u001b[0m\u001b[0;34m.\u001b[0m\u001b[0mreraise\u001b[0m\u001b[0;34m(\u001b[0m\u001b[0;34m)\u001b[0m\u001b[0;34m\u001b[0m\u001b[0;34m\u001b[0m\u001b[0m\n\u001b[0m\u001b[1;32m   1372\u001b[0m         \u001b[0;32mreturn\u001b[0m \u001b[0mdata\u001b[0m\u001b[0;34m\u001b[0m\u001b[0;34m\u001b[0m\u001b[0m\n\u001b[1;32m   1373\u001b[0m \u001b[0;34m\u001b[0m\u001b[0m\n",
            "\u001b[0;32m/usr/local/lib/python3.10/dist-packages/torch/_utils.py\u001b[0m in \u001b[0;36mreraise\u001b[0;34m(self)\u001b[0m\n\u001b[1;32m    642\u001b[0m             \u001b[0;31m# instantiate since we don't know how to\u001b[0m\u001b[0;34m\u001b[0m\u001b[0;34m\u001b[0m\u001b[0m\n\u001b[1;32m    643\u001b[0m             \u001b[0;32mraise\u001b[0m \u001b[0mRuntimeError\u001b[0m\u001b[0;34m(\u001b[0m\u001b[0mmsg\u001b[0m\u001b[0;34m)\u001b[0m \u001b[0;32mfrom\u001b[0m \u001b[0;32mNone\u001b[0m\u001b[0;34m\u001b[0m\u001b[0;34m\u001b[0m\u001b[0m\n\u001b[0;32m--> 644\u001b[0;31m         \u001b[0;32mraise\u001b[0m \u001b[0mexception\u001b[0m\u001b[0;34m\u001b[0m\u001b[0;34m\u001b[0m\u001b[0m\n\u001b[0m\u001b[1;32m    645\u001b[0m \u001b[0;34m\u001b[0m\u001b[0m\n\u001b[1;32m    646\u001b[0m \u001b[0;34m\u001b[0m\u001b[0m\n",
            "\u001b[0;31merror\u001b[0m: Caught error in DataLoader worker process 0.\nOriginal Traceback (most recent call last):\n  File \"/usr/local/lib/python3.10/dist-packages/torch/utils/data/_utils/worker.py\", line 308, in _worker_loop\n    data = fetcher.fetch(index)\n  File \"/usr/local/lib/python3.10/dist-packages/torch/utils/data/_utils/fetch.py\", line 51, in fetch\n    data = [self.dataset[idx] for idx in possibly_batched_index]\n  File \"/usr/local/lib/python3.10/dist-packages/torch/utils/data/_utils/fetch.py\", line 51, in <listcomp>\n    data = [self.dataset[idx] for idx in possibly_batched_index]\n  File \"<ipython-input-9-e64b135b77d2>\", line 20, in __getitem__\n    image = cv2.cvtColor(image, cv2.COLOR_BGR2RGB)\ncv2.error: OpenCV(4.7.0) /io/opencv/modules/imgproc/src/color.cpp:182: error: (-215:Assertion failed) !_src.empty() in function 'cvtColor'\n\n"
          ]
        }
      ],
      "source": [
        "for epoch in range(epochs):\n",
        "\n",
        "    model.train()\n",
        "    epoch_train_loss =0\n",
        "    \n",
        "    for images, labels in tqdm(loader_train):\n",
        "        images = images.to(device) # 이미지도 디바이스로 보내고\n",
        "        labels = labels.to(device) # 라벨도 디바이스로 보내고 \n",
        "        optimizer.zero_grad()      # 옵티마이저 초기화해주고 (과적합 방지)\n",
        "\n",
        "        outputs = model(images)    # 모델로 예측 산출\n",
        "        loss = criterion(outputs, labels) # 로스율 산출 (예측, 라벨)\n",
        "        epoch_train_loss += loss.item()\n",
        "        loss.backward()\n",
        "        optimizer.step()\n",
        "    print(f'에폭 [{epoch+1}/{epochs}] - 훈련데이터 손실값 : {epoch_train_loss/len(loader_train):.4f}') \n",
        "    \n",
        "    \n",
        "    # =========[검증]========================\n",
        "    model.eval()          # 모델용 평가상태로 설정\n",
        "    epoch_valid_loss = 0  # 에폭 별 손실값 초기화\n",
        "    preds_list = []       # 예측 확률값 저장용\n",
        "    true_onehot_list =[]  # 실제 타깃 저장용\n",
        "    \n",
        "    with torch.no_grad():\n",
        "        for images, labels in loader_valid:\n",
        "            images = images.to(device)\n",
        "            labels = labels.to(device)\n",
        "                    \n",
        "            outputs = model(images)\n",
        "            loss = criterion(outputs, labels)\n",
        "            epoch_valid_loss += loss.item()\n",
        "            \n",
        "            # 예측값과 실제값의 저장\n",
        "            preds = torch.softmax(outputs.cpu(), dim =1).numpy()\n",
        "            true_onehot = torch.eye(4)[labels.cpu()].numpy()  \n",
        "            \n",
        "            preds_list.extend(preds)\n",
        "            true_onehot_list.extend(true_onehot)\n",
        "    print(f'에폭 [{epoch+1}/{epochs}] - 검증데이터 손실값 : {epoch_valid_loss/len(loader_valid):.4f} / 검증데이터 ROC_AUC : {roc_auc_score(true_onehot_list,preds_list):.4f}') "
      ],
      "id": "ec1c16bd"
    },
    {
      "cell_type": "markdown",
      "metadata": {
        "id": "I_1eDRGU7n1a"
      },
      "source": [
        "#### 2.2.3  예측 및 결과 제출"
      ],
      "id": "I_1eDRGU7n1a"
    },
    {
      "cell_type": "code",
      "execution_count": null,
      "metadata": {
        "id": "97a8ce95",
        "colab": {
          "base_uri": "https://localhost:8080/",
          "height": 602
        },
        "outputId": "3222e091-682d-4777-e283-f7e068b32325"
      },
      "outputs": [
        {
          "output_type": "error",
          "ename": "error",
          "evalue": "ignored",
          "traceback": [
            "\u001b[0;31m---------------------------------------------------------------------------\u001b[0m",
            "\u001b[0;31merror\u001b[0m                                     Traceback (most recent call last)",
            "\u001b[0;32m<ipython-input-21-5e03dac9c093>\u001b[0m in \u001b[0;36m<cell line: 9>\u001b[0;34m()\u001b[0m\n\u001b[1;32m      8\u001b[0m \u001b[0;34m\u001b[0m\u001b[0m\n\u001b[1;32m      9\u001b[0m \u001b[0;32mwith\u001b[0m \u001b[0mtorch\u001b[0m\u001b[0;34m.\u001b[0m\u001b[0mno_grad\u001b[0m\u001b[0;34m(\u001b[0m\u001b[0;34m)\u001b[0m\u001b[0;34m:\u001b[0m\u001b[0;34m\u001b[0m\u001b[0;34m\u001b[0m\u001b[0m\n\u001b[0;32m---> 10\u001b[0;31m     \u001b[0;32mfor\u001b[0m \u001b[0mi\u001b[0m\u001b[0;34m,\u001b[0m \u001b[0mimages\u001b[0m \u001b[0;32min\u001b[0m \u001b[0menumerate\u001b[0m\u001b[0;34m(\u001b[0m\u001b[0mloader_test\u001b[0m\u001b[0;34m)\u001b[0m\u001b[0;34m:\u001b[0m\u001b[0;34m\u001b[0m\u001b[0;34m\u001b[0m\u001b[0m\n\u001b[0m\u001b[1;32m     11\u001b[0m         \u001b[0mimages\u001b[0m \u001b[0;34m=\u001b[0m \u001b[0mimages\u001b[0m\u001b[0;34m.\u001b[0m\u001b[0mto\u001b[0m\u001b[0;34m(\u001b[0m\u001b[0mdevice\u001b[0m\u001b[0;34m)\u001b[0m\u001b[0;34m\u001b[0m\u001b[0;34m\u001b[0m\u001b[0m\n\u001b[1;32m     12\u001b[0m         \u001b[0moutputs\u001b[0m \u001b[0;34m=\u001b[0m \u001b[0mmodel\u001b[0m\u001b[0;34m(\u001b[0m\u001b[0mimages\u001b[0m\u001b[0;34m)\u001b[0m\u001b[0;34m\u001b[0m\u001b[0;34m\u001b[0m\u001b[0m\n",
            "\u001b[0;32m/usr/local/lib/python3.10/dist-packages/torch/utils/data/dataloader.py\u001b[0m in \u001b[0;36m__next__\u001b[0;34m(self)\u001b[0m\n\u001b[1;32m    631\u001b[0m                 \u001b[0;31m# TODO(https://github.com/pytorch/pytorch/issues/76750)\u001b[0m\u001b[0;34m\u001b[0m\u001b[0;34m\u001b[0m\u001b[0m\n\u001b[1;32m    632\u001b[0m                 \u001b[0mself\u001b[0m\u001b[0;34m.\u001b[0m\u001b[0m_reset\u001b[0m\u001b[0;34m(\u001b[0m\u001b[0;34m)\u001b[0m  \u001b[0;31m# type: ignore[call-arg]\u001b[0m\u001b[0;34m\u001b[0m\u001b[0;34m\u001b[0m\u001b[0m\n\u001b[0;32m--> 633\u001b[0;31m             \u001b[0mdata\u001b[0m \u001b[0;34m=\u001b[0m \u001b[0mself\u001b[0m\u001b[0;34m.\u001b[0m\u001b[0m_next_data\u001b[0m\u001b[0;34m(\u001b[0m\u001b[0;34m)\u001b[0m\u001b[0;34m\u001b[0m\u001b[0;34m\u001b[0m\u001b[0m\n\u001b[0m\u001b[1;32m    634\u001b[0m             \u001b[0mself\u001b[0m\u001b[0;34m.\u001b[0m\u001b[0m_num_yielded\u001b[0m \u001b[0;34m+=\u001b[0m \u001b[0;36m1\u001b[0m\u001b[0;34m\u001b[0m\u001b[0;34m\u001b[0m\u001b[0m\n\u001b[1;32m    635\u001b[0m             \u001b[0;32mif\u001b[0m \u001b[0mself\u001b[0m\u001b[0;34m.\u001b[0m\u001b[0m_dataset_kind\u001b[0m \u001b[0;34m==\u001b[0m \u001b[0m_DatasetKind\u001b[0m\u001b[0;34m.\u001b[0m\u001b[0mIterable\u001b[0m \u001b[0;32mand\u001b[0m\u001b[0;31m \u001b[0m\u001b[0;31m\\\u001b[0m\u001b[0;34m\u001b[0m\u001b[0;34m\u001b[0m\u001b[0m\n",
            "\u001b[0;32m/usr/local/lib/python3.10/dist-packages/torch/utils/data/dataloader.py\u001b[0m in \u001b[0;36m_next_data\u001b[0;34m(self)\u001b[0m\n\u001b[1;32m   1343\u001b[0m             \u001b[0;32melse\u001b[0m\u001b[0;34m:\u001b[0m\u001b[0;34m\u001b[0m\u001b[0;34m\u001b[0m\u001b[0m\n\u001b[1;32m   1344\u001b[0m                 \u001b[0;32mdel\u001b[0m \u001b[0mself\u001b[0m\u001b[0;34m.\u001b[0m\u001b[0m_task_info\u001b[0m\u001b[0;34m[\u001b[0m\u001b[0midx\u001b[0m\u001b[0;34m]\u001b[0m\u001b[0;34m\u001b[0m\u001b[0;34m\u001b[0m\u001b[0m\n\u001b[0;32m-> 1345\u001b[0;31m                 \u001b[0;32mreturn\u001b[0m \u001b[0mself\u001b[0m\u001b[0;34m.\u001b[0m\u001b[0m_process_data\u001b[0m\u001b[0;34m(\u001b[0m\u001b[0mdata\u001b[0m\u001b[0;34m)\u001b[0m\u001b[0;34m\u001b[0m\u001b[0;34m\u001b[0m\u001b[0m\n\u001b[0m\u001b[1;32m   1346\u001b[0m \u001b[0;34m\u001b[0m\u001b[0m\n\u001b[1;32m   1347\u001b[0m     \u001b[0;32mdef\u001b[0m \u001b[0m_try_put_index\u001b[0m\u001b[0;34m(\u001b[0m\u001b[0mself\u001b[0m\u001b[0;34m)\u001b[0m\u001b[0;34m:\u001b[0m\u001b[0;34m\u001b[0m\u001b[0;34m\u001b[0m\u001b[0m\n",
            "\u001b[0;32m/usr/local/lib/python3.10/dist-packages/torch/utils/data/dataloader.py\u001b[0m in \u001b[0;36m_process_data\u001b[0;34m(self, data)\u001b[0m\n\u001b[1;32m   1369\u001b[0m         \u001b[0mself\u001b[0m\u001b[0;34m.\u001b[0m\u001b[0m_try_put_index\u001b[0m\u001b[0;34m(\u001b[0m\u001b[0;34m)\u001b[0m\u001b[0;34m\u001b[0m\u001b[0;34m\u001b[0m\u001b[0m\n\u001b[1;32m   1370\u001b[0m         \u001b[0;32mif\u001b[0m \u001b[0misinstance\u001b[0m\u001b[0;34m(\u001b[0m\u001b[0mdata\u001b[0m\u001b[0;34m,\u001b[0m \u001b[0mExceptionWrapper\u001b[0m\u001b[0;34m)\u001b[0m\u001b[0;34m:\u001b[0m\u001b[0;34m\u001b[0m\u001b[0;34m\u001b[0m\u001b[0m\n\u001b[0;32m-> 1371\u001b[0;31m             \u001b[0mdata\u001b[0m\u001b[0;34m.\u001b[0m\u001b[0mreraise\u001b[0m\u001b[0;34m(\u001b[0m\u001b[0;34m)\u001b[0m\u001b[0;34m\u001b[0m\u001b[0;34m\u001b[0m\u001b[0m\n\u001b[0m\u001b[1;32m   1372\u001b[0m         \u001b[0;32mreturn\u001b[0m \u001b[0mdata\u001b[0m\u001b[0;34m\u001b[0m\u001b[0;34m\u001b[0m\u001b[0m\n\u001b[1;32m   1373\u001b[0m \u001b[0;34m\u001b[0m\u001b[0m\n",
            "\u001b[0;32m/usr/local/lib/python3.10/dist-packages/torch/_utils.py\u001b[0m in \u001b[0;36mreraise\u001b[0;34m(self)\u001b[0m\n\u001b[1;32m    642\u001b[0m             \u001b[0;31m# instantiate since we don't know how to\u001b[0m\u001b[0;34m\u001b[0m\u001b[0;34m\u001b[0m\u001b[0m\n\u001b[1;32m    643\u001b[0m             \u001b[0;32mraise\u001b[0m \u001b[0mRuntimeError\u001b[0m\u001b[0;34m(\u001b[0m\u001b[0mmsg\u001b[0m\u001b[0;34m)\u001b[0m \u001b[0;32mfrom\u001b[0m \u001b[0;32mNone\u001b[0m\u001b[0;34m\u001b[0m\u001b[0;34m\u001b[0m\u001b[0m\n\u001b[0;32m--> 644\u001b[0;31m         \u001b[0;32mraise\u001b[0m \u001b[0mexception\u001b[0m\u001b[0;34m\u001b[0m\u001b[0;34m\u001b[0m\u001b[0m\n\u001b[0m\u001b[1;32m    645\u001b[0m \u001b[0;34m\u001b[0m\u001b[0m\n\u001b[1;32m    646\u001b[0m \u001b[0;34m\u001b[0m\u001b[0m\n",
            "\u001b[0;31merror\u001b[0m: Caught error in DataLoader worker process 0.\nOriginal Traceback (most recent call last):\n  File \"/usr/local/lib/python3.10/dist-packages/torch/utils/data/_utils/worker.py\", line 308, in _worker_loop\n    data = fetcher.fetch(index)\n  File \"/usr/local/lib/python3.10/dist-packages/torch/utils/data/_utils/fetch.py\", line 51, in fetch\n    data = [self.dataset[idx] for idx in possibly_batched_index]\n  File \"/usr/local/lib/python3.10/dist-packages/torch/utils/data/_utils/fetch.py\", line 51, in <listcomp>\n    data = [self.dataset[idx] for idx in possibly_batched_index]\n  File \"<ipython-input-9-e64b135b77d2>\", line 20, in __getitem__\n    image = cv2.cvtColor(image, cv2.COLOR_BGR2RGB)\ncv2.error: OpenCV(4.7.0) /io/opencv/modules/imgproc/src/color.cpp:182: error: (-215:Assertion failed) !_src.empty() in function 'cvtColor'\n\n"
          ]
        }
      ],
      "source": [
        "dataset_test = imagedataset(test,img_dir=img_dir,\n",
        "                           transform = transform_test, is_test=True)\n",
        "loader_test = DataLoader(dataset_test, batch_size=batch_size,\n",
        "                        shuffle=False, worker_init_fn=seed_worker,\n",
        "                        generator=g, num_workers=2)\n",
        "model.eval()\n",
        "preds = np.zeros((len(test),4))\n",
        "\n",
        "with torch.no_grad():\n",
        "    for i, images in enumerate(loader_test):\n",
        "        images = images.to(device)\n",
        "        outputs = model(images)\n",
        "        # 타깃 예측 확률\n",
        "        preds_part = torch.softmax(outputs.cpu(), dim=1).squeeze().numpy()\n",
        "        preds[i * batch_size:(i+1) * batch_size] += preds_part"
      ],
      "id": "97a8ce95"
    },
    {
      "cell_type": "code",
      "execution_count": null,
      "metadata": {
        "id": "9accd1e7"
      },
      "outputs": [],
      "source": [
        "# 결과제출\n",
        "submission[['healthy','multiple_diseases','rust','scab']] = preds\n",
        "submission.to_csv('submission.csv', index=False)"
      ],
      "id": "9accd1e7"
    },
    {
      "cell_type": "markdown",
      "metadata": {
        "id": "BQbe3WI39nlh"
      },
      "source": [
        "## 3. 성능개선 모델 모델링\n",
        "1. 에폭 늘리고, 스케줄러 추가\n",
        "2. TTA (테스트 예측단계 데이터 증강) 기법\n",
        "3. 레이블 스무딩 적용"
      ],
      "id": "BQbe3WI39nlh"
    },
    {
      "cell_type": "markdown",
      "metadata": {
        "id": "G5ulEP1wBqxB"
      },
      "source": [
        "### 3.1 에폭 늘리고 스케줄러 추가\n",
        "<b>스케줄러</b>는 훈련과정에서 학습률을 조정하는 역할을 함 <br>\n",
        "초반에 크게 주다가, 뒤에 적게 주면 Global Optimal을 찾는데 유리!!! <br>\n",
        "골프 칠 때 드라이브로 때리고,  짧은 아이언으로 나중에 치는 게 유리하듯~\n"
      ],
      "id": "G5ulEP1wBqxB"
    },
    {
      "cell_type": "code",
      "execution_count": null,
      "metadata": {
        "colab": {
          "base_uri": "https://localhost:8080/"
        },
        "id": "c1e8de9f-a6eb-4425-9fbd-129da71b85de",
        "outputId": "b5db91ea-4059-4f11-a56b-3f1524558a43"
      },
      "outputs": [
        {
          "output_type": "stream",
          "name": "stdout",
          "text": [
            "Looking in indexes: https://pypi.org/simple, https://us-python.pkg.dev/colab-wheels/public/simple/\n",
            "Collecting transformers\n",
            "  Downloading transformers-4.30.1-py3-none-any.whl (7.2 MB)\n",
            "\u001b[2K     \u001b[90m━━━━━━━━━━━━━━━━━━━━━━━━━━━━━━━━━━━━━━━━\u001b[0m \u001b[32m7.2/7.2 MB\u001b[0m \u001b[31m49.8 MB/s\u001b[0m eta \u001b[36m0:00:00\u001b[0m\n",
            "\u001b[?25hRequirement already satisfied: filelock in /usr/local/lib/python3.10/dist-packages (from transformers) (3.12.0)\n",
            "Collecting huggingface-hub<1.0,>=0.14.1 (from transformers)\n",
            "  Downloading huggingface_hub-0.15.1-py3-none-any.whl (236 kB)\n",
            "\u001b[2K     \u001b[90m━━━━━━━━━━━━━━━━━━━━━━━━━━━━━━━━━━━━━━\u001b[0m \u001b[32m236.8/236.8 kB\u001b[0m \u001b[31m29.4 MB/s\u001b[0m eta \u001b[36m0:00:00\u001b[0m\n",
            "\u001b[?25hRequirement already satisfied: numpy>=1.17 in /usr/local/lib/python3.10/dist-packages (from transformers) (1.22.4)\n",
            "Requirement already satisfied: packaging>=20.0 in /usr/local/lib/python3.10/dist-packages (from transformers) (23.1)\n",
            "Requirement already satisfied: pyyaml>=5.1 in /usr/local/lib/python3.10/dist-packages (from transformers) (6.0)\n",
            "Requirement already satisfied: regex!=2019.12.17 in /usr/local/lib/python3.10/dist-packages (from transformers) (2022.10.31)\n",
            "Requirement already satisfied: requests in /usr/local/lib/python3.10/dist-packages (from transformers) (2.27.1)\n",
            "Collecting tokenizers!=0.11.3,<0.14,>=0.11.1 (from transformers)\n",
            "  Downloading tokenizers-0.13.3-cp310-cp310-manylinux_2_17_x86_64.manylinux2014_x86_64.whl (7.8 MB)\n",
            "\u001b[2K     \u001b[90m━━━━━━━━━━━━━━━━━━━━━━━━━━━━━━━━━━━━━━━━\u001b[0m \u001b[32m7.8/7.8 MB\u001b[0m \u001b[31m83.5 MB/s\u001b[0m eta \u001b[36m0:00:00\u001b[0m\n",
            "\u001b[?25hCollecting safetensors>=0.3.1 (from transformers)\n",
            "  Downloading safetensors-0.3.1-cp310-cp310-manylinux_2_17_x86_64.manylinux2014_x86_64.whl (1.3 MB)\n",
            "\u001b[2K     \u001b[90m━━━━━━━━━━━━━━━━━━━━━━━━━━━━━━━━━━━━━━━━\u001b[0m \u001b[32m1.3/1.3 MB\u001b[0m \u001b[31m69.4 MB/s\u001b[0m eta \u001b[36m0:00:00\u001b[0m\n",
            "\u001b[?25hRequirement already satisfied: tqdm>=4.27 in /usr/local/lib/python3.10/dist-packages (from transformers) (4.65.0)\n",
            "Requirement already satisfied: fsspec in /usr/local/lib/python3.10/dist-packages (from huggingface-hub<1.0,>=0.14.1->transformers) (2023.4.0)\n",
            "Requirement already satisfied: typing-extensions>=3.7.4.3 in /usr/local/lib/python3.10/dist-packages (from huggingface-hub<1.0,>=0.14.1->transformers) (4.5.0)\n",
            "Requirement already satisfied: urllib3<1.27,>=1.21.1 in /usr/local/lib/python3.10/dist-packages (from requests->transformers) (1.26.15)\n",
            "Requirement already satisfied: certifi>=2017.4.17 in /usr/local/lib/python3.10/dist-packages (from requests->transformers) (2022.12.7)\n",
            "Requirement already satisfied: charset-normalizer~=2.0.0 in /usr/local/lib/python3.10/dist-packages (from requests->transformers) (2.0.12)\n",
            "Requirement already satisfied: idna<4,>=2.5 in /usr/local/lib/python3.10/dist-packages (from requests->transformers) (3.4)\n",
            "Installing collected packages: tokenizers, safetensors, huggingface-hub, transformers\n",
            "Successfully installed huggingface-hub-0.15.1 safetensors-0.3.1 tokenizers-0.13.3 transformers-4.30.1\n",
            "Loaded pretrained weights for efficientnet-b7\n"
          ]
        }
      ],
      "source": [
        "!pip install transformers\n",
        "from transformers import get_cosine_schedule_with_warmup\n",
        "from efficientnet_pytorch import EfficientNet\n",
        "import torch.nn as nn\n",
        "\n",
        "model = EfficientNet.from_pretrained('efficientnet-b7', num_classes=4) # 기본 출력피처는 1000개이나, 우리가 예측이 필요한 피쳐는 4개로, num_classes를 4로 지정\n",
        "model = model.to(device) # 모델을 디바이스로 보내고\n",
        "\n",
        "epochs = 10 # 총 에폭\n",
        "criterion = nn.CrossEntropyLoss()\n",
        "optimizer = torch.optim.AdamW(model.parameters(), lr = 0.00006, weight_decay = 0.0001)\n",
        "\n",
        "# 스케줄러 생성\n",
        "scheduler = get_cosine_schedule_with_warmup(optimizer, \n",
        "                                            num_warmup_steps=len(loader_train)*3, \n",
        "                                            num_training_steps=len(loader_train)*epochs)"
      ],
      "id": "c1e8de9f-a6eb-4425-9fbd-129da71b85de"
    },
    {
      "cell_type": "code",
      "execution_count": null,
      "metadata": {
        "colab": {
          "base_uri": "https://localhost:8080/",
          "height": 634,
          "referenced_widgets": [
            "d7b51ddd65ee41d099faa39fee000004",
            "d5d2ff4637c44f43b1400cc9ddcd455b",
            "958dc2031c594f1e9cea884564f8f504",
            "b411d98201de4a139c4ccb53a641e694",
            "d7bdf181db3840b99452732660a6ce9a",
            "45120aabc39a4aa780b9a8d71b58f690",
            "c41025214b5f425f838712d4ec5c6de7",
            "f3a28cc4913749ab87b3c9b2789ae8fb",
            "ee14b2b21ebe44b38cce0fd391dda7b1",
            "50fe95f761ee4c8bad1b115f77fc9979",
            "5b91cfbfc2bd409ca0358fe9b1b7aa6f"
          ]
        },
        "id": "NDMLTKRxFusv",
        "outputId": "7df5d1cf-6146-486b-96cf-223e347781cc"
      },
      "outputs": [
        {
          "output_type": "display_data",
          "data": {
            "text/plain": [
              "  0%|          | 0/410 [00:00<?, ?it/s]"
            ],
            "application/vnd.jupyter.widget-view+json": {
              "version_major": 2,
              "version_minor": 0,
              "model_id": "d7b51ddd65ee41d099faa39fee000004"
            }
          },
          "metadata": {}
        },
        {
          "output_type": "error",
          "ename": "error",
          "evalue": "ignored",
          "traceback": [
            "\u001b[0;31m---------------------------------------------------------------------------\u001b[0m",
            "\u001b[0;31merror\u001b[0m                                     Traceback (most recent call last)",
            "\u001b[0;32m<ipython-input-25-c018d125d77c>\u001b[0m in \u001b[0;36m<cell line: 5>\u001b[0;34m()\u001b[0m\n\u001b[1;32m      9\u001b[0m \u001b[0;34m\u001b[0m\u001b[0m\n\u001b[1;32m     10\u001b[0m     \u001b[0;31m# '반복 횟수'만큼 반복\u001b[0m\u001b[0;34m\u001b[0m\u001b[0;34m\u001b[0m\u001b[0m\n\u001b[0;32m---> 11\u001b[0;31m     \u001b[0;32mfor\u001b[0m \u001b[0mimages\u001b[0m\u001b[0;34m,\u001b[0m \u001b[0mlabels\u001b[0m \u001b[0;32min\u001b[0m \u001b[0mtqdm\u001b[0m\u001b[0;34m(\u001b[0m\u001b[0mloader_train\u001b[0m\u001b[0;34m)\u001b[0m\u001b[0;34m:\u001b[0m\u001b[0;34m\u001b[0m\u001b[0;34m\u001b[0m\u001b[0m\n\u001b[0m\u001b[1;32m     12\u001b[0m         \u001b[0;31m# 이미지, 레이블(타깃값) 데이터 미니배치를 장비에 할당\u001b[0m\u001b[0;34m\u001b[0m\u001b[0;34m\u001b[0m\u001b[0m\n\u001b[1;32m     13\u001b[0m         \u001b[0mimages\u001b[0m \u001b[0;34m=\u001b[0m \u001b[0mimages\u001b[0m\u001b[0;34m.\u001b[0m\u001b[0mto\u001b[0m\u001b[0;34m(\u001b[0m\u001b[0mdevice\u001b[0m\u001b[0;34m)\u001b[0m\u001b[0;34m\u001b[0m\u001b[0;34m\u001b[0m\u001b[0m\n",
            "\u001b[0;32m/usr/local/lib/python3.10/dist-packages/tqdm/notebook.py\u001b[0m in \u001b[0;36m__iter__\u001b[0;34m(self)\u001b[0m\n\u001b[1;32m    252\u001b[0m         \u001b[0;32mtry\u001b[0m\u001b[0;34m:\u001b[0m\u001b[0;34m\u001b[0m\u001b[0;34m\u001b[0m\u001b[0m\n\u001b[1;32m    253\u001b[0m             \u001b[0mit\u001b[0m \u001b[0;34m=\u001b[0m \u001b[0msuper\u001b[0m\u001b[0;34m(\u001b[0m\u001b[0mtqdm_notebook\u001b[0m\u001b[0;34m,\u001b[0m \u001b[0mself\u001b[0m\u001b[0;34m)\u001b[0m\u001b[0;34m.\u001b[0m\u001b[0m__iter__\u001b[0m\u001b[0;34m(\u001b[0m\u001b[0;34m)\u001b[0m\u001b[0;34m\u001b[0m\u001b[0;34m\u001b[0m\u001b[0m\n\u001b[0;32m--> 254\u001b[0;31m             \u001b[0;32mfor\u001b[0m \u001b[0mobj\u001b[0m \u001b[0;32min\u001b[0m \u001b[0mit\u001b[0m\u001b[0;34m:\u001b[0m\u001b[0;34m\u001b[0m\u001b[0;34m\u001b[0m\u001b[0m\n\u001b[0m\u001b[1;32m    255\u001b[0m                 \u001b[0;31m# return super(tqdm...) will not catch exception\u001b[0m\u001b[0;34m\u001b[0m\u001b[0;34m\u001b[0m\u001b[0m\n\u001b[1;32m    256\u001b[0m                 \u001b[0;32myield\u001b[0m \u001b[0mobj\u001b[0m\u001b[0;34m\u001b[0m\u001b[0;34m\u001b[0m\u001b[0m\n",
            "\u001b[0;32m/usr/local/lib/python3.10/dist-packages/tqdm/std.py\u001b[0m in \u001b[0;36m__iter__\u001b[0;34m(self)\u001b[0m\n\u001b[1;32m   1176\u001b[0m \u001b[0;34m\u001b[0m\u001b[0m\n\u001b[1;32m   1177\u001b[0m         \u001b[0;32mtry\u001b[0m\u001b[0;34m:\u001b[0m\u001b[0;34m\u001b[0m\u001b[0;34m\u001b[0m\u001b[0m\n\u001b[0;32m-> 1178\u001b[0;31m             \u001b[0;32mfor\u001b[0m \u001b[0mobj\u001b[0m \u001b[0;32min\u001b[0m \u001b[0miterable\u001b[0m\u001b[0;34m:\u001b[0m\u001b[0;34m\u001b[0m\u001b[0;34m\u001b[0m\u001b[0m\n\u001b[0m\u001b[1;32m   1179\u001b[0m                 \u001b[0;32myield\u001b[0m \u001b[0mobj\u001b[0m\u001b[0;34m\u001b[0m\u001b[0;34m\u001b[0m\u001b[0m\n\u001b[1;32m   1180\u001b[0m                 \u001b[0;31m# Update and possibly print the progressbar.\u001b[0m\u001b[0;34m\u001b[0m\u001b[0;34m\u001b[0m\u001b[0m\n",
            "\u001b[0;32m/usr/local/lib/python3.10/dist-packages/torch/utils/data/dataloader.py\u001b[0m in \u001b[0;36m__next__\u001b[0;34m(self)\u001b[0m\n\u001b[1;32m    631\u001b[0m                 \u001b[0;31m# TODO(https://github.com/pytorch/pytorch/issues/76750)\u001b[0m\u001b[0;34m\u001b[0m\u001b[0;34m\u001b[0m\u001b[0m\n\u001b[1;32m    632\u001b[0m                 \u001b[0mself\u001b[0m\u001b[0;34m.\u001b[0m\u001b[0m_reset\u001b[0m\u001b[0;34m(\u001b[0m\u001b[0;34m)\u001b[0m  \u001b[0;31m# type: ignore[call-arg]\u001b[0m\u001b[0;34m\u001b[0m\u001b[0;34m\u001b[0m\u001b[0m\n\u001b[0;32m--> 633\u001b[0;31m             \u001b[0mdata\u001b[0m \u001b[0;34m=\u001b[0m \u001b[0mself\u001b[0m\u001b[0;34m.\u001b[0m\u001b[0m_next_data\u001b[0m\u001b[0;34m(\u001b[0m\u001b[0;34m)\u001b[0m\u001b[0;34m\u001b[0m\u001b[0;34m\u001b[0m\u001b[0m\n\u001b[0m\u001b[1;32m    634\u001b[0m             \u001b[0mself\u001b[0m\u001b[0;34m.\u001b[0m\u001b[0m_num_yielded\u001b[0m \u001b[0;34m+=\u001b[0m \u001b[0;36m1\u001b[0m\u001b[0;34m\u001b[0m\u001b[0;34m\u001b[0m\u001b[0m\n\u001b[1;32m    635\u001b[0m             \u001b[0;32mif\u001b[0m \u001b[0mself\u001b[0m\u001b[0;34m.\u001b[0m\u001b[0m_dataset_kind\u001b[0m \u001b[0;34m==\u001b[0m \u001b[0m_DatasetKind\u001b[0m\u001b[0;34m.\u001b[0m\u001b[0mIterable\u001b[0m \u001b[0;32mand\u001b[0m\u001b[0;31m \u001b[0m\u001b[0;31m\\\u001b[0m\u001b[0;34m\u001b[0m\u001b[0;34m\u001b[0m\u001b[0m\n",
            "\u001b[0;32m/usr/local/lib/python3.10/dist-packages/torch/utils/data/dataloader.py\u001b[0m in \u001b[0;36m_next_data\u001b[0;34m(self)\u001b[0m\n\u001b[1;32m   1343\u001b[0m             \u001b[0;32melse\u001b[0m\u001b[0;34m:\u001b[0m\u001b[0;34m\u001b[0m\u001b[0;34m\u001b[0m\u001b[0m\n\u001b[1;32m   1344\u001b[0m                 \u001b[0;32mdel\u001b[0m \u001b[0mself\u001b[0m\u001b[0;34m.\u001b[0m\u001b[0m_task_info\u001b[0m\u001b[0;34m[\u001b[0m\u001b[0midx\u001b[0m\u001b[0;34m]\u001b[0m\u001b[0;34m\u001b[0m\u001b[0;34m\u001b[0m\u001b[0m\n\u001b[0;32m-> 1345\u001b[0;31m                 \u001b[0;32mreturn\u001b[0m \u001b[0mself\u001b[0m\u001b[0;34m.\u001b[0m\u001b[0m_process_data\u001b[0m\u001b[0;34m(\u001b[0m\u001b[0mdata\u001b[0m\u001b[0;34m)\u001b[0m\u001b[0;34m\u001b[0m\u001b[0;34m\u001b[0m\u001b[0m\n\u001b[0m\u001b[1;32m   1346\u001b[0m \u001b[0;34m\u001b[0m\u001b[0m\n\u001b[1;32m   1347\u001b[0m     \u001b[0;32mdef\u001b[0m \u001b[0m_try_put_index\u001b[0m\u001b[0;34m(\u001b[0m\u001b[0mself\u001b[0m\u001b[0;34m)\u001b[0m\u001b[0;34m:\u001b[0m\u001b[0;34m\u001b[0m\u001b[0;34m\u001b[0m\u001b[0m\n",
            "\u001b[0;32m/usr/local/lib/python3.10/dist-packages/torch/utils/data/dataloader.py\u001b[0m in \u001b[0;36m_process_data\u001b[0;34m(self, data)\u001b[0m\n\u001b[1;32m   1369\u001b[0m         \u001b[0mself\u001b[0m\u001b[0;34m.\u001b[0m\u001b[0m_try_put_index\u001b[0m\u001b[0;34m(\u001b[0m\u001b[0;34m)\u001b[0m\u001b[0;34m\u001b[0m\u001b[0;34m\u001b[0m\u001b[0m\n\u001b[1;32m   1370\u001b[0m         \u001b[0;32mif\u001b[0m \u001b[0misinstance\u001b[0m\u001b[0;34m(\u001b[0m\u001b[0mdata\u001b[0m\u001b[0;34m,\u001b[0m \u001b[0mExceptionWrapper\u001b[0m\u001b[0;34m)\u001b[0m\u001b[0;34m:\u001b[0m\u001b[0;34m\u001b[0m\u001b[0;34m\u001b[0m\u001b[0m\n\u001b[0;32m-> 1371\u001b[0;31m             \u001b[0mdata\u001b[0m\u001b[0;34m.\u001b[0m\u001b[0mreraise\u001b[0m\u001b[0;34m(\u001b[0m\u001b[0;34m)\u001b[0m\u001b[0;34m\u001b[0m\u001b[0;34m\u001b[0m\u001b[0m\n\u001b[0m\u001b[1;32m   1372\u001b[0m         \u001b[0;32mreturn\u001b[0m \u001b[0mdata\u001b[0m\u001b[0;34m\u001b[0m\u001b[0;34m\u001b[0m\u001b[0m\n\u001b[1;32m   1373\u001b[0m \u001b[0;34m\u001b[0m\u001b[0m\n",
            "\u001b[0;32m/usr/local/lib/python3.10/dist-packages/torch/_utils.py\u001b[0m in \u001b[0;36mreraise\u001b[0;34m(self)\u001b[0m\n\u001b[1;32m    642\u001b[0m             \u001b[0;31m# instantiate since we don't know how to\u001b[0m\u001b[0;34m\u001b[0m\u001b[0;34m\u001b[0m\u001b[0m\n\u001b[1;32m    643\u001b[0m             \u001b[0;32mraise\u001b[0m \u001b[0mRuntimeError\u001b[0m\u001b[0;34m(\u001b[0m\u001b[0mmsg\u001b[0m\u001b[0;34m)\u001b[0m \u001b[0;32mfrom\u001b[0m \u001b[0;32mNone\u001b[0m\u001b[0;34m\u001b[0m\u001b[0;34m\u001b[0m\u001b[0m\n\u001b[0;32m--> 644\u001b[0;31m         \u001b[0;32mraise\u001b[0m \u001b[0mexception\u001b[0m\u001b[0;34m\u001b[0m\u001b[0;34m\u001b[0m\u001b[0m\n\u001b[0m\u001b[1;32m    645\u001b[0m \u001b[0;34m\u001b[0m\u001b[0m\n\u001b[1;32m    646\u001b[0m \u001b[0;34m\u001b[0m\u001b[0m\n",
            "\u001b[0;31merror\u001b[0m: Caught error in DataLoader worker process 0.\nOriginal Traceback (most recent call last):\n  File \"/usr/local/lib/python3.10/dist-packages/torch/utils/data/_utils/worker.py\", line 308, in _worker_loop\n    data = fetcher.fetch(index)\n  File \"/usr/local/lib/python3.10/dist-packages/torch/utils/data/_utils/fetch.py\", line 51, in fetch\n    data = [self.dataset[idx] for idx in possibly_batched_index]\n  File \"/usr/local/lib/python3.10/dist-packages/torch/utils/data/_utils/fetch.py\", line 51, in <listcomp>\n    data = [self.dataset[idx] for idx in possibly_batched_index]\n  File \"<ipython-input-9-e64b135b77d2>\", line 20, in __getitem__\n    image = cv2.cvtColor(image, cv2.COLOR_BGR2RGB)\ncv2.error: OpenCV(4.7.0) /io/opencv/modules/imgproc/src/color.cpp:182: error: (-215:Assertion failed) !_src.empty() in function 'cvtColor'\n\n"
          ]
        }
      ],
      "source": [
        "from sklearn.metrics import roc_auc_score # ROC AUC 점수 계산 함수\n",
        "from tqdm.notebook import tqdm # 진행률 표시 막대\n",
        "\n",
        "# 총 에폭만큼 반복\n",
        "for epoch in range(epochs):\n",
        "    # == [ 훈련 ] ==============================================\n",
        "    model.train()        # 모델을 훈련 상태로 설정\n",
        "    epoch_train_loss = 0 # 에폭별 손실값 초기화 (훈련 데이터용)\n",
        "    \n",
        "    # '반복 횟수'만큼 반복 \n",
        "    for images, labels in tqdm(loader_train):\n",
        "        # 이미지, 레이블(타깃값) 데이터 미니배치를 장비에 할당 \n",
        "        images = images.to(device)\n",
        "        labels = labels.to(device)\n",
        "        \n",
        "        # 옵티마이저 내 기울기 초기화\n",
        "        optimizer.zero_grad()\n",
        "        # 순전파 : 이미지 데이터를 신경망 모델의 입력값으로 사용해 출력값 계산\n",
        "        outputs = model(images)\n",
        "        # 손실 함수를 활용해 outputs와 labels의 손실값 계산\n",
        "        loss = criterion(outputs, labels)\n",
        "        # 현재 배치에서의 손실 추가 (훈련 데이터용)\n",
        "        epoch_train_loss += loss.item() \n",
        "        loss.backward()  # 역전파 수행\n",
        "        optimizer.step() # 가중치 갱신\n",
        "        scheduler.step() # 스케줄러 학습률 갱신\n",
        "        \n",
        "    # 훈련 데이터 손실값 출력\n",
        "    print(f'에폭 [{epoch+1}/{epochs}] - 훈련 데이터 손실값 : {epoch_train_loss/len(loader_train):.4f}')\n",
        "    \n",
        "    # == [ 검증 ] ==============================================\n",
        "    model.eval()          # 모델을 평가 상태로 설정 \n",
        "    epoch_valid_loss = 0  # 에폭별 손실값 초기화 (검증 데이터용)\n",
        "    preds_list = []       # 예측 확률값 저장용 리스트 초기화\n",
        "    true_onehot_list = [] # 실제 타깃값 저장용 리스트 초기화\n",
        "    \n",
        "    with torch.no_grad(): # 기울기 계산 비활성화\n",
        "        # 미니배치 단위로 검증\n",
        "        for images, labels in loader_valid:\n",
        "            images = images.to(device)\n",
        "            labels = labels.to(device)\n",
        "            \n",
        "            outputs = model(images)\n",
        "            loss = criterion(outputs, labels)\n",
        "            epoch_valid_loss += loss.item()\n",
        "            \n",
        "            preds = torch.softmax(outputs.cpu(), dim=1).numpy() # 예측 확률값\n",
        "            # 실제값 (원-핫 인코딩 형식)\n",
        "            true_onehot = torch.eye(4)[labels.cpu()].numpy() \n",
        "            # 예측 확률값과 실제값 저장\n",
        "            preds_list.extend(preds)\n",
        "            true_onehot_list.extend(true_onehot)\n",
        "    # 검증 데이터 손실값 및 ROC AUC 점수 출력 \n",
        "    print(f'에폭 [{epoch+1}/{epochs}] - 검증 데이터 손실값 : {epoch_valid_loss/len(loader_valid):.4f} / 검증 데이터 ROC AUC : {roc_auc_score(true_onehot_list, preds_list):.4f}')  "
      ],
      "id": "NDMLTKRxFusv"
    },
    {
      "cell_type": "markdown",
      "metadata": {
        "id": "H-y8MfntN_-h"
      },
      "source": [
        "### 3.2 TTA (테스트 예측단계 데이터 증강) 기법\n",
        "> 훈련데이터가 많으면 성능이 좋아지듯, 테스트 단계에서도 예측성능향상 가능 <br>\n",
        "> Test Time Augmentation : 테스트 데이터를 변형한 뒤 예측하여 테스트 데이터가 늘어나는 효과<br>\n",
        "\n",
        "> 테스트 데이터에 여러 변환 적용 ~ 변환된 테스트 데이터 별로 타겟 확율값 예측 ~\n",
        " 타깃 예측 확률의 평균 산출"
      ],
      "id": "H-y8MfntN_-h"
    },
    {
      "cell_type": "code",
      "execution_count": null,
      "metadata": {
        "id": "ykBhzv90MGCd"
      },
      "outputs": [],
      "source": [
        "# 테스트 데이터 원본 데이터셋 및 데이터 로더\n",
        "dataset_test = imagedataset(test, img_dir=img_dir, \n",
        "                            transform=transform_test, is_test=True) # 원본데이터는 트랜스폼을 테스트로 보내고\n",
        "loader_test = DataLoader(dataset_test, batch_size=batch_size, \n",
        "                         shuffle=False, worker_init_fn=seed_worker,\n",
        "                         generator=g, num_workers=2)\n",
        "\n",
        "# TTA용 데이터셋 및 데이터 로더\n",
        "dataset_TTA = imagedataset(test, img_dir=img_dir, \n",
        "                           transform=transform_train, is_test=True) # TTA데이터는 트랜스폼을 학습용으로 보냄 (변환 적용) \n",
        "loader_TTA = DataLoader(dataset_TTA, batch_size=batch_size, \n",
        "                        shuffle=False, worker_init_fn=seed_worker,\n",
        "                        generator=g, num_workers=2)"
      ],
      "id": "ykBhzv90MGCd"
    },
    {
      "cell_type": "code",
      "execution_count": null,
      "metadata": {
        "colab": {
          "base_uri": "https://localhost:8080/",
          "height": 602
        },
        "id": "vqaBpDVMMn0G",
        "outputId": "932f0e12-6cfe-444d-b6d7-ff0b5b56abc0"
      },
      "outputs": [
        {
          "output_type": "error",
          "ename": "error",
          "evalue": "ignored",
          "traceback": [
            "\u001b[0;31m---------------------------------------------------------------------------\u001b[0m",
            "\u001b[0;31merror\u001b[0m                                     Traceback (most recent call last)",
            "\u001b[0;32m<ipython-input-27-0a0fda5bdf3c>\u001b[0m in \u001b[0;36m<cell line: 5>\u001b[0;34m()\u001b[0m\n\u001b[1;32m      4\u001b[0m \u001b[0;34m\u001b[0m\u001b[0m\n\u001b[1;32m      5\u001b[0m \u001b[0;32mwith\u001b[0m \u001b[0mtorch\u001b[0m\u001b[0;34m.\u001b[0m\u001b[0mno_grad\u001b[0m\u001b[0;34m(\u001b[0m\u001b[0;34m)\u001b[0m\u001b[0;34m:\u001b[0m\u001b[0;34m\u001b[0m\u001b[0;34m\u001b[0m\u001b[0m\n\u001b[0;32m----> 6\u001b[0;31m     \u001b[0;32mfor\u001b[0m \u001b[0mi\u001b[0m\u001b[0;34m,\u001b[0m \u001b[0mimages\u001b[0m \u001b[0;32min\u001b[0m \u001b[0menumerate\u001b[0m\u001b[0;34m(\u001b[0m\u001b[0mloader_test\u001b[0m\u001b[0;34m)\u001b[0m\u001b[0;34m:\u001b[0m\u001b[0;34m\u001b[0m\u001b[0;34m\u001b[0m\u001b[0m\n\u001b[0m\u001b[1;32m      7\u001b[0m         \u001b[0mimages\u001b[0m \u001b[0;34m=\u001b[0m \u001b[0mimages\u001b[0m\u001b[0;34m.\u001b[0m\u001b[0mto\u001b[0m\u001b[0;34m(\u001b[0m\u001b[0mdevice\u001b[0m\u001b[0;34m)\u001b[0m\u001b[0;34m\u001b[0m\u001b[0;34m\u001b[0m\u001b[0m\n\u001b[1;32m      8\u001b[0m         \u001b[0moutputs\u001b[0m \u001b[0;34m=\u001b[0m \u001b[0mmodel\u001b[0m\u001b[0;34m(\u001b[0m\u001b[0mimages\u001b[0m\u001b[0;34m)\u001b[0m\u001b[0;34m\u001b[0m\u001b[0;34m\u001b[0m\u001b[0m\n",
            "\u001b[0;32m/usr/local/lib/python3.10/dist-packages/torch/utils/data/dataloader.py\u001b[0m in \u001b[0;36m__next__\u001b[0;34m(self)\u001b[0m\n\u001b[1;32m    631\u001b[0m                 \u001b[0;31m# TODO(https://github.com/pytorch/pytorch/issues/76750)\u001b[0m\u001b[0;34m\u001b[0m\u001b[0;34m\u001b[0m\u001b[0m\n\u001b[1;32m    632\u001b[0m                 \u001b[0mself\u001b[0m\u001b[0;34m.\u001b[0m\u001b[0m_reset\u001b[0m\u001b[0;34m(\u001b[0m\u001b[0;34m)\u001b[0m  \u001b[0;31m# type: ignore[call-arg]\u001b[0m\u001b[0;34m\u001b[0m\u001b[0;34m\u001b[0m\u001b[0m\n\u001b[0;32m--> 633\u001b[0;31m             \u001b[0mdata\u001b[0m \u001b[0;34m=\u001b[0m \u001b[0mself\u001b[0m\u001b[0;34m.\u001b[0m\u001b[0m_next_data\u001b[0m\u001b[0;34m(\u001b[0m\u001b[0;34m)\u001b[0m\u001b[0;34m\u001b[0m\u001b[0;34m\u001b[0m\u001b[0m\n\u001b[0m\u001b[1;32m    634\u001b[0m             \u001b[0mself\u001b[0m\u001b[0;34m.\u001b[0m\u001b[0m_num_yielded\u001b[0m \u001b[0;34m+=\u001b[0m \u001b[0;36m1\u001b[0m\u001b[0;34m\u001b[0m\u001b[0;34m\u001b[0m\u001b[0m\n\u001b[1;32m    635\u001b[0m             \u001b[0;32mif\u001b[0m \u001b[0mself\u001b[0m\u001b[0;34m.\u001b[0m\u001b[0m_dataset_kind\u001b[0m \u001b[0;34m==\u001b[0m \u001b[0m_DatasetKind\u001b[0m\u001b[0;34m.\u001b[0m\u001b[0mIterable\u001b[0m \u001b[0;32mand\u001b[0m\u001b[0;31m \u001b[0m\u001b[0;31m\\\u001b[0m\u001b[0;34m\u001b[0m\u001b[0;34m\u001b[0m\u001b[0m\n",
            "\u001b[0;32m/usr/local/lib/python3.10/dist-packages/torch/utils/data/dataloader.py\u001b[0m in \u001b[0;36m_next_data\u001b[0;34m(self)\u001b[0m\n\u001b[1;32m   1343\u001b[0m             \u001b[0;32melse\u001b[0m\u001b[0;34m:\u001b[0m\u001b[0;34m\u001b[0m\u001b[0;34m\u001b[0m\u001b[0m\n\u001b[1;32m   1344\u001b[0m                 \u001b[0;32mdel\u001b[0m \u001b[0mself\u001b[0m\u001b[0;34m.\u001b[0m\u001b[0m_task_info\u001b[0m\u001b[0;34m[\u001b[0m\u001b[0midx\u001b[0m\u001b[0;34m]\u001b[0m\u001b[0;34m\u001b[0m\u001b[0;34m\u001b[0m\u001b[0m\n\u001b[0;32m-> 1345\u001b[0;31m                 \u001b[0;32mreturn\u001b[0m \u001b[0mself\u001b[0m\u001b[0;34m.\u001b[0m\u001b[0m_process_data\u001b[0m\u001b[0;34m(\u001b[0m\u001b[0mdata\u001b[0m\u001b[0;34m)\u001b[0m\u001b[0;34m\u001b[0m\u001b[0;34m\u001b[0m\u001b[0m\n\u001b[0m\u001b[1;32m   1346\u001b[0m \u001b[0;34m\u001b[0m\u001b[0m\n\u001b[1;32m   1347\u001b[0m     \u001b[0;32mdef\u001b[0m \u001b[0m_try_put_index\u001b[0m\u001b[0;34m(\u001b[0m\u001b[0mself\u001b[0m\u001b[0;34m)\u001b[0m\u001b[0;34m:\u001b[0m\u001b[0;34m\u001b[0m\u001b[0;34m\u001b[0m\u001b[0m\n",
            "\u001b[0;32m/usr/local/lib/python3.10/dist-packages/torch/utils/data/dataloader.py\u001b[0m in \u001b[0;36m_process_data\u001b[0;34m(self, data)\u001b[0m\n\u001b[1;32m   1369\u001b[0m         \u001b[0mself\u001b[0m\u001b[0;34m.\u001b[0m\u001b[0m_try_put_index\u001b[0m\u001b[0;34m(\u001b[0m\u001b[0;34m)\u001b[0m\u001b[0;34m\u001b[0m\u001b[0;34m\u001b[0m\u001b[0m\n\u001b[1;32m   1370\u001b[0m         \u001b[0;32mif\u001b[0m \u001b[0misinstance\u001b[0m\u001b[0;34m(\u001b[0m\u001b[0mdata\u001b[0m\u001b[0;34m,\u001b[0m \u001b[0mExceptionWrapper\u001b[0m\u001b[0;34m)\u001b[0m\u001b[0;34m:\u001b[0m\u001b[0;34m\u001b[0m\u001b[0;34m\u001b[0m\u001b[0m\n\u001b[0;32m-> 1371\u001b[0;31m             \u001b[0mdata\u001b[0m\u001b[0;34m.\u001b[0m\u001b[0mreraise\u001b[0m\u001b[0;34m(\u001b[0m\u001b[0;34m)\u001b[0m\u001b[0;34m\u001b[0m\u001b[0;34m\u001b[0m\u001b[0m\n\u001b[0m\u001b[1;32m   1372\u001b[0m         \u001b[0;32mreturn\u001b[0m \u001b[0mdata\u001b[0m\u001b[0;34m\u001b[0m\u001b[0;34m\u001b[0m\u001b[0m\n\u001b[1;32m   1373\u001b[0m \u001b[0;34m\u001b[0m\u001b[0m\n",
            "\u001b[0;32m/usr/local/lib/python3.10/dist-packages/torch/_utils.py\u001b[0m in \u001b[0;36mreraise\u001b[0;34m(self)\u001b[0m\n\u001b[1;32m    642\u001b[0m             \u001b[0;31m# instantiate since we don't know how to\u001b[0m\u001b[0;34m\u001b[0m\u001b[0;34m\u001b[0m\u001b[0m\n\u001b[1;32m    643\u001b[0m             \u001b[0;32mraise\u001b[0m \u001b[0mRuntimeError\u001b[0m\u001b[0;34m(\u001b[0m\u001b[0mmsg\u001b[0m\u001b[0;34m)\u001b[0m \u001b[0;32mfrom\u001b[0m \u001b[0;32mNone\u001b[0m\u001b[0;34m\u001b[0m\u001b[0;34m\u001b[0m\u001b[0m\n\u001b[0;32m--> 644\u001b[0;31m         \u001b[0;32mraise\u001b[0m \u001b[0mexception\u001b[0m\u001b[0;34m\u001b[0m\u001b[0;34m\u001b[0m\u001b[0m\n\u001b[0m\u001b[1;32m    645\u001b[0m \u001b[0;34m\u001b[0m\u001b[0m\n\u001b[1;32m    646\u001b[0m \u001b[0;34m\u001b[0m\u001b[0m\n",
            "\u001b[0;31merror\u001b[0m: Caught error in DataLoader worker process 0.\nOriginal Traceback (most recent call last):\n  File \"/usr/local/lib/python3.10/dist-packages/torch/utils/data/_utils/worker.py\", line 308, in _worker_loop\n    data = fetcher.fetch(index)\n  File \"/usr/local/lib/python3.10/dist-packages/torch/utils/data/_utils/fetch.py\", line 51, in fetch\n    data = [self.dataset[idx] for idx in possibly_batched_index]\n  File \"/usr/local/lib/python3.10/dist-packages/torch/utils/data/_utils/fetch.py\", line 51, in <listcomp>\n    data = [self.dataset[idx] for idx in possibly_batched_index]\n  File \"<ipython-input-9-e64b135b77d2>\", line 20, in __getitem__\n    image = cv2.cvtColor(image, cv2.COLOR_BGR2RGB)\ncv2.error: OpenCV(4.7.0) /io/opencv/modules/imgproc/src/color.cpp:182: error: (-215:Assertion failed) !_src.empty() in function 'cvtColor'\n\n"
          ]
        }
      ],
      "source": [
        "model.eval() # 모델을 평가 상태로 설정 \n",
        "\n",
        "preds_test = np.zeros((len(test), 4)) # 예측 값 저장용 배열 초기화\n",
        "\n",
        "with torch.no_grad():\n",
        "    for i, images in enumerate(loader_test):\n",
        "        images = images.to(device)\n",
        "        outputs = model(images)\n",
        "        # 타깃 예측 확률\n",
        "        preds_part = torch.softmax(outputs.cpu(), dim=1).squeeze().numpy()\n",
        "        preds_test[i*batch_size:(i+1)*batch_size] += preds_part"
      ],
      "id": "vqaBpDVMMn0G"
    },
    {
      "cell_type": "code",
      "execution_count": null,
      "metadata": {
        "id": "zMelrB3cMnp8"
      },
      "outputs": [],
      "source": [
        "submission_test = submission.copy() # 제출 샘플 파일 복사\n",
        "\n",
        "submission_test[['healthy', 'multiple_diseases', 'rust', 'scab']] = preds_test"
      ],
      "id": "zMelrB3cMnp8"
    },
    {
      "cell_type": "code",
      "execution_count": null,
      "metadata": {
        "id": "daokeF8QMngS",
        "colab": {
          "base_uri": "https://localhost:8080/",
          "height": 602
        },
        "outputId": "6f5353b0-7826-4908-f780-001f2cacc59a"
      },
      "outputs": [
        {
          "output_type": "error",
          "ename": "error",
          "evalue": "ignored",
          "traceback": [
            "\u001b[0;31m---------------------------------------------------------------------------\u001b[0m",
            "\u001b[0;31merror\u001b[0m                                     Traceback (most recent call last)",
            "\u001b[0;32m<ipython-input-29-110b5af50dc8>\u001b[0m in \u001b[0;36m<cell line: 6>\u001b[0;34m()\u001b[0m\n\u001b[1;32m      6\u001b[0m \u001b[0;32mfor\u001b[0m \u001b[0mi\u001b[0m \u001b[0;32min\u001b[0m \u001b[0mrange\u001b[0m\u001b[0;34m(\u001b[0m\u001b[0mnum_TTA\u001b[0m\u001b[0;34m)\u001b[0m\u001b[0;34m:\u001b[0m\u001b[0;34m\u001b[0m\u001b[0;34m\u001b[0m\u001b[0m\n\u001b[1;32m      7\u001b[0m     \u001b[0;32mwith\u001b[0m \u001b[0mtorch\u001b[0m\u001b[0;34m.\u001b[0m\u001b[0mno_grad\u001b[0m\u001b[0;34m(\u001b[0m\u001b[0;34m)\u001b[0m\u001b[0;34m:\u001b[0m\u001b[0;34m\u001b[0m\u001b[0;34m\u001b[0m\u001b[0m\n\u001b[0;32m----> 8\u001b[0;31m         \u001b[0;32mfor\u001b[0m \u001b[0mi\u001b[0m\u001b[0;34m,\u001b[0m \u001b[0mimages\u001b[0m \u001b[0;32min\u001b[0m \u001b[0menumerate\u001b[0m\u001b[0;34m(\u001b[0m\u001b[0mloader_TTA\u001b[0m\u001b[0;34m)\u001b[0m\u001b[0;34m:\u001b[0m\u001b[0;34m\u001b[0m\u001b[0;34m\u001b[0m\u001b[0m\n\u001b[0m\u001b[1;32m      9\u001b[0m             \u001b[0mimages\u001b[0m \u001b[0;34m=\u001b[0m \u001b[0mimages\u001b[0m\u001b[0;34m.\u001b[0m\u001b[0mto\u001b[0m\u001b[0;34m(\u001b[0m\u001b[0mdevice\u001b[0m\u001b[0;34m)\u001b[0m\u001b[0;34m\u001b[0m\u001b[0;34m\u001b[0m\u001b[0m\n\u001b[1;32m     10\u001b[0m             \u001b[0moutputs\u001b[0m \u001b[0;34m=\u001b[0m \u001b[0mmodel\u001b[0m\u001b[0;34m(\u001b[0m\u001b[0mimages\u001b[0m\u001b[0;34m)\u001b[0m\u001b[0;34m\u001b[0m\u001b[0;34m\u001b[0m\u001b[0m\n",
            "\u001b[0;32m/usr/local/lib/python3.10/dist-packages/torch/utils/data/dataloader.py\u001b[0m in \u001b[0;36m__next__\u001b[0;34m(self)\u001b[0m\n\u001b[1;32m    631\u001b[0m                 \u001b[0;31m# TODO(https://github.com/pytorch/pytorch/issues/76750)\u001b[0m\u001b[0;34m\u001b[0m\u001b[0;34m\u001b[0m\u001b[0m\n\u001b[1;32m    632\u001b[0m                 \u001b[0mself\u001b[0m\u001b[0;34m.\u001b[0m\u001b[0m_reset\u001b[0m\u001b[0;34m(\u001b[0m\u001b[0;34m)\u001b[0m  \u001b[0;31m# type: ignore[call-arg]\u001b[0m\u001b[0;34m\u001b[0m\u001b[0;34m\u001b[0m\u001b[0m\n\u001b[0;32m--> 633\u001b[0;31m             \u001b[0mdata\u001b[0m \u001b[0;34m=\u001b[0m \u001b[0mself\u001b[0m\u001b[0;34m.\u001b[0m\u001b[0m_next_data\u001b[0m\u001b[0;34m(\u001b[0m\u001b[0;34m)\u001b[0m\u001b[0;34m\u001b[0m\u001b[0;34m\u001b[0m\u001b[0m\n\u001b[0m\u001b[1;32m    634\u001b[0m             \u001b[0mself\u001b[0m\u001b[0;34m.\u001b[0m\u001b[0m_num_yielded\u001b[0m \u001b[0;34m+=\u001b[0m \u001b[0;36m1\u001b[0m\u001b[0;34m\u001b[0m\u001b[0;34m\u001b[0m\u001b[0m\n\u001b[1;32m    635\u001b[0m             \u001b[0;32mif\u001b[0m \u001b[0mself\u001b[0m\u001b[0;34m.\u001b[0m\u001b[0m_dataset_kind\u001b[0m \u001b[0;34m==\u001b[0m \u001b[0m_DatasetKind\u001b[0m\u001b[0;34m.\u001b[0m\u001b[0mIterable\u001b[0m \u001b[0;32mand\u001b[0m\u001b[0;31m \u001b[0m\u001b[0;31m\\\u001b[0m\u001b[0;34m\u001b[0m\u001b[0;34m\u001b[0m\u001b[0m\n",
            "\u001b[0;32m/usr/local/lib/python3.10/dist-packages/torch/utils/data/dataloader.py\u001b[0m in \u001b[0;36m_next_data\u001b[0;34m(self)\u001b[0m\n\u001b[1;32m   1343\u001b[0m             \u001b[0;32melse\u001b[0m\u001b[0;34m:\u001b[0m\u001b[0;34m\u001b[0m\u001b[0;34m\u001b[0m\u001b[0m\n\u001b[1;32m   1344\u001b[0m                 \u001b[0;32mdel\u001b[0m \u001b[0mself\u001b[0m\u001b[0;34m.\u001b[0m\u001b[0m_task_info\u001b[0m\u001b[0;34m[\u001b[0m\u001b[0midx\u001b[0m\u001b[0;34m]\u001b[0m\u001b[0;34m\u001b[0m\u001b[0;34m\u001b[0m\u001b[0m\n\u001b[0;32m-> 1345\u001b[0;31m                 \u001b[0;32mreturn\u001b[0m \u001b[0mself\u001b[0m\u001b[0;34m.\u001b[0m\u001b[0m_process_data\u001b[0m\u001b[0;34m(\u001b[0m\u001b[0mdata\u001b[0m\u001b[0;34m)\u001b[0m\u001b[0;34m\u001b[0m\u001b[0;34m\u001b[0m\u001b[0m\n\u001b[0m\u001b[1;32m   1346\u001b[0m \u001b[0;34m\u001b[0m\u001b[0m\n\u001b[1;32m   1347\u001b[0m     \u001b[0;32mdef\u001b[0m \u001b[0m_try_put_index\u001b[0m\u001b[0;34m(\u001b[0m\u001b[0mself\u001b[0m\u001b[0;34m)\u001b[0m\u001b[0;34m:\u001b[0m\u001b[0;34m\u001b[0m\u001b[0;34m\u001b[0m\u001b[0m\n",
            "\u001b[0;32m/usr/local/lib/python3.10/dist-packages/torch/utils/data/dataloader.py\u001b[0m in \u001b[0;36m_process_data\u001b[0;34m(self, data)\u001b[0m\n\u001b[1;32m   1369\u001b[0m         \u001b[0mself\u001b[0m\u001b[0;34m.\u001b[0m\u001b[0m_try_put_index\u001b[0m\u001b[0;34m(\u001b[0m\u001b[0;34m)\u001b[0m\u001b[0;34m\u001b[0m\u001b[0;34m\u001b[0m\u001b[0m\n\u001b[1;32m   1370\u001b[0m         \u001b[0;32mif\u001b[0m \u001b[0misinstance\u001b[0m\u001b[0;34m(\u001b[0m\u001b[0mdata\u001b[0m\u001b[0;34m,\u001b[0m \u001b[0mExceptionWrapper\u001b[0m\u001b[0;34m)\u001b[0m\u001b[0;34m:\u001b[0m\u001b[0;34m\u001b[0m\u001b[0;34m\u001b[0m\u001b[0m\n\u001b[0;32m-> 1371\u001b[0;31m             \u001b[0mdata\u001b[0m\u001b[0;34m.\u001b[0m\u001b[0mreraise\u001b[0m\u001b[0;34m(\u001b[0m\u001b[0;34m)\u001b[0m\u001b[0;34m\u001b[0m\u001b[0;34m\u001b[0m\u001b[0m\n\u001b[0m\u001b[1;32m   1372\u001b[0m         \u001b[0;32mreturn\u001b[0m \u001b[0mdata\u001b[0m\u001b[0;34m\u001b[0m\u001b[0;34m\u001b[0m\u001b[0m\n\u001b[1;32m   1373\u001b[0m \u001b[0;34m\u001b[0m\u001b[0m\n",
            "\u001b[0;32m/usr/local/lib/python3.10/dist-packages/torch/_utils.py\u001b[0m in \u001b[0;36mreraise\u001b[0;34m(self)\u001b[0m\n\u001b[1;32m    642\u001b[0m             \u001b[0;31m# instantiate since we don't know how to\u001b[0m\u001b[0;34m\u001b[0m\u001b[0;34m\u001b[0m\u001b[0m\n\u001b[1;32m    643\u001b[0m             \u001b[0;32mraise\u001b[0m \u001b[0mRuntimeError\u001b[0m\u001b[0;34m(\u001b[0m\u001b[0mmsg\u001b[0m\u001b[0;34m)\u001b[0m \u001b[0;32mfrom\u001b[0m \u001b[0;32mNone\u001b[0m\u001b[0;34m\u001b[0m\u001b[0;34m\u001b[0m\u001b[0m\n\u001b[0;32m--> 644\u001b[0;31m         \u001b[0;32mraise\u001b[0m \u001b[0mexception\u001b[0m\u001b[0;34m\u001b[0m\u001b[0;34m\u001b[0m\u001b[0m\n\u001b[0m\u001b[1;32m    645\u001b[0m \u001b[0;34m\u001b[0m\u001b[0m\n\u001b[1;32m    646\u001b[0m \u001b[0;34m\u001b[0m\u001b[0m\n",
            "\u001b[0;31merror\u001b[0m: Caught error in DataLoader worker process 0.\nOriginal Traceback (most recent call last):\n  File \"/usr/local/lib/python3.10/dist-packages/torch/utils/data/_utils/worker.py\", line 308, in _worker_loop\n    data = fetcher.fetch(index)\n  File \"/usr/local/lib/python3.10/dist-packages/torch/utils/data/_utils/fetch.py\", line 51, in fetch\n    data = [self.dataset[idx] for idx in possibly_batched_index]\n  File \"/usr/local/lib/python3.10/dist-packages/torch/utils/data/_utils/fetch.py\", line 51, in <listcomp>\n    data = [self.dataset[idx] for idx in possibly_batched_index]\n  File \"<ipython-input-9-e64b135b77d2>\", line 20, in __getitem__\n    image = cv2.cvtColor(image, cv2.COLOR_BGR2RGB)\ncv2.error: OpenCV(4.7.0) /io/opencv/modules/imgproc/src/color.cpp:182: error: (-215:Assertion failed) !_src.empty() in function 'cvtColor'\n\n"
          ]
        }
      ],
      "source": [
        "num_TTA = 7 # TTA 횟수\n",
        "\n",
        "preds_tta = np.zeros((len(test), 4)) # 예측 값 저장용 배열 초기화 (TTA용)\n",
        "\n",
        "# TTA를 적용해 예측\n",
        "for i in range(num_TTA):\n",
        "    with torch.no_grad():\n",
        "        for i, images in enumerate(loader_TTA):\n",
        "            images = images.to(device)\n",
        "            outputs = model(images)\n",
        "            # 타깃 예측 확률\n",
        "            preds_part = torch.softmax(outputs.cpu(), dim=1).squeeze().numpy()\n",
        "            preds_tta[i*batch_size:(i+1)*batch_size] += preds_part"
      ],
      "id": "daokeF8QMngS"
    },
    {
      "cell_type": "code",
      "execution_count": null,
      "metadata": {
        "id": "AllrDlnUMnRK"
      },
      "outputs": [],
      "source": [
        "preds_tta /= num_TTA # preds_tta룰 구할 때, num_TTA만큼 누적했으니 다시 나눠줌"
      ],
      "id": "AllrDlnUMnRK"
    },
    {
      "cell_type": "code",
      "execution_count": null,
      "metadata": {
        "id": "9Ci4A2a-MwKU"
      },
      "outputs": [],
      "source": [
        "submission_tta = submission.copy() \n",
        "\n",
        "submission_tta[['healthy', 'multiple_diseases', 'rust', 'scab']] = preds_tta"
      ],
      "id": "9Ci4A2a-MwKU"
    },
    {
      "cell_type": "code",
      "execution_count": null,
      "metadata": {
        "id": "9ozgO0AxMwA_"
      },
      "outputs": [],
      "source": [
        "submission_test.to_csv('submission_test.csv', index=False)\n",
        "submission_tta.to_csv('submission_tta.csv', index=False)"
      ],
      "id": "9ozgO0AxMwA_"
    },
    {
      "cell_type": "markdown",
      "metadata": {
        "id": "4zvdFZMpQ7Yf"
      },
      "source": [
        "### 3.3 데이터스무딩\n",
        "딥러닝모델이 과잉 확신하는 경우가 있음. (특정 타깃값일 확률을 1에 매우 가깝게 예측) <br>일반화 성능을 높히려면 과잉 확신한 예측값을 보정 필요함 <br>\n",
        "레이블 강도를 $\\alpha$라 할 때 레이블스무딩을 적용하는 수식은 다음과 같음<br> <br> \n",
        "> $(1-\\alpha) * preds + \\frac{\\alpha}{K} $ <br><br>\n",
        "\n",
        "$\\alpha$가 0이면 보정한 값이 예측값과 같고 1이면 모든 타겟예측값이 1/K로 같아짐<br>\n",
        "[iterrows()메소드로 (인덱스,값) 튜플 가져오기](https://wikidocs.net/158775) "
      ],
      "id": "4zvdFZMpQ7Yf"
    },
    {
      "cell_type": "code",
      "execution_count": null,
      "metadata": {
        "id": "czAS3YB4Mv3U"
      },
      "outputs": [],
      "source": [
        "def apply_label_smoothing(df, target, alpha, threshold):\n",
        "    df_target = df[target].copy() # 타깃값 복사\n",
        "    k = len(target) # 타깃값 개수\n",
        "    \n",
        "    for idx, row in df_target.iterrows():\n",
        "        if (row > threshold).any():         # 임계값을 넘는 타깃값인지 여부 판단\n",
        "            row = (1 - alpha)*row + alpha/k # 레이블 스무딩 적용  \n",
        "            df_target.iloc[idx] = row       # 레이블 스무딩을 적용한 값으로 변환\n",
        "    return df_target # 레이블 스무딩을 적용한 타깃값 반환"
      ],
      "id": "czAS3YB4Mv3U"
    },
    {
      "cell_type": "code",
      "execution_count": null,
      "metadata": {
        "id": "neDKG1mpMvqU"
      },
      "outputs": [],
      "source": [
        "alpha = 0.001 # 레이블 스무딩 강도\n",
        "threshold = 0.999 # 레이블 스무딩을 적용할 임계값\n",
        "\n",
        "# 레이블 스무딩을 적용하기 위해 DataFrame 복사\n",
        "submission_test_ls = submission_test.copy()\n",
        "submission_tta_ls = submission_tta.copy()\n",
        "\n",
        "target = ['healthy', 'multiple_diseases', 'rust', 'scab'] # 타깃값 열 이름\n",
        "\n",
        "# 레이블 스무딩 적용\n",
        "submission_test_ls[target] = apply_label_smoothing(submission_test_ls, target, \n",
        "                                                   alpha, threshold)\n",
        "submission_tta_ls[target] = apply_label_smoothing(submission_tta_ls, target, \n",
        "                                                  alpha, threshold)\n",
        "\n",
        "submission_test_ls.to_csv('submission_test_ls.csv', index=False)\n",
        "submission_tta_ls.to_csv('submission_tta_ls.csv', index=False)"
      ],
      "id": "neDKG1mpMvqU"
    },
    {
      "cell_type": "code",
      "execution_count": null,
      "metadata": {
        "id": "n-cjUe5tBKXd"
      },
      "outputs": [],
      "source": [],
      "id": "n-cjUe5tBKXd"
    }
  ],
  "metadata": {
    "accelerator": "GPU",
    "colab": {
      "toc_visible": true,
      "provenance": [],
      "machine_shape": "hm",
      "gpuType": "A100",
      "include_colab_link": true
    },
    "kernelspec": {
      "display_name": "Python 3",
      "name": "python3"
    },
    "language_info": {
      "name": "python"
    },
    "papermill": {
      "default_parameters": {},
      "duration": 1453.732906,
      "end_time": "2023-04-14T11:53:10.316720",
      "environment_variables": {},
      "exception": null,
      "input_path": "__notebook__.ipynb",
      "output_path": "__notebook__.ipynb",
      "parameters": {},
      "start_time": "2023-04-14T11:28:56.583814",
      "version": "2.4.0"
    },
    "widgets": {
      "application/vnd.jupyter.widget-state+json": {
        "c38f8b672b754b9e9d6428b4aca48e1f": {
          "model_module": "@jupyter-widgets/controls",
          "model_name": "HBoxModel",
          "model_module_version": "1.5.0",
          "state": {
            "_dom_classes": [],
            "_model_module": "@jupyter-widgets/controls",
            "_model_module_version": "1.5.0",
            "_model_name": "HBoxModel",
            "_view_count": null,
            "_view_module": "@jupyter-widgets/controls",
            "_view_module_version": "1.5.0",
            "_view_name": "HBoxView",
            "box_style": "",
            "children": [
              "IPY_MODEL_8fea226e97914b03aae359dda3246e51",
              "IPY_MODEL_a15a9e66deb545c7b0e6d03b89829dac",
              "IPY_MODEL_e568853b70534bb4ad2ea272ab3d1549"
            ],
            "layout": "IPY_MODEL_871a2a3627f74889bd4f36159b75c9c2"
          }
        },
        "8fea226e97914b03aae359dda3246e51": {
          "model_module": "@jupyter-widgets/controls",
          "model_name": "HTMLModel",
          "model_module_version": "1.5.0",
          "state": {
            "_dom_classes": [],
            "_model_module": "@jupyter-widgets/controls",
            "_model_module_version": "1.5.0",
            "_model_name": "HTMLModel",
            "_view_count": null,
            "_view_module": "@jupyter-widgets/controls",
            "_view_module_version": "1.5.0",
            "_view_name": "HTMLView",
            "description": "",
            "description_tooltip": null,
            "layout": "IPY_MODEL_d93acb00f37646d2b63b728274c62e39",
            "placeholder": "​",
            "style": "IPY_MODEL_e52718baee61469791ba1aa444b54016",
            "value": "  0%"
          }
        },
        "a15a9e66deb545c7b0e6d03b89829dac": {
          "model_module": "@jupyter-widgets/controls",
          "model_name": "FloatProgressModel",
          "model_module_version": "1.5.0",
          "state": {
            "_dom_classes": [],
            "_model_module": "@jupyter-widgets/controls",
            "_model_module_version": "1.5.0",
            "_model_name": "FloatProgressModel",
            "_view_count": null,
            "_view_module": "@jupyter-widgets/controls",
            "_view_module_version": "1.5.0",
            "_view_name": "ProgressView",
            "bar_style": "danger",
            "description": "",
            "description_tooltip": null,
            "layout": "IPY_MODEL_f95c158672134183ba7063545fb7c4c8",
            "max": 410,
            "min": 0,
            "orientation": "horizontal",
            "style": "IPY_MODEL_da624b16468645a894bbc6d00793ed97",
            "value": 0
          }
        },
        "e568853b70534bb4ad2ea272ab3d1549": {
          "model_module": "@jupyter-widgets/controls",
          "model_name": "HTMLModel",
          "model_module_version": "1.5.0",
          "state": {
            "_dom_classes": [],
            "_model_module": "@jupyter-widgets/controls",
            "_model_module_version": "1.5.0",
            "_model_name": "HTMLModel",
            "_view_count": null,
            "_view_module": "@jupyter-widgets/controls",
            "_view_module_version": "1.5.0",
            "_view_name": "HTMLView",
            "description": "",
            "description_tooltip": null,
            "layout": "IPY_MODEL_4c9c236204264707b44e7b2c6546aa9f",
            "placeholder": "​",
            "style": "IPY_MODEL_daf2607bb713429d829ed84a10bbdef7",
            "value": " 0/410 [00:00&lt;?, ?it/s]"
          }
        },
        "871a2a3627f74889bd4f36159b75c9c2": {
          "model_module": "@jupyter-widgets/base",
          "model_name": "LayoutModel",
          "model_module_version": "1.2.0",
          "state": {
            "_model_module": "@jupyter-widgets/base",
            "_model_module_version": "1.2.0",
            "_model_name": "LayoutModel",
            "_view_count": null,
            "_view_module": "@jupyter-widgets/base",
            "_view_module_version": "1.2.0",
            "_view_name": "LayoutView",
            "align_content": null,
            "align_items": null,
            "align_self": null,
            "border": null,
            "bottom": null,
            "display": null,
            "flex": null,
            "flex_flow": null,
            "grid_area": null,
            "grid_auto_columns": null,
            "grid_auto_flow": null,
            "grid_auto_rows": null,
            "grid_column": null,
            "grid_gap": null,
            "grid_row": null,
            "grid_template_areas": null,
            "grid_template_columns": null,
            "grid_template_rows": null,
            "height": null,
            "justify_content": null,
            "justify_items": null,
            "left": null,
            "margin": null,
            "max_height": null,
            "max_width": null,
            "min_height": null,
            "min_width": null,
            "object_fit": null,
            "object_position": null,
            "order": null,
            "overflow": null,
            "overflow_x": null,
            "overflow_y": null,
            "padding": null,
            "right": null,
            "top": null,
            "visibility": null,
            "width": null
          }
        },
        "d93acb00f37646d2b63b728274c62e39": {
          "model_module": "@jupyter-widgets/base",
          "model_name": "LayoutModel",
          "model_module_version": "1.2.0",
          "state": {
            "_model_module": "@jupyter-widgets/base",
            "_model_module_version": "1.2.0",
            "_model_name": "LayoutModel",
            "_view_count": null,
            "_view_module": "@jupyter-widgets/base",
            "_view_module_version": "1.2.0",
            "_view_name": "LayoutView",
            "align_content": null,
            "align_items": null,
            "align_self": null,
            "border": null,
            "bottom": null,
            "display": null,
            "flex": null,
            "flex_flow": null,
            "grid_area": null,
            "grid_auto_columns": null,
            "grid_auto_flow": null,
            "grid_auto_rows": null,
            "grid_column": null,
            "grid_gap": null,
            "grid_row": null,
            "grid_template_areas": null,
            "grid_template_columns": null,
            "grid_template_rows": null,
            "height": null,
            "justify_content": null,
            "justify_items": null,
            "left": null,
            "margin": null,
            "max_height": null,
            "max_width": null,
            "min_height": null,
            "min_width": null,
            "object_fit": null,
            "object_position": null,
            "order": null,
            "overflow": null,
            "overflow_x": null,
            "overflow_y": null,
            "padding": null,
            "right": null,
            "top": null,
            "visibility": null,
            "width": null
          }
        },
        "e52718baee61469791ba1aa444b54016": {
          "model_module": "@jupyter-widgets/controls",
          "model_name": "DescriptionStyleModel",
          "model_module_version": "1.5.0",
          "state": {
            "_model_module": "@jupyter-widgets/controls",
            "_model_module_version": "1.5.0",
            "_model_name": "DescriptionStyleModel",
            "_view_count": null,
            "_view_module": "@jupyter-widgets/base",
            "_view_module_version": "1.2.0",
            "_view_name": "StyleView",
            "description_width": ""
          }
        },
        "f95c158672134183ba7063545fb7c4c8": {
          "model_module": "@jupyter-widgets/base",
          "model_name": "LayoutModel",
          "model_module_version": "1.2.0",
          "state": {
            "_model_module": "@jupyter-widgets/base",
            "_model_module_version": "1.2.0",
            "_model_name": "LayoutModel",
            "_view_count": null,
            "_view_module": "@jupyter-widgets/base",
            "_view_module_version": "1.2.0",
            "_view_name": "LayoutView",
            "align_content": null,
            "align_items": null,
            "align_self": null,
            "border": null,
            "bottom": null,
            "display": null,
            "flex": null,
            "flex_flow": null,
            "grid_area": null,
            "grid_auto_columns": null,
            "grid_auto_flow": null,
            "grid_auto_rows": null,
            "grid_column": null,
            "grid_gap": null,
            "grid_row": null,
            "grid_template_areas": null,
            "grid_template_columns": null,
            "grid_template_rows": null,
            "height": null,
            "justify_content": null,
            "justify_items": null,
            "left": null,
            "margin": null,
            "max_height": null,
            "max_width": null,
            "min_height": null,
            "min_width": null,
            "object_fit": null,
            "object_position": null,
            "order": null,
            "overflow": null,
            "overflow_x": null,
            "overflow_y": null,
            "padding": null,
            "right": null,
            "top": null,
            "visibility": null,
            "width": null
          }
        },
        "da624b16468645a894bbc6d00793ed97": {
          "model_module": "@jupyter-widgets/controls",
          "model_name": "ProgressStyleModel",
          "model_module_version": "1.5.0",
          "state": {
            "_model_module": "@jupyter-widgets/controls",
            "_model_module_version": "1.5.0",
            "_model_name": "ProgressStyleModel",
            "_view_count": null,
            "_view_module": "@jupyter-widgets/base",
            "_view_module_version": "1.2.0",
            "_view_name": "StyleView",
            "bar_color": null,
            "description_width": ""
          }
        },
        "4c9c236204264707b44e7b2c6546aa9f": {
          "model_module": "@jupyter-widgets/base",
          "model_name": "LayoutModel",
          "model_module_version": "1.2.0",
          "state": {
            "_model_module": "@jupyter-widgets/base",
            "_model_module_version": "1.2.0",
            "_model_name": "LayoutModel",
            "_view_count": null,
            "_view_module": "@jupyter-widgets/base",
            "_view_module_version": "1.2.0",
            "_view_name": "LayoutView",
            "align_content": null,
            "align_items": null,
            "align_self": null,
            "border": null,
            "bottom": null,
            "display": null,
            "flex": null,
            "flex_flow": null,
            "grid_area": null,
            "grid_auto_columns": null,
            "grid_auto_flow": null,
            "grid_auto_rows": null,
            "grid_column": null,
            "grid_gap": null,
            "grid_row": null,
            "grid_template_areas": null,
            "grid_template_columns": null,
            "grid_template_rows": null,
            "height": null,
            "justify_content": null,
            "justify_items": null,
            "left": null,
            "margin": null,
            "max_height": null,
            "max_width": null,
            "min_height": null,
            "min_width": null,
            "object_fit": null,
            "object_position": null,
            "order": null,
            "overflow": null,
            "overflow_x": null,
            "overflow_y": null,
            "padding": null,
            "right": null,
            "top": null,
            "visibility": null,
            "width": null
          }
        },
        "daf2607bb713429d829ed84a10bbdef7": {
          "model_module": "@jupyter-widgets/controls",
          "model_name": "DescriptionStyleModel",
          "model_module_version": "1.5.0",
          "state": {
            "_model_module": "@jupyter-widgets/controls",
            "_model_module_version": "1.5.0",
            "_model_name": "DescriptionStyleModel",
            "_view_count": null,
            "_view_module": "@jupyter-widgets/base",
            "_view_module_version": "1.2.0",
            "_view_name": "StyleView",
            "description_width": ""
          }
        },
        "d7b51ddd65ee41d099faa39fee000004": {
          "model_module": "@jupyter-widgets/controls",
          "model_name": "HBoxModel",
          "model_module_version": "1.5.0",
          "state": {
            "_dom_classes": [],
            "_model_module": "@jupyter-widgets/controls",
            "_model_module_version": "1.5.0",
            "_model_name": "HBoxModel",
            "_view_count": null,
            "_view_module": "@jupyter-widgets/controls",
            "_view_module_version": "1.5.0",
            "_view_name": "HBoxView",
            "box_style": "",
            "children": [
              "IPY_MODEL_d5d2ff4637c44f43b1400cc9ddcd455b",
              "IPY_MODEL_958dc2031c594f1e9cea884564f8f504",
              "IPY_MODEL_b411d98201de4a139c4ccb53a641e694"
            ],
            "layout": "IPY_MODEL_d7bdf181db3840b99452732660a6ce9a"
          }
        },
        "d5d2ff4637c44f43b1400cc9ddcd455b": {
          "model_module": "@jupyter-widgets/controls",
          "model_name": "HTMLModel",
          "model_module_version": "1.5.0",
          "state": {
            "_dom_classes": [],
            "_model_module": "@jupyter-widgets/controls",
            "_model_module_version": "1.5.0",
            "_model_name": "HTMLModel",
            "_view_count": null,
            "_view_module": "@jupyter-widgets/controls",
            "_view_module_version": "1.5.0",
            "_view_name": "HTMLView",
            "description": "",
            "description_tooltip": null,
            "layout": "IPY_MODEL_45120aabc39a4aa780b9a8d71b58f690",
            "placeholder": "​",
            "style": "IPY_MODEL_c41025214b5f425f838712d4ec5c6de7",
            "value": "  0%"
          }
        },
        "958dc2031c594f1e9cea884564f8f504": {
          "model_module": "@jupyter-widgets/controls",
          "model_name": "FloatProgressModel",
          "model_module_version": "1.5.0",
          "state": {
            "_dom_classes": [],
            "_model_module": "@jupyter-widgets/controls",
            "_model_module_version": "1.5.0",
            "_model_name": "FloatProgressModel",
            "_view_count": null,
            "_view_module": "@jupyter-widgets/controls",
            "_view_module_version": "1.5.0",
            "_view_name": "ProgressView",
            "bar_style": "danger",
            "description": "",
            "description_tooltip": null,
            "layout": "IPY_MODEL_f3a28cc4913749ab87b3c9b2789ae8fb",
            "max": 410,
            "min": 0,
            "orientation": "horizontal",
            "style": "IPY_MODEL_ee14b2b21ebe44b38cce0fd391dda7b1",
            "value": 0
          }
        },
        "b411d98201de4a139c4ccb53a641e694": {
          "model_module": "@jupyter-widgets/controls",
          "model_name": "HTMLModel",
          "model_module_version": "1.5.0",
          "state": {
            "_dom_classes": [],
            "_model_module": "@jupyter-widgets/controls",
            "_model_module_version": "1.5.0",
            "_model_name": "HTMLModel",
            "_view_count": null,
            "_view_module": "@jupyter-widgets/controls",
            "_view_module_version": "1.5.0",
            "_view_name": "HTMLView",
            "description": "",
            "description_tooltip": null,
            "layout": "IPY_MODEL_50fe95f761ee4c8bad1b115f77fc9979",
            "placeholder": "​",
            "style": "IPY_MODEL_5b91cfbfc2bd409ca0358fe9b1b7aa6f",
            "value": " 0/410 [00:00&lt;?, ?it/s]"
          }
        },
        "d7bdf181db3840b99452732660a6ce9a": {
          "model_module": "@jupyter-widgets/base",
          "model_name": "LayoutModel",
          "model_module_version": "1.2.0",
          "state": {
            "_model_module": "@jupyter-widgets/base",
            "_model_module_version": "1.2.0",
            "_model_name": "LayoutModel",
            "_view_count": null,
            "_view_module": "@jupyter-widgets/base",
            "_view_module_version": "1.2.0",
            "_view_name": "LayoutView",
            "align_content": null,
            "align_items": null,
            "align_self": null,
            "border": null,
            "bottom": null,
            "display": null,
            "flex": null,
            "flex_flow": null,
            "grid_area": null,
            "grid_auto_columns": null,
            "grid_auto_flow": null,
            "grid_auto_rows": null,
            "grid_column": null,
            "grid_gap": null,
            "grid_row": null,
            "grid_template_areas": null,
            "grid_template_columns": null,
            "grid_template_rows": null,
            "height": null,
            "justify_content": null,
            "justify_items": null,
            "left": null,
            "margin": null,
            "max_height": null,
            "max_width": null,
            "min_height": null,
            "min_width": null,
            "object_fit": null,
            "object_position": null,
            "order": null,
            "overflow": null,
            "overflow_x": null,
            "overflow_y": null,
            "padding": null,
            "right": null,
            "top": null,
            "visibility": null,
            "width": null
          }
        },
        "45120aabc39a4aa780b9a8d71b58f690": {
          "model_module": "@jupyter-widgets/base",
          "model_name": "LayoutModel",
          "model_module_version": "1.2.0",
          "state": {
            "_model_module": "@jupyter-widgets/base",
            "_model_module_version": "1.2.0",
            "_model_name": "LayoutModel",
            "_view_count": null,
            "_view_module": "@jupyter-widgets/base",
            "_view_module_version": "1.2.0",
            "_view_name": "LayoutView",
            "align_content": null,
            "align_items": null,
            "align_self": null,
            "border": null,
            "bottom": null,
            "display": null,
            "flex": null,
            "flex_flow": null,
            "grid_area": null,
            "grid_auto_columns": null,
            "grid_auto_flow": null,
            "grid_auto_rows": null,
            "grid_column": null,
            "grid_gap": null,
            "grid_row": null,
            "grid_template_areas": null,
            "grid_template_columns": null,
            "grid_template_rows": null,
            "height": null,
            "justify_content": null,
            "justify_items": null,
            "left": null,
            "margin": null,
            "max_height": null,
            "max_width": null,
            "min_height": null,
            "min_width": null,
            "object_fit": null,
            "object_position": null,
            "order": null,
            "overflow": null,
            "overflow_x": null,
            "overflow_y": null,
            "padding": null,
            "right": null,
            "top": null,
            "visibility": null,
            "width": null
          }
        },
        "c41025214b5f425f838712d4ec5c6de7": {
          "model_module": "@jupyter-widgets/controls",
          "model_name": "DescriptionStyleModel",
          "model_module_version": "1.5.0",
          "state": {
            "_model_module": "@jupyter-widgets/controls",
            "_model_module_version": "1.5.0",
            "_model_name": "DescriptionStyleModel",
            "_view_count": null,
            "_view_module": "@jupyter-widgets/base",
            "_view_module_version": "1.2.0",
            "_view_name": "StyleView",
            "description_width": ""
          }
        },
        "f3a28cc4913749ab87b3c9b2789ae8fb": {
          "model_module": "@jupyter-widgets/base",
          "model_name": "LayoutModel",
          "model_module_version": "1.2.0",
          "state": {
            "_model_module": "@jupyter-widgets/base",
            "_model_module_version": "1.2.0",
            "_model_name": "LayoutModel",
            "_view_count": null,
            "_view_module": "@jupyter-widgets/base",
            "_view_module_version": "1.2.0",
            "_view_name": "LayoutView",
            "align_content": null,
            "align_items": null,
            "align_self": null,
            "border": null,
            "bottom": null,
            "display": null,
            "flex": null,
            "flex_flow": null,
            "grid_area": null,
            "grid_auto_columns": null,
            "grid_auto_flow": null,
            "grid_auto_rows": null,
            "grid_column": null,
            "grid_gap": null,
            "grid_row": null,
            "grid_template_areas": null,
            "grid_template_columns": null,
            "grid_template_rows": null,
            "height": null,
            "justify_content": null,
            "justify_items": null,
            "left": null,
            "margin": null,
            "max_height": null,
            "max_width": null,
            "min_height": null,
            "min_width": null,
            "object_fit": null,
            "object_position": null,
            "order": null,
            "overflow": null,
            "overflow_x": null,
            "overflow_y": null,
            "padding": null,
            "right": null,
            "top": null,
            "visibility": null,
            "width": null
          }
        },
        "ee14b2b21ebe44b38cce0fd391dda7b1": {
          "model_module": "@jupyter-widgets/controls",
          "model_name": "ProgressStyleModel",
          "model_module_version": "1.5.0",
          "state": {
            "_model_module": "@jupyter-widgets/controls",
            "_model_module_version": "1.5.0",
            "_model_name": "ProgressStyleModel",
            "_view_count": null,
            "_view_module": "@jupyter-widgets/base",
            "_view_module_version": "1.2.0",
            "_view_name": "StyleView",
            "bar_color": null,
            "description_width": ""
          }
        },
        "50fe95f761ee4c8bad1b115f77fc9979": {
          "model_module": "@jupyter-widgets/base",
          "model_name": "LayoutModel",
          "model_module_version": "1.2.0",
          "state": {
            "_model_module": "@jupyter-widgets/base",
            "_model_module_version": "1.2.0",
            "_model_name": "LayoutModel",
            "_view_count": null,
            "_view_module": "@jupyter-widgets/base",
            "_view_module_version": "1.2.0",
            "_view_name": "LayoutView",
            "align_content": null,
            "align_items": null,
            "align_self": null,
            "border": null,
            "bottom": null,
            "display": null,
            "flex": null,
            "flex_flow": null,
            "grid_area": null,
            "grid_auto_columns": null,
            "grid_auto_flow": null,
            "grid_auto_rows": null,
            "grid_column": null,
            "grid_gap": null,
            "grid_row": null,
            "grid_template_areas": null,
            "grid_template_columns": null,
            "grid_template_rows": null,
            "height": null,
            "justify_content": null,
            "justify_items": null,
            "left": null,
            "margin": null,
            "max_height": null,
            "max_width": null,
            "min_height": null,
            "min_width": null,
            "object_fit": null,
            "object_position": null,
            "order": null,
            "overflow": null,
            "overflow_x": null,
            "overflow_y": null,
            "padding": null,
            "right": null,
            "top": null,
            "visibility": null,
            "width": null
          }
        },
        "5b91cfbfc2bd409ca0358fe9b1b7aa6f": {
          "model_module": "@jupyter-widgets/controls",
          "model_name": "DescriptionStyleModel",
          "model_module_version": "1.5.0",
          "state": {
            "_model_module": "@jupyter-widgets/controls",
            "_model_module_version": "1.5.0",
            "_model_name": "DescriptionStyleModel",
            "_view_count": null,
            "_view_module": "@jupyter-widgets/base",
            "_view_module_version": "1.2.0",
            "_view_name": "StyleView",
            "description_width": ""
          }
        }
      }
    }
  },
  "nbformat": 4,
  "nbformat_minor": 5
}