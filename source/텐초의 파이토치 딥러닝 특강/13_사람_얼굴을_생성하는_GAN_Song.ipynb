{
 "cells": [
  {
   "cell_type": "markdown",
   "id": "d044640a",
   "metadata": {},
   "source": [
    "# 이해하기 : GAN"
   ]
  },
  {
   "cell_type": "markdown",
   "id": "9c194045",
   "metadata": {},
   "source": [
    "<img src='./figs/13_01.png'>"
   ]
  },
  {
   "cell_type": "markdown",
   "id": "6c9e7753",
   "metadata": {},
   "source": [
    "- 가짜 이미지를 만들어내도록 학습하는 생성자\n",
    "    - 특징 공간의 점을 입력 받아 이미지 생성\n",
    "    - 특징 공간 : 이미지의 특징들로 표현되는 공간\n",
    "- 가짜와 진짜 이미지를 구별하는 감별자\n",
    "    - 감별자는 진짜 이미지인지, 생성된 것인지를 이진 분류\n",
    "- 생성자와 감별자를 경쟁시켜 학습하면, 생성자는 점점 진짜 같은 이미지를 만들어 낼 것\n",
    "- 단점\n",
    "    - 학습이 올바로 이루어지기 어렵고\n",
    "    - 많은 데이터 필요\n",
    "    - 사용하는 특징의 개수에 매우 민감"
   ]
  },
  {
   "cell_type": "markdown",
   "id": "7ecfb864",
   "metadata": {},
   "source": [
    "# 이해하기 : 특징 공간"
   ]
  },
  {
   "cell_type": "markdown",
   "id": "d027c3a9",
   "metadata": {},
   "source": [
    "<img src='./figs/13_02.png'>"
   ]
  },
  {
   "cell_type": "markdown",
   "id": "987ce5b5",
   "metadata": {},
   "source": [
    "- 나선형의 데이터 분포의 특징을 추출해 2차원으로 표현한 것\n",
    "- A와 B의 평균값을 구할 때 3차원과 2차원의 특징 공간상의 평균값에 큰 차이가 발생"
   ]
  },
  {
   "cell_type": "markdown",
   "id": "468db269",
   "metadata": {},
   "source": [
    "<img src='./figs/13_03.png'>"
   ]
  },
  {
   "cell_type": "markdown",
   "id": "fd0ac15e",
   "metadata": {},
   "source": [
    "- 특징 1이 가로를, 특징 2가 세로의 특징을 의미한다면\n",
    "- 두개를 합치면 대각선이 될 것 (그림에서 A와 B의 위치가 달라져야 할 것)"
   ]
  },
  {
   "cell_type": "markdown",
   "id": "11b1c082",
   "metadata": {},
   "source": [
    "<img src='./figs/13_04.png'>"
   ]
  },
  {
   "cell_type": "markdown",
   "id": "8f7978df",
   "metadata": {},
   "source": [
    "# 데이터 살펴보기"
   ]
  },
  {
   "cell_type": "code",
   "execution_count": null,
   "id": "d7bf94fb",
   "metadata": {},
   "outputs": [],
   "source": []
  },
  {
   "cell_type": "markdown",
   "id": "24e04086",
   "metadata": {},
   "source": [
    "# 학습용 데이터셋 만들기"
   ]
  },
  {
   "cell_type": "markdown",
   "id": "7404f490",
   "metadata": {},
   "source": [
    "<img src='./figs/13_05.png'>"
   ]
  },
  {
   "cell_type": "code",
   "execution_count": null,
   "id": "46eb3264",
   "metadata": {},
   "outputs": [],
   "source": []
  },
  {
   "cell_type": "markdown",
   "id": "0ec5570f",
   "metadata": {},
   "source": [
    "<img src='./figs/13_06.png'>"
   ]
  },
  {
   "cell_type": "code",
   "execution_count": null,
   "id": "006cc5b4",
   "metadata": {},
   "outputs": [],
   "source": []
  },
  {
   "cell_type": "markdown",
   "id": "0335f23a",
   "metadata": {},
   "source": [
    "# GAN 생성자 정의하기"
   ]
  },
  {
   "cell_type": "markdown",
   "id": "d7a80744",
   "metadata": {},
   "source": [
    "<img src='./figs/13_07.png'>"
   ]
  },
  {
   "cell_type": "markdown",
   "id": "cf443f57",
   "metadata": {},
   "source": [
    "# GAN 감별자 정의하기"
   ]
  },
  {
   "cell_type": "markdown",
   "id": "728f603d",
   "metadata": {},
   "source": [
    "<img src='./figs/13_08.png'>"
   ]
  },
  {
   "cell_type": "markdown",
   "id": "51c900c3",
   "metadata": {},
   "source": [
    "<img src='./figs/13_09.png'>"
   ]
  },
  {
   "cell_type": "code",
   "execution_count": null,
   "id": "d5e71257",
   "metadata": {},
   "outputs": [],
   "source": []
  },
  {
   "cell_type": "markdown",
   "id": "562c97da",
   "metadata": {},
   "source": [
    "# 가중치 초기화하기"
   ]
  },
  {
   "cell_type": "code",
   "execution_count": null,
   "id": "7b84989e",
   "metadata": {},
   "outputs": [],
   "source": []
  },
  {
   "cell_type": "markdown",
   "id": "3d616eb8",
   "metadata": {},
   "source": [
    "# 모델 학습하기"
   ]
  },
  {
   "cell_type": "markdown",
   "id": "f16c7915",
   "metadata": {},
   "source": [
    "<img src='./figs/13_10.png'>"
   ]
  },
  {
   "cell_type": "code",
   "execution_count": null,
   "id": "838508c8",
   "metadata": {},
   "outputs": [],
   "source": []
  },
  {
   "cell_type": "markdown",
   "id": "5b191301",
   "metadata": {},
   "source": [
    "# 모델 성능 평가하기"
   ]
  },
  {
   "cell_type": "code",
   "execution_count": null,
   "id": "f84fadd6",
   "metadata": {},
   "outputs": [],
   "source": []
  },
  {
   "cell_type": "markdown",
   "id": "864234bf",
   "metadata": {},
   "source": [
    "# 학습 마무리"
   ]
  },
  {
   "cell_type": "markdown",
   "id": "fe512855",
   "metadata": {},
   "source": [
    "<img src='./figs/13_11.png'>"
   ]
  },
  {
   "cell_type": "markdown",
   "id": "0337b071",
   "metadata": {},
   "source": [
    "# 연습문제"
   ]
  },
  {
   "cell_type": "markdown",
   "id": "4895b92d",
   "metadata": {},
   "source": [
    "<img src='./figs/13_12.png'>"
   ]
  }
 ],
 "metadata": {
  "kernelspec": {
   "display_name": "Python 3 (ipykernel)",
   "language": "python",
   "name": "python3"
  },
  "language_info": {
   "codemirror_mode": {
    "name": "ipython",
    "version": 3
   },
   "file_extension": ".py",
   "mimetype": "text/x-python",
   "name": "python",
   "nbconvert_exporter": "python",
   "pygments_lexer": "ipython3",
   "version": "3.10.9"
  },
  "toc": {
   "base_numbering": 1,
   "nav_menu": {},
   "number_sections": true,
   "sideBar": true,
   "skip_h1_title": false,
   "title_cell": "Table of Contents",
   "title_sidebar": "Contents",
   "toc_cell": false,
   "toc_position": {
    "height": "calc(100% - 180px)",
    "left": "10px",
    "top": "150px",
    "width": "640px"
   },
   "toc_section_display": true,
   "toc_window_display": true
  }
 },
 "nbformat": 4,
 "nbformat_minor": 5
}
