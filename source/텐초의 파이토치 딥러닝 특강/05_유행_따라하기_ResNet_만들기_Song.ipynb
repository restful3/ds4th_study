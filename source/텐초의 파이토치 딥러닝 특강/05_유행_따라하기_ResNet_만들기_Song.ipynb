{
 "cells": [
  {
   "cell_type": "markdown",
   "id": "fc1706e3",
   "metadata": {},
   "source": [
    "# 기본 블록 정의하기"
   ]
  },
  {
   "cell_type": "code",
   "execution_count": 1,
   "id": "b4318ca8",
   "metadata": {},
   "outputs": [],
   "source": [
    "import torch\n",
    "import torch.nn as nn\n",
    "\n",
    "class BasicBlock(nn.Module):\n",
    "    def __init__(self, in_channels, out_channels, kernel_size=3):\n",
    "        super(BasicBlock, self).__init__()\n",
    "        \n",
    "        self.c1 = nn.Conv2d(in_channels, out_channels,\n",
    "                           kernel_size=kernel_size, padding=1)\n",
    "        self.c2 = nn.Conv2d(out_channels, out_channels,\n",
    "                           kernel_size=kernel_size, padding=1)        \n",
    "        self.downsample = nn.Conv2d(in_channels, out_channels,\n",
    "                           kernel_size=1)\n",
    "        \n",
    "        self.bn1 = nn.BatchNorm2d(num_features=out_channels)\n",
    "        self.bn2 = nn.BatchNorm2d(num_features=out_channels)        \n",
    "        \n",
    "        self.relu = nn.ReLU()\n",
    "        \n",
    "    def forward(self, x):\n",
    "        \n",
    "        x_ = x\n",
    "        \n",
    "        x = self.c1(x)\n",
    "        x = self.bn1(x)\n",
    "        x = self.relu(x)\n",
    "        x = self.c2(x)\n",
    "        x = self.bn2(x)\n",
    "        \n",
    "        x_ = self.downsample(x_)\n",
    "        \n",
    "        x += x_\n",
    "        x = self.relu(x)\n",
    "        \n",
    "        return x"
   ]
  },
  {
   "cell_type": "markdown",
   "id": "401192e7",
   "metadata": {},
   "source": [
    "# ResNet 모델 정의하기"
   ]
  },
  {
   "cell_type": "code",
   "execution_count": 2,
   "id": "b1c44dbf",
   "metadata": {},
   "outputs": [],
   "source": [
    "class ResNet(nn.Module):\n",
    "    def __init__(self, num_classes=10):\n",
    "        super(ResNet, self).__init__()\n",
    "        \n",
    "        self.b1 = BasicBlock(in_channels=3, out_channels=64)\n",
    "        self.b2 = BasicBlock(in_channels=64, out_channels=128)\n",
    "        self.b3 = BasicBlock(in_channels=128, out_channels=256)        \n",
    "        \n",
    "        self.pool = nn.AvgPool2d(kernel_size=2, stride=2)\n",
    "        \n",
    "        self.fc1 = nn.Linear(in_features=4096, out_features=2048)\n",
    "        self.fc2 = nn.Linear(in_features=2048, out_features=512)\n",
    "        self.fc3 = nn.Linear(in_features=512, out_features=num_classes)   \n",
    "        \n",
    "        self.relu = nn.ReLU()\n",
    "        \n",
    "    def forward(self, x):\n",
    "        x = self.b1(x)\n",
    "        x = self.pool(x)\n",
    "        x = self.b2(x)\n",
    "        x = self.pool(x)\n",
    "        x = self.b3(x)\n",
    "        x = self.pool(x)        \n",
    "        x = torch.flatten(x, start_dim=1)\n",
    "        \n",
    "        x = self.fc1(x)\n",
    "        x = self.relu(x)\n",
    "        x = self.fc2(x)\n",
    "        x = self.relu(x)\n",
    "        x = self.fc3(x)\n",
    "        \n",
    "        return x"
   ]
  },
  {
   "cell_type": "markdown",
   "id": "7ddb596e",
   "metadata": {},
   "source": [
    "# 모델 학습하기"
   ]
  },
  {
   "cell_type": "code",
   "execution_count": 3,
   "id": "bf7b0361",
   "metadata": {},
   "outputs": [
    {
     "name": "stderr",
     "output_type": "stream",
     "text": [
      "/home/restful3/anaconda3/envs/trading/lib/python3.10/site-packages/torchvision/io/image.py:13: UserWarning: Failed to load image Python extension: /home/restful3/anaconda3/envs/trading/lib/python3.10/site-packages/torchvision/image.so: undefined symbol: _ZN5torch3jit17parseSchemaOrNameERKNSt7__cxx1112basic_stringIcSt11char_traitsIcESaIcEEE\n",
      "  warn(f\"Failed to load image Python extension: {e}\")\n"
     ]
    },
    {
     "name": "stdout",
     "output_type": "stream",
     "text": [
      "Files already downloaded and verified\n",
      "Files already downloaded and verified\n"
     ]
    }
   ],
   "source": [
    "import tqdm\n",
    "\n",
    "from torchvision.datasets.cifar import CIFAR10\n",
    "from torchvision.transforms import Compose, ToTensor, RandomHorizontalFlip, RandomCrop, Normalize\n",
    "from torch.utils.data.dataloader import DataLoader\n",
    "\n",
    "from torch.optim.adam import Adam\n",
    "\n",
    "train_transforms = Compose([\n",
    "    RandomCrop((32, 32), padding=4),\n",
    "    RandomHorizontalFlip(p=0.5),\n",
    "    ToTensor(),\n",
    "    Normalize(mean=(0.4914, 0.4822, 0.4465),\n",
    "             std=(0.247, 0.243, 0.261))\n",
    "])\n",
    "\n",
    "test_transforms = Compose([\n",
    "    ToTensor(),\n",
    "    Normalize(mean=(0.4914, 0.4822, 0.4465),\n",
    "             std=(0.247, 0.243, 0.261))\n",
    "])\n",
    "\n",
    "train_data = CIFAR10(root='/home/restful3/datasets/torch', train=True, download=True, transform=train_transforms)\n",
    "test_data = CIFAR10(root='/home/restful3/datasets/torch', train=True, download=True, transform=test_transforms)\n",
    "\n",
    "train_loader = DataLoader(train_data, batch_size=32, shuffle=True)\n",
    "test_loader = DataLoader(test_data, batch_size=32, shuffle=False)"
   ]
  },
  {
   "cell_type": "code",
   "execution_count": 4,
   "id": "b397630e",
   "metadata": {},
   "outputs": [
    {
     "name": "stdout",
     "output_type": "stream",
     "text": [
      "cuda\n"
     ]
    },
    {
     "data": {
      "text/plain": [
       "ResNet(\n",
       "  (b1): BasicBlock(\n",
       "    (c1): Conv2d(3, 64, kernel_size=(3, 3), stride=(1, 1), padding=(1, 1))\n",
       "    (c2): Conv2d(64, 64, kernel_size=(3, 3), stride=(1, 1), padding=(1, 1))\n",
       "    (downsample): Conv2d(3, 64, kernel_size=(1, 1), stride=(1, 1))\n",
       "    (bn1): BatchNorm2d(64, eps=1e-05, momentum=0.1, affine=True, track_running_stats=True)\n",
       "    (bn2): BatchNorm2d(64, eps=1e-05, momentum=0.1, affine=True, track_running_stats=True)\n",
       "    (relu): ReLU()\n",
       "  )\n",
       "  (b2): BasicBlock(\n",
       "    (c1): Conv2d(64, 128, kernel_size=(3, 3), stride=(1, 1), padding=(1, 1))\n",
       "    (c2): Conv2d(128, 128, kernel_size=(3, 3), stride=(1, 1), padding=(1, 1))\n",
       "    (downsample): Conv2d(64, 128, kernel_size=(1, 1), stride=(1, 1))\n",
       "    (bn1): BatchNorm2d(128, eps=1e-05, momentum=0.1, affine=True, track_running_stats=True)\n",
       "    (bn2): BatchNorm2d(128, eps=1e-05, momentum=0.1, affine=True, track_running_stats=True)\n",
       "    (relu): ReLU()\n",
       "  )\n",
       "  (b3): BasicBlock(\n",
       "    (c1): Conv2d(128, 256, kernel_size=(3, 3), stride=(1, 1), padding=(1, 1))\n",
       "    (c2): Conv2d(256, 256, kernel_size=(3, 3), stride=(1, 1), padding=(1, 1))\n",
       "    (downsample): Conv2d(128, 256, kernel_size=(1, 1), stride=(1, 1))\n",
       "    (bn1): BatchNorm2d(256, eps=1e-05, momentum=0.1, affine=True, track_running_stats=True)\n",
       "    (bn2): BatchNorm2d(256, eps=1e-05, momentum=0.1, affine=True, track_running_stats=True)\n",
       "    (relu): ReLU()\n",
       "  )\n",
       "  (pool): AvgPool2d(kernel_size=2, stride=2, padding=0)\n",
       "  (fc1): Linear(in_features=4096, out_features=2048, bias=True)\n",
       "  (fc2): Linear(in_features=2048, out_features=512, bias=True)\n",
       "  (fc3): Linear(in_features=512, out_features=10, bias=True)\n",
       "  (relu): ReLU()\n",
       ")"
      ]
     },
     "execution_count": 4,
     "metadata": {},
     "output_type": "execute_result"
    }
   ],
   "source": [
    "device = 'cuda' if torch.cuda.is_available() else 'cpu'\n",
    "print(device)\n",
    "\n",
    "model = ResNet(num_classes=10)\n",
    "model.to(device)"
   ]
  },
  {
   "cell_type": "code",
   "execution_count": 19,
   "id": "7ceb9be2",
   "metadata": {},
   "outputs": [
    {
     "name": "stderr",
     "output_type": "stream",
     "text": [
      "epoch : 1, loss : 0.77: 100%|███████████████| 1563/1563 [00:17<00:00, 91.62it/s]\n",
      "epoch : 2, loss : 0.39: 100%|███████████████| 1563/1563 [00:17<00:00, 91.59it/s]\n",
      "epoch : 3, loss : 0.65: 100%|███████████████| 1563/1563 [00:17<00:00, 90.69it/s]\n",
      "epoch : 4, loss : 0.51: 100%|███████████████| 1563/1563 [00:17<00:00, 90.47it/s]\n",
      "epoch : 5, loss : 0.53: 100%|███████████████| 1563/1563 [00:17<00:00, 90.80it/s]\n",
      "epoch : 6, loss : 0.31: 100%|███████████████| 1563/1563 [00:16<00:00, 94.93it/s]\n",
      "epoch : 7, loss : 0.18: 100%|███████████████| 1563/1563 [00:16<00:00, 94.97it/s]\n",
      "epoch : 8, loss : 0.37: 100%|███████████████| 1563/1563 [00:16<00:00, 92.51it/s]\n",
      "epoch : 9, loss : 0.76: 100%|███████████████| 1563/1563 [00:17<00:00, 90.34it/s]\n",
      "epoch : 10, loss : 0.13: 100%|██████████████| 1563/1563 [00:17<00:00, 90.00it/s]\n",
      "epoch : 11, loss : 0.17: 100%|██████████████| 1563/1563 [00:17<00:00, 90.65it/s]\n",
      "epoch : 12, loss : 0.06: 100%|██████████████| 1563/1563 [00:17<00:00, 90.90it/s]\n",
      "epoch : 13, loss : 0.63: 100%|██████████████| 1563/1563 [00:17<00:00, 91.39it/s]\n",
      "epoch : 14, loss : 0.80: 100%|██████████████| 1563/1563 [00:17<00:00, 91.11it/s]\n",
      "epoch : 15, loss : 0.49: 100%|██████████████| 1563/1563 [00:17<00:00, 90.30it/s]\n",
      "epoch : 16, loss : 0.10: 100%|██████████████| 1563/1563 [00:17<00:00, 90.71it/s]\n",
      "epoch : 17, loss : 0.09: 100%|██████████████| 1563/1563 [00:16<00:00, 93.87it/s]\n",
      "epoch : 18, loss : 0.47: 100%|██████████████| 1563/1563 [00:17<00:00, 90.48it/s]\n",
      "epoch : 19, loss : 0.02: 100%|██████████████| 1563/1563 [00:17<00:00, 90.46it/s]\n",
      "epoch : 20, loss : 0.09: 100%|██████████████| 1563/1563 [00:17<00:00, 90.28it/s]\n",
      "epoch : 21, loss : 0.15: 100%|██████████████| 1563/1563 [00:17<00:00, 90.54it/s]\n",
      "epoch : 22, loss : 0.06: 100%|██████████████| 1563/1563 [00:17<00:00, 90.19it/s]\n",
      "epoch : 23, loss : 0.27: 100%|██████████████| 1563/1563 [00:17<00:00, 90.51it/s]\n",
      "epoch : 24, loss : 0.25: 100%|██████████████| 1563/1563 [00:16<00:00, 92.43it/s]\n",
      "epoch : 25, loss : 0.02: 100%|██████████████| 1563/1563 [00:17<00:00, 90.58it/s]\n",
      "epoch : 26, loss : 0.01: 100%|██████████████| 1563/1563 [00:17<00:00, 90.92it/s]\n",
      "epoch : 27, loss : 0.21: 100%|██████████████| 1563/1563 [00:16<00:00, 92.32it/s]\n",
      "epoch : 28, loss : 0.13: 100%|██████████████| 1563/1563 [00:17<00:00, 90.20it/s]\n",
      "epoch : 29, loss : 0.17: 100%|██████████████| 1563/1563 [00:17<00:00, 90.08it/s]\n",
      "epoch : 30, loss : 0.04: 100%|██████████████| 1563/1563 [00:17<00:00, 90.44it/s]\n"
     ]
    }
   ],
   "source": [
    "lr = 1e-4\n",
    "optim = Adam(model.parameters(), lr=lr)\n",
    "\n",
    "for epoch in range(30):\n",
    "    iterator = tqdm.tqdm(train_loader)\n",
    "    for data, label in iterator:\n",
    "        data, label = data.to(device), label.to(device)\n",
    "        optim.zero_grad()\n",
    "        \n",
    "        preds = model(data)\n",
    "        loss = nn.CrossEntropyLoss()(preds, label)\n",
    "        loss.backward()\n",
    "        optim.step()\n",
    "        \n",
    "        iterator.set_description(f'epoch : {epoch+1}, loss : {loss.item():.2f}')\n",
    "        \n",
    "torch.save(model.state_dict(), './models/ResNet.pth')        "
   ]
  },
  {
   "cell_type": "markdown",
   "id": "8f7faa2c",
   "metadata": {},
   "source": [
    "# 모델 성능 평가하기"
   ]
  },
  {
   "cell_type": "code",
   "execution_count": 9,
   "id": "dee5ae7f",
   "metadata": {},
   "outputs": [
    {
     "name": "stdout",
     "output_type": "stream",
     "text": [
      "Accuracy : 0.9778\n"
     ]
    }
   ],
   "source": [
    "model.load_state_dict(torch.load('./models/ResNet.pth', map_location=device))\n",
    "\n",
    "num_corr = 0\n",
    "\n",
    "with torch.no_grad():\n",
    "    for data, label in test_loader:\n",
    "        data, label = data.to(device), label.to(device)\n",
    "        \n",
    "        output = model(data)\n",
    "        preds = output.data.max(1)[1]\n",
    "        corr = preds.eq(label.data).sum().item()\n",
    "        num_corr += corr\n",
    "        \n",
    "    print(f'Accuracy : {num_corr/len(test_data)}')"
   ]
  }
 ],
 "metadata": {
  "kernelspec": {
   "display_name": "Python 3 (ipykernel)",
   "language": "python",
   "name": "python3"
  },
  "language_info": {
   "codemirror_mode": {
    "name": "ipython",
    "version": 3
   },
   "file_extension": ".py",
   "mimetype": "text/x-python",
   "name": "python",
   "nbconvert_exporter": "python",
   "pygments_lexer": "ipython3",
   "version": "3.10.9"
  },
  "toc": {
   "base_numbering": 1,
   "nav_menu": {},
   "number_sections": true,
   "sideBar": true,
   "skip_h1_title": false,
   "title_cell": "Table of Contents",
   "title_sidebar": "Contents",
   "toc_cell": false,
   "toc_position": {},
   "toc_section_display": true,
   "toc_window_display": false
  }
 },
 "nbformat": 4,
 "nbformat_minor": 5
}
