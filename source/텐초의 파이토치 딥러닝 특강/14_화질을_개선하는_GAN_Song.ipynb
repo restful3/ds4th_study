{
 "cells": [
  {
   "cell_type": "markdown",
   "id": "057da956",
   "metadata": {},
   "source": [
    "# 학습용 데이터셋 만들기"
   ]
  },
  {
   "cell_type": "code",
   "execution_count": 1,
   "id": "667a7310",
   "metadata": {},
   "outputs": [],
   "source": [
    "import glob\n",
    "import torchvision.transforms as tf\n",
    "\n",
    "from torch.utils.data.dataset import Dataset\n",
    "from PIL import Image\n",
    "\n",
    "class Celeba(Dataset):\n",
    "    def __init__(self):\n",
    "        self.imgs = glob.glob(\"/home/restful3/datasets_local/GAN/img_align_celeba/*.jpg\")\n",
    "        \n",
    "        mean_std = (0.5, 0.5, 0.5)\n",
    "        \n",
    "        self.low_res_tf = tf.Compose([\n",
    "            tf.Resize((32, 32)),\n",
    "            tf.ToTensor(),\n",
    "            tf.Normalize(mean_std, mean_std)\n",
    "        ])\n",
    "        \n",
    "        self.high_res_tf = tf.Compose([\n",
    "            tf.Resize((64, 64)),\n",
    "            tf.ToTensor(),\n",
    "            tf.Normalize(mean_std, mean_std)\n",
    "        ])\n",
    "        \n",
    "    def __len__(self):\n",
    "        return len(self.imgs)\n",
    "    \n",
    "    def __getitem__(self, i):\n",
    "        img = Image.open(self.imgs[i])\n",
    "        \n",
    "        img_low_res = self.low_res_tf(img)\n",
    "        img_high_res = self.high_res_tf(img)        \n",
    "        \n",
    "        return [img_low_res, img_high_res]"
   ]
  },
  {
   "cell_type": "markdown",
   "id": "fd7ca28b",
   "metadata": {},
   "source": [
    "# SRGAN 생성자 정의하기"
   ]
  },
  {
   "cell_type": "code",
   "execution_count": 2,
   "id": "137d1733",
   "metadata": {},
   "outputs": [],
   "source": [
    "import torch.nn as nn\n",
    "\n",
    "class ResidualBlock(nn.Module):\n",
    "    def __init__(self, in_channels, out_channels):\n",
    "        super(ResidualBlock, self).__init__()\n",
    "        \n",
    "        self.layers = nn.Sequential(\n",
    "            nn.Conv2d(in_channels, out_channels,\n",
    "                     kernel_size=3, stride=1, padding=1),\n",
    "            nn.BatchNorm2d(out_channels),\n",
    "            nn.PReLU(),\n",
    "            nn.Conv2d(out_channels, out_channels,\n",
    "                     kernel_size=3, stride=1, padding=1),\n",
    "            nn.BatchNorm2d(out_channels)\n",
    "        )\n",
    "        \n",
    "    def forward(self, x):\n",
    "        x_ = x\n",
    "        x = self.layers(x)\n",
    "        \n",
    "        x += x_\n",
    "        \n",
    "        return x"
   ]
  },
  {
   "cell_type": "code",
   "execution_count": 3,
   "id": "e2e7b927",
   "metadata": {},
   "outputs": [],
   "source": [
    "class UpSample(nn.Sequential):\n",
    "    def __init__(self, in_channels, out_channels):\n",
    "        super(UpSample, self).__init__(\n",
    "            nn.Conv2d(in_channels, out_channels,\n",
    "                     kernel_size=3, stride=1, padding=1),\n",
    "            nn.PixelShuffle(upscale_factor=2),\n",
    "            nn.PReLU()\n",
    "        )        "
   ]
  },
  {
   "cell_type": "code",
   "execution_count": 4,
   "id": "eea4d0ed",
   "metadata": {},
   "outputs": [],
   "source": [
    "class Generator(nn.Module):\n",
    "    def __init__(self):\n",
    "        super(Generator, self).__init__()\n",
    "        \n",
    "        self.conv1 = nn.Sequential(\n",
    "            nn.Conv2d(3, 64, kernel_size=9, stride=1, padding=4),\n",
    "            nn.PReLU()\n",
    "        )\n",
    "        \n",
    "        self.res_blocks = nn.Sequential(\n",
    "            ResidualBlock(in_channels=64, out_channels=64),\n",
    "            ResidualBlock(in_channels=64, out_channels=64),\n",
    "            ResidualBlock(in_channels=64, out_channels=64)            \n",
    "        )\n",
    "        \n",
    "        self.conv2 = nn.Conv2d(64, 64, kernel_size=3, stride=1, padding=1)\n",
    "        self.bn2 = nn.BatchNorm2d(64)\n",
    "        \n",
    "        self.upsample_blocks = UpSample(in_channels=64, out_channels=256)\n",
    "        \n",
    "        self.conv3 = nn.Conv2d(64, 3, kernel_size=9, stride=1, padding=4)\n",
    "        \n",
    "    def forward(self, x):\n",
    "        \n",
    "        x = self.conv1(x)\n",
    "        x_ = x\n",
    "        \n",
    "        x = self.res_blocks(x)\n",
    "        x = self.conv2(x)\n",
    "        x = self.bn2(x)\n",
    "        \n",
    "        x += x_\n",
    "        \n",
    "        x = self.upsample_blocks(x)\n",
    "        x = self.conv3(x)\n",
    "        \n",
    "        return x"
   ]
  },
  {
   "cell_type": "markdown",
   "id": "74d7f438",
   "metadata": {},
   "source": [
    "# SRGAN 감별자 정의하기"
   ]
  },
  {
   "cell_type": "code",
   "execution_count": 5,
   "id": "e79170be",
   "metadata": {},
   "outputs": [],
   "source": [
    "class DiscBlock(nn.Module):\n",
    "    def __init__(self, in_channels, out_channels):\n",
    "        super(DiscBlock, self).__init__()\n",
    "        \n",
    "        self.layers = nn.Sequential(\n",
    "            nn.Conv2d(in_channels, out_channels,\n",
    "                     kernel_size=3, stride=2, padding=1),\n",
    "            nn.BatchNorm2d(out_channels),\n",
    "            nn.LeakyReLU()\n",
    "        )\n",
    "        \n",
    "    def forward(self, x):\n",
    "        return self.layers(x)"
   ]
  },
  {
   "cell_type": "code",
   "execution_count": 6,
   "id": "7e0060f7",
   "metadata": {},
   "outputs": [],
   "source": [
    "class Discriminator(nn.Module):\n",
    "    def __init__(self):\n",
    "        super(Discriminator, self).__init__()\n",
    "        \n",
    "        self.conv1 = nn.Sequential(\n",
    "            nn.Conv2d(3, 64, \n",
    "                     kernel_size=3, stride=1, padding=1),\n",
    "            nn.LeakyReLU()\n",
    "        )\n",
    "        \n",
    "        self.blocks = DiscBlock(in_channels=64, out_channels=64)\n",
    "        \n",
    "        self.fc1 = nn.Linear(65536, 1024)\n",
    "        self.activation = nn.LeakyReLU()\n",
    "        self.fc2 = nn.Linear(1024, 1)\n",
    "        self.sigmoid = nn.Sigmoid()\n",
    "        \n",
    "        \n",
    "    def forward(self, x):\n",
    "        x = self.conv1(x)\n",
    "        x = self.blocks(x)\n",
    "        \n",
    "        x = torch.flatten(x, start_dim=1)\n",
    "        \n",
    "        x = self.fc1(x)\n",
    "        x = self.activation(x)\n",
    "        x = self.fc2(x)\n",
    "        x = self.sigmoid(x)\n",
    "        \n",
    "        return x"
   ]
  },
  {
   "cell_type": "markdown",
   "id": "242d853a",
   "metadata": {},
   "source": [
    "# CNN 특징 추출기 정의하기"
   ]
  },
  {
   "cell_type": "code",
   "execution_count": 7,
   "id": "db6b2bf5",
   "metadata": {},
   "outputs": [],
   "source": [
    "import torch\n",
    "from torchvision.models.vgg import vgg19\n",
    "\n",
    "class FeatureExtractor(nn.Module):\n",
    "    def __init__(self):\n",
    "        super(FeatureExtractor, self).__init__()\n",
    "        vgg19_model = vgg19(pretrained=True)\n",
    "        \n",
    "        self.feature_extractor = nn.Sequential(\n",
    "            *list(vgg19_model.features.children())[:9]\n",
    "        )\n",
    "        \n",
    "    def forward(self, img):\n",
    "        return self.feature_extractor(img)"
   ]
  },
  {
   "cell_type": "markdown",
   "id": "cefcc03d",
   "metadata": {},
   "source": [
    "# 모델 학습하기"
   ]
  },
  {
   "cell_type": "code",
   "execution_count": 8,
   "id": "b32a2d91",
   "metadata": {},
   "outputs": [
    {
     "data": {
      "text/plain": [
       "'cuda'"
      ]
     },
     "execution_count": 8,
     "metadata": {},
     "output_type": "execute_result"
    }
   ],
   "source": [
    "import tqdm\n",
    "\n",
    "from torch.utils.data.dataloader import DataLoader\n",
    "from torch.optim.adam import Adam\n",
    "\n",
    "device = 'cuda' if torch.cuda.is_available() else 'cpu'\n",
    "\n",
    "device"
   ]
  },
  {
   "cell_type": "code",
   "execution_count": 9,
   "id": "5a9be047",
   "metadata": {},
   "outputs": [],
   "source": [
    "dataset = Celeba()\n",
    "batch_size = 8\n",
    "loader = DataLoader(dataset, batch_size = batch_size, shuffle=True)"
   ]
  },
  {
   "cell_type": "code",
   "execution_count": 10,
   "id": "b5657fab",
   "metadata": {},
   "outputs": [],
   "source": [
    "G = Generator().to(device)\n",
    "D = Discriminator().to(device)"
   ]
  },
  {
   "cell_type": "code",
   "execution_count": 11,
   "id": "7062f6b5",
   "metadata": {},
   "outputs": [
    {
     "name": "stderr",
     "output_type": "stream",
     "text": [
      "/home/restful3/.local/lib/python3.10/site-packages/torchvision/models/_utils.py:208: UserWarning: The parameter 'pretrained' is deprecated since 0.13 and may be removed in the future, please use 'weights' instead.\n",
      "  warnings.warn(\n",
      "/home/restful3/.local/lib/python3.10/site-packages/torchvision/models/_utils.py:223: UserWarning: Arguments other than a weight enum or `None` for 'weights' are deprecated since 0.13 and may be removed in the future. The current behavior is equivalent to passing `weights=VGG19_Weights.IMAGENET1K_V1`. You can also use `weights=VGG19_Weights.DEFAULT` to get the most up-to-date weights.\n",
      "  warnings.warn(msg)\n"
     ]
    },
    {
     "data": {
      "text/plain": [
       "FeatureExtractor(\n",
       "  (feature_extractor): Sequential(\n",
       "    (0): Conv2d(3, 64, kernel_size=(3, 3), stride=(1, 1), padding=(1, 1))\n",
       "    (1): ReLU(inplace=True)\n",
       "    (2): Conv2d(64, 64, kernel_size=(3, 3), stride=(1, 1), padding=(1, 1))\n",
       "    (3): ReLU(inplace=True)\n",
       "    (4): MaxPool2d(kernel_size=2, stride=2, padding=0, dilation=1, ceil_mode=False)\n",
       "    (5): Conv2d(64, 128, kernel_size=(3, 3), stride=(1, 1), padding=(1, 1))\n",
       "    (6): ReLU(inplace=True)\n",
       "    (7): Conv2d(128, 128, kernel_size=(3, 3), stride=(1, 1), padding=(1, 1))\n",
       "    (8): ReLU(inplace=True)\n",
       "  )\n",
       ")"
      ]
     },
     "execution_count": 11,
     "metadata": {},
     "output_type": "execute_result"
    }
   ],
   "source": [
    "feature_extractor = FeatureExtractor().to(device)\n",
    "feature_extractor.eval() # 학습을 하는 것이 아니라서 평가 모드 설정"
   ]
  },
  {
   "cell_type": "code",
   "execution_count": 12,
   "id": "a68b431f",
   "metadata": {},
   "outputs": [],
   "source": [
    "G_optim = Adam(G.parameters(), lr = 0.0001, betas = (0.5, 0.999))\n",
    "D_optim = Adam(D.parameters(), lr = 0.0001, betas = (0.5, 0.999))"
   ]
  },
  {
   "cell_type": "code",
   "execution_count": 13,
   "id": "ca151660",
   "metadata": {},
   "outputs": [
    {
     "name": "stderr",
     "output_type": "stream",
     "text": [
      "  0%|                                                 | 0/25325 [00:00<?, ?it/s]/home/restful3/anaconda3/envs/trading/lib/python3.10/site-packages/torch/nn/modules/loss.py:536: UserWarning: Using a target size (torch.Size([8])) that is different to the input size (torch.Size([8, 1])). This will likely lead to incorrect results due to broadcasting. Please ensure they have the same size.\n",
      "  return F.mse_loss(input, target, reduction=self.reduction)\n",
      "epoch : 0, G_loss : 1.0, D_loss : 0.0: 100%|▉| 25324/25325 [49:04<00:00,  8.55it/home/restful3/anaconda3/envs/trading/lib/python3.10/site-packages/torch/nn/modules/loss.py:536: UserWarning: Using a target size (torch.Size([8])) that is different to the input size (torch.Size([7, 1])). This will likely lead to incorrect results due to broadcasting. Please ensure they have the same size.\n",
      "  return F.mse_loss(input, target, reduction=self.reduction)\n",
      "epoch : 0, G_loss : 1.0, D_loss : 0.0: 100%|█| 25325/25325 [49:04<00:00,  8.60it\n"
     ]
    }
   ],
   "source": [
    "for epoch in range(1):\n",
    "    iterator = tqdm.tqdm(loader)\n",
    "    \n",
    "    for i, (low_res, high_res) in enumerate(iterator):\n",
    "        G_optim.zero_grad()\n",
    "        D_optim.zero_grad()\n",
    "        \n",
    "        label_true = torch.ones(batch_size, dtype=torch.float32).to(device)\n",
    "        label_false = torch.zeros(batch_size, dtype=torch.float32).to(device)\n",
    "        \n",
    "        fake_hr = G(low_res.to(device))\n",
    "        GAN_loss = nn.MSELoss()(D(fake_hr), label_true)\n",
    "        \n",
    "        fake_features = feature_extractor(fake_hr)\n",
    "        real_features = feature_extractor(high_res.to(device))\n",
    "        \n",
    "        content_loss = nn.L1Loss()(fake_features, real_features)\n",
    "        loss_G = content_loss + 0.0001*GAN_loss\n",
    "        loss_G.backward()\n",
    "        G_optim.step()\n",
    "        \n",
    "        real_loss = nn.MSELoss()(D(high_res.to(device)), label_true)\n",
    "        fake_loss = nn.MSELoss()(D(fake_hr.detach()), label_false)\n",
    "        D_loss = (real_loss + fake_loss)/2\n",
    "        D_loss.backward()\n",
    "        D_optim.step()\n",
    "        \n",
    "        iterator.set_description(f'epoch : {epoch}, G_loss : {GAN_loss}, D_loss : {D_loss}')\n",
    "        \n",
    "torch.save(G.state_dict(), './models/SRGAN_G.pth')        \n",
    "torch.save(D.state_dict(), './models/SRGAN_D.pth')        "
   ]
  },
  {
   "cell_type": "markdown",
   "id": "146a69db",
   "metadata": {},
   "source": [
    "# 모델 성능 평가하기"
   ]
  },
  {
   "cell_type": "code",
   "execution_count": 15,
   "id": "4e9dd08b",
   "metadata": {},
   "outputs": [
    {
     "name": "stderr",
     "output_type": "stream",
     "text": [
      "Clipping input data to the valid range for imshow with RGB data ([0..1] for floats or [0..255] for integers).\n",
      "Clipping input data to the valid range for imshow with RGB data ([0..1] for floats or [0..255] for integers).\n"
     ]
    },
    {
     "data": {
      "image/png": "[encoded data removed]",
      "text/plain": [
       "<Figure size 640x480 with 2 Axes>"
      ]
     },
     "metadata": {},
     "output_type": "display_data"
    }
   ],
   "source": [
    "import matplotlib.pyplot as plt\n",
    "\n",
    "G.load_state_dict(torch.load('./models/SRGAN_G.pth', map_location=device))\n",
    "\n",
    "with torch.no_grad():\n",
    "    low_res, high_res = dataset[1]\n",
    "    \n",
    "    input_tensor = torch.unsqueeze(low_res, dim=0).to(device)\n",
    "    \n",
    "    pred = G(input_tensor)\n",
    "    pred = pred.squeeze()\n",
    "    pred = pred.permute(1, 2, 0).cpu().numpy()\n",
    "    \n",
    "    low_res = low_res.permute(1, 2, 0).numpy()\n",
    "    \n",
    "    plt.subplot(1, 2, 1)\n",
    "    plt.title('low resolution image')\n",
    "    plt.imshow(low_res)\n",
    "    plt.subplot(1, 2, 2)\n",
    "    plt.title('predcited high resolution image')\n",
    "    plt.imshow(pred)    \n",
    "    plt.show()\n",
    "    "
   ]
  }
 ],
 "metadata": {
  "kernelspec": {
   "display_name": "Python 3 (ipykernel)",
   "language": "python",
   "name": "python3"
  },
  "language_info": {
   "codemirror_mode": {
    "name": "ipython",
    "version": 3
   },
   "file_extension": ".py",
   "mimetype": "text/x-python",
   "name": "python",
   "nbconvert_exporter": "python",
   "pygments_lexer": "ipython3",
   "version": "3.10.9"
  },
  "toc": {
   "base_numbering": 1,
   "nav_menu": {},
   "number_sections": true,
   "sideBar": true,
   "skip_h1_title": false,
   "title_cell": "Table of Contents",
   "title_sidebar": "Contents",
   "toc_cell": false,
   "toc_position": {},
   "toc_section_display": true,
   "toc_window_display": false
  }
 },
 "nbformat": 4,
 "nbformat_minor": 5
}
