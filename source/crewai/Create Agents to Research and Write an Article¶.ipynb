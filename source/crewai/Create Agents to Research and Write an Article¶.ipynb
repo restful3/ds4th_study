{
 "cells": [
  {
   "cell_type": "markdown",
   "metadata": {},
   "source": [
    "You can download the `requirements.txt` for this course from the workspace of this lab. `File --> Open...`"
   ]
  },
  {
   "cell_type": "markdown",
   "metadata": {},
   "source": [
    "# L2: Create Agents to Research and Write an Article\n",
    "\n",
    "In this lesson, you will be introduced to the foundational concepts of multi-agent systems and get an overview of the crewAI framework."
   ]
  },
  {
   "cell_type": "markdown",
   "metadata": {},
   "source": [
    "The libraries are already installed in the classroom. If you're running this notebook on your own machine, you can install the following:\n",
    "```Python\n",
    "!pip install crewai==0.28.8 crewai_tools==0.1.6 langchain_community==0.0.29\n",
    "```"
   ]
  },
  {
   "cell_type": "code",
   "execution_count": 1,
   "metadata": {
    "height": 64
   },
   "outputs": [],
   "source": [
    "# Warning control\n",
    "import warnings\n",
    "warnings.filterwarnings('ignore')"
   ]
  },
  {
   "cell_type": "markdown",
   "metadata": {},
   "source": [
    "- Import from the crewAI libray."
   ]
  },
  {
   "cell_type": "code",
   "execution_count": 4,
   "metadata": {
    "height": 30
   },
   "outputs": [],
   "source": [
    "from crewai import Agent, Task, Crew"
   ]
  },
  {
   "cell_type": "markdown",
   "metadata": {},
   "source": [
    "- As a LLM for your agents, you'll be using OpenAI's `gpt-3.5-turbo`.\n",
    "\n",
    "**Optional Note:** crewAI also allow other popular models to be used as a LLM for your Agents. You can see some of the examples at the [bottom of the notebook](#1)."
   ]
  },
  {
   "cell_type": "code",
   "execution_count": 7,
   "metadata": {
    "height": 98
   },
   "outputs": [],
   "source": [
    "import os\n",
    "from dotenv import load_dotenv\n",
    "load_dotenv()\n",
    "openai_api_key = os.getenv('OPENAI_API_KEY')\n",
    "os.environ[\"OPENAI_MODEL_NAME\"] = 'gpt-3.5-turbo'"
   ]
  },
  {
   "cell_type": "markdown",
   "metadata": {},
   "source": [
    "## Creating Agents\n",
    "\n",
    "- Define your Agents, and provide them a `role`, `goal` and `backstory`.\n",
    "- It has been seen that LLMs perform better when they are role playing."
   ]
  },
  {
   "cell_type": "markdown",
   "metadata": {},
   "source": [
    "### Agent: Planner\n",
    "\n",
    "**Note**: The benefit of using _multiple strings_ :\n",
    "```Python\n",
    "varname = \"line 1 of text\"\n",
    "          \"line 2 of text\"\n",
    "```\n",
    "\n",
    "versus the _triple quote docstring_:\n",
    "```Python\n",
    "varname = \"\"\"line 1 of text\n",
    "             line 2 of text\n",
    "          \"\"\"\n",
    "```\n",
    "is that it can avoid adding those whitespaces and newline characters, making it better formatted to be passed to the LLM."
   ]
  },
  {
   "cell_type": "code",
   "execution_count": 19,
   "metadata": {
    "height": 234
   },
   "outputs": [],
   "source": [
    "planner = Agent(\n",
    "    role=\"Content Planner\",\n",
    "    goal=\"Plan engaging and factually accurate content on {topic}\",\n",
    "    backstory=\"You're working on planning a blog article \"\n",
    "              \"about the topic: {topic}.\"\n",
    "              \"You collect information that helps the \"\n",
    "              \"audience learn something \"\n",
    "              \"and make informed decisions. \"\n",
    "              \"Your work is the basis for \"\n",
    "              \"the Content Writer to write an article on this topic.\"\n",
    "              \"You are good at Korean language.\",\n",
    "    allow_delegation=False,\n",
    "\tverbose=True\n",
    ")"
   ]
  },
  {
   "cell_type": "markdown",
   "metadata": {},
   "source": [
    "### Agent: Writer"
   ]
  },
  {
   "cell_type": "code",
   "execution_count": 20,
   "metadata": {
    "height": 370
   },
   "outputs": [],
   "source": [
    "writer = Agent(\n",
    "    role=\"Content Writer\",\n",
    "    goal=\"Write insightful and factually accurate \"\n",
    "         \"opinion piece about the topic: {topic}\",\n",
    "    backstory=\"You're working on a writing \"\n",
    "              \"a new opinion piece about the topic: {topic}. \"\n",
    "              \"You base your writing on the work of \"\n",
    "              \"the Content Planner, who provides an outline \"\n",
    "              \"and relevant context about the topic. \"\n",
    "              \"You follow the main objectives and \"\n",
    "              \"direction of the outline, \"\n",
    "              \"as provide by the Content Planner. \"\n",
    "              \"You also provide objective and impartial insights \"\n",
    "              \"and back them up with information \"\n",
    "              \"provide by the Content Planner. \"\n",
    "              \"You acknowledge in your opinion piece \"\n",
    "              \"when your statements are opinions \"\n",
    "              \"as opposed to objective statements.\"\n",
    "              \"You are good at Korean language.\",\n",
    "    allow_delegation=False,\n",
    "    verbose=True\n",
    ")"
   ]
  },
  {
   "cell_type": "markdown",
   "metadata": {},
   "source": [
    "### Agent: Editor"
   ]
  },
  {
   "cell_type": "code",
   "execution_count": 21,
   "metadata": {
    "height": 268
   },
   "outputs": [],
   "source": [
    "editor = Agent(\n",
    "    role=\"Editor\",\n",
    "    goal=\"Edit a given blog post to align with \"\n",
    "         \"the writing style of the organization. \",\n",
    "    backstory=\"You are an editor who receives a blog post \"\n",
    "              \"from the Content Writer. \"\n",
    "              \"Your goal is to review the blog post \"\n",
    "              \"to ensure that it follows journalistic best practices,\"\n",
    "              \"provides balanced viewpoints \"\n",
    "              \"when providing opinions or assertions, \"\n",
    "              \"and also avoids major controversial topics \"\n",
    "              \"or opinions when possible.\"\n",
    "              \"You are good at Korean language.\",\n",
    "    allow_delegation=False,\n",
    "    verbose=True\n",
    ")"
   ]
  },
  {
   "cell_type": "markdown",
   "metadata": {},
   "source": [
    "## Creating Tasks\n",
    "\n",
    "- Define your Tasks, and provide them a `description`, `expected_output` and `agent`."
   ]
  },
  {
   "cell_type": "markdown",
   "metadata": {},
   "source": [
    "### Task: Plan"
   ]
  },
  {
   "cell_type": "code",
   "execution_count": 22,
   "metadata": {
    "height": 268
   },
   "outputs": [],
   "source": [
    "plan = Task(\n",
    "    description=(\n",
    "        \"1. Prioritize the latest trends, key players, \"\n",
    "            \"and noteworthy news on {topic}.\\n\"\n",
    "        \"2. Identify the target audience, considering \"\n",
    "            \"their interests and pain points.\\n\"\n",
    "        \"3. Develop a detailed content outline including \"\n",
    "            \"an introduction, key points, and a call to action.\\n\"\n",
    "        \"4. Include SEO keywords and relevant data or sources.\"\n",
    "    ),\n",
    "    expected_output=\"A comprehensive content plan document \"\n",
    "        \"with an outline, audience analysis, \"\n",
    "        \"SEO keywords, and resources.\"\n",
    "        \"in Korean\"\n",
    "    ,\n",
    "    agent=planner,\n",
    ")"
   ]
  },
  {
   "cell_type": "markdown",
   "metadata": {},
   "source": [
    "### Task: Write"
   ]
  },
  {
   "cell_type": "code",
   "execution_count": 23,
   "metadata": {
    "height": 319
   },
   "outputs": [
    {
     "ename": "SyntaxError",
     "evalue": "invalid syntax (1285325592.py, line 19)",
     "output_type": "error",
     "traceback": [
      "\u001b[1;36m  Cell \u001b[1;32mIn[23], line 19\u001b[1;36m\u001b[0m\n\u001b[1;33m    ,\u001b[0m\n\u001b[1;37m    ^\u001b[0m\n\u001b[1;31mSyntaxError\u001b[0m\u001b[1;31m:\u001b[0m invalid syntax\n"
     ]
    }
   ],
   "source": [
    "write = Task(\n",
    "    description=(\n",
    "        \"1. Use the content plan to craft a compelling \"\n",
    "            \"blog post on {topic}.\\n\"\n",
    "        \"2. Incorporate SEO keywords naturally.\\n\"\n",
    "\t\t\"3. Sections/Subtitles are properly named \"\n",
    "            \"in an engaging manner.\\n\"\n",
    "        \"4. Ensure the post is structured with an \"\n",
    "            \"engaging introduction, insightful body, \"\n",
    "            \"and a summarizing conclusion.\\n\"\n",
    "        \"5. Proofread for grammatical errors and \"\n",
    "            \"alignment with the brand's voice.\\n\"\n",
    "    ),\n",
    "    expected_output=\"A well-written blog post \"\n",
    "        \"in markdown format, ready for publication, \"\n",
    "        \"each section should have 2 or 3 paragraphs.\"\n",
    "        \"in Korean\",\n",
    "    \n",
    "    ,\n",
    "    agent=writer,\n",
    ")"
   ]
  },
  {
   "cell_type": "markdown",
   "metadata": {},
   "source": [
    "### Task: Edit"
   ]
  },
  {
   "cell_type": "code",
   "execution_count": 24,
   "metadata": {
    "height": 166
   },
   "outputs": [],
   "source": [
    "edit = Task(\n",
    "    description=(\"Proofread the given blog post for \"\n",
    "                 \"grammatical errors and \"\n",
    "                 \"alignment with the brand's voice.\"),\n",
    "    expected_output=\"A well-written blog post in markdown format, \"\n",
    "                    \"ready for publication, \"\n",
    "                    \"each section should have 2 or 3 paragraphs.\"\n",
    "                    \"in Korean\",\n",
    "    agent=editor\n",
    ")"
   ]
  },
  {
   "cell_type": "markdown",
   "metadata": {},
   "source": [
    "## Creating the Crew\n",
    "\n",
    "- Create your crew of Agents\n",
    "- Pass the tasks to be performed by those agents.\n",
    "    - **Note**: *For this simple example*, the tasks will be performed sequentially (i.e they are dependent on each other), so the _order_ of the task in the list _matters_.\n",
    "- `verbose=2` allows you to see all the logs of the execution. "
   ]
  },
  {
   "cell_type": "code",
   "execution_count": 25,
   "metadata": {
    "height": 98
   },
   "outputs": [
    {
     "name": "stderr",
     "output_type": "stream",
     "text": [
      "2024-05-20 22:48:54,290 - 22824 - __init__.py-__init__:518 - WARNING: Overriding of current TracerProvider is not allowed\n"
     ]
    }
   ],
   "source": [
    "crew = Crew(\n",
    "    agents=[planner, writer, editor],\n",
    "    tasks=[plan, write, edit],\n",
    "    verbose=2\n",
    ")"
   ]
  },
  {
   "cell_type": "markdown",
   "metadata": {},
   "source": [
    "## Running the Crew"
   ]
  },
  {
   "cell_type": "markdown",
   "metadata": {},
   "source": [
    "**Note**: LLMs can provide different outputs for they same input, so what you get might be different than what you see in the video."
   ]
  },
  {
   "cell_type": "code",
   "execution_count": 27,
   "metadata": {
    "height": 30
   },
   "outputs": [
    {
     "name": "stdout",
     "output_type": "stream",
     "text": [
      "\u001b[1m\u001b[95m [DEBUG]: == Working Agent: Content Planner\u001b[00m\n",
      "\u001b[1m\u001b[95m [INFO]: == Starting Task: 1. Prioritize the latest trends, key players, and noteworthy news on 맥북을 사야하는 이유.\n",
      "2. Identify the target audience, considering their interests and pain points.\n",
      "3. Develop a detailed content outline including an introduction, key points, and a call to action.\n",
      "4. Include SEO keywords and relevant data or sources.\u001b[00m\n",
      "\n",
      "\n",
      "\u001b[1m> Entering new CrewAgentExecutor chain...\u001b[0m\n",
      "\u001b[32;1m\u001b[1;3mI now can give a great answer\n",
      "\n",
      "Final Answer: \n",
      "\n",
      "컨텐츠 계획서:\n",
      "\n",
      "목차:\n",
      "\n",
      "I. 소개\n",
      "- 맥북을 사야하는 이유 소개\n",
      "- 최신 동향 소개\n",
      "\n",
      "II. 주요 내용\n",
      "- 맥북의 성능 및 디자인\n",
      "- 생산성 향상을 위한 맥북의 장점\n",
      "- 맥북을 선택해야 하는 이유\n",
      "\n",
      "III. 타겟 오디언스 분석\n",
      "- 디자이너, 프로그래머 및 비즈니스 전문가\n",
      "- 높은 생산성을 요구하는 사용자\n",
      "- 기존 애플 제품을 좋아하는 소비자\n",
      "\n",
      "IV. SEO 키워드\n",
      "- 맥북, 맥북 구매, 맥북 장점, 맥북 생산성, 맥북 디자인\n",
      "\n",
      "V. 참고 자료\n",
      "1. 애플 공식 웹사이트\n",
      "2. 전문 리뷰어의 맥북 리뷰\n",
      "3. 유명 블로그 및 포럼 게시물\n",
      "\n",
      "콜 투 액션:\n",
      "- 맥북을 구매하고 생산성을 향상시켜보세요!\u001b[0m\n",
      "\n",
      "\u001b[1m> Finished chain.\u001b[0m\n",
      "\u001b[1m\u001b[92m [DEBUG]: == [Content Planner] Task output: 컨텐츠 계획서:\n",
      "\n",
      "목차:\n",
      "\n",
      "I. 소개\n",
      "- 맥북을 사야하는 이유 소개\n",
      "- 최신 동향 소개\n",
      "\n",
      "II. 주요 내용\n",
      "- 맥북의 성능 및 디자인\n",
      "- 생산성 향상을 위한 맥북의 장점\n",
      "- 맥북을 선택해야 하는 이유\n",
      "\n",
      "III. 타겟 오디언스 분석\n",
      "- 디자이너, 프로그래머 및 비즈니스 전문가\n",
      "- 높은 생산성을 요구하는 사용자\n",
      "- 기존 애플 제품을 좋아하는 소비자\n",
      "\n",
      "IV. SEO 키워드\n",
      "- 맥북, 맥북 구매, 맥북 장점, 맥북 생산성, 맥북 디자인\n",
      "\n",
      "V. 참고 자료\n",
      "1. 애플 공식 웹사이트\n",
      "2. 전문 리뷰어의 맥북 리뷰\n",
      "3. 유명 블로그 및 포럼 게시물\n",
      "\n",
      "콜 투 액션:\n",
      "- 맥북을 구매하고 생산성을 향상시켜보세요!\n",
      "\n",
      "\u001b[00m\n",
      "\u001b[1m\u001b[95m [DEBUG]: == Working Agent: Content Writer\u001b[00m\n",
      "\u001b[1m\u001b[95m [INFO]: == Starting Task: 1. Use the content plan to craft a compelling blog post on 맥북을 사야하는 이유.\n",
      "2. Incorporate SEO keywords naturally.\n",
      "3. Sections/Subtitles are properly named in an engaging manner.\n",
      "4. Ensure the post is structured with an engaging introduction, insightful body, and a summarizing conclusion.\n",
      "5. Proofread for grammatical errors and alignment with the brand's voice.\n",
      "\u001b[00m\n",
      "\n",
      "\n",
      "\u001b[1m> Entering new CrewAgentExecutor chain...\u001b[0m\n",
      "\u001b[32;1m\u001b[1;3mI now can give a great answer\n",
      "\n",
      "Final Answer:\n",
      "\n",
      "# Why You Should Buy a MacBook: Enhancing Productivity and Performance\n",
      "\n",
      "## Introduction\n",
      "\n",
      "In today's fast-paced digital world, having the right tools to enhance productivity is essential. One such tool that has gained immense popularity among designers, programmers, and business professionals is the MacBook. With its sleek design and powerful performance, the MacBook offers a range of benefits that can significantly improve your workflow and efficiency.\n",
      "\n",
      "## Current Trends\n",
      "\n",
      "The demand for MacBooks has been steadily increasing, with more and more users opting for these devices to meet their professional and personal needs. From creative professionals to corporate executives, the MacBook has become a go-to choice for those looking for a reliable and high-performance laptop.\n",
      "\n",
      "## Key Features\n",
      "\n",
      "### Performance and Design\n",
      "\n",
      "One of the standout features of the MacBook is its exceptional performance capabilities. Powered by the latest processors and cutting-edge technology, MacBooks deliver lightning-fast speed and seamless multitasking abilities. Additionally, the sleek and stylish design of the MacBook makes it a coveted accessory for professionals who value both aesthetics and functionality.\n",
      "\n",
      "### Enhancing Productivity\n",
      "\n",
      "For users who rely on their laptops for work, the MacBook offers a myriad of productivity-enhancing features. From the intuitive macOS operating system to the seamless integration with other Apple devices, MacBooks are designed to streamline your workflow and help you stay organized and focused on your tasks.\n",
      "\n",
      "### Choosing a MacBook: The Ultimate Decision\n",
      "\n",
      "With its unparalleled performance, stunning design, and ecosystem of productivity tools, choosing a MacBook is a decision that can significantly impact your work and personal life. Whether you're a designer looking for a reliable device for your creative projects or a business professional in need of a high-performance laptop, the MacBook is a versatile and powerful tool that can meet your needs.\n",
      "\n",
      "## Target Audience Analysis\n",
      "\n",
      "### Designers, Programmers, and Business Experts\n",
      "\n",
      "The MacBook is tailored to meet the needs of professionals who require high-performance computing for their demanding tasks. Designers can benefit from the MacBook's robust graphics capabilities, while programmers can leverage its efficient coding environment. Business experts, on the other hand, can rely on the MacBook for its reliability and security features.\n",
      "\n",
      "### Users with High Productivity Demands\n",
      "\n",
      "For individuals who need to juggle multiple tasks and projects simultaneously, the MacBook is the ideal choice. Its fast processing speeds, seamless multitasking abilities, and long-lasting battery life make it a top pick for users who value productivity and efficiency in their work.\n",
      "\n",
      "### Apple Enthusiasts\n",
      "\n",
      "If you're already a fan of Apple products, choosing a MacBook is a natural progression. With its seamless integration with other Apple devices, such as iPhones and iPads, the MacBook offers a cohesive ecosystem that enhances your overall user experience and productivity.\n",
      "\n",
      "## SEO Keywords\n",
      "\n",
      "- MacBook\n",
      "- MacBook Purchase\n",
      "- MacBook Benefits\n",
      "- MacBook Productivity\n",
      "- MacBook Design\n",
      "\n",
      "## References\n",
      "\n",
      "1. Official Apple Website\n",
      "2. Expert Reviews on MacBooks\n",
      "3. Popular Blog Posts and Forum Discussions\n",
      "\n",
      "### Call to Action\n",
      "\n",
      "Ready to take your productivity to the next level? Invest in a MacBook today and experience the difference it can make in enhancing your efficiency and performance!\u001b[0m\n",
      "\n",
      "\u001b[1m> Finished chain.\u001b[0m\n",
      "\u001b[1m\u001b[92m [DEBUG]: == [Content Writer] Task output: # Why You Should Buy a MacBook: Enhancing Productivity and Performance\n",
      "\n",
      "## Introduction\n",
      "\n",
      "In today's fast-paced digital world, having the right tools to enhance productivity is essential. One such tool that has gained immense popularity among designers, programmers, and business professionals is the MacBook. With its sleek design and powerful performance, the MacBook offers a range of benefits that can significantly improve your workflow and efficiency.\n",
      "\n",
      "## Current Trends\n",
      "\n",
      "The demand for MacBooks has been steadily increasing, with more and more users opting for these devices to meet their professional and personal needs. From creative professionals to corporate executives, the MacBook has become a go-to choice for those looking for a reliable and high-performance laptop.\n",
      "\n",
      "## Key Features\n",
      "\n",
      "### Performance and Design\n",
      "\n",
      "One of the standout features of the MacBook is its exceptional performance capabilities. Powered by the latest processors and cutting-edge technology, MacBooks deliver lightning-fast speed and seamless multitasking abilities. Additionally, the sleek and stylish design of the MacBook makes it a coveted accessory for professionals who value both aesthetics and functionality.\n",
      "\n",
      "### Enhancing Productivity\n",
      "\n",
      "For users who rely on their laptops for work, the MacBook offers a myriad of productivity-enhancing features. From the intuitive macOS operating system to the seamless integration with other Apple devices, MacBooks are designed to streamline your workflow and help you stay organized and focused on your tasks.\n",
      "\n",
      "### Choosing a MacBook: The Ultimate Decision\n",
      "\n",
      "With its unparalleled performance, stunning design, and ecosystem of productivity tools, choosing a MacBook is a decision that can significantly impact your work and personal life. Whether you're a designer looking for a reliable device for your creative projects or a business professional in need of a high-performance laptop, the MacBook is a versatile and powerful tool that can meet your needs.\n",
      "\n",
      "## Target Audience Analysis\n",
      "\n",
      "### Designers, Programmers, and Business Experts\n",
      "\n",
      "The MacBook is tailored to meet the needs of professionals who require high-performance computing for their demanding tasks. Designers can benefit from the MacBook's robust graphics capabilities, while programmers can leverage its efficient coding environment. Business experts, on the other hand, can rely on the MacBook for its reliability and security features.\n",
      "\n",
      "### Users with High Productivity Demands\n",
      "\n",
      "For individuals who need to juggle multiple tasks and projects simultaneously, the MacBook is the ideal choice. Its fast processing speeds, seamless multitasking abilities, and long-lasting battery life make it a top pick for users who value productivity and efficiency in their work.\n",
      "\n",
      "### Apple Enthusiasts\n",
      "\n",
      "If you're already a fan of Apple products, choosing a MacBook is a natural progression. With its seamless integration with other Apple devices, such as iPhones and iPads, the MacBook offers a cohesive ecosystem that enhances your overall user experience and productivity.\n",
      "\n",
      "## SEO Keywords\n",
      "\n",
      "- MacBook\n",
      "- MacBook Purchase\n",
      "- MacBook Benefits\n",
      "- MacBook Productivity\n",
      "- MacBook Design\n",
      "\n",
      "## References\n",
      "\n",
      "1. Official Apple Website\n",
      "2. Expert Reviews on MacBooks\n",
      "3. Popular Blog Posts and Forum Discussions\n",
      "\n",
      "### Call to Action\n",
      "\n",
      "Ready to take your productivity to the next level? Invest in a MacBook today and experience the difference it can make in enhancing your efficiency and performance!\n",
      "\n",
      "\u001b[00m\n",
      "\u001b[1m\u001b[95m [DEBUG]: == Working Agent: Editor\u001b[00m\n",
      "\u001b[1m\u001b[95m [INFO]: == Starting Task: Proofread the given blog post for grammatical errors and alignment with the brand's voice.\u001b[00m\n",
      "\n",
      "\n",
      "\u001b[1m> Entering new CrewAgentExecutor chain...\u001b[0m\n",
      "\u001b[32;1m\u001b[1;3mI now can give a great answer\n",
      "\n",
      "Final Answer:\n",
      "\n",
      "# 왜 맥북을 구매해야 하는가: 생산성과 성능 향상\n",
      "\n",
      "## 소개\n",
      "\n",
      "현재의 빠르게 변화하는 디지털 세계에서 생산성을 향상시키는 올바른 도구를 갖는 것은 중요합니다. 디자이너, 프로그래머, 비즈니스 전문가들 사이에서 엄청난 인기를 얻은 하나의 도구가 바로 맥북입니다. 슬릭한 디자인과 강력한 성능으로 맥북은 워크플로우와 효율성을 현저히 향상시킬 수 있는 다양한 혜택을 제공합니다.\n",
      "\n",
      "## 현재 트렌드\n",
      "\n",
      "맥북에 대한 수요는 꾸준히 증가하고 있으며, 점점 더 많은 사용자들이 전문적인 또는 개인적인 필요에 맞춰 이러한 장치를 선택하고 있습니다. 크리에이티브 전문가부터 기업 임원까지, 맥북은 신뢰할 수 있고 고성능의 노트북을 찾는 사람들에게 가장 인기 있는 선택지가 되었습니다.\n",
      "\n",
      "## 주요 특징\n",
      "\n",
      "### 성능과 디자인\n",
      "\n",
      "맥북의 높은 성능 능력은 그 중요한 특징 중 하나입니다. 최신 프로세서와 최첨단 기술로 구동되는 맥북은 빠른 속도와 원활한 멀티태스킹 능력을 제공합니다. 게다가 맥북의 세련되고 스타일리시한 디자인은 미학과 기능성을 둘 다 중요시하는 전문가들에게 매력적인 액세서리가 되었습니다.\n",
      "\n",
      "### 생산성 향상\n",
      "\n",
      "일을 위해 노트북을 의존하는 사용자들에게 맥북은 다양한 생산성 향상 기능을 제공합니다. 직관적인 macOS 운영 체제부터 다른 Apple 장치와의 원활한 통합까지, 맥북은 워크플로우를 최적화하고 작업에 집중하고 조직적으로 유지할 수 있도록 설계되었습니다.\n",
      "\n",
      "### 맥북 선택: 궁극의 결정\n",
      "\n",
      "뛰어난 성능, 멋진 디자인, 그리고 생산성 도구 생태계를 갖춘 맥북을 선택하는 것은 당신의 일과 개인 생활에 상당한 영향을 줄 수 있는 결정입니다. 창작물 프로젝트에 신뢰할 수 있는 장치를 찾는 디자이너이든, 고성능 노트북이 필요한 비즈니스 전문가이든, 맥북은 당신의 요구 사항을 충족시킬 수 있는 다재다능하고 강력한 도구입니다.\n",
      "\n",
      "## 타겟 오디언스 분석\n",
      "\n",
      "### 디자이너, 프로그래머, 비즈니스 전문가\n",
      "\n",
      "맥북은 요구하는 고성능 컴퓨팅을 필요로 하는 전문가들의 요구를 충족하기 위해 제작되었습니다. 디자이너는 맥북의 강력한 그래픽 기능을 활용할 수 있으며, 프로그래머는 효율적인 코딩 환경을 활용할 수 있습니다. 반면 비즈니스 전문가들은 맥북의 신뢰성과 보안 기능에 의지할 수 있습니다.\n",
      "\n",
      "### 생산성 수요가 높은 사용자\n",
      "\n",
      "여러 작업과 프로젝트를 동시에 처리해야 하는 개인들에게 맥북은 이상적인 선택입니다. 빠른 처리 속도, 원활한 멀티태스킹 능력, 그리고 오래가는 배터리 수명은 생산성과 효율성을 중요시하는 사용자들에게 최적의 선택지가 되었습니다.\n",
      "\n",
      "### 애플 애호가\n",
      "\n",
      "이미 애플 제품의 팬이라면, 맥북을 선택하는 것은 자연스러운 진화입니다. 아이폰, 아이패드와 같은 다른 애플 장치들과의 원활한 통합으로 맥북은 전체 사용자 경험과 생산성을 향상시키는 일관된 생태계를 제공합니다.\n",
      "\n",
      "## SEO 키워드\n",
      "\n",
      "- 맥북\n",
      "- 맥북 구매\n",
      "- 맥북 혜택\n",
      "- 맥북 생산성\n",
      "- 맥북 디자인\n",
      "\n",
      "## 참고문헌\n",
      "\n",
      "1. 공식 애플 웹사이트\n",
      "2. 맥북에 대한 전문가 리뷰\n",
      "3. 인기 블로그 게시물 및 포럼 토론\n",
      "\n",
      "### 행동 요구\n",
      "\n",
      "생산성을 더 높이고 싶나요? 오늘 맥북에 투자하고 효율성과 성능을 향상시킬 차이를 경험해보세요!\u001b[0m\n",
      "\n",
      "\u001b[1m> Finished chain.\u001b[0m\n",
      "\u001b[1m\u001b[92m [DEBUG]: == [Editor] Task output: # 왜 맥북을 구매해야 하는가: 생산성과 성능 향상\n",
      "\n",
      "## 소개\n",
      "\n",
      "현재의 빠르게 변화하는 디지털 세계에서 생산성을 향상시키는 올바른 도구를 갖는 것은 중요합니다. 디자이너, 프로그래머, 비즈니스 전문가들 사이에서 엄청난 인기를 얻은 하나의 도구가 바로 맥북입니다. 슬릭한 디자인과 강력한 성능으로 맥북은 워크플로우와 효율성을 현저히 향상시킬 수 있는 다양한 혜택을 제공합니다.\n",
      "\n",
      "## 현재 트렌드\n",
      "\n",
      "맥북에 대한 수요는 꾸준히 증가하고 있으며, 점점 더 많은 사용자들이 전문적인 또는 개인적인 필요에 맞춰 이러한 장치를 선택하고 있습니다. 크리에이티브 전문가부터 기업 임원까지, 맥북은 신뢰할 수 있고 고성능의 노트북을 찾는 사람들에게 가장 인기 있는 선택지가 되었습니다.\n",
      "\n",
      "## 주요 특징\n",
      "\n",
      "### 성능과 디자인\n",
      "\n",
      "맥북의 높은 성능 능력은 그 중요한 특징 중 하나입니다. 최신 프로세서와 최첨단 기술로 구동되는 맥북은 빠른 속도와 원활한 멀티태스킹 능력을 제공합니다. 게다가 맥북의 세련되고 스타일리시한 디자인은 미학과 기능성을 둘 다 중요시하는 전문가들에게 매력적인 액세서리가 되었습니다.\n",
      "\n",
      "### 생산성 향상\n",
      "\n",
      "일을 위해 노트북을 의존하는 사용자들에게 맥북은 다양한 생산성 향상 기능을 제공합니다. 직관적인 macOS 운영 체제부터 다른 Apple 장치와의 원활한 통합까지, 맥북은 워크플로우를 최적화하고 작업에 집중하고 조직적으로 유지할 수 있도록 설계되었습니다.\n",
      "\n",
      "### 맥북 선택: 궁극의 결정\n",
      "\n",
      "뛰어난 성능, 멋진 디자인, 그리고 생산성 도구 생태계를 갖춘 맥북을 선택하는 것은 당신의 일과 개인 생활에 상당한 영향을 줄 수 있는 결정입니다. 창작물 프로젝트에 신뢰할 수 있는 장치를 찾는 디자이너이든, 고성능 노트북이 필요한 비즈니스 전문가이든, 맥북은 당신의 요구 사항을 충족시킬 수 있는 다재다능하고 강력한 도구입니다.\n",
      "\n",
      "## 타겟 오디언스 분석\n",
      "\n",
      "### 디자이너, 프로그래머, 비즈니스 전문가\n",
      "\n",
      "맥북은 요구하는 고성능 컴퓨팅을 필요로 하는 전문가들의 요구를 충족하기 위해 제작되었습니다. 디자이너는 맥북의 강력한 그래픽 기능을 활용할 수 있으며, 프로그래머는 효율적인 코딩 환경을 활용할 수 있습니다. 반면 비즈니스 전문가들은 맥북의 신뢰성과 보안 기능에 의지할 수 있습니다.\n",
      "\n",
      "### 생산성 수요가 높은 사용자\n",
      "\n",
      "여러 작업과 프로젝트를 동시에 처리해야 하는 개인들에게 맥북은 이상적인 선택입니다. 빠른 처리 속도, 원활한 멀티태스킹 능력, 그리고 오래가는 배터리 수명은 생산성과 효율성을 중요시하는 사용자들에게 최적의 선택지가 되었습니다.\n",
      "\n",
      "### 애플 애호가\n",
      "\n",
      "이미 애플 제품의 팬이라면, 맥북을 선택하는 것은 자연스러운 진화입니다. 아이폰, 아이패드와 같은 다른 애플 장치들과의 원활한 통합으로 맥북은 전체 사용자 경험과 생산성을 향상시키는 일관된 생태계를 제공합니다.\n",
      "\n",
      "## SEO 키워드\n",
      "\n",
      "- 맥북\n",
      "- 맥북 구매\n",
      "- 맥북 혜택\n",
      "- 맥북 생산성\n",
      "- 맥북 디자인\n",
      "\n",
      "## 참고문헌\n",
      "\n",
      "1. 공식 애플 웹사이트\n",
      "2. 맥북에 대한 전문가 리뷰\n",
      "3. 인기 블로그 게시물 및 포럼 토론\n",
      "\n",
      "### 행동 요구\n",
      "\n",
      "생산성을 더 높이고 싶나요? 오늘 맥북에 투자하고 효율성과 성능을 향상시킬 차이를 경험해보세요!\n",
      "\n",
      "\u001b[00m\n"
     ]
    }
   ],
   "source": [
    "result = crew.kickoff(inputs={\"topic\": \"맥북을 사야하는 이유\"})"
   ]
  },
  {
   "cell_type": "markdown",
   "metadata": {},
   "source": [
    "- Display the results of your execution as markdown in the notebook."
   ]
  },
  {
   "cell_type": "code",
   "execution_count": 16,
   "metadata": {
    "height": 47
   },
   "outputs": [
    {
     "data": {
      "text/markdown": [
       "# The Future of Artificial Intelligence: Latest Trends, Key Players, and Noteworthy News\n",
       "\n",
       "## Introduction\n",
       "Artificial Intelligence (AI) is a rapidly evolving field that has the potential to revolutionize various industries. Defined as the simulation of human intelligence processes by machines, AI is becoming increasingly important in sectors such as healthcare, finance, and transportation. In this blog post, we will explore the latest trends and key players in the AI industry, shedding light on the advancements that are shaping the future of technology.\n",
       "\n",
       "## Latest Trends in Artificial Intelligence\n",
       "One of the most significant trends in AI is the advancements in machine learning, which enable computers to learn from data and improve their performance over time. Natural language processing is also a key area of development, allowing machines to understand and generate human language. Furthermore, the integration of robotics and automation in AI systems is paving the way for more efficient and productive processes. However, as AI technologies continue to advance, ethical considerations surrounding their use become increasingly important.\n",
       "\n",
       "## Key Players in the AI Industry\n",
       "Some of the leading players in the AI industry include Google DeepMind, known for its groundbreaking research in AI and machine learning. IBM Watson is another key player, offering AI-powered solutions for businesses across various sectors. Microsoft Azure AI and Amazon Web Services AI are also prominent names in the industry, providing cloud-based AI services to organizations worldwide. These key players are driving innovation and shaping the future of AI technology.\n",
       "\n",
       "## Noteworthy News in Artificial Intelligence\n",
       "Recent breakthroughs in AI research include the development of advanced neural networks and deep learning algorithms. However, the increasing integration of AI in the job market raises concerns about the impact on employment opportunities. Regulatory updates in AI technology aim to address these concerns and ensure the responsible use of AI in society. Staying informed about these developments is crucial for professionals, business leaders, and researchers interested in the future of AI.\n",
       "\n",
       "## Conclusion\n",
       "In conclusion, Artificial Intelligence is a rapidly evolving field with the potential to transform industries and improve efficiency. By staying updated on the latest trends, key players, and noteworthy news in AI, individuals can gain valuable insights into the future of technology. Whether you are a professional in the tech industry, a business leader, or a student/researcher, understanding the advancements in AI is essential for staying ahead in the digital age. Subscribe to our newsletter for regular updates on Artificial Intelligence trends and advancements.\n",
       "\n",
       "**Call to Action:** Stay informed on the latest trends and advancements in Artificial Intelligence by subscribing to our newsletter for regular updates."
      ],
      "text/plain": [
       "<IPython.core.display.Markdown object>"
      ]
     },
     "execution_count": 16,
     "metadata": {},
     "output_type": "execute_result"
    }
   ],
   "source": [
    "from IPython.display import Markdown\n",
    "Markdown(result)"
   ]
  },
  {
   "cell_type": "markdown",
   "metadata": {},
   "source": [
    "## Try it Yourself\n",
    "\n",
    "- Pass in a topic of your choice and see what the agents come up with!"
   ]
  },
  {
   "cell_type": "code",
   "execution_count": 17,
   "metadata": {
    "height": 47
   },
   "outputs": [
    {
     "name": "stdout",
     "output_type": "stream",
     "text": [
      "\u001b[1m\u001b[95m [DEBUG]: == Working Agent: Content Planner\u001b[00m\n",
      "\u001b[1m\u001b[95m [INFO]: == Starting Task: 1. Prioritize the latest trends, key players, and noteworthy news on YOUR TOPIC HERE.\n",
      "2. Identify the target audience, considering their interests and pain points.\n",
      "3. Develop a detailed content outline including an introduction, key points, and a call to action.\n",
      "4. Include SEO keywords and relevant data or sources.\u001b[00m\n",
      "\n",
      "\n",
      "\u001b[1m> Entering new CrewAgentExecutor chain...\u001b[0m\n",
      "\u001b[32;1m\u001b[1;3mI now can give a great answer\n",
      "\n",
      "Final Answer: \n",
      "\n",
      "Content Plan Document\n",
      "\n",
      "Title: Exploring the Latest Trends in Technology\n",
      "\n",
      "Outline:\n",
      "I. Introduction\n",
      "- Brief overview of the importance of technology in today's society\n",
      "- Mention of the rapid pace of technological advancements\n",
      "- Thesis statement highlighting the need to stay updated on the latest trends\n",
      "\n",
      "II. Latest Trends in Technology\n",
      "- Artificial Intelligence and Machine Learning\n",
      "- Internet of Things (IoT)\n",
      "- 5G Technology\n",
      "- Virtual Reality and Augmented Reality\n",
      "- Cybersecurity advancements\n",
      "\n",
      "III. Key Players in the Industry\n",
      "- Google\n",
      "- Apple\n",
      "- Microsoft\n",
      "- Amazon\n",
      "- Tesla\n",
      "\n",
      "IV. Noteworthy News\n",
      "- Recent product launches or updates\n",
      "- Mergers and acquisitions in the tech industry\n",
      "- Tech events and conferences\n",
      "\n",
      "V. Target Audience Analysis\n",
      "- Tech enthusiasts and professionals\n",
      "- Small business owners looking to integrate technology\n",
      "- Students studying technology-related fields\n",
      "- Anyone interested in staying updated on the latest tech trends\n",
      "\n",
      "VI. SEO Keywords\n",
      "- Latest technology trends\n",
      "- Tech news updates\n",
      "- Technology industry insights\n",
      "- Top tech companies\n",
      "- Future of technology\n",
      "\n",
      "VII. Call to Action\n",
      "- Encourage readers to subscribe for regular updates on technology trends\n",
      "- Prompt them to share the article on social media\n",
      "- Invite them to leave comments with their thoughts on the latest tech trends\n",
      "\n",
      "VIII. Resources\n",
      "- TechCrunch\n",
      "- Wired\n",
      "- Forbes Technology\n",
      "- MIT Technology Review\n",
      "- IEEE Spectrum\n",
      "\n",
      "This comprehensive content plan document includes an outline of the blog article on the latest trends in technology, an analysis of the target audience, relevant SEO keywords, and recommended resources for further information.\u001b[0m\n",
      "\n",
      "\u001b[1m> Finished chain.\u001b[0m\n",
      "\u001b[1m\u001b[92m [DEBUG]: == [Content Planner] Task output: Content Plan Document\n",
      "\n",
      "Title: Exploring the Latest Trends in Technology\n",
      "\n",
      "Outline:\n",
      "I. Introduction\n",
      "- Brief overview of the importance of technology in today's society\n",
      "- Mention of the rapid pace of technological advancements\n",
      "- Thesis statement highlighting the need to stay updated on the latest trends\n",
      "\n",
      "II. Latest Trends in Technology\n",
      "- Artificial Intelligence and Machine Learning\n",
      "- Internet of Things (IoT)\n",
      "- 5G Technology\n",
      "- Virtual Reality and Augmented Reality\n",
      "- Cybersecurity advancements\n",
      "\n",
      "III. Key Players in the Industry\n",
      "- Google\n",
      "- Apple\n",
      "- Microsoft\n",
      "- Amazon\n",
      "- Tesla\n",
      "\n",
      "IV. Noteworthy News\n",
      "- Recent product launches or updates\n",
      "- Mergers and acquisitions in the tech industry\n",
      "- Tech events and conferences\n",
      "\n",
      "V. Target Audience Analysis\n",
      "- Tech enthusiasts and professionals\n",
      "- Small business owners looking to integrate technology\n",
      "- Students studying technology-related fields\n",
      "- Anyone interested in staying updated on the latest tech trends\n",
      "\n",
      "VI. SEO Keywords\n",
      "- Latest technology trends\n",
      "- Tech news updates\n",
      "- Technology industry insights\n",
      "- Top tech companies\n",
      "- Future of technology\n",
      "\n",
      "VII. Call to Action\n",
      "- Encourage readers to subscribe for regular updates on technology trends\n",
      "- Prompt them to share the article on social media\n",
      "- Invite them to leave comments with their thoughts on the latest tech trends\n",
      "\n",
      "VIII. Resources\n",
      "- TechCrunch\n",
      "- Wired\n",
      "- Forbes Technology\n",
      "- MIT Technology Review\n",
      "- IEEE Spectrum\n",
      "\n",
      "This comprehensive content plan document includes an outline of the blog article on the latest trends in technology, an analysis of the target audience, relevant SEO keywords, and recommended resources for further information.\n",
      "\n",
      "\u001b[00m\n",
      "\u001b[1m\u001b[95m [DEBUG]: == Working Agent: Content Writer\u001b[00m\n",
      "\u001b[1m\u001b[95m [INFO]: == Starting Task: 1. Use the content plan to craft a compelling blog post on YOUR TOPIC HERE.\n",
      "2. Incorporate SEO keywords naturally.\n",
      "3. Sections/Subtitles are properly named in an engaging manner.\n",
      "4. Ensure the post is structured with an engaging introduction, insightful body, and a summarizing conclusion.\n",
      "5. Proofread for grammatical errors and alignment with the brand's voice.\n",
      "\u001b[00m\n",
      "\n",
      "\n",
      "\u001b[1m> Entering new CrewAgentExecutor chain...\u001b[0m\n",
      "\u001b[32;1m\u001b[1;3mI now can give a great answer \n",
      "\n",
      "Final Answer:\n",
      "# Exploring the Latest Trends in Technology\n",
      "\n",
      "In today's fast-paced society, technology plays a crucial role in shaping our daily lives. From communication to entertainment, and even business operations, the impact of technological advancements is undeniable. With the ever-evolving landscape of technology, it is essential to stay informed about the latest trends to remain competitive and relevant. This blog will delve into some of the most significant trends in technology, key players in the industry, noteworthy news, and target audience analysis to provide valuable insights for tech enthusiasts and professionals alike.\n",
      "\n",
      "## Latest Trends in Technology\n",
      "\n",
      "### Artificial Intelligence and Machine Learning\n",
      "Artificial Intelligence (AI) and Machine Learning have been at the forefront of technological innovation in recent years. From virtual assistants to predictive analytics, AI has revolutionized various industries by enabling automation and intelligent decision-making processes. Machine learning algorithms, on the other hand, have paved the way for advancements in data analysis and pattern recognition, leading to more personalized user experiences.\n",
      "\n",
      "### Internet of Things (IoT)\n",
      "The Internet of Things (IoT) has transformed the way we interact with everyday objects by connecting them to the internet. From smart homes to wearable devices, IoT technology has enhanced convenience and efficiency in our lives. With the increasing adoption of IoT devices, the need for robust cybersecurity measures to protect sensitive data has become more critical than ever.\n",
      "\n",
      "### 5G Technology\n",
      "The rollout of 5G technology has ushered in a new era of connectivity with faster speeds and lower latency. This advancement is set to revolutionize industries such as healthcare, manufacturing, and transportation by enabling real-time communication and the widespread adoption of IoT devices. As 5G networks continue to expand globally, the potential for innovation and disruption across various sectors is immense.\n",
      "\n",
      "### Virtual Reality and Augmented Reality\n",
      "Virtual Reality (VR) and Augmented Reality (AR) have redefined the way we experience digital content and interact with our surroundings. From immersive gaming experiences to virtual training simulations, VR and AR technologies have endless applications across entertainment, education, and business. As these technologies become more accessible and affordable, the possibilities for creative expression and collaboration are endless.\n",
      "\n",
      "### Cybersecurity Advancements\n",
      "With the increasing prevalence of cyber threats and data breaches, cybersecurity advancements have become a top priority for businesses and individuals alike. From advanced encryption techniques to threat detection algorithms, cybersecurity solutions are continuously evolving to safeguard sensitive information and protect against malicious attacks. As technology continues to advance, staying ahead of cybersecurity threats is essential for maintaining trust and security in the digital age.\n",
      "\n",
      "Stay tuned for the next part of this blog post, where we will explore the key players in the industry, noteworthy news, and target audience analysis to provide a comprehensive overview of the latest trends in technology. Don't miss out on the opportunity to stay informed and engaged with the dynamic world of technology!\n",
      "\n",
      "Stay tuned for the next part of this blog post, where we will explore the key players in the industry, noteworthy news, and target audience analysis to provide a comprehensive overview of the latest trends in technology. Don't miss out on the opportunity to stay informed and engaged with the dynamic world of technology!\u001b[0m\n",
      "\n",
      "\u001b[1m> Finished chain.\u001b[0m\n",
      "\u001b[1m\u001b[92m [DEBUG]: == [Content Writer] Task output: # Exploring the Latest Trends in Technology\n",
      "\n",
      "In today's fast-paced society, technology plays a crucial role in shaping our daily lives. From communication to entertainment, and even business operations, the impact of technological advancements is undeniable. With the ever-evolving landscape of technology, it is essential to stay informed about the latest trends to remain competitive and relevant. This blog will delve into some of the most significant trends in technology, key players in the industry, noteworthy news, and target audience analysis to provide valuable insights for tech enthusiasts and professionals alike.\n",
      "\n",
      "## Latest Trends in Technology\n",
      "\n",
      "### Artificial Intelligence and Machine Learning\n",
      "Artificial Intelligence (AI) and Machine Learning have been at the forefront of technological innovation in recent years. From virtual assistants to predictive analytics, AI has revolutionized various industries by enabling automation and intelligent decision-making processes. Machine learning algorithms, on the other hand, have paved the way for advancements in data analysis and pattern recognition, leading to more personalized user experiences.\n",
      "\n",
      "### Internet of Things (IoT)\n",
      "The Internet of Things (IoT) has transformed the way we interact with everyday objects by connecting them to the internet. From smart homes to wearable devices, IoT technology has enhanced convenience and efficiency in our lives. With the increasing adoption of IoT devices, the need for robust cybersecurity measures to protect sensitive data has become more critical than ever.\n",
      "\n",
      "### 5G Technology\n",
      "The rollout of 5G technology has ushered in a new era of connectivity with faster speeds and lower latency. This advancement is set to revolutionize industries such as healthcare, manufacturing, and transportation by enabling real-time communication and the widespread adoption of IoT devices. As 5G networks continue to expand globally, the potential for innovation and disruption across various sectors is immense.\n",
      "\n",
      "### Virtual Reality and Augmented Reality\n",
      "Virtual Reality (VR) and Augmented Reality (AR) have redefined the way we experience digital content and interact with our surroundings. From immersive gaming experiences to virtual training simulations, VR and AR technologies have endless applications across entertainment, education, and business. As these technologies become more accessible and affordable, the possibilities for creative expression and collaboration are endless.\n",
      "\n",
      "### Cybersecurity Advancements\n",
      "With the increasing prevalence of cyber threats and data breaches, cybersecurity advancements have become a top priority for businesses and individuals alike. From advanced encryption techniques to threat detection algorithms, cybersecurity solutions are continuously evolving to safeguard sensitive information and protect against malicious attacks. As technology continues to advance, staying ahead of cybersecurity threats is essential for maintaining trust and security in the digital age.\n",
      "\n",
      "Stay tuned for the next part of this blog post, where we will explore the key players in the industry, noteworthy news, and target audience analysis to provide a comprehensive overview of the latest trends in technology. Don't miss out on the opportunity to stay informed and engaged with the dynamic world of technology!\n",
      "\n",
      "Stay tuned for the next part of this blog post, where we will explore the key players in the industry, noteworthy news, and target audience analysis to provide a comprehensive overview of the latest trends in technology. Don't miss out on the opportunity to stay informed and engaged with the dynamic world of technology!\n",
      "\n",
      "\u001b[00m\n",
      "\u001b[1m\u001b[95m [DEBUG]: == Working Agent: Editor\u001b[00m\n",
      "\u001b[1m\u001b[95m [INFO]: == Starting Task: Proofread the given blog post for grammatical errors and alignment with the brand's voice.\u001b[00m\n",
      "\n",
      "\n",
      "\u001b[1m> Entering new CrewAgentExecutor chain...\u001b[0m\n",
      "\u001b[32;1m\u001b[1;3mI now can give a great answer\n",
      "\n",
      "Final Answer:\n",
      "\n",
      "# Exploring the Latest Trends in Technology\n",
      "\n",
      "In today's fast-paced society, technology plays a crucial role in shaping our daily lives. From communication to entertainment, and even business operations, the impact of technological advancements is undeniable. With the ever-evolving landscape of technology, it is essential to stay informed about the latest trends to remain competitive and relevant. This blog will delve into some of the most significant trends in technology, key players in the industry, noteworthy news, and target audience analysis to provide valuable insights for tech enthusiasts and professionals alike.\n",
      "\n",
      "## Latest Trends in Technology\n",
      "\n",
      "### Artificial Intelligence and Machine Learning\n",
      "Artificial Intelligence (AI) and Machine Learning have been at the forefront of technological innovation in recent years. From virtual assistants to predictive analytics, AI has revolutionized various industries by enabling automation and intelligent decision-making processes. Machine learning algorithms, on the other hand, have paved the way for advancements in data analysis and pattern recognition, leading to more personalized user experiences.\n",
      "\n",
      "### Internet of Things (IoT)\n",
      "The Internet of Things (IoT) has transformed the way we interact with everyday objects by connecting them to the internet. From smart homes to wearable devices, IoT technology has enhanced convenience and efficiency in our lives. With the increasing adoption of IoT devices, the need for robust cybersecurity measures to protect sensitive data has become more critical than ever.\n",
      "\n",
      "### 5G Technology\n",
      "The rollout of 5G technology has ushered in a new era of connectivity with faster speeds and lower latency. This advancement is set to revolutionize industries such as healthcare, manufacturing, and transportation by enabling real-time communication and the widespread adoption of IoT devices. As 5G networks continue to expand globally, the potential for innovation and disruption across various sectors is immense.\n",
      "\n",
      "### Virtual Reality and Augmented Reality\n",
      "Virtual Reality (VR) and Augmented Reality (AR) have redefined the way we experience digital content and interact with our surroundings. From immersive gaming experiences to virtual training simulations, VR and AR technologies have endless applications across entertainment, education, and business. As these technologies become more accessible and affordable, the possibilities for creative expression and collaboration are endless.\n",
      "\n",
      "### Cybersecurity Advancements\n",
      "With the increasing prevalence of cyber threats and data breaches, cybersecurity advancements have become a top priority for businesses and individuals alike. From advanced encryption techniques to threat detection algorithms, cybersecurity solutions are continuously evolving to safeguard sensitive information and protect against malicious attacks. As technology continues to advance, staying ahead of cybersecurity threats is essential for maintaining trust and security in the digital age.\n",
      "\n",
      "Stay tuned for the next part of this blog post, where we will explore the key players in the industry, noteworthy news, and target audience analysis to provide a comprehensive overview of the latest trends in technology. Don't miss out on the opportunity to stay informed and engaged with the dynamic world of technology!\u001b[0m\n",
      "\n",
      "\u001b[1m> Finished chain.\u001b[0m\n",
      "\u001b[1m\u001b[92m [DEBUG]: == [Editor] Task output: # Exploring the Latest Trends in Technology\n",
      "\n",
      "In today's fast-paced society, technology plays a crucial role in shaping our daily lives. From communication to entertainment, and even business operations, the impact of technological advancements is undeniable. With the ever-evolving landscape of technology, it is essential to stay informed about the latest trends to remain competitive and relevant. This blog will delve into some of the most significant trends in technology, key players in the industry, noteworthy news, and target audience analysis to provide valuable insights for tech enthusiasts and professionals alike.\n",
      "\n",
      "## Latest Trends in Technology\n",
      "\n",
      "### Artificial Intelligence and Machine Learning\n",
      "Artificial Intelligence (AI) and Machine Learning have been at the forefront of technological innovation in recent years. From virtual assistants to predictive analytics, AI has revolutionized various industries by enabling automation and intelligent decision-making processes. Machine learning algorithms, on the other hand, have paved the way for advancements in data analysis and pattern recognition, leading to more personalized user experiences.\n",
      "\n",
      "### Internet of Things (IoT)\n",
      "The Internet of Things (IoT) has transformed the way we interact with everyday objects by connecting them to the internet. From smart homes to wearable devices, IoT technology has enhanced convenience and efficiency in our lives. With the increasing adoption of IoT devices, the need for robust cybersecurity measures to protect sensitive data has become more critical than ever.\n",
      "\n",
      "### 5G Technology\n",
      "The rollout of 5G technology has ushered in a new era of connectivity with faster speeds and lower latency. This advancement is set to revolutionize industries such as healthcare, manufacturing, and transportation by enabling real-time communication and the widespread adoption of IoT devices. As 5G networks continue to expand globally, the potential for innovation and disruption across various sectors is immense.\n",
      "\n",
      "### Virtual Reality and Augmented Reality\n",
      "Virtual Reality (VR) and Augmented Reality (AR) have redefined the way we experience digital content and interact with our surroundings. From immersive gaming experiences to virtual training simulations, VR and AR technologies have endless applications across entertainment, education, and business. As these technologies become more accessible and affordable, the possibilities for creative expression and collaboration are endless.\n",
      "\n",
      "### Cybersecurity Advancements\n",
      "With the increasing prevalence of cyber threats and data breaches, cybersecurity advancements have become a top priority for businesses and individuals alike. From advanced encryption techniques to threat detection algorithms, cybersecurity solutions are continuously evolving to safeguard sensitive information and protect against malicious attacks. As technology continues to advance, staying ahead of cybersecurity threats is essential for maintaining trust and security in the digital age.\n",
      "\n",
      "Stay tuned for the next part of this blog post, where we will explore the key players in the industry, noteworthy news, and target audience analysis to provide a comprehensive overview of the latest trends in technology. Don't miss out on the opportunity to stay informed and engaged with the dynamic world of technology!\n",
      "\n",
      "\u001b[00m\n"
     ]
    }
   ],
   "source": [
    "topic = \"YOUR TOPIC HERE\"\n",
    "result = crew.kickoff(inputs={\"topic\": topic})"
   ]
  },
  {
   "cell_type": "code",
   "execution_count": null,
   "metadata": {
    "height": 30
   },
   "outputs": [],
   "source": [
    "Markdown(result)"
   ]
  },
  {
   "cell_type": "markdown",
   "metadata": {},
   "source": [
    "<a name='1'></a>\n",
    " ## Other Popular Models as LLM for your Agents"
   ]
  },
  {
   "cell_type": "markdown",
   "metadata": {},
   "source": [
    "#### Hugging Face (HuggingFaceHub endpoint)\n",
    "\n",
    "```Python\n",
    "from langchain_community.llms import HuggingFaceHub\n",
    "\n",
    "llm = HuggingFaceHub(\n",
    "    repo_id=\"HuggingFaceH4/zephyr-7b-beta\",\n",
    "    huggingfacehub_api_token=\"<HF_TOKEN_HERE>\",\n",
    "    task=\"text-generation\",\n",
    ")\n",
    "\n",
    "### you will pass \"llm\" to your agent function\n",
    "```"
   ]
  },
  {
   "cell_type": "markdown",
   "metadata": {},
   "source": [
    "#### Mistral API\n",
    "\n",
    "```Python\n",
    "OPENAI_API_KEY=your-mistral-api-key\n",
    "OPENAI_API_BASE=https://api.mistral.ai/v1\n",
    "OPENAI_MODEL_NAME=\"mistral-small\"\n",
    "```"
   ]
  },
  {
   "cell_type": "markdown",
   "metadata": {},
   "source": [
    "#### Cohere\n",
    "\n",
    "```Python\n",
    "from langchain_community.chat_models import ChatCohere\n",
    "# Initialize language model\n",
    "os.environ[\"COHERE_API_KEY\"] = \"your-cohere-api-key\"\n",
    "llm = ChatCohere()\n",
    "\n",
    "### you will pass \"llm\" to your agent function\n",
    "```"
   ]
  },
  {
   "cell_type": "markdown",
   "metadata": {},
   "source": [
    "### For using Llama locally with Ollama and more, checkout the crewAI documentation on [Connecting to any LLM](https://docs.crewai.com/how-to/LLM-Connections/)."
   ]
  },
  {
   "cell_type": "code",
   "execution_count": null,
   "metadata": {
    "height": 30
   },
   "outputs": [],
   "source": []
  },
  {
   "cell_type": "code",
   "execution_count": null,
   "metadata": {
    "height": 30
   },
   "outputs": [],
   "source": []
  },
  {
   "cell_type": "code",
   "execution_count": null,
   "metadata": {
    "height": 30
   },
   "outputs": [],
   "source": []
  }
 ],
 "metadata": {
  "colab": {
   "gpuType": "T4",
   "provenance": []
  },
  "kernelspec": {
   "display_name": "tw311",
   "language": "python",
   "name": "tw311"
  },
  "language_info": {
   "codemirror_mode": {
    "name": "ipython",
    "version": 3
   },
   "file_extension": ".py",
   "mimetype": "text/x-python",
   "name": "python",
   "nbconvert_exporter": "python",
   "pygments_lexer": "ipython3",
   "version": "3.11.8"
  }
 },
 "nbformat": 4,
 "nbformat_minor": 4
}
