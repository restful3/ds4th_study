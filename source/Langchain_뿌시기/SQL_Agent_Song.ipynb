{
 "cells": [
  {
   "cell_type": "markdown",
   "id": "05a84d76-25ad-4d69-821f-5b65ef23f772",
   "metadata": {},
   "source": [
    "# 라이블러리 불러오기"
   ]
  },
  {
   "cell_type": "code",
   "execution_count": 1,
   "id": "8a658e3a-26ea-454f-8908-5be20d9180eb",
   "metadata": {},
   "outputs": [],
   "source": [
    "import openai\n",
    "import os\n",
    "\n",
    "from dotenv import load_dotenv, find_dotenv\n",
    "_ = load_dotenv(find_dotenv()) # read local .env file\n",
    "\n",
    "openai.api_key  = os.getenv('OPENAI_API_KEY')"
   ]
  },
  {
   "cell_type": "markdown",
   "id": "605fcbc4-1572-4fb8-bd42-99835d30c9c2",
   "metadata": {},
   "source": [
    "# 사용 사례\n",
    "\n",
    "엔터프라이즈 데이터는 종종 SQL 데이터베이스에 저장됩니다.\n",
    "\n",
    "LLM을 사용하면 자연어를 사용하여 SQL 데이터베이스와 상호 작용할 수 있습니다.\n",
    "\n",
    "LangChain은 자연어 프롬프트를 기반으로 SQL 쿼리를 작성하고 실행할 수 있는 SQL 체인 및 에이전트를 제공합니다.\n",
    "\n",
    "이들은 SQLAlchemy에서 지원하는 모든 SQL 언어(예: MySQL, PostgreSQL, Oracle SQL, Databricks, SQLite)와 호환됩니다.\n",
    "\n",
    "다음과 같은 사용 사례를 지원합니다:\n",
    "\n",
    "- 자연어 질문을 기반으로 실행할 쿼리 생성\n",
    "- 데이터베이스 데이터를 기반으로 질문에 답변할 수 있는 챗봇 만들기\n",
    "- 사용자가 분석하고자 하는 인사이트를 기반으로 사용자 지정 대시보드 구축\n",
    "\n",
    "# 개요\n",
    "\n",
    "LangChain은 SQL 데이터베이스와 상호 작용할 수 있는 도구를 제공합니다:\n",
    "\n",
    "1. 자연어 사용자 질문을 기반으로 'SQL 쿼리 작성'\n",
    "2. 쿼리 생성 및 실행을 위해 체인을 사용하여 'SQL 데이터베이스 쿼리'를 수행합니다.\n",
    "3. 강력하고 유연한 쿼리를 위해 에이전트를 사용하여 'SQL 데이터베이스와 상호작용하기'\n",
    "\n",
    "\n",
    "# SQLite\n",
    "아래 예는 Chinook DB와의 SQLite 연결을 수행합니다.\n",
    "\n",
    "* [이 파일](https://www.sqlitetutorial.net/sqlite-sample-database/)을 디렉터리에 `chinook.db`로 저장합니다.\n",
    "\n",
    "이제 `chinook.db`가 디렉토리에 있습니다.\n",
    "\n",
    "SQL 쿼리를 생성하고 실행하기 위해 `SQLDatabaseChain`을 생성해 보겠습니다."
   ]
  },
  {
   "cell_type": "code",
   "execution_count": 11,
   "id": "2fb6bd5b-c02e-417a-bd28-1d04a9038669",
   "metadata": {},
   "outputs": [],
   "source": [
    "# ! pip install langchain langchain-experimental openai"
   ]
  },
  {
   "cell_type": "code",
   "execution_count": 7,
   "id": "ba2d7afd-916c-49f7-bbba-667cad3bebac",
   "metadata": {},
   "outputs": [],
   "source": [
    "from langchain.llms import OpenAI\n",
    "from langchain.utilities import SQLDatabase\n",
    "from langchain_experimental.sql import SQLDatabaseChain\n",
    "\n",
    "db = SQLDatabase.from_uri(\"sqlite:///chinook.db\")\n",
    "llm = OpenAI(temperature=0, verbose=True)\n",
    "db_chain = SQLDatabaseChain.from_llm(llm, db, verbose=True)"
   ]
  },
  {
   "cell_type": "code",
   "execution_count": 8,
   "id": "cd12d201-b024-461a-8d14-fd2d3eddeb25",
   "metadata": {},
   "outputs": [
    {
     "name": "stdout",
     "output_type": "stream",
     "text": [
      "\n",
      "\n",
      "\u001b[1m> Entering new SQLDatabaseChain chain...\u001b[0m\n",
      "몇명의 직원이 있어?\n",
      "SQLQuery:\u001b[32;1m\u001b[1;3mSELECT COUNT(*) FROM employees\u001b[0m\n",
      "SQLResult: \u001b[33;1m\u001b[1;3m[(8,)]\u001b[0m\n",
      "Answer:\u001b[32;1m\u001b[1;3m8\u001b[0m\n",
      "\u001b[1m> Finished chain.\u001b[0m\n"
     ]
    },
    {
     "data": {
      "text/plain": [
       "'8'"
      ]
     },
     "execution_count": 8,
     "metadata": {},
     "output_type": "execute_result"
    }
   ],
   "source": [
    "db_chain.run(\"몇명의 직원이 있어?\")"
   ]
  },
  {
   "cell_type": "code",
   "execution_count": 12,
   "id": "1cc50ea1-e8e7-4732-b598-aa2fdebada3c",
   "metadata": {},
   "outputs": [
    {
     "name": "stdout",
     "output_type": "stream",
     "text": [
      "\n",
      "\n",
      "\u001b[1m> Entering new SQLDatabaseChain chain...\u001b[0m\n",
      "10개의 raw 를 랜덤으로 골라서, dataframe 형식으로 출력해줘\n",
      "SQLQuery:\u001b[32;1m\u001b[1;3mSELECT * FROM tracks ORDER BY RANDOM() LIMIT 10\u001b[0m\n",
      "SQLResult: \u001b[33;1m\u001b[1;3m[(2734, 'Substitute', 221, 1, 1, 'Pete Townshend', 228022, 7409995, 0.99), (1161, \"Don't Cry (Original)\", 91, 2, 1, None, 284744, 4833259, 0.99), (1187, 'My World', 92, 1, 3, 'W. Axl Rose', 84532, 2764045, 0.99), (817, 'Lick It Up', 66, 1, 1, 'roger glover', 240274, 7792604, 0.99), (1480, 'Manic Depression', 120, 1, 1, 'Jimi Hendrix', 222302, 7289272, 0.99), (2013, 'On A Plain', 164, 1, 1, 'Kurt Cobain', 196440, 6390635, 0.99), (573, 'Africa Bamba', 46, 1, 1, 'I. Toure, S. Tidiane Toure, Carlos Santana & K. Perazzo', 282827, 9492487, 0.99), (2444, 'Your Mirror', 141, 1, 1, 'Mick Hucknall', 240666, 7893821, 0.99), (855, 'Fato Consumado', 69, 1, 7, None, 211565, 7018586, 0.99), (1997, 'Milk It', 163, 1, 1, 'Kurt Cobain', 225724, 7406945, 0.99)]\u001b[0m\n",
      "Answer:\u001b[32;1m\u001b[1;3mThe result is a dataframe with 10 randomly selected rows from the tracks table.\u001b[0m\n",
      "\u001b[1m> Finished chain.\u001b[0m\n"
     ]
    },
    {
     "data": {
      "text/plain": [
       "'The result is a dataframe with 10 randomly selected rows from the tracks table.'"
      ]
     },
     "execution_count": 12,
     "metadata": {},
     "output_type": "execute_result"
    }
   ],
   "source": [
    "db_chain.run(\"10개의 raw 를 랜덤으로 골라서, dataframe 형식으로 출력해줘\")"
   ]
  },
  {
   "cell_type": "markdown",
   "id": "b6c229fd-2d44-44a4-8570-02e6974c89ed",
   "metadata": {},
   "source": [
    "# Case 1: Text-to-SQL query\n",
    "**SQL** 쿼리를 작성할 체인을 만들어 보겠습니다:"
   ]
  },
  {
   "cell_type": "code",
   "execution_count": 9,
   "id": "70c28d9f-6cac-491c-b23b-d53f6e8f46d4",
   "metadata": {},
   "outputs": [],
   "source": [
    "from langchain.chains import create_sql_query_chain\n",
    "from langchain.chat_models import ChatOpenAI"
   ]
  },
  {
   "cell_type": "code",
   "execution_count": 13,
   "id": "2e7577d6-dd6c-4b80-8f18-b8403f49a0f4",
   "metadata": {},
   "outputs": [
    {
     "name": "stdout",
     "output_type": "stream",
     "text": [
      "SELECT COUNT(*) FROM employees\n"
     ]
    }
   ],
   "source": [
    "chain = create_sql_query_chain(ChatOpenAI(temperature=0), db)\n",
    "response = chain.invoke({\"question\": \"How many employees are there\"})\n",
    "print(response)"
   ]
  },
  {
   "cell_type": "markdown",
   "id": "9a711d66-4355-4f69-baea-09733a068019",
   "metadata": {},
   "source": [
    "- 사용자 질문을 기반으로 SQL 쿼리를 작성하고 나면 쿼리를 실행할 수 있습니다:"
   ]
  },
  {
   "cell_type": "code",
   "execution_count": 14,
   "id": "320edccc-82a7-459f-9f09-2df226ece17e",
   "metadata": {},
   "outputs": [
    {
     "data": {
      "text/plain": [
       "'[(8,)]'"
      ]
     },
     "execution_count": 14,
     "metadata": {},
     "output_type": "execute_result"
    }
   ],
   "source": [
    "db.run(response)"
   ]
  },
  {
   "cell_type": "markdown",
   "id": "61398237-804a-4cd5-b1f4-7e930724a924",
   "metadata": {},
   "source": [
    "- 보시다시피 SQL 쿼리 빌더 체인은 쿼리를 **생성만**하고 **쿼리 실행**은 별도로 처리했습니다."
   ]
  },
  {
   "cell_type": "markdown",
   "id": "8174a1a3-1e72-40b1-beb3-b1b03d72b9af",
   "metadata": {},
   "source": [
    "# Case 2: Text-to-SQL query and execution\n",
    "- We can use `SQLDatabaseChain` from `langchain_experimental` to create and run SQL queries."
   ]
  },
  {
   "cell_type": "code",
   "execution_count": 15,
   "id": "fa6cf667-2280-4abe-9c4b-1cfd022c2b82",
   "metadata": {},
   "outputs": [],
   "source": [
    "from langchain.llms import OpenAI\n",
    "from langchain_experimental.sql import SQLDatabaseChain\n",
    "\n",
    "llm = OpenAI(temperature=0, verbose=True)\n",
    "db_chain = SQLDatabaseChain.from_llm(llm, db, verbose=True)"
   ]
  },
  {
   "cell_type": "code",
   "execution_count": 16,
   "id": "aad533ba-5313-4def-afd6-108197b274c8",
   "metadata": {},
   "outputs": [
    {
     "name": "stdout",
     "output_type": "stream",
     "text": [
      "\n",
      "\n",
      "\u001b[1m> Entering new SQLDatabaseChain chain...\u001b[0m\n",
      "직원이 몇명이나 있어?\n",
      "SQLQuery:\u001b[32;1m\u001b[1;3mSELECT COUNT(*) FROM employees\u001b[0m\n",
      "SQLResult: \u001b[33;1m\u001b[1;3m[(8,)]\u001b[0m\n",
      "Answer:\u001b[32;1m\u001b[1;3m8\u001b[0m\n",
      "\u001b[1m> Finished chain.\u001b[0m\n"
     ]
    },
    {
     "data": {
      "text/plain": [
       "'8'"
      ]
     },
     "execution_count": 16,
     "metadata": {},
     "output_type": "execute_result"
    }
   ],
   "source": [
    "db_chain.run(\"직원이 몇명이나 있어?\")"
   ]
  },
  {
   "cell_type": "markdown",
   "id": "90eeb3de-89ca-4727-86f0-38cfdace2a38",
   "metadata": {},
   "source": [
    "- 여기서 체인은 **쿼리 실행도 처리**하고 사용자 질문과 쿼리 결과를 기반으로 최종 답변을 제공합니다.\n",
    "- 이 방식은 'SQL 인젝션'에 취약하기 때문에 사용 시 **주의**해야 합니다:\n",
    "\n",
    "* 체인이 LLM에 의해 생성되고 검증되지 않은 쿼리를 실행하고 있습니다.\n",
    "* 예: 레코드가 의도치 않게 생성, 수정 또는 삭제될 수 있음_.\n",
    "\n",
    "- 이것이 바로 `SQLDatabaseChain`이 `랭체인_실험` 안에 있는 이유입니다."
   ]
  },
  {
   "cell_type": "markdown",
   "id": "953b5e11-b1ca-4d87-bd70-c850f5ec9486",
   "metadata": {},
   "source": [
    "## 사례 3: SQL 에이전트\n",
    "\n",
    "- LangChain에는 `SQLDatabaseChain`보다 SQL 데이터베이스와 상호 작용하는 더 유연한 방법을 제공하는 SQL 에이전트가 있습니다.\n",
    "- SQL 에이전트 사용의 주요 장점은 다음과 같습니다:\n",
    "    - 데이터베이스의 스키마뿐만 아니라 데이터베이스의 콘텐츠(예: 특정 테이블 설명)를 기반으로 질문에 답변할 수 있습니다.\n",
    "    - 생성된 쿼리를 실행하고 트레이스백을 포착하여 올바르게 다시 생성함으로써 오류로부터 복구할 수 있습니다.\n",
    "- 에이전트를 초기화하기 위해 `create_sql_agent` 함수를 사용합니다.\n",
    "- 이 에이전트에는 다음과 같은 도구가 포함된 `SQLDatabaseToolkit`이 포함되어 있습니다:\n",
    "    * 쿼리 생성 및 실행\n",
    "    * 쿼리 구문 확인\n",
    "    * 테이블 설명 검색\n",
    "    * ... 등"
   ]
  },
  {
   "cell_type": "code",
   "execution_count": 18,
   "id": "737af1a7-a6cc-49d6-8500-e6877ed74f41",
   "metadata": {},
   "outputs": [],
   "source": [
    "from langchain.agents import create_sql_agent\n",
    "from langchain.agents.agent_toolkits import SQLDatabaseToolkit\n",
    "\n",
    "# from langchain.agents import AgentExecutor\n",
    "from langchain.agents.agent_types import AgentType\n",
    "\n",
    "db = SQLDatabase.from_uri(\"sqlite:///chinook.db\")\n",
    "\n",
    "agent_executor = create_sql_agent(\n",
    "    llm=OpenAI(temperature=0),\n",
    "    toolkit=SQLDatabaseToolkit(db=db, llm=OpenAI(temperature=0)),\n",
    "    verbose=True,\n",
    "    agent_type=AgentType.ZERO_SHOT_REACT_DESCRIPTION,\n",
    ")"
   ]
  },
  {
   "cell_type": "markdown",
   "id": "b5aa58f9-91f2-47c0-8d12-4eee7943c0b8",
   "metadata": {},
   "source": [
    "## Agent task example #1 - Running queries"
   ]
  },
  {
   "cell_type": "code",
   "execution_count": 19,
   "id": "842b1cfc-3ad2-4887-ac67-8edf1f65e760",
   "metadata": {},
   "outputs": [
    {
     "name": "stdout",
     "output_type": "stream",
     "text": [
      "\n",
      "\n",
      "\u001b[1m> Entering new AgentExecutor chain...\u001b[0m\n",
      "\u001b[32;1m\u001b[1;3mAction: sql_db_list_tables\n",
      "Action Input: \u001b[0m\n",
      "Observation: \u001b[38;5;200m\u001b[1;3malbums, artists, customers, employees, genres, invoice_items, invoices, media_types, playlist_track, playlists, tracks\u001b[0m\n",
      "Thought:\u001b[32;1m\u001b[1;3m I should query the schema of the customers table to see what columns I can use to get the total sales by country.\n",
      "Action: sql_db_schema\n",
      "Action Input: customers\u001b[0m\n",
      "Observation: \u001b[33;1m\u001b[1;3m\n",
      "CREATE TABLE customers (\n",
      "\t\"CustomerId\" INTEGER NOT NULL, \n",
      "\t\"FirstName\" NVARCHAR(40) NOT NULL, \n",
      "\t\"LastName\" NVARCHAR(20) NOT NULL, \n",
      "\t\"Company\" NVARCHAR(80), \n",
      "\t\"Address\" NVARCHAR(70), \n",
      "\t\"City\" NVARCHAR(40), \n",
      "\t\"State\" NVARCHAR(40), \n",
      "\t\"Country\" NVARCHAR(40), \n",
      "\t\"PostalCode\" NVARCHAR(10), \n",
      "\t\"Phone\" NVARCHAR(24), \n",
      "\t\"Fax\" NVARCHAR(24), \n",
      "\t\"Email\" NVARCHAR(60) NOT NULL, \n",
      "\t\"SupportRepId\" INTEGER, \n",
      "\tPRIMARY KEY (\"CustomerId\"), \n",
      "\tFOREIGN KEY(\"SupportRepId\") REFERENCES employees (\"EmployeeId\")\n",
      ")\n",
      "\n",
      "/*\n",
      "3 rows from customers table:\n",
      "CustomerId\tFirstName\tLastName\tCompany\tAddress\tCity\tState\tCountry\tPostalCode\tPhone\tFax\tEmail\tSupportRepId\n",
      "1\tLuís\tGonçalves\tEmbraer - Empresa Brasileira de Aeronáutica S.A.\tAv. Brigadeiro Faria Lima, 2170\tSão José dos Campos\tSP\tBrazil\t12227-000\t+55 (12) 3923-5555\t+55 (12) 3923-5566\tluisg@embraer.com.br\t3\n",
      "2\tLeonie\tKöhler\tNone\tTheodor-Heuss-Straße 34\tStuttgart\tNone\tGermany\t70174\t+49 0711 2842222\tNone\tleonekohler@surfeu.de\t5\n",
      "3\tFrançois\tTremblay\tNone\t1498 rue Bélanger\tMontréal\tQC\tCanada\tH2G 1A7\t+1 (514) 721-4711\tNone\tftremblay@gmail.com\t3\n",
      "*/\u001b[0m\n",
      "Thought:\u001b[32;1m\u001b[1;3m I should query the total sales by country using the invoices table and the customers table.\n",
      "Action: sql_db_query\n",
      "Action Input: SELECT customers.Country, SUM(invoices.Total) AS \"Total Sales\" FROM customers INNER JOIN invoices ON customers.CustomerId = invoices.CustomerId GROUP BY customers.Country ORDER BY \"Total Sales\" DESC LIMIT 1\u001b[0m\n",
      "Observation: \u001b[36;1m\u001b[1;3m[('USA', 523.0600000000004)]\u001b[0m\n",
      "Thought:\u001b[32;1m\u001b[1;3m I now know the final answer.\n",
      "Final Answer: USA\u001b[0m\n",
      "\n",
      "\u001b[1m> Finished chain.\u001b[0m\n"
     ]
    },
    {
     "data": {
      "text/plain": [
       "'USA'"
      ]
     },
     "execution_count": 19,
     "metadata": {},
     "output_type": "execute_result"
    }
   ],
   "source": [
    "agent_executor.run(\n",
    "    \"국가별 총 매출을 나열합니다. 어느 국가의 고객이 가장 많이 지출했나요?\"\n",
    ")"
   ]
  },
  {
   "cell_type": "markdown",
   "id": "e79bbf17-943d-4bb5-b0b9-91ffa093a5fc",
   "metadata": {},
   "source": [
    "## Agent task example #2 - Describing a Table"
   ]
  },
  {
   "cell_type": "code",
   "execution_count": 21,
   "id": "59b0ec5b-8113-4665-99b2-eddb1b30cafb",
   "metadata": {},
   "outputs": [
    {
     "name": "stdout",
     "output_type": "stream",
     "text": [
      "\n",
      "\n",
      "\u001b[1m> Entering new AgentExecutor chain...\u001b[0m\n",
      "\u001b[32;1m\u001b[1;3mAction: sql_db_list_tables\n",
      "Action Input: \u001b[0m\n",
      "Observation: \u001b[38;5;200m\u001b[1;3malbums, artists, customers, employees, genres, invoice_items, invoices, media_types, playlist_track, playlists, tracks\u001b[0m\n",
      "Thought:\u001b[32;1m\u001b[1;3m I should query the schema of the playlisttrack table.\n",
      "Action: sql_db_schema\n",
      "Action Input: playlisttrack\u001b[0m\n",
      "Observation: \u001b[33;1m\u001b[1;3mError: table_names {'playlisttrack'} not found in database\u001b[0m\n",
      "Thought:\u001b[32;1m\u001b[1;3m I should check the spelling of the table name.\n",
      "Action: sql_db_schema\n",
      "Action Input: playlist_track\u001b[0m\n",
      "Observation: \u001b[33;1m\u001b[1;3m\n",
      "CREATE TABLE playlist_track (\n",
      "\t\"PlaylistId\" INTEGER NOT NULL, \n",
      "\t\"TrackId\" INTEGER NOT NULL, \n",
      "\tPRIMARY KEY (\"PlaylistId\", \"TrackId\"), \n",
      "\tFOREIGN KEY(\"TrackId\") REFERENCES tracks (\"TrackId\"), \n",
      "\tFOREIGN KEY(\"PlaylistId\") REFERENCES playlists (\"PlaylistId\")\n",
      ")\n",
      "\n",
      "/*\n",
      "3 rows from playlist_track table:\n",
      "PlaylistId\tTrackId\n",
      "1\t3402\n",
      "1\t3389\n",
      "1\t3390\n",
      "*/\u001b[0m\n",
      "Thought:\u001b[32;1m\u001b[1;3m I should query the first 10 rows from the playlist_track table.\n",
      "Action: sql_db_query\n",
      "Action Input: SELECT * FROM playlist_track LIMIT 10\u001b[0m\n",
      "Observation: \u001b[36;1m\u001b[1;3m[(1, 3402), (1, 3389), (1, 3390), (1, 3391), (1, 3392), (1, 3393), (1, 3394), (1, 3395), (1, 3396), (1, 3397)]\u001b[0m\n",
      "Thought:\u001b[32;1m\u001b[1;3m I now know the final answer\n",
      "Final Answer: The playlisttrack table contains the PlaylistId and TrackId columns, with a primary key on both columns and foreign key references to the playlists and tracks tables. It also contains 3 sample rows with the PlaylistId of 1 and various TrackIds.\u001b[0m\n",
      "\n",
      "\u001b[1m> Finished chain.\u001b[0m\n"
     ]
    },
    {
     "data": {
      "text/plain": [
       "'The playlisttrack table contains the PlaylistId and TrackId columns, with a primary key on both columns and foreign key references to the playlists and tracks tables. It also contains 3 sample rows with the PlaylistId of 1 and various TrackIds.'"
      ]
     },
     "execution_count": 21,
     "metadata": {},
     "output_type": "execute_result"
    }
   ],
   "source": [
    "agent_executor.run(\"playlisttrack 테이블에 대해서 한국어로 설명해줄래?\")"
   ]
  },
  {
   "cell_type": "markdown",
   "id": "4c932c7d-23e6-4ec6-99c2-7cc536023c76",
   "metadata": {},
   "source": [
    "# SQL 툴킷 확장하기\n",
    "\n",
    "기본 제공되는 SQL 툴킷에는 데이터베이스 작업을 시작하는 데 필요한 도구가 포함되어 있지만, 에이전트의 기능을 확장하는 데 몇 가지 추가 도구가 유용할 수 있는 경우가 종종 있습니다. 이는 솔루션의 전반적인 성능을 개선하기 위해 솔루션에서 **도메인별 지식**을 사용하려고 할 때 특히 유용합니다.\n",
    "\n",
    "몇 가지 예는 다음과 같습니다:\n",
    "\n",
    "- Dynamic Few shot 예시 포함\n",
    "- 열 필터로 사용할 고유명사의 철자 오류 찾기\n",
    "\n",
    "이러한 특정 사용 사례를 처리하는 별도의 도구를 만들어 표준 SQL 도구 키트에 보완용으로 포함할 수 있습니다. 이 두 가지 사용자 정의 도구를 포함하는 방법을 살펴보겠습니다.\n",
    "\n",
    "#### Dynamic Few shot 예제 포함\n",
    "\n",
    "Dynamic Few shot 예제를 포함하려면 사용자의 질문과 의미적으로 유사한 예제를 검색하기 위해 벡터 데이터베이스를 처리하는 사용자 지정 **검색 도구**가 필요합니다.\n",
    "\n",
    "몇 가지 예제가 포함된 사전을 만드는 것부터 시작하겠습니다:"
   ]
  },
  {
   "cell_type": "code",
   "execution_count": 22,
   "id": "3bad3c5d-ce29-492e-94ff-baf9989cbe54",
   "metadata": {},
   "outputs": [],
   "source": [
    "few_shots = {\n",
    "    \"List all artists.\": \"SELECT * FROM artists;\",\n",
    "    \"Find all albums for the artist 'AC/DC'.\": \"SELECT * FROM albums WHERE ArtistId = (SELECT ArtistId FROM artists WHERE Name = 'AC/DC');\",\n",
    "    \"List all tracks in the 'Rock' genre.\": \"SELECT * FROM tracks WHERE GenreId = (SELECT GenreId FROM genres WHERE Name = 'Rock');\",\n",
    "    \"Find the total duration of all tracks.\": \"SELECT SUM(Milliseconds) FROM tracks;\",\n",
    "    \"List all customers from Canada.\": \"SELECT * FROM customers WHERE Country = 'Canada';\",\n",
    "    \"How many tracks are there in the album with ID 5?\": \"SELECT COUNT(*) FROM tracks WHERE AlbumId = 5;\",\n",
    "    \"Find the total number of invoices.\": \"SELECT COUNT(*) FROM invoices;\",\n",
    "    \"List all tracks that are longer than 5 minutes.\": \"SELECT * FROM tracks WHERE Milliseconds > 300000;\",\n",
    "    \"Who are the top 5 customers by total purchase?\": \"SELECT CustomerId, SUM(Total) AS TotalPurchase FROM invoices GROUP BY CustomerId ORDER BY TotalPurchase DESC LIMIT 5;\",\n",
    "    \"Which albums are from the year 2000?\": \"SELECT * FROM albums WHERE strftime('%Y', ReleaseDate) = '2000';\",\n",
    "    \"How many employees are there\": 'SELECT COUNT(*) FROM \"employee\"',\n",
    "}"
   ]
  },
  {
   "cell_type": "markdown",
   "id": "0a48e6e1-250d-4100-98d8-efa53708dda7",
   "metadata": {},
   "source": [
    "- 그런 다음 질문 목록을 사용하여 검색기를 생성하고 대상 SQL 쿼리를 메타데이터로 할당할 수 있습니다:"
   ]
  },
  {
   "cell_type": "code",
   "execution_count": 23,
   "id": "850e8b41-2ad7-4f71-9ecc-7fe8d3e933e3",
   "metadata": {},
   "outputs": [
    {
     "name": "stderr",
     "output_type": "stream",
     "text": [
      "/home/restful3/anaconda3/envs/trading/lib/python3.8/site-packages/langchain_core/_api/deprecation.py:117: LangChainDeprecationWarning: The class `langchain_community.embeddings.openai.OpenAIEmbeddings` was deprecated in langchain-community 0.1.0 and will be removed in 0.2.0. Use langchain_openai.OpenAIEmbeddings instead.\n",
      "  warn_deprecated(\n"
     ]
    }
   ],
   "source": [
    "from langchain.embeddings.openai import OpenAIEmbeddings\n",
    "from langchain.schema import Document\n",
    "from langchain.vectorstores import FAISS\n",
    "\n",
    "embeddings = OpenAIEmbeddings()\n",
    "\n",
    "few_shot_docs = [\n",
    "    Document(page_content=question, metadata={\"sql_query\": few_shots[question]})\n",
    "    for question in few_shots.keys()\n",
    "]\n",
    "vector_db = FAISS.from_documents(few_shot_docs, embeddings)\n",
    "retriever = vector_db.as_retriever()"
   ]
  },
  {
   "cell_type": "markdown",
   "id": "0b80245e-d645-4877-ab70-bab91d5aa154",
   "metadata": {},
   "source": [
    "- 이제 고유한 사용자 지정 도구를 만들어 'create_sql_agent' 함수에 새 도구로 추가할 수 있습니다:"
   ]
  },
  {
   "cell_type": "code",
   "execution_count": 24,
   "id": "580a4b2d-a7f9-4e59-963e-925d436f4dd2",
   "metadata": {},
   "outputs": [],
   "source": [
    "from langchain.agents.agent_toolkits import create_retriever_tool\n",
    "\n",
    "tool_description = \"\"\"\n",
    "이 도구는 유사한 예시를 이해하여 사용자 질문에 적용하는 데 도움이 됩니다.\n",
    "이 도구에 입력하는 내용은 사용자 질문이어야 합니다.\n",
    "\"\"\"\n",
    "\n",
    "retriever_tool = create_retriever_tool(\n",
    "    retriever, name=\"sql_get_similar_examples\", description=tool_description\n",
    ")\n",
    "custom_tool_list = [retriever_tool]"
   ]
  },
  {
   "cell_type": "markdown",
   "id": "36fe3eaf-bfa3-4f73-b813-a52c70107bb3",
   "metadata": {},
   "source": [
    "이제 사용 사례를 고려하여 표준 SQL 에이전트 접미사를 조정하여 에이전트를 만들 수 있습니다. 이를 처리하는 가장 간단한 방법은 도구 설명에 포함시키는 것이지만, 이것만으로는 충분하지 않은 경우가 많으므로 생성자의 '접미사' 인수를 사용하여 에이전트 프롬프트에서 이를 지정해야 합니다."
   ]
  },
  {
   "cell_type": "code",
   "execution_count": 25,
   "id": "ad383c9f-f07f-40b4-89c6-b57e2e575ab4",
   "metadata": {},
   "outputs": [],
   "source": [
    "from langchain.agents import AgentType, create_sql_agent\n",
    "from langchain.agents.agent_toolkits import SQLDatabaseToolkit\n",
    "from langchain.chat_models import ChatOpenAI\n",
    "from langchain.utilities import SQLDatabase\n",
    "\n",
    "db = SQLDatabase.from_uri(\"sqlite:///chinook.db\")\n",
    "llm = ChatOpenAI(model_name=\"gpt-4-1106-preview\", temperature=0)\n",
    "\n",
    "toolkit = SQLDatabaseToolkit(db=db, llm=llm)\n",
    "\n",
    "custom_suffix = \"\"\"\n",
    "먼저 제가 알고 있는 비슷한 예제를 가져와야 합니다.\n",
    "예제가 쿼리를 구성하기에 충분하다면 쿼리를 작성할 수 있습니다.\n",
    "그렇지 않으면 데이터베이스의 테이블을 살펴보고 쿼리할 수 있는 항목을 확인할 수 있습니다.\n",
    "그런 다음 가장 관련성이 높은 테이블의 스키마를 쿼리해야 합니다.\n",
    "\"\"\"\n",
    "\n",
    "agent = create_sql_agent(\n",
    "    llm=llm,\n",
    "    toolkit=toolkit,\n",
    "    verbose=True,\n",
    "    agent_type=AgentType.OPENAI_FUNCTIONS,\n",
    "    extra_tools=custom_tool_list,\n",
    "    suffix=custom_suffix,\n",
    ")"
   ]
  },
  {
   "cell_type": "code",
   "execution_count": null,
   "id": "a086c160-7450-481e-ab66-ab414fcfbf07",
   "metadata": {},
   "outputs": [],
   "source": []
  }
 ],
 "metadata": {
  "kernelspec": {
   "display_name": "Python 3 (ipykernel)",
   "language": "python",
   "name": "python3"
  },
  "language_info": {
   "codemirror_mode": {
    "name": "ipython",
    "version": 3
   },
   "file_extension": ".py",
   "mimetype": "text/x-python",
   "name": "python",
   "nbconvert_exporter": "python",
   "pygments_lexer": "ipython3",
   "version": "3.8.18"
  },
  "widgets": {
   "application/vnd.jupyter.widget-state+json": {
    "state": {},
    "version_major": 2,
    "version_minor": 0
   }
  }
 },
 "nbformat": 4,
 "nbformat_minor": 5
}
