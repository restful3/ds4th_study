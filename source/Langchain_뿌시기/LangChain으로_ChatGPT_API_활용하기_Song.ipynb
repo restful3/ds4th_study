{
 "cells": [
  {
   "cell_type": "markdown",
   "id": "991dc1eb",
   "metadata": {},
   "source": [
    "# 라이브러리 불러오기"
   ]
  },
  {
   "cell_type": "code",
   "execution_count": 12,
   "id": "d03de984",
   "metadata": {},
   "outputs": [],
   "source": [
    "import openai\n",
    "import os\n",
    "\n",
    "from dotenv import load_dotenv, find_dotenv\n",
    "_ = load_dotenv(find_dotenv()) # read local .env file\n",
    "\n",
    "openai.api_key  = os.getenv('OPENAI_API_KEY')"
   ]
  },
  {
   "cell_type": "code",
   "execution_count": 13,
   "id": "3d370774",
   "metadata": {},
   "outputs": [],
   "source": [
    "def get_completion(prompt, model=\"gpt-3.5-turbo\",temperature=0): # Andrew mentioned that the prompt/ completion paradigm is preferable for this class\n",
    "    messages = [{\"role\": \"user\", \"content\": prompt}]\n",
    "    response = openai.ChatCompletion.create(\n",
    "        model=model,\n",
    "        messages=messages,\n",
    "        temperature=temperature, # this is the degree of randomness of the model's output\n",
    "    )\n",
    "    return response.choices[0].message[\"content\"]"
   ]
  },
  {
   "cell_type": "markdown",
   "id": "894cc6a4",
   "metadata": {},
   "source": [
    "# API를 통해 ChatGPT와 대화해 보기"
   ]
  },
  {
   "cell_type": "code",
   "execution_count": 16,
   "id": "3e4d9f69",
   "metadata": {},
   "outputs": [
    {
     "name": "stderr",
     "output_type": "stream",
     "text": [
      "/home/restful3/anaconda3/envs/trading/lib/python3.10/site-packages/langchain_community/llms/openai.py:248: UserWarning: You are trying to use a chat model. This way of initializing it is no longer supported. Instead, please use: `from langchain_community.chat_models import ChatOpenAI`\n",
      "  warnings.warn(\n",
      "/home/restful3/anaconda3/envs/trading/lib/python3.10/site-packages/langchain_community/llms/openai.py:1057: UserWarning: You are trying to use a chat model. This way of initializing it is no longer supported. Instead, please use: `from langchain_community.chat_models import ChatOpenAI`\n",
      "  warnings.warn(\n"
     ]
    },
    {
     "data": {
      "text/plain": [
       "'Python은 가장 인기 있는 언어인 이유는 여러 가지가 있습니다.\\n\\n첫째로, Python은 배우기 쉽고 읽기 쉬운 문법을 가지고 있습니다. 다른 언어들에 비해 문법적으로 간결하고 직관적이어서 초보자도 쉽게 이해하고 활용할 수 있습니다.\\n\\n둘째로, Python은 다양한 분야에서 활용할 수 있는 범용 프로그래밍 언어입니다. 웹 개발, 데이터 분석, 인공지능, 사물 인터넷 등 다양한 분야에서 사용되고 있습니다. 또한, Python은 많은 라이브러리와 프레임워크가 존재하여 개발 과정을 효율적이고 간편하게 만들어줍니다.\\n\\n셋째로, Python은 큰 개발 커뮤니티를 가지고 있습니다. 개발자들 사이에서 활발하게 정보와 지식을 공유하고 협업할 수 있어서 문제 해결과 학습이 더욱 쉽습니다. 또한, Python은 여러 플랫폼에서 사용할 수 있기 때문에 유연한 개발 환경을 제공합니다.\\n\\n마지막으로, Python은 무료로 사용할 수 있습니다. 개발자들은 비용을 들이지 않고 해당 언어를 사용할 수 있어서 접근성이 매우 높습니다. 이는 많은 개발자들에게 인기를 끌어 모아주는 큰 이유 중 하나입니다.\\n\\n이러한 이유들로 인해 Python은 현재 가장 인기 있는 프로그래밍 언어 중 하나입니다.'"
      ]
     },
     "execution_count": 16,
     "metadata": {},
     "output_type": "execute_result"
    }
   ],
   "source": [
    "from langchain.llms import OpenAI\n",
    "\n",
    "llm = OpenAI(model_name=\"gpt-3.5-turbo\")\n",
    "llm.predict(\"Why Python is the most popular, answer in Korean\")"
   ]
  },
  {
   "cell_type": "code",
   "execution_count": 17,
   "id": "89487e18",
   "metadata": {},
   "outputs": [
    {
     "name": "stdout",
     "output_type": "stream",
     "text": [
      "Python은 현재 가장 인기 있는 프로그래밍 언어로 여겨집니다. 그 이유는 다음과 같습니다.\n",
      "\n",
      "1. 쉽고 간결한 문법: Python은 읽기 쉽고 간결한 문법을 가지고 있어 프로그래밍을 처음 배우는 사람들에게 매우 적합합니다. 코드의 가독성이 높아서 협업이나 유지보수에도 용이합니다.\n",
      "\n",
      "2. 다양한 용도로 사용 가능: Python은 웹 개발, 데이터 분석, 인공지능, 기계 학습 등 다양한 분야에서 사용될 수 있습니다. 이는 Python이 많은 라이브러리와 프레임워크를 가지고 있어 다양한 작업을 지원하기 때문입니다.\n",
      "\n",
      "3. 커뮤니티의 지원: Python은 매우 활발한 개발자 커뮤니티를 가지고 있어서 꾸준히 발전하고 있습니다. 이러한 커뮤니티는 새로운 패키지, 라이브러리, 도구 등을 제공하며, 사용자들간의 지원과 정보 공유를 도와줍니다.\n",
      "\n",
      "4. 크로스 플랫폼 지원: Python은 윈도우, 맥, 리눅스 등 다양한 운영체제에서 동작할 수 있습니다. 이는 개발 환경의 제약을 줄여주기 때문에 많은 개발자들이 선택하는 이유 중 하나입니다.\n",
      "\n",
      "5. 높은 생산성: Python은 간단한 문법과 풍부한 라이브러리를 통해 빠른 개발이 가능합니다. 또한, 동적 타입 언어로서 높은 유연성을 제공하고, 테스트와 디버깅이 비교적 쉽기 때문에 생산성이 높다고 평가받습니다.\n",
      "\n",
      "이러한 이유들로 인해 Python은 현재 가장 인기 있는 프로그래밍 언어 중 하나로 자리잡았으며, 앞으로도 그 인기가 계속될 것으로 예상됩니다.\n"
     ]
    }
   ],
   "source": [
    "from langchain.chat_models import ChatOpenAI\n",
    "\n",
    "llm = ChatOpenAI(model_name=\"gpt-3.5-turbo\")\n",
    "response = llm.predict(\"Why Python is the most popular, answer in Korean\")\n",
    "print(response)"
   ]
  },
  {
   "cell_type": "markdown",
   "id": "598660b3",
   "metadata": {},
   "source": [
    "# 매개변수 조절해 보기"
   ]
  },
  {
   "cell_type": "code",
   "execution_count": 18,
   "id": "96e6ad8b",
   "metadata": {},
   "outputs": [
    {
     "name": "stdout",
     "output_type": "stream",
     "text": [
      "파이썬은 현재 가장 인기 있는 프로그래밍 언어 중 하나입니다. 그 이유는 다음과 같습니다.\n",
      "\n",
      "1. 쉬운 문법: 파이썬은 간결하고 읽기 쉬운 문법을 가지고 있습니다. 이는 초보자들이 프로그래밍을 배우기에 이상적입니다. 또한, 파이썬은 공백을 사용하여 블록을 구분하기 때문에 들여쓰기에 대한 엄격한 규칙을 가지고 있어 가독성이 높습니다.\n",
      "\n",
      "2. 다양한 용도: 파이썬은 다양한 분야에서 사용될 수 있습니다. 데이터 분석, 인공지능, 웹 개발, 자동화 등 다양한 영역에서 활용할 수 있습니다. 또한, 파이썬은 다른 프로그래밍 언어와의 통합이 용이하며, 다양한 라이브러리와 모듈을 제공하기 때문에 개발자들이 효율적으로 작업할 수 있습니다.\n",
      "\n",
      "3. 커뮤니티와 생태계: 파이썬은 활발한 개발자 커뮤니티와 다양한 오픈 소스 프로젝트를 가지고 있습니다. 이는 파이썬을 사용하는 개발자들이 서로 지원하고 협력할 수 있는 환경을 제공합니다. 또한, 파이썬은 많은 개발자들이 사용하는 언어이기 때문에 문제 해결에 대한 도움을 쉽게 얻을 수 있습니다.\n",
      "\n",
      "4. 학습 자료와 문서: 파이썬은 다양한 학습 자료와 문서가 많이 제공되어 있습니다. 이는 파이썬을 배우고 개발하는 데 도움이 되는 자료를 쉽게 찾을 수 있다는 것을 의미합니다. 또한, 파이썬 공식 문서는 상세하고 친절하게 작성되어 있어 개발자들이 필요한 정보를 쉽게 찾을 수 있습니다.\n",
      "\n",
      "이러한 이유들로 인해 파이썬은 현재 가장 인기 있는 프로그래밍 언어 중 하나입니다.\n"
     ]
    }
   ],
   "source": [
    "llm = ChatOpenAI(model_name=\"gpt-3.5-turbo\", temperature=0)\n",
    "response = llm.predict(\"Why Python is the most popular, answer in Korean\")\n",
    "print(response)"
   ]
  },
  {
   "cell_type": "code",
   "execution_count": 19,
   "id": "6d217a26",
   "metadata": {},
   "outputs": [
    {
     "name": "stdout",
     "output_type": "stream",
     "text": [
      "Python은 현재 가장 인기있는 프로그래밍 언어로 평가되고 있는데, 그 이유는 다양합니다.\n",
      "\n",
      "첫째로, Python은 배우기 쉽고 읽기 쉬운 문법을 가지고 있습니다. 이 언어는 간결하고 명확한 코드를 작성할 수 있도록 도와주기 때문에 입문자에게 매우 적합합니다. 또한, 이미 다른 프로그래밍 언어를 알고 있는 사람들도 Python을 배우기 쉽기 때문에 쉽게 전환할 수 있습니다.\n",
      "\n",
      "둘째로, Python은 다양한 용도로 사용할 수 있습니다. 데이터 분석, 웹 개발, 인공지능, 자동화 등 다양한 분야에서 Python을 활용할 수 있습니다. 이러한 다양성은 Python을 많은 사람들이 선호하는 이유 중 하나입니다.\n",
      "\n",
      "셋째로, Python은 커뮤니티와 생태계가 매우 발달되어 있습니다. Python에는 수많은 개발자들이 참여하고 있는 활발한 커뮤니티가 형성되어 있으며, 다양한 라이브러리와 프레임워크가 개발되어 있습니다. 이러한 생태계는 Python을 사용하는 개발자들에게 큰 도움이 됩니다.\n",
      "\n",
      "마지막으로, Python은 크로스플랫폼 언어로서 Windows, macOS, Linux 등 여러 플랫폼에서 동작할 수 있습니다. 이는 Python을 다양한 운영 체제에서 사용할 수 있음을 의미하며, 이는 개발자들에게 많은 유연성을 제공합니다.\n",
      "\n",
      "이러한 이유들로 인해 Python은 현재 많은 개발자들이 선택하는 대표적인 프로그래밍 언어로 꼽히고 있습니다.\n"
     ]
    }
   ],
   "source": [
    "llm = ChatOpenAI(model_name=\"gpt-3.5-turbo\", temperature=1.0)\n",
    "response = llm.predict(\"Why Python is the most popular, answer in Korean\")\n",
    "print(response)"
   ]
  },
  {
   "cell_type": "code",
   "execution_count": 20,
   "id": "0ec482f6",
   "metadata": {},
   "outputs": [
    {
     "name": "stdout",
     "output_type": "stream",
     "text": [
      "파이썬은 가장 인기 있는 프로그래밍 언어로 평가받는 이유가 있습니다. \n",
      "첫째, 파이썬은 배우기 쉽고 읽기 쉬운 문법을 가지고 있습니다. 이는 초보자들에게 매우 유리하며, 기존의 다른 프로그래밍 언어들에 비해 간결하고 직관적인 코드 작성이 가능합니다. 이로써 개발자들은 프로그래밍에 대한 진입 장벽을 낮추고, 쉽게 접근할 수 있게 되었습니다.\n",
      "\n",
      "두번째, 파이썬은 다양한 운영체제에서 사용이 가능합니다. 윈도우, 맥, 리눅스 등 다양한 플랫폼에서 사용할 수 있으며, 다른 언어와의 통합도 원활합니다. 또한, 다른 다양한 언어들과의 호환성이 뛰어나므로, 기존에 다른 언어로 작성된 코드를 파이썬으로 변환하기에도 용이합니다.\n",
      "\n",
      "세번째, 파이썬은 강력한 표준 라이브러리와 다양한 서드파티 라이브러리를 보유하고 있습니다. 이는 간단하고 빠른 개발을 가능하게 하는데 큰 도움을 줍니다. 또한, 데이터 과학, 웹 개발, 인공 지능 등 다양한 분야에서 활용할 수 있는 라이브러리가 풍부하므로, 파이썬은 다양한 영역에서 널리 사용됩니다.\n",
      "\n",
      "네번째, 파이썬은 커뮤니티의 활발한 지원을 받고 있습니다. 전 세계적으로 수많은 개발자들이 파이썬을 사용하고 있으며, 이를 통해 다양한 문제를 해결할 수 있는 정보와 도움을 얻을 수 있습니다. 또한, 파이썬은 오픈 소스 프로젝트로 개발되어 있으며, 사용자들은 새로운 모듈과 기능을 자유롭게 개발하고 공유할 수 있습니다.\n",
      "\n",
      "이러한 이유들로 인해 파이썬은 사용자 친화적이고 강력한 언어로 평가받고 있으며, 다양한 분야에서 널리 사용되고 있습니다.\n"
     ]
    }
   ],
   "source": [
    "llm = ChatOpenAI(model_name=\"gpt-3.5-turbo\", temperature=1.0)\n",
    "response = llm.predict(\"Why Python is the most popular, answer in Korean\")\n",
    "print(response)"
   ]
  },
  {
   "cell_type": "code",
   "execution_count": 23,
   "id": "7ba57da7",
   "metadata": {},
   "outputs": [
    {
     "name": "stdout",
     "output_type": "stream",
     "text": [
      "파이썬은 다양한 이유로 가장 인기 있는 프로그래밍 언어입니다. 이유 중 하나는 파이썬의 문법이 사람이 읽기 쉽고 이해하기 쉽기 때문입니다. 파이썬은 간결하면서도 효율적인 코드를 작성할 수 있도록 도와주기 때문에 초보자부터 전문가까지 다양한 사용자들이 쉽게 배우고 사용할 수 있습니다.\n",
      "\n",
      "파이썬은 다양한 분야에서 사용되고 있습니다. 데이터 과학, 기계 학습, 인공 지능, 웹 개발 등 다양한 분야에서 파이썬을 활용하여 프로젝트를 구현할 수 있기 때문에 프로그래머들 사이에 널리 사용되고 있습니다.\n",
      "\n",
      "또한, 파이썬은 강력하고 다양한 라이브러리와 프레임워크를 제공하고 있습니다. 이러한 라이브러리와 프레임워크는 개발 속도를 높여주고, 더욱 편리하게 개발할 수 있도록 도와줍니다. 또한, 파이썬은 큰 생태계를 가지고 있어 다른 프로그래밍 언어들과의 연동이 매우 용이합니다.\n",
      "\n",
      "또한, 파이썬은 오픈 소스이기 때문에 무료로 사용할 수 있고, 커뮤니티에서 개발한 다양한 도구와 패키지를 활용할 수 있습니다. 이러한 특징들 때문에 파이썬은 개발자들 사이에서 매우 인기 있는 언어가 되었으며, 빠르게 성장하고 발전해 나가고 있습니다.파이썬은 다양한 이유로 가장 인기 있는 프로그래밍 언어입니다. 이유 중 하나는 파이썬의 문법이 사람이 읽기 쉽고 이해하기 쉽기 때문입니다. 파이썬은 간결하면서도 효율적인 코드를 작성할 수 있도록 도와주기 때문에 초보자부터 전문가까지 다양한 사용자들이 쉽게 배우고 사용할 수 있습니다.\n",
      "\n",
      "파이썬은 다양한 분야에서 사용되고 있습니다. 데이터 과학, 기계 학습, 인공 지능, 웹 개발 등 다양한 분야에서 파이썬을 활용하여 프로젝트를 구현할 수 있기 때문에 프로그래머들 사이에 널리 사용되고 있습니다.\n",
      "\n",
      "또한, 파이썬은 강력하고 다양한 라이브러리와 프레임워크를 제공하고 있습니다. 이러한 라이브러리와 프레임워크는 개발 속도를 높여주고, 더욱 편리하게 개발할 수 있도록 도와줍니다. 또한, 파이썬은 큰 생태계를 가지고 있어 다른 프로그래밍 언어들과의 연동이 매우 용이합니다.\n",
      "\n",
      "또한, 파이썬은 오픈 소스이기 때문에 무료로 사용할 수 있고, 커뮤니티에서 개발한 다양한 도구와 패키지를 활용할 수 있습니다. 이러한 특징들 때문에 파이썬은 개발자들 사이에서 매우 인기 있는 언어가 되었으며, 빠르게 성장하고 발전해 나가고 있습니다.\n"
     ]
    }
   ],
   "source": [
    "from langchain.callbacks.streaming_stdout import StreamingStdOutCallbackHandler\n",
    "\n",
    "llm = ChatOpenAI(model_name=\"gpt-3.5-turbo\", streaming=True, callbacks=[StreamingStdOutCallbackHandler()], temperature=1)\n",
    "response = llm.predict(\"Why Python is the most popular, answer in Korean\")\n",
    "print(response)"
   ]
  },
  {
   "cell_type": "markdown",
   "id": "8c6a9ec1",
   "metadata": {},
   "source": [
    "- Input 형식 : ChatGPT API는 OpenAI LLM 들과 다른 input 형식\n",
    "    - SystemMessage : 챗봇에 역할 부여, 대화의 맥락 설정\n",
    "    - HumanMessage : 사용자가 보내는 메시지\n",
    "    - AIMessage : 답변"
   ]
  },
  {
   "cell_type": "code",
   "execution_count": 28,
   "id": "ae62094a",
   "metadata": {},
   "outputs": [
    {
     "data": {
      "text/plain": [
       "AIMessage(content='저는 랭체인을 사랑합니다.')"
      ]
     },
     "execution_count": 28,
     "metadata": {},
     "output_type": "execute_result"
    }
   ],
   "source": [
    "from langchain.chat_models import ChatOpenAI\n",
    "from langchain.schema import AIMessage, HumanMessage, SystemMessage\n",
    "\n",
    "llm = ChatOpenAI(model_name=\"gpt-3.5-turbo\", temperature=0)\n",
    "\n",
    "messages = [\n",
    "    SystemMessage(\n",
    "        content=\"You are a helpful assistant that translabe Englisth to Korean\"\n",
    "    ),\n",
    "    HumanMessage(\n",
    "        content=\"I love langchain\"\n",
    "    ),\n",
    "]\n",
    "response = llm(messages)\n",
    "response"
   ]
  },
  {
   "cell_type": "code",
   "execution_count": 29,
   "id": "4d1a45ca",
   "metadata": {},
   "outputs": [
    {
     "data": {
      "text/plain": [
       "'저는 랭체인을 사랑합니다.'"
      ]
     },
     "execution_count": 29,
     "metadata": {},
     "output_type": "execute_result"
    }
   ],
   "source": [
    "response.content"
   ]
  },
  {
   "cell_type": "markdown",
   "id": "6e251358",
   "metadata": {},
   "source": [
    "# 실습해 보기"
   ]
  },
  {
   "cell_type": "code",
   "execution_count": 31,
   "id": "e5d590f7",
   "metadata": {},
   "outputs": [
    {
     "name": "stdout",
     "output_type": "stream",
     "text": [
      "Large Language Model에 대한 공부 계획을 작성해드리겠습니다.\n",
      "\n",
      "1. 배경지식 확보:\n",
      "   - Large Language Model이란 무엇인지에 대한 개념과 원리를 이해하기 위해 관련 자료와 논문을 찾아 읽어보세요.\n",
      "   - Language Model의 기본 개념과 작동 원리에 대한 이해가 필요합니다.\n",
      "\n",
      "2. 핵심 개념 학습:\n",
      "   - Large Language Model의 구조와 내부 동작 메커니즘을 자세히 이해하세요.\n",
      "   - Pretraining과 Fine-tuning 과정에서 사용되는 데이터와 알고리즘에 대해서도 학습하세요.\n",
      "\n",
      "3. 주요 모델 탐구:\n",
      "   - 대표적인 Large Language Model인 GPT, GPT-2, GPT-3, BERT, XLNet 등에 대해 자세히 살펴보세요.\n",
      "   - 각 모델의 아키텍처, 사용되는 전이학습 방법, 결과 등에 대해 공부하세요.\n",
      "\n",
      "4. 구현 실습:\n",
      "   - Hugging Face Transformers나 Tensorflow, PyTorch와 같은 라이브러리를 사용하여 Large Language Model을 구현해보세요.\n",
      "   - 주어진 데이터로 모델을 학습시키고, 생성 텍스트의 품질을 평가해보세요.\n",
      "\n",
      "5. 활용 사례 탐구:\n",
      "   - Large Language Model이 어떻게 자연어 처리, 기계 번역, 질의응답, 요약, 생성 등 다양한 NLP 과제에서 활용되는지 탐구해보세요.\n",
      "   - 관련된 실제 사례나 연구 논문을 읽고, Large Language Model의 잠재력과 한계점에 대해 이해하세요.\n",
      "\n",
      "6. 코드 리뷰 및 토론:\n",
      "   - 오픈소스 프로젝트나 GitHub 저장소에 올라온 관련 코드를 살펴보고, 유용한 기술과 코드 패턴을 습득하세요.\n",
      "   - 관련된 커뮤니티나 포럼에 참여하여 다른 사람과 토론하고 질문해보세요.\n",
      "\n",
      "7. 프로젝트 구현:\n",
      "   - 제공된 데이터를 사용하여 Large Language Model을 fine-tuning하는 프로젝트를 진행해보세요.\n",
      "   - 모델의 성능과 생성 텍스트의 질을 평가하고 결과를 보고하세요.\n",
      "\n",
      "8. 논문 리뷰:\n",
      "   - Large Language Model에 관련된 최신 논문들을 읽고 학습하세요.\n",
      "   - 논문의 기여와 결과에 대해 이해하고, 다른 연구자들의 논의를 살펴보세요.\n",
      "\n",
      "9. 교안 작성:\n",
      "   - Large Language Model에 대한 자습서나 교안을 작성해보세요.\n",
      "   - 다른 사람들과 자신의 학습 과정을 공유하고, 도움을 줄 수 있습니다.\n",
      "\n",
      "이러한 단계를 따라 Large Language Model에 대해 전반적인 이해를 얻을 수 있을 것입니다. 항상 목표를 작게 나눠 계획을 세우고, 필요한 자료와 도구를 활용하여 공부하면서 실전 경험도 쌓아보세요. 행운을 빕니다!"
     ]
    }
   ],
   "source": [
    "from langchain.chat_models import ChatOpenAI\n",
    "from langchain.schema import HumanMessage, AIMessage, SystemMessage\n",
    "from langchain.callbacks.streaming_stdout import StreamingStdOutCallbackHandler\n",
    "\n",
    "\n",
    "llm = ChatOpenAI(temperature=1, streaming=True, callbacks=[StreamingStdOutCallbackHandler()])\n",
    "response = llm([\n",
    "    SystemMessage(content=\"당신은 공부 계획을 세워주는 스터디 플래너 머신입니다. 사용자의 공부 주제를 입력 받으면, 이를 학습하기 위한 공부 계획을 작성합니다.\"),\n",
    "    HumanMessage(content=\"Large Language Model에 대해 공부하고 싶어요. \")\n",
    "    \n",
    "])"
   ]
  },
  {
   "cell_type": "code",
   "execution_count": 34,
   "id": "7badde5a",
   "metadata": {},
   "outputs": [
    {
     "data": {
      "text/plain": [
       "'Large Language Model에 대한 공부 계획을 작성해드리겠습니다.\\n\\n1. 배경지식 확보:\\n   - Large Language Model이란 무엇인지에 대한 개념과 원리를 이해하기 위해 관련 자료와 논문을 찾아 읽어보세요.\\n   - Language Model의 기본 개념과 작동 원리에 대한 이해가 필요합니다.\\n\\n2. 핵심 개념 학습:\\n   - Large Language Model의 구조와 내부 동작 메커니즘을 자세히 이해하세요.\\n   - Pretraining과 Fine-tuning 과정에서 사용되는 데이터와 알고리즘에 대해서도 학습하세요.\\n\\n3. 주요 모델 탐구:\\n   - 대표적인 Large Language Model인 GPT, GPT-2, GPT-3, BERT, XLNet 등에 대해 자세히 살펴보세요.\\n   - 각 모델의 아키텍처, 사용되는 전이학습 방법, 결과 등에 대해 공부하세요.\\n\\n4. 구현 실습:\\n   - Hugging Face Transformers나 Tensorflow, PyTorch와 같은 라이브러리를 사용하여 Large Language Model을 구현해보세요.\\n   - 주어진 데이터로 모델을 학습시키고, 생성 텍스트의 품질을 평가해보세요.\\n\\n5. 활용 사례 탐구:\\n   - Large Language Model이 어떻게 자연어 처리, 기계 번역, 질의응답, 요약, 생성 등 다양한 NLP 과제에서 활용되는지 탐구해보세요.\\n   - 관련된 실제 사례나 연구 논문을 읽고, Large Language Model의 잠재력과 한계점에 대해 이해하세요.\\n\\n6. 코드 리뷰 및 토론:\\n   - 오픈소스 프로젝트나 GitHub 저장소에 올라온 관련 코드를 살펴보고, 유용한 기술과 코드 패턴을 습득하세요.\\n   - 관련된 커뮤니티나 포럼에 참여하여 다른 사람과 토론하고 질문해보세요.\\n\\n7. 프로젝트 구현:\\n   - 제공된 데이터를 사용하여 Large Language Model을 fine-tuning하는 프로젝트를 진행해보세요.\\n   - 모델의 성능과 생성 텍스트의 질을 평가하고 결과를 보고하세요.\\n\\n8. 논문 리뷰:\\n   - Large Language Model에 관련된 최신 논문들을 읽고 학습하세요.\\n   - 논문의 기여와 결과에 대해 이해하고, 다른 연구자들의 논의를 살펴보세요.\\n\\n9. 교안 작성:\\n   - Large Language Model에 대한 자습서나 교안을 작성해보세요.\\n   - 다른 사람들과 자신의 학습 과정을 공유하고, 도움을 줄 수 있습니다.\\n\\n이러한 단계를 따라 Large Language Model에 대해 전반적인 이해를 얻을 수 있을 것입니다. 항상 목표를 작게 나눠 계획을 세우고, 필요한 자료와 도구를 활용하여 공부하면서 실전 경험도 쌓아보세요. 행운을 빕니다!'"
      ]
     },
     "execution_count": 34,
     "metadata": {},
     "output_type": "execute_result"
    }
   ],
   "source": [
    "response.content"
   ]
  }
 ],
 "metadata": {
  "kernelspec": {
   "display_name": "Python 3 (ipykernel)",
   "language": "python",
   "name": "python3"
  },
  "language_info": {
   "codemirror_mode": {
    "name": "ipython",
    "version": 3
   },
   "file_extension": ".py",
   "mimetype": "text/x-python",
   "name": "python",
   "nbconvert_exporter": "python",
   "pygments_lexer": "ipython3",
   "version": "3.10.9"
  },
  "toc": {
   "base_numbering": 1,
   "nav_menu": {},
   "number_sections": true,
   "sideBar": true,
   "skip_h1_title": false,
   "title_cell": "Table of Contents",
   "title_sidebar": "Contents",
   "toc_cell": false,
   "toc_position": {
    "height": "calc(100% - 180px)",
    "left": "10px",
    "top": "150px",
    "width": "256px"
   },
   "toc_section_display": true,
   "toc_window_display": false
  }
 },
 "nbformat": 4,
 "nbformat_minor": 5
}
