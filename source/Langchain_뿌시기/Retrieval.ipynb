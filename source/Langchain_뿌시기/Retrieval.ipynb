{
  "nbformat": 4,
  "nbformat_minor": 0,
  "metadata": {
    "colab": {
      "provenance": [],
      "collapsed_sections": [
        "bHU-tA7Y392J",
        "YaleV-QhRSHN",
        "j73YWuEjEPub",
        "OoXZSL4Knes3",
        "dpxwFf9jpcVJ",
        "Oe77qJD-rM2X",
        "sXgdB9lIWxCs",
        "z0p80K1fsXDL",
        "flSxiUF7Hp3m"
      ]
    },
    "kernelspec": {
      "name": "python3",
      "display_name": "Python 3"
    },
    "language_info": {
      "name": "python"
    },
    "widgets": {
      "application/vnd.jupyter.widget-state+json": {
        "b6d6557d32d74200b829656861475503": {
          "model_module": "@jupyter-widgets/controls",
          "model_name": "HBoxModel",
          "model_module_version": "1.5.0",
          "state": {
            "_dom_classes": [],
            "_model_module": "@jupyter-widgets/controls",
            "_model_module_version": "1.5.0",
            "_model_name": "HBoxModel",
            "_view_count": null,
            "_view_module": "@jupyter-widgets/controls",
            "_view_module_version": "1.5.0",
            "_view_name": "HBoxView",
            "box_style": "",
            "children": [
              "IPY_MODEL_1742856ee2d041d49c8d0a353f17a51e",
              "IPY_MODEL_47793479b02e41ddb438a527ad068147",
              "IPY_MODEL_fdedd453eff6426993814d54dbe2515b"
            ],
            "layout": "IPY_MODEL_26db4241c0884af0a49751529cf858c0"
          }
        },
        "1742856ee2d041d49c8d0a353f17a51e": {
          "model_module": "@jupyter-widgets/controls",
          "model_name": "HTMLModel",
          "model_module_version": "1.5.0",
          "state": {
            "_dom_classes": [],
            "_model_module": "@jupyter-widgets/controls",
            "_model_module_version": "1.5.0",
            "_model_name": "HTMLModel",
            "_view_count": null,
            "_view_module": "@jupyter-widgets/controls",
            "_view_module_version": "1.5.0",
            "_view_name": "HTMLView",
            "description": "",
            "description_tooltip": null,
            "layout": "IPY_MODEL_b7559b84b1db48ac956b4a1993da5127",
            "placeholder": "​",
            "style": "IPY_MODEL_5a4ec3c11f744ab59c3a3f9a86c20252",
            "value": "Downloading (…)421f3/.gitattributes: 100%"
          }
        },
        "47793479b02e41ddb438a527ad068147": {
          "model_module": "@jupyter-widgets/controls",
          "model_name": "FloatProgressModel",
          "model_module_version": "1.5.0",
          "state": {
            "_dom_classes": [],
            "_model_module": "@jupyter-widgets/controls",
            "_model_module_version": "1.5.0",
            "_model_name": "FloatProgressModel",
            "_view_count": null,
            "_view_module": "@jupyter-widgets/controls",
            "_view_module_version": "1.5.0",
            "_view_name": "ProgressView",
            "bar_style": "success",
            "description": "",
            "description_tooltip": null,
            "layout": "IPY_MODEL_89c827ae31c0498aa5c9eb6f3de35686",
            "max": 1519,
            "min": 0,
            "orientation": "horizontal",
            "style": "IPY_MODEL_1705559eb4b04acc9837fd17677485e1",
            "value": 1519
          }
        },
        "fdedd453eff6426993814d54dbe2515b": {
          "model_module": "@jupyter-widgets/controls",
          "model_name": "HTMLModel",
          "model_module_version": "1.5.0",
          "state": {
            "_dom_classes": [],
            "_model_module": "@jupyter-widgets/controls",
            "_model_module_version": "1.5.0",
            "_model_name": "HTMLModel",
            "_view_count": null,
            "_view_module": "@jupyter-widgets/controls",
            "_view_module_version": "1.5.0",
            "_view_name": "HTMLView",
            "description": "",
            "description_tooltip": null,
            "layout": "IPY_MODEL_aef557b79f884e92b86d596248ac3cac",
            "placeholder": "​",
            "style": "IPY_MODEL_5987bc297d6f45f1b89696189769efc1",
            "value": " 1.52k/1.52k [00:00&lt;00:00, 88.0kB/s]"
          }
        },
        "26db4241c0884af0a49751529cf858c0": {
          "model_module": "@jupyter-widgets/base",
          "model_name": "LayoutModel",
          "model_module_version": "1.2.0",
          "state": {
            "_model_module": "@jupyter-widgets/base",
            "_model_module_version": "1.2.0",
            "_model_name": "LayoutModel",
            "_view_count": null,
            "_view_module": "@jupyter-widgets/base",
            "_view_module_version": "1.2.0",
            "_view_name": "LayoutView",
            "align_content": null,
            "align_items": null,
            "align_self": null,
            "border": null,
            "bottom": null,
            "display": null,
            "flex": null,
            "flex_flow": null,
            "grid_area": null,
            "grid_auto_columns": null,
            "grid_auto_flow": null,
            "grid_auto_rows": null,
            "grid_column": null,
            "grid_gap": null,
            "grid_row": null,
            "grid_template_areas": null,
            "grid_template_columns": null,
            "grid_template_rows": null,
            "height": null,
            "justify_content": null,
            "justify_items": null,
            "left": null,
            "margin": null,
            "max_height": null,
            "max_width": null,
            "min_height": null,
            "min_width": null,
            "object_fit": null,
            "object_position": null,
            "order": null,
            "overflow": null,
            "overflow_x": null,
            "overflow_y": null,
            "padding": null,
            "right": null,
            "top": null,
            "visibility": null,
            "width": null
          }
        },
        "b7559b84b1db48ac956b4a1993da5127": {
          "model_module": "@jupyter-widgets/base",
          "model_name": "LayoutModel",
          "model_module_version": "1.2.0",
          "state": {
            "_model_module": "@jupyter-widgets/base",
            "_model_module_version": "1.2.0",
            "_model_name": "LayoutModel",
            "_view_count": null,
            "_view_module": "@jupyter-widgets/base",
            "_view_module_version": "1.2.0",
            "_view_name": "LayoutView",
            "align_content": null,
            "align_items": null,
            "align_self": null,
            "border": null,
            "bottom": null,
            "display": null,
            "flex": null,
            "flex_flow": null,
            "grid_area": null,
            "grid_auto_columns": null,
            "grid_auto_flow": null,
            "grid_auto_rows": null,
            "grid_column": null,
            "grid_gap": null,
            "grid_row": null,
            "grid_template_areas": null,
            "grid_template_columns": null,
            "grid_template_rows": null,
            "height": null,
            "justify_content": null,
            "justify_items": null,
            "left": null,
            "margin": null,
            "max_height": null,
            "max_width": null,
            "min_height": null,
            "min_width": null,
            "object_fit": null,
            "object_position": null,
            "order": null,
            "overflow": null,
            "overflow_x": null,
            "overflow_y": null,
            "padding": null,
            "right": null,
            "top": null,
            "visibility": null,
            "width": null
          }
        },
        "5a4ec3c11f744ab59c3a3f9a86c20252": {
          "model_module": "@jupyter-widgets/controls",
          "model_name": "DescriptionStyleModel",
          "model_module_version": "1.5.0",
          "state": {
            "_model_module": "@jupyter-widgets/controls",
            "_model_module_version": "1.5.0",
            "_model_name": "DescriptionStyleModel",
            "_view_count": null,
            "_view_module": "@jupyter-widgets/base",
            "_view_module_version": "1.2.0",
            "_view_name": "StyleView",
            "description_width": ""
          }
        },
        "89c827ae31c0498aa5c9eb6f3de35686": {
          "model_module": "@jupyter-widgets/base",
          "model_name": "LayoutModel",
          "model_module_version": "1.2.0",
          "state": {
            "_model_module": "@jupyter-widgets/base",
            "_model_module_version": "1.2.0",
            "_model_name": "LayoutModel",
            "_view_count": null,
            "_view_module": "@jupyter-widgets/base",
            "_view_module_version": "1.2.0",
            "_view_name": "LayoutView",
            "align_content": null,
            "align_items": null,
            "align_self": null,
            "border": null,
            "bottom": null,
            "display": null,
            "flex": null,
            "flex_flow": null,
            "grid_area": null,
            "grid_auto_columns": null,
            "grid_auto_flow": null,
            "grid_auto_rows": null,
            "grid_column": null,
            "grid_gap": null,
            "grid_row": null,
            "grid_template_areas": null,
            "grid_template_columns": null,
            "grid_template_rows": null,
            "height": null,
            "justify_content": null,
            "justify_items": null,
            "left": null,
            "margin": null,
            "max_height": null,
            "max_width": null,
            "min_height": null,
            "min_width": null,
            "object_fit": null,
            "object_position": null,
            "order": null,
            "overflow": null,
            "overflow_x": null,
            "overflow_y": null,
            "padding": null,
            "right": null,
            "top": null,
            "visibility": null,
            "width": null
          }
        },
        "1705559eb4b04acc9837fd17677485e1": {
          "model_module": "@jupyter-widgets/controls",
          "model_name": "ProgressStyleModel",
          "model_module_version": "1.5.0",
          "state": {
            "_model_module": "@jupyter-widgets/controls",
            "_model_module_version": "1.5.0",
            "_model_name": "ProgressStyleModel",
            "_view_count": null,
            "_view_module": "@jupyter-widgets/base",
            "_view_module_version": "1.2.0",
            "_view_name": "StyleView",
            "bar_color": null,
            "description_width": ""
          }
        },
        "aef557b79f884e92b86d596248ac3cac": {
          "model_module": "@jupyter-widgets/base",
          "model_name": "LayoutModel",
          "model_module_version": "1.2.0",
          "state": {
            "_model_module": "@jupyter-widgets/base",
            "_model_module_version": "1.2.0",
            "_model_name": "LayoutModel",
            "_view_count": null,
            "_view_module": "@jupyter-widgets/base",
            "_view_module_version": "1.2.0",
            "_view_name": "LayoutView",
            "align_content": null,
            "align_items": null,
            "align_self": null,
            "border": null,
            "bottom": null,
            "display": null,
            "flex": null,
            "flex_flow": null,
            "grid_area": null,
            "grid_auto_columns": null,
            "grid_auto_flow": null,
            "grid_auto_rows": null,
            "grid_column": null,
            "grid_gap": null,
            "grid_row": null,
            "grid_template_areas": null,
            "grid_template_columns": null,
            "grid_template_rows": null,
            "height": null,
            "justify_content": null,
            "justify_items": null,
            "left": null,
            "margin": null,
            "max_height": null,
            "max_width": null,
            "min_height": null,
            "min_width": null,
            "object_fit": null,
            "object_position": null,
            "order": null,
            "overflow": null,
            "overflow_x": null,
            "overflow_y": null,
            "padding": null,
            "right": null,
            "top": null,
            "visibility": null,
            "width": null
          }
        },
        "5987bc297d6f45f1b89696189769efc1": {
          "model_module": "@jupyter-widgets/controls",
          "model_name": "DescriptionStyleModel",
          "model_module_version": "1.5.0",
          "state": {
            "_model_module": "@jupyter-widgets/controls",
            "_model_module_version": "1.5.0",
            "_model_name": "DescriptionStyleModel",
            "_view_count": null,
            "_view_module": "@jupyter-widgets/base",
            "_view_module_version": "1.2.0",
            "_view_name": "StyleView",
            "description_width": ""
          }
        },
        "6fba68ceedf041239adc3d5b05cbee73": {
          "model_module": "@jupyter-widgets/controls",
          "model_name": "HBoxModel",
          "model_module_version": "1.5.0",
          "state": {
            "_dom_classes": [],
            "_model_module": "@jupyter-widgets/controls",
            "_model_module_version": "1.5.0",
            "_model_name": "HBoxModel",
            "_view_count": null,
            "_view_module": "@jupyter-widgets/controls",
            "_view_module_version": "1.5.0",
            "_view_name": "HBoxView",
            "box_style": "",
            "children": [
              "IPY_MODEL_b5fab33e4fbe4d8c822ff7b86644c466",
              "IPY_MODEL_f92b79a48082437d898f6d839f9f83d5",
              "IPY_MODEL_05e2a39add8b47db8a726b0a2a60771e"
            ],
            "layout": "IPY_MODEL_3a34dde27dae43dfbcdfae8d22b25b70"
          }
        },
        "b5fab33e4fbe4d8c822ff7b86644c466": {
          "model_module": "@jupyter-widgets/controls",
          "model_name": "HTMLModel",
          "model_module_version": "1.5.0",
          "state": {
            "_dom_classes": [],
            "_model_module": "@jupyter-widgets/controls",
            "_model_module_version": "1.5.0",
            "_model_name": "HTMLModel",
            "_view_count": null,
            "_view_module": "@jupyter-widgets/controls",
            "_view_module_version": "1.5.0",
            "_view_name": "HTMLView",
            "description": "",
            "description_tooltip": null,
            "layout": "IPY_MODEL_0ca48e86eb8943b9a801e224a3e403c1",
            "placeholder": "​",
            "style": "IPY_MODEL_ce3610b1d44645f2b7a20b46079c09e0",
            "value": "Downloading (…)_Pooling/config.json: 100%"
          }
        },
        "f92b79a48082437d898f6d839f9f83d5": {
          "model_module": "@jupyter-widgets/controls",
          "model_name": "FloatProgressModel",
          "model_module_version": "1.5.0",
          "state": {
            "_dom_classes": [],
            "_model_module": "@jupyter-widgets/controls",
            "_model_module_version": "1.5.0",
            "_model_name": "FloatProgressModel",
            "_view_count": null,
            "_view_module": "@jupyter-widgets/controls",
            "_view_module_version": "1.5.0",
            "_view_name": "ProgressView",
            "bar_style": "success",
            "description": "",
            "description_tooltip": null,
            "layout": "IPY_MODEL_d9fdc29813474016b2ab68eda8d63a67",
            "max": 190,
            "min": 0,
            "orientation": "horizontal",
            "style": "IPY_MODEL_0518e04eb2794cdfb8add83df2dafc13",
            "value": 190
          }
        },
        "05e2a39add8b47db8a726b0a2a60771e": {
          "model_module": "@jupyter-widgets/controls",
          "model_name": "HTMLModel",
          "model_module_version": "1.5.0",
          "state": {
            "_dom_classes": [],
            "_model_module": "@jupyter-widgets/controls",
            "_model_module_version": "1.5.0",
            "_model_name": "HTMLModel",
            "_view_count": null,
            "_view_module": "@jupyter-widgets/controls",
            "_view_module_version": "1.5.0",
            "_view_name": "HTMLView",
            "description": "",
            "description_tooltip": null,
            "layout": "IPY_MODEL_14b340cb4e8d4810a870d3a03fa134e4",
            "placeholder": "​",
            "style": "IPY_MODEL_5553cb3537b0400dbca1a65228d31906",
            "value": " 190/190 [00:00&lt;00:00, 13.5kB/s]"
          }
        },
        "3a34dde27dae43dfbcdfae8d22b25b70": {
          "model_module": "@jupyter-widgets/base",
          "model_name": "LayoutModel",
          "model_module_version": "1.2.0",
          "state": {
            "_model_module": "@jupyter-widgets/base",
            "_model_module_version": "1.2.0",
            "_model_name": "LayoutModel",
            "_view_count": null,
            "_view_module": "@jupyter-widgets/base",
            "_view_module_version": "1.2.0",
            "_view_name": "LayoutView",
            "align_content": null,
            "align_items": null,
            "align_self": null,
            "border": null,
            "bottom": null,
            "display": null,
            "flex": null,
            "flex_flow": null,
            "grid_area": null,
            "grid_auto_columns": null,
            "grid_auto_flow": null,
            "grid_auto_rows": null,
            "grid_column": null,
            "grid_gap": null,
            "grid_row": null,
            "grid_template_areas": null,
            "grid_template_columns": null,
            "grid_template_rows": null,
            "height": null,
            "justify_content": null,
            "justify_items": null,
            "left": null,
            "margin": null,
            "max_height": null,
            "max_width": null,
            "min_height": null,
            "min_width": null,
            "object_fit": null,
            "object_position": null,
            "order": null,
            "overflow": null,
            "overflow_x": null,
            "overflow_y": null,
            "padding": null,
            "right": null,
            "top": null,
            "visibility": null,
            "width": null
          }
        },
        "0ca48e86eb8943b9a801e224a3e403c1": {
          "model_module": "@jupyter-widgets/base",
          "model_name": "LayoutModel",
          "model_module_version": "1.2.0",
          "state": {
            "_model_module": "@jupyter-widgets/base",
            "_model_module_version": "1.2.0",
            "_model_name": "LayoutModel",
            "_view_count": null,
            "_view_module": "@jupyter-widgets/base",
            "_view_module_version": "1.2.0",
            "_view_name": "LayoutView",
            "align_content": null,
            "align_items": null,
            "align_self": null,
            "border": null,
            "bottom": null,
            "display": null,
            "flex": null,
            "flex_flow": null,
            "grid_area": null,
            "grid_auto_columns": null,
            "grid_auto_flow": null,
            "grid_auto_rows": null,
            "grid_column": null,
            "grid_gap": null,
            "grid_row": null,
            "grid_template_areas": null,
            "grid_template_columns": null,
            "grid_template_rows": null,
            "height": null,
            "justify_content": null,
            "justify_items": null,
            "left": null,
            "margin": null,
            "max_height": null,
            "max_width": null,
            "min_height": null,
            "min_width": null,
            "object_fit": null,
            "object_position": null,
            "order": null,
            "overflow": null,
            "overflow_x": null,
            "overflow_y": null,
            "padding": null,
            "right": null,
            "top": null,
            "visibility": null,
            "width": null
          }
        },
        "ce3610b1d44645f2b7a20b46079c09e0": {
          "model_module": "@jupyter-widgets/controls",
          "model_name": "DescriptionStyleModel",
          "model_module_version": "1.5.0",
          "state": {
            "_model_module": "@jupyter-widgets/controls",
            "_model_module_version": "1.5.0",
            "_model_name": "DescriptionStyleModel",
            "_view_count": null,
            "_view_module": "@jupyter-widgets/base",
            "_view_module_version": "1.2.0",
            "_view_name": "StyleView",
            "description_width": ""
          }
        },
        "d9fdc29813474016b2ab68eda8d63a67": {
          "model_module": "@jupyter-widgets/base",
          "model_name": "LayoutModel",
          "model_module_version": "1.2.0",
          "state": {
            "_model_module": "@jupyter-widgets/base",
            "_model_module_version": "1.2.0",
            "_model_name": "LayoutModel",
            "_view_count": null,
            "_view_module": "@jupyter-widgets/base",
            "_view_module_version": "1.2.0",
            "_view_name": "LayoutView",
            "align_content": null,
            "align_items": null,
            "align_self": null,
            "border": null,
            "bottom": null,
            "display": null,
            "flex": null,
            "flex_flow": null,
            "grid_area": null,
            "grid_auto_columns": null,
            "grid_auto_flow": null,
            "grid_auto_rows": null,
            "grid_column": null,
            "grid_gap": null,
            "grid_row": null,
            "grid_template_areas": null,
            "grid_template_columns": null,
            "grid_template_rows": null,
            "height": null,
            "justify_content": null,
            "justify_items": null,
            "left": null,
            "margin": null,
            "max_height": null,
            "max_width": null,
            "min_height": null,
            "min_width": null,
            "object_fit": null,
            "object_position": null,
            "order": null,
            "overflow": null,
            "overflow_x": null,
            "overflow_y": null,
            "padding": null,
            "right": null,
            "top": null,
            "visibility": null,
            "width": null
          }
        },
        "0518e04eb2794cdfb8add83df2dafc13": {
          "model_module": "@jupyter-widgets/controls",
          "model_name": "ProgressStyleModel",
          "model_module_version": "1.5.0",
          "state": {
            "_model_module": "@jupyter-widgets/controls",
            "_model_module_version": "1.5.0",
            "_model_name": "ProgressStyleModel",
            "_view_count": null,
            "_view_module": "@jupyter-widgets/base",
            "_view_module_version": "1.2.0",
            "_view_name": "StyleView",
            "bar_color": null,
            "description_width": ""
          }
        },
        "14b340cb4e8d4810a870d3a03fa134e4": {
          "model_module": "@jupyter-widgets/base",
          "model_name": "LayoutModel",
          "model_module_version": "1.2.0",
          "state": {
            "_model_module": "@jupyter-widgets/base",
            "_model_module_version": "1.2.0",
            "_model_name": "LayoutModel",
            "_view_count": null,
            "_view_module": "@jupyter-widgets/base",
            "_view_module_version": "1.2.0",
            "_view_name": "LayoutView",
            "align_content": null,
            "align_items": null,
            "align_self": null,
            "border": null,
            "bottom": null,
            "display": null,
            "flex": null,
            "flex_flow": null,
            "grid_area": null,
            "grid_auto_columns": null,
            "grid_auto_flow": null,
            "grid_auto_rows": null,
            "grid_column": null,
            "grid_gap": null,
            "grid_row": null,
            "grid_template_areas": null,
            "grid_template_columns": null,
            "grid_template_rows": null,
            "height": null,
            "justify_content": null,
            "justify_items": null,
            "left": null,
            "margin": null,
            "max_height": null,
            "max_width": null,
            "min_height": null,
            "min_width": null,
            "object_fit": null,
            "object_position": null,
            "order": null,
            "overflow": null,
            "overflow_x": null,
            "overflow_y": null,
            "padding": null,
            "right": null,
            "top": null,
            "visibility": null,
            "width": null
          }
        },
        "5553cb3537b0400dbca1a65228d31906": {
          "model_module": "@jupyter-widgets/controls",
          "model_name": "DescriptionStyleModel",
          "model_module_version": "1.5.0",
          "state": {
            "_model_module": "@jupyter-widgets/controls",
            "_model_module_version": "1.5.0",
            "_model_name": "DescriptionStyleModel",
            "_view_count": null,
            "_view_module": "@jupyter-widgets/base",
            "_view_module_version": "1.2.0",
            "_view_name": "StyleView",
            "description_width": ""
          }
        },
        "b3984c2ef85043a989c33cbc4898e63c": {
          "model_module": "@jupyter-widgets/controls",
          "model_name": "HBoxModel",
          "model_module_version": "1.5.0",
          "state": {
            "_dom_classes": [],
            "_model_module": "@jupyter-widgets/controls",
            "_model_module_version": "1.5.0",
            "_model_name": "HBoxModel",
            "_view_count": null,
            "_view_module": "@jupyter-widgets/controls",
            "_view_module_version": "1.5.0",
            "_view_name": "HBoxView",
            "box_style": "",
            "children": [
              "IPY_MODEL_405eaf0b0a7b44e9a6c9a679ce24c203",
              "IPY_MODEL_17ec0ef619ec4de8a21b8bd160a99a10",
              "IPY_MODEL_08f8b502505d4a22bd3e7a18f989714a"
            ],
            "layout": "IPY_MODEL_164f455d6eca4ee9bb30b20149a9def5"
          }
        },
        "405eaf0b0a7b44e9a6c9a679ce24c203": {
          "model_module": "@jupyter-widgets/controls",
          "model_name": "HTMLModel",
          "model_module_version": "1.5.0",
          "state": {
            "_dom_classes": [],
            "_model_module": "@jupyter-widgets/controls",
            "_model_module_version": "1.5.0",
            "_model_name": "HTMLModel",
            "_view_count": null,
            "_view_module": "@jupyter-widgets/controls",
            "_view_module_version": "1.5.0",
            "_view_name": "HTMLView",
            "description": "",
            "description_tooltip": null,
            "layout": "IPY_MODEL_f45dcc81c1ea4b23919005a0ebe7e0a1",
            "placeholder": "​",
            "style": "IPY_MODEL_e8da40b874ec404991d5017bb8443e4c",
            "value": "Downloading (…)93c10421f3/README.md: 100%"
          }
        },
        "17ec0ef619ec4de8a21b8bd160a99a10": {
          "model_module": "@jupyter-widgets/controls",
          "model_name": "FloatProgressModel",
          "model_module_version": "1.5.0",
          "state": {
            "_dom_classes": [],
            "_model_module": "@jupyter-widgets/controls",
            "_model_module_version": "1.5.0",
            "_model_name": "FloatProgressModel",
            "_view_count": null,
            "_view_module": "@jupyter-widgets/controls",
            "_view_module_version": "1.5.0",
            "_view_name": "ProgressView",
            "bar_style": "success",
            "description": "",
            "description_tooltip": null,
            "layout": "IPY_MODEL_18be6e6198a34b05ac25770658eab2bd",
            "max": 90189,
            "min": 0,
            "orientation": "horizontal",
            "style": "IPY_MODEL_38b96615d80f44e1b431a50c3425f8cf",
            "value": 90189
          }
        },
        "08f8b502505d4a22bd3e7a18f989714a": {
          "model_module": "@jupyter-widgets/controls",
          "model_name": "HTMLModel",
          "model_module_version": "1.5.0",
          "state": {
            "_dom_classes": [],
            "_model_module": "@jupyter-widgets/controls",
            "_model_module_version": "1.5.0",
            "_model_name": "HTMLModel",
            "_view_count": null,
            "_view_module": "@jupyter-widgets/controls",
            "_view_module_version": "1.5.0",
            "_view_name": "HTMLView",
            "description": "",
            "description_tooltip": null,
            "layout": "IPY_MODEL_efa63d34ce6b496da3cce220020b0953",
            "placeholder": "​",
            "style": "IPY_MODEL_3e7db76a38094b6c8ae7f9c468d56117",
            "value": " 90.2k/90.2k [00:00&lt;00:00, 4.98MB/s]"
          }
        },
        "164f455d6eca4ee9bb30b20149a9def5": {
          "model_module": "@jupyter-widgets/base",
          "model_name": "LayoutModel",
          "model_module_version": "1.2.0",
          "state": {
            "_model_module": "@jupyter-widgets/base",
            "_model_module_version": "1.2.0",
            "_model_name": "LayoutModel",
            "_view_count": null,
            "_view_module": "@jupyter-widgets/base",
            "_view_module_version": "1.2.0",
            "_view_name": "LayoutView",
            "align_content": null,
            "align_items": null,
            "align_self": null,
            "border": null,
            "bottom": null,
            "display": null,
            "flex": null,
            "flex_flow": null,
            "grid_area": null,
            "grid_auto_columns": null,
            "grid_auto_flow": null,
            "grid_auto_rows": null,
            "grid_column": null,
            "grid_gap": null,
            "grid_row": null,
            "grid_template_areas": null,
            "grid_template_columns": null,
            "grid_template_rows": null,
            "height": null,
            "justify_content": null,
            "justify_items": null,
            "left": null,
            "margin": null,
            "max_height": null,
            "max_width": null,
            "min_height": null,
            "min_width": null,
            "object_fit": null,
            "object_position": null,
            "order": null,
            "overflow": null,
            "overflow_x": null,
            "overflow_y": null,
            "padding": null,
            "right": null,
            "top": null,
            "visibility": null,
            "width": null
          }
        },
        "f45dcc81c1ea4b23919005a0ebe7e0a1": {
          "model_module": "@jupyter-widgets/base",
          "model_name": "LayoutModel",
          "model_module_version": "1.2.0",
          "state": {
            "_model_module": "@jupyter-widgets/base",
            "_model_module_version": "1.2.0",
            "_model_name": "LayoutModel",
            "_view_count": null,
            "_view_module": "@jupyter-widgets/base",
            "_view_module_version": "1.2.0",
            "_view_name": "LayoutView",
            "align_content": null,
            "align_items": null,
            "align_self": null,
            "border": null,
            "bottom": null,
            "display": null,
            "flex": null,
            "flex_flow": null,
            "grid_area": null,
            "grid_auto_columns": null,
            "grid_auto_flow": null,
            "grid_auto_rows": null,
            "grid_column": null,
            "grid_gap": null,
            "grid_row": null,
            "grid_template_areas": null,
            "grid_template_columns": null,
            "grid_template_rows": null,
            "height": null,
            "justify_content": null,
            "justify_items": null,
            "left": null,
            "margin": null,
            "max_height": null,
            "max_width": null,
            "min_height": null,
            "min_width": null,
            "object_fit": null,
            "object_position": null,
            "order": null,
            "overflow": null,
            "overflow_x": null,
            "overflow_y": null,
            "padding": null,
            "right": null,
            "top": null,
            "visibility": null,
            "width": null
          }
        },
        "e8da40b874ec404991d5017bb8443e4c": {
          "model_module": "@jupyter-widgets/controls",
          "model_name": "DescriptionStyleModel",
          "model_module_version": "1.5.0",
          "state": {
            "_model_module": "@jupyter-widgets/controls",
            "_model_module_version": "1.5.0",
            "_model_name": "DescriptionStyleModel",
            "_view_count": null,
            "_view_module": "@jupyter-widgets/base",
            "_view_module_version": "1.2.0",
            "_view_name": "StyleView",
            "description_width": ""
          }
        },
        "18be6e6198a34b05ac25770658eab2bd": {
          "model_module": "@jupyter-widgets/base",
          "model_name": "LayoutModel",
          "model_module_version": "1.2.0",
          "state": {
            "_model_module": "@jupyter-widgets/base",
            "_model_module_version": "1.2.0",
            "_model_name": "LayoutModel",
            "_view_count": null,
            "_view_module": "@jupyter-widgets/base",
            "_view_module_version": "1.2.0",
            "_view_name": "LayoutView",
            "align_content": null,
            "align_items": null,
            "align_self": null,
            "border": null,
            "bottom": null,
            "display": null,
            "flex": null,
            "flex_flow": null,
            "grid_area": null,
            "grid_auto_columns": null,
            "grid_auto_flow": null,
            "grid_auto_rows": null,
            "grid_column": null,
            "grid_gap": null,
            "grid_row": null,
            "grid_template_areas": null,
            "grid_template_columns": null,
            "grid_template_rows": null,
            "height": null,
            "justify_content": null,
            "justify_items": null,
            "left": null,
            "margin": null,
            "max_height": null,
            "max_width": null,
            "min_height": null,
            "min_width": null,
            "object_fit": null,
            "object_position": null,
            "order": null,
            "overflow": null,
            "overflow_x": null,
            "overflow_y": null,
            "padding": null,
            "right": null,
            "top": null,
            "visibility": null,
            "width": null
          }
        },
        "38b96615d80f44e1b431a50c3425f8cf": {
          "model_module": "@jupyter-widgets/controls",
          "model_name": "ProgressStyleModel",
          "model_module_version": "1.5.0",
          "state": {
            "_model_module": "@jupyter-widgets/controls",
            "_model_module_version": "1.5.0",
            "_model_name": "ProgressStyleModel",
            "_view_count": null,
            "_view_module": "@jupyter-widgets/base",
            "_view_module_version": "1.2.0",
            "_view_name": "StyleView",
            "bar_color": null,
            "description_width": ""
          }
        },
        "efa63d34ce6b496da3cce220020b0953": {
          "model_module": "@jupyter-widgets/base",
          "model_name": "LayoutModel",
          "model_module_version": "1.2.0",
          "state": {
            "_model_module": "@jupyter-widgets/base",
            "_model_module_version": "1.2.0",
            "_model_name": "LayoutModel",
            "_view_count": null,
            "_view_module": "@jupyter-widgets/base",
            "_view_module_version": "1.2.0",
            "_view_name": "LayoutView",
            "align_content": null,
            "align_items": null,
            "align_self": null,
            "border": null,
            "bottom": null,
            "display": null,
            "flex": null,
            "flex_flow": null,
            "grid_area": null,
            "grid_auto_columns": null,
            "grid_auto_flow": null,
            "grid_auto_rows": null,
            "grid_column": null,
            "grid_gap": null,
            "grid_row": null,
            "grid_template_areas": null,
            "grid_template_columns": null,
            "grid_template_rows": null,
            "height": null,
            "justify_content": null,
            "justify_items": null,
            "left": null,
            "margin": null,
            "max_height": null,
            "max_width": null,
            "min_height": null,
            "min_width": null,
            "object_fit": null,
            "object_position": null,
            "order": null,
            "overflow": null,
            "overflow_x": null,
            "overflow_y": null,
            "padding": null,
            "right": null,
            "top": null,
            "visibility": null,
            "width": null
          }
        },
        "3e7db76a38094b6c8ae7f9c468d56117": {
          "model_module": "@jupyter-widgets/controls",
          "model_name": "DescriptionStyleModel",
          "model_module_version": "1.5.0",
          "state": {
            "_model_module": "@jupyter-widgets/controls",
            "_model_module_version": "1.5.0",
            "_model_name": "DescriptionStyleModel",
            "_view_count": null,
            "_view_module": "@jupyter-widgets/base",
            "_view_module_version": "1.2.0",
            "_view_name": "StyleView",
            "description_width": ""
          }
        },
        "cf3acaaee787428ca5b12e644d217cca": {
          "model_module": "@jupyter-widgets/controls",
          "model_name": "HBoxModel",
          "model_module_version": "1.5.0",
          "state": {
            "_dom_classes": [],
            "_model_module": "@jupyter-widgets/controls",
            "_model_module_version": "1.5.0",
            "_model_name": "HBoxModel",
            "_view_count": null,
            "_view_module": "@jupyter-widgets/controls",
            "_view_module_version": "1.5.0",
            "_view_name": "HBoxView",
            "box_style": "",
            "children": [
              "IPY_MODEL_75185c860e3b491c801e80e4214175da",
              "IPY_MODEL_9b3bbf3513904976b28750cfa7494865",
              "IPY_MODEL_2a1f2960fcfd483da950395a82c0f61f"
            ],
            "layout": "IPY_MODEL_8702832964684c7186967e71d1090667"
          }
        },
        "75185c860e3b491c801e80e4214175da": {
          "model_module": "@jupyter-widgets/controls",
          "model_name": "HTMLModel",
          "model_module_version": "1.5.0",
          "state": {
            "_dom_classes": [],
            "_model_module": "@jupyter-widgets/controls",
            "_model_module_version": "1.5.0",
            "_model_name": "HTMLModel",
            "_view_count": null,
            "_view_module": "@jupyter-widgets/controls",
            "_view_module_version": "1.5.0",
            "_view_name": "HTMLView",
            "description": "",
            "description_tooltip": null,
            "layout": "IPY_MODEL_2022c837f8044e158f6912a4f986f7df",
            "placeholder": "​",
            "style": "IPY_MODEL_d469f8344f1f47a283442e72486956de",
            "value": "Downloading (…)c10421f3/config.json: 100%"
          }
        },
        "9b3bbf3513904976b28750cfa7494865": {
          "model_module": "@jupyter-widgets/controls",
          "model_name": "FloatProgressModel",
          "model_module_version": "1.5.0",
          "state": {
            "_dom_classes": [],
            "_model_module": "@jupyter-widgets/controls",
            "_model_module_version": "1.5.0",
            "_model_name": "FloatProgressModel",
            "_view_count": null,
            "_view_module": "@jupyter-widgets/controls",
            "_view_module_version": "1.5.0",
            "_view_name": "ProgressView",
            "bar_style": "success",
            "description": "",
            "description_tooltip": null,
            "layout": "IPY_MODEL_baf0f46cfdbb4052b6a38ad741113a28",
            "max": 684,
            "min": 0,
            "orientation": "horizontal",
            "style": "IPY_MODEL_287f01aa285a46688deced66596cfa25",
            "value": 684
          }
        },
        "2a1f2960fcfd483da950395a82c0f61f": {
          "model_module": "@jupyter-widgets/controls",
          "model_name": "HTMLModel",
          "model_module_version": "1.5.0",
          "state": {
            "_dom_classes": [],
            "_model_module": "@jupyter-widgets/controls",
            "_model_module_version": "1.5.0",
            "_model_name": "HTMLModel",
            "_view_count": null,
            "_view_module": "@jupyter-widgets/controls",
            "_view_module_version": "1.5.0",
            "_view_name": "HTMLView",
            "description": "",
            "description_tooltip": null,
            "layout": "IPY_MODEL_2f5c1bc931c94048a4d71d1fe7c6d49c",
            "placeholder": "​",
            "style": "IPY_MODEL_6fd526cea9f84e999380a0a8ced0a9a9",
            "value": " 684/684 [00:00&lt;00:00, 28.8kB/s]"
          }
        },
        "8702832964684c7186967e71d1090667": {
          "model_module": "@jupyter-widgets/base",
          "model_name": "LayoutModel",
          "model_module_version": "1.2.0",
          "state": {
            "_model_module": "@jupyter-widgets/base",
            "_model_module_version": "1.2.0",
            "_model_name": "LayoutModel",
            "_view_count": null,
            "_view_module": "@jupyter-widgets/base",
            "_view_module_version": "1.2.0",
            "_view_name": "LayoutView",
            "align_content": null,
            "align_items": null,
            "align_self": null,
            "border": null,
            "bottom": null,
            "display": null,
            "flex": null,
            "flex_flow": null,
            "grid_area": null,
            "grid_auto_columns": null,
            "grid_auto_flow": null,
            "grid_auto_rows": null,
            "grid_column": null,
            "grid_gap": null,
            "grid_row": null,
            "grid_template_areas": null,
            "grid_template_columns": null,
            "grid_template_rows": null,
            "height": null,
            "justify_content": null,
            "justify_items": null,
            "left": null,
            "margin": null,
            "max_height": null,
            "max_width": null,
            "min_height": null,
            "min_width": null,
            "object_fit": null,
            "object_position": null,
            "order": null,
            "overflow": null,
            "overflow_x": null,
            "overflow_y": null,
            "padding": null,
            "right": null,
            "top": null,
            "visibility": null,
            "width": null
          }
        },
        "2022c837f8044e158f6912a4f986f7df": {
          "model_module": "@jupyter-widgets/base",
          "model_name": "LayoutModel",
          "model_module_version": "1.2.0",
          "state": {
            "_model_module": "@jupyter-widgets/base",
            "_model_module_version": "1.2.0",
            "_model_name": "LayoutModel",
            "_view_count": null,
            "_view_module": "@jupyter-widgets/base",
            "_view_module_version": "1.2.0",
            "_view_name": "LayoutView",
            "align_content": null,
            "align_items": null,
            "align_self": null,
            "border": null,
            "bottom": null,
            "display": null,
            "flex": null,
            "flex_flow": null,
            "grid_area": null,
            "grid_auto_columns": null,
            "grid_auto_flow": null,
            "grid_auto_rows": null,
            "grid_column": null,
            "grid_gap": null,
            "grid_row": null,
            "grid_template_areas": null,
            "grid_template_columns": null,
            "grid_template_rows": null,
            "height": null,
            "justify_content": null,
            "justify_items": null,
            "left": null,
            "margin": null,
            "max_height": null,
            "max_width": null,
            "min_height": null,
            "min_width": null,
            "object_fit": null,
            "object_position": null,
            "order": null,
            "overflow": null,
            "overflow_x": null,
            "overflow_y": null,
            "padding": null,
            "right": null,
            "top": null,
            "visibility": null,
            "width": null
          }
        },
        "d469f8344f1f47a283442e72486956de": {
          "model_module": "@jupyter-widgets/controls",
          "model_name": "DescriptionStyleModel",
          "model_module_version": "1.5.0",
          "state": {
            "_model_module": "@jupyter-widgets/controls",
            "_model_module_version": "1.5.0",
            "_model_name": "DescriptionStyleModel",
            "_view_count": null,
            "_view_module": "@jupyter-widgets/base",
            "_view_module_version": "1.2.0",
            "_view_name": "StyleView",
            "description_width": ""
          }
        },
        "baf0f46cfdbb4052b6a38ad741113a28": {
          "model_module": "@jupyter-widgets/base",
          "model_name": "LayoutModel",
          "model_module_version": "1.2.0",
          "state": {
            "_model_module": "@jupyter-widgets/base",
            "_model_module_version": "1.2.0",
            "_model_name": "LayoutModel",
            "_view_count": null,
            "_view_module": "@jupyter-widgets/base",
            "_view_module_version": "1.2.0",
            "_view_name": "LayoutView",
            "align_content": null,
            "align_items": null,
            "align_self": null,
            "border": null,
            "bottom": null,
            "display": null,
            "flex": null,
            "flex_flow": null,
            "grid_area": null,
            "grid_auto_columns": null,
            "grid_auto_flow": null,
            "grid_auto_rows": null,
            "grid_column": null,
            "grid_gap": null,
            "grid_row": null,
            "grid_template_areas": null,
            "grid_template_columns": null,
            "grid_template_rows": null,
            "height": null,
            "justify_content": null,
            "justify_items": null,
            "left": null,
            "margin": null,
            "max_height": null,
            "max_width": null,
            "min_height": null,
            "min_width": null,
            "object_fit": null,
            "object_position": null,
            "order": null,
            "overflow": null,
            "overflow_x": null,
            "overflow_y": null,
            "padding": null,
            "right": null,
            "top": null,
            "visibility": null,
            "width": null
          }
        },
        "287f01aa285a46688deced66596cfa25": {
          "model_module": "@jupyter-widgets/controls",
          "model_name": "ProgressStyleModel",
          "model_module_version": "1.5.0",
          "state": {
            "_model_module": "@jupyter-widgets/controls",
            "_model_module_version": "1.5.0",
            "_model_name": "ProgressStyleModel",
            "_view_count": null,
            "_view_module": "@jupyter-widgets/base",
            "_view_module_version": "1.2.0",
            "_view_name": "StyleView",
            "bar_color": null,
            "description_width": ""
          }
        },
        "2f5c1bc931c94048a4d71d1fe7c6d49c": {
          "model_module": "@jupyter-widgets/base",
          "model_name": "LayoutModel",
          "model_module_version": "1.2.0",
          "state": {
            "_model_module": "@jupyter-widgets/base",
            "_model_module_version": "1.2.0",
            "_model_name": "LayoutModel",
            "_view_count": null,
            "_view_module": "@jupyter-widgets/base",
            "_view_module_version": "1.2.0",
            "_view_name": "LayoutView",
            "align_content": null,
            "align_items": null,
            "align_self": null,
            "border": null,
            "bottom": null,
            "display": null,
            "flex": null,
            "flex_flow": null,
            "grid_area": null,
            "grid_auto_columns": null,
            "grid_auto_flow": null,
            "grid_auto_rows": null,
            "grid_column": null,
            "grid_gap": null,
            "grid_row": null,
            "grid_template_areas": null,
            "grid_template_columns": null,
            "grid_template_rows": null,
            "height": null,
            "justify_content": null,
            "justify_items": null,
            "left": null,
            "margin": null,
            "max_height": null,
            "max_width": null,
            "min_height": null,
            "min_width": null,
            "object_fit": null,
            "object_position": null,
            "order": null,
            "overflow": null,
            "overflow_x": null,
            "overflow_y": null,
            "padding": null,
            "right": null,
            "top": null,
            "visibility": null,
            "width": null
          }
        },
        "6fd526cea9f84e999380a0a8ced0a9a9": {
          "model_module": "@jupyter-widgets/controls",
          "model_name": "DescriptionStyleModel",
          "model_module_version": "1.5.0",
          "state": {
            "_model_module": "@jupyter-widgets/controls",
            "_model_module_version": "1.5.0",
            "_model_name": "DescriptionStyleModel",
            "_view_count": null,
            "_view_module": "@jupyter-widgets/base",
            "_view_module_version": "1.2.0",
            "_view_name": "StyleView",
            "description_width": ""
          }
        },
        "2270159e97764e03bb8f2a270f9dbc92": {
          "model_module": "@jupyter-widgets/controls",
          "model_name": "HBoxModel",
          "model_module_version": "1.5.0",
          "state": {
            "_dom_classes": [],
            "_model_module": "@jupyter-widgets/controls",
            "_model_module_version": "1.5.0",
            "_model_name": "HBoxModel",
            "_view_count": null,
            "_view_module": "@jupyter-widgets/controls",
            "_view_module_version": "1.5.0",
            "_view_name": "HBoxView",
            "box_style": "",
            "children": [
              "IPY_MODEL_a4abb60f758f4453bdd08441de3b4be9",
              "IPY_MODEL_4eea6e9b3c9742328dbf61404247ae68",
              "IPY_MODEL_8a236d1c67da4af188dc3451deaf6912"
            ],
            "layout": "IPY_MODEL_e47733f34dce4174b68756bf193658e3"
          }
        },
        "a4abb60f758f4453bdd08441de3b4be9": {
          "model_module": "@jupyter-widgets/controls",
          "model_name": "HTMLModel",
          "model_module_version": "1.5.0",
          "state": {
            "_dom_classes": [],
            "_model_module": "@jupyter-widgets/controls",
            "_model_module_version": "1.5.0",
            "_model_name": "HTMLModel",
            "_view_count": null,
            "_view_module": "@jupyter-widgets/controls",
            "_view_module_version": "1.5.0",
            "_view_name": "HTMLView",
            "description": "",
            "description_tooltip": null,
            "layout": "IPY_MODEL_0ff1088c5cc74472845f8aaee24b1bf0",
            "placeholder": "​",
            "style": "IPY_MODEL_bafc1ca38c214f3d9f2f1afe73c41fcb",
            "value": "Downloading (…)ce_transformers.json: 100%"
          }
        },
        "4eea6e9b3c9742328dbf61404247ae68": {
          "model_module": "@jupyter-widgets/controls",
          "model_name": "FloatProgressModel",
          "model_module_version": "1.5.0",
          "state": {
            "_dom_classes": [],
            "_model_module": "@jupyter-widgets/controls",
            "_model_module_version": "1.5.0",
            "_model_name": "FloatProgressModel",
            "_view_count": null,
            "_view_module": "@jupyter-widgets/controls",
            "_view_module_version": "1.5.0",
            "_view_name": "ProgressView",
            "bar_style": "success",
            "description": "",
            "description_tooltip": null,
            "layout": "IPY_MODEL_7b61414cd55e4a8b92d8986795a76d86",
            "max": 124,
            "min": 0,
            "orientation": "horizontal",
            "style": "IPY_MODEL_87d36151ca6248f6b1feeaaa326e9867",
            "value": 124
          }
        },
        "8a236d1c67da4af188dc3451deaf6912": {
          "model_module": "@jupyter-widgets/controls",
          "model_name": "HTMLModel",
          "model_module_version": "1.5.0",
          "state": {
            "_dom_classes": [],
            "_model_module": "@jupyter-widgets/controls",
            "_model_module_version": "1.5.0",
            "_model_name": "HTMLModel",
            "_view_count": null,
            "_view_module": "@jupyter-widgets/controls",
            "_view_module_version": "1.5.0",
            "_view_name": "HTMLView",
            "description": "",
            "description_tooltip": null,
            "layout": "IPY_MODEL_d8b56be0b95f46eab7857572a1d25120",
            "placeholder": "​",
            "style": "IPY_MODEL_398a2d89511b4ae0af972f4fd123656d",
            "value": " 124/124 [00:00&lt;00:00, 6.27kB/s]"
          }
        },
        "e47733f34dce4174b68756bf193658e3": {
          "model_module": "@jupyter-widgets/base",
          "model_name": "LayoutModel",
          "model_module_version": "1.2.0",
          "state": {
            "_model_module": "@jupyter-widgets/base",
            "_model_module_version": "1.2.0",
            "_model_name": "LayoutModel",
            "_view_count": null,
            "_view_module": "@jupyter-widgets/base",
            "_view_module_version": "1.2.0",
            "_view_name": "LayoutView",
            "align_content": null,
            "align_items": null,
            "align_self": null,
            "border": null,
            "bottom": null,
            "display": null,
            "flex": null,
            "flex_flow": null,
            "grid_area": null,
            "grid_auto_columns": null,
            "grid_auto_flow": null,
            "grid_auto_rows": null,
            "grid_column": null,
            "grid_gap": null,
            "grid_row": null,
            "grid_template_areas": null,
            "grid_template_columns": null,
            "grid_template_rows": null,
            "height": null,
            "justify_content": null,
            "justify_items": null,
            "left": null,
            "margin": null,
            "max_height": null,
            "max_width": null,
            "min_height": null,
            "min_width": null,
            "object_fit": null,
            "object_position": null,
            "order": null,
            "overflow": null,
            "overflow_x": null,
            "overflow_y": null,
            "padding": null,
            "right": null,
            "top": null,
            "visibility": null,
            "width": null
          }
        },
        "0ff1088c5cc74472845f8aaee24b1bf0": {
          "model_module": "@jupyter-widgets/base",
          "model_name": "LayoutModel",
          "model_module_version": "1.2.0",
          "state": {
            "_model_module": "@jupyter-widgets/base",
            "_model_module_version": "1.2.0",
            "_model_name": "LayoutModel",
            "_view_count": null,
            "_view_module": "@jupyter-widgets/base",
            "_view_module_version": "1.2.0",
            "_view_name": "LayoutView",
            "align_content": null,
            "align_items": null,
            "align_self": null,
            "border": null,
            "bottom": null,
            "display": null,
            "flex": null,
            "flex_flow": null,
            "grid_area": null,
            "grid_auto_columns": null,
            "grid_auto_flow": null,
            "grid_auto_rows": null,
            "grid_column": null,
            "grid_gap": null,
            "grid_row": null,
            "grid_template_areas": null,
            "grid_template_columns": null,
            "grid_template_rows": null,
            "height": null,
            "justify_content": null,
            "justify_items": null,
            "left": null,
            "margin": null,
            "max_height": null,
            "max_width": null,
            "min_height": null,
            "min_width": null,
            "object_fit": null,
            "object_position": null,
            "order": null,
            "overflow": null,
            "overflow_x": null,
            "overflow_y": null,
            "padding": null,
            "right": null,
            "top": null,
            "visibility": null,
            "width": null
          }
        },
        "bafc1ca38c214f3d9f2f1afe73c41fcb": {
          "model_module": "@jupyter-widgets/controls",
          "model_name": "DescriptionStyleModel",
          "model_module_version": "1.5.0",
          "state": {
            "_model_module": "@jupyter-widgets/controls",
            "_model_module_version": "1.5.0",
            "_model_name": "DescriptionStyleModel",
            "_view_count": null,
            "_view_module": "@jupyter-widgets/base",
            "_view_module_version": "1.2.0",
            "_view_name": "StyleView",
            "description_width": ""
          }
        },
        "7b61414cd55e4a8b92d8986795a76d86": {
          "model_module": "@jupyter-widgets/base",
          "model_name": "LayoutModel",
          "model_module_version": "1.2.0",
          "state": {
            "_model_module": "@jupyter-widgets/base",
            "_model_module_version": "1.2.0",
            "_model_name": "LayoutModel",
            "_view_count": null,
            "_view_module": "@jupyter-widgets/base",
            "_view_module_version": "1.2.0",
            "_view_name": "LayoutView",
            "align_content": null,
            "align_items": null,
            "align_self": null,
            "border": null,
            "bottom": null,
            "display": null,
            "flex": null,
            "flex_flow": null,
            "grid_area": null,
            "grid_auto_columns": null,
            "grid_auto_flow": null,
            "grid_auto_rows": null,
            "grid_column": null,
            "grid_gap": null,
            "grid_row": null,
            "grid_template_areas": null,
            "grid_template_columns": null,
            "grid_template_rows": null,
            "height": null,
            "justify_content": null,
            "justify_items": null,
            "left": null,
            "margin": null,
            "max_height": null,
            "max_width": null,
            "min_height": null,
            "min_width": null,
            "object_fit": null,
            "object_position": null,
            "order": null,
            "overflow": null,
            "overflow_x": null,
            "overflow_y": null,
            "padding": null,
            "right": null,
            "top": null,
            "visibility": null,
            "width": null
          }
        },
        "87d36151ca6248f6b1feeaaa326e9867": {
          "model_module": "@jupyter-widgets/controls",
          "model_name": "ProgressStyleModel",
          "model_module_version": "1.5.0",
          "state": {
            "_model_module": "@jupyter-widgets/controls",
            "_model_module_version": "1.5.0",
            "_model_name": "ProgressStyleModel",
            "_view_count": null,
            "_view_module": "@jupyter-widgets/base",
            "_view_module_version": "1.2.0",
            "_view_name": "StyleView",
            "bar_color": null,
            "description_width": ""
          }
        },
        "d8b56be0b95f46eab7857572a1d25120": {
          "model_module": "@jupyter-widgets/base",
          "model_name": "LayoutModel",
          "model_module_version": "1.2.0",
          "state": {
            "_model_module": "@jupyter-widgets/base",
            "_model_module_version": "1.2.0",
            "_model_name": "LayoutModel",
            "_view_count": null,
            "_view_module": "@jupyter-widgets/base",
            "_view_module_version": "1.2.0",
            "_view_name": "LayoutView",
            "align_content": null,
            "align_items": null,
            "align_self": null,
            "border": null,
            "bottom": null,
            "display": null,
            "flex": null,
            "flex_flow": null,
            "grid_area": null,
            "grid_auto_columns": null,
            "grid_auto_flow": null,
            "grid_auto_rows": null,
            "grid_column": null,
            "grid_gap": null,
            "grid_row": null,
            "grid_template_areas": null,
            "grid_template_columns": null,
            "grid_template_rows": null,
            "height": null,
            "justify_content": null,
            "justify_items": null,
            "left": null,
            "margin": null,
            "max_height": null,
            "max_width": null,
            "min_height": null,
            "min_width": null,
            "object_fit": null,
            "object_position": null,
            "order": null,
            "overflow": null,
            "overflow_x": null,
            "overflow_y": null,
            "padding": null,
            "right": null,
            "top": null,
            "visibility": null,
            "width": null
          }
        },
        "398a2d89511b4ae0af972f4fd123656d": {
          "model_module": "@jupyter-widgets/controls",
          "model_name": "DescriptionStyleModel",
          "model_module_version": "1.5.0",
          "state": {
            "_model_module": "@jupyter-widgets/controls",
            "_model_module_version": "1.5.0",
            "_model_name": "DescriptionStyleModel",
            "_view_count": null,
            "_view_module": "@jupyter-widgets/base",
            "_view_module_version": "1.2.0",
            "_view_name": "StyleView",
            "description_width": ""
          }
        },
        "716f227cade64562a28281a0eb9a0dfc": {
          "model_module": "@jupyter-widgets/controls",
          "model_name": "HBoxModel",
          "model_module_version": "1.5.0",
          "state": {
            "_dom_classes": [],
            "_model_module": "@jupyter-widgets/controls",
            "_model_module_version": "1.5.0",
            "_model_name": "HBoxModel",
            "_view_count": null,
            "_view_module": "@jupyter-widgets/controls",
            "_view_module_version": "1.5.0",
            "_view_name": "HBoxView",
            "box_style": "",
            "children": [
              "IPY_MODEL_68c00fa7c7634c17bdcb297c931d623d",
              "IPY_MODEL_c4fcb92fe0324632a16db2ebce2830ad",
              "IPY_MODEL_6d1b9d7493474f1696ecc356f4da9e66"
            ],
            "layout": "IPY_MODEL_82c0b09cdc8c4b4a8beafe9c58d7decd"
          }
        },
        "68c00fa7c7634c17bdcb297c931d623d": {
          "model_module": "@jupyter-widgets/controls",
          "model_name": "HTMLModel",
          "model_module_version": "1.5.0",
          "state": {
            "_dom_classes": [],
            "_model_module": "@jupyter-widgets/controls",
            "_model_module_version": "1.5.0",
            "_model_name": "HTMLModel",
            "_view_count": null,
            "_view_module": "@jupyter-widgets/controls",
            "_view_module_version": "1.5.0",
            "_view_name": "HTMLView",
            "description": "",
            "description_tooltip": null,
            "layout": "IPY_MODEL_d3008e702e2e4ec9a64abd59c7c2ee37",
            "placeholder": "​",
            "style": "IPY_MODEL_b0ee02ae89dc4b7684e983046e2d1ef4",
            "value": "Downloading model.safetensors: 100%"
          }
        },
        "c4fcb92fe0324632a16db2ebce2830ad": {
          "model_module": "@jupyter-widgets/controls",
          "model_name": "FloatProgressModel",
          "model_module_version": "1.5.0",
          "state": {
            "_dom_classes": [],
            "_model_module": "@jupyter-widgets/controls",
            "_model_module_version": "1.5.0",
            "_model_name": "FloatProgressModel",
            "_view_count": null,
            "_view_module": "@jupyter-widgets/controls",
            "_view_module_version": "1.5.0",
            "_view_name": "ProgressView",
            "bar_style": "success",
            "description": "",
            "description_tooltip": null,
            "layout": "IPY_MODEL_ceb60a7999d14701a657fdfdfd5045e2",
            "max": 133466304,
            "min": 0,
            "orientation": "horizontal",
            "style": "IPY_MODEL_9ec8190380d54f85abb004484ac14da7",
            "value": 133466304
          }
        },
        "6d1b9d7493474f1696ecc356f4da9e66": {
          "model_module": "@jupyter-widgets/controls",
          "model_name": "HTMLModel",
          "model_module_version": "1.5.0",
          "state": {
            "_dom_classes": [],
            "_model_module": "@jupyter-widgets/controls",
            "_model_module_version": "1.5.0",
            "_model_name": "HTMLModel",
            "_view_count": null,
            "_view_module": "@jupyter-widgets/controls",
            "_view_module_version": "1.5.0",
            "_view_name": "HTMLView",
            "description": "",
            "description_tooltip": null,
            "layout": "IPY_MODEL_9e7218a486b948028e1970023cc85b12",
            "placeholder": "​",
            "style": "IPY_MODEL_af85a0df2d374b84882fabd16743e603",
            "value": " 133M/133M [00:01&lt;00:00, 166MB/s]"
          }
        },
        "82c0b09cdc8c4b4a8beafe9c58d7decd": {
          "model_module": "@jupyter-widgets/base",
          "model_name": "LayoutModel",
          "model_module_version": "1.2.0",
          "state": {
            "_model_module": "@jupyter-widgets/base",
            "_model_module_version": "1.2.0",
            "_model_name": "LayoutModel",
            "_view_count": null,
            "_view_module": "@jupyter-widgets/base",
            "_view_module_version": "1.2.0",
            "_view_name": "LayoutView",
            "align_content": null,
            "align_items": null,
            "align_self": null,
            "border": null,
            "bottom": null,
            "display": null,
            "flex": null,
            "flex_flow": null,
            "grid_area": null,
            "grid_auto_columns": null,
            "grid_auto_flow": null,
            "grid_auto_rows": null,
            "grid_column": null,
            "grid_gap": null,
            "grid_row": null,
            "grid_template_areas": null,
            "grid_template_columns": null,
            "grid_template_rows": null,
            "height": null,
            "justify_content": null,
            "justify_items": null,
            "left": null,
            "margin": null,
            "max_height": null,
            "max_width": null,
            "min_height": null,
            "min_width": null,
            "object_fit": null,
            "object_position": null,
            "order": null,
            "overflow": null,
            "overflow_x": null,
            "overflow_y": null,
            "padding": null,
            "right": null,
            "top": null,
            "visibility": null,
            "width": null
          }
        },
        "d3008e702e2e4ec9a64abd59c7c2ee37": {
          "model_module": "@jupyter-widgets/base",
          "model_name": "LayoutModel",
          "model_module_version": "1.2.0",
          "state": {
            "_model_module": "@jupyter-widgets/base",
            "_model_module_version": "1.2.0",
            "_model_name": "LayoutModel",
            "_view_count": null,
            "_view_module": "@jupyter-widgets/base",
            "_view_module_version": "1.2.0",
            "_view_name": "LayoutView",
            "align_content": null,
            "align_items": null,
            "align_self": null,
            "border": null,
            "bottom": null,
            "display": null,
            "flex": null,
            "flex_flow": null,
            "grid_area": null,
            "grid_auto_columns": null,
            "grid_auto_flow": null,
            "grid_auto_rows": null,
            "grid_column": null,
            "grid_gap": null,
            "grid_row": null,
            "grid_template_areas": null,
            "grid_template_columns": null,
            "grid_template_rows": null,
            "height": null,
            "justify_content": null,
            "justify_items": null,
            "left": null,
            "margin": null,
            "max_height": null,
            "max_width": null,
            "min_height": null,
            "min_width": null,
            "object_fit": null,
            "object_position": null,
            "order": null,
            "overflow": null,
            "overflow_x": null,
            "overflow_y": null,
            "padding": null,
            "right": null,
            "top": null,
            "visibility": null,
            "width": null
          }
        },
        "b0ee02ae89dc4b7684e983046e2d1ef4": {
          "model_module": "@jupyter-widgets/controls",
          "model_name": "DescriptionStyleModel",
          "model_module_version": "1.5.0",
          "state": {
            "_model_module": "@jupyter-widgets/controls",
            "_model_module_version": "1.5.0",
            "_model_name": "DescriptionStyleModel",
            "_view_count": null,
            "_view_module": "@jupyter-widgets/base",
            "_view_module_version": "1.2.0",
            "_view_name": "StyleView",
            "description_width": ""
          }
        },
        "ceb60a7999d14701a657fdfdfd5045e2": {
          "model_module": "@jupyter-widgets/base",
          "model_name": "LayoutModel",
          "model_module_version": "1.2.0",
          "state": {
            "_model_module": "@jupyter-widgets/base",
            "_model_module_version": "1.2.0",
            "_model_name": "LayoutModel",
            "_view_count": null,
            "_view_module": "@jupyter-widgets/base",
            "_view_module_version": "1.2.0",
            "_view_name": "LayoutView",
            "align_content": null,
            "align_items": null,
            "align_self": null,
            "border": null,
            "bottom": null,
            "display": null,
            "flex": null,
            "flex_flow": null,
            "grid_area": null,
            "grid_auto_columns": null,
            "grid_auto_flow": null,
            "grid_auto_rows": null,
            "grid_column": null,
            "grid_gap": null,
            "grid_row": null,
            "grid_template_areas": null,
            "grid_template_columns": null,
            "grid_template_rows": null,
            "height": null,
            "justify_content": null,
            "justify_items": null,
            "left": null,
            "margin": null,
            "max_height": null,
            "max_width": null,
            "min_height": null,
            "min_width": null,
            "object_fit": null,
            "object_position": null,
            "order": null,
            "overflow": null,
            "overflow_x": null,
            "overflow_y": null,
            "padding": null,
            "right": null,
            "top": null,
            "visibility": null,
            "width": null
          }
        },
        "9ec8190380d54f85abb004484ac14da7": {
          "model_module": "@jupyter-widgets/controls",
          "model_name": "ProgressStyleModel",
          "model_module_version": "1.5.0",
          "state": {
            "_model_module": "@jupyter-widgets/controls",
            "_model_module_version": "1.5.0",
            "_model_name": "ProgressStyleModel",
            "_view_count": null,
            "_view_module": "@jupyter-widgets/base",
            "_view_module_version": "1.2.0",
            "_view_name": "StyleView",
            "bar_color": null,
            "description_width": ""
          }
        },
        "9e7218a486b948028e1970023cc85b12": {
          "model_module": "@jupyter-widgets/base",
          "model_name": "LayoutModel",
          "model_module_version": "1.2.0",
          "state": {
            "_model_module": "@jupyter-widgets/base",
            "_model_module_version": "1.2.0",
            "_model_name": "LayoutModel",
            "_view_count": null,
            "_view_module": "@jupyter-widgets/base",
            "_view_module_version": "1.2.0",
            "_view_name": "LayoutView",
            "align_content": null,
            "align_items": null,
            "align_self": null,
            "border": null,
            "bottom": null,
            "display": null,
            "flex": null,
            "flex_flow": null,
            "grid_area": null,
            "grid_auto_columns": null,
            "grid_auto_flow": null,
            "grid_auto_rows": null,
            "grid_column": null,
            "grid_gap": null,
            "grid_row": null,
            "grid_template_areas": null,
            "grid_template_columns": null,
            "grid_template_rows": null,
            "height": null,
            "justify_content": null,
            "justify_items": null,
            "left": null,
            "margin": null,
            "max_height": null,
            "max_width": null,
            "min_height": null,
            "min_width": null,
            "object_fit": null,
            "object_position": null,
            "order": null,
            "overflow": null,
            "overflow_x": null,
            "overflow_y": null,
            "padding": null,
            "right": null,
            "top": null,
            "visibility": null,
            "width": null
          }
        },
        "af85a0df2d374b84882fabd16743e603": {
          "model_module": "@jupyter-widgets/controls",
          "model_name": "DescriptionStyleModel",
          "model_module_version": "1.5.0",
          "state": {
            "_model_module": "@jupyter-widgets/controls",
            "_model_module_version": "1.5.0",
            "_model_name": "DescriptionStyleModel",
            "_view_count": null,
            "_view_module": "@jupyter-widgets/base",
            "_view_module_version": "1.2.0",
            "_view_name": "StyleView",
            "description_width": ""
          }
        },
        "185979d5dbdc47dc8f85ace13346664f": {
          "model_module": "@jupyter-widgets/controls",
          "model_name": "HBoxModel",
          "model_module_version": "1.5.0",
          "state": {
            "_dom_classes": [],
            "_model_module": "@jupyter-widgets/controls",
            "_model_module_version": "1.5.0",
            "_model_name": "HBoxModel",
            "_view_count": null,
            "_view_module": "@jupyter-widgets/controls",
            "_view_module_version": "1.5.0",
            "_view_name": "HBoxView",
            "box_style": "",
            "children": [
              "IPY_MODEL_15dcdbd6be9f4dc985fd508ecfe4511f",
              "IPY_MODEL_ec873c7d68f442e9b85afadc411c1fdc",
              "IPY_MODEL_50e9cdb31da44fa792316611ac1430a8"
            ],
            "layout": "IPY_MODEL_8a031096d7c9463fb05f968d932c2a16"
          }
        },
        "15dcdbd6be9f4dc985fd508ecfe4511f": {
          "model_module": "@jupyter-widgets/controls",
          "model_name": "HTMLModel",
          "model_module_version": "1.5.0",
          "state": {
            "_dom_classes": [],
            "_model_module": "@jupyter-widgets/controls",
            "_model_module_version": "1.5.0",
            "_model_name": "HTMLModel",
            "_view_count": null,
            "_view_module": "@jupyter-widgets/controls",
            "_view_module_version": "1.5.0",
            "_view_name": "HTMLView",
            "description": "",
            "description_tooltip": null,
            "layout": "IPY_MODEL_0608b4c7a25840e2b44f3c7594f83cd5",
            "placeholder": "​",
            "style": "IPY_MODEL_390752bf830842cf8f7b653a377bf4e2",
            "value": "Downloading pytorch_model.bin: 100%"
          }
        },
        "ec873c7d68f442e9b85afadc411c1fdc": {
          "model_module": "@jupyter-widgets/controls",
          "model_name": "FloatProgressModel",
          "model_module_version": "1.5.0",
          "state": {
            "_dom_classes": [],
            "_model_module": "@jupyter-widgets/controls",
            "_model_module_version": "1.5.0",
            "_model_name": "FloatProgressModel",
            "_view_count": null,
            "_view_module": "@jupyter-widgets/controls",
            "_view_module_version": "1.5.0",
            "_view_name": "ProgressView",
            "bar_style": "success",
            "description": "",
            "description_tooltip": null,
            "layout": "IPY_MODEL_11e4ee5b5e3d4c97bb27f9c9bd03457b",
            "max": 133508397,
            "min": 0,
            "orientation": "horizontal",
            "style": "IPY_MODEL_e3b756a6111f4334925af9040351fc35",
            "value": 133508397
          }
        },
        "50e9cdb31da44fa792316611ac1430a8": {
          "model_module": "@jupyter-widgets/controls",
          "model_name": "HTMLModel",
          "model_module_version": "1.5.0",
          "state": {
            "_dom_classes": [],
            "_model_module": "@jupyter-widgets/controls",
            "_model_module_version": "1.5.0",
            "_model_name": "HTMLModel",
            "_view_count": null,
            "_view_module": "@jupyter-widgets/controls",
            "_view_module_version": "1.5.0",
            "_view_name": "HTMLView",
            "description": "",
            "description_tooltip": null,
            "layout": "IPY_MODEL_c1724990d7244afb8f8f75c33abde703",
            "placeholder": "​",
            "style": "IPY_MODEL_95de66016bad4d2da9124caa31fb6035",
            "value": " 134M/134M [00:00&lt;00:00, 182MB/s]"
          }
        },
        "8a031096d7c9463fb05f968d932c2a16": {
          "model_module": "@jupyter-widgets/base",
          "model_name": "LayoutModel",
          "model_module_version": "1.2.0",
          "state": {
            "_model_module": "@jupyter-widgets/base",
            "_model_module_version": "1.2.0",
            "_model_name": "LayoutModel",
            "_view_count": null,
            "_view_module": "@jupyter-widgets/base",
            "_view_module_version": "1.2.0",
            "_view_name": "LayoutView",
            "align_content": null,
            "align_items": null,
            "align_self": null,
            "border": null,
            "bottom": null,
            "display": null,
            "flex": null,
            "flex_flow": null,
            "grid_area": null,
            "grid_auto_columns": null,
            "grid_auto_flow": null,
            "grid_auto_rows": null,
            "grid_column": null,
            "grid_gap": null,
            "grid_row": null,
            "grid_template_areas": null,
            "grid_template_columns": null,
            "grid_template_rows": null,
            "height": null,
            "justify_content": null,
            "justify_items": null,
            "left": null,
            "margin": null,
            "max_height": null,
            "max_width": null,
            "min_height": null,
            "min_width": null,
            "object_fit": null,
            "object_position": null,
            "order": null,
            "overflow": null,
            "overflow_x": null,
            "overflow_y": null,
            "padding": null,
            "right": null,
            "top": null,
            "visibility": null,
            "width": null
          }
        },
        "0608b4c7a25840e2b44f3c7594f83cd5": {
          "model_module": "@jupyter-widgets/base",
          "model_name": "LayoutModel",
          "model_module_version": "1.2.0",
          "state": {
            "_model_module": "@jupyter-widgets/base",
            "_model_module_version": "1.2.0",
            "_model_name": "LayoutModel",
            "_view_count": null,
            "_view_module": "@jupyter-widgets/base",
            "_view_module_version": "1.2.0",
            "_view_name": "LayoutView",
            "align_content": null,
            "align_items": null,
            "align_self": null,
            "border": null,
            "bottom": null,
            "display": null,
            "flex": null,
            "flex_flow": null,
            "grid_area": null,
            "grid_auto_columns": null,
            "grid_auto_flow": null,
            "grid_auto_rows": null,
            "grid_column": null,
            "grid_gap": null,
            "grid_row": null,
            "grid_template_areas": null,
            "grid_template_columns": null,
            "grid_template_rows": null,
            "height": null,
            "justify_content": null,
            "justify_items": null,
            "left": null,
            "margin": null,
            "max_height": null,
            "max_width": null,
            "min_height": null,
            "min_width": null,
            "object_fit": null,
            "object_position": null,
            "order": null,
            "overflow": null,
            "overflow_x": null,
            "overflow_y": null,
            "padding": null,
            "right": null,
            "top": null,
            "visibility": null,
            "width": null
          }
        },
        "390752bf830842cf8f7b653a377bf4e2": {
          "model_module": "@jupyter-widgets/controls",
          "model_name": "DescriptionStyleModel",
          "model_module_version": "1.5.0",
          "state": {
            "_model_module": "@jupyter-widgets/controls",
            "_model_module_version": "1.5.0",
            "_model_name": "DescriptionStyleModel",
            "_view_count": null,
            "_view_module": "@jupyter-widgets/base",
            "_view_module_version": "1.2.0",
            "_view_name": "StyleView",
            "description_width": ""
          }
        },
        "11e4ee5b5e3d4c97bb27f9c9bd03457b": {
          "model_module": "@jupyter-widgets/base",
          "model_name": "LayoutModel",
          "model_module_version": "1.2.0",
          "state": {
            "_model_module": "@jupyter-widgets/base",
            "_model_module_version": "1.2.0",
            "_model_name": "LayoutModel",
            "_view_count": null,
            "_view_module": "@jupyter-widgets/base",
            "_view_module_version": "1.2.0",
            "_view_name": "LayoutView",
            "align_content": null,
            "align_items": null,
            "align_self": null,
            "border": null,
            "bottom": null,
            "display": null,
            "flex": null,
            "flex_flow": null,
            "grid_area": null,
            "grid_auto_columns": null,
            "grid_auto_flow": null,
            "grid_auto_rows": null,
            "grid_column": null,
            "grid_gap": null,
            "grid_row": null,
            "grid_template_areas": null,
            "grid_template_columns": null,
            "grid_template_rows": null,
            "height": null,
            "justify_content": null,
            "justify_items": null,
            "left": null,
            "margin": null,
            "max_height": null,
            "max_width": null,
            "min_height": null,
            "min_width": null,
            "object_fit": null,
            "object_position": null,
            "order": null,
            "overflow": null,
            "overflow_x": null,
            "overflow_y": null,
            "padding": null,
            "right": null,
            "top": null,
            "visibility": null,
            "width": null
          }
        },
        "e3b756a6111f4334925af9040351fc35": {
          "model_module": "@jupyter-widgets/controls",
          "model_name": "ProgressStyleModel",
          "model_module_version": "1.5.0",
          "state": {
            "_model_module": "@jupyter-widgets/controls",
            "_model_module_version": "1.5.0",
            "_model_name": "ProgressStyleModel",
            "_view_count": null,
            "_view_module": "@jupyter-widgets/base",
            "_view_module_version": "1.2.0",
            "_view_name": "StyleView",
            "bar_color": null,
            "description_width": ""
          }
        },
        "c1724990d7244afb8f8f75c33abde703": {
          "model_module": "@jupyter-widgets/base",
          "model_name": "LayoutModel",
          "model_module_version": "1.2.0",
          "state": {
            "_model_module": "@jupyter-widgets/base",
            "_model_module_version": "1.2.0",
            "_model_name": "LayoutModel",
            "_view_count": null,
            "_view_module": "@jupyter-widgets/base",
            "_view_module_version": "1.2.0",
            "_view_name": "LayoutView",
            "align_content": null,
            "align_items": null,
            "align_self": null,
            "border": null,
            "bottom": null,
            "display": null,
            "flex": null,
            "flex_flow": null,
            "grid_area": null,
            "grid_auto_columns": null,
            "grid_auto_flow": null,
            "grid_auto_rows": null,
            "grid_column": null,
            "grid_gap": null,
            "grid_row": null,
            "grid_template_areas": null,
            "grid_template_columns": null,
            "grid_template_rows": null,
            "height": null,
            "justify_content": null,
            "justify_items": null,
            "left": null,
            "margin": null,
            "max_height": null,
            "max_width": null,
            "min_height": null,
            "min_width": null,
            "object_fit": null,
            "object_position": null,
            "order": null,
            "overflow": null,
            "overflow_x": null,
            "overflow_y": null,
            "padding": null,
            "right": null,
            "top": null,
            "visibility": null,
            "width": null
          }
        },
        "95de66016bad4d2da9124caa31fb6035": {
          "model_module": "@jupyter-widgets/controls",
          "model_name": "DescriptionStyleModel",
          "model_module_version": "1.5.0",
          "state": {
            "_model_module": "@jupyter-widgets/controls",
            "_model_module_version": "1.5.0",
            "_model_name": "DescriptionStyleModel",
            "_view_count": null,
            "_view_module": "@jupyter-widgets/base",
            "_view_module_version": "1.2.0",
            "_view_name": "StyleView",
            "description_width": ""
          }
        },
        "6738c5eb211140c1822b65037860da10": {
          "model_module": "@jupyter-widgets/controls",
          "model_name": "HBoxModel",
          "model_module_version": "1.5.0",
          "state": {
            "_dom_classes": [],
            "_model_module": "@jupyter-widgets/controls",
            "_model_module_version": "1.5.0",
            "_model_name": "HBoxModel",
            "_view_count": null,
            "_view_module": "@jupyter-widgets/controls",
            "_view_module_version": "1.5.0",
            "_view_name": "HBoxView",
            "box_style": "",
            "children": [
              "IPY_MODEL_cadd9d6988464586a11a8c6dac8f49d7",
              "IPY_MODEL_6e7c2cadfa994eb18e1a5962f9a45806",
              "IPY_MODEL_0353a48817214c6fb31d7a07d124861c"
            ],
            "layout": "IPY_MODEL_036a265b804d4c0c86657a8775cbc2e0"
          }
        },
        "cadd9d6988464586a11a8c6dac8f49d7": {
          "model_module": "@jupyter-widgets/controls",
          "model_name": "HTMLModel",
          "model_module_version": "1.5.0",
          "state": {
            "_dom_classes": [],
            "_model_module": "@jupyter-widgets/controls",
            "_model_module_version": "1.5.0",
            "_model_name": "HTMLModel",
            "_view_count": null,
            "_view_module": "@jupyter-widgets/controls",
            "_view_module_version": "1.5.0",
            "_view_name": "HTMLView",
            "description": "",
            "description_tooltip": null,
            "layout": "IPY_MODEL_f232b3cf41ec4827801c49f95b7b1379",
            "placeholder": "​",
            "style": "IPY_MODEL_16f80487a8e94d6f8116d1151b06e158",
            "value": "Downloading (…)nce_bert_config.json: 100%"
          }
        },
        "6e7c2cadfa994eb18e1a5962f9a45806": {
          "model_module": "@jupyter-widgets/controls",
          "model_name": "FloatProgressModel",
          "model_module_version": "1.5.0",
          "state": {
            "_dom_classes": [],
            "_model_module": "@jupyter-widgets/controls",
            "_model_module_version": "1.5.0",
            "_model_name": "FloatProgressModel",
            "_view_count": null,
            "_view_module": "@jupyter-widgets/controls",
            "_view_module_version": "1.5.0",
            "_view_name": "ProgressView",
            "bar_style": "success",
            "description": "",
            "description_tooltip": null,
            "layout": "IPY_MODEL_5bf8f25fed104ab3a9581ebe6d29b818",
            "max": 52,
            "min": 0,
            "orientation": "horizontal",
            "style": "IPY_MODEL_bec45eefc8534ef88b0edc8f9cb7a7a0",
            "value": 52
          }
        },
        "0353a48817214c6fb31d7a07d124861c": {
          "model_module": "@jupyter-widgets/controls",
          "model_name": "HTMLModel",
          "model_module_version": "1.5.0",
          "state": {
            "_dom_classes": [],
            "_model_module": "@jupyter-widgets/controls",
            "_model_module_version": "1.5.0",
            "_model_name": "HTMLModel",
            "_view_count": null,
            "_view_module": "@jupyter-widgets/controls",
            "_view_module_version": "1.5.0",
            "_view_name": "HTMLView",
            "description": "",
            "description_tooltip": null,
            "layout": "IPY_MODEL_0e3526846ab54a568039306f0844345d",
            "placeholder": "​",
            "style": "IPY_MODEL_2bba9644c88e481089d8c5e738120e27",
            "value": " 52.0/52.0 [00:00&lt;00:00, 3.70kB/s]"
          }
        },
        "036a265b804d4c0c86657a8775cbc2e0": {
          "model_module": "@jupyter-widgets/base",
          "model_name": "LayoutModel",
          "model_module_version": "1.2.0",
          "state": {
            "_model_module": "@jupyter-widgets/base",
            "_model_module_version": "1.2.0",
            "_model_name": "LayoutModel",
            "_view_count": null,
            "_view_module": "@jupyter-widgets/base",
            "_view_module_version": "1.2.0",
            "_view_name": "LayoutView",
            "align_content": null,
            "align_items": null,
            "align_self": null,
            "border": null,
            "bottom": null,
            "display": null,
            "flex": null,
            "flex_flow": null,
            "grid_area": null,
            "grid_auto_columns": null,
            "grid_auto_flow": null,
            "grid_auto_rows": null,
            "grid_column": null,
            "grid_gap": null,
            "grid_row": null,
            "grid_template_areas": null,
            "grid_template_columns": null,
            "grid_template_rows": null,
            "height": null,
            "justify_content": null,
            "justify_items": null,
            "left": null,
            "margin": null,
            "max_height": null,
            "max_width": null,
            "min_height": null,
            "min_width": null,
            "object_fit": null,
            "object_position": null,
            "order": null,
            "overflow": null,
            "overflow_x": null,
            "overflow_y": null,
            "padding": null,
            "right": null,
            "top": null,
            "visibility": null,
            "width": null
          }
        },
        "f232b3cf41ec4827801c49f95b7b1379": {
          "model_module": "@jupyter-widgets/base",
          "model_name": "LayoutModel",
          "model_module_version": "1.2.0",
          "state": {
            "_model_module": "@jupyter-widgets/base",
            "_model_module_version": "1.2.0",
            "_model_name": "LayoutModel",
            "_view_count": null,
            "_view_module": "@jupyter-widgets/base",
            "_view_module_version": "1.2.0",
            "_view_name": "LayoutView",
            "align_content": null,
            "align_items": null,
            "align_self": null,
            "border": null,
            "bottom": null,
            "display": null,
            "flex": null,
            "flex_flow": null,
            "grid_area": null,
            "grid_auto_columns": null,
            "grid_auto_flow": null,
            "grid_auto_rows": null,
            "grid_column": null,
            "grid_gap": null,
            "grid_row": null,
            "grid_template_areas": null,
            "grid_template_columns": null,
            "grid_template_rows": null,
            "height": null,
            "justify_content": null,
            "justify_items": null,
            "left": null,
            "margin": null,
            "max_height": null,
            "max_width": null,
            "min_height": null,
            "min_width": null,
            "object_fit": null,
            "object_position": null,
            "order": null,
            "overflow": null,
            "overflow_x": null,
            "overflow_y": null,
            "padding": null,
            "right": null,
            "top": null,
            "visibility": null,
            "width": null
          }
        },
        "16f80487a8e94d6f8116d1151b06e158": {
          "model_module": "@jupyter-widgets/controls",
          "model_name": "DescriptionStyleModel",
          "model_module_version": "1.5.0",
          "state": {
            "_model_module": "@jupyter-widgets/controls",
            "_model_module_version": "1.5.0",
            "_model_name": "DescriptionStyleModel",
            "_view_count": null,
            "_view_module": "@jupyter-widgets/base",
            "_view_module_version": "1.2.0",
            "_view_name": "StyleView",
            "description_width": ""
          }
        },
        "5bf8f25fed104ab3a9581ebe6d29b818": {
          "model_module": "@jupyter-widgets/base",
          "model_name": "LayoutModel",
          "model_module_version": "1.2.0",
          "state": {
            "_model_module": "@jupyter-widgets/base",
            "_model_module_version": "1.2.0",
            "_model_name": "LayoutModel",
            "_view_count": null,
            "_view_module": "@jupyter-widgets/base",
            "_view_module_version": "1.2.0",
            "_view_name": "LayoutView",
            "align_content": null,
            "align_items": null,
            "align_self": null,
            "border": null,
            "bottom": null,
            "display": null,
            "flex": null,
            "flex_flow": null,
            "grid_area": null,
            "grid_auto_columns": null,
            "grid_auto_flow": null,
            "grid_auto_rows": null,
            "grid_column": null,
            "grid_gap": null,
            "grid_row": null,
            "grid_template_areas": null,
            "grid_template_columns": null,
            "grid_template_rows": null,
            "height": null,
            "justify_content": null,
            "justify_items": null,
            "left": null,
            "margin": null,
            "max_height": null,
            "max_width": null,
            "min_height": null,
            "min_width": null,
            "object_fit": null,
            "object_position": null,
            "order": null,
            "overflow": null,
            "overflow_x": null,
            "overflow_y": null,
            "padding": null,
            "right": null,
            "top": null,
            "visibility": null,
            "width": null
          }
        },
        "bec45eefc8534ef88b0edc8f9cb7a7a0": {
          "model_module": "@jupyter-widgets/controls",
          "model_name": "ProgressStyleModel",
          "model_module_version": "1.5.0",
          "state": {
            "_model_module": "@jupyter-widgets/controls",
            "_model_module_version": "1.5.0",
            "_model_name": "ProgressStyleModel",
            "_view_count": null,
            "_view_module": "@jupyter-widgets/base",
            "_view_module_version": "1.2.0",
            "_view_name": "StyleView",
            "bar_color": null,
            "description_width": ""
          }
        },
        "0e3526846ab54a568039306f0844345d": {
          "model_module": "@jupyter-widgets/base",
          "model_name": "LayoutModel",
          "model_module_version": "1.2.0",
          "state": {
            "_model_module": "@jupyter-widgets/base",
            "_model_module_version": "1.2.0",
            "_model_name": "LayoutModel",
            "_view_count": null,
            "_view_module": "@jupyter-widgets/base",
            "_view_module_version": "1.2.0",
            "_view_name": "LayoutView",
            "align_content": null,
            "align_items": null,
            "align_self": null,
            "border": null,
            "bottom": null,
            "display": null,
            "flex": null,
            "flex_flow": null,
            "grid_area": null,
            "grid_auto_columns": null,
            "grid_auto_flow": null,
            "grid_auto_rows": null,
            "grid_column": null,
            "grid_gap": null,
            "grid_row": null,
            "grid_template_areas": null,
            "grid_template_columns": null,
            "grid_template_rows": null,
            "height": null,
            "justify_content": null,
            "justify_items": null,
            "left": null,
            "margin": null,
            "max_height": null,
            "max_width": null,
            "min_height": null,
            "min_width": null,
            "object_fit": null,
            "object_position": null,
            "order": null,
            "overflow": null,
            "overflow_x": null,
            "overflow_y": null,
            "padding": null,
            "right": null,
            "top": null,
            "visibility": null,
            "width": null
          }
        },
        "2bba9644c88e481089d8c5e738120e27": {
          "model_module": "@jupyter-widgets/controls",
          "model_name": "DescriptionStyleModel",
          "model_module_version": "1.5.0",
          "state": {
            "_model_module": "@jupyter-widgets/controls",
            "_model_module_version": "1.5.0",
            "_model_name": "DescriptionStyleModel",
            "_view_count": null,
            "_view_module": "@jupyter-widgets/base",
            "_view_module_version": "1.2.0",
            "_view_name": "StyleView",
            "description_width": ""
          }
        },
        "a9d9d02861244821bbd03372f19ee61b": {
          "model_module": "@jupyter-widgets/controls",
          "model_name": "HBoxModel",
          "model_module_version": "1.5.0",
          "state": {
            "_dom_classes": [],
            "_model_module": "@jupyter-widgets/controls",
            "_model_module_version": "1.5.0",
            "_model_name": "HBoxModel",
            "_view_count": null,
            "_view_module": "@jupyter-widgets/controls",
            "_view_module_version": "1.5.0",
            "_view_name": "HBoxView",
            "box_style": "",
            "children": [
              "IPY_MODEL_2a53d83bd4994b4e94ced80563f5aeae",
              "IPY_MODEL_1e2bedfa100e4f63b2a65341a84aa8fd",
              "IPY_MODEL_953df955592d4a9c8cdb70463d63e608"
            ],
            "layout": "IPY_MODEL_168dd8bb63994e24bf008228196ad908"
          }
        },
        "2a53d83bd4994b4e94ced80563f5aeae": {
          "model_module": "@jupyter-widgets/controls",
          "model_name": "HTMLModel",
          "model_module_version": "1.5.0",
          "state": {
            "_dom_classes": [],
            "_model_module": "@jupyter-widgets/controls",
            "_model_module_version": "1.5.0",
            "_model_name": "HTMLModel",
            "_view_count": null,
            "_view_module": "@jupyter-widgets/controls",
            "_view_module_version": "1.5.0",
            "_view_name": "HTMLView",
            "description": "",
            "description_tooltip": null,
            "layout": "IPY_MODEL_c9ec18d042ea445787935da318c4d068",
            "placeholder": "​",
            "style": "IPY_MODEL_183206de0ba147f180fc9d55eb4572bd",
            "value": "Downloading (…)cial_tokens_map.json: 100%"
          }
        },
        "1e2bedfa100e4f63b2a65341a84aa8fd": {
          "model_module": "@jupyter-widgets/controls",
          "model_name": "FloatProgressModel",
          "model_module_version": "1.5.0",
          "state": {
            "_dom_classes": [],
            "_model_module": "@jupyter-widgets/controls",
            "_model_module_version": "1.5.0",
            "_model_name": "FloatProgressModel",
            "_view_count": null,
            "_view_module": "@jupyter-widgets/controls",
            "_view_module_version": "1.5.0",
            "_view_name": "ProgressView",
            "bar_style": "success",
            "description": "",
            "description_tooltip": null,
            "layout": "IPY_MODEL_663bcd743cc84121b56084bc7b9200e3",
            "max": 125,
            "min": 0,
            "orientation": "horizontal",
            "style": "IPY_MODEL_956f4068d0ab4731a33a798554c3de1f",
            "value": 125
          }
        },
        "953df955592d4a9c8cdb70463d63e608": {
          "model_module": "@jupyter-widgets/controls",
          "model_name": "HTMLModel",
          "model_module_version": "1.5.0",
          "state": {
            "_dom_classes": [],
            "_model_module": "@jupyter-widgets/controls",
            "_model_module_version": "1.5.0",
            "_model_name": "HTMLModel",
            "_view_count": null,
            "_view_module": "@jupyter-widgets/controls",
            "_view_module_version": "1.5.0",
            "_view_name": "HTMLView",
            "description": "",
            "description_tooltip": null,
            "layout": "IPY_MODEL_b0d72c587e0f49f7993562846a63e2f5",
            "placeholder": "​",
            "style": "IPY_MODEL_bd401416829d460aa4e1a060a5f3938f",
            "value": " 125/125 [00:00&lt;00:00, 9.05kB/s]"
          }
        },
        "168dd8bb63994e24bf008228196ad908": {
          "model_module": "@jupyter-widgets/base",
          "model_name": "LayoutModel",
          "model_module_version": "1.2.0",
          "state": {
            "_model_module": "@jupyter-widgets/base",
            "_model_module_version": "1.2.0",
            "_model_name": "LayoutModel",
            "_view_count": null,
            "_view_module": "@jupyter-widgets/base",
            "_view_module_version": "1.2.0",
            "_view_name": "LayoutView",
            "align_content": null,
            "align_items": null,
            "align_self": null,
            "border": null,
            "bottom": null,
            "display": null,
            "flex": null,
            "flex_flow": null,
            "grid_area": null,
            "grid_auto_columns": null,
            "grid_auto_flow": null,
            "grid_auto_rows": null,
            "grid_column": null,
            "grid_gap": null,
            "grid_row": null,
            "grid_template_areas": null,
            "grid_template_columns": null,
            "grid_template_rows": null,
            "height": null,
            "justify_content": null,
            "justify_items": null,
            "left": null,
            "margin": null,
            "max_height": null,
            "max_width": null,
            "min_height": null,
            "min_width": null,
            "object_fit": null,
            "object_position": null,
            "order": null,
            "overflow": null,
            "overflow_x": null,
            "overflow_y": null,
            "padding": null,
            "right": null,
            "top": null,
            "visibility": null,
            "width": null
          }
        },
        "c9ec18d042ea445787935da318c4d068": {
          "model_module": "@jupyter-widgets/base",
          "model_name": "LayoutModel",
          "model_module_version": "1.2.0",
          "state": {
            "_model_module": "@jupyter-widgets/base",
            "_model_module_version": "1.2.0",
            "_model_name": "LayoutModel",
            "_view_count": null,
            "_view_module": "@jupyter-widgets/base",
            "_view_module_version": "1.2.0",
            "_view_name": "LayoutView",
            "align_content": null,
            "align_items": null,
            "align_self": null,
            "border": null,
            "bottom": null,
            "display": null,
            "flex": null,
            "flex_flow": null,
            "grid_area": null,
            "grid_auto_columns": null,
            "grid_auto_flow": null,
            "grid_auto_rows": null,
            "grid_column": null,
            "grid_gap": null,
            "grid_row": null,
            "grid_template_areas": null,
            "grid_template_columns": null,
            "grid_template_rows": null,
            "height": null,
            "justify_content": null,
            "justify_items": null,
            "left": null,
            "margin": null,
            "max_height": null,
            "max_width": null,
            "min_height": null,
            "min_width": null,
            "object_fit": null,
            "object_position": null,
            "order": null,
            "overflow": null,
            "overflow_x": null,
            "overflow_y": null,
            "padding": null,
            "right": null,
            "top": null,
            "visibility": null,
            "width": null
          }
        },
        "183206de0ba147f180fc9d55eb4572bd": {
          "model_module": "@jupyter-widgets/controls",
          "model_name": "DescriptionStyleModel",
          "model_module_version": "1.5.0",
          "state": {
            "_model_module": "@jupyter-widgets/controls",
            "_model_module_version": "1.5.0",
            "_model_name": "DescriptionStyleModel",
            "_view_count": null,
            "_view_module": "@jupyter-widgets/base",
            "_view_module_version": "1.2.0",
            "_view_name": "StyleView",
            "description_width": ""
          }
        },
        "663bcd743cc84121b56084bc7b9200e3": {
          "model_module": "@jupyter-widgets/base",
          "model_name": "LayoutModel",
          "model_module_version": "1.2.0",
          "state": {
            "_model_module": "@jupyter-widgets/base",
            "_model_module_version": "1.2.0",
            "_model_name": "LayoutModel",
            "_view_count": null,
            "_view_module": "@jupyter-widgets/base",
            "_view_module_version": "1.2.0",
            "_view_name": "LayoutView",
            "align_content": null,
            "align_items": null,
            "align_self": null,
            "border": null,
            "bottom": null,
            "display": null,
            "flex": null,
            "flex_flow": null,
            "grid_area": null,
            "grid_auto_columns": null,
            "grid_auto_flow": null,
            "grid_auto_rows": null,
            "grid_column": null,
            "grid_gap": null,
            "grid_row": null,
            "grid_template_areas": null,
            "grid_template_columns": null,
            "grid_template_rows": null,
            "height": null,
            "justify_content": null,
            "justify_items": null,
            "left": null,
            "margin": null,
            "max_height": null,
            "max_width": null,
            "min_height": null,
            "min_width": null,
            "object_fit": null,
            "object_position": null,
            "order": null,
            "overflow": null,
            "overflow_x": null,
            "overflow_y": null,
            "padding": null,
            "right": null,
            "top": null,
            "visibility": null,
            "width": null
          }
        },
        "956f4068d0ab4731a33a798554c3de1f": {
          "model_module": "@jupyter-widgets/controls",
          "model_name": "ProgressStyleModel",
          "model_module_version": "1.5.0",
          "state": {
            "_model_module": "@jupyter-widgets/controls",
            "_model_module_version": "1.5.0",
            "_model_name": "ProgressStyleModel",
            "_view_count": null,
            "_view_module": "@jupyter-widgets/base",
            "_view_module_version": "1.2.0",
            "_view_name": "StyleView",
            "bar_color": null,
            "description_width": ""
          }
        },
        "b0d72c587e0f49f7993562846a63e2f5": {
          "model_module": "@jupyter-widgets/base",
          "model_name": "LayoutModel",
          "model_module_version": "1.2.0",
          "state": {
            "_model_module": "@jupyter-widgets/base",
            "_model_module_version": "1.2.0",
            "_model_name": "LayoutModel",
            "_view_count": null,
            "_view_module": "@jupyter-widgets/base",
            "_view_module_version": "1.2.0",
            "_view_name": "LayoutView",
            "align_content": null,
            "align_items": null,
            "align_self": null,
            "border": null,
            "bottom": null,
            "display": null,
            "flex": null,
            "flex_flow": null,
            "grid_area": null,
            "grid_auto_columns": null,
            "grid_auto_flow": null,
            "grid_auto_rows": null,
            "grid_column": null,
            "grid_gap": null,
            "grid_row": null,
            "grid_template_areas": null,
            "grid_template_columns": null,
            "grid_template_rows": null,
            "height": null,
            "justify_content": null,
            "justify_items": null,
            "left": null,
            "margin": null,
            "max_height": null,
            "max_width": null,
            "min_height": null,
            "min_width": null,
            "object_fit": null,
            "object_position": null,
            "order": null,
            "overflow": null,
            "overflow_x": null,
            "overflow_y": null,
            "padding": null,
            "right": null,
            "top": null,
            "visibility": null,
            "width": null
          }
        },
        "bd401416829d460aa4e1a060a5f3938f": {
          "model_module": "@jupyter-widgets/controls",
          "model_name": "DescriptionStyleModel",
          "model_module_version": "1.5.0",
          "state": {
            "_model_module": "@jupyter-widgets/controls",
            "_model_module_version": "1.5.0",
            "_model_name": "DescriptionStyleModel",
            "_view_count": null,
            "_view_module": "@jupyter-widgets/base",
            "_view_module_version": "1.2.0",
            "_view_name": "StyleView",
            "description_width": ""
          }
        },
        "5135666eb11a430abe72793c5ed4aec6": {
          "model_module": "@jupyter-widgets/controls",
          "model_name": "HBoxModel",
          "model_module_version": "1.5.0",
          "state": {
            "_dom_classes": [],
            "_model_module": "@jupyter-widgets/controls",
            "_model_module_version": "1.5.0",
            "_model_name": "HBoxModel",
            "_view_count": null,
            "_view_module": "@jupyter-widgets/controls",
            "_view_module_version": "1.5.0",
            "_view_name": "HBoxView",
            "box_style": "",
            "children": [
              "IPY_MODEL_224088f531eb4dff8dd1680038414fac",
              "IPY_MODEL_b0c337c8580a42b3bd29e4aa4408e1c4",
              "IPY_MODEL_8574bb73772e490a9a29ba72d08371d8"
            ],
            "layout": "IPY_MODEL_84ffb9a21389446dafc13eb1f185f3c6"
          }
        },
        "224088f531eb4dff8dd1680038414fac": {
          "model_module": "@jupyter-widgets/controls",
          "model_name": "HTMLModel",
          "model_module_version": "1.5.0",
          "state": {
            "_dom_classes": [],
            "_model_module": "@jupyter-widgets/controls",
            "_model_module_version": "1.5.0",
            "_model_name": "HTMLModel",
            "_view_count": null,
            "_view_module": "@jupyter-widgets/controls",
            "_view_module_version": "1.5.0",
            "_view_name": "HTMLView",
            "description": "",
            "description_tooltip": null,
            "layout": "IPY_MODEL_07ffa8df15774505acb76a6affcaa9c1",
            "placeholder": "​",
            "style": "IPY_MODEL_99ce9085d6f240dcb02892f34b936fec",
            "value": "Downloading (…)421f3/tokenizer.json: 100%"
          }
        },
        "b0c337c8580a42b3bd29e4aa4408e1c4": {
          "model_module": "@jupyter-widgets/controls",
          "model_name": "FloatProgressModel",
          "model_module_version": "1.5.0",
          "state": {
            "_dom_classes": [],
            "_model_module": "@jupyter-widgets/controls",
            "_model_module_version": "1.5.0",
            "_model_name": "FloatProgressModel",
            "_view_count": null,
            "_view_module": "@jupyter-widgets/controls",
            "_view_module_version": "1.5.0",
            "_view_name": "ProgressView",
            "bar_style": "success",
            "description": "",
            "description_tooltip": null,
            "layout": "IPY_MODEL_0dbd55b92a7e4825857c0ec0ddc9d4db",
            "max": 711396,
            "min": 0,
            "orientation": "horizontal",
            "style": "IPY_MODEL_471ffadcc36246c8aada88621fc5d37b",
            "value": 711396
          }
        },
        "8574bb73772e490a9a29ba72d08371d8": {
          "model_module": "@jupyter-widgets/controls",
          "model_name": "HTMLModel",
          "model_module_version": "1.5.0",
          "state": {
            "_dom_classes": [],
            "_model_module": "@jupyter-widgets/controls",
            "_model_module_version": "1.5.0",
            "_model_name": "HTMLModel",
            "_view_count": null,
            "_view_module": "@jupyter-widgets/controls",
            "_view_module_version": "1.5.0",
            "_view_name": "HTMLView",
            "description": "",
            "description_tooltip": null,
            "layout": "IPY_MODEL_10f992e8b962402ba7c338f0960649fb",
            "placeholder": "​",
            "style": "IPY_MODEL_c81b79fa56ab4ae48630c92f6a9822fc",
            "value": " 711k/711k [00:00&lt;00:00, 22.6MB/s]"
          }
        },
        "84ffb9a21389446dafc13eb1f185f3c6": {
          "model_module": "@jupyter-widgets/base",
          "model_name": "LayoutModel",
          "model_module_version": "1.2.0",
          "state": {
            "_model_module": "@jupyter-widgets/base",
            "_model_module_version": "1.2.0",
            "_model_name": "LayoutModel",
            "_view_count": null,
            "_view_module": "@jupyter-widgets/base",
            "_view_module_version": "1.2.0",
            "_view_name": "LayoutView",
            "align_content": null,
            "align_items": null,
            "align_self": null,
            "border": null,
            "bottom": null,
            "display": null,
            "flex": null,
            "flex_flow": null,
            "grid_area": null,
            "grid_auto_columns": null,
            "grid_auto_flow": null,
            "grid_auto_rows": null,
            "grid_column": null,
            "grid_gap": null,
            "grid_row": null,
            "grid_template_areas": null,
            "grid_template_columns": null,
            "grid_template_rows": null,
            "height": null,
            "justify_content": null,
            "justify_items": null,
            "left": null,
            "margin": null,
            "max_height": null,
            "max_width": null,
            "min_height": null,
            "min_width": null,
            "object_fit": null,
            "object_position": null,
            "order": null,
            "overflow": null,
            "overflow_x": null,
            "overflow_y": null,
            "padding": null,
            "right": null,
            "top": null,
            "visibility": null,
            "width": null
          }
        },
        "07ffa8df15774505acb76a6affcaa9c1": {
          "model_module": "@jupyter-widgets/base",
          "model_name": "LayoutModel",
          "model_module_version": "1.2.0",
          "state": {
            "_model_module": "@jupyter-widgets/base",
            "_model_module_version": "1.2.0",
            "_model_name": "LayoutModel",
            "_view_count": null,
            "_view_module": "@jupyter-widgets/base",
            "_view_module_version": "1.2.0",
            "_view_name": "LayoutView",
            "align_content": null,
            "align_items": null,
            "align_self": null,
            "border": null,
            "bottom": null,
            "display": null,
            "flex": null,
            "flex_flow": null,
            "grid_area": null,
            "grid_auto_columns": null,
            "grid_auto_flow": null,
            "grid_auto_rows": null,
            "grid_column": null,
            "grid_gap": null,
            "grid_row": null,
            "grid_template_areas": null,
            "grid_template_columns": null,
            "grid_template_rows": null,
            "height": null,
            "justify_content": null,
            "justify_items": null,
            "left": null,
            "margin": null,
            "max_height": null,
            "max_width": null,
            "min_height": null,
            "min_width": null,
            "object_fit": null,
            "object_position": null,
            "order": null,
            "overflow": null,
            "overflow_x": null,
            "overflow_y": null,
            "padding": null,
            "right": null,
            "top": null,
            "visibility": null,
            "width": null
          }
        },
        "99ce9085d6f240dcb02892f34b936fec": {
          "model_module": "@jupyter-widgets/controls",
          "model_name": "DescriptionStyleModel",
          "model_module_version": "1.5.0",
          "state": {
            "_model_module": "@jupyter-widgets/controls",
            "_model_module_version": "1.5.0",
            "_model_name": "DescriptionStyleModel",
            "_view_count": null,
            "_view_module": "@jupyter-widgets/base",
            "_view_module_version": "1.2.0",
            "_view_name": "StyleView",
            "description_width": ""
          }
        },
        "0dbd55b92a7e4825857c0ec0ddc9d4db": {
          "model_module": "@jupyter-widgets/base",
          "model_name": "LayoutModel",
          "model_module_version": "1.2.0",
          "state": {
            "_model_module": "@jupyter-widgets/base",
            "_model_module_version": "1.2.0",
            "_model_name": "LayoutModel",
            "_view_count": null,
            "_view_module": "@jupyter-widgets/base",
            "_view_module_version": "1.2.0",
            "_view_name": "LayoutView",
            "align_content": null,
            "align_items": null,
            "align_self": null,
            "border": null,
            "bottom": null,
            "display": null,
            "flex": null,
            "flex_flow": null,
            "grid_area": null,
            "grid_auto_columns": null,
            "grid_auto_flow": null,
            "grid_auto_rows": null,
            "grid_column": null,
            "grid_gap": null,
            "grid_row": null,
            "grid_template_areas": null,
            "grid_template_columns": null,
            "grid_template_rows": null,
            "height": null,
            "justify_content": null,
            "justify_items": null,
            "left": null,
            "margin": null,
            "max_height": null,
            "max_width": null,
            "min_height": null,
            "min_width": null,
            "object_fit": null,
            "object_position": null,
            "order": null,
            "overflow": null,
            "overflow_x": null,
            "overflow_y": null,
            "padding": null,
            "right": null,
            "top": null,
            "visibility": null,
            "width": null
          }
        },
        "471ffadcc36246c8aada88621fc5d37b": {
          "model_module": "@jupyter-widgets/controls",
          "model_name": "ProgressStyleModel",
          "model_module_version": "1.5.0",
          "state": {
            "_model_module": "@jupyter-widgets/controls",
            "_model_module_version": "1.5.0",
            "_model_name": "ProgressStyleModel",
            "_view_count": null,
            "_view_module": "@jupyter-widgets/base",
            "_view_module_version": "1.2.0",
            "_view_name": "StyleView",
            "bar_color": null,
            "description_width": ""
          }
        },
        "10f992e8b962402ba7c338f0960649fb": {
          "model_module": "@jupyter-widgets/base",
          "model_name": "LayoutModel",
          "model_module_version": "1.2.0",
          "state": {
            "_model_module": "@jupyter-widgets/base",
            "_model_module_version": "1.2.0",
            "_model_name": "LayoutModel",
            "_view_count": null,
            "_view_module": "@jupyter-widgets/base",
            "_view_module_version": "1.2.0",
            "_view_name": "LayoutView",
            "align_content": null,
            "align_items": null,
            "align_self": null,
            "border": null,
            "bottom": null,
            "display": null,
            "flex": null,
            "flex_flow": null,
            "grid_area": null,
            "grid_auto_columns": null,
            "grid_auto_flow": null,
            "grid_auto_rows": null,
            "grid_column": null,
            "grid_gap": null,
            "grid_row": null,
            "grid_template_areas": null,
            "grid_template_columns": null,
            "grid_template_rows": null,
            "height": null,
            "justify_content": null,
            "justify_items": null,
            "left": null,
            "margin": null,
            "max_height": null,
            "max_width": null,
            "min_height": null,
            "min_width": null,
            "object_fit": null,
            "object_position": null,
            "order": null,
            "overflow": null,
            "overflow_x": null,
            "overflow_y": null,
            "padding": null,
            "right": null,
            "top": null,
            "visibility": null,
            "width": null
          }
        },
        "c81b79fa56ab4ae48630c92f6a9822fc": {
          "model_module": "@jupyter-widgets/controls",
          "model_name": "DescriptionStyleModel",
          "model_module_version": "1.5.0",
          "state": {
            "_model_module": "@jupyter-widgets/controls",
            "_model_module_version": "1.5.0",
            "_model_name": "DescriptionStyleModel",
            "_view_count": null,
            "_view_module": "@jupyter-widgets/base",
            "_view_module_version": "1.2.0",
            "_view_name": "StyleView",
            "description_width": ""
          }
        },
        "cc86e35117d7428eb74bdbb4900f5b82": {
          "model_module": "@jupyter-widgets/controls",
          "model_name": "HBoxModel",
          "model_module_version": "1.5.0",
          "state": {
            "_dom_classes": [],
            "_model_module": "@jupyter-widgets/controls",
            "_model_module_version": "1.5.0",
            "_model_name": "HBoxModel",
            "_view_count": null,
            "_view_module": "@jupyter-widgets/controls",
            "_view_module_version": "1.5.0",
            "_view_name": "HBoxView",
            "box_style": "",
            "children": [
              "IPY_MODEL_4c7739b588da455fae1fe36bfddfbab9",
              "IPY_MODEL_9d017c755923447c8ed4047ba9bfa752",
              "IPY_MODEL_e1a0daee0ccc484ba44f6f251001611a"
            ],
            "layout": "IPY_MODEL_e22d2094ebb84baab3f12abdb285e47c"
          }
        },
        "4c7739b588da455fae1fe36bfddfbab9": {
          "model_module": "@jupyter-widgets/controls",
          "model_name": "HTMLModel",
          "model_module_version": "1.5.0",
          "state": {
            "_dom_classes": [],
            "_model_module": "@jupyter-widgets/controls",
            "_model_module_version": "1.5.0",
            "_model_name": "HTMLModel",
            "_view_count": null,
            "_view_module": "@jupyter-widgets/controls",
            "_view_module_version": "1.5.0",
            "_view_name": "HTMLView",
            "description": "",
            "description_tooltip": null,
            "layout": "IPY_MODEL_79f799d8e5b540eab90658662ee1a091",
            "placeholder": "​",
            "style": "IPY_MODEL_abc17dfa17074b9ea4b6cd21d76c4436",
            "value": "Downloading (…)okenizer_config.json: 100%"
          }
        },
        "9d017c755923447c8ed4047ba9bfa752": {
          "model_module": "@jupyter-widgets/controls",
          "model_name": "FloatProgressModel",
          "model_module_version": "1.5.0",
          "state": {
            "_dom_classes": [],
            "_model_module": "@jupyter-widgets/controls",
            "_model_module_version": "1.5.0",
            "_model_name": "FloatProgressModel",
            "_view_count": null,
            "_view_module": "@jupyter-widgets/controls",
            "_view_module_version": "1.5.0",
            "_view_name": "ProgressView",
            "bar_style": "success",
            "description": "",
            "description_tooltip": null,
            "layout": "IPY_MODEL_0b3c1e995fcc49ff8a48f1046e8d1544",
            "max": 366,
            "min": 0,
            "orientation": "horizontal",
            "style": "IPY_MODEL_1093d2cf2b734e93a5efa66fe661ba65",
            "value": 366
          }
        },
        "e1a0daee0ccc484ba44f6f251001611a": {
          "model_module": "@jupyter-widgets/controls",
          "model_name": "HTMLModel",
          "model_module_version": "1.5.0",
          "state": {
            "_dom_classes": [],
            "_model_module": "@jupyter-widgets/controls",
            "_model_module_version": "1.5.0",
            "_model_name": "HTMLModel",
            "_view_count": null,
            "_view_module": "@jupyter-widgets/controls",
            "_view_module_version": "1.5.0",
            "_view_name": "HTMLView",
            "description": "",
            "description_tooltip": null,
            "layout": "IPY_MODEL_df3153b068404110ba6ebdd5467e9ba8",
            "placeholder": "​",
            "style": "IPY_MODEL_bcab1266f67c4dcdafa8b0668ce678c3",
            "value": " 366/366 [00:00&lt;00:00, 33.4kB/s]"
          }
        },
        "e22d2094ebb84baab3f12abdb285e47c": {
          "model_module": "@jupyter-widgets/base",
          "model_name": "LayoutModel",
          "model_module_version": "1.2.0",
          "state": {
            "_model_module": "@jupyter-widgets/base",
            "_model_module_version": "1.2.0",
            "_model_name": "LayoutModel",
            "_view_count": null,
            "_view_module": "@jupyter-widgets/base",
            "_view_module_version": "1.2.0",
            "_view_name": "LayoutView",
            "align_content": null,
            "align_items": null,
            "align_self": null,
            "border": null,
            "bottom": null,
            "display": null,
            "flex": null,
            "flex_flow": null,
            "grid_area": null,
            "grid_auto_columns": null,
            "grid_auto_flow": null,
            "grid_auto_rows": null,
            "grid_column": null,
            "grid_gap": null,
            "grid_row": null,
            "grid_template_areas": null,
            "grid_template_columns": null,
            "grid_template_rows": null,
            "height": null,
            "justify_content": null,
            "justify_items": null,
            "left": null,
            "margin": null,
            "max_height": null,
            "max_width": null,
            "min_height": null,
            "min_width": null,
            "object_fit": null,
            "object_position": null,
            "order": null,
            "overflow": null,
            "overflow_x": null,
            "overflow_y": null,
            "padding": null,
            "right": null,
            "top": null,
            "visibility": null,
            "width": null
          }
        },
        "79f799d8e5b540eab90658662ee1a091": {
          "model_module": "@jupyter-widgets/base",
          "model_name": "LayoutModel",
          "model_module_version": "1.2.0",
          "state": {
            "_model_module": "@jupyter-widgets/base",
            "_model_module_version": "1.2.0",
            "_model_name": "LayoutModel",
            "_view_count": null,
            "_view_module": "@jupyter-widgets/base",
            "_view_module_version": "1.2.0",
            "_view_name": "LayoutView",
            "align_content": null,
            "align_items": null,
            "align_self": null,
            "border": null,
            "bottom": null,
            "display": null,
            "flex": null,
            "flex_flow": null,
            "grid_area": null,
            "grid_auto_columns": null,
            "grid_auto_flow": null,
            "grid_auto_rows": null,
            "grid_column": null,
            "grid_gap": null,
            "grid_row": null,
            "grid_template_areas": null,
            "grid_template_columns": null,
            "grid_template_rows": null,
            "height": null,
            "justify_content": null,
            "justify_items": null,
            "left": null,
            "margin": null,
            "max_height": null,
            "max_width": null,
            "min_height": null,
            "min_width": null,
            "object_fit": null,
            "object_position": null,
            "order": null,
            "overflow": null,
            "overflow_x": null,
            "overflow_y": null,
            "padding": null,
            "right": null,
            "top": null,
            "visibility": null,
            "width": null
          }
        },
        "abc17dfa17074b9ea4b6cd21d76c4436": {
          "model_module": "@jupyter-widgets/controls",
          "model_name": "DescriptionStyleModel",
          "model_module_version": "1.5.0",
          "state": {
            "_model_module": "@jupyter-widgets/controls",
            "_model_module_version": "1.5.0",
            "_model_name": "DescriptionStyleModel",
            "_view_count": null,
            "_view_module": "@jupyter-widgets/base",
            "_view_module_version": "1.2.0",
            "_view_name": "StyleView",
            "description_width": ""
          }
        },
        "0b3c1e995fcc49ff8a48f1046e8d1544": {
          "model_module": "@jupyter-widgets/base",
          "model_name": "LayoutModel",
          "model_module_version": "1.2.0",
          "state": {
            "_model_module": "@jupyter-widgets/base",
            "_model_module_version": "1.2.0",
            "_model_name": "LayoutModel",
            "_view_count": null,
            "_view_module": "@jupyter-widgets/base",
            "_view_module_version": "1.2.0",
            "_view_name": "LayoutView",
            "align_content": null,
            "align_items": null,
            "align_self": null,
            "border": null,
            "bottom": null,
            "display": null,
            "flex": null,
            "flex_flow": null,
            "grid_area": null,
            "grid_auto_columns": null,
            "grid_auto_flow": null,
            "grid_auto_rows": null,
            "grid_column": null,
            "grid_gap": null,
            "grid_row": null,
            "grid_template_areas": null,
            "grid_template_columns": null,
            "grid_template_rows": null,
            "height": null,
            "justify_content": null,
            "justify_items": null,
            "left": null,
            "margin": null,
            "max_height": null,
            "max_width": null,
            "min_height": null,
            "min_width": null,
            "object_fit": null,
            "object_position": null,
            "order": null,
            "overflow": null,
            "overflow_x": null,
            "overflow_y": null,
            "padding": null,
            "right": null,
            "top": null,
            "visibility": null,
            "width": null
          }
        },
        "1093d2cf2b734e93a5efa66fe661ba65": {
          "model_module": "@jupyter-widgets/controls",
          "model_name": "ProgressStyleModel",
          "model_module_version": "1.5.0",
          "state": {
            "_model_module": "@jupyter-widgets/controls",
            "_model_module_version": "1.5.0",
            "_model_name": "ProgressStyleModel",
            "_view_count": null,
            "_view_module": "@jupyter-widgets/base",
            "_view_module_version": "1.2.0",
            "_view_name": "StyleView",
            "bar_color": null,
            "description_width": ""
          }
        },
        "df3153b068404110ba6ebdd5467e9ba8": {
          "model_module": "@jupyter-widgets/base",
          "model_name": "LayoutModel",
          "model_module_version": "1.2.0",
          "state": {
            "_model_module": "@jupyter-widgets/base",
            "_model_module_version": "1.2.0",
            "_model_name": "LayoutModel",
            "_view_count": null,
            "_view_module": "@jupyter-widgets/base",
            "_view_module_version": "1.2.0",
            "_view_name": "LayoutView",
            "align_content": null,
            "align_items": null,
            "align_self": null,
            "border": null,
            "bottom": null,
            "display": null,
            "flex": null,
            "flex_flow": null,
            "grid_area": null,
            "grid_auto_columns": null,
            "grid_auto_flow": null,
            "grid_auto_rows": null,
            "grid_column": null,
            "grid_gap": null,
            "grid_row": null,
            "grid_template_areas": null,
            "grid_template_columns": null,
            "grid_template_rows": null,
            "height": null,
            "justify_content": null,
            "justify_items": null,
            "left": null,
            "margin": null,
            "max_height": null,
            "max_width": null,
            "min_height": null,
            "min_width": null,
            "object_fit": null,
            "object_position": null,
            "order": null,
            "overflow": null,
            "overflow_x": null,
            "overflow_y": null,
            "padding": null,
            "right": null,
            "top": null,
            "visibility": null,
            "width": null
          }
        },
        "bcab1266f67c4dcdafa8b0668ce678c3": {
          "model_module": "@jupyter-widgets/controls",
          "model_name": "DescriptionStyleModel",
          "model_module_version": "1.5.0",
          "state": {
            "_model_module": "@jupyter-widgets/controls",
            "_model_module_version": "1.5.0",
            "_model_name": "DescriptionStyleModel",
            "_view_count": null,
            "_view_module": "@jupyter-widgets/base",
            "_view_module_version": "1.2.0",
            "_view_name": "StyleView",
            "description_width": ""
          }
        },
        "78e6c40f1ec8472ca5a4bf33cdc46593": {
          "model_module": "@jupyter-widgets/controls",
          "model_name": "HBoxModel",
          "model_module_version": "1.5.0",
          "state": {
            "_dom_classes": [],
            "_model_module": "@jupyter-widgets/controls",
            "_model_module_version": "1.5.0",
            "_model_name": "HBoxModel",
            "_view_count": null,
            "_view_module": "@jupyter-widgets/controls",
            "_view_module_version": "1.5.0",
            "_view_name": "HBoxView",
            "box_style": "",
            "children": [
              "IPY_MODEL_b3092a0193aa46b390a88ff9e95c8a0f",
              "IPY_MODEL_36c923fca4c842ddb1c19252e6f78497",
              "IPY_MODEL_9d5402c199884447a63d45dff07c9a99"
            ],
            "layout": "IPY_MODEL_5535bb92a7cb45ff892679f07098d3b8"
          }
        },
        "b3092a0193aa46b390a88ff9e95c8a0f": {
          "model_module": "@jupyter-widgets/controls",
          "model_name": "HTMLModel",
          "model_module_version": "1.5.0",
          "state": {
            "_dom_classes": [],
            "_model_module": "@jupyter-widgets/controls",
            "_model_module_version": "1.5.0",
            "_model_name": "HTMLModel",
            "_view_count": null,
            "_view_module": "@jupyter-widgets/controls",
            "_view_module_version": "1.5.0",
            "_view_name": "HTMLView",
            "description": "",
            "description_tooltip": null,
            "layout": "IPY_MODEL_f6ca458c29dc4b1089c656613d337b5b",
            "placeholder": "​",
            "style": "IPY_MODEL_94526fa714e7408fbf884460c33a6a83",
            "value": "Downloading (…)93c10421f3/vocab.txt: 100%"
          }
        },
        "36c923fca4c842ddb1c19252e6f78497": {
          "model_module": "@jupyter-widgets/controls",
          "model_name": "FloatProgressModel",
          "model_module_version": "1.5.0",
          "state": {
            "_dom_classes": [],
            "_model_module": "@jupyter-widgets/controls",
            "_model_module_version": "1.5.0",
            "_model_name": "FloatProgressModel",
            "_view_count": null,
            "_view_module": "@jupyter-widgets/controls",
            "_view_module_version": "1.5.0",
            "_view_name": "ProgressView",
            "bar_style": "success",
            "description": "",
            "description_tooltip": null,
            "layout": "IPY_MODEL_4873d50cccdf4edb97903006f49a8cc1",
            "max": 231508,
            "min": 0,
            "orientation": "horizontal",
            "style": "IPY_MODEL_779c9fd27b89405eac629d2163646fd4",
            "value": 231508
          }
        },
        "9d5402c199884447a63d45dff07c9a99": {
          "model_module": "@jupyter-widgets/controls",
          "model_name": "HTMLModel",
          "model_module_version": "1.5.0",
          "state": {
            "_dom_classes": [],
            "_model_module": "@jupyter-widgets/controls",
            "_model_module_version": "1.5.0",
            "_model_name": "HTMLModel",
            "_view_count": null,
            "_view_module": "@jupyter-widgets/controls",
            "_view_module_version": "1.5.0",
            "_view_name": "HTMLView",
            "description": "",
            "description_tooltip": null,
            "layout": "IPY_MODEL_67033a15759f4250b743c36bc2e8f375",
            "placeholder": "​",
            "style": "IPY_MODEL_1948ce3f6d9543a5be5c8f0476a7578b",
            "value": " 232k/232k [00:00&lt;00:00, 16.9MB/s]"
          }
        },
        "5535bb92a7cb45ff892679f07098d3b8": {
          "model_module": "@jupyter-widgets/base",
          "model_name": "LayoutModel",
          "model_module_version": "1.2.0",
          "state": {
            "_model_module": "@jupyter-widgets/base",
            "_model_module_version": "1.2.0",
            "_model_name": "LayoutModel",
            "_view_count": null,
            "_view_module": "@jupyter-widgets/base",
            "_view_module_version": "1.2.0",
            "_view_name": "LayoutView",
            "align_content": null,
            "align_items": null,
            "align_self": null,
            "border": null,
            "bottom": null,
            "display": null,
            "flex": null,
            "flex_flow": null,
            "grid_area": null,
            "grid_auto_columns": null,
            "grid_auto_flow": null,
            "grid_auto_rows": null,
            "grid_column": null,
            "grid_gap": null,
            "grid_row": null,
            "grid_template_areas": null,
            "grid_template_columns": null,
            "grid_template_rows": null,
            "height": null,
            "justify_content": null,
            "justify_items": null,
            "left": null,
            "margin": null,
            "max_height": null,
            "max_width": null,
            "min_height": null,
            "min_width": null,
            "object_fit": null,
            "object_position": null,
            "order": null,
            "overflow": null,
            "overflow_x": null,
            "overflow_y": null,
            "padding": null,
            "right": null,
            "top": null,
            "visibility": null,
            "width": null
          }
        },
        "f6ca458c29dc4b1089c656613d337b5b": {
          "model_module": "@jupyter-widgets/base",
          "model_name": "LayoutModel",
          "model_module_version": "1.2.0",
          "state": {
            "_model_module": "@jupyter-widgets/base",
            "_model_module_version": "1.2.0",
            "_model_name": "LayoutModel",
            "_view_count": null,
            "_view_module": "@jupyter-widgets/base",
            "_view_module_version": "1.2.0",
            "_view_name": "LayoutView",
            "align_content": null,
            "align_items": null,
            "align_self": null,
            "border": null,
            "bottom": null,
            "display": null,
            "flex": null,
            "flex_flow": null,
            "grid_area": null,
            "grid_auto_columns": null,
            "grid_auto_flow": null,
            "grid_auto_rows": null,
            "grid_column": null,
            "grid_gap": null,
            "grid_row": null,
            "grid_template_areas": null,
            "grid_template_columns": null,
            "grid_template_rows": null,
            "height": null,
            "justify_content": null,
            "justify_items": null,
            "left": null,
            "margin": null,
            "max_height": null,
            "max_width": null,
            "min_height": null,
            "min_width": null,
            "object_fit": null,
            "object_position": null,
            "order": null,
            "overflow": null,
            "overflow_x": null,
            "overflow_y": null,
            "padding": null,
            "right": null,
            "top": null,
            "visibility": null,
            "width": null
          }
        },
        "94526fa714e7408fbf884460c33a6a83": {
          "model_module": "@jupyter-widgets/controls",
          "model_name": "DescriptionStyleModel",
          "model_module_version": "1.5.0",
          "state": {
            "_model_module": "@jupyter-widgets/controls",
            "_model_module_version": "1.5.0",
            "_model_name": "DescriptionStyleModel",
            "_view_count": null,
            "_view_module": "@jupyter-widgets/base",
            "_view_module_version": "1.2.0",
            "_view_name": "StyleView",
            "description_width": ""
          }
        },
        "4873d50cccdf4edb97903006f49a8cc1": {
          "model_module": "@jupyter-widgets/base",
          "model_name": "LayoutModel",
          "model_module_version": "1.2.0",
          "state": {
            "_model_module": "@jupyter-widgets/base",
            "_model_module_version": "1.2.0",
            "_model_name": "LayoutModel",
            "_view_count": null,
            "_view_module": "@jupyter-widgets/base",
            "_view_module_version": "1.2.0",
            "_view_name": "LayoutView",
            "align_content": null,
            "align_items": null,
            "align_self": null,
            "border": null,
            "bottom": null,
            "display": null,
            "flex": null,
            "flex_flow": null,
            "grid_area": null,
            "grid_auto_columns": null,
            "grid_auto_flow": null,
            "grid_auto_rows": null,
            "grid_column": null,
            "grid_gap": null,
            "grid_row": null,
            "grid_template_areas": null,
            "grid_template_columns": null,
            "grid_template_rows": null,
            "height": null,
            "justify_content": null,
            "justify_items": null,
            "left": null,
            "margin": null,
            "max_height": null,
            "max_width": null,
            "min_height": null,
            "min_width": null,
            "object_fit": null,
            "object_position": null,
            "order": null,
            "overflow": null,
            "overflow_x": null,
            "overflow_y": null,
            "padding": null,
            "right": null,
            "top": null,
            "visibility": null,
            "width": null
          }
        },
        "779c9fd27b89405eac629d2163646fd4": {
          "model_module": "@jupyter-widgets/controls",
          "model_name": "ProgressStyleModel",
          "model_module_version": "1.5.0",
          "state": {
            "_model_module": "@jupyter-widgets/controls",
            "_model_module_version": "1.5.0",
            "_model_name": "ProgressStyleModel",
            "_view_count": null,
            "_view_module": "@jupyter-widgets/base",
            "_view_module_version": "1.2.0",
            "_view_name": "StyleView",
            "bar_color": null,
            "description_width": ""
          }
        },
        "67033a15759f4250b743c36bc2e8f375": {
          "model_module": "@jupyter-widgets/base",
          "model_name": "LayoutModel",
          "model_module_version": "1.2.0",
          "state": {
            "_model_module": "@jupyter-widgets/base",
            "_model_module_version": "1.2.0",
            "_model_name": "LayoutModel",
            "_view_count": null,
            "_view_module": "@jupyter-widgets/base",
            "_view_module_version": "1.2.0",
            "_view_name": "LayoutView",
            "align_content": null,
            "align_items": null,
            "align_self": null,
            "border": null,
            "bottom": null,
            "display": null,
            "flex": null,
            "flex_flow": null,
            "grid_area": null,
            "grid_auto_columns": null,
            "grid_auto_flow": null,
            "grid_auto_rows": null,
            "grid_column": null,
            "grid_gap": null,
            "grid_row": null,
            "grid_template_areas": null,
            "grid_template_columns": null,
            "grid_template_rows": null,
            "height": null,
            "justify_content": null,
            "justify_items": null,
            "left": null,
            "margin": null,
            "max_height": null,
            "max_width": null,
            "min_height": null,
            "min_width": null,
            "object_fit": null,
            "object_position": null,
            "order": null,
            "overflow": null,
            "overflow_x": null,
            "overflow_y": null,
            "padding": null,
            "right": null,
            "top": null,
            "visibility": null,
            "width": null
          }
        },
        "1948ce3f6d9543a5be5c8f0476a7578b": {
          "model_module": "@jupyter-widgets/controls",
          "model_name": "DescriptionStyleModel",
          "model_module_version": "1.5.0",
          "state": {
            "_model_module": "@jupyter-widgets/controls",
            "_model_module_version": "1.5.0",
            "_model_name": "DescriptionStyleModel",
            "_view_count": null,
            "_view_module": "@jupyter-widgets/base",
            "_view_module_version": "1.2.0",
            "_view_name": "StyleView",
            "description_width": ""
          }
        },
        "216640be2fa44c259dca737dbfe2b831": {
          "model_module": "@jupyter-widgets/controls",
          "model_name": "HBoxModel",
          "model_module_version": "1.5.0",
          "state": {
            "_dom_classes": [],
            "_model_module": "@jupyter-widgets/controls",
            "_model_module_version": "1.5.0",
            "_model_name": "HBoxModel",
            "_view_count": null,
            "_view_module": "@jupyter-widgets/controls",
            "_view_module_version": "1.5.0",
            "_view_name": "HBoxView",
            "box_style": "",
            "children": [
              "IPY_MODEL_95fe1066c9f247e7883d84c5393d50e0",
              "IPY_MODEL_08f9454c84aa413caa4b786d04bb63f6",
              "IPY_MODEL_b4d7f502b67a496988b7a05f32017246"
            ],
            "layout": "IPY_MODEL_944ffed11e92495f8e74dfc59fb984de"
          }
        },
        "95fe1066c9f247e7883d84c5393d50e0": {
          "model_module": "@jupyter-widgets/controls",
          "model_name": "HTMLModel",
          "model_module_version": "1.5.0",
          "state": {
            "_dom_classes": [],
            "_model_module": "@jupyter-widgets/controls",
            "_model_module_version": "1.5.0",
            "_model_name": "HTMLModel",
            "_view_count": null,
            "_view_module": "@jupyter-widgets/controls",
            "_view_module_version": "1.5.0",
            "_view_name": "HTMLView",
            "description": "",
            "description_tooltip": null,
            "layout": "IPY_MODEL_7a9251db01324285a3af7fdac63e6a28",
            "placeholder": "​",
            "style": "IPY_MODEL_9ab86b600b5644c1b9796b50b6086bd7",
            "value": "Downloading (…)10421f3/modules.json: 100%"
          }
        },
        "08f9454c84aa413caa4b786d04bb63f6": {
          "model_module": "@jupyter-widgets/controls",
          "model_name": "FloatProgressModel",
          "model_module_version": "1.5.0",
          "state": {
            "_dom_classes": [],
            "_model_module": "@jupyter-widgets/controls",
            "_model_module_version": "1.5.0",
            "_model_name": "FloatProgressModel",
            "_view_count": null,
            "_view_module": "@jupyter-widgets/controls",
            "_view_module_version": "1.5.0",
            "_view_name": "ProgressView",
            "bar_style": "success",
            "description": "",
            "description_tooltip": null,
            "layout": "IPY_MODEL_e48879a5e1db4bf386aea806d04085c9",
            "max": 349,
            "min": 0,
            "orientation": "horizontal",
            "style": "IPY_MODEL_289080b20a5a4b8abc1e2a17842b3535",
            "value": 349
          }
        },
        "b4d7f502b67a496988b7a05f32017246": {
          "model_module": "@jupyter-widgets/controls",
          "model_name": "HTMLModel",
          "model_module_version": "1.5.0",
          "state": {
            "_dom_classes": [],
            "_model_module": "@jupyter-widgets/controls",
            "_model_module_version": "1.5.0",
            "_model_name": "HTMLModel",
            "_view_count": null,
            "_view_module": "@jupyter-widgets/controls",
            "_view_module_version": "1.5.0",
            "_view_name": "HTMLView",
            "description": "",
            "description_tooltip": null,
            "layout": "IPY_MODEL_f7f644642a124b07b3db42c4dd1dc52e",
            "placeholder": "​",
            "style": "IPY_MODEL_33a76dd52bbf462496542647fc7c5844",
            "value": " 349/349 [00:00&lt;00:00, 28.0kB/s]"
          }
        },
        "944ffed11e92495f8e74dfc59fb984de": {
          "model_module": "@jupyter-widgets/base",
          "model_name": "LayoutModel",
          "model_module_version": "1.2.0",
          "state": {
            "_model_module": "@jupyter-widgets/base",
            "_model_module_version": "1.2.0",
            "_model_name": "LayoutModel",
            "_view_count": null,
            "_view_module": "@jupyter-widgets/base",
            "_view_module_version": "1.2.0",
            "_view_name": "LayoutView",
            "align_content": null,
            "align_items": null,
            "align_self": null,
            "border": null,
            "bottom": null,
            "display": null,
            "flex": null,
            "flex_flow": null,
            "grid_area": null,
            "grid_auto_columns": null,
            "grid_auto_flow": null,
            "grid_auto_rows": null,
            "grid_column": null,
            "grid_gap": null,
            "grid_row": null,
            "grid_template_areas": null,
            "grid_template_columns": null,
            "grid_template_rows": null,
            "height": null,
            "justify_content": null,
            "justify_items": null,
            "left": null,
            "margin": null,
            "max_height": null,
            "max_width": null,
            "min_height": null,
            "min_width": null,
            "object_fit": null,
            "object_position": null,
            "order": null,
            "overflow": null,
            "overflow_x": null,
            "overflow_y": null,
            "padding": null,
            "right": null,
            "top": null,
            "visibility": null,
            "width": null
          }
        },
        "7a9251db01324285a3af7fdac63e6a28": {
          "model_module": "@jupyter-widgets/base",
          "model_name": "LayoutModel",
          "model_module_version": "1.2.0",
          "state": {
            "_model_module": "@jupyter-widgets/base",
            "_model_module_version": "1.2.0",
            "_model_name": "LayoutModel",
            "_view_count": null,
            "_view_module": "@jupyter-widgets/base",
            "_view_module_version": "1.2.0",
            "_view_name": "LayoutView",
            "align_content": null,
            "align_items": null,
            "align_self": null,
            "border": null,
            "bottom": null,
            "display": null,
            "flex": null,
            "flex_flow": null,
            "grid_area": null,
            "grid_auto_columns": null,
            "grid_auto_flow": null,
            "grid_auto_rows": null,
            "grid_column": null,
            "grid_gap": null,
            "grid_row": null,
            "grid_template_areas": null,
            "grid_template_columns": null,
            "grid_template_rows": null,
            "height": null,
            "justify_content": null,
            "justify_items": null,
            "left": null,
            "margin": null,
            "max_height": null,
            "max_width": null,
            "min_height": null,
            "min_width": null,
            "object_fit": null,
            "object_position": null,
            "order": null,
            "overflow": null,
            "overflow_x": null,
            "overflow_y": null,
            "padding": null,
            "right": null,
            "top": null,
            "visibility": null,
            "width": null
          }
        },
        "9ab86b600b5644c1b9796b50b6086bd7": {
          "model_module": "@jupyter-widgets/controls",
          "model_name": "DescriptionStyleModel",
          "model_module_version": "1.5.0",
          "state": {
            "_model_module": "@jupyter-widgets/controls",
            "_model_module_version": "1.5.0",
            "_model_name": "DescriptionStyleModel",
            "_view_count": null,
            "_view_module": "@jupyter-widgets/base",
            "_view_module_version": "1.2.0",
            "_view_name": "StyleView",
            "description_width": ""
          }
        },
        "e48879a5e1db4bf386aea806d04085c9": {
          "model_module": "@jupyter-widgets/base",
          "model_name": "LayoutModel",
          "model_module_version": "1.2.0",
          "state": {
            "_model_module": "@jupyter-widgets/base",
            "_model_module_version": "1.2.0",
            "_model_name": "LayoutModel",
            "_view_count": null,
            "_view_module": "@jupyter-widgets/base",
            "_view_module_version": "1.2.0",
            "_view_name": "LayoutView",
            "align_content": null,
            "align_items": null,
            "align_self": null,
            "border": null,
            "bottom": null,
            "display": null,
            "flex": null,
            "flex_flow": null,
            "grid_area": null,
            "grid_auto_columns": null,
            "grid_auto_flow": null,
            "grid_auto_rows": null,
            "grid_column": null,
            "grid_gap": null,
            "grid_row": null,
            "grid_template_areas": null,
            "grid_template_columns": null,
            "grid_template_rows": null,
            "height": null,
            "justify_content": null,
            "justify_items": null,
            "left": null,
            "margin": null,
            "max_height": null,
            "max_width": null,
            "min_height": null,
            "min_width": null,
            "object_fit": null,
            "object_position": null,
            "order": null,
            "overflow": null,
            "overflow_x": null,
            "overflow_y": null,
            "padding": null,
            "right": null,
            "top": null,
            "visibility": null,
            "width": null
          }
        },
        "289080b20a5a4b8abc1e2a17842b3535": {
          "model_module": "@jupyter-widgets/controls",
          "model_name": "ProgressStyleModel",
          "model_module_version": "1.5.0",
          "state": {
            "_model_module": "@jupyter-widgets/controls",
            "_model_module_version": "1.5.0",
            "_model_name": "ProgressStyleModel",
            "_view_count": null,
            "_view_module": "@jupyter-widgets/base",
            "_view_module_version": "1.2.0",
            "_view_name": "StyleView",
            "bar_color": null,
            "description_width": ""
          }
        },
        "f7f644642a124b07b3db42c4dd1dc52e": {
          "model_module": "@jupyter-widgets/base",
          "model_name": "LayoutModel",
          "model_module_version": "1.2.0",
          "state": {
            "_model_module": "@jupyter-widgets/base",
            "_model_module_version": "1.2.0",
            "_model_name": "LayoutModel",
            "_view_count": null,
            "_view_module": "@jupyter-widgets/base",
            "_view_module_version": "1.2.0",
            "_view_name": "LayoutView",
            "align_content": null,
            "align_items": null,
            "align_self": null,
            "border": null,
            "bottom": null,
            "display": null,
            "flex": null,
            "flex_flow": null,
            "grid_area": null,
            "grid_auto_columns": null,
            "grid_auto_flow": null,
            "grid_auto_rows": null,
            "grid_column": null,
            "grid_gap": null,
            "grid_row": null,
            "grid_template_areas": null,
            "grid_template_columns": null,
            "grid_template_rows": null,
            "height": null,
            "justify_content": null,
            "justify_items": null,
            "left": null,
            "margin": null,
            "max_height": null,
            "max_width": null,
            "min_height": null,
            "min_width": null,
            "object_fit": null,
            "object_position": null,
            "order": null,
            "overflow": null,
            "overflow_x": null,
            "overflow_y": null,
            "padding": null,
            "right": null,
            "top": null,
            "visibility": null,
            "width": null
          }
        },
        "33a76dd52bbf462496542647fc7c5844": {
          "model_module": "@jupyter-widgets/controls",
          "model_name": "DescriptionStyleModel",
          "model_module_version": "1.5.0",
          "state": {
            "_model_module": "@jupyter-widgets/controls",
            "_model_module_version": "1.5.0",
            "_model_name": "DescriptionStyleModel",
            "_view_count": null,
            "_view_module": "@jupyter-widgets/base",
            "_view_module_version": "1.2.0",
            "_view_name": "StyleView",
            "description_width": ""
          }
        }
      }
    }
  },
  "cells": [
    {
      "cell_type": "code",
      "execution_count": null,
      "metadata": {
        "id": "CmFFxYeQ3nHE"
      },
      "outputs": [],
      "source": [
        "!pip install langchain pypdf unstructured pdf2image docx2txt pdfminer"
      ]
    },
    {
      "cell_type": "code",
      "source": [
        "from google.colab import drive\n",
        "drive.mount('/content/drive')"
      ],
      "metadata": {
        "colab": {
          "base_uri": "https://localhost:8080/"
        },
        "id": "pWiMRQC1Kikl",
        "outputId": "a9b8dfa9-4efa-449e-d3a4-a69447dff3f6"
      },
      "execution_count": null,
      "outputs": [
        {
          "output_type": "stream",
          "name": "stdout",
          "text": [
            "Mounted at /content/drive\n"
          ]
        }
      ]
    },
    {
      "cell_type": "markdown",
      "source": [
        "### Document Loaders"
      ],
      "metadata": {
        "id": "bHU-tA7Y392J"
      }
    },
    {
      "cell_type": "markdown",
      "source": [
        "Document Loader는 다양한 형식의 문서를 불러오고 이를 Langchain에 결합하기 쉬운 텍스트 형태로 변환하는 기능을 합니다. 이를 통해 사용자는 txt. 형식의 문서 뿐만 아니라 pdf, word, ppt, xlsx, csv 등 거의 모든 형식의 문서를 기반으로 LLM을 구동할 수 있습니다."
      ],
      "metadata": {
        "id": "6LeJdOHn4ApC"
      }
    },
    {
      "cell_type": "markdown",
      "source": [
        "#### URL Document Loader"
      ],
      "metadata": {
        "id": "YaleV-QhRSHN"
      }
    },
    {
      "cell_type": "markdown",
      "source": [
        "LangChain은 웹에 기록된 글도 텍스트 형식으로 가져와 LLM에 활용할 수 있습니다. 대표적인 URL Loader는 WebBaseLoader와 UnstructuredURLLoader가 있습니다."
      ],
      "metadata": {
        "id": "6Tkm06B4aGDw"
      }
    },
    {
      "cell_type": "code",
      "source": [
        "from langchain.document_loaders import WebBaseLoader\n",
        "\n",
        "loader = WebBaseLoader(\"https://n.news.naver.com/mnews/article/092/0002307222?sid=105\")\n",
        "\n",
        "data = loader.load()\n",
        "print(data[0].page_content)"
      ],
      "metadata": {
        "id": "2KbDQ3jJZ7LN"
      },
      "execution_count": null,
      "outputs": []
    },
    {
      "cell_type": "code",
      "source": [
        "!pip install pdfminer.six"
      ],
      "metadata": {
        "colab": {
          "base_uri": "https://localhost:8080/",
          "height": 270
        },
        "id": "glJudUanxo73",
        "outputId": "8c204a5f-46f5-4538-8e50-1b10cebac019"
      },
      "execution_count": null,
      "outputs": [
        {
          "output_type": "stream",
          "name": "stdout",
          "text": [
            "Collecting pdfminer.six\n",
            "  Downloading pdfminer.six-20221105-py3-none-any.whl (5.6 MB)\n",
            "\u001b[2K     \u001b[90m━━━━━━━━━━━━━━━━━━━━━━━━━━━━━━━━━━━━━━━━\u001b[0m \u001b[32m5.6/5.6 MB\u001b[0m \u001b[31m37.8 MB/s\u001b[0m eta \u001b[36m0:00:00\u001b[0m\n",
            "\u001b[?25hRequirement already satisfied: charset-normalizer>=2.0.0 in /usr/local/lib/python3.10/dist-packages (from pdfminer.six) (3.3.0)\n",
            "Requirement already satisfied: cryptography>=36.0.0 in /usr/local/lib/python3.10/dist-packages (from pdfminer.six) (41.0.4)\n",
            "Requirement already satisfied: cffi>=1.12 in /usr/local/lib/python3.10/dist-packages (from cryptography>=36.0.0->pdfminer.six) (1.16.0)\n",
            "Requirement already satisfied: pycparser in /usr/local/lib/python3.10/dist-packages (from cffi>=1.12->cryptography>=36.0.0->pdfminer.six) (2.21)\n",
            "Installing collected packages: pdfminer.six\n",
            "Successfully installed pdfminer.six-20221105\n"
          ]
        },
        {
          "output_type": "display_data",
          "data": {
            "application/vnd.colab-display-data+json": {
              "pip_warning": {
                "packages": [
                  "pdfminer"
                ]
              }
            }
          },
          "metadata": {}
        }
      ]
    },
    {
      "cell_type": "code",
      "source": [
        "from langchain.document_loaders import UnstructuredURLLoader\n",
        "\n",
        "\n",
        "urls = [\n",
        "    \"https://n.news.naver.com/mnews/article/092/0002307222?sid=105\",\n",
        "    \"https://n.news.naver.com/mnews/article/052/0001944792?sid=105\",\n",
        "]\n",
        "\n",
        "loader = UnstructuredURLLoader(urls=urls)\n",
        "\n",
        "data = loader.load()\n",
        "data"
      ],
      "metadata": {
        "id": "in_KRpk7RUuF"
      },
      "execution_count": null,
      "outputs": []
    },
    {
      "cell_type": "markdown",
      "source": [
        "#### PDF Document Loader"
      ],
      "metadata": {
        "id": "7h_aCxDV4ojd"
      }
    },
    {
      "cell_type": "code",
      "source": [
        "from langchain.document_loaders import PyPDFLoader\n",
        "\n",
        "loader = PyPDFLoader(\"/content/drive/MyDrive/BOK이슈노트제2023-26호_수출입경로를 통한 해외 기후변화 물리적 리스크의 국내 파급영향.pdf\")\n",
        "pages = loader.load_and_split()"
      ],
      "metadata": {
        "id": "O0dzlN9e4ywo"
      },
      "execution_count": null,
      "outputs": []
    },
    {
      "cell_type": "code",
      "source": [
        "print(pages[1].page_content)"
      ],
      "metadata": {
        "id": "oF164tdz3rpW"
      },
      "execution_count": null,
      "outputs": []
    },
    {
      "cell_type": "markdown",
      "source": [
        "#### Word Document Loader"
      ],
      "metadata": {
        "id": "HaFdIRn_9lUB"
      }
    },
    {
      "cell_type": "code",
      "source": [
        "!pip install docx2txt"
      ],
      "metadata": {
        "id": "HObRQZ5F3tnW"
      },
      "execution_count": null,
      "outputs": []
    },
    {
      "cell_type": "code",
      "source": [
        "from langchain.document_loaders import Docx2txtLoader\n",
        "loader = Docx2txtLoader(\"/content/drive/MyDrive/1등_통계+바로쓰기+공모전+수상작.docx\")\n",
        "data = loader.load()"
      ],
      "metadata": {
        "id": "FWv-fVYK9oQ9"
      },
      "execution_count": null,
      "outputs": []
    },
    {
      "cell_type": "code",
      "source": [
        "data"
      ],
      "metadata": {
        "id": "tK1kmYd0QuNo"
      },
      "execution_count": null,
      "outputs": []
    },
    {
      "cell_type": "code",
      "source": [
        "data[0].metadata"
      ],
      "metadata": {
        "colab": {
          "base_uri": "https://localhost:8080/"
        },
        "id": "Opr4pkCUQjGC",
        "outputId": "e02b1b02-ded9-461b-85f2-42bded8b72e6"
      },
      "execution_count": null,
      "outputs": [
        {
          "output_type": "execute_result",
          "data": {
            "text/plain": [
              "{'source': '/content/drive/MyDrive/1등_통계+바로쓰기+공모전+수상작.docx'}"
            ]
          },
          "metadata": {},
          "execution_count": 35
        }
      ]
    },
    {
      "cell_type": "code",
      "source": [
        "data[0].page_content"
      ],
      "metadata": {
        "id": "UZpteCj4QeDH"
      },
      "execution_count": null,
      "outputs": []
    },
    {
      "cell_type": "markdown",
      "source": [
        "#### CSV Document Loader"
      ],
      "metadata": {
        "id": "6KSLg-THCbhA"
      }
    },
    {
      "cell_type": "code",
      "source": [
        "from langchain.document_loaders.csv_loader import CSVLoader"
      ],
      "metadata": {
        "id": "X8XcjZ3oCbzc"
      },
      "execution_count": null,
      "outputs": []
    },
    {
      "cell_type": "code",
      "source": [
        "loader = CSVLoader(file_path='/content/drive/MyDrive/basketball.csv', csv_args={\n",
        "    'delimiter': ',',\n",
        "    'quotechar': '\"',\n",
        "    'fieldnames': ['ID', 'Name', 'Position', 'Height', 'Weight', 'Sponsorship Earnings', 'Shoe Sponsor', 'Career Stage', 'Age']\n",
        "})\n",
        "\n",
        "data = loader.load()"
      ],
      "metadata": {
        "id": "q7OSFXXpCdqQ"
      },
      "execution_count": null,
      "outputs": []
    },
    {
      "cell_type": "code",
      "source": [
        "data[:10]"
      ],
      "metadata": {
        "id": "-KAimCiOCe17"
      },
      "execution_count": null,
      "outputs": []
    },
    {
      "cell_type": "markdown",
      "source": [
        "### Text Splitter\n"
      ],
      "metadata": {
        "id": "j73YWuEjEPub"
      }
    },
    {
      "cell_type": "markdown",
      "source": [
        "Text Splitter는 특정 기준을 통해 텍스트를 청크로 나누는 모듈입니다. 예를 들어, CharacterTextSplitter는 특정 구분자를 기준으로 텍스트를 청크로 분할합니다. 이렇게 함으로써 토큰 제한 이슈를 우회하여 Context를 학습시킬 수 있습니다."
      ],
      "metadata": {
        "id": "URG-yOpNSxJ6"
      }
    },
    {
      "cell_type": "markdown",
      "source": [
        "#### CharacterTextSplitter"
      ],
      "metadata": {
        "id": "1WBLcU0ATWMX"
      }
    },
    {
      "cell_type": "markdown",
      "source": [
        "가장 간단한 텍스트 분할기로, 특정 구분자를 기준으로 텍스트를 여러 개로 분할합니다."
      ],
      "metadata": {
        "id": "KdMVB1M1bXwj"
      }
    },
    {
      "cell_type": "code",
      "source": [
        "# This is a long document we can split up.\n",
        "with open('/content/drive/MyDrive/강의 자료/state_of_the_union.txt') as f:\n",
        "    state_of_the_union = f.read()"
      ],
      "metadata": {
        "id": "wGvgagyvUa7E"
      },
      "execution_count": null,
      "outputs": []
    },
    {
      "cell_type": "code",
      "source": [
        "from langchain.text_splitter import CharacterTextSplitter\n",
        "text_splitter = CharacterTextSplitter(\n",
        "    separator = \"\\n\\n\",\n",
        "    chunk_size = 1000,\n",
        "    chunk_overlap  = 100,\n",
        "    length_function = len,\n",
        ")"
      ],
      "metadata": {
        "id": "PnTP4UnIC3ET"
      },
      "execution_count": null,
      "outputs": []
    },
    {
      "cell_type": "code",
      "source": [
        "texts = text_splitter.split_text(state_of_the_union)\n",
        "print(texts[0])\n",
        "print(\"-\"*100)\n",
        "print(texts[1])\n",
        "print(\"-\"*100)\n",
        "print(texts[2])\n"
      ],
      "metadata": {
        "id": "C16W-nSFEJga",
        "colab": {
          "base_uri": "https://localhost:8080/"
        },
        "outputId": "cb392267-6d68-4496-e657-4f91ef7ed3f0"
      },
      "execution_count": null,
      "outputs": [
        {
          "output_type": "stream",
          "name": "stderr",
          "text": [
            "WARNING:langchain.text_splitter:Created a chunk of size 1163, which is longer than the specified 1000\n",
            "WARNING:langchain.text_splitter:Created a chunk of size 1015, which is longer than the specified 1000\n"
          ]
        },
        {
          "output_type": "stream",
          "name": "stdout",
          "text": [
            "Madame Speaker, Vice President Biden, members of Congress, distinguished guests, and fellow Americans:\n",
            "\n",
            "Our Constitution declares that from time to time, the president shall give to Congress information about the state of our union. For 220 years, our leaders have fulfilled this duty. They have done so during periods of prosperity and tranquility. And they have done so in the midst of war and depression; at moments of great strife and great struggle.\n",
            "----------------------------------------------------------------------------------------------------\n",
            "It's tempting to look back on these moments and assume that our progress was inevitable, that America was always destined to succeed. But when the Union was turned back at Bull Run and the Allies first landed at Omaha Beach, victory was very much in doubt. When the market crashed on Black Tuesday and civil rights marchers were beaten on Bloody Sunday, the future was anything but certain. These were times that tested the courage of our convictions and the strength of our union. And despite all our divisions and disagreements, our hesitations and our fears, America prevailed because we chose to move forward as one nation and one people.\n",
            "\n",
            "Again, we are tested. And again, we must answer history's call.\n",
            "----------------------------------------------------------------------------------------------------\n",
            "Again, we are tested. And again, we must answer history's call.\n",
            "\n",
            "One year ago, I took office amid two wars, an economy rocked by severe recession, a financial system on the verge of collapse and a government deeply in debt. Experts from across the political spectrum warned that if we did not act, we might face a second depression. So we acted immediately and aggressively. And one year later, the worst of the storm has passed.\n",
            "\n",
            "But the devastation remains. One in 10 Americans still cannot find work. Many businesses have shuttered. Home values have declined. Small towns and rural communities have been hit especially hard. For those who had already known poverty, life has become that much harder.\n",
            "\n",
            "This recession has also compounded the burdens that America's families have been dealing with for decades -- the burden of working harder and longer for less, of being unable to save enough to retire or help kids with college.\n"
          ]
        }
      ]
    },
    {
      "cell_type": "code",
      "source": [
        "char_list = []\n",
        "for i in range(len(texts)):\n",
        "    char_list.append(len(texts[i]))\n",
        "print(char_list)"
      ],
      "metadata": {
        "colab": {
          "base_uri": "https://localhost:8080/"
        },
        "id": "hWj7SsZMmFLc",
        "outputId": "ab31e92d-5723-4fcb-867a-8480ac81a988"
      },
      "execution_count": null,
      "outputs": [
        {
          "output_type": "stream",
          "name": "stdout",
          "text": [
            "[454, 707, 930, 848, 896, 818, 846, 892, 813, 721, 730, 919, 996, 926, 839, 900, 850, 529, 614, 493, 582, 746, 1163, 878, 483, 607, 740, 419, 902, 794, 714, 416, 894, 917, 934, 711, 548, 506, 784, 948, 619, 669, 510, 1015, 714, 527, 701, 597, 436, 750, 558, 992, 920, 786, 790]\n"
          ]
        }
      ]
    },
    {
      "cell_type": "code",
      "source": [
        "text_splitter.create_documents([state_of_the_union])"
      ],
      "metadata": {
        "id": "x9VfZq_iA9tK"
      },
      "execution_count": null,
      "outputs": []
    },
    {
      "cell_type": "code",
      "source": [
        "from langchain.document_loaders import PyPDFLoader\n",
        "\n",
        "loader = PyPDFLoader(\"/content/drive/MyDrive/강의 자료/[이슈리포트 2022-2호] 혁신성장 정책금융 동향.pdf\")\n",
        "pages = loader.load_and_split()"
      ],
      "metadata": {
        "id": "N_flRP0urQ1K"
      },
      "execution_count": null,
      "outputs": []
    },
    {
      "cell_type": "code",
      "source": [
        "len(pages)"
      ],
      "metadata": {
        "colab": {
          "base_uri": "https://localhost:8080/"
        },
        "outputId": "f6219b3a-afbc-45ea-bad3-eca69c5246d7",
        "id": "_HCe3ZS9rQ1L"
      },
      "execution_count": null,
      "outputs": [
        {
          "output_type": "execute_result",
          "data": {
            "text/plain": [
              "18"
            ]
          },
          "metadata": {},
          "execution_count": 14
        }
      ]
    },
    {
      "cell_type": "code",
      "source": [
        "print(pages[1].page_content)"
      ],
      "metadata": {
        "colab": {
          "base_uri": "https://localhost:8080/"
        },
        "id": "QjXWewL8raV-",
        "outputId": "c5cd2864-02b5-4c3b-e79f-f2862ef982b2"
      },
      "execution_count": null,
      "outputs": [
        {
          "output_type": "stream",
          "name": "stdout",
          "text": [
            "| 2 | CIS이슈리포트 2022-2 호 ▶혁신성장 ICT 산업의 정책금융 공급규모 및 공급속도를 종합적으로 분석한 결과, 차세대무선통신미디어 , \n",
            "능동형컴퓨팅 (이상 정보통신 테마), 차세대반도체 (전기전자 테마) 및 객체탐지 (센서측정 테마) 기술분야로 \n",
            "혁신성장 정책금융이 집중되고 있음\n",
            "[ICT 산업 내 주요 기술분야 혁신성장 정책금융 공급 현황]\n",
            "                                                            (단위: 억 원, %)\n",
            "테마\n",
            "(대분류 )주요 기술분야\n",
            "(중분류 )정책금융 공급규모 연평균 공급액 \n",
            "증가율 (%)테마 내 공급 \n",
            "점유율 (%) 2017 년 말 2021 년 말\n",
            "정보통신차세대무선통신미디어 7,820 27,865 37.4 45.1\n",
            "능동형컴퓨팅 352 16,032 159.8 10.1\n",
            "전기전자 차세대반도체 12,019 53,779 45.4 58.5\n",
            "센서측정 객체탐지 1,278 6,711 51.4 48.5\n",
            "▶주요 기술분야별 세부 품목단위로는 5G 이동통신시스템 , 인공지능 (AI), 시스템반도체 및 스마트센서 에 \n",
            "정책금융 공급량이 높은 것으로 확인됨\n",
            "￮정부가 미래 먹거리산업으로 선정한 인공지능 (AI)의 미래성장율 (CAGR: 41.0%) 이 가장 높으며 , 시장규모는  \n",
            "시스템반도체 (3,833.8 억 달러, 2025 년)가 가장 큰 것으로 분석됨\n",
            "￮4대 품목은 공통적으로 수요기반이 크고, 각국 정부가 중점적으로 육성을 지원하고 있어 시장이 지속 \n",
            "성장할 것으로 전망되나 , 원천기술 미확보 및 높은 해외 의존도가 약점으로 지적되어 국내 기업의 경쟁력  \n",
            "강화가 시급한 것으로 평가됨\n",
            "[혁신성장 ICT 주요 품목 시장전망 ]\n",
            "                                                            (단위: 억 달러, %)\n",
            "주요 기술분야\n",
            "(중분류 )주요 품목\n",
            "(소분류 )시장규모 전망시장 촉진·저해요인2020 년 2025년(E) CAGR(%)\n",
            "차세대\n",
            "무선통신미디어5G이동통신\n",
            "시스템494.4 1,982.0 32.0Ÿ(촉진) 정부의 국제표준 확보 의지\n",
            "Ÿ(저해) 소재에 대한 높은 해외 의존도\n",
            "능동형컴퓨팅 인공지능 (AI) 398.4 2,223.7 41.0Ÿ(촉진) 정부의 미래먹거리 산업 선정\n",
            "Ÿ(저해) 국내 기술의 낮은 완성도\n",
            "차세대반도체 시스템반도체 2,723.6 3,833.8 7.1Ÿ(촉진) 반도체 강국 실현을 위한 정책\n",
            "Ÿ(저해) 글로벌 경쟁강도 심화\n",
            "객체탐지 스마트센서 366.5 875.8 19.0Ÿ(촉진) 스마트팜 등 연관 산업의 성장\n",
            "Ÿ(저해) 설계 기술의 높은 해외 의존도\n",
            "▶산업의 경쟁력 강화를 위해 혁신성장 유망산업 분야로의 금융지원을 지속적으로 추진해야 함\n",
            "￮빠른 산업변화를 반영한 혁신성장산업 기업발굴 가이드라인의 내실화 ·최신화에 노력을 기해야 함\n",
            "￮또한, 미래 성장성은 유망하나 단기 수익 창출이 어려운 산업의 지원 강화를 위해 정책금융 뿐만 아니라  \n",
            "민관주도의 역동적 금융으로 혁신성장 금융지원 영역을 확대할 필요가 있음\n"
          ]
        }
      ]
    },
    {
      "cell_type": "code",
      "source": [
        "from langchain.text_splitter import CharacterTextSplitter\n",
        "text_splitter = CharacterTextSplitter(\n",
        "    separator = \"\\n\",\n",
        "    chunk_size = 1000,\n",
        "    chunk_overlap  = 100,\n",
        "    length_function = len,\n",
        ")"
      ],
      "metadata": {
        "id": "jLDhSBMgHF1P"
      },
      "execution_count": null,
      "outputs": []
    },
    {
      "cell_type": "code",
      "source": [
        "texts = text_splitter.split_documents(pages)"
      ],
      "metadata": {
        "id": "VDptKwMHrQ1L"
      },
      "execution_count": null,
      "outputs": []
    },
    {
      "cell_type": "code",
      "source": [
        "print(texts[1].page_content)"
      ],
      "metadata": {
        "colab": {
          "base_uri": "https://localhost:8080/"
        },
        "outputId": "5e7c9bec-a63d-429e-dbf8-fb30306eddee",
        "id": "g3-0nICGrQ1L"
      },
      "execution_count": null,
      "outputs": [
        {
          "output_type": "stream",
          "name": "stdout",
          "text": [
            "| 2 | CIS이슈리포트 2022-2 호 ▶혁신성장 ICT 산업의 정책금융 공급규모 및 공급속도를 종합적으로 분석한 결과, 차세대무선통신미디어 , \n",
            "능동형컴퓨팅 (이상 정보통신 테마), 차세대반도체 (전기전자 테마) 및 객체탐지 (센서측정 테마) 기술분야로 \n",
            "혁신성장 정책금융이 집중되고 있음\n",
            "[ICT 산업 내 주요 기술분야 혁신성장 정책금융 공급 현황]\n",
            "                                                            (단위: 억 원, %)\n",
            "테마\n",
            "(대분류 )주요 기술분야\n",
            "(중분류 )정책금융 공급규모 연평균 공급액 \n",
            "증가율 (%)테마 내 공급 \n",
            "점유율 (%) 2017 년 말 2021 년 말\n",
            "정보통신차세대무선통신미디어 7,820 27,865 37.4 45.1\n",
            "능동형컴퓨팅 352 16,032 159.8 10.1\n",
            "전기전자 차세대반도체 12,019 53,779 45.4 58.5\n",
            "센서측정 객체탐지 1,278 6,711 51.4 48.5\n",
            "▶주요 기술분야별 세부 품목단위로는 5G 이동통신시스템 , 인공지능 (AI), 시스템반도체 및 스마트센서 에 \n",
            "정책금융 공급량이 높은 것으로 확인됨\n",
            "￮정부가 미래 먹거리산업으로 선정한 인공지능 (AI)의 미래성장율 (CAGR: 41.0%) 이 가장 높으며 , 시장규모는  \n",
            "시스템반도체 (3,833.8 억 달러, 2025 년)가 가장 큰 것으로 분석됨\n",
            "￮4대 품목은 공통적으로 수요기반이 크고, 각국 정부가 중점적으로 육성을 지원하고 있어 시장이 지속 \n",
            "성장할 것으로 전망되나 , 원천기술 미확보 및 높은 해외 의존도가 약점으로 지적되어 국내 기업의 경쟁력  \n",
            "강화가 시급한 것으로 평가됨\n",
            "[혁신성장 ICT 주요 품목 시장전망 ]\n",
            "                                                            (단위: 억 달러, %)\n",
            "주요 기술분야\n",
            "(중분류 )주요 품목\n",
            "(소분류 )시장규모 전망시장 촉진·저해요인2020 년 2025년(E) CAGR(%)\n",
            "차세대\n"
          ]
        }
      ]
    },
    {
      "cell_type": "markdown",
      "source": [
        "#### RecursiveCharacterTextSplit"
      ],
      "metadata": {
        "id": "64czB_w0V1bp"
      }
    },
    {
      "cell_type": "markdown",
      "source": [
        "- `RecursiveCharacterTextSplit`은 재귀적으로 문서를 분할합니다. 먼저, `\"\\n\\n\"`(줄바꿈)을 기준으로 문서를 분할하고 이렇게 나눈 청크가 여전히 너무 클 경우에 `\"\\n\"`(문장 단위)을 기준으로 문서를 분할합니다. 그렇게 했을 때에도 청크가 충분히 작아지지 않았다면 문장을 단어 단위로 자르게 되지만, 그렇게까지 세부적인 분할은 자주 필요하지 않습니다.\n",
        "\n",
        "- 이런 식의 분할 방법은 문장들의 의미를 최대한 보존하는 형태로 분할할 수 있도록 만들고, 그렇기 때문에 다수의 청크를 LLM에 활용함에 있어서 맥락이 유지되도록 하기에 용이합니다."
      ],
      "metadata": {
        "id": "nqnOhQphcEp4"
      }
    },
    {
      "cell_type": "code",
      "source": [
        "from langchain.text_splitter import RecursiveCharacterTextSplitter\n",
        "text_splitter = RecursiveCharacterTextSplitter(\n",
        "    # Set a really small chunk size, just to show.\n",
        "    chunk_size = 1000,\n",
        "    chunk_overlap  = 200,\n",
        "    length_function = len,\n",
        ")"
      ],
      "metadata": {
        "id": "a1-a2i0AUkJ-"
      },
      "execution_count": null,
      "outputs": []
    },
    {
      "cell_type": "code",
      "source": [
        "texts = text_splitter.create_documents([state_of_the_union])\n",
        "print(texts[0].page_content)\n",
        "print(\"-\"*500)\n",
        "print(texts[1].page_content)"
      ],
      "metadata": {
        "colab": {
          "base_uri": "https://localhost:8080/"
        },
        "id": "hvPP_BBVV7Uf",
        "outputId": "2fc2bdb6-0653-4b4c-bacb-cf7f687ef441"
      },
      "execution_count": null,
      "outputs": [
        {
          "output_type": "stream",
          "name": "stdout",
          "text": [
            "Madame Speaker, Vice President Biden, members of Congress, distinguished guests, and fellow Americans:\n",
            "\n",
            "Our Constitution declares that from time to time, the president shall give to Congress information about the state of our union. For 220 years, our leaders have fulfilled this duty. They have done so during periods of prosperity and tranquility. And they have done so in the midst of war and depression; at moments of great strife and great struggle.\n",
            "--------------------------------------------------------------------------------------------------------------------------------------------------------------------------------------------------------------------------------------------------------------------------------------------------------------------------------------------------------------------------------------------------------------------------------------------------------------------------------------------------------------------\n",
            "It's tempting to look back on these moments and assume that our progress was inevitable, that America was always destined to succeed. But when the Union was turned back at Bull Run and the Allies first landed at Omaha Beach, victory was very much in doubt. When the market crashed on Black Tuesday and civil rights marchers were beaten on Bloody Sunday, the future was anything but certain. These were times that tested the courage of our convictions and the strength of our union. And despite all our divisions and disagreements, our hesitations and our fears, America prevailed because we chose to move forward as one nation and one people.\n",
            "\n",
            "Again, we are tested. And again, we must answer history's call.\n"
          ]
        }
      ]
    },
    {
      "cell_type": "code",
      "source": [
        "char_list = []\n",
        "for i in range(len(texts)):\n",
        "    char_list.append(len(texts[i].page_content))\n",
        "print(char_list)"
      ],
      "metadata": {
        "colab": {
          "base_uri": "https://localhost:8080/"
        },
        "id": "g1Hmttnjmw_Y",
        "outputId": "56e37678-0d23-4aab-842f-d6f2575a5f84"
      },
      "execution_count": null,
      "outputs": [
        {
          "output_type": "stream",
          "name": "stdout",
          "text": [
            "[454, 707, 930, 848, 896, 818, 846, 892, 813, 721, 730, 576, 841, 939, 980, 820, 936, 585, 529, 614, 493, 582, 746, 995, 365, 878, 483, 607, 740, 419, 902, 794, 714, 416, 894, 917, 934, 711, 548, 506, 784, 948, 619, 669, 510, 996, 216, 714, 527, 701, 597, 436, 750, 558, 992, 920, 786, 949]\n"
          ]
        }
      ]
    },
    {
      "cell_type": "markdown",
      "source": [
        "\n",
        "\n",
        "---\n",
        "\n",
        "\n",
        "\n",
        "---\n",
        "\n"
      ],
      "metadata": {
        "id": "DevHFFZue29S"
      }
    },
    {
      "cell_type": "code",
      "source": [
        "from langchain.document_loaders import PyPDFLoader\n",
        "\n",
        "loader = PyPDFLoader(\"/content/drive/MyDrive/강의 자료/[이슈리포트 2022-2호] 혁신성장 정책금융 동향.pdf\")\n",
        "pages = loader.load_and_split()"
      ],
      "metadata": {
        "id": "eWCoaIwud-y7"
      },
      "execution_count": null,
      "outputs": []
    },
    {
      "cell_type": "code",
      "source": [
        "print(pages[1].page_content)"
      ],
      "metadata": {
        "colab": {
          "base_uri": "https://localhost:8080/"
        },
        "id": "9XFJf_vRrm36",
        "outputId": "849d6aa7-e0fc-4e8a-8b1d-a89668a85303"
      },
      "execution_count": null,
      "outputs": [
        {
          "output_type": "stream",
          "name": "stdout",
          "text": [
            "| 2 | CIS이슈리포트 2022-2 호 ▶혁신성장 ICT 산업의 정책금융 공급규모 및 공급속도를 종합적으로 분석한 결과, 차세대무선통신미디어 , \n",
            "능동형컴퓨팅 (이상 정보통신 테마), 차세대반도체 (전기전자 테마) 및 객체탐지 (센서측정 테마) 기술분야로 \n",
            "혁신성장 정책금융이 집중되고 있음\n",
            "[ICT 산업 내 주요 기술분야 혁신성장 정책금융 공급 현황]\n",
            "                                                            (단위: 억 원, %)\n",
            "테마\n",
            "(대분류 )주요 기술분야\n",
            "(중분류 )정책금융 공급규모 연평균 공급액 \n",
            "증가율 (%)테마 내 공급 \n",
            "점유율 (%) 2017 년 말 2021 년 말\n",
            "정보통신차세대무선통신미디어 7,820 27,865 37.4 45.1\n",
            "능동형컴퓨팅 352 16,032 159.8 10.1\n",
            "전기전자 차세대반도체 12,019 53,779 45.4 58.5\n",
            "센서측정 객체탐지 1,278 6,711 51.4 48.5\n",
            "▶주요 기술분야별 세부 품목단위로는 5G 이동통신시스템 , 인공지능 (AI), 시스템반도체 및 스마트센서 에 \n",
            "정책금융 공급량이 높은 것으로 확인됨\n",
            "￮정부가 미래 먹거리산업으로 선정한 인공지능 (AI)의 미래성장율 (CAGR: 41.0%) 이 가장 높으며 , 시장규모는  \n",
            "시스템반도체 (3,833.8 억 달러, 2025 년)가 가장 큰 것으로 분석됨\n",
            "￮4대 품목은 공통적으로 수요기반이 크고, 각국 정부가 중점적으로 육성을 지원하고 있어 시장이 지속 \n",
            "성장할 것으로 전망되나 , 원천기술 미확보 및 높은 해외 의존도가 약점으로 지적되어 국내 기업의 경쟁력  \n",
            "강화가 시급한 것으로 평가됨\n",
            "[혁신성장 ICT 주요 품목 시장전망 ]\n",
            "                                                            (단위: 억 달러, %)\n",
            "주요 기술분야\n",
            "(중분류 )주요 품목\n",
            "(소분류 )시장규모 전망시장 촉진·저해요인2020 년 2025년(E) CAGR(%)\n",
            "차세대\n",
            "무선통신미디어5G이동통신\n",
            "시스템494.4 1,982.0 32.0Ÿ(촉진) 정부의 국제표준 확보 의지\n",
            "Ÿ(저해) 소재에 대한 높은 해외 의존도\n",
            "능동형컴퓨팅 인공지능 (AI) 398.4 2,223.7 41.0Ÿ(촉진) 정부의 미래먹거리 산업 선정\n",
            "Ÿ(저해) 국내 기술의 낮은 완성도\n",
            "차세대반도체 시스템반도체 2,723.6 3,833.8 7.1Ÿ(촉진) 반도체 강국 실현을 위한 정책\n",
            "Ÿ(저해) 글로벌 경쟁강도 심화\n",
            "객체탐지 스마트센서 366.5 875.8 19.0Ÿ(촉진) 스마트팜 등 연관 산업의 성장\n",
            "Ÿ(저해) 설계 기술의 높은 해외 의존도\n",
            "▶산업의 경쟁력 강화를 위해 혁신성장 유망산업 분야로의 금융지원을 지속적으로 추진해야 함\n",
            "￮빠른 산업변화를 반영한 혁신성장산업 기업발굴 가이드라인의 내실화 ·최신화에 노력을 기해야 함\n",
            "￮또한, 미래 성장성은 유망하나 단기 수익 창출이 어려운 산업의 지원 강화를 위해 정책금융 뿐만 아니라  \n",
            "민관주도의 역동적 금융으로 혁신성장 금융지원 영역을 확대할 필요가 있음\n"
          ]
        }
      ]
    },
    {
      "cell_type": "code",
      "source": [
        "texts = text_splitter.split_documents(pages)"
      ],
      "metadata": {
        "id": "K_9XdCYgV--X"
      },
      "execution_count": null,
      "outputs": []
    },
    {
      "cell_type": "code",
      "source": [
        "len(texts)"
      ],
      "metadata": {
        "colab": {
          "base_uri": "https://localhost:8080/"
        },
        "id": "Jg1yvImerIn-",
        "outputId": "7bce6f77-8c42-43e9-8298-8b46a6fe99fa"
      },
      "execution_count": null,
      "outputs": [
        {
          "output_type": "execute_result",
          "data": {
            "text/plain": [
              "31"
            ]
          },
          "metadata": {},
          "execution_count": 25
        }
      ]
    },
    {
      "cell_type": "code",
      "source": [
        "print(texts[1].page_content)"
      ],
      "metadata": {
        "colab": {
          "base_uri": "https://localhost:8080/"
        },
        "id": "_JcrjFYIoejU",
        "outputId": "e6f0fba2-8506-461a-82d9-651e5b85f745"
      },
      "execution_count": null,
      "outputs": [
        {
          "output_type": "stream",
          "name": "stdout",
          "text": [
            "| 2 | CIS이슈리포트 2022-2 호 ▶혁신성장 ICT 산업의 정책금융 공급규모 및 공급속도를 종합적으로 분석한 결과, 차세대무선통신미디어 , \n",
            "능동형컴퓨팅 (이상 정보통신 테마), 차세대반도체 (전기전자 테마) 및 객체탐지 (센서측정 테마) 기술분야로 \n",
            "혁신성장 정책금융이 집중되고 있음\n",
            "[ICT 산업 내 주요 기술분야 혁신성장 정책금융 공급 현황]\n",
            "                                                            (단위: 억 원, %)\n",
            "테마\n",
            "(대분류 )주요 기술분야\n",
            "(중분류 )정책금융 공급규모 연평균 공급액 \n",
            "증가율 (%)테마 내 공급 \n",
            "점유율 (%) 2017 년 말 2021 년 말\n",
            "정보통신차세대무선통신미디어 7,820 27,865 37.4 45.1\n",
            "능동형컴퓨팅 352 16,032 159.8 10.1\n",
            "전기전자 차세대반도체 12,019 53,779 45.4 58.5\n",
            "센서측정 객체탐지 1,278 6,711 51.4 48.5\n",
            "▶주요 기술분야별 세부 품목단위로는 5G 이동통신시스템 , 인공지능 (AI), 시스템반도체 및 스마트센서 에 \n",
            "정책금융 공급량이 높은 것으로 확인됨\n",
            "￮정부가 미래 먹거리산업으로 선정한 인공지능 (AI)의 미래성장율 (CAGR: 41.0%) 이 가장 높으며 , 시장규모는  \n",
            "시스템반도체 (3,833.8 억 달러, 2025 년)가 가장 큰 것으로 분석됨\n",
            "￮4대 품목은 공통적으로 수요기반이 크고, 각국 정부가 중점적으로 육성을 지원하고 있어 시장이 지속 \n",
            "성장할 것으로 전망되나 , 원천기술 미확보 및 높은 해외 의존도가 약점으로 지적되어 국내 기업의 경쟁력  \n",
            "강화가 시급한 것으로 평가됨\n",
            "[혁신성장 ICT 주요 품목 시장전망 ]\n",
            "                                                            (단위: 억 달러, %)\n",
            "주요 기술분야\n",
            "(중분류 )주요 품목\n",
            "(소분류 )시장규모 전망시장 촉진·저해요인2020 년 2025년(E) CAGR(%)\n",
            "차세대\n"
          ]
        }
      ]
    },
    {
      "cell_type": "markdown",
      "source": [
        "#### 기타 Splitter"
      ],
      "metadata": {
        "id": "yPRmiZX5fCd5"
      }
    },
    {
      "cell_type": "markdown",
      "source": [
        "일반적인 글로 된 문서는 모두 `textsplitter로` 분할할 수 있으며, 대부분의 경우가 커버됩니다. 그러나 코드, latex 등과 같이 컴퓨터 언어로 작성되는 문서의 경우 `textsplitter로` 처리할 수 없으며 해당 언어를 위해 특별하게 구분하는 splitter가 필요합니다.\n",
        "\n",
        "예를 들어 Python 문서를 split하기 위해서는 `def`, `class와` 같이 하나의 단위로 묶이는 것을 기준으로 문서를 분할할 필요가 있습니다. 이러한 원리로 Latex, HTML, Code 등 다양한 문서도 분할할 수 있습니다."
      ],
      "metadata": {
        "id": "kDK9F7frfFrT"
      }
    },
    {
      "cell_type": "code",
      "source": [
        "from langchain.text_splitter import (\n",
        "    RecursiveCharacterTextSplitter,\n",
        "    Language\n",
        ")"
      ],
      "metadata": {
        "id": "FCrbkuGKfyIZ"
      },
      "execution_count": null,
      "outputs": []
    },
    {
      "cell_type": "code",
      "source": [
        "RecursiveCharacterTextSplitter.get_separators_for_language(Language.PYTHON)"
      ],
      "metadata": {
        "id": "gYkNfATcfzCo",
        "colab": {
          "base_uri": "https://localhost:8080/"
        },
        "outputId": "b0fee9dc-418c-4d21-8379-f112b10aefad"
      },
      "execution_count": null,
      "outputs": [
        {
          "output_type": "execute_result",
          "data": {
            "text/plain": [
              "['\\nclass ', '\\ndef ', '\\n\\tdef ', '\\n\\n', '\\n', ' ', '']"
            ]
          },
          "metadata": {},
          "execution_count": 28
        }
      ]
    },
    {
      "cell_type": "code",
      "source": [
        "PYTHON_CODE = \"\"\"\n",
        "def hello_world():\n",
        "    print(\"Hello, World!\")\n",
        "\n",
        "# Call the function\n",
        "hello_world()\n",
        "\"\"\"\n",
        "python_splitter = RecursiveCharacterTextSplitter.from_language(\n",
        "    language=Language.PYTHON, chunk_size=50, chunk_overlap=0\n",
        ")\n",
        "python_docs = python_splitter.create_documents([PYTHON_CODE])\n",
        "python_docs"
      ],
      "metadata": {
        "id": "Y4GZi4V1fFHd",
        "colab": {
          "base_uri": "https://localhost:8080/"
        },
        "outputId": "7e7c8d6e-e13b-46de-ce5b-a34361fcc62d"
      },
      "execution_count": null,
      "outputs": [
        {
          "output_type": "execute_result",
          "data": {
            "text/plain": [
              "[Document(page_content='def hello_world():'),\n",
              " Document(page_content='print(\"Hello, World!\")def hello_world():'),\n",
              " Document(page_content='print(\"Hello, World!\")'),\n",
              " Document(page_content='# Call the function\\nhello_world()')]"
            ]
          },
          "metadata": {},
          "execution_count": 30
        }
      ]
    },
    {
      "cell_type": "markdown",
      "source": [
        "#### 토큰 단위 텍스트 분할기"
      ],
      "metadata": {
        "id": "6hZE_RxBixw_"
      }
    },
    {
      "cell_type": "markdown",
      "source": [
        "텍스트 분할의 목적은 LLM이 소화할 수 있을 정도의 텍스트만 호출하도록 만드는 것입니다. 따라서 LLM이 소화할 수 있는 양으로 청크를 제한하는 것은 LLM 앱을 개발할 때 필수적인 과정입니다.\n",
        "\n",
        "LLM은 텍스트를 받아들일 때, 정해진 토큰 이상으로 소화할 수 없게 설계되어 있습니다. 따라서 글을 토큰 단위로 분할한다면 최대한 많은 글을 포함하도록 청크를 분할할 수 있습니다.\n",
        "\n",
        "토큰이라는 것은, 텍스트와 달리 Transformer에서 처리하는 방식에 따라서 그 수가 달라질 수 있습니다. 따라서, LLM 앱을 개발하고자 한다면 앱에 얹힐 LLM의 토큰 제한을 파악하고, 해당 LLM이 사용하는 Embedder를 기반으로 토큰 수를 계산해야 합니다. 예를 들어, OpenAI의 GPT 모델은 tiktoken이라는 토크나이저를 기반으로 텍스트를 토큰화합니다. 따라서 tiktoken encoder를 기반으로 텍스트를 토큰화하고, 토큰 수를 기준으로 텍스트를 분할하는 것이 프로덕트 개발의 필수 요소라고 할 수 있습니다."
      ],
      "metadata": {
        "id": "60An6ZtLi1Q_"
      }
    },
    {
      "cell_type": "code",
      "source": [
        "!pip install tiktoken"
      ],
      "metadata": {
        "id": "D3wtnf8ogOVw"
      },
      "execution_count": null,
      "outputs": []
    },
    {
      "cell_type": "code",
      "source": [
        "import tiktoken\n",
        "tokenizer = tiktoken.get_encoding(\"cl100k_base\")\n",
        "\n",
        "def tiktoken_len(text):\n",
        "    tokens = tokenizer.encode(text)\n",
        "    return len(tokens)"
      ],
      "metadata": {
        "id": "4l3GHYYhE_ln"
      },
      "execution_count": null,
      "outputs": []
    },
    {
      "cell_type": "code",
      "source": [
        "tiktoken_len(texts[1].page_content)"
      ],
      "metadata": {
        "id": "HNMUzipbFiQY",
        "colab": {
          "base_uri": "https://localhost:8080/"
        },
        "outputId": "43210398-0efd-4629-8771-c64901ca58e1"
      },
      "execution_count": null,
      "outputs": [
        {
          "output_type": "execute_result",
          "data": {
            "text/plain": [
              "325"
            ]
          },
          "metadata": {},
          "execution_count": 66
        }
      ]
    },
    {
      "cell_type": "code",
      "source": [
        "text_splitter = RecursiveCharacterTextSplitter(\n",
        "    chunk_size=500, chunk_overlap=0, length_function = len\n",
        ")\n",
        "texts = text_splitter.split_documents(pages)"
      ],
      "metadata": {
        "id": "QWCw_qrDfwEv",
        "colab": {
          "base_uri": "https://localhost:8080/",
          "height": 230
        },
        "outputId": "553bfb0d-378b-436a-bee5-cd89a040e59b"
      },
      "execution_count": null,
      "outputs": [
        {
          "output_type": "error",
          "ename": "NameError",
          "evalue": "ignored",
          "traceback": [
            "\u001b[0;31m---------------------------------------------------------------------------\u001b[0m",
            "\u001b[0;31mNameError\u001b[0m                                 Traceback (most recent call last)",
            "\u001b[0;32m<ipython-input-3-b3e87c57ecee>\u001b[0m in \u001b[0;36m<cell line: 1>\u001b[0;34m()\u001b[0m\n\u001b[0;32m----> 1\u001b[0;31m text_splitter = RecursiveCharacterTextSplitter(\n\u001b[0m\u001b[1;32m      2\u001b[0m     \u001b[0mchunk_size\u001b[0m\u001b[0;34m=\u001b[0m\u001b[0;36m500\u001b[0m\u001b[0;34m,\u001b[0m \u001b[0mchunk_overlap\u001b[0m\u001b[0;34m=\u001b[0m\u001b[0;36m0\u001b[0m\u001b[0;34m,\u001b[0m \u001b[0mlength_function\u001b[0m \u001b[0;34m=\u001b[0m \u001b[0mlen\u001b[0m\u001b[0;34m\u001b[0m\u001b[0;34m\u001b[0m\u001b[0m\n\u001b[1;32m      3\u001b[0m )\n\u001b[1;32m      4\u001b[0m \u001b[0mtexts\u001b[0m \u001b[0;34m=\u001b[0m \u001b[0mtext_splitter\u001b[0m\u001b[0;34m.\u001b[0m\u001b[0msplit_documents\u001b[0m\u001b[0;34m(\u001b[0m\u001b[0mpages\u001b[0m\u001b[0;34m)\u001b[0m\u001b[0;34m\u001b[0m\u001b[0;34m\u001b[0m\u001b[0m\n",
            "\u001b[0;31mNameError\u001b[0m: name 'RecursiveCharacterTextSplitter' is not defined"
          ]
        }
      ]
    },
    {
      "cell_type": "code",
      "source": [
        "print(len(texts[1].page_content))\n",
        "print(tiktoken_len(texts[1].page_content))"
      ],
      "metadata": {
        "id": "oxJmnrlJsKon",
        "colab": {
          "base_uri": "https://localhost:8080/"
        },
        "outputId": "7ec49f68-aeb4-4cd8-8ed9-4b72e51933a1"
      },
      "execution_count": null,
      "outputs": [
        {
          "output_type": "stream",
          "name": "stdout",
          "text": [
            "1068\n",
            "960\n"
          ]
        }
      ]
    },
    {
      "cell_type": "code",
      "source": [
        "token_list = []\n",
        "for i in range(len(texts)):\n",
        "    token_list.append(tiktoken_len(texts[i].page_content))\n",
        "print(token_list)"
      ],
      "metadata": {
        "colab": {
          "base_uri": "https://localhost:8080/"
        },
        "id": "GaoSeeYpn93R",
        "outputId": "08c7fa7f-3e90-4da8-e4eb-7e4731b8b2dc"
      },
      "execution_count": null,
      "outputs": [
        {
          "output_type": "stream",
          "name": "stdout",
          "text": [
            "[813, 960, 471, 948, 267, 952, 229, 585, 591, 969, 441, 576, 953, 267, 963, 177, 961, 72, 528, 978, 165, 959, 91, 919, 253, 858, 887, 973, 124]\n"
          ]
        }
      ]
    },
    {
      "cell_type": "markdown",
      "source": [
        "### Text Embedding"
      ],
      "metadata": {
        "id": "OoXZSL4Knes3"
      }
    },
    {
      "cell_type": "code",
      "source": [
        "pip install openai langchain pypdf tiktoken"
      ],
      "metadata": {
        "id": "MAlcB8_qP454"
      },
      "execution_count": null,
      "outputs": []
    },
    {
      "cell_type": "markdown",
      "source": [
        "##### OpenAIEmbeddings - ada-002"
      ],
      "metadata": {
        "id": "dpxwFf9jpcVJ"
      }
    },
    {
      "cell_type": "code",
      "source": [
        "from langchain.embeddings import OpenAIEmbeddings"
      ],
      "metadata": {
        "id": "ZFppIGfNirTx"
      },
      "execution_count": null,
      "outputs": []
    },
    {
      "cell_type": "code",
      "source": [
        "from langchain.embeddings import OpenAIEmbeddings\n",
        "\n",
        "embeddings_model = OpenAIEmbeddings(openai_api_key=\"YOUR_API_KEY\")"
      ],
      "metadata": {
        "id": "iRb53Apqnicr"
      },
      "execution_count": null,
      "outputs": []
    },
    {
      "cell_type": "code",
      "source": [
        "embeddings = embeddings_model.embed_documents(\n",
        "    [\n",
        "        \"안녕하세요\",\n",
        "        \"제 이름은 홍길동입니다.\",\n",
        "        \"이름이 무엇인가요?\",\n",
        "        \"랭체인은 유용합니다.\",\n",
        "        \"Hello World!\"\n",
        "    ]\n",
        ")\n",
        "len(embeddings), len(embeddings[0])"
      ],
      "metadata": {
        "id": "j2PunrqOpwc2",
        "colab": {
          "base_uri": "https://localhost:8080/"
        },
        "outputId": "9a9a630c-ca84-439d-a89b-616409c3723b"
      },
      "execution_count": null,
      "outputs": [
        {
          "output_type": "execute_result",
          "data": {
            "text/plain": [
              "(5, 1536)"
            ]
          },
          "metadata": {},
          "execution_count": 6
        }
      ]
    },
    {
      "cell_type": "code",
      "source": [
        "embedded_query_q = embeddings_model.embed_query(\"이 대화에서 언급된 이름은 무엇입니까?\")\n",
        "embedded_query_a = embeddings_model.embed_query(\"이 대화에서 언급된 이름은 홍길동입니다.\")\n",
        "print(len(embedded_query_q), len(embedded_query_a))"
      ],
      "metadata": {
        "id": "3xpi-YMCp0FJ",
        "colab": {
          "base_uri": "https://localhost:8080/"
        },
        "outputId": "1c8520fc-780d-4816-cd23-a56c428936d8"
      },
      "execution_count": null,
      "outputs": [
        {
          "output_type": "stream",
          "name": "stdout",
          "text": [
            "1536 1536\n"
          ]
        }
      ]
    },
    {
      "cell_type": "code",
      "source": [
        "from numpy import dot\n",
        "from numpy.linalg import norm\n",
        "import numpy as np\n",
        "\n",
        "def cos_sim(A, B):\n",
        "       return dot(A, B)/(norm(A)*norm(B))"
      ],
      "metadata": {
        "id": "HDCQY7-Kp63V"
      },
      "execution_count": null,
      "outputs": []
    },
    {
      "cell_type": "code",
      "source": [
        "print(cos_sim(embedded_query_q, embedded_query_a))\n",
        "print(cos_sim(embedded_query_q, embeddings[1]))\n",
        "print(cos_sim(embedded_query_q, embeddings[3]))"
      ],
      "metadata": {
        "id": "EhkC8YF_qsJv",
        "colab": {
          "base_uri": "https://localhost:8080/"
        },
        "outputId": "32b76bdf-f43c-49f6-ec6f-d5670d7026bf"
      },
      "execution_count": null,
      "outputs": [
        {
          "output_type": "stream",
          "name": "stdout",
          "text": [
            "0.9018785967795147\n",
            "0.8503907115290837\n",
            "0.7762045326835891\n"
          ]
        }
      ]
    },
    {
      "cell_type": "markdown",
      "source": [
        "##### Huggingface Embedding"
      ],
      "metadata": {
        "id": "Oe77qJD-rM2X"
      }
    },
    {
      "cell_type": "code",
      "source": [
        "!pip install sentence_transformers"
      ],
      "metadata": {
        "id": "644tgMAdrt_B"
      },
      "execution_count": null,
      "outputs": []
    },
    {
      "cell_type": "code",
      "source": [
        "from langchain.embeddings import HuggingFaceBgeEmbeddings\n",
        "\n",
        "model_name = \"BAAI/bge-small-en\"\n",
        "model_kwargs = {'device': 'cpu'}\n",
        "encode_kwargs = {'normalize_embeddings': True}\n",
        "hf = HuggingFaceBgeEmbeddings(\n",
        "    model_name=model_name,\n",
        "    model_kwargs=model_kwargs,\n",
        "    encode_kwargs=encode_kwargs\n",
        ")"
      ],
      "metadata": {
        "id": "37vZNsG4rTKF",
        "colab": {
          "base_uri": "https://localhost:8080/",
          "height": 433,
          "referenced_widgets": [
            "b6d6557d32d74200b829656861475503",
            "1742856ee2d041d49c8d0a353f17a51e",
            "47793479b02e41ddb438a527ad068147",
            "fdedd453eff6426993814d54dbe2515b",
            "26db4241c0884af0a49751529cf858c0",
            "b7559b84b1db48ac956b4a1993da5127",
            "5a4ec3c11f744ab59c3a3f9a86c20252",
            "89c827ae31c0498aa5c9eb6f3de35686",
            "1705559eb4b04acc9837fd17677485e1",
            "aef557b79f884e92b86d596248ac3cac",
            "5987bc297d6f45f1b89696189769efc1",
            "6fba68ceedf041239adc3d5b05cbee73",
            "b5fab33e4fbe4d8c822ff7b86644c466",
            "f92b79a48082437d898f6d839f9f83d5",
            "05e2a39add8b47db8a726b0a2a60771e",
            "3a34dde27dae43dfbcdfae8d22b25b70",
            "0ca48e86eb8943b9a801e224a3e403c1",
            "ce3610b1d44645f2b7a20b46079c09e0",
            "d9fdc29813474016b2ab68eda8d63a67",
            "0518e04eb2794cdfb8add83df2dafc13",
            "14b340cb4e8d4810a870d3a03fa134e4",
            "5553cb3537b0400dbca1a65228d31906",
            "b3984c2ef85043a989c33cbc4898e63c",
            "405eaf0b0a7b44e9a6c9a679ce24c203",
            "17ec0ef619ec4de8a21b8bd160a99a10",
            "08f8b502505d4a22bd3e7a18f989714a",
            "164f455d6eca4ee9bb30b20149a9def5",
            "f45dcc81c1ea4b23919005a0ebe7e0a1",
            "e8da40b874ec404991d5017bb8443e4c",
            "18be6e6198a34b05ac25770658eab2bd",
            "38b96615d80f44e1b431a50c3425f8cf",
            "efa63d34ce6b496da3cce220020b0953",
            "3e7db76a38094b6c8ae7f9c468d56117",
            "cf3acaaee787428ca5b12e644d217cca",
            "75185c860e3b491c801e80e4214175da",
            "9b3bbf3513904976b28750cfa7494865",
            "2a1f2960fcfd483da950395a82c0f61f",
            "8702832964684c7186967e71d1090667",
            "2022c837f8044e158f6912a4f986f7df",
            "d469f8344f1f47a283442e72486956de",
            "baf0f46cfdbb4052b6a38ad741113a28",
            "287f01aa285a46688deced66596cfa25",
            "2f5c1bc931c94048a4d71d1fe7c6d49c",
            "6fd526cea9f84e999380a0a8ced0a9a9",
            "2270159e97764e03bb8f2a270f9dbc92",
            "a4abb60f758f4453bdd08441de3b4be9",
            "4eea6e9b3c9742328dbf61404247ae68",
            "8a236d1c67da4af188dc3451deaf6912",
            "e47733f34dce4174b68756bf193658e3",
            "0ff1088c5cc74472845f8aaee24b1bf0",
            "bafc1ca38c214f3d9f2f1afe73c41fcb",
            "7b61414cd55e4a8b92d8986795a76d86",
            "87d36151ca6248f6b1feeaaa326e9867",
            "d8b56be0b95f46eab7857572a1d25120",
            "398a2d89511b4ae0af972f4fd123656d",
            "716f227cade64562a28281a0eb9a0dfc",
            "68c00fa7c7634c17bdcb297c931d623d",
            "c4fcb92fe0324632a16db2ebce2830ad",
            "6d1b9d7493474f1696ecc356f4da9e66",
            "82c0b09cdc8c4b4a8beafe9c58d7decd",
            "d3008e702e2e4ec9a64abd59c7c2ee37",
            "b0ee02ae89dc4b7684e983046e2d1ef4",
            "ceb60a7999d14701a657fdfdfd5045e2",
            "9ec8190380d54f85abb004484ac14da7",
            "9e7218a486b948028e1970023cc85b12",
            "af85a0df2d374b84882fabd16743e603",
            "185979d5dbdc47dc8f85ace13346664f",
            "15dcdbd6be9f4dc985fd508ecfe4511f",
            "ec873c7d68f442e9b85afadc411c1fdc",
            "50e9cdb31da44fa792316611ac1430a8",
            "8a031096d7c9463fb05f968d932c2a16",
            "0608b4c7a25840e2b44f3c7594f83cd5",
            "390752bf830842cf8f7b653a377bf4e2",
            "11e4ee5b5e3d4c97bb27f9c9bd03457b",
            "e3b756a6111f4334925af9040351fc35",
            "c1724990d7244afb8f8f75c33abde703",
            "95de66016bad4d2da9124caa31fb6035",
            "6738c5eb211140c1822b65037860da10",
            "cadd9d6988464586a11a8c6dac8f49d7",
            "6e7c2cadfa994eb18e1a5962f9a45806",
            "0353a48817214c6fb31d7a07d124861c",
            "036a265b804d4c0c86657a8775cbc2e0",
            "f232b3cf41ec4827801c49f95b7b1379",
            "16f80487a8e94d6f8116d1151b06e158",
            "5bf8f25fed104ab3a9581ebe6d29b818",
            "bec45eefc8534ef88b0edc8f9cb7a7a0",
            "0e3526846ab54a568039306f0844345d",
            "2bba9644c88e481089d8c5e738120e27",
            "a9d9d02861244821bbd03372f19ee61b",
            "2a53d83bd4994b4e94ced80563f5aeae",
            "1e2bedfa100e4f63b2a65341a84aa8fd",
            "953df955592d4a9c8cdb70463d63e608",
            "168dd8bb63994e24bf008228196ad908",
            "c9ec18d042ea445787935da318c4d068",
            "183206de0ba147f180fc9d55eb4572bd",
            "663bcd743cc84121b56084bc7b9200e3",
            "956f4068d0ab4731a33a798554c3de1f",
            "b0d72c587e0f49f7993562846a63e2f5",
            "bd401416829d460aa4e1a060a5f3938f",
            "5135666eb11a430abe72793c5ed4aec6",
            "224088f531eb4dff8dd1680038414fac",
            "b0c337c8580a42b3bd29e4aa4408e1c4",
            "8574bb73772e490a9a29ba72d08371d8",
            "84ffb9a21389446dafc13eb1f185f3c6",
            "07ffa8df15774505acb76a6affcaa9c1",
            "99ce9085d6f240dcb02892f34b936fec",
            "0dbd55b92a7e4825857c0ec0ddc9d4db",
            "471ffadcc36246c8aada88621fc5d37b",
            "10f992e8b962402ba7c338f0960649fb",
            "c81b79fa56ab4ae48630c92f6a9822fc",
            "cc86e35117d7428eb74bdbb4900f5b82",
            "4c7739b588da455fae1fe36bfddfbab9",
            "9d017c755923447c8ed4047ba9bfa752",
            "e1a0daee0ccc484ba44f6f251001611a",
            "e22d2094ebb84baab3f12abdb285e47c",
            "79f799d8e5b540eab90658662ee1a091",
            "abc17dfa17074b9ea4b6cd21d76c4436",
            "0b3c1e995fcc49ff8a48f1046e8d1544",
            "1093d2cf2b734e93a5efa66fe661ba65",
            "df3153b068404110ba6ebdd5467e9ba8",
            "bcab1266f67c4dcdafa8b0668ce678c3",
            "78e6c40f1ec8472ca5a4bf33cdc46593",
            "b3092a0193aa46b390a88ff9e95c8a0f",
            "36c923fca4c842ddb1c19252e6f78497",
            "9d5402c199884447a63d45dff07c9a99",
            "5535bb92a7cb45ff892679f07098d3b8",
            "f6ca458c29dc4b1089c656613d337b5b",
            "94526fa714e7408fbf884460c33a6a83",
            "4873d50cccdf4edb97903006f49a8cc1",
            "779c9fd27b89405eac629d2163646fd4",
            "67033a15759f4250b743c36bc2e8f375",
            "1948ce3f6d9543a5be5c8f0476a7578b",
            "216640be2fa44c259dca737dbfe2b831",
            "95fe1066c9f247e7883d84c5393d50e0",
            "08f9454c84aa413caa4b786d04bb63f6",
            "b4d7f502b67a496988b7a05f32017246",
            "944ffed11e92495f8e74dfc59fb984de",
            "7a9251db01324285a3af7fdac63e6a28",
            "9ab86b600b5644c1b9796b50b6086bd7",
            "e48879a5e1db4bf386aea806d04085c9",
            "289080b20a5a4b8abc1e2a17842b3535",
            "f7f644642a124b07b3db42c4dd1dc52e",
            "33a76dd52bbf462496542647fc7c5844"
          ]
        },
        "outputId": "baddd035-9457-40ac-e330-381b8ba73d4d"
      },
      "execution_count": null,
      "outputs": [
        {
          "output_type": "display_data",
          "data": {
            "text/plain": [
              "Downloading (…)421f3/.gitattributes:   0%|          | 0.00/1.52k [00:00<?, ?B/s]"
            ],
            "application/vnd.jupyter.widget-view+json": {
              "version_major": 2,
              "version_minor": 0,
              "model_id": "b6d6557d32d74200b829656861475503"
            }
          },
          "metadata": {}
        },
        {
          "output_type": "display_data",
          "data": {
            "text/plain": [
              "Downloading (…)_Pooling/config.json:   0%|          | 0.00/190 [00:00<?, ?B/s]"
            ],
            "application/vnd.jupyter.widget-view+json": {
              "version_major": 2,
              "version_minor": 0,
              "model_id": "6fba68ceedf041239adc3d5b05cbee73"
            }
          },
          "metadata": {}
        },
        {
          "output_type": "display_data",
          "data": {
            "text/plain": [
              "Downloading (…)93c10421f3/README.md:   0%|          | 0.00/90.2k [00:00<?, ?B/s]"
            ],
            "application/vnd.jupyter.widget-view+json": {
              "version_major": 2,
              "version_minor": 0,
              "model_id": "b3984c2ef85043a989c33cbc4898e63c"
            }
          },
          "metadata": {}
        },
        {
          "output_type": "display_data",
          "data": {
            "text/plain": [
              "Downloading (…)c10421f3/config.json:   0%|          | 0.00/684 [00:00<?, ?B/s]"
            ],
            "application/vnd.jupyter.widget-view+json": {
              "version_major": 2,
              "version_minor": 0,
              "model_id": "cf3acaaee787428ca5b12e644d217cca"
            }
          },
          "metadata": {}
        },
        {
          "output_type": "display_data",
          "data": {
            "text/plain": [
              "Downloading (…)ce_transformers.json:   0%|          | 0.00/124 [00:00<?, ?B/s]"
            ],
            "application/vnd.jupyter.widget-view+json": {
              "version_major": 2,
              "version_minor": 0,
              "model_id": "2270159e97764e03bb8f2a270f9dbc92"
            }
          },
          "metadata": {}
        },
        {
          "output_type": "display_data",
          "data": {
            "text/plain": [
              "Downloading model.safetensors:   0%|          | 0.00/133M [00:00<?, ?B/s]"
            ],
            "application/vnd.jupyter.widget-view+json": {
              "version_major": 2,
              "version_minor": 0,
              "model_id": "716f227cade64562a28281a0eb9a0dfc"
            }
          },
          "metadata": {}
        },
        {
          "output_type": "display_data",
          "data": {
            "text/plain": [
              "Downloading pytorch_model.bin:   0%|          | 0.00/134M [00:00<?, ?B/s]"
            ],
            "application/vnd.jupyter.widget-view+json": {
              "version_major": 2,
              "version_minor": 0,
              "model_id": "185979d5dbdc47dc8f85ace13346664f"
            }
          },
          "metadata": {}
        },
        {
          "output_type": "display_data",
          "data": {
            "text/plain": [
              "Downloading (…)nce_bert_config.json:   0%|          | 0.00/52.0 [00:00<?, ?B/s]"
            ],
            "application/vnd.jupyter.widget-view+json": {
              "version_major": 2,
              "version_minor": 0,
              "model_id": "6738c5eb211140c1822b65037860da10"
            }
          },
          "metadata": {}
        },
        {
          "output_type": "display_data",
          "data": {
            "text/plain": [
              "Downloading (…)cial_tokens_map.json:   0%|          | 0.00/125 [00:00<?, ?B/s]"
            ],
            "application/vnd.jupyter.widget-view+json": {
              "version_major": 2,
              "version_minor": 0,
              "model_id": "a9d9d02861244821bbd03372f19ee61b"
            }
          },
          "metadata": {}
        },
        {
          "output_type": "display_data",
          "data": {
            "text/plain": [
              "Downloading (…)421f3/tokenizer.json:   0%|          | 0.00/711k [00:00<?, ?B/s]"
            ],
            "application/vnd.jupyter.widget-view+json": {
              "version_major": 2,
              "version_minor": 0,
              "model_id": "5135666eb11a430abe72793c5ed4aec6"
            }
          },
          "metadata": {}
        },
        {
          "output_type": "display_data",
          "data": {
            "text/plain": [
              "Downloading (…)okenizer_config.json:   0%|          | 0.00/366 [00:00<?, ?B/s]"
            ],
            "application/vnd.jupyter.widget-view+json": {
              "version_major": 2,
              "version_minor": 0,
              "model_id": "cc86e35117d7428eb74bdbb4900f5b82"
            }
          },
          "metadata": {}
        },
        {
          "output_type": "display_data",
          "data": {
            "text/plain": [
              "Downloading (…)93c10421f3/vocab.txt:   0%|          | 0.00/232k [00:00<?, ?B/s]"
            ],
            "application/vnd.jupyter.widget-view+json": {
              "version_major": 2,
              "version_minor": 0,
              "model_id": "78e6c40f1ec8472ca5a4bf33cdc46593"
            }
          },
          "metadata": {}
        },
        {
          "output_type": "display_data",
          "data": {
            "text/plain": [
              "Downloading (…)10421f3/modules.json:   0%|          | 0.00/349 [00:00<?, ?B/s]"
            ],
            "application/vnd.jupyter.widget-view+json": {
              "version_major": 2,
              "version_minor": 0,
              "model_id": "216640be2fa44c259dca737dbfe2b831"
            }
          },
          "metadata": {}
        }
      ]
    },
    {
      "cell_type": "code",
      "source": [
        "embeddings = hf.embed_documents(\n",
        "    [\n",
        "    \"today is monday\",\n",
        "    \"weather is nice today\",\n",
        "    \"what's the problem?\",\n",
        "    \"langhcain in useful\",\n",
        "    \"Hello World!\",\n",
        "    \"my name is morris\"\n",
        "    ]\n",
        ")"
      ],
      "metadata": {
        "id": "rJmJtYGiWMXy"
      },
      "execution_count": null,
      "outputs": []
    },
    {
      "cell_type": "code",
      "source": [
        "BGE_query_q = hf.embed_query(\"Hello? who is this?\")\n",
        "BGE_query_a = hf.embed_query(\"hi this is harrison\")\n",
        "\n",
        "print(cos_sim(BGE_query_q, BGE_query_a))\n",
        "print(cos_sim(BGE_query_q, embeddings[1]))\n",
        "print(cos_sim(BGE_query_q, embeddings[5]))"
      ],
      "metadata": {
        "id": "8N4YBCzrrVKx",
        "colab": {
          "base_uri": "https://localhost:8080/"
        },
        "outputId": "4eae9614-1a3d-4a6c-a88c-1dae7e614cfb"
      },
      "execution_count": null,
      "outputs": [
        {
          "output_type": "stream",
          "name": "stdout",
          "text": [
            "0.8522539613254043\n",
            "0.7469068110765112\n",
            "0.792870391403288\n"
          ]
        }
      ]
    },
    {
      "cell_type": "code",
      "source": [
        "sentences = [\n",
        "    \"안녕하세요\",\n",
        "    \"제 이름은 홍길동입니다.\",\n",
        "    \"이름이 무엇인가요?\",\n",
        "    \"랭체인은 유용합니다.\",\n",
        "    \"홍길동 아버지의 이름은 홍상직입니다.\"\n",
        "    ]\n",
        "ko_embeddings = hf.embed_documents(sentences)"
      ],
      "metadata": {
        "id": "SxCcZbXOabSS"
      },
      "execution_count": null,
      "outputs": []
    },
    {
      "cell_type": "code",
      "source": [
        "BGE_query_q_2 = hf.embed_query(\"홍길동은 아버지를 아버지라 부르지 못하였습니다. 홍길동 아버지의 이름은 무엇입니까?\")\n",
        "BGE_query_a_2 = hf.embed_query(\"홍길동의 아버지는 엄했습니다.\")\n",
        "\n",
        "\n",
        "print(\"질문: 홍길동은 아버지를 아버지라 부르지 못하였습니다. 홍길동 아버지의 이름은 무엇입니까? \\n\", \"-\"*100)\n",
        "print(\"홍길동의 아버지는 엄했습니다. \\t\\t 문장 유사도: \", round(cos_sim(BGE_query_q_2, BGE_query_a_2),2))\n",
        "print(sentences[1] + \"\\t\\t\\t 문장 유사도: \", round(cos_sim(BGE_query_q_2, ko_embeddings[1]),2))\n",
        "print(sentences[3] + \"\\t\\t\\t 문장 유사도: \", round(cos_sim(BGE_query_q_2, ko_embeddings[3]),2))\n",
        "print(sentences[4] + \"\\t 문장 유사도: \", round(cos_sim(BGE_query_q_2, ko_embeddings[4]),2))"
      ],
      "metadata": {
        "id": "UJ0lSgonZbXl",
        "colab": {
          "base_uri": "https://localhost:8080/"
        },
        "outputId": "815f71dc-e831-4b71-d72c-749c4ffd280d"
      },
      "execution_count": null,
      "outputs": [
        {
          "output_type": "stream",
          "name": "stdout",
          "text": [
            "질문: 홍길동은 아버지를 아버지라 부르지 못하였습니다. 홍길동 아버지의 이름은 무엇입니까? \n",
            " ----------------------------------------------------------------------------------------------------\n",
            "홍길동의 아버지는 엄했습니다. \t\t 문장 유사도:  0.95\n",
            "제 이름은 홍길동입니다.\t\t\t 문장 유사도:  0.88\n",
            "랭체인은 유용합니다.\t\t\t 문장 유사도:  0.85\n",
            "홍길동 아버지의 이름은 홍상직입니다.\t 문장 유사도:  0.92\n"
          ]
        }
      ]
    },
    {
      "cell_type": "markdown",
      "source": [
        "##### 한국어 사전학습 모델 임베딩 - ko-sbert-nli"
      ],
      "metadata": {
        "id": "sXgdB9lIWxCs"
      }
    },
    {
      "cell_type": "code",
      "source": [
        "from langchain.embeddings import HuggingFaceEmbeddings\n",
        "\n",
        "model_name = \"jhgan/ko-sbert-nli\"\n",
        "model_kwargs = {'device': 'cpu'}\n",
        "encode_kwargs = {'normalize_embeddings': True}\n",
        "ko = HuggingFaceEmbeddings(\n",
        "    model_name=model_name,\n",
        "    model_kwargs=model_kwargs,\n",
        "    encode_kwargs=encode_kwargs\n",
        ")"
      ],
      "metadata": {
        "id": "eYCMFVLlW81q"
      },
      "execution_count": null,
      "outputs": []
    },
    {
      "cell_type": "code",
      "source": [
        "sentences = [\n",
        "    \"안녕하세요\",\n",
        "    \"제 이름은 홍길동입니다.\",\n",
        "    \"이름이 무엇인가요?\",\n",
        "    \"랭체인은 유용합니다.\",\n",
        "    \"홍길동 아버지의 이름은 홍상직입니다.\"\n",
        "    ]\n",
        "\n",
        "ko_embeddings = ko.embed_documents(sentences)\n",
        "\n",
        "q = \"홍길동은 아버지를 아버지라 부르지 못하였습니다. 홍길동 아버지의 이름은 무엇입니까?\"\n",
        "a = \"홍길동의 아버지는 엄했습니다.\"\n",
        "ko_query_q = ko.embed_query(q)\n",
        "ko_query_a = ko.embed_query(a)\n",
        "\n",
        "print(\"질문: {} \\n\".format(q), \"-\"*100)\n",
        "print(\"{} \\t\\t 문장 유사도: \".format(a), round(cos_sim(ko_query_q, ko_query_a),2))\n",
        "print(\"{}\\t\\t\\t 문장 유사도: \".format(sentences[1]), round(cos_sim(ko_query_q, ko_embeddings[1]),2))\n",
        "print(\"{}\\t\\t\\t 문장 유사도: \".format(sentences[3]), round(cos_sim(ko_query_q, ko_embeddings[3]),2))\n",
        "print(\"{}\\t 문장 유사도: \".format(sentences[4]), round(cos_sim(ko_query_q, ko_embeddings[4]),2))"
      ],
      "metadata": {
        "id": "AZKimPYYWSU7",
        "colab": {
          "base_uri": "https://localhost:8080/"
        },
        "outputId": "02f5ef7d-e436-4275-9d43-2d63e5bd3a58"
      },
      "execution_count": null,
      "outputs": [
        {
          "output_type": "stream",
          "name": "stdout",
          "text": [
            "질문: 홍길동은 아버지를 아버지라 부르지 못하였습니다. 홍길동 아버지의 이름은 무엇입니까? \n",
            " ----------------------------------------------------------------------------------------------------\n",
            "홍길동의 아버지는 엄했습니다. \t\t 문장 유사도:  0.47\n",
            "제 이름은 홍길동입니다.\t\t\t 문장 유사도:  0.54\n",
            "랭체인은 유용합니다.\t\t\t 문장 유사도:  0.03\n",
            "홍길동 아버지의 이름은 홍상직입니다.\t 문장 유사도:  0.61\n"
          ]
        }
      ]
    },
    {
      "cell_type": "markdown",
      "source": [
        "### VectorStore"
      ],
      "metadata": {
        "id": "z0p80K1fsXDL"
      }
    },
    {
      "cell_type": "markdown",
      "source": [
        "VectorStore는 자연어 --> 숫자 처리한 후 이들을 저장하는 벡터 저장소입니다.\n",
        "\n",
        "벡터 저장소는 임베딩된 데이터를 인덱싱하여, input으로 받아들이는 query와의 유사도를 빠르게 출력합니다.\n",
        "\n",
        "대표적으로 FAISS, Chroma가 존재합니다."
      ],
      "metadata": {
        "id": "QfixEVGksZRv"
      }
    },
    {
      "cell_type": "markdown",
      "source": [
        "![이미지](https://python.langchain.com/assets/images/data_connection-c42d68c3d092b85f50d08d4cc171fc25.jpg)"
      ],
      "metadata": {
        "id": "Qz3cifHlvuWH"
      }
    },
    {
      "cell_type": "markdown",
      "source": [
        "#### Chroma"
      ],
      "metadata": {
        "id": "bF1ABFTfvemy"
      }
    },
    {
      "cell_type": "markdown",
      "source": [
        "Chroma는 대표적인 오픈소스 벡터 저장소입니다."
      ],
      "metadata": {
        "id": "qBT1XT7lz_0z"
      }
    },
    {
      "cell_type": "code",
      "source": [
        "!pip install chromadb tiktoken transformers sentence_transformers openai langchain pypdf"
      ],
      "metadata": {
        "id": "TaekqxDYsHRn"
      },
      "execution_count": null,
      "outputs": []
    },
    {
      "cell_type": "markdown",
      "source": [
        "기본적으로 VectorStore는 벡터를 일시적으로 저장합니다. 텍스트와 임베딩 함수를 지정하여 from_documents() 함수에 보내면, 지정된 임베딩 함수를 통해 텍스트를 벡터로 변환하고, 이를 임시 db로 생성합니다.\n",
        "\n",
        "그리고 similarity_search() 함수에 쿼리를 지정해주면 이를 바탕으로 가장 벡터 유사도가 높은 벡터를 찾고 이를 자연어 형태로 출력합니다."
      ],
      "metadata": {
        "id": "aYudTTNJFyEI"
      }
    },
    {
      "cell_type": "code",
      "source": [
        "import tiktoken\n",
        "from langchain.text_splitter import RecursiveCharacterTextSplitter\n",
        "\n",
        "tokenizer = tiktoken.get_encoding(\"cl100k_base\")\n",
        "\n",
        "def tiktoken_len(text):\n",
        "    tokens = tokenizer.encode(text)\n",
        "    return len(tokens)"
      ],
      "metadata": {
        "id": "9hy7VfMafOj1"
      },
      "execution_count": null,
      "outputs": []
    },
    {
      "cell_type": "code",
      "source": [
        "from langchain.text_splitter import RecursiveCharacterTextSplitter\n",
        "from langchain.vectorstores import Chroma\n",
        "from langchain.document_loaders import PyPDFLoader\n",
        "\n",
        "\n",
        "# load the document and split it into chunks\n",
        "loader = PyPDFLoader(\"/content/drive/MyDrive/강의 자료/[이슈리포트 2022-2호] 혁신성장 정책금융 동향.pdf\")\n",
        "pages = loader.load_and_split()\n",
        "\n",
        "# split it into chunks\n",
        "text_splitter = RecursiveCharacterTextSplitter(chunk_size=500, chunk_overlap=0, length_function = tiktoken_len)\n",
        "docs = text_splitter.split_documents(pages)\n",
        "\n",
        "# create the open-source embedding function\n",
        "from langchain.embeddings import HuggingFaceEmbeddings\n",
        "\n",
        "model_name = \"jhgan/ko-sbert-nli\"\n",
        "model_kwargs = {'device': 'cpu'}\n",
        "encode_kwargs = {'normalize_embeddings': True}\n",
        "hf = HuggingFaceEmbeddings(\n",
        "    model_name=model_name,\n",
        "    model_kwargs=model_kwargs,\n",
        "    encode_kwargs=encode_kwargs\n",
        ")\n"
      ],
      "metadata": {
        "id": "Er7t4UzA0yvg"
      },
      "execution_count": null,
      "outputs": []
    },
    {
      "cell_type": "code",
      "source": [
        "# load it into Chroma\n",
        "db = Chroma.from_documents(docs, hf)\n",
        "\n",
        "# query it\n",
        "query = \"6대 먹거리 산업은?\"\n",
        "docs = db.similarity_search(query)\n",
        "\n",
        "# print results\n",
        "print(docs[0].page_content)"
      ],
      "metadata": {
        "colab": {
          "base_uri": "https://localhost:8080/"
        },
        "id": "H69kPr8HC--v",
        "outputId": "6afda965-e1d7-4fd3-fdae-173a09d88bec"
      },
      "execution_count": null,
      "outputs": [
        {
          "output_type": "stream",
          "name": "stdout",
          "text": [
            "-컴퓨팅 기술을 활용한 다양한 사업화가 활발히 진행되고 있어 혁신성장 정책금융 공급 규모가 매년 \n",
            "약 100% 수준으로 증가하고 있으며 , 새정부의 ‘미래 먹거리산업 신성장 전략추진*’에 따라 인공\n",
            "지능 관련 기술로의 금융지원이 늘어날 것으로 전망됨\n",
            "       * 에너지 , 방산, 우주항공 , 인공지능 (AI), 바이오 , 탄소중립 대응, 스마트농업을 차세대 6대 먹거리 산업으로 선정\n"
          ]
        }
      ]
    },
    {
      "cell_type": "code",
      "source": [
        "tiktoken_len(docs[0].page_content)"
      ],
      "metadata": {
        "id": "HnTNXBVdf451",
        "colab": {
          "base_uri": "https://localhost:8080/"
        },
        "outputId": "d4dc0dcf-f96a-4f67-c362-282b931af703"
      },
      "execution_count": null,
      "outputs": [
        {
          "output_type": "execute_result",
          "data": {
            "text/plain": [
              "229"
            ]
          },
          "metadata": {},
          "execution_count": 25
        }
      ]
    },
    {
      "cell_type": "markdown",
      "source": [
        "\n",
        "---\n",
        "\n",
        "\n",
        "그런데, 대부분의 경우에서는 내가 활용하고자 하는 문서를 나만의 디스크에 저장하고 필요할 때마다 호출해야 합니다. persist() 함수를 통해 벡터저장소를 로컬 저장하고, Chroma 객체를 선언할 때 로컬 저장소 경로를 지정하여 필요할 때 다시 불러올 수 있습니다."
      ],
      "metadata": {
        "id": "VSj01_OYGUWj"
      }
    },
    {
      "cell_type": "code",
      "source": [
        "# save to disk\n",
        "db2 = Chroma.from_documents(docs, hf, persist_directory=\"./chroma_db\")\n",
        "docs = db2.similarity_search(query)"
      ],
      "metadata": {
        "id": "dKafXs1aOHK_"
      },
      "execution_count": null,
      "outputs": []
    },
    {
      "cell_type": "code",
      "source": [
        "# load from disk\n",
        "db3 = Chroma(persist_directory=\"./chroma_db\", embedding_function=hf)\n",
        "docs = db3.similarity_search(query)\n",
        "print(docs[0].page_content)"
      ],
      "metadata": {
        "id": "IDmPTYs94yhE",
        "colab": {
          "base_uri": "https://localhost:8080/"
        },
        "outputId": "e387cef3-83dd-4661-cee3-b1061f35cb3f"
      },
      "execution_count": null,
      "outputs": [
        {
          "output_type": "stream",
          "name": "stdout",
          "text": [
            "-컴퓨팅 기술을 활용한 다양한 사업화가 활발히 진행되고 있어 혁신성장 정책금융 공급 규모가 매년 \n",
            "약 100% 수준으로 증가하고 있으며 , 새정부의 ‘미래 먹거리산업 신성장 전략추진*’에 따라 인공\n",
            "지능 관련 기술로의 금융지원이 늘어날 것으로 전망됨\n",
            "       * 에너지 , 방산, 우주항공 , 인공지능 (AI), 바이오 , 탄소중립 대응, 스마트농업을 차세대 6대 먹거리 산업으로 선정\n"
          ]
        }
      ]
    },
    {
      "cell_type": "markdown",
      "source": [
        "\n",
        "\n",
        "---\n",
        "\n",
        "\n",
        "쿼리와 유사한 문서(청크)를 불러올 때, 유사도를 함께 제공하는 함수 similarity_search_with_score()를 제공합니다. 이를 통해서 내가 얻은 유사한 문장들의 유사도를 비교할 수 있으며, 특정 유사도 이상의 문서만 출력하도록 하는 등 다양한 활용이 가능합니다."
      ],
      "metadata": {
        "id": "ryJJFCc-HCVS"
      }
    },
    {
      "cell_type": "code",
      "source": [
        "docs = db3.similarity_search_with_relevance_scores(query, k=3)\n",
        "\n",
        "\n",
        "print(\"가장 유사한 문서:\\n\\n {}\\n\\n\".format(docs[0][0].page_content))\n",
        "print(\"문서 유사도:\\n {}\".format(docs[0][1]))"
      ],
      "metadata": {
        "id": "EQeQkym-49zq",
        "colab": {
          "base_uri": "https://localhost:8080/"
        },
        "outputId": "bb37cbf2-f5a6-41cf-aa74-793bfd62102e"
      },
      "execution_count": null,
      "outputs": [
        {
          "output_type": "stream",
          "name": "stdout",
          "text": [
            "가장 유사한 문서:\n",
            "\n",
            " -컴퓨팅 기술을 활용한 다양한 사업화가 활발히 진행되고 있어 혁신성장 정책금융 공급 규모가 매년 \n",
            "약 100% 수준으로 증가하고 있으며 , 새정부의 ‘미래 먹거리산업 신성장 전략추진*’에 따라 인공\n",
            "지능 관련 기술로의 금융지원이 늘어날 것으로 전망됨\n",
            "       * 에너지 , 방산, 우주항공 , 인공지능 (AI), 바이오 , 탄소중립 대응, 스마트농업을 차세대 6대 먹거리 산업으로 선정\n",
            "\n",
            "\n",
            "문서 유사도:\n",
            " 0.25494971276271305\n"
          ]
        }
      ]
    },
    {
      "cell_type": "markdown",
      "source": [
        "#### FAISS"
      ],
      "metadata": {
        "id": "tbYoyQHqnaCf"
      }
    },
    {
      "cell_type": "markdown",
      "source": [
        "Facebook AI 유사성 검색(Faiss)은 고밀도 벡터의 효율적인 유사성 검색 및 클러스터링을 위한 라이브러리입니다. 여기에는 모든 크기의 벡터 집합에서 검색하는 알고리즘이 포함되어 있으며, RAM에 맞지 않을 수 있는 벡터까지 검색할 수 있습니다. 또한 평가 및 매개변수 조정을 위한 지원 코드도 포함되어 있습니다."
      ],
      "metadata": {
        "id": "Rd8MN6T9ncn6"
      }
    },
    {
      "cell_type": "code",
      "source": [
        "pip install faiss-cpu # For CPU Installation"
      ],
      "metadata": {
        "id": "EpM8uJNcnWsh"
      },
      "execution_count": null,
      "outputs": []
    },
    {
      "cell_type": "code",
      "source": [
        "from langchain.vectorstores import FAISS"
      ],
      "metadata": {
        "id": "c4GPNImAnn3Z"
      },
      "execution_count": null,
      "outputs": []
    },
    {
      "cell_type": "code",
      "source": [
        "loader = PyPDFLoader(\"/content/drive/MyDrive/강의 자료/[이슈리포트 2022-2호] 혁신성장 정책금융 동향.pdf\")\n",
        "pages = loader.load_and_split()\n",
        "\n",
        "# split it into chunks\n",
        "text_splitter = RecursiveCharacterTextSplitter(chunk_size=500, chunk_overlap=0, length_function = tiktoken_len)\n",
        "docs = text_splitter.split_documents(pages)\n",
        "\n",
        "from langchain.embeddings import HuggingFaceEmbeddings\n",
        "\n",
        "model_name = \"jhgan/ko-sbert-nli\"\n",
        "model_kwargs = {'device': 'cpu'}\n",
        "encode_kwargs = {'normalize_embeddings': True}\n",
        "ko = HuggingFaceEmbeddings(\n",
        "    model_name=model_name,\n",
        "    model_kwargs=model_kwargs,\n",
        "    encode_kwargs=encode_kwargs\n",
        ")"
      ],
      "metadata": {
        "id": "KFaL4GE8nq5U"
      },
      "execution_count": null,
      "outputs": []
    },
    {
      "cell_type": "code",
      "source": [
        "db = FAISS.from_documents(docs, ko)"
      ],
      "metadata": {
        "id": "ZcIbxJj1nq3Y"
      },
      "execution_count": null,
      "outputs": []
    },
    {
      "cell_type": "code",
      "source": [
        "query = \"인공지능 산업구조는 어떻게 구성되어있어?\"\n",
        "docs = db.similarity_search(query)\n",
        "print(docs[0].page_content)"
      ],
      "metadata": {
        "id": "i2jjepkp92KH",
        "colab": {
          "base_uri": "https://localhost:8080/"
        },
        "outputId": "ce527a80-211a-46ab-de8e-32d0d2cfbbaf"
      },
      "execution_count": null,
      "outputs": [
        {
          "output_type": "stream",
          "name": "stdout",
          "text": [
            "| 10 | CIS이슈리포트 2022-2 호 ▶인공지능 산업의 value chain 은 ‘AI 플랫폼 공급업체 → AI 어플리케이션 개발 → AI 응용솔루션  \n",
            "개발 → 이용자 ’로 구성되며 , 동 산업은 ①성장기 산업, ②대체재로부터의 위협이 낮은 산업, ③기\n",
            "술집약적 산업 등의 특징을 가짐\n",
            "￮알고리즘 , 하드웨어 기술개발과 응용솔루션 서비스 상용화가 활발히 진행 중인 성장기 산업이며 , \n",
            "수요 기업의 요구사항에 따라 운영플랫폼을 선택할 수 있는 구매자의 교섭력이 높은 산업임\n",
            "￮직접적인 대체 기술이 없어 대체재로부터 위협이 낮은 편이며 , 알고리즘의 동작원리를 이해하고 맞\n",
            "춤형 서비스를 지원하기 위한 솔루션 개발 능력이 뒷받침 되어야 하는 기술집약적 산업임\n",
            "▶시장조사전문기관 BCC research 에 따르면 세계 인공지능 시장규모는 2020년 398.4 억 달러에서\n"
          ]
        }
      ]
    },
    {
      "cell_type": "code",
      "source": [
        "docs_and_scores = db.similarity_search_with_score(query)\n",
        "docs_and_scores"
      ],
      "metadata": {
        "id": "bYtes4qWnqxX",
        "colab": {
          "base_uri": "https://localhost:8080/"
        },
        "outputId": "4ce486a8-dafd-426b-e9a8-0bce2f06d9ff"
      },
      "execution_count": null,
      "outputs": [
        {
          "output_type": "execute_result",
          "data": {
            "text/plain": [
              "[(Document(page_content='| 10 | CIS이슈리포트 2022-2 호 ▶인공지능 산업의 value chain 은 ‘AI 플랫폼 공급업체 → AI 어플리케이션 개발 → AI 응용솔루션  \\n개발 → 이용자 ’로 구성되며 , 동 산업은 ①성장기 산업, ②대체재로부터의 위협이 낮은 산업, ③기\\n술집약적 산업 등의 특징을 가짐\\n￮알고리즘 , 하드웨어 기술개발과 응용솔루션 서비스 상용화가 활발히 진행 중인 성장기 산업이며 , \\n수요 기업의 요구사항에 따라 운영플랫폼을 선택할 수 있는 구매자의 교섭력이 높은 산업임\\n￮직접적인 대체 기술이 없어 대체재로부터 위협이 낮은 편이며 , 알고리즘의 동작원리를 이해하고 맞\\n춤형 서비스를 지원하기 위한 솔루션 개발 능력이 뒷받침 되어야 하는 기술집약적 산업임\\n▶시장조사전문기관 BCC research 에 따르면 세계 인공지능 시장규모는 2020년 398.4 억 달러에서', metadata={'source': '/content/drive/MyDrive/강의 자료/[이슈리포트 2022-2호] 혁신성장 정책금융 동향.pdf', 'page': 9}),\n",
              "  0.69344306),\n",
              " (Document(page_content='혁신성장 정책금융 동향 : ICT 산업을 중심으로\\n  CIS이슈리포트 2022-2 호 | 9 |▶다양한 데이터나 복잡한 자료 속에서 핵심적인 특징을 요약하는 ①데이터 추상화 기술, 방대한 지식\\n체계를 이용하는 ②빅데이터 기술, 빅데이터를 처리하기 위한 ③고성능 컴퓨팅 기술이 인공지능 \\n구현의 핵심임\\n￮데이터를 추상화하는 방법은 크게 인공신경망 (ANN), 심층신경망 (DNN), 합성곱신경망 (CNN) 및 \\n순환신경망 (RNN) 등으로 구분됨\\n[인공지능 데이터 추상화 기술]\\n구분 특징 장점 단점\\n인공신경망 (ANN)\\nArtificial Neural \\nNetwork사람의 신경망 원리와 구조를 모방하여 만든 \\n기계학습 알고리즘으로 , 입력층 , 출력층 , 은닉층\\n으로 구성모든 비선형 함수 \\n학습이 가능알고리즘을 최적화\\n하기 어려운 학습 \\n환경 발생\\n심층신경망 (DNN)\\nDeep Neural \\nNetwork입력층과 출력층 사이에 2개 이상의 은닉층\\n들로 이뤄진 인공신경망ANN의 문제점 개선학습환경에 따라 \\n높은 시간 복잡도  \\n문제 발생\\n합성곱신경망 (CNN)', metadata={'source': '/content/drive/MyDrive/강의 자료/[이슈리포트 2022-2호] 혁신성장 정책금융 동향.pdf', 'page': 8}),\n",
              "  0.7306224),\n",
              " (Document(page_content='￮인공지능 기술을 도입하는 산업이 늘어나고 있는 점, 인공지능 분야에 진출하는 스타트업의 증가에 \\n따라 산업의 기술경쟁력이 높아지는 점 등은 시장성장에  촉진요인으로 작용할 전망임\\n￮국내 인공지능 기술에 대한 완성도가 높지 않아 국내기술의 도입처가 제한적인 점, 인공지능이 \\n인간의 고용 영역을 침범할 수 있고 기술의 불안정성으로 인한 사고 발생의 우려가 존재하는 점 등은 \\n시장성장에 저해요인 으로 작용할 전망임', metadata={'source': '/content/drive/MyDrive/강의 자료/[이슈리포트 2022-2호] 혁신성장 정책금융 동향.pdf', 'page': 9}),\n",
              "  0.7907992),\n",
              " (Document(page_content='| 8 | CIS이슈리포트 2022-2 호 ▶(주요품목 ② : 인공지능 ) 정보통신 테마 내 기술분야 중 정책금융 공급규모 증가율이 가장 높은 \\n능동형컴퓨팅 분야의 경우, 인공지능 품목의 정책금융 공급 비중이 가장 높으며 , 이는 빅데이터 \\n분석기술의 발전으로 인해 인공지능의 활용처가 넓어짐에 따른 것으로 분석됨\\n[능동형컴퓨팅 분야 내 기술품목별 혁신성장 정책금융 공급액 추이]\\n(단위: 억 원)\\n주: 스마트물류시스템 품목은 2021 년부터 신규 품목으로 편임\\n▶인공지능은 인간의 학습능력과 추론·지각능력 , 자연언어 이해능력 등을 프로그램으로 구현한 기술로 , \\n컴퓨터가 인간의 지능적인 행동을 모방하는 방향으로 발전하고 있음\\n￮인공지능은 사람의 두뇌가 복잡한 연산을 수행하는 점을 모방해 뉴런(Neuron) 을 수학적으로 모방한  \\n알고리즘인 퍼셉트론 (Perceptron) 을 이용하여 컴퓨터의 연산 로직을 처리하는 원리로 동작함\\n[인공지능 동작 개념]', metadata={'source': '/content/drive/MyDrive/강의 자료/[이슈리포트 2022-2호] 혁신성장 정책금융 동향.pdf', 'page': 7}),\n",
              "  0.81482995)]"
            ]
          },
          "metadata": {},
          "execution_count": 34
        }
      ]
    },
    {
      "cell_type": "code",
      "source": [
        "db.save_local(\"faiss_index\")"
      ],
      "metadata": {
        "id": "j7otS2lAnqpM"
      },
      "execution_count": null,
      "outputs": []
    },
    {
      "cell_type": "code",
      "source": [
        "new_db = FAISS.load_local(\"faiss_index\", ko)\n",
        "\n",
        "query = \"인공지능 산업구조는 어떻게 구성되어있어?\"\n",
        "docs = new_db.similarity_search_with_relevance_scores(query, k=3)\n",
        "\n",
        "\n",
        "print(\"질문: {} \\n\".format(query))\n",
        "for i in range(len(docs)):\n",
        "    print(\"{0}번째 유사 문서 유사도 \\n{1}\".format(i+1,round(docs[i][1],2)))\n",
        "    print(\"-\"*100)\n",
        "    print(docs[i][0].page_content)\n",
        "    print(\"\\n\")\n",
        "    print(docs[i][0].metadata)\n",
        "    print(\"-\"*100)"
      ],
      "metadata": {
        "id": "cKAs9UQWozhB",
        "colab": {
          "base_uri": "https://localhost:8080/"
        },
        "outputId": "d67435e5-404b-48bd-c2db-824f91674172"
      },
      "execution_count": null,
      "outputs": [
        {
          "output_type": "stream",
          "name": "stdout",
          "text": [
            "질문: 인공지능 산업구조는 어떻게 구성되어있어? \n",
            "\n",
            "1번째 유사 문서 유사도 \n",
            "0.51\n",
            "----------------------------------------------------------------------------------------------------\n",
            "| 10 | CIS이슈리포트 2022-2 호 ▶인공지능 산업의 value chain 은 ‘AI 플랫폼 공급업체 → AI 어플리케이션 개발 → AI 응용솔루션  \n",
            "개발 → 이용자 ’로 구성되며 , 동 산업은 ①성장기 산업, ②대체재로부터의 위협이 낮은 산업, ③기\n",
            "술집약적 산업 등의 특징을 가짐\n",
            "￮알고리즘 , 하드웨어 기술개발과 응용솔루션 서비스 상용화가 활발히 진행 중인 성장기 산업이며 , \n",
            "수요 기업의 요구사항에 따라 운영플랫폼을 선택할 수 있는 구매자의 교섭력이 높은 산업임\n",
            "￮직접적인 대체 기술이 없어 대체재로부터 위협이 낮은 편이며 , 알고리즘의 동작원리를 이해하고 맞\n",
            "춤형 서비스를 지원하기 위한 솔루션 개발 능력이 뒷받침 되어야 하는 기술집약적 산업임\n",
            "▶시장조사전문기관 BCC research 에 따르면 세계 인공지능 시장규모는 2020년 398.4 억 달러에서\n",
            "\n",
            "\n",
            "{'source': '/content/drive/MyDrive/강의 자료/[이슈리포트 2022-2호] 혁신성장 정책금융 동향.pdf', 'page': 9}\n",
            "----------------------------------------------------------------------------------------------------\n",
            "2번째 유사 문서 유사도 \n",
            "0.48\n",
            "----------------------------------------------------------------------------------------------------\n",
            "혁신성장 정책금융 동향 : ICT 산업을 중심으로\n",
            "  CIS이슈리포트 2022-2 호 | 9 |▶다양한 데이터나 복잡한 자료 속에서 핵심적인 특징을 요약하는 ①데이터 추상화 기술, 방대한 지식\n",
            "체계를 이용하는 ②빅데이터 기술, 빅데이터를 처리하기 위한 ③고성능 컴퓨팅 기술이 인공지능 \n",
            "구현의 핵심임\n",
            "￮데이터를 추상화하는 방법은 크게 인공신경망 (ANN), 심층신경망 (DNN), 합성곱신경망 (CNN) 및 \n",
            "순환신경망 (RNN) 등으로 구분됨\n",
            "[인공지능 데이터 추상화 기술]\n",
            "구분 특징 장점 단점\n",
            "인공신경망 (ANN)\n",
            "Artificial Neural \n",
            "Network사람의 신경망 원리와 구조를 모방하여 만든 \n",
            "기계학습 알고리즘으로 , 입력층 , 출력층 , 은닉층\n",
            "으로 구성모든 비선형 함수 \n",
            "학습이 가능알고리즘을 최적화\n",
            "하기 어려운 학습 \n",
            "환경 발생\n",
            "심층신경망 (DNN)\n",
            "Deep Neural \n",
            "Network입력층과 출력층 사이에 2개 이상의 은닉층\n",
            "들로 이뤄진 인공신경망ANN의 문제점 개선학습환경에 따라 \n",
            "높은 시간 복잡도  \n",
            "문제 발생\n",
            "합성곱신경망 (CNN)\n",
            "\n",
            "\n",
            "{'source': '/content/drive/MyDrive/강의 자료/[이슈리포트 2022-2호] 혁신성장 정책금융 동향.pdf', 'page': 8}\n",
            "----------------------------------------------------------------------------------------------------\n",
            "3번째 유사 문서 유사도 \n",
            "0.44\n",
            "----------------------------------------------------------------------------------------------------\n",
            "￮인공지능 기술을 도입하는 산업이 늘어나고 있는 점, 인공지능 분야에 진출하는 스타트업의 증가에 \n",
            "따라 산업의 기술경쟁력이 높아지는 점 등은 시장성장에  촉진요인으로 작용할 전망임\n",
            "￮국내 인공지능 기술에 대한 완성도가 높지 않아 국내기술의 도입처가 제한적인 점, 인공지능이 \n",
            "인간의 고용 영역을 침범할 수 있고 기술의 불안정성으로 인한 사고 발생의 우려가 존재하는 점 등은 \n",
            "시장성장에 저해요인 으로 작용할 전망임\n",
            "\n",
            "\n",
            "{'source': '/content/drive/MyDrive/강의 자료/[이슈리포트 2022-2호] 혁신성장 정책금융 동향.pdf', 'page': 9}\n",
            "----------------------------------------------------------------------------------------------------\n"
          ]
        }
      ]
    },
    {
      "cell_type": "code",
      "source": [
        "query = \"인공지능 산업구조는 어떻게 구성되어있어?\"\n",
        "docs = new_db.max_marginal_relevance_search(query,k=3,fetch_k = 10, lambda_mult = 0.3)\n",
        "\n",
        "print(\"질문: {} \\n\".format(query))\n",
        "for i in range(len(docs)):\n",
        "    print(\"{}번째 유사 문서:\".format(i+1))\n",
        "    print(\"-\"*100)\n",
        "    print(docs[i].page_content)\n",
        "    print(\"\\n\")\n",
        "    print(docs[i].metadata)\n",
        "    print(\"-\"*100)\n",
        "    print(\"\\n\\n\")\n"
      ],
      "metadata": {
        "id": "CFQdWBqjpmgB",
        "colab": {
          "base_uri": "https://localhost:8080/"
        },
        "outputId": "6d242e64-84f1-43df-9967-2858862ddb83"
      },
      "execution_count": null,
      "outputs": [
        {
          "output_type": "stream",
          "name": "stdout",
          "text": [
            "질문: 인공지능 산업구조는 어떻게 구성되어있어? \n",
            "\n",
            "1번째 유사 문서:\n",
            "----------------------------------------------------------------------------------------------------\n",
            "| 10 | CIS이슈리포트 2022-2 호 ▶인공지능 산업의 value chain 은 ‘AI 플랫폼 공급업체 → AI 어플리케이션 개발 → AI 응용솔루션  \n",
            "개발 → 이용자 ’로 구성되며 , 동 산업은 ①성장기 산업, ②대체재로부터의 위협이 낮은 산업, ③기\n",
            "술집약적 산업 등의 특징을 가짐\n",
            "￮알고리즘 , 하드웨어 기술개발과 응용솔루션 서비스 상용화가 활발히 진행 중인 성장기 산업이며 , \n",
            "수요 기업의 요구사항에 따라 운영플랫폼을 선택할 수 있는 구매자의 교섭력이 높은 산업임\n",
            "￮직접적인 대체 기술이 없어 대체재로부터 위협이 낮은 편이며 , 알고리즘의 동작원리를 이해하고 맞\n",
            "춤형 서비스를 지원하기 위한 솔루션 개발 능력이 뒷받침 되어야 하는 기술집약적 산업임\n",
            "▶시장조사전문기관 BCC research 에 따르면 세계 인공지능 시장규모는 2020년 398.4 억 달러에서\n",
            "\n",
            "\n",
            "{'source': '/content/drive/MyDrive/강의 자료/[이슈리포트 2022-2호] 혁신성장 정책금융 동향.pdf', 'page': 9}\n",
            "----------------------------------------------------------------------------------------------------\n",
            "\n",
            "\n",
            "\n",
            "2번째 유사 문서:\n",
            "----------------------------------------------------------------------------------------------------\n",
            "혁신성장 정책금융 동향 : ICT 산업을 중심으로\n",
            "  CIS이슈리포트 2022-2 호 | 9 |▶다양한 데이터나 복잡한 자료 속에서 핵심적인 특징을 요약하는 ①데이터 추상화 기술, 방대한 지식\n",
            "체계를 이용하는 ②빅데이터 기술, 빅데이터를 처리하기 위한 ③고성능 컴퓨팅 기술이 인공지능 \n",
            "구현의 핵심임\n",
            "￮데이터를 추상화하는 방법은 크게 인공신경망 (ANN), 심층신경망 (DNN), 합성곱신경망 (CNN) 및 \n",
            "순환신경망 (RNN) 등으로 구분됨\n",
            "[인공지능 데이터 추상화 기술]\n",
            "구분 특징 장점 단점\n",
            "인공신경망 (ANN)\n",
            "Artificial Neural \n",
            "Network사람의 신경망 원리와 구조를 모방하여 만든 \n",
            "기계학습 알고리즘으로 , 입력층 , 출력층 , 은닉층\n",
            "으로 구성모든 비선형 함수 \n",
            "학습이 가능알고리즘을 최적화\n",
            "하기 어려운 학습 \n",
            "환경 발생\n",
            "심층신경망 (DNN)\n",
            "Deep Neural \n",
            "Network입력층과 출력층 사이에 2개 이상의 은닉층\n",
            "들로 이뤄진 인공신경망ANN의 문제점 개선학습환경에 따라 \n",
            "높은 시간 복잡도  \n",
            "문제 발생\n",
            "합성곱신경망 (CNN)\n",
            "\n",
            "\n",
            "{'source': '/content/drive/MyDrive/강의 자료/[이슈리포트 2022-2호] 혁신성장 정책금융 동향.pdf', 'page': 8}\n",
            "----------------------------------------------------------------------------------------------------\n",
            "\n",
            "\n",
            "\n",
            "3번째 유사 문서:\n",
            "----------------------------------------------------------------------------------------------------\n",
            "연평균 41.0% 성장하여 2025 년에는 2,223.7 억 달러의 시장을 형성할 것으로 전망됨\n",
            "￮세부 솔루션 분문별로는 2020 년 기준 소프트웨어 부문의 점유율이 전체시장의 78.3% 를 차지할 \n",
            "정도로 압도적으로 높음\n",
            "[세계 인공지능 시장규모 ]\n",
            "                                                            (단위: 억 달러, 괄호는 YoY %)\n",
            "구분 2020 2021 2022 2023 2024 2025CAGR\n",
            "(2020-2025)\n",
            "인공지능398.4 553.3 769.7 1,134.3 1,498.9 2,223.7 41.0%\n",
            "　 (38.9) (39.1) (47.4) (32.1) (48.4)   \n",
            "소프트웨어311.8 432.3 600.3 882.4 1,164.6 1,723.5 40.8%\n",
            "　 (38.6) (38.8) (47.0) (32.0) (48.0)   \n",
            "서비스55.7 78.0 109.3 162.6 216.0 323.7 42.2%\n",
            "　 (40.0) (40.2) (48.9) (32.8) (49.8)   \n",
            "하드웨어30.9 43.1 60.2 89.2 118.3 176.5 41.7%\n",
            "　 (39.5) (39.7) (48.2) (32.5) (49.2)   \n",
            "     자료: Global Artificial Intelligence(AI) Market, BCC Research (2022)\n",
            "\n",
            "\n",
            "{'source': '/content/drive/MyDrive/강의 자료/[이슈리포트 2022-2호] 혁신성장 정책금융 동향.pdf', 'page': 9}\n",
            "----------------------------------------------------------------------------------------------------\n",
            "\n",
            "\n",
            "\n"
          ]
        }
      ]
    },
    {
      "cell_type": "markdown",
      "source": [
        "### Retriever"
      ],
      "metadata": {
        "id": "flSxiUF7Hp3m"
      }
    },
    {
      "cell_type": "markdown",
      "source": [
        "리트리버는 비정형 쿼리가 주어지면 문서를 반환하는 인터페이스입니다. 벡터 저장소보다 더 일반적입니다. 리트리버는 문서를 저장할 필요 없이 단지 반환(또는 검색)만 할 수 있습니다. - *Langchain Document*"
      ],
      "metadata": {
        "id": "HUDOUkP_HrXR"
      }
    },
    {
      "cell_type": "markdown",
      "source": [
        "쉽게 말해, Retriever는 검색을 쉽게 할 수 있도록 구성된 모듈입니다. 이를 통해 손쉽게 문서를 검색할 수 있도록 하고 이를 기반으로 LLM과 대화할 수 있도록 합니다."
      ],
      "metadata": {
        "id": "l2fSuboBH3qJ"
      }
    },
    {
      "cell_type": "code",
      "source": [
        "!pip install chromadb tiktoken transformers sentence_transformers openai langchain pypdf"
      ],
      "metadata": {
        "id": "nJ6V4FDX2ymh"
      },
      "execution_count": null,
      "outputs": []
    },
    {
      "cell_type": "code",
      "source": [
        "from google.colab import drive\n",
        "drive.mount('/content/drive')"
      ],
      "metadata": {
        "id": "VCQ7rg5pWX7_"
      },
      "execution_count": null,
      "outputs": []
    },
    {
      "cell_type": "code",
      "source": [
        "import os\n",
        "import openai\n",
        "os.environ[\"OPENAI_API_KEY\"] = 'YOUR_API_KEY'"
      ],
      "metadata": {
        "id": "RU0lpsEh1sxR"
      },
      "execution_count": null,
      "outputs": []
    },
    {
      "cell_type": "code",
      "source": [
        "import tiktoken\n",
        "\n",
        "tokenizer = tiktoken.get_encoding(\"cl100k_base\")\n",
        "\n",
        "def tiktoken_len(text):\n",
        "    tokens = tokenizer.encode(text)\n",
        "    return len(tokens)"
      ],
      "metadata": {
        "id": "pHrbA1lO0Tv-"
      },
      "execution_count": null,
      "outputs": []
    },
    {
      "cell_type": "code",
      "source": [
        "from langchain.chains import RetrievalQA\n",
        "from langchain.chat_models import ChatOpenAI\n",
        "from langchain.text_splitter import RecursiveCharacterTextSplitter\n",
        "from langchain.vectorstores import Chroma\n",
        "from langchain.document_loaders import PyPDFLoader"
      ],
      "metadata": {
        "id": "B9xrjwmh0KEr"
      },
      "execution_count": null,
      "outputs": []
    },
    {
      "cell_type": "code",
      "source": [
        "loader = PyPDFLoader(\"/content/drive/MyDrive/강의 자료/[이슈리포트 2022-2호] 혁신성장 정책금융 동향.pdf\")\n",
        "pages = loader.load_and_split()\n",
        "\n",
        "text_splitter = RecursiveCharacterTextSplitter(chunk_size=500, chunk_overlap=50, length_function = tiktoken_len)\n",
        "texts = text_splitter.split_documents(pages)\n",
        "\n",
        "from langchain.embeddings import HuggingFaceEmbeddings\n",
        "\n",
        "model_name = \"jhgan/ko-sbert-nli\"\n",
        "model_kwargs = {'device': 'cpu'}\n",
        "encode_kwargs = {'normalize_embeddings': True}\n",
        "hf = HuggingFaceEmbeddings(\n",
        "    model_name=model_name,\n",
        "    model_kwargs=model_kwargs,\n",
        "    encode_kwargs=encode_kwargs\n",
        ")\n",
        "\n",
        "docsearch = Chroma.from_documents(texts, hf)"
      ],
      "metadata": {
        "id": "iRU3ZW9y0Mxx"
      },
      "execution_count": null,
      "outputs": []
    },
    {
      "cell_type": "code",
      "source": [
        "from langchain.callbacks.streaming_stdout import StreamingStdOutCallbackHandler\n",
        "\n",
        "openai = ChatOpenAI(model_name=\"gpt-3.5-turbo\",\n",
        "                    streaming=True, callbacks=[StreamingStdOutCallbackHandler()],\n",
        "                    temperature = 0)\n",
        "\n",
        "qa = RetrievalQA.from_chain_type(llm = openai,\n",
        "                                 chain_type = \"stuff\",\n",
        "                                 retriever = docsearch.as_retriever(\n",
        "                                    search_type=\"mmr\",\n",
        "                                    search_kwargs={'k':3, 'fetch_k': 10}),\n",
        "                                 return_source_documents = True)\n",
        "\n",
        "query = \"혁신성장 정책금융에 대해서 설명해줘\"\n",
        "result = qa(query)"
      ],
      "metadata": {
        "colab": {
          "base_uri": "https://localhost:8080/"
        },
        "id": "MbweMh6I0MsC",
        "outputId": "b74b8328-3072-4d1e-c8e0-a5881d8d24d7"
      },
      "execution_count": null,
      "outputs": [
        {
          "output_type": "stream",
          "name": "stdout",
          "text": [
            "혁신성장 정책금융은 기업의 성장과 혁신을 지원하기 위해 정부나 정부 기관이 제공하는 금융 지원 정책입니다. 이 정책은 건강한 혁신산업 생태계를 조성하고, 기업 성장에 필요한 자금을 지원하기 위해 시행되고 있습니다.\n",
            "\n",
            "혁신성장 정책금융기관은 혁신성장에 대한 정의를 구체화한 정책금융 가이드라인에 따라 혁신성장 산업육성을 위한 정책금융 업무를 추진하고 있습니다. 이 가이드라인은 '9대 테마-46개 분야-296개 품목'으로 구성되어 있으며, 혁신성장 기업 발굴 및 금융지원을 위한 기준으로 활용됩니다.\n",
            "\n",
            "혁신성장 정책금융 제도 시행 이후 공급 규모는 매년 증가하고 있으며, 미래 혁신성장 분야의 글로벌 경쟁력 확보를 위한 금융지원이 지속적으로 이루어지고 있습니다. 정책금융기관의 혁신성장 분야 정책금융 공급규모는 2017년 240,787억 원에서 연평균 37.2% 증가하여 2021년 854,338억 원에 이르는 등 그 외연을 확장하고 있습니다. 또한, 정책금융 공급 건수도 2017년 28,187건에서 2021년 71,369건으로 증가하였습니다.\n",
            "\n",
            "이러한 혁신성장 정책금융은 ICT 산업을 중심으로 이루어지고 있습니다. ICT 산업은 정보통신, 전기전자, 센서측정 분야에서 이루어지며, 이를 위해 정책금융이 집중되는 혁신성장 주요 품목의 기술과 시장 동향을 분석하는 보고서도 작성되고 있습니다."
          ]
        }
      ]
    },
    {
      "cell_type": "code",
      "source": [
        "result"
      ],
      "metadata": {
        "colab": {
          "base_uri": "https://localhost:8080/"
        },
        "id": "I9wxd5bbcq9L",
        "outputId": "4aa8d3ba-fcd4-4f94-f535-e917ae8e9842"
      },
      "execution_count": null,
      "outputs": [
        {
          "output_type": "execute_result",
          "data": {
            "text/plain": [
              "{'query': '혁신성장 정책금융에 대해서 설명해줘',\n",
              " 'result': \"혁신성장 정책금융은 기업의 성장과 혁신을 지원하기 위해 정부나 정부 기관이 제공하는 금융 지원 정책입니다. 이 정책은 건강한 혁신산업 생태계를 조성하고, 기업 성장에 필요한 자금을 지원하기 위해 시행되고 있습니다.\\n\\n혁신성장 정책금융기관은 혁신성장에 대한 정의를 구체화한 정책금융 가이드라인에 따라 혁신성장 산업육성을 위한 정책금융 업무를 추진하고 있습니다. 이 가이드라인은 '9대 테마-46개 분야-296개 품목'으로 구성되어 있으며, 혁신성장 기업 발굴 및 금융지원을 위한 기준으로 활용됩니다.\\n\\n혁신성장 정책금융 제도 시행 이후 공급 규모는 매년 증가하고 있으며, 미래 혁신성장 분야의 글로벌 경쟁력 확보를 위한 금융지원이 지속적으로 이루어지고 있습니다. 정책금융기관의 혁신성장 분야 정책금융 공급규모는 2017년 240,787억 원에서 연평균 37.2% 증가하여 2021년 854,338억 원에 이르는 등 그 외연을 확장하고 있습니다. 또한, 정책금융 공급 건수도 2017년 28,187건에서 2021년 71,369건으로 증가하였습니다.\\n\\n이러한 혁신성장 정책금융은 ICT 산업을 중심으로 이루어지고 있습니다. ICT 산업은 정보통신, 전기전자, 센서측정 분야에서 이루어지며, 이를 위해 정책금융이 집중되는 혁신성장 주요 품목의 기술과 시장 동향을 분석하는 보고서도 작성되고 있습니다.\",\n",
              " 'source_documents': [Document(page_content='혁신성장 정책금융 동향 : ICT 산업을 중심으로\\n  CIS이슈리포트 2022-2 호 | 3 |1. 들어가며\\n▶혁신성장 정책금융기관은 건강한 혁신산업 생태계를 조성하기 위해 기업 성장에 필요한 자금을 \\n지원하는 혁신성장 정책금융 제도를 시행하고 있음\\n￮혁신성장 정책금융기관은 혁신성장에 대한 정의를 구체화한 정책금융 가이드라인*에 따라 혁신성장  \\n산업육성을 위한 정책금융 업무를 추진 중임\\n       * 혁신성장 기업발굴 및 금융지원을 위해 활용하는 기준으로 , ‘9대 테마-46개 분야-296개 품목’으로 구성\\n▶혁신성장 정책금융 제도 시행 이후 공급 규모가 매년 증가하는 등, 미래 혁신성장 분야의 글로벌 \\n경쟁력 확보를 위한 금융지원이 지속 추진 중임\\n￮정책금융기관의 혁신성장 분야 정책금융 공급규모는 2017년 240,787 억 원에서  연평균  37.2% 증가\\n하여 2021 년 854,338 억 원에 이르는 등 그 외연을 확장해나가고 있음\\n￮정책금융 공급 건수 또한 2017 년 28,187 건에서 2021 년 71,369 건으로 증가함\\n▶본 보고서는 ICT 산업의 정책금융 지원 트렌드를 파악하고 , 정책금융이 집중되는 혁신성장 주요 \\n품목의 기술·시장 동향을 분석함\\n분석 대상∙ ICT 산업과 연관성이 높은 정보통신 , 전기전자 , 센서측정 테마·분야 및 주요 품목\\n - 정책금융 지원현황*, 혁신성장 주요 품목의 기술·시장 동향\\n분석 시점 ∙ (지원현황 ) 2017 년 12월말 ~ 2021 년 12월말, (시장전망 ) 2020 년 ~ 2025 년\\n* 한국신용정보원에 집중된 산은, 기은, 수은, 신보, 기보, 중진공 , 무보의 혁신성장 정책금융 공급(대출, 보증, 투자) 데이터에 기반함\\n2. ICT 산업 혁신성장 정책금융 공급현황\\n▶혁신성장 ICT 산업은 정보통신 (6개 분야, 47개 품목), 전기전자 (5개 분야, 27개 품목), 센서측정', metadata={'page': 2, 'source': '/content/drive/MyDrive/강의 자료/[이슈리포트 2022-2호] 혁신성장 정책금융 동향.pdf'}),\n",
              "  Document(page_content='혁신성장 정책금융 동향 : ICT 산업을 중심으로\\n  CIS이슈리포트 2022-2 호 | 3 |1. 들어가며\\n▶혁신성장 정책금융기관은 건강한 혁신산업 생태계를 조성하기 위해 기업 성장에 필요한 자금을 \\n지원하는 혁신성장 정책금융 제도를 시행하고 있음\\n￮혁신성장 정책금융기관은 혁신성장에 대한 정의를 구체화한 정책금융 가이드라인*에 따라 혁신성장  \\n산업육성을 위한 정책금융 업무를 추진 중임\\n       * 혁신성장 기업발굴 및 금융지원을 위해 활용하는 기준으로 , ‘9대 테마-46개 분야-296개 품목’으로 구성\\n▶혁신성장 정책금융 제도 시행 이후 공급 규모가 매년 증가하는 등, 미래 혁신성장 분야의 글로벌 \\n경쟁력 확보를 위한 금융지원이 지속 추진 중임\\n￮정책금융기관의 혁신성장 분야 정책금융 공급규모는 2017년 240,787 억 원에서  연평균  37.2% 증가\\n하여 2021 년 854,338 억 원에 이르는 등 그 외연을 확장해나가고 있음\\n￮정책금융 공급 건수 또한 2017 년 28,187 건에서 2021 년 71,369 건으로 증가함\\n▶본 보고서는 ICT 산업의 정책금융 지원 트렌드를 파악하고 , 정책금융이 집중되는 혁신성장 주요 \\n품목의 기술·시장 동향을 분석함\\n분석 대상∙ ICT 산업과 연관성이 높은 정보통신 , 전기전자 , 센서측정 테마·분야 및 주요 품목\\n - 정책금융 지원현황*, 혁신성장 주요 품목의 기술·시장 동향\\n분석 시점 ∙ (지원현황 ) 2017 년 12월말 ~ 2021 년 12월말, (시장전망 ) 2020 년 ~ 2025 년\\n* 한국신용정보원에 집중된 산은, 기은, 수은, 신보, 기보, 중진공 , 무보의 혁신성장 정책금융 공급(대출, 보증, 투자) 데이터에 기반함\\n2. ICT 산업 혁신성장 정책금융 공급현황\\n▶혁신성장 ICT 산업은 정보통신 (6개 분야, 47개 품목), 전기전자 (5개 분야, 27개 품목), 센서측정', metadata={'page': 2, 'source': '/content/drive/MyDrive/강의 자료/[이슈리포트 2022-2호] 혁신성장 정책금융 동향.pdf'}),\n",
              "  Document(page_content='혁신성장 정책금융 동향 : ICT 산업을 중심으로\\n  CIS이슈리포트 2022-2 호 | 1 |\\n<요  약>\\n▶혁신성장 정책금융기관*은 혁신성장산업 영위기업을 발굴·지원하기 위한 정책금융 가이드라인**에 따라 혁신\\n성장 기술분야에  대한 금융지원을 강화하고 있음\\n     * 산업은행 , 기업은행 , 수출입은행 , 신용보증기금 , 기술보증기금 , 중소벤처기업진흥공단 , 무역보험공사  등 \\n11개 기관\\n    ** 혁신성장 정책금융 지원 대상을 판단하는 기준으로 , ‘9대 테마 – 46개 분야 – 296개 품목’으로 구성\\n￮정책금융기관의 혁신성장 정책금융 공급규모는  2017 년 24.1조 원에서 2021 년 85.4조 원으로 크게 증가\\n하여 국내 산업 구조의  미래 산업으로의 전환을 충실히 지원하고 있음\\n￮본 보고서는 ICT 산업의 정책금융 지원 트렌드를 파악하고 , 혁신성장 정책금융이 집중되는 주요 품목의  \\n기술·시장 동향을 분석함', metadata={'page': 0, 'source': '/content/drive/MyDrive/강의 자료/[이슈리포트 2022-2호] 혁신성장 정책금융 동향.pdf'})]}"
            ]
          },
          "metadata": {},
          "execution_count": 102
        }
      ]
    },
    {
      "cell_type": "markdown",
      "source": [
        "#### VectorIndexCreator\n",
        "\n",
        "VectorIndexCreator는 문서 분할 - 임베딩 - 벡터 저장의 3가지 단계를 한 줄로 수행가능하도록 하는 함수입니다. 단순히 문서 loader를 넘겨줌으로써, 문서에 대한 질문이 가능하도록 합니다.\n",
        "\n",
        "또한 이를 통해 생성한 index 객체에 query()함수를 통해 질문하면 QA Chain이 작동하여 LLM이 답변까지 합니다."
      ],
      "metadata": {
        "id": "gy4_NB3wK5_b"
      }
    },
    {
      "cell_type": "code",
      "source": [
        "from langchain.chat_models  import ChatOpenAI\n",
        "\n",
        "llm = OpenAIChat(\n",
        "    model_name='gpt-3.5-turbo',\n",
        ")"
      ],
      "metadata": {
        "colab": {
          "base_uri": "https://localhost:8080/"
        },
        "id": "yW8cpQIMMKDT",
        "outputId": "cbb78157-73d2-4608-d87c-4f2487478712"
      },
      "execution_count": null,
      "outputs": [
        {
          "output_type": "stream",
          "name": "stderr",
          "text": [
            "/usr/local/lib/python3.10/dist-packages/langchain/llms/openai.py:769: UserWarning: You are trying to use a chat model. This way of initializing it is no longer supported. Instead, please use: `from langchain.chat_models import ChatOpenAI`\n",
            "  warnings.warn(\n"
          ]
        }
      ]
    },
    {
      "cell_type": "code",
      "source": [
        "from langchain.indexes import VectorstoreIndexCreator"
      ],
      "metadata": {
        "id": "ajskX1Vp5slu"
      },
      "execution_count": null,
      "outputs": []
    },
    {
      "cell_type": "code",
      "source": [
        "loader = PyPDFLoader(\"/content/drive/MyDrive/강의 자료/[복지이슈 FOCUS 15ȣ] 경기도 극저신용대출심사모형 개발을 위한 국내 신용정보 활용가능성 탐색.pdf\")\n",
        "pages = loader.load_and_split()"
      ],
      "metadata": {
        "id": "iOeKxW-ZIeLc"
      },
      "execution_count": null,
      "outputs": []
    },
    {
      "cell_type": "code",
      "source": [
        "index = VectorstoreIndexCreator(\n",
        "    text_splitter=RecursiveCharacterTextSplitter.from_tiktoken_encoder(chunk_size=1000, chunk_overlap=0)\n",
        ").from_loaders([loader])"
      ],
      "metadata": {
        "id": "SzrMd6GSIENb"
      },
      "execution_count": null,
      "outputs": []
    },
    {
      "cell_type": "code",
      "source": [
        "query = \"현행 극저신용대출 심사기준은 무엇인가 answer in Korean\"\n",
        "index.query(llm = llm, question = query)"
      ],
      "metadata": {
        "colab": {
          "base_uri": "https://localhost:8080/",
          "height": 54
        },
        "id": "O3411XqQIFxI",
        "outputId": "0be45165-37c4-4394-ddbf-5b8d911a888f"
      },
      "execution_count": null,
      "outputs": [
        {
          "output_type": "execute_result",
          "data": {
            "text/plain": [
              "'현행 극저신용대출 심사기준은 차주 관련 기초현황점수(정량지표, 55점)와 심사점수(정성지표, 45점)로 구분되어 있으며, 심사기준별 세부심사항목은 인구학적 정보(성별, 연령, 거주지, 직업, 가구원, 주거형태)과 경제상황(정부지원 여부, 소득유무, 불법사금융 피해 여부, 고금리 이용 여부, 2030 청년 여부)입니다.'"
            ],
            "application/vnd.google.colaboratory.intrinsic+json": {
              "type": "string"
            }
          },
          "metadata": {},
          "execution_count": 247
        }
      ]
    },
    {
      "cell_type": "code",
      "source": [
        "index.query_with_sources(llm = llm, question = query)"
      ],
      "metadata": {
        "colab": {
          "base_uri": "https://localhost:8080/"
        },
        "id": "CPy3tmU3ILiu",
        "outputId": "ac380679-ae0c-4ed9-e5b6-41d93656478c"
      },
      "execution_count": null,
      "outputs": [
        {
          "output_type": "execute_result",
          "data": {
            "text/plain": [
              "{'question': '현행 극저신용대출 심사기준은 무엇인가 answer in Korean',\n",
              " 'answer': '현행 극저신용대출 심사기준은 2020년 심사기준을 따르며, 심사기준은 차주 관련 기초현황점수와 심사점수로 구분되고 세부심사항목은 인구학적 정보와 경제상황을 포함한다. (석희정 외, 2020)\\n\\n',\n",
              " 'sources': '- 경기복지재단 사업결과 보고서 내부자료 (2021)\\n- 경기 복지재단 (['}"
            ]
          },
          "metadata": {},
          "execution_count": 251
        }
      ]
    },
    {
      "cell_type": "markdown",
      "source": [
        "VectorIndexCreator는 실제로 아래와 같은 과정을 한꺼번에 수행하는 Wrapper입니다."
      ],
      "metadata": {
        "id": "4YsXANJTNjdy"
      }
    },
    {
      "cell_type": "code",
      "source": [
        "pip install tiktoken openai langchain pypdf chromadb\n",
        "!pip install chromadb\n",
        "import os\n",
        "os.environ[\"OPENAI_API_KEY\"] = 'OPENAI_API_KEY'\n",
        "\n",
        "from google.colab import drive\n",
        "drive.mount('/content/drive')"
      ],
      "metadata": {
        "id": "5Vc7Tnzt6nZm"
      },
      "execution_count": null,
      "outputs": []
    },
    {
      "cell_type": "code",
      "source": [
        "from langchain.document_loaders import PyPDFLoader\n",
        "from langchain.text_splitter import RecursiveCharacterTextSplitter\n",
        "loader = PyPDFLoader(\"/content/drive/MyDrive/강의 자료/[복지이슈 FOCUS 15ȣ] 경기도 극저신용대출심사모형 개발을 위한 국내 신용정보 활용가능성 탐색.pdf\")\n",
        "documents = loader.load()\n",
        "\n",
        "text_splitter = RecursiveCharacterTextSplitter.from_tiktoken_encoder(chunk_size=1000, chunk_overlap=0)\n",
        "texts = text_splitter.split_documents(documents)"
      ],
      "metadata": {
        "id": "AugeqcTSJSti"
      },
      "execution_count": null,
      "outputs": []
    },
    {
      "cell_type": "code",
      "source": [
        "from langchain.embeddings import OpenAIEmbeddings\n",
        "from langchain.vectorstores import Chroma\n",
        "\n",
        "embeddings = OpenAIEmbeddings()\n",
        "db = Chroma.from_documents(texts, embeddings)"
      ],
      "metadata": {
        "id": "3bc85BZGN1Hd"
      },
      "execution_count": null,
      "outputs": []
    },
    {
      "cell_type": "code",
      "source": [
        "retriever = db.as_retriever()"
      ],
      "metadata": {
        "id": "Zp0Yl7jHN2qS"
      },
      "execution_count": null,
      "outputs": []
    },
    {
      "cell_type": "code",
      "source": [
        "from langchain.chains import RetrievalQA\n",
        "from langchain.chat_models  import ChatOpenAI\n",
        "\n",
        "llm = ChatOpenAI(\n",
        "    model_name='gpt-3.5-turbo',\n",
        ")\n",
        "\n",
        "qa = RetrievalQA.from_chain_type(llm=llm, chain_type=\"stuff\", retriever=retriever, return_source_documents = True)"
      ],
      "metadata": {
        "id": "CtP48mUtOHZS"
      },
      "execution_count": null,
      "outputs": []
    },
    {
      "cell_type": "code",
      "source": [
        "def process_response(llm_response):\n",
        "  print(llm_response['result'])\n",
        "  print('\\n\\n출처:')\n",
        "  for source in llm_response['source_documents']:\n",
        "    print(source.metadata['source'])"
      ],
      "metadata": {
        "id": "HI5CnZKkE7_j"
      },
      "execution_count": null,
      "outputs": []
    },
    {
      "cell_type": "code",
      "source": [
        "response"
      ],
      "metadata": {
        "colab": {
          "base_uri": "https://localhost:8080/",
          "height": 178
        },
        "id": "4g2KSGyOWuH7",
        "outputId": "32164866-d589-4ee6-f42a-711b9cc7c371"
      },
      "execution_count": null,
      "outputs": [
        {
          "output_type": "error",
          "ename": "NameError",
          "evalue": "ignored",
          "traceback": [
            "\u001b[0;31m---------------------------------------------------------------------------\u001b[0m",
            "\u001b[0;31mNameError\u001b[0m                                 Traceback (most recent call last)",
            "\u001b[0;32m<ipython-input-1-ab0153f39f33>\u001b[0m in \u001b[0;36m<cell line: 1>\u001b[0;34m()\u001b[0m\n\u001b[0;32m----> 1\u001b[0;31m \u001b[0mresponse\u001b[0m\u001b[0;34m\u001b[0m\u001b[0;34m\u001b[0m\u001b[0m\n\u001b[0m",
            "\u001b[0;31mNameError\u001b[0m: name 'response' is not defined"
          ]
        }
      ]
    },
    {
      "cell_type": "code",
      "source": [
        "query = \"현행 극저신용대출 심사기준은 무엇인가 answer in Korean\"\n",
        "response = qa(query)\n",
        "process_response(response)"
      ],
      "metadata": {
        "colab": {
          "base_uri": "https://localhost:8080/"
        },
        "id": "oJ0M2xtFOKRn",
        "outputId": "28590b6e-1e24-4735-e1b9-daba48d37f43"
      },
      "execution_count": null,
      "outputs": [
        {
          "output_type": "stream",
          "name": "stdout",
          "text": [
            "현행 극저신용대출 심사기준은 차주 관련 기초현황점수와 심사점수로 구분되어 있습니다. 차주의 인구학적 정보(성별, 연령, 거주지, 직업, 가구원, 주거형태)와 경제상황(정부지원 여부, 소득유무) 등을 포함한 다양한 심사항목을 기준으로 심사가 이루어지고 있습니다. 더 자세한 내용은 현장공감 경기복지재단의 사업결과 보고서 내부자료를 참고하시기 바랍니다.\n",
            "\n",
            "\n",
            "출처:\n",
            "/content/drive/MyDrive/강의 자료/[복지이슈 FOCUS 15ȣ] 경기도 극저신용대출심사모형 개발을 위한 국내 신용정보 활용가능성 탐색.pdf\n",
            "/content/drive/MyDrive/강의 자료/[복지이슈 FOCUS 15ȣ] 경기도 극저신용대출심사모형 개발을 위한 국내 신용정보 활용가능성 탐색.pdf\n",
            "/content/drive/MyDrive/강의 자료/[복지이슈 FOCUS 15ȣ] 경기도 극저신용대출심사모형 개발을 위한 국내 신용정보 활용가능성 탐색.pdf\n",
            "/content/drive/MyDrive/강의 자료/[복지이슈 FOCUS 15ȣ] 경기도 극저신용대출심사모형 개발을 위한 국내 신용정보 활용가능성 탐색.pdf\n"
          ]
        }
      ]
    },
    {
      "cell_type": "markdown",
      "source": [
        "#### MultiQueryRetriever"
      ],
      "metadata": {
        "id": "A32WyjFba_Om"
      }
    },
    {
      "cell_type": "markdown",
      "source": [
        "사용자의 질문과 연관된 문서를 추출하기 위해 여러 쿼리를 자동으로 생성하여 검색하는 Retriver입니다. 질문의 의도는 하나지만, 표현이 여러개일 수 있는 것처럼, 연관된 문서 또한 여러 문서가 포함될 수 있습니다. MultiQueryRetriever는 자동으로 사용자 질문을 여러 표현으로 각색하고, 이를 통해 연관 문서를 여러개 추출합니다. 그리고 그 문서들을 활용해 더욱 높은 품질의 답변을 출력할 수 있습니다."
      ],
      "metadata": {
        "id": "qwcCYyCIbCwg"
      }
    },
    {
      "cell_type": "code",
      "source": [
        "from langchain.retrievers.multi_query import MultiQueryRetriever\n",
        "question=\"현행 극저신용대출 심사기준은 무엇인가 answer in Korean\"\n",
        "num_queries=3\n",
        "\n",
        "retriever_from_llm = MultiQueryRetriever.from_llm(retriever=db.as_retriever(),llm=llm)"
      ],
      "metadata": {
        "id": "htuLh07AOZNF"
      },
      "execution_count": null,
      "outputs": []
    },
    {
      "cell_type": "code",
      "source": [
        "unique_docs = retriever_from_llm.get_relevant_documents(question=question)\n",
        "len(unique_docs)"
      ],
      "metadata": {
        "colab": {
          "base_uri": "https://localhost:8080/"
        },
        "id": "8DhcbRPYTQoK",
        "outputId": "532386a0-429e-4e49-d9a9-d2528c975155"
      },
      "execution_count": null,
      "outputs": [
        {
          "output_type": "execute_result",
          "data": {
            "text/plain": [
              "7"
            ]
          },
          "metadata": {},
          "execution_count": 253
        }
      ]
    },
    {
      "cell_type": "code",
      "source": [
        "from langchain.retrievers.multi_query import MultiQueryRetriever\n",
        "question=\"금융이력부족자는 신용 대출 심사를 어떤 식으로 진행해야하나요? answer in Korean\"\n",
        "num_queries=3\n",
        "\n",
        "retriever_from_llm = MultiQueryRetriever.from_llm(retriever=db.as_retriever(),llm=llm)\n",
        "unique_docs = retriever_from_llm.get_relevant_documents(question=question)\n",
        "\n",
        "text_splitter = RecursiveCharacterTextSplitter.from_tiktoken_encoder(chunk_size=1000, chunk_overlap=0)\n",
        "texts = text_splitter.split_documents(unique_docs)\n",
        "\n",
        "embeddings = OpenAIEmbeddings()\n",
        "db = Chroma.from_documents(texts, embeddings)\n",
        "\n",
        "retriever_from_llm = MultiQueryRetriever.from_llm(retriever=db.as_retriever(),llm=llm)\n",
        "qa = RetrievalQA.from_chain_type(llm=llm, chain_type=\"stuff\", retriever=retriever_from_llm)\n",
        "\n",
        "qa.run(question)\n"
      ],
      "metadata": {
        "colab": {
          "base_uri": "https://localhost:8080/",
          "height": 72
        },
        "id": "iIA2Ff_1TV8K",
        "outputId": "a77c964a-0f27-44f7-bc0c-b134dcb717e7"
      },
      "execution_count": null,
      "outputs": [
        {
          "output_type": "execute_result",
          "data": {
            "text/plain": [
              "'금융이력부족자는 신용 대출 심사를 위해 다른 증빙자료나 보증인을 제출할 수 있습니다. 해당자의 자산이나 소득에 대한 정보를 확인하고, 추가적인 보증이나 담보를 요구할 수도 있습니다. 또한, 금융이력부족자를 위한 특별한 대출 상품이나 프로그램을 제공하는 기관을 찾아볼 수도 있습니다. 자세한 심사 방법은 해당 기관의 정책과 절차에 따라 달라질 수 있습니다.'"
            ],
            "application/vnd.google.colaboratory.intrinsic+json": {
              "type": "string"
            }
          },
          "metadata": {},
          "execution_count": 260
        }
      ]
    },
    {
      "cell_type": "code",
      "source": [
        "qa = RetrievalQA.from_chain_type(llm=llm, chain_type=\"stuff\", retriever=retriever_from_llm, return_source_documents=True)\n",
        "\n",
        "result = qa({\"query\": question})\n",
        "result"
      ],
      "metadata": {
        "id": "mnBfB3fEUlP6"
      },
      "execution_count": null,
      "outputs": []
    },
    {
      "cell_type": "code",
      "source": [
        "result"
      ],
      "metadata": {
        "colab": {
          "base_uri": "https://localhost:8080/"
        },
        "id": "PPaX1UWoVPHr",
        "outputId": "adeeb604-33ab-4bba-ac43-7b73f86207fb"
      },
      "execution_count": null,
      "outputs": [
        {
          "output_type": "execute_result",
          "data": {
            "text/plain": [
              "{'query': '금융이력부족자는 신용 대출 심사를 어떤 식으로 진행해야하나요? answer in Korean',\n",
              " 'result': '금융이력부족자의 경우, 현재 경기 극저신용대출사업이 유일한 대출 혜택을 받을 수 있는 상황입니다. 따라서, 해당 대출사업을 통해 대출을 신청하고 심사절차를 거쳐 대출 가능 여부를 판단합니다. 대출금액과 이자율은 심사결과에 따라 결정되며, 대출금액은 최소 50만 원에서 최대 300만 원까지 지원될 수 있습니다. 이자율은 연 1%로 적용되며, 5년 내에 상환해야합니다. 총 참여자 수는 58,914명이며, 경제적 취약계층에게 447억원의 대출이 실행되었습니다. 따라서, 금융이력부족자는 경기 극저신용대출사업을 통해 대출을 진행할 수 있습니다.',\n",
              " 'source_documents': [Document(page_content='현장공감 경기복지재단 05\\nⅠ. 경기도 극저신용대출심사모형 개발의 필요성대출의 경우 신용점수 하위 30%( 기존 5등급이하 ) 차주 중 중신용층에게 유리한 공급 \\n개선방안을 제시함 (금융위원회 , 2021)\\n-상대적으로 불량률과 연체율이 높은 7등급 이하 저신용자들은 부실위험이 높다는 이유\\n로 여전히 정부와 금융권의 금융거래 기피대상으로 분류되어 실질적인 대출 혜택이 불\\n가능한 상황이며 저신용 금융취약도민이 거의 유일하게 이용할 수 있는 제도권 금융상\\n품은 극저신용대출사업뿐임 (석희정 외, 2021)\\n내용 1차(2020 년 4월∽) 2차(2020 년 7월∽) 3차(2020 년 10월∽)\\n대출금액긴급(무심사 )(50만 원)\\n일반(심사)(300 만 원)무심사 (50만 원)\\n심사(300만 원)\\n불법사금융 피해자 (최대 300만 원)고금리 이용자 (300만 원)\\n2030 청년(300만 원)\\n심사(300만 원 한도)\\n이자율 연 1%\\n자료: 경기복지재단 사업결과 보고서 내부자료 (2021)<표 1> 2020 년도 경기 극저신용대출 차수별 지원내용', metadata={'source': '/content/drive/MyDrive/강의 자료/[복지이슈 FOCUS 15ȣ] 경기도 극저신용대출심사모형 개발을 위한 국내 신용정보 활용가능성 탐색.pdf', 'page': 4}),\n",
              "  Document(page_content='현장공감 경기복지재단 07\\nⅠ. 경기도 극저신용대출심사모형 개발의 필요성◯도내 저신용 ･저소득층의 극저신용대출 수요증대에 따라 대출신청 시 금융 및 비\\n금융 정보수집에 기반한 변별력을 갖춘 심사체계 마련이 요구되는 상황\\n-경기극저신용대출은 기존 신용평가체계 (10등급 기준)를 활용하여 신용정보회사 (NICE, \\nKCB) 에서 제공하는 10등급 기준 7등급 이하의 극저신용자를 모집단으로 설정, 극저신\\n용대출 수행기관 (사회연대은행 , 주빌리은행 , 지역자활협회 )을 통해 신청 및 심사절차를 \\n거쳐 최종 대상자를 선정함\\n-현행 극저신용대출 심사기준 (2020) 에 따르면 차주 관련 기초현황점수 (정량지표 , 55점)\\n와 심사점수 (정성지표 , 45점)로 구분되어 있고, 심사기준별 세부심사항목은 인구학적 \\n정보(성별, 연령, 거주지 , 직업, 가구원 , 주거형태 ), 경제상황 (정부지원 여부, 소득유무 ,', metadata={'source': '/content/drive/MyDrive/강의 자료/[복지이슈 FOCUS 15ȣ] 경기도 극저신용대출심사모형 개발을 위한 국내 신용정보 활용가능성 탐색.pdf', 'page': 6}),\n",
              "  Document(page_content='-1차년도 극저신용대출사업은 총 3차에 걸쳐 차수별 대출금액과 지원대상을 구분하여 \\n최소 50만원 무심사 대출에서 최대 300만원 한도 연 1% 금리, 5년 만기 상환방식으\\n로 설계되어 총 58,914 명의 극저신용층 및 경제적 취약계층에게 447억원 대출 실행\\n(석희정 외, 2021)\\n-극저신용대출사업 실행 2년 차에 접어든 올해도 가계재무 악화에 따른 현금유동성 경\\n직으로 극저신용대출에 참여한 도민 총 84,414 명(‘21.12 월기준 )에게 저금리 금융대출\\n을 지속적 공급 확대\\n◯경기도의 선도적인 서민금융정책으로써 극저신용대출사업은 정부와 금융권 신용\\n대출제도로부터 배제된 저신용층을 위한 유일한 저금리 금융대출 공급망\\n-경기극저신용대출은 저신용 및 저소득층의 금융접근성과 기본권을 보장하기 위해 경기\\n도의 공공재정을 투입하여 신청자에 대한 객관적 심사절차를 걸쳐 소액대출을 실행하는 \\n포용금융의 성격', metadata={'source': '/content/drive/MyDrive/강의 자료/[복지이슈 FOCUS 15ȣ] 경기도 극저신용대출심사모형 개발을 위한 국내 신용정보 활용가능성 탐색.pdf', 'page': 3}),\n",
              "  Document(page_content='◯경기도 극저신용대출사업 참여자는 저신용 부실위험군인 동시에 정부와 금융권 \\n등 제도권 지원으로부터 배제된 금융복지사각지대\\n-1차년도 (’20년) 경기극저신용대출 참여자 특성을 살펴본 결과, 연령분포는 경제활동인\\n구에 해당되는 40대와 50대(각 29.0%, 26.8%) 가 가장 많았고 , 직업유형은 직장인\\n(34.2%) 과 무직(주부 포함, 28.9%) 순으로 나타남\\n-<그림 1> 참여자의 연령분포 (n=58,914) <그림 2> 참여자의 직업구성 (n=30,926)\\n자료: 경기도 극저신용대출사업 참여자 특성 분석(석희정 외, 2021)', metadata={'source': '/content/drive/MyDrive/강의 자료/[복지이슈 FOCUS 15ȣ] 경기도 극저신용대출심사모형 개발을 위한 국내 신용정보 활용가능성 탐색.pdf', 'page': 4}),\n",
              "  Document(page_content='-특히 중앙정부에서 실행하는 서민금융대출제도는 주로 신용등급기준 4~6등급에 해당되\\n는 중신용층이 주요 정책대상으로 지원하는 반면, 7등급 이하 극저신용층을 위한 소액\\n대출상품은 지자체 차원에서 경기도 극저신용대출 이외는 전무한 상태\\n-최근 정부와 금융권에서 발표한 중･저신용층을 위한 중금리대출 개선방안도 중신용층의 \\n대출공급 (사잇돌대출 , 민간중금리대출 ) 확대에 집중되어 신용점수 요건을 신설한 사잇돌', metadata={'source': '/content/drive/MyDrive/강의 자료/[복지이슈 FOCUS 15ȣ] 경기도 극저신용대출심사모형 개발을 위한 국내 신용정보 활용가능성 탐색.pdf', 'page': 3})]}"
            ]
          },
          "metadata": {},
          "execution_count": 263
        }
      ]
    },
    {
      "cell_type": "code",
      "source": [],
      "metadata": {
        "id": "3-DeZkOIViGI"
      },
      "execution_count": null,
      "outputs": []
    }
  ]
}