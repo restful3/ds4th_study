{
 "cells": [
  {
   "cell_type": "markdown",
   "id": "f5b2edad",
   "metadata": {},
   "source": [
    "# 라이브러리 불러오기"
   ]
  },
  {
   "cell_type": "code",
   "execution_count": 15,
   "id": "3d74c21a",
   "metadata": {},
   "outputs": [],
   "source": [
    "import openai\n",
    "import os\n",
    "\n",
    "from dotenv import load_dotenv, find_dotenv\n",
    "_ = load_dotenv(find_dotenv()) # read local .env file\n",
    "\n",
    "openai.api_key  = os.getenv('OPENAI_API_KEY')"
   ]
  },
  {
   "cell_type": "markdown",
   "id": "92bf9651",
   "metadata": {},
   "source": [
    "# Text Spliter\n",
    "- Text Spliter는 특정 기준을 통해 텍스트를 청크로 나누는 모듈\n",
    "- CharacterTextSpliter는 특정 구분자를 기준으로 분할\n",
    "- 토큰 제한 이슈를 우회하여 context 학습 가능"
   ]
  },
  {
   "cell_type": "markdown",
   "id": "b72056fb",
   "metadata": {},
   "source": [
    "# CharacterTextSpliter\n",
    "- 가장 간당한 텍스트 분할기\n",
    "- 특정 구분자를 기준으로 텍스트를 여러개로 분할"
   ]
  },
  {
   "cell_type": "code",
   "execution_count": 12,
   "id": "4ce7d26d",
   "metadata": {},
   "outputs": [
    {
     "name": "stdout",
     "output_type": "stream",
     "text": [
      "'[이슈리포트 2022-2호] 혁신성장 정책금융 동향.pdf'\r\n",
      "'최종 필터링 데이터 (호텔, 지형) - 시트3 (1).csv'\r\n",
      " BOK이슈노트제2023-26호.pdf\r\n",
      " 해커톤.docx\r\n",
      "'[복지이슈 FOCUS 15ȣ] 경기도 극저신용대출심사모형 개발을 위한 국내 신용정보 활용가능성 탐색.pdf'\r\n",
      " 국문_MS_Word_파일_DOC_202402.docx\r\n",
      " state_of_the_union.txt\r\n",
      " titanic.csv\r\n",
      " Transformer_paper.pdf\r\n"
     ]
    }
   ],
   "source": [
    "!ls data"
   ]
  },
  {
   "cell_type": "code",
   "execution_count": 14,
   "id": "c0f3c0f9",
   "metadata": {},
   "outputs": [],
   "source": [
    "with open('./data/state_of_the_union.txt') as f:\n",
    "    state_of_the_union = f.read()"
   ]
  },
  {
   "cell_type": "code",
   "execution_count": 20,
   "id": "a9a12a53",
   "metadata": {},
   "outputs": [],
   "source": [
    "from langchain.text_splitter import CharacterTextSplitter\n",
    "text_splitter = CharacterTextSplitter(\n",
    "    separator = \"\\n\\n\",\n",
    "    chunk_size = 1000,\n",
    "    chunk_overlap = 100,\n",
    "    length_function = len,\n",
    ")"
   ]
  },
  {
   "cell_type": "code",
   "execution_count": 21,
   "id": "ce90a695",
   "metadata": {},
   "outputs": [
    {
     "name": "stderr",
     "output_type": "stream",
     "text": [
      "Created a chunk of size 1163, which is longer than the specified 1000\n",
      "Created a chunk of size 1015, which is longer than the specified 1000\n"
     ]
    }
   ],
   "source": [
    "texts = text_splitter.split_text(state_of_the_union)"
   ]
  },
  {
   "cell_type": "code",
   "execution_count": 23,
   "id": "dbd2f869",
   "metadata": {},
   "outputs": [
    {
     "name": "stdout",
     "output_type": "stream",
     "text": [
      "Madame Speaker, Vice President Biden, members of Congress, distinguished guests, and fellow Americans:\n",
      "\n",
      "Our Constitution declares that from time to time, the president shall give to Congress information about the state of our union. For 220 years, our leaders have fulfilled this duty. They have done so during periods of prosperity and tranquility. And they have done so in the midst of war and depression; at moments of great strife and great struggle.\n",
      "----------------------------------------------------------------------------------------------------\n",
      "It's tempting to look back on these moments and assume that our progress was inevitable, that America was always destined to succeed. But when the Union was turned back at Bull Run and the Allies first landed at Omaha Beach, victory was very much in doubt. When the market crashed on Black Tuesday and civil rights marchers were beaten on Bloody Sunday, the future was anything but certain. These were times that tested the courage of our convictions and the strength of our union. And despite all our divisions and disagreements, our hesitations and our fears, America prevailed because we chose to move forward as one nation and one people.\n",
      "\n",
      "Again, we are tested. And again, we must answer history's call.\n",
      "----------------------------------------------------------------------------------------------------\n",
      "Again, we are tested. And again, we must answer history's call.\n",
      "\n",
      "One year ago, I took office amid two wars, an economy rocked by severe recession, a financial system on the verge of collapse and a government deeply in debt. Experts from across the political spectrum warned that if we did not act, we might face a second depression. So we acted immediately and aggressively. And one year later, the worst of the storm has passed.\n",
      "\n",
      "But the devastation remains. One in 10 Americans still cannot find work. Many businesses have shuttered. Home values have declined. Small towns and rural communities have been hit especially hard. For those who had already known poverty, life has become that much harder.\n",
      "\n",
      "This recession has also compounded the burdens that America's families have been dealing with for decades -- the burden of working harder and longer for less, of being unable to save enough to retire or help kids with college.\n",
      "----------------------------------------------------------------------------------------------------\n"
     ]
    }
   ],
   "source": [
    "print(texts[0])\n",
    "print('-'*100)\n",
    "print(texts[1])\n",
    "print('-'*100)\n",
    "print(texts[2])\n",
    "print('-'*100)"
   ]
  },
  {
   "cell_type": "markdown",
   "id": "5ad83be5",
   "metadata": {},
   "source": [
    "- chunk size 확인"
   ]
  },
  {
   "cell_type": "code",
   "execution_count": 24,
   "id": "d7ca7ba1",
   "metadata": {},
   "outputs": [
    {
     "name": "stdout",
     "output_type": "stream",
     "text": [
      "[454, 707, 930, 848, 896, 818, 846, 892, 813, 721, 730, 919, 996, 926, 839, 900, 850, 529, 614, 493, 582, 746, 1163, 878, 483, 607, 740, 419, 902, 794, 714, 416, 894, 917, 934, 711, 548, 506, 784, 948, 619, 669, 510, 1015, 714, 527, 701, 597, 436, 750, 558, 992, 920, 786, 790]\n"
     ]
    }
   ],
   "source": [
    "char_list = []\n",
    "for i in range(len(texts)):\n",
    "    char_list.append(len(texts[i]))\n",
    "print(char_list)"
   ]
  },
  {
   "cell_type": "code",
   "execution_count": 25,
   "id": "90ef5924",
   "metadata": {},
   "outputs": [
    {
     "name": "stderr",
     "output_type": "stream",
     "text": [
      "Created a chunk of size 1163, which is longer than the specified 1000\n",
      "Created a chunk of size 1015, which is longer than the specified 1000\n"
     ]
    },
    {
     "data": {
      "text/plain": [
       "[Document(page_content='Madame Speaker, Vice President Biden, members of Congress, distinguished guests, and fellow Americans:\\n\\nOur Constitution declares that from time to time, the president shall give to Congress information about the state of our union. For 220 years, our leaders have fulfilled this duty. They have done so during periods of prosperity and tranquility. And they have done so in the midst of war and depression; at moments of great strife and great struggle.'),\n",
       " Document(page_content=\"It's tempting to look back on these moments and assume that our progress was inevitable, that America was always destined to succeed. But when the Union was turned back at Bull Run and the Allies first landed at Omaha Beach, victory was very much in doubt. When the market crashed on Black Tuesday and civil rights marchers were beaten on Bloody Sunday, the future was anything but certain. These were times that tested the courage of our convictions and the strength of our union. And despite all our divisions and disagreements, our hesitations and our fears, America prevailed because we chose to move forward as one nation and one people.\\n\\nAgain, we are tested. And again, we must answer history's call.\"),\n",
       " Document(page_content=\"Again, we are tested. And again, we must answer history's call.\\n\\nOne year ago, I took office amid two wars, an economy rocked by severe recession, a financial system on the verge of collapse and a government deeply in debt. Experts from across the political spectrum warned that if we did not act, we might face a second depression. So we acted immediately and aggressively. And one year later, the worst of the storm has passed.\\n\\nBut the devastation remains. One in 10 Americans still cannot find work. Many businesses have shuttered. Home values have declined. Small towns and rural communities have been hit especially hard. For those who had already known poverty, life has become that much harder.\\n\\nThis recession has also compounded the burdens that America's families have been dealing with for decades -- the burden of working harder and longer for less, of being unable to save enough to retire or help kids with college.\"),\n",
       " Document(page_content=\"So I know the anxieties that are out there right now. They're not new. These struggles are the reason I ran for president. These struggles are what I've witnessed for years in places like Elkhart, Ind., and Galesburg, Ill. I hear about them in the letters that I read each night. The toughest to read are those written by children asking why they have to move from their home, or when their mom or dad will be able to go back to work.\\n\\nFor these Americans and so many others, change has not come fast enough. Some are frustrated; some are angry. They don't understand why it seems like bad behavior on Wall Street is rewarded but hard work on Main Street isn't, or why Washington has been unable or unwilling to solve any of our problems. They are tired of the partisanship and the shouting and the pettiness. They know we can't afford it. Not now.\"),\n",
       " Document(page_content='So we face big and difficult challenges. And what the American people hope what they deserve is for all of us, Democrats and Republicans, to work through our differences, to overcome the numbing weight of our politics. For while the people who sent us here have different backgrounds, different stories and different beliefs, the anxieties they face are the same. The aspirations they hold are shared: a job that pays the bills, a chance to get ahead. Most of all, the ability to give their children a better life.\\n\\nYou know what else they share? They share a stubborn resilience in the face of adversity. After one of the most difficult years in our history, they remain busy building cars and teaching kids, starting businesses and going back to school. They\\'re coaching Little League and helping their neighbors. As one woman wrote me, \"We are strained but hopeful, struggling but encouraged.\"'),\n",
       " Document(page_content=\"It is because of this spirit, this great decency and great strength that I have never been more hopeful about America's future than I am tonight. Despite our hardships, our union is strong. We do not give up. We do not quit. We do not allow fear or division to break our spirit. In this new decade, it's time the American people get a government that matches their decency, that embodies their strength.\\n\\nAnd tonight, I'd like to talk about how together, we can deliver on that promise.\\n\\nIt begins with our economy.\\n\\nOur most urgent task upon taking office was to shore up the same banks that helped cause this crisis. It was not easy to do. And if there's one thing that has unified Democrats and Republicans, it's that we all hated the bank bailout. I hated it. You hated it. It was about as popular as a root canal.\"),\n",
       " Document(page_content=\"But when I ran for president, I promised I wouldn't just do what was popular -- I would do what was necessary. And if we had allowed the meltdown of the financial system, unemployment might be double what it is today. More businesses would certainly have closed. More homes would have surely been lost.\\n\\nSo I supported the last administration's efforts to create the financial rescue program. And when we took the program over, we made it more transparent and accountable. As a result, the markets are now stabilized, and we have recovered most of the money we spent on the banks.\\n\\nTo recover the rest, I have proposed a fee on the biggest banks. I know Wall Street isn't keen on this idea, but if these firms can afford to hand out big bonuses again, they can afford a modest fee to pay back the taxpayers who rescued them in their time of need.\"),\n",
       " Document(page_content=\"As we stabilized the financial system, we also took steps to get our economy growing again, save as many jobs as possible and help Americans who had become unemployed.\\n\\nThat's why we extended or increased unemployment benefits for more than 18 million Americans, made health insurance 65 percent cheaper for families who get their coverage through COBRA and passed 25 different tax cuts.\\n\\nLet me repeat: we cut taxes. We cut taxes for 95 percent of working families. We cut taxes for small businesses. We cut taxes for first-time homebuyers. We cut taxes for parents trying to care for their children. We cut taxes for 8 million Americans paying for college. As a result, millions of Americans had more to spend on gas, and food and other necessities, all of which helped businesses keep more workers. And we haven't raised income taxes by a single dime on a single person. Not a single dime.\"),\n",
       " Document(page_content=\"Because of the steps we took, there are about 2 million Americans working right now who would otherwise be unemployed -- 200,000 work in construction and clean energy, 300,000 are teachers and other education workers, tens of thousands are cops, firefighters, correctional officers and first responders. And we are on track to add another one-and-a-half-million jobs to this total by the end of the year.\\n\\nThe plan that has made all of this possible, from the tax cuts to the jobs, is the Recovery Act. That's right -- the Recovery Act, also known as the stimulus bill. Economists on the left and the right say that this bill has helped saved jobs and avert disaster. But you don't have to take their word for it.\\n\\nTalk to the small business in Phoenix that will triple its work force because of the Recovery Act.\"),\n",
       " Document(page_content=\"Talk to the small business in Phoenix that will triple its work force because of the Recovery Act.\\n\\nTalk to the window manufacturer in Philadelphia who said he used to be skeptical about the Recovery Act, until he had to add two more work shifts just because of the business it created.\\n\\nTalk to the single teacher raising two kids who was told by her principal in the last week of school that because of the Recovery Act, she wouldn't be laid off after all.\\n\\nThere are stories like this all across America. And after two years of recession, the economy is growing again. Retirement funds have started to gain back some of their value. Businesses are beginning to invest again, and slowly some are starting to hire again.\"),\n",
       " Document(page_content=\"But I realize that for every success story, there are other stories, of men and women who wake up with the anguish of not knowing where their next paycheck will come from -- who send out resumes week after week and hear nothing in response. That is why jobs must be our number one focus in 2010, and that is why I am calling for a new jobs bill tonight.\\n\\nNow, the true engine of job creation in this country will always be America's businesses. But government can create the conditions necessary for businesses to expand and hire more workers.\\n\\nWe should start where most new jobs do -- in small businesses, companies that begin when an entrepreneur takes a chance on a dream or a worker decides it's time she became her own boss.\"),\n",
       " Document(page_content=\"Through sheer grit and determination, these companies have weathered the recession and are ready to grow. But when you talk to small business owners in places like Allentown, Pa., or Elyria, Ohio, you find out that even though banks on Wall Street are lending again, they are mostly lending to bigger companies. But financing remains difficult for small business owners across the country.\\n\\nSo tonight, I'm proposing that we take $30 billion of the money Wall Street banks have repaid and use it to help community banks give small businesses the credit they need to stay afloat. I am also proposing a new small business tax credit -- one that will go to over 1 million small businesses who hire new workers or raise wages. While we're at it, let's also eliminate all capital gains taxes on small business investment and provide a tax incentive for all businesses, large and small, to invest in new plants and equipment.\"),\n",
       " Document(page_content=\"Next, we can put Americans to work today building the infrastructure of tomorrow. From the first railroads to the interstate highway system, our nation has always been built to compete. There's no reason Europe or China should have the fastest trains or the new factories that manufacture clean energy products.\\n\\nTomorrow, I'll visit Tampa, Fla., where workers will soon break ground on a new high-speed railroad funded by the Recovery Act. There are projects like that all across this country that will create jobs and help our nation move goods, services and information. We should put more Americans to work building clean energy facilities and give rebates to Americans who make their homes more energy efficient, which supports clean energy jobs. And to encourage these and other businesses to stay within our borders, it's time to finally slash the tax breaks for companies that ship our jobs overseas and give those tax breaks to companies that create jobs in the United States of America.\"),\n",
       " Document(page_content=\"The House has passed a jobs bill that includes some of these steps. As the first order of business this year, I urge the Senate to do the same. People are out of work. They are hurting. They need our help. And I want a jobs bill on my desk without delay.\\n\\nBut the truth is, these steps still won't make up for the 7 million jobs we've lost over the last two years. The only way to move to full employment is to lay a new foundation for long-term economic growth and finally address the problems that America's families have confronted for years.\\n\\nWe cannot afford another so-called economic expansion like the one from last decade -- what some call the lost decade -- where jobs grew more slowly than during any prior expansion, where the income of the average American household declined while the cost of health care and tuition reached record highs, where prosperity was built on a housing bubble and financial speculation.\"),\n",
       " Document(page_content=\"From the day I took office, I have been told that addressing our larger challenges is too ambitious -- that such efforts would be too contentious, that our political system is too gridlocked and that we should just put things on hold for a while.\\n\\nFor those who make these claims, I have one simple question:\\n\\nHow long should we wait? How long should America put its future on hold?\\n\\nYou see, Washington has been telling us to wait for decades, even as the problems have grown worse. Meanwhile, China's not waiting to revamp its economy; Germany's not waiting; India's not waiting. These nations aren't standing still. These nations aren't playing for second place. They're putting more emphasis on math and science. They're rebuilding their infrastructure. They are making serious investments in clean energy because they want those jobs.\"),\n",
       " Document(page_content=\"Well I do not accept second place for the United States of America. As hard as it may be, as uncomfortable and contentious as the debates may be, it's time to get serious about fixing the problems that are hampering our growth.\\n\\nOne place to start is serious financial reform. Look, I am not interested in punishing banks, I'm interested in protecting our economy. A strong, healthy financial market makes it possible for businesses to access credit and create new jobs. It channels the savings of families into investments that raise incomes. But that can only happen if we guard against the same recklessness that nearly brought down our entire economy.\\n\\nWe need to make sure consumers and middle class families have the information they need to make financial decisions. We can't allow financial institutions, including those that take your deposits, to take risks that threaten the whole economy.\"),\n",
       " Document(page_content=\"The House has already passed financial reform with many of these changes. And the lobbyists are already trying to kill it. Well, we cannot let them win this fight. And if the bill that ends up on my desk does not meet the test of real reform, I will send it back.\\n\\nNext, we need to encourage American innovation. Last year, we made the largest investment in basic research funding in history -- an investment that could lead to the world's cheapest solar cells or treatment that kills cancer cells but leaves healthy ones untouched. And no area is more ripe for such innovation than energy. You can see the results of last year's investment in clean energy -- in the North Carolina company that will create 1,200 jobs nationwide helping to make advanced batteries, or in the California business that will put 1,000 people to work making solar panels.\"),\n",
       " Document(page_content='But to create more of these clean energy jobs, we need more production, more efficiency, more incentives. That means building a new generation of safe, clean nuclear power plants in this country. It means making tough decisions about opening new offshore areas for oil and gas development. It means continued investment in advanced biofuels and clean coal technologies. And yes, it means passing a comprehensive energy and climate bill with incentives that will finally make clean energy the profitable kind of energy in America.'),\n",
       " Document(page_content='I am grateful to the House for passing such a bill last year. This year, I am eager to help advance the bipartisan effort in the Senate. I know there have been questions about whether we can afford such changes in a tough economy, and I know that there are those who disagree with the overwhelming scientific evidence on climate change. But even if you doubt the evidence, providing incentives for energy efficiency and clean energy are the right thing to do for our future -- because the nation that leads the clean energy economy will be the nation that leads the global economy. And America must be that nation.'),\n",
       " Document(page_content=\"Third, we need to export more of our goods. Because the more products we make and sell to other countries, the more jobs we support right here in America. So tonight, we set a new goal: We will double our exports over the next five years, an increase that will support 2 million jobs in America. To help meet this goal, we're launching a national export initiative that will help farmers and small businesses increase their exports and reform export controls consistent with national security.\"),\n",
       " Document(page_content=\"We have to seek new markets aggressively, just as our competitors are. If America sits on the sidelines while other nations sign trade deals, we will lose the chance to create jobs on our shores. But realizing those benefits also means enforcing those agreements so our trading partners play by the rules. And that's why we will continue to shape a Doha trade agreement that opens global markets, and why we will strengthen our trade relations in Asia and with key partners like South Korea, Panama and Colombia.\\n\\nFourth, we need to invest in the skills and education of our people.\"),\n",
       " Document(page_content='Fourth, we need to invest in the skills and education of our people.\\n\\nThis year, we have broken through the stalemate between left and right by launching a national competition to improve our schools. The idea here is simple: Instead of rewarding failure, we only reward success. Instead of funding the status quo, we only invest in reform -- reform that raises student achievement, inspires students to excel in math and science, and turns around failing schools that steal the future of too many young Americans, from rural communities to inner cities. In the 21st century, one of the best anti-poverty programs is a world-class education. In this country, the success of our children cannot depend more on where they live than their potential.'),\n",
       " Document(page_content=\"When we renew the Elementary and Secondary Education Act, we will work with Congress to expand these reforms to all 50 states. Still, in this economy, a high school diploma no longer guarantees a good job. I urge the Senate to follow the House and pass a bill that will revitalize our community colleges, which are a career pathway to the children of so many working families. To make college more affordable, this bill will finally end the unwarranted taxpayer subsidies that go to banks for student loans. Instead, let's take that money and give families a $10,000 tax credit for four years of college and increase Pell Grants. And let's tell another 1 million students that when they graduate, they will be required to pay only 10 percent of their income on student loans, and all of their debt will be forgiven after 20 years -- and forgiven after 10 years if they choose a career in public service. Because in the United States of America, no one should go broke because they chose to go to college. And it's time for colleges and universities to get serious about cutting their own costs -- because they too have a responsibility to help solve this problem.\"),\n",
       " Document(page_content=\"Now, the price of college tuition is just one of the burdens facing the middle class. That's why last year I asked Vice President Biden to chair a task force on middle class families. That's why we're nearly doubling the child care tax credit, and making it easier to save for retirement by giving every worker access to a retirement account and expanding the tax credit for those who start a nest egg. That's why we're working to lift the value of a family's single largest investment -- their home. The steps we took last year to shore up the housing market have allowed millions of Americans to take out new loans and save an average of $1,500 on mortgage payments. This year, we will step up refinancing so that homeowners can move into more affordable mortgages. And it is precisely to relieve the burden on middle-class families that we still need health insurance reform.\"),\n",
       " Document(page_content=\"Now let's be clear -- I did not choose to tackle this issue to get some legislative victory under my belt. And by now it should be fairly obvious that I didn't take on health care because it was good politics.\\n\\nI took on health care because of the stories I've heard from Americans with pre-existing conditions whose lives depend on getting coverage, patients who've been denied coverage and families -- even those with insurance -- who are just one illness away from financial ruin.\"),\n",
       " Document(page_content=\"After nearly a century of trying, we are closer than ever to bringing more security to the lives of so many Americans. The approach we've taken would protect every American from the worst practices of the insurance industry. It would give small businesses and uninsured Americans a chance to choose an affordable health care plan in a competitive market. It would require every insurance plan to cover preventive care. And by the way, I want to acknowledge our first lady, Michelle Obama, who this year is creating a national movement to tackle the epidemic of childhood obesity and make our kids healthier.\"),\n",
       " Document(page_content=\"Our approach would preserve the right of Americans who have insurance to keep their doctor and their plan. It would reduce costs and premiums for millions of families and businesses. And according to the Congressional Budget Office -- the independent organization that both parties have cited as the official scorekeeper for Congress -- our approach would bring down the deficit by as much as $1 trillion over the next two decades.\\n\\nStill, this is a complex issue, and the longer it was debated, the more skeptical people became. I take my share of the blame for not explaining it more clearly to the American people. And I know that with all the lobbying and horse trading, this process left most Americans wondering what's in it for them.\"),\n",
       " Document(page_content=\"But I also know this problem is not going away. By the time I'm finished speaking tonight, more Americans will have lost their health insurance. Millions will lose it this year. Our deficit will grow. Premiums will go up. Patients will be denied the care they need. Small business owners will continue to drop coverage altogether. I will not walk away from these Americans and neither should the people in this chamber.\"),\n",
       " Document(page_content=\"As temperatures cool, I want everyone to take another look at the plan we've proposed. There's a reason why many doctors, nurses and health care experts who know our system best consider this approach a vast improvement over the status quo. But if anyone from either party has a better approach that will bring down premiums, bring down the deficit, cover the uninsured, strengthen Medicare for seniors and stop insurance company abuses, let me know. Here's what I ask of Congress, though: Do not walk away from reform. Not now. Not when we are so close. Let us find a way to come together and finish the job for the American people.\\n\\nNow, even as health care reform would reduce our deficit, it's not enough to dig us out of a massive fiscal hole in which we find ourselves. It's a challenge that makes all others that much harder to solve, and one that's been subject to a lot of political posturing.\"),\n",
       " Document(page_content='So let me start the discussion of government spending by setting the record straight. At the beginning of the last decade, America had a budget surplus of over $200 billion. By the time I took office, we had a one year deficit of over $1 trillion and projected deficits of $8 trillion over the next decade. Most of this was the result of not paying for two wars, two tax cuts and an expensive prescription drug program. On top of that, the effects of the recession put a $3 trillion hole in our budget. That was before I walked in the door.\\n\\nNow if we had taken office in ordinary times, I would have liked nothing more than to start bringing down the deficit. But we took office amid a crisis, and our efforts to prevent a second depression have added another $1 trillion to our national debt.'),\n",
       " Document(page_content=\"I am absolutely convinced that was the right thing to do. But families across the country are tightening their belts and making tough decisions. The federal government should do the same. So tonight, I'm proposing specific steps to pay for the $1 trillion that it took to rescue the economy last year.\\n\\nStarting in 2011, we are prepared to freeze government spending for three years. Spending related to our national security, Medicare, Medicaid and Social Security will not be affected. But all other discretionary government programs will. Like any cash-strapped family, we will work within a budget to invest in what we need and sacrifice what we don't. And if I have to enforce this discipline by veto, I will.\"),\n",
       " Document(page_content=\"We will continue to go through the budget line by line to eliminate programs that we can't afford and don't work. We've already identified $20 billion in savings for next year. To help working families, we will extend our middle-class tax cuts. But at a time of record deficits, we will not continue tax cuts for oil companies, investment fund managers and those making over $250,000 a year. We just can't afford it.\"),\n",
       " Document(page_content=\"Now, even after paying for what we spent on my watch, we will still face the massive deficit we had when I took office. More importantly, the cost of Medicare, Medicaid and Social Security will continue to skyrocket. That's why I've called for a bipartisan fiscal commission, modeled on a proposal by Republican Judd Gregg and Democrat Kent Conrad. This can't be one of those Washington gimmicks that lets us pretend we solved a problem. The commission will have to provide a specific set of solutions by a certain deadline. Yesterday, the Senate blocked a bill that would have created this commission. So I will issue an executive order that will allow us to go forward, because I refuse to pass this problem on to another generation of Americans. And when the vote comes tomorrow, the Senate should restore the pay-as-you-go law that was a big reason why we had record surpluses in the 1990s.\"),\n",
       " Document(page_content=\"I know that some in my own party will argue that we cannot address the deficit or freeze government spending when so many are still hurting. I agree, which is why this freeze will not take effect until next year, when the economy is stronger. But understand -- if we do not take meaningful steps to rein in our debt, it could damage our markets, increase the cost of borrowing and jeopardize our recovery -- all of which could have an even worse effect on our job growth and family incomes.\\n\\nFrom some on the right, I expect we'll hear a different argument -- that if we just make fewer investments in our people, extend tax cuts for wealthier Americans, eliminate more regulations and maintain the status quo on health care, our deficits will go away. The problem is, that's what we did for eight years. That's what helped lead us into this crisis. It's what helped lead to these deficits. And we cannot do it again.\"),\n",
       " Document(page_content=\"Rather than fight the same tired battles that have dominated Washington for decades, it's time to try something new. Let's invest in our people without leaving them a mountain of debt. Let's meet our responsibility to the citizens who sent us here. Let's try common sense.\\n\\nTo do that, we have to recognize that we face more than a deficit of dollars right now. We face a deficit of trust -- deep and corrosive doubts about how Washington works that have been growing for years. To close that credibility gap we must take action on both ends of Pennsylvania Avenue to end the outsized influence of lobbyists; to do our work openly and to give our people the government they deserve.\\n\\nThat's what I came to Washington to do. That's why -- for the first time in history -- my administration posts our White House visitors online. And that's why we've excluded lobbyists from policymaking jobs or seats on federal boards and commissions.\"),\n",
       " Document(page_content=\"But we can't stop there. It's time to require lobbyists to disclose each contact they make on behalf of a client with my administration or Congress. And it's time to put strict limits on the contributions that lobbyists give to candidates for federal office. Last week, the Supreme Court reversed a century of law to open the floodgates for special interests -- including foreign corporations -- to spend without limit in our elections. Well, I don't think American elections should be bankrolled by America's most powerful interests, or worse, by foreign entities. They should be decided by the American people, and that's why I'm urging Democrats and Republicans to pass a bill that helps to right this wrong.\"),\n",
       " Document(page_content=\"I'm also calling on Congress to continue down the path of earmark reform. You have trimmed some of this spending and embraced some meaningful change. But restoring the public trust demands more. For example, some members of Congress post some earmark requests online. Tonight, I'm calling on Congress to publish all earmark requests on a single Web site before there's a vote, so that the American people can see how their money is being spent. Of course, none of these reforms will even happen if we don't also reform how we work with one another.\"),\n",
       " Document(page_content='Now, I am not naive. I never thought the mere fact of my election would usher in peace, harmony and some post-partisan era. I knew that both parties have fed divisions that are deeply entrenched. And on some issues, there are simply philosophical differences that will always cause us to part ways. These disagreements, about the role of government in our lives, about our national priorities and our national security, have been taking place for over 200 years. They are the very essence of our democracy.'),\n",
       " Document(page_content='But what frustrates the American people is a Washington where every day is election day. We cannot wage a perpetual campaign where the only goal is to see who can get the most embarrassing headlines about their opponent -- a belief that if you lose, I win. Neither party should delay or obstruct every single bill just because they can. The confirmation of well-qualified public servants should not be held hostage to the pet projects or grudges of a few individual senators. Washington may think that saying anything about the other side, no matter how false, is just part of the game. But it is precisely such politics that has stopped either party from helping the American people. Worse yet, it is sowing further division among our citizens and further distrust in our government.'),\n",
       " Document(page_content=\"So no, I will not give up on changing the tone of our politics. I know it's an election year. And after last week, it is clear that campaign fever has come even earlier than usual. But we still need to govern. To Democrats, I would remind you that we still have the largest majority in decades, and the people expect us to solve some problems, not run for the hills. And if the Republican leadership is going to insist that 60 votes in the Senate are required to do any business at all in this town, then the responsibility to govern is now yours as well. Just saying no to everything may be good short-term politics, but it's not leadership. We were sent here to serve our citizens, not our ambitions. So let's show the American people that we can do it together. This week, I'll be addressing a meeting of the House Republicans. And I would like to begin monthly meetings with both the Democratic and Republican leadership. I know you can't wait.\"),\n",
       " Document(page_content=\"Throughout our history, no issue has united this country more than our security. Sadly, some of the unity we felt after 9/11 has dissipated. We can argue all we want about who's to blame for this, but I am not interested in relitigating the past. I know that all of us love this country. All of us are committed to its defense. So let's put aside the schoolyard taunts about who is tough. Let's reject the false choice between protecting our people and upholding our values. Let's leave behind the fear and division and do what it takes to defend our nation and forge a more hopeful future -- for America and the world.\"),\n",
       " Document(page_content=\"That is the work we began last year. Since the day I took office, we have renewed our focus on the terrorists who threaten our nation. We have made substantial investments in our homeland security and disrupted plots that threatened to take American lives. We are filling unacceptable gaps revealed by the failed Christmas attack, with better airline security and swifter action on our intelligence. We have prohibited torture and strengthened partnerships from the Pacific to South Asia to the Arabian Peninsula. And in the last year, hundreds of al-Qaida's fighters and affiliates, including many senior leaders, have been captured or killed -- far more than in 2008.\"),\n",
       " Document(page_content='In Afghanistan, we are increasing our troops and training Afghan Security Forces so they can begin to take the lead in July of 2011 and our troops can begin to come home. We will reward good governance, reduce corruption and support the rights of all Afghans -- men and women alike. We are joined by allies and partners who have increased their own commitment, and who will come together tomorrow in London to reaffirm our common purpose. There will be difficult days ahead. But I am confident we will succeed.'),\n",
       " Document(page_content='As we take the fight to al-Qaida, we are responsibly leaving Iraq to its people. As a candidate, I promised that I would end this war, and that is what I am doing as president. We will have all of our combat troops out of Iraq by the end of this August. We will support the Iraqi government as they hold elections, and continue to partner with the Iraqi people to promote regional peace and prosperity. But make no mistake: This war is ending, and all of our troops are coming home. Tonight, all of our men and women in uniform -- in Iraq, Afghanistan and around the world -- must know that they have our respect, our gratitude and our full support. And just as they must have the resources they need in war, we all have a responsibility to support them when they come home. That is why we made the largest increase in investments for veterans in decades. That is why we are building a 21st century VA. And that is why Michelle has joined with Jill Biden to forge a national commitment to support military families.'),\n",
       " Document(page_content=\"Even as we prosecute two wars, we are also confronting perhaps the greatest danger to the American people -- the threat of nuclear weapons. I have embraced the vision of John F. Kennedy and Ronald Reagan through a strategy that reverses the spread of these weapons and seeks a world without them. To reduce our stockpiles and launchers, while ensuring our deterrent, the United States and Russia are completing negotiations on the farthest-reaching arms control treaty in nearly two decades. And at April's nuclear security summit, we will bring 44 nations together behind a clear goal: securing all vulnerable nuclear materials around the world in four years, so that they never fall into the hands of terrorists.\"),\n",
       " Document(page_content=\"These diplomatic efforts have also strengthened our hand in dealing with those nations that insist on violating international agreements in pursuit of these weapons. That is why North Korea now faces increased isolation and stronger sanctions -- sanctions that are being vigorously enforced. That is why the international community is more united, and the Islamic Republic of Iran is more isolated. And as Iran's leaders continue to ignore their obligations, there should be no doubt: They, too, will face growing consequences.\"),\n",
       " Document(page_content='That is the leadership that we are providing -- engagement that advances the common security and prosperity of all people. We are working through the G-20 to sustain a lasting global recovery. We are working with Muslim communities around the world to promote science, education and innovation. We have gone from a bystander to a leader in the fight against climate change. We are helping developing countries to feed themselves and continuing the fight against HIV/AIDS. And we are launching a new initiative that will give us the capacity to respond faster and more effectively to bioterrorism or an infectious disease -- a plan that will counter threats at home and strengthen public health abroad.'),\n",
       " Document(page_content='As we have for over 60 years, America takes these actions because our destiny is connected to those beyond our shores. But we also do it because it is right. That is why, as we meet here tonight, over 10,000 Americans are working with many nations to help the people of Haiti recover and rebuild. That is why we stand with the girl who yearns to go to school in Afghanistan, we support the human rights of the women marching through the streets of Iran, and we advocate for the young man denied a job by corruption in Guinea. For America must always stand on the side of freedom and human dignity.'),\n",
       " Document(page_content=\"Abroad, America's greatest source of strength has always been our ideals. The same is true at home. We find unity in our incredible diversity, drawing on the promise enshrined in our Constitution: the notion that we are all created equal, that no matter who you are or what you look like, if you abide by the law you should be protected by it, that if you adhere to our common values you should be treated no different than anyone else.\"),\n",
       " Document(page_content=\"We must continually renew this promise. My administration has a civil rights division that is once again prosecuting civil rights violations and employment discrimination. We finally strengthened our laws to protect against crimes driven by hate. This year, I will work with Congress and our military to finally repeal the law that denies gay Americans the right to serve the country they love because of who they are. We are going to crack down on violations of equal pay laws -- so that women get equal pay for an equal day's work. And we should continue the work of fixing our broken immigration system -- to secure our borders, enforce our laws and ensure that everyone who plays by the rules can contribute to our economy and enrich our nations.\"),\n",
       " Document(page_content=\"In the end, it is our ideals, our values, that built America -- values that allowed us to forge a nation made up of immigrants from every corner of the globe, values that drive our citizens still. Every day, Americans meet their responsibilities to their families and their employers. Time and again, they lend a hand to their neighbors and give back to their country. They take pride in their labor, and are generous in spirit. These aren't Republican values or Democratic values they're living by, business values or labor values. They are American values.\"),\n",
       " Document(page_content=\"Unfortunately, too many of our citizens have lost faith that our biggest institutions -- our corporations, our media and, yes, our government -- still reflect these same values. Each of these institutions are full of honorable men and women doing important work that helps our country prosper. But each time a CEO rewards himself for failure, or a banker puts the rest of us at risk for his own selfish gain, people's doubts grow. Each time lobbyists game the system or politicians tear each other down instead of lifting this country up, we lose faith. The more that TV pundits reduce serious debates into silly arguments and big issues into sound bites, our citizens turn away.\\n\\nNo wonder there's so much cynicism out there.\\n\\nNo wonder there's so much disappointment.\\n\\nI campaigned on the promise of change -- change we can believe in, the slogan went. And right now, I know there are many Americans who aren't sure if they still believe we can change -- or at least, that I can deliver it.\"),\n",
       " Document(page_content=\"But remember this -- I never suggested that change would be easy or that I can do it alone. Democracy in a nation of 300 million people can be noisy and messy and complicated. And when you try to do big things and make big changes, it stirs passions and controversy. That's just how it is.\\n\\nThose of us in public office can respond to this reality by playing it safe and avoid telling hard truths. We can do what's necessary to keep our poll numbers high and get through the next election instead of doing what's best for the next generation.\\n\\nBut I also know this: If people had made that decision 50 years ago or 100 years ago or 200 years ago, we wouldn't be here tonight. The only reason we are is because generations of Americans were unafraid to do what was hard, to do what was needed even when success was uncertain, to do what it took to keep the dream of this nation alive for their children and grandchildren.\"),\n",
       " Document(page_content='Our administration has had some political setbacks this year and some of them were deserved. But I wake up every day knowing that they are nothing compared to the setbacks that families all across this country have faced this year. And what keeps me going -- what keeps me fighting -- is that despite all these setbacks, that spirit of determination and optimism -- that fundamental decency that has always been at the core of the American people -- lives on. It lives on in the struggling small business owner who wrote to me of his company, \"None of us,\" he said, \"are willing to consider, even slightly, that we might fail.\"\\n\\nIt lives on in the woman who said that even though she and her neighbors have felt the pain of recession, \"We are strong. We are resilient. We are American.\"'),\n",
       " Document(page_content='It lives on in the 8-year-old boy in Louisiana, who just sent me his allowance and asked if I would give it to the people of Haiti. And it lives on in all the Americans who\\'ve dropped everything to go some place they\\'ve never been and pull people they\\'ve never known from rubble, prompting chants of \"USA! USA! USA!\" when another life was saved.\\n\\nThe spirit that has sustained this nation for more than two centuries lives on in you, its people.\\n\\nWe have finished a difficult year. We have come through a difficult decade. But a new year has come. A new decade stretches before us. We don\\'t quit. I don\\'t quit. Let\\'s seize this moment -- to start anew, to carry the dream forward, and to strengthen our union once more.\\n\\nThank you. God Bless You. And God Bless the United States of America.')]"
      ]
     },
     "execution_count": 25,
     "metadata": {},
     "output_type": "execute_result"
    }
   ],
   "source": [
    "text_splitter.create_documents([state_of_the_union])"
   ]
  },
  {
   "cell_type": "markdown",
   "id": "8e82a81c",
   "metadata": {},
   "source": [
    "- 한글 문서로 테스트"
   ]
  },
  {
   "cell_type": "code",
   "execution_count": 27,
   "id": "28cdd184",
   "metadata": {},
   "outputs": [],
   "source": [
    "from langchain.document_loaders import PyPDFLoader\n",
    "\n",
    "loader = PyPDFLoader('./data/[이슈리포트 2022-2호] 혁신성장 정책금융 동향.pdf')\n",
    "pages = loader.load_and_split()"
   ]
  },
  {
   "cell_type": "code",
   "execution_count": 28,
   "id": "6f6ff0f5",
   "metadata": {},
   "outputs": [
    {
     "data": {
      "text/plain": [
       "18"
      ]
     },
     "execution_count": 28,
     "metadata": {},
     "output_type": "execute_result"
    }
   ],
   "source": [
    "len(pages)"
   ]
  },
  {
   "cell_type": "code",
   "execution_count": 29,
   "id": "eec9df4d",
   "metadata": {},
   "outputs": [
    {
     "name": "stdout",
     "output_type": "stream",
     "text": [
      "| 2 | CIS이슈리포트 2022-2 호 ▶혁신성장 ICT 산업의 정책금융 공급규모 및 공급속도를 종합적으로 분석한 결과, 차세대무선통신미디어 , \n",
      "능동형컴퓨팅 (이상 정보통신 테마), 차세대반도체 (전기전자 테마) 및 객체탐지 (센서측정 테마) 기술분야로 \n",
      "혁신성장 정책금융이 집중되고 있음\n",
      "[ICT 산업 내 주요 기술분야 혁신성장 정책금융 공급 현황]\n",
      "                                                            (단위: 억 원, %)\n",
      "테마\n",
      "(대분류 )주요 기술분야\n",
      "(중분류 )정책금융 공급규모 연평균 공급액 \n",
      "증가율 (%)테마 내 공급 \n",
      "점유율 (%) 2017 년 말 2021 년 말\n",
      "정보통신차세대무선통신미디어 7,820 27,865 37.4 45.1\n",
      "능동형컴퓨팅 352 16,032 159.8 10.1\n",
      "전기전자 차세대반도체 12,019 53,779 45.4 58.5\n",
      "센서측정 객체탐지 1,278 6,711 51.4 48.5\n",
      "▶주요 기술분야별 세부 품목단위로는 5G 이동통신시스템 , 인공지능 (AI), 시스템반도체 및 스마트센서 에 \n",
      "정책금융 공급량이 높은 것으로 확인됨\n",
      "￮정부가 미래 먹거리산업으로 선정한 인공지능 (AI)의 미래성장율 (CAGR: 41.0%) 이 가장 높으며 , 시장규모는  \n",
      "시스템반도체 (3,833.8 억 달러, 2025 년)가 가장 큰 것으로 분석됨\n",
      "￮4대 품목은 공통적으로 수요기반이 크고, 각국 정부가 중점적으로 육성을 지원하고 있어 시장이 지속 \n",
      "성장할 것으로 전망되나 , 원천기술 미확보 및 높은 해외 의존도가 약점으로 지적되어 국내 기업의 경쟁력  \n",
      "강화가 시급한 것으로 평가됨\n",
      "[혁신성장 ICT 주요 품목 시장전망 ]\n",
      "                                                            (단위: 억 달러, %)\n",
      "주요 기술분야\n",
      "(중분류 )주요 품목\n",
      "(소분류 )시장규모 전망시장 촉진·저해요인2020 년 2025년(E) CAGR(%)\n",
      "차세대\n",
      "무선통신미디어5G이동통신\n",
      "시스템494.4 1,982.0 32.0Ÿ(촉진) 정부의 국제표준 확보 의지\n",
      "Ÿ(저해) 소재에 대한 높은 해외 의존도\n",
      "능동형컴퓨팅 인공지능 (AI) 398.4 2,223.7 41.0Ÿ(촉진) 정부의 미래먹거리 산업 선정\n",
      "Ÿ(저해) 국내 기술의 낮은 완성도\n",
      "차세대반도체 시스템반도체 2,723.6 3,833.8 7.1Ÿ(촉진) 반도체 강국 실현을 위한 정책\n",
      "Ÿ(저해) 글로벌 경쟁강도 심화\n",
      "객체탐지 스마트센서 366.5 875.8 19.0Ÿ(촉진) 스마트팜 등 연관 산업의 성장\n",
      "Ÿ(저해) 설계 기술의 높은 해외 의존도\n",
      "▶산업의 경쟁력 강화를 위해 혁신성장 유망산업 분야로의 금융지원을 지속적으로 추진해야 함\n",
      "￮빠른 산업변화를 반영한 혁신성장산업 기업발굴 가이드라인의 내실화 ·최신화에 노력을 기해야 함\n",
      "￮또한, 미래 성장성은 유망하나 단기 수익 창출이 어려운 산업의 지원 강화를 위해 정책금융 뿐만 아니라  \n",
      "민관주도의 역동적 금융으로 혁신성장 금융지원 영역을 확대할 필요가 있음\n"
     ]
    }
   ],
   "source": [
    "print(pages[1].page_content)"
   ]
  },
  {
   "cell_type": "code",
   "execution_count": 31,
   "id": "5514ca9c",
   "metadata": {},
   "outputs": [],
   "source": [
    "from langchain.text_splitter import CharacterTextSplitter\n",
    "\n",
    "text_splitter = CharacterTextSplitter(\n",
    "    separator = '\\n',\n",
    "    chunk_size = 1000,\n",
    "    chunk_overlap = 100,\n",
    "    length_function = len,\n",
    ")"
   ]
  },
  {
   "cell_type": "code",
   "execution_count": 32,
   "id": "14b984fe",
   "metadata": {},
   "outputs": [],
   "source": [
    "texts = text_splitter.split_documents(pages)"
   ]
  },
  {
   "cell_type": "markdown",
   "id": "a9556653",
   "metadata": {},
   "source": [
    "- chunk size 확인"
   ]
  },
  {
   "cell_type": "code",
   "execution_count": 36,
   "id": "588f1828",
   "metadata": {},
   "outputs": [
    {
     "name": "stdout",
     "output_type": "stream",
     "text": [
      "[820, 989, 576, 993, 254, 954, 371, 742, 669, 964, 739, 556, 963, 485, 971, 468, 986, 231, 544, 973, 332, 975, 205, 969, 460, 962, 92, 997, 82, 944, 197]\n"
     ]
    }
   ],
   "source": [
    "char_list = []\n",
    "for i in range(len(texts)):\n",
    "    char_list.append(len(texts[i].page_content))\n",
    "print(char_list)"
   ]
  },
  {
   "cell_type": "code",
   "execution_count": 38,
   "id": "3fce48b5",
   "metadata": {},
   "outputs": [
    {
     "name": "stdout",
     "output_type": "stream",
     "text": [
      "| 2 | CIS이슈리포트 2022-2 호 ▶혁신성장 ICT 산업의 정책금융 공급규모 및 공급속도를 종합적으로 분석한 결과, 차세대무선통신미디어 , \n",
      "능동형컴퓨팅 (이상 정보통신 테마), 차세대반도체 (전기전자 테마) 및 객체탐지 (센서측정 테마) 기술분야로 \n",
      "혁신성장 정책금융이 집중되고 있음\n",
      "[ICT 산업 내 주요 기술분야 혁신성장 정책금융 공급 현황]\n",
      "                                                            (단위: 억 원, %)\n",
      "테마\n",
      "(대분류 )주요 기술분야\n",
      "(중분류 )정책금융 공급규모 연평균 공급액 \n",
      "증가율 (%)테마 내 공급 \n",
      "점유율 (%) 2017 년 말 2021 년 말\n",
      "정보통신차세대무선통신미디어 7,820 27,865 37.4 45.1\n",
      "능동형컴퓨팅 352 16,032 159.8 10.1\n",
      "전기전자 차세대반도체 12,019 53,779 45.4 58.5\n",
      "센서측정 객체탐지 1,278 6,711 51.4 48.5\n",
      "▶주요 기술분야별 세부 품목단위로는 5G 이동통신시스템 , 인공지능 (AI), 시스템반도체 및 스마트센서 에 \n",
      "정책금융 공급량이 높은 것으로 확인됨\n",
      "￮정부가 미래 먹거리산업으로 선정한 인공지능 (AI)의 미래성장율 (CAGR: 41.0%) 이 가장 높으며 , 시장규모는  \n",
      "시스템반도체 (3,833.8 억 달러, 2025 년)가 가장 큰 것으로 분석됨\n",
      "￮4대 품목은 공통적으로 수요기반이 크고, 각국 정부가 중점적으로 육성을 지원하고 있어 시장이 지속 \n",
      "성장할 것으로 전망되나 , 원천기술 미확보 및 높은 해외 의존도가 약점으로 지적되어 국내 기업의 경쟁력  \n",
      "강화가 시급한 것으로 평가됨\n",
      "[혁신성장 ICT 주요 품목 시장전망 ]\n",
      "                                                            (단위: 억 달러, %)\n",
      "주요 기술분야\n",
      "(중분류 )주요 품목\n",
      "(소분류 )시장규모 전망시장 촉진·저해요인2020 년 2025년(E) CAGR(%)\n",
      "차세대\n"
     ]
    }
   ],
   "source": [
    "print(texts[1].page_content)"
   ]
  },
  {
   "cell_type": "markdown",
   "id": "0fdcacd8",
   "metadata": {},
   "source": [
    "# RecursiveCharacterTextSplit\n",
    "- RecursiveCharacterTextSplit 으,ㄴ 재귀적으로 문서를 분할\n",
    "- 먼저 \"\\n\\n\"(줄바꿈)을 기준으로 분할 하고\n",
    "- 이렇게 나눈 청크가 여전히 너무 클 경우 \"\\n\"(문장 단위)을 기준으로 분할\n",
    "- 이렇게 해서도 청크가 충분히 작아지지 않는 다면, 단어 위주로 다르게 됨\n",
    "- 최대한 문장의 의미를 보존하면서 분할 가능하게 해줌\n",
    "- 따라서 따라서 많이 사용됨"
   ]
  },
  {
   "cell_type": "code",
   "execution_count": 46,
   "id": "2fa4cc3b",
   "metadata": {},
   "outputs": [],
   "source": [
    "from langchain.text_splitter import RecursiveCharacterTextSplitter\n",
    "\n",
    "text_splitter = RecursiveCharacterTextSplitter(\n",
    "    chunk_size = 1000,\n",
    "    chunk_overlap = 200,\n",
    "    length_function = len,\n",
    ")"
   ]
  },
  {
   "cell_type": "code",
   "execution_count": 47,
   "id": "5fb2c48d",
   "metadata": {},
   "outputs": [],
   "source": [
    "texts = text_splitter.create_documents([state_of_the_union])"
   ]
  },
  {
   "cell_type": "code",
   "execution_count": 48,
   "id": "666b97c8",
   "metadata": {},
   "outputs": [
    {
     "name": "stdout",
     "output_type": "stream",
     "text": [
      "page_content='Madame Speaker, Vice President Biden, members of Congress, distinguished guests, and fellow Americans:\\n\\nOur Constitution declares that from time to time, the president shall give to Congress information about the state of our union. For 220 years, our leaders have fulfilled this duty. They have done so during periods of prosperity and tranquility. And they have done so in the midst of war and depression; at moments of great strife and great struggle.'\n",
      "----------------------------------------------------------------------------------------------------\n",
      "page_content=\"It's tempting to look back on these moments and assume that our progress was inevitable, that America was always destined to succeed. But when the Union was turned back at Bull Run and the Allies first landed at Omaha Beach, victory was very much in doubt. When the market crashed on Black Tuesday and civil rights marchers were beaten on Bloody Sunday, the future was anything but certain. These were times that tested the courage of our convictions and the strength of our union. And despite all our divisions and disagreements, our hesitations and our fears, America prevailed because we chose to move forward as one nation and one people.\\n\\nAgain, we are tested. And again, we must answer history's call.\"\n",
      "----------------------------------------------------------------------------------------------------\n",
      "page_content=\"Again, we are tested. And again, we must answer history's call.\\n\\nOne year ago, I took office amid two wars, an economy rocked by severe recession, a financial system on the verge of collapse and a government deeply in debt. Experts from across the political spectrum warned that if we did not act, we might face a second depression. So we acted immediately and aggressively. And one year later, the worst of the storm has passed.\\n\\nBut the devastation remains. One in 10 Americans still cannot find work. Many businesses have shuttered. Home values have declined. Small towns and rural communities have been hit especially hard. For those who had already known poverty, life has become that much harder.\\n\\nThis recession has also compounded the burdens that America's families have been dealing with for decades -- the burden of working harder and longer for less, of being unable to save enough to retire or help kids with college.\"\n",
      "----------------------------------------------------------------------------------------------------\n"
     ]
    }
   ],
   "source": [
    "print(texts[0])\n",
    "print('-'*100)\n",
    "print(texts[1])\n",
    "print('-'*100)\n",
    "print(texts[2])\n",
    "print('-'*100)"
   ]
  },
  {
   "cell_type": "markdown",
   "id": "8bd66065",
   "metadata": {},
   "source": [
    "- chunk size 확인 : 1000이 넘는 것이 하나도 없음"
   ]
  },
  {
   "cell_type": "code",
   "execution_count": 49,
   "id": "c02b9ed6",
   "metadata": {},
   "outputs": [
    {
     "name": "stdout",
     "output_type": "stream",
     "text": [
      "[454, 707, 930, 848, 896, 818, 846, 892, 813, 721, 730, 576, 841, 939, 980, 820, 936, 585, 529, 614, 493, 582, 746, 995, 365, 878, 483, 607, 740, 419, 902, 794, 714, 416, 894, 917, 934, 711, 548, 506, 784, 948, 619, 669, 510, 996, 216, 714, 527, 701, 597, 436, 750, 558, 992, 920, 786, 949]\n"
     ]
    }
   ],
   "source": [
    "char_list = []\n",
    "for i in range(len(texts)):\n",
    "    char_list.append(len(texts[i].page_content))\n",
    "print(char_list)"
   ]
  },
  {
   "cell_type": "markdown",
   "id": "bdc6ed27",
   "metadata": {},
   "source": [
    "- 한글 문서로 테스트"
   ]
  },
  {
   "cell_type": "code",
   "execution_count": 50,
   "id": "1f5bb4c9",
   "metadata": {},
   "outputs": [],
   "source": [
    "from langchain.document_loaders import PyPDFLoader\n",
    "\n",
    "loader = PyPDFLoader('./data/[이슈리포트 2022-2호] 혁신성장 정책금융 동향.pdf')\n",
    "pages = loader.load_and_split()"
   ]
  },
  {
   "cell_type": "code",
   "execution_count": 56,
   "id": "4bf9f589",
   "metadata": {},
   "outputs": [
    {
     "name": "stdout",
     "output_type": "stream",
     "text": [
      "| 2 | CIS이슈리포트 2022-2 호 ▶혁신성장 ICT 산업의 정책금융 공급규모 및 공급속도를 종합적으로 분석한 결과, 차세대무선통신미디어 , \n",
      "능동형컴퓨팅 (이상 정보통신 테마), 차세대반도체 (전기전자 테마) 및 객체탐지 (센서측정 테마) 기술분야로 \n",
      "혁신성장 정책금융이 집중되고 있음\n",
      "[ICT 산업 내 주요 기술분야 혁신성장 정책금융 공급 현황]\n",
      "                                                            (단위: 억 원, %)\n",
      "테마\n",
      "(대분류 )주요 기술분야\n",
      "(중분류 )정책금융 공급규모 연평균 공급액 \n",
      "증가율 (%)테마 내 공급 \n",
      "점유율 (%) 2017 년 말 2021 년 말\n",
      "정보통신차세대무선통신미디어 7,820 27,865 37.4 45.1\n",
      "능동형컴퓨팅 352 16,032 159.8 10.1\n",
      "전기전자 차세대반도체 12,019 53,779 45.4 58.5\n",
      "센서측정 객체탐지 1,278 6,711 51.4 48.5\n",
      "▶주요 기술분야별 세부 품목단위로는 5G 이동통신시스템 , 인공지능 (AI), 시스템반도체 및 스마트센서 에 \n",
      "정책금융 공급량이 높은 것으로 확인됨\n",
      "￮정부가 미래 먹거리산업으로 선정한 인공지능 (AI)의 미래성장율 (CAGR: 41.0%) 이 가장 높으며 , 시장규모는  \n",
      "시스템반도체 (3,833.8 억 달러, 2025 년)가 가장 큰 것으로 분석됨\n",
      "￮4대 품목은 공통적으로 수요기반이 크고, 각국 정부가 중점적으로 육성을 지원하고 있어 시장이 지속 \n",
      "성장할 것으로 전망되나 , 원천기술 미확보 및 높은 해외 의존도가 약점으로 지적되어 국내 기업의 경쟁력  \n",
      "강화가 시급한 것으로 평가됨\n",
      "[혁신성장 ICT 주요 품목 시장전망 ]\n",
      "                                                            (단위: 억 달러, %)\n",
      "주요 기술분야\n",
      "(중분류 )주요 품목\n",
      "(소분류 )시장규모 전망시장 촉진·저해요인2020 년 2025년(E) CAGR(%)\n",
      "차세대\n",
      "무선통신미디어5G이동통신\n",
      "시스템494.4 1,982.0 32.0Ÿ(촉진) 정부의 국제표준 확보 의지\n",
      "Ÿ(저해) 소재에 대한 높은 해외 의존도\n",
      "능동형컴퓨팅 인공지능 (AI) 398.4 2,223.7 41.0Ÿ(촉진) 정부의 미래먹거리 산업 선정\n",
      "Ÿ(저해) 국내 기술의 낮은 완성도\n",
      "차세대반도체 시스템반도체 2,723.6 3,833.8 7.1Ÿ(촉진) 반도체 강국 실현을 위한 정책\n",
      "Ÿ(저해) 글로벌 경쟁강도 심화\n",
      "객체탐지 스마트센서 366.5 875.8 19.0Ÿ(촉진) 스마트팜 등 연관 산업의 성장\n",
      "Ÿ(저해) 설계 기술의 높은 해외 의존도\n",
      "▶산업의 경쟁력 강화를 위해 혁신성장 유망산업 분야로의 금융지원을 지속적으로 추진해야 함\n",
      "￮빠른 산업변화를 반영한 혁신성장산업 기업발굴 가이드라인의 내실화 ·최신화에 노력을 기해야 함\n",
      "￮또한, 미래 성장성은 유망하나 단기 수익 창출이 어려운 산업의 지원 강화를 위해 정책금융 뿐만 아니라  \n",
      "민관주도의 역동적 금융으로 혁신성장 금융지원 영역을 확대할 필요가 있음\n"
     ]
    }
   ],
   "source": [
    "print(pages[1].page_content)"
   ]
  },
  {
   "cell_type": "code",
   "execution_count": 53,
   "id": "33f52050",
   "metadata": {},
   "outputs": [],
   "source": [
    "texts = text_splitter.split_documents(pages)"
   ]
  },
  {
   "cell_type": "code",
   "execution_count": 54,
   "id": "5385ffe1",
   "metadata": {
    "scrolled": true
   },
   "outputs": [
    {
     "data": {
      "text/plain": [
       "31"
      ]
     },
     "execution_count": 54,
     "metadata": {},
     "output_type": "execute_result"
    }
   ],
   "source": [
    "len(texts)"
   ]
  },
  {
   "cell_type": "code",
   "execution_count": 57,
   "id": "6a52b0d8",
   "metadata": {},
   "outputs": [
    {
     "name": "stdout",
     "output_type": "stream",
     "text": [
      "| 2 | CIS이슈리포트 2022-2 호 ▶혁신성장 ICT 산업의 정책금융 공급규모 및 공급속도를 종합적으로 분석한 결과, 차세대무선통신미디어 , \n",
      "능동형컴퓨팅 (이상 정보통신 테마), 차세대반도체 (전기전자 테마) 및 객체탐지 (센서측정 테마) 기술분야로 \n",
      "혁신성장 정책금융이 집중되고 있음\n",
      "[ICT 산업 내 주요 기술분야 혁신성장 정책금융 공급 현황]\n",
      "                                                            (단위: 억 원, %)\n",
      "테마\n",
      "(대분류 )주요 기술분야\n",
      "(중분류 )정책금융 공급규모 연평균 공급액 \n",
      "증가율 (%)테마 내 공급 \n",
      "점유율 (%) 2017 년 말 2021 년 말\n",
      "정보통신차세대무선통신미디어 7,820 27,865 37.4 45.1\n",
      "능동형컴퓨팅 352 16,032 159.8 10.1\n",
      "전기전자 차세대반도체 12,019 53,779 45.4 58.5\n",
      "센서측정 객체탐지 1,278 6,711 51.4 48.5\n",
      "▶주요 기술분야별 세부 품목단위로는 5G 이동통신시스템 , 인공지능 (AI), 시스템반도체 및 스마트센서 에 \n",
      "정책금융 공급량이 높은 것으로 확인됨\n",
      "￮정부가 미래 먹거리산업으로 선정한 인공지능 (AI)의 미래성장율 (CAGR: 41.0%) 이 가장 높으며 , 시장규모는  \n",
      "시스템반도체 (3,833.8 억 달러, 2025 년)가 가장 큰 것으로 분석됨\n",
      "￮4대 품목은 공통적으로 수요기반이 크고, 각국 정부가 중점적으로 육성을 지원하고 있어 시장이 지속 \n",
      "성장할 것으로 전망되나 , 원천기술 미확보 및 높은 해외 의존도가 약점으로 지적되어 국내 기업의 경쟁력  \n",
      "강화가 시급한 것으로 평가됨\n",
      "[혁신성장 ICT 주요 품목 시장전망 ]\n",
      "                                                            (단위: 억 달러, %)\n",
      "주요 기술분야\n",
      "(중분류 )주요 품목\n",
      "(소분류 )시장규모 전망시장 촉진·저해요인2020 년 2025년(E) CAGR(%)\n",
      "차세대\n"
     ]
    }
   ],
   "source": [
    "print(texts[1].page_content)"
   ]
  },
  {
   "cell_type": "markdown",
   "id": "5cbfc1c2",
   "metadata": {},
   "source": [
    "- chunk size 확인"
   ]
  },
  {
   "cell_type": "code",
   "execution_count": 58,
   "id": "35b8baf6",
   "metadata": {},
   "outputs": [
    {
     "name": "stdout",
     "output_type": "stream",
     "text": [
      "[820, 989, 689, 993, 342, 954, 499, 742, 669, 964, 844, 556, 963, 604, 971, 559, 986, 347, 544, 973, 413, 975, 306, 969, 591, 962, 180, 997, 217, 944, 289]\n"
     ]
    }
   ],
   "source": [
    "char_list = []\n",
    "for i in range(len(texts)):\n",
    "    char_list.append(len(texts[i].page_content))\n",
    "print(char_list)"
   ]
  },
  {
   "cell_type": "markdown",
   "id": "78289af4",
   "metadata": {},
   "source": [
    "# 기타 Splitter\n",
    "- 일반적인 글로 된 문서는 모두 textsplitter로 분할 가능\n",
    "- 그러나, code, latex 등은 처리 불가\n",
    "- 예를 들어 Python 등은 def, class 등을 하나의 단위로 묶어 분할 필요"
   ]
  },
  {
   "cell_type": "code",
   "execution_count": 59,
   "id": "6283df7e",
   "metadata": {},
   "outputs": [],
   "source": [
    "from langchain.text_splitter import(\n",
    "    RecursiveCharacterTextSplitter,\n",
    "    Language\n",
    ")"
   ]
  },
  {
   "cell_type": "code",
   "execution_count": 60,
   "id": "97ed0151",
   "metadata": {},
   "outputs": [
    {
     "data": {
      "text/plain": [
       "['\\nclass ', '\\ndef ', '\\n\\tdef ', '\\n\\n', '\\n', ' ', '']"
      ]
     },
     "execution_count": 60,
     "metadata": {},
     "output_type": "execute_result"
    }
   ],
   "source": [
    "RecursiveCharacterTextSplitter.get_separators_for_language(Language.PYTHON)"
   ]
  },
  {
   "cell_type": "code",
   "execution_count": 61,
   "id": "11f5bf3b",
   "metadata": {},
   "outputs": [],
   "source": [
    "PYTHON_CODE = \"\"\"\n",
    "def hello_world():\n",
    "    print(\"Hello world\")\n",
    "\n",
    "# Call the function\n",
    "hello_world()\n",
    "\"\"\""
   ]
  },
  {
   "cell_type": "code",
   "execution_count": 62,
   "id": "5078d9ba",
   "metadata": {},
   "outputs": [],
   "source": [
    "python_splitter = RecursiveCharacterTextSplitter.from_language(\n",
    "    language=Language.PYTHON,\n",
    "    chunk_size = 50,\n",
    "    chunk_overlap=0\n",
    ")"
   ]
  },
  {
   "cell_type": "code",
   "execution_count": 63,
   "id": "54f675d3",
   "metadata": {},
   "outputs": [],
   "source": [
    "python_docs = python_splitter.create_documents([PYTHON_CODE])"
   ]
  },
  {
   "cell_type": "code",
   "execution_count": 64,
   "id": "20c0085b",
   "metadata": {},
   "outputs": [
    {
     "data": {
      "text/plain": [
       "[Document(page_content='def hello_world():\\n    print(\"Hello world\")'),\n",
       " Document(page_content='# Call the function\\nhello_world()')]"
      ]
     },
     "execution_count": 64,
     "metadata": {},
     "output_type": "execute_result"
    }
   ],
   "source": [
    "python_docs"
   ]
  },
  {
   "cell_type": "markdown",
   "id": "69d389bb",
   "metadata": {},
   "source": [
    "# 토큰 단위로 텍스트 분할기\n",
    "- 텍스트 분할의 목적은 LLM이 소화 할 수 있을 정도로 텍스트만 호출 하는 것\n",
    "- 따라서 LLM이 소화 가능한 크기로 청크 크기를 제한 하는것은 필수적\n",
    "- LLM은 텍스트를 받아 드릴때 정해진 토큰 이상으로 소화 할 수 없게 설계 되어 있음\n",
    "- 토큰은 텍스트와 달리 Transformer에서 처리하는 방식에 따라 그 수가 달라질 수 있음\n",
    "- LLM 앱을 개발한다면 앱에 얹힐 LLM의 토큰 제한을 파악, 해당 LLM이 사용하는 Embedder를 기반으로 토큰 수 계산 해야\n",
    "- OpenAI의 GTP 모델은 tiktoken 이라는 토크나어저 기반으로 텍스트를 토큰화"
   ]
  },
  {
   "cell_type": "code",
   "execution_count": 73,
   "id": "63f47b73",
   "metadata": {},
   "outputs": [],
   "source": [
    "import tiktoken\n",
    "\n",
    "# cl100k_base GPT 모델들에 대해 임베딩시 쓰이는 tokenizer\n",
    "tokenizer = tiktoken.get_encoding(\"cl100k_base\")\n",
    "\n",
    "def tiktoken_len(text):\n",
    "    tokens = tokenizer.encode(text)\n",
    "    return len(tokens)"
   ]
  },
  {
   "cell_type": "code",
   "execution_count": 75,
   "id": "d112a9e8",
   "metadata": {},
   "outputs": [
    {
     "data": {
      "text/plain": [
       "(873, 989)"
      ]
     },
     "execution_count": 75,
     "metadata": {},
     "output_type": "execute_result"
    }
   ],
   "source": [
    "tiktoken_len(texts[1].page_content), len(texts[1].page_content)"
   ]
  },
  {
   "cell_type": "code",
   "execution_count": 76,
   "id": "c8c45280",
   "metadata": {},
   "outputs": [],
   "source": [
    "text_splitter = RecursiveCharacterTextSplitter(\n",
    "    chunk_size = 1000,\n",
    "    chunk_overlap = 0,\n",
    "    length_function = tiktoken_len\n",
    ")"
   ]
  },
  {
   "cell_type": "code",
   "execution_count": 78,
   "id": "fc1b593e",
   "metadata": {},
   "outputs": [],
   "source": [
    "texts = text_splitter.split_documents(pages)"
   ]
  },
  {
   "cell_type": "code",
   "execution_count": 79,
   "id": "c4136b97",
   "metadata": {},
   "outputs": [
    {
     "data": {
      "text/plain": [
       "(1068, 960)"
      ]
     },
     "execution_count": 79,
     "metadata": {},
     "output_type": "execute_result"
    }
   ],
   "source": [
    "len(texts[1].page_content), tiktoken_len(texts[1].page_content)"
   ]
  },
  {
   "cell_type": "markdown",
   "id": "b5253c0e",
   "metadata": {},
   "source": [
    "- token size 확인"
   ]
  },
  {
   "cell_type": "code",
   "execution_count": 82,
   "id": "840f951e",
   "metadata": {},
   "outputs": [
    {
     "name": "stdout",
     "output_type": "stream",
     "text": [
      "[813, 960, 471, 948, 267, 952, 229, 585, 591, 969, 441, 576, 953, 267, 963, 177, 961, 72, 528, 978, 165, 959, 91, 919, 253, 858, 887, 973, 124]\n"
     ]
    }
   ],
   "source": [
    "token_list = []\n",
    "for i in range(len(texts)):\n",
    "    token_list.append(tiktoken_len(texts[i].page_content))\n",
    "print(token_list)"
   ]
  }
 ],
 "metadata": {
  "kernelspec": {
   "display_name": "Python 3 (ipykernel)",
   "language": "python",
   "name": "python3"
  },
  "language_info": {
   "codemirror_mode": {
    "name": "ipython",
    "version": 3
   },
   "file_extension": ".py",
   "mimetype": "text/x-python",
   "name": "python",
   "nbconvert_exporter": "python",
   "pygments_lexer": "ipython3",
   "version": "3.10.9"
  },
  "toc": {
   "base_numbering": 1,
   "nav_menu": {},
   "number_sections": true,
   "sideBar": true,
   "skip_h1_title": false,
   "title_cell": "Table of Contents",
   "title_sidebar": "Contents",
   "toc_cell": false,
   "toc_position": {},
   "toc_section_display": true,
   "toc_window_display": false
  }
 },
 "nbformat": 4,
 "nbformat_minor": 5
}
