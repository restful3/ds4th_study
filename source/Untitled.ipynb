{
 "cells": [
  {
   "cell_type": "code",
   "execution_count": 2,
   "id": "6429feb3-053a-4723-a2ed-e077e587aea1",
   "metadata": {},
   "outputs": [],
   "source": [
    "from langchain_openai import ChatOpenAI"
   ]
  },
  {
   "cell_type": "code",
   "execution_count": 4,
   "id": "cd3b0788-55c0-40a5-91cd-0422c999e636",
   "metadata": {},
   "outputs": [],
   "source": [
    "llm = ChatOpenAI()"
   ]
  },
  {
   "cell_type": "code",
   "execution_count": 6,
   "id": "2966ef0d-8802-4dba-8df7-cffa6eef6882",
   "metadata": {},
   "outputs": [
    {
     "name": "stdout",
     "output_type": "stream",
     "text": [
      "사용자: 오늘 날씨가 정말 좋아요!\n",
      "AI: 네, 날씨가 좋은 날은 기분이 좋아지죠! 즐거운 하루 보내세요. 😊\n"
     ]
    }
   ],
   "source": [
    "from typing import TypedDict, Annotated\n",
    "from langgraph.graph import Graph, StateGraph\n",
    "from langchain_openai import ChatOpenAI\n",
    "from langchain_core.prompts import ChatPromptTemplate\n",
    "\n",
    "# 상태 정의\n",
    "class State(TypedDict):\n",
    "    input: str\n",
    "    emotion: str\n",
    "    response: str\n",
    "\n",
    "# LLM 모델 초기화 (OpenAI API 키가 필요합니다)\n",
    "llm = ChatOpenAI()\n",
    "\n",
    "# 감정 분석 함수\n",
    "def analyze_emotion(state: State) -> State:\n",
    "    prompt = ChatPromptTemplate.from_template(\n",
    "        \"당신은 감정 분석가입니다. 다음 텍스트의 감정을 '긍정', '중립', '부정' 중 하나로 분석하세요: {input}\"\n",
    "    )\n",
    "    chain = prompt | llm\n",
    "    result = chain.invoke({\"input\": state[\"input\"]})\n",
    "    state[\"emotion\"] = result.content\n",
    "    return state\n",
    "\n",
    "# 응답 생성 함수\n",
    "def generate_response(state: State) -> State:\n",
    "    prompt = ChatPromptTemplate.from_template(\n",
    "        \"\"\"당신은 친절한 AI 어시스턴트입니다. 사용자의 입력과 감정에 기반하여 적절한 응답을 생성하세요.\n",
    "        입력: {input}\n",
    "        감정: {emotion}\n",
    "        응답:\"\"\"\n",
    "    )\n",
    "    chain = prompt | llm\n",
    "    result = chain.invoke({\"input\": state[\"input\"], \"emotion\": state[\"emotion\"]})\n",
    "    state[\"response\"] = result.content\n",
    "    return state\n",
    "\n",
    "# 그래프 정의\n",
    "workflow = StateGraph(State)\n",
    "\n",
    "# 노드 추가\n",
    "workflow.add_node(\"emotion_analyzer\", analyze_emotion)\n",
    "workflow.add_node(\"response_generator\", generate_response)\n",
    "\n",
    "# 엣지 추가\n",
    "workflow.set_entry_point(\"emotion_analyzer\")\n",
    "workflow.add_edge(\"emotion_analyzer\", \"response_generator\")\n",
    "workflow.set_finish_point(\"response_generator\")\n",
    "\n",
    "# 그래프 컴파일\n",
    "chain = workflow.compile()\n",
    "\n",
    "# 실행 함수\n",
    "def run_conversation(user_input: str):\n",
    "    state = {\"input\": user_input}\n",
    "    final_state = chain.invoke(state)\n",
    "    return final_state[\"response\"]\n",
    "\n",
    "# 사용 예\n",
    "if __name__ == \"__main__\":\n",
    "    user_input = \"오늘 날씨가 정말 좋아요!\"\n",
    "    response = run_conversation(user_input)\n",
    "    print(f\"사용자: {user_input}\")\n",
    "    print(f\"AI: {response}\")"
   ]
  },
  {
   "cell_type": "code",
   "execution_count": null,
   "id": "5efb40f0-3d62-4060-a5dd-0e5f496384ba",
   "metadata": {},
   "outputs": [],
   "source": []
  }
 ],
 "metadata": {
  "kernelspec": {
   "display_name": "Python 3 (ipykernel)",
   "language": "python",
   "name": "python3"
  },
  "language_info": {
   "codemirror_mode": {
    "name": "ipython",
    "version": 3
   },
   "file_extension": ".py",
   "mimetype": "text/x-python",
   "name": "python",
   "nbconvert_exporter": "python",
   "pygments_lexer": "ipython3",
   "version": "3.10.14"
  }
 },
 "nbformat": 4,
 "nbformat_minor": 5
}
