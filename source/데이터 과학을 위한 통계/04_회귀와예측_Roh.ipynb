{
 "cells": [
  {
   "cell_type": "code",
   "execution_count": 1,
   "metadata": {},
   "outputs": [],
   "source": [
    "import warnings\n",
    "warnings.filterwarnings(\"ignore\")"
   ]
  },
  {
   "cell_type": "code",
   "execution_count": 2,
   "metadata": {},
   "outputs": [
    {
     "name": "stdout",
     "output_type": "stream",
     "text": [
      "['Franklin Gothic Heavy', 'HYGothic-Extra', 'HYGothic-Extra', 'Franklin Gothic Medium', 'Century Gothic', 'Malgun Gothic', 'HYGothic-Medium', 'Yu Gothic', 'Franklin Gothic Medium Cond', 'Showcard Gothic', 'Copperplate Gothic Light', 'Franklin Gothic Demi Cond', 'Franklin Gothic Book', 'Franklin Gothic Demi Cond', 'Yu Gothic', 'Franklin Gothic Demi', 'Copperplate Gothic Bold', 'Franklin Gothic Heavy', 'Franklin Gothic Heavy', 'Malgun Gothic', 'Century Gothic', 'Malgun Gothic', 'Showcard Gothic', 'Century Gothic', 'Franklin Gothic Book', 'Franklin Gothic Heavy', 'Franklin Gothic Book', 'Century Gothic', 'Century Gothic', 'Franklin Gothic Medium', 'Yu Gothic', 'Copperplate Gothic Light', 'Franklin Gothic Medium', 'Copperplate Gothic Bold', 'Malgun Gothic', 'Yu Gothic', 'Franklin Gothic Book', 'Franklin Gothic Medium Cond', 'Yu Gothic', 'Franklin Gothic Demi', 'Franklin Gothic Demi', 'Century Gothic', 'Yu Gothic', 'Franklin Gothic Demi', 'HYGothic-Medium', 'Yu Gothic', 'Malgun Gothic', 'Yu Gothic', 'Century Gothic', 'Malgun Gothic', 'Century Gothic', 'MS Gothic', 'MS Gothic', 'Franklin Gothic Medium']\n"
     ]
    }
   ],
   "source": [
    "import matplotlib.font_manager as fm\n",
    "\n",
    "# 설치된 폰트 출력\n",
    "font_list = [font.name for font in fm.fontManager.ttflist if \"Gothic\" in font.name]\n",
    "print(font_list)\n"
   ]
  },
  {
   "cell_type": "code",
   "execution_count": 3,
   "metadata": {},
   "outputs": [],
   "source": [
    "import matplotlib.pyplot as plt\n",
    "plt.rc('font', family='Malgun Gothic')"
   ]
  },
  {
   "cell_type": "markdown",
   "metadata": {},
   "source": [
    "# Chapter 4 회귀와 예측\n",
    "\n",
    "- 변수 X는 변수Y와 관련이 있는가?\n",
    "- 있다면 어떤 관련이 있는가?\n",
    "- 이것을 이용해 Y를 예측할 수 있는가?\n",
    "\n",
    "* 예측이 필요한 분야\n",
    "    1. 지도 학습(supervised learning) : 이미 결과를 알고 있는 데이터로 모델을 훈련하고 이후에 아직 결과를 모르는 데이터에 적용하는 프로세스\n",
    "    2. 이상 검출 영역"
   ]
  },
  {
   "cell_type": "markdown",
   "metadata": {},
   "source": [
    "## 4.1 단순 선형 회귀\n",
    "- 한 변수와 또 다른 변수의 크기 사이에 어떤 관계가 있는지에 대한 모델 추정\n",
    "- 상관관계와의 차이점\n",
    "    - 상관관계 : 두 변수 사이의 전체적인 관련 강도를 측정\n",
    "    - 회귀 : 관계 자체를 정량화하는 방법\n",
    "\n",
    "** 용어정리 **\n",
    "\n",
    "| 용어| 설명| 유의어|\n",
    "|-|-| -|\n",
    "|응답변수(반응변수) response variable| 예측하고자 하는 변수| 종속변수, 변수Y, 목표(target), 출력(output)|\n",
    "|독립변수 independent variable | 응답치를 예측하기 위해 사용되는 변수 | 예측변수, 변수X, 피처(feature), 속성(attrebution)|\n",
    "|레코드 record| 한 특정 경우에 대한 입력과 출력을 담고 있는 벡터| 행(raw), 사건, 예시(instance), 예제(example)|\n",
    "|절편 intercept| 회귀직선의 절편, 즉, X=0일 때 예측값| $$b_{0} , \\beta_{0}$$|\n",
    "|회귀계수 regression coefficient| 회귀직선의 기울기| 기울기(slope), 모수 추정값, 가중치, $$b_{1} , \\beta_{1}$$| \n",
    "|적합값 fitted value| 회귀선으로부터 얻은 추정치 $$\\hat{Y}_{i}$$ | 예측값|\n",
    "|잔차 residual | 관측값과 적합값의 차이 | 오차|\n",
    "| 최소제곱 least square | 잔차의 제곱합을 최소화하여 회귀를 피팅하는 방법| 보통최소제곱, OLS|\n"
   ]
  },
  {
   "cell_type": "markdown",
   "metadata": {},
   "source": [
    "### 4.1.1 회귀식\n",
    "\n",
    "$$ Y =  b_{0} + b_{1}X $$\n",
    "- X가 얼만큼 변할 때 Y가 어느 정도 변하는지 추정하는 식\n",
    "- 선형 관계(직선)을 이용해서 변수 X로부터 변수 Y를 예측\n",
    "- Y는 X에 b1을 곱하고 거기에 b0을 더한 값과 같다는 의미"
   ]
  },
  {
   "cell_type": "code",
   "execution_count": 4,
   "metadata": {},
   "outputs": [
    {
     "data": {
      "text/html": [
       "<div>\n",
       "<style scoped>\n",
       "    .dataframe tbody tr th:only-of-type {\n",
       "        vertical-align: middle;\n",
       "    }\n",
       "\n",
       "    .dataframe tbody tr th {\n",
       "        vertical-align: top;\n",
       "    }\n",
       "\n",
       "    .dataframe thead th {\n",
       "        text-align: right;\n",
       "    }\n",
       "</style>\n",
       "<table border=\"1\" class=\"dataframe\">\n",
       "  <thead>\n",
       "    <tr style=\"text-align: right;\">\n",
       "      <th></th>\n",
       "      <th>PEFR</th>\n",
       "      <th>Exposure</th>\n",
       "    </tr>\n",
       "  </thead>\n",
       "  <tbody>\n",
       "    <tr>\n",
       "      <th>0</th>\n",
       "      <td>390</td>\n",
       "      <td>0</td>\n",
       "    </tr>\n",
       "    <tr>\n",
       "      <th>1</th>\n",
       "      <td>410</td>\n",
       "      <td>0</td>\n",
       "    </tr>\n",
       "    <tr>\n",
       "      <th>2</th>\n",
       "      <td>430</td>\n",
       "      <td>0</td>\n",
       "    </tr>\n",
       "    <tr>\n",
       "      <th>3</th>\n",
       "      <td>460</td>\n",
       "      <td>0</td>\n",
       "    </tr>\n",
       "    <tr>\n",
       "      <th>4</th>\n",
       "      <td>420</td>\n",
       "      <td>1</td>\n",
       "    </tr>\n",
       "  </tbody>\n",
       "</table>\n",
       "</div>"
      ],
      "text/plain": [
       "   PEFR  Exposure\n",
       "0   390         0\n",
       "1   410         0\n",
       "2   430         0\n",
       "3   460         0\n",
       "4   420         1"
      ]
     },
     "execution_count": 4,
     "metadata": {},
     "output_type": "execute_result"
    }
   ],
   "source": [
    "import pandas as pd\n",
    "\n",
    "lung = pd.read_csv(\"https://raw.githubusercontent.com/restful3/ds4th_study/main/source/%EB%8D%B0%EC%9D%B4%ED%84%B0%20%EA%B3%BC%ED%95%99%EC%9D%84%20%EC%9C%84%ED%95%9C%20%ED%86%B5%EA%B3%84/datasets/LungDisease.csv\")\n",
    "lung.head()\n",
    "# 노동자들이 면진에 노출(exposure)된 연수와 폐활량(PEFR)을 표시한 것"
   ]
  },
  {
   "cell_type": "code",
   "execution_count": 5,
   "metadata": {},
   "outputs": [
    {
     "data": {
      "image/png": "[encoded data removed]",
      "text/plain": [
       "<Figure size 640x480 with 1 Axes>"
      ]
     },
     "metadata": {},
     "output_type": "display_data"
    }
   ],
   "source": [
    "import matplotlib.pyplot as plt\n",
    "\n",
    "plt.figure()\n",
    "plt.scatter( lung[\"Exposure\"], lung[\"PEFR\"],\\\n",
    "     edgecolors='black', facecolors='white') #plt.scatter(X, y)\n",
    "plt.xlabel(\"Exposure\")\n",
    "plt.ylabel(\"PEFR\")\n",
    "plt.title(\"면진에 대한 노출 연수와 폐활량(PEFR = b_0 + b_1*Exposure)\")\n",
    "plt.show();"
   ]
  },
  {
   "cell_type": "markdown",
   "metadata": {},
   "source": [
    "- 방법 1 : sm.OLS 이용(R과 같은 결과)"
   ]
  },
  {
   "cell_type": "code",
   "execution_count": 6,
   "metadata": {},
   "outputs": [
    {
     "name": "stdout",
     "output_type": "stream",
     "text": [
      "                            OLS Regression Results                            \n",
      "==============================================================================\n",
      "Dep. Variable:                   PEFR   R-squared:                       0.077\n",
      "Model:                            OLS   Adj. R-squared:                  0.069\n",
      "Method:                 Least Squares   F-statistic:                     9.974\n",
      "Date:                Sat, 09 Sep 2023   Prob (F-statistic):            0.00201\n",
      "Time:                        14:42:30   Log-Likelihood:                -735.68\n",
      "No. Observations:                 122   AIC:                             1475.\n",
      "Df Residuals:                     120   BIC:                             1481.\n",
      "Df Model:                           1                                         \n",
      "Covariance Type:            nonrobust                                         \n",
      "==============================================================================\n",
      "                 coef    std err          t      P>|t|      [0.025      0.975]\n",
      "------------------------------------------------------------------------------\n",
      "Intercept    424.5828     20.796     20.417      0.000     383.408     465.757\n",
      "Exposure      -4.1846      1.325     -3.158      0.002      -6.808      -1.561\n",
      "==============================================================================\n",
      "Omnibus:                        0.767   Durbin-Watson:                   1.111\n",
      "Prob(Omnibus):                  0.681   Jarque-Bera (JB):                0.891\n",
      "Skew:                          -0.162   Prob(JB):                        0.641\n",
      "Kurtosis:                       2.734   Cond. No.                         35.7\n",
      "==============================================================================\n",
      "\n",
      "Notes:\n",
      "[1] Standard Errors assume that the covariance matrix of the errors is correctly specified.\n"
     ]
    }
   ],
   "source": [
    "import pandas as pd\n",
    "import statsmodels.api as sm\n",
    "\n",
    "# 데이터프레임에서 Exposure와 PEFR 컬럼을 사용하여 선형 회귀 모델 생성\n",
    "model_ols = sm.OLS.from_formula(\"PEFR ~ Exposure\", data=lung)\n",
    "result_ols = model_ols.fit()\n",
    "print(result_ols.summary())"
   ]
  },
  {
   "cell_type": "code",
   "execution_count": 7,
   "metadata": {},
   "outputs": [
    {
     "name": "stdout",
     "output_type": "stream",
     "text": [
      "                                 OLS Regression Results                                \n",
      "=======================================================================================\n",
      "Dep. Variable:                   PEFR   R-squared (uncentered):                   0.687\n",
      "Model:                            OLS   Adj. R-squared (uncentered):              0.684\n",
      "Method:                 Least Squares   F-statistic:                              265.6\n",
      "Date:                Sat, 09 Sep 2023   Prob (F-statistic):                    2.62e-32\n",
      "Time:                        14:42:30   Log-Likelihood:                         -827.07\n",
      "No. Observations:                 122   AIC:                                      1656.\n",
      "Df Residuals:                     121   BIC:                                      1659.\n",
      "Df Model:                           1                                                  \n",
      "Covariance Type:            nonrobust                                                  \n",
      "==============================================================================\n",
      "                 coef    std err          t      P>|t|      [0.025      0.975]\n",
      "------------------------------------------------------------------------------\n",
      "Exposure      20.0862      1.232     16.297      0.000      17.646      22.526\n",
      "==============================================================================\n",
      "Omnibus:                       12.027   Durbin-Watson:                   0.286\n",
      "Prob(Omnibus):                  0.002   Jarque-Bera (JB):                7.493\n",
      "Skew:                           0.454   Prob(JB):                       0.0236\n",
      "Kurtosis:                       2.195   Cond. No.                         1.00\n",
      "==============================================================================\n",
      "\n",
      "Notes:\n",
      "[1] R² is computed without centering (uncentered) since the model does not contain a constant.\n",
      "[2] Standard Errors assume that the covariance matrix of the errors is correctly specified.\n"
     ]
    }
   ],
   "source": [
    "# Exposure에 절편을 추가하지 않고 선형 회귀 모델 생성\n",
    "model_ols2 = sm.OLS.from_formula(\"PEFR ~ Exposure - 1\", data=lung)\n",
    "result_ols2 = model_ols2.fit()\n",
    "print(result_ols2.summary())"
   ]
  },
  {
   "cell_type": "markdown",
   "metadata": {},
   "source": [
    "- 방법 2 : sklearn LinearRegression 이용"
   ]
  },
  {
   "cell_type": "code",
   "execution_count": 8,
   "metadata": {},
   "outputs": [
    {
     "name": "stdout",
     "output_type": "stream",
     "text": [
      "Intercept: 424.583\n",
      "Coefficient Exposure: -4.185\n",
      " Y = -4.185X + 424.583\n"
     ]
    }
   ],
   "source": [
    "from sklearn.linear_model import LinearRegression\n",
    "\n",
    "predictors = [\"Exposure\"]\n",
    "outcome = \"PEFR\"\n",
    "\n",
    "model_sklearn = LinearRegression()\n",
    "model_sklearn.fit(lung[predictors], lung[outcome])\n",
    "\n",
    "print(f\"Intercept: {model_sklearn.intercept_:.3f}\")\n",
    "print(f\"Coefficient Exposure: {model_sklearn.coef_[0]:.3f}\")\n",
    "print(f\" Y = {model_sklearn.coef_[0]:.3f}X + {model_sklearn.intercept_:.3f}\")\n"
   ]
  },
  {
   "cell_type": "code",
   "execution_count": 9,
   "metadata": {},
   "outputs": [
    {
     "data": {
      "image/png": "[encoded data removed]",
      "text/plain": [
       "<Figure size 640x480 with 1 Axes>"
      ]
     },
     "metadata": {},
     "output_type": "display_data"
    }
   ],
   "source": [
    "lung[\"hat_PEFR\"] = lung[\"Exposure\"]*model_sklearn.coef_[0] + model_sklearn.intercept_\n",
    "\n",
    "plt.figure()\n",
    "plt.scatter( lung[\"Exposure\"], lung[\"PEFR\"],\\\n",
    "     edgecolors='black', facecolors='white') \n",
    "\n",
    "# 모델의 회귀선\n",
    "plt.plot(lung[\"Exposure\"], lung[\"hat_PEFR\"] , c='r')\n",
    "\n",
    "plt.xlabel(\"Exposure\")\n",
    "plt.ylabel(\"PEFR\")\n",
    "plt.title(\"면진에 대한 노출 연수와 폐활량(PEFR = b_0 + b_1*Exposure)\")\n",
    "plt.show();"
   ]
  },
  {
   "cell_type": "markdown",
   "metadata": {},
   "source": [
    "### 4.1.2 적합값(예측값)과 잔차(예측 오차)\n",
    "\n",
    "- 보통 모든 데이터가 정확히 한 직선 안에 들어오지 않기 때문에 명시적으로 오차항을 포함함\n",
    "\n",
    "- 적합값 (예측값)\n",
    "$$ 적합값 : \\hat{Y}_{i} (Y hat) $$ \n",
    "$$ 추정을 통해 얻은 값(불확실한 값 ) :  \\hat{b}_{0} , \\hat{b}_{1}     $$ \n",
    "$$ \\hat{Y}_{i} = \\hat{b}_{0} + \\hat{b}_{1}X_{i}$$\n",
    "\n",
    "- 잔차\n",
    "$$ 오차항 : \\varepsilon_{i} $$\n",
    "$$ 잔차 : \\hat{ \\varepsilon }_{i}  = Y_{i} - \\hat{Y}_{i} $$ \n",
    "$$ Y_{i} = b_{0} + b_{1}X_{i} + \\varepsilon_{i}$$"
   ]
  },
  {
   "cell_type": "code",
   "execution_count": 10,
   "metadata": {},
   "outputs": [],
   "source": [
    "fitted = model_sklearn.predict(lung[predictors])\n",
    "residuals = lung[outcome] - fitted"
   ]
  },
  {
   "cell_type": "code",
   "execution_count": 11,
   "metadata": {},
   "outputs": [
    {
     "data": {
      "text/plain": [
       "0   -34.582807\n",
       "1   -14.582807\n",
       "2     5.417193\n",
       "3    35.417193\n",
       "4    -0.398230\n",
       "Name: PEFR, dtype: float64"
      ]
     },
     "execution_count": 11,
     "metadata": {},
     "output_type": "execute_result"
    }
   ],
   "source": [
    "residuals.head()"
   ]
  },
  {
   "cell_type": "markdown",
   "metadata": {},
   "source": [
    "### 4.1.3 최소제곱\n",
    "\n",
    "- 잔차제곱합(RSS, residual sum of squares) : 잔차들을 제곱한 값들의 합\n",
    "- 데이터에 적합한 값 = 잔차제곱을 최소화하는 선\n",
    "- 잔차제곱합을 최소화하는 값을 찾는 기법 : 최조제곱회구 = 보통최소제곱(OLS, ordinary least squares)"
   ]
  },
  {
   "cell_type": "markdown",
   "metadata": {},
   "source": [
    "## 4.2 다중선형회귀"
   ]
  },
  {
   "cell_type": "code",
   "execution_count": 12,
   "metadata": {},
   "outputs": [
    {
     "data": {
      "text/html": [
       "<div>\n",
       "<style scoped>\n",
       "    .dataframe tbody tr th:only-of-type {\n",
       "        vertical-align: middle;\n",
       "    }\n",
       "\n",
       "    .dataframe tbody tr th {\n",
       "        vertical-align: top;\n",
       "    }\n",
       "\n",
       "    .dataframe thead th {\n",
       "        text-align: right;\n",
       "    }\n",
       "</style>\n",
       "<table border=\"1\" class=\"dataframe\">\n",
       "  <thead>\n",
       "    <tr style=\"text-align: right;\">\n",
       "      <th></th>\n",
       "      <th>DocumentDate</th>\n",
       "      <th>SalePrice</th>\n",
       "      <th>PropertyID</th>\n",
       "      <th>PropertyType</th>\n",
       "      <th>ym</th>\n",
       "      <th>zhvi_px</th>\n",
       "      <th>zhvi_idx</th>\n",
       "      <th>AdjSalePrice</th>\n",
       "      <th>NbrLivingUnits</th>\n",
       "      <th>SqFtLot</th>\n",
       "      <th>...</th>\n",
       "      <th>Bathrooms</th>\n",
       "      <th>Bedrooms</th>\n",
       "      <th>BldgGrade</th>\n",
       "      <th>YrBuilt</th>\n",
       "      <th>YrRenovated</th>\n",
       "      <th>TrafficNoise</th>\n",
       "      <th>LandVal</th>\n",
       "      <th>ImpsVal</th>\n",
       "      <th>ZipCode</th>\n",
       "      <th>NewConstruction</th>\n",
       "    </tr>\n",
       "  </thead>\n",
       "  <tbody>\n",
       "    <tr>\n",
       "      <th>1</th>\n",
       "      <td>2014-09-16</td>\n",
       "      <td>280000</td>\n",
       "      <td>1000102</td>\n",
       "      <td>Multiplex</td>\n",
       "      <td>2014-09-01</td>\n",
       "      <td>405100</td>\n",
       "      <td>0.930836</td>\n",
       "      <td>300805.0</td>\n",
       "      <td>2</td>\n",
       "      <td>9373</td>\n",
       "      <td>...</td>\n",
       "      <td>3.00</td>\n",
       "      <td>6</td>\n",
       "      <td>7</td>\n",
       "      <td>1991</td>\n",
       "      <td>0</td>\n",
       "      <td>0</td>\n",
       "      <td>70000</td>\n",
       "      <td>229000</td>\n",
       "      <td>98002</td>\n",
       "      <td>False</td>\n",
       "    </tr>\n",
       "    <tr>\n",
       "      <th>2</th>\n",
       "      <td>2006-06-16</td>\n",
       "      <td>1000000</td>\n",
       "      <td>1200013</td>\n",
       "      <td>Single Family</td>\n",
       "      <td>2006-06-01</td>\n",
       "      <td>404400</td>\n",
       "      <td>0.929228</td>\n",
       "      <td>1076162.0</td>\n",
       "      <td>1</td>\n",
       "      <td>20156</td>\n",
       "      <td>...</td>\n",
       "      <td>3.75</td>\n",
       "      <td>4</td>\n",
       "      <td>10</td>\n",
       "      <td>2005</td>\n",
       "      <td>0</td>\n",
       "      <td>0</td>\n",
       "      <td>203000</td>\n",
       "      <td>590000</td>\n",
       "      <td>98166</td>\n",
       "      <td>True</td>\n",
       "    </tr>\n",
       "    <tr>\n",
       "      <th>3</th>\n",
       "      <td>2007-01-29</td>\n",
       "      <td>745000</td>\n",
       "      <td>1200019</td>\n",
       "      <td>Single Family</td>\n",
       "      <td>2007-01-01</td>\n",
       "      <td>425600</td>\n",
       "      <td>0.977941</td>\n",
       "      <td>761805.0</td>\n",
       "      <td>1</td>\n",
       "      <td>26036</td>\n",
       "      <td>...</td>\n",
       "      <td>1.75</td>\n",
       "      <td>4</td>\n",
       "      <td>8</td>\n",
       "      <td>1947</td>\n",
       "      <td>0</td>\n",
       "      <td>0</td>\n",
       "      <td>183000</td>\n",
       "      <td>275000</td>\n",
       "      <td>98166</td>\n",
       "      <td>False</td>\n",
       "    </tr>\n",
       "    <tr>\n",
       "      <th>4</th>\n",
       "      <td>2008-02-25</td>\n",
       "      <td>425000</td>\n",
       "      <td>2800016</td>\n",
       "      <td>Single Family</td>\n",
       "      <td>2008-02-01</td>\n",
       "      <td>418400</td>\n",
       "      <td>0.961397</td>\n",
       "      <td>442065.0</td>\n",
       "      <td>1</td>\n",
       "      <td>8618</td>\n",
       "      <td>...</td>\n",
       "      <td>3.75</td>\n",
       "      <td>5</td>\n",
       "      <td>7</td>\n",
       "      <td>1966</td>\n",
       "      <td>0</td>\n",
       "      <td>0</td>\n",
       "      <td>104000</td>\n",
       "      <td>229000</td>\n",
       "      <td>98168</td>\n",
       "      <td>False</td>\n",
       "    </tr>\n",
       "    <tr>\n",
       "      <th>5</th>\n",
       "      <td>2013-03-29</td>\n",
       "      <td>240000</td>\n",
       "      <td>2800024</td>\n",
       "      <td>Single Family</td>\n",
       "      <td>2013-03-01</td>\n",
       "      <td>351600</td>\n",
       "      <td>0.807904</td>\n",
       "      <td>297065.0</td>\n",
       "      <td>1</td>\n",
       "      <td>8620</td>\n",
       "      <td>...</td>\n",
       "      <td>1.75</td>\n",
       "      <td>4</td>\n",
       "      <td>7</td>\n",
       "      <td>1948</td>\n",
       "      <td>0</td>\n",
       "      <td>0</td>\n",
       "      <td>104000</td>\n",
       "      <td>205000</td>\n",
       "      <td>98168</td>\n",
       "      <td>False</td>\n",
       "    </tr>\n",
       "  </tbody>\n",
       "</table>\n",
       "<p>5 rows × 22 columns</p>\n",
       "</div>"
      ],
      "text/plain": [
       "  DocumentDate  SalePrice  PropertyID   PropertyType          ym  zhvi_px  \\\n",
       "1   2014-09-16     280000     1000102      Multiplex  2014-09-01   405100   \n",
       "2   2006-06-16    1000000     1200013  Single Family  2006-06-01   404400   \n",
       "3   2007-01-29     745000     1200019  Single Family  2007-01-01   425600   \n",
       "4   2008-02-25     425000     2800016  Single Family  2008-02-01   418400   \n",
       "5   2013-03-29     240000     2800024  Single Family  2013-03-01   351600   \n",
       "\n",
       "   zhvi_idx  AdjSalePrice  NbrLivingUnits  SqFtLot  ...  Bathrooms  Bedrooms  \\\n",
       "1  0.930836      300805.0               2     9373  ...       3.00         6   \n",
       "2  0.929228     1076162.0               1    20156  ...       3.75         4   \n",
       "3  0.977941      761805.0               1    26036  ...       1.75         4   \n",
       "4  0.961397      442065.0               1     8618  ...       3.75         5   \n",
       "5  0.807904      297065.0               1     8620  ...       1.75         4   \n",
       "\n",
       "   BldgGrade  YrBuilt  YrRenovated  TrafficNoise  LandVal  ImpsVal  ZipCode  \\\n",
       "1          7     1991            0             0    70000   229000    98002   \n",
       "2         10     2005            0             0   203000   590000    98166   \n",
       "3          8     1947            0             0   183000   275000    98166   \n",
       "4          7     1966            0             0   104000   229000    98168   \n",
       "5          7     1948            0             0   104000   205000    98168   \n",
       "\n",
       "   NewConstruction  \n",
       "1            False  \n",
       "2             True  \n",
       "3            False  \n",
       "4            False  \n",
       "5            False  \n",
       "\n",
       "[5 rows x 22 columns]"
      ]
     },
     "execution_count": 12,
     "metadata": {},
     "output_type": "execute_result"
    }
   ],
   "source": [
    "import pandas as pd\n",
    "\n",
    "house = pd.read_csv(\"https://raw.githubusercontent.com/restful3/ds4th_study/main/source/%EB%8D%B0%EC%9D%B4%ED%84%B0%20%EA%B3%BC%ED%95%99%EC%9D%84%20%EC%9C%84%ED%95%9C%20%ED%86%B5%EA%B3%84/datasets/house_sales.csv\",\n",
    "                    sep = \"\\t\")\n",
    "house.head()\n"
   ]
  },
  {
   "cell_type": "code",
   "execution_count": 13,
   "metadata": {},
   "outputs": [
    {
     "name": "stdout",
     "output_type": "stream",
     "text": [
      "<class 'pandas.core.frame.DataFrame'>\n",
      "Int64Index: 22687 entries, 1 to 27063\n",
      "Data columns (total 6 columns):\n",
      " #   Column         Non-Null Count  Dtype  \n",
      "---  ------         --------------  -----  \n",
      " 0   AdjSalePrice   22687 non-null  float64\n",
      " 1   SqFtTotLiving  22687 non-null  int64  \n",
      " 2   SqFtLot        22687 non-null  int64  \n",
      " 3   Bathrooms      22687 non-null  float64\n",
      " 4   Bedrooms       22687 non-null  int64  \n",
      " 5   BldgGrade      22687 non-null  int64  \n",
      "dtypes: float64(2), int64(4)\n",
      "memory usage: 1.2 MB\n"
     ]
    }
   ],
   "source": [
    "subset = [\"AdjSalePrice\", \"SqFtTotLiving\", \"SqFtLot\", \"Bathrooms\",\"Bedrooms\",\"BldgGrade\"]\n",
    "house_data = house[subset]\n",
    "house_data.info()\n",
    "# dbl(double) in R = float  in python"
   ]
  },
  {
   "cell_type": "markdown",
   "metadata": {},
   "source": [
    "- 방법 1 : sm.OLS 이용(R과 같은 결과)"
   ]
  },
  {
   "cell_type": "code",
   "execution_count": 14,
   "metadata": {},
   "outputs": [
    {
     "name": "stdout",
     "output_type": "stream",
     "text": [
      "                            OLS Regression Results                            \n",
      "==============================================================================\n",
      "Dep. Variable:           AdjSalePrice   R-squared:                       0.541\n",
      "Model:                            OLS   Adj. R-squared:                  0.540\n",
      "Method:                 Least Squares   F-statistic:                     5338.\n",
      "Date:                Sat, 09 Sep 2023   Prob (F-statistic):               0.00\n",
      "Time:                        14:42:31   Log-Likelihood:            -3.1517e+05\n",
      "No. Observations:               22687   AIC:                         6.304e+05\n",
      "Df Residuals:                   22681   BIC:                         6.304e+05\n",
      "Df Model:                           5                                         \n",
      "Covariance Type:            nonrobust                                         \n",
      "=================================================================================\n",
      "                    coef    std err          t      P>|t|      [0.025      0.975]\n",
      "---------------------------------------------------------------------------------\n",
      "Intercept     -5.219e+05   1.57e+04    -33.342      0.000   -5.53e+05   -4.91e+05\n",
      "SqFtTotLiving   228.8306      3.899     58.694      0.000     221.189     236.472\n",
      "SqFtLot          -0.0605      0.061     -0.988      0.323      -0.180       0.059\n",
      "Bathrooms     -1.944e+04   3625.388     -5.363      0.000   -2.65e+04   -1.23e+04\n",
      "Bedrooms      -4.777e+04   2489.732    -19.187      0.000   -5.27e+04   -4.29e+04\n",
      "BldgGrade      1.061e+05   2396.445     44.277      0.000    1.01e+05    1.11e+05\n",
      "==============================================================================\n",
      "Omnibus:                    29676.557   Durbin-Watson:                   1.247\n",
      "Prob(Omnibus):                  0.000   Jarque-Bera (JB):         19390738.346\n",
      "Skew:                           6.889   Prob(JB):                         0.00\n",
      "Kurtosis:                     145.559   Cond. No.                     2.86e+05\n",
      "==============================================================================\n",
      "\n",
      "Notes:\n",
      "[1] Standard Errors assume that the covariance matrix of the errors is correctly specified.\n",
      "[2] The condition number is large, 2.86e+05. This might indicate that there are\n",
      "strong multicollinearity or other numerical problems.\n"
     ]
    }
   ],
   "source": [
    "import pandas as pd\n",
    "import statsmodels.api as sm\n",
    "\n",
    "model_multiols = sm.OLS.from_formula(\"AdjSalePrice ~ SqFtTotLiving + SqFtLot + Bathrooms + Bedrooms + BldgGrade\", data=house_data)\n",
    "result_multiols = model_multiols.fit()\n",
    "print(result_multiols.summary())"
   ]
  },
  {
   "cell_type": "code",
   "execution_count": 15,
   "metadata": {},
   "outputs": [
    {
     "name": "stdout",
     "output_type": "stream",
     "text": [
      "                            OLS Regression Results                            \n",
      "==============================================================================\n",
      "Dep. Variable:           AdjSalePrice   R-squared:                       0.541\n",
      "Model:                            OLS   Adj. R-squared:                  0.540\n",
      "Method:                 Least Squares   F-statistic:                     5338.\n",
      "Date:                Sat, 09 Sep 2023   Prob (F-statistic):               0.00\n",
      "Time:                        14:42:31   Log-Likelihood:            -3.1517e+05\n",
      "No. Observations:               22687   AIC:                         6.304e+05\n",
      "Df Residuals:                   22681   BIC:                         6.304e+05\n",
      "Df Model:                           5                                         \n",
      "Covariance Type:            nonrobust                                         \n",
      "=================================================================================\n",
      "                    coef    std err          t      P>|t|      [0.025      0.975]\n",
      "---------------------------------------------------------------------------------\n",
      "SqFtTotLiving   228.8306      3.899     58.694      0.000     221.189     236.472\n",
      "SqFtLot          -0.0605      0.061     -0.988      0.323      -0.180       0.059\n",
      "Bathrooms     -1.944e+04   3625.388     -5.363      0.000   -2.65e+04   -1.23e+04\n",
      "Bedrooms      -4.777e+04   2489.732    -19.187      0.000   -5.27e+04   -4.29e+04\n",
      "BldgGrade      1.061e+05   2396.445     44.277      0.000    1.01e+05    1.11e+05\n",
      "const         -5.219e+05   1.57e+04    -33.342      0.000   -5.53e+05   -4.91e+05\n",
      "==============================================================================\n",
      "Omnibus:                    29676.557   Durbin-Watson:                   1.247\n",
      "Prob(Omnibus):                  0.000   Jarque-Bera (JB):         19390738.346\n",
      "Skew:                           6.889   Prob(JB):                         0.00\n",
      "Kurtosis:                     145.559   Cond. No.                     2.86e+05\n",
      "==============================================================================\n",
      "\n",
      "Notes:\n",
      "[1] Standard Errors assume that the covariance matrix of the errors is correctly specified.\n",
      "[2] The condition number is large, 2.86e+05. This might indicate that there are\n",
      "strong multicollinearity or other numerical problems.\n"
     ]
    }
   ],
   "source": [
    "predictors = [ \"SqFtTotLiving\", \"SqFtLot\", \"Bathrooms\",\"Bedrooms\",\"BldgGrade\"]\n",
    "outcome = \"AdjSalePrice\"\n",
    "\n",
    "model_multiols2 = sm.OLS(house_data[outcome], house_data[predictors].assign(const=1))\n",
    "result_multiols2 = model_multiols2.fit()\n",
    "print(result_multiols2.summary())\n",
    "\n",
    "#assign 메서드 : 값이 1인 상수열을 예측변수에 추가 => 절편 모델링에 필요함\n",
    "#assign 메서드로 절편 모델링까지 해야 sm.OLS.from_fomula()로 만든 것과 같은 결과 나옴"
   ]
  },
  {
   "cell_type": "code",
   "execution_count": 16,
   "metadata": {},
   "outputs": [
    {
     "name": "stdout",
     "output_type": "stream",
     "text": [
      "                                 OLS Regression Results                                \n",
      "=======================================================================================\n",
      "Dep. Variable:           AdjSalePrice   R-squared (uncentered):                   0.847\n",
      "Model:                            OLS   Adj. R-squared (uncentered):              0.847\n",
      "Method:                 Least Squares   F-statistic:                          2.512e+04\n",
      "Date:                Sat, 09 Sep 2023   Prob (F-statistic):                        0.00\n",
      "Time:                        14:42:31   Log-Likelihood:                     -3.1571e+05\n",
      "No. Observations:               22687   AIC:                                  6.314e+05\n",
      "Df Residuals:                   22682   BIC:                                  6.315e+05\n",
      "Df Model:                           5                                                  \n",
      "Covariance Type:            nonrobust                                                  \n",
      "=================================================================================\n",
      "                    coef    std err          t      P>|t|      [0.025      0.975]\n",
      "---------------------------------------------------------------------------------\n",
      "SqFtTotLiving   304.9672      3.236     94.229      0.000     298.624     311.311\n",
      "SqFtLot          -0.1252      0.063     -1.999      0.046      -0.248      -0.002\n",
      "Bathrooms      -1.41e+04   3709.458     -3.800      0.000   -2.14e+04   -6824.534\n",
      "Bedrooms      -8.835e+04   2224.444    -39.720      0.000   -9.27e+04    -8.4e+04\n",
      "BldgGrade      3.476e+04   1104.840     31.459      0.000    3.26e+04    3.69e+04\n",
      "==============================================================================\n",
      "Omnibus:                    29331.571   Durbin-Watson:                   1.265\n",
      "Prob(Omnibus):                  0.000   Jarque-Bera (JB):         17194552.642\n",
      "Skew:                           6.772   Prob(JB):                         0.00\n",
      "Kurtosis:                     137.187   Cond. No.                     6.63e+04\n",
      "==============================================================================\n",
      "\n",
      "Notes:\n",
      "[1] R² is computed without centering (uncentered) since the model does not contain a constant.\n",
      "[2] Standard Errors assume that the covariance matrix of the errors is correctly specified.\n",
      "[3] The condition number is large, 6.63e+04. This might indicate that there are\n",
      "strong multicollinearity or other numerical problems.\n"
     ]
    }
   ],
   "source": [
    "import statsmodels.api as sm\n",
    "\n",
    "model_multiols_cf = sm.OLS(house_data[outcome], house_data[predictors])\n",
    "result_multiols_cf = model_multiols_cf.fit()\n",
    "print(result_multiols_cf.summary())\n"
   ]
  },
  {
   "cell_type": "markdown",
   "metadata": {},
   "source": [
    "- 방법 2 : sklearn LinearRegression 이용"
   ]
  },
  {
   "cell_type": "code",
   "execution_count": 17,
   "metadata": {},
   "outputs": [
    {
     "name": "stdout",
     "output_type": "stream",
     "text": [
      "Intercept: -521871.368\n",
      "Coefficient : \n",
      "  SqFtTotLiving : 228.83060360240754\n",
      "  SqFtLot : -0.06046682065306008\n",
      "  Bathrooms : -19442.840398321146\n",
      "  Bedrooms : -47769.955185214094\n",
      "  BldgGrade : 106106.9630789811\n"
     ]
    }
   ],
   "source": [
    "from sklearn.linear_model import LinearRegression\n",
    "\n",
    "predictors = [ \"SqFtTotLiving\", \"SqFtLot\", \"Bathrooms\",\"Bedrooms\",\"BldgGrade\"]\n",
    "outcome = \"AdjSalePrice\"\n",
    "\n",
    "model_multi_skl = LinearRegression()\n",
    "model_multi_skl.fit(house_data[predictors], house_data[outcome])\n",
    "\n",
    "print(f\"Intercept: {model_multi_skl.intercept_:.3f}\")\n",
    "print(f\"Coefficient : \")\n",
    "for name, coef in zip(predictors, model_multi_skl.coef_ ) :\n",
    "    print(f\"  {name} : {coef}\")\n"
   ]
  },
  {
   "cell_type": "code",
   "execution_count": 18,
   "metadata": {},
   "outputs": [
    {
     "name": "stdout",
     "output_type": "stream",
     "text": [
      "RMSE : 261220\n",
      "R2 : 0.5406\n"
     ]
    }
   ],
   "source": [
    "import numpy as np\n",
    "from sklearn.metrics import mean_squared_error, r2_score\n",
    "\n",
    "multi_fitted = model_multi_skl.predict(house[predictors])\n",
    "multi_RSME = np.sqrt(mean_squared_error(house[outcome], multi_fitted))\n",
    "multi_r2 = r2_score(house[outcome], multi_fitted)\n",
    "\n",
    "print(f\"RMSE : {multi_RSME:.0f}\")\n",
    "print(f\"R2 : {multi_r2:.4f}\")"
   ]
  },
  {
   "cell_type": "markdown",
   "metadata": {},
   "source": [
    "- 해석 방법 \n",
    "    - 모든 변수 X_k(단 k ≠ j) 가  고정되었다고 가정했을 때 X_j가 변하는 정도에 따라 예측값 hat(Y)도 계수 b_j에 비례해 변화\n",
    "    - 예를들어 주택(SqFtTotLiving)에 1제곱피트를 추가하면 예상 가격(AdjSalePrice)이 229달러 증가"
   ]
  },
  {
   "cell_type": "markdown",
   "metadata": {},
   "source": [
    "### 4.2.2 모형 평가\n",
    "- RSME와 RSE의 유일한 차이  : 분모\n",
    "    - RSME의 분모  = 데이터 개수\n",
    "    - RSE의 분모 = 자유도\n",
    "- 파이썬에서는 따로 계산해야 함. sm.OLS.from_formula()에 제공되지 않음"
   ]
  },
  {
   "cell_type": "code",
   "execution_count": 19,
   "metadata": {},
   "outputs": [
    {
     "name": "stdout",
     "output_type": "stream",
     "text": [
      "RMSE : 261220\n",
      "R2 : 0.5406\n"
     ]
    }
   ],
   "source": [
    "import numpy as np\n",
    "from sklearn.metrics import mean_squared_error, r2_score\n",
    "house_fitted = model_multi_skl.predict(house_data[predictors])\n",
    "house_RSME = np.sqrt(mean_squared_error(house[outcome], house_fitted))\n",
    "house_r2 = r2_score(house[outcome], house_fitted)\n",
    "print(f\"RMSE : {house_RSME:.0f}\")\n",
    "print(f\"R2 : {house_r2:.4f}\")"
   ]
  },
  {
   "cell_type": "markdown",
   "metadata": {},
   "source": [
    "### 4.2.4 모형선택 및 단계적 회귀"
   ]
  },
  {
   "cell_type": "code",
   "execution_count": 20,
   "metadata": {},
   "outputs": [],
   "source": [
    "subset2 = [ \"SqFtTotLiving\", \"SqFtLot\", \"Bathrooms\",\"Bedrooms\",\"BldgGrade\", \n",
    "           \"PropertyType\", \"NbrLivingUnits\", \"SqFtFinBasement\", \"YrBuilt\",\n",
    "           \"YrRenovated\", \"NewConstruction\"]\n",
    "house_X = house[subset2]\n",
    "outcome = \"AdjSalePrice\""
   ]
  },
  {
   "cell_type": "code",
   "execution_count": 21,
   "metadata": {},
   "outputs": [
    {
     "name": "stdout",
     "output_type": "stream",
     "text": [
      "<class 'pandas.core.frame.DataFrame'>\n",
      "Int64Index: 22687 entries, 1 to 27063\n",
      "Data columns (total 11 columns):\n",
      " #   Column           Non-Null Count  Dtype  \n",
      "---  ------           --------------  -----  \n",
      " 0   SqFtTotLiving    22687 non-null  int64  \n",
      " 1   SqFtLot          22687 non-null  int64  \n",
      " 2   Bathrooms        22687 non-null  float64\n",
      " 3   Bedrooms         22687 non-null  int64  \n",
      " 4   BldgGrade        22687 non-null  int64  \n",
      " 5   PropertyType     22687 non-null  object \n",
      " 6   NbrLivingUnits   22687 non-null  int64  \n",
      " 7   SqFtFinBasement  22687 non-null  int64  \n",
      " 8   YrBuilt          22687 non-null  int64  \n",
      " 9   YrRenovated      22687 non-null  int64  \n",
      " 10  NewConstruction  22687 non-null  bool   \n",
      "dtypes: bool(1), float64(1), int64(8), object(1)\n",
      "memory usage: 1.9+ MB\n"
     ]
    }
   ],
   "source": [
    "house_X.info()"
   ]
  },
  {
   "cell_type": "code",
   "execution_count": 22,
   "metadata": {},
   "outputs": [
    {
     "ename": "ValueError",
     "evalue": "Pandas data cast to numpy dtype of object. Check input data with np.asarray(data). The types seen wereNone and SqFtTotLiving        int64\nSqFtLot              int64\nBathrooms          float64\nBedrooms             int64\nBldgGrade            int64\nPropertyType        object\nNbrLivingUnits       int64\nSqFtFinBasement      int64\nYrBuilt              int64\nYrRenovated          int64\nNewConstruction       bool\nconst                int64\ndtype: object. The data was\n1         300805.0\n2        1076162.0\n3         761805.0\n4         442065.0\n5         297065.0\n           ...    \n27057     443803.0\n27058    1586196.0\n27061     220744.0\n27062     342207.0\n27063     475489.0\nName: AdjSalePrice, Length: 22687, dtype: float64\nand\n        SqFtTotLiving  SqFtLot  Bathrooms  Bedrooms  BldgGrade   PropertyType  \\\n1               2400     9373       3.00         6          7      Multiplex   \n2               3764    20156       3.75         4         10  Single Family   \n3               2060    26036       1.75         4          8  Single Family   \n4               3200     8618       3.75         5          7  Single Family   \n5               1720     8620       1.75         4          7  Single Family   \n...              ...      ...        ...       ...        ...            ...   \n27057           1480     5468       1.75         3          7  Single Family   \n27058           4720    23914       4.50         4         11  Single Family   \n27061           1070    11170       1.00         4          6  Single Family   \n27062           1345     6223       2.00         3          7  Single Family   \n27063            790     4400       1.50         3          7  Single Family   \n\n       NbrLivingUnits  SqFtFinBasement  YrBuilt  YrRenovated  NewConstruction  \\\n1                   2                0     1991            0            False   \n2                   1             1452     2005            0             True   \n3                   1              900     1947            0            False   \n4                   1             1640     1966            0            False   \n5                   1                0     1948            0            False   \n...               ...              ...      ...          ...              ...   \n27057               1              590     1951            0            False   \n27058               1              910     2000            0            False   \n27061               1                0     1971            0            False   \n27062               1                0     1939            0            False   \n27063               1                0     1928            0            False   \n\n       const  \n1          1  \n2          1  \n3          1  \n4          1  \n5          1  \n...      ...  \n27057      1  \n27058      1  \n27061      1  \n27062      1  \n27063      1  \n\n[22687 rows x 12 columns]\nbefore. After,\n[ 300805. 1076162.  761805. ...  220744.  342207.  475489.]\n[[2400 9373 3.0 ... 0 False 1]\n [3764 20156 3.75 ... 0 True 1]\n [2060 26036 1.75 ... 0 False 1]\n ...\n [1070 11170 1.0 ... 0 False 1]\n [1345 6223 2.0 ... 0 False 1]\n [790 4400 1.5 ... 0 False 1]].",
     "output_type": "error",
     "traceback": [
      "\u001b[1;31m---------------------------------------------------------------------------\u001b[0m",
      "\u001b[1;31mValueError\u001b[0m                                Traceback (most recent call last)",
      "Cell \u001b[1;32mIn[22], line 2\u001b[0m\n\u001b[0;32m      1\u001b[0m \u001b[39m#object, bool이 있는 상태에서 학습 => 에러\u001b[39;00m\n\u001b[1;32m----> 2\u001b[0m model \u001b[39m=\u001b[39m sm\u001b[39m.\u001b[39;49mOLS(house[outcome], house_X\u001b[39m.\u001b[39;49massign(const\u001b[39m=\u001b[39;49m\u001b[39m1\u001b[39;49m))\n\u001b[0;32m      3\u001b[0m result \u001b[39m=\u001b[39m model\u001b[39m.\u001b[39mfit()\n\u001b[0;32m      4\u001b[0m \u001b[39mprint\u001b[39m(result\u001b[39m.\u001b[39msummary())\n",
      "File \u001b[1;32mc:\\Users\\guestp\\Anaconda3\\lib\\site-packages\\statsmodels\\regression\\linear_model.py:906\u001b[0m, in \u001b[0;36mOLS.__init__\u001b[1;34m(self, endog, exog, missing, hasconst, **kwargs)\u001b[0m\n\u001b[0;32m    903\u001b[0m     msg \u001b[39m=\u001b[39m (\u001b[39m\"\u001b[39m\u001b[39mWeights are not supported in OLS and will be ignored\u001b[39m\u001b[39m\"\u001b[39m\n\u001b[0;32m    904\u001b[0m            \u001b[39m\"\u001b[39m\u001b[39mAn exception will be raised in the next version.\u001b[39m\u001b[39m\"\u001b[39m)\n\u001b[0;32m    905\u001b[0m     warnings\u001b[39m.\u001b[39mwarn(msg, ValueWarning)\n\u001b[1;32m--> 906\u001b[0m \u001b[39msuper\u001b[39m(OLS, \u001b[39mself\u001b[39m)\u001b[39m.\u001b[39m\u001b[39m__init__\u001b[39m(endog, exog, missing\u001b[39m=\u001b[39mmissing,\n\u001b[0;32m    907\u001b[0m                           hasconst\u001b[39m=\u001b[39mhasconst, \u001b[39m*\u001b[39m\u001b[39m*\u001b[39mkwargs)\n\u001b[0;32m    908\u001b[0m \u001b[39mif\u001b[39;00m \u001b[39m\"\u001b[39m\u001b[39mweights\u001b[39m\u001b[39m\"\u001b[39m \u001b[39min\u001b[39;00m \u001b[39mself\u001b[39m\u001b[39m.\u001b[39m_init_keys:\n\u001b[0;32m    909\u001b[0m     \u001b[39mself\u001b[39m\u001b[39m.\u001b[39m_init_keys\u001b[39m.\u001b[39mremove(\u001b[39m\"\u001b[39m\u001b[39mweights\u001b[39m\u001b[39m\"\u001b[39m)\n",
      "File \u001b[1;32mc:\\Users\\guestp\\Anaconda3\\lib\\site-packages\\statsmodels\\regression\\linear_model.py:733\u001b[0m, in \u001b[0;36mWLS.__init__\u001b[1;34m(self, endog, exog, weights, missing, hasconst, **kwargs)\u001b[0m\n\u001b[0;32m    731\u001b[0m \u001b[39melse\u001b[39;00m:\n\u001b[0;32m    732\u001b[0m     weights \u001b[39m=\u001b[39m weights\u001b[39m.\u001b[39msqueeze()\n\u001b[1;32m--> 733\u001b[0m \u001b[39msuper\u001b[39m(WLS, \u001b[39mself\u001b[39m)\u001b[39m.\u001b[39m\u001b[39m__init__\u001b[39m(endog, exog, missing\u001b[39m=\u001b[39mmissing,\n\u001b[0;32m    734\u001b[0m                           weights\u001b[39m=\u001b[39mweights, hasconst\u001b[39m=\u001b[39mhasconst, \u001b[39m*\u001b[39m\u001b[39m*\u001b[39mkwargs)\n\u001b[0;32m    735\u001b[0m nobs \u001b[39m=\u001b[39m \u001b[39mself\u001b[39m\u001b[39m.\u001b[39mexog\u001b[39m.\u001b[39mshape[\u001b[39m0\u001b[39m]\n\u001b[0;32m    736\u001b[0m weights \u001b[39m=\u001b[39m \u001b[39mself\u001b[39m\u001b[39m.\u001b[39mweights\n",
      "File \u001b[1;32mc:\\Users\\guestp\\Anaconda3\\lib\\site-packages\\statsmodels\\regression\\linear_model.py:190\u001b[0m, in \u001b[0;36mRegressionModel.__init__\u001b[1;34m(self, endog, exog, **kwargs)\u001b[0m\n\u001b[0;32m    189\u001b[0m \u001b[39mdef\u001b[39;00m \u001b[39m__init__\u001b[39m(\u001b[39mself\u001b[39m, endog, exog, \u001b[39m*\u001b[39m\u001b[39m*\u001b[39mkwargs):\n\u001b[1;32m--> 190\u001b[0m     \u001b[39msuper\u001b[39m(RegressionModel, \u001b[39mself\u001b[39m)\u001b[39m.\u001b[39m\u001b[39m__init__\u001b[39m(endog, exog, \u001b[39m*\u001b[39m\u001b[39m*\u001b[39mkwargs)\n\u001b[0;32m    191\u001b[0m     \u001b[39mself\u001b[39m\u001b[39m.\u001b[39m_data_attr\u001b[39m.\u001b[39mextend([\u001b[39m'\u001b[39m\u001b[39mpinv_wexog\u001b[39m\u001b[39m'\u001b[39m, \u001b[39m'\u001b[39m\u001b[39mwendog\u001b[39m\u001b[39m'\u001b[39m, \u001b[39m'\u001b[39m\u001b[39mwexog\u001b[39m\u001b[39m'\u001b[39m, \u001b[39m'\u001b[39m\u001b[39mweights\u001b[39m\u001b[39m'\u001b[39m])\n",
      "File \u001b[1;32mc:\\Users\\guestp\\Anaconda3\\lib\\site-packages\\statsmodels\\base\\model.py:267\u001b[0m, in \u001b[0;36mLikelihoodModel.__init__\u001b[1;34m(self, endog, exog, **kwargs)\u001b[0m\n\u001b[0;32m    266\u001b[0m \u001b[39mdef\u001b[39;00m \u001b[39m__init__\u001b[39m(\u001b[39mself\u001b[39m, endog, exog\u001b[39m=\u001b[39m\u001b[39mNone\u001b[39;00m, \u001b[39m*\u001b[39m\u001b[39m*\u001b[39mkwargs):\n\u001b[1;32m--> 267\u001b[0m     \u001b[39msuper\u001b[39m()\u001b[39m.\u001b[39m\u001b[39m__init__\u001b[39m(endog, exog, \u001b[39m*\u001b[39m\u001b[39m*\u001b[39mkwargs)\n\u001b[0;32m    268\u001b[0m     \u001b[39mself\u001b[39m\u001b[39m.\u001b[39minitialize()\n",
      "File \u001b[1;32mc:\\Users\\guestp\\Anaconda3\\lib\\site-packages\\statsmodels\\base\\model.py:92\u001b[0m, in \u001b[0;36mModel.__init__\u001b[1;34m(self, endog, exog, **kwargs)\u001b[0m\n\u001b[0;32m     90\u001b[0m missing \u001b[39m=\u001b[39m kwargs\u001b[39m.\u001b[39mpop(\u001b[39m'\u001b[39m\u001b[39mmissing\u001b[39m\u001b[39m'\u001b[39m, \u001b[39m'\u001b[39m\u001b[39mnone\u001b[39m\u001b[39m'\u001b[39m)\n\u001b[0;32m     91\u001b[0m hasconst \u001b[39m=\u001b[39m kwargs\u001b[39m.\u001b[39mpop(\u001b[39m'\u001b[39m\u001b[39mhasconst\u001b[39m\u001b[39m'\u001b[39m, \u001b[39mNone\u001b[39;00m)\n\u001b[1;32m---> 92\u001b[0m \u001b[39mself\u001b[39m\u001b[39m.\u001b[39mdata \u001b[39m=\u001b[39m \u001b[39mself\u001b[39m\u001b[39m.\u001b[39m_handle_data(endog, exog, missing, hasconst,\n\u001b[0;32m     93\u001b[0m                               \u001b[39m*\u001b[39m\u001b[39m*\u001b[39mkwargs)\n\u001b[0;32m     94\u001b[0m \u001b[39mself\u001b[39m\u001b[39m.\u001b[39mk_constant \u001b[39m=\u001b[39m \u001b[39mself\u001b[39m\u001b[39m.\u001b[39mdata\u001b[39m.\u001b[39mk_constant\n\u001b[0;32m     95\u001b[0m \u001b[39mself\u001b[39m\u001b[39m.\u001b[39mexog \u001b[39m=\u001b[39m \u001b[39mself\u001b[39m\u001b[39m.\u001b[39mdata\u001b[39m.\u001b[39mexog\n",
      "File \u001b[1;32mc:\\Users\\guestp\\Anaconda3\\lib\\site-packages\\statsmodels\\base\\model.py:132\u001b[0m, in \u001b[0;36mModel._handle_data\u001b[1;34m(self, endog, exog, missing, hasconst, **kwargs)\u001b[0m\n\u001b[0;32m    131\u001b[0m \u001b[39mdef\u001b[39;00m \u001b[39m_handle_data\u001b[39m(\u001b[39mself\u001b[39m, endog, exog, missing, hasconst, \u001b[39m*\u001b[39m\u001b[39m*\u001b[39mkwargs):\n\u001b[1;32m--> 132\u001b[0m     data \u001b[39m=\u001b[39m handle_data(endog, exog, missing, hasconst, \u001b[39m*\u001b[39m\u001b[39m*\u001b[39mkwargs)\n\u001b[0;32m    133\u001b[0m     \u001b[39m# kwargs arrays could have changed, easier to just attach here\u001b[39;00m\n\u001b[0;32m    134\u001b[0m     \u001b[39mfor\u001b[39;00m key \u001b[39min\u001b[39;00m kwargs:\n",
      "File \u001b[1;32mc:\\Users\\guestp\\Anaconda3\\lib\\site-packages\\statsmodels\\base\\data.py:700\u001b[0m, in \u001b[0;36mhandle_data\u001b[1;34m(endog, exog, missing, hasconst, **kwargs)\u001b[0m\n\u001b[0;32m    697\u001b[0m     exog \u001b[39m=\u001b[39m np\u001b[39m.\u001b[39masarray(exog)\n\u001b[0;32m    699\u001b[0m klass \u001b[39m=\u001b[39m handle_data_class_factory(endog, exog)\n\u001b[1;32m--> 700\u001b[0m \u001b[39mreturn\u001b[39;00m klass(endog, exog\u001b[39m=\u001b[39mexog, missing\u001b[39m=\u001b[39mmissing, hasconst\u001b[39m=\u001b[39mhasconst,\n\u001b[0;32m    701\u001b[0m              \u001b[39m*\u001b[39m\u001b[39m*\u001b[39mkwargs)\n",
      "File \u001b[1;32mc:\\Users\\guestp\\Anaconda3\\lib\\site-packages\\statsmodels\\base\\data.py:84\u001b[0m, in \u001b[0;36mModelData.__init__\u001b[1;34m(self, endog, exog, missing, hasconst, **kwargs)\u001b[0m\n\u001b[0;32m     82\u001b[0m     \u001b[39mself\u001b[39m\u001b[39m.\u001b[39morig_endog \u001b[39m=\u001b[39m endog\n\u001b[0;32m     83\u001b[0m     \u001b[39mself\u001b[39m\u001b[39m.\u001b[39morig_exog \u001b[39m=\u001b[39m exog\n\u001b[1;32m---> 84\u001b[0m     \u001b[39mself\u001b[39m\u001b[39m.\u001b[39mendog, \u001b[39mself\u001b[39m\u001b[39m.\u001b[39mexog \u001b[39m=\u001b[39m \u001b[39mself\u001b[39;49m\u001b[39m.\u001b[39;49m_convert_endog_exog(endog, exog)\n\u001b[0;32m     86\u001b[0m \u001b[39mself\u001b[39m\u001b[39m.\u001b[39mconst_idx \u001b[39m=\u001b[39m \u001b[39mNone\u001b[39;00m\n\u001b[0;32m     87\u001b[0m \u001b[39mself\u001b[39m\u001b[39m.\u001b[39mk_constant \u001b[39m=\u001b[39m \u001b[39m0\u001b[39m\n",
      "File \u001b[1;32mc:\\Users\\guestp\\Anaconda3\\lib\\site-packages\\statsmodels\\base\\data.py:530\u001b[0m, in \u001b[0;36mPandasData._convert_endog_exog\u001b[1;34m(self, endog, exog)\u001b[0m\n\u001b[0;32m    528\u001b[0m     \u001b[39melse\u001b[39;00m:\n\u001b[0;32m    529\u001b[0m         exog_dtype \u001b[39m=\u001b[39m \u001b[39mNone\u001b[39;00m\n\u001b[1;32m--> 530\u001b[0m     \u001b[39mraise\u001b[39;00m \u001b[39mValueError\u001b[39;00m(\n\u001b[0;32m    531\u001b[0m         \u001b[39m\"\u001b[39m\u001b[39mPandas data cast to numpy dtype of object. Check input data \u001b[39m\u001b[39m\"\u001b[39m\n\u001b[0;32m    532\u001b[0m         \u001b[39m\"\u001b[39m\u001b[39mwith np.asarray(data). The types seen were\u001b[39m\u001b[39m\"\u001b[39m\n\u001b[0;32m    533\u001b[0m         \u001b[39mf\u001b[39m\u001b[39m\"\u001b[39m\u001b[39m{\u001b[39;00mendog_dtype\u001b[39m}\u001b[39;00m\u001b[39m and \u001b[39m\u001b[39m{\u001b[39;00mexog_dtype\u001b[39m}\u001b[39;00m\u001b[39m. The data was\u001b[39m\u001b[39m\\n\u001b[39;00m\u001b[39m\"\u001b[39m\n\u001b[0;32m    534\u001b[0m         \u001b[39mf\u001b[39m\u001b[39m\"\u001b[39m\u001b[39m{\u001b[39;00morig_endog\u001b[39m}\u001b[39;00m\u001b[39m\\n\u001b[39;00m\u001b[39mand\u001b[39m\u001b[39m\\n\u001b[39;00m\u001b[39m \u001b[39m\u001b[39m{\u001b[39;00morig_exog\u001b[39m}\u001b[39;00m\u001b[39m\\n\u001b[39;00m\u001b[39mbefore. After,\u001b[39m\u001b[39m\\n\u001b[39;00m\u001b[39m{\u001b[39;00mendog\u001b[39m}\u001b[39;00m\u001b[39m\\n\u001b[39;00m\u001b[39m{\u001b[39;00mexog\u001b[39m}\u001b[39;00m\u001b[39m.\u001b[39m\u001b[39m\"\u001b[39m\n\u001b[0;32m    535\u001b[0m     )\n\u001b[0;32m    536\u001b[0m \u001b[39mreturn\u001b[39;00m \u001b[39msuper\u001b[39m(PandasData, \u001b[39mself\u001b[39m)\u001b[39m.\u001b[39m_convert_endog_exog(endog, exog)\n",
      "\u001b[1;31mValueError\u001b[0m: Pandas data cast to numpy dtype of object. Check input data with np.asarray(data). The types seen wereNone and SqFtTotLiving        int64\nSqFtLot              int64\nBathrooms          float64\nBedrooms             int64\nBldgGrade            int64\nPropertyType        object\nNbrLivingUnits       int64\nSqFtFinBasement      int64\nYrBuilt              int64\nYrRenovated          int64\nNewConstruction       bool\nconst                int64\ndtype: object. The data was\n1         300805.0\n2        1076162.0\n3         761805.0\n4         442065.0\n5         297065.0\n           ...    \n27057     443803.0\n27058    1586196.0\n27061     220744.0\n27062     342207.0\n27063     475489.0\nName: AdjSalePrice, Length: 22687, dtype: float64\nand\n        SqFtTotLiving  SqFtLot  Bathrooms  Bedrooms  BldgGrade   PropertyType  \\\n1               2400     9373       3.00         6          7      Multiplex   \n2               3764    20156       3.75         4         10  Single Family   \n3               2060    26036       1.75         4          8  Single Family   \n4               3200     8618       3.75         5          7  Single Family   \n5               1720     8620       1.75         4          7  Single Family   \n...              ...      ...        ...       ...        ...            ...   \n27057           1480     5468       1.75         3          7  Single Family   \n27058           4720    23914       4.50         4         11  Single Family   \n27061           1070    11170       1.00         4          6  Single Family   \n27062           1345     6223       2.00         3          7  Single Family   \n27063            790     4400       1.50         3          7  Single Family   \n\n       NbrLivingUnits  SqFtFinBasement  YrBuilt  YrRenovated  NewConstruction  \\\n1                   2                0     1991            0            False   \n2                   1             1452     2005            0             True   \n3                   1              900     1947            0            False   \n4                   1             1640     1966            0            False   \n5                   1                0     1948            0            False   \n...               ...              ...      ...          ...              ...   \n27057               1              590     1951            0            False   \n27058               1              910     2000            0            False   \n27061               1                0     1971            0            False   \n27062               1                0     1939            0            False   \n27063               1                0     1928            0            False   \n\n       const  \n1          1  \n2          1  \n3          1  \n4          1  \n5          1  \n...      ...  \n27057      1  \n27058      1  \n27061      1  \n27062      1  \n27063      1  \n\n[22687 rows x 12 columns]\nbefore. After,\n[ 300805. 1076162.  761805. ...  220744.  342207.  475489.]\n[[2400 9373 3.0 ... 0 False 1]\n [3764 20156 3.75 ... 0 True 1]\n [2060 26036 1.75 ... 0 False 1]\n ...\n [1070 11170 1.0 ... 0 False 1]\n [1345 6223 2.0 ... 0 False 1]\n [790 4400 1.5 ... 0 False 1]]."
     ]
    }
   ],
   "source": [
    "#object, bool이 있는 상태에서 학습 => 에러\n",
    "model = sm.OLS(house[outcome], house_X.assign(const=1))\n",
    "result = model.fit()\n",
    "print(result.summary())"
   ]
  },
  {
   "cell_type": "code",
   "execution_count": 27,
   "metadata": {},
   "outputs": [
    {
     "name": "stdout",
     "output_type": "stream",
     "text": [
      "<class 'pandas.core.frame.DataFrame'>\n",
      "Int64Index: 22687 entries, 1 to 27063\n",
      "Data columns (total 12 columns):\n",
      " #   Column                      Non-Null Count  Dtype  \n",
      "---  ------                      --------------  -----  \n",
      " 0   SqFtTotLiving               22687 non-null  int64  \n",
      " 1   SqFtLot                     22687 non-null  int64  \n",
      " 2   Bathrooms                   22687 non-null  float64\n",
      " 3   Bedrooms                    22687 non-null  int64  \n",
      " 4   BldgGrade                   22687 non-null  int64  \n",
      " 5   NbrLivingUnits              22687 non-null  int64  \n",
      " 6   SqFtFinBasement             22687 non-null  int64  \n",
      " 7   YrBuilt                     22687 non-null  int64  \n",
      " 8   YrRenovated                 22687 non-null  int64  \n",
      " 9   NewConstruction             22687 non-null  int64  \n",
      " 10  PropertyType_Single Family  22687 non-null  uint8  \n",
      " 11  PropertyType_Townhouse      22687 non-null  uint8  \n",
      "dtypes: float64(1), int64(9), uint8(2)\n",
      "memory usage: 1.9 MB\n"
     ]
    }
   ],
   "source": [
    "house_X_dummy = pd.get_dummies(house_X, drop_first=True)\n",
    "house_X_dummy[\"NewConstruction\"] = [1 if nc else 0 for nc in house_X_dummy[\"NewConstruction\"] ]\n",
    "\n",
    "house_X_dummy.info()"
   ]
  },
  {
   "cell_type": "code",
   "execution_count": 28,
   "metadata": {},
   "outputs": [
    {
     "name": "stdout",
     "output_type": "stream",
     "text": [
      "                            OLS Regression Results                            \n",
      "==============================================================================\n",
      "Dep. Variable:           AdjSalePrice   R-squared:                       0.595\n",
      "Model:                            OLS   Adj. R-squared:                  0.594\n",
      "Method:                 Least Squares   F-statistic:                     2771.\n",
      "Date:                Sat, 09 Sep 2023   Prob (F-statistic):               0.00\n",
      "Time:                        14:43:34   Log-Likelihood:            -3.1375e+05\n",
      "No. Observations:               22687   AIC:                         6.275e+05\n",
      "Df Residuals:                   22674   BIC:                         6.276e+05\n",
      "Df Model:                          12                                         \n",
      "Covariance Type:            nonrobust                                         \n",
      "==============================================================================================\n",
      "                                 coef    std err          t      P>|t|      [0.025      0.975]\n",
      "----------------------------------------------------------------------------------------------\n",
      "SqFtTotLiving                198.6364      4.234     46.920      0.000     190.338     206.934\n",
      "SqFtLot                        0.0771      0.058      1.330      0.184      -0.037       0.191\n",
      "Bathrooms                   4.286e+04   3808.114     11.255      0.000    3.54e+04    5.03e+04\n",
      "Bedrooms                   -5.187e+04   2396.904    -21.638      0.000   -5.66e+04   -4.72e+04\n",
      "BldgGrade                   1.373e+05   2441.242     56.228      0.000    1.32e+05    1.42e+05\n",
      "NbrLivingUnits              5723.8438   1.76e+04      0.326      0.744   -2.87e+04    4.01e+04\n",
      "SqFtFinBasement                7.0611      4.627      1.526      0.127      -2.009      16.131\n",
      "YrBuilt                    -3574.2210     77.228    -46.282      0.000   -3725.593   -3422.849\n",
      "YrRenovated                   -2.5311      3.924     -0.645      0.519     -10.222       5.160\n",
      "NewConstruction            -2489.1122   5936.692     -0.419      0.675   -1.41e+04    9147.211\n",
      "PropertyType_Single Family  2.997e+04   2.61e+04      1.149      0.251   -2.12e+04    8.11e+04\n",
      "PropertyType_Townhouse      9.286e+04    2.7e+04      3.438      0.001    3.99e+04    1.46e+05\n",
      "const                       6.182e+06   1.55e+05     39.902      0.000    5.88e+06    6.49e+06\n",
      "==============================================================================\n",
      "Omnibus:                    31006.128   Durbin-Watson:                   1.393\n",
      "Prob(Omnibus):                  0.000   Jarque-Bera (JB):         26251977.078\n",
      "Skew:                           7.427   Prob(JB):                         0.00\n",
      "Kurtosis:                     168.984   Cond. No.                     2.98e+06\n",
      "==============================================================================\n",
      "\n",
      "Notes:\n",
      "[1] Standard Errors assume that the covariance matrix of the errors is correctly specified.\n",
      "[2] The condition number is large, 2.98e+06. This might indicate that there are\n",
      "strong multicollinearity or other numerical problems.\n"
     ]
    }
   ],
   "source": [
    "model = sm.OLS(house[outcome], house_X_dummy.assign(const=1))\n",
    "result = model.fit()\n",
    "print(result.summary())"
   ]
  },
  {
   "cell_type": "markdown",
   "metadata": {},
   "source": [
    "- 오컴의 면도날\n",
    "    - 모든 것이 동일한 조건에서는, 복잡한 모델보다 단순한 모델을 우선 사용"
   ]
  },
  {
   "cell_type": "markdown",
   "metadata": {},
   "source": [
    "### 단계적 회귀"
   ]
  },
  {
   "cell_type": "markdown",
   "metadata": {},
   "source": [
    "##### (1) dmba 라이브러리 이용하기"
   ]
  },
  {
   "cell_type": "code",
   "execution_count": 24,
   "metadata": {},
   "outputs": [
    {
     "name": "stdout",
     "output_type": "stream",
     "text": [
      "Requirement already satisfied: dmba in c:\\users\\guestp\\anaconda3\\lib\\site-packages (0.2.4)\n",
      "Requirement already satisfied: scikit-learn in c:\\users\\guestp\\anaconda3\\lib\\site-packages (from dmba) (1.2.1)\n",
      "Requirement already satisfied: graphviz in c:\\users\\guestp\\anaconda3\\lib\\site-packages (from dmba) (0.20.1)\n",
      "Requirement already satisfied: matplotlib in c:\\users\\guestp\\anaconda3\\lib\\site-packages (from dmba) (3.7.0)\n",
      "Requirement already satisfied: pandas in c:\\users\\guestp\\anaconda3\\lib\\site-packages (from dmba) (1.5.3)\n",
      "Requirement already satisfied: numpy in c:\\users\\guestp\\anaconda3\\lib\\site-packages (from dmba) (1.25.2)\n",
      "Requirement already satisfied: scipy in c:\\users\\guestp\\appdata\\roaming\\python\\python310\\site-packages (from dmba) (1.11.2)\n",
      "Requirement already satisfied: pillow>=6.2.0 in c:\\users\\guestp\\anaconda3\\lib\\site-packages (from matplotlib->dmba) (9.4.0)\n",
      "Requirement already satisfied: packaging>=20.0 in c:\\users\\guestp\\anaconda3\\lib\\site-packages (from matplotlib->dmba) (22.0)\n",
      "Requirement already satisfied: kiwisolver>=1.0.1 in c:\\users\\guestp\\anaconda3\\lib\\site-packages (from matplotlib->dmba) (1.4.4)\n",
      "Requirement already satisfied: python-dateutil>=2.7 in c:\\users\\guestp\\anaconda3\\lib\\site-packages (from matplotlib->dmba) (2.8.2)\n",
      "Requirement already satisfied: fonttools>=4.22.0 in c:\\users\\guestp\\anaconda3\\lib\\site-packages (from matplotlib->dmba) (4.25.0)\n",
      "Requirement already satisfied: pyparsing>=2.3.1 in c:\\users\\guestp\\anaconda3\\lib\\site-packages (from matplotlib->dmba) (3.0.9)\n",
      "Requirement already satisfied: cycler>=0.10 in c:\\users\\guestp\\anaconda3\\lib\\site-packages (from matplotlib->dmba) (0.11.0)\n",
      "Requirement already satisfied: contourpy>=1.0.1 in c:\\users\\guestp\\anaconda3\\lib\\site-packages (from matplotlib->dmba) (1.0.5)\n",
      "Requirement already satisfied: pytz>=2020.1 in c:\\users\\guestp\\anaconda3\\lib\\site-packages (from pandas->dmba) (2022.7)\n",
      "Requirement already satisfied: joblib>=1.1.1 in c:\\users\\guestp\\anaconda3\\lib\\site-packages (from scikit-learn->dmba) (1.1.1)\n",
      "Requirement already satisfied: threadpoolctl>=2.0.0 in c:\\users\\guestp\\anaconda3\\lib\\site-packages (from scikit-learn->dmba) (2.2.0)\n",
      "Requirement already satisfied: six>=1.5 in c:\\users\\guestp\\anaconda3\\lib\\site-packages (from python-dateutil>=2.7->matplotlib->dmba) (1.16.0)\n"
     ]
    }
   ],
   "source": [
    "!pip install dmba"
   ]
  },
  {
   "cell_type": "markdown",
   "metadata": {},
   "source": [
    "##### 1) stepwise_selection"
   ]
  },
  {
   "cell_type": "code",
   "execution_count": 29,
   "metadata": {},
   "outputs": [
    {
     "name": "stdout",
     "output_type": "stream",
     "text": [
      "Variables: SqFtTotLiving, SqFtLot, Bathrooms, Bedrooms, BldgGrade, NbrLivingUnits, SqFtFinBasement, YrBuilt, YrRenovated, NewConstruction, PropertyType_Single Family, PropertyType_Townhouse\n",
      "Start: score=647988.32, constant\n",
      "Step: score=633013.35, add SqFtTotLiving\n",
      "Step: score=630793.74, add BldgGrade\n",
      "Step: score=628230.29, add YrBuilt\n",
      "Step: score=627784.16, add Bedrooms\n",
      "Step: score=627602.21, add Bathrooms\n",
      "Step: score=627525.65, add PropertyType_Townhouse\n",
      "Step: score=627525.08, add SqFtFinBasement\n",
      "Step: score=627524.98, add PropertyType_Single Family\n",
      "Step: score=627524.98, unchanged None\n",
      "\n",
      "[Results]\n",
      "Intercept 6178645.017\n",
      "Coefficients: \n",
      " SqFtTotLiving : 199.2775530420158 \n",
      " BldgGrade : 137159.5602261976 \n",
      " YrBuilt : -3565.424939249463 \n",
      " Bedrooms : -51947.38367361413 \n",
      " Bathrooms : 42396.16452772056 \n",
      " PropertyType_Townhouse : 84479.16203299937 \n",
      " SqFtFinBasement : 7.046974967583083 \n",
      " PropertyType_Single Family : 22912.05518701767 \n"
     ]
    }
   ],
   "source": [
    "from dmba import stepwise_selection, AIC_score\n",
    "\n",
    "X = house_X_dummy\n",
    "y = house[outcome]\n",
    "\n",
    "def train_model(variables):\n",
    "    if len(variables) == 0:\n",
    "        return None\n",
    "    model = LinearRegression()\n",
    "    model.fit(X[variables], y)\n",
    "    return model\n",
    "\n",
    "def score_model(model, variables):\n",
    "    if len(variables) ==0 :\n",
    "        return AIC_score(y, [y.mean()] * len(y), model, df=1)\n",
    "    return AIC_score(y, model.predict(X[variables]), model)\n",
    "\n",
    "best_model, best_variables = stepwise_selection(X.columns, train_model,\n",
    "                                                score_model, verbose=True)\n",
    "print(\"\\n[Results]\")\n",
    "print(f\"Intercept {best_model.intercept_:.3f}\")\n",
    "print(\"Coefficients: \")\n",
    "for name, coef in zip(best_variables, best_model.coef_):\n",
    "    print(f\" {name} : {coef} \")\n"
   ]
  },
  {
   "cell_type": "markdown",
   "metadata": {},
   "source": [
    "##### 2) forward_selection"
   ]
  },
  {
   "cell_type": "code",
   "execution_count": 30,
   "metadata": {},
   "outputs": [
    {
     "name": "stdout",
     "output_type": "stream",
     "text": [
      "Variables: SqFtTotLiving, SqFtLot, Bathrooms, Bedrooms, BldgGrade, NbrLivingUnits, SqFtFinBasement, YrBuilt, YrRenovated, NewConstruction, PropertyType_Single Family, PropertyType_Townhouse\n",
      "Start: score=647988.32, constant\n",
      "Step: score=633013.35, add SqFtTotLiving\n",
      "Step: score=630793.74, add BldgGrade\n",
      "Step: score=628230.29, add YrBuilt\n",
      "Step: score=627784.16, add Bedrooms\n",
      "Step: score=627602.21, add Bathrooms\n",
      "Step: score=627525.65, add PropertyType_Townhouse\n",
      "Step: score=627525.08, add SqFtFinBasement\n",
      "Step: score=627524.98, add PropertyType_Single Family\n",
      "Step: score=627524.98, add None\n",
      "\n",
      "[Results]\n",
      "Intercept 6178645.017\n",
      "Coefficients: \n",
      " SqFtTotLiving : 199.2775530420158 \n",
      " BldgGrade : 137159.5602261976 \n",
      " YrBuilt : -3565.424939249463 \n",
      " Bedrooms : -51947.38367361413 \n",
      " Bathrooms : 42396.16452772056 \n",
      " PropertyType_Townhouse : 84479.16203299937 \n",
      " SqFtFinBasement : 7.046974967583083 \n",
      " PropertyType_Single Family : 22912.05518701767 \n"
     ]
    }
   ],
   "source": [
    "from dmba import forward_selection, backward_elimination, AIC_score\n",
    "\n",
    "X = house_X_dummy\n",
    "y = house[outcome]\n",
    "\n",
    "def train_model(variables):\n",
    "    if len(variables) == 0:\n",
    "        return None\n",
    "    model = LinearRegression()\n",
    "    model.fit(X[variables], y)\n",
    "    return model\n",
    "\n",
    "def score_model(model, variables):\n",
    "    if len(variables) ==0 :\n",
    "        return AIC_score(y, [y.mean()] * len(y), model, df=1)\n",
    "    return AIC_score(y, model.predict(X[variables]), model)\n",
    "\n",
    "best_model, best_variables = forward_selection(X.columns, train_model,\n",
    "                                                score_model, verbose=True)\n",
    "print(\"\\n[Results]\")\n",
    "print(f\"Intercept {best_model.intercept_:.3f}\")\n",
    "print(\"Coefficients: \")\n",
    "for name, coef in zip(best_variables, best_model.coef_):\n",
    "    print(f\" {name} : {coef} \")\n"
   ]
  },
  {
   "cell_type": "markdown",
   "metadata": {},
   "source": [
    "##### 3) backward_elimination"
   ]
  },
  {
   "cell_type": "code",
   "execution_count": 31,
   "metadata": {},
   "outputs": [
    {
     "name": "stdout",
     "output_type": "stream",
     "text": [
      "Variables: SqFtTotLiving, SqFtLot, Bathrooms, Bedrooms, BldgGrade, NbrLivingUnits, SqFtFinBasement, YrBuilt, YrRenovated, NewConstruction, PropertyType_Single Family, PropertyType_Townhouse\n",
      "Start: score=627530.36\n",
      "Step: score=627528.47, remove NbrLivingUnits\n",
      "Step: score=627526.65, remove NewConstruction\n",
      "Step: score=627525.08, remove YrRenovated\n",
      "Step: score=627524.98, remove SqFtLot\n",
      "Step: score=627524.98, remove None\n",
      "\n",
      "[Results]\n",
      "Intercept 6178645.017\n",
      "Coefficients: \n",
      " SqFtTotLiving : 199.2775530420138 \n",
      " Bathrooms : 42396.16452771995 \n",
      " Bedrooms : -51947.383673613476 \n",
      " BldgGrade : 137159.560226197 \n",
      " SqFtFinBasement : 7.046974967561255 \n",
      " YrBuilt : -3565.4249392494003 \n",
      " PropertyType_Single Family : 22912.05518701774 \n",
      " PropertyType_Townhouse : 84479.16203299782 \n"
     ]
    }
   ],
   "source": [
    "from dmba import backward_elimination, AIC_score\n",
    "\n",
    "X = house_X_dummy\n",
    "y = house[outcome]\n",
    "\n",
    "def train_model(variables):\n",
    "    if len(variables) == 0:\n",
    "        return None\n",
    "    model = LinearRegression()\n",
    "    model.fit(X[variables], y)\n",
    "    return model\n",
    "\n",
    "def score_model(model, variables):\n",
    "    if len(variables) ==0 :\n",
    "        return AIC_score(y, [y.mean()] * len(y), model, df=1)\n",
    "    return AIC_score(y, model.predict(X[variables]), model)\n",
    "\n",
    "best_model, best_variables = backward_elimination(X.columns, train_model,\n",
    "                                                score_model, verbose=True)\n",
    "print(\"\\n[Results]\")\n",
    "print(f\"Intercept {best_model.intercept_:.3f}\")\n",
    "print(\"Coefficients: \")\n",
    "for name, coef in zip(best_variables, best_model.coef_):\n",
    "    print(f\" {name} : {coef} \")\n"
   ]
  },
  {
   "cell_type": "markdown",
   "metadata": {},
   "source": [
    "#### (2) 직접 작성하기 (우석님 도움 감사합니다 ^^*)"
   ]
  },
  {
   "cell_type": "markdown",
   "metadata": {},
   "source": [
    "##### 1) 변수선택법"
   ]
  },
  {
   "cell_type": "code",
   "execution_count": 32,
   "metadata": {},
   "outputs": [
    {
     "name": "stdout",
     "output_type": "stream",
     "text": [
      "Processed 66 models on 2 predictors in 0.12000155448913574 seconds.\n"
     ]
    },
    {
     "data": {
      "text/plain": [
       "model    <statsmodels.regression.linear_model.Regressio...\n",
       "AIC                                          632462.939946\n",
       "Name: 2, dtype: object"
      ]
     },
     "execution_count": 32,
     "metadata": {},
     "output_type": "execute_result"
    }
   ],
   "source": [
    "import time\n",
    "import itertools\n",
    "\n",
    "#변수선택을 통해 형성한 모델의 AIC를 구하는 함수\n",
    "# AIC가 낮을 수록 모델이 좋다고 평가된다.\n",
    "def processSubset(X,y,feature_set):\n",
    "    model = sm.OLS(y,X[list(feature_set)]) # Modeling\n",
    "    regr = model.fit() # model fitting\n",
    "    AIC = regr.aic # model's AIC\n",
    "    return {\"model\" : regr, \"AIC\" : AIC}\n",
    "\n",
    "# getBest : 가장 낮은 AIC를 가지는 모델을 선택하고 저장하는 함수\n",
    "def getBest(X,y,k):\n",
    "    tic = time.time() # 시작 시간\n",
    "    results = [] # 결과 저장 공간\n",
    "    \n",
    "    # 각 변수 조합을 고려한 경우의수\n",
    "    for combo in itertools.combinations(X.columns,k):\n",
    "        results.append(processSubset(X,y,feature_set = combo)) # 모델링된것을 저장\n",
    "                              \n",
    "    models = pd.DataFrame(results) # 데이터프레임으로 모델결과 변환\n",
    "    best_model = models.loc[models['AIC'].argmin()] # argmin은 최소값의 인덱스를 뽑는 함수\n",
    "    toc = time.time() # 종료 시간\n",
    "    print(\"Processed\", models.shape[0], \"models on\", k, \"predictors in\",(toc - tic),\"seconds.\")\n",
    "    return best_model\n",
    "\n",
    "getBest(X=X, y=y, k=2)"
   ]
  },
  {
   "cell_type": "markdown",
   "metadata": {},
   "source": [
    "##### 2) 전진선택법"
   ]
  },
  {
   "cell_type": "code",
   "execution_count": 33,
   "metadata": {},
   "outputs": [],
   "source": [
    "def forward(X,y,predictors):\n",
    "    # predictor - 현재 선택되어있는 변수\n",
    "    # 데이터 변수들이 미리정의된 predictors에 있는지 없는지 확인 및 분류\n",
    "    remaining_predictors = [p for p in X.columns if p not in predictors]\n",
    "    tic = time.time()\n",
    "    results = []\n",
    "    for p in remaining_predictors :\n",
    "        results.append(processSubset(X=X,y=y,feature_set=predictors+[p]))\n",
    "\n",
    "    # 데이터프레임으로 변환\n",
    "    models = pd.DataFrame(results)\n",
    "\n",
    "    # AIC가 가장 낮은 것을 선택\n",
    "    best_model = models.loc[models['AIC'].argmin()]\n",
    "    \n",
    "    toc = time.time()\n",
    "    # print(best_model)\n",
    "    print(f\"Processed {models.shape[0]}, models on {len(predictors)+1},predictors in{(toc-tic):.3f}\")\n",
    "    print(f\"Selected predictors: {best_model['model'].model.exog_names} \\nAIC: {best_model[1]:.3f}\")\n",
    "    print()\n",
    "    return best_model\n",
    "\n",
    "def forward_model(X,y):\n",
    "    Fmodels = pd.DataFrame(columns=[\"AIC\",\"model\"])\n",
    "    tic = time.time()\n",
    "    predictors = []\n",
    "\n",
    "    # 변수 1~10개 : 0-9 -> 1-10\n",
    "    for i in range(1, len(X.columns.difference(['const']))+1):\n",
    "        Forward_result = forward(X=X , y=y, predictors=predictors)\n",
    "        if i > 1 :\n",
    "            if Forward_result[\"AIC\"] > Fmodel_before:\n",
    "                break\n",
    "        Fmodels.loc[i] = Forward_result\n",
    "        predictors = Fmodels.loc[i][\"model\"].model.exog_names\n",
    "        Fmodel_before = Fmodels.loc[i][\"AIC\"]\n",
    "        predictors = [k for k in predictors if k != 'const']\n",
    "    toc = time.time()\n",
    "    print(\"Total elapsed time:\",(toc-tic), \"seconds.\")\n",
    "\n",
    "    return (Fmodels['model'][len(Fmodels['model'])])"
   ]
  },
  {
   "cell_type": "code",
   "execution_count": 35,
   "metadata": {},
   "outputs": [
    {
     "name": "stdout",
     "output_type": "stream",
     "text": [
      "Processed 12, models on 1,predictors in0.021\n",
      "Selected predictors: ['SqFtTotLiving'] \n",
      "AIC: 633104.575\n",
      "\n",
      "Processed 11, models on 2,predictors in0.022\n",
      "Selected predictors: ['SqFtTotLiving', 'Bedrooms'] \n",
      "AIC: 632462.940\n",
      "\n",
      "Processed 10, models on 3,predictors in0.028\n",
      "Selected predictors: ['SqFtTotLiving', 'Bedrooms', 'BldgGrade'] \n",
      "AIC: 631447.465\n",
      "\n",
      "Processed 9, models on 4,predictors in0.030\n",
      "Selected predictors: ['SqFtTotLiving', 'Bedrooms', 'BldgGrade', 'YrBuilt'] \n",
      "AIC: 629926.036\n",
      "\n",
      "Processed 8, models on 5,predictors in0.033\n",
      "Selected predictors: ['SqFtTotLiving', 'Bedrooms', 'BldgGrade', 'YrBuilt', 'SqFtFinBasement'] \n",
      "AIC: 629539.330\n",
      "\n",
      "Processed 7, models on 6,predictors in0.043\n",
      "Selected predictors: ['SqFtTotLiving', 'Bedrooms', 'BldgGrade', 'YrBuilt', 'SqFtFinBasement', 'YrRenovated'] \n",
      "AIC: 629372.560\n",
      "\n",
      "Processed 6, models on 7,predictors in0.039\n",
      "Selected predictors: ['SqFtTotLiving', 'Bedrooms', 'BldgGrade', 'YrBuilt', 'SqFtFinBasement', 'YrRenovated', 'NewConstruction'] \n",
      "AIC: 629252.307\n",
      "\n",
      "Processed 5, models on 8,predictors in0.047\n",
      "Selected predictors: ['SqFtTotLiving', 'Bedrooms', 'BldgGrade', 'YrBuilt', 'SqFtFinBasement', 'YrRenovated', 'NewConstruction', 'NbrLivingUnits'] \n",
      "AIC: 629180.568\n",
      "\n",
      "Processed 4, models on 9,predictors in0.036\n",
      "Selected predictors: ['SqFtTotLiving', 'Bedrooms', 'BldgGrade', 'YrBuilt', 'SqFtFinBasement', 'YrRenovated', 'NewConstruction', 'NbrLivingUnits', 'PropertyType_Single Family'] \n",
      "AIC: 629160.738\n",
      "\n",
      "Processed 3, models on 10,predictors in0.028\n",
      "Selected predictors: ['SqFtTotLiving', 'Bedrooms', 'BldgGrade', 'YrBuilt', 'SqFtFinBasement', 'YrRenovated', 'NewConstruction', 'NbrLivingUnits', 'PropertyType_Single Family', 'PropertyType_Townhouse'] \n",
      "AIC: 629064.201\n",
      "\n",
      "Processed 2, models on 11,predictors in0.022\n",
      "Selected predictors: ['SqFtTotLiving', 'Bedrooms', 'BldgGrade', 'YrBuilt', 'SqFtFinBasement', 'YrRenovated', 'NewConstruction', 'NbrLivingUnits', 'PropertyType_Single Family', 'PropertyType_Townhouse', 'Bathrooms'] \n",
      "AIC: 629064.424\n",
      "\n",
      "Total elapsed time: 0.36099910736083984 seconds.\n"
     ]
    },
    {
     "data": {
      "text/plain": [
       "629064.2012919211"
      ]
     },
     "execution_count": 35,
     "metadata": {},
     "output_type": "execute_result"
    }
   ],
   "source": [
    "Forward_best_model = forward_model(X=X, y=y)\n",
    "Forward_best_model.aic"
   ]
  },
  {
   "cell_type": "code",
   "execution_count": 36,
   "metadata": {},
   "outputs": [
    {
     "data": {
      "text/html": [
       "<table class=\"simpletable\">\n",
       "<caption>OLS Regression Results</caption>\n",
       "<tr>\n",
       "  <th>Dep. Variable:</th>      <td>AdjSalePrice</td>   <th>  R-squared (uncentered):</th>       <td>   0.862</td>  \n",
       "</tr>\n",
       "<tr>\n",
       "  <th>Model:</th>                   <td>OLS</td>       <th>  Adj. R-squared (uncentered):</th>  <td>   0.862</td>  \n",
       "</tr>\n",
       "<tr>\n",
       "  <th>Method:</th>             <td>Least Squares</td>  <th>  F-statistic:       </th>           <td>1.420e+04</td> \n",
       "</tr>\n",
       "<tr>\n",
       "  <th>Date:</th>             <td>Sat, 09 Sep 2023</td> <th>  Prob (F-statistic):</th>            <td>  0.00</td>   \n",
       "</tr>\n",
       "<tr>\n",
       "  <th>Time:</th>                 <td>14:43:56</td>     <th>  Log-Likelihood:    </th>          <td>-3.1452e+05</td>\n",
       "</tr>\n",
       "<tr>\n",
       "  <th>No. Observations:</th>      <td> 22687</td>      <th>  AIC:               </th>           <td>6.291e+05</td> \n",
       "</tr>\n",
       "<tr>\n",
       "  <th>Df Residuals:</th>          <td> 22677</td>      <th>  BIC:               </th>           <td>6.291e+05</td> \n",
       "</tr>\n",
       "<tr>\n",
       "  <th>Df Model:</th>              <td>    10</td>      <th>                     </th>               <td> </td>     \n",
       "</tr>\n",
       "<tr>\n",
       "  <th>Covariance Type:</th>      <td>nonrobust</td>    <th>                     </th>               <td> </td>     \n",
       "</tr>\n",
       "</table>\n",
       "<table class=\"simpletable\">\n",
       "<tr>\n",
       "               <td></td>                 <th>coef</th>     <th>std err</th>      <th>t</th>      <th>P>|t|</th>  <th>[0.025</th>    <th>0.975]</th>  \n",
       "</tr>\n",
       "<tr>\n",
       "  <th>SqFtTotLiving</th>              <td>  179.7514</td> <td>    3.837</td> <td>   46.841</td> <td> 0.000</td> <td>  172.230</td> <td>  187.273</td>\n",
       "</tr>\n",
       "<tr>\n",
       "  <th>Bedrooms</th>                   <td>-5.101e+04</td> <td> 2420.704</td> <td>  -21.073</td> <td> 0.000</td> <td>-5.58e+04</td> <td>-4.63e+04</td>\n",
       "</tr>\n",
       "<tr>\n",
       "  <th>BldgGrade</th>                  <td> 1.368e+05</td> <td> 2515.119</td> <td>   54.403</td> <td> 0.000</td> <td> 1.32e+05</td> <td> 1.42e+05</td>\n",
       "</tr>\n",
       "<tr>\n",
       "  <th>YrBuilt</th>                    <td> -623.3345</td> <td>   22.823</td> <td>  -27.312</td> <td> 0.000</td> <td> -668.069</td> <td> -578.600</td>\n",
       "</tr>\n",
       "<tr>\n",
       "  <th>SqFtFinBasement</th>            <td>   70.6415</td> <td>    4.486</td> <td>   15.746</td> <td> 0.000</td> <td>   61.848</td> <td>   79.435</td>\n",
       "</tr>\n",
       "<tr>\n",
       "  <th>YrRenovated</th>                <td>   42.8765</td> <td>    3.876</td> <td>   11.061</td> <td> 0.000</td> <td>   35.279</td> <td>   50.474</td>\n",
       "</tr>\n",
       "<tr>\n",
       "  <th>NewConstruction</th>            <td>-5.212e+04</td> <td> 5965.939</td> <td>   -8.737</td> <td> 0.000</td> <td>-6.38e+04</td> <td>-4.04e+04</td>\n",
       "</tr>\n",
       "<tr>\n",
       "  <th>NbrLivingUnits</th>             <td> 2.374e+05</td> <td> 1.71e+04</td> <td>   13.847</td> <td> 0.000</td> <td> 2.04e+05</td> <td> 2.71e+05</td>\n",
       "</tr>\n",
       "<tr>\n",
       "  <th>PropertyType_Single Family</th> <td> 2.825e+05</td> <td> 2.61e+04</td> <td>   10.812</td> <td> 0.000</td> <td> 2.31e+05</td> <td> 3.34e+05</td>\n",
       "</tr>\n",
       "<tr>\n",
       "  <th>PropertyType_Townhouse</th>     <td> 2.736e+05</td> <td> 2.75e+04</td> <td>    9.935</td> <td> 0.000</td> <td>  2.2e+05</td> <td> 3.28e+05</td>\n",
       "</tr>\n",
       "</table>\n",
       "<table class=\"simpletable\">\n",
       "<tr>\n",
       "  <th>Omnibus:</th>       <td>29816.595</td> <th>  Durbin-Watson:     </th>   <td>   1.346</td>  \n",
       "</tr>\n",
       "<tr>\n",
       "  <th>Prob(Omnibus):</th>  <td> 0.000</td>   <th>  Jarque-Bera (JB):  </th> <td>20331446.936</td>\n",
       "</tr>\n",
       "<tr>\n",
       "  <th>Skew:</th>           <td> 6.938</td>   <th>  Prob(JB):          </th>   <td>    0.00</td>  \n",
       "</tr>\n",
       "<tr>\n",
       "  <th>Kurtosis:</th>       <td>148.998</td>  <th>  Cond. No.          </th>   <td>7.05e+04</td>  \n",
       "</tr>\n",
       "</table><br/><br/>Notes:<br/>[1] R² is computed without centering (uncentered) since the model does not contain a constant.<br/>[2] Standard Errors assume that the covariance matrix of the errors is correctly specified.<br/>[3] The condition number is large, 7.05e+04. This might indicate that there are<br/>strong multicollinearity or other numerical problems."
      ],
      "text/plain": [
       "<class 'statsmodels.iolib.summary.Summary'>\n",
       "\"\"\"\n",
       "                                 OLS Regression Results                                \n",
       "=======================================================================================\n",
       "Dep. Variable:           AdjSalePrice   R-squared (uncentered):                   0.862\n",
       "Model:                            OLS   Adj. R-squared (uncentered):              0.862\n",
       "Method:                 Least Squares   F-statistic:                          1.420e+04\n",
       "Date:                Sat, 09 Sep 2023   Prob (F-statistic):                        0.00\n",
       "Time:                        14:43:56   Log-Likelihood:                     -3.1452e+05\n",
       "No. Observations:               22687   AIC:                                  6.291e+05\n",
       "Df Residuals:                   22677   BIC:                                  6.291e+05\n",
       "Df Model:                          10                                                  \n",
       "Covariance Type:            nonrobust                                                  \n",
       "==============================================================================================\n",
       "                                 coef    std err          t      P>|t|      [0.025      0.975]\n",
       "----------------------------------------------------------------------------------------------\n",
       "SqFtTotLiving                179.7514      3.837     46.841      0.000     172.230     187.273\n",
       "Bedrooms                   -5.101e+04   2420.704    -21.073      0.000   -5.58e+04   -4.63e+04\n",
       "BldgGrade                   1.368e+05   2515.119     54.403      0.000    1.32e+05    1.42e+05\n",
       "YrBuilt                     -623.3345     22.823    -27.312      0.000    -668.069    -578.600\n",
       "SqFtFinBasement               70.6415      4.486     15.746      0.000      61.848      79.435\n",
       "YrRenovated                   42.8765      3.876     11.061      0.000      35.279      50.474\n",
       "NewConstruction            -5.212e+04   5965.939     -8.737      0.000   -6.38e+04   -4.04e+04\n",
       "NbrLivingUnits              2.374e+05   1.71e+04     13.847      0.000    2.04e+05    2.71e+05\n",
       "PropertyType_Single Family  2.825e+05   2.61e+04     10.812      0.000    2.31e+05    3.34e+05\n",
       "PropertyType_Townhouse      2.736e+05   2.75e+04      9.935      0.000     2.2e+05    3.28e+05\n",
       "==============================================================================\n",
       "Omnibus:                    29816.595   Durbin-Watson:                   1.346\n",
       "Prob(Omnibus):                  0.000   Jarque-Bera (JB):         20331446.936\n",
       "Skew:                           6.938   Prob(JB):                         0.00\n",
       "Kurtosis:                     148.998   Cond. No.                     7.05e+04\n",
       "==============================================================================\n",
       "\n",
       "Notes:\n",
       "[1] R² is computed without centering (uncentered) since the model does not contain a constant.\n",
       "[2] Standard Errors assume that the covariance matrix of the errors is correctly specified.\n",
       "[3] The condition number is large, 7.05e+04. This might indicate that there are\n",
       "strong multicollinearity or other numerical problems.\n",
       "\"\"\""
      ]
     },
     "execution_count": 36,
     "metadata": {},
     "output_type": "execute_result"
    }
   ],
   "source": [
    "Forward_best_model.summary()"
   ]
  },
  {
   "cell_type": "markdown",
   "metadata": {},
   "source": [
    "##### (3) 후진제거법"
   ]
  },
  {
   "cell_type": "code",
   "execution_count": 37,
   "metadata": {},
   "outputs": [],
   "source": [
    "def backward(X,y,predictors):\n",
    "    tic = time.time()\n",
    "    results = []\n",
    "    for combo in itertools.combinations(predictors, len(predictors) - 1):\n",
    "        results.append(processSubset(X=X,y=y,feature_set=list(combo)))\n",
    "    models = pd.DataFrame(results)\n",
    "    # 가장 낮은 AIC를 가진 모델을 선택\n",
    "    best_model = models.loc[models['AIC'].argmin()]\n",
    "    toc = time.time()\n",
    "    \n",
    "    print(f\"Processed {models.shape[0]} models on {len(predictors) - 1} predictors in {(toc-tic):.3f}\")\n",
    "    print(f'Selected predictors: {best_model[\"model\"].model.exog_names} \\n AIC: {best_model[1]:.3f}')\n",
    "    print()\n",
    "    \n",
    "    return best_model\n",
    "\n",
    "def backward_model(X,y) :\n",
    "    Bmodels = pd.DataFrame(columns=[\"AIC\",\"model\"], index = range(1,len(X.columns)))\n",
    "    tic = time.time()\n",
    "    predictors = X.columns\n",
    "    Bmodel_before = processSubset(X, y, predictors)['AIC']\n",
    "    while (len(predictors) > 1):\n",
    "        Backward_result = backward(X=X, y= y,predictors=predictors)\n",
    "        if Backward_result['AIC'] > Bmodel_before : break\n",
    "        Bmodels.loc[len(predictors) -1] = Backward_result\n",
    "        predictors = Bmodels.loc[len(predictors) - 1]['model'].model.exog_names\n",
    "        Bmodel_before = Backward_result[\"AIC\"]\n",
    "        predictors = [k for k in predictors ]\n",
    "\n",
    "    toc = time.time()\n",
    "    print(\"Total elapsed time:\",(toc-tic),\"seconds.\")\n",
    "    return Bmodels[\"model\"].dropna().iloc[0]"
   ]
  },
  {
   "cell_type": "code",
   "execution_count": 38,
   "metadata": {},
   "outputs": [
    {
     "name": "stdout",
     "output_type": "stream",
     "text": [
      "Processed 12 models on 11 predictors in 0.115\n",
      "Selected predictors: ['SqFtTotLiving', 'Bathrooms', 'Bedrooms', 'BldgGrade', 'NbrLivingUnits', 'SqFtFinBasement', 'YrBuilt', 'YrRenovated', 'NewConstruction', 'PropertyType_Single Family', 'PropertyType_Townhouse'] \n",
      " AIC: 629064.424\n",
      "\n",
      "Processed 11 models on 10 predictors in 0.090\n",
      "Selected predictors: ['SqFtTotLiving', 'Bedrooms', 'BldgGrade', 'NbrLivingUnits', 'SqFtFinBasement', 'YrBuilt', 'YrRenovated', 'NewConstruction', 'PropertyType_Single Family', 'PropertyType_Townhouse'] \n",
      " AIC: 629064.201\n",
      "\n",
      "Processed 10 models on 9 predictors in 0.087\n",
      "Selected predictors: ['SqFtTotLiving', 'Bedrooms', 'BldgGrade', 'NbrLivingUnits', 'SqFtFinBasement', 'YrBuilt', 'YrRenovated', 'PropertyType_Single Family', 'PropertyType_Townhouse'] \n",
      " AIC: 629138.439\n",
      "\n",
      "Total elapsed time: 0.3149850368499756 seconds.\n"
     ]
    }
   ],
   "source": [
    "Backward_best_model = backward_model(X=X, y= y)"
   ]
  },
  {
   "cell_type": "code",
   "execution_count": 39,
   "metadata": {},
   "outputs": [
    {
     "data": {
      "text/html": [
       "<table class=\"simpletable\">\n",
       "<caption>OLS Regression Results</caption>\n",
       "<tr>\n",
       "  <th>Dep. Variable:</th>      <td>AdjSalePrice</td>   <th>  R-squared (uncentered):</th>       <td>   0.862</td>  \n",
       "</tr>\n",
       "<tr>\n",
       "  <th>Model:</th>                   <td>OLS</td>       <th>  Adj. R-squared (uncentered):</th>  <td>   0.862</td>  \n",
       "</tr>\n",
       "<tr>\n",
       "  <th>Method:</th>             <td>Least Squares</td>  <th>  F-statistic:       </th>           <td>1.420e+04</td> \n",
       "</tr>\n",
       "<tr>\n",
       "  <th>Date:</th>             <td>Sat, 09 Sep 2023</td> <th>  Prob (F-statistic):</th>            <td>  0.00</td>   \n",
       "</tr>\n",
       "<tr>\n",
       "  <th>Time:</th>                 <td>14:44:01</td>     <th>  Log-Likelihood:    </th>          <td>-3.1452e+05</td>\n",
       "</tr>\n",
       "<tr>\n",
       "  <th>No. Observations:</th>      <td> 22687</td>      <th>  AIC:               </th>           <td>6.291e+05</td> \n",
       "</tr>\n",
       "<tr>\n",
       "  <th>Df Residuals:</th>          <td> 22677</td>      <th>  BIC:               </th>           <td>6.291e+05</td> \n",
       "</tr>\n",
       "<tr>\n",
       "  <th>Df Model:</th>              <td>    10</td>      <th>                     </th>               <td> </td>     \n",
       "</tr>\n",
       "<tr>\n",
       "  <th>Covariance Type:</th>      <td>nonrobust</td>    <th>                     </th>               <td> </td>     \n",
       "</tr>\n",
       "</table>\n",
       "<table class=\"simpletable\">\n",
       "<tr>\n",
       "               <td></td>                 <th>coef</th>     <th>std err</th>      <th>t</th>      <th>P>|t|</th>  <th>[0.025</th>    <th>0.975]</th>  \n",
       "</tr>\n",
       "<tr>\n",
       "  <th>SqFtTotLiving</th>              <td>  179.7514</td> <td>    3.837</td> <td>   46.841</td> <td> 0.000</td> <td>  172.230</td> <td>  187.273</td>\n",
       "</tr>\n",
       "<tr>\n",
       "  <th>Bedrooms</th>                   <td>-5.101e+04</td> <td> 2420.704</td> <td>  -21.073</td> <td> 0.000</td> <td>-5.58e+04</td> <td>-4.63e+04</td>\n",
       "</tr>\n",
       "<tr>\n",
       "  <th>BldgGrade</th>                  <td> 1.368e+05</td> <td> 2515.119</td> <td>   54.403</td> <td> 0.000</td> <td> 1.32e+05</td> <td> 1.42e+05</td>\n",
       "</tr>\n",
       "<tr>\n",
       "  <th>NbrLivingUnits</th>             <td> 2.374e+05</td> <td> 1.71e+04</td> <td>   13.847</td> <td> 0.000</td> <td> 2.04e+05</td> <td> 2.71e+05</td>\n",
       "</tr>\n",
       "<tr>\n",
       "  <th>SqFtFinBasement</th>            <td>   70.6415</td> <td>    4.486</td> <td>   15.746</td> <td> 0.000</td> <td>   61.848</td> <td>   79.435</td>\n",
       "</tr>\n",
       "<tr>\n",
       "  <th>YrBuilt</th>                    <td> -623.3345</td> <td>   22.823</td> <td>  -27.312</td> <td> 0.000</td> <td> -668.069</td> <td> -578.600</td>\n",
       "</tr>\n",
       "<tr>\n",
       "  <th>YrRenovated</th>                <td>   42.8765</td> <td>    3.876</td> <td>   11.061</td> <td> 0.000</td> <td>   35.279</td> <td>   50.474</td>\n",
       "</tr>\n",
       "<tr>\n",
       "  <th>NewConstruction</th>            <td>-5.212e+04</td> <td> 5965.939</td> <td>   -8.737</td> <td> 0.000</td> <td>-6.38e+04</td> <td>-4.04e+04</td>\n",
       "</tr>\n",
       "<tr>\n",
       "  <th>PropertyType_Single Family</th> <td> 2.825e+05</td> <td> 2.61e+04</td> <td>   10.812</td> <td> 0.000</td> <td> 2.31e+05</td> <td> 3.34e+05</td>\n",
       "</tr>\n",
       "<tr>\n",
       "  <th>PropertyType_Townhouse</th>     <td> 2.736e+05</td> <td> 2.75e+04</td> <td>    9.935</td> <td> 0.000</td> <td>  2.2e+05</td> <td> 3.28e+05</td>\n",
       "</tr>\n",
       "</table>\n",
       "<table class=\"simpletable\">\n",
       "<tr>\n",
       "  <th>Omnibus:</th>       <td>29816.595</td> <th>  Durbin-Watson:     </th>   <td>   1.346</td>  \n",
       "</tr>\n",
       "<tr>\n",
       "  <th>Prob(Omnibus):</th>  <td> 0.000</td>   <th>  Jarque-Bera (JB):  </th> <td>20331446.936</td>\n",
       "</tr>\n",
       "<tr>\n",
       "  <th>Skew:</th>           <td> 6.938</td>   <th>  Prob(JB):          </th>   <td>    0.00</td>  \n",
       "</tr>\n",
       "<tr>\n",
       "  <th>Kurtosis:</th>       <td>148.998</td>  <th>  Cond. No.          </th>   <td>7.05e+04</td>  \n",
       "</tr>\n",
       "</table><br/><br/>Notes:<br/>[1] R² is computed without centering (uncentered) since the model does not contain a constant.<br/>[2] Standard Errors assume that the covariance matrix of the errors is correctly specified.<br/>[3] The condition number is large, 7.05e+04. This might indicate that there are<br/>strong multicollinearity or other numerical problems."
      ],
      "text/plain": [
       "<class 'statsmodels.iolib.summary.Summary'>\n",
       "\"\"\"\n",
       "                                 OLS Regression Results                                \n",
       "=======================================================================================\n",
       "Dep. Variable:           AdjSalePrice   R-squared (uncentered):                   0.862\n",
       "Model:                            OLS   Adj. R-squared (uncentered):              0.862\n",
       "Method:                 Least Squares   F-statistic:                          1.420e+04\n",
       "Date:                Sat, 09 Sep 2023   Prob (F-statistic):                        0.00\n",
       "Time:                        14:44:01   Log-Likelihood:                     -3.1452e+05\n",
       "No. Observations:               22687   AIC:                                  6.291e+05\n",
       "Df Residuals:                   22677   BIC:                                  6.291e+05\n",
       "Df Model:                          10                                                  \n",
       "Covariance Type:            nonrobust                                                  \n",
       "==============================================================================================\n",
       "                                 coef    std err          t      P>|t|      [0.025      0.975]\n",
       "----------------------------------------------------------------------------------------------\n",
       "SqFtTotLiving                179.7514      3.837     46.841      0.000     172.230     187.273\n",
       "Bedrooms                   -5.101e+04   2420.704    -21.073      0.000   -5.58e+04   -4.63e+04\n",
       "BldgGrade                   1.368e+05   2515.119     54.403      0.000    1.32e+05    1.42e+05\n",
       "NbrLivingUnits              2.374e+05   1.71e+04     13.847      0.000    2.04e+05    2.71e+05\n",
       "SqFtFinBasement               70.6415      4.486     15.746      0.000      61.848      79.435\n",
       "YrBuilt                     -623.3345     22.823    -27.312      0.000    -668.069    -578.600\n",
       "YrRenovated                   42.8765      3.876     11.061      0.000      35.279      50.474\n",
       "NewConstruction            -5.212e+04   5965.939     -8.737      0.000   -6.38e+04   -4.04e+04\n",
       "PropertyType_Single Family  2.825e+05   2.61e+04     10.812      0.000    2.31e+05    3.34e+05\n",
       "PropertyType_Townhouse      2.736e+05   2.75e+04      9.935      0.000     2.2e+05    3.28e+05\n",
       "==============================================================================\n",
       "Omnibus:                    29816.595   Durbin-Watson:                   1.346\n",
       "Prob(Omnibus):                  0.000   Jarque-Bera (JB):         20331446.936\n",
       "Skew:                           6.938   Prob(JB):                         0.00\n",
       "Kurtosis:                     148.998   Cond. No.                     7.05e+04\n",
       "==============================================================================\n",
       "\n",
       "Notes:\n",
       "[1] R² is computed without centering (uncentered) since the model does not contain a constant.\n",
       "[2] Standard Errors assume that the covariance matrix of the errors is correctly specified.\n",
       "[3] The condition number is large, 7.05e+04. This might indicate that there are\n",
       "strong multicollinearity or other numerical problems.\n",
       "\"\"\""
      ]
     },
     "execution_count": 39,
     "metadata": {},
     "output_type": "execute_result"
    }
   ],
   "source": [
    "Backward_best_model.summary()"
   ]
  },
  {
   "cell_type": "markdown",
   "metadata": {},
   "source": [
    "### 4.2.5 가중회귀\n",
    "\n",
    "* 가중회귀의 유용성\n",
    "    - 서로 다른 관측치를 다른 정밀도로 측정했을 때, 역분산 가중치를 얻을 수 있다. 분산이 높을수록 가중치가 낮음\n",
    "    - 가중치 변수가 집계된 데이터의 각 행이 나타내는 원본 관측치의 수를 인코딩하도록, 행이 여러 경우를 의미하는 데이터를 분석할 수 있음"
   ]
  },
  {
   "cell_type": "code",
   "execution_count": 40,
   "metadata": {},
   "outputs": [
    {
     "data": {
      "text/html": [
       "<div>\n",
       "<style scoped>\n",
       "    .dataframe tbody tr th:only-of-type {\n",
       "        vertical-align: middle;\n",
       "    }\n",
       "\n",
       "    .dataframe tbody tr th {\n",
       "        vertical-align: top;\n",
       "    }\n",
       "\n",
       "    .dataframe thead th {\n",
       "        text-align: right;\n",
       "    }\n",
       "</style>\n",
       "<table border=\"1\" class=\"dataframe\">\n",
       "  <thead>\n",
       "    <tr style=\"text-align: right;\">\n",
       "      <th></th>\n",
       "      <th>DocumentDate</th>\n",
       "      <th>SalePrice</th>\n",
       "      <th>PropertyID</th>\n",
       "      <th>PropertyType</th>\n",
       "      <th>ym</th>\n",
       "      <th>zhvi_px</th>\n",
       "      <th>zhvi_idx</th>\n",
       "      <th>AdjSalePrice</th>\n",
       "      <th>NbrLivingUnits</th>\n",
       "      <th>SqFtLot</th>\n",
       "      <th>...</th>\n",
       "      <th>Bathrooms</th>\n",
       "      <th>Bedrooms</th>\n",
       "      <th>BldgGrade</th>\n",
       "      <th>YrBuilt</th>\n",
       "      <th>YrRenovated</th>\n",
       "      <th>TrafficNoise</th>\n",
       "      <th>LandVal</th>\n",
       "      <th>ImpsVal</th>\n",
       "      <th>ZipCode</th>\n",
       "      <th>NewConstruction</th>\n",
       "    </tr>\n",
       "  </thead>\n",
       "  <tbody>\n",
       "    <tr>\n",
       "      <th>1</th>\n",
       "      <td>2014-09-16</td>\n",
       "      <td>280000</td>\n",
       "      <td>1000102</td>\n",
       "      <td>Multiplex</td>\n",
       "      <td>2014-09-01</td>\n",
       "      <td>405100</td>\n",
       "      <td>0.930836</td>\n",
       "      <td>300805.0</td>\n",
       "      <td>2</td>\n",
       "      <td>9373</td>\n",
       "      <td>...</td>\n",
       "      <td>3.00</td>\n",
       "      <td>6</td>\n",
       "      <td>7</td>\n",
       "      <td>1991</td>\n",
       "      <td>0</td>\n",
       "      <td>0</td>\n",
       "      <td>70000</td>\n",
       "      <td>229000</td>\n",
       "      <td>98002</td>\n",
       "      <td>False</td>\n",
       "    </tr>\n",
       "    <tr>\n",
       "      <th>2</th>\n",
       "      <td>2006-06-16</td>\n",
       "      <td>1000000</td>\n",
       "      <td>1200013</td>\n",
       "      <td>Single Family</td>\n",
       "      <td>2006-06-01</td>\n",
       "      <td>404400</td>\n",
       "      <td>0.929228</td>\n",
       "      <td>1076162.0</td>\n",
       "      <td>1</td>\n",
       "      <td>20156</td>\n",
       "      <td>...</td>\n",
       "      <td>3.75</td>\n",
       "      <td>4</td>\n",
       "      <td>10</td>\n",
       "      <td>2005</td>\n",
       "      <td>0</td>\n",
       "      <td>0</td>\n",
       "      <td>203000</td>\n",
       "      <td>590000</td>\n",
       "      <td>98166</td>\n",
       "      <td>True</td>\n",
       "    </tr>\n",
       "    <tr>\n",
       "      <th>3</th>\n",
       "      <td>2007-01-29</td>\n",
       "      <td>745000</td>\n",
       "      <td>1200019</td>\n",
       "      <td>Single Family</td>\n",
       "      <td>2007-01-01</td>\n",
       "      <td>425600</td>\n",
       "      <td>0.977941</td>\n",
       "      <td>761805.0</td>\n",
       "      <td>1</td>\n",
       "      <td>26036</td>\n",
       "      <td>...</td>\n",
       "      <td>1.75</td>\n",
       "      <td>4</td>\n",
       "      <td>8</td>\n",
       "      <td>1947</td>\n",
       "      <td>0</td>\n",
       "      <td>0</td>\n",
       "      <td>183000</td>\n",
       "      <td>275000</td>\n",
       "      <td>98166</td>\n",
       "      <td>False</td>\n",
       "    </tr>\n",
       "    <tr>\n",
       "      <th>4</th>\n",
       "      <td>2008-02-25</td>\n",
       "      <td>425000</td>\n",
       "      <td>2800016</td>\n",
       "      <td>Single Family</td>\n",
       "      <td>2008-02-01</td>\n",
       "      <td>418400</td>\n",
       "      <td>0.961397</td>\n",
       "      <td>442065.0</td>\n",
       "      <td>1</td>\n",
       "      <td>8618</td>\n",
       "      <td>...</td>\n",
       "      <td>3.75</td>\n",
       "      <td>5</td>\n",
       "      <td>7</td>\n",
       "      <td>1966</td>\n",
       "      <td>0</td>\n",
       "      <td>0</td>\n",
       "      <td>104000</td>\n",
       "      <td>229000</td>\n",
       "      <td>98168</td>\n",
       "      <td>False</td>\n",
       "    </tr>\n",
       "    <tr>\n",
       "      <th>5</th>\n",
       "      <td>2013-03-29</td>\n",
       "      <td>240000</td>\n",
       "      <td>2800024</td>\n",
       "      <td>Single Family</td>\n",
       "      <td>2013-03-01</td>\n",
       "      <td>351600</td>\n",
       "      <td>0.807904</td>\n",
       "      <td>297065.0</td>\n",
       "      <td>1</td>\n",
       "      <td>8620</td>\n",
       "      <td>...</td>\n",
       "      <td>1.75</td>\n",
       "      <td>4</td>\n",
       "      <td>7</td>\n",
       "      <td>1948</td>\n",
       "      <td>0</td>\n",
       "      <td>0</td>\n",
       "      <td>104000</td>\n",
       "      <td>205000</td>\n",
       "      <td>98168</td>\n",
       "      <td>False</td>\n",
       "    </tr>\n",
       "  </tbody>\n",
       "</table>\n",
       "<p>5 rows × 22 columns</p>\n",
       "</div>"
      ],
      "text/plain": [
       "  DocumentDate  SalePrice  PropertyID   PropertyType          ym  zhvi_px  \\\n",
       "1   2014-09-16     280000     1000102      Multiplex  2014-09-01   405100   \n",
       "2   2006-06-16    1000000     1200013  Single Family  2006-06-01   404400   \n",
       "3   2007-01-29     745000     1200019  Single Family  2007-01-01   425600   \n",
       "4   2008-02-25     425000     2800016  Single Family  2008-02-01   418400   \n",
       "5   2013-03-29     240000     2800024  Single Family  2013-03-01   351600   \n",
       "\n",
       "   zhvi_idx  AdjSalePrice  NbrLivingUnits  SqFtLot  ...  Bathrooms  Bedrooms  \\\n",
       "1  0.930836      300805.0               2     9373  ...       3.00         6   \n",
       "2  0.929228     1076162.0               1    20156  ...       3.75         4   \n",
       "3  0.977941      761805.0               1    26036  ...       1.75         4   \n",
       "4  0.961397      442065.0               1     8618  ...       3.75         5   \n",
       "5  0.807904      297065.0               1     8620  ...       1.75         4   \n",
       "\n",
       "   BldgGrade  YrBuilt  YrRenovated  TrafficNoise  LandVal  ImpsVal  ZipCode  \\\n",
       "1          7     1991            0             0    70000   229000    98002   \n",
       "2         10     2005            0             0   203000   590000    98166   \n",
       "3          8     1947            0             0   183000   275000    98166   \n",
       "4          7     1966            0             0   104000   229000    98168   \n",
       "5          7     1948            0             0   104000   205000    98168   \n",
       "\n",
       "   NewConstruction  \n",
       "1            False  \n",
       "2             True  \n",
       "3            False  \n",
       "4            False  \n",
       "5            False  \n",
       "\n",
       "[5 rows x 22 columns]"
      ]
     },
     "execution_count": 40,
     "metadata": {},
     "output_type": "execute_result"
    }
   ],
   "source": [
    "import pandas as pd\n",
    "\n",
    "house = pd.read_csv(\"https://raw.githubusercontent.com/restful3/ds4th_study/main/source/%EB%8D%B0%EC%9D%B4%ED%84%B0%20%EA%B3%BC%ED%95%99%EC%9D%84%20%EC%9C%84%ED%95%9C%20%ED%86%B5%EA%B3%84/datasets/house_sales.csv\",\n",
    "                    sep = \"\\t\")\n",
    "house.head()\n"
   ]
  },
  {
   "cell_type": "markdown",
   "metadata": {},
   "source": [
    "* 상황\n",
    "    - 주택 가격 데이터의 경우, 오래된 매매 정보일수록 최근 정보보다는 신뢰하기 어려움\n",
    "    - 2005년(데이터 수집을 시작한) 이래 지난 연수를 가중치로 사용하기"
   ]
  },
  {
   "cell_type": "code",
   "execution_count": 41,
   "metadata": {},
   "outputs": [
    {
     "data": {
      "text/html": [
       "<div>\n",
       "<style scoped>\n",
       "    .dataframe tbody tr th:only-of-type {\n",
       "        vertical-align: middle;\n",
       "    }\n",
       "\n",
       "    .dataframe tbody tr th {\n",
       "        vertical-align: top;\n",
       "    }\n",
       "\n",
       "    .dataframe thead th {\n",
       "        text-align: right;\n",
       "    }\n",
       "</style>\n",
       "<table border=\"1\" class=\"dataframe\">\n",
       "  <thead>\n",
       "    <tr style=\"text-align: right;\">\n",
       "      <th></th>\n",
       "      <th>Year</th>\n",
       "      <th>Weight</th>\n",
       "    </tr>\n",
       "  </thead>\n",
       "  <tbody>\n",
       "    <tr>\n",
       "      <th>1</th>\n",
       "      <td>2014</td>\n",
       "      <td>9</td>\n",
       "    </tr>\n",
       "    <tr>\n",
       "      <th>2</th>\n",
       "      <td>2006</td>\n",
       "      <td>1</td>\n",
       "    </tr>\n",
       "    <tr>\n",
       "      <th>3</th>\n",
       "      <td>2007</td>\n",
       "      <td>2</td>\n",
       "    </tr>\n",
       "    <tr>\n",
       "      <th>4</th>\n",
       "      <td>2008</td>\n",
       "      <td>3</td>\n",
       "    </tr>\n",
       "    <tr>\n",
       "      <th>5</th>\n",
       "      <td>2013</td>\n",
       "      <td>8</td>\n",
       "    </tr>\n",
       "  </tbody>\n",
       "</table>\n",
       "</div>"
      ],
      "text/plain": [
       "   Year  Weight\n",
       "1  2014       9\n",
       "2  2006       1\n",
       "3  2007       2\n",
       "4  2008       3\n",
       "5  2013       8"
      ]
     },
     "execution_count": 41,
     "metadata": {},
     "output_type": "execute_result"
    }
   ],
   "source": [
    "house[\"Year\"] = [int(date.split(\"-\")[0]) for date in house.DocumentDate]\n",
    "house[\"Weight\"] = house.Year - 2005\n",
    "\n",
    "house[[\"Year\", \"Weight\"]].head()"
   ]
  },
  {
   "cell_type": "code",
   "execution_count": 42,
   "metadata": {},
   "outputs": [
    {
     "name": "stdout",
     "output_type": "stream",
     "text": [
      "Intercept: -584189.329\n",
      "Coefficient : \n",
      "  SqFtTotLiving : 245.02408862720154\n",
      "  SqFtLot : -0.292414748005573\n",
      "  Bathrooms : -26085.970108615093\n",
      "  Bedrooms : -53608.87643631376\n",
      "  BldgGrade : 115242.43472609257\n"
     ]
    }
   ],
   "source": [
    "from sklearn.linear_model import LinearRegression\n",
    "\n",
    "predictors = [ \"SqFtTotLiving\", \"SqFtLot\", \"Bathrooms\",\"Bedrooms\",\"BldgGrade\"]\n",
    "outcome = \"AdjSalePrice\"\n",
    "\n",
    "house_wt = LinearRegression()\n",
    "house_wt.fit(house[predictors], house[outcome], \\\n",
    "             sample_weight = house.Weight)\n",
    "\n",
    "print(f\"Intercept: {house_wt.intercept_:.3f}\")\n",
    "print(f\"Coefficient : \")\n",
    "for name, coef in zip(predictors, house_wt.coef_ ) :\n",
    "    print(f\"  {name} : {coef}\")\n"
   ]
  },
  {
   "cell_type": "code",
   "execution_count": 43,
   "metadata": {},
   "outputs": [
    {
     "name": "stdout",
     "output_type": "stream",
     "text": [
      "RMSE : 261908\n",
      "R2 : 0.5382\n"
     ]
    }
   ],
   "source": [
    "import numpy as np\n",
    "from sklearn.metrics import mean_squared_error, r2_score\n",
    "\n",
    "wt_fitted = house_wt.predict(house[predictors])\n",
    "wt_RSME = np.sqrt(mean_squared_error(house[outcome], wt_fitted))\n",
    "wt_r2 = r2_score(house[outcome], wt_fitted)\n",
    "\n",
    "print(f\"RMSE : {wt_RSME:.0f}\")\n",
    "print(f\"R2 : {wt_r2:.4f}\")\n",
    "\n",
    "# 다중선형회귀 sklearn로 측정한 결과\n",
    "# RMSE : 261220\n",
    "# R2 : 0.5406"
   ]
  },
  {
   "cell_type": "markdown",
   "metadata": {},
   "source": [
    "## 4.3 회귀를 이용한 예측\n",
    "- 데이터과학에서 회귀의 주된 목적 : 예측\n",
    "- 전통 통계학에서 회귀의 주된 목적 : 설명을 위한 모델링"
   ]
  },
  {
   "cell_type": "markdown",
   "metadata": {},
   "source": [
    "## 4.4 회귀에서의 요인변수"
   ]
  },
  {
   "cell_type": "markdown",
   "metadata": {},
   "source": [
    "### 4.4.1 가변수 표현"
   ]
  },
  {
   "cell_type": "code",
   "execution_count": 44,
   "metadata": {},
   "outputs": [
    {
     "name": "stdout",
     "output_type": "stream",
     "text": [
      "<class 'pandas.core.frame.DataFrame'>\n",
      "Int64Index: 22687 entries, 1 to 27063\n",
      "Data columns (total 24 columns):\n",
      " #   Column           Non-Null Count  Dtype  \n",
      "---  ------           --------------  -----  \n",
      " 0   DocumentDate     22687 non-null  object \n",
      " 1   SalePrice        22687 non-null  int64  \n",
      " 2   PropertyID       22687 non-null  int64  \n",
      " 3   PropertyType     22687 non-null  object \n",
      " 4   ym               22687 non-null  object \n",
      " 5   zhvi_px          22687 non-null  int64  \n",
      " 6   zhvi_idx         22687 non-null  float64\n",
      " 7   AdjSalePrice     22687 non-null  float64\n",
      " 8   NbrLivingUnits   22687 non-null  int64  \n",
      " 9   SqFtLot          22687 non-null  int64  \n",
      " 10  SqFtTotLiving    22687 non-null  int64  \n",
      " 11  SqFtFinBasement  22687 non-null  int64  \n",
      " 12  Bathrooms        22687 non-null  float64\n",
      " 13  Bedrooms         22687 non-null  int64  \n",
      " 14  BldgGrade        22687 non-null  int64  \n",
      " 15  YrBuilt          22687 non-null  int64  \n",
      " 16  YrRenovated      22687 non-null  int64  \n",
      " 17  TrafficNoise     22687 non-null  int64  \n",
      " 18  LandVal          22687 non-null  int64  \n",
      " 19  ImpsVal          22687 non-null  int64  \n",
      " 20  ZipCode          22687 non-null  int64  \n",
      " 21  NewConstruction  22687 non-null  bool   \n",
      " 22  Year             22687 non-null  int64  \n",
      " 23  Weight           22687 non-null  int64  \n",
      "dtypes: bool(1), float64(3), int64(17), object(3)\n",
      "memory usage: 4.2+ MB\n"
     ]
    }
   ],
   "source": [
    "house.info()"
   ]
  },
  {
   "cell_type": "code",
   "execution_count": 45,
   "metadata": {},
   "outputs": [
    {
     "data": {
      "text/plain": [
       "array(['Multiplex', 'Single Family', 'Townhouse'], dtype=object)"
      ]
     },
     "execution_count": 45,
     "metadata": {},
     "output_type": "execute_result"
    }
   ],
   "source": [
    "house[\"PropertyType\"].unique()"
   ]
  },
  {
   "cell_type": "code",
   "execution_count": 46,
   "metadata": {},
   "outputs": [
    {
     "data": {
      "text/html": [
       "<div>\n",
       "<style scoped>\n",
       "    .dataframe tbody tr th:only-of-type {\n",
       "        vertical-align: middle;\n",
       "    }\n",
       "\n",
       "    .dataframe tbody tr th {\n",
       "        vertical-align: top;\n",
       "    }\n",
       "\n",
       "    .dataframe thead th {\n",
       "        text-align: right;\n",
       "    }\n",
       "</style>\n",
       "<table border=\"1\" class=\"dataframe\">\n",
       "  <thead>\n",
       "    <tr style=\"text-align: right;\">\n",
       "      <th></th>\n",
       "      <th>Multiplex</th>\n",
       "      <th>Single Family</th>\n",
       "      <th>Townhouse</th>\n",
       "    </tr>\n",
       "  </thead>\n",
       "  <tbody>\n",
       "    <tr>\n",
       "      <th>1</th>\n",
       "      <td>1</td>\n",
       "      <td>0</td>\n",
       "      <td>0</td>\n",
       "    </tr>\n",
       "    <tr>\n",
       "      <th>2</th>\n",
       "      <td>0</td>\n",
       "      <td>1</td>\n",
       "      <td>0</td>\n",
       "    </tr>\n",
       "    <tr>\n",
       "      <th>3</th>\n",
       "      <td>0</td>\n",
       "      <td>1</td>\n",
       "      <td>0</td>\n",
       "    </tr>\n",
       "    <tr>\n",
       "      <th>4</th>\n",
       "      <td>0</td>\n",
       "      <td>1</td>\n",
       "      <td>0</td>\n",
       "    </tr>\n",
       "    <tr>\n",
       "      <th>5</th>\n",
       "      <td>0</td>\n",
       "      <td>1</td>\n",
       "      <td>0</td>\n",
       "    </tr>\n",
       "  </tbody>\n",
       "</table>\n",
       "</div>"
      ],
      "text/plain": [
       "   Multiplex  Single Family  Townhouse\n",
       "1          1              0          0\n",
       "2          0              1          0\n",
       "3          0              1          0\n",
       "4          0              1          0\n",
       "5          0              1          0"
      ]
     },
     "execution_count": 46,
     "metadata": {},
     "output_type": "execute_result"
    }
   ],
   "source": [
    "#1 기본적으로 범주형 변수의 원핫 인코딩 반환\n",
    "pd.get_dummies(house[\"PropertyType\"]).head()"
   ]
  },
  {
   "cell_type": "code",
   "execution_count": 47,
   "metadata": {},
   "outputs": [
    {
     "data": {
      "text/html": [
       "<div>\n",
       "<style scoped>\n",
       "    .dataframe tbody tr th:only-of-type {\n",
       "        vertical-align: middle;\n",
       "    }\n",
       "\n",
       "    .dataframe tbody tr th {\n",
       "        vertical-align: top;\n",
       "    }\n",
       "\n",
       "    .dataframe thead th {\n",
       "        text-align: right;\n",
       "    }\n",
       "</style>\n",
       "<table border=\"1\" class=\"dataframe\">\n",
       "  <thead>\n",
       "    <tr style=\"text-align: right;\">\n",
       "      <th></th>\n",
       "      <th>Single Family</th>\n",
       "      <th>Townhouse</th>\n",
       "    </tr>\n",
       "  </thead>\n",
       "  <tbody>\n",
       "    <tr>\n",
       "      <th>1</th>\n",
       "      <td>0</td>\n",
       "      <td>0</td>\n",
       "    </tr>\n",
       "    <tr>\n",
       "      <th>2</th>\n",
       "      <td>1</td>\n",
       "      <td>0</td>\n",
       "    </tr>\n",
       "    <tr>\n",
       "      <th>3</th>\n",
       "      <td>1</td>\n",
       "      <td>0</td>\n",
       "    </tr>\n",
       "    <tr>\n",
       "      <th>4</th>\n",
       "      <td>1</td>\n",
       "      <td>0</td>\n",
       "    </tr>\n",
       "    <tr>\n",
       "      <th>5</th>\n",
       "      <td>1</td>\n",
       "      <td>0</td>\n",
       "    </tr>\n",
       "  </tbody>\n",
       "</table>\n",
       "</div>"
      ],
      "text/plain": [
       "   Single Family  Townhouse\n",
       "1              0          0\n",
       "2              1          0\n",
       "3              1          0\n",
       "4              1          0\n",
       "5              1          0"
      ]
     },
     "execution_count": 47,
     "metadata": {},
     "output_type": "execute_result"
    }
   ],
   "source": [
    "#2. p-1개의 열 반환, 다중공선성 문제 피할 때 사용\n",
    "pd.get_dummies(house[\"PropertyType\"], drop_first=True).head()"
   ]
  },
  {
   "cell_type": "code",
   "execution_count": 48,
   "metadata": {},
   "outputs": [
    {
     "name": "stdout",
     "output_type": "stream",
     "text": [
      "Intercept: -521871.368\n",
      "Coefficient : \n",
      "  SqFtTotLiving : 228.83060360240754\n",
      "  SqFtLot : -0.06046682065306008\n",
      "  Bathrooms : -19442.840398321146\n",
      "  Bedrooms : -47769.955185214094\n",
      "  BldgGrade : 106106.9630789811\n"
     ]
    }
   ],
   "source": [
    "from sklearn.linear_model import LinearRegression\n",
    "\n",
    "predictors = [ \"SqFtTotLiving\", \"SqFtLot\", \"Bathrooms\",\"Bedrooms\",\"BldgGrade\"]\n",
    "outcome = \"AdjSalePrice\"\n",
    "\n",
    "X_dummy = pd.get_dummies(house[predictors], drop_first = True)\n",
    "\n",
    "dummy_lm = LinearRegression()\n",
    "dummy_lm.fit(X_dummy, house[outcome])\n",
    "\n",
    "print(f\"Intercept: {dummy_lm.intercept_:.3f}\")\n",
    "print(f\"Coefficient : \")\n",
    "for name, coef in zip(predictors, dummy_lm.coef_ ) :\n",
    "    print(f\"  {name} : {coef}\")\n"
   ]
  },
  {
   "cell_type": "code",
   "execution_count": 49,
   "metadata": {},
   "outputs": [
    {
     "name": "stdout",
     "output_type": "stream",
     "text": [
      "RMSE : 261220\n",
      "R2 : 0.5406\n"
     ]
    }
   ],
   "source": [
    "import numpy as np\n",
    "from sklearn.metrics import mean_squared_error, r2_score\n",
    "\n",
    "dummy_fitted = dummy_lm.predict(X_dummy)\n",
    "dummy_RSME = np.sqrt(mean_squared_error(house[outcome], dummy_fitted))\n",
    "dummy_r2 = r2_score(house[outcome], dummy_fitted)\n",
    "\n",
    "print(f\"RMSE : {dummy_RSME:.0f}\")\n",
    "print(f\"R2 : {dummy_r2:.4f}\")\n",
    "\n",
    "# 다중선형회귀 sklearn로 측정한 결과\n",
    "# RMSE : 261220\n",
    "# R2 : 0.5406"
   ]
  },
  {
   "cell_type": "markdown",
   "metadata": {},
   "source": [
    "### 4.4.2 다수의 수준을 갖는 요인변수들\n",
    "- 경우의 수가 많아서 이진더미 생성이 어려운 경우"
   ]
  },
  {
   "cell_type": "code",
   "execution_count": 50,
   "metadata": {},
   "outputs": [
    {
     "data": {
      "text/html": [
       "<div>\n",
       "<style scoped>\n",
       "    .dataframe tbody tr th:only-of-type {\n",
       "        vertical-align: middle;\n",
       "    }\n",
       "\n",
       "    .dataframe tbody tr th {\n",
       "        vertical-align: top;\n",
       "    }\n",
       "\n",
       "    .dataframe thead th {\n",
       "        text-align: right;\n",
       "    }\n",
       "</style>\n",
       "<table border=\"1\" class=\"dataframe\">\n",
       "  <thead>\n",
       "    <tr style=\"text-align: right;\">\n",
       "      <th></th>\n",
       "      <th>98038</th>\n",
       "      <th>98103</th>\n",
       "      <th>98042</th>\n",
       "      <th>98115</th>\n",
       "      <th>98117</th>\n",
       "      <th>98052</th>\n",
       "      <th>98034</th>\n",
       "      <th>98033</th>\n",
       "      <th>98059</th>\n",
       "      <th>98074</th>\n",
       "      <th>...</th>\n",
       "      <th>98051</th>\n",
       "      <th>98024</th>\n",
       "      <th>98354</th>\n",
       "      <th>98050</th>\n",
       "      <th>98057</th>\n",
       "      <th>98288</th>\n",
       "      <th>98224</th>\n",
       "      <th>98068</th>\n",
       "      <th>98113</th>\n",
       "      <th>98043</th>\n",
       "    </tr>\n",
       "  </thead>\n",
       "  <tbody>\n",
       "    <tr>\n",
       "      <th>ZipCode</th>\n",
       "      <td>788</td>\n",
       "      <td>671</td>\n",
       "      <td>641</td>\n",
       "      <td>620</td>\n",
       "      <td>619</td>\n",
       "      <td>614</td>\n",
       "      <td>575</td>\n",
       "      <td>517</td>\n",
       "      <td>513</td>\n",
       "      <td>502</td>\n",
       "      <td>...</td>\n",
       "      <td>32</td>\n",
       "      <td>31</td>\n",
       "      <td>9</td>\n",
       "      <td>7</td>\n",
       "      <td>4</td>\n",
       "      <td>4</td>\n",
       "      <td>3</td>\n",
       "      <td>1</td>\n",
       "      <td>1</td>\n",
       "      <td>1</td>\n",
       "    </tr>\n",
       "  </tbody>\n",
       "</table>\n",
       "<p>1 rows × 80 columns</p>\n",
       "</div>"
      ],
      "text/plain": [
       "         98038  98103  98042  98115  98117  98052  98034  98033  98059  98074  \\\n",
       "ZipCode    788    671    641    620    619    614    575    517    513    502   \n",
       "\n",
       "         ...  98051  98024  98354  98050  98057  98288  98224  98068  98113  \\\n",
       "ZipCode  ...     32     31      9      7      4      4      3      1      1   \n",
       "\n",
       "         98043  \n",
       "ZipCode      1  \n",
       "\n",
       "[1 rows x 80 columns]"
      ]
     },
     "execution_count": 50,
     "metadata": {},
     "output_type": "execute_result"
    }
   ],
   "source": [
    "pd.DataFrame(house[\"ZipCode\"].value_counts()).transpose()"
   ]
  },
  {
   "cell_type": "code",
   "execution_count": 51,
   "metadata": {},
   "outputs": [
    {
     "data": {
      "text/html": [
       "<div>\n",
       "<style scoped>\n",
       "    .dataframe tbody tr th:only-of-type {\n",
       "        vertical-align: middle;\n",
       "    }\n",
       "\n",
       "    .dataframe tbody tr th {\n",
       "        vertical-align: top;\n",
       "    }\n",
       "\n",
       "    .dataframe thead th {\n",
       "        text-align: right;\n",
       "    }\n",
       "</style>\n",
       "<table border=\"1\" class=\"dataframe\">\n",
       "  <thead>\n",
       "    <tr style=\"text-align: right;\">\n",
       "      <th></th>\n",
       "      <th>98038</th>\n",
       "      <th>98103</th>\n",
       "      <th>98042</th>\n",
       "      <th>98115</th>\n",
       "      <th>98117</th>\n",
       "      <th>98052</th>\n",
       "      <th>98034</th>\n",
       "      <th>98033</th>\n",
       "      <th>98059</th>\n",
       "      <th>98074</th>\n",
       "      <th>...</th>\n",
       "      <th>98051</th>\n",
       "      <th>98024</th>\n",
       "      <th>98354</th>\n",
       "      <th>98050</th>\n",
       "      <th>98057</th>\n",
       "      <th>98288</th>\n",
       "      <th>98224</th>\n",
       "      <th>98068</th>\n",
       "      <th>98113</th>\n",
       "      <th>98043</th>\n",
       "    </tr>\n",
       "  </thead>\n",
       "  <tbody>\n",
       "    <tr>\n",
       "      <th>ZipCode</th>\n",
       "      <td>788</td>\n",
       "      <td>671</td>\n",
       "      <td>641</td>\n",
       "      <td>620</td>\n",
       "      <td>619</td>\n",
       "      <td>614</td>\n",
       "      <td>575</td>\n",
       "      <td>517</td>\n",
       "      <td>513</td>\n",
       "      <td>502</td>\n",
       "      <td>...</td>\n",
       "      <td>32</td>\n",
       "      <td>31</td>\n",
       "      <td>9</td>\n",
       "      <td>7</td>\n",
       "      <td>4</td>\n",
       "      <td>4</td>\n",
       "      <td>3</td>\n",
       "      <td>1</td>\n",
       "      <td>1</td>\n",
       "      <td>1</td>\n",
       "    </tr>\n",
       "  </tbody>\n",
       "</table>\n",
       "<p>1 rows × 80 columns</p>\n",
       "</div>"
      ],
      "text/plain": [
       "         98038  98103  98042  98115  98117  98052  98034  98033  98059  98074  \\\n",
       "ZipCode    788    671    641    620    619    614    575    517    513    502   \n",
       "\n",
       "         ...  98051  98024  98354  98050  98057  98288  98224  98068  98113  \\\n",
       "ZipCode  ...     32     31      9      7      4      4      3      1      1   \n",
       "\n",
       "         98043  \n",
       "ZipCode      1  \n",
       "\n",
       "[1 rows x 80 columns]"
      ]
     },
     "execution_count": 51,
     "metadata": {},
     "output_type": "execute_result"
    }
   ],
   "source": [
    "pd.DataFrame(house[\"ZipCode\"].value_counts()).T"
   ]
  },
  {
   "cell_type": "markdown",
   "metadata": {},
   "source": [
    "- ZipCode는 주택 가격에 대한 위치 효과를 볼 수 있는 중요한 변수\n",
    "- 몇몇 번호에는 매물이 하나뿐\n",
    "- 지역을 나타내는 처음 두, 세자리로 묶을 경우 특정 지역에서만 판매가 많이 이루어지기 때문에 정보 손실\n",
    "- 해결방법 : 다른 변수(매매 가격 등)을 이용하여 우편번호 그룹 만들기"
   ]
  },
  {
   "cell_type": "code",
   "execution_count": 52,
   "metadata": {},
   "outputs": [
    {
     "data": {
      "text/html": [
       "<div>\n",
       "<style scoped>\n",
       "    .dataframe tbody tr th:only-of-type {\n",
       "        vertical-align: middle;\n",
       "    }\n",
       "\n",
       "    .dataframe tbody tr th {\n",
       "        vertical-align: top;\n",
       "    }\n",
       "\n",
       "    .dataframe thead th {\n",
       "        text-align: right;\n",
       "    }\n",
       "</style>\n",
       "<table border=\"1\" class=\"dataframe\">\n",
       "  <thead>\n",
       "    <tr style=\"text-align: right;\">\n",
       "      <th></th>\n",
       "      <th>ZipCode</th>\n",
       "      <th>count</th>\n",
       "      <th>median_residual</th>\n",
       "    </tr>\n",
       "  </thead>\n",
       "  <tbody>\n",
       "    <tr>\n",
       "      <th>36</th>\n",
       "      <td>98057</td>\n",
       "      <td>4</td>\n",
       "      <td>-537321.644462</td>\n",
       "    </tr>\n",
       "    <tr>\n",
       "      <th>27</th>\n",
       "      <td>98043</td>\n",
       "      <td>1</td>\n",
       "      <td>-307661.343614</td>\n",
       "    </tr>\n",
       "    <tr>\n",
       "      <th>46</th>\n",
       "      <td>98092</td>\n",
       "      <td>289</td>\n",
       "      <td>-193569.183599</td>\n",
       "    </tr>\n",
       "    <tr>\n",
       "      <th>23</th>\n",
       "      <td>98038</td>\n",
       "      <td>788</td>\n",
       "      <td>-150066.477035</td>\n",
       "    </tr>\n",
       "    <tr>\n",
       "      <th>31</th>\n",
       "      <td>98051</td>\n",
       "      <td>32</td>\n",
       "      <td>-142352.869593</td>\n",
       "    </tr>\n",
       "  </tbody>\n",
       "</table>\n",
       "</div>"
      ],
      "text/plain": [
       "    ZipCode  count  median_residual\n",
       "36    98057      4   -537321.644462\n",
       "27    98043      1   -307661.343614\n",
       "46    98092    289   -193569.183599\n",
       "23    98038    788   -150066.477035\n",
       "31    98051     32   -142352.869593"
      ]
     },
     "execution_count": 52,
     "metadata": {},
     "output_type": "execute_result"
    }
   ],
   "source": [
    "# 회귀 결과의 잔차값의 중간값을 기준으로 5개 그룹으로 통합하기\n",
    "zip_groups = pd.DataFrame([\n",
    "    *pd.DataFrame({\n",
    "        \"ZipCode\" : house[\"ZipCode\"],\n",
    "        \"residual\" : house[outcome] - model_multi_skl.predict(house[predictors]),\n",
    "    })\n",
    "    .groupby([\"ZipCode\"])\n",
    "    .apply(lambda x:{\n",
    "        \"ZipCode\" : x.iloc[0,0],\n",
    "        \"count\" : len(x),\n",
    "        \"median_residual\" : x.residual.median()\n",
    "    })\n",
    "]).sort_values(\"median_residual\")\n",
    "\n",
    "zip_groups.head()"
   ]
  },
  {
   "cell_type": "code",
   "execution_count": 53,
   "metadata": {},
   "outputs": [
    {
     "data": {
      "text/html": [
       "<div>\n",
       "<style scoped>\n",
       "    .dataframe tbody tr th:only-of-type {\n",
       "        vertical-align: middle;\n",
       "    }\n",
       "\n",
       "    .dataframe tbody tr th {\n",
       "        vertical-align: top;\n",
       "    }\n",
       "\n",
       "    .dataframe thead th {\n",
       "        text-align: right;\n",
       "    }\n",
       "</style>\n",
       "<table border=\"1\" class=\"dataframe\">\n",
       "  <thead>\n",
       "    <tr style=\"text-align: right;\">\n",
       "      <th></th>\n",
       "      <th>ZipCode</th>\n",
       "      <th>count</th>\n",
       "      <th>median_residual</th>\n",
       "      <th>cum_count</th>\n",
       "    </tr>\n",
       "  </thead>\n",
       "  <tbody>\n",
       "    <tr>\n",
       "      <th>36</th>\n",
       "      <td>98057</td>\n",
       "      <td>4</td>\n",
       "      <td>-537321.644462</td>\n",
       "      <td>4</td>\n",
       "    </tr>\n",
       "    <tr>\n",
       "      <th>27</th>\n",
       "      <td>98043</td>\n",
       "      <td>1</td>\n",
       "      <td>-307661.343614</td>\n",
       "      <td>5</td>\n",
       "    </tr>\n",
       "    <tr>\n",
       "      <th>46</th>\n",
       "      <td>98092</td>\n",
       "      <td>289</td>\n",
       "      <td>-193569.183599</td>\n",
       "      <td>294</td>\n",
       "    </tr>\n",
       "    <tr>\n",
       "      <th>23</th>\n",
       "      <td>98038</td>\n",
       "      <td>788</td>\n",
       "      <td>-150066.477035</td>\n",
       "      <td>1082</td>\n",
       "    </tr>\n",
       "    <tr>\n",
       "      <th>31</th>\n",
       "      <td>98051</td>\n",
       "      <td>32</td>\n",
       "      <td>-142352.869593</td>\n",
       "      <td>1114</td>\n",
       "    </tr>\n",
       "  </tbody>\n",
       "</table>\n",
       "</div>"
      ],
      "text/plain": [
       "    ZipCode  count  median_residual  cum_count\n",
       "36    98057      4   -537321.644462          4\n",
       "27    98043      1   -307661.343614          5\n",
       "46    98092    289   -193569.183599        294\n",
       "23    98038    788   -150066.477035       1082\n",
       "31    98051     32   -142352.869593       1114"
      ]
     },
     "execution_count": 53,
     "metadata": {},
     "output_type": "execute_result"
    }
   ],
   "source": [
    "zip_groups[\"cum_count\"] = np.cumsum(zip_groups[\"count\"])\n",
    "zip_groups.head()"
   ]
  },
  {
   "cell_type": "code",
   "execution_count": 54,
   "metadata": {},
   "outputs": [
    {
     "data": {
      "text/html": [
       "<div>\n",
       "<style scoped>\n",
       "    .dataframe tbody tr th:only-of-type {\n",
       "        vertical-align: middle;\n",
       "    }\n",
       "\n",
       "    .dataframe tbody tr th {\n",
       "        vertical-align: top;\n",
       "    }\n",
       "\n",
       "    .dataframe thead th {\n",
       "        text-align: right;\n",
       "    }\n",
       "</style>\n",
       "<table border=\"1\" class=\"dataframe\">\n",
       "  <thead>\n",
       "    <tr style=\"text-align: right;\">\n",
       "      <th></th>\n",
       "      <th>ZipCode</th>\n",
       "      <th>count</th>\n",
       "      <th>median_residual</th>\n",
       "      <th>cum_count</th>\n",
       "      <th>ZipGroup</th>\n",
       "    </tr>\n",
       "  </thead>\n",
       "  <tbody>\n",
       "    <tr>\n",
       "      <th>36</th>\n",
       "      <td>98057</td>\n",
       "      <td>4</td>\n",
       "      <td>-537321.644462</td>\n",
       "      <td>4</td>\n",
       "      <td>0</td>\n",
       "    </tr>\n",
       "    <tr>\n",
       "      <th>27</th>\n",
       "      <td>98043</td>\n",
       "      <td>1</td>\n",
       "      <td>-307661.343614</td>\n",
       "      <td>5</td>\n",
       "      <td>0</td>\n",
       "    </tr>\n",
       "    <tr>\n",
       "      <th>46</th>\n",
       "      <td>98092</td>\n",
       "      <td>289</td>\n",
       "      <td>-193569.183599</td>\n",
       "      <td>294</td>\n",
       "      <td>0</td>\n",
       "    </tr>\n",
       "    <tr>\n",
       "      <th>23</th>\n",
       "      <td>98038</td>\n",
       "      <td>788</td>\n",
       "      <td>-150066.477035</td>\n",
       "      <td>1082</td>\n",
       "      <td>0</td>\n",
       "    </tr>\n",
       "    <tr>\n",
       "      <th>31</th>\n",
       "      <td>98051</td>\n",
       "      <td>32</td>\n",
       "      <td>-142352.869593</td>\n",
       "      <td>1114</td>\n",
       "      <td>0</td>\n",
       "    </tr>\n",
       "  </tbody>\n",
       "</table>\n",
       "</div>"
      ],
      "text/plain": [
       "    ZipCode  count  median_residual  cum_count  ZipGroup\n",
       "36    98057      4   -537321.644462          4         0\n",
       "27    98043      1   -307661.343614          5         0\n",
       "46    98092    289   -193569.183599        294         0\n",
       "23    98038    788   -150066.477035       1082         0\n",
       "31    98051     32   -142352.869593       1114         0"
      ]
     },
     "execution_count": 54,
     "metadata": {},
     "output_type": "execute_result"
    }
   ],
   "source": [
    "zip_groups[\"ZipGroup\"] = pd.qcut(zip_groups[\"cum_count\"], 5, labels=False, retbins=False)\n",
    "zip_groups.head()"
   ]
  },
  {
   "cell_type": "code",
   "execution_count": 55,
   "metadata": {},
   "outputs": [
    {
     "data": {
      "text/html": [
       "<div>\n",
       "<style scoped>\n",
       "    .dataframe tbody tr th:only-of-type {\n",
       "        vertical-align: middle;\n",
       "    }\n",
       "\n",
       "    .dataframe tbody tr th {\n",
       "        vertical-align: top;\n",
       "    }\n",
       "\n",
       "    .dataframe thead th {\n",
       "        text-align: right;\n",
       "    }\n",
       "</style>\n",
       "<table border=\"1\" class=\"dataframe\">\n",
       "  <thead>\n",
       "    <tr style=\"text-align: right;\">\n",
       "      <th></th>\n",
       "      <th>ZipGroup</th>\n",
       "    </tr>\n",
       "    <tr>\n",
       "      <th>ZipCode</th>\n",
       "      <th></th>\n",
       "    </tr>\n",
       "  </thead>\n",
       "  <tbody>\n",
       "    <tr>\n",
       "      <th>98057</th>\n",
       "      <td>0</td>\n",
       "    </tr>\n",
       "    <tr>\n",
       "      <th>98043</th>\n",
       "      <td>0</td>\n",
       "    </tr>\n",
       "    <tr>\n",
       "      <th>98092</th>\n",
       "      <td>0</td>\n",
       "    </tr>\n",
       "    <tr>\n",
       "      <th>98038</th>\n",
       "      <td>0</td>\n",
       "    </tr>\n",
       "    <tr>\n",
       "      <th>98051</th>\n",
       "      <td>0</td>\n",
       "    </tr>\n",
       "  </tbody>\n",
       "</table>\n",
       "</div>"
      ],
      "text/plain": [
       "         ZipGroup\n",
       "ZipCode          \n",
       "98057           0\n",
       "98043           0\n",
       "98092           0\n",
       "98038           0\n",
       "98051           0"
      ]
     },
     "execution_count": 55,
     "metadata": {},
     "output_type": "execute_result"
    }
   ],
   "source": [
    "to_join = zip_groups[[\"ZipCode\", \"ZipGroup\"]].set_index(\"ZipCode\")\n",
    "to_join.head()"
   ]
  },
  {
   "cell_type": "code",
   "execution_count": 56,
   "metadata": {},
   "outputs": [
    {
     "data": {
      "text/html": [
       "<div>\n",
       "<style scoped>\n",
       "    .dataframe tbody tr th:only-of-type {\n",
       "        vertical-align: middle;\n",
       "    }\n",
       "\n",
       "    .dataframe tbody tr th {\n",
       "        vertical-align: top;\n",
       "    }\n",
       "\n",
       "    .dataframe thead th {\n",
       "        text-align: right;\n",
       "    }\n",
       "</style>\n",
       "<table border=\"1\" class=\"dataframe\">\n",
       "  <thead>\n",
       "    <tr style=\"text-align: right;\">\n",
       "      <th></th>\n",
       "      <th>DocumentDate</th>\n",
       "      <th>SalePrice</th>\n",
       "      <th>PropertyID</th>\n",
       "      <th>PropertyType</th>\n",
       "      <th>ym</th>\n",
       "      <th>zhvi_px</th>\n",
       "      <th>zhvi_idx</th>\n",
       "      <th>AdjSalePrice</th>\n",
       "      <th>NbrLivingUnits</th>\n",
       "      <th>SqFtLot</th>\n",
       "      <th>...</th>\n",
       "      <th>YrBuilt</th>\n",
       "      <th>YrRenovated</th>\n",
       "      <th>TrafficNoise</th>\n",
       "      <th>LandVal</th>\n",
       "      <th>ImpsVal</th>\n",
       "      <th>ZipCode</th>\n",
       "      <th>NewConstruction</th>\n",
       "      <th>Year</th>\n",
       "      <th>Weight</th>\n",
       "      <th>ZipGroup</th>\n",
       "    </tr>\n",
       "  </thead>\n",
       "  <tbody>\n",
       "    <tr>\n",
       "      <th>1</th>\n",
       "      <td>2014-09-16</td>\n",
       "      <td>280000</td>\n",
       "      <td>1000102</td>\n",
       "      <td>Multiplex</td>\n",
       "      <td>2014-09-01</td>\n",
       "      <td>405100</td>\n",
       "      <td>0.930836</td>\n",
       "      <td>300805.0</td>\n",
       "      <td>2</td>\n",
       "      <td>9373</td>\n",
       "      <td>...</td>\n",
       "      <td>1991</td>\n",
       "      <td>0</td>\n",
       "      <td>0</td>\n",
       "      <td>70000</td>\n",
       "      <td>229000</td>\n",
       "      <td>98002</td>\n",
       "      <td>False</td>\n",
       "      <td>2014</td>\n",
       "      <td>9</td>\n",
       "      <td>2</td>\n",
       "    </tr>\n",
       "    <tr>\n",
       "      <th>2</th>\n",
       "      <td>2006-06-16</td>\n",
       "      <td>1000000</td>\n",
       "      <td>1200013</td>\n",
       "      <td>Single Family</td>\n",
       "      <td>2006-06-01</td>\n",
       "      <td>404400</td>\n",
       "      <td>0.929228</td>\n",
       "      <td>1076162.0</td>\n",
       "      <td>1</td>\n",
       "      <td>20156</td>\n",
       "      <td>...</td>\n",
       "      <td>2005</td>\n",
       "      <td>0</td>\n",
       "      <td>0</td>\n",
       "      <td>203000</td>\n",
       "      <td>590000</td>\n",
       "      <td>98166</td>\n",
       "      <td>True</td>\n",
       "      <td>2006</td>\n",
       "      <td>1</td>\n",
       "      <td>2</td>\n",
       "    </tr>\n",
       "    <tr>\n",
       "      <th>3</th>\n",
       "      <td>2007-01-29</td>\n",
       "      <td>745000</td>\n",
       "      <td>1200019</td>\n",
       "      <td>Single Family</td>\n",
       "      <td>2007-01-01</td>\n",
       "      <td>425600</td>\n",
       "      <td>0.977941</td>\n",
       "      <td>761805.0</td>\n",
       "      <td>1</td>\n",
       "      <td>26036</td>\n",
       "      <td>...</td>\n",
       "      <td>1947</td>\n",
       "      <td>0</td>\n",
       "      <td>0</td>\n",
       "      <td>183000</td>\n",
       "      <td>275000</td>\n",
       "      <td>98166</td>\n",
       "      <td>False</td>\n",
       "      <td>2007</td>\n",
       "      <td>2</td>\n",
       "      <td>2</td>\n",
       "    </tr>\n",
       "    <tr>\n",
       "      <th>4</th>\n",
       "      <td>2008-02-25</td>\n",
       "      <td>425000</td>\n",
       "      <td>2800016</td>\n",
       "      <td>Single Family</td>\n",
       "      <td>2008-02-01</td>\n",
       "      <td>418400</td>\n",
       "      <td>0.961397</td>\n",
       "      <td>442065.0</td>\n",
       "      <td>1</td>\n",
       "      <td>8618</td>\n",
       "      <td>...</td>\n",
       "      <td>1966</td>\n",
       "      <td>0</td>\n",
       "      <td>0</td>\n",
       "      <td>104000</td>\n",
       "      <td>229000</td>\n",
       "      <td>98168</td>\n",
       "      <td>False</td>\n",
       "      <td>2008</td>\n",
       "      <td>3</td>\n",
       "      <td>2</td>\n",
       "    </tr>\n",
       "    <tr>\n",
       "      <th>5</th>\n",
       "      <td>2013-03-29</td>\n",
       "      <td>240000</td>\n",
       "      <td>2800024</td>\n",
       "      <td>Single Family</td>\n",
       "      <td>2013-03-01</td>\n",
       "      <td>351600</td>\n",
       "      <td>0.807904</td>\n",
       "      <td>297065.0</td>\n",
       "      <td>1</td>\n",
       "      <td>8620</td>\n",
       "      <td>...</td>\n",
       "      <td>1948</td>\n",
       "      <td>0</td>\n",
       "      <td>0</td>\n",
       "      <td>104000</td>\n",
       "      <td>205000</td>\n",
       "      <td>98168</td>\n",
       "      <td>False</td>\n",
       "      <td>2013</td>\n",
       "      <td>8</td>\n",
       "      <td>2</td>\n",
       "    </tr>\n",
       "  </tbody>\n",
       "</table>\n",
       "<p>5 rows × 25 columns</p>\n",
       "</div>"
      ],
      "text/plain": [
       "  DocumentDate  SalePrice  PropertyID   PropertyType          ym  zhvi_px  \\\n",
       "1   2014-09-16     280000     1000102      Multiplex  2014-09-01   405100   \n",
       "2   2006-06-16    1000000     1200013  Single Family  2006-06-01   404400   \n",
       "3   2007-01-29     745000     1200019  Single Family  2007-01-01   425600   \n",
       "4   2008-02-25     425000     2800016  Single Family  2008-02-01   418400   \n",
       "5   2013-03-29     240000     2800024  Single Family  2013-03-01   351600   \n",
       "\n",
       "   zhvi_idx  AdjSalePrice  NbrLivingUnits  SqFtLot  ...  YrBuilt  YrRenovated  \\\n",
       "1  0.930836      300805.0               2     9373  ...     1991            0   \n",
       "2  0.929228     1076162.0               1    20156  ...     2005            0   \n",
       "3  0.977941      761805.0               1    26036  ...     1947            0   \n",
       "4  0.961397      442065.0               1     8618  ...     1966            0   \n",
       "5  0.807904      297065.0               1     8620  ...     1948            0   \n",
       "\n",
       "   TrafficNoise  LandVal  ImpsVal  ZipCode  NewConstruction  Year  Weight  \\\n",
       "1             0    70000   229000    98002            False  2014       9   \n",
       "2             0   203000   590000    98166             True  2006       1   \n",
       "3             0   183000   275000    98166            False  2007       2   \n",
       "4             0   104000   229000    98168            False  2008       3   \n",
       "5             0   104000   205000    98168            False  2013       8   \n",
       "\n",
       "   ZipGroup  \n",
       "1         2  \n",
       "2         2  \n",
       "3         2  \n",
       "4         2  \n",
       "5         2  \n",
       "\n",
       "[5 rows x 25 columns]"
      ]
     },
     "execution_count": 56,
     "metadata": {},
     "output_type": "execute_result"
    }
   ],
   "source": [
    "house = house.join(to_join, on=\"ZipCode\")\n",
    "house[\"ZipGroup\"] = house[\"ZipGroup\"].astype(\"category\")\n",
    "house.head()"
   ]
  },
  {
   "cell_type": "markdown",
   "metadata": {},
   "source": [
    "## 4.5 회귀방정식 해석"
   ]
  },
  {
   "cell_type": "markdown",
   "metadata": {},
   "source": [
    "### 4.5.1 예측변수간 상관"
   ]
  },
  {
   "cell_type": "code",
   "execution_count": 57,
   "metadata": {},
   "outputs": [
    {
     "name": "stdout",
     "output_type": "stream",
     "text": [
      "Intercept: -521871.368\n",
      "Coefficient : \n",
      "  SqFtTotLiving : 228.83060360240754\n",
      "  SqFtLot : -0.06046682065306008\n",
      "  Bathrooms : -19442.840398321146\n",
      "  Bedrooms : -47769.955185214094\n",
      "  BldgGrade : 106106.9630789811\n"
     ]
    }
   ],
   "source": [
    "from sklearn.linear_model import LinearRegression\n",
    "\n",
    "predictors_cf = [ \"SqFtTotLiving\", \"SqFtLot\", \"Bathrooms\",\"Bedrooms\",\"BldgGrade\", \n",
    "              \"ZipGroup\"]\n",
    "outcome = \"AdjSalePrice\"\n",
    "\n",
    "X_confound = pd.get_dummies(house[predictors], drop_first = True)\n",
    "\n",
    "confounding_lm = LinearRegression()\n",
    "confounding_lm.fit(X_confound, house[outcome])\n",
    "\n",
    "print(f\"Intercept: {confounding_lm.intercept_:.3f}\")\n",
    "print(f\"Coefficient : \")\n",
    "for name, coef in zip(predictors, confounding_lm.coef_ ) :\n",
    "    print(f\"  {name} : {coef}\")\n"
   ]
  },
  {
   "cell_type": "markdown",
   "metadata": {},
   "source": [
    "### 4.5.3 교란변수\n",
    "- 변수 상관 : 응답변수와 비슷한 예측 관계를 가즌ㄴ 다른 변수가 포함되는 바람에 비롯된 문제\n",
    "- 교란 변수 : 회귀방정식에 중요한 변수가 포함되지 못해서 생기는 누락의 문제"
   ]
  },
  {
   "cell_type": "code",
   "execution_count": 58,
   "metadata": {},
   "outputs": [
    {
     "name": "stdout",
     "output_type": "stream",
     "text": [
      "RMSE : 261220\n",
      "R2 : 0.5406\n"
     ]
    }
   ],
   "source": [
    "import numpy as np\n",
    "from sklearn.metrics import mean_squared_error, r2_score\n",
    "\n",
    "cf_fitted = confounding_lm.predict(house[predictors])\n",
    "cf_RSME = np.sqrt(mean_squared_error(house[outcome], cf_fitted))\n",
    "cf_r2 = r2_score(house[outcome], cf_fitted)\n",
    "\n",
    "print(f\"RMSE : {cf_RSME:.0f}\")\n",
    "print(f\"R2 : {cf_r2:.4f}\")\n",
    "\n",
    "# 다중선형회귀 sklearn로 측정한 결과\n",
    "# RMSE : 261220\n",
    "# R2 : 0.5406"
   ]
  },
  {
   "cell_type": "markdown",
   "metadata": {},
   "source": [
    "### 4.5.4 상호작용과 주효과"
   ]
  },
  {
   "cell_type": "code",
   "execution_count": 59,
   "metadata": {},
   "outputs": [
    {
     "name": "stdout",
     "output_type": "stream",
     "text": [
      "                            OLS Regression Results                            \n",
      "==============================================================================\n",
      "Dep. Variable:           AdjSalePrice   R-squared:                       0.682\n",
      "Model:                            OLS   Adj. R-squared:                  0.682\n",
      "Method:                 Least Squares   F-statistic:                     3247.\n",
      "Date:                Sat, 09 Sep 2023   Prob (F-statistic):               0.00\n",
      "Time:                        14:44:22   Log-Likelihood:            -3.1098e+05\n",
      "No. Observations:               22687   AIC:                         6.220e+05\n",
      "Df Residuals:                   22671   BIC:                         6.221e+05\n",
      "Df Model:                          15                                         \n",
      "Covariance Type:            nonrobust                                         \n",
      "=================================================================================================\n",
      "                                    coef    std err          t      P>|t|      [0.025      0.975]\n",
      "-------------------------------------------------------------------------------------------------\n",
      "Intercept                     -4.853e+05   2.05e+04    -23.701      0.000   -5.25e+05   -4.45e+05\n",
      "ZipGroup[T.1]                 -1.113e+04   1.34e+04     -0.830      0.407   -3.74e+04    1.52e+04\n",
      "ZipGroup[T.2]                  2.032e+04   1.18e+04      1.717      0.086   -2877.441    4.35e+04\n",
      "ZipGroup[T.3]                   2.05e+04   1.21e+04      1.697      0.090   -3180.870    4.42e+04\n",
      "ZipGroup[T.4]                 -1.499e+05   1.13e+04    -13.285      0.000   -1.72e+05   -1.28e+05\n",
      "PropertyType[T.Single Family]  1.357e+04   1.39e+04      0.975      0.330   -1.37e+04    4.09e+04\n",
      "PropertyType[T.Townhouse]     -5.884e+04   1.51e+04     -3.888      0.000   -8.85e+04   -2.92e+04\n",
      "SqFtTotLiving                   114.7650      4.863     23.600      0.000     105.233     124.297\n",
      "SqFtTotLiving:ZipGroup[T.1]      32.6043      5.712      5.708      0.000      21.409      43.799\n",
      "SqFtTotLiving:ZipGroup[T.2]      41.7822      5.187      8.056      0.000      31.616      51.948\n",
      "SqFtTotLiving:ZipGroup[T.3]      69.3415      5.619     12.341      0.000      58.329      80.354\n",
      "SqFtTotLiving:ZipGroup[T.4]     226.6836      4.820     47.032      0.000     217.237     236.131\n",
      "SqFtLot                           0.6869      0.052     13.296      0.000       0.586       0.788\n",
      "Bathrooms                     -3619.4533   3202.296     -1.130      0.258   -9896.174    2657.267\n",
      "Bedrooms                       -4.18e+04   2120.279    -19.715      0.000    -4.6e+04   -3.76e+04\n",
      "BldgGrade                      1.047e+05   2069.472     50.592      0.000    1.01e+05    1.09e+05\n",
      "==============================================================================\n",
      "Omnibus:                    30927.394   Durbin-Watson:                   1.581\n",
      "Prob(Omnibus):                  0.000   Jarque-Bera (JB):         34361794.502\n",
      "Skew:                           7.279   Prob(JB):                         0.00\n",
      "Kurtosis:                     193.101   Cond. No.                     5.80e+05\n",
      "==============================================================================\n",
      "\n",
      "Notes:\n",
      "[1] Standard Errors assume that the covariance matrix of the errors is correctly specified.\n",
      "[2] The condition number is large, 5.8e+05. This might indicate that there are\n",
      "strong multicollinearity or other numerical problems.\n"
     ]
    }
   ],
   "source": [
    "import pandas as pd\n",
    "import statsmodels.api as sm\n",
    "\n",
    "model_coe = sm.OLS.from_formula(\"AdjSalePrice ~ SqFtTotLiving*ZipGroup + SqFtLot + Bathrooms + Bedrooms + BldgGrade + PropertyType\",\\\n",
    "                                      data=house)\n",
    "result_coe = model_coe.fit()\n",
    "print(result_coe.summary())"
   ]
  },
  {
   "cell_type": "markdown",
   "metadata": {},
   "source": [
    "## 4.6 회귀진단"
   ]
  },
  {
   "cell_type": "markdown",
   "metadata": {},
   "source": [
    "### 4.6.1 특이값(이상치)"
   ]
  },
  {
   "cell_type": "code",
   "execution_count": 60,
   "metadata": {},
   "outputs": [
    {
     "name": "stdout",
     "output_type": "stream",
     "text": [
      "                            OLS Regression Results                            \n",
      "==============================================================================\n",
      "Dep. Variable:           AdjSalePrice   R-squared:                       0.795\n",
      "Model:                            OLS   Adj. R-squared:                  0.792\n",
      "Method:                 Least Squares   F-statistic:                     238.7\n",
      "Date:                Sat, 09 Sep 2023   Prob (F-statistic):          1.69e-103\n",
      "Time:                        14:44:24   Log-Likelihood:                -4226.0\n",
      "No. Observations:                 313   AIC:                             8464.\n",
      "Df Residuals:                     307   BIC:                             8486.\n",
      "Df Model:                           5                                         \n",
      "Covariance Type:            nonrobust                                         \n",
      "=================================================================================\n",
      "                    coef    std err          t      P>|t|      [0.025      0.975]\n",
      "---------------------------------------------------------------------------------\n",
      "SqFtTotLiving   209.6023     24.408      8.587      0.000     161.574     257.631\n",
      "SqFtLot          38.9333      5.330      7.305      0.000      28.445      49.421\n",
      "Bathrooms      2282.2641      2e+04      0.114      0.909    -3.7e+04    4.16e+04\n",
      "Bedrooms      -2.632e+04   1.29e+04     -2.043      0.042   -5.17e+04    -973.867\n",
      "BldgGrade        1.3e+05   1.52e+04      8.533      0.000       1e+05     1.6e+05\n",
      "const         -7.725e+05   9.83e+04     -7.861      0.000   -9.66e+05   -5.79e+05\n",
      "==============================================================================\n",
      "Omnibus:                       82.127   Durbin-Watson:                   1.508\n",
      "Prob(Omnibus):                  0.000   Jarque-Bera (JB):              586.561\n",
      "Skew:                           0.859   Prob(JB):                    4.26e-128\n",
      "Kurtosis:                       9.483   Cond. No.                     5.63e+04\n",
      "==============================================================================\n",
      "\n",
      "Notes:\n",
      "[1] Standard Errors assume that the covariance matrix of the errors is correctly specified.\n",
      "[2] The condition number is large, 5.63e+04. This might indicate that there are\n",
      "strong multicollinearity or other numerical problems.\n"
     ]
    }
   ],
   "source": [
    "house_98105 = house.loc[house[\"ZipCode\"]==98105, ]\n",
    "predictors = [\"SqFtTotLiving\", \"SqFtLot\", \"Bathrooms\",\"Bedrooms\",\"BldgGrade\"]\n",
    "outcome = \"AdjSalePrice\"\n",
    "\n",
    "house_outlier = sm.OLS(house_98105[outcome],house_98105[predictors].assign(const=1) )\n",
    "result_98105 = house_outlier.fit()\n",
    "print(result_98105.summary())"
   ]
  },
  {
   "cell_type": "code",
   "execution_count": 61,
   "metadata": {},
   "outputs": [
    {
     "data": {
      "text/plain": [
       "(24333, -4.326731804078558)"
      ]
     },
     "execution_count": 61,
     "metadata": {},
     "output_type": "execute_result"
    }
   ],
   "source": [
    "from statsmodels.stats.outliers_influence import OLSInfluence\n",
    "influence = OLSInfluence(result_98105)\n",
    "sresiduals = influence.resid_studentized_internal # 내부적으로 표준화 잔차(=잔차/표준오차) 계산\n",
    "sresiduals.idxmin(), sresiduals.min()"
   ]
  },
  {
   "cell_type": "code",
   "execution_count": 62,
   "metadata": {},
   "outputs": [
    {
     "name": "stdout",
     "output_type": "stream",
     "text": [
      "AdjSalePrice 119748.0\n",
      "SqFtTotLiving    2900\n",
      "SqFtLot          7276\n",
      "Bathrooms         3.0\n",
      "Bedrooms            6\n",
      "BldgGrade           7\n",
      "Name: 24333, dtype: object\n"
     ]
    }
   ],
   "source": [
    "#특이값에 해당되는 레코드들\n",
    "outlier = house_98105.loc[sresiduals.idxmin(), :]\n",
    "print(\"AdjSalePrice\", outlier[outcome])\n",
    "print(outlier[predictors])\n",
    "# 이 우편번호에 해당하는 지역에서 이 평수라면  더 비싸야 정상\n",
    "# 법정 담보가 잡혀있는 특잇값"
   ]
  },
  {
   "cell_type": "markdown",
   "metadata": {},
   "source": [
    "### 4.6.2 영향값\n",
    "- 주영향관측값(influential observation) : 회귀모형에서 제외됐을 때 모델에 중요한 변화를 가져오는 값\n",
    "- 레버리지(Leverage) : 데이터가 회귀 모델에 미치는 영향 정도\n",
    "- 영향력 판단 지표\n",
    "    1) hat-value : 2(P+1)/n 이상의 값들은 레버리지가 높은 데이터(=특잇값)라고 판단\n",
    "    2) cook's distance : 레버리지와 잔차의 크기를 합쳐서 영향력을 판단"
   ]
  },
  {
   "cell_type": "code",
   "execution_count": 63,
   "metadata": {},
   "outputs": [
    {
     "data": {
      "text/plain": [
       "(2, 313)"
      ]
     },
     "execution_count": 63,
     "metadata": {},
     "output_type": "execute_result"
    }
   ],
   "source": [
    "np.array(influence.cooks_distance).shape"
   ]
  },
  {
   "cell_type": "code",
   "execution_count": 64,
   "metadata": {},
   "outputs": [
    {
     "data": {
      "image/png": "[encoded data removed]",
      "text/plain": [
       "<Figure size 500x500 with 1 Axes>"
      ]
     },
     "metadata": {},
     "output_type": "display_data"
    }
   ],
   "source": [
    "import matplotlib.pyplot as plt\n",
    "\n",
    "influence = OLSInfluence(result_98105)\n",
    "\n",
    "\n",
    "outlier_indices = np.where(influence.cooks_distance[0] >= 0.08)[0]\n",
    "highlight_mask = np.zeros_like(influence.cooks_distance[0], dtype=bool)\n",
    "highlight_mask[outlier_indices] = True\n",
    "\n",
    "\n",
    "fig, ax = plt.subplots(figsize=(5,5))\n",
    "ax.axhline(-2.5, linestyle=\"--\", color = \"C1\")\n",
    "ax.axhline(2.5, linestyle=\"--\", color = \"C1\")\n",
    "ax.scatter(influence.hat_matrix_diag, influence.resid_studentized_internal,\n",
    "           s=1000*np.sqrt(influence.cooks_distance[0]), \n",
    "           c=np.where(highlight_mask, \"gray\", \"blue\"),# 쿡의 거리가 0.08 이상이면 회색으로 강조표시\n",
    "            alpha= 0.5)\n",
    "ax.set_xlabel(\"hat values\")\n",
    "ax.set_ylabel(\"studentized residuals\")\n",
    "plt.show();"
   ]
  },
  {
   "cell_type": "markdown",
   "metadata": {},
   "source": [
    "### 4.6.3 이분산성, 비정규성, 오차 간 상관"
   ]
  },
  {
   "cell_type": "code",
   "execution_count": 65,
   "metadata": {},
   "outputs": [
    {
     "data": {
      "text/html": [
       "<div>\n",
       "<style scoped>\n",
       "    .dataframe tbody tr th:only-of-type {\n",
       "        vertical-align: middle;\n",
       "    }\n",
       "\n",
       "    .dataframe tbody tr th {\n",
       "        vertical-align: top;\n",
       "    }\n",
       "\n",
       "    .dataframe thead th {\n",
       "        text-align: right;\n",
       "    }\n",
       "</style>\n",
       "<table border=\"1\" class=\"dataframe\">\n",
       "  <thead>\n",
       "    <tr style=\"text-align: right;\">\n",
       "      <th></th>\n",
       "      <th>index</th>\n",
       "      <th>fitted</th>\n",
       "      <th>resid</th>\n",
       "    </tr>\n",
       "  </thead>\n",
       "  <tbody>\n",
       "    <tr>\n",
       "      <th>0</th>\n",
       "      <td>1036</td>\n",
       "      <td>1.282201e+06</td>\n",
       "      <td>-456062.232432</td>\n",
       "    </tr>\n",
       "    <tr>\n",
       "      <th>1</th>\n",
       "      <td>1769</td>\n",
       "      <td>8.314002e+05</td>\n",
       "      <td>-158145.203415</td>\n",
       "    </tr>\n",
       "    <tr>\n",
       "      <th>2</th>\n",
       "      <td>1770</td>\n",
       "      <td>7.188563e+05</td>\n",
       "      <td>-62978.327751</td>\n",
       "    </tr>\n",
       "    <tr>\n",
       "      <th>3</th>\n",
       "      <td>1771</td>\n",
       "      <td>8.305480e+05</td>\n",
       "      <td>-186794.017568</td>\n",
       "    </tr>\n",
       "    <tr>\n",
       "      <th>4</th>\n",
       "      <td>1783</td>\n",
       "      <td>1.445666e+06</td>\n",
       "      <td>-99686.534518</td>\n",
       "    </tr>\n",
       "  </tbody>\n",
       "</table>\n",
       "</div>"
      ],
      "text/plain": [
       "   index        fitted          resid\n",
       "0   1036  1.282201e+06 -456062.232432\n",
       "1   1769  8.314002e+05 -158145.203415\n",
       "2   1770  7.188563e+05  -62978.327751\n",
       "3   1771  8.305480e+05 -186794.017568\n",
       "4   1783  1.445666e+06  -99686.534518"
      ]
     },
     "execution_count": 65,
     "metadata": {},
     "output_type": "execute_result"
    }
   ],
   "source": [
    "regplot_data = pd.DataFrame((result_98105.fittedvalues, result_98105.resid)).T.reset_index()\n",
    "regplot_data.columns = [\"index\",\"fitted\", \"resid\"]\n",
    "regplot_data.head()"
   ]
  },
  {
   "cell_type": "code",
   "execution_count": 66,
   "metadata": {},
   "outputs": [
    {
     "data": {
      "image/png": "[encoded data removed]",
      "text/plain": [
       "<Figure size 500x500 with 1 Axes>"
      ]
     },
     "metadata": {},
     "output_type": "display_data"
    }
   ],
   "source": [
    "import seaborn as sns\n",
    "\n",
    "fig, ax = plt.subplots(figsize=(5,5))\n",
    "sns.regplot(data = regplot_data, x = \"fitted\", y = \"resid\", \n",
    "            scatter_kws = {\"alpha\": 0.25}, line_kws = {\"color\":\"r\"},\n",
    "            lowess=True, #데이터 평활화(smoothing) True : 일련의 구간별 회귀 모형을 추정한 후 부드럽게 나타내어 분산과 잔차의 상관성 확인\n",
    "            ax = ax)\n",
    "ax.set_xlabel(\"predictoed\")\n",
    "ax.set_ylabel(\"abs(residual)\")\n",
    "plt.show();\n",
    "\n",
    "#잔차 분산은 고가이거나 완전 저가인 주택일수록 증가하는 경향\n",
    "#분산이 고르지 않으므로 등분산가정 위배 = 이분산성 오차 가짐"
   ]
  },
  {
   "cell_type": "markdown",
   "metadata": {},
   "source": [
    "### 4.6.4 편잔차그림과 비선형성\n",
    "- 편잔차그림 : 예측 모델이 예측변수와 결과 변수 간의 관계를 얼마나 잘 설명하는지 시각화하는 방법\n",
    "- 예측변수X_i의 편잔차 = 일반잔차에 X_i와 관련된 회귀항을 더한 값\n",
    "    * 편잔차 =  잔차 + hat{b_i}* X_i\n",
    "    * hat{b_i} : 회귀계수 추정치"
   ]
  },
  {
   "cell_type": "code",
   "execution_count": 67,
   "metadata": {},
   "outputs": [
    {
     "data": {
      "image/png": "[encoded data removed]",
      "text/plain": [
       "<Figure size 640x480 with 1 Axes>"
      ]
     },
     "execution_count": 67,
     "metadata": {},
     "output_type": "execute_result"
    },
    {
     "data": {
      "image/png": "[encoded data removed]",
      "text/plain": [
       "<Figure size 640x480 with 1 Axes>"
      ]
     },
     "metadata": {},
     "output_type": "display_data"
    }
   ],
   "source": [
    "sm.graphics.plot_ccpr(result_98105, \"SqFtTotLiving\")\n",
    "# "
   ]
  },
  {
   "cell_type": "markdown",
   "metadata": {},
   "source": [
    "## 4.7 다항회귀"
   ]
  },
  {
   "cell_type": "markdown",
   "metadata": {},
   "source": [
    "### 4.7.1 다항식"
   ]
  },
  {
   "cell_type": "code",
   "execution_count": 68,
   "metadata": {},
   "outputs": [
    {
     "name": "stdout",
     "output_type": "stream",
     "text": [
      "                            OLS Regression Results                            \n",
      "==============================================================================\n",
      "Dep. Variable:           AdjSalePrice   R-squared:                       0.806\n",
      "Model:                            OLS   Adj. R-squared:                  0.802\n",
      "Method:                 Least Squares   F-statistic:                     211.6\n",
      "Date:                Sat, 09 Sep 2023   Prob (F-statistic):          9.95e-106\n",
      "Time:                        14:44:33   Log-Likelihood:                -4217.9\n",
      "No. Observations:                 313   AIC:                             8450.\n",
      "Df Residuals:                     306   BIC:                             8476.\n",
      "Df Model:                           6                                         \n",
      "Covariance Type:            nonrobust                                         \n",
      "=========================================================================================\n",
      "                            coef    std err          t      P>|t|      [0.025      0.975]\n",
      "-----------------------------------------------------------------------------------------\n",
      "Intercept             -6.159e+05   1.03e+05     -5.953      0.000   -8.19e+05   -4.12e+05\n",
      "SqFtTotLiving             7.4521     55.418      0.134      0.893    -101.597     116.501\n",
      "I(SqFtTotLiving ** 2)     0.0388      0.010      4.040      0.000       0.020       0.058\n",
      "SqFtLot                  32.5594      5.436      5.990      0.000      21.863      43.256\n",
      "Bathrooms             -1435.1231   1.95e+04     -0.074      0.941   -3.99e+04     3.7e+04\n",
      "Bedrooms              -9191.9441   1.33e+04     -0.693      0.489   -3.53e+04    1.69e+04\n",
      "BldgGrade              1.357e+05   1.49e+04      9.087      0.000    1.06e+05    1.65e+05\n",
      "==============================================================================\n",
      "Omnibus:                       75.161   Durbin-Watson:                   1.625\n",
      "Prob(Omnibus):                  0.000   Jarque-Bera (JB):              637.978\n",
      "Skew:                           0.699   Prob(JB):                    2.92e-139\n",
      "Kurtosis:                       9.853   Cond. No.                     7.37e+07\n",
      "==============================================================================\n",
      "\n",
      "Notes:\n",
      "[1] Standard Errors assume that the covariance matrix of the errors is correctly specified.\n",
      "[2] The condition number is large, 7.37e+07. This might indicate that there are\n",
      "strong multicollinearity or other numerical problems.\n"
     ]
    }
   ],
   "source": [
    "import statsmodels.api as sm\n",
    "\n",
    "model_poly = sm.OLS.from_formula(\"AdjSalePrice ~ SqFtTotLiving +\" + \n",
    "                                 \"I(SqFtTotLiving**2) + SqFtLot +\" +\n",
    "                                 \"Bathrooms + Bedrooms + BldgGrade\" ,\\\n",
    "                                      data=house_98105)\n",
    "result_poly = model_poly.fit()\n",
    "print(result_poly.summary())"
   ]
  },
  {
   "cell_type": "markdown",
   "metadata": {},
   "source": [
    "### 4.7.2 스플라인\n",
    "- 스플라인 : 고정된 점들 사이를 부드럽게 보간하는 방법\n",
    "- bs(base spline)"
   ]
  },
  {
   "cell_type": "code",
   "execution_count": 69,
   "metadata": {},
   "outputs": [
    {
     "name": "stdout",
     "output_type": "stream",
     "text": [
      "                            OLS Regression Results                            \n",
      "==============================================================================\n",
      "Dep. Variable:           AdjSalePrice   R-squared:                       0.814\n",
      "Model:                            OLS   Adj. R-squared:                  0.807\n",
      "Method:                 Least Squares   F-statistic:                     131.8\n",
      "Date:                Sat, 09 Sep 2023   Prob (F-statistic):          7.10e-104\n",
      "Time:                        14:44:37   Log-Likelihood:                -4211.4\n",
      "No. Observations:                 313   AIC:                             8445.\n",
      "Df Residuals:                     302   BIC:                             8486.\n",
      "Df Model:                          10                                         \n",
      "Covariance Type:            nonrobust                                         \n",
      "========================================================================================================\n",
      "                                           coef    std err          t      P>|t|      [0.025      0.975]\n",
      "--------------------------------------------------------------------------------------------------------\n",
      "Intercept                            -4.207e+05   1.43e+05     -2.934      0.004   -7.03e+05   -1.39e+05\n",
      "bs(SqFtTotLiving, df=6, degree=3)[0] -2.078e+05   1.84e+05     -1.130      0.260    -5.7e+05    1.54e+05\n",
      "bs(SqFtTotLiving, df=6, degree=3)[1] -1.524e+05   1.16e+05     -1.313      0.190   -3.81e+05    7.61e+04\n",
      "bs(SqFtTotLiving, df=6, degree=3)[2] -1.653e+05   1.16e+05     -1.428      0.154   -3.93e+05    6.25e+04\n",
      "bs(SqFtTotLiving, df=6, degree=3)[3] -6.562e+04   1.16e+05     -0.564      0.573   -2.95e+05    1.63e+05\n",
      "bs(SqFtTotLiving, df=6, degree=3)[4]  3.078e+05   1.55e+05      1.987      0.048    2911.752    6.13e+05\n",
      "bs(SqFtTotLiving, df=6, degree=3)[5] -1.466e+05   1.02e+05     -1.442      0.150   -3.47e+05    5.35e+04\n",
      "I(SqFtTotLiving ** 2)                    0.0274      0.007      3.701      0.000       0.013       0.042\n",
      "SqFtLot                                 33.3258      5.454      6.110      0.000      22.592      44.059\n",
      "Bathrooms                            -4778.2080   1.94e+04     -0.246      0.806    -4.3e+04    3.34e+04\n",
      "Bedrooms                             -5778.7045   1.32e+04     -0.437      0.663   -3.18e+04    2.03e+04\n",
      "BldgGrade                             1.345e+05   1.52e+04      8.842      0.000    1.05e+05    1.64e+05\n",
      "==============================================================================\n",
      "Omnibus:                       58.816   Durbin-Watson:                   1.633\n",
      "Prob(Omnibus):                  0.000   Jarque-Bera (JB):              622.021\n",
      "Skew:                           0.330   Prob(JB):                    8.51e-136\n",
      "Kurtosis:                       9.874   Cond. No.                     1.44e+22\n",
      "==============================================================================\n",
      "\n",
      "Notes:\n",
      "[1] Standard Errors assume that the covariance matrix of the errors is correctly specified.\n",
      "[2] The smallest eigenvalue is 7.35e-29. This might indicate that there are\n",
      "strong multicollinearity problems or that the design matrix is singular.\n"
     ]
    }
   ],
   "source": [
    "import statsmodels.api as sm\n",
    "\n",
    "model_spline = sm.OLS.from_formula(\"AdjSalePrice ~ bs(SqFtTotLiving, df=6, degree=3) +\" + #3차 스플라인, df -degree=3개의 내부매듭 생성\n",
    "                                 \"I(SqFtTotLiving**2) + SqFtLot +\" +\n",
    "                                 \"Bathrooms + Bedrooms + BldgGrade\" ,\\\n",
    "                                      data=house_98105)\n",
    "result_spline = model_spline.fit()\n",
    "print(result_spline.summary())"
   ]
  },
  {
   "cell_type": "markdown",
   "metadata": {},
   "source": [
    "### 4.7.3 일반화가법모형(GAM)\n",
    "- 스플라인 회귀를 자동으로 찾는 모형"
   ]
  },
  {
   "cell_type": "markdown",
   "metadata": {},
   "source": [
    "##### 1) statsmodels"
   ]
  },
  {
   "cell_type": "code",
   "execution_count": 71,
   "metadata": {},
   "outputs": [
    {
     "name": "stdout",
     "output_type": "stream",
     "text": [
      "                 Generalized Linear Model Regression Results                  \n",
      "==============================================================================\n",
      "Dep. Variable:           AdjSalePrice   No. Observations:                  313\n",
      "Model:                            GLM   Df Residuals:                      307\n",
      "Model Family:                Gaussian   Df Model:                            5\n",
      "Link Function:               identity   Scale:                      3.1860e+10\n",
      "Method:                          IRLS   Log-Likelihood:                -4226.0\n",
      "Date:                Sat, 09 Sep 2023   Deviance:                   9.7811e+12\n",
      "Time:                        14:44:42   Pearson chi2:                 9.78e+12\n",
      "No. Iterations:                     3   Pseudo R-squ. (CS):             0.9779\n",
      "Covariance Type:            nonrobust                                         \n",
      "=================================================================================\n",
      "                    coef    std err          z      P>|z|      [0.025      0.975]\n",
      "---------------------------------------------------------------------------------\n",
      "const         -7.725e+05   9.83e+04     -7.861      0.000   -9.65e+05    -5.8e+05\n",
      "SqFtTotLiving   104.8012     12.204      8.587      0.000      80.882     128.721\n",
      "SqFtTotLiving   104.8012     12.204      8.587      0.000      80.882     128.721\n",
      "SqFtLot          38.9333      5.330      7.305      0.000      28.487      49.380\n",
      "Bathrooms      2282.2641      2e+04      0.114      0.909   -3.69e+04    4.14e+04\n",
      "Bedrooms      -2.632e+04   1.29e+04     -2.043      0.041   -5.16e+04   -1073.789\n",
      "BldgGrade        1.3e+05   1.52e+04      8.533      0.000       1e+05     1.6e+05\n",
      "=================================================================================\n"
     ]
    }
   ],
   "source": [
    "import statsmodels.api as sm\n",
    "\n",
    "house_98105_X = house_98105[[\"SqFtTotLiving\", \"SqFtTotLiving\", \"SqFtLot\", \"Bathrooms\",\"Bedrooms\",\"BldgGrade\"]]\n",
    "\n",
    "model_sm_gam = sm.GLM(house_98105[\"AdjSalePrice\"], sm.add_constant(house_98105_X), family=sm.families.Gaussian())\n",
    "result_sm_gam = model_sm_gam.fit()\n",
    "print(result_sm_gam.summary())"
   ]
  },
  {
   "cell_type": "markdown",
   "metadata": {},
   "source": [
    "##### 2) pyGAM"
   ]
  },
  {
   "cell_type": "code",
   "execution_count": 73,
   "metadata": {},
   "outputs": [
    {
     "name": "stdout",
     "output_type": "stream",
     "text": [
      "Requirement already satisfied: FuzzyTM in c:\\users\\guestp\\anaconda3\\lib\\site-packages (2.0.5)\n",
      "Requirement already satisfied: numpy in c:\\users\\guestp\\anaconda3\\lib\\site-packages (from FuzzyTM) (1.25.2)\n",
      "Requirement already satisfied: scipy in c:\\users\\guestp\\appdata\\roaming\\python\\python310\\site-packages (from FuzzyTM) (1.11.2)\n",
      "Requirement already satisfied: pandas in c:\\users\\guestp\\anaconda3\\lib\\site-packages (from FuzzyTM) (1.5.3)\n",
      "Requirement already satisfied: pyfume in c:\\users\\guestp\\anaconda3\\lib\\site-packages (from FuzzyTM) (0.2.25)\n",
      "Requirement already satisfied: python-dateutil>=2.8.1 in c:\\users\\guestp\\anaconda3\\lib\\site-packages (from pandas->FuzzyTM) (2.8.2)\n",
      "Requirement already satisfied: pytz>=2020.1 in c:\\users\\guestp\\anaconda3\\lib\\site-packages (from pandas->FuzzyTM) (2022.7)\n",
      "Requirement already satisfied: simpful in c:\\users\\guestp\\anaconda3\\lib\\site-packages (from pyfume->FuzzyTM) (2.11.0)\n",
      "Requirement already satisfied: fst-pso in c:\\users\\guestp\\anaconda3\\lib\\site-packages (from pyfume->FuzzyTM) (1.8.1)\n",
      "Requirement already satisfied: six>=1.5 in c:\\users\\guestp\\anaconda3\\lib\\site-packages (from python-dateutil>=2.8.1->pandas->FuzzyTM) (1.16.0)\n",
      "Requirement already satisfied: miniful in c:\\users\\guestp\\anaconda3\\lib\\site-packages (from fst-pso->pyfume->FuzzyTM) (0.0.6)\n"
     ]
    }
   ],
   "source": [
    "!pip install FuzzyTM \n",
    "#gensim 4.3.0 requires "
   ]
  },
  {
   "cell_type": "code",
   "execution_count": 74,
   "metadata": {},
   "outputs": [
    {
     "name": "stdout",
     "output_type": "stream",
     "text": [
      "Requirement already satisfied: pygam in c:\\users\\guestp\\appdata\\roaming\\python\\python310\\site-packages (0.9.0)\n",
      "Requirement already satisfied: numpy<2.0.0,>=1.24.2 in c:\\users\\guestp\\anaconda3\\lib\\site-packages (from pygam) (1.25.2)\n",
      "Requirement already satisfied: progressbar2<5.0.0,>=4.2.0 in c:\\users\\guestp\\appdata\\roaming\\python\\python310\\site-packages (from pygam) (4.2.0)\n",
      "Requirement already satisfied: scipy<2.0.0,>=1.10.1 in c:\\users\\guestp\\appdata\\roaming\\python\\python310\\site-packages (from pygam) (1.11.2)\n",
      "Requirement already satisfied: python-utils>=3.0.0 in c:\\users\\guestp\\anaconda3\\lib\\site-packages (from progressbar2<5.0.0,>=4.2.0->pygam) (3.7.0)\n",
      "Requirement already satisfied: typing-extensions>3.10.0.2 in c:\\users\\guestp\\anaconda3\\lib\\site-packages (from python-utils>=3.0.0->progressbar2<5.0.0,>=4.2.0->pygam) (4.4.0)\n"
     ]
    }
   ],
   "source": [
    "!pip install pygam --user"
   ]
  },
  {
   "cell_type": "code",
   "execution_count": 84,
   "metadata": {},
   "outputs": [
    {
     "name": "stdout",
     "output_type": "stream",
     "text": [
      "GAM                                                                                                       \n",
      "=============================================== ==========================================================\n",
      "Distribution:                        NormalDist Effective DoF:                                     38.7966\n",
      "Link Function:                     IdentityLink Log Likelihood:                                 -7684.9886\n",
      "Number of Samples:                          313 AIC:                                            15449.5705\n",
      "                                                AICc:                                           15461.4996\n",
      "                                                GCV:                                      23554763452.6921\n",
      "                                                Scale:                                    18365520199.7992\n",
      "                                                Pseudo R-Squared:                                   0.8947\n",
      "==========================================================================================================\n",
      "Feature Function                  Lambda               Rank         EDoF         P > x        Sig. Code   \n",
      "================================= ==================== ============ ============ ============ ============\n",
      "s(0)                              [0.6]                20           15.2         1.11e-16     ***         \n",
      "s(1)                              [0.6]                20           1.9          1.11e-16     ***         \n",
      "s(2)                              [0.6]                20           7.1          1.11e-16     ***         \n",
      "s(3)                              [0.6]                20           6.4          6.74e-03     **          \n",
      "s(4)                              [0.6]                20           5.3          1.63e-01                 \n",
      "s(5)                              [0.6]                20           2.9          1.11e-16     ***         \n",
      "intercept                                              1            0.0          1.11e-16     ***         \n",
      "==========================================================================================================\n",
      "Significance codes:  0 '***' 0.001 '**' 0.01 '*' 0.05 '.' 0.1 ' ' 1\n",
      "\n",
      "WARNING: Fitting splines and a linear function to a feature introduces a model identifiability problem\n",
      "         which can cause p-values to appear significant when they are not.\n",
      "\n",
      "WARNING: p-values calculated in this manner behave correctly for un-penalized models or models with\n",
      "         known smoothing parameters, but when smoothing parameters have been estimated, the p-values\n",
      "         are typically lower than they should be, meaning that the tests reject the null too readily.\n",
      "None\n"
     ]
    }
   ],
   "source": [
    "import pygam\n",
    "\n",
    "model_pygam = pygam.GAM()\n",
    "result_pygam = model_pygam.fit(house_98105_X, house_98105[\"AdjSalePrice\"])\n",
    "print(result_pygam.summary())"
   ]
  }
 ],
 "metadata": {
  "kernelspec": {
   "display_name": "base",
   "language": "python",
   "name": "python3"
  },
  "language_info": {
   "codemirror_mode": {
    "name": "ipython",
    "version": 3
   },
   "file_extension": ".py",
   "mimetype": "text/x-python",
   "name": "python",
   "nbconvert_exporter": "python",
   "pygments_lexer": "ipython3",
   "version": "3.10.9"
  },
  "orig_nbformat": 4
 },
 "nbformat": 4,
 "nbformat_minor": 2
}
