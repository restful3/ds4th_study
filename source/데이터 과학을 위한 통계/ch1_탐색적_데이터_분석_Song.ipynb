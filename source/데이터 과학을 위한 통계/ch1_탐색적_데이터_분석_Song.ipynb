{
 "cells": [
  {
   "cell_type": "markdown",
   "id": "ac301db8",
   "metadata": {},
   "source": [
    "# 정형화된 데이터의 요소\n",
    "\n",
    "# 테이블 데이터\n",
    "\n",
    "# 위치 추정\n",
    "\n",
    "# 변이 추정\n",
    "\n",
    "# 데이터 분포 탐색하기\n",
    "\n",
    "# 이진 데이터와 범주 데이터 탐색하기\n",
    "\n",
    "# 상관관계\n",
    "\n",
    "# 두 개 이상의 변수 탐색하기\n",
    "\n",
    "# 마치며"
   ]
  }
 ],
 "metadata": {
  "kernelspec": {
   "display_name": "Python 3 (ipykernel)",
   "language": "python",
   "name": "python3"
  },
  "language_info": {
   "codemirror_mode": {
    "name": "ipython",
    "version": 3
   },
   "file_extension": ".py",
   "mimetype": "text/x-python",
   "name": "python",
   "nbconvert_exporter": "python",
   "pygments_lexer": "ipython3",
   "version": "3.10.9"
  },
  "toc": {
   "base_numbering": 1,
   "nav_menu": {},
   "number_sections": true,
   "sideBar": true,
   "skip_h1_title": false,
   "title_cell": "Table of Contents",
   "title_sidebar": "Contents",
   "toc_cell": false,
   "toc_position": {},
   "toc_section_display": true,
   "toc_window_display": false
  }
 },
 "nbformat": 4,
 "nbformat_minor": 5
}
