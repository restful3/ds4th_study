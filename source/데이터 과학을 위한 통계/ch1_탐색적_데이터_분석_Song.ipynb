{
 "cells": [
  {
   "cell_type": "markdown",
   "id": "0017fc10",
   "metadata": {},
   "source": [
    "# 정형화된 데이터의 요소"
   ]
  },
  {
   "cell_type": "code",
   "execution_count": null,
   "id": "464e155b",
   "metadata": {},
   "outputs": [],
   "source": []
  },
  {
   "cell_type": "markdown",
   "id": "1598e735",
   "metadata": {},
   "source": [
    "# 테이블 데이터"
   ]
  },
  {
   "cell_type": "code",
   "execution_count": null,
   "id": "a91a6655",
   "metadata": {},
   "outputs": [],
   "source": []
  },
  {
   "cell_type": "markdown",
   "id": "b7696078",
   "metadata": {},
   "source": [
    "# 위치 추정"
   ]
  },
  {
   "cell_type": "code",
   "execution_count": null,
   "id": "2ec63771",
   "metadata": {},
   "outputs": [],
   "source": []
  },
  {
   "cell_type": "markdown",
   "id": "45268214",
   "metadata": {},
   "source": [
    "# 변이 추정"
   ]
  },
  {
   "cell_type": "code",
   "execution_count": null,
   "id": "f796c84e",
   "metadata": {},
   "outputs": [],
   "source": []
  },
  {
   "cell_type": "markdown",
   "id": "cdb4aba8",
   "metadata": {},
   "source": [
    "# 데이터 분포 탐색하기"
   ]
  },
  {
   "cell_type": "code",
   "execution_count": null,
   "id": "5f6b91ef",
   "metadata": {},
   "outputs": [],
   "source": []
  },
  {
   "cell_type": "markdown",
   "id": "f3126c9e",
   "metadata": {},
   "source": [
    "# 이진 데이터와 범주 데이터 탐색하기"
   ]
  },
  {
   "cell_type": "code",
   "execution_count": null,
   "id": "a7bffa37",
   "metadata": {},
   "outputs": [],
   "source": []
  },
  {
   "cell_type": "markdown",
   "id": "00ee4f40",
   "metadata": {},
   "source": [
    "# 상관관계"
   ]
  },
  {
   "cell_type": "code",
   "execution_count": null,
   "id": "ed22b050",
   "metadata": {},
   "outputs": [],
   "source": []
  },
  {
   "cell_type": "markdown",
   "id": "6e4c1877",
   "metadata": {},
   "source": [
    "# 두 개 이상의 변수 탐색하기"
   ]
  },
  {
   "cell_type": "code",
   "execution_count": null,
   "id": "460c4c33",
   "metadata": {},
   "outputs": [],
   "source": []
  },
  {
   "cell_type": "markdown",
   "id": "7503458f",
   "metadata": {},
   "source": [
    "# 마치며"
   ]
  },
  {
   "cell_type": "code",
   "execution_count": null,
   "id": "1162e7a8",
   "metadata": {},
   "outputs": [],
   "source": []
  }
 ],
 "metadata": {
  "kernelspec": {
   "display_name": "Python 3 (ipykernel)",
   "language": "python",
   "name": "python3"
  },
  "language_info": {
   "codemirror_mode": {
    "name": "ipython",
    "version": 3
   },
   "file_extension": ".py",
   "mimetype": "text/x-python",
   "name": "python",
   "nbconvert_exporter": "python",
   "pygments_lexer": "ipython3",
   "version": "3.10.9"
  },
  "toc": {
   "base_numbering": 1,
   "nav_menu": {},
   "number_sections": true,
   "sideBar": true,
   "skip_h1_title": false,
   "title_cell": "Table of Contents",
   "title_sidebar": "Contents",
   "toc_cell": false,
   "toc_position": {},
   "toc_section_display": true,
   "toc_window_display": false
  }
 },
 "nbformat": 4,
 "nbformat_minor": 5
}
