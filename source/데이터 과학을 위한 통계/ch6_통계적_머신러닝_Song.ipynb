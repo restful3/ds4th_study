{
 "cells": [
  {
   "cell_type": "markdown",
   "id": "4459c111",
   "metadata": {},
   "source": [
    "# 개요"
   ]
  },
  {
   "cell_type": "markdown",
   "id": "d90b50df",
   "metadata": {},
   "source": [
    "- 최근 통계학 분야는, 지도학습 방법으로 더 강력한 예측 모델을 만들려고 하고 있다.\n",
    "- 통계적 머신러닝(statistical machine learning)은, 데이터에 기반하며, 전체적인 구조(선형인지 등)는 가정하지 않는다.\n",
    "- 예\n",
    "    - k-근접 이웃 방법 : 비슷한 레코드들 끼리 분류\n",
    "    - 앙상블 학습을 적용한 의사 결정 트리 : 복수의 약한 학습기(의사결정트리)를 높은 성능을 얻는 방법\n",
    "- 머신러닝과 통계학의 차이\n",
    "    - 머신러닝 : 많은 데이터를 효과적으로 처리 하는 알고리즘 개발 중심\n",
    "    - 통계학 : 확률론과 모델의 구조를 결정하는데 더 많은 관심"
   ]
  },
  {
   "cell_type": "code",
   "execution_count": 1,
   "id": "276d64e7",
   "metadata": {},
   "outputs": [
    {
     "name": "stderr",
     "output_type": "stream",
     "text": [
      "<frozen importlib._bootstrap>:241: RuntimeWarning: scipy._lib.messagestream.MessageStream size changed, may indicate binary incompatibility. Expected 56 from C header, got 64 from PyObject\n"
     ]
    }
   ],
   "source": [
    "import math\n",
    "import os\n",
    "import random\n",
    "from pathlib import Path\n",
    "from collections import defaultdict\n",
    "from itertools import product\n",
    "\n",
    "\n",
    "import pandas as pd\n",
    "import numpy as np\n",
    "\n",
    "from sklearn import preprocessing\n",
    "from sklearn.neighbors import KNeighborsClassifier\n",
    "from sklearn import metrics\n",
    "from sklearn.model_selection import train_test_split\n",
    "from sklearn.tree import DecisionTreeClassifier\n",
    "from sklearn.ensemble import RandomForestClassifier\n",
    "\n",
    "from xgboost import XGBClassifier\n",
    "\n",
    "from dmba import plotDecisionTree, textDecisionTree\n",
    "\n",
    "import seaborn as sns\n",
    "import matplotlib.pyplot as plt\n",
    "from matplotlib.patches import Ellipse\n",
    "\n",
    "LOAN200_CSV = './datasets/loan200.csv'\n",
    "LOAN3000_CSV = './datasets/loan3000.csv'\n",
    "LOAN_DATA_CSV = './datasets/loan_data.csv.gz'"
   ]
  },
  {
   "cell_type": "markdown",
   "id": "da5a7a58",
   "metadata": {},
   "source": [
    "# k-최근접 이웃\n",
    "- 기본 아이디어\n",
    "    - 특징들이 가장 유사한 k개의 레코드를 찾는다\n",
    "    - 분류 : 이 유사한 레코드들 중에 다수가 속하는 클래스로 새로운 레코드의 클래스 결정\n",
    "    - 회귀 : 가장 유사한 레코드들 평균을 새로운 레코드의 예측 값으로 사용\n",
    "- 용어 정리\n",
    "    - 이웃 : neighbor, 예측 변수에서 값들이 유사한 레코드\n",
    "    - 거리 지표 : distance metric, 각 레코드 사이가 얼마나 떨어져 있는지를 나타내는 단일 값\n",
    "    - 표준화 : standardization, 평균을 뺀 후 표준편차로 나누는 일 (유의어 : 정규화)\n",
    "    - z 점수 : z-score, 표준화를 통해 얻은 값\n",
    "    - k : 최근접 이웃을 계산하는데 사용하는 이웃의 개수\n",
    "- 특징\n",
    "    - 가장 간단한 예측/분류 방법\n",
    "    - 회귀와 달리 모델을 피팅하는 과정이 필요 없다\n",
    "    - k와, 어떤 척도로 거리를 측정 할 지를 정해 줘야\n",
    "    - 예측 변수들은 수치형이여 한다."
   ]
  },
  {
   "cell_type": "markdown",
   "id": "2fc5fd0f",
   "metadata": {},
   "source": [
    "## 예제 : 대출 연체 예측"
   ]
  },
  {
   "cell_type": "code",
   "execution_count": null,
   "id": "9cc83ed4",
   "metadata": {},
   "outputs": [],
   "source": [
    "loan200 = pd.read_csv(LOAN200_CSV)\n",
    "display(loan200.head())\n",
    "print(loan200.shape)\n",
    "\n",
    "predictors = ['payment_inc_ratio', 'dti']\n",
    "outcome = 'outcome'\n",
    "\n",
    "\n",
    "newloan = loan200.loc[0:0, predictors]\n",
    "X = loan200.loc[1:, predictors]\n",
    "y = loan200.loc[1:, outcome]\n",
    "\n",
    "knn = KNeighborsClassifier(n_neighbors=20)\n",
    "knn.fit(X, y)\n",
    "knn.predict(newloan)\n",
    "\n",
    "result = pd.DataFrame(knn.predict_proba(newloan), columns=knn.classes_)\n",
    "display(pd.concat([newloan, result], axis=1))"
   ]
  },
  {
   "cell_type": "markdown",
   "id": "ae9ae629",
   "metadata": {},
   "source": [
    "- payment_inc_ratio : 소득에 대한 대출 상관 비율 (최대 100)\n",
    "- dti : 소득에 대한 부채(모기지는 제외) 비율 (최대 100)\n",
    "- payment_inc_ratio가 9.0, dti가 22.5 인 대출에 대한 예측은, 'paid off'"
   ]
  },
  {
   "cell_type": "code",
   "execution_count": null,
   "id": "08066462",
   "metadata": {},
   "outputs": [],
   "source": [
    "nbrs = knn.kneighbors(newloan)\n",
    "maxDistance = np.max(nbrs[0][0])\n",
    "\n",
    "fig, ax = plt.subplots(figsize=(4, 4))\n",
    "sns.scatterplot(x='payment_inc_ratio', y='dti', style='outcome', \n",
    "                hue='outcome', data=loan200, alpha=0.3, ax=ax)\n",
    "sns.scatterplot(x='payment_inc_ratio', y='dti', style='outcome', \n",
    "                hue='outcome', \n",
    "                data=pd.concat([loan200.loc[0:0, :], loan200.loc[nbrs[1][0] + 1,:]]), \n",
    "                ax=ax, legend=False)\n",
    "ellipse = Ellipse(xy=newloan.values[0], \n",
    "                  width=2 * maxDistance, height=2 * maxDistance,\n",
    "                  edgecolor='black', fc='None', lw=1)\n",
    "ax.add_patch(ellipse)\n",
    "ax.set_xlim(3, 16)\n",
    "ax.set_ylim(15, 30)\n",
    "\n",
    "plt.tight_layout()\n",
    "plt.show()"
   ]
  },
  {
   "cell_type": "markdown",
   "id": "3e8fb910",
   "metadata": {},
   "source": [
    "- 중간에 있는 'X' 표시는 새로운 대출에 대한 예측 결과\n",
    "- 네모(상환)과 동그라미(연체)는 학습 데이터를 의미\n",
    "- 가운데 실선으로 그린 원흔 가까운 20개의 점들에 대한 경계\n",
    "- 가까운 9개의 대출에 대해 연체, 11번의 대출은 상환\n",
    "- 따라서 상환이 라고 예측"
   ]
  },
  {
   "cell_type": "markdown",
   "id": "88fc816b",
   "metadata": {},
   "source": [
    "## 거리 지표\n",
    "- 유사성은 거리 지표를 통해 결정\n",
    "- 유클리드 거리 : Euclidean distance, 두 백터간의 각 원소간 차이를 제곱한 뒤 그 값의 제곱근을 구한다.\n",
    "    - $\\sqrt{(x_1 - y_1)^2+(x_2 - y_2)^2+\\dots+(x_n - y_n)^2}$\n",
    "    - 계산상 이점이 있다.\n",
    "    - KNN은 $k \\times n(데이터의수)$ 만큼의 쌍대(pairwise)비교가 필요\n",
    "    - 데이터가 많을 수록 많은 계산, 계산량 중요\n",
    "- 맨해튼 거리 : Manhattan distance\n",
    "    - $|x_1 - y_1|+|x_2 - y_2|+\\dots+|x_n - y_n|$\n",
    "    - 도심지에서 직사각형 건문들 사이를 이동할 때, 두 점 사기의 거리 (대각선으로 건물을 통과해서 못감)\n",
    "- 마할라노비스 거리 : Mahalanobis distance\n",
    "    - 벡터간 상관관계를 공분산행렬을 통해 구 하여 거리로 사용, 주성분 사이의 유클리드 거리를 의미 (7장 참조)\n",
    "    - 계산량이 많다는 단점"
   ]
  },
  {
   "cell_type": "markdown",
   "id": "f36630b0",
   "metadata": {},
   "source": [
    "## 원-핫 인코더\n",
    "- 범주형 데이터를, 각 범주 별로 별도의 컬럼(더미 변수)을 만들어서, 0 또는 1로 표현\n",
    "- pandas의 pd.get_dummies 사용\n",
    "- 다중공선성 문제를 피하기 위해, get_dummies 함수의 drop_first 옵션 사용\n",
    "- 그러나 선형모델이 아닌, KNN이나 트리 계열의 모델에서는 다중공선성은 문제가 되지 않아 해당 옵션 사용하지 않음"
   ]
  },
  {
   "cell_type": "markdown",
   "id": "d1ae9d4c",
   "metadata": {},
   "source": [
    "## 표준화(정규화, z점수)"
   ]
  },
  {
   "cell_type": "markdown",
   "id": "e3a19ca2",
   "metadata": {},
   "source": [
    "- 모든 변수에서 평균을 빼고 표준편차로 나누어, 변수들을 동일한 스케일로 만드는 것\n",
    "    - $\\frac{x-\\bar{x}}{s}$\n",
    "- 이렇게 변환한 결과를 z점수 라고 한다.\n",
    "- 평균으로부터 표준편차만큼 얼마나 떨어져 있는 지를 의미\n",
    "- KNN이나 주성분분석, 클러스터링 등에서는 반드시 데이터를 표준화 해야 한다."
   ]
  },
  {
   "cell_type": "code",
   "execution_count": null,
   "id": "f40d6d83",
   "metadata": {},
   "outputs": [],
   "source": [
    "loan_data = pd.read_csv(LOAN_DATA_CSV)\n",
    "loan_data = loan_data.drop(columns=['Unnamed: 0', 'status'])\n",
    "loan_data['outcome'] = pd.Categorical(loan_data['outcome'], \n",
    "                                      categories=['paid off', 'default'], \n",
    "                                      ordered=True)\n",
    "\n",
    "\n",
    "predictors = ['payment_inc_ratio', 'dti', 'revol_bal', 'revol_util']\n",
    "outcome = 'outcome'\n",
    "\n",
    "newloan = loan_data.loc[0:0, predictors]\n",
    "display(newloan)"
   ]
  },
  {
   "cell_type": "markdown",
   "id": "ef9cf739",
   "metadata": {},
   "source": [
    "- revol_bal : 달러로 신청할 수 있는 총 회전 신용(리볼빙 신용)\n",
    "    - 리볼빙 신용 : 할부 신용과 달리 지불 횟수가 고정되어 있지 않은 신용 유형\n",
    "- revol_util : 이미 사용중인 리볼빙 신용    "
   ]
  },
  {
   "cell_type": "code",
   "execution_count": null,
   "id": "02869bf7",
   "metadata": {},
   "outputs": [],
   "source": [
    "X = loan_data.loc[1:, predictors]\n",
    "y = loan_data.loc[1:, outcome]\n",
    "\n",
    "knn = KNeighborsClassifier(n_neighbors=5)\n",
    "knn.fit(X, y)\n",
    "\n",
    "nbrs = knn.kneighbors(newloan)\n",
    "display(newloan)\n",
    "display(X.iloc[nbrs[1][0], :])"
   ]
  },
  {
   "cell_type": "markdown",
   "id": "aefc8352",
   "metadata": {},
   "source": [
    "- revol_bal의 값이 다른 값들 보다 너무 커서, revol_bal가 유사한 데이터들이 선택 됨\n",
    "- 달리 말하면, revol_bal 외의 다른 변수들은 역할이 작음"
   ]
  },
  {
   "cell_type": "code",
   "execution_count": null,
   "id": "2fd5f9bc",
   "metadata": {},
   "outputs": [],
   "source": [
    "newloan = loan_data.loc[0:0, predictors]\n",
    "X = loan_data.loc[1:, predictors]\n",
    "y = loan_data.loc[1:, outcome]\n",
    "\n",
    "scaler = preprocessing.StandardScaler()\n",
    "scaler.fit(X * 1.0)\n",
    "\n",
    "X_std = scaler.transform(X * 1.0)\n",
    "newloan_std = scaler.transform(newloan * 1.0)\n",
    "\n",
    "knn = KNeighborsClassifier(n_neighbors=5)\n",
    "knn.fit(X_std, y)\n",
    "\n",
    "nbrs = knn.kneighbors(newloan_std)\n",
    "display(newloan)\n",
    "display(X.iloc[nbrs[1][0], :])"
   ]
  },
  {
   "cell_type": "markdown",
   "id": "9f388c12",
   "metadata": {},
   "source": [
    "- 표준화 후, revol_bal의 영향력이 크게 줄어들었음을 알 수 있음\n",
    "- revol_bal 외의 다른 변수들도 new_load 과 유사 함을 볼 수 있음\n",
    "- 하지만 항상 표준화가 정답은 아니다.\n",
    "    - 도메인 지식을 활용하여, 더 중요한 변수가 있다면 표준화를 안할 수도 있음.\n",
    "    - 예: 대출 데이터에서, 소득 대비 상환 비율 "
   ]
  },
  {
   "cell_type": "markdown",
   "id": "87aab3dc",
   "metadata": {},
   "source": [
    "## k 선택하기"
   ]
  },
  {
   "cell_type": "markdown",
   "id": "c873d66e",
   "metadata": {},
   "source": [
    "- k의 선택은 KNN의 성능에 주요한 요소 임\n",
    "- k=1 인 경우, 데이터에 과적합(오버 피팅)\n",
    "- k가 클수록 결정함수가 부드럽게, 오버 피팅 위협을 낮춤, \n",
    "- 너무 큰 k는 과소 적합(오버 스무딩)\n",
    "- 정해진 규칙은 없음\n",
    "- 홀드아웃 데이터를 통해 k 에 따른 평가 \n",
    "- 보통 1~20사이, 동률을 고려해 홀수로 설정"
   ]
  },
  {
   "cell_type": "markdown",
   "id": "2ca2d323",
   "metadata": {},
   "source": [
    "## KNN을 통한 피처 엔지니어링"
   ]
  },
  {
   "cell_type": "markdown",
   "id": "5c4a63c0",
   "metadata": {},
   "source": [
    "- 구현이 간단하여 많이 사용되나, 성능은 그렇게 좋지 않다.\n",
    "- 하지만 다른 모델들과 함께 사용 할 수는 있다.\n",
    "    - KNN로 분류 결과(클래스에 속할 확률)을 구한다\n",
    "    - 이 결과는 해당 레코드의 새로운 특징으로 추가 한다.\n",
    "    - 새롭게 추가된 특성을 포함하여, 데이터를 다른 알고리즘의 예측에 사용\n",
    "- 새롭게 추가된 데이터는 다중공선성 문제를 일으키지 않는다.\n",
    "    - 소수의 근접한 데이터들로 부터 얻은 매우 지엽적인 정보 이기 때문\n",
    "- KNN을 이와 같이 활용 하는 것은, 다양한 모델을 사용하는 앙상블과 유사한 효과\n",
    "- 예 : 킹 카운티 주택 데이터\n",
    "    - 주택 가격 산정 시, 최근에 팔린 가격 참조,  일종의 KNN\n",
    "    - 최근 거래 정보에 KNN을 사용 새로운 특성 생성 (대출자가 대출을 갚지 못할 확률)\n",
    "    - 예측변수 : 지역, 평수, 구조, 대지면적, 침식 수, 욕실 수"
   ]
  },
  {
   "cell_type": "code",
   "execution_count": null,
   "id": "2d44f972",
   "metadata": {},
   "outputs": [],
   "source": [
    "loan_data = pd.read_csv(LOAN_DATA_CSV)\n",
    "loan_data = loan_data.drop(columns=['Unnamed: 0', 'status'])\n",
    "loan_data['outcome'] = pd.Categorical(loan_data['outcome'], \n",
    "                                      categories=['paid off', 'default'], \n",
    "                                      ordered=True)\n",
    "\n",
    "loan_data['outcome'] = loan_data['outcome'].apply(lambda x : 1 if x == 'default' else 0)\n",
    "\n",
    "predictors = ['dti', 'revol_bal', 'revol_util', 'open_acc', \n",
    "              'delinq_2yrs_zero', 'pub_rec_zero']\n",
    "outcome = 'outcome'"
   ]
  },
  {
   "cell_type": "code",
   "execution_count": null,
   "id": "4b747cb3",
   "metadata": {},
   "outputs": [],
   "source": [
    "X = loan_data[predictors]\n",
    "y = loan_data[['outcome']]\n",
    "knn = KNeighborsClassifier(n_neighbors=20)\n",
    "knn.fit(X, y)\n",
    "X2 = X.copy()\n",
    "X2['borrower_score'] = knn.predict_proba(X2)[:, 0]\n",
    "plt.scatter(range(len(X)), [bs + random.gauss(0, 0.015) for bs in X2['borrower_score']], \n",
    "            alpha=0.1, marker='.')\n",
    "plt.ylabel('borrower_score')\n",
    "plt.xlabel('index')\n",
    "plt.show()"
   ]
  },
  {
   "cell_type": "markdown",
   "id": "f1783614",
   "metadata": {},
   "source": [
    "- 기본 데이터 결과"
   ]
  },
  {
   "cell_type": "code",
   "execution_count": null,
   "id": "2cf1a356",
   "metadata": {},
   "outputs": [],
   "source": [
    "from sklearn.ensemble import RandomForestClassifier\n",
    "from sklearn.metrics import f1_score\n",
    "from sklearn.model_selection import train_test_split\n",
    "\n",
    "X_train, X_test, y_train, y_test = train_test_split(X, y, random_state=1, stratify=y, test_size=.2)\n",
    "\n",
    "X_train = pd.DataFrame(X_train, columns=X.columns)\n",
    "X_test = pd.DataFrame(X_test, columns=X.columns)\n",
    "y_train = y_train.values.ravel()\n",
    "y_test = y_test.values.ravel()\n",
    "\n",
    "rfc = RandomForestClassifier()\n",
    "rfc.fit(X_train, y_train)\n",
    "y_pred = rfc.predict(X_test)\n",
    "f1_score(y_test, y_pred)"
   ]
  },
  {
   "cell_type": "markdown",
   "id": "01384bbe",
   "metadata": {},
   "source": [
    "- KNN으로 borrower_score 를 추가 한 결과"
   ]
  },
  {
   "cell_type": "code",
   "execution_count": null,
   "id": "94e7bfbb",
   "metadata": {},
   "outputs": [],
   "source": [
    "X_train, X_test, y_train, y_test = train_test_split(X2, y, random_state=1, stratify=y, test_size=.2)\n",
    "\n",
    "X_train = pd.DataFrame(X_train, columns=X2.columns)\n",
    "X_test = pd.DataFrame(X_test, columns=X2.columns)\n",
    "y_train = y_train.values.ravel()\n",
    "y_test = y_test.values.ravel()\n",
    "\n",
    "rfc = RandomForestClassifier()\n",
    "rfc.fit(X_train, y_train)\n",
    "y_pred = rfc.predict(X_test)\n",
    "f1_score(y_test, y_pred)"
   ]
  },
  {
   "cell_type": "markdown",
   "id": "6fe0223e",
   "metadata": {},
   "source": [
    "# 트리 모델"
   ]
  },
  {
   "cell_type": "markdown",
   "id": "08f5e7b2",
   "metadata": {},
   "source": [
    "- 1984년 레오 브라이먼(캘리포티아 대학교 버클리 통계학과 교수)이 개발\n",
    "    - 회귀 및 분석 트리 (CART, classification and regression tree), 의사 결정 트리(decision tree)\n",
    "- 이후 강력한 랜덤 포레스트(Random forest)와 부스팅 트리가 파생\n",
    "- 재귀 분할 : recursive partitioning, 마지막 분할 영역에 해당하는 출력이 최대한 비슷한 결과를 보이도록 데이터를 반복 분할\n",
    "- 분할값 : split value, 예측 변수가 분할값 보다 작으면 분할\n",
    "- 마디 : node, 의사 결정 트리 등에서 가지치기 형태로 구성된 규칙들의 집합에서, 분할 규칙의 시각적 표시\n",
    "- 잎 : leaf, 트리의 맨 마지막 부분, 최종적 분류 규칙\n",
    "- 손실 : loss, 분류하는 과정에서 발생하는 오분류의 수\n",
    "- 불순도 : impurity, 데이터를 분할한 집합에서 서로 다른 클래스의 데이터가 얼마나 섞여 있는지\n",
    "- 가지치기 : pruning, 학습이 끝난 트리의 오버피팅을 줄이기 위해 가지들을 제거 하는 과정"
   ]
  },
  {
   "cell_type": "markdown",
   "id": "d2d5210d",
   "metadata": {},
   "source": [
    "- 특징\n",
    "    - 트리는 일종의 if-then-else 규칙의 집합체\n",
    "    - 이해하기 쉽다"
   ]
  },
  {
   "cell_type": "markdown",
   "id": "f1a806c4",
   "metadata": {},
   "source": [
    "## 간단한 예제\n",
    "- 트리를 그릴 때는, 잎이 아래로 가도록 뒤집어 그린다\n",
    "- 우분투의 경우, sudo apt-get install graphviz 필요"
   ]
  },
  {
   "cell_type": "code",
   "execution_count": null,
   "id": "47e77017",
   "metadata": {},
   "outputs": [],
   "source": [
    "loan3000 = pd.read_csv(LOAN3000_CSV)\n",
    "\n",
    "predictors = ['borrower_score', 'payment_inc_ratio']\n",
    "outcome = 'outcome'\n",
    "\n",
    "X = loan3000[predictors]\n",
    "y = loan3000[outcome]\n",
    "\n",
    "loan_tree = DecisionTreeClassifier(random_state=1, criterion='entropy',\n",
    "                                   min_impurity_decrease=0.003)\n",
    "loan_tree.fit(X, y)\n",
    "\n",
    "plotDecisionTree(loan_tree, feature_names=predictors, class_names=loan_tree.classes_)"
   ]
  },
  {
   "cell_type": "markdown",
   "id": "78a3e5e1",
   "metadata": {},
   "source": [
    "## 재귀 분할 알고리즘\n",
    "- 재귀 분할 : 예측변수 값을 기준으로 데이터르 반복적으로 분할 해 나가는 의사 결정 트리 알고리즘\n",
    "- 분할할 때에는 상대적으로 같은 클래스의 데이터들 끼리 구분되도록 한다"
   ]
  },
  {
   "cell_type": "code",
   "execution_count": null,
   "id": "0cc1ac8d",
   "metadata": {},
   "outputs": [],
   "source": [
    "fig, ax = plt.subplots(figsize=(6, 4))\n",
    "\n",
    "loan3000.loc[loan3000.outcome=='paid off'].plot(\n",
    "    x='borrower_score', y='payment_inc_ratio', style='.', \n",
    "    markerfacecolor='none', markeredgecolor='C1', ax=ax)\n",
    "loan3000.loc[loan3000.outcome=='default'].plot(\n",
    "    x='borrower_score', y='payment_inc_ratio', style='o', \n",
    "    markerfacecolor='none', markeredgecolor='C0', ax=ax)\n",
    "ax.legend(['paid off', 'default']);\n",
    "ax.set_xlim(0, 1)\n",
    "ax.set_ylim(0, 25)\n",
    "ax.set_xlabel('borrower_score')\n",
    "ax.set_ylabel('payment_inc_ratio')\n",
    "\n",
    "x0 = 0.575\n",
    "x1a = 0.325; y1b = 9.191\n",
    "y2a = 10.423; x2b = 0.725\n",
    "ax.plot((x0, x0), (0, 25), color='grey')\n",
    "ax.plot((x1a, x1a), (0, 25), color='grey')\n",
    "ax.plot((x0, 1), (y1b, y1b), color='grey')\n",
    "ax.plot((x1a, x0), (y2a, y2a), color='grey')\n",
    "ax.plot((x2b, x2b), (0, y1b), color='grey')\n",
    "\n",
    "labels = [('default', (x1a / 2, 25 / 2)),\n",
    "          ('default', ((x0 + x1a) / 2, (25 + y2a) / 2)),\n",
    "          ('paid off', ((x0 + x1a) / 2, y2a / 2)),\n",
    "          ('paid off', ((1 + x0) / 2, (y1b + 25) / 2)),\n",
    "          ('paid off', ((1 + x2b) / 2, (y1b + 0) / 2)),\n",
    "          ('paid off', ((x0 + x2b) / 2, (y1b + 0) / 2)),\n",
    "         ]\n",
    "for label, (x, y) in labels:\n",
    "    ax.text(x, y, label, bbox={'facecolor':'white'},\n",
    "            verticalalignment='center', horizontalalignment='center')\n",
    "\n",
    "plt.tight_layout()\n",
    "plt.show()"
   ]
  },
  {
   "cell_type": "markdown",
   "id": "6fde7169",
   "metadata": {},
   "source": [
    "- 응답변수 $Y$와 $P$개의 예측변수 집합 $X_j(j=1, \\dots , P)$가 있다고 가정\n",
    "- 어떤 파티션(분할영역) $A$에 대해, $A$개의 하위 분할 영역으로 나누기 위해 가장 좋은 재귀적 분할 방법 찾기\n",
    "- 기본 분할 알고리즘\n",
    "    - 1. 각 예측변수 $X_j$에 대해\n",
    "        - a. $X_j$에 해당하는 각 변수 $s_j$에 대해\n",
    "            - i. $A$에 해당하는 모든 레코드를 $X_j< s_j$ 인 부분과 $X_j  \\geq s_j$ 인 부분으로 나눈다\n",
    "            - ii. $A$의 각 하위 분할 영역안에 해당 클래스의 동질성을 측정한다\n",
    "        - b. 하위 분할 영역 내에서 클래스 동질성이 가장 큰 $s_j$ 값을 선택 한다.\n",
    "    - 2. 클래스 동질성이 가장 큰 변수 $X_j$와 $s_j$ 값을 선택 한다.\n",
    "- 재귀 부분\n",
    "    - 1. 전체 데이터를 가지고 $A$를 초기화\n",
    "    - 2. $A$를 두 부분, $A_1$과 $A_2$로 나누기 위해 분할 알고리즘 적용\n",
    "    - 3. $A_1$과 $A_2$ 각각에 대해 2번 과정 반복\n",
    "    - 4. 분할을 해도 더는 하위 분할 영역의 동질성이 개선되지 않을 정도로 출분히 분할 진행, 알고리즘 종료"
   ]
  },
  {
   "cell_type": "markdown",
   "id": "570cacf4",
   "metadata": {},
   "source": [
    "## 동질성과 불순도 측정하기\n",
    "- 트리 모델링은 분할 영역 $A$를 재귀적으로 만드는 과정\n",
    "- 이렇게 만들어진 분할 영역을 통해 $Y=0$ 혹은 $Y=1$의 결과 예측\n",
    "- 클래스의 순도(class purity), 즉 분할 영역에 대한 동질성 이나 불순도를 측정하는 방법이 필요\n",
    "- 불순도 측정 지표로, 지니 불순도(Gini impurity)와 엔트로피(entropy)가 대표적\n",
    "- 지니 불순도 (이진 분류 가정)\n",
    "    - $I(A) = p(1-p)$\n",
    "    - $p$ : $A$에서 1일 확률\n",
    "- 엔트로피:\n",
    "    - $I(A) = -plog_2(p) -  (1-p)log_2(1-p)$"
   ]
  },
  {
   "cell_type": "code",
   "execution_count": null,
   "id": "4890a3b2",
   "metadata": {},
   "outputs": [],
   "source": [
    "def entropyFunction(x):\n",
    "    if x == 0: return 0\n",
    "    return -x * math.log(x, 2) - (1 - x) * math.log(1 - x, 2)\n",
    "\n",
    "def giniFunction(x):\n",
    "    return x * (1 - x)"
   ]
  },
  {
   "cell_type": "code",
   "execution_count": null,
   "id": "e06b5f12",
   "metadata": {
    "scrolled": false
   },
   "outputs": [],
   "source": [
    "x = np.linspace(0, 0.5, 50)\n",
    "impure = pd.DataFrame({\n",
    "    'x': x,\n",
    "    'Accuracy': 2 * x,\n",
    "    'Gini': [giniFunction(xi) / giniFunction(.5) for xi in x],\n",
    "    'Entropy': [entropyFunction(xi) for xi in x],\n",
    "})\n",
    "\n",
    "fig, ax = plt.subplots(figsize=(4, 4))\n",
    "\n",
    "impure.plot(x='x', y='Accuracy', ax=ax, linestyle='solid')\n",
    "impure.plot(x='x', y='Entropy', ax=ax, linestyle='--')\n",
    "impure.plot(x='x', y='Gini', ax=ax, linestyle=':')\n",
    "\n",
    "plt.tight_layout()\n",
    "plt.show()"
   ]
  },
  {
   "cell_type": "markdown",
   "id": "b2aa78ed",
   "metadata": {},
   "source": [
    "- 정확도가 0.5인 지점에서, 지니 불순도와 엔트로피가 같이 높아 진다는 것을 알 수 있다.\n",
    "- [참고자료](https://data-science-hi.tistory.com/59)"
   ]
  },
  {
   "cell_type": "markdown",
   "id": "1464dced",
   "metadata": {},
   "source": [
    "## 트리 형성 중지하기\n",
    "- 트리가 커질 수록, 노이즈 까지 학습하는 오버피팅 상태가 됨\n",
    "- 좋은 일반화 성능을 위해서는 트리의 성장을 멈추거나, 잘라 내야 한다.\n",
    "- 언제 트리 성장을 멈춰야 하는가.\n",
    "    - 분할을 통해 얻어지는 하위 영역 또는 말단 잎의 크기가 너무 작다\n",
    "        - DicisionTreeClassifier 의 min_samples_split(기본값 2), min_samples_leaf(기본값 1) \n",
    "    - 새로운 분할 영역이 '유의미'한 정도로 불순도를 줄이지 않는다면 멈춘다\n",
    "        - DicisionTreeClassifier의 min_impurity_decrease\n",
    "    - 트리의 크기 제어\n",
    "        - max_depth (5~30 사이)"
   ]
  },
  {
   "cell_type": "markdown",
   "id": "f3c394e3",
   "metadata": {},
   "source": [
    "## 연속값 예측하기\n",
    "- 분류와 기본적으로 동일\n",
    "- 차이점\n",
    "    - 불순도 측정 : 각 하위 분할 영역의 평균으로 부터의 편차들의 제곱값을 이용\n",
    "    - 예측 성능 평가 : RMSE"
   ]
  },
  {
   "cell_type": "markdown",
   "id": "26b3bb20",
   "metadata": {},
   "source": [
    "## 트리 활용하기\n",
    "- 트리 모델의 장점\n",
    "    - 데이터 탐색을 위한 시각화 가능\n",
    "    - 변수간 중요도 표시 가능\n",
    "    - 예측변수들 간의 비선형 관계 포함 가능\n",
    "    - 비전문가와의 대화에 알고리즘에 대한 설명을 하기 적합"
   ]
  },
  {
   "cell_type": "markdown",
   "id": "19e9bf17",
   "metadata": {},
   "source": [
    "# 배깅과 랜덤 포레스트"
   ]
  },
  {
   "cell_type": "markdown",
   "id": "480cf904",
   "metadata": {},
   "source": [
    "- 앙상블 : ensemble, 여러 모델의 집합을 이용, 하나의 예측을 이끌어내는 방식\n",
    "- 부트스트래핑 : bootstrapping, 단일 랜덤 표본에서 복원으로 여러 표본을 가져와서 표본 추출 분포를 추정하는 방법\n",
    "- 배깅 : bagging, 데이터를 부트스트래핑해서 여러 모델을 만드는 일반적 방법\n",
    "- 랜덤포레스트 : random forest, 의사 결정 트리 모델에 기반한 배깅 추정 모델\n",
    "- 변수 중요도 : variable importance, 모델 성능에 예측변수의 중요도\n",
    "- 앙상블의 예\n",
    "    - 주어진 데이터에 대해 예측 모델을 만들고 예측 결과 기록\n",
    "    - 같은 데이터에 대해 여러 모델을 만들고 결과를 기록\n",
    "    - 각 레코드에 대해 예측된 결과들의 평규(또는 가중 평균, 다수결 투표)를 구함"
   ]
  },
  {
   "cell_type": "markdown",
   "id": "06dfddc9",
   "metadata": {},
   "source": [
    "## 배깅"
   ]
  },
  {
   "cell_type": "markdown",
   "id": "5c0c8d17",
   "metadata": {},
   "source": [
    "- 배깅(bagging)은 bootstrap aggregation의 준말, 1994년 레오 브레이먼이 처음 발표\n",
    "- 응답변수 $Y$와 $P$개의 예측변수 집합 $X_j(j=1, \\dots , P)$이 $N$개 있다고 가정\n",
    "- 배깅은 다양한 모델들을 매번 부트스트랩 재표본을 하여 새로운 모델을 만든다\n",
    "    - 1. 만들 모델의 개수 $M$과 모델을 만드는 데 사용할 레코드의 수 $n(n < N)$의 값을 초기화, $m=1$로 설정\n",
    "    - 2. 훈련 데이터로부터 복원추출 방법으로 $n$개의 부분 데이터 $Y_m$과 $X_m$을 부트스트랩 재표본 추출\n",
    "    - 3. 의사결정 규칙 $\\hat{f}_m(X)$를 얻기 위해, $Y_m$과 $X_m$을 이용 모델 학습\n",
    "    - 4. $m = m+1$로 모델 개수를 늘린다, $m \\leq M$이면 다시 2단계로 간다.\n",
    "- $\\hat{f}_m$이 $Y=1$ 인 경우의 확률을 예측한다고 했을때, 배깅 추정치는 다음과 같다.\n",
    "    - $\\hat{f} = \\frac{1}{M}(\\hat{f}_1(X) + \\hat{f}_2(X) + \\dots + \\hat{f}_M(X))$"
   ]
  },
  {
   "cell_type": "markdown",
   "id": "d1709b36",
   "metadata": {},
   "source": [
    "## 랜덤 포레스트"
   ]
  },
  {
   "cell_type": "markdown",
   "id": "3388156c",
   "metadata": {},
   "source": [
    "- 랜덤 포레스트는, 의사 결정 트리 모델에 배깅 적용한 모델\n",
    "- 레코드 표본 추출시, 변수 역시 샘플링 함\n",
    "    - 변수 샘플링 기준 : $P$개의 변수가 있을 때, $\\sqrt{P}$개\n",
    "- 즉, 고를 수 있는 변수가 랜덤하게 결정된 전체 변수들의 부분집합에 한정\n",
    "    - 1. 전체 데이터로 부터 부트스트랩 샘플링(복원추출)\n",
    "    - 2. 비복원 임의추출로 $p(p<P)$개의 변수 샘플링\n",
    "    - 3. 샘플링된 변수 $X_{j(1)}, X_{j(2)}, \\dots , X_{j(p)}$에 대해 분할 알고리즘 적용\n",
    "        - a. $X_{j(k)}$의 각 변수 $s_{j(1)}$에 대해\n",
    "            - i. 파티션 $A$에 있는 레로크들을 $X_{j(k)} < s_{j(k)}$인 하위 영역과 $X_{j(k)} \\geq s_{j(k)}$인 하위 영역으로 분할\n",
    "            - ii. $A$의 각 하위 영역 내부의 클래스의 동질성 측정\n",
    "        - b. 분할 영역 내부의 클래스 동질성을 최대로 하는 $s_{j(k)}$ 값 선택\n",
    "    - 4. 분할 영역 내부 클래스 동질성을 최대로 하는 $X_{j(k)}$와 $s_{j(k)}$ 값 선택\n",
    "    - 5. 다음 분할 진행을 위해, 2단계 부터 반복\n",
    "    - 6. 트리가 모두 자랄때 까지 위 분할 과정 반복\n",
    "    - 7. 1단계로 돌아가 또 다른 부트스트랩 표본울 추출, 동일 과정 반복\n"
   ]
  },
  {
   "cell_type": "code",
   "execution_count": null,
   "id": "78469260",
   "metadata": {},
   "outputs": [],
   "source": [
    "predictors = ['borrower_score', 'payment_inc_ratio']\n",
    "outcome = 'outcome'\n",
    "\n",
    "X = loan3000[predictors]\n",
    "y = loan3000[outcome]\n",
    "\n",
    "rf = RandomForestClassifier(n_estimators=500, random_state=1, \n",
    "                            oob_score=True)\n",
    "rf.fit(X, y)\n",
    "print(rf.oob_decision_function_)"
   ]
  },
  {
   "cell_type": "markdown",
   "id": "c3b3e52e",
   "metadata": {},
   "source": [
    "- n_estimators=500 : 500개의 트리 학습\n",
    "- 예측 변수는 2개, 매 단계마다 둘 중 하나의 변수 랜덤하게 선택\n",
    "- OOB(out-of-bag)추정 에러 : 트리 모델을 만들때 사용하지 않은 데이터로 구한 오차"
   ]
  },
  {
   "cell_type": "code",
   "execution_count": null,
   "id": "f9916f3e",
   "metadata": {},
   "outputs": [],
   "source": [
    "n_estimator = list(range(20, 510, 5))\n",
    "oobScores = []\n",
    "for n in n_estimator:\n",
    "    rf = RandomForestClassifier(n_estimators=n, \n",
    "                                criterion='entropy', max_depth=5,\n",
    "                                random_state=1, oob_score=True)\n",
    "    rf.fit(X, y)\n",
    "    oobScores.append(rf.oob_score_)"
   ]
  },
  {
   "cell_type": "code",
   "execution_count": null,
   "id": "447cf1e3",
   "metadata": {},
   "outputs": [],
   "source": [
    "pd.DataFrame({\n",
    "    'n': n_estimator, \n",
    "    'oobScore': oobScores\n",
    "}).plot(x='n', y='oobScore')\n",
    "plt.show()"
   ]
  },
  {
   "cell_type": "markdown",
   "id": "ac9fe551",
   "metadata": {},
   "source": [
    "- 대출 데이터로 구현한 랜덤 포레스트로의 예측 결과 시각화"
   ]
  },
  {
   "cell_type": "code",
   "execution_count": null,
   "id": "ec654c69",
   "metadata": {},
   "outputs": [],
   "source": [
    "predictions = X.copy()\n",
    "predictions['prediction'] = rf.predict(X)\n",
    "predictions.head()\n",
    "\n",
    "fig, ax = plt.subplots(figsize=(4, 4))\n",
    "\n",
    "predictions.loc[predictions.prediction=='paid off'].plot(\n",
    "    x='borrower_score', y='payment_inc_ratio', style='.',\n",
    "    markerfacecolor='none', markeredgecolor='C1', ax=ax)\n",
    "predictions.loc[predictions.prediction=='default'].plot(\n",
    "    x='borrower_score', y='payment_inc_ratio', style='o',\n",
    "    markerfacecolor='none', markeredgecolor='C0', ax=ax)\n",
    "ax.legend(['paid off', 'default']);\n",
    "ax.set_xlim(0, 1)\n",
    "ax.set_ylim(0, 25)\n",
    "ax.set_xlabel('borrower_score')\n",
    "ax.set_ylabel('payment_inc_ratio')\n",
    "\n",
    "plt.tight_layout()\n",
    "plt.show()"
   ]
  },
  {
   "cell_type": "markdown",
   "id": "636065dd",
   "metadata": {},
   "source": [
    "- 랜덤 포레스트는 일종의 '블랙박스'\n",
    "- 단순 트리보다는 훨씬 강력한 예측 모델 이지만\n",
    "- 직관적인 해석은 불가능"
   ]
  },
  {
   "cell_type": "markdown",
   "id": "b879c105",
   "metadata": {},
   "source": [
    "## 변수 중요도\n",
    "- 랜덤 포레스트는 피처와 레코드의 개수가 많은 데이터에 대해 예측 모델을 만들 때 강점\n",
    "- 다수의 예측변수 중 어느 것이 중요한지, 변수들 간의 상관관계를 자동 결정"
   ]
  },
  {
   "cell_type": "code",
   "execution_count": 2,
   "id": "b0107c60",
   "metadata": {},
   "outputs": [
    {
     "name": "stdout",
     "output_type": "stream",
     "text": [
      "RandomForestClassifier(criterion='entropy', n_estimators=500, random_state=1)\n"
     ]
    }
   ],
   "source": [
    "loan_data = pd.read_csv(LOAN_DATA_CSV)\n",
    "\n",
    "predictors = ['loan_amnt', 'term', 'annual_inc', 'dti', \n",
    "              'payment_inc_ratio', 'revol_bal', 'revol_util', \n",
    "              'purpose', 'delinq_2yrs_zero', 'pub_rec_zero', \n",
    "              'open_acc', 'grade', 'emp_length', 'purpose_', \n",
    "              'home_', 'emp_len_', 'borrower_score']\n",
    "outcome = 'outcome'\n",
    "\n",
    "X = pd.get_dummies(loan_data[predictors], drop_first=True, dtype=int)\n",
    "y = loan_data[outcome]\n",
    "\n",
    "rf_all = RandomForestClassifier(n_estimators=500, random_state=1)\n",
    "rf_all.fit(X, y)\n",
    "\n",
    "rf_all_entropy = RandomForestClassifier(n_estimators=500, random_state=1,\n",
    "                                        criterion='entropy') #gini, log_loss\n",
    "print(rf_all_entropy.fit(X, y))"
   ]
  },
  {
   "cell_type": "code",
   "execution_count": 9,
   "id": "eb1d6ef8",
   "metadata": {},
   "outputs": [
    {
     "data": {
      "image/png": "[encoded data removed]",
      "text/plain": [
       "<Figure size 800x1300 with 1 Axes>"
      ]
     },
     "metadata": {},
     "output_type": "display_data"
    }
   ],
   "source": [
    "plt.figure(figsize=(8, 13))\n",
    "plt.barh(X.columns, rf_all_entropy.feature_importances_)\n",
    "plt.show()"
   ]
  },
  {
   "cell_type": "markdown",
   "id": "b1b97196",
   "metadata": {},
   "source": [
    "`feature_importances_`는 랜덤 포레스트(Random Forest) 모델에서 각 특성(feature)이 예측 모델에 기여하는 정도를 나타내는 속성(attribute)입니다. `feature_importances_`는 의사결정 트리들이 각각의 특성을 얼마나 중요하게 생각하고 있는지를 나타냅니다.\n",
    "\n",
    "구체적으로, `feature_importances_`의 값은 다음과 같은 의미를 가집니다:\n",
    "\n",
    "- 값이 클수록 해당 특성이 예측에 중요하게 작용합니다. 즉, 해당 특성이 예측 모델의 결과에 큰 영향을 미칩니다.\n",
    "- 값이 작거나 0에 가까울수록 해당 특성이 예측에 미치는 영향이 적거나 없다고 볼 수 있습니다.\n",
    "- 모든 특성의 `feature_importances_` 값을 합하면 1이 됩니다. 각 특성의 중요도를 나타내는 비율로 해석할 수 있습니다."
   ]
  },
  {
   "cell_type": "markdown",
   "id": "9ac18f3b",
   "metadata": {},
   "source": [
    "## 하이퍼파라미터\n",
    "- 하이퍼파라미터는 성능을 조절 할 수 있는 일종의 손잡이\n",
    "- 모델 학습 전에 정해야 함 (학습 과정 중에 최적화 되지 않음)\n",
    "- 주요 하이퍼파라미터\n",
    "    - min_samples_leaf : 말단 노드의 크기\n",
    "    - max_leaf_nodes : 최대 말단 노드의 수 (maxnodes = 2*max_leaf_nodes -1)\n",
    "- 위 파라미터를 크게 하면, 과대적합 가능성이 커짐\n",
    "- CV 를 통해 하이퍼파라미터를 조절 해야 함"
   ]
  },
  {
   "cell_type": "code",
   "execution_count": 10,
   "id": "5fb10eb2",
   "metadata": {},
   "outputs": [
    {
     "name": "stdout",
     "output_type": "stream",
     "text": [
      "최적의 하이퍼파라미터 조합: {'max_leaf_nodes': None, 'min_samples_leaf': 8}\n",
      "최적의 모델: RandomForestClassifier(min_samples_leaf=8, random_state=42)\n",
      "정확도: 0.6686514499944867\n"
     ]
    }
   ],
   "source": [
    "from sklearn.ensemble import RandomForestClassifier\n",
    "from sklearn.model_selection import GridSearchCV\n",
    "\n",
    "loan_data = pd.read_csv(LOAN_DATA_CSV)\n",
    "\n",
    "predictors = ['loan_amnt', 'term', 'annual_inc', 'dti', \n",
    "              'payment_inc_ratio', 'revol_bal', 'revol_util', \n",
    "              'purpose', 'delinq_2yrs_zero', 'pub_rec_zero', \n",
    "              'open_acc', 'grade', 'emp_length', 'purpose_', \n",
    "              'home_', 'emp_len_', 'borrower_score']\n",
    "outcome = 'outcome'\n",
    "\n",
    "X = pd.get_dummies(loan_data[predictors], drop_first=True, dtype=int)\n",
    "y = loan_data[outcome]\n",
    "\n",
    "X_train, X_test, y_train, y_test = train_test_split(X, y, test_size=.2)\n",
    "\n",
    "# 랜덤 포레스트 모델 객체 생성\n",
    "rf_classifier = RandomForestClassifier(random_state=42)\n",
    "\n",
    "# 튜닝할 하이퍼파라미터 그리드 설정\n",
    "param_grid = {\n",
    "    'min_samples_leaf': [1, 2, 4, 8],\n",
    "    'max_leaf_nodes': [None, 10, 20, 30, 40]\n",
    "}\n",
    "\n",
    "# GridSearchCV 객체 생성\n",
    "grid_search = GridSearchCV(estimator=rf_classifier, param_grid=param_grid, cv=5)\n",
    "\n",
    "# 데이터와 레이블을 사용하여 그리드 서치 수행\n",
    "grid_search.fit(X_train, y_train)  # X_train과 y_train은 데이터와 레이블에 해당하는 변수입니다.\n",
    "\n",
    "# 최적의 하이퍼파라미터 조합 출력\n",
    "print(\"최적의 하이퍼파라미터 조합:\", grid_search.best_params_)\n",
    "\n",
    "# 최적의 모델 출력\n",
    "best_rf_model = grid_search.best_estimator_\n",
    "print(\"최적의 모델:\", best_rf_model)\n",
    "\n",
    "# 최적의 모델로 예측 수행\n",
    "y_pred = best_rf_model.predict(X_test)  # X_test는 테스트 데이터에 해당하는 변수입니다.\n",
    "\n",
    "# 예측 결과 평가\n",
    "from sklearn.metrics import accuracy_score\n",
    "accuracy = accuracy_score(y_test, y_pred)  # y_test는 테스트 레이블에 해당하는 변수입니다.\n",
    "print(\"정확도:\", accuracy)"
   ]
  },
  {
   "cell_type": "markdown",
   "id": "10ff60ff",
   "metadata": {},
   "source": [
    "# 부스팅\n",
    "- 부스팅 : 연속된 라운드마다 잔차가 큰 레코드들에 가장치를 높에 일련의 모델들을 생성하는 방법\n",
    "- 에이다부스트 : AdaBoost, 잔차에 따라 데이터의 가중치를 조절하는 부스팅 초기 모델\n",
    "- 그레디언트 부스팅 : Gradient Boosting, 비용함수를 최소화 하는 방향으로 부스팅\n",
    "- 확률적 그레디언트 부스팅, Stochastic Gradient Boosting, 각 라운드마다 레코드의 열을 재표본추출"
   ]
  },
  {
   "cell_type": "markdown",
   "id": "8e98af62",
   "metadata": {},
   "source": [
    "## 부스팅 알고리즘"
   ]
  },
  {
   "cell_type": "markdown",
   "id": "eaa1d023",
   "metadata": {},
   "source": [
    "### 에이다부스트(AdaBoost)\n",
    "에이다부스트(AdaBoost) 알고리즘은 앙상블 학습 방법 중 하나로, 약한 학습자(weak learner)를 결합하여 강력한 학습자(strong learner)를 만드는 기법입니다. 이 알고리즘은 다음과 같이 직관적으로 설명할 수 있습니다.\n",
    "\n",
    "1. **약한 학습자들을 모아 강한 학습자로**:\n",
    "   - 에이다부스트는 여러 개의 약한 학습자(성능이 약간 떨어지는 모델)를 모아 하나의 강한 학습자(성능이 높은 모델)를 만드는 것을 목표로 합니다.\n",
    "\n",
    "2. **어려운 문제에 초점**:\n",
    "   - 에이다부스트는 이전 학습자들이 풀기 어려운 문제에 더욱 집중합니다. 즉, 이전 학습자들이 틀린 예측을 더 잘 맞추도록 합니다.\n",
    "\n",
    "3. **가중치를 활용한 학습**:\n",
    "   - 학습 데이터의 각 샘플(데이터 포인트)에 가중치를 부여합니다. 처음에는 모든 샘플의 가중치가 동일합니다.\n",
    "\n",
    "4. **모델 학습과 가중치 업데이트**:\n",
    "   - 첫 번째 약한 학습자를 학습합니다. 이 모델은 일부 샘플을 잘못 예측할 수 있습니다.\n",
    "   - 잘못 예측된 샘플들의 가중치를 높이고, 올바르게 예측된 샘플들의 가중치를 낮춥니다. 이렇게 하면 다음 약한 학습자는 이전에 어려웠던 샘플에 좀 더 집중할 수 있게 됩니다.\n",
    "\n",
    "5. **약한 학습자 결합**:\n",
    "   - 이전 학습자들 중에서 어려운 문제에 더 잘 맞춘 약한 학습자들을 강한 학습자로 결합합니다. 이때, 각 약한 학습자의 예측에 가중치를 부여하여 최종 예측을 만듭니다.\n",
    "\n",
    "6. **반복**:\n",
    "   - 위 과정을 반복합니다. 새로운 약한 학습자를 추가하고, 이전 학습자들이 어려웠던 문제에 초점을 맞춰 학습합니다.\n",
    "\n",
    "7. **최종 강한 학습자**:\n",
    "   - 일정한 횟수나 성능이 달성될 때까지 반복한 후, 최종 강한 학습자를 얻습니다. 이것이 에이다부스트로 생성된 강력한 모델입니다.\n",
    "\n",
    "에이다부스트의 핵심 아이디어는 이전 학습자들이 어려운 문제에 더 집중하도록 가중치를 조절하고, 그 결과로 모델의 성능을 향상시키는 것입니다. 이를 통해 약한 학습자들을 결합하여 강력한 예측 모델을 구축할 수 있습니다."
   ]
  },
  {
   "cell_type": "markdown",
   "id": "6cf15af3",
   "metadata": {},
   "source": [
    "- 에이다부스트 알고리즘\n",
    "    - 1. 피팅할 모델의 개수 $M$ 설정, $m=1$로 초기화, 관측 가중치 $w_i = 1/N$으로 초기화 $(i=1, 2, \\dots , N)$, 앙상블 모델 $\\hat{F}_0 = 0$ 으로 초기화\n",
    "    - 2. 관측 가중치 $w_1, w_2, \\dots, w_N$을 이용, 모델 $\\hat{f}_m$ 학습, 잘못 분류된 관측치에 대해 가중치를 적용한 합을 의미하는 가중 오차 $e_m$이 최소화 되도록 학습\n",
    "    - 3. 앙상블 모델에 다음 모델 추가 $\\hat{F}_m = \\hat{F}_{m-1} + \\alpha_{m}\\hat{f}_m$, 여기서 $\\alpha_{m} = \\frac{log1-e_m}{e_m}$\n",
    "    - 4. 가중치($w_1, w_2, \\dots, w_N$)를 잘못 분류된 입력 데이터에 대해 가중치가 증가하는 방향으로 업데이트, $\\alpha_{m}$가 증가 폭 결정\n",
    "    - 5. 모델 반복 횟수 $m = m+1$로 증가, $m \\leq M$ 이면 다시 2 단계로 "
   ]
  },
  {
   "cell_type": "markdown",
   "id": "0937fb16",
   "metadata": {},
   "source": [
    "### 그레디언트 부스팅(Gradient Boosting)\n",
    "그레디언트 부스팅(Gradient Boosting)과 에이다부스트(AdaBoost)는 둘 다 앙상블 학습 방법이지만, 몇 가지 중요한 차이점이 있습니다.\n",
    "\n",
    "1. **오차 처리 방식**:\n",
    "   - 에이다부스트: 에이다부스트는 이전 모델이 틀린 예측한 샘플에 높은 가중치를 부여하여 잘못된 예측을 개선하려고 합니다. 즉, 잘못 분류된 데이터에 집중합니다.\n",
    "   - 그레디언트 부스팅: 그레디언트 부스팅은 이전 모델의 잔차(residuals)를 줄이는 방향으로 모델을 학습시킵니다. 각 모델은 이전 모델의 오차를 보완하는 방향으로 학습됩니다.\n",
    "\n",
    "2. **가중치 업데이트**:\n",
    "   - 에이다부스트: 에이다부스트는 잘못 분류된 데이터 포인트에 가중치를 부여하고, 정확하게 분류된 데이터 포인트의 가중치를 줄이는 방식으로 가중치를 업데이트합니다.\n",
    "   - 그레디언트 부스팅: 그레디언트 부스팅은 이전 모델의 잔차(오차)에 따라 가중치를 조절하여 모델을 업데이트합니다. 이를 통해 이전 모델이 어떤 데이터를 더 잘 예측하지 못했는지 고려합니다.\n",
    "\n",
    "3. **알파(Alpha) 또는 학습률(learning rate)**:\n",
    "   - 에이다부스트는 각 모델의 예측에 동일한 알파 값을 적용합니다. 알파는 모델의 중요도를 조절하는 요소로 사용됩니다.\n",
    "   - 그레디언트 부스팅은 학습률(learning rate)이라는 하이퍼파라미터를 사용하여 각 모델의 기여를 조절합니다. 학습률은 이전 모델의 기여를 얼마나 크게 반영할지 결정합니다.\n",
    "\n",
    "요약하면, 에이다부스트와 그레디언트 부스팅은 앙상블 학습 기법으로서 공통점이 있지만, 기본 학습 알고리즘, 오차 처리 방식, 가중치 업데이트, 알파 또는 학습률 등 여러 측면에서 차이가 있습니다. 선택해야 하는 경우에는 문제의 특성과 데이터에 맞는 알고리즘을 선택해야 합니다."
   ]
  },
  {
   "cell_type": "markdown",
   "id": "26c3eb3d",
   "metadata": {},
   "source": [
    "- 오차와 잔차\n",
    "    - \"오차\" : 모집단에서 회귀식을 얻었다면, 그 회귀식을 통해 얻은 예측값과 실제 관측값의 차이\n",
    "    - \"잔차\" : 표본집단에서 회귀식을 얻었다면, 그 회귀식을 통해 얻은 예측값과 실제 관측값의 차이"
   ]
  },
  {
   "cell_type": "markdown",
   "id": "26daf429",
   "metadata": {},
   "source": [
    "## XGBoost"
   ]
  },
  {
   "cell_type": "markdown",
   "id": "424f2510",
   "metadata": {},
   "source": [
    "XGBoost는 \"Extreme Gradient Boosting\"의 약자로, 그레디언트 부스팅 알고리즘의 하나입니다. XGBoost는 머신 러닝에서 높은 성능과 예측 정확도를 제공하는 강력한 앙상블 학습 알고리즘 중 하나로 널리 사용됩니다. 아래에서는 XGBoost의 주요 특징과 작동 방식을 설명합니다.\n",
    "\n",
    "**1. 그레디언트 부스팅 알고리즘:**\n",
    "   - XGBoost는 그레디언트 부스팅 알고리즘을 기반으로 합니다. 그레디언트 부스팅은 여러 개의 약한 학습자(weak learner)를 결합하여 강력한 학습자(strong learner)를 만드는 방법입니다.\n",
    "\n",
    "**2. 가중치 기반 오차(잔차) 보정:**\n",
    "   - XGBoost는 이전 모델들의 예측 오차에 가중치를 부여하고, 다음 모델을 학습할 때 이 오차를 줄이는 방향으로 학습합니다. 이를 통해 이전 모델이 잘못 예측한 샘플에 더욱 집중할 수 있습니다.\n",
    "\n",
    "**3. 트리 알고리즘 활용:**\n",
    "   - XGBoost는 의사결정 트리(Decision Trees)를 기본 학습 알고리즘으로 사용합니다. 각 트리 모델은 이전 트리 모델의 오차를 보정하는 방향으로 학습됩니다.\n",
    "\n",
    "**4. 정규화와 복잡성 제어:**\n",
    "   - XGBoost는 트리 모델의 복잡성을 제어하기 위해 L1(Lasso) 및 L2(Ridge) 정규화를 사용합니다. 이를 통해 모델이 과적합되지 않도록 하고 예측 성능을 향상시킵니다.\n",
    "\n",
    "**5. 자동적인 가지치기:**\n",
    "   - XGBoost는 가지치기(Pruning) 기술을 사용하여 불필요한 분기를 제거하고 모델을 간소화합니다. 이는 모델의 일반화 능력을 향상시키는 데 도움을 줍니다.\n",
    "\n",
    "**6. 다양한 손실 함수 지원:**\n",
    "   - XGBoost는 분류와 회귀 문제에 모두 적용 가능하며, 다양한 손실 함수(loss function)을 지원합니다. 예를 들어, 로지스틱 손실 함수를 사용하여 이진 분류 문제를 다룰 수 있습니다.\n",
    "\n",
    "**7. 병렬 처리와 고속화:**\n",
    "   - XGBoost는 병렬 처리를 통해 대용량 데이터셋에서도 빠르게 학습할 수 있는 기능을 제공합니다. 또한 고도로 최적화되어 있어 속도와 효율성 면에서 우수합니다.\n",
    "\n",
    "XGBoost는 대회에서 좋은 성적을 기록하거나, 실제 산업 응용에서 예측 모델을 개발할 때 널리 사용되는 머신 러닝 라이브러리 중 하나입니다. 그레디언트 부스팅의 강력한 성능과 다양한 기능을 활용하여 데이터 과학 및 머신 러닝 프로젝트를 수행하는 데 도움이 됩니다."
   ]
  },
  {
   "cell_type": "markdown",
   "id": "c259370a",
   "metadata": {},
   "source": [
    "- 주요 하이퍼파라미터\n",
    "    - subsample : 각 반복 구간마다 샘플링할 입력 데이터의 비율, 비복원추출\n",
    "    - eta : 부스팅 알고리즘에서, $\\alpha_m$에 적용되는 축소 비율, eta로 가중치의 변화량을 낮추어 오버피팅 방지 효과"
   ]
  },
  {
   "cell_type": "code",
   "execution_count": 12,
   "id": "46cfaa63",
   "metadata": {},
   "outputs": [
    {
     "name": "stderr",
     "output_type": "stream",
     "text": [
      "/home/restful3/anaconda3/envs/trading/lib/python3.10/site-packages/xgboost/sklearn.py:1395: UserWarning: `use_label_encoder` is deprecated in 1.7.0.\n",
      "  warnings.warn(\"`use_label_encoder` is deprecated in 1.7.0.\")\n"
     ]
    },
    {
     "name": "stdout",
     "output_type": "stream",
     "text": [
      "XGBClassifier(base_score=None, booster=None, callbacks=None,\n",
      "              colsample_bylevel=None, colsample_bynode=None,\n",
      "              colsample_bytree=None, early_stopping_rounds=None,\n",
      "              enable_categorical=False, eval_metric='error', feature_types=None,\n",
      "              gamma=None, gpu_id=None, grow_policy=None, importance_type=None,\n",
      "              interaction_constraints=None, learning_rate=None, max_bin=None,\n",
      "              max_cat_threshold=None, max_cat_to_onehot=None,\n",
      "              max_delta_step=None, max_depth=None, max_leaves=None,\n",
      "              min_child_weight=None, missing=nan, monotone_constraints=None,\n",
      "              n_estimators=100, n_jobs=None, num_parallel_tree=None,\n",
      "              predictor=None, random_state=None, ...)\n"
     ]
    }
   ],
   "source": [
    "loan3000 = pd.read_csv(LOAN3000_CSV)\n",
    "\n",
    "predictors = ['borrower_score', 'payment_inc_ratio']\n",
    "outcome = 'outcome'\n",
    "\n",
    "X = loan3000[predictors]\n",
    "y = pd.Series([1 if o == 'default' else 0 for o in loan3000[outcome]])\n",
    "\n",
    "xgb = XGBClassifier(objective='binary:logistic', subsample=.63, \n",
    "                    use_label_encoder=False, eval_metric='error')\n",
    "print(xgb.fit(X, y))"
   ]
  },
  {
   "cell_type": "code",
   "execution_count": 13,
   "id": "6994fcf2",
   "metadata": {},
   "outputs": [
    {
     "name": "stdout",
     "output_type": "stream",
     "text": [
      "   borrower_score  payment_inc_ratio prediction  prob_default\n",
      "0            0.40            5.11135   paid off      0.828856\n",
      "1            0.40            5.43165    default      0.260156\n",
      "2            0.70            9.23003    default      0.320805\n",
      "3            0.40            2.33482   paid off      0.678005\n",
      "4            0.45           12.10320    default      0.140204\n"
     ]
    }
   ],
   "source": [
    "xgb_df = X.copy()\n",
    "xgb_df['prediction'] = ['default' if p == 1 else 'paid off' for p in xgb.predict(X)]\n",
    "xgb_df['prob_default'] = xgb.predict_proba(X)[:, 0]\n",
    "print(xgb_df.head())"
   ]
  },
  {
   "cell_type": "code",
   "execution_count": 14,
   "id": "d1d03e5f",
   "metadata": {},
   "outputs": [
    {
     "data": {
      "image/png": "[encoded data removed]",
      "text/plain": [
       "<Figure size 600x400 with 1 Axes>"
      ]
     },
     "metadata": {},
     "output_type": "display_data"
    }
   ],
   "source": [
    "fig, ax = plt.subplots(figsize=(6, 4))\n",
    "\n",
    "xgb_df.loc[xgb_df.prediction=='paid off'].plot(\n",
    "    x='borrower_score', y='payment_inc_ratio', style='.', \n",
    "    markerfacecolor='none', markeredgecolor='C1', ax=ax)\n",
    "xgb_df.loc[xgb_df.prediction=='default'].plot(\n",
    "    x='borrower_score', y='payment_inc_ratio', style='o', \n",
    "    markerfacecolor='none', markeredgecolor='C0', ax=ax)\n",
    "ax.legend(['paid off', 'default']);\n",
    "ax.set_xlim(0, 1)\n",
    "ax.set_ylim(0, 25)\n",
    "ax.set_xlabel('borrower_score')\n",
    "ax.set_ylabel('payment_inc_ratio')\n",
    "\n",
    "plt.tight_layout()\n",
    "plt.show()"
   ]
  },
  {
   "cell_type": "markdown",
   "id": "5d7e1d94",
   "metadata": {},
   "source": [
    "## 정규화 : 오버피팅 피하기"
   ]
  },
  {
   "cell_type": "markdown",
   "id": "85628fc3",
   "metadata": {},
   "source": [
    "- 오버피팅의 문제점\n",
    "    - 학습 데이터에 없는 새로운 데이터에 대한 모델 정확도가 떨어진다\n",
    "    - 모델 예측 결과에 변동성이 커지고, 불안정한 결과가 나온다"
   ]
  },
  {
   "cell_type": "code",
   "execution_count": 15,
   "id": "fbdd9a5e",
   "metadata": {},
   "outputs": [
    {
     "name": "stderr",
     "output_type": "stream",
     "text": [
      "/home/restful3/anaconda3/envs/trading/lib/python3.10/site-packages/xgboost/sklearn.py:1395: UserWarning: `use_label_encoder` is deprecated in 1.7.0.\n",
      "  warnings.warn(\"`use_label_encoder` is deprecated in 1.7.0.\")\n"
     ]
    },
    {
     "name": "stdout",
     "output_type": "stream",
     "text": [
      "XGBClassifier(base_score=None, booster=None, callbacks=None,\n",
      "              colsample_bylevel=None, colsample_bynode=None,\n",
      "              colsample_bytree=None, early_stopping_rounds=None,\n",
      "              enable_categorical=False, eval_metric='error', feature_types=None,\n",
      "              gamma=None, gpu_id=None, grow_policy=None, importance_type=None,\n",
      "              interaction_constraints=None, learning_rate=0.1, max_bin=None,\n",
      "              max_cat_threshold=None, max_cat_to_onehot=None,\n",
      "              max_delta_step=None, max_depth=6, max_leaves=None,\n",
      "              min_child_weight=None, missing=nan, monotone_constraints=None,\n",
      "              n_estimators=250, n_jobs=None, num_parallel_tree=None,\n",
      "              predictor=None, random_state=None, ...)\n"
     ]
    }
   ],
   "source": [
    "predictors = ['loan_amnt', 'term', 'annual_inc', 'dti', \n",
    "              'payment_inc_ratio', 'revol_bal', 'revol_util', \n",
    "              'purpose', 'delinq_2yrs_zero', 'pub_rec_zero', \n",
    "              'open_acc', 'grade', 'emp_length', 'purpose_', \n",
    "              'home_', 'emp_len_', 'borrower_score']\n",
    "outcome = 'outcome'\n",
    "\n",
    "X = pd.get_dummies(loan_data[predictors], drop_first=True, dtype=int)\n",
    "y = pd.Series([1 if o == 'default' else 0 for o in loan_data[outcome]])\n",
    "\n",
    "train_X, valid_X, train_y, valid_y = train_test_split(X, y, test_size=10000)\n",
    "\n",
    "xgb_default = XGBClassifier(objective='binary:logistic', n_estimators=250, max_depth=6,\n",
    "                            reg_lambda=0, learning_rate=0.3, subsample=1,\n",
    "                            use_label_encoder=False, eval_metric='error')\n",
    "xgb_default.fit(train_X, train_y)\n",
    "\n",
    "xgb_penalty = XGBClassifier(objective='binary:logistic', n_estimators=250, max_depth=6,\n",
    "                            reg_lambda=1000, learning_rate=0.1, subsample=0.63,\n",
    "                            use_label_encoder=False, eval_metric='error')\n",
    "print(xgb_penalty.fit(train_X, train_y))"
   ]
  },
  {
   "cell_type": "markdown",
   "id": "ccdf99bf",
   "metadata": {},
   "source": [
    "과적합(Overfitting)을 막기 위한 정규화 방법은 머신 러닝 및 딥 러닝 모델에서 중요한 기술 중 하나입니다. 아래에는 주요한 정규화 방법들을 설명합니다.\n",
    "\n",
    "1. **L1 정규화 (Lasso 정규화)**:\n",
    "   - L1 정규화는 모델의 가중치(계수)에 대한 절대값을 패널티로 부여하여 일부 가중치를 0으로 만듭니다. 이는 모델에 불필요한 특성(feature)을 제거하고 모델을 더 간단하게 만드는 데 도움을 줍니다.\n",
    "   - L1 정규화는 특히 특성 선택(feature selection)에 유용합니다.\n",
    "   - reg_alpha 로 적용\n",
    "\n",
    "2. **L2 정규화 (Ridge 정규화)**:\n",
    "   - L2 정규화는 모델의 가중치(계수)에 대한 제곱을 패널티로 부여하여 가중치를 줄이지만 0으로 만들지는 않습니다. 이는 모델의 가중치를 조절하여 과적합을 방지하고 모델의 일반화 성능을 향상시킵니다.\n",
    "   - L2 정규화는 가중치 간의 상호 작용을 줄이는 효과가 있습니다.\n",
    "   - reg_lambda 로 적용\n",
    "\n",
    "3. **엘라스틱 넷 정규화 (Elastic Net 정규화)**:\n",
    "   - 엘라스틱 넷 정규화는 L1 정규화와 L2 정규화를 결합한 방법으로, 두 가지 정규화 패널티를 동시에 적용합니다. 이는 두 정규화 방법의 장점을 모두 활용하고자 할 때 사용됩니다.\n",
    "   \n",
    "<img src=\"./figs/ch6_1.png\">"
   ]
  },
  {
   "cell_type": "code",
   "execution_count": 16,
   "id": "b4c48475",
   "metadata": {},
   "outputs": [
    {
     "name": "stdout",
     "output_type": "stream",
     "text": [
      "default (train):  0.12608228170448757\n",
      "default:  0.3511\n",
      "penalty:  0.3251\n"
     ]
    }
   ],
   "source": [
    "pred_default = xgb_default.predict_proba(train_X)[:, 1]\n",
    "error_default = abs(train_y - pred_default) > 0.5\n",
    "print('default (train): ', np.mean(error_default))\n",
    "\n",
    "pred_default = xgb_default.predict_proba(valid_X)[:, 1]\n",
    "error_default = abs(valid_y - pred_default) > 0.5\n",
    "print('default: ', np.mean(error_default))\n",
    "\n",
    "pred_penalty = xgb_penalty.predict_proba(valid_X)[:, 1]\n",
    "error_penalty = abs(valid_y - pred_penalty) > 0.5\n",
    "print('penalty: ', np.mean(error_penalty))"
   ]
  },
  {
   "cell_type": "code",
   "execution_count": 17,
   "id": "12bab83c",
   "metadata": {},
   "outputs": [
    {
     "name": "stdout",
     "output_type": "stream",
     "text": [
      "   iterations  default train  penalty train  default test  penalty test\n",
      "0           1       0.345255       0.334220        0.3588        0.3455\n",
      "1           2       0.330428       0.336710        0.3415        0.3433\n",
      "2           3       0.326099       0.336880        0.3405        0.3450\n",
      "3           4       0.322647       0.338492        0.3407        0.3452\n",
      "4           5       0.319478       0.336455        0.3382        0.3424\n"
     ]
    }
   ],
   "source": [
    "results = []\n",
    "for ntree_limit in range(1, 250):\n",
    "    iteration_range = [1, ntree_limit + 1]\n",
    "    train_default = xgb_default.predict_proba(train_X, iteration_range=iteration_range)[:, 1]\n",
    "    train_penalty = xgb_penalty.predict_proba(train_X, iteration_range=iteration_range)[:, 1]\n",
    "    pred_default = xgb_default.predict_proba(valid_X, iteration_range=iteration_range)[:, 1]\n",
    "    pred_penalty = xgb_penalty.predict_proba(valid_X, iteration_range=iteration_range)[:, 1]\n",
    "    results.append({\n",
    "        'iterations': ntree_limit,\n",
    "        'default train': np.mean(abs(train_y - train_default) > 0.5),\n",
    "        'penalty train': np.mean(abs(train_y - train_penalty) > 0.5),\n",
    "        'default test': np.mean(abs(valid_y - pred_default) > 0.5),\n",
    "        'penalty test': np.mean(abs(valid_y - pred_penalty) > 0.5),\n",
    "    })\n",
    "\n",
    "results = pd.DataFrame(results)\n",
    "print(results.head())"
   ]
  },
  {
   "cell_type": "code",
   "execution_count": 21,
   "id": "b49147df",
   "metadata": {},
   "outputs": [
    {
     "data": {
      "image/png": "[encoded data removed]",
      "text/plain": [
       "<Figure size 640x480 with 1 Axes>"
      ]
     },
     "metadata": {},
     "output_type": "display_data"
    }
   ],
   "source": [
    "ax = results.plot(x='iterations', y='default test')\n",
    "results.plot(x='iterations', y='penalty test', ax=ax)\n",
    "results.plot(x='iterations', y='default train', ax=ax)\n",
    "results.plot(x='iterations', y='penalty train', ax=ax)\n",
    "plt.ylabel('mae')\n",
    "plt.show()"
   ]
  },
  {
   "cell_type": "markdown",
   "id": "2c855c62",
   "metadata": {},
   "source": [
    "- default는 학습의 오차 보다 테스트 시의 오차가 큼, 과적합\n",
    "- penalty는 학습과 테스트의 오차가 비슷"
   ]
  },
  {
   "cell_type": "markdown",
   "id": "a2512db8",
   "metadata": {},
   "source": [
    "## 하이퍼파라미터와 교차타당성 검사"
   ]
  },
  {
   "cell_type": "markdown",
   "id": "7d4ae2cf",
   "metadata": {},
   "source": [
    "### XGBoost의 하이퍼파라미터\n",
    "- learning_rate : 부스팅 알고리즘에서 $\\alpha$에 해당\n",
    "- n_estimators : 부스팅 라운드 횟수\n",
    "- max_depth : 트리의 최대 깊이 (기본 6)\n",
    "- colsample_bytree : 전체 데이터에 일부 데이터를 비복원 샘플링하는 비율\n",
    "- reg_lambda, reg_alpha : 정규화를 위해 사용 (앞에 설명)"
   ]
  },
  {
   "cell_type": "code",
   "execution_count": 22,
   "id": "71511818",
   "metadata": {},
   "outputs": [
    {
     "name": "stdout",
     "output_type": "stream",
     "text": [
      "최적의 하이퍼파라미터 조합: {'eta': 0.1, 'max_depth': 3}\n",
      "최적의 모델: XGBClassifier(base_score=None, booster=None, callbacks=None,\n",
      "              colsample_bylevel=None, colsample_bynode=None,\n",
      "              colsample_bytree=None, early_stopping_rounds=None,\n",
      "              enable_categorical=False, eta=0.1, eval_metric='error',\n",
      "              feature_types=None, gamma=None, gpu_id=None, grow_policy=None,\n",
      "              importance_type=None, interaction_constraints=None,\n",
      "              learning_rate=None, max_bin=None, max_cat_threshold=None,\n",
      "              max_cat_to_onehot=None, max_delta_step=None, max_depth=3,\n",
      "              max_leaves=None, min_child_weight=None, missing=nan,\n",
      "              monotone_constraints=None, n_estimators=250, n_jobs=None,\n",
      "              num_parallel_tree=None, predictor=None, ...)\n",
      "Validation Error: 0.3247\n"
     ]
    }
   ],
   "source": [
    "from sklearn.model_selection import GridSearchCV\n",
    "from xgboost import XGBClassifier\n",
    "\n",
    "# 튜닝할 하이퍼파라미터 그리드 설정\n",
    "param_grid = {\n",
    "    'eta': [0.1, 0.5, 0.9],\n",
    "    'max_depth': [3, 6, 9]\n",
    "}\n",
    "\n",
    "# XGBoost 모델 객체 생성\n",
    "xgb = XGBClassifier(objective='binary:logistic', n_estimators=250, eval_metric='error')\n",
    "\n",
    "# GridSearchCV 객체 생성\n",
    "grid_search = GridSearchCV(estimator=xgb, param_grid=param_grid, cv=5)\n",
    "\n",
    "# 데이터에 맞게 X, y를 설정해야 합니다.\n",
    "# train_X, train_y, valid_X, valid_y를 구분하여 데이터를 나눠야 합니다.\n",
    "predictors = ['loan_amnt', 'term', 'annual_inc', 'dti', \n",
    "              'payment_inc_ratio', 'revol_bal', 'revol_util', \n",
    "              'purpose', 'delinq_2yrs_zero', 'pub_rec_zero', \n",
    "              'open_acc', 'grade', 'emp_length', 'purpose_', \n",
    "              'home_', 'emp_len_', 'borrower_score']\n",
    "outcome = 'outcome'\n",
    "\n",
    "X = pd.get_dummies(loan_data[predictors], drop_first=True, dtype=int)\n",
    "y = pd.Series([1 if o == 'default' else 0 for o in loan_data[outcome]])\n",
    "\n",
    "train_X, valid_X, train_y, valid_y = train_test_split(X, y, test_size=10000)\n",
    "\n",
    "# 데이터 분할 및 그리드 서치 수행\n",
    "grid_search.fit(train_X, train_y)\n",
    "\n",
    "# 최적의 하이퍼파라미터 조합 출력\n",
    "print(\"최적의 하이퍼파라미터 조합:\", grid_search.best_params_)\n",
    "\n",
    "# 최적의 모델 출력\n",
    "best_xgb_model = grid_search.best_estimator_\n",
    "print(\"최적의 모델:\", best_xgb_model)\n",
    "\n",
    "# 최적의 모델로 예측 수행\n",
    "pred = best_xgb_model.predict_proba(valid_X)[:, 1]\n",
    "\n",
    "# 평가 및 결과 출력\n",
    "cv_error = np.mean(abs(valid_y - pred) > 0.5)\n",
    "print(\"Validation Error:\", cv_error)"
   ]
  }
 ],
 "metadata": {
  "kernelspec": {
   "display_name": "Python 3 (ipykernel)",
   "language": "python",
   "name": "python3"
  },
  "language_info": {
   "codemirror_mode": {
    "name": "ipython",
    "version": 3
   },
   "file_extension": ".py",
   "mimetype": "text/x-python",
   "name": "python",
   "nbconvert_exporter": "python",
   "pygments_lexer": "ipython3",
   "version": "3.10.9"
  },
  "toc": {
   "base_numbering": 1,
   "nav_menu": {},
   "number_sections": true,
   "sideBar": true,
   "skip_h1_title": false,
   "title_cell": "Table of Contents",
   "title_sidebar": "Contents",
   "toc_cell": false,
   "toc_position": {},
   "toc_section_display": true,
   "toc_window_display": false
  }
 },
 "nbformat": 4,
 "nbformat_minor": 5
}
