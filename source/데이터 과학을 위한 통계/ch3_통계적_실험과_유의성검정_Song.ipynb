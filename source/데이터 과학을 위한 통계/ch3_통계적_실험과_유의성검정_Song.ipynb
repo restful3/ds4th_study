{
 "cells": [
  {
   "cell_type": "markdown",
   "id": "ee7df58a",
   "metadata": {},
   "source": [
    "# 개요"
   ]
  },
  {
   "cell_type": "markdown",
   "id": "0a8b2c51",
   "metadata": {},
   "source": [
    "- 실험 설계는 모든 응용 연구 분야에서 통계분석의 토대\n",
    "- 실험 설계는 어떤 가설을 확인하거나 기각하기 위한 목표를 가지고 있다.\n",
    "- A/B 검정 같은 실험은 가설을 검정 및 결론 도출을 위해 설계\n",
    "- 추론 : 제한된 데이터로 주어진 실험 결과를 더 큰 과정 또는 모집단에 적용하려는 의도를 반영\n",
    "\n",
    "<img src='./figs/ch3_01.png'>"
   ]
  },
  {
   "cell_type": "markdown",
   "id": "41120033",
   "metadata": {},
   "source": [
    "# A/B 검정"
   ]
  },
  {
   "cell_type": "markdown",
   "id": "b5e5e39f",
   "metadata": {},
   "source": [
    "- 두 가지 처리 방법, 제품, 절차 중 어느 쪽이 다른 쪽 보다 더 우월하다는 것을 입증하기 위해 실험군을 두 그룹으로 나누어 진행 하는 실험\n",
    "- 대조군 : 기준이 되는 기존 방법, 아무런 처리도 적용하지 않은 방법\n",
    "- 처리 : treatment, 어떤 대상에 주어지는 특별한 환경이나 조건\n",
    "- 처리군(처리 그룹) : tretment group, 특정 처리에 노출된 대상들의 집단\n",
    "- 대조군(대조 그룹) : control group, 어떤 처리도 하지 않은 대상들의 집단\n",
    "- 임의화(랜덤화) : randomization, 처리를 적용할 대상을 임의로 결정 하는 과정\n",
    "- 대상 : subject, 처리를 적용할 개체 대상(유의어 : 피설험자)\n",
    "- 검정통계량 : test statistic, 처리 효과를 측정하기 위한 지표"
   ]
  },
  {
   "cell_type": "markdown",
   "id": "a7cb49db",
   "metadata": {},
   "source": [
    "<img src='./figs/ch3_02.png' width=500>\n",
    "<img src='./figs/ch3_03.png' width=500>"
   ]
  },
  {
   "cell_type": "markdown",
   "id": "ea3942d6",
   "metadata": {},
   "source": [
    "- 가격A의 페이지 뷰당 수익 : 평균 : 3.87, SD = 51.10\n",
    "- 가격B의 페이지 뷰당 수익 : 평균 : 4.11, SD = 62.98"
   ]
  },
  {
   "cell_type": "markdown",
   "id": "5311279e",
   "metadata": {},
   "source": [
    "## 대조군은 왜 필요할까?"
   ]
  },
  {
   "cell_type": "markdown",
   "id": "f4a484de",
   "metadata": {},
   "source": [
    "- 대조군이 없다면, '모든 다른 것들은 동일하다'는 보장이 없으며\n",
    "- 어떤 차이가 처리(또는 우연) 때문인지 확인 할 수 없다.\n",
    "- 연구를 위한 눈가림\n",
    "    - 눈가림(맹검) 연구 : blind study, 피실험자가 A, B 중 어느 것을 받고 있는지 모르게 하는 방식\n",
    "    - 이중눈구람(이중맹검) 연구 : double blid study, 조사자와 진행자 모두 어떤 대상이 어떤 처리 받았는지 모르게"
   ]
  },
  {
   "cell_type": "markdown",
   "id": "e1907c21",
   "metadata": {},
   "source": [
    "- 검정통계량은 실험 전에 미리 정해 두어야, 연구자 편향을 피할 수 있다."
   ]
  },
  {
   "cell_type": "markdown",
   "id": "81e9f703",
   "metadata": {},
   "source": [
    "## 왜 하필 A/B일까? C, D, $\\dots$가 아니라?"
   ]
  },
  {
   "cell_type": "markdown",
   "id": "245b447c",
   "metadata": {},
   "source": [
    "- A/B 검정 말고도 다양한 임상 실험이 가능하다\n",
    "- 멀티암드 밴딧 (후술 함)"
   ]
  },
  {
   "cell_type": "markdown",
   "id": "801b2fdf",
   "metadata": {},
   "source": [
    "# 가설검정"
   ]
  },
  {
   "cell_type": "markdown",
   "id": "7bd45a1c",
   "metadata": {},
   "source": [
    "- 귀무가설(영가설) : null hypothesis, 우연 때문이라는 가설\n",
    "- 대립가설 : alternative hypothesis, 귀무가설과 대조, 증명하고자 하는 가설\n",
    "- 일원검정 : one-way test, 한 방향으로만 우연히 일어날 확률을 계산하는 가설검정\n",
    "- 이원검정 : two-way test, 양방향으로 우연히 일어날 확률을 계산하는 가설검정\n",
    "- 가설이 필요한 이유 : 연구자가 랜덤으로 우연히 일어날 일에 속지 않도록 보호하기 위해\n",
    "    - 무작위 사건을 어떤 중요한 의미가 있는 패턴을 갖는 것으로 오해하는 경향이 있다.\n",
    "- 임의성에 대한 오해\n",
    "    - 동전을 실제로 던져 나온 결과와, 사람에게 예측해 보라는 결과를 각각 구한다\n",
    "    - 실제로 한 경우가, H와 T가 연속으로 더 많이 나온다. (5~6번 연속으로 나오기도)\n",
    "    - 이런 연속적인 실제 상황에 사람은 어떤 의미를 찾는다.\n",
    "- A/B 검정에서 다음 원인들로 설명될 수 있도록 데이터 수집\n",
    "    - 우연한 대상 선정\n",
    "    - A와 B의 진정한 차이"
   ]
  },
  {
   "cell_type": "markdown",
   "id": "ef0cc786",
   "metadata": {},
   "source": [
    "## 귀무가설"
   ]
  },
  {
   "cell_type": "markdown",
   "id": "6c00aa4b",
   "metadata": {},
   "source": [
    "- 인간은 실제로 우연히 발생한 일이라도 그것이 흔하지 않다면, 그것에 의미가 있다고 해석하는 경향이 있다.\n",
    "- 그러므로 실험으로 얻은 그룹간 차이가 무작위로 얻을 수 있는 결과와 극단적으로 다르다는 증거가 필요하다.\n",
    "- 따라서, 그룹간 차이는 우연의 의한 것이라는 것을 기본 가정으로 한다.\n",
    "- 이를 귀무가설이라고 한다.\n",
    "- 귀무가설이 틀렸다는 것을 입증하여, 그룹간의 차이가 우연이 아니라는 것을 보여주고자 한다.\n",
    "- 재표본추출 순열검정\n",
    "    - A와 B 결과를 섞어 임의로 만들고, 이를 재표본한 결과가 A와 B와 동등하다라는 것을 보여 귀무가설 구현"
   ]
  },
  {
   "cell_type": "markdown",
   "id": "65576d18",
   "metadata": {},
   "source": [
    "## 대립가설"
   ]
  },
  {
   "cell_type": "markdown",
   "id": "31b1946e",
   "metadata": {},
   "source": [
    "- 예시 1\n",
    "    - 귀무가설 : 그룹 A와 B의 평균차이가 없다.\n",
    "    - 대립가설 : A와 B는 다르다(더 크거나 작다)\n",
    "- 예시 2    \n",
    "    - 귀무가설 : A <= B\n",
    "    - 대립가설 : A > B\n",
    "- 예시 3\n",
    "    - "
   ]
  },
  {
   "cell_type": "markdown",
   "id": "aa5be4b0",
   "metadata": {},
   "source": [
    "## 일원/이원 가설검정"
   ]
  },
  {
   "cell_type": "code",
   "execution_count": null,
   "id": "369c3f2c",
   "metadata": {},
   "outputs": [],
   "source": []
  },
  {
   "cell_type": "markdown",
   "id": "916c3056",
   "metadata": {},
   "source": [
    "# 재표본추출"
   ]
  },
  {
   "cell_type": "code",
   "execution_count": null,
   "id": "87155c33",
   "metadata": {},
   "outputs": [],
   "source": []
  },
  {
   "cell_type": "markdown",
   "id": "3756ee74",
   "metadata": {},
   "source": [
    "## 순열검정"
   ]
  },
  {
   "cell_type": "code",
   "execution_count": null,
   "id": "d7645c43",
   "metadata": {},
   "outputs": [],
   "source": []
  },
  {
   "cell_type": "markdown",
   "id": "e1f38a74",
   "metadata": {},
   "source": [
    "## 예제 : 웹 점착성"
   ]
  },
  {
   "cell_type": "code",
   "execution_count": null,
   "id": "51133820",
   "metadata": {},
   "outputs": [],
   "source": []
  },
  {
   "cell_type": "markdown",
   "id": "c43a9218",
   "metadata": {},
   "source": [
    "## 전체 및 부트스트랩 순열검정"
   ]
  },
  {
   "cell_type": "code",
   "execution_count": null,
   "id": "2c55076d",
   "metadata": {},
   "outputs": [],
   "source": []
  },
  {
   "cell_type": "markdown",
   "id": "7dea87a4",
   "metadata": {},
   "source": [
    "## 순열검정 : 데이터 과학의 최종 결론"
   ]
  },
  {
   "cell_type": "code",
   "execution_count": null,
   "id": "44c73fa4",
   "metadata": {},
   "outputs": [],
   "source": []
  },
  {
   "cell_type": "markdown",
   "id": "39393f09",
   "metadata": {},
   "source": [
    "# 통계적 유의성과 p 값"
   ]
  },
  {
   "cell_type": "code",
   "execution_count": null,
   "id": "fc7f1ac4",
   "metadata": {},
   "outputs": [],
   "source": []
  },
  {
   "cell_type": "markdown",
   "id": "387187ae",
   "metadata": {},
   "source": [
    "## p 값"
   ]
  },
  {
   "cell_type": "code",
   "execution_count": null,
   "id": "d6ca586d",
   "metadata": {},
   "outputs": [],
   "source": []
  },
  {
   "cell_type": "markdown",
   "id": "53349263",
   "metadata": {},
   "source": [
    "## 유의수준"
   ]
  },
  {
   "cell_type": "code",
   "execution_count": null,
   "id": "1d7c7c73",
   "metadata": {},
   "outputs": [],
   "source": []
  },
  {
   "cell_type": "markdown",
   "id": "fa518cd1",
   "metadata": {},
   "source": [
    "### p 값에 대한 논란"
   ]
  },
  {
   "cell_type": "code",
   "execution_count": null,
   "id": "40793e56",
   "metadata": {},
   "outputs": [],
   "source": []
  },
  {
   "cell_type": "markdown",
   "id": "1ef1c855",
   "metadata": {},
   "source": [
    "### 실제적인 유의미"
   ]
  },
  {
   "cell_type": "code",
   "execution_count": null,
   "id": "84ccf7b5",
   "metadata": {},
   "outputs": [],
   "source": []
  },
  {
   "cell_type": "markdown",
   "id": "75e1024a",
   "metadata": {},
   "source": [
    "## 제1종과 제2종 오류"
   ]
  },
  {
   "cell_type": "code",
   "execution_count": null,
   "id": "6edc2ab4",
   "metadata": {},
   "outputs": [],
   "source": []
  },
  {
   "cell_type": "markdown",
   "id": "299d186f",
   "metadata": {},
   "source": [
    "## 데이터 과학과 p값"
   ]
  },
  {
   "cell_type": "code",
   "execution_count": null,
   "id": "a5bf3a5d",
   "metadata": {},
   "outputs": [],
   "source": []
  },
  {
   "cell_type": "markdown",
   "id": "4d101e4a",
   "metadata": {},
   "source": [
    "# t 검정"
   ]
  },
  {
   "cell_type": "code",
   "execution_count": null,
   "id": "39d8378d",
   "metadata": {},
   "outputs": [],
   "source": []
  },
  {
   "cell_type": "markdown",
   "id": "b1db8628",
   "metadata": {},
   "source": [
    "# 다중검정"
   ]
  },
  {
   "cell_type": "code",
   "execution_count": null,
   "id": "c7b4439c",
   "metadata": {},
   "outputs": [],
   "source": []
  },
  {
   "cell_type": "markdown",
   "id": "ee4496d8",
   "metadata": {},
   "source": [
    "# 자유도"
   ]
  },
  {
   "cell_type": "code",
   "execution_count": null,
   "id": "9fdfb4ad",
   "metadata": {},
   "outputs": [],
   "source": []
  },
  {
   "cell_type": "markdown",
   "id": "46b5e70b",
   "metadata": {},
   "source": [
    "# 분산분석"
   ]
  },
  {
   "cell_type": "code",
   "execution_count": null,
   "id": "5fd9dcd7",
   "metadata": {},
   "outputs": [],
   "source": []
  },
  {
   "cell_type": "markdown",
   "id": "308b884e",
   "metadata": {},
   "source": [
    "## F 통계량"
   ]
  },
  {
   "cell_type": "code",
   "execution_count": null,
   "id": "5aa18698",
   "metadata": {},
   "outputs": [],
   "source": []
  },
  {
   "cell_type": "markdown",
   "id": "b95f6ab4",
   "metadata": {},
   "source": [
    "## 이원 분산분석"
   ]
  },
  {
   "cell_type": "code",
   "execution_count": null,
   "id": "e843669e",
   "metadata": {},
   "outputs": [],
   "source": []
  },
  {
   "cell_type": "markdown",
   "id": "cd6397ca",
   "metadata": {},
   "source": [
    "# 카이제곱검정"
   ]
  },
  {
   "cell_type": "code",
   "execution_count": null,
   "id": "3c985cda",
   "metadata": {},
   "outputs": [],
   "source": []
  },
  {
   "cell_type": "markdown",
   "id": "f5352977",
   "metadata": {},
   "source": [
    "## 카이제곱검정 : 재표본추출 방법"
   ]
  },
  {
   "cell_type": "code",
   "execution_count": null,
   "id": "55590591",
   "metadata": {},
   "outputs": [],
   "source": []
  },
  {
   "cell_type": "markdown",
   "id": "9890c813",
   "metadata": {},
   "source": [
    "## 피셔의 정확검정"
   ]
  },
  {
   "cell_type": "code",
   "execution_count": null,
   "id": "8d5c24f5",
   "metadata": {},
   "outputs": [],
   "source": []
  },
  {
   "cell_type": "markdown",
   "id": "15e18c32",
   "metadata": {},
   "source": [
    "## 데이터 과학과의 관련성"
   ]
  },
  {
   "cell_type": "code",
   "execution_count": null,
   "id": "b4648a3c",
   "metadata": {},
   "outputs": [],
   "source": []
  },
  {
   "cell_type": "markdown",
   "id": "9b52ee97",
   "metadata": {},
   "source": [
    "# 멀티암드 밴딧 알고리즘"
   ]
  },
  {
   "cell_type": "code",
   "execution_count": null,
   "id": "0ddde7b0",
   "metadata": {},
   "outputs": [],
   "source": []
  },
  {
   "cell_type": "markdown",
   "id": "f364ad31",
   "metadata": {},
   "source": [
    "# 검정력과 표본크기"
   ]
  },
  {
   "cell_type": "code",
   "execution_count": null,
   "id": "ca5eebac",
   "metadata": {},
   "outputs": [],
   "source": []
  },
  {
   "cell_type": "markdown",
   "id": "531be804",
   "metadata": {},
   "source": [
    "## 표본크기"
   ]
  },
  {
   "cell_type": "code",
   "execution_count": null,
   "id": "ba4800c8",
   "metadata": {},
   "outputs": [],
   "source": []
  },
  {
   "cell_type": "markdown",
   "id": "3ea55e3f",
   "metadata": {},
   "source": [
    "# 마치며"
   ]
  },
  {
   "cell_type": "code",
   "execution_count": null,
   "id": "7a3a88c2",
   "metadata": {},
   "outputs": [],
   "source": []
  }
 ],
 "metadata": {
  "kernelspec": {
   "display_name": "Python 3 (ipykernel)",
   "language": "python",
   "name": "python3"
  },
  "language_info": {
   "codemirror_mode": {
    "name": "ipython",
    "version": 3
   },
   "file_extension": ".py",
   "mimetype": "text/x-python",
   "name": "python",
   "nbconvert_exporter": "python",
   "pygments_lexer": "ipython3",
   "version": "3.10.9"
  },
  "toc": {
   "base_numbering": 1,
   "nav_menu": {},
   "number_sections": true,
   "sideBar": true,
   "skip_h1_title": false,
   "title_cell": "Table of Contents",
   "title_sidebar": "Contents",
   "toc_cell": false,
   "toc_position": {
    "height": "calc(100% - 180px)",
    "left": "10px",
    "top": "150px",
    "width": "341.333px"
   },
   "toc_section_display": true,
   "toc_window_display": false
  }
 },
 "nbformat": 4,
 "nbformat_minor": 5
}
