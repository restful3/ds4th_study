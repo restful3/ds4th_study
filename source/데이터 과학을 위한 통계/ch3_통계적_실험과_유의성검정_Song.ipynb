{
 "cells": [
  {
   "cell_type": "markdown",
   "id": "cc4467c0",
   "metadata": {},
   "source": [
    "# 개요"
   ]
  },
  {
   "cell_type": "markdown",
   "id": "3b8ced6d",
   "metadata": {},
   "source": [
    "- "
   ]
  },
  {
   "cell_type": "markdown",
   "id": "9e15564a",
   "metadata": {},
   "source": [
    "# A/B 검정"
   ]
  },
  {
   "cell_type": "code",
   "execution_count": null,
   "id": "7c7a99bf",
   "metadata": {},
   "outputs": [],
   "source": []
  },
  {
   "cell_type": "markdown",
   "id": "07600ea7",
   "metadata": {},
   "source": [
    "# 가설검정"
   ]
  },
  {
   "cell_type": "code",
   "execution_count": null,
   "id": "f27abe69",
   "metadata": {},
   "outputs": [],
   "source": []
  },
  {
   "cell_type": "markdown",
   "id": "ef0752e2",
   "metadata": {},
   "source": [
    "# 재표본추출"
   ]
  },
  {
   "cell_type": "code",
   "execution_count": null,
   "id": "1820b1e4",
   "metadata": {},
   "outputs": [],
   "source": []
  },
  {
   "cell_type": "markdown",
   "id": "84382ae4",
   "metadata": {},
   "source": [
    "# 통계적 유의성과 p 값"
   ]
  },
  {
   "cell_type": "code",
   "execution_count": null,
   "id": "c6f417e6",
   "metadata": {},
   "outputs": [],
   "source": []
  },
  {
   "cell_type": "markdown",
   "id": "ba2e3341",
   "metadata": {},
   "source": [
    "# t 검정"
   ]
  },
  {
   "cell_type": "code",
   "execution_count": null,
   "id": "60ce757b",
   "metadata": {},
   "outputs": [],
   "source": []
  },
  {
   "cell_type": "markdown",
   "id": "0e42cbb3",
   "metadata": {},
   "source": [
    "# 다중검정"
   ]
  },
  {
   "cell_type": "code",
   "execution_count": null,
   "id": "c6d31440",
   "metadata": {},
   "outputs": [],
   "source": []
  },
  {
   "cell_type": "markdown",
   "id": "7e817849",
   "metadata": {},
   "source": [
    "# 자유도"
   ]
  },
  {
   "cell_type": "code",
   "execution_count": null,
   "id": "03a6d5b4",
   "metadata": {},
   "outputs": [],
   "source": []
  },
  {
   "cell_type": "markdown",
   "id": "849304ca",
   "metadata": {},
   "source": [
    "# 분산분석"
   ]
  },
  {
   "cell_type": "code",
   "execution_count": null,
   "id": "8c01fc6a",
   "metadata": {},
   "outputs": [],
   "source": []
  },
  {
   "cell_type": "markdown",
   "id": "b462555a",
   "metadata": {},
   "source": [
    "# 카이제곱검정"
   ]
  },
  {
   "cell_type": "code",
   "execution_count": null,
   "id": "60dee699",
   "metadata": {},
   "outputs": [],
   "source": []
  },
  {
   "cell_type": "markdown",
   "id": "e535ba1c",
   "metadata": {},
   "source": [
    "# 멀티암드 밴딧 알고리즘"
   ]
  },
  {
   "cell_type": "code",
   "execution_count": null,
   "id": "fba3e715",
   "metadata": {},
   "outputs": [],
   "source": []
  },
  {
   "cell_type": "markdown",
   "id": "aa795b8f",
   "metadata": {},
   "source": [
    "# 검정력과 표본크기"
   ]
  },
  {
   "cell_type": "code",
   "execution_count": null,
   "id": "66c23f27",
   "metadata": {},
   "outputs": [],
   "source": []
  },
  {
   "cell_type": "markdown",
   "id": "356b282f",
   "metadata": {},
   "source": [
    "# 마치며"
   ]
  },
  {
   "cell_type": "code",
   "execution_count": null,
   "id": "f5b178c6",
   "metadata": {},
   "outputs": [],
   "source": []
  }
 ],
 "metadata": {
  "kernelspec": {
   "display_name": "Python 3 (ipykernel)",
   "language": "python",
   "name": "python3"
  },
  "language_info": {
   "codemirror_mode": {
    "name": "ipython",
    "version": 3
   },
   "file_extension": ".py",
   "mimetype": "text/x-python",
   "name": "python",
   "nbconvert_exporter": "python",
   "pygments_lexer": "ipython3",
   "version": "3.10.9"
  },
  "toc": {
   "base_numbering": 1,
   "nav_menu": {},
   "number_sections": true,
   "sideBar": true,
   "skip_h1_title": false,
   "title_cell": "Table of Contents",
   "title_sidebar": "Contents",
   "toc_cell": false,
   "toc_position": {},
   "toc_section_display": true,
   "toc_window_display": false
  }
 },
 "nbformat": 4,
 "nbformat_minor": 5
}
