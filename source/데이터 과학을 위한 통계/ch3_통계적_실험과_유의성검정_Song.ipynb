{
 "cells": [
  {
   "cell_type": "markdown",
   "id": "ee7df58a",
   "metadata": {},
   "source": [
    "# 개요"
   ]
  },
  {
   "cell_type": "markdown",
   "id": "0a8b2c51",
   "metadata": {},
   "source": [
    "- 실험 설계는 모든 응용 연구 분야에서 통계분석의 토대\n",
    "- 실험 설계는 어떤 가설을 확인하거나 기각하기 위한 목표를 가지고 있다.\n",
    "- A/B 검정 같은 실험은 가설을 검정 및 결론 도출을 위해 설계\n",
    "- 추론 : 제한된 데이터로 주어진 실험 결과를 더 큰 과정 또는 모집단에 적용하려는 의도를 반영\n",
    "\n",
    "<img src='./figs/ch3_01.png'>"
   ]
  },
  {
   "cell_type": "markdown",
   "id": "41120033",
   "metadata": {},
   "source": [
    "# A/B 검정"
   ]
  },
  {
   "cell_type": "markdown",
   "id": "b5e5e39f",
   "metadata": {},
   "source": [
    "- 두 가지 처리 방법, 제품, 절차 중 어느 쪽이 다른 쪽 보다 더 우월하다는 것을 입증하기 위해 실험군을 두 그룹으로 나누어 진행 하는 실험\n",
    "- 대조군 : 기준이 되는 기존 방법, 아무런 처리도 적용하지 않은 방법\n",
    "- 처리 : treatment, 어떤 대상에 주어지는 특별한 환경이나 조건\n",
    "- 처리군(처리 그룹) : tretment group, 특정 처리에 노출된 대상들의 집단\n",
    "- 대조군(대조 그룹) : control group, 어떤 처리도 하지 않은 대상들의 집단\n",
    "- 임의화(랜덤화) : randomization, 처리를 적용할 대상을 임의로 결정 하는 과정\n",
    "- 대상 : subject, 처리를 적용할 개체 대상(유의어 : 피설험자)\n",
    "- 검정통계량 : test statistic, 처리 효과를 측정하기 위한 지표"
   ]
  },
  {
   "cell_type": "markdown",
   "id": "a7cb49db",
   "metadata": {},
   "source": [
    "<img src='./figs/ch3_02.png' width=500>\n",
    "<img src='./figs/ch3_03.png' width=300>"
   ]
  },
  {
   "cell_type": "markdown",
   "id": "ea3942d6",
   "metadata": {},
   "source": [
    "- 가격A의 페이지 뷰당 수익 : 평균 : 3.87, SD = 51.10\n",
    "- 가격B의 페이지 뷰당 수익 : 평균 : 4.11, SD = 62.98"
   ]
  },
  {
   "cell_type": "markdown",
   "id": "5311279e",
   "metadata": {},
   "source": [
    "## 대조군은 왜 필요할까?"
   ]
  },
  {
   "cell_type": "markdown",
   "id": "f4a484de",
   "metadata": {},
   "source": [
    "- 대조군이 없다면, '모든 다른 것들은 동일하다'는 보장이 없으며\n",
    "- 어떤 차이가 처리(또는 우연) 때문인지 확인 할 수 없다.\n",
    "- 연구를 위한 눈가림\n",
    "    - 눈가림(맹검) 연구 : blind study, 피실험자가 A, B 중 어느 것을 받고 있는지 모르게 하는 방식\n",
    "    - 이중눈구람(이중맹검) 연구 : double blid study, 조사자와 진행자 모두 어떤 대상이 어떤 처리 받았는지 모르게"
   ]
  },
  {
   "cell_type": "markdown",
   "id": "e1907c21",
   "metadata": {},
   "source": [
    "- 검정통계량은 실험 전에 미리 정해 두어야, 연구자 편향을 피할 수 있다."
   ]
  },
  {
   "cell_type": "markdown",
   "id": "81e9f703",
   "metadata": {},
   "source": [
    "## 왜 하필 A/B일까? C, D, $\\dots$가 아니라?"
   ]
  },
  {
   "cell_type": "markdown",
   "id": "245b447c",
   "metadata": {},
   "source": [
    "- A/B 검정 말고도 다양한 임상 실험이 가능하다\n",
    "- 멀티암드 밴딧 (후술 함)"
   ]
  },
  {
   "cell_type": "markdown",
   "id": "801b2fdf",
   "metadata": {},
   "source": [
    "# 가설검정"
   ]
  },
  {
   "cell_type": "markdown",
   "id": "7bd45a1c",
   "metadata": {},
   "source": [
    "- 귀무가설(영가설) : null hypothesis, 우연 때문이라는 가설\n",
    "- 대립가설 : alternative hypothesis, 귀무가설과 대조, 증명하고자 하는 가설\n",
    "- 일원검정 : one-way test, 한 방향으로만 우연히 일어날 확률을 계산하는 가설검정\n",
    "- 이원검정 : two-way test, 양방향으로 우연히 일어날 확률을 계산하는 가설검정\n",
    "- 가설이 필요한 이유 : 연구자가 랜덤으로 우연히 일어날 일에 속지 않도록 보호하기 위해\n",
    "    - 무작위 사건을 어떤 중요한 의미가 있는 패턴을 갖는 것으로 오해하는 경향이 있다.\n",
    "- 임의성에 대한 오해\n",
    "    - 동전을 실제로 던져 나온 결과와, 사람에게 예측해 보라는 결과를 각각 구한다\n",
    "    - 실제로 한 경우가, H와 T가 연속으로 더 많이 나온다. (5~6번 연속으로 나오기도)\n",
    "    - 이런 연속적인 실제 상황에 사람은 어떤 의미를 찾는다.\n",
    "- A/B 검정에서 다음 원인들로 설명될 수 있도록 데이터 수집\n",
    "    - 우연한 대상 선정\n",
    "    - A와 B의 진정한 차이"
   ]
  },
  {
   "cell_type": "markdown",
   "id": "ef0cc786",
   "metadata": {},
   "source": [
    "## 귀무가설"
   ]
  },
  {
   "cell_type": "markdown",
   "id": "6c00aa4b",
   "metadata": {},
   "source": [
    "- 인간은 실제로 우연히 발생한 일이라도 그것이 흔하지 않다면, 그것에 의미가 있다고 해석하는 경향이 있다.\n",
    "- 그러므로 실험으로 얻은 그룹간 차이가 무작위로 얻을 수 있는 결과와 극단적으로 다르다는 증거가 필요하다.\n",
    "- 따라서, 그룹간 차이는 우연의 의한 것이라는 것을 기본 가정으로 한다.\n",
    "- 이를 귀무가설이라고 한다.\n",
    "- 귀무가설이 틀렸다는 것을 입증하여, 그룹간의 차이가 우연이 아니라는 것을 보여주고자 한다.\n",
    "- 재표본추출 순열검정\n",
    "    - A와 B 결과를 섞어 임의로 만들고, \n",
    "    - 이를 재표본한 결과가 A와 B와 동등하다라는 것을 보여 귀무가설 구현\n",
    "    - 자세한 내용은 뒤에 나옴\n",
    "    \n",
    "<img src='./figs/ch3_heart.jpeg'>"
   ]
  },
  {
   "cell_type": "markdown",
   "id": "65576d18",
   "metadata": {},
   "source": [
    "## 대립가설"
   ]
  },
  {
   "cell_type": "markdown",
   "id": "31b1946e",
   "metadata": {},
   "source": [
    "- 예시 1\n",
    "    - 귀무가설 : 그룹 A와 B의 평균차이가 없다.\n",
    "    - 대립가설 : A와 B는 다르다(더 크거나 작다)\n",
    "- 예시 2    \n",
    "    - 귀무가설 : A <= B\n",
    "    - 대립가설 : A > B\n",
    "- 예시 3\n",
    "    - 귀무가설 : B는 A 보다 X% 더 크지 않다\n",
    "    - 대립가설 : B는 A 보다 X% 크다"
   ]
  },
  {
   "cell_type": "markdown",
   "id": "aa5be4b0",
   "metadata": {},
   "source": [
    "## 일원/이원 가설검정"
   ]
  },
  {
   "cell_type": "markdown",
   "id": "6494b2e7",
   "metadata": {},
   "source": [
    "- 일원 가설 검정 : B가 A보다 낫다\n",
    "- 양방향(이원) 가설 검정 : A와 B는 다르다. (더 크거나 더 작을 수 있다)"
   ]
  },
  {
   "cell_type": "markdown",
   "id": "916c3056",
   "metadata": {},
   "source": [
    "# 재표본추출"
   ]
  },
  {
   "cell_type": "markdown",
   "id": "09cc89b2",
   "metadata": {},
   "source": [
    "- 재표본추출 : 관측 데이터로부터 반복해서 표본추출하는 과정, 부트스트랩과 순열검정이 있다.\n",
    "    - 부트스트랩 : Bootstrap, 기존의 data set 1개에서 R번의 복원추출을 통해 새로운 data set R개를 sampling하는 방법\n",
    "    - 순열검정 : permutation test, 두 개 이상의 표본을 함께 결합하여 관측값들을 무작위로(또는 전부를) 비복원 추출하는 과정 (유의어 : 임의화검정, 임의순열검정, 정확검정)\n",
    "- 복원/비복원 : with or without replacement 표본을 추출할 때 이미 한 번 뽑은 데이터를 다음번 추출을 위해 다시 제자리에 돌려 놓거나/ 다음 추출에서 제외하는 표본추출 방법"
   ]
  },
  {
   "cell_type": "markdown",
   "id": "3756ee74",
   "metadata": {},
   "source": [
    "## 순열검정"
   ]
  },
  {
   "cell_type": "markdown",
   "id": "44d30fb9",
   "metadata": {},
   "source": [
    "1. 여러 그룹의 결과를 단일 데이터 집합으로 결합\n",
    "2. 결합한 데이터를 잘 섞고, 그룹 A와 동일한 크기의 표본을 무작위(비복원) 추출\n",
    "3. 나머지 그룹에 대해서도 동일하게 추출\n",
    "4. 통계량 계산\n",
    "5. 앞의 단계를 R 번 반복하여 검정 통계량의 순열분포 만든다"
   ]
  },
  {
   "cell_type": "markdown",
   "id": "1f69fc65",
   "metadata": {},
   "source": [
    "- 위의 과정으로 관찰한 차이가 순열 분포 바깥에 있다면 우연 때문이 아니다, 즉 통계적으로 유의미하다."
   ]
  },
  {
   "cell_type": "markdown",
   "id": "e1f38a74",
   "metadata": {},
   "source": [
    "## 예제 : 웹 점착성"
   ]
  },
  {
   "cell_type": "markdown",
   "id": "e9b49a33",
   "metadata": {},
   "source": [
    "- 웹 디자인에 따른 페이지에 머문 시간 비교"
   ]
  },
  {
   "cell_type": "code",
   "execution_count": 44,
   "id": "cb26aa21",
   "metadata": {},
   "outputs": [],
   "source": [
    "import pandas as pd\n",
    "import matplotlib.pyplot as plt"
   ]
  },
  {
   "cell_type": "code",
   "execution_count": 45,
   "id": "a1bfe7a6",
   "metadata": {},
   "outputs": [],
   "source": [
    "df = pd.read_csv('./datasets/web_page_data.csv')"
   ]
  },
  {
   "cell_type": "code",
   "execution_count": 46,
   "id": "e71d59b6",
   "metadata": {},
   "outputs": [
    {
     "data": {
      "text/html": [
       "<div>\n",
       "<style scoped>\n",
       "    .dataframe tbody tr th:only-of-type {\n",
       "        vertical-align: middle;\n",
       "    }\n",
       "\n",
       "    .dataframe tbody tr th {\n",
       "        vertical-align: top;\n",
       "    }\n",
       "\n",
       "    .dataframe thead th {\n",
       "        text-align: right;\n",
       "    }\n",
       "</style>\n",
       "<table border=\"1\" class=\"dataframe\">\n",
       "  <thead>\n",
       "    <tr style=\"text-align: right;\">\n",
       "      <th></th>\n",
       "      <th>Page</th>\n",
       "      <th>Time</th>\n",
       "    </tr>\n",
       "  </thead>\n",
       "  <tbody>\n",
       "    <tr>\n",
       "      <th>0</th>\n",
       "      <td>Page A</td>\n",
       "      <td>0.21</td>\n",
       "    </tr>\n",
       "    <tr>\n",
       "      <th>1</th>\n",
       "      <td>Page B</td>\n",
       "      <td>2.53</td>\n",
       "    </tr>\n",
       "    <tr>\n",
       "      <th>2</th>\n",
       "      <td>Page A</td>\n",
       "      <td>0.35</td>\n",
       "    </tr>\n",
       "    <tr>\n",
       "      <th>3</th>\n",
       "      <td>Page B</td>\n",
       "      <td>0.71</td>\n",
       "    </tr>\n",
       "    <tr>\n",
       "      <th>4</th>\n",
       "      <td>Page A</td>\n",
       "      <td>0.67</td>\n",
       "    </tr>\n",
       "  </tbody>\n",
       "</table>\n",
       "</div>"
      ],
      "text/plain": [
       "     Page  Time\n",
       "0  Page A  0.21\n",
       "1  Page B  2.53\n",
       "2  Page A  0.35\n",
       "3  Page B  0.71\n",
       "4  Page A  0.67"
      ]
     },
     "execution_count": 46,
     "metadata": {},
     "output_type": "execute_result"
    }
   ],
   "source": [
    "df.head()"
   ]
  },
  {
   "cell_type": "code",
   "execution_count": 47,
   "id": "69dfa015",
   "metadata": {},
   "outputs": [
    {
     "data": {
      "text/plain": [
       "Page A    21\n",
       "Page B    15\n",
       "Name: Page, dtype: int64"
      ]
     },
     "execution_count": 47,
     "metadata": {},
     "output_type": "execute_result"
    }
   ],
   "source": [
    "df['Page'].value_counts()"
   ]
  },
  {
   "cell_type": "code",
   "execution_count": 48,
   "id": "65976bf6",
   "metadata": {},
   "outputs": [
    {
     "data": {
      "image/png": "[encoded data removed]",
      "text/plain": [
       "<Figure size 640x480 with 1 Axes>"
      ]
     },
     "metadata": {},
     "output_type": "display_data"
    }
   ],
   "source": [
    "ax = df.boxplot(by='Page', column='Time')\n",
    "ax.set_xlabel('')\n",
    "ax.set_ylabel('Time (in seconds)')\n",
    "plt.suptitle('');"
   ]
  },
  {
   "cell_type": "markdown",
   "id": "81363989",
   "metadata": {},
   "source": [
    "- 페이지 B가 방문객을 더 오래 붙잡은 것으로 나타난다."
   ]
  },
  {
   "cell_type": "code",
   "execution_count": 49,
   "id": "fb6fd60f",
   "metadata": {},
   "outputs": [
    {
     "data": {
      "text/plain": [
       "0.3566666666666669"
      ]
     },
     "execution_count": 49,
     "metadata": {},
     "output_type": "execute_result"
    }
   ],
   "source": [
    "mean_a = df[df['Page'] == 'Page A']['Time'].mean()\n",
    "mean_b = df[df['Page'] == 'Page B']['Time'].mean()\n",
    "mean_b - mean_a"
   ]
  },
  {
   "cell_type": "markdown",
   "id": "292b1e30",
   "metadata": {},
   "source": [
    "- 위 평균 차이가 우연에 의한 것인지 확인 하기 위해 순열검정 적용\n",
    "- 모든 세션 기간을 결합하여, 섞는다\n",
    "- 21개의 그룹과 15개의 그룹 으로 반복하여 표본 추출"
   ]
  },
  {
   "cell_type": "code",
   "execution_count": 50,
   "id": "728ea5a4",
   "metadata": {},
   "outputs": [],
   "source": [
    "import random"
   ]
  },
  {
   "cell_type": "code",
   "execution_count": 51,
   "id": "298e8474",
   "metadata": {},
   "outputs": [],
   "source": [
    "def perm_fun(x, nA, nB):\n",
    "    n = nA + nB\n",
    "    idx_B = set(random.sample(range(n), nB))\n",
    "    idx_A = set(range(n)) - idx_B\n",
    "    return x.iloc[list(idx_B)].mean() - x.iloc[list(idx_A)].mean()"
   ]
  },
  {
   "cell_type": "markdown",
   "id": "a937439c",
   "metadata": {},
   "source": [
    "- 비복원 추출 방식으로 nA, nB 개를 각각 A, B 그룹에 할당\n",
    "- 두 그룹간의 평균의 차이를 결과로 반환\n",
    "- 1000번 반복 (nA = 21, nB = 15)"
   ]
  },
  {
   "cell_type": "code",
   "execution_count": 52,
   "id": "f32de30c",
   "metadata": {},
   "outputs": [],
   "source": [
    "nA = 21\n",
    "nB = 15\n",
    "perm_diffs = [perm_fun(df['Time'], nA, nB) for _ in range(1000)]"
   ]
  },
  {
   "cell_type": "code",
   "execution_count": 53,
   "id": "29eac19a",
   "metadata": {},
   "outputs": [
    {
     "data": {
      "image/png": "[encoded data removed]",
      "text/plain": [
       "<Figure size 500x500 with 1 Axes>"
      ]
     },
     "metadata": {},
     "output_type": "display_data"
    }
   ],
   "source": [
    "fig, ax = plt.subplots(figsize=(5,5))\n",
    "ax.hist(perm_diffs, bins=11, rwidth=0.9)\n",
    "ax.axvline(x=mean_b - mean_a, color='black', lw=2)\n",
    "ax.set_xlabel('Session time differences (in seconds)')\n",
    "ax.set_ylabel('Frequency');"
   ]
  },
  {
   "cell_type": "markdown",
   "id": "c57b9ae5",
   "metadata": {},
   "source": [
    "- 무작위 순열로 구한 평균 세션 시간의 차이가 가끔(13.6%) 실제 관찰된 세션 시간의 차이(수직선)를 넘어간다"
   ]
  },
  {
   "cell_type": "code",
   "execution_count": 54,
   "id": "fece0fab",
   "metadata": {},
   "outputs": [
    {
     "data": {
      "text/plain": [
       "0.129"
      ]
     },
     "execution_count": 54,
     "metadata": {},
     "output_type": "execute_result"
    }
   ],
   "source": [
    "import numpy as np\n",
    "\n",
    "np.mean(np.array(perm_diffs) > mean_b-mean_a)"
   ]
  },
  {
   "cell_type": "markdown",
   "id": "277201ea",
   "metadata": {},
   "source": [
    "- mean_b - mean_a가 위의 히스토그램 확률 분포 내에 존재\n",
    "- 통계적으로 유믜미 하지 않다. (임의로 발생 할 수 있다)"
   ]
  },
  {
   "cell_type": "markdown",
   "id": "c43a9218",
   "metadata": {},
   "source": [
    "## 전체 및 부트스트랩 순열검정"
   ]
  },
  {
   "cell_type": "markdown",
   "id": "41813828",
   "metadata": {},
   "source": [
    "- 전체순열검정 : exhaustive permutation test, 실제로 나눌 수 있는 모든 가능한 조합을 찾는다. 데이터가 작을 때나 사용 가능.\n",
    "- 부트스트랩 순열 검정 : bootstrap permutation test, 순열검정의 비복원 추출을, 복원 추출로 수행. 임의성 보장."
   ]
  },
  {
   "cell_type": "markdown",
   "id": "7dea87a4",
   "metadata": {},
   "source": [
    "## 순열검정 : 데이터 과학의 최종 결론"
   ]
  },
  {
   "cell_type": "markdown",
   "id": "04f96808",
   "metadata": {},
   "source": [
    "- 분포를 정하지 않아도 되고 (비모수적), 데이터 형(숫자형, 범주형)에도 상관 없으며, 범주간 샘플 크기가 같을 수도 다를 수도 있다."
   ]
  },
  {
   "cell_type": "markdown",
   "id": "39393f09",
   "metadata": {},
   "source": [
    "# 통계적 유의성과 p 값"
   ]
  },
  {
   "cell_type": "markdown",
   "id": "08eb98a1",
   "metadata": {},
   "source": [
    "- 통계적 유의성 : 실험 결과가 우연히 일어난 것인지 아닌지 판단 하는 방법, 우연히 벌어질 수 있는 변동성 밖에 있을 때.\n",
    "- p값 : p-value (유의확률): p-value는 '무작위성에 의한 결과일 가능성'을 나타내는 수치, 작은 p-value는 관측한 결과가 우연히 발생할 확률이 작다는 것을 의미\n",
    "- alpha : \"유의수준\"이라고도 불리며, 주어진 가설이 통계적으로 의미 있는지를 판단하기 위한 기준, \"우리가 실제로 관심을 가지고 있는 차이를 얼마나 민감하게 감지하려는가\"를 나타냅니다. 이 값이 낮을수록 우리는 작은 차이도 감지하고 싶다는 의미\n",
    "- 제1종 오류 : type 1 error, 우연에 의한 효과를 실제 효과라고 잘못 결론\n",
    "- 제2종 오류 : type 2 error, 실제 효과를 우연에 의한 효과라고 잘못 결론"
   ]
  },
  {
   "cell_type": "markdown",
   "id": "1607ae0b",
   "metadata": {},
   "source": [
    "<img src='./figs/ch3_04.jpeg' width=500>"
   ]
  },
  {
   "cell_type": "markdown",
   "id": "b164220c",
   "metadata": {},
   "source": [
    "- 가격 A가 B에 비해 우수"
   ]
  },
  {
   "cell_type": "code",
   "execution_count": 55,
   "id": "173f8bb5",
   "metadata": {},
   "outputs": [
    {
     "data": {
      "text/plain": [
       "0.03675791182059274"
      ]
     },
     "execution_count": 55,
     "metadata": {},
     "output_type": "execute_result"
    }
   ],
   "source": [
    "a = 200/(200+23539)*100\n",
    "b = 182/(182+22406)*100\n",
    "a - b"
   ]
  },
  {
   "cell_type": "markdown",
   "id": "dc3da367",
   "metadata": {},
   "source": [
    "- 하지만 전환 횟수가 너무 작아, 우연에 의한 것인지 검정 필요\n",
    "- 귀무 가설 :A, B 간에 전환률 차이가 없다.\n",
    "- 순열검정 절차 : ' 두 가격이 동일한 전환율 인지, 아니면 5% 만큼의 차이를 만들어 낼 수 있는지' 에 대한 답을 구한다\n",
    "    1. 0과 1이 적힌 카드를 박스에 넣는다. 전환율(0 : 45945, 1 : 382, 382/45945*100= 0.8246%)\n",
    "    2. 크기 23739개(가격 A)의 표본을 섞어서 뽑고 그 중 1이 몇개인지 기록\n",
    "    3. 크기 23588개 (가격 B)에서 1의 숫자 기록\n",
    "    4. 1의 비율 차이 기록\n",
    "    5. 2~4 단계 반복\n",
    "    6. 이 차이가 얼마나 >=0.0368 인가?"
   ]
  },
  {
   "cell_type": "code",
   "execution_count": 56,
   "id": "6b6a314a",
   "metadata": {},
   "outputs": [
    {
     "data": {
      "text/plain": [
       "0.03675791182059275"
      ]
     },
     "execution_count": 56,
     "metadata": {},
     "output_type": "execute_result"
    }
   ],
   "source": [
    "obs_pct_diff = 100 * (200/23739 - 182/22588)\n",
    "obs_pct_diff"
   ]
  },
  {
   "cell_type": "code",
   "execution_count": 57,
   "id": "e67be32a",
   "metadata": {},
   "outputs": [],
   "source": [
    "conversion = [0]*(23539 + 22406)\n",
    "conversion.extend([1]*(200+182))\n",
    "conversion = pd.Series(conversion)"
   ]
  },
  {
   "cell_type": "code",
   "execution_count": 58,
   "id": "7d9d9bfb",
   "metadata": {},
   "outputs": [],
   "source": [
    "perm_diffs = [100*perm_fun(conversion, 23739, 22588) for _ in range(1000)]"
   ]
  },
  {
   "cell_type": "code",
   "execution_count": 59,
   "id": "aebed16e",
   "metadata": {},
   "outputs": [
    {
     "data": {
      "image/png": "[encoded data removed]",
      "text/plain": [
       "<Figure size 500x500 with 1 Axes>"
      ]
     },
     "metadata": {},
     "output_type": "display_data"
    }
   ],
   "source": [
    "fig, ax = plt.subplots(figsize=(5,5))\n",
    "ax.hist(perm_diffs, bins=11, rwidth=0.9)\n",
    "ax.axvline(x=obs_pct_diff, color='black', lw=2)\n",
    "ax.set_xlabel('Conversion rate (percent))')\n",
    "ax.set_ylabel('Frequency');"
   ]
  },
  {
   "cell_type": "markdown",
   "id": "a131e752",
   "metadata": {},
   "source": [
    "- 0.0368는 랜덤 범위 내에 있다.\n",
    "- 통계적으로 유믜미 하지 않다. (임의로 발생 할 수 있다)"
   ]
  },
  {
   "cell_type": "markdown",
   "id": "387187ae",
   "metadata": {},
   "source": [
    "## p 값"
   ]
  },
  {
   "cell_type": "markdown",
   "id": "563cff26",
   "metadata": {},
   "source": [
    "- 통계적 유의성을 정확히 측정 하기 위한 지표 필요\n",
    "- 확률 모형이 관측된 결과보다 더 극단적인 결과를 생성하는 빈도\n",
    "- 순열검정으로 얻은 결과 중, 관찰된 차이와 같거나 더 큰 차이를 보이는 경우의 비율"
   ]
  },
  {
   "cell_type": "code",
   "execution_count": 60,
   "id": "f9f344a0",
   "metadata": {},
   "outputs": [
    {
     "data": {
      "text/plain": [
       "0.352"
      ]
     },
     "execution_count": 60,
     "metadata": {},
     "output_type": "execute_result"
    }
   ],
   "source": [
    "np.mean([diff > obs_pct_diff for diff in perm_diffs])"
   ]
  },
  {
   "cell_type": "markdown",
   "id": "12ba2324",
   "metadata": {},
   "source": [
    "- 관찰된 35.5% 정도가 관찰한 것과 비슷한 정도로 예외적인 결과를 얻을 것으로 기대"
   ]
  },
  {
   "cell_type": "code",
   "execution_count": 61,
   "id": "146da348",
   "metadata": {},
   "outputs": [],
   "source": [
    "from scipy.stats import chi2_contingency"
   ]
  },
  {
   "cell_type": "code",
   "execution_count": 62,
   "id": "a56d1b26",
   "metadata": {},
   "outputs": [
    {
     "name": "stdout",
     "output_type": "stream",
     "text": [
      "p-value for single sided test: 0.3498\n"
     ]
    }
   ],
   "source": [
    "# survivors = np.array([[200, 23739-200], [182, 22588 - 182]])\n",
    "survivors = np.array([[200, 23739 - 200], [182, 22588 - 182]])\n",
    "\n",
    "# chi2, p_value, df, _ = chi2_contingency(survivors)\n",
    "chi2, p_value, df, _ = chi2_contingency(survivors)\n",
    "\n",
    "print(f'p-value for single sided test: {p_value / 2:.4f}')"
   ]
  },
  {
   "cell_type": "markdown",
   "id": "53349263",
   "metadata": {},
   "source": [
    "## 유의수준"
   ]
  },
  {
   "cell_type": "markdown",
   "id": "15a931ea",
   "metadata": {},
   "source": [
    "- 어떤 결과가 '우연히 얻은(귀무가설) 결과의 5%보다 더 극단적인' 결과임을 판단하는 임곗값(5%), 극단적이 값이 나올 확률은 얼마인가.\n",
    "- 주어진 가설이 통계적으로 의미 있는지를 판단하기 위한 기준\n",
    "- 이 임곗값을 유의수준(alpha)라고 하며 보통 5%, 1% 사용\n",
    "- 임의로 선택, 올바른 임곗값을 보장하는 프로세스는 없다.\n",
    "- 귀무가설이 참인데 이를 기각 할 확률 (1종 오류)"
   ]
  },
  {
   "cell_type": "markdown",
   "id": "fa518cd1",
   "metadata": {},
   "source": [
    "### p 값에 대한 논란"
   ]
  },
  {
   "cell_type": "markdown",
   "id": "3511aa82",
   "metadata": {},
   "source": [
    "- p 값을 통해 전달 하고자 하는 것 : 결과가 우연에서 비롯될 확률\n",
    "- 실제 p 값이 나타내는 것 : 랜덤 모델이 주어졌을 때 그 결과가 관찰된 결과 보다 더 극단적일 확롤\n",
    "- p 값이 작은 것이 바로 '통계적으로 유의미하다' 라는 결론으로 가는 것은 논리적 근거가 약하다\n",
    "- p 값 그 자체는 모델이나 가설에 대한 증거를 측정하기에 좋은 지표가 아니다."
   ]
  },
  {
   "cell_type": "markdown",
   "id": "1ef1c855",
   "metadata": {},
   "source": [
    "### 실제적인 유의미"
   ]
  },
  {
   "cell_type": "markdown",
   "id": "096baf99",
   "metadata": {},
   "source": [
    "- 통계적으로 유의미하다고 해서 실제적으로 유의미 하다는 뜻은 아니다.\n",
    "- 실제적으로 의미 없는 것이라도 통계적으로는 유의미하게 나올 수도 있다."
   ]
  },
  {
   "cell_type": "markdown",
   "id": "75e1024a",
   "metadata": {},
   "source": [
    "## 제1종과 제2종 오류"
   ]
  },
  {
   "cell_type": "markdown",
   "id": "79c1307b",
   "metadata": {},
   "source": [
    "- 1종 오류 : 어떤 효과가 우연히 발생한 것인데, 그것이 사실이라고 잘못 판단, $\\alpha$로 표기\n",
    "- 2종 오류 : 어떤 효과가 실제로 발생한 것인데 그것이 우연히 발생한 것이라고 잘못 판단, $\\beta$로 표기"
   ]
  },
  {
   "cell_type": "markdown",
   "id": "299d186f",
   "metadata": {},
   "source": [
    "## 데이터 과학과 p값"
   ]
  },
  {
   "cell_type": "markdown",
   "id": "7d0fba98",
   "metadata": {},
   "source": [
    "- 관심 있는 모델의 결과이 우연히 일어난 것인가를 판단 하는 측정 지표\n",
    "- 모든 상황의 의사 결정 도구는 아니다. (정보의 일부 이다)"
   ]
  },
  {
   "cell_type": "markdown",
   "id": "4d101e4a",
   "metadata": {},
   "source": [
    "# t 검정"
   ]
  },
  {
   "cell_type": "markdown",
   "id": "35ec4138",
   "metadata": {},
   "source": [
    "- 검정통계량 : test statistic, 관심의 차이 또는 효과에 대한 측정 지표\n",
    "- t통계량 : t-statistic,  '데이터의 평균 차이'를 계산해서 얼마나 뚜렷한 차이가 있는지를 알려주는 도구\n",
    "- t분포 : t-distribution, 관측된 t통계량을 비교할 수 있는 기준 분포, 컴퓨터가 발달하지 않아 재표본 검증이 실용적이지 않은 상황에서 활용\n",
    "\n",
    "<img src='./figs/ch3_05.png' width=500>"
   ]
  },
  {
   "cell_type": "code",
   "execution_count": 63,
   "id": "d09104f2",
   "metadata": {},
   "outputs": [],
   "source": [
    "from scipy.stats import ttest_ind"
   ]
  },
  {
   "cell_type": "code",
   "execution_count": 64,
   "id": "ee201a80",
   "metadata": {},
   "outputs": [
    {
     "data": {
      "text/html": [
       "<div>\n",
       "<style scoped>\n",
       "    .dataframe tbody tr th:only-of-type {\n",
       "        vertical-align: middle;\n",
       "    }\n",
       "\n",
       "    .dataframe tbody tr th {\n",
       "        vertical-align: top;\n",
       "    }\n",
       "\n",
       "    .dataframe thead th {\n",
       "        text-align: right;\n",
       "    }\n",
       "</style>\n",
       "<table border=\"1\" class=\"dataframe\">\n",
       "  <thead>\n",
       "    <tr style=\"text-align: right;\">\n",
       "      <th></th>\n",
       "      <th>Page</th>\n",
       "      <th>Time</th>\n",
       "    </tr>\n",
       "  </thead>\n",
       "  <tbody>\n",
       "    <tr>\n",
       "      <th>14</th>\n",
       "      <td>Page A</td>\n",
       "      <td>1.47</td>\n",
       "    </tr>\n",
       "    <tr>\n",
       "      <th>32</th>\n",
       "      <td>Page A</td>\n",
       "      <td>0.86</td>\n",
       "    </tr>\n",
       "    <tr>\n",
       "      <th>28</th>\n",
       "      <td>Page A</td>\n",
       "      <td>0.65</td>\n",
       "    </tr>\n",
       "  </tbody>\n",
       "</table>\n",
       "</div>"
      ],
      "text/plain": [
       "      Page  Time\n",
       "14  Page A  1.47\n",
       "32  Page A  0.86\n",
       "28  Page A  0.65"
      ]
     },
     "execution_count": 64,
     "metadata": {},
     "output_type": "execute_result"
    }
   ],
   "source": [
    "import pandas as pd\n",
    "df = pd.read_csv('./datasets/web_page_data.csv')\n",
    "df.sample(3)"
   ]
  },
  {
   "cell_type": "code",
   "execution_count": 65,
   "id": "8aaeb9f3",
   "metadata": {},
   "outputs": [],
   "source": [
    "res = ttest_ind(df[df['Page'] == 'Page A']['Time'], df[df['Page'] == 'Page B']['Time'], equal_var=False, alternative='less')"
   ]
  },
  {
   "cell_type": "code",
   "execution_count": 66,
   "id": "b1a9e82f",
   "metadata": {},
   "outputs": [
    {
     "name": "stdout",
     "output_type": "stream",
     "text": [
      "p-value for single sided test: 0.1408\n"
     ]
    }
   ],
   "source": [
    "print(f'p-value for single sided test: {res.pvalue:.4f}')"
   ]
  },
  {
   "cell_type": "markdown",
   "id": "63f537e6",
   "metadata": {},
   "source": [
    "- 대립가설 : A의 평균 세션 시간이 B 보다 작다\n",
    "- p-value 0.1408는 순열검정을 통해 없은 p-value 0.148 와 매우 가깝다."
   ]
  },
  {
   "cell_type": "markdown",
   "id": "b1db8628",
   "metadata": {},
   "source": [
    "# 다중검정"
   ]
  },
  {
   "cell_type": "markdown",
   "id": "b2593c9d",
   "metadata": {},
   "source": [
    "- 변수가 많을 수록 혹은 더 많은 모델을 사용할 수록 우연히 '유의미한' 결과가 나올 수 있다.\n",
    "- 알파 인플레이션 : 1종 오류를 만들 확률인 알파가 더 많은 테스트를 할 수록 증가 하는 다중검정 현상\n",
    "- 과대적합 : overfitting, 잡음까지 학습\n",
    "- 여러 통계 비교(즉, 여러 유의성검정)와 관련된 상황의 경우 통계적 수정 절차 필요\n",
    "    - 본페로니 수정, 투키의 HSD(honestly significant difference) 검정, 홀드 아웃, 교차타당성검사"
   ]
  },
  {
   "cell_type": "markdown",
   "id": "ee4496d8",
   "metadata": {},
   "source": [
    "# 자유도"
   ]
  },
  {
   "cell_type": "markdown",
   "id": "58b973a9",
   "metadata": {},
   "source": [
    "- 자유도 : d.f. , degree of freedom, 표본 데이터(n개)에서 계산된 통계량을 제외한, 변화가 가능한 표본의 개수, n-1\n",
    "- 분산과 표준편차 계산에서, n이 아니라 n-1을 사용해야 편향을 피할 수 있다.\n",
    "- 범주형 변수로 로지스틱 회귀 모델을 만들때, 변수들을 n-1개의 더미 변수로 만들어야 다중공선성 오차를 피할 수 있다."
   ]
  },
  {
   "cell_type": "markdown",
   "id": "46b5e70b",
   "metadata": {},
   "source": [
    "# 분산분석"
   ]
  },
  {
   "cell_type": "markdown",
   "id": "a20564fb",
   "metadata": {},
   "source": [
    "- 분산분석, ANOVA : analysis of variance, 두개를 넘어서는 갯수의 그룹의 데이터 분석\n",
    "- 4개의 웹 페이지의 방문자 보낸 시간 분석\n",
    "\n",
    "<img src='./figs/ch3_06.png' width=500>"
   ]
  },
  {
   "cell_type": "markdown",
   "id": "b00962e0",
   "metadata": {},
   "source": [
    "- 네 페이지는 무작위로 표시\n",
    "- 총 5명의 방문자\n",
    "- 각 방문자는 서로 독립\n",
    "- 모든 페이지가 동일한 방문 시간을 가지는가\n",
    "- ANOVA\n",
    "    1. 모든 데이터를 한 상자에 모은다\n",
    "    2. 5개의 값을 갖는 4개 (그룹의) 재표본을 임의로 추출\n",
    "    3. 각 그룹의 평균 기록\n",
    "    4. 네 그룹 평균 사이의 분산 기록\n",
    "    5. 위 2~4 단계를 여러번(1000번) 반복\n",
    "- 재표본추출한 분산이 관찰한 변화를 초과한 시간 : p 값"
   ]
  },
  {
   "cell_type": "code",
   "execution_count": 67,
   "id": "d9fad992",
   "metadata": {},
   "outputs": [
    {
     "data": {
      "text/plain": [
       "Page 1    5\n",
       "Page 2    5\n",
       "Page 3    5\n",
       "Page 4    5\n",
       "Name: Page, dtype: int64"
      ]
     },
     "execution_count": 67,
     "metadata": {},
     "output_type": "execute_result"
    }
   ],
   "source": [
    "import pandas as pd\n",
    "\n",
    "df = pd.read_csv('./datasets/four_sessions.csv')\n",
    "df['Page'].value_counts()"
   ]
  },
  {
   "cell_type": "code",
   "execution_count": 68,
   "id": "61f71d72",
   "metadata": {},
   "outputs": [
    {
     "data": {
      "text/plain": [
       "Index(['Page', 'Time'], dtype='object')"
      ]
     },
     "execution_count": 68,
     "metadata": {},
     "output_type": "execute_result"
    }
   ],
   "source": [
    "df.columns"
   ]
  },
  {
   "cell_type": "code",
   "execution_count": 69,
   "id": "6fb24fac",
   "metadata": {},
   "outputs": [
    {
     "data": {
      "image/png": "[encoded data removed]",
      "text/plain": [
       "<Figure size 640x480 with 1 Axes>"
      ]
     },
     "metadata": {},
     "output_type": "display_data"
    }
   ],
   "source": [
    "import seaborn as sns\n",
    "\n",
    "sns.boxplot(data=df, x='Page', y='Time');"
   ]
  },
  {
   "cell_type": "code",
   "execution_count": 70,
   "id": "c24b0445",
   "metadata": {},
   "outputs": [
    {
     "name": "stdout",
     "output_type": "stream",
     "text": [
      "Observed means: [172.8 182.6 175.6 164.6]\n",
      "Variance: 55.426666666666655\n"
     ]
    }
   ],
   "source": [
    "print('Observed means:', df.groupby('Page').mean().values.ravel())\n",
    "observed_variance = df.groupby('Page').mean().var()[0]\n",
    "print('Variance:', observed_variance)"
   ]
  },
  {
   "cell_type": "code",
   "execution_count": 71,
   "id": "78408f19",
   "metadata": {},
   "outputs": [
    {
     "name": "stdout",
     "output_type": "stream",
     "text": [
      "13.586666666666622\n"
     ]
    }
   ],
   "source": [
    "# Permutation test example with stickiness\n",
    "def perm_test(df):\n",
    "    df = df.copy()\n",
    "    # Time 값을 섞어서, 4개의 Page에 할당 한다\n",
    "    df['Time'] = np.random.permutation(df['Time'].values)\n",
    "    return df.groupby('Page').mean().var()[0] # 평균의 분산 계산\n",
    "    \n",
    "print(perm_test(df))"
   ]
  },
  {
   "cell_type": "code",
   "execution_count": 72,
   "id": "b297aa34",
   "metadata": {},
   "outputs": [
    {
     "name": "stdout",
     "output_type": "stream",
     "text": [
      "Pr(Prob) 0.081\n"
     ]
    }
   ],
   "source": [
    "random.seed(1)\n",
    "perm_variance = [perm_test(df) for _ in range(3000)]\n",
    "print('Pr(Prob)', np.mean([var > observed_variance for var in perm_variance]))"
   ]
  },
  {
   "cell_type": "markdown",
   "id": "dd78feaa",
   "metadata": {},
   "source": [
    "- 0.05보다 크다, 네 페이지간의 차이가 우연히 발생 했다고 결론."
   ]
  },
  {
   "cell_type": "code",
   "execution_count": 73,
   "id": "624f6bf3",
   "metadata": {},
   "outputs": [
    {
     "data": {
      "image/png": "[encoded data removed]",
      "text/plain": [
       "<Figure size 500x500 with 1 Axes>"
      ]
     },
     "metadata": {},
     "output_type": "display_data"
    }
   ],
   "source": [
    "fig, ax = plt.subplots(figsize=(5, 5))\n",
    "ax.hist(perm_variance, bins=11, rwidth=0.9)\n",
    "ax.axvline(x = observed_variance, color='black', lw=2)\n",
    "# ax.text(60, 200, 'Observed\\nvariance', bbox={'facecolor':'white'})\n",
    "ax.set_xlabel('Variance')\n",
    "ax.set_ylabel('Frequency')\n",
    "\n",
    "plt.tight_layout()\n",
    "plt.show()"
   ]
  },
  {
   "cell_type": "markdown",
   "id": "308b884e",
   "metadata": {},
   "source": [
    "## F 통계량"
   ]
  },
  {
   "cell_type": "markdown",
   "id": "96ae24bc",
   "metadata": {},
   "source": [
    "- F 통계량 : F-statistic, 그룹 평균 간의 차이가 랜덤 모델에서 예상되는 것에서 벗어나는 정도를 측정하는 표준화된 통계량\n",
    "    - F = (Between-group variance) / (Within-group variance)\n",
    "    - \"Between-group variance\"는 각 그룹의 평균과 전체 데이터의 평균 간의 차이를 제곱한 값들의 합으로 나눈 것\n",
    "    - \"Within-group variance\"는 각 그룹 내 데이터의 분산을 합한 값으로 나눈 것\n",
    "- F 통계량이 클 수록 통계적으로 유의미 하다."
   ]
  },
  {
   "cell_type": "code",
   "execution_count": 74,
   "id": "819e12d0",
   "metadata": {},
   "outputs": [
    {
     "name": "stdout",
     "output_type": "stream",
     "text": [
      "            df  sum_sq     mean_sq         F    PR(>F)\n",
      "Page       3.0   831.4  277.133333  2.739825  0.077586\n",
      "Residual  16.0  1618.4  101.150000       NaN       NaN\n"
     ]
    }
   ],
   "source": [
    "import statsmodels.api as sm\n",
    "import statsmodels.formula.api as smf\n",
    "\n",
    "model = smf.ols('Time ~ Page', data=df).fit()\n",
    "                \n",
    "aov_table = sm.stats.anova_lm(model)\n",
    "print(aov_table)"
   ]
  },
  {
   "cell_type": "code",
   "execution_count": 75,
   "id": "2a2b2b90",
   "metadata": {},
   "outputs": [
    {
     "name": "stdout",
     "output_type": "stream",
     "text": [
      "F-Statistic: 2.7398\n",
      "p-value: 0.0776\n"
     ]
    }
   ],
   "source": [
    "from scipy import stats\n",
    "\n",
    "res = stats.f_oneway(df[df.Page == 'Page 1'].Time, \n",
    "                     df[df.Page == 'Page 2'].Time,\n",
    "                     df[df.Page == 'Page 3'].Time,\n",
    "                     df[df.Page == 'Page 4'].Time)\n",
    "print(f'F-Statistic: {res.statistic:.4f}')\n",
    "print(f'p-value: {res.pvalue:.4f}')"
   ]
  },
  {
   "cell_type": "markdown",
   "id": "a52c99db",
   "metadata": {},
   "source": [
    "- F 값을, 표준 F 분포와 비교하여 그룹 평균 간의 차이가 랜덤 변이에서 예상하는 것보다 큰지 여부 확인 가능\n",
    "\n",
    "<img src='./figs/ch3_f.jpeg' width=500>"
   ]
  },
  {
   "cell_type": "markdown",
   "id": "b95f6ab4",
   "metadata": {},
   "source": [
    "## 이원 분산분석"
   ]
  },
  {
   "cell_type": "markdown",
   "id": "4f2df95e",
   "metadata": {},
   "source": [
    "- 두 가지 요인(또는 변수)이 동시에 두 개 이상의 그룹 간 차이에 영향을 미치는지를 평가하는 통계 기법\n",
    "- 예\n",
    "    - 교육 수준과 성별에 따른 평균 성적의 차이 분석\n",
    "    - 신약 효과에 따른 투약 시점과 용량의 상호 작용 분석"
   ]
  },
  {
   "cell_type": "markdown",
   "id": "cd6397ca",
   "metadata": {},
   "source": [
    "# 카이제곱검정"
   ]
  },
  {
   "cell_type": "markdown",
   "id": "ee1d3602",
   "metadata": {},
   "source": [
    "- 카이제곱 검정\n",
    "    - 횟수 관련 데이터에 주로 사용\n",
    "    - 예상되는 분포에 얼마나 맞는지 검정\n",
    "    - 변수 간 독립성에 대한 귀무가설의 타당성 평가 (rxc 분할표)\n",
    "- 카이제곱통계량 : chi-square statistic, 기댓값으로 부터 어떤 관찰값까지의 거리를 나타내는 측정치"
   ]
  },
  {
   "cell_type": "markdown",
   "id": "f5352977",
   "metadata": {},
   "source": [
    "## 카이제곱검정 : 재표본추출 방법"
   ]
  },
  {
   "cell_type": "markdown",
   "id": "332ec2d8",
   "metadata": {},
   "source": [
    "- A, B, C 세 가지 헤드라인 비교, 1000명의 방문자\n",
    "- 차이가 있어 보임"
   ]
  },
  {
   "cell_type": "code",
   "execution_count": 76,
   "id": "4baffe8f",
   "metadata": {},
   "outputs": [
    {
     "data": {
      "text/html": [
       "<div>\n",
       "<style scoped>\n",
       "    .dataframe tbody tr th:only-of-type {\n",
       "        vertical-align: middle;\n",
       "    }\n",
       "\n",
       "    .dataframe tbody tr th {\n",
       "        vertical-align: top;\n",
       "    }\n",
       "\n",
       "    .dataframe thead th {\n",
       "        text-align: right;\n",
       "    }\n",
       "</style>\n",
       "<table border=\"1\" class=\"dataframe\">\n",
       "  <thead>\n",
       "    <tr style=\"text-align: right;\">\n",
       "      <th></th>\n",
       "      <th>Headline</th>\n",
       "      <th>Click</th>\n",
       "      <th>Rate</th>\n",
       "    </tr>\n",
       "  </thead>\n",
       "  <tbody>\n",
       "    <tr>\n",
       "      <th>0</th>\n",
       "      <td>Headline A</td>\n",
       "      <td>Click</td>\n",
       "      <td>14</td>\n",
       "    </tr>\n",
       "    <tr>\n",
       "      <th>1</th>\n",
       "      <td>Headline A</td>\n",
       "      <td>No-click</td>\n",
       "      <td>986</td>\n",
       "    </tr>\n",
       "    <tr>\n",
       "      <th>2</th>\n",
       "      <td>Headline B</td>\n",
       "      <td>Click</td>\n",
       "      <td>8</td>\n",
       "    </tr>\n",
       "    <tr>\n",
       "      <th>3</th>\n",
       "      <td>Headline B</td>\n",
       "      <td>No-click</td>\n",
       "      <td>992</td>\n",
       "    </tr>\n",
       "    <tr>\n",
       "      <th>4</th>\n",
       "      <td>Headline C</td>\n",
       "      <td>Click</td>\n",
       "      <td>12</td>\n",
       "    </tr>\n",
       "    <tr>\n",
       "      <th>5</th>\n",
       "      <td>Headline C</td>\n",
       "      <td>No-click</td>\n",
       "      <td>988</td>\n",
       "    </tr>\n",
       "  </tbody>\n",
       "</table>\n",
       "</div>"
      ],
      "text/plain": [
       "     Headline     Click  Rate\n",
       "0  Headline A     Click    14\n",
       "1  Headline A  No-click   986\n",
       "2  Headline B     Click     8\n",
       "3  Headline B  No-click   992\n",
       "4  Headline C     Click    12\n",
       "5  Headline C  No-click   988"
      ]
     },
     "execution_count": 76,
     "metadata": {},
     "output_type": "execute_result"
    }
   ],
   "source": [
    "click_rate = pd.read_csv('./datasets/click_rates.csv')\n",
    "click_rate"
   ]
  },
  {
   "cell_type": "code",
   "execution_count": 77,
   "id": "108dd925",
   "metadata": {},
   "outputs": [
    {
     "data": {
      "text/html": [
       "<div>\n",
       "<style scoped>\n",
       "    .dataframe tbody tr th:only-of-type {\n",
       "        vertical-align: middle;\n",
       "    }\n",
       "\n",
       "    .dataframe tbody tr th {\n",
       "        vertical-align: top;\n",
       "    }\n",
       "\n",
       "    .dataframe thead th {\n",
       "        text-align: right;\n",
       "    }\n",
       "</style>\n",
       "<table border=\"1\" class=\"dataframe\">\n",
       "  <thead>\n",
       "    <tr style=\"text-align: right;\">\n",
       "      <th>Headline</th>\n",
       "      <th>Headline A</th>\n",
       "      <th>Headline B</th>\n",
       "      <th>Headline C</th>\n",
       "    </tr>\n",
       "    <tr>\n",
       "      <th>Click</th>\n",
       "      <th></th>\n",
       "      <th></th>\n",
       "      <th></th>\n",
       "    </tr>\n",
       "  </thead>\n",
       "  <tbody>\n",
       "    <tr>\n",
       "      <th>Click</th>\n",
       "      <td>14</td>\n",
       "      <td>8</td>\n",
       "      <td>12</td>\n",
       "    </tr>\n",
       "    <tr>\n",
       "      <th>No-click</th>\n",
       "      <td>986</td>\n",
       "      <td>992</td>\n",
       "      <td>988</td>\n",
       "    </tr>\n",
       "  </tbody>\n",
       "</table>\n",
       "</div>"
      ],
      "text/plain": [
       "Headline  Headline A  Headline B  Headline C\n",
       "Click                                       \n",
       "Click             14           8          12\n",
       "No-click         986         992         988"
      ]
     },
     "metadata": {},
     "output_type": "display_data"
    }
   ],
   "source": [
    "clicks = click_rate.pivot(index='Click', columns='Headline', values='Rate')\n",
    "display(clicks)"
   ]
  },
  {
   "cell_type": "markdown",
   "id": "611a54c1",
   "metadata": {},
   "source": [
    "- 클릭의 '기대' 분포 \n",
    "- 귀무가설 : 동일한 클릭률"
   ]
  },
  {
   "cell_type": "code",
   "execution_count": 78,
   "id": "0b50b0aa",
   "metadata": {},
   "outputs": [
    {
     "data": {
      "text/html": [
       "<div>\n",
       "<style scoped>\n",
       "    .dataframe tbody tr th:only-of-type {\n",
       "        vertical-align: middle;\n",
       "    }\n",
       "\n",
       "    .dataframe tbody tr th {\n",
       "        vertical-align: top;\n",
       "    }\n",
       "\n",
       "    .dataframe thead th {\n",
       "        text-align: right;\n",
       "    }\n",
       "</style>\n",
       "<table border=\"1\" class=\"dataframe\">\n",
       "  <thead>\n",
       "    <tr style=\"text-align: right;\">\n",
       "      <th></th>\n",
       "      <th>Headline A</th>\n",
       "      <th>Headline B</th>\n",
       "      <th>Headline C</th>\n",
       "    </tr>\n",
       "    <tr>\n",
       "      <th>Click</th>\n",
       "      <th></th>\n",
       "      <th></th>\n",
       "      <th></th>\n",
       "    </tr>\n",
       "  </thead>\n",
       "  <tbody>\n",
       "    <tr>\n",
       "      <th>Click</th>\n",
       "      <td>11.333333</td>\n",
       "      <td>11.333333</td>\n",
       "      <td>11.333333</td>\n",
       "    </tr>\n",
       "    <tr>\n",
       "      <th>No-click</th>\n",
       "      <td>988.666667</td>\n",
       "      <td>988.666667</td>\n",
       "      <td>988.666667</td>\n",
       "    </tr>\n",
       "  </tbody>\n",
       "</table>\n",
       "</div>"
      ],
      "text/plain": [
       "          Headline A  Headline B  Headline C\n",
       "Click                                       \n",
       "Click      11.333333   11.333333   11.333333\n",
       "No-click  988.666667  988.666667  988.666667"
      ]
     },
     "execution_count": 78,
     "metadata": {},
     "output_type": "execute_result"
    }
   ],
   "source": [
    "# Table 3-5\n",
    "row_average = clicks.mean(axis=1)\n",
    "pd.DataFrame({\n",
    "    'Headline A': row_average,\n",
    "    'Headline B': row_average,\n",
    "    'Headline C': row_average,\n",
    "})"
   ]
  },
  {
   "cell_type": "markdown",
   "id": "93b3fcdf",
   "metadata": {},
   "source": [
    "- 피어슨 잔차 정의\n",
    "<img src='./figs/ch3_11.png' width=300>\n"
   ]
  },
  {
   "cell_type": "markdown",
   "id": "0f3a2bb8",
   "metadata": {},
   "source": [
    "- 피어슨 잔차\n",
    "<img src='./figs/ch3_12.png' width=500>"
   ]
  },
  {
   "cell_type": "markdown",
   "id": "35c8eb5d",
   "metadata": {},
   "source": [
    "- 카이제곱 통계량 : 피어슨 잔차들의 제곱합\n",
    "<img src='./figs/ch3_13.png' width=200>\n",
    "- r과 c는 각각 행과 열의 수\n",
    "- X = 1.6659"
   ]
  },
  {
   "cell_type": "code",
   "execution_count": 79,
   "id": "d02a1f0f",
   "metadata": {},
   "outputs": [
    {
     "name": "stdout",
     "output_type": "stream",
     "text": [
      "Observed chi2: 1.6659\n"
     ]
    }
   ],
   "source": [
    "# Resampling approach\n",
    "box = [1] * 34\n",
    "box.extend([0] * 2966)\n",
    "random.shuffle(box)\n",
    "\n",
    "def chi2(observed, expected):\n",
    "    pearson_residuals = []\n",
    "    for row, expect in zip(observed, expected):\n",
    "        pearson_residuals.append([(observe - expect) ** 2 / expect\n",
    "                                  for observe in row])\n",
    "    # return sum of squares\n",
    "    return np.sum(pearson_residuals)\n",
    "\n",
    "expected_clicks = 34 / 3\n",
    "expected_noclicks = 1000 - expected_clicks\n",
    "expected = [expected_clicks, expected_noclicks]\n",
    "chi2observed = chi2(clicks.values, expected)\n",
    "print(f'Observed chi2: {chi2observed:.4f}')"
   ]
  },
  {
   "cell_type": "markdown",
   "id": "5f59f02e",
   "metadata": {},
   "source": [
    "- 귀무가설로 부터 얻을 수 있는 값보다 크다고 할 수 있나\n",
    "    1. 34개의 1, 2966개의 0 이 들어 있는 상자\n",
    "    2. 상자를 섞은 다음, 1000개의 표본을 세번씩 나눠서 뽑는다\n",
    "    3. 얻은 횟수와 기대 횟수간의 피어슨 잔차의 제곱합을 구한다\n",
    "    4. 2~3단계를 1000번 반복\n",
    "    5. 제표본추출을 통해 얻은 편차의 제곱합이 얼마나 자주 관측값을 초과 하는가? 이것이 p 값"
   ]
  },
  {
   "cell_type": "code",
   "execution_count": 80,
   "id": "f30a833d",
   "metadata": {},
   "outputs": [
    {
     "name": "stdout",
     "output_type": "stream",
     "text": [
      "Resampled p-value: 0.4660\n"
     ]
    }
   ],
   "source": [
    "def perm_fun(box):\n",
    "    random.shuffle(box)\n",
    "    sample_clicks = [sum(box[0:1000]),\n",
    "                     sum(box[1000:2000]),\n",
    "                     sum(box[2000:3000])]\n",
    "    sample_noclicks = [1000 - n for n in sample_clicks]\n",
    "    return chi2([sample_clicks, sample_noclicks], expected)\n",
    "\n",
    "perm_chi2 = [perm_fun(box) for _ in range(2000)]\n",
    "\n",
    "resampled_p_value = sum(perm_chi2 > chi2observed) / len(perm_chi2)\n",
    "\n",
    "print(f'Resampled p-value: {resampled_p_value:.4f}')"
   ]
  },
  {
   "cell_type": "markdown",
   "id": "68cea572",
   "metadata": {},
   "source": [
    "## 카이제곱검정: 통계적 이론"
   ]
  },
  {
   "cell_type": "markdown",
   "id": "5e195e89",
   "metadata": {},
   "source": [
    "- 카이제곱통계량의 분포가 카이제곱분포로 근사 가능\n",
    "- 표준 카이제곱분포는 자유도에 의해 결정\n",
    "    - 자유도 = (r-1)x(c-1)"
   ]
  },
  {
   "cell_type": "code",
   "execution_count": 81,
   "id": "ea5d49a4",
   "metadata": {},
   "outputs": [
    {
     "data": {
      "text/plain": [
       "([1.0,\n",
       "  1.2929292929292928,\n",
       "  1.5858585858585859,\n",
       "  1.878787878787879,\n",
       "  2.1717171717171717],\n",
       " [28.828282828282827,\n",
       "  29.12121212121212,\n",
       "  29.414141414141415,\n",
       "  29.707070707070706,\n",
       "  30.0])"
      ]
     },
     "execution_count": 81,
     "metadata": {},
     "output_type": "execute_result"
    }
   ],
   "source": [
    "x = [1 + i * (30 - 1) / 99 for i in range(100)]\n",
    "x[:5], x[-5:]"
   ]
  },
  {
   "cell_type": "code",
   "execution_count": 82,
   "id": "48e60ff1",
   "metadata": {},
   "outputs": [
    {
     "data": {
      "image/png": "[encoded data removed]",
      "text/plain": [
       "<Figure size 400x250 with 1 Axes>"
      ]
     },
     "metadata": {},
     "output_type": "display_data"
    }
   ],
   "source": [
    "import matplotlib.pyplot as plt\n",
    "\n",
    "chi = pd.DataFrame({\n",
    "    'x': x,\n",
    "    'chi_1': stats.chi2.pdf(x, df=1),\n",
    "    'chi_2': stats.chi2.pdf(x, df=2),\n",
    "    'chi_5': stats.chi2.pdf(x, df=5),\n",
    "    'chi_10': stats.chi2.pdf(x, df=10),\n",
    "    'chi_20': stats.chi2.pdf(x, df=20),\n",
    "})\n",
    "fig, ax = plt.subplots(figsize=(4, 2.5))\n",
    "ax.plot(chi.x, chi.chi_1, color='black', linestyle='-', label='1')\n",
    "ax.plot(chi.x, chi.chi_2, color='black', linestyle=(0, (1, 1)), label='2')\n",
    "ax.plot(chi.x, chi.chi_5, color='black', linestyle=(0, (2, 1)), label='5')\n",
    "ax.plot(chi.x, chi.chi_10, color='black', linestyle=(0, (3, 1)), label='10')\n",
    "ax.plot(chi.x, chi.chi_20, color='black', linestyle=(0, (4, 1)), label='20')\n",
    "ax.legend(title='df')\n",
    "\n",
    "plt.tight_layout()\n",
    "plt.show()"
   ]
  },
  {
   "cell_type": "markdown",
   "id": "3537225a",
   "metadata": {},
   "source": [
    "- 관찰된 통계량이 카이제곱분포의 바깥쪽에 위치할 수록 p 값이 작아 진다.\n",
    "<img src='./figs/ch3_08.png' width=500>"
   ]
  },
  {
   "cell_type": "code",
   "execution_count": 83,
   "id": "0b99e122",
   "metadata": {},
   "outputs": [
    {
     "name": "stdout",
     "output_type": "stream",
     "text": [
      "p-value for chi-square test: 0.4348\n"
     ]
    }
   ],
   "source": [
    "from scipy.stats import chi2_contingency\n",
    "\n",
    "chi2, p_value, df, _ = chi2_contingency(clicks)\n",
    "\n",
    "# Resampled p-value: 0.4620\n",
    "print(f'p-value for chi-square test: {p_value:.4f}')"
   ]
  },
  {
   "cell_type": "markdown",
   "id": "9890c813",
   "metadata": {},
   "source": [
    "## 피셔의 정확검정"
   ]
  },
  {
   "cell_type": "markdown",
   "id": "cf4a00de",
   "metadata": {},
   "source": [
    "- 피셔의 정확성 검정(Fisher's Exact Test)은 통계학에서 사용되는 비모수적인 검정 방법 중 하나로, \n",
    "- 2x2 크로스테이블(분할표) 데이터에서 두 범주형 변수 간의 관계를 검증하는 데 사용됩니다. \n",
    "- 주로 작은 표본 크기나 드문 사건에 대한 분석에 적합한 방법입니다.\n",
    "- 가설\n",
    "    - 귀무가설(H0, Null Hypothesis): 두 변수는 독립적이다 (또는 관련성이 없다).\n",
    "    - 대립가설(H1, Alternative Hypothesis): 두 변수는 독립적이지 않다 (또는 관련성이 있다)."
   ]
  },
  {
   "cell_type": "markdown",
   "id": "15e18c32",
   "metadata": {},
   "source": [
    "## 데이터 과학과의 관련성"
   ]
  },
  {
   "cell_type": "markdown",
   "id": "2318b666",
   "metadata": {},
   "source": [
    "- 카이제곱검정이나 피셔의 검정은 어떤 효과가 실제인이 우연인지 알고 싶을 때 사용\n",
    "- 데이터 과학자에겐 최적의 처리 방법을 찾는 것이 중요\n",
    "- 검정력이나 표본크기 계산 가능\n",
    "- 머신러닝 등에서 특징 선택 등에 사용"
   ]
  },
  {
   "cell_type": "markdown",
   "id": "9b52ee97",
   "metadata": {},
   "source": [
    "# 멀티암드 밴딧 알고리즘"
   ]
  },
  {
   "cell_type": "markdown",
   "id": "460a2822",
   "metadata": {},
   "source": [
    "- 멀티암드 밴딧(MAB) : multi-armed bandit, 고객이 선택할 수 있는 손잡이가 여러 개인 가상의 슬롯머신, 각 손잡이는 각기 다른 수익, 다중 처리 실험에 대한 비유\n",
    "- 손잡이 : arm, 실험에서 어떤 하나의 처리 (예, 웹 테스트에서 헤드라인 A)\n",
    "- 수익 : win, 슬롯머신에서 딴 상금에 대한 실험적 비유 (예, 고객들의 링크 클릭 수)\n",
    "- 밴딧 : bandit, 강도, 슬롯머신, 도박꾼들이 지속적으로 돈을 잃게 되는 구조\n",
    "\n",
    "<img src='./figs/ch3_14.png' width=500>\n",
    "\n",
    "- Exploitation : 활용, 주어진 정보를 가지고 최선의 결정을 내리는 것, 예, 갔던 식당에 가는 것\n",
    "- Exploration : 탐색, 정보를 더 수집하는 것, 예, 새로운 식당에 가는 것"
   ]
  },
  {
   "cell_type": "markdown",
   "id": "c54fbd8c",
   "metadata": {},
   "source": [
    "- A/B 테스트는 수익이 낮은 것과 높은 것의 횟수 차이가 없다.\n",
    "    - 수익이 낮은 시도를 너무 많이 할 수 있다.\n",
    "- MAB는 실험 도중 얻은 정보로 수익이 낮은 쪽의 횟수가 줄이도록 표본 추출(학습)\n",
    "- 하지만 항상 가장 높은 것만 선택하지는 않는다 (exploit)\n",
    "- 두가지 이상의 처리에도 효과적\n",
    "- 추출 확률이 수익이 낮은 쪽에서 높은 쪽 으로 이동시키기 위한 다양한 알고리즘 존재\n",
    "\n",
    "<img src='./figs/ch3_15.png' width=500>"
   ]
  },
  {
   "cell_type": "markdown",
   "id": "2df32ec9",
   "metadata": {},
   "source": [
    "- 엡실론-그리디 알고리즘(epsilon-greedy algorithm)\n",
    "    - 0부터 1까지의 균등 분포의 난수 생성\n",
    "    - 이 숫자가 0과 엡실론(0과 1사이의 값으로 일반적으로 아주 작다) 사이에 존재 하면 동전 뒤집기 시행\n",
    "        - 그 결과 동전이 앞면이면 제안 A\n",
    "        - 뒷면이면 제안 B\n",
    "    - 숫자가 엡실론 보다 크면, 지금까지 가장 좋은 결과를 보인 제안(A 혹은 B) 표시\n",
    "    \n",
    "- Greedy Algorithm\n",
    "    - 미래를 생각하지 않고 각 단계에서 가장 최선의 선택을 하는 기법\n",
    "    - 각 단계에서 최선의 선택을 한 것이 전체적으로도 최선이길 바라는 알고리즘"
   ]
  },
  {
   "cell_type": "markdown",
   "id": "f364ad31",
   "metadata": {},
   "source": [
    "# 검정력과 표본크기"
   ]
  },
  {
   "cell_type": "markdown",
   "id": "a5c8dc60",
   "metadata": {},
   "source": [
    "- 효과크기 : effect size, '클릭률의 20% 향상'과 같이 통계 검정을 통해 판단할 수 있는 효과의 최소 크기\n",
    "- 검정력 : power, 주어진 표본크기로 주어진 효과크기를 알아낼 확률\n",
    "    - 25 타석에서 3할 3분 타자와 2할 타자를 구분할 확률이 0.75, 효과크기는 1할 3푼의 타율 차이 (0.130)\n",
    "    - 두 타자를 대상으로 25타석(n=25) 실험은 0.130의 효과 크기에 대해 0.75의 검정력을 가진다.\n",
    "- 유의수준 : significance level, 검증에 사용할 통계 유의 수준\n",
    "\n",
    "<img src='./figs/ch3_17.png' width=600>\n",
    "\n",
    "[소스](https://www.researchgate.net/figure/Power-curves-and-sample-size-estimation-under-different-views-of-effect-sizes-The_fig4_24263401)\n",
    "\n",
    "- 작은 차이(effect size) 검증에는 더 많은 샘플 필요 (눈에 확 띄지 않으니까)\n",
    "- 검정력을 높이려면 더 많은 샘플 필요"
   ]
  },
  {
   "cell_type": "markdown",
   "id": "531be804",
   "metadata": {},
   "source": [
    "## 표본크기"
   ]
  },
  {
   "cell_type": "markdown",
   "id": "55b8519d",
   "metadata": {},
   "source": [
    "- 검정력 혹은 필요한 표본크기 계산에 중요한 요소\n",
    "    - 통계적 실험전에 필요한 '표본크기'를 고려\n",
    "    - 검증하고자 하는 '효과크기' 선택\n",
    "    - 효과크기를 검증에 요구되는 확률('검정력') 지정\n",
    "    - 수행할 가설검정의 '유의수준' 선정        \n",
    "- 네가지 중 세가지를 알면 된다.  (보통은 표본크기를 알고 싶어 함)"
   ]
  },
  {
   "cell_type": "code",
   "execution_count": 84,
   "id": "ba4800c8",
   "metadata": {},
   "outputs": [
    {
     "name": "stdout",
     "output_type": "stream",
     "text": [
      "효과크기:  0.0011000000000000003 Sample Size: 116602.391\n"
     ]
    },
    {
     "name": "stderr",
     "output_type": "stream",
     "text": [
      "/home/restful3/anaconda3/envs/trading/lib/python3.10/site-packages/scipy/stats/_continuous_distns.py:6832: RuntimeWarning: invalid value encountered in _nct_sf\n",
      "  return np.clip(_boost._nct_sf(x, df, nc), 0, 1)\n"
     ]
    }
   ],
   "source": [
    "effect_size = sm.stats.proportion_effectsize(0.0121, 0.011) #효과 크기\n",
    "analysis = sm.stats.TTestIndPower() # 표본크기 계산\n",
    "result = analysis.solve_power(effect_size=effect_size, \n",
    "                              alpha=0.05, power=0.8, alternative='larger')\n",
    "print('효과크기: ', 0.0121 - 0.011, 'Sample Size: %.3f' % result)"
   ]
  },
  {
   "cell_type": "code",
   "execution_count": 85,
   "id": "a3705262",
   "metadata": {},
   "outputs": [
    {
     "name": "stdout",
     "output_type": "stream",
     "text": [
      "효과크기:  0.005500000000000001 Sample Size: 5488.408\n"
     ]
    }
   ],
   "source": [
    "effect_size = sm.stats.proportion_effectsize(0.0165, 0.011)  #효과 크기\n",
    "analysis = sm.stats.TTestIndPower() # 표본크기 계산\n",
    "result = analysis.solve_power(effect_size=effect_size, \n",
    "                              alpha=0.05, power=0.8, alternative='larger')\n",
    "print('효과크기: ', 0.0165 - 0.011, 'Sample Size: %.3f' % result)"
   ]
  },
  {
   "cell_type": "markdown",
   "id": "3ea55e3f",
   "metadata": {},
   "source": [
    "# 마치며"
   ]
  },
  {
   "cell_type": "markdown",
   "id": "361fa41c",
   "metadata": {},
   "source": [
    "- 가설검정, p 값, t 검정 등은 통계 강의의 가장 많은 부분을 차지\n",
    "- 데이터 과학의 입장에서는, 순열검정, 부트스트랩을 통헤 우연에 의한 변이가 어느 정도 영향을 미치는지 측정 가능"
   ]
  }
 ],
 "metadata": {
  "kernelspec": {
   "display_name": "Python 3 (ipykernel)",
   "language": "python",
   "name": "python3"
  },
  "language_info": {
   "codemirror_mode": {
    "name": "ipython",
    "version": 3
   },
   "file_extension": ".py",
   "mimetype": "text/x-python",
   "name": "python",
   "nbconvert_exporter": "python",
   "pygments_lexer": "ipython3",
   "version": "3.10.9"
  },
  "toc": {
   "base_numbering": 1,
   "nav_menu": {},
   "number_sections": true,
   "sideBar": true,
   "skip_h1_title": false,
   "title_cell": "Table of Contents",
   "title_sidebar": "Contents",
   "toc_cell": false,
   "toc_position": {
    "height": "calc(100% - 180px)",
    "left": "10px",
    "top": "150px",
    "width": "341.326px"
   },
   "toc_section_display": true,
   "toc_window_display": false
  }
 },
 "nbformat": 4,
 "nbformat_minor": 5
}
