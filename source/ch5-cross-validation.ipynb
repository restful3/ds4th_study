{
 "cells": [
  {
   "cell_type": "markdown",
   "id": "05d5d413",
   "metadata": {
    "papermill": {
     "duration": 0.006391,
     "end_time": "2021-11-09T14:57:00.362697",
     "exception": false,
     "start_time": "2021-11-09T14:57:00.356306",
     "status": "completed"
    },
    "tags": []
   },
   "source": [
    "# 5.5 교차 검증"
   ]
  },
  {
   "cell_type": "markdown",
   "id": "4d02fa2a",
   "metadata": {
    "papermill": {
     "duration": 0.004717,
     "end_time": "2021-11-09T14:57:00.375435",
     "exception": false,
     "start_time": "2021-11-09T14:57:00.370718",
     "status": "completed"
    },
    "tags": []
   },
   "source": [
    "## 5.5.1 K 폴드 교차 검증"
   ]
  },
  {
   "cell_type": "code",
   "execution_count": 1,
   "id": "57c62f7f",
   "metadata": {
    "execution": {
     "iopub.execute_input": "2021-11-09T14:57:00.390875Z",
     "iopub.status.busy": "2021-11-09T14:57:00.389789Z",
     "iopub.status.idle": "2021-11-09T14:57:01.350505Z",
     "shell.execute_reply": "2021-11-09T14:57:01.349836Z",
     "shell.execute_reply.started": "2021-11-09T14:56:30.565737Z"
    },
    "papermill": {
     "duration": 0.970087,
     "end_time": "2021-11-09T14:57:01.350710",
     "exception": false,
     "start_time": "2021-11-09T14:57:00.380623",
     "status": "completed"
    },
    "tags": []
   },
   "outputs": [
    {
     "name": "stdout",
     "output_type": "stream",
     "text": [
      "훈련 데이터: [2 3 4 5 6 7 8 9], 검증 데이터: [0 1]\n",
      "훈련 데이터: [0 1 4 5 6 7 8 9], 검증 데이터: [2 3]\n",
      "훈련 데이터: [0 1 2 3 6 7 8 9], 검증 데이터: [4 5]\n",
      "훈련 데이터: [0 1 2 3 4 5 8 9], 검증 데이터: [6 7]\n",
      "훈련 데이터: [0 1 2 3 4 5 6 7], 검증 데이터: [8 9]\n"
     ]
    }
   ],
   "source": [
    "import numpy as np\n",
    "from sklearn.model_selection import KFold\n",
    "\n",
    "data = np.array([0, 1, 2, 3, 4, 5, 6, 7, 8, 9])\n",
    "\n",
    "folds = KFold(n_splits=5, shuffle=False)\n",
    "\n",
    "for train_idx, valid_idx in folds.split(data):\n",
    "    print(f'훈련 데이터: {data[train_idx]}, 검증 데이터: {data[valid_idx]}')"
   ]
  },
  {
   "cell_type": "code",
   "execution_count": 2,
   "id": "dec95d37",
   "metadata": {
    "execution": {
     "iopub.execute_input": "2021-11-09T14:57:01.370279Z",
     "iopub.status.busy": "2021-11-09T14:57:01.369588Z",
     "iopub.status.idle": "2021-11-09T14:57:01.372800Z",
     "shell.execute_reply": "2021-11-09T14:57:01.373226Z",
     "shell.execute_reply.started": "2021-11-09T14:56:31.482462Z"
    },
    "papermill": {
     "duration": 0.017074,
     "end_time": "2021-11-09T14:57:01.373391",
     "exception": false,
     "start_time": "2021-11-09T14:57:01.356317",
     "status": "completed"
    },
    "tags": []
   },
   "outputs": [
    {
     "name": "stdout",
     "output_type": "stream",
     "text": [
      "훈련 데이터: [0 1 2 3 4 5 6 9], 검증 데이터: [7 8]\n",
      "훈련 데이터: [1 2 3 5 6 7 8 9], 검증 데이터: [0 4]\n",
      "훈련 데이터: [0 3 4 5 6 7 8 9], 검증 데이터: [1 2]\n",
      "훈련 데이터: [0 1 2 3 4 5 7 8], 검증 데이터: [6 9]\n",
      "훈련 데이터: [0 1 2 4 6 7 8 9], 검증 데이터: [3 5]\n"
     ]
    }
   ],
   "source": [
    "folds = KFold(n_splits=5, shuffle=True)\n",
    "\n",
    "for train_idx, valid_idx in folds.split(data):\n",
    "    print(f'훈련 데이터: {data[train_idx]}, 검증 데이터: {data[valid_idx]}')"
   ]
  },
  {
   "cell_type": "markdown",
   "id": "82bf0677",
   "metadata": {
    "papermill": {
     "duration": 0.005081,
     "end_time": "2021-11-09T14:57:01.386051",
     "exception": false,
     "start_time": "2021-11-09T14:57:01.380970",
     "status": "completed"
    },
    "tags": []
   },
   "source": [
    "## 5.5.2 층화 K 폴드 교차 검증"
   ]
  },
  {
   "cell_type": "code",
   "execution_count": 3,
   "id": "dfa03eaa",
   "metadata": {
    "execution": {
     "iopub.execute_input": "2021-11-09T14:57:01.404995Z",
     "iopub.status.busy": "2021-11-09T14:57:01.403963Z",
     "iopub.status.idle": "2021-11-09T14:57:01.408344Z",
     "shell.execute_reply": "2021-11-09T14:57:01.408818Z",
     "shell.execute_reply.started": "2021-11-09T14:56:31.493077Z"
    },
    "papermill": {
     "duration": 0.017544,
     "end_time": "2021-11-09T14:57:01.408985",
     "exception": false,
     "start_time": "2021-11-09T14:57:01.391441",
     "status": "completed"
    },
    "tags": []
   },
   "outputs": [
    {
     "name": "stdout",
     "output_type": "stream",
     "text": [
      "Fold 1 검증 데이터 타깃 값:\n",
      "['스팸' '스팸' '일반' '일반' '일반' '일반' '일반' '일반' '일반' '일반'] \n",
      "\n",
      "Fold 2 검증 데이터 타깃 값:\n",
      "['스팸' '일반' '일반' '일반' '일반' '일반' '일반' '일반' '일반' '일반'] \n",
      "\n",
      "Fold 3 검증 데이터 타깃 값:\n",
      "['스팸' '일반' '일반' '일반' '일반' '일반' '일반' '일반' '일반' '일반'] \n",
      "\n",
      "Fold 4 검증 데이터 타깃 값:\n",
      "['스팸' '일반' '일반' '일반' '일반' '일반' '일반' '일반' '일반' '일반'] \n",
      "\n",
      "Fold 5 검증 데이터 타깃 값:\n",
      "['일반' '일반' '일반' '일반' '일반' '일반' '일반' '일반' '일반' '일반'] \n",
      "\n"
     ]
    }
   ],
   "source": [
    "y = np.array(['스팸']*5 + ['일반']*45)\n",
    "\n",
    "folds = KFold(n_splits=5, shuffle=True) # K 폴드 교차 검증\n",
    "\n",
    "for idx, (train_idx, valid_idx) in enumerate(folds.split(y)):\n",
    "    print(f'Fold {idx+1} 검증 데이터 타깃 값:')\n",
    "    print(y[valid_idx], '\\n')"
   ]
  },
  {
   "cell_type": "code",
   "execution_count": 4,
   "id": "55348712",
   "metadata": {
    "_cell_guid": "79c7e3d0-c299-4dcb-8224-4455121ee9b0",
    "_uuid": "d629ff2d2480ee46fbb7e2d37f6b5fab8052498a",
    "execution": {
     "iopub.execute_input": "2021-11-09T14:57:01.427069Z",
     "iopub.status.busy": "2021-11-09T14:57:01.426359Z",
     "iopub.status.idle": "2021-11-09T14:57:01.435002Z",
     "shell.execute_reply": "2021-11-09T14:57:01.434205Z",
     "shell.execute_reply.started": "2021-11-09T14:56:31.505691Z"
    },
    "papermill": {
     "duration": 0.02051,
     "end_time": "2021-11-09T14:57:01.435233",
     "exception": false,
     "start_time": "2021-11-09T14:57:01.414723",
     "status": "completed"
    },
    "tags": []
   },
   "outputs": [
    {
     "name": "stdout",
     "output_type": "stream",
     "text": [
      "Fold 1 검증 데이터 타깃 값:\n",
      "['스팸' '일반' '일반' '일반' '일반' '일반' '일반' '일반' '일반' '일반'] \n",
      "\n",
      "Fold 2 검증 데이터 타깃 값:\n",
      "['스팸' '일반' '일반' '일반' '일반' '일반' '일반' '일반' '일반' '일반'] \n",
      "\n",
      "Fold 3 검증 데이터 타깃 값:\n",
      "['스팸' '일반' '일반' '일반' '일반' '일반' '일반' '일반' '일반' '일반'] \n",
      "\n",
      "Fold 4 검증 데이터 타깃 값:\n",
      "['스팸' '일반' '일반' '일반' '일반' '일반' '일반' '일반' '일반' '일반'] \n",
      "\n",
      "Fold 5 검증 데이터 타깃 값:\n",
      "['스팸' '일반' '일반' '일반' '일반' '일반' '일반' '일반' '일반' '일반'] \n",
      "\n"
     ]
    }
   ],
   "source": [
    "from sklearn.model_selection import StratifiedKFold\n",
    "\n",
    "X = np.array(range(50))\n",
    "y = np.array(['스팸']*5 + ['일반']*45)\n",
    "\n",
    "folds = StratifiedKFold(n_splits=5) # '층화' K 폴드 교차 검증\n",
    "\n",
    "for idx, (train_idx, valid_idx) in enumerate(folds.split(X, y)):\n",
    "    print(f'Fold {idx+1} 검증 데이터 타깃 값:')\n",
    "    print(y[valid_idx], '\\n')"
   ]
  }
 ],
 "metadata": {
  "kernelspec": {
   "display_name": "Python 3",
   "language": "python",
   "name": "python3"
  },
  "language_info": {
   "codemirror_mode": {
    "name": "ipython",
    "version": 3
   },
   "file_extension": ".py",
   "mimetype": "text/x-python",
   "name": "python",
   "nbconvert_exporter": "python",
   "pygments_lexer": "ipython3",
   "version": "3.7.10"
  },
  "papermill": {
   "default_parameters": {},
   "duration": 10.185911,
   "end_time": "2021-11-09T14:57:02.151589",
   "environment_variables": {},
   "exception": null,
   "input_path": "__notebook__.ipynb",
   "output_path": "__notebook__.ipynb",
   "parameters": {},
   "start_time": "2021-11-09T14:56:51.965678",
   "version": "2.3.3"
  }
 },
 "nbformat": 4,
 "nbformat_minor": 5
}
